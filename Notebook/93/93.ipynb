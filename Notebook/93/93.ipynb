{
 "cells": [
  {
   "cell_type": "code",
   "execution_count": 1,
   "id": "44879a8d",
   "metadata": {},
   "outputs": [],
   "source": [
    "import gc\n",
    "import os\n",
    "import sys\n",
    "import math\n",
    "import random\n",
    "import warnings\n",
    "import pickle\n",
    "from pathlib import Path\n",
    "from joblib import Parallel, delayed\n",
    "from statsmodels.tsa.deterministic import (CalendarFourier,\n",
    "                                           CalendarSeasonality,\n",
    "                                           CalendarTimeTrend,\n",
    "                                           DeterministicProcess)\n",
    "import pickle\n",
    "import optuna\n",
    "from tqdm import tqdm\n",
    "import os\n",
    "import ipywidgets as widgets\n",
    "import matplotlib.pyplot as plt\n",
    "import numpy as np\n",
    "import pandas as pd\n",
    "import seaborn as sns\n",
    "# from pandarallel import pandarallel\n",
    "# pandarallel.initialize()\n",
    "warnings.simplefilter(\"ignore\")\n",
    "import ctypes as ct\n",
    "from datetime import timedelta\n",
    "\n",
    "from sklearn.metrics import mean_absolute_error\n",
    "\n",
    "import statistics as st\n",
    "import lightgbm as lgbm\n",
    "from scipy.stats import norm"
   ]
  },
  {
   "cell_type": "code",
   "execution_count": 2,
   "id": "6c6d2c1e",
   "metadata": {},
   "outputs": [],
   "source": [
    "sys.path.append('../../')\n",
    "import src.utils as utils"
   ]
  },
  {
   "cell_type": "markdown",
   "id": "6717f778",
   "metadata": {},
   "source": [
    "## Param"
   ]
  },
  {
   "cell_type": "code",
   "execution_count": 3,
   "id": "9ff09884",
   "metadata": {},
   "outputs": [],
   "source": [
    "EXP_NUM = 93\n",
    "NFOLDS = 5\n",
    "SEED = 42\n",
    "TRAIN_DATE = 'date < 20210601'"
   ]
  },
  {
   "cell_type": "code",
   "execution_count": 4,
   "id": "047021c8",
   "metadata": {},
   "outputs": [],
   "source": [
    "# def set_seed(seed: int = 42):\n",
    "#     random.seed(seed)\n",
    "#     np.random.seed(seed)\n",
    "#     os.environ[\"PYTHONHASHSEED\"] = str(seed)\n",
    "#     torch.manual_seed(seed)\n",
    "#     torch.cuda.manual_seed(seed)  # type: ignore\n",
    "#     torch.backends.cudnn.deterministic = True  # type: ignore\n",
    "#     torch.backends.cudnn.benchmark = False  # type: ignore\n",
    "# set_seed(SEED)"
   ]
  },
  {
   "cell_type": "markdown",
   "id": "4c98ea1f",
   "metadata": {},
   "source": [
    "## Dir"
   ]
  },
  {
   "cell_type": "code",
   "execution_count": 5,
   "id": "b1a896a6",
   "metadata": {},
   "outputs": [],
   "source": [
    "DATA_DIR = Path(\"/home/knikaido/work/MLB-Player-Digital-Engagement-Forecasting/data/\")\n",
    "MAIN_DATA_DIR = DATA_DIR / 'mlb-player-digital-engagement-forecasting-update'\n",
    "TRAIN_DIR = MAIN_DATA_DIR / 'train'\n",
    "OUTPUT_DIR = Path('./output/')"
   ]
  },
  {
   "cell_type": "code",
   "execution_count": 6,
   "id": "c79a19c3",
   "metadata": {},
   "outputs": [],
   "source": [
    "players = pd.read_csv(MAIN_DATA_DIR / 'players.csv')\n",
    "seasons = pd.read_csv(MAIN_DATA_DIR / 'seasons.csv')\n",
    "teams = pd.read_csv(MAIN_DATA_DIR / 'teams.csv')\n",
    "\n",
    "rosters = pd.read_csv(TRAIN_DIR / 'rosters_train.csv').query(TRAIN_DATE)\n",
    "targets = pd.read_csv(TRAIN_DIR / 'nextDayPlayerEngagement_train.csv').query(TRAIN_DATE)\n",
    "scores = pd.read_csv(TRAIN_DIR / 'playerBoxScores_train.csv').query(TRAIN_DATE)\n",
    "scores = scores.groupby(['playerId', 'date']).sum().reset_index()\n",
    "standings = pd.read_csv(TRAIN_DIR / 'standings_train.csv').query(TRAIN_DATE)\n",
    "playerTwitterFollowers = pd.read_csv(TRAIN_DIR / 'playerTwitterFollowers_train.csv').query(TRAIN_DATE)\n",
    "awards = pd.read_csv(TRAIN_DIR / 'awards_train.csv').query(TRAIN_DATE)\n"
   ]
  },
  {
   "cell_type": "code",
   "execution_count": 7,
   "id": "e8306922",
   "metadata": {},
   "outputs": [],
   "source": [
    "train_elements_dict = {\"players\":players, \n",
    "                       \"rosters\":rosters, \n",
    "                       \"targets\":targets, \n",
    "                       \"scores\":scores, \n",
    "                       \"seasons\":seasons, \n",
    "                       \"teams\":teams, \n",
    "                       \"standings\":standings,\n",
    "                       'awards':awards}"
   ]
  },
  {
   "cell_type": "code",
   "execution_count": 8,
   "id": "511e8211",
   "metadata": {},
   "outputs": [],
   "source": [
    "def map_team_name(name):\n",
    "    names = name.split('-')\n",
    "    result = ''\n",
    "    for n in names:\n",
    "        if n == 'st':\n",
    "            n = 'st.'\n",
    "        result += f' {n.capitalize()}'\n",
    "\n",
    "    return result[1:]"
   ]
  },
  {
   "cell_type": "code",
   "execution_count": 9,
   "id": "171366bb",
   "metadata": {},
   "outputs": [],
   "source": [
    "def calc_corr(df):\n",
    "    # 相関係数行列を作成\n",
    "    corr_mat = df.corr(method='pearson')\n",
    "\n",
    "    # 行（列）サイズを取得\n",
    "    n = corr_mat.shape[0]\n",
    "    corr_ary = []\n",
    "\n",
    "    for i in range(n):\n",
    "        for j in range(i):\n",
    "            if i == j:\n",
    "                continue\n",
    "            corr_ary.append(corr_mat.iloc[i,j])\n",
    "\n",
    "    return corr_ary"
   ]
  },
  {
   "cell_type": "code",
   "execution_count": 10,
   "id": "df902ec8",
   "metadata": {},
   "outputs": [],
   "source": [
    "def calc_probs(pid,df,temp):\n",
    "    to_append=[pid,'','','','','','','','','','','','','','','','','','','','','','','','','','','','','','','','','','']\n",
    "    targets=['target1','target2','target3','target4']\n",
    "    z=1\n",
    "    for target in targets:\n",
    "        target_prob = temp[target].tolist()\n",
    "        mean = np.mean(target_prob)\n",
    "        std = np.std(target_prob)\n",
    "        median = st.median(target_prob)\n",
    "        distribution = norm(mean, std)\n",
    "        min_weight = min(target_prob)\n",
    "        max_weight = max(target_prob)\n",
    "        values = list(np.linspace(min_weight, max_weight))\n",
    "        probabilities = [distribution.pdf(v) for v in values]\n",
    "        max_value = max(probabilities)\n",
    "        max_index = probabilities.index(max_value)\n",
    "        to_append[z]=mean\n",
    "        to_append[z+1]=median\n",
    "        to_append[z+2]=std\n",
    "        to_append[z+3]=min_weight\n",
    "        to_append[z+4]=max_weight\n",
    "        to_append[z+5]=temp[target].skew()\n",
    "        to_append[z+6]=temp[target].kurt()\n",
    "\n",
    "        z=z+7\n",
    "    corr_ = calc_corr(temp[['target1', 'target2', 'target3', 'target4']])\n",
    "    to_append[z:] = corr_  \n",
    "    df_length = len(df)\n",
    "    df.loc[df_length] = to_append\n",
    "    return df"
   ]
  },
  {
   "cell_type": "code",
   "execution_count": 11,
   "id": "e3420a0b",
   "metadata": {},
   "outputs": [],
   "source": [
    "def count_consecutive_items_n_cols(df, col_name_list, output_col):\n",
    "    cum_sum_list = [\n",
    "        (df[col_name] != df[col_name].shift(1)).cumsum().tolist() for col_name in col_name_list\n",
    "    ]\n",
    "    df[output_col] = df.groupby(\n",
    "        [\"_\".join(map(str, x)) for x in zip(*cum_sum_list)]\n",
    "    ).cumcount() + 1\n",
    "    return df"
   ]
  },
  {
   "cell_type": "code",
   "execution_count": 12,
   "id": "9b730cec",
   "metadata": {},
   "outputs": [],
   "source": [
    "def extract_season(date_raw, season_start_end):\n",
    "    idxes = 0\n",
    "    for raw in season_start_end.iloc():\n",
    "        idx_ = ((date_raw >= raw.iloc[0]) & (date_raw <= raw.iloc[1])) * 1\n",
    "        idxes += idx_\n",
    "    return idxes"
   ]
  },
  {
   "cell_type": "code",
   "execution_count": 13,
   "id": "eb864ffe",
   "metadata": {},
   "outputs": [],
   "source": [
    "def fit_lgbm(x_train, y_train, x_valid, y_valid, verbose=100):\n",
    "    def opt(trial):\n",
    "        params = {\n",
    "                'random_state': SEED,\n",
    "                'objective':'mae',\n",
    "                'n_estimators': 10000,\n",
    "                'learning_rate': 0.1,\n",
    "                'max_depth': trial.suggest_int('max_depth', 1, 20),\n",
    "                'min_child_weight': trial.suggest_int('min_child_weight', 1, 20),\n",
    "                'subsample': trial.suggest_discrete_uniform('subsample', 0.5, 0.9, 0.1),\n",
    "                'colsample_bytree': trial.suggest_discrete_uniform('colsample_bytree', 0.5, 0.9, 0.1),\n",
    "                'reg_lambda': trial.suggest_loguniform('reg_lambda', 1e-3, 1e3),\n",
    "                'reg_alpha': trial.suggest_loguniform('reg_alpha', 1e-3, 1e3),\n",
    "                'feature_fraction': trial.suggest_uniform('feature_fraction', 0.2, 1.0),\n",
    "                'bagging_fraction': trial.suggest_uniform('bagging_fraction', 0.2, 1.0),\n",
    "                'bagging_freq': trial.suggest_int('bagging_freq', 1, 20),\n",
    "                'num_leaves': trial.suggest_int('num_leaves', 10, 1000),\n",
    "                'min_child_samples': trial.suggest_int('min_child_samples', 5, 100)\n",
    "        }\n",
    "\n",
    "        model_opt = lgbm.LGBMRegressor(**params)\n",
    "\n",
    "        model_opt.fit(x_train, y_train, \n",
    "            eval_set=[(x_train, y_train), (x_valid, y_valid)],  \n",
    "            early_stopping_rounds=verbose, \n",
    "            verbose=verbose)\n",
    "        oof_pred = model_opt.predict(x_valid)\n",
    "        oof_pred = np.clip(oof_pred, 0, 100)\n",
    "        score = mean_absolute_error(oof_pred, y_valid)\n",
    "        return -score\n",
    "    return opt"
   ]
  },
  {
   "cell_type": "code",
   "execution_count": 14,
   "id": "10fb1fba",
   "metadata": {},
   "outputs": [],
   "source": [
    "# def fit_lgbm(x_train, y_train, x_valid, y_valid, params: dict=None, verbose=100):\n",
    "#     oof_pred = np.zeros(len(y_valid), dtype=np.float32)\n",
    "#     model = lgbm.LGBMRegressor(**params)\n",
    "#     model.fit(x_train, y_train, \n",
    "#         eval_set=[(x_valid, y_valid)],  \n",
    "#         early_stopping_rounds=verbose, \n",
    "#         verbose=verbose)\n",
    "#     oof_pred = model.predict(x_valid)\n",
    "#     oof_pred = np.clip(oof_pred, 0, 100)\n",
    "#     score = mean_absolute_error(oof_pred, y_valid)\n",
    "#     print('mae:', score)\n",
    "#     return oof_pred, model, score"
   ]
  },
  {
   "cell_type": "code",
   "execution_count": 15,
   "id": "b3aebc24",
   "metadata": {},
   "outputs": [],
   "source": [
    "def my_timeseries_fold(train):\n",
    "    \n",
    "    tr_idxs = []\n",
    "    val_idxs = []\n",
    "    \n",
    "    tr_idx = (train['date'].astype(int) < 20200701)\n",
    "    val_idx = (train['date'].astype(int) >= 20200701) & (train['date'].astype(int) < 20200801)\n",
    "    tr_idxs.append(tr_idx)\n",
    "    val_idxs.append(val_idx)\n",
    "        \n",
    "    tr_idx = (train['date'].astype(int) < 20200801)\n",
    "    val_idx = (train['date'].astype(int) >= 20200801) & (train['date'].astype(int) < 20200901)\n",
    "    tr_idxs.append(tr_idx)\n",
    "    val_idxs.append(val_idx)\n",
    "\n",
    "    tr_idx = (train['date'].astype(int) < 20200901)\n",
    "    val_idx = (train['date'].astype(int) >= 20200901) & (train['date'].astype(int) < 20201001)\n",
    "    tr_idxs.append(tr_idx)\n",
    "    val_idxs.append(val_idx)\n",
    "    \n",
    "    tr_idx = (train['date'].astype(int) < 20210401)\n",
    "    val_idx = (train['date'].astype(int) >= 20210401) & (train['date'].astype(int) < 20210501)\n",
    "    tr_idxs.append(tr_idx)\n",
    "    val_idxs.append(val_idx)\n",
    "\n",
    "    tr_idx = (train['date'].astype(int) < 20210501)\n",
    "    val_idx = (train['date'].astype(int) >= 20210501) & (train['date'].astype(int) < 20210601)\n",
    "    tr_idxs.append(tr_idx)\n",
    "    val_idxs.append(val_idx)\n",
    "    \n",
    "    \n",
    "    return tr_idxs, val_idxs"
   ]
  },
  {
   "cell_type": "code",
   "execution_count": 16,
   "id": "72b1cff1",
   "metadata": {},
   "outputs": [],
   "source": [
    "class Rt4kaidoTrain:\n",
    "    def __init__(self, usetimelinefeature=False):\n",
    "        \n",
    "        self.usetimelinefeature = usetimelinefeature\n",
    "        self.targets_cols = ['playerId', 'target1', 'target2', 'target3', 'target4', 'date']\n",
    "        self.players_cols = ['playerId', 'primaryPositionName', 'birthCity', 'DOY', 'mlbDebutYear', 'mlbDebutDate', 'DebutAge', 'heightInches', 'weight', 'playerForTestSetAndFuturePreds']\n",
    "        self.rosters_cols = ['playerId', 'teamId', 'status', 'date']\n",
    "        self.salaries_cols = ['teamId', 'salary', 'year']\n",
    "        self.standings_cols = ['teamId', 'wildCardRank', 'sportGamesBack', 'date']\n",
    "        self.transactions_cols = ['playerId', 'transaction_flag', 'date']\n",
    "        self.stat_cols = [\"playerId\", \"target1_mean\",\"target1_median\",\"target1_std\",\"target1_min\",\"target1_max\",\"target1_skew\",\"target1_kurt\",\n",
    "                        \"target2_mean\",\"target2_median\",\"target2_std\",\"target2_min\",\"target2_max\",\"target2_skew\",\"target2_kurt\",\n",
    "                        \"target3_mean\",\"target3_median\",\"target3_std\",\"target3_min\",\"target3_max\",\"target3_skew\",\"target3_kurt\",\n",
    "                        \"target4_mean\",\"target4_median\",\"target4_std\",\"target4_min\",\"target4_max\",\"target4_skew\",\"target4_kurt\",\n",
    "                        'tgt1_2_corr', 'tgt1_3_corr', 'tgt2_3_corr', 'tgt1_4_corr', 'tgt2_4_corr', 'tgt3_4_corr']\n",
    "\n",
    "        self.scores_cols = ['playerId', 'battingOrder', 'gamesPlayedBatting', 'flyOuts',\n",
    "               'groundOuts', 'runsScored', 'doubles', 'triples', 'homeRuns',\n",
    "               'strikeOuts', 'baseOnBalls', 'intentionalWalks', 'hits', 'hitByPitch',\n",
    "               'atBats', 'caughtStealing', 'stolenBases', 'groundIntoDoublePlay',\n",
    "               'groundIntoTriplePlay', 'plateAppearances', 'totalBases', 'rbi',\n",
    "               'leftOnBase', 'sacBunts', 'sacFlies', 'catchersInterference',\n",
    "               'pickoffs', 'gamesPlayedPitching', 'gamesStartedPitching',\n",
    "               'completeGamesPitching', 'shutoutsPitching', 'winsPitching',\n",
    "               'lossesPitching', 'flyOutsPitching', 'airOutsPitching',\n",
    "               'groundOutsPitching', 'runsPitching', 'doublesPitching',\n",
    "               'triplesPitching', 'homeRunsPitching', 'strikeOutsPitching',\n",
    "               'baseOnBallsPitching', 'intentionalWalksPitching', 'hitsPitching',\n",
    "               'hitByPitchPitching', 'atBatsPitching', 'caughtStealingPitching',\n",
    "               'stolenBasesPitching', 'inningsPitched', 'saveOpportunities',\n",
    "               'earnedRuns', 'battersFaced', 'outsPitching', 'pitchesThrown', 'balls',\n",
    "               'strikes', 'hitBatsmen', 'balks', 'wildPitches', 'pickoffsPitching',\n",
    "               'rbiPitching', 'gamesFinishedPitching', 'inheritedRunners',\n",
    "               'inheritedRunnersScored', 'catchersInterferencePitching',\n",
    "               'sacBuntsPitching', 'sacFliesPitching', 'saves', 'holds', 'blownSaves',\n",
    "               'assists', 'putOuts', 'errors', 'chances', 'date']\n",
    "\n",
    "        self.feature_cols1 = ['week_day','label_playerId', 'label_primaryPositionName', 'label_teamId',\n",
    "               'label_status', 'battingOrder', 'gamesPlayedBatting', 'flyOuts',\n",
    "               'groundOuts', 'runsScored', 'doubles', 'triples', 'homeRuns',\n",
    "               'strikeOuts', 'baseOnBalls', 'intentionalWalks', 'hits', 'hitByPitch',\n",
    "               'atBats', 'caughtStealing', 'stolenBases', 'groundIntoDoublePlay',\n",
    "               'groundIntoTriplePlay', 'plateAppearances', 'totalBases', 'rbi',\n",
    "               'leftOnBase', 'sacBunts', 'sacFlies', 'catchersInterference',\n",
    "               'pickoffs', 'gamesPlayedPitching', 'gamesStartedPitching',\n",
    "               'completeGamesPitching', 'shutoutsPitching', 'winsPitching',\n",
    "               'lossesPitching', 'flyOutsPitching', 'airOutsPitching',\n",
    "               'groundOutsPitching', 'runsPitching', 'doublesPitching',\n",
    "               'triplesPitching', 'homeRunsPitching', 'strikeOutsPitching',\n",
    "               'baseOnBallsPitching', 'intentionalWalksPitching', 'hitsPitching',\n",
    "               'hitByPitchPitching', 'atBatsPitching', 'caughtStealingPitching',\n",
    "               'stolenBasesPitching', 'inningsPitched', 'saveOpportunities',\n",
    "               'earnedRuns', 'battersFaced', 'outsPitching', 'pitchesThrown', 'balls',\n",
    "               'strikes', 'hitBatsmen', 'balks', 'wildPitches', 'pickoffsPitching',\n",
    "               'rbiPitching', 'gamesFinishedPitching', 'inheritedRunners',\n",
    "               'inheritedRunnersScored', 'catchersInterferencePitching',\n",
    "               'sacBuntsPitching', 'sacFliesPitching', 'saves', 'holds', 'blownSaves',\n",
    "               'assists', 'putOuts', 'errors', 'chances',\n",
    "                'season_info', 'wildCardRank', 'award_flag'] \n",
    "\n",
    "        self.feature_cols2 = ['label_playerId', 'label_primaryPositionName', 'label_teamId',\n",
    "               'label_status', 'battingOrder', 'gamesPlayedBatting', 'flyOuts',\n",
    "               'groundOuts', 'runsScored', 'doubles', 'triples', 'homeRuns',\n",
    "               'strikeOuts', 'baseOnBalls', 'intentionalWalks', 'hits', 'hitByPitch',\n",
    "               'atBats', 'caughtStealing', 'stolenBases', 'groundIntoDoublePlay',\n",
    "               'groundIntoTriplePlay', 'plateAppearances', 'totalBases', 'rbi',\n",
    "               'leftOnBase', 'sacBunts', 'sacFlies', 'catchersInterference',\n",
    "               'pickoffs', 'gamesPlayedPitching', 'gamesStartedPitching',\n",
    "               'completeGamesPitching', 'shutoutsPitching', 'winsPitching',\n",
    "               'lossesPitching', 'flyOutsPitching', 'airOutsPitching',\n",
    "               'groundOutsPitching', 'runsPitching', 'doublesPitching',\n",
    "               'triplesPitching', 'homeRunsPitching', 'strikeOutsPitching',\n",
    "               'baseOnBallsPitching', 'intentionalWalksPitching', 'hitsPitching',\n",
    "               'hitByPitchPitching', 'atBatsPitching', 'caughtStealingPitching',\n",
    "               'stolenBasesPitching', 'inningsPitched', 'saveOpportunities',\n",
    "               'earnedRuns', 'battersFaced', 'outsPitching', 'pitchesThrown', 'balls',\n",
    "               'strikes', 'hitBatsmen', 'balks', 'wildPitches', 'pickoffsPitching',\n",
    "               'rbiPitching', 'gamesFinishedPitching', 'inheritedRunners',\n",
    "               'inheritedRunnersScored', 'catchersInterferencePitching',\n",
    "               'sacBuntsPitching', 'sacFliesPitching', 'saves', 'holds', 'blownSaves',\n",
    "               'assists', 'putOuts', 'errors', 'chances',\n",
    "                'season_info', 'wildCardRank', 'award_flag'] \n",
    "\n",
    "        self.feature_cols3 = ['week_day','label_playerId', 'label_primaryPositionName', 'label_teamId',\n",
    "               'label_status', 'battingOrder', 'gamesPlayedBatting', 'flyOuts',\n",
    "               'groundOuts', 'runsScored', 'doubles', 'triples', 'homeRuns',\n",
    "               'strikeOuts', 'baseOnBalls', 'intentionalWalks', 'hits', 'hitByPitch',\n",
    "               'atBats', 'caughtStealing', 'stolenBases', 'groundIntoDoublePlay',\n",
    "               'groundIntoTriplePlay', 'plateAppearances', 'totalBases', 'rbi',\n",
    "               'leftOnBase', 'sacBunts', 'sacFlies', 'catchersInterference',\n",
    "               'pickoffs', 'gamesPlayedPitching', 'gamesStartedPitching',\n",
    "               'completeGamesPitching', 'shutoutsPitching', 'winsPitching',\n",
    "               'lossesPitching', 'flyOutsPitching', 'airOutsPitching',\n",
    "               'groundOutsPitching', 'runsPitching', 'doublesPitching',\n",
    "               'triplesPitching', 'homeRunsPitching', 'strikeOutsPitching',\n",
    "               'baseOnBallsPitching', 'intentionalWalksPitching', 'hitsPitching',\n",
    "               'hitByPitchPitching', 'atBatsPitching', 'caughtStealingPitching',\n",
    "               'stolenBasesPitching', 'inningsPitched', 'saveOpportunities',\n",
    "               'earnedRuns', 'battersFaced', 'outsPitching', 'pitchesThrown', 'balls',\n",
    "               'strikes', 'hitBatsmen', 'balks', 'wildPitches', 'pickoffsPitching',\n",
    "               'rbiPitching', 'gamesFinishedPitching', 'inheritedRunners',\n",
    "               'inheritedRunnersScored', 'catchersInterferencePitching',\n",
    "               'sacBuntsPitching', 'sacFliesPitching', 'saves', 'holds', 'blownSaves',\n",
    "               'assists', 'putOuts', 'errors', 'chances',\n",
    "                'season_info', 'wildCardRank', 'diffmlbDebutDateflag', 'sincemlbDebutDateflag', 'award_flag'] \n",
    "\n",
    "        self.feature_cols4 = ['week_day', 'annual_day', 'month', 'label_playerId', 'label_primaryPositionName', 'label_teamId', 'label_birthCity',\n",
    "                        'DOY', 'mlbDebutYear', 'DebutAge', 'heightInches', 'weight',\n",
    "               'label_status', 'battingOrder', 'gamesPlayedBatting', 'flyOuts',\n",
    "               'groundOuts', 'runsScored', 'doubles', 'triples', 'homeRuns',\n",
    "               'strikeOuts', 'baseOnBalls', 'intentionalWalks', 'hits', 'hitByPitch',\n",
    "               'atBats', 'caughtStealing', 'stolenBases', 'groundIntoDoublePlay',\n",
    "               'groundIntoTriplePlay', 'plateAppearances', 'totalBases', 'rbi',\n",
    "               'leftOnBase', 'sacBunts', 'sacFlies', 'catchersInterference',\n",
    "               'pickoffs', 'gamesPlayedPitching', 'gamesStartedPitching',\n",
    "               'completeGamesPitching', 'shutoutsPitching', 'winsPitching',\n",
    "               'lossesPitching', 'flyOutsPitching', 'airOutsPitching',\n",
    "               'groundOutsPitching', 'runsPitching', 'doublesPitching',\n",
    "               'triplesPitching', 'homeRunsPitching', 'strikeOutsPitching',\n",
    "               'baseOnBallsPitching', 'intentionalWalksPitching', 'hitsPitching',\n",
    "               'hitByPitchPitching', 'atBatsPitching', 'caughtStealingPitching',\n",
    "               'stolenBasesPitching', 'inningsPitched', 'saveOpportunities',\n",
    "               'earnedRuns', 'battersFaced', 'outsPitching', 'pitchesThrown', 'balls',\n",
    "               'strikes', 'hitBatsmen', 'balks', 'wildPitches', 'pickoffsPitching',\n",
    "               'rbiPitching', 'gamesFinishedPitching', 'inheritedRunners',\n",
    "               'inheritedRunnersScored', 'catchersInterferencePitching',\n",
    "               'sacBuntsPitching', 'sacFliesPitching', 'saves', 'holds', 'blownSaves',\n",
    "               'assists', 'putOuts', 'errors', 'chances',\n",
    "                'season_info', 'wildCardRank', 'diffmlbDebutDateflag', 'sincemlbDebutDateflag', 'award_flag'] \n",
    "        \n",
    "        \n",
    "        # lightgbm\n",
    "        self.params1 = {'objective':'mae',\n",
    "                       'reg_alpha': 0.14947461820098767, \n",
    "                       'reg_lambda': 0.10185644384043743, \n",
    "                       'n_estimators': 3633, \n",
    "                       'learning_rate': 0.08046301304430488, \n",
    "                       'num_leaves': 674, \n",
    "                       'feature_fraction': 0.9101240539122566, \n",
    "                       'bagging_fraction': 0.9884451442950513, \n",
    "                       'bagging_freq': 8, \n",
    "                       'min_child_samples': 51}\n",
    "\n",
    "\n",
    "        self.params2 = {'objective':'mae',\n",
    "                       'reg_alpha': 0.1,\n",
    "                       'reg_lambda': 0.1, \n",
    "                       'n_estimators': 80,\n",
    "                       'learning_rate': 0.1,\n",
    "                       'random_state': 42,\n",
    "                       \"num_leaves\": 22}\n",
    "\n",
    "\n",
    "\n",
    "        self.params3 = {'objective':'mae',\n",
    "                       'reg_alpha': 0.1,\n",
    "                       'reg_lambda': 0.1, \n",
    "                       'n_estimators': 10000,\n",
    "                       'learning_rate': 0.1,\n",
    "                       'random_state': 42,\n",
    "                       \"num_leaves\": 100}\n",
    "\n",
    "        self.params4 = {'objective':'mae',\n",
    "                       'reg_alpha': 0.016468100279441976, \n",
    "                       'reg_lambda': 0.09128335764019105, \n",
    "                       'n_estimators': 9868, \n",
    "                       'learning_rate': 0.10528150510326864, \n",
    "                       'num_leaves': 157, \n",
    "                       'feature_fraction': 0.5419185713426886, \n",
    "                       'bagging_fraction': 0.2637405128936662, \n",
    "                       'bagging_freq': 19, \n",
    "                       'min_child_samples': 71}\n",
    "\n",
    "    def make_feature(self, train_elements_dict):\n",
    "\n",
    "        players = train_elements_dict['players']\n",
    "        rosters = train_elements_dict['rosters']\n",
    "        targets = train_elements_dict['targets']\n",
    "        scores = train_elements_dict['scores']\n",
    "        seasons = train_elements_dict['seasons']\n",
    "        teams = train_elements_dict['teams']\n",
    "        standings = train_elements_dict['standings']\n",
    "\n",
    "        print('calc target stat ... ', end=\"\")\n",
    "\n",
    "        ## target stats\n",
    "        targets_train = targets.merge(rosters[self.rosters_cols], on=['playerId', 'date'], how='left')\n",
    "        targets_train = targets_train[(targets_train['date'] >= 20210501) & (targets_train['date'] < 20210601)]\n",
    "\n",
    "        playerId_list = targets_train['playerId'].unique()\n",
    "        player_target_probs = pd.DataFrame(columns = self.stat_cols)  \n",
    "        for pid in tqdm(playerId_list):\n",
    "            temp = targets_train[targets_train['playerId'] == pid]\n",
    "            player_target_stats=calc_probs(pid,player_target_probs,temp)\n",
    "\n",
    "        teamId_list = targets_train['teamId'].dropna().unique()\n",
    "        team_target_probs = pd.DataFrame(columns = self.stat_cols)\n",
    "        for pid in tqdm(teamId_list):\n",
    "            temp = targets_train[targets_train['teamId'] == pid]\n",
    "            team_target_stats=calc_probs(pid,team_target_probs,temp)\n",
    "\n",
    "        team_stat_cols = self.stat_cols\n",
    "        team_stat_cols = team_stat_cols[:1] + [\"team_\" + word for word in team_stat_cols[1:]]\n",
    "        team_target_stats.columns = team_stat_cols\n",
    "\n",
    "        self.feature_cols1 += self.stat_cols[1:-6]\n",
    "        self.feature_cols2 += self.stat_cols[1:-6]\n",
    "        self.feature_cols3 += self.stat_cols[1:-6]\n",
    "        self.feature_cols4 += self.stat_cols[1:-6]\n",
    "\n",
    "        self.feature_cols1 += team_stat_cols[1:]\n",
    "        self.feature_cols2 += team_stat_cols[1:]\n",
    "        self.feature_cols3 += team_stat_cols[1:]\n",
    "        self.feature_cols4 += team_stat_cols[1:]\n",
    "\n",
    "        print('done.')\n",
    "\n",
    "        print('preprocess ... ', end=\"\")\n",
    "        ## salaries\n",
    "        # salaries = salaries.groupby(['year', 'team']).sum()['salary'].reset_index()\n",
    "        # salaries['team'] = salaries['team'].apply(map_team_name)\n",
    "        # salaries = salaries.merge(teams, left_on='team', right_on='name', how='inner')\n",
    "        # salaries = salaries.rename(columns={'id': 'teamId'})\n",
    "\n",
    "        ## seasons\n",
    "        seasons = seasons.fillna('0000-00-00')\n",
    "        for c_ in seasons.columns[1:]:\n",
    "            seasons[c_] = seasons[c_].str.replace('-', '').astype(int)\n",
    "\n",
    "        ## players\n",
    "        players['DOY'] = pd.to_datetime(players['DOB'], format=\"%Y-%m-%d\").dt.year\n",
    "        players['mlbDebutYear'] = pd.to_datetime(players['mlbDebutDate'], format=\"%Y-%m-%d\").dt.year\n",
    "        players['DebutAge'] = players['mlbDebutYear'] - players['DOY']\n",
    "        players['mlbDebutDate'] = pd.to_numeric(players['mlbDebutDate'].str.replace('-', ''), errors=\"coerce\")\n",
    "\n",
    "        print('done.')\n",
    "\n",
    "        print('creat feature ... ', end=\"\")\n",
    "        # creat feature\n",
    "        train = targets[self.targets_cols].merge(players[self.players_cols], on=['playerId'], how='left')\n",
    "        train = train.merge(rosters[self.rosters_cols], on=['playerId', 'date'], how='left')\n",
    "        train = train.merge(scores[self.scores_cols], on=['playerId', 'date'], how='left')\n",
    "        train = train.merge(player_target_stats, how='inner', left_on=[\"playerId\"],right_on=[\"playerId\"])\n",
    "        train = train.merge(standings[self.standings_cols], on=['teamId', 'date'], how='left')\n",
    "        train = train.merge(team_target_stats, how='left', left_on=[\"teamId\"],right_on=[\"playerId\"], suffixes=('', 'team_'))\n",
    "        train = train.merge(awards, on=['playerId', 'date'], how='left')\n",
    "\n",
    "        \n",
    "        date_ = pd.to_datetime(train['date'], format=\"%Y%m%d\")\n",
    "        train['annual_day'] = (date_ - pd.to_datetime(date_.dt.year, format=\"%Y\")) /  timedelta(days=1)\n",
    "        train['week_day'] = date_.dt.weekday\n",
    "        train['month'] = date_.dt.month\n",
    "        train['year'] = date_.dt.year\n",
    "        train['mlbDebutDateflag'] = (train['mlbDebutDate'] == train['date']) * 1\n",
    "        train['sincemlbDebutDateflag'] = (train['date'] >= train['mlbDebutDate']) * 1\n",
    "        train['diffmlbDebutDateflag'] = (train['date'] - train['mlbDebutDate'])\n",
    "\n",
    "        # label encoding\n",
    "        player2num = {c: i for i, c in enumerate(train['playerId'].unique())}\n",
    "        position2num = {c: i for i, c in enumerate(train['primaryPositionName'].unique())}\n",
    "        birthCityn2num = {c: i for i, c in enumerate(train['birthCity'].unique())}\n",
    "        teamid2num = {c: i for i, c in enumerate(train['teamId'].unique())}\n",
    "        status2num = {c: i for i, c in enumerate(train['status'].unique())}\n",
    "        awardName2num = {c: i for i, c in enumerate(train['awardName'].unique())}\n",
    "        train['label_playerId'] = train['playerId'].map(player2num)\n",
    "        train['label_primaryPositionName'] = train['primaryPositionName'].map(position2num)\n",
    "        train['label_birthCity'] = train['birthCity'].map(birthCityn2num)\n",
    "        train['label_teamId'] = train['teamId'].map(teamid2num)\n",
    "        train['label_status'] = train['status'].map(status2num)\n",
    "        train['award_flag'] = train['awardSeason'].isna()*1\n",
    "\n",
    "\n",
    "        ## season_info\n",
    "        on_preseason_idxes = extract_season(train['date'], seasons[['preSeasonStartDate', 'preSeasonEndDate']])\n",
    "        on_season_idxes = extract_season(train['date'], seasons[['regularSeasonStartDate', 'regularSeasonEndDate']]) * 2\n",
    "        on_postseason_idxes = extract_season(train['date'], seasons[['postSeasonStartDate', 'postSeasonEndDate']]) * 3\n",
    "\n",
    "        special_days = seasons['lastDate1stHalf'].to_list() + seasons['allStarDate'].to_list() + seasons['firstDate2ndHalf'].to_list()\n",
    "        special_idxes = 0\n",
    "        for day in special_days:\n",
    "            special_idxes += (train['date'] == day) * 4\n",
    "\n",
    "        on_total_season_idxes = on_preseason_idxes\n",
    "        on_total_season_idxes[on_season_idxes==2] = 2\n",
    "        on_total_season_idxes[on_postseason_idxes==3] = 3\n",
    "        on_total_season_idxes[special_idxes==4] = 4\n",
    "\n",
    "        train['season_info'] = on_total_season_idxes\n",
    "\n",
    "        ## only on season\n",
    "        on_whole_idxes = extract_season(train['date'], seasons[['seasonStartDate', 'seasonEndDate']])\n",
    "        train = train[on_whole_idxes == 1].reset_index(drop=True)\n",
    "\n",
    "        # train = train.merge(playerTwitterFollowers, how='left', on=[\"playerId\", 'date'])\n",
    "\n",
    "        ## only test_player\n",
    "        train = train[train['playerForTestSetAndFuturePreds']==True].reset_index(drop=True)\n",
    "\n",
    "        print('done.')\n",
    "        \n",
    "        train_features_dict = {'players': players,\n",
    "                               'seasons': seasons,\n",
    "                                'player_target_stats': player_target_stats,\n",
    "                                'team_target_stats': team_target_stats,\n",
    "                                'player2num': player2num, \n",
    "                                'position2num': position2num, \n",
    "                                'birthCityn2num': birthCityn2num,\n",
    "                                'teamid2num': teamid2num,\n",
    "                                'status2num': status2num,\n",
    "                                'feature_cols1': self.feature_cols1,\n",
    "                                'feature_cols2': self.feature_cols2,\n",
    "                                'feature_cols3': self.feature_cols3,\n",
    "                                'feature_cols4': self.feature_cols4,\n",
    "                                'rosters_cols_all': list(rosters.columns),\n",
    "                                'scores_cols_all': list(scores.columns),\n",
    "                                'standings_cols_all': list(standings.columns),\n",
    "                                'awards_cols_all': list(awards.columns)\n",
    "                              }\n",
    "        \n",
    "        if self.usetimelinefeature:\n",
    "            ## game_info\n",
    "            train['gameday'] = ~train['battingOrder'].isna()*1\n",
    "            train.sort_values(by=['playerId','date'],inplace=True,ascending=True)\n",
    "\n",
    "            train=count_consecutive_items_n_cols(train,['playerId','gameday'],'daysSinceLastGame')\n",
    "            train.loc[train['gameday']==1,'daysSinceLastGame'] = 0\n",
    "\n",
    "            train_game = train[train['gameday']==1]\n",
    "            train_last_game = train_game[~train_game.duplicated(subset='playerId', keep='last')][['playerId', 'date']]\n",
    "            train_last_game.columns = ['playerId', 'lastdate']\n",
    "            train_player_unique = pd.DataFrame(train['playerId'].unique(), columns=['playerId'])\n",
    "            train_last_game = pd.merge(train_player_unique, train_last_game, on=['playerId'], how='left' )\n",
    "            train_last_game = train_last_game.fillna(20171231)\n",
    "            \n",
    "            train_features_dict['train_last_game'] = train_last_game\n",
    "            self.feature_cols1 += ['daysSinceLastGame']\n",
    "            self.feature_cols2 += ['daysSinceLastGame']\n",
    "            self.feature_cols3 += ['daysSinceLastGame']\n",
    "            self.feature_cols4 += ['daysSinceLastGame']\n",
    "            \n",
    "            \n",
    "            ## rosters_info\n",
    "            train['rosterday'] = ~train['status'].isna()*1\n",
    "            train.sort_values(by=['playerId','date'],inplace=True,ascending=True)\n",
    "\n",
    "            train=count_consecutive_items_n_cols(train,['playerId','rosterday'],'daysSinceLastRoster')\n",
    "            train.loc[train['rosterday']==1,'daysSinceLastRoster'] = 0\n",
    "\n",
    "            train_roster= train[train['rosterday']==1]\n",
    "            train_last_roster = train_roster[~train_roster.duplicated(subset='playerId', keep='last')][['playerId', 'date']]\n",
    "            train_last_roster.columns = ['playerId', 'lastroster']\n",
    "            train_player_unique = pd.DataFrame(train['playerId'].unique(), columns=['playerId'])\n",
    "            train_last_roster = pd.merge(train_player_unique, train_last_roster, on=['playerId'], how='left' )\n",
    "            train_last_roster = train_last_roster.fillna(20171231)\n",
    "            \n",
    "            train_features_dict['train_last_roster'] = train_last_roster\n",
    "            self.feature_cols1 += ['daysSinceLastRoster']\n",
    "            self.feature_cols2 += ['daysSinceLastRoster']\n",
    "            self.feature_cols3 += ['daysSinceLastRoster']\n",
    "            self.feature_cols4 += ['daysSinceLastRoster']\n",
    "\n",
    "\n",
    "        return train, train_features_dict\n",
    "    \n",
    "    def train_and_evaluate(self, train, isgamedayonly=False):\n",
    "        \n",
    "        if isgamedayonly:\n",
    "            train = train[train['gameday'] == 1].reset_index(drop=True)\n",
    "            \n",
    "        train_X = train\n",
    "        train_y = train[['target1', 'target2', 'target3', 'target4']]\n",
    "\n",
    "        oof = np.zeros(train_y.shape) - 1.0\n",
    "        y_valids = np.zeros(train_y.shape) - 1.0\n",
    "\n",
    "        tr_idx = (train['date'].astype(int) < 20210401)\n",
    "        val_idx = ~tr_idx\n",
    "\n",
    "        x_train = train_X.loc[tr_idx].reset_index(drop=True)\n",
    "        y_train = train_y.loc[tr_idx].reset_index(drop=True)\n",
    "        x_valid = train_X.loc[val_idx].reset_index(drop=True)\n",
    "        y_valid = train_y.loc[val_idx].reset_index(drop=True)\n",
    "\n",
    "        study1 = optuna.create_study(direction='maximize')\n",
    "        study1.optimize(fit_lgbm(x_train[self.feature_cols1], y_train['target1'], \n",
    "                                 x_valid[self.feature_cols1], y_valid['target1']), n_trials=100)\n",
    "        \n",
    "        study2 = optuna.create_study(direction='maximize')\n",
    "        study2.optimize(fit_lgbm(x_train[self.feature_cols2], y_train['target2'], \n",
    "                                 x_valid[self.feature_cols2], y_valid['target2']), n_trials=100)\n",
    "        \n",
    "        study3 = optuna.create_study(direction='maximize')\n",
    "        study3.optimize(fit_lgbm(x_train[self.feature_cols3], y_train['target3'], \n",
    "                                 x_valid[self.feature_cols3], y_valid['target3']), n_trials=100)\n",
    "        \n",
    "        study4 = optuna.create_study(direction='maximize')\n",
    "        study4.optimize(fit_lgbm(x_train[self.feature_cols4], y_train['target4'], \n",
    "                                 x_valid[self.feature_cols4], y_valid['target4']), n_trials=100)\n",
    "\n",
    "#         oof1, model1, score1 = fit_lgbm(\n",
    "#             x_train[self.feature_cols1], y_train['target1'],\n",
    "#             x_valid[self.feature_cols1], y_valid['target1'],\n",
    "# #             self.params1\n",
    "#         )\n",
    "#         oof2, model2, score2 = fit_lgbm(\n",
    "#             x_train[self.feature_cols2], y_train['target2'],\n",
    "#             x_valid[self.feature_cols2], y_valid['target2'],\n",
    "# #             self.params2\n",
    "#         )\n",
    "#         oof3, model3, score3 = fit_lgbm(\n",
    "#             x_train[self.feature_cols3], y_train['target3'],\n",
    "#             x_valid[self.feature_cols3], y_valid['target3'],\n",
    "# #             self.params3\n",
    "#         )\n",
    "#         oof4, model4, score4 = fit_lgbm(\n",
    "#             x_train[self.feature_cols4], y_train['target4'],\n",
    "#             x_valid[self.feature_cols4], y_valid['target4'],\n",
    "# #             self.params4\n",
    "#         )\n",
    "\n",
    "#         score = (score1+score2+score3+score4) / 4\n",
    "#         print(f'score: {score}')\n",
    "\n",
    "#         oof[val_idx, 0] = oof1\n",
    "#         oof[val_idx, 1] = oof2\n",
    "#         oof[val_idx, 2] = oof3\n",
    "#         oof[val_idx, 3] = oof4\n",
    "#         y_valids[val_idx, 0] = y_valid['target1'].values\n",
    "#         y_valids[val_idx, 1] = y_valid['target2'].values\n",
    "#         y_valids[val_idx, 2] = y_valid['target3'].values\n",
    "#         y_valids[val_idx, 3] = y_valid['target4'].values\n",
    "\n",
    "#         mae = mean_absolute_error(y_valids[val_idx, :], oof[val_idx, :])\n",
    "#         print(\"mae:\", mae)\n",
    "\n",
    "#         val_idx_num = val_idx[val_idx==True].index.to_list()\n",
    "\n",
    "#         oof_df = train[self.targets_cols]\n",
    "#         oof_df.iloc[val_idx_num, 1:5] = oof[val_idx_num, :]\n",
    "\n",
    "#         models = np.array([model1, model2, model3, model4])\n",
    "\n",
    "        return study1, study2, study3, study4"
   ]
  },
  {
   "cell_type": "code",
   "execution_count": 17,
   "id": "40b7afe3",
   "metadata": {},
   "outputs": [
    {
     "name": "stdout",
     "output_type": "stream",
     "text": [
      "calc target stat ... "
     ]
    },
    {
     "name": "stderr",
     "output_type": "stream",
     "text": [
      "100%|██████████| 2061/2061 [00:46<00:00, 44.67it/s]\n",
      "100%|██████████| 30/30 [00:00<00:00, 41.86it/s]\n"
     ]
    },
    {
     "name": "stdout",
     "output_type": "stream",
     "text": [
      "done.\n",
      "preprocess ... done.\n",
      "creat feature ... done.\n"
     ]
    }
   ],
   "source": [
    "rt4kaido_train = Rt4kaidoTrain(usetimelinefeature=True)\n",
    "train, train_features_dict = rt4kaido_train.make_feature(train_elements_dict)"
   ]
  },
  {
   "cell_type": "code",
   "execution_count": 18,
   "id": "a8f54d22",
   "metadata": {},
   "outputs": [
    {
     "name": "stderr",
     "output_type": "stream",
     "text": [
      "\u001b[32m[I 2021-07-29 18:43:19,414]\u001b[0m A new study created in memory with name: no-name-6d423992-1812-4f34-9388-ea35ef5e492b\u001b[0m\n"
     ]
    },
    {
     "name": "stdout",
     "output_type": "stream",
     "text": [
      "[LightGBM] [Warning] feature_fraction is set=0.5787093588161427, colsample_bytree=0.7 will be ignored. Current value: feature_fraction=0.5787093588161427\n",
      "[LightGBM] [Warning] bagging_fraction is set=0.81763724474556, subsample=0.8 will be ignored. Current value: bagging_fraction=0.81763724474556\n",
      "[LightGBM] [Warning] bagging_freq is set=13, subsample_freq=0 will be ignored. Current value: bagging_freq=13\n",
      "Training until validation scores don't improve for 100 rounds\n",
      "[100]\ttraining's l1: 0.857222\tvalid_1's l1: 1.13629\n",
      "[200]\ttraining's l1: 0.854556\tvalid_1's l1: 1.13268\n",
      "[300]\ttraining's l1: 0.854151\tvalid_1's l1: 1.13226\n",
      "[400]\ttraining's l1: 0.853289\tvalid_1's l1: 1.13098\n",
      "[500]\ttraining's l1: 0.852384\tvalid_1's l1: 1.1291\n",
      "[600]\ttraining's l1: 0.851164\tvalid_1's l1: 1.12741\n",
      "[700]\ttraining's l1: 0.850401\tvalid_1's l1: 1.12668\n",
      "[800]\ttraining's l1: 0.849334\tvalid_1's l1: 1.12531\n",
      "[900]\ttraining's l1: 0.848282\tvalid_1's l1: 1.12419\n",
      "[1000]\ttraining's l1: 0.847056\tvalid_1's l1: 1.12318\n",
      "[1100]\ttraining's l1: 0.846151\tvalid_1's l1: 1.12199\n",
      "[1200]\ttraining's l1: 0.845132\tvalid_1's l1: 1.12086\n",
      "[1300]\ttraining's l1: 0.843009\tvalid_1's l1: 1.11792\n",
      "[1400]\ttraining's l1: 0.84246\tvalid_1's l1: 1.11756\n",
      "[1500]\ttraining's l1: 0.841505\tvalid_1's l1: 1.11669\n",
      "[1600]\ttraining's l1: 0.840561\tvalid_1's l1: 1.11553\n",
      "[1700]\ttraining's l1: 0.840006\tvalid_1's l1: 1.11525\n",
      "[1800]\ttraining's l1: 0.839249\tvalid_1's l1: 1.11491\n",
      "[1900]\ttraining's l1: 0.838687\tvalid_1's l1: 1.1145\n",
      "[2000]\ttraining's l1: 0.837936\tvalid_1's l1: 1.11417\n",
      "[2100]\ttraining's l1: 0.837411\tvalid_1's l1: 1.11421\n",
      "Early stopping, best iteration is:\n",
      "[2073]\ttraining's l1: 0.837543\tvalid_1's l1: 1.11395\n"
     ]
    },
    {
     "name": "stderr",
     "output_type": "stream",
     "text": [
      "\u001b[32m[I 2021-07-29 18:45:06,582]\u001b[0m Trial 0 finished with value: -1.1135621044529749 and parameters: {'max_depth': 14, 'min_child_weight': 16, 'subsample': 0.8, 'colsample_bytree': 0.7, 'reg_lambda': 0.0030336124211929973, 'reg_alpha': 174.76716975449565, 'feature_fraction': 0.5787093588161427, 'bagging_fraction': 0.81763724474556, 'bagging_freq': 13, 'num_leaves': 151, 'min_child_samples': 40}. Best is trial 0 with value: -1.1135621044529749.\u001b[0m\n"
     ]
    },
    {
     "name": "stdout",
     "output_type": "stream",
     "text": [
      "[LightGBM] [Warning] feature_fraction is set=0.21525237137851605, colsample_bytree=0.5 will be ignored. Current value: feature_fraction=0.21525237137851605\n",
      "[LightGBM] [Warning] bagging_fraction is set=0.7091769961181835, subsample=0.7 will be ignored. Current value: bagging_fraction=0.7091769961181835\n",
      "[LightGBM] [Warning] bagging_freq is set=5, subsample_freq=0 will be ignored. Current value: bagging_freq=5\n",
      "Training until validation scores don't improve for 100 rounds\n",
      "[100]\ttraining's l1: 0.83918\tvalid_1's l1: 1.12839\n",
      "[200]\ttraining's l1: 0.826643\tvalid_1's l1: 1.11963\n",
      "[300]\ttraining's l1: 0.823687\tvalid_1's l1: 1.11773\n",
      "[400]\ttraining's l1: 0.820031\tvalid_1's l1: 1.11691\n",
      "[500]\ttraining's l1: 0.816374\tvalid_1's l1: 1.11593\n",
      "[600]\ttraining's l1: 0.813165\tvalid_1's l1: 1.11562\n",
      "Early stopping, best iteration is:\n",
      "[550]\ttraining's l1: 0.814525\tvalid_1's l1: 1.11538\n"
     ]
    },
    {
     "name": "stderr",
     "output_type": "stream",
     "text": [
      "\u001b[32m[I 2021-07-29 18:45:37,635]\u001b[0m Trial 1 finished with value: -1.1145354833795063 and parameters: {'max_depth': 17, 'min_child_weight': 16, 'subsample': 0.7, 'colsample_bytree': 0.5, 'reg_lambda': 216.0469267239518, 'reg_alpha': 0.006155085379753887, 'feature_fraction': 0.21525237137851605, 'bagging_fraction': 0.7091769961181835, 'bagging_freq': 5, 'num_leaves': 475, 'min_child_samples': 28}. Best is trial 0 with value: -1.1135621044529749.\u001b[0m\n"
     ]
    },
    {
     "name": "stdout",
     "output_type": "stream",
     "text": [
      "[LightGBM] [Warning] feature_fraction is set=0.2397163370182761, colsample_bytree=0.5 will be ignored. Current value: feature_fraction=0.2397163370182761\n",
      "[LightGBM] [Warning] bagging_fraction is set=0.2304099036956803, subsample=0.6 will be ignored. Current value: bagging_fraction=0.2304099036956803\n",
      "[LightGBM] [Warning] bagging_freq is set=15, subsample_freq=0 will be ignored. Current value: bagging_freq=15\n",
      "Training until validation scores don't improve for 100 rounds\n",
      "[100]\ttraining's l1: 0.900336\tvalid_1's l1: 1.19597\n",
      "[200]\ttraining's l1: 0.889392\tvalid_1's l1: 1.17804\n",
      "[300]\ttraining's l1: 0.884917\tvalid_1's l1: 1.17027\n",
      "[400]\ttraining's l1: 0.880261\tvalid_1's l1: 1.16222\n",
      "[500]\ttraining's l1: 0.879868\tvalid_1's l1: 1.16143\n",
      "[600]\ttraining's l1: 0.878094\tvalid_1's l1: 1.15792\n",
      "[700]\ttraining's l1: 0.878022\tvalid_1's l1: 1.15792\n",
      "[800]\ttraining's l1: 0.877509\tvalid_1's l1: 1.1563\n",
      "[900]\ttraining's l1: 0.87734\tvalid_1's l1: 1.15603\n",
      "[1000]\ttraining's l1: 0.877179\tvalid_1's l1: 1.15574\n",
      "[1100]\ttraining's l1: 0.877045\tvalid_1's l1: 1.15534\n",
      "[1200]\ttraining's l1: 0.877002\tvalid_1's l1: 1.15537\n",
      "Early stopping, best iteration is:\n",
      "[1145]\ttraining's l1: 0.877042\tvalid_1's l1: 1.15533\n"
     ]
    },
    {
     "name": "stderr",
     "output_type": "stream",
     "text": [
      "\u001b[32m[I 2021-07-29 18:45:49,820]\u001b[0m Trial 2 finished with value: -1.1550799321838001 and parameters: {'max_depth': 3, 'min_child_weight': 15, 'subsample': 0.6, 'colsample_bytree': 0.5, 'reg_lambda': 0.7562667552280758, 'reg_alpha': 0.0038960650934357333, 'feature_fraction': 0.2397163370182761, 'bagging_fraction': 0.2304099036956803, 'bagging_freq': 15, 'num_leaves': 416, 'min_child_samples': 6}. Best is trial 0 with value: -1.1135621044529749.\u001b[0m\n"
     ]
    },
    {
     "name": "stdout",
     "output_type": "stream",
     "text": [
      "[LightGBM] [Warning] feature_fraction is set=0.9625142912408646, colsample_bytree=0.7 will be ignored. Current value: feature_fraction=0.9625142912408646\n",
      "[LightGBM] [Warning] bagging_fraction is set=0.4474079406429346, subsample=0.9 will be ignored. Current value: bagging_fraction=0.4474079406429346\n",
      "[LightGBM] [Warning] bagging_freq is set=14, subsample_freq=0 will be ignored. Current value: bagging_freq=14\n",
      "Training until validation scores don't improve for 100 rounds\n",
      "[100]\ttraining's l1: 0.820374\tvalid_1's l1: 1.11584\n",
      "[200]\ttraining's l1: 0.809289\tvalid_1's l1: 1.11583\n",
      "Early stopping, best iteration is:\n",
      "[151]\ttraining's l1: 0.814667\tvalid_1's l1: 1.11441\n"
     ]
    },
    {
     "name": "stderr",
     "output_type": "stream",
     "text": [
      "\u001b[32m[I 2021-07-29 18:46:11,909]\u001b[0m Trial 3 finished with value: -1.1140005486099713 and parameters: {'max_depth': 18, 'min_child_weight': 20, 'subsample': 0.9, 'colsample_bytree': 0.7, 'reg_lambda': 0.0027938058530369227, 'reg_alpha': 8.601150948928801, 'feature_fraction': 0.9625142912408646, 'bagging_fraction': 0.4474079406429346, 'bagging_freq': 14, 'num_leaves': 796, 'min_child_samples': 9}. Best is trial 0 with value: -1.1135621044529749.\u001b[0m\n"
     ]
    },
    {
     "name": "stdout",
     "output_type": "stream",
     "text": [
      "[LightGBM] [Warning] feature_fraction is set=0.29403487911621345, colsample_bytree=0.6 will be ignored. Current value: feature_fraction=0.29403487911621345\n",
      "[LightGBM] [Warning] bagging_fraction is set=0.4867746340132552, subsample=0.5 will be ignored. Current value: bagging_fraction=0.4867746340132552\n",
      "[LightGBM] [Warning] bagging_freq is set=8, subsample_freq=0 will be ignored. Current value: bagging_freq=8\n",
      "Training until validation scores don't improve for 100 rounds\n",
      "[100]\ttraining's l1: 0.857081\tvalid_1's l1: 1.13358\n",
      "[200]\ttraining's l1: 0.854417\tvalid_1's l1: 1.12919\n",
      "[300]\ttraining's l1: 0.854167\tvalid_1's l1: 1.12883\n",
      "[400]\ttraining's l1: 0.853873\tvalid_1's l1: 1.12824\n",
      "[500]\ttraining's l1: 0.852737\tvalid_1's l1: 1.12654\n",
      "[600]\ttraining's l1: 0.851114\tvalid_1's l1: 1.12481\n",
      "[700]\ttraining's l1: 0.848814\tvalid_1's l1: 1.12153\n",
      "[800]\ttraining's l1: 0.847876\tvalid_1's l1: 1.12007\n",
      "[900]\ttraining's l1: 0.846066\tvalid_1's l1: 1.11815\n",
      "[1000]\ttraining's l1: 0.845034\tvalid_1's l1: 1.11727\n",
      "[1100]\ttraining's l1: 0.843704\tvalid_1's l1: 1.11591\n",
      "[1200]\ttraining's l1: 0.842836\tvalid_1's l1: 1.11527\n",
      "[1300]\ttraining's l1: 0.841618\tvalid_1's l1: 1.11481\n",
      "[1400]\ttraining's l1: 0.8402\tvalid_1's l1: 1.11353\n",
      "[1500]\ttraining's l1: 0.83916\tvalid_1's l1: 1.11223\n",
      "[1600]\ttraining's l1: 0.838016\tvalid_1's l1: 1.11213\n",
      "Early stopping, best iteration is:\n",
      "[1549]\ttraining's l1: 0.838596\tvalid_1's l1: 1.11185\n"
     ]
    },
    {
     "name": "stderr",
     "output_type": "stream",
     "text": [
      "\u001b[32m[I 2021-07-29 18:46:43,567]\u001b[0m Trial 4 finished with value: -1.1114103404076514 and parameters: {'max_depth': 6, 'min_child_weight': 15, 'subsample': 0.5, 'colsample_bytree': 0.6, 'reg_lambda': 0.004579459218050838, 'reg_alpha': 0.03746754295399845, 'feature_fraction': 0.29403487911621345, 'bagging_fraction': 0.4867746340132552, 'bagging_freq': 8, 'num_leaves': 930, 'min_child_samples': 81}. Best is trial 4 with value: -1.1114103404076514.\u001b[0m\n"
     ]
    },
    {
     "name": "stdout",
     "output_type": "stream",
     "text": [
      "[LightGBM] [Warning] feature_fraction is set=0.8973080099180133, colsample_bytree=0.8 will be ignored. Current value: feature_fraction=0.8973080099180133\n",
      "[LightGBM] [Warning] bagging_fraction is set=0.3925067308251663, subsample=0.5 will be ignored. Current value: bagging_fraction=0.3925067308251663\n",
      "[LightGBM] [Warning] bagging_freq is set=11, subsample_freq=0 will be ignored. Current value: bagging_freq=11\n",
      "Training until validation scores don't improve for 100 rounds\n",
      "[100]\ttraining's l1: 0.909783\tvalid_1's l1: 1.20375\n",
      "[200]\ttraining's l1: 0.90104\tvalid_1's l1: 1.18875\n",
      "[300]\ttraining's l1: 0.898682\tvalid_1's l1: 1.18472\n",
      "[400]\ttraining's l1: 0.897845\tvalid_1's l1: 1.18352\n",
      "[500]\ttraining's l1: 0.896774\tvalid_1's l1: 1.18151\n",
      "[600]\ttraining's l1: 0.895732\tvalid_1's l1: 1.18041\n",
      "[700]\ttraining's l1: 0.894264\tvalid_1's l1: 1.17686\n",
      "[800]\ttraining's l1: 0.893594\tvalid_1's l1: 1.17612\n",
      "[900]\ttraining's l1: 0.892387\tvalid_1's l1: 1.17504\n",
      "[1000]\ttraining's l1: 0.892304\tvalid_1's l1: 1.17501\n",
      "[1100]\ttraining's l1: 0.891702\tvalid_1's l1: 1.17354\n",
      "[1200]\ttraining's l1: 0.890963\tvalid_1's l1: 1.17305\n",
      "[1300]\ttraining's l1: 0.890178\tvalid_1's l1: 1.17131\n",
      "[1400]\ttraining's l1: 0.88959\tvalid_1's l1: 1.16999\n",
      "[1500]\ttraining's l1: 0.889186\tvalid_1's l1: 1.16965\n",
      "[1600]\ttraining's l1: 0.888373\tvalid_1's l1: 1.16775\n",
      "[1700]\ttraining's l1: 0.887624\tvalid_1's l1: 1.16693\n",
      "[1800]\ttraining's l1: 0.887361\tvalid_1's l1: 1.16634\n",
      "[1900]\ttraining's l1: 0.887249\tvalid_1's l1: 1.16636\n",
      "[2000]\ttraining's l1: 0.886919\tvalid_1's l1: 1.16534\n",
      "[2100]\ttraining's l1: 0.886539\tvalid_1's l1: 1.16452\n",
      "Early stopping, best iteration is:\n",
      "[2053]\ttraining's l1: 0.886569\tvalid_1's l1: 1.16448\n"
     ]
    },
    {
     "name": "stderr",
     "output_type": "stream",
     "text": [
      "\u001b[32m[I 2021-07-29 18:47:11,106]\u001b[0m Trial 5 finished with value: -1.1641003071456983 and parameters: {'max_depth': 3, 'min_child_weight': 14, 'subsample': 0.5, 'colsample_bytree': 0.8, 'reg_lambda': 0.02471824479862779, 'reg_alpha': 324.61216005625715, 'feature_fraction': 0.8973080099180133, 'bagging_fraction': 0.3925067308251663, 'bagging_freq': 11, 'num_leaves': 211, 'min_child_samples': 96}. Best is trial 4 with value: -1.1114103404076514.\u001b[0m\n"
     ]
    },
    {
     "name": "stdout",
     "output_type": "stream",
     "text": [
      "[LightGBM] [Warning] feature_fraction is set=0.7735197489547094, colsample_bytree=0.8 will be ignored. Current value: feature_fraction=0.7735197489547094\n",
      "[LightGBM] [Warning] bagging_fraction is set=0.9284378559516246, subsample=0.8 will be ignored. Current value: bagging_fraction=0.9284378559516246\n",
      "[LightGBM] [Warning] bagging_freq is set=7, subsample_freq=0 will be ignored. Current value: bagging_freq=7\n",
      "Training until validation scores don't improve for 100 rounds\n",
      "[100]\ttraining's l1: 0.830224\tvalid_1's l1: 1.11591\n",
      "[200]\ttraining's l1: 0.826039\tvalid_1's l1: 1.11401\n",
      "[300]\ttraining's l1: 0.82477\tvalid_1's l1: 1.11332\n",
      "Early stopping, best iteration is:\n",
      "[254]\ttraining's l1: 0.82491\tvalid_1's l1: 1.11323\n"
     ]
    },
    {
     "name": "stderr",
     "output_type": "stream",
     "text": [
      "\u001b[32m[I 2021-07-29 18:47:35,959]\u001b[0m Trial 6 finished with value: -1.113074222512789 and parameters: {'max_depth': 19, 'min_child_weight': 3, 'subsample': 0.8, 'colsample_bytree': 0.8, 'reg_lambda': 0.0069165896302278125, 'reg_alpha': 24.627223497719136, 'feature_fraction': 0.7735197489547094, 'bagging_fraction': 0.9284378559516246, 'bagging_freq': 7, 'num_leaves': 579, 'min_child_samples': 40}. Best is trial 4 with value: -1.1114103404076514.\u001b[0m\n"
     ]
    },
    {
     "name": "stdout",
     "output_type": "stream",
     "text": [
      "[LightGBM] [Warning] feature_fraction is set=0.6084022774030826, colsample_bytree=0.5 will be ignored. Current value: feature_fraction=0.6084022774030826\n",
      "[LightGBM] [Warning] bagging_fraction is set=0.9977397467457743, subsample=0.9 will be ignored. Current value: bagging_fraction=0.9977397467457743\n",
      "[LightGBM] [Warning] bagging_freq is set=5, subsample_freq=0 will be ignored. Current value: bagging_freq=5\n",
      "Training until validation scores don't improve for 100 rounds\n",
      "[100]\ttraining's l1: 0.87049\tvalid_1's l1: 1.15338\n",
      "[200]\ttraining's l1: 0.862983\tvalid_1's l1: 1.13996\n"
     ]
    },
    {
     "name": "stderr",
     "output_type": "stream",
     "text": [
      "\u001b[32m[I 2021-07-29 18:47:48,474]\u001b[0m Trial 7 finished with value: -1.1398689788477767 and parameters: {'max_depth': 5, 'min_child_weight': 12, 'subsample': 0.9, 'colsample_bytree': 0.5, 'reg_lambda': 2.3892255342736863, 'reg_alpha': 0.004890792008901759, 'feature_fraction': 0.6084022774030826, 'bagging_fraction': 0.9977397467457743, 'bagging_freq': 5, 'num_leaves': 795, 'min_child_samples': 93}. Best is trial 4 with value: -1.1114103404076514.\u001b[0m\n"
     ]
    },
    {
     "name": "stdout",
     "output_type": "stream",
     "text": [
      "Early stopping, best iteration is:\n",
      "[169]\ttraining's l1: 0.863059\tvalid_1's l1: 1.13994\n",
      "[LightGBM] [Warning] feature_fraction is set=0.4741730099290362, colsample_bytree=0.9 will be ignored. Current value: feature_fraction=0.4741730099290362\n",
      "[LightGBM] [Warning] bagging_fraction is set=0.4876044920598177, subsample=0.8 will be ignored. Current value: bagging_fraction=0.4876044920598177\n",
      "[LightGBM] [Warning] bagging_freq is set=12, subsample_freq=0 will be ignored. Current value: bagging_freq=12\n",
      "Training until validation scores don't improve for 100 rounds\n",
      "[100]\ttraining's l1: 0.848362\tvalid_1's l1: 1.1262\n",
      "[200]\ttraining's l1: 0.844326\tvalid_1's l1: 1.12201\n",
      "[300]\ttraining's l1: 0.842664\tvalid_1's l1: 1.12013\n",
      "[400]\ttraining's l1: 0.840562\tvalid_1's l1: 1.11871\n",
      "[500]\ttraining's l1: 0.839402\tvalid_1's l1: 1.1183\n",
      "[600]\ttraining's l1: 0.836999\tvalid_1's l1: 1.11681\n",
      "[700]\ttraining's l1: 0.834706\tvalid_1's l1: 1.117\n",
      "Early stopping, best iteration is:\n",
      "[623]\ttraining's l1: 0.836497\tvalid_1's l1: 1.11672\n"
     ]
    },
    {
     "name": "stderr",
     "output_type": "stream",
     "text": [
      "\u001b[32m[I 2021-07-29 18:48:16,575]\u001b[0m Trial 8 finished with value: -1.1164357608046518 and parameters: {'max_depth': 19, 'min_child_weight': 1, 'subsample': 0.8, 'colsample_bytree': 0.9, 'reg_lambda': 124.25647360322085, 'reg_alpha': 1.3439492187472293, 'feature_fraction': 0.4741730099290362, 'bagging_fraction': 0.4876044920598177, 'bagging_freq': 12, 'num_leaves': 244, 'min_child_samples': 14}. Best is trial 4 with value: -1.1114103404076514.\u001b[0m\n"
     ]
    },
    {
     "name": "stdout",
     "output_type": "stream",
     "text": [
      "[LightGBM] [Warning] feature_fraction is set=0.9355473398435294, colsample_bytree=0.7 will be ignored. Current value: feature_fraction=0.9355473398435294\n",
      "[LightGBM] [Warning] bagging_fraction is set=0.9066280280072088, subsample=0.9 will be ignored. Current value: bagging_fraction=0.9066280280072088\n",
      "[LightGBM] [Warning] bagging_freq is set=10, subsample_freq=0 will be ignored. Current value: bagging_freq=10\n",
      "Training until validation scores don't improve for 100 rounds\n",
      "[100]\ttraining's l1: 0.995679\tvalid_1's l1: 1.34293\n",
      "[200]\ttraining's l1: 0.982278\tvalid_1's l1: 1.32404\n",
      "[300]\ttraining's l1: 0.982267\tvalid_1's l1: 1.32403\n",
      "[400]\ttraining's l1: 0.982263\tvalid_1's l1: 1.32403\n"
     ]
    },
    {
     "name": "stderr",
     "output_type": "stream",
     "text": [
      "\u001b[32m[I 2021-07-29 18:48:26,165]\u001b[0m Trial 9 finished with value: -1.324001112152437 and parameters: {'max_depth': 1, 'min_child_weight': 20, 'subsample': 0.9, 'colsample_bytree': 0.7, 'reg_lambda': 2.8354058062433243, 'reg_alpha': 24.818698406834105, 'feature_fraction': 0.9355473398435294, 'bagging_fraction': 0.9066280280072088, 'bagging_freq': 10, 'num_leaves': 133, 'min_child_samples': 87}. Best is trial 4 with value: -1.1114103404076514.\u001b[0m\n"
     ]
    },
    {
     "name": "stdout",
     "output_type": "stream",
     "text": [
      "Early stopping, best iteration is:\n",
      "[353]\ttraining's l1: 0.982266\tvalid_1's l1: 1.32403\n",
      "[LightGBM] [Warning] feature_fraction is set=0.3783037803011738, colsample_bytree=0.6 will be ignored. Current value: feature_fraction=0.3783037803011738\n",
      "[LightGBM] [Warning] bagging_fraction is set=0.22841466738006222, subsample=0.5 will be ignored. Current value: bagging_fraction=0.22841466738006222\n",
      "[LightGBM] [Warning] bagging_freq is set=20, subsample_freq=0 will be ignored. Current value: bagging_freq=20\n",
      "Training until validation scores don't improve for 100 rounds\n",
      "[100]\ttraining's l1: 0.848147\tvalid_1's l1: 1.12211\n",
      "[200]\ttraining's l1: 0.844058\tvalid_1's l1: 1.11635\n"
     ]
    },
    {
     "name": "stderr",
     "output_type": "stream",
     "text": [
      "\u001b[32m[I 2021-07-29 18:48:31,920]\u001b[0m Trial 10 finished with value: -1.1158574583368828 and parameters: {'max_depth': 8, 'min_child_weight': 6, 'subsample': 0.5, 'colsample_bytree': 0.6, 'reg_lambda': 0.1442183073516189, 'reg_alpha': 0.08224040877907372, 'feature_fraction': 0.3783037803011738, 'bagging_fraction': 0.22841466738006222, 'bagging_freq': 20, 'num_leaves': 960, 'min_child_samples': 66}. Best is trial 4 with value: -1.1114103404076514.\u001b[0m\n"
     ]
    },
    {
     "name": "stdout",
     "output_type": "stream",
     "text": [
      "Early stopping, best iteration is:\n",
      "[160]\ttraining's l1: 0.844215\tvalid_1's l1: 1.11603\n",
      "[LightGBM] [Warning] feature_fraction is set=0.7548387080356556, colsample_bytree=0.9 will be ignored. Current value: feature_fraction=0.7548387080356556\n",
      "[LightGBM] [Warning] bagging_fraction is set=0.5727311377161531, subsample=0.7 will be ignored. Current value: bagging_fraction=0.5727311377161531\n",
      "[LightGBM] [Warning] bagging_freq is set=1, subsample_freq=0 will be ignored. Current value: bagging_freq=1\n",
      "Training until validation scores don't improve for 100 rounds\n",
      "[100]\ttraining's l1: 0.834324\tvalid_1's l1: 1.11857\n",
      "[200]\ttraining's l1: 0.829616\tvalid_1's l1: 1.11482\n",
      "[300]\ttraining's l1: 0.828325\tvalid_1's l1: 1.11463\n",
      "Early stopping, best iteration is:\n",
      "[281]\ttraining's l1: 0.828581\tvalid_1's l1: 1.11437\n"
     ]
    },
    {
     "name": "stderr",
     "output_type": "stream",
     "text": [
      "\u001b[32m[I 2021-07-29 18:48:46,761]\u001b[0m Trial 11 finished with value: -1.1142490943665355 and parameters: {'max_depth': 10, 'min_child_weight': 7, 'subsample': 0.7, 'colsample_bytree': 0.9, 'reg_lambda': 0.0010902282596383958, 'reg_alpha': 0.08558829751347519, 'feature_fraction': 0.7548387080356556, 'bagging_fraction': 0.5727311377161531, 'bagging_freq': 1, 'num_leaves': 687, 'min_child_samples': 65}. Best is trial 4 with value: -1.1114103404076514.\u001b[0m\n"
     ]
    },
    {
     "name": "stdout",
     "output_type": "stream",
     "text": [
      "[LightGBM] [Warning] feature_fraction is set=0.7529216027507339, colsample_bytree=0.8 will be ignored. Current value: feature_fraction=0.7529216027507339\n",
      "[LightGBM] [Warning] bagging_fraction is set=0.6475261623912845, subsample=0.6 will be ignored. Current value: bagging_fraction=0.6475261623912845\n",
      "[LightGBM] [Warning] bagging_freq is set=7, subsample_freq=0 will be ignored. Current value: bagging_freq=7\n",
      "Training until validation scores don't improve for 100 rounds\n",
      "[100]\ttraining's l1: 0.851033\tvalid_1's l1: 1.12892\n",
      "[200]\ttraining's l1: 0.842804\tvalid_1's l1: 1.11856\n",
      "[300]\ttraining's l1: 0.842343\tvalid_1's l1: 1.11775\n"
     ]
    },
    {
     "name": "stderr",
     "output_type": "stream",
     "text": [
      "\u001b[32m[I 2021-07-29 18:48:56,816]\u001b[0m Trial 12 finished with value: -1.1176210220609815 and parameters: {'max_depth': 7, 'min_child_weight': 1, 'subsample': 0.6, 'colsample_bytree': 0.8, 'reg_lambda': 0.027900396658962736, 'reg_alpha': 0.15571125557844165, 'feature_fraction': 0.7529216027507339, 'bagging_fraction': 0.6475261623912845, 'bagging_freq': 7, 'num_leaves': 949, 'min_child_samples': 51}. Best is trial 4 with value: -1.1114103404076514.\u001b[0m\n"
     ]
    },
    {
     "name": "stdout",
     "output_type": "stream",
     "text": [
      "Early stopping, best iteration is:\n",
      "[227]\ttraining's l1: 0.842389\tvalid_1's l1: 1.1177\n",
      "[LightGBM] [Warning] feature_fraction is set=0.770325506551372, colsample_bytree=0.6 will be ignored. Current value: feature_fraction=0.770325506551372\n",
      "[LightGBM] [Warning] bagging_fraction is set=0.7446164246577558, subsample=0.8 will be ignored. Current value: bagging_fraction=0.7446164246577558\n",
      "[LightGBM] [Warning] bagging_freq is set=1, subsample_freq=0 will be ignored. Current value: bagging_freq=1\n",
      "Training until validation scores don't improve for 100 rounds\n",
      "[100]\ttraining's l1: 0.827944\tvalid_1's l1: 1.11465\n",
      "[200]\ttraining's l1: 0.81817\tvalid_1's l1: 1.11001\n",
      "[300]\ttraining's l1: 0.813834\tvalid_1's l1: 1.10949\n",
      "Early stopping, best iteration is:\n",
      "[234]\ttraining's l1: 0.815635\tvalid_1's l1: 1.10922\n"
     ]
    },
    {
     "name": "stderr",
     "output_type": "stream",
     "text": [
      "\u001b[32m[I 2021-07-29 18:49:17,690]\u001b[0m Trial 13 finished with value: -1.1090055495408355 and parameters: {'max_depth': 13, 'min_child_weight': 7, 'subsample': 0.8, 'colsample_bytree': 0.6, 'reg_lambda': 0.021634299030671926, 'reg_alpha': 5.360854731007601, 'feature_fraction': 0.770325506551372, 'bagging_fraction': 0.7446164246577558, 'bagging_freq': 1, 'num_leaves': 644, 'min_child_samples': 75}. Best is trial 13 with value: -1.1090055495408355.\u001b[0m\n"
     ]
    },
    {
     "name": "stdout",
     "output_type": "stream",
     "text": [
      "[LightGBM] [Warning] feature_fraction is set=0.3440834352528155, colsample_bytree=0.6 will be ignored. Current value: feature_fraction=0.3440834352528155\n",
      "[LightGBM] [Warning] bagging_fraction is set=0.7608941026599386, subsample=0.6 will be ignored. Current value: bagging_fraction=0.7608941026599386\n",
      "[LightGBM] [Warning] bagging_freq is set=1, subsample_freq=0 will be ignored. Current value: bagging_freq=1\n",
      "Training until validation scores don't improve for 100 rounds\n",
      "[100]\ttraining's l1: 0.821405\tvalid_1's l1: 1.11574\n",
      "[200]\ttraining's l1: 0.810617\tvalid_1's l1: 1.11242\n",
      "[300]\ttraining's l1: 0.807106\tvalid_1's l1: 1.11177\n",
      "[400]\ttraining's l1: 0.804728\tvalid_1's l1: 1.11176\n",
      "[500]\ttraining's l1: 0.799225\tvalid_1's l1: 1.11172\n",
      "Early stopping, best iteration is:\n",
      "[447]\ttraining's l1: 0.802399\tvalid_1's l1: 1.1115\n"
     ]
    },
    {
     "name": "stderr",
     "output_type": "stream",
     "text": [
      "\u001b[32m[I 2021-07-29 18:49:48,324]\u001b[0m Trial 14 finished with value: -1.1110909306227847 and parameters: {'max_depth': 13, 'min_child_weight': 9, 'subsample': 0.6, 'colsample_bytree': 0.6, 'reg_lambda': 0.09598502572030333, 'reg_alpha': 1.1717171188079358, 'feature_fraction': 0.3440834352528155, 'bagging_fraction': 0.7608941026599386, 'bagging_freq': 1, 'num_leaves': 844, 'min_child_samples': 78}. Best is trial 13 with value: -1.1090055495408355.\u001b[0m\n"
     ]
    },
    {
     "name": "stdout",
     "output_type": "stream",
     "text": [
      "[LightGBM] [Warning] feature_fraction is set=0.6004815077704972, colsample_bytree=0.6 will be ignored. Current value: feature_fraction=0.6004815077704972\n",
      "[LightGBM] [Warning] bagging_fraction is set=0.767219046380402, subsample=0.6 will be ignored. Current value: bagging_fraction=0.767219046380402\n",
      "[LightGBM] [Warning] bagging_freq is set=1, subsample_freq=0 will be ignored. Current value: bagging_freq=1\n",
      "Training until validation scores don't improve for 100 rounds\n",
      "[100]\ttraining's l1: 0.82792\tvalid_1's l1: 1.11202\n",
      "[200]\ttraining's l1: 0.820221\tvalid_1's l1: 1.10934\n",
      "[300]\ttraining's l1: 0.8177\tvalid_1's l1: 1.10853\n",
      "Early stopping, best iteration is:\n",
      "[252]\ttraining's l1: 0.818377\tvalid_1's l1: 1.10834\n"
     ]
    },
    {
     "name": "stderr",
     "output_type": "stream",
     "text": [
      "\u001b[32m[I 2021-07-29 18:50:12,606]\u001b[0m Trial 15 finished with value: -1.1081457977372065 and parameters: {'max_depth': 14, 'min_child_weight': 8, 'subsample': 0.6, 'colsample_bytree': 0.6, 'reg_lambda': 0.24285460329999561, 'reg_alpha': 2.539105650003328, 'feature_fraction': 0.6004815077704972, 'bagging_fraction': 0.767219046380402, 'bagging_freq': 1, 'num_leaves': 623, 'min_child_samples': 75}. Best is trial 15 with value: -1.1081457977372065.\u001b[0m\n"
     ]
    },
    {
     "name": "stdout",
     "output_type": "stream",
     "text": [
      "[LightGBM] [Warning] feature_fraction is set=0.5766437013383047, colsample_bytree=0.6 will be ignored. Current value: feature_fraction=0.5766437013383047\n",
      "[LightGBM] [Warning] bagging_fraction is set=0.7972060598753952, subsample=0.7 will be ignored. Current value: bagging_fraction=0.7972060598753952\n",
      "[LightGBM] [Warning] bagging_freq is set=3, subsample_freq=0 will be ignored. Current value: bagging_freq=3\n",
      "Training until validation scores don't improve for 100 rounds\n",
      "[100]\ttraining's l1: 0.82726\tvalid_1's l1: 1.11497\n",
      "[200]\ttraining's l1: 0.817664\tvalid_1's l1: 1.11262\n",
      "[300]\ttraining's l1: 0.816712\tvalid_1's l1: 1.1124\n",
      "Early stopping, best iteration is:\n",
      "[227]\ttraining's l1: 0.817067\tvalid_1's l1: 1.11224\n"
     ]
    },
    {
     "name": "stderr",
     "output_type": "stream",
     "text": [
      "\u001b[32m[I 2021-07-29 18:50:38,957]\u001b[0m Trial 16 finished with value: -1.1120442105177533 and parameters: {'max_depth': 14, 'min_child_weight': 5, 'subsample': 0.7, 'colsample_bytree': 0.6, 'reg_lambda': 39.38014851225022, 'reg_alpha': 5.062792553600501, 'feature_fraction': 0.5766437013383047, 'bagging_fraction': 0.7972060598753952, 'bagging_freq': 3, 'num_leaves': 622, 'min_child_samples': 67}. Best is trial 15 with value: -1.1081457977372065.\u001b[0m\n"
     ]
    },
    {
     "name": "stdout",
     "output_type": "stream",
     "text": [
      "[LightGBM] [Warning] feature_fraction is set=0.6701942446148185, colsample_bytree=0.6 will be ignored. Current value: feature_fraction=0.6701942446148185\n",
      "[LightGBM] [Warning] bagging_fraction is set=0.6278415624608937, subsample=0.8 will be ignored. Current value: bagging_fraction=0.6278415624608937\n",
      "[LightGBM] [Warning] bagging_freq is set=1, subsample_freq=0 will be ignored. Current value: bagging_freq=1\n",
      "Training until validation scores don't improve for 100 rounds\n",
      "[100]\ttraining's l1: 0.84477\tvalid_1's l1: 1.12417\n",
      "[200]\ttraining's l1: 0.83812\tvalid_1's l1: 1.11823\n",
      "Early stopping, best iteration is:\n",
      "[184]\ttraining's l1: 0.838241\tvalid_1's l1: 1.11812\n"
     ]
    },
    {
     "name": "stderr",
     "output_type": "stream",
     "text": [
      "\u001b[32m[I 2021-07-29 18:50:50,289]\u001b[0m Trial 17 finished with value: -1.117957897305233 and parameters: {'max_depth': 11, 'min_child_weight': 9, 'subsample': 0.8, 'colsample_bytree': 0.6, 'reg_lambda': 0.17383807021254552, 'reg_alpha': 63.13389802546383, 'feature_fraction': 0.6701942446148185, 'bagging_fraction': 0.6278415624608937, 'bagging_freq': 1, 'num_leaves': 391, 'min_child_samples': 75}. Best is trial 15 with value: -1.1081457977372065.\u001b[0m\n"
     ]
    },
    {
     "name": "stdout",
     "output_type": "stream",
     "text": [
      "[LightGBM] [Warning] feature_fraction is set=0.8463586055777086, colsample_bytree=0.5 will be ignored. Current value: feature_fraction=0.8463586055777086\n",
      "[LightGBM] [Warning] bagging_fraction is set=0.8534917349279474, subsample=0.6 will be ignored. Current value: bagging_fraction=0.8534917349279474\n",
      "[LightGBM] [Warning] bagging_freq is set=17, subsample_freq=0 will be ignored. Current value: bagging_freq=17\n",
      "Training until validation scores don't improve for 100 rounds\n",
      "[100]\ttraining's l1: 0.825115\tvalid_1's l1: 1.11192\n",
      "[200]\ttraining's l1: 0.81496\tvalid_1's l1: 1.10862\n",
      "[300]\ttraining's l1: 0.808311\tvalid_1's l1: 1.1082\n",
      "Early stopping, best iteration is:\n",
      "[274]\ttraining's l1: 0.808989\tvalid_1's l1: 1.10785\n"
     ]
    },
    {
     "name": "stderr",
     "output_type": "stream",
     "text": [
      "\u001b[32m[I 2021-07-29 18:51:21,614]\u001b[0m Trial 18 finished with value: -1.1076516440735034 and parameters: {'max_depth': 16, 'min_child_weight': 10, 'subsample': 0.6, 'colsample_bytree': 0.5, 'reg_lambda': 11.849258639169202, 'reg_alpha': 0.4817980957248718, 'feature_fraction': 0.8463586055777086, 'bagging_fraction': 0.8534917349279474, 'bagging_freq': 17, 'num_leaves': 692, 'min_child_samples': 56}. Best is trial 18 with value: -1.1076516440735034.\u001b[0m\n"
     ]
    },
    {
     "name": "stdout",
     "output_type": "stream",
     "text": [
      "[LightGBM] [Warning] feature_fraction is set=0.8585546281945888, colsample_bytree=0.5 will be ignored. Current value: feature_fraction=0.8585546281945888\n",
      "[LightGBM] [Warning] bagging_fraction is set=0.8798841748050955, subsample=0.6 will be ignored. Current value: bagging_fraction=0.8798841748050955\n",
      "[LightGBM] [Warning] bagging_freq is set=18, subsample_freq=0 will be ignored. Current value: bagging_freq=18\n",
      "Training until validation scores don't improve for 100 rounds\n",
      "[100]\ttraining's l1: 0.821736\tvalid_1's l1: 1.11049\n",
      "[200]\ttraining's l1: 0.815189\tvalid_1's l1: 1.10864\n",
      "[300]\ttraining's l1: 0.810096\tvalid_1's l1: 1.10831\n",
      "Early stopping, best iteration is:\n",
      "[224]\ttraining's l1: 0.812222\tvalid_1's l1: 1.10799\n"
     ]
    },
    {
     "name": "stderr",
     "output_type": "stream",
     "text": [
      "\u001b[32m[I 2021-07-29 18:51:49,771]\u001b[0m Trial 19 finished with value: -1.1078063440167858 and parameters: {'max_depth': 16, 'min_child_weight': 11, 'subsample': 0.6, 'colsample_bytree': 0.5, 'reg_lambda': 5.7871349771866205, 'reg_alpha': 0.6017799908753504, 'feature_fraction': 0.8585546281945888, 'bagging_fraction': 0.8798841748050955, 'bagging_freq': 18, 'num_leaves': 722, 'min_child_samples': 52}. Best is trial 18 with value: -1.1076516440735034.\u001b[0m\n"
     ]
    },
    {
     "name": "stdout",
     "output_type": "stream",
     "text": [
      "[LightGBM] [Warning] feature_fraction is set=0.8633954850283412, colsample_bytree=0.5 will be ignored. Current value: feature_fraction=0.8633954850283412\n",
      "[LightGBM] [Warning] bagging_fraction is set=0.8934252328372686, subsample=0.6 will be ignored. Current value: bagging_fraction=0.8934252328372686\n",
      "[LightGBM] [Warning] bagging_freq is set=20, subsample_freq=0 will be ignored. Current value: bagging_freq=20\n",
      "Training until validation scores don't improve for 100 rounds\n",
      "[100]\ttraining's l1: 0.821378\tvalid_1's l1: 1.11334\n",
      "[200]\ttraining's l1: 0.812462\tvalid_1's l1: 1.11055\n",
      "[300]\ttraining's l1: 0.805792\tvalid_1's l1: 1.10875\n",
      "Early stopping, best iteration is:\n",
      "[277]\ttraining's l1: 0.80725\tvalid_1's l1: 1.10864\n"
     ]
    },
    {
     "name": "stderr",
     "output_type": "stream",
     "text": [
      "\u001b[32m[I 2021-07-29 18:52:23,022]\u001b[0m Trial 20 finished with value: -1.1084648138676632 and parameters: {'max_depth': 16, 'min_child_weight': 12, 'subsample': 0.6, 'colsample_bytree': 0.5, 'reg_lambda': 16.405189955861005, 'reg_alpha': 0.32831976173977817, 'feature_fraction': 0.8633954850283412, 'bagging_fraction': 0.8934252328372686, 'bagging_freq': 20, 'num_leaves': 745, 'min_child_samples': 51}. Best is trial 18 with value: -1.1076516440735034.\u001b[0m\n"
     ]
    },
    {
     "name": "stdout",
     "output_type": "stream",
     "text": [
      "[LightGBM] [Warning] feature_fraction is set=0.8424327108322008, colsample_bytree=0.5 will be ignored. Current value: feature_fraction=0.8424327108322008\n",
      "[LightGBM] [Warning] bagging_fraction is set=0.9855173024363539, subsample=0.6 will be ignored. Current value: bagging_fraction=0.9855173024363539\n",
      "[LightGBM] [Warning] bagging_freq is set=17, subsample_freq=0 will be ignored. Current value: bagging_freq=17\n",
      "Training until validation scores don't improve for 100 rounds\n",
      "[100]\ttraining's l1: 0.831721\tvalid_1's l1: 1.11343\n",
      "[200]\ttraining's l1: 0.828993\tvalid_1's l1: 1.11139\n",
      "[300]\ttraining's l1: 0.827533\tvalid_1's l1: 1.1105\n",
      "[400]\ttraining's l1: 0.825192\tvalid_1's l1: 1.10958\n",
      "[500]\ttraining's l1: 0.821118\tvalid_1's l1: 1.10853\n",
      "[600]\ttraining's l1: 0.819145\tvalid_1's l1: 1.10822\n",
      "[700]\ttraining's l1: 0.810928\tvalid_1's l1: 1.10757\n",
      "[800]\ttraining's l1: 0.795842\tvalid_1's l1: 1.10703\n",
      "[900]\ttraining's l1: 0.786393\tvalid_1's l1: 1.10717\n",
      "Early stopping, best iteration is:\n",
      "[875]\ttraining's l1: 0.788562\tvalid_1's l1: 1.10678\n"
     ]
    },
    {
     "name": "stderr",
     "output_type": "stream",
     "text": [
      "\u001b[32m[I 2021-07-29 18:53:33,612]\u001b[0m Trial 21 finished with value: -1.106305486441666 and parameters: {'max_depth': 16, 'min_child_weight': 10, 'subsample': 0.6, 'colsample_bytree': 0.5, 'reg_lambda': 9.547515869019984, 'reg_alpha': 0.6359990342316104, 'feature_fraction': 0.8424327108322008, 'bagging_fraction': 0.9855173024363539, 'bagging_freq': 17, 'num_leaves': 541, 'min_child_samples': 58}. Best is trial 21 with value: -1.106305486441666.\u001b[0m\n"
     ]
    },
    {
     "name": "stdout",
     "output_type": "stream",
     "text": [
      "[LightGBM] [Warning] feature_fraction is set=0.8334492951768707, colsample_bytree=0.5 will be ignored. Current value: feature_fraction=0.8334492951768707\n",
      "[LightGBM] [Warning] bagging_fraction is set=0.9833986926061871, subsample=0.6 will be ignored. Current value: bagging_fraction=0.9833986926061871\n",
      "[LightGBM] [Warning] bagging_freq is set=18, subsample_freq=0 will be ignored. Current value: bagging_freq=18\n",
      "Training until validation scores don't improve for 100 rounds\n",
      "[100]\ttraining's l1: 0.833202\tvalid_1's l1: 1.11368\n",
      "[200]\ttraining's l1: 0.829475\tvalid_1's l1: 1.11158\n",
      "[300]\ttraining's l1: 0.827985\tvalid_1's l1: 1.11093\n",
      "[400]\ttraining's l1: 0.82619\tvalid_1's l1: 1.11042\n",
      "[500]\ttraining's l1: 0.823934\tvalid_1's l1: 1.1092\n",
      "[600]\ttraining's l1: 0.816654\tvalid_1's l1: 1.10897\n",
      "[700]\ttraining's l1: 0.804955\tvalid_1's l1: 1.10792\n",
      "[800]\ttraining's l1: 0.794671\tvalid_1's l1: 1.10751\n",
      "Early stopping, best iteration is:\n",
      "[722]\ttraining's l1: 0.803953\tvalid_1's l1: 1.10738\n"
     ]
    },
    {
     "name": "stderr",
     "output_type": "stream",
     "text": [
      "\u001b[32m[I 2021-07-29 18:54:33,055]\u001b[0m Trial 22 finished with value: -1.1070282980324297 and parameters: {'max_depth': 16, 'min_child_weight': 11, 'subsample': 0.6, 'colsample_bytree': 0.5, 'reg_lambda': 9.56981481954204, 'reg_alpha': 0.294820114816357, 'feature_fraction': 0.8334492951768707, 'bagging_fraction': 0.9833986926061871, 'bagging_freq': 18, 'num_leaves': 532, 'min_child_samples': 59}. Best is trial 21 with value: -1.106305486441666.\u001b[0m\n"
     ]
    },
    {
     "name": "stdout",
     "output_type": "stream",
     "text": [
      "[LightGBM] [Warning] feature_fraction is set=0.9836823218521156, colsample_bytree=0.5 will be ignored. Current value: feature_fraction=0.9836823218521156\n",
      "[LightGBM] [Warning] bagging_fraction is set=0.9930594663799601, subsample=0.5 will be ignored. Current value: bagging_fraction=0.9930594663799601\n",
      "[LightGBM] [Warning] bagging_freq is set=17, subsample_freq=0 will be ignored. Current value: bagging_freq=17\n",
      "Training until validation scores don't improve for 100 rounds\n",
      "[100]\ttraining's l1: 0.832922\tvalid_1's l1: 1.1164\n",
      "[200]\ttraining's l1: 0.823267\tvalid_1's l1: 1.11139\n",
      "[300]\ttraining's l1: 0.818162\tvalid_1's l1: 1.11078\n",
      "[400]\ttraining's l1: 0.811679\tvalid_1's l1: 1.11012\n",
      "[500]\ttraining's l1: 0.806507\tvalid_1's l1: 1.10954\n",
      "[600]\ttraining's l1: 0.802111\tvalid_1's l1: 1.10938\n",
      "Early stopping, best iteration is:\n",
      "[543]\ttraining's l1: 0.804263\tvalid_1's l1: 1.10919\n"
     ]
    },
    {
     "name": "stderr",
     "output_type": "stream",
     "text": [
      "\u001b[32m[I 2021-07-29 18:55:32,745]\u001b[0m Trial 23 finished with value: -1.1086820095385632 and parameters: {'max_depth': 20, 'min_child_weight': 10, 'subsample': 0.5, 'colsample_bytree': 0.5, 'reg_lambda': 883.8689846487612, 'reg_alpha': 0.024399893132542406, 'feature_fraction': 0.9836823218521156, 'bagging_fraction': 0.9930594663799601, 'bagging_freq': 17, 'num_leaves': 494, 'min_child_samples': 58}. Best is trial 21 with value: -1.106305486441666.\u001b[0m\n"
     ]
    },
    {
     "name": "stdout",
     "output_type": "stream",
     "text": [
      "[LightGBM] [Warning] feature_fraction is set=0.8549230228001411, colsample_bytree=0.5 will be ignored. Current value: feature_fraction=0.8549230228001411\n",
      "[LightGBM] [Warning] bagging_fraction is set=0.9586713950881862, subsample=0.6 will be ignored. Current value: bagging_fraction=0.9586713950881862\n",
      "[LightGBM] [Warning] bagging_freq is set=17, subsample_freq=0 will be ignored. Current value: bagging_freq=17\n",
      "Training until validation scores don't improve for 100 rounds\n",
      "[100]\ttraining's l1: 0.842614\tvalid_1's l1: 1.12112\n",
      "[200]\ttraining's l1: 0.840849\tvalid_1's l1: 1.11846\n",
      "[300]\ttraining's l1: 0.840384\tvalid_1's l1: 1.11796\n",
      "[400]\ttraining's l1: 0.83976\tvalid_1's l1: 1.11758\n",
      "[500]\ttraining's l1: 0.836636\tvalid_1's l1: 1.11593\n",
      "[600]\ttraining's l1: 0.833092\tvalid_1's l1: 1.11451\n",
      "[700]\ttraining's l1: 0.831064\tvalid_1's l1: 1.11441\n",
      "[800]\ttraining's l1: 0.824951\tvalid_1's l1: 1.11216\n",
      "[900]\ttraining's l1: 0.814004\tvalid_1's l1: 1.11089\n",
      "[1000]\ttraining's l1: 0.806859\tvalid_1's l1: 1.11025\n",
      "[1100]\ttraining's l1: 0.802489\tvalid_1's l1: 1.11028\n",
      "[1200]\ttraining's l1: 0.793071\tvalid_1's l1: 1.11051\n",
      "Early stopping, best iteration is:\n",
      "[1121]\ttraining's l1: 0.800657\tvalid_1's l1: 1.10998\n"
     ]
    },
    {
     "name": "stderr",
     "output_type": "stream",
     "text": [
      "\u001b[32m[I 2021-07-29 18:56:37,022]\u001b[0m Trial 24 finished with value: -1.1096005723317504 and parameters: {'max_depth': 16, 'min_child_weight': 13, 'subsample': 0.6, 'colsample_bytree': 0.5, 'reg_lambda': 16.3198747277684, 'reg_alpha': 0.3359431670032331, 'feature_fraction': 0.8549230228001411, 'bagging_fraction': 0.9586713950881862, 'bagging_freq': 17, 'num_leaves': 326, 'min_child_samples': 40}. Best is trial 21 with value: -1.106305486441666.\u001b[0m\n"
     ]
    },
    {
     "name": "stdout",
     "output_type": "stream",
     "text": [
      "[LightGBM] [Warning] feature_fraction is set=0.6884064585306662, colsample_bytree=0.5 will be ignored. Current value: feature_fraction=0.6884064585306662\n",
      "[LightGBM] [Warning] bagging_fraction is set=0.8494990036843599, subsample=0.7 will be ignored. Current value: bagging_fraction=0.8494990036843599\n",
      "[LightGBM] [Warning] bagging_freq is set=18, subsample_freq=0 will be ignored. Current value: bagging_freq=18\n",
      "Training until validation scores don't improve for 100 rounds\n",
      "[100]\ttraining's l1: 0.832571\tvalid_1's l1: 1.1195\n",
      "[200]\ttraining's l1: 0.82311\tvalid_1's l1: 1.11368\n",
      "[300]\ttraining's l1: 0.819734\tvalid_1's l1: 1.11253\n",
      "[400]\ttraining's l1: 0.818881\tvalid_1's l1: 1.11215\n",
      "[500]\ttraining's l1: 0.818156\tvalid_1's l1: 1.11208\n",
      "[600]\ttraining's l1: 0.817709\tvalid_1's l1: 1.11191\n",
      "[700]\ttraining's l1: 0.816635\tvalid_1's l1: 1.11138\n",
      "[800]\ttraining's l1: 0.813521\tvalid_1's l1: 1.11122\n",
      "[900]\ttraining's l1: 0.811357\tvalid_1's l1: 1.11086\n",
      "[1000]\ttraining's l1: 0.807117\tvalid_1's l1: 1.11123\n",
      "Early stopping, best iteration is:\n",
      "[926]\ttraining's l1: 0.811007\tvalid_1's l1: 1.11055\n"
     ]
    },
    {
     "name": "stderr",
     "output_type": "stream",
     "text": [
      "\u001b[32m[I 2021-07-29 18:57:24,360]\u001b[0m Trial 25 finished with value: -1.110268885694656 and parameters: {'max_depth': 11, 'min_child_weight': 11, 'subsample': 0.7, 'colsample_bytree': 0.5, 'reg_lambda': 62.87274200514598, 'reg_alpha': 0.02090173153295786, 'feature_fraction': 0.6884064585306662, 'bagging_fraction': 0.8494990036843599, 'bagging_freq': 18, 'num_leaves': 558, 'min_child_samples': 31}. Best is trial 21 with value: -1.106305486441666.\u001b[0m\n"
     ]
    },
    {
     "name": "stdout",
     "output_type": "stream",
     "text": [
      "[LightGBM] [Warning] feature_fraction is set=0.8266377217794134, colsample_bytree=0.5 will be ignored. Current value: feature_fraction=0.8266377217794134\n",
      "[LightGBM] [Warning] bagging_fraction is set=0.9944195714140452, subsample=0.5 will be ignored. Current value: bagging_fraction=0.9944195714140452\n",
      "[LightGBM] [Warning] bagging_freq is set=15, subsample_freq=0 will be ignored. Current value: bagging_freq=15\n",
      "Training until validation scores don't improve for 100 rounds\n",
      "[100]\ttraining's l1: 0.831917\tvalid_1's l1: 1.11609\n",
      "[200]\ttraining's l1: 0.821852\tvalid_1's l1: 1.11086\n",
      "[300]\ttraining's l1: 0.817054\tvalid_1's l1: 1.10975\n",
      "[400]\ttraining's l1: 0.816575\tvalid_1's l1: 1.10974\n",
      "Early stopping, best iteration is:\n",
      "[360]\ttraining's l1: 0.816703\tvalid_1's l1: 1.10965\n"
     ]
    },
    {
     "name": "stderr",
     "output_type": "stream",
     "text": [
      "\u001b[32m[I 2021-07-29 18:58:04,328]\u001b[0m Trial 26 finished with value: -1.1094365754996172 and parameters: {'max_depth': 20, 'min_child_weight': 18, 'subsample': 0.5, 'colsample_bytree': 0.5, 'reg_lambda': 528.4403961908141, 'reg_alpha': 0.0012386525808537401, 'feature_fraction': 0.8266377217794134, 'bagging_fraction': 0.9944195714140452, 'bagging_freq': 15, 'num_leaves': 531, 'min_child_samples': 58}. Best is trial 21 with value: -1.106305486441666.\u001b[0m\n"
     ]
    },
    {
     "name": "stdout",
     "output_type": "stream",
     "text": [
      "[LightGBM] [Warning] feature_fraction is set=0.6765887287184515, colsample_bytree=0.5 will be ignored. Current value: feature_fraction=0.6765887287184515\n",
      "[LightGBM] [Warning] bagging_fraction is set=0.9594515587727286, subsample=0.6 will be ignored. Current value: bagging_fraction=0.9594515587727286\n",
      "[LightGBM] [Warning] bagging_freq is set=19, subsample_freq=0 will be ignored. Current value: bagging_freq=19\n",
      "Training until validation scores don't improve for 100 rounds\n",
      "[100]\ttraining's l1: 0.837453\tvalid_1's l1: 1.11443\n",
      "[200]\ttraining's l1: 0.835089\tvalid_1's l1: 1.1135\n",
      "[300]\ttraining's l1: 0.832608\tvalid_1's l1: 1.11266\n",
      "[400]\ttraining's l1: 0.829568\tvalid_1's l1: 1.1124\n",
      "[500]\ttraining's l1: 0.82567\tvalid_1's l1: 1.11178\n",
      "[600]\ttraining's l1: 0.818609\tvalid_1's l1: 1.11045\n",
      "[700]\ttraining's l1: 0.81136\tvalid_1's l1: 1.10936\n",
      "Early stopping, best iteration is:\n",
      "[665]\ttraining's l1: 0.811839\tvalid_1's l1: 1.10921\n"
     ]
    },
    {
     "name": "stderr",
     "output_type": "stream",
     "text": [
      "\u001b[32m[I 2021-07-29 18:58:45,748]\u001b[0m Trial 27 finished with value: -1.1089842198543227 and parameters: {'max_depth': 17, 'min_child_weight': 4, 'subsample': 0.6, 'colsample_bytree': 0.5, 'reg_lambda': 12.061051267254014, 'reg_alpha': 0.24109301797060562, 'feature_fraction': 0.6765887287184515, 'bagging_fraction': 0.9594515587727286, 'bagging_freq': 19, 'num_leaves': 429, 'min_child_samples': 59}. Best is trial 21 with value: -1.106305486441666.\u001b[0m\n"
     ]
    },
    {
     "name": "stdout",
     "output_type": "stream",
     "text": [
      "[LightGBM] [Warning] feature_fraction is set=0.933076914465345, colsample_bytree=0.6 will be ignored. Current value: feature_fraction=0.933076914465345\n",
      "[LightGBM] [Warning] bagging_fraction is set=0.8591189286783673, subsample=0.7 will be ignored. Current value: bagging_fraction=0.8591189286783673\n",
      "[LightGBM] [Warning] bagging_freq is set=16, subsample_freq=0 will be ignored. Current value: bagging_freq=16\n",
      "Training until validation scores don't improve for 100 rounds\n",
      "[100]\ttraining's l1: 0.841714\tvalid_1's l1: 1.11907\n",
      "[200]\ttraining's l1: 0.839448\tvalid_1's l1: 1.11663\n",
      "[300]\ttraining's l1: 0.83831\tvalid_1's l1: 1.11522\n",
      "[400]\ttraining's l1: 0.836611\tvalid_1's l1: 1.11341\n",
      "[500]\ttraining's l1: 0.833281\tvalid_1's l1: 1.11172\n",
      "[600]\ttraining's l1: 0.830497\tvalid_1's l1: 1.1112\n",
      "[700]\ttraining's l1: 0.826234\tvalid_1's l1: 1.11045\n",
      "[800]\ttraining's l1: 0.818893\tvalid_1's l1: 1.10849\n",
      "[900]\ttraining's l1: 0.814166\tvalid_1's l1: 1.10811\n",
      "Early stopping, best iteration is:\n",
      "[877]\ttraining's l1: 0.81646\tvalid_1's l1: 1.10809\n"
     ]
    },
    {
     "name": "stderr",
     "output_type": "stream",
     "text": [
      "\u001b[32m[I 2021-07-29 18:59:40,138]\u001b[0m Trial 28 finished with value: -1.1078158858225142 and parameters: {'max_depth': 15, 'min_child_weight': 13, 'subsample': 0.7, 'colsample_bytree': 0.6, 'reg_lambda': 0.708409122620234, 'reg_alpha': 0.7020997921968672, 'feature_fraction': 0.933076914465345, 'bagging_fraction': 0.8591189286783673, 'bagging_freq': 16, 'num_leaves': 365, 'min_child_samples': 46}. Best is trial 21 with value: -1.106305486441666.\u001b[0m\n"
     ]
    },
    {
     "name": "stdout",
     "output_type": "stream",
     "text": [
      "[LightGBM] [Warning] feature_fraction is set=0.8100129727479257, colsample_bytree=0.5 will be ignored. Current value: feature_fraction=0.8100129727479257\n",
      "[LightGBM] [Warning] bagging_fraction is set=0.8162733238647765, subsample=0.6 will be ignored. Current value: bagging_fraction=0.8162733238647765\n",
      "[LightGBM] [Warning] bagging_freq is set=13, subsample_freq=0 will be ignored. Current value: bagging_freq=13\n",
      "Training until validation scores don't improve for 100 rounds\n",
      "[100]\ttraining's l1: 0.82314\tvalid_1's l1: 1.11323\n",
      "[200]\ttraining's l1: 0.810985\tvalid_1's l1: 1.10799\n",
      "[300]\ttraining's l1: 0.80634\tvalid_1's l1: 1.10725\n",
      "Early stopping, best iteration is:\n",
      "[244]\ttraining's l1: 0.807558\tvalid_1's l1: 1.10681\n"
     ]
    },
    {
     "name": "stderr",
     "output_type": "stream",
     "text": [
      "\u001b[32m[I 2021-07-29 19:00:04,281]\u001b[0m Trial 29 finished with value: -1.106630204515342 and parameters: {'max_depth': 12, 'min_child_weight': 10, 'subsample': 0.6, 'colsample_bytree': 0.5, 'reg_lambda': 2.3161588008105327, 'reg_alpha': 0.057810359596103554, 'feature_fraction': 0.8100129727479257, 'bagging_fraction': 0.8162733238647765, 'bagging_freq': 13, 'num_leaves': 868, 'min_child_samples': 31}. Best is trial 21 with value: -1.106305486441666.\u001b[0m\n"
     ]
    },
    {
     "name": "stdout",
     "output_type": "stream",
     "text": [
      "[LightGBM] [Warning] feature_fraction is set=0.7098385085347181, colsample_bytree=0.7 will be ignored. Current value: feature_fraction=0.7098385085347181\n",
      "[LightGBM] [Warning] bagging_fraction is set=0.7037049950408714, subsample=0.5 will be ignored. Current value: bagging_fraction=0.7037049950408714\n",
      "[LightGBM] [Warning] bagging_freq is set=13, subsample_freq=0 will be ignored. Current value: bagging_freq=13\n",
      "Training until validation scores don't improve for 100 rounds\n",
      "[100]\ttraining's l1: 0.892129\tvalid_1's l1: 1.18211\n",
      "[200]\ttraining's l1: 0.892077\tvalid_1's l1: 1.18205\n",
      "[300]\ttraining's l1: 0.890921\tvalid_1's l1: 1.17954\n",
      "[400]\ttraining's l1: 0.888676\tvalid_1's l1: 1.17588\n",
      "[500]\ttraining's l1: 0.887543\tvalid_1's l1: 1.17308\n",
      "[600]\ttraining's l1: 0.884982\tvalid_1's l1: 1.17041\n",
      "[700]\ttraining's l1: 0.881768\tvalid_1's l1: 1.16403\n",
      "[800]\ttraining's l1: 0.880172\tvalid_1's l1: 1.16105\n",
      "[900]\ttraining's l1: 0.879343\tvalid_1's l1: 1.15972\n",
      "[1000]\ttraining's l1: 0.877817\tvalid_1's l1: 1.1575\n",
      "[1100]\ttraining's l1: 0.876256\tvalid_1's l1: 1.15471\n",
      "[1200]\ttraining's l1: 0.87243\tvalid_1's l1: 1.14825\n",
      "[1300]\ttraining's l1: 0.869679\tvalid_1's l1: 1.14282\n",
      "[1400]\ttraining's l1: 0.868326\tvalid_1's l1: 1.14154\n",
      "[1500]\ttraining's l1: 0.866049\tvalid_1's l1: 1.13748\n",
      "[1600]\ttraining's l1: 0.863818\tvalid_1's l1: 1.1336\n",
      "[1700]\ttraining's l1: 0.862971\tvalid_1's l1: 1.13254\n",
      "[1800]\ttraining's l1: 0.860702\tvalid_1's l1: 1.12936\n",
      "[1900]\ttraining's l1: 0.858645\tvalid_1's l1: 1.12671\n",
      "[2000]\ttraining's l1: 0.856867\tvalid_1's l1: 1.1252\n",
      "[2100]\ttraining's l1: 0.855469\tvalid_1's l1: 1.1239\n",
      "[2200]\ttraining's l1: 0.853726\tvalid_1's l1: 1.12174\n",
      "[2300]\ttraining's l1: 0.852954\tvalid_1's l1: 1.12117\n",
      "[2400]\ttraining's l1: 0.850556\tvalid_1's l1: 1.11868\n",
      "[2500]\ttraining's l1: 0.849504\tvalid_1's l1: 1.11807\n",
      "[2600]\ttraining's l1: 0.848182\tvalid_1's l1: 1.11721\n",
      "[2700]\ttraining's l1: 0.845979\tvalid_1's l1: 1.11569\n",
      "[2800]\ttraining's l1: 0.845276\tvalid_1's l1: 1.11527\n",
      "[2900]\ttraining's l1: 0.844162\tvalid_1's l1: 1.11507\n",
      "Early stopping, best iteration is:\n",
      "[2882]\ttraining's l1: 0.844173\tvalid_1's l1: 1.11505\n"
     ]
    },
    {
     "name": "stderr",
     "output_type": "stream",
     "text": [
      "\u001b[32m[I 2021-07-29 19:01:03,154]\u001b[0m Trial 30 finished with value: -1.1147293643417289 and parameters: {'max_depth': 12, 'min_child_weight': 8, 'subsample': 0.5, 'colsample_bytree': 0.7, 'reg_lambda': 2.09630290129621, 'reg_alpha': 0.05349095567694148, 'feature_fraction': 0.7098385085347181, 'bagging_fraction': 0.7037049950408714, 'bagging_freq': 13, 'num_leaves': 21, 'min_child_samples': 24}. Best is trial 21 with value: -1.106305486441666.\u001b[0m\n"
     ]
    },
    {
     "name": "stdout",
     "output_type": "stream",
     "text": [
      "[LightGBM] [Warning] feature_fraction is set=0.9997665324326099, colsample_bytree=0.5 will be ignored. Current value: feature_fraction=0.9997665324326099\n",
      "[LightGBM] [Warning] bagging_fraction is set=0.8349256294206606, subsample=0.6 will be ignored. Current value: bagging_fraction=0.8349256294206606\n",
      "[LightGBM] [Warning] bagging_freq is set=16, subsample_freq=0 will be ignored. Current value: bagging_freq=16\n",
      "Training until validation scores don't improve for 100 rounds\n",
      "[100]\ttraining's l1: 0.817206\tvalid_1's l1: 1.11269\n",
      "[200]\ttraining's l1: 0.801811\tvalid_1's l1: 1.11021\n",
      "[300]\ttraining's l1: 0.789061\tvalid_1's l1: 1.11088\n",
      "Early stopping, best iteration is:\n",
      "[220]\ttraining's l1: 0.798693\tvalid_1's l1: 1.11003\n"
     ]
    },
    {
     "name": "stderr",
     "output_type": "stream",
     "text": [
      "\u001b[32m[I 2021-07-29 19:01:34,385]\u001b[0m Trial 31 finished with value: -1.1097704007446212 and parameters: {'max_depth': 15, 'min_child_weight': 10, 'subsample': 0.6, 'colsample_bytree': 0.5, 'reg_lambda': 5.471196941026613, 'reg_alpha': 0.11045172839017339, 'feature_fraction': 0.9997665324326099, 'bagging_fraction': 0.8349256294206606, 'bagging_freq': 16, 'num_leaves': 845, 'min_child_samples': 63}. Best is trial 21 with value: -1.106305486441666.\u001b[0m\n"
     ]
    },
    {
     "name": "stdout",
     "output_type": "stream",
     "text": [
      "[LightGBM] [Warning] feature_fraction is set=0.7994576434684646, colsample_bytree=0.5 will be ignored. Current value: feature_fraction=0.7994576434684646\n",
      "[LightGBM] [Warning] bagging_fraction is set=0.9307490037628265, subsample=0.6 will be ignored. Current value: bagging_fraction=0.9307490037628265\n",
      "[LightGBM] [Warning] bagging_freq is set=14, subsample_freq=0 will be ignored. Current value: bagging_freq=14\n",
      "Training until validation scores don't improve for 100 rounds\n",
      "[100]\ttraining's l1: 0.816184\tvalid_1's l1: 1.11031\n",
      "[200]\ttraining's l1: 0.803954\tvalid_1's l1: 1.10865\n",
      "[300]\ttraining's l1: 0.79337\tvalid_1's l1: 1.1078\n",
      "[400]\ttraining's l1: 0.790307\tvalid_1's l1: 1.10818\n",
      "Early stopping, best iteration is:\n",
      "[306]\ttraining's l1: 0.793232\tvalid_1's l1: 1.10775\n"
     ]
    },
    {
     "name": "stderr",
     "output_type": "stream",
     "text": [
      "\u001b[32m[I 2021-07-29 19:02:10,312]\u001b[0m Trial 32 finished with value: -1.1074439809053809 and parameters: {'max_depth': 18, 'min_child_weight': 9, 'subsample': 0.6, 'colsample_bytree': 0.5, 'reg_lambda': 39.36597872604909, 'reg_alpha': 0.012939469062464253, 'feature_fraction': 0.7994576434684646, 'bagging_fraction': 0.9307490037628265, 'bagging_freq': 14, 'num_leaves': 880, 'min_child_samples': 46}. Best is trial 21 with value: -1.106305486441666.\u001b[0m\n"
     ]
    },
    {
     "name": "stdout",
     "output_type": "stream",
     "text": [
      "[LightGBM] [Warning] feature_fraction is set=0.8994301943282957, colsample_bytree=0.5 will be ignored. Current value: feature_fraction=0.8994301943282957\n",
      "[LightGBM] [Warning] bagging_fraction is set=0.9341743507365557, subsample=0.7 will be ignored. Current value: bagging_fraction=0.9341743507365557\n",
      "[LightGBM] [Warning] bagging_freq is set=13, subsample_freq=0 will be ignored. Current value: bagging_freq=13\n",
      "Training until validation scores don't improve for 100 rounds\n",
      "[100]\ttraining's l1: 0.840704\tvalid_1's l1: 1.12217\n",
      "[200]\ttraining's l1: 0.831359\tvalid_1's l1: 1.11568\n",
      "[300]\ttraining's l1: 0.826421\tvalid_1's l1: 1.11294\n",
      "[400]\ttraining's l1: 0.81948\tvalid_1's l1: 1.11087\n",
      "[500]\ttraining's l1: 0.81826\tvalid_1's l1: 1.11058\n",
      "Early stopping, best iteration is:\n",
      "[448]\ttraining's l1: 0.818373\tvalid_1's l1: 1.11041\n"
     ]
    },
    {
     "name": "stderr",
     "output_type": "stream",
     "text": [
      "\u001b[32m[I 2021-07-29 19:02:36,440]\u001b[0m Trial 33 finished with value: -1.1101673498365034 and parameters: {'max_depth': 9, 'min_child_weight': 12, 'subsample': 0.7, 'colsample_bytree': 0.5, 'reg_lambda': 35.37721008402931, 'reg_alpha': 0.010634036865240738, 'feature_fraction': 0.8994301943282957, 'bagging_fraction': 0.9341743507365557, 'bagging_freq': 13, 'num_leaves': 870, 'min_child_samples': 34}. Best is trial 21 with value: -1.106305486441666.\u001b[0m\n"
     ]
    },
    {
     "name": "stdout",
     "output_type": "stream",
     "text": [
      "[LightGBM] [Warning] feature_fraction is set=0.7949068602345633, colsample_bytree=0.5 will be ignored. Current value: feature_fraction=0.7949068602345633\n",
      "[LightGBM] [Warning] bagging_fraction is set=0.9995570080077627, subsample=0.6 will be ignored. Current value: bagging_fraction=0.9995570080077627\n",
      "[LightGBM] [Warning] bagging_freq is set=14, subsample_freq=0 will be ignored. Current value: bagging_freq=14\n",
      "Training until validation scores don't improve for 100 rounds\n",
      "[100]\ttraining's l1: 0.816962\tvalid_1's l1: 1.1142\n",
      "[200]\ttraining's l1: 0.793793\tvalid_1's l1: 1.11187\n",
      "[300]\ttraining's l1: 0.784828\tvalid_1's l1: 1.11177\n",
      "Early stopping, best iteration is:\n",
      "[257]\ttraining's l1: 0.78624\tvalid_1's l1: 1.11161\n"
     ]
    },
    {
     "name": "stderr",
     "output_type": "stream",
     "text": [
      "\u001b[32m[I 2021-07-29 19:03:12,183]\u001b[0m Trial 34 finished with value: -1.1112656930612186 and parameters: {'max_depth': 18, 'min_child_weight': 9, 'subsample': 0.6, 'colsample_bytree': 0.5, 'reg_lambda': 155.34965635692123, 'reg_alpha': 0.010829356896280009, 'feature_fraction': 0.7949068602345633, 'bagging_fraction': 0.9995570080077627, 'bagging_freq': 14, 'num_leaves': 895, 'min_child_samples': 24}. Best is trial 21 with value: -1.106305486441666.\u001b[0m\n"
     ]
    },
    {
     "name": "stdout",
     "output_type": "stream",
     "text": [
      "[LightGBM] [Warning] feature_fraction is set=0.8133358061609589, colsample_bytree=0.6 will be ignored. Current value: feature_fraction=0.8133358061609589\n",
      "[LightGBM] [Warning] bagging_fraction is set=0.953862612970971, subsample=0.7 will be ignored. Current value: bagging_fraction=0.953862612970971\n",
      "[LightGBM] [Warning] bagging_freq is set=10, subsample_freq=0 will be ignored. Current value: bagging_freq=10\n",
      "Training until validation scores don't improve for 100 rounds\n",
      "[100]\ttraining's l1: 0.835962\tvalid_1's l1: 1.11915\n",
      "[200]\ttraining's l1: 0.834208\tvalid_1's l1: 1.11791\n",
      "Early stopping, best iteration is:\n",
      "[174]\ttraining's l1: 0.834482\tvalid_1's l1: 1.1178\n"
     ]
    },
    {
     "name": "stderr",
     "output_type": "stream",
     "text": [
      "\u001b[32m[I 2021-07-29 19:03:30,073]\u001b[0m Trial 35 finished with value: -1.1177564685708956 and parameters: {'max_depth': 18, 'min_child_weight': 8, 'subsample': 0.7, 'colsample_bytree': 0.6, 'reg_lambda': 0.8702808696698443, 'reg_alpha': 0.0017265400268056358, 'feature_fraction': 0.8133358061609589, 'bagging_fraction': 0.953862612970971, 'bagging_freq': 10, 'num_leaves': 479, 'min_child_samples': 43}. Best is trial 21 with value: -1.106305486441666.\u001b[0m\n"
     ]
    },
    {
     "name": "stdout",
     "output_type": "stream",
     "text": [
      "[LightGBM] [Warning] feature_fraction is set=0.7296336807175625, colsample_bytree=0.5 will be ignored. Current value: feature_fraction=0.7296336807175625\n",
      "[LightGBM] [Warning] bagging_fraction is set=0.8034094068183222, subsample=0.5 will be ignored. Current value: bagging_fraction=0.8034094068183222\n",
      "[LightGBM] [Warning] bagging_freq is set=15, subsample_freq=0 will be ignored. Current value: bagging_freq=15\n",
      "Training until validation scores don't improve for 100 rounds\n",
      "[100]\ttraining's l1: 0.830543\tvalid_1's l1: 1.11805\n",
      "[200]\ttraining's l1: 0.810841\tvalid_1's l1: 1.11125\n",
      "[300]\ttraining's l1: 0.796785\tvalid_1's l1: 1.11155\n",
      "Early stopping, best iteration is:\n",
      "[246]\ttraining's l1: 0.804925\tvalid_1's l1: 1.11073\n"
     ]
    },
    {
     "name": "stderr",
     "output_type": "stream",
     "text": [
      "\u001b[32m[I 2021-07-29 19:03:55,588]\u001b[0m Trial 36 finished with value: -1.1103867856249539 and parameters: {'max_depth': 13, 'min_child_weight': 15, 'subsample': 0.5, 'colsample_bytree': 0.5, 'reg_lambda': 308.6776854212672, 'reg_alpha': 0.0027818823621951014, 'feature_fraction': 0.7296336807175625, 'bagging_fraction': 0.8034094068183222, 'bagging_freq': 15, 'num_leaves': 989, 'min_child_samples': 46}. Best is trial 21 with value: -1.106305486441666.\u001b[0m\n"
     ]
    },
    {
     "name": "stdout",
     "output_type": "stream",
     "text": [
      "[LightGBM] [Warning] feature_fraction is set=0.9149897181499235, colsample_bytree=0.6 will be ignored. Current value: feature_fraction=0.9149897181499235\n",
      "[LightGBM] [Warning] bagging_fraction is set=0.9129848275345718, subsample=0.6 will be ignored. Current value: bagging_fraction=0.9129848275345718\n",
      "[LightGBM] [Warning] bagging_freq is set=12, subsample_freq=0 will be ignored. Current value: bagging_freq=12\n",
      "Training until validation scores don't improve for 100 rounds\n",
      "[100]\ttraining's l1: 0.819193\tvalid_1's l1: 1.11397\n",
      "[200]\ttraining's l1: 0.810406\tvalid_1's l1: 1.11146\n",
      "[300]\ttraining's l1: 0.8051\tvalid_1's l1: 1.11126\n",
      "[400]\ttraining's l1: 0.790512\tvalid_1's l1: 1.11081\n",
      "Early stopping, best iteration is:\n",
      "[399]\ttraining's l1: 0.790811\tvalid_1's l1: 1.11076\n"
     ]
    },
    {
     "name": "stderr",
     "output_type": "stream",
     "text": [
      "\u001b[32m[I 2021-07-29 19:04:42,837]\u001b[0m Trial 37 finished with value: -1.1104691620758325 and parameters: {'max_depth': 17, 'min_child_weight': 13, 'subsample': 0.6, 'colsample_bytree': 0.6, 'reg_lambda': 5.512028121226688, 'reg_alpha': 0.03146191409252582, 'feature_fraction': 0.9149897181499235, 'bagging_fraction': 0.9129848275345718, 'bagging_freq': 12, 'num_leaves': 804, 'min_child_samples': 19}. Best is trial 21 with value: -1.106305486441666.\u001b[0m\n"
     ]
    },
    {
     "name": "stdout",
     "output_type": "stream",
     "text": [
      "[LightGBM] [Warning] feature_fraction is set=0.5262384375400943, colsample_bytree=0.5 will be ignored. Current value: feature_fraction=0.5262384375400943\n",
      "[LightGBM] [Warning] bagging_fraction is set=0.9857624231444336, subsample=0.6 will be ignored. Current value: bagging_fraction=0.9857624231444336\n",
      "[LightGBM] [Warning] bagging_freq is set=14, subsample_freq=0 will be ignored. Current value: bagging_freq=14\n",
      "Training until validation scores don't improve for 100 rounds\n",
      "[100]\ttraining's l1: 0.872346\tvalid_1's l1: 1.15102\n",
      "[200]\ttraining's l1: 0.867851\tvalid_1's l1: 1.14372\n",
      "[300]\ttraining's l1: 0.866782\tvalid_1's l1: 1.14277\n",
      "[400]\ttraining's l1: 0.866371\tvalid_1's l1: 1.14257\n",
      "Early stopping, best iteration is:\n",
      "[332]\ttraining's l1: 0.866519\tvalid_1's l1: 1.14243\n"
     ]
    },
    {
     "name": "stderr",
     "output_type": "stream",
     "text": [
      "\u001b[32m[I 2021-07-29 19:05:04,496]\u001b[0m Trial 38 finished with value: -1.1422274350128072 and parameters: {'max_depth': 19, 'min_child_weight': 17, 'subsample': 0.6, 'colsample_bytree': 0.5, 'reg_lambda': 0.4390502946829558, 'reg_alpha': 983.867613981428, 'feature_fraction': 0.5262384375400943, 'bagging_fraction': 0.9857624231444336, 'bagging_freq': 14, 'num_leaves': 771, 'min_child_samples': 35}. Best is trial 21 with value: -1.106305486441666.\u001b[0m\n"
     ]
    },
    {
     "name": "stdout",
     "output_type": "stream",
     "text": [
      "[LightGBM] [Warning] feature_fraction is set=0.6450244383637193, colsample_bytree=0.5 will be ignored. Current value: feature_fraction=0.6450244383637193\n",
      "[LightGBM] [Warning] bagging_fraction is set=0.7034412944727606, subsample=0.5 will be ignored. Current value: bagging_fraction=0.7034412944727606\n",
      "[LightGBM] [Warning] bagging_freq is set=19, subsample_freq=0 will be ignored. Current value: bagging_freq=19\n",
      "Training until validation scores don't improve for 100 rounds\n",
      "[100]\ttraining's l1: 0.842056\tvalid_1's l1: 1.12006\n",
      "[200]\ttraining's l1: 0.83808\tvalid_1's l1: 1.11674\n",
      "[300]\ttraining's l1: 0.837217\tvalid_1's l1: 1.11585\n",
      "[400]\ttraining's l1: 0.834784\tvalid_1's l1: 1.11441\n",
      "[500]\ttraining's l1: 0.832778\tvalid_1's l1: 1.11439\n",
      "[600]\ttraining's l1: 0.827249\tvalid_1's l1: 1.11281\n",
      "Early stopping, best iteration is:\n",
      "[570]\ttraining's l1: 0.827957\tvalid_1's l1: 1.11236\n"
     ]
    },
    {
     "name": "stderr",
     "output_type": "stream",
     "text": [
      "\u001b[32m[I 2021-07-29 19:05:32,672]\u001b[0m Trial 39 finished with value: -1.1120931853363751 and parameters: {'max_depth': 14, 'min_child_weight': 11, 'subsample': 0.5, 'colsample_bytree': 0.5, 'reg_lambda': 88.78865813379232, 'reg_alpha': 0.010799514012704677, 'feature_fraction': 0.6450244383637193, 'bagging_fraction': 0.7034412944727606, 'bagging_freq': 19, 'num_leaves': 303, 'min_child_samples': 37}. Best is trial 21 with value: -1.106305486441666.\u001b[0m\n"
     ]
    },
    {
     "name": "stdout",
     "output_type": "stream",
     "text": [
      "[LightGBM] [Warning] feature_fraction is set=0.96154188419072, colsample_bytree=0.7 will be ignored. Current value: feature_fraction=0.96154188419072\n",
      "[LightGBM] [Warning] bagging_fraction is set=0.8984305111159181, subsample=0.7 will be ignored. Current value: bagging_fraction=0.8984305111159181\n",
      "[LightGBM] [Warning] bagging_freq is set=11, subsample_freq=0 will be ignored. Current value: bagging_freq=11\n",
      "Training until validation scores don't improve for 100 rounds\n",
      "[100]\ttraining's l1: 0.834014\tvalid_1's l1: 1.1153\n",
      "[200]\ttraining's l1: 0.829927\tvalid_1's l1: 1.11247\n",
      "[300]\ttraining's l1: 0.823046\tvalid_1's l1: 1.11012\n",
      "[400]\ttraining's l1: 0.816138\tvalid_1's l1: 1.1096\n",
      "[500]\ttraining's l1: 0.808999\tvalid_1's l1: 1.1089\n",
      "Early stopping, best iteration is:\n",
      "[440]\ttraining's l1: 0.812642\tvalid_1's l1: 1.10864\n"
     ]
    },
    {
     "name": "stderr",
     "output_type": "stream",
     "text": [
      "\u001b[32m[I 2021-07-29 19:06:08,026]\u001b[0m Trial 40 finished with value: -1.1083923373411415 and parameters: {'max_depth': 17, 'min_child_weight': 6, 'subsample': 0.7, 'colsample_bytree': 0.7, 'reg_lambda': 32.482169035830566, 'reg_alpha': 2.0384415374599065, 'feature_fraction': 0.96154188419072, 'bagging_fraction': 0.8984305111159181, 'bagging_freq': 11, 'num_leaves': 452, 'min_child_samples': 28}. Best is trial 21 with value: -1.106305486441666.\u001b[0m\n"
     ]
    },
    {
     "name": "stdout",
     "output_type": "stream",
     "text": [
      "[LightGBM] [Warning] feature_fraction is set=0.8243871652365604, colsample_bytree=0.5 will be ignored. Current value: feature_fraction=0.8243871652365604\n",
      "[LightGBM] [Warning] bagging_fraction is set=0.3278969005384566, subsample=0.6 will be ignored. Current value: bagging_fraction=0.3278969005384566\n",
      "[LightGBM] [Warning] bagging_freq is set=16, subsample_freq=0 will be ignored. Current value: bagging_freq=16\n",
      "Training until validation scores don't improve for 100 rounds\n",
      "[100]\ttraining's l1: 0.828509\tvalid_1's l1: 1.11744\n",
      "[200]\ttraining's l1: 0.816858\tvalid_1's l1: 1.11774\n",
      "Early stopping, best iteration is:\n",
      "[126]\ttraining's l1: 0.823514\tvalid_1's l1: 1.11605\n"
     ]
    },
    {
     "name": "stderr",
     "output_type": "stream",
     "text": [
      "\u001b[32m[I 2021-07-29 19:06:21,346]\u001b[0m Trial 41 finished with value: -1.1155754557687036 and parameters: {'max_depth': 16, 'min_child_weight': 10, 'subsample': 0.6, 'colsample_bytree': 0.5, 'reg_lambda': 8.832423864498569, 'reg_alpha': 0.1893332651046253, 'feature_fraction': 0.8243871652365604, 'bagging_fraction': 0.3278969005384566, 'bagging_freq': 16, 'num_leaves': 659, 'min_child_samples': 55}. Best is trial 21 with value: -1.106305486441666.\u001b[0m\n"
     ]
    },
    {
     "name": "stdout",
     "output_type": "stream",
     "text": [
      "[LightGBM] [Warning] feature_fraction is set=0.8719330161310793, colsample_bytree=0.5 will be ignored. Current value: feature_fraction=0.8719330161310793\n",
      "[LightGBM] [Warning] bagging_fraction is set=0.8304184915358765, subsample=0.6 will be ignored. Current value: bagging_fraction=0.8304184915358765\n",
      "[LightGBM] [Warning] bagging_freq is set=17, subsample_freq=0 will be ignored. Current value: bagging_freq=17\n",
      "Training until validation scores don't improve for 100 rounds\n",
      "[100]\ttraining's l1: 0.829309\tvalid_1's l1: 1.1124\n",
      "[200]\ttraining's l1: 0.824616\tvalid_1's l1: 1.10913\n",
      "[300]\ttraining's l1: 0.821006\tvalid_1's l1: 1.10865\n",
      "[400]\ttraining's l1: 0.81817\tvalid_1's l1: 1.10833\n",
      "Early stopping, best iteration is:\n",
      "[353]\ttraining's l1: 0.819202\tvalid_1's l1: 1.10828\n"
     ]
    },
    {
     "name": "stderr",
     "output_type": "stream",
     "text": [
      "\u001b[32m[I 2021-07-29 19:06:55,341]\u001b[0m Trial 42 finished with value: -1.1081071371541509 and parameters: {'max_depth': 15, 'min_child_weight': 9, 'subsample': 0.6, 'colsample_bytree': 0.5, 'reg_lambda': 2.6999548937121753, 'reg_alpha': 0.5087701550769039, 'feature_fraction': 0.8719330161310793, 'bagging_fraction': 0.8304184915358765, 'bagging_freq': 17, 'num_leaves': 587, 'min_child_samples': 70}. Best is trial 21 with value: -1.106305486441666.\u001b[0m\n"
     ]
    },
    {
     "name": "stdout",
     "output_type": "stream",
     "text": [
      "[LightGBM] [Warning] feature_fraction is set=0.7986410680399726, colsample_bytree=0.5 will be ignored. Current value: feature_fraction=0.7986410680399726\n",
      "[LightGBM] [Warning] bagging_fraction is set=0.8729513005059703, subsample=0.6 will be ignored. Current value: bagging_fraction=0.8729513005059703\n",
      "[LightGBM] [Warning] bagging_freq is set=18, subsample_freq=0 will be ignored. Current value: bagging_freq=18\n",
      "Training until validation scores don't improve for 100 rounds\n",
      "[100]\ttraining's l1: 0.827236\tvalid_1's l1: 1.11265\n",
      "[200]\ttraining's l1: 0.823971\tvalid_1's l1: 1.11036\n",
      "[300]\ttraining's l1: 0.822386\tvalid_1's l1: 1.10975\n",
      "[400]\ttraining's l1: 0.816049\tvalid_1's l1: 1.10771\n",
      "[500]\ttraining's l1: 0.804767\tvalid_1's l1: 1.10709\n",
      "[600]\ttraining's l1: 0.788114\tvalid_1's l1: 1.10837\n",
      "Early stopping, best iteration is:\n",
      "[501]\ttraining's l1: 0.804345\tvalid_1's l1: 1.10707\n"
     ]
    },
    {
     "name": "stderr",
     "output_type": "stream",
     "text": [
      "\u001b[32m[I 2021-07-29 19:07:44,468]\u001b[0m Trial 43 finished with value: -1.106767178340904 and parameters: {'max_depth': 19, 'min_child_weight': 12, 'subsample': 0.6, 'colsample_bytree': 0.5, 'reg_lambda': 1.936048143787262, 'reg_alpha': 0.05730656731354871, 'feature_fraction': 0.7986410680399726, 'bagging_fraction': 0.8729513005059703, 'bagging_freq': 18, 'num_leaves': 692, 'min_child_samples': 46}. Best is trial 21 with value: -1.106305486441666.\u001b[0m\n"
     ]
    },
    {
     "name": "stdout",
     "output_type": "stream",
     "text": [
      "[LightGBM] [Warning] feature_fraction is set=0.7953605590635445, colsample_bytree=0.5 will be ignored. Current value: feature_fraction=0.7953605590635445\n",
      "[LightGBM] [Warning] bagging_fraction is set=0.9380394808742867, subsample=0.5 will be ignored. Current value: bagging_fraction=0.9380394808742867\n",
      "[LightGBM] [Warning] bagging_freq is set=19, subsample_freq=0 will be ignored. Current value: bagging_freq=19\n",
      "Training until validation scores don't improve for 100 rounds\n",
      "[100]\ttraining's l1: 0.815016\tvalid_1's l1: 1.10998\n",
      "[200]\ttraining's l1: 0.804842\tvalid_1's l1: 1.10893\n",
      "Early stopping, best iteration is:\n",
      "[179]\ttraining's l1: 0.805798\tvalid_1's l1: 1.10868\n"
     ]
    },
    {
     "name": "stderr",
     "output_type": "stream",
     "text": [
      "\u001b[32m[I 2021-07-29 19:08:08,917]\u001b[0m Trial 44 finished with value: -1.1085079722655404 and parameters: {'max_depth': 19, 'min_child_weight': 14, 'subsample': 0.5, 'colsample_bytree': 0.5, 'reg_lambda': 1.46221617405877, 'reg_alpha': 0.05372314492714423, 'feature_fraction': 0.7953605590635445, 'bagging_fraction': 0.9380394808742867, 'bagging_freq': 19, 'num_leaves': 917, 'min_child_samples': 46}. Best is trial 21 with value: -1.106305486441666.\u001b[0m\n"
     ]
    },
    {
     "name": "stdout",
     "output_type": "stream",
     "text": [
      "[LightGBM] [Warning] feature_fraction is set=0.781371987401493, colsample_bytree=0.6 will be ignored. Current value: feature_fraction=0.781371987401493\n",
      "[LightGBM] [Warning] bagging_fraction is set=0.8905939973801063, subsample=0.6 will be ignored. Current value: bagging_fraction=0.8905939973801063\n",
      "[LightGBM] [Warning] bagging_freq is set=15, subsample_freq=0 will be ignored. Current value: bagging_freq=15\n",
      "Training until validation scores don't improve for 100 rounds\n",
      "[100]\ttraining's l1: 0.830341\tvalid_1's l1: 1.11257\n",
      "[200]\ttraining's l1: 0.826086\tvalid_1's l1: 1.11035\n",
      "[300]\ttraining's l1: 0.823887\tvalid_1's l1: 1.10961\n",
      "Early stopping, best iteration is:\n",
      "[298]\ttraining's l1: 0.8239\tvalid_1's l1: 1.10958\n"
     ]
    },
    {
     "name": "stderr",
     "output_type": "stream",
     "text": [
      "\u001b[32m[I 2021-07-29 19:08:34,341]\u001b[0m Trial 45 finished with value: -1.109450868851212 and parameters: {'max_depth': 20, 'min_child_weight': 12, 'subsample': 0.6, 'colsample_bytree': 0.6, 'reg_lambda': 23.804371224674412, 'reg_alpha': 0.015740874902932314, 'feature_fraction': 0.781371987401493, 'bagging_fraction': 0.8905939973801063, 'bagging_freq': 15, 'num_leaves': 574, 'min_child_samples': 50}. Best is trial 21 with value: -1.106305486441666.\u001b[0m\n"
     ]
    },
    {
     "name": "stdout",
     "output_type": "stream",
     "text": [
      "[LightGBM] [Warning] feature_fraction is set=0.7256257874461063, colsample_bytree=0.5 will be ignored. Current value: feature_fraction=0.7256257874461063\n",
      "[LightGBM] [Warning] bagging_fraction is set=0.55449314981631, subsample=0.7 will be ignored. Current value: bagging_fraction=0.55449314981631\n",
      "[LightGBM] [Warning] bagging_freq is set=9, subsample_freq=0 will be ignored. Current value: bagging_freq=9\n",
      "Training until validation scores don't improve for 100 rounds\n",
      "[100]\ttraining's l1: 0.832831\tvalid_1's l1: 1.11517\n",
      "[200]\ttraining's l1: 0.826496\tvalid_1's l1: 1.11304\n",
      "[300]\ttraining's l1: 0.823126\tvalid_1's l1: 1.11161\n",
      "[400]\ttraining's l1: 0.819813\tvalid_1's l1: 1.11101\n",
      "[500]\ttraining's l1: 0.813517\tvalid_1's l1: 1.10981\n",
      "[600]\ttraining's l1: 0.807094\tvalid_1's l1: 1.1105\n",
      "Early stopping, best iteration is:\n",
      "[542]\ttraining's l1: 0.810747\tvalid_1's l1: 1.10957\n"
     ]
    },
    {
     "name": "stderr",
     "output_type": "stream",
     "text": [
      "\u001b[32m[I 2021-07-29 19:09:08,601]\u001b[0m Trial 46 finished with value: -1.1090102679321314 and parameters: {'max_depth': 18, 'min_child_weight': 14, 'subsample': 0.7, 'colsample_bytree': 0.5, 'reg_lambda': 4.117037106119092, 'reg_alpha': 0.004788902838657853, 'feature_fraction': 0.7256257874461063, 'bagging_fraction': 0.55449314981631, 'bagging_freq': 9, 'num_leaves': 534, 'min_child_samples': 60}. Best is trial 21 with value: -1.106305486441666.\u001b[0m\n"
     ]
    },
    {
     "name": "stdout",
     "output_type": "stream",
     "text": [
      "[LightGBM] [Warning] feature_fraction is set=0.9508927450276023, colsample_bytree=0.6 will be ignored. Current value: feature_fraction=0.9508927450276023\n",
      "[LightGBM] [Warning] bagging_fraction is set=0.9677391296654648, subsample=0.6 will be ignored. Current value: bagging_fraction=0.9677391296654648\n",
      "[LightGBM] [Warning] bagging_freq is set=12, subsample_freq=0 will be ignored. Current value: bagging_freq=12\n",
      "Training until validation scores don't improve for 100 rounds\n",
      "[100]\ttraining's l1: 0.815352\tvalid_1's l1: 1.11632\n",
      "[200]\ttraining's l1: 0.801246\tvalid_1's l1: 1.11669\n",
      "[300]\ttraining's l1: 0.794812\tvalid_1's l1: 1.11257\n",
      "[400]\ttraining's l1: 0.793282\tvalid_1's l1: 1.11283\n",
      "Early stopping, best iteration is:\n",
      "[302]\ttraining's l1: 0.79477\tvalid_1's l1: 1.11247\n"
     ]
    },
    {
     "name": "stderr",
     "output_type": "stream",
     "text": [
      "\u001b[32m[I 2021-07-29 19:09:45,751]\u001b[0m Trial 47 finished with value: -1.1122454007790232 and parameters: {'max_depth': 12, 'min_child_weight': 7, 'subsample': 0.6, 'colsample_bytree': 0.6, 'reg_lambda': 1.8188122909046802, 'reg_alpha': 0.053748235032969785, 'feature_fraction': 0.9508927450276023, 'bagging_fraction': 0.9677391296654648, 'bagging_freq': 12, 'num_leaves': 993, 'min_child_samples': 8}. Best is trial 21 with value: -1.106305486441666.\u001b[0m\n"
     ]
    },
    {
     "name": "stdout",
     "output_type": "stream",
     "text": [
      "[LightGBM] [Warning] feature_fraction is set=0.8867557043484914, colsample_bytree=0.8 will be ignored. Current value: feature_fraction=0.8867557043484914\n",
      "[LightGBM] [Warning] bagging_fraction is set=0.9228516602093298, subsample=0.5 will be ignored. Current value: bagging_fraction=0.9228516602093298\n",
      "[LightGBM] [Warning] bagging_freq is set=18, subsample_freq=0 will be ignored. Current value: bagging_freq=18\n",
      "Training until validation scores don't improve for 100 rounds\n",
      "[100]\ttraining's l1: 0.81847\tvalid_1's l1: 1.11086\n",
      "[200]\ttraining's l1: 0.800501\tvalid_1's l1: 1.10736\n",
      "[300]\ttraining's l1: 0.793214\tvalid_1's l1: 1.10697\n",
      "Early stopping, best iteration is:\n",
      "[290]\ttraining's l1: 0.79393\tvalid_1's l1: 1.10687\n"
     ]
    },
    {
     "name": "stderr",
     "output_type": "stream",
     "text": [
      "\u001b[32m[I 2021-07-29 19:10:21,397]\u001b[0m Trial 48 finished with value: -1.1065706617300801 and parameters: {'max_depth': 19, 'min_child_weight': 11, 'subsample': 0.5, 'colsample_bytree': 0.8, 'reg_lambda': 71.18526939865926, 'reg_alpha': 0.11127006245121768, 'feature_fraction': 0.8867557043484914, 'bagging_fraction': 0.9228516602093298, 'bagging_freq': 18, 'num_leaves': 794, 'min_child_samples': 40}. Best is trial 21 with value: -1.106305486441666.\u001b[0m\n"
     ]
    },
    {
     "name": "stdout",
     "output_type": "stream",
     "text": [
      "[LightGBM] [Warning] feature_fraction is set=0.901131099651272, colsample_bytree=0.8 will be ignored. Current value: feature_fraction=0.901131099651272\n",
      "[LightGBM] [Warning] bagging_fraction is set=0.784923172384802, subsample=0.5 will be ignored. Current value: bagging_fraction=0.784923172384802\n",
      "[LightGBM] [Warning] bagging_freq is set=20, subsample_freq=0 will be ignored. Current value: bagging_freq=20\n",
      "Training until validation scores don't improve for 100 rounds\n",
      "[100]\ttraining's l1: 0.820138\tvalid_1's l1: 1.11149\n",
      "[200]\ttraining's l1: 0.811387\tvalid_1's l1: 1.10933\n",
      "[300]\ttraining's l1: 0.805336\tvalid_1's l1: 1.10864\n",
      "Early stopping, best iteration is:\n",
      "[286]\ttraining's l1: 0.805688\tvalid_1's l1: 1.10842\n"
     ]
    },
    {
     "name": "stderr",
     "output_type": "stream",
     "text": [
      "\u001b[32m[I 2021-07-29 19:10:52,194]\u001b[0m Trial 49 finished with value: -1.1081379782404273 and parameters: {'max_depth': 19, 'min_child_weight': 12, 'subsample': 0.5, 'colsample_bytree': 0.8, 'reg_lambda': 0.5094127777620334, 'reg_alpha': 0.13741465913388543, 'feature_fraction': 0.901131099651272, 'bagging_fraction': 0.784923172384802, 'bagging_freq': 20, 'num_leaves': 813, 'min_child_samples': 42}. Best is trial 21 with value: -1.106305486441666.\u001b[0m\n"
     ]
    },
    {
     "name": "stdout",
     "output_type": "stream",
     "text": [
      "[LightGBM] [Warning] feature_fraction is set=0.7393642804504208, colsample_bytree=0.8 will be ignored. Current value: feature_fraction=0.7393642804504208\n",
      "[LightGBM] [Warning] bagging_fraction is set=0.7313977056624638, subsample=0.5 will be ignored. Current value: bagging_fraction=0.7313977056624638\n",
      "[LightGBM] [Warning] bagging_freq is set=18, subsample_freq=0 will be ignored. Current value: bagging_freq=18\n",
      "Training until validation scores don't improve for 100 rounds\n",
      "[100]\ttraining's l1: 0.825756\tvalid_1's l1: 1.1119\n",
      "[200]\ttraining's l1: 0.818\tvalid_1's l1: 1.11037\n",
      "[300]\ttraining's l1: 0.814842\tvalid_1's l1: 1.10994\n",
      "[400]\ttraining's l1: 0.808599\tvalid_1's l1: 1.10914\n",
      "Early stopping, best iteration is:\n",
      "[395]\ttraining's l1: 0.809084\tvalid_1's l1: 1.10887\n"
     ]
    },
    {
     "name": "stderr",
     "output_type": "stream",
     "text": [
      "\u001b[32m[I 2021-07-29 19:11:26,163]\u001b[0m Trial 50 finished with value: -1.1085852094741484 and parameters: {'max_depth': 20, 'min_child_weight': 16, 'subsample': 0.5, 'colsample_bytree': 0.8, 'reg_lambda': 1.159355424382634, 'reg_alpha': 0.08469952201126411, 'feature_fraction': 0.7393642804504208, 'bagging_fraction': 0.7313977056624638, 'bagging_freq': 18, 'num_leaves': 717, 'min_child_samples': 70}. Best is trial 21 with value: -1.106305486441666.\u001b[0m\n"
     ]
    },
    {
     "name": "stdout",
     "output_type": "stream",
     "text": [
      "[LightGBM] [Warning] feature_fraction is set=0.8102935267272934, colsample_bytree=0.8 will be ignored. Current value: feature_fraction=0.8102935267272934\n",
      "[LightGBM] [Warning] bagging_fraction is set=0.9286922685402118, subsample=0.6 will be ignored. Current value: bagging_fraction=0.9286922685402118\n",
      "[LightGBM] [Warning] bagging_freq is set=14, subsample_freq=0 will be ignored. Current value: bagging_freq=14\n",
      "Training until validation scores don't improve for 100 rounds\n",
      "[100]\ttraining's l1: 0.819706\tvalid_1's l1: 1.11237\n",
      "[200]\ttraining's l1: 0.807075\tvalid_1's l1: 1.10858\n",
      "Early stopping, best iteration is:\n",
      "[196]\ttraining's l1: 0.807295\tvalid_1's l1: 1.10852\n"
     ]
    },
    {
     "name": "stderr",
     "output_type": "stream",
     "text": [
      "\u001b[32m[I 2021-07-29 19:11:55,402]\u001b[0m Trial 51 finished with value: -1.1083125157399425 and parameters: {'max_depth': 17, 'min_child_weight': 11, 'subsample': 0.6, 'colsample_bytree': 0.8, 'reg_lambda': 82.25384987465424, 'reg_alpha': 0.2371389097750949, 'feature_fraction': 0.8102935267272934, 'bagging_fraction': 0.9286922685402118, 'bagging_freq': 14, 'num_leaves': 755, 'min_child_samples': 47}. Best is trial 21 with value: -1.106305486441666.\u001b[0m\n"
     ]
    },
    {
     "name": "stdout",
     "output_type": "stream",
     "text": [
      "[LightGBM] [Warning] feature_fraction is set=0.8724129617058713, colsample_bytree=0.9 will be ignored. Current value: feature_fraction=0.8724129617058713\n",
      "[LightGBM] [Warning] bagging_fraction is set=0.8699801749237639, subsample=0.6 will be ignored. Current value: bagging_fraction=0.8699801749237639\n",
      "[LightGBM] [Warning] bagging_freq is set=18, subsample_freq=0 will be ignored. Current value: bagging_freq=18\n",
      "Training until validation scores don't improve for 100 rounds\n",
      "[100]\ttraining's l1: 0.815663\tvalid_1's l1: 1.11182\n",
      "[200]\ttraining's l1: 0.80035\tvalid_1's l1: 1.10879\n",
      "Early stopping, best iteration is:\n",
      "[186]\ttraining's l1: 0.802045\tvalid_1's l1: 1.10869\n"
     ]
    },
    {
     "name": "stderr",
     "output_type": "stream",
     "text": [
      "\u001b[32m[I 2021-07-29 19:12:22,808]\u001b[0m Trial 52 finished with value: -1.1084664006980018 and parameters: {'max_depth': 18, 'min_child_weight': 9, 'subsample': 0.6, 'colsample_bytree': 0.9, 'reg_lambda': 52.22989764329248, 'reg_alpha': 0.03961525683482024, 'feature_fraction': 0.8724129617058713, 'bagging_fraction': 0.8699801749237639, 'bagging_freq': 18, 'num_leaves': 874, 'min_child_samples': 37}. Best is trial 21 with value: -1.106305486441666.\u001b[0m\n"
     ]
    },
    {
     "name": "stdout",
     "output_type": "stream",
     "text": [
      "[LightGBM] [Warning] feature_fraction is set=0.7692080258235696, colsample_bytree=0.9 will be ignored. Current value: feature_fraction=0.7692080258235696\n",
      "[LightGBM] [Warning] bagging_fraction is set=0.8136626631169861, subsample=0.5 will be ignored. Current value: bagging_fraction=0.8136626631169861\n",
      "[LightGBM] [Warning] bagging_freq is set=16, subsample_freq=0 will be ignored. Current value: bagging_freq=16\n",
      "Training until validation scores don't improve for 100 rounds\n",
      "[100]\ttraining's l1: 0.825571\tvalid_1's l1: 1.11258\n",
      "[200]\ttraining's l1: 0.811665\tvalid_1's l1: 1.1093\n",
      "[300]\ttraining's l1: 0.805345\tvalid_1's l1: 1.10817\n",
      "[400]\ttraining's l1: 0.802827\tvalid_1's l1: 1.10739\n",
      "[500]\ttraining's l1: 0.800882\tvalid_1's l1: 1.10755\n",
      "Early stopping, best iteration is:\n",
      "[467]\ttraining's l1: 0.801287\tvalid_1's l1: 1.1073\n"
     ]
    },
    {
     "name": "stderr",
     "output_type": "stream",
     "text": [
      "\u001b[32m[I 2021-07-29 19:13:04,636]\u001b[0m Trial 53 finished with value: -1.1068903645776382 and parameters: {'max_depth': 18, 'min_child_weight': 10, 'subsample': 0.5, 'colsample_bytree': 0.9, 'reg_lambda': 206.27323993890218, 'reg_alpha': 0.9195749435773544, 'feature_fraction': 0.7692080258235696, 'bagging_fraction': 0.8136626631169861, 'bagging_freq': 16, 'num_leaves': 673, 'min_child_samples': 31}. Best is trial 21 with value: -1.106305486441666.\u001b[0m\n"
     ]
    },
    {
     "name": "stdout",
     "output_type": "stream",
     "text": [
      "[LightGBM] [Warning] feature_fraction is set=0.7605905504958561, colsample_bytree=0.9 will be ignored. Current value: feature_fraction=0.7605905504958561\n",
      "[LightGBM] [Warning] bagging_fraction is set=0.6623943861500174, subsample=0.5 will be ignored. Current value: bagging_fraction=0.6623943861500174\n",
      "[LightGBM] [Warning] bagging_freq is set=16, subsample_freq=0 will be ignored. Current value: bagging_freq=16\n",
      "Training until validation scores don't improve for 100 rounds\n",
      "[100]\ttraining's l1: 0.8766\tvalid_1's l1: 1.15985\n",
      "[200]\ttraining's l1: 0.869069\tvalid_1's l1: 1.14611\n",
      "[300]\ttraining's l1: 0.866163\tvalid_1's l1: 1.1428\n"
     ]
    },
    {
     "name": "stderr",
     "output_type": "stream",
     "text": [
      "\u001b[32m[I 2021-07-29 19:13:12,968]\u001b[0m Trial 54 finished with value: -1.142678436631565 and parameters: {'max_depth': 5, 'min_child_weight': 13, 'subsample': 0.5, 'colsample_bytree': 0.9, 'reg_lambda': 242.42688692494474, 'reg_alpha': 0.9806617365086097, 'feature_fraction': 0.7605905504958561, 'bagging_fraction': 0.6623943861500174, 'bagging_freq': 16, 'num_leaves': 624, 'min_child_samples': 29}. Best is trial 21 with value: -1.106305486441666.\u001b[0m\n"
     ]
    },
    {
     "name": "stdout",
     "output_type": "stream",
     "text": [
      "Early stopping, best iteration is:\n",
      "[243]\ttraining's l1: 0.866217\tvalid_1's l1: 1.14278\n",
      "[LightGBM] [Warning] feature_fraction is set=0.8311995721213465, colsample_bytree=0.9 will be ignored. Current value: feature_fraction=0.8311995721213465\n",
      "[LightGBM] [Warning] bagging_fraction is set=0.820637622330763, subsample=0.5 will be ignored. Current value: bagging_fraction=0.820637622330763\n",
      "[LightGBM] [Warning] bagging_freq is set=19, subsample_freq=0 will be ignored. Current value: bagging_freq=19\n",
      "Training until validation scores don't improve for 100 rounds\n",
      "[100]\ttraining's l1: 0.824669\tvalid_1's l1: 1.11327\n",
      "[200]\ttraining's l1: 0.820322\tvalid_1's l1: 1.11133\n",
      "[300]\ttraining's l1: 0.816338\tvalid_1's l1: 1.10986\n",
      "[400]\ttraining's l1: 0.812139\tvalid_1's l1: 1.10922\n",
      "Early stopping, best iteration is:\n",
      "[315]\ttraining's l1: 0.814518\tvalid_1's l1: 1.10911\n"
     ]
    },
    {
     "name": "stderr",
     "output_type": "stream",
     "text": [
      "\u001b[32m[I 2021-07-29 19:13:41,172]\u001b[0m Trial 55 finished with value: -1.1089600791774439 and parameters: {'max_depth': 19, 'min_child_weight': 11, 'subsample': 0.5, 'colsample_bytree': 0.9, 'reg_lambda': 8.527515373744617, 'reg_alpha': 1.5014691975133745, 'feature_fraction': 0.8311995721213465, 'bagging_fraction': 0.820637622330763, 'bagging_freq': 19, 'num_leaves': 685, 'min_child_samples': 13}. Best is trial 21 with value: -1.106305486441666.\u001b[0m\n"
     ]
    },
    {
     "name": "stdout",
     "output_type": "stream",
     "text": [
      "[LightGBM] [Warning] feature_fraction is set=0.8853147075630061, colsample_bytree=0.8 will be ignored. Current value: feature_fraction=0.8853147075630061\n",
      "[LightGBM] [Warning] bagging_fraction is set=0.772467789244332, subsample=0.5 will be ignored. Current value: bagging_fraction=0.772467789244332\n",
      "[LightGBM] [Warning] bagging_freq is set=20, subsample_freq=0 will be ignored. Current value: bagging_freq=20\n",
      "Training until validation scores don't improve for 100 rounds\n",
      "[100]\ttraining's l1: 0.828168\tvalid_1's l1: 1.11687\n",
      "[200]\ttraining's l1: 0.814967\tvalid_1's l1: 1.11228\n",
      "[300]\ttraining's l1: 0.808373\tvalid_1's l1: 1.11066\n",
      "Early stopping, best iteration is:\n",
      "[298]\ttraining's l1: 0.80845\tvalid_1's l1: 1.11062\n"
     ]
    },
    {
     "name": "stderr",
     "output_type": "stream",
     "text": [
      "\u001b[32m[I 2021-07-29 19:14:09,860]\u001b[0m Trial 56 finished with value: -1.1102644660263066 and parameters: {'max_depth': 15, 'min_child_weight': 10, 'subsample': 0.5, 'colsample_bytree': 0.8, 'reg_lambda': 487.90615312662777, 'reg_alpha': 3.82830494517383, 'feature_fraction': 0.8853147075630061, 'bagging_fraction': 0.772467789244332, 'bagging_freq': 20, 'num_leaves': 602, 'min_child_samples': 24}. Best is trial 21 with value: -1.106305486441666.\u001b[0m\n"
     ]
    },
    {
     "name": "stdout",
     "output_type": "stream",
     "text": [
      "[LightGBM] [Warning] feature_fraction is set=0.6420843821773654, colsample_bytree=0.9 will be ignored. Current value: feature_fraction=0.6420843821773654\n",
      "[LightGBM] [Warning] bagging_fraction is set=0.8041144077956606, subsample=0.5 will be ignored. Current value: bagging_fraction=0.8041144077956606\n",
      "[LightGBM] [Warning] bagging_freq is set=17, subsample_freq=0 will be ignored. Current value: bagging_freq=17\n",
      "Training until validation scores don't improve for 100 rounds\n",
      "[100]\ttraining's l1: 0.832179\tvalid_1's l1: 1.11483\n",
      "[200]\ttraining's l1: 0.827327\tvalid_1's l1: 1.11234\n",
      "[300]\ttraining's l1: 0.824928\tvalid_1's l1: 1.11178\n",
      "[400]\ttraining's l1: 0.822756\tvalid_1's l1: 1.11118\n",
      "[500]\ttraining's l1: 0.820667\tvalid_1's l1: 1.11076\n",
      "[600]\ttraining's l1: 0.817171\tvalid_1's l1: 1.11022\n",
      "Early stopping, best iteration is:\n",
      "[542]\ttraining's l1: 0.818853\tvalid_1's l1: 1.10991\n"
     ]
    },
    {
     "name": "stderr",
     "output_type": "stream",
     "text": [
      "\u001b[32m[I 2021-07-29 19:14:45,876]\u001b[0m Trial 57 finished with value: -1.1096542771937214 and parameters: {'max_depth': 17, 'min_child_weight': 8, 'subsample': 0.5, 'colsample_bytree': 0.9, 'reg_lambda': 3.6302097116630754, 'reg_alpha': 11.96080480415133, 'feature_fraction': 0.6420843821773654, 'bagging_fraction': 0.8041144077956606, 'bagging_freq': 17, 'num_leaves': 531, 'min_child_samples': 41}. Best is trial 21 with value: -1.106305486441666.\u001b[0m\n"
     ]
    },
    {
     "name": "stdout",
     "output_type": "stream",
     "text": [
      "[LightGBM] [Warning] feature_fraction is set=0.9288347580087435, colsample_bytree=0.8 will be ignored. Current value: feature_fraction=0.9288347580087435\n",
      "[LightGBM] [Warning] bagging_fraction is set=0.9069793141948814, subsample=0.5 will be ignored. Current value: bagging_fraction=0.9069793141948814\n",
      "[LightGBM] [Warning] bagging_freq is set=18, subsample_freq=0 will be ignored. Current value: bagging_freq=18\n",
      "Training until validation scores don't improve for 100 rounds\n",
      "[100]\ttraining's l1: 0.844114\tvalid_1's l1: 1.12787\n",
      "[200]\ttraining's l1: 0.831926\tvalid_1's l1: 1.11757\n",
      "[300]\ttraining's l1: 0.829877\tvalid_1's l1: 1.11591\n",
      "[400]\ttraining's l1: 0.828744\tvalid_1's l1: 1.11561\n",
      "[500]\ttraining's l1: 0.827864\tvalid_1's l1: 1.11565\n",
      "Early stopping, best iteration is:\n",
      "[404]\ttraining's l1: 0.82868\tvalid_1's l1: 1.11544\n"
     ]
    },
    {
     "name": "stderr",
     "output_type": "stream",
     "text": [
      "\u001b[32m[I 2021-07-29 19:15:09,274]\u001b[0m Trial 58 finished with value: -1.1153215372079108 and parameters: {'max_depth': 9, 'min_child_weight': 12, 'subsample': 0.5, 'colsample_bytree': 0.8, 'reg_lambda': 128.07913679199234, 'reg_alpha': 0.3710425024365324, 'feature_fraction': 0.9288347580087435, 'bagging_fraction': 0.9069793141948814, 'bagging_freq': 18, 'num_leaves': 659, 'min_child_samples': 31}. Best is trial 21 with value: -1.106305486441666.\u001b[0m\n"
     ]
    },
    {
     "name": "stdout",
     "output_type": "stream",
     "text": [
      "[LightGBM] [Warning] feature_fraction is set=0.8442313249993951, colsample_bytree=0.7 will be ignored. Current value: feature_fraction=0.8442313249993951\n",
      "[LightGBM] [Warning] bagging_fraction is set=0.7408808650696931, subsample=0.6 will be ignored. Current value: bagging_fraction=0.7408808650696931\n",
      "[LightGBM] [Warning] bagging_freq is set=16, subsample_freq=0 will be ignored. Current value: bagging_freq=16\n",
      "Training until validation scores don't improve for 100 rounds\n",
      "[100]\ttraining's l1: 0.818323\tvalid_1's l1: 1.11266\n",
      "[200]\ttraining's l1: 0.799076\tvalid_1's l1: 1.11091\n",
      "Early stopping, best iteration is:\n",
      "[143]\ttraining's l1: 0.807623\tvalid_1's l1: 1.1095\n"
     ]
    },
    {
     "name": "stderr",
     "output_type": "stream",
     "text": [
      "\u001b[32m[I 2021-07-29 19:15:31,696]\u001b[0m Trial 59 finished with value: -1.1093544020046577 and parameters: {'max_depth': 14, 'min_child_weight': 11, 'subsample': 0.6, 'colsample_bytree': 0.7, 'reg_lambda': 22.253375379454905, 'reg_alpha': 0.9508102035419781, 'feature_fraction': 0.8442313249993951, 'bagging_fraction': 0.7408808650696931, 'bagging_freq': 16, 'num_leaves': 791, 'min_child_samples': 19}. Best is trial 21 with value: -1.106305486441666.\u001b[0m\n"
     ]
    },
    {
     "name": "stdout",
     "output_type": "stream",
     "text": [
      "[LightGBM] [Warning] feature_fraction is set=0.8904458798624176, colsample_bytree=0.8 will be ignored. Current value: feature_fraction=0.8904458798624176\n",
      "[LightGBM] [Warning] bagging_fraction is set=0.8454405061321691, subsample=0.7 will be ignored. Current value: bagging_fraction=0.8454405061321691\n",
      "[LightGBM] [Warning] bagging_freq is set=19, subsample_freq=0 will be ignored. Current value: bagging_freq=19\n",
      "Training until validation scores don't improve for 100 rounds\n",
      "[100]\ttraining's l1: 0.825079\tvalid_1's l1: 1.11194\n",
      "[200]\ttraining's l1: 0.821541\tvalid_1's l1: 1.11017\n",
      "[300]\ttraining's l1: 0.819058\tvalid_1's l1: 1.10985\n",
      "[400]\ttraining's l1: 0.810838\tvalid_1's l1: 1.10847\n",
      "[500]\ttraining's l1: 0.805728\tvalid_1's l1: 1.10864\n",
      "Early stopping, best iteration is:\n",
      "[403]\ttraining's l1: 0.810678\tvalid_1's l1: 1.10835\n"
     ]
    },
    {
     "name": "stderr",
     "output_type": "stream",
     "text": [
      "\u001b[32m[I 2021-07-29 19:16:07,783]\u001b[0m Trial 60 finished with value: -1.1081477033985563 and parameters: {'max_depth': 20, 'min_child_weight': 10, 'subsample': 0.7, 'colsample_bytree': 0.8, 'reg_lambda': 0.34931511859640624, 'reg_alpha': 0.1019787659812325, 'feature_fraction': 0.8904458798624176, 'bagging_fraction': 0.8454405061321691, 'bagging_freq': 19, 'num_leaves': 720, 'min_child_samples': 54}. Best is trial 21 with value: -1.106305486441666.\u001b[0m\n"
     ]
    },
    {
     "name": "stdout",
     "output_type": "stream",
     "text": [
      "[LightGBM] [Warning] feature_fraction is set=0.7741191442784738, colsample_bytree=0.5 will be ignored. Current value: feature_fraction=0.7741191442784738\n",
      "[LightGBM] [Warning] bagging_fraction is set=0.9773408197403011, subsample=0.6 will be ignored. Current value: bagging_fraction=0.9773408197403011\n",
      "[LightGBM] [Warning] bagging_freq is set=14, subsample_freq=0 will be ignored. Current value: bagging_freq=14\n",
      "Training until validation scores don't improve for 100 rounds\n",
      "[100]\ttraining's l1: 0.818914\tvalid_1's l1: 1.11296\n",
      "[200]\ttraining's l1: 0.809443\tvalid_1's l1: 1.10958\n",
      "Early stopping, best iteration is:\n",
      "[179]\ttraining's l1: 0.810439\tvalid_1's l1: 1.10944\n"
     ]
    },
    {
     "name": "stderr",
     "output_type": "stream",
     "text": [
      "\u001b[32m[I 2021-07-29 19:16:31,521]\u001b[0m Trial 61 finished with value: -1.1092391009663949 and parameters: {'max_depth': 18, 'min_child_weight': 9, 'subsample': 0.6, 'colsample_bytree': 0.5, 'reg_lambda': 18.868789637576064, 'reg_alpha': 0.17397275957905095, 'feature_fraction': 0.7741191442784738, 'bagging_fraction': 0.9773408197403011, 'bagging_freq': 14, 'num_leaves': 836, 'min_child_samples': 50}. Best is trial 21 with value: -1.106305486441666.\u001b[0m\n"
     ]
    },
    {
     "name": "stdout",
     "output_type": "stream",
     "text": [
      "[LightGBM] [Warning] feature_fraction is set=0.8046283999888295, colsample_bytree=0.5 will be ignored. Current value: feature_fraction=0.8046283999888295\n",
      "[LightGBM] [Warning] bagging_fraction is set=0.8817886932134933, subsample=0.6 will be ignored. Current value: bagging_fraction=0.8817886932134933\n",
      "[LightGBM] [Warning] bagging_freq is set=15, subsample_freq=0 will be ignored. Current value: bagging_freq=15\n",
      "Training until validation scores don't improve for 100 rounds\n",
      "[100]\ttraining's l1: 0.814747\tvalid_1's l1: 1.10914\n",
      "[200]\ttraining's l1: 0.802311\tvalid_1's l1: 1.10788\n",
      "[300]\ttraining's l1: 0.793564\tvalid_1's l1: 1.10842\n",
      "Early stopping, best iteration is:\n",
      "[212]\ttraining's l1: 0.801561\tvalid_1's l1: 1.10773\n"
     ]
    },
    {
     "name": "stderr",
     "output_type": "stream",
     "text": [
      "\u001b[32m[I 2021-07-29 19:16:59,283]\u001b[0m Trial 62 finished with value: -1.1075021682110808 and parameters: {'max_depth': 18, 'min_child_weight': 8, 'subsample': 0.6, 'colsample_bytree': 0.5, 'reg_lambda': 7.880435559464287, 'reg_alpha': 0.006600004827416415, 'feature_fraction': 0.8046283999888295, 'bagging_fraction': 0.8817886932134933, 'bagging_freq': 15, 'num_leaves': 923, 'min_child_samples': 63}. Best is trial 21 with value: -1.106305486441666.\u001b[0m\n"
     ]
    },
    {
     "name": "stdout",
     "output_type": "stream",
     "text": [
      "[LightGBM] [Warning] feature_fraction is set=0.7005137939341618, colsample_bytree=0.9 will be ignored. Current value: feature_fraction=0.7005137939341618\n",
      "[LightGBM] [Warning] bagging_fraction is set=0.9176751913703365, subsample=0.6 will be ignored. Current value: bagging_fraction=0.9176751913703365\n",
      "[LightGBM] [Warning] bagging_freq is set=17, subsample_freq=0 will be ignored. Current value: bagging_freq=17\n",
      "Training until validation scores don't improve for 100 rounds\n",
      "[100]\ttraining's l1: 0.813418\tvalid_1's l1: 1.11377\n",
      "[200]\ttraining's l1: 0.792935\tvalid_1's l1: 1.11136\n",
      "[300]\ttraining's l1: 0.78252\tvalid_1's l1: 1.11131\n",
      "Early stopping, best iteration is:\n",
      "[238]\ttraining's l1: 0.78821\tvalid_1's l1: 1.11082\n"
     ]
    },
    {
     "name": "stderr",
     "output_type": "stream",
     "text": [
      "\u001b[32m[I 2021-07-29 19:17:29,223]\u001b[0m Trial 63 finished with value: -1.1105211238874844 and parameters: {'max_depth': 17, 'min_child_weight': 7, 'subsample': 0.6, 'colsample_bytree': 0.9, 'reg_lambda': 49.61389016536432, 'reg_alpha': 0.019765634630934798, 'feature_fraction': 0.7005137939341618, 'bagging_fraction': 0.9176751913703365, 'bagging_freq': 17, 'num_leaves': 948, 'min_child_samples': 37}. Best is trial 21 with value: -1.106305486441666.\u001b[0m\n"
     ]
    },
    {
     "name": "stdout",
     "output_type": "stream",
     "text": [
      "[LightGBM] [Warning] feature_fraction is set=0.755770573281115, colsample_bytree=0.5 will be ignored. Current value: feature_fraction=0.755770573281115\n",
      "[LightGBM] [Warning] bagging_fraction is set=0.9469619296860113, subsample=0.6 will be ignored. Current value: bagging_fraction=0.9469619296860113\n",
      "[LightGBM] [Warning] bagging_freq is set=13, subsample_freq=0 will be ignored. Current value: bagging_freq=13\n",
      "Training until validation scores don't improve for 100 rounds\n",
      "[100]\ttraining's l1: 0.822584\tvalid_1's l1: 1.11558\n",
      "[200]\ttraining's l1: 0.808125\tvalid_1's l1: 1.11223\n",
      "[300]\ttraining's l1: 0.798703\tvalid_1's l1: 1.11179\n",
      "Early stopping, best iteration is:\n",
      "[256]\ttraining's l1: 0.803238\tvalid_1's l1: 1.11126\n"
     ]
    },
    {
     "name": "stderr",
     "output_type": "stream",
     "text": [
      "\u001b[32m[I 2021-07-29 19:17:59,724]\u001b[0m Trial 64 finished with value: -1.1109700766116297 and parameters: {'max_depth': 19, 'min_child_weight': 10, 'subsample': 0.6, 'colsample_bytree': 0.5, 'reg_lambda': 165.30941493465193, 'reg_alpha': 0.06684498729817419, 'feature_fraction': 0.755770573281115, 'bagging_fraction': 0.9469619296860113, 'bagging_freq': 13, 'num_leaves': 742, 'min_child_samples': 34}. Best is trial 21 with value: -1.106305486441666.\u001b[0m\n"
     ]
    },
    {
     "name": "stdout",
     "output_type": "stream",
     "text": [
      "[LightGBM] [Warning] feature_fraction is set=0.8443428192787398, colsample_bytree=0.5 will be ignored. Current value: feature_fraction=0.8443428192787398\n",
      "[LightGBM] [Warning] bagging_fraction is set=0.881488487894605, subsample=0.6 will be ignored. Current value: bagging_fraction=0.881488487894605\n",
      "[LightGBM] [Warning] bagging_freq is set=15, subsample_freq=0 will be ignored. Current value: bagging_freq=15\n",
      "Training until validation scores don't improve for 100 rounds\n",
      "[100]\ttraining's l1: 0.823138\tvalid_1's l1: 1.1131\n",
      "[200]\ttraining's l1: 0.811381\tvalid_1's l1: 1.10979\n",
      "[300]\ttraining's l1: 0.80309\tvalid_1's l1: 1.10857\n",
      "Early stopping, best iteration is:\n",
      "[299]\ttraining's l1: 0.803119\tvalid_1's l1: 1.10854\n"
     ]
    },
    {
     "name": "stderr",
     "output_type": "stream",
     "text": [
      "\u001b[32m[I 2021-07-29 19:18:31,049]\u001b[0m Trial 65 finished with value: -1.108237158115494 and parameters: {'max_depth': 16, 'min_child_weight': 12, 'subsample': 0.6, 'colsample_bytree': 0.5, 'reg_lambda': 82.64443649016975, 'reg_alpha': 0.24651251245381997, 'feature_fraction': 0.8443428192787398, 'bagging_fraction': 0.881488487894605, 'bagging_freq': 15, 'num_leaves': 689, 'min_child_samples': 48}. Best is trial 21 with value: -1.106305486441666.\u001b[0m\n"
     ]
    },
    {
     "name": "stdout",
     "output_type": "stream",
     "text": [
      "[LightGBM] [Warning] feature_fraction is set=0.7893346510067974, colsample_bytree=0.6 will be ignored. Current value: feature_fraction=0.7893346510067974\n",
      "[LightGBM] [Warning] bagging_fraction is set=0.9976877276658104, subsample=0.5 will be ignored. Current value: bagging_fraction=0.9976877276658104\n",
      "[LightGBM] [Warning] bagging_freq is set=12, subsample_freq=0 will be ignored. Current value: bagging_freq=12\n",
      "Training until validation scores don't improve for 100 rounds\n",
      "[100]\ttraining's l1: 0.821852\tvalid_1's l1: 1.11362\n",
      "[200]\ttraining's l1: 0.814957\tvalid_1's l1: 1.11026\n",
      "[300]\ttraining's l1: 0.807494\tvalid_1's l1: 1.10869\n",
      "[400]\ttraining's l1: 0.802745\tvalid_1's l1: 1.1085\n",
      "Early stopping, best iteration is:\n",
      "[377]\ttraining's l1: 0.803609\tvalid_1's l1: 1.10832\n"
     ]
    },
    {
     "name": "stderr",
     "output_type": "stream",
     "text": [
      "\u001b[32m[I 2021-07-29 19:19:08,060]\u001b[0m Trial 66 finished with value: -1.108137500460571 and parameters: {'max_depth': 20, 'min_child_weight': 9, 'subsample': 0.5, 'colsample_bytree': 0.6, 'reg_lambda': 13.673274630026516, 'reg_alpha': 0.03694006709155178, 'feature_fraction': 0.7893346510067974, 'bagging_fraction': 0.9976877276658104, 'bagging_freq': 12, 'num_leaves': 781, 'min_child_samples': 44}. Best is trial 21 with value: -1.106305486441666.\u001b[0m\n"
     ]
    },
    {
     "name": "stdout",
     "output_type": "stream",
     "text": [
      "[LightGBM] [Warning] feature_fraction is set=0.9190642982206391, colsample_bytree=0.5 will be ignored. Current value: feature_fraction=0.9190642982206391\n",
      "[LightGBM] [Warning] bagging_fraction is set=0.8602941852412167, subsample=0.6 will be ignored. Current value: bagging_fraction=0.8602941852412167\n",
      "[LightGBM] [Warning] bagging_freq is set=18, subsample_freq=0 will be ignored. Current value: bagging_freq=18\n",
      "Training until validation scores don't improve for 100 rounds\n",
      "[100]\ttraining's l1: 0.815751\tvalid_1's l1: 1.11129\n",
      "[200]\ttraining's l1: 0.792956\tvalid_1's l1: 1.10632\n",
      "Early stopping, best iteration is:\n",
      "[183]\ttraining's l1: 0.795819\tvalid_1's l1: 1.10597\n"
     ]
    },
    {
     "name": "stderr",
     "output_type": "stream",
     "text": [
      "\u001b[32m[I 2021-07-29 19:19:37,335]\u001b[0m Trial 67 finished with value: -1.1057620556283398 and parameters: {'max_depth': 15, 'min_child_weight': 13, 'subsample': 0.6, 'colsample_bytree': 0.5, 'reg_lambda': 30.9319329450672, 'reg_alpha': 0.7515114958383698, 'feature_fraction': 0.9190642982206391, 'bagging_fraction': 0.8602941852412167, 'bagging_freq': 18, 'num_leaves': 841, 'min_child_samples': 39}. Best is trial 67 with value: -1.1057620556283398.\u001b[0m\n"
     ]
    },
    {
     "name": "stdout",
     "output_type": "stream",
     "text": [
      "[LightGBM] [Warning] feature_fraction is set=0.9759558333466178, colsample_bytree=0.5 will be ignored. Current value: feature_fraction=0.9759558333466178\n",
      "[LightGBM] [Warning] bagging_fraction is set=0.8293870566225167, subsample=0.7 will be ignored. Current value: bagging_fraction=0.8293870566225167\n",
      "[LightGBM] [Warning] bagging_freq is set=18, subsample_freq=0 will be ignored. Current value: bagging_freq=18\n",
      "Training until validation scores don't improve for 100 rounds\n",
      "[100]\ttraining's l1: 0.823578\tvalid_1's l1: 1.11393\n",
      "[200]\ttraining's l1: 0.817033\tvalid_1's l1: 1.11199\n",
      "[300]\ttraining's l1: 0.80401\tvalid_1's l1: 1.11024\n",
      "Early stopping, best iteration is:\n",
      "[269]\ttraining's l1: 0.808678\tvalid_1's l1: 1.10958\n"
     ]
    },
    {
     "name": "stderr",
     "output_type": "stream",
     "text": [
      "\u001b[32m[I 2021-07-29 19:20:06,998]\u001b[0m Trial 68 finished with value: -1.1094125071669079 and parameters: {'max_depth': 12, 'min_child_weight': 13, 'subsample': 0.7, 'colsample_bytree': 0.5, 'reg_lambda': 3.6789467575264543, 'reg_alpha': 0.6446869238162225, 'feature_fraction': 0.9759558333466178, 'bagging_fraction': 0.8293870566225167, 'bagging_freq': 18, 'num_leaves': 833, 'min_child_samples': 40}. Best is trial 67 with value: -1.1057620556283398.\u001b[0m\n"
     ]
    },
    {
     "name": "stdout",
     "output_type": "stream",
     "text": [
      "[LightGBM] [Warning] feature_fraction is set=0.9153626905346656, colsample_bytree=0.7 will be ignored. Current value: feature_fraction=0.9153626905346656\n",
      "[LightGBM] [Warning] bagging_fraction is set=0.8609303883384494, subsample=0.6 will be ignored. Current value: bagging_fraction=0.8609303883384494\n",
      "[LightGBM] [Warning] bagging_freq is set=20, subsample_freq=0 will be ignored. Current value: bagging_freq=20\n",
      "Training until validation scores don't improve for 100 rounds\n",
      "[100]\ttraining's l1: 0.827719\tvalid_1's l1: 1.1132\n",
      "[200]\ttraining's l1: 0.820491\tvalid_1's l1: 1.10993\n",
      "[300]\ttraining's l1: 0.816467\tvalid_1's l1: 1.10951\n",
      "[400]\ttraining's l1: 0.807776\tvalid_1's l1: 1.10857\n",
      "Early stopping, best iteration is:\n",
      "[350]\ttraining's l1: 0.812778\tvalid_1's l1: 1.10842\n"
     ]
    },
    {
     "name": "stderr",
     "output_type": "stream",
     "text": [
      "\u001b[32m[I 2021-07-29 19:20:37,167]\u001b[0m Trial 69 finished with value: -1.1082265869316361 and parameters: {'max_depth': 15, 'min_child_weight': 15, 'subsample': 0.6, 'colsample_bytree': 0.7, 'reg_lambda': 29.191251276793896, 'reg_alpha': 3.2481157398050846, 'feature_fraction': 0.9153626905346656, 'bagging_fraction': 0.8609303883384494, 'bagging_freq': 20, 'num_leaves': 555, 'min_child_samples': 32}. Best is trial 67 with value: -1.1057620556283398.\u001b[0m\n"
     ]
    },
    {
     "name": "stdout",
     "output_type": "stream",
     "text": [
      "[LightGBM] [Warning] feature_fraction is set=0.9979247921077175, colsample_bytree=0.5 will be ignored. Current value: feature_fraction=0.9979247921077175\n",
      "[LightGBM] [Warning] bagging_fraction is set=0.6765394943496348, subsample=0.5 will be ignored. Current value: bagging_fraction=0.6765394943496348\n",
      "[LightGBM] [Warning] bagging_freq is set=18, subsample_freq=0 will be ignored. Current value: bagging_freq=18\n",
      "Training until validation scores don't improve for 100 rounds\n",
      "[100]\ttraining's l1: 0.828582\tvalid_1's l1: 1.11751\n",
      "[200]\ttraining's l1: 0.815902\tvalid_1's l1: 1.11244\n",
      "[300]\ttraining's l1: 0.807593\tvalid_1's l1: 1.11284\n",
      "Early stopping, best iteration is:\n",
      "[265]\ttraining's l1: 0.809843\tvalid_1's l1: 1.11221\n"
     ]
    },
    {
     "name": "stderr",
     "output_type": "stream",
     "text": [
      "\u001b[32m[I 2021-07-29 19:21:03,378]\u001b[0m Trial 70 finished with value: -1.1118222289558524 and parameters: {'max_depth': 13, 'min_child_weight': 14, 'subsample': 0.5, 'colsample_bytree': 0.5, 'reg_lambda': 733.5018300344028, 'reg_alpha': 1.7361330783736755, 'feature_fraction': 0.9979247921077175, 'bagging_fraction': 0.6765394943496348, 'bagging_freq': 18, 'num_leaves': 510, 'min_child_samples': 26}. Best is trial 67 with value: -1.1057620556283398.\u001b[0m\n"
     ]
    },
    {
     "name": "stdout",
     "output_type": "stream",
     "text": [
      "[LightGBM] [Warning] feature_fraction is set=0.8588390024637413, colsample_bytree=0.5 will be ignored. Current value: feature_fraction=0.8588390024637413\n",
      "[LightGBM] [Warning] bagging_fraction is set=0.9292740579449257, subsample=0.6 will be ignored. Current value: bagging_fraction=0.9292740579449257\n",
      "[LightGBM] [Warning] bagging_freq is set=16, subsample_freq=0 will be ignored. Current value: bagging_freq=16\n",
      "Training until validation scores don't improve for 100 rounds\n",
      "[100]\ttraining's l1: 0.817547\tvalid_1's l1: 1.11159\n",
      "[200]\ttraining's l1: 0.798162\tvalid_1's l1: 1.10964\n",
      "Early stopping, best iteration is:\n",
      "[188]\ttraining's l1: 0.800074\tvalid_1's l1: 1.10943\n"
     ]
    },
    {
     "name": "stderr",
     "output_type": "stream",
     "text": [
      "\u001b[32m[I 2021-07-29 19:21:31,167]\u001b[0m Trial 71 finished with value: -1.1091601524143035 and parameters: {'max_depth': 16, 'min_child_weight': 11, 'subsample': 0.6, 'colsample_bytree': 0.5, 'reg_lambda': 319.9435949999212, 'reg_alpha': 0.13243747602190714, 'feature_fraction': 0.8588390024637413, 'bagging_fraction': 0.9292740579449257, 'bagging_freq': 16, 'num_leaves': 891, 'min_child_samples': 38}. Best is trial 67 with value: -1.1057620556283398.\u001b[0m\n"
     ]
    },
    {
     "name": "stdout",
     "output_type": "stream",
     "text": [
      "[LightGBM] [Warning] feature_fraction is set=0.8341780119253773, colsample_bytree=0.5 will be ignored. Current value: feature_fraction=0.8341780119253773\n",
      "[LightGBM] [Warning] bagging_fraction is set=0.9639475948038051, subsample=0.6 will be ignored. Current value: bagging_fraction=0.9639475948038051\n",
      "[LightGBM] [Warning] bagging_freq is set=17, subsample_freq=0 will be ignored. Current value: bagging_freq=17\n",
      "Training until validation scores don't improve for 100 rounds\n",
      "[100]\ttraining's l1: 0.817058\tvalid_1's l1: 1.11274\n",
      "[200]\ttraining's l1: 0.806983\tvalid_1's l1: 1.11085\n",
      "[300]\ttraining's l1: 0.800799\tvalid_1's l1: 1.11006\n",
      "Early stopping, best iteration is:\n",
      "[286]\ttraining's l1: 0.802767\tvalid_1's l1: 1.10962\n"
     ]
    },
    {
     "name": "stderr",
     "output_type": "stream",
     "text": [
      "\u001b[32m[I 2021-07-29 19:22:02,807]\u001b[0m Trial 72 finished with value: -1.1093891362849893 and parameters: {'max_depth': 17, 'min_child_weight': 10, 'subsample': 0.6, 'colsample_bytree': 0.5, 'reg_lambda': 10.348273621611794, 'reg_alpha': 0.30295811658799787, 'feature_fraction': 0.8341780119253773, 'bagging_fraction': 0.9639475948038051, 'bagging_freq': 17, 'num_leaves': 858, 'min_child_samples': 44}. Best is trial 67 with value: -1.1057620556283398.\u001b[0m\n"
     ]
    },
    {
     "name": "stdout",
     "output_type": "stream",
     "text": [
      "[LightGBM] [Warning] feature_fraction is set=0.9470961835814707, colsample_bytree=0.5 will be ignored. Current value: feature_fraction=0.9470961835814707\n",
      "[LightGBM] [Warning] bagging_fraction is set=0.9122934123750344, subsample=0.6 will be ignored. Current value: bagging_fraction=0.9122934123750344\n",
      "[LightGBM] [Warning] bagging_freq is set=19, subsample_freq=0 will be ignored. Current value: bagging_freq=19\n",
      "Training until validation scores don't improve for 100 rounds\n",
      "[100]\ttraining's l1: 0.813104\tvalid_1's l1: 1.11299\n",
      "[200]\ttraining's l1: 0.792416\tvalid_1's l1: 1.11033\n",
      "Early stopping, best iteration is:\n",
      "[198]\ttraining's l1: 0.792834\tvalid_1's l1: 1.11032\n"
     ]
    },
    {
     "name": "stderr",
     "output_type": "stream",
     "text": [
      "\u001b[32m[I 2021-07-29 19:22:33,751]\u001b[0m Trial 73 finished with value: -1.1100217958825795 and parameters: {'max_depth': 18, 'min_child_weight': 12, 'subsample': 0.6, 'colsample_bytree': 0.5, 'reg_lambda': 51.059823082080726, 'reg_alpha': 1.1012258545245506, 'feature_fraction': 0.9470961835814707, 'bagging_fraction': 0.9122934123750344, 'bagging_freq': 19, 'num_leaves': 900, 'min_child_samples': 57}. Best is trial 67 with value: -1.1057620556283398.\u001b[0m\n"
     ]
    },
    {
     "name": "stdout",
     "output_type": "stream",
     "text": [
      "[LightGBM] [Warning] feature_fraction is set=0.8778765937983931, colsample_bytree=0.5 will be ignored. Current value: feature_fraction=0.8778765937983931\n",
      "[LightGBM] [Warning] bagging_fraction is set=0.8101949047306187, subsample=0.6 will be ignored. Current value: bagging_fraction=0.8101949047306187\n",
      "[LightGBM] [Warning] bagging_freq is set=16, subsample_freq=0 will be ignored. Current value: bagging_freq=16\n",
      "Training until validation scores don't improve for 100 rounds\n",
      "[100]\ttraining's l1: 0.837313\tvalid_1's l1: 1.11686\n",
      "[200]\ttraining's l1: 0.834264\tvalid_1's l1: 1.11372\n",
      "[300]\ttraining's l1: 0.832913\tvalid_1's l1: 1.11262\n",
      "[400]\ttraining's l1: 0.831821\tvalid_1's l1: 1.11253\n",
      "[500]\ttraining's l1: 0.830715\tvalid_1's l1: 1.11233\n",
      "[600]\ttraining's l1: 0.826714\tvalid_1's l1: 1.11091\n",
      "[700]\ttraining's l1: 0.821387\tvalid_1's l1: 1.11048\n",
      "[800]\ttraining's l1: 0.813832\tvalid_1's l1: 1.10896\n",
      "[900]\ttraining's l1: 0.803511\tvalid_1's l1: 1.10938\n",
      "Early stopping, best iteration is:\n",
      "[816]\ttraining's l1: 0.812324\tvalid_1's l1: 1.10836\n"
     ]
    },
    {
     "name": "stderr",
     "output_type": "stream",
     "text": [
      "\u001b[32m[I 2021-07-29 19:23:23,368]\u001b[0m Trial 74 finished with value: -1.1080435835518376 and parameters: {'max_depth': 19, 'min_child_weight': 11, 'subsample': 0.6, 'colsample_bytree': 0.5, 'reg_lambda': 7.228639100159627, 'reg_alpha': 0.780991472864982, 'feature_fraction': 0.8778765937983931, 'bagging_fraction': 0.8101949047306187, 'bagging_freq': 16, 'num_leaves': 439, 'min_child_samples': 54}. Best is trial 67 with value: -1.1057620556283398.\u001b[0m\n"
     ]
    },
    {
     "name": "stdout",
     "output_type": "stream",
     "text": [
      "[LightGBM] [Warning] feature_fraction is set=0.9168682530213985, colsample_bytree=0.5 will be ignored. Current value: feature_fraction=0.9168682530213985\n",
      "[LightGBM] [Warning] bagging_fraction is set=0.8567558358560193, subsample=0.6 will be ignored. Current value: bagging_fraction=0.8567558358560193\n",
      "[LightGBM] [Warning] bagging_freq is set=17, subsample_freq=0 will be ignored. Current value: bagging_freq=17\n",
      "Training until validation scores don't improve for 100 rounds\n",
      "[100]\ttraining's l1: 0.819367\tvalid_1's l1: 1.114\n",
      "[200]\ttraining's l1: 0.798691\tvalid_1's l1: 1.11079\n",
      "[300]\ttraining's l1: 0.787828\tvalid_1's l1: 1.11083\n",
      "Early stopping, best iteration is:\n",
      "[244]\ttraining's l1: 0.794525\tvalid_1's l1: 1.11021\n"
     ]
    },
    {
     "name": "stderr",
     "output_type": "stream",
     "text": [
      "\u001b[32m[I 2021-07-29 19:23:57,585]\u001b[0m Trial 75 finished with value: -1.109885569480915 and parameters: {'max_depth': 14, 'min_child_weight': 13, 'subsample': 0.6, 'colsample_bytree': 0.5, 'reg_lambda': 113.19366994054107, 'reg_alpha': 0.5440130417447966, 'feature_fraction': 0.9168682530213985, 'bagging_fraction': 0.8567558358560193, 'bagging_freq': 17, 'num_leaves': 816, 'min_child_samples': 61}. Best is trial 67 with value: -1.1057620556283398.\u001b[0m\n"
     ]
    },
    {
     "name": "stdout",
     "output_type": "stream",
     "text": [
      "[LightGBM] [Warning] feature_fraction is set=0.8082102793567605, colsample_bytree=0.6 will be ignored. Current value: feature_fraction=0.8082102793567605\n",
      "[LightGBM] [Warning] bagging_fraction is set=0.946730498940608, subsample=0.7 will be ignored. Current value: bagging_fraction=0.946730498940608\n",
      "[LightGBM] [Warning] bagging_freq is set=19, subsample_freq=0 will be ignored. Current value: bagging_freq=19\n",
      "Training until validation scores don't improve for 100 rounds\n",
      "[100]\ttraining's l1: 0.811398\tvalid_1's l1: 1.11251\n",
      "[200]\ttraining's l1: 0.798544\tvalid_1's l1: 1.1115\n",
      "[300]\ttraining's l1: 0.791061\tvalid_1's l1: 1.11139\n",
      "Early stopping, best iteration is:\n",
      "[214]\ttraining's l1: 0.796501\tvalid_1's l1: 1.11123\n"
     ]
    },
    {
     "name": "stderr",
     "output_type": "stream",
     "text": [
      "\u001b[32m[I 2021-07-29 19:24:33,163]\u001b[0m Trial 76 finished with value: -1.1109680223377336 and parameters: {'max_depth': 16, 'min_child_weight': 9, 'subsample': 0.7, 'colsample_bytree': 0.6, 'reg_lambda': 15.691679588396289, 'reg_alpha': 6.419904940810615, 'feature_fraction': 0.8082102793567605, 'bagging_fraction': 0.946730498940608, 'bagging_freq': 19, 'num_leaves': 961, 'min_child_samples': 49}. Best is trial 67 with value: -1.1057620556283398.\u001b[0m\n"
     ]
    },
    {
     "name": "stdout",
     "output_type": "stream",
     "text": [
      "[LightGBM] [Warning] feature_fraction is set=0.7382645985667986, colsample_bytree=0.5 will be ignored. Current value: feature_fraction=0.7382645985667986\n",
      "[LightGBM] [Warning] bagging_fraction is set=0.9786668970623151, subsample=0.6 will be ignored. Current value: bagging_fraction=0.9786668970623151\n",
      "[LightGBM] [Warning] bagging_freq is set=15, subsample_freq=0 will be ignored. Current value: bagging_freq=15\n",
      "Training until validation scores don't improve for 100 rounds\n",
      "[100]\ttraining's l1: 0.819756\tvalid_1's l1: 1.11136\n",
      "[200]\ttraining's l1: 0.811109\tvalid_1's l1: 1.10918\n",
      "[300]\ttraining's l1: 0.803947\tvalid_1's l1: 1.10783\n",
      "Early stopping, best iteration is:\n",
      "[256]\ttraining's l1: 0.806251\tvalid_1's l1: 1.10758\n"
     ]
    },
    {
     "name": "stderr",
     "output_type": "stream",
     "text": [
      "\u001b[32m[I 2021-07-29 19:25:00,439]\u001b[0m Trial 77 finished with value: -1.1073761754174138 and parameters: {'max_depth': 15, 'min_child_weight': 11, 'subsample': 0.6, 'colsample_bytree': 0.5, 'reg_lambda': 5.10728976918082, 'reg_alpha': 0.3832747586133147, 'feature_fraction': 0.7382645985667986, 'bagging_fraction': 0.9786668970623151, 'bagging_freq': 15, 'num_leaves': 761, 'min_child_samples': 19}. Best is trial 67 with value: -1.1057620556283398.\u001b[0m\n"
     ]
    },
    {
     "name": "stdout",
     "output_type": "stream",
     "text": [
      "[LightGBM] [Warning] feature_fraction is set=0.7222477017506922, colsample_bytree=0.5 will be ignored. Current value: feature_fraction=0.7222477017506922\n",
      "[LightGBM] [Warning] bagging_fraction is set=0.9995165464060627, subsample=0.5 will be ignored. Current value: bagging_fraction=0.9995165464060627\n",
      "[LightGBM] [Warning] bagging_freq is set=18, subsample_freq=0 will be ignored. Current value: bagging_freq=18\n",
      "Training until validation scores don't improve for 100 rounds\n",
      "[100]\ttraining's l1: 0.823802\tvalid_1's l1: 1.11389\n",
      "[200]\ttraining's l1: 0.818329\tvalid_1's l1: 1.11193\n",
      "[300]\ttraining's l1: 0.813002\tvalid_1's l1: 1.11086\n",
      "[400]\ttraining's l1: 0.811255\tvalid_1's l1: 1.11036\n",
      "[500]\ttraining's l1: 0.809922\tvalid_1's l1: 1.11054\n",
      "Early stopping, best iteration is:\n",
      "[410]\ttraining's l1: 0.810806\tvalid_1's l1: 1.10994\n"
     ]
    },
    {
     "name": "stderr",
     "output_type": "stream",
     "text": [
      "\u001b[32m[I 2021-07-29 19:25:33,508]\u001b[0m Trial 78 finished with value: -1.1097534988927675 and parameters: {'max_depth': 13, 'min_child_weight': 14, 'subsample': 0.5, 'colsample_bytree': 0.5, 'reg_lambda': 2.4618203746619183, 'reg_alpha': 0.38529324038762364, 'feature_fraction': 0.7222477017506922, 'bagging_fraction': 0.9995165464060627, 'bagging_freq': 18, 'num_leaves': 642, 'min_child_samples': 16}. Best is trial 67 with value: -1.1057620556283398.\u001b[0m\n"
     ]
    },
    {
     "name": "stdout",
     "output_type": "stream",
     "text": [
      "[LightGBM] [Warning] feature_fraction is set=0.6668834489867347, colsample_bytree=0.6 will be ignored. Current value: feature_fraction=0.6668834489867347\n",
      "[LightGBM] [Warning] bagging_fraction is set=0.9798853190441819, subsample=0.8 will be ignored. Current value: bagging_fraction=0.9798853190441819\n",
      "[LightGBM] [Warning] bagging_freq is set=15, subsample_freq=0 will be ignored. Current value: bagging_freq=15\n",
      "Training until validation scores don't improve for 100 rounds\n",
      "[100]\ttraining's l1: 0.820922\tvalid_1's l1: 1.11429\n",
      "[200]\ttraining's l1: 0.811613\tvalid_1's l1: 1.11159\n",
      "[300]\ttraining's l1: 0.80575\tvalid_1's l1: 1.11135\n",
      "Early stopping, best iteration is:\n",
      "[225]\ttraining's l1: 0.810119\tvalid_1's l1: 1.11129\n"
     ]
    },
    {
     "name": "stderr",
     "output_type": "stream",
     "text": [
      "\u001b[32m[I 2021-07-29 19:25:58,282]\u001b[0m Trial 79 finished with value: -1.11113047781302 and parameters: {'max_depth': 15, 'min_child_weight': 11, 'subsample': 0.8, 'colsample_bytree': 0.6, 'reg_lambda': 5.313849676001557, 'reg_alpha': 2.4688527139140763, 'feature_fraction': 0.6668834489867347, 'bagging_fraction': 0.9798853190441819, 'bagging_freq': 15, 'num_leaves': 765, 'min_child_samples': 18}. Best is trial 67 with value: -1.1057620556283398.\u001b[0m\n"
     ]
    },
    {
     "name": "stdout",
     "output_type": "stream",
     "text": [
      "[LightGBM] [Warning] feature_fraction is set=0.7488095033920106, colsample_bytree=0.5 will be ignored. Current value: feature_fraction=0.7488095033920106\n",
      "[LightGBM] [Warning] bagging_fraction is set=0.7620583009358074, subsample=0.6 will be ignored. Current value: bagging_fraction=0.7620583009358074\n",
      "[LightGBM] [Warning] bagging_freq is set=17, subsample_freq=0 will be ignored. Current value: bagging_freq=17\n",
      "Training until validation scores don't improve for 100 rounds\n",
      "[100]\ttraining's l1: 0.829442\tvalid_1's l1: 1.11483\n",
      "[200]\ttraining's l1: 0.823149\tvalid_1's l1: 1.11055\n",
      "[300]\ttraining's l1: 0.822605\tvalid_1's l1: 1.11021\n",
      "[400]\ttraining's l1: 0.822173\tvalid_1's l1: 1.11013\n",
      "Early stopping, best iteration is:\n",
      "[336]\ttraining's l1: 0.822373\tvalid_1's l1: 1.11004\n"
     ]
    },
    {
     "name": "stderr",
     "output_type": "stream",
     "text": [
      "\u001b[32m[I 2021-07-29 19:26:18,594]\u001b[0m Trial 80 finished with value: -1.109931694633643 and parameters: {'max_depth': 10, 'min_child_weight': 10, 'subsample': 0.6, 'colsample_bytree': 0.5, 'reg_lambda': 1.4813260112103248, 'reg_alpha': 0.17347619053293517, 'feature_fraction': 0.7488095033920106, 'bagging_fraction': 0.7620583009358074, 'bagging_freq': 17, 'num_leaves': 729, 'min_child_samples': 26}. Best is trial 67 with value: -1.1057620556283398.\u001b[0m\n"
     ]
    },
    {
     "name": "stdout",
     "output_type": "stream",
     "text": [
      "[LightGBM] [Warning] feature_fraction is set=0.20226217738865715, colsample_bytree=0.5 will be ignored. Current value: feature_fraction=0.20226217738865715\n",
      "[LightGBM] [Warning] bagging_fraction is set=0.896319545818965, subsample=0.6 will be ignored. Current value: bagging_fraction=0.896319545818965\n",
      "[LightGBM] [Warning] bagging_freq is set=13, subsample_freq=0 will be ignored. Current value: bagging_freq=13\n",
      "Training until validation scores don't improve for 100 rounds\n",
      "[100]\ttraining's l1: 0.825658\tvalid_1's l1: 1.12353\n",
      "[200]\ttraining's l1: 0.80956\tvalid_1's l1: 1.1187\n",
      "[300]\ttraining's l1: 0.803746\tvalid_1's l1: 1.11783\n",
      "Early stopping, best iteration is:\n",
      "[236]\ttraining's l1: 0.8057\tvalid_1's l1: 1.11766\n"
     ]
    },
    {
     "name": "stderr",
     "output_type": "stream",
     "text": [
      "\u001b[32m[I 2021-07-29 19:26:37,974]\u001b[0m Trial 81 finished with value: -1.1172078795446128 and parameters: {'max_depth': 14, 'min_child_weight': 12, 'subsample': 0.6, 'colsample_bytree': 0.5, 'reg_lambda': 27.036395943993675, 'reg_alpha': 0.46885629644196075, 'feature_fraction': 0.20226217738865715, 'bagging_fraction': 0.896319545818965, 'bagging_freq': 13, 'num_leaves': 704, 'min_child_samples': 35}. Best is trial 67 with value: -1.1057620556283398.\u001b[0m\n"
     ]
    },
    {
     "name": "stdout",
     "output_type": "stream",
     "text": [
      "[LightGBM] [Warning] feature_fraction is set=0.7801777639437898, colsample_bytree=0.5 will be ignored. Current value: feature_fraction=0.7801777639437898\n",
      "[LightGBM] [Warning] bagging_fraction is set=0.874298169710189, subsample=0.6 will be ignored. Current value: bagging_fraction=0.874298169710189\n",
      "[LightGBM] [Warning] bagging_freq is set=16, subsample_freq=0 will be ignored. Current value: bagging_freq=16\n",
      "Training until validation scores don't improve for 100 rounds\n",
      "[100]\ttraining's l1: 0.819933\tvalid_1's l1: 1.11088\n",
      "[200]\ttraining's l1: 0.80963\tvalid_1's l1: 1.10846\n",
      "Early stopping, best iteration is:\n",
      "[197]\ttraining's l1: 0.80966\tvalid_1's l1: 1.10845\n"
     ]
    },
    {
     "name": "stderr",
     "output_type": "stream",
     "text": [
      "\u001b[32m[I 2021-07-29 19:27:01,862]\u001b[0m Trial 82 finished with value: -1.108266610646579 and parameters: {'max_depth': 17, 'min_child_weight': 13, 'subsample': 0.6, 'colsample_bytree': 0.5, 'reg_lambda': 0.6983152644243823, 'reg_alpha': 0.02792003340938403, 'feature_fraction': 0.7801777639437898, 'bagging_fraction': 0.874298169710189, 'bagging_freq': 16, 'num_leaves': 822, 'min_child_samples': 21}. Best is trial 67 with value: -1.1057620556283398.\u001b[0m\n"
     ]
    },
    {
     "name": "stdout",
     "output_type": "stream",
     "text": [
      "[LightGBM] [Warning] feature_fraction is set=0.824495803845064, colsample_bytree=0.5 will be ignored. Current value: feature_fraction=0.824495803845064\n",
      "[LightGBM] [Warning] bagging_fraction is set=0.9447901883467906, subsample=0.6 will be ignored. Current value: bagging_fraction=0.9447901883467906\n",
      "[LightGBM] [Warning] bagging_freq is set=14, subsample_freq=0 will be ignored. Current value: bagging_freq=14\n",
      "Training until validation scores don't improve for 100 rounds\n",
      "[100]\ttraining's l1: 0.820046\tvalid_1's l1: 1.11113\n",
      "[200]\ttraining's l1: 0.811797\tvalid_1's l1: 1.10944\n",
      "[300]\ttraining's l1: 0.807657\tvalid_1's l1: 1.10953\n",
      "Early stopping, best iteration is:\n",
      "[213]\ttraining's l1: 0.811369\tvalid_1's l1: 1.10931\n"
     ]
    },
    {
     "name": "stderr",
     "output_type": "stream",
     "text": [
      "\u001b[32m[I 2021-07-29 19:27:31,633]\u001b[0m Trial 83 finished with value: -1.1091442380520753 and parameters: {'max_depth': 16, 'min_child_weight': 8, 'subsample': 0.6, 'colsample_bytree': 0.5, 'reg_lambda': 4.105270326063216, 'reg_alpha': 0.09023376204261992, 'feature_fraction': 0.824495803845064, 'bagging_fraction': 0.9447901883467906, 'bagging_freq': 14, 'num_leaves': 788, 'min_child_samples': 52}. Best is trial 67 with value: -1.1057620556283398.\u001b[0m\n"
     ]
    },
    {
     "name": "stdout",
     "output_type": "stream",
     "text": [
      "[LightGBM] [Warning] feature_fraction is set=0.8596951531659089, colsample_bytree=0.5 will be ignored. Current value: feature_fraction=0.8596951531659089\n",
      "[LightGBM] [Warning] bagging_fraction is set=0.782336604003931, subsample=0.6 will be ignored. Current value: bagging_fraction=0.782336604003931\n",
      "[LightGBM] [Warning] bagging_freq is set=15, subsample_freq=0 will be ignored. Current value: bagging_freq=15\n",
      "Training until validation scores don't improve for 100 rounds\n",
      "[100]\ttraining's l1: 0.815831\tvalid_1's l1: 1.11119\n",
      "[200]\ttraining's l1: 0.794721\tvalid_1's l1: 1.10787\n",
      "[300]\ttraining's l1: 0.783344\tvalid_1's l1: 1.10776\n",
      "Early stopping, best iteration is:\n",
      "[242]\ttraining's l1: 0.790027\tvalid_1's l1: 1.10761\n"
     ]
    },
    {
     "name": "stderr",
     "output_type": "stream",
     "text": [
      "\u001b[32m[I 2021-07-29 19:28:05,655]\u001b[0m Trial 84 finished with value: -1.1072477287412645 and parameters: {'max_depth': 15, 'min_child_weight': 10, 'subsample': 0.6, 'colsample_bytree': 0.5, 'reg_lambda': 43.70559491964784, 'reg_alpha': 0.22896594012805246, 'feature_fraction': 0.8596951531659089, 'bagging_fraction': 0.782336604003931, 'bagging_freq': 15, 'num_leaves': 851, 'min_child_samples': 39}. Best is trial 67 with value: -1.1057620556283398.\u001b[0m\n"
     ]
    },
    {
     "name": "stdout",
     "output_type": "stream",
     "text": [
      "[LightGBM] [Warning] feature_fraction is set=0.8551280266399566, colsample_bytree=0.5 will be ignored. Current value: feature_fraction=0.8551280266399566\n",
      "[LightGBM] [Warning] bagging_fraction is set=0.7264652267558855, subsample=0.6 will be ignored. Current value: bagging_fraction=0.7264652267558855\n",
      "[LightGBM] [Warning] bagging_freq is set=16, subsample_freq=0 will be ignored. Current value: bagging_freq=16\n",
      "Training until validation scores don't improve for 100 rounds\n",
      "[100]\ttraining's l1: 0.838521\tvalid_1's l1: 1.11695\n",
      "[200]\ttraining's l1: 0.835145\tvalid_1's l1: 1.11428\n",
      "[300]\ttraining's l1: 0.833195\tvalid_1's l1: 1.11273\n",
      "[400]\ttraining's l1: 0.832092\tvalid_1's l1: 1.11231\n",
      "[500]\ttraining's l1: 0.829518\tvalid_1's l1: 1.11104\n",
      "[600]\ttraining's l1: 0.825633\tvalid_1's l1: 1.11067\n",
      "[700]\ttraining's l1: 0.817515\tvalid_1's l1: 1.10956\n",
      "Early stopping, best iteration is:\n",
      "[687]\ttraining's l1: 0.818052\tvalid_1's l1: 1.10916\n"
     ]
    },
    {
     "name": "stderr",
     "output_type": "stream",
     "text": [
      "\u001b[32m[I 2021-07-29 19:28:49,023]\u001b[0m Trial 85 finished with value: -1.108866616158161 and parameters: {'max_depth': 15, 'min_child_weight': 10, 'subsample': 0.6, 'colsample_bytree': 0.5, 'reg_lambda': 11.950948055968812, 'reg_alpha': 0.22286529773426741, 'feature_fraction': 0.8551280266399566, 'bagging_fraction': 0.7264652267558855, 'bagging_freq': 16, 'num_leaves': 388, 'min_child_samples': 32}. Best is trial 67 with value: -1.1057620556283398.\u001b[0m\n"
     ]
    },
    {
     "name": "stdout",
     "output_type": "stream",
     "text": [
      "[LightGBM] [Warning] feature_fraction is set=0.8958300619156097, colsample_bytree=0.5 will be ignored. Current value: feature_fraction=0.8958300619156097\n",
      "[LightGBM] [Warning] bagging_fraction is set=0.8555214967132234, subsample=0.6 will be ignored. Current value: bagging_fraction=0.8555214967132234\n",
      "[LightGBM] [Warning] bagging_freq is set=15, subsample_freq=0 will be ignored. Current value: bagging_freq=15\n",
      "Training until validation scores don't improve for 100 rounds\n",
      "[100]\ttraining's l1: 0.831222\tvalid_1's l1: 1.12076\n",
      "[200]\ttraining's l1: 0.820625\tvalid_1's l1: 1.11566\n",
      "[300]\ttraining's l1: 0.808036\tvalid_1's l1: 1.11287\n",
      "[400]\ttraining's l1: 0.790841\tvalid_1's l1: 1.11004\n",
      "[500]\ttraining's l1: 0.783684\tvalid_1's l1: 1.11054\n",
      "Early stopping, best iteration is:\n",
      "[413]\ttraining's l1: 0.790087\tvalid_1's l1: 1.10997\n"
     ]
    },
    {
     "name": "stderr",
     "output_type": "stream",
     "text": [
      "\u001b[32m[I 2021-07-29 19:29:21,019]\u001b[0m Trial 86 finished with value: -1.1096410702561577 and parameters: {'max_depth': 11, 'min_child_weight': 11, 'subsample': 0.6, 'colsample_bytree': 0.5, 'reg_lambda': 68.84013355408376, 'reg_alpha': 0.32629368997166364, 'feature_fraction': 0.8958300619156097, 'bagging_fraction': 0.8555214967132234, 'bagging_freq': 15, 'num_leaves': 674, 'min_child_samples': 39}. Best is trial 67 with value: -1.1057620556283398.\u001b[0m\n"
     ]
    },
    {
     "name": "stdout",
     "output_type": "stream",
     "text": [
      "[LightGBM] [Warning] feature_fraction is set=0.7697312098482254, colsample_bytree=0.5 will be ignored. Current value: feature_fraction=0.7697312098482254\n",
      "[LightGBM] [Warning] bagging_fraction is set=0.7963815663797161, subsample=0.7 will be ignored. Current value: bagging_fraction=0.7963815663797161\n",
      "[LightGBM] [Warning] bagging_freq is set=17, subsample_freq=0 will be ignored. Current value: bagging_freq=17\n",
      "Training until validation scores don't improve for 100 rounds\n",
      "[100]\ttraining's l1: 0.835578\tvalid_1's l1: 1.11839\n",
      "[200]\ttraining's l1: 0.830564\tvalid_1's l1: 1.1158\n",
      "[300]\ttraining's l1: 0.824277\tvalid_1's l1: 1.11308\n",
      "[400]\ttraining's l1: 0.820099\tvalid_1's l1: 1.11245\n",
      "[500]\ttraining's l1: 0.819214\tvalid_1's l1: 1.1118\n",
      "[600]\ttraining's l1: 0.817822\tvalid_1's l1: 1.11025\n",
      "[700]\ttraining's l1: 0.813568\tvalid_1's l1: 1.10948\n",
      "[800]\ttraining's l1: 0.800664\tvalid_1's l1: 1.1082\n",
      "[900]\ttraining's l1: 0.784745\tvalid_1's l1: 1.10929\n",
      "Early stopping, best iteration is:\n",
      "[814]\ttraining's l1: 0.79851\tvalid_1's l1: 1.10817\n"
     ]
    },
    {
     "name": "stderr",
     "output_type": "stream",
     "text": [
      "\u001b[32m[I 2021-07-29 19:30:09,459]\u001b[0m Trial 87 finished with value: -1.1076723048788306 and parameters: {'max_depth': 14, 'min_child_weight': 12, 'subsample': 0.7, 'colsample_bytree': 0.5, 'reg_lambda': 1.1200603329620833, 'reg_alpha': 0.06879336330617515, 'feature_fraction': 0.7697312098482254, 'bagging_fraction': 0.7963815663797161, 'bagging_freq': 17, 'num_leaves': 464, 'min_child_samples': 29}. Best is trial 67 with value: -1.1057620556283398.\u001b[0m\n"
     ]
    },
    {
     "name": "stdout",
     "output_type": "stream",
     "text": [
      "[LightGBM] [Warning] feature_fraction is set=0.8676479043559034, colsample_bytree=0.5 will be ignored. Current value: feature_fraction=0.8676479043559034\n",
      "[LightGBM] [Warning] bagging_fraction is set=0.8278445787124009, subsample=0.5 will be ignored. Current value: bagging_fraction=0.8278445787124009\n",
      "[LightGBM] [Warning] bagging_freq is set=19, subsample_freq=0 will be ignored. Current value: bagging_freq=19\n",
      "Training until validation scores don't improve for 100 rounds\n",
      "[100]\ttraining's l1: 0.827205\tvalid_1's l1: 1.11302\n",
      "[200]\ttraining's l1: 0.81924\tvalid_1's l1: 1.11068\n",
      "[300]\ttraining's l1: 0.809829\tvalid_1's l1: 1.10942\n",
      "[400]\ttraining's l1: 0.802867\tvalid_1's l1: 1.10964\n",
      "Early stopping, best iteration is:\n",
      "[341]\ttraining's l1: 0.803524\tvalid_1's l1: 1.10922\n"
     ]
    },
    {
     "name": "stderr",
     "output_type": "stream",
     "text": [
      "\u001b[32m[I 2021-07-29 19:30:38,249]\u001b[0m Trial 88 finished with value: -1.1089576657240325 and parameters: {'max_depth': 13, 'min_child_weight': 11, 'subsample': 0.5, 'colsample_bytree': 0.5, 'reg_lambda': 1.9229222502969332, 'reg_alpha': 0.7559779251722467, 'feature_fraction': 0.8676479043559034, 'bagging_fraction': 0.8278445787124009, 'bagging_freq': 19, 'num_leaves': 609, 'min_child_samples': 42}. Best is trial 67 with value: -1.1057620556283398.\u001b[0m\n"
     ]
    },
    {
     "name": "stdout",
     "output_type": "stream",
     "text": [
      "[LightGBM] [Warning] feature_fraction is set=0.8148277238289536, colsample_bytree=0.5 will be ignored. Current value: feature_fraction=0.8148277238289536\n",
      "[LightGBM] [Warning] bagging_fraction is set=0.7897632570384253, subsample=0.9 will be ignored. Current value: bagging_fraction=0.7897632570384253\n",
      "[LightGBM] [Warning] bagging_freq is set=11, subsample_freq=0 will be ignored. Current value: bagging_freq=11\n",
      "Training until validation scores don't improve for 100 rounds\n",
      "[100]\ttraining's l1: 0.825438\tvalid_1's l1: 1.11637\n",
      "[200]\ttraining's l1: 0.815832\tvalid_1's l1: 1.11279\n",
      "Early stopping, best iteration is:\n",
      "[188]\ttraining's l1: 0.816812\tvalid_1's l1: 1.11259\n"
     ]
    },
    {
     "name": "stderr",
     "output_type": "stream",
     "text": [
      "\u001b[32m[I 2021-07-29 19:30:59,765]\u001b[0m Trial 89 finished with value: -1.1124656998523081 and parameters: {'max_depth': 12, 'min_child_weight': 10, 'subsample': 0.9, 'colsample_bytree': 0.5, 'reg_lambda': 42.17213943527149, 'reg_alpha': 0.12548724635928213, 'feature_fraction': 0.8148277238289536, 'bagging_fraction': 0.7897632570384253, 'bagging_freq': 11, 'num_leaves': 859, 'min_child_samples': 68}. Best is trial 67 with value: -1.1057620556283398.\u001b[0m\n"
     ]
    },
    {
     "name": "stdout",
     "output_type": "stream",
     "text": [
      "[LightGBM] [Warning] feature_fraction is set=0.5469121867663221, colsample_bytree=0.9 will be ignored. Current value: feature_fraction=0.5469121867663221\n",
      "[LightGBM] [Warning] bagging_fraction is set=0.7776213792630533, subsample=0.6 will be ignored. Current value: bagging_fraction=0.7776213792630533\n",
      "[LightGBM] [Warning] bagging_freq is set=18, subsample_freq=0 will be ignored. Current value: bagging_freq=18\n",
      "Training until validation scores don't improve for 100 rounds\n",
      "[100]\ttraining's l1: 0.821876\tvalid_1's l1: 1.11868\n",
      "[200]\ttraining's l1: 0.800377\tvalid_1's l1: 1.11457\n",
      "Early stopping, best iteration is:\n",
      "[159]\ttraining's l1: 0.805844\tvalid_1's l1: 1.11418\n"
     ]
    },
    {
     "name": "stderr",
     "output_type": "stream",
     "text": [
      "\u001b[32m[I 2021-07-29 19:31:22,837]\u001b[0m Trial 90 finished with value: -1.1138869245777812 and parameters: {'max_depth': 15, 'min_child_weight': 13, 'subsample': 0.6, 'colsample_bytree': 0.9, 'reg_lambda': 195.7757488737185, 'reg_alpha': 1.3435046662052768, 'feature_fraction': 0.5469121867663221, 'bagging_fraction': 0.7776213792630533, 'bagging_freq': 18, 'num_leaves': 770, 'min_child_samples': 12}. Best is trial 67 with value: -1.1057620556283398.\u001b[0m\n"
     ]
    },
    {
     "name": "stdout",
     "output_type": "stream",
     "text": [
      "[LightGBM] [Warning] feature_fraction is set=0.7909600241268512, colsample_bytree=0.5 will be ignored. Current value: feature_fraction=0.7909600241268512\n",
      "[LightGBM] [Warning] bagging_fraction is set=0.9202139633443649, subsample=0.6 will be ignored. Current value: bagging_fraction=0.9202139633443649\n",
      "[LightGBM] [Warning] bagging_freq is set=14, subsample_freq=0 will be ignored. Current value: bagging_freq=14\n",
      "Training until validation scores don't improve for 100 rounds\n",
      "[100]\ttraining's l1: 0.816757\tvalid_1's l1: 1.10934\n",
      "[200]\ttraining's l1: 0.795696\tvalid_1's l1: 1.10707\n",
      "Early stopping, best iteration is:\n",
      "[178]\ttraining's l1: 0.799046\tvalid_1's l1: 1.10667\n"
     ]
    },
    {
     "name": "stderr",
     "output_type": "stream",
     "text": [
      "\u001b[32m[I 2021-07-29 19:31:48,591]\u001b[0m Trial 91 finished with value: -1.106418249833727 and parameters: {'max_depth': 16, 'min_child_weight': 9, 'subsample': 0.6, 'colsample_bytree': 0.5, 'reg_lambda': 35.808648400089176, 'reg_alpha': 0.45556976526556014, 'feature_fraction': 0.7909600241268512, 'bagging_fraction': 0.9202139633443649, 'bagging_freq': 14, 'num_leaves': 891, 'min_child_samples': 45}. Best is trial 67 with value: -1.1057620556283398.\u001b[0m\n"
     ]
    },
    {
     "name": "stdout",
     "output_type": "stream",
     "text": [
      "[LightGBM] [Warning] feature_fraction is set=0.8418856913109058, colsample_bytree=0.5 will be ignored. Current value: feature_fraction=0.8418856913109058\n",
      "[LightGBM] [Warning] bagging_fraction is set=0.9721743691088087, subsample=0.6 will be ignored. Current value: bagging_fraction=0.9721743691088087\n",
      "[LightGBM] [Warning] bagging_freq is set=14, subsample_freq=0 will be ignored. Current value: bagging_freq=14\n",
      "Training until validation scores don't improve for 100 rounds\n",
      "[100]\ttraining's l1: 0.812233\tvalid_1's l1: 1.10938\n",
      "[200]\ttraining's l1: 0.794743\tvalid_1's l1: 1.10883\n",
      "Early stopping, best iteration is:\n",
      "[107]\ttraining's l1: 0.810049\tvalid_1's l1: 1.10832\n"
     ]
    },
    {
     "name": "stderr",
     "output_type": "stream",
     "text": [
      "\u001b[32m[I 2021-07-29 19:32:09,014]\u001b[0m Trial 92 finished with value: -1.1082163101165072 and parameters: {'max_depth': 16, 'min_child_weight': 9, 'subsample': 0.6, 'colsample_bytree': 0.5, 'reg_lambda': 19.85998697438429, 'reg_alpha': 0.46466640298420187, 'feature_fraction': 0.8418856913109058, 'bagging_fraction': 0.9721743691088087, 'bagging_freq': 14, 'num_leaves': 910, 'min_child_samples': 45}. Best is trial 67 with value: -1.1057620556283398.\u001b[0m\n"
     ]
    },
    {
     "name": "stdout",
     "output_type": "stream",
     "text": [
      "[LightGBM] [Warning] feature_fraction is set=0.2519872974067957, colsample_bytree=0.5 will be ignored. Current value: feature_fraction=0.2519872974067957\n",
      "[LightGBM] [Warning] bagging_fraction is set=0.9120937786962011, subsample=0.6 will be ignored. Current value: bagging_fraction=0.9120937786962011\n",
      "[LightGBM] [Warning] bagging_freq is set=15, subsample_freq=0 will be ignored. Current value: bagging_freq=15\n",
      "Training until validation scores don't improve for 100 rounds\n",
      "[100]\ttraining's l1: 0.822094\tvalid_1's l1: 1.12097\n",
      "[200]\ttraining's l1: 0.805799\tvalid_1's l1: 1.11569\n",
      "[300]\ttraining's l1: 0.798742\tvalid_1's l1: 1.11499\n",
      "[400]\ttraining's l1: 0.796328\tvalid_1's l1: 1.11487\n",
      "Early stopping, best iteration is:\n",
      "[358]\ttraining's l1: 0.797456\tvalid_1's l1: 1.1147\n"
     ]
    },
    {
     "name": "stderr",
     "output_type": "stream",
     "text": [
      "\u001b[32m[I 2021-07-29 19:32:40,235]\u001b[0m Trial 93 finished with value: -1.1141927329695622 and parameters: {'max_depth': 16, 'min_child_weight': 9, 'subsample': 0.6, 'colsample_bytree': 0.5, 'reg_lambda': 107.64383459450683, 'reg_alpha': 0.047108129982639614, 'feature_fraction': 0.2519872974067957, 'bagging_fraction': 0.9120937786962011, 'bagging_freq': 15, 'num_leaves': 805, 'min_child_samples': 34}. Best is trial 67 with value: -1.1057620556283398.\u001b[0m\n"
     ]
    },
    {
     "name": "stdout",
     "output_type": "stream",
     "text": [
      "[LightGBM] [Warning] feature_fraction is set=0.7359274083892972, colsample_bytree=0.5 will be ignored. Current value: feature_fraction=0.7359274083892972\n",
      "[LightGBM] [Warning] bagging_fraction is set=0.8475756796152624, subsample=0.6 will be ignored. Current value: bagging_fraction=0.8475756796152624\n",
      "[LightGBM] [Warning] bagging_freq is set=13, subsample_freq=0 will be ignored. Current value: bagging_freq=13\n",
      "Training until validation scores don't improve for 100 rounds\n",
      "[100]\ttraining's l1: 0.822307\tvalid_1's l1: 1.11179\n",
      "[200]\ttraining's l1: 0.8166\tvalid_1's l1: 1.11011\n",
      "[300]\ttraining's l1: 0.812762\tvalid_1's l1: 1.10941\n",
      "[400]\ttraining's l1: 0.809029\tvalid_1's l1: 1.11019\n",
      "Early stopping, best iteration is:\n",
      "[306]\ttraining's l1: 0.812445\tvalid_1's l1: 1.10939\n"
     ]
    },
    {
     "name": "stderr",
     "output_type": "stream",
     "text": [
      "\u001b[32m[I 2021-07-29 19:33:08,866]\u001b[0m Trial 94 finished with value: -1.109183881193164 and parameters: {'max_depth': 17, 'min_child_weight': 12, 'subsample': 0.6, 'colsample_bytree': 0.5, 'reg_lambda': 5.981602245558317, 'reg_alpha': 0.2533832849599539, 'feature_fraction': 0.7359274083892972, 'bagging_fraction': 0.8475756796152624, 'bagging_freq': 13, 'num_leaves': 747, 'min_child_samples': 41}. Best is trial 67 with value: -1.1057620556283398.\u001b[0m\n"
     ]
    },
    {
     "name": "stdout",
     "output_type": "stream",
     "text": [
      "[LightGBM] [Warning] feature_fraction is set=0.4425189682711468, colsample_bytree=0.5 will be ignored. Current value: feature_fraction=0.4425189682711468\n",
      "[LightGBM] [Warning] bagging_fraction is set=0.52275631258324, subsample=0.6 will be ignored. Current value: bagging_fraction=0.52275631258324\n",
      "[LightGBM] [Warning] bagging_freq is set=16, subsample_freq=0 will be ignored. Current value: bagging_freq=16\n",
      "Training until validation scores don't improve for 100 rounds\n",
      "[100]\ttraining's l1: 0.814913\tvalid_1's l1: 1.1162\n",
      "[200]\ttraining's l1: 0.799636\tvalid_1's l1: 1.11569\n",
      "Early stopping, best iteration is:\n",
      "[167]\ttraining's l1: 0.803542\tvalid_1's l1: 1.11509\n"
     ]
    },
    {
     "name": "stderr",
     "output_type": "stream",
     "text": [
      "\u001b[32m[I 2021-07-29 19:33:28,385]\u001b[0m Trial 95 finished with value: -1.114672114579868 and parameters: {'max_depth': 15, 'min_child_weight': 8, 'subsample': 0.6, 'colsample_bytree': 0.5, 'reg_lambda': 3.0588546459713366, 'reg_alpha': 0.161632348345173, 'feature_fraction': 0.4425189682711468, 'bagging_fraction': 0.52275631258324, 'bagging_freq': 16, 'num_leaves': 945, 'min_child_samples': 22}. Best is trial 67 with value: -1.1057620556283398.\u001b[0m\n"
     ]
    },
    {
     "name": "stdout",
     "output_type": "stream",
     "text": [
      "[LightGBM] [Warning] feature_fraction is set=0.7838729455484871, colsample_bytree=0.5 will be ignored. Current value: feature_fraction=0.7838729455484871\n",
      "[LightGBM] [Warning] bagging_fraction is set=0.8901125774741693, subsample=0.6 will be ignored. Current value: bagging_fraction=0.8901125774741693\n",
      "[LightGBM] [Warning] bagging_freq is set=17, subsample_freq=0 will be ignored. Current value: bagging_freq=17\n",
      "Training until validation scores don't improve for 100 rounds\n",
      "[100]\ttraining's l1: 0.817712\tvalid_1's l1: 1.11148\n",
      "[200]\ttraining's l1: 0.804163\tvalid_1's l1: 1.11035\n",
      "Early stopping, best iteration is:\n",
      "[146]\ttraining's l1: 0.811196\tvalid_1's l1: 1.11012\n"
     ]
    },
    {
     "name": "stderr",
     "output_type": "stream",
     "text": [
      "\u001b[32m[I 2021-07-29 19:33:50,342]\u001b[0m Trial 96 finished with value: -1.109923869663346 and parameters: {'max_depth': 19, 'min_child_weight': 10, 'subsample': 0.6, 'colsample_bytree': 0.5, 'reg_lambda': 32.26498102785889, 'reg_alpha': 0.8148174308420713, 'feature_fraction': 0.7838729455484871, 'bagging_fraction': 0.8901125774741693, 'bagging_freq': 17, 'num_leaves': 852, 'min_child_samples': 38}. Best is trial 67 with value: -1.1057620556283398.\u001b[0m\n"
     ]
    },
    {
     "name": "stdout",
     "output_type": "stream",
     "text": [
      "[LightGBM] [Warning] feature_fraction is set=0.7131536175417782, colsample_bytree=0.6 will be ignored. Current value: feature_fraction=0.7131536175417782\n",
      "[LightGBM] [Warning] bagging_fraction is set=0.43509407122357974, subsample=0.5 will be ignored. Current value: bagging_fraction=0.43509407122357974\n",
      "[LightGBM] [Warning] bagging_freq is set=18, subsample_freq=0 will be ignored. Current value: bagging_freq=18\n",
      "Training until validation scores don't improve for 100 rounds\n",
      "[100]\ttraining's l1: 0.833644\tvalid_1's l1: 1.11408\n",
      "[200]\ttraining's l1: 0.826939\tvalid_1's l1: 1.11211\n",
      "[300]\ttraining's l1: 0.824131\tvalid_1's l1: 1.11196\n",
      "Early stopping, best iteration is:\n",
      "[245]\ttraining's l1: 0.825432\tvalid_1's l1: 1.11169\n"
     ]
    },
    {
     "name": "stderr",
     "output_type": "stream",
     "text": [
      "\u001b[32m[I 2021-07-29 19:34:07,575]\u001b[0m Trial 97 finished with value: -1.1113193357893358 and parameters: {'max_depth': 18, 'min_child_weight': 11, 'subsample': 0.5, 'colsample_bytree': 0.6, 'reg_lambda': 67.80676422674885, 'reg_alpha': 0.39098722847281253, 'feature_fraction': 0.7131536175417782, 'bagging_fraction': 0.43509407122357974, 'bagging_freq': 18, 'num_leaves': 503, 'min_child_samples': 52}. Best is trial 67 with value: -1.1057620556283398.\u001b[0m\n"
     ]
    },
    {
     "name": "stdout",
     "output_type": "stream",
     "text": [
      "[LightGBM] [Warning] feature_fraction is set=0.8216603822978784, colsample_bytree=0.8 will be ignored. Current value: feature_fraction=0.8216603822978784\n",
      "[LightGBM] [Warning] bagging_fraction is set=0.7521850906027759, subsample=0.6 will be ignored. Current value: bagging_fraction=0.7521850906027759\n",
      "[LightGBM] [Warning] bagging_freq is set=14, subsample_freq=0 will be ignored. Current value: bagging_freq=14\n",
      "Training until validation scores don't improve for 100 rounds\n",
      "[100]\ttraining's l1: 0.816828\tvalid_1's l1: 1.11142\n",
      "[200]\ttraining's l1: 0.802339\tvalid_1's l1: 1.10954\n",
      "[300]\ttraining's l1: 0.789506\tvalid_1's l1: 1.11062\n",
      "Early stopping, best iteration is:\n",
      "[207]\ttraining's l1: 0.801364\tvalid_1's l1: 1.10905\n"
     ]
    },
    {
     "name": "stderr",
     "output_type": "stream",
     "text": [
      "\u001b[32m[I 2021-07-29 19:34:32,379]\u001b[0m Trial 98 finished with value: -1.108761348036324 and parameters: {'max_depth': 14, 'min_child_weight': 6, 'subsample': 0.6, 'colsample_bytree': 0.8, 'reg_lambda': 11.469820074630269, 'reg_alpha': 0.06875486264033229, 'feature_fraction': 0.8216603822978784, 'bagging_fraction': 0.7521850906027759, 'bagging_freq': 14, 'num_leaves': 979, 'min_child_samples': 56}. Best is trial 67 with value: -1.1057620556283398.\u001b[0m\n"
     ]
    },
    {
     "name": "stdout",
     "output_type": "stream",
     "text": [
      "[LightGBM] [Warning] feature_fraction is set=0.9066432671325987, colsample_bytree=0.5 will be ignored. Current value: feature_fraction=0.9066432671325987\n",
      "[LightGBM] [Warning] bagging_fraction is set=0.5973575875722956, subsample=0.5 will be ignored. Current value: bagging_fraction=0.5973575875722956\n",
      "[LightGBM] [Warning] bagging_freq is set=15, subsample_freq=0 will be ignored. Current value: bagging_freq=15\n",
      "Training until validation scores don't improve for 100 rounds\n",
      "[100]\ttraining's l1: 0.828049\tvalid_1's l1: 1.11727\n",
      "[200]\ttraining's l1: 0.816292\tvalid_1's l1: 1.11505\n",
      "[300]\ttraining's l1: 0.809135\tvalid_1's l1: 1.11467\n",
      "Early stopping, best iteration is:\n",
      "[239]\ttraining's l1: 0.812782\tvalid_1's l1: 1.11395\n"
     ]
    },
    {
     "name": "stderr",
     "output_type": "stream",
     "text": [
      "\u001b[32m[I 2021-07-29 19:35:00,641]\u001b[0m Trial 99 finished with value: -1.113565079863832 and parameters: {'max_depth': 17, 'min_child_weight': 10, 'subsample': 0.5, 'colsample_bytree': 0.5, 'reg_lambda': 275.71630923859254, 'reg_alpha': 1.1811288743870767, 'feature_fraction': 0.9066432671325987, 'bagging_fraction': 0.5973575875722956, 'bagging_freq': 15, 'num_leaves': 641, 'min_child_samples': 63}. Best is trial 67 with value: -1.1057620556283398.\u001b[0m\n",
      "\u001b[32m[I 2021-07-29 19:35:00,642]\u001b[0m A new study created in memory with name: no-name-2c58f2af-3763-407c-b86b-f95cbc7973ce\u001b[0m\n"
     ]
    },
    {
     "name": "stdout",
     "output_type": "stream",
     "text": [
      "[LightGBM] [Warning] feature_fraction is set=0.254554133565459, colsample_bytree=0.9 will be ignored. Current value: feature_fraction=0.254554133565459\n",
      "[LightGBM] [Warning] bagging_fraction is set=0.5310426056512652, subsample=0.5 will be ignored. Current value: bagging_fraction=0.5310426056512652\n",
      "[LightGBM] [Warning] bagging_freq is set=1, subsample_freq=0 will be ignored. Current value: bagging_freq=1\n",
      "Training until validation scores don't improve for 100 rounds\n",
      "[100]\ttraining's l1: 1.72149\tvalid_1's l1: 2.3023\n"
     ]
    },
    {
     "name": "stderr",
     "output_type": "stream",
     "text": [
      "\u001b[32m[I 2021-07-29 19:35:08,609]\u001b[0m Trial 0 finished with value: -2.2646542808942045 and parameters: {'max_depth': 15, 'min_child_weight': 14, 'subsample': 0.5, 'colsample_bytree': 0.9, 'reg_lambda': 6.607107722571458, 'reg_alpha': 5.0197805027590015, 'feature_fraction': 0.254554133565459, 'bagging_fraction': 0.5310426056512652, 'bagging_freq': 1, 'num_leaves': 762, 'min_child_samples': 73}. Best is trial 0 with value: -2.2646542808942045.\u001b[0m\n"
     ]
    },
    {
     "name": "stdout",
     "output_type": "stream",
     "text": [
      "Early stopping, best iteration is:\n",
      "[20]\ttraining's l1: 1.95101\tvalid_1's l1: 2.26465\n",
      "[LightGBM] [Warning] feature_fraction is set=0.3988732438430006, colsample_bytree=0.8 will be ignored. Current value: feature_fraction=0.3988732438430006\n",
      "[LightGBM] [Warning] bagging_fraction is set=0.3724052066382769, subsample=0.7 will be ignored. Current value: bagging_fraction=0.3724052066382769\n",
      "[LightGBM] [Warning] bagging_freq is set=12, subsample_freq=0 will be ignored. Current value: bagging_freq=12\n",
      "Training until validation scores don't improve for 100 rounds\n",
      "[100]\ttraining's l1: 1.88896\tvalid_1's l1: 2.20633\n",
      "[200]\ttraining's l1: 1.85659\tvalid_1's l1: 2.20956\n"
     ]
    },
    {
     "name": "stderr",
     "output_type": "stream",
     "text": [
      "\u001b[32m[I 2021-07-29 19:35:13,582]\u001b[0m Trial 1 finished with value: -2.2016285055163047 and parameters: {'max_depth': 5, 'min_child_weight': 1, 'subsample': 0.7, 'colsample_bytree': 0.8, 'reg_lambda': 0.054832857038627544, 'reg_alpha': 0.07318549356532768, 'feature_fraction': 0.3988732438430006, 'bagging_fraction': 0.3724052066382769, 'bagging_freq': 12, 'num_leaves': 461, 'min_child_samples': 18}. Best is trial 1 with value: -2.2016285055163047.\u001b[0m\n"
     ]
    },
    {
     "name": "stdout",
     "output_type": "stream",
     "text": [
      "Early stopping, best iteration is:\n",
      "[114]\ttraining's l1: 1.88313\tvalid_1's l1: 2.20238\n",
      "[LightGBM] [Warning] feature_fraction is set=0.8639188674864642, colsample_bytree=0.8 will be ignored. Current value: feature_fraction=0.8639188674864642\n",
      "[LightGBM] [Warning] bagging_fraction is set=0.29708598862596713, subsample=0.5 will be ignored. Current value: bagging_fraction=0.29708598862596713\n",
      "[LightGBM] [Warning] bagging_freq is set=5, subsample_freq=0 will be ignored. Current value: bagging_freq=5\n",
      "Training until validation scores don't improve for 100 rounds\n",
      "[100]\ttraining's l1: 1.73215\tvalid_1's l1: 2.20249\n"
     ]
    },
    {
     "name": "stderr",
     "output_type": "stream",
     "text": [
      "\u001b[32m[I 2021-07-29 19:35:19,329]\u001b[0m Trial 2 finished with value: -2.1521502221089026 and parameters: {'max_depth': 19, 'min_child_weight': 19, 'subsample': 0.5, 'colsample_bytree': 0.8, 'reg_lambda': 0.0036468184108888694, 'reg_alpha': 0.2809255676746016, 'feature_fraction': 0.8639188674864642, 'bagging_fraction': 0.29708598862596713, 'bagging_freq': 5, 'num_leaves': 254, 'min_child_samples': 15}. Best is trial 2 with value: -2.1521502221089026.\u001b[0m\n"
     ]
    },
    {
     "name": "stdout",
     "output_type": "stream",
     "text": [
      "Early stopping, best iteration is:\n",
      "[24]\ttraining's l1: 1.83852\tvalid_1's l1: 2.15215\n",
      "[LightGBM] [Warning] feature_fraction is set=0.2872121808544186, colsample_bytree=0.8 will be ignored. Current value: feature_fraction=0.2872121808544186\n",
      "[LightGBM] [Warning] bagging_fraction is set=0.7086972395770996, subsample=0.9 will be ignored. Current value: bagging_fraction=0.7086972395770996\n",
      "[LightGBM] [Warning] bagging_freq is set=3, subsample_freq=0 will be ignored. Current value: bagging_freq=3\n",
      "Training until validation scores don't improve for 100 rounds\n",
      "[100]\ttraining's l1: 1.81192\tvalid_1's l1: 2.23173\n",
      "[200]\ttraining's l1: 1.7716\tvalid_1's l1: 2.22202\n",
      "[300]\ttraining's l1: 1.74899\tvalid_1's l1: 2.22017\n",
      "Early stopping, best iteration is:\n",
      "[258]\ttraining's l1: 1.75565\tvalid_1's l1: 2.21667\n"
     ]
    },
    {
     "name": "stderr",
     "output_type": "stream",
     "text": [
      "\u001b[32m[I 2021-07-29 19:35:33,623]\u001b[0m Trial 3 finished with value: -2.2165812768737134 and parameters: {'max_depth': 14, 'min_child_weight': 6, 'subsample': 0.9, 'colsample_bytree': 0.8, 'reg_lambda': 201.93593174081397, 'reg_alpha': 63.001182259252, 'feature_fraction': 0.2872121808544186, 'bagging_fraction': 0.7086972395770996, 'bagging_freq': 3, 'num_leaves': 148, 'min_child_samples': 83}. Best is trial 2 with value: -2.1521502221089026.\u001b[0m\n"
     ]
    },
    {
     "name": "stdout",
     "output_type": "stream",
     "text": [
      "[LightGBM] [Warning] feature_fraction is set=0.33997121766721544, colsample_bytree=0.5 will be ignored. Current value: feature_fraction=0.33997121766721544\n",
      "[LightGBM] [Warning] bagging_fraction is set=0.8768681207664932, subsample=0.9 will be ignored. Current value: bagging_fraction=0.8768681207664932\n",
      "[LightGBM] [Warning] bagging_freq is set=8, subsample_freq=0 will be ignored. Current value: bagging_freq=8\n",
      "Training until validation scores don't improve for 100 rounds\n",
      "[100]\ttraining's l1: 1.66364\tvalid_1's l1: 2.26252\n"
     ]
    },
    {
     "name": "stderr",
     "output_type": "stream",
     "text": [
      "\u001b[32m[I 2021-07-29 19:35:43,412]\u001b[0m Trial 4 finished with value: -2.226806005803718 and parameters: {'max_depth': 13, 'min_child_weight': 16, 'subsample': 0.9, 'colsample_bytree': 0.5, 'reg_lambda': 3.682672795831734, 'reg_alpha': 0.10276350727587175, 'feature_fraction': 0.33997121766721544, 'bagging_fraction': 0.8768681207664932, 'bagging_freq': 8, 'num_leaves': 933, 'min_child_samples': 62}. Best is trial 2 with value: -2.1521502221089026.\u001b[0m\n"
     ]
    },
    {
     "name": "stdout",
     "output_type": "stream",
     "text": [
      "Early stopping, best iteration is:\n",
      "[20]\ttraining's l1: 1.88898\tvalid_1's l1: 2.22681\n",
      "[LightGBM] [Warning] feature_fraction is set=0.48083030716887887, colsample_bytree=0.6 will be ignored. Current value: feature_fraction=0.48083030716887887\n",
      "[LightGBM] [Warning] bagging_fraction is set=0.23593825115477163, subsample=0.7 will be ignored. Current value: bagging_fraction=0.23593825115477163\n",
      "[LightGBM] [Warning] bagging_freq is set=6, subsample_freq=0 will be ignored. Current value: bagging_freq=6\n",
      "Training until validation scores don't improve for 100 rounds\n",
      "[100]\ttraining's l1: 1.78444\tvalid_1's l1: 2.20118\n"
     ]
    },
    {
     "name": "stderr",
     "output_type": "stream",
     "text": [
      "\u001b[32m[I 2021-07-29 19:35:47,685]\u001b[0m Trial 5 finished with value: -2.185726546497479 and parameters: {'max_depth': 8, 'min_child_weight': 1, 'subsample': 0.7, 'colsample_bytree': 0.6, 'reg_lambda': 0.022057412165780502, 'reg_alpha': 0.05615355721586297, 'feature_fraction': 0.48083030716887887, 'bagging_fraction': 0.23593825115477163, 'bagging_freq': 6, 'num_leaves': 328, 'min_child_samples': 37}. Best is trial 2 with value: -2.1521502221089026.\u001b[0m\n"
     ]
    },
    {
     "name": "stdout",
     "output_type": "stream",
     "text": [
      "Early stopping, best iteration is:\n",
      "[29]\ttraining's l1: 1.88054\tvalid_1's l1: 2.18579\n",
      "[LightGBM] [Warning] feature_fraction is set=0.7248429741704505, colsample_bytree=0.5 will be ignored. Current value: feature_fraction=0.7248429741704505\n",
      "[LightGBM] [Warning] bagging_fraction is set=0.42034088492731353, subsample=0.7 will be ignored. Current value: bagging_fraction=0.42034088492731353\n",
      "[LightGBM] [Warning] bagging_freq is set=14, subsample_freq=0 will be ignored. Current value: bagging_freq=14\n",
      "Training until validation scores don't improve for 100 rounds\n",
      "[100]\ttraining's l1: 1.9926\tvalid_1's l1: 2.2596\n",
      "[200]\ttraining's l1: 1.9525\tvalid_1's l1: 2.23621\n",
      "[300]\ttraining's l1: 1.93183\tvalid_1's l1: 2.23015\n",
      "[400]\ttraining's l1: 1.91601\tvalid_1's l1: 2.22702\n"
     ]
    },
    {
     "name": "stderr",
     "output_type": "stream",
     "text": [
      "\u001b[32m[I 2021-07-29 19:35:54,497]\u001b[0m Trial 6 finished with value: -2.2190740621441063 and parameters: {'max_depth': 3, 'min_child_weight': 9, 'subsample': 0.7, 'colsample_bytree': 0.5, 'reg_lambda': 0.09123980987474796, 'reg_alpha': 0.04954126838467749, 'feature_fraction': 0.7248429741704505, 'bagging_fraction': 0.42034088492731353, 'bagging_freq': 14, 'num_leaves': 531, 'min_child_samples': 97}. Best is trial 2 with value: -2.1521502221089026.\u001b[0m\n"
     ]
    },
    {
     "name": "stdout",
     "output_type": "stream",
     "text": [
      "Early stopping, best iteration is:\n",
      "[359]\ttraining's l1: 1.92111\tvalid_1's l1: 2.22408\n",
      "[LightGBM] [Warning] feature_fraction is set=0.774678708023872, colsample_bytree=0.5 will be ignored. Current value: feature_fraction=0.774678708023872\n",
      "[LightGBM] [Warning] bagging_fraction is set=0.650342653154659, subsample=0.6 will be ignored. Current value: bagging_fraction=0.650342653154659\n",
      "[LightGBM] [Warning] bagging_freq is set=2, subsample_freq=0 will be ignored. Current value: bagging_freq=2\n",
      "Training until validation scores don't improve for 100 rounds\n",
      "[100]\ttraining's l1: 1.81211\tvalid_1's l1: 2.21979\n"
     ]
    },
    {
     "name": "stderr",
     "output_type": "stream",
     "text": [
      "\u001b[32m[I 2021-07-29 19:36:00,996]\u001b[0m Trial 7 finished with value: -2.2043410112868416 and parameters: {'max_depth': 8, 'min_child_weight': 7, 'subsample': 0.6, 'colsample_bytree': 0.5, 'reg_lambda': 0.02689020840344804, 'reg_alpha': 150.2328972284551, 'feature_fraction': 0.774678708023872, 'bagging_fraction': 0.650342653154659, 'bagging_freq': 2, 'num_leaves': 978, 'min_child_samples': 17}. Best is trial 2 with value: -2.1521502221089026.\u001b[0m\n"
     ]
    },
    {
     "name": "stdout",
     "output_type": "stream",
     "text": [
      "Early stopping, best iteration is:\n",
      "[30]\ttraining's l1: 1.89674\tvalid_1's l1: 2.20434\n",
      "[LightGBM] [Warning] feature_fraction is set=0.8398775732864308, colsample_bytree=0.7 will be ignored. Current value: feature_fraction=0.8398775732864308\n",
      "[LightGBM] [Warning] bagging_fraction is set=0.35808879886793216, subsample=0.5 will be ignored. Current value: bagging_fraction=0.35808879886793216\n",
      "[LightGBM] [Warning] bagging_freq is set=2, subsample_freq=0 will be ignored. Current value: bagging_freq=2\n",
      "Training until validation scores don't improve for 100 rounds\n",
      "[100]\ttraining's l1: 1.72249\tvalid_1's l1: 2.18836\n"
     ]
    },
    {
     "name": "stderr",
     "output_type": "stream",
     "text": [
      "\u001b[32m[I 2021-07-29 19:36:08,181]\u001b[0m Trial 8 finished with value: -2.1539539178524936 and parameters: {'max_depth': 10, 'min_child_weight': 6, 'subsample': 0.5, 'colsample_bytree': 0.7, 'reg_lambda': 0.0030215171606312475, 'reg_alpha': 0.003694585989360454, 'feature_fraction': 0.8398775732864308, 'bagging_fraction': 0.35808879886793216, 'bagging_freq': 2, 'num_leaves': 739, 'min_child_samples': 63}. Best is trial 2 with value: -2.1521502221089026.\u001b[0m\n"
     ]
    },
    {
     "name": "stdout",
     "output_type": "stream",
     "text": [
      "Early stopping, best iteration is:\n",
      "[29]\ttraining's l1: 1.79176\tvalid_1's l1: 2.154\n",
      "[LightGBM] [Warning] feature_fraction is set=0.7744532077851918, colsample_bytree=0.6 will be ignored. Current value: feature_fraction=0.7744532077851918\n",
      "[LightGBM] [Warning] bagging_fraction is set=0.21072892572726476, subsample=0.5 will be ignored. Current value: bagging_fraction=0.21072892572726476\n",
      "[LightGBM] [Warning] bagging_freq is set=2, subsample_freq=0 will be ignored. Current value: bagging_freq=2\n",
      "Training until validation scores don't improve for 100 rounds\n",
      "[100]\ttraining's l1: 1.69966\tvalid_1's l1: 2.23678\n"
     ]
    },
    {
     "name": "stderr",
     "output_type": "stream",
     "text": [
      "\u001b[32m[I 2021-07-29 19:36:14,716]\u001b[0m Trial 9 finished with value: -2.1645821839199146 and parameters: {'max_depth': 12, 'min_child_weight': 4, 'subsample': 0.5, 'colsample_bytree': 0.6, 'reg_lambda': 0.0334917732811239, 'reg_alpha': 0.9339641845353355, 'feature_fraction': 0.7744532077851918, 'bagging_fraction': 0.21072892572726476, 'bagging_freq': 2, 'num_leaves': 781, 'min_child_samples': 26}. Best is trial 2 with value: -2.1521502221089026.\u001b[0m\n"
     ]
    },
    {
     "name": "stdout",
     "output_type": "stream",
     "text": [
      "Early stopping, best iteration is:\n",
      "[21]\ttraining's l1: 1.82922\tvalid_1's l1: 2.16458\n",
      "[LightGBM] [Warning] feature_fraction is set=0.9718000634886874, colsample_bytree=0.9 will be ignored. Current value: feature_fraction=0.9718000634886874\n",
      "[LightGBM] [Warning] bagging_fraction is set=0.9762088355151545, subsample=0.6 will be ignored. Current value: bagging_fraction=0.9762088355151545\n",
      "[LightGBM] [Warning] bagging_freq is set=17, subsample_freq=0 will be ignored. Current value: bagging_freq=17\n",
      "Training until validation scores don't improve for 100 rounds\n",
      "[100]\ttraining's l1: 1.86823\tvalid_1's l1: 2.20599\n",
      "[200]\ttraining's l1: 1.82261\tvalid_1's l1: 2.19542\n"
     ]
    },
    {
     "name": "stderr",
     "output_type": "stream",
     "text": [
      "\u001b[32m[I 2021-07-29 19:36:23,441]\u001b[0m Trial 10 finished with value: -2.1847438830513606 and parameters: {'max_depth': 20, 'min_child_weight': 20, 'subsample': 0.6, 'colsample_bytree': 0.9, 'reg_lambda': 0.0022608741304461066, 'reg_alpha': 0.001597504804197593, 'feature_fraction': 0.9718000634886874, 'bagging_fraction': 0.9762088355151545, 'bagging_freq': 17, 'num_leaves': 32, 'min_child_samples': 6}. Best is trial 2 with value: -2.1521502221089026.\u001b[0m\n"
     ]
    },
    {
     "name": "stdout",
     "output_type": "stream",
     "text": [
      "Early stopping, best iteration is:\n",
      "[128]\ttraining's l1: 1.84299\tvalid_1's l1: 2.18618\n",
      "[LightGBM] [Warning] feature_fraction is set=0.9959381830795871, colsample_bytree=0.7 will be ignored. Current value: feature_fraction=0.9959381830795871\n",
      "[LightGBM] [Warning] bagging_fraction is set=0.3467581881376409, subsample=0.5 will be ignored. Current value: bagging_fraction=0.3467581881376409\n",
      "[LightGBM] [Warning] bagging_freq is set=6, subsample_freq=0 will be ignored. Current value: bagging_freq=6\n",
      "Training until validation scores don't improve for 100 rounds\n",
      "[100]\ttraining's l1: 1.73012\tvalid_1's l1: 2.19512\n"
     ]
    },
    {
     "name": "stderr",
     "output_type": "stream",
     "text": [
      "\u001b[32m[I 2021-07-29 19:36:30,388]\u001b[0m Trial 11 finished with value: -2.148283751577244 and parameters: {'max_depth': 18, 'min_child_weight': 12, 'subsample': 0.5, 'colsample_bytree': 0.7, 'reg_lambda': 0.001146391001681376, 'reg_alpha': 0.0011341467623501107, 'feature_fraction': 0.9959381830795871, 'bagging_fraction': 0.3467581881376409, 'bagging_freq': 6, 'num_leaves': 257, 'min_child_samples': 46}. Best is trial 11 with value: -2.148283751577244.\u001b[0m\n"
     ]
    },
    {
     "name": "stdout",
     "output_type": "stream",
     "text": [
      "Early stopping, best iteration is:\n",
      "[26]\ttraining's l1: 1.82195\tvalid_1's l1: 2.14828\n",
      "[LightGBM] [Warning] feature_fraction is set=0.9857349142492284, colsample_bytree=0.7 will be ignored. Current value: feature_fraction=0.9857349142492284\n",
      "[LightGBM] [Warning] bagging_fraction is set=0.22093101333215218, subsample=0.6 will be ignored. Current value: bagging_fraction=0.22093101333215218\n",
      "[LightGBM] [Warning] bagging_freq is set=7, subsample_freq=0 will be ignored. Current value: bagging_freq=7\n",
      "Training until validation scores don't improve for 100 rounds\n",
      "[100]\ttraining's l1: 1.7477\tvalid_1's l1: 2.21332\n"
     ]
    },
    {
     "name": "stderr",
     "output_type": "stream",
     "text": [
      "\u001b[32m[I 2021-07-29 19:36:36,069]\u001b[0m Trial 12 finished with value: -2.145237865860768 and parameters: {'max_depth': 20, 'min_child_weight': 19, 'subsample': 0.6, 'colsample_bytree': 0.7, 'reg_lambda': 0.0010298927924246991, 'reg_alpha': 0.0036453916258728813, 'feature_fraction': 0.9857349142492284, 'bagging_fraction': 0.22093101333215218, 'bagging_freq': 7, 'num_leaves': 221, 'min_child_samples': 43}. Best is trial 12 with value: -2.145237865860768.\u001b[0m\n"
     ]
    },
    {
     "name": "stdout",
     "output_type": "stream",
     "text": [
      "Early stopping, best iteration is:\n",
      "[21]\ttraining's l1: 1.86602\tvalid_1's l1: 2.14524\n",
      "[LightGBM] [Warning] feature_fraction is set=0.9736077876394538, colsample_bytree=0.7 will be ignored. Current value: feature_fraction=0.9736077876394538\n",
      "[LightGBM] [Warning] bagging_fraction is set=0.506427424130663, subsample=0.6 will be ignored. Current value: bagging_fraction=0.506427424130663\n",
      "[LightGBM] [Warning] bagging_freq is set=9, subsample_freq=0 will be ignored. Current value: bagging_freq=9\n",
      "Training until validation scores don't improve for 100 rounds\n",
      "[100]\ttraining's l1: 1.87133\tvalid_1's l1: 2.18707\n"
     ]
    },
    {
     "name": "stderr",
     "output_type": "stream",
     "text": [
      "\u001b[32m[I 2021-07-29 19:36:41,889]\u001b[0m Trial 13 finished with value: -2.1861734879557697 and parameters: {'max_depth': 18, 'min_child_weight': 12, 'subsample': 0.6, 'colsample_bytree': 0.7, 'reg_lambda': 0.40680638058372753, 'reg_alpha': 0.0011183240902827528, 'feature_fraction': 0.9736077876394538, 'bagging_fraction': 0.506427424130663, 'bagging_freq': 9, 'num_leaves': 30, 'min_child_samples': 44}. Best is trial 12 with value: -2.145237865860768.\u001b[0m\n"
     ]
    },
    {
     "name": "stdout",
     "output_type": "stream",
     "text": [
      "[200]\ttraining's l1: 1.83671\tvalid_1's l1: 2.20939\n",
      "Early stopping, best iteration is:\n",
      "[102]\ttraining's l1: 1.87024\tvalid_1's l1: 2.18618\n",
      "[LightGBM] [Warning] feature_fraction is set=0.9962496283582755, colsample_bytree=0.6 will be ignored. Current value: feature_fraction=0.9962496283582755\n",
      "[LightGBM] [Warning] bagging_fraction is set=0.20196233409357756, subsample=0.6 will be ignored. Current value: bagging_fraction=0.20196233409357756\n",
      "[LightGBM] [Warning] bagging_freq is set=6, subsample_freq=0 will be ignored. Current value: bagging_freq=6\n",
      "Training until validation scores don't improve for 100 rounds\n",
      "[100]\ttraining's l1: 1.75397\tvalid_1's l1: 2.21532\n"
     ]
    },
    {
     "name": "stderr",
     "output_type": "stream",
     "text": [
      "\u001b[32m[I 2021-07-29 19:36:47,284]\u001b[0m Trial 14 finished with value: -2.1663084225947378 and parameters: {'max_depth': 17, 'min_child_weight': 16, 'subsample': 0.6, 'colsample_bytree': 0.6, 'reg_lambda': 0.0010043144345089673, 'reg_alpha': 0.008774597139791207, 'feature_fraction': 0.9962496283582755, 'bagging_fraction': 0.20196233409357756, 'bagging_freq': 6, 'num_leaves': 204, 'min_child_samples': 49}. Best is trial 12 with value: -2.145237865860768.\u001b[0m\n"
     ]
    },
    {
     "name": "stdout",
     "output_type": "stream",
     "text": [
      "Early stopping, best iteration is:\n",
      "[20]\ttraining's l1: 1.88905\tvalid_1's l1: 2.16631\n",
      "[LightGBM] [Warning] feature_fraction is set=0.6149409881506978, colsample_bytree=0.7 will be ignored. Current value: feature_fraction=0.6149409881506978\n",
      "[LightGBM] [Warning] bagging_fraction is set=0.44370345667239186, subsample=0.8 will be ignored. Current value: bagging_fraction=0.44370345667239186\n",
      "[LightGBM] [Warning] bagging_freq is set=11, subsample_freq=0 will be ignored. Current value: bagging_freq=11\n",
      "Training until validation scores don't improve for 100 rounds\n",
      "[100]\ttraining's l1: 1.72748\tvalid_1's l1: 2.22721\n"
     ]
    },
    {
     "name": "stderr",
     "output_type": "stream",
     "text": [
      "\u001b[32m[I 2021-07-29 19:36:56,871]\u001b[0m Trial 15 finished with value: -2.209983945568801 and parameters: {'max_depth': 20, 'min_child_weight': 18, 'subsample': 0.8, 'colsample_bytree': 0.7, 'reg_lambda': 646.9910307342404, 'reg_alpha': 0.011442192453047893, 'feature_fraction': 0.6149409881506978, 'bagging_fraction': 0.44370345667239186, 'bagging_freq': 11, 'num_leaves': 388, 'min_child_samples': 35}. Best is trial 12 with value: -2.145237865860768.\u001b[0m\n"
     ]
    },
    {
     "name": "stdout",
     "output_type": "stream",
     "text": [
      "Early stopping, best iteration is:\n",
      "[43]\ttraining's l1: 1.7903\tvalid_1's l1: 2.20998\n",
      "[LightGBM] [Warning] feature_fraction is set=0.9068971421465327, colsample_bytree=0.8 will be ignored. Current value: feature_fraction=0.9068971421465327\n",
      "[LightGBM] [Warning] bagging_fraction is set=0.2942934400351707, subsample=0.6 will be ignored. Current value: bagging_fraction=0.2942934400351707\n",
      "[LightGBM] [Warning] bagging_freq is set=8, subsample_freq=0 will be ignored. Current value: bagging_freq=8\n",
      "Training until validation scores don't improve for 100 rounds\n",
      "[100]\ttraining's l1: 1.7816\tvalid_1's l1: 2.18963\n"
     ]
    },
    {
     "name": "stderr",
     "output_type": "stream",
     "text": [
      "\u001b[32m[I 2021-07-29 19:37:01,572]\u001b[0m Trial 16 finished with value: -2.1683649538143746 and parameters: {'max_depth': 16, 'min_child_weight': 11, 'subsample': 0.6, 'colsample_bytree': 0.8, 'reg_lambda': 0.0010170039223514516, 'reg_alpha': 0.011308573570853473, 'feature_fraction': 0.9068971421465327, 'bagging_fraction': 0.2942934400351707, 'bagging_freq': 8, 'num_leaves': 116, 'min_child_samples': 56}. Best is trial 12 with value: -2.145237865860768.\u001b[0m\n"
     ]
    },
    {
     "name": "stdout",
     "output_type": "stream",
     "text": [
      "Early stopping, best iteration is:\n",
      "[34]\ttraining's l1: 1.84051\tvalid_1's l1: 2.16836\n",
      "[LightGBM] [Warning] feature_fraction is set=0.6392025831553532, colsample_bytree=0.6 will be ignored. Current value: feature_fraction=0.6392025831553532\n",
      "[LightGBM] [Warning] bagging_fraction is set=0.7571171758555401, subsample=0.5 will be ignored. Current value: bagging_fraction=0.7571171758555401\n",
      "[LightGBM] [Warning] bagging_freq is set=5, subsample_freq=0 will be ignored. Current value: bagging_freq=5\n",
      "Training until validation scores don't improve for 100 rounds\n",
      "[100]\ttraining's l1: 1.67463\tvalid_1's l1: 2.24127\n"
     ]
    },
    {
     "name": "stderr",
     "output_type": "stream",
     "text": [
      "\u001b[32m[I 2021-07-29 19:37:13,611]\u001b[0m Trial 17 finished with value: -2.183419855658231 and parameters: {'max_depth': 18, 'min_child_weight': 14, 'subsample': 0.5, 'colsample_bytree': 0.6, 'reg_lambda': 37.72971663039894, 'reg_alpha': 0.0011546263296032583, 'feature_fraction': 0.6392025831553532, 'bagging_fraction': 0.7571171758555401, 'bagging_freq': 5, 'num_leaves': 573, 'min_child_samples': 32}. Best is trial 12 with value: -2.145237865860768.\u001b[0m\n"
     ]
    },
    {
     "name": "stdout",
     "output_type": "stream",
     "text": [
      "Early stopping, best iteration is:\n",
      "[23]\ttraining's l1: 1.82207\tvalid_1's l1: 2.18342\n",
      "[LightGBM] [Warning] feature_fraction is set=0.5209685166544873, colsample_bytree=0.7 will be ignored. Current value: feature_fraction=0.5209685166544873\n",
      "[LightGBM] [Warning] bagging_fraction is set=0.29271218432556084, subsample=0.8 will be ignored. Current value: bagging_fraction=0.29271218432556084\n",
      "[LightGBM] [Warning] bagging_freq is set=14, subsample_freq=0 will be ignored. Current value: bagging_freq=14\n",
      "Training until validation scores don't improve for 100 rounds\n",
      "[100]\ttraining's l1: 1.73936\tvalid_1's l1: 2.21968\n"
     ]
    },
    {
     "name": "stderr",
     "output_type": "stream",
     "text": [
      "\u001b[32m[I 2021-07-29 19:37:20,309]\u001b[0m Trial 18 finished with value: -2.1997548928097683 and parameters: {'max_depth': 20, 'min_child_weight': 17, 'subsample': 0.8, 'colsample_bytree': 0.7, 'reg_lambda': 0.00828792697119649, 'reg_alpha': 20.157892759468453, 'feature_fraction': 0.5209685166544873, 'bagging_fraction': 0.29271218432556084, 'bagging_freq': 14, 'num_leaves': 286, 'min_child_samples': 45}. Best is trial 12 with value: -2.145237865860768.\u001b[0m\n"
     ]
    },
    {
     "name": "stdout",
     "output_type": "stream",
     "text": [
      "Early stopping, best iteration is:\n",
      "[43]\ttraining's l1: 1.79427\tvalid_1's l1: 2.19976\n",
      "[LightGBM] [Warning] feature_fraction is set=0.9353349009471733, colsample_bytree=0.7 will be ignored. Current value: feature_fraction=0.9353349009471733\n",
      "[LightGBM] [Warning] bagging_fraction is set=0.5540091220799973, subsample=0.6 will be ignored. Current value: bagging_fraction=0.5540091220799973\n",
      "[LightGBM] [Warning] bagging_freq is set=10, subsample_freq=0 will be ignored. Current value: bagging_freq=10\n",
      "Training until validation scores don't improve for 100 rounds\n",
      "[100]\ttraining's l1: 1.69792\tvalid_1's l1: 2.20388\n"
     ]
    },
    {
     "name": "stderr",
     "output_type": "stream",
     "text": [
      "\u001b[32m[I 2021-07-29 19:37:28,103]\u001b[0m Trial 19 finished with value: -2.1405284627247467 and parameters: {'max_depth': 16, 'min_child_weight': 13, 'subsample': 0.6, 'colsample_bytree': 0.7, 'reg_lambda': 0.265355796181064, 'reg_alpha': 0.004238276291708717, 'feature_fraction': 0.9353349009471733, 'bagging_fraction': 0.5540091220799973, 'bagging_freq': 10, 'num_leaves': 407, 'min_child_samples': 75}. Best is trial 19 with value: -2.1405284627247467.\u001b[0m\n"
     ]
    },
    {
     "name": "stdout",
     "output_type": "stream",
     "text": [
      "Early stopping, best iteration is:\n",
      "[21]\ttraining's l1: 1.82615\tvalid_1's l1: 2.14053\n",
      "[LightGBM] [Warning] feature_fraction is set=0.9225663641925871, colsample_bytree=0.8 will be ignored. Current value: feature_fraction=0.9225663641925871\n",
      "[LightGBM] [Warning] bagging_fraction is set=0.8302531872532892, subsample=0.8 will be ignored. Current value: bagging_fraction=0.8302531872532892\n",
      "[LightGBM] [Warning] bagging_freq is set=18, subsample_freq=0 will be ignored. Current value: bagging_freq=18\n",
      "Training until validation scores don't improve for 100 rounds\n",
      "[100]\ttraining's l1: 1.83032\tvalid_1's l1: 2.22206\n"
     ]
    },
    {
     "name": "stderr",
     "output_type": "stream",
     "text": [
      "\u001b[32m[I 2021-07-29 19:37:34,353]\u001b[0m Trial 20 finished with value: -2.2134499334505 and parameters: {'max_depth': 11, 'min_child_weight': 20, 'subsample': 0.8, 'colsample_bytree': 0.8, 'reg_lambda': 0.32899245478751826, 'reg_alpha': 738.3254685354677, 'feature_fraction': 0.9225663641925871, 'bagging_fraction': 0.8302531872532892, 'bagging_freq': 18, 'num_leaves': 422, 'min_child_samples': 100}. Best is trial 19 with value: -2.1405284627247467.\u001b[0m\n"
     ]
    },
    {
     "name": "stdout",
     "output_type": "stream",
     "text": [
      "Early stopping, best iteration is:\n",
      "[31]\ttraining's l1: 1.90506\tvalid_1's l1: 2.21345\n",
      "[LightGBM] [Warning] feature_fraction is set=0.9855333881505766, colsample_bytree=0.7 will be ignored. Current value: feature_fraction=0.9855333881505766\n",
      "[LightGBM] [Warning] bagging_fraction is set=0.5717214523095243, subsample=0.6 will be ignored. Current value: bagging_fraction=0.5717214523095243\n",
      "[LightGBM] [Warning] bagging_freq is set=9, subsample_freq=0 will be ignored. Current value: bagging_freq=9\n",
      "Training until validation scores don't improve for 100 rounds\n",
      "[100]\ttraining's l1: 1.7065\tvalid_1's l1: 2.20136\n"
     ]
    },
    {
     "name": "stderr",
     "output_type": "stream",
     "text": [
      "\u001b[32m[I 2021-07-29 19:37:42,789]\u001b[0m Trial 21 finished with value: -2.1427577906431776 and parameters: {'max_depth': 16, 'min_child_weight': 13, 'subsample': 0.6, 'colsample_bytree': 0.7, 'reg_lambda': 3.2385626019460205, 'reg_alpha': 0.0026888522767404633, 'feature_fraction': 0.9855333881505766, 'bagging_fraction': 0.5717214523095243, 'bagging_freq': 9, 'num_leaves': 360, 'min_child_samples': 77}. Best is trial 19 with value: -2.1405284627247467.\u001b[0m\n"
     ]
    },
    {
     "name": "stdout",
     "output_type": "stream",
     "text": [
      "Early stopping, best iteration is:\n",
      "[21]\ttraining's l1: 1.83597\tvalid_1's l1: 2.14276\n",
      "[LightGBM] [Warning] feature_fraction is set=0.9002212132809478, colsample_bytree=0.6 will be ignored. Current value: feature_fraction=0.9002212132809478\n",
      "[LightGBM] [Warning] bagging_fraction is set=0.5808692029055751, subsample=0.6 will be ignored. Current value: bagging_fraction=0.5808692029055751\n",
      "[LightGBM] [Warning] bagging_freq is set=10, subsample_freq=0 will be ignored. Current value: bagging_freq=10\n",
      "Training until validation scores don't improve for 100 rounds\n",
      "[100]\ttraining's l1: 1.7053\tvalid_1's l1: 2.19616\n"
     ]
    },
    {
     "name": "stderr",
     "output_type": "stream",
     "text": [
      "\u001b[32m[I 2021-07-29 19:37:50,260]\u001b[0m Trial 22 finished with value: -2.1363849052596082 and parameters: {'max_depth': 15, 'min_child_weight': 14, 'subsample': 0.6, 'colsample_bytree': 0.6, 'reg_lambda': 3.792266930224449, 'reg_alpha': 0.005091500769796883, 'feature_fraction': 0.9002212132809478, 'bagging_fraction': 0.5808692029055751, 'bagging_freq': 10, 'num_leaves': 364, 'min_child_samples': 86}. Best is trial 22 with value: -2.1363849052596082.\u001b[0m\n"
     ]
    },
    {
     "name": "stdout",
     "output_type": "stream",
     "text": [
      "Early stopping, best iteration is:\n",
      "[19]\ttraining's l1: 1.8582\tvalid_1's l1: 2.13638\n",
      "[LightGBM] [Warning] feature_fraction is set=0.8379769902142292, colsample_bytree=0.6 will be ignored. Current value: feature_fraction=0.8379769902142292\n",
      "[LightGBM] [Warning] bagging_fraction is set=0.5894671021941851, subsample=0.7 will be ignored. Current value: bagging_fraction=0.5894671021941851\n",
      "[LightGBM] [Warning] bagging_freq is set=10, subsample_freq=0 will be ignored. Current value: bagging_freq=10\n",
      "Training until validation scores don't improve for 100 rounds\n",
      "[100]\ttraining's l1: 1.67725\tvalid_1's l1: 2.21535\n"
     ]
    },
    {
     "name": "stderr",
     "output_type": "stream",
     "text": [
      "\u001b[32m[I 2021-07-29 19:37:59,288]\u001b[0m Trial 23 finished with value: -2.156067597371788 and parameters: {'max_depth': 15, 'min_child_weight': 14, 'subsample': 0.7, 'colsample_bytree': 0.6, 'reg_lambda': 2.4130599429753916, 'reg_alpha': 0.021710370650145736, 'feature_fraction': 0.8379769902142292, 'bagging_fraction': 0.5894671021941851, 'bagging_freq': 10, 'num_leaves': 615, 'min_child_samples': 87}. Best is trial 22 with value: -2.1363849052596082.\u001b[0m\n"
     ]
    },
    {
     "name": "stdout",
     "output_type": "stream",
     "text": [
      "Early stopping, best iteration is:\n",
      "[22]\ttraining's l1: 1.80011\tvalid_1's l1: 2.15607\n",
      "[LightGBM] [Warning] feature_fraction is set=0.718670296059418, colsample_bytree=0.6 will be ignored. Current value: feature_fraction=0.718670296059418\n",
      "[LightGBM] [Warning] bagging_fraction is set=0.5857047390481618, subsample=0.6 will be ignored. Current value: bagging_fraction=0.5857047390481618\n",
      "[LightGBM] [Warning] bagging_freq is set=12, subsample_freq=0 will be ignored. Current value: bagging_freq=12\n",
      "Training until validation scores don't improve for 100 rounds\n",
      "[100]\ttraining's l1: 1.70756\tvalid_1's l1: 2.20793\n"
     ]
    },
    {
     "name": "stderr",
     "output_type": "stream",
     "text": [
      "\u001b[32m[I 2021-07-29 19:38:06,778]\u001b[0m Trial 24 finished with value: -2.161076234485318 and parameters: {'max_depth': 16, 'min_child_weight': 9, 'subsample': 0.6, 'colsample_bytree': 0.6, 'reg_lambda': 19.29456383594198, 'reg_alpha': 0.003560504766843987, 'feature_fraction': 0.718670296059418, 'bagging_fraction': 0.5857047390481618, 'bagging_freq': 12, 'num_leaves': 369, 'min_child_samples': 80}. Best is trial 22 with value: -2.1363849052596082.\u001b[0m\n"
     ]
    },
    {
     "name": "stdout",
     "output_type": "stream",
     "text": [
      "Early stopping, best iteration is:\n",
      "[27]\ttraining's l1: 1.80427\tvalid_1's l1: 2.16108\n",
      "[LightGBM] [Warning] feature_fraction is set=0.8781811979784936, colsample_bytree=0.6 will be ignored. Current value: feature_fraction=0.8781811979784936\n",
      "[LightGBM] [Warning] bagging_fraction is set=0.6627041504844738, subsample=0.6 will be ignored. Current value: bagging_fraction=0.6627041504844738\n",
      "[LightGBM] [Warning] bagging_freq is set=14, subsample_freq=0 will be ignored. Current value: bagging_freq=14\n",
      "Training until validation scores don't improve for 100 rounds\n",
      "[100]\ttraining's l1: 1.69409\tvalid_1's l1: 2.1987\n"
     ]
    },
    {
     "name": "stderr",
     "output_type": "stream",
     "text": [
      "\u001b[32m[I 2021-07-29 19:38:15,350]\u001b[0m Trial 25 finished with value: -2.1382571149641953 and parameters: {'max_depth': 13, 'min_child_weight': 13, 'subsample': 0.6, 'colsample_bytree': 0.6, 'reg_lambda': 1.00266792770213, 'reg_alpha': 0.3455960158876049, 'feature_fraction': 0.8781811979784936, 'bagging_fraction': 0.6627041504844738, 'bagging_freq': 14, 'num_leaves': 486, 'min_child_samples': 93}. Best is trial 22 with value: -2.1363849052596082.\u001b[0m\n"
     ]
    },
    {
     "name": "stdout",
     "output_type": "stream",
     "text": [
      "Early stopping, best iteration is:\n",
      "[22]\ttraining's l1: 1.80862\tvalid_1's l1: 2.13826\n",
      "[LightGBM] [Warning] feature_fraction is set=0.8989818491293465, colsample_bytree=0.5 will be ignored. Current value: feature_fraction=0.8989818491293465\n",
      "[LightGBM] [Warning] bagging_fraction is set=0.6835032609562195, subsample=0.7 will be ignored. Current value: bagging_fraction=0.6835032609562195\n",
      "[LightGBM] [Warning] bagging_freq is set=15, subsample_freq=0 will be ignored. Current value: bagging_freq=15\n",
      "Training until validation scores don't improve for 100 rounds\n",
      "[100]\ttraining's l1: 1.67877\tvalid_1's l1: 2.20655\n"
     ]
    },
    {
     "name": "stderr",
     "output_type": "stream",
     "text": [
      "\u001b[32m[I 2021-07-29 19:38:25,252]\u001b[0m Trial 26 finished with value: -2.140184955984926 and parameters: {'max_depth': 13, 'min_child_weight': 10, 'subsample': 0.7, 'colsample_bytree': 0.5, 'reg_lambda': 0.7461845907149802, 'reg_alpha': 0.4201622990666619, 'feature_fraction': 0.8989818491293465, 'bagging_fraction': 0.6835032609562195, 'bagging_freq': 15, 'num_leaves': 643, 'min_child_samples': 91}. Best is trial 22 with value: -2.1363849052596082.\u001b[0m\n"
     ]
    },
    {
     "name": "stdout",
     "output_type": "stream",
     "text": [
      "Early stopping, best iteration is:\n",
      "[19]\ttraining's l1: 1.82204\tvalid_1's l1: 2.14018\n",
      "[LightGBM] [Warning] feature_fraction is set=0.7871314336074999, colsample_bytree=0.5 will be ignored. Current value: feature_fraction=0.7871314336074999\n",
      "[LightGBM] [Warning] bagging_fraction is set=0.689095155947653, subsample=0.7 will be ignored. Current value: bagging_fraction=0.689095155947653\n",
      "[LightGBM] [Warning] bagging_freq is set=20, subsample_freq=0 will be ignored. Current value: bagging_freq=20\n",
      "Training until validation scores don't improve for 100 rounds\n",
      "[100]\ttraining's l1: 1.74405\tvalid_1's l1: 2.18076\n"
     ]
    },
    {
     "name": "stderr",
     "output_type": "stream",
     "text": [
      "\u001b[32m[I 2021-07-29 19:38:31,369]\u001b[0m Trial 27 finished with value: -2.1644287179602117 and parameters: {'max_depth': 9, 'min_child_weight': 9, 'subsample': 0.7, 'colsample_bytree': 0.5, 'reg_lambda': 1.3843548402377386, 'reg_alpha': 1.5568449436976397, 'feature_fraction': 0.7871314336074999, 'bagging_fraction': 0.689095155947653, 'bagging_freq': 20, 'num_leaves': 661, 'min_child_samples': 93}. Best is trial 22 with value: -2.1363849052596082.\u001b[0m\n"
     ]
    },
    {
     "name": "stdout",
     "output_type": "stream",
     "text": [
      "Early stopping, best iteration is:\n",
      "[21]\ttraining's l1: 1.8729\tvalid_1's l1: 2.16443\n",
      "[LightGBM] [Warning] feature_fraction is set=0.6893069266051204, colsample_bytree=0.5 will be ignored. Current value: feature_fraction=0.6893069266051204\n",
      "[LightGBM] [Warning] bagging_fraction is set=0.7855051666550853, subsample=0.8 will be ignored. Current value: bagging_fraction=0.7855051666550853\n",
      "[LightGBM] [Warning] bagging_freq is set=15, subsample_freq=0 will be ignored. Current value: bagging_freq=15\n",
      "Training until validation scores don't improve for 100 rounds\n",
      "[100]\ttraining's l1: 1.69073\tvalid_1's l1: 2.2043\n"
     ]
    },
    {
     "name": "stderr",
     "output_type": "stream",
     "text": [
      "\u001b[32m[I 2021-07-29 19:38:39,566]\u001b[0m Trial 28 finished with value: -2.1608568508213843 and parameters: {'max_depth': 13, 'min_child_weight': 10, 'subsample': 0.8, 'colsample_bytree': 0.5, 'reg_lambda': 12.842842860564037, 'reg_alpha': 0.24632011895810751, 'feature_fraction': 0.6893069266051204, 'bagging_fraction': 0.7855051666550853, 'bagging_freq': 15, 'num_leaves': 498, 'min_child_samples': 90}. Best is trial 22 with value: -2.1363849052596082.\u001b[0m\n"
     ]
    },
    {
     "name": "stdout",
     "output_type": "stream",
     "text": [
      "Early stopping, best iteration is:\n",
      "[24]\ttraining's l1: 1.80506\tvalid_1's l1: 2.16086\n",
      "[LightGBM] [Warning] feature_fraction is set=0.8889187490556174, colsample_bytree=0.6 will be ignored. Current value: feature_fraction=0.8889187490556174\n",
      "[LightGBM] [Warning] bagging_fraction is set=0.6527406062705392, subsample=0.7 will be ignored. Current value: bagging_fraction=0.6527406062705392\n",
      "[LightGBM] [Warning] bagging_freq is set=16, subsample_freq=0 will be ignored. Current value: bagging_freq=16\n",
      "Training until validation scores don't improve for 100 rounds\n",
      "[100]\ttraining's l1: 1.65438\tvalid_1's l1: 2.2223\n"
     ]
    },
    {
     "name": "stderr",
     "output_type": "stream",
     "text": [
      "\u001b[32m[I 2021-07-29 19:38:50,477]\u001b[0m Trial 29 finished with value: -2.141630416811745 and parameters: {'max_depth': 14, 'min_child_weight': 15, 'subsample': 0.7, 'colsample_bytree': 0.6, 'reg_lambda': 0.7926555954960954, 'reg_alpha': 4.0909718258310095, 'feature_fraction': 0.8889187490556174, 'bagging_fraction': 0.6527406062705392, 'bagging_freq': 16, 'num_leaves': 848, 'min_child_samples': 99}. Best is trial 22 with value: -2.1363849052596082.\u001b[0m\n"
     ]
    },
    {
     "name": "stdout",
     "output_type": "stream",
     "text": [
      "Early stopping, best iteration is:\n",
      "[18]\ttraining's l1: 1.82879\tvalid_1's l1: 2.14163\n",
      "[LightGBM] [Warning] feature_fraction is set=0.8237060492865874, colsample_bytree=0.5 will be ignored. Current value: feature_fraction=0.8237060492865874\n",
      "[LightGBM] [Warning] bagging_fraction is set=0.5079632321680282, subsample=0.7 will be ignored. Current value: bagging_fraction=0.5079632321680282\n",
      "[LightGBM] [Warning] bagging_freq is set=19, subsample_freq=0 will be ignored. Current value: bagging_freq=19\n",
      "Training until validation scores don't improve for 100 rounds\n",
      "[100]\ttraining's l1: 1.70383\tvalid_1's l1: 2.19976\n"
     ]
    },
    {
     "name": "stderr",
     "output_type": "stream",
     "text": [
      "\u001b[32m[I 2021-07-29 19:38:57,198]\u001b[0m Trial 30 finished with value: -2.1438719535671207 and parameters: {'max_depth': 11, 'min_child_weight': 11, 'subsample': 0.7, 'colsample_bytree': 0.5, 'reg_lambda': 9.763071440459088, 'reg_alpha': 0.6051796220405901, 'feature_fraction': 0.8237060492865874, 'bagging_fraction': 0.5079632321680282, 'bagging_freq': 19, 'num_leaves': 658, 'min_child_samples': 68}. Best is trial 22 with value: -2.1363849052596082.\u001b[0m\n"
     ]
    },
    {
     "name": "stdout",
     "output_type": "stream",
     "text": [
      "Early stopping, best iteration is:\n",
      "[21]\ttraining's l1: 1.82813\tvalid_1's l1: 2.14387\n",
      "[LightGBM] [Warning] feature_fraction is set=0.9259418766201516, colsample_bytree=0.6 will be ignored. Current value: feature_fraction=0.9259418766201516\n",
      "[LightGBM] [Warning] bagging_fraction is set=0.6412544767795716, subsample=0.6 will be ignored. Current value: bagging_fraction=0.6412544767795716\n",
      "[LightGBM] [Warning] bagging_freq is set=13, subsample_freq=0 will be ignored. Current value: bagging_freq=13\n",
      "Training until validation scores don't improve for 100 rounds\n",
      "[100]\ttraining's l1: 1.69316\tvalid_1's l1: 2.20798\n"
     ]
    },
    {
     "name": "stderr",
     "output_type": "stream",
     "text": [
      "\u001b[32m[I 2021-07-29 19:39:05,455]\u001b[0m Trial 31 finished with value: -2.1374541031000205 and parameters: {'max_depth': 14, 'min_child_weight': 13, 'subsample': 0.6, 'colsample_bytree': 0.6, 'reg_lambda': 0.18138601745124344, 'reg_alpha': 4.386592497644003, 'feature_fraction': 0.9259418766201516, 'bagging_fraction': 0.6412544767795716, 'bagging_freq': 13, 'num_leaves': 465, 'min_child_samples': 72}. Best is trial 22 with value: -2.1363849052596082.\u001b[0m\n"
     ]
    },
    {
     "name": "stdout",
     "output_type": "stream",
     "text": [
      "Early stopping, best iteration is:\n",
      "[18]\ttraining's l1: 1.85791\tvalid_1's l1: 2.13745\n",
      "[LightGBM] [Warning] feature_fraction is set=0.9038583958725168, colsample_bytree=0.6 will be ignored. Current value: feature_fraction=0.9038583958725168\n",
      "[LightGBM] [Warning] bagging_fraction is set=0.6376934354797006, subsample=0.6 will be ignored. Current value: bagging_fraction=0.6376934354797006\n",
      "[LightGBM] [Warning] bagging_freq is set=13, subsample_freq=0 will be ignored. Current value: bagging_freq=13\n",
      "Training until validation scores don't improve for 100 rounds\n",
      "[100]\ttraining's l1: 1.69595\tvalid_1's l1: 2.20408\n"
     ]
    },
    {
     "name": "stderr",
     "output_type": "stream",
     "text": [
      "\u001b[32m[I 2021-07-29 19:39:13,550]\u001b[0m Trial 32 finished with value: -2.1340328048145305 and parameters: {'max_depth': 13, 'min_child_weight': 15, 'subsample': 0.6, 'colsample_bytree': 0.6, 'reg_lambda': 0.0922797930349669, 'reg_alpha': 4.263827909927258, 'feature_fraction': 0.9038583958725168, 'bagging_fraction': 0.6376934354797006, 'bagging_freq': 13, 'num_leaves': 482, 'min_child_samples': 85}. Best is trial 32 with value: -2.1340328048145305.\u001b[0m\n"
     ]
    },
    {
     "name": "stdout",
     "output_type": "stream",
     "text": [
      "Early stopping, best iteration is:\n",
      "[18]\ttraining's l1: 1.85591\tvalid_1's l1: 2.13403\n",
      "[LightGBM] [Warning] feature_fraction is set=0.8655500792002597, colsample_bytree=0.6 will be ignored. Current value: feature_fraction=0.8655500792002597\n",
      "[LightGBM] [Warning] bagging_fraction is set=0.6151939563354321, subsample=0.5 will be ignored. Current value: bagging_fraction=0.6151939563354321\n",
      "[LightGBM] [Warning] bagging_freq is set=13, subsample_freq=0 will be ignored. Current value: bagging_freq=13\n",
      "Training until validation scores don't improve for 100 rounds\n",
      "[100]\ttraining's l1: 1.69408\tvalid_1's l1: 2.20766\n"
     ]
    },
    {
     "name": "stderr",
     "output_type": "stream",
     "text": [
      "\u001b[32m[I 2021-07-29 19:39:21,472]\u001b[0m Trial 33 finished with value: -2.1501799160549164 and parameters: {'max_depth': 14, 'min_child_weight': 14, 'subsample': 0.5, 'colsample_bytree': 0.6, 'reg_lambda': 0.07970873392284289, 'reg_alpha': 11.472895654939455, 'feature_fraction': 0.8655500792002597, 'bagging_fraction': 0.6151939563354321, 'bagging_freq': 13, 'num_leaves': 472, 'min_child_samples': 70}. Best is trial 32 with value: -2.1340328048145305.\u001b[0m\n"
     ]
    },
    {
     "name": "stdout",
     "output_type": "stream",
     "text": [
      "Early stopping, best iteration is:\n",
      "[20]\ttraining's l1: 1.84508\tvalid_1's l1: 2.15018\n",
      "[LightGBM] [Warning] feature_fraction is set=0.949604435981866, colsample_bytree=0.6 will be ignored. Current value: feature_fraction=0.949604435981866\n",
      "[LightGBM] [Warning] bagging_fraction is set=0.733230481447657, subsample=0.6 will be ignored. Current value: bagging_fraction=0.733230481447657\n",
      "[LightGBM] [Warning] bagging_freq is set=12, subsample_freq=0 will be ignored. Current value: bagging_freq=12\n",
      "Training until validation scores don't improve for 100 rounds\n",
      "[100]\ttraining's l1: 1.68421\tvalid_1's l1: 2.19987\n"
     ]
    },
    {
     "name": "stderr",
     "output_type": "stream",
     "text": [
      "\u001b[32m[I 2021-07-29 19:39:30,840]\u001b[0m Trial 34 finished with value: -2.1415139614337377 and parameters: {'max_depth': 12, 'min_child_weight': 16, 'subsample': 0.6, 'colsample_bytree': 0.6, 'reg_lambda': 0.1644104409079402, 'reg_alpha': 1.7300941748189211, 'feature_fraction': 0.949604435981866, 'bagging_fraction': 0.733230481447657, 'bagging_freq': 12, 'num_leaves': 551, 'min_child_samples': 85}. Best is trial 32 with value: -2.1340328048145305.\u001b[0m\n"
     ]
    },
    {
     "name": "stdout",
     "output_type": "stream",
     "text": [
      "Early stopping, best iteration is:\n",
      "[18]\ttraining's l1: 1.84438\tvalid_1's l1: 2.14151\n",
      "[LightGBM] [Warning] feature_fraction is set=0.7986136781858456, colsample_bytree=0.6 will be ignored. Current value: feature_fraction=0.7986136781858456\n",
      "[LightGBM] [Warning] bagging_fraction is set=0.46273165679155986, subsample=0.6 will be ignored. Current value: bagging_fraction=0.46273165679155986\n",
      "[LightGBM] [Warning] bagging_freq is set=13, subsample_freq=0 will be ignored. Current value: bagging_freq=13\n",
      "Training until validation scores don't improve for 100 rounds\n",
      "[100]\ttraining's l1: 1.69952\tvalid_1's l1: 2.2215\n"
     ]
    },
    {
     "name": "stderr",
     "output_type": "stream",
     "text": [
      "\u001b[32m[I 2021-07-29 19:39:37,904]\u001b[0m Trial 35 finished with value: -2.1613093792831632 and parameters: {'max_depth': 15, 'min_child_weight': 15, 'subsample': 0.6, 'colsample_bytree': 0.6, 'reg_lambda': 47.12995802113799, 'reg_alpha': 6.213741817829966, 'feature_fraction': 0.7986136781858456, 'bagging_fraction': 0.46273165679155986, 'bagging_freq': 13, 'num_leaves': 472, 'min_child_samples': 80}. Best is trial 32 with value: -2.1340328048145305.\u001b[0m\n"
     ]
    },
    {
     "name": "stdout",
     "output_type": "stream",
     "text": [
      "Early stopping, best iteration is:\n",
      "[20]\ttraining's l1: 1.86598\tvalid_1's l1: 2.16131\n",
      "[LightGBM] [Warning] feature_fraction is set=0.8674214733012897, colsample_bytree=0.6 will be ignored. Current value: feature_fraction=0.8674214733012897\n",
      "[LightGBM] [Warning] bagging_fraction is set=0.6331257533819026, subsample=0.5 will be ignored. Current value: bagging_fraction=0.6331257533819026\n",
      "[LightGBM] [Warning] bagging_freq is set=11, subsample_freq=0 will be ignored. Current value: bagging_freq=11\n",
      "Training until validation scores don't improve for 100 rounds\n",
      "[100]\ttraining's l1: 1.73893\tvalid_1's l1: 2.18613\n"
     ]
    },
    {
     "name": "stderr",
     "output_type": "stream",
     "text": [
      "\u001b[32m[I 2021-07-29 19:39:45,242]\u001b[0m Trial 36 finished with value: -2.1692282724651126 and parameters: {'max_depth': 10, 'min_child_weight': 13, 'subsample': 0.5, 'colsample_bytree': 0.6, 'reg_lambda': 0.15565919909636206, 'reg_alpha': 39.626377540565464, 'feature_fraction': 0.8674214733012897, 'bagging_fraction': 0.6331257533819026, 'bagging_freq': 11, 'num_leaves': 441, 'min_child_samples': 95}. Best is trial 32 with value: -2.1340328048145305.\u001b[0m\n"
     ]
    },
    {
     "name": "stdout",
     "output_type": "stream",
     "text": [
      "Early stopping, best iteration is:\n",
      "[33]\ttraining's l1: 1.80739\tvalid_1's l1: 2.16923\n",
      "[LightGBM] [Warning] feature_fraction is set=0.743314217500659, colsample_bytree=0.6 will be ignored. Current value: feature_fraction=0.743314217500659\n",
      "[LightGBM] [Warning] bagging_fraction is set=0.797511349481616, subsample=0.6 will be ignored. Current value: bagging_fraction=0.797511349481616\n",
      "[LightGBM] [Warning] bagging_freq is set=13, subsample_freq=0 will be ignored. Current value: bagging_freq=13\n",
      "Training until validation scores don't improve for 100 rounds\n",
      "[100]\ttraining's l1: 1.68594\tvalid_1's l1: 2.20184\n"
     ]
    },
    {
     "name": "stderr",
     "output_type": "stream",
     "text": [
      "\u001b[32m[I 2021-07-29 19:39:53,878]\u001b[0m Trial 37 finished with value: -2.158828431765424 and parameters: {'max_depth': 12, 'min_child_weight': 15, 'subsample': 0.6, 'colsample_bytree': 0.6, 'reg_lambda': 0.009429626429457242, 'reg_alpha': 4.715289349659376, 'feature_fraction': 0.743314217500659, 'bagging_fraction': 0.797511349481616, 'bagging_freq': 13, 'num_leaves': 577, 'min_child_samples': 85}. Best is trial 32 with value: -2.1340328048145305.\u001b[0m\n"
     ]
    },
    {
     "name": "stdout",
     "output_type": "stream",
     "text": [
      "Early stopping, best iteration is:\n",
      "[26]\ttraining's l1: 1.78466\tvalid_1's l1: 2.15883\n",
      "[LightGBM] [Warning] feature_fraction is set=0.6734321500879854, colsample_bytree=0.5 will be ignored. Current value: feature_fraction=0.6734321500879854\n",
      "[LightGBM] [Warning] bagging_fraction is set=0.5291348081265779, subsample=0.5 will be ignored. Current value: bagging_fraction=0.5291348081265779\n",
      "[LightGBM] [Warning] bagging_freq is set=16, subsample_freq=0 will be ignored. Current value: bagging_freq=16\n",
      "Training until validation scores don't improve for 100 rounds\n",
      "[100]\ttraining's l1: 1.80837\tvalid_1's l1: 2.18452\n"
     ]
    },
    {
     "name": "stderr",
     "output_type": "stream",
     "text": [
      "\u001b[32m[I 2021-07-29 19:39:58,639]\u001b[0m Trial 38 finished with value: -2.175317817990313 and parameters: {'max_depth': 7, 'min_child_weight': 17, 'subsample': 0.5, 'colsample_bytree': 0.5, 'reg_lambda': 0.9756489105893578, 'reg_alpha': 0.1266959013822496, 'feature_fraction': 0.6734321500879854, 'bagging_fraction': 0.5291348081265779, 'bagging_freq': 16, 'num_leaves': 309, 'min_child_samples': 67}. Best is trial 32 with value: -2.1340328048145305.\u001b[0m\n"
     ]
    },
    {
     "name": "stdout",
     "output_type": "stream",
     "text": [
      "Early stopping, best iteration is:\n",
      "[41]\ttraining's l1: 1.84789\tvalid_1's l1: 2.1754\n",
      "[LightGBM] [Warning] feature_fraction is set=0.5708877787062405, colsample_bytree=0.6 will be ignored. Current value: feature_fraction=0.5708877787062405\n",
      "[LightGBM] [Warning] bagging_fraction is set=0.9056590604170416, subsample=0.6 will be ignored. Current value: bagging_fraction=0.9056590604170416\n",
      "[LightGBM] [Warning] bagging_freq is set=14, subsample_freq=0 will be ignored. Current value: bagging_freq=14\n",
      "Training until validation scores don't improve for 100 rounds\n",
      "[100]\ttraining's l1: 1.7644\tvalid_1's l1: 2.21188\n"
     ]
    },
    {
     "name": "stderr",
     "output_type": "stream",
     "text": [
      "\u001b[32m[I 2021-07-29 19:40:09,607]\u001b[0m Trial 39 finished with value: -2.2106213882162526 and parameters: {'max_depth': 14, 'min_child_weight': 12, 'subsample': 0.6, 'colsample_bytree': 0.6, 'reg_lambda': 2.118822259247291, 'reg_alpha': 296.6430422858791, 'feature_fraction': 0.5708877787062405, 'bagging_fraction': 0.9056590604170416, 'bagging_freq': 14, 'num_leaves': 495, 'min_child_samples': 73}. Best is trial 32 with value: -2.1340328048145305.\u001b[0m\n"
     ]
    },
    {
     "name": "stdout",
     "output_type": "stream",
     "text": [
      "Early stopping, best iteration is:\n",
      "[59]\ttraining's l1: 1.79615\tvalid_1's l1: 2.21063\n",
      "[LightGBM] [Warning] feature_fraction is set=0.3935170371427668, colsample_bytree=0.6 will be ignored. Current value: feature_fraction=0.3935170371427668\n",
      "[LightGBM] [Warning] bagging_fraction is set=0.6950324654496668, subsample=0.6 will be ignored. Current value: bagging_fraction=0.6950324654496668\n",
      "[LightGBM] [Warning] bagging_freq is set=12, subsample_freq=0 will be ignored. Current value: bagging_freq=12\n",
      "Training until validation scores don't improve for 100 rounds\n",
      "[100]\ttraining's l1: 2.22976\tvalid_1's l1: 2.41195\n",
      "[200]\ttraining's l1: 2.17711\tvalid_1's l1: 2.36189\n",
      "[300]\ttraining's l1: 2.16114\tvalid_1's l1: 2.35287\n",
      "[400]\ttraining's l1: 2.15422\tvalid_1's l1: 2.34827\n",
      "[500]\ttraining's l1: 2.14875\tvalid_1's l1: 2.34476\n",
      "[600]\ttraining's l1: 2.14514\tvalid_1's l1: 2.34158\n",
      "[700]\ttraining's l1: 2.14039\tvalid_1's l1: 2.33708\n",
      "[800]\ttraining's l1: 2.137\tvalid_1's l1: 2.33502\n",
      "[900]\ttraining's l1: 2.13591\tvalid_1's l1: 2.3348\n",
      "[1000]\ttraining's l1: 2.13368\tvalid_1's l1: 2.33205\n",
      "[1100]\ttraining's l1: 2.13205\tvalid_1's l1: 2.33073\n",
      "[1200]\ttraining's l1: 2.13019\tvalid_1's l1: 2.32959\n",
      "[1300]\ttraining's l1: 2.12934\tvalid_1's l1: 2.32877\n",
      "Early stopping, best iteration is:\n",
      "[1247]\ttraining's l1: 2.12974\tvalid_1's l1: 2.32855\n"
     ]
    },
    {
     "name": "stderr",
     "output_type": "stream",
     "text": [
      "\u001b[32m[I 2021-07-29 19:40:39,479]\u001b[0m Trial 40 finished with value: -2.3266047217652943 and parameters: {'max_depth': 1, 'min_child_weight': 18, 'subsample': 0.6, 'colsample_bytree': 0.6, 'reg_lambda': 0.04349064148536786, 'reg_alpha': 2.7995806339170333, 'feature_fraction': 0.3935170371427668, 'bagging_fraction': 0.6950324654496668, 'bagging_freq': 12, 'num_leaves': 335, 'min_child_samples': 80}. Best is trial 32 with value: -2.1340328048145305.\u001b[0m\n"
     ]
    },
    {
     "name": "stdout",
     "output_type": "stream",
     "text": [
      "[LightGBM] [Warning] feature_fraction is set=0.8859261080404129, colsample_bytree=0.5 will be ignored. Current value: feature_fraction=0.8859261080404129\n",
      "[LightGBM] [Warning] bagging_fraction is set=0.669914803878086, subsample=0.7 will be ignored. Current value: bagging_fraction=0.669914803878086\n",
      "[LightGBM] [Warning] bagging_freq is set=15, subsample_freq=0 will be ignored. Current value: bagging_freq=15\n",
      "Training until validation scores don't improve for 100 rounds\n",
      "[100]\ttraining's l1: 1.67791\tvalid_1's l1: 2.2001\n"
     ]
    },
    {
     "name": "stderr",
     "output_type": "stream",
     "text": [
      "\u001b[32m[I 2021-07-29 19:40:49,177]\u001b[0m Trial 41 finished with value: -2.1373371050574383 and parameters: {'max_depth': 13, 'min_child_weight': 10, 'subsample': 0.7, 'colsample_bytree': 0.5, 'reg_lambda': 0.6107919419833845, 'reg_alpha': 0.29411635221679244, 'feature_fraction': 0.8859261080404129, 'bagging_fraction': 0.669914803878086, 'bagging_freq': 15, 'num_leaves': 630, 'min_child_samples': 91}. Best is trial 32 with value: -2.1340328048145305.\u001b[0m\n"
     ]
    },
    {
     "name": "stdout",
     "output_type": "stream",
     "text": [
      "Early stopping, best iteration is:\n",
      "[19]\ttraining's l1: 1.82617\tvalid_1's l1: 2.13734\n",
      "[LightGBM] [Warning] feature_fraction is set=0.9310673576134233, colsample_bytree=0.5 will be ignored. Current value: feature_fraction=0.9310673576134233\n",
      "[LightGBM] [Warning] bagging_fraction is set=0.6530039299831137, subsample=0.7 will be ignored. Current value: bagging_fraction=0.6530039299831137\n",
      "[LightGBM] [Warning] bagging_freq is set=15, subsample_freq=0 will be ignored. Current value: bagging_freq=15\n",
      "Training until validation scores don't improve for 100 rounds\n",
      "[100]\ttraining's l1: 1.66338\tvalid_1's l1: 2.20986\n"
     ]
    },
    {
     "name": "stderr",
     "output_type": "stream",
     "text": [
      "\u001b[32m[I 2021-07-29 19:41:00,132]\u001b[0m Trial 42 finished with value: -2.1320398277177466 and parameters: {'max_depth': 15, 'min_child_weight': 8, 'subsample': 0.7, 'colsample_bytree': 0.5, 'reg_lambda': 0.5037436217546319, 'reg_alpha': 0.21865691300182624, 'feature_fraction': 0.9310673576134233, 'bagging_fraction': 0.6530039299831137, 'bagging_freq': 15, 'num_leaves': 724, 'min_child_samples': 88}. Best is trial 42 with value: -2.1320398277177466.\u001b[0m\n"
     ]
    },
    {
     "name": "stdout",
     "output_type": "stream",
     "text": [
      "Early stopping, best iteration is:\n",
      "[19]\ttraining's l1: 1.81325\tvalid_1's l1: 2.13204\n",
      "[LightGBM] [Warning] feature_fraction is set=0.21989766345494438, colsample_bytree=0.5 will be ignored. Current value: feature_fraction=0.21989766345494438\n",
      "[LightGBM] [Warning] bagging_fraction is set=0.7356025445711883, subsample=0.7 will be ignored. Current value: bagging_fraction=0.7356025445711883\n",
      "[LightGBM] [Warning] bagging_freq is set=17, subsample_freq=0 will be ignored. Current value: bagging_freq=17\n",
      "Training until validation scores don't improve for 100 rounds\n",
      "[100]\ttraining's l1: 1.71792\tvalid_1's l1: 2.29278\n"
     ]
    },
    {
     "name": "stderr",
     "output_type": "stream",
     "text": [
      "\u001b[32m[I 2021-07-29 19:41:07,908]\u001b[0m Trial 43 finished with value: -2.272050792320518 and parameters: {'max_depth': 15, 'min_child_weight': 7, 'subsample': 0.7, 'colsample_bytree': 0.5, 'reg_lambda': 4.666947975047946, 'reg_alpha': 0.13713052857346616, 'feature_fraction': 0.21989766345494438, 'bagging_fraction': 0.7356025445711883, 'bagging_freq': 17, 'num_leaves': 716, 'min_child_samples': 88}. Best is trial 42 with value: -2.1320398277177466.\u001b[0m\n"
     ]
    },
    {
     "name": "stdout",
     "output_type": "stream",
     "text": [
      "Early stopping, best iteration is:\n",
      "[20]\ttraining's l1: 1.94184\tvalid_1's l1: 2.27205\n",
      "[LightGBM] [Warning] feature_fraction is set=0.9375365302841487, colsample_bytree=0.5 will be ignored. Current value: feature_fraction=0.9375365302841487\n",
      "[LightGBM] [Warning] bagging_fraction is set=0.6314709561749734, subsample=0.7 will be ignored. Current value: bagging_fraction=0.6314709561749734\n",
      "[LightGBM] [Warning] bagging_freq is set=15, subsample_freq=0 will be ignored. Current value: bagging_freq=15\n",
      "Training until validation scores don't improve for 100 rounds\n",
      "[100]\ttraining's l1: 1.66404\tvalid_1's l1: 2.2015\n"
     ]
    },
    {
     "name": "stderr",
     "output_type": "stream",
     "text": [
      "\u001b[32m[I 2021-07-29 19:41:17,554]\u001b[0m Trial 44 finished with value: -2.132451293514787 and parameters: {'max_depth': 12, 'min_child_weight': 8, 'subsample': 0.7, 'colsample_bytree': 0.5, 'reg_lambda': 0.10535247075958394, 'reg_alpha': 0.931829745693148, 'feature_fraction': 0.9375365302841487, 'bagging_fraction': 0.6314709561749734, 'bagging_freq': 15, 'num_leaves': 867, 'min_child_samples': 62}. Best is trial 42 with value: -2.1320398277177466.\u001b[0m\n"
     ]
    },
    {
     "name": "stdout",
     "output_type": "stream",
     "text": [
      "Early stopping, best iteration is:\n",
      "[18]\ttraining's l1: 1.82363\tvalid_1's l1: 2.13245\n",
      "[LightGBM] [Warning] feature_fraction is set=0.8199223767453043, colsample_bytree=0.5 will be ignored. Current value: feature_fraction=0.8199223767453043\n",
      "[LightGBM] [Warning] bagging_fraction is set=0.6065665809770937, subsample=0.8 will be ignored. Current value: bagging_fraction=0.6065665809770937\n",
      "[LightGBM] [Warning] bagging_freq is set=16, subsample_freq=0 will be ignored. Current value: bagging_freq=16\n",
      "Training until validation scores don't improve for 100 rounds\n",
      "[100]\ttraining's l1: 1.67062\tvalid_1's l1: 2.20083\n"
     ]
    },
    {
     "name": "stderr",
     "output_type": "stream",
     "text": [
      "\u001b[32m[I 2021-07-29 19:41:25,995]\u001b[0m Trial 45 finished with value: -2.1384034639043117 and parameters: {'max_depth': 12, 'min_child_weight': 5, 'subsample': 0.8, 'colsample_bytree': 0.5, 'reg_lambda': 0.08100975934620863, 'reg_alpha': 0.04825131572061625, 'feature_fraction': 0.8199223767453043, 'bagging_fraction': 0.6065665809770937, 'bagging_freq': 16, 'num_leaves': 824, 'min_child_samples': 58}. Best is trial 42 with value: -2.1320398277177466.\u001b[0m\n"
     ]
    },
    {
     "name": "stdout",
     "output_type": "stream",
     "text": [
      "Early stopping, best iteration is:\n",
      "[18]\ttraining's l1: 1.82767\tvalid_1's l1: 2.1384\n",
      "[LightGBM] [Warning] feature_fraction is set=0.9380472962439379, colsample_bytree=0.5 will be ignored. Current value: feature_fraction=0.9380472962439379\n",
      "[LightGBM] [Warning] bagging_fraction is set=0.5479069007492584, subsample=0.7 will be ignored. Current value: bagging_fraction=0.5479069007492584\n",
      "[LightGBM] [Warning] bagging_freq is set=15, subsample_freq=0 will be ignored. Current value: bagging_freq=15\n",
      "Training until validation scores don't improve for 100 rounds\n",
      "[100]\ttraining's l1: 1.74369\tvalid_1's l1: 2.18775\n"
     ]
    },
    {
     "name": "stderr",
     "output_type": "stream",
     "text": [
      "\u001b[32m[I 2021-07-29 19:41:32,040]\u001b[0m Trial 46 finished with value: -2.162571572756347 and parameters: {'max_depth': 9, 'min_child_weight': 8, 'subsample': 0.7, 'colsample_bytree': 0.5, 'reg_lambda': 0.4610347913148053, 'reg_alpha': 1.034804040599423, 'feature_fraction': 0.9380472962439379, 'bagging_fraction': 0.5479069007492584, 'bagging_freq': 15, 'num_leaves': 918, 'min_child_samples': 64}. Best is trial 42 with value: -2.1320398277177466.\u001b[0m\n"
     ]
    },
    {
     "name": "stdout",
     "output_type": "stream",
     "text": [
      "Early stopping, best iteration is:\n",
      "[19]\ttraining's l1: 1.87928\tvalid_1's l1: 2.16257\n",
      "[LightGBM] [Warning] feature_fraction is set=0.9671916225263149, colsample_bytree=0.5 will be ignored. Current value: feature_fraction=0.9671916225263149\n",
      "[LightGBM] [Warning] bagging_fraction is set=0.4702048065616802, subsample=0.7 will be ignored. Current value: bagging_fraction=0.4702048065616802\n",
      "[LightGBM] [Warning] bagging_freq is set=18, subsample_freq=0 will be ignored. Current value: bagging_freq=18\n",
      "Training until validation scores don't improve for 100 rounds\n",
      "[100]\ttraining's l1: 1.67191\tvalid_1's l1: 2.23364\n"
     ]
    },
    {
     "name": "stderr",
     "output_type": "stream",
     "text": [
      "\u001b[32m[I 2021-07-29 19:41:42,668]\u001b[0m Trial 47 finished with value: -2.1350608179484105 and parameters: {'max_depth': 17, 'min_child_weight': 3, 'subsample': 0.7, 'colsample_bytree': 0.5, 'reg_lambda': 0.017071596592472354, 'reg_alpha': 0.2035592470668009, 'feature_fraction': 0.9671916225263149, 'bagging_fraction': 0.4702048065616802, 'bagging_freq': 18, 'num_leaves': 714, 'min_child_samples': 100}. Best is trial 42 with value: -2.1320398277177466.\u001b[0m\n"
     ]
    },
    {
     "name": "stdout",
     "output_type": "stream",
     "text": [
      "Early stopping, best iteration is:\n",
      "[18]\ttraining's l1: 1.8255\tvalid_1's l1: 2.13506\n",
      "[LightGBM] [Warning] feature_fraction is set=0.9702589942305412, colsample_bytree=0.5 will be ignored. Current value: feature_fraction=0.9702589942305412\n",
      "[LightGBM] [Warning] bagging_fraction is set=0.4894355131726924, subsample=0.7 will be ignored. Current value: bagging_fraction=0.4894355131726924\n",
      "[LightGBM] [Warning] bagging_freq is set=18, subsample_freq=0 will be ignored. Current value: bagging_freq=18\n",
      "Training until validation scores don't improve for 100 rounds\n",
      "[100]\ttraining's l1: 1.65668\tvalid_1's l1: 2.2311\n"
     ]
    },
    {
     "name": "stderr",
     "output_type": "stream",
     "text": [
      "\u001b[32m[I 2021-07-29 19:41:54,531]\u001b[0m Trial 48 finished with value: -2.1305152810300036 and parameters: {'max_depth': 17, 'min_child_weight': 2, 'subsample': 0.7, 'colsample_bytree': 0.5, 'reg_lambda': 0.014246817658201995, 'reg_alpha': 0.030055004956992357, 'feature_fraction': 0.9702589942305412, 'bagging_fraction': 0.4894355131726924, 'bagging_freq': 18, 'num_leaves': 976, 'min_child_samples': 97}. Best is trial 48 with value: -2.1305152810300036.\u001b[0m\n"
     ]
    },
    {
     "name": "stdout",
     "output_type": "stream",
     "text": [
      "Early stopping, best iteration is:\n",
      "[18]\ttraining's l1: 1.80939\tvalid_1's l1: 2.13052\n",
      "[LightGBM] [Warning] feature_fraction is set=0.9635900021107698, colsample_bytree=0.5 will be ignored. Current value: feature_fraction=0.9635900021107698\n",
      "[LightGBM] [Warning] bagging_fraction is set=0.3921274513889951, subsample=0.8 will be ignored. Current value: bagging_fraction=0.3921274513889951\n",
      "[LightGBM] [Warning] bagging_freq is set=20, subsample_freq=0 will be ignored. Current value: bagging_freq=20\n",
      "Training until validation scores don't improve for 100 rounds\n",
      "[100]\ttraining's l1: 1.6628\tvalid_1's l1: 2.24806\n"
     ]
    },
    {
     "name": "stderr",
     "output_type": "stream",
     "text": [
      "\u001b[32m[I 2021-07-29 19:42:05,345]\u001b[0m Trial 49 finished with value: -2.141120491897959 and parameters: {'max_depth': 17, 'min_child_weight': 2, 'subsample': 0.8, 'colsample_bytree': 0.5, 'reg_lambda': 0.0120799042961963, 'reg_alpha': 0.037402975668205315, 'feature_fraction': 0.9635900021107698, 'bagging_fraction': 0.3921274513889951, 'bagging_freq': 20, 'num_leaves': 988, 'min_child_samples': 98}. Best is trial 48 with value: -2.1305152810300036.\u001b[0m\n"
     ]
    },
    {
     "name": "stdout",
     "output_type": "stream",
     "text": [
      "Early stopping, best iteration is:\n",
      "[19]\ttraining's l1: 1.8019\tvalid_1's l1: 2.14112\n",
      "[LightGBM] [Warning] feature_fraction is set=0.9942256871020304, colsample_bytree=0.5 will be ignored. Current value: feature_fraction=0.9942256871020304\n",
      "[LightGBM] [Warning] bagging_fraction is set=0.4474053050320341, subsample=0.7 will be ignored. Current value: bagging_fraction=0.4474053050320341\n",
      "[LightGBM] [Warning] bagging_freq is set=18, subsample_freq=0 will be ignored. Current value: bagging_freq=18\n",
      "Training until validation scores don't improve for 100 rounds\n",
      "[100]\ttraining's l1: 1.65489\tvalid_1's l1: 2.2352\n"
     ]
    },
    {
     "name": "stderr",
     "output_type": "stream",
     "text": [
      "\u001b[32m[I 2021-07-29 19:42:17,405]\u001b[0m Trial 50 finished with value: -2.1318769650646585 and parameters: {'max_depth': 19, 'min_child_weight': 3, 'subsample': 0.7, 'colsample_bytree': 0.5, 'reg_lambda': 0.004727178100398003, 'reg_alpha': 0.16437942732181274, 'feature_fraction': 0.9942256871020304, 'bagging_fraction': 0.4474053050320341, 'bagging_freq': 18, 'num_leaves': 923, 'min_child_samples': 100}. Best is trial 48 with value: -2.1305152810300036.\u001b[0m\n"
     ]
    },
    {
     "name": "stdout",
     "output_type": "stream",
     "text": [
      "Early stopping, best iteration is:\n",
      "[20]\ttraining's l1: 1.78901\tvalid_1's l1: 2.13188\n",
      "[LightGBM] [Warning] feature_fraction is set=0.9943520222244906, colsample_bytree=0.5 will be ignored. Current value: feature_fraction=0.9943520222244906\n",
      "[LightGBM] [Warning] bagging_fraction is set=0.4815133588721137, subsample=0.7 will be ignored. Current value: bagging_fraction=0.4815133588721137\n",
      "[LightGBM] [Warning] bagging_freq is set=18, subsample_freq=0 will be ignored. Current value: bagging_freq=18\n",
      "Training until validation scores don't improve for 100 rounds\n",
      "[100]\ttraining's l1: 1.65362\tvalid_1's l1: 2.23252\n"
     ]
    },
    {
     "name": "stderr",
     "output_type": "stream",
     "text": [
      "\u001b[32m[I 2021-07-29 19:42:29,750]\u001b[0m Trial 51 finished with value: -2.1342161338369667 and parameters: {'max_depth': 19, 'min_child_weight': 3, 'subsample': 0.7, 'colsample_bytree': 0.5, 'reg_lambda': 0.018277907102620464, 'reg_alpha': 0.09075669621217286, 'feature_fraction': 0.9943520222244906, 'bagging_fraction': 0.4815133588721137, 'bagging_freq': 18, 'num_leaves': 899, 'min_child_samples': 100}. Best is trial 48 with value: -2.1305152810300036.\u001b[0m\n"
     ]
    },
    {
     "name": "stdout",
     "output_type": "stream",
     "text": [
      "Early stopping, best iteration is:\n",
      "[17]\ttraining's l1: 1.8305\tvalid_1's l1: 2.13422\n",
      "[LightGBM] [Warning] feature_fraction is set=0.9547430948591494, colsample_bytree=0.5 will be ignored. Current value: feature_fraction=0.9547430948591494\n",
      "[LightGBM] [Warning] bagging_fraction is set=0.41714357803318386, subsample=0.7 will be ignored. Current value: bagging_fraction=0.41714357803318386\n",
      "[LightGBM] [Warning] bagging_freq is set=18, subsample_freq=0 will be ignored. Current value: bagging_freq=18\n",
      "Training until validation scores don't improve for 100 rounds\n",
      "[100]\ttraining's l1: 1.6616\tvalid_1's l1: 2.23632\n"
     ]
    },
    {
     "name": "stderr",
     "output_type": "stream",
     "text": [
      "\u001b[32m[I 2021-07-29 19:42:41,339]\u001b[0m Trial 52 finished with value: -2.1333209912849456 and parameters: {'max_depth': 19, 'min_child_weight': 1, 'subsample': 0.7, 'colsample_bytree': 0.5, 'reg_lambda': 0.00476622590227685, 'reg_alpha': 0.07835698904762042, 'feature_fraction': 0.9547430948591494, 'bagging_fraction': 0.41714357803318386, 'bagging_freq': 18, 'num_leaves': 930, 'min_child_samples': 95}. Best is trial 48 with value: -2.1305152810300036.\u001b[0m\n"
     ]
    },
    {
     "name": "stdout",
     "output_type": "stream",
     "text": [
      "Early stopping, best iteration is:\n",
      "[17]\ttraining's l1: 1.82923\tvalid_1's l1: 2.13332\n",
      "[LightGBM] [Warning] feature_fraction is set=0.9441522017444008, colsample_bytree=0.5 will be ignored. Current value: feature_fraction=0.9441522017444008\n",
      "[LightGBM] [Warning] bagging_fraction is set=0.3385277537903678, subsample=0.7 will be ignored. Current value: bagging_fraction=0.3385277537903678\n",
      "[LightGBM] [Warning] bagging_freq is set=19, subsample_freq=0 will be ignored. Current value: bagging_freq=19\n",
      "Training until validation scores don't improve for 100 rounds\n",
      "[100]\ttraining's l1: 1.66827\tvalid_1's l1: 2.25337\n"
     ]
    },
    {
     "name": "stderr",
     "output_type": "stream",
     "text": [
      "\u001b[32m[I 2021-07-29 19:42:52,165]\u001b[0m Trial 53 finished with value: -2.1414695687113876 and parameters: {'max_depth': 19, 'min_child_weight': 1, 'subsample': 0.7, 'colsample_bytree': 0.5, 'reg_lambda': 0.0033378908394680034, 'reg_alpha': 0.02337009507784671, 'feature_fraction': 0.9441522017444008, 'bagging_fraction': 0.3385277537903678, 'bagging_freq': 19, 'num_leaves': 959, 'min_child_samples': 96}. Best is trial 48 with value: -2.1305152810300036.\u001b[0m\n"
     ]
    },
    {
     "name": "stdout",
     "output_type": "stream",
     "text": [
      "Early stopping, best iteration is:\n",
      "[19]\ttraining's l1: 1.80569\tvalid_1's l1: 2.14147\n",
      "[LightGBM] [Warning] feature_fraction is set=0.9976742026199374, colsample_bytree=0.5 will be ignored. Current value: feature_fraction=0.9976742026199374\n",
      "[LightGBM] [Warning] bagging_fraction is set=0.41884816733993785, subsample=0.8 will be ignored. Current value: bagging_fraction=0.41884816733993785\n",
      "[LightGBM] [Warning] bagging_freq is set=17, subsample_freq=0 will be ignored. Current value: bagging_freq=17\n",
      "Training until validation scores don't improve for 100 rounds\n",
      "[100]\ttraining's l1: 1.65645\tvalid_1's l1: 2.25517\n"
     ]
    },
    {
     "name": "stderr",
     "output_type": "stream",
     "text": [
      "\u001b[32m[I 2021-07-29 19:43:03,749]\u001b[0m Trial 54 finished with value: -2.1389226423984478 and parameters: {'max_depth': 19, 'min_child_weight': 5, 'subsample': 0.8, 'colsample_bytree': 0.5, 'reg_lambda': 0.006625870563492212, 'reg_alpha': 0.6584315159815354, 'feature_fraction': 0.9976742026199374, 'bagging_fraction': 0.41884816733993785, 'bagging_freq': 17, 'num_leaves': 876, 'min_child_samples': 83}. Best is trial 48 with value: -2.1305152810300036.\u001b[0m\n"
     ]
    },
    {
     "name": "stdout",
     "output_type": "stream",
     "text": [
      "Early stopping, best iteration is:\n",
      "[17]\ttraining's l1: 1.83335\tvalid_1's l1: 2.13892\n",
      "[LightGBM] [Warning] feature_fraction is set=0.9986114058272875, colsample_bytree=0.5 will be ignored. Current value: feature_fraction=0.9986114058272875\n",
      "[LightGBM] [Warning] bagging_fraction is set=0.42542128861005046, subsample=0.7 will be ignored. Current value: bagging_fraction=0.42542128861005046\n",
      "[LightGBM] [Warning] bagging_freq is set=19, subsample_freq=0 will be ignored. Current value: bagging_freq=19\n",
      "Training until validation scores don't improve for 100 rounds\n",
      "[100]\ttraining's l1: 1.66532\tvalid_1's l1: 2.24032\n"
     ]
    },
    {
     "name": "stderr",
     "output_type": "stream",
     "text": [
      "\u001b[32m[I 2021-07-29 19:43:14,667]\u001b[0m Trial 55 finished with value: -2.1330632155939915 and parameters: {'max_depth': 18, 'min_child_weight': 1, 'subsample': 0.7, 'colsample_bytree': 0.5, 'reg_lambda': 0.0052288647980124805, 'reg_alpha': 0.08309034424688788, 'feature_fraction': 0.9986114058272875, 'bagging_fraction': 0.42542128861005046, 'bagging_freq': 19, 'num_leaves': 792, 'min_child_samples': 95}. Best is trial 48 with value: -2.1305152810300036.\u001b[0m\n"
     ]
    },
    {
     "name": "stdout",
     "output_type": "stream",
     "text": [
      "Early stopping, best iteration is:\n",
      "[20]\ttraining's l1: 1.79689\tvalid_1's l1: 2.13306\n",
      "[LightGBM] [Warning] feature_fraction is set=0.9622321663991725, colsample_bytree=0.9 will be ignored. Current value: feature_fraction=0.9622321663991725\n",
      "[LightGBM] [Warning] bagging_fraction is set=0.4210241984722282, subsample=0.7 will be ignored. Current value: bagging_fraction=0.4210241984722282\n",
      "[LightGBM] [Warning] bagging_freq is set=19, subsample_freq=0 will be ignored. Current value: bagging_freq=19\n",
      "Training until validation scores don't improve for 100 rounds\n",
      "[100]\ttraining's l1: 1.64818\tvalid_1's l1: 2.26421\n"
     ]
    },
    {
     "name": "stderr",
     "output_type": "stream",
     "text": [
      "\u001b[32m[I 2021-07-29 19:43:26,189]\u001b[0m Trial 56 finished with value: -2.1445996598986903 and parameters: {'max_depth': 18, 'min_child_weight': 1, 'subsample': 0.7, 'colsample_bytree': 0.9, 'reg_lambda': 0.0024310416208715674, 'reg_alpha': 0.07321876564984059, 'feature_fraction': 0.9622321663991725, 'bagging_fraction': 0.4210241984722282, 'bagging_freq': 19, 'num_leaves': 798, 'min_child_samples': 7}. Best is trial 48 with value: -2.1305152810300036.\u001b[0m\n"
     ]
    },
    {
     "name": "stdout",
     "output_type": "stream",
     "text": [
      "Early stopping, best iteration is:\n",
      "[19]\ttraining's l1: 1.80959\tvalid_1's l1: 2.1446\n",
      "[LightGBM] [Warning] feature_fraction is set=0.9943640178417599, colsample_bytree=0.5 will be ignored. Current value: feature_fraction=0.9943640178417599\n",
      "[LightGBM] [Warning] bagging_fraction is set=0.39120046447507983, subsample=0.7 will be ignored. Current value: bagging_fraction=0.39120046447507983\n",
      "[LightGBM] [Warning] bagging_freq is set=20, subsample_freq=0 will be ignored. Current value: bagging_freq=20\n",
      "Training until validation scores don't improve for 100 rounds\n",
      "[100]\ttraining's l1: 1.64088\tvalid_1's l1: 2.23872\n"
     ]
    },
    {
     "name": "stderr",
     "output_type": "stream",
     "text": [
      "\u001b[32m[I 2021-07-29 19:43:38,587]\u001b[0m Trial 57 finished with value: -2.1372987395277763 and parameters: {'max_depth': 18, 'min_child_weight': 2, 'subsample': 0.7, 'colsample_bytree': 0.5, 'reg_lambda': 0.0056904970672631925, 'reg_alpha': 0.1683227822900824, 'feature_fraction': 0.9943640178417599, 'bagging_fraction': 0.39120046447507983, 'bagging_freq': 20, 'num_leaves': 952, 'min_child_samples': 23}. Best is trial 48 with value: -2.1305152810300036.\u001b[0m\n"
     ]
    },
    {
     "name": "stdout",
     "output_type": "stream",
     "text": [
      "Early stopping, best iteration is:\n",
      "[19]\ttraining's l1: 1.80531\tvalid_1's l1: 2.1373\n",
      "[LightGBM] [Warning] feature_fraction is set=0.9233100389873726, colsample_bytree=0.5 will be ignored. Current value: feature_fraction=0.9233100389873726\n",
      "[LightGBM] [Warning] bagging_fraction is set=0.3338659126948823, subsample=0.7 will be ignored. Current value: bagging_fraction=0.3338659126948823\n",
      "[LightGBM] [Warning] bagging_freq is set=18, subsample_freq=0 will be ignored. Current value: bagging_freq=18\n",
      "Training until validation scores don't improve for 100 rounds\n",
      "[100]\ttraining's l1: 1.67551\tvalid_1's l1: 2.2426\n"
     ]
    },
    {
     "name": "stderr",
     "output_type": "stream",
     "text": [
      "\u001b[32m[I 2021-07-29 19:43:48,321]\u001b[0m Trial 58 finished with value: -2.143668119362118 and parameters: {'max_depth': 17, 'min_child_weight': 2, 'subsample': 0.7, 'colsample_bytree': 0.5, 'reg_lambda': 0.026158539522721257, 'reg_alpha': 0.02542326430565068, 'feature_fraction': 0.9233100389873726, 'bagging_fraction': 0.3338659126948823, 'bagging_freq': 18, 'num_leaves': 995, 'min_child_samples': 95}. Best is trial 48 with value: -2.1305152810300036.\u001b[0m\n"
     ]
    },
    {
     "name": "stdout",
     "output_type": "stream",
     "text": [
      "Early stopping, best iteration is:\n",
      "[19]\ttraining's l1: 1.80604\tvalid_1's l1: 2.14367\n",
      "[LightGBM] [Warning] feature_fraction is set=0.8553676953238414, colsample_bytree=0.5 will be ignored. Current value: feature_fraction=0.8553676953238414\n",
      "[LightGBM] [Warning] bagging_fraction is set=0.5050559708926177, subsample=0.7 will be ignored. Current value: bagging_fraction=0.5050559708926177\n",
      "[LightGBM] [Warning] bagging_freq is set=17, subsample_freq=0 will be ignored. Current value: bagging_freq=17\n",
      "Training until validation scores don't improve for 100 rounds\n",
      "[100]\ttraining's l1: 1.65861\tvalid_1's l1: 2.22693\n"
     ]
    },
    {
     "name": "stderr",
     "output_type": "stream",
     "text": [
      "\u001b[32m[I 2021-07-29 19:44:00,342]\u001b[0m Trial 59 finished with value: -2.1358664515193215 and parameters: {'max_depth': 20, 'min_child_weight': 4, 'subsample': 0.7, 'colsample_bytree': 0.5, 'reg_lambda': 0.0047385682828238644, 'reg_alpha': 0.013473421472681586, 'feature_fraction': 0.8553676953238414, 'bagging_fraction': 0.5050559708926177, 'bagging_freq': 17, 'num_leaves': 865, 'min_child_samples': 96}. Best is trial 48 with value: -2.1305152810300036.\u001b[0m\n"
     ]
    },
    {
     "name": "stdout",
     "output_type": "stream",
     "text": [
      "Early stopping, best iteration is:\n",
      "[18]\ttraining's l1: 1.82054\tvalid_1's l1: 2.13587\n",
      "[LightGBM] [Warning] feature_fraction is set=0.9969488203143783, colsample_bytree=0.5 will be ignored. Current value: feature_fraction=0.9969488203143783\n",
      "[LightGBM] [Warning] bagging_fraction is set=0.2674562497041164, subsample=0.7 will be ignored. Current value: bagging_fraction=0.2674562497041164\n",
      "[LightGBM] [Warning] bagging_freq is set=17, subsample_freq=0 will be ignored. Current value: bagging_freq=17\n",
      "Training until validation scores don't improve for 100 rounds\n",
      "[100]\ttraining's l1: 1.67668\tvalid_1's l1: 2.24598\n"
     ]
    },
    {
     "name": "stderr",
     "output_type": "stream",
     "text": [
      "\u001b[32m[I 2021-07-29 19:44:10,060]\u001b[0m Trial 60 finished with value: -2.14174673415601 and parameters: {'max_depth': 19, 'min_child_weight': 7, 'subsample': 0.7, 'colsample_bytree': 0.5, 'reg_lambda': 0.0018180056166411794, 'reg_alpha': 0.07711335921707191, 'feature_fraction': 0.9969488203143783, 'bagging_fraction': 0.2674562497041164, 'bagging_freq': 17, 'num_leaves': 769, 'min_child_samples': 50}. Best is trial 48 with value: -2.1305152810300036.\u001b[0m\n"
     ]
    },
    {
     "name": "stdout",
     "output_type": "stream",
     "text": [
      "Early stopping, best iteration is:\n",
      "[19]\ttraining's l1: 1.82153\tvalid_1's l1: 2.14175\n",
      "[LightGBM] [Warning] feature_fraction is set=0.9100496568634185, colsample_bytree=0.5 will be ignored. Current value: feature_fraction=0.9100496568634185\n",
      "[LightGBM] [Warning] bagging_fraction is set=0.44149547800348343, subsample=0.8 will be ignored. Current value: bagging_fraction=0.44149547800348343\n",
      "[LightGBM] [Warning] bagging_freq is set=19, subsample_freq=0 will be ignored. Current value: bagging_freq=19\n",
      "Training until validation scores don't improve for 100 rounds\n",
      "[100]\ttraining's l1: 1.6667\tvalid_1's l1: 2.23447\n"
     ]
    },
    {
     "name": "stderr",
     "output_type": "stream",
     "text": [
      "\u001b[32m[I 2021-07-29 19:44:20,733]\u001b[0m Trial 61 finished with value: -2.13659804849646 and parameters: {'max_depth': 17, 'min_child_weight': 3, 'subsample': 0.8, 'colsample_bytree': 0.5, 'reg_lambda': 0.05338140310025692, 'reg_alpha': 0.04292212334433075, 'feature_fraction': 0.9100496568634185, 'bagging_fraction': 0.44149547800348343, 'bagging_freq': 19, 'num_leaves': 811, 'min_child_samples': 90}. Best is trial 48 with value: -2.1305152810300036.\u001b[0m\n"
     ]
    },
    {
     "name": "stdout",
     "output_type": "stream",
     "text": [
      "Early stopping, best iteration is:\n",
      "[19]\ttraining's l1: 1.81188\tvalid_1's l1: 2.1366\n",
      "[LightGBM] [Warning] feature_fraction is set=0.9519938374953465, colsample_bytree=0.5 will be ignored. Current value: feature_fraction=0.9519938374953465\n",
      "[LightGBM] [Warning] bagging_fraction is set=0.38436189931465403, subsample=0.7 will be ignored. Current value: bagging_fraction=0.38436189931465403\n",
      "[LightGBM] [Warning] bagging_freq is set=16, subsample_freq=0 will be ignored. Current value: bagging_freq=16\n",
      "Training until validation scores don't improve for 100 rounds\n",
      "[100]\ttraining's l1: 1.66357\tvalid_1's l1: 2.23114\n"
     ]
    },
    {
     "name": "stderr",
     "output_type": "stream",
     "text": [
      "\u001b[32m[I 2021-07-29 19:44:30,809]\u001b[0m Trial 62 finished with value: -2.138415334462439 and parameters: {'max_depth': 16, 'min_child_weight': 1, 'subsample': 0.7, 'colsample_bytree': 0.5, 'reg_lambda': 0.03368806428212703, 'reg_alpha': 0.48625286839957693, 'feature_fraction': 0.9519938374953465, 'bagging_fraction': 0.38436189931465403, 'bagging_freq': 16, 'num_leaves': 925, 'min_child_samples': 88}. Best is trial 48 with value: -2.1305152810300036.\u001b[0m\n"
     ]
    },
    {
     "name": "stdout",
     "output_type": "stream",
     "text": [
      "Early stopping, best iteration is:\n",
      "[18]\ttraining's l1: 1.81724\tvalid_1's l1: 2.13842\n",
      "[LightGBM] [Warning] feature_fraction is set=0.9730105577371507, colsample_bytree=0.5 will be ignored. Current value: feature_fraction=0.9730105577371507\n",
      "[LightGBM] [Warning] bagging_fraction is set=0.5429770130603199, subsample=0.9 will be ignored. Current value: bagging_fraction=0.5429770130603199\n",
      "[LightGBM] [Warning] bagging_freq is set=18, subsample_freq=0 will be ignored. Current value: bagging_freq=18\n",
      "Training until validation scores don't improve for 100 rounds\n",
      "[100]\ttraining's l1: 1.64382\tvalid_1's l1: 2.23825\n"
     ]
    },
    {
     "name": "stderr",
     "output_type": "stream",
     "text": [
      "\u001b[32m[I 2021-07-29 19:44:43,460]\u001b[0m Trial 63 finished with value: -2.1354483937627315 and parameters: {'max_depth': 18, 'min_child_weight': 6, 'subsample': 0.9, 'colsample_bytree': 0.5, 'reg_lambda': 0.0014270992486308477, 'reg_alpha': 1.4824086815715094, 'feature_fraction': 0.9730105577371507, 'bagging_fraction': 0.5429770130603199, 'bagging_freq': 18, 'num_leaves': 896, 'min_child_samples': 40}. Best is trial 48 with value: -2.1305152810300036.\u001b[0m\n"
     ]
    },
    {
     "name": "stdout",
     "output_type": "stream",
     "text": [
      "Early stopping, best iteration is:\n",
      "[17]\ttraining's l1: 1.82986\tvalid_1's l1: 2.13545\n",
      "[LightGBM] [Warning] feature_fraction is set=0.9208816649154105, colsample_bytree=0.5 will be ignored. Current value: feature_fraction=0.9208816649154105\n",
      "[LightGBM] [Warning] bagging_fraction is set=0.4973592143480617, subsample=0.7 will be ignored. Current value: bagging_fraction=0.4973592143480617\n",
      "[LightGBM] [Warning] bagging_freq is set=20, subsample_freq=0 will be ignored. Current value: bagging_freq=20\n",
      "Training until validation scores don't improve for 100 rounds\n",
      "[100]\ttraining's l1: 1.66614\tvalid_1's l1: 2.22312\n"
     ]
    },
    {
     "name": "stderr",
     "output_type": "stream",
     "text": [
      "\u001b[32m[I 2021-07-29 19:44:54,227]\u001b[0m Trial 64 finished with value: -2.13441772953844 and parameters: {'max_depth': 16, 'min_child_weight': 4, 'subsample': 0.7, 'colsample_bytree': 0.5, 'reg_lambda': 0.011777899872145451, 'reg_alpha': 0.10415535056645613, 'feature_fraction': 0.9208816649154105, 'bagging_fraction': 0.4973592143480617, 'bagging_freq': 20, 'num_leaves': 847, 'min_child_samples': 93}. Best is trial 48 with value: -2.1305152810300036.\u001b[0m\n"
     ]
    },
    {
     "name": "stdout",
     "output_type": "stream",
     "text": [
      "Early stopping, best iteration is:\n",
      "[19]\ttraining's l1: 1.80795\tvalid_1's l1: 2.13442\n",
      "[LightGBM] [Warning] feature_fraction is set=0.9997303891268311, colsample_bytree=0.5 will be ignored. Current value: feature_fraction=0.9997303891268311\n",
      "[LightGBM] [Warning] bagging_fraction is set=0.44347454486710425, subsample=0.8 will be ignored. Current value: bagging_fraction=0.44347454486710425\n",
      "[LightGBM] [Warning] bagging_freq is set=16, subsample_freq=0 will be ignored. Current value: bagging_freq=16\n",
      "Training until validation scores don't improve for 100 rounds\n",
      "[100]\ttraining's l1: 1.66223\tvalid_1's l1: 2.22867\n"
     ]
    },
    {
     "name": "stderr",
     "output_type": "stream",
     "text": [
      "\u001b[32m[I 2021-07-29 19:45:05,214]\u001b[0m Trial 65 finished with value: -2.1355473349236025 and parameters: {'max_depth': 20, 'min_child_weight': 8, 'subsample': 0.8, 'colsample_bytree': 0.5, 'reg_lambda': 0.0035865559652302854, 'reg_alpha': 0.007650298984122556, 'feature_fraction': 0.9997303891268311, 'bagging_fraction': 0.44347454486710425, 'bagging_freq': 16, 'num_leaves': 726, 'min_child_samples': 82}. Best is trial 48 with value: -2.1305152810300036.\u001b[0m\n"
     ]
    },
    {
     "name": "stdout",
     "output_type": "stream",
     "text": [
      "Early stopping, best iteration is:\n",
      "[19]\ttraining's l1: 1.81388\tvalid_1's l1: 2.13555\n",
      "[LightGBM] [Warning] feature_fraction is set=0.8455638955833229, colsample_bytree=0.5 will be ignored. Current value: feature_fraction=0.8455638955833229\n",
      "[LightGBM] [Warning] bagging_fraction is set=0.5697423690489896, subsample=0.7 will be ignored. Current value: bagging_fraction=0.5697423690489896\n",
      "[LightGBM] [Warning] bagging_freq is set=14, subsample_freq=0 will be ignored. Current value: bagging_freq=14\n",
      "Training until validation scores don't improve for 100 rounds\n",
      "[100]\ttraining's l1: 1.65704\tvalid_1's l1: 2.22368\n"
     ]
    },
    {
     "name": "stderr",
     "output_type": "stream",
     "text": [
      "\u001b[32m[I 2021-07-29 19:45:16,709]\u001b[0m Trial 66 finished with value: -2.1383362542466857 and parameters: {'max_depth': 19, 'min_child_weight': 2, 'subsample': 0.7, 'colsample_bytree': 0.5, 'reg_lambda': 0.2848435095516329, 'reg_alpha': 0.7840852653116699, 'feature_fraction': 0.8455638955833229, 'bagging_fraction': 0.5697423690489896, 'bagging_freq': 14, 'num_leaves': 756, 'min_child_samples': 77}. Best is trial 48 with value: -2.1305152810300036.\u001b[0m\n"
     ]
    },
    {
     "name": "stdout",
     "output_type": "stream",
     "text": [
      "Early stopping, best iteration is:\n",
      "[18]\ttraining's l1: 1.82523\tvalid_1's l1: 2.13834\n",
      "[LightGBM] [Warning] feature_fraction is set=0.8956927211861484, colsample_bytree=0.5 will be ignored. Current value: feature_fraction=0.8956927211861484\n",
      "[LightGBM] [Warning] bagging_fraction is set=0.3606006793301006, subsample=0.7 will be ignored. Current value: bagging_fraction=0.3606006793301006\n",
      "[LightGBM] [Warning] bagging_freq is set=19, subsample_freq=0 will be ignored. Current value: bagging_freq=19\n",
      "Training until validation scores don't improve for 100 rounds\n",
      "[100]\ttraining's l1: 1.72485\tvalid_1's l1: 2.20829\n"
     ]
    },
    {
     "name": "stderr",
     "output_type": "stream",
     "text": [
      "\u001b[32m[I 2021-07-29 19:45:22,539]\u001b[0m Trial 67 finished with value: -2.150655345523274 and parameters: {'max_depth': 11, 'min_child_weight': 5, 'subsample': 0.7, 'colsample_bytree': 0.5, 'reg_lambda': 0.10637482866001688, 'reg_alpha': 0.21002478901193045, 'feature_fraction': 0.8956927211861484, 'bagging_fraction': 0.3606006793301006, 'bagging_freq': 19, 'num_leaves': 958, 'min_child_samples': 100}. Best is trial 48 with value: -2.1305152810300036.\u001b[0m\n"
     ]
    },
    {
     "name": "stdout",
     "output_type": "stream",
     "text": [
      "Early stopping, best iteration is:\n",
      "[17]\ttraining's l1: 1.86909\tvalid_1's l1: 2.15066\n",
      "[LightGBM] [Warning] feature_fraction is set=0.9381544314204344, colsample_bytree=0.5 will be ignored. Current value: feature_fraction=0.9381544314204344\n",
      "[LightGBM] [Warning] bagging_fraction is set=0.6262994994812177, subsample=0.7 will be ignored. Current value: bagging_fraction=0.6262994994812177\n",
      "[LightGBM] [Warning] bagging_freq is set=15, subsample_freq=0 will be ignored. Current value: bagging_freq=15\n",
      "Training until validation scores don't improve for 100 rounds\n",
      "[100]\ttraining's l1: 1.64705\tvalid_1's l1: 2.21807\n"
     ]
    },
    {
     "name": "stderr",
     "output_type": "stream",
     "text": [
      "\u001b[32m[I 2021-07-29 19:45:34,514]\u001b[0m Trial 68 finished with value: -2.1293721160710755 and parameters: {'max_depth': 15, 'min_child_weight': 8, 'subsample': 0.7, 'colsample_bytree': 0.5, 'reg_lambda': 0.016289997375747056, 'reg_alpha': 0.01618842412671863, 'feature_fraction': 0.9381544314204344, 'bagging_fraction': 0.6262994994812177, 'bagging_freq': 15, 'num_leaves': 998, 'min_child_samples': 92}. Best is trial 68 with value: -2.1293721160710755.\u001b[0m\n"
     ]
    },
    {
     "name": "stdout",
     "output_type": "stream",
     "text": [
      "Early stopping, best iteration is:\n",
      "[18]\ttraining's l1: 1.80291\tvalid_1's l1: 2.12937\n",
      "[LightGBM] [Warning] feature_fraction is set=0.935676240430554, colsample_bytree=0.5 will be ignored. Current value: feature_fraction=0.935676240430554\n",
      "[LightGBM] [Warning] bagging_fraction is set=0.51824569910939, subsample=0.7 will be ignored. Current value: bagging_fraction=0.51824569910939\n",
      "[LightGBM] [Warning] bagging_freq is set=18, subsample_freq=0 will be ignored. Current value: bagging_freq=18\n",
      "Training until validation scores don't improve for 100 rounds\n",
      "[100]\ttraining's l1: 1.65469\tvalid_1's l1: 2.22002\n"
     ]
    },
    {
     "name": "stderr",
     "output_type": "stream",
     "text": [
      "\u001b[32m[I 2021-07-29 19:45:46,628]\u001b[0m Trial 69 finished with value: -2.1273308465274186 and parameters: {'max_depth': 17, 'min_child_weight': 8, 'subsample': 0.7, 'colsample_bytree': 0.5, 'reg_lambda': 0.01484809499055289, 'reg_alpha': 0.014519342376456641, 'feature_fraction': 0.935676240430554, 'bagging_fraction': 0.51824569910939, 'bagging_freq': 18, 'num_leaves': 992, 'min_child_samples': 93}. Best is trial 69 with value: -2.1273308465274186.\u001b[0m\n"
     ]
    },
    {
     "name": "stdout",
     "output_type": "stream",
     "text": [
      "Early stopping, best iteration is:\n",
      "[18]\ttraining's l1: 1.80576\tvalid_1's l1: 2.12733\n",
      "[LightGBM] [Warning] feature_fraction is set=0.816418349158636, colsample_bytree=0.5 will be ignored. Current value: feature_fraction=0.816418349158636\n",
      "[LightGBM] [Warning] bagging_fraction is set=0.5233607518466848, subsample=0.7 will be ignored. Current value: bagging_fraction=0.5233607518466848\n",
      "[LightGBM] [Warning] bagging_freq is set=15, subsample_freq=0 will be ignored. Current value: bagging_freq=15\n",
      "Training until validation scores don't improve for 100 rounds\n",
      "[100]\ttraining's l1: 1.67772\tvalid_1's l1: 2.21656\n"
     ]
    },
    {
     "name": "stderr",
     "output_type": "stream",
     "text": [
      "\u001b[32m[I 2021-07-29 19:45:54,973]\u001b[0m Trial 70 finished with value: -2.1404796082499242 and parameters: {'max_depth': 15, 'min_child_weight': 8, 'subsample': 0.7, 'colsample_bytree': 0.5, 'reg_lambda': 0.01759815433743588, 'reg_alpha': 0.014996620663802184, 'feature_fraction': 0.816418349158636, 'bagging_fraction': 0.5233607518466848, 'bagging_freq': 15, 'num_leaves': 682, 'min_child_samples': 92}. Best is trial 69 with value: -2.1273308465274186.\u001b[0m\n"
     ]
    },
    {
     "name": "stdout",
     "output_type": "stream",
     "text": [
      "Early stopping, best iteration is:\n",
      "[19]\ttraining's l1: 1.82023\tvalid_1's l1: 2.14048\n",
      "[LightGBM] [Warning] feature_fraction is set=0.9384652720439403, colsample_bytree=0.5 will be ignored. Current value: feature_fraction=0.9384652720439403\n",
      "[LightGBM] [Warning] bagging_fraction is set=0.4178333189694715, subsample=0.7 will be ignored. Current value: bagging_fraction=0.4178333189694715\n",
      "[LightGBM] [Warning] bagging_freq is set=18, subsample_freq=0 will be ignored. Current value: bagging_freq=18\n",
      "Training until validation scores don't improve for 100 rounds\n",
      "[100]\ttraining's l1: 1.66184\tvalid_1's l1: 2.24435\n"
     ]
    },
    {
     "name": "stderr",
     "output_type": "stream",
     "text": [
      "\u001b[32m[I 2021-07-29 19:46:06,259]\u001b[0m Trial 71 finished with value: -2.1452997402161014 and parameters: {'max_depth': 18, 'min_child_weight': 9, 'subsample': 0.7, 'colsample_bytree': 0.5, 'reg_lambda': 0.006530848273407666, 'reg_alpha': 0.03358976993807679, 'feature_fraction': 0.9384652720439403, 'bagging_fraction': 0.4178333189694715, 'bagging_freq': 18, 'num_leaves': 999, 'min_child_samples': 97}. Best is trial 69 with value: -2.1273308465274186.\u001b[0m\n"
     ]
    },
    {
     "name": "stdout",
     "output_type": "stream",
     "text": [
      "Early stopping, best iteration is:\n",
      "[19]\ttraining's l1: 1.80233\tvalid_1's l1: 2.1453\n",
      "[LightGBM] [Warning] feature_fraction is set=0.9783663176026498, colsample_bytree=0.5 will be ignored. Current value: feature_fraction=0.9783663176026498\n",
      "[LightGBM] [Warning] bagging_fraction is set=0.6078653033558054, subsample=0.7 will be ignored. Current value: bagging_fraction=0.6078653033558054\n",
      "[LightGBM] [Warning] bagging_freq is set=17, subsample_freq=0 will be ignored. Current value: bagging_freq=17\n",
      "Training until validation scores don't improve for 100 rounds\n",
      "[100]\ttraining's l1: 1.64733\tvalid_1's l1: 2.22542\n"
     ]
    },
    {
     "name": "stderr",
     "output_type": "stream",
     "text": [
      "\u001b[32m[I 2021-07-29 19:46:19,024]\u001b[0m Trial 72 finished with value: -2.1332248661065254 and parameters: {'max_depth': 17, 'min_child_weight': 6, 'subsample': 0.7, 'colsample_bytree': 0.5, 'reg_lambda': 0.010315897697136634, 'reg_alpha': 0.059338437868734946, 'feature_fraction': 0.9783663176026498, 'bagging_fraction': 0.6078653033558054, 'bagging_freq': 17, 'num_leaves': 942, 'min_child_samples': 89}. Best is trial 69 with value: -2.1273308465274186.\u001b[0m\n"
     ]
    },
    {
     "name": "stdout",
     "output_type": "stream",
     "text": [
      "Early stopping, best iteration is:\n",
      "[20]\ttraining's l1: 1.78088\tvalid_1's l1: 2.13322\n",
      "[LightGBM] [Warning] feature_fraction is set=0.9802288519024522, colsample_bytree=0.5 will be ignored. Current value: feature_fraction=0.9802288519024522\n",
      "[LightGBM] [Warning] bagging_fraction is set=0.6209753374021806, subsample=0.7 will be ignored. Current value: bagging_fraction=0.6209753374021806\n",
      "[LightGBM] [Warning] bagging_freq is set=17, subsample_freq=0 will be ignored. Current value: bagging_freq=17\n",
      "Training until validation scores don't improve for 100 rounds\n",
      "[100]\ttraining's l1: 1.64832\tvalid_1's l1: 2.22533\n"
     ]
    },
    {
     "name": "stderr",
     "output_type": "stream",
     "text": [
      "\u001b[32m[I 2021-07-29 19:46:31,226]\u001b[0m Trial 73 finished with value: -2.134681558039202 and parameters: {'max_depth': 17, 'min_child_weight': 6, 'subsample': 0.7, 'colsample_bytree': 0.5, 'reg_lambda': 0.011978440069010728, 'reg_alpha': 0.007594710996562409, 'feature_fraction': 0.9802288519024522, 'bagging_fraction': 0.6209753374021806, 'bagging_freq': 17, 'num_leaves': 894, 'min_child_samples': 89}. Best is trial 69 with value: -2.1273308465274186.\u001b[0m\n"
     ]
    },
    {
     "name": "stdout",
     "output_type": "stream",
     "text": [
      "Early stopping, best iteration is:\n",
      "[18]\ttraining's l1: 1.81194\tvalid_1's l1: 2.13468\n",
      "[LightGBM] [Warning] feature_fraction is set=0.9202816363355862, colsample_bytree=0.5 will be ignored. Current value: feature_fraction=0.9202816363355862\n",
      "[LightGBM] [Warning] bagging_fraction is set=0.5664098736406034, subsample=0.7 will be ignored. Current value: bagging_fraction=0.5664098736406034\n",
      "[LightGBM] [Warning] bagging_freq is set=16, subsample_freq=0 will be ignored. Current value: bagging_freq=16\n",
      "Training until validation scores don't improve for 100 rounds\n",
      "[100]\ttraining's l1: 1.6617\tvalid_1's l1: 2.21399\n"
     ]
    },
    {
     "name": "stderr",
     "output_type": "stream",
     "text": [
      "\u001b[32m[I 2021-07-29 19:46:41,997]\u001b[0m Trial 74 finished with value: -2.1327142430035546 and parameters: {'max_depth': 16, 'min_child_weight': 7, 'subsample': 0.7, 'colsample_bytree': 0.5, 'reg_lambda': 0.009269330602021935, 'reg_alpha': 0.01826804420801533, 'feature_fraction': 0.9202816363355862, 'bagging_fraction': 0.5664098736406034, 'bagging_freq': 16, 'num_leaves': 837, 'min_child_samples': 93}. Best is trial 69 with value: -2.1273308465274186.\u001b[0m\n"
     ]
    },
    {
     "name": "stdout",
     "output_type": "stream",
     "text": [
      "Early stopping, best iteration is:\n",
      "[18]\ttraining's l1: 1.81691\tvalid_1's l1: 2.13271\n",
      "[LightGBM] [Warning] feature_fraction is set=0.8725713428235351, colsample_bytree=0.5 will be ignored. Current value: feature_fraction=0.8725713428235351\n",
      "[LightGBM] [Warning] bagging_fraction is set=0.5658052376309837, subsample=0.7 will be ignored. Current value: bagging_fraction=0.5658052376309837\n",
      "[LightGBM] [Warning] bagging_freq is set=16, subsample_freq=0 will be ignored. Current value: bagging_freq=16\n",
      "Training until validation scores don't improve for 100 rounds\n",
      "[100]\ttraining's l1: 1.6615\tvalid_1's l1: 2.22654\n"
     ]
    },
    {
     "name": "stderr",
     "output_type": "stream",
     "text": [
      "\u001b[32m[I 2021-07-29 19:46:53,200]\u001b[0m Trial 75 finished with value: -2.137392264718315 and parameters: {'max_depth': 16, 'min_child_weight': 7, 'subsample': 0.7, 'colsample_bytree': 0.5, 'reg_lambda': 0.025586609619064473, 'reg_alpha': 0.0022287481935759673, 'feature_fraction': 0.8725713428235351, 'bagging_fraction': 0.5658052376309837, 'bagging_freq': 16, 'num_leaves': 836, 'min_child_samples': 98}. Best is trial 69 with value: -2.1273308465274186.\u001b[0m\n"
     ]
    },
    {
     "name": "stdout",
     "output_type": "stream",
     "text": [
      "Early stopping, best iteration is:\n",
      "[19]\ttraining's l1: 1.80645\tvalid_1's l1: 2.13739\n",
      "[LightGBM] [Warning] feature_fraction is set=0.9176743930133894, colsample_bytree=0.5 will be ignored. Current value: feature_fraction=0.9176743930133894\n",
      "[LightGBM] [Warning] bagging_fraction is set=0.4649325655549803, subsample=0.7 will be ignored. Current value: bagging_fraction=0.4649325655549803\n",
      "[LightGBM] [Warning] bagging_freq is set=15, subsample_freq=0 will be ignored. Current value: bagging_freq=15\n",
      "Training until validation scores don't improve for 100 rounds\n",
      "[100]\ttraining's l1: 1.67139\tvalid_1's l1: 2.2144\n"
     ]
    },
    {
     "name": "stderr",
     "output_type": "stream",
     "text": [
      "\u001b[32m[I 2021-07-29 19:47:03,135]\u001b[0m Trial 76 finished with value: -2.1321248343365973 and parameters: {'max_depth': 15, 'min_child_weight': 9, 'subsample': 0.7, 'colsample_bytree': 0.5, 'reg_lambda': 0.03927875255833259, 'reg_alpha': 0.01655300070666388, 'feature_fraction': 0.9176743930133894, 'bagging_fraction': 0.4649325655549803, 'bagging_freq': 15, 'num_leaves': 796, 'min_child_samples': 93}. Best is trial 69 with value: -2.1273308465274186.\u001b[0m\n"
     ]
    },
    {
     "name": "stdout",
     "output_type": "stream",
     "text": [
      "Early stopping, best iteration is:\n",
      "[18]\ttraining's l1: 1.82173\tvalid_1's l1: 2.13212\n",
      "[LightGBM] [Warning] feature_fraction is set=0.9202995777512075, colsample_bytree=0.5 will be ignored. Current value: feature_fraction=0.9202995777512075\n",
      "[LightGBM] [Warning] bagging_fraction is set=0.5914541593345405, subsample=0.7 will be ignored. Current value: bagging_fraction=0.5914541593345405\n",
      "[LightGBM] [Warning] bagging_freq is set=14, subsample_freq=0 will be ignored. Current value: bagging_freq=14\n",
      "Training until validation scores don't improve for 100 rounds\n",
      "[100]\ttraining's l1: 1.65583\tvalid_1's l1: 2.21842\n"
     ]
    },
    {
     "name": "stderr",
     "output_type": "stream",
     "text": [
      "\u001b[32m[I 2021-07-29 19:47:14,371]\u001b[0m Trial 77 finished with value: -2.13341101873318 and parameters: {'max_depth': 15, 'min_child_weight': 9, 'subsample': 0.7, 'colsample_bytree': 0.5, 'reg_lambda': 0.03779352370079684, 'reg_alpha': 0.0053526590765436335, 'feature_fraction': 0.9202995777512075, 'bagging_fraction': 0.5914541593345405, 'bagging_freq': 14, 'num_leaves': 974, 'min_child_samples': 92}. Best is trial 69 with value: -2.1273308465274186.\u001b[0m\n"
     ]
    },
    {
     "name": "stdout",
     "output_type": "stream",
     "text": [
      "Early stopping, best iteration is:\n",
      "[17]\ttraining's l1: 1.82145\tvalid_1's l1: 2.13341\n",
      "[LightGBM] [Warning] feature_fraction is set=0.8839216993999217, colsample_bytree=0.5 will be ignored. Current value: feature_fraction=0.8839216993999217\n",
      "[LightGBM] [Warning] bagging_fraction is set=0.4782056961690112, subsample=0.7 will be ignored. Current value: bagging_fraction=0.4782056961690112\n",
      "[LightGBM] [Warning] bagging_freq is set=15, subsample_freq=0 will be ignored. Current value: bagging_freq=15\n",
      "Training until validation scores don't improve for 100 rounds\n",
      "[100]\ttraining's l1: 1.67023\tvalid_1's l1: 2.21414\n"
     ]
    },
    {
     "name": "stderr",
     "output_type": "stream",
     "text": [
      "\u001b[32m[I 2021-07-29 19:47:24,144]\u001b[0m Trial 78 finished with value: -2.1338732266156213 and parameters: {'max_depth': 14, 'min_child_weight': 8, 'subsample': 0.7, 'colsample_bytree': 0.5, 'reg_lambda': 0.05953528865260421, 'reg_alpha': 0.01802016096912402, 'feature_fraction': 0.8839216993999217, 'bagging_fraction': 0.4782056961690112, 'bagging_freq': 15, 'num_leaves': 877, 'min_child_samples': 86}. Best is trial 69 with value: -2.1273308465274186.\u001b[0m\n"
     ]
    },
    {
     "name": "stdout",
     "output_type": "stream",
     "text": [
      "Early stopping, best iteration is:\n",
      "[18]\ttraining's l1: 1.82041\tvalid_1's l1: 2.13387\n",
      "[LightGBM] [Warning] feature_fraction is set=0.7664937750489367, colsample_bytree=0.5 will be ignored. Current value: feature_fraction=0.7664937750489367\n",
      "[LightGBM] [Warning] bagging_fraction is set=0.7136512651531591, subsample=0.8 will be ignored. Current value: bagging_fraction=0.7136512651531591\n",
      "[LightGBM] [Warning] bagging_freq is set=15, subsample_freq=0 will be ignored. Current value: bagging_freq=15\n",
      "Training until validation scores don't improve for 100 rounds\n",
      "[100]\ttraining's l1: 1.663\tvalid_1's l1: 2.21453\n"
     ]
    },
    {
     "name": "stderr",
     "output_type": "stream",
     "text": [
      "\u001b[32m[I 2021-07-29 19:47:34,406]\u001b[0m Trial 79 finished with value: -2.1518955512126325 and parameters: {'max_depth': 16, 'min_child_weight': 11, 'subsample': 0.8, 'colsample_bytree': 0.5, 'reg_lambda': 0.015384269341663915, 'reg_alpha': 0.009827911879823072, 'feature_fraction': 0.7664937750489367, 'bagging_fraction': 0.7136512651531591, 'bagging_freq': 15, 'num_leaves': 753, 'min_child_samples': 83}. Best is trial 69 with value: -2.1273308465274186.\u001b[0m\n"
     ]
    },
    {
     "name": "stdout",
     "output_type": "stream",
     "text": [
      "Early stopping, best iteration is:\n",
      "[23]\ttraining's l1: 1.78244\tvalid_1's l1: 2.1519\n",
      "[LightGBM] [Warning] feature_fraction is set=0.8625563198357129, colsample_bytree=0.5 will be ignored. Current value: feature_fraction=0.8625563198357129\n",
      "[LightGBM] [Warning] bagging_fraction is set=0.5223607428013154, subsample=0.7 will be ignored. Current value: bagging_fraction=0.5223607428013154\n",
      "[LightGBM] [Warning] bagging_freq is set=16, subsample_freq=0 will be ignored. Current value: bagging_freq=16\n",
      "Training until validation scores don't improve for 100 rounds\n",
      "[100]\ttraining's l1: 1.65532\tvalid_1's l1: 2.22386\n"
     ]
    },
    {
     "name": "stderr",
     "output_type": "stream",
     "text": [
      "\u001b[32m[I 2021-07-29 19:47:43,914]\u001b[0m Trial 80 finished with value: -2.1413512778508954 and parameters: {'max_depth': 14, 'min_child_weight': 8, 'subsample': 0.7, 'colsample_bytree': 0.5, 'reg_lambda': 0.05460681638722567, 'reg_alpha': 0.028386656942821827, 'feature_fraction': 0.8625563198357129, 'bagging_fraction': 0.5223607428013154, 'bagging_freq': 16, 'num_leaves': 860, 'min_child_samples': 55}. Best is trial 69 with value: -2.1273308465274186.\u001b[0m\n"
     ]
    },
    {
     "name": "stdout",
     "output_type": "stream",
     "text": [
      "Early stopping, best iteration is:\n",
      "[18]\ttraining's l1: 1.8233\tvalid_1's l1: 2.14135\n",
      "[LightGBM] [Warning] feature_fraction is set=0.9437300194386327, colsample_bytree=0.5 will be ignored. Current value: feature_fraction=0.9437300194386327\n",
      "[LightGBM] [Warning] bagging_fraction is set=0.45162231439785133, subsample=0.7 will be ignored. Current value: bagging_fraction=0.45162231439785133\n",
      "[LightGBM] [Warning] bagging_freq is set=19, subsample_freq=0 will be ignored. Current value: bagging_freq=19\n",
      "Training until validation scores don't improve for 100 rounds\n",
      "[100]\ttraining's l1: 1.67228\tvalid_1's l1: 2.22727\n"
     ]
    },
    {
     "name": "stderr",
     "output_type": "stream",
     "text": [
      "\u001b[32m[I 2021-07-29 19:47:52,449]\u001b[0m Trial 81 finished with value: -2.130692620460939 and parameters: {'max_depth': 15, 'min_child_weight': 10, 'subsample': 0.7, 'colsample_bytree': 0.5, 'reg_lambda': 0.007909248617891624, 'reg_alpha': 0.020505808783745343, 'feature_fraction': 0.9437300194386327, 'bagging_fraction': 0.45162231439785133, 'bagging_freq': 19, 'num_leaves': 784, 'min_child_samples': 94}. Best is trial 69 with value: -2.1273308465274186.\u001b[0m\n"
     ]
    },
    {
     "name": "stdout",
     "output_type": "stream",
     "text": [
      "Early stopping, best iteration is:\n",
      "[19]\ttraining's l1: 1.81158\tvalid_1's l1: 2.13069\n",
      "[LightGBM] [Warning] feature_fraction is set=0.9367028357310329, colsample_bytree=0.5 will be ignored. Current value: feature_fraction=0.9367028357310329\n",
      "[LightGBM] [Warning] bagging_fraction is set=0.4918512249239658, subsample=0.7 will be ignored. Current value: bagging_fraction=0.4918512249239658\n",
      "[LightGBM] [Warning] bagging_freq is set=14, subsample_freq=0 will be ignored. Current value: bagging_freq=14\n",
      "Training until validation scores don't improve for 100 rounds\n",
      "[100]\ttraining's l1: 1.67057\tvalid_1's l1: 2.21144\n"
     ]
    },
    {
     "name": "stderr",
     "output_type": "stream",
     "text": [
      "\u001b[32m[I 2021-07-29 19:48:01,317]\u001b[0m Trial 82 finished with value: -2.1271681303704506 and parameters: {'max_depth': 15, 'min_child_weight': 10, 'subsample': 0.7, 'colsample_bytree': 0.5, 'reg_lambda': 0.024881742520683536, 'reg_alpha': 0.017345922288425283, 'feature_fraction': 0.9367028357310329, 'bagging_fraction': 0.4918512249239658, 'bagging_freq': 14, 'num_leaves': 778, 'min_child_samples': 93}. Best is trial 82 with value: -2.1271681303704506.\u001b[0m\n"
     ]
    },
    {
     "name": "stdout",
     "output_type": "stream",
     "text": [
      "Early stopping, best iteration is:\n",
      "[18]\ttraining's l1: 1.82012\tvalid_1's l1: 2.12717\n",
      "[LightGBM] [Warning] feature_fraction is set=0.9356850826017101, colsample_bytree=0.5 will be ignored. Current value: feature_fraction=0.9356850826017101\n",
      "[LightGBM] [Warning] bagging_fraction is set=0.4575239318512788, subsample=0.7 will be ignored. Current value: bagging_fraction=0.4575239318512788\n",
      "[LightGBM] [Warning] bagging_freq is set=14, subsample_freq=0 will be ignored. Current value: bagging_freq=14\n",
      "Training until validation scores don't improve for 100 rounds\n",
      "[100]\ttraining's l1: 1.67293\tvalid_1's l1: 2.22362\n"
     ]
    },
    {
     "name": "stderr",
     "output_type": "stream",
     "text": [
      "\u001b[32m[I 2021-07-29 19:48:11,202]\u001b[0m Trial 83 finished with value: -2.1347969031903156 and parameters: {'max_depth': 15, 'min_child_weight': 10, 'subsample': 0.7, 'colsample_bytree': 0.5, 'reg_lambda': 0.1232376540906635, 'reg_alpha': 0.006828548221293816, 'feature_fraction': 0.9356850826017101, 'bagging_fraction': 0.4575239318512788, 'bagging_freq': 14, 'num_leaves': 780, 'min_child_samples': 100}. Best is trial 82 with value: -2.1271681303704506.\u001b[0m\n"
     ]
    },
    {
     "name": "stdout",
     "output_type": "stream",
     "text": [
      "Early stopping, best iteration is:\n",
      "[19]\ttraining's l1: 1.81064\tvalid_1's l1: 2.1348\n",
      "[LightGBM] [Warning] feature_fraction is set=0.8959008644306627, colsample_bytree=0.5 will be ignored. Current value: feature_fraction=0.8959008644306627\n",
      "[LightGBM] [Warning] bagging_fraction is set=0.5075157237590908, subsample=0.7 will be ignored. Current value: bagging_fraction=0.5075157237590908\n",
      "[LightGBM] [Warning] bagging_freq is set=17, subsample_freq=0 will be ignored. Current value: bagging_freq=17\n",
      "Training until validation scores don't improve for 100 rounds\n",
      "[100]\ttraining's l1: 1.67859\tvalid_1's l1: 2.21347\n"
     ]
    },
    {
     "name": "stderr",
     "output_type": "stream",
     "text": [
      "\u001b[32m[I 2021-07-29 19:48:19,529]\u001b[0m Trial 84 finished with value: -2.1359483503515646 and parameters: {'max_depth': 14, 'min_child_weight': 9, 'subsample': 0.7, 'colsample_bytree': 0.5, 'reg_lambda': 0.02286413263240859, 'reg_alpha': 0.013531068776860864, 'feature_fraction': 0.8959008644306627, 'bagging_fraction': 0.5075157237590908, 'bagging_freq': 17, 'num_leaves': 681, 'min_child_samples': 94}. Best is trial 82 with value: -2.1271681303704506.\u001b[0m\n"
     ]
    },
    {
     "name": "stdout",
     "output_type": "stream",
     "text": [
      "Early stopping, best iteration is:\n",
      "[19]\ttraining's l1: 1.82143\tvalid_1's l1: 2.13595\n",
      "[LightGBM] [Warning] feature_fraction is set=0.9414480888502244, colsample_bytree=0.5 will be ignored. Current value: feature_fraction=0.9414480888502244\n",
      "[LightGBM] [Warning] bagging_fraction is set=0.48518733373553974, subsample=0.7 will be ignored. Current value: bagging_fraction=0.48518733373553974\n",
      "[LightGBM] [Warning] bagging_freq is set=12, subsample_freq=0 will be ignored. Current value: bagging_freq=12\n",
      "Training until validation scores don't improve for 100 rounds\n",
      "[100]\ttraining's l1: 1.66546\tvalid_1's l1: 2.2257\n"
     ]
    },
    {
     "name": "stderr",
     "output_type": "stream",
     "text": [
      "\u001b[32m[I 2021-07-29 19:48:29,753]\u001b[0m Trial 85 finished with value: -2.1387139229249175 and parameters: {'max_depth': 15, 'min_child_weight': 10, 'subsample': 0.7, 'colsample_bytree': 0.5, 'reg_lambda': 0.2040992510693449, 'reg_alpha': 0.002211209186382746, 'feature_fraction': 0.9414480888502244, 'bagging_fraction': 0.48518733373553974, 'bagging_freq': 12, 'num_leaves': 816, 'min_child_samples': 97}. Best is trial 82 with value: -2.1271681303704506.\u001b[0m\n"
     ]
    },
    {
     "name": "stdout",
     "output_type": "stream",
     "text": [
      "Early stopping, best iteration is:\n",
      "[18]\ttraining's l1: 1.8196\tvalid_1's l1: 2.13871\n",
      "[LightGBM] [Warning] feature_fraction is set=0.9595441814744889, colsample_bytree=0.5 will be ignored. Current value: feature_fraction=0.9595441814744889\n",
      "[LightGBM] [Warning] bagging_fraction is set=0.6625623137020901, subsample=0.7 will be ignored. Current value: bagging_fraction=0.6625623137020901\n",
      "[LightGBM] [Warning] bagging_freq is set=11, subsample_freq=0 will be ignored. Current value: bagging_freq=11\n",
      "Training until validation scores don't improve for 100 rounds\n",
      "[100]\ttraining's l1: 1.65794\tvalid_1's l1: 2.21469\n"
     ]
    },
    {
     "name": "stderr",
     "output_type": "stream",
     "text": [
      "\u001b[32m[I 2021-07-29 19:48:40,552]\u001b[0m Trial 86 finished with value: -2.135102318443086 and parameters: {'max_depth': 13, 'min_child_weight': 11, 'subsample': 0.7, 'colsample_bytree': 0.5, 'reg_lambda': 0.03313625963905115, 'reg_alpha': 0.053685288551687076, 'feature_fraction': 0.9595441814744889, 'bagging_fraction': 0.6625623137020901, 'bagging_freq': 11, 'num_leaves': 909, 'min_child_samples': 77}. Best is trial 82 with value: -2.1271681303704506.\u001b[0m\n"
     ]
    },
    {
     "name": "stdout",
     "output_type": "stream",
     "text": [
      "Early stopping, best iteration is:\n",
      "[20]\ttraining's l1: 1.79246\tvalid_1's l1: 2.1351\n",
      "[LightGBM] [Warning] feature_fraction is set=0.8421557689751236, colsample_bytree=0.8 will be ignored. Current value: feature_fraction=0.8421557689751236\n",
      "[LightGBM] [Warning] bagging_fraction is set=0.5440763186152536, subsample=0.7 will be ignored. Current value: bagging_fraction=0.5440763186152536\n",
      "[LightGBM] [Warning] bagging_freq is set=15, subsample_freq=0 will be ignored. Current value: bagging_freq=15\n",
      "Training until validation scores don't improve for 100 rounds\n",
      "[100]\ttraining's l1: 1.67563\tvalid_1's l1: 2.20113\n"
     ]
    },
    {
     "name": "stderr",
     "output_type": "stream",
     "text": [
      "\u001b[32m[I 2021-07-29 19:48:49,946]\u001b[0m Trial 87 finished with value: -2.138068123897926 and parameters: {'max_depth': 14, 'min_child_weight': 12, 'subsample': 0.7, 'colsample_bytree': 0.8, 'reg_lambda': 0.07312670593497785, 'reg_alpha': 0.0037526692978465492, 'feature_fraction': 0.8421557689751236, 'bagging_fraction': 0.5440763186152536, 'bagging_freq': 15, 'num_leaves': 695, 'min_child_samples': 91}. Best is trial 82 with value: -2.1271681303704506.\u001b[0m\n"
     ]
    },
    {
     "name": "stdout",
     "output_type": "stream",
     "text": [
      "Early stopping, best iteration is:\n",
      "[17]\ttraining's l1: 1.84618\tvalid_1's l1: 2.13807\n",
      "[LightGBM] [Warning] feature_fraction is set=0.9055416382478615, colsample_bytree=0.5 will be ignored. Current value: feature_fraction=0.9055416382478615\n",
      "[LightGBM] [Warning] bagging_fraction is set=0.49023264217890883, subsample=0.7 will be ignored. Current value: bagging_fraction=0.49023264217890883\n",
      "[LightGBM] [Warning] bagging_freq is set=14, subsample_freq=0 will be ignored. Current value: bagging_freq=14\n",
      "Training until validation scores don't improve for 100 rounds\n",
      "[100]\ttraining's l1: 1.67293\tvalid_1's l1: 2.22017\n"
     ]
    },
    {
     "name": "stderr",
     "output_type": "stream",
     "text": [
      "\u001b[32m[I 2021-07-29 19:48:58,094]\u001b[0m Trial 88 finished with value: -2.1374521681618828 and parameters: {'max_depth': 13, 'min_child_weight': 9, 'subsample': 0.7, 'colsample_bytree': 0.5, 'reg_lambda': 0.014849443589972562, 'reg_alpha': 0.010136162482675758, 'feature_fraction': 0.9055416382478615, 'bagging_fraction': 0.49023264217890883, 'bagging_freq': 14, 'num_leaves': 975, 'min_child_samples': 87}. Best is trial 82 with value: -2.1271681303704506.\u001b[0m\n"
     ]
    },
    {
     "name": "stdout",
     "output_type": "stream",
     "text": [
      "Early stopping, best iteration is:\n",
      "[18]\ttraining's l1: 1.81309\tvalid_1's l1: 2.13745\n",
      "[LightGBM] [Warning] feature_fraction is set=0.9753355607966174, colsample_bytree=0.5 will be ignored. Current value: feature_fraction=0.9753355607966174\n",
      "[LightGBM] [Warning] bagging_fraction is set=0.4576891559413557, subsample=0.7 will be ignored. Current value: bagging_fraction=0.4576891559413557\n",
      "[LightGBM] [Warning] bagging_freq is set=13, subsample_freq=0 will be ignored. Current value: bagging_freq=13\n",
      "Training until validation scores don't improve for 100 rounds\n",
      "[100]\ttraining's l1: 1.66881\tvalid_1's l1: 2.22484\n"
     ]
    },
    {
     "name": "stderr",
     "output_type": "stream",
     "text": [
      "\u001b[32m[I 2021-07-29 19:49:06,879]\u001b[0m Trial 89 finished with value: -2.1375117829465213 and parameters: {'max_depth': 15, 'min_child_weight': 10, 'subsample': 0.7, 'colsample_bytree': 0.5, 'reg_lambda': 0.007878920713325006, 'reg_alpha': 0.005612545150323267, 'feature_fraction': 0.9753355607966174, 'bagging_fraction': 0.4576891559413557, 'bagging_freq': 13, 'num_leaves': 799, 'min_child_samples': 98}. Best is trial 82 with value: -2.1271681303704506.\u001b[0m\n"
     ]
    },
    {
     "name": "stdout",
     "output_type": "stream",
     "text": [
      "Early stopping, best iteration is:\n",
      "[18]\ttraining's l1: 1.8244\tvalid_1's l1: 2.13751\n",
      "[LightGBM] [Warning] feature_fraction is set=0.9527499300436356, colsample_bytree=0.5 will be ignored. Current value: feature_fraction=0.9527499300436356\n",
      "[LightGBM] [Warning] bagging_fraction is set=0.5183215385847606, subsample=0.8 will be ignored. Current value: bagging_fraction=0.5183215385847606\n",
      "[LightGBM] [Warning] bagging_freq is set=18, subsample_freq=0 will be ignored. Current value: bagging_freq=18\n",
      "Training until validation scores don't improve for 100 rounds\n",
      "[100]\ttraining's l1: 1.68037\tvalid_1's l1: 2.21315\n"
     ]
    },
    {
     "name": "stderr",
     "output_type": "stream",
     "text": [
      "\u001b[32m[I 2021-07-29 19:49:16,608]\u001b[0m Trial 90 finished with value: -2.1351840272079206 and parameters: {'max_depth': 16, 'min_child_weight': 8, 'subsample': 0.8, 'colsample_bytree': 0.5, 'reg_lambda': 0.043327880722871956, 'reg_alpha': 0.035179671391982276, 'feature_fraction': 0.9527499300436356, 'bagging_fraction': 0.5183215385847606, 'bagging_freq': 18, 'num_leaves': 599, 'min_child_samples': 82}. Best is trial 82 with value: -2.1271681303704506.\u001b[0m\n"
     ]
    },
    {
     "name": "stdout",
     "output_type": "stream",
     "text": [
      "Early stopping, best iteration is:\n",
      "[20]\ttraining's l1: 1.81552\tvalid_1's l1: 2.13518\n",
      "[LightGBM] [Warning] feature_fraction is set=0.9166850241835964, colsample_bytree=0.5 will be ignored. Current value: feature_fraction=0.9166850241835964\n",
      "[LightGBM] [Warning] bagging_fraction is set=0.5705590202215092, subsample=0.7 will be ignored. Current value: bagging_fraction=0.5705590202215092\n",
      "[LightGBM] [Warning] bagging_freq is set=16, subsample_freq=0 will be ignored. Current value: bagging_freq=16\n",
      "Training until validation scores don't improve for 100 rounds\n",
      "[100]\ttraining's l1: 1.65687\tvalid_1's l1: 2.21908\n"
     ]
    },
    {
     "name": "stderr",
     "output_type": "stream",
     "text": [
      "\u001b[32m[I 2021-07-29 19:49:28,249]\u001b[0m Trial 91 finished with value: -2.134652465509685 and parameters: {'max_depth': 17, 'min_child_weight': 7, 'subsample': 0.7, 'colsample_bytree': 0.5, 'reg_lambda': 0.00252194459851449, 'reg_alpha': 0.015659929069924843, 'feature_fraction': 0.9166850241835964, 'bagging_fraction': 0.5705590202215092, 'bagging_freq': 16, 'num_leaves': 836, 'min_child_samples': 93}. Best is trial 82 with value: -2.1271681303704506.\u001b[0m\n"
     ]
    },
    {
     "name": "stdout",
     "output_type": "stream",
     "text": [
      "Early stopping, best iteration is:\n",
      "[18]\ttraining's l1: 1.81916\tvalid_1's l1: 2.13465\n",
      "[LightGBM] [Warning] feature_fraction is set=0.8839335854682007, colsample_bytree=0.5 will be ignored. Current value: feature_fraction=0.8839335854682007\n",
      "[LightGBM] [Warning] bagging_fraction is set=0.597599751553106, subsample=0.7 will be ignored. Current value: bagging_fraction=0.597599751553106\n",
      "[LightGBM] [Warning] bagging_freq is set=15, subsample_freq=0 will be ignored. Current value: bagging_freq=15\n",
      "Training until validation scores don't improve for 100 rounds\n",
      "[100]\ttraining's l1: 1.66006\tvalid_1's l1: 2.22139\n"
     ]
    },
    {
     "name": "stderr",
     "output_type": "stream",
     "text": [
      "\u001b[32m[I 2021-07-29 19:49:37,894]\u001b[0m Trial 92 finished with value: -2.1411025342876098 and parameters: {'max_depth': 16, 'min_child_weight': 9, 'subsample': 0.7, 'colsample_bytree': 0.5, 'reg_lambda': 0.024314876431010306, 'reg_alpha': 0.019386728113093353, 'feature_fraction': 0.8839335854682007, 'bagging_fraction': 0.597599751553106, 'bagging_freq': 15, 'num_leaves': 744, 'min_child_samples': 90}. Best is trial 82 with value: -2.1271681303704506.\u001b[0m\n"
     ]
    },
    {
     "name": "stdout",
     "output_type": "stream",
     "text": [
      "Early stopping, best iteration is:\n",
      "[19]\ttraining's l1: 1.81538\tvalid_1's l1: 2.1411\n",
      "[LightGBM] [Warning] feature_fraction is set=0.9347478113805212, colsample_bytree=0.5 will be ignored. Current value: feature_fraction=0.9347478113805212\n",
      "[LightGBM] [Warning] bagging_fraction is set=0.5517533378637796, subsample=0.7 will be ignored. Current value: bagging_fraction=0.5517533378637796\n",
      "[LightGBM] [Warning] bagging_freq is set=17, subsample_freq=0 will be ignored. Current value: bagging_freq=17\n",
      "Training until validation scores don't improve for 100 rounds\n",
      "[100]\ttraining's l1: 1.65434\tvalid_1's l1: 2.22642\n"
     ]
    },
    {
     "name": "stderr",
     "output_type": "stream",
     "text": [
      "\u001b[32m[I 2021-07-29 19:49:49,331]\u001b[0m Trial 93 finished with value: -2.1375679863415704 and parameters: {'max_depth': 16, 'min_child_weight': 8, 'subsample': 0.7, 'colsample_bytree': 0.5, 'reg_lambda': 0.007984968932906938, 'reg_alpha': 0.024073938283330324, 'feature_fraction': 0.9347478113805212, 'bagging_fraction': 0.5517533378637796, 'bagging_freq': 17, 'num_leaves': 875, 'min_child_samples': 85}. Best is trial 82 with value: -2.1271681303704506.\u001b[0m\n"
     ]
    },
    {
     "name": "stdout",
     "output_type": "stream",
     "text": [
      "Early stopping, best iteration is:\n",
      "[18]\ttraining's l1: 1.81234\tvalid_1's l1: 2.13757\n",
      "[LightGBM] [Warning] feature_fraction is set=0.9108744244067937, colsample_bytree=0.5 will be ignored. Current value: feature_fraction=0.9108744244067937\n",
      "[LightGBM] [Warning] bagging_fraction is set=0.6255979450250172, subsample=0.7 will be ignored. Current value: bagging_fraction=0.6255979450250172\n",
      "[LightGBM] [Warning] bagging_freq is set=16, subsample_freq=0 will be ignored. Current value: bagging_freq=16\n",
      "Training until validation scores don't improve for 100 rounds\n",
      "[100]\ttraining's l1: 1.65931\tvalid_1's l1: 2.20977\n"
     ]
    },
    {
     "name": "stderr",
     "output_type": "stream",
     "text": [
      "\u001b[32m[I 2021-07-29 19:49:58,932]\u001b[0m Trial 94 finished with value: -2.127919462439528 and parameters: {'max_depth': 15, 'min_child_weight': 7, 'subsample': 0.7, 'colsample_bytree': 0.5, 'reg_lambda': 0.01857053527503692, 'reg_alpha': 0.338573864004858, 'feature_fraction': 0.9108744244067937, 'bagging_fraction': 0.6255979450250172, 'bagging_freq': 16, 'num_leaves': 776, 'min_child_samples': 94}. Best is trial 82 with value: -2.1271681303704506.\u001b[0m\n"
     ]
    },
    {
     "name": "stdout",
     "output_type": "stream",
     "text": [
      "Early stopping, best iteration is:\n",
      "[18]\ttraining's l1: 1.82009\tvalid_1's l1: 2.12792\n",
      "[LightGBM] [Warning] feature_fraction is set=0.978758196341706, colsample_bytree=0.5 will be ignored. Current value: feature_fraction=0.978758196341706\n",
      "[LightGBM] [Warning] bagging_fraction is set=0.6474778387859914, subsample=0.7 will be ignored. Current value: bagging_fraction=0.6474778387859914\n",
      "[LightGBM] [Warning] bagging_freq is set=14, subsample_freq=0 will be ignored. Current value: bagging_freq=14\n",
      "Training until validation scores don't improve for 100 rounds\n",
      "[100]\ttraining's l1: 1.84488\tvalid_1's l1: 2.20225\n"
     ]
    },
    {
     "name": "stderr",
     "output_type": "stream",
     "text": [
      "\u001b[32m[I 2021-07-29 19:50:04,533]\u001b[0m Trial 95 finished with value: -2.2010091975671395 and parameters: {'max_depth': 6, 'min_child_weight': 11, 'subsample': 0.7, 'colsample_bytree': 0.5, 'reg_lambda': 0.018307647659990087, 'reg_alpha': 0.37228461336069074, 'feature_fraction': 0.978758196341706, 'bagging_fraction': 0.6474778387859914, 'bagging_freq': 14, 'num_leaves': 784, 'min_child_samples': 100}. Best is trial 82 with value: -2.1271681303704506.\u001b[0m\n"
     ]
    },
    {
     "name": "stdout",
     "output_type": "stream",
     "text": [
      "Early stopping, best iteration is:\n",
      "[73]\ttraining's l1: 1.85563\tvalid_1's l1: 2.20106\n",
      "[LightGBM] [Warning] feature_fraction is set=0.9599214119810074, colsample_bytree=0.5 will be ignored. Current value: feature_fraction=0.9599214119810074\n",
      "[LightGBM] [Warning] bagging_fraction is set=0.6193770937632828, subsample=0.7 will be ignored. Current value: bagging_fraction=0.6193770937632828\n",
      "[LightGBM] [Warning] bagging_freq is set=19, subsample_freq=0 will be ignored. Current value: bagging_freq=19\n",
      "Training until validation scores don't improve for 100 rounds\n",
      "[100]\ttraining's l1: 1.67563\tvalid_1's l1: 2.19499\n"
     ]
    },
    {
     "name": "stderr",
     "output_type": "stream",
     "text": [
      "\u001b[32m[I 2021-07-29 19:50:13,606]\u001b[0m Trial 96 finished with value: -2.137531179799216 and parameters: {'max_depth': 12, 'min_child_weight': 10, 'subsample': 0.7, 'colsample_bytree': 0.5, 'reg_lambda': 0.03320774300617271, 'reg_alpha': 1.120116680785073, 'feature_fraction': 0.9599214119810074, 'bagging_fraction': 0.6193770937632828, 'bagging_freq': 19, 'num_leaves': 722, 'min_child_samples': 60}. Best is trial 82 with value: -2.1271681303704506.\u001b[0m\n"
     ]
    },
    {
     "name": "stdout",
     "output_type": "stream",
     "text": [
      "Early stopping, best iteration is:\n",
      "[19]\ttraining's l1: 1.82307\tvalid_1's l1: 2.13753\n",
      "[LightGBM] [Warning] feature_fraction is set=0.9072355477303585, colsample_bytree=0.5 will be ignored. Current value: feature_fraction=0.9072355477303585\n",
      "[LightGBM] [Warning] bagging_fraction is set=0.6745197934723081, subsample=0.7 will be ignored. Current value: bagging_fraction=0.6745197934723081\n",
      "[LightGBM] [Warning] bagging_freq is set=15, subsample_freq=0 will be ignored. Current value: bagging_freq=15\n",
      "Training until validation scores don't improve for 100 rounds\n",
      "[100]\ttraining's l1: 1.65423\tvalid_1's l1: 2.2005\n"
     ]
    },
    {
     "name": "stderr",
     "output_type": "stream",
     "text": [
      "\u001b[32m[I 2021-07-29 19:50:23,807]\u001b[0m Trial 97 finished with value: -2.132554455305734 and parameters: {'max_depth': 15, 'min_child_weight': 9, 'subsample': 0.7, 'colsample_bytree': 0.5, 'reg_lambda': 0.004624616523195428, 'reg_alpha': 0.31258836589259414, 'feature_fraction': 0.9072355477303585, 'bagging_fraction': 0.6745197934723081, 'bagging_freq': 15, 'num_leaves': 929, 'min_child_samples': 96}. Best is trial 82 with value: -2.1271681303704506.\u001b[0m\n"
     ]
    },
    {
     "name": "stdout",
     "output_type": "stream",
     "text": [
      "Early stopping, best iteration is:\n",
      "[18]\ttraining's l1: 1.81248\tvalid_1's l1: 2.13255\n",
      "[LightGBM] [Warning] feature_fraction is set=0.8775611214004284, colsample_bytree=0.6 will be ignored. Current value: feature_fraction=0.8775611214004284\n",
      "[LightGBM] [Warning] bagging_fraction is set=0.6983506741830772, subsample=0.7 will be ignored. Current value: bagging_fraction=0.6983506741830772\n",
      "[LightGBM] [Warning] bagging_freq is set=18, subsample_freq=0 will be ignored. Current value: bagging_freq=18\n",
      "Training until validation scores don't improve for 100 rounds\n",
      "[100]\ttraining's l1: 1.66645\tvalid_1's l1: 2.20193\n"
     ]
    },
    {
     "name": "stderr",
     "output_type": "stream",
     "text": [
      "\u001b[32m[I 2021-07-29 19:50:33,006]\u001b[0m Trial 98 finished with value: -2.1399308283926817 and parameters: {'max_depth': 13, 'min_child_weight': 7, 'subsample': 0.7, 'colsample_bytree': 0.6, 'reg_lambda': 0.40160697371949394, 'reg_alpha': 2.3158424950766423, 'feature_fraction': 0.8775611214004284, 'bagging_fraction': 0.6983506741830772, 'bagging_freq': 18, 'num_leaves': 768, 'min_child_samples': 88}. Best is trial 82 with value: -2.1271681303704506.\u001b[0m\n"
     ]
    },
    {
     "name": "stdout",
     "output_type": "stream",
     "text": [
      "Early stopping, best iteration is:\n",
      "[18]\ttraining's l1: 1.82946\tvalid_1's l1: 2.13993\n",
      "[LightGBM] [Warning] feature_fraction is set=0.9330255103722638, colsample_bytree=0.5 will be ignored. Current value: feature_fraction=0.9330255103722638\n",
      "[LightGBM] [Warning] bagging_fraction is set=0.6355978812437514, subsample=0.7 will be ignored. Current value: bagging_fraction=0.6355978812437514\n",
      "[LightGBM] [Warning] bagging_freq is set=16, subsample_freq=0 will be ignored. Current value: bagging_freq=16\n",
      "Training until validation scores don't improve for 100 rounds\n",
      "[100]\ttraining's l1: 1.66262\tvalid_1's l1: 2.2117\n"
     ]
    },
    {
     "name": "stderr",
     "output_type": "stream",
     "text": [
      "\u001b[32m[I 2021-07-29 19:50:42,819]\u001b[0m Trial 99 finished with value: -2.13336593489618 and parameters: {'max_depth': 14, 'min_child_weight': 8, 'subsample': 0.7, 'colsample_bytree': 0.5, 'reg_lambda': 0.055099711480010874, 'reg_alpha': 0.13963485430899353, 'feature_fraction': 0.9330255103722638, 'bagging_fraction': 0.6355978812437514, 'bagging_freq': 16, 'num_leaves': 893, 'min_child_samples': 94}. Best is trial 82 with value: -2.1271681303704506.\u001b[0m\n",
      "\u001b[32m[I 2021-07-29 19:50:42,821]\u001b[0m A new study created in memory with name: no-name-c2eacfa3-c503-4f64-be43-62490575618f\u001b[0m\n"
     ]
    },
    {
     "name": "stdout",
     "output_type": "stream",
     "text": [
      "Early stopping, best iteration is:\n",
      "[19]\ttraining's l1: 1.80109\tvalid_1's l1: 2.13337\n",
      "[LightGBM] [Warning] feature_fraction is set=0.5731443749030878, colsample_bytree=0.7 will be ignored. Current value: feature_fraction=0.5731443749030878\n",
      "[LightGBM] [Warning] bagging_fraction is set=0.48414107079777025, subsample=0.8 will be ignored. Current value: bagging_fraction=0.48414107079777025\n",
      "[LightGBM] [Warning] bagging_freq is set=10, subsample_freq=0 will be ignored. Current value: bagging_freq=10\n",
      "Training until validation scores don't improve for 100 rounds\n",
      "[100]\ttraining's l1: 1.00573\tvalid_1's l1: 0.903472\n"
     ]
    },
    {
     "name": "stderr",
     "output_type": "stream",
     "text": [
      "\u001b[32m[I 2021-07-29 19:50:51,278]\u001b[0m Trial 0 finished with value: -0.8989239236475384 and parameters: {'max_depth': 17, 'min_child_weight': 5, 'subsample': 0.8, 'colsample_bytree': 0.7, 'reg_lambda': 0.060378003543600435, 'reg_alpha': 28.11737547067, 'feature_fraction': 0.5731443749030878, 'bagging_fraction': 0.48414107079777025, 'bagging_freq': 10, 'num_leaves': 315, 'min_child_samples': 64}. Best is trial 0 with value: -0.8989239236475384.\u001b[0m\n"
     ]
    },
    {
     "name": "stdout",
     "output_type": "stream",
     "text": [
      "Early stopping, best iteration is:\n",
      "[40]\ttraining's l1: 1.01465\tvalid_1's l1: 0.898925\n",
      "[LightGBM] [Warning] feature_fraction is set=0.21987408989230392, colsample_bytree=0.7 will be ignored. Current value: feature_fraction=0.21987408989230392\n",
      "[LightGBM] [Warning] bagging_fraction is set=0.6066005644939556, subsample=0.8 will be ignored. Current value: bagging_fraction=0.6066005644939556\n",
      "[LightGBM] [Warning] bagging_freq is set=9, subsample_freq=0 will be ignored. Current value: bagging_freq=9\n",
      "Training until validation scores don't improve for 100 rounds\n",
      "[100]\ttraining's l1: 1.00631\tvalid_1's l1: 0.901675\n"
     ]
    },
    {
     "name": "stderr",
     "output_type": "stream",
     "text": [
      "\u001b[32m[I 2021-07-29 19:50:56,964]\u001b[0m Trial 1 finished with value: -0.8989547485812803 and parameters: {'max_depth': 9, 'min_child_weight': 18, 'subsample': 0.8, 'colsample_bytree': 0.7, 'reg_lambda': 0.0017706237251475863, 'reg_alpha': 0.7175497198282934, 'feature_fraction': 0.21987408989230392, 'bagging_fraction': 0.6066005644939556, 'bagging_freq': 9, 'num_leaves': 191, 'min_child_samples': 77}. Best is trial 0 with value: -0.8989239236475384.\u001b[0m\n"
     ]
    },
    {
     "name": "stdout",
     "output_type": "stream",
     "text": [
      "Early stopping, best iteration is:\n",
      "[60]\ttraining's l1: 1.01305\tvalid_1's l1: 0.898957\n",
      "[LightGBM] [Warning] feature_fraction is set=0.250946971838028, colsample_bytree=0.5 will be ignored. Current value: feature_fraction=0.250946971838028\n",
      "[LightGBM] [Warning] bagging_fraction is set=0.9407931820343414, subsample=0.7 will be ignored. Current value: bagging_fraction=0.9407931820343414\n",
      "[LightGBM] [Warning] bagging_freq is set=3, subsample_freq=0 will be ignored. Current value: bagging_freq=3\n",
      "Training until validation scores don't improve for 100 rounds\n",
      "[100]\ttraining's l1: 0.992025\tvalid_1's l1: 0.912405\n"
     ]
    },
    {
     "name": "stderr",
     "output_type": "stream",
     "text": [
      "\u001b[32m[I 2021-07-29 19:51:06,118]\u001b[0m Trial 2 finished with value: -0.9024915174540497 and parameters: {'max_depth': 13, 'min_child_weight': 14, 'subsample': 0.7, 'colsample_bytree': 0.5, 'reg_lambda': 28.960315720455778, 'reg_alpha': 15.811048593371705, 'feature_fraction': 0.250946971838028, 'bagging_fraction': 0.9407931820343414, 'bagging_freq': 3, 'num_leaves': 934, 'min_child_samples': 93}. Best is trial 0 with value: -0.8989239236475384.\u001b[0m\n"
     ]
    },
    {
     "name": "stdout",
     "output_type": "stream",
     "text": [
      "Early stopping, best iteration is:\n",
      "[26]\ttraining's l1: 1.01693\tvalid_1's l1: 0.902493\n",
      "[LightGBM] [Warning] feature_fraction is set=0.6071308998605036, colsample_bytree=0.6 will be ignored. Current value: feature_fraction=0.6071308998605036\n",
      "[LightGBM] [Warning] bagging_fraction is set=0.784470732201336, subsample=0.8 will be ignored. Current value: bagging_fraction=0.784470732201336\n",
      "[LightGBM] [Warning] bagging_freq is set=18, subsample_freq=0 will be ignored. Current value: bagging_freq=18\n",
      "Training until validation scores don't improve for 100 rounds\n",
      "[100]\ttraining's l1: 0.994339\tvalid_1's l1: 0.907145\n"
     ]
    },
    {
     "name": "stderr",
     "output_type": "stream",
     "text": [
      "\u001b[32m[I 2021-07-29 19:51:17,158]\u001b[0m Trial 3 finished with value: -0.9003176021488072 and parameters: {'max_depth': 13, 'min_child_weight': 12, 'subsample': 0.8, 'colsample_bytree': 0.6, 'reg_lambda': 0.005306175495466688, 'reg_alpha': 51.442709218107225, 'feature_fraction': 0.6071308998605036, 'bagging_fraction': 0.784470732201336, 'bagging_freq': 18, 'num_leaves': 959, 'min_child_samples': 48}. Best is trial 0 with value: -0.8989239236475384.\u001b[0m\n"
     ]
    },
    {
     "name": "stdout",
     "output_type": "stream",
     "text": [
      "Early stopping, best iteration is:\n",
      "[26]\ttraining's l1: 1.01596\tvalid_1's l1: 0.900318\n",
      "[LightGBM] [Warning] feature_fraction is set=0.9583784573296277, colsample_bytree=0.9 will be ignored. Current value: feature_fraction=0.9583784573296277\n",
      "[LightGBM] [Warning] bagging_fraction is set=0.5806032620663326, subsample=0.6 will be ignored. Current value: bagging_fraction=0.5806032620663326\n",
      "[LightGBM] [Warning] bagging_freq is set=13, subsample_freq=0 will be ignored. Current value: bagging_freq=13\n",
      "Training until validation scores don't improve for 100 rounds\n",
      "[100]\ttraining's l1: 1.00692\tvalid_1's l1: 0.895642\n"
     ]
    },
    {
     "name": "stderr",
     "output_type": "stream",
     "text": [
      "\u001b[32m[I 2021-07-29 19:51:24,243]\u001b[0m Trial 4 finished with value: -0.8943500154280541 and parameters: {'max_depth': 9, 'min_child_weight': 9, 'subsample': 0.6, 'colsample_bytree': 0.9, 'reg_lambda': 1.2523683110277302, 'reg_alpha': 1.86040513012846, 'feature_fraction': 0.9583784573296277, 'bagging_fraction': 0.5806032620663326, 'bagging_freq': 13, 'num_leaves': 334, 'min_child_samples': 37}. Best is trial 4 with value: -0.8943500154280541.\u001b[0m\n"
     ]
    },
    {
     "name": "stdout",
     "output_type": "stream",
     "text": [
      "Early stopping, best iteration is:\n",
      "[49]\ttraining's l1: 1.0132\tvalid_1's l1: 0.894354\n",
      "[LightGBM] [Warning] feature_fraction is set=0.908344031541767, colsample_bytree=0.8 will be ignored. Current value: feature_fraction=0.908344031541767\n",
      "[LightGBM] [Warning] bagging_fraction is set=0.767795107100415, subsample=0.5 will be ignored. Current value: bagging_fraction=0.767795107100415\n",
      "[LightGBM] [Warning] bagging_freq is set=4, subsample_freq=0 will be ignored. Current value: bagging_freq=4\n",
      "Training until validation scores don't improve for 100 rounds\n",
      "[100]\ttraining's l1: 1.04785\tvalid_1's l1: 0.912127\n",
      "[200]\ttraining's l1: 1.04377\tvalid_1's l1: 0.908471\n",
      "[300]\ttraining's l1: 1.04167\tvalid_1's l1: 0.90643\n",
      "[400]\ttraining's l1: 1.04071\tvalid_1's l1: 0.905845\n",
      "[500]\ttraining's l1: 1.03975\tvalid_1's l1: 0.905134\n"
     ]
    },
    {
     "name": "stderr",
     "output_type": "stream",
     "text": [
      "\u001b[32m[I 2021-07-29 19:51:38,557]\u001b[0m Trial 5 finished with value: -0.905076974598148 and parameters: {'max_depth': 2, 'min_child_weight': 16, 'subsample': 0.5, 'colsample_bytree': 0.8, 'reg_lambda': 29.54511235058358, 'reg_alpha': 3.9840168445642528, 'feature_fraction': 0.908344031541767, 'bagging_fraction': 0.767795107100415, 'bagging_freq': 4, 'num_leaves': 48, 'min_child_samples': 10}. Best is trial 4 with value: -0.8943500154280541.\u001b[0m\n"
     ]
    },
    {
     "name": "stdout",
     "output_type": "stream",
     "text": [
      "Early stopping, best iteration is:\n",
      "[474]\ttraining's l1: 1.03976\tvalid_1's l1: 0.905103\n",
      "[LightGBM] [Warning] feature_fraction is set=0.5795661009658708, colsample_bytree=0.7 will be ignored. Current value: feature_fraction=0.5795661009658708\n",
      "[LightGBM] [Warning] bagging_fraction is set=0.5477026555528123, subsample=0.8 will be ignored. Current value: bagging_fraction=0.5477026555528123\n",
      "[LightGBM] [Warning] bagging_freq is set=1, subsample_freq=0 will be ignored. Current value: bagging_freq=1\n",
      "Training until validation scores don't improve for 100 rounds\n",
      "[100]\ttraining's l1: 1.01457\tvalid_1's l1: 0.900879\n",
      "[200]\ttraining's l1: 1.00942\tvalid_1's l1: 0.90201\n"
     ]
    },
    {
     "name": "stderr",
     "output_type": "stream",
     "text": [
      "\u001b[32m[I 2021-07-29 19:51:47,869]\u001b[0m Trial 6 finished with value: -0.9007971203646913 and parameters: {'max_depth': 8, 'min_child_weight': 12, 'subsample': 0.8, 'colsample_bytree': 0.7, 'reg_lambda': 3.5852589698450523, 'reg_alpha': 45.40257981153432, 'feature_fraction': 0.5795661009658708, 'bagging_fraction': 0.5477026555528123, 'bagging_freq': 1, 'num_leaves': 533, 'min_child_samples': 42}. Best is trial 4 with value: -0.8943500154280541.\u001b[0m\n"
     ]
    },
    {
     "name": "stdout",
     "output_type": "stream",
     "text": [
      "Early stopping, best iteration is:\n",
      "[132]\ttraining's l1: 1.0127\tvalid_1's l1: 0.900825\n",
      "[LightGBM] [Warning] feature_fraction is set=0.5832646301703606, colsample_bytree=0.7 will be ignored. Current value: feature_fraction=0.5832646301703606\n",
      "[LightGBM] [Warning] bagging_fraction is set=0.49968450921419233, subsample=0.6 will be ignored. Current value: bagging_fraction=0.49968450921419233\n",
      "[LightGBM] [Warning] bagging_freq is set=9, subsample_freq=0 will be ignored. Current value: bagging_freq=9\n",
      "Training until validation scores don't improve for 100 rounds\n",
      "[100]\ttraining's l1: 0.989173\tvalid_1's l1: 0.909733\n"
     ]
    },
    {
     "name": "stderr",
     "output_type": "stream",
     "text": [
      "\u001b[32m[I 2021-07-29 19:51:58,124]\u001b[0m Trial 7 finished with value: -0.8990350991355093 and parameters: {'max_depth': 15, 'min_child_weight': 17, 'subsample': 0.6, 'colsample_bytree': 0.7, 'reg_lambda': 2.085903013712966, 'reg_alpha': 2.229352090312683, 'feature_fraction': 0.5832646301703606, 'bagging_fraction': 0.49968450921419233, 'bagging_freq': 9, 'num_leaves': 687, 'min_child_samples': 46}. Best is trial 4 with value: -0.8943500154280541.\u001b[0m\n"
     ]
    },
    {
     "name": "stdout",
     "output_type": "stream",
     "text": [
      "Early stopping, best iteration is:\n",
      "[28]\ttraining's l1: 1.0085\tvalid_1's l1: 0.899037\n",
      "[LightGBM] [Warning] feature_fraction is set=0.2651001065336597, colsample_bytree=0.9 will be ignored. Current value: feature_fraction=0.2651001065336597\n",
      "[LightGBM] [Warning] bagging_fraction is set=0.9212269631185637, subsample=0.9 will be ignored. Current value: bagging_fraction=0.9212269631185637\n",
      "[LightGBM] [Warning] bagging_freq is set=20, subsample_freq=0 will be ignored. Current value: bagging_freq=20\n",
      "Training until validation scores don't improve for 100 rounds\n",
      "[100]\ttraining's l1: 1.03326\tvalid_1's l1: 0.904788\n",
      "[200]\ttraining's l1: 1.03291\tvalid_1's l1: 0.904584\n",
      "[300]\ttraining's l1: 1.03061\tvalid_1's l1: 0.904078\n",
      "[400]\ttraining's l1: 1.02637\tvalid_1's l1: 0.902093\n",
      "[500]\ttraining's l1: 1.02429\tvalid_1's l1: 0.90182\n",
      "[600]\ttraining's l1: 1.02212\tvalid_1's l1: 0.900915\n",
      "Early stopping, best iteration is:\n",
      "[550]\ttraining's l1: 1.02314\tvalid_1's l1: 0.900328\n"
     ]
    },
    {
     "name": "stderr",
     "output_type": "stream",
     "text": [
      "\u001b[32m[I 2021-07-29 19:52:18,108]\u001b[0m Trial 8 finished with value: -0.9002885215980864 and parameters: {'max_depth': 19, 'min_child_weight': 18, 'subsample': 0.9, 'colsample_bytree': 0.9, 'reg_lambda': 0.014348978677848815, 'reg_alpha': 0.07004148661501214, 'feature_fraction': 0.2651001065336597, 'bagging_fraction': 0.9212269631185637, 'bagging_freq': 20, 'num_leaves': 57, 'min_child_samples': 5}. Best is trial 4 with value: -0.8943500154280541.\u001b[0m\n"
     ]
    },
    {
     "name": "stdout",
     "output_type": "stream",
     "text": [
      "[LightGBM] [Warning] feature_fraction is set=0.2957836767063462, colsample_bytree=0.7 will be ignored. Current value: feature_fraction=0.2957836767063462\n",
      "[LightGBM] [Warning] bagging_fraction is set=0.39669640195471056, subsample=0.7 will be ignored. Current value: bagging_fraction=0.39669640195471056\n",
      "[LightGBM] [Warning] bagging_freq is set=1, subsample_freq=0 will be ignored. Current value: bagging_freq=1\n",
      "Training until validation scores don't improve for 100 rounds\n",
      "[100]\ttraining's l1: 1.02564\tvalid_1's l1: 0.913563\n"
     ]
    },
    {
     "name": "stderr",
     "output_type": "stream",
     "text": [
      "\u001b[32m[I 2021-07-29 19:52:23,952]\u001b[0m Trial 9 finished with value: -0.9123977639804628 and parameters: {'max_depth': 13, 'min_child_weight': 17, 'subsample': 0.7, 'colsample_bytree': 0.7, 'reg_lambda': 0.0015616189391863223, 'reg_alpha': 289.82023659874227, 'feature_fraction': 0.2957836767063462, 'bagging_fraction': 0.39669640195471056, 'bagging_freq': 1, 'num_leaves': 709, 'min_child_samples': 46}. Best is trial 4 with value: -0.8943500154280541.\u001b[0m\n"
     ]
    },
    {
     "name": "stdout",
     "output_type": "stream",
     "text": [
      "Early stopping, best iteration is:\n",
      "[35]\ttraining's l1: 1.03576\tvalid_1's l1: 0.912423\n",
      "[LightGBM] [Warning] feature_fraction is set=0.9817504801184307, colsample_bytree=0.9 will be ignored. Current value: feature_fraction=0.9817504801184307\n",
      "[LightGBM] [Warning] bagging_fraction is set=0.2559154025395148, subsample=0.5 will be ignored. Current value: bagging_fraction=0.2559154025395148\n",
      "[LightGBM] [Warning] bagging_freq is set=14, subsample_freq=0 will be ignored. Current value: bagging_freq=14\n",
      "Training until validation scores don't improve for 100 rounds\n",
      "[100]\ttraining's l1: 1.03756\tvalid_1's l1: 0.907253\n",
      "[200]\ttraining's l1: 1.03586\tvalid_1's l1: 0.906205\n",
      "[300]\ttraining's l1: 1.03283\tvalid_1's l1: 0.904984\n"
     ]
    },
    {
     "name": "stderr",
     "output_type": "stream",
     "text": [
      "\u001b[32m[I 2021-07-29 19:52:29,130]\u001b[0m Trial 10 finished with value: -0.9040943728651057 and parameters: {'max_depth': 4, 'min_child_weight': 6, 'subsample': 0.5, 'colsample_bytree': 0.9, 'reg_lambda': 396.8407538206757, 'reg_alpha': 0.0018862126976660482, 'feature_fraction': 0.9817504801184307, 'bagging_fraction': 0.2559154025395148, 'bagging_freq': 14, 'num_leaves': 351, 'min_child_samples': 25}. Best is trial 4 with value: -0.8943500154280541.\u001b[0m\n"
     ]
    },
    {
     "name": "stdout",
     "output_type": "stream",
     "text": [
      "Early stopping, best iteration is:\n",
      "[251]\ttraining's l1: 1.03384\tvalid_1's l1: 0.904109\n",
      "[LightGBM] [Warning] feature_fraction is set=0.7790252670598455, colsample_bytree=0.8 will be ignored. Current value: feature_fraction=0.7790252670598455\n",
      "[LightGBM] [Warning] bagging_fraction is set=0.3557846815689101, subsample=0.6 will be ignored. Current value: bagging_fraction=0.3557846815689101\n",
      "[LightGBM] [Warning] bagging_freq is set=13, subsample_freq=0 will be ignored. Current value: bagging_freq=13\n",
      "Training until validation scores don't improve for 100 rounds\n",
      "[100]\ttraining's l1: 1.00264\tvalid_1's l1: 0.906277\n"
     ]
    },
    {
     "name": "stderr",
     "output_type": "stream",
     "text": [
      "\u001b[32m[I 2021-07-29 19:52:35,528]\u001b[0m Trial 11 finished with value: -0.8988743570259414 and parameters: {'max_depth': 20, 'min_child_weight': 1, 'subsample': 0.6, 'colsample_bytree': 0.8, 'reg_lambda': 0.11774587346769903, 'reg_alpha': 0.14163365533650407, 'feature_fraction': 0.7790252670598455, 'bagging_fraction': 0.3557846815689101, 'bagging_freq': 13, 'num_leaves': 357, 'min_child_samples': 68}. Best is trial 4 with value: -0.8943500154280541.\u001b[0m\n"
     ]
    },
    {
     "name": "stdout",
     "output_type": "stream",
     "text": [
      "Early stopping, best iteration is:\n",
      "[32]\ttraining's l1: 1.01581\tvalid_1's l1: 0.898875\n",
      "[LightGBM] [Warning] feature_fraction is set=0.799966367338677, colsample_bytree=0.9 will be ignored. Current value: feature_fraction=0.799966367338677\n",
      "[LightGBM] [Warning] bagging_fraction is set=0.2221852633494904, subsample=0.6 will be ignored. Current value: bagging_fraction=0.2221852633494904\n",
      "[LightGBM] [Warning] bagging_freq is set=14, subsample_freq=0 will be ignored. Current value: bagging_freq=14\n",
      "Training until validation scores don't improve for 100 rounds\n",
      "[100]\ttraining's l1: 1.02254\tvalid_1's l1: 0.898277\n"
     ]
    },
    {
     "name": "stderr",
     "output_type": "stream",
     "text": [
      "\u001b[32m[I 2021-07-29 19:52:39,236]\u001b[0m Trial 12 finished with value: -0.897852577591422 and parameters: {'max_depth': 6, 'min_child_weight': 1, 'subsample': 0.6, 'colsample_bytree': 0.9, 'reg_lambda': 0.19832003240519325, 'reg_alpha': 0.02739070708317994, 'feature_fraction': 0.799966367338677, 'bagging_fraction': 0.2221852633494904, 'bagging_freq': 14, 'num_leaves': 456, 'min_child_samples': 72}. Best is trial 4 with value: -0.8943500154280541.\u001b[0m\n"
     ]
    },
    {
     "name": "stdout",
     "output_type": "stream",
     "text": [
      "Early stopping, best iteration is:\n",
      "[82]\ttraining's l1: 1.02362\tvalid_1's l1: 0.897859\n",
      "[LightGBM] [Warning] feature_fraction is set=0.8181455681676901, colsample_bytree=0.9 will be ignored. Current value: feature_fraction=0.8181455681676901\n",
      "[LightGBM] [Warning] bagging_fraction is set=0.20755908024315495, subsample=0.6 will be ignored. Current value: bagging_fraction=0.20755908024315495\n",
      "[LightGBM] [Warning] bagging_freq is set=16, subsample_freq=0 will be ignored. Current value: bagging_freq=16\n",
      "Training until validation scores don't improve for 100 rounds\n",
      "[100]\ttraining's l1: 1.02458\tvalid_1's l1: 0.900565\n",
      "[200]\ttraining's l1: 1.02078\tvalid_1's l1: 0.899532\n"
     ]
    },
    {
     "name": "stderr",
     "output_type": "stream",
     "text": [
      "\u001b[32m[I 2021-07-29 19:52:43,503]\u001b[0m Trial 13 finished with value: -0.8993589719539079 and parameters: {'max_depth': 6, 'min_child_weight': 7, 'subsample': 0.6, 'colsample_bytree': 0.9, 'reg_lambda': 0.26951754795151533, 'reg_alpha': 0.007100377077010915, 'feature_fraction': 0.8181455681676901, 'bagging_fraction': 0.20755908024315495, 'bagging_freq': 16, 'num_leaves': 531, 'min_child_samples': 97}. Best is trial 4 with value: -0.8943500154280541.\u001b[0m\n"
     ]
    },
    {
     "name": "stdout",
     "output_type": "stream",
     "text": [
      "Early stopping, best iteration is:\n",
      "[136]\ttraining's l1: 1.02182\tvalid_1's l1: 0.899374\n",
      "[LightGBM] [Warning] feature_fraction is set=0.7431224361210367, colsample_bytree=0.8 will be ignored. Current value: feature_fraction=0.7431224361210367\n",
      "[LightGBM] [Warning] bagging_fraction is set=0.6880314583593079, subsample=0.6 will be ignored. Current value: bagging_fraction=0.6880314583593079\n",
      "[LightGBM] [Warning] bagging_freq is set=13, subsample_freq=0 will be ignored. Current value: bagging_freq=13\n",
      "Training until validation scores don't improve for 100 rounds\n",
      "[100]\ttraining's l1: 1.0576\tvalid_1's l1: 0.924319\n",
      "[200]\ttraining's l1: 1.05755\tvalid_1's l1: 0.924266\n",
      "[300]\ttraining's l1: 1.05571\tvalid_1's l1: 0.922612\n",
      "[400]\ttraining's l1: 1.05571\tvalid_1's l1: 0.92261\n",
      "[500]\ttraining's l1: 1.05571\tvalid_1's l1: 0.92261\n",
      "[600]\ttraining's l1: 1.05571\tvalid_1's l1: 0.92261\n"
     ]
    },
    {
     "name": "stderr",
     "output_type": "stream",
     "text": [
      "\u001b[32m[I 2021-07-29 19:52:55,163]\u001b[0m Trial 14 finished with value: -0.9226080847998026 and parameters: {'max_depth': 1, 'min_child_weight': 1, 'subsample': 0.6, 'colsample_bytree': 0.8, 'reg_lambda': 0.43851653590217377, 'reg_alpha': 0.02647094840574161, 'feature_fraction': 0.7431224361210367, 'bagging_fraction': 0.6880314583593079, 'bagging_freq': 13, 'num_leaves': 221, 'min_child_samples': 31}. Best is trial 4 with value: -0.8943500154280541.\u001b[0m\n"
     ]
    },
    {
     "name": "stdout",
     "output_type": "stream",
     "text": [
      "Early stopping, best iteration is:\n",
      "[597]\ttraining's l1: 1.05571\tvalid_1's l1: 0.92261\n",
      "[LightGBM] [Warning] feature_fraction is set=0.9877193544353084, colsample_bytree=0.9 will be ignored. Current value: feature_fraction=0.9877193544353084\n",
      "[LightGBM] [Warning] bagging_fraction is set=0.32944067219012635, subsample=0.5 will be ignored. Current value: bagging_fraction=0.32944067219012635\n",
      "[LightGBM] [Warning] bagging_freq is set=7, subsample_freq=0 will be ignored. Current value: bagging_freq=7\n",
      "Training until validation scores don't improve for 100 rounds\n",
      "[100]\ttraining's l1: 1.02185\tvalid_1's l1: 0.897327\n",
      "[200]\ttraining's l1: 1.01511\tvalid_1's l1: 0.897432\n"
     ]
    },
    {
     "name": "stderr",
     "output_type": "stream",
     "text": [
      "\u001b[32m[I 2021-07-29 19:53:01,193]\u001b[0m Trial 15 finished with value: -0.8958444304689395 and parameters: {'max_depth': 7, 'min_child_weight': 9, 'subsample': 0.5, 'colsample_bytree': 0.9, 'reg_lambda': 10.499442553252694, 'reg_alpha': 0.3358448360286656, 'feature_fraction': 0.9877193544353084, 'bagging_fraction': 0.32944067219012635, 'bagging_freq': 7, 'num_leaves': 683, 'min_child_samples': 81}. Best is trial 4 with value: -0.8943500154280541.\u001b[0m\n"
     ]
    },
    {
     "name": "stdout",
     "output_type": "stream",
     "text": [
      "Early stopping, best iteration is:\n",
      "[129]\ttraining's l1: 1.02003\tvalid_1's l1: 0.895852\n",
      "[LightGBM] [Warning] feature_fraction is set=0.986761296180191, colsample_bytree=0.8 will be ignored. Current value: feature_fraction=0.986761296180191\n",
      "[LightGBM] [Warning] bagging_fraction is set=0.3561767724318853, subsample=0.5 will be ignored. Current value: bagging_fraction=0.3561767724318853\n",
      "[LightGBM] [Warning] bagging_freq is set=7, subsample_freq=0 will be ignored. Current value: bagging_freq=7\n",
      "Training until validation scores don't improve for 100 rounds\n",
      "[100]\ttraining's l1: 1.00525\tvalid_1's l1: 0.900901\n"
     ]
    },
    {
     "name": "stderr",
     "output_type": "stream",
     "text": [
      "\u001b[32m[I 2021-07-29 19:53:07,367]\u001b[0m Trial 16 finished with value: -0.8979709146812145 and parameters: {'max_depth': 10, 'min_child_weight': 9, 'subsample': 0.5, 'colsample_bytree': 0.8, 'reg_lambda': 16.826959659683133, 'reg_alpha': 0.5651863908789344, 'feature_fraction': 0.986761296180191, 'bagging_fraction': 0.3561767724318853, 'bagging_freq': 7, 'num_leaves': 746, 'min_child_samples': 84}. Best is trial 4 with value: -0.8943500154280541.\u001b[0m\n"
     ]
    },
    {
     "name": "stdout",
     "output_type": "stream",
     "text": [
      "Early stopping, best iteration is:\n",
      "[36]\ttraining's l1: 1.01501\tvalid_1's l1: 0.897973\n",
      "[LightGBM] [Warning] feature_fraction is set=0.9155508302706931, colsample_bytree=0.9 will be ignored. Current value: feature_fraction=0.9155508302706931\n",
      "[LightGBM] [Warning] bagging_fraction is set=0.6149932117316281, subsample=0.5 will be ignored. Current value: bagging_fraction=0.6149932117316281\n",
      "[LightGBM] [Warning] bagging_freq is set=6, subsample_freq=0 will be ignored. Current value: bagging_freq=6\n",
      "Training until validation scores don't improve for 100 rounds\n",
      "[100]\ttraining's l1: 1.02519\tvalid_1's l1: 0.904342\n"
     ]
    },
    {
     "name": "stderr",
     "output_type": "stream",
     "text": [
      "\u001b[32m[I 2021-07-29 19:53:12,957]\u001b[0m Trial 17 finished with value: -0.9040448567969035 and parameters: {'max_depth': 7, 'min_child_weight': 9, 'subsample': 0.5, 'colsample_bytree': 0.9, 'reg_lambda': 555.8103969680129, 'reg_alpha': 0.28161159595980934, 'feature_fraction': 0.9155508302706931, 'bagging_fraction': 0.6149932117316281, 'bagging_freq': 6, 'num_leaves': 823, 'min_child_samples': 59}. Best is trial 4 with value: -0.8943500154280541.\u001b[0m\n"
     ]
    },
    {
     "name": "stdout",
     "output_type": "stream",
     "text": [
      "Early stopping, best iteration is:\n",
      "[48]\ttraining's l1: 1.02888\tvalid_1's l1: 0.904045\n",
      "[LightGBM] [Warning] feature_fraction is set=0.6946223998965855, colsample_bytree=0.8 will be ignored. Current value: feature_fraction=0.6946223998965855\n",
      "[LightGBM] [Warning] bagging_fraction is set=0.41901051764589137, subsample=0.5 will be ignored. Current value: bagging_fraction=0.41901051764589137\n",
      "[LightGBM] [Warning] bagging_freq is set=7, subsample_freq=0 will be ignored. Current value: bagging_freq=7\n",
      "Training until validation scores don't improve for 100 rounds\n",
      "[100]\ttraining's l1: 1.04068\tvalid_1's l1: 0.907048\n",
      "[200]\ttraining's l1: 1.03796\tvalid_1's l1: 0.905826\n"
     ]
    },
    {
     "name": "stderr",
     "output_type": "stream",
     "text": [
      "\u001b[32m[I 2021-07-29 19:53:17,583]\u001b[0m Trial 18 finished with value: -0.9052873765019108 and parameters: {'max_depth': 3, 'min_child_weight': 9, 'subsample': 0.5, 'colsample_bytree': 0.8, 'reg_lambda': 114.86385904549253, 'reg_alpha': 3.7508754214790367, 'feature_fraction': 0.6946223998965855, 'bagging_fraction': 0.41901051764589137, 'bagging_freq': 7, 'num_leaves': 598, 'min_child_samples': 24}. Best is trial 4 with value: -0.8943500154280541.\u001b[0m\n"
     ]
    },
    {
     "name": "stdout",
     "output_type": "stream",
     "text": [
      "Early stopping, best iteration is:\n",
      "[140]\ttraining's l1: 1.03861\tvalid_1's l1: 0.905295\n",
      "[LightGBM] [Warning] feature_fraction is set=0.39828232482210824, colsample_bytree=0.6 will be ignored. Current value: feature_fraction=0.39828232482210824\n",
      "[LightGBM] [Warning] bagging_fraction is set=0.29480287011826944, subsample=0.7 will be ignored. Current value: bagging_fraction=0.29480287011826944\n",
      "[LightGBM] [Warning] bagging_freq is set=11, subsample_freq=0 will be ignored. Current value: bagging_freq=11\n",
      "Training until validation scores don't improve for 100 rounds\n",
      "[100]\ttraining's l1: 1.034\tvalid_1's l1: 0.916513\n"
     ]
    },
    {
     "name": "stderr",
     "output_type": "stream",
     "text": [
      "\u001b[32m[I 2021-07-29 19:53:21,083]\u001b[0m Trial 19 finished with value: -0.9143601770426288 and parameters: {'max_depth': 11, 'min_child_weight': 3, 'subsample': 0.7, 'colsample_bytree': 0.6, 'reg_lambda': 6.253611075324587, 'reg_alpha': 659.4961885730797, 'feature_fraction': 0.39828232482210824, 'bagging_fraction': 0.29480287011826944, 'bagging_freq': 11, 'num_leaves': 465, 'min_child_samples': 35}. Best is trial 4 with value: -0.8943500154280541.\u001b[0m\n"
     ]
    },
    {
     "name": "stdout",
     "output_type": "stream",
     "text": [
      "Early stopping, best iteration is:\n",
      "[18]\ttraining's l1: 1.04694\tvalid_1's l1: 0.91436\n",
      "[LightGBM] [Warning] feature_fraction is set=0.8958369764721839, colsample_bytree=0.9 will be ignored. Current value: feature_fraction=0.8958369764721839\n",
      "[LightGBM] [Warning] bagging_fraction is set=0.6957285345687254, subsample=0.6 will be ignored. Current value: bagging_fraction=0.6957285345687254\n",
      "[LightGBM] [Warning] bagging_freq is set=17, subsample_freq=0 will be ignored. Current value: bagging_freq=17\n",
      "Training until validation scores don't improve for 100 rounds\n",
      "[100]\ttraining's l1: 1.02961\tvalid_1's l1: 0.898606\n",
      "[200]\ttraining's l1: 1.02633\tvalid_1's l1: 0.897299\n",
      "[300]\ttraining's l1: 1.02373\tvalid_1's l1: 0.897641\n"
     ]
    },
    {
     "name": "stderr",
     "output_type": "stream",
     "text": [
      "\u001b[32m[I 2021-07-29 19:53:30,531]\u001b[0m Trial 20 finished with value: -0.8969382983409536 and parameters: {'max_depth': 5, 'min_child_weight': 11, 'subsample': 0.6, 'colsample_bytree': 0.9, 'reg_lambda': 0.9724331792211214, 'reg_alpha': 7.557699074126403, 'feature_fraction': 0.8958369764721839, 'bagging_fraction': 0.6957285345687254, 'bagging_freq': 17, 'num_leaves': 854, 'min_child_samples': 57}. Best is trial 4 with value: -0.8943500154280541.\u001b[0m\n"
     ]
    },
    {
     "name": "stdout",
     "output_type": "stream",
     "text": [
      "Early stopping, best iteration is:\n",
      "[258]\ttraining's l1: 1.02525\tvalid_1's l1: 0.896966\n",
      "[LightGBM] [Warning] feature_fraction is set=0.9234819034671271, colsample_bytree=0.9 will be ignored. Current value: feature_fraction=0.9234819034671271\n",
      "[LightGBM] [Warning] bagging_fraction is set=0.8267974229185601, subsample=0.6 will be ignored. Current value: bagging_fraction=0.8267974229185601\n",
      "[LightGBM] [Warning] bagging_freq is set=17, subsample_freq=0 will be ignored. Current value: bagging_freq=17\n",
      "Training until validation scores don't improve for 100 rounds\n",
      "[100]\ttraining's l1: 1.03559\tvalid_1's l1: 0.903993\n",
      "[200]\ttraining's l1: 1.03309\tvalid_1's l1: 0.90306\n",
      "[300]\ttraining's l1: 1.02966\tvalid_1's l1: 0.900028\n",
      "[400]\ttraining's l1: 1.0272\tvalid_1's l1: 0.899099\n",
      "[500]\ttraining's l1: 1.02434\tvalid_1's l1: 0.898278\n",
      "[600]\ttraining's l1: 1.02139\tvalid_1's l1: 0.897179\n",
      "Early stopping, best iteration is:\n",
      "[560]\ttraining's l1: 1.02248\tvalid_1's l1: 0.896577\n"
     ]
    },
    {
     "name": "stderr",
     "output_type": "stream",
     "text": [
      "\u001b[32m[I 2021-07-29 19:53:48,059]\u001b[0m Trial 21 finished with value: -0.8965005226999975 and parameters: {'max_depth': 4, 'min_child_weight': 11, 'subsample': 0.6, 'colsample_bytree': 0.9, 'reg_lambda': 1.2962932571885881, 'reg_alpha': 2.392677072875837, 'feature_fraction': 0.9234819034671271, 'bagging_fraction': 0.8267974229185601, 'bagging_freq': 17, 'num_leaves': 860, 'min_child_samples': 57}. Best is trial 4 with value: -0.8943500154280541.\u001b[0m\n"
     ]
    },
    {
     "name": "stdout",
     "output_type": "stream",
     "text": [
      "[LightGBM] [Warning] feature_fraction is set=0.9976168613938293, colsample_bytree=0.9 will be ignored. Current value: feature_fraction=0.9976168613938293\n",
      "[LightGBM] [Warning] bagging_fraction is set=0.8664400320447587, subsample=0.6 will be ignored. Current value: bagging_fraction=0.8664400320447587\n",
      "[LightGBM] [Warning] bagging_freq is set=20, subsample_freq=0 will be ignored. Current value: bagging_freq=20\n",
      "Training until validation scores don't improve for 100 rounds\n",
      "[100]\ttraining's l1: 1.01372\tvalid_1's l1: 0.895177\n",
      "[200]\ttraining's l1: 1.00734\tvalid_1's l1: 0.895035\n"
     ]
    },
    {
     "name": "stderr",
     "output_type": "stream",
     "text": [
      "\u001b[32m[I 2021-07-29 19:53:58,729]\u001b[0m Trial 22 finished with value: -0.8941871917543702 and parameters: {'max_depth': 8, 'min_child_weight': 14, 'subsample': 0.6, 'colsample_bytree': 0.9, 'reg_lambda': 1.081831940288147, 'reg_alpha': 1.2476512942514864, 'feature_fraction': 0.9976168613938293, 'bagging_fraction': 0.8664400320447587, 'bagging_freq': 20, 'num_leaves': 826, 'min_child_samples': 83}. Best is trial 22 with value: -0.8941871917543702.\u001b[0m\n"
     ]
    },
    {
     "name": "stdout",
     "output_type": "stream",
     "text": [
      "Early stopping, best iteration is:\n",
      "[143]\ttraining's l1: 1.00936\tvalid_1's l1: 0.894198\n",
      "[LightGBM] [Warning] feature_fraction is set=0.9950978242727228, colsample_bytree=0.8 will be ignored. Current value: feature_fraction=0.9950978242727228\n",
      "[LightGBM] [Warning] bagging_fraction is set=0.978657373078041, subsample=0.5 will be ignored. Current value: bagging_fraction=0.978657373078041\n",
      "[LightGBM] [Warning] bagging_freq is set=20, subsample_freq=0 will be ignored. Current value: bagging_freq=20\n",
      "Training until validation scores don't improve for 100 rounds\n",
      "[100]\ttraining's l1: 0.99752\tvalid_1's l1: 0.900973\n"
     ]
    },
    {
     "name": "stderr",
     "output_type": "stream",
     "text": [
      "\u001b[32m[I 2021-07-29 19:54:08,979]\u001b[0m Trial 23 finished with value: -0.8968165558739887 and parameters: {'max_depth': 11, 'min_child_weight': 14, 'subsample': 0.5, 'colsample_bytree': 0.8, 'reg_lambda': 8.481922109918138, 'reg_alpha': 1.1060806150028188, 'feature_fraction': 0.9950978242727228, 'bagging_fraction': 0.978657373078041, 'bagging_freq': 20, 'num_leaves': 647, 'min_child_samples': 83}. Best is trial 22 with value: -0.8941871917543702.\u001b[0m\n"
     ]
    },
    {
     "name": "stdout",
     "output_type": "stream",
     "text": [
      "Early stopping, best iteration is:\n",
      "[36]\ttraining's l1: 1.00493\tvalid_1's l1: 0.896817\n",
      "[LightGBM] [Warning] feature_fraction is set=0.856191452795394, colsample_bytree=0.9 will be ignored. Current value: feature_fraction=0.856191452795394\n",
      "[LightGBM] [Warning] bagging_fraction is set=0.8608092527030511, subsample=0.7 will be ignored. Current value: bagging_fraction=0.8608092527030511\n",
      "[LightGBM] [Warning] bagging_freq is set=4, subsample_freq=0 will be ignored. Current value: bagging_freq=4\n",
      "Training until validation scores don't improve for 100 rounds\n",
      "[100]\ttraining's l1: 1.01132\tvalid_1's l1: 0.898114\n"
     ]
    },
    {
     "name": "stderr",
     "output_type": "stream",
     "text": [
      "\u001b[32m[I 2021-07-29 19:54:16,398]\u001b[0m Trial 24 finished with value: -0.8963618487715288 and parameters: {'max_depth': 8, 'min_child_weight': 20, 'subsample': 0.7, 'colsample_bytree': 0.9, 'reg_lambda': 57.629254819308684, 'reg_alpha': 0.2650334887541756, 'feature_fraction': 0.856191452795394, 'bagging_fraction': 0.8608092527030511, 'bagging_freq': 4, 'num_leaves': 775, 'min_child_samples': 90}. Best is trial 22 with value: -0.8941871917543702.\u001b[0m\n"
     ]
    },
    {
     "name": "stdout",
     "output_type": "stream",
     "text": [
      "Early stopping, best iteration is:\n",
      "[40]\ttraining's l1: 1.02075\tvalid_1's l1: 0.896363\n",
      "[LightGBM] [Warning] feature_fraction is set=0.9922705606583129, colsample_bytree=0.8 will be ignored. Current value: feature_fraction=0.9922705606583129\n",
      "[LightGBM] [Warning] bagging_fraction is set=0.6887530535254971, subsample=0.6 will be ignored. Current value: bagging_fraction=0.6887530535254971\n",
      "[LightGBM] [Warning] bagging_freq is set=11, subsample_freq=0 will be ignored. Current value: bagging_freq=11\n",
      "Training until validation scores don't improve for 100 rounds\n",
      "[100]\ttraining's l1: 1.0061\tvalid_1's l1: 0.895631\n"
     ]
    },
    {
     "name": "stderr",
     "output_type": "stream",
     "text": [
      "\u001b[32m[I 2021-07-29 19:54:24,774]\u001b[0m Trial 25 finished with value: -0.8947011333954322 and parameters: {'max_depth': 9, 'min_child_weight': 8, 'subsample': 0.6, 'colsample_bytree': 0.8, 'reg_lambda': 0.028313999975693265, 'reg_alpha': 0.05760524894540345, 'feature_fraction': 0.9922705606583129, 'bagging_fraction': 0.6887530535254971, 'bagging_freq': 11, 'num_leaves': 612, 'min_child_samples': 100}. Best is trial 22 with value: -0.8941871917543702.\u001b[0m\n"
     ]
    },
    {
     "name": "stdout",
     "output_type": "stream",
     "text": [
      "Early stopping, best iteration is:\n",
      "[68]\ttraining's l1: 1.01057\tvalid_1's l1: 0.894704\n",
      "[LightGBM] [Warning] feature_fraction is set=0.9983111643185296, colsample_bytree=0.8 will be ignored. Current value: feature_fraction=0.9983111643185296\n",
      "[LightGBM] [Warning] bagging_fraction is set=0.6855162677116713, subsample=0.6 will be ignored. Current value: bagging_fraction=0.6855162677116713\n",
      "[LightGBM] [Warning] bagging_freq is set=11, subsample_freq=0 will be ignored. Current value: bagging_freq=11\n",
      "Training until validation scores don't improve for 100 rounds\n",
      "[100]\ttraining's l1: 1.00119\tvalid_1's l1: 0.897035\n"
     ]
    },
    {
     "name": "stderr",
     "output_type": "stream",
     "text": [
      "\u001b[32m[I 2021-07-29 19:54:32,950]\u001b[0m Trial 26 finished with value: -0.8943488174034094 and parameters: {'max_depth': 10, 'min_child_weight': 7, 'subsample': 0.6, 'colsample_bytree': 0.8, 'reg_lambda': 0.05068798893035207, 'reg_alpha': 0.07691052967785073, 'feature_fraction': 0.9983111643185296, 'bagging_fraction': 0.6855162677116713, 'bagging_freq': 11, 'num_leaves': 582, 'min_child_samples': 99}. Best is trial 22 with value: -0.8941871917543702.\u001b[0m\n"
     ]
    },
    {
     "name": "stdout",
     "output_type": "stream",
     "text": [
      "Early stopping, best iteration is:\n",
      "[39]\ttraining's l1: 1.01038\tvalid_1's l1: 0.89435\n",
      "[LightGBM] [Warning] feature_fraction is set=0.6821697329859076, colsample_bytree=0.8 will be ignored. Current value: feature_fraction=0.6821697329859076\n",
      "[LightGBM] [Warning] bagging_fraction is set=0.7339064365332514, subsample=0.7 will be ignored. Current value: bagging_fraction=0.7339064365332514\n",
      "[LightGBM] [Warning] bagging_freq is set=15, subsample_freq=0 will be ignored. Current value: bagging_freq=15\n",
      "Training until validation scores don't improve for 100 rounds\n",
      "[100]\ttraining's l1: 1.0077\tvalid_1's l1: 0.899517\n"
     ]
    },
    {
     "name": "stderr",
     "output_type": "stream",
     "text": [
      "\u001b[32m[I 2021-07-29 19:54:39,965]\u001b[0m Trial 27 finished with value: -0.8981980557269347 and parameters: {'max_depth': 12, 'min_child_weight': 4, 'subsample': 0.7, 'colsample_bytree': 0.8, 'reg_lambda': 0.7552638812958052, 'reg_alpha': 0.005854398073441447, 'feature_fraction': 0.6821697329859076, 'bagging_fraction': 0.7339064365332514, 'bagging_freq': 15, 'num_leaves': 254, 'min_child_samples': 18}. Best is trial 22 with value: -0.8941871917543702.\u001b[0m\n"
     ]
    },
    {
     "name": "stdout",
     "output_type": "stream",
     "text": [
      "Early stopping, best iteration is:\n",
      "[40]\ttraining's l1: 1.0156\tvalid_1's l1: 0.898199\n",
      "[LightGBM] [Warning] feature_fraction is set=0.8658441663350673, colsample_bytree=0.8 will be ignored. Current value: feature_fraction=0.8658441663350673\n",
      "[LightGBM] [Warning] bagging_fraction is set=0.6371159101245087, subsample=0.6 will be ignored. Current value: bagging_fraction=0.6371159101245087\n",
      "[LightGBM] [Warning] bagging_freq is set=12, subsample_freq=0 will be ignored. Current value: bagging_freq=12\n",
      "Training until validation scores don't improve for 100 rounds\n",
      "[100]\ttraining's l1: 1.02415\tvalid_1's l1: 0.901409\n"
     ]
    },
    {
     "name": "stderr",
     "output_type": "stream",
     "text": [
      "\u001b[32m[I 2021-07-29 19:54:45,884]\u001b[0m Trial 28 finished with value: -0.9010578283517465 and parameters: {'max_depth': 15, 'min_child_weight': 14, 'subsample': 0.6, 'colsample_bytree': 0.8, 'reg_lambda': 0.06470462741488384, 'reg_alpha': 1.2733372417203526, 'feature_fraction': 0.8658441663350673, 'bagging_fraction': 0.6371159101245087, 'bagging_freq': 12, 'num_leaves': 122, 'min_child_samples': 36}. Best is trial 22 with value: -0.8941871917543702.\u001b[0m\n"
     ]
    },
    {
     "name": "stdout",
     "output_type": "stream",
     "text": [
      "Early stopping, best iteration is:\n",
      "[42]\ttraining's l1: 1.02535\tvalid_1's l1: 0.901058\n",
      "[LightGBM] [Warning] feature_fraction is set=0.4692676707636937, colsample_bytree=0.9 will be ignored. Current value: feature_fraction=0.4692676707636937\n",
      "[LightGBM] [Warning] bagging_fraction is set=0.5309342068183719, subsample=0.7 will be ignored. Current value: bagging_fraction=0.5309342068183719\n",
      "[LightGBM] [Warning] bagging_freq is set=19, subsample_freq=0 will be ignored. Current value: bagging_freq=19\n",
      "Training until validation scores don't improve for 100 rounds\n",
      "[100]\ttraining's l1: 1.0084\tvalid_1's l1: 0.902681\n"
     ]
    },
    {
     "name": "stderr",
     "output_type": "stream",
     "text": [
      "\u001b[32m[I 2021-07-29 19:54:52,587]\u001b[0m Trial 29 finished with value: -0.8981684239196908 and parameters: {'max_depth': 9, 'min_child_weight': 6, 'subsample': 0.7, 'colsample_bytree': 0.9, 'reg_lambda': 0.034115100985479575, 'reg_alpha': 14.659170975810252, 'feature_fraction': 0.4692676707636937, 'bagging_fraction': 0.5309342068183719, 'bagging_freq': 19, 'num_leaves': 405, 'min_child_samples': 90}. Best is trial 22 with value: -0.8941871917543702.\u001b[0m\n"
     ]
    },
    {
     "name": "stdout",
     "output_type": "stream",
     "text": [
      "Early stopping, best iteration is:\n",
      "[62]\ttraining's l1: 1.01332\tvalid_1's l1: 0.898174\n",
      "[LightGBM] [Warning] feature_fraction is set=0.9453023398242978, colsample_bytree=0.6 will be ignored. Current value: feature_fraction=0.9453023398242978\n",
      "[LightGBM] [Warning] bagging_fraction is set=0.8850726122795556, subsample=0.6 will be ignored. Current value: bagging_fraction=0.8850726122795556\n",
      "[LightGBM] [Warning] bagging_freq is set=9, subsample_freq=0 will be ignored. Current value: bagging_freq=9\n",
      "Training until validation scores don't improve for 100 rounds\n",
      "[100]\ttraining's l1: 1.00689\tvalid_1's l1: 0.90691\n"
     ]
    },
    {
     "name": "stderr",
     "output_type": "stream",
     "text": [
      "\u001b[32m[I 2021-07-29 19:55:02,615]\u001b[0m Trial 30 finished with value: -0.9020191345470404 and parameters: {'max_depth': 15, 'min_child_weight': 13, 'subsample': 0.6, 'colsample_bytree': 0.6, 'reg_lambda': 0.00667355257682761, 'reg_alpha': 92.74691811061193, 'feature_fraction': 0.9453023398242978, 'bagging_fraction': 0.8850726122795556, 'bagging_freq': 9, 'num_leaves': 277, 'min_child_samples': 67}. Best is trial 22 with value: -0.8941871917543702.\u001b[0m\n"
     ]
    },
    {
     "name": "stdout",
     "output_type": "stream",
     "text": [
      "Early stopping, best iteration is:\n",
      "[32]\ttraining's l1: 1.02042\tvalid_1's l1: 0.90202\n",
      "[LightGBM] [Warning] feature_fraction is set=0.998373729462474, colsample_bytree=0.8 will be ignored. Current value: feature_fraction=0.998373729462474\n",
      "[LightGBM] [Warning] bagging_fraction is set=0.6606526942185902, subsample=0.6 will be ignored. Current value: bagging_fraction=0.6606526942185902\n",
      "[LightGBM] [Warning] bagging_freq is set=11, subsample_freq=0 will be ignored. Current value: bagging_freq=11\n",
      "Training until validation scores don't improve for 100 rounds\n",
      "[100]\ttraining's l1: 1.00722\tvalid_1's l1: 0.895637\n"
     ]
    },
    {
     "name": "stderr",
     "output_type": "stream",
     "text": [
      "\u001b[32m[I 2021-07-29 19:55:09,694]\u001b[0m Trial 31 finished with value: -0.894251162330368 and parameters: {'max_depth': 9, 'min_child_weight': 7, 'subsample': 0.6, 'colsample_bytree': 0.8, 'reg_lambda': 0.027413908205823692, 'reg_alpha': 0.06373722466034573, 'feature_fraction': 0.998373729462474, 'bagging_fraction': 0.6606526942185902, 'bagging_freq': 11, 'num_leaves': 562, 'min_child_samples': 99}. Best is trial 22 with value: -0.8941871917543702.\u001b[0m\n"
     ]
    },
    {
     "name": "stdout",
     "output_type": "stream",
     "text": [
      "Early stopping, best iteration is:\n",
      "[39]\ttraining's l1: 1.01599\tvalid_1's l1: 0.894251\n",
      "[LightGBM] [Warning] feature_fraction is set=0.9509095360133151, colsample_bytree=0.7 will be ignored. Current value: feature_fraction=0.9509095360133151\n",
      "[LightGBM] [Warning] bagging_fraction is set=0.5815171083349462, subsample=0.6 will be ignored. Current value: bagging_fraction=0.5815171083349462\n",
      "[LightGBM] [Warning] bagging_freq is set=9, subsample_freq=0 will be ignored. Current value: bagging_freq=9\n",
      "Training until validation scores don't improve for 100 rounds\n",
      "[100]\ttraining's l1: 1.0027\tvalid_1's l1: 0.897617\n"
     ]
    },
    {
     "name": "stderr",
     "output_type": "stream",
     "text": [
      "\u001b[32m[I 2021-07-29 19:55:17,125]\u001b[0m Trial 32 finished with value: -0.894062031932734 and parameters: {'max_depth': 10, 'min_child_weight': 5, 'subsample': 0.6, 'colsample_bytree': 0.7, 'reg_lambda': 0.11336686306255796, 'reg_alpha': 0.015379194565454953, 'feature_fraction': 0.9509095360133151, 'bagging_fraction': 0.5815171083349462, 'bagging_freq': 9, 'num_leaves': 577, 'min_child_samples': 98}. Best is trial 32 with value: -0.894062031932734.\u001b[0m\n"
     ]
    },
    {
     "name": "stdout",
     "output_type": "stream",
     "text": [
      "Early stopping, best iteration is:\n",
      "[33]\ttraining's l1: 1.01198\tvalid_1's l1: 0.894063\n",
      "[LightGBM] [Warning] feature_fraction is set=0.8568434116555474, colsample_bytree=0.7 will be ignored. Current value: feature_fraction=0.8568434116555474\n",
      "[LightGBM] [Warning] bagging_fraction is set=0.6415781879835085, subsample=0.6 will be ignored. Current value: bagging_fraction=0.6415781879835085\n",
      "[LightGBM] [Warning] bagging_freq is set=10, subsample_freq=0 will be ignored. Current value: bagging_freq=10\n",
      "Training until validation scores don't improve for 100 rounds\n",
      "[100]\ttraining's l1: 1.00074\tvalid_1's l1: 0.897808\n"
     ]
    },
    {
     "name": "stderr",
     "output_type": "stream",
     "text": [
      "\u001b[32m[I 2021-07-29 19:55:24,569]\u001b[0m Trial 33 finished with value: -0.8947769408874116 and parameters: {'max_depth': 10, 'min_child_weight': 3, 'subsample': 0.6, 'colsample_bytree': 0.7, 'reg_lambda': 0.09513156908088573, 'reg_alpha': 0.00980901526242839, 'feature_fraction': 0.8568434116555474, 'bagging_fraction': 0.6415781879835085, 'bagging_freq': 10, 'num_leaves': 539, 'min_child_samples': 100}. Best is trial 32 with value: -0.894062031932734.\u001b[0m\n"
     ]
    },
    {
     "name": "stdout",
     "output_type": "stream",
     "text": [
      "Early stopping, best iteration is:\n",
      "[41]\ttraining's l1: 1.00983\tvalid_1's l1: 0.894778\n",
      "[LightGBM] [Warning] feature_fraction is set=0.9415294346913106, colsample_bytree=0.6 will be ignored. Current value: feature_fraction=0.9415294346913106\n",
      "[LightGBM] [Warning] bagging_fraction is set=0.46298751582748804, subsample=0.7 will be ignored. Current value: bagging_fraction=0.46298751582748804\n",
      "[LightGBM] [Warning] bagging_freq is set=8, subsample_freq=0 will be ignored. Current value: bagging_freq=8\n",
      "Training until validation scores don't improve for 100 rounds\n",
      "[100]\ttraining's l1: 0.995295\tvalid_1's l1: 0.901129\n"
     ]
    },
    {
     "name": "stderr",
     "output_type": "stream",
     "text": [
      "\u001b[32m[I 2021-07-29 19:55:32,846]\u001b[0m Trial 34 finished with value: -0.89445095864456 and parameters: {'max_depth': 12, 'min_child_weight': 5, 'subsample': 0.7, 'colsample_bytree': 0.6, 'reg_lambda': 0.004473744069731253, 'reg_alpha': 0.0022245615204702896, 'feature_fraction': 0.9415294346913106, 'bagging_fraction': 0.46298751582748804, 'bagging_freq': 8, 'num_leaves': 596, 'min_child_samples': 95}. Best is trial 32 with value: -0.894062031932734.\u001b[0m\n"
     ]
    },
    {
     "name": "stdout",
     "output_type": "stream",
     "text": [
      "Early stopping, best iteration is:\n",
      "[32]\ttraining's l1: 1.00763\tvalid_1's l1: 0.894452\n",
      "[LightGBM] [Warning] feature_fraction is set=0.8822599476029184, colsample_bytree=0.7 will be ignored. Current value: feature_fraction=0.8822599476029184\n",
      "[LightGBM] [Warning] bagging_fraction is set=0.8094427876732229, subsample=0.6 will be ignored. Current value: bagging_fraction=0.8094427876732229\n",
      "[LightGBM] [Warning] bagging_freq is set=11, subsample_freq=0 will be ignored. Current value: bagging_freq=11\n",
      "Training until validation scores don't improve for 100 rounds\n",
      "[100]\ttraining's l1: 1.01275\tvalid_1's l1: 0.898191\n"
     ]
    },
    {
     "name": "stderr",
     "output_type": "stream",
     "text": [
      "\u001b[32m[I 2021-07-29 19:55:40,684]\u001b[0m Trial 35 finished with value: -0.8978016190614568 and parameters: {'max_depth': 8, 'min_child_weight': 7, 'subsample': 0.6, 'colsample_bytree': 0.7, 'reg_lambda': 0.031092868998419027, 'reg_alpha': 0.022364147252842595, 'feature_fraction': 0.8822599476029184, 'bagging_fraction': 0.8094427876732229, 'bagging_freq': 11, 'num_leaves': 980, 'min_child_samples': 89}. Best is trial 32 with value: -0.894062031932734.\u001b[0m\n"
     ]
    },
    {
     "name": "stdout",
     "output_type": "stream",
     "text": [
      "Early stopping, best iteration is:\n",
      "[70]\ttraining's l1: 1.0177\tvalid_1's l1: 0.897841\n",
      "[LightGBM] [Warning] feature_fraction is set=0.9928978023059578, colsample_bytree=0.7 will be ignored. Current value: feature_fraction=0.9928978023059578\n",
      "[LightGBM] [Warning] bagging_fraction is set=0.5811514821453452, subsample=0.7 will be ignored. Current value: bagging_fraction=0.5811514821453452\n",
      "[LightGBM] [Warning] bagging_freq is set=5, subsample_freq=0 will be ignored. Current value: bagging_freq=5\n",
      "Training until validation scores don't improve for 100 rounds\n",
      "[100]\ttraining's l1: 1.0018\tvalid_1's l1: 0.896567\n"
     ]
    },
    {
     "name": "stderr",
     "output_type": "stream",
     "text": [
      "\u001b[32m[I 2021-07-29 19:55:50,106]\u001b[0m Trial 36 finished with value: -0.8943787156286467 and parameters: {'max_depth': 10, 'min_child_weight': 4, 'subsample': 0.7, 'colsample_bytree': 0.7, 'reg_lambda': 0.014476185393913061, 'reg_alpha': 0.11687073887553824, 'feature_fraction': 0.9928978023059578, 'bagging_fraction': 0.5811514821453452, 'bagging_freq': 5, 'num_leaves': 467, 'min_child_samples': 75}. Best is trial 32 with value: -0.894062031932734.\u001b[0m\n"
     ]
    },
    {
     "name": "stdout",
     "output_type": "stream",
     "text": [
      "Early stopping, best iteration is:\n",
      "[61]\ttraining's l1: 1.00731\tvalid_1's l1: 0.894387\n",
      "[LightGBM] [Warning] feature_fraction is set=0.8309651529730087, colsample_bytree=0.6 will be ignored. Current value: feature_fraction=0.8309651529730087\n",
      "[LightGBM] [Warning] bagging_fraction is set=0.7360066780541072, subsample=0.6 will be ignored. Current value: bagging_fraction=0.7360066780541072\n",
      "[LightGBM] [Warning] bagging_freq is set=9, subsample_freq=0 will be ignored. Current value: bagging_freq=9\n",
      "Training until validation scores don't improve for 100 rounds\n",
      "[100]\ttraining's l1: 0.988915\tvalid_1's l1: 0.899676\n"
     ]
    },
    {
     "name": "stderr",
     "output_type": "stream",
     "text": [
      "\u001b[32m[I 2021-07-29 19:55:59,957]\u001b[0m Trial 37 finished with value: -0.8940133775018398 and parameters: {'max_depth': 12, 'min_child_weight': 7, 'subsample': 0.6, 'colsample_bytree': 0.6, 'reg_lambda': 0.19648486355097977, 'reg_alpha': 0.012853857565652868, 'feature_fraction': 0.8309651529730087, 'bagging_fraction': 0.7360066780541072, 'bagging_freq': 9, 'num_leaves': 910, 'min_child_samples': 98}. Best is trial 37 with value: -0.8940133775018398.\u001b[0m\n"
     ]
    },
    {
     "name": "stdout",
     "output_type": "stream",
     "text": [
      "Early stopping, best iteration is:\n",
      "[42]\ttraining's l1: 0.999895\tvalid_1's l1: 0.894019\n",
      "[LightGBM] [Warning] feature_fraction is set=0.7428381197686131, colsample_bytree=0.6 will be ignored. Current value: feature_fraction=0.7428381197686131\n",
      "[LightGBM] [Warning] bagging_fraction is set=0.7561389325803302, subsample=0.8 will be ignored. Current value: bagging_fraction=0.7561389325803302\n",
      "[LightGBM] [Warning] bagging_freq is set=8, subsample_freq=0 will be ignored. Current value: bagging_freq=8\n",
      "Training until validation scores don't improve for 100 rounds\n",
      "[100]\ttraining's l1: 0.984877\tvalid_1's l1: 0.906524\n"
     ]
    },
    {
     "name": "stderr",
     "output_type": "stream",
     "text": [
      "\u001b[32m[I 2021-07-29 19:56:10,119]\u001b[0m Trial 38 finished with value: -0.8977027949013493 and parameters: {'max_depth': 14, 'min_child_weight': 5, 'subsample': 0.8, 'colsample_bytree': 0.6, 'reg_lambda': 0.3862134641492729, 'reg_alpha': 0.0011601151169900227, 'feature_fraction': 0.7428381197686131, 'bagging_fraction': 0.7561389325803302, 'bagging_freq': 8, 'num_leaves': 923, 'min_child_samples': 87}. Best is trial 37 with value: -0.8940133775018398.\u001b[0m\n"
     ]
    },
    {
     "name": "stdout",
     "output_type": "stream",
     "text": [
      "Early stopping, best iteration is:\n",
      "[23]\ttraining's l1: 1.00688\tvalid_1's l1: 0.897703\n",
      "[LightGBM] [Warning] feature_fraction is set=0.5294158151476405, colsample_bytree=0.5 will be ignored. Current value: feature_fraction=0.5294158151476405\n",
      "[LightGBM] [Warning] bagging_fraction is set=0.7309763738576139, subsample=0.5 will be ignored. Current value: bagging_fraction=0.7309763738576139\n",
      "[LightGBM] [Warning] bagging_freq is set=9, subsample_freq=0 will be ignored. Current value: bagging_freq=9\n",
      "Training until validation scores don't improve for 100 rounds\n",
      "[100]\ttraining's l1: 0.983501\tvalid_1's l1: 0.912129\n"
     ]
    },
    {
     "name": "stderr",
     "output_type": "stream",
     "text": [
      "\u001b[32m[I 2021-07-29 19:56:21,539]\u001b[0m Trial 39 finished with value: -0.8990112611026153 and parameters: {'max_depth': 17, 'min_child_weight': 3, 'subsample': 0.5, 'colsample_bytree': 0.5, 'reg_lambda': 0.13647180912684445, 'reg_alpha': 0.011763587314037791, 'feature_fraction': 0.5294158151476405, 'bagging_fraction': 0.7309763738576139, 'bagging_freq': 9, 'num_leaves': 891, 'min_child_samples': 94}. Best is trial 37 with value: -0.8940133775018398.\u001b[0m\n"
     ]
    },
    {
     "name": "stdout",
     "output_type": "stream",
     "text": [
      "Early stopping, best iteration is:\n",
      "[19]\ttraining's l1: 1.01329\tvalid_1's l1: 0.899011\n",
      "[LightGBM] [Warning] feature_fraction is set=0.6536718016831919, colsample_bytree=0.5 will be ignored. Current value: feature_fraction=0.6536718016831919\n",
      "[LightGBM] [Warning] bagging_fraction is set=0.810022765230021, subsample=0.6 will be ignored. Current value: bagging_fraction=0.810022765230021\n",
      "[LightGBM] [Warning] bagging_freq is set=5, subsample_freq=0 will be ignored. Current value: bagging_freq=5\n",
      "Training until validation scores don't improve for 100 rounds\n",
      "[100]\ttraining's l1: 0.987389\tvalid_1's l1: 0.902828\n"
     ]
    },
    {
     "name": "stderr",
     "output_type": "stream",
     "text": [
      "\u001b[32m[I 2021-07-29 19:56:30,653]\u001b[0m Trial 40 finished with value: -0.8959606527674704 and parameters: {'max_depth': 12, 'min_child_weight': 15, 'subsample': 0.6, 'colsample_bytree': 0.5, 'reg_lambda': 2.6774699352475584, 'reg_alpha': 0.004637821474572201, 'feature_fraction': 0.6536718016831919, 'bagging_fraction': 0.810022765230021, 'bagging_freq': 5, 'num_leaves': 995, 'min_child_samples': 79}. Best is trial 37 with value: -0.8940133775018398.\u001b[0m\n"
     ]
    },
    {
     "name": "stdout",
     "output_type": "stream",
     "text": [
      "Early stopping, best iteration is:\n",
      "[27]\ttraining's l1: 1.00365\tvalid_1's l1: 0.895962\n",
      "[LightGBM] [Warning] feature_fraction is set=0.9495511271928309, colsample_bytree=0.6 will be ignored. Current value: feature_fraction=0.9495511271928309\n",
      "[LightGBM] [Warning] bagging_fraction is set=0.6515873790894602, subsample=0.6 will be ignored. Current value: bagging_fraction=0.6515873790894602\n",
      "[LightGBM] [Warning] bagging_freq is set=10, subsample_freq=0 will be ignored. Current value: bagging_freq=10\n",
      "Training until validation scores don't improve for 100 rounds\n",
      "[100]\ttraining's l1: 1.006\tvalid_1's l1: 0.896964\n"
     ]
    },
    {
     "name": "stderr",
     "output_type": "stream",
     "text": [
      "\u001b[32m[I 2021-07-29 19:56:38,369]\u001b[0m Trial 41 finished with value: -0.8952112047470162 and parameters: {'max_depth': 9, 'min_child_weight': 7, 'subsample': 0.6, 'colsample_bytree': 0.6, 'reg_lambda': 0.043396894666892116, 'reg_alpha': 0.053608835782271005, 'feature_fraction': 0.9495511271928309, 'bagging_fraction': 0.6515873790894602, 'bagging_freq': 10, 'num_leaves': 773, 'min_child_samples': 100}. Best is trial 37 with value: -0.8940133775018398.\u001b[0m\n"
     ]
    },
    {
     "name": "stdout",
     "output_type": "stream",
     "text": [
      "Early stopping, best iteration is:\n",
      "[57]\ttraining's l1: 1.01363\tvalid_1's l1: 0.895213\n",
      "[LightGBM] [Warning] feature_fraction is set=0.9487976695356316, colsample_bytree=0.7 will be ignored. Current value: feature_fraction=0.9487976695356316\n",
      "[LightGBM] [Warning] bagging_fraction is set=0.5594161266363773, subsample=0.6 will be ignored. Current value: bagging_fraction=0.5594161266363773\n",
      "[LightGBM] [Warning] bagging_freq is set=12, subsample_freq=0 will be ignored. Current value: bagging_freq=12\n",
      "Training until validation scores don't improve for 100 rounds\n",
      "[100]\ttraining's l1: 0.999385\tvalid_1's l1: 0.896323\n"
     ]
    },
    {
     "name": "stderr",
     "output_type": "stream",
     "text": [
      "\u001b[32m[I 2021-07-29 19:56:46,588]\u001b[0m Trial 42 finished with value: -0.8929137106407367 and parameters: {'max_depth': 11, 'min_child_weight': 10, 'subsample': 0.6, 'colsample_bytree': 0.7, 'reg_lambda': 0.013209760011205385, 'reg_alpha': 0.016416431921014336, 'feature_fraction': 0.9487976695356316, 'bagging_fraction': 0.5594161266363773, 'bagging_freq': 12, 'num_leaves': 580, 'min_child_samples': 100}. Best is trial 42 with value: -0.8929137106407367.\u001b[0m\n"
     ]
    },
    {
     "name": "stdout",
     "output_type": "stream",
     "text": [
      "Early stopping, best iteration is:\n",
      "[40]\ttraining's l1: 1.00837\tvalid_1's l1: 0.892914\n",
      "[LightGBM] [Warning] feature_fraction is set=0.8410496309565944, colsample_bytree=0.7 will be ignored. Current value: feature_fraction=0.8410496309565944\n",
      "[LightGBM] [Warning] bagging_fraction is set=0.5328513953242738, subsample=0.9 will be ignored. Current value: bagging_fraction=0.5328513953242738\n",
      "[LightGBM] [Warning] bagging_freq is set=12, subsample_freq=0 will be ignored. Current value: bagging_freq=12\n",
      "Training until validation scores don't improve for 100 rounds\n",
      "[100]\ttraining's l1: 0.996083\tvalid_1's l1: 0.903753\n"
     ]
    },
    {
     "name": "stderr",
     "output_type": "stream",
     "text": [
      "\u001b[32m[I 2021-07-29 19:56:54,027]\u001b[0m Trial 43 finished with value: -0.8974000727156335 and parameters: {'max_depth': 11, 'min_child_weight': 10, 'subsample': 0.9, 'colsample_bytree': 0.7, 'reg_lambda': 0.01328540315477852, 'reg_alpha': 0.0032546017285175442, 'feature_fraction': 0.8410496309565944, 'bagging_fraction': 0.5328513953242738, 'bagging_freq': 12, 'num_leaves': 654, 'min_child_samples': 93}. Best is trial 42 with value: -0.8929137106407367.\u001b[0m\n"
     ]
    },
    {
     "name": "stdout",
     "output_type": "stream",
     "text": [
      "Early stopping, best iteration is:\n",
      "[40]\ttraining's l1: 1.00675\tvalid_1's l1: 0.897401\n",
      "[LightGBM] [Warning] feature_fraction is set=0.9142136122571914, colsample_bytree=0.7 will be ignored. Current value: feature_fraction=0.9142136122571914\n",
      "[LightGBM] [Warning] bagging_fraction is set=0.4746368003409691, subsample=0.6 will be ignored. Current value: bagging_fraction=0.4746368003409691\n",
      "[LightGBM] [Warning] bagging_freq is set=8, subsample_freq=0 will be ignored. Current value: bagging_freq=8\n",
      "Training until validation scores don't improve for 100 rounds\n",
      "[100]\ttraining's l1: 0.998922\tvalid_1's l1: 0.904189\n"
     ]
    },
    {
     "name": "stderr",
     "output_type": "stream",
     "text": [
      "\u001b[32m[I 2021-07-29 19:57:01,598]\u001b[0m Trial 44 finished with value: -0.8981518756289221 and parameters: {'max_depth': 13, 'min_child_weight': 12, 'subsample': 0.6, 'colsample_bytree': 0.7, 'reg_lambda': 0.006566371230653568, 'reg_alpha': 0.022492900548332292, 'feature_fraction': 0.9142136122571914, 'bagging_fraction': 0.4746368003409691, 'bagging_freq': 8, 'num_leaves': 419, 'min_child_samples': 95}. Best is trial 42 with value: -0.8929137106407367.\u001b[0m\n"
     ]
    },
    {
     "name": "stdout",
     "output_type": "stream",
     "text": [
      "Early stopping, best iteration is:\n",
      "[35]\ttraining's l1: 1.01135\tvalid_1's l1: 0.898153\n",
      "[LightGBM] [Warning] feature_fraction is set=0.9514639886961418, colsample_bytree=0.7 will be ignored. Current value: feature_fraction=0.9514639886961418\n",
      "[LightGBM] [Warning] bagging_fraction is set=0.5737886812996216, subsample=0.7 will be ignored. Current value: bagging_fraction=0.5737886812996216\n",
      "[LightGBM] [Warning] bagging_freq is set=12, subsample_freq=0 will be ignored. Current value: bagging_freq=12\n",
      "Training until validation scores don't improve for 100 rounds\n",
      "[100]\ttraining's l1: 1.01242\tvalid_1's l1: 0.896894\n"
     ]
    },
    {
     "name": "stderr",
     "output_type": "stream",
     "text": [
      "\u001b[32m[I 2021-07-29 19:57:08,858]\u001b[0m Trial 45 finished with value: -0.8961774257218716 and parameters: {'max_depth': 8, 'min_child_weight': 10, 'subsample': 0.7, 'colsample_bytree': 0.7, 'reg_lambda': 0.0027958170375652117, 'reg_alpha': 0.0011142226161974184, 'feature_fraction': 0.9514639886961418, 'bagging_fraction': 0.5737886812996216, 'bagging_freq': 12, 'num_leaves': 713, 'min_child_samples': 88}. Best is trial 42 with value: -0.8929137106407367.\u001b[0m\n"
     ]
    },
    {
     "name": "stdout",
     "output_type": "stream",
     "text": [
      "Early stopping, best iteration is:\n",
      "[91]\ttraining's l1: 1.01352\tvalid_1's l1: 0.896183\n",
      "[LightGBM] [Warning] feature_fraction is set=0.7670713878440201, colsample_bytree=0.5 will be ignored. Current value: feature_fraction=0.7670713878440201\n",
      "[LightGBM] [Warning] bagging_fraction is set=0.9860589432595679, subsample=0.6 will be ignored. Current value: bagging_fraction=0.9860589432595679\n",
      "[LightGBM] [Warning] bagging_freq is set=9, subsample_freq=0 will be ignored. Current value: bagging_freq=9\n",
      "Training until validation scores don't improve for 100 rounds\n",
      "[100]\ttraining's l1: 0.991249\tvalid_1's l1: 0.901416\n"
     ]
    },
    {
     "name": "stderr",
     "output_type": "stream",
     "text": [
      "\u001b[32m[I 2021-07-29 19:57:19,591]\u001b[0m Trial 46 finished with value: -0.8970149757295127 and parameters: {'max_depth': 13, 'min_child_weight': 6, 'subsample': 0.6, 'colsample_bytree': 0.5, 'reg_lambda': 0.49146334481598425, 'reg_alpha': 0.013750952597265121, 'feature_fraction': 0.7670713878440201, 'bagging_fraction': 0.9860589432595679, 'bagging_freq': 9, 'num_leaves': 511, 'min_child_samples': 75}. Best is trial 42 with value: -0.8929137106407367.\u001b[0m\n"
     ]
    },
    {
     "name": "stdout",
     "output_type": "stream",
     "text": [
      "Early stopping, best iteration is:\n",
      "[40]\ttraining's l1: 1.00487\tvalid_1's l1: 0.897017\n",
      "[LightGBM] [Warning] feature_fraction is set=0.8186024333983393, colsample_bytree=0.7 will be ignored. Current value: feature_fraction=0.8186024333983393\n",
      "[LightGBM] [Warning] bagging_fraction is set=0.9373352936392387, subsample=0.5 will be ignored. Current value: bagging_fraction=0.9373352936392387\n",
      "[LightGBM] [Warning] bagging_freq is set=14, subsample_freq=0 will be ignored. Current value: bagging_freq=14\n",
      "Training until validation scores don't improve for 100 rounds\n",
      "[100]\ttraining's l1: 1.01837\tvalid_1's l1: 0.896104\n",
      "[200]\ttraining's l1: 1.01232\tvalid_1's l1: 0.895648\n"
     ]
    },
    {
     "name": "stderr",
     "output_type": "stream",
     "text": [
      "\u001b[32m[I 2021-07-29 19:57:29,340]\u001b[0m Trial 47 finished with value: -0.8947530468823183 and parameters: {'max_depth': 7, 'min_child_weight': 8, 'subsample': 0.5, 'colsample_bytree': 0.7, 'reg_lambda': 0.19648525633224717, 'reg_alpha': 0.04361064151848839, 'feature_fraction': 0.8186024333983393, 'bagging_fraction': 0.9373352936392387, 'bagging_freq': 14, 'num_leaves': 810, 'min_child_samples': 100}. Best is trial 42 with value: -0.8929137106407367.\u001b[0m\n"
     ]
    },
    {
     "name": "stdout",
     "output_type": "stream",
     "text": [
      "Early stopping, best iteration is:\n",
      "[135]\ttraining's l1: 1.01544\tvalid_1's l1: 0.894769\n",
      "[LightGBM] [Warning] feature_fraction is set=0.8906844768790791, colsample_bytree=0.6 will be ignored. Current value: feature_fraction=0.8906844768790791\n",
      "[LightGBM] [Warning] bagging_fraction is set=0.4959451999904442, subsample=0.6 will be ignored. Current value: bagging_fraction=0.4959451999904442\n",
      "[LightGBM] [Warning] bagging_freq is set=10, subsample_freq=0 will be ignored. Current value: bagging_freq=10\n",
      "Training until validation scores don't improve for 100 rounds\n",
      "[100]\ttraining's l1: 0.992633\tvalid_1's l1: 0.906776\n"
     ]
    },
    {
     "name": "stderr",
     "output_type": "stream",
     "text": [
      "\u001b[32m[I 2021-07-29 19:57:38,066]\u001b[0m Trial 48 finished with value: -0.8981090392806762 and parameters: {'max_depth': 17, 'min_child_weight': 8, 'subsample': 0.6, 'colsample_bytree': 0.6, 'reg_lambda': 0.013058905227819807, 'reg_alpha': 0.13677769621706554, 'feature_fraction': 0.8906844768790791, 'bagging_fraction': 0.4959451999904442, 'bagging_freq': 10, 'num_leaves': 560, 'min_child_samples': 85}. Best is trial 42 with value: -0.8929137106407367.\u001b[0m\n"
     ]
    },
    {
     "name": "stdout",
     "output_type": "stream",
     "text": [
      "Early stopping, best iteration is:\n",
      "[29]\ttraining's l1: 1.01001\tvalid_1's l1: 0.898109\n",
      "[LightGBM] [Warning] feature_fraction is set=0.9741976558505221, colsample_bytree=0.6 will be ignored. Current value: feature_fraction=0.9741976558505221\n",
      "[LightGBM] [Warning] bagging_fraction is set=0.5922798176037893, subsample=0.6 will be ignored. Current value: bagging_fraction=0.5922798176037893\n",
      "[LightGBM] [Warning] bagging_freq is set=15, subsample_freq=0 will be ignored. Current value: bagging_freq=15\n",
      "Training until validation scores don't improve for 100 rounds\n",
      "[100]\ttraining's l1: 1.02475\tvalid_1's l1: 0.899058\n",
      "[200]\ttraining's l1: 1.02103\tvalid_1's l1: 0.897411\n"
     ]
    },
    {
     "name": "stderr",
     "output_type": "stream",
     "text": [
      "\u001b[32m[I 2021-07-29 19:57:46,207]\u001b[0m Trial 49 finished with value: -0.8973595716596378 and parameters: {'max_depth': 6, 'min_child_weight': 11, 'subsample': 0.6, 'colsample_bytree': 0.6, 'reg_lambda': 0.09255614751446245, 'reg_alpha': 0.014231304875678374, 'feature_fraction': 0.9741976558505221, 'bagging_fraction': 0.5922798176037893, 'bagging_freq': 15, 'num_leaves': 925, 'min_child_samples': 93}. Best is trial 42 with value: -0.8929137106407367.\u001b[0m\n"
     ]
    },
    {
     "name": "stdout",
     "output_type": "stream",
     "text": [
      "Early stopping, best iteration is:\n",
      "[185]\ttraining's l1: 1.02114\tvalid_1's l1: 0.897377\n",
      "[LightGBM] [Warning] feature_fraction is set=0.9255087094168714, colsample_bytree=0.7 will be ignored. Current value: feature_fraction=0.9255087094168714\n",
      "[LightGBM] [Warning] bagging_fraction is set=0.8988861951298306, subsample=0.5 will be ignored. Current value: bagging_fraction=0.8988861951298306\n",
      "[LightGBM] [Warning] bagging_freq is set=13, subsample_freq=0 will be ignored. Current value: bagging_freq=13\n",
      "Training until validation scores don't improve for 100 rounds\n",
      "[100]\ttraining's l1: 0.988507\tvalid_1's l1: 0.905091\n"
     ]
    },
    {
     "name": "stderr",
     "output_type": "stream",
     "text": [
      "\u001b[32m[I 2021-07-29 19:57:57,094]\u001b[0m Trial 50 finished with value: -0.897083297765834 and parameters: {'max_depth': 14, 'min_child_weight': 13, 'subsample': 0.5, 'colsample_bytree': 0.7, 'reg_lambda': 0.24353383495791645, 'reg_alpha': 0.5483860850884513, 'feature_fraction': 0.9255087094168714, 'bagging_fraction': 0.8988861951298306, 'bagging_freq': 13, 'num_leaves': 647, 'min_child_samples': 97}. Best is trial 42 with value: -0.8929137106407367.\u001b[0m\n"
     ]
    },
    {
     "name": "stdout",
     "output_type": "stream",
     "text": [
      "Early stopping, best iteration is:\n",
      "[27]\ttraining's l1: 1.00905\tvalid_1's l1: 0.897084\n",
      "[LightGBM] [Warning] feature_fraction is set=0.9667315622734819, colsample_bytree=0.8 will be ignored. Current value: feature_fraction=0.9667315622734819\n",
      "[LightGBM] [Warning] bagging_fraction is set=0.6604626892318467, subsample=0.6 will be ignored. Current value: bagging_fraction=0.6604626892318467\n",
      "[LightGBM] [Warning] bagging_freq is set=11, subsample_freq=0 will be ignored. Current value: bagging_freq=11\n",
      "Training until validation scores don't improve for 100 rounds\n",
      "[100]\ttraining's l1: 0.999515\tvalid_1's l1: 0.898027\n"
     ]
    },
    {
     "name": "stderr",
     "output_type": "stream",
     "text": [
      "\u001b[32m[I 2021-07-29 19:58:05,797]\u001b[0m Trial 51 finished with value: -0.8945568276633675 and parameters: {'max_depth': 10, 'min_child_weight': 6, 'subsample': 0.6, 'colsample_bytree': 0.8, 'reg_lambda': 0.05178218405190867, 'reg_alpha': 0.08570556328241344, 'feature_fraction': 0.9667315622734819, 'bagging_fraction': 0.6604626892318467, 'bagging_freq': 11, 'num_leaves': 564, 'min_child_samples': 99}. Best is trial 42 with value: -0.8929137106407367.\u001b[0m\n"
     ]
    },
    {
     "name": "stdout",
     "output_type": "stream",
     "text": [
      "Early stopping, best iteration is:\n",
      "[54]\ttraining's l1: 1.00953\tvalid_1's l1: 0.894558\n",
      "[LightGBM] [Warning] feature_fraction is set=0.999031125349641, colsample_bytree=0.8 will be ignored. Current value: feature_fraction=0.999031125349641\n",
      "[LightGBM] [Warning] bagging_fraction is set=0.7149807933910547, subsample=0.6 will be ignored. Current value: bagging_fraction=0.7149807933910547\n",
      "[LightGBM] [Warning] bagging_freq is set=10, subsample_freq=0 will be ignored. Current value: bagging_freq=10\n",
      "Training until validation scores don't improve for 100 rounds\n",
      "[100]\ttraining's l1: 0.995579\tvalid_1's l1: 0.896019\n"
     ]
    },
    {
     "name": "stderr",
     "output_type": "stream",
     "text": [
      "\u001b[32m[I 2021-07-29 19:58:15,708]\u001b[0m Trial 52 finished with value: -0.8925821718028284 and parameters: {'max_depth': 12, 'min_child_weight': 7, 'subsample': 0.6, 'colsample_bytree': 0.8, 'reg_lambda': 0.01788396916254518, 'reg_alpha': 0.03371095673858391, 'feature_fraction': 0.999031125349641, 'bagging_fraction': 0.7149807933910547, 'bagging_freq': 10, 'num_leaves': 725, 'min_child_samples': 91}. Best is trial 52 with value: -0.8925821718028284.\u001b[0m\n"
     ]
    },
    {
     "name": "stdout",
     "output_type": "stream",
     "text": [
      "Early stopping, best iteration is:\n",
      "[35]\ttraining's l1: 1.00391\tvalid_1's l1: 0.892584\n",
      "[LightGBM] [Warning] feature_fraction is set=0.9635346770565529, colsample_bytree=0.8 will be ignored. Current value: feature_fraction=0.9635346770565529\n",
      "[LightGBM] [Warning] bagging_fraction is set=0.782556403877232, subsample=0.6 will be ignored. Current value: bagging_fraction=0.782556403877232\n",
      "[LightGBM] [Warning] bagging_freq is set=9, subsample_freq=0 will be ignored. Current value: bagging_freq=9\n",
      "Training until validation scores don't improve for 100 rounds\n",
      "[100]\ttraining's l1: 0.994189\tvalid_1's l1: 0.900637\n"
     ]
    },
    {
     "name": "stderr",
     "output_type": "stream",
     "text": [
      "\u001b[32m[I 2021-07-29 19:58:26,370]\u001b[0m Trial 53 finished with value: -0.8973382523442145 and parameters: {'max_depth': 12, 'min_child_weight': 4, 'subsample': 0.6, 'colsample_bytree': 0.8, 'reg_lambda': 0.0011778387024507253, 'reg_alpha': 0.03432945171404226, 'feature_fraction': 0.9635346770565529, 'bagging_fraction': 0.782556403877232, 'bagging_freq': 9, 'num_leaves': 698, 'min_child_samples': 91}. Best is trial 52 with value: -0.8925821718028284.\u001b[0m\n"
     ]
    },
    {
     "name": "stdout",
     "output_type": "stream",
     "text": [
      "Early stopping, best iteration is:\n",
      "[38]\ttraining's l1: 1.00248\tvalid_1's l1: 0.897339\n",
      "[LightGBM] [Warning] feature_fraction is set=0.8244873997460088, colsample_bytree=0.7 will be ignored. Current value: feature_fraction=0.8244873997460088\n",
      "[LightGBM] [Warning] bagging_fraction is set=0.7320876918527345, subsample=0.6 will be ignored. Current value: bagging_fraction=0.7320876918527345\n",
      "[LightGBM] [Warning] bagging_freq is set=8, subsample_freq=0 will be ignored. Current value: bagging_freq=8\n",
      "Training until validation scores don't improve for 100 rounds\n",
      "[100]\ttraining's l1: 0.993833\tvalid_1's l1: 0.900683\n"
     ]
    },
    {
     "name": "stderr",
     "output_type": "stream",
     "text": [
      "\u001b[32m[I 2021-07-29 19:58:35,389]\u001b[0m Trial 54 finished with value: -0.8960193634128546 and parameters: {'max_depth': 11, 'min_child_weight': 8, 'subsample': 0.6, 'colsample_bytree': 0.7, 'reg_lambda': 0.022666179677849257, 'reg_alpha': 0.003425932167454697, 'feature_fraction': 0.8244873997460088, 'bagging_fraction': 0.7320876918527345, 'bagging_freq': 8, 'num_leaves': 815, 'min_child_samples': 81}. Best is trial 52 with value: -0.8925821718028284.\u001b[0m\n"
     ]
    },
    {
     "name": "stdout",
     "output_type": "stream",
     "text": [
      "Early stopping, best iteration is:\n",
      "[43]\ttraining's l1: 1.00437\tvalid_1's l1: 0.89602\n",
      "[LightGBM] [Warning] feature_fraction is set=0.8870578164089034, colsample_bytree=0.8 will be ignored. Current value: feature_fraction=0.8870578164089034\n",
      "[LightGBM] [Warning] bagging_fraction is set=0.604798771025585, subsample=0.7 will be ignored. Current value: bagging_fraction=0.604798771025585\n",
      "[LightGBM] [Warning] bagging_freq is set=10, subsample_freq=0 will be ignored. Current value: bagging_freq=10\n",
      "Training until validation scores don't improve for 100 rounds\n",
      "[100]\ttraining's l1: 0.990082\tvalid_1's l1: 0.903549\n"
     ]
    },
    {
     "name": "stderr",
     "output_type": "stream",
     "text": [
      "\u001b[32m[I 2021-07-29 19:58:45,589]\u001b[0m Trial 55 finished with value: -0.8965092694274499 and parameters: {'max_depth': 14, 'min_child_weight': 10, 'subsample': 0.7, 'colsample_bytree': 0.8, 'reg_lambda': 1.7194091847353694, 'reg_alpha': 0.24635981668806137, 'feature_fraction': 0.8870578164089034, 'bagging_fraction': 0.604798771025585, 'bagging_freq': 10, 'num_leaves': 739, 'min_child_samples': 97}. Best is trial 52 with value: -0.8925821718028284.\u001b[0m\n"
     ]
    },
    {
     "name": "stdout",
     "output_type": "stream",
     "text": [
      "Early stopping, best iteration is:\n",
      "[22]\ttraining's l1: 1.01116\tvalid_1's l1: 0.896509\n",
      "[LightGBM] [Warning] feature_fraction is set=0.9267522498015477, colsample_bytree=0.7 will be ignored. Current value: feature_fraction=0.9267522498015477\n",
      "[LightGBM] [Warning] bagging_fraction is set=0.5577744027678756, subsample=0.5 will be ignored. Current value: bagging_fraction=0.5577744027678756\n",
      "[LightGBM] [Warning] bagging_freq is set=2, subsample_freq=0 will be ignored. Current value: bagging_freq=2\n",
      "Training until validation scores don't improve for 100 rounds\n",
      "[100]\ttraining's l1: 1.0071\tvalid_1's l1: 0.8956\n"
     ]
    },
    {
     "name": "stderr",
     "output_type": "stream",
     "text": [
      "\u001b[32m[I 2021-07-29 19:58:52,947]\u001b[0m Trial 56 finished with value: -0.8940193594000923 and parameters: {'max_depth': 9, 'min_child_weight': 5, 'subsample': 0.5, 'colsample_bytree': 0.7, 'reg_lambda': 0.003479469138990308, 'reg_alpha': 0.007443754589453073, 'feature_fraction': 0.9267522498015477, 'bagging_fraction': 0.5577744027678756, 'bagging_freq': 2, 'num_leaves': 632, 'min_child_samples': 92}. Best is trial 52 with value: -0.8925821718028284.\u001b[0m\n"
     ]
    },
    {
     "name": "stdout",
     "output_type": "stream",
     "text": [
      "Early stopping, best iteration is:\n",
      "[40]\ttraining's l1: 1.01486\tvalid_1's l1: 0.89402\n",
      "[LightGBM] [Warning] feature_fraction is set=0.9176963814004716, colsample_bytree=0.7 will be ignored. Current value: feature_fraction=0.9176963814004716\n",
      "[LightGBM] [Warning] bagging_fraction is set=0.5547697932557305, subsample=0.5 will be ignored. Current value: bagging_fraction=0.5547697932557305\n",
      "[LightGBM] [Warning] bagging_freq is set=1, subsample_freq=0 will be ignored. Current value: bagging_freq=1\n",
      "Training until validation scores don't improve for 100 rounds\n",
      "[100]\ttraining's l1: 1.01429\tvalid_1's l1: 0.895991\n"
     ]
    },
    {
     "name": "stderr",
     "output_type": "stream",
     "text": [
      "\u001b[32m[I 2021-07-29 19:58:58,880]\u001b[0m Trial 57 finished with value: -0.8956740394786789 and parameters: {'max_depth': 8, 'min_child_weight': 2, 'subsample': 0.5, 'colsample_bytree': 0.7, 'reg_lambda': 0.0020407119332807714, 'reg_alpha': 0.008465444720782901, 'feature_fraction': 0.9176963814004716, 'bagging_fraction': 0.5547697932557305, 'bagging_freq': 1, 'num_leaves': 627, 'min_child_samples': 85}. Best is trial 52 with value: -0.8925821718028284.\u001b[0m\n"
     ]
    },
    {
     "name": "stdout",
     "output_type": "stream",
     "text": [
      "Early stopping, best iteration is:\n",
      "[48]\ttraining's l1: 1.01816\tvalid_1's l1: 0.895676\n",
      "[LightGBM] [Warning] feature_fraction is set=0.7895340916810264, colsample_bytree=0.7 will be ignored. Current value: feature_fraction=0.7895340916810264\n",
      "[LightGBM] [Warning] bagging_fraction is set=0.8486111720547334, subsample=0.5 will be ignored. Current value: bagging_fraction=0.8486111720547334\n",
      "[LightGBM] [Warning] bagging_freq is set=2, subsample_freq=0 will be ignored. Current value: bagging_freq=2\n",
      "Training until validation scores don't improve for 100 rounds\n",
      "[100]\ttraining's l1: 0.991298\tvalid_1's l1: 0.898778\n"
     ]
    },
    {
     "name": "stderr",
     "output_type": "stream",
     "text": [
      "\u001b[32m[I 2021-07-29 19:59:09,626]\u001b[0m Trial 58 finished with value: -0.8948984921149286 and parameters: {'max_depth': 11, 'min_child_weight': 5, 'subsample': 0.5, 'colsample_bytree': 0.7, 'reg_lambda': 0.00290173789926495, 'reg_alpha': 0.018749528736675337, 'feature_fraction': 0.7895340916810264, 'bagging_fraction': 0.8486111720547334, 'bagging_freq': 2, 'num_leaves': 762, 'min_child_samples': 72}. Best is trial 52 with value: -0.8925821718028284.\u001b[0m\n"
     ]
    },
    {
     "name": "stdout",
     "output_type": "stream",
     "text": [
      "Early stopping, best iteration is:\n",
      "[41]\ttraining's l1: 1.00326\tvalid_1's l1: 0.894902\n",
      "[LightGBM] [Warning] feature_fraction is set=0.872044498763349, colsample_bytree=0.6 will be ignored. Current value: feature_fraction=0.872044498763349\n",
      "[LightGBM] [Warning] bagging_fraction is set=0.44539305473528734, subsample=0.5 will be ignored. Current value: bagging_fraction=0.44539305473528734\n",
      "[LightGBM] [Warning] bagging_freq is set=6, subsample_freq=0 will be ignored. Current value: bagging_freq=6\n",
      "Training until validation scores don't improve for 100 rounds\n",
      "[100]\ttraining's l1: 0.994813\tvalid_1's l1: 0.903523\n"
     ]
    },
    {
     "name": "stderr",
     "output_type": "stream",
     "text": [
      "\u001b[32m[I 2021-07-29 19:59:16,700]\u001b[0m Trial 59 finished with value: -0.8973896101573502 and parameters: {'max_depth': 12, 'min_child_weight': 19, 'subsample': 0.5, 'colsample_bytree': 0.6, 'reg_lambda': 0.007950750148667123, 'reg_alpha': 0.0017554522508977056, 'feature_fraction': 0.872044498763349, 'bagging_fraction': 0.44539305473528734, 'bagging_freq': 6, 'num_leaves': 675, 'min_child_samples': 87}. Best is trial 52 with value: -0.8925821718028284.\u001b[0m\n"
     ]
    },
    {
     "name": "stdout",
     "output_type": "stream",
     "text": [
      "Early stopping, best iteration is:\n",
      "[21]\ttraining's l1: 1.01476\tvalid_1's l1: 0.89739\n",
      "[LightGBM] [Warning] feature_fraction is set=0.9403266210877747, colsample_bytree=0.7 will be ignored. Current value: feature_fraction=0.9403266210877747\n",
      "[LightGBM] [Warning] bagging_fraction is set=0.5035554367543135, subsample=0.8 will be ignored. Current value: bagging_fraction=0.5035554367543135\n",
      "[LightGBM] [Warning] bagging_freq is set=3, subsample_freq=0 will be ignored. Current value: bagging_freq=3\n",
      "Training until validation scores don't improve for 100 rounds\n",
      "[100]\ttraining's l1: 1.00068\tvalid_1's l1: 0.900317\n"
     ]
    },
    {
     "name": "stderr",
     "output_type": "stream",
     "text": [
      "\u001b[32m[I 2021-07-29 19:59:24,622]\u001b[0m Trial 60 finished with value: -0.895020776002479 and parameters: {'max_depth': 10, 'min_child_weight': 17, 'subsample': 0.8, 'colsample_bytree': 0.7, 'reg_lambda': 4.496592723122274, 'reg_alpha': 0.007164072938600297, 'feature_fraction': 0.9403266210877747, 'bagging_fraction': 0.5035554367543135, 'bagging_freq': 3, 'num_leaves': 846, 'min_child_samples': 77}. Best is trial 52 with value: -0.8925821718028284.\u001b[0m\n"
     ]
    },
    {
     "name": "stdout",
     "output_type": "stream",
     "text": [
      "Early stopping, best iteration is:\n",
      "[36]\ttraining's l1: 1.01326\tvalid_1's l1: 0.895022\n",
      "[LightGBM] [Warning] feature_fraction is set=0.9975361726725062, colsample_bytree=0.7 will be ignored. Current value: feature_fraction=0.9975361726725062\n",
      "[LightGBM] [Warning] bagging_fraction is set=0.6133232404693901, subsample=0.6 will be ignored. Current value: bagging_fraction=0.6133232404693901\n",
      "[LightGBM] [Warning] bagging_freq is set=12, subsample_freq=0 will be ignored. Current value: bagging_freq=12\n",
      "Training until validation scores don't improve for 100 rounds\n",
      "[100]\ttraining's l1: 1.00788\tvalid_1's l1: 0.895234\n"
     ]
    },
    {
     "name": "stderr",
     "output_type": "stream",
     "text": [
      "\u001b[32m[I 2021-07-29 19:59:32,312]\u001b[0m Trial 61 finished with value: -0.8937485492839092 and parameters: {'max_depth': 9, 'min_child_weight': 6, 'subsample': 0.6, 'colsample_bytree': 0.7, 'reg_lambda': 0.019294163873129114, 'reg_alpha': 0.03226209364906129, 'feature_fraction': 0.9975361726725062, 'bagging_fraction': 0.6133232404693901, 'bagging_freq': 12, 'num_leaves': 496, 'min_child_samples': 92}. Best is trial 52 with value: -0.8925821718028284.\u001b[0m\n"
     ]
    },
    {
     "name": "stdout",
     "output_type": "stream",
     "text": [
      "Early stopping, best iteration is:\n",
      "[64]\ttraining's l1: 1.01192\tvalid_1's l1: 0.893753\n",
      "[LightGBM] [Warning] feature_fraction is set=0.9997006043568614, colsample_bytree=0.7 will be ignored. Current value: feature_fraction=0.9997006043568614\n",
      "[LightGBM] [Warning] bagging_fraction is set=0.6239765813691776, subsample=0.6 will be ignored. Current value: bagging_fraction=0.6239765813691776\n",
      "[LightGBM] [Warning] bagging_freq is set=12, subsample_freq=0 will be ignored. Current value: bagging_freq=12\n",
      "Training until validation scores don't improve for 100 rounds\n",
      "[100]\ttraining's l1: 1.01806\tvalid_1's l1: 0.895778\n",
      "[200]\ttraining's l1: 1.01405\tvalid_1's l1: 0.896337\n"
     ]
    },
    {
     "name": "stderr",
     "output_type": "stream",
     "text": [
      "\u001b[32m[I 2021-07-29 19:59:41,188]\u001b[0m Trial 62 finished with value: -0.8950961048569172 and parameters: {'max_depth': 7, 'min_child_weight': 6, 'subsample': 0.6, 'colsample_bytree': 0.7, 'reg_lambda': 0.011112786591648821, 'reg_alpha': 0.034402210118399154, 'feature_fraction': 0.9997006043568614, 'bagging_fraction': 0.6239765813691776, 'bagging_freq': 12, 'num_leaves': 502, 'min_child_samples': 92}. Best is trial 52 with value: -0.8925821718028284.\u001b[0m\n"
     ]
    },
    {
     "name": "stdout",
     "output_type": "stream",
     "text": [
      "Early stopping, best iteration is:\n",
      "[176]\ttraining's l1: 1.01531\tvalid_1's l1: 0.895113\n",
      "[LightGBM] [Warning] feature_fraction is set=0.9044441608701748, colsample_bytree=0.7 will be ignored. Current value: feature_fraction=0.9044441608701748\n",
      "[LightGBM] [Warning] bagging_fraction is set=0.5615068918366573, subsample=0.6 will be ignored. Current value: bagging_fraction=0.5615068918366573\n",
      "[LightGBM] [Warning] bagging_freq is set=19, subsample_freq=0 will be ignored. Current value: bagging_freq=19\n",
      "Training until validation scores don't improve for 100 rounds\n",
      "[100]\ttraining's l1: 1.00884\tvalid_1's l1: 0.894669\n"
     ]
    },
    {
     "name": "stderr",
     "output_type": "stream",
     "text": [
      "\u001b[32m[I 2021-07-29 19:59:48,497]\u001b[0m Trial 63 finished with value: -0.8940747740254844 and parameters: {'max_depth': 9, 'min_child_weight': 5, 'subsample': 0.6, 'colsample_bytree': 0.7, 'reg_lambda': 0.004792338423918939, 'reg_alpha': 0.004065902327564372, 'feature_fraction': 0.9044441608701748, 'bagging_fraction': 0.5615068918366573, 'bagging_freq': 19, 'num_leaves': 477, 'min_child_samples': 95}. Best is trial 52 with value: -0.8925821718028284.\u001b[0m\n"
     ]
    },
    {
     "name": "stdout",
     "output_type": "stream",
     "text": [
      "Early stopping, best iteration is:\n",
      "[68]\ttraining's l1: 1.01201\tvalid_1's l1: 0.894083\n",
      "[LightGBM] [Warning] feature_fraction is set=0.9027547054903504, colsample_bytree=0.7 will be ignored. Current value: feature_fraction=0.9027547054903504\n",
      "[LightGBM] [Warning] bagging_fraction is set=0.5272619543594576, subsample=0.5 will be ignored. Current value: bagging_fraction=0.5272619543594576\n",
      "[LightGBM] [Warning] bagging_freq is set=17, subsample_freq=0 will be ignored. Current value: bagging_freq=17\n",
      "Training until validation scores don't improve for 100 rounds\n",
      "[100]\ttraining's l1: 1.00655\tvalid_1's l1: 0.897132\n"
     ]
    },
    {
     "name": "stderr",
     "output_type": "stream",
     "text": [
      "\u001b[32m[I 2021-07-29 19:59:55,210]\u001b[0m Trial 64 finished with value: -0.8946427444611329 and parameters: {'max_depth': 9, 'min_child_weight': 4, 'subsample': 0.5, 'colsample_bytree': 0.7, 'reg_lambda': 0.004580185806009534, 'reg_alpha': 0.003549061150532745, 'feature_fraction': 0.9027547054903504, 'bagging_fraction': 0.5272619543594576, 'bagging_freq': 17, 'num_leaves': 404, 'min_child_samples': 96}. Best is trial 52 with value: -0.8925821718028284.\u001b[0m\n"
     ]
    },
    {
     "name": "stdout",
     "output_type": "stream",
     "text": [
      "Early stopping, best iteration is:\n",
      "[62]\ttraining's l1: 1.01192\tvalid_1's l1: 0.894645\n",
      "[LightGBM] [Warning] feature_fraction is set=0.9720605913684796, colsample_bytree=0.7 will be ignored. Current value: feature_fraction=0.9720605913684796\n",
      "[LightGBM] [Warning] bagging_fraction is set=0.5631562425804435, subsample=0.6 will be ignored. Current value: bagging_fraction=0.5631562425804435\n",
      "[LightGBM] [Warning] bagging_freq is set=14, subsample_freq=0 will be ignored. Current value: bagging_freq=14\n",
      "Training until validation scores don't improve for 100 rounds\n",
      "[100]\ttraining's l1: 0.995792\tvalid_1's l1: 0.903841\n"
     ]
    },
    {
     "name": "stderr",
     "output_type": "stream",
     "text": [
      "\u001b[32m[I 2021-07-29 20:00:03,980]\u001b[0m Trial 65 finished with value: -0.8970772169829844 and parameters: {'max_depth': 13, 'min_child_weight': 5, 'subsample': 0.6, 'colsample_bytree': 0.7, 'reg_lambda': 0.0197759125800595, 'reg_alpha': 0.005394720516500789, 'feature_fraction': 0.9720605913684796, 'bagging_fraction': 0.5631562425804435, 'bagging_freq': 14, 'num_leaves': 480, 'min_child_samples': 91}. Best is trial 52 with value: -0.8925821718028284.\u001b[0m\n"
     ]
    },
    {
     "name": "stdout",
     "output_type": "stream",
     "text": [
      "Early stopping, best iteration is:\n",
      "[28]\ttraining's l1: 1.01302\tvalid_1's l1: 0.897078\n",
      "[LightGBM] [Warning] feature_fraction is set=0.8396344938638094, colsample_bytree=0.7 will be ignored. Current value: feature_fraction=0.8396344938638094\n",
      "[LightGBM] [Warning] bagging_fraction is set=0.7051051712894533, subsample=0.7 will be ignored. Current value: bagging_fraction=0.7051051712894533\n",
      "[LightGBM] [Warning] bagging_freq is set=18, subsample_freq=0 will be ignored. Current value: bagging_freq=18\n",
      "Training until validation scores don't improve for 100 rounds\n",
      "[100]\ttraining's l1: 1.00089\tvalid_1's l1: 0.899778\n"
     ]
    },
    {
     "name": "stderr",
     "output_type": "stream",
     "text": [
      "\u001b[32m[I 2021-07-29 20:00:12,502]\u001b[0m Trial 66 finished with value: -0.8960069865750968 and parameters: {'max_depth': 11, 'min_child_weight': 6, 'subsample': 0.7, 'colsample_bytree': 0.7, 'reg_lambda': 0.009220958561513021, 'reg_alpha': 0.0022453142909100087, 'feature_fraction': 0.8396344938638094, 'bagging_fraction': 0.7051051712894533, 'bagging_freq': 18, 'num_leaves': 375, 'min_child_samples': 96}. Best is trial 52 with value: -0.8925821718028284.\u001b[0m\n"
     ]
    },
    {
     "name": "stdout",
     "output_type": "stream",
     "text": [
      "Early stopping, best iteration is:\n",
      "[51]\ttraining's l1: 1.00817\tvalid_1's l1: 0.89601\n",
      "[LightGBM] [Warning] feature_fraction is set=0.929047516080226, colsample_bytree=0.6 will be ignored. Current value: feature_fraction=0.929047516080226\n",
      "[LightGBM] [Warning] bagging_fraction is set=0.608486575057876, subsample=0.6 will be ignored. Current value: bagging_fraction=0.608486575057876\n",
      "[LightGBM] [Warning] bagging_freq is set=15, subsample_freq=0 will be ignored. Current value: bagging_freq=15\n",
      "Training until validation scores don't improve for 100 rounds\n",
      "[100]\ttraining's l1: 1.00726\tvalid_1's l1: 0.896471\n"
     ]
    },
    {
     "name": "stderr",
     "output_type": "stream",
     "text": [
      "\u001b[32m[I 2021-07-29 20:00:19,989]\u001b[0m Trial 67 finished with value: -0.8953774235664678 and parameters: {'max_depth': 9, 'min_child_weight': 2, 'subsample': 0.6, 'colsample_bytree': 0.6, 'reg_lambda': 0.003637737967342736, 'reg_alpha': 0.01694194079941866, 'feature_fraction': 0.929047516080226, 'bagging_fraction': 0.608486575057876, 'bagging_freq': 15, 'num_leaves': 437, 'min_child_samples': 51}. Best is trial 52 with value: -0.8925821718028284.\u001b[0m\n"
     ]
    },
    {
     "name": "stdout",
     "output_type": "stream",
     "text": [
      "Early stopping, best iteration is:\n",
      "[58]\ttraining's l1: 1.01062\tvalid_1's l1: 0.89538\n",
      "[LightGBM] [Warning] feature_fraction is set=0.9017843519969928, colsample_bytree=0.7 will be ignored. Current value: feature_fraction=0.9017843519969928\n",
      "[LightGBM] [Warning] bagging_fraction is set=0.5197995933819188, subsample=0.6 will be ignored. Current value: bagging_fraction=0.5197995933819188\n",
      "[LightGBM] [Warning] bagging_freq is set=13, subsample_freq=0 will be ignored. Current value: bagging_freq=13\n",
      "Training until validation scores don't improve for 100 rounds\n",
      "[100]\ttraining's l1: 1.00055\tvalid_1's l1: 0.89868\n"
     ]
    },
    {
     "name": "stderr",
     "output_type": "stream",
     "text": [
      "\u001b[32m[I 2021-07-29 20:00:27,394]\u001b[0m Trial 68 finished with value: -0.8970315112793661 and parameters: {'max_depth': 10, 'min_child_weight': 8, 'subsample': 0.6, 'colsample_bytree': 0.7, 'reg_lambda': 0.0013167725560244794, 'reg_alpha': 0.008064891784107188, 'feature_fraction': 0.9017843519969928, 'bagging_fraction': 0.5197995933819188, 'bagging_freq': 13, 'num_leaves': 515, 'min_child_samples': 87}. Best is trial 52 with value: -0.8925821718028284.\u001b[0m\n"
     ]
    },
    {
     "name": "stdout",
     "output_type": "stream",
     "text": [
      "Early stopping, best iteration is:\n",
      "[58]\ttraining's l1: 1.00733\tvalid_1's l1: 0.897034\n",
      "[LightGBM] [Warning] feature_fraction is set=0.32310326807180706, colsample_bytree=0.7 will be ignored. Current value: feature_fraction=0.32310326807180706\n",
      "[LightGBM] [Warning] bagging_fraction is set=0.5496988298347013, subsample=0.6 will be ignored. Current value: bagging_fraction=0.5496988298347013\n",
      "[LightGBM] [Warning] bagging_freq is set=7, subsample_freq=0 will be ignored. Current value: bagging_freq=7\n",
      "Training until validation scores don't improve for 100 rounds\n",
      "[100]\ttraining's l1: 1.00012\tvalid_1's l1: 0.901288\n"
     ]
    },
    {
     "name": "stderr",
     "output_type": "stream",
     "text": [
      "\u001b[32m[I 2021-07-29 20:00:34,168]\u001b[0m Trial 69 finished with value: -0.8981393164112392 and parameters: {'max_depth': 11, 'min_child_weight': 5, 'subsample': 0.6, 'colsample_bytree': 0.7, 'reg_lambda': 0.002116593903519477, 'reg_alpha': 0.010969492724529045, 'feature_fraction': 0.32310326807180706, 'bagging_fraction': 0.5496988298347013, 'bagging_freq': 7, 'num_leaves': 328, 'min_child_samples': 82}. Best is trial 52 with value: -0.8925821718028284.\u001b[0m\n"
     ]
    },
    {
     "name": "stdout",
     "output_type": "stream",
     "text": [
      "Early stopping, best iteration is:\n",
      "[51]\ttraining's l1: 1.00929\tvalid_1's l1: 0.898149\n",
      "[LightGBM] [Warning] feature_fraction is set=0.8624901560718432, colsample_bytree=0.7 will be ignored. Current value: feature_fraction=0.8624901560718432\n",
      "[LightGBM] [Warning] bagging_fraction is set=0.6726107006930468, subsample=0.5 will be ignored. Current value: bagging_fraction=0.6726107006930468\n",
      "[LightGBM] [Warning] bagging_freq is set=6, subsample_freq=0 will be ignored. Current value: bagging_freq=6\n",
      "Training until validation scores don't improve for 100 rounds\n",
      "[100]\ttraining's l1: 0.992006\tvalid_1's l1: 0.899794\n"
     ]
    },
    {
     "name": "stderr",
     "output_type": "stream",
     "text": [
      "\u001b[32m[I 2021-07-29 20:00:43,307]\u001b[0m Trial 70 finished with value: -0.8955605835104414 and parameters: {'max_depth': 12, 'min_child_weight': 7, 'subsample': 0.5, 'colsample_bytree': 0.7, 'reg_lambda': 0.08363894582150562, 'reg_alpha': 0.03052537705394536, 'feature_fraction': 0.8624901560718432, 'bagging_fraction': 0.6726107006930468, 'bagging_freq': 6, 'num_leaves': 613, 'min_child_samples': 93}. Best is trial 52 with value: -0.8925821718028284.\u001b[0m\n"
     ]
    },
    {
     "name": "stdout",
     "output_type": "stream",
     "text": [
      "Early stopping, best iteration is:\n",
      "[35]\ttraining's l1: 1.00509\tvalid_1's l1: 0.895561\n",
      "[LightGBM] [Warning] feature_fraction is set=0.9675140216375767, colsample_bytree=0.7 will be ignored. Current value: feature_fraction=0.9675140216375767\n",
      "[LightGBM] [Warning] bagging_fraction is set=0.620901497475904, subsample=0.6 will be ignored. Current value: bagging_fraction=0.620901497475904\n",
      "[LightGBM] [Warning] bagging_freq is set=20, subsample_freq=0 will be ignored. Current value: bagging_freq=20\n",
      "Training until validation scores don't improve for 100 rounds\n",
      "[100]\ttraining's l1: 1.02352\tvalid_1's l1: 0.898248\n",
      "[200]\ttraining's l1: 1.01767\tvalid_1's l1: 0.897357\n"
     ]
    },
    {
     "name": "stderr",
     "output_type": "stream",
     "text": [
      "\u001b[32m[I 2021-07-29 20:00:50,415]\u001b[0m Trial 71 finished with value: -0.8969502277931193 and parameters: {'max_depth': 6, 'min_child_weight': 4, 'subsample': 0.6, 'colsample_bytree': 0.7, 'reg_lambda': 0.722117179140654, 'reg_alpha': 1.9026898307287867, 'feature_fraction': 0.9675140216375767, 'bagging_fraction': 0.620901497475904, 'bagging_freq': 20, 'num_leaves': 721, 'min_child_samples': 89}. Best is trial 52 with value: -0.8925821718028284.\u001b[0m\n"
     ]
    },
    {
     "name": "stdout",
     "output_type": "stream",
     "text": [
      "Early stopping, best iteration is:\n",
      "[144]\ttraining's l1: 1.02077\tvalid_1's l1: 0.896962\n",
      "[LightGBM] [Warning] feature_fraction is set=0.9957221422219127, colsample_bytree=0.7 will be ignored. Current value: feature_fraction=0.9957221422219127\n",
      "[LightGBM] [Warning] bagging_fraction is set=0.5774214487044579, subsample=0.6 will be ignored. Current value: bagging_fraction=0.5774214487044579\n",
      "[LightGBM] [Warning] bagging_freq is set=19, subsample_freq=0 will be ignored. Current value: bagging_freq=19\n",
      "Training until validation scores don't improve for 100 rounds\n",
      "[100]\ttraining's l1: 1.01339\tvalid_1's l1: 0.894831\n"
     ]
    },
    {
     "name": "stderr",
     "output_type": "stream",
     "text": [
      "\u001b[32m[I 2021-07-29 20:00:57,072]\u001b[0m Trial 72 finished with value: -0.894557733174566 and parameters: {'max_depth': 8, 'min_child_weight': 6, 'subsample': 0.6, 'colsample_bytree': 0.7, 'reg_lambda': 0.017964279234580775, 'reg_alpha': 0.00446920355255394, 'feature_fraction': 0.9957221422219127, 'bagging_fraction': 0.5774214487044579, 'bagging_freq': 19, 'num_leaves': 954, 'min_child_samples': 85}. Best is trial 52 with value: -0.8925821718028284.\u001b[0m\n"
     ]
    },
    {
     "name": "stdout",
     "output_type": "stream",
     "text": [
      "Early stopping, best iteration is:\n",
      "[72]\ttraining's l1: 1.01512\tvalid_1's l1: 0.894562\n",
      "[LightGBM] [Warning] feature_fraction is set=0.9368459073066641, colsample_bytree=0.8 will be ignored. Current value: feature_fraction=0.9368459073066641\n",
      "[LightGBM] [Warning] bagging_fraction is set=0.42069153004437687, subsample=0.6 will be ignored. Current value: bagging_fraction=0.42069153004437687\n",
      "[LightGBM] [Warning] bagging_freq is set=19, subsample_freq=0 will be ignored. Current value: bagging_freq=19\n",
      "Training until validation scores don't improve for 100 rounds\n",
      "[100]\ttraining's l1: 1.00907\tvalid_1's l1: 0.898469\n"
     ]
    },
    {
     "name": "stderr",
     "output_type": "stream",
     "text": [
      "\u001b[32m[I 2021-07-29 20:01:03,286]\u001b[0m Trial 73 finished with value: -0.8959368102863436 and parameters: {'max_depth': 9, 'min_child_weight': 16, 'subsample': 0.6, 'colsample_bytree': 0.8, 'reg_lambda': 0.14628674765542615, 'reg_alpha': 4.473518288991832, 'feature_fraction': 0.9368459073066641, 'bagging_fraction': 0.42069153004437687, 'bagging_freq': 19, 'num_leaves': 899, 'min_child_samples': 97}. Best is trial 52 with value: -0.8925821718028284.\u001b[0m\n"
     ]
    },
    {
     "name": "stdout",
     "output_type": "stream",
     "text": [
      "Early stopping, best iteration is:\n",
      "[54]\ttraining's l1: 1.01631\tvalid_1's l1: 0.895939\n",
      "[LightGBM] [Warning] feature_fraction is set=0.9600042558843003, colsample_bytree=0.6 will be ignored. Current value: feature_fraction=0.9600042558843003\n",
      "[LightGBM] [Warning] bagging_fraction is set=0.5935478619599722, subsample=0.6 will be ignored. Current value: bagging_fraction=0.5935478619599722\n",
      "[LightGBM] [Warning] bagging_freq is set=12, subsample_freq=0 will be ignored. Current value: bagging_freq=12\n",
      "Training until validation scores don't improve for 100 rounds\n",
      "[100]\ttraining's l1: 1.01973\tvalid_1's l1: 0.897359\n",
      "[200]\ttraining's l1: 1.01343\tvalid_1's l1: 0.896718\n"
     ]
    },
    {
     "name": "stderr",
     "output_type": "stream",
     "text": [
      "\u001b[32m[I 2021-07-29 20:01:11,426]\u001b[0m Trial 74 finished with value: -0.8964044839297699 and parameters: {'max_depth': 7, 'min_child_weight': 9, 'subsample': 0.6, 'colsample_bytree': 0.6, 'reg_lambda': 0.04041964673671921, 'reg_alpha': 0.09798455633737496, 'feature_fraction': 0.9600042558843003, 'bagging_fraction': 0.5935478619599722, 'bagging_freq': 12, 'num_leaves': 543, 'min_child_samples': 91}. Best is trial 52 with value: -0.8925821718028284.\u001b[0m\n"
     ]
    },
    {
     "name": "stdout",
     "output_type": "stream",
     "text": [
      "Early stopping, best iteration is:\n",
      "[151]\ttraining's l1: 1.01525\tvalid_1's l1: 0.896416\n",
      "[LightGBM] [Warning] feature_fraction is set=0.9983197602882729, colsample_bytree=0.8 will be ignored. Current value: feature_fraction=0.9983197602882729\n",
      "[LightGBM] [Warning] bagging_fraction is set=0.5093137550851895, subsample=0.6 will be ignored. Current value: bagging_fraction=0.5093137550851895\n",
      "[LightGBM] [Warning] bagging_freq is set=18, subsample_freq=0 will be ignored. Current value: bagging_freq=18\n",
      "Training until validation scores don't improve for 100 rounds\n",
      "[100]\ttraining's l1: 1.01406\tvalid_1's l1: 0.89555\n"
     ]
    },
    {
     "name": "stderr",
     "output_type": "stream",
     "text": [
      "\u001b[32m[I 2021-07-29 20:01:17,417]\u001b[0m Trial 75 finished with value: -0.8948569273891919 and parameters: {'max_depth': 8, 'min_child_weight': 5, 'subsample': 0.6, 'colsample_bytree': 0.8, 'reg_lambda': 0.06633390339674415, 'reg_alpha': 0.186505818613493, 'feature_fraction': 0.9983197602882729, 'bagging_fraction': 0.5093137550851895, 'bagging_freq': 18, 'num_leaves': 793, 'min_child_samples': 100}. Best is trial 52 with value: -0.8925821718028284.\u001b[0m\n"
     ]
    },
    {
     "name": "stdout",
     "output_type": "stream",
     "text": [
      "Early stopping, best iteration is:\n",
      "[60]\ttraining's l1: 1.01702\tvalid_1's l1: 0.894859\n",
      "[LightGBM] [Warning] feature_fraction is set=0.9218034199474063, colsample_bytree=0.9 will be ignored. Current value: feature_fraction=0.9218034199474063\n",
      "[LightGBM] [Warning] bagging_fraction is set=0.7134038993225498, subsample=0.7 will be ignored. Current value: bagging_fraction=0.7134038993225498\n",
      "[LightGBM] [Warning] bagging_freq is set=16, subsample_freq=0 will be ignored. Current value: bagging_freq=16\n",
      "Training until validation scores don't improve for 100 rounds\n",
      "[100]\ttraining's l1: 1.0013\tvalid_1's l1: 0.895407\n"
     ]
    },
    {
     "name": "stderr",
     "output_type": "stream",
     "text": [
      "\u001b[32m[I 2021-07-29 20:01:26,477]\u001b[0m Trial 76 finished with value: -0.8944516317657184 and parameters: {'max_depth': 10, 'min_child_weight': 3, 'subsample': 0.7, 'colsample_bytree': 0.9, 'reg_lambda': 0.004913327927723787, 'reg_alpha': 0.7525803456339974, 'feature_fraction': 0.9218034199474063, 'bagging_fraction': 0.7134038993225498, 'bagging_freq': 16, 'num_leaves': 489, 'min_child_samples': 80}. Best is trial 52 with value: -0.8925821718028284.\u001b[0m\n"
     ]
    },
    {
     "name": "stdout",
     "output_type": "stream",
     "text": [
      "Early stopping, best iteration is:\n",
      "[68]\ttraining's l1: 1.00537\tvalid_1's l1: 0.894457\n",
      "[LightGBM] [Warning] feature_fraction is set=0.880045619013762, colsample_bytree=0.7 will be ignored. Current value: feature_fraction=0.880045619013762\n",
      "[LightGBM] [Warning] bagging_fraction is set=0.6336316515828481, subsample=0.6 will be ignored. Current value: bagging_fraction=0.6336316515828481\n",
      "[LightGBM] [Warning] bagging_freq is set=10, subsample_freq=0 will be ignored. Current value: bagging_freq=10\n",
      "Training until validation scores don't improve for 100 rounds\n",
      "[100]\ttraining's l1: 1.0065\tvalid_1's l1: 0.895473\n"
     ]
    },
    {
     "name": "stderr",
     "output_type": "stream",
     "text": [
      "\u001b[32m[I 2021-07-29 20:01:33,979]\u001b[0m Trial 77 finished with value: -0.8944614519605434 and parameters: {'max_depth': 9, 'min_child_weight': 7, 'subsample': 0.6, 'colsample_bytree': 0.7, 'reg_lambda': 0.3576375906185226, 'reg_alpha': 0.001476831428422491, 'feature_fraction': 0.880045619013762, 'bagging_fraction': 0.6336316515828481, 'bagging_freq': 10, 'num_leaves': 680, 'min_child_samples': 95}. Best is trial 52 with value: -0.8925821718028284.\u001b[0m\n"
     ]
    },
    {
     "name": "stdout",
     "output_type": "stream",
     "text": [
      "Early stopping, best iteration is:\n",
      "[65]\ttraining's l1: 1.01151\tvalid_1's l1: 0.894468\n",
      "[LightGBM] [Warning] feature_fraction is set=0.8425240874752264, colsample_bytree=0.7 will be ignored. Current value: feature_fraction=0.8425240874752264\n",
      "[LightGBM] [Warning] bagging_fraction is set=0.7670674972199367, subsample=0.7 will be ignored. Current value: bagging_fraction=0.7670674972199367\n",
      "[LightGBM] [Warning] bagging_freq is set=7, subsample_freq=0 will be ignored. Current value: bagging_freq=7\n",
      "Training until validation scores don't improve for 100 rounds\n",
      "[100]\ttraining's l1: 0.991724\tvalid_1's l1: 0.900655\n"
     ]
    },
    {
     "name": "stderr",
     "output_type": "stream",
     "text": [
      "\u001b[32m[I 2021-07-29 20:01:44,031]\u001b[0m Trial 78 finished with value: -0.8960883086376732 and parameters: {'max_depth': 12, 'min_child_weight': 2, 'subsample': 0.7, 'colsample_bytree': 0.7, 'reg_lambda': 0.007025443881595439, 'reg_alpha': 0.002538656007388166, 'feature_fraction': 0.8425240874752264, 'bagging_fraction': 0.7670674972199367, 'bagging_freq': 7, 'num_leaves': 587, 'min_child_samples': 61}. Best is trial 52 with value: -0.8925821718028284.\u001b[0m\n"
     ]
    },
    {
     "name": "stdout",
     "output_type": "stream",
     "text": [
      "Early stopping, best iteration is:\n",
      "[41]\ttraining's l1: 1.00398\tvalid_1's l1: 0.896091\n",
      "[LightGBM] [Warning] feature_fraction is set=0.9758249143313829, colsample_bytree=0.8 will be ignored. Current value: feature_fraction=0.9758249143313829\n",
      "[LightGBM] [Warning] bagging_fraction is set=0.45108295619489086, subsample=0.6 will be ignored. Current value: bagging_fraction=0.45108295619489086\n",
      "[LightGBM] [Warning] bagging_freq is set=11, subsample_freq=0 will be ignored. Current value: bagging_freq=11\n",
      "Training until validation scores don't improve for 100 rounds\n",
      "[100]\ttraining's l1: 1.00313\tvalid_1's l1: 0.900747\n"
     ]
    },
    {
     "name": "stderr",
     "output_type": "stream",
     "text": [
      "\u001b[32m[I 2021-07-29 20:01:50,965]\u001b[0m Trial 79 finished with value: -0.8940468131960692 and parameters: {'max_depth': 10, 'min_child_weight': 12, 'subsample': 0.6, 'colsample_bytree': 0.8, 'reg_lambda': 0.5337269768411055, 'reg_alpha': 0.3961636396721516, 'feature_fraction': 0.9758249143313829, 'bagging_fraction': 0.45108295619489086, 'bagging_freq': 11, 'num_leaves': 884, 'min_child_samples': 88}. Best is trial 52 with value: -0.8925821718028284.\u001b[0m\n"
     ]
    },
    {
     "name": "stdout",
     "output_type": "stream",
     "text": [
      "Early stopping, best iteration is:\n",
      "[38]\ttraining's l1: 1.01231\tvalid_1's l1: 0.89405\n",
      "[LightGBM] [Warning] feature_fraction is set=0.9037629826920182, colsample_bytree=0.8 will be ignored. Current value: feature_fraction=0.9037629826920182\n",
      "[LightGBM] [Warning] bagging_fraction is set=0.4322081985854006, subsample=0.5 will be ignored. Current value: bagging_fraction=0.4322081985854006\n",
      "[LightGBM] [Warning] bagging_freq is set=9, subsample_freq=0 will be ignored. Current value: bagging_freq=9\n",
      "Training until validation scores don't improve for 100 rounds\n",
      "[100]\ttraining's l1: 1\tvalid_1's l1: 0.899887\n"
     ]
    },
    {
     "name": "stderr",
     "output_type": "stream",
     "text": [
      "\u001b[32m[I 2021-07-29 20:01:57,866]\u001b[0m Trial 80 finished with value: -0.8951338228567165 and parameters: {'max_depth': 11, 'min_child_weight': 12, 'subsample': 0.5, 'colsample_bytree': 0.8, 'reg_lambda': 0.18194707082528394, 'reg_alpha': 0.04870054753221917, 'feature_fraction': 0.9037629826920182, 'bagging_fraction': 0.4322081985854006, 'bagging_freq': 9, 'num_leaves': 445, 'min_child_samples': 41}. Best is trial 52 with value: -0.8925821718028284.\u001b[0m\n"
     ]
    },
    {
     "name": "stdout",
     "output_type": "stream",
     "text": [
      "Early stopping, best iteration is:\n",
      "[36]\ttraining's l1: 1.01058\tvalid_1's l1: 0.895138\n",
      "[LightGBM] [Warning] feature_fraction is set=0.9792461235069803, colsample_bytree=0.8 will be ignored. Current value: feature_fraction=0.9792461235069803\n",
      "[LightGBM] [Warning] bagging_fraction is set=0.48608906155156906, subsample=0.6 will be ignored. Current value: bagging_fraction=0.48608906155156906\n",
      "[LightGBM] [Warning] bagging_freq is set=11, subsample_freq=0 will be ignored. Current value: bagging_freq=11\n",
      "Training until validation scores don't improve for 100 rounds\n",
      "[100]\ttraining's l1: 1.00102\tvalid_1's l1: 0.898351\n"
     ]
    },
    {
     "name": "stderr",
     "output_type": "stream",
     "text": [
      "\u001b[32m[I 2021-07-29 20:02:05,008]\u001b[0m Trial 81 finished with value: -0.8954114539463014 and parameters: {'max_depth': 10, 'min_child_weight': 14, 'subsample': 0.6, 'colsample_bytree': 0.8, 'reg_lambda': 1.8630507832501233, 'reg_alpha': 0.02273660642392016, 'feature_fraction': 0.9792461235069803, 'bagging_fraction': 0.48608906155156906, 'bagging_freq': 11, 'num_leaves': 885, 'min_child_samples': 84}. Best is trial 52 with value: -0.8925821718028284.\u001b[0m\n"
     ]
    },
    {
     "name": "stdout",
     "output_type": "stream",
     "text": [
      "Early stopping, best iteration is:\n",
      "[43]\ttraining's l1: 1.01061\tvalid_1's l1: 0.895416\n",
      "[LightGBM] [Warning] feature_fraction is set=0.950725843772131, colsample_bytree=0.9 will be ignored. Current value: feature_fraction=0.950725843772131\n",
      "[LightGBM] [Warning] bagging_fraction is set=0.5492669048156368, subsample=0.6 will be ignored. Current value: bagging_fraction=0.5492669048156368\n",
      "[LightGBM] [Warning] bagging_freq is set=10, subsample_freq=0 will be ignored. Current value: bagging_freq=10\n",
      "Training until validation scores don't improve for 100 rounds\n",
      "[100]\ttraining's l1: 1.0071\tvalid_1's l1: 0.895437\n"
     ]
    },
    {
     "name": "stderr",
     "output_type": "stream",
     "text": [
      "\u001b[32m[I 2021-07-29 20:02:11,531]\u001b[0m Trial 82 finished with value: -0.8952734236376808 and parameters: {'max_depth': 9, 'min_child_weight': 13, 'subsample': 0.6, 'colsample_bytree': 0.9, 'reg_lambda': 0.5996305214028772, 'reg_alpha': 0.3582208063758866, 'feature_fraction': 0.950725843772131, 'bagging_fraction': 0.5492669048156368, 'bagging_freq': 10, 'num_leaves': 959, 'min_child_samples': 89}. Best is trial 52 with value: -0.8925821718028284.\u001b[0m\n"
     ]
    },
    {
     "name": "stdout",
     "output_type": "stream",
     "text": [
      "Early stopping, best iteration is:\n",
      "[39]\ttraining's l1: 1.01456\tvalid_1's l1: 0.895275\n",
      "[LightGBM] [Warning] feature_fraction is set=0.9804046439399889, colsample_bytree=0.7 will be ignored. Current value: feature_fraction=0.9804046439399889\n",
      "[LightGBM] [Warning] bagging_fraction is set=0.37493503120561433, subsample=0.6 will be ignored. Current value: bagging_fraction=0.37493503120561433\n",
      "[LightGBM] [Warning] bagging_freq is set=12, subsample_freq=0 will be ignored. Current value: bagging_freq=12\n",
      "Training until validation scores don't improve for 100 rounds\n",
      "[100]\ttraining's l1: 0.994916\tvalid_1's l1: 0.907573\n"
     ]
    },
    {
     "name": "stderr",
     "output_type": "stream",
     "text": [
      "\u001b[32m[I 2021-07-29 20:02:18,951]\u001b[0m Trial 83 finished with value: -0.8977880491559039 and parameters: {'max_depth': 13, 'min_child_weight': 15, 'subsample': 0.6, 'colsample_bytree': 0.7, 'reg_lambda': 1.002142559476983, 'reg_alpha': 0.010694785183021669, 'feature_fraction': 0.9804046439399889, 'bagging_fraction': 0.37493503120561433, 'bagging_freq': 12, 'num_leaves': 830, 'min_child_samples': 93}. Best is trial 52 with value: -0.8925821718028284.\u001b[0m\n"
     ]
    },
    {
     "name": "stdout",
     "output_type": "stream",
     "text": [
      "Early stopping, best iteration is:\n",
      "[19]\ttraining's l1: 1.01627\tvalid_1's l1: 0.897788\n",
      "[LightGBM] [Warning] feature_fraction is set=0.9393331073569203, colsample_bytree=0.9 will be ignored. Current value: feature_fraction=0.9393331073569203\n",
      "[LightGBM] [Warning] bagging_fraction is set=0.2920110216812435, subsample=0.6 will be ignored. Current value: bagging_fraction=0.2920110216812435\n",
      "[LightGBM] [Warning] bagging_freq is set=13, subsample_freq=0 will be ignored. Current value: bagging_freq=13\n",
      "Training until validation scores don't improve for 100 rounds\n",
      "[100]\ttraining's l1: 1.01587\tvalid_1's l1: 0.899062\n"
     ]
    },
    {
     "name": "stderr",
     "output_type": "stream",
     "text": [
      "\u001b[32m[I 2021-07-29 20:02:23,567]\u001b[0m Trial 84 finished with value: -0.8980274340370843 and parameters: {'max_depth': 8, 'min_child_weight': 11, 'subsample': 0.6, 'colsample_bytree': 0.9, 'reg_lambda': 0.12048694234269494, 'reg_alpha': 1.3136155096901767, 'feature_fraction': 0.9393331073569203, 'bagging_fraction': 0.2920110216812435, 'bagging_freq': 13, 'num_leaves': 861, 'min_child_samples': 98}. Best is trial 52 with value: -0.8925821718028284.\u001b[0m\n"
     ]
    },
    {
     "name": "stdout",
     "output_type": "stream",
     "text": [
      "Early stopping, best iteration is:\n",
      "[45]\ttraining's l1: 1.02086\tvalid_1's l1: 0.898028\n",
      "[LightGBM] [Warning] feature_fraction is set=0.9584054141601025, colsample_bytree=0.6 will be ignored. Current value: feature_fraction=0.9584054141601025\n",
      "[LightGBM] [Warning] bagging_fraction is set=0.4610962600587511, subsample=0.6 will be ignored. Current value: bagging_fraction=0.4610962600587511\n",
      "[LightGBM] [Warning] bagging_freq is set=20, subsample_freq=0 will be ignored. Current value: bagging_freq=20\n",
      "Training until validation scores don't improve for 100 rounds\n",
      "[100]\ttraining's l1: 1.0223\tvalid_1's l1: 0.896718\n"
     ]
    },
    {
     "name": "stderr",
     "output_type": "stream",
     "text": [
      "\u001b[32m[I 2021-07-29 20:02:29,432]\u001b[0m Trial 85 finished with value: -0.8967126141698752 and parameters: {'max_depth': 7, 'min_child_weight': 13, 'subsample': 0.6, 'colsample_bytree': 0.6, 'reg_lambda': 0.26762704828510914, 'reg_alpha': 0.01586740837389487, 'feature_fraction': 0.9584054141601025, 'bagging_fraction': 0.4610962600587511, 'bagging_freq': 20, 'num_leaves': 631, 'min_child_samples': 94}. Best is trial 52 with value: -0.8925821718028284.\u001b[0m\n"
     ]
    },
    {
     "name": "stdout",
     "output_type": "stream",
     "text": [
      "[200]\ttraining's l1: 1.0148\tvalid_1's l1: 0.897739\n",
      "Early stopping, best iteration is:\n",
      "[101]\ttraining's l1: 1.0223\tvalid_1's l1: 0.896718\n",
      "[LightGBM] [Warning] feature_fraction is set=0.9974203414815014, colsample_bytree=0.5 will be ignored. Current value: feature_fraction=0.9974203414815014\n",
      "[LightGBM] [Warning] bagging_fraction is set=0.9613859113543182, subsample=0.6 will be ignored. Current value: bagging_fraction=0.9613859113543182\n",
      "[LightGBM] [Warning] bagging_freq is set=8, subsample_freq=0 will be ignored. Current value: bagging_freq=8\n",
      "Training until validation scores don't improve for 100 rounds\n",
      "[100]\ttraining's l1: 0.995773\tvalid_1's l1: 0.897282\n"
     ]
    },
    {
     "name": "stderr",
     "output_type": "stream",
     "text": [
      "\u001b[32m[I 2021-07-29 20:02:40,477]\u001b[0m Trial 86 finished with value: -0.8940720653887402 and parameters: {'max_depth': 11, 'min_child_weight': 6, 'subsample': 0.6, 'colsample_bytree': 0.5, 'reg_lambda': 1.220695037018752, 'reg_alpha': 0.005844681445234419, 'feature_fraction': 0.9974203414815014, 'bagging_fraction': 0.9613859113543182, 'bagging_freq': 8, 'num_leaves': 532, 'min_child_samples': 87}. Best is trial 52 with value: -0.8925821718028284.\u001b[0m\n"
     ]
    },
    {
     "name": "stdout",
     "output_type": "stream",
     "text": [
      "Early stopping, best iteration is:\n",
      "[49]\ttraining's l1: 1.00421\tvalid_1's l1: 0.894073\n",
      "[LightGBM] [Warning] feature_fraction is set=0.9149617440678482, colsample_bytree=0.5 will be ignored. Current value: feature_fraction=0.9149617440678482\n",
      "[LightGBM] [Warning] bagging_fraction is set=0.3853381477671026, subsample=0.6 will be ignored. Current value: bagging_fraction=0.3853381477671026\n",
      "[LightGBM] [Warning] bagging_freq is set=10, subsample_freq=0 will be ignored. Current value: bagging_freq=10\n",
      "Training until validation scores don't improve for 100 rounds\n",
      "[100]\ttraining's l1: 0.999192\tvalid_1's l1: 0.900596\n"
     ]
    },
    {
     "name": "stderr",
     "output_type": "stream",
     "text": [
      "\u001b[32m[I 2021-07-29 20:02:46,978]\u001b[0m Trial 87 finished with value: -0.8962399775875116 and parameters: {'max_depth': 11, 'min_child_weight': 5, 'subsample': 0.6, 'colsample_bytree': 0.5, 'reg_lambda': 0.027662040673338387, 'reg_alpha': 0.006056704104737044, 'feature_fraction': 0.9149617440678482, 'bagging_fraction': 0.3853381477671026, 'bagging_freq': 10, 'num_leaves': 528, 'min_child_samples': 86}. Best is trial 52 with value: -0.8925821718028284.\u001b[0m\n"
     ]
    },
    {
     "name": "stdout",
     "output_type": "stream",
     "text": [
      "Early stopping, best iteration is:\n",
      "[39]\ttraining's l1: 1.01002\tvalid_1's l1: 0.896244\n",
      "[LightGBM] [Warning] feature_fraction is set=0.9803839015542561, colsample_bytree=0.5 will be ignored. Current value: feature_fraction=0.9803839015542561\n",
      "[LightGBM] [Warning] bagging_fraction is set=0.5392171928819316, subsample=0.6 will be ignored. Current value: bagging_fraction=0.5392171928819316\n",
      "[LightGBM] [Warning] bagging_freq is set=8, subsample_freq=0 will be ignored. Current value: bagging_freq=8\n",
      "Training until validation scores don't improve for 100 rounds\n",
      "[100]\ttraining's l1: 1.00177\tvalid_1's l1: 0.897249\n"
     ]
    },
    {
     "name": "stderr",
     "output_type": "stream",
     "text": [
      "\u001b[32m[I 2021-07-29 20:02:55,269]\u001b[0m Trial 88 finished with value: -0.8949088888021867 and parameters: {'max_depth': 10, 'min_child_weight': 6, 'subsample': 0.6, 'colsample_bytree': 0.5, 'reg_lambda': 0.010441479518638523, 'reg_alpha': 0.004515041601551028, 'feature_fraction': 0.9803839015542561, 'bagging_fraction': 0.5392171928819316, 'bagging_freq': 8, 'num_leaves': 571, 'min_child_samples': 90}. Best is trial 52 with value: -0.8925821718028284.\u001b[0m\n"
     ]
    },
    {
     "name": "stdout",
     "output_type": "stream",
     "text": [
      "Early stopping, best iteration is:\n",
      "[59]\ttraining's l1: 1.00844\tvalid_1's l1: 0.894913\n",
      "[LightGBM] [Warning] feature_fraction is set=0.6160695355208821, colsample_bytree=0.8 will be ignored. Current value: feature_fraction=0.6160695355208821\n",
      "[LightGBM] [Warning] bagging_fraction is set=0.5684535082670726, subsample=0.6 will be ignored. Current value: bagging_fraction=0.5684535082670726\n",
      "[LightGBM] [Warning] bagging_freq is set=9, subsample_freq=0 will be ignored. Current value: bagging_freq=9\n",
      "Training until validation scores don't improve for 100 rounds\n",
      "[100]\ttraining's l1: 0.99299\tvalid_1's l1: 0.900465\n"
     ]
    },
    {
     "name": "stderr",
     "output_type": "stream",
     "text": [
      "\u001b[32m[I 2021-07-29 20:03:02,652]\u001b[0m Trial 89 finished with value: -0.8952597698278854 and parameters: {'max_depth': 12, 'min_child_weight': 7, 'subsample': 0.6, 'colsample_bytree': 0.8, 'reg_lambda': 0.32219322535951306, 'reg_alpha': 0.035752126489819805, 'feature_fraction': 0.6160695355208821, 'bagging_fraction': 0.5684535082670726, 'bagging_freq': 9, 'num_leaves': 603, 'min_child_samples': 98}. Best is trial 52 with value: -0.8925821718028284.\u001b[0m\n"
     ]
    },
    {
     "name": "stdout",
     "output_type": "stream",
     "text": [
      "Early stopping, best iteration is:\n",
      "[32]\ttraining's l1: 1.00657\tvalid_1's l1: 0.895261\n",
      "[LightGBM] [Warning] feature_fraction is set=0.8952666480515282, colsample_bytree=0.6 will be ignored. Current value: feature_fraction=0.8952666480515282\n",
      "[LightGBM] [Warning] bagging_fraction is set=0.671296443675108, subsample=0.7 will be ignored. Current value: bagging_fraction=0.671296443675108\n",
      "[LightGBM] [Warning] bagging_freq is set=11, subsample_freq=0 will be ignored. Current value: bagging_freq=11\n",
      "Training until validation scores don't improve for 100 rounds\n",
      "[100]\ttraining's l1: 0.997757\tvalid_1's l1: 0.89625\n"
     ]
    },
    {
     "name": "stderr",
     "output_type": "stream",
     "text": [
      "\u001b[32m[I 2021-07-29 20:03:10,865]\u001b[0m Trial 90 finished with value: -0.8943246878978912 and parameters: {'max_depth': 11, 'min_child_weight': 4, 'subsample': 0.7, 'colsample_bytree': 0.6, 'reg_lambda': 0.557525136828819, 'reg_alpha': 0.007997334524650932, 'feature_fraction': 0.8952666480515282, 'bagging_fraction': 0.671296443675108, 'bagging_freq': 11, 'num_leaves': 535, 'min_child_samples': 100}. Best is trial 52 with value: -0.8925821718028284.\u001b[0m\n"
     ]
    },
    {
     "name": "stdout",
     "output_type": "stream",
     "text": [
      "Early stopping, best iteration is:\n",
      "[39]\ttraining's l1: 1.00684\tvalid_1's l1: 0.894325\n",
      "[LightGBM] [Warning] feature_fraction is set=0.9996362218407776, colsample_bytree=0.7 will be ignored. Current value: feature_fraction=0.9996362218407776\n",
      "[LightGBM] [Warning] bagging_fraction is set=0.889396351393738, subsample=0.6 will be ignored. Current value: bagging_fraction=0.889396351393738\n",
      "[LightGBM] [Warning] bagging_freq is set=9, subsample_freq=0 will be ignored. Current value: bagging_freq=9\n",
      "Training until validation scores don't improve for 100 rounds\n",
      "[100]\ttraining's l1: 1.00167\tvalid_1's l1: 0.895824\n"
     ]
    },
    {
     "name": "stderr",
     "output_type": "stream",
     "text": [
      "\u001b[32m[I 2021-07-29 20:03:20,409]\u001b[0m Trial 91 finished with value: -0.893574540131835 and parameters: {'max_depth': 10, 'min_child_weight': 8, 'subsample': 0.6, 'colsample_bytree': 0.7, 'reg_lambda': 1.2884373815426218, 'reg_alpha': 0.012771268801300507, 'feature_fraction': 0.9996362218407776, 'bagging_fraction': 0.889396351393738, 'bagging_freq': 9, 'num_leaves': 471, 'min_child_samples': 88}. Best is trial 52 with value: -0.8925821718028284.\u001b[0m\n"
     ]
    },
    {
     "name": "stdout",
     "output_type": "stream",
     "text": [
      "Early stopping, best iteration is:\n",
      "[46]\ttraining's l1: 1.00785\tvalid_1's l1: 0.893576\n",
      "[LightGBM] [Warning] feature_fraction is set=0.9982005774267232, colsample_bytree=0.7 will be ignored. Current value: feature_fraction=0.9982005774267232\n",
      "[LightGBM] [Warning] bagging_fraction is set=0.9493700988317828, subsample=0.6 will be ignored. Current value: bagging_fraction=0.9493700988317828\n",
      "[LightGBM] [Warning] bagging_freq is set=8, subsample_freq=0 will be ignored. Current value: bagging_freq=8\n",
      "Training until validation scores don't improve for 100 rounds\n",
      "[100]\ttraining's l1: 1.00154\tvalid_1's l1: 0.896911\n"
     ]
    },
    {
     "name": "stderr",
     "output_type": "stream",
     "text": [
      "\u001b[32m[I 2021-07-29 20:03:29,918]\u001b[0m Trial 92 finished with value: -0.8932017022566574 and parameters: {'max_depth': 10, 'min_child_weight': 8, 'subsample': 0.6, 'colsample_bytree': 0.7, 'reg_lambda': 2.703685862566346, 'reg_alpha': 0.024485008881442533, 'feature_fraction': 0.9982005774267232, 'bagging_fraction': 0.9493700988317828, 'bagging_freq': 8, 'num_leaves': 461, 'min_child_samples': 78}. Best is trial 52 with value: -0.8925821718028284.\u001b[0m\n"
     ]
    },
    {
     "name": "stdout",
     "output_type": "stream",
     "text": [
      "Early stopping, best iteration is:\n",
      "[36]\ttraining's l1: 1.01\tvalid_1's l1: 0.893204\n",
      "[LightGBM] [Warning] feature_fraction is set=0.9997392964170448, colsample_bytree=0.7 will be ignored. Current value: feature_fraction=0.9997392964170448\n",
      "[LightGBM] [Warning] bagging_fraction is set=0.9419803292888814, subsample=0.6 will be ignored. Current value: bagging_fraction=0.9419803292888814\n",
      "[LightGBM] [Warning] bagging_freq is set=9, subsample_freq=0 will be ignored. Current value: bagging_freq=9\n",
      "Training until validation scores don't improve for 100 rounds\n",
      "[100]\ttraining's l1: 1.00172\tvalid_1's l1: 0.89677\n"
     ]
    },
    {
     "name": "stderr",
     "output_type": "stream",
     "text": [
      "\u001b[32m[I 2021-07-29 20:03:39,811]\u001b[0m Trial 93 finished with value: -0.8941677253686664 and parameters: {'max_depth': 10, 'min_child_weight': 8, 'subsample': 0.6, 'colsample_bytree': 0.7, 'reg_lambda': 1.475038166102587, 'reg_alpha': 0.02131023850535742, 'feature_fraction': 0.9997392964170448, 'bagging_fraction': 0.9419803292888814, 'bagging_freq': 9, 'num_leaves': 436, 'min_child_samples': 79}. Best is trial 52 with value: -0.8925821718028284.\u001b[0m\n"
     ]
    },
    {
     "name": "stdout",
     "output_type": "stream",
     "text": [
      "Early stopping, best iteration is:\n",
      "[48]\ttraining's l1: 1.00795\tvalid_1's l1: 0.894173\n",
      "[LightGBM] [Warning] feature_fraction is set=0.9795570141779858, colsample_bytree=0.7 will be ignored. Current value: feature_fraction=0.9795570141779858\n",
      "[LightGBM] [Warning] bagging_fraction is set=0.9222972722488705, subsample=0.6 will be ignored. Current value: bagging_fraction=0.9222972722488705\n",
      "[LightGBM] [Warning] bagging_freq is set=8, subsample_freq=0 will be ignored. Current value: bagging_freq=8\n",
      "Training until validation scores don't improve for 100 rounds\n",
      "[100]\ttraining's l1: 0.992716\tvalid_1's l1: 0.903584\n"
     ]
    },
    {
     "name": "stderr",
     "output_type": "stream",
     "text": [
      "\u001b[32m[I 2021-07-29 20:03:51,023]\u001b[0m Trial 94 finished with value: -0.8974376683016763 and parameters: {'max_depth': 13, 'min_child_weight': 10, 'subsample': 0.6, 'colsample_bytree': 0.7, 'reg_lambda': 2.371050034223608, 'reg_alpha': 0.06786424227901455, 'feature_fraction': 0.9795570141779858, 'bagging_fraction': 0.9222972722488705, 'bagging_freq': 8, 'num_leaves': 508, 'min_child_samples': 82}. Best is trial 52 with value: -0.8925821718028284.\u001b[0m\n"
     ]
    },
    {
     "name": "stdout",
     "output_type": "stream",
     "text": [
      "Early stopping, best iteration is:\n",
      "[28]\ttraining's l1: 1.00952\tvalid_1's l1: 0.897438\n",
      "[LightGBM] [Warning] feature_fraction is set=0.9581448797249815, colsample_bytree=0.7 will be ignored. Current value: feature_fraction=0.9581448797249815\n",
      "[LightGBM] [Warning] bagging_fraction is set=0.90110226104801, subsample=0.6 will be ignored. Current value: bagging_fraction=0.90110226104801\n",
      "[LightGBM] [Warning] bagging_freq is set=8, subsample_freq=0 will be ignored. Current value: bagging_freq=8\n",
      "Training until validation scores don't improve for 100 rounds\n",
      "[100]\ttraining's l1: 1.00081\tvalid_1's l1: 0.896893\n"
     ]
    },
    {
     "name": "stderr",
     "output_type": "stream",
     "text": [
      "\u001b[32m[I 2021-07-29 20:04:00,787]\u001b[0m Trial 95 finished with value: -0.8949846116382331 and parameters: {'max_depth': 11, 'min_child_weight': 9, 'subsample': 0.6, 'colsample_bytree': 0.7, 'reg_lambda': 3.899154534074918, 'reg_alpha': 0.013785397685588027, 'feature_fraction': 0.9581448797249815, 'bagging_fraction': 0.90110226104801, 'bagging_freq': 8, 'num_leaves': 383, 'min_child_samples': 88}. Best is trial 52 with value: -0.8925821718028284.\u001b[0m\n"
     ]
    },
    {
     "name": "stdout",
     "output_type": "stream",
     "text": [
      "Early stopping, best iteration is:\n",
      "[35]\ttraining's l1: 1.00986\tvalid_1's l1: 0.894987\n",
      "[LightGBM] [Warning] feature_fraction is set=0.9320952255180515, colsample_bytree=0.7 will be ignored. Current value: feature_fraction=0.9320952255180515\n",
      "[LightGBM] [Warning] bagging_fraction is set=0.9561516896208099, subsample=0.6 will be ignored. Current value: bagging_fraction=0.9561516896208099\n",
      "[LightGBM] [Warning] bagging_freq is set=9, subsample_freq=0 will be ignored. Current value: bagging_freq=9\n",
      "Training until validation scores don't improve for 100 rounds\n",
      "[100]\ttraining's l1: 0.99247\tvalid_1's l1: 0.902944\n"
     ]
    },
    {
     "name": "stderr",
     "output_type": "stream",
     "text": [
      "\u001b[32m[I 2021-07-29 20:04:12,251]\u001b[0m Trial 96 finished with value: -0.8966154754762407 and parameters: {'max_depth': 12, 'min_child_weight': 9, 'subsample': 0.6, 'colsample_bytree': 0.7, 'reg_lambda': 0.7724747477581612, 'reg_alpha': 0.027776798653866223, 'feature_fraction': 0.9320952255180515, 'bagging_fraction': 0.9561516896208099, 'bagging_freq': 9, 'num_leaves': 560, 'min_child_samples': 72}. Best is trial 52 with value: -0.8925821718028284.\u001b[0m\n"
     ]
    },
    {
     "name": "stdout",
     "output_type": "stream",
     "text": [
      "Early stopping, best iteration is:\n",
      "[38]\ttraining's l1: 1.00446\tvalid_1's l1: 0.896617\n",
      "[LightGBM] [Warning] feature_fraction is set=0.9971033774108173, colsample_bytree=0.8 will be ignored. Current value: feature_fraction=0.9971033774108173\n",
      "[LightGBM] [Warning] bagging_fraction is set=0.9686073721107682, subsample=0.5 will be ignored. Current value: bagging_fraction=0.9686073721107682\n",
      "[LightGBM] [Warning] bagging_freq is set=11, subsample_freq=0 will be ignored. Current value: bagging_freq=11\n",
      "Training until validation scores don't improve for 100 rounds\n",
      "[100]\ttraining's l1: 1.00166\tvalid_1's l1: 0.895561\n"
     ]
    },
    {
     "name": "stderr",
     "output_type": "stream",
     "text": [
      "\u001b[32m[I 2021-07-29 20:04:21,970]\u001b[0m Trial 97 finished with value: -0.8938760381417918 and parameters: {'max_depth': 10, 'min_child_weight': 8, 'subsample': 0.5, 'colsample_bytree': 0.8, 'reg_lambda': 4.6420514974805815, 'reg_alpha': 0.045925245877495434, 'feature_fraction': 0.9971033774108173, 'bagging_fraction': 0.9686073721107682, 'bagging_freq': 11, 'num_leaves': 498, 'min_child_samples': 92}. Best is trial 52 with value: -0.8925821718028284.\u001b[0m\n"
     ]
    },
    {
     "name": "stdout",
     "output_type": "stream",
     "text": [
      "Early stopping, best iteration is:\n",
      "[43]\ttraining's l1: 1.0082\tvalid_1's l1: 0.893877\n",
      "[LightGBM] [Warning] feature_fraction is set=0.7303499934876558, colsample_bytree=0.8 will be ignored. Current value: feature_fraction=0.7303499934876558\n",
      "[LightGBM] [Warning] bagging_fraction is set=0.9779543745431041, subsample=0.5 will be ignored. Current value: bagging_fraction=0.9779543745431041\n",
      "[LightGBM] [Warning] bagging_freq is set=12, subsample_freq=0 will be ignored. Current value: bagging_freq=12\n",
      "Training until validation scores don't improve for 100 rounds\n",
      "[100]\ttraining's l1: 1.00442\tvalid_1's l1: 0.897792\n"
     ]
    },
    {
     "name": "stderr",
     "output_type": "stream",
     "text": [
      "\u001b[32m[I 2021-07-29 20:04:30,096]\u001b[0m Trial 98 finished with value: -0.8957177566837855 and parameters: {'max_depth': 9, 'min_child_weight': 7, 'subsample': 0.5, 'colsample_bytree': 0.8, 'reg_lambda': 11.538781391534256, 'reg_alpha': 0.048450046199926655, 'feature_fraction': 0.7303499934876558, 'bagging_fraction': 0.9779543745431041, 'bagging_freq': 12, 'num_leaves': 460, 'min_child_samples': 92}. Best is trial 52 with value: -0.8925821718028284.\u001b[0m\n"
     ]
    },
    {
     "name": "stdout",
     "output_type": "stream",
     "text": [
      "Early stopping, best iteration is:\n",
      "[46]\ttraining's l1: 1.01314\tvalid_1's l1: 0.895718\n",
      "[LightGBM] [Warning] feature_fraction is set=0.4997411631210531, colsample_bytree=0.8 will be ignored. Current value: feature_fraction=0.4997411631210531\n",
      "[LightGBM] [Warning] bagging_fraction is set=0.9989104138262827, subsample=0.5 will be ignored. Current value: bagging_fraction=0.9989104138262827\n",
      "[LightGBM] [Warning] bagging_freq is set=11, subsample_freq=0 will be ignored. Current value: bagging_freq=11\n",
      "Training until validation scores don't improve for 100 rounds\n",
      "[100]\ttraining's l1: 0.997496\tvalid_1's l1: 0.898396\n"
     ]
    },
    {
     "name": "stderr",
     "output_type": "stream",
     "text": [
      "\u001b[32m[I 2021-07-29 20:04:39,464]\u001b[0m Trial 99 finished with value: -0.8958398022210651 and parameters: {'max_depth': 10, 'min_child_weight': 8, 'subsample': 0.5, 'colsample_bytree': 0.8, 'reg_lambda': 5.415268409888727, 'reg_alpha': 0.01703844589977191, 'feature_fraction': 0.4997411631210531, 'bagging_fraction': 0.9989104138262827, 'bagging_freq': 11, 'num_leaves': 492, 'min_child_samples': 78}. Best is trial 52 with value: -0.8925821718028284.\u001b[0m\n",
      "\u001b[32m[I 2021-07-29 20:04:39,466]\u001b[0m A new study created in memory with name: no-name-6ed514b5-e88c-4cae-884b-5729d5210470\u001b[0m\n"
     ]
    },
    {
     "name": "stdout",
     "output_type": "stream",
     "text": [
      "Early stopping, best iteration is:\n",
      "[39]\ttraining's l1: 1.00939\tvalid_1's l1: 0.895841\n",
      "[LightGBM] [Warning] feature_fraction is set=0.4103079553706775, colsample_bytree=0.6 will be ignored. Current value: feature_fraction=0.4103079553706775\n",
      "[LightGBM] [Warning] bagging_fraction is set=0.8688253281765608, subsample=0.6 will be ignored. Current value: bagging_fraction=0.8688253281765608\n",
      "[LightGBM] [Warning] bagging_freq is set=2, subsample_freq=0 will be ignored. Current value: bagging_freq=2\n",
      "Training until validation scores don't improve for 100 rounds\n",
      "[100]\ttraining's l1: 0.812935\tvalid_1's l1: 1.41275\n"
     ]
    },
    {
     "name": "stderr",
     "output_type": "stream",
     "text": [
      "\u001b[32m[I 2021-07-29 20:04:53,604]\u001b[0m Trial 0 finished with value: -1.3951513060228855 and parameters: {'max_depth': 14, 'min_child_weight': 20, 'subsample': 0.6, 'colsample_bytree': 0.6, 'reg_lambda': 0.7968200978197953, 'reg_alpha': 1.0266980969949773, 'feature_fraction': 0.4103079553706775, 'bagging_fraction': 0.8688253281765608, 'bagging_freq': 2, 'num_leaves': 820, 'min_child_samples': 11}. Best is trial 0 with value: -1.3951513060228855.\u001b[0m\n"
     ]
    },
    {
     "name": "stdout",
     "output_type": "stream",
     "text": [
      "Early stopping, best iteration is:\n",
      "[46]\ttraining's l1: 0.86861\tvalid_1's l1: 1.39516\n",
      "[LightGBM] [Warning] feature_fraction is set=0.8495831870949895, colsample_bytree=0.5 will be ignored. Current value: feature_fraction=0.8495831870949895\n",
      "[LightGBM] [Warning] bagging_fraction is set=0.4751616580822387, subsample=0.9 will be ignored. Current value: bagging_fraction=0.4751616580822387\n",
      "[LightGBM] [Warning] bagging_freq is set=20, subsample_freq=0 will be ignored. Current value: bagging_freq=20\n",
      "Training until validation scores don't improve for 100 rounds\n",
      "[100]\ttraining's l1: 0.811028\tvalid_1's l1: 1.40849\n"
     ]
    },
    {
     "name": "stderr",
     "output_type": "stream",
     "text": [
      "\u001b[32m[I 2021-07-29 20:05:02,392]\u001b[0m Trial 1 finished with value: -1.3837453539208364 and parameters: {'max_depth': 14, 'min_child_weight': 10, 'subsample': 0.9, 'colsample_bytree': 0.5, 'reg_lambda': 0.012547421944760556, 'reg_alpha': 0.002009261129106918, 'feature_fraction': 0.8495831870949895, 'bagging_fraction': 0.4751616580822387, 'bagging_freq': 20, 'num_leaves': 477, 'min_child_samples': 36}. Best is trial 1 with value: -1.3837453539208364.\u001b[0m\n"
     ]
    },
    {
     "name": "stdout",
     "output_type": "stream",
     "text": [
      "Early stopping, best iteration is:\n",
      "[33]\ttraining's l1: 0.901864\tvalid_1's l1: 1.38375\n",
      "[LightGBM] [Warning] feature_fraction is set=0.40555764383791326, colsample_bytree=0.6 will be ignored. Current value: feature_fraction=0.40555764383791326\n",
      "[LightGBM] [Warning] bagging_fraction is set=0.6676925757323742, subsample=0.7 will be ignored. Current value: bagging_fraction=0.6676925757323742\n",
      "[LightGBM] [Warning] bagging_freq is set=16, subsample_freq=0 will be ignored. Current value: bagging_freq=16\n",
      "Training until validation scores don't improve for 100 rounds\n",
      "[100]\ttraining's l1: 0.890332\tvalid_1's l1: 1.38885\n"
     ]
    },
    {
     "name": "stderr",
     "output_type": "stream",
     "text": [
      "\u001b[32m[I 2021-07-29 20:05:12,094]\u001b[0m Trial 2 finished with value: -1.3812239166948725 and parameters: {'max_depth': 14, 'min_child_weight': 19, 'subsample': 0.7, 'colsample_bytree': 0.6, 'reg_lambda': 524.6717335532608, 'reg_alpha': 0.00862452218049135, 'feature_fraction': 0.40555764383791326, 'bagging_fraction': 0.6676925757323742, 'bagging_freq': 16, 'num_leaves': 362, 'min_child_samples': 79}. Best is trial 2 with value: -1.3812239166948725.\u001b[0m\n"
     ]
    },
    {
     "name": "stdout",
     "output_type": "stream",
     "text": [
      "Early stopping, best iteration is:\n",
      "[70]\ttraining's l1: 0.906793\tvalid_1's l1: 1.38124\n",
      "[LightGBM] [Warning] feature_fraction is set=0.6332421435480842, colsample_bytree=0.7 will be ignored. Current value: feature_fraction=0.6332421435480842\n",
      "[LightGBM] [Warning] bagging_fraction is set=0.5149891209271975, subsample=0.7 will be ignored. Current value: bagging_fraction=0.5149891209271975\n",
      "[LightGBM] [Warning] bagging_freq is set=19, subsample_freq=0 will be ignored. Current value: bagging_freq=19\n",
      "Training until validation scores don't improve for 100 rounds\n",
      "[100]\ttraining's l1: 0.966135\tvalid_1's l1: 1.38183\n"
     ]
    },
    {
     "name": "stderr",
     "output_type": "stream",
     "text": [
      "\u001b[32m[I 2021-07-29 20:05:18,697]\u001b[0m Trial 3 finished with value: -1.3798361606061056 and parameters: {'max_depth': 8, 'min_child_weight': 1, 'subsample': 0.7, 'colsample_bytree': 0.7, 'reg_lambda': 512.4625389310979, 'reg_alpha': 445.43866507235754, 'feature_fraction': 0.6332421435480842, 'bagging_fraction': 0.5149891209271975, 'bagging_freq': 19, 'num_leaves': 423, 'min_child_samples': 50}. Best is trial 3 with value: -1.3798361606061056.\u001b[0m\n"
     ]
    },
    {
     "name": "stdout",
     "output_type": "stream",
     "text": [
      "Early stopping, best iteration is:\n",
      "[74]\ttraining's l1: 0.974966\tvalid_1's l1: 1.37984\n",
      "[LightGBM] [Warning] feature_fraction is set=0.875726002970618, colsample_bytree=0.7 will be ignored. Current value: feature_fraction=0.875726002970618\n",
      "[LightGBM] [Warning] bagging_fraction is set=0.4340333795795692, subsample=0.9 will be ignored. Current value: bagging_fraction=0.4340333795795692\n",
      "[LightGBM] [Warning] bagging_freq is set=5, subsample_freq=0 will be ignored. Current value: bagging_freq=5\n",
      "Training until validation scores don't improve for 100 rounds\n",
      "[100]\ttraining's l1: 0.848538\tvalid_1's l1: 1.39433\n"
     ]
    },
    {
     "name": "stderr",
     "output_type": "stream",
     "text": [
      "\u001b[32m[I 2021-07-29 20:05:27,690]\u001b[0m Trial 4 finished with value: -1.3848352575198262 and parameters: {'max_depth': 14, 'min_child_weight': 18, 'subsample': 0.9, 'colsample_bytree': 0.7, 'reg_lambda': 187.08727325328073, 'reg_alpha': 2.247885812578928, 'feature_fraction': 0.875726002970618, 'bagging_fraction': 0.4340333795795692, 'bagging_freq': 5, 'num_leaves': 519, 'min_child_samples': 47}. Best is trial 3 with value: -1.3798361606061056.\u001b[0m\n"
     ]
    },
    {
     "name": "stdout",
     "output_type": "stream",
     "text": [
      "Early stopping, best iteration is:\n",
      "[53]\ttraining's l1: 0.883435\tvalid_1's l1: 1.38486\n",
      "[LightGBM] [Warning] feature_fraction is set=0.45234522161189733, colsample_bytree=0.8 will be ignored. Current value: feature_fraction=0.45234522161189733\n",
      "[LightGBM] [Warning] bagging_fraction is set=0.7526588326101871, subsample=0.6 will be ignored. Current value: bagging_fraction=0.7526588326101871\n",
      "[LightGBM] [Warning] bagging_freq is set=9, subsample_freq=0 will be ignored. Current value: bagging_freq=9\n",
      "Training until validation scores don't improve for 100 rounds\n",
      "[100]\ttraining's l1: 0.865818\tvalid_1's l1: 1.38979\n"
     ]
    },
    {
     "name": "stderr",
     "output_type": "stream",
     "text": [
      "\u001b[32m[I 2021-07-29 20:05:37,538]\u001b[0m Trial 5 finished with value: -1.3834366741007995 and parameters: {'max_depth': 10, 'min_child_weight': 4, 'subsample': 0.6, 'colsample_bytree': 0.8, 'reg_lambda': 0.9175392134131078, 'reg_alpha': 1.4025280351616745, 'feature_fraction': 0.45234522161189733, 'bagging_fraction': 0.7526588326101871, 'bagging_freq': 9, 'num_leaves': 489, 'min_child_samples': 9}. Best is trial 3 with value: -1.3798361606061056.\u001b[0m\n"
     ]
    },
    {
     "name": "stdout",
     "output_type": "stream",
     "text": [
      "Early stopping, best iteration is:\n",
      "[66]\ttraining's l1: 0.88683\tvalid_1's l1: 1.38348\n",
      "[LightGBM] [Warning] feature_fraction is set=0.6889077281226694, colsample_bytree=0.8 will be ignored. Current value: feature_fraction=0.6889077281226694\n",
      "[LightGBM] [Warning] bagging_fraction is set=0.7823029450144741, subsample=0.7 will be ignored. Current value: bagging_fraction=0.7823029450144741\n",
      "[LightGBM] [Warning] bagging_freq is set=1, subsample_freq=0 will be ignored. Current value: bagging_freq=1\n",
      "Training until validation scores don't improve for 100 rounds\n",
      "[100]\ttraining's l1: 1.06464\tvalid_1's l1: 1.41153\n",
      "[200]\ttraining's l1: 1.04314\tvalid_1's l1: 1.39756\n",
      "[300]\ttraining's l1: 1.02848\tvalid_1's l1: 1.39176\n",
      "[400]\ttraining's l1: 1.02019\tvalid_1's l1: 1.3889\n",
      "[500]\ttraining's l1: 1.0123\tvalid_1's l1: 1.38727\n",
      "[600]\ttraining's l1: 1.00649\tvalid_1's l1: 1.38717\n",
      "[700]\ttraining's l1: 1.00077\tvalid_1's l1: 1.38752\n",
      "Early stopping, best iteration is:\n",
      "[649]\ttraining's l1: 1.00388\tvalid_1's l1: 1.38634\n"
     ]
    },
    {
     "name": "stderr",
     "output_type": "stream",
     "text": [
      "\u001b[32m[I 2021-07-29 20:05:54,876]\u001b[0m Trial 6 finished with value: -1.3849331845438733 and parameters: {'max_depth': 3, 'min_child_weight': 6, 'subsample': 0.7, 'colsample_bytree': 0.8, 'reg_lambda': 0.0011172735053953634, 'reg_alpha': 109.33862642135365, 'feature_fraction': 0.6889077281226694, 'bagging_fraction': 0.7823029450144741, 'bagging_freq': 1, 'num_leaves': 561, 'min_child_samples': 10}. Best is trial 3 with value: -1.3798361606061056.\u001b[0m\n"
     ]
    },
    {
     "name": "stdout",
     "output_type": "stream",
     "text": [
      "[LightGBM] [Warning] feature_fraction is set=0.4852309077438485, colsample_bytree=0.5 will be ignored. Current value: feature_fraction=0.4852309077438485\n",
      "[LightGBM] [Warning] bagging_fraction is set=0.6357758541059636, subsample=0.8 will be ignored. Current value: bagging_fraction=0.6357758541059636\n",
      "[LightGBM] [Warning] bagging_freq is set=6, subsample_freq=0 will be ignored. Current value: bagging_freq=6\n",
      "Training until validation scores don't improve for 100 rounds\n",
      "[100]\ttraining's l1: 1.06472\tvalid_1's l1: 1.40915\n",
      "[200]\ttraining's l1: 1.04908\tvalid_1's l1: 1.39931\n",
      "[300]\ttraining's l1: 1.03519\tvalid_1's l1: 1.3934\n",
      "[400]\ttraining's l1: 1.02539\tvalid_1's l1: 1.38896\n",
      "[500]\ttraining's l1: 1.01845\tvalid_1's l1: 1.38652\n",
      "[600]\ttraining's l1: 1.01379\tvalid_1's l1: 1.38536\n",
      "[700]\ttraining's l1: 1.00897\tvalid_1's l1: 1.38654\n",
      "Early stopping, best iteration is:\n",
      "[646]\ttraining's l1: 1.01171\tvalid_1's l1: 1.38494\n"
     ]
    },
    {
     "name": "stderr",
     "output_type": "stream",
     "text": [
      "\u001b[32m[I 2021-07-29 20:06:14,839]\u001b[0m Trial 7 finished with value: -1.3845523007834009 and parameters: {'max_depth': 3, 'min_child_weight': 9, 'subsample': 0.8, 'colsample_bytree': 0.5, 'reg_lambda': 137.2121930554278, 'reg_alpha': 248.86911750308306, 'feature_fraction': 0.4852309077438485, 'bagging_fraction': 0.6357758541059636, 'bagging_freq': 6, 'num_leaves': 411, 'min_child_samples': 43}. Best is trial 3 with value: -1.3798361606061056.\u001b[0m\n"
     ]
    },
    {
     "name": "stdout",
     "output_type": "stream",
     "text": [
      "[LightGBM] [Warning] feature_fraction is set=0.6301198856210042, colsample_bytree=0.7 will be ignored. Current value: feature_fraction=0.6301198856210042\n",
      "[LightGBM] [Warning] bagging_fraction is set=0.5585147760455118, subsample=0.8 will be ignored. Current value: bagging_fraction=0.5585147760455118\n",
      "[LightGBM] [Warning] bagging_freq is set=8, subsample_freq=0 will be ignored. Current value: bagging_freq=8\n",
      "Training until validation scores don't improve for 100 rounds\n",
      "[100]\ttraining's l1: 0.97822\tvalid_1's l1: 1.38204\n",
      "[200]\ttraining's l1: 0.963308\tvalid_1's l1: 1.37714\n",
      "[300]\ttraining's l1: 0.941524\tvalid_1's l1: 1.37737\n"
     ]
    },
    {
     "name": "stderr",
     "output_type": "stream",
     "text": [
      "\u001b[32m[I 2021-07-29 20:06:24,801]\u001b[0m Trial 8 finished with value: -1.3745596225348962 and parameters: {'max_depth': 6, 'min_child_weight': 7, 'subsample': 0.8, 'colsample_bytree': 0.7, 'reg_lambda': 0.0010236332733351001, 'reg_alpha': 0.0016057393099825896, 'feature_fraction': 0.6301198856210042, 'bagging_fraction': 0.5585147760455118, 'bagging_freq': 8, 'num_leaves': 408, 'min_child_samples': 10}. Best is trial 8 with value: -1.3745596225348962.\u001b[0m\n"
     ]
    },
    {
     "name": "stdout",
     "output_type": "stream",
     "text": [
      "Early stopping, best iteration is:\n",
      "[227]\ttraining's l1: 0.954758\tvalid_1's l1: 1.37465\n",
      "[LightGBM] [Warning] feature_fraction is set=0.39470282375065485, colsample_bytree=0.7 will be ignored. Current value: feature_fraction=0.39470282375065485\n",
      "[LightGBM] [Warning] bagging_fraction is set=0.6194712321385609, subsample=0.6 will be ignored. Current value: bagging_fraction=0.6194712321385609\n",
      "[LightGBM] [Warning] bagging_freq is set=6, subsample_freq=0 will be ignored. Current value: bagging_freq=6\n",
      "Training until validation scores don't improve for 100 rounds\n",
      "[100]\ttraining's l1: 0.903518\tvalid_1's l1: 1.38087\n"
     ]
    },
    {
     "name": "stderr",
     "output_type": "stream",
     "text": [
      "\u001b[32m[I 2021-07-29 20:06:32,909]\u001b[0m Trial 9 finished with value: -1.3793436881902015 and parameters: {'max_depth': 9, 'min_child_weight': 2, 'subsample': 0.6, 'colsample_bytree': 0.7, 'reg_lambda': 5.134231621805315, 'reg_alpha': 4.573792573271351, 'feature_fraction': 0.39470282375065485, 'bagging_fraction': 0.6194712321385609, 'bagging_freq': 6, 'num_leaves': 384, 'min_child_samples': 6}. Best is trial 8 with value: -1.3745596225348962.\u001b[0m\n"
     ]
    },
    {
     "name": "stdout",
     "output_type": "stream",
     "text": [
      "Early stopping, best iteration is:\n",
      "[70]\ttraining's l1: 0.913439\tvalid_1's l1: 1.37936\n",
      "[LightGBM] [Warning] feature_fraction is set=0.22975162929440146, colsample_bytree=0.9 will be ignored. Current value: feature_fraction=0.22975162929440146\n",
      "[LightGBM] [Warning] bagging_fraction is set=0.26347238223770175, subsample=0.8 will be ignored. Current value: bagging_fraction=0.26347238223770175\n",
      "[LightGBM] [Warning] bagging_freq is set=13, subsample_freq=0 will be ignored. Current value: bagging_freq=13\n",
      "Training until validation scores don't improve for 100 rounds\n",
      "[100]\ttraining's l1: 1.03301\tvalid_1's l1: 1.4083\n",
      "[200]\ttraining's l1: 1.00533\tvalid_1's l1: 1.39589\n",
      "[300]\ttraining's l1: 0.989778\tvalid_1's l1: 1.39393\n"
     ]
    },
    {
     "name": "stderr",
     "output_type": "stream",
     "text": [
      "\u001b[32m[I 2021-07-29 20:06:38,665]\u001b[0m Trial 10 finished with value: -1.3928379290969906 and parameters: {'max_depth': 6, 'min_child_weight': 14, 'subsample': 0.8, 'colsample_bytree': 0.9, 'reg_lambda': 0.001916576170455557, 'reg_alpha': 0.027772748040851926, 'feature_fraction': 0.22975162929440146, 'bagging_fraction': 0.26347238223770175, 'bagging_freq': 13, 'num_leaves': 16, 'min_child_samples': 98}. Best is trial 8 with value: -1.3745596225348962.\u001b[0m\n"
     ]
    },
    {
     "name": "stdout",
     "output_type": "stream",
     "text": [
      "Early stopping, best iteration is:\n",
      "[261]\ttraining's l1: 0.995724\tvalid_1's l1: 1.39332\n",
      "[LightGBM] [Warning] feature_fraction is set=0.2370736977685619, colsample_bytree=0.8 will be ignored. Current value: feature_fraction=0.2370736977685619\n",
      "[LightGBM] [Warning] bagging_fraction is set=0.3259506665344283, subsample=0.5 will be ignored. Current value: bagging_fraction=0.3259506665344283\n",
      "[LightGBM] [Warning] bagging_freq is set=9, subsample_freq=0 will be ignored. Current value: bagging_freq=9\n",
      "Training until validation scores don't improve for 100 rounds\n",
      "[100]\ttraining's l1: 0.9301\tvalid_1's l1: 1.393\n",
      "[200]\ttraining's l1: 0.893148\tvalid_1's l1: 1.39363\n",
      "Early stopping, best iteration is:\n",
      "[109]\ttraining's l1: 0.920416\tvalid_1's l1: 1.39155\n"
     ]
    },
    {
     "name": "stderr",
     "output_type": "stream",
     "text": [
      "\u001b[32m[I 2021-07-29 20:06:45,286]\u001b[0m Trial 11 finished with value: -1.3912737169749463 and parameters: {'max_depth': 19, 'min_child_weight': 2, 'subsample': 0.5, 'colsample_bytree': 0.8, 'reg_lambda': 11.616903404159793, 'reg_alpha': 30.398462647724845, 'feature_fraction': 0.2370736977685619, 'bagging_fraction': 0.3259506665344283, 'bagging_freq': 9, 'num_leaves': 156, 'min_child_samples': 24}. Best is trial 8 with value: -1.3745596225348962.\u001b[0m\n"
     ]
    },
    {
     "name": "stdout",
     "output_type": "stream",
     "text": [
      "[LightGBM] [Warning] feature_fraction is set=0.7437496453858811, colsample_bytree=0.6 will be ignored. Current value: feature_fraction=0.7437496453858811\n",
      "[LightGBM] [Warning] bagging_fraction is set=0.9967767288099577, subsample=0.5 will be ignored. Current value: bagging_fraction=0.9967767288099577\n",
      "[LightGBM] [Warning] bagging_freq is set=6, subsample_freq=0 will be ignored. Current value: bagging_freq=6\n",
      "Training until validation scores don't improve for 100 rounds\n",
      "[100]\ttraining's l1: 0.971728\tvalid_1's l1: 1.37715\n",
      "[200]\ttraining's l1: 0.965997\tvalid_1's l1: 1.37857\n"
     ]
    },
    {
     "name": "stderr",
     "output_type": "stream",
     "text": [
      "\u001b[32m[I 2021-07-29 20:06:56,357]\u001b[0m Trial 12 finished with value: -1.37597706258545 and parameters: {'max_depth': 6, 'min_child_weight': 6, 'subsample': 0.5, 'colsample_bytree': 0.6, 'reg_lambda': 0.05865442439480642, 'reg_alpha': 0.14124730139481845, 'feature_fraction': 0.7437496453858811, 'bagging_fraction': 0.9967767288099577, 'bagging_freq': 6, 'num_leaves': 215, 'min_child_samples': 67}. Best is trial 8 with value: -1.3745596225348962.\u001b[0m\n"
     ]
    },
    {
     "name": "stdout",
     "output_type": "stream",
     "text": [
      "Early stopping, best iteration is:\n",
      "[182]\ttraining's l1: 0.969403\tvalid_1's l1: 1.37608\n",
      "[LightGBM] [Warning] feature_fraction is set=0.7487406047448111, colsample_bytree=0.6 will be ignored. Current value: feature_fraction=0.7487406047448111\n",
      "[LightGBM] [Warning] bagging_fraction is set=0.912325609969063, subsample=0.5 will be ignored. Current value: bagging_fraction=0.912325609969063\n",
      "[LightGBM] [Warning] bagging_freq is set=12, subsample_freq=0 will be ignored. Current value: bagging_freq=12\n",
      "Training until validation scores don't improve for 100 rounds\n",
      "[100]\ttraining's l1: 1.00742\tvalid_1's l1: 1.38258\n",
      "[200]\ttraining's l1: 0.987679\tvalid_1's l1: 1.37527\n",
      "[300]\ttraining's l1: 0.961178\tvalid_1's l1: 1.37872\n"
     ]
    },
    {
     "name": "stderr",
     "output_type": "stream",
     "text": [
      "\u001b[32m[I 2021-07-29 20:07:07,354]\u001b[0m Trial 13 finished with value: -1.3745097003282023 and parameters: {'max_depth': 5, 'min_child_weight': 7, 'subsample': 0.5, 'colsample_bytree': 0.6, 'reg_lambda': 0.046651079376845234, 'reg_alpha': 0.07906170122383999, 'feature_fraction': 0.7487406047448111, 'bagging_fraction': 0.912325609969063, 'bagging_freq': 12, 'num_leaves': 186, 'min_child_samples': 67}. Best is trial 13 with value: -1.3745097003282023.\u001b[0m\n"
     ]
    },
    {
     "name": "stdout",
     "output_type": "stream",
     "text": [
      "Early stopping, best iteration is:\n",
      "[241]\ttraining's l1: 0.976295\tvalid_1's l1: 1.37462\n",
      "[LightGBM] [Warning] feature_fraction is set=0.9897082392792073, colsample_bytree=0.6 will be ignored. Current value: feature_fraction=0.9897082392792073\n",
      "[LightGBM] [Warning] bagging_fraction is set=0.8755385203538673, subsample=0.8 will be ignored. Current value: bagging_fraction=0.8755385203538673\n",
      "[LightGBM] [Warning] bagging_freq is set=13, subsample_freq=0 will be ignored. Current value: bagging_freq=13\n",
      "Training until validation scores don't improve for 100 rounds\n",
      "[100]\ttraining's l1: 1.18408\tvalid_1's l1: 1.54131\n"
     ]
    },
    {
     "name": "stderr",
     "output_type": "stream",
     "text": [
      "\u001b[32m[I 2021-07-29 20:07:12,209]\u001b[0m Trial 14 finished with value: -1.540498377751986 and parameters: {'max_depth': 1, 'min_child_weight': 12, 'subsample': 0.8, 'colsample_bytree': 0.6, 'reg_lambda': 0.04124603353627718, 'reg_alpha': 0.0014502286512380236, 'feature_fraction': 0.9897082392792073, 'bagging_fraction': 0.8755385203538673, 'bagging_freq': 13, 'num_leaves': 216, 'min_child_samples': 72}. Best is trial 13 with value: -1.3745097003282023.\u001b[0m\n"
     ]
    },
    {
     "name": "stdout",
     "output_type": "stream",
     "text": [
      "Early stopping, best iteration is:\n",
      "[45]\ttraining's l1: 1.1876\tvalid_1's l1: 1.5405\n",
      "[LightGBM] [Warning] feature_fraction is set=0.5763050641241396, colsample_bytree=0.5 will be ignored. Current value: feature_fraction=0.5763050641241396\n",
      "[LightGBM] [Warning] bagging_fraction is set=0.9719959256019642, subsample=0.8 will be ignored. Current value: bagging_fraction=0.9719959256019642\n",
      "[LightGBM] [Warning] bagging_freq is set=11, subsample_freq=0 will be ignored. Current value: bagging_freq=11\n",
      "Training until validation scores don't improve for 100 rounds\n",
      "[100]\ttraining's l1: 1.00741\tvalid_1's l1: 1.38443\n",
      "[200]\ttraining's l1: 0.992943\tvalid_1's l1: 1.37819\n",
      "[300]\ttraining's l1: 0.976095\tvalid_1's l1: 1.37686\n"
     ]
    },
    {
     "name": "stderr",
     "output_type": "stream",
     "text": [
      "\u001b[32m[I 2021-07-29 20:07:30,297]\u001b[0m Trial 15 finished with value: -1.3749102725168654 and parameters: {'max_depth': 5, 'min_child_weight': 7, 'subsample': 0.8, 'colsample_bytree': 0.5, 'reg_lambda': 0.005474900357068774, 'reg_alpha': 0.07319390275310614, 'feature_fraction': 0.5763050641241396, 'bagging_fraction': 0.9719959256019642, 'bagging_freq': 11, 'num_leaves': 707, 'min_child_samples': 91}. Best is trial 13 with value: -1.3745097003282023.\u001b[0m\n"
     ]
    },
    {
     "name": "stdout",
     "output_type": "stream",
     "text": [
      "Early stopping, best iteration is:\n",
      "[293]\ttraining's l1: 0.97808\tvalid_1's l1: 1.37513\n",
      "[LightGBM] [Warning] feature_fraction is set=0.8013541086854836, colsample_bytree=0.6 will be ignored. Current value: feature_fraction=0.8013541086854836\n",
      "[LightGBM] [Warning] bagging_fraction is set=0.3949733312796746, subsample=0.9 will be ignored. Current value: bagging_fraction=0.3949733312796746\n",
      "[LightGBM] [Warning] bagging_freq is set=16, subsample_freq=0 will be ignored. Current value: bagging_freq=16\n",
      "Training until validation scores don't improve for 100 rounds\n",
      "[100]\ttraining's l1: 1.18081\tvalid_1's l1: 1.5342\n"
     ]
    },
    {
     "name": "stderr",
     "output_type": "stream",
     "text": [
      "\u001b[32m[I 2021-07-29 20:07:33,480]\u001b[0m Trial 16 finished with value: -1.5341385628314 and parameters: {'max_depth': 1, 'min_child_weight': 14, 'subsample': 0.9, 'colsample_bytree': 0.6, 'reg_lambda': 0.1340434671795229, 'reg_alpha': 0.006000847918065977, 'feature_fraction': 0.8013541086854836, 'bagging_fraction': 0.3949733312796746, 'bagging_freq': 16, 'num_leaves': 44, 'min_child_samples': 63}. Best is trial 13 with value: -1.3745097003282023.\u001b[0m\n"
     ]
    },
    {
     "name": "stdout",
     "output_type": "stream",
     "text": [
      "Early stopping, best iteration is:\n",
      "[47]\ttraining's l1: 1.184\tvalid_1's l1: 1.53414\n",
      "[LightGBM] [Warning] feature_fraction is set=0.610450544261772, colsample_bytree=0.9 will be ignored. Current value: feature_fraction=0.610450544261772\n",
      "[LightGBM] [Warning] bagging_fraction is set=0.5311851280465978, subsample=0.5 will be ignored. Current value: bagging_fraction=0.5311851280465978\n",
      "[LightGBM] [Warning] bagging_freq is set=11, subsample_freq=0 will be ignored. Current value: bagging_freq=11\n",
      "Training until validation scores don't improve for 100 rounds\n",
      "[100]\ttraining's l1: 1.03501\tvalid_1's l1: 1.39561\n",
      "[200]\ttraining's l1: 1.02381\tvalid_1's l1: 1.39104\n",
      "[300]\ttraining's l1: 1.00966\tvalid_1's l1: 1.38667\n",
      "[400]\ttraining's l1: 0.996342\tvalid_1's l1: 1.38208\n"
     ]
    },
    {
     "name": "stderr",
     "output_type": "stream",
     "text": [
      "\u001b[32m[I 2021-07-29 20:07:46,188]\u001b[0m Trial 17 finished with value: -1.3800068619097015 and parameters: {'max_depth': 4, 'min_child_weight': 8, 'subsample': 0.5, 'colsample_bytree': 0.9, 'reg_lambda': 0.008628117706082085, 'reg_alpha': 0.15970388880578862, 'feature_fraction': 0.610450544261772, 'bagging_fraction': 0.5311851280465978, 'bagging_freq': 11, 'num_leaves': 271, 'min_child_samples': 28}. Best is trial 13 with value: -1.3745097003282023.\u001b[0m\n"
     ]
    },
    {
     "name": "stdout",
     "output_type": "stream",
     "text": [
      "Early stopping, best iteration is:\n",
      "[394]\ttraining's l1: 0.997472\tvalid_1's l1: 1.38099\n",
      "[LightGBM] [Warning] feature_fraction is set=0.980667139932003, colsample_bytree=0.7 will be ignored. Current value: feature_fraction=0.980667139932003\n",
      "[LightGBM] [Warning] bagging_fraction is set=0.7257675494607534, subsample=0.6 will be ignored. Current value: bagging_fraction=0.7257675494607534\n",
      "[LightGBM] [Warning] bagging_freq is set=14, subsample_freq=0 will be ignored. Current value: bagging_freq=14\n",
      "Training until validation scores don't improve for 100 rounds\n",
      "[100]\ttraining's l1: 0.942562\tvalid_1's l1: 1.37387\n"
     ]
    },
    {
     "name": "stderr",
     "output_type": "stream",
     "text": [
      "\u001b[32m[I 2021-07-29 20:07:53,393]\u001b[0m Trial 18 finished with value: -1.3737152617888693 and parameters: {'max_depth': 7, 'min_child_weight': 4, 'subsample': 0.6, 'colsample_bytree': 0.7, 'reg_lambda': 0.1123030607179137, 'reg_alpha': 0.0133753000763316, 'feature_fraction': 0.980667139932003, 'bagging_fraction': 0.7257675494607534, 'bagging_freq': 14, 'num_leaves': 653, 'min_child_samples': 59}. Best is trial 18 with value: -1.3737152617888693.\u001b[0m\n"
     ]
    },
    {
     "name": "stdout",
     "output_type": "stream",
     "text": [
      "Early stopping, best iteration is:\n",
      "[72]\ttraining's l1: 0.943516\tvalid_1's l1: 1.37381\n",
      "[LightGBM] [Warning] feature_fraction is set=0.9776328754594542, colsample_bytree=0.8 will be ignored. Current value: feature_fraction=0.9776328754594542\n",
      "[LightGBM] [Warning] bagging_fraction is set=0.8948364516914645, subsample=0.6 will be ignored. Current value: bagging_fraction=0.8948364516914645\n",
      "[LightGBM] [Warning] bagging_freq is set=16, subsample_freq=0 will be ignored. Current value: bagging_freq=16\n",
      "Training until validation scores don't improve for 100 rounds\n",
      "[100]\ttraining's l1: 0.796671\tvalid_1's l1: 1.39134\n"
     ]
    },
    {
     "name": "stderr",
     "output_type": "stream",
     "text": [
      "\u001b[32m[I 2021-07-29 20:08:07,316]\u001b[0m Trial 19 finished with value: -1.3799955600871954 and parameters: {'max_depth': 12, 'min_child_weight': 4, 'subsample': 0.6, 'colsample_bytree': 0.8, 'reg_lambda': 0.25802749679443826, 'reg_alpha': 0.01848701302843302, 'feature_fraction': 0.9776328754594542, 'bagging_fraction': 0.8948364516914645, 'bagging_freq': 16, 'num_leaves': 955, 'min_child_samples': 61}. Best is trial 18 with value: -1.3737152617888693.\u001b[0m\n"
     ]
    },
    {
     "name": "stdout",
     "output_type": "stream",
     "text": [
      "Early stopping, best iteration is:\n",
      "[52]\ttraining's l1: 0.849341\tvalid_1's l1: 1.38006\n",
      "[LightGBM] [Warning] feature_fraction is set=0.9048913983331088, colsample_bytree=0.6 will be ignored. Current value: feature_fraction=0.9048913983331088\n",
      "[LightGBM] [Warning] bagging_fraction is set=0.7416896027574186, subsample=0.5 will be ignored. Current value: bagging_fraction=0.7416896027574186\n",
      "[LightGBM] [Warning] bagging_freq is set=18, subsample_freq=0 will be ignored. Current value: bagging_freq=18\n",
      "Training until validation scores don't improve for 100 rounds\n",
      "[100]\ttraining's l1: 0.915038\tvalid_1's l1: 1.38009\n",
      "[200]\ttraining's l1: 0.898953\tvalid_1's l1: 1.38365\n"
     ]
    },
    {
     "name": "stderr",
     "output_type": "stream",
     "text": [
      "\u001b[32m[I 2021-07-29 20:08:17,110]\u001b[0m Trial 20 finished with value: -1.377768684553738 and parameters: {'max_depth': 8, 'min_child_weight': 4, 'subsample': 0.5, 'colsample_bytree': 0.6, 'reg_lambda': 2.6062767755889267, 'reg_alpha': 0.3346850978589651, 'feature_fraction': 0.9048913983331088, 'bagging_fraction': 0.7416896027574186, 'bagging_freq': 18, 'num_leaves': 645, 'min_child_samples': 84}. Best is trial 18 with value: -1.3737152617888693.\u001b[0m\n"
     ]
    },
    {
     "name": "stdout",
     "output_type": "stream",
     "text": [
      "Early stopping, best iteration is:\n",
      "[141]\ttraining's l1: 0.908137\tvalid_1's l1: 1.37787\n",
      "[LightGBM] [Warning] feature_fraction is set=0.7392876420101904, colsample_bytree=0.7 will be ignored. Current value: feature_fraction=0.7392876420101904\n",
      "[LightGBM] [Warning] bagging_fraction is set=0.5597016636798792, subsample=0.6 will be ignored. Current value: bagging_fraction=0.5597016636798792\n",
      "[LightGBM] [Warning] bagging_freq is set=13, subsample_freq=0 will be ignored. Current value: bagging_freq=13\n",
      "Training until validation scores don't improve for 100 rounds\n",
      "[100]\ttraining's l1: 0.950685\tvalid_1's l1: 1.38349\n",
      "[200]\ttraining's l1: 0.943963\tvalid_1's l1: 1.37923\n",
      "[300]\ttraining's l1: 0.904274\tvalid_1's l1: 1.3766\n"
     ]
    },
    {
     "name": "stderr",
     "output_type": "stream",
     "text": [
      "\u001b[32m[I 2021-07-29 20:08:26,852]\u001b[0m Trial 21 finished with value: -1.3738047411272254 and parameters: {'max_depth': 7, 'min_child_weight': 5, 'subsample': 0.6, 'colsample_bytree': 0.7, 'reg_lambda': 0.051025048171479834, 'reg_alpha': 0.003492567271933324, 'feature_fraction': 0.7392876420101904, 'bagging_fraction': 0.5597016636798792, 'bagging_freq': 13, 'num_leaves': 711, 'min_child_samples': 53}. Best is trial 18 with value: -1.3737152617888693.\u001b[0m\n"
     ]
    },
    {
     "name": "stdout",
     "output_type": "stream",
     "text": [
      "Early stopping, best iteration is:\n",
      "[245]\ttraining's l1: 0.926986\tvalid_1's l1: 1.374\n",
      "[LightGBM] [Warning] feature_fraction is set=0.7524131418449757, colsample_bytree=0.7 will be ignored. Current value: feature_fraction=0.7524131418449757\n",
      "[LightGBM] [Warning] bagging_fraction is set=0.7065587452530291, subsample=0.6 will be ignored. Current value: bagging_fraction=0.7065587452530291\n",
      "[LightGBM] [Warning] bagging_freq is set=13, subsample_freq=0 will be ignored. Current value: bagging_freq=13\n",
      "Training until validation scores don't improve for 100 rounds\n",
      "[100]\ttraining's l1: 0.945975\tvalid_1's l1: 1.3776\n",
      "[200]\ttraining's l1: 0.939951\tvalid_1's l1: 1.37662\n",
      "[300]\ttraining's l1: 0.922902\tvalid_1's l1: 1.37427\n",
      "[400]\ttraining's l1: 0.900732\tvalid_1's l1: 1.37332\n",
      "Early stopping, best iteration is:\n",
      "[355]\ttraining's l1: 0.908623\tvalid_1's l1: 1.37094\n"
     ]
    },
    {
     "name": "stderr",
     "output_type": "stream",
     "text": [
      "\u001b[32m[I 2021-07-29 20:08:40,472]\u001b[0m Trial 22 finished with value: -1.3707113406272502 and parameters: {'max_depth': 7, 'min_child_weight': 5, 'subsample': 0.6, 'colsample_bytree': 0.7, 'reg_lambda': 0.02772330037927913, 'reg_alpha': 0.03647944582907608, 'feature_fraction': 0.7524131418449757, 'bagging_fraction': 0.7065587452530291, 'bagging_freq': 13, 'num_leaves': 830, 'min_child_samples': 55}. Best is trial 22 with value: -1.3707113406272502.\u001b[0m\n"
     ]
    },
    {
     "name": "stdout",
     "output_type": "stream",
     "text": [
      "[LightGBM] [Warning] feature_fraction is set=0.9156931267801038, colsample_bytree=0.7 will be ignored. Current value: feature_fraction=0.9156931267801038\n",
      "[LightGBM] [Warning] bagging_fraction is set=0.6898320018720043, subsample=0.6 will be ignored. Current value: bagging_fraction=0.6898320018720043\n",
      "[LightGBM] [Warning] bagging_freq is set=14, subsample_freq=0 will be ignored. Current value: bagging_freq=14\n",
      "Training until validation scores don't improve for 100 rounds\n",
      "[100]\ttraining's l1: 0.826897\tvalid_1's l1: 1.39536\n"
     ]
    },
    {
     "name": "stderr",
     "output_type": "stream",
     "text": [
      "\u001b[32m[I 2021-07-29 20:08:49,923]\u001b[0m Trial 23 finished with value: -1.3858820581277527 and parameters: {'max_depth': 11, 'min_child_weight': 3, 'subsample': 0.6, 'colsample_bytree': 0.7, 'reg_lambda': 0.28048572746386613, 'reg_alpha': 0.0044379766273863475, 'feature_fraction': 0.9156931267801038, 'bagging_fraction': 0.6898320018720043, 'bagging_freq': 14, 'num_leaves': 854, 'min_child_samples': 57}. Best is trial 22 with value: -1.3707113406272502.\u001b[0m\n"
     ]
    },
    {
     "name": "stdout",
     "output_type": "stream",
     "text": [
      "Early stopping, best iteration is:\n",
      "[27]\ttraining's l1: 0.920996\tvalid_1's l1: 1.38588\n",
      "[LightGBM] [Warning] feature_fraction is set=0.7913567427354709, colsample_bytree=0.8 will be ignored. Current value: feature_fraction=0.7913567427354709\n",
      "[LightGBM] [Warning] bagging_fraction is set=0.800057996156343, subsample=0.6 will be ignored. Current value: bagging_fraction=0.800057996156343\n",
      "[LightGBM] [Warning] bagging_freq is set=14, subsample_freq=0 will be ignored. Current value: bagging_freq=14\n",
      "Training until validation scores don't improve for 100 rounds\n",
      "[100]\ttraining's l1: 0.920234\tvalid_1's l1: 1.37014\n",
      "[200]\ttraining's l1: 0.912152\tvalid_1's l1: 1.37086\n"
     ]
    },
    {
     "name": "stderr",
     "output_type": "stream",
     "text": [
      "\u001b[32m[I 2021-07-29 20:08:59,049]\u001b[0m Trial 24 finished with value: -1.3681591142342795 and parameters: {'max_depth': 8, 'min_child_weight': 5, 'subsample': 0.6, 'colsample_bytree': 0.8, 'reg_lambda': 0.01550038195848475, 'reg_alpha': 0.022397272471467024, 'feature_fraction': 0.7913567427354709, 'bagging_fraction': 0.800057996156343, 'bagging_freq': 14, 'num_leaves': 735, 'min_child_samples': 38}. Best is trial 24 with value: -1.3681591142342795.\u001b[0m\n"
     ]
    },
    {
     "name": "stdout",
     "output_type": "stream",
     "text": [
      "Early stopping, best iteration is:\n",
      "[121]\ttraining's l1: 0.917668\tvalid_1's l1: 1.36828\n",
      "[LightGBM] [Warning] feature_fraction is set=0.8330761124890681, colsample_bytree=0.8 will be ignored. Current value: feature_fraction=0.8330761124890681\n",
      "[LightGBM] [Warning] bagging_fraction is set=0.8093756076138405, subsample=0.6 will be ignored. Current value: bagging_fraction=0.8093756076138405\n",
      "[LightGBM] [Warning] bagging_freq is set=15, subsample_freq=0 will be ignored. Current value: bagging_freq=15\n",
      "Training until validation scores don't improve for 100 rounds\n",
      "[100]\ttraining's l1: 0.851094\tvalid_1's l1: 1.3721\n"
     ]
    },
    {
     "name": "stderr",
     "output_type": "stream",
     "text": [
      "\u001b[32m[I 2021-07-29 20:09:09,686]\u001b[0m Trial 25 finished with value: -1.3685710007897733 and parameters: {'max_depth': 10, 'min_child_weight': 11, 'subsample': 0.6, 'colsample_bytree': 0.8, 'reg_lambda': 0.012874313876585268, 'reg_alpha': 0.03138347503497533, 'feature_fraction': 0.8330761124890681, 'bagging_fraction': 0.8093756076138405, 'bagging_freq': 15, 'num_leaves': 988, 'min_child_samples': 40}. Best is trial 24 with value: -1.3681591142342795.\u001b[0m\n"
     ]
    },
    {
     "name": "stdout",
     "output_type": "stream",
     "text": [
      "Early stopping, best iteration is:\n",
      "[76]\ttraining's l1: 0.860684\tvalid_1's l1: 1.36866\n",
      "[LightGBM] [Warning] feature_fraction is set=0.8211571718919686, colsample_bytree=0.8 will be ignored. Current value: feature_fraction=0.8211571718919686\n",
      "[LightGBM] [Warning] bagging_fraction is set=0.787464842509313, subsample=0.7 will be ignored. Current value: bagging_fraction=0.787464842509313\n",
      "[LightGBM] [Warning] bagging_freq is set=18, subsample_freq=0 will be ignored. Current value: bagging_freq=18\n",
      "Training until validation scores don't improve for 100 rounds\n",
      "[100]\ttraining's l1: 0.787976\tvalid_1's l1: 1.41791\n"
     ]
    },
    {
     "name": "stderr",
     "output_type": "stream",
     "text": [
      "\u001b[32m[I 2021-07-29 20:09:21,835]\u001b[0m Trial 26 finished with value: -1.3832247528675738 and parameters: {'max_depth': 12, 'min_child_weight': 12, 'subsample': 0.7, 'colsample_bytree': 0.8, 'reg_lambda': 0.0034781119020103252, 'reg_alpha': 0.02926515592649175, 'feature_fraction': 0.8211571718919686, 'bagging_fraction': 0.787464842509313, 'bagging_freq': 18, 'num_leaves': 928, 'min_child_samples': 37}. Best is trial 24 with value: -1.3681591142342795.\u001b[0m\n"
     ]
    },
    {
     "name": "stdout",
     "output_type": "stream",
     "text": [
      "Early stopping, best iteration is:\n",
      "[42]\ttraining's l1: 0.861768\tvalid_1's l1: 1.38324\n",
      "[LightGBM] [Warning] feature_fraction is set=0.7825916536758835, colsample_bytree=0.9 will be ignored. Current value: feature_fraction=0.7825916536758835\n",
      "[LightGBM] [Warning] bagging_fraction is set=0.8183742336846817, subsample=0.6 will be ignored. Current value: bagging_fraction=0.8183742336846817\n",
      "[LightGBM] [Warning] bagging_freq is set=15, subsample_freq=0 will be ignored. Current value: bagging_freq=15\n",
      "Training until validation scores don't improve for 100 rounds\n",
      "[100]\ttraining's l1: 0.847263\tvalid_1's l1: 1.38955\n"
     ]
    },
    {
     "name": "stderr",
     "output_type": "stream",
     "text": [
      "\u001b[32m[I 2021-07-29 20:09:31,076]\u001b[0m Trial 27 finished with value: -1.3763916301380545 and parameters: {'max_depth': 10, 'min_child_weight': 11, 'subsample': 0.6, 'colsample_bytree': 0.9, 'reg_lambda': 0.01912615553981646, 'reg_alpha': 0.3109324593277335, 'feature_fraction': 0.7825916536758835, 'bagging_fraction': 0.8183742336846817, 'bagging_freq': 15, 'num_leaves': 1000, 'min_child_samples': 21}. Best is trial 24 with value: -1.3681591142342795.\u001b[0m\n"
     ]
    },
    {
     "name": "stdout",
     "output_type": "stream",
     "text": [
      "Early stopping, best iteration is:\n",
      "[39]\ttraining's l1: 0.906545\tvalid_1's l1: 1.3764\n",
      "[LightGBM] [Warning] feature_fraction is set=0.7051998301914817, colsample_bytree=0.8 will be ignored. Current value: feature_fraction=0.7051998301914817\n",
      "[LightGBM] [Warning] bagging_fraction is set=0.8262725128493947, subsample=0.7 will be ignored. Current value: bagging_fraction=0.8262725128493947\n",
      "[LightGBM] [Warning] bagging_freq is set=17, subsample_freq=0 will be ignored. Current value: bagging_freq=17\n",
      "Training until validation scores don't improve for 100 rounds\n",
      "[100]\ttraining's l1: 0.763049\tvalid_1's l1: 1.42332\n"
     ]
    },
    {
     "name": "stderr",
     "output_type": "stream",
     "text": [
      "\u001b[32m[I 2021-07-29 20:09:43,892]\u001b[0m Trial 28 finished with value: -1.3854414463412277 and parameters: {'max_depth': 17, 'min_child_weight': 14, 'subsample': 0.7, 'colsample_bytree': 0.8, 'reg_lambda': 0.01786246889717734, 'reg_alpha': 0.062090178875868846, 'feature_fraction': 0.7051998301914817, 'bagging_fraction': 0.8262725128493947, 'bagging_freq': 17, 'num_leaves': 817, 'min_child_samples': 39}. Best is trial 24 with value: -1.3681591142342795.\u001b[0m\n"
     ]
    },
    {
     "name": "stdout",
     "output_type": "stream",
     "text": [
      "Early stopping, best iteration is:\n",
      "[28]\ttraining's l1: 0.889076\tvalid_1's l1: 1.38544\n",
      "[LightGBM] [Warning] feature_fraction is set=0.9115085707927345, colsample_bytree=0.9 will be ignored. Current value: feature_fraction=0.9115085707927345\n",
      "[LightGBM] [Warning] bagging_fraction is set=0.9338561424430243, subsample=0.6 will be ignored. Current value: bagging_fraction=0.9338561424430243\n",
      "[LightGBM] [Warning] bagging_freq is set=10, subsample_freq=0 will be ignored. Current value: bagging_freq=10\n",
      "Training until validation scores don't improve for 100 rounds\n",
      "[100]\ttraining's l1: 0.752336\tvalid_1's l1: 1.43822\n"
     ]
    },
    {
     "name": "stderr",
     "output_type": "stream",
     "text": [
      "\u001b[32m[I 2021-07-29 20:09:59,652]\u001b[0m Trial 29 finished with value: -1.3875871709392156 and parameters: {'max_depth': 16, 'min_child_weight': 9, 'subsample': 0.6, 'colsample_bytree': 0.9, 'reg_lambda': 0.00294979184254604, 'reg_alpha': 0.5417870423906433, 'feature_fraction': 0.9115085707927345, 'bagging_fraction': 0.9338561424430243, 'bagging_freq': 10, 'num_leaves': 853, 'min_child_samples': 30}. Best is trial 24 with value: -1.3681591142342795.\u001b[0m\n"
     ]
    },
    {
     "name": "stdout",
     "output_type": "stream",
     "text": [
      "Early stopping, best iteration is:\n",
      "[29]\ttraining's l1: 0.871599\tvalid_1's l1: 1.38759\n",
      "[LightGBM] [Warning] feature_fraction is set=0.6813740738326918, colsample_bytree=0.8 will be ignored. Current value: feature_fraction=0.6813740738326918\n",
      "[LightGBM] [Warning] bagging_fraction is set=0.8359438116045733, subsample=0.6 will be ignored. Current value: bagging_fraction=0.8359438116045733\n",
      "[LightGBM] [Warning] bagging_freq is set=15, subsample_freq=0 will be ignored. Current value: bagging_freq=15\n",
      "Training until validation scores don't improve for 100 rounds\n",
      "[100]\ttraining's l1: 0.801964\tvalid_1's l1: 1.41008\n"
     ]
    },
    {
     "name": "stderr",
     "output_type": "stream",
     "text": [
      "\u001b[32m[I 2021-07-29 20:10:10,540]\u001b[0m Trial 30 finished with value: -1.3796426805346746 and parameters: {'max_depth': 12, 'min_child_weight': 17, 'subsample': 0.6, 'colsample_bytree': 0.8, 'reg_lambda': 0.43135670077748034, 'reg_alpha': 6.348415705479492, 'feature_fraction': 0.6813740738326918, 'bagging_fraction': 0.8359438116045733, 'bagging_freq': 15, 'num_leaves': 767, 'min_child_samples': 17}. Best is trial 24 with value: -1.3681591142342795.\u001b[0m\n"
     ]
    },
    {
     "name": "stdout",
     "output_type": "stream",
     "text": [
      "Early stopping, best iteration is:\n",
      "[40]\ttraining's l1: 0.882419\tvalid_1's l1: 1.37966\n",
      "[LightGBM] [Warning] feature_fraction is set=0.9666978992340006, colsample_bytree=0.7 will be ignored. Current value: feature_fraction=0.9666978992340006\n",
      "[LightGBM] [Warning] bagging_fraction is set=0.7217870938383167, subsample=0.6 will be ignored. Current value: bagging_fraction=0.7217870938383167\n",
      "[LightGBM] [Warning] bagging_freq is set=14, subsample_freq=0 will be ignored. Current value: bagging_freq=14\n",
      "Training until validation scores don't improve for 100 rounds\n",
      "[100]\ttraining's l1: 0.908689\tvalid_1's l1: 1.37417\n",
      "[200]\ttraining's l1: 0.905955\tvalid_1's l1: 1.37353\n",
      "[300]\ttraining's l1: 0.899749\tvalid_1's l1: 1.3746\n",
      "Early stopping, best iteration is:\n",
      "[251]\ttraining's l1: 0.90272\tvalid_1's l1: 1.3714\n"
     ]
    },
    {
     "name": "stderr",
     "output_type": "stream",
     "text": [
      "\u001b[32m[I 2021-07-29 20:10:23,544]\u001b[0m Trial 31 finished with value: -1.371193930834753 and parameters: {'max_depth': 8, 'min_child_weight': 1, 'subsample': 0.6, 'colsample_bytree': 0.7, 'reg_lambda': 0.11048724904002713, 'reg_alpha': 0.013360619492826619, 'feature_fraction': 0.9666978992340006, 'bagging_fraction': 0.7217870938383167, 'bagging_freq': 14, 'num_leaves': 638, 'min_child_samples': 46}. Best is trial 24 with value: -1.3681591142342795.\u001b[0m\n"
     ]
    },
    {
     "name": "stdout",
     "output_type": "stream",
     "text": [
      "[LightGBM] [Warning] feature_fraction is set=0.8308548296971195, colsample_bytree=0.8 will be ignored. Current value: feature_fraction=0.8308548296971195\n",
      "[LightGBM] [Warning] bagging_fraction is set=0.7024294463868517, subsample=0.6 will be ignored. Current value: bagging_fraction=0.7024294463868517\n",
      "[LightGBM] [Warning] bagging_freq is set=12, subsample_freq=0 will be ignored. Current value: bagging_freq=12\n",
      "Training until validation scores don't improve for 100 rounds\n",
      "[100]\ttraining's l1: 0.889561\tvalid_1's l1: 1.38117\n"
     ]
    },
    {
     "name": "stderr",
     "output_type": "stream",
     "text": [
      "\u001b[32m[I 2021-07-29 20:10:31,000]\u001b[0m Trial 32 finished with value: -1.3793318079718366 and parameters: {'max_depth': 9, 'min_child_weight': 11, 'subsample': 0.6, 'colsample_bytree': 0.8, 'reg_lambda': 0.01576899255477676, 'reg_alpha': 0.020341822834389005, 'feature_fraction': 0.8308548296971195, 'bagging_fraction': 0.7024294463868517, 'bagging_freq': 12, 'num_leaves': 914, 'min_child_samples': 47}. Best is trial 24 with value: -1.3681591142342795.\u001b[0m\n"
     ]
    },
    {
     "name": "stdout",
     "output_type": "stream",
     "text": [
      "Early stopping, best iteration is:\n",
      "[44]\ttraining's l1: 0.926754\tvalid_1's l1: 1.37934\n",
      "[LightGBM] [Warning] feature_fraction is set=0.8649261370338279, colsample_bytree=0.7 will be ignored. Current value: feature_fraction=0.8649261370338279\n",
      "[LightGBM] [Warning] bagging_fraction is set=0.6387318818346586, subsample=0.5 will be ignored. Current value: bagging_fraction=0.6387318818346586\n",
      "[LightGBM] [Warning] bagging_freq is set=20, subsample_freq=0 will be ignored. Current value: bagging_freq=20\n",
      "Training until validation scores don't improve for 100 rounds\n",
      "[100]\ttraining's l1: 0.913335\tvalid_1's l1: 1.37057\n"
     ]
    },
    {
     "name": "stderr",
     "output_type": "stream",
     "text": [
      "\u001b[32m[I 2021-07-29 20:10:38,555]\u001b[0m Trial 33 finished with value: -1.3692594352287972 and parameters: {'max_depth': 8, 'min_child_weight': 1, 'subsample': 0.5, 'colsample_bytree': 0.7, 'reg_lambda': 0.007387282353043243, 'reg_alpha': 0.04636038041155512, 'feature_fraction': 0.8649261370338279, 'bagging_fraction': 0.6387318818346586, 'bagging_freq': 20, 'num_leaves': 773, 'min_child_samples': 31}. Best is trial 24 with value: -1.3681591142342795.\u001b[0m\n"
     ]
    },
    {
     "name": "stdout",
     "output_type": "stream",
     "text": [
      "Early stopping, best iteration is:\n",
      "[81]\ttraining's l1: 0.914912\tvalid_1's l1: 1.36933\n",
      "[LightGBM] [Warning] feature_fraction is set=0.8599308285747393, colsample_bytree=0.8 will be ignored. Current value: feature_fraction=0.8599308285747393\n",
      "[LightGBM] [Warning] bagging_fraction is set=0.6576335478954441, subsample=0.5 will be ignored. Current value: bagging_fraction=0.6576335478954441\n",
      "[LightGBM] [Warning] bagging_freq is set=20, subsample_freq=0 will be ignored. Current value: bagging_freq=20\n",
      "Training until validation scores don't improve for 100 rounds\n",
      "[100]\ttraining's l1: 0.880443\tvalid_1's l1: 1.37962\n"
     ]
    },
    {
     "name": "stderr",
     "output_type": "stream",
     "text": [
      "\u001b[32m[I 2021-07-29 20:10:46,021]\u001b[0m Trial 34 finished with value: -1.3762597629309066 and parameters: {'max_depth': 9, 'min_child_weight': 9, 'subsample': 0.5, 'colsample_bytree': 0.8, 'reg_lambda': 0.007072417715529289, 'reg_alpha': 0.03982735701770839, 'feature_fraction': 0.8599308285747393, 'bagging_fraction': 0.6576335478954441, 'bagging_freq': 20, 'num_leaves': 780, 'min_child_samples': 31}. Best is trial 24 with value: -1.3681591142342795.\u001b[0m\n"
     ]
    },
    {
     "name": "stdout",
     "output_type": "stream",
     "text": [
      "Early stopping, best iteration is:\n",
      "[50]\ttraining's l1: 0.912161\tvalid_1's l1: 1.37627\n",
      "[LightGBM] [Warning] feature_fraction is set=0.7824784089639572, colsample_bytree=0.7 will be ignored. Current value: feature_fraction=0.7824784089639572\n",
      "[LightGBM] [Warning] bagging_fraction is set=0.6053829915315664, subsample=0.5 will be ignored. Current value: bagging_fraction=0.6053829915315664\n",
      "[LightGBM] [Warning] bagging_freq is set=19, subsample_freq=0 will be ignored. Current value: bagging_freq=19\n",
      "Training until validation scores don't improve for 100 rounds\n",
      "[100]\ttraining's l1: 0.822628\tvalid_1's l1: 1.41276\n"
     ]
    },
    {
     "name": "stderr",
     "output_type": "stream",
     "text": [
      "\u001b[32m[I 2021-07-29 20:10:54,647]\u001b[0m Trial 35 finished with value: -1.3851671796880956 and parameters: {'max_depth': 11, 'min_child_weight': 2, 'subsample': 0.5, 'colsample_bytree': 0.7, 'reg_lambda': 0.02210112797355998, 'reg_alpha': 0.147445012277092, 'feature_fraction': 0.7824784089639572, 'bagging_fraction': 0.6053829915315664, 'bagging_freq': 19, 'num_leaves': 864, 'min_child_samples': 35}. Best is trial 24 with value: -1.3681591142342795.\u001b[0m\n"
     ]
    },
    {
     "name": "stdout",
     "output_type": "stream",
     "text": [
      "Early stopping, best iteration is:\n",
      "[29]\ttraining's l1: 0.915756\tvalid_1's l1: 1.38517\n",
      "[LightGBM] [Warning] feature_fraction is set=0.8560800358203999, colsample_bytree=0.7 will be ignored. Current value: feature_fraction=0.8560800358203999\n",
      "[LightGBM] [Warning] bagging_fraction is set=0.7798627311550418, subsample=0.7 will be ignored. Current value: bagging_fraction=0.7798627311550418\n",
      "[LightGBM] [Warning] bagging_freq is set=20, subsample_freq=0 will be ignored. Current value: bagging_freq=20\n",
      "Training until validation scores don't improve for 100 rounds\n",
      "[100]\ttraining's l1: 0.775372\tvalid_1's l1: 1.41845\n"
     ]
    },
    {
     "name": "stderr",
     "output_type": "stream",
     "text": [
      "\u001b[32m[I 2021-07-29 20:11:07,526]\u001b[0m Trial 36 finished with value: -1.3851481182236844 and parameters: {'max_depth': 13, 'min_child_weight': 16, 'subsample': 0.7, 'colsample_bytree': 0.7, 'reg_lambda': 0.001947735071999932, 'reg_alpha': 0.00961701149599439, 'feature_fraction': 0.8560800358203999, 'bagging_fraction': 0.7798627311550418, 'bagging_freq': 20, 'num_leaves': 999, 'min_child_samples': 53}. Best is trial 24 with value: -1.3681591142342795.\u001b[0m\n"
     ]
    },
    {
     "name": "stdout",
     "output_type": "stream",
     "text": [
      "Early stopping, best iteration is:\n",
      "[31]\ttraining's l1: 0.882004\tvalid_1's l1: 1.38515\n",
      "[LightGBM] [Warning] feature_fraction is set=0.9108277164881368, colsample_bytree=0.8 will be ignored. Current value: feature_fraction=0.9108277164881368\n",
      "[LightGBM] [Warning] bagging_fraction is set=0.6709188395109916, subsample=0.5 will be ignored. Current value: bagging_fraction=0.6709188395109916\n",
      "[LightGBM] [Warning] bagging_freq is set=17, subsample_freq=0 will be ignored. Current value: bagging_freq=17\n",
      "Training until validation scores don't improve for 100 rounds\n",
      "[100]\ttraining's l1: 0.910567\tvalid_1's l1: 1.36992\n"
     ]
    },
    {
     "name": "stderr",
     "output_type": "stream",
     "text": [
      "\u001b[32m[I 2021-07-29 20:11:15,169]\u001b[0m Trial 37 finished with value: -1.3680078746652573 and parameters: {'max_depth': 8, 'min_child_weight': 10, 'subsample': 0.5, 'colsample_bytree': 0.8, 'reg_lambda': 0.0053072806457274265, 'reg_alpha': 0.0027615645456654887, 'feature_fraction': 0.9108277164881368, 'bagging_fraction': 0.6709188395109916, 'bagging_freq': 17, 'num_leaves': 580, 'min_child_samples': 41}. Best is trial 37 with value: -1.3680078746652573.\u001b[0m\n"
     ]
    },
    {
     "name": "stdout",
     "output_type": "stream",
     "text": [
      "Early stopping, best iteration is:\n",
      "[74]\ttraining's l1: 0.913719\tvalid_1's l1: 1.36806\n",
      "[LightGBM] [Warning] feature_fraction is set=0.9209661840212032, colsample_bytree=0.8 will be ignored. Current value: feature_fraction=0.9209661840212032\n",
      "[LightGBM] [Warning] bagging_fraction is set=0.46420443008610035, subsample=0.5 will be ignored. Current value: bagging_fraction=0.46420443008610035\n",
      "[LightGBM] [Warning] bagging_freq is set=18, subsample_freq=0 will be ignored. Current value: bagging_freq=18\n",
      "Training until validation scores don't improve for 100 rounds\n",
      "[100]\ttraining's l1: 0.861595\tvalid_1's l1: 1.3922\n"
     ]
    },
    {
     "name": "stderr",
     "output_type": "stream",
     "text": [
      "\u001b[32m[I 2021-07-29 20:11:22,576]\u001b[0m Trial 38 finished with value: -1.3823890338476323 and parameters: {'max_depth': 10, 'min_child_weight': 13, 'subsample': 0.5, 'colsample_bytree': 0.8, 'reg_lambda': 0.00713257554807132, 'reg_alpha': 0.0029682373214878514, 'feature_fraction': 0.9209661840212032, 'bagging_fraction': 0.46420443008610035, 'bagging_freq': 18, 'num_leaves': 556, 'min_child_samples': 40}. Best is trial 37 with value: -1.3680078746652573.\u001b[0m\n"
     ]
    },
    {
     "name": "stdout",
     "output_type": "stream",
     "text": [
      "Early stopping, best iteration is:\n",
      "[36]\ttraining's l1: 0.920506\tvalid_1's l1: 1.38239\n",
      "[LightGBM] [Warning] feature_fraction is set=0.9403336478781698, colsample_bytree=0.9 will be ignored. Current value: feature_fraction=0.9403336478781698\n",
      "[LightGBM] [Warning] bagging_fraction is set=0.6698437070568264, subsample=0.5 will be ignored. Current value: bagging_fraction=0.6698437070568264\n",
      "[LightGBM] [Warning] bagging_freq is set=17, subsample_freq=0 will be ignored. Current value: bagging_freq=17\n",
      "Training until validation scores don't improve for 100 rounds\n",
      "[100]\ttraining's l1: 0.877948\tvalid_1's l1: 1.37741\n"
     ]
    },
    {
     "name": "stderr",
     "output_type": "stream",
     "text": [
      "\u001b[32m[I 2021-07-29 20:11:31,280]\u001b[0m Trial 39 finished with value: -1.3753044917291546 and parameters: {'max_depth': 9, 'min_child_weight': 10, 'subsample': 0.5, 'colsample_bytree': 0.9, 'reg_lambda': 0.001352732777459345, 'reg_alpha': 0.007054878099510405, 'feature_fraction': 0.9403336478781698, 'bagging_fraction': 0.6698437070568264, 'bagging_freq': 17, 'num_leaves': 591, 'min_child_samples': 18}. Best is trial 37 with value: -1.3680078746652573.\u001b[0m\n"
     ]
    },
    {
     "name": "stdout",
     "output_type": "stream",
     "text": [
      "Early stopping, best iteration is:\n",
      "[70]\ttraining's l1: 0.887162\tvalid_1's l1: 1.37537\n",
      "[LightGBM] [Warning] feature_fraction is set=0.8573837987270136, colsample_bytree=0.8 will be ignored. Current value: feature_fraction=0.8573837987270136\n",
      "[LightGBM] [Warning] bagging_fraction is set=0.5812363543998411, subsample=0.5 will be ignored. Current value: bagging_fraction=0.5812363543998411\n",
      "[LightGBM] [Warning] bagging_freq is set=19, subsample_freq=0 will be ignored. Current value: bagging_freq=19\n",
      "Training until validation scores don't improve for 100 rounds\n",
      "[100]\ttraining's l1: 1.07127\tvalid_1's l1: 1.41755\n",
      "[200]\ttraining's l1: 1.06037\tvalid_1's l1: 1.40806\n",
      "[300]\ttraining's l1: 1.04144\tvalid_1's l1: 1.39554\n",
      "[400]\ttraining's l1: 1.02679\tvalid_1's l1: 1.38817\n",
      "[500]\ttraining's l1: 1.01595\tvalid_1's l1: 1.38545\n",
      "[600]\ttraining's l1: 1.00772\tvalid_1's l1: 1.38472\n",
      "[700]\ttraining's l1: 1.00026\tvalid_1's l1: 1.38306\n",
      "[800]\ttraining's l1: 0.994558\tvalid_1's l1: 1.38271\n",
      "[900]\ttraining's l1: 0.986885\tvalid_1's l1: 1.38171\n",
      "[1000]\ttraining's l1: 0.982369\tvalid_1's l1: 1.3806\n",
      "[1100]\ttraining's l1: 0.977768\tvalid_1's l1: 1.38299\n",
      "Early stopping, best iteration is:\n",
      "[1051]\ttraining's l1: 0.980337\tvalid_1's l1: 1.38021\n"
     ]
    },
    {
     "name": "stderr",
     "output_type": "stream",
     "text": [
      "\u001b[32m[I 2021-07-29 20:11:51,162]\u001b[0m Trial 40 finished with value: -1.3789648966711308 and parameters: {'max_depth': 3, 'min_child_weight': 10, 'subsample': 0.5, 'colsample_bytree': 0.8, 'reg_lambda': 0.004242171872084251, 'reg_alpha': 0.0011130030396441688, 'feature_fraction': 0.8573837987270136, 'bagging_fraction': 0.5812363543998411, 'bagging_freq': 19, 'num_leaves': 460, 'min_child_samples': 33}. Best is trial 37 with value: -1.3680078746652573.\u001b[0m\n"
     ]
    },
    {
     "name": "stdout",
     "output_type": "stream",
     "text": [
      "[LightGBM] [Warning] feature_fraction is set=0.8887819152650873, colsample_bytree=0.7 will be ignored. Current value: feature_fraction=0.8887819152650873\n",
      "[LightGBM] [Warning] bagging_fraction is set=0.7631350474894258, subsample=0.7 will be ignored. Current value: bagging_fraction=0.7631350474894258\n",
      "[LightGBM] [Warning] bagging_freq is set=15, subsample_freq=0 will be ignored. Current value: bagging_freq=15\n",
      "Training until validation scores don't improve for 100 rounds\n",
      "[100]\ttraining's l1: 0.940797\tvalid_1's l1: 1.37518\n"
     ]
    },
    {
     "name": "stderr",
     "output_type": "stream",
     "text": [
      "\u001b[32m[I 2021-07-29 20:11:58,424]\u001b[0m Trial 41 finished with value: -1.3747274318086506 and parameters: {'max_depth': 7, 'min_child_weight': 20, 'subsample': 0.7, 'colsample_bytree': 0.7, 'reg_lambda': 0.012485057556417304, 'reg_alpha': 0.04829857340851792, 'feature_fraction': 0.8887819152650873, 'bagging_fraction': 0.7631350474894258, 'bagging_freq': 15, 'num_leaves': 720, 'min_child_samples': 41}. Best is trial 37 with value: -1.3680078746652573.\u001b[0m\n"
     ]
    },
    {
     "name": "stdout",
     "output_type": "stream",
     "text": [
      "Early stopping, best iteration is:\n",
      "[69]\ttraining's l1: 0.946262\tvalid_1's l1: 1.37475\n",
      "[LightGBM] [Warning] feature_fraction is set=0.8123167262882548, colsample_bytree=0.8 will be ignored. Current value: feature_fraction=0.8123167262882548\n",
      "[LightGBM] [Warning] bagging_fraction is set=0.6324091711871098, subsample=0.6 will be ignored. Current value: bagging_fraction=0.6324091711871098\n",
      "[LightGBM] [Warning] bagging_freq is set=16, subsample_freq=0 will be ignored. Current value: bagging_freq=16\n",
      "Training until validation scores don't improve for 100 rounds\n",
      "[100]\ttraining's l1: 0.909784\tvalid_1's l1: 1.37134\n"
     ]
    },
    {
     "name": "stderr",
     "output_type": "stream",
     "text": [
      "\u001b[32m[I 2021-07-29 20:12:05,367]\u001b[0m Trial 42 finished with value: -1.3707746337409779 and parameters: {'max_depth': 8, 'min_child_weight': 6, 'subsample': 0.6, 'colsample_bytree': 0.8, 'reg_lambda': 0.001005572780594885, 'reg_alpha': 0.002146357288098946, 'feature_fraction': 0.8123167262882548, 'bagging_fraction': 0.6324091711871098, 'bagging_freq': 16, 'num_leaves': 771, 'min_child_samples': 49}. Best is trial 37 with value: -1.3680078746652573.\u001b[0m\n"
     ]
    },
    {
     "name": "stdout",
     "output_type": "stream",
     "text": [
      "Early stopping, best iteration is:\n",
      "[69]\ttraining's l1: 0.919787\tvalid_1's l1: 1.37087\n",
      "[LightGBM] [Warning] feature_fraction is set=0.6806091058917738, colsample_bytree=0.7 will be ignored. Current value: feature_fraction=0.6806091058917738\n",
      "[LightGBM] [Warning] bagging_fraction is set=0.8571775642362132, subsample=0.5 will be ignored. Current value: bagging_fraction=0.8571775642362132\n",
      "[LightGBM] [Warning] bagging_freq is set=17, subsample_freq=0 will be ignored. Current value: bagging_freq=17\n",
      "Training until validation scores don't improve for 100 rounds\n",
      "[100]\ttraining's l1: 0.944105\tvalid_1's l1: 1.38101\n",
      "[200]\ttraining's l1: 0.936418\tvalid_1's l1: 1.37958\n",
      "[300]\ttraining's l1: 0.920241\tvalid_1's l1: 1.37863\n",
      "Early stopping, best iteration is:\n",
      "[269]\ttraining's l1: 0.92524\tvalid_1's l1: 1.37825\n"
     ]
    },
    {
     "name": "stderr",
     "output_type": "stream",
     "text": [
      "\u001b[32m[I 2021-07-29 20:12:18,141]\u001b[0m Trial 43 finished with value: -1.37818718477827 and parameters: {'max_depth': 7, 'min_child_weight': 8, 'subsample': 0.5, 'colsample_bytree': 0.7, 'reg_lambda': 0.027153793786719935, 'reg_alpha': 0.5979713656249578, 'feature_fraction': 0.6806091058917738, 'bagging_fraction': 0.8571775642362132, 'bagging_freq': 17, 'num_leaves': 904, 'min_child_samples': 26}. Best is trial 37 with value: -1.3680078746652573.\u001b[0m\n"
     ]
    },
    {
     "name": "stdout",
     "output_type": "stream",
     "text": [
      "[LightGBM] [Warning] feature_fraction is set=0.5755073718611203, colsample_bytree=0.8 will be ignored. Current value: feature_fraction=0.5755073718611203\n",
      "[LightGBM] [Warning] bagging_fraction is set=0.8013968022549188, subsample=0.6 will be ignored. Current value: bagging_fraction=0.8013968022549188\n",
      "[LightGBM] [Warning] bagging_freq is set=12, subsample_freq=0 will be ignored. Current value: bagging_freq=12\n",
      "Training until validation scores don't improve for 100 rounds\n",
      "[100]\ttraining's l1: 1.00843\tvalid_1's l1: 1.38699\n",
      "[200]\ttraining's l1: 0.999714\tvalid_1's l1: 1.38277\n",
      "[300]\ttraining's l1: 0.985052\tvalid_1's l1: 1.37822\n",
      "[400]\ttraining's l1: 0.958599\tvalid_1's l1: 1.37836\n"
     ]
    },
    {
     "name": "stderr",
     "output_type": "stream",
     "text": [
      "\u001b[32m[I 2021-07-29 20:12:36,052]\u001b[0m Trial 44 finished with value: -1.3751106513633062 and parameters: {'max_depth': 5, 'min_child_weight': 5, 'subsample': 0.6, 'colsample_bytree': 0.8, 'reg_lambda': 0.009515250740521262, 'reg_alpha': 0.10924671382543878, 'feature_fraction': 0.5755073718611203, 'bagging_fraction': 0.8013968022549188, 'bagging_freq': 12, 'num_leaves': 810, 'min_child_samples': 43}. Best is trial 37 with value: -1.3680078746652573.\u001b[0m\n"
     ]
    },
    {
     "name": "stdout",
     "output_type": "stream",
     "text": [
      "Early stopping, best iteration is:\n",
      "[362]\ttraining's l1: 0.967872\tvalid_1's l1: 1.37529\n",
      "[LightGBM] [Warning] feature_fraction is set=0.7620370684981207, colsample_bytree=0.7 will be ignored. Current value: feature_fraction=0.7620370684981207\n",
      "[LightGBM] [Warning] bagging_fraction is set=0.6465562254104796, subsample=0.7 will be ignored. Current value: bagging_fraction=0.6465562254104796\n",
      "[LightGBM] [Warning] bagging_freq is set=15, subsample_freq=0 will be ignored. Current value: bagging_freq=15\n",
      "Training until validation scores don't improve for 100 rounds\n",
      "[100]\ttraining's l1: 0.891521\tvalid_1's l1: 1.37935\n"
     ]
    },
    {
     "name": "stderr",
     "output_type": "stream",
     "text": [
      "\u001b[32m[I 2021-07-29 20:12:43,301]\u001b[0m Trial 45 finished with value: -1.3733571247592624 and parameters: {'max_depth': 9, 'min_child_weight': 1, 'subsample': 0.7, 'colsample_bytree': 0.7, 'reg_lambda': 0.0024878423857895094, 'reg_alpha': 0.02916645386658785, 'feature_fraction': 0.7620370684981207, 'bagging_fraction': 0.6465562254104796, 'bagging_freq': 15, 'num_leaves': 734, 'min_child_samples': 55}. Best is trial 37 with value: -1.3680078746652573.\u001b[0m\n"
     ]
    },
    {
     "name": "stdout",
     "output_type": "stream",
     "text": [
      "Early stopping, best iteration is:\n",
      "[53]\ttraining's l1: 0.916701\tvalid_1's l1: 1.37337\n",
      "[LightGBM] [Warning] feature_fraction is set=0.7114513993650777, colsample_bytree=0.8 will be ignored. Current value: feature_fraction=0.7114513993650777\n",
      "[LightGBM] [Warning] bagging_fraction is set=0.6945793142311514, subsample=0.6 will be ignored. Current value: bagging_fraction=0.6945793142311514\n",
      "[LightGBM] [Warning] bagging_freq is set=14, subsample_freq=0 will be ignored. Current value: bagging_freq=14\n",
      "Training until validation scores don't improve for 100 rounds\n",
      "[100]\ttraining's l1: 0.980323\tvalid_1's l1: 1.37776\n",
      "[200]\ttraining's l1: 0.966655\tvalid_1's l1: 1.37463\n",
      "[300]\ttraining's l1: 0.940942\tvalid_1's l1: 1.37312\n"
     ]
    },
    {
     "name": "stderr",
     "output_type": "stream",
     "text": [
      "\u001b[32m[I 2021-07-29 20:12:53,489]\u001b[0m Trial 46 finished with value: -1.3711480105722766 and parameters: {'max_depth': 6, 'min_child_weight': 3, 'subsample': 0.6, 'colsample_bytree': 0.8, 'reg_lambda': 0.030048183743843746, 'reg_alpha': 0.009855501743601095, 'feature_fraction': 0.7114513993650777, 'bagging_fraction': 0.6945793142311514, 'bagging_freq': 14, 'num_leaves': 518, 'min_child_samples': 45}. Best is trial 37 with value: -1.3680078746652573.\u001b[0m\n"
     ]
    },
    {
     "name": "stdout",
     "output_type": "stream",
     "text": [
      "Early stopping, best iteration is:\n",
      "[259]\ttraining's l1: 0.956585\tvalid_1's l1: 1.37126\n",
      "[LightGBM] [Warning] feature_fraction is set=0.6603969603933835, colsample_bytree=0.9 will be ignored. Current value: feature_fraction=0.6603969603933835\n",
      "[LightGBM] [Warning] bagging_fraction is set=0.7563310225142768, subsample=0.5 will be ignored. Current value: bagging_fraction=0.7563310225142768\n",
      "[LightGBM] [Warning] bagging_freq is set=19, subsample_freq=0 will be ignored. Current value: bagging_freq=19\n",
      "Training until validation scores don't improve for 100 rounds\n",
      "[100]\ttraining's l1: 0.857783\tvalid_1's l1: 1.38451\n"
     ]
    },
    {
     "name": "stderr",
     "output_type": "stream",
     "text": [
      "\u001b[32m[I 2021-07-29 20:13:02,027]\u001b[0m Trial 47 finished with value: -1.3739945970750327 and parameters: {'max_depth': 10, 'min_child_weight': 8, 'subsample': 0.5, 'colsample_bytree': 0.9, 'reg_lambda': 27.767753807670104, 'reg_alpha': 1.4417190119522818, 'feature_fraction': 0.6603969603933835, 'bagging_fraction': 0.7563310225142768, 'bagging_freq': 19, 'num_leaves': 677, 'min_child_samples': 37}. Best is trial 37 with value: -1.3680078746652573.\u001b[0m\n"
     ]
    },
    {
     "name": "stdout",
     "output_type": "stream",
     "text": [
      "Early stopping, best iteration is:\n",
      "[55]\ttraining's l1: 0.89568\tvalid_1's l1: 1.37401\n",
      "[LightGBM] [Warning] feature_fraction is set=0.8702406809977183, colsample_bytree=0.7 will be ignored. Current value: feature_fraction=0.8702406809977183\n",
      "[LightGBM] [Warning] bagging_fraction is set=0.5110544887765659, subsample=0.5 will be ignored. Current value: bagging_fraction=0.5110544887765659\n",
      "[LightGBM] [Warning] bagging_freq is set=13, subsample_freq=0 will be ignored. Current value: bagging_freq=13\n",
      "Training until validation scores don't improve for 100 rounds\n",
      "[100]\ttraining's l1: 0.917223\tvalid_1's l1: 1.3807\n",
      "[200]\ttraining's l1: 0.905492\tvalid_1's l1: 1.37826\n",
      "[300]\ttraining's l1: 0.895495\tvalid_1's l1: 1.37938\n",
      "Early stopping, best iteration is:\n",
      "[247]\ttraining's l1: 0.899939\tvalid_1's l1: 1.37711\n"
     ]
    },
    {
     "name": "stderr",
     "output_type": "stream",
     "text": [
      "\u001b[32m[I 2021-07-29 20:13:12,513]\u001b[0m Trial 48 finished with value: -1.3768579335624735 and parameters: {'max_depth': 8, 'min_child_weight': 12, 'subsample': 0.5, 'colsample_bytree': 0.7, 'reg_lambda': 0.0991635743385364, 'reg_alpha': 0.24087283302253945, 'feature_fraction': 0.8702406809977183, 'bagging_fraction': 0.5110544887765659, 'bagging_freq': 13, 'num_leaves': 583, 'min_child_samples': 50}. Best is trial 37 with value: -1.3680078746652573.\u001b[0m\n"
     ]
    },
    {
     "name": "stdout",
     "output_type": "stream",
     "text": [
      "[LightGBM] [Warning] feature_fraction is set=0.9553026182511423, colsample_bytree=0.8 will be ignored. Current value: feature_fraction=0.9553026182511423\n",
      "[LightGBM] [Warning] bagging_fraction is set=0.5963052428914827, subsample=0.6 will be ignored. Current value: bagging_fraction=0.5963052428914827\n",
      "[LightGBM] [Warning] bagging_freq is set=17, subsample_freq=0 will be ignored. Current value: bagging_freq=17\n",
      "Training until validation scores don't improve for 100 rounds\n",
      "[100]\ttraining's l1: 1.02415\tvalid_1's l1: 1.39067\n",
      "[200]\ttraining's l1: 1.01692\tvalid_1's l1: 1.38542\n",
      "[300]\ttraining's l1: 1.0062\tvalid_1's l1: 1.3812\n",
      "[400]\ttraining's l1: 1.00151\tvalid_1's l1: 1.38041\n",
      "[500]\ttraining's l1: 0.997694\tvalid_1's l1: 1.3786\n",
      "[600]\ttraining's l1: 0.996217\tvalid_1's l1: 1.37786\n",
      "[700]\ttraining's l1: 0.995591\tvalid_1's l1: 1.37752\n",
      "Early stopping, best iteration is:\n",
      "[699]\ttraining's l1: 0.995592\tvalid_1's l1: 1.37752\n"
     ]
    },
    {
     "name": "stderr",
     "output_type": "stream",
     "text": [
      "\u001b[32m[I 2021-07-29 20:13:28,620]\u001b[0m Trial 49 finished with value: -1.3764535665184987 and parameters: {'max_depth': 4, 'min_child_weight': 15, 'subsample': 0.6, 'colsample_bytree': 0.8, 'reg_lambda': 0.004430842234281685, 'reg_alpha': 0.0010470971890098116, 'feature_fraction': 0.9553026182511423, 'bagging_fraction': 0.5963052428914827, 'bagging_freq': 17, 'num_leaves': 968, 'min_child_samples': 23}. Best is trial 37 with value: -1.3680078746652573.\u001b[0m\n"
     ]
    },
    {
     "name": "stdout",
     "output_type": "stream",
     "text": [
      "[LightGBM] [Warning] feature_fraction is set=0.5167184464348931, colsample_bytree=0.7 will be ignored. Current value: feature_fraction=0.5167184464348931\n",
      "[LightGBM] [Warning] bagging_fraction is set=0.8626223732690417, subsample=0.5 will be ignored. Current value: bagging_fraction=0.8626223732690417\n",
      "[LightGBM] [Warning] bagging_freq is set=16, subsample_freq=0 will be ignored. Current value: bagging_freq=16\n",
      "Training until validation scores don't improve for 100 rounds\n",
      "[100]\ttraining's l1: 0.830564\tvalid_1's l1: 1.41218\n"
     ]
    },
    {
     "name": "stderr",
     "output_type": "stream",
     "text": [
      "\u001b[32m[I 2021-07-29 20:13:39,860]\u001b[0m Trial 50 finished with value: -1.384261543530042 and parameters: {'max_depth': 11, 'min_child_weight': 5, 'subsample': 0.5, 'colsample_bytree': 0.7, 'reg_lambda': 0.0015634378480990333, 'reg_alpha': 0.005811980023617963, 'feature_fraction': 0.5167184464348931, 'bagging_fraction': 0.8626223732690417, 'bagging_freq': 16, 'num_leaves': 881, 'min_child_samples': 33}. Best is trial 37 with value: -1.3680078746652573.\u001b[0m\n"
     ]
    },
    {
     "name": "stdout",
     "output_type": "stream",
     "text": [
      "Early stopping, best iteration is:\n",
      "[37]\ttraining's l1: 0.899005\tvalid_1's l1: 1.38427\n",
      "[LightGBM] [Warning] feature_fraction is set=0.81665858506338, colsample_bytree=0.8 will be ignored. Current value: feature_fraction=0.81665858506338\n",
      "[LightGBM] [Warning] bagging_fraction is set=0.6282854951360548, subsample=0.6 will be ignored. Current value: bagging_fraction=0.6282854951360548\n",
      "[LightGBM] [Warning] bagging_freq is set=16, subsample_freq=0 will be ignored. Current value: bagging_freq=16\n",
      "Training until validation scores don't improve for 100 rounds\n",
      "[100]\ttraining's l1: 0.941126\tvalid_1's l1: 1.37017\n",
      "[200]\ttraining's l1: 0.93824\tvalid_1's l1: 1.36987\n",
      "[300]\ttraining's l1: 0.932102\tvalid_1's l1: 1.36903\n",
      "[400]\ttraining's l1: 0.917665\tvalid_1's l1: 1.37232\n",
      "Early stopping, best iteration is:\n",
      "[327]\ttraining's l1: 0.929042\tvalid_1's l1: 1.3685\n"
     ]
    },
    {
     "name": "stderr",
     "output_type": "stream",
     "text": [
      "\u001b[32m[I 2021-07-29 20:13:52,092]\u001b[0m Trial 51 finished with value: -1.3683289714964764 and parameters: {'max_depth': 7, 'min_child_weight': 6, 'subsample': 0.6, 'colsample_bytree': 0.8, 'reg_lambda': 0.0010251251596808718, 'reg_alpha': 0.002349744136969896, 'feature_fraction': 0.81665858506338, 'bagging_fraction': 0.6282854951360548, 'bagging_freq': 16, 'num_leaves': 791, 'min_child_samples': 50}. Best is trial 37 with value: -1.3680078746652573.\u001b[0m\n"
     ]
    },
    {
     "name": "stdout",
     "output_type": "stream",
     "text": [
      "[LightGBM] [Warning] feature_fraction is set=0.8348120234820549, colsample_bytree=0.8 will be ignored. Current value: feature_fraction=0.8348120234820549\n",
      "[LightGBM] [Warning] bagging_fraction is set=0.6859559821781115, subsample=0.6 will be ignored. Current value: bagging_fraction=0.6859559821781115\n",
      "[LightGBM] [Warning] bagging_freq is set=15, subsample_freq=0 will be ignored. Current value: bagging_freq=15\n",
      "Training until validation scores don't improve for 100 rounds\n",
      "[100]\ttraining's l1: 0.975874\tvalid_1's l1: 1.37979\n",
      "[200]\ttraining's l1: 0.974701\tvalid_1's l1: 1.37971\n"
     ]
    },
    {
     "name": "stderr",
     "output_type": "stream",
     "text": [
      "\u001b[32m[I 2021-07-29 20:13:59,407]\u001b[0m Trial 52 finished with value: -1.3793536125210715 and parameters: {'max_depth': 6, 'min_child_weight': 7, 'subsample': 0.6, 'colsample_bytree': 0.8, 'reg_lambda': 0.010527826771966252, 'reg_alpha': 0.002267048822517119, 'feature_fraction': 0.8348120234820549, 'bagging_fraction': 0.6859559821781115, 'bagging_freq': 15, 'num_leaves': 803, 'min_child_samples': 42}. Best is trial 37 with value: -1.3680078746652573.\u001b[0m\n"
     ]
    },
    {
     "name": "stdout",
     "output_type": "stream",
     "text": [
      "Early stopping, best iteration is:\n",
      "[123]\ttraining's l1: 0.975302\tvalid_1's l1: 1.37968\n",
      "[LightGBM] [Warning] feature_fraction is set=0.7864292567501475, colsample_bytree=0.8 will be ignored. Current value: feature_fraction=0.7864292567501475\n",
      "[LightGBM] [Warning] bagging_fraction is set=0.7216432143485174, subsample=0.7 will be ignored. Current value: bagging_fraction=0.7216432143485174\n",
      "[LightGBM] [Warning] bagging_freq is set=14, subsample_freq=0 will be ignored. Current value: bagging_freq=14\n",
      "Training until validation scores don't improve for 100 rounds\n",
      "[100]\ttraining's l1: 0.945831\tvalid_1's l1: 1.37792\n",
      "[200]\ttraining's l1: 0.940901\tvalid_1's l1: 1.37653\n",
      "[300]\ttraining's l1: 0.930715\tvalid_1's l1: 1.37281\n",
      "[400]\ttraining's l1: 0.917848\tvalid_1's l1: 1.37447\n",
      "Early stopping, best iteration is:\n",
      "[301]\ttraining's l1: 0.930599\tvalid_1's l1: 1.37275\n"
     ]
    },
    {
     "name": "stderr",
     "output_type": "stream",
     "text": [
      "\u001b[32m[I 2021-07-29 20:14:11,862]\u001b[0m Trial 53 finished with value: -1.372627506002079 and parameters: {'max_depth': 7, 'min_child_weight': 6, 'subsample': 0.7, 'colsample_bytree': 0.8, 'reg_lambda': 0.005185553035797221, 'reg_alpha': 0.017969467819956203, 'feature_fraction': 0.7864292567501475, 'bagging_fraction': 0.7216432143485174, 'bagging_freq': 14, 'num_leaves': 754, 'min_child_samples': 66}. Best is trial 37 with value: -1.3680078746652573.\u001b[0m\n"
     ]
    },
    {
     "name": "stdout",
     "output_type": "stream",
     "text": [
      "[LightGBM] [Warning] feature_fraction is set=0.7363257772745313, colsample_bytree=0.8 will be ignored. Current value: feature_fraction=0.7363257772745313\n",
      "[LightGBM] [Warning] bagging_fraction is set=0.6400867914609976, subsample=0.6 will be ignored. Current value: bagging_fraction=0.6400867914609976\n",
      "[LightGBM] [Warning] bagging_freq is set=16, subsample_freq=0 will be ignored. Current value: bagging_freq=16\n",
      "Training until validation scores don't improve for 100 rounds\n",
      "[100]\ttraining's l1: 0.922166\tvalid_1's l1: 1.3751\n"
     ]
    },
    {
     "name": "stderr",
     "output_type": "stream",
     "text": [
      "\u001b[32m[I 2021-07-29 20:14:18,823]\u001b[0m Trial 54 finished with value: -1.3737877419787325 and parameters: {'max_depth': 8, 'min_child_weight': 3, 'subsample': 0.6, 'colsample_bytree': 0.8, 'reg_lambda': 0.06739371641516571, 'reg_alpha': 0.052415831856604686, 'feature_fraction': 0.7363257772745313, 'bagging_fraction': 0.6400867914609976, 'bagging_freq': 16, 'num_leaves': 687, 'min_child_samples': 48}. Best is trial 37 with value: -1.3680078746652573.\u001b[0m\n"
     ]
    },
    {
     "name": "stdout",
     "output_type": "stream",
     "text": [
      "Early stopping, best iteration is:\n",
      "[77]\ttraining's l1: 0.924351\tvalid_1's l1: 1.37389\n",
      "[LightGBM] [Warning] feature_fraction is set=0.8937688752149209, colsample_bytree=0.9 will be ignored. Current value: feature_fraction=0.8937688752149209\n",
      "[LightGBM] [Warning] bagging_fraction is set=0.6154130240439151, subsample=0.6 will be ignored. Current value: bagging_fraction=0.6154130240439151\n",
      "[LightGBM] [Warning] bagging_freq is set=13, subsample_freq=0 will be ignored. Current value: bagging_freq=13\n",
      "Training until validation scores don't improve for 100 rounds\n",
      "[100]\ttraining's l1: 1.00496\tvalid_1's l1: 1.38273\n",
      "[200]\ttraining's l1: 1.00163\tvalid_1's l1: 1.38\n",
      "[300]\ttraining's l1: 0.997258\tvalid_1's l1: 1.37854\n",
      "[400]\ttraining's l1: 0.972263\tvalid_1's l1: 1.3766\n",
      "[500]\ttraining's l1: 0.950373\tvalid_1's l1: 1.3743\n",
      "Early stopping, best iteration is:\n",
      "[496]\ttraining's l1: 0.950976\tvalid_1's l1: 1.37408\n"
     ]
    },
    {
     "name": "stderr",
     "output_type": "stream",
     "text": [
      "\u001b[32m[I 2021-07-29 20:14:33,033]\u001b[0m Trial 55 finished with value: -1.3732496009591835 and parameters: {'max_depth': 5, 'min_child_weight': 9, 'subsample': 0.6, 'colsample_bytree': 0.9, 'reg_lambda': 0.0010773154633888407, 'reg_alpha': 0.004104728938624084, 'feature_fraction': 0.8937688752149209, 'bagging_fraction': 0.6154130240439151, 'bagging_freq': 13, 'num_leaves': 833, 'min_child_samples': 52}. Best is trial 37 with value: -1.3680078746652573.\u001b[0m\n"
     ]
    },
    {
     "name": "stdout",
     "output_type": "stream",
     "text": [
      "[LightGBM] [Warning] feature_fraction is set=0.9993716104548735, colsample_bytree=0.7 will be ignored. Current value: feature_fraction=0.9993716104548735\n",
      "[LightGBM] [Warning] bagging_fraction is set=0.5647200204765817, subsample=0.5 will be ignored. Current value: bagging_fraction=0.5647200204765817\n",
      "[LightGBM] [Warning] bagging_freq is set=18, subsample_freq=0 will be ignored. Current value: bagging_freq=18\n",
      "Training until validation scores don't improve for 100 rounds\n",
      "[100]\ttraining's l1: 0.974811\tvalid_1's l1: 1.37741\n",
      "[200]\ttraining's l1: 0.96962\tvalid_1's l1: 1.37565\n",
      "[300]\ttraining's l1: 0.951684\tvalid_1's l1: 1.37438\n"
     ]
    },
    {
     "name": "stderr",
     "output_type": "stream",
     "text": [
      "\u001b[32m[I 2021-07-29 20:14:42,459]\u001b[0m Trial 56 finished with value: -1.3719773313498271 and parameters: {'max_depth': 6, 'min_child_weight': 5, 'subsample': 0.5, 'colsample_bytree': 0.7, 'reg_lambda': 0.03981334056839244, 'reg_alpha': 0.07889424043365514, 'feature_fraction': 0.9993716104548735, 'bagging_fraction': 0.5647200204765817, 'bagging_freq': 18, 'num_leaves': 615, 'min_child_samples': 72}. Best is trial 37 with value: -1.3680078746652573.\u001b[0m\n"
     ]
    },
    {
     "name": "stdout",
     "output_type": "stream",
     "text": [
      "Early stopping, best iteration is:\n",
      "[254]\ttraining's l1: 0.960401\tvalid_1's l1: 1.37223\n",
      "[LightGBM] [Warning] feature_fraction is set=0.8175578805861917, colsample_bytree=0.8 will be ignored. Current value: feature_fraction=0.8175578805861917\n",
      "[LightGBM] [Warning] bagging_fraction is set=0.5340058463068712, subsample=0.6 will be ignored. Current value: bagging_fraction=0.5340058463068712\n",
      "[LightGBM] [Warning] bagging_freq is set=12, subsample_freq=0 will be ignored. Current value: bagging_freq=12\n",
      "Training until validation scores don't improve for 100 rounds\n",
      "[100]\ttraining's l1: 0.889455\tvalid_1's l1: 1.3869\n",
      "[200]\ttraining's l1: 0.883306\tvalid_1's l1: 1.38855\n"
     ]
    },
    {
     "name": "stderr",
     "output_type": "stream",
     "text": [
      "\u001b[32m[I 2021-07-29 20:14:52,116]\u001b[0m Trial 57 finished with value: -1.3863449831988564 and parameters: {'max_depth': 9, 'min_child_weight': 2, 'subsample': 0.6, 'colsample_bytree': 0.8, 'reg_lambda': 0.003063927795967526, 'reg_alpha': 0.01163139997471852, 'feature_fraction': 0.8175578805861917, 'bagging_fraction': 0.5340058463068712, 'bagging_freq': 12, 'num_leaves': 352, 'min_child_samples': 57}. Best is trial 37 with value: -1.3680078746652573.\u001b[0m\n"
     ]
    },
    {
     "name": "stdout",
     "output_type": "stream",
     "text": [
      "Early stopping, best iteration is:\n",
      "[163]\ttraining's l1: 0.886673\tvalid_1's l1: 1.38648\n",
      "[LightGBM] [Warning] feature_fraction is set=0.2945309333157344, colsample_bytree=0.6 will be ignored. Current value: feature_fraction=0.2945309333157344\n",
      "[LightGBM] [Warning] bagging_fraction is set=0.742557475466221, subsample=0.7 will be ignored. Current value: bagging_fraction=0.742557475466221\n",
      "[LightGBM] [Warning] bagging_freq is set=2, subsample_freq=0 will be ignored. Current value: bagging_freq=2\n",
      "Training until validation scores don't improve for 100 rounds\n",
      "[100]\ttraining's l1: 0.880646\tvalid_1's l1: 1.39774\n"
     ]
    },
    {
     "name": "stderr",
     "output_type": "stream",
     "text": [
      "\u001b[32m[I 2021-07-29 20:15:01,180]\u001b[0m Trial 58 finished with value: -1.391948121847781 and parameters: {'max_depth': 10, 'min_child_weight': 11, 'subsample': 0.7, 'colsample_bytree': 0.6, 'reg_lambda': 0.013435262994921867, 'reg_alpha': 0.0016010639095345878, 'feature_fraction': 0.2945309333157344, 'bagging_fraction': 0.742557475466221, 'bagging_freq': 2, 'num_leaves': 963, 'min_child_samples': 29}. Best is trial 37 with value: -1.3680078746652573.\u001b[0m\n"
     ]
    },
    {
     "name": "stdout",
     "output_type": "stream",
     "text": [
      "Early stopping, best iteration is:\n",
      "[43]\ttraining's l1: 0.920074\tvalid_1's l1: 1.39195\n",
      "[LightGBM] [Warning] feature_fraction is set=0.7769525458748499, colsample_bytree=0.7 will be ignored. Current value: feature_fraction=0.7769525458748499\n",
      "[LightGBM] [Warning] bagging_fraction is set=0.9321908226327933, subsample=0.6 will be ignored. Current value: bagging_fraction=0.9321908226327933\n",
      "[LightGBM] [Warning] bagging_freq is set=10, subsample_freq=0 will be ignored. Current value: bagging_freq=10\n",
      "Training until validation scores don't improve for 100 rounds\n",
      "[100]\ttraining's l1: 1.11444\tvalid_1's l1: 1.46164\n",
      "[200]\ttraining's l1: 1.10689\tvalid_1's l1: 1.45171\n",
      "[300]\ttraining's l1: 1.08518\tvalid_1's l1: 1.42912\n",
      "[400]\ttraining's l1: 1.07378\tvalid_1's l1: 1.41959\n",
      "[500]\ttraining's l1: 1.06818\tvalid_1's l1: 1.41633\n",
      "[600]\ttraining's l1: 1.06015\tvalid_1's l1: 1.41101\n",
      "[700]\ttraining's l1: 1.05388\tvalid_1's l1: 1.40729\n",
      "[800]\ttraining's l1: 1.04683\tvalid_1's l1: 1.40499\n",
      "[900]\ttraining's l1: 1.0436\tvalid_1's l1: 1.40439\n",
      "[1000]\ttraining's l1: 1.03948\tvalid_1's l1: 1.40262\n",
      "[1100]\ttraining's l1: 1.03474\tvalid_1's l1: 1.40243\n",
      "Early stopping, best iteration is:\n",
      "[1013]\ttraining's l1: 1.03834\tvalid_1's l1: 1.40199\n"
     ]
    },
    {
     "name": "stderr",
     "output_type": "stream",
     "text": [
      "\u001b[32m[I 2021-07-29 20:15:26,863]\u001b[0m Trial 59 finished with value: -1.3938037404445878 and parameters: {'max_depth': 2, 'min_child_weight': 6, 'subsample': 0.6, 'colsample_bytree': 0.7, 'reg_lambda': 0.006874519104964906, 'reg_alpha': 0.02364200772065673, 'feature_fraction': 0.7769525458748499, 'bagging_fraction': 0.9321908226327933, 'bagging_freq': 10, 'num_leaves': 681, 'min_child_samples': 37}. Best is trial 37 with value: -1.3680078746652573.\u001b[0m\n"
     ]
    },
    {
     "name": "stdout",
     "output_type": "stream",
     "text": [
      "[LightGBM] [Warning] feature_fraction is set=0.7205681213881319, colsample_bytree=0.9 will be ignored. Current value: feature_fraction=0.7205681213881319\n",
      "[LightGBM] [Warning] bagging_fraction is set=0.6759524351977653, subsample=0.5 will be ignored. Current value: bagging_fraction=0.6759524351977653\n",
      "[LightGBM] [Warning] bagging_freq is set=11, subsample_freq=0 will be ignored. Current value: bagging_freq=11\n",
      "Training until validation scores don't improve for 100 rounds\n",
      "[100]\ttraining's l1: 0.947422\tvalid_1's l1: 1.37704\n",
      "[200]\ttraining's l1: 0.933145\tvalid_1's l1: 1.37486\n"
     ]
    },
    {
     "name": "stderr",
     "output_type": "stream",
     "text": [
      "\u001b[32m[I 2021-07-29 20:15:35,987]\u001b[0m Trial 60 finished with value: -1.374420184664267 and parameters: {'max_depth': 7, 'min_child_weight': 7, 'subsample': 0.5, 'colsample_bytree': 0.9, 'reg_lambda': 0.2253744668436784, 'reg_alpha': 0.033347510503358054, 'feature_fraction': 0.7205681213881319, 'bagging_fraction': 0.6759524351977653, 'bagging_freq': 11, 'num_leaves': 543, 'min_child_samples': 63}. Best is trial 37 with value: -1.3680078746652573.\u001b[0m\n"
     ]
    },
    {
     "name": "stdout",
     "output_type": "stream",
     "text": [
      "Early stopping, best iteration is:\n",
      "[177]\ttraining's l1: 0.937372\tvalid_1's l1: 1.3746\n",
      "[LightGBM] [Warning] feature_fraction is set=0.8166650977571753, colsample_bytree=0.8 will be ignored. Current value: feature_fraction=0.8166650977571753\n",
      "[LightGBM] [Warning] bagging_fraction is set=0.6402151263135167, subsample=0.6 will be ignored. Current value: bagging_fraction=0.6402151263135167\n",
      "[LightGBM] [Warning] bagging_freq is set=16, subsample_freq=0 will be ignored. Current value: bagging_freq=16\n",
      "Training until validation scores don't improve for 100 rounds\n",
      "[100]\ttraining's l1: 0.914859\tvalid_1's l1: 1.37559\n"
     ]
    },
    {
     "name": "stderr",
     "output_type": "stream",
     "text": [
      "\u001b[32m[I 2021-07-29 20:15:42,952]\u001b[0m Trial 61 finished with value: -1.3750785781090815 and parameters: {'max_depth': 8, 'min_child_weight': 4, 'subsample': 0.6, 'colsample_bytree': 0.8, 'reg_lambda': 0.002001591925810122, 'reg_alpha': 0.00230780833610476, 'feature_fraction': 0.8166650977571753, 'bagging_fraction': 0.6402151263135167, 'bagging_freq': 16, 'num_leaves': 779, 'min_child_samples': 50}. Best is trial 37 with value: -1.3680078746652573.\u001b[0m\n"
     ]
    },
    {
     "name": "stdout",
     "output_type": "stream",
     "text": [
      "Early stopping, best iteration is:\n",
      "[70]\ttraining's l1: 0.921595\tvalid_1's l1: 1.37513\n",
      "[LightGBM] [Warning] feature_fraction is set=0.9323286365521276, colsample_bytree=0.8 will be ignored. Current value: feature_fraction=0.9323286365521276\n",
      "[LightGBM] [Warning] bagging_fraction is set=0.6246114664335193, subsample=0.6 will be ignored. Current value: bagging_fraction=0.6246114664335193\n",
      "[LightGBM] [Warning] bagging_freq is set=16, subsample_freq=0 will be ignored. Current value: bagging_freq=16\n",
      "Training until validation scores don't improve for 100 rounds\n",
      "[100]\ttraining's l1: 0.907307\tvalid_1's l1: 1.37813\n",
      "[200]\ttraining's l1: 0.901671\tvalid_1's l1: 1.37827\n"
     ]
    },
    {
     "name": "stderr",
     "output_type": "stream",
     "text": [
      "\u001b[32m[I 2021-07-29 20:15:52,304]\u001b[0m Trial 62 finished with value: -1.376205934686456 and parameters: {'max_depth': 8, 'min_child_weight': 6, 'subsample': 0.6, 'colsample_bytree': 0.8, 'reg_lambda': 0.0012641596556885687, 'reg_alpha': 0.004220169120749638, 'feature_fraction': 0.9323286365521276, 'bagging_fraction': 0.6246114664335193, 'bagging_freq': 16, 'num_leaves': 747, 'min_child_samples': 46}. Best is trial 37 with value: -1.3680078746652573.\u001b[0m\n"
     ]
    },
    {
     "name": "stdout",
     "output_type": "stream",
     "text": [
      "Early stopping, best iteration is:\n",
      "[147]\ttraining's l1: 0.904482\tvalid_1's l1: 1.37627\n",
      "[LightGBM] [Warning] feature_fraction is set=0.8058058535964989, colsample_bytree=0.8 will be ignored. Current value: feature_fraction=0.8058058535964989\n",
      "[LightGBM] [Warning] bagging_fraction is set=0.7126125652748504, subsample=0.6 will be ignored. Current value: bagging_fraction=0.7126125652748504\n",
      "[LightGBM] [Warning] bagging_freq is set=14, subsample_freq=0 will be ignored. Current value: bagging_freq=14\n",
      "Training until validation scores don't improve for 100 rounds\n",
      "[100]\ttraining's l1: 0.915357\tvalid_1's l1: 1.37141\n"
     ]
    },
    {
     "name": "stderr",
     "output_type": "stream",
     "text": [
      "\u001b[32m[I 2021-07-29 20:16:00,418]\u001b[0m Trial 63 finished with value: -1.3712749222894058 and parameters: {'max_depth': 8, 'min_child_weight': 8, 'subsample': 0.6, 'colsample_bytree': 0.8, 'reg_lambda': 0.0036307001415392974, 'reg_alpha': 0.006572261661506774, 'feature_fraction': 0.8058058535964989, 'bagging_fraction': 0.7126125652748504, 'bagging_freq': 14, 'num_leaves': 896, 'min_child_samples': 50}. Best is trial 37 with value: -1.3680078746652573.\u001b[0m\n"
     ]
    },
    {
     "name": "stdout",
     "output_type": "stream",
     "text": [
      "Early stopping, best iteration is:\n",
      "[89]\ttraining's l1: 0.915932\tvalid_1's l1: 1.37136\n",
      "[LightGBM] [Warning] feature_fraction is set=0.8833320628050625, colsample_bytree=0.8 will be ignored. Current value: feature_fraction=0.8833320628050625\n",
      "[LightGBM] [Warning] bagging_fraction is set=0.5763345654019641, subsample=0.6 will be ignored. Current value: bagging_fraction=0.5763345654019641\n",
      "[LightGBM] [Warning] bagging_freq is set=17, subsample_freq=0 will be ignored. Current value: bagging_freq=17\n",
      "Training until validation scores don't improve for 100 rounds\n",
      "[100]\ttraining's l1: 0.947294\tvalid_1's l1: 1.37399\n",
      "[200]\ttraining's l1: 0.943822\tvalid_1's l1: 1.37339\n",
      "[300]\ttraining's l1: 0.940186\tvalid_1's l1: 1.37235\n",
      "[400]\ttraining's l1: 0.933003\tvalid_1's l1: 1.37185\n",
      "[500]\ttraining's l1: 0.903117\tvalid_1's l1: 1.37688\n",
      "Early stopping, best iteration is:\n",
      "[458]\ttraining's l1: 0.918387\tvalid_1's l1: 1.36969\n"
     ]
    },
    {
     "name": "stderr",
     "output_type": "stream",
     "text": [
      "\u001b[32m[I 2021-07-29 20:16:15,145]\u001b[0m Trial 64 finished with value: -1.3695008593550895 and parameters: {'max_depth': 7, 'min_child_weight': 3, 'subsample': 0.6, 'colsample_bytree': 0.8, 'reg_lambda': 0.03510161039110323, 'reg_alpha': 0.0015707477722895838, 'feature_fraction': 0.8833320628050625, 'bagging_fraction': 0.5763345654019641, 'bagging_freq': 17, 'num_leaves': 794, 'min_child_samples': 44}. Best is trial 37 with value: -1.3680078746652573.\u001b[0m\n"
     ]
    },
    {
     "name": "stdout",
     "output_type": "stream",
     "text": [
      "[LightGBM] [Warning] feature_fraction is set=0.8742074033758516, colsample_bytree=0.8 will be ignored. Current value: feature_fraction=0.8742074033758516\n",
      "[LightGBM] [Warning] bagging_fraction is set=0.5781176036049577, subsample=0.6 will be ignored. Current value: bagging_fraction=0.5781176036049577\n",
      "[LightGBM] [Warning] bagging_freq is set=17, subsample_freq=0 will be ignored. Current value: bagging_freq=17\n",
      "Training until validation scores don't improve for 100 rounds\n",
      "[100]\ttraining's l1: 1.03041\tvalid_1's l1: 1.39178\n",
      "[200]\ttraining's l1: 1.02404\tvalid_1's l1: 1.38889\n",
      "[300]\ttraining's l1: 1.01349\tvalid_1's l1: 1.38282\n",
      "[400]\ttraining's l1: 1.00227\tvalid_1's l1: 1.37962\n",
      "[500]\ttraining's l1: 0.987952\tvalid_1's l1: 1.38181\n"
     ]
    },
    {
     "name": "stderr",
     "output_type": "stream",
     "text": [
      "\u001b[32m[I 2021-07-29 20:16:26,735]\u001b[0m Trial 65 finished with value: -1.3781204004110172 and parameters: {'max_depth': 4, 'min_child_weight': 3, 'subsample': 0.6, 'colsample_bytree': 0.8, 'reg_lambda': 0.07314693005301047, 'reg_alpha': 0.0010547182552610305, 'feature_fraction': 0.8742074033758516, 'bagging_fraction': 0.5781176036049577, 'bagging_freq': 17, 'num_leaves': 825, 'min_child_samples': 39}. Best is trial 37 with value: -1.3680078746652573.\u001b[0m\n"
     ]
    },
    {
     "name": "stdout",
     "output_type": "stream",
     "text": [
      "Early stopping, best iteration is:\n",
      "[467]\ttraining's l1: 0.994615\tvalid_1's l1: 1.37909\n",
      "[LightGBM] [Warning] feature_fraction is set=0.8855120964324227, colsample_bytree=0.7 will be ignored. Current value: feature_fraction=0.8855120964324227\n",
      "[LightGBM] [Warning] bagging_fraction is set=0.48754536162283524, subsample=0.7 will be ignored. Current value: bagging_fraction=0.48754536162283524\n",
      "[LightGBM] [Warning] bagging_freq is set=20, subsample_freq=0 will be ignored. Current value: bagging_freq=20\n",
      "Training until validation scores don't improve for 100 rounds\n",
      "[100]\ttraining's l1: 1.00205\tvalid_1's l1: 1.38685\n",
      "[200]\ttraining's l1: 0.992722\tvalid_1's l1: 1.38302\n",
      "[300]\ttraining's l1: 0.987519\tvalid_1's l1: 1.38063\n",
      "[400]\ttraining's l1: 0.980501\tvalid_1's l1: 1.37835\n",
      "Early stopping, best iteration is:\n",
      "[380]\ttraining's l1: 0.981191\tvalid_1's l1: 1.37777\n"
     ]
    },
    {
     "name": "stderr",
     "output_type": "stream",
     "text": [
      "\u001b[32m[I 2021-07-29 20:16:37,321]\u001b[0m Trial 66 finished with value: -1.3777554994313128 and parameters: {'max_depth': 6, 'min_child_weight': 3, 'subsample': 0.7, 'colsample_bytree': 0.7, 'reg_lambda': 0.032182630509731386, 'reg_alpha': 875.8321402135657, 'feature_fraction': 0.8855120964324227, 'bagging_fraction': 0.48754536162283524, 'bagging_freq': 20, 'num_leaves': 791, 'min_child_samples': 44}. Best is trial 37 with value: -1.3680078746652573.\u001b[0m\n"
     ]
    },
    {
     "name": "stdout",
     "output_type": "stream",
     "text": [
      "[LightGBM] [Warning] feature_fraction is set=0.8484515731786969, colsample_bytree=0.8 will be ignored. Current value: feature_fraction=0.8484515731786969\n",
      "[LightGBM] [Warning] bagging_fraction is set=0.6686748215928812, subsample=0.6 will be ignored. Current value: bagging_fraction=0.6686748215928812\n",
      "[LightGBM] [Warning] bagging_freq is set=18, subsample_freq=0 will be ignored. Current value: bagging_freq=18\n",
      "Training until validation scores don't improve for 100 rounds\n",
      "[100]\ttraining's l1: 0.946616\tvalid_1's l1: 1.37465\n",
      "[200]\ttraining's l1: 0.936028\tvalid_1's l1: 1.37697\n"
     ]
    },
    {
     "name": "stderr",
     "output_type": "stream",
     "text": [
      "\u001b[32m[I 2021-07-29 20:16:45,300]\u001b[0m Trial 67 finished with value: -1.3731075922281815 and parameters: {'max_depth': 7, 'min_child_weight': 1, 'subsample': 0.6, 'colsample_bytree': 0.8, 'reg_lambda': 1.4312854124701009, 'reg_alpha': 0.10487714129653646, 'feature_fraction': 0.8484515731786969, 'bagging_fraction': 0.6686748215928812, 'bagging_freq': 18, 'num_leaves': 851, 'min_child_samples': 34}. Best is trial 37 with value: -1.3680078746652573.\u001b[0m\n"
     ]
    },
    {
     "name": "stdout",
     "output_type": "stream",
     "text": [
      "Early stopping, best iteration is:\n",
      "[128]\ttraining's l1: 0.943682\tvalid_1's l1: 1.37317\n",
      "[LightGBM] [Warning] feature_fraction is set=0.7611049328914073, colsample_bytree=0.7 will be ignored. Current value: feature_fraction=0.7611049328914073\n",
      "[LightGBM] [Warning] bagging_fraction is set=0.40405518488200076, subsample=0.5 will be ignored. Current value: bagging_fraction=0.40405518488200076\n",
      "[LightGBM] [Warning] bagging_freq is set=15, subsample_freq=0 will be ignored. Current value: bagging_freq=15\n",
      "Training until validation scores don't improve for 100 rounds\n",
      "[100]\ttraining's l1: 0.892649\tvalid_1's l1: 1.38389\n"
     ]
    },
    {
     "name": "stderr",
     "output_type": "stream",
     "text": [
      "\u001b[32m[I 2021-07-29 20:16:51,094]\u001b[0m Trial 68 finished with value: -1.3822380537960675 and parameters: {'max_depth': 9, 'min_child_weight': 2, 'subsample': 0.5, 'colsample_bytree': 0.7, 'reg_lambda': 0.020551961216894087, 'reg_alpha': 0.014952384383008072, 'feature_fraction': 0.7611049328914073, 'bagging_fraction': 0.40405518488200076, 'bagging_freq': 15, 'num_leaves': 940, 'min_child_samples': 59}. Best is trial 37 with value: -1.3680078746652573.\u001b[0m\n"
     ]
    },
    {
     "name": "stdout",
     "output_type": "stream",
     "text": [
      "Early stopping, best iteration is:\n",
      "[49]\ttraining's l1: 0.925719\tvalid_1's l1: 1.38225\n",
      "[LightGBM] [Warning] feature_fraction is set=0.9428729957276936, colsample_bytree=0.8 will be ignored. Current value: feature_fraction=0.9428729957276936\n",
      "[LightGBM] [Warning] bagging_fraction is set=0.8073759238857452, subsample=0.8 will be ignored. Current value: bagging_fraction=0.8073759238857452\n",
      "[LightGBM] [Warning] bagging_freq is set=19, subsample_freq=0 will be ignored. Current value: bagging_freq=19\n",
      "Training until validation scores don't improve for 100 rounds\n",
      "[100]\ttraining's l1: 1.00421\tvalid_1's l1: 1.38087\n",
      "[200]\ttraining's l1: 0.996827\tvalid_1's l1: 1.3791\n",
      "[300]\ttraining's l1: 0.983896\tvalid_1's l1: 1.37457\n",
      "[400]\ttraining's l1: 0.972265\tvalid_1's l1: 1.37468\n"
     ]
    },
    {
     "name": "stderr",
     "output_type": "stream",
     "text": [
      "\u001b[32m[I 2021-07-29 20:17:03,890]\u001b[0m Trial 69 finished with value: -1.3739660547370933 and parameters: {'max_depth': 5, 'min_child_weight': 4, 'subsample': 0.8, 'colsample_bytree': 0.8, 'reg_lambda': 945.0389425705655, 'reg_alpha': 0.0029103516626766022, 'feature_fraction': 0.9428729957276936, 'bagging_fraction': 0.8073759238857452, 'bagging_freq': 19, 'num_leaves': 711, 'min_child_samples': 54}. Best is trial 37 with value: -1.3680078746652573.\u001b[0m\n"
     ]
    },
    {
     "name": "stdout",
     "output_type": "stream",
     "text": [
      "Early stopping, best iteration is:\n",
      "[342]\ttraining's l1: 0.979016\tvalid_1's l1: 1.3741\n",
      "[LightGBM] [Warning] feature_fraction is set=0.7979172156916967, colsample_bytree=0.8 will be ignored. Current value: feature_fraction=0.7979172156916967\n",
      "[LightGBM] [Warning] bagging_fraction is set=0.5404285433826732, subsample=0.6 will be ignored. Current value: bagging_fraction=0.5404285433826732\n",
      "[LightGBM] [Warning] bagging_freq is set=13, subsample_freq=0 will be ignored. Current value: bagging_freq=13\n",
      "Training until validation scores don't improve for 100 rounds\n",
      "[100]\ttraining's l1: 0.828913\tvalid_1's l1: 1.39919\n"
     ]
    },
    {
     "name": "stderr",
     "output_type": "stream",
     "text": [
      "\u001b[32m[I 2021-07-29 20:17:12,155]\u001b[0m Trial 70 finished with value: -1.391118610752357 and parameters: {'max_depth': 11, 'min_child_weight': 13, 'subsample': 0.6, 'colsample_bytree': 0.8, 'reg_lambda': 0.19456324583496867, 'reg_alpha': 0.20726422041423406, 'feature_fraction': 0.7979172156916967, 'bagging_fraction': 0.5404285433826732, 'bagging_freq': 13, 'num_leaves': 621, 'min_child_samples': 26}. Best is trial 37 with value: -1.3680078746652573.\u001b[0m\n"
     ]
    },
    {
     "name": "stdout",
     "output_type": "stream",
     "text": [
      "Early stopping, best iteration is:\n",
      "[26]\ttraining's l1: 0.935168\tvalid_1's l1: 1.39112\n",
      "[LightGBM] [Warning] feature_fraction is set=0.8389417474311526, colsample_bytree=0.8 will be ignored. Current value: feature_fraction=0.8389417474311526\n",
      "[LightGBM] [Warning] bagging_fraction is set=0.5964388944277205, subsample=0.6 will be ignored. Current value: bagging_fraction=0.5964388944277205\n",
      "[LightGBM] [Warning] bagging_freq is set=17, subsample_freq=0 will be ignored. Current value: bagging_freq=17\n",
      "Training until validation scores don't improve for 100 rounds\n",
      "[100]\ttraining's l1: 0.946378\tvalid_1's l1: 1.38151\n",
      "[200]\ttraining's l1: 0.942631\tvalid_1's l1: 1.38582\n",
      "Early stopping, best iteration is:\n",
      "[108]\ttraining's l1: 0.945699\tvalid_1's l1: 1.38142\n"
     ]
    },
    {
     "name": "stderr",
     "output_type": "stream",
     "text": [
      "\u001b[32m[I 2021-07-29 20:17:19,029]\u001b[0m Trial 71 finished with value: -1.3813479115182323 and parameters: {'max_depth': 7, 'min_child_weight': 5, 'subsample': 0.6, 'colsample_bytree': 0.8, 'reg_lambda': 0.010534697764363502, 'reg_alpha': 0.0016724202643761908, 'feature_fraction': 0.8389417474311526, 'bagging_fraction': 0.5964388944277205, 'bagging_freq': 17, 'num_leaves': 664, 'min_child_samples': 41}. Best is trial 37 with value: -1.3680078746652573.\u001b[0m\n"
     ]
    },
    {
     "name": "stdout",
     "output_type": "stream",
     "text": [
      "[LightGBM] [Warning] feature_fraction is set=0.7650918530148598, colsample_bytree=0.8 will be ignored. Current value: feature_fraction=0.7650918530148598\n",
      "[LightGBM] [Warning] bagging_fraction is set=0.651736908153175, subsample=0.6 will be ignored. Current value: bagging_fraction=0.651736908153175\n",
      "[LightGBM] [Warning] bagging_freq is set=16, subsample_freq=0 will be ignored. Current value: bagging_freq=16\n",
      "Training until validation scores don't improve for 100 rounds\n",
      "[100]\ttraining's l1: 0.917214\tvalid_1's l1: 1.37827\n",
      "[200]\ttraining's l1: 0.90707\tvalid_1's l1: 1.38119\n"
     ]
    },
    {
     "name": "stderr",
     "output_type": "stream",
     "text": [
      "\u001b[32m[I 2021-07-29 20:17:28,691]\u001b[0m Trial 72 finished with value: -1.3776852578660868 and parameters: {'max_depth': 8, 'min_child_weight': 6, 'subsample': 0.6, 'colsample_bytree': 0.8, 'reg_lambda': 0.015961287150773468, 'reg_alpha': 0.0073737634376954304, 'feature_fraction': 0.7650918530148598, 'bagging_fraction': 0.651736908153175, 'bagging_freq': 16, 'num_leaves': 754, 'min_child_samples': 48}. Best is trial 37 with value: -1.3680078746652573.\u001b[0m\n"
     ]
    },
    {
     "name": "stdout",
     "output_type": "stream",
     "text": [
      "Early stopping, best iteration is:\n",
      "[177]\ttraining's l1: 0.913399\tvalid_1's l1: 1.37775\n",
      "[LightGBM] [Warning] feature_fraction is set=0.9165195345613516, colsample_bytree=0.8 will be ignored. Current value: feature_fraction=0.9165195345613516\n",
      "[LightGBM] [Warning] bagging_fraction is set=0.7800239132408503, subsample=0.6 will be ignored. Current value: bagging_fraction=0.7800239132408503\n",
      "[LightGBM] [Warning] bagging_freq is set=15, subsample_freq=0 will be ignored. Current value: bagging_freq=15\n",
      "Training until validation scores don't improve for 100 rounds\n",
      "[100]\ttraining's l1: 0.878126\tvalid_1's l1: 1.37608\n"
     ]
    },
    {
     "name": "stderr",
     "output_type": "stream",
     "text": [
      "\u001b[32m[I 2021-07-29 20:17:38,598]\u001b[0m Trial 73 finished with value: -1.3758258720881391 and parameters: {'max_depth': 9, 'min_child_weight': 5, 'subsample': 0.6, 'colsample_bytree': 0.8, 'reg_lambda': 0.005897723564785768, 'reg_alpha': 0.0022774167243427294, 'feature_fraction': 0.9165195345613516, 'bagging_fraction': 0.7800239132408503, 'bagging_freq': 15, 'num_leaves': 879, 'min_child_samples': 38}. Best is trial 37 with value: -1.3680078746652573.\u001b[0m\n"
     ]
    },
    {
     "name": "stdout",
     "output_type": "stream",
     "text": [
      "Early stopping, best iteration is:\n",
      "[86]\ttraining's l1: 0.879355\tvalid_1's l1: 1.37597\n",
      "[LightGBM] [Warning] feature_fraction is set=0.8360738013083564, colsample_bytree=0.9 will be ignored. Current value: feature_fraction=0.8360738013083564\n",
      "[LightGBM] [Warning] bagging_fraction is set=0.7024353233498317, subsample=0.6 will be ignored. Current value: bagging_fraction=0.7024353233498317\n",
      "[LightGBM] [Warning] bagging_freq is set=14, subsample_freq=0 will be ignored. Current value: bagging_freq=14\n",
      "Training until validation scores don't improve for 100 rounds\n",
      "[100]\ttraining's l1: 0.854067\tvalid_1's l1: 1.37893\n"
     ]
    },
    {
     "name": "stderr",
     "output_type": "stream",
     "text": [
      "\u001b[32m[I 2021-07-29 20:17:48,214]\u001b[0m Trial 74 finished with value: -1.375353274102232 and parameters: {'max_depth': 10, 'min_child_weight': 4, 'subsample': 0.6, 'colsample_bytree': 0.9, 'reg_lambda': 0.515857693770674, 'reg_alpha': 0.005162314218156565, 'feature_fraction': 0.8360738013083564, 'bagging_fraction': 0.7024353233498317, 'bagging_freq': 14, 'num_leaves': 776, 'min_child_samples': 44}. Best is trial 37 with value: -1.3680078746652573.\u001b[0m\n"
     ]
    },
    {
     "name": "stdout",
     "output_type": "stream",
     "text": [
      "Early stopping, best iteration is:\n",
      "[70]\ttraining's l1: 0.873824\tvalid_1's l1: 1.37538\n",
      "[LightGBM] [Warning] feature_fraction is set=0.8957136397470077, colsample_bytree=0.7 will be ignored. Current value: feature_fraction=0.8957136397470077\n",
      "[LightGBM] [Warning] bagging_fraction is set=0.8348937077549772, subsample=0.5 will be ignored. Current value: bagging_fraction=0.8348937077549772\n",
      "[LightGBM] [Warning] bagging_freq is set=16, subsample_freq=0 will be ignored. Current value: bagging_freq=16\n",
      "Training until validation scores don't improve for 100 rounds\n",
      "[100]\ttraining's l1: 0.947317\tvalid_1's l1: 1.37961\n",
      "[200]\ttraining's l1: 0.942229\tvalid_1's l1: 1.38224\n"
     ]
    },
    {
     "name": "stderr",
     "output_type": "stream",
     "text": [
      "\u001b[32m[I 2021-07-29 20:17:57,238]\u001b[0m Trial 75 finished with value: -1.3776408667050952 and parameters: {'max_depth': 7, 'min_child_weight': 7, 'subsample': 0.5, 'colsample_bytree': 0.7, 'reg_lambda': 0.0021623037516305794, 'reg_alpha': 0.0012715868479983327, 'feature_fraction': 0.8957136397470077, 'bagging_fraction': 0.8348937077549772, 'bagging_freq': 16, 'num_leaves': 469, 'min_child_samples': 31}. Best is trial 37 with value: -1.3680078746652573.\u001b[0m\n"
     ]
    },
    {
     "name": "stdout",
     "output_type": "stream",
     "text": [
      "Early stopping, best iteration is:\n",
      "[113]\ttraining's l1: 0.946084\tvalid_1's l1: 1.37773\n",
      "[LightGBM] [Warning] feature_fraction is set=0.805205446300455, colsample_bytree=0.8 will be ignored. Current value: feature_fraction=0.805205446300455\n",
      "[LightGBM] [Warning] bagging_fraction is set=0.6210709854240232, subsample=0.7 will be ignored. Current value: bagging_fraction=0.6210709854240232\n",
      "[LightGBM] [Warning] bagging_freq is set=18, subsample_freq=0 will be ignored. Current value: bagging_freq=18\n",
      "Training until validation scores don't improve for 100 rounds\n",
      "[100]\ttraining's l1: 0.981893\tvalid_1's l1: 1.38095\n",
      "[200]\ttraining's l1: 0.975899\tvalid_1's l1: 1.3764\n",
      "[300]\ttraining's l1: 0.958939\tvalid_1's l1: 1.37222\n",
      "[400]\ttraining's l1: 0.938472\tvalid_1's l1: 1.36919\n",
      "Early stopping, best iteration is:\n",
      "[394]\ttraining's l1: 0.939549\tvalid_1's l1: 1.36894\n"
     ]
    },
    {
     "name": "stderr",
     "output_type": "stream",
     "text": [
      "\u001b[32m[I 2021-07-29 20:18:09,813]\u001b[0m Trial 76 finished with value: -1.368721990762197 and parameters: {'max_depth': 6, 'min_child_weight': 2, 'subsample': 0.7, 'colsample_bytree': 0.8, 'reg_lambda': 0.045072702870836465, 'reg_alpha': 12.09136611883807, 'feature_fraction': 0.805205446300455, 'bagging_fraction': 0.6210709854240232, 'bagging_freq': 18, 'num_leaves': 831, 'min_child_samples': 57}. Best is trial 37 with value: -1.3680078746652573.\u001b[0m\n"
     ]
    },
    {
     "name": "stdout",
     "output_type": "stream",
     "text": [
      "[LightGBM] [Warning] feature_fraction is set=0.738493173196521, colsample_bytree=0.8 will be ignored. Current value: feature_fraction=0.738493173196521\n",
      "[LightGBM] [Warning] bagging_fraction is set=0.7378732859310929, subsample=0.8 will be ignored. Current value: bagging_fraction=0.7378732859310929\n",
      "[LightGBM] [Warning] bagging_freq is set=18, subsample_freq=0 will be ignored. Current value: bagging_freq=18\n",
      "Training until validation scores don't improve for 100 rounds\n",
      "[100]\ttraining's l1: 0.982496\tvalid_1's l1: 1.38146\n",
      "[200]\ttraining's l1: 0.977344\tvalid_1's l1: 1.37903\n",
      "[300]\ttraining's l1: 0.962403\tvalid_1's l1: 1.37378\n",
      "[400]\ttraining's l1: 0.939385\tvalid_1's l1: 1.37446\n",
      "Early stopping, best iteration is:\n",
      "[380]\ttraining's l1: 0.945352\tvalid_1's l1: 1.37029\n"
     ]
    },
    {
     "name": "stderr",
     "output_type": "stream",
     "text": [
      "\u001b[32m[I 2021-07-29 20:18:23,259]\u001b[0m Trial 77 finished with value: -1.3701838796819477 and parameters: {'max_depth': 6, 'min_child_weight': 2, 'subsample': 0.8, 'colsample_bytree': 0.8, 'reg_lambda': 0.03811467674403967, 'reg_alpha': 63.33939820182075, 'feature_fraction': 0.738493173196521, 'bagging_fraction': 0.7378732859310929, 'bagging_freq': 18, 'num_leaves': 836, 'min_child_samples': 57}. Best is trial 37 with value: -1.3680078746652573.\u001b[0m\n"
     ]
    },
    {
     "name": "stdout",
     "output_type": "stream",
     "text": [
      "[LightGBM] [Warning] feature_fraction is set=0.8718861354961636, colsample_bytree=0.8 will be ignored. Current value: feature_fraction=0.8718861354961636\n",
      "[LightGBM] [Warning] bagging_fraction is set=0.7437782362699439, subsample=0.8 will be ignored. Current value: bagging_fraction=0.7437782362699439\n",
      "[LightGBM] [Warning] bagging_freq is set=19, subsample_freq=0 will be ignored. Current value: bagging_freq=19\n",
      "Training until validation scores don't improve for 100 rounds\n",
      "[100]\ttraining's l1: 0.977869\tvalid_1's l1: 1.37794\n",
      "[200]\ttraining's l1: 0.974624\tvalid_1's l1: 1.37718\n",
      "[300]\ttraining's l1: 0.962644\tvalid_1's l1: 1.37702\n",
      "[400]\ttraining's l1: 0.954801\tvalid_1's l1: 1.37358\n",
      "[500]\ttraining's l1: 0.934208\tvalid_1's l1: 1.37685\n",
      "Early stopping, best iteration is:\n",
      "[477]\ttraining's l1: 0.943309\tvalid_1's l1: 1.37328\n"
     ]
    },
    {
     "name": "stderr",
     "output_type": "stream",
     "text": [
      "\u001b[32m[I 2021-07-29 20:18:39,866]\u001b[0m Trial 78 finished with value: -1.373073322063268 and parameters: {'max_depth': 6, 'min_child_weight': 2, 'subsample': 0.8, 'colsample_bytree': 0.8, 'reg_lambda': 0.02403666770782451, 'reg_alpha': 58.65385102413159, 'feature_fraction': 0.8718861354961636, 'bagging_fraction': 0.7437782362699439, 'bagging_freq': 19, 'num_leaves': 840, 'min_child_samples': 60}. Best is trial 37 with value: -1.3680078746652573.\u001b[0m\n"
     ]
    },
    {
     "name": "stdout",
     "output_type": "stream",
     "text": [
      "[LightGBM] [Warning] feature_fraction is set=0.7364516386086523, colsample_bytree=0.8 will be ignored. Current value: feature_fraction=0.7364516386086523\n",
      "[LightGBM] [Warning] bagging_fraction is set=0.7735261394906392, subsample=0.9 will be ignored. Current value: bagging_fraction=0.7735261394906392\n",
      "[LightGBM] [Warning] bagging_freq is set=18, subsample_freq=0 will be ignored. Current value: bagging_freq=18\n",
      "Training until validation scores don't improve for 100 rounds\n",
      "[100]\ttraining's l1: 1.00426\tvalid_1's l1: 1.38485\n",
      "[200]\ttraining's l1: 0.99332\tvalid_1's l1: 1.37881\n",
      "[300]\ttraining's l1: 0.973249\tvalid_1's l1: 1.37566\n",
      "[400]\ttraining's l1: 0.954127\tvalid_1's l1: 1.37674\n"
     ]
    },
    {
     "name": "stderr",
     "output_type": "stream",
     "text": [
      "\u001b[32m[I 2021-07-29 20:18:51,602]\u001b[0m Trial 79 finished with value: -1.3739539490675463 and parameters: {'max_depth': 5, 'min_child_weight': 1, 'subsample': 0.9, 'colsample_bytree': 0.8, 'reg_lambda': 0.04380429602952241, 'reg_alpha': 15.815417985128226, 'feature_fraction': 0.7364516386086523, 'bagging_fraction': 0.7735261394906392, 'bagging_freq': 18, 'num_leaves': 733, 'min_child_samples': 71}. Best is trial 37 with value: -1.3680078746652573.\u001b[0m\n"
     ]
    },
    {
     "name": "stdout",
     "output_type": "stream",
     "text": [
      "Early stopping, best iteration is:\n",
      "[334]\ttraining's l1: 0.964433\tvalid_1's l1: 1.37422\n",
      "[LightGBM] [Warning] feature_fraction is set=0.7978489851485374, colsample_bytree=0.8 will be ignored. Current value: feature_fraction=0.7978489851485374\n",
      "[LightGBM] [Warning] bagging_fraction is set=0.8821055876008735, subsample=0.8 will be ignored. Current value: bagging_fraction=0.8821055876008735\n",
      "[LightGBM] [Warning] bagging_freq is set=20, subsample_freq=0 will be ignored. Current value: bagging_freq=20\n",
      "Training until validation scores don't improve for 100 rounds\n",
      "[100]\ttraining's l1: 0.985088\tvalid_1's l1: 1.38041\n",
      "[200]\ttraining's l1: 0.980401\tvalid_1's l1: 1.37784\n",
      "[300]\ttraining's l1: 0.965623\tvalid_1's l1: 1.37375\n",
      "[400]\ttraining's l1: 0.952224\tvalid_1's l1: 1.37899\n"
     ]
    },
    {
     "name": "stderr",
     "output_type": "stream",
     "text": [
      "\u001b[32m[I 2021-07-29 20:19:05,098]\u001b[0m Trial 80 finished with value: -1.3731198548291301 and parameters: {'max_depth': 6, 'min_child_weight': 2, 'subsample': 0.8, 'colsample_bytree': 0.8, 'reg_lambda': 0.0631643134565662, 'reg_alpha': 230.60792260862613, 'feature_fraction': 0.7978489851485374, 'bagging_fraction': 0.8821055876008735, 'bagging_freq': 20, 'num_leaves': 997, 'min_child_samples': 57}. Best is trial 37 with value: -1.3680078746652573.\u001b[0m\n"
     ]
    },
    {
     "name": "stdout",
     "output_type": "stream",
     "text": [
      "Early stopping, best iteration is:\n",
      "[318]\ttraining's l1: 0.960112\tvalid_1's l1: 1.37324\n",
      "[LightGBM] [Warning] feature_fraction is set=0.644366466742949, colsample_bytree=0.8 will be ignored. Current value: feature_fraction=0.644366466742949\n",
      "[LightGBM] [Warning] bagging_fraction is set=0.7270595701854177, subsample=0.9 will be ignored. Current value: bagging_fraction=0.7270595701854177\n",
      "[LightGBM] [Warning] bagging_freq is set=17, subsample_freq=0 will be ignored. Current value: bagging_freq=17\n",
      "Training until validation scores don't improve for 100 rounds\n",
      "[100]\ttraining's l1: 1.03439\tvalid_1's l1: 1.39585\n",
      "[200]\ttraining's l1: 1.02176\tvalid_1's l1: 1.38895\n",
      "[300]\ttraining's l1: 1.00601\tvalid_1's l1: 1.38236\n",
      "[400]\ttraining's l1: 0.991176\tvalid_1's l1: 1.38146\n",
      "[500]\ttraining's l1: 0.980985\tvalid_1's l1: 1.38066\n",
      "[600]\ttraining's l1: 0.971262\tvalid_1's l1: 1.38205\n",
      "Early stopping, best iteration is:\n",
      "[511]\ttraining's l1: 0.980277\tvalid_1's l1: 1.38013\n"
     ]
    },
    {
     "name": "stderr",
     "output_type": "stream",
     "text": [
      "\u001b[32m[I 2021-07-29 20:19:18,643]\u001b[0m Trial 81 finished with value: -1.3792358518117862 and parameters: {'max_depth': 4, 'min_child_weight': 3, 'subsample': 0.9, 'colsample_bytree': 0.8, 'reg_lambda': 0.13791548364092288, 'reg_alpha': 5.790911308351279, 'feature_fraction': 0.644366466742949, 'bagging_fraction': 0.7270595701854177, 'bagging_freq': 17, 'num_leaves': 815, 'min_child_samples': 63}. Best is trial 37 with value: -1.3680078746652573.\u001b[0m\n"
     ]
    },
    {
     "name": "stdout",
     "output_type": "stream",
     "text": [
      "[LightGBM] [Warning] feature_fraction is set=0.7578617618607455, colsample_bytree=0.8 will be ignored. Current value: feature_fraction=0.7578617618607455\n",
      "[LightGBM] [Warning] bagging_fraction is set=0.5876350934870449, subsample=0.7 will be ignored. Current value: bagging_fraction=0.5876350934870449\n",
      "[LightGBM] [Warning] bagging_freq is set=18, subsample_freq=0 will be ignored. Current value: bagging_freq=18\n",
      "Training until validation scores don't improve for 100 rounds\n",
      "[100]\ttraining's l1: 0.983667\tvalid_1's l1: 1.37655\n",
      "[200]\ttraining's l1: 0.969763\tvalid_1's l1: 1.37144\n",
      "[300]\ttraining's l1: 0.942043\tvalid_1's l1: 1.37533\n"
     ]
    },
    {
     "name": "stderr",
     "output_type": "stream",
     "text": [
      "\u001b[32m[I 2021-07-29 20:19:27,101]\u001b[0m Trial 82 finished with value: -1.368654813703345 and parameters: {'max_depth': 6, 'min_child_weight': 1, 'subsample': 0.7, 'colsample_bytree': 0.8, 'reg_lambda': 0.03428165098265396, 'reg_alpha': 22.997747492302427, 'feature_fraction': 0.7578617618607455, 'bagging_fraction': 0.5876350934870449, 'bagging_freq': 18, 'num_leaves': 874, 'min_child_samples': 53}. Best is trial 37 with value: -1.3680078746652573.\u001b[0m\n"
     ]
    },
    {
     "name": "stdout",
     "output_type": "stream",
     "text": [
      "Early stopping, best iteration is:\n",
      "[224]\ttraining's l1: 0.960723\tvalid_1's l1: 1.36894\n",
      "[LightGBM] [Warning] feature_fraction is set=0.6967738620662358, colsample_bytree=0.8 will be ignored. Current value: feature_fraction=0.6967738620662358\n",
      "[LightGBM] [Warning] bagging_fraction is set=0.5813661968749244, subsample=0.7 will be ignored. Current value: bagging_fraction=0.5813661968749244\n",
      "[LightGBM] [Warning] bagging_freq is set=18, subsample_freq=0 will be ignored. Current value: bagging_freq=18\n",
      "Training until validation scores don't improve for 100 rounds\n",
      "[100]\ttraining's l1: 1.0083\tvalid_1's l1: 1.38607\n",
      "[200]\ttraining's l1: 0.996875\tvalid_1's l1: 1.38053\n",
      "[300]\ttraining's l1: 0.976292\tvalid_1's l1: 1.37737\n",
      "[400]\ttraining's l1: 0.954654\tvalid_1's l1: 1.3777\n"
     ]
    },
    {
     "name": "stderr",
     "output_type": "stream",
     "text": [
      "\u001b[32m[I 2021-07-29 20:19:36,608]\u001b[0m Trial 83 finished with value: -1.3742858947551153 and parameters: {'max_depth': 5, 'min_child_weight': 1, 'subsample': 0.7, 'colsample_bytree': 0.8, 'reg_lambda': 0.0356436756462002, 'reg_alpha': 18.769956773788415, 'feature_fraction': 0.6967738620662358, 'bagging_fraction': 0.5813661968749244, 'bagging_freq': 18, 'num_leaves': 923, 'min_child_samples': 51}. Best is trial 37 with value: -1.3680078746652573.\u001b[0m\n"
     ]
    },
    {
     "name": "stdout",
     "output_type": "stream",
     "text": [
      "Early stopping, best iteration is:\n",
      "[327]\ttraining's l1: 0.970612\tvalid_1's l1: 1.37448\n",
      "[LightGBM] [Warning] feature_fraction is set=0.8532035983006433, colsample_bytree=0.8 will be ignored. Current value: feature_fraction=0.8532035983006433\n",
      "[LightGBM] [Warning] bagging_fraction is set=0.508615914970138, subsample=0.7 will be ignored. Current value: bagging_fraction=0.508615914970138\n",
      "[LightGBM] [Warning] bagging_freq is set=19, subsample_freq=0 will be ignored. Current value: bagging_freq=19\n",
      "Training until validation scores don't improve for 100 rounds\n",
      "[100]\ttraining's l1: 0.981007\tvalid_1's l1: 1.37969\n",
      "[200]\ttraining's l1: 0.963275\tvalid_1's l1: 1.37541\n"
     ]
    },
    {
     "name": "stderr",
     "output_type": "stream",
     "text": [
      "\u001b[32m[I 2021-07-29 20:19:43,323]\u001b[0m Trial 84 finished with value: -1.3729247580285302 and parameters: {'max_depth': 6, 'min_child_weight': 1, 'subsample': 0.7, 'colsample_bytree': 0.8, 'reg_lambda': 0.08876208844255917, 'reg_alpha': 29.669939351888836, 'feature_fraction': 0.8532035983006433, 'bagging_fraction': 0.508615914970138, 'bagging_freq': 19, 'num_leaves': 862, 'min_child_samples': 56}. Best is trial 37 with value: -1.3680078746652573.\u001b[0m\n"
     ]
    },
    {
     "name": "stdout",
     "output_type": "stream",
     "text": [
      "Early stopping, best iteration is:\n",
      "[164]\ttraining's l1: 0.964908\tvalid_1's l1: 1.37305\n",
      "[LightGBM] [Warning] feature_fraction is set=0.7791357359137228, colsample_bytree=0.8 will be ignored. Current value: feature_fraction=0.7791357359137228\n",
      "[LightGBM] [Warning] bagging_fraction is set=0.5556421165590939, subsample=0.7 will be ignored. Current value: bagging_fraction=0.5556421165590939\n",
      "[LightGBM] [Warning] bagging_freq is set=17, subsample_freq=0 will be ignored. Current value: bagging_freq=17\n",
      "Training until validation scores don't improve for 100 rounds\n",
      "[100]\ttraining's l1: 0.935924\tvalid_1's l1: 1.38203\n"
     ]
    },
    {
     "name": "stderr",
     "output_type": "stream",
     "text": [
      "\u001b[32m[I 2021-07-29 20:19:50,181]\u001b[0m Trial 85 finished with value: -1.381132227961434 and parameters: {'max_depth': 9, 'min_child_weight': 2, 'subsample': 0.7, 'colsample_bytree': 0.8, 'reg_lambda': 0.008946241165854222, 'reg_alpha': 182.30950085443519, 'feature_fraction': 0.7791357359137228, 'bagging_fraction': 0.5556421165590939, 'bagging_freq': 17, 'num_leaves': 796, 'min_child_samples': 42}. Best is trial 37 with value: -1.3680078746652573.\u001b[0m\n"
     ]
    },
    {
     "name": "stdout",
     "output_type": "stream",
     "text": [
      "Early stopping, best iteration is:\n",
      "[88]\ttraining's l1: 0.936757\tvalid_1's l1: 1.38117\n",
      "[LightGBM] [Warning] feature_fraction is set=0.8261177368319427, colsample_bytree=0.9 will be ignored. Current value: feature_fraction=0.8261177368319427\n",
      "[LightGBM] [Warning] bagging_fraction is set=0.6088428110462194, subsample=0.8 will be ignored. Current value: bagging_fraction=0.6088428110462194\n",
      "[LightGBM] [Warning] bagging_freq is set=18, subsample_freq=0 will be ignored. Current value: bagging_freq=18\n",
      "Training until validation scores don't improve for 100 rounds\n",
      "[100]\ttraining's l1: 0.962725\tvalid_1's l1: 1.3775\n",
      "[200]\ttraining's l1: 0.952729\tvalid_1's l1: 1.37756\n"
     ]
    },
    {
     "name": "stderr",
     "output_type": "stream",
     "text": [
      "\u001b[32m[I 2021-07-29 20:19:58,905]\u001b[0m Trial 86 finished with value: -1.375441409991129 and parameters: {'max_depth': 7, 'min_child_weight': 12, 'subsample': 0.8, 'colsample_bytree': 0.9, 'reg_lambda': 0.04726783900502118, 'reg_alpha': 96.21595399932183, 'feature_fraction': 0.8261177368319427, 'bagging_fraction': 0.6088428110462194, 'bagging_freq': 18, 'num_leaves': 877, 'min_child_samples': 53}. Best is trial 37 with value: -1.3680078746652573.\u001b[0m\n"
     ]
    },
    {
     "name": "stdout",
     "output_type": "stream",
     "text": [
      "Early stopping, best iteration is:\n",
      "[189]\ttraining's l1: 0.9541\tvalid_1's l1: 1.37548\n",
      "[LightGBM] [Warning] feature_fraction is set=0.7264798126019602, colsample_bytree=0.8 will be ignored. Current value: feature_fraction=0.7264798126019602\n",
      "[LightGBM] [Warning] bagging_fraction is set=0.6225763876067413, subsample=0.8 will be ignored. Current value: bagging_fraction=0.6225763876067413\n",
      "[LightGBM] [Warning] bagging_freq is set=20, subsample_freq=0 will be ignored. Current value: bagging_freq=20\n",
      "Training until validation scores don't improve for 100 rounds\n",
      "[100]\ttraining's l1: 1.00687\tvalid_1's l1: 1.38792\n",
      "[200]\ttraining's l1: 0.995704\tvalid_1's l1: 1.38336\n",
      "[300]\ttraining's l1: 0.981365\tvalid_1's l1: 1.3819\n",
      "[400]\ttraining's l1: 0.967821\tvalid_1's l1: 1.37892\n"
     ]
    },
    {
     "name": "stderr",
     "output_type": "stream",
     "text": [
      "\u001b[32m[I 2021-07-29 20:20:09,650]\u001b[0m Trial 87 finished with value: -1.3777984468155409 and parameters: {'max_depth': 5, 'min_child_weight': 10, 'subsample': 0.8, 'colsample_bytree': 0.8, 'reg_lambda': 0.015259050329305034, 'reg_alpha': 3.1420573620625953, 'feature_fraction': 0.7264798126019602, 'bagging_fraction': 0.6225763876067413, 'bagging_freq': 20, 'num_leaves': 701, 'min_child_samples': 35}. Best is trial 37 with value: -1.3680078746652573.\u001b[0m\n"
     ]
    },
    {
     "name": "stdout",
     "output_type": "stream",
     "text": [
      "Early stopping, best iteration is:\n",
      "[371]\ttraining's l1: 0.972204\tvalid_1's l1: 1.37819\n",
      "[LightGBM] [Warning] feature_fraction is set=0.7938597597712933, colsample_bytree=0.8 will be ignored. Current value: feature_fraction=0.7938597597712933\n",
      "[LightGBM] [Warning] bagging_fraction is set=0.6683352835487844, subsample=0.7 will be ignored. Current value: bagging_fraction=0.6683352835487844\n",
      "[LightGBM] [Warning] bagging_freq is set=18, subsample_freq=0 will be ignored. Current value: bagging_freq=18\n",
      "Training until validation scores don't improve for 100 rounds\n",
      "[100]\ttraining's l1: 0.935471\tvalid_1's l1: 1.37807\n",
      "[200]\ttraining's l1: 0.933032\tvalid_1's l1: 1.37846\n",
      "[300]\ttraining's l1: 0.918353\tvalid_1's l1: 1.37794\n",
      "Early stopping, best iteration is:\n",
      "[286]\ttraining's l1: 0.920352\tvalid_1's l1: 1.37679\n"
     ]
    },
    {
     "name": "stderr",
     "output_type": "stream",
     "text": [
      "\u001b[32m[I 2021-07-29 20:20:22,192]\u001b[0m Trial 88 finished with value: -1.3766868065566977 and parameters: {'max_depth': 8, 'min_child_weight': 3, 'subsample': 0.7, 'colsample_bytree': 0.8, 'reg_lambda': 0.018790441658790676, 'reg_alpha': 59.95292273453962, 'feature_fraction': 0.7938597597712933, 'bagging_fraction': 0.6683352835487844, 'bagging_freq': 18, 'num_leaves': 733, 'min_child_samples': 47}. Best is trial 37 with value: -1.3680078746652573.\u001b[0m\n"
     ]
    },
    {
     "name": "stdout",
     "output_type": "stream",
     "text": [
      "[LightGBM] [Warning] feature_fraction is set=0.9660676768794396, colsample_bytree=0.8 will be ignored. Current value: feature_fraction=0.9660676768794396\n",
      "[LightGBM] [Warning] bagging_fraction is set=0.8465564033673871, subsample=0.7 will be ignored. Current value: bagging_fraction=0.8465564033673871\n",
      "[LightGBM] [Warning] bagging_freq is set=19, subsample_freq=0 will be ignored. Current value: bagging_freq=19\n",
      "Training until validation scores don't improve for 100 rounds\n",
      "[100]\ttraining's l1: 1.06524\tvalid_1's l1: 1.41378\n",
      "[200]\ttraining's l1: 1.05872\tvalid_1's l1: 1.40614\n",
      "[300]\ttraining's l1: 1.05276\tvalid_1's l1: 1.40168\n",
      "[400]\ttraining's l1: 1.04752\tvalid_1's l1: 1.39845\n",
      "[500]\ttraining's l1: 1.04535\tvalid_1's l1: 1.39678\n",
      "[600]\ttraining's l1: 1.04526\tvalid_1's l1: 1.39674\n",
      "[700]\ttraining's l1: 1.04523\tvalid_1's l1: 1.39673\n",
      "[800]\ttraining's l1: 1.04451\tvalid_1's l1: 1.39566\n",
      "[900]\ttraining's l1: 1.04363\tvalid_1's l1: 1.39492\n",
      "[1000]\ttraining's l1: 1.03652\tvalid_1's l1: 1.39072\n",
      "[1100]\ttraining's l1: 1.02035\tvalid_1's l1: 1.38701\n",
      "[1200]\ttraining's l1: 1.00871\tvalid_1's l1: 1.38519\n",
      "[1300]\ttraining's l1: 1.00267\tvalid_1's l1: 1.38483\n",
      "[1400]\ttraining's l1: 0.999327\tvalid_1's l1: 1.38423\n",
      "Early stopping, best iteration is:\n",
      "[1397]\ttraining's l1: 0.999417\tvalid_1's l1: 1.3842\n"
     ]
    },
    {
     "name": "stderr",
     "output_type": "stream",
     "text": [
      "\u001b[32m[I 2021-07-29 20:20:56,575]\u001b[0m Trial 89 finished with value: -1.3821404817494354 and parameters: {'max_depth': 3, 'min_child_weight': 1, 'subsample': 0.7, 'colsample_bytree': 0.8, 'reg_lambda': 0.027024188826681044, 'reg_alpha': 12.772023685549438, 'feature_fraction': 0.9660676768794396, 'bagging_fraction': 0.8465564033673871, 'bagging_freq': 19, 'num_leaves': 907, 'min_child_samples': 65}. Best is trial 37 with value: -1.3680078746652573.\u001b[0m\n"
     ]
    },
    {
     "name": "stdout",
     "output_type": "stream",
     "text": [
      "[LightGBM] [Warning] feature_fraction is set=0.7540671293749632, colsample_bytree=0.8 will be ignored. Current value: feature_fraction=0.7540671293749632\n",
      "[LightGBM] [Warning] bagging_fraction is set=0.5951353257498384, subsample=0.7 will be ignored. Current value: bagging_fraction=0.5951353257498384\n",
      "[LightGBM] [Warning] bagging_freq is set=17, subsample_freq=0 will be ignored. Current value: bagging_freq=17\n",
      "Training until validation scores don't improve for 100 rounds\n",
      "[100]\ttraining's l1: 0.954221\tvalid_1's l1: 1.37518\n",
      "[200]\ttraining's l1: 0.939796\tvalid_1's l1: 1.37474\n"
     ]
    },
    {
     "name": "stderr",
     "output_type": "stream",
     "text": [
      "\u001b[32m[I 2021-07-29 20:21:03,349]\u001b[0m Trial 90 finished with value: -1.3744592681110692 and parameters: {'max_depth': 7, 'min_child_weight': 2, 'subsample': 0.7, 'colsample_bytree': 0.8, 'reg_lambda': 0.00525311900452451, 'reg_alpha': 28.57780393366287, 'feature_fraction': 0.7540671293749632, 'bagging_fraction': 0.5951353257498384, 'bagging_freq': 17, 'num_leaves': 938, 'min_child_samples': 40}. Best is trial 37 with value: -1.3680078746652573.\u001b[0m\n"
     ]
    },
    {
     "name": "stdout",
     "output_type": "stream",
     "text": [
      "Early stopping, best iteration is:\n",
      "[122]\ttraining's l1: 0.950199\tvalid_1's l1: 1.37451\n",
      "[LightGBM] [Warning] feature_fraction is set=0.7477502907527286, colsample_bytree=0.7 will be ignored. Current value: feature_fraction=0.7477502907527286\n",
      "[LightGBM] [Warning] bagging_fraction is set=0.7980900210478438, subsample=0.7 will be ignored. Current value: bagging_fraction=0.7980900210478438\n",
      "[LightGBM] [Warning] bagging_freq is set=15, subsample_freq=0 will be ignored. Current value: bagging_freq=15\n",
      "Training until validation scores don't improve for 100 rounds\n",
      "[100]\ttraining's l1: 0.988553\tvalid_1's l1: 1.38008\n",
      "[200]\ttraining's l1: 0.973763\tvalid_1's l1: 1.37514\n",
      "[300]\ttraining's l1: 0.944358\tvalid_1's l1: 1.37615\n"
     ]
    },
    {
     "name": "stderr",
     "output_type": "stream",
     "text": [
      "\u001b[32m[I 2021-07-29 20:21:14,377]\u001b[0m Trial 91 finished with value: -1.3732592715365897 and parameters: {'max_depth': 6, 'min_child_weight': 4, 'subsample': 0.7, 'colsample_bytree': 0.7, 'reg_lambda': 0.012616940024677472, 'reg_alpha': 79.89239551040205, 'feature_fraction': 0.7477502907527286, 'bagging_fraction': 0.7980900210478438, 'bagging_freq': 15, 'num_leaves': 833, 'min_child_samples': 55}. Best is trial 37 with value: -1.3680078746652573.\u001b[0m\n"
     ]
    },
    {
     "name": "stdout",
     "output_type": "stream",
     "text": [
      "Early stopping, best iteration is:\n",
      "[248]\ttraining's l1: 0.963602\tvalid_1's l1: 1.3733\n",
      "[LightGBM] [Warning] feature_fraction is set=0.6784285758019842, colsample_bytree=0.7 will be ignored. Current value: feature_fraction=0.6784285758019842\n",
      "[LightGBM] [Warning] bagging_fraction is set=0.6826077684519039, subsample=0.6 will be ignored. Current value: bagging_fraction=0.6826077684519039\n",
      "[LightGBM] [Warning] bagging_freq is set=16, subsample_freq=0 will be ignored. Current value: bagging_freq=16\n",
      "Training until validation scores don't improve for 100 rounds\n",
      "[100]\ttraining's l1: 0.954425\tvalid_1's l1: 1.37439\n",
      "[200]\ttraining's l1: 0.944717\tvalid_1's l1: 1.37765\n",
      "Early stopping, best iteration is:\n",
      "[107]\ttraining's l1: 0.954234\tvalid_1's l1: 1.37418\n"
     ]
    },
    {
     "name": "stderr",
     "output_type": "stream",
     "text": [
      "\u001b[32m[I 2021-07-29 20:21:21,341]\u001b[0m Trial 92 finished with value: -1.3741680379402355 and parameters: {'max_depth': 7, 'min_child_weight': 3, 'subsample': 0.6, 'colsample_bytree': 0.7, 'reg_lambda': 0.15914270083450083, 'reg_alpha': 10.654150473308292, 'feature_fraction': 0.6784285758019842, 'bagging_fraction': 0.6826077684519039, 'bagging_freq': 16, 'num_leaves': 809, 'min_child_samples': 69}. Best is trial 37 with value: -1.3680078746652573.\u001b[0m\n"
     ]
    },
    {
     "name": "stdout",
     "output_type": "stream",
     "text": [
      "[LightGBM] [Warning] feature_fraction is set=0.8656663681773202, colsample_bytree=0.7 will be ignored. Current value: feature_fraction=0.8656663681773202\n",
      "[LightGBM] [Warning] bagging_fraction is set=0.7558932213252222, subsample=0.9 will be ignored. Current value: bagging_fraction=0.7558932213252222\n",
      "[LightGBM] [Warning] bagging_freq is set=17, subsample_freq=0 will be ignored. Current value: bagging_freq=17\n",
      "Training until validation scores don't improve for 100 rounds\n",
      "[100]\ttraining's l1: 0.979491\tvalid_1's l1: 1.37624\n",
      "[200]\ttraining's l1: 0.977795\tvalid_1's l1: 1.37523\n",
      "[300]\ttraining's l1: 0.969093\tvalid_1's l1: 1.37093\n",
      "[400]\ttraining's l1: 0.954725\tvalid_1's l1: 1.37017\n",
      "Early stopping, best iteration is:\n",
      "[381]\ttraining's l1: 0.959045\tvalid_1's l1: 1.36967\n"
     ]
    },
    {
     "name": "stderr",
     "output_type": "stream",
     "text": [
      "\u001b[32m[I 2021-07-29 20:21:35,308]\u001b[0m Trial 93 finished with value: -1.3695743485686882 and parameters: {'max_depth': 6, 'min_child_weight': 4, 'subsample': 0.9, 'colsample_bytree': 0.7, 'reg_lambda': 0.007109591099204917, 'reg_alpha': 47.28895833584869, 'feature_fraction': 0.8656663681773202, 'bagging_fraction': 0.7558932213252222, 'bagging_freq': 17, 'num_leaves': 882, 'min_child_samples': 59}. Best is trial 37 with value: -1.3680078746652573.\u001b[0m\n"
     ]
    },
    {
     "name": "stdout",
     "output_type": "stream",
     "text": [
      "[LightGBM] [Warning] feature_fraction is set=0.9003128313130303, colsample_bytree=0.8 will be ignored. Current value: feature_fraction=0.9003128313130303\n",
      "[LightGBM] [Warning] bagging_fraction is set=0.8113363312593455, subsample=0.9 will be ignored. Current value: bagging_fraction=0.8113363312593455\n",
      "[LightGBM] [Warning] bagging_freq is set=17, subsample_freq=0 will be ignored. Current value: bagging_freq=17\n",
      "Training until validation scores don't improve for 100 rounds\n",
      "[100]\ttraining's l1: 0.979989\tvalid_1's l1: 1.37304\n",
      "[200]\ttraining's l1: 0.975486\tvalid_1's l1: 1.37075\n",
      "[300]\ttraining's l1: 0.973313\tvalid_1's l1: 1.36977\n",
      "[400]\ttraining's l1: 0.965605\tvalid_1's l1: 1.36845\n",
      "[500]\ttraining's l1: 0.958038\tvalid_1's l1: 1.37052\n",
      "Early stopping, best iteration is:\n",
      "[492]\ttraining's l1: 0.958684\tvalid_1's l1: 1.36692\n"
     ]
    },
    {
     "name": "stderr",
     "output_type": "stream",
     "text": [
      "\u001b[32m[I 2021-07-29 20:21:53,082]\u001b[0m Trial 94 finished with value: -1.3667946742041153 and parameters: {'max_depth': 6, 'min_child_weight': 4, 'subsample': 0.9, 'colsample_bytree': 0.8, 'reg_lambda': 0.00848895237283686, 'reg_alpha': 50.46708556901996, 'feature_fraction': 0.9003128313130303, 'bagging_fraction': 0.8113363312593455, 'bagging_freq': 17, 'num_leaves': 888, 'min_child_samples': 75}. Best is trial 94 with value: -1.3667946742041153.\u001b[0m\n"
     ]
    },
    {
     "name": "stdout",
     "output_type": "stream",
     "text": [
      "[LightGBM] [Warning] feature_fraction is set=0.9017856978754202, colsample_bytree=0.8 will be ignored. Current value: feature_fraction=0.9017856978754202\n",
      "[LightGBM] [Warning] bagging_fraction is set=0.8195185591446577, subsample=0.9 will be ignored. Current value: bagging_fraction=0.8195185591446577\n",
      "[LightGBM] [Warning] bagging_freq is set=17, subsample_freq=0 will be ignored. Current value: bagging_freq=17\n",
      "Training until validation scores don't improve for 100 rounds\n",
      "[100]\ttraining's l1: 0.923864\tvalid_1's l1: 1.37417\n",
      "[200]\ttraining's l1: 0.916638\tvalid_1's l1: 1.37561\n"
     ]
    },
    {
     "name": "stderr",
     "output_type": "stream",
     "text": [
      "\u001b[32m[I 2021-07-29 20:22:03,413]\u001b[0m Trial 95 finished with value: -1.3734454638465878 and parameters: {'max_depth': 8, 'min_child_weight': 4, 'subsample': 0.9, 'colsample_bytree': 0.8, 'reg_lambda': 0.007238256102552469, 'reg_alpha': 34.51374156320504, 'feature_fraction': 0.9017856978754202, 'bagging_fraction': 0.8195185591446577, 'bagging_freq': 17, 'num_leaves': 975, 'min_child_samples': 32}. Best is trial 94 with value: -1.3667946742041153.\u001b[0m\n"
     ]
    },
    {
     "name": "stdout",
     "output_type": "stream",
     "text": [
      "Early stopping, best iteration is:\n",
      "[135]\ttraining's l1: 0.92219\tvalid_1's l1: 1.37356\n",
      "[LightGBM] [Warning] feature_fraction is set=0.865045306838842, colsample_bytree=0.7 will be ignored. Current value: feature_fraction=0.865045306838842\n",
      "[LightGBM] [Warning] bagging_fraction is set=0.9114296365882911, subsample=0.9 will be ignored. Current value: bagging_fraction=0.9114296365882911\n",
      "[LightGBM] [Warning] bagging_freq is set=17, subsample_freq=0 will be ignored. Current value: bagging_freq=17\n",
      "Training until validation scores don't improve for 100 rounds\n",
      "[100]\ttraining's l1: 0.983489\tvalid_1's l1: 1.38013\n",
      "[200]\ttraining's l1: 0.978031\tvalid_1's l1: 1.3777\n",
      "[300]\ttraining's l1: 0.971873\tvalid_1's l1: 1.37764\n",
      "[400]\ttraining's l1: 0.960214\tvalid_1's l1: 1.37596\n"
     ]
    },
    {
     "name": "stderr",
     "output_type": "stream",
     "text": [
      "\u001b[32m[I 2021-07-29 20:22:18,829]\u001b[0m Trial 96 finished with value: -1.3755058269359863 and parameters: {'max_depth': 6, 'min_child_weight': 4, 'subsample': 0.9, 'colsample_bytree': 0.7, 'reg_lambda': 0.0029426469960680927, 'reg_alpha': 134.8590873026678, 'feature_fraction': 0.865045306838842, 'bagging_fraction': 0.9114296365882911, 'bagging_freq': 17, 'num_leaves': 891, 'min_child_samples': 76}. Best is trial 94 with value: -1.3667946742041153.\u001b[0m\n"
     ]
    },
    {
     "name": "stdout",
     "output_type": "stream",
     "text": [
      "Early stopping, best iteration is:\n",
      "[360]\ttraining's l1: 0.963897\tvalid_1's l1: 1.37563\n",
      "[LightGBM] [Warning] feature_fraction is set=0.9206675983883356, colsample_bytree=0.8 will be ignored. Current value: feature_fraction=0.9206675983883356\n",
      "[LightGBM] [Warning] bagging_fraction is set=0.5577706782696867, subsample=0.9 will be ignored. Current value: bagging_fraction=0.5577706782696867\n",
      "[LightGBM] [Warning] bagging_freq is set=16, subsample_freq=0 will be ignored. Current value: bagging_freq=16\n",
      "Training until validation scores don't improve for 100 rounds\n",
      "[100]\ttraining's l1: 0.890088\tvalid_1's l1: 1.3732\n"
     ]
    },
    {
     "name": "stderr",
     "output_type": "stream",
     "text": [
      "\u001b[32m[I 2021-07-29 20:22:26,226]\u001b[0m Trial 97 finished with value: -1.3720266080341963 and parameters: {'max_depth': 9, 'min_child_weight': 5, 'subsample': 0.9, 'colsample_bytree': 0.8, 'reg_lambda': 0.008960498851532482, 'reg_alpha': 0.5944588531758479, 'feature_fraction': 0.9206675983883356, 'bagging_fraction': 0.5577706782696867, 'bagging_freq': 16, 'num_leaves': 867, 'min_child_samples': 89}. Best is trial 94 with value: -1.3667946742041153.\u001b[0m\n"
     ]
    },
    {
     "name": "stdout",
     "output_type": "stream",
     "text": [
      "Early stopping, best iteration is:\n",
      "[63]\ttraining's l1: 0.902238\tvalid_1's l1: 1.3721\n",
      "[LightGBM] [Warning] feature_fraction is set=0.8809565801785613, colsample_bytree=0.7 will be ignored. Current value: feature_fraction=0.8809565801785613\n",
      "[LightGBM] [Warning] bagging_fraction is set=0.6578953060097688, subsample=0.9 will be ignored. Current value: bagging_fraction=0.6578953060097688\n",
      "[LightGBM] [Warning] bagging_freq is set=19, subsample_freq=0 will be ignored. Current value: bagging_freq=19\n",
      "Training until validation scores don't improve for 100 rounds\n",
      "[100]\ttraining's l1: 0.936526\tvalid_1's l1: 1.37465\n"
     ]
    },
    {
     "name": "stderr",
     "output_type": "stream",
     "text": [
      "\u001b[32m[I 2021-07-29 20:22:33,097]\u001b[0m Trial 98 finished with value: -1.3745037049260487 and parameters: {'max_depth': 8, 'min_child_weight': 11, 'subsample': 0.9, 'colsample_bytree': 0.7, 'reg_lambda': 0.004392866091455881, 'reg_alpha': 37.58845230698751, 'feature_fraction': 0.8809565801785613, 'bagging_fraction': 0.6578953060097688, 'bagging_freq': 19, 'num_leaves': 952, 'min_child_samples': 82}. Best is trial 94 with value: -1.3667946742041153.\u001b[0m\n"
     ]
    },
    {
     "name": "stdout",
     "output_type": "stream",
     "text": [
      "Early stopping, best iteration is:\n",
      "[85]\ttraining's l1: 0.936655\tvalid_1's l1: 1.37455\n",
      "[LightGBM] [Warning] feature_fraction is set=0.8462648460048284, colsample_bytree=0.8 will be ignored. Current value: feature_fraction=0.8462648460048284\n",
      "[LightGBM] [Warning] bagging_fraction is set=0.5738830231495268, subsample=0.5 will be ignored. Current value: bagging_fraction=0.5738830231495268\n",
      "[LightGBM] [Warning] bagging_freq is set=15, subsample_freq=0 will be ignored. Current value: bagging_freq=15\n",
      "Training until validation scores don't improve for 100 rounds\n",
      "[100]\ttraining's l1: 1.03976\tvalid_1's l1: 1.39364\n",
      "[200]\ttraining's l1: 1.03127\tvalid_1's l1: 1.39047\n",
      "[300]\ttraining's l1: 1.02568\tvalid_1's l1: 1.38763\n",
      "[400]\ttraining's l1: 1.00943\tvalid_1's l1: 1.38222\n",
      "[500]\ttraining's l1: 0.99448\tvalid_1's l1: 1.38073\n",
      "[600]\ttraining's l1: 0.98601\tvalid_1's l1: 1.38503\n"
     ]
    },
    {
     "name": "stderr",
     "output_type": "stream",
     "text": [
      "\u001b[32m[I 2021-07-29 20:22:46,126]\u001b[0m Trial 99 finished with value: -1.379199153529309 and parameters: {'max_depth': 4, 'min_child_weight': 13, 'subsample': 0.5, 'colsample_bytree': 0.8, 'reg_lambda': 0.011609744020418235, 'reg_alpha': 412.4251688342957, 'feature_fraction': 0.8462648460048284, 'bagging_fraction': 0.5738830231495268, 'bagging_freq': 15, 'num_leaves': 918, 'min_child_samples': 76}. Best is trial 94 with value: -1.3667946742041153.\u001b[0m\n"
     ]
    },
    {
     "name": "stdout",
     "output_type": "stream",
     "text": [
      "Early stopping, best iteration is:\n",
      "[532]\ttraining's l1: 0.991524\tvalid_1's l1: 1.37926\n"
     ]
    }
   ],
   "source": [
    "study1, study2, study3, study4 = rt4kaido_train.train_and_evaluate(train, isgamedayonly=False)"
   ]
  },
  {
   "cell_type": "code",
   "execution_count": 23,
   "id": "a87bf5a4",
   "metadata": {},
   "outputs": [
    {
     "name": "stdout",
     "output_type": "stream",
     "text": [
      "best_score = 1.1057620556283398\n"
     ]
    },
    {
     "data": {
      "text/plain": [
       "{'max_depth': 15,\n",
       " 'min_child_weight': 13,\n",
       " 'subsample': 0.6,\n",
       " 'colsample_bytree': 0.5,\n",
       " 'reg_lambda': 30.9319329450672,\n",
       " 'reg_alpha': 0.7515114958383698,\n",
       " 'feature_fraction': 0.9190642982206391,\n",
       " 'bagging_fraction': 0.8602941852412167,\n",
       " 'bagging_freq': 18,\n",
       " 'num_leaves': 841,\n",
       " 'min_child_samples': 39}"
      ]
     },
     "execution_count": 23,
     "metadata": {},
     "output_type": "execute_result"
    }
   ],
   "source": [
    "print(f'best_score = {-study1.best_value}')\n",
    "study1.best_trial.params"
   ]
  },
  {
   "cell_type": "code",
   "execution_count": 24,
   "id": "2b7240cd",
   "metadata": {},
   "outputs": [
    {
     "name": "stdout",
     "output_type": "stream",
     "text": [
      "best_score = 2.1271681303704506\n"
     ]
    },
    {
     "data": {
      "text/plain": [
       "{'max_depth': 15,\n",
       " 'min_child_weight': 10,\n",
       " 'subsample': 0.7,\n",
       " 'colsample_bytree': 0.5,\n",
       " 'reg_lambda': 0.024881742520683536,\n",
       " 'reg_alpha': 0.017345922288425283,\n",
       " 'feature_fraction': 0.9367028357310329,\n",
       " 'bagging_fraction': 0.4918512249239658,\n",
       " 'bagging_freq': 14,\n",
       " 'num_leaves': 778,\n",
       " 'min_child_samples': 93}"
      ]
     },
     "execution_count": 24,
     "metadata": {},
     "output_type": "execute_result"
    }
   ],
   "source": [
    "print(f'best_score = {-study2.best_value}')\n",
    "study2.best_trial.params"
   ]
  },
  {
   "cell_type": "code",
   "execution_count": 25,
   "id": "c0318677",
   "metadata": {},
   "outputs": [
    {
     "name": "stdout",
     "output_type": "stream",
     "text": [
      "best_score = 0.8925821718028284\n"
     ]
    },
    {
     "data": {
      "text/plain": [
       "{'max_depth': 12,\n",
       " 'min_child_weight': 7,\n",
       " 'subsample': 0.6,\n",
       " 'colsample_bytree': 0.8,\n",
       " 'reg_lambda': 0.01788396916254518,\n",
       " 'reg_alpha': 0.03371095673858391,\n",
       " 'feature_fraction': 0.999031125349641,\n",
       " 'bagging_fraction': 0.7149807933910547,\n",
       " 'bagging_freq': 10,\n",
       " 'num_leaves': 725,\n",
       " 'min_child_samples': 91}"
      ]
     },
     "execution_count": 25,
     "metadata": {},
     "output_type": "execute_result"
    }
   ],
   "source": [
    "print(f'best_score = {-study3.best_value}')\n",
    "study3.best_trial.params"
   ]
  },
  {
   "cell_type": "code",
   "execution_count": 26,
   "id": "df45c001",
   "metadata": {},
   "outputs": [
    {
     "name": "stdout",
     "output_type": "stream",
     "text": [
      "best_score = 1.3667946742041153\n"
     ]
    },
    {
     "data": {
      "text/plain": [
       "{'max_depth': 6,\n",
       " 'min_child_weight': 4,\n",
       " 'subsample': 0.9,\n",
       " 'colsample_bytree': 0.8,\n",
       " 'reg_lambda': 0.00848895237283686,\n",
       " 'reg_alpha': 50.46708556901996,\n",
       " 'feature_fraction': 0.9003128313130303,\n",
       " 'bagging_fraction': 0.8113363312593455,\n",
       " 'bagging_freq': 17,\n",
       " 'num_leaves': 888,\n",
       " 'min_child_samples': 75}"
      ]
     },
     "execution_count": 26,
     "metadata": {},
     "output_type": "execute_result"
    }
   ],
   "source": [
    "print(f'best_score = {-study4.best_value}')\n",
    "study4.best_trial.params"
   ]
  },
  {
   "cell_type": "code",
   "execution_count": null,
   "id": "910f8577",
   "metadata": {},
   "outputs": [],
   "source": []
  }
 ],
 "metadata": {
  "kernelspec": {
   "display_name": "Python 3",
   "language": "python",
   "name": "python3"
  },
  "language_info": {
   "codemirror_mode": {
    "name": "ipython",
    "version": 3
   },
   "file_extension": ".py",
   "mimetype": "text/x-python",
   "name": "python",
   "nbconvert_exporter": "python",
   "pygments_lexer": "ipython3",
   "version": "3.6.13"
  }
 },
 "nbformat": 4,
 "nbformat_minor": 5
}
