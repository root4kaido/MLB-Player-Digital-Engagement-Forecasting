{
 "cells": [
  {
   "cell_type": "code",
   "execution_count": 1,
   "id": "e8bf61e7",
   "metadata": {},
   "outputs": [],
   "source": [
    "import gc\n",
    "import os\n",
    "import sys\n",
    "import math\n",
    "import random\n",
    "import warnings\n",
    "import pickle\n",
    "from pathlib import Path\n",
    "from joblib import Parallel, delayed\n",
    "from statsmodels.tsa.deterministic import (CalendarFourier,\n",
    "                                           CalendarSeasonality,\n",
    "                                           CalendarTimeTrend,\n",
    "                                           DeterministicProcess)\n",
    "import pickle\n",
    "import optuna\n",
    "from tqdm import tqdm\n",
    "import os\n",
    "import ipywidgets as widgets\n",
    "import matplotlib.pyplot as plt\n",
    "import numpy as np\n",
    "import pandas as pd\n",
    "import seaborn as sns\n",
    "# from pandarallel import pandarallel\n",
    "# pandarallel.initialize()\n",
    "warnings.simplefilter(\"ignore\")\n",
    "import ctypes as ct\n",
    "from datetime import timedelta\n",
    "\n",
    "from sklearn.metrics import mean_absolute_error\n",
    "\n",
    "import statistics as st\n",
    "import lightgbm as lgbm\n",
    "from scipy.stats import norm"
   ]
  },
  {
   "cell_type": "code",
   "execution_count": 2,
   "id": "204ef156",
   "metadata": {},
   "outputs": [],
   "source": [
    "sys.path.append('../../')\n",
    "import src.utils as utils"
   ]
  },
  {
   "cell_type": "markdown",
   "id": "4ad246f8",
   "metadata": {},
   "source": [
    "## Param"
   ]
  },
  {
   "cell_type": "code",
   "execution_count": 3,
   "id": "7e0f4056",
   "metadata": {},
   "outputs": [],
   "source": [
    "EXP_NUM = 93\n",
    "NFOLDS = 5\n",
    "SEED = 42\n",
    "TRAIN_DATE = 'date < 20210601'"
   ]
  },
  {
   "cell_type": "code",
   "execution_count": 4,
   "id": "f6b61d71",
   "metadata": {},
   "outputs": [],
   "source": [
    "# def set_seed(seed: int = 42):\n",
    "#     random.seed(seed)\n",
    "#     np.random.seed(seed)\n",
    "#     os.environ[\"PYTHONHASHSEED\"] = str(seed)\n",
    "#     torch.manual_seed(seed)\n",
    "#     torch.cuda.manual_seed(seed)  # type: ignore\n",
    "#     torch.backends.cudnn.deterministic = True  # type: ignore\n",
    "#     torch.backends.cudnn.benchmark = False  # type: ignore\n",
    "# set_seed(SEED)"
   ]
  },
  {
   "cell_type": "markdown",
   "id": "db7db861",
   "metadata": {},
   "source": [
    "## Dir"
   ]
  },
  {
   "cell_type": "code",
   "execution_count": 5,
   "id": "3bc6d2da",
   "metadata": {},
   "outputs": [],
   "source": [
    "DATA_DIR = Path(\"/home/knikaido/work/MLB-Player-Digital-Engagement-Forecasting/data/\")\n",
    "MAIN_DATA_DIR = DATA_DIR / 'mlb-player-digital-engagement-forecasting-update'\n",
    "TRAIN_DIR = MAIN_DATA_DIR / 'train'\n",
    "OUTPUT_DIR = Path('./output/')"
   ]
  },
  {
   "cell_type": "code",
   "execution_count": 6,
   "id": "9b37193b",
   "metadata": {},
   "outputs": [],
   "source": [
    "players = pd.read_csv(MAIN_DATA_DIR / 'players.csv')\n",
    "seasons = pd.read_csv(MAIN_DATA_DIR / 'seasons.csv')\n",
    "teams = pd.read_csv(MAIN_DATA_DIR / 'teams.csv')\n",
    "\n",
    "rosters = pd.read_csv(TRAIN_DIR / 'rosters_train.csv').query(TRAIN_DATE)\n",
    "targets = pd.read_csv(TRAIN_DIR / 'nextDayPlayerEngagement_train.csv').query(TRAIN_DATE)\n",
    "scores = pd.read_csv(TRAIN_DIR / 'playerBoxScores_train.csv').query(TRAIN_DATE)\n",
    "scores = scores.groupby(['playerId', 'date']).sum().reset_index()\n",
    "standings = pd.read_csv(TRAIN_DIR / 'standings_train.csv').query(TRAIN_DATE)\n",
    "playerTwitterFollowers = pd.read_csv(TRAIN_DIR / 'playerTwitterFollowers_train.csv').query(TRAIN_DATE)\n",
    "awards = pd.read_csv(TRAIN_DIR / 'awards_train.csv').query(TRAIN_DATE)\n"
   ]
  },
  {
   "cell_type": "code",
   "execution_count": 7,
   "id": "d91b25a8",
   "metadata": {},
   "outputs": [],
   "source": [
    "train_elements_dict = {\"players\":players, \n",
    "                       \"rosters\":rosters, \n",
    "                       \"targets\":targets, \n",
    "                       \"scores\":scores, \n",
    "                       \"seasons\":seasons, \n",
    "                       \"teams\":teams, \n",
    "                       \"standings\":standings,\n",
    "                       'awards':awards}"
   ]
  },
  {
   "cell_type": "code",
   "execution_count": 8,
   "id": "ed12235d",
   "metadata": {},
   "outputs": [],
   "source": [
    "def map_team_name(name):\n",
    "    names = name.split('-')\n",
    "    result = ''\n",
    "    for n in names:\n",
    "        if n == 'st':\n",
    "            n = 'st.'\n",
    "        result += f' {n.capitalize()}'\n",
    "\n",
    "    return result[1:]"
   ]
  },
  {
   "cell_type": "code",
   "execution_count": 9,
   "id": "4feec78e",
   "metadata": {},
   "outputs": [],
   "source": [
    "def calc_corr(df):\n",
    "    # 相関係数行列を作成\n",
    "    corr_mat = df.corr(method='pearson')\n",
    "\n",
    "    # 行（列）サイズを取得\n",
    "    n = corr_mat.shape[0]\n",
    "    corr_ary = []\n",
    "\n",
    "    for i in range(n):\n",
    "        for j in range(i):\n",
    "            if i == j:\n",
    "                continue\n",
    "            corr_ary.append(corr_mat.iloc[i,j])\n",
    "\n",
    "    return corr_ary"
   ]
  },
  {
   "cell_type": "code",
   "execution_count": 10,
   "id": "6cb91659",
   "metadata": {},
   "outputs": [],
   "source": [
    "def calc_probs(pid,df,temp):\n",
    "    to_append=[pid,'','','','','','','','','','','','','','','','','','','','','','','','','','','','','','','','','','']\n",
    "    targets=['target1','target2','target3','target4']\n",
    "    z=1\n",
    "    for target in targets:\n",
    "        target_prob = temp[target].tolist()\n",
    "        mean = np.mean(target_prob)\n",
    "        std = np.std(target_prob)\n",
    "        median = st.median(target_prob)\n",
    "        distribution = norm(mean, std)\n",
    "        min_weight = min(target_prob)\n",
    "        max_weight = max(target_prob)\n",
    "        values = list(np.linspace(min_weight, max_weight))\n",
    "        probabilities = [distribution.pdf(v) for v in values]\n",
    "        max_value = max(probabilities)\n",
    "        max_index = probabilities.index(max_value)\n",
    "        to_append[z]=mean\n",
    "        to_append[z+1]=median\n",
    "        to_append[z+2]=std\n",
    "        to_append[z+3]=min_weight\n",
    "        to_append[z+4]=max_weight\n",
    "        to_append[z+5]=temp[target].skew()\n",
    "        to_append[z+6]=temp[target].kurt()\n",
    "\n",
    "        z=z+7\n",
    "    corr_ = calc_corr(temp[['target1', 'target2', 'target3', 'target4']])\n",
    "    to_append[z:] = corr_  \n",
    "    df_length = len(df)\n",
    "    df.loc[df_length] = to_append\n",
    "    return df"
   ]
  },
  {
   "cell_type": "code",
   "execution_count": 11,
   "id": "b2abc20b",
   "metadata": {},
   "outputs": [],
   "source": [
    "def count_consecutive_items_n_cols(df, col_name_list, output_col):\n",
    "    cum_sum_list = [\n",
    "        (df[col_name] != df[col_name].shift(1)).cumsum().tolist() for col_name in col_name_list\n",
    "    ]\n",
    "    df[output_col] = df.groupby(\n",
    "        [\"_\".join(map(str, x)) for x in zip(*cum_sum_list)]\n",
    "    ).cumcount() + 1\n",
    "    return df"
   ]
  },
  {
   "cell_type": "code",
   "execution_count": 12,
   "id": "c4210b78",
   "metadata": {},
   "outputs": [],
   "source": [
    "def extract_season(date_raw, season_start_end):\n",
    "    idxes = 0\n",
    "    for raw in season_start_end.iloc():\n",
    "        idx_ = ((date_raw >= raw.iloc[0]) & (date_raw <= raw.iloc[1])) * 1\n",
    "        idxes += idx_\n",
    "    return idxes"
   ]
  },
  {
   "cell_type": "code",
   "execution_count": 13,
   "id": "941d7e31",
   "metadata": {},
   "outputs": [],
   "source": [
    "def fit_lgbm(x_train, y_train, x_valid, y_valid, verbose=100):\n",
    "    def opt(trial):\n",
    "        params = {\n",
    "                'random_state': SEED,\n",
    "                'objective':'mae',\n",
    "                'n_estimators': 10000,\n",
    "                'learning_rate': 0.1,\n",
    "                'max_depth': trial.suggest_int('max_depth', 1, 20),\n",
    "                'min_child_weight': trial.suggest_int('min_child_weight', 1, 20),\n",
    "                'subsample': trial.suggest_discrete_uniform('subsample', 0.5, 0.9, 0.1),\n",
    "                'colsample_bytree': trial.suggest_discrete_uniform('colsample_bytree', 0.5, 0.9, 0.1),\n",
    "                'reg_lambda': trial.suggest_loguniform('reg_lambda', 1e-3, 1e3),\n",
    "                'reg_alpha': trial.suggest_loguniform('reg_alpha', 1e-3, 1e3),\n",
    "                'feature_fraction': trial.suggest_uniform('feature_fraction', 0.2, 1.0),\n",
    "                'bagging_fraction': trial.suggest_uniform('bagging_fraction', 0.2, 1.0),\n",
    "                'bagging_freq': trial.suggest_int('bagging_freq', 1, 20),\n",
    "                'num_leaves': trial.suggest_int('num_leaves', 10, 1000),\n",
    "                'min_child_samples': trial.suggest_int('min_child_samples', 5, 100)\n",
    "        }\n",
    "\n",
    "        model_opt = lgbm.LGBMRegressor(**params)\n",
    "\n",
    "        model_opt.fit(x_train, y_train, \n",
    "            eval_set=[(x_train, y_train), (x_valid, y_valid)],  \n",
    "            early_stopping_rounds=verbose, \n",
    "            verbose=verbose)\n",
    "        oof_pred = model_opt.predict(x_valid)\n",
    "        oof_pred = np.clip(oof_pred, 0, 100)\n",
    "        score = mean_absolute_error(oof_pred, y_valid)\n",
    "        return -score\n",
    "    return opt"
   ]
  },
  {
   "cell_type": "code",
   "execution_count": 14,
   "id": "a3ce68bb",
   "metadata": {},
   "outputs": [],
   "source": [
    "# def fit_lgbm(x_train, y_train, x_valid, y_valid, params: dict=None, verbose=100):\n",
    "#     oof_pred = np.zeros(len(y_valid), dtype=np.float32)\n",
    "#     model = lgbm.LGBMRegressor(**params)\n",
    "#     model.fit(x_train, y_train, \n",
    "#         eval_set=[(x_valid, y_valid)],  \n",
    "#         early_stopping_rounds=verbose, \n",
    "#         verbose=verbose)\n",
    "#     oof_pred = model.predict(x_valid)\n",
    "#     oof_pred = np.clip(oof_pred, 0, 100)\n",
    "#     score = mean_absolute_error(oof_pred, y_valid)\n",
    "#     print('mae:', score)\n",
    "#     return oof_pred, model, score"
   ]
  },
  {
   "cell_type": "code",
   "execution_count": 15,
   "id": "0c9a521a",
   "metadata": {},
   "outputs": [],
   "source": [
    "def my_timeseries_fold(train):\n",
    "    \n",
    "    tr_idxs = []\n",
    "    val_idxs = []\n",
    "    \n",
    "    tr_idx = (train['date'].astype(int) < 20200701)\n",
    "    val_idx = (train['date'].astype(int) >= 20200701) & (train['date'].astype(int) < 20200801)\n",
    "    tr_idxs.append(tr_idx)\n",
    "    val_idxs.append(val_idx)\n",
    "        \n",
    "    tr_idx = (train['date'].astype(int) < 20200801)\n",
    "    val_idx = (train['date'].astype(int) >= 20200801) & (train['date'].astype(int) < 20200901)\n",
    "    tr_idxs.append(tr_idx)\n",
    "    val_idxs.append(val_idx)\n",
    "\n",
    "    tr_idx = (train['date'].astype(int) < 20200901)\n",
    "    val_idx = (train['date'].astype(int) >= 20200901) & (train['date'].astype(int) < 20201001)\n",
    "    tr_idxs.append(tr_idx)\n",
    "    val_idxs.append(val_idx)\n",
    "    \n",
    "    tr_idx = (train['date'].astype(int) < 20210401)\n",
    "    val_idx = (train['date'].astype(int) >= 20210401) & (train['date'].astype(int) < 20210501)\n",
    "    tr_idxs.append(tr_idx)\n",
    "    val_idxs.append(val_idx)\n",
    "\n",
    "    tr_idx = (train['date'].astype(int) < 20210501)\n",
    "    val_idx = (train['date'].astype(int) >= 20210501) & (train['date'].astype(int) < 20210601)\n",
    "    tr_idxs.append(tr_idx)\n",
    "    val_idxs.append(val_idx)\n",
    "    \n",
    "    \n",
    "    return tr_idxs, val_idxs"
   ]
  },
  {
   "cell_type": "code",
   "execution_count": 16,
   "id": "698f047a",
   "metadata": {},
   "outputs": [],
   "source": [
    "class Rt4kaidoTrain:\n",
    "    def __init__(self, usetimelinefeature=False):\n",
    "        \n",
    "        self.usetimelinefeature = usetimelinefeature\n",
    "        self.targets_cols = ['playerId', 'target1', 'target2', 'target3', 'target4', 'date']\n",
    "        self.players_cols = ['playerId', 'primaryPositionName', 'birthCity', 'DOY', 'mlbDebutYear', 'mlbDebutDate', 'DebutAge', 'heightInches', 'weight', 'playerForTestSetAndFuturePreds']\n",
    "        self.rosters_cols = ['playerId', 'teamId', 'status', 'date']\n",
    "        self.salaries_cols = ['teamId', 'salary', 'year']\n",
    "        self.standings_cols = ['teamId', 'wildCardRank', 'sportGamesBack', 'date']\n",
    "        self.transactions_cols = ['playerId', 'transaction_flag', 'date']\n",
    "        self.stat_cols = [\"playerId\", \"target1_mean\",\"target1_median\",\"target1_std\",\"target1_min\",\"target1_max\",\"target1_skew\",\"target1_kurt\",\n",
    "                        \"target2_mean\",\"target2_median\",\"target2_std\",\"target2_min\",\"target2_max\",\"target2_skew\",\"target2_kurt\",\n",
    "                        \"target3_mean\",\"target3_median\",\"target3_std\",\"target3_min\",\"target3_max\",\"target3_skew\",\"target3_kurt\",\n",
    "                        \"target4_mean\",\"target4_median\",\"target4_std\",\"target4_min\",\"target4_max\",\"target4_skew\",\"target4_kurt\",\n",
    "                        'tgt1_2_corr', 'tgt1_3_corr', 'tgt2_3_corr', 'tgt1_4_corr', 'tgt2_4_corr', 'tgt3_4_corr']\n",
    "\n",
    "        self.scores_cols = ['playerId', 'battingOrder', 'gamesPlayedBatting', 'flyOuts',\n",
    "               'groundOuts', 'runsScored', 'doubles', 'triples', 'homeRuns',\n",
    "               'strikeOuts', 'baseOnBalls', 'intentionalWalks', 'hits', 'hitByPitch',\n",
    "               'atBats', 'caughtStealing', 'stolenBases', 'groundIntoDoublePlay',\n",
    "               'groundIntoTriplePlay', 'plateAppearances', 'totalBases', 'rbi',\n",
    "               'leftOnBase', 'sacBunts', 'sacFlies', 'catchersInterference',\n",
    "               'pickoffs', 'gamesPlayedPitching', 'gamesStartedPitching',\n",
    "               'completeGamesPitching', 'shutoutsPitching', 'winsPitching',\n",
    "               'lossesPitching', 'flyOutsPitching', 'airOutsPitching',\n",
    "               'groundOutsPitching', 'runsPitching', 'doublesPitching',\n",
    "               'triplesPitching', 'homeRunsPitching', 'strikeOutsPitching',\n",
    "               'baseOnBallsPitching', 'intentionalWalksPitching', 'hitsPitching',\n",
    "               'hitByPitchPitching', 'atBatsPitching', 'caughtStealingPitching',\n",
    "               'stolenBasesPitching', 'inningsPitched', 'saveOpportunities',\n",
    "               'earnedRuns', 'battersFaced', 'outsPitching', 'pitchesThrown', 'balls',\n",
    "               'strikes', 'hitBatsmen', 'balks', 'wildPitches', 'pickoffsPitching',\n",
    "               'rbiPitching', 'gamesFinishedPitching', 'inheritedRunners',\n",
    "               'inheritedRunnersScored', 'catchersInterferencePitching',\n",
    "               'sacBuntsPitching', 'sacFliesPitching', 'saves', 'holds', 'blownSaves',\n",
    "               'assists', 'putOuts', 'errors', 'chances', 'date']\n",
    "\n",
    "        self.feature_cols1 = ['week_day','label_playerId', 'label_primaryPositionName', 'label_teamId',\n",
    "               'label_status', 'battingOrder', 'gamesPlayedBatting', 'flyOuts',\n",
    "               'groundOuts', 'runsScored', 'doubles', 'triples', 'homeRuns',\n",
    "               'strikeOuts', 'baseOnBalls', 'intentionalWalks', 'hits', 'hitByPitch',\n",
    "               'atBats', 'caughtStealing', 'stolenBases', 'groundIntoDoublePlay',\n",
    "               'groundIntoTriplePlay', 'plateAppearances', 'totalBases', 'rbi',\n",
    "               'leftOnBase', 'sacBunts', 'sacFlies', 'catchersInterference',\n",
    "               'pickoffs', 'gamesPlayedPitching', 'gamesStartedPitching',\n",
    "               'completeGamesPitching', 'shutoutsPitching', 'winsPitching',\n",
    "               'lossesPitching', 'flyOutsPitching', 'airOutsPitching',\n",
    "               'groundOutsPitching', 'runsPitching', 'doublesPitching',\n",
    "               'triplesPitching', 'homeRunsPitching', 'strikeOutsPitching',\n",
    "               'baseOnBallsPitching', 'intentionalWalksPitching', 'hitsPitching',\n",
    "               'hitByPitchPitching', 'atBatsPitching', 'caughtStealingPitching',\n",
    "               'stolenBasesPitching', 'inningsPitched', 'saveOpportunities',\n",
    "               'earnedRuns', 'battersFaced', 'outsPitching', 'pitchesThrown', 'balls',\n",
    "               'strikes', 'hitBatsmen', 'balks', 'wildPitches', 'pickoffsPitching',\n",
    "               'rbiPitching', 'gamesFinishedPitching', 'inheritedRunners',\n",
    "               'inheritedRunnersScored', 'catchersInterferencePitching',\n",
    "               'sacBuntsPitching', 'sacFliesPitching', 'saves', 'holds', 'blownSaves',\n",
    "               'assists', 'putOuts', 'errors', 'chances',\n",
    "                'season_info', 'wildCardRank', 'award_flag'] \n",
    "\n",
    "        self.feature_cols2 = ['label_playerId', 'label_primaryPositionName', 'label_teamId',\n",
    "               'label_status', 'battingOrder', 'gamesPlayedBatting', 'flyOuts',\n",
    "               'groundOuts', 'runsScored', 'doubles', 'triples', 'homeRuns',\n",
    "               'strikeOuts', 'baseOnBalls', 'intentionalWalks', 'hits', 'hitByPitch',\n",
    "               'atBats', 'caughtStealing', 'stolenBases', 'groundIntoDoublePlay',\n",
    "               'groundIntoTriplePlay', 'plateAppearances', 'totalBases', 'rbi',\n",
    "               'leftOnBase', 'sacBunts', 'sacFlies', 'catchersInterference',\n",
    "               'pickoffs', 'gamesPlayedPitching', 'gamesStartedPitching',\n",
    "               'completeGamesPitching', 'shutoutsPitching', 'winsPitching',\n",
    "               'lossesPitching', 'flyOutsPitching', 'airOutsPitching',\n",
    "               'groundOutsPitching', 'runsPitching', 'doublesPitching',\n",
    "               'triplesPitching', 'homeRunsPitching', 'strikeOutsPitching',\n",
    "               'baseOnBallsPitching', 'intentionalWalksPitching', 'hitsPitching',\n",
    "               'hitByPitchPitching', 'atBatsPitching', 'caughtStealingPitching',\n",
    "               'stolenBasesPitching', 'inningsPitched', 'saveOpportunities',\n",
    "               'earnedRuns', 'battersFaced', 'outsPitching', 'pitchesThrown', 'balls',\n",
    "               'strikes', 'hitBatsmen', 'balks', 'wildPitches', 'pickoffsPitching',\n",
    "               'rbiPitching', 'gamesFinishedPitching', 'inheritedRunners',\n",
    "               'inheritedRunnersScored', 'catchersInterferencePitching',\n",
    "               'sacBuntsPitching', 'sacFliesPitching', 'saves', 'holds', 'blownSaves',\n",
    "               'assists', 'putOuts', 'errors', 'chances',\n",
    "                'season_info', 'wildCardRank', 'award_flag'] \n",
    "\n",
    "        self.feature_cols3 = ['week_day','label_playerId', 'label_primaryPositionName', 'label_teamId',\n",
    "               'label_status', 'battingOrder', 'gamesPlayedBatting', 'flyOuts',\n",
    "               'groundOuts', 'runsScored', 'doubles', 'triples', 'homeRuns',\n",
    "               'strikeOuts', 'baseOnBalls', 'intentionalWalks', 'hits', 'hitByPitch',\n",
    "               'atBats', 'caughtStealing', 'stolenBases', 'groundIntoDoublePlay',\n",
    "               'groundIntoTriplePlay', 'plateAppearances', 'totalBases', 'rbi',\n",
    "               'leftOnBase', 'sacBunts', 'sacFlies', 'catchersInterference',\n",
    "               'pickoffs', 'gamesPlayedPitching', 'gamesStartedPitching',\n",
    "               'completeGamesPitching', 'shutoutsPitching', 'winsPitching',\n",
    "               'lossesPitching', 'flyOutsPitching', 'airOutsPitching',\n",
    "               'groundOutsPitching', 'runsPitching', 'doublesPitching',\n",
    "               'triplesPitching', 'homeRunsPitching', 'strikeOutsPitching',\n",
    "               'baseOnBallsPitching', 'intentionalWalksPitching', 'hitsPitching',\n",
    "               'hitByPitchPitching', 'atBatsPitching', 'caughtStealingPitching',\n",
    "               'stolenBasesPitching', 'inningsPitched', 'saveOpportunities',\n",
    "               'earnedRuns', 'battersFaced', 'outsPitching', 'pitchesThrown', 'balls',\n",
    "               'strikes', 'hitBatsmen', 'balks', 'wildPitches', 'pickoffsPitching',\n",
    "               'rbiPitching', 'gamesFinishedPitching', 'inheritedRunners',\n",
    "               'inheritedRunnersScored', 'catchersInterferencePitching',\n",
    "               'sacBuntsPitching', 'sacFliesPitching', 'saves', 'holds', 'blownSaves',\n",
    "               'assists', 'putOuts', 'errors', 'chances',\n",
    "                'season_info', 'wildCardRank', 'diffmlbDebutDateflag', 'sincemlbDebutDateflag', 'award_flag'] \n",
    "\n",
    "        self.feature_cols4 = ['week_day', 'annual_day', 'month', 'label_playerId', 'label_primaryPositionName', 'label_teamId', 'label_birthCity',\n",
    "                        'DOY', 'mlbDebutYear', 'DebutAge', 'heightInches', 'weight',\n",
    "               'label_status', 'battingOrder', 'gamesPlayedBatting', 'flyOuts',\n",
    "               'groundOuts', 'runsScored', 'doubles', 'triples', 'homeRuns',\n",
    "               'strikeOuts', 'baseOnBalls', 'intentionalWalks', 'hits', 'hitByPitch',\n",
    "               'atBats', 'caughtStealing', 'stolenBases', 'groundIntoDoublePlay',\n",
    "               'groundIntoTriplePlay', 'plateAppearances', 'totalBases', 'rbi',\n",
    "               'leftOnBase', 'sacBunts', 'sacFlies', 'catchersInterference',\n",
    "               'pickoffs', 'gamesPlayedPitching', 'gamesStartedPitching',\n",
    "               'completeGamesPitching', 'shutoutsPitching', 'winsPitching',\n",
    "               'lossesPitching', 'flyOutsPitching', 'airOutsPitching',\n",
    "               'groundOutsPitching', 'runsPitching', 'doublesPitching',\n",
    "               'triplesPitching', 'homeRunsPitching', 'strikeOutsPitching',\n",
    "               'baseOnBallsPitching', 'intentionalWalksPitching', 'hitsPitching',\n",
    "               'hitByPitchPitching', 'atBatsPitching', 'caughtStealingPitching',\n",
    "               'stolenBasesPitching', 'inningsPitched', 'saveOpportunities',\n",
    "               'earnedRuns', 'battersFaced', 'outsPitching', 'pitchesThrown', 'balls',\n",
    "               'strikes', 'hitBatsmen', 'balks', 'wildPitches', 'pickoffsPitching',\n",
    "               'rbiPitching', 'gamesFinishedPitching', 'inheritedRunners',\n",
    "               'inheritedRunnersScored', 'catchersInterferencePitching',\n",
    "               'sacBuntsPitching', 'sacFliesPitching', 'saves', 'holds', 'blownSaves',\n",
    "               'assists', 'putOuts', 'errors', 'chances',\n",
    "                'season_info', 'wildCardRank', 'diffmlbDebutDateflag', 'sincemlbDebutDateflag', 'award_flag'] \n",
    "        \n",
    "        \n",
    "        # lightgbm\n",
    "        self.params1 = {'objective':'mae',\n",
    "                       'reg_alpha': 0.14947461820098767, \n",
    "                       'reg_lambda': 0.10185644384043743, \n",
    "                       'n_estimators': 3633, \n",
    "                       'learning_rate': 0.08046301304430488, \n",
    "                       'num_leaves': 674, \n",
    "                       'feature_fraction': 0.9101240539122566, \n",
    "                       'bagging_fraction': 0.9884451442950513, \n",
    "                       'bagging_freq': 8, \n",
    "                       'min_child_samples': 51}\n",
    "\n",
    "\n",
    "        self.params2 = {'objective':'mae',\n",
    "                       'reg_alpha': 0.1,\n",
    "                       'reg_lambda': 0.1, \n",
    "                       'n_estimators': 80,\n",
    "                       'learning_rate': 0.1,\n",
    "                       'random_state': 42,\n",
    "                       \"num_leaves\": 22}\n",
    "\n",
    "\n",
    "\n",
    "        self.params3 = {'objective':'mae',\n",
    "                       'reg_alpha': 0.1,\n",
    "                       'reg_lambda': 0.1, \n",
    "                       'n_estimators': 10000,\n",
    "                       'learning_rate': 0.1,\n",
    "                       'random_state': 42,\n",
    "                       \"num_leaves\": 100}\n",
    "\n",
    "        self.params4 = {'objective':'mae',\n",
    "                       'reg_alpha': 0.016468100279441976, \n",
    "                       'reg_lambda': 0.09128335764019105, \n",
    "                       'n_estimators': 9868, \n",
    "                       'learning_rate': 0.10528150510326864, \n",
    "                       'num_leaves': 157, \n",
    "                       'feature_fraction': 0.5419185713426886, \n",
    "                       'bagging_fraction': 0.2637405128936662, \n",
    "                       'bagging_freq': 19, \n",
    "                       'min_child_samples': 71}\n",
    "\n",
    "    def make_feature(self, train_elements_dict):\n",
    "\n",
    "        players = train_elements_dict['players']\n",
    "        rosters = train_elements_dict['rosters']\n",
    "        targets = train_elements_dict['targets']\n",
    "        scores = train_elements_dict['scores']\n",
    "        seasons = train_elements_dict['seasons']\n",
    "        teams = train_elements_dict['teams']\n",
    "        standings = train_elements_dict['standings']\n",
    "\n",
    "        print('calc target stat ... ', end=\"\")\n",
    "\n",
    "        ## target stats\n",
    "        targets_train = targets.merge(rosters[self.rosters_cols], on=['playerId', 'date'], how='left')\n",
    "        targets_train = targets_train[(targets_train['date'] >= 20210501) & (targets_train['date'] < 20210601)]\n",
    "\n",
    "        playerId_list = targets_train['playerId'].unique()\n",
    "        player_target_probs = pd.DataFrame(columns = self.stat_cols)  \n",
    "        for pid in tqdm(playerId_list):\n",
    "            temp = targets_train[targets_train['playerId'] == pid]\n",
    "            player_target_stats=calc_probs(pid,player_target_probs,temp)\n",
    "\n",
    "        teamId_list = targets_train['teamId'].dropna().unique()\n",
    "        team_target_probs = pd.DataFrame(columns = self.stat_cols)\n",
    "        for pid in tqdm(teamId_list):\n",
    "            temp = targets_train[targets_train['teamId'] == pid]\n",
    "            team_target_stats=calc_probs(pid,team_target_probs,temp)\n",
    "\n",
    "        team_stat_cols = self.stat_cols\n",
    "        team_stat_cols = team_stat_cols[:1] + [\"team_\" + word for word in team_stat_cols[1:]]\n",
    "        team_target_stats.columns = team_stat_cols\n",
    "\n",
    "        self.feature_cols1 += self.stat_cols[1:-6]\n",
    "        self.feature_cols2 += self.stat_cols[1:-6]\n",
    "        self.feature_cols3 += self.stat_cols[1:-6]\n",
    "        self.feature_cols4 += self.stat_cols[1:-6]\n",
    "\n",
    "        self.feature_cols1 += team_stat_cols[1:]\n",
    "        self.feature_cols2 += team_stat_cols[1:]\n",
    "        self.feature_cols3 += team_stat_cols[1:]\n",
    "        self.feature_cols4 += team_stat_cols[1:]\n",
    "\n",
    "        print('done.')\n",
    "\n",
    "        print('preprocess ... ', end=\"\")\n",
    "        ## salaries\n",
    "        # salaries = salaries.groupby(['year', 'team']).sum()['salary'].reset_index()\n",
    "        # salaries['team'] = salaries['team'].apply(map_team_name)\n",
    "        # salaries = salaries.merge(teams, left_on='team', right_on='name', how='inner')\n",
    "        # salaries = salaries.rename(columns={'id': 'teamId'})\n",
    "\n",
    "        ## seasons\n",
    "        seasons = seasons.fillna('0000-00-00')\n",
    "        for c_ in seasons.columns[1:]:\n",
    "            seasons[c_] = seasons[c_].str.replace('-', '').astype(int)\n",
    "\n",
    "        ## players\n",
    "        players['DOY'] = pd.to_datetime(players['DOB'], format=\"%Y-%m-%d\").dt.year\n",
    "        players['mlbDebutYear'] = pd.to_datetime(players['mlbDebutDate'], format=\"%Y-%m-%d\").dt.year\n",
    "        players['DebutAge'] = players['mlbDebutYear'] - players['DOY']\n",
    "        players['mlbDebutDate'] = pd.to_numeric(players['mlbDebutDate'].str.replace('-', ''), errors=\"coerce\")\n",
    "\n",
    "        print('done.')\n",
    "\n",
    "        print('creat feature ... ', end=\"\")\n",
    "        # creat feature\n",
    "        train = targets[self.targets_cols].merge(players[self.players_cols], on=['playerId'], how='left')\n",
    "        train = train.merge(rosters[self.rosters_cols], on=['playerId', 'date'], how='left')\n",
    "        train = train.merge(scores[self.scores_cols], on=['playerId', 'date'], how='left')\n",
    "        train = train.merge(player_target_stats, how='inner', left_on=[\"playerId\"],right_on=[\"playerId\"])\n",
    "        train = train.merge(standings[self.standings_cols], on=['teamId', 'date'], how='left')\n",
    "        train = train.merge(team_target_stats, how='left', left_on=[\"teamId\"],right_on=[\"playerId\"], suffixes=('', 'team_'))\n",
    "        train = train.merge(awards, on=['playerId', 'date'], how='left')\n",
    "\n",
    "        \n",
    "        date_ = pd.to_datetime(train['date'], format=\"%Y%m%d\")\n",
    "        train['annual_day'] = (date_ - pd.to_datetime(date_.dt.year, format=\"%Y\")) /  timedelta(days=1)\n",
    "        train['week_day'] = date_.dt.weekday\n",
    "        train['month'] = date_.dt.month\n",
    "        train['year'] = date_.dt.year\n",
    "        train['mlbDebutDateflag'] = (train['mlbDebutDate'] == train['date']) * 1\n",
    "        train['sincemlbDebutDateflag'] = (train['date'] >= train['mlbDebutDate']) * 1\n",
    "        train['diffmlbDebutDateflag'] = (train['date'] - train['mlbDebutDate'])\n",
    "\n",
    "        # label encoding\n",
    "        player2num = {c: i for i, c in enumerate(train['playerId'].unique())}\n",
    "        position2num = {c: i for i, c in enumerate(train['primaryPositionName'].unique())}\n",
    "        birthCityn2num = {c: i for i, c in enumerate(train['birthCity'].unique())}\n",
    "        teamid2num = {c: i for i, c in enumerate(train['teamId'].unique())}\n",
    "        status2num = {c: i for i, c in enumerate(train['status'].unique())}\n",
    "        awardName2num = {c: i for i, c in enumerate(train['awardName'].unique())}\n",
    "        train['label_playerId'] = train['playerId'].map(player2num)\n",
    "        train['label_primaryPositionName'] = train['primaryPositionName'].map(position2num)\n",
    "        train['label_birthCity'] = train['birthCity'].map(birthCityn2num)\n",
    "        train['label_teamId'] = train['teamId'].map(teamid2num)\n",
    "        train['label_status'] = train['status'].map(status2num)\n",
    "        train['award_flag'] = train['awardSeason'].isna()*1\n",
    "\n",
    "\n",
    "        ## season_info\n",
    "        on_preseason_idxes = extract_season(train['date'], seasons[['preSeasonStartDate', 'preSeasonEndDate']])\n",
    "        on_season_idxes = extract_season(train['date'], seasons[['regularSeasonStartDate', 'regularSeasonEndDate']]) * 2\n",
    "        on_postseason_idxes = extract_season(train['date'], seasons[['postSeasonStartDate', 'postSeasonEndDate']]) * 3\n",
    "\n",
    "        special_days = seasons['lastDate1stHalf'].to_list() + seasons['allStarDate'].to_list() + seasons['firstDate2ndHalf'].to_list()\n",
    "        special_idxes = 0\n",
    "        for day in special_days:\n",
    "            special_idxes += (train['date'] == day) * 4\n",
    "\n",
    "        on_total_season_idxes = on_preseason_idxes\n",
    "        on_total_season_idxes[on_season_idxes==2] = 2\n",
    "        on_total_season_idxes[on_postseason_idxes==3] = 3\n",
    "        on_total_season_idxes[special_idxes==4] = 4\n",
    "\n",
    "        train['season_info'] = on_total_season_idxes\n",
    "\n",
    "        ## only on season\n",
    "        on_whole_idxes = extract_season(train['date'], seasons[['seasonStartDate', 'seasonEndDate']])\n",
    "        train = train[on_whole_idxes == 1].reset_index(drop=True)\n",
    "\n",
    "        # train = train.merge(playerTwitterFollowers, how='left', on=[\"playerId\", 'date'])\n",
    "\n",
    "        ## only test_player\n",
    "#         train = train[train['playerForTestSetAndFuturePreds']==True].reset_index(drop=True)\n",
    "\n",
    "        print('done.')\n",
    "        \n",
    "        train_features_dict = {'players': players,\n",
    "                               'seasons': seasons,\n",
    "                                'player_target_stats': player_target_stats,\n",
    "                                'team_target_stats': team_target_stats,\n",
    "                                'player2num': player2num, \n",
    "                                'position2num': position2num, \n",
    "                                'birthCityn2num': birthCityn2num,\n",
    "                                'teamid2num': teamid2num,\n",
    "                                'status2num': status2num,\n",
    "                                'feature_cols1': self.feature_cols1,\n",
    "                                'feature_cols2': self.feature_cols2,\n",
    "                                'feature_cols3': self.feature_cols3,\n",
    "                                'feature_cols4': self.feature_cols4,\n",
    "                                'rosters_cols_all': list(rosters.columns),\n",
    "                                'scores_cols_all': list(scores.columns),\n",
    "                                'standings_cols_all': list(standings.columns),\n",
    "                                'awards_cols_all': list(awards.columns)\n",
    "                              }\n",
    "        \n",
    "        if self.usetimelinefeature:\n",
    "            ## game_info\n",
    "            train['gameday'] = ~train['battingOrder'].isna()*1\n",
    "            train.sort_values(by=['playerId','date'],inplace=True,ascending=True)\n",
    "\n",
    "            train=count_consecutive_items_n_cols(train,['playerId','gameday'],'daysSinceLastGame')\n",
    "            train.loc[train['gameday']==1,'daysSinceLastGame'] = 0\n",
    "\n",
    "            train_game = train[train['gameday']==1]\n",
    "            train_last_game = train_game[~train_game.duplicated(subset='playerId', keep='last')][['playerId', 'date']]\n",
    "            train_last_game.columns = ['playerId', 'lastdate']\n",
    "            train_player_unique = pd.DataFrame(train['playerId'].unique(), columns=['playerId'])\n",
    "            train_last_game = pd.merge(train_player_unique, train_last_game, on=['playerId'], how='left' )\n",
    "            train_last_game = train_last_game.fillna(20171231)\n",
    "            \n",
    "            train_features_dict['train_last_game'] = train_last_game\n",
    "            self.feature_cols1 += ['daysSinceLastGame']\n",
    "            self.feature_cols2 += ['daysSinceLastGame']\n",
    "            self.feature_cols3 += ['daysSinceLastGame']\n",
    "            self.feature_cols4 += ['daysSinceLastGame']\n",
    "            \n",
    "            \n",
    "            ## rosters_info\n",
    "            train['rosterday'] = ~train['status'].isna()*1\n",
    "            train.sort_values(by=['playerId','date'],inplace=True,ascending=True)\n",
    "\n",
    "            train=count_consecutive_items_n_cols(train,['playerId','rosterday'],'daysSinceLastRoster')\n",
    "            train.loc[train['rosterday']==1,'daysSinceLastRoster'] = 0\n",
    "\n",
    "            train_roster= train[train['rosterday']==1]\n",
    "            train_last_roster = train_roster[~train_roster.duplicated(subset='playerId', keep='last')][['playerId', 'date']]\n",
    "            train_last_roster.columns = ['playerId', 'lastroster']\n",
    "            train_player_unique = pd.DataFrame(train['playerId'].unique(), columns=['playerId'])\n",
    "            train_last_roster = pd.merge(train_player_unique, train_last_roster, on=['playerId'], how='left' )\n",
    "            train_last_roster = train_last_roster.fillna(20171231)\n",
    "            \n",
    "            train_features_dict['train_last_roster'] = train_last_roster\n",
    "            self.feature_cols1 += ['daysSinceLastRoster']\n",
    "            self.feature_cols2 += ['daysSinceLastRoster']\n",
    "            self.feature_cols3 += ['daysSinceLastRoster']\n",
    "            self.feature_cols4 += ['daysSinceLastRoster']\n",
    "\n",
    "\n",
    "        return train, train_features_dict\n",
    "    \n",
    "    def train_and_evaluate(self, train, isgamedayonly=False):\n",
    "        \n",
    "        if isgamedayonly:\n",
    "            train = train[train['gameday'] == 1].reset_index(drop=True)\n",
    "            \n",
    "        train_X = train\n",
    "        train_y = train[['target1', 'target2', 'target3', 'target4']]\n",
    "\n",
    "        oof = np.zeros(train_y.shape) - 1.0\n",
    "        y_valids = np.zeros(train_y.shape) - 1.0\n",
    "\n",
    "        tr_idx = (train['date'].astype(int) < 20210401)\n",
    "        val_idx = ~tr_idx\n",
    "\n",
    "        x_train = train_X.loc[tr_idx].reset_index(drop=True)\n",
    "        y_train = train_y.loc[tr_idx].reset_index(drop=True)\n",
    "        x_valid = train_X.loc[val_idx].reset_index(drop=True)\n",
    "        y_valid = train_y.loc[val_idx].reset_index(drop=True)\n",
    "\n",
    "        study1 = optuna.create_study(direction='maximize')\n",
    "        study1.optimize(fit_lgbm(x_train[self.feature_cols1], y_train['target1'], \n",
    "                                 x_valid[self.feature_cols1], y_valid['target1']), n_trials=100)\n",
    "        \n",
    "        study2 = optuna.create_study(direction='maximize')\n",
    "        study2.optimize(fit_lgbm(x_train[self.feature_cols2], y_train['target2'], \n",
    "                                 x_valid[self.feature_cols2], y_valid['target2']), n_trials=100)\n",
    "        \n",
    "        study3 = optuna.create_study(direction='maximize')\n",
    "        study3.optimize(fit_lgbm(x_train[self.feature_cols3], y_train['target3'], \n",
    "                                 x_valid[self.feature_cols3], y_valid['target3']), n_trials=100)\n",
    "        \n",
    "        study4 = optuna.create_study(direction='maximize')\n",
    "        study4.optimize(fit_lgbm(x_train[self.feature_cols4], y_train['target4'], \n",
    "                                 x_valid[self.feature_cols4], y_valid['target4']), n_trials=100)\n",
    "\n",
    "#         oof1, model1, score1 = fit_lgbm(\n",
    "#             x_train[self.feature_cols1], y_train['target1'],\n",
    "#             x_valid[self.feature_cols1], y_valid['target1'],\n",
    "# #             self.params1\n",
    "#         )\n",
    "#         oof2, model2, score2 = fit_lgbm(\n",
    "#             x_train[self.feature_cols2], y_train['target2'],\n",
    "#             x_valid[self.feature_cols2], y_valid['target2'],\n",
    "# #             self.params2\n",
    "#         )\n",
    "#         oof3, model3, score3 = fit_lgbm(\n",
    "#             x_train[self.feature_cols3], y_train['target3'],\n",
    "#             x_valid[self.feature_cols3], y_valid['target3'],\n",
    "# #             self.params3\n",
    "#         )\n",
    "#         oof4, model4, score4 = fit_lgbm(\n",
    "#             x_train[self.feature_cols4], y_train['target4'],\n",
    "#             x_valid[self.feature_cols4], y_valid['target4'],\n",
    "# #             self.params4\n",
    "#         )\n",
    "\n",
    "#         score = (score1+score2+score3+score4) / 4\n",
    "#         print(f'score: {score}')\n",
    "\n",
    "#         oof[val_idx, 0] = oof1\n",
    "#         oof[val_idx, 1] = oof2\n",
    "#         oof[val_idx, 2] = oof3\n",
    "#         oof[val_idx, 3] = oof4\n",
    "#         y_valids[val_idx, 0] = y_valid['target1'].values\n",
    "#         y_valids[val_idx, 1] = y_valid['target2'].values\n",
    "#         y_valids[val_idx, 2] = y_valid['target3'].values\n",
    "#         y_valids[val_idx, 3] = y_valid['target4'].values\n",
    "\n",
    "#         mae = mean_absolute_error(y_valids[val_idx, :], oof[val_idx, :])\n",
    "#         print(\"mae:\", mae)\n",
    "\n",
    "#         val_idx_num = val_idx[val_idx==True].index.to_list()\n",
    "\n",
    "#         oof_df = train[self.targets_cols]\n",
    "#         oof_df.iloc[val_idx_num, 1:5] = oof[val_idx_num, :]\n",
    "\n",
    "#         models = np.array([model1, model2, model3, model4])\n",
    "\n",
    "        return study1, study2, study3, study4"
   ]
  },
  {
   "cell_type": "code",
   "execution_count": 17,
   "id": "8bdef156",
   "metadata": {},
   "outputs": [
    {
     "name": "stdout",
     "output_type": "stream",
     "text": [
      "calc target stat ... "
     ]
    },
    {
     "name": "stderr",
     "output_type": "stream",
     "text": [
      "100%|██████████| 2061/2061 [00:45<00:00, 44.81it/s]\n",
      "100%|██████████| 30/30 [00:00<00:00, 42.25it/s]\n"
     ]
    },
    {
     "name": "stdout",
     "output_type": "stream",
     "text": [
      "done.\n",
      "preprocess ... done.\n",
      "creat feature ... done.\n"
     ]
    }
   ],
   "source": [
    "rt4kaido_train = Rt4kaidoTrain(usetimelinefeature=True)\n",
    "train, train_features_dict = rt4kaido_train.make_feature(train_elements_dict)"
   ]
  },
  {
   "cell_type": "code",
   "execution_count": 18,
   "id": "d0a3e65f",
   "metadata": {},
   "outputs": [
    {
     "name": "stderr",
     "output_type": "stream",
     "text": [
      "\u001b[32m[I 2021-07-30 00:00:27,039]\u001b[0m A new study created in memory with name: no-name-341f0407-ab17-4204-816d-e2b05b4b6f6c\u001b[0m\n"
     ]
    },
    {
     "name": "stdout",
     "output_type": "stream",
     "text": [
      "[LightGBM] [Warning] feature_fraction is set=0.9916094940787719, colsample_bytree=0.7 will be ignored. Current value: feature_fraction=0.9916094940787719\n",
      "[LightGBM] [Warning] bagging_fraction is set=0.3333721983789511, subsample=0.8 will be ignored. Current value: bagging_fraction=0.3333721983789511\n",
      "[LightGBM] [Warning] bagging_freq is set=15, subsample_freq=0 will be ignored. Current value: bagging_freq=15\n",
      "Training until validation scores don't improve for 100 rounds\n",
      "[100]\ttraining's l1: 2.68603\tvalid_1's l1: 2.70163\n",
      "[200]\ttraining's l1: 2.65024\tvalid_1's l1: 2.66589\n",
      "[300]\ttraining's l1: 2.63679\tvalid_1's l1: 2.65075\n",
      "[400]\ttraining's l1: 2.62928\tvalid_1's l1: 2.64582\n",
      "[500]\ttraining's l1: 2.62454\tvalid_1's l1: 2.64388\n",
      "[600]\ttraining's l1: 2.61879\tvalid_1's l1: 2.63479\n",
      "[700]\ttraining's l1: 2.61278\tvalid_1's l1: 2.63175\n",
      "[800]\ttraining's l1: 2.60883\tvalid_1's l1: 2.62965\n",
      "[900]\ttraining's l1: 2.60546\tvalid_1's l1: 2.62882\n",
      "[1000]\ttraining's l1: 2.60297\tvalid_1's l1: 2.62646\n",
      "[1100]\ttraining's l1: 2.59831\tvalid_1's l1: 2.62517\n",
      "[1200]\ttraining's l1: 2.59646\tvalid_1's l1: 2.62504\n",
      "[1300]\ttraining's l1: 2.59517\tvalid_1's l1: 2.62271\n",
      "[1400]\ttraining's l1: 2.59333\tvalid_1's l1: 2.62135\n",
      "[1500]\ttraining's l1: 2.59157\tvalid_1's l1: 2.62222\n",
      "Early stopping, best iteration is:\n",
      "[1455]\ttraining's l1: 2.5926\tvalid_1's l1: 2.62076\n"
     ]
    },
    {
     "name": "stderr",
     "output_type": "stream",
     "text": [
      "\u001b[32m[I 2021-07-30 00:00:31,846]\u001b[0m Trial 0 finished with value: -2.6192026005440248 and parameters: {'max_depth': 3, 'min_child_weight': 2, 'subsample': 0.8, 'colsample_bytree': 0.7, 'reg_lambda': 0.0025179422524448745, 'reg_alpha': 4.795741619609435, 'feature_fraction': 0.9916094940787719, 'bagging_fraction': 0.3333721983789511, 'bagging_freq': 15, 'num_leaves': 727, 'min_child_samples': 72}. Best is trial 0 with value: -2.6192026005440248.\u001b[0m\n"
     ]
    },
    {
     "name": "stdout",
     "output_type": "stream",
     "text": [
      "[LightGBM] [Warning] feature_fraction is set=0.810831473757962, colsample_bytree=0.6 will be ignored. Current value: feature_fraction=0.810831473757962\n",
      "[LightGBM] [Warning] bagging_fraction is set=0.9794271244078459, subsample=0.5 will be ignored. Current value: bagging_fraction=0.9794271244078459\n",
      "[LightGBM] [Warning] bagging_freq is set=3, subsample_freq=0 will be ignored. Current value: bagging_freq=3\n",
      "Training until validation scores don't improve for 100 rounds\n",
      "[100]\ttraining's l1: 2.40768\tvalid_1's l1: 2.60327\n",
      "[200]\ttraining's l1: 2.32382\tvalid_1's l1: 2.60008\n"
     ]
    },
    {
     "name": "stderr",
     "output_type": "stream",
     "text": [
      "\u001b[32m[I 2021-07-30 00:00:39,687]\u001b[0m Trial 1 finished with value: -2.598622948828089 and parameters: {'max_depth': 12, 'min_child_weight': 16, 'subsample': 0.5, 'colsample_bytree': 0.6, 'reg_lambda': 1.2184271045310957, 'reg_alpha': 0.19164186394226967, 'feature_fraction': 0.810831473757962, 'bagging_fraction': 0.9794271244078459, 'bagging_freq': 3, 'num_leaves': 935, 'min_child_samples': 57}. Best is trial 1 with value: -2.598622948828089.\u001b[0m\n"
     ]
    },
    {
     "name": "stdout",
     "output_type": "stream",
     "text": [
      "Early stopping, best iteration is:\n",
      "[190]\ttraining's l1: 2.33047\tvalid_1's l1: 2.59918\n",
      "[LightGBM] [Warning] feature_fraction is set=0.8524259972090602, colsample_bytree=0.9 will be ignored. Current value: feature_fraction=0.8524259972090602\n",
      "[LightGBM] [Warning] bagging_fraction is set=0.24392091038871638, subsample=0.9 will be ignored. Current value: bagging_fraction=0.24392091038871638\n",
      "[LightGBM] [Warning] bagging_freq is set=1, subsample_freq=0 will be ignored. Current value: bagging_freq=1\n",
      "Training until validation scores don't improve for 100 rounds\n",
      "[100]\ttraining's l1: 2.54986\tvalid_1's l1: 2.60929\n",
      "[200]\ttraining's l1: 2.51688\tvalid_1's l1: 2.60599\n"
     ]
    },
    {
     "name": "stderr",
     "output_type": "stream",
     "text": [
      "\u001b[32m[I 2021-07-30 00:00:42,339]\u001b[0m Trial 2 finished with value: -2.6015162765839177 and parameters: {'max_depth': 8, 'min_child_weight': 13, 'subsample': 0.9, 'colsample_bytree': 0.9, 'reg_lambda': 0.10662568537636115, 'reg_alpha': 0.0011089199588468354, 'feature_fraction': 0.8524259972090602, 'bagging_fraction': 0.24392091038871638, 'bagging_freq': 1, 'num_leaves': 662, 'min_child_samples': 22}. Best is trial 1 with value: -2.598622948828089.\u001b[0m\n"
     ]
    },
    {
     "name": "stdout",
     "output_type": "stream",
     "text": [
      "Early stopping, best iteration is:\n",
      "[155]\ttraining's l1: 2.52982\tvalid_1's l1: 2.60314\n",
      "[LightGBM] [Warning] feature_fraction is set=0.32030678460888684, colsample_bytree=0.7 will be ignored. Current value: feature_fraction=0.32030678460888684\n",
      "[LightGBM] [Warning] bagging_fraction is set=0.30993274921256364, subsample=0.9 will be ignored. Current value: bagging_fraction=0.30993274921256364\n",
      "[LightGBM] [Warning] bagging_freq is set=3, subsample_freq=0 will be ignored. Current value: bagging_freq=3\n",
      "Training until validation scores don't improve for 100 rounds\n",
      "[100]\ttraining's l1: 2.58499\tvalid_1's l1: 2.63567\n",
      "[200]\ttraining's l1: 2.55841\tvalid_1's l1: 2.62375\n",
      "[300]\ttraining's l1: 2.54291\tvalid_1's l1: 2.62172\n"
     ]
    },
    {
     "name": "stderr",
     "output_type": "stream",
     "text": [
      "\u001b[32m[I 2021-07-30 00:00:45,744]\u001b[0m Trial 3 finished with value: -2.6191363803997856 and parameters: {'max_depth': 12, 'min_child_weight': 20, 'subsample': 0.9, 'colsample_bytree': 0.7, 'reg_lambda': 0.18192157861886296, 'reg_alpha': 1.6748249573368348, 'feature_fraction': 0.32030678460888684, 'bagging_fraction': 0.30993274921256364, 'bagging_freq': 3, 'num_leaves': 112, 'min_child_samples': 89}. Best is trial 1 with value: -2.598622948828089.\u001b[0m\n"
     ]
    },
    {
     "name": "stdout",
     "output_type": "stream",
     "text": [
      "Early stopping, best iteration is:\n",
      "[251]\ttraining's l1: 2.54881\tvalid_1's l1: 2.62122\n",
      "[LightGBM] [Warning] feature_fraction is set=0.35964729857828587, colsample_bytree=0.5 will be ignored. Current value: feature_fraction=0.35964729857828587\n",
      "[LightGBM] [Warning] bagging_fraction is set=0.4970054056662348, subsample=0.6 will be ignored. Current value: bagging_fraction=0.4970054056662348\n",
      "[LightGBM] [Warning] bagging_freq is set=10, subsample_freq=0 will be ignored. Current value: bagging_freq=10\n",
      "Training until validation scores don't improve for 100 rounds\n",
      "[100]\ttraining's l1: 2.54271\tvalid_1's l1: 2.61241\n",
      "[200]\ttraining's l1: 2.50674\tvalid_1's l1: 2.60071\n"
     ]
    },
    {
     "name": "stderr",
     "output_type": "stream",
     "text": [
      "\u001b[32m[I 2021-07-30 00:00:48,566]\u001b[0m Trial 4 finished with value: -2.598680824453442 and parameters: {'max_depth': 8, 'min_child_weight': 12, 'subsample': 0.6, 'colsample_bytree': 0.5, 'reg_lambda': 0.019625716627024628, 'reg_alpha': 0.7747205021847775, 'feature_fraction': 0.35964729857828587, 'bagging_fraction': 0.4970054056662348, 'bagging_freq': 10, 'num_leaves': 378, 'min_child_samples': 54}. Best is trial 1 with value: -2.598622948828089.\u001b[0m\n"
     ]
    },
    {
     "name": "stdout",
     "output_type": "stream",
     "text": [
      "Early stopping, best iteration is:\n",
      "[180]\ttraining's l1: 2.51215\tvalid_1's l1: 2.59932\n",
      "[LightGBM] [Warning] feature_fraction is set=0.7074017412485165, colsample_bytree=0.8 will be ignored. Current value: feature_fraction=0.7074017412485165\n",
      "[LightGBM] [Warning] bagging_fraction is set=0.9231136825266935, subsample=0.5 will be ignored. Current value: bagging_fraction=0.9231136825266935\n",
      "[LightGBM] [Warning] bagging_freq is set=2, subsample_freq=0 will be ignored. Current value: bagging_freq=2\n",
      "Training until validation scores don't improve for 100 rounds\n",
      "[100]\ttraining's l1: 2.64446\tvalid_1's l1: 2.66545\n",
      "[200]\ttraining's l1: 2.6024\tvalid_1's l1: 2.63291\n",
      "[300]\ttraining's l1: 2.58503\tvalid_1's l1: 2.61795\n",
      "[400]\ttraining's l1: 2.57304\tvalid_1's l1: 2.61196\n",
      "[500]\ttraining's l1: 2.56451\tvalid_1's l1: 2.60741\n",
      "[600]\ttraining's l1: 2.5604\tvalid_1's l1: 2.60661\n",
      "[700]\ttraining's l1: 2.55421\tvalid_1's l1: 2.60397\n",
      "[800]\ttraining's l1: 2.54498\tvalid_1's l1: 2.60325\n"
     ]
    },
    {
     "name": "stderr",
     "output_type": "stream",
     "text": [
      "\u001b[32m[I 2021-07-30 00:00:55,726]\u001b[0m Trial 5 finished with value: -2.6007574901646344 and parameters: {'max_depth': 5, 'min_child_weight': 6, 'subsample': 0.5, 'colsample_bytree': 0.8, 'reg_lambda': 0.01642438817238497, 'reg_alpha': 0.715813711457924, 'feature_fraction': 0.7074017412485165, 'bagging_fraction': 0.9231136825266935, 'bagging_freq': 2, 'num_leaves': 15, 'min_child_samples': 69}. Best is trial 1 with value: -2.598622948828089.\u001b[0m\n"
     ]
    },
    {
     "name": "stdout",
     "output_type": "stream",
     "text": [
      "Early stopping, best iteration is:\n",
      "[750]\ttraining's l1: 2.5494\tvalid_1's l1: 2.60158\n",
      "[LightGBM] [Warning] feature_fraction is set=0.5096308418856332, colsample_bytree=0.5 will be ignored. Current value: feature_fraction=0.5096308418856332\n",
      "[LightGBM] [Warning] bagging_fraction is set=0.7957825065406259, subsample=0.5 will be ignored. Current value: bagging_fraction=0.7957825065406259\n",
      "[LightGBM] [Warning] bagging_freq is set=4, subsample_freq=0 will be ignored. Current value: bagging_freq=4\n",
      "Training until validation scores don't improve for 100 rounds\n",
      "[100]\ttraining's l1: 2.41866\tvalid_1's l1: 2.6042\n",
      "[200]\ttraining's l1: 2.33312\tvalid_1's l1: 2.60496\n"
     ]
    },
    {
     "name": "stderr",
     "output_type": "stream",
     "text": [
      "\u001b[32m[I 2021-07-30 00:01:03,937]\u001b[0m Trial 6 finished with value: -2.6011131141131583 and parameters: {'max_depth': 13, 'min_child_weight': 3, 'subsample': 0.5, 'colsample_bytree': 0.5, 'reg_lambda': 3.7474278325778148, 'reg_alpha': 3.956069713846646, 'feature_fraction': 0.5096308418856332, 'bagging_fraction': 0.7957825065406259, 'bagging_freq': 4, 'num_leaves': 932, 'min_child_samples': 50}. Best is trial 1 with value: -2.598622948828089.\u001b[0m\n"
     ]
    },
    {
     "name": "stdout",
     "output_type": "stream",
     "text": [
      "Early stopping, best iteration is:\n",
      "[154]\ttraining's l1: 2.36546\tvalid_1's l1: 2.60192\n",
      "[LightGBM] [Warning] feature_fraction is set=0.7920535051460658, colsample_bytree=0.6 will be ignored. Current value: feature_fraction=0.7920535051460658\n",
      "[LightGBM] [Warning] bagging_fraction is set=0.3225284517149565, subsample=0.6 will be ignored. Current value: bagging_fraction=0.3225284517149565\n",
      "[LightGBM] [Warning] bagging_freq is set=1, subsample_freq=0 will be ignored. Current value: bagging_freq=1\n",
      "Training until validation scores don't improve for 100 rounds\n",
      "[100]\ttraining's l1: 2.66584\tvalid_1's l1: 2.67394\n",
      "[200]\ttraining's l1: 2.64201\tvalid_1's l1: 2.65261\n",
      "[300]\ttraining's l1: 2.63329\tvalid_1's l1: 2.64801\n",
      "[400]\ttraining's l1: 2.62848\tvalid_1's l1: 2.64629\n",
      "[500]\ttraining's l1: 2.62337\tvalid_1's l1: 2.6422\n",
      "[600]\ttraining's l1: 2.62009\tvalid_1's l1: 2.63967\n",
      "[700]\ttraining's l1: 2.61671\tvalid_1's l1: 2.6372\n"
     ]
    },
    {
     "name": "stderr",
     "output_type": "stream",
     "text": [
      "\u001b[32m[I 2021-07-30 00:01:08,660]\u001b[0m Trial 7 finished with value: -2.6354625132074254 and parameters: {'max_depth': 5, 'min_child_weight': 16, 'subsample': 0.6, 'colsample_bytree': 0.6, 'reg_lambda': 0.7512005270748469, 'reg_alpha': 129.62379372181388, 'feature_fraction': 0.7920535051460658, 'bagging_fraction': 0.3225284517149565, 'bagging_freq': 1, 'num_leaves': 502, 'min_child_samples': 25}. Best is trial 1 with value: -2.598622948828089.\u001b[0m\n"
     ]
    },
    {
     "name": "stdout",
     "output_type": "stream",
     "text": [
      "Early stopping, best iteration is:\n",
      "[687]\ttraining's l1: 2.61708\tvalid_1's l1: 2.63695\n",
      "[LightGBM] [Warning] feature_fraction is set=0.3888242534373544, colsample_bytree=0.8 will be ignored. Current value: feature_fraction=0.3888242534373544\n",
      "[LightGBM] [Warning] bagging_fraction is set=0.33036034858731844, subsample=0.5 will be ignored. Current value: bagging_fraction=0.33036034858731844\n",
      "[LightGBM] [Warning] bagging_freq is set=3, subsample_freq=0 will be ignored. Current value: bagging_freq=3\n",
      "Training until validation scores don't improve for 100 rounds\n",
      "[100]\ttraining's l1: 2.56469\tvalid_1's l1: 2.63235\n",
      "[200]\ttraining's l1: 2.533\tvalid_1's l1: 2.62743\n",
      "[300]\ttraining's l1: 2.5117\tvalid_1's l1: 2.62667\n"
     ]
    },
    {
     "name": "stderr",
     "output_type": "stream",
     "text": [
      "\u001b[32m[I 2021-07-30 00:01:13,326]\u001b[0m Trial 8 finished with value: -2.6222900201162815 and parameters: {'max_depth': 12, 'min_child_weight': 14, 'subsample': 0.5, 'colsample_bytree': 0.8, 'reg_lambda': 53.12361085379063, 'reg_alpha': 0.07001797395512091, 'feature_fraction': 0.3888242534373544, 'bagging_fraction': 0.33036034858731844, 'bagging_freq': 3, 'num_leaves': 530, 'min_child_samples': 91}. Best is trial 1 with value: -2.598622948828089.\u001b[0m\n"
     ]
    },
    {
     "name": "stdout",
     "output_type": "stream",
     "text": [
      "Early stopping, best iteration is:\n",
      "[252]\ttraining's l1: 2.52077\tvalid_1's l1: 2.62536\n",
      "[LightGBM] [Warning] feature_fraction is set=0.9442713204522308, colsample_bytree=0.6 will be ignored. Current value: feature_fraction=0.9442713204522308\n",
      "[LightGBM] [Warning] bagging_fraction is set=0.5868140268076822, subsample=0.9 will be ignored. Current value: bagging_fraction=0.5868140268076822\n",
      "[LightGBM] [Warning] bagging_freq is set=14, subsample_freq=0 will be ignored. Current value: bagging_freq=14\n",
      "Training until validation scores don't improve for 100 rounds\n",
      "[100]\ttraining's l1: 2.7334\tvalid_1's l1: 2.74772\n",
      "[200]\ttraining's l1: 2.68999\tvalid_1's l1: 2.69359\n",
      "[300]\ttraining's l1: 2.68023\tvalid_1's l1: 2.68707\n",
      "[400]\ttraining's l1: 2.67642\tvalid_1's l1: 2.68599\n",
      "[500]\ttraining's l1: 2.66939\tvalid_1's l1: 2.67984\n",
      "[600]\ttraining's l1: 2.66482\tvalid_1's l1: 2.67468\n",
      "[700]\ttraining's l1: 2.66022\tvalid_1's l1: 2.66979\n",
      "[800]\ttraining's l1: 2.65744\tvalid_1's l1: 2.66617\n"
     ]
    },
    {
     "name": "stderr",
     "output_type": "stream",
     "text": [
      "\u001b[32m[I 2021-07-30 00:01:17,593]\u001b[0m Trial 9 finished with value: -2.664084693636902 and parameters: {'max_depth': 3, 'min_child_weight': 17, 'subsample': 0.9, 'colsample_bytree': 0.6, 'reg_lambda': 0.01025843851194884, 'reg_alpha': 233.56553889795953, 'feature_fraction': 0.9442713204522308, 'bagging_fraction': 0.5868140268076822, 'bagging_freq': 14, 'num_leaves': 347, 'min_child_samples': 92}. Best is trial 1 with value: -2.598622948828089.\u001b[0m\n"
     ]
    },
    {
     "name": "stdout",
     "output_type": "stream",
     "text": [
      "[900]\ttraining's l1: 2.65576\tvalid_1's l1: 2.66637\n",
      "Early stopping, best iteration is:\n",
      "[834]\ttraining's l1: 2.65644\tvalid_1's l1: 2.66527\n",
      "[LightGBM] [Warning] feature_fraction is set=0.605436633725712, colsample_bytree=0.6 will be ignored. Current value: feature_fraction=0.605436633725712\n",
      "[LightGBM] [Warning] bagging_fraction is set=0.9846567790683804, subsample=0.7 will be ignored. Current value: bagging_fraction=0.9846567790683804\n",
      "[LightGBM] [Warning] bagging_freq is set=8, subsample_freq=0 will be ignored. Current value: bagging_freq=8\n",
      "Training until validation scores don't improve for 100 rounds\n",
      "[100]\ttraining's l1: 2.4397\tvalid_1's l1: 2.60428\n",
      "[200]\ttraining's l1: 2.36614\tvalid_1's l1: 2.60217\n"
     ]
    },
    {
     "name": "stderr",
     "output_type": "stream",
     "text": [
      "\u001b[32m[I 2021-07-30 00:01:31,078]\u001b[0m Trial 10 finished with value: -2.600460086498018 and parameters: {'max_depth': 20, 'min_child_weight': 8, 'subsample': 0.7, 'colsample_bytree': 0.6, 'reg_lambda': 792.9644709194234, 'reg_alpha': 0.011600752750658432, 'feature_fraction': 0.605436633725712, 'bagging_fraction': 0.9846567790683804, 'bagging_freq': 8, 'num_leaves': 963, 'min_child_samples': 42}. Best is trial 1 with value: -2.598622948828089.\u001b[0m\n"
     ]
    },
    {
     "name": "stdout",
     "output_type": "stream",
     "text": [
      "Early stopping, best iteration is:\n",
      "[146]\ttraining's l1: 2.40038\tvalid_1's l1: 2.60113\n",
      "[LightGBM] [Warning] feature_fraction is set=0.2059477589040472, colsample_bytree=0.5 will be ignored. Current value: feature_fraction=0.2059477589040472\n",
      "[LightGBM] [Warning] bagging_fraction is set=0.5317193277189103, subsample=0.6 will be ignored. Current value: bagging_fraction=0.5317193277189103\n",
      "[LightGBM] [Warning] bagging_freq is set=20, subsample_freq=0 will be ignored. Current value: bagging_freq=20\n",
      "Training until validation scores don't improve for 100 rounds\n",
      "[100]\ttraining's l1: 2.54847\tvalid_1's l1: 2.64769\n",
      "[200]\ttraining's l1: 2.48506\tvalid_1's l1: 2.62239\n",
      "[300]\ttraining's l1: 2.45361\tvalid_1's l1: 2.62179\n",
      "[400]\ttraining's l1: 2.42889\tvalid_1's l1: 2.62365\n"
     ]
    },
    {
     "name": "stderr",
     "output_type": "stream",
     "text": [
      "\u001b[32m[I 2021-07-30 00:01:37,477]\u001b[0m Trial 11 finished with value: -2.615763926803383 and parameters: {'max_depth': 16, 'min_child_weight': 11, 'subsample': 0.6, 'colsample_bytree': 0.5, 'reg_lambda': 10.421561993912919, 'reg_alpha': 0.11749920121211985, 'feature_fraction': 0.2059477589040472, 'bagging_fraction': 0.5317193277189103, 'bagging_freq': 20, 'num_leaves': 260, 'min_child_samples': 68}. Best is trial 1 with value: -2.598622948828089.\u001b[0m\n"
     ]
    },
    {
     "name": "stdout",
     "output_type": "stream",
     "text": [
      "Early stopping, best iteration is:\n",
      "[359]\ttraining's l1: 2.43888\tvalid_1's l1: 2.6185\n",
      "[LightGBM] [Warning] feature_fraction is set=0.5011256920417625, colsample_bytree=0.5 will be ignored. Current value: feature_fraction=0.5011256920417625\n",
      "[LightGBM] [Warning] bagging_fraction is set=0.6889120453915805, subsample=0.6 will be ignored. Current value: bagging_fraction=0.6889120453915805\n",
      "[LightGBM] [Warning] bagging_freq is set=8, subsample_freq=0 will be ignored. Current value: bagging_freq=8\n",
      "Training until validation scores don't improve for 100 rounds\n",
      "[100]\ttraining's l1: 2.54203\tvalid_1's l1: 2.614\n",
      "[200]\ttraining's l1: 2.49984\tvalid_1's l1: 2.59999\n",
      "[300]\ttraining's l1: 2.4758\tvalid_1's l1: 2.5995\n"
     ]
    },
    {
     "name": "stderr",
     "output_type": "stream",
     "text": [
      "\u001b[32m[I 2021-07-30 00:01:42,800]\u001b[0m Trial 12 finished with value: -2.5971865876637246 and parameters: {'max_depth': 8, 'min_child_weight': 20, 'subsample': 0.6, 'colsample_bytree': 0.5, 'reg_lambda': 0.09173204750947438, 'reg_alpha': 17.863543926614998, 'feature_fraction': 0.5011256920417625, 'bagging_fraction': 0.6889120453915805, 'bagging_freq': 8, 'num_leaves': 334, 'min_child_samples': 37}. Best is trial 12 with value: -2.5971865876637246.\u001b[0m\n"
     ]
    },
    {
     "name": "stdout",
     "output_type": "stream",
     "text": [
      "Early stopping, best iteration is:\n",
      "[284]\ttraining's l1: 2.47921\tvalid_1's l1: 2.5982\n",
      "[LightGBM] [Warning] feature_fraction is set=0.6077723304619828, colsample_bytree=0.6 will be ignored. Current value: feature_fraction=0.6077723304619828\n",
      "[LightGBM] [Warning] bagging_fraction is set=0.7760267578053641, subsample=0.7 will be ignored. Current value: bagging_fraction=0.7760267578053641\n",
      "[LightGBM] [Warning] bagging_freq is set=7, subsample_freq=0 will be ignored. Current value: bagging_freq=7\n",
      "Training until validation scores don't improve for 100 rounds\n",
      "[100]\ttraining's l1: 2.49808\tvalid_1's l1: 2.61792\n",
      "[200]\ttraining's l1: 2.46215\tvalid_1's l1: 2.61254\n",
      "[300]\ttraining's l1: 2.43969\tvalid_1's l1: 2.61239\n"
     ]
    },
    {
     "name": "stderr",
     "output_type": "stream",
     "text": [
      "\u001b[32m[I 2021-07-30 00:01:54,682]\u001b[0m Trial 13 finished with value: -2.610611120802887 and parameters: {'max_depth': 16, 'min_child_weight': 20, 'subsample': 0.7, 'colsample_bytree': 0.6, 'reg_lambda': 0.3853472300976715, 'reg_alpha': 35.49527878840544, 'feature_fraction': 0.6077723304619828, 'bagging_fraction': 0.7760267578053641, 'bagging_freq': 7, 'num_leaves': 819, 'min_child_samples': 9}. Best is trial 12 with value: -2.5971865876637246.\u001b[0m\n"
     ]
    },
    {
     "name": "stdout",
     "output_type": "stream",
     "text": [
      "Early stopping, best iteration is:\n",
      "[273]\ttraining's l1: 2.44548\tvalid_1's l1: 2.61154\n",
      "[LightGBM] [Warning] feature_fraction is set=0.4937032010265351, colsample_bytree=0.5 will be ignored. Current value: feature_fraction=0.4937032010265351\n",
      "[LightGBM] [Warning] bagging_fraction is set=0.7384611858742416, subsample=0.6 will be ignored. Current value: bagging_fraction=0.7384611858742416\n",
      "[LightGBM] [Warning] bagging_freq is set=6, subsample_freq=0 will be ignored. Current value: bagging_freq=6\n",
      "Training until validation scores don't improve for 100 rounds\n",
      "[100]\ttraining's l1: 2.54591\tvalid_1's l1: 2.61273\n",
      "[200]\ttraining's l1: 2.50774\tvalid_1's l1: 2.60304\n",
      "[300]\ttraining's l1: 2.48327\tvalid_1's l1: 2.59852\n",
      "[400]\ttraining's l1: 2.46533\tvalid_1's l1: 2.59647\n"
     ]
    },
    {
     "name": "stderr",
     "output_type": "stream",
     "text": [
      "\u001b[32m[I 2021-07-30 00:02:01,894]\u001b[0m Trial 14 finished with value: -2.5950854246646946 and parameters: {'max_depth': 9, 'min_child_weight': 18, 'subsample': 0.6, 'colsample_bytree': 0.5, 'reg_lambda': 43.87624164647563, 'reg_alpha': 25.019470778209683, 'feature_fraction': 0.4937032010265351, 'bagging_fraction': 0.7384611858742416, 'bagging_freq': 6, 'num_leaves': 168, 'min_child_samples': 38}. Best is trial 14 with value: -2.5950854246646946.\u001b[0m\n"
     ]
    },
    {
     "name": "stdout",
     "output_type": "stream",
     "text": [
      "Early stopping, best iteration is:\n",
      "[358]\ttraining's l1: 2.4721\tvalid_1's l1: 2.59622\n",
      "[LightGBM] [Warning] feature_fraction is set=0.48367606318705114, colsample_bytree=0.5 will be ignored. Current value: feature_fraction=0.48367606318705114\n",
      "[LightGBM] [Warning] bagging_fraction is set=0.712368573422065, subsample=0.6 will be ignored. Current value: bagging_fraction=0.712368573422065\n",
      "[LightGBM] [Warning] bagging_freq is set=7, subsample_freq=0 will be ignored. Current value: bagging_freq=7\n",
      "Training until validation scores don't improve for 100 rounds\n",
      "[100]\ttraining's l1: 2.55635\tvalid_1's l1: 2.62636\n",
      "[200]\ttraining's l1: 2.52055\tvalid_1's l1: 2.61287\n",
      "[300]\ttraining's l1: 2.49782\tvalid_1's l1: 2.61112\n",
      "[400]\ttraining's l1: 2.48011\tvalid_1's l1: 2.60766\n",
      "[500]\ttraining's l1: 2.46663\tvalid_1's l1: 2.60637\n",
      "[600]\ttraining's l1: 2.45553\tvalid_1's l1: 2.6066\n"
     ]
    },
    {
     "name": "stderr",
     "output_type": "stream",
     "text": [
      "\u001b[32m[I 2021-07-30 00:02:11,322]\u001b[0m Trial 15 finished with value: -2.6040739894340503 and parameters: {'max_depth': 9, 'min_child_weight': 20, 'subsample': 0.6, 'colsample_bytree': 0.5, 'reg_lambda': 532.2134915787764, 'reg_alpha': 27.66768690945104, 'feature_fraction': 0.48367606318705114, 'bagging_fraction': 0.712368573422065, 'bagging_freq': 7, 'num_leaves': 171, 'min_child_samples': 33}. Best is trial 14 with value: -2.5950854246646946.\u001b[0m\n"
     ]
    },
    {
     "name": "stdout",
     "output_type": "stream",
     "text": [
      "Early stopping, best iteration is:\n",
      "[534]\ttraining's l1: 2.46285\tvalid_1's l1: 2.60564\n",
      "[LightGBM] [Warning] feature_fraction is set=0.5094235623827025, colsample_bytree=0.5 will be ignored. Current value: feature_fraction=0.5094235623827025\n",
      "[LightGBM] [Warning] bagging_fraction is set=0.6907656360170185, subsample=0.7 will be ignored. Current value: bagging_fraction=0.6907656360170185\n",
      "[LightGBM] [Warning] bagging_freq is set=14, subsample_freq=0 will be ignored. Current value: bagging_freq=14\n",
      "Training until validation scores don't improve for 100 rounds\n",
      "[100]\ttraining's l1: 2.71458\tvalid_1's l1: 2.72991\n",
      "[200]\ttraining's l1: 2.70437\tvalid_1's l1: 2.716\n"
     ]
    },
    {
     "name": "stderr",
     "output_type": "stream",
     "text": [
      "\u001b[32m[I 2021-07-30 00:02:13,379]\u001b[0m Trial 16 finished with value: -2.715441390904778 and parameters: {'max_depth': 6, 'min_child_weight': 18, 'subsample': 0.7, 'colsample_bytree': 0.5, 'reg_lambda': 90.8129553241381, 'reg_alpha': 661.1841001505595, 'feature_fraction': 0.5094235623827025, 'bagging_fraction': 0.6907656360170185, 'bagging_freq': 14, 'num_leaves': 34, 'min_child_samples': 13}. Best is trial 14 with value: -2.5950854246646946.\u001b[0m\n"
     ]
    },
    {
     "name": "stdout",
     "output_type": "stream",
     "text": [
      "Early stopping, best iteration is:\n",
      "[154]\ttraining's l1: 2.70437\tvalid_1's l1: 2.716\n",
      "[LightGBM] [Warning] feature_fraction is set=0.2093923054924448, colsample_bytree=0.5 will be ignored. Current value: feature_fraction=0.2093923054924448\n",
      "[LightGBM] [Warning] bagging_fraction is set=0.8406025407073472, subsample=0.8 will be ignored. Current value: bagging_fraction=0.8406025407073472\n",
      "[LightGBM] [Warning] bagging_freq is set=10, subsample_freq=0 will be ignored. Current value: bagging_freq=10\n",
      "Training until validation scores don't improve for 100 rounds\n",
      "[100]\ttraining's l1: 2.88673\tvalid_1's l1: 2.9093\n",
      "[200]\ttraining's l1: 2.84655\tvalid_1's l1: 2.85815\n",
      "[300]\ttraining's l1: 2.8338\tvalid_1's l1: 2.84297\n",
      "[400]\ttraining's l1: 2.82557\tvalid_1's l1: 2.83119\n",
      "[500]\ttraining's l1: 2.82076\tvalid_1's l1: 2.82549\n",
      "[600]\ttraining's l1: 2.81859\tvalid_1's l1: 2.82201\n",
      "[700]\ttraining's l1: 2.81656\tvalid_1's l1: 2.82027\n",
      "[800]\ttraining's l1: 2.81482\tvalid_1's l1: 2.81878\n",
      "[900]\ttraining's l1: 2.81329\tvalid_1's l1: 2.81807\n",
      "[1000]\ttraining's l1: 2.81085\tvalid_1's l1: 2.81522\n",
      "Early stopping, best iteration is:\n",
      "[941]\ttraining's l1: 2.81148\tvalid_1's l1: 2.81478\n"
     ]
    },
    {
     "name": "stderr",
     "output_type": "stream",
     "text": [
      "\u001b[32m[I 2021-07-30 00:02:17,511]\u001b[0m Trial 17 finished with value: -2.8137289949080335 and parameters: {'max_depth': 1, 'min_child_weight': 18, 'subsample': 0.8, 'colsample_bytree': 0.5, 'reg_lambda': 17.53456365694598, 'reg_alpha': 14.296251746941012, 'feature_fraction': 0.2093923054924448, 'bagging_fraction': 0.8406025407073472, 'bagging_freq': 10, 'num_leaves': 245, 'min_child_samples': 37}. Best is trial 14 with value: -2.5950854246646946.\u001b[0m\n"
     ]
    },
    {
     "name": "stdout",
     "output_type": "stream",
     "text": [
      "[LightGBM] [Warning] feature_fraction is set=0.6802647542838173, colsample_bytree=0.7 will be ignored. Current value: feature_fraction=0.6802647542838173\n",
      "[LightGBM] [Warning] bagging_fraction is set=0.6571966900599553, subsample=0.6 will be ignored. Current value: bagging_fraction=0.6571966900599553\n",
      "[LightGBM] [Warning] bagging_freq is set=5, subsample_freq=0 will be ignored. Current value: bagging_freq=5\n",
      "Training until validation scores don't improve for 100 rounds\n",
      "[100]\ttraining's l1: 2.59059\tvalid_1's l1: 2.63552\n",
      "[200]\ttraining's l1: 2.56769\tvalid_1's l1: 2.6194\n",
      "[300]\ttraining's l1: 2.55641\tvalid_1's l1: 2.61591\n",
      "[400]\ttraining's l1: 2.54871\tvalid_1's l1: 2.61294\n",
      "[500]\ttraining's l1: 2.54308\tvalid_1's l1: 2.61388\n",
      "Early stopping, best iteration is:\n",
      "[420]\ttraining's l1: 2.54738\tvalid_1's l1: 2.61211\n"
     ]
    },
    {
     "name": "stderr",
     "output_type": "stream",
     "text": [
      "\u001b[32m[I 2021-07-30 00:02:22,747]\u001b[0m Trial 18 finished with value: -2.6111400257761295 and parameters: {'max_depth': 10, 'min_child_weight': 14, 'subsample': 0.6, 'colsample_bytree': 0.7, 'reg_lambda': 0.0010814952714979951, 'reg_alpha': 97.69266138295531, 'feature_fraction': 0.6802647542838173, 'bagging_fraction': 0.6571966900599553, 'bagging_freq': 5, 'num_leaves': 459, 'min_child_samples': 26}. Best is trial 14 with value: -2.5950854246646946.\u001b[0m\n"
     ]
    },
    {
     "name": "stdout",
     "output_type": "stream",
     "text": [
      "[LightGBM] [Warning] feature_fraction is set=0.4289214810457264, colsample_bytree=0.8 will be ignored. Current value: feature_fraction=0.4289214810457264\n",
      "[LightGBM] [Warning] bagging_fraction is set=0.4693012279575965, subsample=0.8 will be ignored. Current value: bagging_fraction=0.4693012279575965\n",
      "[LightGBM] [Warning] bagging_freq is set=12, subsample_freq=0 will be ignored. Current value: bagging_freq=12\n",
      "Training until validation scores don't improve for 100 rounds\n",
      "[100]\ttraining's l1: 2.77352\tvalid_1's l1: 2.78277\n"
     ]
    },
    {
     "name": "stderr",
     "output_type": "stream",
     "text": [
      "\u001b[32m[I 2021-07-30 00:02:24,136]\u001b[0m Trial 19 finished with value: -2.7823886486228484 and parameters: {'max_depth': 15, 'min_child_weight': 8, 'subsample': 0.8, 'colsample_bytree': 0.8, 'reg_lambda': 0.06635034217994465, 'reg_alpha': 957.2618346726193, 'feature_fraction': 0.4289214810457264, 'bagging_fraction': 0.4693012279575965, 'bagging_freq': 12, 'num_leaves': 135, 'min_child_samples': 45}. Best is trial 14 with value: -2.5950854246646946.\u001b[0m\n"
     ]
    },
    {
     "name": "stdout",
     "output_type": "stream",
     "text": [
      "[200]\ttraining's l1: 2.77352\tvalid_1's l1: 2.78277\n",
      "Early stopping, best iteration is:\n",
      "[104]\ttraining's l1: 2.77352\tvalid_1's l1: 2.78277\n",
      "[LightGBM] [Warning] feature_fraction is set=0.2559241366291358, colsample_bytree=0.6 will be ignored. Current value: feature_fraction=0.2559241366291358\n",
      "[LightGBM] [Warning] bagging_fraction is set=0.8684909006814416, subsample=0.6 will be ignored. Current value: bagging_fraction=0.8684909006814416\n",
      "[LightGBM] [Warning] bagging_freq is set=8, subsample_freq=0 will be ignored. Current value: bagging_freq=8\n",
      "Training until validation scores don't improve for 100 rounds\n",
      "[100]\ttraining's l1: 2.57333\tvalid_1's l1: 2.6362\n",
      "[200]\ttraining's l1: 2.52054\tvalid_1's l1: 2.60784\n",
      "[300]\ttraining's l1: 2.49926\tvalid_1's l1: 2.60525\n",
      "[400]\ttraining's l1: 2.47965\tvalid_1's l1: 2.60334\n",
      "[500]\ttraining's l1: 2.46794\tvalid_1's l1: 2.6027\n",
      "[600]\ttraining's l1: 2.45429\tvalid_1's l1: 2.60219\n",
      "Early stopping, best iteration is:\n",
      "[519]\ttraining's l1: 2.46509\tvalid_1's l1: 2.60119\n"
     ]
    },
    {
     "name": "stderr",
     "output_type": "stream",
     "text": [
      "\u001b[32m[I 2021-07-30 00:02:30,372]\u001b[0m Trial 20 finished with value: -2.600167122746439 and parameters: {'max_depth': 7, 'min_child_weight': 19, 'subsample': 0.6, 'colsample_bytree': 0.6, 'reg_lambda': 193.02146619697893, 'reg_alpha': 9.728500463704881, 'feature_fraction': 0.2559241366291358, 'bagging_fraction': 0.8684909006814416, 'bagging_freq': 8, 'num_leaves': 263, 'min_child_samples': 17}. Best is trial 14 with value: -2.5950854246646946.\u001b[0m\n"
     ]
    },
    {
     "name": "stdout",
     "output_type": "stream",
     "text": [
      "[LightGBM] [Warning] feature_fraction is set=0.544505755610817, colsample_bytree=0.6 will be ignored. Current value: feature_fraction=0.544505755610817\n",
      "[LightGBM] [Warning] bagging_fraction is set=0.9963422215621941, subsample=0.5 will be ignored. Current value: bagging_fraction=0.9963422215621941\n",
      "[LightGBM] [Warning] bagging_freq is set=5, subsample_freq=0 will be ignored. Current value: bagging_freq=5\n",
      "Training until validation scores don't improve for 100 rounds\n",
      "[100]\ttraining's l1: 2.4394\tvalid_1's l1: 2.60103\n",
      "[200]\ttraining's l1: 2.37698\tvalid_1's l1: 2.5965\n"
     ]
    },
    {
     "name": "stderr",
     "output_type": "stream",
     "text": [
      "\u001b[32m[I 2021-07-30 00:02:37,634]\u001b[0m Trial 21 finished with value: -2.5954543873624725 and parameters: {'max_depth': 11, 'min_child_weight': 16, 'subsample': 0.5, 'colsample_bytree': 0.6, 'reg_lambda': 2.813307855232209, 'reg_alpha': 0.16532931882250726, 'feature_fraction': 0.544505755610817, 'bagging_fraction': 0.9963422215621941, 'bagging_freq': 5, 'num_leaves': 601, 'min_child_samples': 60}. Best is trial 14 with value: -2.5950854246646946.\u001b[0m\n"
     ]
    },
    {
     "name": "stdout",
     "output_type": "stream",
     "text": [
      "Early stopping, best iteration is:\n",
      "[192]\ttraining's l1: 2.38029\tvalid_1's l1: 2.59586\n",
      "[LightGBM] [Warning] feature_fraction is set=0.5611047394674868, colsample_bytree=0.5 will be ignored. Current value: feature_fraction=0.5611047394674868\n",
      "[LightGBM] [Warning] bagging_fraction is set=0.6163835096304783, subsample=0.5 will be ignored. Current value: bagging_fraction=0.6163835096304783\n",
      "[LightGBM] [Warning] bagging_freq is set=6, subsample_freq=0 will be ignored. Current value: bagging_freq=6\n",
      "Training until validation scores don't improve for 100 rounds\n",
      "[100]\ttraining's l1: 2.49469\tvalid_1's l1: 2.60311\n",
      "[200]\ttraining's l1: 2.45647\tvalid_1's l1: 2.60288\n"
     ]
    },
    {
     "name": "stderr",
     "output_type": "stream",
     "text": [
      "\u001b[32m[I 2021-07-30 00:02:42,714]\u001b[0m Trial 22 finished with value: -2.600113447893626 and parameters: {'max_depth': 10, 'min_child_weight': 15, 'subsample': 0.5, 'colsample_bytree': 0.5, 'reg_lambda': 3.7787368445462928, 'reg_alpha': 0.03322092055353511, 'feature_fraction': 0.5611047394674868, 'bagging_fraction': 0.6163835096304783, 'bagging_freq': 6, 'num_leaves': 646, 'min_child_samples': 61}. Best is trial 14 with value: -2.5950854246646946.\u001b[0m\n"
     ]
    },
    {
     "name": "stdout",
     "output_type": "stream",
     "text": [
      "Early stopping, best iteration is:\n",
      "[187]\ttraining's l1: 2.46128\tvalid_1's l1: 2.60077\n",
      "[LightGBM] [Warning] feature_fraction is set=0.4791732679120452, colsample_bytree=0.6 will be ignored. Current value: feature_fraction=0.4791732679120452\n",
      "[LightGBM] [Warning] bagging_fraction is set=0.7582601754659206, subsample=0.6 will be ignored. Current value: bagging_fraction=0.7582601754659206\n",
      "[LightGBM] [Warning] bagging_freq is set=9, subsample_freq=0 will be ignored. Current value: bagging_freq=9\n",
      "Training until validation scores don't improve for 100 rounds\n",
      "[100]\ttraining's l1: 2.43053\tvalid_1's l1: 2.59511\n",
      "[200]\ttraining's l1: 2.3284\tvalid_1's l1: 2.60075\n"
     ]
    },
    {
     "name": "stderr",
     "output_type": "stream",
     "text": [
      "\u001b[32m[I 2021-07-30 00:02:48,863]\u001b[0m Trial 23 finished with value: -2.5938337354466383 and parameters: {'max_depth': 14, 'min_child_weight': 18, 'subsample': 0.6, 'colsample_bytree': 0.6, 'reg_lambda': 2.201048907517753, 'reg_alpha': 0.0026791848141305605, 'feature_fraction': 0.4791732679120452, 'bagging_fraction': 0.7582601754659206, 'bagging_freq': 9, 'num_leaves': 437, 'min_child_samples': 33}. Best is trial 23 with value: -2.5938337354466383.\u001b[0m\n"
     ]
    },
    {
     "name": "stdout",
     "output_type": "stream",
     "text": [
      "Early stopping, best iteration is:\n",
      "[112]\ttraining's l1: 2.41068\tvalid_1's l1: 2.59438\n",
      "[LightGBM] [Warning] feature_fraction is set=0.43738556593380973, colsample_bytree=0.6 will be ignored. Current value: feature_fraction=0.43738556593380973\n",
      "[LightGBM] [Warning] bagging_fraction is set=0.9057991434256054, subsample=0.5 will be ignored. Current value: bagging_fraction=0.9057991434256054\n",
      "[LightGBM] [Warning] bagging_freq is set=5, subsample_freq=0 will be ignored. Current value: bagging_freq=5\n",
      "Training until validation scores don't improve for 100 rounds\n",
      "[100]\ttraining's l1: 2.38088\tvalid_1's l1: 2.5933\n",
      "[200]\ttraining's l1: 2.27998\tvalid_1's l1: 2.59531\n"
     ]
    },
    {
     "name": "stderr",
     "output_type": "stream",
     "text": [
      "\u001b[32m[I 2021-07-30 00:02:57,357]\u001b[0m Trial 24 finished with value: -2.5916710928160573 and parameters: {'max_depth': 19, 'min_child_weight': 17, 'subsample': 0.5, 'colsample_bytree': 0.6, 'reg_lambda': 12.498419474344685, 'reg_alpha': 0.001002423316350639, 'feature_fraction': 0.43738556593380973, 'bagging_fraction': 0.9057991434256054, 'bagging_freq': 5, 'num_leaves': 590, 'min_child_samples': 31}. Best is trial 24 with value: -2.5916710928160573.\u001b[0m\n"
     ]
    },
    {
     "name": "stdout",
     "output_type": "stream",
     "text": [
      "Early stopping, best iteration is:\n",
      "[116]\ttraining's l1: 2.3624\tvalid_1's l1: 2.59214\n",
      "[LightGBM] [Warning] feature_fraction is set=0.4126073987888135, colsample_bytree=0.7 will be ignored. Current value: feature_fraction=0.4126073987888135\n",
      "[LightGBM] [Warning] bagging_fraction is set=0.7779408746116466, subsample=0.7 will be ignored. Current value: bagging_fraction=0.7779408746116466\n",
      "[LightGBM] [Warning] bagging_freq is set=9, subsample_freq=0 will be ignored. Current value: bagging_freq=9\n",
      "Training until validation scores don't improve for 100 rounds\n",
      "[100]\ttraining's l1: 2.43476\tvalid_1's l1: 2.60619\n",
      "[200]\ttraining's l1: 2.35321\tvalid_1's l1: 2.60557\n"
     ]
    },
    {
     "name": "stderr",
     "output_type": "stream",
     "text": [
      "\u001b[32m[I 2021-07-30 00:03:04,671]\u001b[0m Trial 25 finished with value: -2.602187177800144 and parameters: {'max_depth': 19, 'min_child_weight': 18, 'subsample': 0.7, 'colsample_bytree': 0.7, 'reg_lambda': 17.7771055117408, 'reg_alpha': 0.00131831963152082, 'feature_fraction': 0.4126073987888135, 'bagging_fraction': 0.7779408746116466, 'bagging_freq': 9, 'num_leaves': 433, 'min_child_samples': 33}. Best is trial 24 with value: -2.5916710928160573.\u001b[0m\n"
     ]
    },
    {
     "name": "stdout",
     "output_type": "stream",
     "text": [
      "Early stopping, best iteration is:\n",
      "[145]\ttraining's l1: 2.39162\tvalid_1's l1: 2.60302\n",
      "[LightGBM] [Warning] feature_fraction is set=0.2928426318820774, colsample_bytree=0.6 will be ignored. Current value: feature_fraction=0.2928426318820774\n",
      "[LightGBM] [Warning] bagging_fraction is set=0.8930072656907402, subsample=0.6 will be ignored. Current value: bagging_fraction=0.8930072656907402\n",
      "[LightGBM] [Warning] bagging_freq is set=6, subsample_freq=0 will be ignored. Current value: bagging_freq=6\n",
      "Training until validation scores don't improve for 100 rounds\n",
      "[100]\ttraining's l1: 2.40856\tvalid_1's l1: 2.63683\n",
      "[200]\ttraining's l1: 2.31377\tvalid_1's l1: 2.62467\n"
     ]
    },
    {
     "name": "stderr",
     "output_type": "stream",
     "text": [
      "\u001b[32m[I 2021-07-30 00:03:15,257]\u001b[0m Trial 26 finished with value: -2.6232203575168103 and parameters: {'max_depth': 18, 'min_child_weight': 17, 'subsample': 0.6, 'colsample_bytree': 0.6, 'reg_lambda': 98.69342014793826, 'reg_alpha': 0.004159703223545541, 'feature_fraction': 0.2928426318820774, 'bagging_fraction': 0.8930072656907402, 'bagging_freq': 6, 'num_leaves': 818, 'min_child_samples': 29}. Best is trial 24 with value: -2.5916710928160573.\u001b[0m\n"
     ]
    },
    {
     "name": "stdout",
     "output_type": "stream",
     "text": [
      "Early stopping, best iteration is:\n",
      "[169]\ttraining's l1: 2.33425\tvalid_1's l1: 2.62433\n",
      "[LightGBM] [Warning] feature_fraction is set=0.44815232337101535, colsample_bytree=0.6 will be ignored. Current value: feature_fraction=0.44815232337101535\n",
      "[LightGBM] [Warning] bagging_fraction is set=0.7424193073295335, subsample=0.5 will be ignored. Current value: bagging_fraction=0.7424193073295335\n",
      "[LightGBM] [Warning] bagging_freq is set=12, subsample_freq=0 will be ignored. Current value: bagging_freq=12\n",
      "Training until validation scores don't improve for 100 rounds\n",
      "[100]\ttraining's l1: 2.42968\tvalid_1's l1: 2.60763\n",
      "[200]\ttraining's l1: 2.33307\tvalid_1's l1: 2.59799\n"
     ]
    },
    {
     "name": "stderr",
     "output_type": "stream",
     "text": [
      "\u001b[32m[I 2021-07-30 00:03:24,093]\u001b[0m Trial 27 finished with value: -2.5966725378223856 and parameters: {'max_depth': 14, 'min_child_weight': 14, 'subsample': 0.5, 'colsample_bytree': 0.6, 'reg_lambda': 26.4650167837284, 'reg_alpha': 0.0038260847404086853, 'feature_fraction': 0.44815232337101535, 'bagging_fraction': 0.7424193073295335, 'bagging_freq': 12, 'num_leaves': 586, 'min_child_samples': 46}. Best is trial 24 with value: -2.5916710928160573.\u001b[0m\n"
     ]
    },
    {
     "name": "stdout",
     "output_type": "stream",
     "text": [
      "[300]\ttraining's l1: 2.27547\tvalid_1's l1: 2.60229\n",
      "Early stopping, best iteration is:\n",
      "[201]\ttraining's l1: 2.33213\tvalid_1's l1: 2.59788\n",
      "[LightGBM] [Warning] feature_fraction is set=0.6844317527866165, colsample_bytree=0.7 will be ignored. Current value: feature_fraction=0.6844317527866165\n",
      "[LightGBM] [Warning] bagging_fraction is set=0.937810805826776, subsample=0.6 will be ignored. Current value: bagging_fraction=0.937810805826776\n",
      "[LightGBM] [Warning] bagging_freq is set=11, subsample_freq=0 will be ignored. Current value: bagging_freq=11\n",
      "Training until validation scores don't improve for 100 rounds\n",
      "[100]\ttraining's l1: 2.30319\tvalid_1's l1: 2.60167\n",
      "[200]\ttraining's l1: 2.13065\tvalid_1's l1: 2.60313\n"
     ]
    },
    {
     "name": "stderr",
     "output_type": "stream",
     "text": [
      "\u001b[32m[I 2021-07-30 00:03:35,221]\u001b[0m Trial 28 finished with value: -2.5957918634831225 and parameters: {'max_depth': 17, 'min_child_weight': 10, 'subsample': 0.6, 'colsample_bytree': 0.7, 'reg_lambda': 7.09079441449215, 'reg_alpha': 0.003135830366391022, 'feature_fraction': 0.6844317527866165, 'bagging_fraction': 0.937810805826776, 'bagging_freq': 11, 'num_leaves': 743, 'min_child_samples': 16}. Best is trial 24 with value: -2.5916710928160573.\u001b[0m\n"
     ]
    },
    {
     "name": "stdout",
     "output_type": "stream",
     "text": [
      "Early stopping, best iteration is:\n",
      "[147]\ttraining's l1: 2.21178\tvalid_1's l1: 2.59651\n",
      "[LightGBM] [Warning] feature_fraction is set=0.3355064923775109, colsample_bytree=0.7 will be ignored. Current value: feature_fraction=0.3355064923775109\n",
      "[LightGBM] [Warning] bagging_fraction is set=0.8255323654364752, subsample=0.7 will be ignored. Current value: bagging_fraction=0.8255323654364752\n",
      "[LightGBM] [Warning] bagging_freq is set=17, subsample_freq=0 will be ignored. Current value: bagging_freq=17\n",
      "Training until validation scores don't improve for 100 rounds\n",
      "[100]\ttraining's l1: 2.47532\tvalid_1's l1: 2.62388\n",
      "[200]\ttraining's l1: 2.39334\tvalid_1's l1: 2.60895\n",
      "[300]\ttraining's l1: 2.34674\tvalid_1's l1: 2.61152\n",
      "Early stopping, best iteration is:\n",
      "[206]\ttraining's l1: 2.38922\tvalid_1's l1: 2.60849\n"
     ]
    },
    {
     "name": "stderr",
     "output_type": "stream",
     "text": [
      "\u001b[32m[I 2021-07-30 00:03:43,963]\u001b[0m Trial 29 finished with value: -2.6074177988658622 and parameters: {'max_depth': 14, 'min_child_weight': 19, 'subsample': 0.7, 'colsample_bytree': 0.7, 'reg_lambda': 296.4100951186948, 'reg_alpha': 0.013025853627936068, 'feature_fraction': 0.3355064923775109, 'bagging_fraction': 0.8255323654364752, 'bagging_freq': 17, 'num_leaves': 714, 'min_child_samples': 40}. Best is trial 24 with value: -2.5916710928160573.\u001b[0m\n"
     ]
    },
    {
     "name": "stdout",
     "output_type": "stream",
     "text": [
      "[LightGBM] [Warning] feature_fraction is set=0.6469571722878, colsample_bytree=0.6 will be ignored. Current value: feature_fraction=0.6469571722878\n",
      "[LightGBM] [Warning] bagging_fraction is set=0.6263026999803125, subsample=0.5 will be ignored. Current value: bagging_fraction=0.6263026999803125\n",
      "[LightGBM] [Warning] bagging_freq is set=5, subsample_freq=0 will be ignored. Current value: bagging_freq=5\n",
      "Training until validation scores don't improve for 100 rounds\n",
      "[100]\ttraining's l1: 2.38877\tvalid_1's l1: 2.60978\n"
     ]
    },
    {
     "name": "stderr",
     "output_type": "stream",
     "text": [
      "\u001b[32m[I 2021-07-30 00:03:51,038]\u001b[0m Trial 30 finished with value: -2.6079058377138993 and parameters: {'max_depth': 20, 'min_child_weight': 1, 'subsample': 0.5, 'colsample_bytree': 0.6, 'reg_lambda': 1.4607125295668781, 'reg_alpha': 3.6516884677675066, 'feature_fraction': 0.6469571722878, 'bagging_fraction': 0.6263026999803125, 'bagging_freq': 5, 'num_leaves': 557, 'min_child_samples': 5}. Best is trial 24 with value: -2.5916710928160573.\u001b[0m\n"
     ]
    },
    {
     "name": "stdout",
     "output_type": "stream",
     "text": [
      "Early stopping, best iteration is:\n",
      "[93]\ttraining's l1: 2.39665\tvalid_1's l1: 2.60874\n",
      "[LightGBM] [Warning] feature_fraction is set=0.5574607987388873, colsample_bytree=0.6 will be ignored. Current value: feature_fraction=0.5574607987388873\n",
      "[LightGBM] [Warning] bagging_fraction is set=0.9931833739168363, subsample=0.5 will be ignored. Current value: bagging_fraction=0.9931833739168363\n",
      "[LightGBM] [Warning] bagging_freq is set=5, subsample_freq=0 will be ignored. Current value: bagging_freq=5\n",
      "Training until validation scores don't improve for 100 rounds\n",
      "[100]\ttraining's l1: 2.45055\tvalid_1's l1: 2.59804\n",
      "[200]\ttraining's l1: 2.40183\tvalid_1's l1: 2.59693\n",
      "[300]\ttraining's l1: 2.36404\tvalid_1's l1: 2.59747\n"
     ]
    },
    {
     "name": "stderr",
     "output_type": "stream",
     "text": [
      "\u001b[32m[I 2021-07-30 00:03:58,648]\u001b[0m Trial 31 finished with value: -2.5945696550857047 and parameters: {'max_depth': 11, 'min_child_weight': 16, 'subsample': 0.5, 'colsample_bytree': 0.6, 'reg_lambda': 2.7464357562523687, 'reg_alpha': 0.2258464056904815, 'feature_fraction': 0.5574607987388873, 'bagging_fraction': 0.9931833739168363, 'bagging_freq': 5, 'num_leaves': 590, 'min_child_samples': 76}. Best is trial 24 with value: -2.5916710928160573.\u001b[0m\n"
     ]
    },
    {
     "name": "stdout",
     "output_type": "stream",
     "text": [
      "Early stopping, best iteration is:\n",
      "[221]\ttraining's l1: 2.39269\tvalid_1's l1: 2.5951\n",
      "[LightGBM] [Warning] feature_fraction is set=0.45932464134553774, colsample_bytree=0.6 will be ignored. Current value: feature_fraction=0.45932464134553774\n",
      "[LightGBM] [Warning] bagging_fraction is set=0.934868404494716, subsample=0.5 will be ignored. Current value: bagging_fraction=0.934868404494716\n",
      "[LightGBM] [Warning] bagging_freq is set=4, subsample_freq=0 will be ignored. Current value: bagging_freq=4\n",
      "Training until validation scores don't improve for 100 rounds\n",
      "[100]\ttraining's l1: 2.45606\tvalid_1's l1: 2.60421\n",
      "[200]\ttraining's l1: 2.37683\tvalid_1's l1: 2.59791\n"
     ]
    },
    {
     "name": "stderr",
     "output_type": "stream",
     "text": [
      "\u001b[32m[I 2021-07-30 00:04:05,190]\u001b[0m Trial 32 finished with value: -2.596678692084258 and parameters: {'max_depth': 11, 'min_child_weight': 17, 'subsample': 0.5, 'colsample_bytree': 0.6, 'reg_lambda': 0.5671525949720773, 'reg_alpha': 0.39785524161241764, 'feature_fraction': 0.45932464134553774, 'bagging_fraction': 0.934868404494716, 'bagging_freq': 4, 'num_leaves': 405, 'min_child_samples': 50}. Best is trial 24 with value: -2.5916710928160573.\u001b[0m\n"
     ]
    },
    {
     "name": "stdout",
     "output_type": "stream",
     "text": [
      "Early stopping, best iteration is:\n",
      "[191]\ttraining's l1: 2.38358\tvalid_1's l1: 2.59719\n",
      "[LightGBM] [Warning] feature_fraction is set=0.5680879376421498, colsample_bytree=0.6 will be ignored. Current value: feature_fraction=0.5680879376421498\n",
      "[LightGBM] [Warning] bagging_fraction is set=0.8676130419038952, subsample=0.5 will be ignored. Current value: bagging_fraction=0.8676130419038952\n",
      "[LightGBM] [Warning] bagging_freq is set=6, subsample_freq=0 will be ignored. Current value: bagging_freq=6\n",
      "Training until validation scores don't improve for 100 rounds\n",
      "[100]\ttraining's l1: 2.45444\tvalid_1's l1: 2.60175\n",
      "[200]\ttraining's l1: 2.38526\tvalid_1's l1: 2.60018\n"
     ]
    },
    {
     "name": "stderr",
     "output_type": "stream",
     "text": [
      "\u001b[32m[I 2021-07-30 00:04:12,983]\u001b[0m Trial 33 finished with value: -2.597781905816441 and parameters: {'max_depth': 13, 'min_child_weight': 15, 'subsample': 0.5, 'colsample_bytree': 0.6, 'reg_lambda': 43.43061702390858, 'reg_alpha': 0.0016372394615447078, 'feature_fraction': 0.5680879376421498, 'bagging_fraction': 0.8676130419038952, 'bagging_freq': 6, 'num_leaves': 509, 'min_child_samples': 80}. Best is trial 24 with value: -2.5916710928160573.\u001b[0m\n"
     ]
    },
    {
     "name": "stdout",
     "output_type": "stream",
     "text": [
      "Early stopping, best iteration is:\n",
      "[145]\ttraining's l1: 2.42219\tvalid_1's l1: 2.59839\n",
      "[LightGBM] [Warning] feature_fraction is set=0.41620163047968584, colsample_bytree=0.7 will be ignored. Current value: feature_fraction=0.41620163047968584\n",
      "[LightGBM] [Warning] bagging_fraction is set=0.9987330325728555, subsample=0.6 will be ignored. Current value: bagging_fraction=0.9987330325728555\n",
      "[LightGBM] [Warning] bagging_freq is set=2, subsample_freq=0 will be ignored. Current value: bagging_freq=2\n",
      "Training until validation scores don't improve for 100 rounds\n",
      "[100]\ttraining's l1: 2.4331\tvalid_1's l1: 2.60603\n",
      "[200]\ttraining's l1: 2.38321\tvalid_1's l1: 2.60259\n"
     ]
    },
    {
     "name": "stderr",
     "output_type": "stream",
     "text": [
      "\u001b[32m[I 2021-07-30 00:04:19,256]\u001b[0m Trial 34 finished with value: -2.6015854814162176 and parameters: {'max_depth': 12, 'min_child_weight': 19, 'subsample': 0.6, 'colsample_bytree': 0.7, 'reg_lambda': 2.0526623017129344, 'reg_alpha': 0.01973061447561855, 'feature_fraction': 0.41620163047968584, 'bagging_fraction': 0.9987330325728555, 'bagging_freq': 2, 'num_leaves': 663, 'min_child_samples': 81}. Best is trial 24 with value: -2.5916710928160573.\u001b[0m\n"
     ]
    },
    {
     "name": "stdout",
     "output_type": "stream",
     "text": [
      "Early stopping, best iteration is:\n",
      "[148]\ttraining's l1: 2.40216\tvalid_1's l1: 2.60192\n",
      "[LightGBM] [Warning] feature_fraction is set=0.38084099566916385, colsample_bytree=0.5 will be ignored. Current value: feature_fraction=0.38084099566916385\n",
      "[LightGBM] [Warning] bagging_fraction is set=0.7401770869299357, subsample=0.5 will be ignored. Current value: bagging_fraction=0.7401770869299357\n",
      "[LightGBM] [Warning] bagging_freq is set=9, subsample_freq=0 will be ignored. Current value: bagging_freq=9\n",
      "Training until validation scores don't improve for 100 rounds\n",
      "[100]\ttraining's l1: 2.52852\tvalid_1's l1: 2.61372\n",
      "[200]\ttraining's l1: 2.49322\tvalid_1's l1: 2.60687\n"
     ]
    },
    {
     "name": "stderr",
     "output_type": "stream",
     "text": [
      "\u001b[32m[I 2021-07-30 00:04:23,452]\u001b[0m Trial 35 finished with value: -2.6057129515072 and parameters: {'max_depth': 9, 'min_child_weight': 15, 'subsample': 0.5, 'colsample_bytree': 0.5, 'reg_lambda': 6.960485830518853, 'reg_alpha': 1.9523999752139591, 'feature_fraction': 0.38084099566916385, 'bagging_fraction': 0.7401770869299357, 'bagging_freq': 9, 'num_leaves': 740, 'min_child_samples': 99}. Best is trial 24 with value: -2.5916710928160573.\u001b[0m\n"
     ]
    },
    {
     "name": "stdout",
     "output_type": "stream",
     "text": [
      "[300]\ttraining's l1: 2.47053\tvalid_1's l1: 2.60833\n",
      "Early stopping, best iteration is:\n",
      "[208]\ttraining's l1: 2.49181\tvalid_1's l1: 2.60638\n",
      "[LightGBM] [Warning] feature_fraction is set=0.5307994138107837, colsample_bytree=0.6 will be ignored. Current value: feature_fraction=0.5307994138107837\n",
      "[LightGBM] [Warning] bagging_fraction is set=0.9470627069208177, subsample=0.6 will be ignored. Current value: bagging_fraction=0.9470627069208177\n",
      "[LightGBM] [Warning] bagging_freq is set=4, subsample_freq=0 will be ignored. Current value: bagging_freq=4\n",
      "Training until validation scores don't improve for 100 rounds\n",
      "[100]\ttraining's l1: 2.45937\tvalid_1's l1: 2.59545\n",
      "[200]\ttraining's l1: 2.41143\tvalid_1's l1: 2.59102\n"
     ]
    },
    {
     "name": "stderr",
     "output_type": "stream",
     "text": [
      "\u001b[32m[I 2021-07-30 00:04:28,481]\u001b[0m Trial 36 finished with value: -2.589447407202543 and parameters: {'max_depth': 9, 'min_child_weight': 12, 'subsample': 0.6, 'colsample_bytree': 0.6, 'reg_lambda': 1.127768426401577, 'reg_alpha': 0.05340158997314117, 'feature_fraction': 0.5307994138107837, 'bagging_fraction': 0.9470627069208177, 'bagging_freq': 4, 'num_leaves': 466, 'min_child_samples': 31}. Best is trial 36 with value: -2.589447407202543.\u001b[0m\n"
     ]
    },
    {
     "name": "stdout",
     "output_type": "stream",
     "text": [
      "Early stopping, best iteration is:\n",
      "[163]\ttraining's l1: 2.43056\tvalid_1's l1: 2.5898\n",
      "[LightGBM] [Warning] feature_fraction is set=0.6342518734662832, colsample_bytree=0.7 will be ignored. Current value: feature_fraction=0.6342518734662832\n",
      "[LightGBM] [Warning] bagging_fraction is set=0.942808813834199, subsample=0.5 will be ignored. Current value: bagging_fraction=0.942808813834199\n",
      "[LightGBM] [Warning] bagging_freq is set=1, subsample_freq=0 will be ignored. Current value: bagging_freq=1\n",
      "Training until validation scores don't improve for 100 rounds\n",
      "[100]\ttraining's l1: 2.39451\tvalid_1's l1: 2.58889\n",
      "[200]\ttraining's l1: 2.25133\tvalid_1's l1: 2.59623\n"
     ]
    },
    {
     "name": "stderr",
     "output_type": "stream",
     "text": [
      "\u001b[32m[I 2021-07-30 00:04:36,209]\u001b[0m Trial 37 finished with value: -2.586796724535684 and parameters: {'max_depth': 14, 'min_child_weight': 12, 'subsample': 0.5, 'colsample_bytree': 0.7, 'reg_lambda': 0.18380087326497896, 'reg_alpha': 0.051276715685497916, 'feature_fraction': 0.6342518734662832, 'bagging_fraction': 0.942808813834199, 'bagging_freq': 1, 'num_leaves': 455, 'min_child_samples': 21}. Best is trial 37 with value: -2.586796724535684.\u001b[0m\n"
     ]
    },
    {
     "name": "stdout",
     "output_type": "stream",
     "text": [
      "Early stopping, best iteration is:\n",
      "[129]\ttraining's l1: 2.34502\tvalid_1's l1: 2.58721\n",
      "[LightGBM] [Warning] feature_fraction is set=0.7636907727082382, colsample_bytree=0.8 will be ignored. Current value: feature_fraction=0.7636907727082382\n",
      "[LightGBM] [Warning] bagging_fraction is set=0.9423061082987639, subsample=0.6 will be ignored. Current value: bagging_fraction=0.9423061082987639\n",
      "[LightGBM] [Warning] bagging_freq is set=1, subsample_freq=0 will be ignored. Current value: bagging_freq=1\n",
      "Training until validation scores don't improve for 100 rounds\n",
      "[100]\ttraining's l1: 2.38568\tvalid_1's l1: 2.58868\n",
      "[200]\ttraining's l1: 2.25462\tvalid_1's l1: 2.58629\n"
     ]
    },
    {
     "name": "stderr",
     "output_type": "stream",
     "text": [
      "\u001b[32m[I 2021-07-30 00:04:45,582]\u001b[0m Trial 38 finished with value: -2.5834892578059403 and parameters: {'max_depth': 18, 'min_child_weight': 12, 'subsample': 0.6, 'colsample_bytree': 0.8, 'reg_lambda': 0.20834935677441835, 'reg_alpha': 0.04680336332725862, 'feature_fraction': 0.7636907727082382, 'bagging_fraction': 0.9423061082987639, 'bagging_freq': 1, 'num_leaves': 464, 'min_child_samples': 20}. Best is trial 38 with value: -2.5834892578059403.\u001b[0m\n"
     ]
    },
    {
     "name": "stdout",
     "output_type": "stream",
     "text": [
      "Early stopping, best iteration is:\n",
      "[184]\ttraining's l1: 2.27659\tvalid_1's l1: 2.58414\n",
      "[LightGBM] [Warning] feature_fraction is set=0.7884836945160526, colsample_bytree=0.9 will be ignored. Current value: feature_fraction=0.7884836945160526\n",
      "[LightGBM] [Warning] bagging_fraction is set=0.94692390247735, subsample=0.5 will be ignored. Current value: bagging_fraction=0.94692390247735\n",
      "[LightGBM] [Warning] bagging_freq is set=1, subsample_freq=0 will be ignored. Current value: bagging_freq=1\n",
      "Training until validation scores don't improve for 100 rounds\n",
      "[100]\ttraining's l1: 2.37248\tvalid_1's l1: 2.58777\n",
      "[200]\ttraining's l1: 2.231\tvalid_1's l1: 2.58959\n"
     ]
    },
    {
     "name": "stderr",
     "output_type": "stream",
     "text": [
      "\u001b[32m[I 2021-07-30 00:04:53,129]\u001b[0m Trial 39 finished with value: -2.5845750999641868 and parameters: {'max_depth': 18, 'min_child_weight': 12, 'subsample': 0.5, 'colsample_bytree': 0.9, 'reg_lambda': 0.042780864803471284, 'reg_alpha': 0.0522852694402468, 'feature_fraction': 0.7884836945160526, 'bagging_fraction': 0.94692390247735, 'bagging_freq': 1, 'num_leaves': 468, 'min_child_samples': 19}. Best is trial 38 with value: -2.5834892578059403.\u001b[0m\n"
     ]
    },
    {
     "name": "stdout",
     "output_type": "stream",
     "text": [
      "Early stopping, best iteration is:\n",
      "[114]\ttraining's l1: 2.35119\tvalid_1's l1: 2.58502\n",
      "[LightGBM] [Warning] feature_fraction is set=0.7935420539379916, colsample_bytree=0.9 will be ignored. Current value: feature_fraction=0.7935420539379916\n",
      "[LightGBM] [Warning] bagging_fraction is set=0.9308936230356848, subsample=0.6 will be ignored. Current value: bagging_fraction=0.9308936230356848\n",
      "[LightGBM] [Warning] bagging_freq is set=1, subsample_freq=0 will be ignored. Current value: bagging_freq=1\n",
      "Training until validation scores don't improve for 100 rounds\n",
      "[100]\ttraining's l1: 2.42547\tvalid_1's l1: 2.59069\n",
      "[200]\ttraining's l1: 2.32801\tvalid_1's l1: 2.58817\n"
     ]
    },
    {
     "name": "stderr",
     "output_type": "stream",
     "text": [
      "\u001b[32m[I 2021-07-30 00:05:01,055]\u001b[0m Trial 40 finished with value: -2.5873962188830286 and parameters: {'max_depth': 17, 'min_child_weight': 12, 'subsample': 0.6, 'colsample_bytree': 0.9, 'reg_lambda': 0.04043907989046208, 'reg_alpha': 0.050500435973644446, 'feature_fraction': 0.7935420539379916, 'bagging_fraction': 0.9308936230356848, 'bagging_freq': 1, 'num_leaves': 326, 'min_child_samples': 21}. Best is trial 38 with value: -2.5834892578059403.\u001b[0m\n"
     ]
    },
    {
     "name": "stdout",
     "output_type": "stream",
     "text": [
      "[300]\ttraining's l1: 2.24073\tvalid_1's l1: 2.59188\n",
      "Early stopping, best iteration is:\n",
      "[200]\ttraining's l1: 2.32801\tvalid_1's l1: 2.58817\n",
      "[LightGBM] [Warning] feature_fraction is set=0.7732459544839019, colsample_bytree=0.9 will be ignored. Current value: feature_fraction=0.7732459544839019\n",
      "[LightGBM] [Warning] bagging_fraction is set=0.9559721672117651, subsample=0.6 will be ignored. Current value: bagging_fraction=0.9559721672117651\n",
      "[LightGBM] [Warning] bagging_freq is set=1, subsample_freq=0 will be ignored. Current value: bagging_freq=1\n",
      "Training until validation scores don't improve for 100 rounds\n",
      "[100]\ttraining's l1: 2.4143\tvalid_1's l1: 2.5942\n",
      "[200]\ttraining's l1: 2.30578\tvalid_1's l1: 2.59405\n"
     ]
    },
    {
     "name": "stderr",
     "output_type": "stream",
     "text": [
      "\u001b[32m[I 2021-07-30 00:05:09,110]\u001b[0m Trial 41 finished with value: -2.591323521859083 and parameters: {'max_depth': 17, 'min_child_weight': 12, 'subsample': 0.6, 'colsample_bytree': 0.9, 'reg_lambda': 0.030476457071968537, 'reg_alpha': 0.04800027351513691, 'feature_fraction': 0.7732459544839019, 'bagging_fraction': 0.9559721672117651, 'bagging_freq': 1, 'num_leaves': 370, 'min_child_samples': 22}. Best is trial 38 with value: -2.5834892578059403.\u001b[0m\n"
     ]
    },
    {
     "name": "stdout",
     "output_type": "stream",
     "text": [
      "Early stopping, best iteration is:\n",
      "[185]\ttraining's l1: 2.32036\tvalid_1's l1: 2.59194\n",
      "[LightGBM] [Warning] feature_fraction is set=0.881054546417392, colsample_bytree=0.9 will be ignored. Current value: feature_fraction=0.881054546417392\n",
      "[LightGBM] [Warning] bagging_fraction is set=0.9603439459066675, subsample=0.7 will be ignored. Current value: bagging_fraction=0.9603439459066675\n",
      "[LightGBM] [Warning] bagging_freq is set=2, subsample_freq=0 will be ignored. Current value: bagging_freq=2\n",
      "Training until validation scores don't improve for 100 rounds\n",
      "[100]\ttraining's l1: 2.37644\tvalid_1's l1: 2.598\n",
      "[200]\ttraining's l1: 2.22713\tvalid_1's l1: 2.59522\n"
     ]
    },
    {
     "name": "stderr",
     "output_type": "stream",
     "text": [
      "\u001b[32m[I 2021-07-30 00:05:19,912]\u001b[0m Trial 42 finished with value: -2.5937280013652884 and parameters: {'max_depth': 18, 'min_child_weight': 10, 'subsample': 0.7, 'colsample_bytree': 0.9, 'reg_lambda': 0.2323220734875782, 'reg_alpha': 0.08474414564991196, 'feature_fraction': 0.881054546417392, 'bagging_fraction': 0.9603439459066675, 'bagging_freq': 2, 'num_leaves': 480, 'min_child_samples': 20}. Best is trial 38 with value: -2.5834892578059403.\u001b[0m\n"
     ]
    },
    {
     "name": "stdout",
     "output_type": "stream",
     "text": [
      "Early stopping, best iteration is:\n",
      "[191]\ttraining's l1: 2.23775\tvalid_1's l1: 2.59432\n",
      "[LightGBM] [Warning] feature_fraction is set=0.75365088287172, colsample_bytree=0.8 will be ignored. Current value: feature_fraction=0.75365088287172\n",
      "[LightGBM] [Warning] bagging_fraction is set=0.8207620193341082, subsample=0.6 will be ignored. Current value: bagging_fraction=0.8207620193341082\n",
      "[LightGBM] [Warning] bagging_freq is set=1, subsample_freq=0 will be ignored. Current value: bagging_freq=1\n",
      "Training until validation scores don't improve for 100 rounds\n",
      "[100]\ttraining's l1: 2.43215\tvalid_1's l1: 2.59108\n",
      "[200]\ttraining's l1: 2.32929\tvalid_1's l1: 2.58782\n"
     ]
    },
    {
     "name": "stderr",
     "output_type": "stream",
     "text": [
      "\u001b[32m[I 2021-07-30 00:05:26,638]\u001b[0m Trial 43 finished with value: -2.584862343081809 and parameters: {'max_depth': 16, 'min_child_weight': 12, 'subsample': 0.6, 'colsample_bytree': 0.8, 'reg_lambda': 0.005076520015346968, 'reg_alpha': 0.35057868131314157, 'feature_fraction': 0.75365088287172, 'bagging_fraction': 0.8207620193341082, 'bagging_freq': 1, 'num_leaves': 303, 'min_child_samples': 11}. Best is trial 38 with value: -2.5834892578059403.\u001b[0m\n"
     ]
    },
    {
     "name": "stdout",
     "output_type": "stream",
     "text": [
      "Early stopping, best iteration is:\n",
      "[170]\ttraining's l1: 2.3522\tvalid_1's l1: 2.58559\n",
      "[LightGBM] [Warning] feature_fraction is set=0.7569899925874711, colsample_bytree=0.8 will be ignored. Current value: feature_fraction=0.7569899925874711\n",
      "[LightGBM] [Warning] bagging_fraction is set=0.822664863058801, subsample=0.5 will be ignored. Current value: bagging_fraction=0.822664863058801\n",
      "[LightGBM] [Warning] bagging_freq is set=1, subsample_freq=0 will be ignored. Current value: bagging_freq=1\n",
      "Training until validation scores don't improve for 100 rounds\n",
      "[100]\ttraining's l1: 2.41655\tvalid_1's l1: 2.58088\n",
      "[200]\ttraining's l1: 2.32968\tvalid_1's l1: 2.58192\n"
     ]
    },
    {
     "name": "stderr",
     "output_type": "stream",
     "text": [
      "\u001b[32m[I 2021-07-30 00:05:32,879]\u001b[0m Trial 44 finished with value: -2.5787978199797985 and parameters: {'max_depth': 16, 'min_child_weight': 9, 'subsample': 0.5, 'colsample_bytree': 0.8, 'reg_lambda': 0.00589881738074361, 'reg_alpha': 0.3816675051145545, 'feature_fraction': 0.7569899925874711, 'bagging_fraction': 0.822664863058801, 'bagging_freq': 1, 'num_leaves': 313, 'min_child_samples': 6}. Best is trial 44 with value: -2.5787978199797985.\u001b[0m\n"
     ]
    },
    {
     "name": "stdout",
     "output_type": "stream",
     "text": [
      "Early stopping, best iteration is:\n",
      "[132]\ttraining's l1: 2.37944\tvalid_1's l1: 2.57936\n",
      "[LightGBM] [Warning] feature_fraction is set=0.7316336347929662, colsample_bytree=0.8 will be ignored. Current value: feature_fraction=0.7316336347929662\n",
      "[LightGBM] [Warning] bagging_fraction is set=0.8198889805462034, subsample=0.5 will be ignored. Current value: bagging_fraction=0.8198889805462034\n",
      "[LightGBM] [Warning] bagging_freq is set=3, subsample_freq=0 will be ignored. Current value: bagging_freq=3\n",
      "Training until validation scores don't improve for 100 rounds\n",
      "[100]\ttraining's l1: 2.42913\tvalid_1's l1: 2.58613\n",
      "[200]\ttraining's l1: 2.30821\tvalid_1's l1: 2.58354\n"
     ]
    },
    {
     "name": "stderr",
     "output_type": "stream",
     "text": [
      "\u001b[32m[I 2021-07-30 00:05:38,840]\u001b[0m Trial 45 finished with value: -2.581333051829196 and parameters: {'max_depth': 16, 'min_child_weight': 8, 'subsample': 0.5, 'colsample_bytree': 0.8, 'reg_lambda': 0.007805404930000588, 'reg_alpha': 0.6586244047694151, 'feature_fraction': 0.7316336347929662, 'bagging_fraction': 0.8198889805462034, 'bagging_freq': 3, 'num_leaves': 307, 'min_child_samples': 5}. Best is trial 44 with value: -2.5787978199797985.\u001b[0m\n"
     ]
    },
    {
     "name": "stdout",
     "output_type": "stream",
     "text": [
      "Early stopping, best iteration is:\n",
      "[117]\ttraining's l1: 2.39698\tvalid_1's l1: 2.58195\n",
      "[LightGBM] [Warning] feature_fraction is set=0.7479300688773104, colsample_bytree=0.8 will be ignored. Current value: feature_fraction=0.7479300688773104\n",
      "[LightGBM] [Warning] bagging_fraction is set=0.8082710857385381, subsample=0.5 will be ignored. Current value: bagging_fraction=0.8082710857385381\n",
      "[LightGBM] [Warning] bagging_freq is set=3, subsample_freq=0 will be ignored. Current value: bagging_freq=3\n",
      "Training until validation scores don't improve for 100 rounds\n",
      "[100]\ttraining's l1: 2.43655\tvalid_1's l1: 2.59273\n",
      "[200]\ttraining's l1: 2.31968\tvalid_1's l1: 2.59044\n"
     ]
    },
    {
     "name": "stderr",
     "output_type": "stream",
     "text": [
      "\u001b[32m[I 2021-07-30 00:05:45,315]\u001b[0m Trial 46 finished with value: -2.588195525320266 and parameters: {'max_depth': 16, 'min_child_weight': 8, 'subsample': 0.5, 'colsample_bytree': 0.8, 'reg_lambda': 0.0032382475971239684, 'reg_alpha': 0.5688238502419194, 'feature_fraction': 0.7479300688773104, 'bagging_fraction': 0.8082710857385381, 'bagging_freq': 3, 'num_leaves': 296, 'min_child_samples': 6}. Best is trial 44 with value: -2.5787978199797985.\u001b[0m\n"
     ]
    },
    {
     "name": "stdout",
     "output_type": "stream",
     "text": [
      "Early stopping, best iteration is:\n",
      "[143]\ttraining's l1: 2.38073\tvalid_1's l1: 2.58888\n",
      "[LightGBM] [Warning] feature_fraction is set=0.8522589681419463, colsample_bytree=0.8 will be ignored. Current value: feature_fraction=0.8522589681419463\n",
      "[LightGBM] [Warning] bagging_fraction is set=0.8668754418627526, subsample=0.5 will be ignored. Current value: bagging_fraction=0.8668754418627526\n",
      "[LightGBM] [Warning] bagging_freq is set=3, subsample_freq=0 will be ignored. Current value: bagging_freq=3\n",
      "Training until validation scores don't improve for 100 rounds\n",
      "[100]\ttraining's l1: 2.47077\tvalid_1's l1: 2.59441\n",
      "[200]\ttraining's l1: 2.3804\tvalid_1's l1: 2.5898\n",
      "[300]\ttraining's l1: 2.31907\tvalid_1's l1: 2.58927\n",
      "[400]\ttraining's l1: 2.24782\tvalid_1's l1: 2.59\n"
     ]
    },
    {
     "name": "stderr",
     "output_type": "stream",
     "text": [
      "\u001b[32m[I 2021-07-30 00:05:54,436]\u001b[0m Trial 47 finished with value: -2.5878404011029414 and parameters: {'max_depth': 18, 'min_child_weight': 5, 'subsample': 0.5, 'colsample_bytree': 0.8, 'reg_lambda': 0.006865438087955672, 'reg_alpha': 1.208575417416611, 'feature_fraction': 0.8522589681419463, 'bagging_fraction': 0.8668754418627526, 'bagging_freq': 3, 'num_leaves': 220, 'min_child_samples': 11}. Best is trial 44 with value: -2.5787978199797985.\u001b[0m\n"
     ]
    },
    {
     "name": "stdout",
     "output_type": "stream",
     "text": [
      "Early stopping, best iteration is:\n",
      "[314]\ttraining's l1: 2.3068\tvalid_1's l1: 2.5887\n",
      "[LightGBM] [Warning] feature_fraction is set=0.7379269165936494, colsample_bytree=0.8 will be ignored. Current value: feature_fraction=0.7379269165936494\n",
      "[LightGBM] [Warning] bagging_fraction is set=0.8308106371595068, subsample=0.5 will be ignored. Current value: bagging_fraction=0.8308106371595068\n",
      "[LightGBM] [Warning] bagging_freq is set=2, subsample_freq=0 will be ignored. Current value: bagging_freq=2\n",
      "Training until validation scores don't improve for 100 rounds\n",
      "[100]\ttraining's l1: 2.56357\tvalid_1's l1: 2.60979\n",
      "[200]\ttraining's l1: 2.50906\tvalid_1's l1: 2.59679\n",
      "[300]\ttraining's l1: 2.47522\tvalid_1's l1: 2.59105\n",
      "[400]\ttraining's l1: 2.45409\tvalid_1's l1: 2.59108\n",
      "[500]\ttraining's l1: 2.42868\tvalid_1's l1: 2.58709\n",
      "[600]\ttraining's l1: 2.38379\tvalid_1's l1: 2.58634\n"
     ]
    },
    {
     "name": "stderr",
     "output_type": "stream",
     "text": [
      "\u001b[32m[I 2021-07-30 00:06:01,674]\u001b[0m Trial 48 finished with value: -2.582812332125124 and parameters: {'max_depth': 15, 'min_child_weight': 9, 'subsample': 0.5, 'colsample_bytree': 0.8, 'reg_lambda': 0.0011134475575690639, 'reg_alpha': 0.34125383160050293, 'feature_fraction': 0.7379269165936494, 'bagging_fraction': 0.8308106371595068, 'bagging_freq': 2, 'num_leaves': 58, 'min_child_samples': 5}. Best is trial 44 with value: -2.5787978199797985.\u001b[0m\n"
     ]
    },
    {
     "name": "stdout",
     "output_type": "stream",
     "text": [
      "Early stopping, best iteration is:\n",
      "[538]\ttraining's l1: 2.40948\tvalid_1's l1: 2.58418\n",
      "[LightGBM] [Warning] feature_fraction is set=0.8369069436371561, colsample_bytree=0.8 will be ignored. Current value: feature_fraction=0.8369069436371561\n",
      "[LightGBM] [Warning] bagging_fraction is set=0.2212611604215241, subsample=0.5 will be ignored. Current value: bagging_fraction=0.2212611604215241\n",
      "[LightGBM] [Warning] bagging_freq is set=2, subsample_freq=0 will be ignored. Current value: bagging_freq=2\n",
      "Training until validation scores don't improve for 100 rounds\n",
      "[100]\ttraining's l1: 2.58063\tvalid_1's l1: 2.61775\n",
      "[200]\ttraining's l1: 2.55046\tvalid_1's l1: 2.6126\n"
     ]
    },
    {
     "name": "stderr",
     "output_type": "stream",
     "text": [
      "\u001b[32m[I 2021-07-30 00:06:04,471]\u001b[0m Trial 49 finished with value: -2.6093566010584364 and parameters: {'max_depth': 19, 'min_child_weight': 9, 'subsample': 0.5, 'colsample_bytree': 0.8, 'reg_lambda': 0.001108933354139485, 'reg_alpha': 2.3176542555477653, 'feature_fraction': 0.8369069436371561, 'bagging_fraction': 0.2212611604215241, 'bagging_freq': 2, 'num_leaves': 81, 'min_child_samples': 5}. Best is trial 44 with value: -2.5787978199797985.\u001b[0m\n"
     ]
    },
    {
     "name": "stdout",
     "output_type": "stream",
     "text": [
      "Early stopping, best iteration is:\n",
      "[165]\ttraining's l1: 2.55772\tvalid_1's l1: 2.61125\n",
      "[LightGBM] [Warning] feature_fraction is set=0.8916689091644273, colsample_bytree=0.8 will be ignored. Current value: feature_fraction=0.8916689091644273\n",
      "[LightGBM] [Warning] bagging_fraction is set=0.8890254086526372, subsample=0.5 will be ignored. Current value: bagging_fraction=0.8890254086526372\n",
      "[LightGBM] [Warning] bagging_freq is set=3, subsample_freq=0 will be ignored. Current value: bagging_freq=3\n",
      "Training until validation scores don't improve for 100 rounds\n",
      "[100]\ttraining's l1: 2.40414\tvalid_1's l1: 2.59075\n",
      "[200]\ttraining's l1: 2.2519\tvalid_1's l1: 2.584\n",
      "[300]\ttraining's l1: 2.15908\tvalid_1's l1: 2.58888\n"
     ]
    },
    {
     "name": "stderr",
     "output_type": "stream",
     "text": [
      "\u001b[32m[I 2021-07-30 00:06:17,080]\u001b[0m Trial 50 finished with value: -2.582905988873709 and parameters: {'max_depth': 15, 'min_child_weight': 6, 'subsample': 0.5, 'colsample_bytree': 0.8, 'reg_lambda': 0.012350605158313998, 'reg_alpha': 0.893407369189267, 'feature_fraction': 0.8916689091644273, 'bagging_fraction': 0.8890254086526372, 'bagging_freq': 3, 'num_leaves': 383, 'min_child_samples': 16}. Best is trial 44 with value: -2.5787978199797985.\u001b[0m\n"
     ]
    },
    {
     "name": "stdout",
     "output_type": "stream",
     "text": [
      "Early stopping, best iteration is:\n",
      "[227]\ttraining's l1: 2.21974\tvalid_1's l1: 2.58382\n",
      "[LightGBM] [Warning] feature_fraction is set=0.9227292840200843, colsample_bytree=0.8 will be ignored. Current value: feature_fraction=0.9227292840200843\n",
      "[LightGBM] [Warning] bagging_fraction is set=0.8944113099606722, subsample=0.5 will be ignored. Current value: bagging_fraction=0.8944113099606722\n",
      "[LightGBM] [Warning] bagging_freq is set=3, subsample_freq=0 will be ignored. Current value: bagging_freq=3\n",
      "Training until validation scores don't improve for 100 rounds\n",
      "[100]\ttraining's l1: 2.39681\tvalid_1's l1: 2.58856\n",
      "[200]\ttraining's l1: 2.26031\tvalid_1's l1: 2.58832\n"
     ]
    },
    {
     "name": "stderr",
     "output_type": "stream",
     "text": [
      "\u001b[32m[I 2021-07-30 00:06:25,889]\u001b[0m Trial 51 finished with value: -2.5835055432867025 and parameters: {'max_depth': 15, 'min_child_weight': 6, 'subsample': 0.5, 'colsample_bytree': 0.8, 'reg_lambda': 0.016144424012133802, 'reg_alpha': 0.8914311856882118, 'feature_fraction': 0.9227292840200843, 'bagging_fraction': 0.8944113099606722, 'bagging_freq': 3, 'num_leaves': 388, 'min_child_samples': 16}. Best is trial 44 with value: -2.5787978199797985.\u001b[0m\n"
     ]
    },
    {
     "name": "stdout",
     "output_type": "stream",
     "text": [
      "Early stopping, best iteration is:\n",
      "[141]\ttraining's l1: 2.33697\tvalid_1's l1: 2.584\n",
      "[LightGBM] [Warning] feature_fraction is set=0.9697644487998147, colsample_bytree=0.8 will be ignored. Current value: feature_fraction=0.9697644487998147\n",
      "[LightGBM] [Warning] bagging_fraction is set=0.8917669395535724, subsample=0.5 will be ignored. Current value: bagging_fraction=0.8917669395535724\n",
      "[LightGBM] [Warning] bagging_freq is set=3, subsample_freq=0 will be ignored. Current value: bagging_freq=3\n",
      "Training until validation scores don't improve for 100 rounds\n",
      "[100]\ttraining's l1: 2.40807\tvalid_1's l1: 2.59422\n",
      "[200]\ttraining's l1: 2.24784\tvalid_1's l1: 2.59473\n"
     ]
    },
    {
     "name": "stderr",
     "output_type": "stream",
     "text": [
      "\u001b[32m[I 2021-07-30 00:06:35,165]\u001b[0m Trial 52 finished with value: -2.589159796922229 and parameters: {'max_depth': 15, 'min_child_weight': 6, 'subsample': 0.5, 'colsample_bytree': 0.8, 'reg_lambda': 0.01417774176247468, 'reg_alpha': 1.0263278487743024, 'feature_fraction': 0.9697644487998147, 'bagging_fraction': 0.8917669395535724, 'bagging_freq': 3, 'num_leaves': 377, 'min_child_samples': 14}. Best is trial 44 with value: -2.5787978199797985.\u001b[0m\n"
     ]
    },
    {
     "name": "stdout",
     "output_type": "stream",
     "text": [
      "Early stopping, best iteration is:\n",
      "[157]\ttraining's l1: 2.31057\tvalid_1's l1: 2.58973\n",
      "[LightGBM] [Warning] feature_fraction is set=0.9067112155547358, colsample_bytree=0.8 will be ignored. Current value: feature_fraction=0.9067112155547358\n",
      "[LightGBM] [Warning] bagging_fraction is set=0.84739443609896, subsample=0.5 will be ignored. Current value: bagging_fraction=0.84739443609896\n",
      "[LightGBM] [Warning] bagging_freq is set=2, subsample_freq=0 will be ignored. Current value: bagging_freq=2\n",
      "Training until validation scores don't improve for 100 rounds\n",
      "[100]\ttraining's l1: 2.47434\tvalid_1's l1: 2.58967\n",
      "[200]\ttraining's l1: 2.3775\tvalid_1's l1: 2.58439\n",
      "[300]\ttraining's l1: 2.31525\tvalid_1's l1: 2.58418\n"
     ]
    },
    {
     "name": "stderr",
     "output_type": "stream",
     "text": [
      "\u001b[32m[I 2021-07-30 00:06:44,158]\u001b[0m Trial 53 finished with value: -2.581737144827068 and parameters: {'max_depth': 15, 'min_child_weight': 6, 'subsample': 0.5, 'colsample_bytree': 0.8, 'reg_lambda': 0.0019552652937847503, 'reg_alpha': 0.2532252709795302, 'feature_fraction': 0.9067112155547358, 'bagging_fraction': 0.84739443609896, 'bagging_freq': 2, 'num_leaves': 202, 'min_child_samples': 8}. Best is trial 44 with value: -2.5787978199797985.\u001b[0m\n"
     ]
    },
    {
     "name": "stdout",
     "output_type": "stream",
     "text": [
      "Early stopping, best iteration is:\n",
      "[267]\ttraining's l1: 2.33348\tvalid_1's l1: 2.58268\n",
      "[LightGBM] [Warning] feature_fraction is set=0.8915591371452375, colsample_bytree=0.8 will be ignored. Current value: feature_fraction=0.8915591371452375\n",
      "[LightGBM] [Warning] bagging_fraction is set=0.8430655054550875, subsample=0.5 will be ignored. Current value: bagging_fraction=0.8430655054550875\n",
      "[LightGBM] [Warning] bagging_freq is set=2, subsample_freq=0 will be ignored. Current value: bagging_freq=2\n",
      "Training until validation scores don't improve for 100 rounds\n",
      "[100]\ttraining's l1: 2.46941\tvalid_1's l1: 2.58942\n",
      "[200]\ttraining's l1: 2.36637\tvalid_1's l1: 2.58403\n",
      "[300]\ttraining's l1: 2.28744\tvalid_1's l1: 2.58369\n",
      "[400]\ttraining's l1: 2.23391\tvalid_1's l1: 2.58511\n"
     ]
    },
    {
     "name": "stderr",
     "output_type": "stream",
     "text": [
      "\u001b[32m[I 2021-07-30 00:06:53,177]\u001b[0m Trial 54 finished with value: -2.5803822162628363 and parameters: {'max_depth': 13, 'min_child_weight': 3, 'subsample': 0.5, 'colsample_bytree': 0.8, 'reg_lambda': 0.0019324404442179045, 'reg_alpha': 0.2691527099706196, 'feature_fraction': 0.8915591371452375, 'bagging_fraction': 0.8430655054550875, 'bagging_freq': 2, 'num_leaves': 211, 'min_child_samples': 8}. Best is trial 44 with value: -2.5787978199797985.\u001b[0m\n"
     ]
    },
    {
     "name": "stdout",
     "output_type": "stream",
     "text": [
      "Early stopping, best iteration is:\n",
      "[326]\ttraining's l1: 2.27245\tvalid_1's l1: 2.58194\n",
      "[LightGBM] [Warning] feature_fraction is set=0.8990030014576312, colsample_bytree=0.8 will be ignored. Current value: feature_fraction=0.8990030014576312\n",
      "[LightGBM] [Warning] bagging_fraction is set=0.8391124981743757, subsample=0.5 will be ignored. Current value: bagging_fraction=0.8391124981743757\n",
      "[LightGBM] [Warning] bagging_freq is set=2, subsample_freq=0 will be ignored. Current value: bagging_freq=2\n",
      "Training until validation scores don't improve for 100 rounds\n",
      "[100]\ttraining's l1: 2.46781\tvalid_1's l1: 2.59445\n",
      "[200]\ttraining's l1: 2.35326\tvalid_1's l1: 2.58764\n"
     ]
    },
    {
     "name": "stderr",
     "output_type": "stream",
     "text": [
      "\u001b[32m[I 2021-07-30 00:07:00,814]\u001b[0m Trial 55 finished with value: -2.5849942523127702 and parameters: {'max_depth': 13, 'min_child_weight': 4, 'subsample': 0.5, 'colsample_bytree': 0.8, 'reg_lambda': 0.001843360584321248, 'reg_alpha': 0.2645417918788872, 'feature_fraction': 0.8990030014576312, 'bagging_fraction': 0.8391124981743757, 'bagging_freq': 2, 'num_leaves': 210, 'min_child_samples': 8}. Best is trial 44 with value: -2.5787978199797985.\u001b[0m\n"
     ]
    },
    {
     "name": "stdout",
     "output_type": "stream",
     "text": [
      "[300]\ttraining's l1: 2.27293\tvalid_1's l1: 2.5933\n",
      "Early stopping, best iteration is:\n",
      "[202]\ttraining's l1: 2.3509\tvalid_1's l1: 2.58581\n",
      "[LightGBM] [Warning] feature_fraction is set=0.9918366503088234, colsample_bytree=0.8 will be ignored. Current value: feature_fraction=0.9918366503088234\n",
      "[LightGBM] [Warning] bagging_fraction is set=0.7901188635132339, subsample=0.5 will be ignored. Current value: bagging_fraction=0.7901188635132339\n",
      "[LightGBM] [Warning] bagging_freq is set=4, subsample_freq=0 will be ignored. Current value: bagging_freq=4\n",
      "Training until validation scores don't improve for 100 rounds\n",
      "[100]\ttraining's l1: 2.52311\tvalid_1's l1: 2.59955\n",
      "[200]\ttraining's l1: 2.44408\tvalid_1's l1: 2.59085\n",
      "[300]\ttraining's l1: 2.3713\tvalid_1's l1: 2.59206\n",
      "Early stopping, best iteration is:\n",
      "[212]\ttraining's l1: 2.43016\tvalid_1's l1: 2.58995\n"
     ]
    },
    {
     "name": "stderr",
     "output_type": "stream",
     "text": [
      "\u001b[32m[I 2021-07-30 00:07:06,192]\u001b[0m Trial 56 finished with value: -2.5893319613244508 and parameters: {'max_depth': 15, 'min_child_weight': 7, 'subsample': 0.5, 'colsample_bytree': 0.8, 'reg_lambda': 0.0021500047221949914, 'reg_alpha': 0.14240001214862322, 'feature_fraction': 0.9918366503088234, 'bagging_fraction': 0.7901188635132339, 'bagging_freq': 4, 'num_leaves': 108, 'min_child_samples': 9}. Best is trial 44 with value: -2.5787978199797985.\u001b[0m\n"
     ]
    },
    {
     "name": "stdout",
     "output_type": "stream",
     "text": [
      "[LightGBM] [Warning] feature_fraction is set=0.7267362703968074, colsample_bytree=0.8 will be ignored. Current value: feature_fraction=0.7267362703968074\n",
      "[LightGBM] [Warning] bagging_fraction is set=0.707385167736785, subsample=0.5 will be ignored. Current value: bagging_fraction=0.707385167736785\n",
      "[LightGBM] [Warning] bagging_freq is set=2, subsample_freq=0 will be ignored. Current value: bagging_freq=2\n",
      "Training until validation scores don't improve for 100 rounds\n",
      "[100]\ttraining's l1: 2.56874\tvalid_1's l1: 2.60508\n",
      "[200]\ttraining's l1: 2.52909\tvalid_1's l1: 2.59092\n",
      "[300]\ttraining's l1: 2.49871\tvalid_1's l1: 2.59262\n"
     ]
    },
    {
     "name": "stderr",
     "output_type": "stream",
     "text": [
      "\u001b[32m[I 2021-07-30 00:07:09,992]\u001b[0m Trial 57 finished with value: -2.5894137815020684 and parameters: {'max_depth': 13, 'min_child_weight': 3, 'subsample': 0.5, 'colsample_bytree': 0.8, 'reg_lambda': 0.003968030976172833, 'reg_alpha': 0.5186342111038629, 'feature_fraction': 0.7267362703968074, 'bagging_fraction': 0.707385167736785, 'bagging_freq': 2, 'num_leaves': 50, 'min_child_samples': 5}. Best is trial 44 with value: -2.5787978199797985.\u001b[0m\n"
     ]
    },
    {
     "name": "stdout",
     "output_type": "stream",
     "text": [
      "Early stopping, best iteration is:\n",
      "[227]\ttraining's l1: 2.52056\tvalid_1's l1: 2.59012\n",
      "[LightGBM] [Warning] feature_fraction is set=0.8258842726292136, colsample_bytree=0.9 will be ignored. Current value: feature_fraction=0.8258842726292136\n",
      "[LightGBM] [Warning] bagging_fraction is set=0.8540553394424287, subsample=0.5 will be ignored. Current value: bagging_fraction=0.8540553394424287\n",
      "[LightGBM] [Warning] bagging_freq is set=4, subsample_freq=0 will be ignored. Current value: bagging_freq=4\n",
      "Training until validation scores don't improve for 100 rounds\n",
      "[100]\ttraining's l1: 2.51216\tvalid_1's l1: 2.60095\n",
      "[200]\ttraining's l1: 2.45886\tvalid_1's l1: 2.59133\n",
      "[300]\ttraining's l1: 2.40852\tvalid_1's l1: 2.58974\n"
     ]
    },
    {
     "name": "stderr",
     "output_type": "stream",
     "text": [
      "\u001b[32m[I 2021-07-30 00:07:16,821]\u001b[0m Trial 58 finished with value: -2.587409469421904 and parameters: {'max_depth': 15, 'min_child_weight': 7, 'subsample': 0.5, 'colsample_bytree': 0.9, 'reg_lambda': 0.007435060162899514, 'reg_alpha': 7.961387167857503, 'feature_fraction': 0.8258842726292136, 'bagging_fraction': 0.8540553394424287, 'bagging_freq': 4, 'num_leaves': 153, 'min_child_samples': 12}. Best is trial 44 with value: -2.5787978199797985.\u001b[0m\n"
     ]
    },
    {
     "name": "stdout",
     "output_type": "stream",
     "text": [
      "Early stopping, best iteration is:\n",
      "[256]\ttraining's l1: 2.42566\tvalid_1's l1: 2.58805\n",
      "[LightGBM] [Warning] feature_fraction is set=0.8838151545853352, colsample_bytree=0.8 will be ignored. Current value: feature_fraction=0.8838151545853352\n",
      "[LightGBM] [Warning] bagging_fraction is set=0.37849024314167323, subsample=0.9 will be ignored. Current value: bagging_fraction=0.37849024314167323\n",
      "[LightGBM] [Warning] bagging_freq is set=3, subsample_freq=0 will be ignored. Current value: bagging_freq=3\n",
      "Training until validation scores don't improve for 100 rounds\n",
      "[100]\ttraining's l1: 2.52103\tvalid_1's l1: 2.60481\n",
      "[200]\ttraining's l1: 2.4629\tvalid_1's l1: 2.60303\n"
     ]
    },
    {
     "name": "stderr",
     "output_type": "stream",
     "text": [
      "\u001b[32m[I 2021-07-30 00:07:21,254]\u001b[0m Trial 59 finished with value: -2.5975214860247955 and parameters: {'max_depth': 16, 'min_child_weight': 9, 'subsample': 0.9, 'colsample_bytree': 0.8, 'reg_lambda': 0.0010129897931936492, 'reg_alpha': 0.1041086154356223, 'feature_fraction': 0.8838151545853352, 'bagging_fraction': 0.37849024314167323, 'bagging_freq': 3, 'num_leaves': 196, 'min_child_samples': 25}. Best is trial 44 with value: -2.5787978199797985.\u001b[0m\n"
     ]
    },
    {
     "name": "stdout",
     "output_type": "stream",
     "text": [
      "Early stopping, best iteration is:\n",
      "[148]\ttraining's l1: 2.49028\tvalid_1's l1: 2.59947\n",
      "[LightGBM] [Warning] feature_fraction is set=0.9240738761121594, colsample_bytree=0.8 will be ignored. Current value: feature_fraction=0.9240738761121594\n",
      "[LightGBM] [Warning] bagging_fraction is set=0.7669330744890097, subsample=0.5 will be ignored. Current value: bagging_fraction=0.7669330744890097\n",
      "[LightGBM] [Warning] bagging_freq is set=2, subsample_freq=0 will be ignored. Current value: bagging_freq=2\n",
      "Training until validation scores don't improve for 100 rounds\n",
      "[100]\ttraining's l1: 2.45552\tvalid_1's l1: 2.59489\n",
      "[200]\ttraining's l1: 2.34541\tvalid_1's l1: 2.58866\n",
      "[300]\ttraining's l1: 2.25268\tvalid_1's l1: 2.58483\n"
     ]
    },
    {
     "name": "stderr",
     "output_type": "stream",
     "text": [
      "\u001b[32m[I 2021-07-30 00:07:31,204]\u001b[0m Trial 60 finished with value: -2.5811178435232702 and parameters: {'max_depth': 12, 'min_child_weight': 4, 'subsample': 0.5, 'colsample_bytree': 0.8, 'reg_lambda': 0.0016080882090816263, 'reg_alpha': 2.557363530771999, 'feature_fraction': 0.9240738761121594, 'bagging_fraction': 0.7669330744890097, 'bagging_freq': 2, 'num_leaves': 271, 'min_child_samples': 8}. Best is trial 44 with value: -2.5787978199797985.\u001b[0m\n"
     ]
    },
    {
     "name": "stdout",
     "output_type": "stream",
     "text": [
      "Early stopping, best iteration is:\n",
      "[254]\ttraining's l1: 2.28672\tvalid_1's l1: 2.58235\n",
      "[LightGBM] [Warning] feature_fraction is set=0.938140810220446, colsample_bytree=0.8 will be ignored. Current value: feature_fraction=0.938140810220446\n",
      "[LightGBM] [Warning] bagging_fraction is set=0.8009625251779041, subsample=0.5 will be ignored. Current value: bagging_fraction=0.8009625251779041\n",
      "[LightGBM] [Warning] bagging_freq is set=2, subsample_freq=0 will be ignored. Current value: bagging_freq=2\n",
      "Training until validation scores don't improve for 100 rounds\n",
      "[100]\ttraining's l1: 2.45026\tvalid_1's l1: 2.59044\n",
      "[200]\ttraining's l1: 2.32485\tvalid_1's l1: 2.58957\n"
     ]
    },
    {
     "name": "stderr",
     "output_type": "stream",
     "text": [
      "\u001b[32m[I 2021-07-30 00:07:38,532]\u001b[0m Trial 61 finished with value: -2.585707300919185 and parameters: {'max_depth': 12, 'min_child_weight': 4, 'subsample': 0.5, 'colsample_bytree': 0.8, 'reg_lambda': 0.0018156786123143735, 'reg_alpha': 2.6551830662202054, 'feature_fraction': 0.938140810220446, 'bagging_fraction': 0.8009625251779041, 'bagging_freq': 2, 'num_leaves': 269, 'min_child_samples': 8}. Best is trial 44 with value: -2.5787978199797985.\u001b[0m\n"
     ]
    },
    {
     "name": "stdout",
     "output_type": "stream",
     "text": [
      "Early stopping, best iteration is:\n",
      "[148]\ttraining's l1: 2.38587\tvalid_1's l1: 2.58631\n",
      "[LightGBM] [Warning] feature_fraction is set=0.8631826859771743, colsample_bytree=0.8 will be ignored. Current value: feature_fraction=0.8631826859771743\n",
      "[LightGBM] [Warning] bagging_fraction is set=0.7740649131615431, subsample=0.5 will be ignored. Current value: bagging_fraction=0.7740649131615431\n",
      "[LightGBM] [Warning] bagging_freq is set=4, subsample_freq=0 will be ignored. Current value: bagging_freq=4\n",
      "Training until validation scores don't improve for 100 rounds\n",
      "[100]\ttraining's l1: 2.43885\tvalid_1's l1: 2.59673\n",
      "[200]\ttraining's l1: 2.3228\tvalid_1's l1: 2.59728\n"
     ]
    },
    {
     "name": "stderr",
     "output_type": "stream",
     "text": [
      "\u001b[32m[I 2021-07-30 00:07:45,282]\u001b[0m Trial 62 finished with value: -2.593881772794353 and parameters: {'max_depth': 13, 'min_child_weight': 2, 'subsample': 0.5, 'colsample_bytree': 0.8, 'reg_lambda': 0.009952361020623707, 'reg_alpha': 1.5943757472582423, 'feature_fraction': 0.8631826859771743, 'bagging_fraction': 0.7740649131615431, 'bagging_freq': 4, 'num_leaves': 292, 'min_child_samples': 5}. Best is trial 44 with value: -2.5787978199797985.\u001b[0m\n"
     ]
    },
    {
     "name": "stdout",
     "output_type": "stream",
     "text": [
      "Early stopping, best iteration is:\n",
      "[155]\ttraining's l1: 2.37316\tvalid_1's l1: 2.59469\n",
      "[LightGBM] [Warning] feature_fraction is set=0.9579272569309452, colsample_bytree=0.8 will be ignored. Current value: feature_fraction=0.9579272569309452\n",
      "[LightGBM] [Warning] bagging_fraction is set=0.8444741400999731, subsample=0.5 will be ignored. Current value: bagging_fraction=0.8444741400999731\n",
      "[LightGBM] [Warning] bagging_freq is set=2, subsample_freq=0 will be ignored. Current value: bagging_freq=2\n",
      "Training until validation scores don't improve for 100 rounds\n",
      "[100]\ttraining's l1: 2.46228\tvalid_1's l1: 2.59532\n",
      "[200]\ttraining's l1: 2.34515\tvalid_1's l1: 2.59119\n"
     ]
    },
    {
     "name": "stderr",
     "output_type": "stream",
     "text": [
      "\u001b[32m[I 2021-07-30 00:07:53,044]\u001b[0m Trial 63 finished with value: -2.5881238827064483 and parameters: {'max_depth': 14, 'min_child_weight': 5, 'subsample': 0.5, 'colsample_bytree': 0.8, 'reg_lambda': 0.0013150322237900037, 'reg_alpha': 0.6670505486145203, 'feature_fraction': 0.9579272569309452, 'bagging_fraction': 0.8444741400999731, 'bagging_freq': 2, 'num_leaves': 238, 'min_child_samples': 13}. Best is trial 44 with value: -2.5787978199797985.\u001b[0m\n"
     ]
    },
    {
     "name": "stdout",
     "output_type": "stream",
     "text": [
      "Early stopping, best iteration is:\n",
      "[176]\ttraining's l1: 2.37135\tvalid_1's l1: 2.58883\n",
      "[LightGBM] [Warning] feature_fraction is set=0.9236574804345338, colsample_bytree=0.8 will be ignored. Current value: feature_fraction=0.9236574804345338\n",
      "[LightGBM] [Warning] bagging_fraction is set=0.9023728610240832, subsample=0.5 will be ignored. Current value: bagging_fraction=0.9023728610240832\n",
      "[LightGBM] [Warning] bagging_freq is set=3, subsample_freq=0 will be ignored. Current value: bagging_freq=3\n",
      "Training until validation scores don't improve for 100 rounds\n",
      "[100]\ttraining's l1: 2.49333\tvalid_1's l1: 2.59562\n",
      "[200]\ttraining's l1: 2.4036\tvalid_1's l1: 2.58977\n",
      "[300]\ttraining's l1: 2.33114\tvalid_1's l1: 2.59162\n"
     ]
    },
    {
     "name": "stderr",
     "output_type": "stream",
     "text": [
      "\u001b[32m[I 2021-07-30 00:08:01,248]\u001b[0m Trial 64 finished with value: -2.5874695657299593 and parameters: {'max_depth': 12, 'min_child_weight': 7, 'subsample': 0.5, 'colsample_bytree': 0.8, 'reg_lambda': 0.0028630022383685696, 'reg_alpha': 4.954104227300227, 'feature_fraction': 0.9236574804345338, 'bagging_fraction': 0.9023728610240832, 'bagging_freq': 3, 'num_leaves': 185, 'min_child_samples': 9}. Best is trial 44 with value: -2.5787978199797985.\u001b[0m\n"
     ]
    },
    {
     "name": "stdout",
     "output_type": "stream",
     "text": [
      "Early stopping, best iteration is:\n",
      "[238]\ttraining's l1: 2.37198\tvalid_1's l1: 2.58819\n",
      "[LightGBM] [Warning] feature_fraction is set=0.7156783766176223, colsample_bytree=0.8 will be ignored. Current value: feature_fraction=0.7156783766176223\n",
      "[LightGBM] [Warning] bagging_fraction is set=0.665713990401669, subsample=0.5 will be ignored. Current value: bagging_fraction=0.665713990401669\n",
      "[LightGBM] [Warning] bagging_freq is set=2, subsample_freq=0 will be ignored. Current value: bagging_freq=2\n",
      "Training until validation scores don't improve for 100 rounds\n",
      "[100]\ttraining's l1: 2.42969\tvalid_1's l1: 2.59023\n",
      "[200]\ttraining's l1: 2.32178\tvalid_1's l1: 2.59229\n"
     ]
    },
    {
     "name": "stderr",
     "output_type": "stream",
     "text": [
      "\u001b[32m[I 2021-07-30 00:08:07,265]\u001b[0m Trial 65 finished with value: -2.585084894065607 and parameters: {'max_depth': 17, 'min_child_weight': 9, 'subsample': 0.5, 'colsample_bytree': 0.8, 'reg_lambda': 0.005493536132770988, 'reg_alpha': 0.2766742136692756, 'feature_fraction': 0.7156783766176223, 'bagging_fraction': 0.665713990401669, 'bagging_freq': 2, 'num_leaves': 346, 'min_child_samples': 15}. Best is trial 44 with value: -2.5787978199797985.\u001b[0m\n"
     ]
    },
    {
     "name": "stdout",
     "output_type": "stream",
     "text": [
      "Early stopping, best iteration is:\n",
      "[117]\ttraining's l1: 2.40841\tvalid_1's l1: 2.58581\n",
      "[LightGBM] [Warning] feature_fraction is set=0.8110670637901308, colsample_bytree=0.9 will be ignored. Current value: feature_fraction=0.8110670637901308\n",
      "[LightGBM] [Warning] bagging_fraction is set=0.8159350614923537, subsample=0.5 will be ignored. Current value: bagging_fraction=0.8159350614923537\n",
      "[LightGBM] [Warning] bagging_freq is set=3, subsample_freq=0 will be ignored. Current value: bagging_freq=3\n",
      "Training until validation scores don't improve for 100 rounds\n",
      "[100]\ttraining's l1: 2.51569\tvalid_1's l1: 2.59473\n",
      "[200]\ttraining's l1: 2.43972\tvalid_1's l1: 2.58443\n"
     ]
    },
    {
     "name": "stderr",
     "output_type": "stream",
     "text": [
      "\u001b[32m[I 2021-07-30 00:08:11,641]\u001b[0m Trial 66 finished with value: -2.5828465347408165 and parameters: {'max_depth': 15, 'min_child_weight': 4, 'subsample': 0.5, 'colsample_bytree': 0.9, 'reg_lambda': 0.022640441452453617, 'reg_alpha': 0.18958077332277282, 'feature_fraction': 0.8110670637901308, 'bagging_fraction': 0.8159350614923537, 'bagging_freq': 3, 'num_leaves': 117, 'min_child_samples': 5}. Best is trial 44 with value: -2.5787978199797985.\u001b[0m\n"
     ]
    },
    {
     "name": "stdout",
     "output_type": "stream",
     "text": [
      "Early stopping, best iteration is:\n",
      "[152]\ttraining's l1: 2.4744\tvalid_1's l1: 2.58333\n",
      "[LightGBM] [Warning] feature_fraction is set=0.8196717555542711, colsample_bytree=0.9 will be ignored. Current value: feature_fraction=0.8196717555542711\n",
      "[LightGBM] [Warning] bagging_fraction is set=0.7588677258057739, subsample=0.5 will be ignored. Current value: bagging_fraction=0.7588677258057739\n",
      "[LightGBM] [Warning] bagging_freq is set=1, subsample_freq=0 will be ignored. Current value: bagging_freq=1\n",
      "Training until validation scores don't improve for 100 rounds\n",
      "[100]\ttraining's l1: 2.6499\tvalid_1's l1: 2.66213\n",
      "[200]\ttraining's l1: 2.60607\tvalid_1's l1: 2.6292\n",
      "[300]\ttraining's l1: 2.59155\tvalid_1's l1: 2.62302\n",
      "[400]\ttraining's l1: 2.57579\tvalid_1's l1: 2.61135\n",
      "[500]\ttraining's l1: 2.56553\tvalid_1's l1: 2.60732\n",
      "[600]\ttraining's l1: 2.55606\tvalid_1's l1: 2.60338\n",
      "[700]\ttraining's l1: 2.54842\tvalid_1's l1: 2.6001\n",
      "[800]\ttraining's l1: 2.54152\tvalid_1's l1: 2.59575\n",
      "[900]\ttraining's l1: 2.53375\tvalid_1's l1: 2.59364\n",
      "[1000]\ttraining's l1: 2.52829\tvalid_1's l1: 2.5936\n",
      "[1100]\ttraining's l1: 2.52068\tvalid_1's l1: 2.58665\n",
      "[1200]\ttraining's l1: 2.51264\tvalid_1's l1: 2.58472\n"
     ]
    },
    {
     "name": "stderr",
     "output_type": "stream",
     "text": [
      "\u001b[32m[I 2021-07-30 00:08:19,961]\u001b[0m Trial 67 finished with value: -2.5826514379607914 and parameters: {'max_depth': 16, 'min_child_weight': 3, 'subsample': 0.5, 'colsample_bytree': 0.9, 'reg_lambda': 0.003688836646445678, 'reg_alpha': 0.16453449600355285, 'feature_fraction': 0.8196717555542711, 'bagging_fraction': 0.7588677258057739, 'bagging_freq': 1, 'num_leaves': 13, 'min_child_samples': 5}. Best is trial 44 with value: -2.5787978199797985.\u001b[0m\n"
     ]
    },
    {
     "name": "stdout",
     "output_type": "stream",
     "text": [
      "Early stopping, best iteration is:\n",
      "[1185]\ttraining's l1: 2.51448\tvalid_1's l1: 2.58402\n",
      "[LightGBM] [Warning] feature_fraction is set=0.6887256393278264, colsample_bytree=0.9 will be ignored. Current value: feature_fraction=0.6887256393278264\n",
      "[LightGBM] [Warning] bagging_fraction is set=0.7190500915709787, subsample=0.5 will be ignored. Current value: bagging_fraction=0.7190500915709787\n",
      "[LightGBM] [Warning] bagging_freq is set=1, subsample_freq=0 will be ignored. Current value: bagging_freq=1\n",
      "Training until validation scores don't improve for 100 rounds\n",
      "[100]\ttraining's l1: 2.55359\tvalid_1's l1: 2.6037\n",
      "[200]\ttraining's l1: 2.49647\tvalid_1's l1: 2.58682\n",
      "[300]\ttraining's l1: 2.47027\tvalid_1's l1: 2.57947\n",
      "[400]\ttraining's l1: 2.44151\tvalid_1's l1: 2.58014\n",
      "Early stopping, best iteration is:\n",
      "[315]\ttraining's l1: 2.46557\tvalid_1's l1: 2.57839\n"
     ]
    },
    {
     "name": "stderr",
     "output_type": "stream",
     "text": [
      "\u001b[32m[I 2021-07-30 00:08:24,458]\u001b[0m Trial 68 finished with value: -2.5774171431951416 and parameters: {'max_depth': 16, 'min_child_weight': 1, 'subsample': 0.5, 'colsample_bytree': 0.9, 'reg_lambda': 0.0014432046154058476, 'reg_alpha': 0.4037194425901001, 'feature_fraction': 0.6887256393278264, 'bagging_fraction': 0.7190500915709787, 'bagging_freq': 1, 'num_leaves': 68, 'min_child_samples': 8}. Best is trial 68 with value: -2.5774171431951416.\u001b[0m\n"
     ]
    },
    {
     "name": "stdout",
     "output_type": "stream",
     "text": [
      "[LightGBM] [Warning] feature_fraction is set=0.6908074092958568, colsample_bytree=0.9 will be ignored. Current value: feature_fraction=0.6908074092958568\n",
      "[LightGBM] [Warning] bagging_fraction is set=0.722246135080913, subsample=0.5 will be ignored. Current value: bagging_fraction=0.722246135080913\n",
      "[LightGBM] [Warning] bagging_freq is set=1, subsample_freq=0 will be ignored. Current value: bagging_freq=1\n",
      "Training until validation scores don't improve for 100 rounds\n",
      "[100]\ttraining's l1: 2.59741\tvalid_1's l1: 2.62923\n",
      "[200]\ttraining's l1: 2.55624\tvalid_1's l1: 2.60978\n",
      "[300]\ttraining's l1: 2.53348\tvalid_1's l1: 2.60252\n",
      "[400]\ttraining's l1: 2.51307\tvalid_1's l1: 2.60238\n",
      "[500]\ttraining's l1: 2.49472\tvalid_1's l1: 2.5994\n",
      "[600]\ttraining's l1: 2.47908\tvalid_1's l1: 2.59676\n"
     ]
    },
    {
     "name": "stderr",
     "output_type": "stream",
     "text": [
      "\u001b[32m[I 2021-07-30 00:08:29,735]\u001b[0m Trial 69 finished with value: -2.595232819660408 and parameters: {'max_depth': 16, 'min_child_weight': 1, 'subsample': 0.5, 'colsample_bytree': 0.9, 'reg_lambda': 0.003913513303029143, 'reg_alpha': 0.15557874747763956, 'feature_fraction': 0.6908074092958568, 'bagging_fraction': 0.722246135080913, 'bagging_freq': 1, 'num_leaves': 29, 'min_child_samples': 10}. Best is trial 68 with value: -2.5774171431951416.\u001b[0m\n"
     ]
    },
    {
     "name": "stdout",
     "output_type": "stream",
     "text": [
      "[700]\ttraining's l1: 2.46718\tvalid_1's l1: 2.59817\n",
      "Early stopping, best iteration is:\n",
      "[602]\ttraining's l1: 2.47879\tvalid_1's l1: 2.59663\n",
      "[LightGBM] [Warning] feature_fraction is set=0.6323013757364289, colsample_bytree=0.9 will be ignored. Current value: feature_fraction=0.6323013757364289\n",
      "[LightGBM] [Warning] bagging_fraction is set=0.7680475925636802, subsample=0.5 will be ignored. Current value: bagging_fraction=0.7680475925636802\n",
      "[LightGBM] [Warning] bagging_freq is set=1, subsample_freq=0 will be ignored. Current value: bagging_freq=1\n",
      "Training until validation scores don't improve for 100 rounds\n",
      "[100]\ttraining's l1: 2.54402\tvalid_1's l1: 2.60087\n",
      "[200]\ttraining's l1: 2.4773\tvalid_1's l1: 2.59138\n",
      "[300]\ttraining's l1: 2.43998\tvalid_1's l1: 2.58741\n",
      "[400]\ttraining's l1: 2.41807\tvalid_1's l1: 2.58551\n",
      "[500]\ttraining's l1: 2.39984\tvalid_1's l1: 2.58574\n"
     ]
    },
    {
     "name": "stderr",
     "output_type": "stream",
     "text": [
      "\u001b[32m[I 2021-07-30 00:08:36,786]\u001b[0m Trial 70 finished with value: -2.5833449679479155 and parameters: {'max_depth': 14, 'min_child_weight': 2, 'subsample': 0.5, 'colsample_bytree': 0.9, 'reg_lambda': 0.0018265553521471724, 'reg_alpha': 1.410845133681477, 'feature_fraction': 0.6323013757364289, 'bagging_fraction': 0.7680475925636802, 'bagging_freq': 1, 'num_leaves': 85, 'min_child_samples': 8}. Best is trial 68 with value: -2.5774171431951416.\u001b[0m\n"
     ]
    },
    {
     "name": "stdout",
     "output_type": "stream",
     "text": [
      "Early stopping, best iteration is:\n",
      "[471]\ttraining's l1: 2.40549\tvalid_1's l1: 2.58454\n",
      "[LightGBM] [Warning] feature_fraction is set=0.7402067474516676, colsample_bytree=0.9 will be ignored. Current value: feature_fraction=0.7402067474516676\n",
      "[LightGBM] [Warning] bagging_fraction is set=0.572058490714313, subsample=0.5 will be ignored. Current value: bagging_fraction=0.572058490714313\n",
      "[LightGBM] [Warning] bagging_freq is set=2, subsample_freq=0 will be ignored. Current value: bagging_freq=2\n",
      "Training until validation scores don't improve for 100 rounds\n",
      "[100]\ttraining's l1: 2.5636\tvalid_1's l1: 2.60456\n",
      "[200]\ttraining's l1: 2.51861\tvalid_1's l1: 2.59406\n",
      "[300]\ttraining's l1: 2.49429\tvalid_1's l1: 2.59359\n",
      "[400]\ttraining's l1: 2.47202\tvalid_1's l1: 2.58939\n",
      "[500]\ttraining's l1: 2.45208\tvalid_1's l1: 2.59062\n"
     ]
    },
    {
     "name": "stderr",
     "output_type": "stream",
     "text": [
      "\u001b[32m[I 2021-07-30 00:08:42,647]\u001b[0m Trial 71 finished with value: -2.5869113358602394 and parameters: {'max_depth': 16, 'min_child_weight': 3, 'subsample': 0.5, 'colsample_bytree': 0.9, 'reg_lambda': 0.0014401859012884773, 'reg_alpha': 0.4971600264277122, 'feature_fraction': 0.7402067474516676, 'bagging_fraction': 0.572058490714313, 'bagging_freq': 2, 'num_leaves': 62, 'min_child_samples': 7}. Best is trial 68 with value: -2.5774171431951416.\u001b[0m\n"
     ]
    },
    {
     "name": "stdout",
     "output_type": "stream",
     "text": [
      "Early stopping, best iteration is:\n",
      "[478]\ttraining's l1: 2.45684\tvalid_1's l1: 2.58864\n",
      "[LightGBM] [Warning] feature_fraction is set=0.6735927096024703, colsample_bytree=0.7 will be ignored. Current value: feature_fraction=0.6735927096024703\n",
      "[LightGBM] [Warning] bagging_fraction is set=0.6837214472609059, subsample=0.5 will be ignored. Current value: bagging_fraction=0.6837214472609059\n",
      "[LightGBM] [Warning] bagging_freq is set=1, subsample_freq=0 will be ignored. Current value: bagging_freq=1\n",
      "Training until validation scores don't improve for 100 rounds\n",
      "[100]\ttraining's l1: 2.50737\tvalid_1's l1: 2.59431\n",
      "[200]\ttraining's l1: 2.43268\tvalid_1's l1: 2.58939\n",
      "[300]\ttraining's l1: 2.38305\tvalid_1's l1: 2.58799\n"
     ]
    },
    {
     "name": "stderr",
     "output_type": "stream",
     "text": [
      "\u001b[32m[I 2021-07-30 00:08:47,607]\u001b[0m Trial 72 finished with value: -2.584958616762931 and parameters: {'max_depth': 17, 'min_child_weight': 5, 'subsample': 0.5, 'colsample_bytree': 0.7, 'reg_lambda': 0.0026152890815039015, 'reg_alpha': 0.32452201682648807, 'feature_fraction': 0.6735927096024703, 'bagging_fraction': 0.6837214472609059, 'bagging_freq': 1, 'num_leaves': 146, 'min_child_samples': 12}. Best is trial 68 with value: -2.5774171431951416.\u001b[0m\n"
     ]
    },
    {
     "name": "stdout",
     "output_type": "stream",
     "text": [
      "Early stopping, best iteration is:\n",
      "[221]\ttraining's l1: 2.42047\tvalid_1's l1: 2.58593\n",
      "[LightGBM] [Warning] feature_fraction is set=0.8081171008724002, colsample_bytree=0.9 will be ignored. Current value: feature_fraction=0.8081171008724002\n",
      "[LightGBM] [Warning] bagging_fraction is set=0.7960664299994467, subsample=0.5 will be ignored. Current value: bagging_fraction=0.7960664299994467\n",
      "[LightGBM] [Warning] bagging_freq is set=2, subsample_freq=0 will be ignored. Current value: bagging_freq=2\n",
      "Training until validation scores don't improve for 100 rounds\n",
      "[100]\ttraining's l1: 2.6718\tvalid_1's l1: 2.67898\n",
      "[200]\ttraining's l1: 2.62543\tvalid_1's l1: 2.64124\n",
      "[300]\ttraining's l1: 2.60689\tvalid_1's l1: 2.63145\n",
      "[400]\ttraining's l1: 2.59055\tvalid_1's l1: 2.62045\n",
      "[500]\ttraining's l1: 2.58074\tvalid_1's l1: 2.61693\n",
      "[600]\ttraining's l1: 2.57132\tvalid_1's l1: 2.60907\n",
      "[700]\ttraining's l1: 2.56197\tvalid_1's l1: 2.60654\n",
      "[800]\ttraining's l1: 2.55467\tvalid_1's l1: 2.6055\n",
      "[900]\ttraining's l1: 2.54722\tvalid_1's l1: 2.6026\n",
      "[1000]\ttraining's l1: 2.54313\tvalid_1's l1: 2.59967\n",
      "[1100]\ttraining's l1: 2.54024\tvalid_1's l1: 2.60024\n",
      "Early stopping, best iteration is:\n",
      "[1014]\ttraining's l1: 2.54213\tvalid_1's l1: 2.59936\n"
     ]
    },
    {
     "name": "stderr",
     "output_type": "stream",
     "text": [
      "\u001b[32m[I 2021-07-30 00:08:55,819]\u001b[0m Trial 73 finished with value: -2.5981895224170937 and parameters: {'max_depth': 14, 'min_child_weight': 2, 'subsample': 0.5, 'colsample_bytree': 0.9, 'reg_lambda': 0.001069360850226514, 'reg_alpha': 0.08860628488578906, 'feature_fraction': 0.8081171008724002, 'bagging_fraction': 0.7960664299994467, 'bagging_freq': 2, 'num_leaves': 10, 'min_child_samples': 5}. Best is trial 68 with value: -2.5774171431951416.\u001b[0m\n"
     ]
    },
    {
     "name": "stdout",
     "output_type": "stream",
     "text": [
      "[LightGBM] [Warning] feature_fraction is set=0.7037066760729923, colsample_bytree=0.9 will be ignored. Current value: feature_fraction=0.7037066760729923\n",
      "[LightGBM] [Warning] bagging_fraction is set=0.7611036121809145, subsample=0.5 will be ignored. Current value: bagging_fraction=0.7611036121809145\n",
      "[LightGBM] [Warning] bagging_freq is set=20, subsample_freq=0 will be ignored. Current value: bagging_freq=20\n",
      "Training until validation scores don't improve for 100 rounds\n",
      "[100]\ttraining's l1: 2.47181\tvalid_1's l1: 2.59298\n",
      "[200]\ttraining's l1: 2.38256\tvalid_1's l1: 2.58796\n"
     ]
    },
    {
     "name": "stderr",
     "output_type": "stream",
     "text": [
      "\u001b[32m[I 2021-07-30 00:09:00,950]\u001b[0m Trial 74 finished with value: -2.584407691864575 and parameters: {'max_depth': 13, 'min_child_weight': 3, 'subsample': 0.5, 'colsample_bytree': 0.9, 'reg_lambda': 0.007554460486996667, 'reg_alpha': 0.4517857757083172, 'feature_fraction': 0.7037066760729923, 'bagging_fraction': 0.7611036121809145, 'bagging_freq': 20, 'num_leaves': 226, 'min_child_samples': 17}. Best is trial 68 with value: -2.5774171431951416.\u001b[0m\n"
     ]
    },
    {
     "name": "stdout",
     "output_type": "stream",
     "text": [
      "Early stopping, best iteration is:\n",
      "[160]\ttraining's l1: 2.4211\tvalid_1's l1: 2.58506\n",
      "[LightGBM] [Warning] feature_fraction is set=0.8566083985559825, colsample_bytree=0.8 will be ignored. Current value: feature_fraction=0.8566083985559825\n",
      "[LightGBM] [Warning] bagging_fraction is set=0.7292165604252072, subsample=0.5 will be ignored. Current value: bagging_fraction=0.7292165604252072\n",
      "[LightGBM] [Warning] bagging_freq is set=4, subsample_freq=0 will be ignored. Current value: bagging_freq=4\n",
      "Training until validation scores don't improve for 100 rounds\n",
      "[100]\ttraining's l1: 2.49332\tvalid_1's l1: 2.598\n",
      "[200]\ttraining's l1: 2.42681\tvalid_1's l1: 2.5874\n",
      "[300]\ttraining's l1: 2.36581\tvalid_1's l1: 2.58926\n"
     ]
    },
    {
     "name": "stderr",
     "output_type": "stream",
     "text": [
      "\u001b[32m[I 2021-07-30 00:09:06,996]\u001b[0m Trial 75 finished with value: -2.5840120905223336 and parameters: {'max_depth': 12, 'min_child_weight': 8, 'subsample': 0.5, 'colsample_bytree': 0.8, 'reg_lambda': 0.004249092827929109, 'reg_alpha': 0.20941801669325308, 'feature_fraction': 0.8566083985559825, 'bagging_fraction': 0.7292165604252072, 'bagging_freq': 4, 'num_leaves': 175, 'min_child_samples': 25}. Best is trial 68 with value: -2.5774171431951416.\u001b[0m\n"
     ]
    },
    {
     "name": "stdout",
     "output_type": "stream",
     "text": [
      "Early stopping, best iteration is:\n",
      "[241]\ttraining's l1: 2.39916\tvalid_1's l1: 2.58521\n",
      "[LightGBM] [Warning] feature_fraction is set=0.6658531929330368, colsample_bytree=0.7 will be ignored. Current value: feature_fraction=0.6658531929330368\n",
      "[LightGBM] [Warning] bagging_fraction is set=0.8286158106225447, subsample=0.5 will be ignored. Current value: bagging_fraction=0.8286158106225447\n",
      "[LightGBM] [Warning] bagging_freq is set=1, subsample_freq=0 will be ignored. Current value: bagging_freq=1\n",
      "Training until validation scores don't improve for 100 rounds\n",
      "[100]\ttraining's l1: 2.44464\tvalid_1's l1: 2.59386\n",
      "[200]\ttraining's l1: 2.3583\tvalid_1's l1: 2.58816\n"
     ]
    },
    {
     "name": "stderr",
     "output_type": "stream",
     "text": [
      "\u001b[32m[I 2021-07-30 00:09:14,469]\u001b[0m Trial 76 finished with value: -2.587304015530394 and parameters: {'max_depth': 17, 'min_child_weight': 10, 'subsample': 0.5, 'colsample_bytree': 0.7, 'reg_lambda': 0.002453995399573467, 'reg_alpha': 0.7527039015189235, 'feature_fraction': 0.6658531929330368, 'bagging_fraction': 0.8286158106225447, 'bagging_freq': 1, 'num_leaves': 268, 'min_child_samples': 13}. Best is trial 68 with value: -2.5774171431951416.\u001b[0m\n"
     ]
    },
    {
     "name": "stdout",
     "output_type": "stream",
     "text": [
      "[300]\ttraining's l1: 2.30027\tvalid_1's l1: 2.59792\n",
      "Early stopping, best iteration is:\n",
      "[200]\ttraining's l1: 2.3583\tvalid_1's l1: 2.58816\n",
      "[LightGBM] [Warning] feature_fraction is set=0.833390131616781, colsample_bytree=0.8 will be ignored. Current value: feature_fraction=0.833390131616781\n",
      "[LightGBM] [Warning] bagging_fraction is set=0.7450965614267397, subsample=0.5 will be ignored. Current value: bagging_fraction=0.7450965614267397\n",
      "[LightGBM] [Warning] bagging_freq is set=1, subsample_freq=0 will be ignored. Current value: bagging_freq=1\n",
      "Training until validation scores don't improve for 100 rounds\n",
      "[100]\ttraining's l1: 2.51896\tvalid_1's l1: 2.5978\n",
      "[200]\ttraining's l1: 2.44181\tvalid_1's l1: 2.58719\n",
      "[300]\ttraining's l1: 2.40227\tvalid_1's l1: 2.58824\n"
     ]
    },
    {
     "name": "stderr",
     "output_type": "stream",
     "text": [
      "\u001b[32m[I 2021-07-30 00:09:19,543]\u001b[0m Trial 77 finished with value: -2.5845870937754003 and parameters: {'max_depth': 16, 'min_child_weight': 1, 'subsample': 0.5, 'colsample_bytree': 0.8, 'reg_lambda': 0.009138408918286166, 'reg_alpha': 0.02865833371525876, 'feature_fraction': 0.833390131616781, 'bagging_fraction': 0.7450965614267397, 'bagging_freq': 1, 'num_leaves': 119, 'min_child_samples': 10}. Best is trial 68 with value: -2.5774171431951416.\u001b[0m\n"
     ]
    },
    {
     "name": "stdout",
     "output_type": "stream",
     "text": [
      "Early stopping, best iteration is:\n",
      "[234]\ttraining's l1: 2.42566\tvalid_1's l1: 2.58554\n",
      "[LightGBM] [Warning] feature_fraction is set=0.7814028853260572, colsample_bytree=0.8 will be ignored. Current value: feature_fraction=0.7814028853260572\n",
      "[LightGBM] [Warning] bagging_fraction is set=0.8670780922421513, subsample=0.5 will be ignored. Current value: bagging_fraction=0.8670780922421513\n",
      "[LightGBM] [Warning] bagging_freq is set=3, subsample_freq=0 will be ignored. Current value: bagging_freq=3\n",
      "Training until validation scores don't improve for 100 rounds\n",
      "[100]\ttraining's l1: 2.53856\tvalid_1's l1: 2.60039\n",
      "[200]\ttraining's l1: 2.47457\tvalid_1's l1: 2.58907\n",
      "[300]\ttraining's l1: 2.43616\tvalid_1's l1: 2.5824\n",
      "[400]\ttraining's l1: 2.41353\tvalid_1's l1: 2.58218\n"
     ]
    },
    {
     "name": "stderr",
     "output_type": "stream",
     "text": [
      "\u001b[32m[I 2021-07-30 00:09:25,478]\u001b[0m Trial 78 finished with value: -2.580568077926368 and parameters: {'max_depth': 15, 'min_child_weight': 4, 'subsample': 0.5, 'colsample_bytree': 0.8, 'reg_lambda': 0.0015009680992072406, 'reg_alpha': 0.13968529717150938, 'feature_fraction': 0.7814028853260572, 'bagging_fraction': 0.8670780922421513, 'bagging_freq': 3, 'num_leaves': 87, 'min_child_samples': 18}. Best is trial 68 with value: -2.5774171431951416.\u001b[0m\n"
     ]
    },
    {
     "name": "stdout",
     "output_type": "stream",
     "text": [
      "Early stopping, best iteration is:\n",
      "[340]\ttraining's l1: 2.43063\tvalid_1's l1: 2.58137\n",
      "[LightGBM] [Warning] feature_fraction is set=0.7807931152026374, colsample_bytree=0.9 will be ignored. Current value: feature_fraction=0.7807931152026374\n",
      "[LightGBM] [Warning] bagging_fraction is set=0.8648280641713513, subsample=0.6 will be ignored. Current value: bagging_fraction=0.8648280641713513\n",
      "[LightGBM] [Warning] bagging_freq is set=18, subsample_freq=0 will be ignored. Current value: bagging_freq=18\n",
      "Training until validation scores don't improve for 100 rounds\n",
      "[100]\ttraining's l1: 2.42732\tvalid_1's l1: 2.59945\n",
      "[200]\ttraining's l1: 2.3213\tvalid_1's l1: 2.59376\n"
     ]
    },
    {
     "name": "stderr",
     "output_type": "stream",
     "text": [
      "\u001b[32m[I 2021-07-30 00:09:32,713]\u001b[0m Trial 79 finished with value: -2.591745141361234 and parameters: {'max_depth': 14, 'min_child_weight': 4, 'subsample': 0.6, 'colsample_bytree': 0.9, 'reg_lambda': 0.0056352206216908835, 'reg_alpha': 3.588611265254577, 'feature_fraction': 0.7807931152026374, 'bagging_fraction': 0.8648280641713513, 'bagging_freq': 18, 'num_leaves': 325, 'min_child_samples': 17}. Best is trial 68 with value: -2.5774171431951416.\u001b[0m\n"
     ]
    },
    {
     "name": "stdout",
     "output_type": "stream",
     "text": [
      "Early stopping, best iteration is:\n",
      "[174]\ttraining's l1: 2.34371\tvalid_1's l1: 2.59234\n",
      "[LightGBM] [Warning] feature_fraction is set=0.914536169423377, colsample_bytree=0.7 will be ignored. Current value: feature_fraction=0.914536169423377\n",
      "[LightGBM] [Warning] bagging_fraction is set=0.6965362186486297, subsample=0.5 will be ignored. Current value: bagging_fraction=0.6965362186486297\n",
      "[LightGBM] [Warning] bagging_freq is set=7, subsample_freq=0 will be ignored. Current value: bagging_freq=7\n",
      "Training until validation scores don't improve for 100 rounds\n",
      "[100]\ttraining's l1: 2.44574\tvalid_1's l1: 2.59214\n",
      "[200]\ttraining's l1: 2.32078\tvalid_1's l1: 2.59156\n"
     ]
    },
    {
     "name": "stderr",
     "output_type": "stream",
     "text": [
      "\u001b[32m[I 2021-07-30 00:09:39,121]\u001b[0m Trial 80 finished with value: -2.584141453219809 and parameters: {'max_depth': 16, 'min_child_weight': 3, 'subsample': 0.5, 'colsample_bytree': 0.7, 'reg_lambda': 0.0014961016273990098, 'reg_alpha': 0.1218691506575156, 'feature_fraction': 0.914536169423377, 'bagging_fraction': 0.6965362186486297, 'bagging_freq': 7, 'num_leaves': 257, 'min_child_samples': 7}. Best is trial 68 with value: -2.5774171431951416.\u001b[0m\n"
     ]
    },
    {
     "name": "stdout",
     "output_type": "stream",
     "text": [
      "Early stopping, best iteration is:\n",
      "[145]\ttraining's l1: 2.39264\tvalid_1's l1: 2.58492\n",
      "[LightGBM] [Warning] feature_fraction is set=0.7371239177317086, colsample_bytree=0.8 will be ignored. Current value: feature_fraction=0.7371239177317086\n",
      "[LightGBM] [Warning] bagging_fraction is set=0.7812193424369623, subsample=0.5 will be ignored. Current value: bagging_fraction=0.7812193424369623\n",
      "[LightGBM] [Warning] bagging_freq is set=2, subsample_freq=0 will be ignored. Current value: bagging_freq=2\n",
      "Training until validation scores don't improve for 100 rounds\n",
      "[100]\ttraining's l1: 2.538\tvalid_1's l1: 2.60028\n",
      "[200]\ttraining's l1: 2.4829\tvalid_1's l1: 2.5859\n",
      "[300]\ttraining's l1: 2.4493\tvalid_1's l1: 2.57724\n"
     ]
    },
    {
     "name": "stderr",
     "output_type": "stream",
     "text": [
      "\u001b[32m[I 2021-07-30 00:09:44,679]\u001b[0m Trial 81 finished with value: -2.5761932638524696 and parameters: {'max_depth': 15, 'min_child_weight': 11, 'subsample': 0.5, 'colsample_bytree': 0.8, 'reg_lambda': 0.003032755323920707, 'reg_alpha': 0.366363643519398, 'feature_fraction': 0.7371239177317086, 'bagging_fraction': 0.7812193424369623, 'bagging_freq': 2, 'num_leaves': 85, 'min_child_samples': 5}. Best is trial 81 with value: -2.5761932638524696.\u001b[0m\n"
     ]
    },
    {
     "name": "stdout",
     "output_type": "stream",
     "text": [
      "[400]\ttraining's l1: 2.42305\tvalid_1's l1: 2.57886\n",
      "Early stopping, best iteration is:\n",
      "[302]\ttraining's l1: 2.44895\tvalid_1's l1: 2.57697\n",
      "[LightGBM] [Warning] feature_fraction is set=0.8076077717517544, colsample_bytree=0.8 will be ignored. Current value: feature_fraction=0.8076077717517544\n",
      "[LightGBM] [Warning] bagging_fraction is set=0.7891878586529202, subsample=0.5 will be ignored. Current value: bagging_fraction=0.7891878586529202\n",
      "[LightGBM] [Warning] bagging_freq is set=4, subsample_freq=0 will be ignored. Current value: bagging_freq=4\n",
      "Training until validation scores don't improve for 100 rounds\n",
      "[100]\ttraining's l1: 2.54352\tvalid_1's l1: 2.6065\n",
      "[200]\ttraining's l1: 2.47412\tvalid_1's l1: 2.59448\n",
      "[300]\ttraining's l1: 2.43082\tvalid_1's l1: 2.58777\n"
     ]
    },
    {
     "name": "stderr",
     "output_type": "stream",
     "text": [
      "\u001b[32m[I 2021-07-30 00:09:49,587]\u001b[0m Trial 82 finished with value: -2.58658682917873 and parameters: {'max_depth': 17, 'min_child_weight': 11, 'subsample': 0.5, 'colsample_bytree': 0.8, 'reg_lambda': 0.003037257222171982, 'reg_alpha': 0.21361450757929198, 'feature_fraction': 0.8076077717517544, 'bagging_fraction': 0.7891878586529202, 'bagging_freq': 4, 'num_leaves': 77, 'min_child_samples': 11}. Best is trial 81 with value: -2.5761932638524696.\u001b[0m\n"
     ]
    },
    {
     "name": "stdout",
     "output_type": "stream",
     "text": [
      "Early stopping, best iteration is:\n",
      "[288]\ttraining's l1: 2.43275\tvalid_1's l1: 2.58733\n",
      "[LightGBM] [Warning] feature_fraction is set=0.7186237522809209, colsample_bytree=0.8 will be ignored. Current value: feature_fraction=0.7186237522809209\n",
      "[LightGBM] [Warning] bagging_fraction is set=0.7561375577245911, subsample=0.5 will be ignored. Current value: bagging_fraction=0.7561375577245911\n",
      "[LightGBM] [Warning] bagging_freq is set=2, subsample_freq=0 will be ignored. Current value: bagging_freq=2\n",
      "Training until validation scores don't improve for 100 rounds\n",
      "[100]\ttraining's l1: 2.60064\tvalid_1's l1: 2.62672\n",
      "[200]\ttraining's l1: 2.55726\tvalid_1's l1: 2.60774\n",
      "[300]\ttraining's l1: 2.52837\tvalid_1's l1: 2.5997\n",
      "[400]\ttraining's l1: 2.50668\tvalid_1's l1: 2.59601\n",
      "[500]\ttraining's l1: 2.49161\tvalid_1's l1: 2.598\n",
      "Early stopping, best iteration is:\n",
      "[423]\ttraining's l1: 2.50344\tvalid_1's l1: 2.59575\n"
     ]
    },
    {
     "name": "stderr",
     "output_type": "stream",
     "text": [
      "\u001b[32m[I 2021-07-30 00:09:54,535]\u001b[0m Trial 83 finished with value: -2.5944004699493552 and parameters: {'max_depth': 14, 'min_child_weight': 4, 'subsample': 0.5, 'colsample_bytree': 0.8, 'reg_lambda': 0.0034597365481045163, 'reg_alpha': 0.5999355329942205, 'feature_fraction': 0.7186237522809209, 'bagging_fraction': 0.7561375577245911, 'bagging_freq': 2, 'num_leaves': 31, 'min_child_samples': 7}. Best is trial 81 with value: -2.5761932638524696.\u001b[0m\n"
     ]
    },
    {
     "name": "stdout",
     "output_type": "stream",
     "text": [
      "[LightGBM] [Warning] feature_fraction is set=0.7749764789064078, colsample_bytree=0.8 will be ignored. Current value: feature_fraction=0.7749764789064078\n",
      "[LightGBM] [Warning] bagging_fraction is set=0.6464232912783519, subsample=0.5 will be ignored. Current value: bagging_fraction=0.6464232912783519\n",
      "[LightGBM] [Warning] bagging_freq is set=3, subsample_freq=0 will be ignored. Current value: bagging_freq=3\n",
      "Training until validation scores don't improve for 100 rounds\n",
      "[100]\ttraining's l1: 2.65969\tvalid_1's l1: 2.67241\n",
      "[200]\ttraining's l1: 2.61498\tvalid_1's l1: 2.63188\n",
      "[300]\ttraining's l1: 2.59303\tvalid_1's l1: 2.61825\n",
      "[400]\ttraining's l1: 2.5827\tvalid_1's l1: 2.61318\n",
      "[500]\ttraining's l1: 2.57089\tvalid_1's l1: 2.60877\n",
      "[600]\ttraining's l1: 2.5625\tvalid_1's l1: 2.60574\n",
      "[700]\ttraining's l1: 2.55695\tvalid_1's l1: 2.60307\n",
      "[800]\ttraining's l1: 2.55311\tvalid_1's l1: 2.60134\n",
      "[900]\ttraining's l1: 2.5482\tvalid_1's l1: 2.59912\n",
      "[1000]\ttraining's l1: 2.54294\tvalid_1's l1: 2.59781\n",
      "[1100]\ttraining's l1: 2.53869\tvalid_1's l1: 2.59642\n",
      "[1200]\ttraining's l1: 2.53378\tvalid_1's l1: 2.59516\n",
      "[1300]\ttraining's l1: 2.53053\tvalid_1's l1: 2.59503\n",
      "[1400]\ttraining's l1: 2.52467\tvalid_1's l1: 2.59338\n"
     ]
    },
    {
     "name": "stderr",
     "output_type": "stream",
     "text": [
      "\u001b[32m[I 2021-07-30 00:10:03,066]\u001b[0m Trial 84 finished with value: -2.591444389472458 and parameters: {'max_depth': 15, 'min_child_weight': 5, 'subsample': 0.5, 'colsample_bytree': 0.8, 'reg_lambda': 0.001938756501707592, 'reg_alpha': 0.14659270484121575, 'feature_fraction': 0.7749764789064078, 'bagging_fraction': 0.6464232912783519, 'bagging_freq': 3, 'num_leaves': 11, 'min_child_samples': 14}. Best is trial 81 with value: -2.5761932638524696.\u001b[0m\n"
     ]
    },
    {
     "name": "stdout",
     "output_type": "stream",
     "text": [
      "Early stopping, best iteration is:\n",
      "[1380]\ttraining's l1: 2.52653\tvalid_1's l1: 2.59292\n",
      "[LightGBM] [Warning] feature_fraction is set=0.5902836679470906, colsample_bytree=0.8 will be ignored. Current value: feature_fraction=0.5902836679470906\n",
      "[LightGBM] [Warning] bagging_fraction is set=0.8804039821506463, subsample=0.5 will be ignored. Current value: bagging_fraction=0.8804039821506463\n",
      "[LightGBM] [Warning] bagging_freq is set=5, subsample_freq=0 will be ignored. Current value: bagging_freq=5\n",
      "Training until validation scores don't improve for 100 rounds\n",
      "[100]\ttraining's l1: 2.53338\tvalid_1's l1: 2.59917\n",
      "[200]\ttraining's l1: 2.46826\tvalid_1's l1: 2.58754\n",
      "[300]\ttraining's l1: 2.43553\tvalid_1's l1: 2.58679\n"
     ]
    },
    {
     "name": "stderr",
     "output_type": "stream",
     "text": [
      "\u001b[32m[I 2021-07-30 00:10:08,670]\u001b[0m Trial 85 finished with value: -2.5857937051800857 and parameters: {'max_depth': 11, 'min_child_weight': 2, 'subsample': 0.5, 'colsample_bytree': 0.8, 'reg_lambda': 0.022108748798480373, 'reg_alpha': 0.07818471926153352, 'feature_fraction': 0.5902836679470906, 'bagging_fraction': 0.8804039821506463, 'bagging_freq': 5, 'num_leaves': 96, 'min_child_samples': 18}. Best is trial 81 with value: -2.5761932638524696.\u001b[0m\n"
     ]
    },
    {
     "name": "stdout",
     "output_type": "stream",
     "text": [
      "Early stopping, best iteration is:\n",
      "[227]\ttraining's l1: 2.46091\tvalid_1's l1: 2.5864\n",
      "[LightGBM] [Warning] feature_fraction is set=0.8725509816472202, colsample_bytree=0.8 will be ignored. Current value: feature_fraction=0.8725509816472202\n",
      "[LightGBM] [Warning] bagging_fraction is set=0.8486274464156429, subsample=0.5 will be ignored. Current value: bagging_fraction=0.8486274464156429\n",
      "[LightGBM] [Warning] bagging_freq is set=1, subsample_freq=0 will be ignored. Current value: bagging_freq=1\n",
      "Training until validation scores don't improve for 100 rounds\n",
      "[100]\ttraining's l1: 2.47447\tvalid_1's l1: 2.58858\n",
      "[200]\ttraining's l1: 2.37479\tvalid_1's l1: 2.58074\n",
      "[300]\ttraining's l1: 2.32629\tvalid_1's l1: 2.58248\n"
     ]
    },
    {
     "name": "stderr",
     "output_type": "stream",
     "text": [
      "\u001b[32m[I 2021-07-30 00:10:15,183]\u001b[0m Trial 86 finished with value: -2.5775457676679374 and parameters: {'max_depth': 15, 'min_child_weight': 11, 'subsample': 0.5, 'colsample_bytree': 0.8, 'reg_lambda': 0.005030513188005119, 'reg_alpha': 0.3919804858335253, 'feature_fraction': 0.8725509816472202, 'bagging_fraction': 0.8486274464156429, 'bagging_freq': 1, 'num_leaves': 198, 'min_child_samples': 10}. Best is trial 81 with value: -2.5761932638524696.\u001b[0m\n"
     ]
    },
    {
     "name": "stdout",
     "output_type": "stream",
     "text": [
      "Early stopping, best iteration is:\n",
      "[215]\ttraining's l1: 2.36437\tvalid_1's l1: 2.57822\n",
      "[LightGBM] [Warning] feature_fraction is set=0.866090125281319, colsample_bytree=0.8 will be ignored. Current value: feature_fraction=0.866090125281319\n",
      "[LightGBM] [Warning] bagging_fraction is set=0.9111578476588863, subsample=0.5 will be ignored. Current value: bagging_fraction=0.9111578476588863\n",
      "[LightGBM] [Warning] bagging_freq is set=3, subsample_freq=0 will be ignored. Current value: bagging_freq=3\n",
      "Training until validation scores don't improve for 100 rounds\n",
      "[100]\ttraining's l1: 2.50173\tvalid_1's l1: 2.59206\n",
      "[200]\ttraining's l1: 2.42367\tvalid_1's l1: 2.58321\n",
      "[300]\ttraining's l1: 2.35234\tvalid_1's l1: 2.58124\n"
     ]
    },
    {
     "name": "stderr",
     "output_type": "stream",
     "text": [
      "\u001b[32m[I 2021-07-30 00:10:21,500]\u001b[0m Trial 87 finished with value: -2.578550553832321 and parameters: {'max_depth': 13, 'min_child_weight': 13, 'subsample': 0.5, 'colsample_bytree': 0.8, 'reg_lambda': 0.002344220194940489, 'reg_alpha': 0.3728694258335692, 'feature_fraction': 0.866090125281319, 'bagging_fraction': 0.9111578476588863, 'bagging_freq': 3, 'num_leaves': 147, 'min_child_samples': 10}. Best is trial 81 with value: -2.5761932638524696.\u001b[0m\n"
     ]
    },
    {
     "name": "stdout",
     "output_type": "stream",
     "text": [
      "Early stopping, best iteration is:\n",
      "[242]\ttraining's l1: 2.38507\tvalid_1's l1: 2.57938\n",
      "[LightGBM] [Warning] feature_fraction is set=0.8618458787993746, colsample_bytree=0.8 will be ignored. Current value: feature_fraction=0.8618458787993746\n",
      "[LightGBM] [Warning] bagging_fraction is set=0.9225169861666583, subsample=0.6 will be ignored. Current value: bagging_fraction=0.9225169861666583\n",
      "[LightGBM] [Warning] bagging_freq is set=3, subsample_freq=0 will be ignored. Current value: bagging_freq=3\n",
      "Training until validation scores don't improve for 100 rounds\n",
      "[100]\ttraining's l1: 2.50699\tvalid_1's l1: 2.60018\n",
      "[200]\ttraining's l1: 2.42943\tvalid_1's l1: 2.58894\n",
      "[300]\ttraining's l1: 2.37225\tvalid_1's l1: 2.58624\n"
     ]
    },
    {
     "name": "stderr",
     "output_type": "stream",
     "text": [
      "\u001b[32m[I 2021-07-30 00:10:27,545]\u001b[0m Trial 88 finished with value: -2.5834714260829648 and parameters: {'max_depth': 13, 'min_child_weight': 11, 'subsample': 0.6, 'colsample_bytree': 0.8, 'reg_lambda': 0.005519587904595805, 'reg_alpha': 1.105021902423638, 'feature_fraction': 0.8618458787993746, 'bagging_fraction': 0.9225169861666583, 'bagging_freq': 3, 'num_leaves': 137, 'min_child_samples': 14}. Best is trial 81 with value: -2.5761932638524696.\u001b[0m\n"
     ]
    },
    {
     "name": "stdout",
     "output_type": "stream",
     "text": [
      "Early stopping, best iteration is:\n",
      "[231]\ttraining's l1: 2.41091\tvalid_1's l1: 2.5841\n",
      "[LightGBM] [Warning] feature_fraction is set=0.978641733918912, colsample_bytree=0.8 will be ignored. Current value: feature_fraction=0.978641733918912\n",
      "[LightGBM] [Warning] bagging_fraction is set=0.9733953330434582, subsample=0.5 will be ignored. Current value: bagging_fraction=0.9733953330434582\n",
      "[LightGBM] [Warning] bagging_freq is set=4, subsample_freq=0 will be ignored. Current value: bagging_freq=4\n",
      "Training until validation scores don't improve for 100 rounds\n",
      "[100]\ttraining's l1: 2.49866\tvalid_1's l1: 2.59976\n",
      "[200]\ttraining's l1: 2.41774\tvalid_1's l1: 2.58628\n",
      "[300]\ttraining's l1: 2.38247\tvalid_1's l1: 2.58503\n"
     ]
    },
    {
     "name": "stderr",
     "output_type": "stream",
     "text": [
      "\u001b[32m[I 2021-07-30 00:10:34,197]\u001b[0m Trial 89 finished with value: -2.5832406321167003 and parameters: {'max_depth': 10, 'min_child_weight': 13, 'subsample': 0.5, 'colsample_bytree': 0.8, 'reg_lambda': 0.011051944821383058, 'reg_alpha': 0.4176451265663553, 'feature_fraction': 0.978641733918912, 'bagging_fraction': 0.9733953330434582, 'bagging_freq': 4, 'num_leaves': 158, 'min_child_samples': 23}. Best is trial 81 with value: -2.5761932638524696.\u001b[0m\n"
     ]
    },
    {
     "name": "stdout",
     "output_type": "stream",
     "text": [
      "Early stopping, best iteration is:\n",
      "[233]\ttraining's l1: 2.40281\tvalid_1's l1: 2.58399\n",
      "[LightGBM] [Warning] feature_fraction is set=0.7643568414569342, colsample_bytree=0.8 will be ignored. Current value: feature_fraction=0.7643568414569342\n",
      "[LightGBM] [Warning] bagging_fraction is set=0.8098846390898982, subsample=0.5 will be ignored. Current value: bagging_fraction=0.8098846390898982\n",
      "[LightGBM] [Warning] bagging_freq is set=5, subsample_freq=0 will be ignored. Current value: bagging_freq=5\n",
      "Training until validation scores don't improve for 100 rounds\n",
      "[100]\ttraining's l1: 2.45388\tvalid_1's l1: 2.59386\n",
      "[200]\ttraining's l1: 2.33897\tvalid_1's l1: 2.59397\n"
     ]
    },
    {
     "name": "stderr",
     "output_type": "stream",
     "text": [
      "\u001b[32m[I 2021-07-30 00:10:39,594]\u001b[0m Trial 90 finished with value: -2.586654374117564 and parameters: {'max_depth': 12, 'min_child_weight': 13, 'subsample': 0.5, 'colsample_bytree': 0.8, 'reg_lambda': 0.0014087576036893844, 'reg_alpha': 2.0435922950073406, 'feature_fraction': 0.7643568414569342, 'bagging_fraction': 0.8098846390898982, 'bagging_freq': 5, 'num_leaves': 286, 'min_child_samples': 10}. Best is trial 81 with value: -2.5761932638524696.\u001b[0m\n"
     ]
    },
    {
     "name": "stdout",
     "output_type": "stream",
     "text": [
      "Early stopping, best iteration is:\n",
      "[124]\ttraining's l1: 2.42157\tvalid_1's l1: 2.58725\n",
      "[LightGBM] [Warning] feature_fraction is set=0.8978116350810603, colsample_bytree=0.8 will be ignored. Current value: feature_fraction=0.8978116350810603\n",
      "[LightGBM] [Warning] bagging_fraction is set=0.911117042329615, subsample=0.5 will be ignored. Current value: bagging_fraction=0.911117042329615\n",
      "[LightGBM] [Warning] bagging_freq is set=2, subsample_freq=0 will be ignored. Current value: bagging_freq=2\n",
      "Training until validation scores don't improve for 100 rounds\n",
      "[100]\ttraining's l1: 2.47488\tvalid_1's l1: 2.59066\n",
      "[200]\ttraining's l1: 2.34684\tvalid_1's l1: 2.58422\n"
     ]
    },
    {
     "name": "stderr",
     "output_type": "stream",
     "text": [
      "\u001b[32m[I 2021-07-30 00:10:46,380]\u001b[0m Trial 91 finished with value: -2.5817509002479757 and parameters: {'max_depth': 15, 'min_child_weight': 11, 'subsample': 0.5, 'colsample_bytree': 0.8, 'reg_lambda': 0.002045961871870799, 'reg_alpha': 0.26202379559238115, 'feature_fraction': 0.8978116350810603, 'bagging_fraction': 0.911117042329615, 'bagging_freq': 2, 'num_leaves': 204, 'min_child_samples': 8}. Best is trial 81 with value: -2.5761932638524696.\u001b[0m\n"
     ]
    },
    {
     "name": "stdout",
     "output_type": "stream",
     "text": [
      "Early stopping, best iteration is:\n",
      "[186]\ttraining's l1: 2.36404\tvalid_1's l1: 2.58238\n",
      "[LightGBM] [Warning] feature_fraction is set=0.9408886216757586, colsample_bytree=0.8 will be ignored. Current value: feature_fraction=0.9408886216757586\n",
      "[LightGBM] [Warning] bagging_fraction is set=0.8502013337765663, subsample=0.5 will be ignored. Current value: bagging_fraction=0.8502013337765663\n",
      "[LightGBM] [Warning] bagging_freq is set=3, subsample_freq=0 will be ignored. Current value: bagging_freq=3\n",
      "Training until validation scores don't improve for 100 rounds\n",
      "[100]\ttraining's l1: 2.48523\tvalid_1's l1: 2.59876\n",
      "[200]\ttraining's l1: 2.39016\tvalid_1's l1: 2.59175\n",
      "[300]\ttraining's l1: 2.33274\tvalid_1's l1: 2.58786\n",
      "[400]\ttraining's l1: 2.2873\tvalid_1's l1: 2.59074\n"
     ]
    },
    {
     "name": "stderr",
     "output_type": "stream",
     "text": [
      "\u001b[32m[I 2021-07-30 00:10:55,649]\u001b[0m Trial 92 finished with value: -2.586361216393761 and parameters: {'max_depth': 14, 'min_child_weight': 10, 'subsample': 0.5, 'colsample_bytree': 0.8, 'reg_lambda': 0.002708267724728989, 'reg_alpha': 0.7631176735091094, 'feature_fraction': 0.9408886216757586, 'bagging_fraction': 0.8502013337765663, 'bagging_freq': 3, 'num_leaves': 183, 'min_child_samples': 12}. Best is trial 81 with value: -2.5761932638524696.\u001b[0m\n"
     ]
    },
    {
     "name": "stdout",
     "output_type": "stream",
     "text": [
      "Early stopping, best iteration is:\n",
      "[320]\ttraining's l1: 2.32265\tvalid_1's l1: 2.58719\n",
      "[LightGBM] [Warning] feature_fraction is set=0.8722946590646619, colsample_bytree=0.8 will be ignored. Current value: feature_fraction=0.8722946590646619\n",
      "[LightGBM] [Warning] bagging_fraction is set=0.8707338421674725, subsample=0.5 will be ignored. Current value: bagging_fraction=0.8707338421674725\n",
      "[LightGBM] [Warning] bagging_freq is set=2, subsample_freq=0 will be ignored. Current value: bagging_freq=2\n",
      "Training until validation scores don't improve for 100 rounds\n",
      "[100]\ttraining's l1: 2.51805\tvalid_1's l1: 2.59462\n",
      "[200]\ttraining's l1: 2.44093\tvalid_1's l1: 2.58787\n",
      "[300]\ttraining's l1: 2.3909\tvalid_1's l1: 2.58315\n",
      "[400]\ttraining's l1: 2.36633\tvalid_1's l1: 2.58432\n",
      "Early stopping, best iteration is:\n",
      "[308]\ttraining's l1: 2.38879\tvalid_1's l1: 2.58256\n"
     ]
    },
    {
     "name": "stderr",
     "output_type": "stream",
     "text": [
      "\u001b[32m[I 2021-07-30 00:11:02,680]\u001b[0m Trial 93 finished with value: -2.5817148303250614 and parameters: {'max_depth': 13, 'min_child_weight': 7, 'subsample': 0.5, 'colsample_bytree': 0.8, 'reg_lambda': 0.005141863379243385, 'reg_alpha': 0.297047241871702, 'feature_fraction': 0.8722946590646619, 'bagging_fraction': 0.8707338421674725, 'bagging_freq': 2, 'num_leaves': 124, 'min_child_samples': 10}. Best is trial 81 with value: -2.5761932638524696.\u001b[0m\n"
     ]
    },
    {
     "name": "stdout",
     "output_type": "stream",
     "text": [
      "[LightGBM] [Warning] feature_fraction is set=0.8450160093268122, colsample_bytree=0.8 will be ignored. Current value: feature_fraction=0.8450160093268122\n",
      "[LightGBM] [Warning] bagging_fraction is set=0.8754086549628828, subsample=0.5 will be ignored. Current value: bagging_fraction=0.8754086549628828\n",
      "[LightGBM] [Warning] bagging_freq is set=1, subsample_freq=0 will be ignored. Current value: bagging_freq=1\n",
      "Training until validation scores don't improve for 100 rounds\n",
      "[100]\ttraining's l1: 2.51298\tvalid_1's l1: 2.5937\n",
      "[200]\ttraining's l1: 2.43199\tvalid_1's l1: 2.59031\n"
     ]
    },
    {
     "name": "stderr",
     "output_type": "stream",
     "text": [
      "\u001b[32m[I 2021-07-30 00:11:06,932]\u001b[0m Trial 94 finished with value: -2.5890638944637607 and parameters: {'max_depth': 13, 'min_child_weight': 8, 'subsample': 0.5, 'colsample_bytree': 0.8, 'reg_lambda': 0.00762038690437407, 'reg_alpha': 0.33051157652415175, 'feature_fraction': 0.8450160093268122, 'bagging_fraction': 0.8754086549628828, 'bagging_freq': 1, 'num_leaves': 126, 'min_child_samples': 19}. Best is trial 81 with value: -2.5761932638524696.\u001b[0m\n"
     ]
    },
    {
     "name": "stdout",
     "output_type": "stream",
     "text": [
      "Early stopping, best iteration is:\n",
      "[147]\ttraining's l1: 2.46628\tvalid_1's l1: 2.58947\n",
      "[LightGBM] [Warning] feature_fraction is set=0.869188696547167, colsample_bytree=0.7 will be ignored. Current value: feature_fraction=0.869188696547167\n",
      "[LightGBM] [Warning] bagging_fraction is set=0.8221302783301189, subsample=0.8 will be ignored. Current value: bagging_fraction=0.8221302783301189\n",
      "[LightGBM] [Warning] bagging_freq is set=3, subsample_freq=0 will be ignored. Current value: bagging_freq=3\n",
      "Training until validation scores don't improve for 100 rounds\n",
      "[100]\ttraining's l1: 2.49596\tvalid_1's l1: 2.588\n",
      "[200]\ttraining's l1: 2.42821\tvalid_1's l1: 2.58429\n",
      "[300]\ttraining's l1: 2.36606\tvalid_1's l1: 2.58534\n"
     ]
    },
    {
     "name": "stderr",
     "output_type": "stream",
     "text": [
      "\u001b[32m[I 2021-07-30 00:11:13,171]\u001b[0m Trial 95 finished with value: -2.5812895079437723 and parameters: {'max_depth': 12, 'min_child_weight': 13, 'subsample': 0.8, 'colsample_bytree': 0.7, 'reg_lambda': 0.0047132448019909685, 'reg_alpha': 1.2978787532376326, 'feature_fraction': 0.869188696547167, 'bagging_fraction': 0.8221302783301189, 'bagging_freq': 3, 'num_leaves': 164, 'min_child_samples': 28}. Best is trial 81 with value: -2.5761932638524696.\u001b[0m\n"
     ]
    },
    {
     "name": "stdout",
     "output_type": "stream",
     "text": [
      "Early stopping, best iteration is:\n",
      "[232]\ttraining's l1: 2.40468\tvalid_1's l1: 2.58222\n",
      "[LightGBM] [Warning] feature_fraction is set=0.7887898853605022, colsample_bytree=0.7 will be ignored. Current value: feature_fraction=0.7887898853605022\n",
      "[LightGBM] [Warning] bagging_fraction is set=0.7828671076809471, subsample=0.8 will be ignored. Current value: bagging_fraction=0.7828671076809471\n",
      "[LightGBM] [Warning] bagging_freq is set=3, subsample_freq=0 will be ignored. Current value: bagging_freq=3\n",
      "Training until validation scores don't improve for 100 rounds\n",
      "[100]\ttraining's l1: 2.46859\tvalid_1's l1: 2.59601\n",
      "[200]\ttraining's l1: 2.39024\tvalid_1's l1: 2.58981\n"
     ]
    },
    {
     "name": "stderr",
     "output_type": "stream",
     "text": [
      "\u001b[32m[I 2021-07-30 00:11:19,085]\u001b[0m Trial 96 finished with value: -2.5865284616736357 and parameters: {'max_depth': 11, 'min_child_weight': 13, 'subsample': 0.8, 'colsample_bytree': 0.7, 'reg_lambda': 0.0010594251495868185, 'reg_alpha': 1.4495893837189116, 'feature_fraction': 0.7887898853605022, 'bagging_fraction': 0.7828671076809471, 'bagging_freq': 3, 'num_leaves': 233, 'min_child_samples': 15}. Best is trial 81 with value: -2.5761932638524696.\u001b[0m\n"
     ]
    },
    {
     "name": "stdout",
     "output_type": "stream",
     "text": [
      "Early stopping, best iteration is:\n",
      "[186]\ttraining's l1: 2.39788\tvalid_1's l1: 2.58731\n",
      "[LightGBM] [Warning] feature_fraction is set=0.6523720358684189, colsample_bytree=0.7 will be ignored. Current value: feature_fraction=0.6523720358684189\n",
      "[LightGBM] [Warning] bagging_fraction is set=0.8252910669189234, subsample=0.8 will be ignored. Current value: bagging_fraction=0.8252910669189234\n",
      "[LightGBM] [Warning] bagging_freq is set=4, subsample_freq=0 will be ignored. Current value: bagging_freq=4\n",
      "Training until validation scores don't improve for 100 rounds\n",
      "[100]\ttraining's l1: 2.50979\tvalid_1's l1: 2.59477\n",
      "[200]\ttraining's l1: 2.45693\tvalid_1's l1: 2.59329\n",
      "[300]\ttraining's l1: 2.41316\tvalid_1's l1: 2.59267\n"
     ]
    },
    {
     "name": "stderr",
     "output_type": "stream",
     "text": [
      "\u001b[32m[I 2021-07-30 00:11:26,649]\u001b[0m Trial 97 finished with value: -2.591384939789888 and parameters: {'max_depth': 12, 'min_child_weight': 14, 'subsample': 0.8, 'colsample_bytree': 0.7, 'reg_lambda': 0.014931839248265744, 'reg_alpha': 2.8559629320951774, 'feature_fraction': 0.6523720358684189, 'bagging_fraction': 0.8252910669189234, 'bagging_freq': 4, 'num_leaves': 161, 'min_child_samples': 54}. Best is trial 81 with value: -2.5761932638524696.\u001b[0m\n"
     ]
    },
    {
     "name": "stdout",
     "output_type": "stream",
     "text": [
      "Early stopping, best iteration is:\n",
      "[265]\ttraining's l1: 2.4255\tvalid_1's l1: 2.59219\n",
      "[LightGBM] [Warning] feature_fraction is set=0.7513178002708831, colsample_bytree=0.7 will be ignored. Current value: feature_fraction=0.7513178002708831\n",
      "[LightGBM] [Warning] bagging_fraction is set=0.9101436081673592, subsample=0.9 will be ignored. Current value: bagging_fraction=0.9101436081673592\n",
      "[LightGBM] [Warning] bagging_freq is set=6, subsample_freq=0 will be ignored. Current value: bagging_freq=6\n",
      "Training until validation scores don't improve for 100 rounds\n",
      "[100]\ttraining's l1: 2.53445\tvalid_1's l1: 2.59999\n",
      "[200]\ttraining's l1: 2.47113\tvalid_1's l1: 2.59268\n",
      "[300]\ttraining's l1: 2.43052\tvalid_1's l1: 2.59002\n"
     ]
    },
    {
     "name": "stderr",
     "output_type": "stream",
     "text": [
      "\u001b[32m[I 2021-07-30 00:11:31,647]\u001b[0m Trial 98 finished with value: -2.5881232513629913 and parameters: {'max_depth': 10, 'min_child_weight': 11, 'subsample': 0.9, 'colsample_bytree': 0.7, 'reg_lambda': 0.003965229719982608, 'reg_alpha': 4.969654638369698, 'feature_fraction': 0.7513178002708831, 'bagging_fraction': 0.9101436081673592, 'bagging_freq': 6, 'num_leaves': 101, 'min_child_samples': 27}. Best is trial 81 with value: -2.5761932638524696.\u001b[0m\n"
     ]
    },
    {
     "name": "stdout",
     "output_type": "stream",
     "text": [
      "Early stopping, best iteration is:\n",
      "[247]\ttraining's l1: 2.44757\tvalid_1's l1: 2.58876\n",
      "[LightGBM] [Warning] feature_fraction is set=0.6902073833213951, colsample_bytree=0.7 will be ignored. Current value: feature_fraction=0.6902073833213951\n",
      "[LightGBM] [Warning] bagging_fraction is set=0.8049994834871699, subsample=0.8 will be ignored. Current value: bagging_fraction=0.8049994834871699\n",
      "[LightGBM] [Warning] bagging_freq is set=3, subsample_freq=0 will be ignored. Current value: bagging_freq=3\n",
      "Training until validation scores don't improve for 100 rounds\n",
      "[100]\ttraining's l1: 2.47975\tvalid_1's l1: 2.59878\n",
      "[200]\ttraining's l1: 2.41189\tvalid_1's l1: 2.59204\n",
      "[300]\ttraining's l1: 2.34816\tvalid_1's l1: 2.59538\n"
     ]
    },
    {
     "name": "stderr",
     "output_type": "stream",
     "text": [
      "\u001b[32m[I 2021-07-30 00:11:38,183]\u001b[0m Trial 99 finished with value: -2.5900373942000487 and parameters: {'max_depth': 11, 'min_child_weight': 13, 'subsample': 0.8, 'colsample_bytree': 0.7, 'reg_lambda': 0.006838871731520568, 'reg_alpha': 6.711101327271728, 'feature_fraction': 0.6902073833213951, 'bagging_fraction': 0.8049994834871699, 'bagging_freq': 3, 'num_leaves': 249, 'min_child_samples': 23}. Best is trial 81 with value: -2.5761932638524696.\u001b[0m\n",
      "\u001b[32m[I 2021-07-30 00:11:38,183]\u001b[0m A new study created in memory with name: no-name-9b16c39b-cacb-4a4f-b48f-d22d486ad0bf\u001b[0m\n"
     ]
    },
    {
     "name": "stdout",
     "output_type": "stream",
     "text": [
      "Early stopping, best iteration is:\n",
      "[221]\ttraining's l1: 2.39677\tvalid_1's l1: 2.59085\n",
      "[LightGBM] [Warning] feature_fraction is set=0.46015347377935206, colsample_bytree=0.6 will be ignored. Current value: feature_fraction=0.46015347377935206\n",
      "[LightGBM] [Warning] bagging_fraction is set=0.8046297185534341, subsample=0.9 will be ignored. Current value: bagging_fraction=0.8046297185534341\n",
      "[LightGBM] [Warning] bagging_freq is set=9, subsample_freq=0 will be ignored. Current value: bagging_freq=9\n",
      "Training until validation scores don't improve for 100 rounds\n",
      "[100]\ttraining's l1: 3.08389\tvalid_1's l1: 2.93133\n"
     ]
    },
    {
     "name": "stderr",
     "output_type": "stream",
     "text": [
      "\u001b[32m[I 2021-07-30 00:11:39,918]\u001b[0m Trial 0 finished with value: -2.8756525254773417 and parameters: {'max_depth': 7, 'min_child_weight': 19, 'subsample': 0.9, 'colsample_bytree': 0.6, 'reg_lambda': 833.6712192585711, 'reg_alpha': 327.27056259301264, 'feature_fraction': 0.46015347377935206, 'bagging_fraction': 0.8046297185534341, 'bagging_freq': 9, 'num_leaves': 600, 'min_child_samples': 84}. Best is trial 0 with value: -2.8756525254773417.\u001b[0m\n"
     ]
    },
    {
     "name": "stdout",
     "output_type": "stream",
     "text": [
      "Early stopping, best iteration is:\n",
      "[31]\ttraining's l1: 3.26378\tvalid_1's l1: 2.87565\n",
      "[LightGBM] [Warning] feature_fraction is set=0.3919963051090254, colsample_bytree=0.6 will be ignored. Current value: feature_fraction=0.3919963051090254\n",
      "[LightGBM] [Warning] bagging_fraction is set=0.21137533904581104, subsample=0.5 will be ignored. Current value: bagging_fraction=0.21137533904581104\n",
      "[LightGBM] [Warning] bagging_freq is set=16, subsample_freq=0 will be ignored. Current value: bagging_freq=16\n",
      "Training until validation scores don't improve for 100 rounds\n",
      "[100]\ttraining's l1: 2.90314\tvalid_1's l1: 3.058\n"
     ]
    },
    {
     "name": "stderr",
     "output_type": "stream",
     "text": [
      "\u001b[32m[I 2021-07-30 00:11:41,917]\u001b[0m Trial 1 finished with value: -2.9363732944123604 and parameters: {'max_depth': 11, 'min_child_weight': 10, 'subsample': 0.5, 'colsample_bytree': 0.6, 'reg_lambda': 834.7097811834333, 'reg_alpha': 1.1449379663559427, 'feature_fraction': 0.3919963051090254, 'bagging_fraction': 0.21137533904581104, 'bagging_freq': 16, 'num_leaves': 482, 'min_child_samples': 6}. Best is trial 0 with value: -2.8756525254773417.\u001b[0m\n"
     ]
    },
    {
     "name": "stdout",
     "output_type": "stream",
     "text": [
      "Early stopping, best iteration is:\n",
      "[25]\ttraining's l1: 3.20474\tvalid_1's l1: 2.93637\n",
      "[LightGBM] [Warning] feature_fraction is set=0.7552455099549147, colsample_bytree=0.6 will be ignored. Current value: feature_fraction=0.7552455099549147\n",
      "[LightGBM] [Warning] bagging_fraction is set=0.6806888371899875, subsample=0.7 will be ignored. Current value: bagging_fraction=0.6806888371899875\n",
      "[LightGBM] [Warning] bagging_freq is set=1, subsample_freq=0 will be ignored. Current value: bagging_freq=1\n",
      "Training until validation scores don't improve for 100 rounds\n",
      "[100]\ttraining's l1: 2.84354\tvalid_1's l1: 2.98671\n"
     ]
    },
    {
     "name": "stderr",
     "output_type": "stream",
     "text": [
      "\u001b[32m[I 2021-07-30 00:11:44,302]\u001b[0m Trial 2 finished with value: -2.892483343032501 and parameters: {'max_depth': 11, 'min_child_weight': 20, 'subsample': 0.7, 'colsample_bytree': 0.6, 'reg_lambda': 679.3858766940455, 'reg_alpha': 0.015192823376136517, 'feature_fraction': 0.7552455099549147, 'bagging_fraction': 0.6806888371899875, 'bagging_freq': 1, 'num_leaves': 997, 'min_child_samples': 95}. Best is trial 0 with value: -2.8756525254773417.\u001b[0m\n"
     ]
    },
    {
     "name": "stdout",
     "output_type": "stream",
     "text": [
      "Early stopping, best iteration is:\n",
      "[22]\ttraining's l1: 3.15018\tvalid_1's l1: 2.89248\n",
      "[LightGBM] [Warning] feature_fraction is set=0.31089794349957167, colsample_bytree=0.8 will be ignored. Current value: feature_fraction=0.31089794349957167\n",
      "[LightGBM] [Warning] bagging_fraction is set=0.6774698360113188, subsample=0.9 will be ignored. Current value: bagging_fraction=0.6774698360113188\n",
      "[LightGBM] [Warning] bagging_freq is set=18, subsample_freq=0 will be ignored. Current value: bagging_freq=18\n",
      "Training until validation scores don't improve for 100 rounds\n",
      "[100]\ttraining's l1: 3.39945\tvalid_1's l1: 2.84052\n",
      "[200]\ttraining's l1: 3.33705\tvalid_1's l1: 2.82182\n",
      "[300]\ttraining's l1: 3.30648\tvalid_1's l1: 2.81516\n",
      "[400]\ttraining's l1: 3.28826\tvalid_1's l1: 2.80816\n",
      "[500]\ttraining's l1: 3.27428\tvalid_1's l1: 2.80339\n"
     ]
    },
    {
     "name": "stderr",
     "output_type": "stream",
     "text": [
      "\u001b[32m[I 2021-07-30 00:11:47,735]\u001b[0m Trial 3 finished with value: -2.8016011158115504 and parameters: {'max_depth': 1, 'min_child_weight': 17, 'subsample': 0.9, 'colsample_bytree': 0.8, 'reg_lambda': 0.6841644338125532, 'reg_alpha': 0.007534237379660424, 'feature_fraction': 0.31089794349957167, 'bagging_fraction': 0.6774698360113188, 'bagging_freq': 18, 'num_leaves': 714, 'min_child_samples': 41}. Best is trial 3 with value: -2.8016011158115504.\u001b[0m\n"
     ]
    },
    {
     "name": "stdout",
     "output_type": "stream",
     "text": [
      "[600]\ttraining's l1: 3.26245\tvalid_1's l1: 2.80282\n",
      "Early stopping, best iteration is:\n",
      "[526]\ttraining's l1: 3.27182\tvalid_1's l1: 2.8016\n",
      "[LightGBM] [Warning] feature_fraction is set=0.28326082213993237, colsample_bytree=0.6 will be ignored. Current value: feature_fraction=0.28326082213993237\n",
      "[LightGBM] [Warning] bagging_fraction is set=0.34127150115767524, subsample=0.6 will be ignored. Current value: bagging_fraction=0.34127150115767524\n",
      "[LightGBM] [Warning] bagging_freq is set=12, subsample_freq=0 will be ignored. Current value: bagging_freq=12\n",
      "Training until validation scores don't improve for 100 rounds\n"
     ]
    },
    {
     "name": "stderr",
     "output_type": "stream",
     "text": [
      "\u001b[32m[I 2021-07-30 00:11:48,776]\u001b[0m Trial 4 finished with value: -2.8180921898737075 and parameters: {'max_depth': 4, 'min_child_weight': 3, 'subsample': 0.6, 'colsample_bytree': 0.6, 'reg_lambda': 0.12554662564151314, 'reg_alpha': 0.0014428201633550006, 'feature_fraction': 0.28326082213993237, 'bagging_fraction': 0.34127150115767524, 'bagging_freq': 12, 'num_leaves': 711, 'min_child_samples': 33}. Best is trial 3 with value: -2.8016011158115504.\u001b[0m\n"
     ]
    },
    {
     "name": "stdout",
     "output_type": "stream",
     "text": [
      "[100]\ttraining's l1: 3.11015\tvalid_1's l1: 2.82488\n",
      "Early stopping, best iteration is:\n",
      "[54]\ttraining's l1: 3.17916\tvalid_1's l1: 2.81809\n",
      "[LightGBM] [Warning] feature_fraction is set=0.6105806126060331, colsample_bytree=0.8 will be ignored. Current value: feature_fraction=0.6105806126060331\n",
      "[LightGBM] [Warning] bagging_fraction is set=0.6946207019970961, subsample=0.6 will be ignored. Current value: bagging_fraction=0.6946207019970961\n",
      "[LightGBM] [Warning] bagging_freq is set=16, subsample_freq=0 will be ignored. Current value: bagging_freq=16\n",
      "Training until validation scores don't improve for 100 rounds\n",
      "[100]\ttraining's l1: 3.03825\tvalid_1's l1: 2.85169\n"
     ]
    },
    {
     "name": "stderr",
     "output_type": "stream",
     "text": [
      "\u001b[32m[I 2021-07-30 00:11:50,410]\u001b[0m Trial 5 finished with value: -2.820820426999043 and parameters: {'max_depth': 5, 'min_child_weight': 8, 'subsample': 0.6, 'colsample_bytree': 0.8, 'reg_lambda': 0.03208348608033222, 'reg_alpha': 7.575917526206847, 'feature_fraction': 0.6105806126060331, 'bagging_fraction': 0.6946207019970961, 'bagging_freq': 16, 'num_leaves': 543, 'min_child_samples': 84}. Best is trial 3 with value: -2.8016011158115504.\u001b[0m\n"
     ]
    },
    {
     "name": "stdout",
     "output_type": "stream",
     "text": [
      "Early stopping, best iteration is:\n",
      "[37]\ttraining's l1: 3.15761\tvalid_1's l1: 2.82082\n",
      "[LightGBM] [Warning] feature_fraction is set=0.4075130298714689, colsample_bytree=0.6 will be ignored. Current value: feature_fraction=0.4075130298714689\n",
      "[LightGBM] [Warning] bagging_fraction is set=0.9693205257915032, subsample=0.6 will be ignored. Current value: bagging_fraction=0.9693205257915032\n",
      "[LightGBM] [Warning] bagging_freq is set=11, subsample_freq=0 will be ignored. Current value: bagging_freq=11\n",
      "Training until validation scores don't improve for 100 rounds\n",
      "[100]\ttraining's l1: 3.17425\tvalid_1's l1: 2.81285\n"
     ]
    },
    {
     "name": "stderr",
     "output_type": "stream",
     "text": [
      "\u001b[32m[I 2021-07-30 00:11:52,347]\u001b[0m Trial 6 finished with value: -2.8102814370173763 and parameters: {'max_depth': 3, 'min_child_weight': 17, 'subsample': 0.6, 'colsample_bytree': 0.6, 'reg_lambda': 0.006750011545971598, 'reg_alpha': 0.1014184977957502, 'feature_fraction': 0.4075130298714689, 'bagging_fraction': 0.9693205257915032, 'bagging_freq': 11, 'num_leaves': 788, 'min_child_samples': 64}. Best is trial 3 with value: -2.8016011158115504.\u001b[0m\n"
     ]
    },
    {
     "name": "stdout",
     "output_type": "stream",
     "text": [
      "Early stopping, best iteration is:\n",
      "[83]\ttraining's l1: 3.19696\tvalid_1's l1: 2.81028\n",
      "[LightGBM] [Warning] feature_fraction is set=0.36902139549147006, colsample_bytree=0.7 will be ignored. Current value: feature_fraction=0.36902139549147006\n",
      "[LightGBM] [Warning] bagging_fraction is set=0.6295984879556489, subsample=0.6 will be ignored. Current value: bagging_fraction=0.6295984879556489\n",
      "[LightGBM] [Warning] bagging_freq is set=9, subsample_freq=0 will be ignored. Current value: bagging_freq=9\n",
      "Training until validation scores don't improve for 100 rounds\n",
      "[100]\ttraining's l1: 2.94667\tvalid_1's l1: 2.95214\n",
      "Early stopping, best iteration is:\n",
      "[20]\ttraining's l1: 3.23625\tvalid_1's l1: 2.86536\n"
     ]
    },
    {
     "name": "stderr",
     "output_type": "stream",
     "text": [
      "\u001b[32m[I 2021-07-30 00:11:54,090]\u001b[0m Trial 7 finished with value: -2.8653609305212377 and parameters: {'max_depth': 9, 'min_child_weight': 8, 'subsample': 0.6, 'colsample_bytree': 0.7, 'reg_lambda': 130.00870171844102, 'reg_alpha': 51.041159592057014, 'feature_fraction': 0.36902139549147006, 'bagging_fraction': 0.6295984879556489, 'bagging_freq': 9, 'num_leaves': 205, 'min_child_samples': 88}. Best is trial 3 with value: -2.8016011158115504.\u001b[0m\n"
     ]
    },
    {
     "name": "stdout",
     "output_type": "stream",
     "text": [
      "[LightGBM] [Warning] feature_fraction is set=0.4158507184385514, colsample_bytree=0.5 will be ignored. Current value: feature_fraction=0.4158507184385514\n",
      "[LightGBM] [Warning] bagging_fraction is set=0.2974222887310431, subsample=0.5 will be ignored. Current value: bagging_fraction=0.2974222887310431\n",
      "[LightGBM] [Warning] bagging_freq is set=4, subsample_freq=0 will be ignored. Current value: bagging_freq=4\n",
      "Training until validation scores don't improve for 100 rounds\n",
      "[100]\ttraining's l1: 2.90859\tvalid_1's l1: 3.00456\n"
     ]
    },
    {
     "name": "stderr",
     "output_type": "stream",
     "text": [
      "\u001b[32m[I 2021-07-30 00:11:56,139]\u001b[0m Trial 8 finished with value: -2.8761959549024674 and parameters: {'max_depth': 14, 'min_child_weight': 15, 'subsample': 0.5, 'colsample_bytree': 0.5, 'reg_lambda': 287.87687325624563, 'reg_alpha': 0.4881610642646503, 'feature_fraction': 0.4158507184385514, 'bagging_fraction': 0.2974222887310431, 'bagging_freq': 4, 'num_leaves': 633, 'min_child_samples': 82}. Best is trial 3 with value: -2.8016011158115504.\u001b[0m\n"
     ]
    },
    {
     "name": "stdout",
     "output_type": "stream",
     "text": [
      "Early stopping, best iteration is:\n",
      "[20]\ttraining's l1: 3.23892\tvalid_1's l1: 2.8762\n",
      "[LightGBM] [Warning] feature_fraction is set=0.9479846961104574, colsample_bytree=0.7 will be ignored. Current value: feature_fraction=0.9479846961104574\n",
      "[LightGBM] [Warning] bagging_fraction is set=0.8264507189894772, subsample=0.6 will be ignored. Current value: bagging_fraction=0.8264507189894772\n",
      "[LightGBM] [Warning] bagging_freq is set=18, subsample_freq=0 will be ignored. Current value: bagging_freq=18\n",
      "Training until validation scores don't improve for 100 rounds\n"
     ]
    },
    {
     "name": "stderr",
     "output_type": "stream",
     "text": [
      "\u001b[32m[I 2021-07-30 00:11:57,661]\u001b[0m Trial 9 finished with value: -2.895427090378185 and parameters: {'max_depth': 13, 'min_child_weight': 6, 'subsample': 0.6, 'colsample_bytree': 0.7, 'reg_lambda': 42.05083216432529, 'reg_alpha': 577.6294410564618, 'feature_fraction': 0.9479846961104574, 'bagging_fraction': 0.8264507189894772, 'bagging_freq': 18, 'num_leaves': 335, 'min_child_samples': 26}. Best is trial 3 with value: -2.8016011158115504.\u001b[0m\n"
     ]
    },
    {
     "name": "stdout",
     "output_type": "stream",
     "text": [
      "[100]\ttraining's l1: 3.11603\tvalid_1's l1: 2.91479\n",
      "Early stopping, best iteration is:\n",
      "[33]\ttraining's l1: 3.22375\tvalid_1's l1: 2.89543\n",
      "[LightGBM] [Warning] feature_fraction is set=0.2020823287703033, colsample_bytree=0.9 will be ignored. Current value: feature_fraction=0.2020823287703033\n",
      "[LightGBM] [Warning] bagging_fraction is set=0.4686775027717541, subsample=0.9 will be ignored. Current value: bagging_fraction=0.4686775027717541\n",
      "[LightGBM] [Warning] bagging_freq is set=20, subsample_freq=0 will be ignored. Current value: bagging_freq=20\n",
      "Training until validation scores don't improve for 100 rounds\n"
     ]
    },
    {
     "name": "stderr",
     "output_type": "stream",
     "text": [
      "\u001b[32m[I 2021-07-30 00:11:58,746]\u001b[0m Trial 10 finished with value: -2.8537872292482716 and parameters: {'max_depth': 19, 'min_child_weight': 13, 'subsample': 0.9, 'colsample_bytree': 0.9, 'reg_lambda': 3.771445853974622, 'reg_alpha': 0.0011373947424388872, 'feature_fraction': 0.2020823287703033, 'bagging_fraction': 0.4686775027717541, 'bagging_freq': 20, 'num_leaves': 40, 'min_child_samples': 51}. Best is trial 3 with value: -2.8016011158115504.\u001b[0m\n"
     ]
    },
    {
     "name": "stdout",
     "output_type": "stream",
     "text": [
      "[100]\ttraining's l1: 2.99948\tvalid_1's l1: 2.93674\n",
      "Early stopping, best iteration is:\n",
      "[22]\ttraining's l1: 3.24815\tvalid_1's l1: 2.85379\n",
      "[LightGBM] [Warning] feature_fraction is set=0.5599524664994717, colsample_bytree=0.9 will be ignored. Current value: feature_fraction=0.5599524664994717\n",
      "[LightGBM] [Warning] bagging_fraction is set=0.961907704684137, subsample=0.8 will be ignored. Current value: bagging_fraction=0.961907704684137\n",
      "[LightGBM] [Warning] bagging_freq is set=12, subsample_freq=0 will be ignored. Current value: bagging_freq=12\n",
      "Training until validation scores don't improve for 100 rounds\n",
      "[100]\ttraining's l1: 3.39759\tvalid_1's l1: 2.8372\n",
      "[200]\ttraining's l1: 3.33787\tvalid_1's l1: 2.82218\n",
      "[300]\ttraining's l1: 3.30668\tvalid_1's l1: 2.80997\n",
      "[400]\ttraining's l1: 3.29049\tvalid_1's l1: 2.80609\n",
      "[500]\ttraining's l1: 3.27789\tvalid_1's l1: 2.80394\n"
     ]
    },
    {
     "name": "stderr",
     "output_type": "stream",
     "text": [
      "\u001b[32m[I 2021-07-30 00:12:04,225]\u001b[0m Trial 11 finished with value: -2.8028356368157183 and parameters: {'max_depth': 1, 'min_child_weight': 16, 'subsample': 0.8, 'colsample_bytree': 0.9, 'reg_lambda': 0.00318771030371548, 'reg_alpha': 0.03675064874638421, 'feature_fraction': 0.5599524664994717, 'bagging_fraction': 0.961907704684137, 'bagging_freq': 12, 'num_leaves': 896, 'min_child_samples': 59}. Best is trial 3 with value: -2.8016011158115504.\u001b[0m\n"
     ]
    },
    {
     "name": "stdout",
     "output_type": "stream",
     "text": [
      "Early stopping, best iteration is:\n",
      "[489]\ttraining's l1: 3.2789\tvalid_1's l1: 2.80284\n",
      "[LightGBM] [Warning] feature_fraction is set=0.614237573081837, colsample_bytree=0.9 will be ignored. Current value: feature_fraction=0.614237573081837\n",
      "[LightGBM] [Warning] bagging_fraction is set=0.9932831997496917, subsample=0.8 will be ignored. Current value: bagging_fraction=0.9932831997496917\n",
      "[LightGBM] [Warning] bagging_freq is set=13, subsample_freq=0 will be ignored. Current value: bagging_freq=13\n",
      "Training until validation scores don't improve for 100 rounds\n",
      "[100]\ttraining's l1: 3.40085\tvalid_1's l1: 2.84168\n",
      "[200]\ttraining's l1: 3.33601\tvalid_1's l1: 2.82494\n",
      "[300]\ttraining's l1: 3.30588\tvalid_1's l1: 2.81108\n",
      "[400]\ttraining's l1: 3.2891\tvalid_1's l1: 2.80776\n",
      "[500]\ttraining's l1: 3.27755\tvalid_1's l1: 2.80513\n",
      "[600]\ttraining's l1: 3.26581\tvalid_1's l1: 2.80721\n",
      "Early stopping, best iteration is:\n",
      "[524]\ttraining's l1: 3.27489\tvalid_1's l1: 2.80359\n"
     ]
    },
    {
     "name": "stderr",
     "output_type": "stream",
     "text": [
      "\u001b[32m[I 2021-07-30 00:12:09,484]\u001b[0m Trial 12 finished with value: -2.80359461945858 and parameters: {'max_depth': 1, 'min_child_weight': 14, 'subsample': 0.8, 'colsample_bytree': 0.9, 'reg_lambda': 0.00120587951774862, 'reg_alpha': 0.013398290844070593, 'feature_fraction': 0.614237573081837, 'bagging_fraction': 0.9932831997496917, 'bagging_freq': 13, 'num_leaves': 932, 'min_child_samples': 56}. Best is trial 3 with value: -2.8016011158115504.\u001b[0m\n"
     ]
    },
    {
     "name": "stdout",
     "output_type": "stream",
     "text": [
      "[LightGBM] [Warning] feature_fraction is set=0.7823047937403567, colsample_bytree=0.8 will be ignored. Current value: feature_fraction=0.7823047937403567\n",
      "[LightGBM] [Warning] bagging_fraction is set=0.490522296019884, subsample=0.8 will be ignored. Current value: bagging_fraction=0.490522296019884\n",
      "[LightGBM] [Warning] bagging_freq is set=6, subsample_freq=0 will be ignored. Current value: bagging_freq=6\n",
      "Training until validation scores don't improve for 100 rounds\n",
      "[100]\ttraining's l1: 3.4028\tvalid_1's l1: 2.84283\n",
      "[200]\ttraining's l1: 3.32904\tvalid_1's l1: 2.81333\n",
      "[300]\ttraining's l1: 3.3017\tvalid_1's l1: 2.80789\n",
      "[400]\ttraining's l1: 3.28392\tvalid_1's l1: 2.80127\n"
     ]
    },
    {
     "name": "stderr",
     "output_type": "stream",
     "text": [
      "\u001b[32m[I 2021-07-30 00:12:11,427]\u001b[0m Trial 13 finished with value: -2.799295280236134 and parameters: {'max_depth': 1, 'min_child_weight': 17, 'subsample': 0.8, 'colsample_bytree': 0.8, 'reg_lambda': 1.117266736128503, 'reg_alpha': 0.011426308712884276, 'feature_fraction': 0.7823047937403567, 'bagging_fraction': 0.490522296019884, 'bagging_freq': 6, 'num_leaves': 849, 'min_child_samples': 35}. Best is trial 13 with value: -2.799295280236134.\u001b[0m\n"
     ]
    },
    {
     "name": "stdout",
     "output_type": "stream",
     "text": [
      "Early stopping, best iteration is:\n",
      "[376]\ttraining's l1: 3.28803\tvalid_1's l1: 2.7993\n",
      "[LightGBM] [Warning] feature_fraction is set=0.8634202422324382, colsample_bytree=0.8 will be ignored. Current value: feature_fraction=0.8634202422324382\n",
      "[LightGBM] [Warning] bagging_fraction is set=0.48793327803552566, subsample=0.8 will be ignored. Current value: bagging_fraction=0.48793327803552566\n",
      "[LightGBM] [Warning] bagging_freq is set=5, subsample_freq=0 will be ignored. Current value: bagging_freq=5\n",
      "Training until validation scores don't improve for 100 rounds\n",
      "[100]\ttraining's l1: 3.39128\tvalid_1's l1: 2.83227\n",
      "[200]\ttraining's l1: 3.3328\tvalid_1's l1: 2.82149\n",
      "[300]\ttraining's l1: 3.30015\tvalid_1's l1: 2.80224\n",
      "[400]\ttraining's l1: 3.28329\tvalid_1's l1: 2.80334\n"
     ]
    },
    {
     "name": "stderr",
     "output_type": "stream",
     "text": [
      "\u001b[32m[I 2021-07-30 00:12:13,863]\u001b[0m Trial 14 finished with value: -2.800636320864809 and parameters: {'max_depth': 1, 'min_child_weight': 20, 'subsample': 0.8, 'colsample_bytree': 0.8, 'reg_lambda': 1.519083628367959, 'reg_alpha': 0.0033652203602669182, 'feature_fraction': 0.8634202422324382, 'bagging_fraction': 0.48793327803552566, 'bagging_freq': 5, 'num_leaves': 795, 'min_child_samples': 28}. Best is trial 13 with value: -2.799295280236134.\u001b[0m\n"
     ]
    },
    {
     "name": "stdout",
     "output_type": "stream",
     "text": [
      "[500]\ttraining's l1: 3.26858\tvalid_1's l1: 2.80245\n",
      "Early stopping, best iteration is:\n",
      "[439]\ttraining's l1: 3.27824\tvalid_1's l1: 2.80064\n",
      "[LightGBM] [Warning] feature_fraction is set=0.9420641292285984, colsample_bytree=0.8 will be ignored. Current value: feature_fraction=0.9420641292285984\n",
      "[LightGBM] [Warning] bagging_fraction is set=0.5100308678762736, subsample=0.8 will be ignored. Current value: bagging_fraction=0.5100308678762736\n",
      "[LightGBM] [Warning] bagging_freq is set=4, subsample_freq=0 will be ignored. Current value: bagging_freq=4\n",
      "Training until validation scores don't improve for 100 rounds\n",
      "[100]\ttraining's l1: 2.49306\tvalid_1's l1: 3.16194\n"
     ]
    },
    {
     "name": "stderr",
     "output_type": "stream",
     "text": [
      "\u001b[32m[I 2021-07-30 00:12:20,768]\u001b[0m Trial 15 finished with value: -2.9026321779064017 and parameters: {'max_depth': 20, 'min_child_weight': 20, 'subsample': 0.8, 'colsample_bytree': 0.8, 'reg_lambda': 6.577289020762056, 'reg_alpha': 0.0010055265795907381, 'feature_fraction': 0.9420641292285984, 'bagging_fraction': 0.5100308678762736, 'bagging_freq': 4, 'num_leaves': 850, 'min_child_samples': 10}. Best is trial 13 with value: -2.799295280236134.\u001b[0m\n"
     ]
    },
    {
     "name": "stdout",
     "output_type": "stream",
     "text": [
      "Early stopping, best iteration is:\n",
      "[14]\ttraining's l1: 3.08652\tvalid_1's l1: 2.90263\n",
      "[LightGBM] [Warning] feature_fraction is set=0.8054686238748745, colsample_bytree=0.8 will be ignored. Current value: feature_fraction=0.8054686238748745\n",
      "[LightGBM] [Warning] bagging_fraction is set=0.4803414046871261, subsample=0.7 will be ignored. Current value: bagging_fraction=0.4803414046871261\n",
      "[LightGBM] [Warning] bagging_freq is set=6, subsample_freq=0 will be ignored. Current value: bagging_freq=6\n",
      "Training until validation scores don't improve for 100 rounds\n"
     ]
    },
    {
     "name": "stderr",
     "output_type": "stream",
     "text": [
      "\u001b[32m[I 2021-07-30 00:12:22,058]\u001b[0m Trial 16 finished with value: -2.8217690559993445 and parameters: {'max_depth': 6, 'min_child_weight': 12, 'subsample': 0.7, 'colsample_bytree': 0.8, 'reg_lambda': 0.2919683760323814, 'reg_alpha': 0.21191978544260878, 'feature_fraction': 0.8054686238748745, 'bagging_fraction': 0.4803414046871261, 'bagging_freq': 6, 'num_leaves': 992, 'min_child_samples': 24}. Best is trial 13 with value: -2.799295280236134.\u001b[0m\n"
     ]
    },
    {
     "name": "stdout",
     "output_type": "stream",
     "text": [
      "[100]\ttraining's l1: 2.96194\tvalid_1's l1: 2.91441\n",
      "Early stopping, best iteration is:\n",
      "[19]\ttraining's l1: 3.236\tvalid_1's l1: 2.82177\n",
      "[LightGBM] [Warning] feature_fraction is set=0.7965965036704473, colsample_bytree=0.8 will be ignored. Current value: feature_fraction=0.7965965036704473\n",
      "[LightGBM] [Warning] bagging_fraction is set=0.3738470666515799, subsample=0.8 will be ignored. Current value: bagging_fraction=0.3738470666515799\n",
      "[LightGBM] [Warning] bagging_freq is set=2, subsample_freq=0 will be ignored. Current value: bagging_freq=2\n",
      "Training until validation scores don't improve for 100 rounds\n",
      "[100]\ttraining's l1: 3.16179\tvalid_1's l1: 2.82389\n"
     ]
    },
    {
     "name": "stderr",
     "output_type": "stream",
     "text": [
      "\u001b[32m[I 2021-07-30 00:12:23,319]\u001b[0m Trial 17 finished with value: -2.8121310075090418 and parameters: {'max_depth': 3, 'min_child_weight': 18, 'subsample': 0.8, 'colsample_bytree': 0.8, 'reg_lambda': 3.948652803484154, 'reg_alpha': 0.003791991862793751, 'feature_fraction': 0.7965965036704473, 'bagging_fraction': 0.3738470666515799, 'bagging_freq': 2, 'num_leaves': 432, 'min_child_samples': 18}. Best is trial 13 with value: -2.799295280236134.\u001b[0m\n"
     ]
    },
    {
     "name": "stdout",
     "output_type": "stream",
     "text": [
      "Early stopping, best iteration is:\n",
      "[77]\ttraining's l1: 3.19402\tvalid_1's l1: 2.81213\n",
      "[LightGBM] [Warning] feature_fraction is set=0.7119850169959037, colsample_bytree=0.7 will be ignored. Current value: feature_fraction=0.7119850169959037\n",
      "[LightGBM] [Warning] bagging_fraction is set=0.5465979484024023, subsample=0.8 will be ignored. Current value: bagging_fraction=0.5465979484024023\n",
      "[LightGBM] [Warning] bagging_freq is set=7, subsample_freq=0 will be ignored. Current value: bagging_freq=7\n",
      "Training until validation scores don't improve for 100 rounds\n",
      "[100]\ttraining's l1: 2.60203\tvalid_1's l1: 3.09215\n"
     ]
    },
    {
     "name": "stderr",
     "output_type": "stream",
     "text": [
      "\u001b[32m[I 2021-07-30 00:12:27,564]\u001b[0m Trial 18 finished with value: -2.901084829351917 and parameters: {'max_depth': 17, 'min_child_weight': 20, 'subsample': 0.8, 'colsample_bytree': 0.7, 'reg_lambda': 20.965412079566487, 'reg_alpha': 2.2568982648460603, 'feature_fraction': 0.7119850169959037, 'bagging_fraction': 0.5465979484024023, 'bagging_freq': 7, 'num_leaves': 792, 'min_child_samples': 38}. Best is trial 13 with value: -2.799295280236134.\u001b[0m\n"
     ]
    },
    {
     "name": "stdout",
     "output_type": "stream",
     "text": [
      "Early stopping, best iteration is:\n",
      "[15]\ttraining's l1: 3.11275\tvalid_1's l1: 2.90108\n",
      "[LightGBM] [Warning] feature_fraction is set=0.8884883327913895, colsample_bytree=0.9 will be ignored. Current value: feature_fraction=0.8884883327913895\n",
      "[LightGBM] [Warning] bagging_fraction is set=0.42248655728832, subsample=0.7 will be ignored. Current value: bagging_fraction=0.42248655728832\n",
      "[LightGBM] [Warning] bagging_freq is set=4, subsample_freq=0 will be ignored. Current value: bagging_freq=4\n",
      "Training until validation scores don't improve for 100 rounds\n",
      "[100]\ttraining's l1: 2.88017\tvalid_1's l1: 2.93705\n",
      "Early stopping, best iteration is:\n",
      "[22]\ttraining's l1: 3.07698\tvalid_1's l1: 2.84723\n"
     ]
    },
    {
     "name": "stderr",
     "output_type": "stream",
     "text": [
      "\u001b[32m[I 2021-07-30 00:12:29,155]\u001b[0m Trial 19 finished with value: -2.8472328909569837 and parameters: {'max_depth': 8, 'min_child_weight': 11, 'subsample': 0.7, 'colsample_bytree': 0.9, 'reg_lambda': 0.052603845086422095, 'reg_alpha': 0.05955914969039402, 'feature_fraction': 0.8884883327913895, 'bagging_fraction': 0.42248655728832, 'bagging_freq': 4, 'num_leaves': 697, 'min_child_samples': 46}. Best is trial 13 with value: -2.799295280236134.\u001b[0m\n"
     ]
    },
    {
     "name": "stdout",
     "output_type": "stream",
     "text": [
      "[LightGBM] [Warning] feature_fraction is set=0.8692979088916544, colsample_bytree=0.8 will be ignored. Current value: feature_fraction=0.8692979088916544\n",
      "[LightGBM] [Warning] bagging_fraction is set=0.22845503564090502, subsample=0.9 will be ignored. Current value: bagging_fraction=0.22845503564090502\n",
      "[LightGBM] [Warning] bagging_freq is set=7, subsample_freq=0 will be ignored. Current value: bagging_freq=7\n",
      "Training until validation scores don't improve for 100 rounds\n",
      "[100]\ttraining's l1: 3.40256\tvalid_1's l1: 2.84449\n",
      "[200]\ttraining's l1: 3.3309\tvalid_1's l1: 2.82219\n",
      "[300]\ttraining's l1: 3.29862\tvalid_1's l1: 2.8138\n"
     ]
    },
    {
     "name": "stderr",
     "output_type": "stream",
     "text": [
      "\u001b[32m[I 2021-07-30 00:12:30,507]\u001b[0m Trial 20 finished with value: -2.8096518240216675 and parameters: {'max_depth': 1, 'min_child_weight': 15, 'subsample': 0.9, 'colsample_bytree': 0.8, 'reg_lambda': 1.0951991607667517, 'reg_alpha': 0.003541499140155898, 'feature_fraction': 0.8692979088916544, 'bagging_fraction': 0.22845503564090502, 'bagging_freq': 7, 'num_leaves': 840, 'min_child_samples': 67}. Best is trial 13 with value: -2.799295280236134.\u001b[0m\n"
     ]
    },
    {
     "name": "stdout",
     "output_type": "stream",
     "text": [
      "[400]\ttraining's l1: 3.28007\tvalid_1's l1: 2.81066\n",
      "Early stopping, best iteration is:\n",
      "[397]\ttraining's l1: 3.28041\tvalid_1's l1: 2.80965\n",
      "[LightGBM] [Warning] feature_fraction is set=0.6896386623485987, colsample_bytree=0.8 will be ignored. Current value: feature_fraction=0.6896386623485987\n",
      "[LightGBM] [Warning] bagging_fraction is set=0.5775429685318231, subsample=0.9 will be ignored. Current value: bagging_fraction=0.5775429685318231\n",
      "[LightGBM] [Warning] bagging_freq is set=6, subsample_freq=0 will be ignored. Current value: bagging_freq=6\n",
      "Training until validation scores don't improve for 100 rounds\n",
      "[100]\ttraining's l1: 3.40415\tvalid_1's l1: 2.84279\n",
      "[200]\ttraining's l1: 3.33262\tvalid_1's l1: 2.81163\n",
      "[300]\ttraining's l1: 3.30362\tvalid_1's l1: 2.80703\n",
      "[400]\ttraining's l1: 3.28505\tvalid_1's l1: 2.80022\n"
     ]
    },
    {
     "name": "stderr",
     "output_type": "stream",
     "text": [
      "\u001b[32m[I 2021-07-30 00:12:32,817]\u001b[0m Trial 21 finished with value: -2.7974086086236323 and parameters: {'max_depth': 1, 'min_child_weight': 17, 'subsample': 0.9, 'colsample_bytree': 0.8, 'reg_lambda': 0.7304076674108575, 'reg_alpha': 0.008471616601977379, 'feature_fraction': 0.6896386623485987, 'bagging_fraction': 0.5775429685318231, 'bagging_freq': 6, 'num_leaves': 733, 'min_child_samples': 41}. Best is trial 21 with value: -2.7974086086236323.\u001b[0m\n"
     ]
    },
    {
     "name": "stdout",
     "output_type": "stream",
     "text": [
      "[500]\ttraining's l1: 3.27207\tvalid_1's l1: 2.80301\n",
      "Early stopping, best iteration is:\n",
      "[432]\ttraining's l1: 3.28023\tvalid_1's l1: 2.79741\n",
      "[LightGBM] [Warning] feature_fraction is set=0.6861571619497158, colsample_bytree=0.8 will be ignored. Current value: feature_fraction=0.6861571619497158\n",
      "[LightGBM] [Warning] bagging_fraction is set=0.5741317479868786, subsample=0.8 will be ignored. Current value: bagging_fraction=0.5741317479868786\n",
      "[LightGBM] [Warning] bagging_freq is set=6, subsample_freq=0 will be ignored. Current value: bagging_freq=6\n",
      "Training until validation scores don't improve for 100 rounds\n",
      "[100]\ttraining's l1: 3.16632\tvalid_1's l1: 2.80509\n"
     ]
    },
    {
     "name": "stderr",
     "output_type": "stream",
     "text": [
      "\u001b[32m[I 2021-07-30 00:12:34,216]\u001b[0m Trial 22 finished with value: -2.803252203978675 and parameters: {'max_depth': 3, 'min_child_weight': 19, 'subsample': 0.8, 'colsample_bytree': 0.8, 'reg_lambda': 0.9809514278118658, 'reg_alpha': 0.024322274428238134, 'feature_fraction': 0.6861571619497158, 'bagging_fraction': 0.5741317479868786, 'bagging_freq': 6, 'num_leaves': 928, 'min_child_samples': 33}. Best is trial 21 with value: -2.7974086086236323.\u001b[0m\n"
     ]
    },
    {
     "name": "stdout",
     "output_type": "stream",
     "text": [
      "[200]\ttraining's l1: 3.09374\tvalid_1's l1: 2.81855\n",
      "Early stopping, best iteration is:\n",
      "[103]\ttraining's l1: 3.16277\tvalid_1's l1: 2.80325\n",
      "[LightGBM] [Warning] feature_fraction is set=0.992785452540653, colsample_bytree=0.7 will be ignored. Current value: feature_fraction=0.992785452540653\n",
      "[LightGBM] [Warning] bagging_fraction is set=0.409175226864168, subsample=0.9 will be ignored. Current value: bagging_fraction=0.409175226864168\n",
      "[LightGBM] [Warning] bagging_freq is set=2, subsample_freq=0 will be ignored. Current value: bagging_freq=2\n",
      "Training until validation scores don't improve for 100 rounds\n",
      "[100]\ttraining's l1: 3.39547\tvalid_1's l1: 2.84567\n",
      "[200]\ttraining's l1: 3.33269\tvalid_1's l1: 2.82839\n",
      "[300]\ttraining's l1: 3.30158\tvalid_1's l1: 2.81816\n",
      "[400]\ttraining's l1: 3.28367\tvalid_1's l1: 2.81527\n"
     ]
    },
    {
     "name": "stderr",
     "output_type": "stream",
     "text": [
      "\u001b[32m[I 2021-07-30 00:12:36,727]\u001b[0m Trial 23 finished with value: -2.810832918980831 and parameters: {'max_depth': 1, 'min_child_weight': 17, 'subsample': 0.9, 'colsample_bytree': 0.7, 'reg_lambda': 0.36526820557005724, 'reg_alpha': 0.0029864412285914624, 'feature_fraction': 0.992785452540653, 'bagging_fraction': 0.409175226864168, 'bagging_freq': 2, 'num_leaves': 764, 'min_child_samples': 15}. Best is trial 21 with value: -2.7974086086236323.\u001b[0m\n"
     ]
    },
    {
     "name": "stdout",
     "output_type": "stream",
     "text": [
      "Early stopping, best iteration is:\n",
      "[358]\ttraining's l1: 3.29097\tvalid_1's l1: 2.81083\n",
      "[LightGBM] [Warning] feature_fraction is set=0.847500204741186, colsample_bytree=0.9 will be ignored. Current value: feature_fraction=0.847500204741186\n",
      "[LightGBM] [Warning] bagging_fraction is set=0.5965258506486967, subsample=0.8 will be ignored. Current value: bagging_fraction=0.5965258506486967\n",
      "[LightGBM] [Warning] bagging_freq is set=8, subsample_freq=0 will be ignored. Current value: bagging_freq=8\n",
      "Training until validation scores don't improve for 100 rounds\n",
      "[100]\ttraining's l1: 3.02608\tvalid_1's l1: 2.85784\n",
      "Early stopping, best iteration is:\n",
      "[32]\ttraining's l1: 3.17866\tvalid_1's l1: 2.81259\n"
     ]
    },
    {
     "name": "stderr",
     "output_type": "stream",
     "text": [
      "\u001b[32m[I 2021-07-30 00:12:38,092]\u001b[0m Trial 24 finished with value: -2.812592066721906 and parameters: {'max_depth': 5, 'min_child_weight': 18, 'subsample': 0.8, 'colsample_bytree': 0.9, 'reg_lambda': 11.798366236918444, 'reg_alpha': 0.19653428934898692, 'feature_fraction': 0.847500204741186, 'bagging_fraction': 0.5965258506486967, 'bagging_freq': 8, 'num_leaves': 638, 'min_child_samples': 27}. Best is trial 21 with value: -2.7974086086236323.\u001b[0m\n"
     ]
    },
    {
     "name": "stdout",
     "output_type": "stream",
     "text": [
      "[LightGBM] [Warning] feature_fraction is set=0.6828862781145528, colsample_bytree=0.8 will be ignored. Current value: feature_fraction=0.6828862781145528\n",
      "[LightGBM] [Warning] bagging_fraction is set=0.7398259238972328, subsample=0.9 will be ignored. Current value: bagging_fraction=0.7398259238972328\n",
      "[LightGBM] [Warning] bagging_freq is set=5, subsample_freq=0 will be ignored. Current value: bagging_freq=5\n",
      "Training until validation scores don't improve for 100 rounds\n",
      "[100]\ttraining's l1: 3.17308\tvalid_1's l1: 2.81152\n"
     ]
    },
    {
     "name": "stderr",
     "output_type": "stream",
     "text": [
      "\u001b[32m[I 2021-07-30 00:12:39,600]\u001b[0m Trial 25 finished with value: -2.8088254931518333 and parameters: {'max_depth': 3, 'min_child_weight': 14, 'subsample': 0.9, 'colsample_bytree': 0.8, 'reg_lambda': 2.012971091280963, 'reg_alpha': 0.007695364974099406, 'feature_fraction': 0.6828862781145528, 'bagging_fraction': 0.7398259238972328, 'bagging_freq': 5, 'num_leaves': 990, 'min_child_samples': 47}. Best is trial 21 with value: -2.7974086086236323.\u001b[0m\n"
     ]
    },
    {
     "name": "stdout",
     "output_type": "stream",
     "text": [
      "Early stopping, best iteration is:\n",
      "[86]\ttraining's l1: 3.18782\tvalid_1's l1: 2.80883\n",
      "[LightGBM] [Warning] feature_fraction is set=0.7617079882638568, colsample_bytree=0.7 will be ignored. Current value: feature_fraction=0.7617079882638568\n",
      "[LightGBM] [Warning] bagging_fraction is set=0.5093371206039861, subsample=0.7 will be ignored. Current value: bagging_fraction=0.5093371206039861\n",
      "[LightGBM] [Warning] bagging_freq is set=3, subsample_freq=0 will be ignored. Current value: bagging_freq=3\n",
      "Training until validation scores don't improve for 100 rounds\n",
      "[100]\ttraining's l1: 3.25741\tvalid_1's l1: 2.81964\n",
      "[200]\ttraining's l1: 3.18369\tvalid_1's l1: 2.81643\n"
     ]
    },
    {
     "name": "stderr",
     "output_type": "stream",
     "text": [
      "\u001b[32m[I 2021-07-30 00:12:41,232]\u001b[0m Trial 26 finished with value: -2.8144286129563576 and parameters: {'max_depth': 2, 'min_child_weight': 1, 'subsample': 0.7, 'colsample_bytree': 0.7, 'reg_lambda': 0.12627070527869597, 'reg_alpha': 0.001070491844353928, 'feature_fraction': 0.7617079882638568, 'bagging_fraction': 0.5093371206039861, 'bagging_freq': 3, 'num_leaves': 856, 'min_child_samples': 36}. Best is trial 21 with value: -2.7974086086236323.\u001b[0m\n"
     ]
    },
    {
     "name": "stdout",
     "output_type": "stream",
     "text": [
      "Early stopping, best iteration is:\n",
      "[188]\ttraining's l1: 3.19124\tvalid_1's l1: 2.81443\n",
      "[LightGBM] [Warning] feature_fraction is set=0.5545223191163533, colsample_bytree=0.8 will be ignored. Current value: feature_fraction=0.5545223191163533\n",
      "[LightGBM] [Warning] bagging_fraction is set=0.2926613908231192, subsample=0.8 will be ignored. Current value: bagging_fraction=0.2926613908231192\n",
      "[LightGBM] [Warning] bagging_freq is set=9, subsample_freq=0 will be ignored. Current value: bagging_freq=9\n",
      "Training until validation scores don't improve for 100 rounds\n"
     ]
    },
    {
     "name": "stderr",
     "output_type": "stream",
     "text": [
      "\u001b[32m[I 2021-07-30 00:12:42,523]\u001b[0m Trial 27 finished with value: -2.8213318391760316 and parameters: {'max_depth': 6, 'min_child_weight': 16, 'subsample': 0.8, 'colsample_bytree': 0.8, 'reg_lambda': 0.01842673710701611, 'reg_alpha': 0.044771038429515624, 'feature_fraction': 0.5545223191163533, 'bagging_fraction': 0.2926613908231192, 'bagging_freq': 9, 'num_leaves': 580, 'min_child_samples': 20}. Best is trial 21 with value: -2.7974086086236323.\u001b[0m\n"
     ]
    },
    {
     "name": "stdout",
     "output_type": "stream",
     "text": [
      "[100]\ttraining's l1: 2.98765\tvalid_1's l1: 2.88998\n",
      "Early stopping, best iteration is:\n",
      "[28]\ttraining's l1: 3.14473\tvalid_1's l1: 2.82133\n",
      "[LightGBM] [Warning] feature_fraction is set=0.6516935015102806, colsample_bytree=0.9 will be ignored. Current value: feature_fraction=0.6516935015102806\n",
      "[LightGBM] [Warning] bagging_fraction is set=0.43169518804316515, subsample=0.9 will be ignored. Current value: bagging_fraction=0.43169518804316515\n",
      "[LightGBM] [Warning] bagging_freq is set=1, subsample_freq=0 will be ignored. Current value: bagging_freq=1\n",
      "Training until validation scores don't improve for 100 rounds\n",
      "[100]\ttraining's l1: 3.09419\tvalid_1's l1: 2.83752\n"
     ]
    },
    {
     "name": "stderr",
     "output_type": "stream",
     "text": [
      "\u001b[32m[I 2021-07-30 00:12:43,923]\u001b[0m Trial 28 finished with value: -2.8210174149767724 and parameters: {'max_depth': 4, 'min_child_weight': 19, 'subsample': 0.9, 'colsample_bytree': 0.9, 'reg_lambda': 0.1711080005056879, 'reg_alpha': 0.005770650037851195, 'feature_fraction': 0.6516935015102806, 'bagging_fraction': 0.43169518804316515, 'bagging_freq': 1, 'num_leaves': 684, 'min_child_samples': 44}. Best is trial 21 with value: -2.7974086086236323.\u001b[0m\n"
     ]
    },
    {
     "name": "stdout",
     "output_type": "stream",
     "text": [
      "Early stopping, best iteration is:\n",
      "[52]\ttraining's l1: 3.17136\tvalid_1's l1: 2.82102\n",
      "[LightGBM] [Warning] feature_fraction is set=0.5267069238525839, colsample_bytree=0.7 will be ignored. Current value: feature_fraction=0.5267069238525839\n",
      "[LightGBM] [Warning] bagging_fraction is set=0.6324979393792104, subsample=0.9 will be ignored. Current value: bagging_fraction=0.6324979393792104\n",
      "[LightGBM] [Warning] bagging_freq is set=10, subsample_freq=0 will be ignored. Current value: bagging_freq=10\n",
      "Training until validation scores don't improve for 100 rounds\n",
      "[100]\ttraining's l1: 2.9249\tvalid_1's l1: 2.90805\n",
      "Early stopping, best iteration is:\n",
      "[21]\ttraining's l1: 3.17665\tvalid_1's l1: 2.8367\n"
     ]
    },
    {
     "name": "stderr",
     "output_type": "stream",
     "text": [
      "\u001b[32m[I 2021-07-30 00:12:45,674]\u001b[0m Trial 29 finished with value: -2.8367033388649032 and parameters: {'max_depth': 7, 'min_child_weight': 20, 'subsample': 0.9, 'colsample_bytree': 0.7, 'reg_lambda': 61.72819941221703, 'reg_alpha': 0.0023638994253740797, 'feature_fraction': 0.5267069238525839, 'bagging_fraction': 0.6324979393792104, 'bagging_freq': 10, 'num_leaves': 770, 'min_child_samples': 31}. Best is trial 21 with value: -2.7974086086236323.\u001b[0m\n"
     ]
    },
    {
     "name": "stdout",
     "output_type": "stream",
     "text": [
      "[LightGBM] [Warning] feature_fraction is set=0.9135194516979863, colsample_bytree=0.8 will be ignored. Current value: feature_fraction=0.9135194516979863\n",
      "[LightGBM] [Warning] bagging_fraction is set=0.7962043404549207, subsample=0.8 will be ignored. Current value: bagging_fraction=0.7962043404549207\n",
      "[LightGBM] [Warning] bagging_freq is set=6, subsample_freq=0 will be ignored. Current value: bagging_freq=6\n",
      "Training until validation scores don't improve for 100 rounds\n",
      "[100]\ttraining's l1: 3.25508\tvalid_1's l1: 2.8156\n",
      "[200]\ttraining's l1: 3.18941\tvalid_1's l1: 2.80689\n"
     ]
    },
    {
     "name": "stderr",
     "output_type": "stream",
     "text": [
      "\u001b[32m[I 2021-07-30 00:12:47,923]\u001b[0m Trial 30 finished with value: -2.8048658263427066 and parameters: {'max_depth': 2, 'min_child_weight': 18, 'subsample': 0.8, 'colsample_bytree': 0.8, 'reg_lambda': 2.0824338837530454, 'reg_alpha': 0.12644154015013198, 'feature_fraction': 0.9135194516979863, 'bagging_fraction': 0.7962043404549207, 'bagging_freq': 6, 'num_leaves': 909, 'min_child_samples': 50}. Best is trial 21 with value: -2.7974086086236323.\u001b[0m\n"
     ]
    },
    {
     "name": "stdout",
     "output_type": "stream",
     "text": [
      "[300]\ttraining's l1: 3.14959\tvalid_1's l1: 2.81832\n",
      "Early stopping, best iteration is:\n",
      "[218]\ttraining's l1: 3.18114\tvalid_1's l1: 2.80487\n",
      "[LightGBM] [Warning] feature_fraction is set=0.8218601790363653, colsample_bytree=0.8 will be ignored. Current value: feature_fraction=0.8218601790363653\n",
      "[LightGBM] [Warning] bagging_fraction is set=0.5457842205009916, subsample=0.9 will be ignored. Current value: bagging_fraction=0.5457842205009916\n",
      "[LightGBM] [Warning] bagging_freq is set=8, subsample_freq=0 will be ignored. Current value: bagging_freq=8\n",
      "Training until validation scores don't improve for 100 rounds\n",
      "[100]\ttraining's l1: 3.39559\tvalid_1's l1: 2.83802\n",
      "[200]\ttraining's l1: 3.3343\tvalid_1's l1: 2.81774\n",
      "[300]\ttraining's l1: 3.30428\tvalid_1's l1: 2.80688\n",
      "[400]\ttraining's l1: 3.28673\tvalid_1's l1: 2.8024\n",
      "[500]\ttraining's l1: 3.2721\tvalid_1's l1: 2.80004\n",
      "Early stopping, best iteration is:\n",
      "[451]\ttraining's l1: 3.27954\tvalid_1's l1: 2.79583\n"
     ]
    },
    {
     "name": "stderr",
     "output_type": "stream",
     "text": [
      "\u001b[32m[I 2021-07-30 00:12:50,174]\u001b[0m Trial 31 finished with value: -2.795832897173826 and parameters: {'max_depth': 1, 'min_child_weight': 17, 'subsample': 0.9, 'colsample_bytree': 0.8, 'reg_lambda': 0.6819779106653259, 'reg_alpha': 0.009477710187752156, 'feature_fraction': 0.8218601790363653, 'bagging_fraction': 0.5457842205009916, 'bagging_freq': 8, 'num_leaves': 716, 'min_child_samples': 38}. Best is trial 31 with value: -2.795832897173826.\u001b[0m\n"
     ]
    },
    {
     "name": "stdout",
     "output_type": "stream",
     "text": [
      "[LightGBM] [Warning] feature_fraction is set=0.8347817387229025, colsample_bytree=0.8 will be ignored. Current value: feature_fraction=0.8347817387229025\n",
      "[LightGBM] [Warning] bagging_fraction is set=0.5444091413650081, subsample=0.9 will be ignored. Current value: bagging_fraction=0.5444091413650081\n",
      "[LightGBM] [Warning] bagging_freq is set=8, subsample_freq=0 will be ignored. Current value: bagging_freq=8\n",
      "Training until validation scores don't improve for 100 rounds\n",
      "[100]\ttraining's l1: 3.25574\tvalid_1's l1: 2.81947\n",
      "[200]\ttraining's l1: 3.18828\tvalid_1's l1: 2.81538\n"
     ]
    },
    {
     "name": "stderr",
     "output_type": "stream",
     "text": [
      "\u001b[32m[I 2021-07-30 00:12:51,716]\u001b[0m Trial 32 finished with value: -2.8093214045343666 and parameters: {'max_depth': 2, 'min_child_weight': 16, 'subsample': 0.9, 'colsample_bytree': 0.8, 'reg_lambda': 0.45164924344740626, 'reg_alpha': 0.012952829022249594, 'feature_fraction': 0.8347817387229025, 'bagging_fraction': 0.5444091413650081, 'bagging_freq': 8, 'num_leaves': 509, 'min_child_samples': 41}. Best is trial 31 with value: -2.795832897173826.\u001b[0m\n"
     ]
    },
    {
     "name": "stdout",
     "output_type": "stream",
     "text": [
      "Early stopping, best iteration is:\n",
      "[164]\ttraining's l1: 3.20635\tvalid_1's l1: 2.80932\n",
      "[LightGBM] [Warning] feature_fraction is set=0.9952075511422936, colsample_bytree=0.8 will be ignored. Current value: feature_fraction=0.9952075511422936\n",
      "[LightGBM] [Warning] bagging_fraction is set=0.45882499377431174, subsample=0.9 will be ignored. Current value: bagging_fraction=0.45882499377431174\n",
      "[LightGBM] [Warning] bagging_freq is set=5, subsample_freq=0 will be ignored. Current value: bagging_freq=5\n",
      "Training until validation scores don't improve for 100 rounds\n",
      "[100]\ttraining's l1: 3.08601\tvalid_1's l1: 2.81434\n",
      "Early stopping, best iteration is:\n",
      "[45]\ttraining's l1: 3.18699\tvalid_1's l1: 2.80073\n"
     ]
    },
    {
     "name": "stderr",
     "output_type": "stream",
     "text": [
      "\u001b[32m[I 2021-07-30 00:12:52,956]\u001b[0m Trial 33 finished with value: -2.8007257744413687 and parameters: {'max_depth': 4, 'min_child_weight': 19, 'subsample': 0.9, 'colsample_bytree': 0.8, 'reg_lambda': 1.3672087126660903, 'reg_alpha': 0.021795616604188363, 'feature_fraction': 0.9952075511422936, 'bagging_fraction': 0.45882499377431174, 'bagging_freq': 5, 'num_leaves': 633, 'min_child_samples': 29}. Best is trial 31 with value: -2.795832897173826.\u001b[0m\n"
     ]
    },
    {
     "name": "stdout",
     "output_type": "stream",
     "text": [
      "[LightGBM] [Warning] feature_fraction is set=0.7411501655503547, colsample_bytree=0.9 will be ignored. Current value: feature_fraction=0.7411501655503547\n",
      "[LightGBM] [Warning] bagging_fraction is set=0.5227242487522109, subsample=0.7 will be ignored. Current value: bagging_fraction=0.5227242487522109\n",
      "[LightGBM] [Warning] bagging_freq is set=8, subsample_freq=0 will be ignored. Current value: bagging_freq=8\n",
      "Training until validation scores don't improve for 100 rounds\n",
      "[100]\ttraining's l1: 3.3995\tvalid_1's l1: 2.8433\n",
      "[200]\ttraining's l1: 3.33404\tvalid_1's l1: 2.82029\n",
      "[300]\ttraining's l1: 3.30126\tvalid_1's l1: 2.80471\n",
      "[400]\ttraining's l1: 3.28467\tvalid_1's l1: 2.80481\n",
      "[500]\ttraining's l1: 3.27029\tvalid_1's l1: 2.80195\n"
     ]
    },
    {
     "name": "stderr",
     "output_type": "stream",
     "text": [
      "\u001b[32m[I 2021-07-30 00:12:55,191]\u001b[0m Trial 34 finished with value: -2.7987273198295557 and parameters: {'max_depth': 1, 'min_child_weight': 14, 'subsample': 0.7, 'colsample_bytree': 0.9, 'reg_lambda': 11.18707458688238, 'reg_alpha': 0.007713392024909062, 'feature_fraction': 0.7411501655503547, 'bagging_fraction': 0.5227242487522109, 'bagging_freq': 8, 'num_leaves': 444, 'min_child_samples': 11}. Best is trial 31 with value: -2.795832897173826.\u001b[0m\n"
     ]
    },
    {
     "name": "stdout",
     "output_type": "stream",
     "text": [
      "Early stopping, best iteration is:\n",
      "[472]\ttraining's l1: 3.27384\tvalid_1's l1: 2.79873\n",
      "[LightGBM] [Warning] feature_fraction is set=0.7492262986591149, colsample_bytree=0.9 will be ignored. Current value: feature_fraction=0.7492262986591149\n",
      "[LightGBM] [Warning] bagging_fraction is set=0.630858367989843, subsample=0.7 will be ignored. Current value: bagging_fraction=0.630858367989843\n",
      "[LightGBM] [Warning] bagging_freq is set=10, subsample_freq=0 will be ignored. Current value: bagging_freq=10\n",
      "Training until validation scores don't improve for 100 rounds\n",
      "[100]\ttraining's l1: 3.26196\tvalid_1's l1: 2.82884\n"
     ]
    },
    {
     "name": "stderr",
     "output_type": "stream",
     "text": [
      "\u001b[32m[I 2021-07-30 00:12:56,498]\u001b[0m Trial 35 finished with value: -2.82517177134954 and parameters: {'max_depth': 2, 'min_child_weight': 13, 'subsample': 0.7, 'colsample_bytree': 0.9, 'reg_lambda': 9.942440601924343, 'reg_alpha': 0.5745965677047935, 'feature_fraction': 0.7492262986591149, 'bagging_fraction': 0.630858367989843, 'bagging_freq': 10, 'num_leaves': 431, 'min_child_samples': 6}. Best is trial 31 with value: -2.795832897173826.\u001b[0m\n"
     ]
    },
    {
     "name": "stdout",
     "output_type": "stream",
     "text": [
      "Early stopping, best iteration is:\n",
      "[95]\ttraining's l1: 3.27147\tvalid_1's l1: 2.82517\n",
      "[LightGBM] [Warning] feature_fraction is set=0.738179345071152, colsample_bytree=0.9 will be ignored. Current value: feature_fraction=0.738179345071152\n",
      "[LightGBM] [Warning] bagging_fraction is set=0.5369029656530262, subsample=0.7 will be ignored. Current value: bagging_fraction=0.5369029656530262\n",
      "[LightGBM] [Warning] bagging_freq is set=8, subsample_freq=0 will be ignored. Current value: bagging_freq=8\n",
      "Training until validation scores don't improve for 100 rounds\n"
     ]
    },
    {
     "name": "stderr",
     "output_type": "stream",
     "text": [
      "\u001b[32m[I 2021-07-30 00:12:57,726]\u001b[0m Trial 36 finished with value: -2.8188519588516674 and parameters: {'max_depth': 5, 'min_child_weight': 15, 'subsample': 0.7, 'colsample_bytree': 0.9, 'reg_lambda': 23.206617625772463, 'reg_alpha': 0.008250668687028766, 'feature_fraction': 0.738179345071152, 'bagging_fraction': 0.5369029656530262, 'bagging_freq': 8, 'num_leaves': 293, 'min_child_samples': 12}. Best is trial 31 with value: -2.795832897173826.\u001b[0m\n"
     ]
    },
    {
     "name": "stdout",
     "output_type": "stream",
     "text": [
      "[100]\ttraining's l1: 3.02891\tvalid_1's l1: 2.87218\n",
      "Early stopping, best iteration is:\n",
      "[27]\ttraining's l1: 3.21295\tvalid_1's l1: 2.81885\n",
      "[LightGBM] [Warning] feature_fraction is set=0.7886467874176598, colsample_bytree=0.9 will be ignored. Current value: feature_fraction=0.7886467874176598\n",
      "[LightGBM] [Warning] bagging_fraction is set=0.68010167551181, subsample=0.7 will be ignored. Current value: bagging_fraction=0.68010167551181\n",
      "[LightGBM] [Warning] bagging_freq is set=7, subsample_freq=0 will be ignored. Current value: bagging_freq=7\n",
      "Training until validation scores don't improve for 100 rounds\n",
      "[100]\ttraining's l1: 2.82311\tvalid_1's l1: 2.97209\n",
      "Early stopping, best iteration is:\n",
      "[18]\ttraining's l1: 3.07133\tvalid_1's l1: 2.84923\n"
     ]
    },
    {
     "name": "stderr",
     "output_type": "stream",
     "text": [
      "\u001b[32m[I 2021-07-30 00:12:59,752]\u001b[0m Trial 37 finished with value: -2.8492293352355818 and parameters: {'max_depth': 9, 'min_child_weight': 17, 'subsample': 0.7, 'colsample_bytree': 0.9, 'reg_lambda': 0.056273336700719157, 'reg_alpha': 0.06625177173724253, 'feature_fraction': 0.7886467874176598, 'bagging_fraction': 0.68010167551181, 'bagging_freq': 7, 'num_leaves': 444, 'min_child_samples': 74}. Best is trial 31 with value: -2.795832897173826.\u001b[0m\n"
     ]
    },
    {
     "name": "stdout",
     "output_type": "stream",
     "text": [
      "[LightGBM] [Warning] feature_fraction is set=0.6502916360162859, colsample_bytree=0.7 will be ignored. Current value: feature_fraction=0.6502916360162859\n",
      "[LightGBM] [Warning] bagging_fraction is set=0.7368520612181478, subsample=0.9 will be ignored. Current value: bagging_fraction=0.7368520612181478\n",
      "[LightGBM] [Warning] bagging_freq is set=14, subsample_freq=0 will be ignored. Current value: bagging_freq=14\n",
      "Training until validation scores don't improve for 100 rounds\n",
      "[100]\ttraining's l1: 3.08851\tvalid_1's l1: 2.82391\n"
     ]
    },
    {
     "name": "stderr",
     "output_type": "stream",
     "text": [
      "\u001b[32m[I 2021-07-30 00:13:01,090]\u001b[0m Trial 38 finished with value: -2.80234560894667 and parameters: {'max_depth': 4, 'min_child_weight': 11, 'subsample': 0.9, 'colsample_bytree': 0.7, 'reg_lambda': 3.556160984233731, 'reg_alpha': 0.01881508963717763, 'feature_fraction': 0.6502916360162859, 'bagging_fraction': 0.7368520612181478, 'bagging_freq': 14, 'num_leaves': 374, 'min_child_samples': 39}. Best is trial 31 with value: -2.795832897173826.\u001b[0m\n"
     ]
    },
    {
     "name": "stdout",
     "output_type": "stream",
     "text": [
      "Early stopping, best iteration is:\n",
      "[48]\ttraining's l1: 3.17938\tvalid_1's l1: 2.80235\n",
      "[LightGBM] [Warning] feature_fraction is set=0.48859472287590333, colsample_bytree=0.6 will be ignored. Current value: feature_fraction=0.48859472287590333\n",
      "[LightGBM] [Warning] bagging_fraction is set=0.36838518525445624, subsample=0.7 will be ignored. Current value: bagging_fraction=0.36838518525445624\n",
      "[LightGBM] [Warning] bagging_freq is set=9, subsample_freq=0 will be ignored. Current value: bagging_freq=9\n",
      "Training until validation scores don't improve for 100 rounds\n",
      "[100]\ttraining's l1: 3.27243\tvalid_1's l1: 2.82562\n",
      "[200]\ttraining's l1: 3.19525\tvalid_1's l1: 2.82537\n"
     ]
    },
    {
     "name": "stderr",
     "output_type": "stream",
     "text": [
      "\u001b[32m[I 2021-07-30 00:13:02,776]\u001b[0m Trial 39 finished with value: -2.8187713924769517 and parameters: {'max_depth': 2, 'min_child_weight': 14, 'subsample': 0.7, 'colsample_bytree': 0.6, 'reg_lambda': 0.7640447339707049, 'reg_alpha': 3.1651801276359746, 'feature_fraction': 0.48859472287590333, 'bagging_fraction': 0.36838518525445624, 'bagging_freq': 9, 'num_leaves': 575, 'min_child_samples': 21}. Best is trial 31 with value: -2.795832897173826.\u001b[0m\n"
     ]
    },
    {
     "name": "stdout",
     "output_type": "stream",
     "text": [
      "Early stopping, best iteration is:\n",
      "[179]\ttraining's l1: 3.20594\tvalid_1's l1: 2.81877\n",
      "[LightGBM] [Warning] feature_fraction is set=0.7094925165998698, colsample_bytree=0.5 will be ignored. Current value: feature_fraction=0.7094925165998698\n",
      "[LightGBM] [Warning] bagging_fraction is set=0.5844945167829597, subsample=0.6 will be ignored. Current value: bagging_fraction=0.5844945167829597\n",
      "[LightGBM] [Warning] bagging_freq is set=11, subsample_freq=0 will be ignored. Current value: bagging_freq=11\n",
      "Training until validation scores don't improve for 100 rounds\n"
     ]
    },
    {
     "name": "stderr",
     "output_type": "stream",
     "text": [
      "\u001b[32m[I 2021-07-30 00:13:04,117]\u001b[0m Trial 40 finished with value: -2.8248803634323525 and parameters: {'max_depth': 6, 'min_child_weight': 9, 'subsample': 0.6, 'colsample_bytree': 0.5, 'reg_lambda': 0.2997597393703735, 'reg_alpha': 17.08049040344348, 'feature_fraction': 0.7094925165998698, 'bagging_fraction': 0.5844945167829597, 'bagging_freq': 11, 'num_leaves': 732, 'min_child_samples': 56}. Best is trial 31 with value: -2.795832897173826.\u001b[0m\n"
     ]
    },
    {
     "name": "stdout",
     "output_type": "stream",
     "text": [
      "[100]\ttraining's l1: 2.98261\tvalid_1's l1: 2.87488\n",
      "Early stopping, best iteration is:\n",
      "[25]\ttraining's l1: 3.17924\tvalid_1's l1: 2.82488\n",
      "[LightGBM] [Warning] feature_fraction is set=0.8334067030322191, colsample_bytree=0.8 will be ignored. Current value: feature_fraction=0.8334067030322191\n",
      "[LightGBM] [Warning] bagging_fraction is set=0.5151073880808079, subsample=0.8 will be ignored. Current value: bagging_fraction=0.5151073880808079\n",
      "[LightGBM] [Warning] bagging_freq is set=5, subsample_freq=0 will be ignored. Current value: bagging_freq=5\n",
      "Training until validation scores don't improve for 100 rounds\n",
      "[100]\ttraining's l1: 3.39383\tvalid_1's l1: 2.82938\n",
      "[200]\ttraining's l1: 3.33052\tvalid_1's l1: 2.81839\n",
      "[300]\ttraining's l1: 3.30035\tvalid_1's l1: 2.80549\n",
      "[400]\ttraining's l1: 3.28368\tvalid_1's l1: 2.80639\n"
     ]
    },
    {
     "name": "stderr",
     "output_type": "stream",
     "text": [
      "\u001b[32m[I 2021-07-30 00:13:06,414]\u001b[0m Trial 41 finished with value: -2.8011808076010905 and parameters: {'max_depth': 1, 'min_child_weight': 17, 'subsample': 0.8, 'colsample_bytree': 0.8, 'reg_lambda': 1.78868575438139, 'reg_alpha': 0.002094012669604818, 'feature_fraction': 0.8334067030322191, 'bagging_fraction': 0.5151073880808079, 'bagging_freq': 5, 'num_leaves': 825, 'min_child_samples': 33}. Best is trial 31 with value: -2.795832897173826.\u001b[0m\n"
     ]
    },
    {
     "name": "stdout",
     "output_type": "stream",
     "text": [
      "[500]\ttraining's l1: 3.26918\tvalid_1's l1: 2.80226\n",
      "Early stopping, best iteration is:\n",
      "[445]\ttraining's l1: 3.2777\tvalid_1's l1: 2.80118\n",
      "[LightGBM] [Warning] feature_fraction is set=0.7691372003121002, colsample_bytree=0.8 will be ignored. Current value: feature_fraction=0.7691372003121002\n",
      "[LightGBM] [Warning] bagging_fraction is set=0.45956718933958585, subsample=0.8 will be ignored. Current value: bagging_fraction=0.45956718933958585\n",
      "[LightGBM] [Warning] bagging_freq is set=7, subsample_freq=0 will be ignored. Current value: bagging_freq=7\n",
      "Training until validation scores don't improve for 100 rounds\n",
      "[100]\ttraining's l1: 3.16982\tvalid_1's l1: 2.8238\n"
     ]
    },
    {
     "name": "stderr",
     "output_type": "stream",
     "text": [
      "\u001b[32m[I 2021-07-30 00:13:07,530]\u001b[0m Trial 42 finished with value: -2.8195105187020566 and parameters: {'max_depth': 3, 'min_child_weight': 18, 'subsample': 0.8, 'colsample_bytree': 0.8, 'reg_lambda': 0.6049143379660908, 'reg_alpha': 0.00585611811513125, 'feature_fraction': 0.7691372003121002, 'bagging_fraction': 0.45956718933958585, 'bagging_freq': 7, 'num_leaves': 675, 'min_child_samples': 24}. Best is trial 31 with value: -2.795832897173826.\u001b[0m\n"
     ]
    },
    {
     "name": "stdout",
     "output_type": "stream",
     "text": [
      "Early stopping, best iteration is:\n",
      "[62]\ttraining's l1: 3.23134\tvalid_1's l1: 2.81951\n",
      "[LightGBM] [Warning] feature_fraction is set=0.897515121625611, colsample_bytree=0.8 will be ignored. Current value: feature_fraction=0.897515121625611\n",
      "[LightGBM] [Warning] bagging_fraction is set=0.5593035790718734, subsample=0.9 will be ignored. Current value: bagging_fraction=0.5593035790718734\n",
      "[LightGBM] [Warning] bagging_freq is set=3, subsample_freq=0 will be ignored. Current value: bagging_freq=3\n",
      "Training until validation scores don't improve for 100 rounds\n",
      "[100]\ttraining's l1: 3.397\tvalid_1's l1: 2.84141\n",
      "[200]\ttraining's l1: 3.32952\tvalid_1's l1: 2.82028\n",
      "[300]\ttraining's l1: 3.30142\tvalid_1's l1: 2.81167\n",
      "[400]\ttraining's l1: 3.28388\tvalid_1's l1: 2.80548\n",
      "[500]\ttraining's l1: 3.27119\tvalid_1's l1: 2.8049\n"
     ]
    },
    {
     "name": "stderr",
     "output_type": "stream",
     "text": [
      "\u001b[32m[I 2021-07-30 00:13:10,661]\u001b[0m Trial 43 finished with value: -2.8013758358144174 and parameters: {'max_depth': 1, 'min_child_weight': 16, 'subsample': 0.9, 'colsample_bytree': 0.8, 'reg_lambda': 6.959054799523097, 'reg_alpha': 0.010704696495766733, 'feature_fraction': 0.897515121625611, 'bagging_fraction': 0.5593035790718734, 'bagging_freq': 3, 'num_leaves': 510, 'min_child_samples': 35}. Best is trial 31 with value: -2.795832897173826.\u001b[0m\n"
     ]
    },
    {
     "name": "stdout",
     "output_type": "stream",
     "text": [
      "Early stopping, best iteration is:\n",
      "[470]\ttraining's l1: 3.27503\tvalid_1's l1: 2.80138\n",
      "[LightGBM] [Warning] feature_fraction is set=0.6368499538095992, colsample_bytree=0.8 will be ignored. Current value: feature_fraction=0.6368499538095992\n",
      "[LightGBM] [Warning] bagging_fraction is set=0.6497693488227014, subsample=0.7 will be ignored. Current value: bagging_fraction=0.6497693488227014\n",
      "[LightGBM] [Warning] bagging_freq is set=6, subsample_freq=0 will be ignored. Current value: bagging_freq=6\n",
      "Training until validation scores don't improve for 100 rounds\n",
      "[100]\ttraining's l1: 3.40298\tvalid_1's l1: 2.85677\n",
      "[200]\ttraining's l1: 3.33162\tvalid_1's l1: 2.82895\n",
      "[300]\ttraining's l1: 3.30361\tvalid_1's l1: 2.81965\n",
      "[400]\ttraining's l1: 3.28438\tvalid_1's l1: 2.80929\n",
      "[500]\ttraining's l1: 3.27175\tvalid_1's l1: 2.80693\n"
     ]
    },
    {
     "name": "stderr",
     "output_type": "stream",
     "text": [
      "\u001b[32m[I 2021-07-30 00:13:13,342]\u001b[0m Trial 44 finished with value: -2.8062128224171 and parameters: {'max_depth': 1, 'min_child_weight': 15, 'subsample': 0.7, 'colsample_bytree': 0.8, 'reg_lambda': 3.815847051227039, 'reg_alpha': 0.0016513077024869146, 'feature_fraction': 0.6368499538095992, 'bagging_fraction': 0.6497693488227014, 'bagging_freq': 6, 'num_leaves': 742, 'min_child_samples': 42}. Best is trial 31 with value: -2.795832897173826.\u001b[0m\n"
     ]
    },
    {
     "name": "stdout",
     "output_type": "stream",
     "text": [
      "Early stopping, best iteration is:\n",
      "[483]\ttraining's l1: 3.27341\tvalid_1's l1: 2.80621\n",
      "[LightGBM] [Warning] feature_fraction is set=0.820121758632087, colsample_bytree=0.9 will be ignored. Current value: feature_fraction=0.820121758632087\n",
      "[LightGBM] [Warning] bagging_fraction is set=0.47716865123089525, subsample=0.8 will be ignored. Current value: bagging_fraction=0.47716865123089525\n",
      "[LightGBM] [Warning] bagging_freq is set=8, subsample_freq=0 will be ignored. Current value: bagging_freq=8\n",
      "Training until validation scores don't improve for 100 rounds\n",
      "[100]\ttraining's l1: 2.77936\tvalid_1's l1: 3.09783\n"
     ]
    },
    {
     "name": "stderr",
     "output_type": "stream",
     "text": [
      "\u001b[32m[I 2021-07-30 00:13:15,818]\u001b[0m Trial 45 finished with value: -2.8706342492700756 and parameters: {'max_depth': 12, 'min_child_weight': 13, 'subsample': 0.8, 'colsample_bytree': 0.9, 'reg_lambda': 0.1618749866795789, 'reg_alpha': 0.02538161695720256, 'feature_fraction': 0.820121758632087, 'bagging_fraction': 0.47716865123089525, 'bagging_freq': 8, 'num_leaves': 222, 'min_child_samples': 6}. Best is trial 31 with value: -2.795832897173826.\u001b[0m\n"
     ]
    },
    {
     "name": "stdout",
     "output_type": "stream",
     "text": [
      "Early stopping, best iteration is:\n",
      "[20]\ttraining's l1: 3.07394\tvalid_1's l1: 2.87063\n",
      "[LightGBM] [Warning] feature_fraction is set=0.9358812972479504, colsample_bytree=0.7 will be ignored. Current value: feature_fraction=0.9358812972479504\n",
      "[LightGBM] [Warning] bagging_fraction is set=0.5948921177492119, subsample=0.9 will be ignored. Current value: bagging_fraction=0.5948921177492119\n",
      "[LightGBM] [Warning] bagging_freq is set=5, subsample_freq=0 will be ignored. Current value: bagging_freq=5\n",
      "Training until validation scores don't improve for 100 rounds\n",
      "[100]\ttraining's l1: 2.55517\tvalid_1's l1: 3.16528\n"
     ]
    },
    {
     "name": "stderr",
     "output_type": "stream",
     "text": [
      "\u001b[32m[I 2021-07-30 00:13:21,250]\u001b[0m Trial 46 finished with value: -2.903853196995296 and parameters: {'max_depth': 15, 'min_child_weight': 20, 'subsample': 0.9, 'colsample_bytree': 0.7, 'reg_lambda': 20.039822351328052, 'reg_alpha': 0.005285782660524672, 'feature_fraction': 0.9358812972479504, 'bagging_fraction': 0.5948921177492119, 'bagging_freq': 5, 'num_leaves': 957, 'min_child_samples': 29}. Best is trial 31 with value: -2.795832897173826.\u001b[0m\n"
     ]
    },
    {
     "name": "stdout",
     "output_type": "stream",
     "text": [
      "Early stopping, best iteration is:\n",
      "[14]\ttraining's l1: 3.09312\tvalid_1's l1: 2.90385\n",
      "[LightGBM] [Warning] feature_fraction is set=0.725562316664922, colsample_bytree=0.8 will be ignored. Current value: feature_fraction=0.725562316664922\n",
      "[LightGBM] [Warning] bagging_fraction is set=0.4991634504636443, subsample=0.6 will be ignored. Current value: bagging_fraction=0.4991634504636443\n",
      "[LightGBM] [Warning] bagging_freq is set=9, subsample_freq=0 will be ignored. Current value: bagging_freq=9\n",
      "Training until validation scores don't improve for 100 rounds\n",
      "[100]\ttraining's l1: 3.2647\tvalid_1's l1: 2.82804\n",
      "[200]\ttraining's l1: 3.1978\tvalid_1's l1: 2.82736\n"
     ]
    },
    {
     "name": "stderr",
     "output_type": "stream",
     "text": [
      "\u001b[32m[I 2021-07-30 00:13:22,705]\u001b[0m Trial 47 finished with value: -2.8246234014275613 and parameters: {'max_depth': 2, 'min_child_weight': 18, 'subsample': 0.6, 'colsample_bytree': 0.8, 'reg_lambda': 153.12370071965475, 'reg_alpha': 0.08944121574531208, 'feature_fraction': 0.725562316664922, 'bagging_fraction': 0.4991634504636443, 'bagging_freq': 9, 'num_leaves': 875, 'min_child_samples': 50}. Best is trial 31 with value: -2.795832897173826.\u001b[0m\n"
     ]
    },
    {
     "name": "stdout",
     "output_type": "stream",
     "text": [
      "Early stopping, best iteration is:\n",
      "[192]\ttraining's l1: 3.20053\tvalid_1's l1: 2.82462\n",
      "[LightGBM] [Warning] feature_fraction is set=0.8544975070312157, colsample_bytree=0.9 will be ignored. Current value: feature_fraction=0.8544975070312157\n",
      "[LightGBM] [Warning] bagging_fraction is set=0.38417830890837096, subsample=0.8 will be ignored. Current value: bagging_fraction=0.38417830890837096\n",
      "[LightGBM] [Warning] bagging_freq is set=3, subsample_freq=0 will be ignored. Current value: bagging_freq=3\n",
      "Training until validation scores don't improve for 100 rounds\n",
      "[100]\ttraining's l1: 3.09049\tvalid_1's l1: 2.82662\n"
     ]
    },
    {
     "name": "stderr",
     "output_type": "stream",
     "text": [
      "\u001b[32m[I 2021-07-30 00:13:24,048]\u001b[0m Trial 48 finished with value: -2.8162082899904597 and parameters: {'max_depth': 4, 'min_child_weight': 17, 'subsample': 0.8, 'colsample_bytree': 0.9, 'reg_lambda': 2.3643204906048148, 'reg_alpha': 0.03695626451026466, 'feature_fraction': 0.8544975070312157, 'bagging_fraction': 0.38417830890837096, 'bagging_freq': 3, 'num_leaves': 820, 'min_child_samples': 16}. Best is trial 31 with value: -2.795832897173826.\u001b[0m\n"
     ]
    },
    {
     "name": "stdout",
     "output_type": "stream",
     "text": [
      "Early stopping, best iteration is:\n",
      "[61]\ttraining's l1: 3.14584\tvalid_1's l1: 2.81621\n",
      "[LightGBM] [Warning] feature_fraction is set=0.6823630479955853, colsample_bytree=0.7 will be ignored. Current value: feature_fraction=0.6823630479955853\n",
      "[LightGBM] [Warning] bagging_fraction is set=0.31225475204411474, subsample=0.7 will be ignored. Current value: bagging_fraction=0.31225475204411474\n",
      "[LightGBM] [Warning] bagging_freq is set=4, subsample_freq=0 will be ignored. Current value: bagging_freq=4\n",
      "Training until validation scores don't improve for 100 rounds\n",
      "[100]\ttraining's l1: 3.17456\tvalid_1's l1: 2.81607\n"
     ]
    },
    {
     "name": "stderr",
     "output_type": "stream",
     "text": [
      "\u001b[32m[I 2021-07-30 00:13:25,114]\u001b[0m Trial 49 finished with value: -2.8120610603592264 and parameters: {'max_depth': 3, 'min_child_weight': 12, 'subsample': 0.7, 'colsample_bytree': 0.7, 'reg_lambda': 6.2333905455465795, 'reg_alpha': 0.0010065442938320588, 'feature_fraction': 0.6823630479955853, 'bagging_fraction': 0.31225475204411474, 'bagging_freq': 4, 'num_leaves': 613, 'min_child_samples': 99}. Best is trial 31 with value: -2.795832897173826.\u001b[0m\n"
     ]
    },
    {
     "name": "stdout",
     "output_type": "stream",
     "text": [
      "Early stopping, best iteration is:\n",
      "[82]\ttraining's l1: 3.20023\tvalid_1's l1: 2.81206\n",
      "[LightGBM] [Warning] feature_fraction is set=0.7872370945543371, colsample_bytree=0.8 will be ignored. Current value: feature_fraction=0.7872370945543371\n",
      "[LightGBM] [Warning] bagging_fraction is set=0.43850090619668486, subsample=0.6 will be ignored. Current value: bagging_fraction=0.43850090619668486\n",
      "[LightGBM] [Warning] bagging_freq is set=11, subsample_freq=0 will be ignored. Current value: bagging_freq=11\n",
      "Training until validation scores don't improve for 100 rounds\n",
      "[100]\ttraining's l1: 3.39954\tvalid_1's l1: 2.83867\n",
      "[200]\ttraining's l1: 3.33227\tvalid_1's l1: 2.82268\n",
      "[300]\ttraining's l1: 3.30279\tvalid_1's l1: 2.8136\n",
      "[400]\ttraining's l1: 3.28408\tvalid_1's l1: 2.8074\n"
     ]
    },
    {
     "name": "stderr",
     "output_type": "stream",
     "text": [
      "\u001b[32m[I 2021-07-30 00:13:27,027]\u001b[0m Trial 50 finished with value: -2.8042786592914877 and parameters: {'max_depth': 1, 'min_child_weight': 16, 'subsample': 0.6, 'colsample_bytree': 0.8, 'reg_lambda': 0.6219916279739671, 'reg_alpha': 0.014421313351890973, 'feature_fraction': 0.7872370945543371, 'bagging_fraction': 0.43850090619668486, 'bagging_freq': 11, 'num_leaves': 796, 'min_child_samples': 24}. Best is trial 31 with value: -2.795832897173826.\u001b[0m\n"
     ]
    },
    {
     "name": "stdout",
     "output_type": "stream",
     "text": [
      "[500]\ttraining's l1: 3.26969\tvalid_1's l1: 2.81275\n",
      "Early stopping, best iteration is:\n",
      "[441]\ttraining's l1: 3.27661\tvalid_1's l1: 2.80428\n",
      "[LightGBM] [Warning] feature_fraction is set=0.978473404677479, colsample_bytree=0.8 will be ignored. Current value: feature_fraction=0.978473404677479\n",
      "[LightGBM] [Warning] bagging_fraction is set=0.47182015350669826, subsample=0.9 will be ignored. Current value: bagging_fraction=0.47182015350669826\n",
      "[LightGBM] [Warning] bagging_freq is set=5, subsample_freq=0 will be ignored. Current value: bagging_freq=5\n",
      "Training until validation scores don't improve for 100 rounds\n"
     ]
    },
    {
     "name": "stderr",
     "output_type": "stream",
     "text": [
      "\u001b[32m[I 2021-07-30 00:13:28,224]\u001b[0m Trial 51 finished with value: -2.8014579399329187 and parameters: {'max_depth': 4, 'min_child_weight': 19, 'subsample': 0.9, 'colsample_bytree': 0.8, 'reg_lambda': 1.2392078548821257, 'reg_alpha': 0.025953217864464206, 'feature_fraction': 0.978473404677479, 'bagging_fraction': 0.47182015350669826, 'bagging_freq': 5, 'num_leaves': 639, 'min_child_samples': 29}. Best is trial 31 with value: -2.795832897173826.\u001b[0m\n"
     ]
    },
    {
     "name": "stdout",
     "output_type": "stream",
     "text": [
      "[100]\ttraining's l1: 3.08632\tvalid_1's l1: 2.82029\n",
      "Early stopping, best iteration is:\n",
      "[33]\ttraining's l1: 3.23559\tvalid_1's l1: 2.80146\n",
      "[LightGBM] [Warning] feature_fraction is set=0.8865327516227801, colsample_bytree=0.8 will be ignored. Current value: feature_fraction=0.8865327516227801\n",
      "[LightGBM] [Warning] bagging_fraction is set=0.5178017548459765, subsample=0.9 will be ignored. Current value: bagging_fraction=0.5178017548459765\n",
      "[LightGBM] [Warning] bagging_freq is set=6, subsample_freq=0 will be ignored. Current value: bagging_freq=6\n",
      "Training until validation scores don't improve for 100 rounds\n",
      "[100]\ttraining's l1: 3.2592\tvalid_1's l1: 2.81883\n"
     ]
    },
    {
     "name": "stderr",
     "output_type": "stream",
     "text": [
      "\u001b[32m[I 2021-07-30 00:13:29,662]\u001b[0m Trial 52 finished with value: -2.8054184666870334 and parameters: {'max_depth': 2, 'min_child_weight': 19, 'subsample': 0.9, 'colsample_bytree': 0.8, 'reg_lambda': 1.4016517682315306, 'reg_alpha': 0.0022764439691395607, 'feature_fraction': 0.8865327516227801, 'bagging_fraction': 0.5178017548459765, 'bagging_freq': 6, 'num_leaves': 548, 'min_child_samples': 38}. Best is trial 31 with value: -2.795832897173826.\u001b[0m\n"
     ]
    },
    {
     "name": "stdout",
     "output_type": "stream",
     "text": [
      "[200]\ttraining's l1: 3.18533\tvalid_1's l1: 2.81664\n",
      "Early stopping, best iteration is:\n",
      "[126]\ttraining's l1: 3.23108\tvalid_1's l1: 2.80542\n",
      "[LightGBM] [Warning] feature_fraction is set=0.9716965734407029, colsample_bytree=0.8 will be ignored. Current value: feature_fraction=0.9716965734407029\n",
      "[LightGBM] [Warning] bagging_fraction is set=0.402933147786223, subsample=0.9 will be ignored. Current value: bagging_fraction=0.402933147786223\n",
      "[LightGBM] [Warning] bagging_freq is set=7, subsample_freq=0 will be ignored. Current value: bagging_freq=7\n",
      "Training until validation scores don't improve for 100 rounds\n",
      "[100]\ttraining's l1: 3.39513\tvalid_1's l1: 2.83779\n",
      "[200]\ttraining's l1: 3.33156\tvalid_1's l1: 2.81773\n",
      "[300]\ttraining's l1: 3.29876\tvalid_1's l1: 2.81308\n",
      "[400]\ttraining's l1: 3.28237\tvalid_1's l1: 2.804\n"
     ]
    },
    {
     "name": "stderr",
     "output_type": "stream",
     "text": [
      "\u001b[32m[I 2021-07-30 00:13:31,612]\u001b[0m Trial 53 finished with value: -2.8039866326297718 and parameters: {'max_depth': 1, 'min_child_weight': 20, 'subsample': 0.9, 'colsample_bytree': 0.8, 'reg_lambda': 0.26368861309490854, 'reg_alpha': 0.003743601274126625, 'feature_fraction': 0.9716965734407029, 'bagging_fraction': 0.402933147786223, 'bagging_freq': 7, 'num_leaves': 710, 'min_child_samples': 43}. Best is trial 31 with value: -2.795832897173826.\u001b[0m\n"
     ]
    },
    {
     "name": "stdout",
     "output_type": "stream",
     "text": [
      "Early stopping, best iteration is:\n",
      "[399]\ttraining's l1: 3.28247\tvalid_1's l1: 2.80399\n",
      "[LightGBM] [Warning] feature_fraction is set=0.5933903374161429, colsample_bytree=0.9 will be ignored. Current value: feature_fraction=0.5933903374161429\n",
      "[LightGBM] [Warning] bagging_fraction is set=0.44205773218378613, subsample=0.9 will be ignored. Current value: bagging_fraction=0.44205773218378613\n",
      "[LightGBM] [Warning] bagging_freq is set=5, subsample_freq=0 will be ignored. Current value: bagging_freq=5\n",
      "Training until validation scores don't improve for 100 rounds\n",
      "[100]\ttraining's l1: 3.03364\tvalid_1's l1: 2.84908\n"
     ]
    },
    {
     "name": "stderr",
     "output_type": "stream",
     "text": [
      "\u001b[32m[I 2021-07-30 00:13:33,067]\u001b[0m Trial 54 finished with value: -2.8066866631762672 and parameters: {'max_depth': 5, 'min_child_weight': 19, 'subsample': 0.9, 'colsample_bytree': 0.9, 'reg_lambda': 0.8569390259433174, 'reg_alpha': 0.012239865888943565, 'feature_fraction': 0.5933903374161429, 'bagging_fraction': 0.44205773218378613, 'bagging_freq': 5, 'num_leaves': 667, 'min_child_samples': 31}. Best is trial 31 with value: -2.795832897173826.\u001b[0m\n"
     ]
    },
    {
     "name": "stdout",
     "output_type": "stream",
     "text": [
      "Early stopping, best iteration is:\n",
      "[39]\ttraining's l1: 3.15723\tvalid_1's l1: 2.80669\n",
      "[LightGBM] [Warning] feature_fraction is set=0.8036733817443998, colsample_bytree=0.8 will be ignored. Current value: feature_fraction=0.8036733817443998\n",
      "[LightGBM] [Warning] bagging_fraction is set=0.5594010080611115, subsample=0.8 will be ignored. Current value: bagging_fraction=0.5594010080611115\n",
      "[LightGBM] [Warning] bagging_freq is set=4, subsample_freq=0 will be ignored. Current value: bagging_freq=4\n",
      "Training until validation scores don't improve for 100 rounds\n",
      "[100]\ttraining's l1: 3.16556\tvalid_1's l1: 2.81138\n"
     ]
    },
    {
     "name": "stderr",
     "output_type": "stream",
     "text": [
      "\u001b[32m[I 2021-07-30 00:13:34,556]\u001b[0m Trial 55 finished with value: -2.8099777651933593 and parameters: {'max_depth': 3, 'min_child_weight': 6, 'subsample': 0.8, 'colsample_bytree': 0.8, 'reg_lambda': 0.060577399531199956, 'reg_alpha': 0.005263918747897736, 'feature_fraction': 0.8036733817443998, 'bagging_fraction': 0.5594010080611115, 'bagging_freq': 4, 'num_leaves': 732, 'min_child_samples': 36}. Best is trial 31 with value: -2.795832897173826.\u001b[0m\n"
     ]
    },
    {
     "name": "stdout",
     "output_type": "stream",
     "text": [
      "[200]\ttraining's l1: 3.09967\tvalid_1's l1: 2.8247\n",
      "Early stopping, best iteration is:\n",
      "[108]\ttraining's l1: 3.15803\tvalid_1's l1: 2.80998\n",
      "[LightGBM] [Warning] feature_fraction is set=0.91836009119206, colsample_bytree=0.7 will be ignored. Current value: feature_fraction=0.91836009119206\n",
      "[LightGBM] [Warning] bagging_fraction is set=0.6106262848495323, subsample=0.9 will be ignored. Current value: bagging_fraction=0.6106262848495323\n",
      "[LightGBM] [Warning] bagging_freq is set=7, subsample_freq=0 will be ignored. Current value: bagging_freq=7\n",
      "Training until validation scores don't improve for 100 rounds\n",
      "[100]\ttraining's l1: 3.40135\tvalid_1's l1: 2.84299\n",
      "[200]\ttraining's l1: 3.33428\tvalid_1's l1: 2.81859\n",
      "[300]\ttraining's l1: 3.30417\tvalid_1's l1: 2.80974\n",
      "[400]\ttraining's l1: 3.2867\tvalid_1's l1: 2.8016\n"
     ]
    },
    {
     "name": "stderr",
     "output_type": "stream",
     "text": [
      "\u001b[32m[I 2021-07-30 00:13:37,011]\u001b[0m Trial 56 finished with value: -2.800084622535131 and parameters: {'max_depth': 1, 'min_child_weight': 14, 'subsample': 0.9, 'colsample_bytree': 0.7, 'reg_lambda': 3.0463077796082647, 'reg_alpha': 0.019051669176397584, 'feature_fraction': 0.91836009119206, 'bagging_fraction': 0.6106262848495323, 'bagging_freq': 7, 'num_leaves': 763, 'min_child_samples': 12}. Best is trial 31 with value: -2.795832897173826.\u001b[0m\n"
     ]
    },
    {
     "name": "stdout",
     "output_type": "stream",
     "text": [
      "Early stopping, best iteration is:\n",
      "[399]\ttraining's l1: 3.28706\tvalid_1's l1: 2.80008\n",
      "[LightGBM] [Warning] feature_fraction is set=0.7671345913976487, colsample_bytree=0.6 will be ignored. Current value: feature_fraction=0.7671345913976487\n",
      "[LightGBM] [Warning] bagging_fraction is set=0.7145655352504594, subsample=0.8 will be ignored. Current value: bagging_fraction=0.7145655352504594\n",
      "[LightGBM] [Warning] bagging_freq is set=9, subsample_freq=0 will be ignored. Current value: bagging_freq=9\n",
      "Training until validation scores don't improve for 100 rounds\n",
      "[100]\ttraining's l1: 3.27325\tvalid_1's l1: 2.84335\n",
      "[200]\ttraining's l1: 3.20539\tvalid_1's l1: 2.8432\n"
     ]
    },
    {
     "name": "stderr",
     "output_type": "stream",
     "text": [
      "\u001b[32m[I 2021-07-30 00:13:38,727]\u001b[0m Trial 57 finished with value: -2.8374255839913207 and parameters: {'max_depth': 2, 'min_child_weight': 14, 'subsample': 0.8, 'colsample_bytree': 0.6, 'reg_lambda': 2.8618965191856103, 'reg_alpha': 111.82614974942696, 'feature_fraction': 0.7671345913976487, 'bagging_fraction': 0.7145655352504594, 'bagging_freq': 9, 'num_leaves': 799, 'min_child_samples': 11}. Best is trial 31 with value: -2.795832897173826.\u001b[0m\n"
     ]
    },
    {
     "name": "stdout",
     "output_type": "stream",
     "text": [
      "Early stopping, best iteration is:\n",
      "[179]\ttraining's l1: 3.215\tvalid_1's l1: 2.83743\n",
      "[LightGBM] [Warning] feature_fraction is set=0.8617861364174091, colsample_bytree=0.7 will be ignored. Current value: feature_fraction=0.8617861364174091\n",
      "[LightGBM] [Warning] bagging_fraction is set=0.6547108770724196, subsample=0.9 will be ignored. Current value: bagging_fraction=0.6547108770724196\n",
      "[LightGBM] [Warning] bagging_freq is set=7, subsample_freq=0 will be ignored. Current value: bagging_freq=7\n",
      "Training until validation scores don't improve for 100 rounds\n",
      "[100]\ttraining's l1: 3.39998\tvalid_1's l1: 2.84271\n",
      "[200]\ttraining's l1: 3.33427\tvalid_1's l1: 2.82138\n",
      "[300]\ttraining's l1: 3.30475\tvalid_1's l1: 2.81561\n",
      "[400]\ttraining's l1: 3.28756\tvalid_1's l1: 2.80381\n",
      "[500]\ttraining's l1: 3.27487\tvalid_1's l1: 2.80485\n"
     ]
    },
    {
     "name": "stderr",
     "output_type": "stream",
     "text": [
      "\u001b[32m[I 2021-07-30 00:13:41,731]\u001b[0m Trial 58 finished with value: -2.803427966270056 and parameters: {'max_depth': 1, 'min_child_weight': 12, 'subsample': 0.9, 'colsample_bytree': 0.7, 'reg_lambda': 12.362386235820267, 'reg_alpha': 0.18415893448185333, 'feature_fraction': 0.8617861364174091, 'bagging_fraction': 0.6547108770724196, 'bagging_freq': 7, 'num_leaves': 876, 'min_child_samples': 21}. Best is trial 31 with value: -2.795832897173826.\u001b[0m\n"
     ]
    },
    {
     "name": "stdout",
     "output_type": "stream",
     "text": [
      "[600]\ttraining's l1: 3.26221\tvalid_1's l1: 2.81007\n",
      "Early stopping, best iteration is:\n",
      "[504]\ttraining's l1: 3.27444\tvalid_1's l1: 2.80343\n",
      "[LightGBM] [Warning] feature_fraction is set=0.9122905114332974, colsample_bytree=0.7 will be ignored. Current value: feature_fraction=0.9122905114332974\n",
      "[LightGBM] [Warning] bagging_fraction is set=0.5693254230427535, subsample=0.8 will be ignored. Current value: bagging_fraction=0.5693254230427535\n",
      "[LightGBM] [Warning] bagging_freq is set=8, subsample_freq=0 will be ignored. Current value: bagging_freq=8\n",
      "Training until validation scores don't improve for 100 rounds\n",
      "[100]\ttraining's l1: 3.15989\tvalid_1's l1: 2.81967\n"
     ]
    },
    {
     "name": "stderr",
     "output_type": "stream",
     "text": [
      "\u001b[32m[I 2021-07-30 00:13:43,120]\u001b[0m Trial 59 finished with value: -2.817810071765579 and parameters: {'max_depth': 3, 'min_child_weight': 10, 'subsample': 0.8, 'colsample_bytree': 0.7, 'reg_lambda': 5.410888987334101, 'reg_alpha': 0.008570356893632763, 'feature_fraction': 0.9122905114332974, 'bagging_fraction': 0.5693254230427535, 'bagging_freq': 8, 'num_leaves': 763, 'min_child_samples': 47}. Best is trial 31 with value: -2.795832897173826.\u001b[0m\n"
     ]
    },
    {
     "name": "stdout",
     "output_type": "stream",
     "text": [
      "Early stopping, best iteration is:\n",
      "[94]\ttraining's l1: 3.16971\tvalid_1's l1: 2.81781\n",
      "[LightGBM] [Warning] feature_fraction is set=0.7088515224648096, colsample_bytree=0.7 will be ignored. Current value: feature_fraction=0.7088515224648096\n",
      "[LightGBM] [Warning] bagging_fraction is set=0.6047404098844528, subsample=0.9 will be ignored. Current value: bagging_fraction=0.6047404098844528\n",
      "[LightGBM] [Warning] bagging_freq is set=10, subsample_freq=0 will be ignored. Current value: bagging_freq=10\n",
      "Training until validation scores don't improve for 100 rounds\n",
      "[100]\ttraining's l1: 3.26332\tvalid_1's l1: 2.82359\n",
      "[200]\ttraining's l1: 3.19539\tvalid_1's l1: 2.81532\n"
     ]
    },
    {
     "name": "stderr",
     "output_type": "stream",
     "text": [
      "\u001b[32m[I 2021-07-30 00:13:44,725]\u001b[0m Trial 60 finished with value: -2.814349438792138 and parameters: {'max_depth': 2, 'min_child_weight': 15, 'subsample': 0.9, 'colsample_bytree': 0.7, 'reg_lambda': 38.68438977375128, 'reg_alpha': 0.045393540815283476, 'feature_fraction': 0.7088515224648096, 'bagging_fraction': 0.6047404098844528, 'bagging_freq': 10, 'num_leaves': 972, 'min_child_samples': 14}. Best is trial 31 with value: -2.795832897173826.\u001b[0m\n"
     ]
    },
    {
     "name": "stdout",
     "output_type": "stream",
     "text": [
      "Early stopping, best iteration is:\n",
      "[194]\ttraining's l1: 3.19911\tvalid_1's l1: 2.81435\n",
      "[LightGBM] [Warning] feature_fraction is set=0.9511781868274185, colsample_bytree=0.8 will be ignored. Current value: feature_fraction=0.9511781868274185\n",
      "[LightGBM] [Warning] bagging_fraction is set=0.4910393973594099, subsample=0.9 will be ignored. Current value: bagging_fraction=0.4910393973594099\n",
      "[LightGBM] [Warning] bagging_freq is set=6, subsample_freq=0 will be ignored. Current value: bagging_freq=6\n",
      "Training until validation scores don't improve for 100 rounds\n",
      "[100]\ttraining's l1: 3.40081\tvalid_1's l1: 2.83855\n",
      "[200]\ttraining's l1: 3.33418\tvalid_1's l1: 2.81823\n",
      "[300]\ttraining's l1: 3.30271\tvalid_1's l1: 2.80815\n",
      "[400]\ttraining's l1: 3.285\tvalid_1's l1: 2.80098\n"
     ]
    },
    {
     "name": "stderr",
     "output_type": "stream",
     "text": [
      "\u001b[32m[I 2021-07-30 00:13:46,874]\u001b[0m Trial 61 finished with value: -2.8005733809946167 and parameters: {'max_depth': 1, 'min_child_weight': 17, 'subsample': 0.9, 'colsample_bytree': 0.8, 'reg_lambda': 0.46846220250152426, 'reg_alpha': 0.022310753031967803, 'feature_fraction': 0.9511781868274185, 'bagging_fraction': 0.4910393973594099, 'bagging_freq': 6, 'num_leaves': 656, 'min_child_samples': 26}. Best is trial 31 with value: -2.795832897173826.\u001b[0m\n"
     ]
    },
    {
     "name": "stdout",
     "output_type": "stream",
     "text": [
      "Early stopping, best iteration is:\n",
      "[376]\ttraining's l1: 3.28984\tvalid_1's l1: 2.80057\n",
      "[LightGBM] [Warning] feature_fraction is set=0.9590957974119957, colsample_bytree=0.8 will be ignored. Current value: feature_fraction=0.9590957974119957\n",
      "[LightGBM] [Warning] bagging_fraction is set=0.4968346151055594, subsample=0.9 will be ignored. Current value: bagging_fraction=0.4968346151055594\n",
      "[LightGBM] [Warning] bagging_freq is set=6, subsample_freq=0 will be ignored. Current value: bagging_freq=6\n",
      "Training until validation scores don't improve for 100 rounds\n",
      "[100]\ttraining's l1: 3.39983\tvalid_1's l1: 2.8423\n",
      "[200]\ttraining's l1: 3.33404\tvalid_1's l1: 2.81738\n",
      "[300]\ttraining's l1: 3.30303\tvalid_1's l1: 2.80836\n",
      "[400]\ttraining's l1: 3.28521\tvalid_1's l1: 2.80243\n",
      "[500]\ttraining's l1: 3.27243\tvalid_1's l1: 2.80339\n"
     ]
    },
    {
     "name": "stderr",
     "output_type": "stream",
     "text": [
      "\u001b[32m[I 2021-07-30 00:13:49,414]\u001b[0m Trial 62 finished with value: -2.801619333777467 and parameters: {'max_depth': 1, 'min_child_weight': 16, 'subsample': 0.9, 'colsample_bytree': 0.8, 'reg_lambda': 0.47205868546825813, 'reg_alpha': 0.0037327853464919312, 'feature_fraction': 0.9590957974119957, 'bagging_fraction': 0.4968346151055594, 'bagging_freq': 6, 'num_leaves': 761, 'min_child_samples': 26}. Best is trial 31 with value: -2.795832897173826.\u001b[0m\n"
     ]
    },
    {
     "name": "stdout",
     "output_type": "stream",
     "text": [
      "Early stopping, best iteration is:\n",
      "[491]\ttraining's l1: 3.27306\tvalid_1's l1: 2.80162\n",
      "[LightGBM] [Warning] feature_fraction is set=0.9279291845956841, colsample_bytree=0.7 will be ignored. Current value: feature_fraction=0.9279291845956841\n",
      "[LightGBM] [Warning] bagging_fraction is set=0.5352005164583622, subsample=0.9 will be ignored. Current value: bagging_fraction=0.5352005164583622\n",
      "[LightGBM] [Warning] bagging_freq is set=7, subsample_freq=0 will be ignored. Current value: bagging_freq=7\n",
      "Training until validation scores don't improve for 100 rounds\n",
      "[100]\ttraining's l1: 3.39972\tvalid_1's l1: 2.84545\n",
      "[200]\ttraining's l1: 3.33016\tvalid_1's l1: 2.81617\n",
      "[300]\ttraining's l1: 3.30276\tvalid_1's l1: 2.80705\n",
      "[400]\ttraining's l1: 3.28549\tvalid_1's l1: 2.79961\n"
     ]
    },
    {
     "name": "stderr",
     "output_type": "stream",
     "text": [
      "\u001b[32m[I 2021-07-30 00:13:51,730]\u001b[0m Trial 63 finished with value: -2.798496941899979 and parameters: {'max_depth': 1, 'min_child_weight': 17, 'subsample': 0.9, 'colsample_bytree': 0.7, 'reg_lambda': 0.08782884862447633, 'reg_alpha': 0.0016972871624226784, 'feature_fraction': 0.9279291845956841, 'bagging_fraction': 0.5352005164583622, 'bagging_freq': 7, 'num_leaves': 704, 'min_child_samples': 19}. Best is trial 31 with value: -2.795832897173826.\u001b[0m\n"
     ]
    },
    {
     "name": "stdout",
     "output_type": "stream",
     "text": [
      "[500]\ttraining's l1: 3.27023\tvalid_1's l1: 2.80237\n",
      "Early stopping, best iteration is:\n",
      "[411]\ttraining's l1: 3.28227\tvalid_1's l1: 2.7985\n",
      "[LightGBM] [Warning] feature_fraction is set=0.924888057288382, colsample_bytree=0.7 will be ignored. Current value: feature_fraction=0.924888057288382\n",
      "[LightGBM] [Warning] bagging_fraction is set=0.5277254566873508, subsample=0.9 will be ignored. Current value: bagging_fraction=0.5277254566873508\n",
      "[LightGBM] [Warning] bagging_freq is set=7, subsample_freq=0 will be ignored. Current value: bagging_freq=7\n",
      "Training until validation scores don't improve for 100 rounds\n",
      "[100]\ttraining's l1: 3.25242\tvalid_1's l1: 2.82566\n",
      "[200]\ttraining's l1: 3.18463\tvalid_1's l1: 2.82843\n"
     ]
    },
    {
     "name": "stderr",
     "output_type": "stream",
     "text": [
      "\u001b[32m[I 2021-07-30 00:13:53,297]\u001b[0m Trial 64 finished with value: -2.8229093525817377 and parameters: {'max_depth': 2, 'min_child_weight': 17, 'subsample': 0.9, 'colsample_bytree': 0.7, 'reg_lambda': 0.10463520682228082, 'reg_alpha': 0.018992768622073018, 'feature_fraction': 0.924888057288382, 'bagging_fraction': 0.5277254566873508, 'bagging_freq': 7, 'num_leaves': 475, 'min_child_samples': 8}. Best is trial 31 with value: -2.795832897173826.\u001b[0m\n"
     ]
    },
    {
     "name": "stdout",
     "output_type": "stream",
     "text": [
      "Early stopping, best iteration is:\n",
      "[168]\ttraining's l1: 3.20427\tvalid_1's l1: 2.82291\n",
      "[LightGBM] [Warning] feature_fraction is set=0.8913355924232238, colsample_bytree=0.6 will be ignored. Current value: feature_fraction=0.8913355924232238\n",
      "[LightGBM] [Warning] bagging_fraction is set=0.6129813994644969, subsample=0.9 will be ignored. Current value: bagging_fraction=0.6129813994644969\n",
      "[LightGBM] [Warning] bagging_freq is set=8, subsample_freq=0 will be ignored. Current value: bagging_freq=8\n",
      "Training until validation scores don't improve for 100 rounds\n",
      "[100]\ttraining's l1: 3.39774\tvalid_1's l1: 2.83966\n",
      "[200]\ttraining's l1: 3.33358\tvalid_1's l1: 2.82173\n",
      "[300]\ttraining's l1: 3.30414\tvalid_1's l1: 2.80766\n",
      "[400]\ttraining's l1: 3.28675\tvalid_1's l1: 2.80362\n",
      "[500]\ttraining's l1: 3.27214\tvalid_1's l1: 2.8011\n"
     ]
    },
    {
     "name": "stderr",
     "output_type": "stream",
     "text": [
      "\u001b[32m[I 2021-07-30 00:13:55,966]\u001b[0m Trial 65 finished with value: -2.79781557431145 and parameters: {'max_depth': 1, 'min_child_weight': 15, 'subsample': 0.9, 'colsample_bytree': 0.6, 'reg_lambda': 0.2179619470848293, 'reg_alpha': 0.0017228167248620875, 'feature_fraction': 0.8913355924232238, 'bagging_fraction': 0.6129813994644969, 'bagging_freq': 8, 'num_leaves': 653, 'min_child_samples': 18}. Best is trial 31 with value: -2.795832897173826.\u001b[0m\n"
     ]
    },
    {
     "name": "stdout",
     "output_type": "stream",
     "text": [
      "Early stopping, best iteration is:\n",
      "[458]\ttraining's l1: 3.2781\tvalid_1's l1: 2.79782\n",
      "[LightGBM] [Warning] feature_fraction is set=0.8806897665038937, colsample_bytree=0.6 will be ignored. Current value: feature_fraction=0.8806897665038937\n",
      "[LightGBM] [Warning] bagging_fraction is set=0.6197508178965878, subsample=0.9 will be ignored. Current value: bagging_fraction=0.6197508178965878\n",
      "[LightGBM] [Warning] bagging_freq is set=8, subsample_freq=0 will be ignored. Current value: bagging_freq=8\n",
      "Training until validation scores don't improve for 100 rounds\n",
      "[100]\ttraining's l1: 3.16055\tvalid_1's l1: 2.81938\n"
     ]
    },
    {
     "name": "stderr",
     "output_type": "stream",
     "text": [
      "\u001b[32m[I 2021-07-30 00:13:57,213]\u001b[0m Trial 66 finished with value: -2.8106148208960406 and parameters: {'max_depth': 3, 'min_child_weight': 13, 'subsample': 0.9, 'colsample_bytree': 0.6, 'reg_lambda': 0.026204611808093255, 'reg_alpha': 0.001621947284187979, 'feature_fraction': 0.8806897665038937, 'bagging_fraction': 0.6197508178965878, 'bagging_freq': 8, 'num_leaves': 711, 'min_child_samples': 18}. Best is trial 31 with value: -2.795832897173826.\u001b[0m\n"
     ]
    },
    {
     "name": "stdout",
     "output_type": "stream",
     "text": [
      "Early stopping, best iteration is:\n",
      "[58]\ttraining's l1: 3.22781\tvalid_1's l1: 2.81061\n",
      "[LightGBM] [Warning] feature_fraction is set=0.8050366187425441, colsample_bytree=0.6 will be ignored. Current value: feature_fraction=0.8050366187425441\n",
      "[LightGBM] [Warning] bagging_fraction is set=0.6628136567345007, subsample=0.9 will be ignored. Current value: bagging_fraction=0.6628136567345007\n",
      "[LightGBM] [Warning] bagging_freq is set=9, subsample_freq=0 will be ignored. Current value: bagging_freq=9\n",
      "Training until validation scores don't improve for 100 rounds\n",
      "[100]\ttraining's l1: 3.39785\tvalid_1's l1: 2.83487\n",
      "[200]\ttraining's l1: 3.33631\tvalid_1's l1: 2.82057\n",
      "[300]\ttraining's l1: 3.30601\tvalid_1's l1: 2.8101\n"
     ]
    },
    {
     "name": "stderr",
     "output_type": "stream",
     "text": [
      "\u001b[32m[I 2021-07-30 00:13:59,208]\u001b[0m Trial 67 finished with value: -2.808566025751826 and parameters: {'max_depth': 1, 'min_child_weight': 14, 'subsample': 0.9, 'colsample_bytree': 0.6, 'reg_lambda': 0.08677798567951962, 'reg_alpha': 0.0010548958441784705, 'feature_fraction': 0.8050366187425441, 'bagging_fraction': 0.6628136567345007, 'bagging_freq': 9, 'num_leaves': 600, 'min_child_samples': 5}. Best is trial 31 with value: -2.795832897173826.\u001b[0m\n"
     ]
    },
    {
     "name": "stdout",
     "output_type": "stream",
     "text": [
      "[400]\ttraining's l1: 3.28936\tvalid_1's l1: 2.80979\n",
      "Early stopping, best iteration is:\n",
      "[307]\ttraining's l1: 3.30487\tvalid_1's l1: 2.80857\n",
      "[LightGBM] [Warning] feature_fraction is set=0.8386009223543885, colsample_bytree=0.5 will be ignored. Current value: feature_fraction=0.8386009223543885\n",
      "[LightGBM] [Warning] bagging_fraction is set=0.6108049451924298, subsample=0.9 will be ignored. Current value: bagging_fraction=0.6108049451924298\n",
      "[LightGBM] [Warning] bagging_freq is set=10, subsample_freq=0 will be ignored. Current value: bagging_freq=10\n",
      "Training until validation scores don't improve for 100 rounds\n",
      "[100]\ttraining's l1: 3.25375\tvalid_1's l1: 2.824\n",
      "[200]\ttraining's l1: 3.18064\tvalid_1's l1: 2.81661\n"
     ]
    },
    {
     "name": "stderr",
     "output_type": "stream",
     "text": [
      "\u001b[32m[I 2021-07-30 00:14:00,848]\u001b[0m Trial 68 finished with value: -2.814085611605515 and parameters: {'max_depth': 2, 'min_child_weight': 15, 'subsample': 0.9, 'colsample_bytree': 0.5, 'reg_lambda': 0.008029370263561417, 'reg_alpha': 0.002517921901573728, 'feature_fraction': 0.8386009223543885, 'bagging_fraction': 0.6108049451924298, 'bagging_freq': 10, 'num_leaves': 393, 'min_child_samples': 9}. Best is trial 31 with value: -2.795832897173826.\u001b[0m\n"
     ]
    },
    {
     "name": "stdout",
     "output_type": "stream",
     "text": [
      "Early stopping, best iteration is:\n",
      "[190]\ttraining's l1: 3.18631\tvalid_1's l1: 2.81409\n",
      "[LightGBM] [Warning] feature_fraction is set=0.7782395028581118, colsample_bytree=0.6 will be ignored. Current value: feature_fraction=0.7782395028581118\n",
      "[LightGBM] [Warning] bagging_fraction is set=0.7080104614580593, subsample=0.9 will be ignored. Current value: bagging_fraction=0.7080104614580593\n",
      "[LightGBM] [Warning] bagging_freq is set=7, subsample_freq=0 will be ignored. Current value: bagging_freq=7\n",
      "Training until validation scores don't improve for 100 rounds\n",
      "[100]\ttraining's l1: 2.57711\tvalid_1's l1: 3.16543\n"
     ]
    },
    {
     "name": "stderr",
     "output_type": "stream",
     "text": [
      "\u001b[32m[I 2021-07-30 00:14:05,843]\u001b[0m Trial 69 finished with value: -2.8875273723960526 and parameters: {'max_depth': 18, 'min_child_weight': 18, 'subsample': 0.9, 'colsample_bytree': 0.6, 'reg_lambda': 0.27675127800808685, 'reg_alpha': 0.006122384493418968, 'feature_fraction': 0.7782395028581118, 'bagging_fraction': 0.7080104614580593, 'bagging_freq': 7, 'num_leaves': 549, 'min_child_samples': 15}. Best is trial 31 with value: -2.795832897173826.\u001b[0m\n"
     ]
    },
    {
     "name": "stdout",
     "output_type": "stream",
     "text": [
      "Early stopping, best iteration is:\n",
      "[13]\ttraining's l1: 3.13405\tvalid_1's l1: 2.88753\n",
      "[LightGBM] [Warning] feature_fraction is set=0.8958572257381581, colsample_bytree=0.7 will be ignored. Current value: feature_fraction=0.8958572257381581\n",
      "[LightGBM] [Warning] bagging_fraction is set=0.5759152435108973, subsample=0.9 will be ignored. Current value: bagging_fraction=0.5759152435108973\n",
      "[LightGBM] [Warning] bagging_freq is set=8, subsample_freq=0 will be ignored. Current value: bagging_freq=8\n",
      "Training until validation scores don't improve for 100 rounds\n",
      "[100]\ttraining's l1: 3.08333\tvalid_1's l1: 2.82359\n"
     ]
    },
    {
     "name": "stderr",
     "output_type": "stream",
     "text": [
      "\u001b[32m[I 2021-07-30 00:14:07,204]\u001b[0m Trial 70 finished with value: -2.8080815127399994 and parameters: {'max_depth': 4, 'min_child_weight': 16, 'subsample': 0.9, 'colsample_bytree': 0.7, 'reg_lambda': 0.19641601028268457, 'reg_alpha': 0.0015287337795543787, 'feature_fraction': 0.8958572257381581, 'bagging_fraction': 0.5759152435108973, 'bagging_freq': 8, 'num_leaves': 701, 'min_child_samples': 20}. Best is trial 31 with value: -2.795832897173826.\u001b[0m\n"
     ]
    },
    {
     "name": "stdout",
     "output_type": "stream",
     "text": [
      "Early stopping, best iteration is:\n",
      "[61]\ttraining's l1: 3.14293\tvalid_1's l1: 2.80808\n",
      "[LightGBM] [Warning] feature_fraction is set=0.9367594653851015, colsample_bytree=0.7 will be ignored. Current value: feature_fraction=0.9367594653851015\n",
      "[LightGBM] [Warning] bagging_fraction is set=0.5493587596951826, subsample=0.9 will be ignored. Current value: bagging_fraction=0.5493587596951826\n",
      "[LightGBM] [Warning] bagging_freq is set=6, subsample_freq=0 will be ignored. Current value: bagging_freq=6\n",
      "Training until validation scores don't improve for 100 rounds\n",
      "[100]\ttraining's l1: 3.4015\tvalid_1's l1: 2.84336\n",
      "[200]\ttraining's l1: 3.33299\tvalid_1's l1: 2.81733\n",
      "[300]\ttraining's l1: 3.30291\tvalid_1's l1: 2.80808\n"
     ]
    },
    {
     "name": "stderr",
     "output_type": "stream",
     "text": [
      "\u001b[32m[I 2021-07-30 00:14:09,365]\u001b[0m Trial 71 finished with value: -2.8015417119229635 and parameters: {'max_depth': 1, 'min_child_weight': 18, 'subsample': 0.9, 'colsample_bytree': 0.7, 'reg_lambda': 0.45195231614166886, 'reg_alpha': 0.01004103884787613, 'feature_fraction': 0.9367594653851015, 'bagging_fraction': 0.5493587596951826, 'bagging_freq': 6, 'num_leaves': 657, 'min_child_samples': 23}. Best is trial 31 with value: -2.795832897173826.\u001b[0m\n"
     ]
    },
    {
     "name": "stdout",
     "output_type": "stream",
     "text": [
      "[400]\ttraining's l1: 3.2856\tvalid_1's l1: 2.80183\n",
      "Early stopping, best iteration is:\n",
      "[340]\ttraining's l1: 3.29546\tvalid_1's l1: 2.80154\n",
      "[LightGBM] [Warning] feature_fraction is set=0.955230288634512, colsample_bytree=0.5 will be ignored. Current value: feature_fraction=0.955230288634512\n",
      "[LightGBM] [Warning] bagging_fraction is set=0.538441079727955, subsample=0.9 will be ignored. Current value: bagging_fraction=0.538441079727955\n",
      "[LightGBM] [Warning] bagging_freq is set=6, subsample_freq=0 will be ignored. Current value: bagging_freq=6\n",
      "Training until validation scores don't improve for 100 rounds\n",
      "[100]\ttraining's l1: 3.40241\tvalid_1's l1: 2.84044\n",
      "[200]\ttraining's l1: 3.33267\tvalid_1's l1: 2.8141\n",
      "[300]\ttraining's l1: 3.3039\tvalid_1's l1: 2.80685\n",
      "[400]\ttraining's l1: 3.28578\tvalid_1's l1: 2.79904\n"
     ]
    },
    {
     "name": "stderr",
     "output_type": "stream",
     "text": [
      "\u001b[32m[I 2021-07-30 00:14:11,685]\u001b[0m Trial 72 finished with value: -2.79864007308046 and parameters: {'max_depth': 1, 'min_child_weight': 17, 'subsample': 0.9, 'colsample_bytree': 0.5, 'reg_lambda': 0.03519335085748577, 'reg_alpha': 0.03275293119962457, 'feature_fraction': 0.955230288634512, 'bagging_fraction': 0.538441079727955, 'bagging_freq': 6, 'num_leaves': 742, 'min_child_samples': 18}. Best is trial 31 with value: -2.795832897173826.\u001b[0m\n"
     ]
    },
    {
     "name": "stdout",
     "output_type": "stream",
     "text": [
      "Early stopping, best iteration is:\n",
      "[398]\ttraining's l1: 3.28601\tvalid_1's l1: 2.79864\n",
      "[LightGBM] [Warning] feature_fraction is set=0.7346842225693349, colsample_bytree=0.5 will be ignored. Current value: feature_fraction=0.7346842225693349\n",
      "[LightGBM] [Warning] bagging_fraction is set=0.5264607170103651, subsample=0.9 will be ignored. Current value: bagging_fraction=0.5264607170103651\n",
      "[LightGBM] [Warning] bagging_freq is set=9, subsample_freq=0 will be ignored. Current value: bagging_freq=9\n",
      "Training until validation scores don't improve for 100 rounds\n",
      "[100]\ttraining's l1: 3.26408\tvalid_1's l1: 2.81679\n",
      "[200]\ttraining's l1: 3.19018\tvalid_1's l1: 2.81467\n"
     ]
    },
    {
     "name": "stderr",
     "output_type": "stream",
     "text": [
      "\u001b[32m[I 2021-07-30 00:14:13,144]\u001b[0m Trial 73 finished with value: -2.8099477717149366 and parameters: {'max_depth': 2, 'min_child_weight': 15, 'subsample': 0.9, 'colsample_bytree': 0.5, 'reg_lambda': 0.011926275194770289, 'reg_alpha': 0.00430679919822346, 'feature_fraction': 0.7346842225693349, 'bagging_fraction': 0.5264607170103651, 'bagging_freq': 9, 'num_leaves': 734, 'min_child_samples': 17}. Best is trial 31 with value: -2.795832897173826.\u001b[0m\n"
     ]
    },
    {
     "name": "stdout",
     "output_type": "stream",
     "text": [
      "Early stopping, best iteration is:\n",
      "[188]\ttraining's l1: 3.1949\tvalid_1's l1: 2.80995\n",
      "[LightGBM] [Warning] feature_fraction is set=0.8254893233801027, colsample_bytree=0.6 will be ignored. Current value: feature_fraction=0.8254893233801027\n",
      "[LightGBM] [Warning] bagging_fraction is set=0.5892018620887396, subsample=0.9 will be ignored. Current value: bagging_fraction=0.5892018620887396\n",
      "[LightGBM] [Warning] bagging_freq is set=8, subsample_freq=0 will be ignored. Current value: bagging_freq=8\n",
      "Training until validation scores don't improve for 100 rounds\n",
      "[100]\ttraining's l1: 3.16215\tvalid_1's l1: 2.80944\n"
     ]
    },
    {
     "name": "stderr",
     "output_type": "stream",
     "text": [
      "\u001b[32m[I 2021-07-30 00:14:14,410]\u001b[0m Trial 74 finished with value: -2.8024625964645358 and parameters: {'max_depth': 3, 'min_child_weight': 16, 'subsample': 0.9, 'colsample_bytree': 0.6, 'reg_lambda': 0.021551541274784976, 'reg_alpha': 0.008765378303540407, 'feature_fraction': 0.8254893233801027, 'bagging_fraction': 0.5892018620887396, 'bagging_freq': 8, 'num_leaves': 830, 'min_child_samples': 11}. Best is trial 31 with value: -2.795832897173826.\u001b[0m\n"
     ]
    },
    {
     "name": "stdout",
     "output_type": "stream",
     "text": [
      "Early stopping, best iteration is:\n",
      "[76]\ttraining's l1: 3.19556\tvalid_1's l1: 2.80246\n",
      "[LightGBM] [Warning] feature_fraction is set=0.9968772975713475, colsample_bytree=0.5 will be ignored. Current value: feature_fraction=0.9968772975713475\n",
      "[LightGBM] [Warning] bagging_fraction is set=0.641723846825866, subsample=0.9 will be ignored. Current value: bagging_fraction=0.641723846825866\n",
      "[LightGBM] [Warning] bagging_freq is set=7, subsample_freq=0 will be ignored. Current value: bagging_freq=7\n",
      "Training until validation scores don't improve for 100 rounds\n",
      "[100]\ttraining's l1: 3.25657\tvalid_1's l1: 2.83437\n",
      "[200]\ttraining's l1: 3.18477\tvalid_1's l1: 2.82644\n"
     ]
    },
    {
     "name": "stderr",
     "output_type": "stream",
     "text": [
      "\u001b[32m[I 2021-07-30 00:14:16,042]\u001b[0m Trial 75 finished with value: -2.8212342046388303 and parameters: {'max_depth': 2, 'min_child_weight': 14, 'subsample': 0.9, 'colsample_bytree': 0.5, 'reg_lambda': 0.04280879016856956, 'reg_alpha': 0.03237330467857924, 'feature_fraction': 0.9968772975713475, 'bagging_fraction': 0.641723846825866, 'bagging_freq': 7, 'num_leaves': 788, 'min_child_samples': 14}. Best is trial 31 with value: -2.795832897173826.\u001b[0m\n"
     ]
    },
    {
     "name": "stdout",
     "output_type": "stream",
     "text": [
      "Early stopping, best iteration is:\n",
      "[148]\ttraining's l1: 3.21202\tvalid_1's l1: 2.82123\n",
      "[LightGBM] [Warning] feature_fraction is set=0.9025915270201295, colsample_bytree=0.6 will be ignored. Current value: feature_fraction=0.9025915270201295\n",
      "[LightGBM] [Warning] bagging_fraction is set=0.5421675927770313, subsample=0.9 will be ignored. Current value: bagging_fraction=0.5421675927770313\n",
      "[LightGBM] [Warning] bagging_freq is set=6, subsample_freq=0 will be ignored. Current value: bagging_freq=6\n",
      "Training until validation scores don't improve for 100 rounds\n",
      "[100]\ttraining's l1: 3.40207\tvalid_1's l1: 2.84289\n",
      "[200]\ttraining's l1: 3.33106\tvalid_1's l1: 2.81801\n",
      "[300]\ttraining's l1: 3.30368\tvalid_1's l1: 2.81123\n",
      "[400]\ttraining's l1: 3.28522\tvalid_1's l1: 2.8022\n"
     ]
    },
    {
     "name": "stderr",
     "output_type": "stream",
     "text": [
      "\u001b[32m[I 2021-07-30 00:14:18,390]\u001b[0m Trial 76 finished with value: -2.8017148256475854 and parameters: {'max_depth': 1, 'min_child_weight': 17, 'subsample': 0.9, 'colsample_bytree': 0.6, 'reg_lambda': 0.09694851874798295, 'reg_alpha': 0.06234787652571665, 'feature_fraction': 0.9025915270201295, 'bagging_fraction': 0.5421675927770313, 'bagging_freq': 6, 'num_leaves': 684, 'min_child_samples': 8}. Best is trial 31 with value: -2.795832897173826.\u001b[0m\n"
     ]
    },
    {
     "name": "stdout",
     "output_type": "stream",
     "text": [
      "Early stopping, best iteration is:\n",
      "[399]\ttraining's l1: 3.28529\tvalid_1's l1: 2.80171\n",
      "[LightGBM] [Warning] feature_fraction is set=0.8675888027042215, colsample_bytree=0.5 will be ignored. Current value: feature_fraction=0.8675888027042215\n",
      "[LightGBM] [Warning] bagging_fraction is set=0.6126668569403574, subsample=0.9 will be ignored. Current value: bagging_fraction=0.6126668569403574\n",
      "[LightGBM] [Warning] bagging_freq is set=12, subsample_freq=0 will be ignored. Current value: bagging_freq=12\n",
      "Training until validation scores don't improve for 100 rounds\n",
      "[100]\ttraining's l1: 3.16758\tvalid_1's l1: 2.81716\n"
     ]
    },
    {
     "name": "stderr",
     "output_type": "stream",
     "text": [
      "\u001b[32m[I 2021-07-30 00:14:19,685]\u001b[0m Trial 77 finished with value: -2.8157535056045213 and parameters: {'max_depth': 3, 'min_child_weight': 16, 'subsample': 0.9, 'colsample_bytree': 0.5, 'reg_lambda': 0.039561323226275244, 'reg_alpha': 0.01440580481375056, 'feature_fraction': 0.8675888027042215, 'bagging_fraction': 0.6126668569403574, 'bagging_freq': 12, 'num_leaves': 594, 'min_child_samples': 54}. Best is trial 31 with value: -2.795832897173826.\u001b[0m\n"
     ]
    },
    {
     "name": "stdout",
     "output_type": "stream",
     "text": [
      "Early stopping, best iteration is:\n",
      "[72]\ttraining's l1: 3.20544\tvalid_1's l1: 2.81575\n",
      "[LightGBM] [Warning] feature_fraction is set=0.6681923229416188, colsample_bytree=0.7 will be ignored. Current value: feature_fraction=0.6681923229416188\n",
      "[LightGBM] [Warning] bagging_fraction is set=0.5747790936672007, subsample=0.7 will be ignored. Current value: bagging_fraction=0.5747790936672007\n",
      "[LightGBM] [Warning] bagging_freq is set=4, subsample_freq=0 will be ignored. Current value: bagging_freq=4\n",
      "Training until validation scores don't improve for 100 rounds\n",
      "[100]\ttraining's l1: 3.39524\tvalid_1's l1: 2.83865\n",
      "[200]\ttraining's l1: 3.33481\tvalid_1's l1: 2.81849\n",
      "[300]\ttraining's l1: 3.30279\tvalid_1's l1: 2.80884\n",
      "[400]\ttraining's l1: 3.28475\tvalid_1's l1: 2.80419\n",
      "[500]\ttraining's l1: 3.2712\tvalid_1's l1: 2.8018\n"
     ]
    },
    {
     "name": "stderr",
     "output_type": "stream",
     "text": [
      "\u001b[32m[I 2021-07-30 00:14:22,317]\u001b[0m Trial 78 finished with value: -2.8009925648380567 and parameters: {'max_depth': 1, 'min_child_weight': 17, 'subsample': 0.7, 'colsample_bytree': 0.7, 'reg_lambda': 0.0028093066603701025, 'reg_alpha': 0.003190591786298162, 'feature_fraction': 0.6681923229416188, 'bagging_fraction': 0.5747790936672007, 'bagging_freq': 4, 'num_leaves': 42, 'min_child_samples': 39}. Best is trial 31 with value: -2.795832897173826.\u001b[0m\n"
     ]
    },
    {
     "name": "stdout",
     "output_type": "stream",
     "text": [
      "Early stopping, best iteration is:\n",
      "[486]\ttraining's l1: 3.27329\tvalid_1's l1: 2.80099\n",
      "[LightGBM] [Warning] feature_fraction is set=0.20580529398929387, colsample_bytree=0.7 will be ignored. Current value: feature_fraction=0.20580529398929387\n",
      "[LightGBM] [Warning] bagging_fraction is set=0.5373317539449078, subsample=0.8 will be ignored. Current value: bagging_fraction=0.5373317539449078\n",
      "[LightGBM] [Warning] bagging_freq is set=5, subsample_freq=0 will be ignored. Current value: bagging_freq=5\n",
      "Training until validation scores don't improve for 100 rounds\n",
      "[100]\ttraining's l1: 3.27359\tvalid_1's l1: 2.83177\n",
      "[200]\ttraining's l1: 3.20375\tvalid_1's l1: 2.82162\n"
     ]
    },
    {
     "name": "stderr",
     "output_type": "stream",
     "text": [
      "\u001b[32m[I 2021-07-30 00:14:24,068]\u001b[0m Trial 79 finished with value: -2.8201811816007667 and parameters: {'max_depth': 2, 'min_child_weight': 15, 'subsample': 0.8, 'colsample_bytree': 0.7, 'reg_lambda': 0.1923194542484985, 'reg_alpha': 0.09268587417624839, 'feature_fraction': 0.20580529398929387, 'bagging_fraction': 0.5373317539449078, 'bagging_freq': 5, 'num_leaves': 913, 'min_child_samples': 60}. Best is trial 31 with value: -2.795832897173826.\u001b[0m\n"
     ]
    },
    {
     "name": "stdout",
     "output_type": "stream",
     "text": [
      "[300]\ttraining's l1: 3.17192\tvalid_1's l1: 2.82559\n",
      "Early stopping, best iteration is:\n",
      "[203]\ttraining's l1: 3.20226\tvalid_1's l1: 2.82018\n",
      "[LightGBM] [Warning] feature_fraction is set=0.7476462190648502, colsample_bytree=0.7 will be ignored. Current value: feature_fraction=0.7476462190648502\n",
      "[LightGBM] [Warning] bagging_fraction is set=0.6644146743673829, subsample=0.5 will be ignored. Current value: bagging_fraction=0.6644146743673829\n",
      "[LightGBM] [Warning] bagging_freq is set=7, subsample_freq=0 will be ignored. Current value: bagging_freq=7\n",
      "Training until validation scores don't improve for 100 rounds\n",
      "[100]\ttraining's l1: 2.76413\tvalid_1's l1: 3.0431\n",
      "Early stopping, best iteration is:\n",
      "[16]\ttraining's l1: 3.09407\tvalid_1's l1: 2.85353\n"
     ]
    },
    {
     "name": "stderr",
     "output_type": "stream",
     "text": [
      "\u001b[32m[I 2021-07-30 00:14:26,217]\u001b[0m Trial 80 finished with value: -2.8535333949437836 and parameters: {'max_depth': 9, 'min_child_weight': 18, 'subsample': 0.5, 'colsample_bytree': 0.7, 'reg_lambda': 0.07775674016595788, 'reg_alpha': 0.36896041946194796, 'feature_fraction': 0.7476462190648502, 'bagging_fraction': 0.6644146743673829, 'bagging_freq': 7, 'num_leaves': 852, 'min_child_samples': 18}. Best is trial 31 with value: -2.795832897173826.\u001b[0m\n"
     ]
    },
    {
     "name": "stdout",
     "output_type": "stream",
     "text": [
      "[LightGBM] [Warning] feature_fraction is set=0.9638580628783633, colsample_bytree=0.8 will be ignored. Current value: feature_fraction=0.9638580628783633\n",
      "[LightGBM] [Warning] bagging_fraction is set=0.4956170388871536, subsample=0.9 will be ignored. Current value: bagging_fraction=0.4956170388871536\n",
      "[LightGBM] [Warning] bagging_freq is set=6, subsample_freq=0 will be ignored. Current value: bagging_freq=6\n",
      "Training until validation scores don't improve for 100 rounds\n",
      "[100]\ttraining's l1: 3.39939\tvalid_1's l1: 2.83531\n",
      "[200]\ttraining's l1: 3.33107\tvalid_1's l1: 2.81013\n",
      "[300]\ttraining's l1: 3.30207\tvalid_1's l1: 2.80192\n",
      "[400]\ttraining's l1: 3.28554\tvalid_1's l1: 2.79781\n",
      "Early stopping, best iteration is:\n",
      "[359]\ttraining's l1: 3.29261\tvalid_1's l1: 2.79731\n"
     ]
    },
    {
     "name": "stderr",
     "output_type": "stream",
     "text": [
      "\u001b[32m[I 2021-07-30 00:14:28,319]\u001b[0m Trial 81 finished with value: -2.7973088086179274 and parameters: {'max_depth': 1, 'min_child_weight': 17, 'subsample': 0.9, 'colsample_bytree': 0.8, 'reg_lambda': 0.9237823886818142, 'reg_alpha': 0.019296567636218856, 'feature_fraction': 0.9638580628783633, 'bagging_fraction': 0.4956170388871536, 'bagging_freq': 6, 'num_leaves': 649, 'min_child_samples': 33}. Best is trial 31 with value: -2.795832897173826.\u001b[0m\n"
     ]
    },
    {
     "name": "stdout",
     "output_type": "stream",
     "text": [
      "[LightGBM] [Warning] feature_fraction is set=0.9205933550320856, colsample_bytree=0.9 will be ignored. Current value: feature_fraction=0.9205933550320856\n",
      "[LightGBM] [Warning] bagging_fraction is set=0.45384460337062194, subsample=0.9 will be ignored. Current value: bagging_fraction=0.45384460337062194\n",
      "[LightGBM] [Warning] bagging_freq is set=8, subsample_freq=0 will be ignored. Current value: bagging_freq=8\n",
      "Training until validation scores don't improve for 100 rounds\n",
      "[100]\ttraining's l1: 3.40129\tvalid_1's l1: 2.84536\n",
      "[200]\ttraining's l1: 3.33531\tvalid_1's l1: 2.82582\n",
      "[300]\ttraining's l1: 3.3035\tvalid_1's l1: 2.81672\n",
      "[400]\ttraining's l1: 3.28605\tvalid_1's l1: 2.81497\n",
      "[500]\ttraining's l1: 3.27063\tvalid_1's l1: 2.81154\n"
     ]
    },
    {
     "name": "stderr",
     "output_type": "stream",
     "text": [
      "\u001b[32m[I 2021-07-30 00:14:30,555]\u001b[0m Trial 82 finished with value: -2.8099782491271013 and parameters: {'max_depth': 1, 'min_child_weight': 17, 'subsample': 0.9, 'colsample_bytree': 0.9, 'reg_lambda': 0.9778917371877897, 'reg_alpha': 0.007078344550856081, 'feature_fraction': 0.9205933550320856, 'bagging_fraction': 0.45384460337062194, 'bagging_freq': 8, 'num_leaves': 734, 'min_child_samples': 32}. Best is trial 31 with value: -2.795832897173826.\u001b[0m\n"
     ]
    },
    {
     "name": "stdout",
     "output_type": "stream",
     "text": [
      "Early stopping, best iteration is:\n",
      "[470]\ttraining's l1: 3.27325\tvalid_1's l1: 2.80998\n",
      "[LightGBM] [Warning] feature_fraction is set=0.9561381245678241, colsample_bytree=0.8 will be ignored. Current value: feature_fraction=0.9561381245678241\n",
      "[LightGBM] [Warning] bagging_fraction is set=0.49036403615711927, subsample=0.9 will be ignored. Current value: bagging_fraction=0.49036403615711927\n",
      "[LightGBM] [Warning] bagging_freq is set=6, subsample_freq=0 will be ignored. Current value: bagging_freq=6\n",
      "Training until validation scores don't improve for 100 rounds\n",
      "[100]\ttraining's l1: 3.40125\tvalid_1's l1: 2.83863\n",
      "[200]\ttraining's l1: 3.33327\tvalid_1's l1: 2.81722\n",
      "[300]\ttraining's l1: 3.30261\tvalid_1's l1: 2.80659\n",
      "[400]\ttraining's l1: 3.28517\tvalid_1's l1: 2.80061\n"
     ]
    },
    {
     "name": "stderr",
     "output_type": "stream",
     "text": [
      "\u001b[32m[I 2021-07-30 00:14:32,875]\u001b[0m Trial 83 finished with value: -2.798862140139164 and parameters: {'max_depth': 1, 'min_child_weight': 18, 'subsample': 0.9, 'colsample_bytree': 0.8, 'reg_lambda': 0.13684760691766915, 'reg_alpha': 0.016031738352327782, 'feature_fraction': 0.9561381245678241, 'bagging_fraction': 0.49036403615711927, 'bagging_freq': 6, 'num_leaves': 765, 'min_child_samples': 35}. Best is trial 31 with value: -2.795832897173826.\u001b[0m\n"
     ]
    },
    {
     "name": "stdout",
     "output_type": "stream",
     "text": [
      "[500]\ttraining's l1: 3.27125\tvalid_1's l1: 2.803\n",
      "Early stopping, best iteration is:\n",
      "[430]\ttraining's l1: 3.28051\tvalid_1's l1: 2.79886\n",
      "[LightGBM] [Warning] feature_fraction is set=0.9622926790817491, colsample_bytree=0.8 will be ignored. Current value: feature_fraction=0.9622926790817491\n",
      "[LightGBM] [Warning] bagging_fraction is set=0.5063418090181389, subsample=0.9 will be ignored. Current value: bagging_fraction=0.5063418090181389\n",
      "[LightGBM] [Warning] bagging_freq is set=6, subsample_freq=0 will be ignored. Current value: bagging_freq=6\n",
      "Training until validation scores don't improve for 100 rounds\n",
      "[100]\ttraining's l1: 3.28094\tvalid_1's l1: 2.8441\n"
     ]
    },
    {
     "name": "stderr",
     "output_type": "stream",
     "text": [
      "\u001b[32m[I 2021-07-30 00:14:34,304]\u001b[0m Trial 84 finished with value: -2.833141417467609 and parameters: {'max_depth': 2, 'min_child_weight': 18, 'subsample': 0.9, 'colsample_bytree': 0.8, 'reg_lambda': 672.9323848422454, 'reg_alpha': 0.03356530422251113, 'feature_fraction': 0.9622926790817491, 'bagging_fraction': 0.5063418090181389, 'bagging_freq': 6, 'num_leaves': 615, 'min_child_samples': 34}. Best is trial 31 with value: -2.795832897173826.\u001b[0m\n"
     ]
    },
    {
     "name": "stdout",
     "output_type": "stream",
     "text": [
      "[200]\ttraining's l1: 3.2105\tvalid_1's l1: 2.83787\n",
      "Early stopping, best iteration is:\n",
      "[126]\ttraining's l1: 3.25254\tvalid_1's l1: 2.83314\n",
      "[LightGBM] [Warning] feature_fraction is set=0.992360454103321, colsample_bytree=0.8 will be ignored. Current value: feature_fraction=0.992360454103321\n",
      "[LightGBM] [Warning] bagging_fraction is set=0.4131827524867587, subsample=0.9 will be ignored. Current value: bagging_fraction=0.4131827524867587\n",
      "[LightGBM] [Warning] bagging_freq is set=5, subsample_freq=0 will be ignored. Current value: bagging_freq=5\n",
      "Training until validation scores don't improve for 100 rounds\n",
      "[100]\ttraining's l1: 3.16561\tvalid_1's l1: 2.80974\n"
     ]
    },
    {
     "name": "stderr",
     "output_type": "stream",
     "text": [
      "\u001b[32m[I 2021-07-30 00:14:35,743]\u001b[0m Trial 85 finished with value: -2.807593212481093 and parameters: {'max_depth': 3, 'min_child_weight': 19, 'subsample': 0.9, 'colsample_bytree': 0.8, 'reg_lambda': 0.13539944246292784, 'reg_alpha': 0.010712731698253108, 'feature_fraction': 0.992360454103321, 'bagging_fraction': 0.4131827524867587, 'bagging_freq': 5, 'num_leaves': 808, 'min_child_samples': 40}. Best is trial 31 with value: -2.795832897173826.\u001b[0m\n"
     ]
    },
    {
     "name": "stdout",
     "output_type": "stream",
     "text": [
      "[200]\ttraining's l1: 3.09733\tvalid_1's l1: 2.81567\n",
      "Early stopping, best iteration is:\n",
      "[124]\ttraining's l1: 3.14469\tvalid_1's l1: 2.80759\n",
      "[LightGBM] [Warning] feature_fraction is set=0.981363804811316, colsample_bytree=0.8 will be ignored. Current value: feature_fraction=0.981363804811316\n",
      "[LightGBM] [Warning] bagging_fraction is set=0.5201167462949549, subsample=0.9 will be ignored. Current value: bagging_fraction=0.5201167462949549\n",
      "[LightGBM] [Warning] bagging_freq is set=5, subsample_freq=0 will be ignored. Current value: bagging_freq=5\n",
      "Training until validation scores don't improve for 100 rounds\n",
      "[100]\ttraining's l1: 3.26024\tvalid_1's l1: 2.82119\n",
      "[200]\ttraining's l1: 3.1866\tvalid_1's l1: 2.8147\n"
     ]
    },
    {
     "name": "stderr",
     "output_type": "stream",
     "text": [
      "\u001b[32m[I 2021-07-30 00:14:37,555]\u001b[0m Trial 86 finished with value: -2.813932782620889 and parameters: {'max_depth': 2, 'min_child_weight': 18, 'subsample': 0.9, 'colsample_bytree': 0.8, 'reg_lambda': 0.014325711598207294, 'reg_alpha': 0.0045220948199250705, 'feature_fraction': 0.981363804811316, 'bagging_fraction': 0.5201167462949549, 'bagging_freq': 5, 'num_leaves': 693, 'min_child_samples': 46}. Best is trial 31 with value: -2.795832897173826.\u001b[0m\n"
     ]
    },
    {
     "name": "stdout",
     "output_type": "stream",
     "text": [
      "[300]\ttraining's l1: 3.15178\tvalid_1's l1: 2.81788\n",
      "Early stopping, best iteration is:\n",
      "[214]\ttraining's l1: 3.18216\tvalid_1's l1: 2.81393\n",
      "[LightGBM] [Warning] feature_fraction is set=0.8211580298014574, colsample_bytree=0.8 will be ignored. Current value: feature_fraction=0.8211580298014574\n",
      "[LightGBM] [Warning] bagging_fraction is set=0.4921783160677889, subsample=0.9 will be ignored. Current value: bagging_fraction=0.4921783160677889\n",
      "[LightGBM] [Warning] bagging_freq is set=6, subsample_freq=0 will be ignored. Current value: bagging_freq=6\n",
      "Training until validation scores don't improve for 100 rounds\n",
      "[100]\ttraining's l1: 3.40378\tvalid_1's l1: 2.84452\n",
      "[200]\ttraining's l1: 3.33308\tvalid_1's l1: 2.81933\n",
      "[300]\ttraining's l1: 3.3049\tvalid_1's l1: 2.80949\n",
      "[400]\ttraining's l1: 3.28704\tvalid_1's l1: 2.80129\n"
     ]
    },
    {
     "name": "stderr",
     "output_type": "stream",
     "text": [
      "\u001b[32m[I 2021-07-30 00:14:39,645]\u001b[0m Trial 87 finished with value: -2.7991473684467736 and parameters: {'max_depth': 1, 'min_child_weight': 17, 'subsample': 0.9, 'colsample_bytree': 0.8, 'reg_lambda': 0.3439005481320915, 'reg_alpha': 0.015313159560657413, 'feature_fraction': 0.8211580298014574, 'bagging_fraction': 0.4921783160677889, 'bagging_freq': 6, 'num_leaves': 483, 'min_child_samples': 29}. Best is trial 31 with value: -2.795832897173826.\u001b[0m\n"
     ]
    },
    {
     "name": "stdout",
     "output_type": "stream",
     "text": [
      "[500]\ttraining's l1: 3.27452\tvalid_1's l1: 2.80311\n",
      "Early stopping, best iteration is:\n",
      "[420]\ttraining's l1: 3.28454\tvalid_1's l1: 2.79915\n",
      "[LightGBM] [Warning] feature_fraction is set=0.8770558878151997, colsample_bytree=0.8 will be ignored. Current value: feature_fraction=0.8770558878151997\n",
      "[LightGBM] [Warning] bagging_fraction is set=0.4760430718319237, subsample=0.9 will be ignored. Current value: bagging_fraction=0.4760430718319237\n",
      "[LightGBM] [Warning] bagging_freq is set=8, subsample_freq=0 will be ignored. Current value: bagging_freq=8\n",
      "Training until validation scores don't improve for 100 rounds\n",
      "[100]\ttraining's l1: 3.39945\tvalid_1's l1: 2.84653\n",
      "[200]\ttraining's l1: 3.33649\tvalid_1's l1: 2.82652\n",
      "[300]\ttraining's l1: 3.30392\tvalid_1's l1: 2.81639\n",
      "[400]\ttraining's l1: 3.28739\tvalid_1's l1: 2.81249\n",
      "[500]\ttraining's l1: 3.27249\tvalid_1's l1: 2.80917\n"
     ]
    },
    {
     "name": "stderr",
     "output_type": "stream",
     "text": [
      "\u001b[32m[I 2021-07-30 00:14:41,974]\u001b[0m Trial 88 finished with value: -2.8073270770472543 and parameters: {'max_depth': 1, 'min_child_weight': 16, 'subsample': 0.9, 'colsample_bytree': 0.8, 'reg_lambda': 0.3099612338954563, 'reg_alpha': 0.01671216734251094, 'feature_fraction': 0.8770558878151997, 'bagging_fraction': 0.4760430718319237, 'bagging_freq': 8, 'num_leaves': 491, 'min_child_samples': 22}. Best is trial 31 with value: -2.795832897173826.\u001b[0m\n"
     ]
    },
    {
     "name": "stdout",
     "output_type": "stream",
     "text": [
      "Early stopping, best iteration is:\n",
      "[474]\ttraining's l1: 3.27503\tvalid_1's l1: 2.80733\n",
      "[LightGBM] [Warning] feature_fraction is set=0.9489856729652514, colsample_bytree=0.8 will be ignored. Current value: feature_fraction=0.9489856729652514\n",
      "[LightGBM] [Warning] bagging_fraction is set=0.560771102801763, subsample=0.9 will be ignored. Current value: bagging_fraction=0.560771102801763\n",
      "[LightGBM] [Warning] bagging_freq is set=4, subsample_freq=0 will be ignored. Current value: bagging_freq=4\n",
      "Training until validation scores don't improve for 100 rounds\n",
      "[100]\ttraining's l1: 3.24731\tvalid_1's l1: 2.81543\n"
     ]
    },
    {
     "name": "stderr",
     "output_type": "stream",
     "text": [
      "\u001b[32m[I 2021-07-30 00:14:43,444]\u001b[0m Trial 89 finished with value: -2.811244860785893 and parameters: {'max_depth': 2, 'min_child_weight': 17, 'subsample': 0.9, 'colsample_bytree': 0.8, 'reg_lambda': 0.22647625698112123, 'reg_alpha': 0.04531157435732036, 'feature_fraction': 0.9489856729652514, 'bagging_fraction': 0.560771102801763, 'bagging_freq': 4, 'num_leaves': 524, 'min_child_samples': 36}. Best is trial 31 with value: -2.795832897173826.\u001b[0m\n"
     ]
    },
    {
     "name": "stdout",
     "output_type": "stream",
     "text": [
      "Early stopping, best iteration is:\n",
      "[97]\ttraining's l1: 3.25503\tvalid_1's l1: 2.81124\n",
      "[LightGBM] [Warning] feature_fraction is set=0.8151265892988164, colsample_bytree=0.9 will be ignored. Current value: feature_fraction=0.8151265892988164\n",
      "[LightGBM] [Warning] bagging_fraction is set=0.4513847894725725, subsample=0.9 will be ignored. Current value: bagging_fraction=0.4513847894725725\n",
      "[LightGBM] [Warning] bagging_freq is set=6, subsample_freq=0 will be ignored. Current value: bagging_freq=6\n",
      "Training until validation scores don't improve for 100 rounds\n",
      "[100]\ttraining's l1: 3.03117\tvalid_1's l1: 2.85325\n"
     ]
    },
    {
     "name": "stderr",
     "output_type": "stream",
     "text": [
      "\u001b[32m[I 2021-07-30 00:14:44,747]\u001b[0m Trial 90 finished with value: -2.819251860821979 and parameters: {'max_depth': 5, 'min_child_weight': 16, 'subsample': 0.9, 'colsample_bytree': 0.9, 'reg_lambda': 0.13153395363172948, 'reg_alpha': 0.0019389235724730474, 'feature_fraction': 0.8151265892988164, 'bagging_fraction': 0.4513847894725725, 'bagging_freq': 6, 'num_leaves': 474, 'min_child_samples': 27}. Best is trial 31 with value: -2.795832897173826.\u001b[0m\n"
     ]
    },
    {
     "name": "stdout",
     "output_type": "stream",
     "text": [
      "Early stopping, best iteration is:\n",
      "[52]\ttraining's l1: 3.11063\tvalid_1's l1: 2.81925\n",
      "[LightGBM] [Warning] feature_fraction is set=0.8482752650197767, colsample_bytree=0.8 will be ignored. Current value: feature_fraction=0.8482752650197767\n",
      "[LightGBM] [Warning] bagging_fraction is set=0.482845859216783, subsample=0.9 will be ignored. Current value: bagging_fraction=0.482845859216783\n",
      "[LightGBM] [Warning] bagging_freq is set=7, subsample_freq=0 will be ignored. Current value: bagging_freq=7\n",
      "Training until validation scores don't improve for 100 rounds\n",
      "[100]\ttraining's l1: 3.39758\tvalid_1's l1: 2.84075\n",
      "[200]\ttraining's l1: 3.33397\tvalid_1's l1: 2.81781\n"
     ]
    },
    {
     "name": "stderr",
     "output_type": "stream",
     "text": [
      "\u001b[32m[I 2021-07-30 00:14:46,307]\u001b[0m Trial 91 finished with value: -2.8069076328855904 and parameters: {'max_depth': 1, 'min_child_weight': 17, 'subsample': 0.9, 'colsample_bytree': 0.8, 'reg_lambda': 0.648611372962122, 'reg_alpha': 0.006493209953544726, 'feature_fraction': 0.8482752650197767, 'bagging_fraction': 0.482845859216783, 'bagging_freq': 7, 'num_leaves': 448, 'min_child_samples': 30}. Best is trial 31 with value: -2.795832897173826.\u001b[0m\n"
     ]
    },
    {
     "name": "stdout",
     "output_type": "stream",
     "text": [
      "[300]\ttraining's l1: 3.30137\tvalid_1's l1: 2.81027\n",
      "Early stopping, best iteration is:\n",
      "[245]\ttraining's l1: 3.31757\tvalid_1's l1: 2.80691\n",
      "[LightGBM] [Warning] feature_fraction is set=0.7142843655426865, colsample_bytree=0.8 will be ignored. Current value: feature_fraction=0.7142843655426865\n",
      "[LightGBM] [Warning] bagging_fraction is set=0.5023601792624195, subsample=0.7 will be ignored. Current value: bagging_fraction=0.5023601792624195\n",
      "[LightGBM] [Warning] bagging_freq is set=6, subsample_freq=0 will be ignored. Current value: bagging_freq=6\n",
      "Training until validation scores don't improve for 100 rounds\n",
      "[100]\ttraining's l1: 3.25993\tvalid_1's l1: 2.82013\n",
      "[200]\ttraining's l1: 3.19229\tvalid_1's l1: 2.81553\n"
     ]
    },
    {
     "name": "stderr",
     "output_type": "stream",
     "text": [
      "\u001b[32m[I 2021-07-30 00:14:47,888]\u001b[0m Trial 92 finished with value: -2.8084944096979387 and parameters: {'max_depth': 2, 'min_child_weight': 18, 'subsample': 0.7, 'colsample_bytree': 0.8, 'reg_lambda': 0.7296349852124008, 'reg_alpha': 0.028620136410421538, 'feature_fraction': 0.7142843655426865, 'bagging_fraction': 0.5023601792624195, 'bagging_freq': 6, 'num_leaves': 562, 'min_child_samples': 34}. Best is trial 31 with value: -2.795832897173826.\u001b[0m\n"
     ]
    },
    {
     "name": "stdout",
     "output_type": "stream",
     "text": [
      "[300]\ttraining's l1: 3.15289\tvalid_1's l1: 2.826\n",
      "Early stopping, best iteration is:\n",
      "[210]\ttraining's l1: 3.18553\tvalid_1's l1: 2.80849\n",
      "[LightGBM] [Warning] feature_fraction is set=0.7852957737991104, colsample_bytree=0.8 will be ignored. Current value: feature_fraction=0.7852957737991104\n",
      "[LightGBM] [Warning] bagging_fraction is set=0.42852111034667617, subsample=0.9 will be ignored. Current value: bagging_fraction=0.42852111034667617\n",
      "[LightGBM] [Warning] bagging_freq is set=5, subsample_freq=0 will be ignored. Current value: bagging_freq=5\n",
      "Training until validation scores don't improve for 100 rounds\n"
     ]
    },
    {
     "name": "stderr",
     "output_type": "stream",
     "text": [
      "\u001b[32m[I 2021-07-30 00:14:49,925]\u001b[0m Trial 93 finished with value: -2.866831603193384 and parameters: {'max_depth': 10, 'min_child_weight': 19, 'subsample': 0.9, 'colsample_bytree': 0.8, 'reg_lambda': 0.06732716043126444, 'reg_alpha': 0.013574921603312497, 'feature_fraction': 0.7852957737991104, 'bagging_fraction': 0.42852111034667617, 'bagging_freq': 5, 'num_leaves': 420, 'min_child_samples': 38}. Best is trial 31 with value: -2.795832897173826.\u001b[0m\n"
     ]
    },
    {
     "name": "stdout",
     "output_type": "stream",
     "text": [
      "[100]\ttraining's l1: 2.79401\tvalid_1's l1: 2.99523\n",
      "Early stopping, best iteration is:\n",
      "[16]\ttraining's l1: 3.09238\tvalid_1's l1: 2.86683\n",
      "[LightGBM] [Warning] feature_fraction is set=0.7638283097545957, colsample_bytree=0.8 will be ignored. Current value: feature_fraction=0.7638283097545957\n",
      "[LightGBM] [Warning] bagging_fraction is set=0.5564294457159089, subsample=0.9 will be ignored. Current value: bagging_fraction=0.5564294457159089\n",
      "[LightGBM] [Warning] bagging_freq is set=7, subsample_freq=0 will be ignored. Current value: bagging_freq=7\n",
      "Training until validation scores don't improve for 100 rounds\n",
      "[100]\ttraining's l1: 3.39846\tvalid_1's l1: 2.84142\n",
      "[200]\ttraining's l1: 3.33505\tvalid_1's l1: 2.81726\n",
      "[300]\ttraining's l1: 3.30338\tvalid_1's l1: 2.80766\n",
      "[400]\ttraining's l1: 3.28532\tvalid_1's l1: 2.79645\n"
     ]
    },
    {
     "name": "stderr",
     "output_type": "stream",
     "text": [
      "\u001b[32m[I 2021-07-30 00:14:52,047]\u001b[0m Trial 94 finished with value: -2.79644470952987 and parameters: {'max_depth': 1, 'min_child_weight': 17, 'subsample': 0.9, 'colsample_bytree': 0.8, 'reg_lambda': 0.41129246397751523, 'reg_alpha': 0.0028211857182798014, 'feature_fraction': 0.7638283097545957, 'bagging_fraction': 0.5564294457159089, 'bagging_freq': 7, 'num_leaves': 321, 'min_child_samples': 42}. Best is trial 31 with value: -2.795832897173826.\u001b[0m\n"
     ]
    },
    {
     "name": "stdout",
     "output_type": "stream",
     "text": [
      "Early stopping, best iteration is:\n",
      "[399]\ttraining's l1: 3.28549\tvalid_1's l1: 2.79644\n",
      "[LightGBM] [Warning] feature_fraction is set=0.689102086803655, colsample_bytree=0.8 will be ignored. Current value: feature_fraction=0.689102086803655\n",
      "[LightGBM] [Warning] bagging_fraction is set=0.5529672595341992, subsample=0.9 will be ignored. Current value: bagging_fraction=0.5529672595341992\n",
      "[LightGBM] [Warning] bagging_freq is set=7, subsample_freq=0 will be ignored. Current value: bagging_freq=7\n",
      "Training until validation scores don't improve for 100 rounds\n",
      "[100]\ttraining's l1: 3.39503\tvalid_1's l1: 2.8348\n",
      "[200]\ttraining's l1: 3.3334\tvalid_1's l1: 2.81346\n",
      "[300]\ttraining's l1: 3.30238\tvalid_1's l1: 2.806\n",
      "[400]\ttraining's l1: 3.28369\tvalid_1's l1: 2.7947\n"
     ]
    },
    {
     "name": "stderr",
     "output_type": "stream",
     "text": [
      "\u001b[32m[I 2021-07-30 00:14:54,138]\u001b[0m Trial 95 finished with value: -2.7947020810168923 and parameters: {'max_depth': 1, 'min_child_weight': 15, 'subsample': 0.9, 'colsample_bytree': 0.8, 'reg_lambda': 0.03384271181171102, 'reg_alpha': 0.0029030113032933614, 'feature_fraction': 0.689102086803655, 'bagging_fraction': 0.5529672595341992, 'bagging_freq': 7, 'num_leaves': 354, 'min_child_samples': 43}. Best is trial 95 with value: -2.7947020810168923.\u001b[0m\n"
     ]
    },
    {
     "name": "stdout",
     "output_type": "stream",
     "text": [
      "[500]\ttraining's l1: 3.27002\tvalid_1's l1: 2.79786\n",
      "Early stopping, best iteration is:\n",
      "[400]\ttraining's l1: 3.28369\tvalid_1's l1: 2.7947\n",
      "[LightGBM] [Warning] feature_fraction is set=0.6345742948870734, colsample_bytree=0.8 will be ignored. Current value: feature_fraction=0.6345742948870734\n",
      "[LightGBM] [Warning] bagging_fraction is set=0.5900427189502786, subsample=0.9 will be ignored. Current value: bagging_fraction=0.5900427189502786\n",
      "[LightGBM] [Warning] bagging_freq is set=9, subsample_freq=0 will be ignored. Current value: bagging_freq=9\n",
      "Training until validation scores don't improve for 100 rounds\n",
      "[100]\ttraining's l1: 3.1641\tvalid_1's l1: 2.81501\n"
     ]
    },
    {
     "name": "stderr",
     "output_type": "stream",
     "text": [
      "\u001b[32m[I 2021-07-30 00:14:55,339]\u001b[0m Trial 96 finished with value: -2.808445438814481 and parameters: {'max_depth': 3, 'min_child_weight': 15, 'subsample': 0.9, 'colsample_bytree': 0.8, 'reg_lambda': 0.03589322306827092, 'reg_alpha': 0.001357005491656397, 'feature_fraction': 0.6345742948870734, 'bagging_fraction': 0.5900427189502786, 'bagging_freq': 9, 'num_leaves': 351, 'min_child_samples': 44}. Best is trial 95 with value: -2.7947020810168923.\u001b[0m\n"
     ]
    },
    {
     "name": "stdout",
     "output_type": "stream",
     "text": [
      "Early stopping, best iteration is:\n",
      "[69]\ttraining's l1: 3.21211\tvalid_1's l1: 2.80845\n",
      "[LightGBM] [Warning] feature_fraction is set=0.68907841505276, colsample_bytree=0.8 will be ignored. Current value: feature_fraction=0.68907841505276\n",
      "[LightGBM] [Warning] bagging_fraction is set=0.5573559831180556, subsample=0.9 will be ignored. Current value: bagging_fraction=0.5573559831180556\n",
      "[LightGBM] [Warning] bagging_freq is set=7, subsample_freq=0 will be ignored. Current value: bagging_freq=7\n",
      "Training until validation scores don't improve for 100 rounds\n",
      "[100]\ttraining's l1: 3.39847\tvalid_1's l1: 2.84041\n",
      "[200]\ttraining's l1: 3.33422\tvalid_1's l1: 2.81567\n",
      "[300]\ttraining's l1: 3.30391\tvalid_1's l1: 2.80853\n",
      "[400]\ttraining's l1: 3.28511\tvalid_1's l1: 2.7971\n"
     ]
    },
    {
     "name": "stderr",
     "output_type": "stream",
     "text": [
      "\u001b[32m[I 2021-07-30 00:14:57,440]\u001b[0m Trial 97 finished with value: -2.796928942733255 and parameters: {'max_depth': 1, 'min_child_weight': 16, 'subsample': 0.9, 'colsample_bytree': 0.8, 'reg_lambda': 0.048744033412807274, 'reg_alpha': 0.0026302344587152498, 'feature_fraction': 0.68907841505276, 'bagging_fraction': 0.5573559831180556, 'bagging_freq': 7, 'num_leaves': 265, 'min_child_samples': 52}. Best is trial 95 with value: -2.7947020810168923.\u001b[0m\n"
     ]
    },
    {
     "name": "stdout",
     "output_type": "stream",
     "text": [
      "[500]\ttraining's l1: 3.27106\tvalid_1's l1: 2.8031\n",
      "Early stopping, best iteration is:\n",
      "[401]\ttraining's l1: 3.28502\tvalid_1's l1: 2.79693\n",
      "[LightGBM] [Warning] feature_fraction is set=0.5857719938734753, colsample_bytree=0.9 will be ignored. Current value: feature_fraction=0.5857719938734753\n",
      "[LightGBM] [Warning] bagging_fraction is set=0.5516905340132245, subsample=0.9 will be ignored. Current value: bagging_fraction=0.5516905340132245\n",
      "[LightGBM] [Warning] bagging_freq is set=8, subsample_freq=0 will be ignored. Current value: bagging_freq=8\n",
      "Training until validation scores don't improve for 100 rounds\n",
      "[100]\ttraining's l1: 3.2632\tvalid_1's l1: 2.81484\n",
      "[200]\ttraining's l1: 3.19089\tvalid_1's l1: 2.80524\n"
     ]
    },
    {
     "name": "stderr",
     "output_type": "stream",
     "text": [
      "\u001b[32m[I 2021-07-30 00:14:59,713]\u001b[0m Trial 98 finished with value: -2.804237501033383 and parameters: {'max_depth': 2, 'min_child_weight': 16, 'subsample': 0.9, 'colsample_bytree': 0.9, 'reg_lambda': 0.018304173059574026, 'reg_alpha': 0.002934458320835441, 'feature_fraction': 0.5857719938734753, 'bagging_fraction': 0.5516905340132245, 'bagging_freq': 8, 'num_leaves': 300, 'min_child_samples': 49}. Best is trial 95 with value: -2.7947020810168923.\u001b[0m\n"
     ]
    },
    {
     "name": "stdout",
     "output_type": "stream",
     "text": [
      "[300]\ttraining's l1: 3.15423\tvalid_1's l1: 2.81713\n",
      "Early stopping, best iteration is:\n",
      "[207]\ttraining's l1: 3.18967\tvalid_1's l1: 2.80424\n",
      "[LightGBM] [Warning] feature_fraction is set=0.700702146409246, colsample_bytree=0.8 will be ignored. Current value: feature_fraction=0.700702146409246\n",
      "[LightGBM] [Warning] bagging_fraction is set=0.5301392509850548, subsample=0.9 will be ignored. Current value: bagging_fraction=0.5301392509850548\n",
      "[LightGBM] [Warning] bagging_freq is set=7, subsample_freq=0 will be ignored. Current value: bagging_freq=7\n",
      "Training until validation scores don't improve for 100 rounds\n",
      "[100]\ttraining's l1: 3.39943\tvalid_1's l1: 2.8424\n",
      "[200]\ttraining's l1: 3.33272\tvalid_1's l1: 2.81647\n",
      "[300]\ttraining's l1: 3.30363\tvalid_1's l1: 2.80805\n",
      "[400]\ttraining's l1: 3.2857\tvalid_1's l1: 2.80041\n"
     ]
    },
    {
     "name": "stderr",
     "output_type": "stream",
     "text": [
      "\u001b[32m[I 2021-07-30 00:15:01,774]\u001b[0m Trial 99 finished with value: -2.799199388039641 and parameters: {'max_depth': 1, 'min_child_weight': 15, 'subsample': 0.9, 'colsample_bytree': 0.8, 'reg_lambda': 0.052012858063700616, 'reg_alpha': 0.0022847352018782797, 'feature_fraction': 0.700702146409246, 'bagging_fraction': 0.5301392509850548, 'bagging_freq': 7, 'num_leaves': 256, 'min_child_samples': 52}. Best is trial 95 with value: -2.7947020810168923.\u001b[0m\n",
      "\u001b[32m[I 2021-07-30 00:15:01,775]\u001b[0m A new study created in memory with name: no-name-722aabe9-fb8f-4884-8d12-52ef13d1d9e7\u001b[0m\n"
     ]
    },
    {
     "name": "stdout",
     "output_type": "stream",
     "text": [
      "[500]\ttraining's l1: 3.2714\tvalid_1's l1: 2.80142\n",
      "Early stopping, best iteration is:\n",
      "[410]\ttraining's l1: 3.28384\tvalid_1's l1: 2.7992\n",
      "[LightGBM] [Warning] feature_fraction is set=0.6053744269495211, colsample_bytree=0.9 will be ignored. Current value: feature_fraction=0.6053744269495211\n",
      "[LightGBM] [Warning] bagging_fraction is set=0.33037648380923446, subsample=0.5 will be ignored. Current value: bagging_fraction=0.33037648380923446\n",
      "[LightGBM] [Warning] bagging_freq is set=19, subsample_freq=0 will be ignored. Current value: bagging_freq=19\n",
      "Training until validation scores don't improve for 100 rounds\n"
     ]
    },
    {
     "name": "stderr",
     "output_type": "stream",
     "text": [
      "\u001b[32m[I 2021-07-30 00:15:03,005]\u001b[0m Trial 0 finished with value: -1.7974198725894999 and parameters: {'max_depth': 10, 'min_child_weight': 1, 'subsample': 0.5, 'colsample_bytree': 0.9, 'reg_lambda': 412.60733093583553, 'reg_alpha': 201.6459164883425, 'feature_fraction': 0.6053744269495211, 'bagging_fraction': 0.33037648380923446, 'bagging_freq': 19, 'num_leaves': 17, 'min_child_samples': 30}. Best is trial 0 with value: -1.7974198725894999.\u001b[0m\n"
     ]
    },
    {
     "name": "stdout",
     "output_type": "stream",
     "text": [
      "[100]\ttraining's l1: 2.68898\tvalid_1's l1: 1.80421\n",
      "Early stopping, best iteration is:\n",
      "[26]\ttraining's l1: 2.71757\tvalid_1's l1: 1.79742\n",
      "[LightGBM] [Warning] feature_fraction is set=0.6922278557826278, colsample_bytree=0.8 will be ignored. Current value: feature_fraction=0.6922278557826278\n",
      "[LightGBM] [Warning] bagging_fraction is set=0.539118220457611, subsample=0.7 will be ignored. Current value: bagging_fraction=0.539118220457611\n",
      "[LightGBM] [Warning] bagging_freq is set=2, subsample_freq=0 will be ignored. Current value: bagging_freq=2\n",
      "Training until validation scores don't improve for 100 rounds\n"
     ]
    },
    {
     "name": "stderr",
     "output_type": "stream",
     "text": [
      "\u001b[32m[I 2021-07-30 00:15:04,708]\u001b[0m Trial 1 finished with value: -1.766138196197707 and parameters: {'max_depth': 8, 'min_child_weight': 6, 'subsample': 0.7, 'colsample_bytree': 0.8, 'reg_lambda': 194.12171821134214, 'reg_alpha': 0.005596556510253332, 'feature_fraction': 0.6922278557826278, 'bagging_fraction': 0.539118220457611, 'bagging_freq': 2, 'num_leaves': 866, 'min_child_samples': 96}. Best is trial 1 with value: -1.766138196197707.\u001b[0m\n"
     ]
    },
    {
     "name": "stdout",
     "output_type": "stream",
     "text": [
      "[100]\ttraining's l1: 2.57658\tvalid_1's l1: 1.78898\n",
      "Early stopping, best iteration is:\n",
      "[18]\ttraining's l1: 2.66108\tvalid_1's l1: 1.76614\n",
      "[LightGBM] [Warning] feature_fraction is set=0.39821109489413953, colsample_bytree=0.6 will be ignored. Current value: feature_fraction=0.39821109489413953\n",
      "[LightGBM] [Warning] bagging_fraction is set=0.8945915747873501, subsample=0.6 will be ignored. Current value: bagging_fraction=0.8945915747873501\n",
      "[LightGBM] [Warning] bagging_freq is set=9, subsample_freq=0 will be ignored. Current value: bagging_freq=9\n",
      "Training until validation scores don't improve for 100 rounds\n",
      "[100]\ttraining's l1: 2.53836\tvalid_1's l1: 1.77325\n"
     ]
    },
    {
     "name": "stderr",
     "output_type": "stream",
     "text": [
      "\u001b[32m[I 2021-07-30 00:15:07,301]\u001b[0m Trial 2 finished with value: -1.7483909167733438 and parameters: {'max_depth': 13, 'min_child_weight': 4, 'subsample': 0.6, 'colsample_bytree': 0.6, 'reg_lambda': 1.0103559682337786, 'reg_alpha': 0.06750263156065935, 'feature_fraction': 0.39821109489413953, 'bagging_fraction': 0.8945915747873501, 'bagging_freq': 9, 'num_leaves': 128, 'min_child_samples': 57}. Best is trial 2 with value: -1.7483909167733438.\u001b[0m\n"
     ]
    },
    {
     "name": "stdout",
     "output_type": "stream",
     "text": [
      "Early stopping, best iteration is:\n",
      "[40]\ttraining's l1: 2.6021\tvalid_1's l1: 1.74842\n",
      "[LightGBM] [Warning] feature_fraction is set=0.36336945002035637, colsample_bytree=0.9 will be ignored. Current value: feature_fraction=0.36336945002035637\n",
      "[LightGBM] [Warning] bagging_fraction is set=0.46944502993122533, subsample=0.9 will be ignored. Current value: bagging_fraction=0.46944502993122533\n",
      "[LightGBM] [Warning] bagging_freq is set=17, subsample_freq=0 will be ignored. Current value: bagging_freq=17\n",
      "Training until validation scores don't improve for 100 rounds\n",
      "[100]\ttraining's l1: 2.55989\tvalid_1's l1: 1.82782\n"
     ]
    },
    {
     "name": "stderr",
     "output_type": "stream",
     "text": [
      "\u001b[32m[I 2021-07-30 00:15:09,117]\u001b[0m Trial 3 finished with value: -1.7860349169547134 and parameters: {'max_depth': 8, 'min_child_weight': 14, 'subsample': 0.9, 'colsample_bytree': 0.9, 'reg_lambda': 639.7893926754617, 'reg_alpha': 0.024243538292829603, 'feature_fraction': 0.36336945002035637, 'bagging_fraction': 0.46944502993122533, 'bagging_freq': 17, 'num_leaves': 986, 'min_child_samples': 16}. Best is trial 2 with value: -1.7483909167733438.\u001b[0m\n"
     ]
    },
    {
     "name": "stdout",
     "output_type": "stream",
     "text": [
      "Early stopping, best iteration is:\n",
      "[46]\ttraining's l1: 2.62596\tvalid_1's l1: 1.78611\n",
      "[LightGBM] [Warning] feature_fraction is set=0.574981006221219, colsample_bytree=0.6 will be ignored. Current value: feature_fraction=0.574981006221219\n",
      "[LightGBM] [Warning] bagging_fraction is set=0.5124198921138075, subsample=0.6 will be ignored. Current value: bagging_fraction=0.5124198921138075\n",
      "[LightGBM] [Warning] bagging_freq is set=3, subsample_freq=0 will be ignored. Current value: bagging_freq=3\n",
      "Training until validation scores don't improve for 100 rounds\n",
      "[100]\ttraining's l1: 2.58086\tvalid_1's l1: 1.80271\n"
     ]
    },
    {
     "name": "stderr",
     "output_type": "stream",
     "text": [
      "\u001b[32m[I 2021-07-30 00:15:11,895]\u001b[0m Trial 4 finished with value: -1.7793968856743452 and parameters: {'max_depth': 18, 'min_child_weight': 9, 'subsample': 0.6, 'colsample_bytree': 0.6, 'reg_lambda': 0.1795321417813187, 'reg_alpha': 68.50344875388666, 'feature_fraction': 0.574981006221219, 'bagging_fraction': 0.5124198921138075, 'bagging_freq': 3, 'num_leaves': 256, 'min_child_samples': 9}. Best is trial 2 with value: -1.7483909167733438.\u001b[0m\n"
     ]
    },
    {
     "name": "stdout",
     "output_type": "stream",
     "text": [
      "Early stopping, best iteration is:\n",
      "[24]\ttraining's l1: 2.63781\tvalid_1's l1: 1.77942\n",
      "[LightGBM] [Warning] feature_fraction is set=0.9467659633322285, colsample_bytree=0.6 will be ignored. Current value: feature_fraction=0.9467659633322285\n",
      "[LightGBM] [Warning] bagging_fraction is set=0.39678875209774217, subsample=0.6 will be ignored. Current value: bagging_fraction=0.39678875209774217\n",
      "[LightGBM] [Warning] bagging_freq is set=8, subsample_freq=0 will be ignored. Current value: bagging_freq=8\n",
      "Training until validation scores don't improve for 100 rounds\n",
      "[100]\ttraining's l1: 2.53861\tvalid_1's l1: 1.80445\n"
     ]
    },
    {
     "name": "stderr",
     "output_type": "stream",
     "text": [
      "\u001b[32m[I 2021-07-30 00:15:15,469]\u001b[0m Trial 5 finished with value: -1.7576101047881125 and parameters: {'max_depth': 18, 'min_child_weight': 19, 'subsample': 0.6, 'colsample_bytree': 0.6, 'reg_lambda': 2.434994743565551, 'reg_alpha': 0.17601652549470195, 'feature_fraction': 0.9467659633322285, 'bagging_fraction': 0.39678875209774217, 'bagging_freq': 8, 'num_leaves': 348, 'min_child_samples': 69}. Best is trial 2 with value: -1.7483909167733438.\u001b[0m\n"
     ]
    },
    {
     "name": "stdout",
     "output_type": "stream",
     "text": [
      "Early stopping, best iteration is:\n",
      "[15]\ttraining's l1: 2.62887\tvalid_1's l1: 1.75763\n",
      "[LightGBM] [Warning] feature_fraction is set=0.8329620030259208, colsample_bytree=0.8 will be ignored. Current value: feature_fraction=0.8329620030259208\n",
      "[LightGBM] [Warning] bagging_fraction is set=0.8493416345579752, subsample=0.8 will be ignored. Current value: bagging_fraction=0.8493416345579752\n",
      "[LightGBM] [Warning] bagging_freq is set=13, subsample_freq=0 will be ignored. Current value: bagging_freq=13\n",
      "Training until validation scores don't improve for 100 rounds\n",
      "[100]\ttraining's l1: 2.58436\tvalid_1's l1: 1.76115\n"
     ]
    },
    {
     "name": "stderr",
     "output_type": "stream",
     "text": [
      "\u001b[32m[I 2021-07-30 00:15:17,184]\u001b[0m Trial 6 finished with value: -1.749611307433794 and parameters: {'max_depth': 6, 'min_child_weight': 16, 'subsample': 0.8, 'colsample_bytree': 0.8, 'reg_lambda': 25.233205146677438, 'reg_alpha': 28.29904153392084, 'feature_fraction': 0.8329620030259208, 'bagging_fraction': 0.8493416345579752, 'bagging_freq': 13, 'num_leaves': 386, 'min_child_samples': 38}. Best is trial 2 with value: -1.7483909167733438.\u001b[0m\n"
     ]
    },
    {
     "name": "stdout",
     "output_type": "stream",
     "text": [
      "Early stopping, best iteration is:\n",
      "[33]\ttraining's l1: 2.63348\tvalid_1's l1: 1.74963\n",
      "[LightGBM] [Warning] feature_fraction is set=0.5056205641774013, colsample_bytree=0.5 will be ignored. Current value: feature_fraction=0.5056205641774013\n",
      "[LightGBM] [Warning] bagging_fraction is set=0.6587332968981876, subsample=0.5 will be ignored. Current value: bagging_fraction=0.6587332968981876\n",
      "[LightGBM] [Warning] bagging_freq is set=7, subsample_freq=0 will be ignored. Current value: bagging_freq=7\n",
      "Training until validation scores don't improve for 100 rounds\n",
      "[100]\ttraining's l1: 2.54819\tvalid_1's l1: 1.80489\n"
     ]
    },
    {
     "name": "stderr",
     "output_type": "stream",
     "text": [
      "\u001b[32m[I 2021-07-30 00:15:20,481]\u001b[0m Trial 7 finished with value: -1.7741613153434383 and parameters: {'max_depth': 14, 'min_child_weight': 4, 'subsample': 0.5, 'colsample_bytree': 0.5, 'reg_lambda': 349.02520829524127, 'reg_alpha': 4.563466738200549, 'feature_fraction': 0.5056205641774013, 'bagging_fraction': 0.6587332968981876, 'bagging_freq': 7, 'num_leaves': 999, 'min_child_samples': 87}. Best is trial 2 with value: -1.7483909167733438.\u001b[0m\n"
     ]
    },
    {
     "name": "stdout",
     "output_type": "stream",
     "text": [
      "Early stopping, best iteration is:\n",
      "[24]\ttraining's l1: 2.62922\tvalid_1's l1: 1.77422\n",
      "[LightGBM] [Warning] feature_fraction is set=0.33588730592460003, colsample_bytree=0.5 will be ignored. Current value: feature_fraction=0.33588730592460003\n",
      "[LightGBM] [Warning] bagging_fraction is set=0.739396503027407, subsample=0.8 will be ignored. Current value: bagging_fraction=0.739396503027407\n",
      "[LightGBM] [Warning] bagging_freq is set=4, subsample_freq=0 will be ignored. Current value: bagging_freq=4\n",
      "Training until validation scores don't improve for 100 rounds\n",
      "[100]\ttraining's l1: 2.63024\tvalid_1's l1: 1.75125\n",
      "[200]\ttraining's l1: 2.60899\tvalid_1's l1: 1.74781\n",
      "[300]\ttraining's l1: 2.59774\tvalid_1's l1: 1.74948\n"
     ]
    },
    {
     "name": "stderr",
     "output_type": "stream",
     "text": [
      "\u001b[32m[I 2021-07-30 00:15:23,358]\u001b[0m Trial 8 finished with value: -1.7461663512773709 and parameters: {'max_depth': 4, 'min_child_weight': 17, 'subsample': 0.8, 'colsample_bytree': 0.5, 'reg_lambda': 0.001063234916000233, 'reg_alpha': 0.0021545747713761715, 'feature_fraction': 0.33588730592460003, 'bagging_fraction': 0.739396503027407, 'bagging_freq': 4, 'num_leaves': 513, 'min_child_samples': 99}. Best is trial 8 with value: -1.7461663512773709.\u001b[0m\n"
     ]
    },
    {
     "name": "stdout",
     "output_type": "stream",
     "text": [
      "Early stopping, best iteration is:\n",
      "[262]\ttraining's l1: 2.60232\tvalid_1's l1: 1.74643\n",
      "[LightGBM] [Warning] feature_fraction is set=0.508797408489126, colsample_bytree=0.5 will be ignored. Current value: feature_fraction=0.508797408489126\n",
      "[LightGBM] [Warning] bagging_fraction is set=0.7905893552792711, subsample=0.5 will be ignored. Current value: bagging_fraction=0.7905893552792711\n",
      "[LightGBM] [Warning] bagging_freq is set=9, subsample_freq=0 will be ignored. Current value: bagging_freq=9\n",
      "Training until validation scores don't improve for 100 rounds\n",
      "[100]\ttraining's l1: 2.64121\tvalid_1's l1: 1.78906\n"
     ]
    },
    {
     "name": "stderr",
     "output_type": "stream",
     "text": [
      "\u001b[32m[I 2021-07-30 00:15:25,315]\u001b[0m Trial 9 finished with value: -1.7833263729778441 and parameters: {'max_depth': 11, 'min_child_weight': 4, 'subsample': 0.5, 'colsample_bytree': 0.5, 'reg_lambda': 123.65909702997317, 'reg_alpha': 285.42625386659296, 'feature_fraction': 0.508797408489126, 'bagging_fraction': 0.7905893552792711, 'bagging_freq': 9, 'num_leaves': 998, 'min_child_samples': 89}. Best is trial 8 with value: -1.7461663512773709.\u001b[0m\n"
     ]
    },
    {
     "name": "stdout",
     "output_type": "stream",
     "text": [
      "Early stopping, best iteration is:\n",
      "[27]\ttraining's l1: 2.67635\tvalid_1's l1: 1.78333\n",
      "[LightGBM] [Warning] feature_fraction is set=0.20324817843819248, colsample_bytree=0.7 will be ignored. Current value: feature_fraction=0.20324817843819248\n",
      "[LightGBM] [Warning] bagging_fraction is set=0.7468156257022069, subsample=0.9 will be ignored. Current value: bagging_fraction=0.7468156257022069\n",
      "[LightGBM] [Warning] bagging_freq is set=4, subsample_freq=0 will be ignored. Current value: bagging_freq=4\n",
      "Training until validation scores don't improve for 100 rounds\n",
      "[100]\ttraining's l1: 2.72785\tvalid_1's l1: 1.78556\n",
      "[200]\ttraining's l1: 2.71332\tvalid_1's l1: 1.77808\n",
      "[300]\ttraining's l1: 2.70708\tvalid_1's l1: 1.77385\n",
      "[400]\ttraining's l1: 2.70325\tvalid_1's l1: 1.77147\n",
      "[500]\ttraining's l1: 2.70146\tvalid_1's l1: 1.77047\n",
      "[600]\ttraining's l1: 2.70003\tvalid_1's l1: 1.77009\n",
      "[700]\ttraining's l1: 2.69755\tvalid_1's l1: 1.76925\n",
      "[800]\ttraining's l1: 2.69679\tvalid_1's l1: 1.76853\n",
      "[900]\ttraining's l1: 2.69562\tvalid_1's l1: 1.76751\n",
      "[1000]\ttraining's l1: 2.69475\tvalid_1's l1: 1.7668\n",
      "Early stopping, best iteration is:\n",
      "[928]\ttraining's l1: 2.69491\tvalid_1's l1: 1.7666\n"
     ]
    },
    {
     "name": "stderr",
     "output_type": "stream",
     "text": [
      "\u001b[32m[I 2021-07-30 00:15:30,948]\u001b[0m Trial 10 finished with value: -1.766465767403587 and parameters: {'max_depth': 1, 'min_child_weight': 20, 'subsample': 0.9, 'colsample_bytree': 0.7, 'reg_lambda': 0.0012307473260867155, 'reg_alpha': 0.0010175247496423598, 'feature_fraction': 0.20324817843819248, 'bagging_fraction': 0.7468156257022069, 'bagging_freq': 4, 'num_leaves': 661, 'min_child_samples': 70}. Best is trial 8 with value: -1.7461663512773709.\u001b[0m\n"
     ]
    },
    {
     "name": "stdout",
     "output_type": "stream",
     "text": [
      "[LightGBM] [Warning] feature_fraction is set=0.25440848137897043, colsample_bytree=0.6 will be ignored. Current value: feature_fraction=0.25440848137897043\n",
      "[LightGBM] [Warning] bagging_fraction is set=0.9848166847600544, subsample=0.7 will be ignored. Current value: bagging_fraction=0.9848166847600544\n",
      "[LightGBM] [Warning] bagging_freq is set=12, subsample_freq=0 will be ignored. Current value: bagging_freq=12\n",
      "Training until validation scores don't improve for 100 rounds\n",
      "[100]\ttraining's l1: 2.72271\tvalid_1's l1: 1.78344\n",
      "[200]\ttraining's l1: 2.71173\tvalid_1's l1: 1.77649\n",
      "[300]\ttraining's l1: 2.70703\tvalid_1's l1: 1.77369\n",
      "[400]\ttraining's l1: 2.7041\tvalid_1's l1: 1.7726\n",
      "[500]\ttraining's l1: 2.70176\tvalid_1's l1: 1.77073\n",
      "[600]\ttraining's l1: 2.69899\tvalid_1's l1: 1.7692\n",
      "[700]\ttraining's l1: 2.69865\tvalid_1's l1: 1.76881\n",
      "[800]\ttraining's l1: 2.69692\tvalid_1's l1: 1.76834\n",
      "[900]\ttraining's l1: 2.6955\tvalid_1's l1: 1.76729\n"
     ]
    },
    {
     "name": "stderr",
     "output_type": "stream",
     "text": [
      "\u001b[32m[I 2021-07-30 00:15:37,771]\u001b[0m Trial 11 finished with value: -1.7670675675418157 and parameters: {'max_depth': 1, 'min_child_weight': 13, 'subsample': 0.7, 'colsample_bytree': 0.6, 'reg_lambda': 0.02270341335651987, 'reg_alpha': 0.14116981642095328, 'feature_fraction': 0.25440848137897043, 'bagging_fraction': 0.9848166847600544, 'bagging_freq': 12, 'num_leaves': 619, 'min_child_samples': 54}. Best is trial 8 with value: -1.7461663512773709.\u001b[0m\n"
     ]
    },
    {
     "name": "stdout",
     "output_type": "stream",
     "text": [
      "[1000]\ttraining's l1: 2.69504\tvalid_1's l1: 1.7675\n",
      "Early stopping, best iteration is:\n",
      "[919]\ttraining's l1: 2.69546\tvalid_1's l1: 1.76714\n",
      "[LightGBM] [Warning] feature_fraction is set=0.3596559874248629, colsample_bytree=0.5 will be ignored. Current value: feature_fraction=0.3596559874248629\n",
      "[LightGBM] [Warning] bagging_fraction is set=0.9811863276174472, subsample=0.8 will be ignored. Current value: bagging_fraction=0.9811863276174472\n",
      "[LightGBM] [Warning] bagging_freq is set=5, subsample_freq=0 will be ignored. Current value: bagging_freq=5\n",
      "Training until validation scores don't improve for 100 rounds\n",
      "[100]\ttraining's l1: 2.62334\tvalid_1's l1: 1.75286\n",
      "[200]\ttraining's l1: 2.60237\tvalid_1's l1: 1.75798\n"
     ]
    },
    {
     "name": "stderr",
     "output_type": "stream",
     "text": [
      "\u001b[32m[I 2021-07-30 00:15:40,510]\u001b[0m Trial 12 finished with value: -1.7520590892144021 and parameters: {'max_depth': 4, 'min_child_weight': 9, 'subsample': 0.8, 'colsample_bytree': 0.5, 'reg_lambda': 1.2379336577263382, 'reg_alpha': 0.0015044330201211536, 'feature_fraction': 0.3596559874248629, 'bagging_fraction': 0.9811863276174472, 'bagging_freq': 5, 'num_leaves': 18, 'min_child_samples': 70}. Best is trial 8 with value: -1.7461663512773709.\u001b[0m\n"
     ]
    },
    {
     "name": "stdout",
     "output_type": "stream",
     "text": [
      "Early stopping, best iteration is:\n",
      "[168]\ttraining's l1: 2.60758\tvalid_1's l1: 1.75213\n",
      "[LightGBM] [Warning] feature_fraction is set=0.3364064133140983, colsample_bytree=0.6 will be ignored. Current value: feature_fraction=0.3364064133140983\n",
      "[LightGBM] [Warning] bagging_fraction is set=0.9051867027983521, subsample=0.8 will be ignored. Current value: bagging_fraction=0.9051867027983521\n",
      "[LightGBM] [Warning] bagging_freq is set=1, subsample_freq=0 will be ignored. Current value: bagging_freq=1\n",
      "Training until validation scores don't improve for 100 rounds\n",
      "[100]\ttraining's l1: 2.52652\tvalid_1's l1: 1.82998\n"
     ]
    },
    {
     "name": "stderr",
     "output_type": "stream",
     "text": [
      "\u001b[32m[I 2021-07-30 00:15:42,914]\u001b[0m Trial 13 finished with value: -1.7495181480527546 and parameters: {'max_depth': 15, 'min_child_weight': 17, 'subsample': 0.8, 'colsample_bytree': 0.6, 'reg_lambda': 0.0020196303142569682, 'reg_alpha': 0.03336792725257314, 'feature_fraction': 0.3364064133140983, 'bagging_fraction': 0.9051867027983521, 'bagging_freq': 1, 'num_leaves': 160, 'min_child_samples': 46}. Best is trial 8 with value: -1.7461663512773709.\u001b[0m\n"
     ]
    },
    {
     "name": "stdout",
     "output_type": "stream",
     "text": [
      "Early stopping, best iteration is:\n",
      "[30]\ttraining's l1: 2.61059\tvalid_1's l1: 1.74953\n",
      "[LightGBM] [Warning] feature_fraction is set=0.4304448237172843, colsample_bytree=0.7 will be ignored. Current value: feature_fraction=0.4304448237172843\n",
      "[LightGBM] [Warning] bagging_fraction is set=0.6832945629484727, subsample=0.6 will be ignored. Current value: bagging_fraction=0.6832945629484727\n",
      "[LightGBM] [Warning] bagging_freq is set=14, subsample_freq=0 will be ignored. Current value: bagging_freq=14\n",
      "Training until validation scores don't improve for 100 rounds\n",
      "[100]\ttraining's l1: 2.47487\tvalid_1's l1: 1.83108\n"
     ]
    },
    {
     "name": "stderr",
     "output_type": "stream",
     "text": [
      "\u001b[32m[I 2021-07-30 00:15:46,471]\u001b[0m Trial 14 finished with value: -1.7553704377733954 and parameters: {'max_depth': 14, 'min_child_weight': 1, 'subsample': 0.6, 'colsample_bytree': 0.7, 'reg_lambda': 0.08146246673413882, 'reg_alpha': 0.691408243527104, 'feature_fraction': 0.4304448237172843, 'bagging_fraction': 0.6832945629484727, 'bagging_freq': 14, 'num_leaves': 533, 'min_child_samples': 58}. Best is trial 8 with value: -1.7461663512773709.\u001b[0m\n"
     ]
    },
    {
     "name": "stdout",
     "output_type": "stream",
     "text": [
      "Early stopping, best iteration is:\n",
      "[16]\ttraining's l1: 2.6054\tvalid_1's l1: 1.75537\n",
      "[LightGBM] [Warning] feature_fraction is set=0.24842593308749597, colsample_bytree=0.5 will be ignored. Current value: feature_fraction=0.24842593308749597\n",
      "[LightGBM] [Warning] bagging_fraction is set=0.909880258290955, subsample=0.7 will be ignored. Current value: bagging_fraction=0.909880258290955\n",
      "[LightGBM] [Warning] bagging_freq is set=6, subsample_freq=0 will be ignored. Current value: bagging_freq=6\n",
      "Training until validation scores don't improve for 100 rounds\n",
      "[100]\ttraining's l1: 2.62543\tvalid_1's l1: 1.75467\n",
      "[200]\ttraining's l1: 2.60997\tvalid_1's l1: 1.75056\n"
     ]
    },
    {
     "name": "stderr",
     "output_type": "stream",
     "text": [
      "\u001b[32m[I 2021-07-30 00:15:48,580]\u001b[0m Trial 15 finished with value: -1.750148955534992 and parameters: {'max_depth': 4, 'min_child_weight': 12, 'subsample': 0.7, 'colsample_bytree': 0.5, 'reg_lambda': 0.006720692795436226, 'reg_alpha': 0.010154207247910694, 'feature_fraction': 0.24842593308749597, 'bagging_fraction': 0.909880258290955, 'bagging_freq': 6, 'num_leaves': 811, 'min_child_samples': 100}. Best is trial 8 with value: -1.7461663512773709.\u001b[0m\n"
     ]
    },
    {
     "name": "stdout",
     "output_type": "stream",
     "text": [
      "[300]\ttraining's l1: 2.6009\tvalid_1's l1: 1.75177\n",
      "Early stopping, best iteration is:\n",
      "[203]\ttraining's l1: 2.60955\tvalid_1's l1: 1.75037\n",
      "[LightGBM] [Warning] feature_fraction is set=0.41096486976156177, colsample_bytree=0.6 will be ignored. Current value: feature_fraction=0.41096486976156177\n",
      "[LightGBM] [Warning] bagging_fraction is set=0.7708948883256939, subsample=0.8 will be ignored. Current value: bagging_fraction=0.7708948883256939\n",
      "[LightGBM] [Warning] bagging_freq is set=10, subsample_freq=0 will be ignored. Current value: bagging_freq=10\n",
      "Training until validation scores don't improve for 100 rounds\n",
      "[100]\ttraining's l1: 2.50361\tvalid_1's l1: 1.79193\n"
     ]
    },
    {
     "name": "stderr",
     "output_type": "stream",
     "text": [
      "\u001b[32m[I 2021-07-30 00:15:51,524]\u001b[0m Trial 16 finished with value: -1.7520158431974062 and parameters: {'max_depth': 12, 'min_child_weight': 7, 'subsample': 0.8, 'colsample_bytree': 0.6, 'reg_lambda': 7.099998132185688, 'reg_alpha': 0.0019768845117751743, 'feature_fraction': 0.41096486976156177, 'bagging_fraction': 0.7708948883256939, 'bagging_freq': 10, 'num_leaves': 454, 'min_child_samples': 77}. Best is trial 8 with value: -1.7461663512773709.\u001b[0m\n"
     ]
    },
    {
     "name": "stdout",
     "output_type": "stream",
     "text": [
      "Early stopping, best iteration is:\n",
      "[17]\ttraining's l1: 2.60943\tvalid_1's l1: 1.75203\n",
      "[LightGBM] [Warning] feature_fraction is set=0.3106290933058361, colsample_bytree=0.5 will be ignored. Current value: feature_fraction=0.3106290933058361\n",
      "[LightGBM] [Warning] bagging_fraction is set=0.6716867616977736, subsample=0.6 will be ignored. Current value: bagging_fraction=0.6716867616977736\n",
      "[LightGBM] [Warning] bagging_freq is set=11, subsample_freq=0 will be ignored. Current value: bagging_freq=11\n",
      "Training until validation scores don't improve for 100 rounds\n",
      "[100]\ttraining's l1: 2.54031\tvalid_1's l1: 1.80929\n"
     ]
    },
    {
     "name": "stderr",
     "output_type": "stream",
     "text": [
      "\u001b[32m[I 2021-07-30 00:15:53,709]\u001b[0m Trial 17 finished with value: -1.7523156710737042 and parameters: {'max_depth': 20, 'min_child_weight': 16, 'subsample': 0.6, 'colsample_bytree': 0.5, 'reg_lambda': 0.25931357573683306, 'reg_alpha': 1.6949287731263971, 'feature_fraction': 0.3106290933058361, 'bagging_fraction': 0.6716867616977736, 'bagging_freq': 11, 'num_leaves': 160, 'min_child_samples': 30}. Best is trial 8 with value: -1.7461663512773709.\u001b[0m\n"
     ]
    },
    {
     "name": "stdout",
     "output_type": "stream",
     "text": [
      "Early stopping, best iteration is:\n",
      "[20]\ttraining's l1: 2.64138\tvalid_1's l1: 1.75232\n",
      "[LightGBM] [Warning] feature_fraction is set=0.49075669792976917, colsample_bytree=0.7 will be ignored. Current value: feature_fraction=0.49075669792976917\n",
      "[LightGBM] [Warning] bagging_fraction is set=0.20639787245606112, subsample=0.7 will be ignored. Current value: bagging_fraction=0.20639787245606112\n",
      "[LightGBM] [Warning] bagging_freq is set=15, subsample_freq=0 will be ignored. Current value: bagging_freq=15\n",
      "Training until validation scores don't improve for 100 rounds\n",
      "[100]\ttraining's l1: 2.6429\tvalid_1's l1: 1.76278\n",
      "Early stopping, best iteration is:\n",
      "[68]\ttraining's l1: 2.65929\tvalid_1's l1: 1.7578\n"
     ]
    },
    {
     "name": "stderr",
     "output_type": "stream",
     "text": [
      "\u001b[32m[I 2021-07-30 00:15:54,776]\u001b[0m Trial 18 finished with value: -1.757785352199443 and parameters: {'max_depth': 4, 'min_child_weight': 3, 'subsample': 0.7, 'colsample_bytree': 0.7, 'reg_lambda': 23.199651224666987, 'reg_alpha': 0.11130909186107699, 'feature_fraction': 0.49075669792976917, 'bagging_fraction': 0.20639787245606112, 'bagging_freq': 15, 'num_leaves': 700, 'min_child_samples': 82}. Best is trial 8 with value: -1.7461663512773709.\u001b[0m\n"
     ]
    },
    {
     "name": "stdout",
     "output_type": "stream",
     "text": [
      "[LightGBM] [Warning] feature_fraction is set=0.6900314717086876, colsample_bytree=0.6 will be ignored. Current value: feature_fraction=0.6900314717086876\n",
      "[LightGBM] [Warning] bagging_fraction is set=0.8702861168432774, subsample=0.9 will be ignored. Current value: bagging_fraction=0.8702861168432774\n",
      "[LightGBM] [Warning] bagging_freq is set=7, subsample_freq=0 will be ignored. Current value: bagging_freq=7\n",
      "Training until validation scores don't improve for 100 rounds\n",
      "[100]\ttraining's l1: 2.4774\tvalid_1's l1: 1.79088\n"
     ]
    },
    {
     "name": "stderr",
     "output_type": "stream",
     "text": [
      "\u001b[32m[I 2021-07-30 00:15:58,615]\u001b[0m Trial 19 finished with value: -1.7446403677477829 and parameters: {'max_depth': 16, 'min_child_weight': 11, 'subsample': 0.9, 'colsample_bytree': 0.6, 'reg_lambda': 0.027773979037047414, 'reg_alpha': 0.006975535859268489, 'feature_fraction': 0.6900314717086876, 'bagging_fraction': 0.8702861168432774, 'bagging_freq': 7, 'num_leaves': 548, 'min_child_samples': 100}. Best is trial 19 with value: -1.7446403677477829.\u001b[0m\n"
     ]
    },
    {
     "name": "stdout",
     "output_type": "stream",
     "text": [
      "Early stopping, best iteration is:\n",
      "[14]\ttraining's l1: 2.60866\tvalid_1's l1: 1.74464\n",
      "[LightGBM] [Warning] feature_fraction is set=0.7266455103769146, colsample_bytree=0.8 will be ignored. Current value: feature_fraction=0.7266455103769146\n",
      "[LightGBM] [Warning] bagging_fraction is set=0.6040480002602477, subsample=0.9 will be ignored. Current value: bagging_fraction=0.6040480002602477\n",
      "[LightGBM] [Warning] bagging_freq is set=1, subsample_freq=0 will be ignored. Current value: bagging_freq=1\n",
      "Training until validation scores don't improve for 100 rounds\n",
      "[100]\ttraining's l1: 2.50414\tvalid_1's l1: 1.79674\n"
     ]
    },
    {
     "name": "stderr",
     "output_type": "stream",
     "text": [
      "\u001b[32m[I 2021-07-30 00:16:02,068]\u001b[0m Trial 20 finished with value: -1.750482784658328 and parameters: {'max_depth': 17, 'min_child_weight': 18, 'subsample': 0.9, 'colsample_bytree': 0.8, 'reg_lambda': 0.0062583288312116295, 'reg_alpha': 0.002779725665765092, 'feature_fraction': 0.7266455103769146, 'bagging_fraction': 0.6040480002602477, 'bagging_freq': 1, 'num_leaves': 529, 'min_child_samples': 96}. Best is trial 19 with value: -1.7446403677477829.\u001b[0m\n"
     ]
    },
    {
     "name": "stdout",
     "output_type": "stream",
     "text": [
      "Early stopping, best iteration is:\n",
      "[14]\ttraining's l1: 2.61495\tvalid_1's l1: 1.75049\n",
      "[LightGBM] [Warning] feature_fraction is set=0.7206903573663838, colsample_bytree=0.6 will be ignored. Current value: feature_fraction=0.7206903573663838\n",
      "[LightGBM] [Warning] bagging_fraction is set=0.8573343468989534, subsample=0.9 will be ignored. Current value: bagging_fraction=0.8573343468989534\n",
      "[LightGBM] [Warning] bagging_freq is set=7, subsample_freq=0 will be ignored. Current value: bagging_freq=7\n",
      "Training until validation scores don't improve for 100 rounds\n",
      "[100]\ttraining's l1: 2.48099\tvalid_1's l1: 1.78825\n"
     ]
    },
    {
     "name": "stderr",
     "output_type": "stream",
     "text": [
      "\u001b[32m[I 2021-07-30 00:16:05,761]\u001b[0m Trial 21 finished with value: -1.7499341326659095 and parameters: {'max_depth': 16, 'min_child_weight': 11, 'subsample': 0.9, 'colsample_bytree': 0.6, 'reg_lambda': 0.051767800793153664, 'reg_alpha': 0.018670717962933906, 'feature_fraction': 0.7206903573663838, 'bagging_fraction': 0.8573343468989534, 'bagging_freq': 7, 'num_leaves': 448, 'min_child_samples': 97}. Best is trial 19 with value: -1.7446403677477829.\u001b[0m\n"
     ]
    },
    {
     "name": "stdout",
     "output_type": "stream",
     "text": [
      "Early stopping, best iteration is:\n",
      "[14]\ttraining's l1: 2.61741\tvalid_1's l1: 1.74994\n",
      "[LightGBM] [Warning] feature_fraction is set=0.8239442400473772, colsample_bytree=0.6 will be ignored. Current value: feature_fraction=0.8239442400473772\n",
      "[LightGBM] [Warning] bagging_fraction is set=0.9216846184281824, subsample=0.8 will be ignored. Current value: bagging_fraction=0.9216846184281824\n",
      "[LightGBM] [Warning] bagging_freq is set=5, subsample_freq=0 will be ignored. Current value: bagging_freq=5\n",
      "Training until validation scores don't improve for 100 rounds\n",
      "[100]\ttraining's l1: 2.44193\tvalid_1's l1: 1.79924\n"
     ]
    },
    {
     "name": "stderr",
     "output_type": "stream",
     "text": [
      "\u001b[32m[I 2021-07-30 00:16:09,645]\u001b[0m Trial 22 finished with value: -1.748070308973574 and parameters: {'max_depth': 13, 'min_child_weight': 14, 'subsample': 0.8, 'colsample_bytree': 0.6, 'reg_lambda': 0.5652062605891927, 'reg_alpha': 0.0562717892969036, 'feature_fraction': 0.8239442400473772, 'bagging_fraction': 0.9216846184281824, 'bagging_freq': 5, 'num_leaves': 602, 'min_child_samples': 63}. Best is trial 19 with value: -1.7446403677477829.\u001b[0m\n"
     ]
    },
    {
     "name": "stdout",
     "output_type": "stream",
     "text": [
      "Early stopping, best iteration is:\n",
      "[15]\ttraining's l1: 2.59064\tvalid_1's l1: 1.74808\n",
      "[LightGBM] [Warning] feature_fraction is set=0.8596148487654285, colsample_bytree=0.5 will be ignored. Current value: feature_fraction=0.8596148487654285\n",
      "[LightGBM] [Warning] bagging_fraction is set=0.9933001417760565, subsample=0.8 will be ignored. Current value: bagging_fraction=0.9933001417760565\n",
      "[LightGBM] [Warning] bagging_freq is set=5, subsample_freq=0 will be ignored. Current value: bagging_freq=5\n",
      "Training until validation scores don't improve for 100 rounds\n",
      "[100]\ttraining's l1: 2.42765\tvalid_1's l1: 1.80675\n"
     ]
    },
    {
     "name": "stderr",
     "output_type": "stream",
     "text": [
      "\u001b[32m[I 2021-07-30 00:16:15,220]\u001b[0m Trial 23 finished with value: -1.7579318731311224 and parameters: {'max_depth': 20, 'min_child_weight': 14, 'subsample': 0.8, 'colsample_bytree': 0.5, 'reg_lambda': 0.011195535549295178, 'reg_alpha': 0.005956511495528675, 'feature_fraction': 0.8596148487654285, 'bagging_fraction': 0.9933001417760565, 'bagging_freq': 5, 'num_leaves': 757, 'min_child_samples': 87}. Best is trial 19 with value: -1.7446403677477829.\u001b[0m\n"
     ]
    },
    {
     "name": "stdout",
     "output_type": "stream",
     "text": [
      "Early stopping, best iteration is:\n",
      "[14]\ttraining's l1: 2.59123\tvalid_1's l1: 1.75794\n",
      "[LightGBM] [Warning] feature_fraction is set=0.8155175413285172, colsample_bytree=0.7 will be ignored. Current value: feature_fraction=0.8155175413285172\n",
      "[LightGBM] [Warning] bagging_fraction is set=0.820989084802867, subsample=0.8 will be ignored. Current value: bagging_fraction=0.820989084802867\n",
      "[LightGBM] [Warning] bagging_freq is set=3, subsample_freq=0 will be ignored. Current value: bagging_freq=3\n",
      "Training until validation scores don't improve for 100 rounds\n",
      "[100]\ttraining's l1: 2.46453\tvalid_1's l1: 1.78648\n"
     ]
    },
    {
     "name": "stderr",
     "output_type": "stream",
     "text": [
      "\u001b[32m[I 2021-07-30 00:16:18,398]\u001b[0m Trial 24 finished with value: -1.746027397543607 and parameters: {'max_depth': 11, 'min_child_weight': 15, 'subsample': 0.8, 'colsample_bytree': 0.7, 'reg_lambda': 0.22370589759891582, 'reg_alpha': 0.321731328027368, 'feature_fraction': 0.8155175413285172, 'bagging_fraction': 0.820989084802867, 'bagging_freq': 3, 'num_leaves': 591, 'min_child_samples': 64}. Best is trial 19 with value: -1.7446403677477829.\u001b[0m\n"
     ]
    },
    {
     "name": "stdout",
     "output_type": "stream",
     "text": [
      "Early stopping, best iteration is:\n",
      "[21]\ttraining's l1: 2.56597\tvalid_1's l1: 1.74606\n",
      "[LightGBM] [Warning] feature_fraction is set=0.9879067806581757, colsample_bytree=0.7 will be ignored. Current value: feature_fraction=0.9879067806581757\n",
      "[LightGBM] [Warning] bagging_fraction is set=0.8176417811527983, subsample=0.9 will be ignored. Current value: bagging_fraction=0.8176417811527983\n",
      "[LightGBM] [Warning] bagging_freq is set=3, subsample_freq=0 will be ignored. Current value: bagging_freq=3\n",
      "Training until validation scores don't improve for 100 rounds\n",
      "[100]\ttraining's l1: 2.49293\tvalid_1's l1: 1.80197\n"
     ]
    },
    {
     "name": "stderr",
     "output_type": "stream",
     "text": [
      "\u001b[32m[I 2021-07-30 00:16:21,372]\u001b[0m Trial 25 finished with value: -1.743011019785381 and parameters: {'max_depth': 9, 'min_child_weight': 16, 'subsample': 0.9, 'colsample_bytree': 0.7, 'reg_lambda': 0.0022559898730101285, 'reg_alpha': 0.376322525622071, 'feature_fraction': 0.9879067806581757, 'bagging_fraction': 0.8176417811527983, 'bagging_freq': 3, 'num_leaves': 549, 'min_child_samples': 48}. Best is trial 25 with value: -1.743011019785381.\u001b[0m\n"
     ]
    },
    {
     "name": "stdout",
     "output_type": "stream",
     "text": [
      "Early stopping, best iteration is:\n",
      "[21]\ttraining's l1: 2.58786\tvalid_1's l1: 1.74302\n",
      "[LightGBM] [Warning] feature_fraction is set=0.989020499738737, colsample_bytree=0.7 will be ignored. Current value: feature_fraction=0.989020499738737\n",
      "[LightGBM] [Warning] bagging_fraction is set=0.8137618319023734, subsample=0.9 will be ignored. Current value: bagging_fraction=0.8137618319023734\n",
      "[LightGBM] [Warning] bagging_freq is set=2, subsample_freq=0 will be ignored. Current value: bagging_freq=2\n",
      "Training until validation scores don't improve for 100 rounds\n",
      "[100]\ttraining's l1: 2.49144\tvalid_1's l1: 1.77825\n"
     ]
    },
    {
     "name": "stderr",
     "output_type": "stream",
     "text": [
      "\u001b[32m[I 2021-07-30 00:16:24,315]\u001b[0m Trial 26 finished with value: -1.7413881482476086 and parameters: {'max_depth': 9, 'min_child_weight': 11, 'subsample': 0.9, 'colsample_bytree': 0.7, 'reg_lambda': 0.027835638342831204, 'reg_alpha': 0.42736813293080866, 'feature_fraction': 0.989020499738737, 'bagging_fraction': 0.8137618319023734, 'bagging_freq': 2, 'num_leaves': 615, 'min_child_samples': 46}. Best is trial 26 with value: -1.7413881482476086.\u001b[0m\n"
     ]
    },
    {
     "name": "stdout",
     "output_type": "stream",
     "text": [
      "Early stopping, best iteration is:\n",
      "[14]\ttraining's l1: 2.61699\tvalid_1's l1: 1.74139\n",
      "[LightGBM] [Warning] feature_fraction is set=0.9827062190053982, colsample_bytree=0.8 will be ignored. Current value: feature_fraction=0.9827062190053982\n",
      "[LightGBM] [Warning] bagging_fraction is set=0.7212016789970738, subsample=0.9 will be ignored. Current value: bagging_fraction=0.7212016789970738\n",
      "[LightGBM] [Warning] bagging_freq is set=1, subsample_freq=0 will be ignored. Current value: bagging_freq=1\n",
      "Training until validation scores don't improve for 100 rounds\n",
      "[100]\ttraining's l1: 2.49954\tvalid_1's l1: 1.786\n"
     ]
    },
    {
     "name": "stderr",
     "output_type": "stream",
     "text": [
      "\u001b[32m[I 2021-07-30 00:16:26,890]\u001b[0m Trial 27 finished with value: -1.7500924219023943 and parameters: {'max_depth': 9, 'min_child_weight': 10, 'subsample': 0.9, 'colsample_bytree': 0.8, 'reg_lambda': 0.002872788489152797, 'reg_alpha': 6.173524863986016, 'feature_fraction': 0.9827062190053982, 'bagging_fraction': 0.7212016789970738, 'bagging_freq': 1, 'num_leaves': 737, 'min_child_samples': 44}. Best is trial 26 with value: -1.7413881482476086.\u001b[0m\n"
     ]
    },
    {
     "name": "stdout",
     "output_type": "stream",
     "text": [
      "Early stopping, best iteration is:\n",
      "[16]\ttraining's l1: 2.61825\tvalid_1's l1: 1.7501\n",
      "[LightGBM] [Warning] feature_fraction is set=0.9054821657134113, colsample_bytree=0.7 will be ignored. Current value: feature_fraction=0.9054821657134113\n",
      "[LightGBM] [Warning] bagging_fraction is set=0.8208740648606606, subsample=0.9 will be ignored. Current value: bagging_fraction=0.8208740648606606\n",
      "[LightGBM] [Warning] bagging_freq is set=3, subsample_freq=0 will be ignored. Current value: bagging_freq=3\n",
      "Training until validation scores don't improve for 100 rounds\n",
      "[100]\ttraining's l1: 2.54243\tvalid_1's l1: 1.75271\n"
     ]
    },
    {
     "name": "stderr",
     "output_type": "stream",
     "text": [
      "\u001b[32m[I 2021-07-30 00:16:29,047]\u001b[0m Trial 28 finished with value: -1.7428362022229757 and parameters: {'max_depth': 7, 'min_child_weight': 7, 'subsample': 0.9, 'colsample_bytree': 0.7, 'reg_lambda': 0.0329985071206406, 'reg_alpha': 1.0871503782667207, 'feature_fraction': 0.9054821657134113, 'bagging_fraction': 0.8208740648606606, 'bagging_freq': 3, 'num_leaves': 347, 'min_child_samples': 32}. Best is trial 26 with value: -1.7413881482476086.\u001b[0m\n"
     ]
    },
    {
     "name": "stdout",
     "output_type": "stream",
     "text": [
      "Early stopping, best iteration is:\n",
      "[20]\ttraining's l1: 2.62697\tvalid_1's l1: 1.74284\n",
      "[LightGBM] [Warning] feature_fraction is set=0.9190532810014624, colsample_bytree=0.7 will be ignored. Current value: feature_fraction=0.9190532810014624\n",
      "[LightGBM] [Warning] bagging_fraction is set=0.6185269164773162, subsample=0.9 will be ignored. Current value: bagging_fraction=0.6185269164773162\n",
      "[LightGBM] [Warning] bagging_freq is set=2, subsample_freq=0 will be ignored. Current value: bagging_freq=2\n",
      "Training until validation scores don't improve for 100 rounds\n",
      "[100]\ttraining's l1: 2.56906\tvalid_1's l1: 1.76312\n"
     ]
    },
    {
     "name": "stderr",
     "output_type": "stream",
     "text": [
      "\u001b[32m[I 2021-07-30 00:16:31,211]\u001b[0m Trial 29 finished with value: -1.742868834807383 and parameters: {'max_depth': 6, 'min_child_weight': 7, 'subsample': 0.9, 'colsample_bytree': 0.7, 'reg_lambda': 0.0150515011355792, 'reg_alpha': 1.5531007049857612, 'feature_fraction': 0.9190532810014624, 'bagging_fraction': 0.6185269164773162, 'bagging_freq': 2, 'num_leaves': 316, 'min_child_samples': 21}. Best is trial 26 with value: -1.7413881482476086.\u001b[0m\n"
     ]
    },
    {
     "name": "stdout",
     "output_type": "stream",
     "text": [
      "Early stopping, best iteration is:\n",
      "[57]\ttraining's l1: 2.59521\tvalid_1's l1: 1.74289\n",
      "[LightGBM] [Warning] feature_fraction is set=0.9142722879959445, colsample_bytree=0.9 will be ignored. Current value: feature_fraction=0.9142722879959445\n",
      "[LightGBM] [Warning] bagging_fraction is set=0.587292296116201, subsample=0.9 will be ignored. Current value: bagging_fraction=0.587292296116201\n",
      "[LightGBM] [Warning] bagging_freq is set=1, subsample_freq=0 will be ignored. Current value: bagging_freq=1\n",
      "Training until validation scores don't improve for 100 rounds\n"
     ]
    },
    {
     "name": "stderr",
     "output_type": "stream",
     "text": [
      "\u001b[32m[I 2021-07-30 00:16:32,318]\u001b[0m Trial 30 finished with value: -1.8036653727475507 and parameters: {'max_depth': 5, 'min_child_weight': 7, 'subsample': 0.9, 'colsample_bytree': 0.9, 'reg_lambda': 0.07805568684695091, 'reg_alpha': 910.489078696302, 'feature_fraction': 0.9142722879959445, 'bagging_fraction': 0.587292296116201, 'bagging_freq': 1, 'num_leaves': 274, 'min_child_samples': 26}. Best is trial 26 with value: -1.7413881482476086.\u001b[0m\n"
     ]
    },
    {
     "name": "stdout",
     "output_type": "stream",
     "text": [
      "[100]\ttraining's l1: 2.70036\tvalid_1's l1: 1.80892\n",
      "Early stopping, best iteration is:\n",
      "[11]\ttraining's l1: 2.74982\tvalid_1's l1: 1.80367\n",
      "[LightGBM] [Warning] feature_fraction is set=0.9931955480811211, colsample_bytree=0.7 will be ignored. Current value: feature_fraction=0.9931955480811211\n",
      "[LightGBM] [Warning] bagging_fraction is set=0.7952492113173187, subsample=0.9 will be ignored. Current value: bagging_fraction=0.7952492113173187\n",
      "[LightGBM] [Warning] bagging_freq is set=3, subsample_freq=0 will be ignored. Current value: bagging_freq=3\n",
      "Training until validation scores don't improve for 100 rounds\n",
      "[100]\ttraining's l1: 2.54007\tvalid_1's l1: 1.75421\n"
     ]
    },
    {
     "name": "stderr",
     "output_type": "stream",
     "text": [
      "\u001b[32m[I 2021-07-30 00:16:34,553]\u001b[0m Trial 31 finished with value: -1.7386006868286497 and parameters: {'max_depth': 7, 'min_child_weight': 6, 'subsample': 0.9, 'colsample_bytree': 0.7, 'reg_lambda': 0.01749359686489767, 'reg_alpha': 1.3331769301639105, 'feature_fraction': 0.9931955480811211, 'bagging_fraction': 0.7952492113173187, 'bagging_freq': 3, 'num_leaves': 324, 'min_child_samples': 21}. Best is trial 31 with value: -1.7386006868286497.\u001b[0m\n"
     ]
    },
    {
     "name": "stdout",
     "output_type": "stream",
     "text": [
      "Early stopping, best iteration is:\n",
      "[21]\ttraining's l1: 2.62145\tvalid_1's l1: 1.73861\n",
      "[LightGBM] [Warning] feature_fraction is set=0.9046774533880871, colsample_bytree=0.7 will be ignored. Current value: feature_fraction=0.9046774533880871\n",
      "[LightGBM] [Warning] bagging_fraction is set=0.6176307437625477, subsample=0.9 will be ignored. Current value: bagging_fraction=0.6176307437625477\n",
      "[LightGBM] [Warning] bagging_freq is set=2, subsample_freq=0 will be ignored. Current value: bagging_freq=2\n",
      "Training until validation scores don't improve for 100 rounds\n",
      "[100]\ttraining's l1: 2.54263\tvalid_1's l1: 1.7636\n"
     ]
    },
    {
     "name": "stderr",
     "output_type": "stream",
     "text": [
      "\u001b[32m[I 2021-07-30 00:16:36,915]\u001b[0m Trial 32 finished with value: -1.7375096530709582 and parameters: {'max_depth': 7, 'min_child_weight': 6, 'subsample': 0.9, 'colsample_bytree': 0.7, 'reg_lambda': 0.014788512073217347, 'reg_alpha': 2.1199763786785026, 'feature_fraction': 0.9046774533880871, 'bagging_fraction': 0.6176307437625477, 'bagging_freq': 2, 'num_leaves': 297, 'min_child_samples': 22}. Best is trial 32 with value: -1.7375096530709582.\u001b[0m\n"
     ]
    },
    {
     "name": "stdout",
     "output_type": "stream",
     "text": [
      "Early stopping, best iteration is:\n",
      "[45]\ttraining's l1: 2.58161\tvalid_1's l1: 1.73755\n",
      "[LightGBM] [Warning] feature_fraction is set=0.8778211196932705, colsample_bytree=0.8 will be ignored. Current value: feature_fraction=0.8778211196932705\n",
      "[LightGBM] [Warning] bagging_fraction is set=0.7128794040092135, subsample=0.9 will be ignored. Current value: bagging_fraction=0.7128794040092135\n",
      "[LightGBM] [Warning] bagging_freq is set=20, subsample_freq=0 will be ignored. Current value: bagging_freq=20\n",
      "Training until validation scores don't improve for 100 rounds\n",
      "[100]\ttraining's l1: 2.54982\tvalid_1's l1: 1.75971\n",
      "Early stopping, best iteration is:\n",
      "[19]\ttraining's l1: 2.63561\tvalid_1's l1: 1.74217\n"
     ]
    },
    {
     "name": "stderr",
     "output_type": "stream",
     "text": [
      "\u001b[32m[I 2021-07-30 00:16:38,679]\u001b[0m Trial 33 finished with value: -1.7421693128221163 and parameters: {'max_depth': 7, 'min_child_weight': 6, 'subsample': 0.9, 'colsample_bytree': 0.8, 'reg_lambda': 0.005228790461702424, 'reg_alpha': 5.1808177485889475, 'feature_fraction': 0.8778211196932705, 'bagging_fraction': 0.7128794040092135, 'bagging_freq': 20, 'num_leaves': 234, 'min_child_samples': 37}. Best is trial 32 with value: -1.7375096530709582.\u001b[0m\n"
     ]
    },
    {
     "name": "stdout",
     "output_type": "stream",
     "text": [
      "[LightGBM] [Warning] feature_fraction is set=0.9870044547768315, colsample_bytree=0.8 will be ignored. Current value: feature_fraction=0.9870044547768315\n",
      "[LightGBM] [Warning] bagging_fraction is set=0.7061254587548865, subsample=0.9 will be ignored. Current value: bagging_fraction=0.7061254587548865\n",
      "[LightGBM] [Warning] bagging_freq is set=20, subsample_freq=0 will be ignored. Current value: bagging_freq=20\n",
      "Training until validation scores don't improve for 100 rounds\n",
      "[100]\ttraining's l1: 2.48376\tvalid_1's l1: 1.79744\n"
     ]
    },
    {
     "name": "stderr",
     "output_type": "stream",
     "text": [
      "\u001b[32m[I 2021-07-30 00:16:41,367]\u001b[0m Trial 34 finished with value: -1.746109859679019 and parameters: {'max_depth': 9, 'min_child_weight': 5, 'subsample': 0.9, 'colsample_bytree': 0.8, 'reg_lambda': 0.004507572351958834, 'reg_alpha': 6.567542219506219, 'feature_fraction': 0.9870044547768315, 'bagging_fraction': 0.7061254587548865, 'bagging_freq': 20, 'num_leaves': 233, 'min_child_samples': 8}. Best is trial 32 with value: -1.7375096530709582.\u001b[0m\n"
     ]
    },
    {
     "name": "stdout",
     "output_type": "stream",
     "text": [
      "Early stopping, best iteration is:\n",
      "[19]\ttraining's l1: 2.61474\tvalid_1's l1: 1.74612\n",
      "[LightGBM] [Warning] feature_fraction is set=0.7606578127531409, colsample_bytree=0.8 will be ignored. Current value: feature_fraction=0.7606578127531409\n",
      "[LightGBM] [Warning] bagging_fraction is set=0.5162385214299189, subsample=0.9 will be ignored. Current value: bagging_fraction=0.5162385214299189\n",
      "[LightGBM] [Warning] bagging_freq is set=16, subsample_freq=0 will be ignored. Current value: bagging_freq=16\n",
      "Training until validation scores don't improve for 100 rounds\n"
     ]
    },
    {
     "name": "stderr",
     "output_type": "stream",
     "text": [
      "\u001b[32m[I 2021-07-30 00:16:42,905]\u001b[0m Trial 35 finished with value: -1.7500659857181067 and parameters: {'max_depth': 7, 'min_child_weight': 2, 'subsample': 0.9, 'colsample_bytree': 0.8, 'reg_lambda': 0.009221403442293498, 'reg_alpha': 15.287471875718017, 'feature_fraction': 0.7606578127531409, 'bagging_fraction': 0.5162385214299189, 'bagging_freq': 16, 'num_leaves': 104, 'min_child_samples': 15}. Best is trial 32 with value: -1.7375096530709582.\u001b[0m\n"
     ]
    },
    {
     "name": "stdout",
     "output_type": "stream",
     "text": [
      "[100]\ttraining's l1: 2.55817\tvalid_1's l1: 1.7829\n",
      "Early stopping, best iteration is:\n",
      "[21]\ttraining's l1: 2.64446\tvalid_1's l1: 1.75007\n",
      "[LightGBM] [Warning] feature_fraction is set=0.8783971081833588, colsample_bytree=0.8 will be ignored. Current value: feature_fraction=0.8783971081833588\n",
      "[LightGBM] [Warning] bagging_fraction is set=0.44423100359570933, subsample=0.9 will be ignored. Current value: bagging_fraction=0.44423100359570933\n",
      "[LightGBM] [Warning] bagging_freq is set=19, subsample_freq=0 will be ignored. Current value: bagging_freq=19\n",
      "Training until validation scores don't improve for 100 rounds\n",
      "[100]\ttraining's l1: 2.52184\tvalid_1's l1: 1.82051\n",
      "Early stopping, best iteration is:\n",
      "[16]\ttraining's l1: 2.63938\tvalid_1's l1: 1.75659\n"
     ]
    },
    {
     "name": "stderr",
     "output_type": "stream",
     "text": [
      "\u001b[32m[I 2021-07-30 00:16:45,015]\u001b[0m Trial 36 finished with value: -1.7565888349656853 and parameters: {'max_depth': 10, 'min_child_weight': 9, 'subsample': 0.9, 'colsample_bytree': 0.8, 'reg_lambda': 0.11988534616118846, 'reg_alpha': 3.6268102513665803, 'feature_fraction': 0.8783971081833588, 'bagging_fraction': 0.44423100359570933, 'bagging_freq': 19, 'num_leaves': 225, 'min_child_samples': 35}. Best is trial 32 with value: -1.7375096530709582.\u001b[0m\n"
     ]
    },
    {
     "name": "stdout",
     "output_type": "stream",
     "text": [
      "[LightGBM] [Warning] feature_fraction is set=0.9987627474252565, colsample_bytree=0.9 will be ignored. Current value: feature_fraction=0.9987627474252565\n",
      "[LightGBM] [Warning] bagging_fraction is set=0.5700958380128991, subsample=0.8 will be ignored. Current value: bagging_fraction=0.5700958380128991\n",
      "[LightGBM] [Warning] bagging_freq is set=2, subsample_freq=0 will be ignored. Current value: bagging_freq=2\n",
      "Training until validation scores don't improve for 100 rounds\n",
      "[100]\ttraining's l1: 2.54356\tvalid_1's l1: 1.78231\n"
     ]
    },
    {
     "name": "stderr",
     "output_type": "stream",
     "text": [
      "\u001b[32m[I 2021-07-30 00:16:47,413]\u001b[0m Trial 37 finished with value: -1.7533159443086643 and parameters: {'max_depth': 8, 'min_child_weight': 6, 'subsample': 0.8, 'colsample_bytree': 0.9, 'reg_lambda': 0.03983699409412441, 'reg_alpha': 18.26709801980625, 'feature_fraction': 0.9987627474252565, 'bagging_fraction': 0.5700958380128991, 'bagging_freq': 2, 'num_leaves': 409, 'min_child_samples': 40}. Best is trial 32 with value: -1.7375096530709582.\u001b[0m\n"
     ]
    },
    {
     "name": "stdout",
     "output_type": "stream",
     "text": [
      "Early stopping, best iteration is:\n",
      "[23]\ttraining's l1: 2.62435\tvalid_1's l1: 1.75333\n",
      "[LightGBM] [Warning] feature_fraction is set=0.9488281055786207, colsample_bytree=0.8 will be ignored. Current value: feature_fraction=0.9488281055786207\n",
      "[LightGBM] [Warning] bagging_fraction is set=0.6382627638818219, subsample=0.9 will be ignored. Current value: bagging_fraction=0.6382627638818219\n",
      "[LightGBM] [Warning] bagging_freq is set=2, subsample_freq=0 will be ignored. Current value: bagging_freq=2\n",
      "Training until validation scores don't improve for 100 rounds\n",
      "[100]\ttraining's l1: 2.5717\tvalid_1's l1: 1.75456\n"
     ]
    },
    {
     "name": "stderr",
     "output_type": "stream",
     "text": [
      "\u001b[32m[I 2021-07-30 00:16:49,328]\u001b[0m Trial 38 finished with value: -1.7464045383325817 and parameters: {'max_depth': 6, 'min_child_weight': 8, 'subsample': 0.9, 'colsample_bytree': 0.8, 'reg_lambda': 0.0010000906430433915, 'reg_alpha': 2.6571511078680814, 'feature_fraction': 0.9488281055786207, 'bagging_fraction': 0.6382627638818219, 'bagging_freq': 2, 'num_leaves': 67, 'min_child_samples': 23}. Best is trial 32 with value: -1.7375096530709582.\u001b[0m\n"
     ]
    },
    {
     "name": "stdout",
     "output_type": "stream",
     "text": [
      "Early stopping, best iteration is:\n",
      "[28]\ttraining's l1: 2.62495\tvalid_1's l1: 1.74641\n",
      "[LightGBM] [Warning] feature_fraction is set=0.628294989591985, colsample_bytree=0.7 will be ignored. Current value: feature_fraction=0.628294989591985\n",
      "[LightGBM] [Warning] bagging_fraction is set=0.7825236596973051, subsample=0.9 will be ignored. Current value: bagging_fraction=0.7825236596973051\n",
      "[LightGBM] [Warning] bagging_freq is set=17, subsample_freq=0 will be ignored. Current value: bagging_freq=17\n",
      "Training until validation scores don't improve for 100 rounds\n",
      "[100]\ttraining's l1: 2.5857\tvalid_1's l1: 1.77212\n"
     ]
    },
    {
     "name": "stderr",
     "output_type": "stream",
     "text": [
      "\u001b[32m[I 2021-07-30 00:16:51,060]\u001b[0m Trial 39 finished with value: -1.7610316197937348 and parameters: {'max_depth': 7, 'min_child_weight': 6, 'subsample': 0.9, 'colsample_bytree': 0.7, 'reg_lambda': 0.01504734069119102, 'reg_alpha': 63.41796683113545, 'feature_fraction': 0.628294989591985, 'bagging_fraction': 0.7825236596973051, 'bagging_freq': 17, 'num_leaves': 912, 'min_child_samples': 15}. Best is trial 32 with value: -1.7375096530709582.\u001b[0m\n"
     ]
    },
    {
     "name": "stdout",
     "output_type": "stream",
     "text": [
      "Early stopping, best iteration is:\n",
      "[33]\ttraining's l1: 2.62904\tvalid_1's l1: 1.76104\n",
      "[LightGBM] [Warning] feature_fraction is set=0.9450416453489978, colsample_bytree=0.7 will be ignored. Current value: feature_fraction=0.9450416453489978\n",
      "[LightGBM] [Warning] bagging_fraction is set=0.5496609575549772, subsample=0.8 will be ignored. Current value: bagging_fraction=0.5496609575549772\n",
      "[LightGBM] [Warning] bagging_freq is set=4, subsample_freq=0 will be ignored. Current value: bagging_freq=4\n",
      "Training until validation scores don't improve for 100 rounds\n",
      "[100]\ttraining's l1: 2.6863\tvalid_1's l1: 1.76574\n",
      "[200]\ttraining's l1: 2.66789\tvalid_1's l1: 1.75302\n",
      "[300]\ttraining's l1: 2.65823\tvalid_1's l1: 1.74963\n",
      "[400]\ttraining's l1: 2.65157\tvalid_1's l1: 1.74583\n",
      "[500]\ttraining's l1: 2.64418\tvalid_1's l1: 1.74228\n"
     ]
    },
    {
     "name": "stderr",
     "output_type": "stream",
     "text": [
      "\u001b[32m[I 2021-07-30 00:16:54,388]\u001b[0m Trial 40 finished with value: -1.7415962937092042 and parameters: {'max_depth': 2, 'min_child_weight': 5, 'subsample': 0.8, 'colsample_bytree': 0.7, 'reg_lambda': 0.4399426039620324, 'reg_alpha': 0.5421179956156752, 'feature_fraction': 0.9450416453489978, 'bagging_fraction': 0.5496609575549772, 'bagging_freq': 4, 'num_leaves': 200, 'min_child_samples': 26}. Best is trial 32 with value: -1.7375096530709582.\u001b[0m\n"
     ]
    },
    {
     "name": "stdout",
     "output_type": "stream",
     "text": [
      "[600]\ttraining's l1: 2.64155\tvalid_1's l1: 1.74214\n",
      "Early stopping, best iteration is:\n",
      "[529]\ttraining's l1: 2.64216\tvalid_1's l1: 1.74175\n",
      "[LightGBM] [Warning] feature_fraction is set=0.9472266444511395, colsample_bytree=0.7 will be ignored. Current value: feature_fraction=0.9472266444511395\n",
      "[LightGBM] [Warning] bagging_fraction is set=0.5511093168191569, subsample=0.8 will be ignored. Current value: bagging_fraction=0.5511093168191569\n",
      "[LightGBM] [Warning] bagging_freq is set=4, subsample_freq=0 will be ignored. Current value: bagging_freq=4\n",
      "Training until validation scores don't improve for 100 rounds\n",
      "[100]\ttraining's l1: 2.6585\tvalid_1's l1: 1.76065\n",
      "[200]\ttraining's l1: 2.633\tvalid_1's l1: 1.75453\n",
      "[300]\ttraining's l1: 2.61655\tvalid_1's l1: 1.75187\n"
     ]
    },
    {
     "name": "stderr",
     "output_type": "stream",
     "text": [
      "\u001b[32m[I 2021-07-30 00:16:56,688]\u001b[0m Trial 41 finished with value: -1.7501917486766025 and parameters: {'max_depth': 3, 'min_child_weight': 5, 'subsample': 0.8, 'colsample_bytree': 0.7, 'reg_lambda': 0.5213873696260563, 'reg_alpha': 0.531738495609131, 'feature_fraction': 0.9472266444511395, 'bagging_fraction': 0.5511093168191569, 'bagging_freq': 4, 'num_leaves': 194, 'min_child_samples': 21}. Best is trial 32 with value: -1.7375096530709582.\u001b[0m\n"
     ]
    },
    {
     "name": "stdout",
     "output_type": "stream",
     "text": [
      "Early stopping, best iteration is:\n",
      "[258]\ttraining's l1: 2.62421\tvalid_1's l1: 1.75046\n",
      "[LightGBM] [Warning] feature_fraction is set=0.783893863577873, colsample_bytree=0.7 will be ignored. Current value: feature_fraction=0.783893863577873\n",
      "[LightGBM] [Warning] bagging_fraction is set=0.4669878837536652, subsample=0.9 will be ignored. Current value: bagging_fraction=0.4669878837536652\n",
      "[LightGBM] [Warning] bagging_freq is set=3, subsample_freq=0 will be ignored. Current value: bagging_freq=3\n",
      "Training until validation scores don't improve for 100 rounds\n",
      "[100]\ttraining's l1: 2.69012\tvalid_1's l1: 1.76927\n",
      "[200]\ttraining's l1: 2.67088\tvalid_1's l1: 1.76005\n",
      "[300]\ttraining's l1: 2.66224\tvalid_1's l1: 1.75479\n",
      "[400]\ttraining's l1: 2.65655\tvalid_1's l1: 1.75337\n",
      "[500]\ttraining's l1: 2.65124\tvalid_1's l1: 1.75196\n",
      "[600]\ttraining's l1: 2.64555\tvalid_1's l1: 1.7486\n"
     ]
    },
    {
     "name": "stderr",
     "output_type": "stream",
     "text": [
      "\u001b[32m[I 2021-07-30 00:16:59,722]\u001b[0m Trial 42 finished with value: -1.748350882376002 and parameters: {'max_depth': 2, 'min_child_weight': 3, 'subsample': 0.9, 'colsample_bytree': 0.7, 'reg_lambda': 0.004352257707956758, 'reg_alpha': 9.241883131953154, 'feature_fraction': 0.783893863577873, 'bagging_fraction': 0.4669878837536652, 'bagging_freq': 3, 'num_leaves': 280, 'min_child_samples': 28}. Best is trial 32 with value: -1.7375096530709582.\u001b[0m\n"
     ]
    },
    {
     "name": "stdout",
     "output_type": "stream",
     "text": [
      "[700]\ttraining's l1: 2.64243\tvalid_1's l1: 1.74979\n",
      "Early stopping, best iteration is:\n",
      "[604]\ttraining's l1: 2.64498\tvalid_1's l1: 1.74854\n",
      "[LightGBM] [Warning] feature_fraction is set=0.8778282226886258, colsample_bytree=0.7 will be ignored. Current value: feature_fraction=0.8778282226886258\n",
      "[LightGBM] [Warning] bagging_fraction is set=0.7035106957766404, subsample=0.8 will be ignored. Current value: bagging_fraction=0.7035106957766404\n",
      "[LightGBM] [Warning] bagging_freq is set=6, subsample_freq=0 will be ignored. Current value: bagging_freq=6\n",
      "Training until validation scores don't improve for 100 rounds\n",
      "[100]\ttraining's l1: 2.47994\tvalid_1's l1: 1.81686\n"
     ]
    },
    {
     "name": "stderr",
     "output_type": "stream",
     "text": [
      "\u001b[32m[I 2021-07-30 00:17:02,359]\u001b[0m Trial 43 finished with value: -1.7455796835829014 and parameters: {'max_depth': 10, 'min_child_weight': 5, 'subsample': 0.8, 'colsample_bytree': 0.7, 'reg_lambda': 0.01949211391238509, 'reg_alpha': 0.23840896419570454, 'feature_fraction': 0.8778282226886258, 'bagging_fraction': 0.7035106957766404, 'bagging_freq': 6, 'num_leaves': 311, 'min_child_samples': 37}. Best is trial 32 with value: -1.7375096530709582.\u001b[0m\n"
     ]
    },
    {
     "name": "stdout",
     "output_type": "stream",
     "text": [
      "Early stopping, best iteration is:\n",
      "[18]\ttraining's l1: 2.60045\tvalid_1's l1: 1.7456\n",
      "[LightGBM] [Warning] feature_fraction is set=0.9578299813543617, colsample_bytree=0.8 will be ignored. Current value: feature_fraction=0.9578299813543617\n",
      "[LightGBM] [Warning] bagging_fraction is set=0.3037744601639292, subsample=0.8 will be ignored. Current value: bagging_fraction=0.3037744601639292\n",
      "[LightGBM] [Warning] bagging_freq is set=4, subsample_freq=0 will be ignored. Current value: bagging_freq=4\n",
      "Training until validation scores don't improve for 100 rounds\n",
      "[100]\ttraining's l1: 2.54155\tvalid_1's l1: 1.80759\n"
     ]
    },
    {
     "name": "stderr",
     "output_type": "stream",
     "text": [
      "\u001b[32m[I 2021-07-30 00:17:04,460]\u001b[0m Trial 44 finished with value: -1.7592836132596918 and parameters: {'max_depth': 8, 'min_child_weight': 8, 'subsample': 0.8, 'colsample_bytree': 0.8, 'reg_lambda': 2.9173574461565486, 'reg_alpha': 0.7997799822124477, 'feature_fraction': 0.9578299813543617, 'bagging_fraction': 0.3037744601639292, 'bagging_freq': 4, 'num_leaves': 386, 'min_child_samples': 12}. Best is trial 32 with value: -1.7375096530709582.\u001b[0m\n"
     ]
    },
    {
     "name": "stdout",
     "output_type": "stream",
     "text": [
      "Early stopping, best iteration is:\n",
      "[20]\ttraining's l1: 2.62615\tvalid_1's l1: 1.75933\n",
      "[LightGBM] [Warning] feature_fraction is set=0.8610043357949132, colsample_bytree=0.7 will be ignored. Current value: feature_fraction=0.8610043357949132\n",
      "[LightGBM] [Warning] bagging_fraction is set=0.6535396391173456, subsample=0.9 will be ignored. Current value: bagging_fraction=0.6535396391173456\n",
      "[LightGBM] [Warning] bagging_freq is set=2, subsample_freq=0 will be ignored. Current value: bagging_freq=2\n",
      "Training until validation scores don't improve for 100 rounds\n",
      "[100]\ttraining's l1: 2.59845\tvalid_1's l1: 1.75659\n"
     ]
    },
    {
     "name": "stderr",
     "output_type": "stream",
     "text": [
      "\u001b[32m[I 2021-07-30 00:17:06,280]\u001b[0m Trial 45 finished with value: -1.7490617605483731 and parameters: {'max_depth': 5, 'min_child_weight': 4, 'subsample': 0.9, 'colsample_bytree': 0.7, 'reg_lambda': 0.07152222394642453, 'reg_alpha': 2.046641564816315, 'feature_fraction': 0.8610043357949132, 'bagging_fraction': 0.6535396391173456, 'bagging_freq': 2, 'num_leaves': 79, 'min_child_samples': 43}. Best is trial 32 with value: -1.7375096530709582.\u001b[0m\n"
     ]
    },
    {
     "name": "stdout",
     "output_type": "stream",
     "text": [
      "Early stopping, best iteration is:\n",
      "[68]\ttraining's l1: 2.61569\tvalid_1's l1: 1.74908\n",
      "[LightGBM] [Warning] feature_fraction is set=0.9027459714703665, colsample_bytree=0.7 will be ignored. Current value: feature_fraction=0.9027459714703665\n",
      "[LightGBM] [Warning] bagging_fraction is set=0.7540123357069413, subsample=0.9 will be ignored. Current value: bagging_fraction=0.7540123357069413\n",
      "[LightGBM] [Warning] bagging_freq is set=6, subsample_freq=0 will be ignored. Current value: bagging_freq=6\n",
      "Training until validation scores don't improve for 100 rounds\n",
      "[100]\ttraining's l1: 2.56352\tvalid_1's l1: 1.77696\n"
     ]
    },
    {
     "name": "stderr",
     "output_type": "stream",
     "text": [
      "\u001b[32m[I 2021-07-30 00:17:08,603]\u001b[0m Trial 46 finished with value: -1.7591261507361466 and parameters: {'max_depth': 8, 'min_child_weight': 10, 'subsample': 0.9, 'colsample_bytree': 0.7, 'reg_lambda': 0.15216941225838357, 'reg_alpha': 49.616586185378914, 'feature_fraction': 0.9027459714703665, 'bagging_fraction': 0.7540123357069413, 'bagging_freq': 6, 'num_leaves': 201, 'min_child_samples': 5}. Best is trial 32 with value: -1.7375096530709582.\u001b[0m\n"
     ]
    },
    {
     "name": "stdout",
     "output_type": "stream",
     "text": [
      "Early stopping, best iteration is:\n",
      "[23]\ttraining's l1: 2.63688\tvalid_1's l1: 1.75914\n",
      "[LightGBM] [Warning] feature_fraction is set=0.9986089583620796, colsample_bytree=0.8 will be ignored. Current value: feature_fraction=0.9986089583620796\n",
      "[LightGBM] [Warning] bagging_fraction is set=0.5174445973507333, subsample=0.8 will be ignored. Current value: bagging_fraction=0.5174445973507333\n",
      "[LightGBM] [Warning] bagging_freq is set=9, subsample_freq=0 will be ignored. Current value: bagging_freq=9\n",
      "Training until validation scores don't improve for 100 rounds\n",
      "[100]\ttraining's l1: 2.59887\tvalid_1's l1: 1.75405\n"
     ]
    },
    {
     "name": "stderr",
     "output_type": "stream",
     "text": [
      "\u001b[32m[I 2021-07-30 00:17:10,207]\u001b[0m Trial 47 finished with value: -1.7501393557922216 and parameters: {'max_depth': 6, 'min_child_weight': 1, 'subsample': 0.8, 'colsample_bytree': 0.8, 'reg_lambda': 0.32178969800622936, 'reg_alpha': 1.0361111939628265, 'feature_fraction': 0.9986089583620796, 'bagging_fraction': 0.5174445973507333, 'bagging_freq': 9, 'num_leaves': 30, 'min_child_samples': 33}. Best is trial 32 with value: -1.7375096530709582.\u001b[0m\n"
     ]
    },
    {
     "name": "stdout",
     "output_type": "stream",
     "text": [
      "Early stopping, best iteration is:\n",
      "[62]\ttraining's l1: 2.61405\tvalid_1's l1: 1.75015\n",
      "[LightGBM] [Warning] feature_fraction is set=0.7941725416218902, colsample_bytree=0.7 will be ignored. Current value: feature_fraction=0.7941725416218902\n",
      "[LightGBM] [Warning] bagging_fraction is set=0.9497178633987122, subsample=0.7 will be ignored. Current value: bagging_fraction=0.9497178633987122\n",
      "[LightGBM] [Warning] bagging_freq is set=1, subsample_freq=0 will be ignored. Current value: bagging_freq=1\n",
      "Training until validation scores don't improve for 100 rounds\n",
      "[100]\ttraining's l1: 2.65156\tvalid_1's l1: 1.74732\n",
      "[200]\ttraining's l1: 2.62987\tvalid_1's l1: 1.74209\n",
      "[300]\ttraining's l1: 2.61458\tvalid_1's l1: 1.74676\n",
      "Early stopping, best iteration is:\n",
      "[229]\ttraining's l1: 2.62408\tvalid_1's l1: 1.7383\n"
     ]
    },
    {
     "name": "stderr",
     "output_type": "stream",
     "text": [
      "\u001b[32m[I 2021-07-30 00:17:12,830]\u001b[0m Trial 48 finished with value: -1.7381463004031144 and parameters: {'max_depth': 3, 'min_child_weight': 8, 'subsample': 0.7, 'colsample_bytree': 0.7, 'reg_lambda': 0.001480826615177181, 'reg_alpha': 0.11014968895591991, 'feature_fraction': 0.7941725416218902, 'bagging_fraction': 0.9497178633987122, 'bagging_freq': 1, 'num_leaves': 433, 'min_child_samples': 24}. Best is trial 32 with value: -1.7375096530709582.\u001b[0m\n"
     ]
    },
    {
     "name": "stdout",
     "output_type": "stream",
     "text": [
      "[LightGBM] [Warning] feature_fraction is set=0.9341331264021921, colsample_bytree=0.6 will be ignored. Current value: feature_fraction=0.9341331264021921\n",
      "[LightGBM] [Warning] bagging_fraction is set=0.9554933198226458, subsample=0.7 will be ignored. Current value: bagging_fraction=0.9554933198226458\n",
      "[LightGBM] [Warning] bagging_freq is set=1, subsample_freq=0 will be ignored. Current value: bagging_freq=1\n",
      "Training until validation scores don't improve for 100 rounds\n",
      "[100]\ttraining's l1: 2.68908\tvalid_1's l1: 1.76401\n",
      "[200]\ttraining's l1: 2.66893\tvalid_1's l1: 1.7568\n",
      "[300]\ttraining's l1: 2.661\tvalid_1's l1: 1.75155\n",
      "[400]\ttraining's l1: 2.65175\tvalid_1's l1: 1.75639\n"
     ]
    },
    {
     "name": "stderr",
     "output_type": "stream",
     "text": [
      "\u001b[32m[I 2021-07-30 00:17:15,603]\u001b[0m Trial 49 finished with value: -1.7470481033653051 and parameters: {'max_depth': 2, 'min_child_weight': 12, 'subsample': 0.7, 'colsample_bytree': 0.6, 'reg_lambda': 0.0017600584735130798, 'reg_alpha': 0.08267755506125865, 'feature_fraction': 0.9341331264021921, 'bagging_fraction': 0.9554933198226458, 'bagging_freq': 1, 'num_leaves': 478, 'min_child_samples': 18}. Best is trial 32 with value: -1.7375096530709582.\u001b[0m\n"
     ]
    },
    {
     "name": "stdout",
     "output_type": "stream",
     "text": [
      "Early stopping, best iteration is:\n",
      "[361]\ttraining's l1: 2.65462\tvalid_1's l1: 1.74719\n",
      "[LightGBM] [Warning] feature_fraction is set=0.8310076957091683, colsample_bytree=0.7 will be ignored. Current value: feature_fraction=0.8310076957091683\n",
      "[LightGBM] [Warning] bagging_fraction is set=0.3638915384914261, subsample=0.7 will be ignored. Current value: bagging_fraction=0.3638915384914261\n",
      "[LightGBM] [Warning] bagging_freq is set=4, subsample_freq=0 will be ignored. Current value: bagging_freq=4\n",
      "Training until validation scores don't improve for 100 rounds\n",
      "[100]\ttraining's l1: 2.6833\tvalid_1's l1: 1.76366\n",
      "[200]\ttraining's l1: 2.6671\tvalid_1's l1: 1.75574\n",
      "[300]\ttraining's l1: 2.65814\tvalid_1's l1: 1.74996\n",
      "[400]\ttraining's l1: 2.65221\tvalid_1's l1: 1.74742\n",
      "[500]\ttraining's l1: 2.64702\tvalid_1's l1: 1.7452\n",
      "Early stopping, best iteration is:\n",
      "[472]\ttraining's l1: 2.64846\tvalid_1's l1: 1.74452\n"
     ]
    },
    {
     "name": "stderr",
     "output_type": "stream",
     "text": [
      "\u001b[32m[I 2021-07-30 00:17:17,760]\u001b[0m Trial 50 finished with value: -1.74426199468429 and parameters: {'max_depth': 2, 'min_child_weight': 8, 'subsample': 0.7, 'colsample_bytree': 0.7, 'reg_lambda': 1.3394440781670423, 'reg_alpha': 0.21184068993692387, 'feature_fraction': 0.8310076957091683, 'bagging_fraction': 0.3638915384914261, 'bagging_freq': 4, 'num_leaves': 400, 'min_child_samples': 26}. Best is trial 32 with value: -1.7375096530709582.\u001b[0m\n"
     ]
    },
    {
     "name": "stdout",
     "output_type": "stream",
     "text": [
      "[LightGBM] [Warning] feature_fraction is set=0.9651123550745406, colsample_bytree=0.7 will be ignored. Current value: feature_fraction=0.9651123550745406\n",
      "[LightGBM] [Warning] bagging_fraction is set=0.9393495708595835, subsample=0.7 will be ignored. Current value: bagging_fraction=0.9393495708595835\n",
      "[LightGBM] [Warning] bagging_freq is set=3, subsample_freq=0 will be ignored. Current value: bagging_freq=3\n",
      "Training until validation scores don't improve for 100 rounds\n",
      "[100]\ttraining's l1: 2.59473\tvalid_1's l1: 1.75458\n"
     ]
    },
    {
     "name": "stderr",
     "output_type": "stream",
     "text": [
      "\u001b[32m[I 2021-07-30 00:17:19,724]\u001b[0m Trial 51 finished with value: -1.747202713557191 and parameters: {'max_depth': 5, 'min_child_weight': 6, 'subsample': 0.7, 'colsample_bytree': 0.7, 'reg_lambda': 0.004137646278907313, 'reg_alpha': 0.4538196078975222, 'feature_fraction': 0.9651123550745406, 'bagging_fraction': 0.9393495708595835, 'bagging_freq': 3, 'num_leaves': 350, 'min_child_samples': 40}. Best is trial 32 with value: -1.7375096530709582.\u001b[0m\n"
     ]
    },
    {
     "name": "stdout",
     "output_type": "stream",
     "text": [
      "Early stopping, best iteration is:\n",
      "[38]\ttraining's l1: 2.63511\tvalid_1's l1: 1.74721\n",
      "[LightGBM] [Warning] feature_fraction is set=0.8905455786898447, colsample_bytree=0.7 will be ignored. Current value: feature_fraction=0.8905455786898447\n",
      "[LightGBM] [Warning] bagging_fraction is set=0.6307318687770249, subsample=0.7 will be ignored. Current value: bagging_fraction=0.6307318687770249\n",
      "[LightGBM] [Warning] bagging_freq is set=2, subsample_freq=0 will be ignored. Current value: bagging_freq=2\n",
      "Training until validation scores don't improve for 100 rounds\n",
      "[100]\ttraining's l1: 2.72094\tvalid_1's l1: 1.78245\n",
      "[200]\ttraining's l1: 2.71039\tvalid_1's l1: 1.77488\n",
      "[300]\ttraining's l1: 2.70561\tvalid_1's l1: 1.77245\n",
      "[400]\ttraining's l1: 2.70254\tvalid_1's l1: 1.77081\n",
      "[500]\ttraining's l1: 2.6999\tvalid_1's l1: 1.76994\n",
      "[600]\ttraining's l1: 2.69779\tvalid_1's l1: 1.76875\n",
      "[700]\ttraining's l1: 2.69683\tvalid_1's l1: 1.76845\n",
      "[800]\ttraining's l1: 2.69538\tvalid_1's l1: 1.76753\n",
      "[900]\ttraining's l1: 2.69428\tvalid_1's l1: 1.7667\n",
      "[1000]\ttraining's l1: 2.69356\tvalid_1's l1: 1.76654\n"
     ]
    },
    {
     "name": "stderr",
     "output_type": "stream",
     "text": [
      "\u001b[32m[I 2021-07-30 00:17:26,661]\u001b[0m Trial 52 finished with value: -1.7661834703884953 and parameters: {'max_depth': 1, 'min_child_weight': 5, 'subsample': 0.7, 'colsample_bytree': 0.7, 'reg_lambda': 0.009444547156218877, 'reg_alpha': 3.299126719827439, 'feature_fraction': 0.8905455786898447, 'bagging_fraction': 0.6307318687770249, 'bagging_freq': 2, 'num_leaves': 303, 'min_child_samples': 50}. Best is trial 32 with value: -1.7375096530709582.\u001b[0m\n"
     ]
    },
    {
     "name": "stdout",
     "output_type": "stream",
     "text": [
      "Early stopping, best iteration is:\n",
      "[980]\ttraining's l1: 2.69362\tvalid_1's l1: 1.76628\n",
      "[LightGBM] [Warning] feature_fraction is set=0.7743574232254291, colsample_bytree=0.7 will be ignored. Current value: feature_fraction=0.7743574232254291\n",
      "[LightGBM] [Warning] bagging_fraction is set=0.874099988350569, subsample=0.6 will be ignored. Current value: bagging_fraction=0.874099988350569\n",
      "[LightGBM] [Warning] bagging_freq is set=5, subsample_freq=0 will be ignored. Current value: bagging_freq=5\n",
      "Training until validation scores don't improve for 100 rounds\n",
      "[100]\ttraining's l1: 2.65827\tvalid_1's l1: 1.75699\n",
      "[200]\ttraining's l1: 2.63355\tvalid_1's l1: 1.74769\n",
      "[300]\ttraining's l1: 2.61817\tvalid_1's l1: 1.74809\n"
     ]
    },
    {
     "name": "stderr",
     "output_type": "stream",
     "text": [
      "\u001b[32m[I 2021-07-30 00:17:29,188]\u001b[0m Trial 53 finished with value: -1.7447752672562014 and parameters: {'max_depth': 3, 'min_child_weight': 9, 'subsample': 0.6, 'colsample_bytree': 0.7, 'reg_lambda': 0.0012370099559406201, 'reg_alpha': 0.04508725494872412, 'feature_fraction': 0.7743574232254291, 'bagging_fraction': 0.874099988350569, 'bagging_freq': 5, 'num_leaves': 160, 'min_child_samples': 30}. Best is trial 32 with value: -1.7375096530709582.\u001b[0m\n"
     ]
    },
    {
     "name": "stdout",
     "output_type": "stream",
     "text": [
      "Early stopping, best iteration is:\n",
      "[236]\ttraining's l1: 2.62822\tvalid_1's l1: 1.74496\n",
      "[LightGBM] [Warning] feature_fraction is set=0.8464283314925642, colsample_bytree=0.6 will be ignored. Current value: feature_fraction=0.8464283314925642\n",
      "[LightGBM] [Warning] bagging_fraction is set=0.6729381596636013, subsample=0.8 will be ignored. Current value: bagging_fraction=0.6729381596636013\n",
      "[LightGBM] [Warning] bagging_freq is set=1, subsample_freq=0 will be ignored. Current value: bagging_freq=1\n",
      "Training until validation scores don't improve for 100 rounds\n",
      "[100]\ttraining's l1: 2.65779\tvalid_1's l1: 1.75924\n",
      "[200]\ttraining's l1: 2.63177\tvalid_1's l1: 1.75062\n"
     ]
    },
    {
     "name": "stderr",
     "output_type": "stream",
     "text": [
      "\u001b[32m[I 2021-07-30 00:17:31,397]\u001b[0m Trial 54 finished with value: -1.7493746197884663 and parameters: {'max_depth': 3, 'min_child_weight': 3, 'subsample': 0.8, 'colsample_bytree': 0.6, 'reg_lambda': 0.023045690789347765, 'reg_alpha': 0.14864646035372797, 'feature_fraction': 0.8464283314925642, 'bagging_fraction': 0.6729381596636013, 'bagging_freq': 1, 'num_leaves': 432, 'min_child_samples': 24}. Best is trial 32 with value: -1.7375096530709582.\u001b[0m\n"
     ]
    },
    {
     "name": "stdout",
     "output_type": "stream",
     "text": [
      "[300]\ttraining's l1: 2.6231\tvalid_1's l1: 1.75881\n",
      "Early stopping, best iteration is:\n",
      "[233]\ttraining's l1: 2.62931\tvalid_1's l1: 1.74952\n",
      "[LightGBM] [Warning] feature_fraction is set=0.8000455325739761, colsample_bytree=0.7 will be ignored. Current value: feature_fraction=0.8000455325739761\n",
      "[LightGBM] [Warning] bagging_fraction is set=0.800810438497541, subsample=0.7 will be ignored. Current value: bagging_fraction=0.800810438497541\n",
      "[LightGBM] [Warning] bagging_freq is set=4, subsample_freq=0 will be ignored. Current value: bagging_freq=4\n",
      "Training until validation scores don't improve for 100 rounds\n",
      "[100]\ttraining's l1: 2.53745\tvalid_1's l1: 1.77014\n"
     ]
    },
    {
     "name": "stderr",
     "output_type": "stream",
     "text": [
      "\u001b[32m[I 2021-07-30 00:17:33,384]\u001b[0m Trial 55 finished with value: -1.744414249987661 and parameters: {'max_depth': 7, 'min_child_weight': 6, 'subsample': 0.7, 'colsample_bytree': 0.7, 'reg_lambda': 0.0027924209723970144, 'reg_alpha': 1.2543554311568703, 'feature_fraction': 0.8000455325739761, 'bagging_fraction': 0.800810438497541, 'bagging_freq': 4, 'num_leaves': 348, 'min_child_samples': 19}. Best is trial 32 with value: -1.7375096530709582.\u001b[0m\n"
     ]
    },
    {
     "name": "stdout",
     "output_type": "stream",
     "text": [
      "Early stopping, best iteration is:\n",
      "[27]\ttraining's l1: 2.60326\tvalid_1's l1: 1.74442\n",
      "[LightGBM] [Warning] feature_fraction is set=0.9301376220251526, colsample_bytree=0.8 will be ignored. Current value: feature_fraction=0.9301376220251526\n",
      "[LightGBM] [Warning] bagging_fraction is set=0.552978298188877, subsample=0.9 will be ignored. Current value: bagging_fraction=0.552978298188877\n",
      "[LightGBM] [Warning] bagging_freq is set=13, subsample_freq=0 will be ignored. Current value: bagging_freq=13\n",
      "Training until validation scores don't improve for 100 rounds\n",
      "[100]\ttraining's l1: 2.51377\tvalid_1's l1: 1.79397\n"
     ]
    },
    {
     "name": "stderr",
     "output_type": "stream",
     "text": [
      "\u001b[32m[I 2021-07-30 00:17:36,306]\u001b[0m Trial 56 finished with value: -1.750669878000255 and parameters: {'max_depth': 11, 'min_child_weight': 4, 'subsample': 0.9, 'colsample_bytree': 0.8, 'reg_lambda': 0.007528818782018631, 'reg_alpha': 10.457458961156906, 'feature_fraction': 0.9301376220251526, 'bagging_fraction': 0.552978298188877, 'bagging_freq': 13, 'num_leaves': 238, 'min_child_samples': 12}. Best is trial 32 with value: -1.7375096530709582.\u001b[0m\n"
     ]
    },
    {
     "name": "stdout",
     "output_type": "stream",
     "text": [
      "Early stopping, best iteration is:\n",
      "[16]\ttraining's l1: 2.6332\tvalid_1's l1: 1.75068\n",
      "[LightGBM] [Warning] feature_fraction is set=0.9663520455815351, colsample_bytree=0.6 will be ignored. Current value: feature_fraction=0.9663520455815351\n",
      "[LightGBM] [Warning] bagging_fraction is set=0.7424637793989397, subsample=0.8 will be ignored. Current value: bagging_fraction=0.7424637793989397\n",
      "[LightGBM] [Warning] bagging_freq is set=3, subsample_freq=0 will be ignored. Current value: bagging_freq=3\n",
      "Training until validation scores don't improve for 100 rounds\n",
      "[100]\ttraining's l1: 2.50123\tvalid_1's l1: 1.77448\n"
     ]
    },
    {
     "name": "stderr",
     "output_type": "stream",
     "text": [
      "\u001b[32m[I 2021-07-30 00:17:39,127]\u001b[0m Trial 57 finished with value: -1.7416313492379514 and parameters: {'max_depth': 9, 'min_child_weight': 8, 'subsample': 0.8, 'colsample_bytree': 0.6, 'reg_lambda': 12.715546683712148, 'reg_alpha': 0.5790077837493334, 'feature_fraction': 0.9663520455815351, 'bagging_fraction': 0.7424637793989397, 'bagging_freq': 3, 'num_leaves': 658, 'min_child_samples': 53}. Best is trial 32 with value: -1.7375096530709582.\u001b[0m\n"
     ]
    },
    {
     "name": "stdout",
     "output_type": "stream",
     "text": [
      "Early stopping, best iteration is:\n",
      "[21]\ttraining's l1: 2.59622\tvalid_1's l1: 1.74165\n",
      "[LightGBM] [Warning] feature_fraction is set=0.9659897445300598, colsample_bytree=0.6 will be ignored. Current value: feature_fraction=0.9659897445300598\n",
      "[LightGBM] [Warning] bagging_fraction is set=0.8938801278520344, subsample=0.7 will be ignored. Current value: bagging_fraction=0.8938801278520344\n",
      "[LightGBM] [Warning] bagging_freq is set=2, subsample_freq=0 will be ignored. Current value: bagging_freq=2\n",
      "Training until validation scores don't improve for 100 rounds\n",
      "[100]\ttraining's l1: 2.44825\tvalid_1's l1: 1.80723\n"
     ]
    },
    {
     "name": "stderr",
     "output_type": "stream",
     "text": [
      "\u001b[32m[I 2021-07-30 00:17:43,870]\u001b[0m Trial 58 finished with value: -1.7559184917730388 and parameters: {'max_depth': 12, 'min_child_weight': 8, 'subsample': 0.7, 'colsample_bytree': 0.6, 'reg_lambda': 77.72731438852676, 'reg_alpha': 0.6470826168982818, 'feature_fraction': 0.9659897445300598, 'bagging_fraction': 0.8938801278520344, 'bagging_freq': 2, 'num_leaves': 654, 'min_child_samples': 56}. Best is trial 32 with value: -1.7375096530709582.\u001b[0m\n"
     ]
    },
    {
     "name": "stdout",
     "output_type": "stream",
     "text": [
      "Early stopping, best iteration is:\n",
      "[18]\ttraining's l1: 2.59177\tvalid_1's l1: 1.75594\n",
      "[LightGBM] [Warning] feature_fraction is set=0.5930982508850338, colsample_bytree=0.6 will be ignored. Current value: feature_fraction=0.5930982508850338\n",
      "[LightGBM] [Warning] bagging_fraction is set=0.48606014562427674, subsample=0.8 will be ignored. Current value: bagging_fraction=0.48606014562427674\n",
      "[LightGBM] [Warning] bagging_freq is set=8, subsample_freq=0 will be ignored. Current value: bagging_freq=8\n",
      "Training until validation scores don't improve for 100 rounds\n",
      "[100]\ttraining's l1: 2.52839\tvalid_1's l1: 1.78976\n",
      "Early stopping, best iteration is:\n",
      "[16]\ttraining's l1: 2.62311\tvalid_1's l1: 1.74863\n"
     ]
    },
    {
     "name": "stderr",
     "output_type": "stream",
     "text": [
      "\u001b[32m[I 2021-07-30 00:17:46,252]\u001b[0m Trial 59 finished with value: -1.7486213793084515 and parameters: {'max_depth': 10, 'min_child_weight': 10, 'subsample': 0.8, 'colsample_bytree': 0.6, 'reg_lambda': 7.128718558398229, 'reg_alpha': 0.023747299874441533, 'feature_fraction': 0.5930982508850338, 'bagging_fraction': 0.48606014562427674, 'bagging_freq': 8, 'num_leaves': 684, 'min_child_samples': 61}. Best is trial 32 with value: -1.7375096530709582.\u001b[0m\n"
     ]
    },
    {
     "name": "stdout",
     "output_type": "stream",
     "text": [
      "[LightGBM] [Warning] feature_fraction is set=0.6426665716501344, colsample_bytree=0.6 will be ignored. Current value: feature_fraction=0.6426665716501344\n",
      "[LightGBM] [Warning] bagging_fraction is set=0.8427693179301685, subsample=0.6 will be ignored. Current value: bagging_fraction=0.8427693179301685\n",
      "[LightGBM] [Warning] bagging_freq is set=3, subsample_freq=0 will be ignored. Current value: bagging_freq=3\n",
      "Training until validation scores don't improve for 100 rounds\n",
      "[100]\ttraining's l1: 2.50745\tvalid_1's l1: 1.77724\n"
     ]
    },
    {
     "name": "stderr",
     "output_type": "stream",
     "text": [
      "\u001b[32m[I 2021-07-30 00:17:49,064]\u001b[0m Trial 60 finished with value: -1.7447186461264435 and parameters: {'max_depth': 9, 'min_child_weight': 12, 'subsample': 0.6, 'colsample_bytree': 0.6, 'reg_lambda': 19.456533410046717, 'reg_alpha': 0.2764352267882992, 'feature_fraction': 0.6426665716501344, 'bagging_fraction': 0.8427693179301685, 'bagging_freq': 3, 'num_leaves': 497, 'min_child_samples': 67}. Best is trial 32 with value: -1.7375096530709582.\u001b[0m\n"
     ]
    },
    {
     "name": "stdout",
     "output_type": "stream",
     "text": [
      "Early stopping, best iteration is:\n",
      "[17]\ttraining's l1: 2.61647\tvalid_1's l1: 1.74472\n",
      "[LightGBM] [Warning] feature_fraction is set=0.8767962429604753, colsample_bytree=0.7 will be ignored. Current value: feature_fraction=0.8767962429604753\n",
      "[LightGBM] [Warning] bagging_fraction is set=0.7584834674474145, subsample=0.9 will be ignored. Current value: bagging_fraction=0.7584834674474145\n",
      "[LightGBM] [Warning] bagging_freq is set=1, subsample_freq=0 will be ignored. Current value: bagging_freq=1\n",
      "Training until validation scores don't improve for 100 rounds\n",
      "[100]\ttraining's l1: 2.52334\tvalid_1's l1: 1.76522\n"
     ]
    },
    {
     "name": "stderr",
     "output_type": "stream",
     "text": [
      "\u001b[32m[I 2021-07-30 00:17:51,452]\u001b[0m Trial 61 finished with value: -1.740490294819375 and parameters: {'max_depth': 8, 'min_child_weight': 7, 'subsample': 0.9, 'colsample_bytree': 0.7, 'reg_lambda': 2.7392898003217567, 'reg_alpha': 2.1320680542874375, 'feature_fraction': 0.8767962429604753, 'bagging_fraction': 0.7584834674474145, 'bagging_freq': 1, 'num_leaves': 574, 'min_child_samples': 52}. Best is trial 32 with value: -1.7375096530709582.\u001b[0m\n"
     ]
    },
    {
     "name": "stdout",
     "output_type": "stream",
     "text": [
      "Early stopping, best iteration is:\n",
      "[46]\ttraining's l1: 2.56408\tvalid_1's l1: 1.74052\n",
      "[LightGBM] [Warning] feature_fraction is set=0.9233772864403378, colsample_bytree=0.7 will be ignored. Current value: feature_fraction=0.9233772864403378\n",
      "[LightGBM] [Warning] bagging_fraction is set=0.754229078126777, subsample=0.9 will be ignored. Current value: bagging_fraction=0.754229078126777\n",
      "[LightGBM] [Warning] bagging_freq is set=1, subsample_freq=0 will be ignored. Current value: bagging_freq=1\n",
      "Training until validation scores don't improve for 100 rounds\n",
      "[100]\ttraining's l1: 2.4471\tvalid_1's l1: 1.80407\n"
     ]
    },
    {
     "name": "stderr",
     "output_type": "stream",
     "text": [
      "\u001b[32m[I 2021-07-30 00:17:55,210]\u001b[0m Trial 62 finished with value: -1.7481585621856464 and parameters: {'max_depth': 12, 'min_child_weight': 9, 'subsample': 0.9, 'colsample_bytree': 0.7, 'reg_lambda': 5.536178796332813, 'reg_alpha': 0.08718764269567814, 'feature_fraction': 0.9233772864403378, 'bagging_fraction': 0.754229078126777, 'bagging_freq': 1, 'num_leaves': 565, 'min_child_samples': 54}. Best is trial 32 with value: -1.7375096530709582.\u001b[0m\n"
     ]
    },
    {
     "name": "stdout",
     "output_type": "stream",
     "text": [
      "Early stopping, best iteration is:\n",
      "[16]\ttraining's l1: 2.588\tvalid_1's l1: 1.74819\n",
      "[LightGBM] [Warning] feature_fraction is set=0.9698915555170021, colsample_bytree=0.7 will be ignored. Current value: feature_fraction=0.9698915555170021\n",
      "[LightGBM] [Warning] bagging_fraction is set=0.7270450613019186, subsample=0.8 will be ignored. Current value: bagging_fraction=0.7270450613019186\n",
      "[LightGBM] [Warning] bagging_freq is set=2, subsample_freq=0 will be ignored. Current value: bagging_freq=2\n",
      "Training until validation scores don't improve for 100 rounds\n",
      "[100]\ttraining's l1: 2.50517\tvalid_1's l1: 1.78788\n"
     ]
    },
    {
     "name": "stderr",
     "output_type": "stream",
     "text": [
      "\u001b[32m[I 2021-07-30 00:17:58,151]\u001b[0m Trial 63 finished with value: -1.747041391133345 and parameters: {'max_depth': 9, 'min_child_weight': 8, 'subsample': 0.8, 'colsample_bytree': 0.7, 'reg_lambda': 13.355389267454292, 'reg_alpha': 2.2942280703642175, 'feature_fraction': 0.9698915555170021, 'bagging_fraction': 0.7270450613019186, 'bagging_freq': 2, 'num_leaves': 622, 'min_child_samples': 50}. Best is trial 32 with value: -1.7375096530709582.\u001b[0m\n"
     ]
    },
    {
     "name": "stdout",
     "output_type": "stream",
     "text": [
      "Early stopping, best iteration is:\n",
      "[18]\ttraining's l1: 2.61172\tvalid_1's l1: 1.74705\n",
      "[LightGBM] [Warning] feature_fraction is set=0.9984829890023592, colsample_bytree=0.7 will be ignored. Current value: feature_fraction=0.9984829890023592\n",
      "[LightGBM] [Warning] bagging_fraction is set=0.7705245695806873, subsample=0.7 will be ignored. Current value: bagging_fraction=0.7705245695806873\n",
      "[LightGBM] [Warning] bagging_freq is set=3, subsample_freq=0 will be ignored. Current value: bagging_freq=3\n",
      "Training until validation scores don't improve for 100 rounds\n",
      "[100]\ttraining's l1: 2.52739\tvalid_1's l1: 1.77051\n"
     ]
    },
    {
     "name": "stderr",
     "output_type": "stream",
     "text": [
      "\u001b[32m[I 2021-07-30 00:18:00,600]\u001b[0m Trial 64 finished with value: -1.74052889068927 and parameters: {'max_depth': 8, 'min_child_weight': 7, 'subsample': 0.7, 'colsample_bytree': 0.7, 'reg_lambda': 4.6353474978287625, 'reg_alpha': 0.7602270420517011, 'feature_fraction': 0.9984829890023592, 'bagging_fraction': 0.7705245695806873, 'bagging_freq': 3, 'num_leaves': 744, 'min_child_samples': 57}. Best is trial 32 with value: -1.7375096530709582.\u001b[0m\n"
     ]
    },
    {
     "name": "stdout",
     "output_type": "stream",
     "text": [
      "Early stopping, best iteration is:\n",
      "[21]\ttraining's l1: 2.60556\tvalid_1's l1: 1.74053\n",
      "[LightGBM] [Warning] feature_fraction is set=0.9995692620619842, colsample_bytree=0.7 will be ignored. Current value: feature_fraction=0.9995692620619842\n",
      "[LightGBM] [Warning] bagging_fraction is set=0.7705406327238826, subsample=0.7 will be ignored. Current value: bagging_fraction=0.7705406327238826\n",
      "[LightGBM] [Warning] bagging_freq is set=1, subsample_freq=0 will be ignored. Current value: bagging_freq=1\n",
      "Training until validation scores don't improve for 100 rounds\n",
      "[100]\ttraining's l1: 2.49732\tvalid_1's l1: 1.77762\n"
     ]
    },
    {
     "name": "stderr",
     "output_type": "stream",
     "text": [
      "\u001b[32m[I 2021-07-30 00:18:02,912]\u001b[0m Trial 65 finished with value: -1.7418002250968696 and parameters: {'max_depth': 8, 'min_child_weight': 7, 'subsample': 0.7, 'colsample_bytree': 0.7, 'reg_lambda': 1.90681619364289, 'reg_alpha': 0.14203763915079193, 'feature_fraction': 0.9995692620619842, 'bagging_fraction': 0.7705406327238826, 'bagging_freq': 1, 'num_leaves': 755, 'min_child_samples': 10}. Best is trial 32 with value: -1.7375096530709582.\u001b[0m\n"
     ]
    },
    {
     "name": "stdout",
     "output_type": "stream",
     "text": [
      "Early stopping, best iteration is:\n",
      "[25]\ttraining's l1: 2.5808\tvalid_1's l1: 1.7419\n",
      "[LightGBM] [Warning] feature_fraction is set=0.8520047873184368, colsample_bytree=0.7 will be ignored. Current value: feature_fraction=0.8520047873184368\n",
      "[LightGBM] [Warning] bagging_fraction is set=0.8485026579516933, subsample=0.7 will be ignored. Current value: bagging_fraction=0.8485026579516933\n",
      "[LightGBM] [Warning] bagging_freq is set=5, subsample_freq=0 will be ignored. Current value: bagging_freq=5\n",
      "Training until validation scores don't improve for 100 rounds\n",
      "[100]\ttraining's l1: 2.59651\tvalid_1's l1: 1.75345\n"
     ]
    },
    {
     "name": "stderr",
     "output_type": "stream",
     "text": [
      "\u001b[32m[I 2021-07-30 00:18:04,843]\u001b[0m Trial 66 finished with value: -1.7513124312846162 and parameters: {'max_depth': 5, 'min_child_weight': 5, 'subsample': 0.7, 'colsample_bytree': 0.7, 'reg_lambda': 0.6232966685387692, 'reg_alpha': 0.9879697062181378, 'feature_fraction': 0.8520047873184368, 'bagging_fraction': 0.8485026579516933, 'bagging_freq': 5, 'num_leaves': 875, 'min_child_samples': 75}. Best is trial 32 with value: -1.7375096530709582.\u001b[0m\n"
     ]
    },
    {
     "name": "stdout",
     "output_type": "stream",
     "text": [
      "Early stopping, best iteration is:\n",
      "[77]\ttraining's l1: 2.61005\tvalid_1's l1: 1.75133\n",
      "[LightGBM] [Warning] feature_fraction is set=0.9061909195682695, colsample_bytree=0.7 will be ignored. Current value: feature_fraction=0.9061909195682695\n",
      "[LightGBM] [Warning] bagging_fraction is set=0.8035493088045575, subsample=0.7 will be ignored. Current value: bagging_fraction=0.8035493088045575\n",
      "[LightGBM] [Warning] bagging_freq is set=3, subsample_freq=0 will be ignored. Current value: bagging_freq=3\n",
      "Training until validation scores don't improve for 100 rounds\n",
      "[100]\ttraining's l1: 2.63091\tvalid_1's l1: 1.75338\n"
     ]
    },
    {
     "name": "stderr",
     "output_type": "stream",
     "text": [
      "\u001b[32m[I 2021-07-30 00:18:07,060]\u001b[0m Trial 67 finished with value: -1.7509051011697139 and parameters: {'max_depth': 4, 'min_child_weight': 11, 'subsample': 0.7, 'colsample_bytree': 0.7, 'reg_lambda': 2.565991699937989, 'reg_alpha': 0.4223695350883211, 'feature_fraction': 0.9061909195682695, 'bagging_fraction': 0.8035493088045575, 'bagging_freq': 3, 'num_leaves': 807, 'min_child_samples': 62}. Best is trial 32 with value: -1.7375096530709582.\u001b[0m\n"
     ]
    },
    {
     "name": "stdout",
     "output_type": "stream",
     "text": [
      "[200]\ttraining's l1: 2.59841\tvalid_1's l1: 1.75954\n",
      "Early stopping, best iteration is:\n",
      "[110]\ttraining's l1: 2.62567\tvalid_1's l1: 1.75103\n",
      "[LightGBM] [Warning] feature_fraction is set=0.9986117271548284, colsample_bytree=0.7 will be ignored. Current value: feature_fraction=0.9986117271548284\n",
      "[LightGBM] [Warning] bagging_fraction is set=0.686773612808206, subsample=0.7 will be ignored. Current value: bagging_fraction=0.686773612808206\n",
      "[LightGBM] [Warning] bagging_freq is set=4, subsample_freq=0 will be ignored. Current value: bagging_freq=4\n",
      "Training until validation scores don't improve for 100 rounds\n",
      "[100]\ttraining's l1: 2.58578\tvalid_1's l1: 1.75592\n"
     ]
    },
    {
     "name": "stderr",
     "output_type": "stream",
     "text": [
      "\u001b[32m[I 2021-07-30 00:18:09,058]\u001b[0m Trial 68 finished with value: -1.7476146038474676 and parameters: {'max_depth': 6, 'min_child_weight': 7, 'subsample': 0.7, 'colsample_bytree': 0.7, 'reg_lambda': 45.65355722933968, 'reg_alpha': 1.6304348878648023, 'feature_fraction': 0.9986117271548284, 'bagging_fraction': 0.686773612808206, 'bagging_freq': 4, 'num_leaves': 465, 'min_child_samples': 59}. Best is trial 32 with value: -1.7375096530709582.\u001b[0m\n"
     ]
    },
    {
     "name": "stdout",
     "output_type": "stream",
     "text": [
      "Early stopping, best iteration is:\n",
      "[54]\ttraining's l1: 2.61099\tvalid_1's l1: 1.74763\n",
      "[LightGBM] [Warning] feature_fraction is set=0.7389353538873714, colsample_bytree=0.7 will be ignored. Current value: feature_fraction=0.7389353538873714\n",
      "[LightGBM] [Warning] bagging_fraction is set=0.9570938352241178, subsample=0.9 will be ignored. Current value: bagging_fraction=0.9570938352241178\n",
      "[LightGBM] [Warning] bagging_freq is set=1, subsample_freq=0 will be ignored. Current value: bagging_freq=1\n",
      "Training until validation scores don't improve for 100 rounds\n",
      "[100]\ttraining's l1: 2.42571\tvalid_1's l1: 1.83198\n"
     ]
    },
    {
     "name": "stderr",
     "output_type": "stream",
     "text": [
      "\u001b[32m[I 2021-07-30 00:18:12,146]\u001b[0m Trial 69 finished with value: -1.747306632470947 and parameters: {'max_depth': 10, 'min_child_weight': 7, 'subsample': 0.9, 'colsample_bytree': 0.7, 'reg_lambda': 5.056498583422595, 'reg_alpha': 0.21209991857118485, 'feature_fraction': 0.7389353538873714, 'bagging_fraction': 0.9570938352241178, 'bagging_freq': 1, 'num_leaves': 589, 'min_child_samples': 27}. Best is trial 32 with value: -1.7375096530709582.\u001b[0m\n"
     ]
    },
    {
     "name": "stdout",
     "output_type": "stream",
     "text": [
      "Early stopping, best iteration is:\n",
      "[21]\ttraining's l1: 2.55499\tvalid_1's l1: 1.74733\n",
      "[LightGBM] [Warning] feature_fraction is set=0.8015777239174203, colsample_bytree=0.7 will be ignored. Current value: feature_fraction=0.8015777239174203\n",
      "[LightGBM] [Warning] bagging_fraction is set=0.5834202367499892, subsample=0.6 will be ignored. Current value: bagging_fraction=0.5834202367499892\n",
      "[LightGBM] [Warning] bagging_freq is set=2, subsample_freq=0 will be ignored. Current value: bagging_freq=2\n",
      "Training until validation scores don't improve for 100 rounds\n",
      "[100]\ttraining's l1: 2.55409\tvalid_1's l1: 1.76148\n"
     ]
    },
    {
     "name": "stderr",
     "output_type": "stream",
     "text": [
      "\u001b[32m[I 2021-07-30 00:18:13,983]\u001b[0m Trial 70 finished with value: -1.7464932476054096 and parameters: {'max_depth': 7, 'min_child_weight': 9, 'subsample': 0.6, 'colsample_bytree': 0.7, 'reg_lambda': 3.8558496714559296, 'reg_alpha': 3.6574690788900757, 'feature_fraction': 0.8015777239174203, 'bagging_fraction': 0.5834202367499892, 'bagging_freq': 2, 'num_leaves': 506, 'min_child_samples': 43}. Best is trial 32 with value: -1.7375096530709582.\u001b[0m\n"
     ]
    },
    {
     "name": "stdout",
     "output_type": "stream",
     "text": [
      "Early stopping, best iteration is:\n",
      "[33]\ttraining's l1: 2.60424\tvalid_1's l1: 1.74653\n",
      "[LightGBM] [Warning] feature_fraction is set=0.939836038662823, colsample_bytree=0.7 will be ignored. Current value: feature_fraction=0.939836038662823\n",
      "[LightGBM] [Warning] bagging_fraction is set=0.7414188416657047, subsample=0.9 will be ignored. Current value: bagging_fraction=0.7414188416657047\n",
      "[LightGBM] [Warning] bagging_freq is set=3, subsample_freq=0 will be ignored. Current value: bagging_freq=3\n",
      "Training until validation scores don't improve for 100 rounds\n",
      "[100]\ttraining's l1: 2.5277\tvalid_1's l1: 1.76674\n"
     ]
    },
    {
     "name": "stderr",
     "output_type": "stream",
     "text": [
      "\u001b[32m[I 2021-07-30 00:18:16,417]\u001b[0m Trial 71 finished with value: -1.7466932097669507 and parameters: {'max_depth': 8, 'min_child_weight': 6, 'subsample': 0.9, 'colsample_bytree': 0.7, 'reg_lambda': 8.685645575349552, 'reg_alpha': 0.7065508979199594, 'feature_fraction': 0.939836038662823, 'bagging_fraction': 0.7414188416657047, 'bagging_freq': 3, 'num_leaves': 630, 'min_child_samples': 51}. Best is trial 32 with value: -1.7375096530709582.\u001b[0m\n"
     ]
    },
    {
     "name": "stdout",
     "output_type": "stream",
     "text": [
      "Early stopping, best iteration is:\n",
      "[23]\ttraining's l1: 2.60427\tvalid_1's l1: 1.74671\n",
      "[LightGBM] [Warning] feature_fraction is set=0.9797874099961633, colsample_bytree=0.6 will be ignored. Current value: feature_fraction=0.9797874099961633\n",
      "[LightGBM] [Warning] bagging_fraction is set=0.8296522546460188, subsample=0.8 will be ignored. Current value: bagging_fraction=0.8296522546460188\n",
      "[LightGBM] [Warning] bagging_freq is set=4, subsample_freq=0 will be ignored. Current value: bagging_freq=4\n",
      "Training until validation scores don't improve for 100 rounds\n",
      "[100]\ttraining's l1: 2.48833\tvalid_1's l1: 1.79466\n"
     ]
    },
    {
     "name": "stderr",
     "output_type": "stream",
     "text": [
      "\u001b[32m[I 2021-07-30 00:18:19,218]\u001b[0m Trial 72 finished with value: -1.7389576336733708 and parameters: {'max_depth': 9, 'min_child_weight': 10, 'subsample': 0.8, 'colsample_bytree': 0.6, 'reg_lambda': 1.4892203339606829, 'reg_alpha': 0.36672012208426474, 'feature_fraction': 0.9797874099961633, 'bagging_fraction': 0.8296522546460188, 'bagging_freq': 4, 'num_leaves': 718, 'min_child_samples': 47}. Best is trial 32 with value: -1.7375096530709582.\u001b[0m\n"
     ]
    },
    {
     "name": "stdout",
     "output_type": "stream",
     "text": [
      "Early stopping, best iteration is:\n",
      "[14]\ttraining's l1: 2.61429\tvalid_1's l1: 1.73896\n",
      "[LightGBM] [Warning] feature_fraction is set=0.8955773369655943, colsample_bytree=0.7 will be ignored. Current value: feature_fraction=0.8955773369655943\n",
      "[LightGBM] [Warning] bagging_fraction is set=0.8791482820908852, subsample=0.5 will be ignored. Current value: bagging_fraction=0.8791482820908852\n",
      "[LightGBM] [Warning] bagging_freq is set=5, subsample_freq=0 will be ignored. Current value: bagging_freq=5\n",
      "Training until validation scores don't improve for 100 rounds\n",
      "[100]\ttraining's l1: 2.43903\tvalid_1's l1: 1.87346\n"
     ]
    },
    {
     "name": "stderr",
     "output_type": "stream",
     "text": [
      "\u001b[32m[I 2021-07-30 00:18:22,602]\u001b[0m Trial 73 finished with value: -1.7435368098233115 and parameters: {'max_depth': 11, 'min_child_weight': 10, 'subsample': 0.5, 'colsample_bytree': 0.7, 'reg_lambda': 1.148099490218626, 'reg_alpha': 0.31051510719360875, 'feature_fraction': 0.8955773369655943, 'bagging_fraction': 0.8791482820908852, 'bagging_freq': 5, 'num_leaves': 708, 'min_child_samples': 47}. Best is trial 32 with value: -1.7375096530709582.\u001b[0m\n"
     ]
    },
    {
     "name": "stdout",
     "output_type": "stream",
     "text": [
      "Early stopping, best iteration is:\n",
      "[13]\ttraining's l1: 2.59744\tvalid_1's l1: 1.74354\n",
      "[LightGBM] [Warning] feature_fraction is set=0.9823261640362564, colsample_bytree=0.7 will be ignored. Current value: feature_fraction=0.9823261640362564\n",
      "[LightGBM] [Warning] bagging_fraction is set=0.838275286560967, subsample=0.7 will be ignored. Current value: bagging_fraction=0.838275286560967\n",
      "[LightGBM] [Warning] bagging_freq is set=4, subsample_freq=0 will be ignored. Current value: bagging_freq=4\n",
      "Training until validation scores don't improve for 100 rounds\n",
      "[100]\ttraining's l1: 2.49941\tvalid_1's l1: 1.77616\n"
     ]
    },
    {
     "name": "stderr",
     "output_type": "stream",
     "text": [
      "\u001b[32m[I 2021-07-30 00:18:25,467]\u001b[0m Trial 74 finished with value: -1.7435960328032178 and parameters: {'max_depth': 9, 'min_child_weight': 11, 'subsample': 0.7, 'colsample_bytree': 0.7, 'reg_lambda': 1.5105500620316938, 'reg_alpha': 1.4659058690488, 'feature_fraction': 0.9823261640362564, 'bagging_fraction': 0.838275286560967, 'bagging_freq': 4, 'num_leaves': 813, 'min_child_samples': 57}. Best is trial 32 with value: -1.7375096530709582.\u001b[0m\n"
     ]
    },
    {
     "name": "stdout",
     "output_type": "stream",
     "text": [
      "Early stopping, best iteration is:\n",
      "[17]\ttraining's l1: 2.60463\tvalid_1's l1: 1.7436\n",
      "[LightGBM] [Warning] feature_fraction is set=0.5351316397298331, colsample_bytree=0.7 will be ignored. Current value: feature_fraction=0.5351316397298331\n",
      "[LightGBM] [Warning] bagging_fraction is set=0.7855913741513981, subsample=0.9 will be ignored. Current value: bagging_fraction=0.7855913741513981\n",
      "[LightGBM] [Warning] bagging_freq is set=2, subsample_freq=0 will be ignored. Current value: bagging_freq=2\n",
      "Training until validation scores don't improve for 100 rounds\n",
      "[100]\ttraining's l1: 2.50057\tvalid_1's l1: 1.78492\n"
     ]
    },
    {
     "name": "stderr",
     "output_type": "stream",
     "text": [
      "\u001b[32m[I 2021-07-30 00:18:28,432]\u001b[0m Trial 75 finished with value: -1.7478114398988207 and parameters: {'max_depth': 10, 'min_child_weight': 4, 'subsample': 0.9, 'colsample_bytree': 0.7, 'reg_lambda': 0.4081417395147401, 'reg_alpha': 0.867659108086599, 'feature_fraction': 0.5351316397298331, 'bagging_fraction': 0.7855913741513981, 'bagging_freq': 2, 'num_leaves': 789, 'min_child_samples': 66}. Best is trial 32 with value: -1.7375096530709582.\u001b[0m\n"
     ]
    },
    {
     "name": "stdout",
     "output_type": "stream",
     "text": [
      "Early stopping, best iteration is:\n",
      "[16]\ttraining's l1: 2.6046\tvalid_1's l1: 1.74782\n",
      "[LightGBM] [Warning] feature_fraction is set=0.9408431247070728, colsample_bytree=0.6 will be ignored. Current value: feature_fraction=0.9408431247070728\n",
      "[LightGBM] [Warning] bagging_fraction is set=0.8254861402244367, subsample=0.9 will be ignored. Current value: bagging_fraction=0.8254861402244367\n",
      "[LightGBM] [Warning] bagging_freq is set=6, subsample_freq=0 will be ignored. Current value: bagging_freq=6\n",
      "Training until validation scores don't improve for 100 rounds\n",
      "[100]\ttraining's l1: 2.57042\tvalid_1's l1: 1.74509\n"
     ]
    },
    {
     "name": "stderr",
     "output_type": "stream",
     "text": [
      "\u001b[32m[I 2021-07-30 00:18:30,302]\u001b[0m Trial 76 finished with value: -1.738709659183696 and parameters: {'max_depth': 6, 'min_child_weight': 13, 'subsample': 0.9, 'colsample_bytree': 0.6, 'reg_lambda': 0.04665420296328515, 'reg_alpha': 0.38409660795236494, 'feature_fraction': 0.9408431247070728, 'bagging_fraction': 0.8254861402244367, 'bagging_freq': 6, 'num_leaves': 705, 'min_child_samples': 23}. Best is trial 32 with value: -1.7375096530709582.\u001b[0m\n"
     ]
    },
    {
     "name": "stdout",
     "output_type": "stream",
     "text": [
      "Early stopping, best iteration is:\n",
      "[33]\ttraining's l1: 2.61873\tvalid_1's l1: 1.73872\n",
      "[LightGBM] [Warning] feature_fraction is set=0.8733316707891348, colsample_bytree=0.6 will be ignored. Current value: feature_fraction=0.8733316707891348\n",
      "[LightGBM] [Warning] bagging_fraction is set=0.8238359735590888, subsample=0.9 will be ignored. Current value: bagging_fraction=0.8238359735590888\n",
      "[LightGBM] [Warning] bagging_freq is set=6, subsample_freq=0 will be ignored. Current value: bagging_freq=6\n",
      "Training until validation scores don't improve for 100 rounds\n",
      "[100]\ttraining's l1: 2.53687\tvalid_1's l1: 1.77319\n"
     ]
    },
    {
     "name": "stderr",
     "output_type": "stream",
     "text": [
      "\u001b[32m[I 2021-07-30 00:18:32,331]\u001b[0m Trial 77 finished with value: -1.744495359872541 and parameters: {'max_depth': 7, 'min_child_weight': 14, 'subsample': 0.9, 'colsample_bytree': 0.6, 'reg_lambda': 0.8021209411383423, 'reg_alpha': 0.04997542303869475, 'feature_fraction': 0.8733316707891348, 'bagging_fraction': 0.8238359735590888, 'bagging_freq': 6, 'num_leaves': 699, 'min_child_samples': 22}. Best is trial 32 with value: -1.7375096530709582.\u001b[0m\n"
     ]
    },
    {
     "name": "stdout",
     "output_type": "stream",
     "text": [
      "Early stopping, best iteration is:\n",
      "[32]\ttraining's l1: 2.59302\tvalid_1's l1: 1.7445\n",
      "[LightGBM] [Warning] feature_fraction is set=0.9199235410225598, colsample_bytree=0.5 will be ignored. Current value: feature_fraction=0.9199235410225598\n",
      "[LightGBM] [Warning] bagging_fraction is set=0.9065694737886946, subsample=0.9 will be ignored. Current value: bagging_fraction=0.9065694737886946\n",
      "[LightGBM] [Warning] bagging_freq is set=1, subsample_freq=0 will be ignored. Current value: bagging_freq=1\n",
      "Training until validation scores don't improve for 100 rounds\n",
      "[100]\ttraining's l1: 2.56369\tvalid_1's l1: 1.77531\n"
     ]
    },
    {
     "name": "stderr",
     "output_type": "stream",
     "text": [
      "\u001b[32m[I 2021-07-30 00:18:34,196]\u001b[0m Trial 78 finished with value: -1.7384103505485093 and parameters: {'max_depth': 6, 'min_child_weight': 12, 'subsample': 0.9, 'colsample_bytree': 0.5, 'reg_lambda': 0.05289886499860072, 'reg_alpha': 0.3638594194340801, 'feature_fraction': 0.9199235410225598, 'bagging_fraction': 0.9065694737886946, 'bagging_freq': 1, 'num_leaves': 733, 'min_child_samples': 18}. Best is trial 32 with value: -1.7375096530709582.\u001b[0m\n"
     ]
    },
    {
     "name": "stdout",
     "output_type": "stream",
     "text": [
      "Early stopping, best iteration is:\n",
      "[47]\ttraining's l1: 2.59674\tvalid_1's l1: 1.73842\n",
      "[LightGBM] [Warning] feature_fraction is set=0.9209480119195781, colsample_bytree=0.5 will be ignored. Current value: feature_fraction=0.9209480119195781\n",
      "[LightGBM] [Warning] bagging_fraction is set=0.9293545771852926, subsample=0.9 will be ignored. Current value: bagging_fraction=0.9293545771852926\n",
      "[LightGBM] [Warning] bagging_freq is set=1, subsample_freq=0 will be ignored. Current value: bagging_freq=1\n",
      "Training until validation scores don't improve for 100 rounds\n",
      "[100]\ttraining's l1: 2.56557\tvalid_1's l1: 1.76213\n"
     ]
    },
    {
     "name": "stderr",
     "output_type": "stream",
     "text": [
      "\u001b[32m[I 2021-07-30 00:18:35,896]\u001b[0m Trial 79 finished with value: -1.7428818010881981 and parameters: {'max_depth': 6, 'min_child_weight': 13, 'subsample': 0.9, 'colsample_bytree': 0.5, 'reg_lambda': 0.17129717780510714, 'reg_alpha': 0.14086838937816587, 'feature_fraction': 0.9209480119195781, 'bagging_fraction': 0.9293545771852926, 'bagging_freq': 1, 'num_leaves': 869, 'min_child_samples': 17}. Best is trial 32 with value: -1.7375096530709582.\u001b[0m\n"
     ]
    },
    {
     "name": "stdout",
     "output_type": "stream",
     "text": [
      "Early stopping, best iteration is:\n",
      "[31]\ttraining's l1: 2.61896\tvalid_1's l1: 1.74288\n",
      "[LightGBM] [Warning] feature_fraction is set=0.8400196528720411, colsample_bytree=0.5 will be ignored. Current value: feature_fraction=0.8400196528720411\n",
      "[LightGBM] [Warning] bagging_fraction is set=0.9029652019511109, subsample=0.9 will be ignored. Current value: bagging_fraction=0.9029652019511109\n",
      "[LightGBM] [Warning] bagging_freq is set=3, subsample_freq=0 will be ignored. Current value: bagging_freq=3\n",
      "Training until validation scores don't improve for 100 rounds\n",
      "[100]\ttraining's l1: 2.59875\tvalid_1's l1: 1.75021\n"
     ]
    },
    {
     "name": "stderr",
     "output_type": "stream",
     "text": [
      "\u001b[32m[I 2021-07-30 00:18:37,829]\u001b[0m Trial 80 finished with value: -1.747514820077104 and parameters: {'max_depth': 5, 'min_child_weight': 13, 'subsample': 0.9, 'colsample_bytree': 0.5, 'reg_lambda': 0.04847822454344517, 'reg_alpha': 2.092957636297214, 'feature_fraction': 0.8400196528720411, 'bagging_fraction': 0.9029652019511109, 'bagging_freq': 3, 'num_leaves': 724, 'min_child_samples': 13}. Best is trial 32 with value: -1.7375096530709582.\u001b[0m\n"
     ]
    },
    {
     "name": "stdout",
     "output_type": "stream",
     "text": [
      "Early stopping, best iteration is:\n",
      "[56]\ttraining's l1: 2.61817\tvalid_1's l1: 1.74752\n",
      "[LightGBM] [Warning] feature_fraction is set=0.948184570156118, colsample_bytree=0.5 will be ignored. Current value: feature_fraction=0.948184570156118\n",
      "[LightGBM] [Warning] bagging_fraction is set=0.9755954662374752, subsample=0.9 will be ignored. Current value: bagging_fraction=0.9755954662374752\n",
      "[LightGBM] [Warning] bagging_freq is set=2, subsample_freq=0 will be ignored. Current value: bagging_freq=2\n",
      "Training until validation scores don't improve for 100 rounds\n",
      "[100]\ttraining's l1: 2.50531\tvalid_1's l1: 1.77787\n"
     ]
    },
    {
     "name": "stderr",
     "output_type": "stream",
     "text": [
      "\u001b[32m[I 2021-07-30 00:18:40,731]\u001b[0m Trial 81 finished with value: -1.7381553502501879 and parameters: {'max_depth': 8, 'min_child_weight': 12, 'subsample': 0.9, 'colsample_bytree': 0.5, 'reg_lambda': 0.11382969331528581, 'reg_alpha': 0.37946293448543233, 'feature_fraction': 0.948184570156118, 'bagging_fraction': 0.9755954662374752, 'bagging_freq': 2, 'num_leaves': 757, 'min_child_samples': 20}. Best is trial 32 with value: -1.7375096530709582.\u001b[0m\n"
     ]
    },
    {
     "name": "stdout",
     "output_type": "stream",
     "text": [
      "Early stopping, best iteration is:\n",
      "[19]\ttraining's l1: 2.6027\tvalid_1's l1: 1.73816\n",
      "[LightGBM] [Warning] feature_fraction is set=0.892828746686373, colsample_bytree=0.5 will be ignored. Current value: feature_fraction=0.892828746686373\n",
      "[LightGBM] [Warning] bagging_fraction is set=0.9680268803552958, subsample=0.9 will be ignored. Current value: bagging_fraction=0.9680268803552958\n",
      "[LightGBM] [Warning] bagging_freq is set=2, subsample_freq=0 will be ignored. Current value: bagging_freq=2\n",
      "Training until validation scores don't improve for 100 rounds\n",
      "[100]\ttraining's l1: 2.4951\tvalid_1's l1: 1.78801\n"
     ]
    },
    {
     "name": "stderr",
     "output_type": "stream",
     "text": [
      "\u001b[32m[I 2021-07-30 00:18:43,518]\u001b[0m Trial 82 finished with value: -1.7441434441101444 and parameters: {'max_depth': 8, 'min_child_weight': 13, 'subsample': 0.9, 'colsample_bytree': 0.5, 'reg_lambda': 0.11334041326468068, 'reg_alpha': 0.10501623371155419, 'feature_fraction': 0.892828746686373, 'bagging_fraction': 0.9680268803552958, 'bagging_freq': 2, 'num_leaves': 778, 'min_child_samples': 20}. Best is trial 32 with value: -1.7375096530709582.\u001b[0m\n"
     ]
    },
    {
     "name": "stdout",
     "output_type": "stream",
     "text": [
      "Early stopping, best iteration is:\n",
      "[30]\ttraining's l1: 2.56415\tvalid_1's l1: 1.74415\n",
      "[LightGBM] [Warning] feature_fraction is set=0.9382242568051274, colsample_bytree=0.5 will be ignored. Current value: feature_fraction=0.9382242568051274\n",
      "[LightGBM] [Warning] bagging_fraction is set=0.8885845799124941, subsample=0.9 will be ignored. Current value: bagging_fraction=0.8885845799124941\n",
      "[LightGBM] [Warning] bagging_freq is set=10, subsample_freq=0 will be ignored. Current value: bagging_freq=10\n",
      "Training until validation scores don't improve for 100 rounds\n",
      "[100]\ttraining's l1: 2.50203\tvalid_1's l1: 1.79081\n"
     ]
    },
    {
     "name": "stderr",
     "output_type": "stream",
     "text": [
      "\u001b[32m[I 2021-07-30 00:18:45,974]\u001b[0m Trial 83 finished with value: -1.7414892377004694 and parameters: {'max_depth': 8, 'min_child_weight': 12, 'subsample': 0.9, 'colsample_bytree': 0.5, 'reg_lambda': 0.0611838903975577, 'reg_alpha': 0.3045795080103798, 'feature_fraction': 0.9382242568051274, 'bagging_fraction': 0.8885845799124941, 'bagging_freq': 10, 'num_leaves': 829, 'min_child_samples': 24}. Best is trial 32 with value: -1.7375096530709582.\u001b[0m\n"
     ]
    },
    {
     "name": "stdout",
     "output_type": "stream",
     "text": [
      "Early stopping, best iteration is:\n",
      "[25]\ttraining's l1: 2.58706\tvalid_1's l1: 1.74149\n",
      "[LightGBM] [Warning] feature_fraction is set=0.6826667091143775, colsample_bytree=0.5 will be ignored. Current value: feature_fraction=0.6826667091143775\n",
      "[LightGBM] [Warning] bagging_fraction is set=0.8602130198016017, subsample=0.9 will be ignored. Current value: bagging_fraction=0.8602130198016017\n",
      "[LightGBM] [Warning] bagging_freq is set=1, subsample_freq=0 will be ignored. Current value: bagging_freq=1\n",
      "Training until validation scores don't improve for 100 rounds\n",
      "[100]\ttraining's l1: 2.57042\tvalid_1's l1: 1.75773\n"
     ]
    },
    {
     "name": "stderr",
     "output_type": "stream",
     "text": [
      "\u001b[32m[I 2021-07-30 00:18:47,820]\u001b[0m Trial 84 finished with value: -1.738614200781292 and parameters: {'max_depth': 6, 'min_child_weight': 15, 'subsample': 0.9, 'colsample_bytree': 0.5, 'reg_lambda': 0.013028124941146862, 'reg_alpha': 0.19905595701060647, 'feature_fraction': 0.6826667091143775, 'bagging_fraction': 0.8602130198016017, 'bagging_freq': 1, 'num_leaves': 754, 'min_child_samples': 16}. Best is trial 32 with value: -1.7375096530709582.\u001b[0m\n"
     ]
    },
    {
     "name": "stdout",
     "output_type": "stream",
     "text": [
      "Early stopping, best iteration is:\n",
      "[51]\ttraining's l1: 2.59785\tvalid_1's l1: 1.73869\n",
      "[LightGBM] [Warning] feature_fraction is set=0.6707765017918987, colsample_bytree=0.5 will be ignored. Current value: feature_fraction=0.6707765017918987\n",
      "[LightGBM] [Warning] bagging_fraction is set=0.9383839496814936, subsample=0.9 will be ignored. Current value: bagging_fraction=0.9383839496814936\n",
      "[LightGBM] [Warning] bagging_freq is set=1, subsample_freq=0 will be ignored. Current value: bagging_freq=1\n",
      "Training until validation scores don't improve for 100 rounds\n",
      "[100]\ttraining's l1: 2.56629\tvalid_1's l1: 1.75848\n"
     ]
    },
    {
     "name": "stderr",
     "output_type": "stream",
     "text": [
      "\u001b[32m[I 2021-07-30 00:18:49,536]\u001b[0m Trial 85 finished with value: -1.7406294174108208 and parameters: {'max_depth': 6, 'min_child_weight': 15, 'subsample': 0.9, 'colsample_bytree': 0.5, 'reg_lambda': 0.017020182222607042, 'reg_alpha': 0.1840067383208901, 'feature_fraction': 0.6707765017918987, 'bagging_fraction': 0.9383839496814936, 'bagging_freq': 1, 'num_leaves': 907, 'min_child_samples': 7}. Best is trial 32 with value: -1.7375096530709582.\u001b[0m\n"
     ]
    },
    {
     "name": "stdout",
     "output_type": "stream",
     "text": [
      "Early stopping, best iteration is:\n",
      "[27]\ttraining's l1: 2.62771\tvalid_1's l1: 1.74063\n",
      "[LightGBM] [Warning] feature_fraction is set=0.7128613548278471, colsample_bytree=0.5 will be ignored. Current value: feature_fraction=0.7128613548278471\n",
      "[LightGBM] [Warning] bagging_fraction is set=0.8588039549407565, subsample=0.9 will be ignored. Current value: bagging_fraction=0.8588039549407565\n",
      "[LightGBM] [Warning] bagging_freq is set=2, subsample_freq=0 will be ignored. Current value: bagging_freq=2\n",
      "Training until validation scores don't improve for 100 rounds\n",
      "[100]\ttraining's l1: 2.62304\tvalid_1's l1: 1.74835\n"
     ]
    },
    {
     "name": "stderr",
     "output_type": "stream",
     "text": [
      "\u001b[32m[I 2021-07-30 00:18:51,527]\u001b[0m Trial 86 finished with value: -1.7475766558473829 and parameters: {'max_depth': 4, 'min_child_weight': 15, 'subsample': 0.9, 'colsample_bytree': 0.5, 'reg_lambda': 0.03317577068952257, 'reg_alpha': 0.06650125261360987, 'feature_fraction': 0.7128613548278471, 'bagging_fraction': 0.8588039549407565, 'bagging_freq': 2, 'num_leaves': 777, 'min_child_samples': 16}. Best is trial 32 with value: -1.7375096530709582.\u001b[0m\n"
     ]
    },
    {
     "name": "stdout",
     "output_type": "stream",
     "text": [
      "Early stopping, best iteration is:\n",
      "[86]\ttraining's l1: 2.62818\tvalid_1's l1: 1.74759\n",
      "[LightGBM] [Warning] feature_fraction is set=0.865874475429003, colsample_bytree=0.5 will be ignored. Current value: feature_fraction=0.865874475429003\n",
      "[LightGBM] [Warning] bagging_fraction is set=0.9975448137502082, subsample=0.9 will be ignored. Current value: bagging_fraction=0.9975448137502082\n",
      "[LightGBM] [Warning] bagging_freq is set=1, subsample_freq=0 will be ignored. Current value: bagging_freq=1\n",
      "Training until validation scores don't improve for 100 rounds\n",
      "[100]\ttraining's l1: 2.53188\tvalid_1's l1: 1.75768\n"
     ]
    },
    {
     "name": "stderr",
     "output_type": "stream",
     "text": [
      "\u001b[32m[I 2021-07-30 00:18:53,779]\u001b[0m Trial 87 finished with value: -1.7371715598574138 and parameters: {'max_depth': 7, 'min_child_weight': 17, 'subsample': 0.9, 'colsample_bytree': 0.5, 'reg_lambda': 0.013206410340812798, 'reg_alpha': 0.38462102899359113, 'feature_fraction': 0.865874475429003, 'bagging_fraction': 0.9975448137502082, 'bagging_freq': 1, 'num_leaves': 683, 'min_child_samples': 30}. Best is trial 87 with value: -1.7371715598574138.\u001b[0m\n"
     ]
    },
    {
     "name": "stdout",
     "output_type": "stream",
     "text": [
      "Early stopping, best iteration is:\n",
      "[39]\ttraining's l1: 2.57863\tvalid_1's l1: 1.73718\n",
      "[LightGBM] [Warning] feature_fraction is set=0.7456753549689118, colsample_bytree=0.5 will be ignored. Current value: feature_fraction=0.7456753549689118\n",
      "[LightGBM] [Warning] bagging_fraction is set=0.9982021506158973, subsample=0.9 will be ignored. Current value: bagging_fraction=0.9982021506158973\n",
      "[LightGBM] [Warning] bagging_freq is set=8, subsample_freq=0 will be ignored. Current value: bagging_freq=8\n",
      "Training until validation scores don't improve for 100 rounds\n",
      "[100]\ttraining's l1: 2.5422\tvalid_1's l1: 1.77067\n"
     ]
    },
    {
     "name": "stderr",
     "output_type": "stream",
     "text": [
      "\u001b[32m[I 2021-07-30 00:18:55,879]\u001b[0m Trial 88 finished with value: -1.744425720215366 and parameters: {'max_depth': 7, 'min_child_weight': 18, 'subsample': 0.9, 'colsample_bytree': 0.5, 'reg_lambda': 0.011777174946819628, 'reg_alpha': 0.037336208882824275, 'feature_fraction': 0.7456753549689118, 'bagging_fraction': 0.9982021506158973, 'bagging_freq': 8, 'num_leaves': 685, 'min_child_samples': 32}. Best is trial 87 with value: -1.7371715598574138.\u001b[0m\n"
     ]
    },
    {
     "name": "stdout",
     "output_type": "stream",
     "text": [
      "Early stopping, best iteration is:\n",
      "[33]\ttraining's l1: 2.58914\tvalid_1's l1: 1.74443\n",
      "[LightGBM] [Warning] feature_fraction is set=0.8252635252373093, colsample_bytree=0.5 will be ignored. Current value: feature_fraction=0.8252635252373093\n",
      "[LightGBM] [Warning] bagging_fraction is set=0.9225427661192587, subsample=0.9 will be ignored. Current value: bagging_fraction=0.9225427661192587\n",
      "[LightGBM] [Warning] bagging_freq is set=1, subsample_freq=0 will be ignored. Current value: bagging_freq=1\n",
      "Training until validation scores don't improve for 100 rounds\n",
      "[100]\ttraining's l1: 2.56466\tvalid_1's l1: 1.75394\n"
     ]
    },
    {
     "name": "stderr",
     "output_type": "stream",
     "text": [
      "\u001b[32m[I 2021-07-30 00:18:57,926]\u001b[0m Trial 89 finished with value: -1.737888603792006 and parameters: {'max_depth': 6, 'min_child_weight': 18, 'subsample': 0.9, 'colsample_bytree': 0.5, 'reg_lambda': 0.105479027701703, 'reg_alpha': 0.41361260629997104, 'feature_fraction': 0.8252635252373093, 'bagging_fraction': 0.9225427661192587, 'bagging_freq': 1, 'num_leaves': 841, 'min_child_samples': 14}. Best is trial 87 with value: -1.7371715598574138.\u001b[0m\n"
     ]
    },
    {
     "name": "stdout",
     "output_type": "stream",
     "text": [
      "Early stopping, best iteration is:\n",
      "[58]\ttraining's l1: 2.59243\tvalid_1's l1: 1.7379\n",
      "[LightGBM] [Warning] feature_fraction is set=0.8063966891584873, colsample_bytree=0.5 will be ignored. Current value: feature_fraction=0.8063966891584873\n",
      "[LightGBM] [Warning] bagging_fraction is set=0.9825532710571795, subsample=0.9 will be ignored. Current value: bagging_fraction=0.9825532710571795\n",
      "[LightGBM] [Warning] bagging_freq is set=1, subsample_freq=0 will be ignored. Current value: bagging_freq=1\n",
      "Training until validation scores don't improve for 100 rounds\n",
      "[100]\ttraining's l1: 2.59517\tvalid_1's l1: 1.74815\n"
     ]
    },
    {
     "name": "stderr",
     "output_type": "stream",
     "text": [
      "\u001b[32m[I 2021-07-30 00:18:59,866]\u001b[0m Trial 90 finished with value: -1.7441235637224362 and parameters: {'max_depth': 5, 'min_child_weight': 20, 'subsample': 0.9, 'colsample_bytree': 0.5, 'reg_lambda': 0.08312861700396926, 'reg_alpha': 0.11382416491657046, 'feature_fraction': 0.8063966891584873, 'bagging_fraction': 0.9825532710571795, 'bagging_freq': 1, 'num_leaves': 834, 'min_child_samples': 14}. Best is trial 87 with value: -1.7371715598574138.\u001b[0m\n"
     ]
    },
    {
     "name": "stdout",
     "output_type": "stream",
     "text": [
      "Early stopping, best iteration is:\n",
      "[67]\ttraining's l1: 2.61221\tvalid_1's l1: 1.74414\n",
      "[LightGBM] [Warning] feature_fraction is set=0.7853345897583924, colsample_bytree=0.5 will be ignored. Current value: feature_fraction=0.7853345897583924\n",
      "[LightGBM] [Warning] bagging_fraction is set=0.9209349790593029, subsample=0.9 will be ignored. Current value: bagging_fraction=0.9209349790593029\n",
      "[LightGBM] [Warning] bagging_freq is set=2, subsample_freq=0 will be ignored. Current value: bagging_freq=2\n",
      "Training until validation scores don't improve for 100 rounds\n",
      "[100]\ttraining's l1: 2.56652\tvalid_1's l1: 1.753\n"
     ]
    },
    {
     "name": "stderr",
     "output_type": "stream",
     "text": [
      "\u001b[32m[I 2021-07-30 00:19:02,074]\u001b[0m Trial 91 finished with value: -1.739778739964174 and parameters: {'max_depth': 6, 'min_child_weight': 19, 'subsample': 0.9, 'colsample_bytree': 0.5, 'reg_lambda': 0.04530673872252983, 'reg_alpha': 0.4245030084094267, 'feature_fraction': 0.7853345897583924, 'bagging_fraction': 0.9209349790593029, 'bagging_freq': 2, 'num_leaves': 972, 'min_child_samples': 18}. Best is trial 87 with value: -1.7371715598574138.\u001b[0m\n"
     ]
    },
    {
     "name": "stdout",
     "output_type": "stream",
     "text": [
      "Early stopping, best iteration is:\n",
      "[53]\ttraining's l1: 2.5933\tvalid_1's l1: 1.73979\n",
      "[LightGBM] [Warning] feature_fraction is set=0.8301057999875924, colsample_bytree=0.5 will be ignored. Current value: feature_fraction=0.8301057999875924\n",
      "[LightGBM] [Warning] bagging_fraction is set=0.9135830611466239, subsample=0.9 will be ignored. Current value: bagging_fraction=0.9135830611466239\n",
      "[LightGBM] [Warning] bagging_freq is set=2, subsample_freq=0 will be ignored. Current value: bagging_freq=2\n",
      "Training until validation scores don't improve for 100 rounds\n",
      "[100]\ttraining's l1: 2.54047\tvalid_1's l1: 1.75497\n"
     ]
    },
    {
     "name": "stderr",
     "output_type": "stream",
     "text": [
      "\u001b[32m[I 2021-07-30 00:19:04,301]\u001b[0m Trial 92 finished with value: -1.7379431989253358 and parameters: {'max_depth': 7, 'min_child_weight': 18, 'subsample': 0.9, 'colsample_bytree': 0.5, 'reg_lambda': 0.025871402349685414, 'reg_alpha': 0.34061284406810005, 'feature_fraction': 0.8301057999875924, 'bagging_fraction': 0.9135830611466239, 'bagging_freq': 2, 'num_leaves': 718, 'min_child_samples': 28}. Best is trial 87 with value: -1.7371715598574138.\u001b[0m\n"
     ]
    },
    {
     "name": "stdout",
     "output_type": "stream",
     "text": [
      "Early stopping, best iteration is:\n",
      "[28]\ttraining's l1: 2.60249\tvalid_1's l1: 1.73795\n",
      "[LightGBM] [Warning] feature_fraction is set=0.8308666743402662, colsample_bytree=0.5 will be ignored. Current value: feature_fraction=0.8308666743402662\n",
      "[LightGBM] [Warning] bagging_fraction is set=0.9619744209649148, subsample=0.9 will be ignored. Current value: bagging_fraction=0.9619744209649148\n",
      "[LightGBM] [Warning] bagging_freq is set=1, subsample_freq=0 will be ignored. Current value: bagging_freq=1\n",
      "Training until validation scores don't improve for 100 rounds\n",
      "[100]\ttraining's l1: 2.56551\tvalid_1's l1: 1.7534\n"
     ]
    },
    {
     "name": "stderr",
     "output_type": "stream",
     "text": [
      "\u001b[32m[I 2021-07-30 00:19:06,403]\u001b[0m Trial 93 finished with value: -1.7382994276188737 and parameters: {'max_depth': 6, 'min_child_weight': 18, 'subsample': 0.9, 'colsample_bytree': 0.5, 'reg_lambda': 0.026072895236339242, 'reg_alpha': 0.230417658059931, 'feature_fraction': 0.8308666743402662, 'bagging_fraction': 0.9619744209649148, 'bagging_freq': 1, 'num_leaves': 734, 'min_child_samples': 29}. Best is trial 87 with value: -1.7371715598574138.\u001b[0m\n"
     ]
    },
    {
     "name": "stdout",
     "output_type": "stream",
     "text": [
      "Early stopping, best iteration is:\n",
      "[29]\ttraining's l1: 2.62152\tvalid_1's l1: 1.7383\n",
      "[LightGBM] [Warning] feature_fraction is set=0.8196989780109607, colsample_bytree=0.5 will be ignored. Current value: feature_fraction=0.8196989780109607\n",
      "[LightGBM] [Warning] bagging_fraction is set=0.9558647897451799, subsample=0.9 will be ignored. Current value: bagging_fraction=0.9558647897451799\n",
      "[LightGBM] [Warning] bagging_freq is set=1, subsample_freq=0 will be ignored. Current value: bagging_freq=1\n",
      "Training until validation scores don't improve for 100 rounds\n",
      "[100]\ttraining's l1: 2.52969\tvalid_1's l1: 1.7578\n"
     ]
    },
    {
     "name": "stderr",
     "output_type": "stream",
     "text": [
      "\u001b[32m[I 2021-07-30 00:19:08,450]\u001b[0m Trial 94 finished with value: -1.7424282806512588 and parameters: {'max_depth': 7, 'min_child_weight': 17, 'subsample': 0.9, 'colsample_bytree': 0.5, 'reg_lambda': 0.023323880968308123, 'reg_alpha': 0.22564183168039878, 'feature_fraction': 0.8196989780109607, 'bagging_fraction': 0.9558647897451799, 'bagging_freq': 1, 'num_leaves': 845, 'min_child_samples': 28}. Best is trial 87 with value: -1.7371715598574138.\u001b[0m\n"
     ]
    },
    {
     "name": "stdout",
     "output_type": "stream",
     "text": [
      "Early stopping, best iteration is:\n",
      "[32]\ttraining's l1: 2.5933\tvalid_1's l1: 1.74243\n",
      "[LightGBM] [Warning] feature_fraction is set=0.8614603526370441, colsample_bytree=0.5 will be ignored. Current value: feature_fraction=0.8614603526370441\n",
      "[LightGBM] [Warning] bagging_fraction is set=0.9167611098207171, subsample=0.9 will be ignored. Current value: bagging_fraction=0.9167611098207171\n",
      "[LightGBM] [Warning] bagging_freq is set=2, subsample_freq=0 will be ignored. Current value: bagging_freq=2\n",
      "Training until validation scores don't improve for 100 rounds\n",
      "[100]\ttraining's l1: 2.61973\tvalid_1's l1: 1.74829\n",
      "[200]\ttraining's l1: 2.59651\tvalid_1's l1: 1.76196\n"
     ]
    },
    {
     "name": "stderr",
     "output_type": "stream",
     "text": [
      "\u001b[32m[I 2021-07-30 00:19:10,997]\u001b[0m Trial 95 finished with value: -1.746060841040589 and parameters: {'max_depth': 4, 'min_child_weight': 18, 'subsample': 0.9, 'colsample_bytree': 0.5, 'reg_lambda': 0.011877258722969781, 'reg_alpha': 0.16101968798358182, 'feature_fraction': 0.8614603526370441, 'bagging_fraction': 0.9167611098207171, 'bagging_freq': 2, 'num_leaves': 755, 'min_child_samples': 34}. Best is trial 87 with value: -1.7371715598574138.\u001b[0m\n"
     ]
    },
    {
     "name": "stdout",
     "output_type": "stream",
     "text": [
      "Early stopping, best iteration is:\n",
      "[142]\ttraining's l1: 2.6061\tvalid_1's l1: 1.74626\n",
      "[LightGBM] [Warning] feature_fraction is set=0.8314480488583021, colsample_bytree=0.5 will be ignored. Current value: feature_fraction=0.8314480488583021\n",
      "[LightGBM] [Warning] bagging_fraction is set=0.966182301796111, subsample=0.9 will be ignored. Current value: bagging_fraction=0.966182301796111\n",
      "[LightGBM] [Warning] bagging_freq is set=1, subsample_freq=0 will be ignored. Current value: bagging_freq=1\n",
      "Training until validation scores don't improve for 100 rounds\n",
      "[100]\ttraining's l1: 2.59087\tvalid_1's l1: 1.75703\n"
     ]
    },
    {
     "name": "stderr",
     "output_type": "stream",
     "text": [
      "\u001b[32m[I 2021-07-30 00:19:12,793]\u001b[0m Trial 96 finished with value: -1.7438588878925505 and parameters: {'max_depth': 5, 'min_child_weight': 19, 'subsample': 0.9, 'colsample_bytree': 0.5, 'reg_lambda': 0.03048703106403951, 'reg_alpha': 1.1999518463253684, 'feature_fraction': 0.8314480488583021, 'bagging_fraction': 0.966182301796111, 'bagging_freq': 1, 'num_leaves': 791, 'min_child_samples': 10}. Best is trial 87 with value: -1.7371715598574138.\u001b[0m\n"
     ]
    },
    {
     "name": "stdout",
     "output_type": "stream",
     "text": [
      "Early stopping, best iteration is:\n",
      "[49]\ttraining's l1: 2.62233\tvalid_1's l1: 1.74386\n",
      "[LightGBM] [Warning] feature_fraction is set=0.7761729786488574, colsample_bytree=0.5 will be ignored. Current value: feature_fraction=0.7761729786488574\n",
      "[LightGBM] [Warning] bagging_fraction is set=0.9992109970510747, subsample=0.9 will be ignored. Current value: bagging_fraction=0.9992109970510747\n",
      "[LightGBM] [Warning] bagging_freq is set=1, subsample_freq=0 will be ignored. Current value: bagging_freq=1\n",
      "Training until validation scores don't improve for 100 rounds\n",
      "[100]\ttraining's l1: 2.56574\tvalid_1's l1: 1.75114\n"
     ]
    },
    {
     "name": "stderr",
     "output_type": "stream",
     "text": [
      "\u001b[32m[I 2021-07-30 00:19:14,624]\u001b[0m Trial 97 finished with value: -1.7421812848259464 and parameters: {'max_depth': 6, 'min_child_weight': 17, 'subsample': 0.9, 'colsample_bytree': 0.5, 'reg_lambda': 0.015201733020828967, 'reg_alpha': 0.01501857870522554, 'feature_fraction': 0.7761729786488574, 'bagging_fraction': 0.9992109970510747, 'bagging_freq': 1, 'num_leaves': 674, 'min_child_samples': 30}. Best is trial 87 with value: -1.7371715598574138.\u001b[0m\n"
     ]
    },
    {
     "name": "stdout",
     "output_type": "stream",
     "text": [
      "Early stopping, best iteration is:\n",
      "[32]\ttraining's l1: 2.61868\tvalid_1's l1: 1.74219\n",
      "[LightGBM] [Warning] feature_fraction is set=0.8556478823589032, colsample_bytree=0.5 will be ignored. Current value: feature_fraction=0.8556478823589032\n",
      "[LightGBM] [Warning] bagging_fraction is set=0.9454514238728929, subsample=0.9 will be ignored. Current value: bagging_fraction=0.9454514238728929\n",
      "[LightGBM] [Warning] bagging_freq is set=2, subsample_freq=0 will be ignored. Current value: bagging_freq=2\n",
      "Training until validation scores don't improve for 100 rounds\n",
      "[100]\ttraining's l1: 2.54148\tvalid_1's l1: 1.76355\n"
     ]
    },
    {
     "name": "stderr",
     "output_type": "stream",
     "text": [
      "\u001b[32m[I 2021-07-30 00:19:16,920]\u001b[0m Trial 98 finished with value: -1.7391579390743068 and parameters: {'max_depth': 7, 'min_child_weight': 16, 'subsample': 0.9, 'colsample_bytree': 0.5, 'reg_lambda': 0.10024328055565587, 'reg_alpha': 0.08138693070923794, 'feature_fraction': 0.8556478823589032, 'bagging_fraction': 0.9454514238728929, 'bagging_freq': 2, 'num_leaves': 648, 'min_child_samples': 25}. Best is trial 87 with value: -1.7371715598574138.\u001b[0m\n"
     ]
    },
    {
     "name": "stdout",
     "output_type": "stream",
     "text": [
      "Early stopping, best iteration is:\n",
      "[31]\ttraining's l1: 2.59401\tvalid_1's l1: 1.73918\n",
      "[LightGBM] [Warning] feature_fraction is set=0.7489535489877825, colsample_bytree=0.5 will be ignored. Current value: feature_fraction=0.7489535489877825\n",
      "[LightGBM] [Warning] bagging_fraction is set=0.8655854851373638, subsample=0.9 will be ignored. Current value: bagging_fraction=0.8655854851373638\n",
      "[LightGBM] [Warning] bagging_freq is set=2, subsample_freq=0 will be ignored. Current value: bagging_freq=2\n",
      "Training until validation scores don't improve for 100 rounds\n",
      "[100]\ttraining's l1: 2.56456\tvalid_1's l1: 1.75438\n"
     ]
    },
    {
     "name": "stderr",
     "output_type": "stream",
     "text": [
      "\u001b[32m[I 2021-07-30 00:19:18,942]\u001b[0m Trial 99 finished with value: -1.7410355254034233 and parameters: {'max_depth': 6, 'min_child_weight': 18, 'subsample': 0.9, 'colsample_bytree': 0.5, 'reg_lambda': 0.006926456113772805, 'reg_alpha': 0.6225797645529099, 'feature_fraction': 0.7489535489877825, 'bagging_fraction': 0.8655854851373638, 'bagging_freq': 2, 'num_leaves': 903, 'min_child_samples': 20}. Best is trial 87 with value: -1.7371715598574138.\u001b[0m\n",
      "\u001b[32m[I 2021-07-30 00:19:18,943]\u001b[0m A new study created in memory with name: no-name-69b9b88b-01f9-4548-8c48-66d283cb9ca4\u001b[0m\n"
     ]
    },
    {
     "name": "stdout",
     "output_type": "stream",
     "text": [
      "Early stopping, best iteration is:\n",
      "[41]\ttraining's l1: 2.60169\tvalid_1's l1: 1.74104\n",
      "[LightGBM] [Warning] feature_fraction is set=0.24652878450590487, colsample_bytree=0.8 will be ignored. Current value: feature_fraction=0.24652878450590487\n",
      "[LightGBM] [Warning] bagging_fraction is set=0.24627745589656735, subsample=0.7 will be ignored. Current value: bagging_fraction=0.24627745589656735\n",
      "[LightGBM] [Warning] bagging_freq is set=14, subsample_freq=0 will be ignored. Current value: bagging_freq=14\n",
      "Training until validation scores don't improve for 100 rounds\n",
      "[100]\ttraining's l1: 2.19032\tvalid_1's l1: 2.06773\n",
      "[200]\ttraining's l1: 2.1646\tvalid_1's l1: 2.05366\n"
     ]
    },
    {
     "name": "stderr",
     "output_type": "stream",
     "text": [
      "\u001b[32m[I 2021-07-30 00:19:20,131]\u001b[0m Trial 0 finished with value: -2.0536049646465004 and parameters: {'max_depth': 4, 'min_child_weight': 11, 'subsample': 0.7, 'colsample_bytree': 0.8, 'reg_lambda': 876.4573266266681, 'reg_alpha': 335.16531764279097, 'feature_fraction': 0.24652878450590487, 'bagging_fraction': 0.24627745589656735, 'bagging_freq': 14, 'num_leaves': 201, 'min_child_samples': 26}. Best is trial 0 with value: -2.0536049646465004.\u001b[0m\n"
     ]
    },
    {
     "name": "stdout",
     "output_type": "stream",
     "text": [
      "Early stopping, best iteration is:\n",
      "[164]\ttraining's l1: 2.1646\tvalid_1's l1: 2.05366\n",
      "[LightGBM] [Warning] feature_fraction is set=0.8173339083884066, colsample_bytree=0.9 will be ignored. Current value: feature_fraction=0.8173339083884066\n",
      "[LightGBM] [Warning] bagging_fraction is set=0.44980977953484375, subsample=0.7 will be ignored. Current value: bagging_fraction=0.44980977953484375\n",
      "[LightGBM] [Warning] bagging_freq is set=10, subsample_freq=0 will be ignored. Current value: bagging_freq=10\n",
      "Training until validation scores don't improve for 100 rounds\n",
      "[100]\ttraining's l1: 2.05571\tvalid_1's l1: 2.05424\n"
     ]
    },
    {
     "name": "stderr",
     "output_type": "stream",
     "text": [
      "\u001b[32m[I 2021-07-30 00:19:21,745]\u001b[0m Trial 1 finished with value: -2.054151450607277 and parameters: {'max_depth': 5, 'min_child_weight': 20, 'subsample': 0.7, 'colsample_bytree': 0.9, 'reg_lambda': 2.8393846984433844, 'reg_alpha': 74.28277617524462, 'feature_fraction': 0.8173339083884066, 'bagging_fraction': 0.44980977953484375, 'bagging_freq': 10, 'num_leaves': 482, 'min_child_samples': 66}. Best is trial 0 with value: -2.0536049646465004.\u001b[0m\n"
     ]
    },
    {
     "name": "stdout",
     "output_type": "stream",
     "text": [
      "Early stopping, best iteration is:\n",
      "[99]\ttraining's l1: 2.05633\tvalid_1's l1: 2.05423\n",
      "[LightGBM] [Warning] feature_fraction is set=0.22251217976158905, colsample_bytree=0.7 will be ignored. Current value: feature_fraction=0.22251217976158905\n",
      "[LightGBM] [Warning] bagging_fraction is set=0.47581257452003217, subsample=0.6 will be ignored. Current value: bagging_fraction=0.47581257452003217\n",
      "[LightGBM] [Warning] bagging_freq is set=3, subsample_freq=0 will be ignored. Current value: bagging_freq=3\n",
      "Training until validation scores don't improve for 100 rounds\n",
      "[100]\ttraining's l1: 2.16413\tvalid_1's l1: 2.06975\n"
     ]
    },
    {
     "name": "stderr",
     "output_type": "stream",
     "text": [
      "\u001b[32m[I 2021-07-30 00:19:23,349]\u001b[0m Trial 2 finished with value: -2.0623518189733474 and parameters: {'max_depth': 5, 'min_child_weight': 12, 'subsample': 0.6, 'colsample_bytree': 0.7, 'reg_lambda': 110.97652497216855, 'reg_alpha': 536.3172207078301, 'feature_fraction': 0.22251217976158905, 'bagging_fraction': 0.47581257452003217, 'bagging_freq': 3, 'num_leaves': 273, 'min_child_samples': 43}. Best is trial 0 with value: -2.0536049646465004.\u001b[0m\n"
     ]
    },
    {
     "name": "stdout",
     "output_type": "stream",
     "text": [
      "[200]\ttraining's l1: 2.14002\tvalid_1's l1: 2.06236\n",
      "Early stopping, best iteration is:\n",
      "[171]\ttraining's l1: 2.14002\tvalid_1's l1: 2.06236\n",
      "[LightGBM] [Warning] feature_fraction is set=0.43445795578190743, colsample_bytree=0.9 will be ignored. Current value: feature_fraction=0.43445795578190743\n",
      "[LightGBM] [Warning] bagging_fraction is set=0.2103028072255495, subsample=0.6 will be ignored. Current value: bagging_fraction=0.2103028072255495\n",
      "[LightGBM] [Warning] bagging_freq is set=11, subsample_freq=0 will be ignored. Current value: bagging_freq=11\n",
      "Training until validation scores don't improve for 100 rounds\n",
      "[100]\ttraining's l1: 1.71611\tvalid_1's l1: 2.18882\n"
     ]
    },
    {
     "name": "stderr",
     "output_type": "stream",
     "text": [
      "\u001b[32m[I 2021-07-30 00:19:26,738]\u001b[0m Trial 3 finished with value: -2.1016474000467587 and parameters: {'max_depth': 18, 'min_child_weight': 19, 'subsample': 0.6, 'colsample_bytree': 0.9, 'reg_lambda': 0.11954546529416715, 'reg_alpha': 0.019283345138919016, 'feature_fraction': 0.43445795578190743, 'bagging_fraction': 0.2103028072255495, 'bagging_freq': 11, 'num_leaves': 871, 'min_child_samples': 29}. Best is trial 0 with value: -2.0536049646465004.\u001b[0m\n"
     ]
    },
    {
     "name": "stdout",
     "output_type": "stream",
     "text": [
      "Early stopping, best iteration is:\n",
      "[21]\ttraining's l1: 2.00317\tvalid_1's l1: 2.10165\n",
      "[LightGBM] [Warning] feature_fraction is set=0.3175202746397598, colsample_bytree=0.5 will be ignored. Current value: feature_fraction=0.3175202746397598\n",
      "[LightGBM] [Warning] bagging_fraction is set=0.546623657249422, subsample=0.6 will be ignored. Current value: bagging_fraction=0.546623657249422\n",
      "[LightGBM] [Warning] bagging_freq is set=7, subsample_freq=0 will be ignored. Current value: bagging_freq=7\n",
      "Training until validation scores don't improve for 100 rounds\n",
      "[100]\ttraining's l1: 2.10946\tvalid_1's l1: 2.07229\n"
     ]
    },
    {
     "name": "stderr",
     "output_type": "stream",
     "text": [
      "\u001b[32m[I 2021-07-30 00:19:28,116]\u001b[0m Trial 4 finished with value: -2.056073044025986 and parameters: {'max_depth': 4, 'min_child_weight': 1, 'subsample': 0.6, 'colsample_bytree': 0.5, 'reg_lambda': 1.456654549120032, 'reg_alpha': 31.69002353193071, 'feature_fraction': 0.3175202746397598, 'bagging_fraction': 0.546623657249422, 'bagging_freq': 7, 'num_leaves': 698, 'min_child_samples': 72}. Best is trial 0 with value: -2.0536049646465004.\u001b[0m\n"
     ]
    },
    {
     "name": "stdout",
     "output_type": "stream",
     "text": [
      "Early stopping, best iteration is:\n",
      "[58]\ttraining's l1: 2.15859\tvalid_1's l1: 2.05607\n",
      "[LightGBM] [Warning] feature_fraction is set=0.7583560508558977, colsample_bytree=0.7 will be ignored. Current value: feature_fraction=0.7583560508558977\n",
      "[LightGBM] [Warning] bagging_fraction is set=0.7583754673093765, subsample=0.9 will be ignored. Current value: bagging_fraction=0.7583754673093765\n",
      "[LightGBM] [Warning] bagging_freq is set=4, subsample_freq=0 will be ignored. Current value: bagging_freq=4\n",
      "Training until validation scores don't improve for 100 rounds\n",
      "[100]\ttraining's l1: 1.96175\tvalid_1's l1: 2.07992\n"
     ]
    },
    {
     "name": "stderr",
     "output_type": "stream",
     "text": [
      "\u001b[32m[I 2021-07-30 00:19:30,365]\u001b[0m Trial 5 finished with value: -2.0611514744733213 and parameters: {'max_depth': 13, 'min_child_weight': 7, 'subsample': 0.9, 'colsample_bytree': 0.7, 'reg_lambda': 214.50146372037435, 'reg_alpha': 262.30981995640974, 'feature_fraction': 0.7583560508558977, 'bagging_fraction': 0.7583754673093765, 'bagging_freq': 4, 'num_leaves': 761, 'min_child_samples': 21}. Best is trial 0 with value: -2.0536049646465004.\u001b[0m\n"
     ]
    },
    {
     "name": "stdout",
     "output_type": "stream",
     "text": [
      "Early stopping, best iteration is:\n",
      "[50]\ttraining's l1: 2.03121\tvalid_1's l1: 2.06117\n",
      "[LightGBM] [Warning] feature_fraction is set=0.20921491113952115, colsample_bytree=0.5 will be ignored. Current value: feature_fraction=0.20921491113952115\n",
      "[LightGBM] [Warning] bagging_fraction is set=0.7965541161021554, subsample=0.6 will be ignored. Current value: bagging_fraction=0.7965541161021554\n",
      "[LightGBM] [Warning] bagging_freq is set=7, subsample_freq=0 will be ignored. Current value: bagging_freq=7\n",
      "Training until validation scores don't improve for 100 rounds\n",
      "[100]\ttraining's l1: 2.22548\tvalid_1's l1: 2.05493\n",
      "[200]\ttraining's l1: 2.17663\tvalid_1's l1: 2.04398\n",
      "[300]\ttraining's l1: 2.14927\tvalid_1's l1: 2.04446\n"
     ]
    },
    {
     "name": "stderr",
     "output_type": "stream",
     "text": [
      "\u001b[32m[I 2021-07-30 00:19:32,801]\u001b[0m Trial 6 finished with value: -2.041947640462735 and parameters: {'max_depth': 2, 'min_child_weight': 4, 'subsample': 0.6, 'colsample_bytree': 0.5, 'reg_lambda': 1.9484581047446867, 'reg_alpha': 0.013433790984240763, 'feature_fraction': 0.20921491113952115, 'bagging_fraction': 0.7965541161021554, 'bagging_freq': 7, 'num_leaves': 244, 'min_child_samples': 48}. Best is trial 6 with value: -2.041947640462735.\u001b[0m\n"
     ]
    },
    {
     "name": "stdout",
     "output_type": "stream",
     "text": [
      "Early stopping, best iteration is:\n",
      "[239]\ttraining's l1: 2.16464\tvalid_1's l1: 2.04198\n",
      "[LightGBM] [Warning] feature_fraction is set=0.9901169679888029, colsample_bytree=0.7 will be ignored. Current value: feature_fraction=0.9901169679888029\n",
      "[LightGBM] [Warning] bagging_fraction is set=0.9396749816640859, subsample=0.5 will be ignored. Current value: bagging_fraction=0.9396749816640859\n",
      "[LightGBM] [Warning] bagging_freq is set=12, subsample_freq=0 will be ignored. Current value: bagging_freq=12\n",
      "Training until validation scores don't improve for 100 rounds\n",
      "[100]\ttraining's l1: 1.6201\tvalid_1's l1: 2.16282\n"
     ]
    },
    {
     "name": "stderr",
     "output_type": "stream",
     "text": [
      "\u001b[32m[I 2021-07-30 00:19:36,664]\u001b[0m Trial 7 finished with value: -2.0805170156218193 and parameters: {'max_depth': 10, 'min_child_weight': 4, 'subsample': 0.5, 'colsample_bytree': 0.7, 'reg_lambda': 0.009010788929777335, 'reg_alpha': 0.971424998257092, 'feature_fraction': 0.9901169679888029, 'bagging_fraction': 0.9396749816640859, 'bagging_freq': 12, 'num_leaves': 379, 'min_child_samples': 25}. Best is trial 6 with value: -2.041947640462735.\u001b[0m\n"
     ]
    },
    {
     "name": "stdout",
     "output_type": "stream",
     "text": [
      "Early stopping, best iteration is:\n",
      "[32]\ttraining's l1: 1.90324\tvalid_1's l1: 2.08052\n",
      "[LightGBM] [Warning] feature_fraction is set=0.8944600906925635, colsample_bytree=0.9 will be ignored. Current value: feature_fraction=0.8944600906925635\n",
      "[LightGBM] [Warning] bagging_fraction is set=0.636769261291666, subsample=0.6 will be ignored. Current value: bagging_fraction=0.636769261291666\n",
      "[LightGBM] [Warning] bagging_freq is set=4, subsample_freq=0 will be ignored. Current value: bagging_freq=4\n",
      "Training until validation scores don't improve for 100 rounds\n",
      "[100]\ttraining's l1: 2.2099\tvalid_1's l1: 2.05497\n",
      "[200]\ttraining's l1: 2.16884\tvalid_1's l1: 2.05134\n",
      "[300]\ttraining's l1: 2.14222\tvalid_1's l1: 2.04908\n"
     ]
    },
    {
     "name": "stderr",
     "output_type": "stream",
     "text": [
      "\u001b[32m[I 2021-07-30 00:19:39,197]\u001b[0m Trial 8 finished with value: -2.0474640817139282 and parameters: {'max_depth': 2, 'min_child_weight': 10, 'subsample': 0.6, 'colsample_bytree': 0.9, 'reg_lambda': 85.11952289226062, 'reg_alpha': 0.004905952666113618, 'feature_fraction': 0.8944600906925635, 'bagging_fraction': 0.636769261291666, 'bagging_freq': 4, 'num_leaves': 426, 'min_child_samples': 48}. Best is trial 6 with value: -2.041947640462735.\u001b[0m\n"
     ]
    },
    {
     "name": "stdout",
     "output_type": "stream",
     "text": [
      "Early stopping, best iteration is:\n",
      "[276]\ttraining's l1: 2.14873\tvalid_1's l1: 2.04755\n",
      "[LightGBM] [Warning] feature_fraction is set=0.8177922887776523, colsample_bytree=0.8 will be ignored. Current value: feature_fraction=0.8177922887776523\n",
      "[LightGBM] [Warning] bagging_fraction is set=0.6448122757511905, subsample=0.9 will be ignored. Current value: bagging_fraction=0.6448122757511905\n",
      "[LightGBM] [Warning] bagging_freq is set=12, subsample_freq=0 will be ignored. Current value: bagging_freq=12\n",
      "Training until validation scores don't improve for 100 rounds\n",
      "[100]\ttraining's l1: 2.28869\tvalid_1's l1: 2.08716\n",
      "[200]\ttraining's l1: 2.25548\tvalid_1's l1: 2.06311\n",
      "[300]\ttraining's l1: 2.2413\tvalid_1's l1: 2.05832\n",
      "[400]\ttraining's l1: 2.23277\tvalid_1's l1: 2.05207\n",
      "[500]\ttraining's l1: 2.2246\tvalid_1's l1: 2.04717\n",
      "[600]\ttraining's l1: 2.22054\tvalid_1's l1: 2.04549\n",
      "[700]\ttraining's l1: 2.21685\tvalid_1's l1: 2.0456\n",
      "[800]\ttraining's l1: 2.21337\tvalid_1's l1: 2.04323\n"
     ]
    },
    {
     "name": "stderr",
     "output_type": "stream",
     "text": [
      "\u001b[32m[I 2021-07-30 00:19:43,077]\u001b[0m Trial 9 finished with value: -2.0424424478636087 and parameters: {'max_depth': 1, 'min_child_weight': 3, 'subsample': 0.9, 'colsample_bytree': 0.8, 'reg_lambda': 0.11133569293455356, 'reg_alpha': 116.45158219788658, 'feature_fraction': 0.8177922887776523, 'bagging_fraction': 0.6448122757511905, 'bagging_freq': 12, 'num_leaves': 112, 'min_child_samples': 43}. Best is trial 6 with value: -2.041947640462735.\u001b[0m\n"
     ]
    },
    {
     "name": "stdout",
     "output_type": "stream",
     "text": [
      "[900]\ttraining's l1: 2.2107\tvalid_1's l1: 2.04361\n",
      "Early stopping, best iteration is:\n",
      "[830]\ttraining's l1: 2.21251\tvalid_1's l1: 2.04254\n",
      "[LightGBM] [Warning] feature_fraction is set=0.537665046708067, colsample_bytree=0.5 will be ignored. Current value: feature_fraction=0.537665046708067\n",
      "[LightGBM] [Warning] bagging_fraction is set=0.9117227235318797, subsample=0.8 will be ignored. Current value: bagging_fraction=0.9117227235318797\n",
      "[LightGBM] [Warning] bagging_freq is set=19, subsample_freq=0 will be ignored. Current value: bagging_freq=19\n",
      "Training until validation scores don't improve for 100 rounds\n",
      "[100]\ttraining's l1: 2.03464\tvalid_1's l1: 2.07356\n"
     ]
    },
    {
     "name": "stderr",
     "output_type": "stream",
     "text": [
      "\u001b[32m[I 2021-07-30 00:19:45,395]\u001b[0m Trial 10 finished with value: -2.0464854399525554 and parameters: {'max_depth': 9, 'min_child_weight': 15, 'subsample': 0.8, 'colsample_bytree': 0.5, 'reg_lambda': 0.0011298304749992147, 'reg_alpha': 0.14648690323353078, 'feature_fraction': 0.537665046708067, 'bagging_fraction': 0.9117227235318797, 'bagging_freq': 19, 'num_leaves': 23, 'min_child_samples': 98}. Best is trial 6 with value: -2.041947640462735.\u001b[0m\n"
     ]
    },
    {
     "name": "stdout",
     "output_type": "stream",
     "text": [
      "Early stopping, best iteration is:\n",
      "[55]\ttraining's l1: 2.10483\tvalid_1's l1: 2.04649\n",
      "[LightGBM] [Warning] feature_fraction is set=0.6494495543298459, colsample_bytree=0.6 will be ignored. Current value: feature_fraction=0.6494495543298459\n",
      "[LightGBM] [Warning] bagging_fraction is set=0.7244124079757801, subsample=0.9 will be ignored. Current value: bagging_fraction=0.7244124079757801\n",
      "[LightGBM] [Warning] bagging_freq is set=16, subsample_freq=0 will be ignored. Current value: bagging_freq=16\n",
      "Training until validation scores don't improve for 100 rounds\n",
      "[100]\ttraining's l1: 2.28052\tvalid_1's l1: 2.07809\n",
      "[200]\ttraining's l1: 2.25193\tvalid_1's l1: 2.05778\n",
      "[300]\ttraining's l1: 2.23431\tvalid_1's l1: 2.04784\n",
      "[400]\ttraining's l1: 2.2248\tvalid_1's l1: 2.04361\n",
      "[500]\ttraining's l1: 2.21787\tvalid_1's l1: 2.04265\n",
      "[600]\ttraining's l1: 2.2109\tvalid_1's l1: 2.04279\n",
      "[700]\ttraining's l1: 2.20425\tvalid_1's l1: 2.04291\n",
      "Early stopping, best iteration is:\n",
      "[647]\ttraining's l1: 2.20702\tvalid_1's l1: 2.04047\n"
     ]
    },
    {
     "name": "stderr",
     "output_type": "stream",
     "text": [
      "\u001b[32m[I 2021-07-30 00:19:49,293]\u001b[0m Trial 11 finished with value: -2.040359688248771 and parameters: {'max_depth': 1, 'min_child_weight': 1, 'subsample': 0.9, 'colsample_bytree': 0.6, 'reg_lambda': 0.09935945712309459, 'reg_alpha': 5.946135865781766, 'feature_fraction': 0.6494495543298459, 'bagging_fraction': 0.7244124079757801, 'bagging_freq': 16, 'num_leaves': 58, 'min_child_samples': 65}. Best is trial 11 with value: -2.040359688248771.\u001b[0m\n"
     ]
    },
    {
     "name": "stdout",
     "output_type": "stream",
     "text": [
      "[LightGBM] [Warning] feature_fraction is set=0.6490112962684209, colsample_bytree=0.6 will be ignored. Current value: feature_fraction=0.6490112962684209\n",
      "[LightGBM] [Warning] bagging_fraction is set=0.8117037255601022, subsample=0.5 will be ignored. Current value: bagging_fraction=0.8117037255601022\n",
      "[LightGBM] [Warning] bagging_freq is set=18, subsample_freq=0 will be ignored. Current value: bagging_freq=18\n",
      "Training until validation scores don't improve for 100 rounds\n",
      "[100]\ttraining's l1: 2.28116\tvalid_1's l1: 2.07801\n",
      "[200]\ttraining's l1: 2.2517\tvalid_1's l1: 2.05656\n",
      "[300]\ttraining's l1: 2.23489\tvalid_1's l1: 2.04978\n",
      "[400]\ttraining's l1: 2.22507\tvalid_1's l1: 2.04612\n",
      "[500]\ttraining's l1: 2.21622\tvalid_1's l1: 2.04345\n",
      "[600]\ttraining's l1: 2.21039\tvalid_1's l1: 2.04139\n",
      "[700]\ttraining's l1: 2.20541\tvalid_1's l1: 2.04205\n"
     ]
    },
    {
     "name": "stderr",
     "output_type": "stream",
     "text": [
      "\u001b[32m[I 2021-07-30 00:19:53,916]\u001b[0m Trial 12 finished with value: -2.039882363390348 and parameters: {'max_depth': 1, 'min_child_weight': 1, 'subsample': 0.5, 'colsample_bytree': 0.6, 'reg_lambda': 5.844306742379091, 'reg_alpha': 5.686314477312516, 'feature_fraction': 0.6490112962684209, 'bagging_fraction': 0.8117037255601022, 'bagging_freq': 18, 'num_leaves': 32, 'min_child_samples': 72}. Best is trial 12 with value: -2.039882363390348.\u001b[0m\n"
     ]
    },
    {
     "name": "stdout",
     "output_type": "stream",
     "text": [
      "[800]\ttraining's l1: 2.2003\tvalid_1's l1: 2.04327\n",
      "Early stopping, best iteration is:\n",
      "[723]\ttraining's l1: 2.20363\tvalid_1's l1: 2.03999\n",
      "[LightGBM] [Warning] feature_fraction is set=0.6446611653968218, colsample_bytree=0.6 will be ignored. Current value: feature_fraction=0.6446611653968218\n",
      "[LightGBM] [Warning] bagging_fraction is set=0.806724897982366, subsample=0.8 will be ignored. Current value: bagging_fraction=0.806724897982366\n",
      "[LightGBM] [Warning] bagging_freq is set=20, subsample_freq=0 will be ignored. Current value: bagging_freq=20\n",
      "Training until validation scores don't improve for 100 rounds\n",
      "[100]\ttraining's l1: 1.99647\tvalid_1's l1: 2.06832\n"
     ]
    },
    {
     "name": "stderr",
     "output_type": "stream",
     "text": [
      "\u001b[32m[I 2021-07-30 00:19:56,009]\u001b[0m Trial 13 finished with value: -2.0404825296868467 and parameters: {'max_depth': 8, 'min_child_weight': 2, 'subsample': 0.8, 'colsample_bytree': 0.6, 'reg_lambda': 0.10027835171911458, 'reg_alpha': 6.17468382288152, 'feature_fraction': 0.6446611653968218, 'bagging_fraction': 0.806724897982366, 'bagging_freq': 20, 'num_leaves': 30, 'min_child_samples': 85}. Best is trial 12 with value: -2.039882363390348.\u001b[0m\n"
     ]
    },
    {
     "name": "stdout",
     "output_type": "stream",
     "text": [
      "Early stopping, best iteration is:\n",
      "[58]\ttraining's l1: 2.0667\tvalid_1's l1: 2.04053\n",
      "[LightGBM] [Warning] feature_fraction is set=0.6456240110264857, colsample_bytree=0.6 will be ignored. Current value: feature_fraction=0.6456240110264857\n",
      "[LightGBM] [Warning] bagging_fraction is set=0.9945959254389731, subsample=0.5 will be ignored. Current value: bagging_fraction=0.9945959254389731\n",
      "[LightGBM] [Warning] bagging_freq is set=17, subsample_freq=0 will be ignored. Current value: bagging_freq=17\n",
      "Training until validation scores don't improve for 100 rounds\n",
      "[100]\ttraining's l1: 2.09847\tvalid_1's l1: 2.05042\n"
     ]
    },
    {
     "name": "stderr",
     "output_type": "stream",
     "text": [
      "\u001b[32m[I 2021-07-30 00:19:58,302]\u001b[0m Trial 14 finished with value: -2.0473854167081043 and parameters: {'max_depth': 14, 'min_child_weight': 7, 'subsample': 0.5, 'colsample_bytree': 0.6, 'reg_lambda': 14.838178121798592, 'reg_alpha': 2.9237733142519193, 'feature_fraction': 0.6456240110264857, 'bagging_fraction': 0.9945959254389731, 'bagging_freq': 17, 'num_leaves': 13, 'min_child_samples': 67}. Best is trial 12 with value: -2.039882363390348.\u001b[0m\n"
     ]
    },
    {
     "name": "stdout",
     "output_type": "stream",
     "text": [
      "Early stopping, best iteration is:\n",
      "[87]\ttraining's l1: 2.11219\tvalid_1's l1: 2.04744\n",
      "[LightGBM] [Warning] feature_fraction is set=0.4751147358061164, colsample_bytree=0.6 will be ignored. Current value: feature_fraction=0.4751147358061164\n",
      "[LightGBM] [Warning] bagging_fraction is set=0.7074994739868123, subsample=0.8 will be ignored. Current value: bagging_fraction=0.7074994739868123\n",
      "[LightGBM] [Warning] bagging_freq is set=16, subsample_freq=0 will be ignored. Current value: bagging_freq=16\n",
      "Training until validation scores don't improve for 100 rounds\n",
      "[100]\ttraining's l1: 2.2825\tvalid_1's l1: 2.07852\n",
      "[200]\ttraining's l1: 2.25291\tvalid_1's l1: 2.05794\n",
      "[300]\ttraining's l1: 2.2347\tvalid_1's l1: 2.04735\n",
      "[400]\ttraining's l1: 2.22531\tvalid_1's l1: 2.04524\n",
      "[500]\ttraining's l1: 2.21661\tvalid_1's l1: 2.04299\n",
      "[600]\ttraining's l1: 2.2094\tvalid_1's l1: 2.04382\n",
      "[700]\ttraining's l1: 2.20455\tvalid_1's l1: 2.04117\n"
     ]
    },
    {
     "name": "stderr",
     "output_type": "stream",
     "text": [
      "\u001b[32m[I 2021-07-30 00:20:03,778]\u001b[0m Trial 15 finished with value: -2.0398843909782256 and parameters: {'max_depth': 1, 'min_child_weight': 1, 'subsample': 0.8, 'colsample_bytree': 0.6, 'reg_lambda': 0.015300895010450287, 'reg_alpha': 0.3814588273194311, 'feature_fraction': 0.4751147358061164, 'bagging_fraction': 0.7074994739868123, 'bagging_freq': 16, 'num_leaves': 135, 'min_child_samples': 83}. Best is trial 12 with value: -2.039882363390348.\u001b[0m\n"
     ]
    },
    {
     "name": "stdout",
     "output_type": "stream",
     "text": [
      "[800]\ttraining's l1: 2.19962\tvalid_1's l1: 2.04161\n",
      "Early stopping, best iteration is:\n",
      "[716]\ttraining's l1: 2.20346\tvalid_1's l1: 2.04001\n",
      "[LightGBM] [Warning] feature_fraction is set=0.47643169179646555, colsample_bytree=0.6 will be ignored. Current value: feature_fraction=0.47643169179646555\n",
      "[LightGBM] [Warning] bagging_fraction is set=0.8429296451288869, subsample=0.8 will be ignored. Current value: bagging_fraction=0.8429296451288869\n",
      "[LightGBM] [Warning] bagging_freq is set=17, subsample_freq=0 will be ignored. Current value: bagging_freq=17\n",
      "Training until validation scores don't improve for 100 rounds\n",
      "[100]\ttraining's l1: 1.61585\tvalid_1's l1: 2.15132\n"
     ]
    },
    {
     "name": "stderr",
     "output_type": "stream",
     "text": [
      "\u001b[32m[I 2021-07-30 00:20:08,755]\u001b[0m Trial 16 finished with value: -2.094249357207794 and parameters: {'max_depth': 20, 'min_child_weight': 7, 'subsample': 0.8, 'colsample_bytree': 0.6, 'reg_lambda': 0.019604779911753814, 'reg_alpha': 0.21506148167309755, 'feature_fraction': 0.47643169179646555, 'bagging_fraction': 0.8429296451288869, 'bagging_freq': 17, 'num_leaves': 590, 'min_child_samples': 99}. Best is trial 12 with value: -2.039882363390348.\u001b[0m\n"
     ]
    },
    {
     "name": "stdout",
     "output_type": "stream",
     "text": [
      "Early stopping, best iteration is:\n",
      "[22]\ttraining's l1: 1.93983\tvalid_1's l1: 2.09425\n",
      "[LightGBM] [Warning] feature_fraction is set=0.38639502254137015, colsample_bytree=0.6 will be ignored. Current value: feature_fraction=0.38639502254137015\n",
      "[LightGBM] [Warning] bagging_fraction is set=0.6914649596915754, subsample=0.8 will be ignored. Current value: bagging_fraction=0.6914649596915754\n",
      "[LightGBM] [Warning] bagging_freq is set=20, subsample_freq=0 will be ignored. Current value: bagging_freq=20\n",
      "Training until validation scores don't improve for 100 rounds\n",
      "[100]\ttraining's l1: 1.92729\tvalid_1's l1: 2.1018\n"
     ]
    },
    {
     "name": "stderr",
     "output_type": "stream",
     "text": [
      "\u001b[32m[I 2021-07-30 00:20:10,588]\u001b[0m Trial 17 finished with value: -2.0567346572832257 and parameters: {'max_depth': 7, 'min_child_weight': 5, 'subsample': 0.8, 'colsample_bytree': 0.6, 'reg_lambda': 0.0024788124517537307, 'reg_alpha': 0.18938304456468188, 'feature_fraction': 0.38639502254137015, 'bagging_fraction': 0.6914649596915754, 'bagging_freq': 20, 'num_leaves': 173, 'min_child_samples': 84}. Best is trial 12 with value: -2.039882363390348.\u001b[0m\n"
     ]
    },
    {
     "name": "stdout",
     "output_type": "stream",
     "text": [
      "Early stopping, best iteration is:\n",
      "[35]\ttraining's l1: 2.06286\tvalid_1's l1: 2.05673\n",
      "[LightGBM] [Warning] feature_fraction is set=0.5096149803067284, colsample_bytree=0.5 will be ignored. Current value: feature_fraction=0.5096149803067284\n",
      "[LightGBM] [Warning] bagging_fraction is set=0.5486845649053874, subsample=0.7 will be ignored. Current value: bagging_fraction=0.5486845649053874\n",
      "[LightGBM] [Warning] bagging_freq is set=15, subsample_freq=0 will be ignored. Current value: bagging_freq=15\n",
      "Training until validation scores don't improve for 100 rounds\n",
      "[100]\ttraining's l1: 1.75241\tvalid_1's l1: 2.1536\n"
     ]
    },
    {
     "name": "stderr",
     "output_type": "stream",
     "text": [
      "\u001b[32m[I 2021-07-30 00:20:13,722]\u001b[0m Trial 18 finished with value: -2.0846060303574836 and parameters: {'max_depth': 13, 'min_child_weight': 1, 'subsample': 0.7, 'colsample_bytree': 0.5, 'reg_lambda': 7.793972145906131, 'reg_alpha': 1.157836761694887, 'feature_fraction': 0.5096149803067284, 'bagging_fraction': 0.5486845649053874, 'bagging_freq': 15, 'num_leaves': 341, 'min_child_samples': 84}. Best is trial 12 with value: -2.039882363390348.\u001b[0m\n"
     ]
    },
    {
     "name": "stdout",
     "output_type": "stream",
     "text": [
      "Early stopping, best iteration is:\n",
      "[32]\ttraining's l1: 1.93129\tvalid_1's l1: 2.08461\n",
      "[LightGBM] [Warning] feature_fraction is set=0.5675523653985001, colsample_bytree=0.8 will be ignored. Current value: feature_fraction=0.5675523653985001\n",
      "[LightGBM] [Warning] bagging_fraction is set=0.8715979124573581, subsample=0.5 will be ignored. Current value: bagging_fraction=0.8715979124573581\n",
      "[LightGBM] [Warning] bagging_freq is set=18, subsample_freq=0 will be ignored. Current value: bagging_freq=18\n",
      "Training until validation scores don't improve for 100 rounds\n",
      "[100]\ttraining's l1: 1.97142\tvalid_1's l1: 2.08262\n"
     ]
    },
    {
     "name": "stderr",
     "output_type": "stream",
     "text": [
      "\u001b[32m[I 2021-07-30 00:20:16,054]\u001b[0m Trial 19 finished with value: -2.049337622314492 and parameters: {'max_depth': 6, 'min_child_weight': 17, 'subsample': 0.5, 'colsample_bytree': 0.8, 'reg_lambda': 0.4398356400242323, 'reg_alpha': 0.08137031940535518, 'feature_fraction': 0.5675523653985001, 'bagging_fraction': 0.8715979124573581, 'bagging_freq': 18, 'num_leaves': 141, 'min_child_samples': 77}. Best is trial 12 with value: -2.039882363390348.\u001b[0m\n"
     ]
    },
    {
     "name": "stdout",
     "output_type": "stream",
     "text": [
      "Early stopping, best iteration is:\n",
      "[47]\ttraining's l1: 2.06579\tvalid_1's l1: 2.04936\n",
      "[LightGBM] [Warning] feature_fraction is set=0.3893233758489177, colsample_bytree=0.6 will be ignored. Current value: feature_fraction=0.3893233758489177\n",
      "[LightGBM] [Warning] bagging_fraction is set=0.3873830142399107, subsample=0.8 will be ignored. Current value: bagging_fraction=0.3873830142399107\n",
      "[LightGBM] [Warning] bagging_freq is set=14, subsample_freq=0 will be ignored. Current value: bagging_freq=14\n",
      "Training until validation scores don't improve for 100 rounds\n",
      "[100]\ttraining's l1: 2.16301\tvalid_1's l1: 2.05282\n"
     ]
    },
    {
     "name": "stderr",
     "output_type": "stream",
     "text": [
      "\u001b[32m[I 2021-07-30 00:20:17,481]\u001b[0m Trial 20 finished with value: -2.0490348779845315 and parameters: {'max_depth': 3, 'min_child_weight': 9, 'subsample': 0.8, 'colsample_bytree': 0.6, 'reg_lambda': 23.104263549767726, 'reg_alpha': 21.783457605367783, 'feature_fraction': 0.3893233758489177, 'bagging_fraction': 0.3873830142399107, 'bagging_freq': 14, 'num_leaves': 583, 'min_child_samples': 58}. Best is trial 12 with value: -2.039882363390348.\u001b[0m\n"
     ]
    },
    {
     "name": "stdout",
     "output_type": "stream",
     "text": [
      "[200]\ttraining's l1: 2.11281\tvalid_1's l1: 2.0574\n",
      "Early stopping, best iteration is:\n",
      "[110]\ttraining's l1: 2.15497\tvalid_1's l1: 2.04904\n",
      "[LightGBM] [Warning] feature_fraction is set=0.7009396773246342, colsample_bytree=0.6 will be ignored. Current value: feature_fraction=0.7009396773246342\n",
      "[LightGBM] [Warning] bagging_fraction is set=0.7179813293873758, subsample=0.9 will be ignored. Current value: bagging_fraction=0.7179813293873758\n",
      "[LightGBM] [Warning] bagging_freq is set=16, subsample_freq=0 will be ignored. Current value: bagging_freq=16\n",
      "Training until validation scores don't improve for 100 rounds\n",
      "[100]\ttraining's l1: 2.28322\tvalid_1's l1: 2.08145\n",
      "[200]\ttraining's l1: 2.25417\tvalid_1's l1: 2.06242\n",
      "[300]\ttraining's l1: 2.23508\tvalid_1's l1: 2.05054\n",
      "[400]\ttraining's l1: 2.2266\tvalid_1's l1: 2.04654\n",
      "[500]\ttraining's l1: 2.21864\tvalid_1's l1: 2.04571\n",
      "[600]\ttraining's l1: 2.21214\tvalid_1's l1: 2.0451\n"
     ]
    },
    {
     "name": "stderr",
     "output_type": "stream",
     "text": [
      "\u001b[32m[I 2021-07-30 00:20:20,828]\u001b[0m Trial 21 finished with value: -2.041395377529314 and parameters: {'max_depth': 1, 'min_child_weight': 1, 'subsample': 0.9, 'colsample_bytree': 0.6, 'reg_lambda': 0.017598856470759143, 'reg_alpha': 6.571671040748125, 'feature_fraction': 0.7009396773246342, 'bagging_fraction': 0.7179813293873758, 'bagging_freq': 16, 'num_leaves': 49, 'min_child_samples': 57}. Best is trial 12 with value: -2.039882363390348.\u001b[0m\n"
     ]
    },
    {
     "name": "stdout",
     "output_type": "stream",
     "text": [
      "[700]\ttraining's l1: 2.20521\tvalid_1's l1: 2.04403\n",
      "Early stopping, best iteration is:\n",
      "[638]\ttraining's l1: 2.2092\tvalid_1's l1: 2.04151\n",
      "[LightGBM] [Warning] feature_fraction is set=0.6144203131233724, colsample_bytree=0.6 will be ignored. Current value: feature_fraction=0.6144203131233724\n",
      "[LightGBM] [Warning] bagging_fraction is set=0.7373739555379637, subsample=0.9 will be ignored. Current value: bagging_fraction=0.7373739555379637\n",
      "[LightGBM] [Warning] bagging_freq is set=15, subsample_freq=0 will be ignored. Current value: bagging_freq=15\n",
      "Training until validation scores don't improve for 100 rounds\n",
      "[100]\ttraining's l1: 2.28166\tvalid_1's l1: 2.07433\n",
      "[200]\ttraining's l1: 2.25213\tvalid_1's l1: 2.05585\n",
      "[300]\ttraining's l1: 2.23529\tvalid_1's l1: 2.04628\n",
      "[400]\ttraining's l1: 2.22548\tvalid_1's l1: 2.04422\n",
      "[500]\ttraining's l1: 2.21649\tvalid_1's l1: 2.04196\n",
      "[600]\ttraining's l1: 2.20995\tvalid_1's l1: 2.03777\n"
     ]
    },
    {
     "name": "stderr",
     "output_type": "stream",
     "text": [
      "\u001b[32m[I 2021-07-30 00:20:25,625]\u001b[0m Trial 22 finished with value: -2.0375714833853698 and parameters: {'max_depth': 1, 'min_child_weight': 1, 'subsample': 0.9, 'colsample_bytree': 0.6, 'reg_lambda': 0.5082503978728264, 'reg_alpha': 0.7294124894480184, 'feature_fraction': 0.6144203131233724, 'bagging_fraction': 0.7373739555379637, 'bagging_freq': 15, 'num_leaves': 100, 'min_child_samples': 93}. Best is trial 22 with value: -2.0375714833853698.\u001b[0m\n"
     ]
    },
    {
     "name": "stdout",
     "output_type": "stream",
     "text": [
      "[700]\ttraining's l1: 2.20445\tvalid_1's l1: 2.04015\n",
      "Early stopping, best iteration is:\n",
      "[606]\ttraining's l1: 2.20963\tvalid_1's l1: 2.03766\n",
      "[LightGBM] [Warning] feature_fraction is set=0.5897727184884233, colsample_bytree=0.7 will be ignored. Current value: feature_fraction=0.5897727184884233\n",
      "[LightGBM] [Warning] bagging_fraction is set=0.6204049727353463, subsample=0.9 will be ignored. Current value: bagging_fraction=0.6204049727353463\n",
      "[LightGBM] [Warning] bagging_freq is set=14, subsample_freq=0 will be ignored. Current value: bagging_freq=14\n",
      "Training until validation scores don't improve for 100 rounds\n",
      "[100]\ttraining's l1: 2.28223\tvalid_1's l1: 2.07448\n",
      "[200]\ttraining's l1: 2.25248\tvalid_1's l1: 2.05803\n",
      "[300]\ttraining's l1: 2.23421\tvalid_1's l1: 2.04614\n",
      "[400]\ttraining's l1: 2.2244\tvalid_1's l1: 2.04402\n",
      "[500]\ttraining's l1: 2.21595\tvalid_1's l1: 2.04112\n",
      "[600]\ttraining's l1: 2.20853\tvalid_1's l1: 2.03996\n"
     ]
    },
    {
     "name": "stderr",
     "output_type": "stream",
     "text": [
      "\u001b[32m[I 2021-07-30 00:20:30,105]\u001b[0m Trial 23 finished with value: -2.038312918267109 and parameters: {'max_depth': 1, 'min_child_weight': 5, 'subsample': 0.9, 'colsample_bytree': 0.7, 'reg_lambda': 0.4261385501309675, 'reg_alpha': 0.808268770960662, 'feature_fraction': 0.5897727184884233, 'bagging_fraction': 0.6204049727353463, 'bagging_freq': 14, 'num_leaves': 296, 'min_child_samples': 91}. Best is trial 22 with value: -2.0375714833853698.\u001b[0m\n"
     ]
    },
    {
     "name": "stdout",
     "output_type": "stream",
     "text": [
      "Early stopping, best iteration is:\n",
      "[551]\ttraining's l1: 2.21207\tvalid_1's l1: 2.03838\n",
      "[LightGBM] [Warning] feature_fraction is set=0.5934473931906707, colsample_bytree=0.7 will be ignored. Current value: feature_fraction=0.5934473931906707\n",
      "[LightGBM] [Warning] bagging_fraction is set=0.5932901376409621, subsample=0.9 will be ignored. Current value: bagging_fraction=0.5932901376409621\n",
      "[LightGBM] [Warning] bagging_freq is set=13, subsample_freq=0 will be ignored. Current value: bagging_freq=13\n",
      "Training until validation scores don't improve for 100 rounds\n",
      "[100]\ttraining's l1: 2.14876\tvalid_1's l1: 2.04955\n"
     ]
    },
    {
     "name": "stderr",
     "output_type": "stream",
     "text": [
      "\u001b[32m[I 2021-07-30 00:20:32,048]\u001b[0m Trial 24 finished with value: -2.0477270526596936 and parameters: {'max_depth': 3, 'min_child_weight': 5, 'subsample': 0.9, 'colsample_bytree': 0.7, 'reg_lambda': 0.6183697803345098, 'reg_alpha': 0.8263250342689664, 'feature_fraction': 0.5934473931906707, 'bagging_fraction': 0.5932901376409621, 'bagging_freq': 13, 'num_leaves': 313, 'min_child_samples': 92}. Best is trial 22 with value: -2.0375714833853698.\u001b[0m\n"
     ]
    },
    {
     "name": "stdout",
     "output_type": "stream",
     "text": [
      "[200]\ttraining's l1: 2.09583\tvalid_1's l1: 2.07571\n",
      "Early stopping, best iteration is:\n",
      "[112]\ttraining's l1: 2.14319\tvalid_1's l1: 2.04773\n",
      "[LightGBM] [Warning] feature_fraction is set=0.692412360893171, colsample_bytree=0.7 will be ignored. Current value: feature_fraction=0.692412360893171\n",
      "[LightGBM] [Warning] bagging_fraction is set=0.9988725871406396, subsample=0.9 will be ignored. Current value: bagging_fraction=0.9988725871406396\n",
      "[LightGBM] [Warning] bagging_freq is set=18, subsample_freq=0 will be ignored. Current value: bagging_freq=18\n",
      "Training until validation scores don't improve for 100 rounds\n",
      "[100]\ttraining's l1: 1.96607\tvalid_1's l1: 2.05354\n"
     ]
    },
    {
     "name": "stderr",
     "output_type": "stream",
     "text": [
      "\u001b[32m[I 2021-07-30 00:20:34,173]\u001b[0m Trial 25 finished with value: -2.0458335073026648 and parameters: {'max_depth': 6, 'min_child_weight': 3, 'subsample': 0.9, 'colsample_bytree': 0.7, 'reg_lambda': 0.29172392460551555, 'reg_alpha': 0.045343796697615533, 'feature_fraction': 0.692412360893171, 'bagging_fraction': 0.9988725871406396, 'bagging_freq': 18, 'num_leaves': 240, 'min_child_samples': 94}. Best is trial 22 with value: -2.0375714833853698.\u001b[0m\n"
     ]
    },
    {
     "name": "stdout",
     "output_type": "stream",
     "text": [
      "Early stopping, best iteration is:\n",
      "[62]\ttraining's l1: 2.02282\tvalid_1's l1: 2.04587\n",
      "[LightGBM] [Warning] feature_fraction is set=0.749786043319735, colsample_bytree=0.8 will be ignored. Current value: feature_fraction=0.749786043319735\n",
      "[LightGBM] [Warning] bagging_fraction is set=0.7822418000769119, subsample=0.9 will be ignored. Current value: bagging_fraction=0.7822418000769119\n",
      "[LightGBM] [Warning] bagging_freq is set=9, subsample_freq=0 will be ignored. Current value: bagging_freq=9\n",
      "Training until validation scores don't improve for 100 rounds\n",
      "[100]\ttraining's l1: 2.14955\tvalid_1's l1: 2.03911\n"
     ]
    },
    {
     "name": "stderr",
     "output_type": "stream",
     "text": [
      "\u001b[32m[I 2021-07-30 00:20:35,825]\u001b[0m Trial 26 finished with value: -2.038473939241141 and parameters: {'max_depth': 3, 'min_child_weight': 3, 'subsample': 0.9, 'colsample_bytree': 0.8, 'reg_lambda': 4.784980774426859, 'reg_alpha': 2.068253231564146, 'feature_fraction': 0.749786043319735, 'bagging_fraction': 0.7822418000769119, 'bagging_freq': 9, 'num_leaves': 97, 'min_child_samples': 7}. Best is trial 22 with value: -2.0375714833853698.\u001b[0m\n"
     ]
    },
    {
     "name": "stdout",
     "output_type": "stream",
     "text": [
      "Early stopping, best iteration is:\n",
      "[97]\ttraining's l1: 2.15219\tvalid_1's l1: 2.03849\n",
      "[LightGBM] [Warning] feature_fraction is set=0.7742321330823716, colsample_bytree=0.8 will be ignored. Current value: feature_fraction=0.7742321330823716\n",
      "[LightGBM] [Warning] bagging_fraction is set=0.6524271633686505, subsample=0.9 will be ignored. Current value: bagging_fraction=0.6524271633686505\n",
      "[LightGBM] [Warning] bagging_freq is set=8, subsample_freq=0 will be ignored. Current value: bagging_freq=8\n",
      "Training until validation scores don't improve for 100 rounds\n",
      "[100]\ttraining's l1: 2.15298\tvalid_1's l1: 2.04739\n"
     ]
    },
    {
     "name": "stderr",
     "output_type": "stream",
     "text": [
      "\u001b[32m[I 2021-07-30 00:20:37,342]\u001b[0m Trial 27 finished with value: -2.04269909472901 and parameters: {'max_depth': 3, 'min_child_weight': 6, 'subsample': 0.9, 'colsample_bytree': 0.8, 'reg_lambda': 1.1516922413663426, 'reg_alpha': 2.3348527860216053, 'feature_fraction': 0.7742321330823716, 'bagging_fraction': 0.6524271633686505, 'bagging_freq': 8, 'num_leaves': 384, 'min_child_samples': 7}. Best is trial 22 with value: -2.0375714833853698.\u001b[0m\n"
     ]
    },
    {
     "name": "stdout",
     "output_type": "stream",
     "text": [
      "Early stopping, best iteration is:\n",
      "[89]\ttraining's l1: 2.16255\tvalid_1's l1: 2.04272\n",
      "[LightGBM] [Warning] feature_fraction is set=0.7276696163282258, colsample_bytree=0.8 will be ignored. Current value: feature_fraction=0.7276696163282258\n",
      "[LightGBM] [Warning] bagging_fraction is set=0.5925954716889057, subsample=0.9 will be ignored. Current value: bagging_fraction=0.5925954716889057\n",
      "[LightGBM] [Warning] bagging_freq is set=9, subsample_freq=0 will be ignored. Current value: bagging_freq=9\n",
      "Training until validation scores don't improve for 100 rounds\n",
      "[100]\ttraining's l1: 2.09502\tvalid_1's l1: 2.06448\n"
     ]
    },
    {
     "name": "stderr",
     "output_type": "stream",
     "text": [
      "\u001b[32m[I 2021-07-30 00:20:38,774]\u001b[0m Trial 28 finished with value: -2.054979354372193 and parameters: {'max_depth': 4, 'min_child_weight': 3, 'subsample': 0.9, 'colsample_bytree': 0.8, 'reg_lambda': 23.819798041114055, 'reg_alpha': 19.726860277825114, 'feature_fraction': 0.7276696163282258, 'bagging_fraction': 0.5925954716889057, 'bagging_freq': 9, 'num_leaves': 104, 'min_child_samples': 5}. Best is trial 22 with value: -2.0375714833853698.\u001b[0m\n"
     ]
    },
    {
     "name": "stdout",
     "output_type": "stream",
     "text": [
      "Early stopping, best iteration is:\n",
      "[71]\ttraining's l1: 2.12478\tvalid_1's l1: 2.05499\n",
      "[LightGBM] [Warning] feature_fraction is set=0.876436384404153, colsample_bytree=0.8 will be ignored. Current value: feature_fraction=0.876436384404153\n",
      "[LightGBM] [Warning] bagging_fraction is set=0.32617309254162136, subsample=0.8 will be ignored. Current value: bagging_fraction=0.32617309254162136\n",
      "[LightGBM] [Warning] bagging_freq is set=14, subsample_freq=0 will be ignored. Current value: bagging_freq=14\n",
      "Training until validation scores don't improve for 100 rounds\n",
      "[100]\ttraining's l1: 1.77025\tvalid_1's l1: 2.16146\n"
     ]
    },
    {
     "name": "stderr",
     "output_type": "stream",
     "text": [
      "\u001b[32m[I 2021-07-30 00:20:41,382]\u001b[0m Trial 29 finished with value: -2.0720522283863567 and parameters: {'max_depth': 16, 'min_child_weight': 12, 'subsample': 0.8, 'colsample_bytree': 0.8, 'reg_lambda': 0.3203001605057551, 'reg_alpha': 0.7827345044724694, 'feature_fraction': 0.876436384404153, 'bagging_fraction': 0.32617309254162136, 'bagging_freq': 14, 'num_leaves': 185, 'min_child_samples': 12}. Best is trial 22 with value: -2.0375714833853698.\u001b[0m\n"
     ]
    },
    {
     "name": "stdout",
     "output_type": "stream",
     "text": [
      "Early stopping, best iteration is:\n",
      "[31]\ttraining's l1: 1.96253\tvalid_1's l1: 2.07205\n",
      "[LightGBM] [Warning] feature_fraction is set=0.9638856698235924, colsample_bytree=0.7 will be ignored. Current value: feature_fraction=0.9638856698235924\n",
      "[LightGBM] [Warning] bagging_fraction is set=0.7600717853168353, subsample=0.9 will be ignored. Current value: bagging_fraction=0.7600717853168353\n",
      "[LightGBM] [Warning] bagging_freq is set=10, subsample_freq=0 will be ignored. Current value: bagging_freq=10\n",
      "Training until validation scores don't improve for 100 rounds\n",
      "[100]\ttraining's l1: 2.0845\tvalid_1's l1: 2.04541\n"
     ]
    },
    {
     "name": "stderr",
     "output_type": "stream",
     "text": [
      "\u001b[32m[I 2021-07-30 00:20:43,372]\u001b[0m Trial 30 finished with value: -2.041691419088849 and parameters: {'max_depth': 4, 'min_child_weight': 8, 'subsample': 0.9, 'colsample_bytree': 0.7, 'reg_lambda': 3.9468235870507256, 'reg_alpha': 0.4994755652262688, 'feature_fraction': 0.9638856698235924, 'bagging_fraction': 0.7600717853168353, 'bagging_freq': 10, 'num_leaves': 234, 'min_child_samples': 35}. Best is trial 22 with value: -2.0375714833853698.\u001b[0m\n"
     ]
    },
    {
     "name": "stdout",
     "output_type": "stream",
     "text": [
      "[200]\ttraining's l1: 2.01685\tvalid_1's l1: 2.07591\n",
      "Early stopping, best iteration is:\n",
      "[112]\ttraining's l1: 2.0757\tvalid_1's l1: 2.04175\n",
      "[LightGBM] [Warning] feature_fraction is set=0.609959141130746, colsample_bytree=0.7 will be ignored. Current value: feature_fraction=0.609959141130746\n",
      "[LightGBM] [Warning] bagging_fraction is set=0.8698690785781918, subsample=0.7 will be ignored. Current value: bagging_fraction=0.8698690785781918\n",
      "[LightGBM] [Warning] bagging_freq is set=14, subsample_freq=0 will be ignored. Current value: bagging_freq=14\n",
      "Training until validation scores don't improve for 100 rounds\n",
      "[100]\ttraining's l1: 2.21836\tvalid_1's l1: 2.04953\n",
      "[200]\ttraining's l1: 2.17495\tvalid_1's l1: 2.05187\n"
     ]
    },
    {
     "name": "stderr",
     "output_type": "stream",
     "text": [
      "\u001b[32m[I 2021-07-30 00:20:45,649]\u001b[0m Trial 31 finished with value: -2.0488656530145084 and parameters: {'max_depth': 2, 'min_child_weight': 2, 'subsample': 0.7, 'colsample_bytree': 0.7, 'reg_lambda': 9.133072355771093, 'reg_alpha': 2.3926853963927783, 'feature_fraction': 0.609959141130746, 'bagging_fraction': 0.8698690785781918, 'bagging_freq': 14, 'num_leaves': 85, 'min_child_samples': 90}. Best is trial 22 with value: -2.0375714833853698.\u001b[0m\n"
     ]
    },
    {
     "name": "stdout",
     "output_type": "stream",
     "text": [
      "Early stopping, best iteration is:\n",
      "[127]\ttraining's l1: 2.2026\tvalid_1's l1: 2.04889\n",
      "[LightGBM] [Warning] feature_fraction is set=0.6789046847358199, colsample_bytree=0.9 will be ignored. Current value: feature_fraction=0.6789046847358199\n",
      "[LightGBM] [Warning] bagging_fraction is set=0.7826940654835185, subsample=0.9 will be ignored. Current value: bagging_fraction=0.7826940654835185\n",
      "[LightGBM] [Warning] bagging_freq is set=12, subsample_freq=0 will be ignored. Current value: bagging_freq=12\n",
      "Training until validation scores don't improve for 100 rounds\n",
      "[100]\ttraining's l1: 2.28286\tvalid_1's l1: 2.07854\n",
      "[200]\ttraining's l1: 2.25288\tvalid_1's l1: 2.0579\n",
      "[300]\ttraining's l1: 2.23659\tvalid_1's l1: 2.05039\n",
      "[400]\ttraining's l1: 2.22571\tvalid_1's l1: 2.04402\n",
      "[500]\ttraining's l1: 2.21566\tvalid_1's l1: 2.04137\n"
     ]
    },
    {
     "name": "stderr",
     "output_type": "stream",
     "text": [
      "\u001b[32m[I 2021-07-30 00:20:48,665]\u001b[0m Trial 32 finished with value: -2.0394781436450744 and parameters: {'max_depth': 1, 'min_child_weight': 5, 'subsample': 0.9, 'colsample_bytree': 0.9, 'reg_lambda': 0.9291508007222152, 'reg_alpha': 15.533464323704234, 'feature_fraction': 0.6789046847358199, 'bagging_fraction': 0.7826940654835185, 'bagging_freq': 12, 'num_leaves': 171, 'min_child_samples': 73}. Best is trial 22 with value: -2.0375714833853698.\u001b[0m\n"
     ]
    },
    {
     "name": "stdout",
     "output_type": "stream",
     "text": [
      "Early stopping, best iteration is:\n",
      "[482]\ttraining's l1: 2.21737\tvalid_1's l1: 2.03952\n",
      "[LightGBM] [Warning] feature_fraction is set=0.7961061382106408, colsample_bytree=0.9 will be ignored. Current value: feature_fraction=0.7961061382106408\n",
      "[LightGBM] [Warning] bagging_fraction is set=0.7651189549499803, subsample=0.9 will be ignored. Current value: bagging_fraction=0.7651189549499803\n",
      "[LightGBM] [Warning] bagging_freq is set=12, subsample_freq=0 will be ignored. Current value: bagging_freq=12\n",
      "Training until validation scores don't improve for 100 rounds\n",
      "[100]\ttraining's l1: 2.02759\tvalid_1's l1: 2.0669\n"
     ]
    },
    {
     "name": "stderr",
     "output_type": "stream",
     "text": [
      "\u001b[32m[I 2021-07-30 00:20:50,326]\u001b[0m Trial 33 finished with value: -2.0519173330796123 and parameters: {'max_depth': 5, 'min_child_weight': 5, 'subsample': 0.9, 'colsample_bytree': 0.9, 'reg_lambda': 0.7873839842586764, 'reg_alpha': 13.1880025685934, 'feature_fraction': 0.7961061382106408, 'bagging_fraction': 0.7651189549499803, 'bagging_freq': 12, 'num_leaves': 482, 'min_child_samples': 75}. Best is trial 22 with value: -2.0375714833853698.\u001b[0m\n"
     ]
    },
    {
     "name": "stdout",
     "output_type": "stream",
     "text": [
      "Early stopping, best iteration is:\n",
      "[44]\ttraining's l1: 2.12868\tvalid_1's l1: 2.05192\n",
      "[LightGBM] [Warning] feature_fraction is set=0.7118432751527292, colsample_bytree=0.9 will be ignored. Current value: feature_fraction=0.7118432751527292\n",
      "[LightGBM] [Warning] bagging_fraction is set=0.4979985074484609, subsample=0.9 will be ignored. Current value: bagging_fraction=0.4979985074484609\n",
      "[LightGBM] [Warning] bagging_freq is set=10, subsample_freq=0 will be ignored. Current value: bagging_freq=10\n",
      "Training until validation scores don't improve for 100 rounds\n",
      "[100]\ttraining's l1: 2.1557\tvalid_1's l1: 2.05083\n"
     ]
    },
    {
     "name": "stderr",
     "output_type": "stream",
     "text": [
      "\u001b[32m[I 2021-07-30 00:20:51,804]\u001b[0m Trial 34 finished with value: -2.0479373559386596 and parameters: {'max_depth': 3, 'min_child_weight': 4, 'subsample': 0.9, 'colsample_bytree': 0.9, 'reg_lambda': 2.98550917653509, 'reg_alpha': 53.84155537802274, 'feature_fraction': 0.7118432751527292, 'bagging_fraction': 0.4979985074484609, 'bagging_freq': 10, 'num_leaves': 315, 'min_child_samples': 100}. Best is trial 22 with value: -2.0375714833853698.\u001b[0m\n"
     ]
    },
    {
     "name": "stdout",
     "output_type": "stream",
     "text": [
      "[200]\ttraining's l1: 2.10292\tvalid_1's l1: 2.05908\n",
      "Early stopping, best iteration is:\n",
      "[128]\ttraining's l1: 2.13694\tvalid_1's l1: 2.04794\n",
      "[LightGBM] [Warning] feature_fraction is set=0.5496554226044975, colsample_bytree=0.8 will be ignored. Current value: feature_fraction=0.5496554226044975\n",
      "[LightGBM] [Warning] bagging_fraction is set=0.6753435719414831, subsample=0.8 will be ignored. Current value: bagging_fraction=0.6753435719414831\n",
      "[LightGBM] [Warning] bagging_freq is set=11, subsample_freq=0 will be ignored. Current value: bagging_freq=11\n",
      "Training until validation scores don't improve for 100 rounds\n",
      "[100]\ttraining's l1: 2.04103\tvalid_1's l1: 2.05999\n"
     ]
    },
    {
     "name": "stderr",
     "output_type": "stream",
     "text": [
      "\u001b[32m[I 2021-07-30 00:20:53,671]\u001b[0m Trial 35 finished with value: -2.0509044653399635 and parameters: {'max_depth': 5, 'min_child_weight': 6, 'subsample': 0.8, 'colsample_bytree': 0.8, 'reg_lambda': 0.19790685616785328, 'reg_alpha': 2.135452554323595, 'feature_fraction': 0.5496554226044975, 'bagging_fraction': 0.6753435719414831, 'bagging_freq': 11, 'num_leaves': 172, 'min_child_samples': 89}. Best is trial 22 with value: -2.0375714833853698.\u001b[0m\n"
     ]
    },
    {
     "name": "stdout",
     "output_type": "stream",
     "text": [
      "Early stopping, best iteration is:\n",
      "[46]\ttraining's l1: 2.12913\tvalid_1's l1: 2.0509\n",
      "[LightGBM] [Warning] feature_fraction is set=0.857504066612202, colsample_bytree=0.9 will be ignored. Current value: feature_fraction=0.857504066612202\n",
      "[LightGBM] [Warning] bagging_fraction is set=0.9223678899511725, subsample=0.9 will be ignored. Current value: bagging_fraction=0.9223678899511725\n",
      "[LightGBM] [Warning] bagging_freq is set=6, subsample_freq=0 will be ignored. Current value: bagging_freq=6\n",
      "Training until validation scores don't improve for 100 rounds\n",
      "[100]\ttraining's l1: 2.24077\tvalid_1's l1: 2.07601\n",
      "[200]\ttraining's l1: 2.20412\tvalid_1's l1: 2.06331\n"
     ]
    },
    {
     "name": "stderr",
     "output_type": "stream",
     "text": [
      "\u001b[32m[I 2021-07-30 00:20:56,181]\u001b[0m Trial 36 finished with value: -2.056092270954833 and parameters: {'max_depth': 2, 'min_child_weight': 3, 'subsample': 0.9, 'colsample_bytree': 0.9, 'reg_lambda': 0.04143189590803433, 'reg_alpha': 859.7565533315351, 'feature_fraction': 0.857504066612202, 'bagging_fraction': 0.9223678899511725, 'bagging_freq': 6, 'num_leaves': 983, 'min_child_samples': 65}. Best is trial 22 with value: -2.0375714833853698.\u001b[0m\n"
     ]
    },
    {
     "name": "stdout",
     "output_type": "stream",
     "text": [
      "[300]\ttraining's l1: 2.19211\tvalid_1's l1: 2.0565\n",
      "Early stopping, best iteration is:\n",
      "[246]\ttraining's l1: 2.1943\tvalid_1's l1: 2.0561\n",
      "[LightGBM] [Warning] feature_fraction is set=0.6011651226845637, colsample_bytree=0.8 will be ignored. Current value: feature_fraction=0.6011651226845637\n",
      "[LightGBM] [Warning] bagging_fraction is set=0.5254556316911281, subsample=0.9 will be ignored. Current value: bagging_fraction=0.5254556316911281\n",
      "[LightGBM] [Warning] bagging_freq is set=13, subsample_freq=0 will be ignored. Current value: bagging_freq=13\n",
      "Training until validation scores don't improve for 100 rounds\n",
      "[100]\ttraining's l1: 2.28448\tvalid_1's l1: 2.07892\n",
      "[200]\ttraining's l1: 2.25317\tvalid_1's l1: 2.06077\n",
      "[300]\ttraining's l1: 2.23765\tvalid_1's l1: 2.05206\n",
      "[400]\ttraining's l1: 2.22618\tvalid_1's l1: 2.04542\n",
      "[500]\ttraining's l1: 2.21869\tvalid_1's l1: 2.04618\n"
     ]
    },
    {
     "name": "stderr",
     "output_type": "stream",
     "text": [
      "\u001b[32m[I 2021-07-30 00:20:59,779]\u001b[0m Trial 37 finished with value: -2.0415123368828136 and parameters: {'max_depth': 1, 'min_child_weight': 9, 'subsample': 0.9, 'colsample_bytree': 0.8, 'reg_lambda': 1.575343972548196, 'reg_alpha': 11.548552726610136, 'feature_fraction': 0.6011651226845637, 'bagging_fraction': 0.5254556316911281, 'bagging_freq': 13, 'num_leaves': 210, 'min_child_samples': 79}. Best is trial 22 with value: -2.0375714833853698.\u001b[0m\n"
     ]
    },
    {
     "name": "stdout",
     "output_type": "stream",
     "text": [
      "[600]\ttraining's l1: 2.2093\tvalid_1's l1: 2.04246\n",
      "Early stopping, best iteration is:\n",
      "[517]\ttraining's l1: 2.21559\tvalid_1's l1: 2.04157\n",
      "[LightGBM] [Warning] feature_fraction is set=0.7459968204217626, colsample_bytree=0.9 will be ignored. Current value: feature_fraction=0.7459968204217626\n",
      "[LightGBM] [Warning] bagging_fraction is set=0.7493731790759526, subsample=0.8 will be ignored. Current value: bagging_fraction=0.7493731790759526\n",
      "[LightGBM] [Warning] bagging_freq is set=8, subsample_freq=0 will be ignored. Current value: bagging_freq=8\n",
      "Training until validation scores don't improve for 100 rounds\n",
      "[100]\ttraining's l1: 2.12215\tvalid_1's l1: 2.04497\n"
     ]
    },
    {
     "name": "stderr",
     "output_type": "stream",
     "text": [
      "\u001b[32m[I 2021-07-30 00:21:01,582]\u001b[0m Trial 38 finished with value: -2.0437291810710114 and parameters: {'max_depth': 4, 'min_child_weight': 6, 'subsample': 0.8, 'colsample_bytree': 0.9, 'reg_lambda': 761.4075196524349, 'reg_alpha': 215.88454288436333, 'feature_fraction': 0.7459968204217626, 'bagging_fraction': 0.7493731790759526, 'bagging_freq': 8, 'num_leaves': 303, 'min_child_samples': 93}. Best is trial 22 with value: -2.0375714833853698.\u001b[0m\n"
     ]
    },
    {
     "name": "stdout",
     "output_type": "stream",
     "text": [
      "Early stopping, best iteration is:\n",
      "[95]\ttraining's l1: 2.12655\tvalid_1's l1: 2.04373\n",
      "[LightGBM] [Warning] feature_fraction is set=0.6782170057108529, colsample_bytree=0.7 will be ignored. Current value: feature_fraction=0.6782170057108529\n",
      "[LightGBM] [Warning] bagging_fraction is set=0.6096680503213746, subsample=0.9 will be ignored. Current value: bagging_fraction=0.6096680503213746\n",
      "[LightGBM] [Warning] bagging_freq is set=1, subsample_freq=0 will be ignored. Current value: bagging_freq=1\n",
      "Training until validation scores don't improve for 100 rounds\n",
      "[100]\ttraining's l1: 1.97599\tvalid_1's l1: 2.08233\n",
      "Early stopping, best iteration is:\n",
      "[28]\ttraining's l1: 2.13538\tvalid_1's l1: 2.05332\n"
     ]
    },
    {
     "name": "stderr",
     "output_type": "stream",
     "text": [
      "\u001b[32m[I 2021-07-30 00:21:03,139]\u001b[0m Trial 39 finished with value: -2.053322798512283 and parameters: {'max_depth': 6, 'min_child_weight': 2, 'subsample': 0.9, 'colsample_bytree': 0.7, 'reg_lambda': 53.27629882082346, 'reg_alpha': 0.0599967211760219, 'feature_fraction': 0.6782170057108529, 'bagging_fraction': 0.6096680503213746, 'bagging_freq': 1, 'num_leaves': 267, 'min_child_samples': 70}. Best is trial 22 with value: -2.0375714833853698.\u001b[0m\n"
     ]
    },
    {
     "name": "stdout",
     "output_type": "stream",
     "text": [
      "[LightGBM] [Warning] feature_fraction is set=0.8246072096139188, colsample_bytree=0.9 will be ignored. Current value: feature_fraction=0.8246072096139188\n",
      "[LightGBM] [Warning] bagging_fraction is set=0.8296345190006887, subsample=0.9 will be ignored. Current value: bagging_fraction=0.8296345190006887\n",
      "[LightGBM] [Warning] bagging_freq is set=9, subsample_freq=0 will be ignored. Current value: bagging_freq=9\n",
      "Training until validation scores don't improve for 100 rounds\n",
      "[100]\ttraining's l1: 1.81932\tvalid_1's l1: 2.12787\n"
     ]
    },
    {
     "name": "stderr",
     "output_type": "stream",
     "text": [
      "\u001b[32m[I 2021-07-30 00:21:05,476]\u001b[0m Trial 40 finished with value: -2.0665646062576113 and parameters: {'max_depth': 11, 'min_child_weight': 13, 'subsample': 0.9, 'colsample_bytree': 0.9, 'reg_lambda': 2.0350439317617037, 'reg_alpha': 0.34933634154879317, 'feature_fraction': 0.8246072096139188, 'bagging_fraction': 0.8296345190006887, 'bagging_freq': 9, 'num_leaves': 89, 'min_child_samples': 57}. Best is trial 22 with value: -2.0375714833853698.\u001b[0m\n"
     ]
    },
    {
     "name": "stdout",
     "output_type": "stream",
     "text": [
      "Early stopping, best iteration is:\n",
      "[24]\ttraining's l1: 2.08771\tvalid_1's l1: 2.06656\n",
      "[LightGBM] [Warning] feature_fraction is set=0.6323612759785375, colsample_bytree=0.5 will be ignored. Current value: feature_fraction=0.6323612759785375\n",
      "[LightGBM] [Warning] bagging_fraction is set=0.7936177475819923, subsample=0.6 will be ignored. Current value: bagging_fraction=0.7936177475819923\n",
      "[LightGBM] [Warning] bagging_freq is set=15, subsample_freq=0 will be ignored. Current value: bagging_freq=15\n",
      "Training until validation scores don't improve for 100 rounds\n",
      "[100]\ttraining's l1: 2.28112\tvalid_1's l1: 2.07793\n",
      "[200]\ttraining's l1: 2.25223\tvalid_1's l1: 2.05982\n",
      "[300]\ttraining's l1: 2.23547\tvalid_1's l1: 2.05238\n",
      "[400]\ttraining's l1: 2.22513\tvalid_1's l1: 2.04691\n",
      "[500]\ttraining's l1: 2.21622\tvalid_1's l1: 2.04505\n",
      "[600]\ttraining's l1: 2.20958\tvalid_1's l1: 2.04043\n"
     ]
    },
    {
     "name": "stderr",
     "output_type": "stream",
     "text": [
      "\u001b[32m[I 2021-07-30 00:21:10,340]\u001b[0m Trial 41 finished with value: -2.040287204581784 and parameters: {'max_depth': 1, 'min_child_weight': 4, 'subsample': 0.6, 'colsample_bytree': 0.5, 'reg_lambda': 4.645138384438385, 'reg_alpha': 1.485283559049052, 'feature_fraction': 0.6323612759785375, 'bagging_fraction': 0.7936177475819923, 'bagging_freq': 15, 'num_leaves': 145, 'min_child_samples': 74}. Best is trial 22 with value: -2.0375714833853698.\u001b[0m\n"
     ]
    },
    {
     "name": "stdout",
     "output_type": "stream",
     "text": [
      "[700]\ttraining's l1: 2.20383\tvalid_1's l1: 2.04445\n",
      "Early stopping, best iteration is:\n",
      "[602]\ttraining's l1: 2.20951\tvalid_1's l1: 2.04037\n",
      "[LightGBM] [Warning] feature_fraction is set=0.6743655536906256, colsample_bytree=0.7 will be ignored. Current value: feature_fraction=0.6743655536906256\n",
      "[LightGBM] [Warning] bagging_fraction is set=0.8618732989701943, subsample=0.7 will be ignored. Current value: bagging_fraction=0.8618732989701943\n",
      "[LightGBM] [Warning] bagging_freq is set=13, subsample_freq=0 will be ignored. Current value: bagging_freq=13\n",
      "Training until validation scores don't improve for 100 rounds\n",
      "[100]\ttraining's l1: 2.21727\tvalid_1's l1: 2.05515\n",
      "[200]\ttraining's l1: 2.16913\tvalid_1's l1: 2.04855\n",
      "[300]\ttraining's l1: 2.14129\tvalid_1's l1: 2.04828\n"
     ]
    },
    {
     "name": "stderr",
     "output_type": "stream",
     "text": [
      "\u001b[32m[I 2021-07-30 00:21:12,996]\u001b[0m Trial 42 finished with value: -2.0455681302852797 and parameters: {'max_depth': 2, 'min_child_weight': 2, 'subsample': 0.7, 'colsample_bytree': 0.7, 'reg_lambda': 0.8461284215267149, 'reg_alpha': 4.3669581415847105, 'feature_fraction': 0.6743655536906256, 'bagging_fraction': 0.8618732989701943, 'bagging_freq': 13, 'num_leaves': 65, 'min_child_samples': 62}. Best is trial 22 with value: -2.0375714833853698.\u001b[0m\n"
     ]
    },
    {
     "name": "stdout",
     "output_type": "stream",
     "text": [
      "[400]\ttraining's l1: 2.11914\tvalid_1's l1: 2.06318\n",
      "Early stopping, best iteration is:\n",
      "[314]\ttraining's l1: 2.13823\tvalid_1's l1: 2.04566\n",
      "[LightGBM] [Warning] feature_fraction is set=0.5796959835671113, colsample_bytree=0.6 will be ignored. Current value: feature_fraction=0.5796959835671113\n",
      "[LightGBM] [Warning] bagging_fraction is set=0.7996327115684936, subsample=0.9 will be ignored. Current value: bagging_fraction=0.7996327115684936\n",
      "[LightGBM] [Warning] bagging_freq is set=15, subsample_freq=0 will be ignored. Current value: bagging_freq=15\n",
      "Training until validation scores don't improve for 100 rounds\n",
      "[100]\ttraining's l1: 2.21791\tvalid_1's l1: 2.0506\n",
      "[200]\ttraining's l1: 2.17233\tvalid_1's l1: 2.04789\n"
     ]
    },
    {
     "name": "stderr",
     "output_type": "stream",
     "text": [
      "\u001b[32m[I 2021-07-30 00:21:15,369]\u001b[0m Trial 43 finished with value: -2.0445360028020656 and parameters: {'max_depth': 2, 'min_child_weight': 4, 'subsample': 0.9, 'colsample_bytree': 0.6, 'reg_lambda': 8.733342245113064, 'reg_alpha': 10.615784206343553, 'feature_fraction': 0.5796959835671113, 'bagging_fraction': 0.7996327115684936, 'bagging_freq': 15, 'num_leaves': 16, 'min_child_samples': 81}. Best is trial 22 with value: -2.0375714833853698.\u001b[0m\n"
     ]
    },
    {
     "name": "stdout",
     "output_type": "stream",
     "text": [
      "Early stopping, best iteration is:\n",
      "[129]\ttraining's l1: 2.1993\tvalid_1's l1: 2.04455\n",
      "[LightGBM] [Warning] feature_fraction is set=0.5151888271304794, colsample_bytree=0.7 will be ignored. Current value: feature_fraction=0.5151888271304794\n",
      "[LightGBM] [Warning] bagging_fraction is set=0.8999557796740064, subsample=0.5 will be ignored. Current value: bagging_fraction=0.8999557796740064\n",
      "[LightGBM] [Warning] bagging_freq is set=11, subsample_freq=0 will be ignored. Current value: bagging_freq=11\n",
      "Training until validation scores don't improve for 100 rounds\n",
      "[100]\ttraining's l1: 2.28553\tvalid_1's l1: 2.07707\n",
      "[200]\ttraining's l1: 2.25285\tvalid_1's l1: 2.057\n",
      "[300]\ttraining's l1: 2.23823\tvalid_1's l1: 2.05079\n",
      "[400]\ttraining's l1: 2.22953\tvalid_1's l1: 2.049\n",
      "[500]\ttraining's l1: 2.22069\tvalid_1's l1: 2.04387\n",
      "[600]\ttraining's l1: 2.21526\tvalid_1's l1: 2.04133\n",
      "[700]\ttraining's l1: 2.20881\tvalid_1's l1: 2.04016\n",
      "[800]\ttraining's l1: 2.20599\tvalid_1's l1: 2.04066\n",
      "Early stopping, best iteration is:\n",
      "[723]\ttraining's l1: 2.20805\tvalid_1's l1: 2.03954\n"
     ]
    },
    {
     "name": "stderr",
     "output_type": "stream",
     "text": [
      "\u001b[32m[I 2021-07-30 00:21:22,418]\u001b[0m Trial 44 finished with value: -2.0394384260365985 and parameters: {'max_depth': 1, 'min_child_weight': 2, 'subsample': 0.5, 'colsample_bytree': 0.7, 'reg_lambda': 0.05497032626123767, 'reg_alpha': 55.84415312590981, 'feature_fraction': 0.5151888271304794, 'bagging_fraction': 0.8999557796740064, 'bagging_freq': 11, 'num_leaves': 202, 'min_child_samples': 88}. Best is trial 22 with value: -2.0375714833853698.\u001b[0m\n"
     ]
    },
    {
     "name": "stdout",
     "output_type": "stream",
     "text": [
      "[LightGBM] [Warning] feature_fraction is set=0.496117657986992, colsample_bytree=0.8 will be ignored. Current value: feature_fraction=0.496117657986992\n",
      "[LightGBM] [Warning] bagging_fraction is set=0.9000290430242169, subsample=0.6 will be ignored. Current value: bagging_fraction=0.9000290430242169\n",
      "[LightGBM] [Warning] bagging_freq is set=11, subsample_freq=0 will be ignored. Current value: bagging_freq=11\n",
      "Training until validation scores don't improve for 100 rounds\n",
      "[100]\ttraining's l1: 2.16246\tvalid_1's l1: 2.04757\n"
     ]
    },
    {
     "name": "stderr",
     "output_type": "stream",
     "text": [
      "\u001b[32m[I 2021-07-30 00:21:24,625]\u001b[0m Trial 45 finished with value: -2.046039525695633 and parameters: {'max_depth': 3, 'min_child_weight': 3, 'subsample': 0.6, 'colsample_bytree': 0.8, 'reg_lambda': 0.0409906667130669, 'reg_alpha': 98.14205240858217, 'feature_fraction': 0.496117657986992, 'bagging_fraction': 0.9000290430242169, 'bagging_freq': 11, 'num_leaves': 411, 'min_child_samples': 98}. Best is trial 22 with value: -2.0375714833853698.\u001b[0m\n"
     ]
    },
    {
     "name": "stdout",
     "output_type": "stream",
     "text": [
      "Early stopping, best iteration is:\n",
      "[93]\ttraining's l1: 2.16738\tvalid_1's l1: 2.04604\n",
      "[LightGBM] [Warning] feature_fraction is set=0.5485369080760693, colsample_bytree=0.7 will be ignored. Current value: feature_fraction=0.5485369080760693\n",
      "[LightGBM] [Warning] bagging_fraction is set=0.7388056824891739, subsample=0.9 will be ignored. Current value: bagging_fraction=0.7388056824891739\n",
      "[LightGBM] [Warning] bagging_freq is set=11, subsample_freq=0 will be ignored. Current value: bagging_freq=11\n",
      "Training until validation scores don't improve for 100 rounds\n",
      "[100]\ttraining's l1: 2.28341\tvalid_1's l1: 2.07589\n",
      "[200]\ttraining's l1: 2.25251\tvalid_1's l1: 2.05588\n",
      "[300]\ttraining's l1: 2.23787\tvalid_1's l1: 2.04954\n",
      "[400]\ttraining's l1: 2.22771\tvalid_1's l1: 2.04557\n",
      "Early stopping, best iteration is:\n",
      "[329]\ttraining's l1: 2.23342\tvalid_1's l1: 2.04495\n"
     ]
    },
    {
     "name": "stderr",
     "output_type": "stream",
     "text": [
      "\u001b[32m[I 2021-07-30 00:21:28,193]\u001b[0m Trial 46 finished with value: -2.0449387845388216 and parameters: {'max_depth': 1, 'min_child_weight': 2, 'subsample': 0.9, 'colsample_bytree': 0.7, 'reg_lambda': 0.05532050479843912, 'reg_alpha': 27.08480361424126, 'feature_fraction': 0.5485369080760693, 'bagging_fraction': 0.7388056824891739, 'bagging_freq': 11, 'num_leaves': 203, 'min_child_samples': 88}. Best is trial 22 with value: -2.0375714833853698.\u001b[0m\n"
     ]
    },
    {
     "name": "stdout",
     "output_type": "stream",
     "text": [
      "[LightGBM] [Warning] feature_fraction is set=0.45466877665114463, colsample_bytree=0.7 will be ignored. Current value: feature_fraction=0.45466877665114463\n",
      "[LightGBM] [Warning] bagging_fraction is set=0.976137724223494, subsample=0.8 will be ignored. Current value: bagging_fraction=0.976137724223494\n",
      "[LightGBM] [Warning] bagging_freq is set=12, subsample_freq=0 will be ignored. Current value: bagging_freq=12\n",
      "Training until validation scores don't improve for 100 rounds\n",
      "[100]\ttraining's l1: 2.21937\tvalid_1's l1: 2.05563\n",
      "[200]\ttraining's l1: 2.17886\tvalid_1's l1: 2.0481\n"
     ]
    },
    {
     "name": "stderr",
     "output_type": "stream",
     "text": [
      "\u001b[32m[I 2021-07-30 00:21:31,107]\u001b[0m Trial 47 finished with value: -2.046888552971342 and parameters: {'max_depth': 2, 'min_child_weight': 5, 'subsample': 0.8, 'colsample_bytree': 0.7, 'reg_lambda': 0.005378620788604367, 'reg_alpha': 167.22582368260643, 'feature_fraction': 0.45466877665114463, 'bagging_fraction': 0.976137724223494, 'bagging_freq': 12, 'num_leaves': 265, 'min_child_samples': 96}. Best is trial 22 with value: -2.0375714833853698.\u001b[0m\n"
     ]
    },
    {
     "name": "stdout",
     "output_type": "stream",
     "text": [
      "Early stopping, best iteration is:\n",
      "[181]\ttraining's l1: 2.18416\tvalid_1's l1: 2.04691\n",
      "[LightGBM] [Warning] feature_fraction is set=0.42284424486590316, colsample_bytree=0.8 will be ignored. Current value: feature_fraction=0.42284424486590316\n",
      "[LightGBM] [Warning] bagging_fraction is set=0.6671745270781388, subsample=0.8 will be ignored. Current value: bagging_fraction=0.6671745270781388\n",
      "[LightGBM] [Warning] bagging_freq is set=6, subsample_freq=0 will be ignored. Current value: bagging_freq=6\n",
      "Training until validation scores don't improve for 100 rounds\n",
      "[100]\ttraining's l1: 2.18469\tvalid_1's l1: 2.05988\n",
      "[200]\ttraining's l1: 2.13804\tvalid_1's l1: 2.05265\n"
     ]
    },
    {
     "name": "stderr",
     "output_type": "stream",
     "text": [
      "\u001b[32m[I 2021-07-30 00:21:33,341]\u001b[0m Trial 48 finished with value: -2.0519571843724513 and parameters: {'max_depth': 3, 'min_child_weight': 8, 'subsample': 0.8, 'colsample_bytree': 0.8, 'reg_lambda': 0.22502827941004694, 'reg_alpha': 426.64655680261353, 'feature_fraction': 0.42284424486590316, 'bagging_fraction': 0.6671745270781388, 'bagging_freq': 6, 'num_leaves': 117, 'min_child_samples': 87}. Best is trial 22 with value: -2.0375714833853698.\u001b[0m\n"
     ]
    },
    {
     "name": "stdout",
     "output_type": "stream",
     "text": [
      "Early stopping, best iteration is:\n",
      "[167]\ttraining's l1: 2.14892\tvalid_1's l1: 2.05196\n",
      "[LightGBM] [Warning] feature_fraction is set=0.2777193457681813, colsample_bytree=0.7 will be ignored. Current value: feature_fraction=0.2777193457681813\n",
      "[LightGBM] [Warning] bagging_fraction is set=0.9577626253641722, subsample=0.9 will be ignored. Current value: bagging_fraction=0.9577626253641722\n",
      "[LightGBM] [Warning] bagging_freq is set=9, subsample_freq=0 will be ignored. Current value: bagging_freq=9\n",
      "Training until validation scores don't improve for 100 rounds\n",
      "[100]\ttraining's l1: 2.29365\tvalid_1's l1: 2.08803\n",
      "[200]\ttraining's l1: 2.25836\tvalid_1's l1: 2.06128\n",
      "[300]\ttraining's l1: 2.24296\tvalid_1's l1: 2.0557\n",
      "[400]\ttraining's l1: 2.2333\tvalid_1's l1: 2.052\n",
      "[500]\ttraining's l1: 2.22476\tvalid_1's l1: 2.04889\n",
      "[600]\ttraining's l1: 2.21783\tvalid_1's l1: 2.04502\n",
      "[700]\ttraining's l1: 2.2116\tvalid_1's l1: 2.04444\n",
      "[800]\ttraining's l1: 2.20758\tvalid_1's l1: 2.04369\n",
      "[900]\ttraining's l1: 2.20412\tvalid_1's l1: 2.04303\n"
     ]
    },
    {
     "name": "stderr",
     "output_type": "stream",
     "text": [
      "\u001b[32m[I 2021-07-30 00:21:40,557]\u001b[0m Trial 49 finished with value: -2.042567898973257 and parameters: {'max_depth': 1, 'min_child_weight': 6, 'subsample': 0.9, 'colsample_bytree': 0.7, 'reg_lambda': 0.16652488724955772, 'reg_alpha': 53.30057598528165, 'feature_fraction': 0.2777193457681813, 'bagging_fraction': 0.9577626253641722, 'bagging_freq': 9, 'num_leaves': 349, 'min_child_samples': 79}. Best is trial 22 with value: -2.0375714833853698.\u001b[0m\n"
     ]
    },
    {
     "name": "stdout",
     "output_type": "stream",
     "text": [
      "Early stopping, best iteration is:\n",
      "[890]\ttraining's l1: 2.20438\tvalid_1's l1: 2.04279\n",
      "[LightGBM] [Warning] feature_fraction is set=0.7590738529200586, colsample_bytree=0.8 will be ignored. Current value: feature_fraction=0.7590738529200586\n",
      "[LightGBM] [Warning] bagging_fraction is set=0.7757365947588811, subsample=0.9 will be ignored. Current value: bagging_fraction=0.7757365947588811\n",
      "[LightGBM] [Warning] bagging_freq is set=12, subsample_freq=0 will be ignored. Current value: bagging_freq=12\n",
      "Training until validation scores don't improve for 100 rounds\n",
      "[100]\ttraining's l1: 2.09833\tvalid_1's l1: 2.05816\n"
     ]
    },
    {
     "name": "stderr",
     "output_type": "stream",
     "text": [
      "\u001b[32m[I 2021-07-30 00:21:42,091]\u001b[0m Trial 50 finished with value: -2.0498667073844663 and parameters: {'max_depth': 4, 'min_child_weight': 4, 'subsample': 0.9, 'colsample_bytree': 0.8, 'reg_lambda': 0.49024487938002664, 'reg_alpha': 44.92396392778091, 'feature_fraction': 0.7590738529200586, 'bagging_fraction': 0.7757365947588811, 'bagging_freq': 12, 'num_leaves': 445, 'min_child_samples': 18}. Best is trial 22 with value: -2.0375714833853698.\u001b[0m\n"
     ]
    },
    {
     "name": "stdout",
     "output_type": "stream",
     "text": [
      "Early stopping, best iteration is:\n",
      "[49]\ttraining's l1: 2.16753\tvalid_1's l1: 2.04987\n",
      "[LightGBM] [Warning] feature_fraction is set=0.5285286492376718, colsample_bytree=0.6 will be ignored. Current value: feature_fraction=0.5285286492376718\n",
      "[LightGBM] [Warning] bagging_fraction is set=0.8431682266747477, subsample=0.5 will be ignored. Current value: bagging_fraction=0.8431682266747477\n",
      "[LightGBM] [Warning] bagging_freq is set=17, subsample_freq=0 will be ignored. Current value: bagging_freq=17\n",
      "Training until validation scores don't improve for 100 rounds\n",
      "[100]\ttraining's l1: 2.28217\tvalid_1's l1: 2.078\n",
      "[200]\ttraining's l1: 2.25346\tvalid_1's l1: 2.06053\n",
      "[300]\ttraining's l1: 2.23608\tvalid_1's l1: 2.04849\n",
      "[400]\ttraining's l1: 2.22575\tvalid_1's l1: 2.04436\n"
     ]
    },
    {
     "name": "stderr",
     "output_type": "stream",
     "text": [
      "\u001b[32m[I 2021-07-30 00:21:46,535]\u001b[0m Trial 51 finished with value: -2.042506092301162 and parameters: {'max_depth': 1, 'min_child_weight': 1, 'subsample': 0.5, 'colsample_bytree': 0.6, 'reg_lambda': 5.1383382383131515, 'reg_alpha': 4.181787119331881, 'feature_fraction': 0.5285286492376718, 'bagging_fraction': 0.8431682266747477, 'bagging_freq': 17, 'num_leaves': 137, 'min_child_samples': 50}. Best is trial 22 with value: -2.0375714833853698.\u001b[0m\n"
     ]
    },
    {
     "name": "stdout",
     "output_type": "stream",
     "text": [
      "[500]\ttraining's l1: 2.21731\tvalid_1's l1: 2.04309\n",
      "Early stopping, best iteration is:\n",
      "[412]\ttraining's l1: 2.2241\tvalid_1's l1: 2.04252\n",
      "[LightGBM] [Warning] feature_fraction is set=0.6168703726214695, colsample_bytree=0.5 will be ignored. Current value: feature_fraction=0.6168703726214695\n",
      "[LightGBM] [Warning] bagging_fraction is set=0.8908990848887012, subsample=0.5 will be ignored. Current value: bagging_fraction=0.8908990848887012\n",
      "[LightGBM] [Warning] bagging_freq is set=13, subsample_freq=0 will be ignored. Current value: bagging_freq=13\n",
      "Training until validation scores don't improve for 100 rounds\n",
      "[100]\ttraining's l1: 2.2152\tvalid_1's l1: 2.05698\n",
      "[200]\ttraining's l1: 2.16998\tvalid_1's l1: 2.04612\n"
     ]
    },
    {
     "name": "stderr",
     "output_type": "stream",
     "text": [
      "\u001b[32m[I 2021-07-30 00:21:49,589]\u001b[0m Trial 52 finished with value: -2.0444909125896236 and parameters: {'max_depth': 2, 'min_child_weight': 1, 'subsample': 0.5, 'colsample_bytree': 0.5, 'reg_lambda': 2.43671444440007, 'reg_alpha': 0.6282478133882865, 'feature_fraction': 0.6168703726214695, 'bagging_fraction': 0.8908990848887012, 'bagging_freq': 13, 'num_leaves': 24, 'min_child_samples': 37}. Best is trial 22 with value: -2.0375714833853698.\u001b[0m\n"
     ]
    },
    {
     "name": "stdout",
     "output_type": "stream",
     "text": [
      "[300]\ttraining's l1: 2.14537\tvalid_1's l1: 2.04671\n",
      "Early stopping, best iteration is:\n",
      "[223]\ttraining's l1: 2.16351\tvalid_1's l1: 2.04455\n",
      "[LightGBM] [Warning] feature_fraction is set=0.6583899590553168, colsample_bytree=0.6 will be ignored. Current value: feature_fraction=0.6583899590553168\n",
      "[LightGBM] [Warning] bagging_fraction is set=0.8267522285940645, subsample=0.5 will be ignored. Current value: bagging_fraction=0.8267522285940645\n",
      "[LightGBM] [Warning] bagging_freq is set=19, subsample_freq=0 will be ignored. Current value: bagging_freq=19\n",
      "Training until validation scores don't improve for 100 rounds\n",
      "[100]\ttraining's l1: 2.21569\tvalid_1's l1: 2.05387\n",
      "[200]\ttraining's l1: 2.16875\tvalid_1's l1: 2.04622\n"
     ]
    },
    {
     "name": "stderr",
     "output_type": "stream",
     "text": [
      "\u001b[32m[I 2021-07-30 00:21:51,522]\u001b[0m Trial 53 finished with value: -2.0428143079963745 and parameters: {'max_depth': 2, 'min_child_weight': 2, 'subsample': 0.5, 'colsample_bytree': 0.6, 'reg_lambda': 1.5565400254714263, 'reg_alpha': 0.0010940781919236756, 'feature_fraction': 0.6583899590553168, 'bagging_fraction': 0.8267522285940645, 'bagging_freq': 19, 'num_leaves': 160, 'min_child_samples': 70}. Best is trial 22 with value: -2.0375714833853698.\u001b[0m\n"
     ]
    },
    {
     "name": "stdout",
     "output_type": "stream",
     "text": [
      "Early stopping, best iteration is:\n",
      "[163]\ttraining's l1: 2.18171\tvalid_1's l1: 2.04284\n",
      "[LightGBM] [Warning] feature_fraction is set=0.7355809416214418, colsample_bytree=0.6 will be ignored. Current value: feature_fraction=0.7355809416214418\n",
      "[LightGBM] [Warning] bagging_fraction is set=0.7027586789595901, subsample=0.5 will be ignored. Current value: bagging_fraction=0.7027586789595901\n",
      "[LightGBM] [Warning] bagging_freq is set=10, subsample_freq=0 will be ignored. Current value: bagging_freq=10\n",
      "Training until validation scores don't improve for 100 rounds\n",
      "[100]\ttraining's l1: 2.28277\tvalid_1's l1: 2.07848\n",
      "[200]\ttraining's l1: 2.25239\tvalid_1's l1: 2.05661\n",
      "[300]\ttraining's l1: 2.23446\tvalid_1's l1: 2.04628\n",
      "[400]\ttraining's l1: 2.2235\tvalid_1's l1: 2.04151\n",
      "[500]\ttraining's l1: 2.2162\tvalid_1's l1: 2.04035\n"
     ]
    },
    {
     "name": "stderr",
     "output_type": "stream",
     "text": [
      "\u001b[32m[I 2021-07-30 00:21:54,363]\u001b[0m Trial 54 finished with value: -2.040275939510785 and parameters: {'max_depth': 1, 'min_child_weight': 3, 'subsample': 0.5, 'colsample_bytree': 0.6, 'reg_lambda': 0.08006300903476216, 'reg_alpha': 1.5524671773501795, 'feature_fraction': 0.7355809416214418, 'bagging_fraction': 0.7027586789595901, 'bagging_freq': 10, 'num_leaves': 78, 'min_child_samples': 83}. Best is trial 22 with value: -2.0375714833853698.\u001b[0m\n"
     ]
    },
    {
     "name": "stdout",
     "output_type": "stream",
     "text": [
      "Early stopping, best iteration is:\n",
      "[499]\ttraining's l1: 2.21624\tvalid_1's l1: 2.04033\n",
      "[LightGBM] [Warning] feature_fraction is set=0.5730349425873956, colsample_bytree=0.7 will be ignored. Current value: feature_fraction=0.5730349425873956\n",
      "[LightGBM] [Warning] bagging_fraction is set=0.810238642220606, subsample=0.6 will be ignored. Current value: bagging_fraction=0.810238642220606\n",
      "[LightGBM] [Warning] bagging_freq is set=15, subsample_freq=0 will be ignored. Current value: bagging_freq=15\n",
      "Training until validation scores don't improve for 100 rounds\n",
      "[100]\ttraining's l1: 2.1553\tvalid_1's l1: 2.05276\n",
      "[200]\ttraining's l1: 2.10337\tvalid_1's l1: 2.05927\n"
     ]
    },
    {
     "name": "stderr",
     "output_type": "stream",
     "text": [
      "\u001b[32m[I 2021-07-30 00:21:56,940]\u001b[0m Trial 55 finished with value: -2.0513640843318726 and parameters: {'max_depth': 3, 'min_child_weight': 1, 'subsample': 0.6, 'colsample_bytree': 0.7, 'reg_lambda': 20.749443398253916, 'reg_alpha': 7.2455076168374575, 'feature_fraction': 0.5730349425873956, 'bagging_fraction': 0.810238642220606, 'bagging_freq': 15, 'num_leaves': 201, 'min_child_samples': 73}. Best is trial 22 with value: -2.0375714833853698.\u001b[0m\n"
     ]
    },
    {
     "name": "stdout",
     "output_type": "stream",
     "text": [
      "Early stopping, best iteration is:\n",
      "[129]\ttraining's l1: 2.13831\tvalid_1's l1: 2.0514\n",
      "[LightGBM] [Warning] feature_fraction is set=0.6314257170580743, colsample_bytree=0.6 will be ignored. Current value: feature_fraction=0.6314257170580743\n",
      "[LightGBM] [Warning] bagging_fraction is set=0.6278122824181963, subsample=0.5 will be ignored. Current value: bagging_fraction=0.6278122824181963\n",
      "[LightGBM] [Warning] bagging_freq is set=16, subsample_freq=0 will be ignored. Current value: bagging_freq=16\n",
      "Training until validation scores don't improve for 100 rounds\n",
      "[100]\ttraining's l1: 1.77833\tvalid_1's l1: 2.14154\n"
     ]
    },
    {
     "name": "stderr",
     "output_type": "stream",
     "text": [
      "\u001b[32m[I 2021-07-30 00:21:59,945]\u001b[0m Trial 56 finished with value: -2.0811334005978783 and parameters: {'max_depth': 11, 'min_child_weight': 2, 'subsample': 0.5, 'colsample_bytree': 0.6, 'reg_lambda': 0.9597814629917741, 'reg_alpha': 3.327710869652234, 'feature_fraction': 0.6314257170580743, 'bagging_fraction': 0.6278122824181963, 'bagging_freq': 16, 'num_leaves': 228, 'min_child_samples': 95}. Best is trial 22 with value: -2.0375714833853698.\u001b[0m\n"
     ]
    },
    {
     "name": "stdout",
     "output_type": "stream",
     "text": [
      "Early stopping, best iteration is:\n",
      "[31]\ttraining's l1: 1.97891\tvalid_1's l1: 2.08113\n",
      "[LightGBM] [Warning] feature_fraction is set=0.5100430719886615, colsample_bytree=0.7 will be ignored. Current value: feature_fraction=0.5100430719886615\n",
      "[LightGBM] [Warning] bagging_fraction is set=0.9444400283463885, subsample=0.5 will be ignored. Current value: bagging_fraction=0.9444400283463885\n",
      "[LightGBM] [Warning] bagging_freq is set=8, subsample_freq=0 will be ignored. Current value: bagging_freq=8\n",
      "Training until validation scores don't improve for 100 rounds\n",
      "[100]\ttraining's l1: 2.11691\tvalid_1's l1: 2.0471\n"
     ]
    },
    {
     "name": "stderr",
     "output_type": "stream",
     "text": [
      "\u001b[32m[I 2021-07-30 00:22:02,254]\u001b[0m Trial 57 finished with value: -2.0336315585840725 and parameters: {'max_depth': 8, 'min_child_weight': 5, 'subsample': 0.5, 'colsample_bytree': 0.7, 'reg_lambda': 0.5078328819318434, 'reg_alpha': 0.3444492532547177, 'feature_fraction': 0.5100430719886615, 'bagging_fraction': 0.9444400283463885, 'bagging_freq': 8, 'num_leaves': 11, 'min_child_samples': 44}. Best is trial 57 with value: -2.0336315585840725.\u001b[0m\n"
     ]
    },
    {
     "name": "stdout",
     "output_type": "stream",
     "text": [
      "Early stopping, best iteration is:\n",
      "[72]\ttraining's l1: 2.14588\tvalid_1's l1: 2.03364\n",
      "[LightGBM] [Warning] feature_fraction is set=0.5166319885140896, colsample_bytree=0.7 will be ignored. Current value: feature_fraction=0.5166319885140896\n",
      "[LightGBM] [Warning] bagging_fraction is set=0.9395939646639255, subsample=0.6 will be ignored. Current value: bagging_fraction=0.9395939646639255\n",
      "[LightGBM] [Warning] bagging_freq is set=7, subsample_freq=0 will be ignored. Current value: bagging_freq=7\n",
      "Training until validation scores don't improve for 100 rounds\n",
      "[100]\ttraining's l1: 1.74056\tvalid_1's l1: 2.1641\n"
     ]
    },
    {
     "name": "stderr",
     "output_type": "stream",
     "text": [
      "\u001b[32m[I 2021-07-30 00:22:05,417]\u001b[0m Trial 58 finished with value: -2.071796050413187 and parameters: {'max_depth': 9, 'min_child_weight': 5, 'subsample': 0.6, 'colsample_bytree': 0.7, 'reg_lambda': 0.3782075975678668, 'reg_alpha': 0.12049735036483934, 'feature_fraction': 0.5166319885140896, 'bagging_fraction': 0.9395939646639255, 'bagging_freq': 7, 'num_leaves': 561, 'min_child_samples': 31}. Best is trial 57 with value: -2.0336315585840725.\u001b[0m\n"
     ]
    },
    {
     "name": "stdout",
     "output_type": "stream",
     "text": [
      "Early stopping, best iteration is:\n",
      "[30]\ttraining's l1: 1.96971\tvalid_1's l1: 2.0718\n",
      "[LightGBM] [Warning] feature_fraction is set=0.42181767502080975, colsample_bytree=0.7 will be ignored. Current value: feature_fraction=0.42181767502080975\n",
      "[LightGBM] [Warning] bagging_fraction is set=0.9286769101220098, subsample=0.5 will be ignored. Current value: bagging_fraction=0.9286769101220098\n",
      "[LightGBM] [Warning] bagging_freq is set=8, subsample_freq=0 will be ignored. Current value: bagging_freq=8\n",
      "Training until validation scores don't improve for 100 rounds\n",
      "[100]\ttraining's l1: 2.03357\tvalid_1's l1: 2.0714\n"
     ]
    },
    {
     "name": "stderr",
     "output_type": "stream",
     "text": [
      "\u001b[32m[I 2021-07-30 00:22:07,417]\u001b[0m Trial 59 finished with value: -2.0501442606814306 and parameters: {'max_depth': 5, 'min_child_weight': 7, 'subsample': 0.5, 'colsample_bytree': 0.7, 'reg_lambda': 0.1468740921035018, 'reg_alpha': 0.2445607053530426, 'feature_fraction': 0.42181767502080975, 'bagging_fraction': 0.9286769101220098, 'bagging_freq': 8, 'num_leaves': 116, 'min_child_samples': 16}. Best is trial 57 with value: -2.0336315585840725.\u001b[0m\n"
     ]
    },
    {
     "name": "stdout",
     "output_type": "stream",
     "text": [
      "Early stopping, best iteration is:\n",
      "[45]\ttraining's l1: 2.12927\tvalid_1's l1: 2.05014\n",
      "[LightGBM] [Warning] feature_fraction is set=0.36987049534454897, colsample_bytree=0.7 will be ignored. Current value: feature_fraction=0.36987049534454897\n",
      "[LightGBM] [Warning] bagging_fraction is set=0.568177208214194, subsample=0.9 will be ignored. Current value: bagging_fraction=0.568177208214194\n",
      "[LightGBM] [Warning] bagging_freq is set=6, subsample_freq=0 will be ignored. Current value: bagging_freq=6\n",
      "Training until validation scores don't improve for 100 rounds\n",
      "[100]\ttraining's l1: 2.13193\tvalid_1's l1: 2.04751\n"
     ]
    },
    {
     "name": "stderr",
     "output_type": "stream",
     "text": [
      "\u001b[32m[I 2021-07-30 00:22:09,249]\u001b[0m Trial 60 finished with value: -2.043542163201349 and parameters: {'max_depth': 7, 'min_child_weight': 7, 'subsample': 0.9, 'colsample_bytree': 0.7, 'reg_lambda': 0.02831446647781161, 'reg_alpha': 0.03670827470278576, 'feature_fraction': 0.36987049534454897, 'bagging_fraction': 0.568177208214194, 'bagging_freq': 6, 'num_leaves': 10, 'min_child_samples': 86}. Best is trial 57 with value: -2.0336315585840725.\u001b[0m\n"
     ]
    },
    {
     "name": "stdout",
     "output_type": "stream",
     "text": [
      "[200]\ttraining's l1: 2.06907\tvalid_1's l1: 2.05593\n",
      "Early stopping, best iteration is:\n",
      "[113]\ttraining's l1: 2.12078\tvalid_1's l1: 2.04359\n",
      "[LightGBM] [Warning] feature_fraction is set=0.47776838256052245, colsample_bytree=0.6 will be ignored. Current value: feature_fraction=0.47776838256052245\n",
      "[LightGBM] [Warning] bagging_fraction is set=0.7299710432494528, subsample=0.5 will be ignored. Current value: bagging_fraction=0.7299710432494528\n",
      "[LightGBM] [Warning] bagging_freq is set=9, subsample_freq=0 will be ignored. Current value: bagging_freq=9\n",
      "Training until validation scores don't improve for 100 rounds\n",
      "[100]\ttraining's l1: 1.92786\tvalid_1's l1: 2.11104\n"
     ]
    },
    {
     "name": "stderr",
     "output_type": "stream",
     "text": [
      "\u001b[32m[I 2021-07-30 00:22:11,354]\u001b[0m Trial 61 finished with value: -2.0568554477668597 and parameters: {'max_depth': 16, 'min_child_weight': 4, 'subsample': 0.5, 'colsample_bytree': 0.6, 'reg_lambda': 0.49390006020946314, 'reg_alpha': 0.41174482495098774, 'feature_fraction': 0.47776838256052245, 'bagging_fraction': 0.7299710432494528, 'bagging_freq': 9, 'num_leaves': 48, 'min_child_samples': 43}. Best is trial 57 with value: -2.0336315585840725.\u001b[0m\n"
     ]
    },
    {
     "name": "stdout",
     "output_type": "stream",
     "text": [
      "Early stopping, best iteration is:\n",
      "[35]\ttraining's l1: 2.09641\tvalid_1's l1: 2.05686\n",
      "[LightGBM] [Warning] feature_fraction is set=0.5645973950650556, colsample_bytree=0.7 will be ignored. Current value: feature_fraction=0.5645973950650556\n",
      "[LightGBM] [Warning] bagging_fraction is set=0.8804753164055329, subsample=0.5 will be ignored. Current value: bagging_fraction=0.8804753164055329\n",
      "[LightGBM] [Warning] bagging_freq is set=12, subsample_freq=0 will be ignored. Current value: bagging_freq=12\n",
      "Training until validation scores don't improve for 100 rounds\n",
      "[100]\ttraining's l1: 1.91134\tvalid_1's l1: 2.11157\n"
     ]
    },
    {
     "name": "stderr",
     "output_type": "stream",
     "text": [
      "\u001b[32m[I 2021-07-30 00:22:13,898]\u001b[0m Trial 62 finished with value: -2.0624589905433885 and parameters: {'max_depth': 12, 'min_child_weight': 3, 'subsample': 0.5, 'colsample_bytree': 0.7, 'reg_lambda': 3.036934146741445, 'reg_alpha': 1.2276473266884018, 'feature_fraction': 0.5645973950650556, 'bagging_fraction': 0.8804753164055329, 'bagging_freq': 12, 'num_leaves': 59, 'min_child_samples': 91}. Best is trial 57 with value: -2.0336315585840725.\u001b[0m\n"
     ]
    },
    {
     "name": "stdout",
     "output_type": "stream",
     "text": [
      "Early stopping, best iteration is:\n",
      "[31]\ttraining's l1: 2.09142\tvalid_1's l1: 2.06246\n",
      "[LightGBM] [Warning] feature_fraction is set=0.6651104636337916, colsample_bytree=0.7 will be ignored. Current value: feature_fraction=0.6651104636337916\n",
      "[LightGBM] [Warning] bagging_fraction is set=0.44387068691329945, subsample=0.5 will be ignored. Current value: bagging_fraction=0.44387068691329945\n",
      "[LightGBM] [Warning] bagging_freq is set=10, subsample_freq=0 will be ignored. Current value: bagging_freq=10\n",
      "Training until validation scores don't improve for 100 rounds\n",
      "[100]\ttraining's l1: 1.88025\tvalid_1's l1: 2.12801\n"
     ]
    },
    {
     "name": "stderr",
     "output_type": "stream",
     "text": [
      "\u001b[32m[I 2021-07-30 00:22:15,681]\u001b[0m Trial 63 finished with value: -2.0587742515436904 and parameters: {'max_depth': 9, 'min_child_weight': 5, 'subsample': 0.5, 'colsample_bytree': 0.7, 'reg_lambda': 45.717329516020165, 'reg_alpha': 16.73374826504198, 'feature_fraction': 0.6651104636337916, 'bagging_fraction': 0.44387068691329945, 'bagging_freq': 10, 'num_leaves': 114, 'min_child_samples': 54}. Best is trial 57 with value: -2.0336315585840725.\u001b[0m\n"
     ]
    },
    {
     "name": "stdout",
     "output_type": "stream",
     "text": [
      "Early stopping, best iteration is:\n",
      "[31]\ttraining's l1: 2.07073\tvalid_1's l1: 2.05877\n",
      "[LightGBM] [Warning] feature_fraction is set=0.7833430234762454, colsample_bytree=0.6 will be ignored. Current value: feature_fraction=0.7833430234762454\n",
      "[LightGBM] [Warning] bagging_fraction is set=0.7768691844683905, subsample=0.6 will be ignored. Current value: bagging_fraction=0.7768691844683905\n",
      "[LightGBM] [Warning] bagging_freq is set=14, subsample_freq=0 will be ignored. Current value: bagging_freq=14\n",
      "Training until validation scores don't improve for 100 rounds\n",
      "[100]\ttraining's l1: 2.28147\tvalid_1's l1: 2.07876\n",
      "[200]\ttraining's l1: 2.25332\tvalid_1's l1: 2.06066\n",
      "[300]\ttraining's l1: 2.23676\tvalid_1's l1: 2.05137\n",
      "[400]\ttraining's l1: 2.2253\tvalid_1's l1: 2.04476\n",
      "[500]\ttraining's l1: 2.21881\tvalid_1's l1: 2.04409\n",
      "[600]\ttraining's l1: 2.21084\tvalid_1's l1: 2.04217\n"
     ]
    },
    {
     "name": "stderr",
     "output_type": "stream",
     "text": [
      "\u001b[32m[I 2021-07-30 00:22:18,942]\u001b[0m Trial 64 finished with value: -2.040687820962223 and parameters: {'max_depth': 1, 'min_child_weight': 4, 'subsample': 0.6, 'colsample_bytree': 0.6, 'reg_lambda': 5.622447863527415, 'reg_alpha': 7.645203801876681, 'feature_fraction': 0.7833430234762454, 'bagging_fraction': 0.7768691844683905, 'bagging_freq': 14, 'num_leaves': 705, 'min_child_samples': 61}. Best is trial 57 with value: -2.0336315585840725.\u001b[0m\n"
     ]
    },
    {
     "name": "stdout",
     "output_type": "stream",
     "text": [
      "Early stopping, best iteration is:\n",
      "[561]\ttraining's l1: 2.21328\tvalid_1's l1: 2.04073\n",
      "[LightGBM] [Warning] feature_fraction is set=0.721389540373257, colsample_bytree=0.8 will be ignored. Current value: feature_fraction=0.721389540373257\n",
      "[LightGBM] [Warning] bagging_fraction is set=0.8490878436968291, subsample=0.5 will be ignored. Current value: bagging_fraction=0.8490878436968291\n",
      "[LightGBM] [Warning] bagging_freq is set=18, subsample_freq=0 will be ignored. Current value: bagging_freq=18\n",
      "Training until validation scores don't improve for 100 rounds\n",
      "[100]\ttraining's l1: 1.83725\tvalid_1's l1: 2.11727\n"
     ]
    },
    {
     "name": "stderr",
     "output_type": "stream",
     "text": [
      "\u001b[32m[I 2021-07-30 00:22:21,195]\u001b[0m Trial 65 finished with value: -2.068998972170151 and parameters: {'max_depth': 8, 'min_child_weight': 3, 'subsample': 0.5, 'colsample_bytree': 0.8, 'reg_lambda': 13.611838072162506, 'reg_alpha': 0.2814692475444058, 'feature_fraction': 0.721389540373257, 'bagging_fraction': 0.8490878436968291, 'bagging_freq': 18, 'num_leaves': 173, 'min_child_samples': 78}. Best is trial 57 with value: -2.0336315585840725.\u001b[0m\n"
     ]
    },
    {
     "name": "stdout",
     "output_type": "stream",
     "text": [
      "Early stopping, best iteration is:\n",
      "[39]\ttraining's l1: 1.98579\tvalid_1's l1: 2.06902\n",
      "[LightGBM] [Warning] feature_fraction is set=0.6924517011082403, colsample_bytree=0.5 will be ignored. Current value: feature_fraction=0.6924517011082403\n",
      "[LightGBM] [Warning] bagging_fraction is set=0.9682644387074334, subsample=0.5 will be ignored. Current value: bagging_fraction=0.9682644387074334\n",
      "[LightGBM] [Warning] bagging_freq is set=13, subsample_freq=0 will be ignored. Current value: bagging_freq=13\n",
      "Training until validation scores don't improve for 100 rounds\n",
      "[100]\ttraining's l1: 2.21614\tvalid_1's l1: 2.05184\n",
      "[200]\ttraining's l1: 2.17339\tvalid_1's l1: 2.05033\n",
      "[300]\ttraining's l1: 2.14749\tvalid_1's l1: 2.04825\n"
     ]
    },
    {
     "name": "stderr",
     "output_type": "stream",
     "text": [
      "\u001b[32m[I 2021-07-30 00:22:23,859]\u001b[0m Trial 66 finished with value: -2.0464011648645637 and parameters: {'max_depth': 2, 'min_child_weight': 1, 'subsample': 0.5, 'colsample_bytree': 0.5, 'reg_lambda': 1.181698787112483, 'reg_alpha': 1.0667368035744365, 'feature_fraction': 0.6924517011082403, 'bagging_fraction': 0.9682644387074334, 'bagging_freq': 13, 'num_leaves': 10, 'min_child_samples': 24}. Best is trial 57 with value: -2.0336315585840725.\u001b[0m\n"
     ]
    },
    {
     "name": "stdout",
     "output_type": "stream",
     "text": [
      "Early stopping, best iteration is:\n",
      "[275]\ttraining's l1: 2.1535\tvalid_1's l1: 2.04652\n",
      "[LightGBM] [Warning] feature_fraction is set=0.5938051536312576, colsample_bytree=0.6 will be ignored. Current value: feature_fraction=0.5938051536312576\n",
      "[LightGBM] [Warning] bagging_fraction is set=0.6920870115071447, subsample=0.9 will be ignored. Current value: bagging_fraction=0.6920870115071447\n",
      "[LightGBM] [Warning] bagging_freq is set=11, subsample_freq=0 will be ignored. Current value: bagging_freq=11\n",
      "Training until validation scores don't improve for 100 rounds\n",
      "[100]\ttraining's l1: 2.1496\tvalid_1's l1: 2.05368\n"
     ]
    },
    {
     "name": "stderr",
     "output_type": "stream",
     "text": [
      "\u001b[32m[I 2021-07-30 00:22:25,831]\u001b[0m Trial 67 finished with value: -2.0468043174974264 and parameters: {'max_depth': 3, 'min_child_weight': 20, 'subsample': 0.9, 'colsample_bytree': 0.6, 'reg_lambda': 0.6785199076602374, 'reg_alpha': 0.13232581871424648, 'feature_fraction': 0.5938051536312576, 'bagging_fraction': 0.6920870115071447, 'bagging_freq': 11, 'num_leaves': 91, 'min_child_samples': 46}. Best is trial 57 with value: -2.0336315585840725.\u001b[0m\n"
     ]
    },
    {
     "name": "stdout",
     "output_type": "stream",
     "text": [
      "Early stopping, best iteration is:\n",
      "[83]\ttraining's l1: 2.16341\tvalid_1's l1: 2.0468\n",
      "[LightGBM] [Warning] feature_fraction is set=0.5064851853209099, colsample_bytree=0.8 will be ignored. Current value: feature_fraction=0.5064851853209099\n",
      "[LightGBM] [Warning] bagging_fraction is set=0.9033205073990511, subsample=0.9 will be ignored. Current value: bagging_fraction=0.9033205073990511\n",
      "[LightGBM] [Warning] bagging_freq is set=5, subsample_freq=0 will be ignored. Current value: bagging_freq=5\n",
      "Training until validation scores don't improve for 100 rounds\n",
      "[100]\ttraining's l1: 2.10272\tvalid_1's l1: 2.05905\n"
     ]
    },
    {
     "name": "stderr",
     "output_type": "stream",
     "text": [
      "\u001b[32m[I 2021-07-30 00:22:27,979]\u001b[0m Trial 68 finished with value: -2.0509634476044822 and parameters: {'max_depth': 4, 'min_child_weight': 6, 'subsample': 0.9, 'colsample_bytree': 0.8, 'reg_lambda': 0.25976778632002084, 'reg_alpha': 34.21564346435206, 'feature_fraction': 0.5064851853209099, 'bagging_fraction': 0.9033205073990511, 'bagging_freq': 5, 'num_leaves': 279, 'min_child_samples': 100}. Best is trial 57 with value: -2.0336315585840725.\u001b[0m\n"
     ]
    },
    {
     "name": "stdout",
     "output_type": "stream",
     "text": [
      "Early stopping, best iteration is:\n",
      "[62]\ttraining's l1: 2.14525\tvalid_1's l1: 2.05097\n",
      "[LightGBM] [Warning] feature_fraction is set=0.6343943271126267, colsample_bytree=0.7 will be ignored. Current value: feature_fraction=0.6343943271126267\n",
      "[LightGBM] [Warning] bagging_fraction is set=0.8155855196241774, subsample=0.7 will be ignored. Current value: bagging_fraction=0.8155855196241774\n",
      "[LightGBM] [Warning] bagging_freq is set=19, subsample_freq=0 will be ignored. Current value: bagging_freq=19\n",
      "Training until validation scores don't improve for 100 rounds\n",
      "[100]\ttraining's l1: 1.9502\tvalid_1's l1: 2.09935\n"
     ]
    },
    {
     "name": "stderr",
     "output_type": "stream",
     "text": [
      "\u001b[32m[I 2021-07-30 00:22:30,166]\u001b[0m Trial 69 finished with value: -2.049062501944327 and parameters: {'max_depth': 20, 'min_child_weight': 8, 'subsample': 0.7, 'colsample_bytree': 0.7, 'reg_lambda': 0.08277471848312519, 'reg_alpha': 0.6079704016373904, 'feature_fraction': 0.6343943271126267, 'bagging_fraction': 0.8155855196241774, 'bagging_freq': 19, 'num_leaves': 43, 'min_child_samples': 69}. Best is trial 57 with value: -2.0336315585840725.\u001b[0m\n"
     ]
    },
    {
     "name": "stdout",
     "output_type": "stream",
     "text": [
      "Early stopping, best iteration is:\n",
      "[36]\ttraining's l1: 2.10072\tvalid_1's l1: 2.04906\n",
      "[LightGBM] [Warning] feature_fraction is set=0.5402567954388802, colsample_bytree=0.9 will be ignored. Current value: feature_fraction=0.5402567954388802\n",
      "[LightGBM] [Warning] bagging_fraction is set=0.7849167944508847, subsample=0.9 will be ignored. Current value: bagging_fraction=0.7849167944508847\n",
      "[LightGBM] [Warning] bagging_freq is set=8, subsample_freq=0 will be ignored. Current value: bagging_freq=8\n",
      "Training until validation scores don't improve for 100 rounds\n",
      "[100]\ttraining's l1: 2.2852\tvalid_1's l1: 2.07954\n",
      "[200]\ttraining's l1: 2.25189\tvalid_1's l1: 2.05586\n",
      "[300]\ttraining's l1: 2.23721\tvalid_1's l1: 2.04985\n",
      "[400]\ttraining's l1: 2.22456\tvalid_1's l1: 2.04388\n",
      "[500]\ttraining's l1: 2.21532\tvalid_1's l1: 2.03991\n"
     ]
    },
    {
     "name": "stderr",
     "output_type": "stream",
     "text": [
      "\u001b[32m[I 2021-07-30 00:22:35,107]\u001b[0m Trial 70 finished with value: -2.039389620137489 and parameters: {'max_depth': 1, 'min_child_weight': 2, 'subsample': 0.9, 'colsample_bytree': 0.9, 'reg_lambda': 0.006667038280448292, 'reg_alpha': 1.9132868249354864, 'feature_fraction': 0.5402567954388802, 'bagging_fraction': 0.7849167944508847, 'bagging_freq': 8, 'num_leaves': 162, 'min_child_samples': 82}. Best is trial 57 with value: -2.0336315585840725.\u001b[0m\n"
     ]
    },
    {
     "name": "stdout",
     "output_type": "stream",
     "text": [
      "Early stopping, best iteration is:\n",
      "[494]\ttraining's l1: 2.21597\tvalid_1's l1: 2.03944\n",
      "[LightGBM] [Warning] feature_fraction is set=0.5305286850520151, colsample_bytree=0.9 will be ignored. Current value: feature_fraction=0.5305286850520151\n",
      "[LightGBM] [Warning] bagging_fraction is set=0.7877324436865969, subsample=0.9 will be ignored. Current value: bagging_fraction=0.7877324436865969\n",
      "[LightGBM] [Warning] bagging_freq is set=8, subsample_freq=0 will be ignored. Current value: bagging_freq=8\n",
      "Training until validation scores don't improve for 100 rounds\n",
      "[100]\ttraining's l1: 2.27992\tvalid_1's l1: 2.07431\n",
      "[200]\ttraining's l1: 2.25213\tvalid_1's l1: 2.05552\n",
      "[300]\ttraining's l1: 2.23661\tvalid_1's l1: 2.04999\n",
      "[400]\ttraining's l1: 2.22532\tvalid_1's l1: 2.04502\n",
      "[500]\ttraining's l1: 2.21582\tvalid_1's l1: 2.04203\n",
      "[600]\ttraining's l1: 2.20998\tvalid_1's l1: 2.04111\n",
      "[700]\ttraining's l1: 2.20463\tvalid_1's l1: 2.04052\n"
     ]
    },
    {
     "name": "stderr",
     "output_type": "stream",
     "text": [
      "\u001b[32m[I 2021-07-30 00:22:41,159]\u001b[0m Trial 71 finished with value: -2.0401092163961287 and parameters: {'max_depth': 1, 'min_child_weight': 2, 'subsample': 0.9, 'colsample_bytree': 0.9, 'reg_lambda': 0.0019219496763022946, 'reg_alpha': 1.9359455587936079, 'feature_fraction': 0.5305286850520151, 'bagging_fraction': 0.7877324436865969, 'bagging_freq': 8, 'num_leaves': 157, 'min_child_samples': 76}. Best is trial 57 with value: -2.0336315585840725.\u001b[0m\n"
     ]
    },
    {
     "name": "stdout",
     "output_type": "stream",
     "text": [
      "Early stopping, best iteration is:\n",
      "[664]\ttraining's l1: 2.20596\tvalid_1's l1: 2.0402\n",
      "[LightGBM] [Warning] feature_fraction is set=0.44590995139196465, colsample_bytree=0.9 will be ignored. Current value: feature_fraction=0.44590995139196465\n",
      "[LightGBM] [Warning] bagging_fraction is set=0.7337453182589005, subsample=0.9 will be ignored. Current value: bagging_fraction=0.7337453182589005\n",
      "[LightGBM] [Warning] bagging_freq is set=7, subsample_freq=0 will be ignored. Current value: bagging_freq=7\n",
      "Training until validation scores don't improve for 100 rounds\n",
      "[100]\ttraining's l1: 2.21384\tvalid_1's l1: 2.05573\n",
      "[200]\ttraining's l1: 2.17167\tvalid_1's l1: 2.0461\n",
      "[300]\ttraining's l1: 2.14409\tvalid_1's l1: 2.0472\n",
      "Early stopping, best iteration is:\n",
      "[229]\ttraining's l1: 2.16458\tvalid_1's l1: 2.04524\n"
     ]
    },
    {
     "name": "stderr",
     "output_type": "stream",
     "text": [
      "\u001b[32m[I 2021-07-30 00:22:43,871]\u001b[0m Trial 72 finished with value: -2.045168792658089 and parameters: {'max_depth': 2, 'min_child_weight': 3, 'subsample': 0.9, 'colsample_bytree': 0.9, 'reg_lambda': 0.008391915749153607, 'reg_alpha': 3.893146929221671, 'feature_fraction': 0.44590995139196465, 'bagging_fraction': 0.7337453182589005, 'bagging_freq': 7, 'num_leaves': 222, 'min_child_samples': 84}. Best is trial 57 with value: -2.0336315585840725.\u001b[0m\n"
     ]
    },
    {
     "name": "stdout",
     "output_type": "stream",
     "text": [
      "[LightGBM] [Warning] feature_fraction is set=0.5510058457952295, colsample_bytree=0.9 will be ignored. Current value: feature_fraction=0.5510058457952295\n",
      "[LightGBM] [Warning] bagging_fraction is set=0.8555260813423032, subsample=0.9 will be ignored. Current value: bagging_fraction=0.8555260813423032\n",
      "[LightGBM] [Warning] bagging_freq is set=9, subsample_freq=0 will be ignored. Current value: bagging_freq=9\n",
      "Training until validation scores don't improve for 100 rounds\n",
      "[100]\ttraining's l1: 2.28151\tvalid_1's l1: 2.07512\n",
      "[200]\ttraining's l1: 2.25322\tvalid_1's l1: 2.05683\n",
      "[300]\ttraining's l1: 2.23565\tvalid_1's l1: 2.04699\n",
      "[400]\ttraining's l1: 2.22535\tvalid_1's l1: 2.04482\n",
      "[500]\ttraining's l1: 2.21653\tvalid_1's l1: 2.04404\n",
      "[600]\ttraining's l1: 2.21023\tvalid_1's l1: 2.04086\n",
      "[700]\ttraining's l1: 2.20486\tvalid_1's l1: 2.04165\n",
      "[800]\ttraining's l1: 2.20053\tvalid_1's l1: 2.04078\n",
      "[900]\ttraining's l1: 2.19677\tvalid_1's l1: 2.04146\n"
     ]
    },
    {
     "name": "stderr",
     "output_type": "stream",
     "text": [
      "\u001b[32m[I 2021-07-30 00:22:51,852]\u001b[0m Trial 73 finished with value: -2.039519215535845 and parameters: {'max_depth': 1, 'min_child_weight': 1, 'subsample': 0.9, 'colsample_bytree': 0.9, 'reg_lambda': 0.010300281827781543, 'reg_alpha': 2.532923883254983, 'feature_fraction': 0.5510058457952295, 'bagging_fraction': 0.8555260813423032, 'bagging_freq': 9, 'num_leaves': 131, 'min_child_samples': 81}. Best is trial 57 with value: -2.0336315585840725.\u001b[0m\n"
     ]
    },
    {
     "name": "stdout",
     "output_type": "stream",
     "text": [
      "Early stopping, best iteration is:\n",
      "[832]\ttraining's l1: 2.19922\tvalid_1's l1: 2.03965\n",
      "[LightGBM] [Warning] feature_fraction is set=0.47753545567937916, colsample_bytree=0.9 will be ignored. Current value: feature_fraction=0.47753545567937916\n",
      "[LightGBM] [Warning] bagging_fraction is set=0.8494659106515204, subsample=0.9 will be ignored. Current value: bagging_fraction=0.8494659106515204\n",
      "[LightGBM] [Warning] bagging_freq is set=9, subsample_freq=0 will be ignored. Current value: bagging_freq=9\n",
      "Training until validation scores don't improve for 100 rounds\n",
      "[100]\ttraining's l1: 2.28497\tvalid_1's l1: 2.08183\n",
      "[200]\ttraining's l1: 2.25254\tvalid_1's l1: 2.05804\n",
      "[300]\ttraining's l1: 2.23546\tvalid_1's l1: 2.04901\n",
      "[400]\ttraining's l1: 2.22599\tvalid_1's l1: 2.04752\n",
      "[500]\ttraining's l1: 2.21665\tvalid_1's l1: 2.04488\n",
      "[600]\ttraining's l1: 2.21038\tvalid_1's l1: 2.0435\n"
     ]
    },
    {
     "name": "stderr",
     "output_type": "stream",
     "text": [
      "\u001b[32m[I 2021-07-30 00:22:57,177]\u001b[0m Trial 74 finished with value: -2.0418584209582944 and parameters: {'max_depth': 1, 'min_child_weight': 2, 'subsample': 0.9, 'colsample_bytree': 0.9, 'reg_lambda': 0.006151563960521864, 'reg_alpha': 0.7146525976847956, 'feature_fraction': 0.47753545567937916, 'bagging_fraction': 0.8494659106515204, 'bagging_freq': 9, 'num_leaves': 189, 'min_child_samples': 91}. Best is trial 57 with value: -2.0336315585840725.\u001b[0m\n"
     ]
    },
    {
     "name": "stdout",
     "output_type": "stream",
     "text": [
      "Early stopping, best iteration is:\n",
      "[555]\ttraining's l1: 2.21299\tvalid_1's l1: 2.04192\n",
      "[LightGBM] [Warning] feature_fraction is set=0.5620038012888684, colsample_bytree=0.9 will be ignored. Current value: feature_fraction=0.5620038012888684\n",
      "[LightGBM] [Warning] bagging_fraction is set=0.7612221892988609, subsample=0.9 will be ignored. Current value: bagging_fraction=0.7612221892988609\n",
      "[LightGBM] [Warning] bagging_freq is set=8, subsample_freq=0 will be ignored. Current value: bagging_freq=8\n",
      "Training until validation scores don't improve for 100 rounds\n",
      "[100]\ttraining's l1: 2.21555\tvalid_1's l1: 2.05277\n",
      "[200]\ttraining's l1: 2.17094\tvalid_1's l1: 2.04313\n"
     ]
    },
    {
     "name": "stderr",
     "output_type": "stream",
     "text": [
      "\u001b[32m[I 2021-07-30 00:22:59,722]\u001b[0m Trial 75 finished with value: -2.0424411508158995 and parameters: {'max_depth': 2, 'min_child_weight': 1, 'subsample': 0.9, 'colsample_bytree': 0.9, 'reg_lambda': 0.0027524817336617782, 'reg_alpha': 0.9455460812556863, 'feature_fraction': 0.5620038012888684, 'bagging_fraction': 0.7612221892988609, 'bagging_freq': 8, 'num_leaves': 131, 'min_child_samples': 80}. Best is trial 57 with value: -2.0336315585840725.\u001b[0m\n"
     ]
    },
    {
     "name": "stdout",
     "output_type": "stream",
     "text": [
      "Early stopping, best iteration is:\n",
      "[151]\ttraining's l1: 2.18883\tvalid_1's l1: 2.04248\n",
      "[LightGBM] [Warning] feature_fraction is set=0.6112177537939723, colsample_bytree=0.9 will be ignored. Current value: feature_fraction=0.6112177537939723\n",
      "[LightGBM] [Warning] bagging_fraction is set=0.884207681202553, subsample=0.9 will be ignored. Current value: bagging_fraction=0.884207681202553\n",
      "[LightGBM] [Warning] bagging_freq is set=10, subsample_freq=0 will be ignored. Current value: bagging_freq=10\n",
      "Training until validation scores don't improve for 100 rounds\n",
      "[100]\ttraining's l1: 2.14933\tvalid_1's l1: 2.04587\n",
      "[200]\ttraining's l1: 2.09337\tvalid_1's l1: 2.04597\n"
     ]
    },
    {
     "name": "stderr",
     "output_type": "stream",
     "text": [
      "\u001b[32m[I 2021-07-30 00:23:02,406]\u001b[0m Trial 76 finished with value: -2.0389696833798587 and parameters: {'max_depth': 3, 'min_child_weight': 5, 'subsample': 0.9, 'colsample_bytree': 0.9, 'reg_lambda': 0.013296754992076675, 'reg_alpha': 2.59894679565521, 'feature_fraction': 0.6112177537939723, 'bagging_fraction': 0.884207681202553, 'bagging_freq': 10, 'num_leaves': 250, 'min_child_samples': 82}. Best is trial 57 with value: -2.0336315585840725.\u001b[0m\n"
     ]
    },
    {
     "name": "stdout",
     "output_type": "stream",
     "text": [
      "Early stopping, best iteration is:\n",
      "[156]\ttraining's l1: 2.11578\tvalid_1's l1: 2.03902\n",
      "[LightGBM] [Warning] feature_fraction is set=0.5862200895775835, colsample_bytree=0.9 will be ignored. Current value: feature_fraction=0.5862200895775835\n",
      "[LightGBM] [Warning] bagging_fraction is set=0.9501850957910238, subsample=0.9 will be ignored. Current value: bagging_fraction=0.9501850957910238\n",
      "[LightGBM] [Warning] bagging_freq is set=7, subsample_freq=0 will be ignored. Current value: bagging_freq=7\n",
      "Training until validation scores don't improve for 100 rounds\n",
      "[100]\ttraining's l1: 2.09003\tvalid_1's l1: 2.04925\n"
     ]
    },
    {
     "name": "stderr",
     "output_type": "stream",
     "text": [
      "\u001b[32m[I 2021-07-30 00:23:04,988]\u001b[0m Trial 77 finished with value: -2.038373804398823 and parameters: {'max_depth': 4, 'min_child_weight': 5, 'subsample': 0.9, 'colsample_bytree': 0.9, 'reg_lambda': 0.022039634431635882, 'reg_alpha': 0.4575703451058114, 'feature_fraction': 0.5862200895775835, 'bagging_fraction': 0.9501850957910238, 'bagging_freq': 7, 'num_leaves': 251, 'min_child_samples': 87}. Best is trial 57 with value: -2.0336315585840725.\u001b[0m\n"
     ]
    },
    {
     "name": "stdout",
     "output_type": "stream",
     "text": [
      "Early stopping, best iteration is:\n",
      "[83]\ttraining's l1: 2.10632\tvalid_1's l1: 2.0384\n",
      "[LightGBM] [Warning] feature_fraction is set=0.6175280115534922, colsample_bytree=0.9 will be ignored. Current value: feature_fraction=0.6175280115534922\n",
      "[LightGBM] [Warning] bagging_fraction is set=0.9836333056714172, subsample=0.8 will be ignored. Current value: bagging_fraction=0.9836333056714172\n",
      "[LightGBM] [Warning] bagging_freq is set=7, subsample_freq=0 will be ignored. Current value: bagging_freq=7\n",
      "Training until validation scores don't improve for 100 rounds\n",
      "[100]\ttraining's l1: 2.03302\tvalid_1's l1: 2.06435\n"
     ]
    },
    {
     "name": "stderr",
     "output_type": "stream",
     "text": [
      "\u001b[32m[I 2021-07-30 00:23:07,167]\u001b[0m Trial 78 finished with value: -2.05671646167503 and parameters: {'max_depth': 5, 'min_child_weight': 5, 'subsample': 0.8, 'colsample_bytree': 0.9, 'reg_lambda': 0.02511564766271299, 'reg_alpha': 0.2047137127415295, 'feature_fraction': 0.6175280115534922, 'bagging_fraction': 0.9836333056714172, 'bagging_freq': 7, 'num_leaves': 287, 'min_child_samples': 96}. Best is trial 57 with value: -2.0336315585840725.\u001b[0m\n"
     ]
    },
    {
     "name": "stdout",
     "output_type": "stream",
     "text": [
      "Early stopping, best iteration is:\n",
      "[46]\ttraining's l1: 2.12093\tvalid_1's l1: 2.05673\n",
      "[LightGBM] [Warning] feature_fraction is set=0.9491857358204872, colsample_bytree=0.8 will be ignored. Current value: feature_fraction=0.9491857358204872\n",
      "[LightGBM] [Warning] bagging_fraction is set=0.9541991910473839, subsample=0.9 will be ignored. Current value: bagging_fraction=0.9541991910473839\n",
      "[LightGBM] [Warning] bagging_freq is set=5, subsample_freq=0 will be ignored. Current value: bagging_freq=5\n",
      "Training until validation scores don't improve for 100 rounds\n",
      "[100]\ttraining's l1: 1.88828\tvalid_1's l1: 2.07265\n"
     ]
    },
    {
     "name": "stderr",
     "output_type": "stream",
     "text": [
      "\u001b[32m[I 2021-07-30 00:23:09,761]\u001b[0m Trial 79 finished with value: -2.045025054731423 and parameters: {'max_depth': 7, 'min_child_weight': 4, 'subsample': 0.9, 'colsample_bytree': 0.8, 'reg_lambda': 0.004756812102025192, 'reg_alpha': 0.4687560724993344, 'feature_fraction': 0.9491857358204872, 'bagging_fraction': 0.9541991910473839, 'bagging_freq': 5, 'num_leaves': 263, 'min_child_samples': 88}. Best is trial 57 with value: -2.0336315585840725.\u001b[0m\n"
     ]
    },
    {
     "name": "stdout",
     "output_type": "stream",
     "text": [
      "Early stopping, best iteration is:\n",
      "[47]\ttraining's l1: 2.00896\tvalid_1's l1: 2.04504\n",
      "[LightGBM] [Warning] feature_fraction is set=0.5868308579361634, colsample_bytree=0.9 will be ignored. Current value: feature_fraction=0.5868308579361634\n",
      "[LightGBM] [Warning] bagging_fraction is set=0.9288316511520921, subsample=0.8 will be ignored. Current value: bagging_fraction=0.9288316511520921\n",
      "[LightGBM] [Warning] bagging_freq is set=8, subsample_freq=0 will be ignored. Current value: bagging_freq=8\n",
      "Training until validation scores don't improve for 100 rounds\n",
      "[100]\ttraining's l1: 2.09088\tvalid_1's l1: 2.0547\n",
      "[200]\ttraining's l1: 2.02835\tvalid_1's l1: 2.06351\n"
     ]
    },
    {
     "name": "stderr",
     "output_type": "stream",
     "text": [
      "\u001b[32m[I 2021-07-30 00:23:12,862]\u001b[0m Trial 80 finished with value: -2.044956379352223 and parameters: {'max_depth': 4, 'min_child_weight': 6, 'subsample': 0.8, 'colsample_bytree': 0.9, 'reg_lambda': 0.010919795918630893, 'reg_alpha': 0.08401532496941726, 'feature_fraction': 0.5868308579361634, 'bagging_fraction': 0.9288316511520921, 'bagging_freq': 8, 'num_leaves': 341, 'min_child_samples': 93}. Best is trial 57 with value: -2.0336315585840725.\u001b[0m\n"
     ]
    },
    {
     "name": "stdout",
     "output_type": "stream",
     "text": [
      "Early stopping, best iteration is:\n",
      "[138]\ttraining's l1: 2.06398\tvalid_1's l1: 2.04503\n",
      "[LightGBM] [Warning] feature_fraction is set=0.603397784505499, colsample_bytree=0.9 will be ignored. Current value: feature_fraction=0.603397784505499\n",
      "[LightGBM] [Warning] bagging_fraction is set=0.903210530728037, subsample=0.9 will be ignored. Current value: bagging_fraction=0.903210530728037\n",
      "[LightGBM] [Warning] bagging_freq is set=10, subsample_freq=0 will be ignored. Current value: bagging_freq=10\n",
      "Training until validation scores don't improve for 100 rounds\n",
      "[100]\ttraining's l1: 2.16032\tvalid_1's l1: 2.0551\n"
     ]
    },
    {
     "name": "stderr",
     "output_type": "stream",
     "text": [
      "\u001b[32m[I 2021-07-30 00:23:15,006]\u001b[0m Trial 81 finished with value: -2.0504889630759338 and parameters: {'max_depth': 3, 'min_child_weight': 5, 'subsample': 0.9, 'colsample_bytree': 0.9, 'reg_lambda': 0.016754583297511987, 'reg_alpha': 97.49945227675096, 'feature_fraction': 0.603397784505499, 'bagging_fraction': 0.903210530728037, 'bagging_freq': 10, 'num_leaves': 245, 'min_child_samples': 82}. Best is trial 57 with value: -2.0336315585840725.\u001b[0m\n"
     ]
    },
    {
     "name": "stdout",
     "output_type": "stream",
     "text": [
      "Early stopping, best iteration is:\n",
      "[79]\ttraining's l1: 2.17474\tvalid_1's l1: 2.05049\n",
      "[LightGBM] [Warning] feature_fraction is set=0.4962742616209016, colsample_bytree=0.9 will be ignored. Current value: feature_fraction=0.4962742616209016\n",
      "[LightGBM] [Warning] bagging_fraction is set=0.9448907286146587, subsample=0.9 will be ignored. Current value: bagging_fraction=0.9448907286146587\n",
      "[LightGBM] [Warning] bagging_freq is set=11, subsample_freq=0 will be ignored. Current value: bagging_freq=11\n",
      "Training until validation scores don't improve for 100 rounds\n",
      "[100]\ttraining's l1: 1.97192\tvalid_1's l1: 2.06747\n"
     ]
    },
    {
     "name": "stderr",
     "output_type": "stream",
     "text": [
      "\u001b[32m[I 2021-07-30 00:23:17,255]\u001b[0m Trial 82 finished with value: -2.0530710764043936 and parameters: {'max_depth': 6, 'min_child_weight': 6, 'subsample': 0.9, 'colsample_bytree': 0.9, 'reg_lambda': 0.05321127017656338, 'reg_alpha': 0.35569098664016346, 'feature_fraction': 0.4962742616209016, 'bagging_fraction': 0.9448907286146587, 'bagging_freq': 11, 'num_leaves': 187, 'min_child_samples': 86}. Best is trial 57 with value: -2.0336315585840725.\u001b[0m\n"
     ]
    },
    {
     "name": "stdout",
     "output_type": "stream",
     "text": [
      "Early stopping, best iteration is:\n",
      "[45]\ttraining's l1: 2.07407\tvalid_1's l1: 2.05308\n",
      "[LightGBM] [Warning] feature_fraction is set=0.5260865957636327, colsample_bytree=0.9 will be ignored. Current value: feature_fraction=0.5260865957636327\n",
      "[LightGBM] [Warning] bagging_fraction is set=0.9970354026259862, subsample=0.9 will be ignored. Current value: bagging_fraction=0.9970354026259862\n",
      "[LightGBM] [Warning] bagging_freq is set=7, subsample_freq=0 will be ignored. Current value: bagging_freq=7\n",
      "Training until validation scores don't improve for 100 rounds\n",
      "[100]\ttraining's l1: 2.15512\tvalid_1's l1: 2.04299\n"
     ]
    },
    {
     "name": "stderr",
     "output_type": "stream",
     "text": [
      "\u001b[32m[I 2021-07-30 00:23:19,646]\u001b[0m Trial 83 finished with value: -2.0405350756640326 and parameters: {'max_depth': 3, 'min_child_weight': 5, 'subsample': 0.9, 'colsample_bytree': 0.9, 'reg_lambda': 0.12740383139219374, 'reg_alpha': 1.5545790753325988, 'feature_fraction': 0.5260865957636327, 'bagging_fraction': 0.9970354026259862, 'bagging_freq': 7, 'num_leaves': 320, 'min_child_samples': 89}. Best is trial 57 with value: -2.0336315585840725.\u001b[0m\n"
     ]
    },
    {
     "name": "stdout",
     "output_type": "stream",
     "text": [
      "Early stopping, best iteration is:\n",
      "[83]\ttraining's l1: 2.16686\tvalid_1's l1: 2.04054\n",
      "[LightGBM] [Warning] feature_fraction is set=0.65200570535252, colsample_bytree=0.9 will be ignored. Current value: feature_fraction=0.65200570535252\n",
      "[LightGBM] [Warning] bagging_fraction is set=0.8805091269428226, subsample=0.9 will be ignored. Current value: bagging_fraction=0.8805091269428226\n",
      "[LightGBM] [Warning] bagging_freq is set=10, subsample_freq=0 will be ignored. Current value: bagging_freq=10\n",
      "Training until validation scores don't improve for 100 rounds\n",
      "[100]\ttraining's l1: 2.08721\tvalid_1's l1: 2.05085\n"
     ]
    },
    {
     "name": "stderr",
     "output_type": "stream",
     "text": [
      "\u001b[32m[I 2021-07-30 00:23:21,403]\u001b[0m Trial 84 finished with value: -2.0482843003983033 and parameters: {'max_depth': 4, 'min_child_weight': 7, 'subsample': 0.9, 'colsample_bytree': 0.9, 'reg_lambda': 0.0033404126646545103, 'reg_alpha': 0.8198831686000109, 'feature_fraction': 0.65200570535252, 'bagging_fraction': 0.8805091269428226, 'bagging_freq': 10, 'num_leaves': 249, 'min_child_samples': 91}. Best is trial 57 with value: -2.0336315585840725.\u001b[0m\n"
     ]
    },
    {
     "name": "stdout",
     "output_type": "stream",
     "text": [
      "Early stopping, best iteration is:\n",
      "[57]\ttraining's l1: 2.14353\tvalid_1's l1: 2.04828\n",
      "[LightGBM] [Warning] feature_fraction is set=0.7002629452995788, colsample_bytree=0.8 will be ignored. Current value: feature_fraction=0.7002629452995788\n",
      "[LightGBM] [Warning] bagging_fraction is set=0.8302072103795644, subsample=0.9 will be ignored. Current value: bagging_fraction=0.8302072103795644\n",
      "[LightGBM] [Warning] bagging_freq is set=14, subsample_freq=0 will be ignored. Current value: bagging_freq=14\n",
      "Training until validation scores don't improve for 100 rounds\n",
      "[100]\ttraining's l1: 2.02865\tvalid_1's l1: 2.06648\n"
     ]
    },
    {
     "name": "stderr",
     "output_type": "stream",
     "text": [
      "\u001b[32m[I 2021-07-30 00:23:23,058]\u001b[0m Trial 85 finished with value: -2.047551455376756 and parameters: {'max_depth': 5, 'min_child_weight': 4, 'subsample': 0.9, 'colsample_bytree': 0.8, 'reg_lambda': 0.027347985931234223, 'reg_alpha': 1.9409044339262187, 'feature_fraction': 0.7002629452995788, 'bagging_fraction': 0.8302072103795644, 'bagging_freq': 14, 'num_leaves': 365, 'min_child_samples': 86}. Best is trial 57 with value: -2.0336315585840725.\u001b[0m\n"
     ]
    },
    {
     "name": "stdout",
     "output_type": "stream",
     "text": [
      "Early stopping, best iteration is:\n",
      "[50]\ttraining's l1: 2.10676\tvalid_1's l1: 2.04758\n",
      "[LightGBM] [Warning] feature_fraction is set=0.539443088327117, colsample_bytree=0.9 will be ignored. Current value: feature_fraction=0.539443088327117\n",
      "[LightGBM] [Warning] bagging_fraction is set=0.6708321688065035, subsample=0.9 will be ignored. Current value: bagging_fraction=0.6708321688065035\n",
      "[LightGBM] [Warning] bagging_freq is set=12, subsample_freq=0 will be ignored. Current value: bagging_freq=12\n",
      "Training until validation scores don't improve for 100 rounds\n",
      "[100]\ttraining's l1: 2.21765\tvalid_1's l1: 2.05415\n",
      "[200]\ttraining's l1: 2.16869\tvalid_1's l1: 2.0445\n"
     ]
    },
    {
     "name": "stderr",
     "output_type": "stream",
     "text": [
      "\u001b[32m[I 2021-07-30 00:23:25,655]\u001b[0m Trial 86 finished with value: -2.0429035680419965 and parameters: {'max_depth': 2, 'min_child_weight': 3, 'subsample': 0.9, 'colsample_bytree': 0.9, 'reg_lambda': 0.001566655626937512, 'reg_alpha': 0.5830977410585783, 'feature_fraction': 0.539443088327117, 'bagging_fraction': 0.6708321688065035, 'bagging_freq': 12, 'num_leaves': 160, 'min_child_samples': 76}. Best is trial 57 with value: -2.0336315585840725.\u001b[0m\n"
     ]
    },
    {
     "name": "stdout",
     "output_type": "stream",
     "text": [
      "[300]\ttraining's l1: 2.14151\tvalid_1's l1: 2.04673\n",
      "Early stopping, best iteration is:\n",
      "[207]\ttraining's l1: 2.16594\tvalid_1's l1: 2.04296\n",
      "[LightGBM] [Warning] feature_fraction is set=0.6789217680462967, colsample_bytree=0.9 will be ignored. Current value: feature_fraction=0.6789217680462967\n",
      "[LightGBM] [Warning] bagging_fraction is set=0.20358054694321603, subsample=0.9 will be ignored. Current value: bagging_fraction=0.20358054694321603\n",
      "[LightGBM] [Warning] bagging_freq is set=6, subsample_freq=0 will be ignored. Current value: bagging_freq=6\n",
      "Training until validation scores don't improve for 100 rounds\n",
      "[100]\ttraining's l1: 1.91857\tvalid_1's l1: 2.11419\n",
      "Early stopping, best iteration is:\n",
      "[32]\ttraining's l1: 2.0606\tvalid_1's l1: 2.07075\n"
     ]
    },
    {
     "name": "stderr",
     "output_type": "stream",
     "text": [
      "\u001b[32m[I 2021-07-30 00:23:27,173]\u001b[0m Trial 87 finished with value: -2.070753945254425 and parameters: {'max_depth': 10, 'min_child_weight': 10, 'subsample': 0.9, 'colsample_bytree': 0.9, 'reg_lambda': 0.013009152221513786, 'reg_alpha': 5.307824552041528, 'feature_fraction': 0.6789217680462967, 'bagging_fraction': 0.20358054694321603, 'bagging_freq': 6, 'num_leaves': 200, 'min_child_samples': 98}. Best is trial 57 with value: -2.0336315585840725.\u001b[0m\n"
     ]
    },
    {
     "name": "stdout",
     "output_type": "stream",
     "text": [
      "[LightGBM] [Warning] feature_fraction is set=0.5784121404620364, colsample_bytree=0.7 will be ignored. Current value: feature_fraction=0.5784121404620364\n",
      "[LightGBM] [Warning] bagging_fraction is set=0.7114939798999955, subsample=0.9 will be ignored. Current value: bagging_fraction=0.7114939798999955\n",
      "[LightGBM] [Warning] bagging_freq is set=9, subsample_freq=0 will be ignored. Current value: bagging_freq=9\n",
      "Training until validation scores don't improve for 100 rounds\n",
      "[100]\ttraining's l1: 2.15627\tvalid_1's l1: 2.04517\n"
     ]
    },
    {
     "name": "stderr",
     "output_type": "stream",
     "text": [
      "\u001b[32m[I 2021-07-30 00:23:29,199]\u001b[0m Trial 88 finished with value: -2.043444411306354 and parameters: {'max_depth': 3, 'min_child_weight': 19, 'subsample': 0.9, 'colsample_bytree': 0.7, 'reg_lambda': 0.007586891268540817, 'reg_alpha': 3.0014794412629473, 'feature_fraction': 0.5784121404620364, 'bagging_fraction': 0.7114939798999955, 'bagging_freq': 9, 'num_leaves': 221, 'min_child_samples': 94}. Best is trial 57 with value: -2.0336315585840725.\u001b[0m\n"
     ]
    },
    {
     "name": "stdout",
     "output_type": "stream",
     "text": [
      "Early stopping, best iteration is:\n",
      "[81]\ttraining's l1: 2.17316\tvalid_1's l1: 2.04345\n",
      "[LightGBM] [Warning] feature_fraction is set=0.6212944344156669, colsample_bytree=0.9 will be ignored. Current value: feature_fraction=0.6212944344156669\n",
      "[LightGBM] [Warning] bagging_fraction is set=0.6226197383963694, subsample=0.9 will be ignored. Current value: bagging_fraction=0.6226197383963694\n",
      "[LightGBM] [Warning] bagging_freq is set=8, subsample_freq=0 will be ignored. Current value: bagging_freq=8\n",
      "Training until validation scores don't improve for 100 rounds\n",
      "[100]\ttraining's l1: 2.21424\tvalid_1's l1: 2.04873\n",
      "[200]\ttraining's l1: 2.16802\tvalid_1's l1: 2.04017\n"
     ]
    },
    {
     "name": "stderr",
     "output_type": "stream",
     "text": [
      "\u001b[32m[I 2021-07-30 00:23:31,411]\u001b[0m Trial 89 finished with value: -2.0393615887824477 and parameters: {'max_depth': 2, 'min_child_weight': 3, 'subsample': 0.9, 'colsample_bytree': 0.9, 'reg_lambda': 0.5769217976029714, 'reg_alpha': 1.3807002399678474, 'feature_fraction': 0.6212944344156669, 'bagging_fraction': 0.6226197383963694, 'bagging_freq': 8, 'num_leaves': 93, 'min_child_samples': 83}. Best is trial 57 with value: -2.0336315585840725.\u001b[0m\n"
     ]
    },
    {
     "name": "stdout",
     "output_type": "stream",
     "text": [
      "Early stopping, best iteration is:\n",
      "[194]\ttraining's l1: 2.17018\tvalid_1's l1: 2.03941\n",
      "[LightGBM] [Warning] feature_fraction is set=0.4580221734512583, colsample_bytree=0.8 will be ignored. Current value: feature_fraction=0.4580221734512583\n",
      "[LightGBM] [Warning] bagging_fraction is set=0.5660405527010904, subsample=0.9 will be ignored. Current value: bagging_fraction=0.5660405527010904\n",
      "[LightGBM] [Warning] bagging_freq is set=7, subsample_freq=0 will be ignored. Current value: bagging_freq=7\n",
      "Training until validation scores don't improve for 100 rounds\n",
      "[100]\ttraining's l1: 2.21424\tvalid_1's l1: 2.05269\n",
      "[200]\ttraining's l1: 2.16995\tvalid_1's l1: 2.04462\n"
     ]
    },
    {
     "name": "stderr",
     "output_type": "stream",
     "text": [
      "\u001b[32m[I 2021-07-30 00:23:33,375]\u001b[0m Trial 90 finished with value: -2.0427949961039293 and parameters: {'max_depth': 2, 'min_child_weight': 3, 'subsample': 0.9, 'colsample_bytree': 0.8, 'reg_lambda': 0.34340952397377283, 'reg_alpha': 1.2694769684841865, 'feature_fraction': 0.4580221734512583, 'bagging_fraction': 0.5660405527010904, 'bagging_freq': 7, 'num_leaves': 81, 'min_child_samples': 84}. Best is trial 57 with value: -2.0336315585840725.\u001b[0m\n"
     ]
    },
    {
     "name": "stdout",
     "output_type": "stream",
     "text": [
      "Early stopping, best iteration is:\n",
      "[163]\ttraining's l1: 2.18367\tvalid_1's l1: 2.04282\n",
      "[LightGBM] [Warning] feature_fraction is set=0.6196251382660735, colsample_bytree=0.9 will be ignored. Current value: feature_fraction=0.6196251382660735\n",
      "[LightGBM] [Warning] bagging_fraction is set=0.6140838822744153, subsample=0.9 will be ignored. Current value: bagging_fraction=0.6140838822744153\n",
      "[LightGBM] [Warning] bagging_freq is set=8, subsample_freq=0 will be ignored. Current value: bagging_freq=8\n",
      "Training until validation scores don't improve for 100 rounds\n",
      "[100]\ttraining's l1: 2.09476\tvalid_1's l1: 2.04964\n"
     ]
    },
    {
     "name": "stderr",
     "output_type": "stream",
     "text": [
      "\u001b[32m[I 2021-07-30 00:23:34,993]\u001b[0m Trial 91 finished with value: -2.0440397539848925 and parameters: {'max_depth': 4, 'min_child_weight': 4, 'subsample': 0.9, 'colsample_bytree': 0.9, 'reg_lambda': 1.2046914940072888, 'reg_alpha': 0.2794520459156769, 'feature_fraction': 0.6196251382660735, 'bagging_fraction': 0.6140838822744153, 'bagging_freq': 8, 'num_leaves': 102, 'min_child_samples': 89}. Best is trial 57 with value: -2.0336315585840725.\u001b[0m\n"
     ]
    },
    {
     "name": "stdout",
     "output_type": "stream",
     "text": [
      "Early stopping, best iteration is:\n",
      "[57]\ttraining's l1: 2.14404\tvalid_1's l1: 2.04404\n",
      "[LightGBM] [Warning] feature_fraction is set=0.6414775232157374, colsample_bytree=0.9 will be ignored. Current value: feature_fraction=0.6414775232157374\n",
      "[LightGBM] [Warning] bagging_fraction is set=0.6616033674397803, subsample=0.9 will be ignored. Current value: bagging_fraction=0.6616033674397803\n",
      "[LightGBM] [Warning] bagging_freq is set=10, subsample_freq=0 will be ignored. Current value: bagging_freq=10\n",
      "Training until validation scores don't improve for 100 rounds\n",
      "[100]\ttraining's l1: 2.214\tvalid_1's l1: 2.05461\n",
      "[200]\ttraining's l1: 2.1672\tvalid_1's l1: 2.04792\n"
     ]
    },
    {
     "name": "stderr",
     "output_type": "stream",
     "text": [
      "\u001b[32m[I 2021-07-30 00:23:37,113]\u001b[0m Trial 92 finished with value: -2.0470017357716968 and parameters: {'max_depth': 2, 'min_child_weight': 2, 'subsample': 0.9, 'colsample_bytree': 0.9, 'reg_lambda': 0.5898916806795874, 'reg_alpha': 8.506065829238793, 'feature_fraction': 0.6414775232157374, 'bagging_fraction': 0.6616033674397803, 'bagging_freq': 10, 'num_leaves': 152, 'min_child_samples': 78}. Best is trial 57 with value: -2.0336315585840725.\u001b[0m\n"
     ]
    },
    {
     "name": "stdout",
     "output_type": "stream",
     "text": [
      "[300]\ttraining's l1: 2.14013\tvalid_1's l1: 2.0514\n",
      "Early stopping, best iteration is:\n",
      "[214]\ttraining's l1: 2.16321\tvalid_1's l1: 2.04706\n",
      "[LightGBM] [Warning] feature_fraction is set=0.556010443897114, colsample_bytree=0.9 will be ignored. Current value: feature_fraction=0.556010443897114\n",
      "[LightGBM] [Warning] bagging_fraction is set=0.7479970616852851, subsample=0.9 will be ignored. Current value: bagging_fraction=0.7479970616852851\n",
      "[LightGBM] [Warning] bagging_freq is set=9, subsample_freq=0 will be ignored. Current value: bagging_freq=9\n",
      "Training until validation scores don't improve for 100 rounds\n",
      "[100]\ttraining's l1: 2.15328\tvalid_1's l1: 2.04528\n"
     ]
    },
    {
     "name": "stderr",
     "output_type": "stream",
     "text": [
      "\u001b[32m[I 2021-07-30 00:23:39,090]\u001b[0m Trial 93 finished with value: -2.0441781691210994 and parameters: {'max_depth': 3, 'min_child_weight': 5, 'subsample': 0.9, 'colsample_bytree': 0.9, 'reg_lambda': 0.205662395856098, 'reg_alpha': 0.9837130867028316, 'feature_fraction': 0.556010443897114, 'bagging_fraction': 0.7479970616852851, 'bagging_freq': 9, 'num_leaves': 297, 'min_child_samples': 81}. Best is trial 57 with value: -2.0336315585840725.\u001b[0m\n"
     ]
    },
    {
     "name": "stdout",
     "output_type": "stream",
     "text": [
      "Early stopping, best iteration is:\n",
      "[77]\ttraining's l1: 2.17178\tvalid_1's l1: 2.04418\n",
      "[LightGBM] [Warning] feature_fraction is set=0.5918744310238595, colsample_bytree=0.9 will be ignored. Current value: feature_fraction=0.5918744310238595\n",
      "[LightGBM] [Warning] bagging_fraction is set=0.6390195118910633, subsample=0.9 will be ignored. Current value: bagging_fraction=0.6390195118910633\n",
      "[LightGBM] [Warning] bagging_freq is set=15, subsample_freq=0 will be ignored. Current value: bagging_freq=15\n",
      "Training until validation scores don't improve for 100 rounds\n",
      "[100]\ttraining's l1: 2.2839\tvalid_1's l1: 2.07692\n",
      "[200]\ttraining's l1: 2.25384\tvalid_1's l1: 2.05824\n",
      "[300]\ttraining's l1: 2.23499\tvalid_1's l1: 2.04725\n",
      "[400]\ttraining's l1: 2.22582\tvalid_1's l1: 2.04344\n"
     ]
    },
    {
     "name": "stderr",
     "output_type": "stream",
     "text": [
      "\u001b[32m[I 2021-07-30 00:23:42,573]\u001b[0m Trial 94 finished with value: -2.042800228121832 and parameters: {'max_depth': 1, 'min_child_weight': 4, 'subsample': 0.9, 'colsample_bytree': 0.9, 'reg_lambda': 0.7776969803493551, 'reg_alpha': 1.7125870265662257, 'feature_fraction': 0.5918744310238595, 'bagging_fraction': 0.6390195118910633, 'bagging_freq': 15, 'num_leaves': 66, 'min_child_samples': 10}. Best is trial 57 with value: -2.0336315585840725.\u001b[0m\n"
     ]
    },
    {
     "name": "stdout",
     "output_type": "stream",
     "text": [
      "Early stopping, best iteration is:\n",
      "[372]\ttraining's l1: 2.22764\tvalid_1's l1: 2.04282\n",
      "[LightGBM] [Warning] feature_fraction is set=0.6141981452061209, colsample_bytree=0.9 will be ignored. Current value: feature_fraction=0.6141981452061209\n",
      "[LightGBM] [Warning] bagging_fraction is set=0.5119202807582512, subsample=0.9 will be ignored. Current value: bagging_fraction=0.5119202807582512\n",
      "[LightGBM] [Warning] bagging_freq is set=11, subsample_freq=0 will be ignored. Current value: bagging_freq=11\n",
      "Training until validation scores don't improve for 100 rounds\n",
      "[100]\ttraining's l1: 2.28227\tvalid_1's l1: 2.07499\n",
      "[200]\ttraining's l1: 2.25115\tvalid_1's l1: 2.05388\n",
      "[300]\ttraining's l1: 2.23505\tvalid_1's l1: 2.04703\n",
      "[400]\ttraining's l1: 2.22611\tvalid_1's l1: 2.04556\n",
      "[500]\ttraining's l1: 2.21445\tvalid_1's l1: 2.04002\n"
     ]
    },
    {
     "name": "stderr",
     "output_type": "stream",
     "text": [
      "\u001b[32m[I 2021-07-30 00:23:45,557]\u001b[0m Trial 95 finished with value: -2.038730795442449 and parameters: {'max_depth': 1, 'min_child_weight': 3, 'subsample': 0.9, 'colsample_bytree': 0.9, 'reg_lambda': 0.040403076780732364, 'reg_alpha': 5.168099489192592, 'feature_fraction': 0.6141981452061209, 'bagging_fraction': 0.5119202807582512, 'bagging_freq': 11, 'num_leaves': 125, 'min_child_samples': 85}. Best is trial 57 with value: -2.0336315585840725.\u001b[0m\n"
     ]
    },
    {
     "name": "stdout",
     "output_type": "stream",
     "text": [
      "Early stopping, best iteration is:\n",
      "[448]\ttraining's l1: 2.21831\tvalid_1's l1: 2.03877\n",
      "[LightGBM] [Warning] feature_fraction is set=0.49706041623117214, colsample_bytree=0.7 will be ignored. Current value: feature_fraction=0.49706041623117214\n",
      "[LightGBM] [Warning] bagging_fraction is set=0.44914456480671416, subsample=0.9 will be ignored. Current value: bagging_fraction=0.44914456480671416\n",
      "[LightGBM] [Warning] bagging_freq is set=8, subsample_freq=0 will be ignored. Current value: bagging_freq=8\n",
      "Training until validation scores don't improve for 100 rounds\n",
      "[100]\ttraining's l1: 2.21747\tvalid_1's l1: 2.05087\n",
      "[200]\ttraining's l1: 2.17053\tvalid_1's l1: 2.04858\n",
      "[300]\ttraining's l1: 2.14194\tvalid_1's l1: 2.04862\n",
      "[400]\ttraining's l1: 2.12371\tvalid_1's l1: 2.04937\n"
     ]
    },
    {
     "name": "stderr",
     "output_type": "stream",
     "text": [
      "\u001b[32m[I 2021-07-30 00:23:48,186]\u001b[0m Trial 96 finished with value: -2.0450210658693617 and parameters: {'max_depth': 2, 'min_child_weight': 2, 'subsample': 0.9, 'colsample_bytree': 0.7, 'reg_lambda': 0.042683592507974814, 'reg_alpha': 0.17426084578713394, 'feature_fraction': 0.49706041623117214, 'bagging_fraction': 0.44914456480671416, 'bagging_freq': 8, 'num_leaves': 106, 'min_child_samples': 96}. Best is trial 57 with value: -2.0336315585840725.\u001b[0m\n"
     ]
    },
    {
     "name": "stdout",
     "output_type": "stream",
     "text": [
      "Early stopping, best iteration is:\n",
      "[362]\ttraining's l1: 2.13048\tvalid_1's l1: 2.04533\n",
      "[LightGBM] [Warning] feature_fraction is set=0.6061413546920618, colsample_bytree=0.9 will be ignored. Current value: feature_fraction=0.6061413546920618\n",
      "[LightGBM] [Warning] bagging_fraction is set=0.4867432396448651, subsample=0.8 will be ignored. Current value: bagging_fraction=0.4867432396448651\n",
      "[LightGBM] [Warning] bagging_freq is set=11, subsample_freq=0 will be ignored. Current value: bagging_freq=11\n",
      "Training until validation scores don't improve for 100 rounds\n",
      "[100]\ttraining's l1: 2.15425\tvalid_1's l1: 2.04788\n"
     ]
    },
    {
     "name": "stderr",
     "output_type": "stream",
     "text": [
      "\u001b[32m[I 2021-07-30 00:23:49,646]\u001b[0m Trial 97 finished with value: -2.0444508641430317 and parameters: {'max_depth': 3, 'min_child_weight': 3, 'subsample': 0.8, 'colsample_bytree': 0.9, 'reg_lambda': 0.02269932303704176, 'reg_alpha': 2.6488483741650275, 'feature_fraction': 0.6061413546920618, 'bagging_fraction': 0.4867432396448651, 'bagging_freq': 11, 'num_leaves': 45, 'min_child_samples': 83}. Best is trial 57 with value: -2.0336315585840725.\u001b[0m\n"
     ]
    },
    {
     "name": "stdout",
     "output_type": "stream",
     "text": [
      "Early stopping, best iteration is:\n",
      "[79]\ttraining's l1: 2.17514\tvalid_1's l1: 2.04446\n",
      "[LightGBM] [Warning] feature_fraction is set=0.515037829112837, colsample_bytree=0.7 will be ignored. Current value: feature_fraction=0.515037829112837\n",
      "[LightGBM] [Warning] bagging_fraction is set=0.4044096027292578, subsample=0.9 will be ignored. Current value: bagging_fraction=0.4044096027292578\n",
      "[LightGBM] [Warning] bagging_freq is set=5, subsample_freq=0 will be ignored. Current value: bagging_freq=5\n",
      "Training until validation scores don't improve for 100 rounds\n",
      "[100]\ttraining's l1: 1.98653\tvalid_1's l1: 2.0887\n"
     ]
    },
    {
     "name": "stderr",
     "output_type": "stream",
     "text": [
      "\u001b[32m[I 2021-07-30 00:23:51,198]\u001b[0m Trial 98 finished with value: -2.0533615109999808 and parameters: {'max_depth': 6, 'min_child_weight': 3, 'subsample': 0.9, 'colsample_bytree': 0.7, 'reg_lambda': 0.09055521060389984, 'reg_alpha': 0.3992614156421246, 'feature_fraction': 0.515037829112837, 'bagging_fraction': 0.4044096027292578, 'bagging_freq': 5, 'num_leaves': 130, 'min_child_samples': 87}. Best is trial 57 with value: -2.0336315585840725.\u001b[0m\n"
     ]
    },
    {
     "name": "stdout",
     "output_type": "stream",
     "text": [
      "Early stopping, best iteration is:\n",
      "[44]\ttraining's l1: 2.07822\tvalid_1's l1: 2.05336\n",
      "[LightGBM] [Warning] feature_fraction is set=0.5788216048459996, colsample_bytree=0.9 will be ignored. Current value: feature_fraction=0.5788216048459996\n",
      "[LightGBM] [Warning] bagging_fraction is set=0.5148386554106353, subsample=0.9 will be ignored. Current value: bagging_fraction=0.5148386554106353\n",
      "[LightGBM] [Warning] bagging_freq is set=6, subsample_freq=0 will be ignored. Current value: bagging_freq=6\n",
      "Training until validation scores don't improve for 100 rounds\n",
      "[100]\ttraining's l1: 2.28457\tvalid_1's l1: 2.0758\n",
      "[200]\ttraining's l1: 2.25371\tvalid_1's l1: 2.05649\n",
      "[300]\ttraining's l1: 2.23618\tvalid_1's l1: 2.04717\n",
      "[400]\ttraining's l1: 2.22673\tvalid_1's l1: 2.04739\n",
      "Early stopping, best iteration is:\n",
      "[333]\ttraining's l1: 2.23169\tvalid_1's l1: 2.04448\n"
     ]
    },
    {
     "name": "stderr",
     "output_type": "stream",
     "text": [
      "\u001b[32m[I 2021-07-30 00:23:54,150]\u001b[0m Trial 99 finished with value: -2.0444640488603523 and parameters: {'max_depth': 1, 'min_child_weight': 4, 'subsample': 0.9, 'colsample_bytree': 0.9, 'reg_lambda': 0.059312364776728826, 'reg_alpha': 4.66590767342537, 'feature_fraction': 0.5788216048459996, 'bagging_fraction': 0.5148386554106353, 'bagging_freq': 6, 'num_leaves': 181, 'min_child_samples': 40}. Best is trial 57 with value: -2.0336315585840725.\u001b[0m\n"
     ]
    }
   ],
   "source": [
    "study1, study2, study3, study4 = rt4kaido_train.train_and_evaluate(train, isgamedayonly=True)"
   ]
  },
  {
   "cell_type": "code",
   "execution_count": 19,
   "id": "0a3d07c1",
   "metadata": {},
   "outputs": [
    {
     "name": "stdout",
     "output_type": "stream",
     "text": [
      "best_score = 2.5761932638524696\n"
     ]
    },
    {
     "data": {
      "text/plain": [
       "{'max_depth': 15,\n",
       " 'min_child_weight': 11,\n",
       " 'subsample': 0.5,\n",
       " 'colsample_bytree': 0.8,\n",
       " 'reg_lambda': 0.003032755323920707,\n",
       " 'reg_alpha': 0.366363643519398,\n",
       " 'feature_fraction': 0.7371239177317086,\n",
       " 'bagging_fraction': 0.7812193424369623,\n",
       " 'bagging_freq': 2,\n",
       " 'num_leaves': 85,\n",
       " 'min_child_samples': 5}"
      ]
     },
     "execution_count": 19,
     "metadata": {},
     "output_type": "execute_result"
    }
   ],
   "source": [
    "print(f'best_score = {-study1.best_value}')\n",
    "study1.best_trial.params"
   ]
  },
  {
   "cell_type": "code",
   "execution_count": 20,
   "id": "ecce7755",
   "metadata": {},
   "outputs": [
    {
     "name": "stdout",
     "output_type": "stream",
     "text": [
      "best_score = 2.7947020810168923\n"
     ]
    },
    {
     "data": {
      "text/plain": [
       "{'max_depth': 1,\n",
       " 'min_child_weight': 15,\n",
       " 'subsample': 0.9,\n",
       " 'colsample_bytree': 0.8,\n",
       " 'reg_lambda': 0.03384271181171102,\n",
       " 'reg_alpha': 0.0029030113032933614,\n",
       " 'feature_fraction': 0.689102086803655,\n",
       " 'bagging_fraction': 0.5529672595341992,\n",
       " 'bagging_freq': 7,\n",
       " 'num_leaves': 354,\n",
       " 'min_child_samples': 43}"
      ]
     },
     "execution_count": 20,
     "metadata": {},
     "output_type": "execute_result"
    }
   ],
   "source": [
    "print(f'best_score = {-study2.best_value}')\n",
    "study2.best_trial.params"
   ]
  },
  {
   "cell_type": "code",
   "execution_count": 21,
   "id": "80cd7209",
   "metadata": {},
   "outputs": [
    {
     "name": "stdout",
     "output_type": "stream",
     "text": [
      "best_score = 1.7371715598574138\n"
     ]
    },
    {
     "data": {
      "text/plain": [
       "{'max_depth': 7,\n",
       " 'min_child_weight': 17,\n",
       " 'subsample': 0.9,\n",
       " 'colsample_bytree': 0.5,\n",
       " 'reg_lambda': 0.013206410340812798,\n",
       " 'reg_alpha': 0.38462102899359113,\n",
       " 'feature_fraction': 0.865874475429003,\n",
       " 'bagging_fraction': 0.9975448137502082,\n",
       " 'bagging_freq': 1,\n",
       " 'num_leaves': 683,\n",
       " 'min_child_samples': 30}"
      ]
     },
     "execution_count": 21,
     "metadata": {},
     "output_type": "execute_result"
    }
   ],
   "source": [
    "print(f'best_score = {-study3.best_value}')\n",
    "study3.best_trial.params"
   ]
  },
  {
   "cell_type": "code",
   "execution_count": 22,
   "id": "5c0fa5eb",
   "metadata": {},
   "outputs": [
    {
     "name": "stdout",
     "output_type": "stream",
     "text": [
      "best_score = 2.0336315585840725\n"
     ]
    },
    {
     "data": {
      "text/plain": [
       "{'max_depth': 8,\n",
       " 'min_child_weight': 5,\n",
       " 'subsample': 0.5,\n",
       " 'colsample_bytree': 0.7,\n",
       " 'reg_lambda': 0.5078328819318434,\n",
       " 'reg_alpha': 0.3444492532547177,\n",
       " 'feature_fraction': 0.5100430719886615,\n",
       " 'bagging_fraction': 0.9444400283463885,\n",
       " 'bagging_freq': 8,\n",
       " 'num_leaves': 11,\n",
       " 'min_child_samples': 44}"
      ]
     },
     "execution_count": 22,
     "metadata": {},
     "output_type": "execute_result"
    }
   ],
   "source": [
    "print(f'best_score = {-study4.best_value}')\n",
    "study4.best_trial.params"
   ]
  },
  {
   "cell_type": "code",
   "execution_count": null,
   "id": "4c496309",
   "metadata": {},
   "outputs": [],
   "source": []
  }
 ],
 "metadata": {
  "kernelspec": {
   "display_name": "Python 3",
   "language": "python",
   "name": "python3"
  },
  "language_info": {
   "codemirror_mode": {
    "name": "ipython",
    "version": 3
   },
   "file_extension": ".py",
   "mimetype": "text/x-python",
   "name": "python",
   "nbconvert_exporter": "python",
   "pygments_lexer": "ipython3",
   "version": "3.6.13"
  }
 },
 "nbformat": 4,
 "nbformat_minor": 5
}
