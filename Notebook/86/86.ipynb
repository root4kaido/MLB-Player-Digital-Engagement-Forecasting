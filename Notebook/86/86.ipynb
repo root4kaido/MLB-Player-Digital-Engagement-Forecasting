{
 "cells": [
  {
   "cell_type": "code",
   "execution_count": 1,
   "id": "2e55a08b",
   "metadata": {},
   "outputs": [],
   "source": [
    "import gc\n",
    "import os\n",
    "import sys\n",
    "import math\n",
    "import random\n",
    "import warnings\n",
    "import pickle\n",
    "from pathlib import Path\n",
    "from joblib import Parallel, delayed\n",
    "from statsmodels.tsa.deterministic import (CalendarFourier,\n",
    "                                           CalendarSeasonality,\n",
    "                                           CalendarTimeTrend,\n",
    "                                           DeterministicProcess)\n",
    "import optuna\n",
    "\n",
    "import pickle\n",
    "from tqdm import tqdm\n",
    "import os\n",
    "import ipywidgets as widgets\n",
    "import matplotlib.pyplot as plt\n",
    "import numpy as np\n",
    "import pandas as pd\n",
    "import seaborn as sns\n",
    "# from pandarallel import pandarallel\n",
    "# pandarallel.initialize()\n",
    "warnings.simplefilter(\"ignore\")\n",
    "import ctypes as ct\n",
    "from datetime import timedelta\n",
    "\n",
    "from sklearn.metrics import mean_absolute_error\n",
    "\n",
    "import statistics as st\n",
    "import lightgbm as lgbm\n",
    "from scipy.stats import norm"
   ]
  },
  {
   "cell_type": "code",
   "execution_count": 2,
   "id": "31b2ddc5",
   "metadata": {},
   "outputs": [],
   "source": [
    "sys.path.append('../../')\n",
    "import src.utils as utils"
   ]
  },
  {
   "cell_type": "markdown",
   "id": "b82a3973",
   "metadata": {},
   "source": [
    "## Param"
   ]
  },
  {
   "cell_type": "code",
   "execution_count": 3,
   "id": "3e3f3faf",
   "metadata": {},
   "outputs": [],
   "source": [
    "EXP_NUM = 76\n",
    "NFOLDS = 5\n",
    "SEED = 42"
   ]
  },
  {
   "cell_type": "code",
   "execution_count": 4,
   "id": "6f950a08",
   "metadata": {},
   "outputs": [],
   "source": [
    "# def set_seed(seed: int = 42):\n",
    "#     random.seed(seed)\n",
    "#     np.random.seed(seed)\n",
    "#     os.environ[\"PYTHONHASHSEED\"] = str(seed)\n",
    "#     torch.manual_seed(seed)\n",
    "#     torch.cuda.manual_seed(seed)  # type: ignore\n",
    "#     torch.backends.cudnn.deterministic = True  # type: ignore\n",
    "#     torch.backends.cudnn.benchmark = False  # type: ignore\n",
    "# set_seed(SEED)"
   ]
  },
  {
   "cell_type": "markdown",
   "id": "b8f2e83c",
   "metadata": {},
   "source": [
    "## Dir"
   ]
  },
  {
   "cell_type": "code",
   "execution_count": 5,
   "id": "9ed1831f",
   "metadata": {},
   "outputs": [],
   "source": [
    "DATA_DIR = Path(\"/home/knikaido/work/MLB-Player-Digital-Engagement-Forecasting/data/\")\n",
    "MAIN_DATA_DIR = DATA_DIR / 'mlb-player-digital-engagement-forecasting'\n",
    "TRAIN_DIR = MAIN_DATA_DIR / 'train'\n",
    "OUTPUT_DIR = Path('./output/')"
   ]
  },
  {
   "cell_type": "code",
   "execution_count": 6,
   "id": "dc8eaf3d",
   "metadata": {},
   "outputs": [],
   "source": [
    "players = pd.read_csv(MAIN_DATA_DIR / 'players.csv')\n",
    "\n",
    "rosters = pd.read_csv(TRAIN_DIR / 'rosters_train.csv')\n",
    "targets = pd.read_csv(TRAIN_DIR / 'nextDayPlayerEngagement_train.csv')\n",
    "scores = pd.read_csv(TRAIN_DIR / 'playerBoxScores_train.csv')\n",
    "scores = scores.groupby(['playerId', 'date']).sum().reset_index()\n",
    "seasons = pd.read_csv(MAIN_DATA_DIR / 'seasons.csv')\n",
    "salaries = pd.read_csv(MAIN_DATA_DIR / 'mlbSalaries.csv')\n",
    "teams = pd.read_csv(MAIN_DATA_DIR / 'teams.csv')\n",
    "\n",
    "standings = pd.read_csv(TRAIN_DIR / 'standings_train.csv')\n",
    "playerTwitterFollowers = pd.read_csv(TRAIN_DIR / 'playerTwitterFollowers_train.csv')\n",
    "\n",
    "# events = pd.read_csv(TRAIN_DIR / 'events_train.csv')\n",
    "# events = events.groupby(['gameDate']).sum().reset_index()\n"
   ]
  },
  {
   "cell_type": "code",
   "execution_count": null,
   "id": "344049d0",
   "metadata": {},
   "outputs": [],
   "source": []
  },
  {
   "cell_type": "code",
   "execution_count": 7,
   "id": "55255c4c",
   "metadata": {},
   "outputs": [],
   "source": [
    "train_elements_dict = {\"players\":players, \n",
    "                       \"rosters\":rosters, \n",
    "                       \"targets\":targets, \n",
    "                       \"scores\":scores, \n",
    "                       \"seasons\":seasons, \n",
    "                       \"teams\":teams, \n",
    "                       \"standings\":standings}"
   ]
  },
  {
   "cell_type": "code",
   "execution_count": 8,
   "id": "ead9566c",
   "metadata": {},
   "outputs": [],
   "source": [
    "def map_team_name(name):\n",
    "    names = name.split('-')\n",
    "    result = ''\n",
    "    for n in names:\n",
    "        if n == 'st':\n",
    "            n = 'st.'\n",
    "        result += f' {n.capitalize()}'\n",
    "\n",
    "    return result[1:]"
   ]
  },
  {
   "cell_type": "code",
   "execution_count": 9,
   "id": "4c6272ed",
   "metadata": {},
   "outputs": [],
   "source": [
    "def calc_corr(df):\n",
    "    # 相関係数行列を作成\n",
    "    corr_mat = df.corr(method='pearson')\n",
    "\n",
    "    # 行（列）サイズを取得\n",
    "    n = corr_mat.shape[0]\n",
    "    corr_ary = []\n",
    "\n",
    "    for i in range(n):\n",
    "        for j in range(i):\n",
    "            if i == j:\n",
    "                continue\n",
    "            corr_ary.append(corr_mat.iloc[i,j])\n",
    "\n",
    "    return corr_ary"
   ]
  },
  {
   "cell_type": "code",
   "execution_count": 10,
   "id": "406cf7bb",
   "metadata": {},
   "outputs": [],
   "source": [
    "def calc_probs(pid,df,temp):\n",
    "    to_append=[pid,'','','','','','','','','','','','','','','','','','','','','','','','','','','','','','','','','','']\n",
    "    targets=['target1','target2','target3','target4']\n",
    "    z=1\n",
    "    for target in targets:\n",
    "        target_prob = temp[target].tolist()\n",
    "        mean = np.mean(target_prob)\n",
    "        std = np.std(target_prob)\n",
    "        median = st.median(target_prob)\n",
    "        distribution = norm(mean, std)\n",
    "        min_weight = min(target_prob)\n",
    "        max_weight = max(target_prob)\n",
    "        values = list(np.linspace(min_weight, max_weight))\n",
    "        probabilities = [distribution.pdf(v) for v in values]\n",
    "        max_value = max(probabilities)\n",
    "        max_index = probabilities.index(max_value)\n",
    "        to_append[z]=mean\n",
    "        to_append[z+1]=median\n",
    "        to_append[z+2]=std\n",
    "        to_append[z+3]=min_weight\n",
    "        to_append[z+4]=max_weight\n",
    "        to_append[z+5]=temp[target].skew()\n",
    "        to_append[z+6]=temp[target].kurt()\n",
    "\n",
    "        z=z+7\n",
    "    corr_ = calc_corr(temp[['target1', 'target2', 'target3', 'target4']])\n",
    "    to_append[z:] = corr_  \n",
    "    df_length = len(df)\n",
    "    df.loc[df_length] = to_append\n",
    "    return df"
   ]
  },
  {
   "cell_type": "code",
   "execution_count": 11,
   "id": "fa76b5c5",
   "metadata": {},
   "outputs": [],
   "source": [
    "def count_consecutive_items_n_cols(df, col_name_list, output_col):\n",
    "    cum_sum_list = [\n",
    "        (df[col_name] != df[col_name].shift(1)).cumsum().tolist() for col_name in col_name_list\n",
    "    ]\n",
    "    df[output_col] = df.groupby(\n",
    "        [\"_\".join(map(str, x)) for x in zip(*cum_sum_list)]\n",
    "    ).cumcount() + 1\n",
    "    return df"
   ]
  },
  {
   "cell_type": "code",
   "execution_count": 12,
   "id": "1e6f5c62",
   "metadata": {},
   "outputs": [],
   "source": [
    "def extract_season(date_raw, season_start_end):\n",
    "    idxes = 0\n",
    "    for raw in season_start_end.iloc():\n",
    "        idx_ = ((date_raw >= raw.iloc[0]) & (date_raw <= raw.iloc[1])) * 1\n",
    "        idxes += idx_\n",
    "    return idxes"
   ]
  },
  {
   "cell_type": "code",
   "execution_count": 13,
   "id": "9a13f995",
   "metadata": {},
   "outputs": [],
   "source": [
    "# def fit_lgbm(x_train, y_train, x_valid, y_valid, params: dict=None, verbose=100):\n",
    "#     oof_pred = np.zeros(len(y_valid), dtype=np.float32)\n",
    "#     model = lgbm.LGBMRegressor(**params)\n",
    "#     model.fit(x_train, y_train, \n",
    "#         eval_set=[(x_valid, y_valid)],  \n",
    "#         early_stopping_rounds=verbose, \n",
    "#         verbose=verbose)\n",
    "#     oof_pred = model.predict(x_valid)\n",
    "#     oof_pred = np.clip(oof_pred, 0, 100)\n",
    "#     score = mean_absolute_error(oof_pred, y_valid)\n",
    "#     print('mae:', score)\n",
    "#     return oof_pred, model, score"
   ]
  },
  {
   "cell_type": "code",
   "execution_count": 14,
   "id": "9507ea8b",
   "metadata": {},
   "outputs": [],
   "source": [
    "def fit_lgbm(x_train, y_train, x_valid, y_valid, verbose=100):\n",
    "    def opt(trial):\n",
    "        params = {\n",
    "                'random_state': SEED,\n",
    "                'objective':'mae',\n",
    "                'n_estimators': 10000,\n",
    "                'learning_rate': 0.1,\n",
    "                'max_depth': trial.suggest_int('max_depth', 1, 20),\n",
    "                'min_child_weight': trial.suggest_int('min_child_weight', 1, 20),\n",
    "                'subsample': trial.suggest_discrete_uniform('subsample', 0.5, 0.9, 0.1),\n",
    "                'colsample_bytree': trial.suggest_discrete_uniform('colsample_bytree', 0.5, 0.9, 0.1),\n",
    "                'reg_lambda': trial.suggest_loguniform('reg_lambda', 1e-3, 1e3),\n",
    "                'reg_alpha': trial.suggest_loguniform('reg_alpha', 1e-3, 1e3),\n",
    "                'feature_fraction': trial.suggest_uniform('feature_fraction', 0.2, 1.0),\n",
    "                'bagging_fraction': trial.suggest_uniform('bagging_fraction', 0.2, 1.0),\n",
    "                'bagging_freq': trial.suggest_int('bagging_freq', 1, 20),\n",
    "                'num_leaves': trial.suggest_int('num_leaves', 10, 1000),\n",
    "                'min_child_samples': trial.suggest_int('min_child_samples', 5, 100)\n",
    "        }\n",
    "\n",
    "        model_opt = lgbm.LGBMRegressor(**params)\n",
    "\n",
    "        model_opt.fit(x_train, y_train, \n",
    "            eval_set=[(x_train, y_train), (x_valid, y_valid)],  \n",
    "            early_stopping_rounds=verbose, \n",
    "            verbose=verbose)\n",
    "        oof_pred = model_opt.predict(x_valid)\n",
    "        oof_pred = np.clip(oof_pred, 0, 100)\n",
    "        score = mean_absolute_error(oof_pred, y_valid)\n",
    "        return -score\n",
    "    return opt"
   ]
  },
  {
   "cell_type": "code",
   "execution_count": 15,
   "id": "ce6ac183",
   "metadata": {},
   "outputs": [],
   "source": [
    "def my_timeseries_fold(train):\n",
    "    \n",
    "    tr_idxs = []\n",
    "    val_idxs = []\n",
    "    \n",
    "    tr_idx = (train['date'].astype(int) < 20200801)\n",
    "    val_idx = (train['date'].astype(int) >= 20200801) & (train['date'].astype(int) < 20200901)\n",
    "    tr_idxs.append(tr_idx)\n",
    "    val_idxs.append(val_idx)\n",
    "\n",
    "    tr_idx = (train['date'].astype(int) < 20200901)\n",
    "    val_idx = (train['date'].astype(int) >= 20200901) & (train['date'].astype(int) < 20201001)\n",
    "    tr_idxs.append(tr_idx)\n",
    "    val_idxs.append(val_idx)\n",
    "\n",
    "    tr_idx = (train['date'].astype(int) < 20201001)\n",
    "    val_idx = (train['date'].astype(int) >= 20201001) & (train['date'].astype(int) < 20201028)\n",
    "    tr_idxs.append(tr_idx)\n",
    "    val_idxs.append(val_idx)\n",
    "\n",
    "    tr_idx = (train['date'].astype(int) < 20210228)\n",
    "    val_idx = (train['date'].astype(int) >= 20210228) & (train['date'].astype(int) < 20210401)\n",
    "    tr_idxs.append(tr_idx)\n",
    "    val_idxs.append(val_idx)\n",
    "\n",
    "    tr_idx = (train['date'].astype(int) < 20210401)\n",
    "    val_idx = ~tr_idx\n",
    "    tr_idxs.append(tr_idx)\n",
    "    val_idxs.append(val_idx)\n",
    "    \n",
    "    return tr_idxs, val_idxs"
   ]
  },
  {
   "cell_type": "code",
   "execution_count": 16,
   "id": "42585eee",
   "metadata": {},
   "outputs": [],
   "source": [
    "class Rt4kaidoTrain:\n",
    "    def __init__(self, usetimelinefeature=False):\n",
    "        \n",
    "        self.usetimelinefeature = usetimelinefeature\n",
    "        self.targets_cols = ['playerId', 'target1', 'target2', 'target3', 'target4', 'date']\n",
    "        self.players_cols = ['playerId', 'primaryPositionName', 'birthCity', 'DOY', 'mlbDebutYear', 'mlbDebutDate', 'DebutAge', 'heightInches', 'weight', 'playerForTestSetAndFuturePreds']\n",
    "        self.rosters_cols = ['playerId', 'teamId', 'status', 'date']\n",
    "        self.salaries_cols = ['teamId', 'salary', 'year']\n",
    "        self.standings_cols = ['teamId', 'wildCardRank', 'sportGamesBack', 'date']\n",
    "        self.transactions_cols = ['playerId', 'transaction_flag', 'date']\n",
    "        self.stat_cols = [\"playerId\", \"target1_mean\",\"target1_median\",\"target1_std\",\"target1_min\",\"target1_max\",\"target1_skew\",\"target1_kurt\",\n",
    "                        \"target2_mean\",\"target2_median\",\"target2_std\",\"target2_min\",\"target2_max\",\"target2_skew\",\"target2_kurt\",\n",
    "                        \"target3_mean\",\"target3_median\",\"target3_std\",\"target3_min\",\"target3_max\",\"target3_skew\",\"target3_kurt\",\n",
    "                        \"target4_mean\",\"target4_median\",\"target4_std\",\"target4_min\",\"target4_max\",\"target4_skew\",\"target4_kurt\",\n",
    "                        'tgt1_2_corr', 'tgt1_3_corr', 'tgt2_3_corr', 'tgt1_4_corr', 'tgt2_4_corr', 'tgt3_4_corr']\n",
    "\n",
    "        self.scores_cols = ['playerId', 'battingOrder', 'gamesPlayedBatting', 'flyOuts',\n",
    "               'groundOuts', 'runsScored', 'doubles', 'triples', 'homeRuns',\n",
    "               'strikeOuts', 'baseOnBalls', 'intentionalWalks', 'hits', 'hitByPitch',\n",
    "               'atBats', 'caughtStealing', 'stolenBases', 'groundIntoDoublePlay',\n",
    "               'groundIntoTriplePlay', 'plateAppearances', 'totalBases', 'rbi',\n",
    "               'leftOnBase', 'sacBunts', 'sacFlies', 'catchersInterference',\n",
    "               'pickoffs', 'gamesPlayedPitching', 'gamesStartedPitching',\n",
    "               'completeGamesPitching', 'shutoutsPitching', 'winsPitching',\n",
    "               'lossesPitching', 'flyOutsPitching', 'airOutsPitching',\n",
    "               'groundOutsPitching', 'runsPitching', 'doublesPitching',\n",
    "               'triplesPitching', 'homeRunsPitching', 'strikeOutsPitching',\n",
    "               'baseOnBallsPitching', 'intentionalWalksPitching', 'hitsPitching',\n",
    "               'hitByPitchPitching', 'atBatsPitching', 'caughtStealingPitching',\n",
    "               'stolenBasesPitching', 'inningsPitched', 'saveOpportunities',\n",
    "               'earnedRuns', 'battersFaced', 'outsPitching', 'pitchesThrown', 'balls',\n",
    "               'strikes', 'hitBatsmen', 'balks', 'wildPitches', 'pickoffsPitching',\n",
    "               'rbiPitching', 'gamesFinishedPitching', 'inheritedRunners',\n",
    "               'inheritedRunnersScored', 'catchersInterferencePitching',\n",
    "               'sacBuntsPitching', 'sacFliesPitching', 'saves', 'holds', 'blownSaves',\n",
    "               'assists', 'putOuts', 'errors', 'chances', 'date', 'gamePk']\n",
    "\n",
    "        self.feature_cols1 = ['week_day','label_playerId', 'label_primaryPositionName', 'label_teamId',\n",
    "               'label_status', 'battingOrder', 'gamesPlayedBatting', 'flyOuts',\n",
    "               'groundOuts', 'runsScored', 'doubles', 'triples', 'homeRuns',\n",
    "               'strikeOuts', 'baseOnBalls', 'intentionalWalks', 'hits', 'hitByPitch',\n",
    "               'atBats', 'caughtStealing', 'stolenBases', 'groundIntoDoublePlay',\n",
    "               'groundIntoTriplePlay', 'plateAppearances', 'totalBases', 'rbi',\n",
    "               'leftOnBase', 'sacBunts', 'sacFlies', 'catchersInterference',\n",
    "               'pickoffs', 'gamesPlayedPitching', 'gamesStartedPitching',\n",
    "               'completeGamesPitching', 'shutoutsPitching', 'winsPitching',\n",
    "               'lossesPitching', 'flyOutsPitching', 'airOutsPitching',\n",
    "               'groundOutsPitching', 'runsPitching', 'doublesPitching',\n",
    "               'triplesPitching', 'homeRunsPitching', 'strikeOutsPitching',\n",
    "               'baseOnBallsPitching', 'intentionalWalksPitching', 'hitsPitching',\n",
    "               'hitByPitchPitching', 'atBatsPitching', 'caughtStealingPitching',\n",
    "               'stolenBasesPitching', 'inningsPitched', 'saveOpportunities',\n",
    "               'earnedRuns', 'battersFaced', 'outsPitching', 'pitchesThrown', 'balls',\n",
    "               'strikes', 'hitBatsmen', 'balks', 'wildPitches', 'pickoffsPitching',\n",
    "               'rbiPitching', 'gamesFinishedPitching', 'inheritedRunners',\n",
    "               'inheritedRunnersScored', 'catchersInterferencePitching',\n",
    "               'sacBuntsPitching', 'sacFliesPitching', 'saves', 'holds', 'blownSaves',\n",
    "               'assists', 'putOuts', 'errors', 'chances',\n",
    "                'season_info', 'wildCardRank', 'gamenum'] \n",
    "\n",
    "        self.feature_cols2 = ['label_playerId', 'label_primaryPositionName', 'label_teamId',\n",
    "               'label_status', 'battingOrder', 'gamesPlayedBatting', 'flyOuts',\n",
    "               'groundOuts', 'runsScored', 'doubles', 'triples', 'homeRuns',\n",
    "               'strikeOuts', 'baseOnBalls', 'intentionalWalks', 'hits', 'hitByPitch',\n",
    "               'atBats', 'caughtStealing', 'stolenBases', 'groundIntoDoublePlay',\n",
    "               'groundIntoTriplePlay', 'plateAppearances', 'totalBases', 'rbi',\n",
    "               'leftOnBase', 'sacBunts', 'sacFlies', 'catchersInterference',\n",
    "               'pickoffs', 'gamesPlayedPitching', 'gamesStartedPitching',\n",
    "               'completeGamesPitching', 'shutoutsPitching', 'winsPitching',\n",
    "               'lossesPitching', 'flyOutsPitching', 'airOutsPitching',\n",
    "               'groundOutsPitching', 'runsPitching', 'doublesPitching',\n",
    "               'triplesPitching', 'homeRunsPitching', 'strikeOutsPitching',\n",
    "               'baseOnBallsPitching', 'intentionalWalksPitching', 'hitsPitching',\n",
    "               'hitByPitchPitching', 'atBatsPitching', 'caughtStealingPitching',\n",
    "               'stolenBasesPitching', 'inningsPitched', 'saveOpportunities',\n",
    "               'earnedRuns', 'battersFaced', 'outsPitching', 'pitchesThrown', 'balls',\n",
    "               'strikes', 'hitBatsmen', 'balks', 'wildPitches', 'pickoffsPitching',\n",
    "               'rbiPitching', 'gamesFinishedPitching', 'inheritedRunners',\n",
    "               'inheritedRunnersScored', 'catchersInterferencePitching',\n",
    "               'sacBuntsPitching', 'sacFliesPitching', 'saves', 'holds', 'blownSaves',\n",
    "               'assists', 'putOuts', 'errors', 'chances',\n",
    "                'season_info', 'wildCardRank'] \n",
    "\n",
    "        self.feature_cols3 = ['week_day','label_playerId', 'label_primaryPositionName', 'label_teamId',\n",
    "               'label_status', 'battingOrder', 'gamesPlayedBatting', 'flyOuts',\n",
    "               'groundOuts', 'runsScored', 'doubles', 'triples', 'homeRuns',\n",
    "               'strikeOuts', 'baseOnBalls', 'intentionalWalks', 'hits', 'hitByPitch',\n",
    "               'atBats', 'caughtStealing', 'stolenBases', 'groundIntoDoublePlay',\n",
    "               'groundIntoTriplePlay', 'plateAppearances', 'totalBases', 'rbi',\n",
    "               'leftOnBase', 'sacBunts', 'sacFlies', 'catchersInterference',\n",
    "               'pickoffs', 'gamesPlayedPitching', 'gamesStartedPitching',\n",
    "               'completeGamesPitching', 'shutoutsPitching', 'winsPitching',\n",
    "               'lossesPitching', 'flyOutsPitching', 'airOutsPitching',\n",
    "               'groundOutsPitching', 'runsPitching', 'doublesPitching',\n",
    "               'triplesPitching', 'homeRunsPitching', 'strikeOutsPitching',\n",
    "               'baseOnBallsPitching', 'intentionalWalksPitching', 'hitsPitching',\n",
    "               'hitByPitchPitching', 'atBatsPitching', 'caughtStealingPitching',\n",
    "               'stolenBasesPitching', 'inningsPitched', 'saveOpportunities',\n",
    "               'earnedRuns', 'battersFaced', 'outsPitching', 'pitchesThrown', 'balls',\n",
    "               'strikes', 'hitBatsmen', 'balks', 'wildPitches', 'pickoffsPitching',\n",
    "               'rbiPitching', 'gamesFinishedPitching', 'inheritedRunners',\n",
    "               'inheritedRunnersScored', 'catchersInterferencePitching',\n",
    "               'sacBuntsPitching', 'sacFliesPitching', 'saves', 'holds', 'blownSaves',\n",
    "               'assists', 'putOuts', 'errors', 'chances',\n",
    "                'season_info', 'wildCardRank', 'diffmlbDebutDateflag', 'sincemlbDebutDateflag'] \n",
    "\n",
    "        self.feature_cols4 = ['week_day', 'annual_day', 'month', 'label_playerId', 'label_primaryPositionName', 'label_teamId', 'label_birthCity',\n",
    "                        'DOY', 'mlbDebutYear', 'DebutAge', 'heightInches', 'weight',\n",
    "               'label_status', 'battingOrder', 'gamesPlayedBatting', 'flyOuts',\n",
    "               'groundOuts', 'runsScored', 'doubles', 'triples', 'homeRuns',\n",
    "               'strikeOuts', 'baseOnBalls', 'intentionalWalks', 'hits', 'hitByPitch',\n",
    "               'atBats', 'caughtStealing', 'stolenBases', 'groundIntoDoublePlay',\n",
    "               'groundIntoTriplePlay', 'plateAppearances', 'totalBases', 'rbi',\n",
    "               'leftOnBase', 'sacBunts', 'sacFlies', 'catchersInterference',\n",
    "               'pickoffs', 'gamesPlayedPitching', 'gamesStartedPitching',\n",
    "               'completeGamesPitching', 'shutoutsPitching', 'winsPitching',\n",
    "               'lossesPitching', 'flyOutsPitching', 'airOutsPitching',\n",
    "               'groundOutsPitching', 'runsPitching', 'doublesPitching',\n",
    "               'triplesPitching', 'homeRunsPitching', 'strikeOutsPitching',\n",
    "               'baseOnBallsPitching', 'intentionalWalksPitching', 'hitsPitching',\n",
    "               'hitByPitchPitching', 'atBatsPitching', 'caughtStealingPitching',\n",
    "               'stolenBasesPitching', 'inningsPitched', 'saveOpportunities',\n",
    "               'earnedRuns', 'battersFaced', 'outsPitching', 'pitchesThrown', 'balls',\n",
    "               'strikes', 'hitBatsmen', 'balks', 'wildPitches', 'pickoffsPitching',\n",
    "               'rbiPitching', 'gamesFinishedPitching', 'inheritedRunners',\n",
    "               'inheritedRunnersScored', 'catchersInterferencePitching',\n",
    "               'sacBuntsPitching', 'sacFliesPitching', 'saves', 'holds', 'blownSaves',\n",
    "               'assists', 'putOuts', 'errors', 'chances',\n",
    "                'season_info', 'wildCardRank', 'diffmlbDebutDateflag', 'sincemlbDebutDateflag', 'gamePlayerRatio', 'gamenum'] \n",
    "            \n",
    "        \n",
    "        # lightgbm\n",
    "        self.params1 = {'objective':'mae',\n",
    "                       'reg_alpha': 0.14947461820098767, \n",
    "                       'reg_lambda': 0.10185644384043743, \n",
    "                       'n_estimators': 3633, \n",
    "                       'learning_rate': 0.08046301304430488, \n",
    "                       'num_leaves': 674, \n",
    "                       'feature_fraction': 0.9101240539122566, \n",
    "                       'bagging_fraction': 0.9884451442950513, \n",
    "                       'bagging_freq': 8, \n",
    "                       'min_child_samples': 51}\n",
    "\n",
    "\n",
    "        self.params2 = {'objective':'mae',\n",
    "                       'reg_alpha': 0.1,\n",
    "                       'reg_lambda': 0.1, \n",
    "                       'n_estimators': 80,\n",
    "                       'learning_rate': 0.1,\n",
    "                       'random_state': 42,\n",
    "                       \"num_leaves\": 22}\n",
    "\n",
    "\n",
    "\n",
    "        self.params3 = {'objective':'mae',\n",
    "                       'reg_alpha': 0.1,\n",
    "                       'reg_lambda': 0.1, \n",
    "                       'n_estimators': 10000,\n",
    "                       'learning_rate': 0.1,\n",
    "                       'random_state': 42,\n",
    "                       \"num_leaves\": 100}\n",
    "\n",
    "        self.params4 = {'objective':'mae',\n",
    "                       'reg_alpha': 0.016468100279441976, \n",
    "                       'reg_lambda': 0.09128335764019105, \n",
    "                       'n_estimators': 9868, \n",
    "                       'learning_rate': 0.10528150510326864, \n",
    "                       'num_leaves': 157, \n",
    "                       'feature_fraction': 0.5419185713426886, \n",
    "                       'bagging_fraction': 0.2637405128936662, \n",
    "                       'bagging_freq': 19, \n",
    "                       'min_child_samples': 71}\n",
    "\n",
    "    def make_feature(self, train_elements_dict):\n",
    "\n",
    "        players = train_elements_dict['players']\n",
    "        rosters = train_elements_dict['rosters']\n",
    "        targets = train_elements_dict['targets']\n",
    "        scores = train_elements_dict['scores']\n",
    "        seasons = train_elements_dict['seasons']\n",
    "        teams = train_elements_dict['teams']\n",
    "        standings = train_elements_dict['standings']\n",
    "\n",
    "        print('calc target stat ... ', end=\"\")\n",
    "\n",
    "        ## target stats\n",
    "        targets_train = targets.merge(rosters[self.rosters_cols], on=['playerId', 'date'], how='left')\n",
    "        targets_train = targets_train[(targets_train['date'] >= 20210401)]\n",
    "\n",
    "        playerId_list = targets_train['playerId'].unique()\n",
    "        player_target_probs = pd.DataFrame(columns = self.stat_cols)  \n",
    "        for pid in tqdm(playerId_list):\n",
    "            temp = targets_train[targets_train['playerId'] == pid]\n",
    "            player_target_stats=calc_probs(pid,player_target_probs,temp)\n",
    "\n",
    "        teamId_list = targets_train['teamId'].dropna().unique()\n",
    "        team_target_probs = pd.DataFrame(columns = self.stat_cols)\n",
    "        for pid in tqdm(teamId_list):\n",
    "            temp = targets_train[targets_train['teamId'] == pid]\n",
    "            team_target_stats=calc_probs(pid,team_target_probs,temp)\n",
    "\n",
    "        team_stat_cols = self.stat_cols\n",
    "        team_stat_cols = team_stat_cols[:1] + [\"team_\" + word for word in team_stat_cols[1:]]\n",
    "        team_target_stats.columns = team_stat_cols\n",
    "\n",
    "        self.feature_cols1 += self.stat_cols[1:-6]\n",
    "        self.feature_cols2 += self.stat_cols[1:-6]\n",
    "        self.feature_cols3 += self.stat_cols[1:-6]\n",
    "        self.feature_cols4 += self.stat_cols[1:-6]\n",
    "\n",
    "        self.feature_cols1 += team_stat_cols[1:]\n",
    "        self.feature_cols2 += team_stat_cols[1:]\n",
    "        self.feature_cols3 += team_stat_cols[1:]\n",
    "        self.feature_cols4 += team_stat_cols[1:]\n",
    "\n",
    "        print('done.')\n",
    "\n",
    "        print('preprocess ... ', end=\"\")\n",
    "        ## salaries\n",
    "        # salaries = salaries.groupby(['year', 'team']).sum()['salary'].reset_index()\n",
    "        # salaries['team'] = salaries['team'].apply(map_team_name)\n",
    "        # salaries = salaries.merge(teams, left_on='team', right_on='name', how='inner')\n",
    "        # salaries = salaries.rename(columns={'id': 'teamId'})\n",
    "\n",
    "        ## seasons\n",
    "        seasons = seasons.fillna('0000-00-00')\n",
    "        for c_ in seasons.columns[1:]:\n",
    "            seasons[c_] = seasons[c_].str.replace('-', '').astype(int)\n",
    "\n",
    "        ## players\n",
    "        players['DOY'] = pd.to_datetime(players['DOB'], format=\"%Y-%m-%d\").dt.year\n",
    "        players['mlbDebutYear'] = pd.to_datetime(players['mlbDebutDate'], format=\"%Y-%m-%d\").dt.year\n",
    "        players['DebutAge'] = players['mlbDebutYear'] - players['DOY']\n",
    "        players['mlbDebutDate'] = pd.to_numeric(players['mlbDebutDate'].str.replace('-', ''), errors=\"coerce\")\n",
    "        \n",
    "        print('done.')\n",
    "\n",
    "        print('creat feature ... ', end=\"\")\n",
    "        # creat feature\n",
    "        train = targets[self.targets_cols].merge(players[self.players_cols], on=['playerId'], how='left')\n",
    "        train = train.merge(rosters[self.rosters_cols], on=['playerId', 'date'], how='left')\n",
    "        train = train.merge(scores[self.scores_cols], on=['playerId', 'date'], how='left')\n",
    "        train = train.merge(player_target_stats, how='inner', left_on=[\"playerId\"],right_on=[\"playerId\"])\n",
    "        train = train.merge(standings[self.standings_cols], on=['teamId', 'date'], how='left')\n",
    "        train = train.merge(team_target_stats, how='left', left_on=[\"teamId\"],right_on=[\"playerId\"], suffixes=('', 'team_'))\n",
    "        \n",
    "        date_ = pd.to_datetime(train['date'], format=\"%Y%m%d\")\n",
    "        train['annual_day'] = (date_ - pd.to_datetime(date_.dt.year, format=\"%Y\")) /  timedelta(days=1)\n",
    "        train['week_day'] = date_.dt.weekday\n",
    "        train['month'] = date_.dt.month\n",
    "        train['year'] = date_.dt.year\n",
    "        train['mlbDebutDateflag'] = (train['mlbDebutDate'] == train['date']) * 1\n",
    "        train['sincemlbDebutDateflag'] = (train['date'] >= train['mlbDebutDate']) * 1\n",
    "        train['diffmlbDebutDateflag'] = (train['date'] - train['mlbDebutDate'])\n",
    "\n",
    "        # label encoding\n",
    "        player2num = {c: i for i, c in enumerate(train['playerId'].unique())}\n",
    "        position2num = {c: i for i, c in enumerate(train['primaryPositionName'].unique())}\n",
    "        birthCityn2num = {c: i for i, c in enumerate(train['birthCity'].unique())}\n",
    "        teamid2num = {c: i for i, c in enumerate(train['teamId'].unique())}\n",
    "        status2num = {c: i for i, c in enumerate(train['status'].unique())}\n",
    "        train['label_playerId'] = train['playerId'].map(player2num)\n",
    "        train['label_primaryPositionName'] = train['primaryPositionName'].map(position2num)\n",
    "        train['label_birthCity'] = train['birthCity'].map(birthCityn2num)\n",
    "        train['label_teamId'] = train['teamId'].map(teamid2num)\n",
    "        train['label_status'] = train['status'].map(status2num)\n",
    "\n",
    "        ## season_info\n",
    "        on_preseason_idxes = extract_season(train['date'], seasons[['preSeasonStartDate', 'preSeasonEndDate']])\n",
    "        on_season_idxes = extract_season(train['date'], seasons[['regularSeasonStartDate', 'regularSeasonEndDate']]) * 2\n",
    "        on_postseason_idxes = extract_season(train['date'], seasons[['postSeasonStartDate', 'postSeasonEndDate']]) * 3\n",
    "\n",
    "        special_days = seasons['lastDate1stHalf'].to_list() + seasons['allStarDate'].to_list() + seasons['firstDate2ndHalf'].to_list()\n",
    "        special_idxes = 0\n",
    "        for day in special_days:\n",
    "            special_idxes += (train['date'] == day) * 4\n",
    "\n",
    "        on_total_season_idxes = on_preseason_idxes\n",
    "        on_total_season_idxes[on_season_idxes==2] = 2\n",
    "        on_total_season_idxes[on_postseason_idxes==3] = 3\n",
    "        on_total_season_idxes[special_idxes==4] = 4\n",
    "\n",
    "        train['season_info'] = on_total_season_idxes\n",
    "\n",
    "        ## only on season\n",
    "        on_whole_idxes = extract_season(train['date'], seasons[['seasonStartDate', 'seasonEndDate']])\n",
    "        train = train[on_whole_idxes == 1].reset_index(drop=True)\n",
    "\n",
    "        # train = train.merge(playerTwitterFollowers, how='left', on=[\"playerId\", 'date'])\n",
    "\n",
    "        ## only test_player\n",
    "        train = train[train['playerForTestSetAndFuturePreds']==True].reset_index(drop=True)\n",
    "\n",
    "        print('done.')\n",
    "        \n",
    "        train_features_dict = {'players': players,\n",
    "                               'seasons': seasons,\n",
    "                                'player_target_stats': player_target_stats,\n",
    "                                'team_target_stats': team_target_stats,\n",
    "                                'player2num': player2num, \n",
    "                                'position2num': position2num, \n",
    "                                'birthCityn2num': birthCityn2num,\n",
    "                                'teamid2num': teamid2num,\n",
    "                                'status2num': status2num,\n",
    "                                'feature_cols1': self.feature_cols1,\n",
    "                                'feature_cols2': self.feature_cols2,\n",
    "                                'feature_cols3': self.feature_cols3,\n",
    "                                'feature_cols4': self.feature_cols4\n",
    "                              }\n",
    "        \n",
    "        if self.usetimelinefeature:\n",
    "            ## game_info\n",
    "            train['gameday'] = ~train['battingOrder'].isna()*1\n",
    "            train.sort_values(by=['playerId','date'],inplace=True,ascending=True)\n",
    "\n",
    "            train=count_consecutive_items_n_cols(train,['playerId','gameday'],'daysSinceLastGame')\n",
    "            train.loc[train['gameday']==1,'daysSinceLastGame'] = 0\n",
    "\n",
    "            train_game = train[train['gameday']==1]\n",
    "            train_last_game = train_game[~train_game.duplicated(subset='playerId', keep='last')][['playerId', 'date']]\n",
    "            train_last_game.columns = ['playerId', 'lastdate']\n",
    "            train_player_unique = pd.DataFrame(train['playerId'].unique(), columns=['playerId'])\n",
    "            train_last_game = pd.merge(train_player_unique, train_last_game, on=['playerId'], how='left' )\n",
    "            train_last_game = train_last_game.fillna(20171231)\n",
    "            \n",
    "            train_features_dict['train_last_game'] = train_last_game\n",
    "            self.feature_cols1 += ['daysSinceLastGame']\n",
    "            self.feature_cols2 += ['daysSinceLastGame']\n",
    "            self.feature_cols3 += ['daysSinceLastGame']\n",
    "            self.feature_cols4 += ['daysSinceLastGame']\n",
    "            \n",
    "            \n",
    "            ## rosters_info\n",
    "            train['rosterday'] = ~train['status'].isna()*1\n",
    "            train.sort_values(by=['playerId','date'],inplace=True,ascending=True)\n",
    "\n",
    "            train=count_consecutive_items_n_cols(train,['playerId','rosterday'],'daysSinceLastRoster')\n",
    "            train.loc[train['rosterday']==1,'daysSinceLastRoster'] = 0\n",
    "\n",
    "            train_roster= train[train['rosterday']==1]\n",
    "            train_last_roster = train_roster[~train_roster.duplicated(subset='playerId', keep='last')][['playerId', 'date']]\n",
    "            train_last_roster.columns = ['playerId', 'lastroster']\n",
    "            train_player_unique = pd.DataFrame(train['playerId'].unique(), columns=['playerId'])\n",
    "            train_last_roster = pd.merge(train_player_unique, train_last_roster, on=['playerId'], how='left' )\n",
    "            train_last_roster = train_last_roster.fillna(20171231)\n",
    "            \n",
    "            train_features_dict['train_last_roster'] = train_last_roster\n",
    "            self.feature_cols1 += ['daysSinceLastRoster']\n",
    "            self.feature_cols2 += ['daysSinceLastRoster']\n",
    "            self.feature_cols3 += ['daysSinceLastRoster']\n",
    "            self.feature_cols4 += ['daysSinceLastRoster']\n",
    "            \n",
    "        ## gameplayer ratio\n",
    "        game_player_ratio = (train[train['gameday']==1].groupby('date').count()['playerId'] / train.groupby('date').count()['playerId']).reset_index()\n",
    "        game_player_ratio.columns = ['date', 'gamePlayerRatio']\n",
    "        train = train.merge(game_player_ratio, on='date', how='left')\n",
    "        \n",
    "        ## scores\n",
    "        scores_gamenum = train.groupby('date')['gamePk'].agg(lambda x: len(x.dropna().unique())).reset_index()\n",
    "        scores_gamenum.columns = ['date', 'gamenum']\n",
    "        train = train.merge(scores_gamenum, on='date', how='left')\n",
    "\n",
    "        return train, train_features_dict\n",
    "    \n",
    "    def train_and_evaluate(self, train, isgamedayonly=False):\n",
    "        \n",
    "        if isgamedayonly:\n",
    "            train = train[train['gameday'] == 1].reset_index(drop=True)\n",
    "            \n",
    "        train_X = train\n",
    "        train_y = train[['target1', 'target2', 'target3', 'target4']]\n",
    "\n",
    "        oof = np.zeros(train_y.shape) - 1.0\n",
    "        y_valids = np.zeros(train_y.shape) - 1.0\n",
    "\n",
    "        tr_idx = (train['date'].astype(int) < 20210401)\n",
    "        val_idx = ~tr_idx\n",
    "\n",
    "        x_train = train_X.loc[tr_idx].reset_index(drop=True)\n",
    "        y_train = train_y.loc[tr_idx].reset_index(drop=True)\n",
    "        x_valid = train_X.loc[val_idx].reset_index(drop=True)\n",
    "        y_valid = train_y.loc[val_idx].reset_index(drop=True)\n",
    "\n",
    "        study1 = optuna.create_study(direction='maximize')\n",
    "        study1.optimize(fit_lgbm(x_train[self.feature_cols1], y_train['target1'], \n",
    "                                 x_valid[self.feature_cols1], y_valid['target1']), n_trials=100)\n",
    "        \n",
    "        study2 = optuna.create_study(direction='maximize')\n",
    "        study2.optimize(fit_lgbm(x_train[self.feature_cols2], y_train['target2'], \n",
    "                                 x_valid[self.feature_cols2], y_valid['target2']), n_trials=100)\n",
    "        \n",
    "        study3 = optuna.create_study(direction='maximize')\n",
    "        study3.optimize(fit_lgbm(x_train[self.feature_cols3], y_train['target3'], \n",
    "                                 x_valid[self.feature_cols3], y_valid['target3']), n_trials=100)\n",
    "        \n",
    "        study4 = optuna.create_study(direction='maximize')\n",
    "        study4.optimize(fit_lgbm(x_train[self.feature_cols4], y_train['target4'], \n",
    "                                 x_valid[self.feature_cols4], y_valid['target4']), n_trials=100)\n",
    "\n",
    "#         oof1, model1, score1 = fit_lgbm(\n",
    "#             x_train[self.feature_cols1], y_train['target1'],\n",
    "#             x_valid[self.feature_cols1], y_valid['target1'],\n",
    "# #             self.params1\n",
    "#         )\n",
    "#         oof2, model2, score2 = fit_lgbm(\n",
    "#             x_train[self.feature_cols2], y_train['target2'],\n",
    "#             x_valid[self.feature_cols2], y_valid['target2'],\n",
    "# #             self.params2\n",
    "#         )\n",
    "#         oof3, model3, score3 = fit_lgbm(\n",
    "#             x_train[self.feature_cols3], y_train['target3'],\n",
    "#             x_valid[self.feature_cols3], y_valid['target3'],\n",
    "# #             self.params3\n",
    "#         )\n",
    "#         oof4, model4, score4 = fit_lgbm(\n",
    "#             x_train[self.feature_cols4], y_train['target4'],\n",
    "#             x_valid[self.feature_cols4], y_valid['target4'],\n",
    "# #             self.params4\n",
    "#         )\n",
    "\n",
    "#         score = (score1+score2+score3+score4) / 4\n",
    "#         print(f'score: {score}')\n",
    "\n",
    "#         oof[val_idx, 0] = oof1\n",
    "#         oof[val_idx, 1] = oof2\n",
    "#         oof[val_idx, 2] = oof3\n",
    "#         oof[val_idx, 3] = oof4\n",
    "#         y_valids[val_idx, 0] = y_valid['target1'].values\n",
    "#         y_valids[val_idx, 1] = y_valid['target2'].values\n",
    "#         y_valids[val_idx, 2] = y_valid['target3'].values\n",
    "#         y_valids[val_idx, 3] = y_valid['target4'].values\n",
    "\n",
    "#         mae = mean_absolute_error(y_valids[val_idx, :], oof[val_idx, :])\n",
    "#         print(\"mae:\", mae)\n",
    "\n",
    "#         val_idx_num = val_idx[val_idx==True].index.to_list()\n",
    "\n",
    "#         oof_df = train[self.targets_cols]\n",
    "#         oof_df.iloc[val_idx_num, 1:5] = oof[val_idx_num, :]\n",
    "\n",
    "#         models = np.array([model1, model2, model3, model4])\n",
    "\n",
    "        return study1, study2, study3, study4\n",
    "            "
   ]
  },
  {
   "cell_type": "code",
   "execution_count": 17,
   "id": "7533b329",
   "metadata": {},
   "outputs": [
    {
     "name": "stdout",
     "output_type": "stream",
     "text": [
      "calc target stat ... "
     ]
    },
    {
     "name": "stderr",
     "output_type": "stream",
     "text": [
      "100%|██████████| 2061/2061 [00:45<00:00, 45.04it/s]\n",
      "100%|██████████| 30/30 [00:00<00:00, 42.50it/s]\n"
     ]
    },
    {
     "name": "stdout",
     "output_type": "stream",
     "text": [
      "done.\n",
      "preprocess ... done.\n",
      "creat feature ... done.\n"
     ]
    }
   ],
   "source": [
    "rt4kaido_train = Rt4kaidoTrain(usetimelinefeature=True)\n",
    "train, train_features_dict = rt4kaido_train.make_feature(train_elements_dict)"
   ]
  },
  {
   "cell_type": "code",
   "execution_count": 18,
   "id": "37cd13e4",
   "metadata": {},
   "outputs": [
    {
     "name": "stderr",
     "output_type": "stream",
     "text": [
      "\u001b[32m[I 2021-07-26 13:13:50,833]\u001b[0m A new study created in memory with name: no-name-ff5f7515-7667-4bf0-96df-984f7d07de25\u001b[0m\n"
     ]
    },
    {
     "name": "stdout",
     "output_type": "stream",
     "text": [
      "[LightGBM] [Warning] feature_fraction is set=0.6043370295426438, colsample_bytree=0.9 will be ignored. Current value: feature_fraction=0.6043370295426438\n",
      "[LightGBM] [Warning] bagging_fraction is set=0.6654615881548038, subsample=0.9 will be ignored. Current value: bagging_fraction=0.6654615881548038\n",
      "[LightGBM] [Warning] bagging_freq is set=6, subsample_freq=0 will be ignored. Current value: bagging_freq=6\n",
      "Training until validation scores don't improve for 100 rounds\n",
      "[100]\ttraining's l1: 0.867566\tvalid_1's l1: 1.18825\n",
      "[200]\ttraining's l1: 0.859345\tvalid_1's l1: 1.1725\n"
     ]
    },
    {
     "name": "stderr",
     "output_type": "stream",
     "text": [
      "\u001b[32m[I 2021-07-26 13:14:01,495]\u001b[0m Trial 0 finished with value: -1.1723883066829353 and parameters: {'max_depth': 7, 'min_child_weight': 18, 'subsample': 0.9, 'colsample_bytree': 0.9, 'reg_lambda': 523.2617346680922, 'reg_alpha': 100.80050216947538, 'feature_fraction': 0.6043370295426438, 'bagging_fraction': 0.6654615881548038, 'bagging_freq': 6, 'num_leaves': 618, 'min_child_samples': 72}. Best is trial 0 with value: -1.1723883066829353.\u001b[0m\n"
     ]
    },
    {
     "name": "stdout",
     "output_type": "stream",
     "text": [
      "Early stopping, best iteration is:\n",
      "[171]\ttraining's l1: 0.859425\tvalid_1's l1: 1.17247\n",
      "[LightGBM] [Warning] feature_fraction is set=0.9821264532983782, colsample_bytree=0.9 will be ignored. Current value: feature_fraction=0.9821264532983782\n",
      "[LightGBM] [Warning] bagging_fraction is set=0.5440865701635389, subsample=0.7 will be ignored. Current value: bagging_fraction=0.5440865701635389\n",
      "[LightGBM] [Warning] bagging_freq is set=14, subsample_freq=0 will be ignored. Current value: bagging_freq=14\n",
      "Training until validation scores don't improve for 100 rounds\n",
      "[100]\ttraining's l1: 0.839822\tvalid_1's l1: 1.16029\n",
      "[200]\ttraining's l1: 0.830092\tvalid_1's l1: 1.15157\n",
      "[300]\ttraining's l1: 0.825206\tvalid_1's l1: 1.15066\n",
      "[400]\ttraining's l1: 0.823759\tvalid_1's l1: 1.14968\n",
      "[500]\ttraining's l1: 0.822268\tvalid_1's l1: 1.14896\n",
      "Early stopping, best iteration is:\n",
      "[490]\ttraining's l1: 0.822409\tvalid_1's l1: 1.14878\n"
     ]
    },
    {
     "name": "stderr",
     "output_type": "stream",
     "text": [
      "\u001b[32m[I 2021-07-26 13:14:26,507]\u001b[0m Trial 1 finished with value: -1.1484505796530315 and parameters: {'max_depth': 10, 'min_child_weight': 18, 'subsample': 0.7, 'colsample_bytree': 0.9, 'reg_lambda': 0.003434570505116141, 'reg_alpha': 15.511363998168848, 'feature_fraction': 0.9821264532983782, 'bagging_fraction': 0.5440865701635389, 'bagging_freq': 14, 'num_leaves': 773, 'min_child_samples': 78}. Best is trial 1 with value: -1.1484505796530315.\u001b[0m\n"
     ]
    },
    {
     "name": "stdout",
     "output_type": "stream",
     "text": [
      "[LightGBM] [Warning] feature_fraction is set=0.639595061119749, colsample_bytree=0.7 will be ignored. Current value: feature_fraction=0.639595061119749\n",
      "[LightGBM] [Warning] bagging_fraction is set=0.5290245255156929, subsample=0.9 will be ignored. Current value: bagging_fraction=0.5290245255156929\n",
      "[LightGBM] [Warning] bagging_freq is set=5, subsample_freq=0 will be ignored. Current value: bagging_freq=5\n",
      "Training until validation scores don't improve for 100 rounds\n",
      "[100]\ttraining's l1: 0.849153\tvalid_1's l1: 1.16098\n",
      "[200]\ttraining's l1: 0.846054\tvalid_1's l1: 1.15574\n",
      "[300]\ttraining's l1: 0.842303\tvalid_1's l1: 1.153\n",
      "[400]\ttraining's l1: 0.837628\tvalid_1's l1: 1.14796\n",
      "[500]\ttraining's l1: 0.831875\tvalid_1's l1: 1.14421\n",
      "[600]\ttraining's l1: 0.827433\tvalid_1's l1: 1.14318\n",
      "Early stopping, best iteration is:\n",
      "[576]\ttraining's l1: 0.828014\tvalid_1's l1: 1.1428\n"
     ]
    },
    {
     "name": "stderr",
     "output_type": "stream",
     "text": [
      "\u001b[32m[I 2021-07-26 13:14:50,484]\u001b[0m Trial 2 finished with value: -1.1424827321451265 and parameters: {'max_depth': 18, 'min_child_weight': 3, 'subsample': 0.9, 'colsample_bytree': 0.7, 'reg_lambda': 15.467653479658418, 'reg_alpha': 0.004391809731222354, 'feature_fraction': 0.639595061119749, 'bagging_fraction': 0.5290245255156929, 'bagging_freq': 5, 'num_leaves': 226, 'min_child_samples': 29}. Best is trial 2 with value: -1.1424827321451265.\u001b[0m\n"
     ]
    },
    {
     "name": "stdout",
     "output_type": "stream",
     "text": [
      "[LightGBM] [Warning] feature_fraction is set=0.30366200638675356, colsample_bytree=0.7 will be ignored. Current value: feature_fraction=0.30366200638675356\n",
      "[LightGBM] [Warning] bagging_fraction is set=0.8898570396779257, subsample=0.6 will be ignored. Current value: bagging_fraction=0.8898570396779257\n",
      "[LightGBM] [Warning] bagging_freq is set=7, subsample_freq=0 will be ignored. Current value: bagging_freq=7\n",
      "Training until validation scores don't improve for 100 rounds\n",
      "[100]\ttraining's l1: 0.98522\tvalid_1's l1: 1.37192\n"
     ]
    },
    {
     "name": "stderr",
     "output_type": "stream",
     "text": [
      "\u001b[32m[I 2021-07-26 13:14:55,278]\u001b[0m Trial 3 finished with value: -1.3719139006133183 and parameters: {'max_depth': 1, 'min_child_weight': 7, 'subsample': 0.6, 'colsample_bytree': 0.7, 'reg_lambda': 18.86349041449032, 'reg_alpha': 9.238185312212721, 'feature_fraction': 0.30366200638675356, 'bagging_fraction': 0.8898570396779257, 'bagging_freq': 7, 'num_leaves': 91, 'min_child_samples': 50}. Best is trial 2 with value: -1.1424827321451265.\u001b[0m\n"
     ]
    },
    {
     "name": "stdout",
     "output_type": "stream",
     "text": [
      "Early stopping, best iteration is:\n",
      "[42]\ttraining's l1: 0.985224\tvalid_1's l1: 1.37192\n",
      "[LightGBM] [Warning] feature_fraction is set=0.9314342895821586, colsample_bytree=0.8 will be ignored. Current value: feature_fraction=0.9314342895821586\n",
      "[LightGBM] [Warning] bagging_fraction is set=0.4399594201849734, subsample=0.8 will be ignored. Current value: bagging_fraction=0.4399594201849734\n",
      "[LightGBM] [Warning] bagging_freq is set=16, subsample_freq=0 will be ignored. Current value: bagging_freq=16\n",
      "Training until validation scores don't improve for 100 rounds\n",
      "[100]\ttraining's l1: 0.904475\tvalid_1's l1: 1.24427\n",
      "[200]\ttraining's l1: 0.889594\tvalid_1's l1: 1.22061\n",
      "[300]\ttraining's l1: 0.885265\tvalid_1's l1: 1.21107\n",
      "[400]\ttraining's l1: 0.882285\tvalid_1's l1: 1.20512\n",
      "[500]\ttraining's l1: 0.878616\tvalid_1's l1: 1.19731\n",
      "[600]\ttraining's l1: 0.877878\tvalid_1's l1: 1.19611\n",
      "[700]\ttraining's l1: 0.877347\tvalid_1's l1: 1.19499\n"
     ]
    },
    {
     "name": "stderr",
     "output_type": "stream",
     "text": [
      "\u001b[32m[I 2021-07-26 13:15:06,274]\u001b[0m Trial 4 finished with value: -1.1946753618994626 and parameters: {'max_depth': 3, 'min_child_weight': 2, 'subsample': 0.8, 'colsample_bytree': 0.8, 'reg_lambda': 0.05977031271177834, 'reg_alpha': 0.0030792916102013465, 'feature_fraction': 0.9314342895821586, 'bagging_fraction': 0.4399594201849734, 'bagging_freq': 16, 'num_leaves': 497, 'min_child_samples': 63}. Best is trial 2 with value: -1.1424827321451265.\u001b[0m\n"
     ]
    },
    {
     "name": "stdout",
     "output_type": "stream",
     "text": [
      "Early stopping, best iteration is:\n",
      "[644]\ttraining's l1: 0.87749\tvalid_1's l1: 1.19484\n",
      "[LightGBM] [Warning] feature_fraction is set=0.8624194165052161, colsample_bytree=0.6 will be ignored. Current value: feature_fraction=0.8624194165052161\n",
      "[LightGBM] [Warning] bagging_fraction is set=0.6140760684753925, subsample=0.8 will be ignored. Current value: bagging_fraction=0.6140760684753925\n",
      "[LightGBM] [Warning] bagging_freq is set=14, subsample_freq=0 will be ignored. Current value: bagging_freq=14\n",
      "Training until validation scores don't improve for 100 rounds\n",
      "[100]\ttraining's l1: 0.877901\tvalid_1's l1: 1.20318\n",
      "[200]\ttraining's l1: 0.870168\tvalid_1's l1: 1.18955\n",
      "[300]\ttraining's l1: 0.864313\tvalid_1's l1: 1.17532\n",
      "[400]\ttraining's l1: 0.859415\tvalid_1's l1: 1.16715\n",
      "[500]\ttraining's l1: 0.856122\tvalid_1's l1: 1.16399\n",
      "[600]\ttraining's l1: 0.853258\tvalid_1's l1: 1.161\n",
      "[700]\ttraining's l1: 0.851996\tvalid_1's l1: 1.16052\n",
      "[800]\ttraining's l1: 0.849406\tvalid_1's l1: 1.15711\n",
      "[900]\ttraining's l1: 0.848572\tvalid_1's l1: 1.15708\n"
     ]
    },
    {
     "name": "stderr",
     "output_type": "stream",
     "text": [
      "\u001b[32m[I 2021-07-26 13:15:26,405]\u001b[0m Trial 5 finished with value: -1.1568162878667605 and parameters: {'max_depth': 5, 'min_child_weight': 12, 'subsample': 0.8, 'colsample_bytree': 0.6, 'reg_lambda': 639.9395963302115, 'reg_alpha': 0.021144368980188337, 'feature_fraction': 0.8624194165052161, 'bagging_fraction': 0.6140760684753925, 'bagging_freq': 14, 'num_leaves': 463, 'min_child_samples': 81}. Best is trial 2 with value: -1.1424827321451265.\u001b[0m\n"
     ]
    },
    {
     "name": "stdout",
     "output_type": "stream",
     "text": [
      "Early stopping, best iteration is:\n",
      "[840]\ttraining's l1: 0.848857\tvalid_1's l1: 1.15698\n",
      "[LightGBM] [Warning] feature_fraction is set=0.6149577296630009, colsample_bytree=0.7 will be ignored. Current value: feature_fraction=0.6149577296630009\n",
      "[LightGBM] [Warning] bagging_fraction is set=0.7747892884290795, subsample=0.9 will be ignored. Current value: bagging_fraction=0.7747892884290795\n",
      "[LightGBM] [Warning] bagging_freq is set=3, subsample_freq=0 will be ignored. Current value: bagging_freq=3\n",
      "Training until validation scores don't improve for 100 rounds\n",
      "[100]\ttraining's l1: 0.851122\tvalid_1's l1: 1.16785\n",
      "[200]\ttraining's l1: 0.846443\tvalid_1's l1: 1.1609\n",
      "[300]\ttraining's l1: 0.846346\tvalid_1's l1: 1.16086\n"
     ]
    },
    {
     "name": "stderr",
     "output_type": "stream",
     "text": [
      "\u001b[32m[I 2021-07-26 13:15:40,590]\u001b[0m Trial 6 finished with value: -1.1607108258297034 and parameters: {'max_depth': 7, 'min_child_weight': 8, 'subsample': 0.9, 'colsample_bytree': 0.7, 'reg_lambda': 9.506716424142603, 'reg_alpha': 0.0012837734408482314, 'feature_fraction': 0.6149577296630009, 'bagging_fraction': 0.7747892884290795, 'bagging_freq': 3, 'num_leaves': 784, 'min_child_samples': 11}. Best is trial 2 with value: -1.1424827321451265.\u001b[0m\n"
     ]
    },
    {
     "name": "stdout",
     "output_type": "stream",
     "text": [
      "Early stopping, best iteration is:\n",
      "[215]\ttraining's l1: 0.846395\tvalid_1's l1: 1.16076\n",
      "[LightGBM] [Warning] feature_fraction is set=0.2589731002096855, colsample_bytree=0.6 will be ignored. Current value: feature_fraction=0.2589731002096855\n",
      "[LightGBM] [Warning] bagging_fraction is set=0.31636251347342903, subsample=0.6 will be ignored. Current value: bagging_fraction=0.31636251347342903\n",
      "[LightGBM] [Warning] bagging_freq is set=18, subsample_freq=0 will be ignored. Current value: bagging_freq=18\n",
      "Training until validation scores don't improve for 100 rounds\n",
      "[100]\ttraining's l1: 0.84728\tvalid_1's l1: 1.16503\n",
      "[200]\ttraining's l1: 0.843826\tvalid_1's l1: 1.15991\n",
      "[300]\ttraining's l1: 0.843363\tvalid_1's l1: 1.15933\n",
      "[400]\ttraining's l1: 0.842035\tvalid_1's l1: 1.15853\n",
      "[500]\ttraining's l1: 0.839974\tvalid_1's l1: 1.15578\n",
      "[600]\ttraining's l1: 0.837382\tvalid_1's l1: 1.15426\n",
      "[700]\ttraining's l1: 0.834871\tvalid_1's l1: 1.15068\n",
      "[800]\ttraining's l1: 0.833146\tvalid_1's l1: 1.15082\n",
      "[900]\ttraining's l1: 0.83138\tvalid_1's l1: 1.15026\n",
      "Early stopping, best iteration is:\n",
      "[882]\ttraining's l1: 0.832042\tvalid_1's l1: 1.1498\n"
     ]
    },
    {
     "name": "stderr",
     "output_type": "stream",
     "text": [
      "\u001b[32m[I 2021-07-26 13:15:57,461]\u001b[0m Trial 7 finished with value: -1.1492809792554495 and parameters: {'max_depth': 8, 'min_child_weight': 14, 'subsample': 0.6, 'colsample_bytree': 0.6, 'reg_lambda': 1.730035876908797, 'reg_alpha': 0.003950203139296643, 'feature_fraction': 0.2589731002096855, 'bagging_fraction': 0.31636251347342903, 'bagging_freq': 18, 'num_leaves': 692, 'min_child_samples': 97}. Best is trial 2 with value: -1.1424827321451265.\u001b[0m\n"
     ]
    },
    {
     "name": "stdout",
     "output_type": "stream",
     "text": [
      "[LightGBM] [Warning] feature_fraction is set=0.33017717537506935, colsample_bytree=0.5 will be ignored. Current value: feature_fraction=0.33017717537506935\n",
      "[LightGBM] [Warning] bagging_fraction is set=0.4980756722016102, subsample=0.7 will be ignored. Current value: bagging_fraction=0.4980756722016102\n",
      "[LightGBM] [Warning] bagging_freq is set=12, subsample_freq=0 will be ignored. Current value: bagging_freq=12\n",
      "Training until validation scores don't improve for 100 rounds\n",
      "[100]\ttraining's l1: 0.867214\tvalid_1's l1: 1.18482\n",
      "[200]\ttraining's l1: 0.862262\tvalid_1's l1: 1.1766\n",
      "[300]\ttraining's l1: 0.86174\tvalid_1's l1: 1.17559\n",
      "[400]\ttraining's l1: 0.860407\tvalid_1's l1: 1.17256\n",
      "[500]\ttraining's l1: 0.857807\tvalid_1's l1: 1.16892\n",
      "[600]\ttraining's l1: 0.85636\tvalid_1's l1: 1.16631\n",
      "[700]\ttraining's l1: 0.85378\tvalid_1's l1: 1.16164\n",
      "[800]\ttraining's l1: 0.852377\tvalid_1's l1: 1.15913\n",
      "[900]\ttraining's l1: 0.851289\tvalid_1's l1: 1.1575\n",
      "[1000]\ttraining's l1: 0.848922\tvalid_1's l1: 1.15377\n",
      "[1100]\ttraining's l1: 0.846317\tvalid_1's l1: 1.15115\n",
      "[1200]\ttraining's l1: 0.845297\tvalid_1's l1: 1.14962\n",
      "[1300]\ttraining's l1: 0.843998\tvalid_1's l1: 1.14799\n",
      "[1400]\ttraining's l1: 0.842753\tvalid_1's l1: 1.14786\n",
      "Early stopping, best iteration is:\n",
      "[1344]\ttraining's l1: 0.843463\tvalid_1's l1: 1.14771\n"
     ]
    },
    {
     "name": "stderr",
     "output_type": "stream",
     "text": [
      "\u001b[32m[I 2021-07-26 13:16:25,595]\u001b[0m Trial 8 finished with value: -1.147499559436382 and parameters: {'max_depth': 6, 'min_child_weight': 8, 'subsample': 0.7, 'colsample_bytree': 0.5, 'reg_lambda': 191.5720572791246, 'reg_alpha': 0.0014218073710005467, 'feature_fraction': 0.33017717537506935, 'bagging_fraction': 0.4980756722016102, 'bagging_freq': 12, 'num_leaves': 440, 'min_child_samples': 84}. Best is trial 2 with value: -1.1424827321451265.\u001b[0m\n"
     ]
    },
    {
     "name": "stdout",
     "output_type": "stream",
     "text": [
      "[LightGBM] [Warning] feature_fraction is set=0.4128480019962421, colsample_bytree=0.5 will be ignored. Current value: feature_fraction=0.4128480019962421\n",
      "[LightGBM] [Warning] bagging_fraction is set=0.3021533022830012, subsample=0.9 will be ignored. Current value: bagging_fraction=0.3021533022830012\n",
      "[LightGBM] [Warning] bagging_freq is set=11, subsample_freq=0 will be ignored. Current value: bagging_freq=11\n",
      "Training until validation scores don't improve for 100 rounds\n",
      "[100]\ttraining's l1: 0.87893\tvalid_1's l1: 1.1944\n",
      "[200]\ttraining's l1: 0.874266\tvalid_1's l1: 1.18302\n",
      "[300]\ttraining's l1: 0.871051\tvalid_1's l1: 1.17566\n",
      "[400]\ttraining's l1: 0.869008\tvalid_1's l1: 1.17181\n",
      "[500]\ttraining's l1: 0.86627\tvalid_1's l1: 1.16766\n",
      "[600]\ttraining's l1: 0.865392\tvalid_1's l1: 1.16623\n",
      "Early stopping, best iteration is:\n",
      "[580]\ttraining's l1: 0.865522\tvalid_1's l1: 1.16597\n"
     ]
    },
    {
     "name": "stderr",
     "output_type": "stream",
     "text": [
      "\u001b[32m[I 2021-07-26 13:16:39,069]\u001b[0m Trial 9 finished with value: -1.165604366217362 and parameters: {'max_depth': 12, 'min_child_weight': 3, 'subsample': 0.9, 'colsample_bytree': 0.5, 'reg_lambda': 0.0028696265735430448, 'reg_alpha': 384.29835785216864, 'feature_fraction': 0.4128480019962421, 'bagging_fraction': 0.3021533022830012, 'bagging_freq': 11, 'num_leaves': 428, 'min_child_samples': 61}. Best is trial 2 with value: -1.1424827321451265.\u001b[0m\n"
     ]
    },
    {
     "name": "stdout",
     "output_type": "stream",
     "text": [
      "[LightGBM] [Warning] feature_fraction is set=0.7595998965816705, colsample_bytree=0.8 will be ignored. Current value: feature_fraction=0.7595998965816705\n",
      "[LightGBM] [Warning] bagging_fraction is set=0.9630266424631195, subsample=0.5 will be ignored. Current value: bagging_fraction=0.9630266424631195\n",
      "[LightGBM] [Warning] bagging_freq is set=1, subsample_freq=0 will be ignored. Current value: bagging_freq=1\n",
      "Training until validation scores don't improve for 100 rounds\n",
      "[100]\ttraining's l1: 0.871061\tvalid_1's l1: 1.19262\n",
      "[200]\ttraining's l1: 0.870149\tvalid_1's l1: 1.19037\n",
      "[300]\ttraining's l1: 0.867766\tvalid_1's l1: 1.1855\n",
      "[400]\ttraining's l1: 0.862788\tvalid_1's l1: 1.17901\n",
      "[500]\ttraining's l1: 0.860617\tvalid_1's l1: 1.17517\n",
      "[600]\ttraining's l1: 0.854677\tvalid_1's l1: 1.16606\n",
      "[700]\ttraining's l1: 0.851981\tvalid_1's l1: 1.16332\n",
      "[800]\ttraining's l1: 0.848676\tvalid_1's l1: 1.15706\n",
      "[900]\ttraining's l1: 0.847231\tvalid_1's l1: 1.15598\n",
      "[1000]\ttraining's l1: 0.845484\tvalid_1's l1: 1.15369\n",
      "[1100]\ttraining's l1: 0.840791\tvalid_1's l1: 1.14889\n",
      "[1200]\ttraining's l1: 0.838309\tvalid_1's l1: 1.14738\n",
      "[1300]\ttraining's l1: 0.834999\tvalid_1's l1: 1.14601\n",
      "[1400]\ttraining's l1: 0.828222\tvalid_1's l1: 1.1431\n",
      "[1500]\ttraining's l1: 0.822975\tvalid_1's l1: 1.13995\n",
      "[1600]\ttraining's l1: 0.820869\tvalid_1's l1: 1.1388\n",
      "Early stopping, best iteration is:\n",
      "[1555]\ttraining's l1: 0.82149\tvalid_1's l1: 1.13864\n"
     ]
    },
    {
     "name": "stderr",
     "output_type": "stream",
     "text": [
      "\u001b[32m[I 2021-07-26 13:17:32,928]\u001b[0m Trial 10 finished with value: -1.13831179461111 and parameters: {'max_depth': 20, 'min_child_weight': 1, 'subsample': 0.5, 'colsample_bytree': 0.8, 'reg_lambda': 0.0779373567469799, 'reg_alpha': 0.14572089359652077, 'feature_fraction': 0.7595998965816705, 'bagging_fraction': 0.9630266424631195, 'bagging_freq': 1, 'num_leaves': 73, 'min_child_samples': 26}. Best is trial 10 with value: -1.13831179461111.\u001b[0m\n"
     ]
    },
    {
     "name": "stdout",
     "output_type": "stream",
     "text": [
      "[LightGBM] [Warning] feature_fraction is set=0.7426076908401809, colsample_bytree=0.8 will be ignored. Current value: feature_fraction=0.7426076908401809\n",
      "[LightGBM] [Warning] bagging_fraction is set=0.9124491335575724, subsample=0.5 will be ignored. Current value: bagging_fraction=0.9124491335575724\n",
      "[LightGBM] [Warning] bagging_freq is set=1, subsample_freq=0 will be ignored. Current value: bagging_freq=1\n",
      "Training until validation scores don't improve for 100 rounds\n",
      "[100]\ttraining's l1: 0.89858\tvalid_1's l1: 1.23488\n",
      "[200]\ttraining's l1: 0.896755\tvalid_1's l1: 1.23155\n",
      "[300]\ttraining's l1: 0.896337\tvalid_1's l1: 1.23087\n",
      "[400]\ttraining's l1: 0.893806\tvalid_1's l1: 1.22621\n",
      "[500]\ttraining's l1: 0.891112\tvalid_1's l1: 1.22082\n",
      "[600]\ttraining's l1: 0.888504\tvalid_1's l1: 1.21547\n",
      "[700]\ttraining's l1: 0.886923\tvalid_1's l1: 1.21291\n",
      "[800]\ttraining's l1: 0.884524\tvalid_1's l1: 1.20653\n",
      "[900]\ttraining's l1: 0.88252\tvalid_1's l1: 1.20258\n",
      "[1000]\ttraining's l1: 0.877544\tvalid_1's l1: 1.19281\n",
      "[1100]\ttraining's l1: 0.876578\tvalid_1's l1: 1.19074\n",
      "[1200]\ttraining's l1: 0.875858\tvalid_1's l1: 1.18906\n",
      "[1300]\ttraining's l1: 0.873356\tvalid_1's l1: 1.18514\n",
      "[1400]\ttraining's l1: 0.871025\tvalid_1's l1: 1.18133\n",
      "[1500]\ttraining's l1: 0.868377\tvalid_1's l1: 1.17846\n",
      "[1600]\ttraining's l1: 0.866213\tvalid_1's l1: 1.17526\n",
      "[1700]\ttraining's l1: 0.863396\tvalid_1's l1: 1.1714\n",
      "[1800]\ttraining's l1: 0.860819\tvalid_1's l1: 1.16825\n",
      "[1900]\ttraining's l1: 0.858361\tvalid_1's l1: 1.16471\n",
      "[2000]\ttraining's l1: 0.857392\tvalid_1's l1: 1.16359\n",
      "[2100]\ttraining's l1: 0.856211\tvalid_1's l1: 1.16189\n",
      "[2200]\ttraining's l1: 0.854646\tvalid_1's l1: 1.15941\n",
      "[2300]\ttraining's l1: 0.85256\tvalid_1's l1: 1.15702\n",
      "[2400]\ttraining's l1: 0.851473\tvalid_1's l1: 1.15587\n",
      "[2500]\ttraining's l1: 0.85098\tvalid_1's l1: 1.1557\n",
      "[2600]\ttraining's l1: 0.84838\tvalid_1's l1: 1.15338\n",
      "[2700]\ttraining's l1: 0.84801\tvalid_1's l1: 1.15321\n",
      "[2800]\ttraining's l1: 0.847767\tvalid_1's l1: 1.15306\n",
      "[2900]\ttraining's l1: 0.847351\tvalid_1's l1: 1.15287\n",
      "Early stopping, best iteration is:\n",
      "[2811]\ttraining's l1: 0.847508\tvalid_1's l1: 1.15278\n"
     ]
    },
    {
     "name": "stderr",
     "output_type": "stream",
     "text": [
      "\u001b[32m[I 2021-07-26 13:18:46,623]\u001b[0m Trial 11 finished with value: -1.1525178768729607 and parameters: {'max_depth': 20, 'min_child_weight': 1, 'subsample': 0.5, 'colsample_bytree': 0.8, 'reg_lambda': 0.10104415899219517, 'reg_alpha': 0.08427578236850011, 'feature_fraction': 0.7426076908401809, 'bagging_fraction': 0.9124491335575724, 'bagging_freq': 1, 'num_leaves': 17, 'min_child_samples': 25}. Best is trial 10 with value: -1.13831179461111.\u001b[0m\n"
     ]
    },
    {
     "name": "stdout",
     "output_type": "stream",
     "text": [
      "[LightGBM] [Warning] feature_fraction is set=0.7423001331497512, colsample_bytree=0.8 will be ignored. Current value: feature_fraction=0.7423001331497512\n",
      "[LightGBM] [Warning] bagging_fraction is set=0.996701177757767, subsample=0.5 will be ignored. Current value: bagging_fraction=0.996701177757767\n",
      "[LightGBM] [Warning] bagging_freq is set=1, subsample_freq=0 will be ignored. Current value: bagging_freq=1\n",
      "Training until validation scores don't improve for 100 rounds\n",
      "[100]\ttraining's l1: 0.854078\tvalid_1's l1: 1.17076\n",
      "[200]\ttraining's l1: 0.85171\tvalid_1's l1: 1.16779\n",
      "[300]\ttraining's l1: 0.850265\tvalid_1's l1: 1.16508\n",
      "[400]\ttraining's l1: 0.844604\tvalid_1's l1: 1.15639\n",
      "[500]\ttraining's l1: 0.842488\tvalid_1's l1: 1.15439\n",
      "[600]\ttraining's l1: 0.835751\tvalid_1's l1: 1.14782\n",
      "[700]\ttraining's l1: 0.830331\tvalid_1's l1: 1.14543\n",
      "[800]\ttraining's l1: 0.823081\tvalid_1's l1: 1.142\n",
      "[900]\ttraining's l1: 0.817817\tvalid_1's l1: 1.14132\n",
      "[1000]\ttraining's l1: 0.811348\tvalid_1's l1: 1.14027\n",
      "Early stopping, best iteration is:\n",
      "[992]\ttraining's l1: 0.81147\tvalid_1's l1: 1.13998\n"
     ]
    },
    {
     "name": "stderr",
     "output_type": "stream",
     "text": [
      "\u001b[32m[I 2021-07-26 13:19:33,324]\u001b[0m Trial 12 finished with value: -1.1396311022668328 and parameters: {'max_depth': 20, 'min_child_weight': 5, 'subsample': 0.5, 'colsample_bytree': 0.8, 'reg_lambda': 0.074798816430361, 'reg_alpha': 0.30043020526263653, 'feature_fraction': 0.7423001331497512, 'bagging_fraction': 0.996701177757767, 'bagging_freq': 1, 'num_leaves': 198, 'min_child_samples': 34}. Best is trial 10 with value: -1.13831179461111.\u001b[0m\n"
     ]
    },
    {
     "name": "stdout",
     "output_type": "stream",
     "text": [
      "[LightGBM] [Warning] feature_fraction is set=0.7994586809712323, colsample_bytree=0.8 will be ignored. Current value: feature_fraction=0.7994586809712323\n",
      "[LightGBM] [Warning] bagging_fraction is set=0.9995329640011934, subsample=0.5 will be ignored. Current value: bagging_fraction=0.9995329640011934\n",
      "[LightGBM] [Warning] bagging_freq is set=1, subsample_freq=0 will be ignored. Current value: bagging_freq=1\n",
      "Training until validation scores don't improve for 100 rounds\n",
      "[100]\ttraining's l1: 0.864166\tvalid_1's l1: 1.18261\n",
      "[200]\ttraining's l1: 0.862454\tvalid_1's l1: 1.17818\n",
      "[300]\ttraining's l1: 0.859316\tvalid_1's l1: 1.1727\n",
      "[400]\ttraining's l1: 0.856714\tvalid_1's l1: 1.1683\n",
      "[500]\ttraining's l1: 0.851648\tvalid_1's l1: 1.16179\n",
      "[600]\ttraining's l1: 0.845835\tvalid_1's l1: 1.15385\n",
      "[700]\ttraining's l1: 0.842721\tvalid_1's l1: 1.15098\n",
      "[800]\ttraining's l1: 0.836578\tvalid_1's l1: 1.14812\n",
      "[900]\ttraining's l1: 0.833182\tvalid_1's l1: 1.14545\n",
      "[1000]\ttraining's l1: 0.826681\tvalid_1's l1: 1.14336\n",
      "[1100]\ttraining's l1: 0.815358\tvalid_1's l1: 1.13921\n",
      "Early stopping, best iteration is:\n",
      "[1084]\ttraining's l1: 0.817511\tvalid_1's l1: 1.13889\n"
     ]
    },
    {
     "name": "stderr",
     "output_type": "stream",
     "text": [
      "\u001b[32m[I 2021-07-26 13:20:19,454]\u001b[0m Trial 13 finished with value: -1.1385672675492293 and parameters: {'max_depth': 15, 'min_child_weight': 5, 'subsample': 0.5, 'colsample_bytree': 0.8, 'reg_lambda': 0.057406972571792204, 'reg_alpha': 0.5322920468566916, 'feature_fraction': 0.7994586809712323, 'bagging_fraction': 0.9995329640011934, 'bagging_freq': 1, 'num_leaves': 122, 'min_child_samples': 39}. Best is trial 10 with value: -1.13831179461111.\u001b[0m\n"
     ]
    },
    {
     "name": "stdout",
     "output_type": "stream",
     "text": [
      "[LightGBM] [Warning] feature_fraction is set=0.7943941324944128, colsample_bytree=0.8 will be ignored. Current value: feature_fraction=0.7943941324944128\n",
      "[LightGBM] [Warning] bagging_fraction is set=0.9929549822178492, subsample=0.5 will be ignored. Current value: bagging_fraction=0.9929549822178492\n",
      "[LightGBM] [Warning] bagging_freq is set=1, subsample_freq=0 will be ignored. Current value: bagging_freq=1\n",
      "Training until validation scores don't improve for 100 rounds\n",
      "[100]\ttraining's l1: 0.802923\tvalid_1's l1: 1.14605\n",
      "[200]\ttraining's l1: 0.789055\tvalid_1's l1: 1.14299\n",
      "[300]\ttraining's l1: 0.780309\tvalid_1's l1: 1.14247\n",
      "[400]\ttraining's l1: 0.775655\tvalid_1's l1: 1.14289\n",
      "Early stopping, best iteration is:\n",
      "[306]\ttraining's l1: 0.780023\tvalid_1's l1: 1.14227\n"
     ]
    },
    {
     "name": "stderr",
     "output_type": "stream",
     "text": [
      "\u001b[32m[I 2021-07-26 13:20:54,034]\u001b[0m Trial 14 finished with value: -1.141961943939544 and parameters: {'max_depth': 15, 'min_child_weight': 1, 'subsample': 0.5, 'colsample_bytree': 0.8, 'reg_lambda': 0.02281984945233923, 'reg_alpha': 1.5058432674035762, 'feature_fraction': 0.7943941324944128, 'bagging_fraction': 0.9929549822178492, 'bagging_freq': 1, 'num_leaves': 988, 'min_child_samples': 5}. Best is trial 10 with value: -1.13831179461111.\u001b[0m\n"
     ]
    },
    {
     "name": "stdout",
     "output_type": "stream",
     "text": [
      "[LightGBM] [Warning] feature_fraction is set=0.4644313572287594, colsample_bytree=0.9 will be ignored. Current value: feature_fraction=0.4644313572287594\n",
      "[LightGBM] [Warning] bagging_fraction is set=0.785011433159176, subsample=0.6 will be ignored. Current value: bagging_fraction=0.785011433159176\n",
      "[LightGBM] [Warning] bagging_freq is set=8, subsample_freq=0 will be ignored. Current value: bagging_freq=8\n",
      "Training until validation scores don't improve for 100 rounds\n",
      "[100]\ttraining's l1: 0.849124\tvalid_1's l1: 1.16453\n",
      "[200]\ttraining's l1: 0.844019\tvalid_1's l1: 1.15887\n",
      "[300]\ttraining's l1: 0.83971\tvalid_1's l1: 1.15263\n",
      "[400]\ttraining's l1: 0.833622\tvalid_1's l1: 1.14689\n",
      "[500]\ttraining's l1: 0.829\tvalid_1's l1: 1.14533\n",
      "[600]\ttraining's l1: 0.823602\tvalid_1's l1: 1.14309\n",
      "[700]\ttraining's l1: 0.818295\tvalid_1's l1: 1.14206\n",
      "[800]\ttraining's l1: 0.813912\tvalid_1's l1: 1.14049\n",
      "[900]\ttraining's l1: 0.80695\tvalid_1's l1: 1.14065\n",
      "Early stopping, best iteration is:\n",
      "[845]\ttraining's l1: 0.81165\tvalid_1's l1: 1.13968\n"
     ]
    },
    {
     "name": "stderr",
     "output_type": "stream",
     "text": [
      "\u001b[32m[I 2021-07-26 13:21:37,498]\u001b[0m Trial 15 finished with value: -1.1391819956153468 and parameters: {'max_depth': 15, 'min_child_weight': 5, 'subsample': 0.6, 'colsample_bytree': 0.9, 'reg_lambda': 0.5514264925613453, 'reg_alpha': 2.4051611043995065, 'feature_fraction': 0.4644313572287594, 'bagging_fraction': 0.785011433159176, 'bagging_freq': 8, 'num_leaves': 250, 'min_child_samples': 41}. Best is trial 10 with value: -1.13831179461111.\u001b[0m\n"
     ]
    },
    {
     "name": "stdout",
     "output_type": "stream",
     "text": [
      "[LightGBM] [Warning] feature_fraction is set=0.8331133469214131, colsample_bytree=0.8 will be ignored. Current value: feature_fraction=0.8331133469214131\n",
      "[LightGBM] [Warning] bagging_fraction is set=0.869973827646791, subsample=0.5 will be ignored. Current value: bagging_fraction=0.869973827646791\n",
      "[LightGBM] [Warning] bagging_freq is set=4, subsample_freq=0 will be ignored. Current value: bagging_freq=4\n",
      "Training until validation scores don't improve for 100 rounds\n",
      "[100]\ttraining's l1: 0.901582\tvalid_1's l1: 1.24072\n",
      "[200]\ttraining's l1: 0.901335\tvalid_1's l1: 1.24002\n",
      "[300]\ttraining's l1: 0.900758\tvalid_1's l1: 1.23884\n",
      "[400]\ttraining's l1: 0.899512\tvalid_1's l1: 1.23686\n",
      "[500]\ttraining's l1: 0.896173\tvalid_1's l1: 1.22978\n",
      "[600]\ttraining's l1: 0.895737\tvalid_1's l1: 1.22958\n"
     ]
    },
    {
     "name": "stderr",
     "output_type": "stream",
     "text": [
      "\u001b[32m[I 2021-07-26 13:21:56,277]\u001b[0m Trial 16 finished with value: -1.2295714829691686 and parameters: {'max_depth': 16, 'min_child_weight': 5, 'subsample': 0.5, 'colsample_bytree': 0.8, 'reg_lambda': 0.011067858869650917, 'reg_alpha': 0.1560372424399469, 'feature_fraction': 0.8331133469214131, 'bagging_fraction': 0.869973827646791, 'bagging_freq': 4, 'num_leaves': 13, 'min_child_samples': 18}. Best is trial 10 with value: -1.13831179461111.\u001b[0m\n"
     ]
    },
    {
     "name": "stdout",
     "output_type": "stream",
     "text": [
      "Early stopping, best iteration is:\n",
      "[552]\ttraining's l1: 0.895739\tvalid_1's l1: 1.22958\n",
      "[LightGBM] [Warning] feature_fraction is set=0.6903016004626719, colsample_bytree=0.9 will be ignored. Current value: feature_fraction=0.6903016004626719\n",
      "[LightGBM] [Warning] bagging_fraction is set=0.9989998088277118, subsample=0.6 will be ignored. Current value: bagging_fraction=0.9989998088277118\n",
      "[LightGBM] [Warning] bagging_freq is set=9, subsample_freq=0 will be ignored. Current value: bagging_freq=9\n",
      "Training until validation scores don't improve for 100 rounds\n",
      "[100]\ttraining's l1: 0.838677\tvalid_1's l1: 1.15579\n",
      "[200]\ttraining's l1: 0.834933\tvalid_1's l1: 1.15075\n",
      "[300]\ttraining's l1: 0.831849\tvalid_1's l1: 1.14935\n",
      "[400]\ttraining's l1: 0.831223\tvalid_1's l1: 1.14886\n",
      "[500]\ttraining's l1: 0.82972\tvalid_1's l1: 1.14659\n",
      "[600]\ttraining's l1: 0.820795\tvalid_1's l1: 1.14262\n",
      "[700]\ttraining's l1: 0.816017\tvalid_1's l1: 1.14173\n",
      "Early stopping, best iteration is:\n",
      "[618]\ttraining's l1: 0.818565\tvalid_1's l1: 1.14123\n"
     ]
    },
    {
     "name": "stderr",
     "output_type": "stream",
     "text": [
      "\u001b[32m[I 2021-07-26 13:22:31,076]\u001b[0m Trial 17 finished with value: -1.1409686413270446 and parameters: {'max_depth': 12, 'min_child_weight': 10, 'subsample': 0.6, 'colsample_bytree': 0.9, 'reg_lambda': 0.6940145640878181, 'reg_alpha': 0.02534195022268959, 'feature_fraction': 0.6903016004626719, 'bagging_fraction': 0.9989998088277118, 'bagging_freq': 9, 'num_leaves': 315, 'min_child_samples': 44}. Best is trial 10 with value: -1.13831179461111.\u001b[0m\n"
     ]
    },
    {
     "name": "stdout",
     "output_type": "stream",
     "text": [
      "[LightGBM] [Warning] feature_fraction is set=0.49153581119209555, colsample_bytree=0.6 will be ignored. Current value: feature_fraction=0.49153581119209555\n",
      "[LightGBM] [Warning] bagging_fraction is set=0.7546914530542803, subsample=0.5 will be ignored. Current value: bagging_fraction=0.7546914530542803\n",
      "[LightGBM] [Warning] bagging_freq is set=3, subsample_freq=0 will be ignored. Current value: bagging_freq=3\n",
      "Training until validation scores don't improve for 100 rounds\n",
      "[100]\ttraining's l1: 0.868291\tvalid_1's l1: 1.18772\n",
      "[200]\ttraining's l1: 0.867047\tvalid_1's l1: 1.18491\n",
      "[300]\ttraining's l1: 0.864863\tvalid_1's l1: 1.18009\n",
      "[400]\ttraining's l1: 0.860877\tvalid_1's l1: 1.1718\n",
      "[500]\ttraining's l1: 0.855032\tvalid_1's l1: 1.1617\n",
      "[600]\ttraining's l1: 0.851057\tvalid_1's l1: 1.15821\n",
      "[700]\ttraining's l1: 0.846607\tvalid_1's l1: 1.15362\n",
      "[800]\ttraining's l1: 0.841566\tvalid_1's l1: 1.15035\n",
      "[900]\ttraining's l1: 0.838252\tvalid_1's l1: 1.14875\n",
      "[1000]\ttraining's l1: 0.835554\tvalid_1's l1: 1.14689\n",
      "[1100]\ttraining's l1: 0.832643\tvalid_1's l1: 1.14581\n",
      "[1200]\ttraining's l1: 0.830496\tvalid_1's l1: 1.14488\n",
      "[1300]\ttraining's l1: 0.827225\tvalid_1's l1: 1.14402\n",
      "[1400]\ttraining's l1: 0.825293\tvalid_1's l1: 1.14342\n",
      "[1500]\ttraining's l1: 0.822886\tvalid_1's l1: 1.14268\n",
      "[1600]\ttraining's l1: 0.816863\tvalid_1's l1: 1.14117\n",
      "[1700]\ttraining's l1: 0.81384\tvalid_1's l1: 1.14101\n",
      "[1800]\ttraining's l1: 0.811687\tvalid_1's l1: 1.14056\n",
      "[1900]\ttraining's l1: 0.809348\tvalid_1's l1: 1.14062\n",
      "[2000]\ttraining's l1: 0.8061\tvalid_1's l1: 1.13999\n",
      "[2100]\ttraining's l1: 0.802814\tvalid_1's l1: 1.13967\n",
      "[2200]\ttraining's l1: 0.798188\tvalid_1's l1: 1.13942\n",
      "Early stopping, best iteration is:\n",
      "[2140]\ttraining's l1: 0.800355\tvalid_1's l1: 1.13905\n"
     ]
    },
    {
     "name": "stderr",
     "output_type": "stream",
     "text": [
      "\u001b[32m[I 2021-07-26 13:23:55,213]\u001b[0m Trial 18 finished with value: -1.1383602997318942 and parameters: {'max_depth': 18, 'min_child_weight': 4, 'subsample': 0.5, 'colsample_bytree': 0.6, 'reg_lambda': 0.3887351945032342, 'reg_alpha': 0.5341581667179639, 'feature_fraction': 0.49153581119209555, 'bagging_fraction': 0.7546914530542803, 'bagging_freq': 3, 'num_leaves': 92, 'min_child_samples': 18}. Best is trial 10 with value: -1.13831179461111.\u001b[0m\n"
     ]
    },
    {
     "name": "stdout",
     "output_type": "stream",
     "text": [
      "[LightGBM] [Warning] feature_fraction is set=0.5185729941514027, colsample_bytree=0.6 will be ignored. Current value: feature_fraction=0.5185729941514027\n",
      "[LightGBM] [Warning] bagging_fraction is set=0.723946079570139, subsample=0.6 will be ignored. Current value: bagging_fraction=0.723946079570139\n",
      "[LightGBM] [Warning] bagging_freq is set=3, subsample_freq=0 will be ignored. Current value: bagging_freq=3\n",
      "Training until validation scores don't improve for 100 rounds\n",
      "[100]\ttraining's l1: 0.842019\tvalid_1's l1: 1.15532\n",
      "[200]\ttraining's l1: 0.837273\tvalid_1's l1: 1.14937\n",
      "[300]\ttraining's l1: 0.834632\tvalid_1's l1: 1.14755\n",
      "[400]\ttraining's l1: 0.830555\tvalid_1's l1: 1.14727\n",
      "[500]\ttraining's l1: 0.826336\tvalid_1's l1: 1.14506\n",
      "[600]\ttraining's l1: 0.822459\tvalid_1's l1: 1.14529\n",
      "Early stopping, best iteration is:\n",
      "[551]\ttraining's l1: 0.824174\tvalid_1's l1: 1.14488\n"
     ]
    },
    {
     "name": "stderr",
     "output_type": "stream",
     "text": [
      "\u001b[32m[I 2021-07-26 13:24:31,454]\u001b[0m Trial 19 finished with value: -1.144630877025215 and parameters: {'max_depth': 19, 'min_child_weight': 15, 'subsample': 0.6, 'colsample_bytree': 0.6, 'reg_lambda': 2.5909963370001354, 'reg_alpha': 6.562985740403058, 'feature_fraction': 0.5185729941514027, 'bagging_fraction': 0.723946079570139, 'bagging_freq': 3, 'num_leaves': 332, 'min_child_samples': 16}. Best is trial 10 with value: -1.13831179461111.\u001b[0m\n"
     ]
    },
    {
     "name": "stdout",
     "output_type": "stream",
     "text": [
      "[LightGBM] [Warning] feature_fraction is set=0.5317154840135572, colsample_bytree=0.6 will be ignored. Current value: feature_fraction=0.5317154840135572\n",
      "[LightGBM] [Warning] bagging_fraction is set=0.8189688740237087, subsample=0.5 will be ignored. Current value: bagging_fraction=0.8189688740237087\n",
      "[LightGBM] [Warning] bagging_freq is set=3, subsample_freq=0 will be ignored. Current value: bagging_freq=3\n",
      "Training until validation scores don't improve for 100 rounds\n",
      "[100]\ttraining's l1: 0.868668\tvalid_1's l1: 1.18971\n",
      "[200]\ttraining's l1: 0.867178\tvalid_1's l1: 1.1864\n",
      "[300]\ttraining's l1: 0.86432\tvalid_1's l1: 1.17982\n",
      "[400]\ttraining's l1: 0.861473\tvalid_1's l1: 1.173\n",
      "[500]\ttraining's l1: 0.854998\tvalid_1's l1: 1.16291\n",
      "[600]\ttraining's l1: 0.851485\tvalid_1's l1: 1.15768\n",
      "[700]\ttraining's l1: 0.847368\tvalid_1's l1: 1.15309\n",
      "[800]\ttraining's l1: 0.843353\tvalid_1's l1: 1.14923\n",
      "[900]\ttraining's l1: 0.840773\tvalid_1's l1: 1.14759\n",
      "[1000]\ttraining's l1: 0.83604\tvalid_1's l1: 1.14436\n",
      "[1100]\ttraining's l1: 0.832843\tvalid_1's l1: 1.14408\n",
      "[1200]\ttraining's l1: 0.830143\tvalid_1's l1: 1.14339\n",
      "[1300]\ttraining's l1: 0.828838\tvalid_1's l1: 1.14292\n",
      "[1400]\ttraining's l1: 0.82775\tvalid_1's l1: 1.14191\n",
      "Early stopping, best iteration is:\n",
      "[1388]\ttraining's l1: 0.827944\tvalid_1's l1: 1.14185\n"
     ]
    },
    {
     "name": "stderr",
     "output_type": "stream",
     "text": [
      "\u001b[32m[I 2021-07-26 13:25:33,231]\u001b[0m Trial 20 finished with value: -1.141484411336533 and parameters: {'max_depth': 17, 'min_child_weight': 1, 'subsample': 0.5, 'colsample_bytree': 0.6, 'reg_lambda': 0.2676790132790489, 'reg_alpha': 0.05640789273745586, 'feature_fraction': 0.5317154840135572, 'bagging_fraction': 0.8189688740237087, 'bagging_freq': 3, 'num_leaves': 88, 'min_child_samples': 23}. Best is trial 10 with value: -1.13831179461111.\u001b[0m\n"
     ]
    },
    {
     "name": "stdout",
     "output_type": "stream",
     "text": [
      "[LightGBM] [Warning] feature_fraction is set=0.8949839240092232, colsample_bytree=0.7 will be ignored. Current value: feature_fraction=0.8949839240092232\n",
      "[LightGBM] [Warning] bagging_fraction is set=0.9401764876126647, subsample=0.5 will be ignored. Current value: bagging_fraction=0.9401764876126647\n",
      "[LightGBM] [Warning] bagging_freq is set=1, subsample_freq=0 will be ignored. Current value: bagging_freq=1\n",
      "Training until validation scores don't improve for 100 rounds\n",
      "[100]\ttraining's l1: 0.862593\tvalid_1's l1: 1.1808\n",
      "[200]\ttraining's l1: 0.861743\tvalid_1's l1: 1.17967\n",
      "[300]\ttraining's l1: 0.859579\tvalid_1's l1: 1.17545\n",
      "[400]\ttraining's l1: 0.858131\tvalid_1's l1: 1.17273\n",
      "[500]\ttraining's l1: 0.853465\tvalid_1's l1: 1.16411\n",
      "[600]\ttraining's l1: 0.848748\tvalid_1's l1: 1.15755\n",
      "[700]\ttraining's l1: 0.843979\tvalid_1's l1: 1.15378\n",
      "[800]\ttraining's l1: 0.839143\tvalid_1's l1: 1.1513\n",
      "[900]\ttraining's l1: 0.834112\tvalid_1's l1: 1.14752\n",
      "[1000]\ttraining's l1: 0.831686\tvalid_1's l1: 1.14581\n",
      "[1100]\ttraining's l1: 0.830352\tvalid_1's l1: 1.14581\n",
      "Early stopping, best iteration is:\n",
      "[1041]\ttraining's l1: 0.830848\tvalid_1's l1: 1.1456\n"
     ]
    },
    {
     "name": "stderr",
     "output_type": "stream",
     "text": [
      "\u001b[32m[I 2021-07-26 13:26:15,901]\u001b[0m Trial 21 finished with value: -1.1453764816596406 and parameters: {'max_depth': 14, 'min_child_weight': 4, 'subsample': 0.5, 'colsample_bytree': 0.7, 'reg_lambda': 0.17485780180704116, 'reg_alpha': 0.47932976620980755, 'feature_fraction': 0.8949839240092232, 'bagging_fraction': 0.9401764876126647, 'bagging_freq': 1, 'num_leaves': 124, 'min_child_samples': 39}. Best is trial 10 with value: -1.13831179461111.\u001b[0m\n"
     ]
    },
    {
     "name": "stdout",
     "output_type": "stream",
     "text": [
      "[LightGBM] [Warning] feature_fraction is set=0.714186745609904, colsample_bytree=0.8 will be ignored. Current value: feature_fraction=0.714186745609904\n",
      "[LightGBM] [Warning] bagging_fraction is set=0.6900915952428022, subsample=0.5 will be ignored. Current value: bagging_fraction=0.6900915952428022\n",
      "[LightGBM] [Warning] bagging_freq is set=1, subsample_freq=0 will be ignored. Current value: bagging_freq=1\n",
      "Training until validation scores don't improve for 100 rounds\n",
      "[100]\ttraining's l1: 0.897846\tvalid_1's l1: 1.23334\n",
      "[200]\ttraining's l1: 0.897691\tvalid_1's l1: 1.2333\n"
     ]
    },
    {
     "name": "stderr",
     "output_type": "stream",
     "text": [
      "\u001b[32m[I 2021-07-26 13:26:21,524]\u001b[0m Trial 22 finished with value: -1.2332815911921295 and parameters: {'max_depth': 18, 'min_child_weight': 10, 'subsample': 0.5, 'colsample_bytree': 0.8, 'reg_lambda': 0.015314177807158172, 'reg_alpha': 0.8945244725697932, 'feature_fraction': 0.714186745609904, 'bagging_fraction': 0.6900915952428022, 'bagging_freq': 1, 'num_leaves': 14, 'min_child_samples': 8}. Best is trial 10 with value: -1.13831179461111.\u001b[0m\n"
     ]
    },
    {
     "name": "stdout",
     "output_type": "stream",
     "text": [
      "Early stopping, best iteration is:\n",
      "[111]\ttraining's l1: 0.897733\tvalid_1's l1: 1.23328\n",
      "[LightGBM] [Warning] feature_fraction is set=0.7966827076908662, colsample_bytree=0.7 will be ignored. Current value: feature_fraction=0.7966827076908662\n",
      "[LightGBM] [Warning] bagging_fraction is set=0.9521520213121727, subsample=0.6 will be ignored. Current value: bagging_fraction=0.9521520213121727\n",
      "[LightGBM] [Warning] bagging_freq is set=5, subsample_freq=0 will be ignored. Current value: bagging_freq=5\n",
      "Training until validation scores don't improve for 100 rounds\n",
      "[100]\ttraining's l1: 0.858086\tvalid_1's l1: 1.1737\n",
      "[200]\ttraining's l1: 0.855568\tvalid_1's l1: 1.16957\n",
      "[300]\ttraining's l1: 0.853713\tvalid_1's l1: 1.16663\n",
      "[400]\ttraining's l1: 0.850478\tvalid_1's l1: 1.16247\n",
      "[500]\ttraining's l1: 0.847487\tvalid_1's l1: 1.1587\n",
      "[600]\ttraining's l1: 0.841964\tvalid_1's l1: 1.15347\n",
      "[700]\ttraining's l1: 0.838736\tvalid_1's l1: 1.14924\n",
      "[800]\ttraining's l1: 0.836334\tvalid_1's l1: 1.1471\n",
      "[900]\ttraining's l1: 0.832759\tvalid_1's l1: 1.14607\n",
      "[1000]\ttraining's l1: 0.829086\tvalid_1's l1: 1.14553\n",
      "Early stopping, best iteration is:\n",
      "[956]\ttraining's l1: 0.829727\tvalid_1's l1: 1.14537\n"
     ]
    },
    {
     "name": "stderr",
     "output_type": "stream",
     "text": [
      "\u001b[32m[I 2021-07-26 13:27:05,795]\u001b[0m Trial 23 finished with value: -1.1451487783441465 and parameters: {'max_depth': 13, 'min_child_weight': 7, 'subsample': 0.6, 'colsample_bytree': 0.7, 'reg_lambda': 0.033435507877672035, 'reg_alpha': 0.2556302235955489, 'feature_fraction': 0.7966827076908662, 'bagging_fraction': 0.9521520213121727, 'bagging_freq': 5, 'num_leaves': 151, 'min_child_samples': 31}. Best is trial 10 with value: -1.13831179461111.\u001b[0m\n"
     ]
    },
    {
     "name": "stdout",
     "output_type": "stream",
     "text": [
      "[LightGBM] [Warning] feature_fraction is set=0.5345098981396369, colsample_bytree=0.6 will be ignored. Current value: feature_fraction=0.5345098981396369\n",
      "[LightGBM] [Warning] bagging_fraction is set=0.8437144733774569, subsample=0.5 will be ignored. Current value: bagging_fraction=0.8437144733774569\n",
      "[LightGBM] [Warning] bagging_freq is set=3, subsample_freq=0 will be ignored. Current value: bagging_freq=3\n",
      "Training until validation scores don't improve for 100 rounds\n",
      "[100]\ttraining's l1: 0.843786\tvalid_1's l1: 1.15764\n",
      "[200]\ttraining's l1: 0.839646\tvalid_1's l1: 1.15224\n",
      "[300]\ttraining's l1: 0.836079\tvalid_1's l1: 1.15032\n",
      "[400]\ttraining's l1: 0.831564\tvalid_1's l1: 1.14751\n",
      "[500]\ttraining's l1: 0.828101\tvalid_1's l1: 1.1461\n",
      "[600]\ttraining's l1: 0.821601\tvalid_1's l1: 1.14386\n",
      "[700]\ttraining's l1: 0.814866\tvalid_1's l1: 1.14213\n",
      "[800]\ttraining's l1: 0.809805\tvalid_1's l1: 1.14124\n",
      "[900]\ttraining's l1: 0.804936\tvalid_1's l1: 1.14125\n",
      "[1000]\ttraining's l1: 0.798699\tvalid_1's l1: 1.14104\n",
      "Early stopping, best iteration is:\n",
      "[954]\ttraining's l1: 0.802027\tvalid_1's l1: 1.14052\n"
     ]
    },
    {
     "name": "stderr",
     "output_type": "stream",
     "text": [
      "\u001b[32m[I 2021-07-26 13:28:08,241]\u001b[0m Trial 24 finished with value: -1.1400036992395852 and parameters: {'max_depth': 20, 'min_child_weight': 6, 'subsample': 0.5, 'colsample_bytree': 0.6, 'reg_lambda': 0.008191879570080237, 'reg_alpha': 3.0397616767507163, 'feature_fraction': 0.5345098981396369, 'bagging_fraction': 0.8437144733774569, 'bagging_freq': 3, 'num_leaves': 308, 'min_child_samples': 54}. Best is trial 10 with value: -1.13831179461111.\u001b[0m\n"
     ]
    },
    {
     "name": "stdout",
     "output_type": "stream",
     "text": [
      "[LightGBM] [Warning] feature_fraction is set=0.6621779074927546, colsample_bytree=0.8 will be ignored. Current value: feature_fraction=0.6621779074927546\n",
      "[LightGBM] [Warning] bagging_fraction is set=0.7383901490807909, subsample=0.6 will be ignored. Current value: bagging_fraction=0.7383901490807909\n",
      "[LightGBM] [Warning] bagging_freq is set=20, subsample_freq=0 will be ignored. Current value: bagging_freq=20\n",
      "Training until validation scores don't improve for 100 rounds\n",
      "[100]\ttraining's l1: 0.898204\tvalid_1's l1: 1.23353\n",
      "[200]\ttraining's l1: 0.897951\tvalid_1's l1: 1.23309\n",
      "[300]\ttraining's l1: 0.895156\tvalid_1's l1: 1.22755\n",
      "[400]\ttraining's l1: 0.893721\tvalid_1's l1: 1.22508\n",
      "[500]\ttraining's l1: 0.891864\tvalid_1's l1: 1.22209\n",
      "[600]\ttraining's l1: 0.890851\tvalid_1's l1: 1.22022\n",
      "[700]\ttraining's l1: 0.888346\tvalid_1's l1: 1.21533\n",
      "[800]\ttraining's l1: 0.887816\tvalid_1's l1: 1.21437\n",
      "[900]\ttraining's l1: 0.885012\tvalid_1's l1: 1.20873\n",
      "[1000]\ttraining's l1: 0.884395\tvalid_1's l1: 1.20778\n",
      "[1100]\ttraining's l1: 0.879814\tvalid_1's l1: 1.19859\n",
      "[1200]\ttraining's l1: 0.877916\tvalid_1's l1: 1.19555\n",
      "[1300]\ttraining's l1: 0.876911\tvalid_1's l1: 1.19352\n",
      "[1400]\ttraining's l1: 0.876579\tvalid_1's l1: 1.19294\n",
      "[1500]\ttraining's l1: 0.875027\tvalid_1's l1: 1.19107\n",
      "[1600]\ttraining's l1: 0.874216\tvalid_1's l1: 1.18877\n",
      "[1700]\ttraining's l1: 0.872491\tvalid_1's l1: 1.18546\n",
      "[1800]\ttraining's l1: 0.870924\tvalid_1's l1: 1.18374\n",
      "[1900]\ttraining's l1: 0.870011\tvalid_1's l1: 1.18227\n",
      "[2000]\ttraining's l1: 0.869144\tvalid_1's l1: 1.18053\n",
      "[2100]\ttraining's l1: 0.866669\tvalid_1's l1: 1.1757\n",
      "[2200]\ttraining's l1: 0.865892\tvalid_1's l1: 1.17446\n",
      "[2300]\ttraining's l1: 0.864686\tvalid_1's l1: 1.17205\n",
      "[2400]\ttraining's l1: 0.864408\tvalid_1's l1: 1.17197\n",
      "[2500]\ttraining's l1: 0.864021\tvalid_1's l1: 1.17116\n",
      "Early stopping, best iteration is:\n",
      "[2476]\ttraining's l1: 0.864066\tvalid_1's l1: 1.17112\n"
     ]
    },
    {
     "name": "stderr",
     "output_type": "stream",
     "text": [
      "\u001b[32m[I 2021-07-26 13:28:57,255]\u001b[0m Trial 25 finished with value: -1.1709926163351854 and parameters: {'max_depth': 17, 'min_child_weight': 3, 'subsample': 0.6, 'colsample_bytree': 0.8, 'reg_lambda': 0.26907734419310814, 'reg_alpha': 26.96287382091478, 'feature_fraction': 0.6621779074927546, 'bagging_fraction': 0.7383901490807909, 'bagging_freq': 20, 'num_leaves': 15, 'min_child_samples': 19}. Best is trial 10 with value: -1.13831179461111.\u001b[0m\n"
     ]
    },
    {
     "name": "stdout",
     "output_type": "stream",
     "text": [
      "[LightGBM] [Warning] feature_fraction is set=0.3978249886624473, colsample_bytree=0.5 will be ignored. Current value: feature_fraction=0.3978249886624473\n",
      "[LightGBM] [Warning] bagging_fraction is set=0.6193651602704036, subsample=0.5 will be ignored. Current value: bagging_fraction=0.6193651602704036\n",
      "[LightGBM] [Warning] bagging_freq is set=2, subsample_freq=0 will be ignored. Current value: bagging_freq=2\n",
      "Training until validation scores don't improve for 100 rounds\n",
      "[100]\ttraining's l1: 0.858665\tvalid_1's l1: 1.1731\n",
      "[200]\ttraining's l1: 0.856195\tvalid_1's l1: 1.16885\n",
      "[300]\ttraining's l1: 0.852703\tvalid_1's l1: 1.16194\n",
      "[400]\ttraining's l1: 0.845732\tvalid_1's l1: 1.15302\n",
      "[500]\ttraining's l1: 0.839869\tvalid_1's l1: 1.14777\n",
      "[600]\ttraining's l1: 0.834042\tvalid_1's l1: 1.14383\n",
      "[700]\ttraining's l1: 0.830817\tvalid_1's l1: 1.14343\n",
      "[800]\ttraining's l1: 0.826943\tvalid_1's l1: 1.142\n",
      "Early stopping, best iteration is:\n",
      "[769]\ttraining's l1: 0.828334\tvalid_1's l1: 1.14178\n"
     ]
    },
    {
     "name": "stderr",
     "output_type": "stream",
     "text": [
      "\u001b[32m[I 2021-07-26 13:29:31,801]\u001b[0m Trial 26 finished with value: -1.1414629356436954 and parameters: {'max_depth': 18, 'min_child_weight': 2, 'subsample': 0.5, 'colsample_bytree': 0.5, 'reg_lambda': 0.0014945459007070852, 'reg_alpha': 0.017516397898873833, 'feature_fraction': 0.3978249886624473, 'bagging_fraction': 0.6193651602704036, 'bagging_freq': 2, 'num_leaves': 161, 'min_child_samples': 35}. Best is trial 10 with value: -1.13831179461111.\u001b[0m\n"
     ]
    },
    {
     "name": "stdout",
     "output_type": "stream",
     "text": [
      "[LightGBM] [Warning] feature_fraction is set=0.9851437525456795, colsample_bytree=0.7 will be ignored. Current value: feature_fraction=0.9851437525456795\n",
      "[LightGBM] [Warning] bagging_fraction is set=0.9542999530192265, subsample=0.7 will be ignored. Current value: bagging_fraction=0.9542999530192265\n",
      "[LightGBM] [Warning] bagging_freq is set=6, subsample_freq=0 will be ignored. Current value: bagging_freq=6\n",
      "Training until validation scores don't improve for 100 rounds\n",
      "[100]\ttraining's l1: 0.869814\tvalid_1's l1: 1.19335\n",
      "[200]\ttraining's l1: 0.868164\tvalid_1's l1: 1.1914\n",
      "[300]\ttraining's l1: 0.863507\tvalid_1's l1: 1.18167\n",
      "[400]\ttraining's l1: 0.858849\tvalid_1's l1: 1.17064\n",
      "[500]\ttraining's l1: 0.858566\tvalid_1's l1: 1.17012\n",
      "[600]\ttraining's l1: 0.855895\tvalid_1's l1: 1.16608\n",
      "[700]\ttraining's l1: 0.855782\tvalid_1's l1: 1.16592\n"
     ]
    },
    {
     "name": "stderr",
     "output_type": "stream",
     "text": [
      "\u001b[32m[I 2021-07-26 13:30:01,328]\u001b[0m Trial 27 finished with value: -1.1658715091496785 and parameters: {'max_depth': 16, 'min_child_weight': 4, 'subsample': 0.7, 'colsample_bytree': 0.7, 'reg_lambda': 4.540383209363311, 'reg_alpha': 0.8743352399217321, 'feature_fraction': 0.9851437525456795, 'bagging_fraction': 0.9542999530192265, 'bagging_freq': 6, 'num_leaves': 83, 'min_child_samples': 13}. Best is trial 10 with value: -1.13831179461111.\u001b[0m\n"
     ]
    },
    {
     "name": "stdout",
     "output_type": "stream",
     "text": [
      "Early stopping, best iteration is:\n",
      "[608]\ttraining's l1: 0.855785\tvalid_1's l1: 1.16592\n",
      "[LightGBM] [Warning] feature_fraction is set=0.5794920896120148, colsample_bytree=0.9 will be ignored. Current value: feature_fraction=0.5794920896120148\n",
      "[LightGBM] [Warning] bagging_fraction is set=0.835492927224615, subsample=0.5 will be ignored. Current value: bagging_fraction=0.835492927224615\n",
      "[LightGBM] [Warning] bagging_freq is set=9, subsample_freq=0 will be ignored. Current value: bagging_freq=9\n",
      "Training until validation scores don't improve for 100 rounds\n",
      "[100]\ttraining's l1: 0.832468\tvalid_1's l1: 1.15148\n",
      "[200]\ttraining's l1: 0.825552\tvalid_1's l1: 1.14852\n",
      "[300]\ttraining's l1: 0.824129\tvalid_1's l1: 1.14793\n",
      "Early stopping, best iteration is:\n",
      "[279]\ttraining's l1: 0.824188\tvalid_1's l1: 1.14789\n"
     ]
    },
    {
     "name": "stderr",
     "output_type": "stream",
     "text": [
      "\u001b[32m[I 2021-07-26 13:30:23,556]\u001b[0m Trial 28 finished with value: -1.1477569590271208 and parameters: {'max_depth': 10, 'min_child_weight': 9, 'subsample': 0.5, 'colsample_bytree': 0.9, 'reg_lambda': 0.5823655359930817, 'reg_alpha': 0.09545342270237414, 'feature_fraction': 0.5794920896120148, 'bagging_fraction': 0.835492927224615, 'bagging_freq': 9, 'num_leaves': 359, 'min_child_samples': 25}. Best is trial 10 with value: -1.13831179461111.\u001b[0m\n"
     ]
    },
    {
     "name": "stdout",
     "output_type": "stream",
     "text": [
      "[LightGBM] [Warning] feature_fraction is set=0.782283323130158, colsample_bytree=0.8 will be ignored. Current value: feature_fraction=0.782283323130158\n",
      "[LightGBM] [Warning] bagging_fraction is set=0.6857514535613844, subsample=0.6 will be ignored. Current value: bagging_fraction=0.6857514535613844\n",
      "[LightGBM] [Warning] bagging_freq is set=5, subsample_freq=0 will be ignored. Current value: bagging_freq=5\n",
      "Training until validation scores don't improve for 100 rounds\n",
      "[100]\ttraining's l1: 0.831958\tvalid_1's l1: 1.15097\n",
      "[200]\ttraining's l1: 0.82606\tvalid_1's l1: 1.14637\n",
      "[300]\ttraining's l1: 0.822385\tvalid_1's l1: 1.14348\n",
      "[400]\ttraining's l1: 0.819914\tvalid_1's l1: 1.14233\n",
      "[500]\ttraining's l1: 0.818288\tvalid_1's l1: 1.14218\n",
      "Early stopping, best iteration is:\n",
      "[449]\ttraining's l1: 0.819009\tvalid_1's l1: 1.14194\n"
     ]
    },
    {
     "name": "stderr",
     "output_type": "stream",
     "text": [
      "\u001b[32m[I 2021-07-26 13:30:58,265]\u001b[0m Trial 29 finished with value: -1.1416125914184572 and parameters: {'max_depth': 19, 'min_child_weight': 6, 'subsample': 0.6, 'colsample_bytree': 0.8, 'reg_lambda': 88.07499786519172, 'reg_alpha': 62.49345570431961, 'feature_fraction': 0.782283323130158, 'bagging_fraction': 0.6857514535613844, 'bagging_freq': 5, 'num_leaves': 612, 'min_child_samples': 50}. Best is trial 10 with value: -1.13831179461111.\u001b[0m\n"
     ]
    },
    {
     "name": "stdout",
     "output_type": "stream",
     "text": [
      "[LightGBM] [Warning] feature_fraction is set=0.9176628198241361, colsample_bytree=0.6 will be ignored. Current value: feature_fraction=0.9176628198241361\n",
      "[LightGBM] [Warning] bagging_fraction is set=0.9995939268616821, subsample=0.8 will be ignored. Current value: bagging_fraction=0.9995939268616821\n",
      "[LightGBM] [Warning] bagging_freq is set=7, subsample_freq=0 will be ignored. Current value: bagging_freq=7\n",
      "Training until validation scores don't improve for 100 rounds\n",
      "[100]\ttraining's l1: 0.845255\tvalid_1's l1: 1.1616\n",
      "[200]\ttraining's l1: 0.844394\tvalid_1's l1: 1.16006\n",
      "[300]\ttraining's l1: 0.843523\tvalid_1's l1: 1.15982\n",
      "[400]\ttraining's l1: 0.842042\tvalid_1's l1: 1.15737\n",
      "[500]\ttraining's l1: 0.84149\tvalid_1's l1: 1.15695\n",
      "Early stopping, best iteration is:\n",
      "[467]\ttraining's l1: 0.841643\tvalid_1's l1: 1.15674\n"
     ]
    },
    {
     "name": "stderr",
     "output_type": "stream",
     "text": [
      "\u001b[32m[I 2021-07-26 13:31:26,343]\u001b[0m Trial 30 finished with value: -1.1566771519717143 and parameters: {'max_depth': 14, 'min_child_weight': 1, 'subsample': 0.8, 'colsample_bytree': 0.6, 'reg_lambda': 0.04304165265518579, 'reg_alpha': 0.4389342578038914, 'feature_fraction': 0.9176628198241361, 'bagging_fraction': 0.9995939268616821, 'bagging_freq': 7, 'num_leaves': 246, 'min_child_samples': 5}. Best is trial 10 with value: -1.13831179461111.\u001b[0m\n"
     ]
    },
    {
     "name": "stdout",
     "output_type": "stream",
     "text": [
      "[LightGBM] [Warning] feature_fraction is set=0.4506678380696681, colsample_bytree=0.9 will be ignored. Current value: feature_fraction=0.4506678380696681\n",
      "[LightGBM] [Warning] bagging_fraction is set=0.7757693381462691, subsample=0.6 will be ignored. Current value: bagging_fraction=0.7757693381462691\n",
      "[LightGBM] [Warning] bagging_freq is set=8, subsample_freq=0 will be ignored. Current value: bagging_freq=8\n",
      "Training until validation scores don't improve for 100 rounds\n",
      "[100]\ttraining's l1: 0.848401\tvalid_1's l1: 1.15946\n",
      "[200]\ttraining's l1: 0.844792\tvalid_1's l1: 1.15428\n",
      "[300]\ttraining's l1: 0.840395\tvalid_1's l1: 1.14971\n",
      "[400]\ttraining's l1: 0.834991\tvalid_1's l1: 1.14619\n",
      "[500]\ttraining's l1: 0.829631\tvalid_1's l1: 1.14297\n",
      "[600]\ttraining's l1: 0.824288\tvalid_1's l1: 1.14178\n",
      "[700]\ttraining's l1: 0.82043\tvalid_1's l1: 1.14075\n",
      "[800]\ttraining's l1: 0.816385\tvalid_1's l1: 1.14056\n",
      "[900]\ttraining's l1: 0.810718\tvalid_1's l1: 1.14005\n",
      "[1000]\ttraining's l1: 0.805976\tvalid_1's l1: 1.13964\n",
      "[1100]\ttraining's l1: 0.802539\tvalid_1's l1: 1.1395\n",
      "Early stopping, best iteration is:\n",
      "[1019]\ttraining's l1: 0.805083\tvalid_1's l1: 1.13932\n"
     ]
    },
    {
     "name": "stderr",
     "output_type": "stream",
     "text": [
      "\u001b[32m[I 2021-07-26 13:32:15,573]\u001b[0m Trial 31 finished with value: -1.1386715675393393 and parameters: {'max_depth': 15, 'min_child_weight': 4, 'subsample': 0.6, 'colsample_bytree': 0.9, 'reg_lambda': 0.6100674862807792, 'reg_alpha': 2.864832059106441, 'feature_fraction': 0.4506678380696681, 'bagging_fraction': 0.7757693381462691, 'bagging_freq': 8, 'num_leaves': 237, 'min_child_samples': 43}. Best is trial 10 with value: -1.13831179461111.\u001b[0m\n"
     ]
    },
    {
     "name": "stdout",
     "output_type": "stream",
     "text": [
      "[LightGBM] [Warning] feature_fraction is set=0.4725660601656366, colsample_bytree=0.9 will be ignored. Current value: feature_fraction=0.4725660601656366\n",
      "[LightGBM] [Warning] bagging_fraction is set=0.785908878326652, subsample=0.5 will be ignored. Current value: bagging_fraction=0.785908878326652\n",
      "[LightGBM] [Warning] bagging_freq is set=2, subsample_freq=0 will be ignored. Current value: bagging_freq=2\n",
      "Training until validation scores don't improve for 100 rounds\n",
      "[100]\ttraining's l1: 0.872632\tvalid_1's l1: 1.19342\n",
      "[200]\ttraining's l1: 0.87232\tvalid_1's l1: 1.19326\n",
      "[300]\ttraining's l1: 0.87025\tvalid_1's l1: 1.18893\n",
      "[400]\ttraining's l1: 0.868736\tvalid_1's l1: 1.1864\n",
      "[500]\ttraining's l1: 0.864094\tvalid_1's l1: 1.17744\n",
      "[600]\ttraining's l1: 0.857976\tvalid_1's l1: 1.16718\n",
      "[700]\ttraining's l1: 0.853984\tvalid_1's l1: 1.16174\n",
      "[800]\ttraining's l1: 0.849321\tvalid_1's l1: 1.15654\n",
      "[900]\ttraining's l1: 0.846898\tvalid_1's l1: 1.15505\n",
      "[1000]\ttraining's l1: 0.843307\tvalid_1's l1: 1.15069\n",
      "[1100]\ttraining's l1: 0.840538\tvalid_1's l1: 1.15009\n",
      "[1200]\ttraining's l1: 0.838269\tvalid_1's l1: 1.14884\n",
      "[1300]\ttraining's l1: 0.834007\tvalid_1's l1: 1.14684\n",
      "[1400]\ttraining's l1: 0.831891\tvalid_1's l1: 1.14472\n",
      "[1500]\ttraining's l1: 0.829194\tvalid_1's l1: 1.14384\n",
      "Early stopping, best iteration is:\n",
      "[1487]\ttraining's l1: 0.82965\tvalid_1's l1: 1.14337\n"
     ]
    },
    {
     "name": "stderr",
     "output_type": "stream",
     "text": [
      "\u001b[32m[I 2021-07-26 13:33:19,724]\u001b[0m Trial 32 finished with value: -1.1430801043345957 and parameters: {'max_depth': 16, 'min_child_weight': 20, 'subsample': 0.5, 'colsample_bytree': 0.9, 'reg_lambda': 0.15511883611216437, 'reg_alpha': 3.3856330151988403, 'feature_fraction': 0.4725660601656366, 'bagging_fraction': 0.785908878326652, 'bagging_freq': 2, 'num_leaves': 68, 'min_child_samples': 40}. Best is trial 10 with value: -1.13831179461111.\u001b[0m\n"
     ]
    },
    {
     "name": "stdout",
     "output_type": "stream",
     "text": [
      "[LightGBM] [Warning] feature_fraction is set=0.3979595149681635, colsample_bytree=0.9 will be ignored. Current value: feature_fraction=0.3979595149681635\n",
      "[LightGBM] [Warning] bagging_fraction is set=0.9044685426626263, subsample=0.6 will be ignored. Current value: bagging_fraction=0.9044685426626263\n",
      "[LightGBM] [Warning] bagging_freq is set=4, subsample_freq=0 will be ignored. Current value: bagging_freq=4\n",
      "Training until validation scores don't improve for 100 rounds\n",
      "[100]\ttraining's l1: 0.851687\tvalid_1's l1: 1.1659\n",
      "[200]\ttraining's l1: 0.848922\tvalid_1's l1: 1.16191\n",
      "[300]\ttraining's l1: 0.846404\tvalid_1's l1: 1.15887\n",
      "[400]\ttraining's l1: 0.840989\tvalid_1's l1: 1.15399\n",
      "[500]\ttraining's l1: 0.836396\tvalid_1's l1: 1.14987\n",
      "[600]\ttraining's l1: 0.832488\tvalid_1's l1: 1.14837\n",
      "[700]\ttraining's l1: 0.828248\tvalid_1's l1: 1.14641\n",
      "[800]\ttraining's l1: 0.822676\tvalid_1's l1: 1.14478\n",
      "[900]\ttraining's l1: 0.81914\tvalid_1's l1: 1.14374\n",
      "[1000]\ttraining's l1: 0.815356\tvalid_1's l1: 1.14282\n",
      "[1100]\ttraining's l1: 0.808546\tvalid_1's l1: 1.14132\n",
      "[1200]\ttraining's l1: 0.804594\tvalid_1's l1: 1.14101\n",
      "[1300]\ttraining's l1: 0.798921\tvalid_1's l1: 1.14119\n",
      "Early stopping, best iteration is:\n",
      "[1288]\ttraining's l1: 0.799752\tvalid_1's l1: 1.14079\n"
     ]
    },
    {
     "name": "stderr",
     "output_type": "stream",
     "text": [
      "\u001b[32m[I 2021-07-26 13:34:21,410]\u001b[0m Trial 33 finished with value: -1.1401953744051518 and parameters: {'max_depth': 12, 'min_child_weight': 4, 'subsample': 0.6, 'colsample_bytree': 0.9, 'reg_lambda': 1.3054901731145412, 'reg_alpha': 1.0262035078773362, 'feature_fraction': 0.3979595149681635, 'bagging_fraction': 0.9044685426626263, 'bagging_freq': 4, 'num_leaves': 184, 'min_child_samples': 44}. Best is trial 10 with value: -1.13831179461111.\u001b[0m\n"
     ]
    },
    {
     "name": "stdout",
     "output_type": "stream",
     "text": [
      "[LightGBM] [Warning] feature_fraction is set=0.4610778818498204, colsample_bytree=0.9 will be ignored. Current value: feature_fraction=0.4610778818498204\n",
      "[LightGBM] [Warning] bagging_fraction is set=0.6385224966888554, subsample=0.5 will be ignored. Current value: bagging_fraction=0.6385224966888554\n",
      "[LightGBM] [Warning] bagging_freq is set=6, subsample_freq=0 will be ignored. Current value: bagging_freq=6\n",
      "Training until validation scores don't improve for 100 rounds\n",
      "[100]\ttraining's l1: 0.848348\tvalid_1's l1: 1.16128\n",
      "[200]\ttraining's l1: 0.843518\tvalid_1's l1: 1.15509\n",
      "[300]\ttraining's l1: 0.84005\tvalid_1's l1: 1.15209\n",
      "[400]\ttraining's l1: 0.835786\tvalid_1's l1: 1.14838\n",
      "[500]\ttraining's l1: 0.831753\tvalid_1's l1: 1.14472\n",
      "[600]\ttraining's l1: 0.827029\tvalid_1's l1: 1.14218\n",
      "[700]\ttraining's l1: 0.822825\tvalid_1's l1: 1.14094\n",
      "[800]\ttraining's l1: 0.819178\tvalid_1's l1: 1.14097\n",
      "Early stopping, best iteration is:\n",
      "[711]\ttraining's l1: 0.822375\tvalid_1's l1: 1.14068\n"
     ]
    },
    {
     "name": "stderr",
     "output_type": "stream",
     "text": [
      "\u001b[32m[I 2021-07-26 13:34:57,039]\u001b[0m Trial 34 finished with value: -1.1403346727901718 and parameters: {'max_depth': 19, 'min_child_weight': 2, 'subsample': 0.5, 'colsample_bytree': 0.9, 'reg_lambda': 0.3601249259762217, 'reg_alpha': 6.141638186319114, 'feature_fraction': 0.4610778818498204, 'bagging_fraction': 0.6385224966888554, 'bagging_freq': 6, 'num_leaves': 260, 'min_child_samples': 31}. Best is trial 10 with value: -1.13831179461111.\u001b[0m\n"
     ]
    },
    {
     "name": "stdout",
     "output_type": "stream",
     "text": [
      "[LightGBM] [Warning] feature_fraction is set=0.566658919927486, colsample_bytree=0.8 will be ignored. Current value: feature_fraction=0.566658919927486\n",
      "[LightGBM] [Warning] bagging_fraction is set=0.5586411748911957, subsample=0.7 will be ignored. Current value: bagging_fraction=0.5586411748911957\n",
      "[LightGBM] [Warning] bagging_freq is set=13, subsample_freq=0 will be ignored. Current value: bagging_freq=13\n",
      "Training until validation scores don't improve for 100 rounds\n",
      "[100]\ttraining's l1: 0.858654\tvalid_1's l1: 1.17254\n",
      "[200]\ttraining's l1: 0.857077\tvalid_1's l1: 1.16992\n",
      "[300]\ttraining's l1: 0.855721\tvalid_1's l1: 1.16808\n",
      "[400]\ttraining's l1: 0.853041\tvalid_1's l1: 1.16391\n",
      "[500]\ttraining's l1: 0.848859\tvalid_1's l1: 1.15849\n",
      "[600]\ttraining's l1: 0.847177\tvalid_1's l1: 1.15695\n",
      "[700]\ttraining's l1: 0.845221\tvalid_1's l1: 1.15497\n",
      "[800]\ttraining's l1: 0.843653\tvalid_1's l1: 1.15387\n",
      "[900]\ttraining's l1: 0.842343\tvalid_1's l1: 1.15342\n",
      "[1000]\ttraining's l1: 0.840297\tvalid_1's l1: 1.15166\n",
      "[1100]\ttraining's l1: 0.839268\tvalid_1's l1: 1.15078\n",
      "[1200]\ttraining's l1: 0.837983\tvalid_1's l1: 1.14919\n",
      "[1300]\ttraining's l1: 0.836678\tvalid_1's l1: 1.14893\n",
      "[1400]\ttraining's l1: 0.835076\tvalid_1's l1: 1.14881\n",
      "[1500]\ttraining's l1: 0.834278\tvalid_1's l1: 1.14843\n",
      "[1600]\ttraining's l1: 0.833556\tvalid_1's l1: 1.14837\n",
      "Early stopping, best iteration is:\n",
      "[1597]\ttraining's l1: 0.833558\tvalid_1's l1: 1.14837\n"
     ]
    },
    {
     "name": "stderr",
     "output_type": "stream",
     "text": [
      "\u001b[32m[I 2021-07-26 13:35:58,161]\u001b[0m Trial 35 finished with value: -1.1479894389283705 and parameters: {'max_depth': 17, 'min_child_weight': 6, 'subsample': 0.7, 'colsample_bytree': 0.8, 'reg_lambda': 3.9145905126932234, 'reg_alpha': 28.879320406443487, 'feature_fraction': 0.566658919927486, 'bagging_fraction': 0.5586411748911957, 'bagging_freq': 13, 'num_leaves': 129, 'min_child_samples': 53}. Best is trial 10 with value: -1.13831179461111.\u001b[0m\n"
     ]
    },
    {
     "name": "stdout",
     "output_type": "stream",
     "text": [
      "[LightGBM] [Warning] feature_fraction is set=0.3302522302764925, colsample_bytree=0.9 will be ignored. Current value: feature_fraction=0.3302522302764925\n",
      "[LightGBM] [Warning] bagging_fraction is set=0.8720517391038721, subsample=0.6 will be ignored. Current value: bagging_fraction=0.8720517391038721\n",
      "[LightGBM] [Warning] bagging_freq is set=9, subsample_freq=0 will be ignored. Current value: bagging_freq=9\n",
      "Training until validation scores don't improve for 100 rounds\n",
      "[100]\ttraining's l1: 0.879591\tvalid_1's l1: 1.20617\n",
      "[200]\ttraining's l1: 0.87899\tvalid_1's l1: 1.2051\n",
      "[300]\ttraining's l1: 0.878605\tvalid_1's l1: 1.20427\n",
      "[400]\ttraining's l1: 0.875588\tvalid_1's l1: 1.19894\n",
      "[500]\ttraining's l1: 0.872811\tvalid_1's l1: 1.19308\n",
      "[600]\ttraining's l1: 0.868654\tvalid_1's l1: 1.18247\n",
      "[700]\ttraining's l1: 0.865326\tvalid_1's l1: 1.17645\n",
      "[800]\ttraining's l1: 0.861719\tvalid_1's l1: 1.17203\n",
      "[900]\ttraining's l1: 0.855101\tvalid_1's l1: 1.1623\n",
      "[1000]\ttraining's l1: 0.853055\tvalid_1's l1: 1.16032\n",
      "[1100]\ttraining's l1: 0.850241\tvalid_1's l1: 1.15609\n",
      "[1200]\ttraining's l1: 0.847205\tvalid_1's l1: 1.1533\n",
      "Early stopping, best iteration is:\n",
      "[1167]\ttraining's l1: 0.847707\tvalid_1's l1: 1.15311\n"
     ]
    },
    {
     "name": "stderr",
     "output_type": "stream",
     "text": [
      "\u001b[32m[I 2021-07-26 13:36:36,330]\u001b[0m Trial 36 finished with value: -1.1529077351528652 and parameters: {'max_depth': 14, 'min_child_weight': 3, 'subsample': 0.6, 'colsample_bytree': 0.9, 'reg_lambda': 0.00471595597811788, 'reg_alpha': 0.042153466500585796, 'feature_fraction': 0.3302522302764925, 'bagging_fraction': 0.8720517391038721, 'bagging_freq': 9, 'num_leaves': 43, 'min_child_samples': 26}. Best is trial 10 with value: -1.13831179461111.\u001b[0m\n"
     ]
    },
    {
     "name": "stdout",
     "output_type": "stream",
     "text": [
      "[LightGBM] [Warning] feature_fraction is set=0.6545180487167909, colsample_bytree=0.7 will be ignored. Current value: feature_fraction=0.6545180487167909\n",
      "[LightGBM] [Warning] bagging_fraction is set=0.758697611103253, subsample=0.5 will be ignored. Current value: bagging_fraction=0.758697611103253\n",
      "[LightGBM] [Warning] bagging_freq is set=4, subsample_freq=0 will be ignored. Current value: bagging_freq=4\n",
      "Training until validation scores don't improve for 100 rounds\n",
      "[100]\ttraining's l1: 0.836947\tvalid_1's l1: 1.15884\n",
      "[200]\ttraining's l1: 0.831453\tvalid_1's l1: 1.15291\n",
      "[300]\ttraining's l1: 0.830937\tvalid_1's l1: 1.15206\n",
      "[400]\ttraining's l1: 0.830288\tvalid_1's l1: 1.15094\n",
      "[500]\ttraining's l1: 0.828953\tvalid_1's l1: 1.14886\n",
      "[600]\ttraining's l1: 0.828061\tvalid_1's l1: 1.1486\n",
      "[700]\ttraining's l1: 0.826187\tvalid_1's l1: 1.14739\n",
      "[800]\ttraining's l1: 0.824021\tvalid_1's l1: 1.14575\n",
      "[900]\ttraining's l1: 0.821223\tvalid_1's l1: 1.14342\n",
      "[1000]\ttraining's l1: 0.820138\tvalid_1's l1: 1.14362\n",
      "Early stopping, best iteration is:\n",
      "[922]\ttraining's l1: 0.820994\tvalid_1's l1: 1.14331\n"
     ]
    },
    {
     "name": "stderr",
     "output_type": "stream",
     "text": [
      "\u001b[32m[I 2021-07-26 13:37:14,067]\u001b[0m Trial 37 finished with value: -1.1431235059692795 and parameters: {'max_depth': 9, 'min_child_weight': 12, 'subsample': 0.5, 'colsample_bytree': 0.7, 'reg_lambda': 0.07758737522162522, 'reg_alpha': 0.00969655461507132, 'feature_fraction': 0.6545180487167909, 'bagging_fraction': 0.758697611103253, 'bagging_freq': 4, 'num_leaves': 387, 'min_child_samples': 60}. Best is trial 10 with value: -1.13831179461111.\u001b[0m\n"
     ]
    },
    {
     "name": "stdout",
     "output_type": "stream",
     "text": [
      "[LightGBM] [Warning] feature_fraction is set=0.6218631143579373, colsample_bytree=0.7 will be ignored. Current value: feature_fraction=0.6218631143579373\n",
      "[LightGBM] [Warning] bagging_fraction is set=0.39725736196681727, subsample=0.6 will be ignored. Current value: bagging_fraction=0.39725736196681727\n",
      "[LightGBM] [Warning] bagging_freq is set=7, subsample_freq=0 will be ignored. Current value: bagging_freq=7\n",
      "Training until validation scores don't improve for 100 rounds\n",
      "[100]\ttraining's l1: 0.844664\tvalid_1's l1: 1.15537\n",
      "[200]\ttraining's l1: 0.841785\tvalid_1's l1: 1.15257\n",
      "[300]\ttraining's l1: 0.838631\tvalid_1's l1: 1.15023\n",
      "[400]\ttraining's l1: 0.835021\tvalid_1's l1: 1.14797\n",
      "[500]\ttraining's l1: 0.831563\tvalid_1's l1: 1.14605\n",
      "[600]\ttraining's l1: 0.827472\tvalid_1's l1: 1.14573\n",
      "Early stopping, best iteration is:\n",
      "[566]\ttraining's l1: 0.828959\tvalid_1's l1: 1.14511\n"
     ]
    },
    {
     "name": "stderr",
     "output_type": "stream",
     "text": [
      "\u001b[32m[I 2021-07-26 13:37:38,734]\u001b[0m Trial 38 finished with value: -1.1447240339460183 and parameters: {'max_depth': 11, 'min_child_weight': 7, 'subsample': 0.6, 'colsample_bytree': 0.7, 'reg_lambda': 0.9748485570377984, 'reg_alpha': 11.60759495630773, 'feature_fraction': 0.6218631143579373, 'bagging_fraction': 0.39725736196681727, 'bagging_freq': 7, 'num_leaves': 222, 'min_child_samples': 48}. Best is trial 10 with value: -1.13831179461111.\u001b[0m\n"
     ]
    },
    {
     "name": "stdout",
     "output_type": "stream",
     "text": [
      "[LightGBM] [Warning] feature_fraction is set=0.21993743469044427, colsample_bytree=0.8 will be ignored. Current value: feature_fraction=0.21993743469044427\n",
      "[LightGBM] [Warning] bagging_fraction is set=0.725755646237639, subsample=0.7 will be ignored. Current value: bagging_fraction=0.725755646237639\n",
      "[LightGBM] [Warning] bagging_freq is set=16, subsample_freq=0 will be ignored. Current value: bagging_freq=16\n",
      "Training until validation scores don't improve for 100 rounds\n",
      "[100]\ttraining's l1: 0.865435\tvalid_1's l1: 1.1846\n",
      "[200]\ttraining's l1: 0.864249\tvalid_1's l1: 1.18257\n",
      "[300]\ttraining's l1: 0.859705\tvalid_1's l1: 1.17424\n",
      "[400]\ttraining's l1: 0.854133\tvalid_1's l1: 1.16599\n",
      "[500]\ttraining's l1: 0.849979\tvalid_1's l1: 1.16116\n",
      "[600]\ttraining's l1: 0.84527\tvalid_1's l1: 1.15691\n",
      "[700]\ttraining's l1: 0.840843\tvalid_1's l1: 1.15333\n",
      "[800]\ttraining's l1: 0.836228\tvalid_1's l1: 1.15069\n",
      "[900]\ttraining's l1: 0.833051\tvalid_1's l1: 1.14923\n",
      "[1000]\ttraining's l1: 0.830563\tvalid_1's l1: 1.14773\n",
      "[1100]\ttraining's l1: 0.827461\tvalid_1's l1: 1.14594\n",
      "[1200]\ttraining's l1: 0.823992\tvalid_1's l1: 1.14544\n",
      "[1300]\ttraining's l1: 0.821881\tvalid_1's l1: 1.14466\n",
      "[1400]\ttraining's l1: 0.819944\tvalid_1's l1: 1.14392\n",
      "[1500]\ttraining's l1: 0.818107\tvalid_1's l1: 1.14351\n",
      "[1600]\ttraining's l1: 0.814943\tvalid_1's l1: 1.14332\n",
      "[1700]\ttraining's l1: 0.811749\tvalid_1's l1: 1.14287\n",
      "[1800]\ttraining's l1: 0.809459\tvalid_1's l1: 1.14258\n",
      "Early stopping, best iteration is:\n",
      "[1707]\ttraining's l1: 0.811472\tvalid_1's l1: 1.14249\n"
     ]
    },
    {
     "name": "stderr",
     "output_type": "stream",
     "text": [
      "\u001b[32m[I 2021-07-26 13:38:26,854]\u001b[0m Trial 39 finished with value: -1.14174738545182 and parameters: {'max_depth': 15, 'min_child_weight': 2, 'subsample': 0.7, 'colsample_bytree': 0.8, 'reg_lambda': 8.72086425014468, 'reg_alpha': 0.16488296551538012, 'feature_fraction': 0.21993743469044427, 'bagging_fraction': 0.725755646237639, 'bagging_freq': 16, 'num_leaves': 116, 'min_child_samples': 71}. Best is trial 10 with value: -1.13831179461111.\u001b[0m\n"
     ]
    },
    {
     "name": "stdout",
     "output_type": "stream",
     "text": [
      "[LightGBM] [Warning] feature_fraction is set=0.8795263247061046, colsample_bytree=0.9 will be ignored. Current value: feature_fraction=0.8795263247061046\n",
      "[LightGBM] [Warning] bagging_fraction is set=0.5661510795638318, subsample=0.6 will be ignored. Current value: bagging_fraction=0.5661510795638318\n",
      "[LightGBM] [Warning] bagging_freq is set=2, subsample_freq=0 will be ignored. Current value: bagging_freq=2\n",
      "Training until validation scores don't improve for 100 rounds\n",
      "[100]\ttraining's l1: 0.825187\tvalid_1's l1: 1.1458\n",
      "[200]\ttraining's l1: 0.820388\tvalid_1's l1: 1.14308\n",
      "[300]\ttraining's l1: 0.816423\tvalid_1's l1: 1.14159\n",
      "[400]\ttraining's l1: 0.811772\tvalid_1's l1: 1.14131\n",
      "[500]\ttraining's l1: 0.800014\tvalid_1's l1: 1.14186\n",
      "Early stopping, best iteration is:\n",
      "[462]\ttraining's l1: 0.804791\tvalid_1's l1: 1.14062\n"
     ]
    },
    {
     "name": "stderr",
     "output_type": "stream",
     "text": [
      "\u001b[32m[I 2021-07-26 13:39:04,221]\u001b[0m Trial 40 finished with value: -1.1400352973323906 and parameters: {'max_depth': 18, 'min_child_weight': 4, 'subsample': 0.6, 'colsample_bytree': 0.9, 'reg_lambda': 0.032736915110263456, 'reg_alpha': 0.7150986650648252, 'feature_fraction': 0.8795263247061046, 'bagging_fraction': 0.5661510795638318, 'bagging_freq': 2, 'num_leaves': 565, 'min_child_samples': 35}. Best is trial 10 with value: -1.13831179461111.\u001b[0m\n"
     ]
    },
    {
     "name": "stdout",
     "output_type": "stream",
     "text": [
      "[LightGBM] [Warning] feature_fraction is set=0.47368971733260173, colsample_bytree=0.9 will be ignored. Current value: feature_fraction=0.47368971733260173\n",
      "[LightGBM] [Warning] bagging_fraction is set=0.8120109850136437, subsample=0.7 will be ignored. Current value: bagging_fraction=0.8120109850136437\n",
      "[LightGBM] [Warning] bagging_freq is set=8, subsample_freq=0 will be ignored. Current value: bagging_freq=8\n",
      "Training until validation scores don't improve for 100 rounds\n",
      "[100]\ttraining's l1: 0.845652\tvalid_1's l1: 1.16059\n",
      "[200]\ttraining's l1: 0.841306\tvalid_1's l1: 1.15381\n",
      "[300]\ttraining's l1: 0.837706\tvalid_1's l1: 1.14978\n",
      "[400]\ttraining's l1: 0.831634\tvalid_1's l1: 1.14566\n",
      "[500]\ttraining's l1: 0.827381\tvalid_1's l1: 1.14341\n",
      "[600]\ttraining's l1: 0.822003\tvalid_1's l1: 1.14271\n",
      "[700]\ttraining's l1: 0.815602\tvalid_1's l1: 1.14172\n",
      "[800]\ttraining's l1: 0.810896\tvalid_1's l1: 1.14004\n",
      "[900]\ttraining's l1: 0.804631\tvalid_1's l1: 1.13987\n",
      "Early stopping, best iteration is:\n",
      "[856]\ttraining's l1: 0.806623\tvalid_1's l1: 1.1397\n"
     ]
    },
    {
     "name": "stderr",
     "output_type": "stream",
     "text": [
      "\u001b[32m[I 2021-07-26 13:39:50,578]\u001b[0m Trial 41 finished with value: -1.1392452158132977 and parameters: {'max_depth': 15, 'min_child_weight': 5, 'subsample': 0.7, 'colsample_bytree': 0.9, 'reg_lambda': 0.38060598968085074, 'reg_alpha': 2.40665239888789, 'feature_fraction': 0.47368971733260173, 'bagging_fraction': 0.8120109850136437, 'bagging_freq': 8, 'num_leaves': 272, 'min_child_samples': 40}. Best is trial 10 with value: -1.13831179461111.\u001b[0m\n"
     ]
    },
    {
     "name": "stdout",
     "output_type": "stream",
     "text": [
      "[LightGBM] [Warning] feature_fraction is set=0.4471507199401061, colsample_bytree=0.9 will be ignored. Current value: feature_fraction=0.4471507199401061\n",
      "[LightGBM] [Warning] bagging_fraction is set=0.7912542599358368, subsample=0.6 will be ignored. Current value: bagging_fraction=0.7912542599358368\n",
      "[LightGBM] [Warning] bagging_freq is set=11, subsample_freq=0 will be ignored. Current value: bagging_freq=11\n",
      "Training until validation scores don't improve for 100 rounds\n",
      "[100]\ttraining's l1: 0.851239\tvalid_1's l1: 1.16385\n",
      "[200]\ttraining's l1: 0.848615\tvalid_1's l1: 1.159\n",
      "[300]\ttraining's l1: 0.844198\tvalid_1's l1: 1.15403\n",
      "[400]\ttraining's l1: 0.837736\tvalid_1's l1: 1.14895\n",
      "[500]\ttraining's l1: 0.83439\tvalid_1's l1: 1.14669\n",
      "[600]\ttraining's l1: 0.830812\tvalid_1's l1: 1.14528\n",
      "[700]\ttraining's l1: 0.827077\tvalid_1's l1: 1.14432\n",
      "[800]\ttraining's l1: 0.823312\tvalid_1's l1: 1.14356\n",
      "[900]\ttraining's l1: 0.819194\tvalid_1's l1: 1.14228\n",
      "[1000]\ttraining's l1: 0.811024\tvalid_1's l1: 1.14143\n",
      "[1100]\ttraining's l1: 0.806933\tvalid_1's l1: 1.14155\n",
      "Early stopping, best iteration is:\n",
      "[1030]\ttraining's l1: 0.808588\tvalid_1's l1: 1.14112\n"
     ]
    },
    {
     "name": "stderr",
     "output_type": "stream",
     "text": [
      "\u001b[32m[I 2021-07-26 13:40:37,141]\u001b[0m Trial 42 finished with value: -1.1405897059976142 and parameters: {'max_depth': 13, 'min_child_weight': 5, 'subsample': 0.6, 'colsample_bytree': 0.9, 'reg_lambda': 0.13987481900628787, 'reg_alpha': 1.737659579381489, 'feature_fraction': 0.4471507199401061, 'bagging_fraction': 0.7912542599358368, 'bagging_freq': 11, 'num_leaves': 196, 'min_child_samples': 44}. Best is trial 10 with value: -1.13831179461111.\u001b[0m\n"
     ]
    },
    {
     "name": "stdout",
     "output_type": "stream",
     "text": [
      "[LightGBM] [Warning] feature_fraction is set=0.38207377321792413, colsample_bytree=0.8 will be ignored. Current value: feature_fraction=0.38207377321792413\n",
      "[LightGBM] [Warning] bagging_fraction is set=0.675198011211401, subsample=0.5 will be ignored. Current value: bagging_fraction=0.675198011211401\n",
      "[LightGBM] [Warning] bagging_freq is set=10, subsample_freq=0 will be ignored. Current value: bagging_freq=10\n",
      "Training until validation scores don't improve for 100 rounds\n",
      "[100]\ttraining's l1: 0.876655\tvalid_1's l1: 1.19914\n"
     ]
    },
    {
     "name": "stderr",
     "output_type": "stream",
     "text": [
      "\u001b[32m[I 2021-07-26 13:40:43,069]\u001b[0m Trial 43 finished with value: -1.199122674420835 and parameters: {'max_depth': 16, 'min_child_weight': 8, 'subsample': 0.5, 'colsample_bytree': 0.8, 'reg_lambda': 0.6468606496499675, 'reg_alpha': 4.790412165710575, 'feature_fraction': 0.38207377321792413, 'bagging_fraction': 0.675198011211401, 'bagging_freq': 10, 'num_leaves': 59, 'min_child_samples': 57}. Best is trial 10 with value: -1.13831179461111.\u001b[0m\n"
     ]
    },
    {
     "name": "stdout",
     "output_type": "stream",
     "text": [
      "Early stopping, best iteration is:\n",
      "[66]\ttraining's l1: 0.876661\tvalid_1's l1: 1.19914\n",
      "[LightGBM] [Warning] feature_fraction is set=0.4970059199930637, colsample_bytree=0.9 will be ignored. Current value: feature_fraction=0.4970059199930637\n",
      "[LightGBM] [Warning] bagging_fraction is set=0.9281311379341197, subsample=0.5 will be ignored. Current value: bagging_fraction=0.9281311379341197\n",
      "[LightGBM] [Warning] bagging_freq is set=5, subsample_freq=0 will be ignored. Current value: bagging_freq=5\n",
      "Training until validation scores don't improve for 100 rounds\n",
      "[100]\ttraining's l1: 0.84375\tvalid_1's l1: 1.15828\n",
      "[200]\ttraining's l1: 0.839424\tvalid_1's l1: 1.15347\n",
      "[300]\ttraining's l1: 0.83782\tvalid_1's l1: 1.15257\n",
      "[400]\ttraining's l1: 0.835061\tvalid_1's l1: 1.15214\n",
      "[500]\ttraining's l1: 0.830388\tvalid_1's l1: 1.14867\n",
      "[600]\ttraining's l1: 0.822084\tvalid_1's l1: 1.14547\n",
      "[700]\ttraining's l1: 0.815414\tvalid_1's l1: 1.14418\n",
      "[800]\ttraining's l1: 0.807614\tvalid_1's l1: 1.14342\n",
      "[900]\ttraining's l1: 0.802077\tvalid_1's l1: 1.14294\n",
      "[1000]\ttraining's l1: 0.789351\tvalid_1's l1: 1.14126\n",
      "[1100]\ttraining's l1: 0.78027\tvalid_1's l1: 1.1409\n",
      "[1200]\ttraining's l1: 0.770376\tvalid_1's l1: 1.14099\n",
      "Early stopping, best iteration is:\n",
      "[1176]\ttraining's l1: 0.772611\tvalid_1's l1: 1.14052\n"
     ]
    },
    {
     "name": "stderr",
     "output_type": "stream",
     "text": [
      "\u001b[32m[I 2021-07-26 13:41:52,717]\u001b[0m Trial 44 finished with value: -1.1398504617411063 and parameters: {'max_depth': 13, 'min_child_weight': 3, 'subsample': 0.5, 'colsample_bytree': 0.9, 'reg_lambda': 1.7107652708058294, 'reg_alpha': 0.22657414568672446, 'feature_fraction': 0.4970059199930637, 'bagging_fraction': 0.9281311379341197, 'bagging_freq': 5, 'num_leaves': 285, 'min_child_samples': 21}. Best is trial 10 with value: -1.13831179461111.\u001b[0m\n"
     ]
    },
    {
     "name": "stdout",
     "output_type": "stream",
     "text": [
      "[LightGBM] [Warning] feature_fraction is set=0.35332556527004255, colsample_bytree=0.9 will be ignored. Current value: feature_fraction=0.35332556527004255\n",
      "[LightGBM] [Warning] bagging_fraction is set=0.8578057894749768, subsample=0.8 will be ignored. Current value: bagging_fraction=0.8578057894749768\n",
      "[LightGBM] [Warning] bagging_freq is set=8, subsample_freq=0 will be ignored. Current value: bagging_freq=8\n",
      "Training until validation scores don't improve for 100 rounds\n",
      "[100]\ttraining's l1: 0.856168\tvalid_1's l1: 1.16864\n",
      "[200]\ttraining's l1: 0.854451\tvalid_1's l1: 1.16623\n",
      "[300]\ttraining's l1: 0.852486\tvalid_1's l1: 1.16303\n",
      "[400]\ttraining's l1: 0.847462\tvalid_1's l1: 1.15679\n",
      "[500]\ttraining's l1: 0.842045\tvalid_1's l1: 1.15193\n",
      "[600]\ttraining's l1: 0.836922\tvalid_1's l1: 1.14911\n",
      "[700]\ttraining's l1: 0.833187\tvalid_1's l1: 1.1462\n",
      "[800]\ttraining's l1: 0.827503\tvalid_1's l1: 1.14403\n",
      "[900]\ttraining's l1: 0.821613\tvalid_1's l1: 1.14262\n",
      "[1000]\ttraining's l1: 0.817355\tvalid_1's l1: 1.14134\n",
      "[1100]\ttraining's l1: 0.812527\tvalid_1's l1: 1.13932\n",
      "Early stopping, best iteration is:\n",
      "[1062]\ttraining's l1: 0.814274\tvalid_1's l1: 1.13899\n"
     ]
    },
    {
     "name": "stderr",
     "output_type": "stream",
     "text": [
      "\u001b[32m[I 2021-07-26 13:42:37,306]\u001b[0m Trial 45 finished with value: -1.1385762470253944 and parameters: {'max_depth': 20, 'min_child_weight': 6, 'subsample': 0.8, 'colsample_bytree': 0.9, 'reg_lambda': 0.06337039504885016, 'reg_alpha': 0.4561507265353549, 'feature_fraction': 0.35332556527004255, 'bagging_fraction': 0.8578057894749768, 'bagging_freq': 8, 'num_leaves': 162, 'min_child_samples': 37}. Best is trial 10 with value: -1.13831179461111.\u001b[0m\n"
     ]
    },
    {
     "name": "stdout",
     "output_type": "stream",
     "text": [
      "[LightGBM] [Warning] feature_fraction is set=0.35289549133619447, colsample_bytree=0.8 will be ignored. Current value: feature_fraction=0.35289549133619447\n",
      "[LightGBM] [Warning] bagging_fraction is set=0.8796813580177887, subsample=0.9 will be ignored. Current value: bagging_fraction=0.8796813580177887\n",
      "[LightGBM] [Warning] bagging_freq is set=8, subsample_freq=0 will be ignored. Current value: bagging_freq=8\n",
      "Training until validation scores don't improve for 100 rounds\n",
      "[100]\ttraining's l1: 0.858014\tvalid_1's l1: 1.17323\n",
      "[200]\ttraining's l1: 0.855491\tvalid_1's l1: 1.16992\n",
      "[300]\ttraining's l1: 0.851174\tvalid_1's l1: 1.16298\n",
      "[400]\ttraining's l1: 0.846904\tvalid_1's l1: 1.15683\n",
      "[500]\ttraining's l1: 0.842621\tvalid_1's l1: 1.15201\n",
      "[600]\ttraining's l1: 0.835725\tvalid_1's l1: 1.14678\n",
      "[700]\ttraining's l1: 0.830329\tvalid_1's l1: 1.14431\n",
      "[800]\ttraining's l1: 0.825425\tvalid_1's l1: 1.1433\n",
      "[900]\ttraining's l1: 0.819871\tvalid_1's l1: 1.14174\n",
      "[1000]\ttraining's l1: 0.815641\tvalid_1's l1: 1.14166\n",
      "Early stopping, best iteration is:\n",
      "[932]\ttraining's l1: 0.818104\tvalid_1's l1: 1.14098\n"
     ]
    },
    {
     "name": "stderr",
     "output_type": "stream",
     "text": [
      "\u001b[32m[I 2021-07-26 13:43:17,897]\u001b[0m Trial 46 finished with value: -1.1406387765133466 and parameters: {'max_depth': 20, 'min_child_weight': 6, 'subsample': 0.9, 'colsample_bytree': 0.8, 'reg_lambda': 0.05674569110230507, 'reg_alpha': 0.45394953664587245, 'feature_fraction': 0.35289549133619447, 'bagging_fraction': 0.8796813580177887, 'bagging_freq': 8, 'num_leaves': 165, 'min_child_samples': 30}. Best is trial 10 with value: -1.13831179461111.\u001b[0m\n"
     ]
    },
    {
     "name": "stdout",
     "output_type": "stream",
     "text": [
      "[LightGBM] [Warning] feature_fraction is set=0.8321591178105863, colsample_bytree=0.7 will be ignored. Current value: feature_fraction=0.8321591178105863\n",
      "[LightGBM] [Warning] bagging_fraction is set=0.8516411788282853, subsample=0.8 will be ignored. Current value: bagging_fraction=0.8516411788282853\n",
      "[LightGBM] [Warning] bagging_freq is set=10, subsample_freq=0 will be ignored. Current value: bagging_freq=10\n",
      "Training until validation scores don't improve for 100 rounds\n",
      "[100]\ttraining's l1: 0.812642\tvalid_1's l1: 1.14591\n",
      "[200]\ttraining's l1: 0.797641\tvalid_1's l1: 1.14086\n",
      "[300]\ttraining's l1: 0.791848\tvalid_1's l1: 1.14054\n",
      "[400]\ttraining's l1: 0.784737\tvalid_1's l1: 1.14002\n",
      "[500]\ttraining's l1: 0.767944\tvalid_1's l1: 1.1411\n",
      "Early stopping, best iteration is:\n",
      "[437]\ttraining's l1: 0.780307\tvalid_1's l1: 1.13975\n"
     ]
    },
    {
     "name": "stderr",
     "output_type": "stream",
     "text": [
      "\u001b[32m[I 2021-07-26 13:44:02,934]\u001b[0m Trial 47 finished with value: -1.1393634666526946 and parameters: {'max_depth': 19, 'min_child_weight': 2, 'subsample': 0.8, 'colsample_bytree': 0.7, 'reg_lambda': 0.021071092424887066, 'reg_alpha': 0.09840709249014495, 'feature_fraction': 0.8321591178105863, 'bagging_fraction': 0.8516411788282853, 'bagging_freq': 10, 'num_leaves': 898, 'min_child_samples': 36}. Best is trial 10 with value: -1.13831179461111.\u001b[0m\n"
     ]
    },
    {
     "name": "stdout",
     "output_type": "stream",
     "text": [
      "[LightGBM] [Warning] feature_fraction is set=0.2826326160824993, colsample_bytree=0.6 will be ignored. Current value: feature_fraction=0.2826326160824993\n",
      "[LightGBM] [Warning] bagging_fraction is set=0.9625413823107323, subsample=0.8 will be ignored. Current value: bagging_fraction=0.9625413823107323\n",
      "[LightGBM] [Warning] bagging_freq is set=7, subsample_freq=0 will be ignored. Current value: bagging_freq=7\n",
      "Training until validation scores don't improve for 100 rounds\n",
      "[100]\ttraining's l1: 0.866874\tvalid_1's l1: 1.18645\n",
      "[200]\ttraining's l1: 0.866367\tvalid_1's l1: 1.18569\n",
      "[300]\ttraining's l1: 0.863148\tvalid_1's l1: 1.18075\n",
      "[400]\ttraining's l1: 0.857191\tvalid_1's l1: 1.16926\n",
      "[500]\ttraining's l1: 0.852189\tvalid_1's l1: 1.16148\n",
      "[600]\ttraining's l1: 0.84531\tvalid_1's l1: 1.15287\n",
      "[700]\ttraining's l1: 0.840026\tvalid_1's l1: 1.14876\n",
      "[800]\ttraining's l1: 0.833681\tvalid_1's l1: 1.14589\n",
      "[900]\ttraining's l1: 0.829565\tvalid_1's l1: 1.14385\n",
      "[1000]\ttraining's l1: 0.826861\tvalid_1's l1: 1.14294\n",
      "[1100]\ttraining's l1: 0.823766\tvalid_1's l1: 1.14204\n",
      "[1200]\ttraining's l1: 0.816211\tvalid_1's l1: 1.14104\n",
      "[1300]\ttraining's l1: 0.812197\tvalid_1's l1: 1.14132\n",
      "Early stopping, best iteration is:\n",
      "[1281]\ttraining's l1: 0.814006\tvalid_1's l1: 1.14089\n"
     ]
    },
    {
     "name": "stderr",
     "output_type": "stream",
     "text": [
      "\u001b[32m[I 2021-07-26 13:44:52,565]\u001b[0m Trial 48 finished with value: -1.1404285132210914 and parameters: {'max_depth': 20, 'min_child_weight': 8, 'subsample': 0.8, 'colsample_bytree': 0.6, 'reg_lambda': 0.08855601337540062, 'reg_alpha': 0.4629643274426843, 'feature_fraction': 0.2826326160824993, 'bagging_fraction': 0.9625413823107323, 'bagging_freq': 7, 'num_leaves': 119, 'min_child_samples': 27}. Best is trial 10 with value: -1.13831179461111.\u001b[0m\n"
     ]
    },
    {
     "name": "stdout",
     "output_type": "stream",
     "text": [
      "[LightGBM] [Warning] feature_fraction is set=0.43499213992714575, colsample_bytree=0.5 will be ignored. Current value: feature_fraction=0.43499213992714575\n",
      "[LightGBM] [Warning] bagging_fraction is set=0.23841009185699596, subsample=0.8 will be ignored. Current value: bagging_fraction=0.23841009185699596\n",
      "[LightGBM] [Warning] bagging_freq is set=12, subsample_freq=0 will be ignored. Current value: bagging_freq=12\n",
      "Training until validation scores don't improve for 100 rounds\n",
      "[100]\ttraining's l1: 0.849655\tvalid_1's l1: 1.16118\n",
      "[200]\ttraining's l1: 0.847397\tvalid_1's l1: 1.15835\n",
      "[300]\ttraining's l1: 0.842089\tvalid_1's l1: 1.15138\n",
      "[400]\ttraining's l1: 0.835433\tvalid_1's l1: 1.14854\n",
      "[500]\ttraining's l1: 0.830541\tvalid_1's l1: 1.14627\n",
      "Early stopping, best iteration is:\n",
      "[468]\ttraining's l1: 0.831654\tvalid_1's l1: 1.14555\n"
     ]
    },
    {
     "name": "stderr",
     "output_type": "stream",
     "text": [
      "\u001b[32m[I 2021-07-26 13:45:08,037]\u001b[0m Trial 49 finished with value: -1.1449686167673117 and parameters: {'max_depth': 17, 'min_child_weight': 4, 'subsample': 0.8, 'colsample_bytree': 0.5, 'reg_lambda': 0.00782309260512477, 'reg_alpha': 1.6013178321195691, 'feature_fraction': 0.43499213992714575, 'bagging_fraction': 0.23841009185699596, 'bagging_freq': 12, 'num_leaves': 216, 'min_child_samples': 13}. Best is trial 10 with value: -1.13831179461111.\u001b[0m\n"
     ]
    },
    {
     "name": "stdout",
     "output_type": "stream",
     "text": [
      "[LightGBM] [Warning] feature_fraction is set=0.23712805776171925, colsample_bytree=0.8 will be ignored. Current value: feature_fraction=0.23712805776171925\n",
      "[LightGBM] [Warning] bagging_fraction is set=0.9103604792283417, subsample=0.9 will be ignored. Current value: bagging_fraction=0.9103604792283417\n",
      "[LightGBM] [Warning] bagging_freq is set=2, subsample_freq=0 will be ignored. Current value: bagging_freq=2\n",
      "Training until validation scores don't improve for 100 rounds\n",
      "[100]\ttraining's l1: 0.932707\tvalid_1's l1: 1.28914\n",
      "[200]\ttraining's l1: 0.922488\tvalid_1's l1: 1.2686\n",
      "[300]\ttraining's l1: 0.91913\tvalid_1's l1: 1.26121\n",
      "[400]\ttraining's l1: 0.91561\tvalid_1's l1: 1.25392\n",
      "[500]\ttraining's l1: 0.914276\tvalid_1's l1: 1.25096\n",
      "[600]\ttraining's l1: 0.913354\tvalid_1's l1: 1.24857\n",
      "[700]\ttraining's l1: 0.91172\tvalid_1's l1: 1.24466\n",
      "[800]\ttraining's l1: 0.911323\tvalid_1's l1: 1.24388\n",
      "[900]\ttraining's l1: 0.91111\tvalid_1's l1: 1.2433\n",
      "[1000]\ttraining's l1: 0.910719\tvalid_1's l1: 1.24275\n",
      "[1100]\ttraining's l1: 0.910483\tvalid_1's l1: 1.24231\n",
      "[1200]\ttraining's l1: 0.910116\tvalid_1's l1: 1.24147\n",
      "[1300]\ttraining's l1: 0.90995\tvalid_1's l1: 1.2412\n",
      "[1400]\ttraining's l1: 0.909701\tvalid_1's l1: 1.24022\n",
      "[1500]\ttraining's l1: 0.909655\tvalid_1's l1: 1.24017\n",
      "[1600]\ttraining's l1: 0.909571\tvalid_1's l1: 1.24001\n",
      "[1700]\ttraining's l1: 0.909491\tvalid_1's l1: 1.23973\n",
      "[1800]\ttraining's l1: 0.909216\tvalid_1's l1: 1.23886\n",
      "[1900]\ttraining's l1: 0.908813\tvalid_1's l1: 1.23811\n",
      "[2000]\ttraining's l1: 0.908418\tvalid_1's l1: 1.23759\n",
      "[2100]\ttraining's l1: 0.908393\tvalid_1's l1: 1.23757\n",
      "Early stopping, best iteration is:\n",
      "[2018]\ttraining's l1: 0.908412\tvalid_1's l1: 1.23754\n"
     ]
    },
    {
     "name": "stderr",
     "output_type": "stream",
     "text": [
      "\u001b[32m[I 2021-07-26 13:46:12,283]\u001b[0m Trial 50 finished with value: -1.2373502381808654 and parameters: {'max_depth': 2, 'min_child_weight': 7, 'subsample': 0.9, 'colsample_bytree': 0.8, 'reg_lambda': 0.17668705090412176, 'reg_alpha': 0.140254779981589, 'feature_fraction': 0.23712805776171925, 'bagging_fraction': 0.9103604792283417, 'bagging_freq': 2, 'num_leaves': 45, 'min_child_samples': 66}. Best is trial 10 with value: -1.13831179461111.\u001b[0m\n"
     ]
    },
    {
     "name": "stdout",
     "output_type": "stream",
     "text": [
      "[LightGBM] [Warning] feature_fraction is set=0.4265638734863883, colsample_bytree=0.9 will be ignored. Current value: feature_fraction=0.4265638734863883\n",
      "[LightGBM] [Warning] bagging_fraction is set=0.8019230382178993, subsample=0.7 will be ignored. Current value: bagging_fraction=0.8019230382178993\n",
      "[LightGBM] [Warning] bagging_freq is set=8, subsample_freq=0 will be ignored. Current value: bagging_freq=8\n",
      "Training until validation scores don't improve for 100 rounds\n",
      "[100]\ttraining's l1: 0.854337\tvalid_1's l1: 1.16685\n",
      "[200]\ttraining's l1: 0.852796\tvalid_1's l1: 1.16518\n",
      "[300]\ttraining's l1: 0.848667\tvalid_1's l1: 1.15935\n",
      "[400]\ttraining's l1: 0.842517\tvalid_1's l1: 1.15325\n",
      "[500]\ttraining's l1: 0.838642\tvalid_1's l1: 1.14922\n",
      "[600]\ttraining's l1: 0.833936\tvalid_1's l1: 1.14621\n",
      "[700]\ttraining's l1: 0.830716\tvalid_1's l1: 1.14465\n",
      "[800]\ttraining's l1: 0.823419\tvalid_1's l1: 1.14143\n",
      "[900]\ttraining's l1: 0.818815\tvalid_1's l1: 1.14081\n",
      "[1000]\ttraining's l1: 0.81464\tvalid_1's l1: 1.14111\n",
      "Early stopping, best iteration is:\n",
      "[901]\ttraining's l1: 0.818731\tvalid_1's l1: 1.14065\n"
     ]
    },
    {
     "name": "stderr",
     "output_type": "stream",
     "text": [
      "\u001b[32m[I 2021-07-26 13:46:53,259]\u001b[0m Trial 51 finished with value: -1.1403191956863574 and parameters: {'max_depth': 18, 'min_child_weight': 5, 'subsample': 0.7, 'colsample_bytree': 0.9, 'reg_lambda': 0.41908356688797377, 'reg_alpha': 1.405583614612373, 'feature_fraction': 0.4265638734863883, 'bagging_fraction': 0.8019230382178993, 'bagging_freq': 8, 'num_leaves': 179, 'min_child_samples': 46}. Best is trial 10 with value: -1.13831179461111.\u001b[0m\n"
     ]
    },
    {
     "name": "stdout",
     "output_type": "stream",
     "text": [
      "[LightGBM] [Warning] feature_fraction is set=0.3426343532922629, colsample_bytree=0.9 will be ignored. Current value: feature_fraction=0.3426343532922629\n",
      "[LightGBM] [Warning] bagging_fraction is set=0.7411505928397198, subsample=0.6 will be ignored. Current value: bagging_fraction=0.7411505928397198\n",
      "[LightGBM] [Warning] bagging_freq is set=9, subsample_freq=0 will be ignored. Current value: bagging_freq=9\n",
      "Training until validation scores don't improve for 100 rounds\n",
      "[100]\ttraining's l1: 0.837325\tvalid_1's l1: 1.15302\n",
      "[200]\ttraining's l1: 0.832661\tvalid_1's l1: 1.14935\n",
      "[300]\ttraining's l1: 0.830804\tvalid_1's l1: 1.14805\n",
      "[400]\ttraining's l1: 0.825407\tvalid_1's l1: 1.14429\n",
      "[500]\ttraining's l1: 0.821872\tvalid_1's l1: 1.1438\n",
      "[600]\ttraining's l1: 0.81876\tvalid_1's l1: 1.14318\n",
      "[700]\ttraining's l1: 0.815923\tvalid_1's l1: 1.14235\n",
      "[800]\ttraining's l1: 0.812993\tvalid_1's l1: 1.14181\n",
      "Early stopping, best iteration is:\n",
      "[772]\ttraining's l1: 0.813854\tvalid_1's l1: 1.14163\n"
     ]
    },
    {
     "name": "stderr",
     "output_type": "stream",
     "text": [
      "\u001b[32m[I 2021-07-26 13:47:35,124]\u001b[0m Trial 52 finished with value: -1.1411305542301646 and parameters: {'max_depth': 15, 'min_child_weight': 3, 'subsample': 0.6, 'colsample_bytree': 0.9, 'reg_lambda': 0.10827466876572384, 'reg_alpha': 17.279136937868326, 'feature_fraction': 0.3426343532922629, 'bagging_fraction': 0.7411505928397198, 'bagging_freq': 9, 'num_leaves': 391, 'min_child_samples': 41}. Best is trial 10 with value: -1.13831179461111.\u001b[0m\n"
     ]
    },
    {
     "name": "stdout",
     "output_type": "stream",
     "text": [
      "[LightGBM] [Warning] feature_fraction is set=0.36865427014401, colsample_bytree=0.9 will be ignored. Current value: feature_fraction=0.36865427014401\n",
      "[LightGBM] [Warning] bagging_fraction is set=0.7686252939857404, subsample=0.5 will be ignored. Current value: bagging_fraction=0.7686252939857404\n",
      "[LightGBM] [Warning] bagging_freq is set=6, subsample_freq=0 will be ignored. Current value: bagging_freq=6\n",
      "Training until validation scores don't improve for 100 rounds\n",
      "[100]\ttraining's l1: 0.863228\tvalid_1's l1: 1.17888\n",
      "[200]\ttraining's l1: 0.862429\tvalid_1's l1: 1.17772\n",
      "[300]\ttraining's l1: 0.86054\tvalid_1's l1: 1.17547\n",
      "[400]\ttraining's l1: 0.854641\tvalid_1's l1: 1.16675\n",
      "[500]\ttraining's l1: 0.849747\tvalid_1's l1: 1.15975\n",
      "[600]\ttraining's l1: 0.842631\tvalid_1's l1: 1.15327\n",
      "[700]\ttraining's l1: 0.837688\tvalid_1's l1: 1.15016\n",
      "[800]\ttraining's l1: 0.834056\tvalid_1's l1: 1.14814\n",
      "[900]\ttraining's l1: 0.829121\tvalid_1's l1: 1.14432\n",
      "[1000]\ttraining's l1: 0.824645\tvalid_1's l1: 1.14136\n",
      "[1100]\ttraining's l1: 0.821368\tvalid_1's l1: 1.14081\n",
      "Early stopping, best iteration is:\n",
      "[1065]\ttraining's l1: 0.822524\tvalid_1's l1: 1.14035\n"
     ]
    },
    {
     "name": "stderr",
     "output_type": "stream",
     "text": [
      "\u001b[32m[I 2021-07-26 13:48:15,255]\u001b[0m Trial 53 finished with value: -1.1400356193036445 and parameters: {'max_depth': 19, 'min_child_weight': 6, 'subsample': 0.5, 'colsample_bytree': 0.9, 'reg_lambda': 0.9586799623586881, 'reg_alpha': 0.3261779124979742, 'feature_fraction': 0.36865427014401, 'bagging_fraction': 0.7686252939857404, 'bagging_freq': 6, 'num_leaves': 116, 'min_child_samples': 30}. Best is trial 10 with value: -1.13831179461111.\u001b[0m\n"
     ]
    },
    {
     "name": "stdout",
     "output_type": "stream",
     "text": [
      "[LightGBM] [Warning] feature_fraction is set=0.5058743437582186, colsample_bytree=0.9 will be ignored. Current value: feature_fraction=0.5058743437582186\n",
      "[LightGBM] [Warning] bagging_fraction is set=0.708183439647288, subsample=0.8 will be ignored. Current value: bagging_fraction=0.708183439647288\n",
      "[LightGBM] [Warning] bagging_freq is set=10, subsample_freq=0 will be ignored. Current value: bagging_freq=10\n",
      "Training until validation scores don't improve for 100 rounds\n",
      "[100]\ttraining's l1: 0.832614\tvalid_1's l1: 1.14727\n",
      "[200]\ttraining's l1: 0.827262\tvalid_1's l1: 1.14391\n",
      "[300]\ttraining's l1: 0.821265\tvalid_1's l1: 1.14167\n",
      "[400]\ttraining's l1: 0.810565\tvalid_1's l1: 1.13992\n",
      "[500]\ttraining's l1: 0.803864\tvalid_1's l1: 1.13874\n",
      "[600]\ttraining's l1: 0.795768\tvalid_1's l1: 1.13952\n",
      "Early stopping, best iteration is:\n",
      "[526]\ttraining's l1: 0.801725\tvalid_1's l1: 1.1385\n"
     ]
    },
    {
     "name": "stderr",
     "output_type": "stream",
     "text": [
      "\u001b[32m[I 2021-07-26 13:48:52,487]\u001b[0m Trial 54 finished with value: -1.1379365467370732 and parameters: {'max_depth': 18, 'min_child_weight': 5, 'subsample': 0.8, 'colsample_bytree': 0.9, 'reg_lambda': 0.19550599138294253, 'reg_alpha': 0.6189726293866024, 'feature_fraction': 0.5058743437582186, 'bagging_fraction': 0.708183439647288, 'bagging_freq': 10, 'num_leaves': 492, 'min_child_samples': 36}. Best is trial 54 with value: -1.1379365467370732.\u001b[0m\n"
     ]
    },
    {
     "name": "stdout",
     "output_type": "stream",
     "text": [
      "[LightGBM] [Warning] feature_fraction is set=0.5676359761459849, colsample_bytree=0.9 will be ignored. Current value: feature_fraction=0.5676359761459849\n",
      "[LightGBM] [Warning] bagging_fraction is set=0.9758880608344797, subsample=0.8 will be ignored. Current value: bagging_fraction=0.9758880608344797\n",
      "[LightGBM] [Warning] bagging_freq is set=15, subsample_freq=0 will be ignored. Current value: bagging_freq=15\n",
      "Training until validation scores don't improve for 100 rounds\n",
      "[100]\ttraining's l1: 0.817457\tvalid_1's l1: 1.14408\n",
      "[200]\ttraining's l1: 0.806089\tvalid_1's l1: 1.14063\n",
      "[300]\ttraining's l1: 0.797349\tvalid_1's l1: 1.14029\n",
      "Early stopping, best iteration is:\n",
      "[266]\ttraining's l1: 0.79829\tvalid_1's l1: 1.13986\n"
     ]
    },
    {
     "name": "stderr",
     "output_type": "stream",
     "text": [
      "\u001b[32m[I 2021-07-26 13:49:27,096]\u001b[0m Trial 55 finished with value: -1.1395097516330432 and parameters: {'max_depth': 18, 'min_child_weight': 9, 'subsample': 0.8, 'colsample_bytree': 0.9, 'reg_lambda': 0.23925817044484482, 'reg_alpha': 0.04872325989338251, 'feature_fraction': 0.5676359761459849, 'bagging_fraction': 0.9758880608344797, 'bagging_freq': 15, 'num_leaves': 828, 'min_child_samples': 37}. Best is trial 54 with value: -1.1379365467370732.\u001b[0m\n"
     ]
    },
    {
     "name": "stdout",
     "output_type": "stream",
     "text": [
      "[LightGBM] [Warning] feature_fraction is set=0.2904511713071445, colsample_bytree=0.8 will be ignored. Current value: feature_fraction=0.2904511713071445\n",
      "[LightGBM] [Warning] bagging_fraction is set=0.7129054416368473, subsample=0.8 will be ignored. Current value: bagging_fraction=0.7129054416368473\n",
      "[LightGBM] [Warning] bagging_freq is set=12, subsample_freq=0 will be ignored. Current value: bagging_freq=12\n",
      "Training until validation scores don't improve for 100 rounds\n",
      "[100]\ttraining's l1: 0.859941\tvalid_1's l1: 1.17938\n",
      "[200]\ttraining's l1: 0.858097\tvalid_1's l1: 1.17609\n",
      "[300]\ttraining's l1: 0.855838\tvalid_1's l1: 1.17166\n",
      "[400]\ttraining's l1: 0.848979\tvalid_1's l1: 1.16185\n",
      "[500]\ttraining's l1: 0.844104\tvalid_1's l1: 1.15819\n",
      "[600]\ttraining's l1: 0.837445\tvalid_1's l1: 1.15287\n",
      "[700]\ttraining's l1: 0.8328\tvalid_1's l1: 1.15065\n",
      "[800]\ttraining's l1: 0.828796\tvalid_1's l1: 1.14738\n",
      "[900]\ttraining's l1: 0.822777\tvalid_1's l1: 1.14644\n",
      "[1000]\ttraining's l1: 0.820704\tvalid_1's l1: 1.14574\n",
      "[1100]\ttraining's l1: 0.815589\tvalid_1's l1: 1.1436\n",
      "[1200]\ttraining's l1: 0.812597\tvalid_1's l1: 1.14404\n",
      "Early stopping, best iteration is:\n",
      "[1145]\ttraining's l1: 0.813943\tvalid_1's l1: 1.14327\n"
     ]
    },
    {
     "name": "stderr",
     "output_type": "stream",
     "text": [
      "\u001b[32m[I 2021-07-26 13:50:05,258]\u001b[0m Trial 56 finished with value: -1.1425981478572673 and parameters: {'max_depth': 17, 'min_child_weight': 1, 'subsample': 0.8, 'colsample_bytree': 0.8, 'reg_lambda': 0.05321112301316414, 'reg_alpha': 0.8833479310939246, 'feature_fraction': 0.2904511713071445, 'bagging_fraction': 0.7129054416368473, 'bagging_freq': 12, 'num_leaves': 144, 'min_child_samples': 22}. Best is trial 54 with value: -1.1379365467370732.\u001b[0m\n"
     ]
    },
    {
     "name": "stdout",
     "output_type": "stream",
     "text": [
      "[LightGBM] [Warning] feature_fraction is set=0.495796119838657, colsample_bytree=0.8 will be ignored. Current value: feature_fraction=0.495796119838657\n",
      "[LightGBM] [Warning] bagging_fraction is set=0.6505829690562275, subsample=0.8 will be ignored. Current value: bagging_fraction=0.6505829690562275\n",
      "[LightGBM] [Warning] bagging_freq is set=11, subsample_freq=0 will be ignored. Current value: bagging_freq=11\n",
      "Training until validation scores don't improve for 100 rounds\n",
      "[100]\ttraining's l1: 0.83276\tvalid_1's l1: 1.14981\n",
      "[200]\ttraining's l1: 0.826624\tvalid_1's l1: 1.14646\n",
      "[300]\ttraining's l1: 0.820218\tvalid_1's l1: 1.14368\n",
      "[400]\ttraining's l1: 0.810243\tvalid_1's l1: 1.14252\n",
      "Early stopping, best iteration is:\n",
      "[341]\ttraining's l1: 0.81541\tvalid_1's l1: 1.14218\n"
     ]
    },
    {
     "name": "stderr",
     "output_type": "stream",
     "text": [
      "\u001b[32m[I 2021-07-26 13:50:31,362]\u001b[0m Trial 57 finished with value: -1.141807595515755 and parameters: {'max_depth': 20, 'min_child_weight': 4, 'subsample': 0.8, 'colsample_bytree': 0.8, 'reg_lambda': 0.02373039963378261, 'reg_alpha': 0.18319618883838132, 'feature_fraction': 0.495796119838657, 'bagging_fraction': 0.6505829690562275, 'bagging_freq': 11, 'num_leaves': 509, 'min_child_samples': 33}. Best is trial 54 with value: -1.1379365467370732.\u001b[0m\n"
     ]
    },
    {
     "name": "stdout",
     "output_type": "stream",
     "text": [
      "[LightGBM] [Warning] feature_fraction is set=0.7311807680884785, colsample_bytree=0.9 will be ignored. Current value: feature_fraction=0.7311807680884785\n",
      "[LightGBM] [Warning] bagging_fraction is set=0.8318074149815979, subsample=0.9 will be ignored. Current value: bagging_fraction=0.8318074149815979\n",
      "[LightGBM] [Warning] bagging_freq is set=10, subsample_freq=0 will be ignored. Current value: bagging_freq=10\n",
      "Training until validation scores don't improve for 100 rounds\n",
      "[100]\ttraining's l1: 0.869041\tvalid_1's l1: 1.1881\n",
      "[200]\ttraining's l1: 0.8624\tvalid_1's l1: 1.17455\n",
      "[300]\ttraining's l1: 0.860648\tvalid_1's l1: 1.17068\n",
      "[400]\ttraining's l1: 0.859538\tvalid_1's l1: 1.16906\n",
      "[500]\ttraining's l1: 0.858754\tvalid_1's l1: 1.16822\n",
      "[600]\ttraining's l1: 0.857506\tvalid_1's l1: 1.16742\n",
      "[700]\ttraining's l1: 0.856692\tvalid_1's l1: 1.16664\n",
      "Early stopping, best iteration is:\n",
      "[674]\ttraining's l1: 0.85689\tvalid_1's l1: 1.16624\n"
     ]
    },
    {
     "name": "stderr",
     "output_type": "stream",
     "text": [
      "\u001b[32m[I 2021-07-26 13:50:57,663]\u001b[0m Trial 58 finished with value: -1.1660145183868387 and parameters: {'max_depth': 19, 'min_child_weight': 7, 'subsample': 0.9, 'colsample_bytree': 0.9, 'reg_lambda': 2.599654205869, 'reg_alpha': 788.0738485333857, 'feature_fraction': 0.7311807680884785, 'bagging_fraction': 0.8318074149815979, 'bagging_freq': 10, 'num_leaves': 701, 'min_child_samples': 17}. Best is trial 54 with value: -1.1379365467370732.\u001b[0m\n"
     ]
    },
    {
     "name": "stdout",
     "output_type": "stream",
     "text": [
      "[LightGBM] [Warning] feature_fraction is set=0.9600257467509702, colsample_bytree=0.6 will be ignored. Current value: feature_fraction=0.9600257467509702\n",
      "[LightGBM] [Warning] bagging_fraction is set=0.5920603378604161, subsample=0.8 will be ignored. Current value: bagging_fraction=0.5920603378604161\n",
      "[LightGBM] [Warning] bagging_freq is set=1, subsample_freq=0 will be ignored. Current value: bagging_freq=1\n",
      "Training until validation scores don't improve for 100 rounds\n",
      "[100]\ttraining's l1: 0.866181\tvalid_1's l1: 1.18639\n",
      "[200]\ttraining's l1: 0.864048\tvalid_1's l1: 1.182\n",
      "[300]\ttraining's l1: 0.860176\tvalid_1's l1: 1.17307\n",
      "[400]\ttraining's l1: 0.857842\tvalid_1's l1: 1.16573\n"
     ]
    },
    {
     "name": "stderr",
     "output_type": "stream",
     "text": [
      "\u001b[32m[I 2021-07-26 13:51:12,860]\u001b[0m Trial 59 finished with value: -1.1656749797308175 and parameters: {'max_depth': 20, 'min_child_weight': 3, 'subsample': 0.8, 'colsample_bytree': 0.6, 'reg_lambda': 0.24458852618496557, 'reg_alpha': 0.578594237325929, 'feature_fraction': 0.9600257467509702, 'bagging_fraction': 0.5920603378604161, 'bagging_freq': 1, 'num_leaves': 91, 'min_child_samples': 51}. Best is trial 54 with value: -1.1379365467370732.\u001b[0m\n"
     ]
    },
    {
     "name": "stdout",
     "output_type": "stream",
     "text": [
      "Early stopping, best iteration is:\n",
      "[389]\ttraining's l1: 0.857843\tvalid_1's l1: 1.16573\n",
      "[LightGBM] [Warning] feature_fraction is set=0.6860335499584858, colsample_bytree=0.7 will be ignored. Current value: feature_fraction=0.6860335499584858\n",
      "[LightGBM] [Warning] bagging_fraction is set=0.7046471490612998, subsample=0.5 will be ignored. Current value: bagging_fraction=0.7046471490612998\n",
      "[LightGBM] [Warning] bagging_freq is set=4, subsample_freq=0 will be ignored. Current value: bagging_freq=4\n",
      "Training until validation scores don't improve for 100 rounds\n",
      "[100]\ttraining's l1: 0.830318\tvalid_1's l1: 1.1498\n",
      "[200]\ttraining's l1: 0.825081\tvalid_1's l1: 1.14619\n",
      "[300]\ttraining's l1: 0.822251\tvalid_1's l1: 1.14508\n",
      "[400]\ttraining's l1: 0.813725\tvalid_1's l1: 1.14359\n",
      "[500]\ttraining's l1: 0.805476\tvalid_1's l1: 1.14377\n",
      "Early stopping, best iteration is:\n",
      "[452]\ttraining's l1: 0.808877\tvalid_1's l1: 1.14308\n"
     ]
    },
    {
     "name": "stderr",
     "output_type": "stream",
     "text": [
      "\u001b[32m[I 2021-07-26 13:51:45,525]\u001b[0m Trial 60 finished with value: -1.142657025943404 and parameters: {'max_depth': 17, 'min_child_weight': 16, 'subsample': 0.5, 'colsample_bytree': 0.7, 'reg_lambda': 0.11153374489539469, 'reg_alpha': 0.3169579751210813, 'feature_fraction': 0.6860335499584858, 'bagging_fraction': 0.7046471490612998, 'bagging_freq': 4, 'num_leaves': 524, 'min_child_samples': 98}. Best is trial 54 with value: -1.1379365467370732.\u001b[0m\n"
     ]
    },
    {
     "name": "stdout",
     "output_type": "stream",
     "text": [
      "[LightGBM] [Warning] feature_fraction is set=0.5448129980280868, colsample_bytree=0.9 will be ignored. Current value: feature_fraction=0.5448129980280868\n",
      "[LightGBM] [Warning] bagging_fraction is set=0.7556213185899113, subsample=0.7 will be ignored. Current value: bagging_fraction=0.7556213185899113\n",
      "[LightGBM] [Warning] bagging_freq is set=8, subsample_freq=0 will be ignored. Current value: bagging_freq=8\n",
      "Training until validation scores don't improve for 100 rounds\n",
      "[100]\ttraining's l1: 0.850089\tvalid_1's l1: 1.1644\n",
      "[200]\ttraining's l1: 0.846824\tvalid_1's l1: 1.15925\n",
      "[300]\ttraining's l1: 0.842663\tvalid_1's l1: 1.15429\n",
      "[400]\ttraining's l1: 0.838075\tvalid_1's l1: 1.15025\n",
      "[500]\ttraining's l1: 0.832765\tvalid_1's l1: 1.14664\n",
      "[600]\ttraining's l1: 0.828703\tvalid_1's l1: 1.14405\n",
      "[700]\ttraining's l1: 0.824521\tvalid_1's l1: 1.14379\n",
      "[800]\ttraining's l1: 0.819613\tvalid_1's l1: 1.14261\n",
      "[900]\ttraining's l1: 0.815851\tvalid_1's l1: 1.14321\n",
      "Early stopping, best iteration is:\n",
      "[808]\ttraining's l1: 0.819499\tvalid_1's l1: 1.14254\n"
     ]
    },
    {
     "name": "stderr",
     "output_type": "stream",
     "text": [
      "\u001b[32m[I 2021-07-26 13:52:28,675]\u001b[0m Trial 61 finished with value: -1.1421668692285178 and parameters: {'max_depth': 16, 'min_child_weight': 5, 'subsample': 0.7, 'colsample_bytree': 0.9, 'reg_lambda': 0.5849690601092307, 'reg_alpha': 2.7469237081260443, 'feature_fraction': 0.5448129980280868, 'bagging_fraction': 0.7556213185899113, 'bagging_freq': 8, 'num_leaves': 224, 'min_child_samples': 42}. Best is trial 54 with value: -1.1379365467370732.\u001b[0m\n"
     ]
    },
    {
     "name": "stdout",
     "output_type": "stream",
     "text": [
      "[LightGBM] [Warning] feature_fraction is set=0.48773573985679725, colsample_bytree=0.9 will be ignored. Current value: feature_fraction=0.48773573985679725\n",
      "[LightGBM] [Warning] bagging_fraction is set=0.8637108904456235, subsample=0.5 will be ignored. Current value: bagging_fraction=0.8637108904456235\n",
      "[LightGBM] [Warning] bagging_freq is set=7, subsample_freq=0 will be ignored. Current value: bagging_freq=7\n",
      "Training until validation scores don't improve for 100 rounds\n",
      "[100]\ttraining's l1: 0.832484\tvalid_1's l1: 1.14974\n",
      "[200]\ttraining's l1: 0.825485\tvalid_1's l1: 1.14478\n",
      "[300]\ttraining's l1: 0.822253\tvalid_1's l1: 1.14377\n",
      "[400]\ttraining's l1: 0.818566\tvalid_1's l1: 1.143\n",
      "[500]\ttraining's l1: 0.814752\tvalid_1's l1: 1.14282\n",
      "Early stopping, best iteration is:\n",
      "[408]\ttraining's l1: 0.817737\tvalid_1's l1: 1.14251\n"
     ]
    },
    {
     "name": "stderr",
     "output_type": "stream",
     "text": [
      "\u001b[32m[I 2021-07-26 13:52:59,547]\u001b[0m Trial 62 finished with value: -1.1422592878983995 and parameters: {'max_depth': 14, 'min_child_weight': 5, 'subsample': 0.5, 'colsample_bytree': 0.9, 'reg_lambda': 0.03851519504388813, 'reg_alpha': 4.313634614009329, 'feature_fraction': 0.48773573985679725, 'bagging_fraction': 0.8637108904456235, 'bagging_freq': 7, 'num_leaves': 449, 'min_child_samples': 33}. Best is trial 54 with value: -1.1379365467370732.\u001b[0m\n"
     ]
    },
    {
     "name": "stdout",
     "output_type": "stream",
     "text": [
      "[LightGBM] [Warning] feature_fraction is set=0.5194946849551471, colsample_bytree=0.9 will be ignored. Current value: feature_fraction=0.5194946849551471\n",
      "[LightGBM] [Warning] bagging_fraction is set=0.7917074940854805, subsample=0.5 will be ignored. Current value: bagging_fraction=0.7917074940854805\n",
      "[LightGBM] [Warning] bagging_freq is set=6, subsample_freq=0 will be ignored. Current value: bagging_freq=6\n",
      "Training until validation scores don't improve for 100 rounds\n",
      "[100]\ttraining's l1: 0.834876\tvalid_1's l1: 1.15285\n",
      "[200]\ttraining's l1: 0.829981\tvalid_1's l1: 1.14847\n",
      "[300]\ttraining's l1: 0.829351\tvalid_1's l1: 1.1483\n",
      "[400]\ttraining's l1: 0.826763\tvalid_1's l1: 1.1451\n",
      "[500]\ttraining's l1: 0.822341\tvalid_1's l1: 1.14404\n",
      "[600]\ttraining's l1: 0.812301\tvalid_1's l1: 1.14082\n",
      "[700]\ttraining's l1: 0.800169\tvalid_1's l1: 1.14155\n",
      "Early stopping, best iteration is:\n",
      "[638]\ttraining's l1: 0.807579\tvalid_1's l1: 1.14028\n"
     ]
    },
    {
     "name": "stderr",
     "output_type": "stream",
     "text": [
      "\u001b[32m[I 2021-07-26 13:53:37,852]\u001b[0m Trial 63 finished with value: -1.1399232978339293 and parameters: {'max_depth': 11, 'min_child_weight': 2, 'subsample': 0.5, 'colsample_bytree': 0.9, 'reg_lambda': 0.40968294998119276, 'reg_alpha': 2.124910650500431, 'feature_fraction': 0.5194946849551471, 'bagging_fraction': 0.7917074940854805, 'bagging_freq': 6, 'num_leaves': 344, 'min_child_samples': 47}. Best is trial 54 with value: -1.1379365467370732.\u001b[0m\n"
     ]
    },
    {
     "name": "stdout",
     "output_type": "stream",
     "text": [
      "[LightGBM] [Warning] feature_fraction is set=0.5958626774009184, colsample_bytree=0.8 will be ignored. Current value: feature_fraction=0.5958626774009184\n",
      "[LightGBM] [Warning] bagging_fraction is set=0.895312466588929, subsample=0.7 will be ignored. Current value: bagging_fraction=0.895312466588929\n",
      "[LightGBM] [Warning] bagging_freq is set=10, subsample_freq=0 will be ignored. Current value: bagging_freq=10\n",
      "Training until validation scores don't improve for 100 rounds\n",
      "[100]\ttraining's l1: 0.899307\tvalid_1's l1: 1.23451\n",
      "[200]\ttraining's l1: 0.898603\tvalid_1's l1: 1.23317\n",
      "[300]\ttraining's l1: 0.89852\tvalid_1's l1: 1.23304\n",
      "[400]\ttraining's l1: 0.897473\tvalid_1's l1: 1.23148\n",
      "[500]\ttraining's l1: 0.897177\tvalid_1's l1: 1.23099\n",
      "[600]\ttraining's l1: 0.897131\tvalid_1's l1: 1.2309\n",
      "[700]\ttraining's l1: 0.896151\tvalid_1's l1: 1.22921\n"
     ]
    },
    {
     "name": "stderr",
     "output_type": "stream",
     "text": [
      "\u001b[32m[I 2021-07-26 13:54:05,190]\u001b[0m Trial 64 finished with value: -1.2292061386640798 and parameters: {'max_depth': 15, 'min_child_weight': 4, 'subsample': 0.7, 'colsample_bytree': 0.8, 'reg_lambda': 0.19822270132266612, 'reg_alpha': 1.2853332965769555, 'feature_fraction': 0.5958626774009184, 'bagging_fraction': 0.895312466588929, 'bagging_freq': 10, 'num_leaves': 14, 'min_child_samples': 38}. Best is trial 54 with value: -1.1379365467370732.\u001b[0m\n"
     ]
    },
    {
     "name": "stdout",
     "output_type": "stream",
     "text": [
      "Early stopping, best iteration is:\n",
      "[637]\ttraining's l1: 0.896154\tvalid_1's l1: 1.22921\n",
      "[LightGBM] [Warning] feature_fraction is set=0.41486189290371034, colsample_bytree=0.9 will be ignored. Current value: feature_fraction=0.41486189290371034\n",
      "[LightGBM] [Warning] bagging_fraction is set=0.826439653471706, subsample=0.6 will be ignored. Current value: bagging_fraction=0.826439653471706\n",
      "[LightGBM] [Warning] bagging_freq is set=9, subsample_freq=0 will be ignored. Current value: bagging_freq=9\n",
      "Training until validation scores don't improve for 100 rounds\n",
      "[100]\ttraining's l1: 0.843705\tvalid_1's l1: 1.15795\n",
      "[200]\ttraining's l1: 0.838649\tvalid_1's l1: 1.15169\n",
      "[300]\ttraining's l1: 0.833703\tvalid_1's l1: 1.14824\n",
      "[400]\ttraining's l1: 0.827928\tvalid_1's l1: 1.14736\n",
      "[500]\ttraining's l1: 0.822323\tvalid_1's l1: 1.14599\n",
      "[600]\ttraining's l1: 0.814556\tvalid_1's l1: 1.14544\n",
      "[700]\ttraining's l1: 0.808548\tvalid_1's l1: 1.1448\n",
      "[800]\ttraining's l1: 0.799799\tvalid_1's l1: 1.14419\n",
      "Early stopping, best iteration is:\n",
      "[741]\ttraining's l1: 0.803506\tvalid_1's l1: 1.14361\n"
     ]
    },
    {
     "name": "stderr",
     "output_type": "stream",
     "text": [
      "\u001b[32m[I 2021-07-26 13:54:45,694]\u001b[0m Trial 65 finished with value: -1.1430954232785995 and parameters: {'max_depth': 16, 'min_child_weight': 6, 'subsample': 0.6, 'colsample_bytree': 0.9, 'reg_lambda': 0.07410022846567688, 'reg_alpha': 0.653997141389188, 'feature_fraction': 0.41486189290371034, 'bagging_fraction': 0.826439653471706, 'bagging_freq': 9, 'num_leaves': 309, 'min_child_samples': 28}. Best is trial 54 with value: -1.1379365467370732.\u001b[0m\n"
     ]
    },
    {
     "name": "stdout",
     "output_type": "stream",
     "text": [
      "[LightGBM] [Warning] feature_fraction is set=0.775873920575229, colsample_bytree=0.9 will be ignored. Current value: feature_fraction=0.775873920575229\n",
      "[LightGBM] [Warning] bagging_fraction is set=0.9335551427100791, subsample=0.5 will be ignored. Current value: bagging_fraction=0.9335551427100791\n",
      "[LightGBM] [Warning] bagging_freq is set=3, subsample_freq=0 will be ignored. Current value: bagging_freq=3\n",
      "Training until validation scores don't improve for 100 rounds\n",
      "[100]\ttraining's l1: 0.848528\tvalid_1's l1: 1.16575\n",
      "[200]\ttraining's l1: 0.84689\tvalid_1's l1: 1.16259\n",
      "[300]\ttraining's l1: 0.84607\tvalid_1's l1: 1.16227\n",
      "[400]\ttraining's l1: 0.843383\tvalid_1's l1: 1.15769\n",
      "[500]\ttraining's l1: 0.8382\tvalid_1's l1: 1.15242\n",
      "[600]\ttraining's l1: 0.833804\tvalid_1's l1: 1.15045\n",
      "[700]\ttraining's l1: 0.828399\tvalid_1's l1: 1.14757\n",
      "[800]\ttraining's l1: 0.823105\tvalid_1's l1: 1.14549\n",
      "[900]\ttraining's l1: 0.802245\tvalid_1's l1: 1.13974\n",
      "Early stopping, best iteration is:\n",
      "[899]\ttraining's l1: 0.802747\tvalid_1's l1: 1.13952\n"
     ]
    },
    {
     "name": "stderr",
     "output_type": "stream",
     "text": [
      "\u001b[32m[I 2021-07-26 13:55:36,797]\u001b[0m Trial 66 finished with value: -1.1391850031592226 and parameters: {'max_depth': 18, 'min_child_weight': 7, 'subsample': 0.5, 'colsample_bytree': 0.9, 'reg_lambda': 1.024436260538905, 'reg_alpha': 0.0799178690316571, 'feature_fraction': 0.775873920575229, 'bagging_fraction': 0.9335551427100791, 'bagging_freq': 3, 'num_leaves': 246, 'min_child_samples': 24}. Best is trial 54 with value: -1.1379365467370732.\u001b[0m\n"
     ]
    },
    {
     "name": "stdout",
     "output_type": "stream",
     "text": [
      "[LightGBM] [Warning] feature_fraction is set=0.8459987577592489, colsample_bytree=0.8 will be ignored. Current value: feature_fraction=0.8459987577592489\n",
      "[LightGBM] [Warning] bagging_fraction is set=0.49961621954844215, subsample=0.6 will be ignored. Current value: bagging_fraction=0.49961621954844215\n",
      "[LightGBM] [Warning] bagging_freq is set=13, subsample_freq=0 will be ignored. Current value: bagging_freq=13\n",
      "Training until validation scores don't improve for 100 rounds\n",
      "[100]\ttraining's l1: 0.868606\tvalid_1's l1: 1.18754\n",
      "[200]\ttraining's l1: 0.866128\tvalid_1's l1: 1.183\n",
      "[300]\ttraining's l1: 0.864586\tvalid_1's l1: 1.17907\n",
      "[400]\ttraining's l1: 0.859375\tvalid_1's l1: 1.17124\n",
      "[500]\ttraining's l1: 0.855052\tvalid_1's l1: 1.16535\n",
      "[600]\ttraining's l1: 0.850538\tvalid_1's l1: 1.16011\n",
      "[700]\ttraining's l1: 0.847011\tvalid_1's l1: 1.15739\n",
      "[800]\ttraining's l1: 0.844301\tvalid_1's l1: 1.15599\n",
      "[900]\ttraining's l1: 0.841764\tvalid_1's l1: 1.15447\n",
      "[1000]\ttraining's l1: 0.839049\tvalid_1's l1: 1.15104\n",
      "[1100]\ttraining's l1: 0.83672\tvalid_1's l1: 1.14876\n",
      "[1200]\ttraining's l1: 0.835143\tvalid_1's l1: 1.14783\n",
      "[1300]\ttraining's l1: 0.833174\tvalid_1's l1: 1.14772\n",
      "[1400]\ttraining's l1: 0.831211\tvalid_1's l1: 1.14647\n",
      "[1500]\ttraining's l1: 0.830477\tvalid_1's l1: 1.1463\n",
      "[1600]\ttraining's l1: 0.829682\tvalid_1's l1: 1.14604\n",
      "[1700]\ttraining's l1: 0.828578\tvalid_1's l1: 1.14469\n",
      "[1800]\ttraining's l1: 0.827465\tvalid_1's l1: 1.1445\n",
      "[1900]\ttraining's l1: 0.826019\tvalid_1's l1: 1.14369\n",
      "[2000]\ttraining's l1: 0.824393\tvalid_1's l1: 1.14348\n",
      "Early stopping, best iteration is:\n",
      "[1969]\ttraining's l1: 0.824987\tvalid_1's l1: 1.14328\n"
     ]
    },
    {
     "name": "stderr",
     "output_type": "stream",
     "text": [
      "\u001b[32m[I 2021-07-26 13:56:25,056]\u001b[0m Trial 67 finished with value: -1.1426967461277422 and parameters: {'max_depth': 13, 'min_child_weight': 3, 'subsample': 0.6, 'colsample_bytree': 0.8, 'reg_lambda': 0.1244530131025278, 'reg_alpha': 7.847988325674599, 'feature_fraction': 0.8459987577592489, 'bagging_fraction': 0.49961621954844215, 'bagging_freq': 13, 'num_leaves': 84, 'min_child_samples': 43}. Best is trial 54 with value: -1.1379365467370732.\u001b[0m\n"
     ]
    },
    {
     "name": "stdout",
     "output_type": "stream",
     "text": [
      "[LightGBM] [Warning] feature_fraction is set=0.44573147765549737, colsample_bytree=0.9 will be ignored. Current value: feature_fraction=0.44573147765549737\n",
      "[LightGBM] [Warning] bagging_fraction is set=0.6545298496944069, subsample=0.8 will be ignored. Current value: bagging_fraction=0.6545298496944069\n",
      "[LightGBM] [Warning] bagging_freq is set=5, subsample_freq=0 will be ignored. Current value: bagging_freq=5\n",
      "Training until validation scores don't improve for 100 rounds\n",
      "[100]\ttraining's l1: 0.857879\tvalid_1's l1: 1.17059\n",
      "[200]\ttraining's l1: 0.855498\tvalid_1's l1: 1.16697\n",
      "[300]\ttraining's l1: 0.851982\tvalid_1's l1: 1.16213\n",
      "[400]\ttraining's l1: 0.848993\tvalid_1's l1: 1.15815\n",
      "[500]\ttraining's l1: 0.842894\tvalid_1's l1: 1.15326\n",
      "[600]\ttraining's l1: 0.837382\tvalid_1's l1: 1.14815\n",
      "[700]\ttraining's l1: 0.833275\tvalid_1's l1: 1.14547\n",
      "[800]\ttraining's l1: 0.830055\tvalid_1's l1: 1.14518\n",
      "[900]\ttraining's l1: 0.827114\tvalid_1's l1: 1.14329\n",
      "[1000]\ttraining's l1: 0.82309\tvalid_1's l1: 1.14273\n",
      "[1100]\ttraining's l1: 0.818283\tvalid_1's l1: 1.14138\n",
      "[1200]\ttraining's l1: 0.813407\tvalid_1's l1: 1.14087\n",
      "[1300]\ttraining's l1: 0.809901\tvalid_1's l1: 1.14068\n",
      "Early stopping, best iteration is:\n",
      "[1216]\ttraining's l1: 0.812703\tvalid_1's l1: 1.14015\n"
     ]
    },
    {
     "name": "stderr",
     "output_type": "stream",
     "text": [
      "\u001b[32m[I 2021-07-26 13:57:12,777]\u001b[0m Trial 68 finished with value: -1.139645169664016 and parameters: {'max_depth': 18, 'min_child_weight': 11, 'subsample': 0.8, 'colsample_bytree': 0.9, 'reg_lambda': 0.01149317312925275, 'reg_alpha': 0.29858240815554277, 'feature_fraction': 0.44573147765549737, 'bagging_fraction': 0.6545298496944069, 'bagging_freq': 5, 'num_leaves': 153, 'min_child_samples': 38}. Best is trial 54 with value: -1.1379365467370732.\u001b[0m\n"
     ]
    },
    {
     "name": "stdout",
     "output_type": "stream",
     "text": [
      "[LightGBM] [Warning] feature_fraction is set=0.5015243508459327, colsample_bytree=0.9 will be ignored. Current value: feature_fraction=0.5015243508459327\n",
      "[LightGBM] [Warning] bagging_fraction is set=0.7401312719176246, subsample=0.5 will be ignored. Current value: bagging_fraction=0.7401312719176246\n",
      "[LightGBM] [Warning] bagging_freq is set=1, subsample_freq=0 will be ignored. Current value: bagging_freq=1\n",
      "Training until validation scores don't improve for 100 rounds\n",
      "[100]\ttraining's l1: 0.883971\tvalid_1's l1: 1.21422\n",
      "[200]\ttraining's l1: 0.870006\tvalid_1's l1: 1.18894\n",
      "[300]\ttraining's l1: 0.869998\tvalid_1's l1: 1.18894\n"
     ]
    },
    {
     "name": "stderr",
     "output_type": "stream",
     "text": [
      "\u001b[32m[I 2021-07-26 13:57:23,521]\u001b[0m Trial 69 finished with value: -1.1888228485077557 and parameters: {'max_depth': 4, 'min_child_weight': 5, 'subsample': 0.5, 'colsample_bytree': 0.9, 'reg_lambda': 2.5219188836032855, 'reg_alpha': 0.034191612620653, 'feature_fraction': 0.5015243508459327, 'bagging_fraction': 0.7401312719176246, 'bagging_freq': 1, 'num_leaves': 670, 'min_child_samples': 32}. Best is trial 54 with value: -1.1379365467370732.\u001b[0m\n"
     ]
    },
    {
     "name": "stdout",
     "output_type": "stream",
     "text": [
      "Early stopping, best iteration is:\n",
      "[248]\ttraining's l1: 0.870001\tvalid_1's l1: 1.18894\n",
      "[LightGBM] [Warning] feature_fraction is set=0.5472286289996664, colsample_bytree=0.7 will be ignored. Current value: feature_fraction=0.5472286289996664\n",
      "[LightGBM] [Warning] bagging_fraction is set=0.6952181681851528, subsample=0.6 will be ignored. Current value: bagging_fraction=0.6952181681851528\n",
      "[LightGBM] [Warning] bagging_freq is set=11, subsample_freq=0 will be ignored. Current value: bagging_freq=11\n",
      "Training until validation scores don't improve for 100 rounds\n",
      "[100]\ttraining's l1: 0.879439\tvalid_1's l1: 1.20403\n",
      "[200]\ttraining's l1: 0.879213\tvalid_1's l1: 1.2035\n",
      "[300]\ttraining's l1: 0.879078\tvalid_1's l1: 1.20307\n",
      "[400]\ttraining's l1: 0.875703\tvalid_1's l1: 1.19656\n",
      "[500]\ttraining's l1: 0.873202\tvalid_1's l1: 1.19142\n",
      "[600]\ttraining's l1: 0.871293\tvalid_1's l1: 1.18883\n",
      "[700]\ttraining's l1: 0.866032\tvalid_1's l1: 1.17832\n",
      "[800]\ttraining's l1: 0.860457\tvalid_1's l1: 1.16753\n",
      "[900]\ttraining's l1: 0.857189\tvalid_1's l1: 1.1614\n",
      "[1000]\ttraining's l1: 0.854369\tvalid_1's l1: 1.15754\n",
      "[1100]\ttraining's l1: 0.851743\tvalid_1's l1: 1.155\n",
      "[1200]\ttraining's l1: 0.848133\tvalid_1's l1: 1.15154\n",
      "[1300]\ttraining's l1: 0.845043\tvalid_1's l1: 1.14965\n",
      "[1400]\ttraining's l1: 0.842649\tvalid_1's l1: 1.14864\n",
      "[1500]\ttraining's l1: 0.840789\tvalid_1's l1: 1.14718\n",
      "[1600]\ttraining's l1: 0.838912\tvalid_1's l1: 1.14576\n",
      "[1700]\ttraining's l1: 0.838163\tvalid_1's l1: 1.1456\n",
      "[1800]\ttraining's l1: 0.837018\tvalid_1's l1: 1.14485\n",
      "[1900]\ttraining's l1: 0.833841\tvalid_1's l1: 1.14235\n",
      "[2000]\ttraining's l1: 0.832932\tvalid_1's l1: 1.14194\n",
      "Early stopping, best iteration is:\n",
      "[1933]\ttraining's l1: 0.8333\tvalid_1's l1: 1.14187\n"
     ]
    },
    {
     "name": "stderr",
     "output_type": "stream",
     "text": [
      "\u001b[32m[I 2021-07-26 13:58:24,722]\u001b[0m Trial 70 finished with value: -1.141571818247047 and parameters: {'max_depth': 19, 'min_child_weight': 1, 'subsample': 0.6, 'colsample_bytree': 0.7, 'reg_lambda': 0.30817495044882326, 'reg_alpha': 1.1303968127813184, 'feature_fraction': 0.5472286289996664, 'bagging_fraction': 0.6952181681851528, 'bagging_freq': 11, 'num_leaves': 42, 'min_child_samples': 48}. Best is trial 54 with value: -1.1379365467370732.\u001b[0m\n"
     ]
    },
    {
     "name": "stdout",
     "output_type": "stream",
     "text": [
      "[LightGBM] [Warning] feature_fraction is set=0.7783475645095451, colsample_bytree=0.9 will be ignored. Current value: feature_fraction=0.7783475645095451\n",
      "[LightGBM] [Warning] bagging_fraction is set=0.9294325446465234, subsample=0.5 will be ignored. Current value: bagging_fraction=0.9294325446465234\n",
      "[LightGBM] [Warning] bagging_freq is set=3, subsample_freq=0 will be ignored. Current value: bagging_freq=3\n",
      "Training until validation scores don't improve for 100 rounds\n",
      "[100]\ttraining's l1: 0.845553\tvalid_1's l1: 1.16136\n",
      "[200]\ttraining's l1: 0.844918\tvalid_1's l1: 1.16069\n",
      "[300]\ttraining's l1: 0.844154\tvalid_1's l1: 1.15964\n",
      "[400]\ttraining's l1: 0.840553\tvalid_1's l1: 1.15403\n",
      "[500]\ttraining's l1: 0.837202\tvalid_1's l1: 1.15171\n",
      "[600]\ttraining's l1: 0.831378\tvalid_1's l1: 1.14854\n",
      "[700]\ttraining's l1: 0.826908\tvalid_1's l1: 1.14471\n",
      "[800]\ttraining's l1: 0.821555\tvalid_1's l1: 1.14335\n",
      "[900]\ttraining's l1: 0.812014\tvalid_1's l1: 1.14137\n",
      "[1000]\ttraining's l1: 0.798472\tvalid_1's l1: 1.14088\n",
      "[1100]\ttraining's l1: 0.787901\tvalid_1's l1: 1.13983\n",
      "[1200]\ttraining's l1: 0.781534\tvalid_1's l1: 1.13962\n",
      "[1300]\ttraining's l1: 0.778632\tvalid_1's l1: 1.13961\n",
      "[1400]\ttraining's l1: 0.764815\tvalid_1's l1: 1.13849\n",
      "[1500]\ttraining's l1: 0.748544\tvalid_1's l1: 1.13893\n",
      "Early stopping, best iteration is:\n",
      "[1457]\ttraining's l1: 0.754987\tvalid_1's l1: 1.13809\n"
     ]
    },
    {
     "name": "stderr",
     "output_type": "stream",
     "text": [
      "\u001b[32m[I 2021-07-26 13:59:45,254]\u001b[0m Trial 71 finished with value: -1.137341907218929 and parameters: {'max_depth': 17, 'min_child_weight': 7, 'subsample': 0.5, 'colsample_bytree': 0.9, 'reg_lambda': 0.9584403068704692, 'reg_alpha': 0.07428792705868151, 'feature_fraction': 0.7783475645095451, 'bagging_fraction': 0.9294325446465234, 'bagging_freq': 3, 'num_leaves': 252, 'min_child_samples': 21}. Best is trial 71 with value: -1.137341907218929.\u001b[0m\n"
     ]
    },
    {
     "name": "stdout",
     "output_type": "stream",
     "text": [
      "[LightGBM] [Warning] feature_fraction is set=0.7918931047841931, colsample_bytree=0.9 will be ignored. Current value: feature_fraction=0.7918931047841931\n",
      "[LightGBM] [Warning] bagging_fraction is set=0.9809407690512466, subsample=0.5 will be ignored. Current value: bagging_fraction=0.9809407690512466\n",
      "[LightGBM] [Warning] bagging_freq is set=3, subsample_freq=0 will be ignored. Current value: bagging_freq=3\n",
      "Training until validation scores don't improve for 100 rounds\n",
      "[100]\ttraining's l1: 0.851852\tvalid_1's l1: 1.16778\n",
      "[200]\ttraining's l1: 0.850701\tvalid_1's l1: 1.16588\n",
      "[300]\ttraining's l1: 0.849668\tvalid_1's l1: 1.1635\n",
      "[400]\ttraining's l1: 0.848036\tvalid_1's l1: 1.16075\n",
      "[500]\ttraining's l1: 0.844439\tvalid_1's l1: 1.15633\n",
      "[600]\ttraining's l1: 0.83969\tvalid_1's l1: 1.1513\n",
      "[700]\ttraining's l1: 0.834088\tvalid_1's l1: 1.14674\n",
      "[800]\ttraining's l1: 0.825839\tvalid_1's l1: 1.14354\n",
      "[900]\ttraining's l1: 0.819612\tvalid_1's l1: 1.14199\n",
      "[1000]\ttraining's l1: 0.81579\tvalid_1's l1: 1.1416\n",
      "[1100]\ttraining's l1: 0.806957\tvalid_1's l1: 1.13874\n",
      "[1200]\ttraining's l1: 0.799081\tvalid_1's l1: 1.13853\n",
      "[1300]\ttraining's l1: 0.77786\tvalid_1's l1: 1.13537\n",
      "[1400]\ttraining's l1: 0.76237\tvalid_1's l1: 1.13382\n",
      "[1500]\ttraining's l1: 0.756067\tvalid_1's l1: 1.13314\n",
      "[1600]\ttraining's l1: 0.750342\tvalid_1's l1: 1.13353\n",
      "Early stopping, best iteration is:\n",
      "[1535]\ttraining's l1: 0.75507\tvalid_1's l1: 1.13246\n"
     ]
    },
    {
     "name": "stderr",
     "output_type": "stream",
     "text": [
      "\u001b[32m[I 2021-07-26 14:01:07,011]\u001b[0m Trial 72 finished with value: -1.1313144469529637 and parameters: {'max_depth': 17, 'min_child_weight': 9, 'subsample': 0.5, 'colsample_bytree': 0.9, 'reg_lambda': 0.727446634761779, 'reg_alpha': 0.011450233662720778, 'feature_fraction': 0.7918931047841931, 'bagging_fraction': 0.9809407690512466, 'bagging_freq': 3, 'num_leaves': 196, 'min_child_samples': 8}. Best is trial 72 with value: -1.1313144469529637.\u001b[0m\n"
     ]
    },
    {
     "name": "stdout",
     "output_type": "stream",
     "text": [
      "[LightGBM] [Warning] feature_fraction is set=0.7626232507903696, colsample_bytree=0.9 will be ignored. Current value: feature_fraction=0.7626232507903696\n",
      "[LightGBM] [Warning] bagging_fraction is set=0.9725815934528624, subsample=0.5 will be ignored. Current value: bagging_fraction=0.9725815934528624\n",
      "[LightGBM] [Warning] bagging_freq is set=2, subsample_freq=0 will be ignored. Current value: bagging_freq=2\n",
      "Training until validation scores don't improve for 100 rounds\n",
      "[100]\ttraining's l1: 0.853595\tvalid_1's l1: 1.16942\n",
      "[200]\ttraining's l1: 0.851825\tvalid_1's l1: 1.16672\n",
      "[300]\ttraining's l1: 0.850728\tvalid_1's l1: 1.16544\n",
      "[400]\ttraining's l1: 0.847552\tvalid_1's l1: 1.16025\n",
      "[500]\ttraining's l1: 0.841982\tvalid_1's l1: 1.1525\n",
      "[600]\ttraining's l1: 0.839877\tvalid_1's l1: 1.15159\n",
      "[700]\ttraining's l1: 0.832764\tvalid_1's l1: 1.14933\n",
      "[800]\ttraining's l1: 0.827472\tvalid_1's l1: 1.14658\n",
      "[900]\ttraining's l1: 0.823267\tvalid_1's l1: 1.14467\n",
      "[1000]\ttraining's l1: 0.813397\tvalid_1's l1: 1.14069\n",
      "[1100]\ttraining's l1: 0.793848\tvalid_1's l1: 1.13857\n",
      "[1200]\ttraining's l1: 0.788929\tvalid_1's l1: 1.13758\n",
      "[1300]\ttraining's l1: 0.780752\tvalid_1's l1: 1.13564\n",
      "Early stopping, best iteration is:\n",
      "[1281]\ttraining's l1: 0.780942\tvalid_1's l1: 1.13542\n"
     ]
    },
    {
     "name": "stderr",
     "output_type": "stream",
     "text": [
      "\u001b[32m[I 2021-07-26 14:02:18,408]\u001b[0m Trial 73 finished with value: -1.1350592829115396 and parameters: {'max_depth': 17, 'min_child_weight': 9, 'subsample': 0.5, 'colsample_bytree': 0.9, 'reg_lambda': 0.6757472145247462, 'reg_alpha': 0.008569615324945438, 'feature_fraction': 0.7626232507903696, 'bagging_fraction': 0.9725815934528624, 'bagging_freq': 2, 'num_leaves': 191, 'min_child_samples': 8}. Best is trial 72 with value: -1.1313144469529637.\u001b[0m\n"
     ]
    },
    {
     "name": "stdout",
     "output_type": "stream",
     "text": [
      "[LightGBM] [Warning] feature_fraction is set=0.8102915236593892, colsample_bytree=0.9 will be ignored. Current value: feature_fraction=0.8102915236593892\n",
      "[LightGBM] [Warning] bagging_fraction is set=0.9758981612546629, subsample=0.5 will be ignored. Current value: bagging_fraction=0.9758981612546629\n",
      "[LightGBM] [Warning] bagging_freq is set=3, subsample_freq=0 will be ignored. Current value: bagging_freq=3\n",
      "Training until validation scores don't improve for 100 rounds\n",
      "[100]\ttraining's l1: 0.867213\tvalid_1's l1: 1.18815\n",
      "[200]\ttraining's l1: 0.865966\tvalid_1's l1: 1.18576\n",
      "[300]\ttraining's l1: 0.863639\tvalid_1's l1: 1.18144\n",
      "[400]\ttraining's l1: 0.859868\tvalid_1's l1: 1.1742\n",
      "[500]\ttraining's l1: 0.855145\tvalid_1's l1: 1.16622\n",
      "[600]\ttraining's l1: 0.848987\tvalid_1's l1: 1.15941\n",
      "[700]\ttraining's l1: 0.845673\tvalid_1's l1: 1.15518\n",
      "[800]\ttraining's l1: 0.842118\tvalid_1's l1: 1.15308\n",
      "[900]\ttraining's l1: 0.837622\tvalid_1's l1: 1.14775\n",
      "[1000]\ttraining's l1: 0.833499\tvalid_1's l1: 1.1461\n",
      "[1100]\ttraining's l1: 0.829933\tvalid_1's l1: 1.1455\n",
      "[1200]\ttraining's l1: 0.823016\tvalid_1's l1: 1.14481\n",
      "[1300]\ttraining's l1: 0.820095\tvalid_1's l1: 1.14407\n",
      "[1400]\ttraining's l1: 0.816221\tvalid_1's l1: 1.14303\n",
      "[1500]\ttraining's l1: 0.807366\tvalid_1's l1: 1.14115\n",
      "[1600]\ttraining's l1: 0.805024\tvalid_1's l1: 1.14092\n",
      "[1700]\ttraining's l1: 0.795095\tvalid_1's l1: 1.13769\n",
      "[1800]\ttraining's l1: 0.787515\tvalid_1's l1: 1.13759\n",
      "[1900]\ttraining's l1: 0.780307\tvalid_1's l1: 1.13558\n",
      "[2000]\ttraining's l1: 0.77661\tvalid_1's l1: 1.13454\n",
      "[2100]\ttraining's l1: 0.761449\tvalid_1's l1: 1.13413\n",
      "Early stopping, best iteration is:\n",
      "[2061]\ttraining's l1: 0.767889\tvalid_1's l1: 1.13393\n"
     ]
    },
    {
     "name": "stderr",
     "output_type": "stream",
     "text": [
      "\u001b[32m[I 2021-07-26 14:03:46,021]\u001b[0m Trial 74 finished with value: -1.1333032379838843 and parameters: {'max_depth': 17, 'min_child_weight': 9, 'subsample': 0.5, 'colsample_bytree': 0.9, 'reg_lambda': 1.6770440227967136, 'reg_alpha': 0.005576879573944976, 'feature_fraction': 0.8102915236593892, 'bagging_fraction': 0.9758981612546629, 'bagging_freq': 3, 'num_leaves': 101, 'min_child_samples': 8}. Best is trial 72 with value: -1.1313144469529637.\u001b[0m\n"
     ]
    },
    {
     "name": "stdout",
     "output_type": "stream",
     "text": [
      "[LightGBM] [Warning] feature_fraction is set=0.8083898988903174, colsample_bytree=0.9 will be ignored. Current value: feature_fraction=0.8083898988903174\n",
      "[LightGBM] [Warning] bagging_fraction is set=0.9802319682888988, subsample=0.5 will be ignored. Current value: bagging_fraction=0.9802319682888988\n",
      "[LightGBM] [Warning] bagging_freq is set=3, subsample_freq=0 will be ignored. Current value: bagging_freq=3\n",
      "Training until validation scores don't improve for 100 rounds\n",
      "[100]\ttraining's l1: 0.864909\tvalid_1's l1: 1.18502\n",
      "[200]\ttraining's l1: 0.864514\tvalid_1's l1: 1.18411\n",
      "[300]\ttraining's l1: 0.863047\tvalid_1's l1: 1.18056\n",
      "[400]\ttraining's l1: 0.861296\tvalid_1's l1: 1.17678\n",
      "[500]\ttraining's l1: 0.858401\tvalid_1's l1: 1.17171\n",
      "[600]\ttraining's l1: 0.854199\tvalid_1's l1: 1.16688\n",
      "[700]\ttraining's l1: 0.850092\tvalid_1's l1: 1.16201\n",
      "[800]\ttraining's l1: 0.848785\tvalid_1's l1: 1.16026\n",
      "[900]\ttraining's l1: 0.841741\tvalid_1's l1: 1.15382\n",
      "[1000]\ttraining's l1: 0.837776\tvalid_1's l1: 1.15047\n",
      "[1100]\ttraining's l1: 0.831746\tvalid_1's l1: 1.1487\n",
      "[1200]\ttraining's l1: 0.827004\tvalid_1's l1: 1.14716\n",
      "[1300]\ttraining's l1: 0.823391\tvalid_1's l1: 1.14593\n",
      "[1400]\ttraining's l1: 0.81773\tvalid_1's l1: 1.14448\n",
      "[1500]\ttraining's l1: 0.812373\tvalid_1's l1: 1.14122\n",
      "[1600]\ttraining's l1: 0.804772\tvalid_1's l1: 1.13784\n",
      "[1700]\ttraining's l1: 0.797302\tvalid_1's l1: 1.13735\n",
      "[1800]\ttraining's l1: 0.793541\tvalid_1's l1: 1.13636\n",
      "Early stopping, best iteration is:\n",
      "[1731]\ttraining's l1: 0.795412\tvalid_1's l1: 1.13596\n"
     ]
    },
    {
     "name": "stderr",
     "output_type": "stream",
     "text": [
      "\u001b[32m[I 2021-07-26 14:05:01,590]\u001b[0m Trial 75 finished with value: -1.1354917742345998 and parameters: {'max_depth': 17, 'min_child_weight': 9, 'subsample': 0.5, 'colsample_bytree': 0.9, 'reg_lambda': 4.511898552496061, 'reg_alpha': 0.0020360254791538545, 'feature_fraction': 0.8083898988903174, 'bagging_fraction': 0.9802319682888988, 'bagging_freq': 3, 'num_leaves': 105, 'min_child_samples': 10}. Best is trial 72 with value: -1.1313144469529637.\u001b[0m\n"
     ]
    },
    {
     "name": "stdout",
     "output_type": "stream",
     "text": [
      "[LightGBM] [Warning] feature_fraction is set=0.8141218675290319, colsample_bytree=0.9 will be ignored. Current value: feature_fraction=0.8141218675290319\n",
      "[LightGBM] [Warning] bagging_fraction is set=0.9781011237188826, subsample=0.5 will be ignored. Current value: bagging_fraction=0.9781011237188826\n",
      "[LightGBM] [Warning] bagging_freq is set=2, subsample_freq=0 will be ignored. Current value: bagging_freq=2\n",
      "Training until validation scores don't improve for 100 rounds\n",
      "[100]\ttraining's l1: 0.865926\tvalid_1's l1: 1.1871\n",
      "[200]\ttraining's l1: 0.865435\tvalid_1's l1: 1.18636\n",
      "[300]\ttraining's l1: 0.86241\tvalid_1's l1: 1.18159\n",
      "[400]\ttraining's l1: 0.858451\tvalid_1's l1: 1.17334\n",
      "[500]\ttraining's l1: 0.853938\tvalid_1's l1: 1.16391\n",
      "[600]\ttraining's l1: 0.852508\tvalid_1's l1: 1.16268\n",
      "[700]\ttraining's l1: 0.846805\tvalid_1's l1: 1.15537\n",
      "[800]\ttraining's l1: 0.844114\tvalid_1's l1: 1.15329\n",
      "[900]\ttraining's l1: 0.841559\tvalid_1's l1: 1.15063\n",
      "[1000]\ttraining's l1: 0.835909\tvalid_1's l1: 1.14598\n",
      "[1100]\ttraining's l1: 0.832087\tvalid_1's l1: 1.14561\n",
      "[1200]\ttraining's l1: 0.829105\tvalid_1's l1: 1.14411\n",
      "[1300]\ttraining's l1: 0.827039\tvalid_1's l1: 1.14379\n",
      "Early stopping, best iteration is:\n",
      "[1249]\ttraining's l1: 0.827458\tvalid_1's l1: 1.14356\n"
     ]
    },
    {
     "name": "stderr",
     "output_type": "stream",
     "text": [
      "\u001b[32m[I 2021-07-26 14:06:03,502]\u001b[0m Trial 76 finished with value: -1.1433153390383652 and parameters: {'max_depth': 17, 'min_child_weight': 9, 'subsample': 0.5, 'colsample_bytree': 0.9, 'reg_lambda': 30.53525447835814, 'reg_alpha': 0.006775395157333224, 'feature_fraction': 0.8141218675290319, 'bagging_fraction': 0.9781011237188826, 'bagging_freq': 2, 'num_leaves': 101, 'min_child_samples': 9}. Best is trial 72 with value: -1.1313144469529637.\u001b[0m\n"
     ]
    },
    {
     "name": "stdout",
     "output_type": "stream",
     "text": [
      "[LightGBM] [Warning] feature_fraction is set=0.7585913583461288, colsample_bytree=0.9 will be ignored. Current value: feature_fraction=0.7585913583461288\n",
      "[LightGBM] [Warning] bagging_fraction is set=0.9961313097534472, subsample=0.5 will be ignored. Current value: bagging_fraction=0.9961313097534472\n",
      "[LightGBM] [Warning] bagging_freq is set=3, subsample_freq=0 will be ignored. Current value: bagging_freq=3\n",
      "Training until validation scores don't improve for 100 rounds\n",
      "[100]\ttraining's l1: 0.852752\tvalid_1's l1: 1.16574\n",
      "[200]\ttraining's l1: 0.850188\tvalid_1's l1: 1.16192\n",
      "[300]\ttraining's l1: 0.849169\tvalid_1's l1: 1.1608\n",
      "[400]\ttraining's l1: 0.844169\tvalid_1's l1: 1.15582\n",
      "[500]\ttraining's l1: 0.841612\tvalid_1's l1: 1.15314\n",
      "[600]\ttraining's l1: 0.838965\tvalid_1's l1: 1.15129\n",
      "[700]\ttraining's l1: 0.834656\tvalid_1's l1: 1.14672\n",
      "[800]\ttraining's l1: 0.829062\tvalid_1's l1: 1.14399\n",
      "[900]\ttraining's l1: 0.826207\tvalid_1's l1: 1.14149\n",
      "Early stopping, best iteration is:\n",
      "[896]\ttraining's l1: 0.826212\tvalid_1's l1: 1.14148\n"
     ]
    },
    {
     "name": "stderr",
     "output_type": "stream",
     "text": [
      "\u001b[32m[I 2021-07-26 14:06:52,634]\u001b[0m Trial 77 finished with value: -1.1412856447001212 and parameters: {'max_depth': 17, 'min_child_weight': 10, 'subsample': 0.5, 'colsample_bytree': 0.9, 'reg_lambda': 6.4291488046495315, 'reg_alpha': 0.0018216727543347532, 'feature_fraction': 0.7585913583461288, 'bagging_fraction': 0.9961313097534472, 'bagging_freq': 3, 'num_leaves': 196, 'min_child_samples': 5}. Best is trial 72 with value: -1.1313144469529637.\u001b[0m\n"
     ]
    },
    {
     "name": "stdout",
     "output_type": "stream",
     "text": [
      "[LightGBM] [Warning] feature_fraction is set=0.7177062116073809, colsample_bytree=0.9 will be ignored. Current value: feature_fraction=0.7177062116073809\n",
      "[LightGBM] [Warning] bagging_fraction is set=0.930075551011833, subsample=0.5 will be ignored. Current value: bagging_fraction=0.930075551011833\n",
      "[LightGBM] [Warning] bagging_freq is set=3, subsample_freq=0 will be ignored. Current value: bagging_freq=3\n",
      "Training until validation scores don't improve for 100 rounds\n",
      "[100]\ttraining's l1: 0.87545\tvalid_1's l1: 1.19997\n",
      "[200]\ttraining's l1: 0.873626\tvalid_1's l1: 1.19617\n",
      "[300]\ttraining's l1: 0.870783\tvalid_1's l1: 1.19019\n",
      "[400]\ttraining's l1: 0.866087\tvalid_1's l1: 1.18376\n",
      "[500]\ttraining's l1: 0.861488\tvalid_1's l1: 1.17498\n",
      "[600]\ttraining's l1: 0.860095\tvalid_1's l1: 1.1728\n",
      "[700]\ttraining's l1: 0.857591\tvalid_1's l1: 1.16928\n",
      "[800]\ttraining's l1: 0.853091\tvalid_1's l1: 1.16246\n",
      "[900]\ttraining's l1: 0.850915\tvalid_1's l1: 1.15963\n",
      "[1000]\ttraining's l1: 0.846643\tvalid_1's l1: 1.15507\n",
      "[1100]\ttraining's l1: 0.842621\tvalid_1's l1: 1.1516\n",
      "[1200]\ttraining's l1: 0.840597\tvalid_1's l1: 1.15068\n",
      "Early stopping, best iteration is:\n",
      "[1150]\ttraining's l1: 0.840989\tvalid_1's l1: 1.15006\n"
     ]
    },
    {
     "name": "stderr",
     "output_type": "stream",
     "text": [
      "\u001b[32m[I 2021-07-26 14:07:38,497]\u001b[0m Trial 78 finished with value: -1.1498732512658367 and parameters: {'max_depth': 16, 'min_child_weight': 11, 'subsample': 0.5, 'colsample_bytree': 0.9, 'reg_lambda': 2.1425364005057856, 'reg_alpha': 0.0021741019151993246, 'feature_fraction': 0.7177062116073809, 'bagging_fraction': 0.930075551011833, 'bagging_freq': 3, 'num_leaves': 66, 'min_child_samples': 15}. Best is trial 72 with value: -1.1313144469529637.\u001b[0m\n"
     ]
    },
    {
     "name": "stdout",
     "output_type": "stream",
     "text": [
      "[LightGBM] [Warning] feature_fraction is set=0.7585586857448028, colsample_bytree=0.9 will be ignored. Current value: feature_fraction=0.7585586857448028\n",
      "[LightGBM] [Warning] bagging_fraction is set=0.972017240732285, subsample=0.5 will be ignored. Current value: bagging_fraction=0.972017240732285\n",
      "[LightGBM] [Warning] bagging_freq is set=4, subsample_freq=0 will be ignored. Current value: bagging_freq=4\n",
      "Training until validation scores don't improve for 100 rounds\n",
      "[100]\ttraining's l1: 0.844381\tvalid_1's l1: 1.1598\n",
      "[200]\ttraining's l1: 0.841936\tvalid_1's l1: 1.15707\n",
      "[300]\ttraining's l1: 0.841183\tvalid_1's l1: 1.15589\n",
      "[400]\ttraining's l1: 0.838652\tvalid_1's l1: 1.15335\n",
      "[500]\ttraining's l1: 0.83577\tvalid_1's l1: 1.15098\n",
      "[600]\ttraining's l1: 0.830186\tvalid_1's l1: 1.14663\n",
      "[700]\ttraining's l1: 0.824693\tvalid_1's l1: 1.14449\n",
      "[800]\ttraining's l1: 0.81977\tvalid_1's l1: 1.14305\n",
      "[900]\ttraining's l1: 0.811447\tvalid_1's l1: 1.1454\n",
      "Early stopping, best iteration is:\n",
      "[863]\ttraining's l1: 0.814647\tvalid_1's l1: 1.14069\n"
     ]
    },
    {
     "name": "stderr",
     "output_type": "stream",
     "text": [
      "\u001b[32m[I 2021-07-26 14:08:28,906]\u001b[0m Trial 79 finished with value: -1.1404423343650614 and parameters: {'max_depth': 18, 'min_child_weight': 9, 'subsample': 0.5, 'colsample_bytree': 0.9, 'reg_lambda': 16.754196225677777, 'reg_alpha': 0.012821490287230654, 'feature_fraction': 0.7585586857448028, 'bagging_fraction': 0.972017240732285, 'bagging_freq': 4, 'num_leaves': 285, 'min_child_samples': 8}. Best is trial 72 with value: -1.1313144469529637.\u001b[0m\n"
     ]
    },
    {
     "name": "stdout",
     "output_type": "stream",
     "text": [
      "[LightGBM] [Warning] feature_fraction is set=0.818721764297273, colsample_bytree=0.9 will be ignored. Current value: feature_fraction=0.818721764297273\n",
      "[LightGBM] [Warning] bagging_fraction is set=0.9516736777380683, subsample=0.5 will be ignored. Current value: bagging_fraction=0.9516736777380683\n",
      "[LightGBM] [Warning] bagging_freq is set=2, subsample_freq=0 will be ignored. Current value: bagging_freq=2\n",
      "Training until validation scores don't improve for 100 rounds\n",
      "[100]\ttraining's l1: 0.860432\tvalid_1's l1: 1.17825\n",
      "[200]\ttraining's l1: 0.859791\tvalid_1's l1: 1.17701\n",
      "[300]\ttraining's l1: 0.858607\tvalid_1's l1: 1.17515\n",
      "[400]\ttraining's l1: 0.852897\tvalid_1's l1: 1.16706\n",
      "[500]\ttraining's l1: 0.845785\tvalid_1's l1: 1.15735\n",
      "[600]\ttraining's l1: 0.841364\tvalid_1's l1: 1.15294\n",
      "[700]\ttraining's l1: 0.838339\tvalid_1's l1: 1.14998\n",
      "[800]\ttraining's l1: 0.833704\tvalid_1's l1: 1.14703\n",
      "[900]\ttraining's l1: 0.82919\tvalid_1's l1: 1.14469\n",
      "[1000]\ttraining's l1: 0.820613\tvalid_1's l1: 1.14259\n",
      "[1100]\ttraining's l1: 0.812982\tvalid_1's l1: 1.1417\n",
      "[1200]\ttraining's l1: 0.809883\tvalid_1's l1: 1.14037\n",
      "[1300]\ttraining's l1: 0.806494\tvalid_1's l1: 1.13904\n",
      "[1400]\ttraining's l1: 0.799089\tvalid_1's l1: 1.13837\n",
      "[1500]\ttraining's l1: 0.796165\tvalid_1's l1: 1.13881\n",
      "Early stopping, best iteration is:\n",
      "[1418]\ttraining's l1: 0.797861\tvalid_1's l1: 1.13808\n"
     ]
    },
    {
     "name": "stderr",
     "output_type": "stream",
     "text": [
      "\u001b[32m[I 2021-07-26 14:09:40,695]\u001b[0m Trial 80 finished with value: -1.137588961924707 and parameters: {'max_depth': 19, 'min_child_weight': 8, 'subsample': 0.5, 'colsample_bytree': 0.9, 'reg_lambda': 4.295324581598072, 'reg_alpha': 0.005672828563781628, 'feature_fraction': 0.818721764297273, 'bagging_fraction': 0.9516736777380683, 'bagging_freq': 2, 'num_leaves': 136, 'min_child_samples': 12}. Best is trial 72 with value: -1.1313144469529637.\u001b[0m\n"
     ]
    },
    {
     "name": "stdout",
     "output_type": "stream",
     "text": [
      "[LightGBM] [Warning] feature_fraction is set=0.8168458259205135, colsample_bytree=0.9 will be ignored. Current value: feature_fraction=0.8168458259205135\n",
      "[LightGBM] [Warning] bagging_fraction is set=0.9419280728835929, subsample=0.5 will be ignored. Current value: bagging_fraction=0.9419280728835929\n",
      "[LightGBM] [Warning] bagging_freq is set=2, subsample_freq=0 will be ignored. Current value: bagging_freq=2\n",
      "Training until validation scores don't improve for 100 rounds\n",
      "[100]\ttraining's l1: 0.859588\tvalid_1's l1: 1.17687\n",
      "[200]\ttraining's l1: 0.859082\tvalid_1's l1: 1.17606\n",
      "[300]\ttraining's l1: 0.857594\tvalid_1's l1: 1.17327\n",
      "[400]\ttraining's l1: 0.852558\tvalid_1's l1: 1.16461\n",
      "[500]\ttraining's l1: 0.848984\tvalid_1's l1: 1.1606\n",
      "[600]\ttraining's l1: 0.843358\tvalid_1's l1: 1.15461\n",
      "[700]\ttraining's l1: 0.836283\tvalid_1's l1: 1.14915\n",
      "[800]\ttraining's l1: 0.832364\tvalid_1's l1: 1.14828\n",
      "[900]\ttraining's l1: 0.829328\tvalid_1's l1: 1.14562\n",
      "[1000]\ttraining's l1: 0.822482\tvalid_1's l1: 1.14264\n",
      "[1100]\ttraining's l1: 0.815454\tvalid_1's l1: 1.14012\n",
      "[1200]\ttraining's l1: 0.810559\tvalid_1's l1: 1.13818\n",
      "[1300]\ttraining's l1: 0.808519\tvalid_1's l1: 1.13814\n",
      "Early stopping, best iteration is:\n",
      "[1255]\ttraining's l1: 0.809369\tvalid_1's l1: 1.13795\n"
     ]
    },
    {
     "name": "stderr",
     "output_type": "stream",
     "text": [
      "\u001b[32m[I 2021-07-26 14:10:44,723]\u001b[0m Trial 81 finished with value: -1.1376042949895049 and parameters: {'max_depth': 19, 'min_child_weight': 8, 'subsample': 0.5, 'colsample_bytree': 0.9, 'reg_lambda': 3.9829497743224276, 'reg_alpha': 0.004070741689903112, 'feature_fraction': 0.8168458259205135, 'bagging_fraction': 0.9419280728835929, 'bagging_freq': 2, 'num_leaves': 146, 'min_child_samples': 11}. Best is trial 72 with value: -1.1313144469529637.\u001b[0m\n"
     ]
    },
    {
     "name": "stdout",
     "output_type": "stream",
     "text": [
      "[LightGBM] [Warning] feature_fraction is set=0.8086415627265384, colsample_bytree=0.9 will be ignored. Current value: feature_fraction=0.8086415627265384\n",
      "[LightGBM] [Warning] bagging_fraction is set=0.9458405572855205, subsample=0.5 will be ignored. Current value: bagging_fraction=0.9458405572855205\n",
      "[LightGBM] [Warning] bagging_freq is set=2, subsample_freq=0 will be ignored. Current value: bagging_freq=2\n",
      "Training until validation scores don't improve for 100 rounds\n",
      "[100]\ttraining's l1: 0.859764\tvalid_1's l1: 1.17666\n",
      "[200]\ttraining's l1: 0.858207\tvalid_1's l1: 1.17215\n",
      "[300]\ttraining's l1: 0.85693\tvalid_1's l1: 1.17044\n",
      "[400]\ttraining's l1: 0.851241\tvalid_1's l1: 1.16061\n",
      "[500]\ttraining's l1: 0.847413\tvalid_1's l1: 1.15646\n",
      "[600]\ttraining's l1: 0.843422\tvalid_1's l1: 1.15344\n",
      "[700]\ttraining's l1: 0.840789\tvalid_1's l1: 1.15111\n",
      "[800]\ttraining's l1: 0.836415\tvalid_1's l1: 1.14843\n",
      "[900]\ttraining's l1: 0.834011\tvalid_1's l1: 1.14704\n",
      "[1000]\ttraining's l1: 0.830651\tvalid_1's l1: 1.14603\n",
      "[1100]\ttraining's l1: 0.825064\tvalid_1's l1: 1.14319\n",
      "[1200]\ttraining's l1: 0.822724\tvalid_1's l1: 1.14301\n",
      "[1300]\ttraining's l1: 0.82123\tvalid_1's l1: 1.14248\n",
      "[1400]\ttraining's l1: 0.817886\tvalid_1's l1: 1.14166\n",
      "[1500]\ttraining's l1: 0.812463\tvalid_1's l1: 1.1405\n",
      "[1600]\ttraining's l1: 0.804107\tvalid_1's l1: 1.13886\n",
      "[1700]\ttraining's l1: 0.802065\tvalid_1's l1: 1.13879\n",
      "Early stopping, best iteration is:\n",
      "[1645]\ttraining's l1: 0.802864\tvalid_1's l1: 1.1387\n"
     ]
    },
    {
     "name": "stderr",
     "output_type": "stream",
     "text": [
      "\u001b[32m[I 2021-07-26 14:12:07,439]\u001b[0m Trial 82 finished with value: -1.1382831348051026 and parameters: {'max_depth': 19, 'min_child_weight': 8, 'subsample': 0.5, 'colsample_bytree': 0.9, 'reg_lambda': 28.791226057678504, 'reg_alpha': 0.004581262062045659, 'feature_fraction': 0.8086415627265384, 'bagging_fraction': 0.9458405572855205, 'bagging_freq': 2, 'num_leaves': 141, 'min_child_samples': 11}. Best is trial 72 with value: -1.1313144469529637.\u001b[0m\n"
     ]
    },
    {
     "name": "stdout",
     "output_type": "stream",
     "text": [
      "[LightGBM] [Warning] feature_fraction is set=0.86401130509387, colsample_bytree=0.9 will be ignored. Current value: feature_fraction=0.86401130509387\n",
      "[LightGBM] [Warning] bagging_fraction is set=0.9423273933247319, subsample=0.5 will be ignored. Current value: bagging_fraction=0.9423273933247319\n",
      "[LightGBM] [Warning] bagging_freq is set=2, subsample_freq=0 will be ignored. Current value: bagging_freq=2\n",
      "Training until validation scores don't improve for 100 rounds\n",
      "[100]\ttraining's l1: 0.857661\tvalid_1's l1: 1.17808\n",
      "[200]\ttraining's l1: 0.857237\tvalid_1's l1: 1.17716\n",
      "[300]\ttraining's l1: 0.855496\tvalid_1's l1: 1.1737\n",
      "[400]\ttraining's l1: 0.854447\tvalid_1's l1: 1.17209\n",
      "[500]\ttraining's l1: 0.850745\tvalid_1's l1: 1.16515\n",
      "[600]\ttraining's l1: 0.845295\tvalid_1's l1: 1.15742\n",
      "[700]\ttraining's l1: 0.840827\tvalid_1's l1: 1.15456\n",
      "[800]\ttraining's l1: 0.836636\tvalid_1's l1: 1.1516\n",
      "[900]\ttraining's l1: 0.833776\tvalid_1's l1: 1.14919\n",
      "[1000]\ttraining's l1: 0.82925\tvalid_1's l1: 1.14614\n",
      "[1100]\ttraining's l1: 0.82576\tvalid_1's l1: 1.14644\n",
      "[1200]\ttraining's l1: 0.821121\tvalid_1's l1: 1.14418\n",
      "Early stopping, best iteration is:\n",
      "[1188]\ttraining's l1: 0.821496\tvalid_1's l1: 1.14405\n"
     ]
    },
    {
     "name": "stderr",
     "output_type": "stream",
     "text": [
      "\u001b[32m[I 2021-07-26 14:13:11,268]\u001b[0m Trial 83 finished with value: -1.1437438266219686 and parameters: {'max_depth': 19, 'min_child_weight': 8, 'subsample': 0.5, 'colsample_bytree': 0.9, 'reg_lambda': 36.63417865754819, 'reg_alpha': 0.006233315300128912, 'feature_fraction': 0.86401130509387, 'bagging_fraction': 0.9423273933247319, 'bagging_freq': 2, 'num_leaves': 143, 'min_child_samples': 11}. Best is trial 72 with value: -1.1313144469529637.\u001b[0m\n"
     ]
    },
    {
     "name": "stdout",
     "output_type": "stream",
     "text": [
      "[LightGBM] [Warning] feature_fraction is set=0.8098257318748251, colsample_bytree=0.9 will be ignored. Current value: feature_fraction=0.8098257318748251\n",
      "[LightGBM] [Warning] bagging_fraction is set=0.918779044508866, subsample=0.5 will be ignored. Current value: bagging_fraction=0.918779044508866\n",
      "[LightGBM] [Warning] bagging_freq is set=3, subsample_freq=0 will be ignored. Current value: bagging_freq=3\n",
      "Training until validation scores don't improve for 100 rounds\n",
      "[100]\ttraining's l1: 0.854246\tvalid_1's l1: 1.17066\n",
      "[200]\ttraining's l1: 0.853575\tvalid_1's l1: 1.16973\n",
      "[300]\ttraining's l1: 0.849549\tvalid_1's l1: 1.16259\n",
      "[400]\ttraining's l1: 0.848231\tvalid_1's l1: 1.16077\n",
      "[500]\ttraining's l1: 0.846076\tvalid_1's l1: 1.15743\n",
      "[600]\ttraining's l1: 0.840852\tvalid_1's l1: 1.15097\n",
      "[700]\ttraining's l1: 0.83689\tvalid_1's l1: 1.14855\n",
      "[800]\ttraining's l1: 0.831719\tvalid_1's l1: 1.14713\n",
      "[900]\ttraining's l1: 0.825838\tvalid_1's l1: 1.14493\n",
      "[1000]\ttraining's l1: 0.821347\tvalid_1's l1: 1.14342\n",
      "[1100]\ttraining's l1: 0.817954\tvalid_1's l1: 1.1428\n",
      "[1200]\ttraining's l1: 0.810452\tvalid_1's l1: 1.1412\n",
      "Early stopping, best iteration is:\n",
      "[1159]\ttraining's l1: 0.813775\tvalid_1's l1: 1.14097\n"
     ]
    },
    {
     "name": "stderr",
     "output_type": "stream",
     "text": [
      "\u001b[32m[I 2021-07-26 14:14:08,841]\u001b[0m Trial 84 finished with value: -1.140644991485997 and parameters: {'max_depth': 17, 'min_child_weight': 10, 'subsample': 0.5, 'colsample_bytree': 0.9, 'reg_lambda': 3.8586480501250566, 'reg_alpha': 0.0010487122376852218, 'feature_fraction': 0.8098257318748251, 'bagging_fraction': 0.918779044508866, 'bagging_freq': 3, 'num_leaves': 188, 'min_child_samples': 8}. Best is trial 72 with value: -1.1313144469529637.\u001b[0m\n"
     ]
    },
    {
     "name": "stdout",
     "output_type": "stream",
     "text": [
      "[LightGBM] [Warning] feature_fraction is set=0.9045356923417378, colsample_bytree=0.9 will be ignored. Current value: feature_fraction=0.9045356923417378\n",
      "[LightGBM] [Warning] bagging_fraction is set=0.9510388700558008, subsample=0.5 will be ignored. Current value: bagging_fraction=0.9510388700558008\n",
      "[LightGBM] [Warning] bagging_freq is set=2, subsample_freq=0 will be ignored. Current value: bagging_freq=2\n",
      "Training until validation scores don't improve for 100 rounds\n",
      "[100]\ttraining's l1: 0.850988\tvalid_1's l1: 1.16382\n",
      "[200]\ttraining's l1: 0.850307\tvalid_1's l1: 1.16274\n",
      "[300]\ttraining's l1: 0.848204\tvalid_1's l1: 1.15833\n",
      "[400]\ttraining's l1: 0.846455\tvalid_1's l1: 1.15628\n",
      "[500]\ttraining's l1: 0.844771\tvalid_1's l1: 1.15302\n",
      "[600]\ttraining's l1: 0.840394\tvalid_1's l1: 1.14916\n",
      "[700]\ttraining's l1: 0.835591\tvalid_1's l1: 1.14552\n",
      "[800]\ttraining's l1: 0.829012\tvalid_1's l1: 1.14214\n",
      "[900]\ttraining's l1: 0.825422\tvalid_1's l1: 1.14096\n",
      "[1000]\ttraining's l1: 0.821028\tvalid_1's l1: 1.1405\n",
      "Early stopping, best iteration is:\n",
      "[949]\ttraining's l1: 0.823963\tvalid_1's l1: 1.14007\n"
     ]
    },
    {
     "name": "stderr",
     "output_type": "stream",
     "text": [
      "\u001b[32m[I 2021-07-26 14:15:06,729]\u001b[0m Trial 85 finished with value: -1.1398210024084725 and parameters: {'max_depth': 18, 'min_child_weight': 8, 'subsample': 0.5, 'colsample_bytree': 0.9, 'reg_lambda': 10.78395195052185, 'reg_alpha': 0.003483769290594465, 'feature_fraction': 0.9045356923417378, 'bagging_fraction': 0.9510388700558008, 'bagging_freq': 2, 'num_leaves': 223, 'min_child_samples': 13}. Best is trial 72 with value: -1.1313144469529637.\u001b[0m\n"
     ]
    },
    {
     "name": "stdout",
     "output_type": "stream",
     "text": [
      "[LightGBM] [Warning] feature_fraction is set=0.8425065046376039, colsample_bytree=0.9 will be ignored. Current value: feature_fraction=0.8425065046376039\n",
      "[LightGBM] [Warning] bagging_fraction is set=0.990922319870157, subsample=0.5 will be ignored. Current value: bagging_fraction=0.990922319870157\n",
      "[LightGBM] [Warning] bagging_freq is set=4, subsample_freq=0 will be ignored. Current value: bagging_freq=4\n",
      "Training until validation scores don't improve for 100 rounds\n",
      "[100]\ttraining's l1: 0.861231\tvalid_1's l1: 1.18032\n",
      "[200]\ttraining's l1: 0.859749\tvalid_1's l1: 1.17666\n",
      "[300]\ttraining's l1: 0.85764\tvalid_1's l1: 1.17314\n",
      "[400]\ttraining's l1: 0.854472\tvalid_1's l1: 1.16727\n",
      "[500]\ttraining's l1: 0.849832\tvalid_1's l1: 1.16214\n",
      "[600]\ttraining's l1: 0.846812\tvalid_1's l1: 1.15768\n",
      "[700]\ttraining's l1: 0.843345\tvalid_1's l1: 1.15293\n",
      "[800]\ttraining's l1: 0.841006\tvalid_1's l1: 1.15257\n",
      "[900]\ttraining's l1: 0.834229\tvalid_1's l1: 1.14761\n",
      "[1000]\ttraining's l1: 0.830372\tvalid_1's l1: 1.14563\n",
      "[1100]\ttraining's l1: 0.823916\tvalid_1's l1: 1.1434\n",
      "[1200]\ttraining's l1: 0.818977\tvalid_1's l1: 1.1425\n",
      "[1300]\ttraining's l1: 0.814186\tvalid_1's l1: 1.14105\n",
      "[1400]\ttraining's l1: 0.80224\tvalid_1's l1: 1.13942\n",
      "[1500]\ttraining's l1: 0.798233\tvalid_1's l1: 1.13813\n",
      "[1600]\ttraining's l1: 0.789076\tvalid_1's l1: 1.1374\n",
      "Early stopping, best iteration is:\n",
      "[1591]\ttraining's l1: 0.790281\tvalid_1's l1: 1.13714\n"
     ]
    },
    {
     "name": "stderr",
     "output_type": "stream",
     "text": [
      "\u001b[32m[I 2021-07-26 14:17:46,750]\u001b[0m Trial 86 finished with value: -1.1366078884714546 and parameters: {'max_depth': 19, 'min_child_weight': 9, 'subsample': 0.5, 'colsample_bytree': 0.9, 'reg_lambda': 1.6196978490448786, 'reg_alpha': 0.005429344556406589, 'feature_fraction': 0.8425065046376039, 'bagging_fraction': 0.990922319870157, 'bagging_freq': 4, 'num_leaves': 136, 'min_child_samples': 11}. Best is trial 72 with value: -1.1313144469529637.\u001b[0m\n"
     ]
    },
    {
     "name": "stdout",
     "output_type": "stream",
     "text": [
      "[LightGBM] [Warning] feature_fraction is set=0.9391011723697793, colsample_bytree=0.9 will be ignored. Current value: feature_fraction=0.9391011723697793\n",
      "[LightGBM] [Warning] bagging_fraction is set=0.987613442310302, subsample=0.5 will be ignored. Current value: bagging_fraction=0.987613442310302\n",
      "[LightGBM] [Warning] bagging_freq is set=4, subsample_freq=0 will be ignored. Current value: bagging_freq=4\n",
      "Training until validation scores don't improve for 100 rounds\n",
      "[100]\ttraining's l1: 0.854733\tvalid_1's l1: 1.17319\n",
      "[200]\ttraining's l1: 0.853637\tvalid_1's l1: 1.17125\n",
      "[300]\ttraining's l1: 0.849446\tvalid_1's l1: 1.16497\n"
     ]
    },
    {
     "name": "stderr",
     "output_type": "stream",
     "text": [
      "\u001b[32m[I 2021-07-26 14:18:06,913]\u001b[0m Trial 87 finished with value: -1.1649276877393608 and parameters: {'max_depth': 16, 'min_child_weight': 9, 'subsample': 0.5, 'colsample_bytree': 0.9, 'reg_lambda': 5.500094243187932, 'reg_alpha': 0.02122847151321364, 'feature_fraction': 0.9391011723697793, 'bagging_fraction': 0.987613442310302, 'bagging_freq': 4, 'num_leaves': 174, 'min_child_samples': 20}. Best is trial 72 with value: -1.1313144469529637.\u001b[0m\n"
     ]
    },
    {
     "name": "stdout",
     "output_type": "stream",
     "text": [
      "Early stopping, best iteration is:\n",
      "[293]\ttraining's l1: 0.849452\tvalid_1's l1: 1.16496\n",
      "[LightGBM] [Warning] feature_fraction is set=0.8344388734156931, colsample_bytree=0.9 will be ignored. Current value: feature_fraction=0.8344388734156931\n",
      "[LightGBM] [Warning] bagging_fraction is set=0.9993448517777194, subsample=0.5 will be ignored. Current value: bagging_fraction=0.9993448517777194\n",
      "[LightGBM] [Warning] bagging_freq is set=4, subsample_freq=0 will be ignored. Current value: bagging_freq=4\n",
      "Training until validation scores don't improve for 100 rounds\n",
      "[100]\ttraining's l1: 0.853068\tvalid_1's l1: 1.16798\n",
      "[200]\ttraining's l1: 0.852426\tvalid_1's l1: 1.16682\n",
      "[300]\ttraining's l1: 0.85005\tvalid_1's l1: 1.16313\n",
      "[400]\ttraining's l1: 0.846715\tvalid_1's l1: 1.15872\n",
      "[500]\ttraining's l1: 0.842019\tvalid_1's l1: 1.15306\n",
      "[600]\ttraining's l1: 0.835546\tvalid_1's l1: 1.14808\n",
      "[700]\ttraining's l1: 0.831923\tvalid_1's l1: 1.1464\n",
      "[800]\ttraining's l1: 0.828401\tvalid_1's l1: 1.14566\n",
      "[900]\ttraining's l1: 0.820409\tvalid_1's l1: 1.14445\n",
      "[1000]\ttraining's l1: 0.813168\tvalid_1's l1: 1.14261\n",
      "[1100]\ttraining's l1: 0.804581\tvalid_1's l1: 1.1424\n",
      "[1200]\ttraining's l1: 0.799148\tvalid_1's l1: 1.14215\n",
      "Early stopping, best iteration is:\n",
      "[1124]\ttraining's l1: 0.801497\tvalid_1's l1: 1.14178\n"
     ]
    },
    {
     "name": "stderr",
     "output_type": "stream",
     "text": [
      "\u001b[32m[I 2021-07-26 14:19:04,920]\u001b[0m Trial 88 finished with value: -1.1414006694337155 and parameters: {'max_depth': 17, 'min_child_weight': 11, 'subsample': 0.5, 'colsample_bytree': 0.9, 'reg_lambda': 3.5044803047110973, 'reg_alpha': 0.002365120168283061, 'feature_fraction': 0.8344388734156931, 'bagging_fraction': 0.9993448517777194, 'bagging_freq': 4, 'num_leaves': 203, 'min_child_samples': 5}. Best is trial 72 with value: -1.1313144469529637.\u001b[0m\n"
     ]
    },
    {
     "name": "stdout",
     "output_type": "stream",
     "text": [
      "[LightGBM] [Warning] feature_fraction is set=0.8639410433908972, colsample_bytree=0.9 will be ignored. Current value: feature_fraction=0.8639410433908972\n",
      "[LightGBM] [Warning] bagging_fraction is set=0.8941456617905522, subsample=0.5 will be ignored. Current value: bagging_fraction=0.8941456617905522\n",
      "[LightGBM] [Warning] bagging_freq is set=1, subsample_freq=0 will be ignored. Current value: bagging_freq=1\n",
      "Training until validation scores don't improve for 100 rounds\n",
      "[100]\ttraining's l1: 0.862869\tvalid_1's l1: 1.18265\n",
      "[200]\ttraining's l1: 0.86144\tvalid_1's l1: 1.18042\n",
      "[300]\ttraining's l1: 0.859242\tvalid_1's l1: 1.17687\n",
      "[400]\ttraining's l1: 0.855059\tvalid_1's l1: 1.16929\n",
      "[500]\ttraining's l1: 0.850093\tvalid_1's l1: 1.16419\n",
      "[600]\ttraining's l1: 0.845772\tvalid_1's l1: 1.15733\n",
      "[700]\ttraining's l1: 0.842192\tvalid_1's l1: 1.15392\n",
      "[800]\ttraining's l1: 0.83999\tvalid_1's l1: 1.15344\n",
      "[900]\ttraining's l1: 0.837047\tvalid_1's l1: 1.15274\n",
      "[1000]\ttraining's l1: 0.8297\tvalid_1's l1: 1.14837\n",
      "[1100]\ttraining's l1: 0.825522\tvalid_1's l1: 1.14642\n",
      "[1200]\ttraining's l1: 0.822483\tvalid_1's l1: 1.14613\n",
      "Early stopping, best iteration is:\n",
      "[1174]\ttraining's l1: 0.823782\tvalid_1's l1: 1.14567\n"
     ]
    },
    {
     "name": "stderr",
     "output_type": "stream",
     "text": [
      "\u001b[32m[I 2021-07-26 14:19:50,266]\u001b[0m Trial 89 finished with value: -1.145414664789766 and parameters: {'max_depth': 19, 'min_child_weight': 12, 'subsample': 0.5, 'colsample_bytree': 0.9, 'reg_lambda': 1.2944435197558457, 'reg_alpha': 0.008615068462634594, 'feature_fraction': 0.8639410433908972, 'bagging_fraction': 0.8941456617905522, 'bagging_freq': 1, 'num_leaves': 121, 'min_child_samples': 15}. Best is trial 72 with value: -1.1313144469529637.\u001b[0m\n"
     ]
    },
    {
     "name": "stdout",
     "output_type": "stream",
     "text": [
      "[LightGBM] [Warning] feature_fraction is set=0.7750845513994893, colsample_bytree=0.9 will be ignored. Current value: feature_fraction=0.7750845513994893\n",
      "[LightGBM] [Warning] bagging_fraction is set=0.9759737108712201, subsample=0.5 will be ignored. Current value: bagging_fraction=0.9759737108712201\n",
      "[LightGBM] [Warning] bagging_freq is set=5, subsample_freq=0 will be ignored. Current value: bagging_freq=5\n",
      "Training until validation scores don't improve for 100 rounds\n",
      "[100]\ttraining's l1: 0.883734\tvalid_1's l1: 1.21484\n"
     ]
    },
    {
     "name": "stderr",
     "output_type": "stream",
     "text": [
      "\u001b[32m[I 2021-07-26 14:19:57,387]\u001b[0m Trial 90 finished with value: -1.2148392557532142 and parameters: {'max_depth': 18, 'min_child_weight': 9, 'subsample': 0.5, 'colsample_bytree': 0.9, 'reg_lambda': 1.6591951481632072, 'reg_alpha': 0.004680368826105441, 'feature_fraction': 0.7750845513994893, 'bagging_fraction': 0.9759737108712201, 'bagging_freq': 5, 'num_leaves': 33, 'min_child_samples': 10}. Best is trial 72 with value: -1.1313144469529637.\u001b[0m\n"
     ]
    },
    {
     "name": "stdout",
     "output_type": "stream",
     "text": [
      "Early stopping, best iteration is:\n",
      "[69]\ttraining's l1: 0.883738\tvalid_1's l1: 1.21484\n",
      "[LightGBM] [Warning] feature_fraction is set=0.7935617798361254, colsample_bytree=0.9 will be ignored. Current value: feature_fraction=0.7935617798361254\n",
      "[LightGBM] [Warning] bagging_fraction is set=0.9563016104566127, subsample=0.5 will be ignored. Current value: bagging_fraction=0.9563016104566127\n",
      "[LightGBM] [Warning] bagging_freq is set=2, subsample_freq=0 will be ignored. Current value: bagging_freq=2\n",
      "Training until validation scores don't improve for 100 rounds\n",
      "[100]\ttraining's l1: 0.859016\tvalid_1's l1: 1.17847\n",
      "[200]\ttraining's l1: 0.85814\tvalid_1's l1: 1.17647\n",
      "[300]\ttraining's l1: 0.856715\tvalid_1's l1: 1.17349\n",
      "[400]\ttraining's l1: 0.854136\tvalid_1's l1: 1.16791\n",
      "[500]\ttraining's l1: 0.852108\tvalid_1's l1: 1.16486\n",
      "[600]\ttraining's l1: 0.84783\tvalid_1's l1: 1.15879\n",
      "[700]\ttraining's l1: 0.845396\tvalid_1's l1: 1.15601\n",
      "[800]\ttraining's l1: 0.841498\tvalid_1's l1: 1.1525\n",
      "[900]\ttraining's l1: 0.839903\tvalid_1's l1: 1.15166\n",
      "[1000]\ttraining's l1: 0.83622\tvalid_1's l1: 1.14995\n",
      "[1100]\ttraining's l1: 0.833194\tvalid_1's l1: 1.14861\n",
      "[1200]\ttraining's l1: 0.829908\tvalid_1's l1: 1.14711\n",
      "[1300]\ttraining's l1: 0.826095\tvalid_1's l1: 1.14451\n",
      "[1400]\ttraining's l1: 0.823162\tvalid_1's l1: 1.1435\n",
      "[1500]\ttraining's l1: 0.821354\tvalid_1's l1: 1.14352\n",
      "Early stopping, best iteration is:\n",
      "[1400]\ttraining's l1: 0.823162\tvalid_1's l1: 1.1435\n"
     ]
    },
    {
     "name": "stderr",
     "output_type": "stream",
     "text": [
      "\u001b[32m[I 2021-07-26 14:21:11,791]\u001b[0m Trial 91 finished with value: -1.1432247939934264 and parameters: {'max_depth': 19, 'min_child_weight': 8, 'subsample': 0.5, 'colsample_bytree': 0.9, 'reg_lambda': 126.40710183654201, 'reg_alpha': 0.014787590248600853, 'feature_fraction': 0.7935617798361254, 'bagging_fraction': 0.9563016104566127, 'bagging_freq': 2, 'num_leaves': 138, 'min_child_samples': 6}. Best is trial 72 with value: -1.1313144469529637.\u001b[0m\n"
     ]
    },
    {
     "name": "stdout",
     "output_type": "stream",
     "text": [
      "[LightGBM] [Warning] feature_fraction is set=0.8192890899594019, colsample_bytree=0.9 will be ignored. Current value: feature_fraction=0.8192890899594019\n",
      "[LightGBM] [Warning] bagging_fraction is set=0.9167177764882612, subsample=0.5 will be ignored. Current value: bagging_fraction=0.9167177764882612\n",
      "[LightGBM] [Warning] bagging_freq is set=3, subsample_freq=0 will be ignored. Current value: bagging_freq=3\n",
      "Training until validation scores don't improve for 100 rounds\n",
      "[100]\ttraining's l1: 0.86214\tvalid_1's l1: 1.17908\n",
      "[200]\ttraining's l1: 0.860938\tvalid_1's l1: 1.17707\n",
      "[300]\ttraining's l1: 0.859743\tvalid_1's l1: 1.17471\n",
      "[400]\ttraining's l1: 0.85676\tvalid_1's l1: 1.16683\n",
      "[500]\ttraining's l1: 0.855312\tvalid_1's l1: 1.16481\n",
      "[600]\ttraining's l1: 0.851055\tvalid_1's l1: 1.15971\n",
      "[700]\ttraining's l1: 0.848411\tvalid_1's l1: 1.1565\n",
      "[800]\ttraining's l1: 0.846848\tvalid_1's l1: 1.15573\n",
      "[900]\ttraining's l1: 0.845096\tvalid_1's l1: 1.15403\n",
      "[1000]\ttraining's l1: 0.841133\tvalid_1's l1: 1.14935\n",
      "[1100]\ttraining's l1: 0.839529\tvalid_1's l1: 1.14956\n",
      "Early stopping, best iteration is:\n",
      "[1011]\ttraining's l1: 0.840916\tvalid_1's l1: 1.14924\n"
     ]
    },
    {
     "name": "stderr",
     "output_type": "stream",
     "text": [
      "\u001b[32m[I 2021-07-26 14:22:00,813]\u001b[0m Trial 92 finished with value: -1.1490414505087265 and parameters: {'max_depth': 18, 'min_child_weight': 10, 'subsample': 0.5, 'colsample_bytree': 0.9, 'reg_lambda': 365.66659240182076, 'reg_alpha': 0.005096927738020496, 'feature_fraction': 0.8192890899594019, 'bagging_fraction': 0.9167177764882612, 'bagging_freq': 3, 'num_leaves': 112, 'min_child_samples': 14}. Best is trial 72 with value: -1.1313144469529637.\u001b[0m\n"
     ]
    },
    {
     "name": "stdout",
     "output_type": "stream",
     "text": [
      "[LightGBM] [Warning] feature_fraction is set=0.8876704225459258, colsample_bytree=0.9 will be ignored. Current value: feature_fraction=0.8876704225459258\n",
      "[LightGBM] [Warning] bagging_fraction is set=0.9999622465580036, subsample=0.5 will be ignored. Current value: bagging_fraction=0.9999622465580036\n",
      "[LightGBM] [Warning] bagging_freq is set=2, subsample_freq=0 will be ignored. Current value: bagging_freq=2\n",
      "Training until validation scores don't improve for 100 rounds\n",
      "[100]\ttraining's l1: 0.85623\tvalid_1's l1: 1.17283\n",
      "[200]\ttraining's l1: 0.85483\tvalid_1's l1: 1.17072\n",
      "[300]\ttraining's l1: 0.851257\tvalid_1's l1: 1.16401\n",
      "[400]\ttraining's l1: 0.847347\tvalid_1's l1: 1.15856\n",
      "[500]\ttraining's l1: 0.844903\tvalid_1's l1: 1.15574\n",
      "[600]\ttraining's l1: 0.841916\tvalid_1's l1: 1.15293\n",
      "[700]\ttraining's l1: 0.841114\tvalid_1's l1: 1.15265\n",
      "[800]\ttraining's l1: 0.839757\tvalid_1's l1: 1.15169\n",
      "[900]\ttraining's l1: 0.833287\tvalid_1's l1: 1.14872\n",
      "[1000]\ttraining's l1: 0.831007\tvalid_1's l1: 1.14857\n",
      "[1100]\ttraining's l1: 0.82648\tvalid_1's l1: 1.14594\n",
      "[1200]\ttraining's l1: 0.820055\tvalid_1's l1: 1.14528\n",
      "Early stopping, best iteration is:\n",
      "[1159]\ttraining's l1: 0.823538\tvalid_1's l1: 1.14461\n"
     ]
    },
    {
     "name": "stderr",
     "output_type": "stream",
     "text": [
      "\u001b[32m[I 2021-07-26 14:23:06,180]\u001b[0m Trial 93 finished with value: -1.144378427174098 and parameters: {'max_depth': 20, 'min_child_weight': 7, 'subsample': 0.5, 'colsample_bytree': 0.9, 'reg_lambda': 10.803719759335257, 'reg_alpha': 0.003079321584590369, 'feature_fraction': 0.8876704225459258, 'bagging_fraction': 0.9999622465580036, 'bagging_freq': 2, 'num_leaves': 173, 'min_child_samples': 11}. Best is trial 72 with value: -1.1313144469529637.\u001b[0m\n"
     ]
    },
    {
     "name": "stdout",
     "output_type": "stream",
     "text": [
      "[LightGBM] [Warning] feature_fraction is set=0.8514227216515621, colsample_bytree=0.9 will be ignored. Current value: feature_fraction=0.8514227216515621\n",
      "[LightGBM] [Warning] bagging_fraction is set=0.8838886189861462, subsample=0.5 will be ignored. Current value: bagging_fraction=0.8838886189861462\n",
      "[LightGBM] [Warning] bagging_freq is set=3, subsample_freq=0 will be ignored. Current value: bagging_freq=3\n",
      "Training until validation scores don't improve for 100 rounds\n",
      "[100]\ttraining's l1: 0.872616\tvalid_1's l1: 1.19641\n",
      "[200]\ttraining's l1: 0.870253\tvalid_1's l1: 1.19086\n",
      "[300]\ttraining's l1: 0.869391\tvalid_1's l1: 1.18892\n",
      "[400]\ttraining's l1: 0.865628\tvalid_1's l1: 1.18363\n",
      "[500]\ttraining's l1: 0.863488\tvalid_1's l1: 1.17935\n",
      "[600]\ttraining's l1: 0.858995\tvalid_1's l1: 1.17132\n",
      "[700]\ttraining's l1: 0.856236\tvalid_1's l1: 1.16648\n",
      "[800]\ttraining's l1: 0.852092\tvalid_1's l1: 1.16212\n",
      "[900]\ttraining's l1: 0.847853\tvalid_1's l1: 1.15626\n",
      "[1000]\ttraining's l1: 0.843943\tvalid_1's l1: 1.15307\n",
      "[1100]\ttraining's l1: 0.842488\tvalid_1's l1: 1.15134\n",
      "[1200]\ttraining's l1: 0.841634\tvalid_1's l1: 1.15055\n",
      "Early stopping, best iteration is:\n",
      "[1124]\ttraining's l1: 0.842072\tvalid_1's l1: 1.15047\n"
     ]
    },
    {
     "name": "stderr",
     "output_type": "stream",
     "text": [
      "\u001b[32m[I 2021-07-26 14:23:51,476]\u001b[0m Trial 94 finished with value: -1.1502625457943765 and parameters: {'max_depth': 17, 'min_child_weight': 9, 'subsample': 0.5, 'colsample_bytree': 0.9, 'reg_lambda': 26.531789971150086, 'reg_alpha': 0.001372242171887923, 'feature_fraction': 0.8514227216515621, 'bagging_fraction': 0.8838886189861462, 'bagging_freq': 3, 'num_leaves': 68, 'min_child_samples': 17}. Best is trial 72 with value: -1.1313144469529637.\u001b[0m\n"
     ]
    },
    {
     "name": "stdout",
     "output_type": "stream",
     "text": [
      "[LightGBM] [Warning] feature_fraction is set=0.7434189222910745, colsample_bytree=0.9 will be ignored. Current value: feature_fraction=0.7434189222910745\n",
      "[LightGBM] [Warning] bagging_fraction is set=0.945141145506985, subsample=0.5 will be ignored. Current value: bagging_fraction=0.945141145506985\n",
      "[LightGBM] [Warning] bagging_freq is set=1, subsample_freq=0 will be ignored. Current value: bagging_freq=1\n",
      "Training until validation scores don't improve for 100 rounds\n",
      "[100]\ttraining's l1: 0.845754\tvalid_1's l1: 1.16189\n",
      "[200]\ttraining's l1: 0.843768\tvalid_1's l1: 1.15937\n",
      "[300]\ttraining's l1: 0.841918\tvalid_1's l1: 1.15634\n",
      "[400]\ttraining's l1: 0.838586\tvalid_1's l1: 1.15215\n",
      "[500]\ttraining's l1: 0.834977\tvalid_1's l1: 1.14878\n",
      "[600]\ttraining's l1: 0.828389\tvalid_1's l1: 1.14674\n",
      "[700]\ttraining's l1: 0.819952\tvalid_1's l1: 1.14465\n",
      "[800]\ttraining's l1: 0.812457\tvalid_1's l1: 1.14221\n",
      "[900]\ttraining's l1: 0.800478\tvalid_1's l1: 1.13978\n",
      "[1000]\ttraining's l1: 0.789882\tvalid_1's l1: 1.13794\n",
      "Early stopping, best iteration is:\n",
      "[999]\ttraining's l1: 0.789883\tvalid_1's l1: 1.13794\n"
     ]
    },
    {
     "name": "stderr",
     "output_type": "stream",
     "text": [
      "\u001b[32m[I 2021-07-26 14:24:41,770]\u001b[0m Trial 95 finished with value: -1.1375352957210467 and parameters: {'max_depth': 19, 'min_child_weight': 10, 'subsample': 0.5, 'colsample_bytree': 0.9, 'reg_lambda': 0.8061622141064592, 'reg_alpha': 0.00947647020037696, 'feature_fraction': 0.7434189222910745, 'bagging_fraction': 0.945141145506985, 'bagging_freq': 1, 'num_leaves': 277, 'min_child_samples': 7}. Best is trial 72 with value: -1.1313144469529637.\u001b[0m\n"
     ]
    },
    {
     "name": "stdout",
     "output_type": "stream",
     "text": [
      "[LightGBM] [Warning] feature_fraction is set=0.7486709329621383, colsample_bytree=0.9 will be ignored. Current value: feature_fraction=0.7486709329621383\n",
      "[LightGBM] [Warning] bagging_fraction is set=0.961600327180528, subsample=0.5 will be ignored. Current value: bagging_fraction=0.961600327180528\n",
      "[LightGBM] [Warning] bagging_freq is set=1, subsample_freq=0 will be ignored. Current value: bagging_freq=1\n",
      "Training until validation scores don't improve for 100 rounds\n",
      "[100]\ttraining's l1: 0.846183\tvalid_1's l1: 1.16328\n",
      "[200]\ttraining's l1: 0.844139\tvalid_1's l1: 1.16077\n",
      "[300]\ttraining's l1: 0.842223\tvalid_1's l1: 1.15845\n",
      "[400]\ttraining's l1: 0.839744\tvalid_1's l1: 1.15578\n",
      "[500]\ttraining's l1: 0.836573\tvalid_1's l1: 1.15253\n",
      "[600]\ttraining's l1: 0.833276\tvalid_1's l1: 1.14932\n",
      "[700]\ttraining's l1: 0.830085\tvalid_1's l1: 1.14726\n",
      "[800]\ttraining's l1: 0.82632\tvalid_1's l1: 1.1462\n",
      "[900]\ttraining's l1: 0.816768\tvalid_1's l1: 1.14272\n",
      "[1000]\ttraining's l1: 0.805691\tvalid_1's l1: 1.14122\n",
      "[1100]\ttraining's l1: 0.801089\tvalid_1's l1: 1.14101\n",
      "[1200]\ttraining's l1: 0.790247\tvalid_1's l1: 1.13989\n",
      "[1300]\ttraining's l1: 0.769867\tvalid_1's l1: 1.13958\n",
      "[1400]\ttraining's l1: 0.755071\tvalid_1's l1: 1.1402\n",
      "Early stopping, best iteration is:\n",
      "[1320]\ttraining's l1: 0.766766\tvalid_1's l1: 1.13851\n"
     ]
    },
    {
     "name": "stderr",
     "output_type": "stream",
     "text": [
      "\u001b[32m[I 2021-07-26 14:25:46,142]\u001b[0m Trial 96 finished with value: -1.1378921876716497 and parameters: {'max_depth': 19, 'min_child_weight': 10, 'subsample': 0.5, 'colsample_bytree': 0.9, 'reg_lambda': 0.8317787449300567, 'reg_alpha': 0.011140880419924143, 'feature_fraction': 0.7486709329621383, 'bagging_fraction': 0.961600327180528, 'bagging_freq': 1, 'num_leaves': 264, 'min_child_samples': 7}. Best is trial 72 with value: -1.1313144469529637.\u001b[0m\n"
     ]
    },
    {
     "name": "stdout",
     "output_type": "stream",
     "text": [
      "[LightGBM] [Warning] feature_fraction is set=0.6895023043135721, colsample_bytree=0.9 will be ignored. Current value: feature_fraction=0.6895023043135721\n",
      "[LightGBM] [Warning] bagging_fraction is set=0.9676306325485331, subsample=0.5 will be ignored. Current value: bagging_fraction=0.9676306325485331\n",
      "[LightGBM] [Warning] bagging_freq is set=1, subsample_freq=0 will be ignored. Current value: bagging_freq=1\n",
      "Training until validation scores don't improve for 100 rounds\n",
      "[100]\ttraining's l1: 0.846413\tvalid_1's l1: 1.16235\n",
      "[200]\ttraining's l1: 0.843269\tvalid_1's l1: 1.15744\n",
      "[300]\ttraining's l1: 0.8394\tvalid_1's l1: 1.15381\n",
      "[400]\ttraining's l1: 0.834512\tvalid_1's l1: 1.15075\n",
      "[500]\ttraining's l1: 0.83123\tvalid_1's l1: 1.14877\n",
      "[600]\ttraining's l1: 0.825446\tvalid_1's l1: 1.14648\n",
      "[700]\ttraining's l1: 0.821156\tvalid_1's l1: 1.14522\n",
      "Early stopping, best iteration is:\n",
      "[670]\ttraining's l1: 0.821923\tvalid_1's l1: 1.14516\n"
     ]
    },
    {
     "name": "stderr",
     "output_type": "stream",
     "text": [
      "\u001b[32m[I 2021-07-26 14:26:20,744]\u001b[0m Trial 97 finished with value: -1.1449384446226039 and parameters: {'max_depth': 20, 'min_child_weight': 12, 'subsample': 0.5, 'colsample_bytree': 0.9, 'reg_lambda': 0.8389718218576974, 'reg_alpha': 0.0106264981469088, 'feature_fraction': 0.6895023043135721, 'bagging_fraction': 0.9676306325485331, 'bagging_freq': 1, 'num_leaves': 280, 'min_child_samples': 87}. Best is trial 72 with value: -1.1313144469529637.\u001b[0m\n"
     ]
    },
    {
     "name": "stdout",
     "output_type": "stream",
     "text": [
      "[LightGBM] [Warning] feature_fraction is set=0.741829897198005, colsample_bytree=0.9 will be ignored. Current value: feature_fraction=0.741829897198005\n",
      "[LightGBM] [Warning] bagging_fraction is set=0.9841503745514865, subsample=0.5 will be ignored. Current value: bagging_fraction=0.9841503745514865\n",
      "[LightGBM] [Warning] bagging_freq is set=1, subsample_freq=0 will be ignored. Current value: bagging_freq=1\n",
      "Training until validation scores don't improve for 100 rounds\n",
      "[100]\ttraining's l1: 0.846521\tvalid_1's l1: 1.16028\n",
      "[200]\ttraining's l1: 0.844861\tvalid_1's l1: 1.15793\n",
      "[300]\ttraining's l1: 0.842653\tvalid_1's l1: 1.15629\n",
      "[400]\ttraining's l1: 0.839622\tvalid_1's l1: 1.15325\n",
      "[500]\ttraining's l1: 0.835841\tvalid_1's l1: 1.15046\n",
      "[600]\ttraining's l1: 0.831795\tvalid_1's l1: 1.14841\n",
      "[700]\ttraining's l1: 0.825783\tvalid_1's l1: 1.14572\n",
      "[800]\ttraining's l1: 0.813176\tvalid_1's l1: 1.14001\n",
      "[900]\ttraining's l1: 0.806489\tvalid_1's l1: 1.13825\n",
      "[1000]\ttraining's l1: 0.80448\tvalid_1's l1: 1.1376\n",
      "[1100]\ttraining's l1: 0.792664\tvalid_1's l1: 1.1387\n",
      "Early stopping, best iteration is:\n",
      "[1001]\ttraining's l1: 0.804364\tvalid_1's l1: 1.13757\n"
     ]
    },
    {
     "name": "stderr",
     "output_type": "stream",
     "text": [
      "\u001b[32m[I 2021-07-26 14:27:10,738]\u001b[0m Trial 98 finished with value: -1.1371179741889192 and parameters: {'max_depth': 19, 'min_child_weight': 10, 'subsample': 0.5, 'colsample_bytree': 0.9, 'reg_lambda': 1.2728739675274103, 'reg_alpha': 0.03247812897682508, 'feature_fraction': 0.741829897198005, 'bagging_fraction': 0.9841503745514865, 'bagging_freq': 1, 'num_leaves': 263, 'min_child_samples': 7}. Best is trial 72 with value: -1.1313144469529637.\u001b[0m\n"
     ]
    },
    {
     "name": "stdout",
     "output_type": "stream",
     "text": [
      "[LightGBM] [Warning] feature_fraction is set=0.711027504964714, colsample_bytree=0.9 will be ignored. Current value: feature_fraction=0.711027504964714\n",
      "[LightGBM] [Warning] bagging_fraction is set=0.9862026556643814, subsample=0.5 will be ignored. Current value: bagging_fraction=0.9862026556643814\n",
      "[LightGBM] [Warning] bagging_freq is set=4, subsample_freq=0 will be ignored. Current value: bagging_freq=4\n",
      "Training until validation scores don't improve for 100 rounds\n",
      "[100]\ttraining's l1: 0.851807\tvalid_1's l1: 1.16724\n",
      "[200]\ttraining's l1: 0.850274\tvalid_1's l1: 1.16551\n",
      "[300]\ttraining's l1: 0.848126\tvalid_1's l1: 1.16211\n",
      "[400]\ttraining's l1: 0.844935\tvalid_1's l1: 1.15786\n",
      "[500]\ttraining's l1: 0.841038\tvalid_1's l1: 1.1536\n",
      "[600]\ttraining's l1: 0.834163\tvalid_1's l1: 1.1491\n",
      "[700]\ttraining's l1: 0.830934\tvalid_1's l1: 1.14694\n",
      "[800]\ttraining's l1: 0.824545\tvalid_1's l1: 1.14366\n",
      "[900]\ttraining's l1: 0.818994\tvalid_1's l1: 1.14208\n",
      "[1000]\ttraining's l1: 0.809286\tvalid_1's l1: 1.14019\n",
      "Early stopping, best iteration is:\n",
      "[943]\ttraining's l1: 0.812953\tvalid_1's l1: 1.13977\n"
     ]
    },
    {
     "name": "stderr",
     "output_type": "stream",
     "text": [
      "\u001b[32m[I 2021-07-26 14:27:59,299]\u001b[0m Trial 99 finished with value: -1.1394159666498744 and parameters: {'max_depth': 16, 'min_child_weight': 13, 'subsample': 0.5, 'colsample_bytree': 0.9, 'reg_lambda': 3.007496563164161, 'reg_alpha': 0.02672242367183587, 'feature_fraction': 0.711027504964714, 'bagging_fraction': 0.9862026556643814, 'bagging_freq': 4, 'num_leaves': 206, 'min_child_samples': 12}. Best is trial 72 with value: -1.1313144469529637.\u001b[0m\n",
      "\u001b[32m[I 2021-07-26 14:27:59,301]\u001b[0m A new study created in memory with name: no-name-f680b94d-b2e8-44c6-b298-7ff4d07c6e0b\u001b[0m\n"
     ]
    },
    {
     "name": "stdout",
     "output_type": "stream",
     "text": [
      "[LightGBM] [Warning] feature_fraction is set=0.2672670481372126, colsample_bytree=0.5 will be ignored. Current value: feature_fraction=0.2672670481372126\n",
      "[LightGBM] [Warning] bagging_fraction is set=0.36495062943698414, subsample=0.8 will be ignored. Current value: bagging_fraction=0.36495062943698414\n",
      "[LightGBM] [Warning] bagging_freq is set=10, subsample_freq=0 will be ignored. Current value: bagging_freq=10\n",
      "Training until validation scores don't improve for 100 rounds\n",
      "[100]\ttraining's l1: 1.73038\tvalid_1's l1: 2.31971\n"
     ]
    },
    {
     "name": "stderr",
     "output_type": "stream",
     "text": [
      "\u001b[32m[I 2021-07-26 14:28:05,876]\u001b[0m Trial 0 finished with value: -2.278874590583179 and parameters: {'max_depth': 14, 'min_child_weight': 4, 'subsample': 0.8, 'colsample_bytree': 0.5, 'reg_lambda': 9.560215315380937, 'reg_alpha': 0.2683674094763292, 'feature_fraction': 0.2672670481372126, 'bagging_fraction': 0.36495062943698414, 'bagging_freq': 10, 'num_leaves': 662, 'min_child_samples': 67}. Best is trial 0 with value: -2.278874590583179.\u001b[0m\n"
     ]
    },
    {
     "name": "stdout",
     "output_type": "stream",
     "text": [
      "Early stopping, best iteration is:\n",
      "[27]\ttraining's l1: 1.85729\tvalid_1's l1: 2.27887\n",
      "[LightGBM] [Warning] feature_fraction is set=0.2653214483058037, colsample_bytree=0.6 will be ignored. Current value: feature_fraction=0.2653214483058037\n",
      "[LightGBM] [Warning] bagging_fraction is set=0.8652434247474405, subsample=0.9 will be ignored. Current value: bagging_fraction=0.8652434247474405\n",
      "[LightGBM] [Warning] bagging_freq is set=10, subsample_freq=0 will be ignored. Current value: bagging_freq=10\n",
      "Training until validation scores don't improve for 100 rounds\n",
      "[100]\ttraining's l1: 1.83522\tvalid_1's l1: 2.27469\n",
      "[200]\ttraining's l1: 1.77851\tvalid_1's l1: 2.2344\n"
     ]
    },
    {
     "name": "stderr",
     "output_type": "stream",
     "text": [
      "\u001b[32m[I 2021-07-26 14:28:15,423]\u001b[0m Trial 1 finished with value: -2.2329742004807316 and parameters: {'max_depth': 7, 'min_child_weight': 18, 'subsample': 0.9, 'colsample_bytree': 0.6, 'reg_lambda': 0.07746172543958364, 'reg_alpha': 25.53988029440284, 'feature_fraction': 0.2653214483058037, 'bagging_fraction': 0.8652434247474405, 'bagging_freq': 10, 'num_leaves': 274, 'min_child_samples': 44}. Best is trial 1 with value: -2.2329742004807316.\u001b[0m\n"
     ]
    },
    {
     "name": "stdout",
     "output_type": "stream",
     "text": [
      "Early stopping, best iteration is:\n",
      "[184]\ttraining's l1: 1.7831\tvalid_1's l1: 2.23313\n",
      "[LightGBM] [Warning] feature_fraction is set=0.3153610020644168, colsample_bytree=0.7 will be ignored. Current value: feature_fraction=0.3153610020644168\n",
      "[LightGBM] [Warning] bagging_fraction is set=0.948367701388013, subsample=0.9 will be ignored. Current value: bagging_fraction=0.948367701388013\n",
      "[LightGBM] [Warning] bagging_freq is set=1, subsample_freq=0 will be ignored. Current value: bagging_freq=1\n",
      "Training until validation scores don't improve for 100 rounds\n",
      "[100]\ttraining's l1: 1.88983\tvalid_1's l1: 2.27271\n",
      "[200]\ttraining's l1: 1.85375\tvalid_1's l1: 2.26956\n"
     ]
    },
    {
     "name": "stderr",
     "output_type": "stream",
     "text": [
      "\u001b[32m[I 2021-07-26 14:28:23,477]\u001b[0m Trial 2 finished with value: -2.2656237978706932 and parameters: {'max_depth': 5, 'min_child_weight': 19, 'subsample': 0.9, 'colsample_bytree': 0.7, 'reg_lambda': 0.03379637040572136, 'reg_alpha': 0.44561136496773507, 'feature_fraction': 0.3153610020644168, 'bagging_fraction': 0.948367701388013, 'bagging_freq': 1, 'num_leaves': 221, 'min_child_samples': 64}. Best is trial 1 with value: -2.2329742004807316.\u001b[0m\n"
     ]
    },
    {
     "name": "stdout",
     "output_type": "stream",
     "text": [
      "Early stopping, best iteration is:\n",
      "[176]\ttraining's l1: 1.85784\tvalid_1's l1: 2.26918\n",
      "[LightGBM] [Warning] feature_fraction is set=0.8542811110534769, colsample_bytree=0.6 will be ignored. Current value: feature_fraction=0.8542811110534769\n",
      "[LightGBM] [Warning] bagging_fraction is set=0.3925156807414274, subsample=0.7 will be ignored. Current value: bagging_fraction=0.3925156807414274\n",
      "[LightGBM] [Warning] bagging_freq is set=1, subsample_freq=0 will be ignored. Current value: bagging_freq=1\n",
      "Training until validation scores don't improve for 100 rounds\n",
      "[100]\ttraining's l1: 2.23961\tvalid_1's l1: 2.46685\n",
      "[200]\ttraining's l1: 2.18884\tvalid_1's l1: 2.4243\n",
      "[300]\ttraining's l1: 2.17241\tvalid_1's l1: 2.41545\n",
      "[400]\ttraining's l1: 2.16278\tvalid_1's l1: 2.41028\n",
      "[500]\ttraining's l1: 2.15913\tvalid_1's l1: 2.40996\n",
      "[600]\ttraining's l1: 2.15573\tvalid_1's l1: 2.4065\n"
     ]
    },
    {
     "name": "stderr",
     "output_type": "stream",
     "text": [
      "\u001b[32m[I 2021-07-26 14:28:42,347]\u001b[0m Trial 3 finished with value: -2.4055872395290807 and parameters: {'max_depth': 1, 'min_child_weight': 8, 'subsample': 0.7, 'colsample_bytree': 0.6, 'reg_lambda': 0.017530807571338257, 'reg_alpha': 204.8024016982654, 'feature_fraction': 0.8542811110534769, 'bagging_fraction': 0.3925156807414274, 'bagging_freq': 1, 'num_leaves': 198, 'min_child_samples': 64}. Best is trial 1 with value: -2.2329742004807316.\u001b[0m\n"
     ]
    },
    {
     "name": "stdout",
     "output_type": "stream",
     "text": [
      "Early stopping, best iteration is:\n",
      "[519]\ttraining's l1: 2.1566\tvalid_1's l1: 2.40602\n",
      "[LightGBM] [Warning] feature_fraction is set=0.3082476803318501, colsample_bytree=0.7 will be ignored. Current value: feature_fraction=0.3082476803318501\n",
      "[LightGBM] [Warning] bagging_fraction is set=0.31656131206474636, subsample=0.8 will be ignored. Current value: bagging_fraction=0.31656131206474636\n",
      "[LightGBM] [Warning] bagging_freq is set=19, subsample_freq=0 will be ignored. Current value: bagging_freq=19\n",
      "Training until validation scores don't improve for 100 rounds\n",
      "[100]\ttraining's l1: 1.77753\tvalid_1's l1: 2.32083\n"
     ]
    },
    {
     "name": "stderr",
     "output_type": "stream",
     "text": [
      "\u001b[32m[I 2021-07-26 14:28:47,692]\u001b[0m Trial 4 finished with value: -2.3011704638485386 and parameters: {'max_depth': 18, 'min_child_weight': 7, 'subsample': 0.8, 'colsample_bytree': 0.7, 'reg_lambda': 23.938061960770863, 'reg_alpha': 26.898526588953366, 'feature_fraction': 0.3082476803318501, 'bagging_fraction': 0.31656131206474636, 'bagging_freq': 19, 'num_leaves': 359, 'min_child_samples': 6}. Best is trial 1 with value: -2.2329742004807316.\u001b[0m\n"
     ]
    },
    {
     "name": "stdout",
     "output_type": "stream",
     "text": [
      "Early stopping, best iteration is:\n",
      "[27]\ttraining's l1: 1.9112\tvalid_1's l1: 2.30117\n",
      "[LightGBM] [Warning] feature_fraction is set=0.2280216899005737, colsample_bytree=0.8 will be ignored. Current value: feature_fraction=0.2280216899005737\n",
      "[LightGBM] [Warning] bagging_fraction is set=0.7967462172983082, subsample=0.6 will be ignored. Current value: bagging_fraction=0.7967462172983082\n",
      "[LightGBM] [Warning] bagging_freq is set=16, subsample_freq=0 will be ignored. Current value: bagging_freq=16\n",
      "Training until validation scores don't improve for 100 rounds\n",
      "[100]\ttraining's l1: 1.80699\tvalid_1's l1: 2.28186\n",
      "[200]\ttraining's l1: 1.74269\tvalid_1's l1: 2.26081\n"
     ]
    },
    {
     "name": "stderr",
     "output_type": "stream",
     "text": [
      "\u001b[32m[I 2021-07-26 14:28:56,152]\u001b[0m Trial 5 finished with value: -2.2515785441705787 and parameters: {'max_depth': 8, 'min_child_weight': 6, 'subsample': 0.6, 'colsample_bytree': 0.8, 'reg_lambda': 0.03939861304675085, 'reg_alpha': 0.004551157507432888, 'feature_fraction': 0.2280216899005737, 'bagging_fraction': 0.7967462172983082, 'bagging_freq': 16, 'num_leaves': 685, 'min_child_samples': 57}. Best is trial 1 with value: -2.2329742004807316.\u001b[0m\n"
     ]
    },
    {
     "name": "stdout",
     "output_type": "stream",
     "text": [
      "Early stopping, best iteration is:\n",
      "[143]\ttraining's l1: 1.76235\tvalid_1's l1: 2.25158\n",
      "[LightGBM] [Warning] feature_fraction is set=0.9915828460361527, colsample_bytree=0.8 will be ignored. Current value: feature_fraction=0.9915828460361527\n",
      "[LightGBM] [Warning] bagging_fraction is set=0.891124910035809, subsample=0.7 will be ignored. Current value: bagging_fraction=0.891124910035809\n",
      "[LightGBM] [Warning] bagging_freq is set=18, subsample_freq=0 will be ignored. Current value: bagging_freq=18\n",
      "Training until validation scores don't improve for 100 rounds\n",
      "[100]\ttraining's l1: 1.71833\tvalid_1's l1: 2.24803\n"
     ]
    },
    {
     "name": "stderr",
     "output_type": "stream",
     "text": [
      "\u001b[32m[I 2021-07-26 14:29:04,307]\u001b[0m Trial 6 finished with value: -2.214856528377937 and parameters: {'max_depth': 10, 'min_child_weight': 18, 'subsample': 0.7, 'colsample_bytree': 0.8, 'reg_lambda': 0.0926511486253222, 'reg_alpha': 0.006594196758201212, 'feature_fraction': 0.9915828460361527, 'bagging_fraction': 0.891124910035809, 'bagging_freq': 18, 'num_leaves': 424, 'min_child_samples': 60}. Best is trial 6 with value: -2.214856528377937.\u001b[0m\n"
     ]
    },
    {
     "name": "stdout",
     "output_type": "stream",
     "text": [
      "Early stopping, best iteration is:\n",
      "[21]\ttraining's l1: 1.82783\tvalid_1's l1: 2.21486\n",
      "[LightGBM] [Warning] feature_fraction is set=0.8828279027004113, colsample_bytree=0.7 will be ignored. Current value: feature_fraction=0.8828279027004113\n",
      "[LightGBM] [Warning] bagging_fraction is set=0.21171573539377775, subsample=0.7 will be ignored. Current value: bagging_fraction=0.21171573539377775\n",
      "[LightGBM] [Warning] bagging_freq is set=5, subsample_freq=0 will be ignored. Current value: bagging_freq=5\n",
      "Training until validation scores don't improve for 100 rounds\n",
      "[100]\ttraining's l1: 1.77319\tvalid_1's l1: 2.26753\n"
     ]
    },
    {
     "name": "stderr",
     "output_type": "stream",
     "text": [
      "\u001b[32m[I 2021-07-26 14:29:09,647]\u001b[0m Trial 7 finished with value: -2.2588741350997115 and parameters: {'max_depth': 14, 'min_child_weight': 19, 'subsample': 0.7, 'colsample_bytree': 0.7, 'reg_lambda': 133.09323024146693, 'reg_alpha': 76.95351676865366, 'feature_fraction': 0.8828279027004113, 'bagging_fraction': 0.21171573539377775, 'bagging_freq': 5, 'num_leaves': 471, 'min_child_samples': 61}. Best is trial 6 with value: -2.214856528377937.\u001b[0m\n"
     ]
    },
    {
     "name": "stdout",
     "output_type": "stream",
     "text": [
      "Early stopping, best iteration is:\n",
      "[25]\ttraining's l1: 1.90317\tvalid_1's l1: 2.25887\n",
      "[LightGBM] [Warning] feature_fraction is set=0.3581357665733716, colsample_bytree=0.6 will be ignored. Current value: feature_fraction=0.3581357665733716\n",
      "[LightGBM] [Warning] bagging_fraction is set=0.8314063735466639, subsample=0.6 will be ignored. Current value: bagging_fraction=0.8314063735466639\n",
      "[LightGBM] [Warning] bagging_freq is set=14, subsample_freq=0 will be ignored. Current value: bagging_freq=14\n",
      "Training until validation scores don't improve for 100 rounds\n",
      "[100]\ttraining's l1: 1.67958\tvalid_1's l1: 2.30329\n"
     ]
    },
    {
     "name": "stderr",
     "output_type": "stream",
     "text": [
      "\u001b[32m[I 2021-07-26 14:29:18,784]\u001b[0m Trial 8 finished with value: -2.2752094308174673 and parameters: {'max_depth': 16, 'min_child_weight': 5, 'subsample': 0.6, 'colsample_bytree': 0.6, 'reg_lambda': 0.011774827995178639, 'reg_alpha': 1.103908506937127, 'feature_fraction': 0.3581357665733716, 'bagging_fraction': 0.8314063735466639, 'bagging_freq': 14, 'num_leaves': 657, 'min_child_samples': 37}. Best is trial 6 with value: -2.214856528377937.\u001b[0m\n"
     ]
    },
    {
     "name": "stdout",
     "output_type": "stream",
     "text": [
      "Early stopping, best iteration is:\n",
      "[19]\ttraining's l1: 1.88569\tvalid_1's l1: 2.27521\n",
      "[LightGBM] [Warning] feature_fraction is set=0.7759381937093739, colsample_bytree=0.6 will be ignored. Current value: feature_fraction=0.7759381937093739\n",
      "[LightGBM] [Warning] bagging_fraction is set=0.6595680346845791, subsample=0.7 will be ignored. Current value: bagging_fraction=0.6595680346845791\n",
      "[LightGBM] [Warning] bagging_freq is set=6, subsample_freq=0 will be ignored. Current value: bagging_freq=6\n",
      "Training until validation scores don't improve for 100 rounds\n",
      "[100]\ttraining's l1: 1.66097\tvalid_1's l1: 2.27152\n"
     ]
    },
    {
     "name": "stderr",
     "output_type": "stream",
     "text": [
      "\u001b[32m[I 2021-07-26 14:29:31,026]\u001b[0m Trial 9 finished with value: -2.2179589628722844 and parameters: {'max_depth': 20, 'min_child_weight': 11, 'subsample': 0.7, 'colsample_bytree': 0.6, 'reg_lambda': 0.06059824375205264, 'reg_alpha': 0.004430558439811732, 'feature_fraction': 0.7759381937093739, 'bagging_fraction': 0.6595680346845791, 'bagging_freq': 6, 'num_leaves': 738, 'min_child_samples': 94}. Best is trial 6 with value: -2.214856528377937.\u001b[0m\n"
     ]
    },
    {
     "name": "stdout",
     "output_type": "stream",
     "text": [
      "Early stopping, best iteration is:\n",
      "[22]\ttraining's l1: 1.78203\tvalid_1's l1: 2.21796\n",
      "[LightGBM] [Warning] feature_fraction is set=0.5772337217243916, colsample_bytree=0.9 will be ignored. Current value: feature_fraction=0.5772337217243916\n",
      "[LightGBM] [Warning] bagging_fraction is set=0.5892334467664072, subsample=0.5 will be ignored. Current value: bagging_fraction=0.5892334467664072\n",
      "[LightGBM] [Warning] bagging_freq is set=20, subsample_freq=0 will be ignored. Current value: bagging_freq=20\n",
      "Training until validation scores don't improve for 100 rounds\n",
      "[100]\ttraining's l1: 1.69342\tvalid_1's l1: 2.24167\n"
     ]
    },
    {
     "name": "stderr",
     "output_type": "stream",
     "text": [
      "\u001b[32m[I 2021-07-26 14:29:39,700]\u001b[0m Trial 10 finished with value: -2.2257947095762387 and parameters: {'max_depth': 11, 'min_child_weight': 13, 'subsample': 0.5, 'colsample_bytree': 0.9, 'reg_lambda': 0.001001852086615857, 'reg_alpha': 0.0010811848890507538, 'feature_fraction': 0.5772337217243916, 'bagging_fraction': 0.5892334467664072, 'bagging_freq': 20, 'num_leaves': 965, 'min_child_samples': 89}. Best is trial 6 with value: -2.214856528377937.\u001b[0m\n"
     ]
    },
    {
     "name": "stdout",
     "output_type": "stream",
     "text": [
      "Early stopping, best iteration is:\n",
      "[40]\ttraining's l1: 1.7447\tvalid_1's l1: 2.22579\n",
      "[LightGBM] [Warning] feature_fraction is set=0.7077949190679659, colsample_bytree=0.9 will be ignored. Current value: feature_fraction=0.7077949190679659\n",
      "[LightGBM] [Warning] bagging_fraction is set=0.653085274861054, subsample=0.6 will be ignored. Current value: bagging_fraction=0.653085274861054\n",
      "[LightGBM] [Warning] bagging_freq is set=6, subsample_freq=0 will be ignored. Current value: bagging_freq=6\n",
      "Training until validation scores don't improve for 100 rounds\n",
      "[100]\ttraining's l1: 1.64239\tvalid_1's l1: 2.2825\n"
     ]
    },
    {
     "name": "stderr",
     "output_type": "stream",
     "text": [
      "\u001b[32m[I 2021-07-26 14:29:50,526]\u001b[0m Trial 11 finished with value: -2.2136270280054684 and parameters: {'max_depth': 20, 'min_child_weight': 14, 'subsample': 0.6, 'colsample_bytree': 0.9, 'reg_lambda': 0.7201560427768333, 'reg_alpha': 0.013959932663436073, 'feature_fraction': 0.7077949190679659, 'bagging_fraction': 0.653085274861054, 'bagging_freq': 6, 'num_leaves': 914, 'min_child_samples': 97}. Best is trial 11 with value: -2.2136270280054684.\u001b[0m\n"
     ]
    },
    {
     "name": "stdout",
     "output_type": "stream",
     "text": [
      "Early stopping, best iteration is:\n",
      "[21]\ttraining's l1: 1.78528\tvalid_1's l1: 2.21363\n",
      "[LightGBM] [Warning] feature_fraction is set=0.6192786889046007, colsample_bytree=0.9 will be ignored. Current value: feature_fraction=0.6192786889046007\n",
      "[LightGBM] [Warning] bagging_fraction is set=0.6474739405167745, subsample=0.5 will be ignored. Current value: bagging_fraction=0.6474739405167745\n",
      "[LightGBM] [Warning] bagging_freq is set=6, subsample_freq=0 will be ignored. Current value: bagging_freq=6\n",
      "Training until validation scores don't improve for 100 rounds\n",
      "[100]\ttraining's l1: 1.82433\tvalid_1's l1: 2.24283\n",
      "[200]\ttraining's l1: 1.77213\tvalid_1's l1: 2.23242\n"
     ]
    },
    {
     "name": "stderr",
     "output_type": "stream",
     "text": [
      "\u001b[32m[I 2021-07-26 14:29:58,814]\u001b[0m Trial 12 finished with value: -2.230378041209358 and parameters: {'max_depth': 10, 'min_child_weight': 15, 'subsample': 0.5, 'colsample_bytree': 0.9, 'reg_lambda': 0.7983157841419937, 'reg_alpha': 0.03094769473872531, 'feature_fraction': 0.6192786889046007, 'bagging_fraction': 0.6474739405167745, 'bagging_freq': 6, 'num_leaves': 58, 'min_child_samples': 23}. Best is trial 11 with value: -2.2136270280054684.\u001b[0m\n"
     ]
    },
    {
     "name": "stdout",
     "output_type": "stream",
     "text": [
      "Early stopping, best iteration is:\n",
      "[167]\ttraining's l1: 1.78651\tvalid_1's l1: 2.23184\n",
      "[LightGBM] [Warning] feature_fraction is set=0.9969411823074734, colsample_bytree=0.8 will be ignored. Current value: feature_fraction=0.9969411823074734\n",
      "[LightGBM] [Warning] bagging_fraction is set=0.9855556802405508, subsample=0.6 will be ignored. Current value: bagging_fraction=0.9855556802405508\n",
      "[LightGBM] [Warning] bagging_freq is set=13, subsample_freq=0 will be ignored. Current value: bagging_freq=13\n",
      "Training until validation scores don't improve for 100 rounds\n",
      "[100]\ttraining's l1: 2.05096\tvalid_1's l1: 2.35594\n",
      "[200]\ttraining's l1: 2.012\tvalid_1's l1: 2.32315\n",
      "[300]\ttraining's l1: 1.99158\tvalid_1's l1: 2.31165\n",
      "[400]\ttraining's l1: 1.97763\tvalid_1's l1: 2.30338\n",
      "[500]\ttraining's l1: 1.96681\tvalid_1's l1: 2.29848\n",
      "[600]\ttraining's l1: 1.95745\tvalid_1's l1: 2.29776\n",
      "[700]\ttraining's l1: 1.95121\tvalid_1's l1: 2.29719\n",
      "[800]\ttraining's l1: 1.9449\tvalid_1's l1: 2.29412\n",
      "[900]\ttraining's l1: 1.94069\tvalid_1's l1: 2.29374\n",
      "[1000]\ttraining's l1: 1.93774\tvalid_1's l1: 2.29187\n",
      "[1100]\ttraining's l1: 1.93432\tvalid_1's l1: 2.29157\n",
      "[1200]\ttraining's l1: 1.93088\tvalid_1's l1: 2.29341\n",
      "Early stopping, best iteration is:\n",
      "[1107]\ttraining's l1: 1.93376\tvalid_1's l1: 2.2907\n"
     ]
    },
    {
     "name": "stderr",
     "output_type": "stream",
     "text": [
      "\u001b[32m[I 2021-07-26 14:30:28,025]\u001b[0m Trial 13 finished with value: -2.289953006208647 and parameters: {'max_depth': 2, 'min_child_weight': 16, 'subsample': 0.6, 'colsample_bytree': 0.8, 'reg_lambda': 1.1611348231811163, 'reg_alpha': 0.026905850366826807, 'feature_fraction': 0.9969411823074734, 'bagging_fraction': 0.9855556802405508, 'bagging_freq': 13, 'num_leaves': 998, 'min_child_samples': 80}. Best is trial 11 with value: -2.2136270280054684.\u001b[0m\n"
     ]
    },
    {
     "name": "stdout",
     "output_type": "stream",
     "text": [
      "[LightGBM] [Warning] feature_fraction is set=0.5994421855051892, colsample_bytree=0.8 will be ignored. Current value: feature_fraction=0.5994421855051892\n",
      "[LightGBM] [Warning] bagging_fraction is set=0.5234993058253748, subsample=0.6 will be ignored. Current value: bagging_fraction=0.5234993058253748\n",
      "[LightGBM] [Warning] bagging_freq is set=4, subsample_freq=0 will be ignored. Current value: bagging_freq=4\n",
      "Training until validation scores don't improve for 100 rounds\n",
      "[100]\ttraining's l1: 1.67951\tvalid_1's l1: 2.24779\n"
     ]
    },
    {
     "name": "stderr",
     "output_type": "stream",
     "text": [
      "\u001b[32m[I 2021-07-26 14:30:37,198]\u001b[0m Trial 14 finished with value: -2.2145132870291717 and parameters: {'max_depth': 12, 'min_child_weight': 1, 'subsample': 0.6, 'colsample_bytree': 0.8, 'reg_lambda': 0.6123785419782813, 'reg_alpha': 0.03834052950511012, 'feature_fraction': 0.5994421855051892, 'bagging_fraction': 0.5234993058253748, 'bagging_freq': 4, 'num_leaves': 853, 'min_child_samples': 81}. Best is trial 11 with value: -2.2136270280054684.\u001b[0m\n"
     ]
    },
    {
     "name": "stdout",
     "output_type": "stream",
     "text": [
      "Early stopping, best iteration is:\n",
      "[22]\ttraining's l1: 1.80197\tvalid_1's l1: 2.21451\n",
      "[LightGBM] [Warning] feature_fraction is set=0.5625082136787978, colsample_bytree=0.9 will be ignored. Current value: feature_fraction=0.5625082136787978\n",
      "[LightGBM] [Warning] bagging_fraction is set=0.5143208683338181, subsample=0.5 will be ignored. Current value: bagging_fraction=0.5143208683338181\n",
      "[LightGBM] [Warning] bagging_freq is set=4, subsample_freq=0 will be ignored. Current value: bagging_freq=4\n",
      "Training until validation scores don't improve for 100 rounds\n",
      "[100]\ttraining's l1: 1.65981\tvalid_1's l1: 2.28691\n"
     ]
    },
    {
     "name": "stderr",
     "output_type": "stream",
     "text": [
      "\u001b[32m[I 2021-07-26 14:30:48,274]\u001b[0m Trial 15 finished with value: -2.2269680271246894 and parameters: {'max_depth': 20, 'min_child_weight': 1, 'subsample': 0.5, 'colsample_bytree': 0.9, 'reg_lambda': 1.3385612184570075, 'reg_alpha': 0.05533271346423671, 'feature_fraction': 0.5625082136787978, 'bagging_fraction': 0.5143208683338181, 'bagging_freq': 4, 'num_leaves': 853, 'min_child_samples': 100}. Best is trial 11 with value: -2.2136270280054684.\u001b[0m\n"
     ]
    },
    {
     "name": "stdout",
     "output_type": "stream",
     "text": [
      "Early stopping, best iteration is:\n",
      "[19]\ttraining's l1: 1.82995\tvalid_1's l1: 2.22697\n",
      "[LightGBM] [Warning] feature_fraction is set=0.6832720187339352, colsample_bytree=0.8 will be ignored. Current value: feature_fraction=0.6832720187339352\n",
      "[LightGBM] [Warning] bagging_fraction is set=0.7200228414436576, subsample=0.6 will be ignored. Current value: bagging_fraction=0.7200228414436576\n",
      "[LightGBM] [Warning] bagging_freq is set=8, subsample_freq=0 will be ignored. Current value: bagging_freq=8\n",
      "Training until validation scores don't improve for 100 rounds\n",
      "[100]\ttraining's l1: 1.64352\tvalid_1's l1: 2.27141\n"
     ]
    },
    {
     "name": "stderr",
     "output_type": "stream",
     "text": [
      "\u001b[32m[I 2021-07-26 14:30:58,661]\u001b[0m Trial 16 finished with value: -2.2269843511300293 and parameters: {'max_depth': 17, 'min_child_weight': 10, 'subsample': 0.6, 'colsample_bytree': 0.8, 'reg_lambda': 6.047734987300443, 'reg_alpha': 2.4757196346087813, 'feature_fraction': 0.6832720187339352, 'bagging_fraction': 0.7200228414436576, 'bagging_freq': 8, 'num_leaves': 873, 'min_child_samples': 80}. Best is trial 11 with value: -2.2136270280054684.\u001b[0m\n"
     ]
    },
    {
     "name": "stdout",
     "output_type": "stream",
     "text": [
      "Early stopping, best iteration is:\n",
      "[20]\ttraining's l1: 1.80627\tvalid_1's l1: 2.22698\n",
      "[LightGBM] [Warning] feature_fraction is set=0.45645268394039096, colsample_bytree=0.9 will be ignored. Current value: feature_fraction=0.45645268394039096\n",
      "[LightGBM] [Warning] bagging_fraction is set=0.4365617234298619, subsample=0.6 will be ignored. Current value: bagging_fraction=0.4365617234298619\n",
      "[LightGBM] [Warning] bagging_freq is set=2, subsample_freq=0 will be ignored. Current value: bagging_freq=2\n",
      "Training until validation scores don't improve for 100 rounds\n",
      "[100]\ttraining's l1: 1.68331\tvalid_1's l1: 2.28032\n"
     ]
    },
    {
     "name": "stderr",
     "output_type": "stream",
     "text": [
      "\u001b[32m[I 2021-07-26 14:31:06,865]\u001b[0m Trial 17 finished with value: -2.237418935782957 and parameters: {'max_depth': 13, 'min_child_weight': 1, 'subsample': 0.6, 'colsample_bytree': 0.9, 'reg_lambda': 0.45386696957970496, 'reg_alpha': 0.08041448989894584, 'feature_fraction': 0.45645268394039096, 'bagging_fraction': 0.4365617234298619, 'bagging_freq': 2, 'num_leaves': 851, 'min_child_samples': 79}. Best is trial 11 with value: -2.2136270280054684.\u001b[0m\n"
     ]
    },
    {
     "name": "stdout",
     "output_type": "stream",
     "text": [
      "Early stopping, best iteration is:\n",
      "[19]\ttraining's l1: 1.85206\tvalid_1's l1: 2.23742\n",
      "[LightGBM] [Warning] feature_fraction is set=0.46376325226227977, colsample_bytree=0.8 will be ignored. Current value: feature_fraction=0.46376325226227977\n",
      "[LightGBM] [Warning] bagging_fraction is set=0.4828205702941868, subsample=0.5 will be ignored. Current value: bagging_fraction=0.4828205702941868\n",
      "[LightGBM] [Warning] bagging_freq is set=3, subsample_freq=0 will be ignored. Current value: bagging_freq=3\n",
      "Training until validation scores don't improve for 100 rounds\n",
      "[100]\ttraining's l1: 1.72\tvalid_1's l1: 2.28719\n"
     ]
    },
    {
     "name": "stderr",
     "output_type": "stream",
     "text": [
      "\u001b[32m[I 2021-07-26 14:31:15,789]\u001b[0m Trial 18 finished with value: -2.2646028201969424 and parameters: {'max_depth': 20, 'min_child_weight': 13, 'subsample': 0.5, 'colsample_bytree': 0.8, 'reg_lambda': 404.9707316046382, 'reg_alpha': 0.001119487529401253, 'feature_fraction': 0.46376325226227977, 'bagging_fraction': 0.4828205702941868, 'bagging_freq': 3, 'num_leaves': 560, 'min_child_samples': 100}. Best is trial 11 with value: -2.2136270280054684.\u001b[0m\n"
     ]
    },
    {
     "name": "stdout",
     "output_type": "stream",
     "text": [
      "Early stopping, best iteration is:\n",
      "[29]\ttraining's l1: 1.86072\tvalid_1's l1: 2.2646\n",
      "[LightGBM] [Warning] feature_fraction is set=0.7155003189329212, colsample_bytree=0.9 will be ignored. Current value: feature_fraction=0.7155003189329212\n",
      "[LightGBM] [Warning] bagging_fraction is set=0.5638259924363801, subsample=0.8 will be ignored. Current value: bagging_fraction=0.5638259924363801\n",
      "[LightGBM] [Warning] bagging_freq is set=8, subsample_freq=0 will be ignored. Current value: bagging_freq=8\n",
      "Training until validation scores don't improve for 100 rounds\n",
      "[100]\ttraining's l1: 1.8784\tvalid_1's l1: 2.26813\n",
      "[200]\ttraining's l1: 1.84837\tvalid_1's l1: 2.2713\n"
     ]
    },
    {
     "name": "stderr",
     "output_type": "stream",
     "text": [
      "\u001b[32m[I 2021-07-26 14:31:21,460]\u001b[0m Trial 19 finished with value: -2.2636132757345067 and parameters: {'max_depth': 5, 'min_child_weight': 10, 'subsample': 0.8, 'colsample_bytree': 0.9, 'reg_lambda': 0.3574227874264026, 'reg_alpha': 0.016032387355614346, 'feature_fraction': 0.7155003189329212, 'bagging_fraction': 0.5638259924363801, 'bagging_freq': 8, 'num_leaves': 950, 'min_child_samples': 87}. Best is trial 11 with value: -2.2136270280054684.\u001b[0m\n"
     ]
    },
    {
     "name": "stdout",
     "output_type": "stream",
     "text": [
      "Early stopping, best iteration is:\n",
      "[124]\ttraining's l1: 1.86999\tvalid_1's l1: 2.26379\n",
      "[LightGBM] [Warning] feature_fraction is set=0.4722352419161776, colsample_bytree=0.8 will be ignored. Current value: feature_fraction=0.4722352419161776\n",
      "[LightGBM] [Warning] bagging_fraction is set=0.6921392236143485, subsample=0.6 will be ignored. Current value: bagging_fraction=0.6921392236143485\n",
      "[LightGBM] [Warning] bagging_freq is set=8, subsample_freq=0 will be ignored. Current value: bagging_freq=8\n",
      "Training until validation scores don't improve for 100 rounds\n",
      "[100]\ttraining's l1: 1.66474\tvalid_1's l1: 2.28092\n"
     ]
    },
    {
     "name": "stderr",
     "output_type": "stream",
     "text": [
      "\u001b[32m[I 2021-07-26 14:31:31,513]\u001b[0m Trial 20 finished with value: -2.2342613344015745 and parameters: {'max_depth': 16, 'min_child_weight': 3, 'subsample': 0.6, 'colsample_bytree': 0.8, 'reg_lambda': 0.002448752420286166, 'reg_alpha': 0.1792252803801465, 'feature_fraction': 0.4722352419161776, 'bagging_fraction': 0.6921392236143485, 'bagging_freq': 8, 'num_leaves': 763, 'min_child_samples': 73}. Best is trial 11 with value: -2.2136270280054684.\u001b[0m\n"
     ]
    },
    {
     "name": "stdout",
     "output_type": "stream",
     "text": [
      "Early stopping, best iteration is:\n",
      "[21]\ttraining's l1: 1.82909\tvalid_1's l1: 2.23426\n",
      "[LightGBM] [Warning] feature_fraction is set=0.993014969788623, colsample_bytree=0.8 will be ignored. Current value: feature_fraction=0.993014969788623\n",
      "[LightGBM] [Warning] bagging_fraction is set=0.7676297057810079, subsample=0.7 will be ignored. Current value: bagging_fraction=0.7676297057810079\n",
      "[LightGBM] [Warning] bagging_freq is set=17, subsample_freq=0 will be ignored. Current value: bagging_freq=17\n",
      "Training until validation scores don't improve for 100 rounds\n",
      "[100]\ttraining's l1: 1.68405\tvalid_1's l1: 2.22877\n"
     ]
    },
    {
     "name": "stderr",
     "output_type": "stream",
     "text": [
      "\u001b[32m[I 2021-07-26 14:31:40,903]\u001b[0m Trial 21 finished with value: -2.196411966693412 and parameters: {'max_depth': 11, 'min_child_weight': 16, 'subsample': 0.7, 'colsample_bytree': 0.8, 'reg_lambda': 0.19248454834439976, 'reg_alpha': 0.005627683002329473, 'feature_fraction': 0.993014969788623, 'bagging_fraction': 0.7676297057810079, 'bagging_freq': 17, 'num_leaves': 565, 'min_child_samples': 48}. Best is trial 21 with value: -2.196411966693412.\u001b[0m\n"
     ]
    },
    {
     "name": "stdout",
     "output_type": "stream",
     "text": [
      "Early stopping, best iteration is:\n",
      "[24]\ttraining's l1: 1.78279\tvalid_1's l1: 2.19641\n",
      "[LightGBM] [Warning] feature_fraction is set=0.9150198460632342, colsample_bytree=0.8 will be ignored. Current value: feature_fraction=0.9150198460632342\n",
      "[LightGBM] [Warning] bagging_fraction is set=0.7382423852042181, subsample=0.7 will be ignored. Current value: bagging_fraction=0.7382423852042181\n",
      "[LightGBM] [Warning] bagging_freq is set=12, subsample_freq=0 will be ignored. Current value: bagging_freq=12\n",
      "Training until validation scores don't improve for 100 rounds\n",
      "[100]\ttraining's l1: 1.68008\tvalid_1's l1: 2.23489\n"
     ]
    },
    {
     "name": "stderr",
     "output_type": "stream",
     "text": [
      "\u001b[32m[I 2021-07-26 14:31:50,502]\u001b[0m Trial 22 finished with value: -2.1967791624623336 and parameters: {'max_depth': 12, 'min_child_weight': 15, 'subsample': 0.7, 'colsample_bytree': 0.8, 'reg_lambda': 2.7926104659849447, 'reg_alpha': 0.0026878140216693327, 'feature_fraction': 0.9150198460632342, 'bagging_fraction': 0.7382423852042181, 'bagging_freq': 12, 'num_leaves': 549, 'min_child_samples': 47}. Best is trial 21 with value: -2.196411966693412.\u001b[0m\n"
     ]
    },
    {
     "name": "stdout",
     "output_type": "stream",
     "text": [
      "Early stopping, best iteration is:\n",
      "[25]\ttraining's l1: 1.77549\tvalid_1's l1: 2.19678\n",
      "[LightGBM] [Warning] feature_fraction is set=0.8897346895363046, colsample_bytree=0.9 will be ignored. Current value: feature_fraction=0.8897346895363046\n",
      "[LightGBM] [Warning] bagging_fraction is set=0.7618432739788071, subsample=0.8 will be ignored. Current value: bagging_fraction=0.7618432739788071\n",
      "[LightGBM] [Warning] bagging_freq is set=13, subsample_freq=0 will be ignored. Current value: bagging_freq=13\n",
      "Training until validation scores don't improve for 100 rounds\n",
      "[100]\ttraining's l1: 1.76253\tvalid_1's l1: 2.23003\n"
     ]
    },
    {
     "name": "stderr",
     "output_type": "stream",
     "text": [
      "\u001b[32m[I 2021-07-26 14:31:59,303]\u001b[0m Trial 23 finished with value: -2.2243484872279633 and parameters: {'max_depth': 8, 'min_child_weight': 15, 'subsample': 0.8, 'colsample_bytree': 0.9, 'reg_lambda': 4.506207557345, 'reg_alpha': 0.0015348379755159884, 'feature_fraction': 0.8897346895363046, 'bagging_fraction': 0.7618432739788071, 'bagging_freq': 13, 'num_leaves': 569, 'min_child_samples': 46}. Best is trial 21 with value: -2.196411966693412.\u001b[0m\n"
     ]
    },
    {
     "name": "stdout",
     "output_type": "stream",
     "text": [
      "[200]\ttraining's l1: 1.72285\tvalid_1's l1: 2.23207\n",
      "Early stopping, best iteration is:\n",
      "[103]\ttraining's l1: 1.75908\tvalid_1's l1: 2.22445\n",
      "[LightGBM] [Warning] feature_fraction is set=0.9458750361420679, colsample_bytree=0.7 will be ignored. Current value: feature_fraction=0.9458750361420679\n",
      "[LightGBM] [Warning] bagging_fraction is set=0.7757845878006524, subsample=0.7 will be ignored. Current value: bagging_fraction=0.7757845878006524\n",
      "[LightGBM] [Warning] bagging_freq is set=16, subsample_freq=0 will be ignored. Current value: bagging_freq=16\n",
      "Training until validation scores don't improve for 100 rounds\n",
      "[100]\ttraining's l1: 1.67589\tvalid_1's l1: 2.25788\n"
     ]
    },
    {
     "name": "stderr",
     "output_type": "stream",
     "text": [
      "\u001b[32m[I 2021-07-26 14:32:09,978]\u001b[0m Trial 24 finished with value: -2.2117324301035026 and parameters: {'max_depth': 15, 'min_child_weight': 13, 'subsample': 0.7, 'colsample_bytree': 0.7, 'reg_lambda': 34.49132623809538, 'reg_alpha': 0.0034307525364475487, 'feature_fraction': 0.9458750361420679, 'bagging_fraction': 0.7757845878006524, 'bagging_freq': 16, 'num_leaves': 536, 'min_child_samples': 29}. Best is trial 21 with value: -2.196411966693412.\u001b[0m\n"
     ]
    },
    {
     "name": "stdout",
     "output_type": "stream",
     "text": [
      "Early stopping, best iteration is:\n",
      "[21]\ttraining's l1: 1.81451\tvalid_1's l1: 2.21173\n",
      "[LightGBM] [Warning] feature_fraction is set=0.9456225634589284, colsample_bytree=0.7 will be ignored. Current value: feature_fraction=0.9456225634589284\n",
      "[LightGBM] [Warning] bagging_fraction is set=0.7415564911511697, subsample=0.7 will be ignored. Current value: bagging_fraction=0.7415564911511697\n",
      "[LightGBM] [Warning] bagging_freq is set=17, subsample_freq=0 will be ignored. Current value: bagging_freq=17\n",
      "Training until validation scores don't improve for 100 rounds\n",
      "[100]\ttraining's l1: 1.67818\tvalid_1's l1: 2.25348\n"
     ]
    },
    {
     "name": "stderr",
     "output_type": "stream",
     "text": [
      "\u001b[32m[I 2021-07-26 14:32:19,994]\u001b[0m Trial 25 finished with value: -2.2139106857461806 and parameters: {'max_depth': 14, 'min_child_weight': 17, 'subsample': 0.7, 'colsample_bytree': 0.7, 'reg_lambda': 45.86705837992305, 'reg_alpha': 0.0032712141570796363, 'feature_fraction': 0.9456225634589284, 'bagging_fraction': 0.7415564911511697, 'bagging_freq': 17, 'num_leaves': 516, 'min_child_samples': 24}. Best is trial 21 with value: -2.196411966693412.\u001b[0m\n"
     ]
    },
    {
     "name": "stdout",
     "output_type": "stream",
     "text": [
      "Early stopping, best iteration is:\n",
      "[21]\ttraining's l1: 1.8211\tvalid_1's l1: 2.21391\n",
      "[LightGBM] [Warning] feature_fraction is set=0.810336125809012, colsample_bytree=0.7 will be ignored. Current value: feature_fraction=0.810336125809012\n",
      "[LightGBM] [Warning] bagging_fraction is set=0.9424214690264736, subsample=0.8 will be ignored. Current value: bagging_fraction=0.9424214690264736\n",
      "[LightGBM] [Warning] bagging_freq is set=15, subsample_freq=0 will be ignored. Current value: bagging_freq=15\n",
      "Training until validation scores don't improve for 100 rounds\n",
      "[100]\ttraining's l1: 1.72114\tvalid_1's l1: 2.2728\n"
     ]
    },
    {
     "name": "stderr",
     "output_type": "stream",
     "text": [
      "\u001b[32m[I 2021-07-26 14:32:30,553]\u001b[0m Trial 26 finished with value: -2.251700848879978 and parameters: {'max_depth': 12, 'min_child_weight': 11, 'subsample': 0.8, 'colsample_bytree': 0.7, 'reg_lambda': 647.3163693808851, 'reg_alpha': 0.0017537226374431344, 'feature_fraction': 0.810336125809012, 'bagging_fraction': 0.9424214690264736, 'bagging_freq': 15, 'num_leaves': 385, 'min_child_samples': 26}. Best is trial 21 with value: -2.196411966693412.\u001b[0m\n"
     ]
    },
    {
     "name": "stdout",
     "output_type": "stream",
     "text": [
      "Early stopping, best iteration is:\n",
      "[39]\ttraining's l1: 1.78087\tvalid_1's l1: 2.2517\n",
      "[LightGBM] [Warning] feature_fraction is set=0.9490321089776125, colsample_bytree=0.7 will be ignored. Current value: feature_fraction=0.9490321089776125\n",
      "[LightGBM] [Warning] bagging_fraction is set=0.8324773335300777, subsample=0.7 will be ignored. Current value: bagging_fraction=0.8324773335300777\n",
      "[LightGBM] [Warning] bagging_freq is set=13, subsample_freq=0 will be ignored. Current value: bagging_freq=13\n",
      "Training until validation scores don't improve for 100 rounds\n",
      "[100]\ttraining's l1: 1.67018\tvalid_1's l1: 2.26447\n"
     ]
    },
    {
     "name": "stderr",
     "output_type": "stream",
     "text": [
      "\u001b[32m[I 2021-07-26 14:32:42,118]\u001b[0m Trial 27 finished with value: -2.2113754993596313 and parameters: {'max_depth': 15, 'min_child_weight': 13, 'subsample': 0.7, 'colsample_bytree': 0.7, 'reg_lambda': 102.5583301729633, 'reg_alpha': 0.01171916888330505, 'feature_fraction': 0.9490321089776125, 'bagging_fraction': 0.8324773335300777, 'bagging_freq': 13, 'num_leaves': 589, 'min_child_samples': 34}. Best is trial 21 with value: -2.196411966693412.\u001b[0m\n"
     ]
    },
    {
     "name": "stdout",
     "output_type": "stream",
     "text": [
      "Early stopping, best iteration is:\n",
      "[20]\ttraining's l1: 1.83288\tvalid_1's l1: 2.21138\n",
      "[LightGBM] [Warning] feature_fraction is set=0.9505165663416627, colsample_bytree=0.8 will be ignored. Current value: feature_fraction=0.9505165663416627\n",
      "[LightGBM] [Warning] bagging_fraction is set=0.8698811437022502, subsample=0.7 will be ignored. Current value: bagging_fraction=0.8698811437022502\n",
      "[LightGBM] [Warning] bagging_freq is set=12, subsample_freq=0 will be ignored. Current value: bagging_freq=12\n",
      "Training until validation scores don't improve for 100 rounds\n",
      "[100]\ttraining's l1: 1.73282\tvalid_1's l1: 2.24412\n"
     ]
    },
    {
     "name": "stderr",
     "output_type": "stream",
     "text": [
      "\u001b[32m[I 2021-07-26 14:32:49,816]\u001b[0m Trial 28 finished with value: -2.231194771473618 and parameters: {'max_depth': 9, 'min_child_weight': 20, 'subsample': 0.7, 'colsample_bytree': 0.8, 'reg_lambda': 0.19132539926713557, 'reg_alpha': 0.011566647473590732, 'feature_fraction': 0.9505165663416627, 'bagging_fraction': 0.8698811437022502, 'bagging_freq': 12, 'num_leaves': 618, 'min_child_samples': 9}. Best is trial 21 with value: -2.196411966693412.\u001b[0m\n"
     ]
    },
    {
     "name": "stdout",
     "output_type": "stream",
     "text": [
      "Early stopping, best iteration is:\n",
      "[24]\ttraining's l1: 1.82519\tvalid_1's l1: 2.23119\n",
      "[LightGBM] [Warning] feature_fraction is set=0.8193402508486739, colsample_bytree=0.5 will be ignored. Current value: feature_fraction=0.8193402508486739\n",
      "[LightGBM] [Warning] bagging_fraction is set=0.8143623157894686, subsample=0.8 will be ignored. Current value: bagging_fraction=0.8143623157894686\n",
      "[LightGBM] [Warning] bagging_freq is set=12, subsample_freq=0 will be ignored. Current value: bagging_freq=12\n",
      "Training until validation scores don't improve for 100 rounds\n",
      "[100]\ttraining's l1: 1.64931\tvalid_1's l1: 2.27113\n"
     ]
    },
    {
     "name": "stderr",
     "output_type": "stream",
     "text": [
      "\u001b[32m[I 2021-07-26 14:33:02,234]\u001b[0m Trial 29 finished with value: -2.2078427583794493 and parameters: {'max_depth': 18, 'min_child_weight': 16, 'subsample': 0.8, 'colsample_bytree': 0.5, 'reg_lambda': 2.7992483734470466, 'reg_alpha': 0.12704889129066396, 'feature_fraction': 0.8193402508486739, 'bagging_fraction': 0.8143623157894686, 'bagging_freq': 12, 'num_leaves': 751, 'min_child_samples': 47}. Best is trial 21 with value: -2.196411966693412.\u001b[0m\n"
     ]
    },
    {
     "name": "stdout",
     "output_type": "stream",
     "text": [
      "Early stopping, best iteration is:\n",
      "[19]\ttraining's l1: 1.8118\tvalid_1's l1: 2.20784\n",
      "[LightGBM] [Warning] feature_fraction is set=0.7906565489301753, colsample_bytree=0.5 will be ignored. Current value: feature_fraction=0.7906565489301753\n",
      "[LightGBM] [Warning] bagging_fraction is set=0.9058047875295994, subsample=0.9 will be ignored. Current value: bagging_fraction=0.9058047875295994\n",
      "[LightGBM] [Warning] bagging_freq is set=11, subsample_freq=0 will be ignored. Current value: bagging_freq=11\n",
      "Training until validation scores don't improve for 100 rounds\n",
      "[100]\ttraining's l1: 1.83098\tvalid_1's l1: 2.24252\n"
     ]
    },
    {
     "name": "stderr",
     "output_type": "stream",
     "text": [
      "\u001b[32m[I 2021-07-26 14:33:09,827]\u001b[0m Trial 30 finished with value: -2.241423207798441 and parameters: {'max_depth': 6, 'min_child_weight': 16, 'subsample': 0.9, 'colsample_bytree': 0.5, 'reg_lambda': 2.676510478460593, 'reg_alpha': 0.14741302804175202, 'feature_fraction': 0.7906565489301753, 'bagging_fraction': 0.9058047875295994, 'bagging_freq': 11, 'num_leaves': 765, 'min_child_samples': 52}. Best is trial 21 with value: -2.196411966693412.\u001b[0m\n"
     ]
    },
    {
     "name": "stdout",
     "output_type": "stream",
     "text": [
      "Early stopping, best iteration is:\n",
      "[96]\ttraining's l1: 1.8343\tvalid_1's l1: 2.24147\n",
      "[LightGBM] [Warning] feature_fraction is set=0.9103379645274261, colsample_bytree=0.5 will be ignored. Current value: feature_fraction=0.9103379645274261\n",
      "[LightGBM] [Warning] bagging_fraction is set=0.8130304162242343, subsample=0.8 will be ignored. Current value: bagging_fraction=0.8130304162242343\n",
      "[LightGBM] [Warning] bagging_freq is set=11, subsample_freq=0 will be ignored. Current value: bagging_freq=11\n",
      "Training until validation scores don't improve for 100 rounds\n",
      "[100]\ttraining's l1: 1.66552\tvalid_1's l1: 2.26863\n"
     ]
    },
    {
     "name": "stderr",
     "output_type": "stream",
     "text": [
      "\u001b[32m[I 2021-07-26 14:33:21,384]\u001b[0m Trial 31 finished with value: -2.207276592292272 and parameters: {'max_depth': 18, 'min_child_weight': 12, 'subsample': 0.8, 'colsample_bytree': 0.5, 'reg_lambda': 16.757642499006156, 'reg_alpha': 0.48590807299582434, 'feature_fraction': 0.9103379645274261, 'bagging_fraction': 0.8130304162242343, 'bagging_freq': 11, 'num_leaves': 610, 'min_child_samples': 36}. Best is trial 21 with value: -2.196411966693412.\u001b[0m\n"
     ]
    },
    {
     "name": "stdout",
     "output_type": "stream",
     "text": [
      "Early stopping, best iteration is:\n",
      "[21]\ttraining's l1: 1.80098\tvalid_1's l1: 2.20728\n",
      "[LightGBM] [Warning] feature_fraction is set=0.8619461976379024, colsample_bytree=0.5 will be ignored. Current value: feature_fraction=0.8619461976379024\n",
      "[LightGBM] [Warning] bagging_fraction is set=0.8307586304931265, subsample=0.8 will be ignored. Current value: bagging_fraction=0.8307586304931265\n",
      "[LightGBM] [Warning] bagging_freq is set=10, subsample_freq=0 will be ignored. Current value: bagging_freq=10\n",
      "Training until validation scores don't improve for 100 rounds\n",
      "[100]\ttraining's l1: 1.65483\tvalid_1's l1: 2.25784\n"
     ]
    },
    {
     "name": "stderr",
     "output_type": "stream",
     "text": [
      "\u001b[32m[I 2021-07-26 14:33:33,680]\u001b[0m Trial 32 finished with value: -2.2059869621018584 and parameters: {'max_depth': 18, 'min_child_weight': 17, 'subsample': 0.8, 'colsample_bytree': 0.5, 'reg_lambda': 11.515229609872291, 'reg_alpha': 1.5867801240247885, 'feature_fraction': 0.8619461976379024, 'bagging_fraction': 0.8307586304931265, 'bagging_freq': 10, 'num_leaves': 675, 'min_child_samples': 45}. Best is trial 21 with value: -2.196411966693412.\u001b[0m\n"
     ]
    },
    {
     "name": "stdout",
     "output_type": "stream",
     "text": [
      "Early stopping, best iteration is:\n",
      "[19]\ttraining's l1: 1.81496\tvalid_1's l1: 2.20599\n",
      "[LightGBM] [Warning] feature_fraction is set=0.8933067759453698, colsample_bytree=0.5 will be ignored. Current value: feature_fraction=0.8933067759453698\n",
      "[LightGBM] [Warning] bagging_fraction is set=0.7026062807440849, subsample=0.8 will be ignored. Current value: bagging_fraction=0.7026062807440849\n",
      "[LightGBM] [Warning] bagging_freq is set=10, subsample_freq=0 will be ignored. Current value: bagging_freq=10\n",
      "Training until validation scores don't improve for 100 rounds\n",
      "[100]\ttraining's l1: 1.67812\tvalid_1's l1: 2.26026\n"
     ]
    },
    {
     "name": "stderr",
     "output_type": "stream",
     "text": [
      "\u001b[32m[I 2021-07-26 14:33:43,970]\u001b[0m Trial 33 finished with value: -2.208720502127697 and parameters: {'max_depth': 18, 'min_child_weight': 18, 'subsample': 0.8, 'colsample_bytree': 0.5, 'reg_lambda': 13.280042636229512, 'reg_alpha': 4.131620677445378, 'feature_fraction': 0.8933067759453698, 'bagging_fraction': 0.7026062807440849, 'bagging_freq': 10, 'num_leaves': 475, 'min_child_samples': 38}. Best is trial 21 with value: -2.196411966693412.\u001b[0m\n"
     ]
    },
    {
     "name": "stdout",
     "output_type": "stream",
     "text": [
      "Early stopping, best iteration is:\n",
      "[20]\ttraining's l1: 1.82743\tvalid_1's l1: 2.20872\n",
      "[LightGBM] [Warning] feature_fraction is set=0.990820864985796, colsample_bytree=0.5 will be ignored. Current value: feature_fraction=0.990820864985796\n",
      "[LightGBM] [Warning] bagging_fraction is set=0.9504705523232229, subsample=0.9 will be ignored. Current value: bagging_fraction=0.9504705523232229\n",
      "[LightGBM] [Warning] bagging_freq is set=9, subsample_freq=0 will be ignored. Current value: bagging_freq=9\n",
      "Training until validation scores don't improve for 100 rounds\n",
      "[100]\ttraining's l1: 1.66827\tvalid_1's l1: 2.24552\n"
     ]
    },
    {
     "name": "stderr",
     "output_type": "stream",
     "text": [
      "\u001b[32m[I 2021-07-26 14:33:55,145]\u001b[0m Trial 34 finished with value: -2.2010815044391348 and parameters: {'max_depth': 12, 'min_child_weight': 12, 'subsample': 0.9, 'colsample_bytree': 0.5, 'reg_lambda': 7.461356669571695, 'reg_alpha': 0.5298306963899064, 'feature_fraction': 0.990820864985796, 'bagging_fraction': 0.9504705523232229, 'bagging_freq': 9, 'num_leaves': 675, 'min_child_samples': 54}. Best is trial 21 with value: -2.196411966693412.\u001b[0m\n"
     ]
    },
    {
     "name": "stdout",
     "output_type": "stream",
     "text": [
      "Early stopping, best iteration is:\n",
      "[24]\ttraining's l1: 1.76921\tvalid_1's l1: 2.20108\n",
      "[LightGBM] [Warning] feature_fraction is set=0.9948919345903916, colsample_bytree=0.6 will be ignored. Current value: feature_fraction=0.9948919345903916\n",
      "[LightGBM] [Warning] bagging_fraction is set=0.9422074568826587, subsample=0.9 will be ignored. Current value: bagging_fraction=0.9422074568826587\n",
      "[LightGBM] [Warning] bagging_freq is set=9, subsample_freq=0 will be ignored. Current value: bagging_freq=9\n",
      "Training until validation scores don't improve for 100 rounds\n",
      "[100]\ttraining's l1: 1.66222\tvalid_1's l1: 2.25285\n"
     ]
    },
    {
     "name": "stderr",
     "output_type": "stream",
     "text": [
      "\u001b[32m[I 2021-07-26 14:34:06,532]\u001b[0m Trial 35 finished with value: -2.2098723163169787 and parameters: {'max_depth': 12, 'min_child_weight': 20, 'subsample': 0.9, 'colsample_bytree': 0.6, 'reg_lambda': 9.088530307244914, 'reg_alpha': 7.870836374191191, 'feature_fraction': 0.9948919345903916, 'bagging_fraction': 0.9422074568826587, 'bagging_freq': 9, 'num_leaves': 685, 'min_child_samples': 53}. Best is trial 21 with value: -2.196411966693412.\u001b[0m\n"
     ]
    },
    {
     "name": "stdout",
     "output_type": "stream",
     "text": [
      "Early stopping, best iteration is:\n",
      "[24]\ttraining's l1: 1.77688\tvalid_1's l1: 2.20987\n",
      "[LightGBM] [Warning] feature_fraction is set=0.8377949080122769, colsample_bytree=0.5 will be ignored. Current value: feature_fraction=0.8377949080122769\n",
      "[LightGBM] [Warning] bagging_fraction is set=0.9821030417557852, subsample=0.9 will be ignored. Current value: bagging_fraction=0.9821030417557852\n",
      "[LightGBM] [Warning] bagging_freq is set=9, subsample_freq=0 will be ignored. Current value: bagging_freq=9\n",
      "Training until validation scores don't improve for 100 rounds\n",
      "[100]\ttraining's l1: 1.7088\tvalid_1's l1: 2.23548\n"
     ]
    },
    {
     "name": "stderr",
     "output_type": "stream",
     "text": [
      "\u001b[32m[I 2021-07-26 14:34:15,879]\u001b[0m Trial 36 finished with value: -2.2152046101609213 and parameters: {'max_depth': 11, 'min_child_weight': 9, 'subsample': 0.9, 'colsample_bytree': 0.5, 'reg_lambda': 0.17909504337584647, 'reg_alpha': 0.6262704377176054, 'feature_fraction': 0.8377949080122769, 'bagging_fraction': 0.9821030417557852, 'bagging_freq': 9, 'num_leaves': 341, 'min_child_samples': 69}. Best is trial 21 with value: -2.196411966693412.\u001b[0m\n"
     ]
    },
    {
     "name": "stdout",
     "output_type": "stream",
     "text": [
      "Early stopping, best iteration is:\n",
      "[27]\ttraining's l1: 1.79553\tvalid_1's l1: 2.2152\n",
      "[LightGBM] [Warning] feature_fraction is set=0.9979378966678594, colsample_bytree=0.6 will be ignored. Current value: feature_fraction=0.9979378966678594\n",
      "[LightGBM] [Warning] bagging_fraction is set=0.8921116579277127, subsample=0.9 will be ignored. Current value: bagging_fraction=0.8921116579277127\n",
      "[LightGBM] [Warning] bagging_freq is set=9, subsample_freq=0 will be ignored. Current value: bagging_freq=9\n",
      "Training until validation scores don't improve for 100 rounds\n",
      "[100]\ttraining's l1: 1.83429\tvalid_1's l1: 2.29546\n"
     ]
    },
    {
     "name": "stderr",
     "output_type": "stream",
     "text": [
      "\u001b[32m[I 2021-07-26 14:34:22,975]\u001b[0m Trial 37 finished with value: -2.2805631398591597 and parameters: {'max_depth': 9, 'min_child_weight': 15, 'subsample': 0.9, 'colsample_bytree': 0.6, 'reg_lambda': 2.0839600212535747, 'reg_alpha': 761.8169296749669, 'feature_fraction': 0.9979378966678594, 'bagging_fraction': 0.8921116579277127, 'bagging_freq': 9, 'num_leaves': 651, 'min_child_samples': 43}. Best is trial 21 with value: -2.196411966693412.\u001b[0m\n"
     ]
    },
    {
     "name": "stdout",
     "output_type": "stream",
     "text": [
      "Early stopping, best iteration is:\n",
      "[34]\ttraining's l1: 1.89685\tvalid_1's l1: 2.28056\n",
      "[LightGBM] [Warning] feature_fraction is set=0.8675575163173854, colsample_bytree=0.6 will be ignored. Current value: feature_fraction=0.8675575163173854\n",
      "[LightGBM] [Warning] bagging_fraction is set=0.8592614799113273, subsample=0.8 will be ignored. Current value: bagging_fraction=0.8592614799113273\n",
      "[LightGBM] [Warning] bagging_freq is set=20, subsample_freq=0 will be ignored. Current value: bagging_freq=20\n",
      "Training until validation scores don't improve for 100 rounds\n",
      "[100]\ttraining's l1: 1.66429\tvalid_1's l1: 2.25864\n"
     ]
    },
    {
     "name": "stderr",
     "output_type": "stream",
     "text": [
      "\u001b[32m[I 2021-07-26 14:34:34,807]\u001b[0m Trial 38 finished with value: -2.2129305554319605 and parameters: {'max_depth': 13, 'min_child_weight': 19, 'subsample': 0.8, 'colsample_bytree': 0.6, 'reg_lambda': 62.88833586368769, 'reg_alpha': 14.73607158655436, 'feature_fraction': 0.8675575163173854, 'bagging_fraction': 0.8592614799113273, 'bagging_freq': 20, 'num_leaves': 705, 'min_child_samples': 53}. Best is trial 21 with value: -2.196411966693412.\u001b[0m\n"
     ]
    },
    {
     "name": "stdout",
     "output_type": "stream",
     "text": [
      "Early stopping, best iteration is:\n",
      "[22]\ttraining's l1: 1.81582\tvalid_1's l1: 2.21293\n",
      "[LightGBM] [Warning] feature_fraction is set=0.9114968254436476, colsample_bytree=0.5 will be ignored. Current value: feature_fraction=0.9114968254436476\n",
      "[LightGBM] [Warning] bagging_fraction is set=0.7707462270299296, subsample=0.7 will be ignored. Current value: bagging_fraction=0.7707462270299296\n",
      "[LightGBM] [Warning] bagging_freq is set=15, subsample_freq=0 will be ignored. Current value: bagging_freq=15\n",
      "Training until validation scores don't improve for 100 rounds\n",
      "[100]\ttraining's l1: 1.98702\tvalid_1's l1: 2.31683\n",
      "[200]\ttraining's l1: 1.94505\tvalid_1's l1: 2.29401\n",
      "[300]\ttraining's l1: 1.92166\tvalid_1's l1: 2.28725\n",
      "[400]\ttraining's l1: 1.90958\tvalid_1's l1: 2.2872\n"
     ]
    },
    {
     "name": "stderr",
     "output_type": "stream",
     "text": [
      "\u001b[32m[I 2021-07-26 14:34:44,361]\u001b[0m Trial 39 finished with value: -2.2837916026427894 and parameters: {'max_depth': 3, 'min_child_weight': 17, 'subsample': 0.7, 'colsample_bytree': 0.5, 'reg_lambda': 4.967266556591612, 'reg_alpha': 1.6397235928796627, 'feature_fraction': 0.9114968254436476, 'bagging_fraction': 0.7707462270299296, 'bagging_freq': 15, 'num_leaves': 438, 'min_child_samples': 58}. Best is trial 21 with value: -2.196411966693412.\u001b[0m\n"
     ]
    },
    {
     "name": "stdout",
     "output_type": "stream",
     "text": [
      "Early stopping, best iteration is:\n",
      "[311]\ttraining's l1: 1.92048\tvalid_1's l1: 2.28537\n",
      "[LightGBM] [Warning] feature_fraction is set=0.7595825809155763, colsample_bytree=0.8 will be ignored. Current value: feature_fraction=0.7595825809155763\n",
      "[LightGBM] [Warning] bagging_fraction is set=0.9205882433742628, subsample=0.9 will be ignored. Current value: bagging_fraction=0.9205882433742628\n",
      "[LightGBM] [Warning] bagging_freq is set=7, subsample_freq=0 will be ignored. Current value: bagging_freq=7\n",
      "Training until validation scores don't improve for 100 rounds\n",
      "[100]\ttraining's l1: 1.81446\tvalid_1's l1: 2.26656\n"
     ]
    },
    {
     "name": "stderr",
     "output_type": "stream",
     "text": [
      "\u001b[32m[I 2021-07-26 14:34:50,828]\u001b[0m Trial 40 finished with value: -2.259991656842586 and parameters: {'max_depth': 7, 'min_child_weight': 14, 'subsample': 0.9, 'colsample_bytree': 0.8, 'reg_lambda': 0.009431640703182684, 'reg_alpha': 70.089623870736, 'feature_fraction': 0.7595825809155763, 'bagging_fraction': 0.9205882433742628, 'bagging_freq': 7, 'num_leaves': 285, 'min_child_samples': 42}. Best is trial 21 with value: -2.196411966693412.\u001b[0m\n"
     ]
    },
    {
     "name": "stdout",
     "output_type": "stream",
     "text": [
      "Early stopping, best iteration is:\n",
      "[28]\ttraining's l1: 1.89194\tvalid_1's l1: 2.25999\n",
      "[LightGBM] [Warning] feature_fraction is set=0.9219074126834478, colsample_bytree=0.5 will be ignored. Current value: feature_fraction=0.9219074126834478\n",
      "[LightGBM] [Warning] bagging_fraction is set=0.8057624619770823, subsample=0.8 will be ignored. Current value: bagging_fraction=0.8057624619770823\n",
      "[LightGBM] [Warning] bagging_freq is set=11, subsample_freq=0 will be ignored. Current value: bagging_freq=11\n",
      "Training until validation scores don't improve for 100 rounds\n",
      "[100]\ttraining's l1: 1.66077\tvalid_1's l1: 2.25745\n"
     ]
    },
    {
     "name": "stderr",
     "output_type": "stream",
     "text": [
      "\u001b[32m[I 2021-07-26 14:35:02,262]\u001b[0m Trial 41 finished with value: -2.1975664781087434 and parameters: {'max_depth': 19, 'min_child_weight': 12, 'subsample': 0.8, 'colsample_bytree': 0.5, 'reg_lambda': 6.162987703553914, 'reg_alpha': 0.37846623238329585, 'feature_fraction': 0.9219074126834478, 'bagging_fraction': 0.8057624619770823, 'bagging_freq': 11, 'num_leaves': 608, 'min_child_samples': 17}. Best is trial 21 with value: -2.196411966693412.\u001b[0m\n"
     ]
    },
    {
     "name": "stdout",
     "output_type": "stream",
     "text": [
      "Early stopping, best iteration is:\n",
      "[20]\ttraining's l1: 1.80514\tvalid_1's l1: 2.19757\n",
      "[LightGBM] [Warning] feature_fraction is set=0.9631765189957999, colsample_bytree=0.5 will be ignored. Current value: feature_fraction=0.9631765189957999\n",
      "[LightGBM] [Warning] bagging_fraction is set=0.8396058244316466, subsample=0.8 will be ignored. Current value: bagging_fraction=0.8396058244316466\n",
      "[LightGBM] [Warning] bagging_freq is set=11, subsample_freq=0 will be ignored. Current value: bagging_freq=11\n",
      "Training until validation scores don't improve for 100 rounds\n",
      "[100]\ttraining's l1: 1.65789\tvalid_1's l1: 2.25937\n"
     ]
    },
    {
     "name": "stderr",
     "output_type": "stream",
     "text": [
      "\u001b[32m[I 2021-07-26 14:35:14,170]\u001b[0m Trial 42 finished with value: -2.20902401166402 and parameters: {'max_depth': 13, 'min_child_weight': 12, 'subsample': 0.8, 'colsample_bytree': 0.5, 'reg_lambda': 23.6667215142013, 'reg_alpha': 0.3893216464723692, 'feature_fraction': 0.9631765189957999, 'bagging_fraction': 0.8396058244316466, 'bagging_freq': 11, 'num_leaves': 632, 'min_child_samples': 16}. Best is trial 21 with value: -2.196411966693412.\u001b[0m\n"
     ]
    },
    {
     "name": "stdout",
     "output_type": "stream",
     "text": [
      "Early stopping, best iteration is:\n",
      "[25]\ttraining's l1: 1.76917\tvalid_1's l1: 2.20902\n",
      "[LightGBM] [Warning] feature_fraction is set=0.8529296354948912, colsample_bytree=0.5 will be ignored. Current value: feature_fraction=0.8529296354948912\n",
      "[LightGBM] [Warning] bagging_fraction is set=0.7894513018374338, subsample=0.7 will be ignored. Current value: bagging_fraction=0.7894513018374338\n",
      "[LightGBM] [Warning] bagging_freq is set=10, subsample_freq=0 will be ignored. Current value: bagging_freq=10\n",
      "Training until validation scores don't improve for 100 rounds\n",
      "[100]\ttraining's l1: 1.64649\tvalid_1's l1: 2.26742\n"
     ]
    },
    {
     "name": "stderr",
     "output_type": "stream",
     "text": [
      "\u001b[32m[I 2021-07-26 14:35:27,210]\u001b[0m Trial 43 finished with value: -2.214166798835378 and parameters: {'max_depth': 16, 'min_child_weight': 17, 'subsample': 0.7, 'colsample_bytree': 0.5, 'reg_lambda': 8.806731141854035, 'reg_alpha': 0.965855367088107, 'feature_fraction': 0.8529296354948912, 'bagging_fraction': 0.7894513018374338, 'bagging_freq': 10, 'num_leaves': 802, 'min_child_samples': 65}. Best is trial 21 with value: -2.196411966693412.\u001b[0m\n"
     ]
    },
    {
     "name": "stdout",
     "output_type": "stream",
     "text": [
      "Early stopping, best iteration is:\n",
      "[22]\ttraining's l1: 1.77705\tvalid_1's l1: 2.21417\n",
      "[LightGBM] [Warning] feature_fraction is set=0.917213263848152, colsample_bytree=0.6 will be ignored. Current value: feature_fraction=0.917213263848152\n",
      "[LightGBM] [Warning] bagging_fraction is set=0.681049320469428, subsample=0.8 will be ignored. Current value: bagging_fraction=0.681049320469428\n",
      "[LightGBM] [Warning] bagging_freq is set=12, subsample_freq=0 will be ignored. Current value: bagging_freq=12\n",
      "Training until validation scores don't improve for 100 rounds\n",
      "[100]\ttraining's l1: 1.67989\tvalid_1's l1: 2.24949\n"
     ]
    },
    {
     "name": "stderr",
     "output_type": "stream",
     "text": [
      "\u001b[32m[I 2021-07-26 14:35:37,300]\u001b[0m Trial 44 finished with value: -2.205299716939208 and parameters: {'max_depth': 19, 'min_child_weight': 14, 'subsample': 0.8, 'colsample_bytree': 0.6, 'reg_lambda': 1.9966241486725989, 'reg_alpha': 4.000645385703335, 'feature_fraction': 0.917213263848152, 'bagging_fraction': 0.681049320469428, 'bagging_freq': 12, 'num_leaves': 492, 'min_child_samples': 50}. Best is trial 21 with value: -2.196411966693412.\u001b[0m\n"
     ]
    },
    {
     "name": "stdout",
     "output_type": "stream",
     "text": [
      "Early stopping, best iteration is:\n",
      "[20]\ttraining's l1: 1.82451\tvalid_1's l1: 2.2053\n",
      "[LightGBM] [Warning] feature_fraction is set=0.9998990847049505, colsample_bytree=0.6 will be ignored. Current value: feature_fraction=0.9998990847049505\n",
      "[LightGBM] [Warning] bagging_fraction is set=0.6131395289041048, subsample=0.7 will be ignored. Current value: bagging_fraction=0.6131395289041048\n",
      "[LightGBM] [Warning] bagging_freq is set=18, subsample_freq=0 will be ignored. Current value: bagging_freq=18\n",
      "Training until validation scores don't improve for 100 rounds\n",
      "[100]\ttraining's l1: 1.68528\tvalid_1's l1: 2.25735\n"
     ]
    },
    {
     "name": "stderr",
     "output_type": "stream",
     "text": [
      "\u001b[32m[I 2021-07-26 14:35:47,449]\u001b[0m Trial 45 finished with value: -2.2007557428344464 and parameters: {'max_depth': 19, 'min_child_weight': 8, 'subsample': 0.7, 'colsample_bytree': 0.6, 'reg_lambda': 0.2110643481296926, 'reg_alpha': 3.71120611750783, 'feature_fraction': 0.9998990847049505, 'bagging_fraction': 0.6131395289041048, 'bagging_freq': 18, 'num_leaves': 492, 'min_child_samples': 52}. Best is trial 21 with value: -2.196411966693412.\u001b[0m\n"
     ]
    },
    {
     "name": "stdout",
     "output_type": "stream",
     "text": [
      "Early stopping, best iteration is:\n",
      "[24]\ttraining's l1: 1.783\tvalid_1's l1: 2.20076\n",
      "[LightGBM] [Warning] feature_fraction is set=0.9990227610662349, colsample_bytree=0.6 will be ignored. Current value: feature_fraction=0.9990227610662349\n",
      "[LightGBM] [Warning] bagging_fraction is set=0.6164134535112531, subsample=0.7 will be ignored. Current value: bagging_fraction=0.6164134535112531\n",
      "[LightGBM] [Warning] bagging_freq is set=18, subsample_freq=0 will be ignored. Current value: bagging_freq=18\n",
      "Training until validation scores don't improve for 100 rounds\n",
      "[100]\ttraining's l1: 1.72869\tvalid_1's l1: 2.23383\n"
     ]
    },
    {
     "name": "stderr",
     "output_type": "stream",
     "text": [
      "\u001b[32m[I 2021-07-26 14:35:54,721]\u001b[0m Trial 46 finished with value: -2.221255734592814 and parameters: {'max_depth': 10, 'min_child_weight': 8, 'subsample': 0.7, 'colsample_bytree': 0.6, 'reg_lambda': 0.1572462908506319, 'reg_alpha': 34.36398852359048, 'feature_fraction': 0.9990227610662349, 'bagging_fraction': 0.6164134535112531, 'bagging_freq': 18, 'num_leaves': 395, 'min_child_samples': 57}. Best is trial 21 with value: -2.196411966693412.\u001b[0m\n"
     ]
    },
    {
     "name": "stdout",
     "output_type": "stream",
     "text": [
      "Early stopping, best iteration is:\n",
      "[31]\ttraining's l1: 1.80151\tvalid_1's l1: 2.22126\n",
      "[LightGBM] [Warning] feature_fraction is set=0.9874552100735512, colsample_bytree=0.7 will be ignored. Current value: feature_fraction=0.9874552100735512\n",
      "[LightGBM] [Warning] bagging_fraction is set=0.6092009542459331, subsample=0.7 will be ignored. Current value: bagging_fraction=0.6092009542459331\n",
      "[LightGBM] [Warning] bagging_freq is set=19, subsample_freq=0 will be ignored. Current value: bagging_freq=19\n",
      "Training until validation scores don't improve for 100 rounds\n",
      "[100]\ttraining's l1: 1.69837\tvalid_1's l1: 2.24506\n"
     ]
    },
    {
     "name": "stderr",
     "output_type": "stream",
     "text": [
      "\u001b[32m[I 2021-07-26 14:36:02,986]\u001b[0m Trial 47 finished with value: -2.205743176058292 and parameters: {'max_depth': 11, 'min_child_weight': 7, 'subsample': 0.7, 'colsample_bytree': 0.7, 'reg_lambda': 0.02754337917890762, 'reg_alpha': 7.497842593268965, 'feature_fraction': 0.9874552100735512, 'bagging_fraction': 0.6092009542459331, 'bagging_freq': 19, 'num_leaves': 442, 'min_child_samples': 31}. Best is trial 21 with value: -2.196411966693412.\u001b[0m\n"
     ]
    },
    {
     "name": "stdout",
     "output_type": "stream",
     "text": [
      "Early stopping, best iteration is:\n",
      "[29]\ttraining's l1: 1.77249\tvalid_1's l1: 2.20574\n",
      "[LightGBM] [Warning] feature_fraction is set=0.9707363928896281, colsample_bytree=0.6 will be ignored. Current value: feature_fraction=0.9707363928896281\n",
      "[LightGBM] [Warning] bagging_fraction is set=0.7407196190228268, subsample=0.7 will be ignored. Current value: bagging_fraction=0.7407196190228268\n",
      "[LightGBM] [Warning] bagging_freq is set=17, subsample_freq=0 will be ignored. Current value: bagging_freq=17\n",
      "Training until validation scores don't improve for 100 rounds\n",
      "[100]\ttraining's l1: 1.73999\tvalid_1's l1: 2.24162\n"
     ]
    },
    {
     "name": "stderr",
     "output_type": "stream",
     "text": [
      "\u001b[32m[I 2021-07-26 14:36:09,687]\u001b[0m Trial 48 finished with value: -2.226902746825793 and parameters: {'max_depth': 9, 'min_child_weight': 9, 'subsample': 0.7, 'colsample_bytree': 0.6, 'reg_lambda': 0.07568053615394778, 'reg_alpha': 0.27547806025152144, 'feature_fraction': 0.9707363928896281, 'bagging_fraction': 0.7407196190228268, 'bagging_freq': 17, 'num_leaves': 535, 'min_child_samples': 69}. Best is trial 21 with value: -2.196411966693412.\u001b[0m\n"
     ]
    },
    {
     "name": "stdout",
     "output_type": "stream",
     "text": [
      "Early stopping, best iteration is:\n",
      "[23]\ttraining's l1: 1.83532\tvalid_1's l1: 2.2269\n",
      "[LightGBM] [Warning] feature_fraction is set=0.9340793717747001, colsample_bytree=0.8 will be ignored. Current value: feature_fraction=0.9340793717747001\n",
      "[LightGBM] [Warning] bagging_fraction is set=0.28063554781283184, subsample=0.7 will be ignored. Current value: bagging_fraction=0.28063554781283184\n",
      "[LightGBM] [Warning] bagging_freq is set=14, subsample_freq=0 will be ignored. Current value: bagging_freq=14\n",
      "Training until validation scores don't improve for 100 rounds\n",
      "[100]\ttraining's l1: 1.71981\tvalid_1's l1: 2.25321\n"
     ]
    },
    {
     "name": "stderr",
     "output_type": "stream",
     "text": [
      "\u001b[32m[I 2021-07-26 14:36:16,230]\u001b[0m Trial 49 finished with value: -2.208916632840223 and parameters: {'max_depth': 15, 'min_child_weight': 12, 'subsample': 0.7, 'colsample_bytree': 0.8, 'reg_lambda': 0.39096342851852345, 'reg_alpha': 0.006492229075409104, 'feature_fraction': 0.9340793717747001, 'bagging_fraction': 0.28063554781283184, 'bagging_freq': 14, 'num_leaves': 336, 'min_child_samples': 62}. Best is trial 21 with value: -2.196411966693412.\u001b[0m\n"
     ]
    },
    {
     "name": "stdout",
     "output_type": "stream",
     "text": [
      "Early stopping, best iteration is:\n",
      "[28]\ttraining's l1: 1.79355\tvalid_1's l1: 2.20892\n",
      "[LightGBM] [Warning] feature_fraction is set=0.9980512473385544, colsample_bytree=0.6 will be ignored. Current value: feature_fraction=0.9980512473385544\n",
      "[LightGBM] [Warning] bagging_fraction is set=0.5636827655882084, subsample=0.7 will be ignored. Current value: bagging_fraction=0.5636827655882084\n",
      "[LightGBM] [Warning] bagging_freq is set=19, subsample_freq=0 will be ignored. Current value: bagging_freq=19\n",
      "Training until validation scores don't improve for 100 rounds\n",
      "[100]\ttraining's l1: 1.6771\tvalid_1's l1: 2.25754\n"
     ]
    },
    {
     "name": "stderr",
     "output_type": "stream",
     "text": [
      "\u001b[32m[I 2021-07-26 14:36:25,957]\u001b[0m Trial 50 finished with value: -2.2085764729637765 and parameters: {'max_depth': 14, 'min_child_weight': 6, 'subsample': 0.7, 'colsample_bytree': 0.6, 'reg_lambda': 1.4164488827561228, 'reg_alpha': 0.8024097638339744, 'feature_fraction': 0.9980512473385544, 'bagging_fraction': 0.5636827655882084, 'bagging_freq': 19, 'num_leaves': 580, 'min_child_samples': 40}. Best is trial 21 with value: -2.196411966693412.\u001b[0m\n"
     ]
    },
    {
     "name": "stdout",
     "output_type": "stream",
     "text": [
      "Early stopping, best iteration is:\n",
      "[25]\ttraining's l1: 1.77101\tvalid_1's l1: 2.20858\n",
      "[LightGBM] [Warning] feature_fraction is set=0.9169706095186965, colsample_bytree=0.6 will be ignored. Current value: feature_fraction=0.9169706095186965\n",
      "[LightGBM] [Warning] bagging_fraction is set=0.6689478454210853, subsample=0.8 will be ignored. Current value: bagging_fraction=0.6689478454210853\n",
      "[LightGBM] [Warning] bagging_freq is set=12, subsample_freq=0 will be ignored. Current value: bagging_freq=12\n",
      "Training until validation scores don't improve for 100 rounds\n",
      "[100]\ttraining's l1: 1.67703\tvalid_1's l1: 2.26189\n"
     ]
    },
    {
     "name": "stderr",
     "output_type": "stream",
     "text": [
      "\u001b[32m[I 2021-07-26 14:36:36,111]\u001b[0m Trial 51 finished with value: -2.2036472823004174 and parameters: {'max_depth': 19, 'min_child_weight': 14, 'subsample': 0.8, 'colsample_bytree': 0.6, 'reg_lambda': 2.296293127953725, 'reg_alpha': 3.6469717521797267, 'feature_fraction': 0.9169706095186965, 'bagging_fraction': 0.6689478454210853, 'bagging_freq': 12, 'num_leaves': 486, 'min_child_samples': 52}. Best is trial 21 with value: -2.196411966693412.\u001b[0m\n"
     ]
    },
    {
     "name": "stdout",
     "output_type": "stream",
     "text": [
      "Early stopping, best iteration is:\n",
      "[22]\ttraining's l1: 1.80258\tvalid_1's l1: 2.20365\n",
      "[LightGBM] [Warning] feature_fraction is set=0.9197122342283651, colsample_bytree=0.7 will be ignored. Current value: feature_fraction=0.9197122342283651\n",
      "[LightGBM] [Warning] bagging_fraction is set=0.6525482072300194, subsample=0.9 will be ignored. Current value: bagging_fraction=0.6525482072300194\n",
      "[LightGBM] [Warning] bagging_freq is set=14, subsample_freq=0 will be ignored. Current value: bagging_freq=14\n",
      "Training until validation scores don't improve for 100 rounds\n",
      "[100]\ttraining's l1: 1.67936\tvalid_1's l1: 2.25483\n"
     ]
    },
    {
     "name": "stderr",
     "output_type": "stream",
     "text": [
      "\u001b[32m[I 2021-07-26 14:36:46,005]\u001b[0m Trial 52 finished with value: -2.205264080690456 and parameters: {'max_depth': 19, 'min_child_weight': 11, 'subsample': 0.9, 'colsample_bytree': 0.7, 'reg_lambda': 4.309134843992592, 'reg_alpha': 12.34266026875488, 'feature_fraction': 0.9197122342283651, 'bagging_fraction': 0.6525482072300194, 'bagging_freq': 14, 'num_leaves': 479, 'min_child_samples': 49}. Best is trial 21 with value: -2.196411966693412.\u001b[0m\n"
     ]
    },
    {
     "name": "stdout",
     "output_type": "stream",
     "text": [
      "Early stopping, best iteration is:\n",
      "[21]\ttraining's l1: 1.82005\tvalid_1's l1: 2.20526\n",
      "[LightGBM] [Warning] feature_fraction is set=0.9717802134258043, colsample_bytree=0.6 will be ignored. Current value: feature_fraction=0.9717802134258043\n",
      "[LightGBM] [Warning] bagging_fraction is set=0.7078321700700814, subsample=0.7 will be ignored. Current value: bagging_fraction=0.7078321700700814\n",
      "[LightGBM] [Warning] bagging_freq is set=15, subsample_freq=0 will be ignored. Current value: bagging_freq=15\n",
      "Training until validation scores don't improve for 100 rounds\n",
      "[100]\ttraining's l1: 1.67625\tvalid_1's l1: 2.25727\n"
     ]
    },
    {
     "name": "stderr",
     "output_type": "stream",
     "text": [
      "\u001b[32m[I 2021-07-26 14:36:56,712]\u001b[0m Trial 53 finished with value: -2.2068478905437496 and parameters: {'max_depth': 19, 'min_child_weight': 14, 'subsample': 0.7, 'colsample_bytree': 0.6, 'reg_lambda': 0.2657733860622971, 'reg_alpha': 3.1907963041336997, 'feature_fraction': 0.9717802134258043, 'bagging_fraction': 0.7078321700700814, 'bagging_freq': 15, 'num_leaves': 538, 'min_child_samples': 61}. Best is trial 21 with value: -2.196411966693412.\u001b[0m\n"
     ]
    },
    {
     "name": "stdout",
     "output_type": "stream",
     "text": [
      "Early stopping, best iteration is:\n",
      "[22]\ttraining's l1: 1.7966\tvalid_1's l1: 2.20685\n",
      "[LightGBM] [Warning] feature_fraction is set=0.8900641931913705, colsample_bytree=0.5 will be ignored. Current value: feature_fraction=0.8900641931913705\n",
      "[LightGBM] [Warning] bagging_fraction is set=0.6273781884040182, subsample=0.8 will be ignored. Current value: bagging_fraction=0.6273781884040182\n",
      "[LightGBM] [Warning] bagging_freq is set=12, subsample_freq=0 will be ignored. Current value: bagging_freq=12\n",
      "Training until validation scores don't improve for 100 rounds\n",
      "[100]\ttraining's l1: 1.68836\tvalid_1's l1: 2.23908\n"
     ]
    },
    {
     "name": "stderr",
     "output_type": "stream",
     "text": [
      "\u001b[32m[I 2021-07-26 14:37:05,943]\u001b[0m Trial 54 finished with value: -2.1936616547013386 and parameters: {'max_depth': 17, 'min_child_weight': 15, 'subsample': 0.8, 'colsample_bytree': 0.5, 'reg_lambda': 0.8072750398241234, 'reg_alpha': 1.7757537811282125, 'feature_fraction': 0.8900641931913705, 'bagging_fraction': 0.6273781884040182, 'bagging_freq': 12, 'num_leaves': 446, 'min_child_samples': 56}. Best is trial 54 with value: -2.1936616547013386.\u001b[0m\n"
     ]
    },
    {
     "name": "stdout",
     "output_type": "stream",
     "text": [
      "Early stopping, best iteration is:\n",
      "[20]\ttraining's l1: 1.8262\tvalid_1's l1: 2.19366\n",
      "[LightGBM] [Warning] feature_fraction is set=0.7511786574113516, colsample_bytree=0.5 will be ignored. Current value: feature_fraction=0.7511786574113516\n",
      "[LightGBM] [Warning] bagging_fraction is set=0.728950078012005, subsample=0.7 will be ignored. Current value: bagging_fraction=0.728950078012005\n",
      "[LightGBM] [Warning] bagging_freq is set=18, subsample_freq=0 will be ignored. Current value: bagging_freq=18\n",
      "Training until validation scores don't improve for 100 rounds\n",
      "[100]\ttraining's l1: 1.66768\tvalid_1's l1: 2.25852\n"
     ]
    },
    {
     "name": "stderr",
     "output_type": "stream",
     "text": [
      "\u001b[32m[I 2021-07-26 14:37:15,301]\u001b[0m Trial 55 finished with value: -2.220131276417601 and parameters: {'max_depth': 12, 'min_child_weight': 10, 'subsample': 0.7, 'colsample_bytree': 0.5, 'reg_lambda': 0.9486043985738062, 'reg_alpha': 1.7906877264016179, 'feature_fraction': 0.7511786574113516, 'bagging_fraction': 0.728950078012005, 'bagging_freq': 18, 'num_leaves': 714, 'min_child_samples': 56}. Best is trial 54 with value: -2.1936616547013386.\u001b[0m\n"
     ]
    },
    {
     "name": "stdout",
     "output_type": "stream",
     "text": [
      "Early stopping, best iteration is:\n",
      "[32]\ttraining's l1: 1.74054\tvalid_1's l1: 2.22013\n",
      "[LightGBM] [Warning] feature_fraction is set=0.8752158669970478, colsample_bytree=0.5 will be ignored. Current value: feature_fraction=0.8752158669970478\n",
      "[LightGBM] [Warning] bagging_fraction is set=0.5801171856580021, subsample=0.6 will be ignored. Current value: bagging_fraction=0.5801171856580021\n",
      "[LightGBM] [Warning] bagging_freq is set=7, subsample_freq=0 will be ignored. Current value: bagging_freq=7\n",
      "Training until validation scores don't improve for 100 rounds\n",
      "[100]\ttraining's l1: 1.69653\tvalid_1's l1: 2.24282\n"
     ]
    },
    {
     "name": "stderr",
     "output_type": "stream",
     "text": [
      "\u001b[32m[I 2021-07-26 14:37:24,064]\u001b[0m Trial 56 finished with value: -2.196139867663412 and parameters: {'max_depth': 17, 'min_child_weight': 15, 'subsample': 0.6, 'colsample_bytree': 0.5, 'reg_lambda': 0.11690622141738567, 'reg_alpha': 0.07504211716777066, 'feature_fraction': 0.8752158669970478, 'bagging_fraction': 0.5801171856580021, 'bagging_freq': 7, 'num_leaves': 409, 'min_child_samples': 75}. Best is trial 54 with value: -2.1936616547013386.\u001b[0m\n"
     ]
    },
    {
     "name": "stdout",
     "output_type": "stream",
     "text": [
      "Early stopping, best iteration is:\n",
      "[21]\ttraining's l1: 1.82271\tvalid_1's l1: 2.19614\n",
      "[LightGBM] [Warning] feature_fraction is set=0.8845311201118389, colsample_bytree=0.8 will be ignored. Current value: feature_fraction=0.8845311201118389\n",
      "[LightGBM] [Warning] bagging_fraction is set=0.5700828376843647, subsample=0.6 will be ignored. Current value: bagging_fraction=0.5700828376843647\n",
      "[LightGBM] [Warning] bagging_freq is set=7, subsample_freq=0 will be ignored. Current value: bagging_freq=7\n",
      "Training until validation scores don't improve for 100 rounds\n",
      "[100]\ttraining's l1: 1.76147\tvalid_1's l1: 2.23327\n"
     ]
    },
    {
     "name": "stderr",
     "output_type": "stream",
     "text": [
      "\u001b[32m[I 2021-07-26 14:37:30,567]\u001b[0m Trial 57 finished with value: -2.2084488935271143 and parameters: {'max_depth': 17, 'min_child_weight': 15, 'subsample': 0.6, 'colsample_bytree': 0.8, 'reg_lambda': 0.05910698424903727, 'reg_alpha': 0.05133439739044598, 'feature_fraction': 0.8845311201118389, 'bagging_fraction': 0.5700828376843647, 'bagging_freq': 7, 'num_leaves': 155, 'min_child_samples': 76}. Best is trial 54 with value: -2.1936616547013386.\u001b[0m\n"
     ]
    },
    {
     "name": "stdout",
     "output_type": "stream",
     "text": [
      "Early stopping, best iteration is:\n",
      "[28]\ttraining's l1: 1.83541\tvalid_1's l1: 2.20845\n",
      "[LightGBM] [Warning] feature_fraction is set=0.8191664416215537, colsample_bytree=0.5 will be ignored. Current value: feature_fraction=0.8191664416215537\n",
      "[LightGBM] [Warning] bagging_fraction is set=0.5269274673451584, subsample=0.6 will be ignored. Current value: bagging_fraction=0.5269274673451584\n",
      "[LightGBM] [Warning] bagging_freq is set=16, subsample_freq=0 will be ignored. Current value: bagging_freq=16\n",
      "Training until validation scores don't improve for 100 rounds\n",
      "[100]\ttraining's l1: 1.71846\tvalid_1's l1: 2.23694\n"
     ]
    },
    {
     "name": "stderr",
     "output_type": "stream",
     "text": [
      "\u001b[32m[I 2021-07-26 14:37:37,802]\u001b[0m Trial 58 finished with value: -2.227589786105907 and parameters: {'max_depth': 17, 'min_child_weight': 16, 'subsample': 0.6, 'colsample_bytree': 0.5, 'reg_lambda': 0.13189088336649069, 'reg_alpha': 0.021294084629585545, 'feature_fraction': 0.8191664416215537, 'bagging_fraction': 0.5269274673451584, 'bagging_freq': 16, 'num_leaves': 290, 'min_child_samples': 14}. Best is trial 54 with value: -2.1936616547013386.\u001b[0m\n"
     ]
    },
    {
     "name": "stdout",
     "output_type": "stream",
     "text": [
      "Early stopping, best iteration is:\n",
      "[24]\ttraining's l1: 1.82702\tvalid_1's l1: 2.22759\n",
      "[LightGBM] [Warning] feature_fraction is set=0.645751927031406, colsample_bytree=0.8 will be ignored. Current value: feature_fraction=0.645751927031406\n",
      "[LightGBM] [Warning] bagging_fraction is set=0.45966529212189755, subsample=0.6 will be ignored. Current value: bagging_fraction=0.45966529212189755\n",
      "[LightGBM] [Warning] bagging_freq is set=5, subsample_freq=0 will be ignored. Current value: bagging_freq=5\n",
      "Training until validation scores don't improve for 100 rounds\n",
      "[100]\ttraining's l1: 1.70514\tvalid_1's l1: 2.25048\n"
     ]
    },
    {
     "name": "stderr",
     "output_type": "stream",
     "text": [
      "\u001b[32m[I 2021-07-26 14:37:45,675]\u001b[0m Trial 59 finished with value: -2.232292337994181 and parameters: {'max_depth': 16, 'min_child_weight': 18, 'subsample': 0.6, 'colsample_bytree': 0.8, 'reg_lambda': 0.03397902293057062, 'reg_alpha': 0.0692585200131308, 'feature_fraction': 0.645751927031406, 'bagging_fraction': 0.45966529212189755, 'bagging_freq': 5, 'num_leaves': 399, 'min_child_samples': 86}. Best is trial 54 with value: -2.1936616547013386.\u001b[0m\n"
     ]
    },
    {
     "name": "stdout",
     "output_type": "stream",
     "text": [
      "Early stopping, best iteration is:\n",
      "[42]\ttraining's l1: 1.75216\tvalid_1's l1: 2.23229\n",
      "[LightGBM] [Warning] feature_fraction is set=0.841717853410555, colsample_bytree=0.5 will be ignored. Current value: feature_fraction=0.841717853410555\n",
      "[LightGBM] [Warning] bagging_fraction is set=0.6253697866967268, subsample=0.6 will be ignored. Current value: bagging_fraction=0.6253697866967268\n",
      "[LightGBM] [Warning] bagging_freq is set=14, subsample_freq=0 will be ignored. Current value: bagging_freq=14\n",
      "Training until validation scores don't improve for 100 rounds\n",
      "[100]\ttraining's l1: 1.69401\tvalid_1's l1: 2.25041\n"
     ]
    },
    {
     "name": "stderr",
     "output_type": "stream",
     "text": [
      "\u001b[32m[I 2021-07-26 14:37:54,905]\u001b[0m Trial 60 finished with value: -2.2179058204589968 and parameters: {'max_depth': 17, 'min_child_weight': 15, 'subsample': 0.6, 'colsample_bytree': 0.5, 'reg_lambda': 0.5601170998048024, 'reg_alpha': 0.0023256326746352385, 'feature_fraction': 0.841717853410555, 'bagging_fraction': 0.6253697866967268, 'bagging_freq': 14, 'num_leaves': 441, 'min_child_samples': 73}. Best is trial 54 with value: -2.1936616547013386.\u001b[0m\n"
     ]
    },
    {
     "name": "stdout",
     "output_type": "stream",
     "text": [
      "Early stopping, best iteration is:\n",
      "[25]\ttraining's l1: 1.78938\tvalid_1's l1: 2.21791\n",
      "[LightGBM] [Warning] feature_fraction is set=0.8837873876504668, colsample_bytree=0.5 will be ignored. Current value: feature_fraction=0.8837873876504668\n",
      "[LightGBM] [Warning] bagging_fraction is set=0.6271800982963169, subsample=0.7 will be ignored. Current value: bagging_fraction=0.6271800982963169\n",
      "[LightGBM] [Warning] bagging_freq is set=7, subsample_freq=0 will be ignored. Current value: bagging_freq=7\n",
      "Training until validation scores don't improve for 100 rounds\n",
      "[100]\ttraining's l1: 1.66534\tvalid_1's l1: 2.26052\n"
     ]
    },
    {
     "name": "stderr",
     "output_type": "stream",
     "text": [
      "\u001b[32m[I 2021-07-26 14:38:06,056]\u001b[0m Trial 61 finished with value: -2.209689970029712 and parameters: {'max_depth': 20, 'min_child_weight': 12, 'subsample': 0.7, 'colsample_bytree': 0.5, 'reg_lambda': 0.11129362654747843, 'reg_alpha': 0.20874318258930122, 'feature_fraction': 0.8837873876504668, 'bagging_fraction': 0.6271800982963169, 'bagging_freq': 7, 'num_leaves': 600, 'min_child_samples': 66}. Best is trial 54 with value: -2.1936616547013386.\u001b[0m\n"
     ]
    },
    {
     "name": "stdout",
     "output_type": "stream",
     "text": [
      "Early stopping, best iteration is:\n",
      "[23]\ttraining's l1: 1.78398\tvalid_1's l1: 2.20969\n",
      "[LightGBM] [Warning] feature_fraction is set=0.9638358617517492, colsample_bytree=0.5 will be ignored. Current value: feature_fraction=0.9638358617517492\n",
      "[LightGBM] [Warning] bagging_fraction is set=0.5929845639302388, subsample=0.8 will be ignored. Current value: bagging_fraction=0.5929845639302388\n",
      "[LightGBM] [Warning] bagging_freq is set=9, subsample_freq=0 will be ignored. Current value: bagging_freq=9\n",
      "Training until validation scores don't improve for 100 rounds\n",
      "[100]\ttraining's l1: 1.70679\tvalid_1's l1: 2.23357\n"
     ]
    },
    {
     "name": "stderr",
     "output_type": "stream",
     "text": [
      "\u001b[32m[I 2021-07-26 14:38:13,843]\u001b[0m Trial 62 finished with value: -2.2132623121332307 and parameters: {'max_depth': 10, 'min_child_weight': 13, 'subsample': 0.8, 'colsample_bytree': 0.5, 'reg_lambda': 0.8534271716765343, 'reg_alpha': 0.2891915102706522, 'feature_fraction': 0.9638358617517492, 'bagging_fraction': 0.5929845639302388, 'bagging_freq': 9, 'num_leaves': 518, 'min_child_samples': 55}. Best is trial 54 with value: -2.1936616547013386.\u001b[0m\n"
     ]
    },
    {
     "name": "stdout",
     "output_type": "stream",
     "text": [
      "Early stopping, best iteration is:\n",
      "[36]\ttraining's l1: 1.74996\tvalid_1's l1: 2.21326\n",
      "[LightGBM] [Warning] feature_fraction is set=0.9412994654718554, colsample_bytree=0.5 will be ignored. Current value: feature_fraction=0.9412994654718554\n",
      "[LightGBM] [Warning] bagging_fraction is set=0.5434820512703635, subsample=0.5 will be ignored. Current value: bagging_fraction=0.5434820512703635\n",
      "[LightGBM] [Warning] bagging_freq is set=8, subsample_freq=0 will be ignored. Current value: bagging_freq=8\n",
      "Training until validation scores don't improve for 100 rounds\n",
      "[100]\ttraining's l1: 1.67593\tvalid_1's l1: 2.25606\n"
     ]
    },
    {
     "name": "stderr",
     "output_type": "stream",
     "text": [
      "\u001b[32m[I 2021-07-26 14:38:23,098]\u001b[0m Trial 63 finished with value: -2.2064652898200716 and parameters: {'max_depth': 13, 'min_child_weight': 8, 'subsample': 0.5, 'colsample_bytree': 0.5, 'reg_lambda': 0.255846858840588, 'reg_alpha': 0.11029804533428175, 'feature_fraction': 0.9412994654718554, 'bagging_fraction': 0.5434820512703635, 'bagging_freq': 8, 'num_leaves': 557, 'min_child_samples': 48}. Best is trial 54 with value: -2.1936616547013386.\u001b[0m\n"
     ]
    },
    {
     "name": "stdout",
     "output_type": "stream",
     "text": [
      "Early stopping, best iteration is:\n",
      "[21]\ttraining's l1: 1.81055\tvalid_1's l1: 2.20647\n",
      "[LightGBM] [Warning] feature_fraction is set=0.787111184481825, colsample_bytree=0.5 will be ignored. Current value: feature_fraction=0.787111184481825\n",
      "[LightGBM] [Warning] bagging_fraction is set=0.48101699344851157, subsample=0.7 will be ignored. Current value: bagging_fraction=0.48101699344851157\n",
      "[LightGBM] [Warning] bagging_freq is set=11, subsample_freq=0 will be ignored. Current value: bagging_freq=11\n",
      "Training until validation scores don't improve for 100 rounds\n",
      "[100]\ttraining's l1: 1.70281\tvalid_1's l1: 2.2404\n"
     ]
    },
    {
     "name": "stderr",
     "output_type": "stream",
     "text": [
      "\u001b[32m[I 2021-07-26 14:38:30,771]\u001b[0m Trial 64 finished with value: -2.218513820792646 and parameters: {'max_depth': 14, 'min_child_weight': 4, 'subsample': 0.7, 'colsample_bytree': 0.5, 'reg_lambda': 0.049458145630318355, 'reg_alpha': 0.007079918636908698, 'feature_fraction': 0.787111184481825, 'bagging_fraction': 0.48101699344851157, 'bagging_freq': 11, 'num_leaves': 365, 'min_child_samples': 59}. Best is trial 54 with value: -2.1936616547013386.\u001b[0m\n"
     ]
    },
    {
     "name": "stdout",
     "output_type": "stream",
     "text": [
      "Early stopping, best iteration is:\n",
      "[27]\ttraining's l1: 1.79289\tvalid_1's l1: 2.21851\n",
      "[LightGBM] [Warning] feature_fraction is set=0.9776482286507047, colsample_bytree=0.5 will be ignored. Current value: feature_fraction=0.9776482286507047\n",
      "[LightGBM] [Warning] bagging_fraction is set=0.411220718127263, subsample=0.8 will be ignored. Current value: bagging_fraction=0.411220718127263\n",
      "[LightGBM] [Warning] bagging_freq is set=17, subsample_freq=0 will be ignored. Current value: bagging_freq=17\n",
      "Training until validation scores don't improve for 100 rounds\n",
      "[100]\ttraining's l1: 1.68562\tvalid_1's l1: 2.26694\n"
     ]
    },
    {
     "name": "stderr",
     "output_type": "stream",
     "text": [
      "\u001b[32m[I 2021-07-26 14:38:39,645]\u001b[0m Trial 65 finished with value: -2.2011378275940365 and parameters: {'max_depth': 15, 'min_child_weight': 16, 'subsample': 0.8, 'colsample_bytree': 0.5, 'reg_lambda': 1.3853239068930472, 'reg_alpha': 0.48350314230026725, 'feature_fraction': 0.9776482286507047, 'bagging_fraction': 0.411220718127263, 'bagging_freq': 17, 'num_leaves': 628, 'min_child_samples': 92}. Best is trial 54 with value: -2.1936616547013386.\u001b[0m\n"
     ]
    },
    {
     "name": "stdout",
     "output_type": "stream",
     "text": [
      "Early stopping, best iteration is:\n",
      "[22]\ttraining's l1: 1.79525\tvalid_1's l1: 2.20114\n",
      "[LightGBM] [Warning] feature_fraction is set=0.5211182802203725, colsample_bytree=0.8 will be ignored. Current value: feature_fraction=0.5211182802203725\n",
      "[LightGBM] [Warning] bagging_fraction is set=0.7547311774591953, subsample=0.6 will be ignored. Current value: bagging_fraction=0.7547311774591953\n",
      "[LightGBM] [Warning] bagging_freq is set=13, subsample_freq=0 will be ignored. Current value: bagging_freq=13\n",
      "Training until validation scores don't improve for 100 rounds\n",
      "[100]\ttraining's l1: 1.69242\tvalid_1's l1: 2.25212\n"
     ]
    },
    {
     "name": "stderr",
     "output_type": "stream",
     "text": [
      "\u001b[32m[I 2021-07-26 14:38:49,722]\u001b[0m Trial 66 finished with value: -2.231899954095521 and parameters: {'max_depth': 12, 'min_child_weight': 11, 'subsample': 0.6, 'colsample_bytree': 0.8, 'reg_lambda': 7.028843516713208, 'reg_alpha': 1.1556584281264284, 'feature_fraction': 0.5211182802203725, 'bagging_fraction': 0.7547311774591953, 'bagging_freq': 13, 'num_leaves': 421, 'min_child_samples': 63}. Best is trial 54 with value: -2.1936616547013386.\u001b[0m\n"
     ]
    },
    {
     "name": "stdout",
     "output_type": "stream",
     "text": [
      "Early stopping, best iteration is:\n",
      "[60]\ttraining's l1: 1.7205\tvalid_1's l1: 2.23191\n",
      "[LightGBM] [Warning] feature_fraction is set=0.8709000024588048, colsample_bytree=0.5 will be ignored. Current value: feature_fraction=0.8709000024588048\n",
      "[LightGBM] [Warning] bagging_fraction is set=0.6426714718174005, subsample=0.7 will be ignored. Current value: bagging_fraction=0.6426714718174005\n",
      "[LightGBM] [Warning] bagging_freq is set=5, subsample_freq=0 will be ignored. Current value: bagging_freq=5\n",
      "Training until validation scores don't improve for 100 rounds\n",
      "[100]\ttraining's l1: 1.66518\tvalid_1's l1: 2.26054\n"
     ]
    },
    {
     "name": "stderr",
     "output_type": "stream",
     "text": [
      "\u001b[32m[I 2021-07-26 14:39:00,657]\u001b[0m Trial 67 finished with value: -2.1982158737713755 and parameters: {'max_depth': 19, 'min_child_weight': 13, 'subsample': 0.7, 'colsample_bytree': 0.5, 'reg_lambda': 0.01662726555246878, 'reg_alpha': 6.359732947222064, 'feature_fraction': 0.8709000024588048, 'bagging_fraction': 0.6426714718174005, 'bagging_freq': 5, 'num_leaves': 571, 'min_child_samples': 41}. Best is trial 54 with value: -2.1936616547013386.\u001b[0m\n"
     ]
    },
    {
     "name": "stdout",
     "output_type": "stream",
     "text": [
      "Early stopping, best iteration is:\n",
      "[19]\ttraining's l1: 1.82636\tvalid_1's l1: 2.19822\n",
      "[LightGBM] [Warning] feature_fraction is set=0.8700413301012331, colsample_bytree=0.7 will be ignored. Current value: feature_fraction=0.8700413301012331\n",
      "[LightGBM] [Warning] bagging_fraction is set=0.6492208346239638, subsample=0.7 will be ignored. Current value: bagging_fraction=0.6492208346239638\n",
      "[LightGBM] [Warning] bagging_freq is set=3, subsample_freq=0 will be ignored. Current value: bagging_freq=3\n",
      "Training until validation scores don't improve for 100 rounds\n",
      "[100]\ttraining's l1: 1.67567\tvalid_1's l1: 2.26474\n"
     ]
    },
    {
     "name": "stderr",
     "output_type": "stream",
     "text": [
      "\u001b[32m[I 2021-07-26 14:39:11,498]\u001b[0m Trial 68 finished with value: -2.2066892580769317 and parameters: {'max_depth': 19, 'min_child_weight': 15, 'subsample': 0.7, 'colsample_bytree': 0.7, 'reg_lambda': 0.005328566113053602, 'reg_alpha': 6.148201586053788, 'feature_fraction': 0.8700413301012331, 'bagging_fraction': 0.6492208346239638, 'bagging_freq': 3, 'num_leaves': 499, 'min_child_samples': 32}. Best is trial 54 with value: -2.1936616547013386.\u001b[0m\n"
     ]
    },
    {
     "name": "stdout",
     "output_type": "stream",
     "text": [
      "Early stopping, best iteration is:\n",
      "[20]\ttraining's l1: 1.82532\tvalid_1's l1: 2.20669\n",
      "[LightGBM] [Warning] feature_fraction is set=0.8319930767648176, colsample_bytree=0.5 will be ignored. Current value: feature_fraction=0.8319930767648176\n",
      "[LightGBM] [Warning] bagging_fraction is set=0.6849658707548403, subsample=0.7 will be ignored. Current value: bagging_fraction=0.6849658707548403\n",
      "[LightGBM] [Warning] bagging_freq is set=5, subsample_freq=0 will be ignored. Current value: bagging_freq=5\n",
      "Training until validation scores don't improve for 100 rounds\n",
      "[100]\ttraining's l1: 1.68966\tvalid_1's l1: 2.26592\n"
     ]
    },
    {
     "name": "stderr",
     "output_type": "stream",
     "text": [
      "\u001b[32m[I 2021-07-26 14:39:22,664]\u001b[0m Trial 69 finished with value: -2.2272212508416414 and parameters: {'max_depth': 20, 'min_child_weight': 13, 'subsample': 0.7, 'colsample_bytree': 0.5, 'reg_lambda': 0.01644749841722231, 'reg_alpha': 33.84263031562325, 'feature_fraction': 0.8319930767648176, 'bagging_fraction': 0.6849658707548403, 'bagging_freq': 5, 'num_leaves': 453, 'min_child_samples': 40}. Best is trial 54 with value: -2.1936616547013386.\u001b[0m\n"
     ]
    },
    {
     "name": "stdout",
     "output_type": "stream",
     "text": [
      "Early stopping, best iteration is:\n",
      "[28]\ttraining's l1: 1.78272\tvalid_1's l1: 2.22722\n",
      "[LightGBM] [Warning] feature_fraction is set=0.2221271160427591, colsample_bytree=0.9 will be ignored. Current value: feature_fraction=0.2221271160427591\n",
      "[LightGBM] [Warning] bagging_fraction is set=0.5785238904089953, subsample=0.8 will be ignored. Current value: bagging_fraction=0.5785238904089953\n",
      "[LightGBM] [Warning] bagging_freq is set=4, subsample_freq=0 will be ignored. Current value: bagging_freq=4\n",
      "Training until validation scores don't improve for 100 rounds\n",
      "[100]\ttraining's l1: 1.72564\tvalid_1's l1: 2.35692\n"
     ]
    },
    {
     "name": "stderr",
     "output_type": "stream",
     "text": [
      "\u001b[32m[I 2021-07-26 14:39:29,545]\u001b[0m Trial 70 finished with value: -2.3244146602601448 and parameters: {'max_depth': 17, 'min_child_weight': 14, 'subsample': 0.8, 'colsample_bytree': 0.9, 'reg_lambda': 0.2816221462884093, 'reg_alpha': 0.0010160647459003579, 'feature_fraction': 0.2221271160427591, 'bagging_fraction': 0.5785238904089953, 'bagging_freq': 4, 'num_leaves': 566, 'min_child_samples': 21}. Best is trial 54 with value: -2.1936616547013386.\u001b[0m\n"
     ]
    },
    {
     "name": "stdout",
     "output_type": "stream",
     "text": [
      "Early stopping, best iteration is:\n",
      "[20]\ttraining's l1: 1.93144\tvalid_1's l1: 2.32441\n",
      "[LightGBM] [Warning] feature_fraction is set=0.8972331097729139, colsample_bytree=0.5 will be ignored. Current value: feature_fraction=0.8972331097729139\n",
      "[LightGBM] [Warning] bagging_fraction is set=0.6342272951351141, subsample=0.7 will be ignored. Current value: bagging_fraction=0.6342272951351141\n",
      "[LightGBM] [Warning] bagging_freq is set=6, subsample_freq=0 will be ignored. Current value: bagging_freq=6\n",
      "Training until validation scores don't improve for 100 rounds\n",
      "[100]\ttraining's l1: 1.65763\tvalid_1's l1: 2.2668\n"
     ]
    },
    {
     "name": "stderr",
     "output_type": "stream",
     "text": [
      "\u001b[32m[I 2021-07-26 14:39:40,861]\u001b[0m Trial 71 finished with value: -2.208722918131143 and parameters: {'max_depth': 18, 'min_child_weight': 13, 'subsample': 0.7, 'colsample_bytree': 0.5, 'reg_lambda': 0.00131175921677774, 'reg_alpha': 2.1217223331030777, 'feature_fraction': 0.8972331097729139, 'bagging_fraction': 0.6342272951351141, 'bagging_freq': 6, 'num_leaves': 651, 'min_child_samples': 46}. Best is trial 54 with value: -2.1936616547013386.\u001b[0m\n"
     ]
    },
    {
     "name": "stdout",
     "output_type": "stream",
     "text": [
      "Early stopping, best iteration is:\n",
      "[20]\ttraining's l1: 1.80547\tvalid_1's l1: 2.20872\n",
      "[LightGBM] [Warning] feature_fraction is set=0.927639759419204, colsample_bytree=0.5 will be ignored. Current value: feature_fraction=0.927639759419204\n",
      "[LightGBM] [Warning] bagging_fraction is set=0.7160370618077954, subsample=0.7 will be ignored. Current value: bagging_fraction=0.7160370618077954\n",
      "[LightGBM] [Warning] bagging_freq is set=6, subsample_freq=0 will be ignored. Current value: bagging_freq=6\n",
      "Training until validation scores don't improve for 100 rounds\n",
      "[100]\ttraining's l1: 1.69031\tvalid_1's l1: 2.24441\n"
     ]
    },
    {
     "name": "stderr",
     "output_type": "stream",
     "text": [
      "\u001b[32m[I 2021-07-26 14:39:49,411]\u001b[0m Trial 72 finished with value: -2.2155673964495386 and parameters: {'max_depth': 11, 'min_child_weight': 12, 'subsample': 0.7, 'colsample_bytree': 0.5, 'reg_lambda': 3.379063494382938, 'reg_alpha': 13.210683771168265, 'feature_fraction': 0.927639759419204, 'bagging_fraction': 0.7160370618077954, 'bagging_freq': 6, 'num_leaves': 597, 'min_child_samples': 44}. Best is trial 54 with value: -2.1936616547013386.\u001b[0m\n"
     ]
    },
    {
     "name": "stdout",
     "output_type": "stream",
     "text": [
      "Early stopping, best iteration is:\n",
      "[25]\ttraining's l1: 1.79303\tvalid_1's l1: 2.21557\n",
      "[LightGBM] [Warning] feature_fraction is set=0.9548406983586113, colsample_bytree=0.5 will be ignored. Current value: feature_fraction=0.9548406983586113\n",
      "[LightGBM] [Warning] bagging_fraction is set=0.5433954594564581, subsample=0.7 will be ignored. Current value: bagging_fraction=0.5433954594564581\n",
      "[LightGBM] [Warning] bagging_freq is set=9, subsample_freq=0 will be ignored. Current value: bagging_freq=9\n",
      "Training until validation scores don't improve for 100 rounds\n",
      "[100]\ttraining's l1: 1.679\tvalid_1's l1: 2.24972\n"
     ]
    },
    {
     "name": "stderr",
     "output_type": "stream",
     "text": [
      "\u001b[32m[I 2021-07-26 14:39:59,363]\u001b[0m Trial 73 finished with value: -2.1966200436897805 and parameters: {'max_depth': 20, 'min_child_weight': 9, 'subsample': 0.7, 'colsample_bytree': 0.5, 'reg_lambda': 0.6872020733975508, 'reg_alpha': 1.251794622299803, 'feature_fraction': 0.9548406983586113, 'bagging_fraction': 0.5433954594564581, 'bagging_freq': 9, 'num_leaves': 517, 'min_child_samples': 51}. Best is trial 54 with value: -2.1936616547013386.\u001b[0m\n"
     ]
    },
    {
     "name": "stdout",
     "output_type": "stream",
     "text": [
      "Early stopping, best iteration is:\n",
      "[22]\ttraining's l1: 1.79957\tvalid_1's l1: 2.19662\n",
      "[LightGBM] [Warning] feature_fraction is set=0.80671711046904, colsample_bytree=0.5 will be ignored. Current value: feature_fraction=0.80671711046904\n",
      "[LightGBM] [Warning] bagging_fraction is set=0.5354655056856551, subsample=0.7 will be ignored. Current value: bagging_fraction=0.5354655056856551\n",
      "[LightGBM] [Warning] bagging_freq is set=7, subsample_freq=0 will be ignored. Current value: bagging_freq=7\n",
      "Training until validation scores don't improve for 100 rounds\n",
      "[100]\ttraining's l1: 1.6799\tvalid_1's l1: 2.26555\n"
     ]
    },
    {
     "name": "stderr",
     "output_type": "stream",
     "text": [
      "\u001b[32m[I 2021-07-26 14:40:09,280]\u001b[0m Trial 74 finished with value: -2.2161130677828287 and parameters: {'max_depth': 19, 'min_child_weight': 9, 'subsample': 0.7, 'colsample_bytree': 0.5, 'reg_lambda': 0.5508056032207513, 'reg_alpha': 1.1595273957284677, 'feature_fraction': 0.80671711046904, 'bagging_fraction': 0.5354655056856551, 'bagging_freq': 7, 'num_leaves': 523, 'min_child_samples': 50}. Best is trial 54 with value: -2.1936616547013386.\u001b[0m\n"
     ]
    },
    {
     "name": "stdout",
     "output_type": "stream",
     "text": [
      "Early stopping, best iteration is:\n",
      "[24]\ttraining's l1: 1.79353\tvalid_1's l1: 2.21611\n",
      "[LightGBM] [Warning] feature_fraction is set=0.951329041763143, colsample_bytree=0.5 will be ignored. Current value: feature_fraction=0.951329041763143\n",
      "[LightGBM] [Warning] bagging_fraction is set=0.5096819266180377, subsample=0.7 will be ignored. Current value: bagging_fraction=0.5096819266180377\n",
      "[LightGBM] [Warning] bagging_freq is set=8, subsample_freq=0 will be ignored. Current value: bagging_freq=8\n",
      "Training until validation scores don't improve for 100 rounds\n",
      "[100]\ttraining's l1: 1.68244\tvalid_1's l1: 2.2565\n"
     ]
    },
    {
     "name": "stderr",
     "output_type": "stream",
     "text": [
      "\u001b[32m[I 2021-07-26 14:40:19,072]\u001b[0m Trial 75 finished with value: -2.209336879610766 and parameters: {'max_depth': 20, 'min_child_weight': 8, 'subsample': 0.7, 'colsample_bytree': 0.5, 'reg_lambda': 0.0940454773913999, 'reg_alpha': 5.352421673971575, 'feature_fraction': 0.951329041763143, 'bagging_fraction': 0.5096819266180377, 'bagging_freq': 8, 'num_leaves': 460, 'min_child_samples': 36}. Best is trial 54 with value: -2.1936616547013386.\u001b[0m\n"
     ]
    },
    {
     "name": "stdout",
     "output_type": "stream",
     "text": [
      "Early stopping, best iteration is:\n",
      "[26]\ttraining's l1: 1.78116\tvalid_1's l1: 2.20934\n",
      "[LightGBM] [Warning] feature_fraction is set=0.8942619689301936, colsample_bytree=0.8 will be ignored. Current value: feature_fraction=0.8942619689301936\n",
      "[LightGBM] [Warning] bagging_fraction is set=0.5983227172708151, subsample=0.8 will be ignored. Current value: bagging_fraction=0.5983227172708151\n",
      "[LightGBM] [Warning] bagging_freq is set=10, subsample_freq=0 will be ignored. Current value: bagging_freq=10\n",
      "Training until validation scores don't improve for 100 rounds\n",
      "[100]\ttraining's l1: 1.69185\tvalid_1's l1: 2.24941\n"
     ]
    },
    {
     "name": "stderr",
     "output_type": "stream",
     "text": [
      "\u001b[32m[I 2021-07-26 14:40:27,130]\u001b[0m Trial 76 finished with value: -2.206670140902272 and parameters: {'max_depth': 18, 'min_child_weight': 10, 'subsample': 0.8, 'colsample_bytree': 0.8, 'reg_lambda': 0.675981812900282, 'reg_alpha': 2.5516022179025737, 'feature_fraction': 0.8942619689301936, 'bagging_fraction': 0.5983227172708151, 'bagging_freq': 10, 'num_leaves': 414, 'min_child_samples': 5}. Best is trial 54 with value: -2.1936616547013386.\u001b[0m\n"
     ]
    },
    {
     "name": "stdout",
     "output_type": "stream",
     "text": [
      "Early stopping, best iteration is:\n",
      "[20]\ttraining's l1: 1.83088\tvalid_1's l1: 2.20667\n",
      "[LightGBM] [Warning] feature_fraction is set=0.8539552190499132, colsample_bytree=0.6 will be ignored. Current value: feature_fraction=0.8539552190499132\n",
      "[LightGBM] [Warning] bagging_fraction is set=0.6680862850968919, subsample=0.7 will be ignored. Current value: bagging_fraction=0.6680862850968919\n",
      "[LightGBM] [Warning] bagging_freq is set=5, subsample_freq=0 will be ignored. Current value: bagging_freq=5\n",
      "Training until validation scores don't improve for 100 rounds\n",
      "[100]\ttraining's l1: 1.67449\tvalid_1's l1: 2.25546\n"
     ]
    },
    {
     "name": "stderr",
     "output_type": "stream",
     "text": [
      "\u001b[32m[I 2021-07-26 14:40:36,618]\u001b[0m Trial 77 finished with value: -2.2054117932927078 and parameters: {'max_depth': 20, 'min_child_weight': 7, 'subsample': 0.7, 'colsample_bytree': 0.6, 'reg_lambda': 0.004815803292849476, 'reg_alpha': 0.7624359577393489, 'feature_fraction': 0.8539552190499132, 'bagging_fraction': 0.6680862850968919, 'bagging_freq': 5, 'num_leaves': 551, 'min_child_samples': 41}. Best is trial 54 with value: -2.1936616547013386.\u001b[0m\n"
     ]
    },
    {
     "name": "stdout",
     "output_type": "stream",
     "text": [
      "Early stopping, best iteration is:\n",
      "[20]\ttraining's l1: 1.81681\tvalid_1's l1: 2.20541\n",
      "[LightGBM] [Warning] feature_fraction is set=0.9322368274120397, colsample_bytree=0.5 will be ignored. Current value: feature_fraction=0.9322368274120397\n",
      "[LightGBM] [Warning] bagging_fraction is set=0.7961741926809041, subsample=0.7 will be ignored. Current value: bagging_fraction=0.7961741926809041\n",
      "[LightGBM] [Warning] bagging_freq is set=12, subsample_freq=0 will be ignored. Current value: bagging_freq=12\n",
      "Training until validation scores don't improve for 100 rounds\n",
      "[100]\ttraining's l1: 1.71411\tvalid_1's l1: 2.23653\n"
     ]
    },
    {
     "name": "stderr",
     "output_type": "stream",
     "text": [
      "\u001b[32m[I 2021-07-26 14:40:45,565]\u001b[0m Trial 78 finished with value: -2.2126643219111215 and parameters: {'max_depth': 17, 'min_child_weight': 16, 'subsample': 0.7, 'colsample_bytree': 0.5, 'reg_lambda': 0.02356756563676977, 'reg_alpha': 0.03724970592615948, 'feature_fraction': 0.9322368274120397, 'bagging_fraction': 0.7961741926809041, 'bagging_freq': 12, 'num_leaves': 314, 'min_child_samples': 51}. Best is trial 54 with value: -2.1936616547013386.\u001b[0m\n"
     ]
    },
    {
     "name": "stdout",
     "output_type": "stream",
     "text": [
      "Early stopping, best iteration is:\n",
      "[25]\ttraining's l1: 1.80642\tvalid_1's l1: 2.21266\n",
      "[LightGBM] [Warning] feature_fraction is set=0.3692852417710967, colsample_bytree=0.5 will be ignored. Current value: feature_fraction=0.3692852417710967\n",
      "[LightGBM] [Warning] bagging_fraction is set=0.5544995253284173, subsample=0.8 will be ignored. Current value: bagging_fraction=0.5544995253284173\n",
      "[LightGBM] [Warning] bagging_freq is set=10, subsample_freq=0 will be ignored. Current value: bagging_freq=10\n",
      "Training until validation scores don't improve for 100 rounds\n",
      "[100]\ttraining's l1: 1.72072\tvalid_1's l1: 2.28767\n"
     ]
    },
    {
     "name": "stderr",
     "output_type": "stream",
     "text": [
      "\u001b[32m[I 2021-07-26 14:40:53,707]\u001b[0m Trial 79 finished with value: -2.27325886762668 and parameters: {'max_depth': 16, 'min_child_weight': 15, 'subsample': 0.8, 'colsample_bytree': 0.5, 'reg_lambda': 0.42375527593102574, 'reg_alpha': 21.164092518793655, 'feature_fraction': 0.3692852417710967, 'bagging_fraction': 0.5544995253284173, 'bagging_freq': 10, 'num_leaves': 507, 'min_child_samples': 48}. Best is trial 54 with value: -2.1936616547013386.\u001b[0m\n"
     ]
    },
    {
     "name": "stdout",
     "output_type": "stream",
     "text": [
      "Early stopping, best iteration is:\n",
      "[40]\ttraining's l1: 1.80019\tvalid_1's l1: 2.27327\n",
      "[LightGBM] [Warning] feature_fraction is set=0.9031853156539382, colsample_bytree=0.5 will be ignored. Current value: feature_fraction=0.9031853156539382\n",
      "[LightGBM] [Warning] bagging_fraction is set=0.49732921649950823, subsample=0.6 will be ignored. Current value: bagging_fraction=0.49732921649950823\n",
      "[LightGBM] [Warning] bagging_freq is set=19, subsample_freq=0 will be ignored. Current value: bagging_freq=19\n",
      "Training until validation scores don't improve for 100 rounds\n",
      "[100]\ttraining's l1: 1.69768\tvalid_1's l1: 2.2634\n"
     ]
    },
    {
     "name": "stderr",
     "output_type": "stream",
     "text": [
      "\u001b[32m[I 2021-07-26 14:41:00,932]\u001b[0m Trial 80 finished with value: -2.2067991616827696 and parameters: {'max_depth': 19, 'min_child_weight': 9, 'subsample': 0.6, 'colsample_bytree': 0.5, 'reg_lambda': 1.4723947790646372, 'reg_alpha': 9.002173025548327, 'feature_fraction': 0.9031853156539382, 'bagging_fraction': 0.49732921649950823, 'bagging_freq': 19, 'num_leaves': 366, 'min_child_samples': 44}. Best is trial 54 with value: -2.1936616547013386.\u001b[0m\n"
     ]
    },
    {
     "name": "stdout",
     "output_type": "stream",
     "text": [
      "Early stopping, best iteration is:\n",
      "[21]\ttraining's l1: 1.83714\tvalid_1's l1: 2.2068\n",
      "[LightGBM] [Warning] feature_fraction is set=0.9844402155823831, colsample_bytree=0.5 will be ignored. Current value: feature_fraction=0.9844402155823831\n",
      "[LightGBM] [Warning] bagging_fraction is set=0.9686854415449853, subsample=0.9 will be ignored. Current value: bagging_fraction=0.9686854415449853\n",
      "[LightGBM] [Warning] bagging_freq is set=9, subsample_freq=0 will be ignored. Current value: bagging_freq=9\n",
      "Training until validation scores don't improve for 100 rounds\n",
      "[100]\ttraining's l1: 1.68215\tvalid_1's l1: 2.2467\n"
     ]
    },
    {
     "name": "stderr",
     "output_type": "stream",
     "text": [
      "\u001b[32m[I 2021-07-26 14:41:11,491]\u001b[0m Trial 81 finished with value: -2.2088315471458735 and parameters: {'max_depth': 11, 'min_child_weight': 11, 'subsample': 0.9, 'colsample_bytree': 0.5, 'reg_lambda': 3.823311637702342, 'reg_alpha': 0.4123647041315635, 'feature_fraction': 0.9844402155823831, 'bagging_fraction': 0.9686854415449853, 'bagging_freq': 9, 'num_leaves': 665, 'min_child_samples': 56}. Best is trial 54 with value: -2.1936616547013386.\u001b[0m\n"
     ]
    },
    {
     "name": "stdout",
     "output_type": "stream",
     "text": [
      "Early stopping, best iteration is:\n",
      "[25]\ttraining's l1: 1.76693\tvalid_1's l1: 2.20883\n",
      "[LightGBM] [Warning] feature_fraction is set=0.8700638679059414, colsample_bytree=0.5 will be ignored. Current value: feature_fraction=0.8700638679059414\n",
      "[LightGBM] [Warning] bagging_fraction is set=0.5947515672077879, subsample=0.7 will be ignored. Current value: bagging_fraction=0.5947515672077879\n",
      "[LightGBM] [Warning] bagging_freq is set=11, subsample_freq=0 will be ignored. Current value: bagging_freq=11\n",
      "Training until validation scores don't improve for 100 rounds\n",
      "[100]\ttraining's l1: 1.66459\tvalid_1's l1: 2.27277\n"
     ]
    },
    {
     "name": "stderr",
     "output_type": "stream",
     "text": [
      "\u001b[32m[I 2021-07-26 14:41:20,995]\u001b[0m Trial 82 finished with value: -2.2077347870286856 and parameters: {'max_depth': 18, 'min_child_weight': 14, 'subsample': 0.7, 'colsample_bytree': 0.5, 'reg_lambda': 17.179161453312055, 'reg_alpha': 1.474326189119037, 'feature_fraction': 0.8700638679059414, 'bagging_fraction': 0.5947515672077879, 'bagging_freq': 11, 'num_leaves': 633, 'min_child_samples': 55}. Best is trial 54 with value: -2.1936616547013386.\u001b[0m\n"
     ]
    },
    {
     "name": "stdout",
     "output_type": "stream",
     "text": [
      "Early stopping, best iteration is:\n",
      "[21]\ttraining's l1: 1.80457\tvalid_1's l1: 2.20773\n",
      "[LightGBM] [Warning] feature_fraction is set=0.9600370889719322, colsample_bytree=0.5 will be ignored. Current value: feature_fraction=0.9600370889719322\n",
      "[LightGBM] [Warning] bagging_fraction is set=0.6946149086789165, subsample=0.5 will be ignored. Current value: bagging_fraction=0.6946149086789165\n",
      "[LightGBM] [Warning] bagging_freq is set=8, subsample_freq=0 will be ignored. Current value: bagging_freq=8\n",
      "Training until validation scores don't improve for 100 rounds\n",
      "[100]\ttraining's l1: 1.66623\tvalid_1's l1: 2.26286\n"
     ]
    },
    {
     "name": "stderr",
     "output_type": "stream",
     "text": [
      "\u001b[32m[I 2021-07-26 14:41:32,568]\u001b[0m Trial 83 finished with value: -2.2036589177279082 and parameters: {'max_depth': 20, 'min_child_weight': 12, 'subsample': 0.5, 'colsample_bytree': 0.5, 'reg_lambda': 0.21117162019455096, 'reg_alpha': 2.9401307884343746, 'feature_fraction': 0.9600370889719322, 'bagging_fraction': 0.6946149086789165, 'bagging_freq': 8, 'num_leaves': 604, 'min_child_samples': 53}. Best is trial 54 with value: -2.1936616547013386.\u001b[0m\n"
     ]
    },
    {
     "name": "stdout",
     "output_type": "stream",
     "text": [
      "Early stopping, best iteration is:\n",
      "[21]\ttraining's l1: 1.79862\tvalid_1's l1: 2.20366\n",
      "[LightGBM] [Warning] feature_fraction is set=0.9334086719951352, colsample_bytree=0.5 will be ignored. Current value: feature_fraction=0.9334086719951352\n",
      "[LightGBM] [Warning] bagging_fraction is set=0.8751338917102947, subsample=0.7 will be ignored. Current value: bagging_fraction=0.8751338917102947\n",
      "[LightGBM] [Warning] bagging_freq is set=9, subsample_freq=0 will be ignored. Current value: bagging_freq=9\n",
      "Training until validation scores don't improve for 100 rounds\n",
      "[100]\ttraining's l1: 1.77083\tvalid_1's l1: 2.24234\n"
     ]
    },
    {
     "name": "stderr",
     "output_type": "stream",
     "text": [
      "\u001b[32m[I 2021-07-26 14:41:39,364]\u001b[0m Trial 84 finished with value: -2.2263316243753173 and parameters: {'max_depth': 8, 'min_child_weight': 17, 'subsample': 0.7, 'colsample_bytree': 0.5, 'reg_lambda': 6.312838618637242, 'reg_alpha': 0.597663422547642, 'feature_fraction': 0.9334086719951352, 'bagging_fraction': 0.8751338917102947, 'bagging_freq': 9, 'num_leaves': 578, 'min_child_samples': 59}. Best is trial 54 with value: -2.1936616547013386.\u001b[0m\n"
     ]
    },
    {
     "name": "stdout",
     "output_type": "stream",
     "text": [
      "Early stopping, best iteration is:\n",
      "[27]\ttraining's l1: 1.83982\tvalid_1's l1: 2.22633\n",
      "[LightGBM] [Warning] feature_fraction is set=0.9791941137995273, colsample_bytree=0.6 will be ignored. Current value: feature_fraction=0.9791941137995273\n",
      "[LightGBM] [Warning] bagging_fraction is set=0.5746117611980172, subsample=0.6 will be ignored. Current value: bagging_fraction=0.5746117611980172\n",
      "[LightGBM] [Warning] bagging_freq is set=12, subsample_freq=0 will be ignored. Current value: bagging_freq=12\n",
      "Training until validation scores don't improve for 100 rounds\n",
      "[100]\ttraining's l1: 1.69175\tvalid_1's l1: 2.23469\n"
     ]
    },
    {
     "name": "stderr",
     "output_type": "stream",
     "text": [
      "\u001b[32m[I 2021-07-26 14:41:47,874]\u001b[0m Trial 85 finished with value: -2.2033070172288607 and parameters: {'max_depth': 12, 'min_child_weight': 6, 'subsample': 0.6, 'colsample_bytree': 0.6, 'reg_lambda': 0.37691369477978587, 'reg_alpha': 0.101544803401145, 'feature_fraction': 0.9791941137995273, 'bagging_fraction': 0.5746117611980172, 'bagging_freq': 12, 'num_leaves': 470, 'min_child_samples': 46}. Best is trial 54 with value: -2.1936616547013386.\u001b[0m\n"
     ]
    },
    {
     "name": "stdout",
     "output_type": "stream",
     "text": [
      "Early stopping, best iteration is:\n",
      "[24]\ttraining's l1: 1.79053\tvalid_1's l1: 2.20331\n",
      "[LightGBM] [Warning] feature_fraction is set=0.9109781071796357, colsample_bytree=0.5 will be ignored. Current value: feature_fraction=0.9109781071796357\n",
      "[LightGBM] [Warning] bagging_fraction is set=0.7438966229767445, subsample=0.9 will be ignored. Current value: bagging_fraction=0.7438966229767445\n",
      "[LightGBM] [Warning] bagging_freq is set=3, subsample_freq=0 will be ignored. Current value: bagging_freq=3\n",
      "Training until validation scores don't improve for 100 rounds\n",
      "[100]\ttraining's l1: 1.65133\tvalid_1's l1: 2.26754\n"
     ]
    },
    {
     "name": "stderr",
     "output_type": "stream",
     "text": [
      "\u001b[32m[I 2021-07-26 14:41:59,885]\u001b[0m Trial 86 finished with value: -2.2040363518351214 and parameters: {'max_depth': 19, 'min_child_weight': 16, 'subsample': 0.9, 'colsample_bytree': 0.5, 'reg_lambda': 1.6372725841421465, 'reg_alpha': 0.1953608430303663, 'feature_fraction': 0.9109781071796357, 'bagging_fraction': 0.7438966229767445, 'bagging_freq': 3, 'num_leaves': 731, 'min_child_samples': 39}. Best is trial 54 with value: -2.1936616547013386.\u001b[0m\n"
     ]
    },
    {
     "name": "stdout",
     "output_type": "stream",
     "text": [
      "Early stopping, best iteration is:\n",
      "[22]\ttraining's l1: 1.77597\tvalid_1's l1: 2.20404\n",
      "[LightGBM] [Warning] feature_fraction is set=0.998073378312564, colsample_bytree=0.5 will be ignored. Current value: feature_fraction=0.998073378312564\n",
      "[LightGBM] [Warning] bagging_fraction is set=0.7737019381961582, subsample=0.7 will be ignored. Current value: bagging_fraction=0.7737019381961582\n",
      "[LightGBM] [Warning] bagging_freq is set=18, subsample_freq=0 will be ignored. Current value: bagging_freq=18\n",
      "Training until validation scores don't improve for 100 rounds\n",
      "[100]\ttraining's l1: 1.69998\tvalid_1's l1: 2.23753\n"
     ]
    },
    {
     "name": "stderr",
     "output_type": "stream",
     "text": [
      "\u001b[32m[I 2021-07-26 14:42:08,164]\u001b[0m Trial 87 finished with value: -2.202108660727763 and parameters: {'max_depth': 10, 'min_child_weight': 15, 'subsample': 0.7, 'colsample_bytree': 0.5, 'reg_lambda': 0.07744186959452468, 'reg_alpha': 0.008571132861922019, 'feature_fraction': 0.998073378312564, 'bagging_fraction': 0.7737019381961582, 'bagging_freq': 18, 'num_leaves': 694, 'min_child_samples': 54}. Best is trial 54 with value: -2.1936616547013386.\u001b[0m\n"
     ]
    },
    {
     "name": "stdout",
     "output_type": "stream",
     "text": [
      "Early stopping, best iteration is:\n",
      "[23]\ttraining's l1: 1.79714\tvalid_1's l1: 2.20211\n",
      "[LightGBM] [Warning] feature_fraction is set=0.950888816196543, colsample_bytree=0.6 will be ignored. Current value: feature_fraction=0.950888816196543\n",
      "[LightGBM] [Warning] bagging_fraction is set=0.6299638788078237, subsample=0.7 will be ignored. Current value: bagging_fraction=0.6299638788078237\n",
      "[LightGBM] [Warning] bagging_freq is set=11, subsample_freq=0 will be ignored. Current value: bagging_freq=11\n",
      "Training until validation scores don't improve for 100 rounds\n",
      "[100]\ttraining's l1: 1.67731\tvalid_1's l1: 2.26631\n"
     ]
    },
    {
     "name": "stderr",
     "output_type": "stream",
     "text": [
      "\u001b[32m[I 2021-07-26 14:42:18,129]\u001b[0m Trial 88 finished with value: -2.2145527246792955 and parameters: {'max_depth': 18, 'min_child_weight': 13, 'subsample': 0.7, 'colsample_bytree': 0.6, 'reg_lambda': 0.8268465681292747, 'reg_alpha': 0.0035844739363087358, 'feature_fraction': 0.950888816196543, 'bagging_fraction': 0.6299638788078237, 'bagging_freq': 11, 'num_leaves': 527, 'min_child_samples': 28}. Best is trial 54 with value: -2.1936616547013386.\u001b[0m\n"
     ]
    },
    {
     "name": "stdout",
     "output_type": "stream",
     "text": [
      "Early stopping, best iteration is:\n",
      "[22]\ttraining's l1: 1.80116\tvalid_1's l1: 2.21455\n",
      "[LightGBM] [Warning] feature_fraction is set=0.7420517080553948, colsample_bytree=0.8 will be ignored. Current value: feature_fraction=0.7420517080553948\n",
      "[LightGBM] [Warning] bagging_fraction is set=0.813101043411843, subsample=0.7 will be ignored. Current value: bagging_fraction=0.813101043411843\n",
      "[LightGBM] [Warning] bagging_freq is set=13, subsample_freq=0 will be ignored. Current value: bagging_freq=13\n",
      "Training until validation scores don't improve for 100 rounds\n",
      "[100]\ttraining's l1: 1.67498\tvalid_1's l1: 2.25094\n"
     ]
    },
    {
     "name": "stderr",
     "output_type": "stream",
     "text": [
      "\u001b[32m[I 2021-07-26 14:42:28,661]\u001b[0m Trial 89 finished with value: -2.2248844650621367 and parameters: {'max_depth': 13, 'min_child_weight': 10, 'subsample': 0.7, 'colsample_bytree': 0.8, 'reg_lambda': 0.1482869332696439, 'reg_alpha': 0.3402868924869166, 'feature_fraction': 0.7420517080553948, 'bagging_fraction': 0.813101043411843, 'bagging_freq': 13, 'num_leaves': 542, 'min_child_samples': 9}. Best is trial 54 with value: -2.1936616547013386.\u001b[0m\n"
     ]
    },
    {
     "name": "stdout",
     "output_type": "stream",
     "text": [
      "Early stopping, best iteration is:\n",
      "[43]\ttraining's l1: 1.71567\tvalid_1's l1: 2.22493\n",
      "[LightGBM] [Warning] feature_fraction is set=0.8750289530662834, colsample_bytree=0.5 will be ignored. Current value: feature_fraction=0.8750289530662834\n",
      "[LightGBM] [Warning] bagging_fraction is set=0.6089700680112625, subsample=0.8 will be ignored. Current value: bagging_fraction=0.6089700680112625\n",
      "[LightGBM] [Warning] bagging_freq is set=20, subsample_freq=0 will be ignored. Current value: bagging_freq=20\n",
      "Training until validation scores don't improve for 100 rounds\n",
      "[100]\ttraining's l1: 1.68345\tvalid_1's l1: 2.25596\n"
     ]
    },
    {
     "name": "stderr",
     "output_type": "stream",
     "text": [
      "\u001b[32m[I 2021-07-26 14:42:36,940]\u001b[0m Trial 90 finished with value: -2.2044106468901488 and parameters: {'max_depth': 15, 'min_child_weight': 11, 'subsample': 0.8, 'colsample_bytree': 0.5, 'reg_lambda': 0.04710379798259736, 'reg_alpha': 0.0015231311355044625, 'feature_fraction': 0.8750289530662834, 'bagging_fraction': 0.6089700680112625, 'bagging_freq': 20, 'num_leaves': 502, 'min_child_samples': 70}. Best is trial 54 with value: -2.1936616547013386.\u001b[0m\n"
     ]
    },
    {
     "name": "stdout",
     "output_type": "stream",
     "text": [
      "Early stopping, best iteration is:\n",
      "[20]\ttraining's l1: 1.82105\tvalid_1's l1: 2.20441\n",
      "[LightGBM] [Warning] feature_fraction is set=0.9646470265375456, colsample_bytree=0.5 will be ignored. Current value: feature_fraction=0.9646470265375456\n",
      "[LightGBM] [Warning] bagging_fraction is set=0.3847758865447014, subsample=0.8 will be ignored. Current value: bagging_fraction=0.3847758865447014\n",
      "[LightGBM] [Warning] bagging_freq is set=17, subsample_freq=0 will be ignored. Current value: bagging_freq=17\n",
      "Training until validation scores don't improve for 100 rounds\n",
      "[100]\ttraining's l1: 1.68179\tvalid_1's l1: 2.27199\n"
     ]
    },
    {
     "name": "stderr",
     "output_type": "stream",
     "text": [
      "\u001b[32m[I 2021-07-26 14:42:45,677]\u001b[0m Trial 91 finished with value: -2.198014909992881 and parameters: {'max_depth': 16, 'min_child_weight': 17, 'subsample': 0.8, 'colsample_bytree': 0.5, 'reg_lambda': 1.2345004507285864, 'reg_alpha': 0.722894311443239, 'feature_fraction': 0.9646470265375456, 'bagging_fraction': 0.3847758865447014, 'bagging_freq': 17, 'num_leaves': 629, 'min_child_samples': 96}. Best is trial 54 with value: -2.1936616547013386.\u001b[0m\n"
     ]
    },
    {
     "name": "stdout",
     "output_type": "stream",
     "text": [
      "Early stopping, best iteration is:\n",
      "[22]\ttraining's l1: 1.79293\tvalid_1's l1: 2.19801\n",
      "[LightGBM] [Warning] feature_fraction is set=0.9990634262078538, colsample_bytree=0.5 will be ignored. Current value: feature_fraction=0.9990634262078538\n",
      "[LightGBM] [Warning] bagging_fraction is set=0.3732056001169112, subsample=0.8 will be ignored. Current value: bagging_fraction=0.3732056001169112\n",
      "[LightGBM] [Warning] bagging_freq is set=18, subsample_freq=0 will be ignored. Current value: bagging_freq=18\n",
      "Training until validation scores don't improve for 100 rounds\n",
      "[100]\ttraining's l1: 1.68247\tvalid_1's l1: 2.26828\n"
     ]
    },
    {
     "name": "stderr",
     "output_type": "stream",
     "text": [
      "\u001b[32m[I 2021-07-26 14:42:54,703]\u001b[0m Trial 92 finished with value: -2.211273321974007 and parameters: {'max_depth': 16, 'min_child_weight': 17, 'subsample': 0.8, 'colsample_bytree': 0.5, 'reg_lambda': 2.7661255661254773, 'reg_alpha': 0.7942525559442091, 'feature_fraction': 0.9990634262078538, 'bagging_fraction': 0.3732056001169112, 'bagging_freq': 18, 'num_leaves': 647, 'min_child_samples': 97}. Best is trial 54 with value: -2.1936616547013386.\u001b[0m\n"
     ]
    },
    {
     "name": "stdout",
     "output_type": "stream",
     "text": [
      "Early stopping, best iteration is:\n",
      "[22]\ttraining's l1: 1.79735\tvalid_1's l1: 2.21127\n",
      "[LightGBM] [Warning] feature_fraction is set=0.9637931736585912, colsample_bytree=0.5 will be ignored. Current value: feature_fraction=0.9637931736585912\n",
      "[LightGBM] [Warning] bagging_fraction is set=0.3181707609387745, subsample=0.8 will be ignored. Current value: bagging_fraction=0.3181707609387745\n",
      "[LightGBM] [Warning] bagging_freq is set=16, subsample_freq=0 will be ignored. Current value: bagging_freq=16\n",
      "Training until validation scores don't improve for 100 rounds\n",
      "[100]\ttraining's l1: 1.68035\tvalid_1's l1: 2.2764\n"
     ]
    },
    {
     "name": "stderr",
     "output_type": "stream",
     "text": [
      "\u001b[32m[I 2021-07-26 14:43:03,411]\u001b[0m Trial 93 finished with value: -2.2044262270483506 and parameters: {'max_depth': 17, 'min_child_weight': 18, 'subsample': 0.8, 'colsample_bytree': 0.5, 'reg_lambda': 1.101124456770136, 'reg_alpha': 4.983877033687074, 'feature_fraction': 0.9637931736585912, 'bagging_fraction': 0.3181707609387745, 'bagging_freq': 16, 'num_leaves': 578, 'min_child_samples': 50}. Best is trial 54 with value: -2.1936616547013386.\u001b[0m\n"
     ]
    },
    {
     "name": "stdout",
     "output_type": "stream",
     "text": [
      "Early stopping, best iteration is:\n",
      "[25]\ttraining's l1: 1.78451\tvalid_1's l1: 2.20443\n",
      "[LightGBM] [Warning] feature_fraction is set=0.9241045586253123, colsample_bytree=0.5 will be ignored. Current value: feature_fraction=0.9241045586253123\n",
      "[LightGBM] [Warning] bagging_fraction is set=0.849806658263913, subsample=0.8 will be ignored. Current value: bagging_fraction=0.849806658263913\n",
      "[LightGBM] [Warning] bagging_freq is set=17, subsample_freq=0 will be ignored. Current value: bagging_freq=17\n",
      "Training until validation scores don't improve for 100 rounds\n",
      "[100]\ttraining's l1: 1.65761\tvalid_1's l1: 2.26535\n"
     ]
    },
    {
     "name": "stderr",
     "output_type": "stream",
     "text": [
      "\u001b[32m[I 2021-07-26 14:43:14,473]\u001b[0m Trial 94 finished with value: -2.2013888155288055 and parameters: {'max_depth': 18, 'min_child_weight': 14, 'subsample': 0.8, 'colsample_bytree': 0.5, 'reg_lambda': 0.30357355664802776, 'reg_alpha': 2.209174921063514, 'feature_fraction': 0.9241045586253123, 'bagging_fraction': 0.849806658263913, 'bagging_freq': 17, 'num_leaves': 675, 'min_child_samples': 78}. Best is trial 54 with value: -2.1936616547013386.\u001b[0m\n"
     ]
    },
    {
     "name": "stdout",
     "output_type": "stream",
     "text": [
      "Early stopping, best iteration is:\n",
      "[22]\ttraining's l1: 1.77658\tvalid_1's l1: 2.20139\n",
      "[LightGBM] [Warning] feature_fraction is set=0.9022352911525434, colsample_bytree=0.5 will be ignored. Current value: feature_fraction=0.9022352911525434\n",
      "[LightGBM] [Warning] bagging_fraction is set=0.31955053848472215, subsample=0.9 will be ignored. Current value: bagging_fraction=0.31955053848472215\n",
      "[LightGBM] [Warning] bagging_freq is set=10, subsample_freq=0 will be ignored. Current value: bagging_freq=10\n",
      "Training until validation scores don't improve for 100 rounds\n",
      "[100]\ttraining's l1: 1.66103\tvalid_1's l1: 2.28686\n"
     ]
    },
    {
     "name": "stderr",
     "output_type": "stream",
     "text": [
      "\u001b[32m[I 2021-07-26 14:43:23,246]\u001b[0m Trial 95 finished with value: -2.209141920162376 and parameters: {'max_depth': 19, 'min_child_weight': 17, 'subsample': 0.9, 'colsample_bytree': 0.5, 'reg_lambda': 11.096251308593294, 'reg_alpha': 1.7202489000274228, 'feature_fraction': 0.9022352911525434, 'bagging_fraction': 0.31955053848472215, 'bagging_freq': 10, 'num_leaves': 784, 'min_child_samples': 42}. Best is trial 54 with value: -2.1936616547013386.\u001b[0m\n"
     ]
    },
    {
     "name": "stdout",
     "output_type": "stream",
     "text": [
      "Early stopping, best iteration is:\n",
      "[21]\ttraining's l1: 1.80655\tvalid_1's l1: 2.20914\n",
      "[LightGBM] [Warning] feature_fraction is set=0.8394189702905017, colsample_bytree=0.8 will be ignored. Current value: feature_fraction=0.8394189702905017\n",
      "[LightGBM] [Warning] bagging_fraction is set=0.6697099146086019, subsample=0.7 will be ignored. Current value: bagging_fraction=0.6697099146086019\n",
      "[LightGBM] [Warning] bagging_freq is set=15, subsample_freq=0 will be ignored. Current value: bagging_freq=15\n",
      "Training until validation scores don't improve for 100 rounds\n",
      "[100]\ttraining's l1: 1.67469\tvalid_1's l1: 2.25951\n"
     ]
    },
    {
     "name": "stderr",
     "output_type": "stream",
     "text": [
      "\u001b[32m[I 2021-07-26 14:43:32,434]\u001b[0m Trial 96 finished with value: -2.2179544935091906 and parameters: {'max_depth': 14, 'min_child_weight': 16, 'subsample': 0.7, 'colsample_bytree': 0.8, 'reg_lambda': 0.5679987426444897, 'reg_alpha': 1.2073225840142756, 'feature_fraction': 0.8394189702905017, 'bagging_fraction': 0.6697099146086019, 'bagging_freq': 15, 'num_leaves': 612, 'min_child_samples': 64}. Best is trial 54 with value: -2.1936616547013386.\u001b[0m\n"
     ]
    },
    {
     "name": "stdout",
     "output_type": "stream",
     "text": [
      "Early stopping, best iteration is:\n",
      "[28]\ttraining's l1: 1.75093\tvalid_1's l1: 2.21795\n",
      "[LightGBM] [Warning] feature_fraction is set=0.9421729847950688, colsample_bytree=0.5 will be ignored. Current value: feature_fraction=0.9421729847950688\n",
      "[LightGBM] [Warning] bagging_fraction is set=0.22610465333934926, subsample=0.7 will be ignored. Current value: bagging_fraction=0.22610465333934926\n",
      "[LightGBM] [Warning] bagging_freq is set=9, subsample_freq=0 will be ignored. Current value: bagging_freq=9\n",
      "Training until validation scores don't improve for 100 rounds\n",
      "[100]\ttraining's l1: 1.71216\tvalid_1's l1: 2.2697\n"
     ]
    },
    {
     "name": "stderr",
     "output_type": "stream",
     "text": [
      "\u001b[32m[I 2021-07-26 14:43:39,089]\u001b[0m Trial 97 finished with value: -2.2199900351031676 and parameters: {'max_depth': 13, 'min_child_weight': 18, 'subsample': 0.7, 'colsample_bytree': 0.5, 'reg_lambda': 1.929833888171029, 'reg_alpha': 0.9095219612688857, 'feature_fraction': 0.9421729847950688, 'bagging_fraction': 0.22610465333934926, 'bagging_freq': 9, 'num_leaves': 559, 'min_child_samples': 83}. Best is trial 54 with value: -2.1936616547013386.\u001b[0m\n"
     ]
    },
    {
     "name": "stdout",
     "output_type": "stream",
     "text": [
      "Early stopping, best iteration is:\n",
      "[28]\ttraining's l1: 1.77813\tvalid_1's l1: 2.21999\n",
      "[LightGBM] [Warning] feature_fraction is set=0.9715521620022106, colsample_bytree=0.5 will be ignored. Current value: feature_fraction=0.9715521620022106\n",
      "[LightGBM] [Warning] bagging_fraction is set=0.7317581133613826, subsample=0.9 will be ignored. Current value: bagging_fraction=0.7317581133613826\n",
      "[LightGBM] [Warning] bagging_freq is set=17, subsample_freq=0 will be ignored. Current value: bagging_freq=17\n",
      "Training until validation scores don't improve for 100 rounds\n",
      "[100]\ttraining's l1: 1.70165\tvalid_1's l1: 2.24549\n"
     ]
    },
    {
     "name": "stderr",
     "output_type": "stream",
     "text": [
      "\u001b[32m[I 2021-07-26 14:43:48,884]\u001b[0m Trial 98 finished with value: -2.200881881157695 and parameters: {'max_depth': 15, 'min_child_weight': 15, 'subsample': 0.9, 'colsample_bytree': 0.5, 'reg_lambda': 1.0805793594736595, 'reg_alpha': 0.22927995876483118, 'feature_fraction': 0.9715521620022106, 'bagging_fraction': 0.7317581133613826, 'bagging_freq': 17, 'num_leaves': 415, 'min_child_samples': 61}. Best is trial 54 with value: -2.1936616547013386.\u001b[0m\n"
     ]
    },
    {
     "name": "stdout",
     "output_type": "stream",
     "text": [
      "Early stopping, best iteration is:\n",
      "[25]\ttraining's l1: 1.78699\tvalid_1's l1: 2.20088\n",
      "[LightGBM] [Warning] feature_fraction is set=0.9780009117456686, colsample_bytree=0.6 will be ignored. Current value: feature_fraction=0.9780009117456686\n",
      "[LightGBM] [Warning] bagging_fraction is set=0.7334705781391497, subsample=0.8 will be ignored. Current value: bagging_fraction=0.7334705781391497\n",
      "[LightGBM] [Warning] bagging_freq is set=17, subsample_freq=0 will be ignored. Current value: bagging_freq=17\n",
      "Training until validation scores don't improve for 100 rounds\n",
      "[100]\ttraining's l1: 1.696\tvalid_1's l1: 2.24984\n"
     ]
    },
    {
     "name": "stderr",
     "output_type": "stream",
     "text": [
      "\u001b[32m[I 2021-07-26 14:43:58,329]\u001b[0m Trial 99 finished with value: -2.209040101073306 and parameters: {'max_depth': 15, 'min_child_weight': 15, 'subsample': 0.8, 'colsample_bytree': 0.6, 'reg_lambda': 1.143504515312361, 'reg_alpha': 0.15003240270077497, 'feature_fraction': 0.9780009117456686, 'bagging_fraction': 0.7334705781391497, 'bagging_freq': 17, 'num_leaves': 418, 'min_child_samples': 58}. Best is trial 54 with value: -2.1936616547013386.\u001b[0m\n",
      "\u001b[32m[I 2021-07-26 14:43:58,331]\u001b[0m A new study created in memory with name: no-name-dc0cbf3a-67c2-45bf-b83d-62608506bcfe\u001b[0m\n"
     ]
    },
    {
     "name": "stdout",
     "output_type": "stream",
     "text": [
      "Early stopping, best iteration is:\n",
      "[24]\ttraining's l1: 1.79235\tvalid_1's l1: 2.20904\n",
      "[LightGBM] [Warning] feature_fraction is set=0.4759734148586235, colsample_bytree=0.5 will be ignored. Current value: feature_fraction=0.4759734148586235\n",
      "[LightGBM] [Warning] bagging_fraction is set=0.4715387991845755, subsample=0.5 will be ignored. Current value: bagging_fraction=0.4715387991845755\n",
      "[LightGBM] [Warning] bagging_freq is set=6, subsample_freq=0 will be ignored. Current value: bagging_freq=6\n",
      "Training until validation scores don't improve for 100 rounds\n",
      "[100]\ttraining's l1: 1.00233\tvalid_1's l1: 0.932647\n"
     ]
    },
    {
     "name": "stderr",
     "output_type": "stream",
     "text": [
      "\u001b[32m[I 2021-07-26 14:44:05,154]\u001b[0m Trial 0 finished with value: -0.9306153866634511 and parameters: {'max_depth': 10, 'min_child_weight': 5, 'subsample': 0.5, 'colsample_bytree': 0.5, 'reg_lambda': 5.8480581027648855, 'reg_alpha': 0.007535167722148401, 'feature_fraction': 0.4759734148586235, 'bagging_fraction': 0.4715387991845755, 'bagging_freq': 6, 'num_leaves': 540, 'min_child_samples': 59}. Best is trial 0 with value: -0.9306153866634511.\u001b[0m\n"
     ]
    },
    {
     "name": "stdout",
     "output_type": "stream",
     "text": [
      "Early stopping, best iteration is:\n",
      "[47]\ttraining's l1: 1.00872\tvalid_1's l1: 0.930617\n",
      "[LightGBM] [Warning] feature_fraction is set=0.6463633355563572, colsample_bytree=0.5 will be ignored. Current value: feature_fraction=0.6463633355563572\n",
      "[LightGBM] [Warning] bagging_fraction is set=0.5689668379622367, subsample=0.5 will be ignored. Current value: bagging_fraction=0.5689668379622367\n",
      "[LightGBM] [Warning] bagging_freq is set=7, subsample_freq=0 will be ignored. Current value: bagging_freq=7\n",
      "Training until validation scores don't improve for 100 rounds\n",
      "[100]\ttraining's l1: 1.03571\tvalid_1's l1: 0.943222\n",
      "[200]\ttraining's l1: 1.03277\tvalid_1's l1: 0.941718\n",
      "[300]\ttraining's l1: 1.02987\tvalid_1's l1: 0.940067\n",
      "[400]\ttraining's l1: 1.02885\tvalid_1's l1: 0.939143\n",
      "[500]\ttraining's l1: 1.02843\tvalid_1's l1: 0.939151\n",
      "[600]\ttraining's l1: 1.02758\tvalid_1's l1: 0.938763\n",
      "[700]\ttraining's l1: 1.02609\tvalid_1's l1: 0.938006\n",
      "[800]\ttraining's l1: 1.02503\tvalid_1's l1: 0.937137\n",
      "[900]\ttraining's l1: 1.02369\tvalid_1's l1: 0.935948\n",
      "[1000]\ttraining's l1: 1.0233\tvalid_1's l1: 0.935805\n"
     ]
    },
    {
     "name": "stderr",
     "output_type": "stream",
     "text": [
      "\u001b[32m[I 2021-07-26 14:44:24,122]\u001b[0m Trial 1 finished with value: -0.9356306808801823 and parameters: {'max_depth': 4, 'min_child_weight': 9, 'subsample': 0.5, 'colsample_bytree': 0.5, 'reg_lambda': 0.11374512744853034, 'reg_alpha': 113.52793104407944, 'feature_fraction': 0.6463633355563572, 'bagging_fraction': 0.5689668379622367, 'bagging_freq': 7, 'num_leaves': 907, 'min_child_samples': 66}. Best is trial 0 with value: -0.9306153866634511.\u001b[0m\n"
     ]
    },
    {
     "name": "stdout",
     "output_type": "stream",
     "text": [
      "Early stopping, best iteration is:\n",
      "[943]\ttraining's l1: 1.02343\tvalid_1's l1: 0.935684\n",
      "[LightGBM] [Warning] feature_fraction is set=0.3662993109410386, colsample_bytree=0.5 will be ignored. Current value: feature_fraction=0.3662993109410386\n",
      "[LightGBM] [Warning] bagging_fraction is set=0.8131673725383168, subsample=0.6 will be ignored. Current value: bagging_fraction=0.8131673725383168\n",
      "[LightGBM] [Warning] bagging_freq is set=15, subsample_freq=0 will be ignored. Current value: bagging_freq=15\n",
      "Training until validation scores don't improve for 100 rounds\n",
      "[100]\ttraining's l1: 1.02374\tvalid_1's l1: 0.935347\n",
      "[200]\ttraining's l1: 1.01837\tvalid_1's l1: 0.931005\n",
      "[300]\ttraining's l1: 1.0178\tvalid_1's l1: 0.930953\n",
      "[400]\ttraining's l1: 1.0169\tvalid_1's l1: 0.930934\n",
      "[500]\ttraining's l1: 1.0162\tvalid_1's l1: 0.930627\n"
     ]
    },
    {
     "name": "stderr",
     "output_type": "stream",
     "text": [
      "\u001b[32m[I 2021-07-26 14:44:39,973]\u001b[0m Trial 2 finished with value: -0.9304058279470262 and parameters: {'max_depth': 6, 'min_child_weight': 19, 'subsample': 0.6, 'colsample_bytree': 0.5, 'reg_lambda': 0.0017177134072088522, 'reg_alpha': 15.061649670639834, 'feature_fraction': 0.3662993109410386, 'bagging_fraction': 0.8131673725383168, 'bagging_freq': 15, 'num_leaves': 514, 'min_child_samples': 11}. Best is trial 2 with value: -0.9304058279470262.\u001b[0m\n"
     ]
    },
    {
     "name": "stdout",
     "output_type": "stream",
     "text": [
      "Early stopping, best iteration is:\n",
      "[433]\ttraining's l1: 1.01665\tvalid_1's l1: 0.930418\n",
      "[LightGBM] [Warning] feature_fraction is set=0.4338163647889408, colsample_bytree=0.9 will be ignored. Current value: feature_fraction=0.4338163647889408\n",
      "[LightGBM] [Warning] bagging_fraction is set=0.5900391327705252, subsample=0.8 will be ignored. Current value: bagging_fraction=0.5900391327705252\n",
      "[LightGBM] [Warning] bagging_freq is set=20, subsample_freq=0 will be ignored. Current value: bagging_freq=20\n",
      "Training until validation scores don't improve for 100 rounds\n",
      "[100]\ttraining's l1: 1.01541\tvalid_1's l1: 0.93156\n",
      "[200]\ttraining's l1: 1.01092\tvalid_1's l1: 0.929567\n"
     ]
    },
    {
     "name": "stderr",
     "output_type": "stream",
     "text": [
      "\u001b[32m[I 2021-07-26 14:44:47,676]\u001b[0m Trial 3 finished with value: -0.9294524262334377 and parameters: {'max_depth': 7, 'min_child_weight': 15, 'subsample': 0.8, 'colsample_bytree': 0.9, 'reg_lambda': 0.7364229892116513, 'reg_alpha': 0.3258645419636201, 'feature_fraction': 0.4338163647889408, 'bagging_fraction': 0.5900391327705252, 'bagging_freq': 20, 'num_leaves': 517, 'min_child_samples': 43}. Best is trial 3 with value: -0.9294524262334377.\u001b[0m\n"
     ]
    },
    {
     "name": "stdout",
     "output_type": "stream",
     "text": [
      "Early stopping, best iteration is:\n",
      "[154]\ttraining's l1: 1.01113\tvalid_1's l1: 0.929464\n",
      "[LightGBM] [Warning] feature_fraction is set=0.4064715863682456, colsample_bytree=0.9 will be ignored. Current value: feature_fraction=0.4064715863682456\n",
      "[LightGBM] [Warning] bagging_fraction is set=0.49801874443455196, subsample=0.8 will be ignored. Current value: bagging_fraction=0.49801874443455196\n",
      "[LightGBM] [Warning] bagging_freq is set=14, subsample_freq=0 will be ignored. Current value: bagging_freq=14\n",
      "Training until validation scores don't improve for 100 rounds\n",
      "[100]\ttraining's l1: 1.02644\tvalid_1's l1: 0.934567\n",
      "[200]\ttraining's l1: 1.02177\tvalid_1's l1: 0.930653\n"
     ]
    },
    {
     "name": "stderr",
     "output_type": "stream",
     "text": [
      "\u001b[32m[I 2021-07-26 14:44:53,551]\u001b[0m Trial 4 finished with value: -0.9305857705449088 and parameters: {'max_depth': 5, 'min_child_weight': 16, 'subsample': 0.8, 'colsample_bytree': 0.9, 'reg_lambda': 0.0012553786798262933, 'reg_alpha': 0.0032636315790300196, 'feature_fraction': 0.4064715863682456, 'bagging_fraction': 0.49801874443455196, 'bagging_freq': 14, 'num_leaves': 351, 'min_child_samples': 50}. Best is trial 3 with value: -0.9294524262334377.\u001b[0m\n"
     ]
    },
    {
     "name": "stdout",
     "output_type": "stream",
     "text": [
      "Early stopping, best iteration is:\n",
      "[138]\ttraining's l1: 1.02234\tvalid_1's l1: 0.930589\n",
      "[LightGBM] [Warning] feature_fraction is set=0.37136018860399445, colsample_bytree=0.9 will be ignored. Current value: feature_fraction=0.37136018860399445\n",
      "[LightGBM] [Warning] bagging_fraction is set=0.6680379584615808, subsample=0.5 will be ignored. Current value: bagging_fraction=0.6680379584615808\n",
      "[LightGBM] [Warning] bagging_freq is set=19, subsample_freq=0 will be ignored. Current value: bagging_freq=19\n",
      "Training until validation scores don't improve for 100 rounds\n",
      "[100]\ttraining's l1: 1.00817\tvalid_1's l1: 0.932219\n",
      "[200]\ttraining's l1: 1.00136\tvalid_1's l1: 0.93543\n"
     ]
    },
    {
     "name": "stderr",
     "output_type": "stream",
     "text": [
      "\u001b[32m[I 2021-07-26 14:45:04,224]\u001b[0m Trial 5 finished with value: -0.9319361594147934 and parameters: {'max_depth': 20, 'min_child_weight': 7, 'subsample': 0.5, 'colsample_bytree': 0.9, 'reg_lambda': 0.5530262014624845, 'reg_alpha': 0.055222124734551827, 'feature_fraction': 0.37136018860399445, 'bagging_fraction': 0.6680379584615808, 'bagging_freq': 19, 'num_leaves': 316, 'min_child_samples': 72}. Best is trial 3 with value: -0.9294524262334377.\u001b[0m\n"
     ]
    },
    {
     "name": "stdout",
     "output_type": "stream",
     "text": [
      "Early stopping, best iteration is:\n",
      "[132]\ttraining's l1: 1.00634\tvalid_1's l1: 0.931956\n",
      "[LightGBM] [Warning] feature_fraction is set=0.5743875579444403, colsample_bytree=0.6 will be ignored. Current value: feature_fraction=0.5743875579444403\n",
      "[LightGBM] [Warning] bagging_fraction is set=0.4218960532481191, subsample=0.9 will be ignored. Current value: bagging_fraction=0.4218960532481191\n",
      "[LightGBM] [Warning] bagging_freq is set=3, subsample_freq=0 will be ignored. Current value: bagging_freq=3\n",
      "Training until validation scores don't improve for 100 rounds\n",
      "[100]\ttraining's l1: 1.00375\tvalid_1's l1: 0.937503\n"
     ]
    },
    {
     "name": "stderr",
     "output_type": "stream",
     "text": [
      "\u001b[32m[I 2021-07-26 14:45:12,462]\u001b[0m Trial 6 finished with value: -0.9352406555415403 and parameters: {'max_depth': 11, 'min_child_weight': 5, 'subsample': 0.9, 'colsample_bytree': 0.6, 'reg_lambda': 381.657065894664, 'reg_alpha': 0.0075458451903820485, 'feature_fraction': 0.5743875579444403, 'bagging_fraction': 0.4218960532481191, 'bagging_freq': 3, 'num_leaves': 645, 'min_child_samples': 58}. Best is trial 3 with value: -0.9294524262334377.\u001b[0m\n"
     ]
    },
    {
     "name": "stdout",
     "output_type": "stream",
     "text": [
      "Early stopping, best iteration is:\n",
      "[58]\ttraining's l1: 1.01291\tvalid_1's l1: 0.93525\n",
      "[LightGBM] [Warning] feature_fraction is set=0.6129512684085987, colsample_bytree=0.5 will be ignored. Current value: feature_fraction=0.6129512684085987\n",
      "[LightGBM] [Warning] bagging_fraction is set=0.789048863400337, subsample=0.5 will be ignored. Current value: bagging_fraction=0.789048863400337\n",
      "[LightGBM] [Warning] bagging_freq is set=11, subsample_freq=0 will be ignored. Current value: bagging_freq=11\n",
      "Training until validation scores don't improve for 100 rounds\n",
      "[100]\ttraining's l1: 1.00288\tvalid_1's l1: 0.930132\n"
     ]
    },
    {
     "name": "stderr",
     "output_type": "stream",
     "text": [
      "\u001b[32m[I 2021-07-26 14:45:21,652]\u001b[0m Trial 7 finished with value: -0.9291134964151484 and parameters: {'max_depth': 9, 'min_child_weight': 14, 'subsample': 0.5, 'colsample_bytree': 0.5, 'reg_lambda': 1.1271369322579434, 'reg_alpha': 0.18468833364154755, 'feature_fraction': 0.6129512684085987, 'bagging_fraction': 0.789048863400337, 'bagging_freq': 11, 'num_leaves': 682, 'min_child_samples': 70}. Best is trial 7 with value: -0.9291134964151484.\u001b[0m\n"
     ]
    },
    {
     "name": "stdout",
     "output_type": "stream",
     "text": [
      "Early stopping, best iteration is:\n",
      "[59]\ttraining's l1: 1.01055\tvalid_1's l1: 0.929118\n",
      "[LightGBM] [Warning] feature_fraction is set=0.4233885865204786, colsample_bytree=0.5 will be ignored. Current value: feature_fraction=0.4233885865204786\n",
      "[LightGBM] [Warning] bagging_fraction is set=0.43989943862952413, subsample=0.9 will be ignored. Current value: bagging_fraction=0.43989943862952413\n",
      "[LightGBM] [Warning] bagging_freq is set=14, subsample_freq=0 will be ignored. Current value: bagging_freq=14\n",
      "Training until validation scores don't improve for 100 rounds\n",
      "[100]\ttraining's l1: 0.996634\tvalid_1's l1: 0.938742\n"
     ]
    },
    {
     "name": "stderr",
     "output_type": "stream",
     "text": [
      "\u001b[32m[I 2021-07-26 14:45:29,486]\u001b[0m Trial 8 finished with value: -0.9351288306017267 and parameters: {'max_depth': 20, 'min_child_weight': 17, 'subsample': 0.9, 'colsample_bytree': 0.5, 'reg_lambda': 34.33478536231526, 'reg_alpha': 0.004502627497824221, 'feature_fraction': 0.4233885865204786, 'bagging_fraction': 0.43989943862952413, 'bagging_freq': 14, 'num_leaves': 494, 'min_child_samples': 45}. Best is trial 7 with value: -0.9291134964151484.\u001b[0m\n"
     ]
    },
    {
     "name": "stdout",
     "output_type": "stream",
     "text": [
      "Early stopping, best iteration is:\n",
      "[38]\ttraining's l1: 1.00846\tvalid_1's l1: 0.935131\n",
      "[LightGBM] [Warning] feature_fraction is set=0.5181275959046963, colsample_bytree=0.8 will be ignored. Current value: feature_fraction=0.5181275959046963\n",
      "[LightGBM] [Warning] bagging_fraction is set=0.6426237070388854, subsample=0.7 will be ignored. Current value: bagging_fraction=0.6426237070388854\n",
      "[LightGBM] [Warning] bagging_freq is set=18, subsample_freq=0 will be ignored. Current value: bagging_freq=18\n",
      "Training until validation scores don't improve for 100 rounds\n",
      "[100]\ttraining's l1: 0.988216\tvalid_1's l1: 0.938642\n"
     ]
    },
    {
     "name": "stderr",
     "output_type": "stream",
     "text": [
      "\u001b[32m[I 2021-07-26 14:45:38,858]\u001b[0m Trial 9 finished with value: -0.9315169524667678 and parameters: {'max_depth': 13, 'min_child_weight': 19, 'subsample': 0.7, 'colsample_bytree': 0.8, 'reg_lambda': 0.15223715893753367, 'reg_alpha': 1.9819821834774438, 'feature_fraction': 0.5181275959046963, 'bagging_fraction': 0.6426237070388854, 'bagging_freq': 18, 'num_leaves': 772, 'min_child_samples': 81}. Best is trial 7 with value: -0.9291134964151484.\u001b[0m\n"
     ]
    },
    {
     "name": "stdout",
     "output_type": "stream",
     "text": [
      "Early stopping, best iteration is:\n",
      "[29]\ttraining's l1: 1.00564\tvalid_1's l1: 0.931518\n",
      "[LightGBM] [Warning] feature_fraction is set=0.9057038207593535, colsample_bytree=0.7 will be ignored. Current value: feature_fraction=0.9057038207593535\n",
      "[LightGBM] [Warning] bagging_fraction is set=0.2113233252318361, subsample=0.6 will be ignored. Current value: bagging_fraction=0.2113233252318361\n",
      "[LightGBM] [Warning] bagging_freq is set=10, subsample_freq=0 will be ignored. Current value: bagging_freq=10\n",
      "Training until validation scores don't improve for 100 rounds\n",
      "[100]\ttraining's l1: 1.0603\tvalid_1's l1: 0.972602\n"
     ]
    },
    {
     "name": "stderr",
     "output_type": "stream",
     "text": [
      "\u001b[32m[I 2021-07-26 14:45:41,112]\u001b[0m Trial 10 finished with value: -0.9725811784625441 and parameters: {'max_depth': 1, 'min_child_weight': 12, 'subsample': 0.6, 'colsample_bytree': 0.7, 'reg_lambda': 0.022860254079292614, 'reg_alpha': 438.48881506170966, 'feature_fraction': 0.9057038207593535, 'bagging_fraction': 0.2113233252318361, 'bagging_freq': 10, 'num_leaves': 75, 'min_child_samples': 99}. Best is trial 7 with value: -0.9291134964151484.\u001b[0m\n"
     ]
    },
    {
     "name": "stdout",
     "output_type": "stream",
     "text": [
      "Early stopping, best iteration is:\n",
      "[35]\ttraining's l1: 1.06033\tvalid_1's l1: 0.972581\n",
      "[LightGBM] [Warning] feature_fraction is set=0.7457197294747969, colsample_bytree=0.7 will be ignored. Current value: feature_fraction=0.7457197294747969\n",
      "[LightGBM] [Warning] bagging_fraction is set=0.9500978676069145, subsample=0.8 will be ignored. Current value: bagging_fraction=0.9500978676069145\n",
      "[LightGBM] [Warning] bagging_freq is set=20, subsample_freq=0 will be ignored. Current value: bagging_freq=20\n",
      "Training until validation scores don't improve for 100 rounds\n",
      "[100]\ttraining's l1: 1.00481\tvalid_1's l1: 0.929635\n",
      "[200]\ttraining's l1: 0.999826\tvalid_1's l1: 0.927308\n"
     ]
    },
    {
     "name": "stderr",
     "output_type": "stream",
     "text": [
      "\u001b[32m[I 2021-07-26 14:45:54,956]\u001b[0m Trial 11 finished with value: -0.9272119157106629 and parameters: {'max_depth': 9, 'min_child_weight': 13, 'subsample': 0.8, 'colsample_bytree': 0.7, 'reg_lambda': 4.409595925429963, 'reg_alpha': 0.20914367246389037, 'feature_fraction': 0.7457197294747969, 'bagging_fraction': 0.9500978676069145, 'bagging_freq': 20, 'num_leaves': 996, 'min_child_samples': 25}. Best is trial 11 with value: -0.9272119157106629.\u001b[0m\n"
     ]
    },
    {
     "name": "stdout",
     "output_type": "stream",
     "text": [
      "Early stopping, best iteration is:\n",
      "[188]\ttraining's l1: 0.999972\tvalid_1's l1: 0.927238\n",
      "[LightGBM] [Warning] feature_fraction is set=0.7531593481560274, colsample_bytree=0.7 will be ignored. Current value: feature_fraction=0.7531593481560274\n",
      "[LightGBM] [Warning] bagging_fraction is set=0.9943749512057027, subsample=0.8 will be ignored. Current value: bagging_fraction=0.9943749512057027\n",
      "[LightGBM] [Warning] bagging_freq is set=1, subsample_freq=0 will be ignored. Current value: bagging_freq=1\n",
      "Training until validation scores don't improve for 100 rounds\n",
      "[100]\ttraining's l1: 0.973433\tvalid_1's l1: 0.940325\n"
     ]
    },
    {
     "name": "stderr",
     "output_type": "stream",
     "text": [
      "\u001b[32m[I 2021-07-26 14:46:08,305]\u001b[0m Trial 12 finished with value: -0.93039170591719 and parameters: {'max_depth': 16, 'min_child_weight': 12, 'subsample': 0.8, 'colsample_bytree': 0.7, 'reg_lambda': 19.654530090800197, 'reg_alpha': 0.23428613727070652, 'feature_fraction': 0.7531593481560274, 'bagging_fraction': 0.9943749512057027, 'bagging_freq': 1, 'num_leaves': 970, 'min_child_samples': 14}. Best is trial 11 with value: -0.9272119157106629.\u001b[0m\n"
     ]
    },
    {
     "name": "stdout",
     "output_type": "stream",
     "text": [
      "Early stopping, best iteration is:\n",
      "[36]\ttraining's l1: 0.994741\tvalid_1's l1: 0.930408\n",
      "[LightGBM] [Warning] feature_fraction is set=0.7977959666093489, colsample_bytree=0.6 will be ignored. Current value: feature_fraction=0.7977959666093489\n",
      "[LightGBM] [Warning] bagging_fraction is set=0.9314227772073289, subsample=0.7 will be ignored. Current value: bagging_fraction=0.9314227772073289\n",
      "[LightGBM] [Warning] bagging_freq is set=12, subsample_freq=0 will be ignored. Current value: bagging_freq=12\n",
      "Training until validation scores don't improve for 100 rounds\n",
      "[100]\ttraining's l1: 1.00659\tvalid_1's l1: 0.940197\n"
     ]
    },
    {
     "name": "stderr",
     "output_type": "stream",
     "text": [
      "\u001b[32m[I 2021-07-26 14:46:16,336]\u001b[0m Trial 13 finished with value: -0.9359588770932992 and parameters: {'max_depth': 9, 'min_child_weight': 13, 'subsample': 0.7, 'colsample_bytree': 0.6, 'reg_lambda': 321.38064890672723, 'reg_alpha': 4.290141212045701, 'feature_fraction': 0.7977959666093489, 'bagging_fraction': 0.9314227772073289, 'bagging_freq': 12, 'num_leaves': 809, 'min_child_samples': 28}. Best is trial 11 with value: -0.9272119157106629.\u001b[0m\n"
     ]
    },
    {
     "name": "stdout",
     "output_type": "stream",
     "text": [
      "Early stopping, best iteration is:\n",
      "[52]\ttraining's l1: 1.01734\tvalid_1's l1: 0.935963\n",
      "[LightGBM] [Warning] feature_fraction is set=0.20502719269166175, colsample_bytree=0.6 will be ignored. Current value: feature_fraction=0.20502719269166175\n",
      "[LightGBM] [Warning] bagging_fraction is set=0.8140132087259396, subsample=0.6 will be ignored. Current value: bagging_fraction=0.8140132087259396\n",
      "[LightGBM] [Warning] bagging_freq is set=17, subsample_freq=0 will be ignored. Current value: bagging_freq=17\n",
      "Training until validation scores don't improve for 100 rounds\n",
      "[100]\ttraining's l1: 0.975833\tvalid_1's l1: 0.953956\n"
     ]
    },
    {
     "name": "stderr",
     "output_type": "stream",
     "text": [
      "\u001b[32m[I 2021-07-26 14:46:26,292]\u001b[0m Trial 14 finished with value: -0.9375160634223634 and parameters: {'max_depth': 15, 'min_child_weight': 9, 'subsample': 0.6, 'colsample_bytree': 0.6, 'reg_lambda': 8.471533969935793, 'reg_alpha': 0.12580184452096138, 'feature_fraction': 0.20502719269166175, 'bagging_fraction': 0.8140132087259396, 'bagging_freq': 17, 'num_leaves': 999, 'min_child_samples': 30}. Best is trial 11 with value: -0.9272119157106629.\u001b[0m\n"
     ]
    },
    {
     "name": "stdout",
     "output_type": "stream",
     "text": [
      "Early stopping, best iteration is:\n",
      "[33]\ttraining's l1: 1.00414\tvalid_1's l1: 0.93752\n",
      "[LightGBM] [Warning] feature_fraction is set=0.7065796247242808, colsample_bytree=0.8 will be ignored. Current value: feature_fraction=0.7065796247242808\n",
      "[LightGBM] [Warning] bagging_fraction is set=0.8477801506551704, subsample=0.8 will be ignored. Current value: bagging_fraction=0.8477801506551704\n",
      "[LightGBM] [Warning] bagging_freq is set=10, subsample_freq=0 will be ignored. Current value: bagging_freq=10\n",
      "Training until validation scores don't improve for 100 rounds\n",
      "[100]\ttraining's l1: 1.04574\tvalid_1's l1: 0.951354\n",
      "[200]\ttraining's l1: 1.04345\tvalid_1's l1: 0.948653\n",
      "[300]\ttraining's l1: 1.04102\tvalid_1's l1: 0.945328\n",
      "[400]\ttraining's l1: 1.04054\tvalid_1's l1: 0.944915\n",
      "[500]\ttraining's l1: 1.03996\tvalid_1's l1: 0.944152\n",
      "[600]\ttraining's l1: 1.0395\tvalid_1's l1: 0.943551\n",
      "[700]\ttraining's l1: 1.03934\tvalid_1's l1: 0.943144\n"
     ]
    },
    {
     "name": "stderr",
     "output_type": "stream",
     "text": [
      "\u001b[32m[I 2021-07-26 14:46:42,435]\u001b[0m Trial 15 finished with value: -0.9431105173342231 and parameters: {'max_depth': 2, 'min_child_weight': 14, 'subsample': 0.8, 'colsample_bytree': 0.8, 'reg_lambda': 2.515989810663808, 'reg_alpha': 0.0753627038915181, 'feature_fraction': 0.7065796247242808, 'bagging_fraction': 0.8477801506551704, 'bagging_freq': 10, 'num_leaves': 766, 'min_child_samples': 91}. Best is trial 11 with value: -0.9272119157106629.\u001b[0m\n"
     ]
    },
    {
     "name": "stdout",
     "output_type": "stream",
     "text": [
      "Early stopping, best iteration is:\n",
      "[656]\ttraining's l1: 1.03935\tvalid_1's l1: 0.943138\n",
      "[LightGBM] [Warning] feature_fraction is set=0.9882025244401842, colsample_bytree=0.8 will be ignored. Current value: feature_fraction=0.9882025244401842\n",
      "[LightGBM] [Warning] bagging_fraction is set=0.7278152051604512, subsample=0.7 will be ignored. Current value: bagging_fraction=0.7278152051604512\n",
      "[LightGBM] [Warning] bagging_freq is set=7, subsample_freq=0 will be ignored. Current value: bagging_freq=7\n",
      "Training until validation scores don't improve for 100 rounds\n",
      "[100]\ttraining's l1: 1.0078\tvalid_1's l1: 0.934815\n",
      "[200]\ttraining's l1: 1.00302\tvalid_1's l1: 0.935734\n"
     ]
    },
    {
     "name": "stderr",
     "output_type": "stream",
     "text": [
      "\u001b[32m[I 2021-07-26 14:46:52,718]\u001b[0m Trial 16 finished with value: -0.9345811605872673 and parameters: {'max_depth': 9, 'min_child_weight': 1, 'subsample': 0.7, 'colsample_bytree': 0.8, 'reg_lambda': 116.99925804278085, 'reg_alpha': 13.2091951602737, 'feature_fraction': 0.9882025244401842, 'bagging_fraction': 0.7278152051604512, 'bagging_freq': 7, 'num_leaves': 878, 'min_child_samples': 30}. Best is trial 11 with value: -0.9272119157106629.\u001b[0m\n"
     ]
    },
    {
     "name": "stdout",
     "output_type": "stream",
     "text": [
      "Early stopping, best iteration is:\n",
      "[109]\ttraining's l1: 1.00735\tvalid_1's l1: 0.934606\n",
      "[LightGBM] [Warning] feature_fraction is set=0.8587218360413383, colsample_bytree=0.6 will be ignored. Current value: feature_fraction=0.8587218360413383\n",
      "[LightGBM] [Warning] bagging_fraction is set=0.999979053372209, subsample=0.9 will be ignored. Current value: bagging_fraction=0.999979053372209\n",
      "[LightGBM] [Warning] bagging_freq is set=4, subsample_freq=0 will be ignored. Current value: bagging_freq=4\n",
      "Training until validation scores don't improve for 100 rounds\n",
      "[100]\ttraining's l1: 0.990198\tvalid_1's l1: 0.929148\n"
     ]
    },
    {
     "name": "stderr",
     "output_type": "stream",
     "text": [
      "\u001b[32m[I 2021-07-26 14:47:06,154]\u001b[0m Trial 17 finished with value: -0.9280892495088882 and parameters: {'max_depth': 13, 'min_child_weight': 10, 'subsample': 0.9, 'colsample_bytree': 0.6, 'reg_lambda': 0.01646983836331031, 'reg_alpha': 0.7824053411373708, 'feature_fraction': 0.8587218360413383, 'bagging_fraction': 0.999979053372209, 'bagging_freq': 4, 'num_leaves': 657, 'min_child_samples': 79}. Best is trial 11 with value: -0.9272119157106629.\u001b[0m\n"
     ]
    },
    {
     "name": "stdout",
     "output_type": "stream",
     "text": [
      "Early stopping, best iteration is:\n",
      "[79]\ttraining's l1: 0.99235\tvalid_1's l1: 0.928119\n",
      "[LightGBM] [Warning] feature_fraction is set=0.8623570380589052, colsample_bytree=0.7 will be ignored. Current value: feature_fraction=0.8623570380589052\n",
      "[LightGBM] [Warning] bagging_fraction is set=0.9627693518224236, subsample=0.9 will be ignored. Current value: bagging_fraction=0.9627693518224236\n",
      "[LightGBM] [Warning] bagging_freq is set=4, subsample_freq=0 will be ignored. Current value: bagging_freq=4\n",
      "Training until validation scores don't improve for 100 rounds\n",
      "[100]\ttraining's l1: 1.03841\tvalid_1's l1: 0.946466\n",
      "[200]\ttraining's l1: 1.03837\tvalid_1's l1: 0.946394\n",
      "[300]\ttraining's l1: 1.03696\tvalid_1's l1: 0.944729\n",
      "[400]\ttraining's l1: 1.03442\tvalid_1's l1: 0.942037\n",
      "[500]\ttraining's l1: 1.03324\tvalid_1's l1: 0.940972\n",
      "[600]\ttraining's l1: 1.03095\tvalid_1's l1: 0.939311\n",
      "[700]\ttraining's l1: 1.03029\tvalid_1's l1: 0.938553\n",
      "[800]\ttraining's l1: 1.02913\tvalid_1's l1: 0.936817\n",
      "[900]\ttraining's l1: 1.02687\tvalid_1's l1: 0.936512\n",
      "[1000]\ttraining's l1: 1.02615\tvalid_1's l1: 0.93573\n",
      "[1100]\ttraining's l1: 1.02595\tvalid_1's l1: 0.935703\n",
      "[1200]\ttraining's l1: 1.0247\tvalid_1's l1: 0.935413\n",
      "[1300]\ttraining's l1: 1.02399\tvalid_1's l1: 0.935375\n",
      "Early stopping, best iteration is:\n",
      "[1253]\ttraining's l1: 1.02404\tvalid_1's l1: 0.935341\n"
     ]
    },
    {
     "name": "stderr",
     "output_type": "stream",
     "text": [
      "\u001b[32m[I 2021-07-26 14:47:50,022]\u001b[0m Trial 18 finished with value: -0.9352957159440327 and parameters: {'max_depth': 16, 'min_child_weight': 11, 'subsample': 0.9, 'colsample_bytree': 0.7, 'reg_lambda': 0.007158031086902589, 'reg_alpha': 0.0319134908226143, 'feature_fraction': 0.8623570380589052, 'bagging_fraction': 0.9627693518224236, 'bagging_freq': 4, 'num_leaves': 26, 'min_child_samples': 5}. Best is trial 11 with value: -0.9272119157106629.\u001b[0m\n"
     ]
    },
    {
     "name": "stdout",
     "output_type": "stream",
     "text": [
      "[LightGBM] [Warning] feature_fraction is set=0.9880709893889348, colsample_bytree=0.6 will be ignored. Current value: feature_fraction=0.9880709893889348\n",
      "[LightGBM] [Warning] bagging_fraction is set=0.9006333530284398, subsample=0.9 will be ignored. Current value: bagging_fraction=0.9006333530284398\n",
      "[LightGBM] [Warning] bagging_freq is set=2, subsample_freq=0 will be ignored. Current value: bagging_freq=2\n",
      "Training until validation scores don't improve for 100 rounds\n",
      "[100]\ttraining's l1: 1.00755\tvalid_1's l1: 0.932098\n"
     ]
    },
    {
     "name": "stderr",
     "output_type": "stream",
     "text": [
      "\u001b[32m[I 2021-07-26 14:48:01,530]\u001b[0m Trial 19 finished with value: -0.9306512642427136 and parameters: {'max_depth': 13, 'min_child_weight': 8, 'subsample': 0.9, 'colsample_bytree': 0.6, 'reg_lambda': 0.03403919993086514, 'reg_alpha': 0.9263640837061858, 'feature_fraction': 0.9880709893889348, 'bagging_fraction': 0.9006333530284398, 'bagging_freq': 2, 'num_leaves': 260, 'min_child_samples': 84}. Best is trial 11 with value: -0.9272119157106629.\u001b[0m\n"
     ]
    },
    {
     "name": "stdout",
     "output_type": "stream",
     "text": [
      "Early stopping, best iteration is:\n",
      "[45]\ttraining's l1: 1.01334\tvalid_1's l1: 0.930657\n",
      "[LightGBM] [Warning] feature_fraction is set=0.8836954915611248, colsample_bytree=0.6 will be ignored. Current value: feature_fraction=0.8836954915611248\n",
      "[LightGBM] [Warning] bagging_fraction is set=0.896853536224938, subsample=0.8 will be ignored. Current value: bagging_fraction=0.896853536224938\n",
      "[LightGBM] [Warning] bagging_freq is set=5, subsample_freq=0 will be ignored. Current value: bagging_freq=5\n",
      "Training until validation scores don't improve for 100 rounds\n",
      "[100]\ttraining's l1: 0.987228\tvalid_1's l1: 0.935501\n"
     ]
    },
    {
     "name": "stderr",
     "output_type": "stream",
     "text": [
      "\u001b[32m[I 2021-07-26 14:48:14,485]\u001b[0m Trial 20 finished with value: -0.9299651844323235 and parameters: {'max_depth': 18, 'min_child_weight': 5, 'subsample': 0.8, 'colsample_bytree': 0.6, 'reg_lambda': 0.005786494903161493, 'reg_alpha': 15.65093378129062, 'feature_fraction': 0.8836954915611248, 'bagging_fraction': 0.896853536224938, 'bagging_freq': 5, 'num_leaves': 659, 'min_child_samples': 20}. Best is trial 11 with value: -0.9272119157106629.\u001b[0m\n"
     ]
    },
    {
     "name": "stdout",
     "output_type": "stream",
     "text": [
      "Early stopping, best iteration is:\n",
      "[44]\ttraining's l1: 0.998902\tvalid_1's l1: 0.929986\n",
      "[LightGBM] [Warning] feature_fraction is set=0.6536454917140005, colsample_bytree=0.7 will be ignored. Current value: feature_fraction=0.6536454917140005\n",
      "[LightGBM] [Warning] bagging_fraction is set=0.9962331641085665, subsample=0.9 will be ignored. Current value: bagging_fraction=0.9962331641085665\n",
      "[LightGBM] [Warning] bagging_freq is set=12, subsample_freq=0 will be ignored. Current value: bagging_freq=12\n",
      "Training until validation scores don't improve for 100 rounds\n",
      "[100]\ttraining's l1: 0.9898\tvalid_1's l1: 0.931492\n"
     ]
    },
    {
     "name": "stderr",
     "output_type": "stream",
     "text": [
      "\u001b[32m[I 2021-07-26 14:48:25,506]\u001b[0m Trial 21 finished with value: -0.9283877952153046 and parameters: {'max_depth': 12, 'min_child_weight': 10, 'subsample': 0.9, 'colsample_bytree': 0.7, 'reg_lambda': 2.1165748266667794, 'reg_alpha': 0.6723272625256164, 'feature_fraction': 0.6536454917140005, 'bagging_fraction': 0.9962331641085665, 'bagging_freq': 12, 'num_leaves': 659, 'min_child_samples': 74}. Best is trial 11 with value: -0.9272119157106629.\u001b[0m\n"
     ]
    },
    {
     "name": "stdout",
     "output_type": "stream",
     "text": [
      "Early stopping, best iteration is:\n",
      "[54]\ttraining's l1: 0.997245\tvalid_1's l1: 0.928395\n",
      "[LightGBM] [Warning] feature_fraction is set=0.6956354591557468, colsample_bytree=0.7 will be ignored. Current value: feature_fraction=0.6956354591557468\n",
      "[LightGBM] [Warning] bagging_fraction is set=0.9847929968161692, subsample=0.9 will be ignored. Current value: bagging_fraction=0.9847929968161692\n",
      "[LightGBM] [Warning] bagging_freq is set=9, subsample_freq=0 will be ignored. Current value: bagging_freq=9\n",
      "Training until validation scores don't improve for 100 rounds\n",
      "[100]\ttraining's l1: 0.997712\tvalid_1's l1: 0.930566\n"
     ]
    },
    {
     "name": "stderr",
     "output_type": "stream",
     "text": [
      "\u001b[32m[I 2021-07-26 14:48:34,581]\u001b[0m Trial 22 finished with value: -0.9282955549561067 and parameters: {'max_depth': 12, 'min_child_weight': 11, 'subsample': 0.9, 'colsample_bytree': 0.7, 'reg_lambda': 2.890802323472564, 'reg_alpha': 0.772064792434298, 'feature_fraction': 0.6956354591557468, 'bagging_fraction': 0.9847929968161692, 'bagging_freq': 9, 'num_leaves': 415, 'min_child_samples': 77}. Best is trial 11 with value: -0.9272119157106629.\u001b[0m\n"
     ]
    },
    {
     "name": "stdout",
     "output_type": "stream",
     "text": [
      "Early stopping, best iteration is:\n",
      "[33]\ttraining's l1: 1.01098\tvalid_1's l1: 0.928296\n",
      "[LightGBM] [Warning] feature_fraction is set=0.7961455045233223, colsample_bytree=0.8 will be ignored. Current value: feature_fraction=0.7961455045233223\n",
      "[LightGBM] [Warning] bagging_fraction is set=0.9845983317082773, subsample=0.9 will be ignored. Current value: bagging_fraction=0.9845983317082773\n",
      "[LightGBM] [Warning] bagging_freq is set=9, subsample_freq=0 will be ignored. Current value: bagging_freq=9\n",
      "Training until validation scores don't improve for 100 rounds\n",
      "[100]\ttraining's l1: 1.0172\tvalid_1's l1: 0.933639\n"
     ]
    },
    {
     "name": "stderr",
     "output_type": "stream",
     "text": [
      "\u001b[32m[I 2021-07-26 14:48:42,660]\u001b[0m Trial 23 finished with value: -0.9331348331025519 and parameters: {'max_depth': 14, 'min_child_weight': 11, 'subsample': 0.9, 'colsample_bytree': 0.8, 'reg_lambda': 0.3216635857888019, 'reg_alpha': 4.061921328606027, 'feature_fraction': 0.7961455045233223, 'bagging_fraction': 0.9845983317082773, 'bagging_freq': 9, 'num_leaves': 165, 'min_child_samples': 99}. Best is trial 11 with value: -0.9272119157106629.\u001b[0m\n"
     ]
    },
    {
     "name": "stdout",
     "output_type": "stream",
     "text": [
      "Early stopping, best iteration is:\n",
      "[51]\ttraining's l1: 1.0195\tvalid_1's l1: 0.933136\n",
      "[LightGBM] [Warning] feature_fraction is set=0.7189758779291346, colsample_bytree=0.7 will be ignored. Current value: feature_fraction=0.7189758779291346\n",
      "[LightGBM] [Warning] bagging_fraction is set=0.889794716545601, subsample=0.8 will be ignored. Current value: bagging_fraction=0.889794716545601\n",
      "[LightGBM] [Warning] bagging_freq is set=7, subsample_freq=0 will be ignored. Current value: bagging_freq=7\n",
      "Training until validation scores don't improve for 100 rounds\n",
      "[100]\ttraining's l1: 0.998269\tvalid_1's l1: 0.931863\n"
     ]
    },
    {
     "name": "stderr",
     "output_type": "stream",
     "text": [
      "\u001b[32m[I 2021-07-26 14:48:52,363]\u001b[0m Trial 24 finished with value: -0.9283904358776796 and parameters: {'max_depth': 11, 'min_child_weight': 7, 'subsample': 0.8, 'colsample_bytree': 0.7, 'reg_lambda': 60.211312398932535, 'reg_alpha': 0.01594448888109995, 'feature_fraction': 0.7189758779291346, 'bagging_fraction': 0.889794716545601, 'bagging_freq': 7, 'num_leaves': 408, 'min_child_samples': 89}. Best is trial 11 with value: -0.9272119157106629.\u001b[0m\n"
     ]
    },
    {
     "name": "stdout",
     "output_type": "stream",
     "text": [
      "Early stopping, best iteration is:\n",
      "[61]\ttraining's l1: 1.00416\tvalid_1's l1: 0.928395\n",
      "[LightGBM] [Warning] feature_fraction is set=0.8232917122597674, colsample_bytree=0.6 will be ignored. Current value: feature_fraction=0.8232917122597674\n",
      "[LightGBM] [Warning] bagging_fraction is set=0.24181276296894028, subsample=0.9 will be ignored. Current value: bagging_fraction=0.24181276296894028\n",
      "[LightGBM] [Warning] bagging_freq is set=8, subsample_freq=0 will be ignored. Current value: bagging_freq=8\n",
      "Training until validation scores don't improve for 100 rounds\n",
      "[100]\ttraining's l1: 1.01992\tvalid_1's l1: 0.934576\n",
      "[200]\ttraining's l1: 1.01262\tvalid_1's l1: 0.933392\n"
     ]
    },
    {
     "name": "stderr",
     "output_type": "stream",
     "text": [
      "\u001b[32m[I 2021-07-26 14:48:57,889]\u001b[0m Trial 25 finished with value: -0.9329178371193789 and parameters: {'max_depth': 7, 'min_child_weight': 17, 'subsample': 0.9, 'colsample_bytree': 0.6, 'reg_lambda': 10.384491769618746, 'reg_alpha': 0.5031034051146794, 'feature_fraction': 0.8232917122597674, 'bagging_fraction': 0.24181276296894028, 'bagging_freq': 8, 'num_leaves': 431, 'min_child_samples': 79}. Best is trial 11 with value: -0.9272119157106629.\u001b[0m\n"
     ]
    },
    {
     "name": "stdout",
     "output_type": "stream",
     "text": [
      "Early stopping, best iteration is:\n",
      "[177]\ttraining's l1: 1.01501\tvalid_1's l1: 0.932933\n",
      "[LightGBM] [Warning] feature_fraction is set=0.9191741759884211, colsample_bytree=0.7 will be ignored. Current value: feature_fraction=0.9191741759884211\n",
      "[LightGBM] [Warning] bagging_fraction is set=0.7348281770917078, subsample=0.8 will be ignored. Current value: bagging_fraction=0.7348281770917078\n",
      "[LightGBM] [Warning] bagging_freq is set=1, subsample_freq=0 will be ignored. Current value: bagging_freq=1\n",
      "Training until validation scores don't improve for 100 rounds\n",
      "[100]\ttraining's l1: 1.01023\tvalid_1's l1: 0.934126\n"
     ]
    },
    {
     "name": "stderr",
     "output_type": "stream",
     "text": [
      "\u001b[32m[I 2021-07-26 14:49:06,870]\u001b[0m Trial 26 finished with value: -0.9338195011581104 and parameters: {'max_depth': 18, 'min_child_weight': 13, 'subsample': 0.8, 'colsample_bytree': 0.7, 'reg_lambda': 3.404453065434979, 'reg_alpha': 3.644566068890383, 'feature_fraction': 0.9191741759884211, 'bagging_fraction': 0.7348281770917078, 'bagging_freq': 1, 'num_leaves': 238, 'min_child_samples': 64}. Best is trial 11 with value: -0.9272119157106629.\u001b[0m\n"
     ]
    },
    {
     "name": "stdout",
     "output_type": "stream",
     "text": [
      "Early stopping, best iteration is:\n",
      "[86]\ttraining's l1: 1.0104\tvalid_1's l1: 0.933827\n",
      "[LightGBM] [Warning] feature_fraction is set=0.7129480589325641, colsample_bytree=0.8 will be ignored. Current value: feature_fraction=0.7129480589325641\n",
      "[LightGBM] [Warning] bagging_fraction is set=0.3162397382009791, subsample=0.9 will be ignored. Current value: bagging_fraction=0.3162397382009791\n",
      "[LightGBM] [Warning] bagging_freq is set=5, subsample_freq=0 will be ignored. Current value: bagging_freq=5\n",
      "Training until validation scores don't improve for 100 rounds\n",
      "[100]\ttraining's l1: 0.995326\tvalid_1's l1: 0.936454\n"
     ]
    },
    {
     "name": "stderr",
     "output_type": "stream",
     "text": [
      "\u001b[32m[I 2021-07-26 14:49:14,213]\u001b[0m Trial 27 finished with value: -0.9290790972923453 and parameters: {'max_depth': 12, 'min_child_weight': 11, 'subsample': 0.9, 'colsample_bytree': 0.8, 'reg_lambda': 0.0760944896279643, 'reg_alpha': 0.0014928226921391641, 'feature_fraction': 0.7129480589325641, 'bagging_fraction': 0.3162397382009791, 'bagging_freq': 5, 'num_leaves': 574, 'min_child_samples': 39}. Best is trial 11 with value: -0.9272119157106629.\u001b[0m\n"
     ]
    },
    {
     "name": "stdout",
     "output_type": "stream",
     "text": [
      "Early stopping, best iteration is:\n",
      "[54]\ttraining's l1: 1.00346\tvalid_1's l1: 0.929097\n",
      "[LightGBM] [Warning] feature_fraction is set=0.9482956174281851, colsample_bytree=0.6 will be ignored. Current value: feature_fraction=0.9482956174281851\n",
      "[LightGBM] [Warning] bagging_fraction is set=0.9448594500449604, subsample=0.8 will be ignored. Current value: bagging_fraction=0.9448594500449604\n",
      "[LightGBM] [Warning] bagging_freq is set=3, subsample_freq=0 will be ignored. Current value: bagging_freq=3\n",
      "Training until validation scores don't improve for 100 rounds\n",
      "[100]\ttraining's l1: 1.01198\tvalid_1's l1: 0.931274\n"
     ]
    },
    {
     "name": "stderr",
     "output_type": "stream",
     "text": [
      "\u001b[32m[I 2021-07-26 14:49:25,045]\u001b[0m Trial 28 finished with value: -0.9308043919416622 and parameters: {'max_depth': 8, 'min_child_weight': 3, 'subsample': 0.8, 'colsample_bytree': 0.6, 'reg_lambda': 0.27590593988406814, 'reg_alpha': 1.6941053162931374, 'feature_fraction': 0.9482956174281851, 'bagging_fraction': 0.9448594500449604, 'bagging_freq': 3, 'num_leaves': 426, 'min_child_samples': 92}. Best is trial 11 with value: -0.9272119157106629.\u001b[0m\n"
     ]
    },
    {
     "name": "stdout",
     "output_type": "stream",
     "text": [
      "Early stopping, best iteration is:\n",
      "[91]\ttraining's l1: 1.01298\tvalid_1's l1: 0.930812\n",
      "[LightGBM] [Warning] feature_fraction is set=0.8401365115851128, colsample_bytree=0.7 will be ignored. Current value: feature_fraction=0.8401365115851128\n",
      "[LightGBM] [Warning] bagging_fraction is set=0.880292458400715, subsample=0.9 will be ignored. Current value: bagging_fraction=0.880292458400715\n",
      "[LightGBM] [Warning] bagging_freq is set=5, subsample_freq=0 will be ignored. Current value: bagging_freq=5\n",
      "Training until validation scores don't improve for 100 rounds\n",
      "[100]\ttraining's l1: 1.00408\tvalid_1's l1: 0.935788\n"
     ]
    },
    {
     "name": "stderr",
     "output_type": "stream",
     "text": [
      "\u001b[32m[I 2021-07-26 14:49:33,385]\u001b[0m Trial 29 finished with value: -0.9341115329547058 and parameters: {'max_depth': 10, 'min_child_weight': 9, 'subsample': 0.9, 'colsample_bytree': 0.7, 'reg_lambda': 6.230983903810764, 'reg_alpha': 55.34912116754216, 'feature_fraction': 0.8401365115851128, 'bagging_fraction': 0.880292458400715, 'bagging_freq': 5, 'num_leaves': 585, 'min_child_samples': 55}. Best is trial 11 with value: -0.9272119157106629.\u001b[0m\n"
     ]
    },
    {
     "name": "stdout",
     "output_type": "stream",
     "text": [
      "Early stopping, best iteration is:\n",
      "[42]\ttraining's l1: 1.01681\tvalid_1's l1: 0.934113\n",
      "[LightGBM] [Warning] feature_fraction is set=0.5514367585319608, colsample_bytree=0.6 will be ignored. Current value: feature_fraction=0.5514367585319608\n",
      "[LightGBM] [Warning] bagging_fraction is set=0.9968491722077044, subsample=0.8 will be ignored. Current value: bagging_fraction=0.9968491722077044\n",
      "[LightGBM] [Warning] bagging_freq is set=16, subsample_freq=0 will be ignored. Current value: bagging_freq=16\n",
      "Training until validation scores don't improve for 100 rounds\n",
      "[100]\ttraining's l1: 0.986423\tvalid_1's l1: 0.944974\n"
     ]
    },
    {
     "name": "stderr",
     "output_type": "stream",
     "text": [
      "\u001b[32m[I 2021-07-26 14:49:46,764]\u001b[0m Trial 30 finished with value: -0.9361430473722889 and parameters: {'max_depth': 14, 'min_child_weight': 7, 'subsample': 0.8, 'colsample_bytree': 0.6, 'reg_lambda': 944.5722455873413, 'reg_alpha': 0.022203225421175046, 'feature_fraction': 0.5514367585319608, 'bagging_fraction': 0.9968491722077044, 'bagging_freq': 16, 'num_leaves': 879, 'min_child_samples': 62}. Best is trial 11 with value: -0.9272119157106629.\u001b[0m\n"
     ]
    },
    {
     "name": "stdout",
     "output_type": "stream",
     "text": [
      "Early stopping, best iteration is:\n",
      "[37]\ttraining's l1: 1.00858\tvalid_1's l1: 0.936151\n",
      "[LightGBM] [Warning] feature_fraction is set=0.6482356281489675, colsample_bytree=0.7 will be ignored. Current value: feature_fraction=0.6482356281489675\n",
      "[LightGBM] [Warning] bagging_fraction is set=0.9966131976653211, subsample=0.9 will be ignored. Current value: bagging_fraction=0.9966131976653211\n",
      "[LightGBM] [Warning] bagging_freq is set=13, subsample_freq=0 will be ignored. Current value: bagging_freq=13\n",
      "Training until validation scores don't improve for 100 rounds\n",
      "[100]\ttraining's l1: 0.98701\tvalid_1's l1: 0.935479\n"
     ]
    },
    {
     "name": "stderr",
     "output_type": "stream",
     "text": [
      "\u001b[32m[I 2021-07-26 14:49:57,010]\u001b[0m Trial 31 finished with value: -0.9290002209813074 and parameters: {'max_depth': 12, 'min_child_weight': 10, 'subsample': 0.9, 'colsample_bytree': 0.7, 'reg_lambda': 2.3789692664134874, 'reg_alpha': 0.6820355118554692, 'feature_fraction': 0.6482356281489675, 'bagging_fraction': 0.9966131976653211, 'bagging_freq': 13, 'num_leaves': 724, 'min_child_samples': 77}. Best is trial 11 with value: -0.9272119157106629.\u001b[0m\n"
     ]
    },
    {
     "name": "stdout",
     "output_type": "stream",
     "text": [
      "Early stopping, best iteration is:\n",
      "[40]\ttraining's l1: 1.00069\tvalid_1's l1: 0.929001\n",
      "[LightGBM] [Warning] feature_fraction is set=0.656581469747282, colsample_bytree=0.7 will be ignored. Current value: feature_fraction=0.656581469747282\n",
      "[LightGBM] [Warning] bagging_fraction is set=0.9412622117076103, subsample=0.9 will be ignored. Current value: bagging_fraction=0.9412622117076103\n",
      "[LightGBM] [Warning] bagging_freq is set=12, subsample_freq=0 will be ignored. Current value: bagging_freq=12\n",
      "Training until validation scores don't improve for 100 rounds\n",
      "[100]\ttraining's l1: 0.990991\tvalid_1's l1: 0.931699\n"
     ]
    },
    {
     "name": "stderr",
     "output_type": "stream",
     "text": [
      "\u001b[32m[I 2021-07-26 14:50:06,498]\u001b[0m Trial 32 finished with value: -0.927127187328429 and parameters: {'max_depth': 12, 'min_child_weight': 10, 'subsample': 0.9, 'colsample_bytree': 0.7, 'reg_lambda': 1.3978938946860353, 'reg_alpha': 1.182101034904736, 'feature_fraction': 0.656581469747282, 'bagging_fraction': 0.9412622117076103, 'bagging_freq': 12, 'num_leaves': 598, 'min_child_samples': 73}. Best is trial 32 with value: -0.927127187328429.\u001b[0m\n"
     ]
    },
    {
     "name": "stdout",
     "output_type": "stream",
     "text": [
      "Early stopping, best iteration is:\n",
      "[37]\ttraining's l1: 1.00337\tvalid_1's l1: 0.927129\n",
      "[LightGBM] [Warning] feature_fraction is set=0.7543202550216371, colsample_bytree=0.8 will be ignored. Current value: feature_fraction=0.7543202550216371\n",
      "[LightGBM] [Warning] bagging_fraction is set=0.9464274553149031, subsample=0.9 will be ignored. Current value: bagging_fraction=0.9464274553149031\n",
      "[LightGBM] [Warning] bagging_freq is set=8, subsample_freq=0 will be ignored. Current value: bagging_freq=8\n",
      "Training until validation scores don't improve for 100 rounds\n",
      "[100]\ttraining's l1: 1.00266\tvalid_1's l1: 0.931274\n"
     ]
    },
    {
     "name": "stderr",
     "output_type": "stream",
     "text": [
      "\u001b[32m[I 2021-07-26 14:50:16,050]\u001b[0m Trial 33 finished with value: -0.9300210167024283 and parameters: {'max_depth': 10, 'min_child_weight': 12, 'subsample': 0.9, 'colsample_bytree': 0.8, 'reg_lambda': 1.1412634897817437, 'reg_alpha': 8.029631995709828, 'feature_fraction': 0.7543202550216371, 'bagging_fraction': 0.9464274553149031, 'bagging_freq': 8, 'num_leaves': 601, 'min_child_samples': 68}. Best is trial 32 with value: -0.927127187328429.\u001b[0m\n"
     ]
    },
    {
     "name": "stdout",
     "output_type": "stream",
     "text": [
      "Early stopping, best iteration is:\n",
      "[64]\ttraining's l1: 1.00531\tvalid_1's l1: 0.930027\n",
      "[LightGBM] [Warning] feature_fraction is set=0.6791113861857406, colsample_bytree=0.7 will be ignored. Current value: feature_fraction=0.6791113861857406\n",
      "[LightGBM] [Warning] bagging_fraction is set=0.8599120724027278, subsample=0.9 will be ignored. Current value: bagging_fraction=0.8599120724027278\n",
      "[LightGBM] [Warning] bagging_freq is set=20, subsample_freq=0 will be ignored. Current value: bagging_freq=20\n",
      "Training until validation scores don't improve for 100 rounds\n",
      "[100]\ttraining's l1: 0.994783\tvalid_1's l1: 0.932915\n"
     ]
    },
    {
     "name": "stderr",
     "output_type": "stream",
     "text": [
      "\u001b[32m[I 2021-07-26 14:50:25,190]\u001b[0m Trial 34 finished with value: -0.9286033848670152 and parameters: {'max_depth': 14, 'min_child_weight': 8, 'subsample': 0.9, 'colsample_bytree': 0.7, 'reg_lambda': 13.05053551820517, 'reg_alpha': 1.40895412987018, 'feature_fraction': 0.6791113861857406, 'bagging_fraction': 0.8599120724027278, 'bagging_freq': 20, 'num_leaves': 467, 'min_child_samples': 84}. Best is trial 32 with value: -0.927127187328429.\u001b[0m\n"
     ]
    },
    {
     "name": "stdout",
     "output_type": "stream",
     "text": [
      "Early stopping, best iteration is:\n",
      "[41]\ttraining's l1: 1.00644\tvalid_1's l1: 0.928606\n",
      "[LightGBM] [Warning] feature_fraction is set=0.6011971269012832, colsample_bytree=0.7 will be ignored. Current value: feature_fraction=0.6011971269012832\n",
      "[LightGBM] [Warning] bagging_fraction is set=0.7745433854521638, subsample=0.8 will be ignored. Current value: bagging_fraction=0.7745433854521638\n",
      "[LightGBM] [Warning] bagging_freq is set=16, subsample_freq=0 will be ignored. Current value: bagging_freq=16\n",
      "Training until validation scores don't improve for 100 rounds\n",
      "[100]\ttraining's l1: 0.998522\tvalid_1's l1: 0.932033\n"
     ]
    },
    {
     "name": "stderr",
     "output_type": "stream",
     "text": [
      "\u001b[32m[I 2021-07-26 14:50:34,960]\u001b[0m Trial 35 finished with value: -0.9297951590471253 and parameters: {'max_depth': 11, 'min_child_weight': 14, 'subsample': 0.8, 'colsample_bytree': 0.7, 'reg_lambda': 0.3501808263871941, 'reg_alpha': 0.25689048919487545, 'feature_fraction': 0.6011971269012832, 'bagging_fraction': 0.7745433854521638, 'bagging_freq': 16, 'num_leaves': 356, 'min_child_samples': 51}. Best is trial 32 with value: -0.927127187328429.\u001b[0m\n"
     ]
    },
    {
     "name": "stdout",
     "output_type": "stream",
     "text": [
      "Early stopping, best iteration is:\n",
      "[45]\ttraining's l1: 1.00647\tvalid_1's l1: 0.929798\n",
      "[LightGBM] [Warning] feature_fraction is set=0.5059517795706538, colsample_bytree=0.6 will be ignored. Current value: feature_fraction=0.5059517795706538\n",
      "[LightGBM] [Warning] bagging_fraction is set=0.9255274439866887, subsample=0.8 will be ignored. Current value: bagging_fraction=0.9255274439866887\n",
      "[LightGBM] [Warning] bagging_freq is set=6, subsample_freq=0 will be ignored. Current value: bagging_freq=6\n",
      "Training until validation scores don't improve for 100 rounds\n",
      "[100]\ttraining's l1: 1.03304\tvalid_1's l1: 0.938771\n",
      "[200]\ttraining's l1: 1.02797\tvalid_1's l1: 0.93507\n",
      "[300]\ttraining's l1: 1.02633\tvalid_1's l1: 0.933853\n",
      "[400]\ttraining's l1: 1.0229\tvalid_1's l1: 0.932272\n",
      "[500]\ttraining's l1: 1.02185\tvalid_1's l1: 0.931461\n",
      "[600]\ttraining's l1: 1.02118\tvalid_1's l1: 0.930989\n"
     ]
    },
    {
     "name": "stderr",
     "output_type": "stream",
     "text": [
      "\u001b[32m[I 2021-07-26 14:50:58,039]\u001b[0m Trial 36 finished with value: -0.9309302137033975 and parameters: {'max_depth': 4, 'min_child_weight': 10, 'subsample': 0.8, 'colsample_bytree': 0.6, 'reg_lambda': 4.712179411875559, 'reg_alpha': 0.07163697554533564, 'feature_fraction': 0.5059517795706538, 'bagging_fraction': 0.9255274439866887, 'bagging_freq': 6, 'num_leaves': 538, 'min_child_samples': 87}. Best is trial 32 with value: -0.927127187328429.\u001b[0m\n"
     ]
    },
    {
     "name": "stdout",
     "output_type": "stream",
     "text": [
      "Early stopping, best iteration is:\n",
      "[546]\ttraining's l1: 1.02121\tvalid_1's l1: 0.93097\n",
      "[LightGBM] [Warning] feature_fraction is set=0.7737316610076733, colsample_bytree=0.5 will be ignored. Current value: feature_fraction=0.7737316610076733\n",
      "[LightGBM] [Warning] bagging_fraction is set=0.8409110045203827, subsample=0.9 will be ignored. Current value: bagging_fraction=0.8409110045203827\n",
      "[LightGBM] [Warning] bagging_freq is set=9, subsample_freq=0 will be ignored. Current value: bagging_freq=9\n",
      "Training until validation scores don't improve for 100 rounds\n",
      "[100]\ttraining's l1: 1.02022\tvalid_1's l1: 0.932115\n",
      "[200]\ttraining's l1: 1.01599\tvalid_1's l1: 0.932149\n"
     ]
    },
    {
     "name": "stderr",
     "output_type": "stream",
     "text": [
      "\u001b[32m[I 2021-07-26 14:51:07,447]\u001b[0m Trial 37 finished with value: -0.9314189696510006 and parameters: {'max_depth': 7, 'min_child_weight': 16, 'subsample': 0.9, 'colsample_bytree': 0.5, 'reg_lambda': 1.5217630468005625, 'reg_alpha': 50.477347437679605, 'feature_fraction': 0.7737316610076733, 'bagging_fraction': 0.8409110045203827, 'bagging_freq': 9, 'num_leaves': 832, 'min_child_samples': 94}. Best is trial 32 with value: -0.927127187328429.\u001b[0m\n"
     ]
    },
    {
     "name": "stdout",
     "output_type": "stream",
     "text": [
      "Early stopping, best iteration is:\n",
      "[156]\ttraining's l1: 1.01749\tvalid_1's l1: 0.931426\n",
      "[LightGBM] [Warning] feature_fraction is set=0.68452639992803, colsample_bytree=0.8 will be ignored. Current value: feature_fraction=0.68452639992803\n",
      "[LightGBM] [Warning] bagging_fraction is set=0.9651231857842555, subsample=0.7 will be ignored. Current value: bagging_fraction=0.9651231857842555\n",
      "[LightGBM] [Warning] bagging_freq is set=14, subsample_freq=0 will be ignored. Current value: bagging_freq=14\n",
      "Training until validation scores don't improve for 100 rounds\n",
      "[100]\ttraining's l1: 0.975593\tvalid_1's l1: 0.940829\n"
     ]
    },
    {
     "name": "stderr",
     "output_type": "stream",
     "text": [
      "\u001b[32m[I 2021-07-26 14:51:19,110]\u001b[0m Trial 38 finished with value: -0.9308800912855516 and parameters: {'max_depth': 16, 'min_child_weight': 13, 'subsample': 0.7, 'colsample_bytree': 0.8, 'reg_lambda': 0.5900618538848694, 'reg_alpha': 0.3965250528531269, 'feature_fraction': 0.68452639992803, 'bagging_fraction': 0.9651231857842555, 'bagging_freq': 14, 'num_leaves': 928, 'min_child_samples': 74}. Best is trial 32 with value: -0.927127187328429.\u001b[0m\n"
     ]
    },
    {
     "name": "stdout",
     "output_type": "stream",
     "text": [
      "Early stopping, best iteration is:\n",
      "[23]\ttraining's l1: 1.00639\tvalid_1's l1: 0.930882\n",
      "[LightGBM] [Warning] feature_fraction is set=0.6150569568008393, colsample_bytree=0.7 will be ignored. Current value: feature_fraction=0.6150569568008393\n",
      "[LightGBM] [Warning] bagging_fraction is set=0.7344298132342226, subsample=0.8 will be ignored. Current value: bagging_fraction=0.7344298132342226\n",
      "[LightGBM] [Warning] bagging_freq is set=11, subsample_freq=0 will be ignored. Current value: bagging_freq=11\n",
      "Training until validation scores don't improve for 100 rounds\n",
      "[100]\ttraining's l1: 1.00944\tvalid_1's l1: 0.930375\n",
      "[200]\ttraining's l1: 1.00284\tvalid_1's l1: 0.931757\n"
     ]
    },
    {
     "name": "stderr",
     "output_type": "stream",
     "text": [
      "\u001b[32m[I 2021-07-26 14:51:27,803]\u001b[0m Trial 39 finished with value: -0.9300724785502075 and parameters: {'max_depth': 8, 'min_child_weight': 9, 'subsample': 0.8, 'colsample_bytree': 0.7, 'reg_lambda': 0.10357493149224574, 'reg_alpha': 0.14650672645261095, 'feature_fraction': 0.6150569568008393, 'bagging_fraction': 0.7344298132342226, 'bagging_freq': 11, 'num_leaves': 340, 'min_child_samples': 61}. Best is trial 32 with value: -0.927127187328429.\u001b[0m\n"
     ]
    },
    {
     "name": "stdout",
     "output_type": "stream",
     "text": [
      "Early stopping, best iteration is:\n",
      "[134]\ttraining's l1: 1.00653\tvalid_1's l1: 0.930085\n",
      "[LightGBM] [Warning] feature_fraction is set=0.7320220499242467, colsample_bytree=0.5 will be ignored. Current value: feature_fraction=0.7320220499242467\n",
      "[LightGBM] [Warning] bagging_fraction is set=0.5417276910477968, subsample=0.9 will be ignored. Current value: bagging_fraction=0.5417276910477968\n",
      "[LightGBM] [Warning] bagging_freq is set=3, subsample_freq=0 will be ignored. Current value: bagging_freq=3\n",
      "Training until validation scores don't improve for 100 rounds\n",
      "[100]\ttraining's l1: 0.988263\tvalid_1's l1: 0.937771\n"
     ]
    },
    {
     "name": "stderr",
     "output_type": "stream",
     "text": [
      "\u001b[32m[I 2021-07-26 14:51:36,614]\u001b[0m Trial 40 finished with value: -0.9292951671204 and parameters: {'max_depth': 13, 'min_child_weight': 6, 'subsample': 0.9, 'colsample_bytree': 0.5, 'reg_lambda': 23.900729146325624, 'reg_alpha': 1.9529134893776172, 'feature_fraction': 0.7320220499242467, 'bagging_fraction': 0.5417276910477968, 'bagging_freq': 3, 'num_leaves': 715, 'min_child_samples': 68}. Best is trial 32 with value: -0.927127187328429.\u001b[0m\n"
     ]
    },
    {
     "name": "stdout",
     "output_type": "stream",
     "text": [
      "Early stopping, best iteration is:\n",
      "[35]\ttraining's l1: 1.00357\tvalid_1's l1: 0.929299\n",
      "[LightGBM] [Warning] feature_fraction is set=0.6534968470189668, colsample_bytree=0.7 will be ignored. Current value: feature_fraction=0.6534968470189668\n",
      "[LightGBM] [Warning] bagging_fraction is set=0.9881312994997111, subsample=0.9 will be ignored. Current value: bagging_fraction=0.9881312994997111\n",
      "[LightGBM] [Warning] bagging_freq is set=12, subsample_freq=0 will be ignored. Current value: bagging_freq=12\n",
      "Training until validation scores don't improve for 100 rounds\n",
      "[100]\ttraining's l1: 0.992733\tvalid_1's l1: 0.933928\n"
     ]
    },
    {
     "name": "stderr",
     "output_type": "stream",
     "text": [
      "\u001b[32m[I 2021-07-26 14:51:46,570]\u001b[0m Trial 41 finished with value: -0.930872131672033 and parameters: {'max_depth': 12, 'min_child_weight': 10, 'subsample': 0.9, 'colsample_bytree': 0.7, 'reg_lambda': 1.6476620112412723, 'reg_alpha': 0.7808485913286605, 'feature_fraction': 0.6534968470189668, 'bagging_fraction': 0.9881312994997111, 'bagging_freq': 12, 'num_leaves': 503, 'min_child_samples': 74}. Best is trial 32 with value: -0.927127187328429.\u001b[0m\n"
     ]
    },
    {
     "name": "stdout",
     "output_type": "stream",
     "text": [
      "Early stopping, best iteration is:\n",
      "[49]\ttraining's l1: 1.00294\tvalid_1's l1: 0.930874\n",
      "[LightGBM] [Warning] feature_fraction is set=0.5499474230143733, colsample_bytree=0.7 will be ignored. Current value: feature_fraction=0.5499474230143733\n",
      "[LightGBM] [Warning] bagging_fraction is set=0.9211046843451554, subsample=0.9 will be ignored. Current value: bagging_fraction=0.9211046843451554\n",
      "[LightGBM] [Warning] bagging_freq is set=13, subsample_freq=0 will be ignored. Current value: bagging_freq=13\n",
      "Training until validation scores don't improve for 100 rounds\n",
      "[100]\ttraining's l1: 0.996191\tvalid_1's l1: 0.93006\n"
     ]
    },
    {
     "name": "stderr",
     "output_type": "stream",
     "text": [
      "\u001b[32m[I 2021-07-26 14:51:57,464]\u001b[0m Trial 42 finished with value: -0.9282869050681144 and parameters: {'max_depth': 10, 'min_child_weight': 8, 'subsample': 0.9, 'colsample_bytree': 0.7, 'reg_lambda': 0.7284212029470494, 'reg_alpha': 0.35963655719969195, 'feature_fraction': 0.5499474230143733, 'bagging_fraction': 0.9211046843451554, 'bagging_freq': 13, 'num_leaves': 631, 'min_child_samples': 78}. Best is trial 32 with value: -0.927127187328429.\u001b[0m\n"
     ]
    },
    {
     "name": "stdout",
     "output_type": "stream",
     "text": [
      "Early stopping, best iteration is:\n",
      "[61]\ttraining's l1: 1.00276\tvalid_1's l1: 0.928288\n",
      "[LightGBM] [Warning] feature_fraction is set=0.4657991474232673, colsample_bytree=0.7 will be ignored. Current value: feature_fraction=0.4657991474232673\n",
      "[LightGBM] [Warning] bagging_fraction is set=0.9268310251745384, subsample=0.9 will be ignored. Current value: bagging_fraction=0.9268310251745384\n",
      "[LightGBM] [Warning] bagging_freq is set=15, subsample_freq=0 will be ignored. Current value: bagging_freq=15\n",
      "Training until validation scores don't improve for 100 rounds\n",
      "[100]\ttraining's l1: 0.991922\tvalid_1's l1: 0.929954\n"
     ]
    },
    {
     "name": "stderr",
     "output_type": "stream",
     "text": [
      "\u001b[32m[I 2021-07-26 14:52:07,613]\u001b[0m Trial 43 finished with value: -0.9271484459086576 and parameters: {'max_depth': 11, 'min_child_weight': 8, 'subsample': 0.9, 'colsample_bytree': 0.7, 'reg_lambda': 0.5743147108975535, 'reg_alpha': 0.40008142931079954, 'feature_fraction': 0.4657991474232673, 'bagging_fraction': 0.9268310251745384, 'bagging_freq': 15, 'num_leaves': 618, 'min_child_samples': 81}. Best is trial 32 with value: -0.927127187328429.\u001b[0m\n"
     ]
    },
    {
     "name": "stdout",
     "output_type": "stream",
     "text": [
      "Early stopping, best iteration is:\n",
      "[50]\ttraining's l1: 1.00058\tvalid_1's l1: 0.92715\n",
      "[LightGBM] [Warning] feature_fraction is set=0.32617482834902156, colsample_bytree=0.6 will be ignored. Current value: feature_fraction=0.32617482834902156\n",
      "[LightGBM] [Warning] bagging_fraction is set=0.911834056164231, subsample=0.9 will be ignored. Current value: bagging_fraction=0.911834056164231\n",
      "[LightGBM] [Warning] bagging_freq is set=15, subsample_freq=0 will be ignored. Current value: bagging_freq=15\n",
      "Training until validation scores don't improve for 100 rounds\n",
      "[100]\ttraining's l1: 0.994775\tvalid_1's l1: 0.930955\n"
     ]
    },
    {
     "name": "stderr",
     "output_type": "stream",
     "text": [
      "\u001b[32m[I 2021-07-26 14:52:15,149]\u001b[0m Trial 44 finished with value: -0.9299744500943015 and parameters: {'max_depth': 10, 'min_child_weight': 8, 'subsample': 0.9, 'colsample_bytree': 0.6, 'reg_lambda': 0.043761180468587145, 'reg_alpha': 0.3684511642120375, 'feature_fraction': 0.32617482834902156, 'bagging_fraction': 0.911834056164231, 'bagging_freq': 15, 'num_leaves': 613, 'min_child_samples': 83}. Best is trial 32 with value: -0.927127187328429.\u001b[0m\n"
     ]
    },
    {
     "name": "stdout",
     "output_type": "stream",
     "text": [
      "Early stopping, best iteration is:\n",
      "[33]\ttraining's l1: 1.00868\tvalid_1's l1: 0.929974\n",
      "[LightGBM] [Warning] feature_fraction is set=0.47451572482060067, colsample_bytree=0.7 will be ignored. Current value: feature_fraction=0.47451572482060067\n",
      "[LightGBM] [Warning] bagging_fraction is set=0.8094400925729845, subsample=0.9 will be ignored. Current value: bagging_fraction=0.8094400925729845\n",
      "[LightGBM] [Warning] bagging_freq is set=18, subsample_freq=0 will be ignored. Current value: bagging_freq=18\n",
      "Training until validation scores don't improve for 100 rounds\n",
      "[100]\ttraining's l1: 1.02702\tvalid_1's l1: 0.935489\n",
      "[200]\ttraining's l1: 1.02169\tvalid_1's l1: 0.931789\n"
     ]
    },
    {
     "name": "stderr",
     "output_type": "stream",
     "text": [
      "\u001b[32m[I 2021-07-26 14:52:24,690]\u001b[0m Trial 45 finished with value: -0.9317294178465934 and parameters: {'max_depth': 5, 'min_child_weight': 4, 'subsample': 0.9, 'colsample_bytree': 0.7, 'reg_lambda': 0.009382821576397924, 'reg_alpha': 0.11350983699980535, 'feature_fraction': 0.47451572482060067, 'bagging_fraction': 0.8094400925729845, 'bagging_freq': 18, 'num_leaves': 707, 'min_child_samples': 47}. Best is trial 32 with value: -0.927127187328429.\u001b[0m\n"
     ]
    },
    {
     "name": "stdout",
     "output_type": "stream",
     "text": [
      "Early stopping, best iteration is:\n",
      "[186]\ttraining's l1: 1.02173\tvalid_1's l1: 0.931741\n",
      "[LightGBM] [Warning] feature_fraction is set=0.5502925536000258, colsample_bytree=0.8 will be ignored. Current value: feature_fraction=0.5502925536000258\n",
      "[LightGBM] [Warning] bagging_fraction is set=0.8641663114243663, subsample=0.8 will be ignored. Current value: bagging_fraction=0.8641663114243663\n",
      "[LightGBM] [Warning] bagging_freq is set=14, subsample_freq=0 will be ignored. Current value: bagging_freq=14\n",
      "Training until validation scores don't improve for 100 rounds\n",
      "[100]\ttraining's l1: 1.00899\tvalid_1's l1: 0.929151\n",
      "[200]\ttraining's l1: 1.00546\tvalid_1's l1: 0.928802\n"
     ]
    },
    {
     "name": "stderr",
     "output_type": "stream",
     "text": [
      "\u001b[32m[I 2021-07-26 14:52:35,630]\u001b[0m Trial 46 finished with value: -0.9285928754985745 and parameters: {'max_depth': 8, 'min_child_weight': 6, 'subsample': 0.8, 'colsample_bytree': 0.8, 'reg_lambda': 0.0021542216756746126, 'reg_alpha': 0.05579282301404149, 'feature_fraction': 0.5502925536000258, 'bagging_fraction': 0.8641663114243663, 'bagging_freq': 14, 'num_leaves': 556, 'min_child_samples': 95}. Best is trial 32 with value: -0.927127187328429.\u001b[0m\n"
     ]
    },
    {
     "name": "stdout",
     "output_type": "stream",
     "text": [
      "Early stopping, best iteration is:\n",
      "[131]\ttraining's l1: 1.00667\tvalid_1's l1: 0.928597\n",
      "[LightGBM] [Warning] feature_fraction is set=0.4610323306364086, colsample_bytree=0.9 will be ignored. Current value: feature_fraction=0.4610323306364086\n",
      "[LightGBM] [Warning] bagging_fraction is set=0.9276728274258398, subsample=0.9 will be ignored. Current value: bagging_fraction=0.9276728274258398\n",
      "[LightGBM] [Warning] bagging_freq is set=15, subsample_freq=0 will be ignored. Current value: bagging_freq=15\n",
      "Training until validation scores don't improve for 100 rounds\n",
      "[100]\ttraining's l1: 1.00298\tvalid_1's l1: 0.927685\n",
      "[200]\ttraining's l1: 0.998603\tvalid_1's l1: 0.928241\n"
     ]
    },
    {
     "name": "stderr",
     "output_type": "stream",
     "text": [
      "\u001b[32m[I 2021-07-26 14:52:46,823]\u001b[0m Trial 47 finished with value: -0.9267090776137382 and parameters: {'max_depth': 9, 'min_child_weight': 8, 'subsample': 0.9, 'colsample_bytree': 0.9, 'reg_lambda': 0.16902771929834046, 'reg_alpha': 2.787020776038803, 'feature_fraction': 0.4610323306364086, 'bagging_fraction': 0.9276728274258398, 'bagging_freq': 15, 'num_leaves': 764, 'min_child_samples': 37}. Best is trial 47 with value: -0.9267090776137382.\u001b[0m\n"
     ]
    },
    {
     "name": "stdout",
     "output_type": "stream",
     "text": [
      "Early stopping, best iteration is:\n",
      "[117]\ttraining's l1: 1.00196\tvalid_1's l1: 0.92673\n",
      "[LightGBM] [Warning] feature_fraction is set=0.44929972407752655, colsample_bytree=0.9 will be ignored. Current value: feature_fraction=0.44929972407752655\n",
      "[LightGBM] [Warning] bagging_fraction is set=0.6694152328953151, subsample=0.8 will be ignored. Current value: bagging_fraction=0.6694152328953151\n",
      "[LightGBM] [Warning] bagging_freq is set=19, subsample_freq=0 will be ignored. Current value: bagging_freq=19\n",
      "Training until validation scores don't improve for 100 rounds\n",
      "[100]\ttraining's l1: 1.0213\tvalid_1's l1: 0.933211\n",
      "[200]\ttraining's l1: 1.01584\tvalid_1's l1: 0.932005\n"
     ]
    },
    {
     "name": "stderr",
     "output_type": "stream",
     "text": [
      "\u001b[32m[I 2021-07-26 14:52:54,300]\u001b[0m Trial 48 finished with value: -0.9317756591058824 and parameters: {'max_depth': 6, 'min_child_weight': 6, 'subsample': 0.8, 'colsample_bytree': 0.9, 'reg_lambda': 0.013856158605814352, 'reg_alpha': 7.123922428851608, 'feature_fraction': 0.44929972407752655, 'bagging_fraction': 0.6694152328953151, 'bagging_freq': 19, 'num_leaves': 775, 'min_child_samples': 35}. Best is trial 47 with value: -0.9267090776137382.\u001b[0m\n"
     ]
    },
    {
     "name": "stdout",
     "output_type": "stream",
     "text": [
      "Early stopping, best iteration is:\n",
      "[137]\ttraining's l1: 1.01639\tvalid_1's l1: 0.931783\n",
      "[LightGBM] [Warning] feature_fraction is set=0.3411548992461275, colsample_bytree=0.9 will be ignored. Current value: feature_fraction=0.3411548992461275\n",
      "[LightGBM] [Warning] bagging_fraction is set=0.8307628605001333, subsample=0.7 will be ignored. Current value: bagging_fraction=0.8307628605001333\n",
      "[LightGBM] [Warning] bagging_freq is set=16, subsample_freq=0 will be ignored. Current value: bagging_freq=16\n",
      "Training until validation scores don't improve for 100 rounds\n",
      "[100]\ttraining's l1: 0.998675\tvalid_1's l1: 0.932511\n"
     ]
    },
    {
     "name": "stderr",
     "output_type": "stream",
     "text": [
      "\u001b[32m[I 2021-07-26 14:53:02,711]\u001b[0m Trial 49 finished with value: -0.9311988158155782 and parameters: {'max_depth': 9, 'min_child_weight': 9, 'subsample': 0.7, 'colsample_bytree': 0.9, 'reg_lambda': 0.16045488906104308, 'reg_alpha': 2.4965111477498536, 'feature_fraction': 0.3411548992461275, 'bagging_fraction': 0.8307628605001333, 'bagging_freq': 16, 'num_leaves': 830, 'min_child_samples': 21}. Best is trial 47 with value: -0.9267090776137382.\u001b[0m\n"
     ]
    },
    {
     "name": "stdout",
     "output_type": "stream",
     "text": [
      "Early stopping, best iteration is:\n",
      "[83]\ttraining's l1: 1.00099\tvalid_1's l1: 0.931205\n",
      "[LightGBM] [Warning] feature_fraction is set=0.39467013104216364, colsample_bytree=0.8 will be ignored. Current value: feature_fraction=0.39467013104216364\n",
      "[LightGBM] [Warning] bagging_fraction is set=0.7899341347850346, subsample=0.9 will be ignored. Current value: bagging_fraction=0.7899341347850346\n",
      "[LightGBM] [Warning] bagging_freq is set=15, subsample_freq=0 will be ignored. Current value: bagging_freq=15\n",
      "Training until validation scores don't improve for 100 rounds\n",
      "[100]\ttraining's l1: 0.993411\tvalid_1's l1: 0.939779\n"
     ]
    },
    {
     "name": "stderr",
     "output_type": "stream",
     "text": [
      "\u001b[32m[I 2021-07-26 14:53:11,056]\u001b[0m Trial 50 finished with value: -0.9347025462961166 and parameters: {'max_depth': 11, 'min_child_weight': 12, 'subsample': 0.9, 'colsample_bytree': 0.8, 'reg_lambda': 0.0034856158987791896, 'reg_alpha': 22.201885075113633, 'feature_fraction': 0.39467013104216364, 'bagging_fraction': 0.7899341347850346, 'bagging_freq': 15, 'num_leaves': 995, 'min_child_samples': 24}. Best is trial 47 with value: -0.9267090776137382.\u001b[0m\n"
     ]
    },
    {
     "name": "stdout",
     "output_type": "stream",
     "text": [
      "Early stopping, best iteration is:\n",
      "[31]\ttraining's l1: 1.01385\tvalid_1's l1: 0.934703\n",
      "[LightGBM] [Warning] feature_fraction is set=0.5041245346265707, colsample_bytree=0.7 will be ignored. Current value: feature_fraction=0.5041245346265707\n",
      "[LightGBM] [Warning] bagging_fraction is set=0.9222978615884849, subsample=0.9 will be ignored. Current value: bagging_fraction=0.9222978615884849\n",
      "[LightGBM] [Warning] bagging_freq is set=14, subsample_freq=0 will be ignored. Current value: bagging_freq=14\n",
      "Training until validation scores don't improve for 100 rounds\n",
      "[100]\ttraining's l1: 1.00104\tvalid_1's l1: 0.927501\n"
     ]
    },
    {
     "name": "stderr",
     "output_type": "stream",
     "text": [
      "\u001b[32m[I 2021-07-26 14:53:21,473]\u001b[0m Trial 51 finished with value: -0.9270591036952763 and parameters: {'max_depth': 9, 'min_child_weight': 8, 'subsample': 0.9, 'colsample_bytree': 0.7, 'reg_lambda': 0.8010263641282623, 'reg_alpha': 0.23613244726818997, 'feature_fraction': 0.5041245346265707, 'bagging_fraction': 0.9222978615884849, 'bagging_freq': 14, 'num_leaves': 626, 'min_child_samples': 14}. Best is trial 47 with value: -0.9267090776137382.\u001b[0m\n"
     ]
    },
    {
     "name": "stdout",
     "output_type": "stream",
     "text": [
      "Early stopping, best iteration is:\n",
      "[84]\ttraining's l1: 1.00158\tvalid_1's l1: 0.927069\n",
      "[LightGBM] [Warning] feature_fraction is set=0.49670770632647915, colsample_bytree=0.7 will be ignored. Current value: feature_fraction=0.49670770632647915\n",
      "[LightGBM] [Warning] bagging_fraction is set=0.9515811756946256, subsample=0.9 will be ignored. Current value: bagging_fraction=0.9515811756946256\n",
      "[LightGBM] [Warning] bagging_freq is set=13, subsample_freq=0 will be ignored. Current value: bagging_freq=13\n",
      "Training until validation scores don't improve for 100 rounds\n",
      "[100]\ttraining's l1: 1.00323\tvalid_1's l1: 0.929753\n"
     ]
    },
    {
     "name": "stderr",
     "output_type": "stream",
     "text": [
      "\u001b[32m[I 2021-07-26 14:53:30,357]\u001b[0m Trial 52 finished with value: -0.9284253420313677 and parameters: {'max_depth': 9, 'min_child_weight': 7, 'subsample': 0.9, 'colsample_bytree': 0.7, 'reg_lambda': 0.4168789330432955, 'reg_alpha': 1.2334224750799854, 'feature_fraction': 0.49670770632647915, 'bagging_fraction': 0.9515811756946256, 'bagging_freq': 13, 'num_leaves': 666, 'min_child_samples': 10}. Best is trial 47 with value: -0.9267090776137382.\u001b[0m\n"
     ]
    },
    {
     "name": "stdout",
     "output_type": "stream",
     "text": [
      "Early stopping, best iteration is:\n",
      "[49]\ttraining's l1: 1.01036\tvalid_1's l1: 0.92843\n",
      "[LightGBM] [Warning] feature_fraction is set=0.4574299741206139, colsample_bytree=0.6 will be ignored. Current value: feature_fraction=0.4574299741206139\n",
      "[LightGBM] [Warning] bagging_fraction is set=0.880613770573857, subsample=0.9 will be ignored. Current value: bagging_fraction=0.880613770573857\n",
      "[LightGBM] [Warning] bagging_freq is set=17, subsample_freq=0 will be ignored. Current value: bagging_freq=17\n",
      "Training until validation scores don't improve for 100 rounds\n",
      "[100]\ttraining's l1: 1.01484\tvalid_1's l1: 0.930665\n",
      "[200]\ttraining's l1: 1.00878\tvalid_1's l1: 0.931158\n",
      "Early stopping, best iteration is:\n",
      "[105]\ttraining's l1: 1.01347\tvalid_1's l1: 0.929824\n"
     ]
    },
    {
     "name": "stderr",
     "output_type": "stream",
     "text": [
      "\u001b[32m[I 2021-07-26 14:53:38,888]\u001b[0m Trial 53 finished with value: -0.9298068864228723 and parameters: {'max_depth': 7, 'min_child_weight': 8, 'subsample': 0.9, 'colsample_bytree': 0.6, 'reg_lambda': 0.8077591948337881, 'reg_alpha': 0.21467981654143378, 'feature_fraction': 0.4574299741206139, 'bagging_fraction': 0.880613770573857, 'bagging_freq': 17, 'num_leaves': 751, 'min_child_samples': 15}. Best is trial 47 with value: -0.9267090776137382.\u001b[0m\n"
     ]
    },
    {
     "name": "stdout",
     "output_type": "stream",
     "text": [
      "[LightGBM] [Warning] feature_fraction is set=0.29491807919198326, colsample_bytree=0.7 will be ignored. Current value: feature_fraction=0.29491807919198326\n",
      "[LightGBM] [Warning] bagging_fraction is set=0.9278488409988214, subsample=0.9 will be ignored. Current value: bagging_fraction=0.9278488409988214\n",
      "[LightGBM] [Warning] bagging_freq is set=15, subsample_freq=0 will be ignored. Current value: bagging_freq=15\n",
      "Training until validation scores don't improve for 100 rounds\n",
      "[100]\ttraining's l1: 0.979528\tvalid_1's l1: 0.940773\n"
     ]
    },
    {
     "name": "stderr",
     "output_type": "stream",
     "text": [
      "\u001b[32m[I 2021-07-26 14:53:48,199]\u001b[0m Trial 54 finished with value: -0.9338665422817516 and parameters: {'max_depth': 13, 'min_child_weight': 10, 'subsample': 0.9, 'colsample_bytree': 0.7, 'reg_lambda': 0.19268144937561887, 'reg_alpha': 0.09517406322153464, 'feature_fraction': 0.29491807919198326, 'bagging_fraction': 0.9278488409988214, 'bagging_freq': 15, 'num_leaves': 691, 'min_child_samples': 5}. Best is trial 47 with value: -0.9267090776137382.\u001b[0m\n"
     ]
    },
    {
     "name": "stdout",
     "output_type": "stream",
     "text": [
      "Early stopping, best iteration is:\n",
      "[31]\ttraining's l1: 1.00672\tvalid_1's l1: 0.933867\n",
      "[LightGBM] [Warning] feature_fraction is set=0.39451287317786193, colsample_bytree=0.8 will be ignored. Current value: feature_fraction=0.39451287317786193\n",
      "[LightGBM] [Warning] bagging_fraction is set=0.9690573610281528, subsample=0.9 will be ignored. Current value: bagging_fraction=0.9690573610281528\n",
      "[LightGBM] [Warning] bagging_freq is set=12, subsample_freq=0 will be ignored. Current value: bagging_freq=12\n",
      "Training until validation scores don't improve for 100 rounds\n",
      "[100]\ttraining's l1: 0.986914\tvalid_1's l1: 0.934007\n"
     ]
    },
    {
     "name": "stderr",
     "output_type": "stream",
     "text": [
      "\u001b[32m[I 2021-07-26 14:53:58,043]\u001b[0m Trial 55 finished with value: -0.929934440483639 and parameters: {'max_depth': 11, 'min_child_weight': 15, 'subsample': 0.9, 'colsample_bytree': 0.8, 'reg_lambda': 0.06232618043557794, 'reg_alpha': 0.043689851759385515, 'feature_fraction': 0.39451287317786193, 'bagging_fraction': 0.9690573610281528, 'bagging_freq': 12, 'num_leaves': 541, 'min_child_samples': 35}. Best is trial 47 with value: -0.9267090776137382.\u001b[0m\n"
     ]
    },
    {
     "name": "stdout",
     "output_type": "stream",
     "text": [
      "Early stopping, best iteration is:\n",
      "[42]\ttraining's l1: 1.00249\tvalid_1's l1: 0.929935\n",
      "[LightGBM] [Warning] feature_fraction is set=0.5231655965772475, colsample_bytree=0.6 will be ignored. Current value: feature_fraction=0.5231655965772475\n",
      "[LightGBM] [Warning] bagging_fraction is set=0.9108292939179519, subsample=0.8 will be ignored. Current value: bagging_fraction=0.9108292939179519\n",
      "[LightGBM] [Warning] bagging_freq is set=17, subsample_freq=0 will be ignored. Current value: bagging_freq=17\n",
      "Training until validation scores don't improve for 100 rounds\n",
      "[100]\ttraining's l1: 1.00306\tvalid_1's l1: 0.928085\n"
     ]
    },
    {
     "name": "stderr",
     "output_type": "stream",
     "text": [
      "\u001b[32m[I 2021-07-26 14:54:09,201]\u001b[0m Trial 56 finished with value: -0.9280650001989339 and parameters: {'max_depth': 9, 'min_child_weight': 9, 'subsample': 0.8, 'colsample_bytree': 0.6, 'reg_lambda': 1.0496996934890226, 'reg_alpha': 2.9482392015572696, 'feature_fraction': 0.5231655965772475, 'bagging_fraction': 0.9108292939179519, 'bagging_freq': 17, 'num_leaves': 635, 'min_child_samples': 16}. Best is trial 47 with value: -0.9267090776137382.\u001b[0m\n"
     ]
    },
    {
     "name": "stdout",
     "output_type": "stream",
     "text": [
      "[200]\ttraining's l1: 0.996662\tvalid_1's l1: 0.931268\n",
      "Early stopping, best iteration is:\n",
      "[100]\ttraining's l1: 1.00306\tvalid_1's l1: 0.928085\n",
      "[LightGBM] [Warning] feature_fraction is set=0.4203866347893859, colsample_bytree=0.7 will be ignored. Current value: feature_fraction=0.4203866347893859\n",
      "[LightGBM] [Warning] bagging_fraction is set=0.8981492881586489, subsample=0.6 will be ignored. Current value: bagging_fraction=0.8981492881586489\n",
      "[LightGBM] [Warning] bagging_freq is set=18, subsample_freq=0 will be ignored. Current value: bagging_freq=18\n",
      "Training until validation scores don't improve for 100 rounds\n",
      "[100]\ttraining's l1: 1.00588\tvalid_1's l1: 0.927846\n",
      "[200]\ttraining's l1: 1.00107\tvalid_1's l1: 0.927265\n"
     ]
    },
    {
     "name": "stderr",
     "output_type": "stream",
     "text": [
      "\u001b[32m[I 2021-07-26 14:54:19,189]\u001b[0m Trial 57 finished with value: -0.9261387611217992 and parameters: {'max_depth': 8, 'min_child_weight': 9, 'subsample': 0.6, 'colsample_bytree': 0.7, 'reg_lambda': 1.0228666579447563, 'reg_alpha': 0.2052431622092172, 'feature_fraction': 0.4203866347893859, 'bagging_fraction': 0.8981492881586489, 'bagging_freq': 18, 'num_leaves': 617, 'min_child_samples': 10}. Best is trial 57 with value: -0.9261387611217992.\u001b[0m\n"
     ]
    },
    {
     "name": "stdout",
     "output_type": "stream",
     "text": [
      "Early stopping, best iteration is:\n",
      "[125]\ttraining's l1: 1.00357\tvalid_1's l1: 0.926149\n",
      "[LightGBM] [Warning] feature_fraction is set=0.27538396510741237, colsample_bytree=0.7 will be ignored. Current value: feature_fraction=0.27538396510741237\n",
      "[LightGBM] [Warning] bagging_fraction is set=0.8638381585023649, subsample=0.5 will be ignored. Current value: bagging_fraction=0.8638381585023649\n",
      "[LightGBM] [Warning] bagging_freq is set=19, subsample_freq=0 will be ignored. Current value: bagging_freq=19\n",
      "Training until validation scores don't improve for 100 rounds\n",
      "[100]\ttraining's l1: 1.01904\tvalid_1's l1: 0.930668\n",
      "[200]\ttraining's l1: 1.01214\tvalid_1's l1: 0.928143\n",
      "[300]\ttraining's l1: 1.01197\tvalid_1's l1: 0.928164\n"
     ]
    },
    {
     "name": "stderr",
     "output_type": "stream",
     "text": [
      "\u001b[32m[I 2021-07-26 14:54:28,671]\u001b[0m Trial 58 finished with value: -0.9280967432827096 and parameters: {'max_depth': 6, 'min_child_weight': 7, 'subsample': 0.5, 'colsample_bytree': 0.7, 'reg_lambda': 4.676397655698147, 'reg_alpha': 0.011921847629654111, 'feature_fraction': 0.27538396510741237, 'bagging_fraction': 0.8638381585023649, 'bagging_freq': 19, 'num_leaves': 474, 'min_child_samples': 8}. Best is trial 57 with value: -0.9261387611217992.\u001b[0m\n"
     ]
    },
    {
     "name": "stdout",
     "output_type": "stream",
     "text": [
      "Early stopping, best iteration is:\n",
      "[212]\ttraining's l1: 1.01212\tvalid_1's l1: 0.928108\n",
      "[LightGBM] [Warning] feature_fraction is set=0.5778815685604703, colsample_bytree=0.7 will be ignored. Current value: feature_fraction=0.5778815685604703\n",
      "[LightGBM] [Warning] bagging_fraction is set=0.7645758324596639, subsample=0.6 will be ignored. Current value: bagging_fraction=0.7645758324596639\n",
      "[LightGBM] [Warning] bagging_freq is set=18, subsample_freq=0 will be ignored. Current value: bagging_freq=18\n",
      "Training until validation scores don't improve for 100 rounds\n",
      "[100]\ttraining's l1: 1.01063\tvalid_1's l1: 0.930396\n",
      "[200]\ttraining's l1: 1.00428\tvalid_1's l1: 0.929499\n"
     ]
    },
    {
     "name": "stderr",
     "output_type": "stream",
     "text": [
      "\u001b[32m[I 2021-07-26 14:54:39,818]\u001b[0m Trial 59 finished with value: -0.9284692029639812 and parameters: {'max_depth': 8, 'min_child_weight': 5, 'subsample': 0.6, 'colsample_bytree': 0.7, 'reg_lambda': 0.2292431939068556, 'reg_alpha': 0.1524683420184705, 'feature_fraction': 0.5778815685604703, 'bagging_fraction': 0.7645758324596639, 'bagging_freq': 18, 'num_leaves': 792, 'min_child_samples': 26}. Best is trial 57 with value: -0.9261387611217992.\u001b[0m\n"
     ]
    },
    {
     "name": "stdout",
     "output_type": "stream",
     "text": [
      "Early stopping, best iteration is:\n",
      "[134]\ttraining's l1: 1.00708\tvalid_1's l1: 0.928497\n",
      "[LightGBM] [Warning] feature_fraction is set=0.427496151355067, colsample_bytree=0.7 will be ignored. Current value: feature_fraction=0.427496151355067\n",
      "[LightGBM] [Warning] bagging_fraction is set=0.8938752278441301, subsample=0.6 will be ignored. Current value: bagging_fraction=0.8938752278441301\n",
      "[LightGBM] [Warning] bagging_freq is set=19, subsample_freq=0 will be ignored. Current value: bagging_freq=19\n",
      "Training until validation scores don't improve for 100 rounds\n",
      "[100]\ttraining's l1: 1.02147\tvalid_1's l1: 0.933067\n",
      "[200]\ttraining's l1: 1.01644\tvalid_1's l1: 0.930098\n"
     ]
    },
    {
     "name": "stderr",
     "output_type": "stream",
     "text": [
      "\u001b[32m[I 2021-07-26 14:54:48,930]\u001b[0m Trial 60 finished with value: -0.9296293524808498 and parameters: {'max_depth': 6, 'min_child_weight': 8, 'subsample': 0.6, 'colsample_bytree': 0.7, 'reg_lambda': 0.5172706571999273, 'reg_alpha': 0.47377105389122764, 'feature_fraction': 0.427496151355067, 'bagging_fraction': 0.8938752278441301, 'bagging_freq': 19, 'num_leaves': 743, 'min_child_samples': 21}. Best is trial 57 with value: -0.9261387611217992.\u001b[0m\n"
     ]
    },
    {
     "name": "stdout",
     "output_type": "stream",
     "text": [
      "Early stopping, best iteration is:\n",
      "[145]\ttraining's l1: 1.01692\tvalid_1's l1: 0.929636\n",
      "[LightGBM] [Warning] feature_fraction is set=0.5242977411571291, colsample_bytree=0.7 will be ignored. Current value: feature_fraction=0.5242977411571291\n",
      "[LightGBM] [Warning] bagging_fraction is set=0.9176855209357458, subsample=0.6 will be ignored. Current value: bagging_fraction=0.9176855209357458\n",
      "[LightGBM] [Warning] bagging_freq is set=17, subsample_freq=0 will be ignored. Current value: bagging_freq=17\n",
      "Training until validation scores don't improve for 100 rounds\n",
      "[100]\ttraining's l1: 1.00109\tvalid_1's l1: 0.92991\n",
      "[200]\ttraining's l1: 0.995485\tvalid_1's l1: 0.931557\n"
     ]
    },
    {
     "name": "stderr",
     "output_type": "stream",
     "text": [
      "\u001b[32m[I 2021-07-26 14:55:01,933]\u001b[0m Trial 61 finished with value: -0.9290507301031088 and parameters: {'max_depth': 9, 'min_child_weight': 9, 'subsample': 0.6, 'colsample_bytree': 0.7, 'reg_lambda': 1.1507575469110898, 'reg_alpha': 3.042466919294772, 'feature_fraction': 0.5242977411571291, 'bagging_fraction': 0.9176855209357458, 'bagging_freq': 17, 'num_leaves': 635, 'min_child_samples': 16}. Best is trial 57 with value: -0.9261387611217992.\u001b[0m\n"
     ]
    },
    {
     "name": "stdout",
     "output_type": "stream",
     "text": [
      "Early stopping, best iteration is:\n",
      "[139]\ttraining's l1: 0.997974\tvalid_1's l1: 0.929075\n",
      "[LightGBM] [Warning] feature_fraction is set=0.477551864711897, colsample_bytree=0.7 will be ignored. Current value: feature_fraction=0.477551864711897\n",
      "[LightGBM] [Warning] bagging_fraction is set=0.8222682531496579, subsample=0.7 will be ignored. Current value: bagging_fraction=0.8222682531496579\n",
      "[LightGBM] [Warning] bagging_freq is set=17, subsample_freq=0 will be ignored. Current value: bagging_freq=17\n",
      "Training until validation scores don't improve for 100 rounds\n",
      "[100]\ttraining's l1: 1.00964\tvalid_1's l1: 0.9294\n",
      "[200]\ttraining's l1: 1.00458\tvalid_1's l1: 0.929016\n"
     ]
    },
    {
     "name": "stderr",
     "output_type": "stream",
     "text": [
      "\u001b[32m[I 2021-07-26 14:55:11,983]\u001b[0m Trial 62 finished with value: -0.9282551097705625 and parameters: {'max_depth': 8, 'min_child_weight': 9, 'subsample': 0.7, 'colsample_bytree': 0.7, 'reg_lambda': 1.2710586825875356, 'reg_alpha': 0.21627419291660657, 'feature_fraction': 0.477551864711897, 'bagging_fraction': 0.8222682531496579, 'bagging_freq': 17, 'num_leaves': 588, 'min_child_samples': 13}. Best is trial 57 with value: -0.9261387611217992.\u001b[0m\n"
     ]
    },
    {
     "name": "stdout",
     "output_type": "stream",
     "text": [
      "Early stopping, best iteration is:\n",
      "[130]\ttraining's l1: 1.00579\tvalid_1's l1: 0.928266\n",
      "[LightGBM] [Warning] feature_fraction is set=0.3733558716552291, colsample_bytree=0.6 will be ignored. Current value: feature_fraction=0.3733558716552291\n",
      "[LightGBM] [Warning] bagging_fraction is set=0.9592050110025527, subsample=0.7 will be ignored. Current value: bagging_fraction=0.9592050110025527\n",
      "[LightGBM] [Warning] bagging_freq is set=20, subsample_freq=0 will be ignored. Current value: bagging_freq=20\n",
      "Training until validation scores don't improve for 100 rounds\n",
      "[100]\ttraining's l1: 1.00214\tvalid_1's l1: 0.930723\n",
      "[200]\ttraining's l1: 0.99679\tvalid_1's l1: 0.930976\n"
     ]
    },
    {
     "name": "stderr",
     "output_type": "stream",
     "text": [
      "\u001b[32m[I 2021-07-26 14:55:22,827]\u001b[0m Trial 63 finished with value: -0.9298181508303426 and parameters: {'max_depth': 9, 'min_child_weight': 11, 'subsample': 0.7, 'colsample_bytree': 0.6, 'reg_lambda': 3.2349975652024274, 'reg_alpha': 6.604251683326159, 'feature_fraction': 0.3733558716552291, 'bagging_fraction': 0.9592050110025527, 'bagging_freq': 20, 'num_leaves': 622, 'min_child_samples': 18}. Best is trial 57 with value: -0.9261387611217992.\u001b[0m\n"
     ]
    },
    {
     "name": "stdout",
     "output_type": "stream",
     "text": [
      "Early stopping, best iteration is:\n",
      "[129]\ttraining's l1: 0.999409\tvalid_1's l1: 0.929846\n",
      "[LightGBM] [Warning] feature_fraction is set=0.42539549281644085, colsample_bytree=0.8 will be ignored. Current value: feature_fraction=0.42539549281644085\n",
      "[LightGBM] [Warning] bagging_fraction is set=0.8939608896632142, subsample=0.5 will be ignored. Current value: bagging_fraction=0.8939608896632142\n",
      "[LightGBM] [Warning] bagging_freq is set=16, subsample_freq=0 will be ignored. Current value: bagging_freq=16\n",
      "Training until validation scores don't improve for 100 rounds\n",
      "[100]\ttraining's l1: 0.993442\tvalid_1's l1: 0.926868\n",
      "[200]\ttraining's l1: 0.985804\tvalid_1's l1: 0.929164\n",
      "Early stopping, best iteration is:\n",
      "[103]\ttraining's l1: 0.99315\tvalid_1's l1: 0.926301\n"
     ]
    },
    {
     "name": "stderr",
     "output_type": "stream",
     "text": [
      "\u001b[32m[I 2021-07-26 14:55:34,107]\u001b[0m Trial 64 finished with value: -0.9262926759756289 and parameters: {'max_depth': 10, 'min_child_weight': 6, 'subsample': 0.5, 'colsample_bytree': 0.8, 'reg_lambda': 0.8525488113075658, 'reg_alpha': 1.1782648416441472, 'feature_fraction': 0.42539549281644085, 'bagging_fraction': 0.8939608896632142, 'bagging_freq': 16, 'num_leaves': 531, 'min_child_samples': 32}. Best is trial 57 with value: -0.9261387611217992.\u001b[0m\n"
     ]
    },
    {
     "name": "stdout",
     "output_type": "stream",
     "text": [
      "[LightGBM] [Warning] feature_fraction is set=0.40855090408822653, colsample_bytree=0.9 will be ignored. Current value: feature_fraction=0.40855090408822653\n",
      "[LightGBM] [Warning] bagging_fraction is set=0.876302313894714, subsample=0.5 will be ignored. Current value: bagging_fraction=0.876302313894714\n",
      "[LightGBM] [Warning] bagging_freq is set=16, subsample_freq=0 will be ignored. Current value: bagging_freq=16\n",
      "Training until validation scores don't improve for 100 rounds\n",
      "[100]\ttraining's l1: 0.993061\tvalid_1's l1: 0.93062\n"
     ]
    },
    {
     "name": "stderr",
     "output_type": "stream",
     "text": [
      "\u001b[32m[I 2021-07-26 14:55:44,169]\u001b[0m Trial 65 finished with value: -0.9291015886566365 and parameters: {'max_depth': 10, 'min_child_weight': 5, 'subsample': 0.5, 'colsample_bytree': 0.9, 'reg_lambda': 6.917166593356016, 'reg_alpha': 1.2339855000350375, 'feature_fraction': 0.40855090408822653, 'bagging_fraction': 0.876302313894714, 'bagging_freq': 16, 'num_leaves': 521, 'min_child_samples': 34}. Best is trial 57 with value: -0.9261387611217992.\u001b[0m\n"
     ]
    },
    {
     "name": "stdout",
     "output_type": "stream",
     "text": [
      "Early stopping, best iteration is:\n",
      "[83]\ttraining's l1: 0.995483\tvalid_1's l1: 0.929108\n",
      "[LightGBM] [Warning] feature_fraction is set=0.4509599046930353, colsample_bytree=0.8 will be ignored. Current value: feature_fraction=0.4509599046930353\n",
      "[LightGBM] [Warning] bagging_fraction is set=0.941430847190203, subsample=0.5 will be ignored. Current value: bagging_fraction=0.941430847190203\n",
      "[LightGBM] [Warning] bagging_freq is set=14, subsample_freq=0 will be ignored. Current value: bagging_freq=14\n",
      "Training until validation scores don't improve for 100 rounds\n",
      "[100]\ttraining's l1: 0.992429\tvalid_1's l1: 0.93299\n"
     ]
    },
    {
     "name": "stderr",
     "output_type": "stream",
     "text": [
      "\u001b[32m[I 2021-07-26 14:55:53,498]\u001b[0m Trial 66 finished with value: -0.9294610357974732 and parameters: {'max_depth': 11, 'min_child_weight': 6, 'subsample': 0.5, 'colsample_bytree': 0.8, 'reg_lambda': 0.11959168288386192, 'reg_alpha': 0.542330610773599, 'feature_fraction': 0.4509599046930353, 'bagging_fraction': 0.941430847190203, 'bagging_freq': 14, 'num_leaves': 475, 'min_child_samples': 28}. Best is trial 57 with value: -0.9261387611217992.\u001b[0m\n"
     ]
    },
    {
     "name": "stdout",
     "output_type": "stream",
     "text": [
      "Early stopping, best iteration is:\n",
      "[33]\ttraining's l1: 1.0083\tvalid_1's l1: 0.929461\n",
      "[LightGBM] [Warning] feature_fraction is set=0.4780775716712325, colsample_bytree=0.9 will be ignored. Current value: feature_fraction=0.4780775716712325\n",
      "[LightGBM] [Warning] bagging_fraction is set=0.8426969599582173, subsample=0.6 will be ignored. Current value: bagging_fraction=0.8426969599582173\n",
      "[LightGBM] [Warning] bagging_freq is set=13, subsample_freq=0 will be ignored. Current value: bagging_freq=13\n",
      "Training until validation scores don't improve for 100 rounds\n",
      "[100]\ttraining's l1: 0.995241\tvalid_1's l1: 0.930324\n"
     ]
    },
    {
     "name": "stderr",
     "output_type": "stream",
     "text": [
      "\u001b[32m[I 2021-07-26 14:56:02,841]\u001b[0m Trial 67 finished with value: -0.9281351404332112 and parameters: {'max_depth': 10, 'min_child_weight': 4, 'subsample': 0.6, 'colsample_bytree': 0.9, 'reg_lambda': 1.9719868218902201, 'reg_alpha': 1.1547521571578254, 'feature_fraction': 0.4780775716712325, 'bagging_fraction': 0.8426969599582173, 'bagging_freq': 13, 'num_leaves': 573, 'min_child_samples': 41}. Best is trial 57 with value: -0.9261387611217992.\u001b[0m\n"
     ]
    },
    {
     "name": "stdout",
     "output_type": "stream",
     "text": [
      "Early stopping, best iteration is:\n",
      "[58]\ttraining's l1: 1.00365\tvalid_1's l1: 0.928138\n",
      "[LightGBM] [Warning] feature_fraction is set=0.6221906796787102, colsample_bytree=0.8 will be ignored. Current value: feature_fraction=0.6221906796787102\n",
      "[LightGBM] [Warning] bagging_fraction is set=0.9664679002665816, subsample=0.5 will be ignored. Current value: bagging_fraction=0.9664679002665816\n",
      "[LightGBM] [Warning] bagging_freq is set=15, subsample_freq=0 will be ignored. Current value: bagging_freq=15\n",
      "Training until validation scores don't improve for 100 rounds\n",
      "[100]\ttraining's l1: 1.01515\tvalid_1's l1: 0.932423\n",
      "[200]\ttraining's l1: 1.01053\tvalid_1's l1: 0.931639\n"
     ]
    },
    {
     "name": "stderr",
     "output_type": "stream",
     "text": [
      "\u001b[32m[I 2021-07-26 14:56:13,452]\u001b[0m Trial 68 finished with value: -0.9316134286038432 and parameters: {'max_depth': 7, 'min_child_weight': 7, 'subsample': 0.5, 'colsample_bytree': 0.8, 'reg_lambda': 0.2526524461973903, 'reg_alpha': 0.3061268890549135, 'feature_fraction': 0.6221906796787102, 'bagging_fraction': 0.9664679002665816, 'bagging_freq': 15, 'num_leaves': 681, 'min_child_samples': 32}. Best is trial 57 with value: -0.9261387611217992.\u001b[0m\n"
     ]
    },
    {
     "name": "stdout",
     "output_type": "stream",
     "text": [
      "Early stopping, best iteration is:\n",
      "[187]\ttraining's l1: 1.01058\tvalid_1's l1: 0.931632\n",
      "[LightGBM] [Warning] feature_fraction is set=0.36558135980509227, colsample_bytree=0.7 will be ignored. Current value: feature_fraction=0.36558135980509227\n",
      "[LightGBM] [Warning] bagging_fraction is set=0.8999160881262593, subsample=0.6 will be ignored. Current value: bagging_fraction=0.8999160881262593\n",
      "[LightGBM] [Warning] bagging_freq is set=18, subsample_freq=0 will be ignored. Current value: bagging_freq=18\n",
      "Training until validation scores don't improve for 100 rounds\n",
      "[100]\ttraining's l1: 1.00523\tvalid_1's l1: 0.929586\n",
      "[200]\ttraining's l1: 1.00063\tvalid_1's l1: 0.931435\n"
     ]
    },
    {
     "name": "stderr",
     "output_type": "stream",
     "text": [
      "\u001b[32m[I 2021-07-26 14:56:22,591]\u001b[0m Trial 69 finished with value: -0.9292979961256395 and parameters: {'max_depth': 8, 'min_child_weight': 4, 'subsample': 0.6, 'colsample_bytree': 0.7, 'reg_lambda': 0.5383005092793388, 'reg_alpha': 0.03964338251696031, 'feature_fraction': 0.36558135980509227, 'bagging_fraction': 0.8999160881262593, 'bagging_freq': 18, 'num_leaves': 943, 'min_child_samples': 39}. Best is trial 57 with value: -0.9261387611217992.\u001b[0m\n"
     ]
    },
    {
     "name": "stdout",
     "output_type": "stream",
     "text": [
      "Early stopping, best iteration is:\n",
      "[117]\ttraining's l1: 1.00386\tvalid_1's l1: 0.929307\n",
      "[LightGBM] [Warning] feature_fraction is set=0.4174817640630311, colsample_bytree=0.7 will be ignored. Current value: feature_fraction=0.4174817640630311\n",
      "[LightGBM] [Warning] bagging_fraction is set=0.6941726417031727, subsample=0.5 will be ignored. Current value: bagging_fraction=0.6941726417031727\n",
      "[LightGBM] [Warning] bagging_freq is set=16, subsample_freq=0 will be ignored. Current value: bagging_freq=16\n",
      "Training until validation scores don't improve for 100 rounds\n",
      "[100]\ttraining's l1: 0.996182\tvalid_1's l1: 0.934154\n"
     ]
    },
    {
     "name": "stderr",
     "output_type": "stream",
     "text": [
      "\u001b[32m[I 2021-07-26 14:56:30,442]\u001b[0m Trial 70 finished with value: -0.9318378679715329 and parameters: {'max_depth': 11, 'min_child_weight': 8, 'subsample': 0.5, 'colsample_bytree': 0.7, 'reg_lambda': 0.3728147053276817, 'reg_alpha': 0.09654930463888833, 'feature_fraction': 0.4174817640630311, 'bagging_fraction': 0.6941726417031727, 'bagging_freq': 16, 'num_leaves': 384, 'min_child_samples': 24}. Best is trial 57 with value: -0.9261387611217992.\u001b[0m\n"
     ]
    },
    {
     "name": "stdout",
     "output_type": "stream",
     "text": [
      "Early stopping, best iteration is:\n",
      "[48]\ttraining's l1: 1.00666\tvalid_1's l1: 0.93184\n",
      "[LightGBM] [Warning] feature_fraction is set=0.5266369544812368, colsample_bytree=0.8 will be ignored. Current value: feature_fraction=0.5266369544812368\n",
      "[LightGBM] [Warning] bagging_fraction is set=0.9331421347011142, subsample=0.8 will be ignored. Current value: bagging_fraction=0.9331421347011142\n",
      "[LightGBM] [Warning] bagging_freq is set=17, subsample_freq=0 will be ignored. Current value: bagging_freq=17\n",
      "Training until validation scores don't improve for 100 rounds\n",
      "[100]\ttraining's l1: 1.00399\tvalid_1's l1: 0.929379\n",
      "[200]\ttraining's l1: 0.99752\tvalid_1's l1: 0.929986\n"
     ]
    },
    {
     "name": "stderr",
     "output_type": "stream",
     "text": [
      "\u001b[32m[I 2021-07-26 14:56:42,653]\u001b[0m Trial 71 finished with value: -0.9277323887843073 and parameters: {'max_depth': 9, 'min_child_weight': 12, 'subsample': 0.8, 'colsample_bytree': 0.8, 'reg_lambda': 0.8650342273941736, 'reg_alpha': 2.6275843683792415, 'feature_fraction': 0.5266369544812368, 'bagging_fraction': 0.9331421347011142, 'bagging_freq': 17, 'num_leaves': 555, 'min_child_samples': 8}. Best is trial 57 with value: -0.9261387611217992.\u001b[0m\n"
     ]
    },
    {
     "name": "stdout",
     "output_type": "stream",
     "text": [
      "Early stopping, best iteration is:\n",
      "[117]\ttraining's l1: 1.00243\tvalid_1's l1: 0.927745\n",
      "[LightGBM] [Warning] feature_fraction is set=0.5778257785912837, colsample_bytree=0.9 will be ignored. Current value: feature_fraction=0.5778257785912837\n",
      "[LightGBM] [Warning] bagging_fraction is set=0.9376387684979359, subsample=0.8 will be ignored. Current value: bagging_fraction=0.9376387684979359\n",
      "[LightGBM] [Warning] bagging_freq is set=14, subsample_freq=0 will be ignored. Current value: bagging_freq=14\n",
      "Training until validation scores don't improve for 100 rounds\n",
      "[100]\ttraining's l1: 1.00148\tvalid_1's l1: 0.928485\n"
     ]
    },
    {
     "name": "stderr",
     "output_type": "stream",
     "text": [
      "\u001b[32m[I 2021-07-26 14:56:54,187]\u001b[0m Trial 72 finished with value: -0.9278382861195814 and parameters: {'max_depth': 9, 'min_child_weight': 13, 'subsample': 0.8, 'colsample_bytree': 0.9, 'reg_lambda': 0.9456787500240089, 'reg_alpha': 2.0827869086852826, 'feature_fraction': 0.5778257785912837, 'bagging_fraction': 0.9376387684979359, 'bagging_freq': 14, 'num_leaves': 559, 'min_child_samples': 8}. Best is trial 57 with value: -0.9261387611217992.\u001b[0m\n"
     ]
    },
    {
     "name": "stdout",
     "output_type": "stream",
     "text": [
      "Early stopping, best iteration is:\n",
      "[80]\ttraining's l1: 1.00417\tvalid_1's l1: 0.927852\n",
      "[LightGBM] [Warning] feature_fraction is set=0.49526976804812, colsample_bytree=0.8 will be ignored. Current value: feature_fraction=0.49526976804812\n",
      "[LightGBM] [Warning] bagging_fraction is set=0.9720374640611543, subsample=0.6 will be ignored. Current value: bagging_fraction=0.9720374640611543\n",
      "[LightGBM] [Warning] bagging_freq is set=11, subsample_freq=0 will be ignored. Current value: bagging_freq=11\n",
      "Training until validation scores don't improve for 100 rounds\n",
      "[100]\ttraining's l1: 0.993752\tvalid_1's l1: 0.932726\n"
     ]
    },
    {
     "name": "stderr",
     "output_type": "stream",
     "text": [
      "\u001b[32m[I 2021-07-26 14:57:05,600]\u001b[0m Trial 73 finished with value: -0.9309700093603541 and parameters: {'max_depth': 10, 'min_child_weight': 12, 'subsample': 0.6, 'colsample_bytree': 0.8, 'reg_lambda': 3.9980642132799096, 'reg_alpha': 5.552584719723795, 'feature_fraction': 0.49526976804812, 'bagging_fraction': 0.9720374640611543, 'bagging_freq': 11, 'num_leaves': 519, 'min_child_samples': 11}. Best is trial 57 with value: -0.9261387611217992.\u001b[0m\n"
     ]
    },
    {
     "name": "stdout",
     "output_type": "stream",
     "text": [
      "Early stopping, best iteration is:\n",
      "[76]\ttraining's l1: 0.999169\tvalid_1's l1: 0.930981\n",
      "[LightGBM] [Warning] feature_fraction is set=0.5345112793966947, colsample_bytree=0.7 will be ignored. Current value: feature_fraction=0.5345112793966947\n",
      "[LightGBM] [Warning] bagging_fraction is set=0.36593862589403164, subsample=0.7 will be ignored. Current value: bagging_fraction=0.36593862589403164\n",
      "[LightGBM] [Warning] bagging_freq is set=15, subsample_freq=0 will be ignored. Current value: bagging_freq=15\n",
      "Training until validation scores don't improve for 100 rounds\n",
      "[100]\ttraining's l1: 0.994228\tvalid_1's l1: 0.940265\n"
     ]
    },
    {
     "name": "stderr",
     "output_type": "stream",
     "text": [
      "\u001b[32m[I 2021-07-26 14:57:12,644]\u001b[0m Trial 74 finished with value: -0.932089734307137 and parameters: {'max_depth': 12, 'min_child_weight': 11, 'subsample': 0.7, 'colsample_bytree': 0.7, 'reg_lambda': 2.2568008253219585, 'reg_alpha': 0.924753527916418, 'feature_fraction': 0.5345112793966947, 'bagging_fraction': 0.36593862589403164, 'bagging_freq': 15, 'num_leaves': 456, 'min_child_samples': 6}. Best is trial 57 with value: -0.9261387611217992.\u001b[0m\n"
     ]
    },
    {
     "name": "stdout",
     "output_type": "stream",
     "text": [
      "Early stopping, best iteration is:\n",
      "[36]\ttraining's l1: 1.00825\tvalid_1's l1: 0.932143\n",
      "[LightGBM] [Warning] feature_fraction is set=0.4476015213917576, colsample_bytree=0.8 will be ignored. Current value: feature_fraction=0.4476015213917576\n",
      "[LightGBM] [Warning] bagging_fraction is set=0.9974144664684775, subsample=0.9 will be ignored. Current value: bagging_fraction=0.9974144664684775\n",
      "[LightGBM] [Warning] bagging_freq is set=18, subsample_freq=0 will be ignored. Current value: bagging_freq=18\n",
      "Training until validation scores don't improve for 100 rounds\n",
      "[100]\ttraining's l1: 1.00247\tvalid_1's l1: 0.928895\n"
     ]
    },
    {
     "name": "stderr",
     "output_type": "stream",
     "text": [
      "\u001b[32m[I 2021-07-26 14:57:22,429]\u001b[0m Trial 75 finished with value: -0.92766843266423 and parameters: {'max_depth': 9, 'min_child_weight': 14, 'subsample': 0.9, 'colsample_bytree': 0.8, 'reg_lambda': 0.629986153306634, 'reg_alpha': 9.342845485072115, 'feature_fraction': 0.4476015213917576, 'bagging_fraction': 0.9974144664684775, 'bagging_freq': 18, 'num_leaves': 595, 'min_child_samples': 46}. Best is trial 57 with value: -0.9261387611217992.\u001b[0m\n"
     ]
    },
    {
     "name": "stdout",
     "output_type": "stream",
     "text": [
      "Early stopping, best iteration is:\n",
      "[78]\ttraining's l1: 1.00521\tvalid_1's l1: 0.927674\n",
      "[LightGBM] [Warning] feature_fraction is set=0.4412611273315384, colsample_bytree=0.7 will be ignored. Current value: feature_fraction=0.4412611273315384\n",
      "[LightGBM] [Warning] bagging_fraction is set=0.9947651855123772, subsample=0.9 will be ignored. Current value: bagging_fraction=0.9947651855123772\n",
      "[LightGBM] [Warning] bagging_freq is set=20, subsample_freq=0 will be ignored. Current value: bagging_freq=20\n",
      "Training until validation scores don't improve for 100 rounds\n",
      "[100]\ttraining's l1: 1.0167\tvalid_1's l1: 0.931779\n",
      "[200]\ttraining's l1: 1.01037\tvalid_1's l1: 0.931059\n"
     ]
    },
    {
     "name": "stderr",
     "output_type": "stream",
     "text": [
      "\u001b[32m[I 2021-07-26 14:57:31,846]\u001b[0m Trial 76 finished with value: -0.9301219301911362 and parameters: {'max_depth': 7, 'min_child_weight': 15, 'subsample': 0.9, 'colsample_bytree': 0.7, 'reg_lambda': 12.1534263899685, 'reg_alpha': 13.247329132675675, 'feature_fraction': 0.4412611273315384, 'bagging_fraction': 0.9947651855123772, 'bagging_freq': 20, 'num_leaves': 606, 'min_child_samples': 55}. Best is trial 57 with value: -0.9261387611217992.\u001b[0m\n"
     ]
    },
    {
     "name": "stdout",
     "output_type": "stream",
     "text": [
      "Early stopping, best iteration is:\n",
      "[115]\ttraining's l1: 1.01358\tvalid_1's l1: 0.930128\n",
      "[LightGBM] [Warning] feature_fraction is set=0.3432122721454962, colsample_bytree=0.8 will be ignored. Current value: feature_fraction=0.3432122721454962\n",
      "[LightGBM] [Warning] bagging_fraction is set=0.857874105727021, subsample=0.9 will be ignored. Current value: bagging_fraction=0.857874105727021\n",
      "[LightGBM] [Warning] bagging_freq is set=19, subsample_freq=0 will be ignored. Current value: bagging_freq=19\n",
      "Training until validation scores don't improve for 100 rounds\n",
      "[100]\ttraining's l1: 1.0096\tvalid_1's l1: 0.932834\n",
      "[200]\ttraining's l1: 1.00617\tvalid_1's l1: 0.931905\n",
      "[300]\ttraining's l1: 1.00582\tvalid_1's l1: 0.931662\n"
     ]
    },
    {
     "name": "stderr",
     "output_type": "stream",
     "text": [
      "\u001b[32m[I 2021-07-26 14:57:43,211]\u001b[0m Trial 77 finished with value: -0.9315545596530742 and parameters: {'max_depth': 8, 'min_child_weight': 17, 'subsample': 0.9, 'colsample_bytree': 0.8, 'reg_lambda': 0.46659362797286147, 'reg_alpha': 23.18618869733124, 'feature_fraction': 0.3432122721454962, 'bagging_fraction': 0.857874105727021, 'bagging_freq': 19, 'num_leaves': 677, 'min_child_samples': 46}. Best is trial 57 with value: -0.9261387611217992.\u001b[0m\n"
     ]
    },
    {
     "name": "stdout",
     "output_type": "stream",
     "text": [
      "Early stopping, best iteration is:\n",
      "[213]\ttraining's l1: 1.00597\tvalid_1's l1: 0.931572\n",
      "[LightGBM] [Warning] feature_fraction is set=0.46749999890245114, colsample_bytree=0.7 will be ignored. Current value: feature_fraction=0.46749999890245114\n",
      "[LightGBM] [Warning] bagging_fraction is set=0.8959373414668534, subsample=0.9 will be ignored. Current value: bagging_fraction=0.8959373414668534\n",
      "[LightGBM] [Warning] bagging_freq is set=18, subsample_freq=0 will be ignored. Current value: bagging_freq=18\n",
      "Training until validation scores don't improve for 100 rounds\n",
      "[100]\ttraining's l1: 0.997178\tvalid_1's l1: 0.933044\n"
     ]
    },
    {
     "name": "stderr",
     "output_type": "stream",
     "text": [
      "\u001b[32m[I 2021-07-26 14:57:53,185]\u001b[0m Trial 78 finished with value: -0.930354018320041 and parameters: {'max_depth': 10, 'min_child_weight': 14, 'subsample': 0.9, 'colsample_bytree': 0.7, 'reg_lambda': 1.647344931109839, 'reg_alpha': 9.922245855034062, 'feature_fraction': 0.46749999890245114, 'bagging_fraction': 0.8959373414668534, 'bagging_freq': 18, 'num_leaves': 593, 'min_child_samples': 43}. Best is trial 57 with value: -0.9261387611217992.\u001b[0m\n"
     ]
    },
    {
     "name": "stdout",
     "output_type": "stream",
     "text": [
      "Early stopping, best iteration is:\n",
      "[67]\ttraining's l1: 1.00408\tvalid_1's l1: 0.93036\n",
      "[LightGBM] [Warning] feature_fraction is set=0.4303394771463111, colsample_bytree=0.7 will be ignored. Current value: feature_fraction=0.4303394771463111\n",
      "[LightGBM] [Warning] bagging_fraction is set=0.9992790127966942, subsample=0.9 will be ignored. Current value: bagging_fraction=0.9992790127966942\n",
      "[LightGBM] [Warning] bagging_freq is set=16, subsample_freq=0 will be ignored. Current value: bagging_freq=16\n",
      "Training until validation scores don't improve for 100 rounds\n",
      "[100]\ttraining's l1: 0.985962\tvalid_1's l1: 0.932964\n"
     ]
    },
    {
     "name": "stderr",
     "output_type": "stream",
     "text": [
      "\u001b[32m[I 2021-07-26 14:58:03,831]\u001b[0m Trial 79 finished with value: -0.929018009080328 and parameters: {'max_depth': 12, 'min_child_weight': 16, 'subsample': 0.9, 'colsample_bytree': 0.7, 'reg_lambda': 0.7105609740050187, 'reg_alpha': 0.5934061910145989, 'feature_fraction': 0.4303394771463111, 'bagging_fraction': 0.9992790127966942, 'bagging_freq': 16, 'num_leaves': 653, 'min_child_samples': 39}. Best is trial 57 with value: -0.9261387611217992.\u001b[0m\n"
     ]
    },
    {
     "name": "stdout",
     "output_type": "stream",
     "text": [
      "Early stopping, best iteration is:\n",
      "[38]\ttraining's l1: 1.00142\tvalid_1's l1: 0.929019\n",
      "[LightGBM] [Warning] feature_fraction is set=0.3788786251436103, colsample_bytree=0.7 will be ignored. Current value: feature_fraction=0.3788786251436103\n",
      "[LightGBM] [Warning] bagging_fraction is set=0.9756101323875335, subsample=0.9 will be ignored. Current value: bagging_fraction=0.9756101323875335\n",
      "[LightGBM] [Warning] bagging_freq is set=14, subsample_freq=0 will be ignored. Current value: bagging_freq=14\n",
      "Training until validation scores don't improve for 100 rounds\n",
      "[100]\ttraining's l1: 0.992915\tvalid_1's l1: 0.934096\n"
     ]
    },
    {
     "name": "stderr",
     "output_type": "stream",
     "text": [
      "\u001b[32m[I 2021-07-26 14:58:13,401]\u001b[0m Trial 80 finished with value: -0.9305025201403225 and parameters: {'max_depth': 13, 'min_child_weight': 6, 'subsample': 0.9, 'colsample_bytree': 0.7, 'reg_lambda': 0.09365947936992582, 'reg_alpha': 0.18396574212813294, 'feature_fraction': 0.3788786251436103, 'bagging_fraction': 0.9756101323875335, 'bagging_freq': 14, 'num_leaves': 507, 'min_child_samples': 50}. Best is trial 57 with value: -0.9261387611217992.\u001b[0m\n"
     ]
    },
    {
     "name": "stdout",
     "output_type": "stream",
     "text": [
      "Early stopping, best iteration is:\n",
      "[41]\ttraining's l1: 1.00567\tvalid_1's l1: 0.930503\n",
      "[LightGBM] [Warning] feature_fraction is set=0.4897142441461079, colsample_bytree=0.8 will be ignored. Current value: feature_fraction=0.4897142441461079\n",
      "[LightGBM] [Warning] bagging_fraction is set=0.9393351739227787, subsample=0.8 will be ignored. Current value: bagging_fraction=0.9393351739227787\n",
      "[LightGBM] [Warning] bagging_freq is set=18, subsample_freq=0 will be ignored. Current value: bagging_freq=18\n",
      "Training until validation scores don't improve for 100 rounds\n",
      "[100]\ttraining's l1: 1.02433\tvalid_1's l1: 0.942159\n",
      "[200]\ttraining's l1: 1.02103\tvalid_1's l1: 0.941356\n",
      "[300]\ttraining's l1: 1.02017\tvalid_1's l1: 0.940473\n",
      "[400]\ttraining's l1: 1.019\tvalid_1's l1: 0.940459\n"
     ]
    },
    {
     "name": "stderr",
     "output_type": "stream",
     "text": [
      "\u001b[32m[I 2021-07-26 14:58:32,335]\u001b[0m Trial 81 finished with value: -0.9402424084883525 and parameters: {'max_depth': 9, 'min_child_weight': 13, 'subsample': 0.8, 'colsample_bytree': 0.8, 'reg_lambda': 0.29470954628563667, 'reg_alpha': 612.6181495831081, 'feature_fraction': 0.4897142441461079, 'bagging_fraction': 0.9393351739227787, 'bagging_freq': 18, 'num_leaves': 543, 'min_child_samples': 33}. Best is trial 57 with value: -0.9261387611217992.\u001b[0m\n"
     ]
    },
    {
     "name": "stdout",
     "output_type": "stream",
     "text": [
      "Early stopping, best iteration is:\n",
      "[344]\ttraining's l1: 1.01978\tvalid_1's l1: 0.940285\n",
      "[LightGBM] [Warning] feature_fraction is set=0.5627421259896955, colsample_bytree=0.8 will be ignored. Current value: feature_fraction=0.5627421259896955\n",
      "[LightGBM] [Warning] bagging_fraction is set=0.9236900634723503, subsample=0.9 will be ignored. Current value: bagging_fraction=0.9236900634723503\n",
      "[LightGBM] [Warning] bagging_freq is set=17, subsample_freq=0 will be ignored. Current value: bagging_freq=17\n",
      "Training until validation scores don't improve for 100 rounds\n",
      "[100]\ttraining's l1: 1.00004\tvalid_1's l1: 0.931876\n"
     ]
    },
    {
     "name": "stderr",
     "output_type": "stream",
     "text": [
      "\u001b[32m[I 2021-07-26 14:58:42,406]\u001b[0m Trial 82 finished with value: -0.9303131288405863 and parameters: {'max_depth': 9, 'min_child_weight': 12, 'subsample': 0.9, 'colsample_bytree': 0.8, 'reg_lambda': 0.15744239520835906, 'reg_alpha': 3.6173431557441313, 'feature_fraction': 0.5627421259896955, 'bagging_fraction': 0.9236900634723503, 'bagging_freq': 17, 'num_leaves': 567, 'min_child_samples': 37}. Best is trial 57 with value: -0.9261387611217992.\u001b[0m\n"
     ]
    },
    {
     "name": "stdout",
     "output_type": "stream",
     "text": [
      "Early stopping, best iteration is:\n",
      "[63]\ttraining's l1: 1.00694\tvalid_1's l1: 0.930319\n",
      "[LightGBM] [Warning] feature_fraction is set=0.5035615689279458, colsample_bytree=0.9 will be ignored. Current value: feature_fraction=0.5035615689279458\n",
      "[LightGBM] [Warning] bagging_fraction is set=0.8868372104536072, subsample=0.9 will be ignored. Current value: bagging_fraction=0.8868372104536072\n",
      "[LightGBM] [Warning] bagging_freq is set=16, subsample_freq=0 will be ignored. Current value: bagging_freq=16\n",
      "Training until validation scores don't improve for 100 rounds\n",
      "[100]\ttraining's l1: 0.98915\tvalid_1's l1: 0.930561\n"
     ]
    },
    {
     "name": "stderr",
     "output_type": "stream",
     "text": [
      "\u001b[32m[I 2021-07-26 14:58:52,385]\u001b[0m Trial 83 finished with value: -0.9284061012612177 and parameters: {'max_depth': 11, 'min_child_weight': 15, 'subsample': 0.9, 'colsample_bytree': 0.9, 'reg_lambda': 0.7030157060845496, 'reg_alpha': 1.5310063064930863, 'feature_fraction': 0.5035615689279458, 'bagging_fraction': 0.8868372104536072, 'bagging_freq': 16, 'num_leaves': 611, 'min_child_samples': 29}. Best is trial 57 with value: -0.9261387611217992.\u001b[0m\n"
     ]
    },
    {
     "name": "stdout",
     "output_type": "stream",
     "text": [
      "Early stopping, best iteration is:\n",
      "[41]\ttraining's l1: 1.0013\tvalid_1's l1: 0.928408\n",
      "[LightGBM] [Warning] feature_fraction is set=0.39868705868098203, colsample_bytree=0.8 will be ignored. Current value: feature_fraction=0.39868705868098203\n",
      "[LightGBM] [Warning] bagging_fraction is set=0.9595150742319637, subsample=0.8 will be ignored. Current value: bagging_fraction=0.9595150742319637\n",
      "[LightGBM] [Warning] bagging_freq is set=15, subsample_freq=0 will be ignored. Current value: bagging_freq=15\n",
      "Training until validation scores don't improve for 100 rounds\n",
      "[100]\ttraining's l1: 0.994622\tvalid_1's l1: 0.931766\n"
     ]
    },
    {
     "name": "stderr",
     "output_type": "stream",
     "text": [
      "\u001b[32m[I 2021-07-26 14:59:01,191]\u001b[0m Trial 84 finished with value: -0.9290406853892629 and parameters: {'max_depth': 10, 'min_child_weight': 14, 'subsample': 0.8, 'colsample_bytree': 0.8, 'reg_lambda': 2.8906450625594737, 'reg_alpha': 4.345270397602698, 'feature_fraction': 0.39868705868098203, 'bagging_fraction': 0.9595150742319637, 'bagging_freq': 15, 'num_leaves': 879, 'min_child_samples': 43}. Best is trial 57 with value: -0.9261387611217992.\u001b[0m\n"
     ]
    },
    {
     "name": "stdout",
     "output_type": "stream",
     "text": [
      "Early stopping, best iteration is:\n",
      "[48]\ttraining's l1: 1.00645\tvalid_1's l1: 0.929044\n",
      "[LightGBM] [Warning] feature_fraction is set=0.4392797850852526, colsample_bytree=0.7 will be ignored. Current value: feature_fraction=0.4392797850852526\n",
      "[LightGBM] [Warning] bagging_fraction is set=0.9085574070835312, subsample=0.9 will be ignored. Current value: bagging_fraction=0.9085574070835312\n",
      "[LightGBM] [Warning] bagging_freq is set=12, subsample_freq=0 will be ignored. Current value: bagging_freq=12\n",
      "Training until validation scores don't improve for 100 rounds\n",
      "[100]\ttraining's l1: 1.00798\tvalid_1's l1: 0.931807\n"
     ]
    },
    {
     "name": "stderr",
     "output_type": "stream",
     "text": [
      "\u001b[32m[I 2021-07-26 14:59:10,049]\u001b[0m Trial 85 finished with value: -0.9306939372166773 and parameters: {'max_depth': 8, 'min_child_weight': 10, 'subsample': 0.9, 'colsample_bytree': 0.7, 'reg_lambda': 1.1850065879935243, 'reg_alpha': 0.3205141203115147, 'feature_fraction': 0.4392797850852526, 'bagging_fraction': 0.9085574070835312, 'bagging_freq': 12, 'num_leaves': 448, 'min_child_samples': 31}. Best is trial 57 with value: -0.9261387611217992.\u001b[0m\n"
     ]
    },
    {
     "name": "stdout",
     "output_type": "stream",
     "text": [
      "Early stopping, best iteration is:\n",
      "[88]\ttraining's l1: 1.0094\tvalid_1's l1: 0.930701\n",
      "[LightGBM] [Warning] feature_fraction is set=0.5404437500403693, colsample_bytree=0.8 will be ignored. Current value: feature_fraction=0.5404437500403693\n",
      "[LightGBM] [Warning] bagging_fraction is set=0.5985212193118417, subsample=0.9 will be ignored. Current value: bagging_fraction=0.5985212193118417\n",
      "[LightGBM] [Warning] bagging_freq is set=17, subsample_freq=0 will be ignored. Current value: bagging_freq=17\n",
      "Training until validation scores don't improve for 100 rounds\n",
      "[100]\ttraining's l1: 1.01477\tvalid_1's l1: 0.930245\n",
      "[200]\ttraining's l1: 1.00891\tvalid_1's l1: 0.930995\n"
     ]
    },
    {
     "name": "stderr",
     "output_type": "stream",
     "text": [
      "\u001b[32m[I 2021-07-26 14:59:17,632]\u001b[0m Trial 86 finished with value: -0.9299008900829016 and parameters: {'max_depth': 7, 'min_child_weight': 7, 'subsample': 0.9, 'colsample_bytree': 0.8, 'reg_lambda': 1.6234299619450197, 'reg_alpha': 2.246062775221343, 'feature_fraction': 0.5404437500403693, 'bagging_fraction': 0.5985212193118417, 'bagging_freq': 17, 'num_leaves': 704, 'min_child_samples': 19}. Best is trial 57 with value: -0.9261387611217992.\u001b[0m\n"
     ]
    },
    {
     "name": "stdout",
     "output_type": "stream",
     "text": [
      "Early stopping, best iteration is:\n",
      "[109]\ttraining's l1: 1.01382\tvalid_1's l1: 0.929909\n",
      "[LightGBM] [Warning] feature_fraction is set=0.5128015146711244, colsample_bytree=0.8 will be ignored. Current value: feature_fraction=0.5128015146711244\n",
      "[LightGBM] [Warning] bagging_fraction is set=0.8067880740526381, subsample=0.8 will be ignored. Current value: bagging_fraction=0.8067880740526381\n",
      "[LightGBM] [Warning] bagging_freq is set=20, subsample_freq=0 will be ignored. Current value: bagging_freq=20\n",
      "Training until validation scores don't improve for 100 rounds\n",
      "[100]\ttraining's l1: 0.999551\tvalid_1's l1: 0.929883\n"
     ]
    },
    {
     "name": "stderr",
     "output_type": "stream",
     "text": [
      "\u001b[32m[I 2021-07-26 14:59:26,080]\u001b[0m Trial 87 finished with value: -0.9285187074055995 and parameters: {'max_depth': 9, 'min_child_weight': 20, 'subsample': 0.8, 'colsample_bytree': 0.8, 'reg_lambda': 0.373598337799171, 'reg_alpha': 0.6999583489896881, 'feature_fraction': 0.5128015146711244, 'bagging_fraction': 0.8067880740526381, 'bagging_freq': 20, 'num_leaves': 498, 'min_child_samples': 11}. Best is trial 57 with value: -0.9261387611217992.\u001b[0m\n"
     ]
    },
    {
     "name": "stdout",
     "output_type": "stream",
     "text": [
      "Early stopping, best iteration is:\n",
      "[56]\ttraining's l1: 1.0086\tvalid_1's l1: 0.928525\n",
      "[LightGBM] [Warning] feature_fraction is set=0.6681268007082287, colsample_bytree=0.7 will be ignored. Current value: feature_fraction=0.6681268007082287\n",
      "[LightGBM] [Warning] bagging_fraction is set=0.9418072298793294, subsample=0.9 will be ignored. Current value: bagging_fraction=0.9418072298793294\n",
      "[LightGBM] [Warning] bagging_freq is set=13, subsample_freq=0 will be ignored. Current value: bagging_freq=13\n",
      "Training until validation scores don't improve for 100 rounds\n",
      "[100]\ttraining's l1: 0.998015\tvalid_1's l1: 0.929147\n",
      "[200]\ttraining's l1: 0.989701\tvalid_1's l1: 0.928618\n"
     ]
    },
    {
     "name": "stderr",
     "output_type": "stream",
     "text": [
      "\u001b[32m[I 2021-07-26 14:59:41,000]\u001b[0m Trial 88 finished with value: -0.9278931785526923 and parameters: {'max_depth': 10, 'min_child_weight': 10, 'subsample': 0.9, 'colsample_bytree': 0.7, 'reg_lambda': 7.677552319020361, 'reg_alpha': 0.07024751581537547, 'feature_fraction': 0.6681268007082287, 'bagging_fraction': 0.9418072298793294, 'bagging_freq': 13, 'num_leaves': 536, 'min_child_samples': 23}. Best is trial 57 with value: -0.9261387611217992.\u001b[0m\n"
     ]
    },
    {
     "name": "stdout",
     "output_type": "stream",
     "text": [
      "Early stopping, best iteration is:\n",
      "[184]\ttraining's l1: 0.990153\tvalid_1's l1: 0.927954\n",
      "[LightGBM] [Warning] feature_fraction is set=0.6282764037153001, colsample_bytree=0.7 will be ignored. Current value: feature_fraction=0.6282764037153001\n",
      "[LightGBM] [Warning] bagging_fraction is set=0.8710874815285692, subsample=0.9 will be ignored. Current value: bagging_fraction=0.8710874815285692\n",
      "[LightGBM] [Warning] bagging_freq is set=15, subsample_freq=0 will be ignored. Current value: bagging_freq=15\n",
      "Training until validation scores don't improve for 100 rounds\n",
      "[100]\ttraining's l1: 1.01162\tvalid_1's l1: 0.927472\n"
     ]
    },
    {
     "name": "stderr",
     "output_type": "stream",
     "text": [
      "\u001b[32m[I 2021-07-26 14:59:49,353]\u001b[0m Trial 89 finished with value: -0.9273364100968801 and parameters: {'max_depth': 8, 'min_child_weight': 13, 'subsample': 0.9, 'colsample_bytree': 0.7, 'reg_lambda': 0.8099445330262245, 'reg_alpha': 4.859827635267665, 'feature_fraction': 0.6282764037153001, 'bagging_fraction': 0.8710874815285692, 'bagging_freq': 15, 'num_leaves': 736, 'min_child_samples': 48}. Best is trial 57 with value: -0.9261387611217992.\u001b[0m\n"
     ]
    },
    {
     "name": "stdout",
     "output_type": "stream",
     "text": [
      "[200]\ttraining's l1: 1.00652\tvalid_1's l1: 0.928718\n",
      "Early stopping, best iteration is:\n",
      "[102]\ttraining's l1: 1.01144\tvalid_1's l1: 0.927344\n",
      "[LightGBM] [Warning] feature_fraction is set=0.5935926809555442, colsample_bytree=0.7 will be ignored. Current value: feature_fraction=0.5935926809555442\n",
      "[LightGBM] [Warning] bagging_fraction is set=0.847885965048974, subsample=0.9 will be ignored. Current value: bagging_fraction=0.847885965048974\n",
      "[LightGBM] [Warning] bagging_freq is set=14, subsample_freq=0 will be ignored. Current value: bagging_freq=14\n",
      "Training until validation scores don't improve for 100 rounds\n",
      "[100]\ttraining's l1: 0.996779\tvalid_1's l1: 0.934189\n"
     ]
    },
    {
     "name": "stderr",
     "output_type": "stream",
     "text": [
      "\u001b[32m[I 2021-07-26 15:00:00,055]\u001b[0m Trial 90 finished with value: -0.9328401399419595 and parameters: {'max_depth': 11, 'min_child_weight': 9, 'subsample': 0.9, 'colsample_bytree': 0.7, 'reg_lambda': 0.1987497818525491, 'reg_alpha': 30.464317520078176, 'feature_fraction': 0.5935926809555442, 'bagging_fraction': 0.847885965048974, 'bagging_freq': 14, 'num_leaves': 746, 'min_child_samples': 48}. Best is trial 57 with value: -0.9261387611217992.\u001b[0m\n"
     ]
    },
    {
     "name": "stdout",
     "output_type": "stream",
     "text": [
      "Early stopping, best iteration is:\n",
      "[33]\ttraining's l1: 1.0128\tvalid_1's l1: 0.93284\n",
      "[LightGBM] [Warning] feature_fraction is set=0.6325355729120397, colsample_bytree=0.7 will be ignored. Current value: feature_fraction=0.6325355729120397\n",
      "[LightGBM] [Warning] bagging_fraction is set=0.870949062195924, subsample=0.9 will be ignored. Current value: bagging_fraction=0.870949062195924\n",
      "[LightGBM] [Warning] bagging_freq is set=15, subsample_freq=0 will be ignored. Current value: bagging_freq=15\n",
      "Training until validation scores don't improve for 100 rounds\n",
      "[100]\ttraining's l1: 1.0071\tvalid_1's l1: 0.930433\n"
     ]
    },
    {
     "name": "stderr",
     "output_type": "stream",
     "text": [
      "\u001b[32m[I 2021-07-26 15:00:07,716]\u001b[0m Trial 91 finished with value: -0.9301528036965184 and parameters: {'max_depth': 8, 'min_child_weight': 13, 'subsample': 0.9, 'colsample_bytree': 0.7, 'reg_lambda': 0.8762548803065068, 'reg_alpha': 5.041202808541294, 'feature_fraction': 0.6325355729120397, 'bagging_fraction': 0.870949062195924, 'bagging_freq': 15, 'num_leaves': 640, 'min_child_samples': 54}. Best is trial 57 with value: -0.9261387611217992.\u001b[0m\n"
     ]
    },
    {
     "name": "stdout",
     "output_type": "stream",
     "text": [
      "Early stopping, best iteration is:\n",
      "[78]\ttraining's l1: 1.0098\tvalid_1's l1: 0.930156\n",
      "[LightGBM] [Warning] feature_fraction is set=0.4629905608792366, colsample_bytree=0.7 will be ignored. Current value: feature_fraction=0.4629905608792366\n",
      "[LightGBM] [Warning] bagging_fraction is set=0.9245700536350933, subsample=0.9 will be ignored. Current value: bagging_fraction=0.9245700536350933\n",
      "[LightGBM] [Warning] bagging_freq is set=16, subsample_freq=0 will be ignored. Current value: bagging_freq=16\n",
      "Training until validation scores don't improve for 100 rounds\n",
      "[100]\ttraining's l1: 1.00772\tvalid_1's l1: 0.92859\n"
     ]
    },
    {
     "name": "stderr",
     "output_type": "stream",
     "text": [
      "\u001b[32m[I 2021-07-26 15:00:16,808]\u001b[0m Trial 92 finished with value: -0.9279727815001587 and parameters: {'max_depth': 8, 'min_child_weight': 12, 'subsample': 0.9, 'colsample_bytree': 0.7, 'reg_lambda': 0.6158617579252609, 'reg_alpha': 11.143376751130155, 'feature_fraction': 0.4629905608792366, 'bagging_fraction': 0.9245700536350933, 'bagging_freq': 16, 'num_leaves': 588, 'min_child_samples': 45}. Best is trial 57 with value: -0.9261387611217992.\u001b[0m\n"
     ]
    },
    {
     "name": "stdout",
     "output_type": "stream",
     "text": [
      "Early stopping, best iteration is:\n",
      "[90]\ttraining's l1: 1.00936\tvalid_1's l1: 0.927989\n",
      "[LightGBM] [Warning] feature_fraction is set=0.7614548724271091, colsample_bytree=0.7 will be ignored. Current value: feature_fraction=0.7614548724271091\n",
      "[LightGBM] [Warning] bagging_fraction is set=0.9783172648584447, subsample=0.9 will be ignored. Current value: bagging_fraction=0.9783172648584447\n",
      "[LightGBM] [Warning] bagging_freq is set=17, subsample_freq=0 will be ignored. Current value: bagging_freq=17\n",
      "Training until validation scores don't improve for 100 rounds\n",
      "[100]\ttraining's l1: 1.00584\tvalid_1's l1: 0.93248\n"
     ]
    },
    {
     "name": "stderr",
     "output_type": "stream",
     "text": [
      "\u001b[32m[I 2021-07-26 15:00:24,832]\u001b[0m Trial 93 finished with value: -0.9301576580560215 and parameters: {'max_depth': 9, 'min_child_weight': 11, 'subsample': 0.9, 'colsample_bytree': 0.7, 'reg_lambda': 2.4285679045942583, 'reg_alpha': 1.6974946672687636, 'feature_fraction': 0.7614548724271091, 'bagging_fraction': 0.9783172648584447, 'bagging_freq': 17, 'num_leaves': 818, 'min_child_samples': 57}. Best is trial 57 with value: -0.9261387611217992.\u001b[0m\n"
     ]
    },
    {
     "name": "stdout",
     "output_type": "stream",
     "text": [
      "Early stopping, best iteration is:\n",
      "[46]\ttraining's l1: 1.01232\tvalid_1's l1: 0.930158\n",
      "[LightGBM] [Warning] feature_fraction is set=0.8014843816683146, colsample_bytree=0.7 will be ignored. Current value: feature_fraction=0.8014843816683146\n",
      "[LightGBM] [Warning] bagging_fraction is set=0.9509131398262287, subsample=0.9 will be ignored. Current value: bagging_fraction=0.9509131398262287\n",
      "[LightGBM] [Warning] bagging_freq is set=18, subsample_freq=0 will be ignored. Current value: bagging_freq=18\n",
      "Training until validation scores don't improve for 100 rounds\n",
      "[100]\ttraining's l1: 1.02756\tvalid_1's l1: 0.936292\n",
      "[200]\ttraining's l1: 1.02491\tvalid_1's l1: 0.934087\n",
      "[300]\ttraining's l1: 1.02096\tvalid_1's l1: 0.930722\n",
      "[400]\ttraining's l1: 1.01872\tvalid_1's l1: 0.929773\n",
      "[500]\ttraining's l1: 1.01736\tvalid_1's l1: 0.928941\n"
     ]
    },
    {
     "name": "stderr",
     "output_type": "stream",
     "text": [
      "\u001b[32m[I 2021-07-26 15:00:40,792]\u001b[0m Trial 94 finished with value: -0.9286733069405612 and parameters: {'max_depth': 5, 'min_child_weight': 13, 'subsample': 0.9, 'colsample_bytree': 0.7, 'reg_lambda': 4.791634891277835, 'reg_alpha': 0.8816049572291599, 'feature_fraction': 0.8014843816683146, 'bagging_fraction': 0.9509131398262287, 'bagging_freq': 18, 'num_leaves': 660, 'min_child_samples': 13}. Best is trial 57 with value: -0.9261387611217992.\u001b[0m\n"
     ]
    },
    {
     "name": "stdout",
     "output_type": "stream",
     "text": [
      "Early stopping, best iteration is:\n",
      "[439]\ttraining's l1: 1.01762\tvalid_1's l1: 0.9287\n",
      "[LightGBM] [Warning] feature_fraction is set=0.7382116723944607, colsample_bytree=0.7 will be ignored. Current value: feature_fraction=0.7382116723944607\n",
      "[LightGBM] [Warning] bagging_fraction is set=0.9023580333745539, subsample=0.9 will be ignored. Current value: bagging_fraction=0.9023580333745539\n",
      "[LightGBM] [Warning] bagging_freq is set=13, subsample_freq=0 will be ignored. Current value: bagging_freq=13\n",
      "Training until validation scores don't improve for 100 rounds\n",
      "[100]\ttraining's l1: 1.01717\tvalid_1's l1: 0.931535\n",
      "[200]\ttraining's l1: 1.01224\tvalid_1's l1: 0.930491\n"
     ]
    },
    {
     "name": "stderr",
     "output_type": "stream",
     "text": [
      "\u001b[32m[I 2021-07-26 15:00:49,592]\u001b[0m Trial 95 finished with value: -0.9294104843561132 and parameters: {'max_depth': 7, 'min_child_weight': 14, 'subsample': 0.9, 'colsample_bytree': 0.7, 'reg_lambda': 1.4572873964455046, 'reg_alpha': 2.9131449289527853, 'feature_fraction': 0.7382116723944607, 'bagging_fraction': 0.9023580333745539, 'bagging_freq': 13, 'num_leaves': 719, 'min_child_samples': 86}. Best is trial 57 with value: -0.9261387611217992.\u001b[0m\n"
     ]
    },
    {
     "name": "stdout",
     "output_type": "stream",
     "text": [
      "Early stopping, best iteration is:\n",
      "[135]\ttraining's l1: 1.01396\tvalid_1's l1: 0.929433\n",
      "[LightGBM] [Warning] feature_fraction is set=0.5981164492504791, colsample_bytree=0.7 will be ignored. Current value: feature_fraction=0.5981164492504791\n",
      "[LightGBM] [Warning] bagging_fraction is set=0.8733112505972255, subsample=0.7 will be ignored. Current value: bagging_fraction=0.8733112505972255\n",
      "[LightGBM] [Warning] bagging_freq is set=15, subsample_freq=0 will be ignored. Current value: bagging_freq=15\n",
      "Training until validation scores don't improve for 100 rounds\n",
      "[100]\ttraining's l1: 0.995305\tvalid_1's l1: 0.93133\n"
     ]
    },
    {
     "name": "stderr",
     "output_type": "stream",
     "text": [
      "\u001b[32m[I 2021-07-26 15:01:00,075]\u001b[0m Trial 96 finished with value: -0.9295519730882323 and parameters: {'max_depth': 10, 'min_child_weight': 8, 'subsample': 0.7, 'colsample_bytree': 0.7, 'reg_lambda': 0.9130400726007829, 'reg_alpha': 0.4475485517489966, 'feature_fraction': 0.5981164492504791, 'bagging_fraction': 0.8733112505972255, 'bagging_freq': 15, 'num_leaves': 620, 'min_child_samples': 49}. Best is trial 57 with value: -0.9261387611217992.\u001b[0m\n"
     ]
    },
    {
     "name": "stdout",
     "output_type": "stream",
     "text": [
      "Early stopping, best iteration is:\n",
      "[44]\ttraining's l1: 1.00492\tvalid_1's l1: 0.929552\n",
      "[LightGBM] [Warning] feature_fraction is set=0.41978914817813606, colsample_bytree=0.8 will be ignored. Current value: feature_fraction=0.41978914817813606\n",
      "[LightGBM] [Warning] bagging_fraction is set=0.9192183139786422, subsample=0.9 will be ignored. Current value: bagging_fraction=0.9192183139786422\n",
      "[LightGBM] [Warning] bagging_freq is set=16, subsample_freq=0 will be ignored. Current value: bagging_freq=16\n",
      "Training until validation scores don't improve for 100 rounds\n",
      "[100]\ttraining's l1: 1.00738\tvalid_1's l1: 0.93042\n"
     ]
    },
    {
     "name": "stderr",
     "output_type": "stream",
     "text": [
      "\u001b[32m[I 2021-07-26 15:01:07,529]\u001b[0m Trial 97 finished with value: -0.929503466663588 and parameters: {'max_depth': 8, 'min_child_weight': 12, 'subsample': 0.9, 'colsample_bytree': 0.8, 'reg_lambda': 0.44101446867797467, 'reg_alpha': 8.090429306793, 'feature_fraction': 0.41978914817813606, 'bagging_fraction': 0.9192183139786422, 'bagging_freq': 16, 'num_leaves': 556, 'min_child_samples': 37}. Best is trial 57 with value: -0.9261387611217992.\u001b[0m\n"
     ]
    },
    {
     "name": "stdout",
     "output_type": "stream",
     "text": [
      "Early stopping, best iteration is:\n",
      "[55]\ttraining's l1: 1.01405\tvalid_1's l1: 0.929512\n",
      "[LightGBM] [Warning] feature_fraction is set=0.488837487434588, colsample_bytree=0.7 will be ignored. Current value: feature_fraction=0.488837487434588\n",
      "[LightGBM] [Warning] bagging_fraction is set=0.5678552706100601, subsample=0.8 will be ignored. Current value: bagging_fraction=0.5678552706100601\n",
      "[LightGBM] [Warning] bagging_freq is set=19, subsample_freq=0 will be ignored. Current value: bagging_freq=19\n",
      "Training until validation scores don't improve for 100 rounds\n",
      "[100]\ttraining's l1: 0.992733\tvalid_1's l1: 0.930623\n"
     ]
    },
    {
     "name": "stderr",
     "output_type": "stream",
     "text": [
      "\u001b[32m[I 2021-07-26 15:01:15,427]\u001b[0m Trial 98 finished with value: -0.9289438599969085 and parameters: {'max_depth': 12, 'min_child_weight': 11, 'subsample': 0.8, 'colsample_bytree': 0.7, 'reg_lambda': 0.2788928761056203, 'reg_alpha': 0.1385268929052667, 'feature_fraction': 0.488837487434588, 'bagging_fraction': 0.5678552706100601, 'bagging_freq': 19, 'num_leaves': 690, 'min_child_samples': 82}. Best is trial 57 with value: -0.9261387611217992.\u001b[0m\n"
     ]
    },
    {
     "name": "stdout",
     "output_type": "stream",
     "text": [
      "Early stopping, best iteration is:\n",
      "[30]\ttraining's l1: 1.00756\tvalid_1's l1: 0.928944\n",
      "[LightGBM] [Warning] feature_fraction is set=0.7017936321948014, colsample_bytree=0.7 will be ignored. Current value: feature_fraction=0.7017936321948014\n",
      "[LightGBM] [Warning] bagging_fraction is set=0.9866025957825328, subsample=0.9 will be ignored. Current value: bagging_fraction=0.9866025957825328\n",
      "[LightGBM] [Warning] bagging_freq is set=14, subsample_freq=0 will be ignored. Current value: bagging_freq=14\n",
      "Training until validation scores don't improve for 100 rounds\n",
      "[100]\ttraining's l1: 0.998026\tvalid_1's l1: 0.933008\n"
     ]
    },
    {
     "name": "stderr",
     "output_type": "stream",
     "text": [
      "\u001b[32m[I 2021-07-26 15:01:25,193]\u001b[0m Trial 99 finished with value: -0.9312749383462882 and parameters: {'max_depth': 11, 'min_child_weight': 8, 'subsample': 0.9, 'colsample_bytree': 0.7, 'reg_lambda': 1.9596635929709765, 'reg_alpha': 18.961046246511902, 'feature_fraction': 0.7017936321948014, 'bagging_fraction': 0.9866025957825328, 'bagging_freq': 14, 'num_leaves': 849, 'min_child_samples': 71}. Best is trial 57 with value: -0.9261387611217992.\u001b[0m\n",
      "\u001b[32m[I 2021-07-26 15:01:25,195]\u001b[0m A new study created in memory with name: no-name-28aefe5c-2ba5-46d4-a281-85edbe7829b8\u001b[0m\n"
     ]
    },
    {
     "name": "stdout",
     "output_type": "stream",
     "text": [
      "Early stopping, best iteration is:\n",
      "[53]\ttraining's l1: 1.00432\tvalid_1's l1: 0.931277\n",
      "[LightGBM] [Warning] feature_fraction is set=0.9416068071600718, colsample_bytree=0.5 will be ignored. Current value: feature_fraction=0.9416068071600718\n",
      "[LightGBM] [Warning] bagging_fraction is set=0.8356280346220564, subsample=0.7 will be ignored. Current value: bagging_fraction=0.8356280346220564\n",
      "[LightGBM] [Warning] bagging_freq is set=16, subsample_freq=0 will be ignored. Current value: bagging_freq=16\n",
      "Training until validation scores don't improve for 100 rounds\n",
      "[100]\ttraining's l1: 0.902507\tvalid_1's l1: 1.54876\n"
     ]
    },
    {
     "name": "stderr",
     "output_type": "stream",
     "text": [
      "\u001b[32m[I 2021-07-26 15:01:35,135]\u001b[0m Trial 0 finished with value: -1.5485983676675188 and parameters: {'max_depth': 8, 'min_child_weight': 3, 'subsample': 0.7, 'colsample_bytree': 0.5, 'reg_lambda': 87.88090097015613, 'reg_alpha': 0.030724814755407653, 'feature_fraction': 0.9416068071600718, 'bagging_fraction': 0.8356280346220564, 'bagging_freq': 16, 'num_leaves': 270, 'min_child_samples': 36}. Best is trial 0 with value: -1.5485983676675188.\u001b[0m\n"
     ]
    },
    {
     "name": "stdout",
     "output_type": "stream",
     "text": [
      "[200]\ttraining's l1: 0.894785\tvalid_1's l1: 1.55036\n",
      "Early stopping, best iteration is:\n",
      "[102]\ttraining's l1: 0.902378\tvalid_1's l1: 1.54864\n",
      "[LightGBM] [Warning] feature_fraction is set=0.48594171827520083, colsample_bytree=0.5 will be ignored. Current value: feature_fraction=0.48594171827520083\n",
      "[LightGBM] [Warning] bagging_fraction is set=0.49664596052908483, subsample=0.7 will be ignored. Current value: bagging_fraction=0.49664596052908483\n",
      "[LightGBM] [Warning] bagging_freq is set=10, subsample_freq=0 will be ignored. Current value: bagging_freq=10\n",
      "Training until validation scores don't improve for 100 rounds\n",
      "[100]\ttraining's l1: 0.939285\tvalid_1's l1: 1.56075\n",
      "[200]\ttraining's l1: 0.897862\tvalid_1's l1: 1.55325\n"
     ]
    },
    {
     "name": "stderr",
     "output_type": "stream",
     "text": [
      "\u001b[32m[I 2021-07-26 15:01:44,186]\u001b[0m Trial 1 finished with value: -1.5499550269156512 and parameters: {'max_depth': 13, 'min_child_weight': 12, 'subsample': 0.7, 'colsample_bytree': 0.5, 'reg_lambda': 0.009698878533760339, 'reg_alpha': 0.18918154939034795, 'feature_fraction': 0.48594171827520083, 'bagging_fraction': 0.49664596052908483, 'bagging_freq': 10, 'num_leaves': 85, 'min_child_samples': 27}. Best is trial 0 with value: -1.5485983676675188.\u001b[0m\n"
     ]
    },
    {
     "name": "stdout",
     "output_type": "stream",
     "text": [
      "Early stopping, best iteration is:\n",
      "[157]\ttraining's l1: 0.916424\tvalid_1's l1: 1.55006\n",
      "[LightGBM] [Warning] feature_fraction is set=0.757359734605705, colsample_bytree=0.5 will be ignored. Current value: feature_fraction=0.757359734605705\n",
      "[LightGBM] [Warning] bagging_fraction is set=0.2469874584241187, subsample=0.6 will be ignored. Current value: bagging_fraction=0.2469874584241187\n",
      "[LightGBM] [Warning] bagging_freq is set=16, subsample_freq=0 will be ignored. Current value: bagging_freq=16\n",
      "Training until validation scores don't improve for 100 rounds\n",
      "[100]\ttraining's l1: 0.943311\tvalid_1's l1: 1.56855\n",
      "[200]\ttraining's l1: 0.932481\tvalid_1's l1: 1.57153\n",
      "Early stopping, best iteration is:\n",
      "[114]\ttraining's l1: 0.94111\tvalid_1's l1: 1.56745\n"
     ]
    },
    {
     "name": "stderr",
     "output_type": "stream",
     "text": [
      "\u001b[32m[I 2021-07-26 15:01:48,813]\u001b[0m Trial 2 finished with value: -1.5672609939031044 and parameters: {'max_depth': 7, 'min_child_weight': 1, 'subsample': 0.6, 'colsample_bytree': 0.5, 'reg_lambda': 15.502218021029943, 'reg_alpha': 18.90741049990941, 'feature_fraction': 0.757359734605705, 'bagging_fraction': 0.2469874584241187, 'bagging_freq': 16, 'num_leaves': 105, 'min_child_samples': 10}. Best is trial 0 with value: -1.5485983676675188.\u001b[0m\n"
     ]
    },
    {
     "name": "stdout",
     "output_type": "stream",
     "text": [
      "[LightGBM] [Warning] feature_fraction is set=0.2342893832914662, colsample_bytree=0.8 will be ignored. Current value: feature_fraction=0.2342893832914662\n",
      "[LightGBM] [Warning] bagging_fraction is set=0.762551997036697, subsample=0.5 will be ignored. Current value: bagging_fraction=0.762551997036697\n",
      "[LightGBM] [Warning] bagging_freq is set=16, subsample_freq=0 will be ignored. Current value: bagging_freq=16\n",
      "Training until validation scores don't improve for 100 rounds\n",
      "[100]\ttraining's l1: 0.797976\tvalid_1's l1: 1.54842\n",
      "[200]\ttraining's l1: 0.745558\tvalid_1's l1: 1.54342\n"
     ]
    },
    {
     "name": "stderr",
     "output_type": "stream",
     "text": [
      "\u001b[32m[I 2021-07-26 15:02:04,896]\u001b[0m Trial 3 finished with value: -1.538020926100656 and parameters: {'max_depth': 19, 'min_child_weight': 10, 'subsample': 0.5, 'colsample_bytree': 0.8, 'reg_lambda': 0.7407376212913381, 'reg_alpha': 0.08965037554671149, 'feature_fraction': 0.2342893832914662, 'bagging_fraction': 0.762551997036697, 'bagging_freq': 16, 'num_leaves': 632, 'min_child_samples': 39}. Best is trial 3 with value: -1.538020926100656.\u001b[0m\n"
     ]
    },
    {
     "name": "stdout",
     "output_type": "stream",
     "text": [
      "Early stopping, best iteration is:\n",
      "[155]\ttraining's l1: 0.766722\tvalid_1's l1: 1.53821\n",
      "[LightGBM] [Warning] feature_fraction is set=0.4571254179826294, colsample_bytree=0.8 will be ignored. Current value: feature_fraction=0.4571254179826294\n",
      "[LightGBM] [Warning] bagging_fraction is set=0.8042779672898264, subsample=0.7 will be ignored. Current value: bagging_fraction=0.8042779672898264\n",
      "[LightGBM] [Warning] bagging_freq is set=4, subsample_freq=0 will be ignored. Current value: bagging_freq=4\n",
      "Training until validation scores don't improve for 100 rounds\n",
      "[100]\ttraining's l1: 0.884893\tvalid_1's l1: 1.56003\n",
      "[200]\ttraining's l1: 0.833639\tvalid_1's l1: 1.55442\n",
      "[300]\ttraining's l1: 0.785521\tvalid_1's l1: 1.54487\n"
     ]
    },
    {
     "name": "stderr",
     "output_type": "stream",
     "text": [
      "\u001b[32m[I 2021-07-26 15:02:22,919]\u001b[0m Trial 4 finished with value: -1.5397724241733541 and parameters: {'max_depth': 15, 'min_child_weight': 19, 'subsample': 0.7, 'colsample_bytree': 0.8, 'reg_lambda': 0.21970200290823147, 'reg_alpha': 0.18180736762802208, 'feature_fraction': 0.4571254179826294, 'bagging_fraction': 0.8042779672898264, 'bagging_freq': 4, 'num_leaves': 168, 'min_child_samples': 96}. Best is trial 3 with value: -1.538020926100656.\u001b[0m\n"
     ]
    },
    {
     "name": "stdout",
     "output_type": "stream",
     "text": [
      "Early stopping, best iteration is:\n",
      "[242]\ttraining's l1: 0.811924\tvalid_1's l1: 1.54033\n",
      "[LightGBM] [Warning] feature_fraction is set=0.7138795298925829, colsample_bytree=0.6 will be ignored. Current value: feature_fraction=0.7138795298925829\n",
      "[LightGBM] [Warning] bagging_fraction is set=0.8460071288115323, subsample=0.6 will be ignored. Current value: bagging_fraction=0.8460071288115323\n",
      "[LightGBM] [Warning] bagging_freq is set=20, subsample_freq=0 will be ignored. Current value: bagging_freq=20\n",
      "Training until validation scores don't improve for 100 rounds\n",
      "[100]\ttraining's l1: 1.11734\tvalid_1's l1: 1.69231\n",
      "[200]\ttraining's l1: 1.09955\tvalid_1's l1: 1.66544\n",
      "[300]\ttraining's l1: 1.08103\tvalid_1's l1: 1.63915\n",
      "[400]\ttraining's l1: 1.072\tvalid_1's l1: 1.63108\n",
      "[500]\ttraining's l1: 1.06355\tvalid_1's l1: 1.62147\n",
      "[600]\ttraining's l1: 1.05741\tvalid_1's l1: 1.61665\n",
      "[700]\ttraining's l1: 1.04956\tvalid_1's l1: 1.61073\n",
      "[800]\ttraining's l1: 1.04564\tvalid_1's l1: 1.60792\n",
      "[900]\ttraining's l1: 1.03926\tvalid_1's l1: 1.60389\n",
      "[1000]\ttraining's l1: 1.03558\tvalid_1's l1: 1.59906\n",
      "[1100]\ttraining's l1: 1.03249\tvalid_1's l1: 1.59312\n",
      "[1200]\ttraining's l1: 1.02827\tvalid_1's l1: 1.58859\n",
      "[1300]\ttraining's l1: 1.02612\tvalid_1's l1: 1.58512\n",
      "[1400]\ttraining's l1: 1.02376\tvalid_1's l1: 1.58495\n",
      "[1500]\ttraining's l1: 1.02166\tvalid_1's l1: 1.58052\n",
      "[1600]\ttraining's l1: 1.0194\tvalid_1's l1: 1.57864\n",
      "[1700]\ttraining's l1: 1.0176\tvalid_1's l1: 1.5787\n",
      "[1800]\ttraining's l1: 1.01526\tvalid_1's l1: 1.57732\n",
      "[1900]\ttraining's l1: 1.01281\tvalid_1's l1: 1.57703\n"
     ]
    },
    {
     "name": "stderr",
     "output_type": "stream",
     "text": [
      "\u001b[32m[I 2021-07-26 15:03:02,287]\u001b[0m Trial 5 finished with value: -1.5747945406656696 and parameters: {'max_depth': 2, 'min_child_weight': 15, 'subsample': 0.6, 'colsample_bytree': 0.6, 'reg_lambda': 835.6812781437164, 'reg_alpha': 64.45318654326674, 'feature_fraction': 0.7138795298925829, 'bagging_fraction': 0.8460071288115323, 'bagging_freq': 20, 'num_leaves': 692, 'min_child_samples': 5}. Best is trial 3 with value: -1.538020926100656.\u001b[0m\n"
     ]
    },
    {
     "name": "stdout",
     "output_type": "stream",
     "text": [
      "Early stopping, best iteration is:\n",
      "[1861]\ttraining's l1: 1.0142\tvalid_1's l1: 1.57592\n",
      "[LightGBM] [Warning] feature_fraction is set=0.6237596972998682, colsample_bytree=0.9 will be ignored. Current value: feature_fraction=0.6237596972998682\n",
      "[LightGBM] [Warning] bagging_fraction is set=0.31100848760540256, subsample=0.5 will be ignored. Current value: bagging_fraction=0.31100848760540256\n",
      "[LightGBM] [Warning] bagging_freq is set=11, subsample_freq=0 will be ignored. Current value: bagging_freq=11\n",
      "Training until validation scores don't improve for 100 rounds\n",
      "[100]\ttraining's l1: 1.03112\tvalid_1's l1: 1.5952\n",
      "[200]\ttraining's l1: 1.00699\tvalid_1's l1: 1.57757\n",
      "[300]\ttraining's l1: 0.988535\tvalid_1's l1: 1.57351\n",
      "[400]\ttraining's l1: 0.974071\tvalid_1's l1: 1.56826\n",
      "[500]\ttraining's l1: 0.961228\tvalid_1's l1: 1.5633\n"
     ]
    },
    {
     "name": "stderr",
     "output_type": "stream",
     "text": [
      "\u001b[32m[I 2021-07-26 15:03:11,735]\u001b[0m Trial 6 finished with value: -1.5594592811810608 and parameters: {'max_depth': 4, 'min_child_weight': 1, 'subsample': 0.5, 'colsample_bytree': 0.9, 'reg_lambda': 0.0010956790770059973, 'reg_alpha': 19.140036562105355, 'feature_fraction': 0.6237596972998682, 'bagging_fraction': 0.31100848760540256, 'bagging_freq': 11, 'num_leaves': 123, 'min_child_samples': 29}. Best is trial 3 with value: -1.538020926100656.\u001b[0m\n"
     ]
    },
    {
     "name": "stdout",
     "output_type": "stream",
     "text": [
      "Early stopping, best iteration is:\n",
      "[443]\ttraining's l1: 0.96877\tvalid_1's l1: 1.55992\n",
      "[LightGBM] [Warning] feature_fraction is set=0.8569501717689985, colsample_bytree=0.8 will be ignored. Current value: feature_fraction=0.8569501717689985\n",
      "[LightGBM] [Warning] bagging_fraction is set=0.7796207850385302, subsample=0.7 will be ignored. Current value: bagging_fraction=0.7796207850385302\n",
      "[LightGBM] [Warning] bagging_freq is set=5, subsample_freq=0 will be ignored. Current value: bagging_freq=5\n",
      "Training until validation scores don't improve for 100 rounds\n",
      "[100]\ttraining's l1: 0.985803\tvalid_1's l1: 1.57652\n",
      "[200]\ttraining's l1: 0.962518\tvalid_1's l1: 1.57106\n",
      "[300]\ttraining's l1: 0.91994\tvalid_1's l1: 1.56027\n",
      "[400]\ttraining's l1: 0.897382\tvalid_1's l1: 1.55728\n"
     ]
    },
    {
     "name": "stderr",
     "output_type": "stream",
     "text": [
      "\u001b[32m[I 2021-07-26 15:03:27,631]\u001b[0m Trial 7 finished with value: -1.5548164566792544 and parameters: {'max_depth': 12, 'min_child_weight': 15, 'subsample': 0.7, 'colsample_bytree': 0.8, 'reg_lambda': 0.0010381145451508107, 'reg_alpha': 0.07176064278651524, 'feature_fraction': 0.8569501717689985, 'bagging_fraction': 0.7796207850385302, 'bagging_freq': 5, 'num_leaves': 39, 'min_child_samples': 69}. Best is trial 3 with value: -1.538020926100656.\u001b[0m\n"
     ]
    },
    {
     "name": "stdout",
     "output_type": "stream",
     "text": [
      "Early stopping, best iteration is:\n",
      "[339]\ttraining's l1: 0.911063\tvalid_1's l1: 1.55497\n",
      "[LightGBM] [Warning] feature_fraction is set=0.7786780325072205, colsample_bytree=0.8 will be ignored. Current value: feature_fraction=0.7786780325072205\n",
      "[LightGBM] [Warning] bagging_fraction is set=0.7229910967249569, subsample=0.8 will be ignored. Current value: bagging_fraction=0.7229910967249569\n",
      "[LightGBM] [Warning] bagging_freq is set=3, subsample_freq=0 will be ignored. Current value: bagging_freq=3\n",
      "Training until validation scores don't improve for 100 rounds\n",
      "[100]\ttraining's l1: 0.865315\tvalid_1's l1: 1.54697\n",
      "[200]\ttraining's l1: 0.838958\tvalid_1's l1: 1.5411\n",
      "[300]\ttraining's l1: 0.826566\tvalid_1's l1: 1.5348\n",
      "[400]\ttraining's l1: 0.819659\tvalid_1's l1: 1.5352\n",
      "Early stopping, best iteration is:\n",
      "[328]\ttraining's l1: 0.824426\tvalid_1's l1: 1.53413\n"
     ]
    },
    {
     "name": "stderr",
     "output_type": "stream",
     "text": [
      "\u001b[32m[I 2021-07-26 15:03:50,327]\u001b[0m Trial 8 finished with value: -1.5340531010478105 and parameters: {'max_depth': 17, 'min_child_weight': 18, 'subsample': 0.8, 'colsample_bytree': 0.8, 'reg_lambda': 13.095623104099777, 'reg_alpha': 254.2477394439164, 'feature_fraction': 0.7786780325072205, 'bagging_fraction': 0.7229910967249569, 'bagging_freq': 3, 'num_leaves': 568, 'min_child_samples': 98}. Best is trial 8 with value: -1.5340531010478105.\u001b[0m\n"
     ]
    },
    {
     "name": "stdout",
     "output_type": "stream",
     "text": [
      "[LightGBM] [Warning] feature_fraction is set=0.941814097607931, colsample_bytree=0.9 will be ignored. Current value: feature_fraction=0.941814097607931\n",
      "[LightGBM] [Warning] bagging_fraction is set=0.8857251815101186, subsample=0.8 will be ignored. Current value: bagging_fraction=0.8857251815101186\n",
      "[LightGBM] [Warning] bagging_freq is set=7, subsample_freq=0 will be ignored. Current value: bagging_freq=7\n",
      "Training until validation scores don't improve for 100 rounds\n",
      "[100]\ttraining's l1: 0.888897\tvalid_1's l1: 1.5649\n"
     ]
    },
    {
     "name": "stderr",
     "output_type": "stream",
     "text": [
      "\u001b[32m[I 2021-07-26 15:04:01,444]\u001b[0m Trial 9 finished with value: -1.5637968661236363 and parameters: {'max_depth': 9, 'min_child_weight': 19, 'subsample': 0.8, 'colsample_bytree': 0.9, 'reg_lambda': 341.2719718029076, 'reg_alpha': 0.234202941923478, 'feature_fraction': 0.941814097607931, 'bagging_fraction': 0.8857251815101186, 'bagging_freq': 7, 'num_leaves': 194, 'min_child_samples': 70}. Best is trial 8 with value: -1.5340531010478105.\u001b[0m\n"
     ]
    },
    {
     "name": "stdout",
     "output_type": "stream",
     "text": [
      "Early stopping, best iteration is:\n",
      "[87]\ttraining's l1: 0.894624\tvalid_1's l1: 1.56384\n",
      "[LightGBM] [Warning] feature_fraction is set=0.2395708985624892, colsample_bytree=0.7 will be ignored. Current value: feature_fraction=0.2395708985624892\n",
      "[LightGBM] [Warning] bagging_fraction is set=0.5875088690199147, subsample=0.9 will be ignored. Current value: bagging_fraction=0.5875088690199147\n",
      "[LightGBM] [Warning] bagging_freq is set=1, subsample_freq=0 will be ignored. Current value: bagging_freq=1\n",
      "Training until validation scores don't improve for 100 rounds\n",
      "[100]\ttraining's l1: 0.97939\tvalid_1's l1: 1.57013\n",
      "[200]\ttraining's l1: 0.95988\tvalid_1's l1: 1.55812\n",
      "[300]\ttraining's l1: 0.95296\tvalid_1's l1: 1.55494\n",
      "[400]\ttraining's l1: 0.949481\tvalid_1's l1: 1.55288\n",
      "[500]\ttraining's l1: 0.947188\tvalid_1's l1: 1.55288\n"
     ]
    },
    {
     "name": "stderr",
     "output_type": "stream",
     "text": [
      "\u001b[32m[I 2021-07-26 15:04:14,993]\u001b[0m Trial 10 finished with value: -1.551968925763354 and parameters: {'max_depth': 20, 'min_child_weight': 5, 'subsample': 0.9, 'colsample_bytree': 0.7, 'reg_lambda': 8.31390453952193, 'reg_alpha': 888.3027068623051, 'feature_fraction': 0.2395708985624892, 'bagging_fraction': 0.5875088690199147, 'bagging_freq': 1, 'num_leaves': 938, 'min_child_samples': 97}. Best is trial 8 with value: -1.5340531010478105.\u001b[0m\n"
     ]
    },
    {
     "name": "stdout",
     "output_type": "stream",
     "text": [
      "Early stopping, best iteration is:\n",
      "[431]\ttraining's l1: 0.94835\tvalid_1's l1: 1.55184\n",
      "[LightGBM] [Warning] feature_fraction is set=0.25183186849177325, colsample_bytree=0.8 will be ignored. Current value: feature_fraction=0.25183186849177325\n",
      "[LightGBM] [Warning] bagging_fraction is set=0.6645831816827446, subsample=0.9 will be ignored. Current value: bagging_fraction=0.6645831816827446\n",
      "[LightGBM] [Warning] bagging_freq is set=16, subsample_freq=0 will be ignored. Current value: bagging_freq=16\n",
      "Training until validation scores don't improve for 100 rounds\n",
      "[100]\ttraining's l1: 0.79631\tvalid_1's l1: 1.55222\n",
      "[200]\ttraining's l1: 0.750892\tvalid_1's l1: 1.55129\n"
     ]
    },
    {
     "name": "stderr",
     "output_type": "stream",
     "text": [
      "\u001b[32m[I 2021-07-26 15:04:30,068]\u001b[0m Trial 11 finished with value: -1.5485608382183365 and parameters: {'max_depth': 20, 'min_child_weight': 8, 'subsample': 0.9, 'colsample_bytree': 0.8, 'reg_lambda': 1.1054988359974915, 'reg_alpha': 0.007852598679056928, 'feature_fraction': 0.25183186849177325, 'bagging_fraction': 0.6645831816827446, 'bagging_freq': 16, 'num_leaves': 602, 'min_child_samples': 54}. Best is trial 8 with value: -1.5340531010478105.\u001b[0m\n"
     ]
    },
    {
     "name": "stdout",
     "output_type": "stream",
     "text": [
      "Early stopping, best iteration is:\n",
      "[155]\ttraining's l1: 0.769997\tvalid_1's l1: 1.54874\n",
      "[LightGBM] [Warning] feature_fraction is set=0.4417323183094287, colsample_bytree=0.7 will be ignored. Current value: feature_fraction=0.4417323183094287\n",
      "[LightGBM] [Warning] bagging_fraction is set=0.9886854757158008, subsample=0.8 will be ignored. Current value: bagging_fraction=0.9886854757158008\n",
      "[LightGBM] [Warning] bagging_freq is set=20, subsample_freq=0 will be ignored. Current value: bagging_freq=20\n",
      "Training until validation scores don't improve for 100 rounds\n",
      "[100]\ttraining's l1: 0.80589\tvalid_1's l1: 1.54769\n",
      "[200]\ttraining's l1: 0.763283\tvalid_1's l1: 1.54087\n"
     ]
    },
    {
     "name": "stderr",
     "output_type": "stream",
     "text": [
      "\u001b[32m[I 2021-07-26 15:04:51,077]\u001b[0m Trial 12 finished with value: -1.5404971248849249 and parameters: {'max_depth': 17, 'min_child_weight': 10, 'subsample': 0.8, 'colsample_bytree': 0.7, 'reg_lambda': 0.18868066588420462, 'reg_alpha': 0.0015046943073102085, 'feature_fraction': 0.4417323183094287, 'bagging_fraction': 0.9886854757158008, 'bagging_freq': 20, 'num_leaves': 421, 'min_child_samples': 50}. Best is trial 8 with value: -1.5340531010478105.\u001b[0m\n"
     ]
    },
    {
     "name": "stdout",
     "output_type": "stream",
     "text": [
      "Early stopping, best iteration is:\n",
      "[197]\ttraining's l1: 0.765967\tvalid_1's l1: 1.54056\n",
      "[LightGBM] [Warning] feature_fraction is set=0.7541510562245947, colsample_bytree=0.8 will be ignored. Current value: feature_fraction=0.7541510562245947\n",
      "[LightGBM] [Warning] bagging_fraction is set=0.6929720135665179, subsample=0.5 will be ignored. Current value: bagging_fraction=0.6929720135665179\n",
      "[LightGBM] [Warning] bagging_freq is set=12, subsample_freq=0 will be ignored. Current value: bagging_freq=12\n",
      "Training until validation scores don't improve for 100 rounds\n",
      "[100]\ttraining's l1: 0.748316\tvalid_1's l1: 1.53227\n"
     ]
    },
    {
     "name": "stderr",
     "output_type": "stream",
     "text": [
      "\u001b[32m[I 2021-07-26 15:05:07,875]\u001b[0m Trial 13 finished with value: -1.5308182808548014 and parameters: {'max_depth': 18, 'min_child_weight': 13, 'subsample': 0.5, 'colsample_bytree': 0.8, 'reg_lambda': 2.4111599881906107, 'reg_alpha': 2.1478115573180157, 'feature_fraction': 0.7541510562245947, 'bagging_fraction': 0.6929720135665179, 'bagging_freq': 12, 'num_leaves': 824, 'min_child_samples': 81}. Best is trial 13 with value: -1.5308182808548014.\u001b[0m\n"
     ]
    },
    {
     "name": "stdout",
     "output_type": "stream",
     "text": [
      "Early stopping, best iteration is:\n",
      "[87]\ttraining's l1: 0.756382\tvalid_1's l1: 1.53091\n",
      "[LightGBM] [Warning] feature_fraction is set=0.826815662922115, colsample_bytree=0.9 will be ignored. Current value: feature_fraction=0.826815662922115\n",
      "[LightGBM] [Warning] bagging_fraction is set=0.5172351799356593, subsample=0.8 will be ignored. Current value: bagging_fraction=0.5172351799356593\n",
      "[LightGBM] [Warning] bagging_freq is set=12, subsample_freq=0 will be ignored. Current value: bagging_freq=12\n",
      "Training until validation scores don't improve for 100 rounds\n",
      "[100]\ttraining's l1: 0.948535\tvalid_1's l1: 1.56832\n",
      "[200]\ttraining's l1: 0.931033\tvalid_1's l1: 1.55123\n",
      "[300]\ttraining's l1: 0.923803\tvalid_1's l1: 1.54817\n",
      "[400]\ttraining's l1: 0.922698\tvalid_1's l1: 1.54837\n",
      "Early stopping, best iteration is:\n",
      "[309]\ttraining's l1: 0.923392\tvalid_1's l1: 1.54779\n"
     ]
    },
    {
     "name": "stderr",
     "output_type": "stream",
     "text": [
      "\u001b[32m[I 2021-07-26 15:05:18,801]\u001b[0m Trial 14 finished with value: -1.5476877982780253 and parameters: {'max_depth': 17, 'min_child_weight': 16, 'subsample': 0.8, 'colsample_bytree': 0.9, 'reg_lambda': 7.0789316901085835, 'reg_alpha': 795.4732740386443, 'feature_fraction': 0.826815662922115, 'bagging_fraction': 0.5172351799356593, 'bagging_freq': 12, 'num_leaves': 879, 'min_child_samples': 84}. Best is trial 13 with value: -1.5308182808548014.\u001b[0m\n"
     ]
    },
    {
     "name": "stdout",
     "output_type": "stream",
     "text": [
      "[LightGBM] [Warning] feature_fraction is set=0.6245776695633476, colsample_bytree=0.7 will be ignored. Current value: feature_fraction=0.6245776695633476\n",
      "[LightGBM] [Warning] bagging_fraction is set=0.6670434481865305, subsample=0.6 will be ignored. Current value: bagging_fraction=0.6670434481865305\n",
      "[LightGBM] [Warning] bagging_freq is set=1, subsample_freq=0 will be ignored. Current value: bagging_freq=1\n",
      "Training until validation scores don't improve for 100 rounds\n",
      "[100]\ttraining's l1: 0.774377\tvalid_1's l1: 1.54032\n"
     ]
    },
    {
     "name": "stderr",
     "output_type": "stream",
     "text": [
      "\u001b[32m[I 2021-07-26 15:05:34,516]\u001b[0m Trial 15 finished with value: -1.538446017739033 and parameters: {'max_depth': 15, 'min_child_weight': 20, 'subsample': 0.6, 'colsample_bytree': 0.7, 'reg_lambda': 43.75941593968301, 'reg_alpha': 3.5369221343524595, 'feature_fraction': 0.6245776695633476, 'bagging_fraction': 0.6670434481865305, 'bagging_freq': 1, 'num_leaves': 803, 'min_child_samples': 83}. Best is trial 13 with value: -1.5308182808548014.\u001b[0m\n"
     ]
    },
    {
     "name": "stdout",
     "output_type": "stream",
     "text": [
      "Early stopping, best iteration is:\n",
      "[85]\ttraining's l1: 0.782652\tvalid_1's l1: 1.53856\n",
      "[LightGBM] [Warning] feature_fraction is set=0.700305265152079, colsample_bytree=0.8 will be ignored. Current value: feature_fraction=0.700305265152079\n",
      "[LightGBM] [Warning] bagging_fraction is set=0.429023744425926, subsample=0.8 will be ignored. Current value: bagging_fraction=0.429023744425926\n",
      "[LightGBM] [Warning] bagging_freq is set=8, subsample_freq=0 will be ignored. Current value: bagging_freq=8\n",
      "Training until validation scores don't improve for 100 rounds\n",
      "[100]\ttraining's l1: 0.85782\tvalid_1's l1: 1.55194\n",
      "[200]\ttraining's l1: 0.832961\tvalid_1's l1: 1.54513\n"
     ]
    },
    {
     "name": "stderr",
     "output_type": "stream",
     "text": [
      "\u001b[32m[I 2021-07-26 15:05:44,536]\u001b[0m Trial 16 finished with value: -1.5437577800274809 and parameters: {'max_depth': 17, 'min_child_weight': 13, 'subsample': 0.8, 'colsample_bytree': 0.8, 'reg_lambda': 1.8350787677827354, 'reg_alpha': 118.82855350204042, 'feature_fraction': 0.700305265152079, 'bagging_fraction': 0.429023744425926, 'bagging_freq': 8, 'num_leaves': 433, 'min_child_samples': 100}. Best is trial 13 with value: -1.5308182808548014.\u001b[0m\n"
     ]
    },
    {
     "name": "stdout",
     "output_type": "stream",
     "text": [
      "Early stopping, best iteration is:\n",
      "[129]\ttraining's l1: 0.845593\tvalid_1's l1: 1.54379\n",
      "[LightGBM] [Warning] feature_fraction is set=0.9918883408853404, colsample_bytree=0.6 will be ignored. Current value: feature_fraction=0.9918883408853404\n",
      "[LightGBM] [Warning] bagging_fraction is set=0.9981668131667119, subsample=0.9 will be ignored. Current value: bagging_fraction=0.9981668131667119\n",
      "[LightGBM] [Warning] bagging_freq is set=12, subsample_freq=0 will be ignored. Current value: bagging_freq=12\n",
      "Training until validation scores don't improve for 100 rounds\n",
      "[100]\ttraining's l1: 0.756882\tvalid_1's l1: 1.54467\n"
     ]
    },
    {
     "name": "stderr",
     "output_type": "stream",
     "text": [
      "\u001b[32m[I 2021-07-26 15:06:04,720]\u001b[0m Trial 17 finished with value: -1.537087697947279 and parameters: {'max_depth': 14, 'min_child_weight': 18, 'subsample': 0.9, 'colsample_bytree': 0.6, 'reg_lambda': 0.03885194145848964, 'reg_alpha': 1.6113998116490738, 'feature_fraction': 0.9918883408853404, 'bagging_fraction': 0.9981668131667119, 'bagging_freq': 12, 'num_leaves': 811, 'min_child_samples': 81}. Best is trial 13 with value: -1.5308182808548014.\u001b[0m\n"
     ]
    },
    {
     "name": "stdout",
     "output_type": "stream",
     "text": [
      "Early stopping, best iteration is:\n",
      "[82]\ttraining's l1: 0.773769\tvalid_1's l1: 1.53712\n",
      "[LightGBM] [Warning] feature_fraction is set=0.8313653533936685, colsample_bytree=0.9 will be ignored. Current value: feature_fraction=0.8313653533936685\n",
      "[LightGBM] [Warning] bagging_fraction is set=0.6930016347833483, subsample=0.5 will be ignored. Current value: bagging_fraction=0.6930016347833483\n",
      "[LightGBM] [Warning] bagging_freq is set=14, subsample_freq=0 will be ignored. Current value: bagging_freq=14\n",
      "Training until validation scores don't improve for 100 rounds\n",
      "[100]\ttraining's l1: 0.884178\tvalid_1's l1: 1.54818\n",
      "[200]\ttraining's l1: 0.854957\tvalid_1's l1: 1.54812\n",
      "[300]\ttraining's l1: 0.842035\tvalid_1's l1: 1.54326\n",
      "[400]\ttraining's l1: 0.833235\tvalid_1's l1: 1.54586\n"
     ]
    },
    {
     "name": "stderr",
     "output_type": "stream",
     "text": [
      "\u001b[32m[I 2021-07-26 15:06:22,551]\u001b[0m Trial 18 finished with value: -1.5426685031800942 and parameters: {'max_depth': 11, 'min_child_weight': 13, 'subsample': 0.5, 'colsample_bytree': 0.9, 'reg_lambda': 142.45169219861313, 'reg_alpha': 220.29431649372322, 'feature_fraction': 0.8313653533936685, 'bagging_fraction': 0.6930016347833483, 'bagging_freq': 14, 'num_leaves': 987, 'min_child_samples': 69}. Best is trial 13 with value: -1.5308182808548014.\u001b[0m\n"
     ]
    },
    {
     "name": "stdout",
     "output_type": "stream",
     "text": [
      "Early stopping, best iteration is:\n",
      "[309]\ttraining's l1: 0.841465\tvalid_1's l1: 1.54274\n",
      "[LightGBM] [Warning] feature_fraction is set=0.5211969415494642, colsample_bytree=0.6 will be ignored. Current value: feature_fraction=0.5211969415494642\n",
      "[LightGBM] [Warning] bagging_fraction is set=0.9111547254520965, subsample=0.6 will be ignored. Current value: bagging_fraction=0.9111547254520965\n",
      "[LightGBM] [Warning] bagging_freq is set=3, subsample_freq=0 will be ignored. Current value: bagging_freq=3\n",
      "Training until validation scores don't improve for 100 rounds\n",
      "[100]\ttraining's l1: 0.781953\tvalid_1's l1: 1.53802\n",
      "[200]\ttraining's l1: 0.745926\tvalid_1's l1: 1.54126\n"
     ]
    },
    {
     "name": "stderr",
     "output_type": "stream",
     "text": [
      "\u001b[32m[I 2021-07-26 15:06:41,227]\u001b[0m Trial 19 finished with value: -1.5369287610014264 and parameters: {'max_depth': 18, 'min_child_weight': 17, 'subsample': 0.6, 'colsample_bytree': 0.6, 'reg_lambda': 4.022200573145251, 'reg_alpha': 8.128454563301593, 'feature_fraction': 0.5211969415494642, 'bagging_fraction': 0.9111547254520965, 'bagging_freq': 3, 'num_leaves': 513, 'min_child_samples': 90}. Best is trial 13 with value: -1.5308182808548014.\u001b[0m\n"
     ]
    },
    {
     "name": "stdout",
     "output_type": "stream",
     "text": [
      "Early stopping, best iteration is:\n",
      "[106]\ttraining's l1: 0.780159\tvalid_1's l1: 1.53703\n",
      "[LightGBM] [Warning] feature_fraction is set=0.7746136773629172, colsample_bytree=0.8 will be ignored. Current value: feature_fraction=0.7746136773629172\n",
      "[LightGBM] [Warning] bagging_fraction is set=0.5748908475848733, subsample=0.8 will be ignored. Current value: bagging_fraction=0.5748908475848733\n",
      "[LightGBM] [Warning] bagging_freq is set=8, subsample_freq=0 will be ignored. Current value: bagging_freq=8\n",
      "Training until validation scores don't improve for 100 rounds\n",
      "[100]\ttraining's l1: 0.7574\tvalid_1's l1: 1.53071\n"
     ]
    },
    {
     "name": "stderr",
     "output_type": "stream",
     "text": [
      "\u001b[32m[I 2021-07-26 15:06:57,154]\u001b[0m Trial 20 finished with value: -1.5291892891406946 and parameters: {'max_depth': 20, 'min_child_weight': 6, 'subsample': 0.8, 'colsample_bytree': 0.8, 'reg_lambda': 35.53054584627927, 'reg_alpha': 0.8528077312437095, 'feature_fraction': 0.7746136773629172, 'bagging_fraction': 0.5748908475848733, 'bagging_freq': 8, 'num_leaves': 736, 'min_child_samples': 59}. Best is trial 20 with value: -1.5291892891406946.\u001b[0m\n"
     ]
    },
    {
     "name": "stdout",
     "output_type": "stream",
     "text": [
      "Early stopping, best iteration is:\n",
      "[95]\ttraining's l1: 0.759677\tvalid_1's l1: 1.52923\n",
      "[LightGBM] [Warning] feature_fraction is set=0.7893399844025444, colsample_bytree=0.8 will be ignored. Current value: feature_fraction=0.7893399844025444\n",
      "[LightGBM] [Warning] bagging_fraction is set=0.5877950711588922, subsample=0.8 will be ignored. Current value: bagging_fraction=0.5877950711588922\n",
      "[LightGBM] [Warning] bagging_freq is set=9, subsample_freq=0 will be ignored. Current value: bagging_freq=9\n",
      "Training until validation scores don't improve for 100 rounds\n",
      "[100]\ttraining's l1: 0.763865\tvalid_1's l1: 1.53881\n"
     ]
    },
    {
     "name": "stderr",
     "output_type": "stream",
     "text": [
      "\u001b[32m[I 2021-07-26 15:07:12,110]\u001b[0m Trial 21 finished with value: -1.5380847010680325 and parameters: {'max_depth': 19, 'min_child_weight': 7, 'subsample': 0.8, 'colsample_bytree': 0.8, 'reg_lambda': 35.466457141089926, 'reg_alpha': 0.7659613646841423, 'feature_fraction': 0.7893399844025444, 'bagging_fraction': 0.5877950711588922, 'bagging_freq': 9, 'num_leaves': 716, 'min_child_samples': 59}. Best is trial 20 with value: -1.5291892891406946.\u001b[0m\n"
     ]
    },
    {
     "name": "stdout",
     "output_type": "stream",
     "text": [
      "Early stopping, best iteration is:\n",
      "[83]\ttraining's l1: 0.776517\tvalid_1's l1: 1.53817\n",
      "[LightGBM] [Warning] feature_fraction is set=0.896406175789674, colsample_bytree=0.8 will be ignored. Current value: feature_fraction=0.896406175789674\n",
      "[LightGBM] [Warning] bagging_fraction is set=0.7121250887809991, subsample=0.8 will be ignored. Current value: bagging_fraction=0.7121250887809991\n",
      "[LightGBM] [Warning] bagging_freq is set=6, subsample_freq=0 will be ignored. Current value: bagging_freq=6\n",
      "Training until validation scores don't improve for 100 rounds\n",
      "[100]\ttraining's l1: 0.751364\tvalid_1's l1: 1.5294\n"
     ]
    },
    {
     "name": "stderr",
     "output_type": "stream",
     "text": [
      "\u001b[32m[I 2021-07-26 15:07:29,384]\u001b[0m Trial 22 finished with value: -1.5287436181573588 and parameters: {'max_depth': 16, 'min_child_weight': 7, 'subsample': 0.8, 'colsample_bytree': 0.8, 'reg_lambda': 18.98048167173793, 'reg_alpha': 0.8078659371419638, 'feature_fraction': 0.896406175789674, 'bagging_fraction': 0.7121250887809991, 'bagging_freq': 6, 'num_leaves': 785, 'min_child_samples': 76}. Best is trial 22 with value: -1.5287436181573588.\u001b[0m\n"
     ]
    },
    {
     "name": "stdout",
     "output_type": "stream",
     "text": [
      "Early stopping, best iteration is:\n",
      "[97]\ttraining's l1: 0.753072\tvalid_1's l1: 1.52879\n",
      "[LightGBM] [Warning] feature_fraction is set=0.904294180042148, colsample_bytree=0.7 will be ignored. Current value: feature_fraction=0.904294180042148\n",
      "[LightGBM] [Warning] bagging_fraction is set=0.397273216265908, subsample=0.9 will be ignored. Current value: bagging_fraction=0.397273216265908\n",
      "[LightGBM] [Warning] bagging_freq is set=6, subsample_freq=0 will be ignored. Current value: bagging_freq=6\n",
      "Training until validation scores don't improve for 100 rounds\n",
      "[100]\ttraining's l1: 0.790817\tvalid_1's l1: 1.53813\n",
      "[200]\ttraining's l1: 0.758497\tvalid_1's l1: 1.54159\n"
     ]
    },
    {
     "name": "stderr",
     "output_type": "stream",
     "text": [
      "\u001b[32m[I 2021-07-26 15:07:44,817]\u001b[0m Trial 23 finished with value: -1.5359105860602607 and parameters: {'max_depth': 20, 'min_child_weight': 7, 'subsample': 0.9, 'colsample_bytree': 0.7, 'reg_lambda': 233.4316558800084, 'reg_alpha': 0.5878090626740613, 'feature_fraction': 0.904294180042148, 'bagging_fraction': 0.397273216265908, 'bagging_freq': 6, 'num_leaves': 763, 'min_child_samples': 75}. Best is trial 22 with value: -1.5287436181573588.\u001b[0m\n"
     ]
    },
    {
     "name": "stdout",
     "output_type": "stream",
     "text": [
      "Early stopping, best iteration is:\n",
      "[111]\ttraining's l1: 0.783633\tvalid_1's l1: 1.53599\n",
      "[LightGBM] [Warning] feature_fraction is set=0.691765850794854, colsample_bytree=0.9 will be ignored. Current value: feature_fraction=0.691765850794854\n",
      "[LightGBM] [Warning] bagging_fraction is set=0.6218392102180846, subsample=0.8 will be ignored. Current value: bagging_fraction=0.6218392102180846\n",
      "[LightGBM] [Warning] bagging_freq is set=8, subsample_freq=0 will be ignored. Current value: bagging_freq=8\n",
      "Training until validation scores don't improve for 100 rounds\n",
      "[100]\ttraining's l1: 0.757223\tvalid_1's l1: 1.55166\n"
     ]
    },
    {
     "name": "stderr",
     "output_type": "stream",
     "text": [
      "\u001b[32m[I 2021-07-26 15:07:58,029]\u001b[0m Trial 24 finished with value: -1.5479231625339454 and parameters: {'max_depth': 15, 'min_child_weight': 4, 'subsample': 0.8, 'colsample_bytree': 0.9, 'reg_lambda': 30.339081840222182, 'reg_alpha': 2.7908884442142385, 'feature_fraction': 0.691765850794854, 'bagging_fraction': 0.6218392102180846, 'bagging_freq': 8, 'num_leaves': 893, 'min_child_samples': 63}. Best is trial 22 with value: -1.5287436181573588.\u001b[0m\n"
     ]
    },
    {
     "name": "stdout",
     "output_type": "stream",
     "text": [
      "Early stopping, best iteration is:\n",
      "[75]\ttraining's l1: 0.777634\tvalid_1's l1: 1.54795\n",
      "[LightGBM] [Warning] feature_fraction is set=0.8967328716224181, colsample_bytree=0.8 will be ignored. Current value: feature_fraction=0.8967328716224181\n",
      "[LightGBM] [Warning] bagging_fraction is set=0.5395907924278699, subsample=0.7 will be ignored. Current value: bagging_fraction=0.5395907924278699\n",
      "[LightGBM] [Warning] bagging_freq is set=13, subsample_freq=0 will be ignored. Current value: bagging_freq=13\n",
      "Training until validation scores don't improve for 100 rounds\n",
      "[100]\ttraining's l1: 0.750955\tvalid_1's l1: 1.53957\n",
      "[200]\ttraining's l1: 0.722002\tvalid_1's l1: 1.54237\n"
     ]
    },
    {
     "name": "stderr",
     "output_type": "stream",
     "text": [
      "\u001b[32m[I 2021-07-26 15:08:15,960]\u001b[0m Trial 25 finished with value: -1.538493622646634 and parameters: {'max_depth': 16, 'min_child_weight': 9, 'subsample': 0.7, 'colsample_bytree': 0.8, 'reg_lambda': 2.567655719064005, 'reg_alpha': 0.4817153836437603, 'feature_fraction': 0.8967328716224181, 'bagging_fraction': 0.5395907924278699, 'bagging_freq': 13, 'num_leaves': 841, 'min_child_samples': 48}. Best is trial 22 with value: -1.5287436181573588.\u001b[0m\n"
     ]
    },
    {
     "name": "stdout",
     "output_type": "stream",
     "text": [
      "Early stopping, best iteration is:\n",
      "[119]\ttraining's l1: 0.741336\tvalid_1's l1: 1.53857\n",
      "[LightGBM] [Warning] feature_fraction is set=0.5720668770009792, colsample_bytree=0.7 will be ignored. Current value: feature_fraction=0.5720668770009792\n",
      "[LightGBM] [Warning] bagging_fraction is set=0.731807108489596, subsample=0.9 will be ignored. Current value: bagging_fraction=0.731807108489596\n",
      "[LightGBM] [Warning] bagging_freq is set=10, subsample_freq=0 will be ignored. Current value: bagging_freq=10\n",
      "Training until validation scores don't improve for 100 rounds\n",
      "[100]\ttraining's l1: 0.738223\tvalid_1's l1: 1.53416\n",
      "[200]\ttraining's l1: 0.712188\tvalid_1's l1: 1.53273\n"
     ]
    },
    {
     "name": "stderr",
     "output_type": "stream",
     "text": [
      "\u001b[32m[I 2021-07-26 15:08:39,941]\u001b[0m Trial 26 finished with value: -1.5313089884184126 and parameters: {'max_depth': 19, 'min_child_weight': 5, 'subsample': 0.9, 'colsample_bytree': 0.7, 'reg_lambda': 0.35493990607198006, 'reg_alpha': 9.138820959989694, 'feature_fraction': 0.5720668770009792, 'bagging_fraction': 0.731807108489596, 'bagging_freq': 10, 'num_leaves': 999, 'min_child_samples': 75}. Best is trial 22 with value: -1.5287436181573588.\u001b[0m\n"
     ]
    },
    {
     "name": "stdout",
     "output_type": "stream",
     "text": [
      "Early stopping, best iteration is:\n",
      "[120]\ttraining's l1: 0.733408\tvalid_1's l1: 1.53149\n",
      "[LightGBM] [Warning] feature_fraction is set=0.9986251504755254, colsample_bytree=0.8 will be ignored. Current value: feature_fraction=0.9986251504755254\n",
      "[LightGBM] [Warning] bagging_fraction is set=0.4612041022795706, subsample=0.8 will be ignored. Current value: bagging_fraction=0.4612041022795706\n",
      "[LightGBM] [Warning] bagging_freq is set=6, subsample_freq=0 will be ignored. Current value: bagging_freq=6\n",
      "Training until validation scores don't improve for 100 rounds\n",
      "[100]\ttraining's l1: 0.77946\tvalid_1's l1: 1.53119\n"
     ]
    },
    {
     "name": "stderr",
     "output_type": "stream",
     "text": [
      "\u001b[32m[I 2021-07-26 15:08:52,774]\u001b[0m Trial 27 finished with value: -1.5253648972555414 and parameters: {'max_depth': 13, 'min_child_weight': 6, 'subsample': 0.8, 'colsample_bytree': 0.8, 'reg_lambda': 4.1802303091883894, 'reg_alpha': 0.011905729577385574, 'feature_fraction': 0.9986251504755254, 'bagging_fraction': 0.4612041022795706, 'bagging_freq': 6, 'num_leaves': 717, 'min_child_samples': 61}. Best is trial 27 with value: -1.5253648972555414.\u001b[0m\n"
     ]
    },
    {
     "name": "stdout",
     "output_type": "stream",
     "text": [
      "Early stopping, best iteration is:\n",
      "[71]\ttraining's l1: 0.815668\tvalid_1's l1: 1.52541\n",
      "[LightGBM] [Warning] feature_fraction is set=0.9942346968829419, colsample_bytree=0.9 will be ignored. Current value: feature_fraction=0.9942346968829419\n",
      "[LightGBM] [Warning] bagging_fraction is set=0.4134758339506801, subsample=0.8 will be ignored. Current value: bagging_fraction=0.4134758339506801\n",
      "[LightGBM] [Warning] bagging_freq is set=6, subsample_freq=0 will be ignored. Current value: bagging_freq=6\n",
      "Training until validation scores don't improve for 100 rounds\n",
      "[100]\ttraining's l1: 0.830828\tvalid_1's l1: 1.53805\n",
      "[200]\ttraining's l1: 0.788672\tvalid_1's l1: 1.53939\n"
     ]
    },
    {
     "name": "stderr",
     "output_type": "stream",
     "text": [
      "\u001b[32m[I 2021-07-26 15:09:07,250]\u001b[0m Trial 28 finished with value: -1.5339357411490449 and parameters: {'max_depth': 13, 'min_child_weight': 6, 'subsample': 0.8, 'colsample_bytree': 0.9, 'reg_lambda': 892.7703538867235, 'reg_alpha': 0.004986179600245783, 'feature_fraction': 0.9942346968829419, 'bagging_fraction': 0.4134758339506801, 'bagging_freq': 6, 'num_leaves': 683, 'min_child_samples': 59}. Best is trial 27 with value: -1.5253648972555414.\u001b[0m\n"
     ]
    },
    {
     "name": "stdout",
     "output_type": "stream",
     "text": [
      "Early stopping, best iteration is:\n",
      "[115]\ttraining's l1: 0.819038\tvalid_1's l1: 1.53399\n",
      "[LightGBM] [Warning] feature_fraction is set=0.9383566818661945, colsample_bytree=0.8 will be ignored. Current value: feature_fraction=0.9383566818661945\n",
      "[LightGBM] [Warning] bagging_fraction is set=0.4732914874102119, subsample=0.8 will be ignored. Current value: bagging_fraction=0.4732914874102119\n",
      "[LightGBM] [Warning] bagging_freq is set=3, subsample_freq=0 will be ignored. Current value: bagging_freq=3\n",
      "Training until validation scores don't improve for 100 rounds\n",
      "[100]\ttraining's l1: 0.835745\tvalid_1's l1: 1.55545\n"
     ]
    },
    {
     "name": "stderr",
     "output_type": "stream",
     "text": [
      "\u001b[32m[I 2021-07-26 15:09:18,759]\u001b[0m Trial 29 finished with value: -1.5520765800572276 and parameters: {'max_depth': 11, 'min_child_weight': 3, 'subsample': 0.8, 'colsample_bytree': 0.8, 'reg_lambda': 79.00967263674488, 'reg_alpha': 0.027557686176138, 'feature_fraction': 0.9383566818661945, 'bagging_fraction': 0.4732914874102119, 'bagging_freq': 3, 'num_leaves': 746, 'min_child_samples': 41}. Best is trial 27 with value: -1.5253648972555414.\u001b[0m\n"
     ]
    },
    {
     "name": "stdout",
     "output_type": "stream",
     "text": [
      "Early stopping, best iteration is:\n",
      "[76]\ttraining's l1: 0.849728\tvalid_1's l1: 1.55218\n",
      "[LightGBM] [Warning] feature_fraction is set=0.9934715484892089, colsample_bytree=0.7 will be ignored. Current value: feature_fraction=0.9934715484892089\n",
      "[LightGBM] [Warning] bagging_fraction is set=0.33027646823796575, subsample=0.7 will be ignored. Current value: bagging_fraction=0.33027646823796575\n",
      "[LightGBM] [Warning] bagging_freq is set=7, subsample_freq=0 will be ignored. Current value: bagging_freq=7\n",
      "Training until validation scores don't improve for 100 rounds\n",
      "[100]\ttraining's l1: 0.88878\tvalid_1's l1: 1.5481\n",
      "[200]\ttraining's l1: 0.855642\tvalid_1's l1: 1.54848\n"
     ]
    },
    {
     "name": "stderr",
     "output_type": "stream",
     "text": [
      "\u001b[32m[I 2021-07-26 15:09:27,509]\u001b[0m Trial 30 finished with value: -1.544240201454745 and parameters: {'max_depth': 9, 'min_child_weight': 2, 'subsample': 0.7, 'colsample_bytree': 0.7, 'reg_lambda': 77.73425774206518, 'reg_alpha': 0.019065865658371785, 'feature_fraction': 0.9934715484892089, 'bagging_fraction': 0.33027646823796575, 'bagging_freq': 7, 'num_leaves': 336, 'min_child_samples': 62}. Best is trial 27 with value: -1.5253648972555414.\u001b[0m\n"
     ]
    },
    {
     "name": "stdout",
     "output_type": "stream",
     "text": [
      "Early stopping, best iteration is:\n",
      "[143]\ttraining's l1: 0.877148\tvalid_1's l1: 1.54427\n",
      "[LightGBM] [Warning] feature_fraction is set=0.872325389934073, colsample_bytree=0.8 will be ignored. Current value: feature_fraction=0.872325389934073\n",
      "[LightGBM] [Warning] bagging_fraction is set=0.6369242176595212, subsample=0.8 will be ignored. Current value: bagging_fraction=0.6369242176595212\n",
      "[LightGBM] [Warning] bagging_freq is set=9, subsample_freq=0 will be ignored. Current value: bagging_freq=9\n",
      "Training until validation scores don't improve for 100 rounds\n",
      "[100]\ttraining's l1: 0.757792\tvalid_1's l1: 1.53414\n"
     ]
    },
    {
     "name": "stderr",
     "output_type": "stream",
     "text": [
      "\u001b[32m[I 2021-07-26 15:09:42,463]\u001b[0m Trial 31 finished with value: -1.5306764540414295 and parameters: {'max_depth': 14, 'min_child_weight': 8, 'subsample': 0.8, 'colsample_bytree': 0.8, 'reg_lambda': 4.570080285659227, 'reg_alpha': 0.0012065692847190181, 'feature_fraction': 0.872325389934073, 'bagging_fraction': 0.6369242176595212, 'bagging_freq': 9, 'num_leaves': 928, 'min_child_samples': 76}. Best is trial 27 with value: -1.5253648972555414.\u001b[0m\n"
     ]
    },
    {
     "name": "stdout",
     "output_type": "stream",
     "text": [
      "Early stopping, best iteration is:\n",
      "[88]\ttraining's l1: 0.769104\tvalid_1's l1: 1.53076\n",
      "[LightGBM] [Warning] feature_fraction is set=0.8633832936949702, colsample_bytree=0.8 will be ignored. Current value: feature_fraction=0.8633832936949702\n",
      "[LightGBM] [Warning] bagging_fraction is set=0.6247416012473721, subsample=0.8 will be ignored. Current value: bagging_fraction=0.6247416012473721\n",
      "[LightGBM] [Warning] bagging_freq is set=9, subsample_freq=0 will be ignored. Current value: bagging_freq=9\n",
      "Training until validation scores don't improve for 100 rounds\n",
      "[100]\ttraining's l1: 0.775007\tvalid_1's l1: 1.52954\n"
     ]
    },
    {
     "name": "stderr",
     "output_type": "stream",
     "text": [
      "\u001b[32m[I 2021-07-26 15:09:56,996]\u001b[0m Trial 32 finished with value: -1.5291264924820032 and parameters: {'max_depth': 13, 'min_child_weight': 8, 'subsample': 0.8, 'colsample_bytree': 0.8, 'reg_lambda': 17.1834413847346, 'reg_alpha': 0.0010098410900588612, 'feature_fraction': 0.8633832936949702, 'bagging_fraction': 0.6247416012473721, 'bagging_freq': 9, 'num_leaves': 961, 'min_child_samples': 75}. Best is trial 27 with value: -1.5253648972555414.\u001b[0m\n"
     ]
    },
    {
     "name": "stdout",
     "output_type": "stream",
     "text": [
      "Early stopping, best iteration is:\n",
      "[99]\ttraining's l1: 0.775377\tvalid_1's l1: 1.52922\n",
      "[LightGBM] [Warning] feature_fraction is set=0.9265545964529224, colsample_bytree=0.8 will be ignored. Current value: feature_fraction=0.9265545964529224\n",
      "[LightGBM] [Warning] bagging_fraction is set=0.55440632157814, subsample=0.7 will be ignored. Current value: bagging_fraction=0.55440632157814\n",
      "[LightGBM] [Warning] bagging_freq is set=5, subsample_freq=0 will be ignored. Current value: bagging_freq=5\n",
      "Training until validation scores don't improve for 100 rounds\n",
      "[100]\ttraining's l1: 0.79476\tvalid_1's l1: 1.55103\n"
     ]
    },
    {
     "name": "stderr",
     "output_type": "stream",
     "text": [
      "\u001b[32m[I 2021-07-26 15:10:10,243]\u001b[0m Trial 33 finished with value: -1.5451897539474322 and parameters: {'max_depth': 13, 'min_child_weight': 6, 'subsample': 0.7, 'colsample_bytree': 0.8, 'reg_lambda': 21.301170929086155, 'reg_alpha': 0.0032097381301855804, 'feature_fraction': 0.9265545964529224, 'bagging_fraction': 0.55440632157814, 'bagging_freq': 5, 'num_leaves': 650, 'min_child_samples': 66}. Best is trial 27 with value: -1.5253648972555414.\u001b[0m\n"
     ]
    },
    {
     "name": "stdout",
     "output_type": "stream",
     "text": [
      "Early stopping, best iteration is:\n",
      "[63]\ttraining's l1: 0.833372\tvalid_1's l1: 1.54523\n",
      "[LightGBM] [Warning] feature_fraction is set=0.9634510601184341, colsample_bytree=0.9 will be ignored. Current value: feature_fraction=0.9634510601184341\n",
      "[LightGBM] [Warning] bagging_fraction is set=0.45768240228228274, subsample=0.9 will be ignored. Current value: bagging_fraction=0.45768240228228274\n",
      "[LightGBM] [Warning] bagging_freq is set=9, subsample_freq=0 will be ignored. Current value: bagging_freq=9\n",
      "Training until validation scores don't improve for 100 rounds\n",
      "[100]\ttraining's l1: 0.94067\tvalid_1's l1: 1.5672\n",
      "[200]\ttraining's l1: 0.916325\tvalid_1's l1: 1.56844\n",
      "[300]\ttraining's l1: 0.911309\tvalid_1's l1: 1.56027\n",
      "[400]\ttraining's l1: 0.896332\tvalid_1's l1: 1.55998\n"
     ]
    },
    {
     "name": "stderr",
     "output_type": "stream",
     "text": [
      "\u001b[32m[I 2021-07-26 15:10:22,487]\u001b[0m Trial 34 finished with value: -1.5549128412392836 and parameters: {'max_depth': 7, 'min_child_weight': 9, 'subsample': 0.9, 'colsample_bytree': 0.9, 'reg_lambda': 8.421145280939719, 'reg_alpha': 0.0025328581193123302, 'feature_fraction': 0.9634510601184341, 'bagging_fraction': 0.45768240228228274, 'bagging_freq': 9, 'num_leaves': 567, 'min_child_samples': 55}. Best is trial 27 with value: -1.5253648972555414.\u001b[0m\n"
     ]
    },
    {
     "name": "stdout",
     "output_type": "stream",
     "text": [
      "Early stopping, best iteration is:\n",
      "[363]\ttraining's l1: 0.905059\tvalid_1's l1: 1.55503\n",
      "[LightGBM] [Warning] feature_fraction is set=0.8096513452017415, colsample_bytree=0.8 will be ignored. Current value: feature_fraction=0.8096513452017415\n",
      "[LightGBM] [Warning] bagging_fraction is set=0.3570398715332308, subsample=0.8 will be ignored. Current value: bagging_fraction=0.3570398715332308\n",
      "[LightGBM] [Warning] bagging_freq is set=6, subsample_freq=0 will be ignored. Current value: bagging_freq=6\n",
      "Training until validation scores don't improve for 100 rounds\n",
      "[100]\ttraining's l1: 0.806261\tvalid_1's l1: 1.5499\n"
     ]
    },
    {
     "name": "stderr",
     "output_type": "stream",
     "text": [
      "\u001b[32m[I 2021-07-26 15:10:31,591]\u001b[0m Trial 35 finished with value: -1.5448139221178827 and parameters: {'max_depth': 12, 'min_child_weight': 11, 'subsample': 0.8, 'colsample_bytree': 0.8, 'reg_lambda': 15.632291740251041, 'reg_alpha': 0.012650719428243857, 'feature_fraction': 0.8096513452017415, 'bagging_fraction': 0.3570398715332308, 'bagging_freq': 6, 'num_leaves': 764, 'min_child_samples': 73}. Best is trial 27 with value: -1.5253648972555414.\u001b[0m\n"
     ]
    },
    {
     "name": "stdout",
     "output_type": "stream",
     "text": [
      "Early stopping, best iteration is:\n",
      "[87]\ttraining's l1: 0.814377\tvalid_1's l1: 1.54496\n",
      "[LightGBM] [Warning] feature_fraction is set=0.8697442412250621, colsample_bytree=0.7 will be ignored. Current value: feature_fraction=0.8697442412250621\n",
      "[LightGBM] [Warning] bagging_fraction is set=0.5698925160115926, subsample=0.7 will be ignored. Current value: bagging_fraction=0.5698925160115926\n",
      "[LightGBM] [Warning] bagging_freq is set=8, subsample_freq=0 will be ignored. Current value: bagging_freq=8\n",
      "Training until validation scores don't improve for 100 rounds\n",
      "[100]\ttraining's l1: 0.754797\tvalid_1's l1: 1.54018\n"
     ]
    },
    {
     "name": "stderr",
     "output_type": "stream",
     "text": [
      "\u001b[32m[I 2021-07-26 15:10:46,748]\u001b[0m Trial 36 finished with value: -1.535234727044412 and parameters: {'max_depth': 14, 'min_child_weight': 3, 'subsample': 0.7, 'colsample_bytree': 0.7, 'reg_lambda': 0.8022948050950537, 'reg_alpha': 0.07050216125983085, 'feature_fraction': 0.8697442412250621, 'bagging_fraction': 0.5698925160115926, 'bagging_freq': 8, 'num_leaves': 984, 'min_child_samples': 43}. Best is trial 27 with value: -1.5253648972555414.\u001b[0m\n"
     ]
    },
    {
     "name": "stdout",
     "output_type": "stream",
     "text": [
      "Early stopping, best iteration is:\n",
      "[79]\ttraining's l1: 0.778774\tvalid_1's l1: 1.53533\n",
      "[LightGBM] [Warning] feature_fraction is set=0.7361688033218567, colsample_bytree=0.8 will be ignored. Current value: feature_fraction=0.7361688033218567\n",
      "[LightGBM] [Warning] bagging_fraction is set=0.22724521894271943, subsample=0.8 will be ignored. Current value: bagging_fraction=0.22724521894271943\n",
      "[LightGBM] [Warning] bagging_freq is set=10, subsample_freq=0 will be ignored. Current value: bagging_freq=10\n",
      "Training until validation scores don't improve for 100 rounds\n",
      "[100]\ttraining's l1: 0.85648\tvalid_1's l1: 1.53093\n",
      "[200]\ttraining's l1: 0.82678\tvalid_1's l1: 1.53132\n"
     ]
    },
    {
     "name": "stderr",
     "output_type": "stream",
     "text": [
      "\u001b[32m[I 2021-07-26 15:10:54,770]\u001b[0m Trial 37 finished with value: -1.529513283016198 and parameters: {'max_depth': 12, 'min_child_weight': 5, 'subsample': 0.8, 'colsample_bytree': 0.8, 'reg_lambda': 311.85790035349066, 'reg_alpha': 0.23368101292133756, 'feature_fraction': 0.7361688033218567, 'bagging_fraction': 0.22724521894271943, 'bagging_freq': 10, 'num_leaves': 898, 'min_child_samples': 46}. Best is trial 27 with value: -1.5253648972555414.\u001b[0m\n"
     ]
    },
    {
     "name": "stdout",
     "output_type": "stream",
     "text": [
      "Early stopping, best iteration is:\n",
      "[133]\ttraining's l1: 0.835817\tvalid_1's l1: 1.52957\n",
      "[LightGBM] [Warning] feature_fraction is set=0.6653597848018349, colsample_bytree=0.9 will be ignored. Current value: feature_fraction=0.6653597848018349\n",
      "[LightGBM] [Warning] bagging_fraction is set=0.4968864386866242, subsample=0.9 will be ignored. Current value: bagging_fraction=0.4968864386866242\n",
      "[LightGBM] [Warning] bagging_freq is set=4, subsample_freq=0 will be ignored. Current value: bagging_freq=4\n",
      "Training until validation scores don't improve for 100 rounds\n",
      "[100]\ttraining's l1: 0.886046\tvalid_1's l1: 1.54577\n",
      "[200]\ttraining's l1: 0.858465\tvalid_1's l1: 1.5448\n"
     ]
    },
    {
     "name": "stderr",
     "output_type": "stream",
     "text": [
      "\u001b[32m[I 2021-07-26 15:11:05,413]\u001b[0m Trial 38 finished with value: -1.538377878154024 and parameters: {'max_depth': 9, 'min_child_weight': 7, 'subsample': 0.9, 'colsample_bytree': 0.9, 'reg_lambda': 51.75690682683455, 'reg_alpha': 0.04221988557198521, 'feature_fraction': 0.6653597848018349, 'bagging_fraction': 0.4968864386866242, 'bagging_freq': 4, 'num_leaves': 654, 'min_child_samples': 91}. Best is trial 27 with value: -1.5253648972555414.\u001b[0m\n"
     ]
    },
    {
     "name": "stdout",
     "output_type": "stream",
     "text": [
      "Early stopping, best iteration is:\n",
      "[187]\ttraining's l1: 0.866837\tvalid_1's l1: 1.53845\n",
      "[LightGBM] [Warning] feature_fraction is set=0.8435944398638964, colsample_bytree=0.8 will be ignored. Current value: feature_fraction=0.8435944398638964\n",
      "[LightGBM] [Warning] bagging_fraction is set=0.8269267498495123, subsample=0.7 will be ignored. Current value: bagging_fraction=0.8269267498495123\n",
      "[LightGBM] [Warning] bagging_freq is set=7, subsample_freq=0 will be ignored. Current value: bagging_freq=7\n",
      "Training until validation scores don't improve for 100 rounds\n",
      "[100]\ttraining's l1: 0.845776\tvalid_1's l1: 1.53381\n",
      "[200]\ttraining's l1: 0.826102\tvalid_1's l1: 1.53145\n",
      "[300]\ttraining's l1: 0.811121\tvalid_1's l1: 1.53696\n"
     ]
    },
    {
     "name": "stderr",
     "output_type": "stream",
     "text": [
      "\u001b[32m[I 2021-07-26 15:11:25,367]\u001b[0m Trial 39 finished with value: -1.5263604412393208 and parameters: {'max_depth': 10, 'min_child_weight': 11, 'subsample': 0.7, 'colsample_bytree': 0.8, 'reg_lambda': 14.565410558159606, 'reg_alpha': 0.15991938918364065, 'feature_fraction': 0.8435944398638964, 'bagging_fraction': 0.8269267498495123, 'bagging_freq': 7, 'num_leaves': 856, 'min_child_samples': 22}. Best is trial 27 with value: -1.5253648972555414.\u001b[0m\n"
     ]
    },
    {
     "name": "stdout",
     "output_type": "stream",
     "text": [
      "Early stopping, best iteration is:\n",
      "[262]\ttraining's l1: 0.818463\tvalid_1's l1: 1.52655\n",
      "[LightGBM] [Warning] feature_fraction is set=0.38165726467581623, colsample_bytree=0.8 will be ignored. Current value: feature_fraction=0.38165726467581623\n",
      "[LightGBM] [Warning] bagging_fraction is set=0.8590952463480381, subsample=0.7 will be ignored. Current value: bagging_fraction=0.8590952463480381\n",
      "[LightGBM] [Warning] bagging_freq is set=5, subsample_freq=0 will be ignored. Current value: bagging_freq=5\n",
      "Training until validation scores don't improve for 100 rounds\n",
      "[100]\ttraining's l1: 0.973855\tvalid_1's l1: 1.58326\n",
      "[200]\ttraining's l1: 0.945171\tvalid_1's l1: 1.5621\n",
      "[300]\ttraining's l1: 0.91178\tvalid_1's l1: 1.55066\n",
      "[400]\ttraining's l1: 0.890102\tvalid_1's l1: 1.54704\n"
     ]
    },
    {
     "name": "stderr",
     "output_type": "stream",
     "text": [
      "\u001b[32m[I 2021-07-26 15:11:42,989]\u001b[0m Trial 40 finished with value: -1.5442927797865704 and parameters: {'max_depth': 6, 'min_child_weight': 11, 'subsample': 0.7, 'colsample_bytree': 0.8, 'reg_lambda': 12.06310934894304, 'reg_alpha': 0.12370710301458822, 'feature_fraction': 0.38165726467581623, 'bagging_fraction': 0.8590952463480381, 'bagging_freq': 5, 'num_leaves': 948, 'min_child_samples': 17}. Best is trial 27 with value: -1.5253648972555414.\u001b[0m\n"
     ]
    },
    {
     "name": "stdout",
     "output_type": "stream",
     "text": [
      "Early stopping, best iteration is:\n",
      "[362]\ttraining's l1: 0.898624\tvalid_1's l1: 1.54446\n",
      "[LightGBM] [Warning] feature_fraction is set=0.8592415671735738, colsample_bytree=0.8 will be ignored. Current value: feature_fraction=0.8592415671735738\n",
      "[LightGBM] [Warning] bagging_fraction is set=0.8101680705269155, subsample=0.7 will be ignored. Current value: bagging_fraction=0.8101680705269155\n",
      "[LightGBM] [Warning] bagging_freq is set=7, subsample_freq=0 will be ignored. Current value: bagging_freq=7\n",
      "Training until validation scores don't improve for 100 rounds\n",
      "[100]\ttraining's l1: 0.796149\tvalid_1's l1: 1.54163\n"
     ]
    },
    {
     "name": "stderr",
     "output_type": "stream",
     "text": [
      "\u001b[32m[I 2021-07-26 15:11:56,121]\u001b[0m Trial 41 finished with value: -1.539348972476807 and parameters: {'max_depth': 11, 'min_child_weight': 9, 'subsample': 0.7, 'colsample_bytree': 0.8, 'reg_lambda': 26.23760906375635, 'reg_alpha': 1.24196174043272, 'feature_fraction': 0.8592415671735738, 'bagging_fraction': 0.8101680705269155, 'bagging_freq': 7, 'num_leaves': 774, 'min_child_samples': 28}. Best is trial 27 with value: -1.5253648972555414.\u001b[0m\n"
     ]
    },
    {
     "name": "stdout",
     "output_type": "stream",
     "text": [
      "Early stopping, best iteration is:\n",
      "[75]\ttraining's l1: 0.819416\tvalid_1's l1: 1.53963\n",
      "[LightGBM] [Warning] feature_fraction is set=0.9686634627021294, colsample_bytree=0.8 will be ignored. Current value: feature_fraction=0.9686634627021294\n",
      "[LightGBM] [Warning] bagging_fraction is set=0.74180413987704, subsample=0.8 will be ignored. Current value: bagging_fraction=0.74180413987704\n",
      "[LightGBM] [Warning] bagging_freq is set=7, subsample_freq=0 will be ignored. Current value: bagging_freq=7\n",
      "Training until validation scores don't improve for 100 rounds\n",
      "[100]\ttraining's l1: 0.916105\tvalid_1's l1: 1.55954\n"
     ]
    },
    {
     "name": "stderr",
     "output_type": "stream",
     "text": [
      "\u001b[32m[I 2021-07-26 15:12:05,849]\u001b[0m Trial 42 finished with value: -1.557817934580568 and parameters: {'max_depth': 8, 'min_child_weight': 6, 'subsample': 0.8, 'colsample_bytree': 0.8, 'reg_lambda': 132.0278224265941, 'reg_alpha': 0.3515839583245151, 'feature_fraction': 0.9686634627021294, 'bagging_fraction': 0.74180413987704, 'bagging_freq': 7, 'num_leaves': 849, 'min_child_samples': 34}. Best is trial 27 with value: -1.5253648972555414.\u001b[0m\n"
     ]
    },
    {
     "name": "stdout",
     "output_type": "stream",
     "text": [
      "Early stopping, best iteration is:\n",
      "[92]\ttraining's l1: 0.917665\tvalid_1's l1: 1.55795\n",
      "[LightGBM] [Warning] feature_fraction is set=0.90414440525934, colsample_bytree=0.8 will be ignored. Current value: feature_fraction=0.90414440525934\n",
      "[LightGBM] [Warning] bagging_fraction is set=0.9261551921294489, subsample=0.7 will be ignored. Current value: bagging_fraction=0.9261551921294489\n",
      "[LightGBM] [Warning] bagging_freq is set=4, subsample_freq=0 will be ignored. Current value: bagging_freq=4\n",
      "Training until validation scores don't improve for 100 rounds\n",
      "[100]\ttraining's l1: 0.847978\tvalid_1's l1: 1.53457\n",
      "[200]\ttraining's l1: 0.823229\tvalid_1's l1: 1.53668\n"
     ]
    },
    {
     "name": "stderr",
     "output_type": "stream",
     "text": [
      "\u001b[32m[I 2021-07-26 15:12:24,247]\u001b[0m Trial 43 finished with value: -1.531166799637782 and parameters: {'max_depth': 10, 'min_child_weight': 8, 'subsample': 0.7, 'colsample_bytree': 0.8, 'reg_lambda': 5.120944413446302, 'reg_alpha': 0.04700655743345752, 'feature_fraction': 0.90414440525934, 'bagging_fraction': 0.9261551921294489, 'bagging_freq': 4, 'num_leaves': 713, 'min_child_samples': 20}. Best is trial 27 with value: -1.5253648972555414.\u001b[0m\n"
     ]
    },
    {
     "name": "stdout",
     "output_type": "stream",
     "text": [
      "Early stopping, best iteration is:\n",
      "[170]\ttraining's l1: 0.832953\tvalid_1's l1: 1.53122\n",
      "[LightGBM] [Warning] feature_fraction is set=0.7910031900915088, colsample_bytree=0.7 will be ignored. Current value: feature_fraction=0.7910031900915088\n",
      "[LightGBM] [Warning] bagging_fraction is set=0.6205671070667256, subsample=0.8 will be ignored. Current value: bagging_fraction=0.6205671070667256\n",
      "[LightGBM] [Warning] bagging_freq is set=11, subsample_freq=0 will be ignored. Current value: bagging_freq=11\n",
      "Training until validation scores don't improve for 100 rounds\n",
      "[100]\ttraining's l1: 0.767349\tvalid_1's l1: 1.54968\n"
     ]
    },
    {
     "name": "stderr",
     "output_type": "stream",
     "text": [
      "\u001b[32m[I 2021-07-26 15:12:37,080]\u001b[0m Trial 44 finished with value: -1.5404310871021576 and parameters: {'max_depth': 13, 'min_child_weight': 10, 'subsample': 0.8, 'colsample_bytree': 0.7, 'reg_lambda': 1.5058624856992038, 'reg_alpha': 0.1279751004374076, 'feature_fraction': 0.7910031900915088, 'bagging_fraction': 0.6205671070667256, 'bagging_freq': 11, 'num_leaves': 869, 'min_child_samples': 57}. Best is trial 27 with value: -1.5253648972555414.\u001b[0m\n"
     ]
    },
    {
     "name": "stdout",
     "output_type": "stream",
     "text": [
      "Early stopping, best iteration is:\n",
      "[71]\ttraining's l1: 0.794283\tvalid_1's l1: 1.5405\n",
      "[LightGBM] [Warning] feature_fraction is set=0.8321707367150818, colsample_bytree=0.9 will be ignored. Current value: feature_fraction=0.8321707367150818\n",
      "[LightGBM] [Warning] bagging_fraction is set=0.7782788514398876, subsample=0.6 will be ignored. Current value: bagging_fraction=0.7782788514398876\n",
      "[LightGBM] [Warning] bagging_freq is set=8, subsample_freq=0 will be ignored. Current value: bagging_freq=8\n",
      "Training until validation scores don't improve for 100 rounds\n",
      "[100]\ttraining's l1: 0.84081\tvalid_1's l1: 1.54876\n"
     ]
    },
    {
     "name": "stderr",
     "output_type": "stream",
     "text": [
      "\u001b[32m[I 2021-07-26 15:12:47,660]\u001b[0m Trial 45 finished with value: -1.5441480140381916 and parameters: {'max_depth': 10, 'min_child_weight': 4, 'subsample': 0.6, 'colsample_bytree': 0.9, 'reg_lambda': 15.923220010619143, 'reg_alpha': 0.0099681741031603, 'feature_fraction': 0.8321707367150818, 'bagging_fraction': 0.7782788514398876, 'bagging_freq': 8, 'num_leaves': 619, 'min_child_samples': 68}. Best is trial 27 with value: -1.5253648972555414.\u001b[0m\n"
     ]
    },
    {
     "name": "stdout",
     "output_type": "stream",
     "text": [
      "Early stopping, best iteration is:\n",
      "[73]\ttraining's l1: 0.855228\tvalid_1's l1: 1.54429\n",
      "[LightGBM] [Warning] feature_fraction is set=0.7580834939590687, colsample_bytree=0.8 will be ignored. Current value: feature_fraction=0.7580834939590687\n",
      "[LightGBM] [Warning] bagging_fraction is set=0.6998359813878473, subsample=0.8 will be ignored. Current value: bagging_fraction=0.6998359813878473\n",
      "[LightGBM] [Warning] bagging_freq is set=6, subsample_freq=0 will be ignored. Current value: bagging_freq=6\n",
      "Training until validation scores don't improve for 100 rounds\n",
      "[100]\ttraining's l1: 0.74545\tvalid_1's l1: 1.53596\n",
      "[200]\ttraining's l1: 0.717001\tvalid_1's l1: 1.53977\n"
     ]
    },
    {
     "name": "stderr",
     "output_type": "stream",
     "text": [
      "\u001b[32m[I 2021-07-26 15:13:05,800]\u001b[0m Trial 46 finished with value: -1.5353271505193886 and parameters: {'max_depth': 16, 'min_child_weight': 8, 'subsample': 0.8, 'colsample_bytree': 0.8, 'reg_lambda': 3.4017792125121296, 'reg_alpha': 4.7756076879400995, 'feature_fraction': 0.7580834939590687, 'bagging_fraction': 0.6998359813878473, 'bagging_freq': 6, 'num_leaves': 796, 'min_child_samples': 6}. Best is trial 27 with value: -1.5253648972555414.\u001b[0m\n"
     ]
    },
    {
     "name": "stdout",
     "output_type": "stream",
     "text": [
      "Early stopping, best iteration is:\n",
      "[108]\ttraining's l1: 0.740802\tvalid_1's l1: 1.53544\n",
      "[LightGBM] [Warning] feature_fraction is set=0.9507764982791421, colsample_bytree=0.8 will be ignored. Current value: feature_fraction=0.9507764982791421\n",
      "[LightGBM] [Warning] bagging_fraction is set=0.8159648229423113, subsample=0.8 will be ignored. Current value: bagging_fraction=0.8159648229423113\n",
      "[LightGBM] [Warning] bagging_freq is set=2, subsample_freq=0 will be ignored. Current value: bagging_freq=2\n",
      "Training until validation scores don't improve for 100 rounds\n",
      "[100]\ttraining's l1: 0.753877\tvalid_1's l1: 1.54065\n",
      "[200]\ttraining's l1: 0.720427\tvalid_1's l1: 1.54175\n",
      "Early stopping, best iteration is:\n",
      "[148]\ttraining's l1: 0.737416\tvalid_1's l1: 1.53955\n"
     ]
    },
    {
     "name": "stderr",
     "output_type": "stream",
     "text": [
      "\u001b[32m[I 2021-07-26 15:13:35,566]\u001b[0m Trial 47 finished with value: -1.5394571927545042 and parameters: {'max_depth': 15, 'min_child_weight': 12, 'subsample': 0.8, 'colsample_bytree': 0.8, 'reg_lambda': 57.55536198625933, 'reg_alpha': 22.72511405677592, 'feature_fraction': 0.9507764982791421, 'bagging_fraction': 0.8159648229423113, 'bagging_freq': 2, 'num_leaves': 941, 'min_child_samples': 51}. Best is trial 27 with value: -1.5253648972555414.\u001b[0m\n"
     ]
    },
    {
     "name": "stdout",
     "output_type": "stream",
     "text": [
      "[LightGBM] [Warning] feature_fraction is set=0.8946318170441762, colsample_bytree=0.7 will be ignored. Current value: feature_fraction=0.8946318170441762\n",
      "[LightGBM] [Warning] bagging_fraction is set=0.6697953831121815, subsample=0.7 will be ignored. Current value: bagging_fraction=0.6697953831121815\n",
      "[LightGBM] [Warning] bagging_freq is set=9, subsample_freq=0 will be ignored. Current value: bagging_freq=9\n",
      "Training until validation scores don't improve for 100 rounds\n",
      "[100]\ttraining's l1: 1.1722\tvalid_1's l1: 1.76225\n"
     ]
    },
    {
     "name": "stderr",
     "output_type": "stream",
     "text": [
      "\u001b[32m[I 2021-07-26 15:13:40,503]\u001b[0m Trial 48 finished with value: -1.7622528103501327 and parameters: {'max_depth': 1, 'min_child_weight': 7, 'subsample': 0.7, 'colsample_bytree': 0.7, 'reg_lambda': 514.7217488370223, 'reg_alpha': 1.0604665629971524, 'feature_fraction': 0.8946318170441762, 'bagging_fraction': 0.6697953831121815, 'bagging_freq': 9, 'num_leaves': 729, 'min_child_samples': 64}. Best is trial 27 with value: -1.5253648972555414.\u001b[0m\n"
     ]
    },
    {
     "name": "stdout",
     "output_type": "stream",
     "text": [
      "Early stopping, best iteration is:\n",
      "[98]\ttraining's l1: 1.1722\tvalid_1's l1: 1.76225\n",
      "[LightGBM] [Warning] feature_fraction is set=0.8333564239750293, colsample_bytree=0.9 will be ignored. Current value: feature_fraction=0.8333564239750293\n",
      "[LightGBM] [Warning] bagging_fraction is set=0.5367794322216876, subsample=0.9 will be ignored. Current value: bagging_fraction=0.5367794322216876\n",
      "[LightGBM] [Warning] bagging_freq is set=18, subsample_freq=0 will be ignored. Current value: bagging_freq=18\n",
      "Training until validation scores don't improve for 100 rounds\n",
      "[100]\ttraining's l1: 0.795599\tvalid_1's l1: 1.54332\n",
      "[200]\ttraining's l1: 0.771482\tvalid_1's l1: 1.54223\n"
     ]
    },
    {
     "name": "stderr",
     "output_type": "stream",
     "text": [
      "\u001b[32m[I 2021-07-26 15:13:53,227]\u001b[0m Trial 49 finished with value: -1.5393884208626853 and parameters: {'max_depth': 12, 'min_child_weight': 9, 'subsample': 0.9, 'colsample_bytree': 0.9, 'reg_lambda': 8.9209961984057, 'reg_alpha': 0.33513092611165946, 'feature_fraction': 0.8333564239750293, 'bagging_fraction': 0.5367794322216876, 'bagging_freq': 18, 'num_leaves': 558, 'min_child_samples': 87}. Best is trial 27 with value: -1.5253648972555414.\u001b[0m\n"
     ]
    },
    {
     "name": "stdout",
     "output_type": "stream",
     "text": [
      "Early stopping, best iteration is:\n",
      "[135]\ttraining's l1: 0.782727\tvalid_1's l1: 1.53947\n",
      "[LightGBM] [Warning] feature_fraction is set=0.7337265379086242, colsample_bytree=0.8 will be ignored. Current value: feature_fraction=0.7337265379086242\n",
      "[LightGBM] [Warning] bagging_fraction is set=0.7521588343428196, subsample=0.7 will be ignored. Current value: bagging_fraction=0.7521588343428196\n",
      "[LightGBM] [Warning] bagging_freq is set=5, subsample_freq=0 will be ignored. Current value: bagging_freq=5\n",
      "Training until validation scores don't improve for 100 rounds\n",
      "[100]\ttraining's l1: 0.751761\tvalid_1's l1: 1.52995\n"
     ]
    },
    {
     "name": "stderr",
     "output_type": "stream",
     "text": [
      "\u001b[32m[I 2021-07-26 15:14:09,022]\u001b[0m Trial 50 finished with value: -1.528065377069168 and parameters: {'max_depth': 16, 'min_child_weight': 5, 'subsample': 0.7, 'colsample_bytree': 0.8, 'reg_lambda': 0.3143322576811418, 'reg_alpha': 0.15522081521579448, 'feature_fraction': 0.7337265379086242, 'bagging_fraction': 0.7521588343428196, 'bagging_freq': 5, 'num_leaves': 678, 'min_child_samples': 79}. Best is trial 27 with value: -1.5253648972555414.\u001b[0m\n"
     ]
    },
    {
     "name": "stdout",
     "output_type": "stream",
     "text": [
      "Early stopping, best iteration is:\n",
      "[84]\ttraining's l1: 0.765605\tvalid_1's l1: 1.52812\n",
      "[LightGBM] [Warning] feature_fraction is set=0.7268482983710673, colsample_bytree=0.8 will be ignored. Current value: feature_fraction=0.7268482983710673\n",
      "[LightGBM] [Warning] bagging_fraction is set=0.7749703061345962, subsample=0.7 will be ignored. Current value: bagging_fraction=0.7749703061345962\n",
      "[LightGBM] [Warning] bagging_freq is set=5, subsample_freq=0 will be ignored. Current value: bagging_freq=5\n",
      "Training until validation scores don't improve for 100 rounds\n",
      "[100]\ttraining's l1: 0.754335\tvalid_1's l1: 1.53101\n",
      "[200]\ttraining's l1: 0.73015\tvalid_1's l1: 1.53491\n"
     ]
    },
    {
     "name": "stderr",
     "output_type": "stream",
     "text": [
      "\u001b[32m[I 2021-07-26 15:14:26,303]\u001b[0m Trial 51 finished with value: -1.529669026010524 and parameters: {'max_depth': 16, 'min_child_weight': 4, 'subsample': 0.7, 'colsample_bytree': 0.8, 'reg_lambda': 0.47249643279750164, 'reg_alpha': 0.15310702999005085, 'feature_fraction': 0.7268482983710673, 'bagging_fraction': 0.7749703061345962, 'bagging_freq': 5, 'num_leaves': 677, 'min_child_samples': 79}. Best is trial 27 with value: -1.5253648972555414.\u001b[0m\n"
     ]
    },
    {
     "name": "stdout",
     "output_type": "stream",
     "text": [
      "Early stopping, best iteration is:\n",
      "[112]\ttraining's l1: 0.747885\tvalid_1's l1: 1.52974\n",
      "[LightGBM] [Warning] feature_fraction is set=0.77210780818343, colsample_bytree=0.8 will be ignored. Current value: feature_fraction=0.77210780818343\n",
      "[LightGBM] [Warning] bagging_fraction is set=0.8509418433385515, subsample=0.6 will be ignored. Current value: bagging_fraction=0.8509418433385515\n",
      "[LightGBM] [Warning] bagging_freq is set=7, subsample_freq=0 will be ignored. Current value: bagging_freq=7\n",
      "Training until validation scores don't improve for 100 rounds\n",
      "[100]\ttraining's l1: 0.735307\tvalid_1's l1: 1.5297\n",
      "[200]\ttraining's l1: 0.701331\tvalid_1's l1: 1.53227\n"
     ]
    },
    {
     "name": "stderr",
     "output_type": "stream",
     "text": [
      "\u001b[32m[I 2021-07-26 15:14:46,893]\u001b[0m Trial 52 finished with value: -1.5278811255148894 and parameters: {'max_depth': 18, 'min_child_weight': 6, 'subsample': 0.6, 'colsample_bytree': 0.8, 'reg_lambda': 0.11594641046048582, 'reg_alpha': 0.08847534929483597, 'feature_fraction': 0.77210780818343, 'bagging_fraction': 0.8509418433385515, 'bagging_freq': 7, 'num_leaves': 822, 'min_child_samples': 72}. Best is trial 27 with value: -1.5253648972555414.\u001b[0m\n"
     ]
    },
    {
     "name": "stdout",
     "output_type": "stream",
     "text": [
      "Early stopping, best iteration is:\n",
      "[107]\ttraining's l1: 0.728478\tvalid_1's l1: 1.52794\n",
      "[LightGBM] [Warning] feature_fraction is set=0.8544135517322149, colsample_bytree=0.8 will be ignored. Current value: feature_fraction=0.8544135517322149\n",
      "[LightGBM] [Warning] bagging_fraction is set=0.8553294365421085, subsample=0.6 will be ignored. Current value: bagging_fraction=0.8553294365421085\n",
      "[LightGBM] [Warning] bagging_freq is set=5, subsample_freq=0 will be ignored. Current value: bagging_freq=5\n",
      "Training until validation scores don't improve for 100 rounds\n",
      "[100]\ttraining's l1: 0.737557\tvalid_1's l1: 1.54852\n"
     ]
    },
    {
     "name": "stderr",
     "output_type": "stream",
     "text": [
      "\u001b[32m[I 2021-07-26 15:15:04,416]\u001b[0m Trial 53 finished with value: -1.5432392961628882 and parameters: {'max_depth': 18, 'min_child_weight': 5, 'subsample': 0.6, 'colsample_bytree': 0.8, 'reg_lambda': 0.074335641812562, 'reg_alpha': 0.07557859918587685, 'feature_fraction': 0.8544135517322149, 'bagging_fraction': 0.8553294365421085, 'bagging_freq': 5, 'num_leaves': 798, 'min_child_samples': 73}. Best is trial 27 with value: -1.5253648972555414.\u001b[0m\n"
     ]
    },
    {
     "name": "stdout",
     "output_type": "stream",
     "text": [
      "Early stopping, best iteration is:\n",
      "[59]\ttraining's l1: 0.78604\tvalid_1's l1: 1.5433\n",
      "[LightGBM] [Warning] feature_fraction is set=0.6557977609698034, colsample_bytree=0.8 will be ignored. Current value: feature_fraction=0.6557977609698034\n",
      "[LightGBM] [Warning] bagging_fraction is set=0.9529476760032146, subsample=0.6 will be ignored. Current value: bagging_fraction=0.9529476760032146\n",
      "[LightGBM] [Warning] bagging_freq is set=7, subsample_freq=0 will be ignored. Current value: bagging_freq=7\n",
      "Training until validation scores don't improve for 100 rounds\n",
      "[100]\ttraining's l1: 0.74386\tvalid_1's l1: 1.53252\n"
     ]
    },
    {
     "name": "stderr",
     "output_type": "stream",
     "text": [
      "\u001b[32m[I 2021-07-26 15:15:21,132]\u001b[0m Trial 54 finished with value: -1.524980146721767 and parameters: {'max_depth': 16, 'min_child_weight': 10, 'subsample': 0.6, 'colsample_bytree': 0.8, 'reg_lambda': 0.016599247016985178, 'reg_alpha': 0.026528520880608482, 'feature_fraction': 0.6557977609698034, 'bagging_fraction': 0.9529476760032146, 'bagging_freq': 7, 'num_leaves': 840, 'min_child_samples': 79}. Best is trial 54 with value: -1.524980146721767.\u001b[0m\n"
     ]
    },
    {
     "name": "stdout",
     "output_type": "stream",
     "text": [
      "Early stopping, best iteration is:\n",
      "[74]\ttraining's l1: 0.774338\tvalid_1's l1: 1.52502\n",
      "[LightGBM] [Warning] feature_fraction is set=0.6649290514540506, colsample_bytree=0.8 will be ignored. Current value: feature_fraction=0.6649290514540506\n",
      "[LightGBM] [Warning] bagging_fraction is set=0.9607312953988615, subsample=0.6 will be ignored. Current value: bagging_fraction=0.9607312953988615\n",
      "[LightGBM] [Warning] bagging_freq is set=4, subsample_freq=0 will be ignored. Current value: bagging_freq=4\n",
      "Training until validation scores don't improve for 100 rounds\n",
      "[100]\ttraining's l1: 0.737956\tvalid_1's l1: 1.52772\n"
     ]
    },
    {
     "name": "stderr",
     "output_type": "stream",
     "text": [
      "\u001b[32m[I 2021-07-26 15:15:40,080]\u001b[0m Trial 55 finished with value: -1.524063805446638 and parameters: {'max_depth': 18, 'min_child_weight': 1, 'subsample': 0.6, 'colsample_bytree': 0.8, 'reg_lambda': 0.0037812796360114863, 'reg_alpha': 0.020591276097550314, 'feature_fraction': 0.6649290514540506, 'bagging_fraction': 0.9607312953988615, 'bagging_freq': 4, 'num_leaves': 835, 'min_child_samples': 93}. Best is trial 55 with value: -1.524063805446638.\u001b[0m\n"
     ]
    },
    {
     "name": "stdout",
     "output_type": "stream",
     "text": [
      "Early stopping, best iteration is:\n",
      "[85]\ttraining's l1: 0.753426\tvalid_1's l1: 1.52412\n",
      "[LightGBM] [Warning] feature_fraction is set=0.6498164183096424, colsample_bytree=0.7 will be ignored. Current value: feature_fraction=0.6498164183096424\n",
      "[LightGBM] [Warning] bagging_fraction is set=0.9427187765007791, subsample=0.6 will be ignored. Current value: bagging_fraction=0.9427187765007791\n",
      "[LightGBM] [Warning] bagging_freq is set=4, subsample_freq=0 will be ignored. Current value: bagging_freq=4\n",
      "Training until validation scores don't improve for 100 rounds\n",
      "[100]\ttraining's l1: 0.739751\tvalid_1's l1: 1.5338\n"
     ]
    },
    {
     "name": "stderr",
     "output_type": "stream",
     "text": [
      "\u001b[32m[I 2021-07-26 15:15:57,078]\u001b[0m Trial 56 finished with value: -1.5302492691797145 and parameters: {'max_depth': 17, 'min_child_weight': 2, 'subsample': 0.6, 'colsample_bytree': 0.7, 'reg_lambda': 0.0024418617388088227, 'reg_alpha': 0.019862862153316868, 'feature_fraction': 0.6498164183096424, 'bagging_fraction': 0.9427187765007791, 'bagging_freq': 4, 'num_leaves': 836, 'min_child_samples': 93}. Best is trial 55 with value: -1.524063805446638.\u001b[0m\n"
     ]
    },
    {
     "name": "stdout",
     "output_type": "stream",
     "text": [
      "Early stopping, best iteration is:\n",
      "[70]\ttraining's l1: 0.767286\tvalid_1's l1: 1.53029\n",
      "[LightGBM] [Warning] feature_fraction is set=0.5719267483327505, colsample_bytree=0.8 will be ignored. Current value: feature_fraction=0.5719267483327505\n",
      "[LightGBM] [Warning] bagging_fraction is set=0.9556683273744503, subsample=0.6 will be ignored. Current value: bagging_fraction=0.9556683273744503\n",
      "[LightGBM] [Warning] bagging_freq is set=2, subsample_freq=0 will be ignored. Current value: bagging_freq=2\n",
      "Training until validation scores don't improve for 100 rounds\n",
      "[100]\ttraining's l1: 0.728867\tvalid_1's l1: 1.52433\n"
     ]
    },
    {
     "name": "stderr",
     "output_type": "stream",
     "text": [
      "\u001b[32m[I 2021-07-26 15:16:20,872]\u001b[0m Trial 57 finished with value: -1.52287058359641 and parameters: {'max_depth': 19, 'min_child_weight': 1, 'subsample': 0.6, 'colsample_bytree': 0.8, 'reg_lambda': 0.011618348165345025, 'reg_alpha': 0.005901553772442686, 'feature_fraction': 0.5719267483327505, 'bagging_fraction': 0.9556683273744503, 'bagging_freq': 2, 'num_leaves': 889, 'min_child_samples': 84}. Best is trial 57 with value: -1.52287058359641.\u001b[0m\n"
     ]
    },
    {
     "name": "stdout",
     "output_type": "stream",
     "text": [
      "Early stopping, best iteration is:\n",
      "[87]\ttraining's l1: 0.740252\tvalid_1's l1: 1.52297\n",
      "[LightGBM] [Warning] feature_fraction is set=0.5860729760065655, colsample_bytree=0.9 will be ignored. Current value: feature_fraction=0.5860729760065655\n",
      "[LightGBM] [Warning] bagging_fraction is set=0.9776006284126362, subsample=0.6 will be ignored. Current value: bagging_fraction=0.9776006284126362\n",
      "[LightGBM] [Warning] bagging_freq is set=2, subsample_freq=0 will be ignored. Current value: bagging_freq=2\n",
      "Training until validation scores don't improve for 100 rounds\n",
      "[100]\ttraining's l1: 0.731222\tvalid_1's l1: 1.52898\n"
     ]
    },
    {
     "name": "stderr",
     "output_type": "stream",
     "text": [
      "\u001b[32m[I 2021-07-26 15:16:43,784]\u001b[0m Trial 58 finished with value: -1.5252036633709123 and parameters: {'max_depth': 19, 'min_child_weight': 1, 'subsample': 0.6, 'colsample_bytree': 0.9, 'reg_lambda': 0.010099505921417416, 'reg_alpha': 0.005645030379547556, 'feature_fraction': 0.5860729760065655, 'bagging_fraction': 0.9776006284126362, 'bagging_freq': 2, 'num_leaves': 913, 'min_child_samples': 87}. Best is trial 57 with value: -1.52287058359641.\u001b[0m\n"
     ]
    },
    {
     "name": "stdout",
     "output_type": "stream",
     "text": [
      "Early stopping, best iteration is:\n",
      "[73]\ttraining's l1: 0.755472\tvalid_1's l1: 1.52532\n",
      "[LightGBM] [Warning] feature_fraction is set=0.5728150089223619, colsample_bytree=0.9 will be ignored. Current value: feature_fraction=0.5728150089223619\n",
      "[LightGBM] [Warning] bagging_fraction is set=0.9506404163633844, subsample=0.5 will be ignored. Current value: bagging_fraction=0.9506404163633844\n",
      "[LightGBM] [Warning] bagging_freq is set=1, subsample_freq=0 will be ignored. Current value: bagging_freq=1\n",
      "Training until validation scores don't improve for 100 rounds\n",
      "[100]\ttraining's l1: 0.732031\tvalid_1's l1: 1.53047\n"
     ]
    },
    {
     "name": "stderr",
     "output_type": "stream",
     "text": [
      "\u001b[32m[I 2021-07-26 15:17:03,968]\u001b[0m Trial 59 finished with value: -1.528013067683487 and parameters: {'max_depth': 19, 'min_child_weight': 1, 'subsample': 0.5, 'colsample_bytree': 0.9, 'reg_lambda': 0.011045409332390484, 'reg_alpha': 0.007178589487198755, 'feature_fraction': 0.5728150089223619, 'bagging_fraction': 0.9506404163633844, 'bagging_freq': 1, 'num_leaves': 909, 'min_child_samples': 85}. Best is trial 57 with value: -1.52287058359641.\u001b[0m\n"
     ]
    },
    {
     "name": "stdout",
     "output_type": "stream",
     "text": [
      "Early stopping, best iteration is:\n",
      "[96]\ttraining's l1: 0.734597\tvalid_1's l1: 1.52814\n",
      "[LightGBM] [Warning] feature_fraction is set=0.47442090913152124, colsample_bytree=0.5 will be ignored. Current value: feature_fraction=0.47442090913152124\n",
      "[LightGBM] [Warning] bagging_fraction is set=0.9731696051391839, subsample=0.6 will be ignored. Current value: bagging_fraction=0.9731696051391839\n",
      "[LightGBM] [Warning] bagging_freq is set=2, subsample_freq=0 will be ignored. Current value: bagging_freq=2\n",
      "Training until validation scores don't improve for 100 rounds\n",
      "[100]\ttraining's l1: 0.737272\tvalid_1's l1: 1.53013\n"
     ]
    },
    {
     "name": "stderr",
     "output_type": "stream",
     "text": [
      "\u001b[32m[I 2021-07-26 15:17:24,056]\u001b[0m Trial 60 finished with value: -1.5269926641537546 and parameters: {'max_depth': 19, 'min_child_weight': 14, 'subsample': 0.6, 'colsample_bytree': 0.5, 'reg_lambda': 0.006066811200191584, 'reg_alpha': 0.0023876540030206496, 'feature_fraction': 0.47442090913152124, 'bagging_fraction': 0.9731696051391839, 'bagging_freq': 2, 'num_leaves': 890, 'min_child_samples': 100}. Best is trial 57 with value: -1.52287058359641.\u001b[0m\n"
     ]
    },
    {
     "name": "stdout",
     "output_type": "stream",
     "text": [
      "Early stopping, best iteration is:\n",
      "[76]\ttraining's l1: 0.758056\tvalid_1's l1: 1.52703\n",
      "[LightGBM] [Warning] feature_fraction is set=0.5066647775425056, colsample_bytree=0.5 will be ignored. Current value: feature_fraction=0.5066647775425056\n",
      "[LightGBM] [Warning] bagging_fraction is set=0.9739997740841422, subsample=0.6 will be ignored. Current value: bagging_fraction=0.9739997740841422\n",
      "[LightGBM] [Warning] bagging_freq is set=2, subsample_freq=0 will be ignored. Current value: bagging_freq=2\n",
      "Training until validation scores don't improve for 100 rounds\n",
      "[100]\ttraining's l1: 0.738694\tvalid_1's l1: 1.52449\n"
     ]
    },
    {
     "name": "stderr",
     "output_type": "stream",
     "text": [
      "\u001b[32m[I 2021-07-26 15:17:46,774]\u001b[0m Trial 61 finished with value: -1.5230859868982292 and parameters: {'max_depth': 20, 'min_child_weight': 14, 'subsample': 0.6, 'colsample_bytree': 0.5, 'reg_lambda': 0.005781471268752998, 'reg_alpha': 0.002253058001269978, 'feature_fraction': 0.5066647775425056, 'bagging_fraction': 0.9739997740841422, 'bagging_freq': 2, 'num_leaves': 867, 'min_child_samples': 97}. Best is trial 57 with value: -1.52287058359641.\u001b[0m\n"
     ]
    },
    {
     "name": "stdout",
     "output_type": "stream",
     "text": [
      "Early stopping, best iteration is:\n",
      "[97]\ttraining's l1: 0.740677\tvalid_1's l1: 1.52319\n",
      "[LightGBM] [Warning] feature_fraction is set=0.5216468042564371, colsample_bytree=0.6 will be ignored. Current value: feature_fraction=0.5216468042564371\n",
      "[LightGBM] [Warning] bagging_fraction is set=0.8927733707399687, subsample=0.6 will be ignored. Current value: bagging_fraction=0.8927733707399687\n",
      "[LightGBM] [Warning] bagging_freq is set=2, subsample_freq=0 will be ignored. Current value: bagging_freq=2\n",
      "Training until validation scores don't improve for 100 rounds\n",
      "[100]\ttraining's l1: 0.740534\tvalid_1's l1: 1.53647\n"
     ]
    },
    {
     "name": "stderr",
     "output_type": "stream",
     "text": [
      "\u001b[32m[I 2021-07-26 15:18:05,943]\u001b[0m Trial 62 finished with value: -1.534673243787293 and parameters: {'max_depth': 20, 'min_child_weight': 1, 'subsample': 0.6, 'colsample_bytree': 0.6, 'reg_lambda': 0.015822493165662962, 'reg_alpha': 0.003821488542877188, 'feature_fraction': 0.5216468042564371, 'bagging_fraction': 0.8927733707399687, 'bagging_freq': 2, 'num_leaves': 869, 'min_child_samples': 96}. Best is trial 57 with value: -1.52287058359641.\u001b[0m\n"
     ]
    },
    {
     "name": "stdout",
     "output_type": "stream",
     "text": [
      "Early stopping, best iteration is:\n",
      "[65]\ttraining's l1: 0.774396\tvalid_1's l1: 1.53475\n",
      "[LightGBM] [Warning] feature_fraction is set=0.5836231577821435, colsample_bytree=0.5 will be ignored. Current value: feature_fraction=0.5836231577821435\n",
      "[LightGBM] [Warning] bagging_fraction is set=0.9971696015920086, subsample=0.6 will be ignored. Current value: bagging_fraction=0.9971696015920086\n",
      "[LightGBM] [Warning] bagging_freq is set=3, subsample_freq=0 will be ignored. Current value: bagging_freq=3\n",
      "Training until validation scores don't improve for 100 rounds\n",
      "[100]\ttraining's l1: 0.740358\tvalid_1's l1: 1.5213\n",
      "[200]\ttraining's l1: 0.715415\tvalid_1's l1: 1.52107\n",
      "Early stopping, best iteration is:\n",
      "[158]\ttraining's l1: 0.729035\tvalid_1's l1: 1.51794\n"
     ]
    },
    {
     "name": "stderr",
     "output_type": "stream",
     "text": [
      "\u001b[32m[I 2021-07-26 15:18:35,880]\u001b[0m Trial 63 finished with value: -1.517773898654798 and parameters: {'max_depth': 17, 'min_child_weight': 2, 'subsample': 0.6, 'colsample_bytree': 0.5, 'reg_lambda': 0.0024010660504786884, 'reg_alpha': 0.005805718408352825, 'feature_fraction': 0.5836231577821435, 'bagging_fraction': 0.9971696015920086, 'bagging_freq': 3, 'num_leaves': 855, 'min_child_samples': 94}. Best is trial 63 with value: -1.517773898654798.\u001b[0m\n"
     ]
    },
    {
     "name": "stdout",
     "output_type": "stream",
     "text": [
      "[LightGBM] [Warning] feature_fraction is set=0.592875221696374, colsample_bytree=0.5 will be ignored. Current value: feature_fraction=0.592875221696374\n",
      "[LightGBM] [Warning] bagging_fraction is set=0.9969258132289406, subsample=0.6 will be ignored. Current value: bagging_fraction=0.9969258132289406\n",
      "[LightGBM] [Warning] bagging_freq is set=3, subsample_freq=0 will be ignored. Current value: bagging_freq=3\n",
      "Training until validation scores don't improve for 100 rounds\n",
      "[100]\ttraining's l1: 0.736026\tvalid_1's l1: 1.53549\n"
     ]
    },
    {
     "name": "stderr",
     "output_type": "stream",
     "text": [
      "\u001b[32m[I 2021-07-26 15:18:59,099]\u001b[0m Trial 64 finished with value: -1.533368359669347 and parameters: {'max_depth': 18, 'min_child_weight': 2, 'subsample': 0.6, 'colsample_bytree': 0.5, 'reg_lambda': 0.002076490636189984, 'reg_alpha': 0.005191666507437006, 'feature_fraction': 0.592875221696374, 'bagging_fraction': 0.9969258132289406, 'bagging_freq': 3, 'num_leaves': 922, 'min_child_samples': 93}. Best is trial 63 with value: -1.517773898654798.\u001b[0m\n"
     ]
    },
    {
     "name": "stdout",
     "output_type": "stream",
     "text": [
      "Early stopping, best iteration is:\n",
      "[80]\ttraining's l1: 0.753156\tvalid_1's l1: 1.53346\n",
      "[LightGBM] [Warning] feature_fraction is set=0.40805666225123216, colsample_bytree=0.5 will be ignored. Current value: feature_fraction=0.40805666225123216\n",
      "[LightGBM] [Warning] bagging_fraction is set=0.9672826878436225, subsample=0.6 will be ignored. Current value: bagging_fraction=0.9672826878436225\n",
      "[LightGBM] [Warning] bagging_freq is set=2, subsample_freq=0 will be ignored. Current value: bagging_freq=2\n",
      "Training until validation scores don't improve for 100 rounds\n",
      "[100]\ttraining's l1: 0.741198\tvalid_1's l1: 1.5411\n"
     ]
    },
    {
     "name": "stderr",
     "output_type": "stream",
     "text": [
      "\u001b[32m[I 2021-07-26 15:19:18,784]\u001b[0m Trial 65 finished with value: -1.537815872987016 and parameters: {'max_depth': 17, 'min_child_weight': 1, 'subsample': 0.6, 'colsample_bytree': 0.5, 'reg_lambda': 0.004900307015398295, 'reg_alpha': 0.0019766161660351093, 'feature_fraction': 0.40805666225123216, 'bagging_fraction': 0.9672826878436225, 'bagging_freq': 2, 'num_leaves': 972, 'min_child_samples': 87}. Best is trial 63 with value: -1.517773898654798.\u001b[0m\n"
     ]
    },
    {
     "name": "stdout",
     "output_type": "stream",
     "text": [
      "Early stopping, best iteration is:\n",
      "[82]\ttraining's l1: 0.755582\tvalid_1's l1: 1.53789\n",
      "[LightGBM] [Warning] feature_fraction is set=0.5297959260390188, colsample_bytree=0.5 will be ignored. Current value: feature_fraction=0.5297959260390188\n",
      "[LightGBM] [Warning] bagging_fraction is set=0.9005729352501921, subsample=0.5 will be ignored. Current value: bagging_fraction=0.9005729352501921\n",
      "[LightGBM] [Warning] bagging_freq is set=1, subsample_freq=0 will be ignored. Current value: bagging_freq=1\n",
      "Training until validation scores don't improve for 100 rounds\n",
      "[100]\ttraining's l1: 0.743723\tvalid_1's l1: 1.52999\n"
     ]
    },
    {
     "name": "stderr",
     "output_type": "stream",
     "text": [
      "\u001b[32m[I 2021-07-26 15:19:36,602]\u001b[0m Trial 66 finished with value: -1.52818788501632 and parameters: {'max_depth': 19, 'min_child_weight': 2, 'subsample': 0.5, 'colsample_bytree': 0.5, 'reg_lambda': 0.03313987226935384, 'reg_alpha': 0.017562726462391716, 'feature_fraction': 0.5297959260390188, 'bagging_fraction': 0.9005729352501921, 'bagging_freq': 1, 'num_leaves': 825, 'min_child_samples': 96}. Best is trial 63 with value: -1.517773898654798.\u001b[0m\n"
     ]
    },
    {
     "name": "stdout",
     "output_type": "stream",
     "text": [
      "Early stopping, best iteration is:\n",
      "[87]\ttraining's l1: 0.752877\tvalid_1's l1: 1.5283\n",
      "[LightGBM] [Warning] feature_fraction is set=0.6221181099283023, colsample_bytree=0.6 will be ignored. Current value: feature_fraction=0.6221181099283023\n",
      "[LightGBM] [Warning] bagging_fraction is set=0.9997167464671715, subsample=0.6 will be ignored. Current value: bagging_fraction=0.9997167464671715\n",
      "[LightGBM] [Warning] bagging_freq is set=3, subsample_freq=0 will be ignored. Current value: bagging_freq=3\n",
      "Training until validation scores don't improve for 100 rounds\n",
      "[100]\ttraining's l1: 0.728765\tvalid_1's l1: 1.53968\n"
     ]
    },
    {
     "name": "stderr",
     "output_type": "stream",
     "text": [
      "\u001b[32m[I 2021-07-26 15:19:58,394]\u001b[0m Trial 67 finished with value: -1.5353970772672316 and parameters: {'max_depth': 20, 'min_child_weight': 16, 'subsample': 0.6, 'colsample_bytree': 0.6, 'reg_lambda': 0.023609192009130225, 'reg_alpha': 0.006909728937008749, 'feature_fraction': 0.6221181099283023, 'bagging_fraction': 0.9997167464671715, 'bagging_freq': 3, 'num_leaves': 908, 'min_child_samples': 89}. Best is trial 63 with value: -1.517773898654798.\u001b[0m\n"
     ]
    },
    {
     "name": "stdout",
     "output_type": "stream",
     "text": [
      "Early stopping, best iteration is:\n",
      "[54]\ttraining's l1: 0.783719\tvalid_1's l1: 1.53544\n",
      "[LightGBM] [Warning] feature_fraction is set=0.5452491560387629, colsample_bytree=0.5 will be ignored. Current value: feature_fraction=0.5452491560387629\n",
      "[LightGBM] [Warning] bagging_fraction is set=0.9255342317180179, subsample=0.5 will be ignored. Current value: bagging_fraction=0.9255342317180179\n",
      "[LightGBM] [Warning] bagging_freq is set=3, subsample_freq=0 will be ignored. Current value: bagging_freq=3\n",
      "Training until validation scores don't improve for 100 rounds\n",
      "[100]\ttraining's l1: 0.743707\tvalid_1's l1: 1.53281\n",
      "[200]\ttraining's l1: 0.713418\tvalid_1's l1: 1.53078\n",
      "Early stopping, best iteration is:\n",
      "[167]\ttraining's l1: 0.725197\tvalid_1's l1: 1.52914\n"
     ]
    },
    {
     "name": "stderr",
     "output_type": "stream",
     "text": [
      "\u001b[32m[I 2021-07-26 15:20:27,371]\u001b[0m Trial 68 finished with value: -1.5290053279518034 and parameters: {'max_depth': 18, 'min_child_weight': 3, 'subsample': 0.5, 'colsample_bytree': 0.5, 'reg_lambda': 0.002418163307610695, 'reg_alpha': 0.010185648529854218, 'feature_fraction': 0.5452491560387629, 'bagging_fraction': 0.9255342317180179, 'bagging_freq': 3, 'num_leaves': 871, 'min_child_samples': 99}. Best is trial 63 with value: -1.517773898654798.\u001b[0m\n"
     ]
    },
    {
     "name": "stdout",
     "output_type": "stream",
     "text": [
      "[LightGBM] [Warning] feature_fraction is set=0.4978194458108369, colsample_bytree=0.6 will be ignored. Current value: feature_fraction=0.4978194458108369\n",
      "[LightGBM] [Warning] bagging_fraction is set=0.9718127773520387, subsample=0.6 will be ignored. Current value: bagging_fraction=0.9718127773520387\n",
      "[LightGBM] [Warning] bagging_freq is set=4, subsample_freq=0 will be ignored. Current value: bagging_freq=4\n",
      "Training until validation scores don't improve for 100 rounds\n",
      "[100]\ttraining's l1: 0.736042\tvalid_1's l1: 1.53844\n"
     ]
    },
    {
     "name": "stderr",
     "output_type": "stream",
     "text": [
      "\u001b[32m[I 2021-07-26 15:20:45,075]\u001b[0m Trial 69 finished with value: -1.5352496557932747 and parameters: {'max_depth': 17, 'min_child_weight': 14, 'subsample': 0.6, 'colsample_bytree': 0.6, 'reg_lambda': 0.0014544636283336232, 'reg_alpha': 0.03134543634124039, 'feature_fraction': 0.4978194458108369, 'bagging_fraction': 0.9718127773520387, 'bagging_freq': 4, 'num_leaves': 998, 'min_child_samples': 93}. Best is trial 63 with value: -1.517773898654798.\u001b[0m\n"
     ]
    },
    {
     "name": "stdout",
     "output_type": "stream",
     "text": [
      "Early stopping, best iteration is:\n",
      "[61]\ttraining's l1: 0.781312\tvalid_1's l1: 1.53528\n",
      "[LightGBM] [Warning] feature_fraction is set=0.43806788360606946, colsample_bytree=0.5 will be ignored. Current value: feature_fraction=0.43806788360606946\n",
      "[LightGBM] [Warning] bagging_fraction is set=0.9465902278723652, subsample=0.6 will be ignored. Current value: bagging_fraction=0.9465902278723652\n",
      "[LightGBM] [Warning] bagging_freq is set=1, subsample_freq=0 will be ignored. Current value: bagging_freq=1\n",
      "Training until validation scores don't improve for 100 rounds\n",
      "[100]\ttraining's l1: 0.763568\tvalid_1's l1: 1.53042\n",
      "[200]\ttraining's l1: 0.728591\tvalid_1's l1: 1.52022\n",
      "[300]\ttraining's l1: 0.704536\tvalid_1's l1: 1.52377\n",
      "Early stopping, best iteration is:\n",
      "[200]\ttraining's l1: 0.728591\tvalid_1's l1: 1.52022\n"
     ]
    },
    {
     "name": "stderr",
     "output_type": "stream",
     "text": [
      "\u001b[32m[I 2021-07-26 15:21:06,815]\u001b[0m Trial 70 finished with value: -1.5201022326184128 and parameters: {'max_depth': 15, 'min_child_weight': 1, 'subsample': 0.6, 'colsample_bytree': 0.5, 'reg_lambda': 0.005144976290526282, 'reg_alpha': 0.004259864604307386, 'feature_fraction': 0.43806788360606946, 'bagging_fraction': 0.9465902278723652, 'bagging_freq': 1, 'num_leaves': 756, 'min_child_samples': 84}. Best is trial 63 with value: -1.517773898654798.\u001b[0m\n"
     ]
    },
    {
     "name": "stdout",
     "output_type": "stream",
     "text": [
      "[LightGBM] [Warning] feature_fraction is set=0.3159746393412131, colsample_bytree=0.5 will be ignored. Current value: feature_fraction=0.3159746393412131\n",
      "[LightGBM] [Warning] bagging_fraction is set=0.9421653005810161, subsample=0.6 will be ignored. Current value: bagging_fraction=0.9421653005810161\n",
      "[LightGBM] [Warning] bagging_freq is set=1, subsample_freq=0 will be ignored. Current value: bagging_freq=1\n",
      "Training until validation scores don't improve for 100 rounds\n",
      "[100]\ttraining's l1: 0.769276\tvalid_1's l1: 1.53517\n",
      "[200]\ttraining's l1: 0.726759\tvalid_1's l1: 1.53363\n"
     ]
    },
    {
     "name": "stderr",
     "output_type": "stream",
     "text": [
      "\u001b[32m[I 2021-07-26 15:21:24,216]\u001b[0m Trial 71 finished with value: -1.5315609367418224 and parameters: {'max_depth': 15, 'min_child_weight': 1, 'subsample': 0.6, 'colsample_bytree': 0.5, 'reg_lambda': 0.005368760709001936, 'reg_alpha': 0.001543810711194209, 'feature_fraction': 0.3159746393412131, 'bagging_fraction': 0.9421653005810161, 'bagging_freq': 1, 'num_leaves': 774, 'min_child_samples': 80}. Best is trial 63 with value: -1.517773898654798.\u001b[0m\n"
     ]
    },
    {
     "name": "stdout",
     "output_type": "stream",
     "text": [
      "Early stopping, best iteration is:\n",
      "[154]\ttraining's l1: 0.74639\tvalid_1's l1: 1.5318\n",
      "[LightGBM] [Warning] feature_fraction is set=0.43151892687603677, colsample_bytree=0.5 will be ignored. Current value: feature_fraction=0.43151892687603677\n",
      "[LightGBM] [Warning] bagging_fraction is set=0.877880217003151, subsample=0.6 will be ignored. Current value: bagging_fraction=0.877880217003151\n",
      "[LightGBM] [Warning] bagging_freq is set=2, subsample_freq=0 will be ignored. Current value: bagging_freq=2\n",
      "Training until validation scores don't improve for 100 rounds\n",
      "[100]\ttraining's l1: 0.774979\tvalid_1's l1: 1.54767\n"
     ]
    },
    {
     "name": "stderr",
     "output_type": "stream",
     "text": [
      "\u001b[32m[I 2021-07-26 15:21:40,629]\u001b[0m Trial 72 finished with value: -1.5420905828332192 and parameters: {'max_depth': 14, 'min_child_weight': 2, 'subsample': 0.6, 'colsample_bytree': 0.5, 'reg_lambda': 0.003614911560437558, 'reg_alpha': 0.004244230574555608, 'feature_fraction': 0.43151892687603677, 'bagging_fraction': 0.877880217003151, 'bagging_freq': 2, 'num_leaves': 814, 'min_child_samples': 83}. Best is trial 63 with value: -1.517773898654798.\u001b[0m\n"
     ]
    },
    {
     "name": "stdout",
     "output_type": "stream",
     "text": [
      "Early stopping, best iteration is:\n",
      "[85]\ttraining's l1: 0.782502\tvalid_1's l1: 1.54216\n",
      "[LightGBM] [Warning] feature_fraction is set=0.5639802756083601, colsample_bytree=0.5 will be ignored. Current value: feature_fraction=0.5639802756083601\n",
      "[LightGBM] [Warning] bagging_fraction is set=0.9780186044524891, subsample=0.6 will be ignored. Current value: bagging_fraction=0.9780186044524891\n",
      "[LightGBM] [Warning] bagging_freq is set=3, subsample_freq=0 will be ignored. Current value: bagging_freq=3\n",
      "Training until validation scores don't improve for 100 rounds\n",
      "[100]\ttraining's l1: 0.759284\tvalid_1's l1: 1.54273\n"
     ]
    },
    {
     "name": "stderr",
     "output_type": "stream",
     "text": [
      "\u001b[32m[I 2021-07-26 15:21:58,846]\u001b[0m Trial 73 finished with value: -1.540771703337746 and parameters: {'max_depth': 15, 'min_child_weight': 1, 'subsample': 0.6, 'colsample_bytree': 0.5, 'reg_lambda': 0.009719084349556166, 'reg_alpha': 0.011679920971623913, 'feature_fraction': 0.5639802756083601, 'bagging_fraction': 0.9780186044524891, 'bagging_freq': 3, 'num_leaves': 735, 'min_child_samples': 87}. Best is trial 63 with value: -1.517773898654798.\u001b[0m\n"
     ]
    },
    {
     "name": "stdout",
     "output_type": "stream",
     "text": [
      "Early stopping, best iteration is:\n",
      "[66]\ttraining's l1: 0.799346\tvalid_1's l1: 1.54087\n",
      "[LightGBM] [Warning] feature_fraction is set=0.48960735003288813, colsample_bytree=0.5 will be ignored. Current value: feature_fraction=0.48960735003288813\n",
      "[LightGBM] [Warning] bagging_fraction is set=0.9192718368969645, subsample=0.6 will be ignored. Current value: bagging_fraction=0.9192718368969645\n",
      "[LightGBM] [Warning] bagging_freq is set=4, subsample_freq=0 will be ignored. Current value: bagging_freq=4\n",
      "Training until validation scores don't improve for 100 rounds\n",
      "[100]\ttraining's l1: 0.74154\tvalid_1's l1: 1.5406\n"
     ]
    },
    {
     "name": "stderr",
     "output_type": "stream",
     "text": [
      "\u001b[32m[I 2021-07-26 15:22:16,949]\u001b[0m Trial 74 finished with value: -1.5356752291787803 and parameters: {'max_depth': 18, 'min_child_weight': 3, 'subsample': 0.6, 'colsample_bytree': 0.5, 'reg_lambda': 0.0011064354993658191, 'reg_alpha': 0.006052533133391844, 'feature_fraction': 0.48960735003288813, 'bagging_fraction': 0.9192718368969645, 'bagging_freq': 4, 'num_leaves': 846, 'min_child_samples': 91}. Best is trial 63 with value: -1.517773898654798.\u001b[0m\n"
     ]
    },
    {
     "name": "stdout",
     "output_type": "stream",
     "text": [
      "Early stopping, best iteration is:\n",
      "[69]\ttraining's l1: 0.772767\tvalid_1's l1: 1.53574\n",
      "[LightGBM] [Warning] feature_fraction is set=0.5985074468204576, colsample_bytree=0.6 will be ignored. Current value: feature_fraction=0.5985074468204576\n",
      "[LightGBM] [Warning] bagging_fraction is set=0.9529027481414207, subsample=0.6 will be ignored. Current value: bagging_fraction=0.9529027481414207\n",
      "[LightGBM] [Warning] bagging_freq is set=2, subsample_freq=0 will be ignored. Current value: bagging_freq=2\n",
      "Training until validation scores don't improve for 100 rounds\n",
      "[100]\ttraining's l1: 0.731353\tvalid_1's l1: 1.51407\n"
     ]
    },
    {
     "name": "stderr",
     "output_type": "stream",
     "text": [
      "\u001b[32m[I 2021-07-26 15:22:42,135]\u001b[0m Trial 75 finished with value: -1.5112104433774558 and parameters: {'max_depth': 19, 'min_child_weight': 2, 'subsample': 0.6, 'colsample_bytree': 0.6, 'reg_lambda': 0.014960182872762393, 'reg_alpha': 0.0033290732368947643, 'feature_fraction': 0.5985074468204576, 'bagging_fraction': 0.9529027481414207, 'bagging_freq': 2, 'num_leaves': 933, 'min_child_samples': 84}. Best is trial 75 with value: -1.5112104433774558.\u001b[0m\n"
     ]
    },
    {
     "name": "stdout",
     "output_type": "stream",
     "text": [
      "Early stopping, best iteration is:\n",
      "[90]\ttraining's l1: 0.738576\tvalid_1's l1: 1.51129\n",
      "[LightGBM] [Warning] feature_fraction is set=0.672024154636644, colsample_bytree=0.6 will be ignored. Current value: feature_fraction=0.672024154636644\n",
      "[LightGBM] [Warning] bagging_fraction is set=0.9525431328351226, subsample=0.6 will be ignored. Current value: bagging_fraction=0.9525431328351226\n",
      "[LightGBM] [Warning] bagging_freq is set=2, subsample_freq=0 will be ignored. Current value: bagging_freq=2\n",
      "Training until validation scores don't improve for 100 rounds\n",
      "[100]\ttraining's l1: 0.719115\tvalid_1's l1: 1.53956\n"
     ]
    },
    {
     "name": "stderr",
     "output_type": "stream",
     "text": [
      "\u001b[32m[I 2021-07-26 15:23:00,804]\u001b[0m Trial 76 finished with value: -1.5333755372588211 and parameters: {'max_depth': 20, 'min_child_weight': 2, 'subsample': 0.6, 'colsample_bytree': 0.6, 'reg_lambda': 0.015195734250201895, 'reg_alpha': 0.0010826815448984337, 'feature_fraction': 0.672024154636644, 'bagging_fraction': 0.9525431328351226, 'bagging_freq': 2, 'num_leaves': 957, 'min_child_samples': 84}. Best is trial 75 with value: -1.5112104433774558.\u001b[0m\n"
     ]
    },
    {
     "name": "stdout",
     "output_type": "stream",
     "text": [
      "Early stopping, best iteration is:\n",
      "[55]\ttraining's l1: 0.773992\tvalid_1's l1: 1.53344\n",
      "[LightGBM] [Warning] feature_fraction is set=0.6149802325192775, colsample_bytree=0.6 will be ignored. Current value: feature_fraction=0.6149802325192775\n",
      "[LightGBM] [Warning] bagging_fraction is set=0.9998359910846296, subsample=0.6 will be ignored. Current value: bagging_fraction=0.9998359910846296\n",
      "[LightGBM] [Warning] bagging_freq is set=1, subsample_freq=0 will be ignored. Current value: bagging_freq=1\n",
      "Training until validation scores don't improve for 100 rounds\n",
      "[100]\ttraining's l1: 0.725145\tvalid_1's l1: 1.53581\n"
     ]
    },
    {
     "name": "stderr",
     "output_type": "stream",
     "text": [
      "\u001b[32m[I 2021-07-26 15:23:21,207]\u001b[0m Trial 77 finished with value: -1.5334128928029438 and parameters: {'max_depth': 19, 'min_child_weight': 4, 'subsample': 0.6, 'colsample_bytree': 0.6, 'reg_lambda': 0.05251978360075419, 'reg_alpha': 0.002949367620580727, 'feature_fraction': 0.6149802325192775, 'bagging_fraction': 0.9998359910846296, 'bagging_freq': 1, 'num_leaves': 934, 'min_child_samples': 95}. Best is trial 75 with value: -1.5112104433774558.\u001b[0m\n"
     ]
    },
    {
     "name": "stdout",
     "output_type": "stream",
     "text": [
      "Early stopping, best iteration is:\n",
      "[81]\ttraining's l1: 0.74082\tvalid_1's l1: 1.53344\n",
      "[LightGBM] [Warning] feature_fraction is set=0.5949009047408067, colsample_bytree=0.5 will be ignored. Current value: feature_fraction=0.5949009047408067\n",
      "[LightGBM] [Warning] bagging_fraction is set=0.8844389516799195, subsample=0.6 will be ignored. Current value: bagging_fraction=0.8844389516799195\n",
      "[LightGBM] [Warning] bagging_freq is set=2, subsample_freq=0 will be ignored. Current value: bagging_freq=2\n",
      "Training until validation scores don't improve for 100 rounds\n",
      "[100]\ttraining's l1: 0.732974\tvalid_1's l1: 1.53306\n"
     ]
    },
    {
     "name": "stderr",
     "output_type": "stream",
     "text": [
      "\u001b[32m[I 2021-07-26 15:23:44,058]\u001b[0m Trial 78 finished with value: -1.531668796641057 and parameters: {'max_depth': 19, 'min_child_weight': 20, 'subsample': 0.6, 'colsample_bytree': 0.5, 'reg_lambda': 0.007450750330465794, 'reg_alpha': 0.0017855031240830428, 'feature_fraction': 0.5949009047408067, 'bagging_fraction': 0.8844389516799195, 'bagging_freq': 2, 'num_leaves': 888, 'min_child_samples': 89}. Best is trial 75 with value: -1.5112104433774558.\u001b[0m\n"
     ]
    },
    {
     "name": "stdout",
     "output_type": "stream",
     "text": [
      "Early stopping, best iteration is:\n",
      "[78]\ttraining's l1: 0.754021\tvalid_1's l1: 1.53172\n",
      "[LightGBM] [Warning] feature_fraction is set=0.6442345564485078, colsample_bytree=0.6 will be ignored. Current value: feature_fraction=0.6442345564485078\n",
      "[LightGBM] [Warning] bagging_fraction is set=0.9333323396789712, subsample=0.5 will be ignored. Current value: bagging_fraction=0.9333323396789712\n",
      "[LightGBM] [Warning] bagging_freq is set=1, subsample_freq=0 will be ignored. Current value: bagging_freq=1\n",
      "Training until validation scores don't improve for 100 rounds\n",
      "[100]\ttraining's l1: 0.730159\tvalid_1's l1: 1.52357\n"
     ]
    },
    {
     "name": "stderr",
     "output_type": "stream",
     "text": [
      "\u001b[32m[I 2021-07-26 15:24:01,488]\u001b[0m Trial 79 finished with value: -1.5208934237825802 and parameters: {'max_depth': 18, 'min_child_weight': 18, 'subsample': 0.5, 'colsample_bytree': 0.6, 'reg_lambda': 0.0034437681640556764, 'reg_alpha': 0.01680705621075892, 'feature_fraction': 0.6442345564485078, 'bagging_fraction': 0.9333323396789712, 'bagging_freq': 1, 'num_leaves': 975, 'min_child_samples': 98}. Best is trial 75 with value: -1.5112104433774558.\u001b[0m\n"
     ]
    },
    {
     "name": "stdout",
     "output_type": "stream",
     "text": [
      "Early stopping, best iteration is:\n",
      "[75]\ttraining's l1: 0.757067\tvalid_1's l1: 1.52092\n",
      "[LightGBM] [Warning] feature_fraction is set=0.64264644071341, colsample_bytree=0.6 will be ignored. Current value: feature_fraction=0.64264644071341\n",
      "[LightGBM] [Warning] bagging_fraction is set=0.9087052645023737, subsample=0.5 will be ignored. Current value: bagging_fraction=0.9087052645023737\n",
      "[LightGBM] [Warning] bagging_freq is set=1, subsample_freq=0 will be ignored. Current value: bagging_freq=1\n",
      "Training until validation scores don't improve for 100 rounds\n",
      "[100]\ttraining's l1: 0.735367\tvalid_1's l1: 1.53763\n"
     ]
    },
    {
     "name": "stderr",
     "output_type": "stream",
     "text": [
      "\u001b[32m[I 2021-07-26 15:24:16,946]\u001b[0m Trial 80 finished with value: -1.528756784462772 and parameters: {'max_depth': 17, 'min_child_weight': 18, 'subsample': 0.5, 'colsample_bytree': 0.6, 'reg_lambda': 0.003548362569557838, 'reg_alpha': 0.02826119865035943, 'feature_fraction': 0.64264644071341, 'bagging_fraction': 0.9087052645023737, 'bagging_freq': 1, 'num_leaves': 993, 'min_child_samples': 100}. Best is trial 75 with value: -1.5112104433774558.\u001b[0m\n"
     ]
    },
    {
     "name": "stdout",
     "output_type": "stream",
     "text": [
      "Early stopping, best iteration is:\n",
      "[53]\ttraining's l1: 0.790631\tvalid_1's l1: 1.52877\n",
      "[LightGBM] [Warning] feature_fraction is set=0.6885561827827128, colsample_bytree=0.5 will be ignored. Current value: feature_fraction=0.6885561827827128\n",
      "[LightGBM] [Warning] bagging_fraction is set=0.9588039503951739, subsample=0.5 will be ignored. Current value: bagging_fraction=0.9588039503951739\n",
      "[LightGBM] [Warning] bagging_freq is set=3, subsample_freq=0 will be ignored. Current value: bagging_freq=3\n",
      "Training until validation scores don't improve for 100 rounds\n",
      "[100]\ttraining's l1: 0.72935\tvalid_1's l1: 1.53432\n"
     ]
    },
    {
     "name": "stderr",
     "output_type": "stream",
     "text": [
      "\u001b[32m[I 2021-07-26 15:24:35,960]\u001b[0m Trial 81 finished with value: -1.5275627138351944 and parameters: {'max_depth': 18, 'min_child_weight': 15, 'subsample': 0.5, 'colsample_bytree': 0.5, 'reg_lambda': 0.016369208076510378, 'reg_alpha': 0.015852403617487725, 'feature_fraction': 0.6885561827827128, 'bagging_fraction': 0.9588039503951739, 'bagging_freq': 3, 'num_leaves': 923, 'min_child_samples': 98}. Best is trial 75 with value: -1.5112104433774558.\u001b[0m\n"
     ]
    },
    {
     "name": "stdout",
     "output_type": "stream",
     "text": [
      "Early stopping, best iteration is:\n",
      "[72]\ttraining's l1: 0.757598\tvalid_1's l1: 1.52759\n",
      "[LightGBM] [Warning] feature_fraction is set=0.5809964386467835, colsample_bytree=0.6 will be ignored. Current value: feature_fraction=0.5809964386467835\n",
      "[LightGBM] [Warning] bagging_fraction is set=0.9342724615286878, subsample=0.6 will be ignored. Current value: bagging_fraction=0.9342724615286878\n",
      "[LightGBM] [Warning] bagging_freq is set=2, subsample_freq=0 will be ignored. Current value: bagging_freq=2\n",
      "Training until validation scores don't improve for 100 rounds\n",
      "[100]\ttraining's l1: 0.72737\tvalid_1's l1: 1.52657\n"
     ]
    },
    {
     "name": "stderr",
     "output_type": "stream",
     "text": [
      "\u001b[32m[I 2021-07-26 15:24:59,797]\u001b[0m Trial 82 finished with value: -1.5233910387134233 and parameters: {'max_depth': 19, 'min_child_weight': 19, 'subsample': 0.6, 'colsample_bytree': 0.6, 'reg_lambda': 0.0036428974207820494, 'reg_alpha': 0.008442162173820399, 'feature_fraction': 0.5809964386467835, 'bagging_fraction': 0.9342724615286878, 'bagging_freq': 2, 'num_leaves': 971, 'min_child_samples': 81}. Best is trial 75 with value: -1.5112104433774558.\u001b[0m\n"
     ]
    },
    {
     "name": "stdout",
     "output_type": "stream",
     "text": [
      "Early stopping, best iteration is:\n",
      "[78]\ttraining's l1: 0.749718\tvalid_1's l1: 1.52351\n",
      "[LightGBM] [Warning] feature_fraction is set=0.5496441848796646, colsample_bytree=0.6 will be ignored. Current value: feature_fraction=0.5496441848796646\n",
      "[LightGBM] [Warning] bagging_fraction is set=0.9318342796071093, subsample=0.6 will be ignored. Current value: bagging_fraction=0.9318342796071093\n",
      "[LightGBM] [Warning] bagging_freq is set=1, subsample_freq=0 will be ignored. Current value: bagging_freq=1\n",
      "Training until validation scores don't improve for 100 rounds\n",
      "[100]\ttraining's l1: 0.727899\tvalid_1's l1: 1.53909\n",
      "[200]\ttraining's l1: 0.699683\tvalid_1's l1: 1.54196\n"
     ]
    },
    {
     "name": "stderr",
     "output_type": "stream",
     "text": [
      "\u001b[32m[I 2021-07-26 15:25:21,837]\u001b[0m Trial 83 finished with value: -1.538348518479679 and parameters: {'max_depth': 20, 'min_child_weight': 19, 'subsample': 0.6, 'colsample_bytree': 0.6, 'reg_lambda': 0.0035198396787648784, 'reg_alpha': 0.008741033654280332, 'feature_fraction': 0.5496441848796646, 'bagging_fraction': 0.9318342796071093, 'bagging_freq': 1, 'num_leaves': 979, 'min_child_samples': 78}. Best is trial 75 with value: -1.5112104433774558.\u001b[0m\n"
     ]
    },
    {
     "name": "stdout",
     "output_type": "stream",
     "text": [
      "Early stopping, best iteration is:\n",
      "[110]\ttraining's l1: 0.723819\tvalid_1's l1: 1.5385\n",
      "[LightGBM] [Warning] feature_fraction is set=0.6374354896097202, colsample_bytree=0.6 will be ignored. Current value: feature_fraction=0.6374354896097202\n",
      "[LightGBM] [Warning] bagging_fraction is set=0.8750892752458916, subsample=0.5 will be ignored. Current value: bagging_fraction=0.8750892752458916\n",
      "[LightGBM] [Warning] bagging_freq is set=3, subsample_freq=0 will be ignored. Current value: bagging_freq=3\n",
      "Training until validation scores don't improve for 100 rounds\n",
      "[100]\ttraining's l1: 0.738545\tvalid_1's l1: 1.53589\n",
      "[200]\ttraining's l1: 0.711493\tvalid_1's l1: 1.54271\n"
     ]
    },
    {
     "name": "stderr",
     "output_type": "stream",
     "text": [
      "\u001b[32m[I 2021-07-26 15:25:41,872]\u001b[0m Trial 84 finished with value: -1.535356089177407 and parameters: {'max_depth': 16, 'min_child_weight': 19, 'subsample': 0.5, 'colsample_bytree': 0.6, 'reg_lambda': 0.0013940947999954904, 'reg_alpha': 0.05044602344468929, 'feature_fraction': 0.6374354896097202, 'bagging_fraction': 0.8750892752458916, 'bagging_freq': 3, 'num_leaves': 948, 'min_child_samples': 82}. Best is trial 75 with value: -1.5112104433774558.\u001b[0m\n"
     ]
    },
    {
     "name": "stdout",
     "output_type": "stream",
     "text": [
      "Early stopping, best iteration is:\n",
      "[109]\ttraining's l1: 0.734067\tvalid_1's l1: 1.53541\n",
      "[LightGBM] [Warning] feature_fraction is set=0.6101332877870868, colsample_bytree=0.6 will be ignored. Current value: feature_fraction=0.6101332877870868\n",
      "[LightGBM] [Warning] bagging_fraction is set=0.98998652407001, subsample=0.6 will be ignored. Current value: bagging_fraction=0.98998652407001\n",
      "[LightGBM] [Warning] bagging_freq is set=2, subsample_freq=0 will be ignored. Current value: bagging_freq=2\n",
      "Training until validation scores don't improve for 100 rounds\n",
      "[100]\ttraining's l1: 0.737403\tvalid_1's l1: 1.52036\n"
     ]
    },
    {
     "name": "stderr",
     "output_type": "stream",
     "text": [
      "\u001b[32m[I 2021-07-26 15:26:07,024]\u001b[0m Trial 85 finished with value: -1.5162828487474023 and parameters: {'max_depth': 17, 'min_child_weight': 17, 'subsample': 0.6, 'colsample_bytree': 0.6, 'reg_lambda': 0.022644157960506756, 'reg_alpha': 0.00414120386525171, 'feature_fraction': 0.6101332877870868, 'bagging_fraction': 0.98998652407001, 'bagging_freq': 2, 'num_leaves': 885, 'min_child_samples': 94}. Best is trial 75 with value: -1.5112104433774558.\u001b[0m\n"
     ]
    },
    {
     "name": "stdout",
     "output_type": "stream",
     "text": [
      "Early stopping, best iteration is:\n",
      "[85]\ttraining's l1: 0.749784\tvalid_1's l1: 1.51631\n",
      "[LightGBM] [Warning] feature_fraction is set=0.5055996206167128, colsample_bytree=0.6 will be ignored. Current value: feature_fraction=0.5055996206167128\n",
      "[LightGBM] [Warning] bagging_fraction is set=0.9839418071929924, subsample=0.6 will be ignored. Current value: bagging_fraction=0.9839418071929924\n",
      "[LightGBM] [Warning] bagging_freq is set=2, subsample_freq=0 will be ignored. Current value: bagging_freq=2\n",
      "Training until validation scores don't improve for 100 rounds\n",
      "[100]\ttraining's l1: 0.740884\tvalid_1's l1: 1.5427\n"
     ]
    },
    {
     "name": "stderr",
     "output_type": "stream",
     "text": [
      "\u001b[32m[I 2021-07-26 15:26:28,472]\u001b[0m Trial 86 finished with value: -1.5417290557689955 and parameters: {'max_depth': 17, 'min_child_weight': 17, 'subsample': 0.6, 'colsample_bytree': 0.6, 'reg_lambda': 0.007542866492560796, 'reg_alpha': 0.003968185301117062, 'feature_fraction': 0.5055996206167128, 'bagging_fraction': 0.9839418071929924, 'bagging_freq': 2, 'num_leaves': 875, 'min_child_samples': 93}. Best is trial 75 with value: -1.5112104433774558.\u001b[0m\n"
     ]
    },
    {
     "name": "stdout",
     "output_type": "stream",
     "text": [
      "Early stopping, best iteration is:\n",
      "[88]\ttraining's l1: 0.7503\tvalid_1's l1: 1.54182\n",
      "[LightGBM] [Warning] feature_fraction is set=0.4540175793962469, colsample_bytree=0.6 will be ignored. Current value: feature_fraction=0.4540175793962469\n",
      "[LightGBM] [Warning] bagging_fraction is set=0.9130012701821615, subsample=0.6 will be ignored. Current value: bagging_fraction=0.9130012701821615\n",
      "[LightGBM] [Warning] bagging_freq is set=1, subsample_freq=0 will be ignored. Current value: bagging_freq=1\n",
      "Training until validation scores don't improve for 100 rounds\n",
      "[100]\ttraining's l1: 0.741155\tvalid_1's l1: 1.52697\n",
      "[200]\ttraining's l1: 0.708467\tvalid_1's l1: 1.52416\n",
      "Early stopping, best iteration is:\n",
      "[158]\ttraining's l1: 0.721887\tvalid_1's l1: 1.52283\n"
     ]
    },
    {
     "name": "stderr",
     "output_type": "stream",
     "text": [
      "\u001b[32m[I 2021-07-26 15:26:51,809]\u001b[0m Trial 87 finished with value: -1.5227173006254666 and parameters: {'max_depth': 18, 'min_child_weight': 20, 'subsample': 0.6, 'colsample_bytree': 0.6, 'reg_lambda': 0.02494098059822145, 'reg_alpha': 0.002663067356656285, 'feature_fraction': 0.4540175793962469, 'bagging_fraction': 0.9130012701821615, 'bagging_freq': 1, 'num_leaves': 968, 'min_child_samples': 95}. Best is trial 75 with value: -1.5112104433774558.\u001b[0m\n"
     ]
    },
    {
     "name": "stdout",
     "output_type": "stream",
     "text": [
      "[LightGBM] [Warning] feature_fraction is set=0.4565955764048185, colsample_bytree=0.6 will be ignored. Current value: feature_fraction=0.4565955764048185\n",
      "[LightGBM] [Warning] bagging_fraction is set=0.911370923236627, subsample=0.6 will be ignored. Current value: bagging_fraction=0.911370923236627\n",
      "[LightGBM] [Warning] bagging_freq is set=1, subsample_freq=0 will be ignored. Current value: bagging_freq=1\n",
      "Training until validation scores don't improve for 100 rounds\n",
      "[100]\ttraining's l1: 0.736419\tvalid_1's l1: 1.52333\n"
     ]
    },
    {
     "name": "stderr",
     "output_type": "stream",
     "text": [
      "\u001b[32m[I 2021-07-26 15:27:10,353]\u001b[0m Trial 88 finished with value: -1.5219043247468222 and parameters: {'max_depth': 19, 'min_child_weight': 20, 'subsample': 0.6, 'colsample_bytree': 0.6, 'reg_lambda': 0.04320799450939315, 'reg_alpha': 0.0013786300851489966, 'feature_fraction': 0.4565955764048185, 'bagging_fraction': 0.911370923236627, 'bagging_freq': 1, 'num_leaves': 973, 'min_child_samples': 97}. Best is trial 75 with value: -1.5112104433774558.\u001b[0m\n"
     ]
    },
    {
     "name": "stdout",
     "output_type": "stream",
     "text": [
      "Early stopping, best iteration is:\n",
      "[95]\ttraining's l1: 0.740029\tvalid_1's l1: 1.52201\n",
      "[LightGBM] [Warning] feature_fraction is set=0.46552531502784, colsample_bytree=0.6 will be ignored. Current value: feature_fraction=0.46552531502784\n",
      "[LightGBM] [Warning] bagging_fraction is set=0.9066349114526648, subsample=0.5 will be ignored. Current value: bagging_fraction=0.9066349114526648\n",
      "[LightGBM] [Warning] bagging_freq is set=1, subsample_freq=0 will be ignored. Current value: bagging_freq=1\n",
      "Training until validation scores don't improve for 100 rounds\n",
      "[100]\ttraining's l1: 0.849353\tvalid_1's l1: 1.55572\n"
     ]
    },
    {
     "name": "stderr",
     "output_type": "stream",
     "text": [
      "\u001b[32m[I 2021-07-26 15:27:21,241]\u001b[0m Trial 89 finished with value: -1.55419209491457 and parameters: {'max_depth': 20, 'min_child_weight': 20, 'subsample': 0.5, 'colsample_bytree': 0.6, 'reg_lambda': 0.0385442588142045, 'reg_alpha': 0.001255438926905612, 'feature_fraction': 0.46552531502784, 'bagging_fraction': 0.9066349114526648, 'bagging_freq': 1, 'num_leaves': 243, 'min_child_samples': 97}. Best is trial 75 with value: -1.5112104433774558.\u001b[0m\n"
     ]
    },
    {
     "name": "stdout",
     "output_type": "stream",
     "text": [
      "Early stopping, best iteration is:\n",
      "[85]\ttraining's l1: 0.855003\tvalid_1's l1: 1.55431\n",
      "[LightGBM] [Warning] feature_fraction is set=0.3633338258864297, colsample_bytree=0.6 will be ignored. Current value: feature_fraction=0.3633338258864297\n",
      "[LightGBM] [Warning] bagging_fraction is set=0.8734142190754168, subsample=0.6 will be ignored. Current value: bagging_fraction=0.8734142190754168\n",
      "[LightGBM] [Warning] bagging_freq is set=1, subsample_freq=0 will be ignored. Current value: bagging_freq=1\n",
      "Training until validation scores don't improve for 100 rounds\n",
      "[100]\ttraining's l1: 0.743404\tvalid_1's l1: 1.54128\n"
     ]
    },
    {
     "name": "stderr",
     "output_type": "stream",
     "text": [
      "\u001b[32m[I 2021-07-26 15:27:37,026]\u001b[0m Trial 90 finished with value: -1.5368588743286589 and parameters: {'max_depth': 18, 'min_child_weight': 18, 'subsample': 0.6, 'colsample_bytree': 0.6, 'reg_lambda': 0.025485977830551905, 'reg_alpha': 0.002340484967741643, 'feature_fraction': 0.3633338258864297, 'bagging_fraction': 0.8734142190754168, 'bagging_freq': 1, 'num_leaves': 995, 'min_child_samples': 95}. Best is trial 75 with value: -1.5112104433774558.\u001b[0m\n"
     ]
    },
    {
     "name": "stdout",
     "output_type": "stream",
     "text": [
      "Early stopping, best iteration is:\n",
      "[79]\ttraining's l1: 0.759103\tvalid_1's l1: 1.53696\n",
      "[LightGBM] [Warning] feature_fraction is set=0.43531982902421507, colsample_bytree=0.6 will be ignored. Current value: feature_fraction=0.43531982902421507\n",
      "[LightGBM] [Warning] bagging_fraction is set=0.9319508096148805, subsample=0.6 will be ignored. Current value: bagging_fraction=0.9319508096148805\n",
      "[LightGBM] [Warning] bagging_freq is set=2, subsample_freq=0 will be ignored. Current value: bagging_freq=2\n",
      "Training until validation scores don't improve for 100 rounds\n",
      "[100]\ttraining's l1: 0.737094\tvalid_1's l1: 1.55135\n"
     ]
    },
    {
     "name": "stderr",
     "output_type": "stream",
     "text": [
      "\u001b[32m[I 2021-07-26 15:27:55,774]\u001b[0m Trial 91 finished with value: -1.545369024284367 and parameters: {'max_depth': 19, 'min_child_weight': 17, 'subsample': 0.6, 'colsample_bytree': 0.6, 'reg_lambda': 0.06278287105597607, 'reg_alpha': 0.002835529538317847, 'feature_fraction': 0.43531982902421507, 'bagging_fraction': 0.9319508096148805, 'bagging_freq': 2, 'num_leaves': 968, 'min_child_samples': 90}. Best is trial 75 with value: -1.5112104433774558.\u001b[0m\n"
     ]
    },
    {
     "name": "stdout",
     "output_type": "stream",
     "text": [
      "Early stopping, best iteration is:\n",
      "[65]\ttraining's l1: 0.772801\tvalid_1's l1: 1.54539\n",
      "[LightGBM] [Warning] feature_fraction is set=0.4477044839868437, colsample_bytree=0.6 will be ignored. Current value: feature_fraction=0.4477044839868437\n",
      "[LightGBM] [Warning] bagging_fraction is set=0.9984718356317568, subsample=0.6 will be ignored. Current value: bagging_fraction=0.9984718356317568\n",
      "[LightGBM] [Warning] bagging_freq is set=1, subsample_freq=0 will be ignored. Current value: bagging_freq=1\n",
      "Training until validation scores don't improve for 100 rounds\n",
      "[100]\ttraining's l1: 1.03364\tvalid_1's l1: 1.59884\n",
      "[200]\ttraining's l1: 1.0102\tvalid_1's l1: 1.58594\n",
      "[300]\ttraining's l1: 0.994602\tvalid_1's l1: 1.57892\n",
      "[400]\ttraining's l1: 0.976937\tvalid_1's l1: 1.57287\n",
      "[500]\ttraining's l1: 0.961621\tvalid_1's l1: 1.56379\n"
     ]
    },
    {
     "name": "stderr",
     "output_type": "stream",
     "text": [
      "\u001b[32m[I 2021-07-26 15:28:16,458]\u001b[0m Trial 92 finished with value: -1.5632242712873154 and parameters: {'max_depth': 18, 'min_child_weight': 20, 'subsample': 0.6, 'colsample_bytree': 0.6, 'reg_lambda': 0.013349356812606624, 'reg_alpha': 0.0015263929447897273, 'feature_fraction': 0.4477044839868437, 'bagging_fraction': 0.9984718356317568, 'bagging_freq': 1, 'num_leaves': 14, 'min_child_samples': 85}. Best is trial 75 with value: -1.5112104433774558.\u001b[0m\n"
     ]
    },
    {
     "name": "stdout",
     "output_type": "stream",
     "text": [
      "[600]\ttraining's l1: 0.951307\tvalid_1's l1: 1.5661\n",
      "Early stopping, best iteration is:\n",
      "[503]\ttraining's l1: 0.961108\tvalid_1's l1: 1.56352\n",
      "[LightGBM] [Warning] feature_fraction is set=0.4069926426779601, colsample_bytree=0.6 will be ignored. Current value: feature_fraction=0.4069926426779601\n",
      "[LightGBM] [Warning] bagging_fraction is set=0.9162481756778643, subsample=0.6 will be ignored. Current value: bagging_fraction=0.9162481756778643\n",
      "[LightGBM] [Warning] bagging_freq is set=2, subsample_freq=0 will be ignored. Current value: bagging_freq=2\n",
      "Training until validation scores don't improve for 100 rounds\n",
      "[100]\ttraining's l1: 0.745565\tvalid_1's l1: 1.53455\n",
      "[200]\ttraining's l1: 0.710047\tvalid_1's l1: 1.53208\n",
      "Early stopping, best iteration is:\n",
      "[158]\ttraining's l1: 0.729014\tvalid_1's l1: 1.53067\n"
     ]
    },
    {
     "name": "stderr",
     "output_type": "stream",
     "text": [
      "\u001b[32m[I 2021-07-26 15:28:42,143]\u001b[0m Trial 93 finished with value: -1.5305989413908636 and parameters: {'max_depth': 17, 'min_child_weight': 19, 'subsample': 0.6, 'colsample_bytree': 0.6, 'reg_lambda': 0.02416058225266008, 'reg_alpha': 0.0010025284331320555, 'feature_fraction': 0.4069926426779601, 'bagging_fraction': 0.9162481756778643, 'bagging_freq': 2, 'num_leaves': 948, 'min_child_samples': 99}. Best is trial 75 with value: -1.5112104433774558.\u001b[0m\n"
     ]
    },
    {
     "name": "stdout",
     "output_type": "stream",
     "text": [
      "[LightGBM] [Warning] feature_fraction is set=0.6092489158287779, colsample_bytree=0.6 will be ignored. Current value: feature_fraction=0.6092489158287779\n",
      "[LightGBM] [Warning] bagging_fraction is set=0.9378955489924974, subsample=0.6 will be ignored. Current value: bagging_fraction=0.9378955489924974\n",
      "[LightGBM] [Warning] bagging_freq is set=1, subsample_freq=0 will be ignored. Current value: bagging_freq=1\n",
      "Training until validation scores don't improve for 100 rounds\n",
      "[100]\ttraining's l1: 0.722533\tvalid_1's l1: 1.53568\n"
     ]
    },
    {
     "name": "stderr",
     "output_type": "stream",
     "text": [
      "\u001b[32m[I 2021-07-26 15:29:01,608]\u001b[0m Trial 94 finished with value: -1.5317584961232804 and parameters: {'max_depth': 20, 'min_child_weight': 19, 'subsample': 0.6, 'colsample_bytree': 0.6, 'reg_lambda': 0.0018293769517093213, 'reg_alpha': 0.0032971956567203592, 'feature_fraction': 0.6092489158287779, 'bagging_fraction': 0.9378955489924974, 'bagging_freq': 1, 'num_leaves': 1000, 'min_child_samples': 90}. Best is trial 75 with value: -1.5112104433774558.\u001b[0m\n"
     ]
    },
    {
     "name": "stdout",
     "output_type": "stream",
     "text": [
      "Early stopping, best iteration is:\n",
      "[66]\ttraining's l1: 0.757444\tvalid_1's l1: 1.53182\n",
      "[LightGBM] [Warning] feature_fraction is set=0.5426025782040879, colsample_bytree=0.6 will be ignored. Current value: feature_fraction=0.5426025782040879\n",
      "[LightGBM] [Warning] bagging_fraction is set=0.8997120943416701, subsample=0.6 will be ignored. Current value: bagging_fraction=0.8997120943416701\n",
      "[LightGBM] [Warning] bagging_freq is set=3, subsample_freq=0 will be ignored. Current value: bagging_freq=3\n",
      "Training until validation scores don't improve for 100 rounds\n",
      "[100]\ttraining's l1: 0.735077\tvalid_1's l1: 1.54124\n"
     ]
    },
    {
     "name": "stderr",
     "output_type": "stream",
     "text": [
      "\u001b[32m[I 2021-07-26 15:29:20,376]\u001b[0m Trial 95 finished with value: -1.532769963121294 and parameters: {'max_depth': 19, 'min_child_weight': 18, 'subsample': 0.6, 'colsample_bytree': 0.6, 'reg_lambda': 0.0072876772743354756, 'reg_alpha': 0.004685345681916382, 'feature_fraction': 0.5426025782040879, 'bagging_fraction': 0.8997120943416701, 'bagging_freq': 3, 'num_leaves': 892, 'min_child_samples': 97}. Best is trial 75 with value: -1.5112104433774558.\u001b[0m\n"
     ]
    },
    {
     "name": "stdout",
     "output_type": "stream",
     "text": [
      "Early stopping, best iteration is:\n",
      "[61]\ttraining's l1: 0.779003\tvalid_1's l1: 1.5328\n",
      "[LightGBM] [Warning] feature_fraction is set=0.5077958448432096, colsample_bytree=0.6 will be ignored. Current value: feature_fraction=0.5077958448432096\n",
      "[LightGBM] [Warning] bagging_fraction is set=0.9912987461201578, subsample=0.6 will be ignored. Current value: bagging_fraction=0.9912987461201578\n",
      "[LightGBM] [Warning] bagging_freq is set=2, subsample_freq=0 will be ignored. Current value: bagging_freq=2\n",
      "Training until validation scores don't improve for 100 rounds\n",
      "[100]\ttraining's l1: 0.731782\tvalid_1's l1: 1.53168\n"
     ]
    },
    {
     "name": "stderr",
     "output_type": "stream",
     "text": [
      "\u001b[32m[I 2021-07-26 15:29:43,201]\u001b[0m Trial 96 finished with value: -1.5297863692609488 and parameters: {'max_depth': 19, 'min_child_weight': 16, 'subsample': 0.6, 'colsample_bytree': 0.6, 'reg_lambda': 0.09605946086727882, 'reg_alpha': 0.0020379136312912126, 'feature_fraction': 0.5077958448432096, 'bagging_fraction': 0.9912987461201578, 'bagging_freq': 2, 'num_leaves': 969, 'min_child_samples': 86}. Best is trial 75 with value: -1.5112104433774558.\u001b[0m\n"
     ]
    },
    {
     "name": "stdout",
     "output_type": "stream",
     "text": [
      "Early stopping, best iteration is:\n",
      "[88]\ttraining's l1: 0.738692\tvalid_1's l1: 1.5299\n",
      "[LightGBM] [Warning] feature_fraction is set=0.5635801620751167, colsample_bytree=0.7 will be ignored. Current value: feature_fraction=0.5635801620751167\n",
      "[LightGBM] [Warning] bagging_fraction is set=0.8658001465087283, subsample=0.6 will be ignored. Current value: bagging_fraction=0.8658001465087283\n",
      "[LightGBM] [Warning] bagging_freq is set=3, subsample_freq=0 will be ignored. Current value: bagging_freq=3\n",
      "Training until validation scores don't improve for 100 rounds\n",
      "[100]\ttraining's l1: 0.743286\tvalid_1's l1: 1.54292\n",
      "[200]\ttraining's l1: 0.717741\tvalid_1's l1: 1.53778\n",
      "[300]\ttraining's l1: 0.689678\tvalid_1's l1: 1.53909\n",
      "Early stopping, best iteration is:\n",
      "[240]\ttraining's l1: 0.706368\tvalid_1's l1: 1.53698\n"
     ]
    },
    {
     "name": "stderr",
     "output_type": "stream",
     "text": [
      "\u001b[32m[I 2021-07-26 15:30:18,409]\u001b[0m Trial 97 finished with value: -1.5368317638695137 and parameters: {'max_depth': 17, 'min_child_weight': 20, 'subsample': 0.6, 'colsample_bytree': 0.7, 'reg_lambda': 0.0028074159928085027, 'reg_alpha': 0.006629079936996479, 'feature_fraction': 0.5635801620751167, 'bagging_fraction': 0.8658001465087283, 'bagging_freq': 3, 'num_leaves': 860, 'min_child_samples': 92}. Best is trial 75 with value: -1.5112104433774558.\u001b[0m\n"
     ]
    },
    {
     "name": "stdout",
     "output_type": "stream",
     "text": [
      "[LightGBM] [Warning] feature_fraction is set=0.47177580090630644, colsample_bytree=0.5 will be ignored. Current value: feature_fraction=0.47177580090630644\n",
      "[LightGBM] [Warning] bagging_fraction is set=0.7955076042453602, subsample=0.5 will be ignored. Current value: bagging_fraction=0.7955076042453602\n",
      "[LightGBM] [Warning] bagging_freq is set=1, subsample_freq=0 will be ignored. Current value: bagging_freq=1\n",
      "Training until validation scores don't improve for 100 rounds\n",
      "[100]\ttraining's l1: 0.74304\tvalid_1's l1: 1.54956\n"
     ]
    },
    {
     "name": "stderr",
     "output_type": "stream",
     "text": [
      "\u001b[32m[I 2021-07-26 15:30:34,812]\u001b[0m Trial 98 finished with value: -1.5437259654694488 and parameters: {'max_depth': 18, 'min_child_weight': 17, 'subsample': 0.5, 'colsample_bytree': 0.5, 'reg_lambda': 0.004611927244423263, 'reg_alpha': 0.013446648565839506, 'feature_fraction': 0.47177580090630644, 'bagging_fraction': 0.7955076042453602, 'bagging_freq': 1, 'num_leaves': 925, 'min_child_samples': 95}. Best is trial 75 with value: -1.5112104433774558.\u001b[0m\n"
     ]
    },
    {
     "name": "stdout",
     "output_type": "stream",
     "text": [
      "Early stopping, best iteration is:\n",
      "[81]\ttraining's l1: 0.756485\tvalid_1's l1: 1.54376\n",
      "[LightGBM] [Warning] feature_fraction is set=0.5785407533785776, colsample_bytree=0.6 will be ignored. Current value: feature_fraction=0.5785407533785776\n",
      "[LightGBM] [Warning] bagging_fraction is set=0.8426354910298663, subsample=0.6 will be ignored. Current value: bagging_fraction=0.8426354910298663\n",
      "[LightGBM] [Warning] bagging_freq is set=2, subsample_freq=0 will be ignored. Current value: bagging_freq=2\n",
      "Training until validation scores don't improve for 100 rounds\n",
      "[100]\ttraining's l1: 0.734987\tvalid_1's l1: 1.52534\n"
     ]
    },
    {
     "name": "stderr",
     "output_type": "stream",
     "text": [
      "\u001b[32m[I 2021-07-26 15:30:57,870]\u001b[0m Trial 99 finished with value: -1.522717269953766 and parameters: {'max_depth': 20, 'min_child_weight': 19, 'subsample': 0.6, 'colsample_bytree': 0.6, 'reg_lambda': 0.020828961800606005, 'reg_alpha': 0.0032754287799680484, 'feature_fraction': 0.5785407533785776, 'bagging_fraction': 0.8426354910298663, 'bagging_freq': 2, 'num_leaves': 896, 'min_child_samples': 82}. Best is trial 75 with value: -1.5112104433774558.\u001b[0m\n"
     ]
    },
    {
     "name": "stdout",
     "output_type": "stream",
     "text": [
      "Early stopping, best iteration is:\n",
      "[88]\ttraining's l1: 0.742507\tvalid_1's l1: 1.5228\n"
     ]
    }
   ],
   "source": [
    "study1, study2, study3, study4 = rt4kaido_train.train_and_evaluate(train, isgamedayonly=False)"
   ]
  },
  {
   "cell_type": "code",
   "execution_count": 19,
   "id": "54983707",
   "metadata": {},
   "outputs": [
    {
     "name": "stdout",
     "output_type": "stream",
     "text": [
      "best_score = 1.1313144469529637\n"
     ]
    },
    {
     "data": {
      "text/plain": [
       "{'max_depth': 17,\n",
       " 'min_child_weight': 9,\n",
       " 'subsample': 0.5,\n",
       " 'colsample_bytree': 0.9,\n",
       " 'reg_lambda': 0.727446634761779,\n",
       " 'reg_alpha': 0.011450233662720778,\n",
       " 'feature_fraction': 0.7918931047841931,\n",
       " 'bagging_fraction': 0.9809407690512466,\n",
       " 'bagging_freq': 3,\n",
       " 'num_leaves': 196,\n",
       " 'min_child_samples': 8}"
      ]
     },
     "execution_count": 19,
     "metadata": {},
     "output_type": "execute_result"
    }
   ],
   "source": [
    "print(f'best_score = {-study1.best_value}')\n",
    "study1.best_trial.params"
   ]
  },
  {
   "cell_type": "code",
   "execution_count": 20,
   "id": "03fbdc79",
   "metadata": {},
   "outputs": [
    {
     "name": "stdout",
     "output_type": "stream",
     "text": [
      "best_score = 2.1936616547013386\n"
     ]
    },
    {
     "data": {
      "text/plain": [
       "{'max_depth': 17,\n",
       " 'min_child_weight': 15,\n",
       " 'subsample': 0.8,\n",
       " 'colsample_bytree': 0.5,\n",
       " 'reg_lambda': 0.8072750398241234,\n",
       " 'reg_alpha': 1.7757537811282125,\n",
       " 'feature_fraction': 0.8900641931913705,\n",
       " 'bagging_fraction': 0.6273781884040182,\n",
       " 'bagging_freq': 12,\n",
       " 'num_leaves': 446,\n",
       " 'min_child_samples': 56}"
      ]
     },
     "execution_count": 20,
     "metadata": {},
     "output_type": "execute_result"
    }
   ],
   "source": [
    "print(f'best_score = {-study2.best_value}')\n",
    "study2.best_trial.params"
   ]
  },
  {
   "cell_type": "code",
   "execution_count": 21,
   "id": "34dc6b47",
   "metadata": {},
   "outputs": [
    {
     "name": "stdout",
     "output_type": "stream",
     "text": [
      "best_score = 0.9261387611217992\n"
     ]
    },
    {
     "data": {
      "text/plain": [
       "{'max_depth': 8,\n",
       " 'min_child_weight': 9,\n",
       " 'subsample': 0.6,\n",
       " 'colsample_bytree': 0.7,\n",
       " 'reg_lambda': 1.0228666579447563,\n",
       " 'reg_alpha': 0.2052431622092172,\n",
       " 'feature_fraction': 0.4203866347893859,\n",
       " 'bagging_fraction': 0.8981492881586489,\n",
       " 'bagging_freq': 18,\n",
       " 'num_leaves': 617,\n",
       " 'min_child_samples': 10}"
      ]
     },
     "execution_count": 21,
     "metadata": {},
     "output_type": "execute_result"
    }
   ],
   "source": [
    "print(f'best_score = {-study3.best_value}')\n",
    "study3.best_trial.params"
   ]
  },
  {
   "cell_type": "code",
   "execution_count": 22,
   "id": "5a1f4015",
   "metadata": {},
   "outputs": [
    {
     "name": "stdout",
     "output_type": "stream",
     "text": [
      "best_score = 1.5112104433774558\n"
     ]
    },
    {
     "data": {
      "text/plain": [
       "{'max_depth': 19,\n",
       " 'min_child_weight': 2,\n",
       " 'subsample': 0.6,\n",
       " 'colsample_bytree': 0.6,\n",
       " 'reg_lambda': 0.014960182872762393,\n",
       " 'reg_alpha': 0.0033290732368947643,\n",
       " 'feature_fraction': 0.5985074468204576,\n",
       " 'bagging_fraction': 0.9529027481414207,\n",
       " 'bagging_freq': 2,\n",
       " 'num_leaves': 933,\n",
       " 'min_child_samples': 84}"
      ]
     },
     "execution_count": 22,
     "metadata": {},
     "output_type": "execute_result"
    }
   ],
   "source": [
    "print(f'best_score = {-study4.best_value}')\n",
    "study4.best_trial.params"
   ]
  },
  {
   "cell_type": "code",
   "execution_count": null,
   "id": "21085994",
   "metadata": {},
   "outputs": [],
   "source": []
  }
 ],
 "metadata": {
  "kernelspec": {
   "display_name": "Python 3",
   "language": "python",
   "name": "python3"
  },
  "language_info": {
   "codemirror_mode": {
    "name": "ipython",
    "version": 3
   },
   "file_extension": ".py",
   "mimetype": "text/x-python",
   "name": "python",
   "nbconvert_exporter": "python",
   "pygments_lexer": "ipython3",
   "version": "3.6.13"
  }
 },
 "nbformat": 4,
 "nbformat_minor": 5
}
