{
 "cells": [
  {
   "cell_type": "code",
   "execution_count": 1,
   "id": "1ff71c7a",
   "metadata": {},
   "outputs": [],
   "source": [
    "import gc\n",
    "import os\n",
    "import sys\n",
    "import math\n",
    "import random\n",
    "import warnings\n",
    "import pickle\n",
    "from pathlib import Path\n",
    "from joblib import Parallel, delayed\n",
    "from statsmodels.tsa.deterministic import (CalendarFourier,\n",
    "                                           CalendarSeasonality,\n",
    "                                           CalendarTimeTrend,\n",
    "                                           DeterministicProcess)\n",
    "\n",
    "from tqdm import tqdm\n",
    "import os\n",
    "import ipywidgets as widgets\n",
    "import matplotlib.pyplot as plt\n",
    "import numpy as np\n",
    "import pandas as pd\n",
    "import seaborn as sns\n",
    "# from pandarallel import pandarallel\n",
    "# pandarallel.initialize()\n",
    "warnings.simplefilter(\"ignore\")\n",
    "import ctypes as ct\n",
    "from datetime import timedelta\n",
    "\n",
    "from sklearn.metrics import mean_absolute_error\n",
    "\n",
    "import statistics as st\n",
    "import lightgbm as lgbm\n",
    "from scipy.stats import norm"
   ]
  },
  {
   "cell_type": "code",
   "execution_count": 2,
   "id": "5f623dfc",
   "metadata": {},
   "outputs": [],
   "source": [
    "sys.path.append('../../')\n",
    "import src.utils as utils"
   ]
  },
  {
   "cell_type": "markdown",
   "id": "96f4e917",
   "metadata": {},
   "source": [
    "## Param"
   ]
  },
  {
   "cell_type": "code",
   "execution_count": 22,
   "id": "4686da3b",
   "metadata": {},
   "outputs": [],
   "source": [
    "targets_cols = ['playerId', 'target1', 'target2', 'target3', 'target4', 'date']\n",
    "players_cols = ['playerId', 'primaryPositionName', 'birthCity', 'DOY', 'mlbDebutYear', 'DebutAge', 'heightInches', 'weight']\n",
    "rosters_cols = ['playerId', 'teamId', 'status', 'date']\n",
    "scores_cols = ['playerId', 'battingOrder', 'gamesPlayedBatting', 'flyOuts',\n",
    "       'groundOuts', 'runsScored', 'doubles', 'triples', 'homeRuns',\n",
    "       'strikeOuts', 'baseOnBalls', 'intentionalWalks', 'hits', 'hitByPitch',\n",
    "       'atBats', 'caughtStealing', 'stolenBases', 'groundIntoDoublePlay',\n",
    "       'groundIntoTriplePlay', 'plateAppearances', 'totalBases', 'rbi',\n",
    "       'leftOnBase', 'sacBunts', 'sacFlies', 'catchersInterference',\n",
    "       'pickoffs', 'gamesPlayedPitching', 'gamesStartedPitching',\n",
    "       'completeGamesPitching', 'shutoutsPitching', 'winsPitching',\n",
    "       'lossesPitching', 'flyOutsPitching', 'airOutsPitching',\n",
    "       'groundOutsPitching', 'runsPitching', 'doublesPitching',\n",
    "       'triplesPitching', 'homeRunsPitching', 'strikeOutsPitching',\n",
    "       'baseOnBallsPitching', 'intentionalWalksPitching', 'hitsPitching',\n",
    "       'hitByPitchPitching', 'atBatsPitching', 'caughtStealingPitching',\n",
    "       'stolenBasesPitching', 'inningsPitched', 'saveOpportunities',\n",
    "       'earnedRuns', 'battersFaced', 'outsPitching', 'pitchesThrown', 'balls',\n",
    "       'strikes', 'hitBatsmen', 'balks', 'wildPitches', 'pickoffsPitching',\n",
    "       'rbiPitching', 'gamesFinishedPitching', 'inheritedRunners',\n",
    "       'inheritedRunnersScored', 'catchersInterferencePitching',\n",
    "       'sacBuntsPitching', 'sacFliesPitching', 'saves', 'holds', 'blownSaves',\n",
    "       'assists', 'putOuts', 'errors', 'chances', 'date']\n",
    "\n",
    "feature_cols1 = ['label_playerId', 'label_primaryPositionName', 'label_teamId',\n",
    "       'label_status', 'battingOrder', 'gamesPlayedBatting', 'flyOuts',\n",
    "       'groundOuts', 'runsScored', 'doubles', 'triples', 'homeRuns',\n",
    "       'strikeOuts', 'baseOnBalls', 'intentionalWalks', 'hits', 'hitByPitch',\n",
    "       'atBats', 'caughtStealing', 'stolenBases', 'groundIntoDoublePlay',\n",
    "       'groundIntoTriplePlay', 'plateAppearances', 'totalBases', 'rbi',\n",
    "       'leftOnBase', 'sacBunts', 'sacFlies', 'catchersInterference',\n",
    "       'pickoffs', 'gamesPlayedPitching', 'gamesStartedPitching',\n",
    "       'completeGamesPitching', 'shutoutsPitching', 'winsPitching',\n",
    "       'lossesPitching', 'flyOutsPitching', 'airOutsPitching',\n",
    "       'groundOutsPitching', 'runsPitching', 'doublesPitching',\n",
    "       'triplesPitching', 'homeRunsPitching', 'strikeOutsPitching',\n",
    "       'baseOnBallsPitching', 'intentionalWalksPitching', 'hitsPitching',\n",
    "       'hitByPitchPitching', 'atBatsPitching', 'caughtStealingPitching',\n",
    "       'stolenBasesPitching', 'inningsPitched', 'saveOpportunities',\n",
    "       'earnedRuns', 'battersFaced', 'outsPitching', 'pitchesThrown', 'balls',\n",
    "       'strikes', 'hitBatsmen', 'balks', 'wildPitches', 'pickoffsPitching',\n",
    "       'rbiPitching', 'gamesFinishedPitching', 'inheritedRunners',\n",
    "       'inheritedRunnersScored', 'catchersInterferencePitching',\n",
    "       'sacBuntsPitching', 'sacFliesPitching', 'saves', 'holds', 'blownSaves',\n",
    "       'assists', 'putOuts', 'errors', 'chances',\n",
    "        \"target1_mean\",\"target1_median\",\"target1_std\",\"target1_min\",\"target1_max\",\"target1_skew\",\"target1_kurt\",\n",
    "         \"target2_mean\",\"target2_median\",\"target2_std\",\"target2_min\",\"target2_max\",\"target2_skew\",\"target2_kurt\",\n",
    "        \"target3_mean\",\"target3_median\",\"target3_std\",\"target3_min\",\"target3_max\",\"target3_skew\",\"target3_kurt\",\n",
    "        \"target4_mean\",\"target4_median\",\"target4_std\",\"target4_min\",\"target4_max\",\"target4_skew\",\"target4_kurt\",\n",
    "        \"2_target1_mean\",\"2_target1_median\",\"2_target1_std\",\"2_target1_min\",\"2_target1_max\",\"2_target1_skew\",\"2_target1_kurt\",\n",
    "        \"2_target2_mean\",\"2_target2_median\",\"2_target2_std\",\"2_target2_min\",\"2_target2_max\",\"2_target2_skew\",\"2_target2_kurt\",\n",
    "        \"2_target3_mean\",\"2_target3_median\",\"2_target3_std\",\"2_target3_min\",\"2_target3_max\",\"2_target3_skew\",\"2_target3_kurt\",\n",
    "        \"2_target4_mean\",\"2_target4_median\",\"2_target4_std\",\"2_target4_min\",\"2_target4_max\",\"2_target4_skew\",\"2_target4_kurt\"] \n",
    "\n",
    "feature_cols2 = ['label_playerId', 'label_primaryPositionName', 'label_teamId',\n",
    "       'label_status', 'battingOrder', 'gamesPlayedBatting', 'flyOuts',\n",
    "       'groundOuts', 'runsScored', 'doubles', 'triples', 'homeRuns',\n",
    "       'strikeOuts', 'baseOnBalls', 'intentionalWalks', 'hits', 'hitByPitch',\n",
    "       'atBats', 'caughtStealing', 'stolenBases', 'groundIntoDoublePlay',\n",
    "       'groundIntoTriplePlay', 'plateAppearances', 'totalBases', 'rbi',\n",
    "       'leftOnBase', 'sacBunts', 'sacFlies', 'catchersInterference',\n",
    "       'pickoffs', 'gamesPlayedPitching', 'gamesStartedPitching',\n",
    "       'completeGamesPitching', 'shutoutsPitching', 'winsPitching',\n",
    "       'lossesPitching', 'flyOutsPitching', 'airOutsPitching',\n",
    "       'groundOutsPitching', 'runsPitching', 'doublesPitching',\n",
    "       'triplesPitching', 'homeRunsPitching', 'strikeOutsPitching',\n",
    "       'baseOnBallsPitching', 'intentionalWalksPitching', 'hitsPitching',\n",
    "       'hitByPitchPitching', 'atBatsPitching', 'caughtStealingPitching',\n",
    "       'stolenBasesPitching', 'inningsPitched', 'saveOpportunities',\n",
    "       'earnedRuns', 'battersFaced', 'outsPitching', 'pitchesThrown', 'balls',\n",
    "       'strikes', 'hitBatsmen', 'balks', 'wildPitches', 'pickoffsPitching',\n",
    "       'rbiPitching', 'gamesFinishedPitching', 'inheritedRunners',\n",
    "       'inheritedRunnersScored', 'catchersInterferencePitching',\n",
    "       'sacBuntsPitching', 'sacFliesPitching', 'saves', 'holds', 'blownSaves',\n",
    "       'assists', 'putOuts', 'errors', 'chances',\n",
    "        \"target1_mean\",\"target1_median\",\"target1_std\",\"target1_min\",\"target1_max\",\"target1_skew\",\"target1_kurt\",\n",
    "         \"target2_mean\",\"target2_median\",\"target2_std\",\"target2_min\",\"target2_max\",\"target2_skew\",\"target2_kurt\",\n",
    "        \"target3_mean\",\"target3_median\",\"target3_std\",\"target3_min\",\"target3_max\",\"target3_skew\",\"target3_kurt\",\n",
    "        \"target4_mean\",\"target4_median\",\"target4_std\",\"target4_min\",\"target4_max\",\"target4_skew\",\"target4_kurt\",\n",
    "        \"2_target1_mean\",\"2_target1_median\",\"2_target1_std\",\"2_target1_min\",\"2_target1_max\",\"2_target1_skew\",\"2_target1_kurt\",\n",
    "        \"2_target2_mean\",\"2_target2_median\",\"2_target2_std\",\"2_target2_min\",\"2_target2_max\",\"2_target2_skew\",\"2_target2_kurt\",\n",
    "        \"2_target3_mean\",\"2_target3_median\",\"2_target3_std\",\"2_target3_min\",\"2_target3_max\",\"2_target3_skew\",\"2_target3_kurt\",\n",
    "        \"2_target4_mean\",\"2_target4_median\",\"2_target4_std\",\"2_target4_min\",\"2_target4_max\",\"2_target4_skew\",\"2_target4_kurt\"] \n",
    "\n",
    "feature_cols3 = ['label_playerId', 'label_primaryPositionName', 'label_teamId',\n",
    "       'label_status', 'battingOrder', 'gamesPlayedBatting', 'flyOuts',\n",
    "       'groundOuts', 'runsScored', 'doubles', 'triples', 'homeRuns',\n",
    "       'strikeOuts', 'baseOnBalls', 'intentionalWalks', 'hits', 'hitByPitch',\n",
    "       'atBats', 'caughtStealing', 'stolenBases', 'groundIntoDoublePlay',\n",
    "       'groundIntoTriplePlay', 'plateAppearances', 'totalBases', 'rbi',\n",
    "       'leftOnBase', 'sacBunts', 'sacFlies', 'catchersInterference',\n",
    "       'pickoffs', 'gamesPlayedPitching', 'gamesStartedPitching',\n",
    "       'completeGamesPitching', 'shutoutsPitching', 'winsPitching',\n",
    "       'lossesPitching', 'flyOutsPitching', 'airOutsPitching',\n",
    "       'groundOutsPitching', 'runsPitching', 'doublesPitching',\n",
    "       'triplesPitching', 'homeRunsPitching', 'strikeOutsPitching',\n",
    "       'baseOnBallsPitching', 'intentionalWalksPitching', 'hitsPitching',\n",
    "       'hitByPitchPitching', 'atBatsPitching', 'caughtStealingPitching',\n",
    "       'stolenBasesPitching', 'inningsPitched', 'saveOpportunities',\n",
    "       'earnedRuns', 'battersFaced', 'outsPitching', 'pitchesThrown', 'balls',\n",
    "       'strikes', 'hitBatsmen', 'balks', 'wildPitches', 'pickoffsPitching',\n",
    "       'rbiPitching', 'gamesFinishedPitching', 'inheritedRunners',\n",
    "       'inheritedRunnersScored', 'catchersInterferencePitching',\n",
    "       'sacBuntsPitching', 'sacFliesPitching', 'saves', 'holds', 'blownSaves',\n",
    "       'assists', 'putOuts', 'errors', 'chances',\n",
    "        \"target1_mean\",\"target1_median\",\"target1_std\",\"target1_min\",\"target1_max\",\"target1_skew\",\"target1_kurt\",\n",
    "         \"target2_mean\",\"target2_median\",\"target2_std\",\"target2_min\",\"target2_max\",\"target2_skew\",\"target2_kurt\",\n",
    "        \"target3_mean\",\"target3_median\",\"target3_std\",\"target3_min\",\"target3_max\",\"target3_skew\",\"target3_kurt\",\n",
    "        \"target4_mean\",\"target4_median\",\"target4_std\",\"target4_min\",\"target4_max\",\"target4_skew\",\"target4_kurt\",\n",
    "        \"2_target1_mean\",\"2_target1_median\",\"2_target1_std\",\"2_target1_min\",\"2_target1_max\",\"2_target1_skew\",\"2_target1_kurt\",\n",
    "        \"2_target2_mean\",\"2_target2_median\",\"2_target2_std\",\"2_target2_min\",\"2_target2_max\",\"2_target2_skew\",\"2_target2_kurt\",\n",
    "        \"2_target3_mean\",\"2_target3_median\",\"2_target3_std\",\"2_target3_min\",\"2_target3_max\",\"2_target3_skew\",\"2_target3_kurt\",\n",
    "        \"2_target4_mean\",\"2_target4_median\",\"2_target4_std\",\"2_target4_min\",\"2_target4_max\",\"2_target4_skew\",\"2_target4_kurt\"] \n",
    "\n",
    "feature_cols4 = ['week_day', 'annual_day', 'month', 'label_playerId', 'label_primaryPositionName', 'label_teamId', 'label_birthCity',\n",
    "                'DOY', 'mlbDebutYear', 'DebutAge', 'heightInches', 'weight',\n",
    "       'label_status', 'battingOrder', 'gamesPlayedBatting', 'flyOuts',\n",
    "       'groundOuts', 'runsScored', 'doubles', 'triples', 'homeRuns',\n",
    "       'strikeOuts', 'baseOnBalls', 'intentionalWalks', 'hits', 'hitByPitch',\n",
    "       'atBats', 'caughtStealing', 'stolenBases', 'groundIntoDoublePlay',\n",
    "       'groundIntoTriplePlay', 'plateAppearances', 'totalBases', 'rbi',\n",
    "       'leftOnBase', 'sacBunts', 'sacFlies', 'catchersInterference',\n",
    "       'pickoffs', 'gamesPlayedPitching', 'gamesStartedPitching',\n",
    "       'completeGamesPitching', 'shutoutsPitching', 'winsPitching',\n",
    "       'lossesPitching', 'flyOutsPitching', 'airOutsPitching',\n",
    "       'groundOutsPitching', 'runsPitching', 'doublesPitching',\n",
    "       'triplesPitching', 'homeRunsPitching', 'strikeOutsPitching',\n",
    "       'baseOnBallsPitching', 'intentionalWalksPitching', 'hitsPitching',\n",
    "       'hitByPitchPitching', 'atBatsPitching', 'caughtStealingPitching',\n",
    "       'stolenBasesPitching', 'inningsPitched', 'saveOpportunities',\n",
    "       'earnedRuns', 'battersFaced', 'outsPitching', 'pitchesThrown', 'balls',\n",
    "       'strikes', 'hitBatsmen', 'balks', 'wildPitches', 'pickoffsPitching',\n",
    "       'rbiPitching', 'gamesFinishedPitching', 'inheritedRunners',\n",
    "       'inheritedRunnersScored', 'catchersInterferencePitching',\n",
    "       'sacBuntsPitching', 'sacFliesPitching', 'saves', 'holds', 'blownSaves',\n",
    "       'assists', 'putOuts', 'errors', 'chances',\n",
    "        \"target1_mean\",\"target1_median\",\"target1_std\",\"target1_min\",\"target1_max\",\"target1_skew\",\"target1_kurt\",\n",
    "         \"target2_mean\",\"target2_median\",\"target2_std\",\"target2_min\",\"target2_max\",\"target2_skew\",\"target2_kurt\",\n",
    "        \"target3_mean\",\"target3_median\",\"target3_std\",\"target3_min\",\"target3_max\",\"target3_skew\",\"target3_kurt\",\n",
    "        \"target4_mean\",\"target4_median\",\"target4_std\",\"target4_min\",\"target4_max\",\"target4_skew\",\"target4_kurt\",\n",
    "        \"2_target1_mean\",\"2_target1_median\",\"2_target1_std\",\"2_target1_min\",\"2_target1_max\",\"2_target1_skew\",\"2_target1_kurt\",\n",
    "        \"2_target2_mean\",\"2_target2_median\",\"2_target2_std\",\"2_target2_min\",\"2_target2_max\",\"2_target2_skew\",\"2_target2_kurt\",\n",
    "        \"2_target3_mean\",\"2_target3_median\",\"2_target3_std\",\"2_target3_min\",\"2_target3_max\",\"2_target3_skew\",\"2_target3_kurt\",\n",
    "        \"2_target4_mean\",\"2_target4_median\",\"2_target4_std\",\"2_target4_min\",\"2_target4_max\",\"2_target4_skew\",\"2_target4_kurt\"] "
   ]
  },
  {
   "cell_type": "code",
   "execution_count": 4,
   "id": "54fdba31",
   "metadata": {},
   "outputs": [],
   "source": [
    "# training lightgbm\n",
    "params1 = {'objective':'mae',\n",
    "           'reg_alpha': 0.14947461820098767, \n",
    "           'reg_lambda': 0.10185644384043743, \n",
    "           'n_estimators': 3633, \n",
    "           'learning_rate': 0.08046301304430488, \n",
    "           'num_leaves': 674, \n",
    "           'feature_fraction': 0.9101240539122566, \n",
    "           'bagging_fraction': 0.9884451442950513, \n",
    "           'bagging_freq': 8, \n",
    "           'min_child_samples': 51}\n",
    "\n",
    "params2 = {'objective':'mae',\n",
    "           'reg_alpha': 0.1,\n",
    "           'reg_lambda': 0.1, \n",
    "           'n_estimators': 80,\n",
    "           'learning_rate': 0.1,\n",
    "           'random_state': 42,\n",
    "           \"num_leaves\": 22}\n",
    "\n",
    "params3 = {'objective':'mae',\n",
    "           'reg_alpha': 0.1,\n",
    "           'reg_lambda': 0.1, \n",
    "           'n_estimators': 10000,\n",
    "           'learning_rate': 0.1,\n",
    "           'random_state': 42,\n",
    "           \"num_leaves\": 100}\n",
    "\n",
    "params4 = {'objective':'mae',\n",
    "           'reg_alpha': 0.016468100279441976, \n",
    "           'reg_lambda': 0.09128335764019105, \n",
    "           'n_estimators': 9868, \n",
    "           'learning_rate': 0.10528150510326864, \n",
    "           'num_leaves': 157, \n",
    "           'feature_fraction': 0.5419185713426886, \n",
    "           'bagging_fraction': 0.2637405128936662, \n",
    "           'bagging_freq': 19, \n",
    "           'min_child_samples': 71}"
   ]
  },
  {
   "cell_type": "code",
   "execution_count": 8,
   "id": "620ba731",
   "metadata": {},
   "outputs": [],
   "source": [
    "EXP_NUM = 15\n",
    "NFOLDS = 5"
   ]
  },
  {
   "cell_type": "markdown",
   "id": "920aebe9",
   "metadata": {},
   "source": [
    "## Dir"
   ]
  },
  {
   "cell_type": "code",
   "execution_count": 9,
   "id": "8ab3e144",
   "metadata": {},
   "outputs": [],
   "source": [
    "DATA_DIR = Path(\"/home/knikaido/work/MLB-Player-Digital-Engagement-Forecasting/data/\")\n",
    "MAIN_DATA_DIR = DATA_DIR / 'mlb-player-digital-engagement-forecasting'\n",
    "TRAIN_DIR = MAIN_DATA_DIR / 'train'\n",
    "OUTPUT_DIR = Path('./output/')"
   ]
  },
  {
   "cell_type": "code",
   "execution_count": 10,
   "id": "52475339",
   "metadata": {},
   "outputs": [],
   "source": [
    "players = pd.read_csv(MAIN_DATA_DIR / 'players.csv')\n",
    "\n",
    "rosters = pd.read_csv(TRAIN_DIR / 'rosters_train.csv')\n",
    "targets = pd.read_csv(TRAIN_DIR / 'nextDayPlayerEngagement_train.csv')\n",
    "scores = pd.read_csv(TRAIN_DIR / 'playerBoxScores_train.csv')\n",
    "scores = scores.groupby(['playerId', 'date']).sum().reset_index()"
   ]
  },
  {
   "cell_type": "code",
   "execution_count": null,
   "id": "d50bcf1a",
   "metadata": {},
   "outputs": [],
   "source": []
  },
  {
   "cell_type": "code",
   "execution_count": null,
   "id": "ffe1cf3e",
   "metadata": {},
   "outputs": [],
   "source": []
  },
  {
   "cell_type": "code",
   "execution_count": null,
   "id": "589452b2",
   "metadata": {},
   "outputs": [],
   "source": []
  },
  {
   "cell_type": "code",
   "execution_count": 11,
   "id": "0e83335c",
   "metadata": {},
   "outputs": [],
   "source": [
    "def calc_probs(pid,df,temp):\n",
    "    to_append=[pid,'','','','','','','','','','','','','','','','','','','','','','','','','','','','','','','','']\n",
    "    targets=['target1','target2','target3','target4']\n",
    "    z=1\n",
    "    for target in targets:\n",
    "        target_prob = temp[target].tolist()\n",
    "        mean = np.mean(target_prob)\n",
    "        std = np.std(target_prob)\n",
    "        median = st.median(target_prob)\n",
    "        distribution = norm(mean, std)\n",
    "        min_weight = min(target_prob)\n",
    "        max_weight = max(target_prob)\n",
    "        values = list(np.linspace(min_weight, max_weight))\n",
    "        probabilities = [distribution.pdf(v) for v in values]\n",
    "        max_value = max(probabilities)\n",
    "        max_index = probabilities.index(max_value)\n",
    "        to_append[z]=mean\n",
    "        to_append[z+1]=median\n",
    "        to_append[z+2]=std\n",
    "        to_append[z+3]=min_weight\n",
    "        to_append[z+4]=max_weight\n",
    "        to_append[z+5]=target_prob[max_index]\n",
    "        to_append[z+6]=temp[target].skew()\n",
    "        to_append[z+7]=temp[target].kurt()\n",
    "\n",
    "        z=z+8\n",
    "    df_length = len(df)\n",
    "    df.loc[df_length] = to_append\n",
    "    return df\n",
    "    \n",
    "\n"
   ]
  },
  {
   "cell_type": "code",
   "execution_count": 12,
   "id": "2f1d1da6",
   "metadata": {},
   "outputs": [
    {
     "name": "stderr",
     "output_type": "stream",
     "text": [
      "100%|██████████| 2061/2061 [00:44<00:00, 46.79it/s]\n"
     ]
    }
   ],
   "source": [
    "### CREATE DATAFRAME to store probabilities\n",
    "column_names = [\"playerId\", \"target1_mean\",\"target1_median\",\"target1_std\",\"target1_min\",\"target1_max\",\"target1_prob\",\"target1_skew\",\"target1_kurt\",\n",
    "                \"target2_mean\",\"target2_median\",\"target2_std\",\"target2_min\",\"target2_max\",\"target2_prob\",\"target2_skew\",\"target2_kurt\",\n",
    "                \"target3_mean\",\"target3_median\",\"target3_std\",\"target3_min\",\"target3_max\",\"target3_prob\",\"target3_skew\",\"target3_kurt\",\n",
    "                \"target4_mean\",\"target4_median\",\"target4_std\",\"target4_min\",\"target4_max\",\"target4_prob\",\"target4_skew\",\"target4_kurt\",]\n",
    "\n",
    "targets_train = targets[(targets['date'] >= 20210331)]\n",
    "playerId_list = targets_train['playerId'].unique()\n",
    "player_target_probs = pd.DataFrame(columns = column_names)\n",
    "\n",
    "for pid in tqdm(playerId_list):\n",
    "    temp = targets_train[targets_train['playerId'] == pid]\n",
    "    player_target_stats=calc_probs(pid,player_target_probs,temp)"
   ]
  },
  {
   "cell_type": "code",
   "execution_count": 13,
   "id": "f344a613",
   "metadata": {},
   "outputs": [
    {
     "name": "stderr",
     "output_type": "stream",
     "text": [
      "100%|██████████| 2061/2061 [00:44<00:00, 46.81it/s]\n"
     ]
    }
   ],
   "source": [
    "### CREATE DATAFRAME to store probabilities\n",
    "column_names2 = [\"playerId\", \"2_target1_mean\",\"2_target1_median\",\"2_target1_std\",\"2_target1_min\",\"2_target1_max\",\"2_target1_prob\",\"2_target1_skew\",\"2_target1_kurt\",\n",
    "                \"2_target2_mean\",\"2_target2_median\",\"2_target2_std\",\"2_target2_min\",\"2_target2_max\",\"2_target2_prob\",\"2_target2_skew\",\"2_target2_kurt\",\n",
    "                \"2_target3_mean\",\"2_target3_median\",\"2_target3_std\",\"2_target3_min\",\"2_target3_max\",\"2_target3_prob\",\"2_target3_skew\",\"2_target3_kurt\",\n",
    "                \"2_target4_mean\",\"2_target4_median\",\"2_target4_std\",\"2_target4_min\",\"2_target4_max\",\"2_target4_prob\",\"2_target4_skew\",\"2_target4_kurt\",]\n",
    "\n",
    "targets_train = targets[(targets['date'] < 20210331) & (targets['date'] >= 20210228)]\n",
    "playerId_list = targets_train['playerId'].unique()\n",
    "player_target_probs = pd.DataFrame(columns = column_names2)\n",
    "\n",
    "for pid in tqdm(playerId_list):\n",
    "    temp = targets_train[targets_train['playerId'] == pid]\n",
    "    player_target_stats2=calc_probs(pid,player_target_probs,temp)"
   ]
  },
  {
   "cell_type": "code",
   "execution_count": null,
   "id": "85a34f93",
   "metadata": {},
   "outputs": [],
   "source": []
  },
  {
   "cell_type": "code",
   "execution_count": null,
   "id": "79dd501b",
   "metadata": {},
   "outputs": [],
   "source": []
  },
  {
   "cell_type": "code",
   "execution_count": 14,
   "id": "a3005c75",
   "metadata": {},
   "outputs": [],
   "source": [
    "players['DOY'] = pd.to_datetime(players['DOB'], format=\"%Y-%m-%d\").dt.year\n",
    "players['mlbDebutYear'] = pd.to_datetime(players['mlbDebutDate'], format=\"%Y-%m-%d\").dt.year\n",
    "players['DebutAge'] = players['mlbDebutYear'] - players['DOY']"
   ]
  },
  {
   "cell_type": "code",
   "execution_count": 15,
   "id": "5e285a71",
   "metadata": {},
   "outputs": [],
   "source": [
    "# creat dataset\n",
    "train = targets[targets_cols].merge(players[players_cols], on=['playerId'], how='left')\n",
    "train = train.merge(rosters[rosters_cols], on=['playerId', 'date'], how='left')\n",
    "train = train.merge(scores[scores_cols], on=['playerId', 'date'], how='left')\n",
    "train = train.merge(player_target_stats, how='inner', left_on=[\"playerId\"],right_on=[\"playerId\"])\n",
    "train = train.merge(player_target_stats2, how='inner', left_on=[\"playerId\"],right_on=[\"playerId\"])"
   ]
  },
  {
   "cell_type": "code",
   "execution_count": 16,
   "id": "3b9b8684",
   "metadata": {},
   "outputs": [],
   "source": [
    "# label encoding\n",
    "player2num = {c: i for i, c in enumerate(train['playerId'].unique())}\n",
    "position2num = {c: i for i, c in enumerate(train['primaryPositionName'].unique())}\n",
    "birthCityn2num = {c: i for i, c in enumerate(train['birthCity'].unique())}\n",
    "teamid2num = {c: i for i, c in enumerate(train['teamId'].unique())}\n",
    "status2num = {c: i for i, c in enumerate(train['status'].unique())}\n",
    "train['label_playerId'] = train['playerId'].map(player2num)\n",
    "train['label_primaryPositionName'] = train['primaryPositionName'].map(position2num)\n",
    "train['label_birthCity'] = train['birthCity'].map(birthCityn2num)\n",
    "train['label_teamId'] = train['teamId'].map(teamid2num)\n",
    "train['label_status'] = train['status'].map(status2num)"
   ]
  },
  {
   "cell_type": "code",
   "execution_count": 17,
   "id": "adef3b3e",
   "metadata": {},
   "outputs": [],
   "source": [
    "date_ = pd.to_datetime(train['date'], format=\"%Y%m%d\")\n",
    "train['annual_day'] = (date_ - pd.to_datetime(date_.dt.year, format=\"%Y\")) /  timedelta(days=1)\n",
    "train['week_day'] = date_.dt.weekday\n",
    "train['month'] = date_.dt.month"
   ]
  },
  {
   "cell_type": "code",
   "execution_count": null,
   "id": "9e6c2d5c",
   "metadata": {},
   "outputs": [],
   "source": []
  },
  {
   "cell_type": "code",
   "execution_count": null,
   "id": "0ba62306",
   "metadata": {},
   "outputs": [],
   "source": []
  },
  {
   "cell_type": "code",
   "execution_count": 18,
   "id": "7a8eb5d7",
   "metadata": {},
   "outputs": [],
   "source": [
    "def fit_lgbm(x_train, y_train, x_valid, y_valid, params: dict=None, verbose=100):\n",
    "    oof_pred = np.zeros(len(y_valid), dtype=np.float32)\n",
    "    model = lgbm.LGBMRegressor(**params)\n",
    "    model.fit(x_train, y_train, \n",
    "        eval_set=[(x_valid, y_valid)],  \n",
    "        early_stopping_rounds=verbose, \n",
    "        verbose=verbose)\n",
    "    oof_pred = model.predict(x_valid)\n",
    "    oof_pred = np.clip(oof_pred, 0, 100)\n",
    "    score = mean_absolute_error(oof_pred, y_valid)\n",
    "    print('mae:', score)\n",
    "    return oof_pred, model, score\n"
   ]
  },
  {
   "cell_type": "code",
   "execution_count": 19,
   "id": "df80297b",
   "metadata": {},
   "outputs": [],
   "source": [
    "train_X = train\n",
    "train_y = train[['target1', 'target2', 'target3', 'target4']]\n",
    "tr_idxs = []\n",
    "val_idxs = []"
   ]
  },
  {
   "cell_type": "code",
   "execution_count": 20,
   "id": "622e6a7c",
   "metadata": {},
   "outputs": [],
   "source": [
    "tr_idx = (train['date'].astype(int) < 20201201)\n",
    "val_idx = (train['date'].astype(int) >= 20201201) & (train['date'].astype(int) < 20210101)\n",
    "tr_idxs.append(tr_idx)\n",
    "val_idxs.append(val_idx)\n",
    "\n",
    "tr_idx = (train['date'].astype(int) < 20210101)\n",
    "val_idx = (train['date'].astype(int) >= 20210101) & (train['date'].astype(int) < 20210201)\n",
    "tr_idxs.append(tr_idx)\n",
    "val_idxs.append(val_idx)\n",
    "\n",
    "tr_idx = (train['date'].astype(int) < 20210201)\n",
    "val_idx = (train['date'].astype(int) >= 20210201) & (train['date'].astype(int) < 20210301)\n",
    "tr_idxs.append(tr_idx)\n",
    "val_idxs.append(val_idx)\n",
    "\n",
    "tr_idx = (train['date'].astype(int) < 20210301)\n",
    "val_idx = (train['date'].astype(int) >= 20210301) & (train['date'].astype(int) < 20210401)\n",
    "tr_idxs.append(tr_idx)\n",
    "val_idxs.append(val_idx)\n",
    "\n",
    "tr_idx = (train['date'].astype(int) < 20210401)\n",
    "val_idx = ~tr_idx\n",
    "tr_idxs.append(tr_idx)\n",
    "val_idxs.append(val_idx)"
   ]
  },
  {
   "cell_type": "code",
   "execution_count": 23,
   "id": "e1c32050",
   "metadata": {},
   "outputs": [
    {
     "name": "stdout",
     "output_type": "stream",
     "text": [
      "[LightGBM] [Warning] bagging_fraction is set=0.9884451442950513, subsample=1.0 will be ignored. Current value: bagging_fraction=0.9884451442950513\n",
      "[LightGBM] [Warning] feature_fraction is set=0.9101240539122566, colsample_bytree=1.0 will be ignored. Current value: feature_fraction=0.9101240539122566\n",
      "[LightGBM] [Warning] bagging_freq is set=8, subsample_freq=0 will be ignored. Current value: bagging_freq=8\n",
      "Training until validation scores don't improve for 100 rounds\n",
      "[100]\tvalid_0's l1: 0.330535\n",
      "[200]\tvalid_0's l1: 0.330496\n",
      "Early stopping, best iteration is:\n",
      "[117]\tvalid_0's l1: 0.330324\n",
      "mae: 0.33032384072280924\n",
      "Training until validation scores don't improve for 100 rounds\n",
      "Did not meet early stopping. Best iteration is:\n",
      "[8]\tvalid_0's l1: 1.04435\n",
      "mae: 1.0443471177230705\n",
      "Training until validation scores don't improve for 100 rounds\n",
      "[100]\tvalid_0's l1: 0.342236\n",
      "Early stopping, best iteration is:\n",
      "[21]\tvalid_0's l1: 0.339305\n",
      "mae: 0.33930472238848114\n",
      "[LightGBM] [Warning] bagging_fraction is set=0.2637405128936662, subsample=1.0 will be ignored. Current value: bagging_fraction=0.2637405128936662\n",
      "[LightGBM] [Warning] feature_fraction is set=0.5419185713426886, colsample_bytree=1.0 will be ignored. Current value: feature_fraction=0.5419185713426886\n",
      "[LightGBM] [Warning] bagging_freq is set=19, subsample_freq=0 will be ignored. Current value: bagging_freq=19\n",
      "Training until validation scores don't improve for 100 rounds\n",
      "[100]\tvalid_0's l1: 0.630729\n",
      "Early stopping, best iteration is:\n",
      "[55]\tvalid_0's l1: 0.624933\n",
      "mae: 0.624931908336037\n",
      "score: 0.5847268972925994\n",
      "[LightGBM] [Warning] bagging_fraction is set=0.9884451442950513, subsample=1.0 will be ignored. Current value: bagging_fraction=0.9884451442950513\n",
      "[LightGBM] [Warning] feature_fraction is set=0.9101240539122566, colsample_bytree=1.0 will be ignored. Current value: feature_fraction=0.9101240539122566\n",
      "[LightGBM] [Warning] bagging_freq is set=8, subsample_freq=0 will be ignored. Current value: bagging_freq=8\n",
      "Training until validation scores don't improve for 100 rounds\n",
      "[100]\tvalid_0's l1: 0.359323\n",
      "Early stopping, best iteration is:\n",
      "[21]\tvalid_0's l1: 0.358136\n",
      "mae: 0.358136028239163\n",
      "Training until validation scores don't improve for 100 rounds\n",
      "Did not meet early stopping. Best iteration is:\n",
      "[5]\tvalid_0's l1: 0.90228\n",
      "mae: 0.9022801724860232\n",
      "Training until validation scores don't improve for 100 rounds\n",
      "[100]\tvalid_0's l1: 0.396922\n",
      "Early stopping, best iteration is:\n",
      "[30]\tvalid_0's l1: 0.395654\n",
      "mae: 0.39565443906290615\n",
      "[LightGBM] [Warning] bagging_fraction is set=0.2637405128936662, subsample=1.0 will be ignored. Current value: bagging_fraction=0.2637405128936662\n",
      "[LightGBM] [Warning] feature_fraction is set=0.5419185713426886, colsample_bytree=1.0 will be ignored. Current value: feature_fraction=0.5419185713426886\n",
      "[LightGBM] [Warning] bagging_freq is set=19, subsample_freq=0 will be ignored. Current value: bagging_freq=19\n",
      "Training until validation scores don't improve for 100 rounds\n",
      "[100]\tvalid_0's l1: 0.720126\n",
      "Early stopping, best iteration is:\n",
      "[9]\tvalid_0's l1: 0.63206\n",
      "mae: 0.6320603497278412\n",
      "score: 0.5720327473789835\n",
      "[LightGBM] [Warning] bagging_fraction is set=0.9884451442950513, subsample=1.0 will be ignored. Current value: bagging_fraction=0.9884451442950513\n",
      "[LightGBM] [Warning] feature_fraction is set=0.9101240539122566, colsample_bytree=1.0 will be ignored. Current value: feature_fraction=0.9101240539122566\n",
      "[LightGBM] [Warning] bagging_freq is set=8, subsample_freq=0 will be ignored. Current value: bagging_freq=8\n",
      "Training until validation scores don't improve for 100 rounds\n",
      "[100]\tvalid_0's l1: 0.52101\n",
      "[200]\tvalid_0's l1: 0.520992\n",
      "Early stopping, best iteration is:\n",
      "[182]\tvalid_0's l1: 0.520964\n",
      "mae: 0.5209600608031804\n",
      "Training until validation scores don't improve for 100 rounds\n",
      "Did not meet early stopping. Best iteration is:\n",
      "[38]\tvalid_0's l1: 1.63008\n",
      "mae: 1.630081830504774\n",
      "Training until validation scores don't improve for 100 rounds\n",
      "[100]\tvalid_0's l1: 0.807768\n",
      "Early stopping, best iteration is:\n",
      "[69]\tvalid_0's l1: 0.807609\n",
      "mae: 0.8076087020982544\n",
      "[LightGBM] [Warning] bagging_fraction is set=0.2637405128936662, subsample=1.0 will be ignored. Current value: bagging_fraction=0.2637405128936662\n",
      "[LightGBM] [Warning] feature_fraction is set=0.5419185713426886, colsample_bytree=1.0 will be ignored. Current value: feature_fraction=0.5419185713426886\n",
      "[LightGBM] [Warning] bagging_freq is set=19, subsample_freq=0 will be ignored. Current value: bagging_freq=19\n",
      "Training until validation scores don't improve for 100 rounds\n",
      "[100]\tvalid_0's l1: 0.707824\n",
      "Early stopping, best iteration is:\n",
      "[96]\tvalid_0's l1: 0.707469\n",
      "mae: 0.7073278545149543\n",
      "score: 0.9164946119802907\n",
      "[LightGBM] [Warning] bagging_fraction is set=0.9884451442950513, subsample=1.0 will be ignored. Current value: bagging_fraction=0.9884451442950513\n",
      "[LightGBM] [Warning] feature_fraction is set=0.9101240539122566, colsample_bytree=1.0 will be ignored. Current value: feature_fraction=0.9101240539122566\n",
      "[LightGBM] [Warning] bagging_freq is set=8, subsample_freq=0 will be ignored. Current value: bagging_freq=8\n",
      "Training until validation scores don't improve for 100 rounds\n",
      "[100]\tvalid_0's l1: 0.921121\n",
      "[200]\tvalid_0's l1: 0.921\n",
      "[300]\tvalid_0's l1: 0.921359\n",
      "Early stopping, best iteration is:\n",
      "[262]\tvalid_0's l1: 0.920985\n",
      "mae: 0.9209846722364281\n",
      "Training until validation scores don't improve for 100 rounds\n",
      "Did not meet early stopping. Best iteration is:\n",
      "[64]\tvalid_0's l1: 2.8488\n",
      "mae: 2.8488027943735763\n",
      "Training until validation scores don't improve for 100 rounds\n",
      "[100]\tvalid_0's l1: 0.956258\n",
      "[200]\tvalid_0's l1: 0.955861\n",
      "[300]\tvalid_0's l1: 0.955584\n",
      "[400]\tvalid_0's l1: 0.955389\n",
      "[500]\tvalid_0's l1: 0.95528\n",
      "[600]\tvalid_0's l1: 0.955165\n",
      "Early stopping, best iteration is:\n",
      "[588]\tvalid_0's l1: 0.955153\n",
      "mae: 0.9551525408654066\n",
      "[LightGBM] [Warning] bagging_fraction is set=0.2637405128936662, subsample=1.0 will be ignored. Current value: bagging_fraction=0.2637405128936662\n",
      "[LightGBM] [Warning] feature_fraction is set=0.5419185713426886, colsample_bytree=1.0 will be ignored. Current value: feature_fraction=0.5419185713426886\n",
      "[LightGBM] [Warning] bagging_freq is set=19, subsample_freq=0 will be ignored. Current value: bagging_freq=19\n",
      "Training until validation scores don't improve for 100 rounds\n",
      "[100]\tvalid_0's l1: 1.49966\n",
      "[200]\tvalid_0's l1: 1.46735\n",
      "[300]\tvalid_0's l1: 1.44777\n",
      "[400]\tvalid_0's l1: 1.43049\n",
      "[500]\tvalid_0's l1: 1.39911\n",
      "[600]\tvalid_0's l1: 1.39017\n",
      "[700]\tvalid_0's l1: 1.38674\n",
      "[800]\tvalid_0's l1: 1.38263\n",
      "[900]\tvalid_0's l1: 1.37899\n",
      "[1000]\tvalid_0's l1: 1.37619\n",
      "[1100]\tvalid_0's l1: 1.37118\n",
      "[1200]\tvalid_0's l1: 1.36577\n",
      "[1300]\tvalid_0's l1: 1.36171\n",
      "Early stopping, best iteration is:\n",
      "[1231]\tvalid_0's l1: 1.36103\n",
      "mae: 1.3608045599017684\n",
      "score: 1.5214361418442948\n",
      "[LightGBM] [Warning] bagging_fraction is set=0.9884451442950513, subsample=1.0 will be ignored. Current value: bagging_fraction=0.9884451442950513\n",
      "[LightGBM] [Warning] feature_fraction is set=0.9101240539122566, colsample_bytree=1.0 will be ignored. Current value: feature_fraction=0.9101240539122566\n",
      "[LightGBM] [Warning] bagging_freq is set=8, subsample_freq=0 will be ignored. Current value: bagging_freq=8\n",
      "Training until validation scores don't improve for 100 rounds\n",
      "[100]\tvalid_0's l1: 0.680287\n",
      "[200]\tvalid_0's l1: 0.67903\n",
      "[300]\tvalid_0's l1: 0.678817\n",
      "[400]\tvalid_0's l1: 0.678617\n",
      "[500]\tvalid_0's l1: 0.678194\n",
      "Early stopping, best iteration is:\n",
      "[459]\tvalid_0's l1: 0.678174\n",
      "mae: 0.6781670095144682\n",
      "Training until validation scores don't improve for 100 rounds\n",
      "Did not meet early stopping. Best iteration is:\n",
      "[49]\tvalid_0's l1: 1.44394\n",
      "mae: 1.4439383099662526\n",
      "Training until validation scores don't improve for 100 rounds\n",
      "[100]\tvalid_0's l1: 0.553912\n",
      "[200]\tvalid_0's l1: 0.553802\n",
      "[300]\tvalid_0's l1: 0.55388\n",
      "[400]\tvalid_0's l1: 0.55369\n",
      "Early stopping, best iteration is:\n",
      "[302]\tvalid_0's l1: 0.553659\n",
      "mae: 0.5536586878281947\n",
      "[LightGBM] [Warning] bagging_fraction is set=0.2637405128936662, subsample=1.0 will be ignored. Current value: bagging_fraction=0.2637405128936662\n",
      "[LightGBM] [Warning] feature_fraction is set=0.5419185713426886, colsample_bytree=1.0 will be ignored. Current value: feature_fraction=0.5419185713426886\n",
      "[LightGBM] [Warning] bagging_freq is set=19, subsample_freq=0 will be ignored. Current value: bagging_freq=19\n",
      "Training until validation scores don't improve for 100 rounds\n",
      "[100]\tvalid_0's l1: 1.11218\n",
      "[200]\tvalid_0's l1: 1.11329\n",
      "Early stopping, best iteration is:\n",
      "[145]\tvalid_0's l1: 1.11061\n",
      "mae: 1.11053648163064\n",
      "score: 0.9465751222348889\n"
     ]
    }
   ],
   "source": [
    "\n",
    "model1s = []\n",
    "model2s = []\n",
    "model3s = []\n",
    "model4s = []\n",
    "oof = np.zeros(train_y.shape) - 1.0\n",
    "y_valids = np.zeros(train_y.shape) - 1.0\n",
    "\n",
    "for idx in range(NFOLDS):\n",
    "    \n",
    "    tr_idx = tr_idxs[idx]\n",
    "    val_idx = val_idxs[idx]\n",
    "\n",
    "    x_train = train_X.loc[tr_idx].reset_index(drop=True)\n",
    "    y_train = train_y.loc[tr_idx].reset_index(drop=True)\n",
    "    x_valid = train_X.loc[val_idx].reset_index(drop=True)\n",
    "    y_valid = train_y.loc[val_idx].reset_index(drop=True)\n",
    "\n",
    "\n",
    "    oof1, model1, score1 = fit_lgbm(\n",
    "        x_train[feature_cols1], y_train['target1'],\n",
    "        x_valid[feature_cols1], y_valid['target1'],\n",
    "        params1\n",
    "    )\n",
    "    oof2, model2, score2 = fit_lgbm(\n",
    "        x_train[feature_cols2], y_train['target2'],\n",
    "        x_valid[feature_cols2], y_valid['target2'],\n",
    "        params2\n",
    "    )\n",
    "    oof3, model3, score3 = fit_lgbm(\n",
    "        x_train[feature_cols3], y_train['target3'],\n",
    "        x_valid[feature_cols3], y_valid['target3'],\n",
    "        params3\n",
    "    )\n",
    "    oof4, model4, score4 = fit_lgbm(\n",
    "        x_train[feature_cols4], y_train['target4'],\n",
    "        x_valid[feature_cols4], y_valid['target4'],\n",
    "        params4\n",
    "    )\n",
    "\n",
    "    score = (score1+score2+score3+score4) / 4\n",
    "    print(f'score: {score}')\n",
    "    \n",
    "    model1s.append(model1)\n",
    "    model2s.append(model2)\n",
    "    model3s.append(model3)\n",
    "    model4s.append(model4)\n",
    "    oof[val_idx, 0] = oof1\n",
    "    oof[val_idx, 1] = oof2\n",
    "    oof[val_idx, 2] = oof3\n",
    "    oof[val_idx, 3] = oof4\n",
    "    y_valids[val_idx, 0] = y_valid['target1'].values\n",
    "    y_valids[val_idx, 1] = y_valid['target2'].values\n",
    "    y_valids[val_idx, 2] = y_valid['target3'].values\n",
    "    y_valids[val_idx, 3] = y_valid['target4'].values\n",
    "    \n"
   ]
  },
  {
   "cell_type": "code",
   "execution_count": 24,
   "id": "7adc1d25",
   "metadata": {},
   "outputs": [],
   "source": [
    "oof_indexes = []\n",
    "for i in range(NFOLDS):\n",
    "    oof_indexes.extend(val_idxs[i][val_idxs[i]==True].index.to_list())"
   ]
  },
  {
   "cell_type": "code",
   "execution_count": 25,
   "id": "11477c30",
   "metadata": {},
   "outputs": [
    {
     "name": "stdout",
     "output_type": "stream",
     "text": [
      "mae: 0.9078355773807097\n"
     ]
    }
   ],
   "source": [
    "y_valids[val_idx, :]\n",
    "mae = mean_absolute_error(y_valids[oof_indexes, :], oof[oof_indexes, :])\n",
    "print(\"mae:\", mae)"
   ]
  },
  {
   "cell_type": "code",
   "execution_count": 26,
   "id": "3c2e5916",
   "metadata": {},
   "outputs": [],
   "source": [
    "oof_df = train[targets_cols]\n",
    "oof_df.iloc[oof_indexes, 1:5] = oof[oof_indexes, :]"
   ]
  },
  {
   "cell_type": "code",
   "execution_count": 27,
   "id": "9c85e8d8",
   "metadata": {},
   "outputs": [],
   "source": [
    "oof_df.iloc[oof_indexes].to_csv(OUTPUT_DIR / f'oof{EXP_NUM}.csv')"
   ]
  },
  {
   "cell_type": "code",
   "execution_count": 28,
   "id": "a9813aca",
   "metadata": {},
   "outputs": [],
   "source": [
    "oof_df.to_csv(OUTPUT_DIR / f'oof{EXP_NUM}.csv', index=False)"
   ]
  },
  {
   "cell_type": "code",
   "execution_count": 29,
   "id": "20866a1a",
   "metadata": {},
   "outputs": [],
   "source": [
    "models = np.array([model1s, model2s, model3s, model4s])\n",
    "with open(OUTPUT_DIR / f\"models{EXP_NUM}.pickle\", mode=\"wb\") as f:\n",
    "    pickle.dump(models, f)"
   ]
  },
  {
   "cell_type": "code",
   "execution_count": 30,
   "id": "9c7d93d4",
   "metadata": {},
   "outputs": [],
   "source": [
    "weights = [0.05, 0.1, 0.15, 0.2, 0.5]"
   ]
  },
  {
   "cell_type": "code",
   "execution_count": 31,
   "id": "aa14306d",
   "metadata": {},
   "outputs": [
    {
     "name": "stdout",
     "output_type": "stream",
     "text": [
      "mae: 0.9889399488586144\n",
      "mae: 1.0519896221095637\n",
      "mae: 0.9490917538527278\n",
      "mae: 0.9555096828919086\n",
      "mae: 0.9465751222348889\n"
     ]
    }
   ],
   "source": [
    "pred1s = 0\n",
    "pred2s = 0\n",
    "pred3s = 0\n",
    "pred4s = 0\n",
    "for i in range(NFOLDS):\n",
    "    pred1 = models[0][i].predict(x_valid[feature_cols1])\n",
    "    pred2 = models[1][i].predict(x_valid[feature_cols2])\n",
    "    pred3 = models[2][i].predict(x_valid[feature_cols3])\n",
    "    pred4 = models[3][i].predict(x_valid[feature_cols4])\n",
    "    oof_valid_april = np.clip(np.array([pred1, pred2, pred3, pred4]).T, 0, 100)\n",
    "    mae = mean_absolute_error(y_valid, oof_valid_april)\n",
    "    print(\"mae:\", mae)\n",
    "    pred1s += pred1 * weights[i]\n",
    "    pred2s += pred2 * weights[i]\n",
    "    pred3s += pred3 * weights[i]\n",
    "    pred4s += pred4 * weights[i]"
   ]
  },
  {
   "cell_type": "code",
   "execution_count": 32,
   "id": "8176a749",
   "metadata": {},
   "outputs": [],
   "source": [
    "oof_valid_april = np.clip(np.array([pred1s, pred2s, pred3s, pred4s]).T, 0, 100)"
   ]
  },
  {
   "cell_type": "code",
   "execution_count": 33,
   "id": "883f9179",
   "metadata": {},
   "outputs": [
    {
     "name": "stdout",
     "output_type": "stream",
     "text": [
      "mae: 0.9494509071267503\n"
     ]
    }
   ],
   "source": [
    "mae = mean_absolute_error(y_valid, oof_valid_april)\n",
    "print(\"mae:\", mae)"
   ]
  },
  {
   "cell_type": "code",
   "execution_count": null,
   "id": "50cc397f",
   "metadata": {},
   "outputs": [],
   "source": []
  },
  {
   "cell_type": "markdown",
   "id": "fca1388e",
   "metadata": {},
   "source": [
    "## EDA pred"
   ]
  },
  {
   "cell_type": "code",
   "execution_count": 25,
   "id": "2057cadb",
   "metadata": {},
   "outputs": [
    {
     "data": {
      "text/plain": [
       "Index(['label_playerId', 'label_teamId', 'target1_mean', 'label_status',\n",
       "       'target1_skew', 'target4_min', 'target2_mean', 'target2_skew',\n",
       "       'target4_median', 'target3_skew', 'target1_std', 'target3_mean',\n",
       "       'target4_mean', 'target2_min', 'target4_skew', 'target1_median',\n",
       "       'target2_median', 'label_primaryPositionName', 'target1_kurt',\n",
       "       'target2_std', 'target4_std', 'target2_kurt', 'target3_kurt',\n",
       "       'target3_median', 'target4_kurt', 'target4_max', 'target3_std',\n",
       "       'target1_max', 'target1_min', 'target2_max'],\n",
       "      dtype='object')"
      ]
     },
     "execution_count": 25,
     "metadata": {},
     "output_type": "execute_result"
    }
   ],
   "source": [
    "importance = pd.DataFrame(model1.feature_importances_, index=feature_cols1, columns=['importance'])\n",
    "importance = importance.sort_values('importance', ascending=False)\n",
    "importance.iloc[:30].index"
   ]
  },
  {
   "cell_type": "code",
   "execution_count": 27,
   "id": "9c35de34",
   "metadata": {},
   "outputs": [
    {
     "data": {
      "text/plain": [
       "<AxesSubplot:title={'center':'Feature importance'}, xlabel='Feature importance', ylabel='Features'>"
      ]
     },
     "execution_count": 27,
     "metadata": {},
     "output_type": "execute_result"
    },
    {
     "data": {
      "image/png": "[encoded data removed]",
      "text/plain": [
       "<Figure size 864x432 with 1 Axes>"
      ]
     },
     "metadata": {
      "needs_background": "light"
     },
     "output_type": "display_data"
    }
   ],
   "source": [
    "lgbm.plot_importance(model1, figsize=(12, 6), max_num_features=10)"
   ]
  },
  {
   "cell_type": "code",
   "execution_count": 28,
   "id": "e2bb8bcc",
   "metadata": {},
   "outputs": [
    {
     "data": {
      "text/plain": [
       "Index(['label_playerId', 'target2_min', 'target2_median', 'label_status',\n",
       "       'label_teamId', 'target2_mean', 'label_primaryPositionName',\n",
       "       'target2_skew', 'target2_std', 'target2_max', 'target2_kurt',\n",
       "       'plateAppearances', 'battingOrder', 'totalBases', 'winsPitching',\n",
       "       'inheritedRunners', 'inheritedRunnersScored', 'gamesStartedPitching',\n",
       "       'rbi', 'inningsPitched', 'saves', 'runsScored', 'saveOpportunities',\n",
       "       'balks', 'gamesFinishedPitching', 'rbiPitching', 'pickoffsPitching',\n",
       "       'earnedRuns', 'wildPitches', 'battersFaced'],\n",
       "      dtype='object')"
      ]
     },
     "execution_count": 28,
     "metadata": {},
     "output_type": "execute_result"
    }
   ],
   "source": [
    "importance = pd.DataFrame(model2.feature_importances_, index=feature_cols2, columns=['importance'])\n",
    "importance = importance.sort_values('importance', ascending=False)\n",
    "importance.iloc[:30].index"
   ]
  },
  {
   "cell_type": "code",
   "execution_count": 29,
   "id": "31e69502",
   "metadata": {},
   "outputs": [
    {
     "data": {
      "text/plain": [
       "<AxesSubplot:title={'center':'Feature importance'}, xlabel='Feature importance', ylabel='Features'>"
      ]
     },
     "execution_count": 29,
     "metadata": {},
     "output_type": "execute_result"
    },
    {
     "data": {
      "image/png": "[encoded data removed]",
      "text/plain": [
       "<Figure size 864x432 with 1 Axes>"
      ]
     },
     "metadata": {
      "needs_background": "light"
     },
     "output_type": "display_data"
    }
   ],
   "source": [
    "lgbm.plot_importance(model2, figsize=(12, 6), max_num_features=10)"
   ]
  },
  {
   "cell_type": "code",
   "execution_count": 30,
   "id": "eef0aabd",
   "metadata": {},
   "outputs": [
    {
     "data": {
      "text/plain": [
       "Index(['label_playerId', 'target3_mean', 'target3_skew', 'target3_median',\n",
       "       'target3_min', 'target3_kurt', 'target3_max', 'target3_std',\n",
       "       'label_primaryPositionName', 'label_teamId', 'label_status',\n",
       "       'plateAppearances', 'inheritedRunners', 'inningsPitched',\n",
       "       'battingOrder', 'gamesStartedPitching', 'inheritedRunnersScored',\n",
       "       'totalBases', 'rbi', 'gamesPlayedBatting', 'homeRuns',\n",
       "       'intentionalWalksPitching', 'gamesFinishedPitching', 'strikes',\n",
       "       'catchersInterference', 'holds', 'putOuts', 'pitchesThrown', 'balls',\n",
       "       'outsPitching'],\n",
       "      dtype='object')"
      ]
     },
     "execution_count": 30,
     "metadata": {},
     "output_type": "execute_result"
    }
   ],
   "source": [
    "importance = pd.DataFrame(model3.feature_importances_, index=feature_cols3, columns=['importance'])\n",
    "importance = importance.sort_values('importance', ascending=False)\n",
    "importance.iloc[:30].index"
   ]
  },
  {
   "cell_type": "code",
   "execution_count": 31,
   "id": "5b340eab",
   "metadata": {},
   "outputs": [
    {
     "data": {
      "text/plain": [
       "<AxesSubplot:title={'center':'Feature importance'}, xlabel='Feature importance', ylabel='Features'>"
      ]
     },
     "execution_count": 31,
     "metadata": {},
     "output_type": "execute_result"
    },
    {
     "data": {
      "image/png": "[encoded data removed]",
      "text/plain": [
       "<Figure size 864x432 with 1 Axes>"
      ]
     },
     "metadata": {
      "needs_background": "light"
     },
     "output_type": "display_data"
    }
   ],
   "source": [
    "lgbm.plot_importance(model3, figsize=(12, 6), max_num_features=10)"
   ]
  },
  {
   "cell_type": "code",
   "execution_count": 45,
   "id": "20a4c0fe",
   "metadata": {},
   "outputs": [
    {
     "data": {
      "text/plain": [
       "Index(['annual_day', 'week_day', 'target4_mean', 'month', 'target4_std',\n",
       "       'label_playerId', 'target4_skew', 'label_teamId', 'mlbDebutYear',\n",
       "       'label_birthCity', 'target4_median', 'DOY', 'target4_max',\n",
       "       'label_status', 'weight', 'target4_prob', 'DebutAge', 'target4_kurt',\n",
       "       'heightInches', 'label_primaryPositionName', 'target4_min',\n",
       "       'battingOrder', 'plateAppearances', 'totalBases', 'rbi',\n",
       "       'inningsPitched', 'atBats', 'putOuts', 'homeRuns', 'winsPitching'],\n",
       "      dtype='object')"
      ]
     },
     "execution_count": 45,
     "metadata": {},
     "output_type": "execute_result"
    }
   ],
   "source": [
    "importance = pd.DataFrame(model4.feature_importances_, index=feature_cols4, columns=['importance'])\n",
    "importance = importance.sort_values('importance', ascending=False)\n",
    "importance.iloc[:30].index"
   ]
  },
  {
   "cell_type": "code",
   "execution_count": 24,
   "id": "663d1084",
   "metadata": {},
   "outputs": [
    {
     "data": {
      "text/plain": [
       "<matplotlib.axes._subplots.AxesSubplot at 0x7f4881262860>"
      ]
     },
     "execution_count": 24,
     "metadata": {},
     "output_type": "execute_result"
    },
    {
     "data": {
      "image/png": "[encoded data removed]",
      "text/plain": [
       "<Figure size 864x432 with 1 Axes>"
      ]
     },
     "metadata": {
      "needs_background": "light"
     },
     "output_type": "display_data"
    }
   ],
   "source": [
    "lgbm.plot_importance(model4, figsize=(12, 6), max_num_features=10)"
   ]
  },
  {
   "cell_type": "code",
   "execution_count": null,
   "id": "51a16662",
   "metadata": {},
   "outputs": [],
   "source": []
  },
  {
   "cell_type": "markdown",
   "id": "de62d157",
   "metadata": {},
   "source": [
    "## テストで取ってこれる一行はこんな感じ"
   ]
  },
  {
   "cell_type": "code",
   "execution_count": 31,
   "id": "79566b55",
   "metadata": {},
   "outputs": [],
   "source": [
    "example_sample_submission = pd.read_csv(MAIN_DATA_DIR / \"example_sample_submission.csv\")\n",
    "example_test = pd.read_csv(MAIN_DATA_DIR / \"example_test.csv\")\n",
    "test_df = example_test.set_index('date').iloc[:1]\n",
    "sample_prediction_df = example_sample_submission[example_sample_submission['date']==test_df.index[0]].set_index('date')"
   ]
  },
  {
   "cell_type": "code",
   "execution_count": 52,
   "id": "1c381ea4",
   "metadata": {},
   "outputs": [],
   "source": [
    "players_cols = ['playerId', 'primaryPositionName', 'birthCity', 'DOY', 'mlbDebutYear', 'DebutAge', 'heightInches', 'weight']\n",
    "rosters_cols = ['playerId', 'teamId', 'status']\n",
    "scores_cols = ['playerId', 'battingOrder', 'gamesPlayedBatting', 'flyOuts',\n",
    "       'groundOuts', 'runsScored', 'doubles', 'triples', 'homeRuns',\n",
    "       'strikeOuts', 'baseOnBalls', 'intentionalWalks', 'hits', 'hitByPitch',\n",
    "       'atBats', 'caughtStealing', 'stolenBases', 'groundIntoDoublePlay',\n",
    "       'groundIntoTriplePlay', 'plateAppearances', 'totalBases', 'rbi',\n",
    "       'leftOnBase', 'sacBunts', 'sacFlies', 'catchersInterference',\n",
    "       'pickoffs', 'gamesPlayedPitching', 'gamesStartedPitching',\n",
    "       'completeGamesPitching', 'shutoutsPitching', 'winsPitching',\n",
    "       'lossesPitching', 'flyOutsPitching', 'airOutsPitching',\n",
    "       'groundOutsPitching', 'runsPitching', 'doublesPitching',\n",
    "       'triplesPitching', 'homeRunsPitching', 'strikeOutsPitching',\n",
    "       'baseOnBallsPitching', 'intentionalWalksPitching', 'hitsPitching',\n",
    "       'hitByPitchPitching', 'atBatsPitching', 'caughtStealingPitching',\n",
    "       'stolenBasesPitching', 'inningsPitched', 'saveOpportunities',\n",
    "       'earnedRuns', 'battersFaced', 'outsPitching', 'pitchesThrown', 'balls',\n",
    "       'strikes', 'hitBatsmen', 'balks', 'wildPitches', 'pickoffsPitching',\n",
    "       'rbiPitching', 'gamesFinishedPitching', 'inheritedRunners',\n",
    "       'inheritedRunnersScored', 'catchersInterferencePitching',\n",
    "       'sacBuntsPitching', 'sacFliesPitching', 'saves', 'holds', 'blownSaves',\n",
    "       'assists', 'putOuts', 'errors', 'chances']\n",
    "\n",
    "null = np.nan\n",
    "true = True\n",
    "false = False\n",
    "\n",
    "# env = mlb.make_env() # initialize the environment\n",
    "# iter_test = env.iter_test() # iterator which loops over each date in test set\n",
    "\n",
    "# for (test_df, sample_prediction_df) in iter_test: # make predictions here\n",
    "    \n",
    "sample_prediction_df = sample_prediction_df.reset_index(drop=True)\n",
    "\n",
    "# creat dataset\n",
    "sample_prediction_df['playerId'] = sample_prediction_df['date_playerId']\\\n",
    "                                    .map(lambda x: int(x.split('_')[1]))\n",
    "# Dealing with missing values\n",
    "if test_df['rosters'].iloc[0] == test_df['rosters'].iloc[0]:\n",
    "    test_rosters = pd.DataFrame(eval(test_df['rosters'].iloc[0]))\n",
    "else:\n",
    "    test_rosters = pd.DataFrame({'playerId': sample_prediction_df['playerId']})\n",
    "    for col in rosters.columns:\n",
    "        if col == 'playerId': continue\n",
    "        test_rosters[col] = np.nan\n",
    "\n",
    "if test_df['playerBoxScores'].iloc[0] == test_df['playerBoxScores'].iloc[0]:\n",
    "    test_scores = pd.DataFrame(eval(test_df['playerBoxScores'].iloc[0]))\n",
    "else:\n",
    "    test_scores = pd.DataFrame({'playerId': sample_prediction_df['playerId']})\n",
    "    for col in scores.columns:\n",
    "        if col == 'playerId': continue\n",
    "        test_scores[col] = np.nan\n",
    "test_scores = test_scores.groupby('playerId').sum().reset_index()\n",
    "test = sample_prediction_df[['playerId']].copy()\n",
    "test = test.merge(players[players_cols], on='playerId', how='left')\n",
    "test = test.merge(test_rosters[rosters_cols], on='playerId', how='left')\n",
    "test = test.merge(test_scores[scores_cols], on='playerId', how='left')\n",
    "test = test.merge(player_target_stats, how='inner', left_on=[\"playerId\"],right_on=[\"playerId\"])\n",
    "\n",
    "\n",
    "test['label_playerId'] = test['playerId'].map(player2num)\n",
    "test['label_primaryPositionName'] = test['primaryPositionName'].map(position2num)\n",
    "test['label_teamId'] = test['teamId'].map(teamid2num)\n",
    "test['label_status'] = test['status'].map(status2num)\n",
    "test['label_birthCity'] = test['birthCity'].map(birthCityn2num)\n",
    "\n",
    "date_ = pd.to_datetime(test_df.index[0], format=\"%Y%m%d\")\n",
    "test['annual_day'] = (date_ - pd.to_datetime(date_.year, format=\"%Y\")) /  timedelta(days=1)\n",
    "test['week_day'] = date_.weekday()\n",
    "test['month'] = date_.month\n",
    "\n",
    "\n",
    "test_X = test"
   ]
  },
  {
   "cell_type": "code",
   "execution_count": 54,
   "id": "b8c37a4d",
   "metadata": {},
   "outputs": [],
   "source": [
    "# predict\n",
    "pred1 = model1.predict(test_X[feature_cols1])\n",
    "pred2 = model2.predict(test_X[feature_cols2])\n",
    "pred3 = model3.predict(test_X[feature_cols3])\n",
    "pred4 = model4.predict(test_X[feature_cols4])\n",
    "\n",
    "# merge submission\n",
    "sample_prediction_df['target1'] = np.clip(pred1, 0, 100)\n",
    "sample_prediction_df['target2'] = np.clip(pred2, 0, 100)\n",
    "sample_prediction_df['target3'] = np.clip(pred3, 0, 100)\n",
    "sample_prediction_df['target4'] = np.clip(pred4, 0, 100)\n",
    "sample_prediction_df = sample_prediction_df.fillna(0.)\n",
    "\n",
    "del sample_prediction_df['playerId']"
   ]
  },
  {
   "cell_type": "code",
   "execution_count": 55,
   "id": "7309aea7",
   "metadata": {},
   "outputs": [
    {
     "data": {
      "text/html": [
       "<div>\n",
       "<style scoped>\n",
       "    .dataframe tbody tr th:only-of-type {\n",
       "        vertical-align: middle;\n",
       "    }\n",
       "\n",
       "    .dataframe tbody tr th {\n",
       "        vertical-align: top;\n",
       "    }\n",
       "\n",
       "    .dataframe thead th {\n",
       "        text-align: right;\n",
       "    }\n",
       "</style>\n",
       "<table border=\"1\" class=\"dataframe\">\n",
       "  <thead>\n",
       "    <tr style=\"text-align: right;\">\n",
       "      <th></th>\n",
       "      <th>date_playerId</th>\n",
       "      <th>target1</th>\n",
       "      <th>target2</th>\n",
       "      <th>target3</th>\n",
       "      <th>target4</th>\n",
       "    </tr>\n",
       "  </thead>\n",
       "  <tbody>\n",
       "    <tr>\n",
       "      <th>0</th>\n",
       "      <td>20210427_656669</td>\n",
       "      <td>4.523566</td>\n",
       "      <td>7.302453</td>\n",
       "      <td>2.559227e-01</td>\n",
       "      <td>2.723813</td>\n",
       "    </tr>\n",
       "    <tr>\n",
       "      <th>1</th>\n",
       "      <td>20210427_543475</td>\n",
       "      <td>0.147992</td>\n",
       "      <td>3.124557</td>\n",
       "      <td>2.008687e-01</td>\n",
       "      <td>1.193542</td>\n",
       "    </tr>\n",
       "    <tr>\n",
       "      <th>2</th>\n",
       "      <td>20210427_592866</td>\n",
       "      <td>0.006262</td>\n",
       "      <td>1.240768</td>\n",
       "      <td>1.289277e-02</td>\n",
       "      <td>1.045266</td>\n",
       "    </tr>\n",
       "    <tr>\n",
       "      <th>3</th>\n",
       "      <td>20210427_452678</td>\n",
       "      <td>0.028216</td>\n",
       "      <td>3.628774</td>\n",
       "      <td>4.949686e-02</td>\n",
       "      <td>1.776316</td>\n",
       "    </tr>\n",
       "    <tr>\n",
       "      <th>4</th>\n",
       "      <td>20210427_570257</td>\n",
       "      <td>0.008472</td>\n",
       "      <td>1.085709</td>\n",
       "      <td>1.132856e-02</td>\n",
       "      <td>0.437531</td>\n",
       "    </tr>\n",
       "    <tr>\n",
       "      <th>...</th>\n",
       "      <td>...</td>\n",
       "      <td>...</td>\n",
       "      <td>...</td>\n",
       "      <td>...</td>\n",
       "      <td>...</td>\n",
       "    </tr>\n",
       "    <tr>\n",
       "      <th>1182</th>\n",
       "      <td>20210427_593590</td>\n",
       "      <td>0.000010</td>\n",
       "      <td>0.013661</td>\n",
       "      <td>1.073450e-18</td>\n",
       "      <td>0.000000</td>\n",
       "    </tr>\n",
       "    <tr>\n",
       "      <th>1183</th>\n",
       "      <td>20210427_642180</td>\n",
       "      <td>0.002000</td>\n",
       "      <td>1.000161</td>\n",
       "      <td>3.896596e-03</td>\n",
       "      <td>0.397934</td>\n",
       "    </tr>\n",
       "    <tr>\n",
       "      <th>1184</th>\n",
       "      <td>20210427_663399</td>\n",
       "      <td>0.000242</td>\n",
       "      <td>0.336076</td>\n",
       "      <td>1.736459e-03</td>\n",
       "      <td>0.087545</td>\n",
       "    </tr>\n",
       "    <tr>\n",
       "      <th>1185</th>\n",
       "      <td>20210427_664199</td>\n",
       "      <td>0.000847</td>\n",
       "      <td>0.919104</td>\n",
       "      <td>5.898664e-03</td>\n",
       "      <td>0.507688</td>\n",
       "    </tr>\n",
       "    <tr>\n",
       "      <th>1186</th>\n",
       "      <td>20210427_595453</td>\n",
       "      <td>0.007222</td>\n",
       "      <td>1.106129</td>\n",
       "      <td>6.004617e-03</td>\n",
       "      <td>0.473643</td>\n",
       "    </tr>\n",
       "  </tbody>\n",
       "</table>\n",
       "<p>1187 rows × 5 columns</p>\n",
       "</div>"
      ],
      "text/plain": [
       "        date_playerId   target1   target2       target3   target4\n",
       "0     20210427_656669  4.523566  7.302453  2.559227e-01  2.723813\n",
       "1     20210427_543475  0.147992  3.124557  2.008687e-01  1.193542\n",
       "2     20210427_592866  0.006262  1.240768  1.289277e-02  1.045266\n",
       "3     20210427_452678  0.028216  3.628774  4.949686e-02  1.776316\n",
       "4     20210427_570257  0.008472  1.085709  1.132856e-02  0.437531\n",
       "...               ...       ...       ...           ...       ...\n",
       "1182  20210427_593590  0.000010  0.013661  1.073450e-18  0.000000\n",
       "1183  20210427_642180  0.002000  1.000161  3.896596e-03  0.397934\n",
       "1184  20210427_663399  0.000242  0.336076  1.736459e-03  0.087545\n",
       "1185  20210427_664199  0.000847  0.919104  5.898664e-03  0.507688\n",
       "1186  20210427_595453  0.007222  1.106129  6.004617e-03  0.473643\n",
       "\n",
       "[1187 rows x 5 columns]"
      ]
     },
     "execution_count": 55,
     "metadata": {},
     "output_type": "execute_result"
    }
   ],
   "source": [
    "sample_prediction_df"
   ]
  },
  {
   "cell_type": "code",
   "execution_count": null,
   "id": "5afb8731",
   "metadata": {},
   "outputs": [],
   "source": []
  }
 ],
 "metadata": {
  "kernelspec": {
   "display_name": "Python 3",
   "language": "python",
   "name": "python3"
  },
  "language_info": {
   "codemirror_mode": {
    "name": "ipython",
    "version": 3
   },
   "file_extension": ".py",
   "mimetype": "text/x-python",
   "name": "python",
   "nbconvert_exporter": "python",
   "pygments_lexer": "ipython3",
   "version": "3.6.13"
  }
 },
 "nbformat": 4,
 "nbformat_minor": 5
}
