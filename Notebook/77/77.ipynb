{
 "cells": [
  {
   "cell_type": "code",
   "execution_count": 1,
   "id": "25e83eef",
   "metadata": {},
   "outputs": [],
   "source": [
    "import gc\n",
    "import os\n",
    "import sys\n",
    "import math\n",
    "import random\n",
    "import warnings\n",
    "import pickle\n",
    "from pathlib import Path\n",
    "from joblib import Parallel, delayed\n",
    "from statsmodels.tsa.deterministic import (CalendarFourier,\n",
    "                                           CalendarSeasonality,\n",
    "                                           CalendarTimeTrend,\n",
    "                                           DeterministicProcess)\n",
    "import optuna\n",
    "\n",
    "import pickle\n",
    "from tqdm import tqdm\n",
    "import os\n",
    "import ipywidgets as widgets\n",
    "import matplotlib.pyplot as plt\n",
    "import numpy as np\n",
    "import pandas as pd\n",
    "import seaborn as sns\n",
    "# from pandarallel import pandarallel\n",
    "# pandarallel.initialize()\n",
    "warnings.simplefilter(\"ignore\")\n",
    "import ctypes as ct\n",
    "from datetime import timedelta\n",
    "\n",
    "from sklearn.metrics import mean_absolute_error\n",
    "\n",
    "import statistics as st\n",
    "import lightgbm as lgbm\n",
    "from scipy.stats import norm"
   ]
  },
  {
   "cell_type": "code",
   "execution_count": 2,
   "id": "d6c63fb2",
   "metadata": {},
   "outputs": [],
   "source": [
    "sys.path.append('../../')\n",
    "import src.utils as utils"
   ]
  },
  {
   "cell_type": "markdown",
   "id": "c02e2e15",
   "metadata": {},
   "source": [
    "## Param"
   ]
  },
  {
   "cell_type": "code",
   "execution_count": 3,
   "id": "eeb03235",
   "metadata": {},
   "outputs": [],
   "source": [
    "EXP_NUM = 76\n",
    "NFOLDS = 5\n",
    "SEED = 42"
   ]
  },
  {
   "cell_type": "code",
   "execution_count": 4,
   "id": "58f2614d",
   "metadata": {},
   "outputs": [],
   "source": [
    "# def set_seed(seed: int = 42):\n",
    "#     random.seed(seed)\n",
    "#     np.random.seed(seed)\n",
    "#     os.environ[\"PYTHONHASHSEED\"] = str(seed)\n",
    "#     torch.manual_seed(seed)\n",
    "#     torch.cuda.manual_seed(seed)  # type: ignore\n",
    "#     torch.backends.cudnn.deterministic = True  # type: ignore\n",
    "#     torch.backends.cudnn.benchmark = False  # type: ignore\n",
    "# set_seed(SEED)"
   ]
  },
  {
   "cell_type": "markdown",
   "id": "99ec34b2",
   "metadata": {},
   "source": [
    "## Dir"
   ]
  },
  {
   "cell_type": "code",
   "execution_count": 5,
   "id": "9082d93f",
   "metadata": {},
   "outputs": [],
   "source": [
    "DATA_DIR = Path(\"/home/knikaido/work/MLB-Player-Digital-Engagement-Forecasting/data/\")\n",
    "MAIN_DATA_DIR = DATA_DIR / 'mlb-player-digital-engagement-forecasting'\n",
    "TRAIN_DIR = MAIN_DATA_DIR / 'train'\n",
    "OUTPUT_DIR = Path('./output/')"
   ]
  },
  {
   "cell_type": "code",
   "execution_count": 6,
   "id": "cc2c9e54",
   "metadata": {},
   "outputs": [],
   "source": [
    "players = pd.read_csv(MAIN_DATA_DIR / 'players.csv')\n",
    "\n",
    "rosters = pd.read_csv(TRAIN_DIR / 'rosters_train.csv')\n",
    "targets = pd.read_csv(TRAIN_DIR / 'nextDayPlayerEngagement_train.csv')\n",
    "scores = pd.read_csv(TRAIN_DIR / 'playerBoxScores_train.csv')\n",
    "scores = scores.groupby(['playerId', 'date']).sum().reset_index()\n",
    "seasons = pd.read_csv(MAIN_DATA_DIR / 'seasons.csv')\n",
    "salaries = pd.read_csv(MAIN_DATA_DIR / 'mlbSalaries.csv')\n",
    "teams = pd.read_csv(MAIN_DATA_DIR / 'teams.csv')\n",
    "\n",
    "standings = pd.read_csv(TRAIN_DIR / 'standings_train.csv')\n",
    "playerTwitterFollowers = pd.read_csv(TRAIN_DIR / 'playerTwitterFollowers_train.csv')\n",
    "\n",
    "# events = pd.read_csv(TRAIN_DIR / 'events_train.csv')\n",
    "# events = events.groupby(['gameDate']).sum().reset_index()\n"
   ]
  },
  {
   "cell_type": "code",
   "execution_count": null,
   "id": "353c152e",
   "metadata": {},
   "outputs": [],
   "source": []
  },
  {
   "cell_type": "code",
   "execution_count": 7,
   "id": "8aa02eed",
   "metadata": {},
   "outputs": [],
   "source": [
    "train_elements_dict = {\"players\":players, \n",
    "                       \"rosters\":rosters, \n",
    "                       \"targets\":targets, \n",
    "                       \"scores\":scores, \n",
    "                       \"seasons\":seasons, \n",
    "                       \"teams\":teams, \n",
    "                       \"standings\":standings}"
   ]
  },
  {
   "cell_type": "code",
   "execution_count": 8,
   "id": "7030c135",
   "metadata": {},
   "outputs": [],
   "source": [
    "def map_team_name(name):\n",
    "    names = name.split('-')\n",
    "    result = ''\n",
    "    for n in names:\n",
    "        if n == 'st':\n",
    "            n = 'st.'\n",
    "        result += f' {n.capitalize()}'\n",
    "\n",
    "    return result[1:]"
   ]
  },
  {
   "cell_type": "code",
   "execution_count": 9,
   "id": "ce80fa46",
   "metadata": {},
   "outputs": [],
   "source": [
    "def calc_corr(df):\n",
    "    # 相関係数行列を作成\n",
    "    corr_mat = df.corr(method='pearson')\n",
    "\n",
    "    # 行（列）サイズを取得\n",
    "    n = corr_mat.shape[0]\n",
    "    corr_ary = []\n",
    "\n",
    "    for i in range(n):\n",
    "        for j in range(i):\n",
    "            if i == j:\n",
    "                continue\n",
    "            corr_ary.append(corr_mat.iloc[i,j])\n",
    "\n",
    "    return corr_ary"
   ]
  },
  {
   "cell_type": "code",
   "execution_count": 10,
   "id": "03b41857",
   "metadata": {},
   "outputs": [],
   "source": [
    "def calc_probs(pid,df,temp):\n",
    "    to_append=[pid,'','','','','','','','','','','','','','','','','','','','','','','','','','','','','','','','','','']\n",
    "    targets=['target1','target2','target3','target4']\n",
    "    z=1\n",
    "    for target in targets:\n",
    "        target_prob = temp[target].tolist()\n",
    "        mean = np.mean(target_prob)\n",
    "        std = np.std(target_prob)\n",
    "        median = st.median(target_prob)\n",
    "        distribution = norm(mean, std)\n",
    "        min_weight = min(target_prob)\n",
    "        max_weight = max(target_prob)\n",
    "        values = list(np.linspace(min_weight, max_weight))\n",
    "        probabilities = [distribution.pdf(v) for v in values]\n",
    "        max_value = max(probabilities)\n",
    "        max_index = probabilities.index(max_value)\n",
    "        to_append[z]=mean\n",
    "        to_append[z+1]=median\n",
    "        to_append[z+2]=std\n",
    "        to_append[z+3]=min_weight\n",
    "        to_append[z+4]=max_weight\n",
    "        to_append[z+5]=temp[target].skew()\n",
    "        to_append[z+6]=temp[target].kurt()\n",
    "\n",
    "        z=z+7\n",
    "    corr_ = calc_corr(temp[['target1', 'target2', 'target3', 'target4']])\n",
    "    to_append[z:] = corr_  \n",
    "    df_length = len(df)\n",
    "    df.loc[df_length] = to_append\n",
    "    return df"
   ]
  },
  {
   "cell_type": "code",
   "execution_count": 11,
   "id": "49a21d8d",
   "metadata": {},
   "outputs": [],
   "source": [
    "def count_consecutive_items_n_cols(df, col_name_list, output_col):\n",
    "    cum_sum_list = [\n",
    "        (df[col_name] != df[col_name].shift(1)).cumsum().tolist() for col_name in col_name_list\n",
    "    ]\n",
    "    df[output_col] = df.groupby(\n",
    "        [\"_\".join(map(str, x)) for x in zip(*cum_sum_list)]\n",
    "    ).cumcount() + 1\n",
    "    return df"
   ]
  },
  {
   "cell_type": "code",
   "execution_count": 12,
   "id": "81541b18",
   "metadata": {},
   "outputs": [],
   "source": [
    "def extract_season(date_raw, season_start_end):\n",
    "    idxes = 0\n",
    "    for raw in season_start_end.iloc():\n",
    "        idx_ = ((date_raw >= raw.iloc[0]) & (date_raw <= raw.iloc[1])) * 1\n",
    "        idxes += idx_\n",
    "    return idxes"
   ]
  },
  {
   "cell_type": "code",
   "execution_count": 13,
   "id": "420d5477",
   "metadata": {},
   "outputs": [],
   "source": [
    "# def fit_lgbm(x_train, y_train, x_valid, y_valid, params: dict=None, verbose=100):\n",
    "#     oof_pred = np.zeros(len(y_valid), dtype=np.float32)\n",
    "#     model = lgbm.LGBMRegressor(**params)\n",
    "#     model.fit(x_train, y_train, \n",
    "#         eval_set=[(x_valid, y_valid)],  \n",
    "#         early_stopping_rounds=verbose, \n",
    "#         verbose=verbose)\n",
    "#     oof_pred = model.predict(x_valid)\n",
    "#     oof_pred = np.clip(oof_pred, 0, 100)\n",
    "#     score = mean_absolute_error(oof_pred, y_valid)\n",
    "#     print('mae:', score)\n",
    "#     return oof_pred, model, score"
   ]
  },
  {
   "cell_type": "code",
   "execution_count": 14,
   "id": "96e540d4",
   "metadata": {},
   "outputs": [],
   "source": [
    "def fit_lgbm(x_train, y_train, x_valid, y_valid, verbose=100):\n",
    "    def opt(trial):\n",
    "        params = {\n",
    "                'random_state': SEED,\n",
    "                'objective':'mae',\n",
    "                'n_estimators': 10000,\n",
    "                'learning_rate': 0.1,\n",
    "                'max_depth': trial.suggest_int('max_depth', 1, 20),\n",
    "                'min_child_weight': trial.suggest_int('min_child_weight', 1, 20),\n",
    "                'subsample': trial.suggest_discrete_uniform('subsample', 0.5, 0.9, 0.1),\n",
    "                'colsample_bytree': trial.suggest_discrete_uniform('colsample_bytree', 0.5, 0.9, 0.1),\n",
    "                'reg_lambda': trial.suggest_loguniform('reg_lambda', 1e-3, 1e3),\n",
    "                'reg_alpha': trial.suggest_loguniform('reg_alpha', 1e-3, 1e3),\n",
    "                'feature_fraction': trial.suggest_uniform('feature_fraction', 0.2, 1.0),\n",
    "                'bagging_fraction': trial.suggest_uniform('bagging_fraction', 0.2, 1.0),\n",
    "                'bagging_freq': trial.suggest_int('bagging_freq', 1, 20),\n",
    "                'num_leaves': trial.suggest_int('num_leaves', 10, 1000),\n",
    "                'min_child_samples': trial.suggest_int('min_child_samples', 5, 100)\n",
    "        }\n",
    "\n",
    "        model_opt = lgbm.LGBMRegressor(**params)\n",
    "\n",
    "        model_opt.fit(x_train, y_train, \n",
    "            eval_set=[(x_train, y_train), (x_valid, y_valid)],  \n",
    "            early_stopping_rounds=verbose, \n",
    "            verbose=verbose)\n",
    "        oof_pred = model_opt.predict(x_valid)\n",
    "        oof_pred = np.clip(oof_pred, 0, 100)\n",
    "        score = mean_absolute_error(oof_pred, y_valid)\n",
    "        return -score\n",
    "    return opt"
   ]
  },
  {
   "cell_type": "code",
   "execution_count": 15,
   "id": "f69ca43d",
   "metadata": {},
   "outputs": [],
   "source": [
    "def my_timeseries_fold(train):\n",
    "    \n",
    "    tr_idxs = []\n",
    "    val_idxs = []\n",
    "    \n",
    "    tr_idx = (train['date'].astype(int) < 20200801)\n",
    "    val_idx = (train['date'].astype(int) >= 20200801) & (train['date'].astype(int) < 20200901)\n",
    "    tr_idxs.append(tr_idx)\n",
    "    val_idxs.append(val_idx)\n",
    "\n",
    "    tr_idx = (train['date'].astype(int) < 20200901)\n",
    "    val_idx = (train['date'].astype(int) >= 20200901) & (train['date'].astype(int) < 20201001)\n",
    "    tr_idxs.append(tr_idx)\n",
    "    val_idxs.append(val_idx)\n",
    "\n",
    "    tr_idx = (train['date'].astype(int) < 20201001)\n",
    "    val_idx = (train['date'].astype(int) >= 20201001) & (train['date'].astype(int) < 20201028)\n",
    "    tr_idxs.append(tr_idx)\n",
    "    val_idxs.append(val_idx)\n",
    "\n",
    "    tr_idx = (train['date'].astype(int) < 20210228)\n",
    "    val_idx = (train['date'].astype(int) >= 20210228) & (train['date'].astype(int) < 20210401)\n",
    "    tr_idxs.append(tr_idx)\n",
    "    val_idxs.append(val_idx)\n",
    "\n",
    "    tr_idx = (train['date'].astype(int) < 20210401)\n",
    "    val_idx = ~tr_idx\n",
    "    tr_idxs.append(tr_idx)\n",
    "    val_idxs.append(val_idx)\n",
    "    \n",
    "    return tr_idxs, val_idxs"
   ]
  },
  {
   "cell_type": "code",
   "execution_count": 16,
   "id": "a69b00b4",
   "metadata": {},
   "outputs": [],
   "source": [
    "class Rt4kaidoTrain:\n",
    "    def __init__(self, usetimelinefeature=False):\n",
    "        \n",
    "        self.usetimelinefeature = usetimelinefeature\n",
    "        self.targets_cols = ['playerId', 'target1', 'target2', 'target3', 'target4', 'date']\n",
    "        self.players_cols = ['playerId', 'primaryPositionName', 'birthCity', 'DOY', 'mlbDebutYear', 'mlbDebutDate', 'DebutAge', 'heightInches', 'weight', 'playerForTestSetAndFuturePreds']\n",
    "        self.rosters_cols = ['playerId', 'teamId', 'status', 'date']\n",
    "        self.salaries_cols = ['teamId', 'salary', 'year']\n",
    "        self.standings_cols = ['teamId', 'wildCardRank', 'sportGamesBack', 'date']\n",
    "        self.transactions_cols = ['playerId', 'transaction_flag', 'date']\n",
    "        self.stat_cols = [\"playerId\", \"target1_mean\",\"target1_median\",\"target1_std\",\"target1_min\",\"target1_max\",\"target1_skew\",\"target1_kurt\",\n",
    "                        \"target2_mean\",\"target2_median\",\"target2_std\",\"target2_min\",\"target2_max\",\"target2_skew\",\"target2_kurt\",\n",
    "                        \"target3_mean\",\"target3_median\",\"target3_std\",\"target3_min\",\"target3_max\",\"target3_skew\",\"target3_kurt\",\n",
    "                        \"target4_mean\",\"target4_median\",\"target4_std\",\"target4_min\",\"target4_max\",\"target4_skew\",\"target4_kurt\",\n",
    "                        'tgt1_2_corr', 'tgt1_3_corr', 'tgt2_3_corr', 'tgt1_4_corr', 'tgt2_4_corr', 'tgt3_4_corr']\n",
    "\n",
    "        self.scores_cols = ['playerId', 'battingOrder', 'gamesPlayedBatting', 'flyOuts',\n",
    "               'groundOuts', 'runsScored', 'doubles', 'triples', 'homeRuns',\n",
    "               'strikeOuts', 'baseOnBalls', 'intentionalWalks', 'hits', 'hitByPitch',\n",
    "               'atBats', 'caughtStealing', 'stolenBases', 'groundIntoDoublePlay',\n",
    "               'groundIntoTriplePlay', 'plateAppearances', 'totalBases', 'rbi',\n",
    "               'leftOnBase', 'sacBunts', 'sacFlies', 'catchersInterference',\n",
    "               'pickoffs', 'gamesPlayedPitching', 'gamesStartedPitching',\n",
    "               'completeGamesPitching', 'shutoutsPitching', 'winsPitching',\n",
    "               'lossesPitching', 'flyOutsPitching', 'airOutsPitching',\n",
    "               'groundOutsPitching', 'runsPitching', 'doublesPitching',\n",
    "               'triplesPitching', 'homeRunsPitching', 'strikeOutsPitching',\n",
    "               'baseOnBallsPitching', 'intentionalWalksPitching', 'hitsPitching',\n",
    "               'hitByPitchPitching', 'atBatsPitching', 'caughtStealingPitching',\n",
    "               'stolenBasesPitching', 'inningsPitched', 'saveOpportunities',\n",
    "               'earnedRuns', 'battersFaced', 'outsPitching', 'pitchesThrown', 'balls',\n",
    "               'strikes', 'hitBatsmen', 'balks', 'wildPitches', 'pickoffsPitching',\n",
    "               'rbiPitching', 'gamesFinishedPitching', 'inheritedRunners',\n",
    "               'inheritedRunnersScored', 'catchersInterferencePitching',\n",
    "               'sacBuntsPitching', 'sacFliesPitching', 'saves', 'holds', 'blownSaves',\n",
    "               'assists', 'putOuts', 'errors', 'chances', 'date']\n",
    "\n",
    "        self.feature_cols1 = ['week_day','label_playerId', 'label_primaryPositionName', 'label_teamId',\n",
    "               'label_status', 'battingOrder', 'gamesPlayedBatting', 'flyOuts',\n",
    "               'groundOuts', 'runsScored', 'doubles', 'triples', 'homeRuns',\n",
    "               'strikeOuts', 'baseOnBalls', 'intentionalWalks', 'hits', 'hitByPitch',\n",
    "               'atBats', 'caughtStealing', 'stolenBases', 'groundIntoDoublePlay',\n",
    "               'groundIntoTriplePlay', 'plateAppearances', 'totalBases', 'rbi',\n",
    "               'leftOnBase', 'sacBunts', 'sacFlies', 'catchersInterference',\n",
    "               'pickoffs', 'gamesPlayedPitching', 'gamesStartedPitching',\n",
    "               'completeGamesPitching', 'shutoutsPitching', 'winsPitching',\n",
    "               'lossesPitching', 'flyOutsPitching', 'airOutsPitching',\n",
    "               'groundOutsPitching', 'runsPitching', 'doublesPitching',\n",
    "               'triplesPitching', 'homeRunsPitching', 'strikeOutsPitching',\n",
    "               'baseOnBallsPitching', 'intentionalWalksPitching', 'hitsPitching',\n",
    "               'hitByPitchPitching', 'atBatsPitching', 'caughtStealingPitching',\n",
    "               'stolenBasesPitching', 'inningsPitched', 'saveOpportunities',\n",
    "               'earnedRuns', 'battersFaced', 'outsPitching', 'pitchesThrown', 'balls',\n",
    "               'strikes', 'hitBatsmen', 'balks', 'wildPitches', 'pickoffsPitching',\n",
    "               'rbiPitching', 'gamesFinishedPitching', 'inheritedRunners',\n",
    "               'inheritedRunnersScored', 'catchersInterferencePitching',\n",
    "               'sacBuntsPitching', 'sacFliesPitching', 'saves', 'holds', 'blownSaves',\n",
    "               'assists', 'putOuts', 'errors', 'chances',\n",
    "                'season_info', 'wildCardRank'] \n",
    "\n",
    "        self.feature_cols2 = ['label_playerId', 'label_primaryPositionName', 'label_teamId',\n",
    "               'label_status', 'battingOrder', 'gamesPlayedBatting', 'flyOuts',\n",
    "               'groundOuts', 'runsScored', 'doubles', 'triples', 'homeRuns',\n",
    "               'strikeOuts', 'baseOnBalls', 'intentionalWalks', 'hits', 'hitByPitch',\n",
    "               'atBats', 'caughtStealing', 'stolenBases', 'groundIntoDoublePlay',\n",
    "               'groundIntoTriplePlay', 'plateAppearances', 'totalBases', 'rbi',\n",
    "               'leftOnBase', 'sacBunts', 'sacFlies', 'catchersInterference',\n",
    "               'pickoffs', 'gamesPlayedPitching', 'gamesStartedPitching',\n",
    "               'completeGamesPitching', 'shutoutsPitching', 'winsPitching',\n",
    "               'lossesPitching', 'flyOutsPitching', 'airOutsPitching',\n",
    "               'groundOutsPitching', 'runsPitching', 'doublesPitching',\n",
    "               'triplesPitching', 'homeRunsPitching', 'strikeOutsPitching',\n",
    "               'baseOnBallsPitching', 'intentionalWalksPitching', 'hitsPitching',\n",
    "               'hitByPitchPitching', 'atBatsPitching', 'caughtStealingPitching',\n",
    "               'stolenBasesPitching', 'inningsPitched', 'saveOpportunities',\n",
    "               'earnedRuns', 'battersFaced', 'outsPitching', 'pitchesThrown', 'balls',\n",
    "               'strikes', 'hitBatsmen', 'balks', 'wildPitches', 'pickoffsPitching',\n",
    "               'rbiPitching', 'gamesFinishedPitching', 'inheritedRunners',\n",
    "               'inheritedRunnersScored', 'catchersInterferencePitching',\n",
    "               'sacBuntsPitching', 'sacFliesPitching', 'saves', 'holds', 'blownSaves',\n",
    "               'assists', 'putOuts', 'errors', 'chances',\n",
    "                'season_info', 'wildCardRank'] \n",
    "\n",
    "        self.feature_cols3 = ['week_day','label_playerId', 'label_primaryPositionName', 'label_teamId',\n",
    "               'label_status', 'battingOrder', 'gamesPlayedBatting', 'flyOuts',\n",
    "               'groundOuts', 'runsScored', 'doubles', 'triples', 'homeRuns',\n",
    "               'strikeOuts', 'baseOnBalls', 'intentionalWalks', 'hits', 'hitByPitch',\n",
    "               'atBats', 'caughtStealing', 'stolenBases', 'groundIntoDoublePlay',\n",
    "               'groundIntoTriplePlay', 'plateAppearances', 'totalBases', 'rbi',\n",
    "               'leftOnBase', 'sacBunts', 'sacFlies', 'catchersInterference',\n",
    "               'pickoffs', 'gamesPlayedPitching', 'gamesStartedPitching',\n",
    "               'completeGamesPitching', 'shutoutsPitching', 'winsPitching',\n",
    "               'lossesPitching', 'flyOutsPitching', 'airOutsPitching',\n",
    "               'groundOutsPitching', 'runsPitching', 'doublesPitching',\n",
    "               'triplesPitching', 'homeRunsPitching', 'strikeOutsPitching',\n",
    "               'baseOnBallsPitching', 'intentionalWalksPitching', 'hitsPitching',\n",
    "               'hitByPitchPitching', 'atBatsPitching', 'caughtStealingPitching',\n",
    "               'stolenBasesPitching', 'inningsPitched', 'saveOpportunities',\n",
    "               'earnedRuns', 'battersFaced', 'outsPitching', 'pitchesThrown', 'balls',\n",
    "               'strikes', 'hitBatsmen', 'balks', 'wildPitches', 'pickoffsPitching',\n",
    "               'rbiPitching', 'gamesFinishedPitching', 'inheritedRunners',\n",
    "               'inheritedRunnersScored', 'catchersInterferencePitching',\n",
    "               'sacBuntsPitching', 'sacFliesPitching', 'saves', 'holds', 'blownSaves',\n",
    "               'assists', 'putOuts', 'errors', 'chances',\n",
    "                'season_info', 'wildCardRank', 'diffmlbDebutDateflag', 'sincemlbDebutDateflag'] \n",
    "\n",
    "        self.feature_cols4 = ['week_day', 'annual_day', 'month', 'label_playerId', 'label_primaryPositionName', 'label_teamId', 'label_birthCity',\n",
    "                        'DOY', 'mlbDebutYear', 'DebutAge', 'heightInches', 'weight',\n",
    "               'label_status', 'battingOrder', 'gamesPlayedBatting', 'flyOuts',\n",
    "               'groundOuts', 'runsScored', 'doubles', 'triples', 'homeRuns',\n",
    "               'strikeOuts', 'baseOnBalls', 'intentionalWalks', 'hits', 'hitByPitch',\n",
    "               'atBats', 'caughtStealing', 'stolenBases', 'groundIntoDoublePlay',\n",
    "               'groundIntoTriplePlay', 'plateAppearances', 'totalBases', 'rbi',\n",
    "               'leftOnBase', 'sacBunts', 'sacFlies', 'catchersInterference',\n",
    "               'pickoffs', 'gamesPlayedPitching', 'gamesStartedPitching',\n",
    "               'completeGamesPitching', 'shutoutsPitching', 'winsPitching',\n",
    "               'lossesPitching', 'flyOutsPitching', 'airOutsPitching',\n",
    "               'groundOutsPitching', 'runsPitching', 'doublesPitching',\n",
    "               'triplesPitching', 'homeRunsPitching', 'strikeOutsPitching',\n",
    "               'baseOnBallsPitching', 'intentionalWalksPitching', 'hitsPitching',\n",
    "               'hitByPitchPitching', 'atBatsPitching', 'caughtStealingPitching',\n",
    "               'stolenBasesPitching', 'inningsPitched', 'saveOpportunities',\n",
    "               'earnedRuns', 'battersFaced', 'outsPitching', 'pitchesThrown', 'balls',\n",
    "               'strikes', 'hitBatsmen', 'balks', 'wildPitches', 'pickoffsPitching',\n",
    "               'rbiPitching', 'gamesFinishedPitching', 'inheritedRunners',\n",
    "               'inheritedRunnersScored', 'catchersInterferencePitching',\n",
    "               'sacBuntsPitching', 'sacFliesPitching', 'saves', 'holds', 'blownSaves',\n",
    "               'assists', 'putOuts', 'errors', 'chances',\n",
    "                'season_info', 'wildCardRank', 'diffmlbDebutDateflag', 'sincemlbDebutDateflag'] \n",
    "        \n",
    "        \n",
    "        # lightgbm\n",
    "        self.params1 = {'objective':'mae',\n",
    "                       'reg_alpha': 0.14947461820098767, \n",
    "                       'reg_lambda': 0.10185644384043743, \n",
    "                       'n_estimators': 3633, \n",
    "                       'learning_rate': 0.08046301304430488, \n",
    "                       'num_leaves': 674, \n",
    "                       'feature_fraction': 0.9101240539122566, \n",
    "                       'bagging_fraction': 0.9884451442950513, \n",
    "                       'bagging_freq': 8, \n",
    "                       'min_child_samples': 51}\n",
    "\n",
    "\n",
    "        self.params2 = {'objective':'mae',\n",
    "                       'reg_alpha': 0.1,\n",
    "                       'reg_lambda': 0.1, \n",
    "                       'n_estimators': 80,\n",
    "                       'learning_rate': 0.1,\n",
    "                       'random_state': 42,\n",
    "                       \"num_leaves\": 22}\n",
    "\n",
    "\n",
    "\n",
    "        self.params3 = {'objective':'mae',\n",
    "                       'reg_alpha': 0.1,\n",
    "                       'reg_lambda': 0.1, \n",
    "                       'n_estimators': 10000,\n",
    "                       'learning_rate': 0.1,\n",
    "                       'random_state': 42,\n",
    "                       \"num_leaves\": 100}\n",
    "\n",
    "        self.params4 = {'objective':'mae',\n",
    "                       'reg_alpha': 0.016468100279441976, \n",
    "                       'reg_lambda': 0.09128335764019105, \n",
    "                       'n_estimators': 9868, \n",
    "                       'learning_rate': 0.10528150510326864, \n",
    "                       'num_leaves': 157, \n",
    "                       'feature_fraction': 0.5419185713426886, \n",
    "                       'bagging_fraction': 0.2637405128936662, \n",
    "                       'bagging_freq': 19, \n",
    "                       'min_child_samples': 71}\n",
    "\n",
    "    def make_feature(self, train_elements_dict):\n",
    "\n",
    "        players = train_elements_dict['players']\n",
    "        rosters = train_elements_dict['rosters']\n",
    "        targets = train_elements_dict['targets']\n",
    "        scores = train_elements_dict['scores']\n",
    "        seasons = train_elements_dict['seasons']\n",
    "        teams = train_elements_dict['teams']\n",
    "        standings = train_elements_dict['standings']\n",
    "\n",
    "        print('calc target stat ... ', end=\"\")\n",
    "\n",
    "        ## target stats\n",
    "        targets_train = targets.merge(rosters[self.rosters_cols], on=['playerId', 'date'], how='left')\n",
    "        targets_train = targets_train[(targets_train['date'] >= 20210401)]\n",
    "\n",
    "        playerId_list = targets_train['playerId'].unique()\n",
    "        player_target_probs = pd.DataFrame(columns = self.stat_cols)  \n",
    "        for pid in tqdm(playerId_list):\n",
    "            temp = targets_train[targets_train['playerId'] == pid]\n",
    "            player_target_stats=calc_probs(pid,player_target_probs,temp)\n",
    "\n",
    "        teamId_list = targets_train['teamId'].dropna().unique()\n",
    "        team_target_probs = pd.DataFrame(columns = self.stat_cols)\n",
    "        for pid in tqdm(teamId_list):\n",
    "            temp = targets_train[targets_train['teamId'] == pid]\n",
    "            team_target_stats=calc_probs(pid,team_target_probs,temp)\n",
    "\n",
    "        team_stat_cols = self.stat_cols\n",
    "        team_stat_cols = team_stat_cols[:1] + [\"team_\" + word for word in team_stat_cols[1:]]\n",
    "        team_target_stats.columns = team_stat_cols\n",
    "\n",
    "        self.feature_cols1 += self.stat_cols[1:-6]\n",
    "        self.feature_cols2 += self.stat_cols[1:-6]\n",
    "        self.feature_cols3 += self.stat_cols[1:-6]\n",
    "        self.feature_cols4 += self.stat_cols[1:-6]\n",
    "\n",
    "        self.feature_cols1 += team_stat_cols[1:]\n",
    "        self.feature_cols2 += team_stat_cols[1:]\n",
    "        self.feature_cols3 += team_stat_cols[1:]\n",
    "        self.feature_cols4 += team_stat_cols[1:]\n",
    "\n",
    "        print('done.')\n",
    "\n",
    "        print('preprocess ... ', end=\"\")\n",
    "        ## salaries\n",
    "        # salaries = salaries.groupby(['year', 'team']).sum()['salary'].reset_index()\n",
    "        # salaries['team'] = salaries['team'].apply(map_team_name)\n",
    "        # salaries = salaries.merge(teams, left_on='team', right_on='name', how='inner')\n",
    "        # salaries = salaries.rename(columns={'id': 'teamId'})\n",
    "\n",
    "        ## seasons\n",
    "        seasons = seasons.fillna('0000-00-00')\n",
    "        for c_ in seasons.columns[1:]:\n",
    "            seasons[c_] = seasons[c_].str.replace('-', '').astype(int)\n",
    "\n",
    "        ## players\n",
    "        players['DOY'] = pd.to_datetime(players['DOB'], format=\"%Y-%m-%d\").dt.year\n",
    "        players['mlbDebutYear'] = pd.to_datetime(players['mlbDebutDate'], format=\"%Y-%m-%d\").dt.year\n",
    "        players['DebutAge'] = players['mlbDebutYear'] - players['DOY']\n",
    "        players['mlbDebutDate'] = pd.to_numeric(players['mlbDebutDate'].str.replace('-', ''), errors=\"coerce\")\n",
    "\n",
    "        print('done.')\n",
    "\n",
    "        print('creat feature ... ', end=\"\")\n",
    "        # creat feature\n",
    "        train = targets[self.targets_cols].merge(players[self.players_cols], on=['playerId'], how='left')\n",
    "        train = train.merge(rosters[self.rosters_cols], on=['playerId', 'date'], how='left')\n",
    "        train = train.merge(scores[self.scores_cols], on=['playerId', 'date'], how='left')\n",
    "        train = train.merge(player_target_stats, how='inner', left_on=[\"playerId\"],right_on=[\"playerId\"])\n",
    "        train = train.merge(standings[self.standings_cols], on=['teamId', 'date'], how='left')\n",
    "        train = train.merge(team_target_stats, how='left', left_on=[\"teamId\"],right_on=[\"playerId\"], suffixes=('', 'team_'))\n",
    "        \n",
    "        date_ = pd.to_datetime(train['date'], format=\"%Y%m%d\")\n",
    "        train['annual_day'] = (date_ - pd.to_datetime(date_.dt.year, format=\"%Y\")) /  timedelta(days=1)\n",
    "        train['week_day'] = date_.dt.weekday\n",
    "        train['month'] = date_.dt.month\n",
    "        train['year'] = date_.dt.year\n",
    "        train['mlbDebutDateflag'] = (train['mlbDebutDate'] == train['date']) * 1\n",
    "        train['sincemlbDebutDateflag'] = (train['date'] >= train['mlbDebutDate']) * 1\n",
    "        train['diffmlbDebutDateflag'] = (train['date'] - train['mlbDebutDate'])\n",
    "\n",
    "        # label encoding\n",
    "        player2num = {c: i for i, c in enumerate(train['playerId'].unique())}\n",
    "        position2num = {c: i for i, c in enumerate(train['primaryPositionName'].unique())}\n",
    "        birthCityn2num = {c: i for i, c in enumerate(train['birthCity'].unique())}\n",
    "        teamid2num = {c: i for i, c in enumerate(train['teamId'].unique())}\n",
    "        status2num = {c: i for i, c in enumerate(train['status'].unique())}\n",
    "        train['label_playerId'] = train['playerId'].map(player2num)\n",
    "        train['label_primaryPositionName'] = train['primaryPositionName'].map(position2num)\n",
    "        train['label_birthCity'] = train['birthCity'].map(birthCityn2num)\n",
    "        train['label_teamId'] = train['teamId'].map(teamid2num)\n",
    "        train['label_status'] = train['status'].map(status2num)\n",
    "\n",
    "        ## season_info\n",
    "        on_preseason_idxes = extract_season(train['date'], seasons[['preSeasonStartDate', 'preSeasonEndDate']])\n",
    "        on_season_idxes = extract_season(train['date'], seasons[['regularSeasonStartDate', 'regularSeasonEndDate']]) * 2\n",
    "        on_postseason_idxes = extract_season(train['date'], seasons[['postSeasonStartDate', 'postSeasonEndDate']]) * 3\n",
    "\n",
    "        special_days = seasons['lastDate1stHalf'].to_list() + seasons['allStarDate'].to_list() + seasons['firstDate2ndHalf'].to_list()\n",
    "        special_idxes = 0\n",
    "        for day in special_days:\n",
    "            special_idxes += (train['date'] == day) * 4\n",
    "\n",
    "        on_total_season_idxes = on_preseason_idxes\n",
    "        on_total_season_idxes[on_season_idxes==2] = 2\n",
    "        on_total_season_idxes[on_postseason_idxes==3] = 3\n",
    "        on_total_season_idxes[special_idxes==4] = 4\n",
    "\n",
    "        train['season_info'] = on_total_season_idxes\n",
    "\n",
    "        ## only on season\n",
    "        on_whole_idxes = extract_season(train['date'], seasons[['seasonStartDate', 'seasonEndDate']])\n",
    "        train = train[on_whole_idxes == 1].reset_index(drop=True)\n",
    "\n",
    "        # train = train.merge(playerTwitterFollowers, how='left', on=[\"playerId\", 'date'])\n",
    "\n",
    "        ## only test_player\n",
    "        train = train[train['playerForTestSetAndFuturePreds']==True].reset_index(drop=True)\n",
    "\n",
    "        print('done.')\n",
    "        \n",
    "        train_features_dict = {'players': players,\n",
    "                                'player_target_stats': player_target_stats,\n",
    "                                'team_target_stats': team_target_stats,\n",
    "                                'player2num': player2num, \n",
    "                                'position2num': position2num, \n",
    "                                'birthCityn2num': birthCityn2num,\n",
    "                                'teamid2num': teamid2num,\n",
    "                                'status2num': status2num,\n",
    "                                'feature_cols1': self.feature_cols1,\n",
    "                                'feature_cols2': self.feature_cols2,\n",
    "                                'feature_cols3': self.feature_cols3,\n",
    "                                'feature_cols4': self.feature_cols4\n",
    "                              }\n",
    "        \n",
    "        if self.usetimelinefeature:\n",
    "            ## game_info\n",
    "            train['gameday'] = ~train['battingOrder'].isna()*1\n",
    "            train.sort_values(by=['playerId','date'],inplace=True,ascending=True)\n",
    "\n",
    "            train=count_consecutive_items_n_cols(train,['playerId','gameday'],'daysSinceLastGame')\n",
    "            train.loc[train['gameday']==1,'daysSinceLastGame'] = 0\n",
    "\n",
    "            train_game = train[train['gameday']==1]\n",
    "            train_last_game = train_game[~train_game.duplicated(subset='playerId', keep='last')][['playerId', 'date']]\n",
    "            train_last_game.columns = ['playerId', 'lastdate']\n",
    "            train_player_unique = pd.DataFrame(train['playerId'].unique(), columns=['playerId'])\n",
    "            train_last_game = pd.merge(train_player_unique, train_last_game, on=['playerId'], how='left' )\n",
    "            train_last_game = train_last_game.fillna(20171231)\n",
    "            \n",
    "            train_features_dict['train_last_game'] = train_last_game\n",
    "            self.feature_cols1 += ['daysSinceLastGame']\n",
    "            self.feature_cols2 += ['daysSinceLastGame']\n",
    "            self.feature_cols3 += ['daysSinceLastGame']\n",
    "            self.feature_cols4 += ['daysSinceLastGame']\n",
    "            \n",
    "            \n",
    "            ## rosters_info\n",
    "            train['rosterday'] = ~train['status'].isna()*1\n",
    "            train.sort_values(by=['playerId','date'],inplace=True,ascending=True)\n",
    "\n",
    "            train=count_consecutive_items_n_cols(train,['playerId','rosterday'],'daysSinceLastRoster')\n",
    "            train.loc[train['rosterday']==1,'daysSinceLastRoster'] = 0\n",
    "\n",
    "            train_roster= train[train['rosterday']==1]\n",
    "            train_last_roster = train_roster[~train_roster.duplicated(subset='playerId', keep='last')][['playerId', 'date']]\n",
    "            train_last_roster.columns = ['playerId', 'lastroster']\n",
    "            train_player_unique = pd.DataFrame(train['playerId'].unique(), columns=['playerId'])\n",
    "            train_last_roster = pd.merge(train_player_unique, train_last_roster, on=['playerId'], how='left' )\n",
    "            train_last_roster = train_last_roster.fillna(20171231)\n",
    "            \n",
    "            train_features_dict['train_last_roster'] = train_last_roster\n",
    "            self.feature_cols1 += ['daysSinceLastRoster']\n",
    "            self.feature_cols2 += ['daysSinceLastRoster']\n",
    "            self.feature_cols3 += ['daysSinceLastRoster']\n",
    "            self.feature_cols4 += ['daysSinceLastRoster']\n",
    "\n",
    "\n",
    "        return train, train_features_dict\n",
    "    \n",
    "    def train_and_evaluate(self, train, isgamedayonly=False):\n",
    "        \n",
    "        if isgamedayonly:\n",
    "            train = train[train['gameday'] == 1].reset_index(drop=True)\n",
    "            \n",
    "        train_X = train\n",
    "        train_y = train[['target1', 'target2', 'target3', 'target4']]\n",
    "\n",
    "        oof = np.zeros(train_y.shape) - 1.0\n",
    "        y_valids = np.zeros(train_y.shape) - 1.0\n",
    "\n",
    "        tr_idx = (train['date'].astype(int) < 20210401)\n",
    "        val_idx = ~tr_idx\n",
    "\n",
    "        x_train = train_X.loc[tr_idx].reset_index(drop=True)\n",
    "        y_train = train_y.loc[tr_idx].reset_index(drop=True)\n",
    "        x_valid = train_X.loc[val_idx].reset_index(drop=True)\n",
    "        y_valid = train_y.loc[val_idx].reset_index(drop=True)\n",
    "\n",
    "        study1 = optuna.create_study(direction='maximize')\n",
    "        study1.optimize(fit_lgbm(x_train[self.feature_cols1], y_train['target1'], \n",
    "                                 x_valid[self.feature_cols1], y_valid['target1']), n_trials=100)\n",
    "        \n",
    "        study2 = optuna.create_study(direction='maximize')\n",
    "        study2.optimize(fit_lgbm(x_train[self.feature_cols2], y_train['target2'], \n",
    "                                 x_valid[self.feature_cols2], y_valid['target2']), n_trials=100)\n",
    "        \n",
    "        study3 = optuna.create_study(direction='maximize')\n",
    "        study3.optimize(fit_lgbm(x_train[self.feature_cols3], y_train['target3'], \n",
    "                                 x_valid[self.feature_cols3], y_valid['target3']), n_trials=100)\n",
    "        \n",
    "        study4 = optuna.create_study(direction='maximize')\n",
    "        study4.optimize(fit_lgbm(x_train[self.feature_cols4], y_train['target4'], \n",
    "                                 x_valid[self.feature_cols4], y_valid['target4']), n_trials=100)\n",
    "\n",
    "#         oof1, model1, score1 = fit_lgbm(\n",
    "#             x_train[self.feature_cols1], y_train['target1'],\n",
    "#             x_valid[self.feature_cols1], y_valid['target1'],\n",
    "# #             self.params1\n",
    "#         )\n",
    "#         oof2, model2, score2 = fit_lgbm(\n",
    "#             x_train[self.feature_cols2], y_train['target2'],\n",
    "#             x_valid[self.feature_cols2], y_valid['target2'],\n",
    "# #             self.params2\n",
    "#         )\n",
    "#         oof3, model3, score3 = fit_lgbm(\n",
    "#             x_train[self.feature_cols3], y_train['target3'],\n",
    "#             x_valid[self.feature_cols3], y_valid['target3'],\n",
    "# #             self.params3\n",
    "#         )\n",
    "#         oof4, model4, score4 = fit_lgbm(\n",
    "#             x_train[self.feature_cols4], y_train['target4'],\n",
    "#             x_valid[self.feature_cols4], y_valid['target4'],\n",
    "# #             self.params4\n",
    "#         )\n",
    "\n",
    "#         score = (score1+score2+score3+score4) / 4\n",
    "#         print(f'score: {score}')\n",
    "\n",
    "#         oof[val_idx, 0] = oof1\n",
    "#         oof[val_idx, 1] = oof2\n",
    "#         oof[val_idx, 2] = oof3\n",
    "#         oof[val_idx, 3] = oof4\n",
    "#         y_valids[val_idx, 0] = y_valid['target1'].values\n",
    "#         y_valids[val_idx, 1] = y_valid['target2'].values\n",
    "#         y_valids[val_idx, 2] = y_valid['target3'].values\n",
    "#         y_valids[val_idx, 3] = y_valid['target4'].values\n",
    "\n",
    "#         mae = mean_absolute_error(y_valids[val_idx, :], oof[val_idx, :])\n",
    "#         print(\"mae:\", mae)\n",
    "\n",
    "#         val_idx_num = val_idx[val_idx==True].index.to_list()\n",
    "\n",
    "#         oof_df = train[self.targets_cols]\n",
    "#         oof_df.iloc[val_idx_num, 1:5] = oof[val_idx_num, :]\n",
    "\n",
    "#         models = np.array([model1, model2, model3, model4])\n",
    "\n",
    "        return study1, study2, study3, study4\n",
    "            "
   ]
  },
  {
   "cell_type": "code",
   "execution_count": 17,
   "id": "32c906d5",
   "metadata": {},
   "outputs": [
    {
     "name": "stdout",
     "output_type": "stream",
     "text": [
      "calc target stat ... "
     ]
    },
    {
     "name": "stderr",
     "output_type": "stream",
     "text": [
      "100%|██████████| 2061/2061 [00:45<00:00, 45.12it/s]\n",
      "100%|██████████| 30/30 [00:00<00:00, 42.46it/s]\n"
     ]
    },
    {
     "name": "stdout",
     "output_type": "stream",
     "text": [
      "done.\n",
      "preprocess ... done.\n",
      "creat feature ... done.\n"
     ]
    }
   ],
   "source": [
    "rt4kaido_train = Rt4kaidoTrain(usetimelinefeature=True)\n",
    "train, train_features_dict = rt4kaido_train.make_feature(train_elements_dict)"
   ]
  },
  {
   "cell_type": "code",
   "execution_count": 18,
   "id": "685aca41",
   "metadata": {
    "collapsed": true,
    "jupyter": {
     "outputs_hidden": true
    }
   },
   "outputs": [
    {
     "name": "stderr",
     "output_type": "stream",
     "text": [
      "\u001b[32m[I 2021-07-18 15:51:27,101]\u001b[0m A new study created in memory with name: no-name-3c45e163-3b14-4eb4-938d-73b78eb66008\u001b[0m\n"
     ]
    },
    {
     "name": "stdout",
     "output_type": "stream",
     "text": [
      "[LightGBM] [Warning] feature_fraction is set=0.9799513504360726, colsample_bytree=0.9 will be ignored. Current value: feature_fraction=0.9799513504360726\n",
      "[LightGBM] [Warning] bagging_fraction is set=0.6832069489833392, subsample=0.6 will be ignored. Current value: bagging_fraction=0.6832069489833392\n",
      "[LightGBM] [Warning] bagging_freq is set=2, subsample_freq=0 will be ignored. Current value: bagging_freq=2\n",
      "Training until validation scores don't improve for 100 rounds\n",
      "[100]\ttraining's l1: 0.891911\tvalid_1's l1: 1.2236\n",
      "[200]\ttraining's l1: 0.891133\tvalid_1's l1: 1.22237\n",
      "[300]\ttraining's l1: 0.891129\tvalid_1's l1: 1.22237\n",
      "[400]\ttraining's l1: 0.891126\tvalid_1's l1: 1.22237\n",
      "[500]\ttraining's l1: 0.887146\tvalid_1's l1: 1.21481\n",
      "[600]\ttraining's l1: 0.885099\tvalid_1's l1: 1.21105\n",
      "[700]\ttraining's l1: 0.883507\tvalid_1's l1: 1.20827\n",
      "[800]\ttraining's l1: 0.88285\tvalid_1's l1: 1.20669\n",
      "[900]\ttraining's l1: 0.880264\tvalid_1's l1: 1.20035\n"
     ]
    },
    {
     "name": "stderr",
     "output_type": "stream",
     "text": [
      "\u001b[32m[I 2021-07-18 15:51:59,342]\u001b[0m Trial 0 finished with value: -1.2002791304146792 and parameters: {'max_depth': 17, 'min_child_weight': 9, 'subsample': 0.6, 'colsample_bytree': 0.9, 'reg_lambda': 26.422101105946066, 'reg_alpha': 0.029822905322017965, 'feature_fraction': 0.9799513504360726, 'bagging_fraction': 0.6832069489833392, 'bagging_freq': 2, 'num_leaves': 21, 'min_child_samples': 56}. Best is trial 0 with value: -1.2002791304146792.\u001b[0m\n"
     ]
    },
    {
     "name": "stdout",
     "output_type": "stream",
     "text": [
      "Early stopping, best iteration is:\n",
      "[824]\ttraining's l1: 0.880326\tvalid_1's l1: 1.20032\n",
      "[LightGBM] [Warning] feature_fraction is set=0.29985449619151255, colsample_bytree=0.7 will be ignored. Current value: feature_fraction=0.29985449619151255\n",
      "[LightGBM] [Warning] bagging_fraction is set=0.8676600442770488, subsample=0.8 will be ignored. Current value: bagging_fraction=0.8676600442770488\n",
      "[LightGBM] [Warning] bagging_freq is set=11, subsample_freq=0 will be ignored. Current value: bagging_freq=11\n",
      "Training until validation scores don't improve for 100 rounds\n",
      "[100]\ttraining's l1: 0.836087\tvalid_1's l1: 1.15726\n",
      "[200]\ttraining's l1: 0.822027\tvalid_1's l1: 1.15016\n"
     ]
    },
    {
     "name": "stderr",
     "output_type": "stream",
     "text": [
      "\u001b[32m[I 2021-07-18 15:52:11,824]\u001b[0m Trial 1 finished with value: -1.1495600977897178 and parameters: {'max_depth': 10, 'min_child_weight': 5, 'subsample': 0.8, 'colsample_bytree': 0.7, 'reg_lambda': 102.46953401877913, 'reg_alpha': 0.74655927543029, 'feature_fraction': 0.29985449619151255, 'bagging_fraction': 0.8676600442770488, 'bagging_freq': 11, 'num_leaves': 763, 'min_child_samples': 25}. Best is trial 1 with value: -1.1495600977897178.\u001b[0m\n"
     ]
    },
    {
     "name": "stdout",
     "output_type": "stream",
     "text": [
      "Early stopping, best iteration is:\n",
      "[167]\ttraining's l1: 0.82461\tvalid_1's l1: 1.14972\n",
      "[LightGBM] [Warning] feature_fraction is set=0.5405502331954197, colsample_bytree=0.7 will be ignored. Current value: feature_fraction=0.5405502331954197\n",
      "[LightGBM] [Warning] bagging_fraction is set=0.6770388741573135, subsample=0.7 will be ignored. Current value: bagging_fraction=0.6770388741573135\n",
      "[LightGBM] [Warning] bagging_freq is set=10, subsample_freq=0 will be ignored. Current value: bagging_freq=10\n",
      "Training until validation scores don't improve for 100 rounds\n",
      "[100]\ttraining's l1: 0.840979\tvalid_1's l1: 1.15958\n",
      "[200]\ttraining's l1: 0.835794\tvalid_1's l1: 1.15383\n",
      "[300]\ttraining's l1: 0.835311\tvalid_1's l1: 1.15319\n",
      "[400]\ttraining's l1: 0.834373\tvalid_1's l1: 1.15288\n",
      "[500]\ttraining's l1: 0.833871\tvalid_1's l1: 1.15285\n",
      "[600]\ttraining's l1: 0.830692\tvalid_1's l1: 1.14924\n",
      "[700]\ttraining's l1: 0.827706\tvalid_1's l1: 1.14705\n",
      "[800]\ttraining's l1: 0.825126\tvalid_1's l1: 1.14628\n",
      "[900]\ttraining's l1: 0.823863\tvalid_1's l1: 1.14606\n",
      "[1000]\ttraining's l1: 0.82244\tvalid_1's l1: 1.14586\n",
      "[1100]\ttraining's l1: 0.820441\tvalid_1's l1: 1.14572\n",
      "[1200]\ttraining's l1: 0.818911\tvalid_1's l1: 1.14582\n",
      "[1300]\ttraining's l1: 0.817317\tvalid_1's l1: 1.14459\n",
      "[1400]\ttraining's l1: 0.815618\tvalid_1's l1: 1.14448\n",
      "Early stopping, best iteration is:\n",
      "[1369]\ttraining's l1: 0.816394\tvalid_1's l1: 1.14435\n"
     ]
    },
    {
     "name": "stderr",
     "output_type": "stream",
     "text": [
      "\u001b[32m[I 2021-07-18 15:53:06,207]\u001b[0m Trial 2 finished with value: -1.1439728715903588 and parameters: {'max_depth': 9, 'min_child_weight': 10, 'subsample': 0.7, 'colsample_bytree': 0.7, 'reg_lambda': 0.004805312927229132, 'reg_alpha': 4.50056492987292, 'feature_fraction': 0.5405502331954197, 'bagging_fraction': 0.6770388741573135, 'bagging_freq': 10, 'num_leaves': 749, 'min_child_samples': 56}. Best is trial 2 with value: -1.1439728715903588.\u001b[0m\n"
     ]
    },
    {
     "name": "stdout",
     "output_type": "stream",
     "text": [
      "[LightGBM] [Warning] feature_fraction is set=0.5349763892561629, colsample_bytree=0.9 will be ignored. Current value: feature_fraction=0.5349763892561629\n",
      "[LightGBM] [Warning] bagging_fraction is set=0.28920754635102397, subsample=0.9 will be ignored. Current value: bagging_fraction=0.28920754635102397\n",
      "[LightGBM] [Warning] bagging_freq is set=8, subsample_freq=0 will be ignored. Current value: bagging_freq=8\n",
      "Training until validation scores don't improve for 100 rounds\n",
      "[100]\ttraining's l1: 0.908732\tvalid_1's l1: 1.24942\n",
      "[200]\ttraining's l1: 0.898457\tvalid_1's l1: 1.2276\n",
      "[300]\ttraining's l1: 0.895123\tvalid_1's l1: 1.22162\n",
      "[400]\ttraining's l1: 0.894179\tvalid_1's l1: 1.22079\n",
      "[500]\ttraining's l1: 0.892268\tvalid_1's l1: 1.21706\n",
      "[600]\ttraining's l1: 0.889854\tvalid_1's l1: 1.21414\n",
      "[700]\ttraining's l1: 0.888656\tvalid_1's l1: 1.21179\n",
      "[800]\ttraining's l1: 0.888655\tvalid_1's l1: 1.21179\n",
      "[900]\ttraining's l1: 0.888655\tvalid_1's l1: 1.21179\n",
      "[1000]\ttraining's l1: 0.88859\tvalid_1's l1: 1.21175\n",
      "[1100]\ttraining's l1: 0.888188\tvalid_1's l1: 1.21032\n",
      "[1200]\ttraining's l1: 0.888153\tvalid_1's l1: 1.21035\n"
     ]
    },
    {
     "name": "stderr",
     "output_type": "stream",
     "text": [
      "\u001b[32m[I 2021-07-18 15:53:23,562]\u001b[0m Trial 3 finished with value: -1.2099345227432239 and parameters: {'max_depth': 3, 'min_child_weight': 14, 'subsample': 0.9, 'colsample_bytree': 0.9, 'reg_lambda': 782.0154866641769, 'reg_alpha': 0.037288401936510514, 'feature_fraction': 0.5349763892561629, 'bagging_fraction': 0.28920754635102397, 'bagging_freq': 8, 'num_leaves': 509, 'min_child_samples': 29}. Best is trial 2 with value: -1.1439728715903588.\u001b[0m\n"
     ]
    },
    {
     "name": "stdout",
     "output_type": "stream",
     "text": [
      "Early stopping, best iteration is:\n",
      "[1126]\ttraining's l1: 0.888187\tvalid_1's l1: 1.21032\n",
      "[LightGBM] [Warning] feature_fraction is set=0.5813159953578211, colsample_bytree=0.6 will be ignored. Current value: feature_fraction=0.5813159953578211\n",
      "[LightGBM] [Warning] bagging_fraction is set=0.24919082275531307, subsample=0.8 will be ignored. Current value: bagging_fraction=0.24919082275531307\n",
      "[LightGBM] [Warning] bagging_freq is set=4, subsample_freq=0 will be ignored. Current value: bagging_freq=4\n",
      "Training until validation scores don't improve for 100 rounds\n",
      "[100]\ttraining's l1: 0.884572\tvalid_1's l1: 1.21042\n",
      "[200]\ttraining's l1: 0.872417\tvalid_1's l1: 1.18858\n",
      "[300]\ttraining's l1: 0.871312\tvalid_1's l1: 1.18686\n"
     ]
    },
    {
     "name": "stderr",
     "output_type": "stream",
     "text": [
      "\u001b[32m[I 2021-07-18 15:53:29,856]\u001b[0m Trial 4 finished with value: -1.1867152446018419 and parameters: {'max_depth': 4, 'min_child_weight': 16, 'subsample': 0.8, 'colsample_bytree': 0.6, 'reg_lambda': 19.707665248067098, 'reg_alpha': 0.012036427896019523, 'feature_fraction': 0.5813159953578211, 'bagging_fraction': 0.24919082275531307, 'bagging_freq': 4, 'num_leaves': 382, 'min_child_samples': 99}. Best is trial 2 with value: -1.1439728715903588.\u001b[0m\n"
     ]
    },
    {
     "name": "stdout",
     "output_type": "stream",
     "text": [
      "Early stopping, best iteration is:\n",
      "[226]\ttraining's l1: 0.871357\tvalid_1's l1: 1.18683\n",
      "[LightGBM] [Warning] feature_fraction is set=0.6860010002945798, colsample_bytree=0.9 will be ignored. Current value: feature_fraction=0.6860010002945798\n",
      "[LightGBM] [Warning] bagging_fraction is set=0.59319376086614, subsample=0.9 will be ignored. Current value: bagging_fraction=0.59319376086614\n",
      "[LightGBM] [Warning] bagging_freq is set=20, subsample_freq=0 will be ignored. Current value: bagging_freq=20\n",
      "Training until validation scores don't improve for 100 rounds\n",
      "[100]\ttraining's l1: 0.99974\tvalid_1's l1: 1.39271\n"
     ]
    },
    {
     "name": "stderr",
     "output_type": "stream",
     "text": [
      "\u001b[32m[I 2021-07-18 15:53:32,686]\u001b[0m Trial 5 finished with value: -1.392696549413239 and parameters: {'max_depth': 1, 'min_child_weight': 10, 'subsample': 0.9, 'colsample_bytree': 0.9, 'reg_lambda': 57.000475683950725, 'reg_alpha': 0.1656683396334985, 'feature_fraction': 0.6860010002945798, 'bagging_fraction': 0.59319376086614, 'bagging_freq': 20, 'num_leaves': 553, 'min_child_samples': 36}. Best is trial 2 with value: -1.1439728715903588.\u001b[0m\n"
     ]
    },
    {
     "name": "stdout",
     "output_type": "stream",
     "text": [
      "Early stopping, best iteration is:\n",
      "[22]\ttraining's l1: 0.999782\tvalid_1's l1: 1.3927\n",
      "[LightGBM] [Warning] feature_fraction is set=0.8718963452201305, colsample_bytree=0.6 will be ignored. Current value: feature_fraction=0.8718963452201305\n",
      "[LightGBM] [Warning] bagging_fraction is set=0.2401308908838753, subsample=0.6 will be ignored. Current value: bagging_fraction=0.2401308908838753\n",
      "[LightGBM] [Warning] bagging_freq is set=1, subsample_freq=0 will be ignored. Current value: bagging_freq=1\n",
      "Training until validation scores don't improve for 100 rounds\n",
      "[100]\ttraining's l1: 0.893614\tvalid_1's l1: 1.22506\n",
      "[200]\ttraining's l1: 0.893032\tvalid_1's l1: 1.2244\n",
      "[300]\ttraining's l1: 0.892244\tvalid_1's l1: 1.22264\n",
      "[400]\ttraining's l1: 0.890158\tvalid_1's l1: 1.21786\n",
      "[500]\ttraining's l1: 0.888113\tvalid_1's l1: 1.21405\n",
      "[600]\ttraining's l1: 0.885525\tvalid_1's l1: 1.20855\n",
      "[700]\ttraining's l1: 0.884259\tvalid_1's l1: 1.20519\n",
      "[800]\ttraining's l1: 0.881852\tvalid_1's l1: 1.20101\n",
      "[900]\ttraining's l1: 0.879119\tvalid_1's l1: 1.19542\n",
      "[1000]\ttraining's l1: 0.876211\tvalid_1's l1: 1.18867\n",
      "[1100]\ttraining's l1: 0.872281\tvalid_1's l1: 1.17981\n",
      "[1200]\ttraining's l1: 0.86779\tvalid_1's l1: 1.17229\n",
      "[1300]\ttraining's l1: 0.865377\tvalid_1's l1: 1.16891\n",
      "[1400]\ttraining's l1: 0.863445\tvalid_1's l1: 1.16653\n",
      "[1500]\ttraining's l1: 0.862575\tvalid_1's l1: 1.16584\n",
      "[1600]\ttraining's l1: 0.860991\tvalid_1's l1: 1.16388\n",
      "[1700]\ttraining's l1: 0.85918\tvalid_1's l1: 1.1616\n",
      "[1800]\ttraining's l1: 0.857726\tvalid_1's l1: 1.15891\n",
      "[1900]\ttraining's l1: 0.857104\tvalid_1's l1: 1.15737\n",
      "[2000]\ttraining's l1: 0.855885\tvalid_1's l1: 1.15595\n",
      "[2100]\ttraining's l1: 0.853896\tvalid_1's l1: 1.15324\n",
      "[2200]\ttraining's l1: 0.853371\tvalid_1's l1: 1.15309\n",
      "[2300]\ttraining's l1: 0.852392\tvalid_1's l1: 1.15218\n",
      "[2400]\ttraining's l1: 0.851314\tvalid_1's l1: 1.14987\n",
      "[2500]\ttraining's l1: 0.850697\tvalid_1's l1: 1.14978\n",
      "[2600]\ttraining's l1: 0.849089\tvalid_1's l1: 1.14831\n",
      "[2700]\ttraining's l1: 0.848659\tvalid_1's l1: 1.14797\n",
      "[2800]\ttraining's l1: 0.84762\tvalid_1's l1: 1.14757\n",
      "Early stopping, best iteration is:\n",
      "[2734]\ttraining's l1: 0.847814\tvalid_1's l1: 1.14728\n"
     ]
    },
    {
     "name": "stderr",
     "output_type": "stream",
     "text": [
      "\u001b[32m[I 2021-07-18 15:54:28,028]\u001b[0m Trial 6 finished with value: -1.1469914501125487 and parameters: {'max_depth': 19, 'min_child_weight': 5, 'subsample': 0.6, 'colsample_bytree': 0.6, 'reg_lambda': 0.04879293365266893, 'reg_alpha': 0.0039691122815293635, 'feature_fraction': 0.8718963452201305, 'bagging_fraction': 0.2401308908838753, 'bagging_freq': 1, 'num_leaves': 18, 'min_child_samples': 26}. Best is trial 2 with value: -1.1439728715903588.\u001b[0m\n"
     ]
    },
    {
     "name": "stdout",
     "output_type": "stream",
     "text": [
      "[LightGBM] [Warning] feature_fraction is set=0.42473382924239095, colsample_bytree=0.6 will be ignored. Current value: feature_fraction=0.42473382924239095\n",
      "[LightGBM] [Warning] bagging_fraction is set=0.6898097932594647, subsample=0.5 will be ignored. Current value: bagging_fraction=0.6898097932594647\n",
      "[LightGBM] [Warning] bagging_freq is set=11, subsample_freq=0 will be ignored. Current value: bagging_freq=11\n",
      "Training until validation scores don't improve for 100 rounds\n",
      "[100]\ttraining's l1: 0.83679\tvalid_1's l1: 1.15821\n",
      "[200]\ttraining's l1: 0.818063\tvalid_1's l1: 1.14904\n"
     ]
    },
    {
     "name": "stderr",
     "output_type": "stream",
     "text": [
      "\u001b[32m[I 2021-07-18 15:54:42,865]\u001b[0m Trial 7 finished with value: -1.1482935147893185 and parameters: {'max_depth': 11, 'min_child_weight': 10, 'subsample': 0.5, 'colsample_bytree': 0.6, 'reg_lambda': 170.49703971133525, 'reg_alpha': 0.17794622739875698, 'feature_fraction': 0.42473382924239095, 'bagging_fraction': 0.6898097932594647, 'bagging_freq': 11, 'num_leaves': 984, 'min_child_samples': 18}. Best is trial 2 with value: -1.1439728715903588.\u001b[0m\n"
     ]
    },
    {
     "name": "stdout",
     "output_type": "stream",
     "text": [
      "Early stopping, best iteration is:\n",
      "[178]\ttraining's l1: 0.819148\tvalid_1's l1: 1.14852\n",
      "[LightGBM] [Warning] feature_fraction is set=0.7274786450767672, colsample_bytree=0.5 will be ignored. Current value: feature_fraction=0.7274786450767672\n",
      "[LightGBM] [Warning] bagging_fraction is set=0.9518143976190778, subsample=0.9 will be ignored. Current value: bagging_fraction=0.9518143976190778\n",
      "[LightGBM] [Warning] bagging_freq is set=9, subsample_freq=0 will be ignored. Current value: bagging_freq=9\n",
      "Training until validation scores don't improve for 100 rounds\n",
      "[100]\ttraining's l1: 0.867282\tvalid_1's l1: 1.18594\n",
      "[200]\ttraining's l1: 0.866465\tvalid_1's l1: 1.18451\n",
      "[300]\ttraining's l1: 0.865355\tvalid_1's l1: 1.18204\n",
      "[400]\ttraining's l1: 0.862688\tvalid_1's l1: 1.17703\n",
      "[500]\ttraining's l1: 0.861376\tvalid_1's l1: 1.17519\n",
      "[600]\ttraining's l1: 0.858529\tvalid_1's l1: 1.17038\n",
      "[700]\ttraining's l1: 0.857211\tvalid_1's l1: 1.16718\n",
      "[800]\ttraining's l1: 0.85578\tvalid_1's l1: 1.16529\n",
      "[900]\ttraining's l1: 0.852758\tvalid_1's l1: 1.16277\n",
      "[1000]\ttraining's l1: 0.850361\tvalid_1's l1: 1.1602\n",
      "[1100]\ttraining's l1: 0.848122\tvalid_1's l1: 1.15753\n",
      "[1200]\ttraining's l1: 0.846108\tvalid_1's l1: 1.15615\n",
      "[1300]\ttraining's l1: 0.845102\tvalid_1's l1: 1.15559\n",
      "[1400]\ttraining's l1: 0.844446\tvalid_1's l1: 1.15547\n",
      "Early stopping, best iteration is:\n",
      "[1397]\ttraining's l1: 0.84446\tvalid_1's l1: 1.15543\n"
     ]
    },
    {
     "name": "stderr",
     "output_type": "stream",
     "text": [
      "\u001b[32m[I 2021-07-18 15:55:35,293]\u001b[0m Trial 8 finished with value: -1.1552498351790776 and parameters: {'max_depth': 11, 'min_child_weight': 3, 'subsample': 0.9, 'colsample_bytree': 0.5, 'reg_lambda': 44.36078440471488, 'reg_alpha': 57.90115737223406, 'feature_fraction': 0.7274786450767672, 'bagging_fraction': 0.9518143976190778, 'bagging_freq': 9, 'num_leaves': 85, 'min_child_samples': 89}. Best is trial 2 with value: -1.1439728715903588.\u001b[0m\n"
     ]
    },
    {
     "name": "stdout",
     "output_type": "stream",
     "text": [
      "[LightGBM] [Warning] feature_fraction is set=0.5429463631344305, colsample_bytree=0.8 will be ignored. Current value: feature_fraction=0.5429463631344305\n",
      "[LightGBM] [Warning] bagging_fraction is set=0.6630197283272294, subsample=0.5 will be ignored. Current value: bagging_fraction=0.6630197283272294\n",
      "[LightGBM] [Warning] bagging_freq is set=1, subsample_freq=0 will be ignored. Current value: bagging_freq=1\n",
      "Training until validation scores don't improve for 100 rounds\n",
      "[100]\ttraining's l1: 0.853375\tvalid_1's l1: 1.16985\n",
      "[200]\ttraining's l1: 0.847816\tvalid_1's l1: 1.16176\n",
      "[300]\ttraining's l1: 0.847649\tvalid_1's l1: 1.16134\n"
     ]
    },
    {
     "name": "stderr",
     "output_type": "stream",
     "text": [
      "\u001b[32m[I 2021-07-18 15:55:47,813]\u001b[0m Trial 9 finished with value: -1.1612113746045418 and parameters: {'max_depth': 8, 'min_child_weight': 6, 'subsample': 0.5, 'colsample_bytree': 0.8, 'reg_lambda': 182.99119366512718, 'reg_alpha': 3.427810292300544, 'feature_fraction': 0.5429463631344305, 'bagging_fraction': 0.6630197283272294, 'bagging_freq': 1, 'num_leaves': 221, 'min_child_samples': 50}. Best is trial 2 with value: -1.1439728715903588.\u001b[0m\n"
     ]
    },
    {
     "name": "stdout",
     "output_type": "stream",
     "text": [
      "Early stopping, best iteration is:\n",
      "[223]\ttraining's l1: 0.847668\tvalid_1's l1: 1.16132\n",
      "[LightGBM] [Warning] feature_fraction is set=0.23221910866548817, colsample_bytree=0.7 will be ignored. Current value: feature_fraction=0.23221910866548817\n",
      "[LightGBM] [Warning] bagging_fraction is set=0.46992681767778816, subsample=0.7 will be ignored. Current value: bagging_fraction=0.46992681767778816\n",
      "[LightGBM] [Warning] bagging_freq is set=18, subsample_freq=0 will be ignored. Current value: bagging_freq=18\n",
      "Training until validation scores don't improve for 100 rounds\n",
      "[100]\ttraining's l1: 0.887633\tvalid_1's l1: 1.21216\n",
      "[200]\ttraining's l1: 0.884436\tvalid_1's l1: 1.20409\n",
      "[300]\ttraining's l1: 0.882685\tvalid_1's l1: 1.20068\n",
      "[400]\ttraining's l1: 0.880669\tvalid_1's l1: 1.19701\n",
      "[500]\ttraining's l1: 0.878411\tvalid_1's l1: 1.19121\n",
      "[600]\ttraining's l1: 0.877879\tvalid_1's l1: 1.19114\n",
      "[700]\ttraining's l1: 0.87715\tvalid_1's l1: 1.18917\n",
      "[800]\ttraining's l1: 0.876631\tvalid_1's l1: 1.18883\n",
      "[900]\ttraining's l1: 0.876052\tvalid_1's l1: 1.18776\n",
      "[1000]\ttraining's l1: 0.87558\tvalid_1's l1: 1.18669\n",
      "[1100]\ttraining's l1: 0.875166\tvalid_1's l1: 1.18599\n",
      "Early stopping, best iteration is:\n",
      "[1079]\ttraining's l1: 0.875189\tvalid_1's l1: 1.18594\n"
     ]
    },
    {
     "name": "stderr",
     "output_type": "stream",
     "text": [
      "\u001b[32m[I 2021-07-18 15:56:08,152]\u001b[0m Trial 10 finished with value: -1.1854102431784954 and parameters: {'max_depth': 15, 'min_child_weight': 20, 'subsample': 0.7, 'colsample_bytree': 0.7, 'reg_lambda': 0.0017700600726433292, 'reg_alpha': 872.9779303103045, 'feature_fraction': 0.23221910866548817, 'bagging_fraction': 0.46992681767778816, 'bagging_freq': 18, 'num_leaves': 975, 'min_child_samples': 74}. Best is trial 2 with value: -1.1439728715903588.\u001b[0m\n"
     ]
    },
    {
     "name": "stdout",
     "output_type": "stream",
     "text": [
      "[LightGBM] [Warning] feature_fraction is set=0.9607652721659012, colsample_bytree=0.6 will be ignored. Current value: feature_fraction=0.9607652721659012\n",
      "[LightGBM] [Warning] bagging_fraction is set=0.4531491342668319, subsample=0.6 will be ignored. Current value: bagging_fraction=0.4531491342668319\n",
      "[LightGBM] [Warning] bagging_freq is set=15, subsample_freq=0 will be ignored. Current value: bagging_freq=15\n",
      "Training until validation scores don't improve for 100 rounds\n",
      "[100]\ttraining's l1: 0.815512\tvalid_1's l1: 1.14065\n",
      "[200]\ttraining's l1: 0.801242\tvalid_1's l1: 1.14031\n"
     ]
    },
    {
     "name": "stderr",
     "output_type": "stream",
     "text": [
      "\u001b[32m[I 2021-07-18 15:56:26,992]\u001b[0m Trial 11 finished with value: -1.1388963981358795 and parameters: {'max_depth': 20, 'min_child_weight': 2, 'subsample': 0.6, 'colsample_bytree': 0.6, 'reg_lambda': 0.009722302123669129, 'reg_alpha': 0.0018035109586817292, 'feature_fraction': 0.9607652721659012, 'bagging_fraction': 0.4531491342668319, 'bagging_freq': 15, 'num_leaves': 770, 'min_child_samples': 5}. Best is trial 11 with value: -1.1388963981358795.\u001b[0m\n"
     ]
    },
    {
     "name": "stdout",
     "output_type": "stream",
     "text": [
      "Early stopping, best iteration is:\n",
      "[130]\ttraining's l1: 0.809215\tvalid_1's l1: 1.13928\n",
      "[LightGBM] [Warning] feature_fraction is set=0.8028633144577538, colsample_bytree=0.5 will be ignored. Current value: feature_fraction=0.8028633144577538\n",
      "[LightGBM] [Warning] bagging_fraction is set=0.46058405899373367, subsample=0.7 will be ignored. Current value: bagging_fraction=0.46058405899373367\n",
      "[LightGBM] [Warning] bagging_freq is set=15, subsample_freq=0 will be ignored. Current value: bagging_freq=15\n",
      "Training until validation scores don't improve for 100 rounds\n",
      "[100]\ttraining's l1: 0.864707\tvalid_1's l1: 1.1853\n",
      "[200]\ttraining's l1: 0.855799\tvalid_1's l1: 1.17325\n",
      "[300]\ttraining's l1: 0.850777\tvalid_1's l1: 1.16703\n",
      "[400]\ttraining's l1: 0.847786\tvalid_1's l1: 1.16249\n"
     ]
    },
    {
     "name": "stderr",
     "output_type": "stream",
     "text": [
      "\u001b[32m[I 2021-07-18 15:56:36,670]\u001b[0m Trial 12 finished with value: -1.1622480641027626 and parameters: {'max_depth': 6, 'min_child_weight': 1, 'subsample': 0.7, 'colsample_bytree': 0.5, 'reg_lambda': 0.0016713923857479616, 'reg_alpha': 16.614888718575276, 'feature_fraction': 0.8028633144577538, 'bagging_fraction': 0.46058405899373367, 'bagging_freq': 15, 'num_leaves': 751, 'min_child_samples': 8}. Best is trial 11 with value: -1.1388963981358795.\u001b[0m\n"
     ]
    },
    {
     "name": "stdout",
     "output_type": "stream",
     "text": [
      "Early stopping, best iteration is:\n",
      "[364]\ttraining's l1: 0.847796\tvalid_1's l1: 1.16247\n",
      "[LightGBM] [Warning] feature_fraction is set=0.3768095198302812, colsample_bytree=0.8 will be ignored. Current value: feature_fraction=0.3768095198302812\n",
      "[LightGBM] [Warning] bagging_fraction is set=0.4428909085071655, subsample=0.6 will be ignored. Current value: bagging_fraction=0.4428909085071655\n",
      "[LightGBM] [Warning] bagging_freq is set=15, subsample_freq=0 will be ignored. Current value: bagging_freq=15\n",
      "Training until validation scores don't improve for 100 rounds\n",
      "[100]\ttraining's l1: 0.8248\tvalid_1's l1: 1.15122\n",
      "[200]\ttraining's l1: 0.815805\tvalid_1's l1: 1.15058\n"
     ]
    },
    {
     "name": "stderr",
     "output_type": "stream",
     "text": [
      "\u001b[32m[I 2021-07-18 15:56:49,896]\u001b[0m Trial 13 finished with value: -1.1497746658486336 and parameters: {'max_depth': 14, 'min_child_weight': 16, 'subsample': 0.6, 'colsample_bytree': 0.8, 'reg_lambda': 0.023758305951104737, 'reg_alpha': 0.0011714307408442594, 'feature_fraction': 0.3768095198302812, 'bagging_fraction': 0.4428909085071655, 'bagging_freq': 15, 'num_leaves': 782, 'min_child_samples': 67}. Best is trial 11 with value: -1.1388963981358795.\u001b[0m\n"
     ]
    },
    {
     "name": "stdout",
     "output_type": "stream",
     "text": [
      "Early stopping, best iteration is:\n",
      "[141]\ttraining's l1: 0.820506\tvalid_1's l1: 1.15003\n",
      "[LightGBM] [Warning] feature_fraction is set=0.9788598233990052, colsample_bytree=0.6 will be ignored. Current value: feature_fraction=0.9788598233990052\n",
      "[LightGBM] [Warning] bagging_fraction is set=0.5346759118180707, subsample=0.6 will be ignored. Current value: bagging_fraction=0.5346759118180707\n",
      "[LightGBM] [Warning] bagging_freq is set=14, subsample_freq=0 will be ignored. Current value: bagging_freq=14\n",
      "Training until validation scores don't improve for 100 rounds\n",
      "[100]\ttraining's l1: 0.838832\tvalid_1's l1: 1.15576\n",
      "[200]\ttraining's l1: 0.833128\tvalid_1's l1: 1.15176\n",
      "[300]\ttraining's l1: 0.829931\tvalid_1's l1: 1.1492\n",
      "[400]\ttraining's l1: 0.828191\tvalid_1's l1: 1.14828\n",
      "[500]\ttraining's l1: 0.826757\tvalid_1's l1: 1.14844\n",
      "Early stopping, best iteration is:\n",
      "[406]\ttraining's l1: 0.828119\tvalid_1's l1: 1.14811\n"
     ]
    },
    {
     "name": "stderr",
     "output_type": "stream",
     "text": [
      "\u001b[32m[I 2021-07-18 15:57:23,315]\u001b[0m Trial 14 finished with value: -1.1478188145682706 and parameters: {'max_depth': 20, 'min_child_weight': 1, 'subsample': 0.6, 'colsample_bytree': 0.6, 'reg_lambda': 0.035543324808100366, 'reg_alpha': 73.96128170373183, 'feature_fraction': 0.9788598233990052, 'bagging_fraction': 0.5346759118180707, 'bagging_freq': 14, 'num_leaves': 663, 'min_child_samples': 47}. Best is trial 11 with value: -1.1388963981358795.\u001b[0m\n"
     ]
    },
    {
     "name": "stdout",
     "output_type": "stream",
     "text": [
      "[LightGBM] [Warning] feature_fraction is set=0.4756320516949819, colsample_bytree=0.7 will be ignored. Current value: feature_fraction=0.4756320516949819\n",
      "[LightGBM] [Warning] bagging_fraction is set=0.796209464755294, subsample=0.7 will be ignored. Current value: bagging_fraction=0.796209464755294\n",
      "[LightGBM] [Warning] bagging_freq is set=6, subsample_freq=0 will be ignored. Current value: bagging_freq=6\n",
      "Training until validation scores don't improve for 100 rounds\n",
      "[100]\ttraining's l1: 0.81795\tvalid_1's l1: 1.14496\n",
      "[200]\ttraining's l1: 0.807289\tvalid_1's l1: 1.14311\n",
      "Early stopping, best iteration is:\n",
      "[168]\ttraining's l1: 0.810276\tvalid_1's l1: 1.14292\n"
     ]
    },
    {
     "name": "stderr",
     "output_type": "stream",
     "text": [
      "\u001b[32m[I 2021-07-18 15:57:44,762]\u001b[0m Trial 15 finished with value: -1.1427430415444875 and parameters: {'max_depth': 14, 'min_child_weight': 20, 'subsample': 0.7, 'colsample_bytree': 0.7, 'reg_lambda': 0.8191431941790444, 'reg_alpha': 3.1397379374914363, 'feature_fraction': 0.4756320516949819, 'bagging_fraction': 0.796209464755294, 'bagging_freq': 6, 'num_leaves': 824, 'min_child_samples': 70}. Best is trial 11 with value: -1.1388963981358795.\u001b[0m\n"
     ]
    },
    {
     "name": "stdout",
     "output_type": "stream",
     "text": [
      "[LightGBM] [Warning] feature_fraction is set=0.4001258539222464, colsample_bytree=0.8 will be ignored. Current value: feature_fraction=0.4001258539222464\n",
      "[LightGBM] [Warning] bagging_fraction is set=0.79258086254056, subsample=0.8 will be ignored. Current value: bagging_fraction=0.79258086254056\n",
      "[LightGBM] [Warning] bagging_freq is set=6, subsample_freq=0 will be ignored. Current value: bagging_freq=6\n",
      "Training until validation scores don't improve for 100 rounds\n",
      "[100]\ttraining's l1: 0.819638\tvalid_1's l1: 1.14949\n",
      "[200]\ttraining's l1: 0.806996\tvalid_1's l1: 1.14706\n",
      "[300]\ttraining's l1: 0.802627\tvalid_1's l1: 1.14629\n",
      "[400]\ttraining's l1: 0.79997\tvalid_1's l1: 1.14603\n",
      "[500]\ttraining's l1: 0.792078\tvalid_1's l1: 1.14569\n",
      "Early stopping, best iteration is:\n",
      "[459]\ttraining's l1: 0.796209\tvalid_1's l1: 1.1453\n"
     ]
    },
    {
     "name": "stderr",
     "output_type": "stream",
     "text": [
      "\u001b[32m[I 2021-07-18 15:58:24,224]\u001b[0m Trial 16 finished with value: -1.1448650820208128 and parameters: {'max_depth': 15, 'min_child_weight': 20, 'subsample': 0.8, 'colsample_bytree': 0.8, 'reg_lambda': 1.2280398279631972, 'reg_alpha': 0.33326317889491763, 'feature_fraction': 0.4001258539222464, 'bagging_fraction': 0.79258086254056, 'bagging_freq': 6, 'num_leaves': 897, 'min_child_samples': 76}. Best is trial 11 with value: -1.1388963981358795.\u001b[0m\n"
     ]
    },
    {
     "name": "stdout",
     "output_type": "stream",
     "text": [
      "[LightGBM] [Warning] feature_fraction is set=0.7030451925757909, colsample_bytree=0.5 will be ignored. Current value: feature_fraction=0.7030451925757909\n",
      "[LightGBM] [Warning] bagging_fraction is set=0.3353069148016553, subsample=0.5 will be ignored. Current value: bagging_fraction=0.3353069148016553\n",
      "[LightGBM] [Warning] bagging_freq is set=6, subsample_freq=0 will be ignored. Current value: bagging_freq=6\n",
      "Training until validation scores don't improve for 100 rounds\n",
      "[100]\ttraining's l1: 0.87026\tvalid_1's l1: 1.18355\n",
      "[200]\ttraining's l1: 0.864116\tvalid_1's l1: 1.1699\n",
      "[300]\ttraining's l1: 0.861913\tvalid_1's l1: 1.16491\n",
      "[400]\ttraining's l1: 0.859913\tvalid_1's l1: 1.16172\n",
      "[500]\ttraining's l1: 0.858778\tvalid_1's l1: 1.16119\n",
      "[600]\ttraining's l1: 0.85793\tvalid_1's l1: 1.15892\n",
      "[700]\ttraining's l1: 0.857491\tvalid_1's l1: 1.15838\n",
      "Early stopping, best iteration is:\n",
      "[635]\ttraining's l1: 0.857713\tvalid_1's l1: 1.15814\n"
     ]
    },
    {
     "name": "stderr",
     "output_type": "stream",
     "text": [
      "\u001b[32m[I 2021-07-18 15:58:40,918]\u001b[0m Trial 17 finished with value: -1.1578527717471963 and parameters: {'max_depth': 18, 'min_child_weight': 14, 'subsample': 0.5, 'colsample_bytree': 0.5, 'reg_lambda': 0.7243640907491025, 'reg_alpha': 286.78772777956254, 'feature_fraction': 0.7030451925757909, 'bagging_fraction': 0.3353069148016553, 'bagging_freq': 6, 'num_leaves': 868, 'min_child_samples': 84}. Best is trial 11 with value: -1.1388963981358795.\u001b[0m\n"
     ]
    },
    {
     "name": "stdout",
     "output_type": "stream",
     "text": [
      "[LightGBM] [Warning] feature_fraction is set=0.4724497941598734, colsample_bytree=0.6 will be ignored. Current value: feature_fraction=0.4724497941598734\n",
      "[LightGBM] [Warning] bagging_fraction is set=0.8373222209527107, subsample=0.6 will be ignored. Current value: bagging_fraction=0.8373222209527107\n",
      "[LightGBM] [Warning] bagging_freq is set=13, subsample_freq=0 will be ignored. Current value: bagging_freq=13\n",
      "Training until validation scores don't improve for 100 rounds\n",
      "[100]\ttraining's l1: 0.827263\tvalid_1's l1: 1.1468\n",
      "[200]\ttraining's l1: 0.815801\tvalid_1's l1: 1.14306\n",
      "[300]\ttraining's l1: 0.814182\tvalid_1's l1: 1.14318\n",
      "Early stopping, best iteration is:\n",
      "[202]\ttraining's l1: 0.815711\tvalid_1's l1: 1.14297\n"
     ]
    },
    {
     "name": "stderr",
     "output_type": "stream",
     "text": [
      "\u001b[32m[I 2021-07-18 15:59:00,627]\u001b[0m Trial 18 finished with value: -1.1428354661277935 and parameters: {'max_depth': 13, 'min_child_weight': 7, 'subsample': 0.6, 'colsample_bytree': 0.6, 'reg_lambda': 0.7902707933420479, 'reg_alpha': 2.918564119538066, 'feature_fraction': 0.4724497941598734, 'bagging_fraction': 0.8373222209527107, 'bagging_freq': 13, 'num_leaves': 619, 'min_child_samples': 99}. Best is trial 11 with value: -1.1388963981358795.\u001b[0m\n"
     ]
    },
    {
     "name": "stdout",
     "output_type": "stream",
     "text": [
      "[LightGBM] [Warning] feature_fraction is set=0.8855218464290833, colsample_bytree=0.7 will be ignored. Current value: feature_fraction=0.8855218464290833\n",
      "[LightGBM] [Warning] bagging_fraction is set=0.9936452785607675, subsample=0.7 will be ignored. Current value: bagging_fraction=0.9936452785607675\n",
      "[LightGBM] [Warning] bagging_freq is set=17, subsample_freq=0 will be ignored. Current value: bagging_freq=17\n",
      "Training until validation scores don't improve for 100 rounds\n",
      "[100]\ttraining's l1: 0.839702\tvalid_1's l1: 1.15505\n",
      "[200]\ttraining's l1: 0.838851\tvalid_1's l1: 1.15428\n"
     ]
    },
    {
     "name": "stderr",
     "output_type": "stream",
     "text": [
      "\u001b[32m[I 2021-07-18 15:59:17,461]\u001b[0m Trial 19 finished with value: -1.1542160028160444 and parameters: {'max_depth': 17, 'min_child_weight': 18, 'subsample': 0.7, 'colsample_bytree': 0.7, 'reg_lambda': 4.41433747288373, 'reg_alpha': 0.0015554754736336498, 'feature_fraction': 0.8855218464290833, 'bagging_fraction': 0.9936452785607675, 'bagging_freq': 17, 'num_leaves': 405, 'min_child_samples': 5}. Best is trial 11 with value: -1.1388963981358795.\u001b[0m\n"
     ]
    },
    {
     "name": "stdout",
     "output_type": "stream",
     "text": [
      "Early stopping, best iteration is:\n",
      "[171]\ttraining's l1: 0.838862\tvalid_1's l1: 1.15426\n",
      "[LightGBM] [Warning] feature_fraction is set=0.6387486287822477, colsample_bytree=0.8 will be ignored. Current value: feature_fraction=0.6387486287822477\n",
      "[LightGBM] [Warning] bagging_fraction is set=0.7768965309177931, subsample=0.8 will be ignored. Current value: bagging_fraction=0.7768965309177931\n",
      "[LightGBM] [Warning] bagging_freq is set=7, subsample_freq=0 will be ignored. Current value: bagging_freq=7\n",
      "Training until validation scores don't improve for 100 rounds\n",
      "[100]\ttraining's l1: 0.817\tvalid_1's l1: 1.14522\n",
      "[200]\ttraining's l1: 0.808263\tvalid_1's l1: 1.14448\n",
      "Early stopping, best iteration is:\n",
      "[163]\ttraining's l1: 0.810706\tvalid_1's l1: 1.14403\n"
     ]
    },
    {
     "name": "stderr",
     "output_type": "stream",
     "text": [
      "\u001b[32m[I 2021-07-18 15:59:45,661]\u001b[0m Trial 20 finished with value: -1.143795417608535 and parameters: {'max_depth': 20, 'min_child_weight': 3, 'subsample': 0.8, 'colsample_bytree': 0.8, 'reg_lambda': 0.13218053372158983, 'reg_alpha': 11.540734785835117, 'feature_fraction': 0.6387486287822477, 'bagging_fraction': 0.7768965309177931, 'bagging_freq': 7, 'num_leaves': 896, 'min_child_samples': 42}. Best is trial 11 with value: -1.1388963981358795.\u001b[0m\n"
     ]
    },
    {
     "name": "stdout",
     "output_type": "stream",
     "text": [
      "[LightGBM] [Warning] feature_fraction is set=0.4888550527905323, colsample_bytree=0.6 will be ignored. Current value: feature_fraction=0.4888550527905323\n",
      "[LightGBM] [Warning] bagging_fraction is set=0.8597314888670633, subsample=0.6 will be ignored. Current value: bagging_fraction=0.8597314888670633\n",
      "[LightGBM] [Warning] bagging_freq is set=13, subsample_freq=0 will be ignored. Current value: bagging_freq=13\n",
      "Training until validation scores don't improve for 100 rounds\n",
      "[100]\ttraining's l1: 0.826114\tvalid_1's l1: 1.14914\n",
      "[200]\ttraining's l1: 0.816624\tvalid_1's l1: 1.14639\n",
      "[300]\ttraining's l1: 0.814307\tvalid_1's l1: 1.14626\n",
      "Early stopping, best iteration is:\n",
      "[213]\ttraining's l1: 0.816018\tvalid_1's l1: 1.14605\n"
     ]
    },
    {
     "name": "stderr",
     "output_type": "stream",
     "text": [
      "\u001b[32m[I 2021-07-18 16:00:07,224]\u001b[0m Trial 21 finished with value: -1.145879746232981 and parameters: {'max_depth': 13, 'min_child_weight': 7, 'subsample': 0.6, 'colsample_bytree': 0.6, 'reg_lambda': 0.28595914466827027, 'reg_alpha': 1.64691322043339, 'feature_fraction': 0.4888550527905323, 'bagging_fraction': 0.8597314888670633, 'bagging_freq': 13, 'num_leaves': 632, 'min_child_samples': 97}. Best is trial 11 with value: -1.1388963981358795.\u001b[0m\n"
     ]
    },
    {
     "name": "stdout",
     "output_type": "stream",
     "text": [
      "[LightGBM] [Warning] feature_fraction is set=0.32897123730546146, colsample_bytree=0.6 will be ignored. Current value: feature_fraction=0.32897123730546146\n",
      "[LightGBM] [Warning] bagging_fraction is set=0.8967466863744631, subsample=0.6 will be ignored. Current value: bagging_fraction=0.8967466863744631\n",
      "[LightGBM] [Warning] bagging_freq is set=12, subsample_freq=0 will be ignored. Current value: bagging_freq=12\n",
      "Training until validation scores don't improve for 100 rounds\n",
      "[100]\ttraining's l1: 0.825817\tvalid_1's l1: 1.14914\n",
      "[200]\ttraining's l1: 0.815304\tvalid_1's l1: 1.14486\n"
     ]
    },
    {
     "name": "stderr",
     "output_type": "stream",
     "text": [
      "\u001b[32m[I 2021-07-18 16:00:23,806]\u001b[0m Trial 22 finished with value: -1.1444007933387104 and parameters: {'max_depth': 13, 'min_child_weight': 8, 'subsample': 0.6, 'colsample_bytree': 0.6, 'reg_lambda': 2.448602384624321, 'reg_alpha': 12.43790950283641, 'feature_fraction': 0.32897123730546146, 'bagging_fraction': 0.8967466863744631, 'bagging_freq': 12, 'num_leaves': 640, 'min_child_samples': 65}. Best is trial 11 with value: -1.1388963981358795.\u001b[0m\n"
     ]
    },
    {
     "name": "stdout",
     "output_type": "stream",
     "text": [
      "Early stopping, best iteration is:\n",
      "[169]\ttraining's l1: 0.817218\tvalid_1's l1: 1.14457\n",
      "[LightGBM] [Warning] feature_fraction is set=0.4671758401176933, colsample_bytree=0.7 will be ignored. Current value: feature_fraction=0.4671758401176933\n",
      "[LightGBM] [Warning] bagging_fraction is set=0.7829617909983163, subsample=0.7 will be ignored. Current value: bagging_fraction=0.7829617909983163\n",
      "[LightGBM] [Warning] bagging_freq is set=17, subsample_freq=0 will be ignored. Current value: bagging_freq=17\n",
      "Training until validation scores don't improve for 100 rounds\n",
      "[100]\ttraining's l1: 0.825864\tvalid_1's l1: 1.14853\n",
      "[200]\ttraining's l1: 0.815483\tvalid_1's l1: 1.14537\n",
      "Early stopping, best iteration is:\n",
      "[187]\ttraining's l1: 0.81628\tvalid_1's l1: 1.14516\n"
     ]
    },
    {
     "name": "stderr",
     "output_type": "stream",
     "text": [
      "\u001b[32m[I 2021-07-18 16:00:44,660]\u001b[0m Trial 23 finished with value: -1.1449460735868797 and parameters: {'max_depth': 16, 'min_child_weight': 12, 'subsample': 0.7, 'colsample_bytree': 0.7, 'reg_lambda': 9.541762672325406, 'reg_alpha': 0.7776038390544081, 'feature_fraction': 0.4671758401176933, 'bagging_fraction': 0.7829617909983163, 'bagging_freq': 17, 'num_leaves': 685, 'min_child_samples': 92}. Best is trial 11 with value: -1.1388963981358795.\u001b[0m\n"
     ]
    },
    {
     "name": "stdout",
     "output_type": "stream",
     "text": [
      "[LightGBM] [Warning] feature_fraction is set=0.22726800177248074, colsample_bytree=0.5 will be ignored. Current value: feature_fraction=0.22726800177248074\n",
      "[LightGBM] [Warning] bagging_fraction is set=0.3596732068895032, subsample=0.5 will be ignored. Current value: bagging_fraction=0.3596732068895032\n",
      "[LightGBM] [Warning] bagging_freq is set=4, subsample_freq=0 will be ignored. Current value: bagging_freq=4\n",
      "Training until validation scores don't improve for 100 rounds\n",
      "[100]\ttraining's l1: 0.835836\tvalid_1's l1: 1.15348\n",
      "[200]\ttraining's l1: 0.829423\tvalid_1's l1: 1.15107\n",
      "[300]\ttraining's l1: 0.826755\tvalid_1's l1: 1.15053\n",
      "[400]\ttraining's l1: 0.82262\tvalid_1's l1: 1.14995\n",
      "Early stopping, best iteration is:\n",
      "[370]\ttraining's l1: 0.823821\tvalid_1's l1: 1.14964\n"
     ]
    },
    {
     "name": "stderr",
     "output_type": "stream",
     "text": [
      "\u001b[32m[I 2021-07-18 16:01:00,234]\u001b[0m Trial 24 finished with value: -1.1489172472757123 and parameters: {'max_depth': 12, 'min_child_weight': 3, 'subsample': 0.5, 'colsample_bytree': 0.5, 'reg_lambda': 0.007754945038718768, 'reg_alpha': 2.505287366041085, 'feature_fraction': 0.22726800177248074, 'bagging_fraction': 0.3596732068895032, 'bagging_freq': 4, 'num_leaves': 838, 'min_child_samples': 79}. Best is trial 11 with value: -1.1388963981358795.\u001b[0m\n"
     ]
    },
    {
     "name": "stdout",
     "output_type": "stream",
     "text": [
      "[LightGBM] [Warning] feature_fraction is set=0.6164998132492991, colsample_bytree=0.6 will be ignored. Current value: feature_fraction=0.6164998132492991\n",
      "[LightGBM] [Warning] bagging_fraction is set=0.5724070838911625, subsample=0.6 will be ignored. Current value: bagging_fraction=0.5724070838911625\n",
      "[LightGBM] [Warning] bagging_freq is set=15, subsample_freq=0 will be ignored. Current value: bagging_freq=15\n",
      "Training until validation scores don't improve for 100 rounds\n",
      "[100]\ttraining's l1: 0.859048\tvalid_1's l1: 1.17303\n",
      "[200]\ttraining's l1: 0.849539\tvalid_1's l1: 1.15768\n",
      "[300]\ttraining's l1: 0.848702\tvalid_1's l1: 1.15673\n",
      "[400]\ttraining's l1: 0.848192\tvalid_1's l1: 1.15589\n"
     ]
    },
    {
     "name": "stderr",
     "output_type": "stream",
     "text": [
      "\u001b[32m[I 2021-07-18 16:01:16,609]\u001b[0m Trial 25 finished with value: -1.155726210501734 and parameters: {'max_depth': 8, 'min_child_weight': 4, 'subsample': 0.6, 'colsample_bytree': 0.6, 'reg_lambda': 0.21633714228918136, 'reg_alpha': 83.67066127261255, 'feature_fraction': 0.6164998132492991, 'bagging_fraction': 0.5724070838911625, 'bagging_freq': 15, 'num_leaves': 604, 'min_child_samples': 66}. Best is trial 11 with value: -1.1388963981358795.\u001b[0m\n"
     ]
    },
    {
     "name": "stdout",
     "output_type": "stream",
     "text": [
      "[500]\ttraining's l1: 0.847897\tvalid_1's l1: 1.15624\n",
      "Early stopping, best iteration is:\n",
      "[400]\ttraining's l1: 0.848192\tvalid_1's l1: 1.15589\n",
      "[LightGBM] [Warning] feature_fraction is set=0.449627111173199, colsample_bytree=0.7 will be ignored. Current value: feature_fraction=0.449627111173199\n",
      "[LightGBM] [Warning] bagging_fraction is set=0.9280103688049277, subsample=0.7 will be ignored. Current value: bagging_fraction=0.9280103688049277\n",
      "[LightGBM] [Warning] bagging_freq is set=13, subsample_freq=0 will be ignored. Current value: bagging_freq=13\n",
      "Training until validation scores don't improve for 100 rounds\n",
      "[100]\ttraining's l1: 0.833997\tvalid_1's l1: 1.15256\n",
      "[200]\ttraining's l1: 0.828406\tvalid_1's l1: 1.14883\n",
      "[300]\ttraining's l1: 0.825571\tvalid_1's l1: 1.14811\n",
      "[400]\ttraining's l1: 0.823862\tvalid_1's l1: 1.14729\n",
      "[500]\ttraining's l1: 0.817309\tvalid_1's l1: 1.14598\n",
      "[600]\ttraining's l1: 0.813564\tvalid_1's l1: 1.14469\n",
      "[700]\ttraining's l1: 0.808127\tvalid_1's l1: 1.14422\n",
      "[800]\ttraining's l1: 0.803468\tvalid_1's l1: 1.14373\n",
      "[900]\ttraining's l1: 0.798319\tvalid_1's l1: 1.14312\n",
      "[1000]\ttraining's l1: 0.793606\tvalid_1's l1: 1.14291\n",
      "[1100]\ttraining's l1: 0.787259\tvalid_1's l1: 1.14257\n",
      "Early stopping, best iteration is:\n",
      "[1023]\ttraining's l1: 0.791186\tvalid_1's l1: 1.14246\n"
     ]
    },
    {
     "name": "stderr",
     "output_type": "stream",
     "text": [
      "\u001b[32m[I 2021-07-18 16:02:23,442]\u001b[0m Trial 26 finished with value: -1.1418985819699763 and parameters: {'max_depth': 14, 'min_child_weight': 1, 'subsample': 0.7, 'colsample_bytree': 0.7, 'reg_lambda': 0.6231516567565804, 'reg_alpha': 7.358673800135446, 'feature_fraction': 0.449627111173199, 'bagging_fraction': 0.9280103688049277, 'bagging_freq': 13, 'num_leaves': 462, 'min_child_samples': 84}. Best is trial 11 with value: -1.1388963981358795.\u001b[0m\n"
     ]
    },
    {
     "name": "stdout",
     "output_type": "stream",
     "text": [
      "[LightGBM] [Warning] feature_fraction is set=0.3193144005378374, colsample_bytree=0.7 will be ignored. Current value: feature_fraction=0.3193144005378374\n",
      "[LightGBM] [Warning] bagging_fraction is set=0.9995785628237831, subsample=0.7 will be ignored. Current value: bagging_fraction=0.9995785628237831\n",
      "[LightGBM] [Warning] bagging_freq is set=20, subsample_freq=0 will be ignored. Current value: bagging_freq=20\n",
      "Training until validation scores don't improve for 100 rounds\n",
      "[100]\ttraining's l1: 0.83826\tvalid_1's l1: 1.15155\n",
      "[200]\ttraining's l1: 0.832596\tvalid_1's l1: 1.14739\n",
      "[300]\ttraining's l1: 0.830055\tvalid_1's l1: 1.14722\n",
      "[400]\ttraining's l1: 0.827819\tvalid_1's l1: 1.14635\n",
      "[500]\ttraining's l1: 0.825632\tvalid_1's l1: 1.14557\n",
      "[600]\ttraining's l1: 0.823165\tvalid_1's l1: 1.14394\n",
      "[700]\ttraining's l1: 0.821043\tvalid_1's l1: 1.14323\n",
      "Early stopping, best iteration is:\n",
      "[678]\ttraining's l1: 0.821341\tvalid_1's l1: 1.14306\n"
     ]
    },
    {
     "name": "stderr",
     "output_type": "stream",
     "text": [
      "\u001b[32m[I 2021-07-18 16:03:05,677]\u001b[0m Trial 27 finished with value: -1.1427286110543446 and parameters: {'max_depth': 18, 'min_child_weight': 1, 'subsample': 0.7, 'colsample_bytree': 0.7, 'reg_lambda': 0.0927432917758669, 'reg_alpha': 26.979407552745922, 'feature_fraction': 0.3193144005378374, 'bagging_fraction': 0.9995785628237831, 'bagging_freq': 20, 'num_leaves': 411, 'min_child_samples': 71}. Best is trial 11 with value: -1.1388963981358795.\u001b[0m\n"
     ]
    },
    {
     "name": "stdout",
     "output_type": "stream",
     "text": [
      "[LightGBM] [Warning] feature_fraction is set=0.31485724278799043, colsample_bytree=0.8 will be ignored. Current value: feature_fraction=0.31485724278799043\n",
      "[LightGBM] [Warning] bagging_fraction is set=0.9895286640581057, subsample=0.8 will be ignored. Current value: bagging_fraction=0.9895286640581057\n",
      "[LightGBM] [Warning] bagging_freq is set=18, subsample_freq=0 will be ignored. Current value: bagging_freq=18\n",
      "Training until validation scores don't improve for 100 rounds\n",
      "[100]\ttraining's l1: 0.855689\tvalid_1's l1: 1.17086\n",
      "[200]\ttraining's l1: 0.850005\tvalid_1's l1: 1.16155\n",
      "[300]\ttraining's l1: 0.848141\tvalid_1's l1: 1.15937\n",
      "[400]\ttraining's l1: 0.846793\tvalid_1's l1: 1.1579\n",
      "[500]\ttraining's l1: 0.845671\tvalid_1's l1: 1.1571\n",
      "[600]\ttraining's l1: 0.844943\tvalid_1's l1: 1.1559\n",
      "[700]\ttraining's l1: 0.844353\tvalid_1's l1: 1.15552\n",
      "[800]\ttraining's l1: 0.84379\tvalid_1's l1: 1.15509\n",
      "Early stopping, best iteration is:\n",
      "[799]\ttraining's l1: 0.84383\tvalid_1's l1: 1.15505\n"
     ]
    },
    {
     "name": "stderr",
     "output_type": "stream",
     "text": [
      "\u001b[32m[I 2021-07-18 16:03:44,374]\u001b[0m Trial 28 finished with value: -1.1547616218334265 and parameters: {'max_depth': 20, 'min_child_weight': 1, 'subsample': 0.8, 'colsample_bytree': 0.8, 'reg_lambda': 0.011124205551545804, 'reg_alpha': 312.51125669590454, 'feature_fraction': 0.31485724278799043, 'bagging_fraction': 0.9895286640581057, 'bagging_freq': 18, 'num_leaves': 383, 'min_child_samples': 82}. Best is trial 11 with value: -1.1388963981358795.\u001b[0m\n"
     ]
    },
    {
     "name": "stdout",
     "output_type": "stream",
     "text": [
      "[LightGBM] [Warning] feature_fraction is set=0.27974007824586333, colsample_bytree=0.7 will be ignored. Current value: feature_fraction=0.27974007824586333\n",
      "[LightGBM] [Warning] bagging_fraction is set=0.9246734107870981, subsample=0.7 will be ignored. Current value: bagging_fraction=0.9246734107870981\n",
      "[LightGBM] [Warning] bagging_freq is set=20, subsample_freq=0 will be ignored. Current value: bagging_freq=20\n",
      "Training until validation scores don't improve for 100 rounds\n",
      "[100]\ttraining's l1: 0.845201\tvalid_1's l1: 1.16055\n",
      "[200]\ttraining's l1: 0.839721\tvalid_1's l1: 1.15438\n",
      "[300]\ttraining's l1: 0.837879\tvalid_1's l1: 1.15293\n",
      "[400]\ttraining's l1: 0.835914\tvalid_1's l1: 1.15211\n",
      "[500]\ttraining's l1: 0.83401\tvalid_1's l1: 1.15163\n",
      "[600]\ttraining's l1: 0.832292\tvalid_1's l1: 1.1512\n",
      "[700]\ttraining's l1: 0.830824\tvalid_1's l1: 1.15072\n",
      "Early stopping, best iteration is:\n",
      "[660]\ttraining's l1: 0.831521\tvalid_1's l1: 1.15069\n"
     ]
    },
    {
     "name": "stderr",
     "output_type": "stream",
     "text": [
      "\u001b[32m[I 2021-07-18 16:04:18,650]\u001b[0m Trial 29 finished with value: -1.1504266419842737 and parameters: {'max_depth': 18, 'min_child_weight': 2, 'subsample': 0.7, 'colsample_bytree': 0.7, 'reg_lambda': 0.11570258890508386, 'reg_alpha': 45.0027278705239, 'feature_fraction': 0.27974007824586333, 'bagging_fraction': 0.9246734107870981, 'bagging_freq': 20, 'num_leaves': 310, 'min_child_samples': 58}. Best is trial 11 with value: -1.1388963981358795.\u001b[0m\n"
     ]
    },
    {
     "name": "stdout",
     "output_type": "stream",
     "text": [
      "[LightGBM] [Warning] feature_fraction is set=0.3745382346152338, colsample_bytree=0.7 will be ignored. Current value: feature_fraction=0.3745382346152338\n",
      "[LightGBM] [Warning] bagging_fraction is set=0.38891156441514263, subsample=0.7 will be ignored. Current value: bagging_fraction=0.38891156441514263\n",
      "[LightGBM] [Warning] bagging_freq is set=19, subsample_freq=0 will be ignored. Current value: bagging_freq=19\n",
      "Training until validation scores don't improve for 100 rounds\n",
      "[100]\ttraining's l1: 0.845749\tvalid_1's l1: 1.15661\n",
      "[200]\ttraining's l1: 0.842219\tvalid_1's l1: 1.15265\n",
      "[300]\ttraining's l1: 0.840089\tvalid_1's l1: 1.1511\n",
      "[400]\ttraining's l1: 0.838747\tvalid_1's l1: 1.15082\n",
      "[500]\ttraining's l1: 0.83722\tvalid_1's l1: 1.15041\n",
      "Early stopping, best iteration is:\n",
      "[474]\ttraining's l1: 0.83772\tvalid_1's l1: 1.15021\n"
     ]
    },
    {
     "name": "stderr",
     "output_type": "stream",
     "text": [
      "\u001b[32m[I 2021-07-18 16:04:38,289]\u001b[0m Trial 30 finished with value: -1.1498174795276506 and parameters: {'max_depth': 17, 'min_child_weight': 1, 'subsample': 0.7, 'colsample_bytree': 0.7, 'reg_lambda': 0.01740435939604791, 'reg_alpha': 23.49881297248814, 'feature_fraction': 0.3745382346152338, 'bagging_fraction': 0.38891156441514263, 'bagging_freq': 19, 'num_leaves': 279, 'min_child_samples': 90}. Best is trial 11 with value: -1.1388963981358795.\u001b[0m\n"
     ]
    },
    {
     "name": "stdout",
     "output_type": "stream",
     "text": [
      "[LightGBM] [Warning] feature_fraction is set=0.4355516135112253, colsample_bytree=0.7 will be ignored. Current value: feature_fraction=0.4355516135112253\n",
      "[LightGBM] [Warning] bagging_fraction is set=0.9516698528686901, subsample=0.7 will be ignored. Current value: bagging_fraction=0.9516698528686901\n",
      "[LightGBM] [Warning] bagging_freq is set=16, subsample_freq=0 will be ignored. Current value: bagging_freq=16\n",
      "Training until validation scores don't improve for 100 rounds\n",
      "[100]\ttraining's l1: 0.834435\tvalid_1's l1: 1.1487\n",
      "[200]\ttraining's l1: 0.827449\tvalid_1's l1: 1.14398\n",
      "[300]\ttraining's l1: 0.824729\tvalid_1's l1: 1.14418\n"
     ]
    },
    {
     "name": "stderr",
     "output_type": "stream",
     "text": [
      "\u001b[32m[I 2021-07-18 16:04:57,938]\u001b[0m Trial 31 finished with value: -1.1437841900722439 and parameters: {'max_depth': 15, 'min_child_weight': 2, 'subsample': 0.7, 'colsample_bytree': 0.7, 'reg_lambda': 0.05722818624026549, 'reg_alpha': 6.355739965581425, 'feature_fraction': 0.4355516135112253, 'bagging_fraction': 0.9516698528686901, 'bagging_freq': 16, 'num_leaves': 457, 'min_child_samples': 71}. Best is trial 11 with value: -1.1388963981358795.\u001b[0m\n"
     ]
    },
    {
     "name": "stdout",
     "output_type": "stream",
     "text": [
      "Early stopping, best iteration is:\n",
      "[208]\ttraining's l1: 0.827179\tvalid_1's l1: 1.14391\n",
      "[LightGBM] [Warning] feature_fraction is set=0.33935178573153696, colsample_bytree=0.7 will be ignored. Current value: feature_fraction=0.33935178573153696\n",
      "[LightGBM] [Warning] bagging_fraction is set=0.9999226666900745, subsample=0.8 will be ignored. Current value: bagging_fraction=0.9999226666900745\n",
      "[LightGBM] [Warning] bagging_freq is set=10, subsample_freq=0 will be ignored. Current value: bagging_freq=10\n",
      "Training until validation scores don't improve for 100 rounds\n",
      "[100]\ttraining's l1: 0.843807\tvalid_1's l1: 1.15957\n",
      "[200]\ttraining's l1: 0.838407\tvalid_1's l1: 1.15342\n",
      "[300]\ttraining's l1: 0.836504\tvalid_1's l1: 1.15151\n",
      "[400]\ttraining's l1: 0.834842\tvalid_1's l1: 1.15056\n",
      "[500]\ttraining's l1: 0.833647\tvalid_1's l1: 1.1499\n",
      "[600]\ttraining's l1: 0.832535\tvalid_1's l1: 1.14898\n",
      "Early stopping, best iteration is:\n",
      "[595]\ttraining's l1: 0.832573\tvalid_1's l1: 1.14884\n"
     ]
    },
    {
     "name": "stderr",
     "output_type": "stream",
     "text": [
      "\u001b[32m[I 2021-07-18 16:05:37,201]\u001b[0m Trial 32 finished with value: -1.148580574490021 and parameters: {'max_depth': 18, 'min_child_weight': 5, 'subsample': 0.8, 'colsample_bytree': 0.7, 'reg_lambda': 0.3600741708672529, 'reg_alpha': 151.0800911160901, 'feature_fraction': 0.33935178573153696, 'bagging_fraction': 0.9999226666900745, 'bagging_freq': 10, 'num_leaves': 524, 'min_child_samples': 61}. Best is trial 11 with value: -1.1388963981358795.\u001b[0m\n"
     ]
    },
    {
     "name": "stdout",
     "output_type": "stream",
     "text": [
      "[LightGBM] [Warning] feature_fraction is set=0.2725589325423878, colsample_bytree=0.8 will be ignored. Current value: feature_fraction=0.2725589325423878\n",
      "[LightGBM] [Warning] bagging_fraction is set=0.7206050284306985, subsample=0.7 will be ignored. Current value: bagging_fraction=0.7206050284306985\n",
      "[LightGBM] [Warning] bagging_freq is set=12, subsample_freq=0 will be ignored. Current value: bagging_freq=12\n",
      "Training until validation scores don't improve for 100 rounds\n",
      "[100]\ttraining's l1: 0.8383\tvalid_1's l1: 1.15279\n",
      "[200]\ttraining's l1: 0.830165\tvalid_1's l1: 1.14763\n",
      "[300]\ttraining's l1: 0.826277\tvalid_1's l1: 1.14606\n",
      "[400]\ttraining's l1: 0.82148\tvalid_1's l1: 1.14569\n",
      "[500]\ttraining's l1: 0.816737\tvalid_1's l1: 1.1448\n",
      "[600]\ttraining's l1: 0.811982\tvalid_1's l1: 1.14347\n",
      "[700]\ttraining's l1: 0.808021\tvalid_1's l1: 1.14405\n",
      "Early stopping, best iteration is:\n",
      "[671]\ttraining's l1: 0.80954\tvalid_1's l1: 1.14312\n"
     ]
    },
    {
     "name": "stderr",
     "output_type": "stream",
     "text": [
      "\u001b[32m[I 2021-07-18 16:06:11,172]\u001b[0m Trial 33 finished with value: -1.1424985748108083 and parameters: {'max_depth': 16, 'min_child_weight': 4, 'subsample': 0.7, 'colsample_bytree': 0.8, 'reg_lambda': 2.104572717819938, 'reg_alpha': 1.0495004680755922, 'feature_fraction': 0.2725589325423878, 'bagging_fraction': 0.7206050284306985, 'bagging_freq': 12, 'num_leaves': 427, 'min_child_samples': 85}. Best is trial 11 with value: -1.1388963981358795.\u001b[0m\n"
     ]
    },
    {
     "name": "stdout",
     "output_type": "stream",
     "text": [
      "[LightGBM] [Warning] feature_fraction is set=0.20015093680218377, colsample_bytree=0.9 will be ignored. Current value: feature_fraction=0.20015093680218377\n",
      "[LightGBM] [Warning] bagging_fraction is set=0.7245247974461149, subsample=0.8 will be ignored. Current value: bagging_fraction=0.7245247974461149\n",
      "[LightGBM] [Warning] bagging_freq is set=12, subsample_freq=0 will be ignored. Current value: bagging_freq=12\n",
      "Training until validation scores don't improve for 100 rounds\n",
      "[100]\ttraining's l1: 0.839557\tvalid_1's l1: 1.15713\n",
      "[200]\ttraining's l1: 0.830136\tvalid_1's l1: 1.15103\n",
      "[300]\ttraining's l1: 0.824172\tvalid_1's l1: 1.14987\n",
      "[400]\ttraining's l1: 0.819375\tvalid_1's l1: 1.14929\n",
      "Early stopping, best iteration is:\n",
      "[363]\ttraining's l1: 0.820913\tvalid_1's l1: 1.14861\n"
     ]
    },
    {
     "name": "stderr",
     "output_type": "stream",
     "text": [
      "\u001b[32m[I 2021-07-18 16:06:31,069]\u001b[0m Trial 34 finished with value: -1.148223279241497 and parameters: {'max_depth': 16, 'min_child_weight': 4, 'subsample': 0.8, 'colsample_bytree': 0.9, 'reg_lambda': 0.0039108415982584644, 'reg_alpha': 0.048357200051544175, 'feature_fraction': 0.20015093680218377, 'bagging_fraction': 0.7245247974461149, 'bagging_freq': 12, 'num_leaves': 452, 'min_child_samples': 85}. Best is trial 11 with value: -1.1388963981358795.\u001b[0m\n"
     ]
    },
    {
     "name": "stdout",
     "output_type": "stream",
     "text": [
      "[LightGBM] [Warning] feature_fraction is set=0.2905017405150364, colsample_bytree=0.8 will be ignored. Current value: feature_fraction=0.2905017405150364\n",
      "[LightGBM] [Warning] bagging_fraction is set=0.5154652810780722, subsample=0.7 will be ignored. Current value: bagging_fraction=0.5154652810780722\n",
      "[LightGBM] [Warning] bagging_freq is set=13, subsample_freq=0 will be ignored. Current value: bagging_freq=13\n",
      "Training until validation scores don't improve for 100 rounds\n",
      "[100]\ttraining's l1: 0.857269\tvalid_1's l1: 1.16893\n",
      "[200]\ttraining's l1: 0.855087\tvalid_1's l1: 1.16529\n",
      "[300]\ttraining's l1: 0.850149\tvalid_1's l1: 1.1583\n",
      "[400]\ttraining's l1: 0.844964\tvalid_1's l1: 1.15437\n",
      "[500]\ttraining's l1: 0.841126\tvalid_1's l1: 1.15074\n",
      "[600]\ttraining's l1: 0.838559\tvalid_1's l1: 1.1485\n",
      "[700]\ttraining's l1: 0.836185\tvalid_1's l1: 1.148\n",
      "[800]\ttraining's l1: 0.833448\tvalid_1's l1: 1.14683\n",
      "[900]\ttraining's l1: 0.831328\tvalid_1's l1: 1.14654\n",
      "[1000]\ttraining's l1: 0.827876\tvalid_1's l1: 1.14543\n",
      "[1100]\ttraining's l1: 0.824998\tvalid_1's l1: 1.14514\n",
      "Early stopping, best iteration is:\n",
      "[1052]\ttraining's l1: 0.826116\tvalid_1's l1: 1.14495\n"
     ]
    },
    {
     "name": "stderr",
     "output_type": "stream",
     "text": [
      "\u001b[32m[I 2021-07-18 16:07:02,222]\u001b[0m Trial 35 finished with value: -1.1443900277482206 and parameters: {'max_depth': 19, 'min_child_weight': 2, 'subsample': 0.7, 'colsample_bytree': 0.8, 'reg_lambda': 3.3511887055454244, 'reg_alpha': 1.0282463477835575, 'feature_fraction': 0.2905017405150364, 'bagging_fraction': 0.5154652810780722, 'bagging_freq': 13, 'num_leaves': 162, 'min_child_samples': 77}. Best is trial 11 with value: -1.1388963981358795.\u001b[0m\n"
     ]
    },
    {
     "name": "stdout",
     "output_type": "stream",
     "text": [
      "[LightGBM] [Warning] feature_fraction is set=0.2570660508388866, colsample_bytree=0.8 will be ignored. Current value: feature_fraction=0.2570660508388866\n",
      "[LightGBM] [Warning] bagging_fraction is set=0.660778080581459, subsample=0.6 will be ignored. Current value: bagging_fraction=0.660778080581459\n",
      "[LightGBM] [Warning] bagging_freq is set=11, subsample_freq=0 will be ignored. Current value: bagging_freq=11\n",
      "Training until validation scores don't improve for 100 rounds\n",
      "[100]\ttraining's l1: 0.845451\tvalid_1's l1: 1.15881\n",
      "[200]\ttraining's l1: 0.838748\tvalid_1's l1: 1.15338\n",
      "[300]\ttraining's l1: 0.834359\tvalid_1's l1: 1.15109\n",
      "[400]\ttraining's l1: 0.82932\tvalid_1's l1: 1.14935\n",
      "[500]\ttraining's l1: 0.826386\tvalid_1's l1: 1.14804\n",
      "[600]\ttraining's l1: 0.824148\tvalid_1's l1: 1.14729\n",
      "[700]\ttraining's l1: 0.821282\tvalid_1's l1: 1.1471\n",
      "Early stopping, best iteration is:\n",
      "[681]\ttraining's l1: 0.821629\tvalid_1's l1: 1.14691\n"
     ]
    },
    {
     "name": "stderr",
     "output_type": "stream",
     "text": [
      "\u001b[32m[I 2021-07-18 16:07:32,053]\u001b[0m Trial 36 finished with value: -1.1465023902536182 and parameters: {'max_depth': 17, 'min_child_weight': 4, 'subsample': 0.6, 'colsample_bytree': 0.8, 'reg_lambda': 0.07787071928929791, 'reg_alpha': 6.482136496054105, 'feature_fraction': 0.2570660508388866, 'bagging_fraction': 0.660778080581459, 'bagging_freq': 11, 'num_leaves': 325, 'min_child_samples': 94}. Best is trial 11 with value: -1.1388963981358795.\u001b[0m\n"
     ]
    },
    {
     "name": "stdout",
     "output_type": "stream",
     "text": [
      "[LightGBM] [Warning] feature_fraction is set=0.9971529749805913, colsample_bytree=0.9 will be ignored. Current value: feature_fraction=0.9971529749805913\n",
      "[LightGBM] [Warning] bagging_fraction is set=0.625851644344552, subsample=0.7 will be ignored. Current value: bagging_fraction=0.625851644344552\n",
      "[LightGBM] [Warning] bagging_freq is set=9, subsample_freq=0 will be ignored. Current value: bagging_freq=9\n",
      "Training until validation scores don't improve for 100 rounds\n",
      "[100]\ttraining's l1: 0.833085\tvalid_1's l1: 1.15162\n",
      "[200]\ttraining's l1: 0.827808\tvalid_1's l1: 1.15008\n",
      "[300]\ttraining's l1: 0.824878\tvalid_1's l1: 1.14827\n",
      "[400]\ttraining's l1: 0.820368\tvalid_1's l1: 1.14837\n",
      "[500]\ttraining's l1: 0.81332\tvalid_1's l1: 1.14682\n",
      "[600]\ttraining's l1: 0.807576\tvalid_1's l1: 1.14786\n",
      "Early stopping, best iteration is:\n",
      "[506]\ttraining's l1: 0.813085\tvalid_1's l1: 1.14665\n"
     ]
    },
    {
     "name": "stderr",
     "output_type": "stream",
     "text": [
      "\u001b[32m[I 2021-07-18 16:08:11,409]\u001b[0m Trial 37 finished with value: -1.146153414296479 and parameters: {'max_depth': 19, 'min_child_weight': 2, 'subsample': 0.7, 'colsample_bytree': 0.9, 'reg_lambda': 6.999125171683187, 'reg_alpha': 0.3063471059194476, 'feature_fraction': 0.9971529749805913, 'bagging_fraction': 0.625851644344552, 'bagging_freq': 9, 'num_leaves': 470, 'min_child_samples': 86}. Best is trial 11 with value: -1.1388963981358795.\u001b[0m\n"
     ]
    },
    {
     "name": "stdout",
     "output_type": "stream",
     "text": [
      "[LightGBM] [Warning] feature_fraction is set=0.34279071771285313, colsample_bytree=0.7 will be ignored. Current value: feature_fraction=0.34279071771285313\n",
      "[LightGBM] [Warning] bagging_fraction is set=0.714166101420727, subsample=0.8 will be ignored. Current value: bagging_fraction=0.714166101420727\n",
      "[LightGBM] [Warning] bagging_freq is set=14, subsample_freq=0 will be ignored. Current value: bagging_freq=14\n",
      "Training until validation scores don't improve for 100 rounds\n",
      "[100]\ttraining's l1: 0.829364\tvalid_1's l1: 1.14752\n",
      "[200]\ttraining's l1: 0.816254\tvalid_1's l1: 1.14515\n"
     ]
    },
    {
     "name": "stderr",
     "output_type": "stream",
     "text": [
      "\u001b[32m[I 2021-07-18 16:08:25,950]\u001b[0m Trial 38 finished with value: -1.1442213607900766 and parameters: {'max_depth': 16, 'min_child_weight': 1, 'subsample': 0.8, 'colsample_bytree': 0.7, 'reg_lambda': 1.4311384731727987, 'reg_alpha': 0.01338086073702866, 'feature_fraction': 0.34279071771285313, 'bagging_fraction': 0.714166101420727, 'bagging_freq': 14, 'num_leaves': 553, 'min_child_samples': 16}. Best is trial 11 with value: -1.1388963981358795.\u001b[0m\n"
     ]
    },
    {
     "name": "stdout",
     "output_type": "stream",
     "text": [
      "Early stopping, best iteration is:\n",
      "[153]\ttraining's l1: 0.82275\tvalid_1's l1: 1.14441\n",
      "[LightGBM] [Warning] feature_fraction is set=0.5546695540902187, colsample_bytree=0.8 will be ignored. Current value: feature_fraction=0.5546695540902187\n",
      "[LightGBM] [Warning] bagging_fraction is set=0.8976252459428989, subsample=0.7 will be ignored. Current value: bagging_fraction=0.8976252459428989\n",
      "[LightGBM] [Warning] bagging_freq is set=12, subsample_freq=0 will be ignored. Current value: bagging_freq=12\n",
      "Training until validation scores don't improve for 100 rounds\n",
      "[100]\ttraining's l1: 0.834784\tvalid_1's l1: 1.15634\n",
      "[200]\ttraining's l1: 0.829502\tvalid_1's l1: 1.15015\n"
     ]
    },
    {
     "name": "stderr",
     "output_type": "stream",
     "text": [
      "\u001b[32m[I 2021-07-18 16:08:42,659]\u001b[0m Trial 39 finished with value: -1.1498523407069794 and parameters: {'max_depth': 10, 'min_child_weight': 6, 'subsample': 0.7, 'colsample_bytree': 0.8, 'reg_lambda': 15.556054956723946, 'reg_alpha': 0.11237708203087031, 'feature_fraction': 0.5546695540902187, 'bagging_fraction': 0.8976252459428989, 'bagging_freq': 12, 'num_leaves': 411, 'min_child_samples': 81}. Best is trial 11 with value: -1.1388963981358795.\u001b[0m\n"
     ]
    },
    {
     "name": "stdout",
     "output_type": "stream",
     "text": [
      "Early stopping, best iteration is:\n",
      "[181]\ttraining's l1: 0.829716\tvalid_1's l1: 1.14991\n",
      "[LightGBM] [Warning] feature_fraction is set=0.4093322697738352, colsample_bytree=0.6 will be ignored. Current value: feature_fraction=0.4093322697738352\n",
      "[LightGBM] [Warning] bagging_fraction is set=0.4114362079710625, subsample=0.6 will be ignored. Current value: bagging_fraction=0.4114362079710625\n",
      "[LightGBM] [Warning] bagging_freq is set=10, subsample_freq=0 will be ignored. Current value: bagging_freq=10\n",
      "Training until validation scores don't improve for 100 rounds\n",
      "[100]\ttraining's l1: 0.843043\tvalid_1's l1: 1.15601\n",
      "[200]\ttraining's l1: 0.839485\tvalid_1's l1: 1.15223\n",
      "[300]\ttraining's l1: 0.837441\tvalid_1's l1: 1.15111\n",
      "[400]\ttraining's l1: 0.835134\tvalid_1's l1: 1.15039\n",
      "[500]\ttraining's l1: 0.833496\tvalid_1's l1: 1.14996\n",
      "[600]\ttraining's l1: 0.831829\tvalid_1's l1: 1.14999\n",
      "Early stopping, best iteration is:\n",
      "[535]\ttraining's l1: 0.832716\tvalid_1's l1: 1.14967\n"
     ]
    },
    {
     "name": "stderr",
     "output_type": "stream",
     "text": [
      "\u001b[32m[I 2021-07-18 16:09:07,776]\u001b[0m Trial 40 finished with value: -1.1492262361970822 and parameters: {'max_depth': 18, 'min_child_weight': 3, 'subsample': 0.6, 'colsample_bytree': 0.6, 'reg_lambda': 0.00544298750182629, 'reg_alpha': 21.767359763051065, 'feature_fraction': 0.4093322697738352, 'bagging_fraction': 0.4114362079710625, 'bagging_freq': 10, 'num_leaves': 333, 'min_child_samples': 57}. Best is trial 11 with value: -1.1388963981358795.\u001b[0m\n"
     ]
    },
    {
     "name": "stdout",
     "output_type": "stream",
     "text": [
      "[LightGBM] [Warning] feature_fraction is set=0.5016154874025197, colsample_bytree=0.7 will be ignored. Current value: feature_fraction=0.5016154874025197\n",
      "[LightGBM] [Warning] bagging_fraction is set=0.8267987764124317, subsample=0.7 will be ignored. Current value: bagging_fraction=0.8267987764124317\n",
      "[LightGBM] [Warning] bagging_freq is set=9, subsample_freq=0 will be ignored. Current value: bagging_freq=9\n",
      "Training until validation scores don't improve for 100 rounds\n",
      "[100]\ttraining's l1: 0.821182\tvalid_1's l1: 1.14643\n",
      "[200]\ttraining's l1: 0.81196\tvalid_1's l1: 1.14495\n",
      "[300]\ttraining's l1: 0.809991\tvalid_1's l1: 1.14418\n",
      "[400]\ttraining's l1: 0.803009\tvalid_1's l1: 1.14404\n",
      "Early stopping, best iteration is:\n",
      "[399]\ttraining's l1: 0.803094\tvalid_1's l1: 1.14397\n"
     ]
    },
    {
     "name": "stderr",
     "output_type": "stream",
     "text": [
      "\u001b[32m[I 2021-07-18 16:09:42,914]\u001b[0m Trial 41 finished with value: -1.1437053934619321 and parameters: {'max_depth': 14, 'min_child_weight': 11, 'subsample': 0.7, 'colsample_bytree': 0.7, 'reg_lambda': 0.4300970476619255, 'reg_alpha': 1.7072330002504261, 'feature_fraction': 0.5016154874025197, 'bagging_fraction': 0.8267987764124317, 'bagging_freq': 9, 'num_leaves': 708, 'min_child_samples': 71}. Best is trial 11 with value: -1.1388963981358795.\u001b[0m\n"
     ]
    },
    {
     "name": "stdout",
     "output_type": "stream",
     "text": [
      "[LightGBM] [Warning] feature_fraction is set=0.4372253705120666, colsample_bytree=0.7 will be ignored. Current value: feature_fraction=0.4372253705120666\n",
      "[LightGBM] [Warning] bagging_fraction is set=0.7430355556943443, subsample=0.7 will be ignored. Current value: bagging_fraction=0.7430355556943443\n",
      "[LightGBM] [Warning] bagging_freq is set=8, subsample_freq=0 will be ignored. Current value: bagging_freq=8\n",
      "Training until validation scores don't improve for 100 rounds\n",
      "[100]\ttraining's l1: 0.828347\tvalid_1's l1: 1.15177\n",
      "[200]\ttraining's l1: 0.819652\tvalid_1's l1: 1.14709\n",
      "[300]\ttraining's l1: 0.818598\tvalid_1's l1: 1.14721\n",
      "Early stopping, best iteration is:\n",
      "[240]\ttraining's l1: 0.818895\tvalid_1's l1: 1.14703\n"
     ]
    },
    {
     "name": "stderr",
     "output_type": "stream",
     "text": [
      "\u001b[32m[I 2021-07-18 16:10:02,050]\u001b[0m Trial 42 finished with value: -1.1468707177945907 and parameters: {'max_depth': 12, 'min_child_weight': 13, 'subsample': 0.7, 'colsample_bytree': 0.7, 'reg_lambda': 0.6887281731513707, 'reg_alpha': 0.451882779107439, 'feature_fraction': 0.4372253705120666, 'bagging_fraction': 0.7430355556943443, 'bagging_freq': 8, 'num_leaves': 574, 'min_child_samples': 72}. Best is trial 11 with value: -1.1388963981358795.\u001b[0m\n"
     ]
    },
    {
     "name": "stdout",
     "output_type": "stream",
     "text": [
      "[LightGBM] [Warning] feature_fraction is set=0.517857674845132, colsample_bytree=0.7 will be ignored. Current value: feature_fraction=0.517857674845132\n",
      "[LightGBM] [Warning] bagging_fraction is set=0.9483030572312401, subsample=0.7 will be ignored. Current value: bagging_fraction=0.9483030572312401\n",
      "[LightGBM] [Warning] bagging_freq is set=14, subsample_freq=0 will be ignored. Current value: bagging_freq=14\n",
      "Training until validation scores don't improve for 100 rounds\n",
      "[100]\ttraining's l1: 0.831407\tvalid_1's l1: 1.14672\n",
      "[200]\ttraining's l1: 0.825671\tvalid_1's l1: 1.14314\n",
      "[300]\ttraining's l1: 0.822978\tvalid_1's l1: 1.14171\n",
      "[400]\ttraining's l1: 0.819275\tvalid_1's l1: 1.14119\n",
      "[500]\ttraining's l1: 0.816285\tvalid_1's l1: 1.14099\n",
      "[600]\ttraining's l1: 0.808796\tvalid_1's l1: 1.13956\n",
      "[700]\ttraining's l1: 0.801507\tvalid_1's l1: 1.13963\n",
      "[800]\ttraining's l1: 0.789085\tvalid_1's l1: 1.13928\n",
      "[900]\ttraining's l1: 0.783265\tvalid_1's l1: 1.13941\n",
      "Early stopping, best iteration is:\n",
      "[814]\ttraining's l1: 0.787954\tvalid_1's l1: 1.13899\n"
     ]
    },
    {
     "name": "stderr",
     "output_type": "stream",
     "text": [
      "\u001b[32m[I 2021-07-18 16:11:02,336]\u001b[0m Trial 43 finished with value: -1.1385609551395288 and parameters: {'max_depth': 14, 'min_child_weight': 9, 'subsample': 0.7, 'colsample_bytree': 0.7, 'reg_lambda': 1.9163375605610466, 'reg_alpha': 6.3410871777995945, 'feature_fraction': 0.517857674845132, 'bagging_fraction': 0.9483030572312401, 'bagging_freq': 14, 'num_leaves': 488, 'min_child_samples': 61}. Best is trial 43 with value: -1.1385609551395288.\u001b[0m\n"
     ]
    },
    {
     "name": "stdout",
     "output_type": "stream",
     "text": [
      "[LightGBM] [Warning] feature_fraction is set=0.5947131827335193, colsample_bytree=0.7 will be ignored. Current value: feature_fraction=0.5947131827335193\n",
      "[LightGBM] [Warning] bagging_fraction is set=0.9582876363825742, subsample=0.7 will be ignored. Current value: bagging_fraction=0.9582876363825742\n",
      "[LightGBM] [Warning] bagging_freq is set=14, subsample_freq=0 will be ignored. Current value: bagging_freq=14\n",
      "Training until validation scores don't improve for 100 rounds\n",
      "[100]\ttraining's l1: 0.832517\tvalid_1's l1: 1.14945\n",
      "[200]\ttraining's l1: 0.827168\tvalid_1's l1: 1.14574\n",
      "[300]\ttraining's l1: 0.826088\tvalid_1's l1: 1.14557\n",
      "[400]\ttraining's l1: 0.822773\tvalid_1's l1: 1.14477\n",
      "[500]\ttraining's l1: 0.820002\tvalid_1's l1: 1.14482\n",
      "Early stopping, best iteration is:\n",
      "[441]\ttraining's l1: 0.821441\tvalid_1's l1: 1.14443\n"
     ]
    },
    {
     "name": "stderr",
     "output_type": "stream",
     "text": [
      "\u001b[32m[I 2021-07-18 16:11:44,086]\u001b[0m Trial 44 finished with value: -1.144244536255949 and parameters: {'max_depth': 16, 'min_child_weight': 9, 'subsample': 0.7, 'colsample_bytree': 0.7, 'reg_lambda': 1.4037824099949907, 'reg_alpha': 7.513533497853999, 'feature_fraction': 0.5947131827335193, 'bagging_fraction': 0.9582876363825742, 'bagging_freq': 14, 'num_leaves': 496, 'min_child_samples': 61}. Best is trial 43 with value: -1.1385609551395288.\u001b[0m\n"
     ]
    },
    {
     "name": "stdout",
     "output_type": "stream",
     "text": [
      "[LightGBM] [Warning] feature_fraction is set=0.5216301539117526, colsample_bytree=0.6 will be ignored. Current value: feature_fraction=0.5216301539117526\n",
      "[LightGBM] [Warning] bagging_fraction is set=0.8905682017699983, subsample=0.8 will be ignored. Current value: bagging_fraction=0.8905682017699983\n",
      "[LightGBM] [Warning] bagging_freq is set=16, subsample_freq=0 will be ignored. Current value: bagging_freq=16\n",
      "Training until validation scores don't improve for 100 rounds\n",
      "[100]\ttraining's l1: 0.846348\tvalid_1's l1: 1.15654\n",
      "[200]\ttraining's l1: 0.844588\tvalid_1's l1: 1.15471\n",
      "[300]\ttraining's l1: 0.844142\tvalid_1's l1: 1.15459\n",
      "[400]\ttraining's l1: 0.842245\tvalid_1's l1: 1.15313\n",
      "[500]\ttraining's l1: 0.840363\tvalid_1's l1: 1.15229\n",
      "[600]\ttraining's l1: 0.839271\tvalid_1's l1: 1.15194\n",
      "[700]\ttraining's l1: 0.836931\tvalid_1's l1: 1.14988\n",
      "[800]\ttraining's l1: 0.834452\tvalid_1's l1: 1.14785\n",
      "[900]\ttraining's l1: 0.832793\tvalid_1's l1: 1.14755\n",
      "[1000]\ttraining's l1: 0.831614\tvalid_1's l1: 1.14692\n",
      "[1100]\ttraining's l1: 0.830158\tvalid_1's l1: 1.14654\n",
      "[1200]\ttraining's l1: 0.828962\tvalid_1's l1: 1.14653\n",
      "[1300]\ttraining's l1: 0.828285\tvalid_1's l1: 1.14655\n",
      "Early stopping, best iteration is:\n",
      "[1280]\ttraining's l1: 0.828444\tvalid_1's l1: 1.14635\n"
     ]
    },
    {
     "name": "stderr",
     "output_type": "stream",
     "text": [
      "\u001b[32m[I 2021-07-18 16:12:57,171]\u001b[0m Trial 45 finished with value: -1.1460997373070594 and parameters: {'max_depth': 15, 'min_child_weight': 5, 'subsample': 0.8, 'colsample_bytree': 0.6, 'reg_lambda': 0.1831392407283623, 'reg_alpha': 41.123026825818826, 'feature_fraction': 0.5216301539117526, 'bagging_fraction': 0.8905682017699983, 'bagging_freq': 16, 'num_leaves': 251, 'min_child_samples': 52}. Best is trial 43 with value: -1.1385609551395288.\u001b[0m\n"
     ]
    },
    {
     "name": "stdout",
     "output_type": "stream",
     "text": [
      "[LightGBM] [Warning] feature_fraction is set=0.3656719940982305, colsample_bytree=0.8 will be ignored. Current value: feature_fraction=0.3656719940982305\n",
      "[LightGBM] [Warning] bagging_fraction is set=0.30334629689521275, subsample=0.6 will be ignored. Current value: bagging_fraction=0.30334629689521275\n",
      "[LightGBM] [Warning] bagging_freq is set=11, subsample_freq=0 will be ignored. Current value: bagging_freq=11\n",
      "Training until validation scores don't improve for 100 rounds\n",
      "[100]\ttraining's l1: 0.835024\tvalid_1's l1: 1.15121\n",
      "[200]\ttraining's l1: 0.828166\tvalid_1's l1: 1.1498\n"
     ]
    },
    {
     "name": "stderr",
     "output_type": "stream",
     "text": [
      "\u001b[32m[I 2021-07-18 16:13:06,573]\u001b[0m Trial 46 finished with value: -1.1475789914122934 and parameters: {'max_depth': 12, 'min_child_weight': 9, 'subsample': 0.6, 'colsample_bytree': 0.8, 'reg_lambda': 2.1641616571221602, 'reg_alpha': 5.143249316125285, 'feature_fraction': 0.3656719940982305, 'bagging_fraction': 0.30334629689521275, 'bagging_freq': 11, 'num_leaves': 430, 'min_child_samples': 31}. Best is trial 43 with value: -1.1385609551395288.\u001b[0m\n"
     ]
    },
    {
     "name": "stdout",
     "output_type": "stream",
     "text": [
      "Early stopping, best iteration is:\n",
      "[151]\ttraining's l1: 0.830186\tvalid_1's l1: 1.14794\n",
      "[LightGBM] [Warning] feature_fraction is set=0.6554450846962497, colsample_bytree=0.9 will be ignored. Current value: feature_fraction=0.6554450846962497\n",
      "[LightGBM] [Warning] bagging_fraction is set=0.934381795597685, subsample=0.7 will be ignored. Current value: bagging_fraction=0.934381795597685\n",
      "[LightGBM] [Warning] bagging_freq is set=16, subsample_freq=0 will be ignored. Current value: bagging_freq=16\n",
      "Training until validation scores don't improve for 100 rounds\n",
      "[100]\ttraining's l1: 0.837752\tvalid_1's l1: 1.15203\n",
      "[200]\ttraining's l1: 0.834533\tvalid_1's l1: 1.15014\n"
     ]
    },
    {
     "name": "stderr",
     "output_type": "stream",
     "text": [
      "\u001b[32m[I 2021-07-18 16:13:20,528]\u001b[0m Trial 47 finished with value: -1.1498711527958958 and parameters: {'max_depth': 17, 'min_child_weight': 6, 'subsample': 0.7, 'colsample_bytree': 0.9, 'reg_lambda': 5.728508497134125, 'reg_alpha': 30.01650325623751, 'feature_fraction': 0.6554450846962497, 'bagging_fraction': 0.934381795597685, 'bagging_freq': 16, 'num_leaves': 370, 'min_child_samples': 45}. Best is trial 43 with value: -1.1385609551395288.\u001b[0m\n"
     ]
    },
    {
     "name": "stdout",
     "output_type": "stream",
     "text": [
      "Early stopping, best iteration is:\n",
      "[144]\ttraining's l1: 0.835828\tvalid_1's l1: 1.14995\n",
      "[LightGBM] [Warning] feature_fraction is set=0.7555230910527286, colsample_bytree=0.6 will be ignored. Current value: feature_fraction=0.7555230910527286\n",
      "[LightGBM] [Warning] bagging_fraction is set=0.5419936407450641, subsample=0.8 will be ignored. Current value: bagging_fraction=0.5419936407450641\n",
      "[LightGBM] [Warning] bagging_freq is set=14, subsample_freq=0 will be ignored. Current value: bagging_freq=14\n",
      "Training until validation scores don't improve for 100 rounds\n",
      "[100]\ttraining's l1: 0.83141\tvalid_1's l1: 1.14895\n",
      "[200]\ttraining's l1: 0.823898\tvalid_1's l1: 1.14551\n"
     ]
    },
    {
     "name": "stderr",
     "output_type": "stream",
     "text": [
      "\u001b[32m[I 2021-07-18 16:13:36,643]\u001b[0m Trial 48 finished with value: -1.1447630960423383 and parameters: {'max_depth': 19, 'min_child_weight': 4, 'subsample': 0.8, 'colsample_bytree': 0.6, 'reg_lambda': 31.606303664205022, 'reg_alpha': 1.2279239740023855, 'feature_fraction': 0.7555230910527286, 'bagging_fraction': 0.5419936407450641, 'bagging_freq': 14, 'num_leaves': 529, 'min_child_samples': 78}. Best is trial 43 with value: -1.1385609551395288.\u001b[0m\n"
     ]
    },
    {
     "name": "stdout",
     "output_type": "stream",
     "text": [
      "Early stopping, best iteration is:\n",
      "[183]\ttraining's l1: 0.824539\tvalid_1's l1: 1.14501\n",
      "[LightGBM] [Warning] feature_fraction is set=0.21092438859575674, colsample_bytree=0.7 will be ignored. Current value: feature_fraction=0.21092438859575674\n",
      "[LightGBM] [Warning] bagging_fraction is set=0.21527173180840664, subsample=0.7 will be ignored. Current value: bagging_fraction=0.21527173180840664\n",
      "[LightGBM] [Warning] bagging_freq is set=12, subsample_freq=0 will be ignored. Current value: bagging_freq=12\n",
      "Training until validation scores don't improve for 100 rounds\n",
      "[100]\ttraining's l1: 0.854907\tvalid_1's l1: 1.16362\n",
      "[200]\ttraining's l1: 0.850901\tvalid_1's l1: 1.16049\n",
      "[300]\ttraining's l1: 0.847699\tvalid_1's l1: 1.15667\n",
      "[400]\ttraining's l1: 0.843786\tvalid_1's l1: 1.15426\n",
      "[500]\ttraining's l1: 0.841492\tvalid_1's l1: 1.15293\n",
      "[600]\ttraining's l1: 0.839691\tvalid_1's l1: 1.15289\n",
      "Early stopping, best iteration is:\n",
      "[569]\ttraining's l1: 0.840458\tvalid_1's l1: 1.15215\n"
     ]
    },
    {
     "name": "stderr",
     "output_type": "stream",
     "text": [
      "\u001b[32m[I 2021-07-18 16:13:50,349]\u001b[0m Trial 49 finished with value: -1.1515211612016383 and parameters: {'max_depth': 14, 'min_child_weight': 2, 'subsample': 0.7, 'colsample_bytree': 0.7, 'reg_lambda': 0.03681051322095192, 'reg_alpha': 8.995293083404293, 'feature_fraction': 0.21092438859575674, 'bagging_fraction': 0.21527173180840664, 'bagging_freq': 12, 'num_leaves': 190, 'min_child_samples': 62}. Best is trial 43 with value: -1.1385609551395288.\u001b[0m\n"
     ]
    },
    {
     "name": "stdout",
     "output_type": "stream",
     "text": [
      "[LightGBM] [Warning] feature_fraction is set=0.568594281538824, colsample_bytree=0.8 will be ignored. Current value: feature_fraction=0.568594281538824\n",
      "[LightGBM] [Warning] bagging_fraction is set=0.975347863974967, subsample=0.6 will be ignored. Current value: bagging_fraction=0.975347863974967\n",
      "[LightGBM] [Warning] bagging_freq is set=20, subsample_freq=0 will be ignored. Current value: bagging_freq=20\n",
      "Training until validation scores don't improve for 100 rounds\n",
      "[100]\ttraining's l1: 0.851121\tvalid_1's l1: 1.16785\n",
      "[200]\ttraining's l1: 0.845214\tvalid_1's l1: 1.1604\n",
      "[300]\ttraining's l1: 0.845029\tvalid_1's l1: 1.16005\n"
     ]
    },
    {
     "name": "stderr",
     "output_type": "stream",
     "text": [
      "\u001b[32m[I 2021-07-18 16:14:08,943]\u001b[0m Trial 50 finished with value: -1.159916960411728 and parameters: {'max_depth': 9, 'min_child_weight': 3, 'subsample': 0.6, 'colsample_bytree': 0.8, 'reg_lambda': 13.389574412648669, 'reg_alpha': 127.89540919152154, 'feature_fraction': 0.568594281538824, 'bagging_fraction': 0.975347863974967, 'bagging_freq': 20, 'num_leaves': 489, 'min_child_samples': 87}. Best is trial 43 with value: -1.1385609551395288.\u001b[0m\n"
     ]
    },
    {
     "name": "stdout",
     "output_type": "stream",
     "text": [
      "Early stopping, best iteration is:\n",
      "[237]\ttraining's l1: 0.845077\tvalid_1's l1: 1.16\n",
      "[LightGBM] [Warning] feature_fraction is set=0.463732013169411, colsample_bytree=0.7 will be ignored. Current value: feature_fraction=0.463732013169411\n",
      "[LightGBM] [Warning] bagging_fraction is set=0.807642708205363, subsample=0.7 will be ignored. Current value: bagging_fraction=0.807642708205363\n",
      "[LightGBM] [Warning] bagging_freq is set=13, subsample_freq=0 will be ignored. Current value: bagging_freq=13\n",
      "Training until validation scores don't improve for 100 rounds\n",
      "[100]\ttraining's l1: 0.819084\tvalid_1's l1: 1.14769\n",
      "[200]\ttraining's l1: 0.809157\tvalid_1's l1: 1.14492\n",
      "[300]\ttraining's l1: 0.806541\tvalid_1's l1: 1.14453\n",
      "[400]\ttraining's l1: 0.804142\tvalid_1's l1: 1.14483\n",
      "Early stopping, best iteration is:\n",
      "[377]\ttraining's l1: 0.805809\tvalid_1's l1: 1.14424\n"
     ]
    },
    {
     "name": "stderr",
     "output_type": "stream",
     "text": [
      "\u001b[32m[I 2021-07-18 16:14:42,151]\u001b[0m Trial 51 finished with value: -1.1439961923203787 and parameters: {'max_depth': 14, 'min_child_weight': 16, 'subsample': 0.7, 'colsample_bytree': 0.7, 'reg_lambda': 0.7363938642141524, 'reg_alpha': 3.268842145241491, 'feature_fraction': 0.463732013169411, 'bagging_fraction': 0.807642708205363, 'bagging_freq': 13, 'num_leaves': 792, 'min_child_samples': 68}. Best is trial 43 with value: -1.1385609551395288.\u001b[0m\n"
     ]
    },
    {
     "name": "stdout",
     "output_type": "stream",
     "text": [
      "[LightGBM] [Warning] feature_fraction is set=0.5287777438615707, colsample_bytree=0.7 will be ignored. Current value: feature_fraction=0.5287777438615707\n",
      "[LightGBM] [Warning] bagging_fraction is set=0.866778946743325, subsample=0.7 will be ignored. Current value: bagging_fraction=0.866778946743325\n",
      "[LightGBM] [Warning] bagging_freq is set=15, subsample_freq=0 will be ignored. Current value: bagging_freq=15\n",
      "Training until validation scores don't improve for 100 rounds\n",
      "[100]\ttraining's l1: 0.828481\tvalid_1's l1: 1.15375\n",
      "[200]\ttraining's l1: 0.823818\tvalid_1's l1: 1.15014\n",
      "[300]\ttraining's l1: 0.823137\tvalid_1's l1: 1.14978\n",
      "[400]\ttraining's l1: 0.822366\tvalid_1's l1: 1.14939\n",
      "[500]\ttraining's l1: 0.82095\tvalid_1's l1: 1.14839\n",
      "[600]\ttraining's l1: 0.816887\tvalid_1's l1: 1.14721\n",
      "[700]\ttraining's l1: 0.808345\tvalid_1's l1: 1.146\n",
      "[800]\ttraining's l1: 0.799702\tvalid_1's l1: 1.1448\n",
      "[900]\ttraining's l1: 0.797069\tvalid_1's l1: 1.1448\n",
      "[1000]\ttraining's l1: 0.792247\tvalid_1's l1: 1.14349\n",
      "[1100]\ttraining's l1: 0.788236\tvalid_1's l1: 1.14403\n",
      "Early stopping, best iteration is:\n",
      "[1009]\ttraining's l1: 0.791559\tvalid_1's l1: 1.14321\n"
     ]
    },
    {
     "name": "stderr",
     "output_type": "stream",
     "text": [
      "\u001b[32m[I 2021-07-18 16:15:43,620]\u001b[0m Trial 52 finished with value: -1.1427566261580466 and parameters: {'max_depth': 11, 'min_child_weight': 19, 'subsample': 0.7, 'colsample_bytree': 0.7, 'reg_lambda': 0.41191334186980505, 'reg_alpha': 2.352865259118105, 'feature_fraction': 0.5287777438615707, 'bagging_fraction': 0.866778946743325, 'bagging_freq': 15, 'num_leaves': 953, 'min_child_samples': 75}. Best is trial 43 with value: -1.1385609551395288.\u001b[0m\n"
     ]
    },
    {
     "name": "stdout",
     "output_type": "stream",
     "text": [
      "[LightGBM] [Warning] feature_fraction is set=0.4005492141548274, colsample_bytree=0.7 will be ignored. Current value: feature_fraction=0.4005492141548274\n",
      "[LightGBM] [Warning] bagging_fraction is set=0.6214482900029418, subsample=0.7 will be ignored. Current value: bagging_fraction=0.6214482900029418\n",
      "[LightGBM] [Warning] bagging_freq is set=4, subsample_freq=0 will be ignored. Current value: bagging_freq=4\n",
      "Training until validation scores don't improve for 100 rounds\n",
      "[100]\ttraining's l1: 0.837709\tvalid_1's l1: 1.15049\n",
      "[200]\ttraining's l1: 0.832324\tvalid_1's l1: 1.14714\n",
      "[300]\ttraining's l1: 0.829582\tvalid_1's l1: 1.14654\n",
      "[400]\ttraining's l1: 0.826399\tvalid_1's l1: 1.14497\n",
      "[500]\ttraining's l1: 0.820527\tvalid_1's l1: 1.14446\n",
      "[600]\ttraining's l1: 0.816722\tvalid_1's l1: 1.14372\n",
      "Early stopping, best iteration is:\n",
      "[580]\ttraining's l1: 0.817068\tvalid_1's l1: 1.14357\n"
     ]
    },
    {
     "name": "stderr",
     "output_type": "stream",
     "text": [
      "\u001b[32m[I 2021-07-18 16:16:14,780]\u001b[0m Trial 53 finished with value: -1.1431439946098267 and parameters: {'max_depth': 13, 'min_child_weight': 1, 'subsample': 0.7, 'colsample_bytree': 0.7, 'reg_lambda': 2.2520585755010725, 'reg_alpha': 3.710783997459065, 'feature_fraction': 0.4005492141548274, 'bagging_fraction': 0.6214482900029418, 'bagging_freq': 4, 'num_leaves': 365, 'min_child_samples': 69}. Best is trial 43 with value: -1.1385609551395288.\u001b[0m\n"
     ]
    },
    {
     "name": "stdout",
     "output_type": "stream",
     "text": [
      "[LightGBM] [Warning] feature_fraction is set=0.9513686052046059, colsample_bytree=0.6 will be ignored. Current value: feature_fraction=0.9513686052046059\n",
      "[LightGBM] [Warning] bagging_fraction is set=0.7559389472103609, subsample=0.9 will be ignored. Current value: bagging_fraction=0.7559389472103609\n",
      "[LightGBM] [Warning] bagging_freq is set=3, subsample_freq=0 will be ignored. Current value: bagging_freq=3\n",
      "Training until validation scores don't improve for 100 rounds\n",
      "[100]\ttraining's l1: 0.821708\tvalid_1's l1: 1.14581\n",
      "[200]\ttraining's l1: 0.813128\tvalid_1's l1: 1.14365\n",
      "[300]\ttraining's l1: 0.80699\tvalid_1's l1: 1.14342\n",
      "[400]\ttraining's l1: 0.802912\tvalid_1's l1: 1.14361\n",
      "[500]\ttraining's l1: 0.79496\tvalid_1's l1: 1.14355\n",
      "Early stopping, best iteration is:\n",
      "[426]\ttraining's l1: 0.801049\tvalid_1's l1: 1.14304\n"
     ]
    },
    {
     "name": "stderr",
     "output_type": "stream",
     "text": [
      "\u001b[32m[I 2021-07-18 16:17:03,655]\u001b[0m Trial 54 finished with value: -1.1425393635268677 and parameters: {'max_depth': 15, 'min_child_weight': 11, 'subsample': 0.9, 'colsample_bytree': 0.6, 'reg_lambda': 0.1015871113818872, 'reg_alpha': 0.6124362225693594, 'feature_fraction': 0.9513686052046059, 'bagging_fraction': 0.7559389472103609, 'bagging_freq': 3, 'num_leaves': 720, 'min_child_samples': 64}. Best is trial 43 with value: -1.1385609551395288.\u001b[0m\n"
     ]
    },
    {
     "name": "stdout",
     "output_type": "stream",
     "text": [
      "[LightGBM] [Warning] feature_fraction is set=0.923729342429974, colsample_bytree=0.6 will be ignored. Current value: feature_fraction=0.923729342429974\n",
      "[LightGBM] [Warning] bagging_fraction is set=0.7596728204063421, subsample=0.9 will be ignored. Current value: bagging_fraction=0.7596728204063421\n",
      "[LightGBM] [Warning] bagging_freq is set=18, subsample_freq=0 will be ignored. Current value: bagging_freq=18\n",
      "Training until validation scores don't improve for 100 rounds\n",
      "[100]\ttraining's l1: 0.822839\tvalid_1's l1: 1.14882\n",
      "[200]\ttraining's l1: 0.810767\tvalid_1's l1: 1.14557\n",
      "[300]\ttraining's l1: 0.807276\tvalid_1's l1: 1.14535\n",
      "Early stopping, best iteration is:\n",
      "[245]\ttraining's l1: 0.809132\tvalid_1's l1: 1.14519\n"
     ]
    },
    {
     "name": "stderr",
     "output_type": "stream",
     "text": [
      "\u001b[32m[I 2021-07-18 16:17:29,379]\u001b[0m Trial 55 finished with value: -1.144878997718142 and parameters: {'max_depth': 15, 'min_child_weight': 13, 'subsample': 0.9, 'colsample_bytree': 0.6, 'reg_lambda': 0.11089121731363767, 'reg_alpha': 0.006606695858328398, 'feature_fraction': 0.923729342429974, 'bagging_fraction': 0.7596728204063421, 'bagging_freq': 18, 'num_leaves': 713, 'min_child_samples': 63}. Best is trial 43 with value: -1.1385609551395288.\u001b[0m\n"
     ]
    },
    {
     "name": "stdout",
     "output_type": "stream",
     "text": [
      "[LightGBM] [Warning] feature_fraction is set=0.9193578214301138, colsample_bytree=0.6 will be ignored. Current value: feature_fraction=0.9193578214301138\n",
      "[LightGBM] [Warning] bagging_fraction is set=0.4904397654750956, subsample=0.5 will be ignored. Current value: bagging_fraction=0.4904397654750956\n",
      "[LightGBM] [Warning] bagging_freq is set=13, subsample_freq=0 will be ignored. Current value: bagging_freq=13\n",
      "Training until validation scores don't improve for 100 rounds\n",
      "[100]\ttraining's l1: 0.8285\tvalid_1's l1: 1.14768\n",
      "[200]\ttraining's l1: 0.820105\tvalid_1's l1: 1.14451\n"
     ]
    },
    {
     "name": "stderr",
     "output_type": "stream",
     "text": [
      "\u001b[32m[I 2021-07-18 16:17:46,598]\u001b[0m Trial 56 finished with value: -1.1439156396984167 and parameters: {'max_depth': 16, 'min_child_weight': 11, 'subsample': 0.5, 'colsample_bytree': 0.6, 'reg_lambda': 0.013887587695122706, 'reg_alpha': 0.12588654247774378, 'feature_fraction': 0.9193578214301138, 'bagging_fraction': 0.4904397654750956, 'bagging_freq': 13, 'num_leaves': 583, 'min_child_samples': 54}. Best is trial 43 with value: -1.1385609551395288.\u001b[0m\n"
     ]
    },
    {
     "name": "stdout",
     "output_type": "stream",
     "text": [
      "Early stopping, best iteration is:\n",
      "[183]\ttraining's l1: 0.821592\tvalid_1's l1: 1.14413\n",
      "[LightGBM] [Warning] feature_fraction is set=0.9521346676531587, colsample_bytree=0.5 will be ignored. Current value: feature_fraction=0.9521346676531587\n",
      "[LightGBM] [Warning] bagging_fraction is set=0.6939115417925689, subsample=0.9 will be ignored. Current value: bagging_fraction=0.6939115417925689\n",
      "[LightGBM] [Warning] bagging_freq is set=3, subsample_freq=0 will be ignored. Current value: bagging_freq=3\n",
      "Training until validation scores don't improve for 100 rounds\n",
      "[100]\ttraining's l1: 0.836509\tvalid_1's l1: 1.15158\n",
      "[200]\ttraining's l1: 0.833996\tvalid_1's l1: 1.14952\n",
      "[300]\ttraining's l1: 0.83159\tvalid_1's l1: 1.14787\n",
      "[400]\ttraining's l1: 0.826304\tvalid_1's l1: 1.14654\n",
      "[500]\ttraining's l1: 0.823728\tvalid_1's l1: 1.14537\n",
      "[600]\ttraining's l1: 0.820054\tvalid_1's l1: 1.14429\n",
      "[700]\ttraining's l1: 0.814824\tvalid_1's l1: 1.14201\n",
      "[800]\ttraining's l1: 0.80991\tvalid_1's l1: 1.14083\n",
      "[900]\ttraining's l1: 0.80562\tvalid_1's l1: 1.13968\n",
      "[1000]\ttraining's l1: 0.798792\tvalid_1's l1: 1.14\n",
      "Early stopping, best iteration is:\n",
      "[949]\ttraining's l1: 0.802548\tvalid_1's l1: 1.13954\n"
     ]
    },
    {
     "name": "stderr",
     "output_type": "stream",
     "text": [
      "\u001b[32m[I 2021-07-18 16:18:56,359]\u001b[0m Trial 57 finished with value: -1.1389581676146252 and parameters: {'max_depth': 20, 'min_child_weight': 8, 'subsample': 0.9, 'colsample_bytree': 0.5, 'reg_lambda': 0.028959273114624595, 'reg_alpha': 0.5207415165220892, 'feature_fraction': 0.9521346676531587, 'bagging_fraction': 0.6939115417925689, 'bagging_freq': 3, 'num_leaves': 435, 'min_child_samples': 38}. Best is trial 43 with value: -1.1385609551395288.\u001b[0m\n"
     ]
    },
    {
     "name": "stdout",
     "output_type": "stream",
     "text": [
      "[LightGBM] [Warning] feature_fraction is set=0.8426394422630255, colsample_bytree=0.5 will be ignored. Current value: feature_fraction=0.8426394422630255\n",
      "[LightGBM] [Warning] bagging_fraction is set=0.6786973224020519, subsample=0.9 will be ignored. Current value: bagging_fraction=0.6786973224020519\n",
      "[LightGBM] [Warning] bagging_freq is set=2, subsample_freq=0 will be ignored. Current value: bagging_freq=2\n",
      "Training until validation scores don't improve for 100 rounds\n",
      "[100]\ttraining's l1: 0.830486\tvalid_1's l1: 1.1465\n",
      "[200]\ttraining's l1: 0.828262\tvalid_1's l1: 1.14537\n",
      "[300]\ttraining's l1: 0.827024\tvalid_1's l1: 1.14514\n",
      "[400]\ttraining's l1: 0.822079\tvalid_1's l1: 1.14453\n",
      "[500]\ttraining's l1: 0.817431\tvalid_1's l1: 1.14362\n",
      "[600]\ttraining's l1: 0.807296\tvalid_1's l1: 1.14441\n",
      "Early stopping, best iteration is:\n",
      "[523]\ttraining's l1: 0.81381\tvalid_1's l1: 1.14317\n"
     ]
    },
    {
     "name": "stderr",
     "output_type": "stream",
     "text": [
      "\u001b[32m[I 2021-07-18 16:19:37,336]\u001b[0m Trial 58 finished with value: -1.1428128137753255 and parameters: {'max_depth': 20, 'min_child_weight': 8, 'subsample': 0.9, 'colsample_bytree': 0.5, 'reg_lambda': 0.0032497424282745897, 'reg_alpha': 0.5491509559405898, 'feature_fraction': 0.8426394422630255, 'bagging_fraction': 0.6786973224020519, 'bagging_freq': 2, 'num_leaves': 542, 'min_child_samples': 19}. Best is trial 43 with value: -1.1385609551395288.\u001b[0m\n"
     ]
    },
    {
     "name": "stdout",
     "output_type": "stream",
     "text": [
      "[LightGBM] [Warning] feature_fraction is set=0.9686549136032311, colsample_bytree=0.5 will be ignored. Current value: feature_fraction=0.9686549136032311\n",
      "[LightGBM] [Warning] bagging_fraction is set=0.6946810243564773, subsample=0.9 will be ignored. Current value: bagging_fraction=0.6946810243564773\n",
      "[LightGBM] [Warning] bagging_freq is set=2, subsample_freq=0 will be ignored. Current value: bagging_freq=2\n",
      "Training until validation scores don't improve for 100 rounds\n",
      "[100]\ttraining's l1: 0.824361\tvalid_1's l1: 1.14441\n",
      "[200]\ttraining's l1: 0.815753\tvalid_1's l1: 1.14279\n",
      "[300]\ttraining's l1: 0.807754\tvalid_1's l1: 1.14238\n",
      "[400]\ttraining's l1: 0.796595\tvalid_1's l1: 1.14238\n",
      "Early stopping, best iteration is:\n",
      "[390]\ttraining's l1: 0.798225\tvalid_1's l1: 1.14202\n"
     ]
    },
    {
     "name": "stderr",
     "output_type": "stream",
     "text": [
      "\u001b[32m[I 2021-07-18 16:20:21,926]\u001b[0m Trial 59 finished with value: -1.141512728340263 and parameters: {'max_depth': 15, 'min_child_weight': 10, 'subsample': 0.9, 'colsample_bytree': 0.5, 'reg_lambda': 0.036016808975457976, 'reg_alpha': 0.2950356703462805, 'feature_fraction': 0.9686549136032311, 'bagging_fraction': 0.6946810243564773, 'bagging_freq': 2, 'num_leaves': 656, 'min_child_samples': 39}. Best is trial 43 with value: -1.1385609551395288.\u001b[0m\n"
     ]
    },
    {
     "name": "stdout",
     "output_type": "stream",
     "text": [
      "[LightGBM] [Warning] feature_fraction is set=0.9613852162569169, colsample_bytree=0.5 will be ignored. Current value: feature_fraction=0.9613852162569169\n",
      "[LightGBM] [Warning] bagging_fraction is set=0.6477288434231244, subsample=0.9 will be ignored. Current value: bagging_fraction=0.6477288434231244\n",
      "[LightGBM] [Warning] bagging_freq is set=1, subsample_freq=0 will be ignored. Current value: bagging_freq=1\n",
      "Training until validation scores don't improve for 100 rounds\n",
      "[100]\ttraining's l1: 0.83076\tvalid_1's l1: 1.14926\n",
      "[200]\ttraining's l1: 0.823197\tvalid_1's l1: 1.14561\n",
      "[300]\ttraining's l1: 0.819293\tvalid_1's l1: 1.14305\n",
      "Early stopping, best iteration is:\n",
      "[279]\ttraining's l1: 0.819794\tvalid_1's l1: 1.14278\n"
     ]
    },
    {
     "name": "stderr",
     "output_type": "stream",
     "text": [
      "\u001b[32m[I 2021-07-18 16:20:44,015]\u001b[0m Trial 60 finished with value: -1.1425734088207449 and parameters: {'max_depth': 12, 'min_child_weight': 10, 'subsample': 0.9, 'colsample_bytree': 0.5, 'reg_lambda': 0.0012418695947947166, 'reg_alpha': 0.22858775032910308, 'feature_fraction': 0.9613852162569169, 'bagging_fraction': 0.6477288434231244, 'bagging_freq': 1, 'num_leaves': 498, 'min_child_samples': 36}. Best is trial 43 with value: -1.1385609551395288.\u001b[0m\n"
     ]
    },
    {
     "name": "stdout",
     "output_type": "stream",
     "text": [
      "[LightGBM] [Warning] feature_fraction is set=0.9546705817985709, colsample_bytree=0.5 will be ignored. Current value: feature_fraction=0.9546705817985709\n",
      "[LightGBM] [Warning] bagging_fraction is set=0.7110599574893635, subsample=0.9 will be ignored. Current value: bagging_fraction=0.7110599574893635\n",
      "[LightGBM] [Warning] bagging_freq is set=3, subsample_freq=0 will be ignored. Current value: bagging_freq=3\n",
      "Training until validation scores don't improve for 100 rounds\n",
      "[100]\ttraining's l1: 0.81992\tvalid_1's l1: 1.14639\n",
      "[200]\ttraining's l1: 0.80802\tvalid_1's l1: 1.14179\n",
      "[300]\ttraining's l1: 0.802419\tvalid_1's l1: 1.14101\n",
      "[400]\ttraining's l1: 0.798258\tvalid_1's l1: 1.14177\n",
      "Early stopping, best iteration is:\n",
      "[312]\ttraining's l1: 0.802103\tvalid_1's l1: 1.1409\n"
     ]
    },
    {
     "name": "stderr",
     "output_type": "stream",
     "text": [
      "\u001b[32m[I 2021-07-18 16:21:20,368]\u001b[0m Trial 61 finished with value: -1.1405980541443614 and parameters: {'max_depth': 14, 'min_child_weight': 8, 'subsample': 0.9, 'colsample_bytree': 0.5, 'reg_lambda': 0.0224776641762114, 'reg_alpha': 0.06972575803743172, 'feature_fraction': 0.9546705817985709, 'bagging_fraction': 0.7110599574893635, 'bagging_freq': 3, 'num_leaves': 746, 'min_child_samples': 37}. Best is trial 43 with value: -1.1385609551395288.\u001b[0m\n"
     ]
    },
    {
     "name": "stdout",
     "output_type": "stream",
     "text": [
      "[LightGBM] [Warning] feature_fraction is set=0.9971088563255615, colsample_bytree=0.5 will be ignored. Current value: feature_fraction=0.9971088563255615\n",
      "[LightGBM] [Warning] bagging_fraction is set=0.7124789776274123, subsample=0.9 will be ignored. Current value: bagging_fraction=0.7124789776274123\n",
      "[LightGBM] [Warning] bagging_freq is set=2, subsample_freq=0 will be ignored. Current value: bagging_freq=2\n",
      "Training until validation scores don't improve for 100 rounds\n",
      "[100]\ttraining's l1: 0.823778\tvalid_1's l1: 1.14463\n",
      "[200]\ttraining's l1: 0.815016\tvalid_1's l1: 1.1414\n",
      "[300]\ttraining's l1: 0.806559\tvalid_1's l1: 1.14021\n",
      "[400]\ttraining's l1: 0.796613\tvalid_1's l1: 1.14017\n",
      "[500]\ttraining's l1: 0.783134\tvalid_1's l1: 1.14113\n",
      "Early stopping, best iteration is:\n",
      "[452]\ttraining's l1: 0.789687\tvalid_1's l1: 1.13951\n"
     ]
    },
    {
     "name": "stderr",
     "output_type": "stream",
     "text": [
      "\u001b[32m[I 2021-07-18 16:22:09,478]\u001b[0m Trial 62 finished with value: -1.1390722729908564 and parameters: {'max_depth': 14, 'min_child_weight': 7, 'subsample': 0.9, 'colsample_bytree': 0.5, 'reg_lambda': 0.02203680006223599, 'reg_alpha': 0.02787473845639954, 'feature_fraction': 0.9971088563255615, 'bagging_fraction': 0.7124789776274123, 'bagging_freq': 2, 'num_leaves': 663, 'min_child_samples': 37}. Best is trial 43 with value: -1.1385609551395288.\u001b[0m\n"
     ]
    },
    {
     "name": "stdout",
     "output_type": "stream",
     "text": [
      "[LightGBM] [Warning] feature_fraction is set=0.872811307728327, colsample_bytree=0.5 will be ignored. Current value: feature_fraction=0.872811307728327\n",
      "[LightGBM] [Warning] bagging_fraction is set=0.5809427810988026, subsample=0.9 will be ignored. Current value: bagging_fraction=0.5809427810988026\n",
      "[LightGBM] [Warning] bagging_freq is set=2, subsample_freq=0 will be ignored. Current value: bagging_freq=2\n",
      "Training until validation scores don't improve for 100 rounds\n",
      "[100]\ttraining's l1: 0.819993\tvalid_1's l1: 1.14454\n",
      "[200]\ttraining's l1: 0.807022\tvalid_1's l1: 1.14142\n"
     ]
    },
    {
     "name": "stderr",
     "output_type": "stream",
     "text": [
      "\u001b[32m[I 2021-07-18 16:22:28,372]\u001b[0m Trial 63 finished with value: -1.1407313790576497 and parameters: {'max_depth': 13, 'min_child_weight': 8, 'subsample': 0.9, 'colsample_bytree': 0.5, 'reg_lambda': 0.025277507627639053, 'reg_alpha': 0.02427736632245913, 'feature_fraction': 0.872811307728327, 'bagging_fraction': 0.5809427810988026, 'bagging_freq': 2, 'num_leaves': 760, 'min_child_samples': 38}. Best is trial 43 with value: -1.1385609551395288.\u001b[0m\n"
     ]
    },
    {
     "name": "stdout",
     "output_type": "stream",
     "text": [
      "Early stopping, best iteration is:\n",
      "[153]\ttraining's l1: 0.811272\tvalid_1's l1: 1.14094\n",
      "[LightGBM] [Warning] feature_fraction is set=0.8813142890391311, colsample_bytree=0.5 will be ignored. Current value: feature_fraction=0.8813142890391311\n",
      "[LightGBM] [Warning] bagging_fraction is set=0.5727660176197501, subsample=0.9 will be ignored. Current value: bagging_fraction=0.5727660176197501\n",
      "[LightGBM] [Warning] bagging_freq is set=2, subsample_freq=0 will be ignored. Current value: bagging_freq=2\n",
      "Training until validation scores don't improve for 100 rounds\n",
      "[100]\ttraining's l1: 0.818876\tvalid_1's l1: 1.14324\n",
      "[200]\ttraining's l1: 0.80581\tvalid_1's l1: 1.14215\n"
     ]
    },
    {
     "name": "stderr",
     "output_type": "stream",
     "text": [
      "\u001b[32m[I 2021-07-18 16:22:48,040]\u001b[0m Trial 64 finished with value: -1.1410879605171258 and parameters: {'max_depth': 13, 'min_child_weight': 8, 'subsample': 0.9, 'colsample_bytree': 0.5, 'reg_lambda': 0.021864668763339815, 'reg_alpha': 0.06796334758430353, 'feature_fraction': 0.8813142890391311, 'bagging_fraction': 0.5727660176197501, 'bagging_freq': 2, 'num_leaves': 768, 'min_child_samples': 39}. Best is trial 43 with value: -1.1385609551395288.\u001b[0m\n"
     ]
    },
    {
     "name": "stdout",
     "output_type": "stream",
     "text": [
      "Early stopping, best iteration is:\n",
      "[164]\ttraining's l1: 0.808296\tvalid_1's l1: 1.14133\n",
      "[LightGBM] [Warning] feature_fraction is set=0.8599334450454166, colsample_bytree=0.5 will be ignored. Current value: feature_fraction=0.8599334450454166\n",
      "[LightGBM] [Warning] bagging_fraction is set=0.572926092274551, subsample=0.9 will be ignored. Current value: bagging_fraction=0.572926092274551\n",
      "[LightGBM] [Warning] bagging_freq is set=3, subsample_freq=0 will be ignored. Current value: bagging_freq=3\n",
      "Training until validation scores don't improve for 100 rounds\n",
      "[100]\ttraining's l1: 0.888509\tvalid_1's l1: 1.21743\n",
      "[200]\ttraining's l1: 0.875988\tvalid_1's l1: 1.19802\n",
      "[300]\ttraining's l1: 0.869924\tvalid_1's l1: 1.18552\n",
      "[400]\ttraining's l1: 0.867148\tvalid_1's l1: 1.18045\n",
      "[500]\ttraining's l1: 0.86357\tvalid_1's l1: 1.17381\n",
      "[600]\ttraining's l1: 0.859528\tvalid_1's l1: 1.16577\n",
      "[700]\ttraining's l1: 0.857261\tvalid_1's l1: 1.16291\n",
      "[800]\ttraining's l1: 0.855885\tvalid_1's l1: 1.16082\n",
      "[900]\ttraining's l1: 0.855349\tvalid_1's l1: 1.15977\n"
     ]
    },
    {
     "name": "stderr",
     "output_type": "stream",
     "text": [
      "\u001b[32m[I 2021-07-18 16:23:09,892]\u001b[0m Trial 65 finished with value: -1.1595358008648444 and parameters: {'max_depth': 4, 'min_child_weight': 8, 'subsample': 0.9, 'colsample_bytree': 0.5, 'reg_lambda': 0.02358435894674146, 'reg_alpha': 0.06753027462911461, 'feature_fraction': 0.8599334450454166, 'bagging_fraction': 0.572926092274551, 'bagging_freq': 3, 'num_leaves': 772, 'min_child_samples': 34}. Best is trial 43 with value: -1.1385609551395288.\u001b[0m\n"
     ]
    },
    {
     "name": "stdout",
     "output_type": "stream",
     "text": [
      "Early stopping, best iteration is:\n",
      "[856]\ttraining's l1: 0.855358\tvalid_1's l1: 1.15974\n",
      "[LightGBM] [Warning] feature_fraction is set=0.8049326883359489, colsample_bytree=0.5 will be ignored. Current value: feature_fraction=0.8049326883359489\n",
      "[LightGBM] [Warning] bagging_fraction is set=0.5879524578548947, subsample=0.9 will be ignored. Current value: bagging_fraction=0.5879524578548947\n",
      "[LightGBM] [Warning] bagging_freq is set=5, subsample_freq=0 will be ignored. Current value: bagging_freq=5\n",
      "Training until validation scores don't improve for 100 rounds\n",
      "[100]\ttraining's l1: 0.999855\tvalid_1's l1: 1.39287\n"
     ]
    },
    {
     "name": "stderr",
     "output_type": "stream",
     "text": [
      "\u001b[32m[I 2021-07-18 16:23:13,277]\u001b[0m Trial 66 finished with value: -1.3928590977069262 and parameters: {'max_depth': 1, 'min_child_weight': 7, 'subsample': 0.9, 'colsample_bytree': 0.5, 'reg_lambda': 0.010695007071272042, 'reg_alpha': 0.024245379862088585, 'feature_fraction': 0.8049326883359489, 'bagging_fraction': 0.5879524578548947, 'bagging_freq': 5, 'num_leaves': 744, 'min_child_samples': 27}. Best is trial 43 with value: -1.1385609551395288.\u001b[0m\n"
     ]
    },
    {
     "name": "stdout",
     "output_type": "stream",
     "text": [
      "Early stopping, best iteration is:\n",
      "[22]\ttraining's l1: 0.999896\tvalid_1's l1: 1.39286\n",
      "[LightGBM] [Warning] feature_fraction is set=0.9962656091770629, colsample_bytree=0.5 will be ignored. Current value: feature_fraction=0.9962656091770629\n",
      "[LightGBM] [Warning] bagging_fraction is set=0.437799045706069, subsample=0.9 will be ignored. Current value: bagging_fraction=0.437799045706069\n",
      "[LightGBM] [Warning] bagging_freq is set=3, subsample_freq=0 will be ignored. Current value: bagging_freq=3\n",
      "Training until validation scores don't improve for 100 rounds\n",
      "[100]\ttraining's l1: 0.833385\tvalid_1's l1: 1.15559\n",
      "[200]\ttraining's l1: 0.826441\tvalid_1's l1: 1.1509\n",
      "[300]\ttraining's l1: 0.82295\tvalid_1's l1: 1.15031\n",
      "[400]\ttraining's l1: 0.820312\tvalid_1's l1: 1.15006\n",
      "Early stopping, best iteration is:\n",
      "[382]\ttraining's l1: 0.820988\tvalid_1's l1: 1.14983\n"
     ]
    },
    {
     "name": "stderr",
     "output_type": "stream",
     "text": [
      "\u001b[32m[I 2021-07-18 16:23:36,336]\u001b[0m Trial 67 finished with value: -1.1495423010201051 and parameters: {'max_depth': 10, 'min_child_weight': 9, 'subsample': 0.9, 'colsample_bytree': 0.5, 'reg_lambda': 0.007165610509932154, 'reg_alpha': 0.02170322001867136, 'feature_fraction': 0.9962656091770629, 'bagging_fraction': 0.437799045706069, 'bagging_freq': 3, 'num_leaves': 816, 'min_child_samples': 41}. Best is trial 43 with value: -1.1385609551395288.\u001b[0m\n"
     ]
    },
    {
     "name": "stdout",
     "output_type": "stream",
     "text": [
      "[LightGBM] [Warning] feature_fraction is set=0.9037110853530436, colsample_bytree=0.5 will be ignored. Current value: feature_fraction=0.9037110853530436\n",
      "[LightGBM] [Warning] bagging_fraction is set=0.5440469022654696, subsample=0.9 will be ignored. Current value: bagging_fraction=0.5440469022654696\n",
      "[LightGBM] [Warning] bagging_freq is set=1, subsample_freq=0 will be ignored. Current value: bagging_freq=1\n",
      "Training until validation scores don't improve for 100 rounds\n",
      "[100]\ttraining's l1: 0.821514\tvalid_1's l1: 1.14919\n",
      "[200]\ttraining's l1: 0.812033\tvalid_1's l1: 1.14769\n",
      "Early stopping, best iteration is:\n",
      "[171]\ttraining's l1: 0.813904\tvalid_1's l1: 1.14725\n"
     ]
    },
    {
     "name": "stderr",
     "output_type": "stream",
     "text": [
      "\u001b[32m[I 2021-07-18 16:23:54,820]\u001b[0m Trial 68 finished with value: -1.1470501611968806 and parameters: {'max_depth': 13, 'min_child_weight': 7, 'subsample': 0.9, 'colsample_bytree': 0.5, 'reg_lambda': 0.0025278459802761492, 'reg_alpha': 0.0026888220407757374, 'feature_fraction': 0.9037110853530436, 'bagging_fraction': 0.5440469022654696, 'bagging_freq': 1, 'num_leaves': 870, 'min_child_samples': 48}. Best is trial 43 with value: -1.1385609551395288.\u001b[0m\n"
     ]
    },
    {
     "name": "stdout",
     "output_type": "stream",
     "text": [
      "[LightGBM] [Warning] feature_fraction is set=0.9422570713938546, colsample_bytree=0.5 will be ignored. Current value: feature_fraction=0.9422570713938546\n",
      "[LightGBM] [Warning] bagging_fraction is set=0.5029656713857454, subsample=0.9 will be ignored. Current value: bagging_fraction=0.5029656713857454\n",
      "[LightGBM] [Warning] bagging_freq is set=2, subsample_freq=0 will be ignored. Current value: bagging_freq=2\n",
      "Training until validation scores don't improve for 100 rounds\n",
      "[100]\ttraining's l1: 0.826682\tvalid_1's l1: 1.15061\n",
      "[200]\ttraining's l1: 0.817285\tvalid_1's l1: 1.14574\n",
      "[300]\ttraining's l1: 0.811795\tvalid_1's l1: 1.14477\n",
      "[400]\ttraining's l1: 0.806222\tvalid_1's l1: 1.14597\n",
      "Early stopping, best iteration is:\n",
      "[300]\ttraining's l1: 0.811795\tvalid_1's l1: 1.14477\n"
     ]
    },
    {
     "name": "stderr",
     "output_type": "stream",
     "text": [
      "\u001b[32m[I 2021-07-18 16:24:20,872]\u001b[0m Trial 69 finished with value: -1.1444988502435887 and parameters: {'max_depth': 11, 'min_child_weight': 8, 'subsample': 0.9, 'colsample_bytree': 0.5, 'reg_lambda': 0.022222859045449985, 'reg_alpha': 0.008046521851708423, 'feature_fraction': 0.9422570713938546, 'bagging_fraction': 0.5029656713857454, 'bagging_freq': 2, 'num_leaves': 688, 'min_child_samples': 22}. Best is trial 43 with value: -1.1385609551395288.\u001b[0m\n"
     ]
    },
    {
     "name": "stdout",
     "output_type": "stream",
     "text": [
      "[LightGBM] [Warning] feature_fraction is set=0.8287980237879793, colsample_bytree=0.5 will be ignored. Current value: feature_fraction=0.8287980237879793\n",
      "[LightGBM] [Warning] bagging_fraction is set=0.6163343335932476, subsample=0.9 will be ignored. Current value: bagging_fraction=0.6163343335932476\n",
      "[LightGBM] [Warning] bagging_freq is set=4, subsample_freq=0 will be ignored. Current value: bagging_freq=4\n",
      "Training until validation scores don't improve for 100 rounds\n",
      "[100]\ttraining's l1: 0.821319\tvalid_1's l1: 1.14856\n",
      "[200]\ttraining's l1: 0.811474\tvalid_1's l1: 1.14524\n",
      "[300]\ttraining's l1: 0.805804\tvalid_1's l1: 1.1451\n",
      "Early stopping, best iteration is:\n",
      "[258]\ttraining's l1: 0.807649\tvalid_1's l1: 1.14475\n"
     ]
    },
    {
     "name": "stderr",
     "output_type": "stream",
     "text": [
      "\u001b[32m[I 2021-07-18 16:24:43,612]\u001b[0m Trial 70 finished with value: -1.144515876010062 and parameters: {'max_depth': 12, 'min_child_weight': 7, 'subsample': 0.9, 'colsample_bytree': 0.5, 'reg_lambda': 0.04387801571490707, 'reg_alpha': 0.06427599603676282, 'feature_fraction': 0.8287980237879793, 'bagging_fraction': 0.6163343335932476, 'bagging_freq': 4, 'num_leaves': 746, 'min_child_samples': 32}. Best is trial 43 with value: -1.1385609551395288.\u001b[0m\n"
     ]
    },
    {
     "name": "stdout",
     "output_type": "stream",
     "text": [
      "[LightGBM] [Warning] feature_fraction is set=0.9776724541819878, colsample_bytree=0.5 will be ignored. Current value: feature_fraction=0.9776724541819878\n",
      "[LightGBM] [Warning] bagging_fraction is set=0.7093947431440484, subsample=0.9 will be ignored. Current value: bagging_fraction=0.7093947431440484\n",
      "[LightGBM] [Warning] bagging_freq is set=2, subsample_freq=0 will be ignored. Current value: bagging_freq=2\n",
      "Training until validation scores don't improve for 100 rounds\n",
      "[100]\ttraining's l1: 0.823983\tvalid_1's l1: 1.14684\n",
      "[200]\ttraining's l1: 0.811735\tvalid_1's l1: 1.14374\n",
      "[300]\ttraining's l1: 0.807057\tvalid_1's l1: 1.14314\n",
      "[400]\ttraining's l1: 0.801157\tvalid_1's l1: 1.14234\n",
      "Early stopping, best iteration is:\n",
      "[351]\ttraining's l1: 0.803711\tvalid_1's l1: 1.14213\n"
     ]
    },
    {
     "name": "stderr",
     "output_type": "stream",
     "text": [
      "\u001b[32m[I 2021-07-18 16:25:22,315]\u001b[0m Trial 71 finished with value: -1.1418543463650859 and parameters: {'max_depth': 13, 'min_child_weight': 10, 'subsample': 0.9, 'colsample_bytree': 0.5, 'reg_lambda': 0.030595149996305086, 'reg_alpha': 0.032671306020302424, 'feature_fraction': 0.9776724541819878, 'bagging_fraction': 0.7093947431440484, 'bagging_freq': 2, 'num_leaves': 640, 'min_child_samples': 39}. Best is trial 43 with value: -1.1385609551395288.\u001b[0m\n"
     ]
    },
    {
     "name": "stdout",
     "output_type": "stream",
     "text": [
      "[LightGBM] [Warning] feature_fraction is set=0.8925815010467879, colsample_bytree=0.5 will be ignored. Current value: feature_fraction=0.8925815010467879\n",
      "[LightGBM] [Warning] bagging_fraction is set=0.6955306418878366, subsample=0.9 will be ignored. Current value: bagging_fraction=0.6955306418878366\n",
      "[LightGBM] [Warning] bagging_freq is set=5, subsample_freq=0 will be ignored. Current value: bagging_freq=5\n",
      "Training until validation scores don't improve for 100 rounds\n",
      "[100]\ttraining's l1: 0.823111\tvalid_1's l1: 1.1459\n",
      "[200]\ttraining's l1: 0.812472\tvalid_1's l1: 1.14242\n",
      "[300]\ttraining's l1: 0.807321\tvalid_1's l1: 1.14206\n",
      "Early stopping, best iteration is:\n",
      "[241]\ttraining's l1: 0.809154\tvalid_1's l1: 1.14173\n"
     ]
    },
    {
     "name": "stderr",
     "output_type": "stream",
     "text": [
      "\u001b[32m[I 2021-07-18 16:25:45,885]\u001b[0m Trial 72 finished with value: -1.1414764768123993 and parameters: {'max_depth': 13, 'min_child_weight': 10, 'subsample': 0.9, 'colsample_bytree': 0.5, 'reg_lambda': 0.015851563059352793, 'reg_alpha': 0.08510769912014886, 'feature_fraction': 0.8925815010467879, 'bagging_fraction': 0.6955306418878366, 'bagging_freq': 5, 'num_leaves': 673, 'min_child_samples': 44}. Best is trial 43 with value: -1.1385609551395288.\u001b[0m\n"
     ]
    },
    {
     "name": "stdout",
     "output_type": "stream",
     "text": [
      "[LightGBM] [Warning] feature_fraction is set=0.8785936032225513, colsample_bytree=0.5 will be ignored. Current value: feature_fraction=0.8785936032225513\n",
      "[LightGBM] [Warning] bagging_fraction is set=0.6417293002578472, subsample=0.9 will be ignored. Current value: bagging_fraction=0.6417293002578472\n",
      "[LightGBM] [Warning] bagging_freq is set=5, subsample_freq=0 will be ignored. Current value: bagging_freq=5\n",
      "Training until validation scores don't improve for 100 rounds\n",
      "[100]\ttraining's l1: 0.819826\tvalid_1's l1: 1.14501\n",
      "[200]\ttraining's l1: 0.808022\tvalid_1's l1: 1.14199\n",
      "Early stopping, best iteration is:\n",
      "[188]\ttraining's l1: 0.809212\tvalid_1's l1: 1.14165\n"
     ]
    },
    {
     "name": "stderr",
     "output_type": "stream",
     "text": [
      "\u001b[32m[I 2021-07-18 16:26:06,547]\u001b[0m Trial 73 finished with value: -1.1414211492162407 and parameters: {'max_depth': 13, 'min_child_weight': 9, 'subsample': 0.9, 'colsample_bytree': 0.5, 'reg_lambda': 0.061715001266424256, 'reg_alpha': 0.08030178407142176, 'feature_fraction': 0.8785936032225513, 'bagging_fraction': 0.6417293002578472, 'bagging_freq': 5, 'num_leaves': 814, 'min_child_samples': 44}. Best is trial 43 with value: -1.1385609551395288.\u001b[0m\n"
     ]
    },
    {
     "name": "stdout",
     "output_type": "stream",
     "text": [
      "[LightGBM] [Warning] feature_fraction is set=0.869928285051724, colsample_bytree=0.5 will be ignored. Current value: feature_fraction=0.869928285051724\n",
      "[LightGBM] [Warning] bagging_fraction is set=0.5588411933030419, subsample=0.9 will be ignored. Current value: bagging_fraction=0.5588411933030419\n",
      "[LightGBM] [Warning] bagging_freq is set=3, subsample_freq=0 will be ignored. Current value: bagging_freq=3\n",
      "Training until validation scores don't improve for 100 rounds\n",
      "[100]\ttraining's l1: 0.815022\tvalid_1's l1: 1.14279\n",
      "[200]\ttraining's l1: 0.797608\tvalid_1's l1: 1.14085\n",
      "Early stopping, best iteration is:\n",
      "[182]\ttraining's l1: 0.799595\tvalid_1's l1: 1.14063\n"
     ]
    },
    {
     "name": "stderr",
     "output_type": "stream",
     "text": [
      "\u001b[32m[I 2021-07-18 16:26:28,901]\u001b[0m Trial 74 finished with value: -1.1403189577431148 and parameters: {'max_depth': 14, 'min_child_weight': 8, 'subsample': 0.9, 'colsample_bytree': 0.5, 'reg_lambda': 0.061611414185137395, 'reg_alpha': 0.01556827380729826, 'feature_fraction': 0.869928285051724, 'bagging_fraction': 0.5588411933030419, 'bagging_freq': 3, 'num_leaves': 926, 'min_child_samples': 37}. Best is trial 43 with value: -1.1385609551395288.\u001b[0m\n"
     ]
    },
    {
     "name": "stdout",
     "output_type": "stream",
     "text": [
      "[LightGBM] [Warning] feature_fraction is set=0.9302643493709472, colsample_bytree=0.5 will be ignored. Current value: feature_fraction=0.9302643493709472\n",
      "[LightGBM] [Warning] bagging_fraction is set=0.4745446630677866, subsample=0.9 will be ignored. Current value: bagging_fraction=0.4745446630677866\n",
      "[LightGBM] [Warning] bagging_freq is set=1, subsample_freq=0 will be ignored. Current value: bagging_freq=1\n",
      "Training until validation scores don't improve for 100 rounds\n",
      "[100]\ttraining's l1: 0.817763\tvalid_1's l1: 1.14319\n",
      "[200]\ttraining's l1: 0.803782\tvalid_1's l1: 1.14349\n"
     ]
    },
    {
     "name": "stderr",
     "output_type": "stream",
     "text": [
      "\u001b[32m[I 2021-07-18 16:26:49,300]\u001b[0m Trial 75 finished with value: -1.1415128944452713 and parameters: {'max_depth': 14, 'min_child_weight': 6, 'subsample': 0.9, 'colsample_bytree': 0.5, 'reg_lambda': 0.008502375742439275, 'reg_alpha': 0.004016016972537165, 'feature_fraction': 0.9302643493709472, 'bagging_fraction': 0.4745446630677866, 'bagging_freq': 1, 'num_leaves': 943, 'min_child_samples': 37}. Best is trial 43 with value: -1.1385609551395288.\u001b[0m\n"
     ]
    },
    {
     "name": "stdout",
     "output_type": "stream",
     "text": [
      "Early stopping, best iteration is:\n",
      "[127]\ttraining's l1: 0.812843\tvalid_1's l1: 1.14178\n",
      "[LightGBM] [Warning] feature_fraction is set=0.7745198845416233, colsample_bytree=0.5 will be ignored. Current value: feature_fraction=0.7745198845416233\n",
      "[LightGBM] [Warning] bagging_fraction is set=0.5641429194525188, subsample=0.8 will be ignored. Current value: bagging_fraction=0.5641429194525188\n",
      "[LightGBM] [Warning] bagging_freq is set=3, subsample_freq=0 will be ignored. Current value: bagging_freq=3\n",
      "Training until validation scores don't improve for 100 rounds\n",
      "[100]\ttraining's l1: 0.817746\tvalid_1's l1: 1.14509\n",
      "[200]\ttraining's l1: 0.804471\tvalid_1's l1: 1.14165\n",
      "[300]\ttraining's l1: 0.798084\tvalid_1's l1: 1.14174\n",
      "Early stopping, best iteration is:\n",
      "[222]\ttraining's l1: 0.80222\tvalid_1's l1: 1.14077\n"
     ]
    },
    {
     "name": "stderr",
     "output_type": "stream",
     "text": [
      "\u001b[32m[I 2021-07-18 16:27:13,014]\u001b[0m Trial 76 finished with value: -1.1403719587986598 and parameters: {'max_depth': 14, 'min_child_weight': 8, 'subsample': 0.8, 'colsample_bytree': 0.5, 'reg_lambda': 0.01972022410508936, 'reg_alpha': 0.014860161957910477, 'feature_fraction': 0.7745198845416233, 'bagging_fraction': 0.5641429194525188, 'bagging_freq': 3, 'num_leaves': 847, 'min_child_samples': 28}. Best is trial 43 with value: -1.1385609551395288.\u001b[0m\n"
     ]
    },
    {
     "name": "stdout",
     "output_type": "stream",
     "text": [
      "[LightGBM] [Warning] feature_fraction is set=0.7697822649880345, colsample_bytree=0.5 will be ignored. Current value: feature_fraction=0.7697822649880345\n",
      "[LightGBM] [Warning] bagging_fraction is set=0.596962570070344, subsample=0.8 will be ignored. Current value: bagging_fraction=0.596962570070344\n",
      "[LightGBM] [Warning] bagging_freq is set=3, subsample_freq=0 will be ignored. Current value: bagging_freq=3\n",
      "Training until validation scores don't improve for 100 rounds\n",
      "[100]\ttraining's l1: 0.821907\tvalid_1's l1: 1.15367\n",
      "[200]\ttraining's l1: 0.809265\tvalid_1's l1: 1.14975\n",
      "Early stopping, best iteration is:\n",
      "[183]\ttraining's l1: 0.810491\tvalid_1's l1: 1.14911\n"
     ]
    },
    {
     "name": "stderr",
     "output_type": "stream",
     "text": [
      "\u001b[32m[I 2021-07-18 16:27:30,838]\u001b[0m Trial 77 finished with value: -1.1488099794558781 and parameters: {'max_depth': 11, 'min_child_weight': 9, 'subsample': 0.8, 'colsample_bytree': 0.5, 'reg_lambda': 0.005863496868243526, 'reg_alpha': 0.01688392441928547, 'feature_fraction': 0.7697822649880345, 'bagging_fraction': 0.596962570070344, 'bagging_freq': 3, 'num_leaves': 859, 'min_child_samples': 13}. Best is trial 43 with value: -1.1385609551395288.\u001b[0m\n"
     ]
    },
    {
     "name": "stdout",
     "output_type": "stream",
     "text": [
      "[LightGBM] [Warning] feature_fraction is set=0.9969044742700686, colsample_bytree=0.5 will be ignored. Current value: feature_fraction=0.9969044742700686\n",
      "[LightGBM] [Warning] bagging_fraction is set=0.5370539632166709, subsample=0.8 will be ignored. Current value: bagging_fraction=0.5370539632166709\n",
      "[LightGBM] [Warning] bagging_freq is set=4, subsample_freq=0 will be ignored. Current value: bagging_freq=4\n",
      "Training until validation scores don't improve for 100 rounds\n",
      "[100]\ttraining's l1: 0.815401\tvalid_1's l1: 1.14981\n",
      "[200]\ttraining's l1: 0.793349\tvalid_1's l1: 1.14803\n"
     ]
    },
    {
     "name": "stderr",
     "output_type": "stream",
     "text": [
      "\u001b[32m[I 2021-07-18 16:27:52,977]\u001b[0m Trial 78 finished with value: -1.1468625584165764 and parameters: {'max_depth': 14, 'min_child_weight': 7, 'subsample': 0.8, 'colsample_bytree': 0.5, 'reg_lambda': 0.06538901835115421, 'reg_alpha': 0.00100514941213739, 'feature_fraction': 0.9969044742700686, 'bagging_fraction': 0.5370539632166709, 'bagging_freq': 4, 'num_leaves': 940, 'min_child_samples': 24}. Best is trial 43 with value: -1.1385609551395288.\u001b[0m\n"
     ]
    },
    {
     "name": "stdout",
     "output_type": "stream",
     "text": [
      "Early stopping, best iteration is:\n",
      "[137]\ttraining's l1: 0.807274\tvalid_1's l1: 1.14714\n",
      "[LightGBM] [Warning] feature_fraction is set=0.8568205521223803, colsample_bytree=0.5 will be ignored. Current value: feature_fraction=0.8568205521223803\n",
      "[LightGBM] [Warning] bagging_fraction is set=0.5590349555107148, subsample=0.9 will be ignored. Current value: bagging_fraction=0.5590349555107148\n",
      "[LightGBM] [Warning] bagging_freq is set=3, subsample_freq=0 will be ignored. Current value: bagging_freq=3\n",
      "Training until validation scores don't improve for 100 rounds\n",
      "[100]\ttraining's l1: 0.822566\tvalid_1's l1: 1.14923\n",
      "[200]\ttraining's l1: 0.80821\tvalid_1's l1: 1.14643\n",
      "Early stopping, best iteration is:\n",
      "[171]\ttraining's l1: 0.810985\tvalid_1's l1: 1.14556\n"
     ]
    },
    {
     "name": "stderr",
     "output_type": "stream",
     "text": [
      "\u001b[32m[I 2021-07-18 16:28:13,598]\u001b[0m Trial 79 finished with value: -1.1450473570963369 and parameters: {'max_depth': 15, 'min_child_weight': 6, 'subsample': 0.9, 'colsample_bytree': 0.5, 'reg_lambda': 866.9780321656239, 'reg_alpha': 0.00977767231933223, 'feature_fraction': 0.8568205521223803, 'bagging_fraction': 0.5590349555107148, 'bagging_freq': 3, 'num_leaves': 843, 'min_child_samples': 28}. Best is trial 43 with value: -1.1385609551395288.\u001b[0m\n"
     ]
    },
    {
     "name": "stdout",
     "output_type": "stream",
     "text": [
      "[LightGBM] [Warning] feature_fraction is set=0.9034680728536318, colsample_bytree=0.5 will be ignored. Current value: feature_fraction=0.9034680728536318\n",
      "[LightGBM] [Warning] bagging_fraction is set=0.669146589975563, subsample=0.8 will be ignored. Current value: bagging_fraction=0.669146589975563\n",
      "[LightGBM] [Warning] bagging_freq is set=1, subsample_freq=0 will be ignored. Current value: bagging_freq=1\n",
      "Training until validation scores don't improve for 100 rounds\n",
      "[100]\ttraining's l1: 0.83513\tvalid_1's l1: 1.15368\n",
      "[200]\ttraining's l1: 0.828845\tvalid_1's l1: 1.14852\n",
      "[300]\ttraining's l1: 0.826569\tvalid_1's l1: 1.14715\n",
      "[400]\ttraining's l1: 0.825016\tvalid_1's l1: 1.14612\n",
      "[500]\ttraining's l1: 0.823477\tvalid_1's l1: 1.14627\n",
      "Early stopping, best iteration is:\n",
      "[440]\ttraining's l1: 0.824301\tvalid_1's l1: 1.14548\n"
     ]
    },
    {
     "name": "stderr",
     "output_type": "stream",
     "text": [
      "\u001b[32m[I 2021-07-18 16:28:35,417]\u001b[0m Trial 80 finished with value: -1.1453480924069248 and parameters: {'max_depth': 9, 'min_child_weight': 8, 'subsample': 0.8, 'colsample_bytree': 0.5, 'reg_lambda': 0.009692912952836434, 'reg_alpha': 0.038565953777749545, 'feature_fraction': 0.9034680728536318, 'bagging_fraction': 0.669146589975563, 'bagging_freq': 1, 'num_leaves': 898, 'min_child_samples': 32}. Best is trial 43 with value: -1.1385609551395288.\u001b[0m\n"
     ]
    },
    {
     "name": "stdout",
     "output_type": "stream",
     "text": [
      "[LightGBM] [Warning] feature_fraction is set=0.7985720225552522, colsample_bytree=0.5 will be ignored. Current value: feature_fraction=0.7985720225552522\n",
      "[LightGBM] [Warning] bagging_fraction is set=0.5224897694506851, subsample=0.9 will be ignored. Current value: bagging_fraction=0.5224897694506851\n",
      "[LightGBM] [Warning] bagging_freq is set=2, subsample_freq=0 will be ignored. Current value: bagging_freq=2\n",
      "Training until validation scores don't improve for 100 rounds\n",
      "[100]\ttraining's l1: 0.85193\tvalid_1's l1: 1.1706\n",
      "[200]\ttraining's l1: 0.846752\tvalid_1's l1: 1.16248\n"
     ]
    },
    {
     "name": "stderr",
     "output_type": "stream",
     "text": [
      "\u001b[32m[I 2021-07-18 16:28:45,046]\u001b[0m Trial 81 finished with value: -1.1623964928261954 and parameters: {'max_depth': 7, 'min_child_weight': 8, 'subsample': 0.9, 'colsample_bytree': 0.5, 'reg_lambda': 0.01866547088669668, 'reg_alpha': 0.004532775892266127, 'feature_fraction': 0.7985720225552522, 'bagging_fraction': 0.5224897694506851, 'bagging_freq': 2, 'num_leaves': 792, 'min_child_samples': 48}. Best is trial 43 with value: -1.1385609551395288.\u001b[0m\n"
     ]
    },
    {
     "name": "stdout",
     "output_type": "stream",
     "text": [
      "Early stopping, best iteration is:\n",
      "[183]\ttraining's l1: 0.846793\tvalid_1's l1: 1.16243\n",
      "[LightGBM] [Warning] feature_fraction is set=0.9386038581141032, colsample_bytree=0.5 will be ignored. Current value: feature_fraction=0.9386038581141032\n",
      "[LightGBM] [Warning] bagging_fraction is set=0.6030155615239956, subsample=0.9 will be ignored. Current value: bagging_fraction=0.6030155615239956\n",
      "[LightGBM] [Warning] bagging_freq is set=3, subsample_freq=0 will be ignored. Current value: bagging_freq=3\n",
      "Training until validation scores don't improve for 100 rounds\n",
      "[100]\ttraining's l1: 0.822209\tvalid_1's l1: 1.15005\n",
      "[200]\ttraining's l1: 0.810811\tvalid_1's l1: 1.14625\n",
      "[300]\ttraining's l1: 0.803083\tvalid_1's l1: 1.14413\n",
      "Early stopping, best iteration is:\n",
      "[254]\ttraining's l1: 0.805236\tvalid_1's l1: 1.14398\n"
     ]
    },
    {
     "name": "stderr",
     "output_type": "stream",
     "text": [
      "\u001b[32m[I 2021-07-18 16:29:09,300]\u001b[0m Trial 82 finished with value: -1.1436514530746267 and parameters: {'max_depth': 12, 'min_child_weight': 9, 'subsample': 0.9, 'colsample_bytree': 0.5, 'reg_lambda': 0.025169216666247433, 'reg_alpha': 0.01477824300906437, 'feature_fraction': 0.9386038581141032, 'bagging_fraction': 0.6030155615239956, 'bagging_freq': 3, 'num_leaves': 899, 'min_child_samples': 35}. Best is trial 43 with value: -1.1385609551395288.\u001b[0m\n"
     ]
    },
    {
     "name": "stdout",
     "output_type": "stream",
     "text": [
      "[LightGBM] [Warning] feature_fraction is set=0.8334773983864818, colsample_bytree=0.5 will be ignored. Current value: feature_fraction=0.8334773983864818\n",
      "[LightGBM] [Warning] bagging_fraction is set=0.5681096963050916, subsample=0.9 will be ignored. Current value: bagging_fraction=0.5681096963050916\n",
      "[LightGBM] [Warning] bagging_freq is set=2, subsample_freq=0 will be ignored. Current value: bagging_freq=2\n",
      "Training until validation scores don't improve for 100 rounds\n",
      "[100]\ttraining's l1: 0.819652\tvalid_1's l1: 1.14433\n",
      "[200]\ttraining's l1: 0.810751\tvalid_1's l1: 1.14335\n",
      "Early stopping, best iteration is:\n",
      "[189]\ttraining's l1: 0.811252\tvalid_1's l1: 1.14316\n"
     ]
    },
    {
     "name": "stderr",
     "output_type": "stream",
     "text": [
      "\u001b[32m[I 2021-07-18 16:29:30,653]\u001b[0m Trial 83 finished with value: -1.1428906008736224 and parameters: {'max_depth': 14, 'min_child_weight': 8, 'subsample': 0.9, 'colsample_bytree': 0.5, 'reg_lambda': 0.012413336052545246, 'reg_alpha': 0.04786737211868391, 'feature_fraction': 0.8334773983864818, 'bagging_fraction': 0.5681096963050916, 'bagging_freq': 2, 'num_leaves': 732, 'min_child_samples': 40}. Best is trial 43 with value: -1.1385609551395288.\u001b[0m\n"
     ]
    },
    {
     "name": "stdout",
     "output_type": "stream",
     "text": [
      "[LightGBM] [Warning] feature_fraction is set=0.9122263446188549, colsample_bytree=0.5 will be ignored. Current value: feature_fraction=0.9122263446188549\n",
      "[LightGBM] [Warning] bagging_fraction is set=0.6386739555495377, subsample=0.9 will be ignored. Current value: bagging_fraction=0.6386739555495377\n",
      "[LightGBM] [Warning] bagging_freq is set=4, subsample_freq=0 will be ignored. Current value: bagging_freq=4\n",
      "Training until validation scores don't improve for 100 rounds\n",
      "[100]\ttraining's l1: 0.821362\tvalid_1's l1: 1.14336\n",
      "[200]\ttraining's l1: 0.809269\tvalid_1's l1: 1.13844\n",
      "Early stopping, best iteration is:\n",
      "[199]\ttraining's l1: 0.809411\tvalid_1's l1: 1.13841\n"
     ]
    },
    {
     "name": "stderr",
     "output_type": "stream",
     "text": [
      "\u001b[32m[I 2021-07-18 16:29:52,462]\u001b[0m Trial 84 finished with value: -1.1382048635640223 and parameters: {'max_depth': 13, 'min_child_weight': 7, 'subsample': 0.9, 'colsample_bytree': 0.5, 'reg_lambda': 0.15556683848793793, 'reg_alpha': 0.02289781970601578, 'feature_fraction': 0.9122263446188549, 'bagging_fraction': 0.6386739555495377, 'bagging_freq': 4, 'num_leaves': 759, 'min_child_samples': 30}. Best is trial 84 with value: -1.1382048635640223.\u001b[0m\n"
     ]
    },
    {
     "name": "stdout",
     "output_type": "stream",
     "text": [
      "[LightGBM] [Warning] feature_fraction is set=0.7095271044300667, colsample_bytree=0.6 will be ignored. Current value: feature_fraction=0.7095271044300667\n",
      "[LightGBM] [Warning] bagging_fraction is set=0.6464773762628261, subsample=0.9 will be ignored. Current value: bagging_fraction=0.6464773762628261\n",
      "[LightGBM] [Warning] bagging_freq is set=5, subsample_freq=0 will be ignored. Current value: bagging_freq=5\n",
      "Training until validation scores don't improve for 100 rounds\n",
      "[100]\ttraining's l1: 0.814142\tvalid_1's l1: 1.14507\n",
      "[200]\ttraining's l1: 0.797869\tvalid_1's l1: 1.14437\n",
      "Early stopping, best iteration is:\n",
      "[165]\ttraining's l1: 0.803374\tvalid_1's l1: 1.14323\n"
     ]
    },
    {
     "name": "stderr",
     "output_type": "stream",
     "text": [
      "\u001b[32m[I 2021-07-18 16:30:13,131]\u001b[0m Trial 85 finished with value: -1.1429544140870673 and parameters: {'max_depth': 15, 'min_child_weight': 7, 'subsample': 0.9, 'colsample_bytree': 0.6, 'reg_lambda': 0.20252453040639248, 'reg_alpha': 0.0019846386088651787, 'feature_fraction': 0.7095271044300667, 'bagging_fraction': 0.6464773762628261, 'bagging_freq': 5, 'num_leaves': 915, 'min_child_samples': 30}. Best is trial 84 with value: -1.1382048635640223.\u001b[0m\n"
     ]
    },
    {
     "name": "stdout",
     "output_type": "stream",
     "text": [
      "[LightGBM] [Warning] feature_fraction is set=0.9088656263535377, colsample_bytree=0.5 will be ignored. Current value: feature_fraction=0.9088656263535377\n",
      "[LightGBM] [Warning] bagging_fraction is set=0.4460033081957139, subsample=0.8 will be ignored. Current value: bagging_fraction=0.4460033081957139\n",
      "[LightGBM] [Warning] bagging_freq is set=4, subsample_freq=0 will be ignored. Current value: bagging_freq=4\n",
      "Training until validation scores don't improve for 100 rounds\n",
      "[100]\ttraining's l1: 0.820743\tvalid_1's l1: 1.14615\n",
      "[200]\ttraining's l1: 0.802187\tvalid_1's l1: 1.14413\n",
      "[300]\ttraining's l1: 0.790329\tvalid_1's l1: 1.14445\n",
      "Early stopping, best iteration is:\n",
      "[268]\ttraining's l1: 0.793911\tvalid_1's l1: 1.14335\n"
     ]
    },
    {
     "name": "stderr",
     "output_type": "stream",
     "text": [
      "\u001b[32m[I 2021-07-18 16:30:38,300]\u001b[0m Trial 86 finished with value: -1.142637700477491 and parameters: {'max_depth': 14, 'min_child_weight': 6, 'subsample': 0.8, 'colsample_bytree': 0.5, 'reg_lambda': 0.1518389615439362, 'reg_alpha': 0.005769646987858603, 'feature_fraction': 0.9088656263535377, 'bagging_fraction': 0.4460033081957139, 'bagging_freq': 4, 'num_leaves': 796, 'min_child_samples': 25}. Best is trial 84 with value: -1.1382048635640223.\u001b[0m\n"
     ]
    },
    {
     "name": "stdout",
     "output_type": "stream",
     "text": [
      "[LightGBM] [Warning] feature_fraction is set=0.9835175106262252, colsample_bytree=0.5 will be ignored. Current value: feature_fraction=0.9835175106262252\n",
      "[LightGBM] [Warning] bagging_fraction is set=0.7291368318690221, subsample=0.9 will be ignored. Current value: bagging_fraction=0.7291368318690221\n",
      "[LightGBM] [Warning] bagging_freq is set=6, subsample_freq=0 will be ignored. Current value: bagging_freq=6\n",
      "Training until validation scores don't improve for 100 rounds\n",
      "[100]\ttraining's l1: 0.806752\tvalid_1's l1: 1.146\n",
      "[200]\ttraining's l1: 0.790766\tvalid_1's l1: 1.14388\n",
      "[300]\ttraining's l1: 0.766974\tvalid_1's l1: 1.14302\n",
      "[400]\ttraining's l1: 0.74367\tvalid_1's l1: 1.14465\n",
      "Early stopping, best iteration is:\n",
      "[328]\ttraining's l1: 0.758577\tvalid_1's l1: 1.14152\n"
     ]
    },
    {
     "name": "stderr",
     "output_type": "stream",
     "text": [
      "\u001b[32m[I 2021-07-18 16:31:22,719]\u001b[0m Trial 87 finished with value: -1.1407298011052291 and parameters: {'max_depth': 17, 'min_child_weight': 5, 'subsample': 0.9, 'colsample_bytree': 0.5, 'reg_lambda': 0.049248553205230916, 'reg_alpha': 0.022600244581321847, 'feature_fraction': 0.9835175106262252, 'bagging_fraction': 0.7291368318690221, 'bagging_freq': 6, 'num_leaves': 980, 'min_child_samples': 5}. Best is trial 84 with value: -1.1382048635640223.\u001b[0m\n"
     ]
    },
    {
     "name": "stdout",
     "output_type": "stream",
     "text": [
      "[LightGBM] [Warning] feature_fraction is set=0.9872226510817089, colsample_bytree=0.5 will be ignored. Current value: feature_fraction=0.9872226510817089\n",
      "[LightGBM] [Warning] bagging_fraction is set=0.7400328819566702, subsample=0.9 will be ignored. Current value: bagging_fraction=0.7400328819566702\n",
      "[LightGBM] [Warning] bagging_freq is set=7, subsample_freq=0 will be ignored. Current value: bagging_freq=7\n",
      "Training until validation scores don't improve for 100 rounds\n",
      "[100]\ttraining's l1: 0.807215\tvalid_1's l1: 1.14681\n",
      "[200]\ttraining's l1: 0.790306\tvalid_1's l1: 1.14482\n",
      "[300]\ttraining's l1: 0.773557\tvalid_1's l1: 1.14379\n",
      "[400]\ttraining's l1: 0.745439\tvalid_1's l1: 1.14772\n",
      "Early stopping, best iteration is:\n",
      "[311]\ttraining's l1: 0.771503\tvalid_1's l1: 1.14333\n"
     ]
    },
    {
     "name": "stderr",
     "output_type": "stream",
     "text": [
      "\u001b[32m[I 2021-07-18 16:32:06,355]\u001b[0m Trial 88 finished with value: -1.1426912761803725 and parameters: {'max_depth': 20, 'min_child_weight': 5, 'subsample': 0.9, 'colsample_bytree': 0.5, 'reg_lambda': 0.04683613755940649, 'reg_alpha': 0.16559206955361308, 'feature_fraction': 0.9872226510817089, 'bagging_fraction': 0.7400328819566702, 'bagging_freq': 7, 'num_leaves': 984, 'min_child_samples': 7}. Best is trial 84 with value: -1.1382048635640223.\u001b[0m\n"
     ]
    },
    {
     "name": "stdout",
     "output_type": "stream",
     "text": [
      "[LightGBM] [Warning] feature_fraction is set=0.9659395841797106, colsample_bytree=0.6 will be ignored. Current value: feature_fraction=0.9659395841797106\n",
      "[LightGBM] [Warning] bagging_fraction is set=0.735264203854535, subsample=0.9 will be ignored. Current value: bagging_fraction=0.735264203854535\n",
      "[LightGBM] [Warning] bagging_freq is set=6, subsample_freq=0 will be ignored. Current value: bagging_freq=6\n",
      "Training until validation scores don't improve for 100 rounds\n",
      "[100]\ttraining's l1: 0.808968\tvalid_1's l1: 1.14242\n",
      "[200]\ttraining's l1: 0.780706\tvalid_1's l1: 1.13689\n",
      "[300]\ttraining's l1: 0.75681\tvalid_1's l1: 1.13775\n",
      "Early stopping, best iteration is:\n",
      "[205]\ttraining's l1: 0.779444\tvalid_1's l1: 1.1362\n"
     ]
    },
    {
     "name": "stderr",
     "output_type": "stream",
     "text": [
      "\u001b[32m[I 2021-07-18 16:32:39,718]\u001b[0m Trial 89 finished with value: -1.1354083510221529 and parameters: {'max_depth': 17, 'min_child_weight': 7, 'subsample': 0.9, 'colsample_bytree': 0.6, 'reg_lambda': 0.07269362050717991, 'reg_alpha': 0.01180280012636004, 'feature_fraction': 0.9659395841797106, 'bagging_fraction': 0.735264203854535, 'bagging_freq': 6, 'num_leaves': 999, 'min_child_samples': 12}. Best is trial 89 with value: -1.1354083510221529.\u001b[0m\n"
     ]
    },
    {
     "name": "stdout",
     "output_type": "stream",
     "text": [
      "[LightGBM] [Warning] feature_fraction is set=0.9570586203761693, colsample_bytree=0.6 will be ignored. Current value: feature_fraction=0.9570586203761693\n",
      "[LightGBM] [Warning] bagging_fraction is set=0.8087835860605892, subsample=0.8 will be ignored. Current value: bagging_fraction=0.8087835860605892\n",
      "[LightGBM] [Warning] bagging_freq is set=4, subsample_freq=0 will be ignored. Current value: bagging_freq=4\n",
      "Training until validation scores don't improve for 100 rounds\n",
      "[100]\ttraining's l1: 0.817258\tvalid_1's l1: 1.14627\n",
      "[200]\ttraining's l1: 0.803204\tvalid_1's l1: 1.14256\n",
      "[300]\ttraining's l1: 0.78869\tvalid_1's l1: 1.13948\n",
      "[400]\ttraining's l1: 0.774677\tvalid_1's l1: 1.13797\n",
      "Early stopping, best iteration is:\n",
      "[392]\ttraining's l1: 0.775498\tvalid_1's l1: 1.13752\n"
     ]
    },
    {
     "name": "stderr",
     "output_type": "stream",
     "text": [
      "\u001b[32m[I 2021-07-18 16:33:28,616]\u001b[0m Trial 90 finished with value: -1.1369497198723337 and parameters: {'max_depth': 19, 'min_child_weight': 7, 'subsample': 0.8, 'colsample_bytree': 0.6, 'reg_lambda': 0.28203582327507826, 'reg_alpha': 0.009984738066746041, 'feature_fraction': 0.9570586203761693, 'bagging_fraction': 0.8087835860605892, 'bagging_freq': 4, 'num_leaves': 844, 'min_child_samples': 11}. Best is trial 89 with value: -1.1354083510221529.\u001b[0m\n"
     ]
    },
    {
     "name": "stdout",
     "output_type": "stream",
     "text": [
      "[LightGBM] [Warning] feature_fraction is set=0.9545463569680472, colsample_bytree=0.6 will be ignored. Current value: feature_fraction=0.9545463569680472\n",
      "[LightGBM] [Warning] bagging_fraction is set=0.7755288918888659, subsample=0.8 will be ignored. Current value: bagging_fraction=0.7755288918888659\n",
      "[LightGBM] [Warning] bagging_freq is set=4, subsample_freq=0 will be ignored. Current value: bagging_freq=4\n",
      "Training until validation scores don't improve for 100 rounds\n",
      "[100]\ttraining's l1: 0.815536\tvalid_1's l1: 1.14348\n",
      "[200]\ttraining's l1: 0.807415\tvalid_1's l1: 1.14305\n",
      "[300]\ttraining's l1: 0.79561\tvalid_1's l1: 1.13939\n",
      "[400]\ttraining's l1: 0.776825\tvalid_1's l1: 1.1387\n",
      "Early stopping, best iteration is:\n",
      "[390]\ttraining's l1: 0.778885\tvalid_1's l1: 1.13794\n"
     ]
    },
    {
     "name": "stderr",
     "output_type": "stream",
     "text": [
      "\u001b[32m[I 2021-07-18 16:34:16,385]\u001b[0m Trial 91 finished with value: -1.137479845009874 and parameters: {'max_depth': 19, 'min_child_weight': 7, 'subsample': 0.8, 'colsample_bytree': 0.6, 'reg_lambda': 0.25627405190128144, 'reg_alpha': 0.009739810378879103, 'feature_fraction': 0.9545463569680472, 'bagging_fraction': 0.7755288918888659, 'bagging_freq': 4, 'num_leaves': 861, 'min_child_samples': 12}. Best is trial 89 with value: -1.1354083510221529.\u001b[0m\n"
     ]
    },
    {
     "name": "stdout",
     "output_type": "stream",
     "text": [
      "[LightGBM] [Warning] feature_fraction is set=0.970830009567168, colsample_bytree=0.6 will be ignored. Current value: feature_fraction=0.970830009567168\n",
      "[LightGBM] [Warning] bagging_fraction is set=0.8104959008698271, subsample=0.8 will be ignored. Current value: bagging_fraction=0.8104959008698271\n",
      "[LightGBM] [Warning] bagging_freq is set=4, subsample_freq=0 will be ignored. Current value: bagging_freq=4\n",
      "Training until validation scores don't improve for 100 rounds\n",
      "[100]\ttraining's l1: 0.812889\tvalid_1's l1: 1.14586\n",
      "[200]\ttraining's l1: 0.806494\tvalid_1's l1: 1.14547\n"
     ]
    },
    {
     "name": "stderr",
     "output_type": "stream",
     "text": [
      "\u001b[32m[I 2021-07-18 16:34:40,712]\u001b[0m Trial 92 finished with value: -1.1445811498627922 and parameters: {'max_depth': 18, 'min_child_weight': 7, 'subsample': 0.8, 'colsample_bytree': 0.6, 'reg_lambda': 0.30677062925437365, 'reg_alpha': 0.010392495488471407, 'feature_fraction': 0.970830009567168, 'bagging_fraction': 0.8104959008698271, 'bagging_freq': 4, 'num_leaves': 868, 'min_child_samples': 11}. Best is trial 89 with value: -1.1354083510221529.\u001b[0m\n"
     ]
    },
    {
     "name": "stdout",
     "output_type": "stream",
     "text": [
      "Early stopping, best iteration is:\n",
      "[127]\ttraining's l1: 0.810574\tvalid_1's l1: 1.14475\n",
      "[LightGBM] [Warning] feature_fraction is set=0.9385402015898533, colsample_bytree=0.6 will be ignored. Current value: feature_fraction=0.9385402015898533\n",
      "[LightGBM] [Warning] bagging_fraction is set=0.7700189994674795, subsample=0.8 will be ignored. Current value: bagging_fraction=0.7700189994674795\n",
      "[LightGBM] [Warning] bagging_freq is set=6, subsample_freq=0 will be ignored. Current value: bagging_freq=6\n",
      "Training until validation scores don't improve for 100 rounds\n",
      "[100]\ttraining's l1: 0.808758\tvalid_1's l1: 1.14284\n",
      "[200]\ttraining's l1: 0.789726\tvalid_1's l1: 1.13826\n",
      "[300]\ttraining's l1: 0.775069\tvalid_1's l1: 1.13887\n",
      "Early stopping, best iteration is:\n",
      "[274]\ttraining's l1: 0.779856\tvalid_1's l1: 1.1377\n"
     ]
    },
    {
     "name": "stderr",
     "output_type": "stream",
     "text": [
      "\u001b[32m[I 2021-07-18 16:35:18,473]\u001b[0m Trial 93 finished with value: -1.1368720758232584 and parameters: {'max_depth': 19, 'min_child_weight': 6, 'subsample': 0.8, 'colsample_bytree': 0.6, 'reg_lambda': 0.5307619869780047, 'reg_alpha': 0.0014878132605791715, 'feature_fraction': 0.9385402015898533, 'bagging_fraction': 0.7700189994674795, 'bagging_freq': 6, 'num_leaves': 1000, 'min_child_samples': 16}. Best is trial 89 with value: -1.1354083510221529.\u001b[0m\n"
     ]
    },
    {
     "name": "stdout",
     "output_type": "stream",
     "text": [
      "[LightGBM] [Warning] feature_fraction is set=0.9450812933465966, colsample_bytree=0.6 will be ignored. Current value: feature_fraction=0.9450812933465966\n",
      "[LightGBM] [Warning] bagging_fraction is set=0.761046493106386, subsample=0.8 will be ignored. Current value: bagging_fraction=0.761046493106386\n",
      "[LightGBM] [Warning] bagging_freq is set=7, subsample_freq=0 will be ignored. Current value: bagging_freq=7\n",
      "Training until validation scores don't improve for 100 rounds\n",
      "[100]\ttraining's l1: 0.812787\tvalid_1's l1: 1.14593\n",
      "[200]\ttraining's l1: 0.800337\tvalid_1's l1: 1.14411\n",
      "[300]\ttraining's l1: 0.788704\tvalid_1's l1: 1.14264\n",
      "[400]\ttraining's l1: 0.769706\tvalid_1's l1: 1.14104\n",
      "[500]\ttraining's l1: 0.741723\tvalid_1's l1: 1.14238\n",
      "Early stopping, best iteration is:\n",
      "[451]\ttraining's l1: 0.755756\tvalid_1's l1: 1.13974\n"
     ]
    },
    {
     "name": "stderr",
     "output_type": "stream",
     "text": [
      "\u001b[32m[I 2021-07-18 16:36:14,643]\u001b[0m Trial 94 finished with value: -1.1389646906237219 and parameters: {'max_depth': 19, 'min_child_weight': 7, 'subsample': 0.8, 'colsample_bytree': 0.6, 'reg_lambda': 0.5146757397318981, 'reg_alpha': 0.0026115937596349953, 'feature_fraction': 0.9450812933465966, 'bagging_fraction': 0.761046493106386, 'bagging_freq': 7, 'num_leaves': 927, 'min_child_samples': 10}. Best is trial 89 with value: -1.1354083510221529.\u001b[0m\n"
     ]
    },
    {
     "name": "stdout",
     "output_type": "stream",
     "text": [
      "[LightGBM] [Warning] feature_fraction is set=0.9507538965329368, colsample_bytree=0.6 will be ignored. Current value: feature_fraction=0.9507538965329368\n",
      "[LightGBM] [Warning] bagging_fraction is set=0.7744379402359777, subsample=0.8 will be ignored. Current value: bagging_fraction=0.7744379402359777\n",
      "[LightGBM] [Warning] bagging_freq is set=8, subsample_freq=0 will be ignored. Current value: bagging_freq=8\n",
      "Training until validation scores don't improve for 100 rounds\n",
      "[100]\ttraining's l1: 0.811348\tvalid_1's l1: 1.14194\n",
      "[200]\ttraining's l1: 0.796086\tvalid_1's l1: 1.14025\n",
      "[300]\ttraining's l1: 0.783091\tvalid_1's l1: 1.13939\n",
      "[400]\ttraining's l1: 0.768061\tvalid_1's l1: 1.13997\n",
      "Early stopping, best iteration is:\n",
      "[348]\ttraining's l1: 0.777078\tvalid_1's l1: 1.13832\n"
     ]
    },
    {
     "name": "stderr",
     "output_type": "stream",
     "text": [
      "\u001b[32m[I 2021-07-18 16:37:02,134]\u001b[0m Trial 95 finished with value: -1.1377930328644583 and parameters: {'max_depth': 19, 'min_child_weight': 6, 'subsample': 0.8, 'colsample_bytree': 0.6, 'reg_lambda': 0.5839047474026446, 'reg_alpha': 0.002484348173544299, 'feature_fraction': 0.9507538965329368, 'bagging_fraction': 0.7744379402359777, 'bagging_freq': 8, 'num_leaves': 970, 'min_child_samples': 10}. Best is trial 89 with value: -1.1354083510221529.\u001b[0m\n"
     ]
    },
    {
     "name": "stdout",
     "output_type": "stream",
     "text": [
      "[LightGBM] [Warning] feature_fraction is set=0.9415468989881298, colsample_bytree=0.6 will be ignored. Current value: feature_fraction=0.9415468989881298\n",
      "[LightGBM] [Warning] bagging_fraction is set=0.7734887696019177, subsample=0.8 will be ignored. Current value: bagging_fraction=0.7734887696019177\n",
      "[LightGBM] [Warning] bagging_freq is set=7, subsample_freq=0 will be ignored. Current value: bagging_freq=7\n",
      "Training until validation scores don't improve for 100 rounds\n",
      "[100]\ttraining's l1: 0.808566\tvalid_1's l1: 1.14518\n",
      "[200]\ttraining's l1: 0.797218\tvalid_1's l1: 1.14466\n",
      "Early stopping, best iteration is:\n",
      "[148]\ttraining's l1: 0.802564\tvalid_1's l1: 1.14348\n"
     ]
    },
    {
     "name": "stderr",
     "output_type": "stream",
     "text": [
      "\u001b[32m[I 2021-07-18 16:37:29,150]\u001b[0m Trial 96 finished with value: -1.1432707217902396 and parameters: {'max_depth': 19, 'min_child_weight': 6, 'subsample': 0.8, 'colsample_bytree': 0.6, 'reg_lambda': 0.5405224818227332, 'reg_alpha': 0.0028543194172461813, 'feature_fraction': 0.9415468989881298, 'bagging_fraction': 0.7734887696019177, 'bagging_freq': 7, 'num_leaves': 965, 'min_child_samples': 10}. Best is trial 89 with value: -1.1354083510221529.\u001b[0m\n"
     ]
    },
    {
     "name": "stdout",
     "output_type": "stream",
     "text": [
      "[LightGBM] [Warning] feature_fraction is set=0.9236361891430482, colsample_bytree=0.6 will be ignored. Current value: feature_fraction=0.9236361891430482\n",
      "[LightGBM] [Warning] bagging_fraction is set=0.8258295437327093, subsample=0.8 will be ignored. Current value: bagging_fraction=0.8258295437327093\n",
      "[LightGBM] [Warning] bagging_freq is set=8, subsample_freq=0 will be ignored. Current value: bagging_freq=8\n",
      "Training until validation scores don't improve for 100 rounds\n",
      "[100]\ttraining's l1: 0.808195\tvalid_1's l1: 1.14405\n",
      "[200]\ttraining's l1: 0.790263\tvalid_1's l1: 1.14064\n",
      "[300]\ttraining's l1: 0.781412\tvalid_1's l1: 1.14132\n",
      "Early stopping, best iteration is:\n",
      "[208]\ttraining's l1: 0.789123\tvalid_1's l1: 1.14002\n"
     ]
    },
    {
     "name": "stderr",
     "output_type": "stream",
     "text": [
      "\u001b[32m[I 2021-07-18 16:37:59,747]\u001b[0m Trial 97 finished with value: -1.1397806739742846 and parameters: {'max_depth': 19, 'min_child_weight': 5, 'subsample': 0.8, 'colsample_bytree': 0.6, 'reg_lambda': 0.9779584241023818, 'reg_alpha': 0.0017486854800087153, 'feature_fraction': 0.9236361891430482, 'bagging_fraction': 0.8258295437327093, 'bagging_freq': 8, 'num_leaves': 999, 'min_child_samples': 16}. Best is trial 89 with value: -1.1354083510221529.\u001b[0m\n"
     ]
    },
    {
     "name": "stdout",
     "output_type": "stream",
     "text": [
      "[LightGBM] [Warning] feature_fraction is set=0.9562952360515428, colsample_bytree=0.6 will be ignored. Current value: feature_fraction=0.9562952360515428\n",
      "[LightGBM] [Warning] bagging_fraction is set=0.854200234323331, subsample=0.8 will be ignored. Current value: bagging_fraction=0.854200234323331\n",
      "[LightGBM] [Warning] bagging_freq is set=6, subsample_freq=0 will be ignored. Current value: bagging_freq=6\n",
      "Training until validation scores don't improve for 100 rounds\n",
      "[100]\ttraining's l1: 0.81131\tvalid_1's l1: 1.14384\n",
      "[200]\ttraining's l1: 0.799572\tvalid_1's l1: 1.14029\n",
      "[300]\ttraining's l1: 0.784007\tvalid_1's l1: 1.13988\n",
      "[400]\ttraining's l1: 0.749136\tvalid_1's l1: 1.13675\n",
      "Early stopping, best iteration is:\n",
      "[393]\ttraining's l1: 0.752331\tvalid_1's l1: 1.13631\n"
     ]
    },
    {
     "name": "stderr",
     "output_type": "stream",
     "text": [
      "\u001b[32m[I 2021-07-18 16:38:56,547]\u001b[0m Trial 98 finished with value: -1.1356758652958303 and parameters: {'max_depth': 20, 'min_child_weight': 6, 'subsample': 0.8, 'colsample_bytree': 0.6, 'reg_lambda': 0.2770022588038335, 'reg_alpha': 0.0026843771615654576, 'feature_fraction': 0.9562952360515428, 'bagging_fraction': 0.854200234323331, 'bagging_freq': 6, 'num_leaves': 995, 'min_child_samples': 13}. Best is trial 89 with value: -1.1354083510221529.\u001b[0m\n"
     ]
    },
    {
     "name": "stdout",
     "output_type": "stream",
     "text": [
      "[LightGBM] [Warning] feature_fraction is set=0.9624561820021672, colsample_bytree=0.6 will be ignored. Current value: feature_fraction=0.9624561820021672\n",
      "[LightGBM] [Warning] bagging_fraction is set=0.8539574528014006, subsample=0.8 will be ignored. Current value: bagging_fraction=0.8539574528014006\n",
      "[LightGBM] [Warning] bagging_freq is set=6, subsample_freq=0 will be ignored. Current value: bagging_freq=6\n",
      "Training until validation scores don't improve for 100 rounds\n",
      "[100]\ttraining's l1: 0.809792\tvalid_1's l1: 1.14399\n",
      "[200]\ttraining's l1: 0.79949\tvalid_1's l1: 1.14364\n",
      "[300]\ttraining's l1: 0.782844\tvalid_1's l1: 1.14162\n",
      "[400]\ttraining's l1: 0.763791\tvalid_1's l1: 1.14241\n",
      "Early stopping, best iteration is:\n",
      "[313]\ttraining's l1: 0.778436\tvalid_1's l1: 1.14067\n"
     ]
    },
    {
     "name": "stderr",
     "output_type": "stream",
     "text": [
      "\u001b[32m[I 2021-07-18 16:39:42,244]\u001b[0m Trial 99 finished with value: -1.1402667221115377 and parameters: {'max_depth': 20, 'min_child_weight': 6, 'subsample': 0.8, 'colsample_bytree': 0.6, 'reg_lambda': 0.2406005987849219, 'reg_alpha': 0.0010784217042612754, 'feature_fraction': 0.9624561820021672, 'bagging_fraction': 0.8539574528014006, 'bagging_freq': 6, 'num_leaves': 996, 'min_child_samples': 16}. Best is trial 89 with value: -1.1354083510221529.\u001b[0m\n",
      "\u001b[32m[I 2021-07-18 16:39:42,246]\u001b[0m A new study created in memory with name: no-name-d3ca1a8f-28a6-45f1-adc2-c86902b93c2f\u001b[0m\n"
     ]
    },
    {
     "name": "stdout",
     "output_type": "stream",
     "text": [
      "[LightGBM] [Warning] feature_fraction is set=0.7956266725916776, colsample_bytree=0.6 will be ignored. Current value: feature_fraction=0.7956266725916776\n",
      "[LightGBM] [Warning] bagging_fraction is set=0.4860972477865573, subsample=0.5 will be ignored. Current value: bagging_fraction=0.4860972477865573\n",
      "[LightGBM] [Warning] bagging_freq is set=12, subsample_freq=0 will be ignored. Current value: bagging_freq=12\n",
      "Training until validation scores don't improve for 100 rounds\n",
      "[100]\ttraining's l1: 1.71461\tvalid_1's l1: 2.2575\n"
     ]
    },
    {
     "name": "stderr",
     "output_type": "stream",
     "text": [
      "\u001b[32m[I 2021-07-18 16:39:49,667]\u001b[0m Trial 0 finished with value: -2.227918512413644 and parameters: {'max_depth': 11, 'min_child_weight': 8, 'subsample': 0.5, 'colsample_bytree': 0.6, 'reg_lambda': 25.404922506591628, 'reg_alpha': 6.058295661027237, 'feature_fraction': 0.7956266725916776, 'bagging_fraction': 0.4860972477865573, 'bagging_freq': 12, 'num_leaves': 831, 'min_child_samples': 65}. Best is trial 0 with value: -2.227918512413644.\u001b[0m\n"
     ]
    },
    {
     "name": "stdout",
     "output_type": "stream",
     "text": [
      "Early stopping, best iteration is:\n",
      "[24]\ttraining's l1: 1.82717\tvalid_1's l1: 2.22792\n",
      "[LightGBM] [Warning] feature_fraction is set=0.3602210525928971, colsample_bytree=0.8 will be ignored. Current value: feature_fraction=0.3602210525928971\n",
      "[LightGBM] [Warning] bagging_fraction is set=0.6942523008017996, subsample=0.5 will be ignored. Current value: bagging_fraction=0.6942523008017996\n",
      "[LightGBM] [Warning] bagging_freq is set=16, subsample_freq=0 will be ignored. Current value: bagging_freq=16\n",
      "Training until validation scores don't improve for 100 rounds\n",
      "[100]\ttraining's l1: 1.94787\tvalid_1's l1: 2.28805\n",
      "[200]\ttraining's l1: 1.89829\tvalid_1's l1: 2.26835\n",
      "[300]\ttraining's l1: 1.87945\tvalid_1's l1: 2.26456\n"
     ]
    },
    {
     "name": "stderr",
     "output_type": "stream",
     "text": [
      "\u001b[32m[I 2021-07-18 16:40:00,193]\u001b[0m Trial 1 finished with value: -2.262199212131084 and parameters: {'max_depth': 13, 'min_child_weight': 11, 'subsample': 0.5, 'colsample_bytree': 0.8, 'reg_lambda': 189.61643098379537, 'reg_alpha': 0.0031180784955564403, 'feature_fraction': 0.3602210525928971, 'bagging_fraction': 0.6942523008017996, 'bagging_freq': 16, 'num_leaves': 12, 'min_child_samples': 18}. Best is trial 0 with value: -2.227918512413644.\u001b[0m\n"
     ]
    },
    {
     "name": "stdout",
     "output_type": "stream",
     "text": [
      "[400]\ttraining's l1: 1.86796\tvalid_1's l1: 2.26734\n",
      "Early stopping, best iteration is:\n",
      "[304]\ttraining's l1: 1.87842\tvalid_1's l1: 2.26428\n",
      "[LightGBM] [Warning] feature_fraction is set=0.6016873932302467, colsample_bytree=0.7 will be ignored. Current value: feature_fraction=0.6016873932302467\n",
      "[LightGBM] [Warning] bagging_fraction is set=0.24361598985952684, subsample=0.6 will be ignored. Current value: bagging_fraction=0.24361598985952684\n",
      "[LightGBM] [Warning] bagging_freq is set=18, subsample_freq=0 will be ignored. Current value: bagging_freq=18\n",
      "Training until validation scores don't improve for 100 rounds\n",
      "[100]\ttraining's l1: 1.72154\tvalid_1's l1: 2.28221\n"
     ]
    },
    {
     "name": "stderr",
     "output_type": "stream",
     "text": [
      "\u001b[32m[I 2021-07-18 16:40:08,898]\u001b[0m Trial 2 finished with value: -2.2559610446028624 and parameters: {'max_depth': 13, 'min_child_weight': 15, 'subsample': 0.6, 'colsample_bytree': 0.7, 'reg_lambda': 248.64962089050542, 'reg_alpha': 0.001123825208641509, 'feature_fraction': 0.6016873932302467, 'bagging_fraction': 0.24361598985952684, 'bagging_freq': 18, 'num_leaves': 543, 'min_child_samples': 5}. Best is trial 0 with value: -2.227918512413644.\u001b[0m\n"
     ]
    },
    {
     "name": "stdout",
     "output_type": "stream",
     "text": [
      "Early stopping, best iteration is:\n",
      "[60]\ttraining's l1: 1.75444\tvalid_1's l1: 2.25597\n",
      "[LightGBM] [Warning] feature_fraction is set=0.8904349690433897, colsample_bytree=0.9 will be ignored. Current value: feature_fraction=0.8904349690433897\n",
      "[LightGBM] [Warning] bagging_fraction is set=0.7929398205106848, subsample=0.9 will be ignored. Current value: bagging_fraction=0.7929398205106848\n",
      "[LightGBM] [Warning] bagging_freq is set=16, subsample_freq=0 will be ignored. Current value: bagging_freq=16\n",
      "Training until validation scores don't improve for 100 rounds\n",
      "[100]\ttraining's l1: 1.67956\tvalid_1's l1: 2.24926\n"
     ]
    },
    {
     "name": "stderr",
     "output_type": "stream",
     "text": [
      "\u001b[32m[I 2021-07-18 16:40:19,386]\u001b[0m Trial 3 finished with value: -2.199510280275171 and parameters: {'max_depth': 16, 'min_child_weight': 7, 'subsample': 0.9, 'colsample_bytree': 0.9, 'reg_lambda': 45.44304186358835, 'reg_alpha': 0.01908976435822988, 'feature_fraction': 0.8904349690433897, 'bagging_fraction': 0.7929398205106848, 'bagging_freq': 16, 'num_leaves': 511, 'min_child_samples': 8}. Best is trial 3 with value: -2.199510280275171.\u001b[0m\n"
     ]
    },
    {
     "name": "stdout",
     "output_type": "stream",
     "text": [
      "Early stopping, best iteration is:\n",
      "[20]\ttraining's l1: 1.82651\tvalid_1's l1: 2.19951\n",
      "[LightGBM] [Warning] feature_fraction is set=0.5181384100469519, colsample_bytree=0.8 will be ignored. Current value: feature_fraction=0.5181384100469519\n",
      "[LightGBM] [Warning] bagging_fraction is set=0.3603758828172575, subsample=0.9 will be ignored. Current value: bagging_fraction=0.3603758828172575\n",
      "[LightGBM] [Warning] bagging_freq is set=1, subsample_freq=0 will be ignored. Current value: bagging_freq=1\n",
      "Training until validation scores don't improve for 100 rounds\n",
      "[100]\ttraining's l1: 2.0579\tvalid_1's l1: 2.34788\n",
      "[200]\ttraining's l1: 2.01821\tvalid_1's l1: 2.32689\n",
      "[300]\ttraining's l1: 1.99635\tvalid_1's l1: 2.31628\n",
      "[400]\ttraining's l1: 1.98558\tvalid_1's l1: 2.31599\n",
      "[500]\ttraining's l1: 1.97754\tvalid_1's l1: 2.31421\n",
      "[600]\ttraining's l1: 1.97108\tvalid_1's l1: 2.31093\n",
      "[700]\ttraining's l1: 1.96701\tvalid_1's l1: 2.30991\n",
      "[800]\ttraining's l1: 1.96232\tvalid_1's l1: 2.30698\n",
      "[900]\ttraining's l1: 1.95784\tvalid_1's l1: 2.30522\n",
      "[1000]\ttraining's l1: 1.95512\tvalid_1's l1: 2.30513\n"
     ]
    },
    {
     "name": "stderr",
     "output_type": "stream",
     "text": [
      "\u001b[32m[I 2021-07-18 16:40:45,218]\u001b[0m Trial 4 finished with value: -2.3042415397751217 and parameters: {'max_depth': 2, 'min_child_weight': 14, 'subsample': 0.9, 'colsample_bytree': 0.8, 'reg_lambda': 0.037266333892662894, 'reg_alpha': 216.6173852179282, 'feature_fraction': 0.5181384100469519, 'bagging_fraction': 0.3603758828172575, 'bagging_freq': 1, 'num_leaves': 940, 'min_child_samples': 52}. Best is trial 3 with value: -2.199510280275171.\u001b[0m\n"
     ]
    },
    {
     "name": "stdout",
     "output_type": "stream",
     "text": [
      "Early stopping, best iteration is:\n",
      "[910]\ttraining's l1: 1.95723\tvalid_1's l1: 2.30431\n",
      "[LightGBM] [Warning] feature_fraction is set=0.2614193973298998, colsample_bytree=0.5 will be ignored. Current value: feature_fraction=0.2614193973298998\n",
      "[LightGBM] [Warning] bagging_fraction is set=0.3972942660946712, subsample=0.8 will be ignored. Current value: bagging_fraction=0.3972942660946712\n",
      "[LightGBM] [Warning] bagging_freq is set=7, subsample_freq=0 will be ignored. Current value: bagging_freq=7\n",
      "Training until validation scores don't improve for 100 rounds\n",
      "[100]\ttraining's l1: 1.75494\tvalid_1's l1: 2.30507\n"
     ]
    },
    {
     "name": "stderr",
     "output_type": "stream",
     "text": [
      "\u001b[32m[I 2021-07-18 16:40:50,568]\u001b[0m Trial 5 finished with value: -2.2917181448555337 and parameters: {'max_depth': 10, 'min_child_weight': 14, 'subsample': 0.8, 'colsample_bytree': 0.5, 'reg_lambda': 16.711250772599552, 'reg_alpha': 0.0013209895099490598, 'feature_fraction': 0.2614193973298998, 'bagging_fraction': 0.3972942660946712, 'bagging_freq': 7, 'num_leaves': 647, 'min_child_samples': 11}. Best is trial 3 with value: -2.199510280275171.\u001b[0m\n"
     ]
    },
    {
     "name": "stdout",
     "output_type": "stream",
     "text": [
      "Early stopping, best iteration is:\n",
      "[27]\ttraining's l1: 1.90442\tvalid_1's l1: 2.29172\n",
      "[LightGBM] [Warning] feature_fraction is set=0.40835452818353596, colsample_bytree=0.7 will be ignored. Current value: feature_fraction=0.40835452818353596\n",
      "[LightGBM] [Warning] bagging_fraction is set=0.8508311391657801, subsample=0.8 will be ignored. Current value: bagging_fraction=0.8508311391657801\n",
      "[LightGBM] [Warning] bagging_freq is set=11, subsample_freq=0 will be ignored. Current value: bagging_freq=11\n",
      "Training until validation scores don't improve for 100 rounds\n",
      "[100]\ttraining's l1: 1.82655\tvalid_1's l1: 2.26468\n",
      "[200]\ttraining's l1: 1.78999\tvalid_1's l1: 2.25209\n"
     ]
    },
    {
     "name": "stderr",
     "output_type": "stream",
     "text": [
      "\u001b[32m[I 2021-07-18 16:41:00,330]\u001b[0m Trial 6 finished with value: -2.246570617315314 and parameters: {'max_depth': 14, 'min_child_weight': 16, 'subsample': 0.8, 'colsample_bytree': 0.7, 'reg_lambda': 0.003261240366977416, 'reg_alpha': 152.84907097192783, 'feature_fraction': 0.40835452818353596, 'bagging_fraction': 0.8508311391657801, 'bagging_freq': 11, 'num_leaves': 72, 'min_child_samples': 12}. Best is trial 3 with value: -2.199510280275171.\u001b[0m\n"
     ]
    },
    {
     "name": "stdout",
     "output_type": "stream",
     "text": [
      "Early stopping, best iteration is:\n",
      "[142]\ttraining's l1: 1.80094\tvalid_1's l1: 2.24657\n",
      "[LightGBM] [Warning] feature_fraction is set=0.9393023225587922, colsample_bytree=0.5 will be ignored. Current value: feature_fraction=0.9393023225587922\n",
      "[LightGBM] [Warning] bagging_fraction is set=0.6632942317362496, subsample=0.7 will be ignored. Current value: bagging_fraction=0.6632942317362496\n",
      "[LightGBM] [Warning] bagging_freq is set=18, subsample_freq=0 will be ignored. Current value: bagging_freq=18\n",
      "Training until validation scores don't improve for 100 rounds\n",
      "[100]\ttraining's l1: 1.73278\tvalid_1's l1: 2.23245\n"
     ]
    },
    {
     "name": "stderr",
     "output_type": "stream",
     "text": [
      "\u001b[32m[I 2021-07-18 16:41:07,970]\u001b[0m Trial 7 finished with value: -2.2123205306447216 and parameters: {'max_depth': 20, 'min_child_weight': 7, 'subsample': 0.7, 'colsample_bytree': 0.5, 'reg_lambda': 0.05083492512617293, 'reg_alpha': 0.07621578841819417, 'feature_fraction': 0.9393023225587922, 'bagging_fraction': 0.6632942317362496, 'bagging_freq': 18, 'num_leaves': 237, 'min_child_samples': 75}. Best is trial 3 with value: -2.199510280275171.\u001b[0m\n"
     ]
    },
    {
     "name": "stdout",
     "output_type": "stream",
     "text": [
      "Early stopping, best iteration is:\n",
      "[30]\ttraining's l1: 1.79828\tvalid_1's l1: 2.21232\n",
      "[LightGBM] [Warning] feature_fraction is set=0.610966085178902, colsample_bytree=0.8 will be ignored. Current value: feature_fraction=0.610966085178902\n",
      "[LightGBM] [Warning] bagging_fraction is set=0.6983744637012862, subsample=0.7 will be ignored. Current value: bagging_fraction=0.6983744637012862\n",
      "[LightGBM] [Warning] bagging_freq is set=10, subsample_freq=0 will be ignored. Current value: bagging_freq=10\n",
      "Training until validation scores don't improve for 100 rounds\n",
      "[100]\ttraining's l1: 1.639\tvalid_1's l1: 2.26974\n"
     ]
    },
    {
     "name": "stderr",
     "output_type": "stream",
     "text": [
      "\u001b[32m[I 2021-07-18 16:41:21,455]\u001b[0m Trial 8 finished with value: -2.215923961325238 and parameters: {'max_depth': 17, 'min_child_weight': 17, 'subsample': 0.7, 'colsample_bytree': 0.8, 'reg_lambda': 0.6434199796685784, 'reg_alpha': 0.00748110754415988, 'feature_fraction': 0.610966085178902, 'bagging_fraction': 0.6983744637012862, 'bagging_freq': 10, 'num_leaves': 970, 'min_child_samples': 68}. Best is trial 3 with value: -2.199510280275171.\u001b[0m\n"
     ]
    },
    {
     "name": "stdout",
     "output_type": "stream",
     "text": [
      "Early stopping, best iteration is:\n",
      "[19]\ttraining's l1: 1.81123\tvalid_1's l1: 2.21592\n",
      "[LightGBM] [Warning] feature_fraction is set=0.3057701671701972, colsample_bytree=0.8 will be ignored. Current value: feature_fraction=0.3057701671701972\n",
      "[LightGBM] [Warning] bagging_fraction is set=0.9368792323887067, subsample=0.5 will be ignored. Current value: bagging_fraction=0.9368792323887067\n",
      "[LightGBM] [Warning] bagging_freq is set=13, subsample_freq=0 will be ignored. Current value: bagging_freq=13\n",
      "Training until validation scores don't improve for 100 rounds\n",
      "[100]\ttraining's l1: 2.23798\tvalid_1's l1: 2.46478\n",
      "[200]\ttraining's l1: 2.19373\tvalid_1's l1: 2.42611\n",
      "[300]\ttraining's l1: 2.17551\tvalid_1's l1: 2.41003\n",
      "[400]\ttraining's l1: 2.16864\tvalid_1's l1: 2.41089\n"
     ]
    },
    {
     "name": "stderr",
     "output_type": "stream",
     "text": [
      "\u001b[32m[I 2021-07-18 16:41:33,050]\u001b[0m Trial 9 finished with value: -2.4086728993490016 and parameters: {'max_depth': 1, 'min_child_weight': 18, 'subsample': 0.5, 'colsample_bytree': 0.8, 'reg_lambda': 0.0023879987580786447, 'reg_alpha': 941.8594228979871, 'feature_fraction': 0.3057701671701972, 'bagging_fraction': 0.9368792323887067, 'bagging_freq': 13, 'num_leaves': 54, 'min_child_samples': 82}. Best is trial 3 with value: -2.199510280275171.\u001b[0m\n"
     ]
    },
    {
     "name": "stdout",
     "output_type": "stream",
     "text": [
      "Early stopping, best iteration is:\n",
      "[308]\ttraining's l1: 2.17424\tvalid_1's l1: 2.4088\n",
      "[LightGBM] [Warning] feature_fraction is set=0.9950959184029602, colsample_bytree=0.9 will be ignored. Current value: feature_fraction=0.9950959184029602\n",
      "[LightGBM] [Warning] bagging_fraction is set=0.8523629258912301, subsample=0.9 will be ignored. Current value: bagging_fraction=0.8523629258912301\n",
      "[LightGBM] [Warning] bagging_freq is set=6, subsample_freq=0 will be ignored. Current value: bagging_freq=6\n",
      "Training until validation scores don't improve for 100 rounds\n",
      "[100]\ttraining's l1: 1.80771\tvalid_1's l1: 2.25678\n"
     ]
    },
    {
     "name": "stderr",
     "output_type": "stream",
     "text": [
      "\u001b[32m[I 2021-07-18 16:41:39,681]\u001b[0m Trial 10 finished with value: -2.246375802148147 and parameters: {'max_depth': 7, 'min_child_weight': 1, 'subsample': 0.9, 'colsample_bytree': 0.9, 'reg_lambda': 3.1988739521696106, 'reg_alpha': 0.27699141079543, 'feature_fraction': 0.9950959184029602, 'bagging_fraction': 0.8523629258912301, 'bagging_freq': 6, 'num_leaves': 329, 'min_child_samples': 35}. Best is trial 3 with value: -2.199510280275171.\u001b[0m\n"
     ]
    },
    {
     "name": "stdout",
     "output_type": "stream",
     "text": [
      "Early stopping, best iteration is:\n",
      "[35]\ttraining's l1: 1.85098\tvalid_1's l1: 2.24638\n",
      "[LightGBM] [Warning] feature_fraction is set=0.9977065895408466, colsample_bytree=0.5 will be ignored. Current value: feature_fraction=0.9977065895408466\n",
      "[LightGBM] [Warning] bagging_fraction is set=0.6433629228654303, subsample=0.7 will be ignored. Current value: bagging_fraction=0.6433629228654303\n",
      "[LightGBM] [Warning] bagging_freq is set=20, subsample_freq=0 will be ignored. Current value: bagging_freq=20\n",
      "Training until validation scores don't improve for 100 rounds\n",
      "[100]\ttraining's l1: 1.72552\tvalid_1's l1: 2.24494\n"
     ]
    },
    {
     "name": "stderr",
     "output_type": "stream",
     "text": [
      "\u001b[32m[I 2021-07-18 16:41:47,499]\u001b[0m Trial 11 finished with value: -2.2036810926678667 and parameters: {'max_depth': 20, 'min_child_weight': 5, 'subsample': 0.7, 'colsample_bytree': 0.5, 'reg_lambda': 0.11269926118936502, 'reg_alpha': 0.07367153520113874, 'feature_fraction': 0.9977065895408466, 'bagging_fraction': 0.6433629228654303, 'bagging_freq': 20, 'num_leaves': 295, 'min_child_samples': 100}. Best is trial 3 with value: -2.199510280275171.\u001b[0m\n"
     ]
    },
    {
     "name": "stdout",
     "output_type": "stream",
     "text": [
      "Early stopping, best iteration is:\n",
      "[21]\ttraining's l1: 1.8405\tvalid_1's l1: 2.20368\n",
      "[LightGBM] [Warning] feature_fraction is set=0.8371867526771746, colsample_bytree=0.6 will be ignored. Current value: feature_fraction=0.8371867526771746\n",
      "[LightGBM] [Warning] bagging_fraction is set=0.582079905070133, subsample=0.8 will be ignored. Current value: bagging_fraction=0.582079905070133\n",
      "[LightGBM] [Warning] bagging_freq is set=20, subsample_freq=0 will be ignored. Current value: bagging_freq=20\n",
      "Training until validation scores don't improve for 100 rounds\n",
      "[100]\ttraining's l1: 1.70228\tvalid_1's l1: 2.24582\n"
     ]
    },
    {
     "name": "stderr",
     "output_type": "stream",
     "text": [
      "\u001b[32m[I 2021-07-18 16:41:56,415]\u001b[0m Trial 12 finished with value: -2.216569419892771 and parameters: {'max_depth': 19, 'min_child_weight': 2, 'subsample': 0.8, 'colsample_bytree': 0.6, 'reg_lambda': 0.20763011096522846, 'reg_alpha': 0.03314889180311729, 'feature_fraction': 0.8371867526771746, 'bagging_fraction': 0.582079905070133, 'bagging_freq': 20, 'num_leaves': 379, 'min_child_samples': 94}. Best is trial 3 with value: -2.199510280275171.\u001b[0m\n"
     ]
    },
    {
     "name": "stdout",
     "output_type": "stream",
     "text": [
      "Early stopping, best iteration is:\n",
      "[32]\ttraining's l1: 1.76381\tvalid_1's l1: 2.21657\n",
      "[LightGBM] [Warning] feature_fraction is set=0.7818049626812026, colsample_bytree=0.9 will be ignored. Current value: feature_fraction=0.7818049626812026\n",
      "[LightGBM] [Warning] bagging_fraction is set=0.8202931299711803, subsample=0.6 will be ignored. Current value: bagging_fraction=0.8202931299711803\n",
      "[LightGBM] [Warning] bagging_freq is set=20, subsample_freq=0 will be ignored. Current value: bagging_freq=20\n",
      "Training until validation scores don't improve for 100 rounds\n",
      "[100]\ttraining's l1: 1.66313\tvalid_1's l1: 2.26646\n"
     ]
    },
    {
     "name": "stderr",
     "output_type": "stream",
     "text": [
      "\u001b[32m[I 2021-07-18 16:42:08,677]\u001b[0m Trial 13 finished with value: -2.2199307929108767 and parameters: {'max_depth': 17, 'min_child_weight': 5, 'subsample': 0.6, 'colsample_bytree': 0.9, 'reg_lambda': 3.7869789586313938, 'reg_alpha': 2.4626605952642238, 'feature_fraction': 0.7818049626812026, 'bagging_fraction': 0.8202931299711803, 'bagging_freq': 20, 'num_leaves': 670, 'min_child_samples': 98}. Best is trial 3 with value: -2.199510280275171.\u001b[0m\n"
     ]
    },
    {
     "name": "stdout",
     "output_type": "stream",
     "text": [
      "Early stopping, best iteration is:\n",
      "[24]\ttraining's l1: 1.77376\tvalid_1's l1: 2.21993\n",
      "[LightGBM] [Warning] feature_fraction is set=0.9087521815353697, colsample_bytree=0.6 will be ignored. Current value: feature_fraction=0.9087521815353697\n",
      "[LightGBM] [Warning] bagging_fraction is set=0.583988397255075, subsample=0.6 will be ignored. Current value: bagging_fraction=0.583988397255075\n",
      "[LightGBM] [Warning] bagging_freq is set=15, subsample_freq=0 will be ignored. Current value: bagging_freq=15\n",
      "Training until validation scores don't improve for 100 rounds\n",
      "[100]\ttraining's l1: 1.70647\tvalid_1's l1: 2.27839\n"
     ]
    },
    {
     "name": "stderr",
     "output_type": "stream",
     "text": [
      "\u001b[32m[I 2021-07-18 16:42:18,357]\u001b[0m Trial 14 finished with value: -2.2548232156167556 and parameters: {'max_depth': 17, 'min_child_weight': 4, 'subsample': 0.6, 'colsample_bytree': 0.6, 'reg_lambda': 795.7864263374552, 'reg_alpha': 0.024000878714380867, 'feature_fraction': 0.9087521815353697, 'bagging_fraction': 0.583988397255075, 'bagging_freq': 15, 'num_leaves': 442, 'min_child_samples': 32}. Best is trial 3 with value: -2.199510280275171.\u001b[0m\n"
     ]
    },
    {
     "name": "stdout",
     "output_type": "stream",
     "text": [
      "Early stopping, best iteration is:\n",
      "[28]\ttraining's l1: 1.82981\tvalid_1's l1: 2.25482\n",
      "[LightGBM] [Warning] feature_fraction is set=0.7116576908119934, colsample_bytree=0.5 will be ignored. Current value: feature_fraction=0.7116576908119934\n",
      "[LightGBM] [Warning] bagging_fraction is set=0.7663847992652348, subsample=0.7 will be ignored. Current value: bagging_fraction=0.7663847992652348\n",
      "[LightGBM] [Warning] bagging_freq is set=17, subsample_freq=0 will be ignored. Current value: bagging_freq=17\n",
      "Training until validation scores don't improve for 100 rounds\n",
      "[100]\ttraining's l1: 1.74023\tvalid_1's l1: 2.23133\n"
     ]
    },
    {
     "name": "stderr",
     "output_type": "stream",
     "text": [
      "\u001b[32m[I 2021-07-18 16:42:25,917]\u001b[0m Trial 15 finished with value: -2.219158662458955 and parameters: {'max_depth': 20, 'min_child_weight': 9, 'subsample': 0.7, 'colsample_bytree': 0.5, 'reg_lambda': 0.011338120391621716, 'reg_alpha': 0.35075115820349284, 'feature_fraction': 0.7116576908119934, 'bagging_fraction': 0.7663847992652348, 'bagging_freq': 17, 'num_leaves': 202, 'min_child_samples': 50}. Best is trial 3 with value: -2.199510280275171.\u001b[0m\n"
     ]
    },
    {
     "name": "stdout",
     "output_type": "stream",
     "text": [
      "Early stopping, best iteration is:\n",
      "[49]\ttraining's l1: 1.77813\tvalid_1's l1: 2.21916\n",
      "[LightGBM] [Warning] feature_fraction is set=0.9998273743336634, colsample_bytree=0.9 will be ignored. Current value: feature_fraction=0.9998273743336634\n",
      "[LightGBM] [Warning] bagging_fraction is set=0.9863903306746356, subsample=0.8 will be ignored. Current value: bagging_fraction=0.9863903306746356\n",
      "[LightGBM] [Warning] bagging_freq is set=20, subsample_freq=0 will be ignored. Current value: bagging_freq=20\n",
      "Training until validation scores don't improve for 100 rounds\n",
      "[100]\ttraining's l1: 1.68338\tvalid_1's l1: 2.25121\n"
     ]
    },
    {
     "name": "stderr",
     "output_type": "stream",
     "text": [
      "\u001b[32m[I 2021-07-18 16:42:37,467]\u001b[0m Trial 16 finished with value: -2.19495265795665 and parameters: {'max_depth': 15, 'min_child_weight': 5, 'subsample': 0.8, 'colsample_bytree': 0.9, 'reg_lambda': 0.18569114324856548, 'reg_alpha': 0.2661486317935301, 'feature_fraction': 0.9998273743336634, 'bagging_fraction': 0.9863903306746356, 'bagging_freq': 20, 'num_leaves': 524, 'min_child_samples': 27}. Best is trial 16 with value: -2.19495265795665.\u001b[0m\n"
     ]
    },
    {
     "name": "stdout",
     "output_type": "stream",
     "text": [
      "Early stopping, best iteration is:\n",
      "[24]\ttraining's l1: 1.77593\tvalid_1's l1: 2.19495\n",
      "[LightGBM] [Warning] feature_fraction is set=0.887727957789367, colsample_bytree=0.9 will be ignored. Current value: feature_fraction=0.887727957789367\n",
      "[LightGBM] [Warning] bagging_fraction is set=0.9990466621680258, subsample=0.9 will be ignored. Current value: bagging_fraction=0.9990466621680258\n",
      "[LightGBM] [Warning] bagging_freq is set=14, subsample_freq=0 will be ignored. Current value: bagging_freq=14\n",
      "Training until validation scores don't improve for 100 rounds\n",
      "[100]\ttraining's l1: 1.67256\tvalid_1's l1: 2.25889\n"
     ]
    },
    {
     "name": "stderr",
     "output_type": "stream",
     "text": [
      "\u001b[32m[I 2021-07-18 16:42:49,118]\u001b[0m Trial 17 finished with value: -2.2147965866242387 and parameters: {'max_depth': 15, 'min_child_weight': 11, 'subsample': 0.9, 'colsample_bytree': 0.9, 'reg_lambda': 32.694023749369734, 'reg_alpha': 6.693052586617626, 'feature_fraction': 0.887727957789367, 'bagging_fraction': 0.9990466621680258, 'bagging_freq': 14, 'num_leaves': 555, 'min_child_samples': 28}. Best is trial 16 with value: -2.19495265795665.\u001b[0m\n"
     ]
    },
    {
     "name": "stdout",
     "output_type": "stream",
     "text": [
      "Early stopping, best iteration is:\n",
      "[21]\ttraining's l1: 1.81345\tvalid_1's l1: 2.2148\n",
      "[LightGBM] [Warning] feature_fraction is set=0.6946828315626927, colsample_bytree=0.9 will be ignored. Current value: feature_fraction=0.6946828315626927\n",
      "[LightGBM] [Warning] bagging_fraction is set=0.9604012957710968, subsample=0.8 will be ignored. Current value: bagging_fraction=0.9604012957710968\n",
      "[LightGBM] [Warning] bagging_freq is set=9, subsample_freq=0 will be ignored. Current value: bagging_freq=9\n",
      "Training until validation scores don't improve for 100 rounds\n",
      "[100]\ttraining's l1: 1.75641\tvalid_1's l1: 2.22315\n"
     ]
    },
    {
     "name": "stderr",
     "output_type": "stream",
     "text": [
      "\u001b[32m[I 2021-07-18 16:42:57,393]\u001b[0m Trial 18 finished with value: -2.2153756103703355 and parameters: {'max_depth': 8, 'min_child_weight': 3, 'subsample': 0.8, 'colsample_bytree': 0.9, 'reg_lambda': 0.7526762268016637, 'reg_alpha': 0.6292433974885723, 'feature_fraction': 0.6946828315626927, 'bagging_fraction': 0.9604012957710968, 'bagging_freq': 9, 'num_leaves': 713, 'min_child_samples': 23}. Best is trial 16 with value: -2.19495265795665.\u001b[0m\n"
     ]
    },
    {
     "name": "stdout",
     "output_type": "stream",
     "text": [
      "Early stopping, best iteration is:\n",
      "[67]\ttraining's l1: 1.76831\tvalid_1's l1: 2.2154\n",
      "[LightGBM] [Warning] feature_fraction is set=0.996719559613555, colsample_bytree=0.9 will be ignored. Current value: feature_fraction=0.996719559613555\n",
      "[LightGBM] [Warning] bagging_fraction is set=0.9071853620239274, subsample=0.9 will be ignored. Current value: bagging_fraction=0.9071853620239274\n",
      "[LightGBM] [Warning] bagging_freq is set=18, subsample_freq=0 will be ignored. Current value: bagging_freq=18\n",
      "Training until validation scores don't improve for 100 rounds\n",
      "[100]\ttraining's l1: 1.68784\tvalid_1's l1: 2.24624\n"
     ]
    },
    {
     "name": "stderr",
     "output_type": "stream",
     "text": [
      "\u001b[32m[I 2021-07-18 16:43:08,042]\u001b[0m Trial 19 finished with value: -2.2016879596399597 and parameters: {'max_depth': 16, 'min_child_weight': 6, 'subsample': 0.9, 'colsample_bytree': 0.9, 'reg_lambda': 4.57795853308573, 'reg_alpha': 0.009404930742316568, 'feature_fraction': 0.996719559613555, 'bagging_fraction': 0.9071853620239274, 'bagging_freq': 18, 'num_leaves': 458, 'min_child_samples': 43}. Best is trial 16 with value: -2.19495265795665.\u001b[0m\n"
     ]
    },
    {
     "name": "stdout",
     "output_type": "stream",
     "text": [
      "Early stopping, best iteration is:\n",
      "[24]\ttraining's l1: 1.78694\tvalid_1's l1: 2.20169\n",
      "[LightGBM] [Warning] feature_fraction is set=0.6972630935625492, colsample_bytree=0.8 will be ignored. Current value: feature_fraction=0.6972630935625492\n",
      "[LightGBM] [Warning] bagging_fraction is set=0.7798762331945204, subsample=0.8 will be ignored. Current value: bagging_fraction=0.7798762331945204\n",
      "[LightGBM] [Warning] bagging_freq is set=15, subsample_freq=0 will be ignored. Current value: bagging_freq=15\n",
      "Training until validation scores don't improve for 100 rounds\n",
      "[100]\ttraining's l1: 1.69768\tvalid_1's l1: 2.24963\n"
     ]
    },
    {
     "name": "stderr",
     "output_type": "stream",
     "text": [
      "\u001b[32m[I 2021-07-18 16:43:16,944]\u001b[0m Trial 20 finished with value: -2.232580282334678 and parameters: {'max_depth': 11, 'min_child_weight': 9, 'subsample': 0.8, 'colsample_bytree': 0.8, 'reg_lambda': 123.47575919348076, 'reg_alpha': 0.12077868698722008, 'feature_fraction': 0.6972630935625492, 'bagging_fraction': 0.7798762331945204, 'bagging_freq': 15, 'num_leaves': 828, 'min_child_samples': 40}. Best is trial 16 with value: -2.19495265795665.\u001b[0m\n"
     ]
    },
    {
     "name": "stdout",
     "output_type": "stream",
     "text": [
      "Early stopping, best iteration is:\n",
      "[42]\ttraining's l1: 1.74505\tvalid_1's l1: 2.23259\n",
      "[LightGBM] [Warning] feature_fraction is set=0.9899231894109091, colsample_bytree=0.9 will be ignored. Current value: feature_fraction=0.9899231894109091\n",
      "[LightGBM] [Warning] bagging_fraction is set=0.9166480575710368, subsample=0.9 will be ignored. Current value: bagging_fraction=0.9166480575710368\n",
      "[LightGBM] [Warning] bagging_freq is set=18, subsample_freq=0 will be ignored. Current value: bagging_freq=18\n",
      "Training until validation scores don't improve for 100 rounds\n",
      "[100]\ttraining's l1: 1.69379\tvalid_1's l1: 2.24329\n"
     ]
    },
    {
     "name": "stderr",
     "output_type": "stream",
     "text": [
      "\u001b[32m[I 2021-07-18 16:43:27,521]\u001b[0m Trial 21 finished with value: -2.199524712771429 and parameters: {'max_depth': 16, 'min_child_weight': 6, 'subsample': 0.9, 'colsample_bytree': 0.9, 'reg_lambda': 2.2946303981484633, 'reg_alpha': 0.009278822607348212, 'feature_fraction': 0.9899231894109091, 'bagging_fraction': 0.9166480575710368, 'bagging_freq': 18, 'num_leaves': 438, 'min_child_samples': 42}. Best is trial 16 with value: -2.19495265795665.\u001b[0m\n"
     ]
    },
    {
     "name": "stdout",
     "output_type": "stream",
     "text": [
      "Early stopping, best iteration is:\n",
      "[25]\ttraining's l1: 1.78222\tvalid_1's l1: 2.19952\n",
      "[LightGBM] [Warning] feature_fraction is set=0.9422734773712216, colsample_bytree=0.9 will be ignored. Current value: feature_fraction=0.9422734773712216\n",
      "[LightGBM] [Warning] bagging_fraction is set=0.9886535355967367, subsample=0.9 will be ignored. Current value: bagging_fraction=0.9886535355967367\n",
      "[LightGBM] [Warning] bagging_freq is set=20, subsample_freq=0 will be ignored. Current value: bagging_freq=20\n",
      "Training until validation scores don't improve for 100 rounds\n",
      "[100]\ttraining's l1: 1.6735\tvalid_1's l1: 2.2555\n"
     ]
    },
    {
     "name": "stderr",
     "output_type": "stream",
     "text": [
      "\u001b[32m[I 2021-07-18 16:43:39,513]\u001b[0m Trial 22 finished with value: -2.2039841769116597 and parameters: {'max_depth': 18, 'min_child_weight': 7, 'subsample': 0.9, 'colsample_bytree': 0.9, 'reg_lambda': 0.40421306435849497, 'reg_alpha': 0.010556173872190593, 'feature_fraction': 0.9422734773712216, 'bagging_fraction': 0.9886535355967367, 'bagging_freq': 20, 'num_leaves': 576, 'min_child_samples': 19}. Best is trial 16 with value: -2.19495265795665.\u001b[0m\n"
     ]
    },
    {
     "name": "stdout",
     "output_type": "stream",
     "text": [
      "Early stopping, best iteration is:\n",
      "[24]\ttraining's l1: 1.77295\tvalid_1's l1: 2.20398\n",
      "[LightGBM] [Warning] feature_fraction is set=0.8481462061310151, colsample_bytree=0.9 will be ignored. Current value: feature_fraction=0.8481462061310151\n",
      "[LightGBM] [Warning] bagging_fraction is set=0.907492614537287, subsample=0.9 will be ignored. Current value: bagging_fraction=0.907492614537287\n",
      "[LightGBM] [Warning] bagging_freq is set=17, subsample_freq=0 will be ignored. Current value: bagging_freq=17\n",
      "Training until validation scores don't improve for 100 rounds\n",
      "[100]\ttraining's l1: 1.69834\tvalid_1's l1: 2.23869\n"
     ]
    },
    {
     "name": "stderr",
     "output_type": "stream",
     "text": [
      "\u001b[32m[I 2021-07-18 16:43:49,023]\u001b[0m Trial 23 finished with value: -2.209838824800065 and parameters: {'max_depth': 15, 'min_child_weight': 3, 'subsample': 0.9, 'colsample_bytree': 0.9, 'reg_lambda': 2.026273167367702, 'reg_alpha': 0.0037111096448258856, 'feature_fraction': 0.8481462061310151, 'bagging_fraction': 0.907492614537287, 'bagging_freq': 17, 'num_leaves': 419, 'min_child_samples': 45}. Best is trial 16 with value: -2.19495265795665.\u001b[0m\n"
     ]
    },
    {
     "name": "stdout",
     "output_type": "stream",
     "text": [
      "Early stopping, best iteration is:\n",
      "[28]\ttraining's l1: 1.76997\tvalid_1's l1: 2.20984\n",
      "[LightGBM] [Warning] feature_fraction is set=0.9982312049510724, colsample_bytree=0.8 will be ignored. Current value: feature_fraction=0.9982312049510724\n",
      "[LightGBM] [Warning] bagging_fraction is set=0.7490141231160359, subsample=0.8 will be ignored. Current value: bagging_fraction=0.7490141231160359\n",
      "[LightGBM] [Warning] bagging_freq is set=19, subsample_freq=0 will be ignored. Current value: bagging_freq=19\n",
      "Training until validation scores don't improve for 100 rounds\n",
      "[100]\ttraining's l1: 1.68667\tvalid_1's l1: 2.25208\n"
     ]
    },
    {
     "name": "stderr",
     "output_type": "stream",
     "text": [
      "\u001b[32m[I 2021-07-18 16:43:58,556]\u001b[0m Trial 24 finished with value: -2.2054479457370864 and parameters: {'max_depth': 13, 'min_child_weight': 10, 'subsample': 0.8, 'colsample_bytree': 0.8, 'reg_lambda': 51.36802282551335, 'reg_alpha': 1.5074641427122122, 'feature_fraction': 0.9982312049510724, 'bagging_fraction': 0.7490141231160359, 'bagging_freq': 19, 'num_leaves': 499, 'min_child_samples': 60}. Best is trial 16 with value: -2.19495265795665.\u001b[0m\n"
     ]
    },
    {
     "name": "stdout",
     "output_type": "stream",
     "text": [
      "Early stopping, best iteration is:\n",
      "[23]\ttraining's l1: 1.8056\tvalid_1's l1: 2.20545\n",
      "[LightGBM] [Warning] feature_fraction is set=0.9409355144657868, colsample_bytree=0.9 will be ignored. Current value: feature_fraction=0.9409355144657868\n",
      "[LightGBM] [Warning] bagging_fraction is set=0.8800455824477547, subsample=0.9 will be ignored. Current value: bagging_fraction=0.8800455824477547\n",
      "[LightGBM] [Warning] bagging_freq is set=16, subsample_freq=0 will be ignored. Current value: bagging_freq=16\n",
      "Training until validation scores don't improve for 100 rounds\n",
      "[100]\ttraining's l1: 1.66469\tvalid_1's l1: 2.26793\n"
     ]
    },
    {
     "name": "stderr",
     "output_type": "stream",
     "text": [
      "\u001b[32m[I 2021-07-18 16:44:10,706]\u001b[0m Trial 25 finished with value: -2.1976576110996424 and parameters: {'max_depth': 18, 'min_child_weight': 1, 'subsample': 0.9, 'colsample_bytree': 0.9, 'reg_lambda': 10.66179150339304, 'reg_alpha': 0.024831221837354686, 'feature_fraction': 0.9409355144657868, 'bagging_fraction': 0.8800455824477547, 'bagging_freq': 16, 'num_leaves': 619, 'min_child_samples': 5}. Best is trial 16 with value: -2.19495265795665.\u001b[0m\n"
     ]
    },
    {
     "name": "stdout",
     "output_type": "stream",
     "text": [
      "Early stopping, best iteration is:\n",
      "[22]\ttraining's l1: 1.78543\tvalid_1's l1: 2.19766\n",
      "[LightGBM] [Warning] feature_fraction is set=0.7735938872013363, colsample_bytree=0.8 will be ignored. Current value: feature_fraction=0.7735938872013363\n",
      "[LightGBM] [Warning] bagging_fraction is set=0.8545561551916585, subsample=0.8 will be ignored. Current value: bagging_fraction=0.8545561551916585\n",
      "[LightGBM] [Warning] bagging_freq is set=14, subsample_freq=0 will be ignored. Current value: bagging_freq=14\n",
      "Training until validation scores don't improve for 100 rounds\n",
      "[100]\ttraining's l1: 1.64947\tvalid_1's l1: 2.27678\n"
     ]
    },
    {
     "name": "stderr",
     "output_type": "stream",
     "text": [
      "\u001b[32m[I 2021-07-18 16:44:23,626]\u001b[0m Trial 26 finished with value: -2.2173240864267196 and parameters: {'max_depth': 18, 'min_child_weight': 1, 'subsample': 0.8, 'colsample_bytree': 0.8, 'reg_lambda': 12.83509443272707, 'reg_alpha': 0.18437367052860515, 'feature_fraction': 0.7735938872013363, 'bagging_fraction': 0.8545561551916585, 'bagging_freq': 14, 'num_leaves': 749, 'min_child_samples': 5}. Best is trial 16 with value: -2.19495265795665.\u001b[0m\n"
     ]
    },
    {
     "name": "stdout",
     "output_type": "stream",
     "text": [
      "Early stopping, best iteration is:\n",
      "[22]\ttraining's l1: 1.78131\tvalid_1's l1: 2.21732\n",
      "[LightGBM] [Warning] feature_fraction is set=0.8743423859528333, colsample_bytree=0.9 will be ignored. Current value: feature_fraction=0.8743423859528333\n",
      "[LightGBM] [Warning] bagging_fraction is set=0.9940257469914675, subsample=0.9 will be ignored. Current value: bagging_fraction=0.9940257469914675\n",
      "[LightGBM] [Warning] bagging_freq is set=16, subsample_freq=0 will be ignored. Current value: bagging_freq=16\n",
      "Training until validation scores don't improve for 100 rounds\n",
      "[100]\ttraining's l1: 1.6726\tvalid_1's l1: 2.29089\n"
     ]
    },
    {
     "name": "stderr",
     "output_type": "stream",
     "text": [
      "\u001b[32m[I 2021-07-18 16:44:36,498]\u001b[0m Trial 27 finished with value: -2.2485925695788618 and parameters: {'max_depth': 15, 'min_child_weight': 3, 'subsample': 0.9, 'colsample_bytree': 0.9, 'reg_lambda': 892.4996319917683, 'reg_alpha': 0.04182179910094168, 'feature_fraction': 0.8743423859528333, 'bagging_fraction': 0.9940257469914675, 'bagging_freq': 16, 'num_leaves': 630, 'min_child_samples': 12}. Best is trial 16 with value: -2.19495265795665.\u001b[0m\n"
     ]
    },
    {
     "name": "stdout",
     "output_type": "stream",
     "text": [
      "Early stopping, best iteration is:\n",
      "[28]\ttraining's l1: 1.80565\tvalid_1's l1: 2.24859\n",
      "[LightGBM] [Warning] feature_fraction is set=0.9447613574039041, colsample_bytree=0.7 will be ignored. Current value: feature_fraction=0.9447613574039041\n",
      "[LightGBM] [Warning] bagging_fraction is set=0.8023296847516472, subsample=0.8 will be ignored. Current value: bagging_fraction=0.8023296847516472\n",
      "[LightGBM] [Warning] bagging_freq is set=1, subsample_freq=0 will be ignored. Current value: bagging_freq=1\n",
      "Training until validation scores don't improve for 100 rounds\n",
      "[100]\ttraining's l1: 1.64037\tvalid_1's l1: 2.2863\n"
     ]
    },
    {
     "name": "stderr",
     "output_type": "stream",
     "text": [
      "\u001b[32m[I 2021-07-18 16:44:49,837]\u001b[0m Trial 28 finished with value: -2.217337551925738 and parameters: {'max_depth': 19, 'min_child_weight': 5, 'subsample': 0.8, 'colsample_bytree': 0.7, 'reg_lambda': 72.6543584124793, 'reg_alpha': 0.6129114160320033, 'feature_fraction': 0.9447613574039041, 'bagging_fraction': 0.8023296847516472, 'bagging_freq': 1, 'num_leaves': 781, 'min_child_samples': 5}. Best is trial 16 with value: -2.19495265795665.\u001b[0m\n"
     ]
    },
    {
     "name": "stdout",
     "output_type": "stream",
     "text": [
      "Early stopping, best iteration is:\n",
      "[20]\ttraining's l1: 1.81433\tvalid_1's l1: 2.21734\n",
      "[LightGBM] [Warning] feature_fraction is set=0.8154255667041017, colsample_bytree=0.9 will be ignored. Current value: feature_fraction=0.8154255667041017\n",
      "[LightGBM] [Warning] bagging_fraction is set=0.5101199869995161, subsample=0.9 will be ignored. Current value: bagging_fraction=0.5101199869995161\n",
      "[LightGBM] [Warning] bagging_freq is set=12, subsample_freq=0 will be ignored. Current value: bagging_freq=12\n",
      "Training until validation scores don't improve for 100 rounds\n",
      "[100]\ttraining's l1: 1.69534\tvalid_1's l1: 2.2566\n"
     ]
    },
    {
     "name": "stderr",
     "output_type": "stream",
     "text": [
      "\u001b[32m[I 2021-07-18 16:44:58,057]\u001b[0m Trial 29 finished with value: -2.2261162681314666 and parameters: {'max_depth': 11, 'min_child_weight': 8, 'subsample': 0.9, 'colsample_bytree': 0.9, 'reg_lambda': 9.011609999231437, 'reg_alpha': 9.972918535636204, 'feature_fraction': 0.8154255667041017, 'bagging_fraction': 0.5101199869995161, 'bagging_freq': 12, 'num_leaves': 615, 'min_child_samples': 25}. Best is trial 16 with value: -2.19495265795665.\u001b[0m\n"
     ]
    },
    {
     "name": "stdout",
     "output_type": "stream",
     "text": [
      "Early stopping, best iteration is:\n",
      "[28]\ttraining's l1: 1.78883\tvalid_1's l1: 2.22612\n",
      "[LightGBM] [Warning] feature_fraction is set=0.7353945517202094, colsample_bytree=0.8 will be ignored. Current value: feature_fraction=0.7353945517202094\n",
      "[LightGBM] [Warning] bagging_fraction is set=0.7378022773309383, subsample=0.8 will be ignored. Current value: bagging_fraction=0.7378022773309383\n",
      "[LightGBM] [Warning] bagging_freq is set=13, subsample_freq=0 will be ignored. Current value: bagging_freq=13\n",
      "Training until validation scores don't improve for 100 rounds\n",
      "[100]\ttraining's l1: 1.69502\tvalid_1's l1: 2.26757\n"
     ]
    },
    {
     "name": "stderr",
     "output_type": "stream",
     "text": [
      "\u001b[32m[I 2021-07-18 16:45:07,265]\u001b[0m Trial 30 finished with value: -2.2373867654573187 and parameters: {'max_depth': 14, 'min_child_weight': 20, 'subsample': 0.8, 'colsample_bytree': 0.8, 'reg_lambda': 386.4368886791088, 'reg_alpha': 0.02366548112381924, 'feature_fraction': 0.7353945517202094, 'bagging_fraction': 0.7378022773309383, 'bagging_freq': 13, 'num_leaves': 508, 'min_child_samples': 17}. Best is trial 16 with value: -2.19495265795665.\u001b[0m\n"
     ]
    },
    {
     "name": "stdout",
     "output_type": "stream",
     "text": [
      "Early stopping, best iteration is:\n",
      "[29]\ttraining's l1: 1.80651\tvalid_1's l1: 2.23739\n",
      "[LightGBM] [Warning] feature_fraction is set=0.9491851315257804, colsample_bytree=0.9 will be ignored. Current value: feature_fraction=0.9491851315257804\n",
      "[LightGBM] [Warning] bagging_fraction is set=0.9009552956912648, subsample=0.9 will be ignored. Current value: bagging_fraction=0.9009552956912648\n",
      "[LightGBM] [Warning] bagging_freq is set=17, subsample_freq=0 will be ignored. Current value: bagging_freq=17\n",
      "Training until validation scores don't improve for 100 rounds\n",
      "[100]\ttraining's l1: 1.704\tvalid_1's l1: 2.24629\n"
     ]
    },
    {
     "name": "stderr",
     "output_type": "stream",
     "text": [
      "\u001b[32m[I 2021-07-18 16:45:17,283]\u001b[0m Trial 31 finished with value: -2.2076743707499453 and parameters: {'max_depth': 16, 'min_child_weight': 7, 'subsample': 0.9, 'colsample_bytree': 0.9, 'reg_lambda': 8.415893128189142, 'reg_alpha': 0.005548696564421723, 'feature_fraction': 0.9491851315257804, 'bagging_fraction': 0.9009552956912648, 'bagging_freq': 17, 'num_leaves': 388, 'min_child_samples': 36}. Best is trial 16 with value: -2.19495265795665.\u001b[0m\n"
     ]
    },
    {
     "name": "stdout",
     "output_type": "stream",
     "text": [
      "Early stopping, best iteration is:\n",
      "[21]\ttraining's l1: 1.82668\tvalid_1's l1: 2.20767\n",
      "[LightGBM] [Warning] feature_fraction is set=0.9955560953975836, colsample_bytree=0.9 will be ignored. Current value: feature_fraction=0.9955560953975836\n",
      "[LightGBM] [Warning] bagging_fraction is set=0.9413150747046968, subsample=0.9 will be ignored. Current value: bagging_fraction=0.9413150747046968\n",
      "[LightGBM] [Warning] bagging_freq is set=19, subsample_freq=0 will be ignored. Current value: bagging_freq=19\n",
      "Training until validation scores don't improve for 100 rounds\n",
      "[100]\ttraining's l1: 1.68544\tvalid_1's l1: 2.24834\n"
     ]
    },
    {
     "name": "stderr",
     "output_type": "stream",
     "text": [
      "\u001b[32m[I 2021-07-18 16:45:28,396]\u001b[0m Trial 32 finished with value: -2.2011906467306446 and parameters: {'max_depth': 18, 'min_child_weight': 12, 'subsample': 0.9, 'colsample_bytree': 0.9, 'reg_lambda': 1.8008927560683232, 'reg_alpha': 0.0024442575264234756, 'feature_fraction': 0.9955560953975836, 'bagging_fraction': 0.9413150747046968, 'bagging_freq': 19, 'num_leaves': 487, 'min_child_samples': 29}. Best is trial 16 with value: -2.19495265795665.\u001b[0m\n"
     ]
    },
    {
     "name": "stdout",
     "output_type": "stream",
     "text": [
      "Early stopping, best iteration is:\n",
      "[25]\ttraining's l1: 1.77672\tvalid_1's l1: 2.20119\n",
      "[LightGBM] [Warning] feature_fraction is set=0.8972344379453498, colsample_bytree=0.9 will be ignored. Current value: feature_fraction=0.8972344379453498\n",
      "[LightGBM] [Warning] bagging_fraction is set=0.8892265713057375, subsample=0.9 will be ignored. Current value: bagging_fraction=0.8892265713057375\n",
      "[LightGBM] [Warning] bagging_freq is set=16, subsample_freq=0 will be ignored. Current value: bagging_freq=16\n",
      "Training until validation scores don't improve for 100 rounds\n",
      "[100]\ttraining's l1: 1.67808\tvalid_1's l1: 2.23982\n"
     ]
    },
    {
     "name": "stderr",
     "output_type": "stream",
     "text": [
      "\u001b[32m[I 2021-07-18 16:45:38,608]\u001b[0m Trial 33 finished with value: -2.1996296909805024 and parameters: {'max_depth': 12, 'min_child_weight': 6, 'subsample': 0.9, 'colsample_bytree': 0.9, 'reg_lambda': 0.26683461907926503, 'reg_alpha': 0.016804700954252447, 'feature_fraction': 0.8972344379453498, 'bagging_fraction': 0.8892265713057375, 'bagging_freq': 16, 'num_leaves': 573, 'min_child_samples': 59}. Best is trial 16 with value: -2.19495265795665.\u001b[0m\n"
     ]
    },
    {
     "name": "stdout",
     "output_type": "stream",
     "text": [
      "Early stopping, best iteration is:\n",
      "[20]\ttraining's l1: 1.80841\tvalid_1's l1: 2.19963\n",
      "[LightGBM] [Warning] feature_fraction is set=0.9571492367713894, colsample_bytree=0.8 will be ignored. Current value: feature_fraction=0.9571492367713894\n",
      "[LightGBM] [Warning] bagging_fraction is set=0.997990032494515, subsample=0.9 will be ignored. Current value: bagging_fraction=0.997990032494515\n",
      "[LightGBM] [Warning] bagging_freq is set=19, subsample_freq=0 will be ignored. Current value: bagging_freq=19\n",
      "Training until validation scores don't improve for 100 rounds\n",
      "[100]\ttraining's l1: 1.66107\tvalid_1's l1: 2.25093\n"
     ]
    },
    {
     "name": "stderr",
     "output_type": "stream",
     "text": [
      "\u001b[32m[I 2021-07-18 16:45:51,490]\u001b[0m Trial 34 finished with value: -2.193905283125481 and parameters: {'max_depth': 16, 'min_child_weight': 2, 'subsample': 0.9, 'colsample_bytree': 0.8, 'reg_lambda': 1.1978232033284992, 'reg_alpha': 0.0013336804383548857, 'feature_fraction': 0.9571492367713894, 'bagging_fraction': 0.997990032494515, 'bagging_freq': 19, 'num_leaves': 692, 'min_child_samples': 16}. Best is trial 34 with value: -2.193905283125481.\u001b[0m\n"
     ]
    },
    {
     "name": "stdout",
     "output_type": "stream",
     "text": [
      "Early stopping, best iteration is:\n",
      "[21]\ttraining's l1: 1.7836\tvalid_1's l1: 2.19391\n",
      "[LightGBM] [Warning] feature_fraction is set=0.5321981018656284, colsample_bytree=0.8 will be ignored. Current value: feature_fraction=0.5321981018656284\n",
      "[LightGBM] [Warning] bagging_fraction is set=0.9813807838071236, subsample=0.8 will be ignored. Current value: bagging_fraction=0.9813807838071236\n",
      "[LightGBM] [Warning] bagging_freq is set=19, subsample_freq=0 will be ignored. Current value: bagging_freq=19\n",
      "Training until validation scores don't improve for 100 rounds\n",
      "[100]\ttraining's l1: 1.65584\tvalid_1's l1: 2.29799\n"
     ]
    },
    {
     "name": "stderr",
     "output_type": "stream",
     "text": [
      "\u001b[32m[I 2021-07-18 16:46:03,177]\u001b[0m Trial 35 finished with value: -2.244110689689251 and parameters: {'max_depth': 14, 'min_child_weight': 1, 'subsample': 0.8, 'colsample_bytree': 0.8, 'reg_lambda': 0.09670699902757861, 'reg_alpha': 0.001512006908634016, 'feature_fraction': 0.5321981018656284, 'bagging_fraction': 0.9813807838071236, 'bagging_freq': 19, 'num_leaves': 684, 'min_child_samples': 8}. Best is trial 34 with value: -2.193905283125481.\u001b[0m\n"
     ]
    },
    {
     "name": "stdout",
     "output_type": "stream",
     "text": [
      "Early stopping, best iteration is:\n",
      "[21]\ttraining's l1: 1.82052\tvalid_1's l1: 2.24411\n",
      "[LightGBM] [Warning] feature_fraction is set=0.8533055972964692, colsample_bytree=0.8 will be ignored. Current value: feature_fraction=0.8533055972964692\n",
      "[LightGBM] [Warning] bagging_fraction is set=0.8376120506050805, subsample=0.9 will be ignored. Current value: bagging_fraction=0.8376120506050805\n",
      "[LightGBM] [Warning] bagging_freq is set=16, subsample_freq=0 will be ignored. Current value: bagging_freq=16\n",
      "Training until validation scores don't improve for 100 rounds\n",
      "[100]\ttraining's l1: 1.73751\tvalid_1's l1: 2.24472\n"
     ]
    },
    {
     "name": "stderr",
     "output_type": "stream",
     "text": [
      "\u001b[32m[I 2021-07-18 16:46:11,164]\u001b[0m Trial 36 finished with value: -2.2296311665962425 and parameters: {'max_depth': 9, 'min_child_weight': 2, 'subsample': 0.9, 'colsample_bytree': 0.8, 'reg_lambda': 29.114605111261906, 'reg_alpha': 0.001038631611908571, 'feature_fraction': 0.8533055972964692, 'bagging_fraction': 0.8376120506050805, 'bagging_freq': 16, 'num_leaves': 913, 'min_child_samples': 17}. Best is trial 34 with value: -2.193905283125481.\u001b[0m\n"
     ]
    },
    {
     "name": "stdout",
     "output_type": "stream",
     "text": [
      "Early stopping, best iteration is:\n",
      "[32]\ttraining's l1: 1.80169\tvalid_1's l1: 2.22963\n",
      "[LightGBM] [Warning] feature_fraction is set=0.9340770268707649, colsample_bytree=0.7 will be ignored. Current value: feature_fraction=0.9340770268707649\n",
      "[LightGBM] [Warning] bagging_fraction is set=0.8710802026886136, subsample=0.8 will be ignored. Current value: bagging_fraction=0.8710802026886136\n",
      "[LightGBM] [Warning] bagging_freq is set=15, subsample_freq=0 will be ignored. Current value: bagging_freq=15\n",
      "Training until validation scores don't improve for 100 rounds\n",
      "[100]\ttraining's l1: 1.64893\tvalid_1's l1: 2.245\n"
     ]
    },
    {
     "name": "stderr",
     "output_type": "stream",
     "text": [
      "\u001b[32m[I 2021-07-18 16:46:23,528]\u001b[0m Trial 37 finished with value: -2.1977696357158183 and parameters: {'max_depth': 12, 'min_child_weight': 2, 'subsample': 0.8, 'colsample_bytree': 0.7, 'reg_lambda': 0.009960376369960092, 'reg_alpha': 0.06636834868632464, 'feature_fraction': 0.9340770268707649, 'bagging_fraction': 0.8710802026886136, 'bagging_freq': 15, 'num_leaves': 867, 'min_child_samples': 13}. Best is trial 34 with value: -2.193905283125481.\u001b[0m\n"
     ]
    },
    {
     "name": "stdout",
     "output_type": "stream",
     "text": [
      "Early stopping, best iteration is:\n",
      "[26]\ttraining's l1: 1.73947\tvalid_1's l1: 2.19777\n",
      "[LightGBM] [Warning] feature_fraction is set=0.9335510483758843, colsample_bytree=0.7 will be ignored. Current value: feature_fraction=0.9335510483758843\n",
      "[LightGBM] [Warning] bagging_fraction is set=0.233277981504463, subsample=0.7 will be ignored. Current value: bagging_fraction=0.233277981504463\n",
      "[LightGBM] [Warning] bagging_freq is set=15, subsample_freq=0 will be ignored. Current value: bagging_freq=15\n",
      "Training until validation scores don't improve for 100 rounds\n",
      "[100]\ttraining's l1: 1.84656\tvalid_1's l1: 2.25708\n",
      "[200]\ttraining's l1: 1.8044\tvalid_1's l1: 2.25563\n"
     ]
    },
    {
     "name": "stderr",
     "output_type": "stream",
     "text": [
      "\u001b[32m[I 2021-07-18 16:46:28,047]\u001b[0m Trial 38 finished with value: -2.2486191342266157 and parameters: {'max_depth': 6, 'min_child_weight': 2, 'subsample': 0.7, 'colsample_bytree': 0.7, 'reg_lambda': 0.007855096125084109, 'reg_alpha': 15.90786899280825, 'feature_fraction': 0.9335510483758843, 'bagging_fraction': 0.233277981504463, 'bagging_freq': 15, 'num_leaves': 893, 'min_child_samples': 21}. Best is trial 34 with value: -2.193905283125481.\u001b[0m\n"
     ]
    },
    {
     "name": "stdout",
     "output_type": "stream",
     "text": [
      "Early stopping, best iteration is:\n",
      "[131]\ttraining's l1: 1.82302\tvalid_1's l1: 2.24864\n",
      "[LightGBM] [Warning] feature_fraction is set=0.9609618141148943, colsample_bytree=0.7 will be ignored. Current value: feature_fraction=0.9609618141148943\n",
      "[LightGBM] [Warning] bagging_fraction is set=0.8726495720588917, subsample=0.8 will be ignored. Current value: bagging_fraction=0.8726495720588917\n",
      "[LightGBM] [Warning] bagging_freq is set=19, subsample_freq=0 will be ignored. Current value: bagging_freq=19\n",
      "Training until validation scores don't improve for 100 rounds\n",
      "[100]\ttraining's l1: 1.65078\tvalid_1's l1: 2.25266\n"
     ]
    },
    {
     "name": "stderr",
     "output_type": "stream",
     "text": [
      "\u001b[32m[I 2021-07-18 16:46:39,887]\u001b[0m Trial 39 finished with value: -2.1985845326265183 and parameters: {'max_depth': 12, 'min_child_weight': 4, 'subsample': 0.8, 'colsample_bytree': 0.7, 'reg_lambda': 0.01565289181127376, 'reg_alpha': 0.09303608862502946, 'feature_fraction': 0.9609618141148943, 'bagging_fraction': 0.8726495720588917, 'bagging_freq': 19, 'num_leaves': 838, 'min_child_samples': 15}. Best is trial 34 with value: -2.193905283125481.\u001b[0m\n"
     ]
    },
    {
     "name": "stdout",
     "output_type": "stream",
     "text": [
      "Early stopping, best iteration is:\n",
      "[22]\ttraining's l1: 1.77187\tvalid_1's l1: 2.19858\n",
      "[LightGBM] [Warning] feature_fraction is set=0.6520564942702487, colsample_bytree=0.7 will be ignored. Current value: feature_fraction=0.6520564942702487\n",
      "[LightGBM] [Warning] bagging_fraction is set=0.9987931254289034, subsample=0.8 will be ignored. Current value: bagging_fraction=0.9987931254289034\n",
      "[LightGBM] [Warning] bagging_freq is set=4, subsample_freq=0 will be ignored. Current value: bagging_freq=4\n",
      "Training until validation scores don't improve for 100 rounds\n",
      "[100]\ttraining's l1: 1.64303\tvalid_1's l1: 2.27262\n"
     ]
    },
    {
     "name": "stderr",
     "output_type": "stream",
     "text": [
      "\u001b[32m[I 2021-07-18 16:46:51,718]\u001b[0m Trial 40 finished with value: -2.241586176697751 and parameters: {'max_depth': 13, 'min_child_weight': 1, 'subsample': 0.8, 'colsample_bytree': 0.7, 'reg_lambda': 0.0014708266066928441, 'reg_alpha': 0.04577558671043153, 'feature_fraction': 0.6520564942702487, 'bagging_fraction': 0.9987931254289034, 'bagging_freq': 4, 'num_leaves': 775, 'min_child_samples': 9}. Best is trial 34 with value: -2.193905283125481.\u001b[0m\n"
     ]
    },
    {
     "name": "stdout",
     "output_type": "stream",
     "text": [
      "Early stopping, best iteration is:\n",
      "[24]\ttraining's l1: 1.77808\tvalid_1's l1: 2.24159\n",
      "[LightGBM] [Warning] feature_fraction is set=0.9577450962978643, colsample_bytree=0.7 will be ignored. Current value: feature_fraction=0.9577450962978643\n",
      "[LightGBM] [Warning] bagging_fraction is set=0.8637019655603649, subsample=0.8 will be ignored. Current value: bagging_fraction=0.8637019655603649\n",
      "[LightGBM] [Warning] bagging_freq is set=19, subsample_freq=0 will be ignored. Current value: bagging_freq=19\n",
      "Training until validation scores don't improve for 100 rounds\n",
      "[100]\ttraining's l1: 1.64761\tvalid_1's l1: 2.2461\n"
     ]
    },
    {
     "name": "stderr",
     "output_type": "stream",
     "text": [
      "\u001b[32m[I 2021-07-18 16:47:03,379]\u001b[0m Trial 41 finished with value: -2.193975906601436 and parameters: {'max_depth': 12, 'min_child_weight': 4, 'subsample': 0.8, 'colsample_bytree': 0.7, 'reg_lambda': 0.014657489749454407, 'reg_alpha': 0.1366095393848262, 'feature_fraction': 0.9577450962978643, 'bagging_fraction': 0.8637019655603649, 'bagging_freq': 19, 'num_leaves': 852, 'min_child_samples': 14}. Best is trial 34 with value: -2.193905283125481.\u001b[0m\n"
     ]
    },
    {
     "name": "stdout",
     "output_type": "stream",
     "text": [
      "Early stopping, best iteration is:\n",
      "[22]\ttraining's l1: 1.77225\tvalid_1's l1: 2.19398\n",
      "[LightGBM] [Warning] feature_fraction is set=0.9162538696482233, colsample_bytree=0.6 will be ignored. Current value: feature_fraction=0.9162538696482233\n",
      "[LightGBM] [Warning] bagging_fraction is set=0.9574720998023576, subsample=0.7 will be ignored. Current value: bagging_fraction=0.9574720998023576\n",
      "[LightGBM] [Warning] bagging_freq is set=17, subsample_freq=0 will be ignored. Current value: bagging_freq=17\n",
      "Training until validation scores don't improve for 100 rounds\n",
      "[100]\ttraining's l1: 1.68229\tvalid_1's l1: 2.24489\n"
     ]
    },
    {
     "name": "stderr",
     "output_type": "stream",
     "text": [
      "\u001b[32m[I 2021-07-18 16:47:13,552]\u001b[0m Trial 42 finished with value: -2.204398196867483 and parameters: {'max_depth': 10, 'min_child_weight': 4, 'subsample': 0.7, 'colsample_bytree': 0.6, 'reg_lambda': 0.029033153082040363, 'reg_alpha': 0.2360764934967555, 'feature_fraction': 0.9162538696482233, 'bagging_fraction': 0.9574720998023576, 'bagging_freq': 17, 'num_leaves': 999, 'min_child_samples': 12}. Best is trial 34 with value: -2.193905283125481.\u001b[0m\n"
     ]
    },
    {
     "name": "stdout",
     "output_type": "stream",
     "text": [
      "Early stopping, best iteration is:\n",
      "[28]\ttraining's l1: 1.7612\tvalid_1's l1: 2.2044\n",
      "[LightGBM] [Warning] feature_fraction is set=0.9615537277406684, colsample_bytree=0.7 will be ignored. Current value: feature_fraction=0.9615537277406684\n",
      "[LightGBM] [Warning] bagging_fraction is set=0.7150187996810494, subsample=0.8 will be ignored. Current value: bagging_fraction=0.7150187996810494\n",
      "[LightGBM] [Warning] bagging_freq is set=18, subsample_freq=0 will be ignored. Current value: bagging_freq=18\n",
      "Training until validation scores don't improve for 100 rounds\n",
      "[100]\ttraining's l1: 1.65229\tvalid_1's l1: 2.27609\n"
     ]
    },
    {
     "name": "stderr",
     "output_type": "stream",
     "text": [
      "\u001b[32m[I 2021-07-18 16:47:24,924]\u001b[0m Trial 43 finished with value: -2.2241575782633825 and parameters: {'max_depth': 12, 'min_child_weight': 2, 'subsample': 0.8, 'colsample_bytree': 0.7, 'reg_lambda': 0.007302443196480943, 'reg_alpha': 2.4751438086349817, 'feature_fraction': 0.9615537277406684, 'bagging_fraction': 0.7150187996810494, 'bagging_freq': 18, 'num_leaves': 830, 'min_child_samples': 5}. Best is trial 34 with value: -2.193905283125481.\u001b[0m\n"
     ]
    },
    {
     "name": "stdout",
     "output_type": "stream",
     "text": [
      "Early stopping, best iteration is:\n",
      "[24]\ttraining's l1: 1.76293\tvalid_1's l1: 2.22416\n",
      "[LightGBM] [Warning] feature_fraction is set=0.81944276307677, colsample_bytree=0.7 will be ignored. Current value: feature_fraction=0.81944276307677\n",
      "[LightGBM] [Warning] bagging_fraction is set=0.9424156184205889, subsample=0.7 will be ignored. Current value: bagging_fraction=0.9424156184205889\n",
      "[LightGBM] [Warning] bagging_freq is set=20, subsample_freq=0 will be ignored. Current value: bagging_freq=20\n",
      "Training until validation scores don't improve for 100 rounds\n",
      "[100]\ttraining's l1: 1.65334\tvalid_1's l1: 2.2676\n"
     ]
    },
    {
     "name": "stderr",
     "output_type": "stream",
     "text": [
      "\u001b[32m[I 2021-07-18 16:47:36,305]\u001b[0m Trial 44 finished with value: -2.2193627163181695 and parameters: {'max_depth': 14, 'min_child_weight': 4, 'subsample': 0.7, 'colsample_bytree': 0.7, 'reg_lambda': 0.08737348617556165, 'reg_alpha': 0.5095520945911812, 'feature_fraction': 0.81944276307677, 'bagging_fraction': 0.9424156184205889, 'bagging_freq': 20, 'num_leaves': 711, 'min_child_samples': 25}. Best is trial 34 with value: -2.193905283125481.\u001b[0m\n"
     ]
    },
    {
     "name": "stdout",
     "output_type": "stream",
     "text": [
      "Early stopping, best iteration is:\n",
      "[22]\ttraining's l1: 1.78372\tvalid_1's l1: 2.21936\n",
      "[LightGBM] [Warning] feature_fraction is set=0.4307050842580761, colsample_bytree=0.7 will be ignored. Current value: feature_fraction=0.4307050842580761\n",
      "[LightGBM] [Warning] bagging_fraction is set=0.2847634216428439, subsample=0.8 will be ignored. Current value: bagging_fraction=0.2847634216428439\n",
      "[LightGBM] [Warning] bagging_freq is set=19, subsample_freq=0 will be ignored. Current value: bagging_freq=19\n",
      "Training until validation scores don't improve for 100 rounds\n",
      "[100]\ttraining's l1: 1.74547\tvalid_1's l1: 2.26771\n"
     ]
    },
    {
     "name": "stderr",
     "output_type": "stream",
     "text": [
      "\u001b[32m[I 2021-07-18 16:47:41,446]\u001b[0m Trial 45 finished with value: -2.2519136887920705 and parameters: {'max_depth': 9, 'min_child_weight': 3, 'subsample': 0.8, 'colsample_bytree': 0.7, 'reg_lambda': 0.0036334749888621712, 'reg_alpha': 0.15754859205754884, 'feature_fraction': 0.4307050842580761, 'bagging_fraction': 0.2847634216428439, 'bagging_freq': 19, 'num_leaves': 895, 'min_child_samples': 14}. Best is trial 34 with value: -2.193905283125481.\u001b[0m\n"
     ]
    },
    {
     "name": "stdout",
     "output_type": "stream",
     "text": [
      "Early stopping, best iteration is:\n",
      "[51]\ttraining's l1: 1.78547\tvalid_1's l1: 2.25194\n",
      "[LightGBM] [Warning] feature_fraction is set=0.8719585791170734, colsample_bytree=0.6 will be ignored. Current value: feature_fraction=0.8719585791170734\n",
      "[LightGBM] [Warning] bagging_fraction is set=0.824356030357815, subsample=0.8 will be ignored. Current value: bagging_fraction=0.824356030357815\n",
      "[LightGBM] [Warning] bagging_freq is set=14, subsample_freq=0 will be ignored. Current value: bagging_freq=14\n",
      "Training until validation scores don't improve for 100 rounds\n",
      "[100]\ttraining's l1: 1.66462\tvalid_1's l1: 2.24808\n"
     ]
    },
    {
     "name": "stderr",
     "output_type": "stream",
     "text": [
      "\u001b[32m[I 2021-07-18 16:47:52,271]\u001b[0m Trial 46 finished with value: -2.205075727134815 and parameters: {'max_depth': 13, 'min_child_weight': 1, 'subsample': 0.8, 'colsample_bytree': 0.6, 'reg_lambda': 0.03681949836193408, 'reg_alpha': 0.051705449224571536, 'feature_fraction': 0.8719585791170734, 'bagging_fraction': 0.824356030357815, 'bagging_freq': 14, 'num_leaves': 609, 'min_child_samples': 21}. Best is trial 34 with value: -2.193905283125481.\u001b[0m\n"
     ]
    },
    {
     "name": "stdout",
     "output_type": "stream",
     "text": [
      "Early stopping, best iteration is:\n",
      "[21]\ttraining's l1: 1.80184\tvalid_1's l1: 2.20508\n",
      "[LightGBM] [Warning] feature_fraction is set=0.9746755701761505, colsample_bytree=0.8 will be ignored. Current value: feature_fraction=0.9746755701761505\n",
      "[LightGBM] [Warning] bagging_fraction is set=0.8673388520934645, subsample=0.7 will be ignored. Current value: bagging_fraction=0.8673388520934645\n",
      "[LightGBM] [Warning] bagging_freq is set=18, subsample_freq=0 will be ignored. Current value: bagging_freq=18\n",
      "Training until validation scores don't improve for 100 rounds\n",
      "[100]\ttraining's l1: 1.87726\tvalid_1's l1: 2.27466\n",
      "[200]\ttraining's l1: 1.84631\tvalid_1's l1: 2.27411\n"
     ]
    },
    {
     "name": "stderr",
     "output_type": "stream",
     "text": [
      "\u001b[32m[I 2021-07-18 16:48:00,231]\u001b[0m Trial 47 finished with value: -2.2703707087511735 and parameters: {'max_depth': 5, 'min_child_weight': 2, 'subsample': 0.7, 'colsample_bytree': 0.8, 'reg_lambda': 0.0010915636543808872, 'reg_alpha': 1.1280586272390507, 'feature_fraction': 0.9746755701761505, 'bagging_fraction': 0.8673388520934645, 'bagging_freq': 18, 'num_leaves': 742, 'min_child_samples': 7}. Best is trial 34 with value: -2.193905283125481.\u001b[0m\n"
     ]
    },
    {
     "name": "stdout",
     "output_type": "stream",
     "text": [
      "Early stopping, best iteration is:\n",
      "[150]\ttraining's l1: 1.85795\tvalid_1's l1: 2.27037\n",
      "[LightGBM] [Warning] feature_fraction is set=0.9134351380851282, colsample_bytree=0.7 will be ignored. Current value: feature_fraction=0.9134351380851282\n",
      "[LightGBM] [Warning] bagging_fraction is set=0.7953656593349298, subsample=0.8 will be ignored. Current value: bagging_fraction=0.7953656593349298\n",
      "[LightGBM] [Warning] bagging_freq is set=11, subsample_freq=0 will be ignored. Current value: bagging_freq=11\n",
      "Training until validation scores don't improve for 100 rounds\n",
      "[100]\ttraining's l1: 1.62512\tvalid_1's l1: 2.27942\n"
     ]
    },
    {
     "name": "stderr",
     "output_type": "stream",
     "text": [
      "\u001b[32m[I 2021-07-18 16:48:14,898]\u001b[0m Trial 48 finished with value: -2.1954025768253245 and parameters: {'max_depth': 19, 'min_child_weight': 5, 'subsample': 0.8, 'colsample_bytree': 0.7, 'reg_lambda': 1.350008741572756, 'reg_alpha': 0.0955919884450312, 'feature_fraction': 0.9134351380851282, 'bagging_fraction': 0.7953656593349298, 'bagging_freq': 11, 'num_leaves': 976, 'min_child_samples': 29}. Best is trial 34 with value: -2.193905283125481.\u001b[0m\n"
     ]
    },
    {
     "name": "stdout",
     "output_type": "stream",
     "text": [
      "Early stopping, best iteration is:\n",
      "[20]\ttraining's l1: 1.77483\tvalid_1's l1: 2.1954\n",
      "[LightGBM] [Warning] feature_fraction is set=0.758794205250369, colsample_bytree=0.8 will be ignored. Current value: feature_fraction=0.758794205250369\n",
      "[LightGBM] [Warning] bagging_fraction is set=0.6317521865279483, subsample=0.9 will be ignored. Current value: bagging_fraction=0.6317521865279483\n",
      "[LightGBM] [Warning] bagging_freq is set=8, subsample_freq=0 will be ignored. Current value: bagging_freq=8\n",
      "Training until validation scores don't improve for 100 rounds\n",
      "[100]\ttraining's l1: 1.62943\tvalid_1's l1: 2.29104\n"
     ]
    },
    {
     "name": "stderr",
     "output_type": "stream",
     "text": [
      "\u001b[32m[I 2021-07-18 16:48:28,687]\u001b[0m Trial 49 finished with value: -2.219462310721621 and parameters: {'max_depth': 19, 'min_child_weight': 5, 'subsample': 0.9, 'colsample_bytree': 0.8, 'reg_lambda': 1.1192000436038052, 'reg_alpha': 0.016604403676197046, 'feature_fraction': 0.758794205250369, 'bagging_fraction': 0.6317521865279483, 'bagging_freq': 8, 'num_leaves': 967, 'min_child_samples': 32}. Best is trial 34 with value: -2.193905283125481.\u001b[0m\n"
     ]
    },
    {
     "name": "stdout",
     "output_type": "stream",
     "text": [
      "Early stopping, best iteration is:\n",
      "[22]\ttraining's l1: 1.76737\tvalid_1's l1: 2.21946\n",
      "[LightGBM] [Warning] feature_fraction is set=0.21407019767034097, colsample_bytree=0.8 will be ignored. Current value: feature_fraction=0.21407019767034097\n",
      "[LightGBM] [Warning] bagging_fraction is set=0.7943702411768012, subsample=0.6 will be ignored. Current value: bagging_fraction=0.7943702411768012\n",
      "[LightGBM] [Warning] bagging_freq is set=5, subsample_freq=0 will be ignored. Current value: bagging_freq=5\n",
      "Training until validation scores don't improve for 100 rounds\n",
      "[100]\ttraining's l1: 1.71598\tvalid_1's l1: 2.36274\n"
     ]
    },
    {
     "name": "stderr",
     "output_type": "stream",
     "text": [
      "\u001b[32m[I 2021-07-18 16:48:36,752]\u001b[0m Trial 50 finished with value: -2.323158055724477 and parameters: {'max_depth': 19, 'min_child_weight': 8, 'subsample': 0.6, 'colsample_bytree': 0.8, 'reg_lambda': 0.17772150491467933, 'reg_alpha': 0.3730872010567931, 'feature_fraction': 0.21407019767034097, 'bagging_fraction': 0.7943702411768012, 'bagging_freq': 5, 'num_leaves': 657, 'min_child_samples': 28}. Best is trial 34 with value: -2.193905283125481.\u001b[0m\n"
     ]
    },
    {
     "name": "stdout",
     "output_type": "stream",
     "text": [
      "Early stopping, best iteration is:\n",
      "[20]\ttraining's l1: 1.92437\tvalid_1's l1: 2.32316\n",
      "[LightGBM] [Warning] feature_fraction is set=0.9154871630509196, colsample_bytree=0.7 will be ignored. Current value: feature_fraction=0.9154871630509196\n",
      "[LightGBM] [Warning] bagging_fraction is set=0.8770670357566825, subsample=0.8 will be ignored. Current value: bagging_fraction=0.8770670357566825\n",
      "[LightGBM] [Warning] bagging_freq is set=10, subsample_freq=0 will be ignored. Current value: bagging_freq=10\n",
      "Training until validation scores don't improve for 100 rounds\n",
      "[100]\ttraining's l1: 1.63869\tvalid_1's l1: 2.271\n"
     ]
    },
    {
     "name": "stderr",
     "output_type": "stream",
     "text": [
      "\u001b[32m[I 2021-07-18 16:48:50,965]\u001b[0m Trial 51 finished with value: -2.1967222220760694 and parameters: {'max_depth': 17, 'min_child_weight': 3, 'subsample': 0.8, 'colsample_bytree': 0.7, 'reg_lambda': 0.505755895643823, 'reg_alpha': 0.0634041679831293, 'feature_fraction': 0.9154871630509196, 'bagging_fraction': 0.8770670357566825, 'bagging_freq': 10, 'num_leaves': 865, 'min_child_samples': 18}. Best is trial 34 with value: -2.193905283125481.\u001b[0m\n"
     ]
    },
    {
     "name": "stdout",
     "output_type": "stream",
     "text": [
      "Early stopping, best iteration is:\n",
      "[20]\ttraining's l1: 1.78137\tvalid_1's l1: 2.19672\n",
      "[LightGBM] [Warning] feature_fraction is set=0.9066250009836881, colsample_bytree=0.6 will be ignored. Current value: feature_fraction=0.9066250009836881\n",
      "[LightGBM] [Warning] bagging_fraction is set=0.931917808582999, subsample=0.8 will be ignored. Current value: bagging_fraction=0.931917808582999\n",
      "[LightGBM] [Warning] bagging_freq is set=10, subsample_freq=0 will be ignored. Current value: bagging_freq=10\n",
      "Training until validation scores don't improve for 100 rounds\n",
      "[100]\ttraining's l1: 1.63079\tvalid_1's l1: 2.26713\n"
     ]
    },
    {
     "name": "stderr",
     "output_type": "stream",
     "text": [
      "\u001b[32m[I 2021-07-18 16:49:05,921]\u001b[0m Trial 52 finished with value: -2.194983276924173 and parameters: {'max_depth': 17, 'min_child_weight': 4, 'subsample': 0.8, 'colsample_bytree': 0.6, 'reg_lambda': 0.4560309204846081, 'reg_alpha': 0.11979675917157553, 'feature_fraction': 0.9066250009836881, 'bagging_fraction': 0.931917808582999, 'bagging_freq': 10, 'num_leaves': 942, 'min_child_samples': 18}. Best is trial 34 with value: -2.193905283125481.\u001b[0m\n"
     ]
    },
    {
     "name": "stdout",
     "output_type": "stream",
     "text": [
      "Early stopping, best iteration is:\n",
      "[21]\ttraining's l1: 1.76487\tvalid_1's l1: 2.19498\n",
      "[LightGBM] [Warning] feature_fraction is set=0.9027485697486628, colsample_bytree=0.6 will be ignored. Current value: feature_fraction=0.9027485697486628\n",
      "[LightGBM] [Warning] bagging_fraction is set=0.9652248549503394, subsample=0.8 will be ignored. Current value: bagging_fraction=0.9652248549503394\n",
      "[LightGBM] [Warning] bagging_freq is set=10, subsample_freq=0 will be ignored. Current value: bagging_freq=10\n",
      "Training until validation scores don't improve for 100 rounds\n",
      "[100]\ttraining's l1: 1.62524\tvalid_1's l1: 2.27001\n"
     ]
    },
    {
     "name": "stderr",
     "output_type": "stream",
     "text": [
      "\u001b[32m[I 2021-07-18 16:49:21,091]\u001b[0m Trial 53 finished with value: -2.197473264376002 and parameters: {'max_depth': 17, 'min_child_weight': 4, 'subsample': 0.8, 'colsample_bytree': 0.6, 'reg_lambda': 0.4412195578708215, 'reg_alpha': 0.1319471731478306, 'feature_fraction': 0.9027485697486628, 'bagging_fraction': 0.9652248549503394, 'bagging_freq': 10, 'num_leaves': 940, 'min_child_samples': 35}. Best is trial 34 with value: -2.193905283125481.\u001b[0m\n"
     ]
    },
    {
     "name": "stdout",
     "output_type": "stream",
     "text": [
      "Early stopping, best iteration is:\n",
      "[21]\ttraining's l1: 1.76593\tvalid_1's l1: 2.19747\n",
      "[LightGBM] [Warning] feature_fraction is set=0.8076227786591067, colsample_bytree=0.6 will be ignored. Current value: feature_fraction=0.8076227786591067\n",
      "[LightGBM] [Warning] bagging_fraction is set=0.9320104074777851, subsample=0.7 will be ignored. Current value: bagging_fraction=0.9320104074777851\n",
      "[LightGBM] [Warning] bagging_freq is set=11, subsample_freq=0 will be ignored. Current value: bagging_freq=11\n",
      "Training until validation scores don't improve for 100 rounds\n",
      "[100]\ttraining's l1: 1.64442\tvalid_1's l1: 2.29118\n"
     ]
    },
    {
     "name": "stderr",
     "output_type": "stream",
     "text": [
      "\u001b[32m[I 2021-07-18 16:49:36,355]\u001b[0m Trial 54 finished with value: -2.2358823803758248 and parameters: {'max_depth': 17, 'min_child_weight': 6, 'subsample': 0.7, 'colsample_bytree': 0.6, 'reg_lambda': 1.1778742342409312, 'reg_alpha': 37.37199465916254, 'feature_fraction': 0.8076227786591067, 'bagging_fraction': 0.9320104074777851, 'bagging_freq': 11, 'num_leaves': 977, 'min_child_samples': 23}. Best is trial 34 with value: -2.193905283125481.\u001b[0m\n"
     ]
    },
    {
     "name": "stdout",
     "output_type": "stream",
     "text": [
      "Early stopping, best iteration is:\n",
      "[22]\ttraining's l1: 1.81148\tvalid_1's l1: 2.23588\n",
      "[LightGBM] [Warning] feature_fraction is set=0.8631471027137895, colsample_bytree=0.7 will be ignored. Current value: feature_fraction=0.8631471027137895\n",
      "[LightGBM] [Warning] bagging_fraction is set=0.8168348785789483, subsample=0.8 will be ignored. Current value: bagging_fraction=0.8168348785789483\n",
      "[LightGBM] [Warning] bagging_freq is set=8, subsample_freq=0 will be ignored. Current value: bagging_freq=8\n",
      "Training until validation scores don't improve for 100 rounds\n",
      "[100]\ttraining's l1: 1.64409\tvalid_1's l1: 2.27022\n"
     ]
    },
    {
     "name": "stderr",
     "output_type": "stream",
     "text": [
      "\u001b[32m[I 2021-07-18 16:49:49,476]\u001b[0m Trial 55 finished with value: -2.2123853810231595 and parameters: {'max_depth': 15, 'min_child_weight': 5, 'subsample': 0.8, 'colsample_bytree': 0.7, 'reg_lambda': 0.4748588697573954, 'reg_alpha': 0.10094858224187647, 'feature_fraction': 0.8631471027137895, 'bagging_fraction': 0.8168348785789483, 'bagging_freq': 8, 'num_leaves': 802, 'min_child_samples': 19}. Best is trial 34 with value: -2.193905283125481.\u001b[0m\n"
     ]
    },
    {
     "name": "stdout",
     "output_type": "stream",
     "text": [
      "Early stopping, best iteration is:\n",
      "[22]\ttraining's l1: 1.77278\tvalid_1's l1: 2.21239\n",
      "[LightGBM] [Warning] feature_fraction is set=0.9040997979869083, colsample_bytree=0.6 will be ignored. Current value: feature_fraction=0.9040997979869083\n",
      "[LightGBM] [Warning] bagging_fraction is set=0.920735071877289, subsample=0.8 will be ignored. Current value: bagging_fraction=0.920735071877289\n",
      "[LightGBM] [Warning] bagging_freq is set=10, subsample_freq=0 will be ignored. Current value: bagging_freq=10\n",
      "Training until validation scores don't improve for 100 rounds\n",
      "[100]\ttraining's l1: 1.62712\tvalid_1's l1: 2.28069\n"
     ]
    },
    {
     "name": "stderr",
     "output_type": "stream",
     "text": [
      "\u001b[32m[I 2021-07-18 16:50:04,193]\u001b[0m Trial 56 finished with value: -2.206451188958652 and parameters: {'max_depth': 16, 'min_child_weight': 3, 'subsample': 0.8, 'colsample_bytree': 0.6, 'reg_lambda': 4.817958840324712, 'reg_alpha': 2.6096583174745724, 'feature_fraction': 0.9040997979869083, 'bagging_fraction': 0.920735071877289, 'bagging_freq': 10, 'num_leaves': 931, 'min_child_samples': 27}. Best is trial 34 with value: -2.193905283125481.\u001b[0m\n"
     ]
    },
    {
     "name": "stdout",
     "output_type": "stream",
     "text": [
      "Early stopping, best iteration is:\n",
      "[20]\ttraining's l1: 1.78318\tvalid_1's l1: 2.20645\n",
      "[LightGBM] [Warning] feature_fraction is set=0.9725471168611154, colsample_bytree=0.5 will be ignored. Current value: feature_fraction=0.9725471168611154\n",
      "[LightGBM] [Warning] bagging_fraction is set=0.6784093175453092, subsample=0.8 will be ignored. Current value: bagging_fraction=0.6784093175453092\n",
      "[LightGBM] [Warning] bagging_freq is set=9, subsample_freq=0 will be ignored. Current value: bagging_freq=9\n",
      "Training until validation scores don't improve for 100 rounds\n",
      "[100]\ttraining's l1: 1.62306\tvalid_1's l1: 2.27842\n"
     ]
    },
    {
     "name": "stderr",
     "output_type": "stream",
     "text": [
      "\u001b[32m[I 2021-07-18 16:50:18,762]\u001b[0m Trial 57 finished with value: -2.1984938200520823 and parameters: {'max_depth': 20, 'min_child_weight': 4, 'subsample': 0.8, 'colsample_bytree': 0.5, 'reg_lambda': 0.7871019260887838, 'reg_alpha': 0.24927346245573756, 'feature_fraction': 0.9725471168611154, 'bagging_fraction': 0.6784093175453092, 'bagging_freq': 9, 'num_leaves': 996, 'min_child_samples': 31}. Best is trial 34 with value: -2.193905283125481.\u001b[0m\n"
     ]
    },
    {
     "name": "stdout",
     "output_type": "stream",
     "text": [
      "Early stopping, best iteration is:\n",
      "[20]\ttraining's l1: 1.77445\tvalid_1's l1: 2.19849\n",
      "[LightGBM] [Warning] feature_fraction is set=0.995291542557826, colsample_bytree=0.7 will be ignored. Current value: feature_fraction=0.995291542557826\n",
      "[LightGBM] [Warning] bagging_fraction is set=0.9633191961032241, subsample=0.7 will be ignored. Current value: bagging_fraction=0.9633191961032241\n",
      "[LightGBM] [Warning] bagging_freq is set=12, subsample_freq=0 will be ignored. Current value: bagging_freq=12\n",
      "Training until validation scores don't improve for 100 rounds\n",
      "[100]\ttraining's l1: 1.63745\tvalid_1's l1: 2.26642\n"
     ]
    },
    {
     "name": "stderr",
     "output_type": "stream",
     "text": [
      "\u001b[32m[I 2021-07-18 16:50:33,483]\u001b[0m Trial 58 finished with value: -2.20105687918622 and parameters: {'max_depth': 17, 'min_child_weight': 6, 'subsample': 0.7, 'colsample_bytree': 0.7, 'reg_lambda': 0.33375278887198356, 'reg_alpha': 0.9297228455464989, 'feature_fraction': 0.995291542557826, 'bagging_fraction': 0.9633191961032241, 'bagging_freq': 12, 'num_leaves': 864, 'min_child_samples': 38}. Best is trial 34 with value: -2.193905283125481.\u001b[0m\n"
     ]
    },
    {
     "name": "stdout",
     "output_type": "stream",
     "text": [
      "Early stopping, best iteration is:\n",
      "[22]\ttraining's l1: 1.76266\tvalid_1's l1: 2.20106\n",
      "[LightGBM] [Warning] feature_fraction is set=0.8370129177281869, colsample_bytree=0.6 will be ignored. Current value: feature_fraction=0.8370129177281869\n",
      "[LightGBM] [Warning] bagging_fraction is set=0.7669602017616541, subsample=0.5 will be ignored. Current value: bagging_fraction=0.7669602017616541\n",
      "[LightGBM] [Warning] bagging_freq is set=3, subsample_freq=0 will be ignored. Current value: bagging_freq=3\n",
      "Training until validation scores don't improve for 100 rounds\n",
      "[100]\ttraining's l1: 1.63516\tvalid_1's l1: 2.28855\n"
     ]
    },
    {
     "name": "stderr",
     "output_type": "stream",
     "text": [
      "\u001b[32m[I 2021-07-18 16:50:47,615]\u001b[0m Trial 59 finished with value: -2.2204221216845195 and parameters: {'max_depth': 16, 'min_child_weight': 5, 'subsample': 0.5, 'colsample_bytree': 0.6, 'reg_lambda': 0.178414737542756, 'reg_alpha': 0.076172298796033, 'feature_fraction': 0.8370129177281869, 'bagging_fraction': 0.7669602017616541, 'bagging_freq': 3, 'num_leaves': 873, 'min_child_samples': 16}. Best is trial 34 with value: -2.193905283125481.\u001b[0m\n"
     ]
    },
    {
     "name": "stdout",
     "output_type": "stream",
     "text": [
      "Early stopping, best iteration is:\n",
      "[17]\ttraining's l1: 1.83298\tvalid_1's l1: 2.22042\n",
      "[LightGBM] [Warning] feature_fraction is set=0.9215208544518805, colsample_bytree=0.7 will be ignored. Current value: feature_fraction=0.9215208544518805\n",
      "[LightGBM] [Warning] bagging_fraction is set=0.8433762051198564, subsample=0.8 will be ignored. Current value: bagging_fraction=0.8433762051198564\n",
      "[LightGBM] [Warning] bagging_freq is set=9, subsample_freq=0 will be ignored. Current value: bagging_freq=9\n",
      "Training until validation scores don't improve for 100 rounds\n",
      "[100]\ttraining's l1: 1.63787\tvalid_1's l1: 2.26733\n"
     ]
    },
    {
     "name": "stderr",
     "output_type": "stream",
     "text": [
      "\u001b[32m[I 2021-07-18 16:51:01,398]\u001b[0m Trial 60 finished with value: -2.206460828360988 and parameters: {'max_depth': 19, 'min_child_weight': 3, 'subsample': 0.8, 'colsample_bytree': 0.7, 'reg_lambda': 0.053494382800273695, 'reg_alpha': 0.38677137193566635, 'feature_fraction': 0.9215208544518805, 'bagging_fraction': 0.8433762051198564, 'bagging_freq': 9, 'num_leaves': 819, 'min_child_samples': 22}. Best is trial 34 with value: -2.193905283125481.\u001b[0m\n"
     ]
    },
    {
     "name": "stdout",
     "output_type": "stream",
     "text": [
      "Early stopping, best iteration is:\n",
      "[20]\ttraining's l1: 1.7895\tvalid_1's l1: 2.20646\n",
      "[LightGBM] [Warning] feature_fraction is set=0.88357517678738, colsample_bytree=0.6 will be ignored. Current value: feature_fraction=0.88357517678738\n",
      "[LightGBM] [Warning] bagging_fraction is set=0.9764349510265219, subsample=0.8 will be ignored. Current value: bagging_fraction=0.9764349510265219\n",
      "[LightGBM] [Warning] bagging_freq is set=11, subsample_freq=0 will be ignored. Current value: bagging_freq=11\n",
      "Training until validation scores don't improve for 100 rounds\n",
      "[100]\ttraining's l1: 1.62993\tvalid_1's l1: 2.26647\n"
     ]
    },
    {
     "name": "stderr",
     "output_type": "stream",
     "text": [
      "\u001b[32m[I 2021-07-18 16:51:16,446]\u001b[0m Trial 61 finished with value: -2.1977994084646437 and parameters: {'max_depth': 17, 'min_child_weight': 4, 'subsample': 0.8, 'colsample_bytree': 0.6, 'reg_lambda': 0.481191935910798, 'reg_alpha': 0.15273216729631425, 'feature_fraction': 0.88357517678738, 'bagging_fraction': 0.9764349510265219, 'bagging_freq': 11, 'num_leaves': 952, 'min_child_samples': 49}. Best is trial 34 with value: -2.193905283125481.\u001b[0m\n"
     ]
    },
    {
     "name": "stdout",
     "output_type": "stream",
     "text": [
      "Early stopping, best iteration is:\n",
      "[20]\ttraining's l1: 1.7745\tvalid_1's l1: 2.1978\n",
      "[LightGBM] [Warning] feature_fraction is set=0.8908968199251955, colsample_bytree=0.6 will be ignored. Current value: feature_fraction=0.8908968199251955\n",
      "[LightGBM] [Warning] bagging_fraction is set=0.8986470131868095, subsample=0.8 will be ignored. Current value: bagging_fraction=0.8986470131868095\n",
      "[LightGBM] [Warning] bagging_freq is set=10, subsample_freq=0 will be ignored. Current value: bagging_freq=10\n",
      "Training until validation scores don't improve for 100 rounds\n",
      "[100]\ttraining's l1: 1.63431\tvalid_1's l1: 2.27264\n"
     ]
    },
    {
     "name": "stderr",
     "output_type": "stream",
     "text": [
      "\u001b[32m[I 2021-07-18 16:51:31,303]\u001b[0m Trial 62 finished with value: -2.2043524803265373 and parameters: {'max_depth': 18, 'min_child_weight': 4, 'subsample': 0.8, 'colsample_bytree': 0.6, 'reg_lambda': 1.3024758701830494, 'reg_alpha': 0.11434134087816085, 'feature_fraction': 0.8908968199251955, 'bagging_fraction': 0.8986470131868095, 'bagging_freq': 10, 'num_leaves': 940, 'min_child_samples': 35}. Best is trial 34 with value: -2.193905283125481.\u001b[0m\n"
     ]
    },
    {
     "name": "stdout",
     "output_type": "stream",
     "text": [
      "Early stopping, best iteration is:\n",
      "[20]\ttraining's l1: 1.77948\tvalid_1's l1: 2.20435\n",
      "[LightGBM] [Warning] feature_fraction is set=0.9134999371429304, colsample_bytree=0.5 will be ignored. Current value: feature_fraction=0.9134999371429304\n",
      "[LightGBM] [Warning] bagging_fraction is set=0.9585575608437708, subsample=0.8 will be ignored. Current value: bagging_fraction=0.9585575608437708\n",
      "[LightGBM] [Warning] bagging_freq is set=7, subsample_freq=0 will be ignored. Current value: bagging_freq=7\n",
      "Training until validation scores don't improve for 100 rounds\n",
      "[100]\ttraining's l1: 1.63195\tvalid_1's l1: 2.25782\n"
     ]
    },
    {
     "name": "stderr",
     "output_type": "stream",
     "text": [
      "\u001b[32m[I 2021-07-18 16:51:45,852]\u001b[0m Trial 63 finished with value: -2.2007732860760143 and parameters: {'max_depth': 15, 'min_child_weight': 7, 'subsample': 0.8, 'colsample_bytree': 0.5, 'reg_lambda': 0.6649007567672235, 'reg_alpha': 0.03311567411196663, 'feature_fraction': 0.9134999371429304, 'bagging_fraction': 0.9585575608437708, 'bagging_freq': 7, 'num_leaves': 911, 'min_child_samples': 19}. Best is trial 34 with value: -2.193905283125481.\u001b[0m\n"
     ]
    },
    {
     "name": "stdout",
     "output_type": "stream",
     "text": [
      "Early stopping, best iteration is:\n",
      "[20]\ttraining's l1: 1.7796\tvalid_1's l1: 2.20077\n",
      "[LightGBM] [Warning] feature_fraction is set=0.9690147429824721, colsample_bytree=0.6 will be ignored. Current value: feature_fraction=0.9690147429824721\n",
      "[LightGBM] [Warning] bagging_fraction is set=0.9228045454203304, subsample=0.8 will be ignored. Current value: bagging_fraction=0.9228045454203304\n",
      "[LightGBM] [Warning] bagging_freq is set=12, subsample_freq=0 will be ignored. Current value: bagging_freq=12\n",
      "Training until validation scores don't improve for 100 rounds\n",
      "[100]\ttraining's l1: 1.65006\tvalid_1's l1: 2.25965\n"
     ]
    },
    {
     "name": "stderr",
     "output_type": "stream",
     "text": [
      "\u001b[32m[I 2021-07-18 16:51:59,885]\u001b[0m Trial 64 finished with value: -2.1966966271334663 and parameters: {'max_depth': 20, 'min_child_weight': 3, 'subsample': 0.8, 'colsample_bytree': 0.6, 'reg_lambda': 0.13726101754198333, 'reg_alpha': 0.17279429015331388, 'feature_fraction': 0.9690147429824721, 'bagging_fraction': 0.9228045454203304, 'bagging_freq': 12, 'num_leaves': 786, 'min_child_samples': 25}. Best is trial 34 with value: -2.193905283125481.\u001b[0m\n"
     ]
    },
    {
     "name": "stdout",
     "output_type": "stream",
     "text": [
      "Early stopping, best iteration is:\n",
      "[22]\ttraining's l1: 1.76468\tvalid_1's l1: 2.1967\n",
      "[LightGBM] [Warning] feature_fraction is set=0.9735850811591042, colsample_bytree=0.7 will be ignored. Current value: feature_fraction=0.9735850811591042\n",
      "[LightGBM] [Warning] bagging_fraction is set=0.9191131896514854, subsample=0.8 will be ignored. Current value: bagging_fraction=0.9191131896514854\n",
      "[LightGBM] [Warning] bagging_freq is set=12, subsample_freq=0 will be ignored. Current value: bagging_freq=12\n",
      "Training until validation scores don't improve for 100 rounds\n",
      "[100]\ttraining's l1: 1.64553\tvalid_1's l1: 2.26983\n"
     ]
    },
    {
     "name": "stderr",
     "output_type": "stream",
     "text": [
      "\u001b[32m[I 2021-07-18 16:52:13,408]\u001b[0m Trial 65 finished with value: -2.1928612683905775 and parameters: {'max_depth': 20, 'min_child_weight': 3, 'subsample': 0.8, 'colsample_bytree': 0.7, 'reg_lambda': 0.12437298804990757, 'reg_alpha': 0.7571420981596358, 'feature_fraction': 0.9735850811591042, 'bagging_fraction': 0.9191131896514854, 'bagging_freq': 12, 'num_leaves': 756, 'min_child_samples': 27}. Best is trial 65 with value: -2.1928612683905775.\u001b[0m\n"
     ]
    },
    {
     "name": "stdout",
     "output_type": "stream",
     "text": [
      "Early stopping, best iteration is:\n",
      "[22]\ttraining's l1: 1.76673\tvalid_1's l1: 2.19286\n",
      "[LightGBM] [Warning] feature_fraction is set=0.979579036051076, colsample_bytree=0.6 will be ignored. Current value: feature_fraction=0.979579036051076\n",
      "[LightGBM] [Warning] bagging_fraction is set=0.9244454203077831, subsample=0.7 will be ignored. Current value: bagging_fraction=0.9244454203077831\n",
      "[LightGBM] [Warning] bagging_freq is set=13, subsample_freq=0 will be ignored. Current value: bagging_freq=13\n",
      "Training until validation scores don't improve for 100 rounds\n",
      "[100]\ttraining's l1: 1.65717\tvalid_1's l1: 2.25908\n"
     ]
    },
    {
     "name": "stderr",
     "output_type": "stream",
     "text": [
      "\u001b[32m[I 2021-07-18 16:52:26,454]\u001b[0m Trial 66 finished with value: -2.197081317739101 and parameters: {'max_depth': 20, 'min_child_weight': 5, 'subsample': 0.7, 'colsample_bytree': 0.6, 'reg_lambda': 0.15185191353103045, 'reg_alpha': 1.3280671934571786, 'feature_fraction': 0.979579036051076, 'bagging_fraction': 0.9244454203077831, 'bagging_freq': 13, 'num_leaves': 707, 'min_child_samples': 25}. Best is trial 65 with value: -2.1928612683905775.\u001b[0m\n"
     ]
    },
    {
     "name": "stdout",
     "output_type": "stream",
     "text": [
      "Early stopping, best iteration is:\n",
      "[22]\ttraining's l1: 1.77263\tvalid_1's l1: 2.19708\n",
      "[LightGBM] [Warning] feature_fraction is set=0.9634150777479654, colsample_bytree=0.7 will be ignored. Current value: feature_fraction=0.9634150777479654\n",
      "[LightGBM] [Warning] bagging_fraction is set=0.9923731222198282, subsample=0.8 will be ignored. Current value: bagging_fraction=0.9923731222198282\n",
      "[LightGBM] [Warning] bagging_freq is set=12, subsample_freq=0 will be ignored. Current value: bagging_freq=12\n",
      "Training until validation scores don't improve for 100 rounds\n",
      "[100]\ttraining's l1: 1.64824\tvalid_1's l1: 2.26182\n"
     ]
    },
    {
     "name": "stderr",
     "output_type": "stream",
     "text": [
      "\u001b[32m[I 2021-07-18 16:52:40,113]\u001b[0m Trial 67 finished with value: -2.197679362918882 and parameters: {'max_depth': 20, 'min_child_weight': 3, 'subsample': 0.8, 'colsample_bytree': 0.7, 'reg_lambda': 0.05201817761789881, 'reg_alpha': 3.7198837547040324, 'feature_fraction': 0.9634150777479654, 'bagging_fraction': 0.9923731222198282, 'bagging_freq': 12, 'num_leaves': 738, 'min_child_samples': 30}. Best is trial 65 with value: -2.1928612683905775.\u001b[0m\n"
     ]
    },
    {
     "name": "stdout",
     "output_type": "stream",
     "text": [
      "Early stopping, best iteration is:\n",
      "[20]\ttraining's l1: 1.79276\tvalid_1's l1: 2.19768\n",
      "[LightGBM] [Warning] feature_fraction is set=0.9914989735073696, colsample_bytree=0.7 will be ignored. Current value: feature_fraction=0.9914989735073696\n",
      "[LightGBM] [Warning] bagging_fraction is set=0.5436188250034324, subsample=0.8 will be ignored. Current value: bagging_fraction=0.5436188250034324\n",
      "[LightGBM] [Warning] bagging_freq is set=11, subsample_freq=0 will be ignored. Current value: bagging_freq=11\n",
      "Training until validation scores don't improve for 100 rounds\n",
      "[100]\ttraining's l1: 1.64273\tvalid_1's l1: 2.28575\n"
     ]
    },
    {
     "name": "stderr",
     "output_type": "stream",
     "text": [
      "\u001b[32m[I 2021-07-18 16:52:51,971]\u001b[0m Trial 68 finished with value: -2.2030836759788732 and parameters: {'max_depth': 18, 'min_child_weight': 13, 'subsample': 0.8, 'colsample_bytree': 0.7, 'reg_lambda': 0.017465285011389553, 'reg_alpha': 0.7146164200957119, 'feature_fraction': 0.9914989735073696, 'bagging_fraction': 0.5436188250034324, 'bagging_freq': 11, 'num_leaves': 778, 'min_child_samples': 10}. Best is trial 65 with value: -2.1928612683905775.\u001b[0m\n"
     ]
    },
    {
     "name": "stdout",
     "output_type": "stream",
     "text": [
      "Early stopping, best iteration is:\n",
      "[22]\ttraining's l1: 1.77449\tvalid_1's l1: 2.20308\n",
      "[LightGBM] [Warning] feature_fraction is set=0.9986569148575437, colsample_bytree=0.5 will be ignored. Current value: feature_fraction=0.9986569148575437\n",
      "[LightGBM] [Warning] bagging_fraction is set=0.9357794322969193, subsample=0.8 will be ignored. Current value: bagging_fraction=0.9357794322969193\n",
      "[LightGBM] [Warning] bagging_freq is set=8, subsample_freq=0 will be ignored. Current value: bagging_freq=8\n",
      "Training until validation scores don't improve for 100 rounds\n",
      "[100]\ttraining's l1: 1.75783\tvalid_1's l1: 2.22801\n"
     ]
    },
    {
     "name": "stderr",
     "output_type": "stream",
     "text": [
      "\u001b[32m[I 2021-07-18 16:53:00,127]\u001b[0m Trial 69 finished with value: -2.21154643653353 and parameters: {'max_depth': 19, 'min_child_weight': 2, 'subsample': 0.8, 'colsample_bytree': 0.5, 'reg_lambda': 0.08422043517333712, 'reg_alpha': 0.2359307211293866, 'feature_fraction': 0.9986569148575437, 'bagging_fraction': 0.9357794322969193, 'bagging_freq': 8, 'num_leaves': 183, 'min_child_samples': 32}. Best is trial 65 with value: -2.1928612683905775.\u001b[0m\n"
     ]
    },
    {
     "name": "stdout",
     "output_type": "stream",
     "text": [
      "Early stopping, best iteration is:\n",
      "[26]\ttraining's l1: 1.83204\tvalid_1's l1: 2.21155\n",
      "[LightGBM] [Warning] feature_fraction is set=0.9569808571733023, colsample_bytree=0.6 will be ignored. Current value: feature_fraction=0.9569808571733023\n",
      "[LightGBM] [Warning] bagging_fraction is set=0.9038041031921374, subsample=0.7 will be ignored. Current value: bagging_fraction=0.9038041031921374\n",
      "[LightGBM] [Warning] bagging_freq is set=13, subsample_freq=0 will be ignored. Current value: bagging_freq=13\n",
      "Training until validation scores don't improve for 100 rounds\n",
      "[100]\ttraining's l1: 1.64226\tvalid_1's l1: 2.26934\n"
     ]
    },
    {
     "name": "stderr",
     "output_type": "stream",
     "text": [
      "\u001b[32m[I 2021-07-18 16:53:13,556]\u001b[0m Trial 70 finished with value: -2.2018717592824926 and parameters: {'max_depth': 16, 'min_child_weight': 5, 'subsample': 0.7, 'colsample_bytree': 0.6, 'reg_lambda': 0.25139268552421085, 'reg_alpha': 0.41402739697138524, 'feature_fraction': 0.9569808571733023, 'bagging_fraction': 0.9038041031921374, 'bagging_freq': 13, 'num_leaves': 799, 'min_child_samples': 27}. Best is trial 65 with value: -2.1928612683905775.\u001b[0m\n"
     ]
    },
    {
     "name": "stdout",
     "output_type": "stream",
     "text": [
      "Early stopping, best iteration is:\n",
      "[22]\ttraining's l1: 1.76921\tvalid_1's l1: 2.20187\n",
      "[LightGBM] [Warning] feature_fraction is set=0.9296080124705859, colsample_bytree=0.7 will be ignored. Current value: feature_fraction=0.9296080124705859\n",
      "[LightGBM] [Warning] bagging_fraction is set=0.8547846306651351, subsample=0.8 will be ignored. Current value: bagging_fraction=0.8547846306651351\n",
      "[LightGBM] [Warning] bagging_freq is set=11, subsample_freq=0 will be ignored. Current value: bagging_freq=11\n",
      "Training until validation scores don't improve for 100 rounds\n",
      "[100]\ttraining's l1: 1.63542\tvalid_1's l1: 2.27427\n"
     ]
    },
    {
     "name": "stderr",
     "output_type": "stream",
     "text": [
      "\u001b[32m[I 2021-07-18 16:53:27,451]\u001b[0m Trial 71 finished with value: -2.2009388852592457 and parameters: {'max_depth': 18, 'min_child_weight': 3, 'subsample': 0.8, 'colsample_bytree': 0.7, 'reg_lambda': 2.579886485030656, 'reg_alpha': 0.062496478530228605, 'feature_fraction': 0.9296080124705859, 'bagging_fraction': 0.8547846306651351, 'bagging_freq': 11, 'num_leaves': 850, 'min_child_samples': 20}. Best is trial 65 with value: -2.1928612683905775.\u001b[0m\n"
     ]
    },
    {
     "name": "stdout",
     "output_type": "stream",
     "text": [
      "Early stopping, best iteration is:\n",
      "[22]\ttraining's l1: 1.7636\tvalid_1's l1: 2.20094\n",
      "[LightGBM] [Warning] feature_fraction is set=0.833268239773822, colsample_bytree=0.7 will be ignored. Current value: feature_fraction=0.833268239773822\n",
      "[LightGBM] [Warning] bagging_fraction is set=0.8848718431555482, subsample=0.8 will be ignored. Current value: bagging_fraction=0.8848718431555482\n",
      "[LightGBM] [Warning] bagging_freq is set=9, subsample_freq=0 will be ignored. Current value: bagging_freq=9\n",
      "Training until validation scores don't improve for 100 rounds\n",
      "[100]\ttraining's l1: 1.6434\tvalid_1's l1: 2.276\n"
     ]
    },
    {
     "name": "stderr",
     "output_type": "stream",
     "text": [
      "\u001b[32m[I 2021-07-18 16:53:40,883]\u001b[0m Trial 72 finished with value: -2.2125966136417055 and parameters: {'max_depth': 20, 'min_child_weight': 3, 'subsample': 0.8, 'colsample_bytree': 0.7, 'reg_lambda': 0.12580603223431647, 'reg_alpha': 0.27666360351114666, 'feature_fraction': 0.833268239773822, 'bagging_fraction': 0.8848718431555482, 'bagging_freq': 9, 'num_leaves': 767, 'min_child_samples': 24}. Best is trial 65 with value: -2.1928612683905775.\u001b[0m\n"
     ]
    },
    {
     "name": "stdout",
     "output_type": "stream",
     "text": [
      "Early stopping, best iteration is:\n",
      "[22]\ttraining's l1: 1.77466\tvalid_1's l1: 2.2126\n",
      "[LightGBM] [Warning] feature_fraction is set=0.9459665663761841, colsample_bytree=0.7 will be ignored. Current value: feature_fraction=0.9459665663761841\n",
      "[LightGBM] [Warning] bagging_fraction is set=0.42599727974798096, subsample=0.8 will be ignored. Current value: bagging_fraction=0.42599727974798096\n",
      "[LightGBM] [Warning] bagging_freq is set=12, subsample_freq=0 will be ignored. Current value: bagging_freq=12\n",
      "Training until validation scores don't improve for 100 rounds\n",
      "[100]\ttraining's l1: 1.65891\tvalid_1's l1: 2.27442\n"
     ]
    },
    {
     "name": "stderr",
     "output_type": "stream",
     "text": [
      "\u001b[32m[I 2021-07-18 16:53:51,125]\u001b[0m Trial 73 finished with value: -2.2079432810191157 and parameters: {'max_depth': 17, 'min_child_weight': 2, 'subsample': 0.8, 'colsample_bytree': 0.7, 'reg_lambda': 0.3241239986448556, 'reg_alpha': 0.864471019183073, 'feature_fraction': 0.9459665663761841, 'bagging_fraction': 0.42599727974798096, 'bagging_freq': 12, 'num_leaves': 687, 'min_child_samples': 17}. Best is trial 65 with value: -2.1928612683905775.\u001b[0m\n"
     ]
    },
    {
     "name": "stdout",
     "output_type": "stream",
     "text": [
      "Early stopping, best iteration is:\n",
      "[22]\ttraining's l1: 1.78915\tvalid_1's l1: 2.20794\n",
      "[LightGBM] [Warning] feature_fraction is set=0.8671743864215359, colsample_bytree=0.7 will be ignored. Current value: feature_fraction=0.8671743864215359\n",
      "[LightGBM] [Warning] bagging_fraction is set=0.8323110736371876, subsample=0.9 will be ignored. Current value: bagging_fraction=0.8323110736371876\n",
      "[LightGBM] [Warning] bagging_freq is set=12, subsample_freq=0 will be ignored. Current value: bagging_freq=12\n",
      "Training until validation scores don't improve for 100 rounds\n",
      "[100]\ttraining's l1: 1.62936\tvalid_1's l1: 2.27231\n"
     ]
    },
    {
     "name": "stderr",
     "output_type": "stream",
     "text": [
      "\u001b[32m[I 2021-07-18 16:54:05,129]\u001b[0m Trial 74 finished with value: -2.199109380281007 and parameters: {'max_depth': 19, 'min_child_weight': 6, 'subsample': 0.9, 'colsample_bytree': 0.7, 'reg_lambda': 0.5831031870168493, 'reg_alpha': 0.03297494648384797, 'feature_fraction': 0.8671743864215359, 'bagging_fraction': 0.8323110736371876, 'bagging_freq': 12, 'num_leaves': 903, 'min_child_samples': 15}. Best is trial 65 with value: -2.1928612683905775.\u001b[0m\n"
     ]
    },
    {
     "name": "stdout",
     "output_type": "stream",
     "text": [
      "Early stopping, best iteration is:\n",
      "[20]\ttraining's l1: 1.78094\tvalid_1's l1: 2.19911\n",
      "[LightGBM] [Warning] feature_fraction is set=0.9207425769784829, colsample_bytree=0.8 will be ignored. Current value: feature_fraction=0.9207425769784829\n",
      "[LightGBM] [Warning] bagging_fraction is set=0.9966853693366436, subsample=0.8 will be ignored. Current value: bagging_fraction=0.9966853693366436\n",
      "[LightGBM] [Warning] bagging_freq is set=10, subsample_freq=0 will be ignored. Current value: bagging_freq=10\n",
      "Training until validation scores don't improve for 100 rounds\n",
      "[100]\ttraining's l1: 1.63973\tvalid_1's l1: 2.27092\n"
     ]
    },
    {
     "name": "stderr",
     "output_type": "stream",
     "text": [
      "\u001b[32m[I 2021-07-18 16:54:18,900]\u001b[0m Trial 75 finished with value: -2.2068848088051176 and parameters: {'max_depth': 16, 'min_child_weight': 4, 'subsample': 0.8, 'colsample_bytree': 0.8, 'reg_lambda': 0.8242682025411877, 'reg_alpha': 0.17155910333959254, 'feature_fraction': 0.9207425769784829, 'bagging_fraction': 0.9966853693366436, 'bagging_freq': 10, 'num_leaves': 803, 'min_child_samples': 11}. Best is trial 65 with value: -2.1928612683905775.\u001b[0m\n"
     ]
    },
    {
     "name": "stdout",
     "output_type": "stream",
     "text": [
      "Early stopping, best iteration is:\n",
      "[20]\ttraining's l1: 1.78677\tvalid_1's l1: 2.20688\n",
      "[LightGBM] [Warning] feature_fraction is set=0.9600397093138965, colsample_bytree=0.7 will be ignored. Current value: feature_fraction=0.9600397093138965\n",
      "[LightGBM] [Warning] bagging_fraction is set=0.9458101134965656, subsample=0.8 will be ignored. Current value: bagging_fraction=0.9458101134965656\n",
      "[LightGBM] [Warning] bagging_freq is set=7, subsample_freq=0 will be ignored. Current value: bagging_freq=7\n",
      "Training until validation scores don't improve for 100 rounds\n",
      "[100]\ttraining's l1: 1.7163\tvalid_1's l1: 2.24051\n"
     ]
    },
    {
     "name": "stderr",
     "output_type": "stream",
     "text": [
      "\u001b[32m[I 2021-07-18 16:54:28,682]\u001b[0m Trial 76 finished with value: -2.205321913708501 and parameters: {'max_depth': 15, 'min_child_weight': 7, 'subsample': 0.8, 'colsample_bytree': 0.7, 'reg_lambda': 1.5910743214947336, 'reg_alpha': 0.5359197970237553, 'feature_fraction': 0.9600397093138965, 'bagging_fraction': 0.9458101134965656, 'bagging_freq': 7, 'num_leaves': 315, 'min_child_samples': 79}. Best is trial 65 with value: -2.1928612683905775.\u001b[0m\n"
     ]
    },
    {
     "name": "stdout",
     "output_type": "stream",
     "text": [
      "Early stopping, best iteration is:\n",
      "[28]\ttraining's l1: 1.78733\tvalid_1's l1: 2.20532\n",
      "[LightGBM] [Warning] feature_fraction is set=0.980260643129522, colsample_bytree=0.8 will be ignored. Current value: feature_fraction=0.980260643129522\n",
      "[LightGBM] [Warning] bagging_fraction is set=0.7992824183038956, subsample=0.8 will be ignored. Current value: bagging_fraction=0.7992824183038956\n",
      "[LightGBM] [Warning] bagging_freq is set=11, subsample_freq=0 will be ignored. Current value: bagging_freq=11\n",
      "Training until validation scores don't improve for 100 rounds\n",
      "[100]\ttraining's l1: 1.6418\tvalid_1's l1: 2.26396\n"
     ]
    },
    {
     "name": "stderr",
     "output_type": "stream",
     "text": [
      "\u001b[32m[I 2021-07-18 16:54:41,429]\u001b[0m Trial 77 finished with value: -2.2059415536717584 and parameters: {'max_depth': 14, 'min_child_weight': 1, 'subsample': 0.8, 'colsample_bytree': 0.8, 'reg_lambda': 4.288254865639375, 'reg_alpha': 1.6669940825017333, 'feature_fraction': 0.980260643129522, 'bagging_fraction': 0.7992824183038956, 'bagging_freq': 11, 'num_leaves': 875, 'min_child_samples': 38}. Best is trial 65 with value: -2.1928612683905775.\u001b[0m\n"
     ]
    },
    {
     "name": "stdout",
     "output_type": "stream",
     "text": [
      "Early stopping, best iteration is:\n",
      "[21]\ttraining's l1: 1.78087\tvalid_1's l1: 2.20594\n",
      "[LightGBM] [Warning] feature_fraction is set=0.9353433285009369, colsample_bytree=0.7 will be ignored. Current value: feature_fraction=0.9353433285009369\n",
      "[LightGBM] [Warning] bagging_fraction is set=0.8799996156230784, subsample=0.9 will be ignored. Current value: bagging_fraction=0.8799996156230784\n",
      "[LightGBM] [Warning] bagging_freq is set=20, subsample_freq=0 will be ignored. Current value: bagging_freq=20\n",
      "Training until validation scores don't improve for 100 rounds\n",
      "[100]\ttraining's l1: 1.67289\tvalid_1's l1: 2.25755\n"
     ]
    },
    {
     "name": "stderr",
     "output_type": "stream",
     "text": [
      "\u001b[32m[I 2021-07-18 16:54:52,882]\u001b[0m Trial 78 finished with value: -2.1986791830334806 and parameters: {'max_depth': 18, 'min_child_weight': 3, 'subsample': 0.9, 'colsample_bytree': 0.7, 'reg_lambda': 0.06770993609008574, 'reg_alpha': 0.08794984308547532, 'feature_fraction': 0.9353433285009369, 'bagging_fraction': 0.8799996156230784, 'bagging_freq': 20, 'num_leaves': 546, 'min_child_samples': 22}. Best is trial 65 with value: -2.1928612683905775.\u001b[0m\n"
     ]
    },
    {
     "name": "stdout",
     "output_type": "stream",
     "text": [
      "Early stopping, best iteration is:\n",
      "[22]\ttraining's l1: 1.78868\tvalid_1's l1: 2.19868\n",
      "[LightGBM] [Warning] feature_fraction is set=0.89413054615096, colsample_bytree=0.6 will be ignored. Current value: feature_fraction=0.89413054615096\n",
      "[LightGBM] [Warning] bagging_fraction is set=0.9239299684344713, subsample=0.8 will be ignored. Current value: bagging_fraction=0.9239299684344713\n",
      "[LightGBM] [Warning] bagging_freq is set=13, subsample_freq=0 will be ignored. Current value: bagging_freq=13\n",
      "Training until validation scores don't improve for 100 rounds\n",
      "[100]\ttraining's l1: 1.64926\tvalid_1's l1: 2.26748\n"
     ]
    },
    {
     "name": "stderr",
     "output_type": "stream",
     "text": [
      "\u001b[32m[I 2021-07-18 16:55:06,059]\u001b[0m Trial 79 finished with value: -2.2006455805352534 and parameters: {'max_depth': 20, 'min_child_weight': 2, 'subsample': 0.8, 'colsample_bytree': 0.6, 'reg_lambda': 0.027760475535828017, 'reg_alpha': 0.19831258289039003, 'feature_fraction': 0.89413054615096, 'bagging_fraction': 0.9239299684344713, 'bagging_freq': 13, 'num_leaves': 737, 'min_child_samples': 27}. Best is trial 65 with value: -2.1928612683905775.\u001b[0m\n"
     ]
    },
    {
     "name": "stdout",
     "output_type": "stream",
     "text": [
      "Early stopping, best iteration is:\n",
      "[21]\ttraining's l1: 1.78116\tvalid_1's l1: 2.20065\n",
      "[LightGBM] [Warning] feature_fraction is set=0.5385838972318382, colsample_bytree=0.7 will be ignored. Current value: feature_fraction=0.5385838972318382\n",
      "[LightGBM] [Warning] bagging_fraction is set=0.9775378264707268, subsample=0.9 will be ignored. Current value: bagging_fraction=0.9775378264707268\n",
      "[LightGBM] [Warning] bagging_freq is set=9, subsample_freq=0 will be ignored. Current value: bagging_freq=9\n",
      "Training until validation scores don't improve for 100 rounds\n",
      "[100]\ttraining's l1: 1.62901\tvalid_1's l1: 2.30747\n"
     ]
    },
    {
     "name": "stderr",
     "output_type": "stream",
     "text": [
      "\u001b[32m[I 2021-07-18 16:55:20,382]\u001b[0m Trial 80 finished with value: -2.245974476480794 and parameters: {'max_depth': 19, 'min_child_weight': 5, 'subsample': 0.9, 'colsample_bytree': 0.7, 'reg_lambda': 0.26181754500953114, 'reg_alpha': 0.004551972178814086, 'feature_fraction': 0.5385838972318382, 'bagging_fraction': 0.9775378264707268, 'bagging_freq': 9, 'num_leaves': 1000, 'min_child_samples': 18}. Best is trial 65 with value: -2.1928612683905775.\u001b[0m\n"
     ]
    },
    {
     "name": "stdout",
     "output_type": "stream",
     "text": [
      "Early stopping, best iteration is:\n",
      "[19]\ttraining's l1: 1.81407\tvalid_1's l1: 2.24597\n",
      "[LightGBM] [Warning] feature_fraction is set=0.9786217633320768, colsample_bytree=0.6 will be ignored. Current value: feature_fraction=0.9786217633320768\n",
      "[LightGBM] [Warning] bagging_fraction is set=0.9156718900967212, subsample=0.7 will be ignored. Current value: bagging_fraction=0.9156718900967212\n",
      "[LightGBM] [Warning] bagging_freq is set=14, subsample_freq=0 will be ignored. Current value: bagging_freq=14\n",
      "Training until validation scores don't improve for 100 rounds\n",
      "[100]\ttraining's l1: 1.65321\tvalid_1's l1: 2.2575\n"
     ]
    },
    {
     "name": "stderr",
     "output_type": "stream",
     "text": [
      "\u001b[32m[I 2021-07-18 16:55:33,612]\u001b[0m Trial 81 finished with value: -2.1968748629273303 and parameters: {'max_depth': 20, 'min_child_weight': 4, 'subsample': 0.7, 'colsample_bytree': 0.6, 'reg_lambda': 0.1914480975335003, 'reg_alpha': 1.1709875657165696, 'feature_fraction': 0.9786217633320768, 'bagging_fraction': 0.9156718900967212, 'bagging_freq': 14, 'num_leaves': 716, 'min_child_samples': 26}. Best is trial 65 with value: -2.1928612683905775.\u001b[0m\n"
     ]
    },
    {
     "name": "stdout",
     "output_type": "stream",
     "text": [
      "Early stopping, best iteration is:\n",
      "[22]\ttraining's l1: 1.77079\tvalid_1's l1: 2.19687\n",
      "[LightGBM] [Warning] feature_fraction is set=0.9695497172652346, colsample_bytree=0.6 will be ignored. Current value: feature_fraction=0.9695497172652346\n",
      "[LightGBM] [Warning] bagging_fraction is set=0.9060192061932604, subsample=0.7 will be ignored. Current value: bagging_fraction=0.9060192061932604\n",
      "[LightGBM] [Warning] bagging_freq is set=10, subsample_freq=0 will be ignored. Current value: bagging_freq=10\n",
      "Training until validation scores don't improve for 100 rounds\n",
      "[100]\ttraining's l1: 1.67026\tvalid_1's l1: 2.2494\n"
     ]
    },
    {
     "name": "stderr",
     "output_type": "stream",
     "text": [
      "\u001b[32m[I 2021-07-18 16:55:45,635]\u001b[0m Trial 82 finished with value: -2.2005641194033143 and parameters: {'max_depth': 18, 'min_child_weight': 4, 'subsample': 0.7, 'colsample_bytree': 0.6, 'reg_lambda': 0.11987273177487666, 'reg_alpha': 3.712212670296747, 'feature_fraction': 0.9695497172652346, 'bagging_fraction': 0.9060192061932604, 'bagging_freq': 10, 'num_leaves': 587, 'min_child_samples': 25}. Best is trial 65 with value: -2.1928612683905775.\u001b[0m\n"
     ]
    },
    {
     "name": "stdout",
     "output_type": "stream",
     "text": [
      "Early stopping, best iteration is:\n",
      "[23]\ttraining's l1: 1.78088\tvalid_1's l1: 2.20056\n",
      "[LightGBM] [Warning] feature_fraction is set=0.9958806978727939, colsample_bytree=0.6 will be ignored. Current value: feature_fraction=0.9958806978727939\n",
      "[LightGBM] [Warning] bagging_fraction is set=0.8550227125289557, subsample=0.7 will be ignored. Current value: bagging_fraction=0.8550227125289557\n",
      "[LightGBM] [Warning] bagging_freq is set=14, subsample_freq=0 will be ignored. Current value: bagging_freq=14\n",
      "Training until validation scores don't improve for 100 rounds\n",
      "[100]\ttraining's l1: 1.65808\tvalid_1's l1: 2.25698\n"
     ]
    },
    {
     "name": "stderr",
     "output_type": "stream",
     "text": [
      "\u001b[32m[I 2021-07-18 16:55:58,106]\u001b[0m Trial 83 finished with value: -2.1951180182094467 and parameters: {'max_depth': 20, 'min_child_weight': 3, 'subsample': 0.7, 'colsample_bytree': 0.6, 'reg_lambda': 0.18552563250751583, 'reg_alpha': 0.3304332417775753, 'feature_fraction': 0.9958806978727939, 'bagging_fraction': 0.8550227125289557, 'bagging_freq': 14, 'num_leaves': 679, 'min_child_samples': 14}. Best is trial 65 with value: -2.1928612683905775.\u001b[0m\n"
     ]
    },
    {
     "name": "stdout",
     "output_type": "stream",
     "text": [
      "Early stopping, best iteration is:\n",
      "[22]\ttraining's l1: 1.77413\tvalid_1's l1: 2.19512\n",
      "[LightGBM] [Warning] feature_fraction is set=0.9463636471936615, colsample_bytree=0.6 will be ignored. Current value: feature_fraction=0.9463636471936615\n",
      "[LightGBM] [Warning] bagging_fraction is set=0.8621882822740883, subsample=0.7 will be ignored. Current value: bagging_fraction=0.8621882822740883\n",
      "[LightGBM] [Warning] bagging_freq is set=12, subsample_freq=0 will be ignored. Current value: bagging_freq=12\n",
      "Training until validation scores don't improve for 100 rounds\n",
      "[100]\ttraining's l1: 1.66359\tvalid_1's l1: 2.26338\n"
     ]
    },
    {
     "name": "stderr",
     "output_type": "stream",
     "text": [
      "\u001b[32m[I 2021-07-18 16:56:10,229]\u001b[0m Trial 84 finished with value: -2.2019151948874978 and parameters: {'max_depth': 17, 'min_child_weight': 2, 'subsample': 0.7, 'colsample_bytree': 0.6, 'reg_lambda': 0.3454266799545079, 'reg_alpha': 0.27892113408220853, 'feature_fraction': 0.9463636471936615, 'bagging_fraction': 0.8621882822740883, 'bagging_freq': 12, 'num_leaves': 651, 'min_child_samples': 13}. Best is trial 65 with value: -2.1928612683905775.\u001b[0m\n"
     ]
    },
    {
     "name": "stdout",
     "output_type": "stream",
     "text": [
      "Early stopping, best iteration is:\n",
      "[22]\ttraining's l1: 1.7838\tvalid_1's l1: 2.20192\n",
      "[LightGBM] [Warning] feature_fraction is set=0.9975209216631397, colsample_bytree=0.7 will be ignored. Current value: feature_fraction=0.9975209216631397\n",
      "[LightGBM] [Warning] bagging_fraction is set=0.8909977525781448, subsample=0.8 will be ignored. Current value: bagging_fraction=0.8909977525781448\n",
      "[LightGBM] [Warning] bagging_freq is set=11, subsample_freq=0 will be ignored. Current value: bagging_freq=11\n",
      "Training until validation scores don't improve for 100 rounds\n",
      "[100]\ttraining's l1: 1.64006\tvalid_1's l1: 2.27082\n"
     ]
    },
    {
     "name": "stderr",
     "output_type": "stream",
     "text": [
      "\u001b[32m[I 2021-07-18 16:56:24,386]\u001b[0m Trial 85 finished with value: -2.199799145995626 and parameters: {'max_depth': 19, 'min_child_weight': 3, 'subsample': 0.8, 'colsample_bytree': 0.7, 'reg_lambda': 2.974649457911432, 'reg_alpha': 0.48182676980103634, 'feature_fraction': 0.9975209216631397, 'bagging_fraction': 0.8909977525781448, 'bagging_freq': 11, 'num_leaves': 841, 'min_child_samples': 8}. Best is trial 65 with value: -2.1928612683905775.\u001b[0m\n"
     ]
    },
    {
     "name": "stdout",
     "output_type": "stream",
     "text": [
      "Early stopping, best iteration is:\n",
      "[19]\ttraining's l1: 1.79538\tvalid_1's l1: 2.1998\n",
      "[LightGBM] [Warning] feature_fraction is set=0.7904736921471107, colsample_bytree=0.6 will be ignored. Current value: feature_fraction=0.7904736921471107\n",
      "[LightGBM] [Warning] bagging_fraction is set=0.947835624892932, subsample=0.7 will be ignored. Current value: bagging_fraction=0.947835624892932\n",
      "[LightGBM] [Warning] bagging_freq is set=13, subsample_freq=0 will be ignored. Current value: bagging_freq=13\n",
      "Training until validation scores don't improve for 100 rounds\n",
      "[100]\ttraining's l1: 1.6472\tvalid_1's l1: 2.27597\n"
     ]
    },
    {
     "name": "stderr",
     "output_type": "stream",
     "text": [
      "\u001b[32m[I 2021-07-18 16:56:36,669]\u001b[0m Trial 86 finished with value: -2.222177609251681 and parameters: {'max_depth': 14, 'min_child_weight': 1, 'subsample': 0.7, 'colsample_bytree': 0.6, 'reg_lambda': 0.9681894710528289, 'reg_alpha': 0.1173638301000933, 'feature_fraction': 0.7904736921471107, 'bagging_fraction': 0.947835624892932, 'bagging_freq': 13, 'num_leaves': 769, 'min_child_samples': 14}. Best is trial 65 with value: -2.1928612683905775.\u001b[0m\n"
     ]
    },
    {
     "name": "stdout",
     "output_type": "stream",
     "text": [
      "Early stopping, best iteration is:\n",
      "[28]\ttraining's l1: 1.73601\tvalid_1's l1: 2.22218\n",
      "[LightGBM] [Warning] feature_fraction is set=0.8771213498121561, colsample_bytree=0.7 will be ignored. Current value: feature_fraction=0.8771213498121561\n",
      "[LightGBM] [Warning] bagging_fraction is set=0.7409869601429218, subsample=0.6 will be ignored. Current value: bagging_fraction=0.7409869601429218\n",
      "[LightGBM] [Warning] bagging_freq is set=19, subsample_freq=0 will be ignored. Current value: bagging_freq=19\n",
      "Training until validation scores don't improve for 100 rounds\n",
      "[100]\ttraining's l1: 1.68393\tvalid_1's l1: 2.26309\n"
     ]
    },
    {
     "name": "stderr",
     "output_type": "stream",
     "text": [
      "\u001b[32m[I 2021-07-18 16:56:47,016]\u001b[0m Trial 87 finished with value: -2.209286709751853 and parameters: {'max_depth': 16, 'min_child_weight': 5, 'subsample': 0.6, 'colsample_bytree': 0.7, 'reg_lambda': 0.6254197986596914, 'reg_alpha': 0.05685143055837474, 'feature_fraction': 0.8771213498121561, 'bagging_fraction': 0.7409869601429218, 'bagging_freq': 19, 'num_leaves': 476, 'min_child_samples': 20}. Best is trial 65 with value: -2.1928612683905775.\u001b[0m\n"
     ]
    },
    {
     "name": "stdout",
     "output_type": "stream",
     "text": [
      "Early stopping, best iteration is:\n",
      "[26]\ttraining's l1: 1.77385\tvalid_1's l1: 2.20929\n",
      "[LightGBM] [Warning] feature_fraction is set=0.9099432491270573, colsample_bytree=0.6 will be ignored. Current value: feature_fraction=0.9099432491270573\n",
      "[LightGBM] [Warning] bagging_fraction is set=0.8179101814481932, subsample=0.8 will be ignored. Current value: bagging_fraction=0.8179101814481932\n",
      "[LightGBM] [Warning] bagging_freq is set=14, subsample_freq=0 will be ignored. Current value: bagging_freq=14\n",
      "Training until validation scores don't improve for 100 rounds\n",
      "[100]\ttraining's l1: 1.63866\tvalid_1's l1: 2.27827\n"
     ]
    },
    {
     "name": "stderr",
     "output_type": "stream",
     "text": [
      "\u001b[32m[I 2021-07-18 16:57:00,338]\u001b[0m Trial 88 finished with value: -2.2037266973524066 and parameters: {'max_depth': 17, 'min_child_weight': 8, 'subsample': 0.8, 'colsample_bytree': 0.6, 'reg_lambda': 5.794770626632591, 'reg_alpha': 0.32244724466517954, 'feature_fraction': 0.9099432491270573, 'bagging_fraction': 0.8179101814481932, 'bagging_freq': 14, 'num_leaves': 807, 'min_child_samples': 16}. Best is trial 65 with value: -2.1928612683905775.\u001b[0m\n"
     ]
    },
    {
     "name": "stdout",
     "output_type": "stream",
     "text": [
      "Early stopping, best iteration is:\n",
      "[20]\ttraining's l1: 1.79012\tvalid_1's l1: 2.20373\n",
      "[LightGBM] [Warning] feature_fraction is set=0.8495453659054125, colsample_bytree=0.5 will be ignored. Current value: feature_fraction=0.8495453659054125\n",
      "[LightGBM] [Warning] bagging_fraction is set=0.8471460111813192, subsample=0.8 will be ignored. Current value: bagging_fraction=0.8471460111813192\n",
      "[LightGBM] [Warning] bagging_freq is set=18, subsample_freq=0 will be ignored. Current value: bagging_freq=18\n",
      "Training until validation scores don't improve for 100 rounds\n",
      "[100]\ttraining's l1: 1.68943\tvalid_1's l1: 2.23972\n"
     ]
    },
    {
     "name": "stderr",
     "output_type": "stream",
     "text": [
      "\u001b[32m[I 2021-07-18 16:57:09,176]\u001b[0m Trial 89 finished with value: -2.217623798930791 and parameters: {'max_depth': 10, 'min_child_weight': 6, 'subsample': 0.8, 'colsample_bytree': 0.5, 'reg_lambda': 1.7273190875422804, 'reg_alpha': 0.01193121340379742, 'feature_fraction': 0.8495453659054125, 'bagging_fraction': 0.8471460111813192, 'bagging_freq': 18, 'num_leaves': 693, 'min_child_samples': 33}. Best is trial 65 with value: -2.1928612683905775.\u001b[0m\n"
     ]
    },
    {
     "name": "stdout",
     "output_type": "stream",
     "text": [
      "Early stopping, best iteration is:\n",
      "[25]\ttraining's l1: 1.79188\tvalid_1's l1: 2.21762\n",
      "[LightGBM] [Warning] feature_fraction is set=0.9254974654527421, colsample_bytree=0.8 will be ignored. Current value: feature_fraction=0.9254974654527421\n",
      "[LightGBM] [Warning] bagging_fraction is set=0.8749580951903009, subsample=0.8 will be ignored. Current value: bagging_fraction=0.8749580951903009\n",
      "[LightGBM] [Warning] bagging_freq is set=10, subsample_freq=0 will be ignored. Current value: bagging_freq=10\n",
      "Training until validation scores don't improve for 100 rounds\n",
      "[100]\ttraining's l1: 1.66043\tvalid_1's l1: 2.25008\n"
     ]
    },
    {
     "name": "stderr",
     "output_type": "stream",
     "text": [
      "\u001b[32m[I 2021-07-18 16:57:20,902]\u001b[0m Trial 90 finished with value: -2.195360730900322 and parameters: {'max_depth': 15, 'min_child_weight': 2, 'subsample': 0.8, 'colsample_bytree': 0.8, 'reg_lambda': 0.13416835838659236, 'reg_alpha': 0.7802007609098731, 'feature_fraction': 0.9254974654527421, 'bagging_fraction': 0.8749580951903009, 'bagging_freq': 10, 'num_leaves': 631, 'min_child_samples': 29}. Best is trial 65 with value: -2.1928612683905775.\u001b[0m\n"
     ]
    },
    {
     "name": "stdout",
     "output_type": "stream",
     "text": [
      "Early stopping, best iteration is:\n",
      "[21]\ttraining's l1: 1.79355\tvalid_1's l1: 2.19536\n",
      "[LightGBM] [Warning] feature_fraction is set=0.9277836903074244, colsample_bytree=0.8 will be ignored. Current value: feature_fraction=0.9277836903074244\n",
      "[LightGBM] [Warning] bagging_fraction is set=0.8718565077638757, subsample=0.8 will be ignored. Current value: bagging_fraction=0.8718565077638757\n",
      "[LightGBM] [Warning] bagging_freq is set=10, subsample_freq=0 will be ignored. Current value: bagging_freq=10\n",
      "Training until validation scores don't improve for 100 rounds\n",
      "[100]\ttraining's l1: 1.67424\tvalid_1's l1: 2.24819\n"
     ]
    },
    {
     "name": "stderr",
     "output_type": "stream",
     "text": [
      "\u001b[32m[I 2021-07-18 16:57:31,783]\u001b[0m Trial 91 finished with value: -2.215005947029784 and parameters: {'max_depth': 15, 'min_child_weight': 2, 'subsample': 0.8, 'colsample_bytree': 0.8, 'reg_lambda': 0.13756815111116374, 'reg_alpha': 0.6288105597325284, 'feature_fraction': 0.9277836903074244, 'bagging_fraction': 0.8718565077638757, 'bagging_freq': 10, 'num_leaves': 531, 'min_child_samples': 29}. Best is trial 65 with value: -2.1928612683905775.\u001b[0m\n"
     ]
    },
    {
     "name": "stdout",
     "output_type": "stream",
     "text": [
      "Early stopping, best iteration is:\n",
      "[20]\ttraining's l1: 1.81704\tvalid_1's l1: 2.21501\n",
      "[LightGBM] [Warning] feature_fraction is set=0.9538971416144183, colsample_bytree=0.7 will be ignored. Current value: feature_fraction=0.9538971416144183\n",
      "[LightGBM] [Warning] bagging_fraction is set=0.7845723025680482, subsample=0.8 will be ignored. Current value: bagging_fraction=0.7845723025680482\n",
      "[LightGBM] [Warning] bagging_freq is set=9, subsample_freq=0 will be ignored. Current value: bagging_freq=9\n",
      "Training until validation scores don't improve for 100 rounds\n",
      "[100]\ttraining's l1: 1.66628\tvalid_1's l1: 2.24883\n"
     ]
    },
    {
     "name": "stderr",
     "output_type": "stream",
     "text": [
      "\u001b[32m[I 2021-07-18 16:57:41,898]\u001b[0m Trial 92 finished with value: -2.202340159701113 and parameters: {'max_depth': 13, 'min_child_weight': 3, 'subsample': 0.8, 'colsample_bytree': 0.7, 'reg_lambda': 0.22519595234465759, 'reg_alpha': 0.1842015560579322, 'feature_fraction': 0.9538971416144183, 'bagging_fraction': 0.7845723025680482, 'bagging_freq': 9, 'num_leaves': 630, 'min_child_samples': 23}. Best is trial 65 with value: -2.1928612683905775.\u001b[0m\n"
     ]
    },
    {
     "name": "stdout",
     "output_type": "stream",
     "text": [
      "Early stopping, best iteration is:\n",
      "[19]\ttraining's l1: 1.81664\tvalid_1's l1: 2.20234\n",
      "[LightGBM] [Warning] feature_fraction is set=0.8979102014516835, colsample_bytree=0.8 will be ignored. Current value: feature_fraction=0.8979102014516835\n",
      "[LightGBM] [Warning] bagging_fraction is set=0.890671474693636, subsample=0.6 will be ignored. Current value: bagging_fraction=0.890671474693636\n",
      "[LightGBM] [Warning] bagging_freq is set=11, subsample_freq=0 will be ignored. Current value: bagging_freq=11\n",
      "Training until validation scores don't improve for 100 rounds\n",
      "[100]\ttraining's l1: 1.65354\tvalid_1's l1: 2.25563\n"
     ]
    },
    {
     "name": "stderr",
     "output_type": "stream",
     "text": [
      "\u001b[32m[I 2021-07-18 16:57:54,072]\u001b[0m Trial 93 finished with value: -2.2035429990922033 and parameters: {'max_depth': 15, 'min_child_weight': 1, 'subsample': 0.6, 'colsample_bytree': 0.8, 'reg_lambda': 0.0731298461309881, 'reg_alpha': 0.8014144667193717, 'feature_fraction': 0.8979102014516835, 'bagging_fraction': 0.890671474693636, 'bagging_freq': 11, 'num_leaves': 668, 'min_child_samples': 11}. Best is trial 65 with value: -2.1928612683905775.\u001b[0m\n"
     ]
    },
    {
     "name": "stdout",
     "output_type": "stream",
     "text": [
      "Early stopping, best iteration is:\n",
      "[21]\ttraining's l1: 1.79058\tvalid_1's l1: 2.20354\n",
      "[LightGBM] [Warning] feature_fraction is set=0.9975372182056362, colsample_bytree=0.7 will be ignored. Current value: feature_fraction=0.9975372182056362\n",
      "[LightGBM] [Warning] bagging_fraction is set=0.9749453994019772, subsample=0.8 will be ignored. Current value: bagging_fraction=0.9749453994019772\n",
      "[LightGBM] [Warning] bagging_freq is set=20, subsample_freq=0 will be ignored. Current value: bagging_freq=20\n",
      "Training until validation scores don't improve for 100 rounds\n",
      "[100]\ttraining's l1: 1.67032\tvalid_1's l1: 2.25206\n"
     ]
    },
    {
     "name": "stderr",
     "output_type": "stream",
     "text": [
      "\u001b[32m[I 2021-07-18 16:58:06,296]\u001b[0m Trial 94 finished with value: -2.2012255487174084 and parameters: {'max_depth': 19, 'min_child_weight': 3, 'subsample': 0.8, 'colsample_bytree': 0.7, 'reg_lambda': 0.4456418222733275, 'reg_alpha': 0.04119413805409262, 'feature_fraction': 0.9975372182056362, 'bagging_fraction': 0.9749453994019772, 'bagging_freq': 20, 'num_leaves': 594, 'min_child_samples': 18}. Best is trial 65 with value: -2.1928612683905775.\u001b[0m\n"
     ]
    },
    {
     "name": "stdout",
     "output_type": "stream",
     "text": [
      "Early stopping, best iteration is:\n",
      "[23]\ttraining's l1: 1.77826\tvalid_1's l1: 2.20123\n",
      "[LightGBM] [Warning] feature_fraction is set=0.9404361879499085, colsample_bytree=0.9 will be ignored. Current value: feature_fraction=0.9404361879499085\n",
      "[LightGBM] [Warning] bagging_fraction is set=0.8119248113017707, subsample=0.8 will be ignored. Current value: bagging_fraction=0.8119248113017707\n",
      "[LightGBM] [Warning] bagging_freq is set=12, subsample_freq=0 will be ignored. Current value: bagging_freq=12\n",
      "Training until validation scores don't improve for 100 rounds\n",
      "[100]\ttraining's l1: 1.66219\tvalid_1's l1: 2.25527\n"
     ]
    },
    {
     "name": "stderr",
     "output_type": "stream",
     "text": [
      "\u001b[32m[I 2021-07-18 16:58:17,233]\u001b[0m Trial 95 finished with value: -2.1948699699997243 and parameters: {'max_depth': 16, 'min_child_weight': 2, 'subsample': 0.8, 'colsample_bytree': 0.9, 'reg_lambda': 0.004309570810021154, 'reg_alpha': 0.13467401059940456, 'feature_fraction': 0.9404361879499085, 'bagging_fraction': 0.8119248113017707, 'bagging_freq': 12, 'num_leaves': 633, 'min_child_samples': 21}. Best is trial 65 with value: -2.1928612683905775.\u001b[0m\n"
     ]
    },
    {
     "name": "stdout",
     "output_type": "stream",
     "text": [
      "Early stopping, best iteration is:\n",
      "[22]\ttraining's l1: 1.78337\tvalid_1's l1: 2.19487\n",
      "[LightGBM] [Warning] feature_fraction is set=0.9791126299361695, colsample_bytree=0.9 will be ignored. Current value: feature_fraction=0.9791126299361695\n",
      "[LightGBM] [Warning] bagging_fraction is set=0.8155995879377205, subsample=0.8 will be ignored. Current value: bagging_fraction=0.8155995879377205\n",
      "[LightGBM] [Warning] bagging_freq is set=12, subsample_freq=0 will be ignored. Current value: bagging_freq=12\n",
      "Training until validation scores don't improve for 100 rounds\n",
      "[100]\ttraining's l1: 1.67932\tvalid_1's l1: 2.25252\n"
     ]
    },
    {
     "name": "stderr",
     "output_type": "stream",
     "text": [
      "\u001b[32m[I 2021-07-18 16:58:28,439]\u001b[0m Trial 96 finished with value: -2.1978490568884954 and parameters: {'max_depth': 14, 'min_child_weight': 2, 'subsample': 0.8, 'colsample_bytree': 0.9, 'reg_lambda': 0.003659433265935103, 'reg_alpha': 1.8383225879044742, 'feature_fraction': 0.9791126299361695, 'bagging_fraction': 0.8155995879377205, 'bagging_freq': 12, 'num_leaves': 566, 'min_child_samples': 21}. Best is trial 65 with value: -2.1928612683905775.\u001b[0m\n"
     ]
    },
    {
     "name": "stdout",
     "output_type": "stream",
     "text": [
      "Early stopping, best iteration is:\n",
      "[24]\ttraining's l1: 1.77774\tvalid_1's l1: 2.19785\n",
      "[LightGBM] [Warning] feature_fraction is set=0.33616761436570286, colsample_bytree=0.9 will be ignored. Current value: feature_fraction=0.33616761436570286\n",
      "[LightGBM] [Warning] bagging_fraction is set=0.7594569081014932, subsample=0.8 will be ignored. Current value: bagging_fraction=0.7594569081014932\n",
      "[LightGBM] [Warning] bagging_freq is set=17, subsample_freq=0 will be ignored. Current value: bagging_freq=17\n",
      "Training until validation scores don't improve for 100 rounds\n",
      "[100]\ttraining's l1: 1.6851\tvalid_1's l1: 2.32315\n"
     ]
    },
    {
     "name": "stderr",
     "output_type": "stream",
     "text": [
      "\u001b[32m[I 2021-07-18 16:58:36,971]\u001b[0m Trial 97 finished with value: -2.281688692525844 and parameters: {'max_depth': 16, 'min_child_weight': 1, 'subsample': 0.8, 'colsample_bytree': 0.9, 'reg_lambda': 0.005556348753454889, 'reg_alpha': 0.3584185709198523, 'feature_fraction': 0.33616761436570286, 'bagging_fraction': 0.7594569081014932, 'bagging_freq': 17, 'num_leaves': 648, 'min_child_samples': 30}. Best is trial 65 with value: -2.1928612683905775.\u001b[0m\n"
     ]
    },
    {
     "name": "stdout",
     "output_type": "stream",
     "text": [
      "Early stopping, best iteration is:\n",
      "[19]\ttraining's l1: 1.88902\tvalid_1's l1: 2.28169\n",
      "[LightGBM] [Warning] feature_fraction is set=0.9434762214188983, colsample_bytree=0.9 will be ignored. Current value: feature_fraction=0.9434762214188983\n",
      "[LightGBM] [Warning] bagging_fraction is set=0.7054682879494666, subsample=0.7 will be ignored. Current value: bagging_fraction=0.7054682879494666\n",
      "[LightGBM] [Warning] bagging_freq is set=12, subsample_freq=0 will be ignored. Current value: bagging_freq=12\n",
      "Training until validation scores don't improve for 100 rounds\n",
      "[100]\ttraining's l1: 1.80994\tvalid_1's l1: 2.28441\n",
      "[200]\ttraining's l1: 1.79455\tvalid_1's l1: 2.27916\n",
      "[300]\ttraining's l1: 1.78548\tvalid_1's l1: 2.27351\n",
      "[400]\ttraining's l1: 1.78044\tvalid_1's l1: 2.27454\n"
     ]
    },
    {
     "name": "stderr",
     "output_type": "stream",
     "text": [
      "\u001b[32m[I 2021-07-18 16:58:51,093]\u001b[0m Trial 98 finished with value: -2.272746874462022 and parameters: {'max_depth': 14, 'min_child_weight': 4, 'subsample': 0.7, 'colsample_bytree': 0.9, 'reg_lambda': 0.002319495714897737, 'reg_alpha': 527.824292904511, 'feature_fraction': 0.9434762214188983, 'bagging_fraction': 0.7054682879494666, 'bagging_freq': 12, 'num_leaves': 625, 'min_child_samples': 45}. Best is trial 65 with value: -2.1928612683905775.\u001b[0m\n"
     ]
    },
    {
     "name": "stdout",
     "output_type": "stream",
     "text": [
      "Early stopping, best iteration is:\n",
      "[311]\ttraining's l1: 1.78465\tvalid_1's l1: 2.27287\n",
      "[LightGBM] [Warning] feature_fraction is set=0.9690980275336074, colsample_bytree=0.9 will be ignored. Current value: feature_fraction=0.9690980275336074\n",
      "[LightGBM] [Warning] bagging_fraction is set=0.8322035391697006, subsample=0.8 will be ignored. Current value: bagging_fraction=0.8322035391697006\n",
      "[LightGBM] [Warning] bagging_freq is set=13, subsample_freq=0 will be ignored. Current value: bagging_freq=13\n",
      "Training until validation scores don't improve for 100 rounds\n",
      "[100]\ttraining's l1: 1.67559\tvalid_1's l1: 2.25046\n"
     ]
    },
    {
     "name": "stderr",
     "output_type": "stream",
     "text": [
      "\u001b[32m[I 2021-07-18 16:59:02,208]\u001b[0m Trial 99 finished with value: -2.2004674980030687 and parameters: {'max_depth': 18, 'min_child_weight': 2, 'subsample': 0.8, 'colsample_bytree': 0.9, 'reg_lambda': 0.02156653725175772, 'reg_alpha': 0.1353893986544139, 'feature_fraction': 0.9690980275336074, 'bagging_fraction': 0.8322035391697006, 'bagging_freq': 13, 'num_leaves': 530, 'min_child_samples': 34}. Best is trial 65 with value: -2.1928612683905775.\u001b[0m\n",
      "\u001b[32m[I 2021-07-18 16:59:02,210]\u001b[0m A new study created in memory with name: no-name-f0a970fd-89d4-46ab-891b-905bbd4f3d66\u001b[0m\n"
     ]
    },
    {
     "name": "stdout",
     "output_type": "stream",
     "text": [
      "Early stopping, best iteration is:\n",
      "[22]\ttraining's l1: 1.79468\tvalid_1's l1: 2.20047\n",
      "[LightGBM] [Warning] feature_fraction is set=0.846850571662374, colsample_bytree=0.6 will be ignored. Current value: feature_fraction=0.846850571662374\n",
      "[LightGBM] [Warning] bagging_fraction is set=0.7886363561214744, subsample=0.5 will be ignored. Current value: bagging_fraction=0.7886363561214744\n",
      "[LightGBM] [Warning] bagging_freq is set=12, subsample_freq=0 will be ignored. Current value: bagging_freq=12\n",
      "Training until validation scores don't improve for 100 rounds\n",
      "[100]\ttraining's l1: 0.991054\tvalid_1's l1: 0.934428\n"
     ]
    },
    {
     "name": "stderr",
     "output_type": "stream",
     "text": [
      "\u001b[32m[I 2021-07-18 16:59:12,877]\u001b[0m Trial 0 finished with value: -0.9300298481058621 and parameters: {'max_depth': 18, 'min_child_weight': 9, 'subsample': 0.5, 'colsample_bytree': 0.6, 'reg_lambda': 3.804119913571155, 'reg_alpha': 5.060608900303701, 'feature_fraction': 0.846850571662374, 'bagging_fraction': 0.7886363561214744, 'bagging_freq': 12, 'num_leaves': 541, 'min_child_samples': 12}. Best is trial 0 with value: -0.9300298481058621.\u001b[0m\n"
     ]
    },
    {
     "name": "stdout",
     "output_type": "stream",
     "text": [
      "Early stopping, best iteration is:\n",
      "[43]\ttraining's l1: 1.00266\tvalid_1's l1: 0.930038\n",
      "[LightGBM] [Warning] feature_fraction is set=0.6486092749345029, colsample_bytree=0.7 will be ignored. Current value: feature_fraction=0.6486092749345029\n",
      "[LightGBM] [Warning] bagging_fraction is set=0.9152479752808396, subsample=0.9 will be ignored. Current value: bagging_fraction=0.9152479752808396\n",
      "[LightGBM] [Warning] bagging_freq is set=15, subsample_freq=0 will be ignored. Current value: bagging_freq=15\n",
      "Training until validation scores don't improve for 100 rounds\n",
      "[100]\ttraining's l1: 0.974657\tvalid_1's l1: 0.941964\n"
     ]
    },
    {
     "name": "stderr",
     "output_type": "stream",
     "text": [
      "\u001b[32m[I 2021-07-18 16:59:25,803]\u001b[0m Trial 1 finished with value: -0.932646876234613 and parameters: {'max_depth': 20, 'min_child_weight': 2, 'subsample': 0.9, 'colsample_bytree': 0.7, 'reg_lambda': 0.016316469624885734, 'reg_alpha': 0.0021872213439985554, 'feature_fraction': 0.6486092749345029, 'bagging_fraction': 0.9152479752808396, 'bagging_freq': 15, 'num_leaves': 926, 'min_child_samples': 9}. Best is trial 0 with value: -0.9300298481058621.\u001b[0m\n"
     ]
    },
    {
     "name": "stdout",
     "output_type": "stream",
     "text": [
      "Early stopping, best iteration is:\n",
      "[39]\ttraining's l1: 0.993432\tvalid_1's l1: 0.932662\n",
      "[LightGBM] [Warning] feature_fraction is set=0.689006169438092, colsample_bytree=0.7 will be ignored. Current value: feature_fraction=0.689006169438092\n",
      "[LightGBM] [Warning] bagging_fraction is set=0.4724456984468985, subsample=0.5 will be ignored. Current value: bagging_fraction=0.4724456984468985\n",
      "[LightGBM] [Warning] bagging_freq is set=20, subsample_freq=0 will be ignored. Current value: bagging_freq=20\n",
      "Training until validation scores don't improve for 100 rounds\n",
      "[100]\ttraining's l1: 1.06026\tvalid_1's l1: 0.9725\n"
     ]
    },
    {
     "name": "stderr",
     "output_type": "stream",
     "text": [
      "\u001b[32m[I 2021-07-18 16:59:28,535]\u001b[0m Trial 2 finished with value: -0.9724690527913126 and parameters: {'max_depth': 1, 'min_child_weight': 10, 'subsample': 0.5, 'colsample_bytree': 0.7, 'reg_lambda': 0.005818590671956215, 'reg_alpha': 0.028629078020439035, 'feature_fraction': 0.689006169438092, 'bagging_fraction': 0.4724456984468985, 'bagging_freq': 20, 'num_leaves': 343, 'min_child_samples': 97}. Best is trial 0 with value: -0.9300298481058621.\u001b[0m\n"
     ]
    },
    {
     "name": "stdout",
     "output_type": "stream",
     "text": [
      "Early stopping, best iteration is:\n",
      "[24]\ttraining's l1: 1.06032\tvalid_1's l1: 0.972469\n",
      "[LightGBM] [Warning] feature_fraction is set=0.47776034362296893, colsample_bytree=0.9 will be ignored. Current value: feature_fraction=0.47776034362296893\n",
      "[LightGBM] [Warning] bagging_fraction is set=0.6859403247570125, subsample=0.6 will be ignored. Current value: bagging_fraction=0.6859403247570125\n",
      "[LightGBM] [Warning] bagging_freq is set=3, subsample_freq=0 will be ignored. Current value: bagging_freq=3\n",
      "Training until validation scores don't improve for 100 rounds\n",
      "[100]\ttraining's l1: 1.04594\tvalid_1's l1: 0.950282\n",
      "[200]\ttraining's l1: 1.04265\tvalid_1's l1: 0.946609\n",
      "[300]\ttraining's l1: 1.04089\tvalid_1's l1: 0.9445\n",
      "[400]\ttraining's l1: 1.0399\tvalid_1's l1: 0.943243\n",
      "[500]\ttraining's l1: 1.03947\tvalid_1's l1: 0.943054\n",
      "[600]\ttraining's l1: 1.03895\tvalid_1's l1: 0.94233\n",
      "[700]\ttraining's l1: 1.03833\tvalid_1's l1: 0.941532\n",
      "[800]\ttraining's l1: 1.03801\tvalid_1's l1: 0.94155\n"
     ]
    },
    {
     "name": "stderr",
     "output_type": "stream",
     "text": [
      "\u001b[32m[I 2021-07-18 16:59:51,589]\u001b[0m Trial 3 finished with value: -0.9412751016904151 and parameters: {'max_depth': 2, 'min_child_weight': 10, 'subsample': 0.6, 'colsample_bytree': 0.9, 'reg_lambda': 0.8224853575520488, 'reg_alpha': 0.0015797081143183156, 'feature_fraction': 0.47776034362296893, 'bagging_fraction': 0.6859403247570125, 'bagging_freq': 3, 'num_leaves': 415, 'min_child_samples': 11}. Best is trial 0 with value: -0.9300298481058621.\u001b[0m\n"
     ]
    },
    {
     "name": "stdout",
     "output_type": "stream",
     "text": [
      "Early stopping, best iteration is:\n",
      "[717]\ttraining's l1: 1.03815\tvalid_1's l1: 0.941304\n",
      "[LightGBM] [Warning] feature_fraction is set=0.9346290847055858, colsample_bytree=0.8 will be ignored. Current value: feature_fraction=0.9346290847055858\n",
      "[LightGBM] [Warning] bagging_fraction is set=0.3650278643790043, subsample=0.6 will be ignored. Current value: bagging_fraction=0.3650278643790043\n",
      "[LightGBM] [Warning] bagging_freq is set=17, subsample_freq=0 will be ignored. Current value: bagging_freq=17\n",
      "Training until validation scores don't improve for 100 rounds\n",
      "[100]\ttraining's l1: 1.02956\tvalid_1's l1: 0.93745\n",
      "[200]\ttraining's l1: 1.02575\tvalid_1's l1: 0.934722\n",
      "[300]\ttraining's l1: 1.02437\tvalid_1's l1: 0.933656\n",
      "[400]\ttraining's l1: 1.02276\tvalid_1's l1: 0.933819\n"
     ]
    },
    {
     "name": "stderr",
     "output_type": "stream",
     "text": [
      "\u001b[32m[I 2021-07-18 16:59:59,361]\u001b[0m Trial 4 finished with value: -0.9334467253430281 and parameters: {'max_depth': 5, 'min_child_weight': 1, 'subsample': 0.6, 'colsample_bytree': 0.8, 'reg_lambda': 1.33536117985677, 'reg_alpha': 0.001706199475951831, 'feature_fraction': 0.9346290847055858, 'bagging_fraction': 0.3650278643790043, 'bagging_freq': 17, 'num_leaves': 553, 'min_child_samples': 59}. Best is trial 0 with value: -0.9300298481058621.\u001b[0m\n"
     ]
    },
    {
     "name": "stdout",
     "output_type": "stream",
     "text": [
      "Early stopping, best iteration is:\n",
      "[356]\ttraining's l1: 1.02321\tvalid_1's l1: 0.933465\n",
      "[LightGBM] [Warning] feature_fraction is set=0.7159894121817851, colsample_bytree=0.8 will be ignored. Current value: feature_fraction=0.7159894121817851\n",
      "[LightGBM] [Warning] bagging_fraction is set=0.5082523440947131, subsample=0.8 will be ignored. Current value: bagging_fraction=0.5082523440947131\n",
      "[LightGBM] [Warning] bagging_freq is set=12, subsample_freq=0 will be ignored. Current value: bagging_freq=12\n",
      "Training until validation scores don't improve for 100 rounds\n",
      "[100]\ttraining's l1: 1.00568\tvalid_1's l1: 0.92923\n",
      "[200]\ttraining's l1: 1.00176\tvalid_1's l1: 0.929305\n"
     ]
    },
    {
     "name": "stderr",
     "output_type": "stream",
     "text": [
      "\u001b[32m[I 2021-07-18 17:00:07,210]\u001b[0m Trial 5 finished with value: -0.928480714810058 and parameters: {'max_depth': 9, 'min_child_weight': 6, 'subsample': 0.8, 'colsample_bytree': 0.8, 'reg_lambda': 0.10813318258665343, 'reg_alpha': 0.11282430457303179, 'feature_fraction': 0.7159894121817851, 'bagging_fraction': 0.5082523440947131, 'bagging_freq': 12, 'num_leaves': 518, 'min_child_samples': 74}. Best is trial 5 with value: -0.928480714810058.\u001b[0m\n"
     ]
    },
    {
     "name": "stdout",
     "output_type": "stream",
     "text": [
      "Early stopping, best iteration is:\n",
      "[127]\ttraining's l1: 1.00313\tvalid_1's l1: 0.928492\n",
      "[LightGBM] [Warning] feature_fraction is set=0.4329299703950178, colsample_bytree=0.9 will be ignored. Current value: feature_fraction=0.4329299703950178\n",
      "[LightGBM] [Warning] bagging_fraction is set=0.7929284496541604, subsample=0.7 will be ignored. Current value: bagging_fraction=0.7929284496541604\n",
      "[LightGBM] [Warning] bagging_freq is set=14, subsample_freq=0 will be ignored. Current value: bagging_freq=14\n",
      "Training until validation scores don't improve for 100 rounds\n",
      "[100]\ttraining's l1: 1.02315\tvalid_1's l1: 0.942396\n",
      "[200]\ttraining's l1: 1.02019\tvalid_1's l1: 0.94042\n"
     ]
    },
    {
     "name": "stderr",
     "output_type": "stream",
     "text": [
      "\u001b[32m[I 2021-07-18 17:00:18,769]\u001b[0m Trial 6 finished with value: -0.9400997305312757 and parameters: {'max_depth': 9, 'min_child_weight': 12, 'subsample': 0.7, 'colsample_bytree': 0.9, 'reg_lambda': 0.8487145580841763, 'reg_alpha': 467.33724216202495, 'feature_fraction': 0.4329299703950178, 'bagging_fraction': 0.7929284496541604, 'bagging_freq': 14, 'num_leaves': 662, 'min_child_samples': 61}. Best is trial 5 with value: -0.928480714810058.\u001b[0m\n"
     ]
    },
    {
     "name": "stdout",
     "output_type": "stream",
     "text": [
      "[300]\ttraining's l1: 1.01936\tvalid_1's l1: 0.940164\n",
      "Early stopping, best iteration is:\n",
      "[203]\ttraining's l1: 1.02006\tvalid_1's l1: 0.940118\n",
      "[LightGBM] [Warning] feature_fraction is set=0.5182644662505003, colsample_bytree=0.7 will be ignored. Current value: feature_fraction=0.5182644662505003\n",
      "[LightGBM] [Warning] bagging_fraction is set=0.6294848282522001, subsample=0.9 will be ignored. Current value: bagging_fraction=0.6294848282522001\n",
      "[LightGBM] [Warning] bagging_freq is set=18, subsample_freq=0 will be ignored. Current value: bagging_freq=18\n",
      "Training until validation scores don't improve for 100 rounds\n",
      "[100]\ttraining's l1: 1.0377\tvalid_1's l1: 0.945834\n",
      "[200]\ttraining's l1: 1.0373\tvalid_1's l1: 0.945391\n",
      "[300]\ttraining's l1: 1.03723\tvalid_1's l1: 0.945366\n",
      "[400]\ttraining's l1: 1.03483\tvalid_1's l1: 0.942604\n",
      "[500]\ttraining's l1: 1.03412\tvalid_1's l1: 0.942106\n",
      "[600]\ttraining's l1: 1.03192\tvalid_1's l1: 0.939807\n",
      "[700]\ttraining's l1: 1.03149\tvalid_1's l1: 0.939218\n",
      "[800]\ttraining's l1: 1.03023\tvalid_1's l1: 0.938155\n",
      "[900]\ttraining's l1: 1.02882\tvalid_1's l1: 0.937765\n",
      "[1000]\ttraining's l1: 1.02748\tvalid_1's l1: 0.936797\n",
      "[1100]\ttraining's l1: 1.02493\tvalid_1's l1: 0.934393\n",
      "[1200]\ttraining's l1: 1.02381\tvalid_1's l1: 0.934059\n",
      "Early stopping, best iteration is:\n",
      "[1193]\ttraining's l1: 1.02382\tvalid_1's l1: 0.934045\n"
     ]
    },
    {
     "name": "stderr",
     "output_type": "stream",
     "text": [
      "\u001b[32m[I 2021-07-18 17:00:51,227]\u001b[0m Trial 7 finished with value: -0.9340057166315032 and parameters: {'max_depth': 7, 'min_child_weight': 10, 'subsample': 0.9, 'colsample_bytree': 0.7, 'reg_lambda': 0.22684909346079432, 'reg_alpha': 0.047215970020423485, 'feature_fraction': 0.5182644662505003, 'bagging_fraction': 0.6294848282522001, 'bagging_freq': 18, 'num_leaves': 19, 'min_child_samples': 37}. Best is trial 5 with value: -0.928480714810058.\u001b[0m\n"
     ]
    },
    {
     "name": "stdout",
     "output_type": "stream",
     "text": [
      "[LightGBM] [Warning] feature_fraction is set=0.24790381943364875, colsample_bytree=0.7 will be ignored. Current value: feature_fraction=0.24790381943364875\n",
      "[LightGBM] [Warning] bagging_fraction is set=0.5319858822041599, subsample=0.8 will be ignored. Current value: bagging_fraction=0.5319858822041599\n",
      "[LightGBM] [Warning] bagging_freq is set=19, subsample_freq=0 will be ignored. Current value: bagging_freq=19\n",
      "Training until validation scores don't improve for 100 rounds\n",
      "[100]\ttraining's l1: 1.01339\tvalid_1's l1: 0.937326\n",
      "[200]\ttraining's l1: 1.00896\tvalid_1's l1: 0.937891\n"
     ]
    },
    {
     "name": "stderr",
     "output_type": "stream",
     "text": [
      "\u001b[32m[I 2021-07-18 17:00:58,168]\u001b[0m Trial 8 finished with value: -0.936736074756576 and parameters: {'max_depth': 9, 'min_child_weight': 18, 'subsample': 0.8, 'colsample_bytree': 0.7, 'reg_lambda': 0.019509414111957883, 'reg_alpha': 68.48628375436205, 'feature_fraction': 0.24790381943364875, 'bagging_fraction': 0.5319858822041599, 'bagging_freq': 19, 'num_leaves': 735, 'min_child_samples': 28}. Best is trial 5 with value: -0.928480714810058.\u001b[0m\n"
     ]
    },
    {
     "name": "stdout",
     "output_type": "stream",
     "text": [
      "Early stopping, best iteration is:\n",
      "[133]\ttraining's l1: 1.0103\tvalid_1's l1: 0.936764\n",
      "[LightGBM] [Warning] feature_fraction is set=0.3233324008133882, colsample_bytree=0.7 will be ignored. Current value: feature_fraction=0.3233324008133882\n",
      "[LightGBM] [Warning] bagging_fraction is set=0.8936660900729019, subsample=0.6 will be ignored. Current value: bagging_fraction=0.8936660900729019\n",
      "[LightGBM] [Warning] bagging_freq is set=2, subsample_freq=0 will be ignored. Current value: bagging_freq=2\n",
      "Training until validation scores don't improve for 100 rounds\n",
      "[100]\ttraining's l1: 0.992421\tvalid_1's l1: 0.936754\n"
     ]
    },
    {
     "name": "stderr",
     "output_type": "stream",
     "text": [
      "\u001b[32m[I 2021-07-18 17:01:07,935]\u001b[0m Trial 9 finished with value: -0.9329488378854746 and parameters: {'max_depth': 12, 'min_child_weight': 6, 'subsample': 0.6, 'colsample_bytree': 0.7, 'reg_lambda': 133.40641787533912, 'reg_alpha': 0.0014738551423952406, 'feature_fraction': 0.3233324008133882, 'bagging_fraction': 0.8936660900729019, 'bagging_freq': 2, 'num_leaves': 657, 'min_child_samples': 98}. Best is trial 5 with value: -0.928480714810058.\u001b[0m\n"
     ]
    },
    {
     "name": "stdout",
     "output_type": "stream",
     "text": [
      "Early stopping, best iteration is:\n",
      "[38]\ttraining's l1: 1.00805\tvalid_1's l1: 0.93295\n",
      "[LightGBM] [Warning] feature_fraction is set=0.7709882332923613, colsample_bytree=0.5 will be ignored. Current value: feature_fraction=0.7709882332923613\n",
      "[LightGBM] [Warning] bagging_fraction is set=0.20337532810156073, subsample=0.8 will be ignored. Current value: bagging_fraction=0.20337532810156073\n",
      "[LightGBM] [Warning] bagging_freq is set=6, subsample_freq=0 will be ignored. Current value: bagging_freq=6\n",
      "Training until validation scores don't improve for 100 rounds\n",
      "[100]\ttraining's l1: 1.0104\tvalid_1's l1: 0.935711\n"
     ]
    },
    {
     "name": "stderr",
     "output_type": "stream",
     "text": [
      "\u001b[32m[I 2021-07-18 17:01:13,316]\u001b[0m Trial 10 finished with value: -0.9331135168575572 and parameters: {'max_depth': 15, 'min_child_weight': 16, 'subsample': 0.8, 'colsample_bytree': 0.5, 'reg_lambda': 63.41977794567057, 'reg_alpha': 0.46805869503030917, 'feature_fraction': 0.7709882332923613, 'bagging_fraction': 0.20337532810156073, 'bagging_freq': 6, 'num_leaves': 218, 'min_child_samples': 79}. Best is trial 5 with value: -0.928480714810058.\u001b[0m\n"
     ]
    },
    {
     "name": "stdout",
     "output_type": "stream",
     "text": [
      "Early stopping, best iteration is:\n",
      "[58]\ttraining's l1: 1.01479\tvalid_1's l1: 0.933122\n",
      "[LightGBM] [Warning] feature_fraction is set=0.9079208712467399, colsample_bytree=0.5 will be ignored. Current value: feature_fraction=0.9079208712467399\n",
      "[LightGBM] [Warning] bagging_fraction is set=0.7465387583925963, subsample=0.8 will be ignored. Current value: bagging_fraction=0.7465387583925963\n",
      "[LightGBM] [Warning] bagging_freq is set=9, subsample_freq=0 will be ignored. Current value: bagging_freq=9\n",
      "Training until validation scores don't improve for 100 rounds\n",
      "[100]\ttraining's l1: 0.978152\tvalid_1's l1: 0.941215\n"
     ]
    },
    {
     "name": "stderr",
     "output_type": "stream",
     "text": [
      "\u001b[32m[I 2021-07-18 17:01:26,080]\u001b[0m Trial 11 finished with value: -0.9295887427645112 and parameters: {'max_depth': 19, 'min_child_weight': 6, 'subsample': 0.8, 'colsample_bytree': 0.5, 'reg_lambda': 13.875376824174467, 'reg_alpha': 7.7691524346030825, 'feature_fraction': 0.9079208712467399, 'bagging_fraction': 0.7465387583925963, 'bagging_freq': 9, 'num_leaves': 937, 'min_child_samples': 76}. Best is trial 5 with value: -0.928480714810058.\u001b[0m\n"
     ]
    },
    {
     "name": "stdout",
     "output_type": "stream",
     "text": [
      "Early stopping, best iteration is:\n",
      "[31]\ttraining's l1: 0.999488\tvalid_1's l1: 0.929598\n",
      "[LightGBM] [Warning] feature_fraction is set=0.992965856604737, colsample_bytree=0.5 will be ignored. Current value: feature_fraction=0.992965856604737\n",
      "[LightGBM] [Warning] bagging_fraction is set=0.3698401364844952, subsample=0.8 will be ignored. Current value: bagging_fraction=0.3698401364844952\n",
      "[LightGBM] [Warning] bagging_freq is set=8, subsample_freq=0 will be ignored. Current value: bagging_freq=8\n",
      "Training until validation scores don't improve for 100 rounds\n",
      "[100]\ttraining's l1: 0.994863\tvalid_1's l1: 0.935983\n"
     ]
    },
    {
     "name": "stderr",
     "output_type": "stream",
     "text": [
      "\u001b[32m[I 2021-07-18 17:01:35,602]\u001b[0m Trial 12 finished with value: -0.9307550958239585 and parameters: {'max_depth': 13, 'min_child_weight': 5, 'subsample': 0.8, 'colsample_bytree': 0.5, 'reg_lambda': 12.574802095523307, 'reg_alpha': 4.966991055852665, 'feature_fraction': 0.992965856604737, 'bagging_fraction': 0.3698401364844952, 'bagging_freq': 8, 'num_leaves': 959, 'min_child_samples': 79}. Best is trial 5 with value: -0.928480714810058.\u001b[0m\n"
     ]
    },
    {
     "name": "stdout",
     "output_type": "stream",
     "text": [
      "Early stopping, best iteration is:\n",
      "[58]\ttraining's l1: 1.00345\tvalid_1's l1: 0.930771\n",
      "[LightGBM] [Warning] feature_fraction is set=0.8594773302003159, colsample_bytree=0.8 will be ignored. Current value: feature_fraction=0.8594773302003159\n",
      "[LightGBM] [Warning] bagging_fraction is set=0.722165779180503, subsample=0.7 will be ignored. Current value: bagging_fraction=0.722165779180503\n",
      "[LightGBM] [Warning] bagging_freq is set=9, subsample_freq=0 will be ignored. Current value: bagging_freq=9\n",
      "Training until validation scores don't improve for 100 rounds\n",
      "[100]\ttraining's l1: 0.982791\tvalid_1's l1: 0.933039\n"
     ]
    },
    {
     "name": "stderr",
     "output_type": "stream",
     "text": [
      "\u001b[32m[I 2021-07-18 17:01:46,907]\u001b[0m Trial 13 finished with value: -0.9287521366337654 and parameters: {'max_depth': 15, 'min_child_weight': 5, 'subsample': 0.7, 'colsample_bytree': 0.8, 'reg_lambda': 0.09144573383621789, 'reg_alpha': 0.2416795954106771, 'feature_fraction': 0.8594773302003159, 'bagging_fraction': 0.722165779180503, 'bagging_freq': 9, 'num_leaves': 823, 'min_child_samples': 76}. Best is trial 5 with value: -0.928480714810058.\u001b[0m\n"
     ]
    },
    {
     "name": "stdout",
     "output_type": "stream",
     "text": [
      "Early stopping, best iteration is:\n",
      "[35]\ttraining's l1: 0.997374\tvalid_1's l1: 0.928759\n",
      "[LightGBM] [Warning] feature_fraction is set=0.7481334246595402, colsample_bytree=0.8 will be ignored. Current value: feature_fraction=0.7481334246595402\n",
      "[LightGBM] [Warning] bagging_fraction is set=0.5481349460859725, subsample=0.7 will be ignored. Current value: bagging_fraction=0.5481349460859725\n",
      "[LightGBM] [Warning] bagging_freq is set=11, subsample_freq=0 will be ignored. Current value: bagging_freq=11\n",
      "Training until validation scores don't improve for 100 rounds\n",
      "[100]\ttraining's l1: 0.986019\tvalid_1's l1: 0.938251\n"
     ]
    },
    {
     "name": "stderr",
     "output_type": "stream",
     "text": [
      "\u001b[32m[I 2021-07-18 17:01:56,442]\u001b[0m Trial 14 finished with value: -0.9313821264474219 and parameters: {'max_depth': 15, 'min_child_weight': 3, 'subsample': 0.7, 'colsample_bytree': 0.8, 'reg_lambda': 0.0010989125670781844, 'reg_alpha': 0.12175164428405252, 'feature_fraction': 0.7481334246595402, 'bagging_fraction': 0.5481349460859725, 'bagging_freq': 11, 'num_leaves': 810, 'min_child_samples': 68}. Best is trial 5 with value: -0.928480714810058.\u001b[0m\n"
     ]
    },
    {
     "name": "stdout",
     "output_type": "stream",
     "text": [
      "Early stopping, best iteration is:\n",
      "[27]\ttraining's l1: 1.00445\tvalid_1's l1: 0.931384\n",
      "[LightGBM] [Warning] feature_fraction is set=0.8249475780539169, colsample_bytree=0.8 will be ignored. Current value: feature_fraction=0.8249475780539169\n",
      "[LightGBM] [Warning] bagging_fraction is set=0.4005779526099605, subsample=0.7 will be ignored. Current value: bagging_fraction=0.4005779526099605\n",
      "[LightGBM] [Warning] bagging_freq is set=5, subsample_freq=0 will be ignored. Current value: bagging_freq=5\n",
      "Training until validation scores don't improve for 100 rounds\n",
      "[100]\ttraining's l1: 1.01309\tvalid_1's l1: 0.93258\n",
      "[200]\ttraining's l1: 1.00894\tvalid_1's l1: 0.930204\n"
     ]
    },
    {
     "name": "stderr",
     "output_type": "stream",
     "text": [
      "\u001b[32m[I 2021-07-18 17:02:06,866]\u001b[0m Trial 15 finished with value: -0.9299083668109461 and parameters: {'max_depth': 16, 'min_child_weight': 4, 'subsample': 0.7, 'colsample_bytree': 0.8, 'reg_lambda': 0.09468601046387058, 'reg_alpha': 0.01355236166308831, 'feature_fraction': 0.8249475780539169, 'bagging_fraction': 0.4005779526099605, 'bagging_freq': 5, 'num_leaves': 204, 'min_child_samples': 90}. Best is trial 5 with value: -0.928480714810058.\u001b[0m\n"
     ]
    },
    {
     "name": "stdout",
     "output_type": "stream",
     "text": [
      "Early stopping, best iteration is:\n",
      "[192]\ttraining's l1: 1.00948\tvalid_1's l1: 0.929919\n",
      "[LightGBM] [Warning] feature_fraction is set=0.5897714650013447, colsample_bytree=0.8 will be ignored. Current value: feature_fraction=0.5897714650013447\n",
      "[LightGBM] [Warning] bagging_fraction is set=0.23188501187637023, subsample=0.9 will be ignored. Current value: bagging_fraction=0.23188501187637023\n",
      "[LightGBM] [Warning] bagging_freq is set=13, subsample_freq=0 will be ignored. Current value: bagging_freq=13\n",
      "Training until validation scores don't improve for 100 rounds\n",
      "[100]\ttraining's l1: 1.00301\tvalid_1's l1: 0.933491\n"
     ]
    },
    {
     "name": "stderr",
     "output_type": "stream",
     "text": [
      "\u001b[32m[I 2021-07-18 17:02:13,298]\u001b[0m Trial 16 finished with value: -0.9297526802080747 and parameters: {'max_depth': 11, 'min_child_weight': 7, 'subsample': 0.9, 'colsample_bytree': 0.8, 'reg_lambda': 0.08776246464127534, 'reg_alpha': 0.6307452818058134, 'feature_fraction': 0.5897714650013447, 'bagging_fraction': 0.23188501187637023, 'bagging_freq': 13, 'num_leaves': 814, 'min_child_samples': 47}. Best is trial 5 with value: -0.928480714810058.\u001b[0m\n"
     ]
    },
    {
     "name": "stdout",
     "output_type": "stream",
     "text": [
      "Early stopping, best iteration is:\n",
      "[49]\ttraining's l1: 1.00907\tvalid_1's l1: 0.929758\n",
      "[LightGBM] [Warning] feature_fraction is set=0.9894384880995936, colsample_bytree=0.9 will be ignored. Current value: feature_fraction=0.9894384880995936\n",
      "[LightGBM] [Warning] bagging_fraction is set=0.9957751739379692, subsample=0.8 will be ignored. Current value: bagging_fraction=0.9957751739379692\n",
      "[LightGBM] [Warning] bagging_freq is set=9, subsample_freq=0 will be ignored. Current value: bagging_freq=9\n",
      "Training until validation scores don't improve for 100 rounds\n",
      "[100]\ttraining's l1: 1.03659\tvalid_1's l1: 0.942655\n",
      "[200]\ttraining's l1: 1.03104\tvalid_1's l1: 0.937357\n",
      "[300]\ttraining's l1: 1.02902\tvalid_1's l1: 0.935541\n",
      "[400]\ttraining's l1: 1.02808\tvalid_1's l1: 0.934872\n"
     ]
    },
    {
     "name": "stderr",
     "output_type": "stream",
     "text": [
      "\u001b[32m[I 2021-07-18 17:02:28,280]\u001b[0m Trial 17 finished with value: -0.9346700085811684 and parameters: {'max_depth': 4, 'min_child_weight': 13, 'subsample': 0.8, 'colsample_bytree': 0.9, 'reg_lambda': 0.004046881837194495, 'reg_alpha': 0.1773130774798609, 'feature_fraction': 0.9894384880995936, 'bagging_fraction': 0.9957751739379692, 'bagging_freq': 9, 'num_leaves': 427, 'min_child_samples': 86}. Best is trial 5 with value: -0.928480714810058.\u001b[0m\n"
     ]
    },
    {
     "name": "stdout",
     "output_type": "stream",
     "text": [
      "Early stopping, best iteration is:\n",
      "[385]\ttraining's l1: 1.02821\tvalid_1's l1: 0.934684\n",
      "[LightGBM] [Warning] feature_fraction is set=0.706000233509085, colsample_bytree=0.6 will be ignored. Current value: feature_fraction=0.706000233509085\n",
      "[LightGBM] [Warning] bagging_fraction is set=0.6683645661645136, subsample=0.7 will be ignored. Current value: bagging_fraction=0.6683645661645136\n",
      "[LightGBM] [Warning] bagging_freq is set=7, subsample_freq=0 will be ignored. Current value: bagging_freq=7\n",
      "Training until validation scores don't improve for 100 rounds\n",
      "[100]\ttraining's l1: 1.01104\tvalid_1's l1: 0.929116\n",
      "[200]\ttraining's l1: 1.00649\tvalid_1's l1: 0.928717\n"
     ]
    },
    {
     "name": "stderr",
     "output_type": "stream",
     "text": [
      "\u001b[32m[I 2021-07-18 17:02:38,287]\u001b[0m Trial 18 finished with value: -0.9282296823347124 and parameters: {'max_depth': 8, 'min_child_weight': 8, 'subsample': 0.7, 'colsample_bytree': 0.6, 'reg_lambda': 0.13263927120303573, 'reg_alpha': 0.009710977808915033, 'feature_fraction': 0.706000233509085, 'bagging_fraction': 0.6683645661645136, 'bagging_freq': 7, 'num_leaves': 626, 'min_child_samples': 48}. Best is trial 18 with value: -0.9282296823347124.\u001b[0m\n"
     ]
    },
    {
     "name": "stdout",
     "output_type": "stream",
     "text": [
      "Early stopping, best iteration is:\n",
      "[186]\ttraining's l1: 1.00714\tvalid_1's l1: 0.928241\n",
      "[LightGBM] [Warning] feature_fraction is set=0.5847506433810706, colsample_bytree=0.6 will be ignored. Current value: feature_fraction=0.5847506433810706\n",
      "[LightGBM] [Warning] bagging_fraction is set=0.6191848525167095, subsample=0.6 will be ignored. Current value: bagging_fraction=0.6191848525167095\n",
      "[LightGBM] [Warning] bagging_freq is set=5, subsample_freq=0 will be ignored. Current value: bagging_freq=5\n",
      "Training until validation scores don't improve for 100 rounds\n",
      "[100]\ttraining's l1: 1.01598\tvalid_1's l1: 0.932541\n",
      "[200]\ttraining's l1: 1.01081\tvalid_1's l1: 0.930388\n"
     ]
    },
    {
     "name": "stderr",
     "output_type": "stream",
     "text": [
      "\u001b[32m[I 2021-07-18 17:02:48,204]\u001b[0m Trial 19 finished with value: -0.9293268775187546 and parameters: {'max_depth': 7, 'min_child_weight': 15, 'subsample': 0.6, 'colsample_bytree': 0.6, 'reg_lambda': 0.29514697227563996, 'reg_alpha': 0.00845935874584843, 'feature_fraction': 0.5847506433810706, 'bagging_fraction': 0.6191848525167095, 'bagging_freq': 5, 'num_leaves': 603, 'min_child_samples': 48}. Best is trial 18 with value: -0.9282296823347124.\u001b[0m\n"
     ]
    },
    {
     "name": "stdout",
     "output_type": "stream",
     "text": [
      "Early stopping, best iteration is:\n",
      "[141]\ttraining's l1: 1.01272\tvalid_1's l1: 0.929371\n",
      "[LightGBM] [Warning] feature_fraction is set=0.6972741180075016, colsample_bytree=0.6 will be ignored. Current value: feature_fraction=0.6972741180075016\n",
      "[LightGBM] [Warning] bagging_fraction is set=0.47054082964459343, subsample=0.8 will be ignored. Current value: bagging_fraction=0.47054082964459343\n",
      "[LightGBM] [Warning] bagging_freq is set=16, subsample_freq=0 will be ignored. Current value: bagging_freq=16\n",
      "Training until validation scores don't improve for 100 rounds\n",
      "[100]\ttraining's l1: 1.02223\tvalid_1's l1: 0.938801\n",
      "[200]\ttraining's l1: 1.01523\tvalid_1's l1: 0.936391\n"
     ]
    },
    {
     "name": "stderr",
     "output_type": "stream",
     "text": [
      "\u001b[32m[I 2021-07-18 17:02:55,483]\u001b[0m Trial 20 finished with value: -0.9363666152375333 and parameters: {'max_depth': 7, 'min_child_weight': 8, 'subsample': 0.8, 'colsample_bytree': 0.6, 'reg_lambda': 786.0774533836623, 'reg_alpha': 0.005915328079302127, 'feature_fraction': 0.6972741180075016, 'bagging_fraction': 0.47054082964459343, 'bagging_freq': 16, 'num_leaves': 316, 'min_child_samples': 30}. Best is trial 18 with value: -0.9282296823347124.\u001b[0m\n"
     ]
    },
    {
     "name": "stdout",
     "output_type": "stream",
     "text": [
      "Early stopping, best iteration is:\n",
      "[199]\ttraining's l1: 1.01523\tvalid_1's l1: 0.93639\n",
      "[LightGBM] [Warning] feature_fraction is set=0.8334105595628186, colsample_bytree=0.8 will be ignored. Current value: feature_fraction=0.8334105595628186\n",
      "[LightGBM] [Warning] bagging_fraction is set=0.6886366282130764, subsample=0.7 will be ignored. Current value: bagging_fraction=0.6886366282130764\n",
      "[LightGBM] [Warning] bagging_freq is set=7, subsample_freq=0 will be ignored. Current value: bagging_freq=7\n",
      "Training until validation scores don't improve for 100 rounds\n",
      "[100]\ttraining's l1: 1.00056\tvalid_1's l1: 0.927451\n"
     ]
    },
    {
     "name": "stderr",
     "output_type": "stream",
     "text": [
      "\u001b[32m[I 2021-07-18 17:03:05,023]\u001b[0m Trial 21 finished with value: -0.9263444092694786 and parameters: {'max_depth': 10, 'min_child_weight': 4, 'subsample': 0.7, 'colsample_bytree': 0.8, 'reg_lambda': 0.05480031084798459, 'reg_alpha': 0.1028183023743657, 'feature_fraction': 0.8334105595628186, 'bagging_fraction': 0.6886366282130764, 'bagging_freq': 7, 'num_leaves': 778, 'min_child_samples': 68}. Best is trial 21 with value: -0.9263444092694786.\u001b[0m\n"
     ]
    },
    {
     "name": "stdout",
     "output_type": "stream",
     "text": [
      "Early stopping, best iteration is:\n",
      "[84]\ttraining's l1: 1.00133\tvalid_1's l1: 0.92635\n",
      "[LightGBM] [Warning] feature_fraction is set=0.7665203409995863, colsample_bytree=0.6 will be ignored. Current value: feature_fraction=0.7665203409995863\n",
      "[LightGBM] [Warning] bagging_fraction is set=0.6561435814395395, subsample=0.7 will be ignored. Current value: bagging_fraction=0.6561435814395395\n",
      "[LightGBM] [Warning] bagging_freq is set=7, subsample_freq=0 will be ignored. Current value: bagging_freq=7\n",
      "Training until validation scores don't improve for 100 rounds\n",
      "[100]\ttraining's l1: 1.00667\tvalid_1's l1: 0.930746\n"
     ]
    },
    {
     "name": "stderr",
     "output_type": "stream",
     "text": [
      "\u001b[32m[I 2021-07-18 17:03:12,576]\u001b[0m Trial 22 finished with value: -0.929490684973933 and parameters: {'max_depth': 9, 'min_child_weight': 1, 'subsample': 0.7, 'colsample_bytree': 0.6, 'reg_lambda': 0.023473929493606327, 'reg_alpha': 0.06279951492101951, 'feature_fraction': 0.7665203409995863, 'bagging_fraction': 0.6561435814395395, 'bagging_freq': 7, 'num_leaves': 719, 'min_child_samples': 65}. Best is trial 21 with value: -0.9263444092694786.\u001b[0m\n"
     ]
    },
    {
     "name": "stdout",
     "output_type": "stream",
     "text": [
      "Early stopping, best iteration is:\n",
      "[66]\ttraining's l1: 1.00996\tvalid_1's l1: 0.929494\n",
      "[LightGBM] [Warning] feature_fraction is set=0.6433168543850663, colsample_bytree=0.8 will be ignored. Current value: feature_fraction=0.6433168543850663\n",
      "[LightGBM] [Warning] bagging_fraction is set=0.5678314181327158, subsample=0.7 will be ignored. Current value: bagging_fraction=0.5678314181327158\n",
      "[LightGBM] [Warning] bagging_freq is set=11, subsample_freq=0 will be ignored. Current value: bagging_freq=11\n",
      "Training until validation scores don't improve for 100 rounds\n",
      "[100]\ttraining's l1: 1.00083\tvalid_1's l1: 0.929914\n",
      "[200]\ttraining's l1: 0.992265\tvalid_1's l1: 0.931393\n"
     ]
    },
    {
     "name": "stderr",
     "output_type": "stream",
     "text": [
      "\u001b[32m[I 2021-07-18 17:03:21,232]\u001b[0m Trial 23 finished with value: -0.9277483218043578 and parameters: {'max_depth': 10, 'min_child_weight': 8, 'subsample': 0.7, 'colsample_bytree': 0.8, 'reg_lambda': 0.046979488170123776, 'reg_alpha': 1.5768266927252905, 'feature_fraction': 0.6433168543850663, 'bagging_fraction': 0.5678314181327158, 'bagging_freq': 11, 'num_leaves': 516, 'min_child_samples': 53}. Best is trial 21 with value: -0.9263444092694786.\u001b[0m\n"
     ]
    },
    {
     "name": "stdout",
     "output_type": "stream",
     "text": [
      "Early stopping, best iteration is:\n",
      "[109]\ttraining's l1: 0.999026\tvalid_1's l1: 0.927769\n",
      "[LightGBM] [Warning] feature_fraction is set=0.6203812240222651, colsample_bytree=0.9 will be ignored. Current value: feature_fraction=0.6203812240222651\n",
      "[LightGBM] [Warning] bagging_fraction is set=0.5835931272185978, subsample=0.6 will be ignored. Current value: bagging_fraction=0.5835931272185978\n",
      "[LightGBM] [Warning] bagging_freq is set=4, subsample_freq=0 will be ignored. Current value: bagging_freq=4\n",
      "Training until validation scores don't improve for 100 rounds\n",
      "[100]\ttraining's l1: 0.994445\tvalid_1's l1: 0.930587\n"
     ]
    },
    {
     "name": "stderr",
     "output_type": "stream",
     "text": [
      "\u001b[32m[I 2021-07-18 17:03:29,426]\u001b[0m Trial 24 finished with value: -0.9272051294380835 and parameters: {'max_depth': 11, 'min_child_weight': 8, 'subsample': 0.6, 'colsample_bytree': 0.9, 'reg_lambda': 0.0012724581717090551, 'reg_alpha': 1.6555366352991736, 'feature_fraction': 0.6203812240222651, 'bagging_fraction': 0.5835931272185978, 'bagging_freq': 4, 'num_leaves': 624, 'min_child_samples': 54}. Best is trial 21 with value: -0.9263444092694786.\u001b[0m\n"
     ]
    },
    {
     "name": "stdout",
     "output_type": "stream",
     "text": [
      "Early stopping, best iteration is:\n",
      "[50]\ttraining's l1: 1.00217\tvalid_1's l1: 0.927208\n",
      "[LightGBM] [Warning] feature_fraction is set=0.5462420164421099, colsample_bytree=0.9 will be ignored. Current value: feature_fraction=0.5462420164421099\n",
      "[LightGBM] [Warning] bagging_fraction is set=0.5726748806616189, subsample=0.6 will be ignored. Current value: bagging_fraction=0.5726748806616189\n",
      "[LightGBM] [Warning] bagging_freq is set=1, subsample_freq=0 will be ignored. Current value: bagging_freq=1\n",
      "Training until validation scores don't improve for 100 rounds\n",
      "[100]\ttraining's l1: 0.994157\tvalid_1's l1: 0.935338\n"
     ]
    },
    {
     "name": "stderr",
     "output_type": "stream",
     "text": [
      "\u001b[32m[I 2021-07-18 17:03:38,646]\u001b[0m Trial 25 finished with value: -0.9325291572318404 and parameters: {'max_depth': 12, 'min_child_weight': 12, 'subsample': 0.6, 'colsample_bytree': 0.9, 'reg_lambda': 0.0011170658852718213, 'reg_alpha': 1.75444238874679, 'feature_fraction': 0.5462420164421099, 'bagging_fraction': 0.5726748806616189, 'bagging_freq': 1, 'num_leaves': 479, 'min_child_samples': 55}. Best is trial 21 with value: -0.9263444092694786.\u001b[0m\n"
     ]
    },
    {
     "name": "stdout",
     "output_type": "stream",
     "text": [
      "Early stopping, best iteration is:\n",
      "[46]\ttraining's l1: 1.00513\tvalid_1's l1: 0.93253\n",
      "[LightGBM] [Warning] feature_fraction is set=0.40066704535048314, colsample_bytree=0.9 will be ignored. Current value: feature_fraction=0.40066704535048314\n",
      "[LightGBM] [Warning] bagging_fraction is set=0.6104108553431786, subsample=0.5 will be ignored. Current value: bagging_fraction=0.6104108553431786\n",
      "[LightGBM] [Warning] bagging_freq is set=4, subsample_freq=0 will be ignored. Current value: bagging_freq=4\n",
      "Training until validation scores don't improve for 100 rounds\n",
      "[100]\ttraining's l1: 0.989723\tvalid_1's l1: 0.939063\n"
     ]
    },
    {
     "name": "stderr",
     "output_type": "stream",
     "text": [
      "\u001b[32m[I 2021-07-18 17:03:47,904]\u001b[0m Trial 26 finished with value: -0.9344574882403789 and parameters: {'max_depth': 13, 'min_child_weight': 3, 'subsample': 0.5, 'colsample_bytree': 0.9, 'reg_lambda': 0.0030476826393118213, 'reg_alpha': 18.570546959865677, 'feature_fraction': 0.40066704535048314, 'bagging_fraction': 0.6104108553431786, 'bagging_freq': 4, 'num_leaves': 750, 'min_child_samples': 39}. Best is trial 21 with value: -0.9263444092694786.\u001b[0m\n"
     ]
    },
    {
     "name": "stdout",
     "output_type": "stream",
     "text": [
      "Early stopping, best iteration is:\n",
      "[34]\ttraining's l1: 1.00758\tvalid_1's l1: 0.934461\n",
      "[LightGBM] [Warning] feature_fraction is set=0.6211446424000341, colsample_bytree=0.8 will be ignored. Current value: feature_fraction=0.6211446424000341\n",
      "[LightGBM] [Warning] bagging_fraction is set=0.849604839505095, subsample=0.6 will be ignored. Current value: bagging_fraction=0.849604839505095\n",
      "[LightGBM] [Warning] bagging_freq is set=10, subsample_freq=0 will be ignored. Current value: bagging_freq=10\n",
      "Training until validation scores don't improve for 100 rounds\n",
      "[100]\ttraining's l1: 0.992995\tvalid_1's l1: 0.930855\n"
     ]
    },
    {
     "name": "stderr",
     "output_type": "stream",
     "text": [
      "\u001b[32m[I 2021-07-18 17:03:58,282]\u001b[0m Trial 27 finished with value: -0.9295857969191481 and parameters: {'max_depth': 11, 'min_child_weight': 8, 'subsample': 0.6, 'colsample_bytree': 0.8, 'reg_lambda': 0.03681763031373803, 'reg_alpha': 1.3949643847012179, 'feature_fraction': 0.6211446424000341, 'bagging_fraction': 0.849604839505095, 'bagging_freq': 10, 'num_leaves': 586, 'min_child_samples': 53}. Best is trial 21 with value: -0.9263444092694786.\u001b[0m\n"
     ]
    },
    {
     "name": "stdout",
     "output_type": "stream",
     "text": [
      "Early stopping, best iteration is:\n",
      "[72]\ttraining's l1: 0.996928\tvalid_1's l1: 0.929595\n",
      "[LightGBM] [Warning] feature_fraction is set=0.6467656543480428, colsample_bytree=0.9 will be ignored. Current value: feature_fraction=0.6467656543480428\n",
      "[LightGBM] [Warning] bagging_fraction is set=0.41125162074474775, subsample=0.6 will be ignored. Current value: bagging_fraction=0.41125162074474775\n",
      "[LightGBM] [Warning] bagging_freq is set=1, subsample_freq=0 will be ignored. Current value: bagging_freq=1\n",
      "Training until validation scores don't improve for 100 rounds\n",
      "[100]\ttraining's l1: 1.01368\tvalid_1's l1: 0.937206\n"
     ]
    },
    {
     "name": "stderr",
     "output_type": "stream",
     "text": [
      "\u001b[32m[I 2021-07-18 17:04:07,287]\u001b[0m Trial 28 finished with value: -0.9368680875020144 and parameters: {'max_depth': 10, 'min_child_weight': 4, 'subsample': 0.6, 'colsample_bytree': 0.9, 'reg_lambda': 0.00862826545924157, 'reg_alpha': 95.91266328407059, 'feature_fraction': 0.6467656543480428, 'bagging_fraction': 0.41125162074474775, 'bagging_freq': 1, 'num_leaves': 862, 'min_child_samples': 42}. Best is trial 21 with value: -0.9263444092694786.\u001b[0m\n"
     ]
    },
    {
     "name": "stdout",
     "output_type": "stream",
     "text": [
      "[200]\ttraining's l1: 1.00915\tvalid_1's l1: 0.937149\n",
      "Early stopping, best iteration is:\n",
      "[103]\ttraining's l1: 1.01334\tvalid_1's l1: 0.936878\n",
      "[LightGBM] [Warning] feature_fraction is set=0.8142660510278104, colsample_bytree=0.8 will be ignored. Current value: feature_fraction=0.8142660510278104\n",
      "[LightGBM] [Warning] bagging_fraction is set=0.8219793440055958, subsample=0.5 will be ignored. Current value: bagging_fraction=0.8219793440055958\n",
      "[LightGBM] [Warning] bagging_freq is set=11, subsample_freq=0 will be ignored. Current value: bagging_freq=11\n",
      "Training until validation scores don't improve for 100 rounds\n",
      "[100]\ttraining's l1: 0.995746\tvalid_1's l1: 0.933639\n"
     ]
    },
    {
     "name": "stderr",
     "output_type": "stream",
     "text": [
      "\u001b[32m[I 2021-07-18 17:04:16,785]\u001b[0m Trial 29 finished with value: -0.9298360879168124 and parameters: {'max_depth': 13, 'min_child_weight': 9, 'subsample': 0.5, 'colsample_bytree': 0.8, 'reg_lambda': 0.0017038217656059245, 'reg_alpha': 5.35073182709614, 'feature_fraction': 0.8142660510278104, 'bagging_fraction': 0.8219793440055958, 'bagging_freq': 11, 'num_leaves': 459, 'min_child_samples': 21}. Best is trial 21 with value: -0.9263444092694786.\u001b[0m\n"
     ]
    },
    {
     "name": "stdout",
     "output_type": "stream",
     "text": [
      "Early stopping, best iteration is:\n",
      "[42]\ttraining's l1: 1.00621\tvalid_1's l1: 0.92984\n",
      "[LightGBM] [Warning] feature_fraction is set=0.5280058285293254, colsample_bytree=0.9 will be ignored. Current value: feature_fraction=0.5280058285293254\n",
      "[LightGBM] [Warning] bagging_fraction is set=0.7347094138032162, subsample=0.7 will be ignored. Current value: bagging_fraction=0.7347094138032162\n",
      "[LightGBM] [Warning] bagging_freq is set=4, subsample_freq=0 will be ignored. Current value: bagging_freq=4\n",
      "Training until validation scores don't improve for 100 rounds\n",
      "[100]\ttraining's l1: 1.02843\tvalid_1's l1: 0.937068\n",
      "[200]\ttraining's l1: 1.02244\tvalid_1's l1: 0.931671\n",
      "[300]\ttraining's l1: 1.01969\tvalid_1's l1: 0.932643\n"
     ]
    },
    {
     "name": "stderr",
     "output_type": "stream",
     "text": [
      "\u001b[32m[I 2021-07-18 17:04:28,364]\u001b[0m Trial 30 finished with value: -0.9313486164672263 and parameters: {'max_depth': 5, 'min_child_weight': 12, 'subsample': 0.7, 'colsample_bytree': 0.9, 'reg_lambda': 3.138092790342763, 'reg_alpha': 1.7457407352932635, 'feature_fraction': 0.5280058285293254, 'bagging_fraction': 0.7347094138032162, 'bagging_freq': 4, 'num_leaves': 680, 'min_child_samples': 67}. Best is trial 21 with value: -0.9263444092694786.\u001b[0m\n"
     ]
    },
    {
     "name": "stdout",
     "output_type": "stream",
     "text": [
      "Early stopping, best iteration is:\n",
      "[224]\ttraining's l1: 1.02131\tvalid_1's l1: 0.931368\n",
      "[LightGBM] [Warning] feature_fraction is set=0.6787015553587252, colsample_bytree=0.6 will be ignored. Current value: feature_fraction=0.6787015553587252\n",
      "[LightGBM] [Warning] bagging_fraction is set=0.6830646486648553, subsample=0.7 will be ignored. Current value: bagging_fraction=0.6830646486648553\n",
      "[LightGBM] [Warning] bagging_freq is set=7, subsample_freq=0 will be ignored. Current value: bagging_freq=7\n",
      "Training until validation scores don't improve for 100 rounds\n",
      "[100]\ttraining's l1: 1.0098\tvalid_1's l1: 0.930564\n",
      "[200]\ttraining's l1: 1.00374\tvalid_1's l1: 0.930272\n"
     ]
    },
    {
     "name": "stderr",
     "output_type": "stream",
     "text": [
      "\u001b[32m[I 2021-07-18 17:04:38,080]\u001b[0m Trial 31 finished with value: -0.9293321036134823 and parameters: {'max_depth': 8, 'min_child_weight': 8, 'subsample': 0.7, 'colsample_bytree': 0.6, 'reg_lambda': 0.34081017244129697, 'reg_alpha': 0.41904695258709246, 'feature_fraction': 0.6787015553587252, 'bagging_fraction': 0.6830646486648553, 'bagging_freq': 7, 'num_leaves': 615, 'min_child_samples': 47}. Best is trial 21 with value: -0.9263444092694786.\u001b[0m\n"
     ]
    },
    {
     "name": "stdout",
     "output_type": "stream",
     "text": [
      "Early stopping, best iteration is:\n",
      "[171]\ttraining's l1: 1.00444\tvalid_1's l1: 0.92936\n",
      "[LightGBM] [Warning] feature_fraction is set=0.874359140645931, colsample_bytree=0.7 will be ignored. Current value: feature_fraction=0.874359140645931\n",
      "[LightGBM] [Warning] bagging_fraction is set=0.5848623798167635, subsample=0.7 will be ignored. Current value: bagging_fraction=0.5848623798167635\n",
      "[LightGBM] [Warning] bagging_freq is set=7, subsample_freq=0 will be ignored. Current value: bagging_freq=7\n",
      "Training until validation scores don't improve for 100 rounds\n",
      "[100]\ttraining's l1: 0.999477\tvalid_1's l1: 0.933142\n"
     ]
    },
    {
     "name": "stderr",
     "output_type": "stream",
     "text": [
      "\u001b[32m[I 2021-07-18 17:04:45,860]\u001b[0m Trial 32 finished with value: -0.9291955097332937 and parameters: {'max_depth': 10, 'min_child_weight': 7, 'subsample': 0.7, 'colsample_bytree': 0.7, 'reg_lambda': 0.049231180410720055, 'reg_alpha': 0.018139439432888642, 'feature_fraction': 0.874359140645931, 'bagging_fraction': 0.5848623798167635, 'bagging_freq': 7, 'num_leaves': 532, 'min_child_samples': 58}. Best is trial 21 with value: -0.9263444092694786.\u001b[0m\n"
     ]
    },
    {
     "name": "stdout",
     "output_type": "stream",
     "text": [
      "Early stopping, best iteration is:\n",
      "[49]\ttraining's l1: 1.00666\tvalid_1's l1: 0.929202\n",
      "[LightGBM] [Warning] feature_fraction is set=0.7442915503246749, colsample_bytree=0.7 will be ignored. Current value: feature_fraction=0.7442915503246749\n",
      "[LightGBM] [Warning] bagging_fraction is set=0.4839046050863703, subsample=0.7 will be ignored. Current value: bagging_fraction=0.4839046050863703\n",
      "[LightGBM] [Warning] bagging_freq is set=5, subsample_freq=0 will be ignored. Current value: bagging_freq=5\n",
      "Training until validation scores don't improve for 100 rounds\n",
      "[100]\ttraining's l1: 1.0125\tvalid_1's l1: 0.931989\n",
      "[200]\ttraining's l1: 1.00728\tvalid_1's l1: 0.932431\n"
     ]
    },
    {
     "name": "stderr",
     "output_type": "stream",
     "text": [
      "\u001b[32m[I 2021-07-18 17:04:53,590]\u001b[0m Trial 33 finished with value: -0.930602954599039 and parameters: {'max_depth': 8, 'min_child_weight': 9, 'subsample': 0.7, 'colsample_bytree': 0.7, 'reg_lambda': 0.011778690689308447, 'reg_alpha': 0.004096442594064233, 'feature_fraction': 0.7442915503246749, 'bagging_fraction': 0.4839046050863703, 'bagging_freq': 5, 'num_leaves': 882, 'min_child_samples': 51}. Best is trial 21 with value: -0.9263444092694786.\u001b[0m\n"
     ]
    },
    {
     "name": "stdout",
     "output_type": "stream",
     "text": [
      "Early stopping, best iteration is:\n",
      "[128]\ttraining's l1: 1.01009\tvalid_1's l1: 0.930611\n",
      "[LightGBM] [Warning] feature_fraction is set=0.6515371073148274, colsample_bytree=0.8 will be ignored. Current value: feature_fraction=0.6515371073148274\n",
      "[LightGBM] [Warning] bagging_fraction is set=0.6622949515705254, subsample=0.6 will be ignored. Current value: bagging_fraction=0.6622949515705254\n",
      "[LightGBM] [Warning] bagging_freq is set=8, subsample_freq=0 will be ignored. Current value: bagging_freq=8\n",
      "Training until validation scores don't improve for 100 rounds\n",
      "[100]\ttraining's l1: 1.02821\tvalid_1's l1: 0.93555\n",
      "[200]\ttraining's l1: 1.02259\tvalid_1's l1: 0.931537\n",
      "[300]\ttraining's l1: 1.02052\tvalid_1's l1: 0.931724\n"
     ]
    },
    {
     "name": "stderr",
     "output_type": "stream",
     "text": [
      "\u001b[32m[I 2021-07-18 17:05:02,497]\u001b[0m Trial 34 finished with value: -0.9312858795225638 and parameters: {'max_depth': 5, 'min_child_weight': 11, 'subsample': 0.6, 'colsample_bytree': 0.8, 'reg_lambda': 0.20411440070660344, 'reg_alpha': 0.0381379217688788, 'feature_fraction': 0.6515371073148274, 'bagging_fraction': 0.6622949515705254, 'bagging_freq': 8, 'num_leaves': 376, 'min_child_samples': 63}. Best is trial 21 with value: -0.9263444092694786.\u001b[0m\n"
     ]
    },
    {
     "name": "stdout",
     "output_type": "stream",
     "text": [
      "Early stopping, best iteration is:\n",
      "[264]\ttraining's l1: 1.02135\tvalid_1's l1: 0.931298\n",
      "[LightGBM] [Warning] feature_fraction is set=0.7872037465780705, colsample_bytree=0.7 will be ignored. Current value: feature_fraction=0.7872037465780705\n",
      "[LightGBM] [Warning] bagging_fraction is set=0.7116980369907238, subsample=0.7 will be ignored. Current value: bagging_fraction=0.7116980369907238\n",
      "[LightGBM] [Warning] bagging_freq is set=3, subsample_freq=0 will be ignored. Current value: bagging_freq=3\n",
      "Training until validation scores don't improve for 100 rounds\n",
      "[100]\ttraining's l1: 0.992974\tvalid_1's l1: 0.933445\n"
     ]
    },
    {
     "name": "stderr",
     "output_type": "stream",
     "text": [
      "\u001b[32m[I 2021-07-18 17:05:13,715]\u001b[0m Trial 35 finished with value: -0.9308962244528396 and parameters: {'max_depth': 12, 'min_child_weight': 9, 'subsample': 0.7, 'colsample_bytree': 0.7, 'reg_lambda': 0.5546368993385797, 'reg_alpha': 9.631149314654024, 'feature_fraction': 0.7872037465780705, 'bagging_fraction': 0.7116980369907238, 'bagging_freq': 3, 'num_leaves': 748, 'min_child_samples': 43}. Best is trial 21 with value: -0.9263444092694786.\u001b[0m\n"
     ]
    },
    {
     "name": "stdout",
     "output_type": "stream",
     "text": [
      "Early stopping, best iteration is:\n",
      "[61]\ttraining's l1: 0.997633\tvalid_1's l1: 0.930908\n",
      "[LightGBM] [Warning] feature_fraction is set=0.7192013529288313, colsample_bytree=0.9 will be ignored. Current value: feature_fraction=0.7192013529288313\n",
      "[LightGBM] [Warning] bagging_fraction is set=0.7815023987030301, subsample=0.6 will be ignored. Current value: bagging_fraction=0.7815023987030301\n",
      "[LightGBM] [Warning] bagging_freq is set=12, subsample_freq=0 will be ignored. Current value: bagging_freq=12\n",
      "Training until validation scores don't improve for 100 rounds\n",
      "[100]\ttraining's l1: 1.03894\tvalid_1's l1: 0.943764\n",
      "[200]\ttraining's l1: 1.03402\tvalid_1's l1: 0.938085\n",
      "[300]\ttraining's l1: 1.03109\tvalid_1's l1: 0.93589\n",
      "[400]\ttraining's l1: 1.03028\tvalid_1's l1: 0.935631\n",
      "[500]\ttraining's l1: 1.02902\tvalid_1's l1: 0.934635\n",
      "[600]\ttraining's l1: 1.02824\tvalid_1's l1: 0.93415\n",
      "[700]\ttraining's l1: 1.02748\tvalid_1's l1: 0.933788\n"
     ]
    },
    {
     "name": "stderr",
     "output_type": "stream",
     "text": [
      "\u001b[32m[I 2021-07-18 17:05:29,901]\u001b[0m Trial 36 finished with value: -0.9336896172417143 and parameters: {'max_depth': 3, 'min_child_weight': 7, 'subsample': 0.6, 'colsample_bytree': 0.9, 'reg_lambda': 2.2298685635391147, 'reg_alpha': 2.8732810379828644, 'feature_fraction': 0.7192013529288313, 'bagging_fraction': 0.7815023987030301, 'bagging_freq': 12, 'num_leaves': 565, 'min_child_samples': 33}. Best is trial 21 with value: -0.9263444092694786.\u001b[0m\n"
     ]
    },
    {
     "name": "stdout",
     "output_type": "stream",
     "text": [
      "Early stopping, best iteration is:\n",
      "[670]\ttraining's l1: 1.02755\tvalid_1's l1: 0.933726\n",
      "[LightGBM] [Warning] feature_fraction is set=0.598385675181213, colsample_bytree=0.6 will be ignored. Current value: feature_fraction=0.598385675181213\n",
      "[LightGBM] [Warning] bagging_fraction is set=0.4476896267567979, subsample=0.5 will be ignored. Current value: bagging_fraction=0.4476896267567979\n",
      "[LightGBM] [Warning] bagging_freq is set=6, subsample_freq=0 will be ignored. Current value: bagging_freq=6\n",
      "Training until validation scores don't improve for 100 rounds\n",
      "[100]\ttraining's l1: 1.02071\tvalid_1's l1: 0.933847\n",
      "[200]\ttraining's l1: 1.01482\tvalid_1's l1: 0.930131\n",
      "[300]\ttraining's l1: 1.01321\tvalid_1's l1: 0.92967\n",
      "[400]\ttraining's l1: 1.01284\tvalid_1's l1: 0.9297\n",
      "[500]\ttraining's l1: 1.01218\tvalid_1's l1: 0.929497\n",
      "[600]\ttraining's l1: 1.01122\tvalid_1's l1: 0.929081\n"
     ]
    },
    {
     "name": "stderr",
     "output_type": "stream",
     "text": [
      "\u001b[32m[I 2021-07-18 17:05:47,812]\u001b[0m Trial 37 finished with value: -0.9289409928060025 and parameters: {'max_depth': 6, 'min_child_weight': 5, 'subsample': 0.5, 'colsample_bytree': 0.6, 'reg_lambda': 0.049622697043602434, 'reg_alpha': 0.8212085309327228, 'feature_fraction': 0.598385675181213, 'bagging_fraction': 0.4476896267567979, 'bagging_freq': 6, 'num_leaves': 635, 'min_child_samples': 71}. Best is trial 21 with value: -0.9263444092694786.\u001b[0m\n"
     ]
    },
    {
     "name": "stdout",
     "output_type": "stream",
     "text": [
      "Early stopping, best iteration is:\n",
      "[588]\ttraining's l1: 1.01138\tvalid_1's l1: 0.928974\n",
      "[LightGBM] [Warning] feature_fraction is set=0.46133145260603786, colsample_bytree=0.8 will be ignored. Current value: feature_fraction=0.46133145260603786\n",
      "[LightGBM] [Warning] bagging_fraction is set=0.3125469913746115, subsample=0.7 will be ignored. Current value: bagging_fraction=0.3125469913746115\n",
      "[LightGBM] [Warning] bagging_freq is set=10, subsample_freq=0 will be ignored. Current value: bagging_freq=10\n",
      "Training until validation scores don't improve for 100 rounds\n",
      "[100]\ttraining's l1: 1.00673\tvalid_1's l1: 0.934557\n"
     ]
    },
    {
     "name": "stderr",
     "output_type": "stream",
     "text": [
      "\u001b[32m[I 2021-07-18 17:05:53,677]\u001b[0m Trial 38 finished with value: -0.9321405386173757 and parameters: {'max_depth': 10, 'min_child_weight': 11, 'subsample': 0.7, 'colsample_bytree': 0.8, 'reg_lambda': 0.005941691207581245, 'reg_alpha': 21.573533566290195, 'feature_fraction': 0.46133145260603786, 'bagging_fraction': 0.3125469913746115, 'bagging_freq': 10, 'num_leaves': 510, 'min_child_samples': 56}. Best is trial 21 with value: -0.9263444092694786.\u001b[0m\n"
     ]
    },
    {
     "name": "stdout",
     "output_type": "stream",
     "text": [
      "Early stopping, best iteration is:\n",
      "[61]\ttraining's l1: 1.01158\tvalid_1's l1: 0.932158\n",
      "[LightGBM] [Warning] feature_fraction is set=0.9289313814319445, colsample_bytree=0.8 will be ignored. Current value: feature_fraction=0.9289313814319445\n",
      "[LightGBM] [Warning] bagging_fraction is set=0.5461395051994553, subsample=0.6 will be ignored. Current value: bagging_fraction=0.5461395051994553\n",
      "[LightGBM] [Warning] bagging_freq is set=14, subsample_freq=0 will be ignored. Current value: bagging_freq=14\n",
      "Training until validation scores don't improve for 100 rounds\n",
      "[100]\ttraining's l1: 1.01225\tvalid_1's l1: 0.926893\n",
      "[200]\ttraining's l1: 1.00708\tvalid_1's l1: 0.928581\n"
     ]
    },
    {
     "name": "stderr",
     "output_type": "stream",
     "text": [
      "\u001b[32m[I 2021-07-18 17:06:01,362]\u001b[0m Trial 39 finished with value: -0.9266122466824335 and parameters: {'max_depth': 8, 'min_child_weight': 2, 'subsample': 0.6, 'colsample_bytree': 0.8, 'reg_lambda': 0.02170049760264609, 'reg_alpha': 0.1028062901428719, 'feature_fraction': 0.9289313814319445, 'bagging_fraction': 0.5461395051994553, 'bagging_freq': 14, 'num_leaves': 711, 'min_child_samples': 60}. Best is trial 21 with value: -0.9263444092694786.\u001b[0m\n"
     ]
    },
    {
     "name": "stdout",
     "output_type": "stream",
     "text": [
      "Early stopping, best iteration is:\n",
      "[117]\ttraining's l1: 1.0116\tvalid_1's l1: 0.926615\n",
      "[LightGBM] [Warning] feature_fraction is set=0.9296147703128643, colsample_bytree=0.8 will be ignored. Current value: feature_fraction=0.9296147703128643\n",
      "[LightGBM] [Warning] bagging_fraction is set=0.5257148413610372, subsample=0.5 will be ignored. Current value: bagging_fraction=0.5257148413610372\n",
      "[LightGBM] [Warning] bagging_freq is set=14, subsample_freq=0 will be ignored. Current value: bagging_freq=14\n",
      "Training until validation scores don't improve for 100 rounds\n",
      "[100]\ttraining's l1: 0.995777\tvalid_1's l1: 0.93059\n"
     ]
    },
    {
     "name": "stderr",
     "output_type": "stream",
     "text": [
      "\u001b[32m[I 2021-07-18 17:06:10,419]\u001b[0m Trial 40 finished with value: -0.9299324138640589 and parameters: {'max_depth': 11, 'min_child_weight': 1, 'subsample': 0.5, 'colsample_bytree': 0.8, 'reg_lambda': 0.014132908358121508, 'reg_alpha': 0.06870880040241331, 'feature_fraction': 0.9296147703128643, 'bagging_fraction': 0.5257148413610372, 'bagging_freq': 14, 'num_leaves': 709, 'min_child_samples': 59}. Best is trial 21 with value: -0.9263444092694786.\u001b[0m\n"
     ]
    },
    {
     "name": "stdout",
     "output_type": "stream",
     "text": [
      "Early stopping, best iteration is:\n",
      "[60]\ttraining's l1: 0.99997\tvalid_1's l1: 0.929939\n",
      "[LightGBM] [Warning] feature_fraction is set=0.8875910476934887, colsample_bytree=0.8 will be ignored. Current value: feature_fraction=0.8875910476934887\n",
      "[LightGBM] [Warning] bagging_fraction is set=0.5887904786517693, subsample=0.6 will be ignored. Current value: bagging_fraction=0.5887904786517693\n",
      "[LightGBM] [Warning] bagging_freq is set=15, subsample_freq=0 will be ignored. Current value: bagging_freq=15\n",
      "Training until validation scores don't improve for 100 rounds\n",
      "[100]\ttraining's l1: 1.01292\tvalid_1's l1: 0.928843\n",
      "[200]\ttraining's l1: 1.00648\tvalid_1's l1: 0.929353\n"
     ]
    },
    {
     "name": "stderr",
     "output_type": "stream",
     "text": [
      "\u001b[32m[I 2021-07-18 17:06:18,083]\u001b[0m Trial 41 finished with value: -0.9283041986355877 and parameters: {'max_depth': 8, 'min_child_weight': 2, 'subsample': 0.6, 'colsample_bytree': 0.8, 'reg_lambda': 0.031301589712198825, 'reg_alpha': 0.3338852049330747, 'feature_fraction': 0.8875910476934887, 'bagging_fraction': 0.5887904786517693, 'bagging_freq': 15, 'num_leaves': 762, 'min_child_samples': 51}. Best is trial 21 with value: -0.9263444092694786.\u001b[0m\n"
     ]
    },
    {
     "name": "stdout",
     "output_type": "stream",
     "text": [
      "Early stopping, best iteration is:\n",
      "[118]\ttraining's l1: 1.01152\tvalid_1's l1: 0.928311\n",
      "[LightGBM] [Warning] feature_fraction is set=0.9629887350919022, colsample_bytree=0.7 will be ignored. Current value: feature_fraction=0.9629887350919022\n",
      "[LightGBM] [Warning] bagging_fraction is set=0.6464562804533557, subsample=0.6 will be ignored. Current value: bagging_fraction=0.6464562804533557\n",
      "[LightGBM] [Warning] bagging_freq is set=13, subsample_freq=0 will be ignored. Current value: bagging_freq=13\n",
      "Training until validation scores don't improve for 100 rounds\n",
      "[100]\ttraining's l1: 1.02279\tvalid_1's l1: 0.934146\n",
      "[200]\ttraining's l1: 1.01732\tvalid_1's l1: 0.932014\n",
      "[300]\ttraining's l1: 1.01513\tvalid_1's l1: 0.931233\n",
      "[400]\ttraining's l1: 1.01347\tvalid_1's l1: 0.930852\n"
     ]
    },
    {
     "name": "stderr",
     "output_type": "stream",
     "text": [
      "\u001b[32m[I 2021-07-18 17:06:30,222]\u001b[0m Trial 42 finished with value: -0.9304651460991532 and parameters: {'max_depth': 6, 'min_child_weight': 3, 'subsample': 0.6, 'colsample_bytree': 0.7, 'reg_lambda': 0.13417257540279182, 'reg_alpha': 0.02182042114836488, 'feature_fraction': 0.9629887350919022, 'bagging_fraction': 0.6464562804533557, 'bagging_freq': 13, 'num_leaves': 675, 'min_child_samples': 62}. Best is trial 21 with value: -0.9263444092694786.\u001b[0m\n"
     ]
    },
    {
     "name": "stdout",
     "output_type": "stream",
     "text": [
      "Early stopping, best iteration is:\n",
      "[359]\ttraining's l1: 1.01423\tvalid_1's l1: 0.930483\n",
      "[LightGBM] [Warning] feature_fraction is set=0.8151288516828872, colsample_bytree=0.9 will be ignored. Current value: feature_fraction=0.8151288516828872\n",
      "[LightGBM] [Warning] bagging_fraction is set=0.5542347808293315, subsample=0.6 will be ignored. Current value: bagging_fraction=0.5542347808293315\n",
      "[LightGBM] [Warning] bagging_freq is set=12, subsample_freq=0 will be ignored. Current value: bagging_freq=12\n",
      "Training until validation scores don't improve for 100 rounds\n",
      "[100]\ttraining's l1: 1.0094\tvalid_1's l1: 0.929434\n"
     ]
    },
    {
     "name": "stderr",
     "output_type": "stream",
     "text": [
      "\u001b[32m[I 2021-07-18 17:06:36,760]\u001b[0m Trial 43 finished with value: -0.9290045973041459 and parameters: {'max_depth': 9, 'min_child_weight': 10, 'subsample': 0.6, 'colsample_bytree': 0.9, 'reg_lambda': 0.002214719690569288, 'reg_alpha': 0.0032260549572590753, 'feature_fraction': 0.8151288516828872, 'bagging_fraction': 0.5542347808293315, 'bagging_freq': 12, 'num_leaves': 561, 'min_child_samples': 71}. Best is trial 21 with value: -0.9263444092694786.\u001b[0m\n"
     ]
    },
    {
     "name": "stdout",
     "output_type": "stream",
     "text": [
      "Early stopping, best iteration is:\n",
      "[62]\ttraining's l1: 1.0118\tvalid_1's l1: 0.929006\n",
      "[LightGBM] [Warning] feature_fraction is set=0.6560407142949791, colsample_bytree=0.7 will be ignored. Current value: feature_fraction=0.6560407142949791\n",
      "[LightGBM] [Warning] bagging_fraction is set=0.6899680144266938, subsample=0.7 will be ignored. Current value: bagging_fraction=0.6899680144266938\n",
      "[LightGBM] [Warning] bagging_freq is set=17, subsample_freq=0 will be ignored. Current value: bagging_freq=17\n",
      "Training until validation scores don't improve for 100 rounds\n",
      "[100]\ttraining's l1: 1.01258\tvalid_1's l1: 0.930688\n",
      "[200]\ttraining's l1: 1.00583\tvalid_1's l1: 0.92974\n"
     ]
    },
    {
     "name": "stderr",
     "output_type": "stream",
     "text": [
      "\u001b[32m[I 2021-07-18 17:06:46,433]\u001b[0m Trial 44 finished with value: -0.9292988323172157 and parameters: {'max_depth': 8, 'min_child_weight': 6, 'subsample': 0.7, 'colsample_bytree': 0.7, 'reg_lambda': 0.7327472187051981, 'reg_alpha': 0.18488691578997374, 'feature_fraction': 0.6560407142949791, 'bagging_fraction': 0.6899680144266938, 'bagging_freq': 17, 'num_leaves': 785, 'min_child_samples': 55}. Best is trial 21 with value: -0.9263444092694786.\u001b[0m\n"
     ]
    },
    {
     "name": "stdout",
     "output_type": "stream",
     "text": [
      "Early stopping, best iteration is:\n",
      "[194]\ttraining's l1: 1.00629\tvalid_1's l1: 0.929322\n",
      "[LightGBM] [Warning] feature_fraction is set=0.5609967012825987, colsample_bytree=0.8 will be ignored. Current value: feature_fraction=0.5609967012825987\n",
      "[LightGBM] [Warning] bagging_fraction is set=0.4991031003751516, subsample=0.8 will be ignored. Current value: bagging_fraction=0.4991031003751516\n",
      "[LightGBM] [Warning] bagging_freq is set=8, subsample_freq=0 will be ignored. Current value: bagging_freq=8\n",
      "Training until validation scores don't improve for 100 rounds\n",
      "[100]\ttraining's l1: 0.999376\tvalid_1's l1: 0.93118\n"
     ]
    },
    {
     "name": "stderr",
     "output_type": "stream",
     "text": [
      "\u001b[32m[I 2021-07-18 17:06:55,669]\u001b[0m Trial 45 finished with value: -0.9291554383708598 and parameters: {'max_depth': 10, 'min_child_weight': 2, 'subsample': 0.8, 'colsample_bytree': 0.8, 'reg_lambda': 0.058681095494752054, 'reg_alpha': 0.001009621691612061, 'feature_fraction': 0.5609967012825987, 'bagging_fraction': 0.4991031003751516, 'bagging_freq': 8, 'num_leaves': 627, 'min_child_samples': 37}. Best is trial 21 with value: -0.9263444092694786.\u001b[0m\n"
     ]
    },
    {
     "name": "stdout",
     "output_type": "stream",
     "text": [
      "Early stopping, best iteration is:\n",
      "[76]\ttraining's l1: 1.00233\tvalid_1's l1: 0.92916\n",
      "[LightGBM] [Warning] feature_fraction is set=0.7182165957276532, colsample_bytree=0.8 will be ignored. Current value: feature_fraction=0.7182165957276532\n",
      "[LightGBM] [Warning] bagging_fraction is set=0.6198278325469913, subsample=0.6 will be ignored. Current value: bagging_fraction=0.6198278325469913\n",
      "[LightGBM] [Warning] bagging_freq is set=3, subsample_freq=0 will be ignored. Current value: bagging_freq=3\n",
      "Training until validation scores don't improve for 100 rounds\n",
      "[100]\ttraining's l1: 0.979143\tvalid_1's l1: 0.944968\n"
     ]
    },
    {
     "name": "stderr",
     "output_type": "stream",
     "text": [
      "\u001b[32m[I 2021-07-18 17:07:05,886]\u001b[0m Trial 46 finished with value: -0.9330118465535024 and parameters: {'max_depth': 14, 'min_child_weight': 4, 'subsample': 0.6, 'colsample_bytree': 0.8, 'reg_lambda': 0.0062971025374530054, 'reg_alpha': 0.1127548794187856, 'feature_fraction': 0.7182165957276532, 'bagging_fraction': 0.6198278325469913, 'bagging_freq': 3, 'num_leaves': 893, 'min_child_samples': 44}. Best is trial 21 with value: -0.9263444092694786.\u001b[0m\n"
     ]
    },
    {
     "name": "stdout",
     "output_type": "stream",
     "text": [
      "Early stopping, best iteration is:\n",
      "[22]\ttraining's l1: 1.00763\tvalid_1's l1: 0.933013\n",
      "[LightGBM] [Warning] feature_fraction is set=0.8438553014436948, colsample_bytree=0.5 will be ignored. Current value: feature_fraction=0.8438553014436948\n",
      "[LightGBM] [Warning] bagging_fraction is set=0.7652754064583432, subsample=0.7 will be ignored. Current value: bagging_fraction=0.7652754064583432\n",
      "[LightGBM] [Warning] bagging_freq is set=6, subsample_freq=0 will be ignored. Current value: bagging_freq=6\n",
      "Training until validation scores don't improve for 100 rounds\n",
      "[100]\ttraining's l1: 1.02265\tvalid_1's l1: 0.934152\n",
      "[200]\ttraining's l1: 1.01872\tvalid_1's l1: 0.932076\n",
      "[300]\ttraining's l1: 1.01666\tvalid_1's l1: 0.931342\n",
      "[400]\ttraining's l1: 1.01424\tvalid_1's l1: 0.930632\n",
      "[500]\ttraining's l1: 1.0136\tvalid_1's l1: 0.93064\n"
     ]
    },
    {
     "name": "stderr",
     "output_type": "stream",
     "text": [
      "\u001b[32m[I 2021-07-18 17:07:21,262]\u001b[0m Trial 47 finished with value: -0.930322671867451 and parameters: {'max_depth': 6, 'min_child_weight': 7, 'subsample': 0.7, 'colsample_bytree': 0.5, 'reg_lambda': 0.021343227641532226, 'reg_alpha': 2.3825189924722316, 'feature_fraction': 0.8438553014436948, 'bagging_fraction': 0.7652754064583432, 'bagging_freq': 6, 'num_leaves': 679, 'min_child_samples': 62}. Best is trial 21 with value: -0.9263444092694786.\u001b[0m\n"
     ]
    },
    {
     "name": "stdout",
     "output_type": "stream",
     "text": [
      "Early stopping, best iteration is:\n",
      "[408]\ttraining's l1: 1.01408\tvalid_1's l1: 0.930359\n",
      "[LightGBM] [Warning] feature_fraction is set=0.6240278939386792, colsample_bytree=0.9 will be ignored. Current value: feature_fraction=0.6240278939386792\n",
      "[LightGBM] [Warning] bagging_fraction is set=0.5285103668345508, subsample=0.7 will be ignored. Current value: bagging_fraction=0.5285103668345508\n",
      "[LightGBM] [Warning] bagging_freq is set=13, subsample_freq=0 will be ignored. Current value: bagging_freq=13\n",
      "Training until validation scores don't improve for 100 rounds\n",
      "[100]\ttraining's l1: 1.00823\tvalid_1's l1: 0.929747\n"
     ]
    },
    {
     "name": "stderr",
     "output_type": "stream",
     "text": [
      "\u001b[32m[I 2021-07-18 17:07:27,663]\u001b[0m Trial 48 finished with value: -0.9289712779927823 and parameters: {'max_depth': 9, 'min_child_weight': 5, 'subsample': 0.7, 'colsample_bytree': 0.9, 'reg_lambda': 0.1577750778613965, 'reg_alpha': 0.5520194678853523, 'feature_fraction': 0.6240278939386792, 'bagging_fraction': 0.5285103668345508, 'bagging_freq': 13, 'num_leaves': 475, 'min_child_samples': 83}. Best is trial 21 with value: -0.9263444092694786.\u001b[0m\n"
     ]
    },
    {
     "name": "stdout",
     "output_type": "stream",
     "text": [
      "Early stopping, best iteration is:\n",
      "[72]\ttraining's l1: 1.01061\tvalid_1's l1: 0.928975\n",
      "[LightGBM] [Warning] feature_fraction is set=0.5097979793746235, colsample_bytree=0.7 will be ignored. Current value: feature_fraction=0.5097979793746235\n",
      "[LightGBM] [Warning] bagging_fraction is set=0.4416311786598106, subsample=0.8 will be ignored. Current value: bagging_fraction=0.4416311786598106\n",
      "[LightGBM] [Warning] bagging_freq is set=10, subsample_freq=0 will be ignored. Current value: bagging_freq=10\n",
      "Training until validation scores don't improve for 100 rounds\n",
      "[100]\ttraining's l1: 0.993939\tvalid_1's l1: 0.933883\n"
     ]
    },
    {
     "name": "stderr",
     "output_type": "stream",
     "text": [
      "\u001b[32m[I 2021-07-18 17:07:37,074]\u001b[0m Trial 49 finished with value: -0.9304524527870714 and parameters: {'max_depth': 12, 'min_child_weight': 9, 'subsample': 0.8, 'colsample_bytree': 0.7, 'reg_lambda': 1.4696917320854128, 'reg_alpha': 0.012413044630655226, 'feature_fraction': 0.5097979793746235, 'bagging_fraction': 0.4416311786598106, 'bagging_freq': 10, 'num_leaves': 703, 'min_child_samples': 69}. Best is trial 21 with value: -0.9263444092694786.\u001b[0m\n"
     ]
    },
    {
     "name": "stdout",
     "output_type": "stream",
     "text": [
      "Early stopping, best iteration is:\n",
      "[77]\ttraining's l1: 0.997118\tvalid_1's l1: 0.930476\n",
      "[LightGBM] [Warning] feature_fraction is set=0.9189139534935903, colsample_bytree=0.8 will be ignored. Current value: feature_fraction=0.9189139534935903\n",
      "[LightGBM] [Warning] bagging_fraction is set=0.6958647975479306, subsample=0.6 will be ignored. Current value: bagging_fraction=0.6958647975479306\n",
      "[LightGBM] [Warning] bagging_freq is set=20, subsample_freq=0 will be ignored. Current value: bagging_freq=20\n",
      "Training until validation scores don't improve for 100 rounds\n",
      "[100]\ttraining's l1: 1.01713\tvalid_1's l1: 0.929871\n",
      "[200]\ttraining's l1: 1.01259\tvalid_1's l1: 0.929947\n"
     ]
    },
    {
     "name": "stderr",
     "output_type": "stream",
     "text": [
      "\u001b[32m[I 2021-07-18 17:07:44,392]\u001b[0m Trial 50 finished with value: -0.929245736371617 and parameters: {'max_depth': 7, 'min_child_weight': 14, 'subsample': 0.6, 'colsample_bytree': 0.8, 'reg_lambda': 0.3575567066306388, 'reg_alpha': 0.28614093221796605, 'feature_fraction': 0.9189139534935903, 'bagging_fraction': 0.6958647975479306, 'bagging_freq': 20, 'num_leaves': 300, 'min_child_samples': 73}. Best is trial 21 with value: -0.9263444092694786.\u001b[0m\n"
     ]
    },
    {
     "name": "stdout",
     "output_type": "stream",
     "text": [
      "Early stopping, best iteration is:\n",
      "[110]\ttraining's l1: 1.01653\tvalid_1's l1: 0.929253\n",
      "[LightGBM] [Warning] feature_fraction is set=0.884327149527989, colsample_bytree=0.8 will be ignored. Current value: feature_fraction=0.884327149527989\n",
      "[LightGBM] [Warning] bagging_fraction is set=0.5854421861031471, subsample=0.6 will be ignored. Current value: bagging_fraction=0.5854421861031471\n",
      "[LightGBM] [Warning] bagging_freq is set=16, subsample_freq=0 will be ignored. Current value: bagging_freq=16\n",
      "Training until validation scores don't improve for 100 rounds\n",
      "[100]\ttraining's l1: 1.01159\tvalid_1's l1: 0.930442\n",
      "[200]\ttraining's l1: 1.00676\tvalid_1's l1: 0.929067\n"
     ]
    },
    {
     "name": "stderr",
     "output_type": "stream",
     "text": [
      "\u001b[32m[I 2021-07-18 17:07:53,539]\u001b[0m Trial 51 finished with value: -0.9290205541411088 and parameters: {'max_depth': 8, 'min_child_weight': 2, 'subsample': 0.6, 'colsample_bytree': 0.8, 'reg_lambda': 0.023731259642137157, 'reg_alpha': 1.0551742198395266, 'feature_fraction': 0.884327149527989, 'bagging_fraction': 0.5854421861031471, 'bagging_freq': 16, 'num_leaves': 783, 'min_child_samples': 51}. Best is trial 21 with value: -0.9263444092694786.\u001b[0m\n"
     ]
    },
    {
     "name": "stdout",
     "output_type": "stream",
     "text": [
      "Early stopping, best iteration is:\n",
      "[179]\ttraining's l1: 1.00706\tvalid_1's l1: 0.929044\n",
      "[LightGBM] [Warning] feature_fraction is set=0.8859655470712715, colsample_bytree=0.8 will be ignored. Current value: feature_fraction=0.8859655470712715\n",
      "[LightGBM] [Warning] bagging_fraction is set=0.5689107828192719, subsample=0.6 will be ignored. Current value: bagging_fraction=0.5689107828192719\n",
      "[LightGBM] [Warning] bagging_freq is set=15, subsample_freq=0 will be ignored. Current value: bagging_freq=15\n",
      "Training until validation scores don't improve for 100 rounds\n",
      "[100]\ttraining's l1: 0.994464\tvalid_1's l1: 0.935016\n"
     ]
    },
    {
     "name": "stderr",
     "output_type": "stream",
     "text": [
      "\u001b[32m[I 2021-07-18 17:08:01,200]\u001b[0m Trial 52 finished with value: -0.9318261898352651 and parameters: {'max_depth': 11, 'min_child_weight': 2, 'subsample': 0.6, 'colsample_bytree': 0.8, 'reg_lambda': 0.029876646613936027, 'reg_alpha': 0.10072822919483061, 'feature_fraction': 0.8859655470712715, 'bagging_fraction': 0.5689107828192719, 'bagging_freq': 15, 'num_leaves': 758, 'min_child_samples': 49}. Best is trial 21 with value: -0.9263444092694786.\u001b[0m\n"
     ]
    },
    {
     "name": "stdout",
     "output_type": "stream",
     "text": [
      "Early stopping, best iteration is:\n",
      "[35]\ttraining's l1: 1.00468\tvalid_1's l1: 0.931829\n",
      "[LightGBM] [Warning] feature_fraction is set=0.994033907134017, colsample_bytree=0.8 will be ignored. Current value: feature_fraction=0.994033907134017\n",
      "[LightGBM] [Warning] bagging_fraction is set=0.6086471468087709, subsample=0.5 will be ignored. Current value: bagging_fraction=0.6086471468087709\n",
      "[LightGBM] [Warning] bagging_freq is set=14, subsample_freq=0 will be ignored. Current value: bagging_freq=14\n",
      "Training until validation scores don't improve for 100 rounds\n",
      "[100]\ttraining's l1: 1.0128\tvalid_1's l1: 0.930811\n",
      "[200]\ttraining's l1: 1.00681\tvalid_1's l1: 0.931472\n",
      "Early stopping, best iteration is:\n",
      "[107]\ttraining's l1: 1.01158\tvalid_1's l1: 0.930142\n"
     ]
    },
    {
     "name": "stderr",
     "output_type": "stream",
     "text": [
      "\u001b[32m[I 2021-07-18 17:08:09,131]\u001b[0m Trial 53 finished with value: -0.9301337232939241 and parameters: {'max_depth': 8, 'min_child_weight': 1, 'subsample': 0.5, 'colsample_bytree': 0.8, 'reg_lambda': 0.013299038713392487, 'reg_alpha': 0.4434785098664335, 'feature_fraction': 0.994033907134017, 'bagging_fraction': 0.6086471468087709, 'bagging_freq': 14, 'num_leaves': 979, 'min_child_samples': 60}. Best is trial 21 with value: -0.9263444092694786.\u001b[0m\n"
     ]
    },
    {
     "name": "stdout",
     "output_type": "stream",
     "text": [
      "[LightGBM] [Warning] feature_fraction is set=0.9695785677727827, colsample_bytree=0.8 will be ignored. Current value: feature_fraction=0.9695785677727827\n",
      "[LightGBM] [Warning] bagging_fraction is set=0.6488463025270503, subsample=0.6 will be ignored. Current value: bagging_fraction=0.6488463025270503\n",
      "[LightGBM] [Warning] bagging_freq is set=15, subsample_freq=0 will be ignored. Current value: bagging_freq=15\n",
      "Training until validation scores don't improve for 100 rounds\n",
      "[100]\ttraining's l1: 1.00604\tvalid_1's l1: 0.93011\n",
      "[200]\ttraining's l1: 1.00139\tvalid_1's l1: 0.930504\n"
     ]
    },
    {
     "name": "stderr",
     "output_type": "stream",
     "text": [
      "\u001b[32m[I 2021-07-18 17:08:19,778]\u001b[0m Trial 54 finished with value: -0.9296293685333642 and parameters: {'max_depth': 9, 'min_child_weight': 3, 'subsample': 0.6, 'colsample_bytree': 0.8, 'reg_lambda': 0.06642166494067958, 'reg_alpha': 0.26310187961471704, 'feature_fraction': 0.9695785677727827, 'bagging_fraction': 0.6488463025270503, 'bagging_freq': 15, 'num_leaves': 848, 'min_child_samples': 52}. Best is trial 21 with value: -0.9263444092694786.\u001b[0m\n"
     ]
    },
    {
     "name": "stdout",
     "output_type": "stream",
     "text": [
      "Early stopping, best iteration is:\n",
      "[140]\ttraining's l1: 1.00376\tvalid_1's l1: 0.929647\n",
      "[LightGBM] [Warning] feature_fraction is set=0.7955756101991339, colsample_bytree=0.7 will be ignored. Current value: feature_fraction=0.7955756101991339\n",
      "[LightGBM] [Warning] bagging_fraction is set=0.5436660546720686, subsample=0.6 will be ignored. Current value: bagging_fraction=0.5436660546720686\n",
      "[LightGBM] [Warning] bagging_freq is set=17, subsample_freq=0 will be ignored. Current value: bagging_freq=17\n",
      "Training until validation scores don't improve for 100 rounds\n",
      "[100]\ttraining's l1: 1.00215\tvalid_1's l1: 0.93176\n"
     ]
    },
    {
     "name": "stderr",
     "output_type": "stream",
     "text": [
      "\u001b[32m[I 2021-07-18 17:08:26,559]\u001b[0m Trial 55 finished with value: -0.9299304555352388 and parameters: {'max_depth': 10, 'min_child_weight': 4, 'subsample': 0.6, 'colsample_bytree': 0.7, 'reg_lambda': 0.03612088352974419, 'reg_alpha': 0.0557233328637143, 'feature_fraction': 0.7955756101991339, 'bagging_fraction': 0.5436660546720686, 'bagging_freq': 17, 'num_leaves': 640, 'min_child_samples': 65}. Best is trial 21 with value: -0.9263444092694786.\u001b[0m\n"
     ]
    },
    {
     "name": "stdout",
     "output_type": "stream",
     "text": [
      "Early stopping, best iteration is:\n",
      "[42]\ttraining's l1: 1.009\tvalid_1's l1: 0.929932\n",
      "[LightGBM] [Warning] feature_fraction is set=0.957203637043227, colsample_bytree=0.9 will be ignored. Current value: feature_fraction=0.957203637043227\n",
      "[LightGBM] [Warning] bagging_fraction is set=0.5072109286625356, subsample=0.7 will be ignored. Current value: bagging_fraction=0.5072109286625356\n",
      "[LightGBM] [Warning] bagging_freq is set=18, subsample_freq=0 will be ignored. Current value: bagging_freq=18\n",
      "Training until validation scores don't improve for 100 rounds\n",
      "[100]\ttraining's l1: 1.00614\tvalid_1's l1: 0.929357\n"
     ]
    },
    {
     "name": "stderr",
     "output_type": "stream",
     "text": [
      "\u001b[32m[I 2021-07-18 17:08:33,997]\u001b[0m Trial 56 finished with value: -0.9281869539084299 and parameters: {'max_depth': 9, 'min_child_weight': 8, 'subsample': 0.7, 'colsample_bytree': 0.9, 'reg_lambda': 0.10433150021163265, 'reg_alpha': 0.031178821525918658, 'feature_fraction': 0.957203637043227, 'bagging_fraction': 0.5072109286625356, 'bagging_freq': 18, 'num_leaves': 575, 'min_child_samples': 45}. Best is trial 21 with value: -0.9263444092694786.\u001b[0m\n"
     ]
    },
    {
     "name": "stdout",
     "output_type": "stream",
     "text": [
      "Early stopping, best iteration is:\n",
      "[72]\ttraining's l1: 1.00958\tvalid_1's l1: 0.928198\n",
      "[LightGBM] [Warning] feature_fraction is set=0.9512834402848398, colsample_bytree=0.9 will be ignored. Current value: feature_fraction=0.9512834402848398\n",
      "[LightGBM] [Warning] bagging_fraction is set=0.4592765332037137, subsample=0.7 will be ignored. Current value: bagging_fraction=0.4592765332037137\n",
      "[LightGBM] [Warning] bagging_freq is set=19, subsample_freq=0 will be ignored. Current value: bagging_freq=19\n",
      "Training until validation scores don't improve for 100 rounds\n",
      "[100]\ttraining's l1: 0.997064\tvalid_1's l1: 0.930764\n"
     ]
    },
    {
     "name": "stderr",
     "output_type": "stream",
     "text": [
      "\u001b[32m[I 2021-07-18 17:08:42,555]\u001b[0m Trial 57 finished with value: -0.9288974792297849 and parameters: {'max_depth': 11, 'min_child_weight': 8, 'subsample': 0.7, 'colsample_bytree': 0.9, 'reg_lambda': 0.10971428355930699, 'reg_alpha': 0.036866879148603655, 'feature_fraction': 0.9512834402848398, 'bagging_fraction': 0.4592765332037137, 'bagging_freq': 19, 'num_leaves': 572, 'min_child_samples': 45}. Best is trial 21 with value: -0.9263444092694786.\u001b[0m\n"
     ]
    },
    {
     "name": "stdout",
     "output_type": "stream",
     "text": [
      "Early stopping, best iteration is:\n",
      "[54]\ttraining's l1: 1.00236\tvalid_1's l1: 0.928903\n",
      "[LightGBM] [Warning] feature_fraction is set=0.685791054005197, colsample_bytree=0.9 will be ignored. Current value: feature_fraction=0.685791054005197\n",
      "[LightGBM] [Warning] bagging_fraction is set=0.4089270442031906, subsample=0.7 will be ignored. Current value: bagging_fraction=0.4089270442031906\n",
      "[LightGBM] [Warning] bagging_freq is set=9, subsample_freq=0 will be ignored. Current value: bagging_freq=9\n",
      "Training until validation scores don't improve for 100 rounds\n",
      "[100]\ttraining's l1: 1.01771\tvalid_1's l1: 0.932929\n",
      "[200]\ttraining's l1: 1.0113\tvalid_1's l1: 0.931633\n"
     ]
    },
    {
     "name": "stderr",
     "output_type": "stream",
     "text": [
      "\u001b[32m[I 2021-07-18 17:08:49,165]\u001b[0m Trial 58 finished with value: -0.9314673774395855 and parameters: {'max_depth': 7, 'min_child_weight': 6, 'subsample': 0.7, 'colsample_bytree': 0.9, 'reg_lambda': 7.301053960591745, 'reg_alpha': 0.009195418561423262, 'feature_fraction': 0.685791054005197, 'bagging_fraction': 0.4089270442031906, 'bagging_freq': 9, 'num_leaves': 527, 'min_child_samples': 40}. Best is trial 21 with value: -0.9263444092694786.\u001b[0m\n"
     ]
    },
    {
     "name": "stdout",
     "output_type": "stream",
     "text": [
      "Early stopping, best iteration is:\n",
      "[181]\ttraining's l1: 1.01162\tvalid_1's l1: 0.931484\n",
      "[LightGBM] [Warning] feature_fraction is set=0.845656844464366, colsample_bytree=0.9 will be ignored. Current value: feature_fraction=0.845656844464366\n",
      "[LightGBM] [Warning] bagging_fraction is set=0.49619174663522203, subsample=0.8 will be ignored. Current value: bagging_fraction=0.49619174663522203\n",
      "[LightGBM] [Warning] bagging_freq is set=11, subsample_freq=0 will be ignored. Current value: bagging_freq=11\n",
      "Training until validation scores don't improve for 100 rounds\n",
      "[100]\ttraining's l1: 0.994137\tvalid_1's l1: 0.931541\n"
     ]
    },
    {
     "name": "stderr",
     "output_type": "stream",
     "text": [
      "\u001b[32m[I 2021-07-18 17:08:58,084]\u001b[0m Trial 59 finished with value: -0.9301083149402776 and parameters: {'max_depth': 12, 'min_child_weight': 10, 'subsample': 0.8, 'colsample_bytree': 0.9, 'reg_lambda': 0.5251252878918551, 'reg_alpha': 0.02913623278150265, 'feature_fraction': 0.845656844464366, 'bagging_fraction': 0.49619174663522203, 'bagging_freq': 11, 'num_leaves': 441, 'min_child_samples': 36}. Best is trial 21 with value: -0.9263444092694786.\u001b[0m\n"
     ]
    },
    {
     "name": "stdout",
     "output_type": "stream",
     "text": [
      "Early stopping, best iteration is:\n",
      "[47]\ttraining's l1: 1.00518\tvalid_1's l1: 0.930116\n",
      "[LightGBM] [Warning] feature_fraction is set=0.5662991588828052, colsample_bytree=0.9 will be ignored. Current value: feature_fraction=0.5662991588828052\n",
      "[LightGBM] [Warning] bagging_fraction is set=0.5132951975521527, subsample=0.7 will be ignored. Current value: bagging_fraction=0.5132951975521527\n",
      "[LightGBM] [Warning] bagging_freq is set=4, subsample_freq=0 will be ignored. Current value: bagging_freq=4\n",
      "Training until validation scores don't improve for 100 rounds\n",
      "[100]\ttraining's l1: 0.99921\tvalid_1's l1: 0.93267\n"
     ]
    },
    {
     "name": "stderr",
     "output_type": "stream",
     "text": [
      "\u001b[32m[I 2021-07-18 17:09:07,194]\u001b[0m Trial 60 finished with value: -0.9305535042775885 and parameters: {'max_depth': 14, 'min_child_weight': 8, 'subsample': 0.7, 'colsample_bytree': 0.9, 'reg_lambda': 0.20112810153898777, 'reg_alpha': 0.08769051679124822, 'feature_fraction': 0.5662991588828052, 'bagging_fraction': 0.5132951975521527, 'bagging_freq': 4, 'num_leaves': 380, 'min_child_samples': 25}. Best is trial 21 with value: -0.9263444092694786.\u001b[0m\n"
     ]
    },
    {
     "name": "stdout",
     "output_type": "stream",
     "text": [
      "Early stopping, best iteration is:\n",
      "[52]\ttraining's l1: 1.00641\tvalid_1's l1: 0.930583\n",
      "[LightGBM] [Warning] feature_fraction is set=0.908627764783492, colsample_bytree=0.8 will be ignored. Current value: feature_fraction=0.908627764783492\n",
      "[LightGBM] [Warning] bagging_fraction is set=0.5915706983110633, subsample=0.7 will be ignored. Current value: bagging_fraction=0.5915706983110633\n",
      "[LightGBM] [Warning] bagging_freq is set=18, subsample_freq=0 will be ignored. Current value: bagging_freq=18\n",
      "Training until validation scores don't improve for 100 rounds\n",
      "[100]\ttraining's l1: 1.00596\tvalid_1's l1: 0.928514\n"
     ]
    },
    {
     "name": "stderr",
     "output_type": "stream",
     "text": [
      "\u001b[32m[I 2021-07-18 17:09:14,244]\u001b[0m Trial 61 finished with value: -0.9281064897004362 and parameters: {'max_depth': 9, 'min_child_weight': 6, 'subsample': 0.7, 'colsample_bytree': 0.8, 'reg_lambda': 0.0786488389222428, 'reg_alpha': 0.1571295079837857, 'feature_fraction': 0.908627764783492, 'bagging_fraction': 0.5915706983110633, 'bagging_freq': 18, 'num_leaves': 601, 'min_child_samples': 56}. Best is trial 21 with value: -0.9263444092694786.\u001b[0m\n"
     ]
    },
    {
     "name": "stdout",
     "output_type": "stream",
     "text": [
      "Early stopping, best iteration is:\n",
      "[59]\ttraining's l1: 1.0102\tvalid_1's l1: 0.928114\n",
      "[LightGBM] [Warning] feature_fraction is set=0.9165736438288983, colsample_bytree=0.8 will be ignored. Current value: feature_fraction=0.9165736438288983\n",
      "[LightGBM] [Warning] bagging_fraction is set=0.6329255802318914, subsample=0.7 will be ignored. Current value: bagging_fraction=0.6329255802318914\n",
      "[LightGBM] [Warning] bagging_freq is set=19, subsample_freq=0 will be ignored. Current value: bagging_freq=19\n",
      "Training until validation scores don't improve for 100 rounds\n",
      "[100]\ttraining's l1: 1.00587\tvalid_1's l1: 0.928095\n"
     ]
    },
    {
     "name": "stderr",
     "output_type": "stream",
     "text": [
      "\u001b[32m[I 2021-07-18 17:09:21,964]\u001b[0m Trial 62 finished with value: -0.927462351071506 and parameters: {'max_depth': 9, 'min_child_weight': 6, 'subsample': 0.7, 'colsample_bytree': 0.8, 'reg_lambda': 0.08335456482999809, 'reg_alpha': 0.19707588401101114, 'feature_fraction': 0.9165736438288983, 'bagging_fraction': 0.6329255802318914, 'bagging_freq': 19, 'num_leaves': 602, 'min_child_samples': 57}. Best is trial 21 with value: -0.9263444092694786.\u001b[0m\n"
     ]
    },
    {
     "name": "stdout",
     "output_type": "stream",
     "text": [
      "Early stopping, best iteration is:\n",
      "[73]\ttraining's l1: 1.00729\tvalid_1's l1: 0.927463\n",
      "[LightGBM] [Warning] feature_fraction is set=0.9086230777649521, colsample_bytree=0.8 will be ignored. Current value: feature_fraction=0.9086230777649521\n",
      "[LightGBM] [Warning] bagging_fraction is set=0.6381683264476353, subsample=0.7 will be ignored. Current value: bagging_fraction=0.6381683264476353\n",
      "[LightGBM] [Warning] bagging_freq is set=18, subsample_freq=0 will be ignored. Current value: bagging_freq=18\n",
      "Training until validation scores don't improve for 100 rounds\n",
      "[100]\ttraining's l1: 1.00084\tvalid_1's l1: 0.93184\n"
     ]
    },
    {
     "name": "stderr",
     "output_type": "stream",
     "text": [
      "\u001b[32m[I 2021-07-18 17:09:30,627]\u001b[0m Trial 63 finished with value: -0.929860218317786 and parameters: {'max_depth': 10, 'min_child_weight': 6, 'subsample': 0.7, 'colsample_bytree': 0.8, 'reg_lambda': 0.08144434834647846, 'reg_alpha': 0.18100152184956603, 'feature_fraction': 0.9086230777649521, 'bagging_fraction': 0.6381683264476353, 'bagging_freq': 18, 'num_leaves': 600, 'min_child_samples': 57}. Best is trial 21 with value: -0.9263444092694786.\u001b[0m\n"
     ]
    },
    {
     "name": "stdout",
     "output_type": "stream",
     "text": [
      "Early stopping, best iteration is:\n",
      "[72]\ttraining's l1: 1.00325\tvalid_1's l1: 0.92987\n",
      "[LightGBM] [Warning] feature_fraction is set=0.2090026784545999, colsample_bytree=0.8 will be ignored. Current value: feature_fraction=0.2090026784545999\n",
      "[LightGBM] [Warning] bagging_fraction is set=0.5480039385932282, subsample=0.7 will be ignored. Current value: bagging_fraction=0.5480039385932282\n",
      "[LightGBM] [Warning] bagging_freq is set=19, subsample_freq=0 will be ignored. Current value: bagging_freq=19\n",
      "Training until validation scores don't improve for 100 rounds\n",
      "[100]\ttraining's l1: 1.00441\tvalid_1's l1: 0.930408\n"
     ]
    },
    {
     "name": "stderr",
     "output_type": "stream",
     "text": [
      "\u001b[32m[I 2021-07-18 17:09:35,540]\u001b[0m Trial 64 finished with value: -0.929184231077018 and parameters: {'max_depth': 9, 'min_child_weight': 5, 'subsample': 0.7, 'colsample_bytree': 0.8, 'reg_lambda': 0.0039000915829888183, 'reg_alpha': 0.9570035187133493, 'feature_fraction': 0.2090026784545999, 'bagging_fraction': 0.5480039385932282, 'bagging_freq': 19, 'num_leaves': 537, 'min_child_samples': 54}. Best is trial 21 with value: -0.9263444092694786.\u001b[0m\n"
     ]
    },
    {
     "name": "stdout",
     "output_type": "stream",
     "text": [
      "Early stopping, best iteration is:\n",
      "[38]\ttraining's l1: 1.01683\tvalid_1's l1: 0.929185\n",
      "[LightGBM] [Warning] feature_fraction is set=0.9984671395436331, colsample_bytree=0.8 will be ignored. Current value: feature_fraction=0.9984671395436331\n",
      "[LightGBM] [Warning] bagging_fraction is set=0.5657373267603795, subsample=0.8 will be ignored. Current value: bagging_fraction=0.5657373267603795\n",
      "[LightGBM] [Warning] bagging_freq is set=18, subsample_freq=0 will be ignored. Current value: bagging_freq=18\n",
      "Training until validation scores don't improve for 100 rounds\n",
      "[100]\ttraining's l1: 1.0064\tvalid_1's l1: 0.929194\n",
      "[200]\ttraining's l1: 1.00141\tvalid_1's l1: 0.928377\n"
     ]
    },
    {
     "name": "stderr",
     "output_type": "stream",
     "text": [
      "\u001b[32m[I 2021-07-18 17:09:44,633]\u001b[0m Trial 65 finished with value: -0.9275214233906585 and parameters: {'max_depth': 9, 'min_child_weight': 7, 'subsample': 0.8, 'colsample_bytree': 0.8, 'reg_lambda': 0.04810853022194497, 'reg_alpha': 0.15127808823973207, 'feature_fraction': 0.9984671395436331, 'bagging_fraction': 0.5657373267603795, 'bagging_freq': 18, 'num_leaves': 654, 'min_child_samples': 65}. Best is trial 21 with value: -0.9263444092694786.\u001b[0m\n"
     ]
    },
    {
     "name": "stdout",
     "output_type": "stream",
     "text": [
      "Early stopping, best iteration is:\n",
      "[124]\ttraining's l1: 1.00454\tvalid_1's l1: 0.927537\n",
      "[LightGBM] [Warning] feature_fraction is set=0.9982259402777401, colsample_bytree=0.8 will be ignored. Current value: feature_fraction=0.9982259402777401\n",
      "[LightGBM] [Warning] bagging_fraction is set=0.5667009676928532, subsample=0.9 will be ignored. Current value: bagging_fraction=0.5667009676928532\n",
      "[LightGBM] [Warning] bagging_freq is set=19, subsample_freq=0 will be ignored. Current value: bagging_freq=19\n",
      "Training until validation scores don't improve for 100 rounds\n",
      "[100]\ttraining's l1: 0.998181\tvalid_1's l1: 0.930803\n"
     ]
    },
    {
     "name": "stderr",
     "output_type": "stream",
     "text": [
      "\u001b[32m[I 2021-07-18 17:09:53,565]\u001b[0m Trial 66 finished with value: -0.9288384553295296 and parameters: {'max_depth': 11, 'min_child_weight': 6, 'subsample': 0.9, 'colsample_bytree': 0.8, 'reg_lambda': 0.044877261493450414, 'reg_alpha': 0.15659500813468147, 'feature_fraction': 0.9982259402777401, 'bagging_fraction': 0.5667009676928532, 'bagging_freq': 19, 'num_leaves': 655, 'min_child_samples': 65}. Best is trial 21 with value: -0.9263444092694786.\u001b[0m\n"
     ]
    },
    {
     "name": "stdout",
     "output_type": "stream",
     "text": [
      "Early stopping, best iteration is:\n",
      "[54]\ttraining's l1: 1.00229\tvalid_1's l1: 0.928842\n",
      "[LightGBM] [Warning] feature_fraction is set=0.4005471057243348, colsample_bytree=0.8 will be ignored. Current value: feature_fraction=0.4005471057243348\n",
      "[LightGBM] [Warning] bagging_fraction is set=0.6055533885909201, subsample=0.8 will be ignored. Current value: bagging_fraction=0.6055533885909201\n",
      "[LightGBM] [Warning] bagging_freq is set=16, subsample_freq=0 will be ignored. Current value: bagging_freq=16\n",
      "Training until validation scores don't improve for 100 rounds\n",
      "[100]\ttraining's l1: 0.998786\tvalid_1's l1: 0.930024\n"
     ]
    },
    {
     "name": "stderr",
     "output_type": "stream",
     "text": [
      "\u001b[32m[I 2021-07-18 17:10:00,776]\u001b[0m Trial 67 finished with value: -0.9278535072894109 and parameters: {'max_depth': 10, 'min_child_weight': 7, 'subsample': 0.8, 'colsample_bytree': 0.8, 'reg_lambda': 0.008360915675235333, 'reg_alpha': 4.012498210067385, 'feature_fraction': 0.4005471057243348, 'bagging_fraction': 0.6055533885909201, 'bagging_freq': 16, 'num_leaves': 497, 'min_child_samples': 78}. Best is trial 21 with value: -0.9263444092694786.\u001b[0m\n"
     ]
    },
    {
     "name": "stdout",
     "output_type": "stream",
     "text": [
      "Early stopping, best iteration is:\n",
      "[55]\ttraining's l1: 1.00581\tvalid_1's l1: 0.927856\n",
      "[LightGBM] [Warning] feature_fraction is set=0.3392805196844011, colsample_bytree=0.8 will be ignored. Current value: feature_fraction=0.3392805196844011\n",
      "[LightGBM] [Warning] bagging_fraction is set=0.6267878372018826, subsample=0.8 will be ignored. Current value: bagging_fraction=0.6267878372018826\n",
      "[LightGBM] [Warning] bagging_freq is set=16, subsample_freq=0 will be ignored. Current value: bagging_freq=16\n",
      "Training until validation scores don't improve for 100 rounds\n",
      "[100]\ttraining's l1: 0.993519\tvalid_1's l1: 0.93836\n"
     ]
    },
    {
     "name": "stderr",
     "output_type": "stream",
     "text": [
      "\u001b[32m[I 2021-07-18 17:10:07,964]\u001b[0m Trial 68 finished with value: -0.9304265586654178 and parameters: {'max_depth': 12, 'min_child_weight': 7, 'subsample': 0.8, 'colsample_bytree': 0.8, 'reg_lambda': 0.009550015550963936, 'reg_alpha': 2.9168362180484406, 'feature_fraction': 0.3392805196844011, 'bagging_fraction': 0.6267878372018826, 'bagging_freq': 16, 'num_leaves': 484, 'min_child_samples': 79}. Best is trial 21 with value: -0.9263444092694786.\u001b[0m\n"
     ]
    },
    {
     "name": "stdout",
     "output_type": "stream",
     "text": [
      "Early stopping, best iteration is:\n",
      "[34]\ttraining's l1: 1.00845\tvalid_1's l1: 0.930427\n",
      "[LightGBM] [Warning] feature_fraction is set=0.3817272384593429, colsample_bytree=0.8 will be ignored. Current value: feature_fraction=0.3817272384593429\n",
      "[LightGBM] [Warning] bagging_fraction is set=0.7150245378879873, subsample=0.8 will be ignored. Current value: bagging_fraction=0.7150245378879873\n",
      "[LightGBM] [Warning] bagging_freq is set=20, subsample_freq=0 will be ignored. Current value: bagging_freq=20\n",
      "Training until validation scores don't improve for 100 rounds\n",
      "[100]\ttraining's l1: 1.03924\tvalid_1's l1: 0.946005\n"
     ]
    },
    {
     "name": "stderr",
     "output_type": "stream",
     "text": [
      "\u001b[32m[I 2021-07-18 17:10:13,340]\u001b[0m Trial 69 finished with value: -0.945965193845311 and parameters: {'max_depth': 13, 'min_child_weight': 5, 'subsample': 0.8, 'colsample_bytree': 0.8, 'reg_lambda': 0.0014932846634187708, 'reg_alpha': 11.647367361070692, 'feature_fraction': 0.3817272384593429, 'bagging_fraction': 0.7150245378879873, 'bagging_freq': 20, 'num_leaves': 18, 'min_child_samples': 76}. Best is trial 21 with value: -0.9263444092694786.\u001b[0m\n"
     ]
    },
    {
     "name": "stdout",
     "output_type": "stream",
     "text": [
      "Early stopping, best iteration is:\n",
      "[63]\ttraining's l1: 1.03929\tvalid_1's l1: 0.945966\n",
      "[LightGBM] [Warning] feature_fraction is set=0.3172206111442899, colsample_bytree=0.8 will be ignored. Current value: feature_fraction=0.3172206111442899\n",
      "[LightGBM] [Warning] bagging_fraction is set=0.6686952248129809, subsample=0.8 will be ignored. Current value: bagging_fraction=0.6686952248129809\n",
      "[LightGBM] [Warning] bagging_freq is set=17, subsample_freq=0 will be ignored. Current value: bagging_freq=17\n",
      "Training until validation scores don't improve for 100 rounds\n",
      "[100]\ttraining's l1: 0.999754\tvalid_1's l1: 0.929454\n"
     ]
    },
    {
     "name": "stderr",
     "output_type": "stream",
     "text": [
      "\u001b[32m[I 2021-07-18 17:10:20,031]\u001b[0m Trial 70 finished with value: -0.9286638214009624 and parameters: {'max_depth': 10, 'min_child_weight': 20, 'subsample': 0.8, 'colsample_bytree': 0.8, 'reg_lambda': 0.008293364920433775, 'reg_alpha': 5.1149956461826465, 'feature_fraction': 0.3172206111442899, 'bagging_fraction': 0.6686952248129809, 'bagging_freq': 17, 'num_leaves': 710, 'min_child_samples': 90}. Best is trial 21 with value: -0.9263444092694786.\u001b[0m\n"
     ]
    },
    {
     "name": "stdout",
     "output_type": "stream",
     "text": [
      "Early stopping, best iteration is:\n",
      "[46]\ttraining's l1: 1.01002\tvalid_1's l1: 0.928665\n",
      "[LightGBM] [Warning] feature_fraction is set=0.9361247239139463, colsample_bytree=0.8 will be ignored. Current value: feature_fraction=0.9361247239139463\n",
      "[LightGBM] [Warning] bagging_fraction is set=0.6016724678404805, subsample=0.8 will be ignored. Current value: bagging_fraction=0.6016724678404805\n",
      "[LightGBM] [Warning] bagging_freq is set=18, subsample_freq=0 will be ignored. Current value: bagging_freq=18\n",
      "Training until validation scores don't improve for 100 rounds\n",
      "[100]\ttraining's l1: 1.00735\tvalid_1's l1: 0.93004\n",
      "[200]\ttraining's l1: 1.00037\tvalid_1's l1: 0.927969\n"
     ]
    },
    {
     "name": "stderr",
     "output_type": "stream",
     "text": [
      "\u001b[32m[I 2021-07-18 17:10:30,651]\u001b[0m Trial 71 finished with value: -0.9277391577193708 and parameters: {'max_depth': 9, 'min_child_weight': 7, 'subsample': 0.8, 'colsample_bytree': 0.8, 'reg_lambda': 0.018975481521873946, 'reg_alpha': 0.6749256944206784, 'feature_fraction': 0.9361247239139463, 'bagging_fraction': 0.6016724678404805, 'bagging_freq': 18, 'num_leaves': 608, 'min_child_samples': 67}. Best is trial 21 with value: -0.9263444092694786.\u001b[0m\n"
     ]
    },
    {
     "name": "stdout",
     "output_type": "stream",
     "text": [
      "Early stopping, best iteration is:\n",
      "[164]\ttraining's l1: 1.00281\tvalid_1's l1: 0.927752\n",
      "[LightGBM] [Warning] feature_fraction is set=0.9806677278289114, colsample_bytree=0.8 will be ignored. Current value: feature_fraction=0.9806677278289114\n",
      "[LightGBM] [Warning] bagging_fraction is set=0.6176570865772918, subsample=0.8 will be ignored. Current value: bagging_fraction=0.6176570865772918\n",
      "[LightGBM] [Warning] bagging_freq is set=17, subsample_freq=0 will be ignored. Current value: bagging_freq=17\n",
      "Training until validation scores don't improve for 100 rounds\n",
      "[100]\ttraining's l1: 1.00039\tvalid_1's l1: 0.93038\n",
      "[200]\ttraining's l1: 0.990782\tvalid_1's l1: 0.93216\n"
     ]
    },
    {
     "name": "stderr",
     "output_type": "stream",
     "text": [
      "\u001b[32m[I 2021-07-18 17:10:42,905]\u001b[0m Trial 72 finished with value: -0.9292921834645467 and parameters: {'max_depth': 11, 'min_child_weight': 7, 'subsample': 0.8, 'colsample_bytree': 0.8, 'reg_lambda': 0.017038030096053213, 'reg_alpha': 0.6424750159264988, 'feature_fraction': 0.9806677278289114, 'bagging_fraction': 0.6176570865772918, 'bagging_freq': 17, 'num_leaves': 493, 'min_child_samples': 68}. Best is trial 21 with value: -0.9263444092694786.\u001b[0m\n"
     ]
    },
    {
     "name": "stdout",
     "output_type": "stream",
     "text": [
      "Early stopping, best iteration is:\n",
      "[123]\ttraining's l1: 0.998501\tvalid_1's l1: 0.929361\n",
      "[LightGBM] [Warning] feature_fraction is set=0.9471377517088052, colsample_bytree=0.8 will be ignored. Current value: feature_fraction=0.9471377517088052\n",
      "[LightGBM] [Warning] bagging_fraction is set=0.5991586009727979, subsample=0.9 will be ignored. Current value: bagging_fraction=0.5991586009727979\n",
      "[LightGBM] [Warning] bagging_freq is set=16, subsample_freq=0 will be ignored. Current value: bagging_freq=16\n",
      "Training until validation scores don't improve for 100 rounds\n",
      "[100]\ttraining's l1: 1.00144\tvalid_1's l1: 0.926096\n"
     ]
    },
    {
     "name": "stderr",
     "output_type": "stream",
     "text": [
      "\u001b[32m[I 2021-07-18 17:10:51,593]\u001b[0m Trial 73 finished with value: -0.9247521521259133 and parameters: {'max_depth': 10, 'min_child_weight': 4, 'subsample': 0.9, 'colsample_bytree': 0.8, 'reg_lambda': 0.0030321946484399885, 'reg_alpha': 1.7393901648481276, 'feature_fraction': 0.9471377517088052, 'bagging_fraction': 0.5991586009727979, 'bagging_freq': 16, 'num_leaves': 654, 'min_child_samples': 81}. Best is trial 73 with value: -0.9247521521259133.\u001b[0m\n"
     ]
    },
    {
     "name": "stdout",
     "output_type": "stream",
     "text": [
      "Early stopping, best iteration is:\n",
      "[64]\ttraining's l1: 1.00563\tvalid_1's l1: 0.924755\n",
      "[LightGBM] [Warning] feature_fraction is set=0.939821496107201, colsample_bytree=0.7 will be ignored. Current value: feature_fraction=0.939821496107201\n",
      "[LightGBM] [Warning] bagging_fraction is set=0.5624078156699963, subsample=0.9 will be ignored. Current value: bagging_fraction=0.5624078156699963\n",
      "[LightGBM] [Warning] bagging_freq is set=18, subsample_freq=0 will be ignored. Current value: bagging_freq=18\n",
      "Training until validation scores don't improve for 100 rounds\n",
      "[100]\ttraining's l1: 1.01939\tvalid_1's l1: 0.931661\n",
      "[200]\ttraining's l1: 1.01654\tvalid_1's l1: 0.929802\n"
     ]
    },
    {
     "name": "stderr",
     "output_type": "stream",
     "text": [
      "\u001b[32m[I 2021-07-18 17:10:58,779]\u001b[0m Trial 74 finished with value: -0.9296868495977177 and parameters: {'max_depth': 7, 'min_child_weight': 3, 'subsample': 0.9, 'colsample_bytree': 0.7, 'reg_lambda': 0.0030212833520205365, 'reg_alpha': 1.4983799912785245, 'feature_fraction': 0.939821496107201, 'bagging_fraction': 0.5624078156699963, 'bagging_freq': 18, 'num_leaves': 729, 'min_child_samples': 84}. Best is trial 73 with value: -0.9247521521259133.\u001b[0m\n"
     ]
    },
    {
     "name": "stdout",
     "output_type": "stream",
     "text": [
      "Early stopping, best iteration is:\n",
      "[138]\ttraining's l1: 1.01742\tvalid_1's l1: 0.929691\n",
      "[LightGBM] [Warning] feature_fraction is set=0.8694712635912352, colsample_bytree=0.8 will be ignored. Current value: feature_fraction=0.8694712635912352\n",
      "[LightGBM] [Warning] bagging_fraction is set=0.6732583608387777, subsample=0.9 will be ignored. Current value: bagging_fraction=0.6732583608387777\n",
      "[LightGBM] [Warning] bagging_freq is set=2, subsample_freq=0 will be ignored. Current value: bagging_freq=2\n",
      "Training until validation scores don't improve for 100 rounds\n",
      "[100]\ttraining's l1: 1.01141\tvalid_1's l1: 0.930654\n"
     ]
    },
    {
     "name": "stderr",
     "output_type": "stream",
     "text": [
      "\u001b[32m[I 2021-07-18 17:11:07,507]\u001b[0m Trial 75 finished with value: -0.9300543434663799 and parameters: {'max_depth': 8, 'min_child_weight': 4, 'subsample': 0.9, 'colsample_bytree': 0.8, 'reg_lambda': 0.0011566763834982045, 'reg_alpha': 0.8424271029949764, 'feature_fraction': 0.8694712635912352, 'bagging_fraction': 0.6732583608387777, 'bagging_freq': 2, 'num_leaves': 656, 'min_child_samples': 59}. Best is trial 73 with value: -0.9247521521259133.\u001b[0m\n"
     ]
    },
    {
     "name": "stdout",
     "output_type": "stream",
     "text": [
      "Early stopping, best iteration is:\n",
      "[86]\ttraining's l1: 1.01244\tvalid_1's l1: 0.930066\n",
      "[LightGBM] [Warning] feature_fraction is set=0.934288073053849, colsample_bytree=0.8 will be ignored. Current value: feature_fraction=0.934288073053849\n",
      "[LightGBM] [Warning] bagging_fraction is set=0.5292433319890139, subsample=0.9 will be ignored. Current value: bagging_fraction=0.5292433319890139\n",
      "[LightGBM] [Warning] bagging_freq is set=19, subsample_freq=0 will be ignored. Current value: bagging_freq=19\n",
      "Training until validation scores don't improve for 100 rounds\n",
      "[100]\ttraining's l1: 1.00485\tvalid_1's l1: 0.928442\n"
     ]
    },
    {
     "name": "stderr",
     "output_type": "stream",
     "text": [
      "\u001b[32m[I 2021-07-18 17:11:13,929]\u001b[0m Trial 76 finished with value: -0.9277314942407182 and parameters: {'max_depth': 9, 'min_child_weight': 5, 'subsample': 0.9, 'colsample_bytree': 0.8, 'reg_lambda': 0.004599295782409334, 'reg_alpha': 0.3792114062389864, 'feature_fraction': 0.934288073053849, 'bagging_fraction': 0.5292433319890139, 'bagging_freq': 19, 'num_leaves': 796, 'min_child_samples': 64}. Best is trial 73 with value: -0.9247521521259133.\u001b[0m\n"
     ]
    },
    {
     "name": "stdout",
     "output_type": "stream",
     "text": [
      "Early stopping, best iteration is:\n",
      "[43]\ttraining's l1: 1.01312\tvalid_1's l1: 0.927732\n",
      "[LightGBM] [Warning] feature_fraction is set=0.933588620992679, colsample_bytree=0.8 will be ignored. Current value: feature_fraction=0.933588620992679\n",
      "[LightGBM] [Warning] bagging_fraction is set=0.533248419198483, subsample=0.9 will be ignored. Current value: bagging_fraction=0.533248419198483\n",
      "[LightGBM] [Warning] bagging_freq is set=19, subsample_freq=0 will be ignored. Current value: bagging_freq=19\n",
      "Training until validation scores don't improve for 100 rounds\n",
      "[100]\ttraining's l1: 1.02525\tvalid_1's l1: 0.936315\n",
      "[200]\ttraining's l1: 1.02074\tvalid_1's l1: 0.930947\n",
      "[300]\ttraining's l1: 1.01647\tvalid_1's l1: 0.930116\n"
     ]
    },
    {
     "name": "stderr",
     "output_type": "stream",
     "text": [
      "\u001b[32m[I 2021-07-18 17:11:22,141]\u001b[0m Trial 77 finished with value: -0.9297248448505017 and parameters: {'max_depth': 6, 'min_child_weight': 5, 'subsample': 0.9, 'colsample_bytree': 0.8, 'reg_lambda': 0.0026587478809408003, 'reg_alpha': 0.3527161200781758, 'feature_fraction': 0.933588620992679, 'bagging_fraction': 0.533248419198483, 'bagging_freq': 19, 'num_leaves': 826, 'min_child_samples': 73}. Best is trial 73 with value: -0.9247521521259133.\u001b[0m\n"
     ]
    },
    {
     "name": "stdout",
     "output_type": "stream",
     "text": [
      "Early stopping, best iteration is:\n",
      "[241]\ttraining's l1: 1.01868\tvalid_1's l1: 0.92974\n",
      "[LightGBM] [Warning] feature_fraction is set=0.9760124874040321, colsample_bytree=0.8 will be ignored. Current value: feature_fraction=0.9760124874040321\n",
      "[LightGBM] [Warning] bagging_fraction is set=0.637187618824165, subsample=0.9 will be ignored. Current value: bagging_fraction=0.637187618824165\n",
      "[LightGBM] [Warning] bagging_freq is set=20, subsample_freq=0 will be ignored. Current value: bagging_freq=20\n",
      "Training until validation scores don't improve for 100 rounds\n",
      "[100]\ttraining's l1: 1.00737\tvalid_1's l1: 0.930542\n"
     ]
    },
    {
     "name": "stderr",
     "output_type": "stream",
     "text": [
      "\u001b[32m[I 2021-07-18 17:11:29,272]\u001b[0m Trial 78 finished with value: -0.9289213405418413 and parameters: {'max_depth': 9, 'min_child_weight': 4, 'subsample': 0.9, 'colsample_bytree': 0.8, 'reg_lambda': 0.00559476361877807, 'reg_alpha': 0.08287033980386034, 'feature_fraction': 0.9760124874040321, 'bagging_fraction': 0.637187618824165, 'bagging_freq': 20, 'num_leaves': 790, 'min_child_samples': 100}. Best is trial 73 with value: -0.9247521521259133.\u001b[0m\n"
     ]
    },
    {
     "name": "stdout",
     "output_type": "stream",
     "text": [
      "Early stopping, best iteration is:\n",
      "[52]\ttraining's l1: 1.01105\tvalid_1's l1: 0.928925\n",
      "[LightGBM] [Warning] feature_fraction is set=0.8343116009498768, colsample_bytree=0.8 will be ignored. Current value: feature_fraction=0.8343116009498768\n",
      "[LightGBM] [Warning] bagging_fraction is set=0.7541034073819413, subsample=0.9 will be ignored. Current value: bagging_fraction=0.7541034073819413\n",
      "[LightGBM] [Warning] bagging_freq is set=18, subsample_freq=0 will be ignored. Current value: bagging_freq=18\n",
      "Training until validation scores don't improve for 100 rounds\n",
      "[100]\ttraining's l1: 1.01402\tvalid_1's l1: 0.931084\n",
      "[200]\ttraining's l1: 1.01067\tvalid_1's l1: 0.929503\n"
     ]
    },
    {
     "name": "stderr",
     "output_type": "stream",
     "text": [
      "\u001b[32m[I 2021-07-18 17:11:38,093]\u001b[0m Trial 79 finished with value: -0.9290450636533417 and parameters: {'max_depth': 8, 'min_child_weight': 4, 'subsample': 0.9, 'colsample_bytree': 0.8, 'reg_lambda': 0.005237291067554881, 'reg_alpha': 0.2314644789133254, 'feature_fraction': 0.8343116009498768, 'bagging_fraction': 0.7541034073819413, 'bagging_freq': 18, 'num_leaves': 917, 'min_child_samples': 65}. Best is trial 73 with value: -0.9247521521259133.\u001b[0m\n"
     ]
    },
    {
     "name": "stdout",
     "output_type": "stream",
     "text": [
      "Early stopping, best iteration is:\n",
      "[131]\ttraining's l1: 1.01233\tvalid_1's l1: 0.929056\n",
      "[LightGBM] [Warning] feature_fraction is set=0.9379683974302738, colsample_bytree=0.8 will be ignored. Current value: feature_fraction=0.9379683974302738\n",
      "[LightGBM] [Warning] bagging_fraction is set=0.5927182126527427, subsample=0.9 will be ignored. Current value: bagging_fraction=0.5927182126527427\n",
      "[LightGBM] [Warning] bagging_freq is set=19, subsample_freq=0 will be ignored. Current value: bagging_freq=19\n",
      "Training until validation scores don't improve for 100 rounds\n",
      "[100]\ttraining's l1: 1.01781\tvalid_1's l1: 0.931822\n",
      "[200]\ttraining's l1: 1.01585\tvalid_1's l1: 0.930654\n",
      "[300]\ttraining's l1: 1.01246\tvalid_1's l1: 0.929708\n"
     ]
    },
    {
     "name": "stderr",
     "output_type": "stream",
     "text": [
      "\u001b[32m[I 2021-07-18 17:11:47,893]\u001b[0m Trial 80 finished with value: -0.9290612184185231 and parameters: {'max_depth': 7, 'min_child_weight': 3, 'subsample': 0.9, 'colsample_bytree': 0.8, 'reg_lambda': 0.01805288616474401, 'reg_alpha': 0.6177850453863496, 'feature_fraction': 0.9379683974302738, 'bagging_fraction': 0.5927182126527427, 'bagging_freq': 19, 'num_leaves': 697, 'min_child_samples': 70}. Best is trial 73 with value: -0.9247521521259133.\u001b[0m\n"
     ]
    },
    {
     "name": "stdout",
     "output_type": "stream",
     "text": [
      "Early stopping, best iteration is:\n",
      "[245]\ttraining's l1: 1.01406\tvalid_1's l1: 0.929096\n",
      "[LightGBM] [Warning] feature_fraction is set=0.9996167362117518, colsample_bytree=0.8 will be ignored. Current value: feature_fraction=0.9996167362117518\n",
      "[LightGBM] [Warning] bagging_fraction is set=0.5685879531914438, subsample=0.9 will be ignored. Current value: bagging_fraction=0.5685879531914438\n",
      "[LightGBM] [Warning] bagging_freq is set=17, subsample_freq=0 will be ignored. Current value: bagging_freq=17\n",
      "Training until validation scores don't improve for 100 rounds\n",
      "[100]\ttraining's l1: 1.00235\tvalid_1's l1: 0.93175\n"
     ]
    },
    {
     "name": "stderr",
     "output_type": "stream",
     "text": [
      "\u001b[32m[I 2021-07-18 17:11:55,475]\u001b[0m Trial 81 finished with value: -0.9310138761805512 and parameters: {'max_depth': 10, 'min_child_weight': 6, 'subsample': 0.9, 'colsample_bytree': 0.8, 'reg_lambda': 0.0018938603848066044, 'reg_alpha': 1.1814758948965765, 'feature_fraction': 0.9996167362117518, 'bagging_fraction': 0.5685879531914438, 'bagging_freq': 17, 'num_leaves': 731, 'min_child_samples': 63}. Best is trial 73 with value: -0.9247521521259133.\u001b[0m\n"
     ]
    },
    {
     "name": "stdout",
     "output_type": "stream",
     "text": [
      "Early stopping, best iteration is:\n",
      "[45]\ttraining's l1: 1.00729\tvalid_1's l1: 0.931015\n",
      "[LightGBM] [Warning] feature_fraction is set=0.8918877474699141, colsample_bytree=0.8 will be ignored. Current value: feature_fraction=0.8918877474699141\n",
      "[LightGBM] [Warning] bagging_fraction is set=0.4799134122154929, subsample=0.9 will be ignored. Current value: bagging_fraction=0.4799134122154929\n",
      "[LightGBM] [Warning] bagging_freq is set=15, subsample_freq=0 will be ignored. Current value: bagging_freq=15\n",
      "Training until validation scores don't improve for 100 rounds\n",
      "[100]\ttraining's l1: 1.00908\tvalid_1's l1: 0.930844\n",
      "[200]\ttraining's l1: 1.00433\tvalid_1's l1: 0.930216\n"
     ]
    },
    {
     "name": "stderr",
     "output_type": "stream",
     "text": [
      "\u001b[32m[I 2021-07-18 17:12:03,396]\u001b[0m Trial 82 finished with value: -0.9297515394865338 and parameters: {'max_depth': 9, 'min_child_weight': 5, 'subsample': 0.9, 'colsample_bytree': 0.8, 'reg_lambda': 0.03064111124382866, 'reg_alpha': 0.4011818367174807, 'feature_fraction': 0.8918877474699141, 'bagging_fraction': 0.4799134122154929, 'bagging_freq': 15, 'num_leaves': 616, 'min_child_samples': 67}. Best is trial 73 with value: -0.9247521521259133.\u001b[0m\n"
     ]
    },
    {
     "name": "stdout",
     "output_type": "stream",
     "text": [
      "Early stopping, best iteration is:\n",
      "[125]\ttraining's l1: 1.0071\tvalid_1's l1: 0.929765\n",
      "[LightGBM] [Warning] feature_fraction is set=0.8558263128360921, colsample_bytree=0.8 will be ignored. Current value: feature_fraction=0.8558263128360921\n",
      "[LightGBM] [Warning] bagging_fraction is set=0.5259412685915674, subsample=0.8 will be ignored. Current value: bagging_fraction=0.5259412685915674\n",
      "[LightGBM] [Warning] bagging_freq is set=18, subsample_freq=0 will be ignored. Current value: bagging_freq=18\n",
      "Training until validation scores don't improve for 100 rounds\n",
      "[100]\ttraining's l1: 0.998351\tvalid_1's l1: 0.932711\n"
     ]
    },
    {
     "name": "stderr",
     "output_type": "stream",
     "text": [
      "\u001b[32m[I 2021-07-18 17:12:10,106]\u001b[0m Trial 83 finished with value: -0.9306356413409066 and parameters: {'max_depth': 11, 'min_child_weight': 9, 'subsample': 0.8, 'colsample_bytree': 0.8, 'reg_lambda': 0.004357273576625367, 'reg_alpha': 0.13476409974248688, 'feature_fraction': 0.8558263128360921, 'bagging_fraction': 0.5259412685915674, 'bagging_freq': 18, 'num_leaves': 688, 'min_child_samples': 93}. Best is trial 73 with value: -0.9247521521259133.\u001b[0m\n"
     ]
    },
    {
     "name": "stdout",
     "output_type": "stream",
     "text": [
      "Early stopping, best iteration is:\n",
      "[30]\ttraining's l1: 1.00934\tvalid_1's l1: 0.930637\n",
      "[LightGBM] [Warning] feature_fraction is set=0.9204659429848026, colsample_bytree=0.7 will be ignored. Current value: feature_fraction=0.9204659429848026\n",
      "[LightGBM] [Warning] bagging_fraction is set=0.6013965927182141, subsample=0.7 will be ignored. Current value: bagging_fraction=0.6013965927182141\n",
      "[LightGBM] [Warning] bagging_freq is set=20, subsample_freq=0 will be ignored. Current value: bagging_freq=20\n",
      "Training until validation scores don't improve for 100 rounds\n",
      "[100]\ttraining's l1: 1.00068\tvalid_1's l1: 0.927687\n"
     ]
    },
    {
     "name": "stderr",
     "output_type": "stream",
     "text": [
      "\u001b[32m[I 2021-07-18 17:12:19,081]\u001b[0m Trial 84 finished with value: -0.9267923770843248 and parameters: {'max_depth': 10, 'min_child_weight': 7, 'subsample': 0.7, 'colsample_bytree': 0.7, 'reg_lambda': 0.04765615369406693, 'reg_alpha': 2.151778133904793, 'feature_fraction': 0.9204659429848026, 'bagging_fraction': 0.6013965927182141, 'bagging_freq': 20, 'num_leaves': 658, 'min_child_samples': 61}. Best is trial 73 with value: -0.9247521521259133.\u001b[0m\n"
     ]
    },
    {
     "name": "stdout",
     "output_type": "stream",
     "text": [
      "Early stopping, best iteration is:\n",
      "[90]\ttraining's l1: 1.00169\tvalid_1's l1: 0.926807\n",
      "[LightGBM] [Warning] feature_fraction is set=0.9491448293030442, colsample_bytree=0.7 will be ignored. Current value: feature_fraction=0.9491448293030442\n",
      "[LightGBM] [Warning] bagging_fraction is set=0.6986926696358023, subsample=0.9 will be ignored. Current value: bagging_fraction=0.6986926696358023\n",
      "[LightGBM] [Warning] bagging_freq is set=20, subsample_freq=0 will be ignored. Current value: bagging_freq=20\n",
      "Training until validation scores don't improve for 100 rounds\n",
      "[100]\ttraining's l1: 1.00628\tvalid_1's l1: 0.931468\n"
     ]
    },
    {
     "name": "stderr",
     "output_type": "stream",
     "text": [
      "\u001b[32m[I 2021-07-18 17:12:27,138]\u001b[0m Trial 85 finished with value: -0.9303590441919304 and parameters: {'max_depth': 9, 'min_child_weight': 6, 'subsample': 0.9, 'colsample_bytree': 0.7, 'reg_lambda': 0.010955083318220838, 'reg_alpha': 1.9802956952171369, 'feature_fraction': 0.9491448293030442, 'bagging_fraction': 0.6986926696358023, 'bagging_freq': 20, 'num_leaves': 643, 'min_child_samples': 61}. Best is trial 73 with value: -0.9247521521259133.\u001b[0m\n"
     ]
    },
    {
     "name": "stdout",
     "output_type": "stream",
     "text": [
      "Early stopping, best iteration is:\n",
      "[66]\ttraining's l1: 1.00837\tvalid_1's l1: 0.930362\n",
      "[LightGBM] [Warning] feature_fraction is set=0.9167727599747595, colsample_bytree=0.7 will be ignored. Current value: feature_fraction=0.9167727599747595\n",
      "[LightGBM] [Warning] bagging_fraction is set=0.6017026654559829, subsample=0.8 will be ignored. Current value: bagging_fraction=0.6017026654559829\n",
      "[LightGBM] [Warning] bagging_freq is set=20, subsample_freq=0 will be ignored. Current value: bagging_freq=20\n",
      "Training until validation scores don't improve for 100 rounds\n",
      "[100]\ttraining's l1: 0.989088\tvalid_1's l1: 0.937185\n"
     ]
    },
    {
     "name": "stderr",
     "output_type": "stream",
     "text": [
      "\u001b[32m[I 2021-07-18 17:12:35,871]\u001b[0m Trial 86 finished with value: -0.9316857090757918 and parameters: {'max_depth': 12, 'min_child_weight': 5, 'subsample': 0.8, 'colsample_bytree': 0.7, 'reg_lambda': 0.0011404104132588977, 'reg_alpha': 3.303478391895537, 'feature_fraction': 0.9167727599747595, 'bagging_fraction': 0.6017026654559829, 'bagging_freq': 20, 'num_leaves': 671, 'min_child_samples': 6}. Best is trial 73 with value: -0.9247521521259133.\u001b[0m\n"
     ]
    },
    {
     "name": "stdout",
     "output_type": "stream",
     "text": [
      "Early stopping, best iteration is:\n",
      "[29]\ttraining's l1: 1.0068\tvalid_1's l1: 0.931687\n",
      "[LightGBM] [Warning] feature_fraction is set=0.8970561273764119, colsample_bytree=0.7 will be ignored. Current value: feature_fraction=0.8970561273764119\n",
      "[LightGBM] [Warning] bagging_fraction is set=0.6538264863005668, subsample=0.7 will be ignored. Current value: bagging_fraction=0.6538264863005668\n",
      "[LightGBM] [Warning] bagging_freq is set=19, subsample_freq=0 will be ignored. Current value: bagging_freq=19\n",
      "Training until validation scores don't improve for 100 rounds\n",
      "[100]\ttraining's l1: 1.00087\tvalid_1's l1: 0.931299\n"
     ]
    },
    {
     "name": "stderr",
     "output_type": "stream",
     "text": [
      "\u001b[32m[I 2021-07-18 17:12:43,353]\u001b[0m Trial 87 finished with value: -0.9297931828815992 and parameters: {'max_depth': 10, 'min_child_weight': 7, 'subsample': 0.7, 'colsample_bytree': 0.7, 'reg_lambda': 0.023384758438694024, 'reg_alpha': 0.2296035790788114, 'feature_fraction': 0.8970561273764119, 'bagging_fraction': 0.6538264863005668, 'bagging_freq': 19, 'num_leaves': 775, 'min_child_samples': 73}. Best is trial 73 with value: -0.9247521521259133.\u001b[0m\n"
     ]
    },
    {
     "name": "stdout",
     "output_type": "stream",
     "text": [
      "Early stopping, best iteration is:\n",
      "[43]\ttraining's l1: 1.00747\tvalid_1's l1: 0.929794\n",
      "[LightGBM] [Warning] feature_fraction is set=0.8676206310733314, colsample_bytree=0.7 will be ignored. Current value: feature_fraction=0.8676206310733314\n",
      "[LightGBM] [Warning] bagging_fraction is set=0.621094960725629, subsample=0.7 will be ignored. Current value: bagging_fraction=0.621094960725629\n",
      "[LightGBM] [Warning] bagging_freq is set=16, subsample_freq=0 will be ignored. Current value: bagging_freq=16\n",
      "Training until validation scores don't improve for 100 rounds\n",
      "[100]\ttraining's l1: 0.992775\tvalid_1's l1: 0.930711\n"
     ]
    },
    {
     "name": "stderr",
     "output_type": "stream",
     "text": [
      "\u001b[32m[I 2021-07-18 17:12:52,206]\u001b[0m Trial 88 finished with value: -0.9278301895314838 and parameters: {'max_depth': 11, 'min_child_weight': 3, 'subsample': 0.7, 'colsample_bytree': 0.7, 'reg_lambda': 0.050912425493515656, 'reg_alpha': 0.04609165320526432, 'feature_fraction': 0.8676206310733314, 'bagging_fraction': 0.621094960725629, 'bagging_freq': 16, 'num_leaves': 808, 'min_child_samples': 58}. Best is trial 73 with value: -0.9247521521259133.\u001b[0m\n"
     ]
    },
    {
     "name": "stdout",
     "output_type": "stream",
     "text": [
      "Early stopping, best iteration is:\n",
      "[53]\ttraining's l1: 0.999596\tvalid_1's l1: 0.927847\n",
      "[LightGBM] [Warning] feature_fraction is set=0.9663708469741836, colsample_bytree=0.7 will be ignored. Current value: feature_fraction=0.9663708469741836\n",
      "[LightGBM] [Warning] bagging_fraction is set=0.5478693911772908, subsample=0.9 will be ignored. Current value: bagging_fraction=0.5478693911772908\n",
      "[LightGBM] [Warning] bagging_freq is set=14, subsample_freq=0 will be ignored. Current value: bagging_freq=14\n",
      "Training until validation scores don't improve for 100 rounds\n",
      "[100]\ttraining's l1: 1.01227\tvalid_1's l1: 0.930267\n",
      "[200]\ttraining's l1: 1.00976\tvalid_1's l1: 0.931544\n"
     ]
    },
    {
     "name": "stderr",
     "output_type": "stream",
     "text": [
      "\u001b[32m[I 2021-07-18 17:12:59,728]\u001b[0m Trial 89 finished with value: -0.9300162065783127 and parameters: {'max_depth': 8, 'min_child_weight': 7, 'subsample': 0.9, 'colsample_bytree': 0.7, 'reg_lambda': 0.014200696552265003, 'reg_alpha': 6.786068304218644, 'feature_fraction': 0.9663708469741836, 'bagging_fraction': 0.5478693911772908, 'bagging_freq': 14, 'num_leaves': 741, 'min_child_samples': 63}. Best is trial 73 with value: -0.9247521521259133.\u001b[0m\n"
     ]
    },
    {
     "name": "stdout",
     "output_type": "stream",
     "text": [
      "Early stopping, best iteration is:\n",
      "[112]\ttraining's l1: 1.01196\tvalid_1's l1: 0.930021\n",
      "[LightGBM] [Warning] feature_fraction is set=0.923917780278588, colsample_bytree=0.7 will be ignored. Current value: feature_fraction=0.923917780278588\n",
      "[LightGBM] [Warning] bagging_fraction is set=0.5758608368710982, subsample=0.6 will be ignored. Current value: bagging_fraction=0.5758608368710982\n",
      "[LightGBM] [Warning] bagging_freq is set=17, subsample_freq=0 will be ignored. Current value: bagging_freq=17\n",
      "Training until validation scores don't improve for 100 rounds\n",
      "[100]\ttraining's l1: 1.00193\tvalid_1's l1: 0.929339\n"
     ]
    },
    {
     "name": "stderr",
     "output_type": "stream",
     "text": [
      "\u001b[32m[I 2021-07-18 17:13:07,163]\u001b[0m Trial 90 finished with value: -0.9280543445116304 and parameters: {'max_depth': 10, 'min_child_weight': 4, 'subsample': 0.6, 'colsample_bytree': 0.7, 'reg_lambda': 0.16303473129325705, 'reg_alpha': 0.775238261070467, 'feature_fraction': 0.923917780278588, 'bagging_fraction': 0.5758608368710982, 'bagging_freq': 17, 'num_leaves': 600, 'min_child_samples': 66}. Best is trial 73 with value: -0.9247521521259133.\u001b[0m\n"
     ]
    },
    {
     "name": "stdout",
     "output_type": "stream",
     "text": [
      "Early stopping, best iteration is:\n",
      "[53]\ttraining's l1: 1.00761\tvalid_1's l1: 0.928066\n",
      "[LightGBM] [Warning] feature_fraction is set=0.635857652503387, colsample_bytree=0.8 will be ignored. Current value: feature_fraction=0.635857652503387\n",
      "[LightGBM] [Warning] bagging_fraction is set=0.5156192165978505, subsample=0.7 will be ignored. Current value: bagging_fraction=0.5156192165978505\n",
      "[LightGBM] [Warning] bagging_freq is set=20, subsample_freq=0 will be ignored. Current value: bagging_freq=20\n",
      "Training until validation scores don't improve for 100 rounds\n",
      "[100]\ttraining's l1: 1.00407\tvalid_1's l1: 0.927135\n"
     ]
    },
    {
     "name": "stderr",
     "output_type": "stream",
     "text": [
      "\u001b[32m[I 2021-07-18 17:13:13,961]\u001b[0m Trial 91 finished with value: -0.9263445005310444 and parameters: {'max_depth': 9, 'min_child_weight': 9, 'subsample': 0.7, 'colsample_bytree': 0.8, 'reg_lambda': 0.06814765033919874, 'reg_alpha': 1.9291230666201071, 'feature_fraction': 0.635857652503387, 'bagging_fraction': 0.5156192165978505, 'bagging_freq': 20, 'num_leaves': 549, 'min_child_samples': 54}. Best is trial 73 with value: -0.9247521521259133.\u001b[0m\n"
     ]
    },
    {
     "name": "stdout",
     "output_type": "stream",
     "text": [
      "Early stopping, best iteration is:\n",
      "[88]\ttraining's l1: 1.00489\tvalid_1's l1: 0.92635\n",
      "[LightGBM] [Warning] feature_fraction is set=0.6230551153358971, colsample_bytree=0.8 will be ignored. Current value: feature_fraction=0.6230551153358971\n",
      "[LightGBM] [Warning] bagging_fraction is set=0.42779557976362415, subsample=0.7 will be ignored. Current value: bagging_fraction=0.42779557976362415\n",
      "[LightGBM] [Warning] bagging_freq is set=19, subsample_freq=0 will be ignored. Current value: bagging_freq=19\n",
      "Training until validation scores don't improve for 100 rounds\n",
      "[100]\ttraining's l1: 1.00622\tvalid_1's l1: 0.930754\n"
     ]
    },
    {
     "name": "stderr",
     "output_type": "stream",
     "text": [
      "\u001b[32m[I 2021-07-18 17:13:20,069]\u001b[0m Trial 92 finished with value: -0.930571771246458 and parameters: {'max_depth': 9, 'min_child_weight': 9, 'subsample': 0.7, 'colsample_bytree': 0.8, 'reg_lambda': 0.06301735470728213, 'reg_alpha': 2.1443598741400085, 'feature_fraction': 0.6230551153358971, 'bagging_fraction': 0.42779557976362415, 'bagging_freq': 19, 'num_leaves': 552, 'min_child_samples': 60}. Best is trial 73 with value: -0.9247521521259133.\u001b[0m\n"
     ]
    },
    {
     "name": "stdout",
     "output_type": "stream",
     "text": [
      "Early stopping, best iteration is:\n",
      "[83]\ttraining's l1: 1.00748\tvalid_1's l1: 0.930593\n",
      "[LightGBM] [Warning] feature_fraction is set=0.987007023358007, colsample_bytree=0.8 will be ignored. Current value: feature_fraction=0.987007023358007\n",
      "[LightGBM] [Warning] bagging_fraction is set=0.5181692411017687, subsample=0.7 will be ignored. Current value: bagging_fraction=0.5181692411017687\n",
      "[LightGBM] [Warning] bagging_freq is set=20, subsample_freq=0 will be ignored. Current value: bagging_freq=20\n",
      "Training until validation scores don't improve for 100 rounds\n",
      "[100]\ttraining's l1: 1.01173\tvalid_1's l1: 0.930883\n"
     ]
    },
    {
     "name": "stderr",
     "output_type": "stream",
     "text": [
      "\u001b[32m[I 2021-07-18 17:13:26,457]\u001b[0m Trial 93 finished with value: -0.9299152927814187 and parameters: {'max_depth': 8, 'min_child_weight': 8, 'subsample': 0.7, 'colsample_bytree': 0.8, 'reg_lambda': 0.04009889698925023, 'reg_alpha': 0.5149044802654082, 'feature_fraction': 0.987007023358007, 'bagging_fraction': 0.5181692411017687, 'bagging_freq': 20, 'num_leaves': 627, 'min_child_samples': 49}. Best is trial 73 with value: -0.9247521521259133.\u001b[0m\n"
     ]
    },
    {
     "name": "stdout",
     "output_type": "stream",
     "text": [
      "Early stopping, best iteration is:\n",
      "[75]\ttraining's l1: 1.014\tvalid_1's l1: 0.929921\n",
      "[LightGBM] [Warning] feature_fraction is set=0.797505482090942, colsample_bytree=0.8 will be ignored. Current value: feature_fraction=0.797505482090942\n",
      "[LightGBM] [Warning] bagging_fraction is set=0.4692994407169787, subsample=0.7 will be ignored. Current value: bagging_fraction=0.4692994407169787\n",
      "[LightGBM] [Warning] bagging_freq is set=18, subsample_freq=0 will be ignored. Current value: bagging_freq=18\n",
      "Training until validation scores don't improve for 100 rounds\n",
      "[100]\ttraining's l1: 1.00696\tvalid_1's l1: 0.929216\n",
      "[200]\ttraining's l1: 1.00091\tvalid_1's l1: 0.929621\n"
     ]
    },
    {
     "name": "stderr",
     "output_type": "stream",
     "text": [
      "\u001b[32m[I 2021-07-18 17:13:34,724]\u001b[0m Trial 94 finished with value: -0.9275877545294786 and parameters: {'max_depth': 9, 'min_child_weight': 11, 'subsample': 0.7, 'colsample_bytree': 0.8, 'reg_lambda': 0.025700481629375112, 'reg_alpha': 1.2161621987998477, 'feature_fraction': 0.797505482090942, 'bagging_fraction': 0.4692994407169787, 'bagging_freq': 18, 'num_leaves': 585, 'min_child_samples': 53}. Best is trial 73 with value: -0.9247521521259133.\u001b[0m\n"
     ]
    },
    {
     "name": "stdout",
     "output_type": "stream",
     "text": [
      "Early stopping, best iteration is:\n",
      "[146]\ttraining's l1: 1.00325\tvalid_1's l1: 0.927601\n",
      "[LightGBM] [Warning] feature_fraction is set=0.7430086307967625, colsample_bytree=0.8 will be ignored. Current value: feature_fraction=0.7430086307967625\n",
      "[LightGBM] [Warning] bagging_fraction is set=0.38033820525577877, subsample=0.7 will be ignored. Current value: bagging_fraction=0.38033820525577877\n",
      "[LightGBM] [Warning] bagging_freq is set=19, subsample_freq=0 will be ignored. Current value: bagging_freq=19\n",
      "Training until validation scores don't improve for 100 rounds\n",
      "[100]\ttraining's l1: 1.01873\tvalid_1's l1: 0.930969\n",
      "[200]\ttraining's l1: 1.01062\tvalid_1's l1: 0.926669\n"
     ]
    },
    {
     "name": "stderr",
     "output_type": "stream",
     "text": [
      "\u001b[32m[I 2021-07-18 17:13:40,879]\u001b[0m Trial 95 finished with value: -0.9264779860742857 and parameters: {'max_depth': 7, 'min_child_weight': 11, 'subsample': 0.7, 'colsample_bytree': 0.8, 'reg_lambda': 0.25055751667150444, 'reg_alpha': 0.06952734712893169, 'feature_fraction': 0.7430086307967625, 'bagging_fraction': 0.38033820525577877, 'bagging_freq': 19, 'num_leaves': 584, 'min_child_samples': 54}. Best is trial 73 with value: -0.9247521521259133.\u001b[0m\n"
     ]
    },
    {
     "name": "stdout",
     "output_type": "stream",
     "text": [
      "Early stopping, best iteration is:\n",
      "[170]\ttraining's l1: 1.01249\tvalid_1's l1: 0.926496\n",
      "[LightGBM] [Warning] feature_fraction is set=0.7600774464956267, colsample_bytree=0.8 will be ignored. Current value: feature_fraction=0.7600774464956267\n",
      "[LightGBM] [Warning] bagging_fraction is set=0.3397721301570271, subsample=0.7 will be ignored. Current value: bagging_fraction=0.3397721301570271\n",
      "[LightGBM] [Warning] bagging_freq is set=20, subsample_freq=0 will be ignored. Current value: bagging_freq=20\n",
      "Training until validation scores don't improve for 100 rounds\n",
      "[100]\ttraining's l1: 1.02325\tvalid_1's l1: 0.933144\n",
      "[200]\ttraining's l1: 1.01706\tvalid_1's l1: 0.929753\n"
     ]
    },
    {
     "name": "stderr",
     "output_type": "stream",
     "text": [
      "\u001b[32m[I 2021-07-18 17:13:46,480]\u001b[0m Trial 96 finished with value: -0.9295999094728495 and parameters: {'max_depth': 7, 'min_child_weight': 12, 'subsample': 0.7, 'colsample_bytree': 0.8, 'reg_lambda': 0.28254749732644735, 'reg_alpha': 0.021295460784598264, 'feature_fraction': 0.7600774464956267, 'bagging_fraction': 0.3397721301570271, 'bagging_freq': 20, 'num_leaves': 67, 'min_child_samples': 54}. Best is trial 73 with value: -0.9247521521259133.\u001b[0m\n"
     ]
    },
    {
     "name": "stdout",
     "output_type": "stream",
     "text": [
      "Early stopping, best iteration is:\n",
      "[159]\ttraining's l1: 1.0182\tvalid_1's l1: 0.929616\n",
      "[LightGBM] [Warning] feature_fraction is set=0.7336433080331116, colsample_bytree=0.8 will be ignored. Current value: feature_fraction=0.7336433080331116\n",
      "[LightGBM] [Warning] bagging_fraction is set=0.26384496287473574, subsample=0.7 will be ignored. Current value: bagging_fraction=0.26384496287473574\n",
      "[LightGBM] [Warning] bagging_freq is set=18, subsample_freq=0 will be ignored. Current value: bagging_freq=18\n",
      "Training until validation scores don't improve for 100 rounds\n",
      "[100]\ttraining's l1: 1.02282\tvalid_1's l1: 0.932096\n",
      "[200]\ttraining's l1: 1.02017\tvalid_1's l1: 0.929823\n"
     ]
    },
    {
     "name": "stderr",
     "output_type": "stream",
     "text": [
      "\u001b[32m[I 2021-07-18 17:13:51,347]\u001b[0m Trial 97 finished with value: -0.9297964107335346 and parameters: {'max_depth': 6, 'min_child_weight': 10, 'subsample': 0.7, 'colsample_bytree': 0.8, 'reg_lambda': 0.1290412798081443, 'reg_alpha': 1.2353973024895077, 'feature_fraction': 0.7336433080331116, 'bagging_fraction': 0.26384496287473574, 'bagging_freq': 18, 'num_leaves': 570, 'min_child_samples': 51}. Best is trial 73 with value: -0.9247521521259133.\u001b[0m\n"
     ]
    },
    {
     "name": "stdout",
     "output_type": "stream",
     "text": [
      "Early stopping, best iteration is:\n",
      "[186]\ttraining's l1: 1.02018\tvalid_1's l1: 0.929815\n",
      "[LightGBM] [Warning] feature_fraction is set=0.7785850261936159, colsample_bytree=0.9 will be ignored. Current value: feature_fraction=0.7785850261936159\n",
      "[LightGBM] [Warning] bagging_fraction is set=0.49557369995662565, subsample=0.7 will be ignored. Current value: bagging_fraction=0.49557369995662565\n",
      "[LightGBM] [Warning] bagging_freq is set=19, subsample_freq=0 will be ignored. Current value: bagging_freq=19\n",
      "Training until validation scores don't improve for 100 rounds\n",
      "[100]\ttraining's l1: 0.996193\tvalid_1's l1: 0.932709\n"
     ]
    },
    {
     "name": "stderr",
     "output_type": "stream",
     "text": [
      "\u001b[32m[I 2021-07-18 17:13:58,563]\u001b[0m Trial 98 finished with value: -0.9291523528743628 and parameters: {'max_depth': 11, 'min_child_weight': 11, 'subsample': 0.7, 'colsample_bytree': 0.9, 'reg_lambda': 0.24657579872090504, 'reg_alpha': 2.3098405945552103, 'feature_fraction': 0.7785850261936159, 'bagging_fraction': 0.49557369995662565, 'bagging_freq': 19, 'num_leaves': 589, 'min_child_samples': 57}. Best is trial 73 with value: -0.9247521521259133.\u001b[0m\n"
     ]
    },
    {
     "name": "stdout",
     "output_type": "stream",
     "text": [
      "Early stopping, best iteration is:\n",
      "[46]\ttraining's l1: 1.00482\tvalid_1's l1: 0.92916\n",
      "[LightGBM] [Warning] feature_fraction is set=0.8034568099561077, colsample_bytree=0.8 will be ignored. Current value: feature_fraction=0.8034568099561077\n",
      "[LightGBM] [Warning] bagging_fraction is set=0.39150234373911885, subsample=0.7 will be ignored. Current value: bagging_fraction=0.39150234373911885\n",
      "[LightGBM] [Warning] bagging_freq is set=17, subsample_freq=0 will be ignored. Current value: bagging_freq=17\n",
      "Training until validation scores don't improve for 100 rounds\n",
      "[100]\ttraining's l1: 1.03018\tvalid_1's l1: 0.93772\n",
      "[200]\ttraining's l1: 1.02526\tvalid_1's l1: 0.934277\n",
      "[300]\ttraining's l1: 1.02165\tvalid_1's l1: 0.932863\n"
     ]
    },
    {
     "name": "stderr",
     "output_type": "stream",
     "text": [
      "\u001b[32m[I 2021-07-18 17:14:05,589]\u001b[0m Trial 99 finished with value: -0.9328362077399129 and parameters: {'max_depth': 5, 'min_child_weight': 11, 'subsample': 0.7, 'colsample_bytree': 0.8, 'reg_lambda': 0.08735820045886775, 'reg_alpha': 0.06443252295043868, 'feature_fraction': 0.8034568099561077, 'bagging_fraction': 0.39150234373911885, 'bagging_freq': 17, 'num_leaves': 541, 'min_child_samples': 47}. Best is trial 73 with value: -0.9247521521259133.\u001b[0m\n",
      "\u001b[32m[I 2021-07-18 17:14:05,591]\u001b[0m A new study created in memory with name: no-name-169657c4-a5dd-49c6-9255-d16fa470f9c4\u001b[0m\n"
     ]
    },
    {
     "name": "stdout",
     "output_type": "stream",
     "text": [
      "[400]\ttraining's l1: 1.02154\tvalid_1's l1: 0.932927\n",
      "Early stopping, best iteration is:\n",
      "[300]\ttraining's l1: 1.02165\tvalid_1's l1: 0.932863\n",
      "[LightGBM] [Warning] feature_fraction is set=0.8272358443580037, colsample_bytree=0.9 will be ignored. Current value: feature_fraction=0.8272358443580037\n",
      "[LightGBM] [Warning] bagging_fraction is set=0.928702163831185, subsample=0.7 will be ignored. Current value: bagging_fraction=0.928702163831185\n",
      "[LightGBM] [Warning] bagging_freq is set=16, subsample_freq=0 will be ignored. Current value: bagging_freq=16\n",
      "Training until validation scores don't improve for 100 rounds\n",
      "[100]\ttraining's l1: 1.11268\tvalid_1's l1: 1.68954\n",
      "[200]\ttraining's l1: 1.10267\tvalid_1's l1: 1.67232\n",
      "[300]\ttraining's l1: 1.10023\tvalid_1's l1: 1.67016\n",
      "[400]\ttraining's l1: 1.09599\tvalid_1's l1: 1.66303\n",
      "[500]\ttraining's l1: 1.0935\tvalid_1's l1: 1.65921\n",
      "[600]\ttraining's l1: 1.09176\tvalid_1's l1: 1.65684\n",
      "[700]\ttraining's l1: 1.09099\tvalid_1's l1: 1.65578\n",
      "[800]\ttraining's l1: 1.08986\tvalid_1's l1: 1.65275\n",
      "[900]\ttraining's l1: 1.08765\tvalid_1's l1: 1.65096\n",
      "[1000]\ttraining's l1: 1.08697\tvalid_1's l1: 1.65017\n"
     ]
    },
    {
     "name": "stderr",
     "output_type": "stream",
     "text": [
      "\u001b[32m[I 2021-07-18 17:14:28,848]\u001b[0m Trial 0 finished with value: -1.6492273908775767 and parameters: {'max_depth': 2, 'min_child_weight': 8, 'subsample': 0.7, 'colsample_bytree': 0.9, 'reg_lambda': 3.768107197925822, 'reg_alpha': 19.677740289753757, 'feature_fraction': 0.8272358443580037, 'bagging_fraction': 0.928702163831185, 'bagging_freq': 16, 'num_leaves': 593, 'min_child_samples': 88}. Best is trial 0 with value: -1.6492273908775767.\u001b[0m\n"
     ]
    },
    {
     "name": "stdout",
     "output_type": "stream",
     "text": [
      "Early stopping, best iteration is:\n",
      "[947]\ttraining's l1: 1.08731\tvalid_1's l1: 1.64983\n",
      "[LightGBM] [Warning] feature_fraction is set=0.5190219386121964, colsample_bytree=0.8 will be ignored. Current value: feature_fraction=0.5190219386121964\n",
      "[LightGBM] [Warning] bagging_fraction is set=0.58436581448877, subsample=0.7 will be ignored. Current value: bagging_fraction=0.58436581448877\n",
      "[LightGBM] [Warning] bagging_freq is set=13, subsample_freq=0 will be ignored. Current value: bagging_freq=13\n",
      "Training until validation scores don't improve for 100 rounds\n",
      "[100]\ttraining's l1: 1.11416\tvalid_1's l1: 1.6906\n",
      "[200]\ttraining's l1: 1.0891\tvalid_1's l1: 1.65254\n",
      "[300]\ttraining's l1: 1.07096\tvalid_1's l1: 1.63341\n",
      "[400]\ttraining's l1: 1.06227\tvalid_1's l1: 1.62442\n",
      "[500]\ttraining's l1: 1.05387\tvalid_1's l1: 1.61883\n",
      "[600]\ttraining's l1: 1.04921\tvalid_1's l1: 1.61431\n",
      "[700]\ttraining's l1: 1.0451\tvalid_1's l1: 1.61276\n",
      "[800]\ttraining's l1: 1.04135\tvalid_1's l1: 1.61019\n",
      "[900]\ttraining's l1: 1.03683\tvalid_1's l1: 1.60498\n",
      "[1000]\ttraining's l1: 1.03137\tvalid_1's l1: 1.60018\n",
      "[1100]\ttraining's l1: 1.02773\tvalid_1's l1: 1.59657\n",
      "[1200]\ttraining's l1: 1.02424\tvalid_1's l1: 1.59609\n",
      "[1300]\ttraining's l1: 1.02206\tvalid_1's l1: 1.59651\n",
      "[1400]\ttraining's l1: 1.01909\tvalid_1's l1: 1.59599\n",
      "[1500]\ttraining's l1: 1.01676\tvalid_1's l1: 1.59471\n"
     ]
    },
    {
     "name": "stderr",
     "output_type": "stream",
     "text": [
      "\u001b[32m[I 2021-07-18 17:15:03,859]\u001b[0m Trial 1 finished with value: -1.5895324664745394 and parameters: {'max_depth': 2, 'min_child_weight': 3, 'subsample': 0.7, 'colsample_bytree': 0.8, 'reg_lambda': 0.002569996359152229, 'reg_alpha': 0.12897573843211746, 'feature_fraction': 0.5190219386121964, 'bagging_fraction': 0.58436581448877, 'bagging_freq': 13, 'num_leaves': 108, 'min_child_samples': 75}. Best is trial 1 with value: -1.5895324664745394.\u001b[0m\n"
     ]
    },
    {
     "name": "stdout",
     "output_type": "stream",
     "text": [
      "Early stopping, best iteration is:\n",
      "[1432]\ttraining's l1: 1.0177\tvalid_1's l1: 1.5942\n",
      "[LightGBM] [Warning] feature_fraction is set=0.45105912373925233, colsample_bytree=0.8 will be ignored. Current value: feature_fraction=0.45105912373925233\n",
      "[LightGBM] [Warning] bagging_fraction is set=0.8699687072049209, subsample=0.9 will be ignored. Current value: bagging_fraction=0.8699687072049209\n",
      "[LightGBM] [Warning] bagging_freq is set=7, subsample_freq=0 will be ignored. Current value: bagging_freq=7\n",
      "Training until validation scores don't improve for 100 rounds\n",
      "[100]\ttraining's l1: 0.766365\tvalid_1's l1: 1.56077\n"
     ]
    },
    {
     "name": "stderr",
     "output_type": "stream",
     "text": [
      "\u001b[32m[I 2021-07-18 17:15:18,923]\u001b[0m Trial 2 finished with value: -1.559823587107013 and parameters: {'max_depth': 19, 'min_child_weight': 2, 'subsample': 0.9, 'colsample_bytree': 0.8, 'reg_lambda': 0.0176920148959998, 'reg_alpha': 1.6548474378931561, 'feature_fraction': 0.45105912373925233, 'bagging_fraction': 0.8699687072049209, 'bagging_freq': 7, 'num_leaves': 887, 'min_child_samples': 12}. Best is trial 2 with value: -1.559823587107013.\u001b[0m\n"
     ]
    },
    {
     "name": "stdout",
     "output_type": "stream",
     "text": [
      "Early stopping, best iteration is:\n",
      "[50]\ttraining's l1: 0.82479\tvalid_1's l1: 1.55988\n",
      "[LightGBM] [Warning] feature_fraction is set=0.44335474218524173, colsample_bytree=0.8 will be ignored. Current value: feature_fraction=0.44335474218524173\n",
      "[LightGBM] [Warning] bagging_fraction is set=0.20227661264838526, subsample=0.6 will be ignored. Current value: bagging_fraction=0.20227661264838526\n",
      "[LightGBM] [Warning] bagging_freq is set=8, subsample_freq=0 will be ignored. Current value: bagging_freq=8\n",
      "Training until validation scores don't improve for 100 rounds\n",
      "[100]\ttraining's l1: 1.05662\tvalid_1's l1: 1.6176\n",
      "[200]\ttraining's l1: 1.03304\tvalid_1's l1: 1.5959\n",
      "[300]\ttraining's l1: 1.02374\tvalid_1's l1: 1.5904\n",
      "[400]\ttraining's l1: 1.01369\tvalid_1's l1: 1.58651\n",
      "[500]\ttraining's l1: 1.00493\tvalid_1's l1: 1.5825\n",
      "[600]\ttraining's l1: 0.999814\tvalid_1's l1: 1.57902\n",
      "[700]\ttraining's l1: 0.993586\tvalid_1's l1: 1.57753\n",
      "[800]\ttraining's l1: 0.986092\tvalid_1's l1: 1.57759\n"
     ]
    },
    {
     "name": "stderr",
     "output_type": "stream",
     "text": [
      "\u001b[32m[I 2021-07-18 17:15:28,920]\u001b[0m Trial 3 finished with value: -1.5740083802127915 and parameters: {'max_depth': 3, 'min_child_weight': 10, 'subsample': 0.6, 'colsample_bytree': 0.8, 'reg_lambda': 0.004928466550811077, 'reg_alpha': 0.04444023570117783, 'feature_fraction': 0.44335474218524173, 'bagging_fraction': 0.20227661264838526, 'bagging_freq': 8, 'num_leaves': 498, 'min_child_samples': 30}. Best is trial 2 with value: -1.559823587107013.\u001b[0m\n"
     ]
    },
    {
     "name": "stdout",
     "output_type": "stream",
     "text": [
      "Early stopping, best iteration is:\n",
      "[727]\ttraining's l1: 0.991022\tvalid_1's l1: 1.57671\n",
      "[LightGBM] [Warning] feature_fraction is set=0.5292434971478865, colsample_bytree=0.5 will be ignored. Current value: feature_fraction=0.5292434971478865\n",
      "[LightGBM] [Warning] bagging_fraction is set=0.6887503214111468, subsample=0.6 will be ignored. Current value: bagging_fraction=0.6887503214111468\n",
      "[LightGBM] [Warning] bagging_freq is set=8, subsample_freq=0 will be ignored. Current value: bagging_freq=8\n",
      "Training until validation scores don't improve for 100 rounds\n",
      "[100]\ttraining's l1: 0.89748\tvalid_1's l1: 1.55762\n",
      "[200]\ttraining's l1: 0.880437\tvalid_1's l1: 1.55535\n",
      "[300]\ttraining's l1: 0.86889\tvalid_1's l1: 1.5563\n"
     ]
    },
    {
     "name": "stderr",
     "output_type": "stream",
     "text": [
      "\u001b[32m[I 2021-07-18 17:15:45,318]\u001b[0m Trial 4 finished with value: -1.5543537477574214 and parameters: {'max_depth': 13, 'min_child_weight': 2, 'subsample': 0.6, 'colsample_bytree': 0.5, 'reg_lambda': 64.06122593395926, 'reg_alpha': 203.12724448776268, 'feature_fraction': 0.5292434971478865, 'bagging_fraction': 0.6887503214111468, 'bagging_freq': 8, 'num_leaves': 553, 'min_child_samples': 73}. Best is trial 4 with value: -1.5543537477574214.\u001b[0m\n"
     ]
    },
    {
     "name": "stdout",
     "output_type": "stream",
     "text": [
      "Early stopping, best iteration is:\n",
      "[215]\ttraining's l1: 0.878028\tvalid_1's l1: 1.55443\n",
      "[LightGBM] [Warning] feature_fraction is set=0.26272602508330656, colsample_bytree=0.9 will be ignored. Current value: feature_fraction=0.26272602508330656\n",
      "[LightGBM] [Warning] bagging_fraction is set=0.44301645097045567, subsample=0.6 will be ignored. Current value: bagging_fraction=0.44301645097045567\n",
      "[LightGBM] [Warning] bagging_freq is set=1, subsample_freq=0 will be ignored. Current value: bagging_freq=1\n",
      "Training until validation scores don't improve for 100 rounds\n",
      "[100]\ttraining's l1: 0.97866\tvalid_1's l1: 1.57866\n",
      "[200]\ttraining's l1: 0.966608\tvalid_1's l1: 1.57229\n",
      "[300]\ttraining's l1: 0.961282\tvalid_1's l1: 1.56964\n",
      "[400]\ttraining's l1: 0.958212\tvalid_1's l1: 1.56715\n"
     ]
    },
    {
     "name": "stderr",
     "output_type": "stream",
     "text": [
      "\u001b[32m[I 2021-07-18 17:16:01,993]\u001b[0m Trial 5 finished with value: -1.56619672576448 and parameters: {'max_depth': 17, 'min_child_weight': 20, 'subsample': 0.6, 'colsample_bytree': 0.9, 'reg_lambda': 614.7667546177619, 'reg_alpha': 656.5767674067006, 'feature_fraction': 0.26272602508330656, 'bagging_fraction': 0.44301645097045567, 'bagging_freq': 1, 'num_leaves': 430, 'min_child_samples': 10}. Best is trial 4 with value: -1.5543537477574214.\u001b[0m\n"
     ]
    },
    {
     "name": "stdout",
     "output_type": "stream",
     "text": [
      "[500]\ttraining's l1: 0.954897\tvalid_1's l1: 1.56763\n",
      "Early stopping, best iteration is:\n",
      "[402]\ttraining's l1: 0.957946\tvalid_1's l1: 1.5664\n",
      "[LightGBM] [Warning] feature_fraction is set=0.4690096431771079, colsample_bytree=0.6 will be ignored. Current value: feature_fraction=0.4690096431771079\n",
      "[LightGBM] [Warning] bagging_fraction is set=0.3105453251159738, subsample=0.7 will be ignored. Current value: bagging_fraction=0.3105453251159738\n",
      "[LightGBM] [Warning] bagging_freq is set=20, subsample_freq=0 will be ignored. Current value: bagging_freq=20\n",
      "Training until validation scores don't improve for 100 rounds\n",
      "[100]\ttraining's l1: 0.980777\tvalid_1's l1: 1.57469\n",
      "[200]\ttraining's l1: 0.968487\tvalid_1's l1: 1.57038\n",
      "[300]\ttraining's l1: 0.947611\tvalid_1's l1: 1.56943\n"
     ]
    },
    {
     "name": "stderr",
     "output_type": "stream",
     "text": [
      "\u001b[32m[I 2021-07-18 17:16:10,010]\u001b[0m Trial 6 finished with value: -1.564553233323526 and parameters: {'max_depth': 6, 'min_child_weight': 5, 'subsample': 0.7, 'colsample_bytree': 0.6, 'reg_lambda': 1.1843703707465651, 'reg_alpha': 18.96069840819719, 'feature_fraction': 0.4690096431771079, 'bagging_fraction': 0.3105453251159738, 'bagging_freq': 20, 'num_leaves': 494, 'min_child_samples': 74}. Best is trial 4 with value: -1.5543537477574214.\u001b[0m\n"
     ]
    },
    {
     "name": "stdout",
     "output_type": "stream",
     "text": [
      "Early stopping, best iteration is:\n",
      "[291]\ttraining's l1: 0.948897\tvalid_1's l1: 1.56479\n",
      "[LightGBM] [Warning] feature_fraction is set=0.3703949676970341, colsample_bytree=0.7 will be ignored. Current value: feature_fraction=0.3703949676970341\n",
      "[LightGBM] [Warning] bagging_fraction is set=0.7243856189233333, subsample=0.6 will be ignored. Current value: bagging_fraction=0.7243856189233333\n",
      "[LightGBM] [Warning] bagging_freq is set=11, subsample_freq=0 will be ignored. Current value: bagging_freq=11\n",
      "Training until validation scores don't improve for 100 rounds\n",
      "[100]\ttraining's l1: 0.908733\tvalid_1's l1: 1.57089\n",
      "[200]\ttraining's l1: 0.88675\tvalid_1's l1: 1.56934\n"
     ]
    },
    {
     "name": "stderr",
     "output_type": "stream",
     "text": [
      "\u001b[32m[I 2021-07-18 17:16:20,829]\u001b[0m Trial 7 finished with value: -1.5687042113838994 and parameters: {'max_depth': 11, 'min_child_weight': 14, 'subsample': 0.6, 'colsample_bytree': 0.7, 'reg_lambda': 166.1871827506142, 'reg_alpha': 5.124453964972391, 'feature_fraction': 0.3703949676970341, 'bagging_fraction': 0.7243856189233333, 'bagging_freq': 11, 'num_leaves': 190, 'min_child_samples': 30}. Best is trial 4 with value: -1.5543537477574214.\u001b[0m\n"
     ]
    },
    {
     "name": "stdout",
     "output_type": "stream",
     "text": [
      "Early stopping, best iteration is:\n",
      "[145]\ttraining's l1: 0.901587\tvalid_1's l1: 1.56881\n",
      "[LightGBM] [Warning] feature_fraction is set=0.5262196180334745, colsample_bytree=0.7 will be ignored. Current value: feature_fraction=0.5262196180334745\n",
      "[LightGBM] [Warning] bagging_fraction is set=0.7432990662266652, subsample=0.9 will be ignored. Current value: bagging_fraction=0.7432990662266652\n",
      "[LightGBM] [Warning] bagging_freq is set=13, subsample_freq=0 will be ignored. Current value: bagging_freq=13\n",
      "Training until validation scores don't improve for 100 rounds\n",
      "[100]\ttraining's l1: 0.875266\tvalid_1's l1: 1.56152\n",
      "[200]\ttraining's l1: 0.854099\tvalid_1's l1: 1.5694\n"
     ]
    },
    {
     "name": "stderr",
     "output_type": "stream",
     "text": [
      "\u001b[32m[I 2021-07-18 17:16:33,966]\u001b[0m Trial 8 finished with value: -1.5611949374121954 and parameters: {'max_depth': 14, 'min_child_weight': 16, 'subsample': 0.9, 'colsample_bytree': 0.7, 'reg_lambda': 548.2893714534289, 'reg_alpha': 39.05681603504042, 'feature_fraction': 0.5262196180334745, 'bagging_fraction': 0.7432990662266652, 'bagging_freq': 13, 'num_leaves': 316, 'min_child_samples': 5}. Best is trial 4 with value: -1.5543537477574214.\u001b[0m\n"
     ]
    },
    {
     "name": "stdout",
     "output_type": "stream",
     "text": [
      "Early stopping, best iteration is:\n",
      "[114]\ttraining's l1: 0.871764\tvalid_1's l1: 1.56128\n",
      "[LightGBM] [Warning] feature_fraction is set=0.4897555251330321, colsample_bytree=0.7 will be ignored. Current value: feature_fraction=0.4897555251330321\n",
      "[LightGBM] [Warning] bagging_fraction is set=0.6590241791483311, subsample=0.7 will be ignored. Current value: bagging_fraction=0.6590241791483311\n",
      "[LightGBM] [Warning] bagging_freq is set=17, subsample_freq=0 will be ignored. Current value: bagging_freq=17\n",
      "Training until validation scores don't improve for 100 rounds\n",
      "[100]\ttraining's l1: 0.972215\tvalid_1's l1: 1.57488\n",
      "[200]\ttraining's l1: 0.96619\tvalid_1's l1: 1.57045\n",
      "[300]\ttraining's l1: 0.95869\tvalid_1's l1: 1.56729\n",
      "[400]\ttraining's l1: 0.945616\tvalid_1's l1: 1.56614\n",
      "[500]\ttraining's l1: 0.922561\tvalid_1's l1: 1.56286\n"
     ]
    },
    {
     "name": "stderr",
     "output_type": "stream",
     "text": [
      "\u001b[32m[I 2021-07-18 17:16:51,898]\u001b[0m Trial 9 finished with value: -1.5625811614322005 and parameters: {'max_depth': 6, 'min_child_weight': 12, 'subsample': 0.7, 'colsample_bytree': 0.7, 'reg_lambda': 0.0048390312645885634, 'reg_alpha': 1.0029784663703039, 'feature_fraction': 0.4897555251330321, 'bagging_fraction': 0.6590241791483311, 'bagging_freq': 17, 'num_leaves': 77, 'min_child_samples': 71}. Best is trial 4 with value: -1.5543537477574214.\u001b[0m\n"
     ]
    },
    {
     "name": "stdout",
     "output_type": "stream",
     "text": [
      "Early stopping, best iteration is:\n",
      "[497]\ttraining's l1: 0.923102\tvalid_1's l1: 1.56277\n",
      "[LightGBM] [Warning] feature_fraction is set=0.7121717378214237, colsample_bytree=0.5 will be ignored. Current value: feature_fraction=0.7121717378214237\n",
      "[LightGBM] [Warning] bagging_fraction is set=0.5335450992977676, subsample=0.5 will be ignored. Current value: bagging_fraction=0.5335450992977676\n",
      "[LightGBM] [Warning] bagging_freq is set=2, subsample_freq=0 will be ignored. Current value: bagging_freq=2\n",
      "Training until validation scores don't improve for 100 rounds\n",
      "[100]\ttraining's l1: 0.962314\tvalid_1's l1: 1.57851\n",
      "[200]\ttraining's l1: 0.949998\tvalid_1's l1: 1.57037\n",
      "[300]\ttraining's l1: 0.941311\tvalid_1's l1: 1.56332\n",
      "[400]\ttraining's l1: 0.938633\tvalid_1's l1: 1.56184\n"
     ]
    },
    {
     "name": "stderr",
     "output_type": "stream",
     "text": [
      "\u001b[32m[I 2021-07-18 17:17:07,129]\u001b[0m Trial 10 finished with value: -1.5616271131157178 and parameters: {'max_depth': 13, 'min_child_weight': 1, 'subsample': 0.5, 'colsample_bytree': 0.5, 'reg_lambda': 23.363212195051503, 'reg_alpha': 762.8116448549508, 'feature_fraction': 0.7121717378214237, 'bagging_fraction': 0.5335450992977676, 'bagging_freq': 2, 'num_leaves': 784, 'min_child_samples': 99}. Best is trial 4 with value: -1.5543537477574214.\u001b[0m\n"
     ]
    },
    {
     "name": "stdout",
     "output_type": "stream",
     "text": [
      "Early stopping, best iteration is:\n",
      "[375]\ttraining's l1: 0.939342\tvalid_1's l1: 1.56167\n",
      "[LightGBM] [Warning] feature_fraction is set=0.6706921758118651, colsample_bytree=0.5 will be ignored. Current value: feature_fraction=0.6706921758118651\n",
      "[LightGBM] [Warning] bagging_fraction is set=0.9408206931566693, subsample=0.9 will be ignored. Current value: bagging_fraction=0.9408206931566693\n",
      "[LightGBM] [Warning] bagging_freq is set=6, subsample_freq=0 will be ignored. Current value: bagging_freq=6\n",
      "Training until validation scores don't improve for 100 rounds\n",
      "[100]\ttraining's l1: 0.739018\tvalid_1's l1: 1.57997\n"
     ]
    },
    {
     "name": "stderr",
     "output_type": "stream",
     "text": [
      "\u001b[32m[I 2021-07-18 17:17:24,688]\u001b[0m Trial 11 finished with value: -1.5692644406737213 and parameters: {'max_depth': 20, 'min_child_weight': 1, 'subsample': 0.9, 'colsample_bytree': 0.5, 'reg_lambda': 0.2833519413444644, 'reg_alpha': 0.0033187462089434064, 'feature_fraction': 0.6706921758118651, 'bagging_fraction': 0.9408206931566693, 'bagging_freq': 6, 'num_leaves': 942, 'min_child_samples': 49}. Best is trial 4 with value: -1.5543537477574214.\u001b[0m\n"
     ]
    },
    {
     "name": "stdout",
     "output_type": "stream",
     "text": [
      "Early stopping, best iteration is:\n",
      "[59]\ttraining's l1: 0.789033\tvalid_1's l1: 1.56935\n",
      "[LightGBM] [Warning] feature_fraction is set=0.2464282266613198, colsample_bytree=0.8 will be ignored. Current value: feature_fraction=0.2464282266613198\n",
      "[LightGBM] [Warning] bagging_fraction is set=0.8409335035110079, subsample=0.8 will be ignored. Current value: bagging_fraction=0.8409335035110079\n",
      "[LightGBM] [Warning] bagging_freq is set=5, subsample_freq=0 will be ignored. Current value: bagging_freq=5\n",
      "Training until validation scores don't improve for 100 rounds\n",
      "[100]\ttraining's l1: 0.891653\tvalid_1's l1: 1.56544\n",
      "[200]\ttraining's l1: 0.868521\tvalid_1's l1: 1.5669\n",
      "Early stopping, best iteration is:\n",
      "[104]\ttraining's l1: 0.889831\tvalid_1's l1: 1.56487\n"
     ]
    },
    {
     "name": "stderr",
     "output_type": "stream",
     "text": [
      "\u001b[32m[I 2021-07-18 17:17:36,470]\u001b[0m Trial 12 finished with value: -1.5647510677547702 and parameters: {'max_depth': 20, 'min_child_weight': 6, 'subsample': 0.8, 'colsample_bytree': 0.8, 'reg_lambda': 0.05137674142325557, 'reg_alpha': 171.87846263985531, 'feature_fraction': 0.2464282266613198, 'bagging_fraction': 0.8409335035110079, 'bagging_freq': 5, 'num_leaves': 757, 'min_child_samples': 55}. Best is trial 4 with value: -1.5543537477574214.\u001b[0m\n"
     ]
    },
    {
     "name": "stdout",
     "output_type": "stream",
     "text": [
      "[LightGBM] [Warning] feature_fraction is set=0.3587568388103031, colsample_bytree=0.6 will be ignored. Current value: feature_fraction=0.3587568388103031\n",
      "[LightGBM] [Warning] bagging_fraction is set=0.8141316327795801, subsample=0.5 will be ignored. Current value: bagging_fraction=0.8141316327795801\n",
      "[LightGBM] [Warning] bagging_freq is set=8, subsample_freq=0 will be ignored. Current value: bagging_freq=8\n",
      "Training until validation scores don't improve for 100 rounds\n",
      "[100]\ttraining's l1: 0.781377\tvalid_1's l1: 1.56844\n"
     ]
    },
    {
     "name": "stderr",
     "output_type": "stream",
     "text": [
      "\u001b[32m[I 2021-07-18 17:17:51,797]\u001b[0m Trial 13 finished with value: -1.5612896858204026 and parameters: {'max_depth': 17, 'min_child_weight': 1, 'subsample': 0.5, 'colsample_bytree': 0.6, 'reg_lambda': 25.157968072119626, 'reg_alpha': 0.4724142542881992, 'feature_fraction': 0.3587568388103031, 'bagging_fraction': 0.8141316327795801, 'bagging_freq': 8, 'num_leaves': 980, 'min_child_samples': 52}. Best is trial 4 with value: -1.5543537477574214.\u001b[0m\n"
     ]
    },
    {
     "name": "stdout",
     "output_type": "stream",
     "text": [
      "Early stopping, best iteration is:\n",
      "[69]\ttraining's l1: 0.814614\tvalid_1's l1: 1.56137\n",
      "[LightGBM] [Warning] feature_fraction is set=0.76601323494777, colsample_bytree=0.6 will be ignored. Current value: feature_fraction=0.76601323494777\n",
      "[LightGBM] [Warning] bagging_fraction is set=0.827480311773561, subsample=0.8 will be ignored. Current value: bagging_fraction=0.827480311773561\n",
      "[LightGBM] [Warning] bagging_freq is set=4, subsample_freq=0 will be ignored. Current value: bagging_freq=4\n",
      "Training until validation scores don't improve for 100 rounds\n",
      "[100]\ttraining's l1: 0.768392\tvalid_1's l1: 1.56499\n"
     ]
    },
    {
     "name": "stderr",
     "output_type": "stream",
     "text": [
      "\u001b[32m[I 2021-07-18 17:18:06,848]\u001b[0m Trial 14 finished with value: -1.554362115893953 and parameters: {'max_depth': 17, 'min_child_weight': 5, 'subsample': 0.8, 'colsample_bytree': 0.6, 'reg_lambda': 0.03613486107135168, 'reg_alpha': 0.0011609552289048091, 'feature_fraction': 0.76601323494777, 'bagging_fraction': 0.827480311773561, 'bagging_freq': 4, 'num_leaves': 689, 'min_child_samples': 27}. Best is trial 4 with value: -1.5543537477574214.\u001b[0m\n"
     ]
    },
    {
     "name": "stdout",
     "output_type": "stream",
     "text": [
      "Early stopping, best iteration is:\n",
      "[57]\ttraining's l1: 0.817999\tvalid_1's l1: 1.55444\n",
      "[LightGBM] [Warning] feature_fraction is set=0.9602201133698783, colsample_bytree=0.6 will be ignored. Current value: feature_fraction=0.9602201133698783\n",
      "[LightGBM] [Warning] bagging_fraction is set=0.4710242250947313, subsample=0.8 will be ignored. Current value: bagging_fraction=0.4710242250947313\n",
      "[LightGBM] [Warning] bagging_freq is set=3, subsample_freq=0 will be ignored. Current value: bagging_freq=3\n",
      "Training until validation scores don't improve for 100 rounds\n",
      "[100]\ttraining's l1: 0.780377\tvalid_1's l1: 1.5685\n"
     ]
    },
    {
     "name": "stderr",
     "output_type": "stream",
     "text": [
      "\u001b[32m[I 2021-07-18 17:18:20,366]\u001b[0m Trial 15 finished with value: -1.5617756867030228 and parameters: {'max_depth': 15, 'min_child_weight': 5, 'subsample': 0.8, 'colsample_bytree': 0.6, 'reg_lambda': 0.1810327789478907, 'reg_alpha': 0.007685442196937693, 'feature_fraction': 0.9602201133698783, 'bagging_fraction': 0.4710242250947313, 'bagging_freq': 3, 'num_leaves': 702, 'min_child_samples': 32}. Best is trial 4 with value: -1.5543537477574214.\u001b[0m\n"
     ]
    },
    {
     "name": "stdout",
     "output_type": "stream",
     "text": [
      "Early stopping, best iteration is:\n",
      "[42]\ttraining's l1: 0.851921\tvalid_1's l1: 1.56178\n",
      "[LightGBM] [Warning] feature_fraction is set=0.8587073670908529, colsample_bytree=0.5 will be ignored. Current value: feature_fraction=0.8587073670908529\n",
      "[LightGBM] [Warning] bagging_fraction is set=0.685135270605003, subsample=0.8 will be ignored. Current value: bagging_fraction=0.685135270605003\n",
      "[LightGBM] [Warning] bagging_freq is set=10, subsample_freq=0 will be ignored. Current value: bagging_freq=10\n",
      "Training until validation scores don't improve for 100 rounds\n",
      "[100]\ttraining's l1: 0.867099\tvalid_1's l1: 1.56488\n",
      "[200]\ttraining's l1: 0.84926\tvalid_1's l1: 1.56991\n"
     ]
    },
    {
     "name": "stderr",
     "output_type": "stream",
     "text": [
      "\u001b[32m[I 2021-07-18 17:18:31,585]\u001b[0m Trial 16 finished with value: -1.564378452793606 and parameters: {'max_depth': 10, 'min_child_weight': 8, 'subsample': 0.8, 'colsample_bytree': 0.5, 'reg_lambda': 10.512865781655785, 'reg_alpha': 0.016722907503329495, 'feature_fraction': 0.8587073670908529, 'bagging_fraction': 0.685135270605003, 'bagging_freq': 10, 'num_leaves': 635, 'min_child_samples': 42}. Best is trial 4 with value: -1.5543537477574214.\u001b[0m\n"
     ]
    },
    {
     "name": "stdout",
     "output_type": "stream",
     "text": [
      "Early stopping, best iteration is:\n",
      "[111]\ttraining's l1: 0.864724\tvalid_1's l1: 1.5645\n",
      "[LightGBM] [Warning] feature_fraction is set=0.7053818621180554, colsample_bytree=0.6 will be ignored. Current value: feature_fraction=0.7053818621180554\n",
      "[LightGBM] [Warning] bagging_fraction is set=0.9843917743018207, subsample=0.6 will be ignored. Current value: bagging_fraction=0.9843917743018207\n",
      "[LightGBM] [Warning] bagging_freq is set=4, subsample_freq=0 will be ignored. Current value: bagging_freq=4\n",
      "Training until validation scores don't improve for 100 rounds\n",
      "[100]\ttraining's l1: 0.899272\tvalid_1's l1: 1.55952\n"
     ]
    },
    {
     "name": "stderr",
     "output_type": "stream",
     "text": [
      "\u001b[32m[I 2021-07-18 17:18:42,883]\u001b[0m Trial 17 finished with value: -1.5593973434289805 and parameters: {'max_depth': 10, 'min_child_weight': 3, 'subsample': 0.6, 'colsample_bytree': 0.6, 'reg_lambda': 88.82549355306408, 'reg_alpha': 101.79051275712004, 'feature_fraction': 0.7053818621180554, 'bagging_fraction': 0.9843917743018207, 'bagging_freq': 4, 'num_leaves': 352, 'min_child_samples': 65}. Best is trial 4 with value: -1.5543537477574214.\u001b[0m\n"
     ]
    },
    {
     "name": "stdout",
     "output_type": "stream",
     "text": [
      "Early stopping, best iteration is:\n",
      "[99]\ttraining's l1: 0.899376\tvalid_1's l1: 1.55949\n",
      "[LightGBM] [Warning] feature_fraction is set=0.6313180550373222, colsample_bytree=0.5 will be ignored. Current value: feature_fraction=0.6313180550373222\n",
      "[LightGBM] [Warning] bagging_fraction is set=0.7928119151505464, subsample=0.8 will be ignored. Current value: bagging_fraction=0.7928119151505464\n",
      "[LightGBM] [Warning] bagging_freq is set=10, subsample_freq=0 will be ignored. Current value: bagging_freq=10\n",
      "Training until validation scores don't improve for 100 rounds\n",
      "[100]\ttraining's l1: 0.767135\tvalid_1's l1: 1.56915\n"
     ]
    },
    {
     "name": "stderr",
     "output_type": "stream",
     "text": [
      "\u001b[32m[I 2021-07-18 17:18:57,579]\u001b[0m Trial 18 finished with value: -1.5623601343676177 and parameters: {'max_depth': 17, 'min_child_weight': 7, 'subsample': 0.8, 'colsample_bytree': 0.5, 'reg_lambda': 0.04279179164081565, 'reg_alpha': 0.001720779700322901, 'feature_fraction': 0.6313180550373222, 'bagging_fraction': 0.7928119151505464, 'bagging_freq': 10, 'num_leaves': 842, 'min_child_samples': 89}. Best is trial 4 with value: -1.5543537477574214.\u001b[0m\n"
     ]
    },
    {
     "name": "stdout",
     "output_type": "stream",
     "text": [
      "Early stopping, best iteration is:\n",
      "[59]\ttraining's l1: 0.809351\tvalid_1's l1: 1.56246\n",
      "[LightGBM] [Warning] feature_fraction is set=0.8161656357349935, colsample_bytree=0.6 will be ignored. Current value: feature_fraction=0.8161656357349935\n",
      "[LightGBM] [Warning] bagging_fraction is set=0.6381342889934819, subsample=0.5 will be ignored. Current value: bagging_fraction=0.6381342889934819\n",
      "[LightGBM] [Warning] bagging_freq is set=5, subsample_freq=0 will be ignored. Current value: bagging_freq=5\n",
      "Training until validation scores don't improve for 100 rounds\n",
      "[100]\ttraining's l1: 0.794579\tvalid_1's l1: 1.58413\n"
     ]
    },
    {
     "name": "stderr",
     "output_type": "stream",
     "text": [
      "\u001b[32m[I 2021-07-18 17:19:09,339]\u001b[0m Trial 19 finished with value: -1.566244722020486 and parameters: {'max_depth': 13, 'min_child_weight': 4, 'subsample': 0.5, 'colsample_bytree': 0.6, 'reg_lambda': 0.7831102758309881, 'reg_alpha': 0.18403268174575518, 'feature_fraction': 0.8161656357349935, 'bagging_fraction': 0.6381342889934819, 'bagging_freq': 5, 'num_leaves': 640, 'min_child_samples': 21}. Best is trial 4 with value: -1.5543537477574214.\u001b[0m\n"
     ]
    },
    {
     "name": "stdout",
     "output_type": "stream",
     "text": [
      "Early stopping, best iteration is:\n",
      "[50]\ttraining's l1: 0.854784\tvalid_1's l1: 1.56629\n",
      "[LightGBM] [Warning] feature_fraction is set=0.7575753259143887, colsample_bytree=0.5 will be ignored. Current value: feature_fraction=0.7575753259143887\n",
      "[LightGBM] [Warning] bagging_fraction is set=0.5648886046297198, subsample=0.8 will be ignored. Current value: bagging_fraction=0.5648886046297198\n",
      "[LightGBM] [Warning] bagging_freq is set=1, subsample_freq=0 will be ignored. Current value: bagging_freq=1\n",
      "Training until validation scores don't improve for 100 rounds\n",
      "[100]\ttraining's l1: 0.799823\tvalid_1's l1: 1.5738\n"
     ]
    },
    {
     "name": "stderr",
     "output_type": "stream",
     "text": [
      "\u001b[32m[I 2021-07-18 17:19:20,677]\u001b[0m Trial 20 finished with value: -1.5590936410199678 and parameters: {'max_depth': 16, 'min_child_weight': 10, 'subsample': 0.8, 'colsample_bytree': 0.5, 'reg_lambda': 2.7595793631996304, 'reg_alpha': 5.709186177953756, 'feature_fraction': 0.7575753259143887, 'bagging_fraction': 0.5648886046297198, 'bagging_freq': 1, 'num_leaves': 580, 'min_child_samples': 61}. Best is trial 4 with value: -1.5543537477574214.\u001b[0m\n"
     ]
    },
    {
     "name": "stdout",
     "output_type": "stream",
     "text": [
      "Early stopping, best iteration is:\n",
      "[59]\ttraining's l1: 0.83761\tvalid_1's l1: 1.55916\n",
      "[LightGBM] [Warning] feature_fraction is set=0.7668751696187666, colsample_bytree=0.5 will be ignored. Current value: feature_fraction=0.7668751696187666\n",
      "[LightGBM] [Warning] bagging_fraction is set=0.58247318875029, subsample=0.8 will be ignored. Current value: bagging_fraction=0.58247318875029\n",
      "[LightGBM] [Warning] bagging_freq is set=1, subsample_freq=0 will be ignored. Current value: bagging_freq=1\n",
      "Training until validation scores don't improve for 100 rounds\n",
      "[100]\ttraining's l1: 0.803467\tvalid_1's l1: 1.5693\n"
     ]
    },
    {
     "name": "stderr",
     "output_type": "stream",
     "text": [
      "\u001b[32m[I 2021-07-18 17:19:31,412]\u001b[0m Trial 21 finished with value: -1.5569769843638985 and parameters: {'max_depth': 15, 'min_child_weight': 10, 'subsample': 0.8, 'colsample_bytree': 0.5, 'reg_lambda': 3.1236984990344285, 'reg_alpha': 4.183557499848143, 'feature_fraction': 0.7668751696187666, 'bagging_fraction': 0.58247318875029, 'bagging_freq': 1, 'num_leaves': 557, 'min_child_samples': 65}. Best is trial 4 with value: -1.5543537477574214.\u001b[0m\n"
     ]
    },
    {
     "name": "stdout",
     "output_type": "stream",
     "text": [
      "Early stopping, best iteration is:\n",
      "[54]\ttraining's l1: 0.853813\tvalid_1's l1: 1.55701\n",
      "[LightGBM] [Warning] feature_fraction is set=0.980701083751147, colsample_bytree=0.5 will be ignored. Current value: feature_fraction=0.980701083751147\n",
      "[LightGBM] [Warning] bagging_fraction is set=0.46951702628676273, subsample=0.8 will be ignored. Current value: bagging_fraction=0.46951702628676273\n",
      "[LightGBM] [Warning] bagging_freq is set=3, subsample_freq=0 will be ignored. Current value: bagging_freq=3\n",
      "Training until validation scores don't improve for 100 rounds\n",
      "[100]\ttraining's l1: 0.932645\tvalid_1's l1: 1.56158\n",
      "[200]\ttraining's l1: 0.913636\tvalid_1's l1: 1.55987\n"
     ]
    },
    {
     "name": "stderr",
     "output_type": "stream",
     "text": [
      "\u001b[32m[I 2021-07-18 17:19:41,422]\u001b[0m Trial 22 finished with value: -1.5588976219712285 and parameters: {'max_depth': 11, 'min_child_weight': 12, 'subsample': 0.8, 'colsample_bytree': 0.5, 'reg_lambda': 152.99043285398426, 'reg_alpha': 329.93059042177373, 'feature_fraction': 0.980701083751147, 'bagging_fraction': 0.46951702628676273, 'bagging_freq': 3, 'num_leaves': 385, 'min_child_samples': 87}. Best is trial 4 with value: -1.5543537477574214.\u001b[0m\n"
     ]
    },
    {
     "name": "stdout",
     "output_type": "stream",
     "text": [
      "Early stopping, best iteration is:\n",
      "[126]\ttraining's l1: 0.924269\tvalid_1's l1: 1.55897\n",
      "[LightGBM] [Warning] feature_fraction is set=0.5937516591362176, colsample_bytree=0.6 will be ignored. Current value: feature_fraction=0.5937516591362176\n",
      "[LightGBM] [Warning] bagging_fraction is set=0.7163715072879386, subsample=0.9 will be ignored. Current value: bagging_fraction=0.7163715072879386\n",
      "[LightGBM] [Warning] bagging_freq is set=1, subsample_freq=0 will be ignored. Current value: bagging_freq=1\n",
      "Training until validation scores don't improve for 100 rounds\n",
      "[100]\ttraining's l1: 0.801437\tvalid_1's l1: 1.56487\n"
     ]
    },
    {
     "name": "stderr",
     "output_type": "stream",
     "text": [
      "\u001b[32m[I 2021-07-18 17:19:54,800]\u001b[0m Trial 23 finished with value: -1.5618111631278726 and parameters: {'max_depth': 18, 'min_child_weight': 17, 'subsample': 0.9, 'colsample_bytree': 0.6, 'reg_lambda': 5.503094134994278, 'reg_alpha': 4.523034058937794, 'feature_fraction': 0.5937516591362176, 'bagging_fraction': 0.7163715072879386, 'bagging_freq': 1, 'num_leaves': 526, 'min_child_samples': 81}. Best is trial 4 with value: -1.5543537477574214.\u001b[0m\n"
     ]
    },
    {
     "name": "stdout",
     "output_type": "stream",
     "text": [
      "Early stopping, best iteration is:\n",
      "[67]\ttraining's l1: 0.82911\tvalid_1's l1: 1.56194\n",
      "[LightGBM] [Warning] feature_fraction is set=0.9183509279233419, colsample_bytree=0.5 will be ignored. Current value: feature_fraction=0.9183509279233419\n",
      "[LightGBM] [Warning] bagging_fraction is set=0.37893053006175237, subsample=0.7 will be ignored. Current value: bagging_fraction=0.37893053006175237\n",
      "[LightGBM] [Warning] bagging_freq is set=7, subsample_freq=0 will be ignored. Current value: bagging_freq=7\n",
      "Training until validation scores don't improve for 100 rounds\n",
      "[100]\ttraining's l1: 0.869969\tvalid_1's l1: 1.55523\n",
      "[200]\ttraining's l1: 0.847027\tvalid_1's l1: 1.55768\n"
     ]
    },
    {
     "name": "stderr",
     "output_type": "stream",
     "text": [
      "\u001b[32m[I 2021-07-18 17:20:06,388]\u001b[0m Trial 24 finished with value: -1.5539263786972732 and parameters: {'max_depth': 13, 'min_child_weight': 7, 'subsample': 0.7, 'colsample_bytree': 0.5, 'reg_lambda': 0.24574184634827975, 'reg_alpha': 69.28836958306682, 'feature_fraction': 0.9183509279233419, 'bagging_fraction': 0.37893053006175237, 'bagging_freq': 7, 'num_leaves': 747, 'min_child_samples': 44}. Best is trial 24 with value: -1.5539263786972732.\u001b[0m\n"
     ]
    },
    {
     "name": "stdout",
     "output_type": "stream",
     "text": [
      "Early stopping, best iteration is:\n",
      "[122]\ttraining's l1: 0.863796\tvalid_1's l1: 1.5541\n",
      "[LightGBM] [Warning] feature_fraction is set=0.906329342994951, colsample_bytree=0.6 will be ignored. Current value: feature_fraction=0.906329342994951\n",
      "[LightGBM] [Warning] bagging_fraction is set=0.2799170323241601, subsample=0.6 will be ignored. Current value: bagging_fraction=0.2799170323241601\n",
      "[LightGBM] [Warning] bagging_freq is set=8, subsample_freq=0 will be ignored. Current value: bagging_freq=8\n",
      "Training until validation scores don't improve for 100 rounds\n",
      "[100]\ttraining's l1: 0.890596\tvalid_1's l1: 1.55306\n"
     ]
    },
    {
     "name": "stderr",
     "output_type": "stream",
     "text": [
      "\u001b[32m[I 2021-07-18 17:20:14,997]\u001b[0m Trial 25 finished with value: -1.5518486613862699 and parameters: {'max_depth': 12, 'min_child_weight': 7, 'subsample': 0.6, 'colsample_bytree': 0.6, 'reg_lambda': 0.14191099575386937, 'reg_alpha': 70.77303108900708, 'feature_fraction': 0.906329342994951, 'bagging_fraction': 0.2799170323241601, 'bagging_freq': 8, 'num_leaves': 721, 'min_child_samples': 40}. Best is trial 25 with value: -1.5518486613862699.\u001b[0m\n"
     ]
    },
    {
     "name": "stdout",
     "output_type": "stream",
     "text": [
      "Early stopping, best iteration is:\n",
      "[97]\ttraining's l1: 0.893219\tvalid_1's l1: 1.55195\n",
      "[LightGBM] [Warning] feature_fraction is set=0.9130303435659247, colsample_bytree=0.5 will be ignored. Current value: feature_fraction=0.9130303435659247\n",
      "[LightGBM] [Warning] bagging_fraction is set=0.30776020786639285, subsample=0.6 will be ignored. Current value: bagging_fraction=0.30776020786639285\n",
      "[LightGBM] [Warning] bagging_freq is set=8, subsample_freq=0 will be ignored. Current value: bagging_freq=8\n",
      "Training until validation scores don't improve for 100 rounds\n",
      "[100]\ttraining's l1: 0.957692\tvalid_1's l1: 1.57753\n",
      "[200]\ttraining's l1: 0.94673\tvalid_1's l1: 1.57513\n"
     ]
    },
    {
     "name": "stderr",
     "output_type": "stream",
     "text": [
      "\u001b[32m[I 2021-07-18 17:20:20,930]\u001b[0m Trial 26 finished with value: -1.5733266025738564 and parameters: {'max_depth': 7, 'min_child_weight': 8, 'subsample': 0.6, 'colsample_bytree': 0.5, 'reg_lambda': 0.16421883588378747, 'reg_alpha': 85.1744473772, 'feature_fraction': 0.9130303435659247, 'bagging_fraction': 0.30776020786639285, 'bagging_freq': 8, 'num_leaves': 796, 'min_child_samples': 42}. Best is trial 25 with value: -1.5518486613862699.\u001b[0m\n"
     ]
    },
    {
     "name": "stdout",
     "output_type": "stream",
     "text": [
      "Early stopping, best iteration is:\n",
      "[129]\ttraining's l1: 0.952095\tvalid_1's l1: 1.57353\n",
      "[LightGBM] [Warning] feature_fraction is set=0.9095070484721002, colsample_bytree=0.6 will be ignored. Current value: feature_fraction=0.9095070484721002\n",
      "[LightGBM] [Warning] bagging_fraction is set=0.20608281261834843, subsample=0.6 will be ignored. Current value: bagging_fraction=0.20608281261834843\n",
      "[LightGBM] [Warning] bagging_freq is set=12, subsample_freq=0 will be ignored. Current value: bagging_freq=12\n",
      "Training until validation scores don't improve for 100 rounds\n",
      "[100]\ttraining's l1: 1.02529\tvalid_1's l1: 1.59508\n",
      "[200]\ttraining's l1: 1.01688\tvalid_1's l1: 1.58359\n"
     ]
    },
    {
     "name": "stderr",
     "output_type": "stream",
     "text": [
      "\u001b[32m[I 2021-07-18 17:20:25,376]\u001b[0m Trial 27 finished with value: -1.58162568597886 and parameters: {'max_depth': 8, 'min_child_weight': 7, 'subsample': 0.6, 'colsample_bytree': 0.6, 'reg_lambda': 0.22970342192872698, 'reg_alpha': 933.7053776550798, 'feature_fraction': 0.9095070484721002, 'bagging_fraction': 0.20608281261834843, 'bagging_freq': 12, 'num_leaves': 717, 'min_child_samples': 41}. Best is trial 25 with value: -1.5518486613862699.\u001b[0m\n"
     ]
    },
    {
     "name": "stdout",
     "output_type": "stream",
     "text": [
      "Early stopping, best iteration is:\n",
      "[152]\ttraining's l1: 1.01892\tvalid_1's l1: 1.58163\n",
      "[LightGBM] [Warning] feature_fraction is set=0.5868102143916321, colsample_bytree=0.5 will be ignored. Current value: feature_fraction=0.5868102143916321\n",
      "[LightGBM] [Warning] bagging_fraction is set=0.3424742836728831, subsample=0.7 will be ignored. Current value: bagging_fraction=0.3424742836728831\n",
      "[LightGBM] [Warning] bagging_freq is set=9, subsample_freq=0 will be ignored. Current value: bagging_freq=9\n",
      "Training until validation scores don't improve for 100 rounds\n",
      "[100]\ttraining's l1: 0.858755\tvalid_1's l1: 1.56326\n"
     ]
    },
    {
     "name": "stderr",
     "output_type": "stream",
     "text": [
      "\u001b[32m[I 2021-07-18 17:20:35,207]\u001b[0m Trial 28 finished with value: -1.560815382333977 and parameters: {'max_depth': 13, 'min_child_weight': 12, 'subsample': 0.7, 'colsample_bytree': 0.5, 'reg_lambda': 0.9834845374722645, 'reg_alpha': 33.890939632387635, 'feature_fraction': 0.5868102143916321, 'bagging_fraction': 0.3424742836728831, 'bagging_freq': 9, 'num_leaves': 884, 'min_child_samples': 46}. Best is trial 25 with value: -1.5518486613862699.\u001b[0m\n"
     ]
    },
    {
     "name": "stdout",
     "output_type": "stream",
     "text": [
      "Early stopping, best iteration is:\n",
      "[76]\ttraining's l1: 0.869484\tvalid_1's l1: 1.56092\n",
      "[LightGBM] [Warning] feature_fraction is set=0.8585290096257623, colsample_bytree=0.6 will be ignored. Current value: feature_fraction=0.8585290096257623\n",
      "[LightGBM] [Warning] bagging_fraction is set=0.3863583097219605, subsample=0.5 will be ignored. Current value: bagging_fraction=0.3863583097219605\n",
      "[LightGBM] [Warning] bagging_freq is set=15, subsample_freq=0 will be ignored. Current value: bagging_freq=15\n",
      "Training until validation scores don't improve for 100 rounds\n",
      "[100]\ttraining's l1: 0.876031\tvalid_1's l1: 1.57693\n"
     ]
    },
    {
     "name": "stderr",
     "output_type": "stream",
     "text": [
      "\u001b[32m[I 2021-07-18 17:20:42,188]\u001b[0m Trial 29 finished with value: -1.5662226089752507 and parameters: {'max_depth': 12, 'min_child_weight': 3, 'subsample': 0.5, 'colsample_bytree': 0.6, 'reg_lambda': 0.01970063712789424, 'reg_alpha': 15.920296961711342, 'feature_fraction': 0.8585290096257623, 'bagging_fraction': 0.3863583097219605, 'bagging_freq': 15, 'num_leaves': 259, 'min_child_samples': 58}. Best is trial 25 with value: -1.5518486613862699.\u001b[0m\n"
     ]
    },
    {
     "name": "stdout",
     "output_type": "stream",
     "text": [
      "Early stopping, best iteration is:\n",
      "[60]\ttraining's l1: 0.896285\tvalid_1's l1: 1.56634\n",
      "[LightGBM] [Warning] feature_fraction is set=0.9228388228042789, colsample_bytree=0.7 will be ignored. Current value: feature_fraction=0.9228388228042789\n",
      "[LightGBM] [Warning] bagging_fraction is set=0.26653674031969377, subsample=0.7 will be ignored. Current value: bagging_fraction=0.26653674031969377\n",
      "[LightGBM] [Warning] bagging_freq is set=6, subsample_freq=0 will be ignored. Current value: bagging_freq=6\n",
      "Training until validation scores don't improve for 100 rounds\n",
      "[100]\ttraining's l1: 0.943706\tvalid_1's l1: 1.57027\n"
     ]
    },
    {
     "name": "stderr",
     "output_type": "stream",
     "text": [
      "\u001b[32m[I 2021-07-18 17:20:48,187]\u001b[0m Trial 30 finished with value: -1.570033368252883 and parameters: {'max_depth': 9, 'min_child_weight': 9, 'subsample': 0.7, 'colsample_bytree': 0.7, 'reg_lambda': 0.0010262294861310677, 'reg_alpha': 174.9582703210895, 'feature_fraction': 0.9228388228042789, 'bagging_fraction': 0.26653674031969377, 'bagging_freq': 6, 'num_leaves': 616, 'min_child_samples': 17}. Best is trial 25 with value: -1.5518486613862699.\u001b[0m\n"
     ]
    },
    {
     "name": "stdout",
     "output_type": "stream",
     "text": [
      "[200]\ttraining's l1: 0.923277\tvalid_1's l1: 1.57081\n",
      "Early stopping, best iteration is:\n",
      "[102]\ttraining's l1: 0.94266\tvalid_1's l1: 1.57007\n",
      "[LightGBM] [Warning] feature_fraction is set=0.7953324236907514, colsample_bytree=0.6 will be ignored. Current value: feature_fraction=0.7953324236907514\n",
      "[LightGBM] [Warning] bagging_fraction is set=0.894462721909157, subsample=0.6 will be ignored. Current value: bagging_fraction=0.894462721909157\n",
      "[LightGBM] [Warning] bagging_freq is set=6, subsample_freq=0 will be ignored. Current value: bagging_freq=6\n",
      "Training until validation scores don't improve for 100 rounds\n",
      "[100]\ttraining's l1: 0.809787\tvalid_1's l1: 1.56688\n"
     ]
    },
    {
     "name": "stderr",
     "output_type": "stream",
     "text": [
      "\u001b[32m[I 2021-07-18 17:21:02,102]\u001b[0m Trial 31 finished with value: -1.564646113163207 and parameters: {'max_depth': 15, 'min_child_weight': 5, 'subsample': 0.6, 'colsample_bytree': 0.6, 'reg_lambda': 0.031952203216194415, 'reg_alpha': 57.85954802522193, 'feature_fraction': 0.7953324236907514, 'bagging_fraction': 0.894462721909157, 'bagging_freq': 6, 'num_leaves': 681, 'min_child_samples': 23}. Best is trial 25 with value: -1.5518486613862699.\u001b[0m\n"
     ]
    },
    {
     "name": "stdout",
     "output_type": "stream",
     "text": [
      "Early stopping, best iteration is:\n",
      "[64]\ttraining's l1: 0.840279\tvalid_1's l1: 1.56475\n",
      "[LightGBM] [Warning] feature_fraction is set=0.9912206145715371, colsample_bytree=0.6 will be ignored. Current value: feature_fraction=0.9912206145715371\n",
      "[LightGBM] [Warning] bagging_fraction is set=0.7747936082235988, subsample=0.7 will be ignored. Current value: bagging_fraction=0.7747936082235988\n",
      "[LightGBM] [Warning] bagging_freq is set=7, subsample_freq=0 will be ignored. Current value: bagging_freq=7\n",
      "Training until validation scores don't improve for 100 rounds\n",
      "[100]\ttraining's l1: 0.911258\tvalid_1's l1: 1.55953\n",
      "[200]\ttraining's l1: 0.893905\tvalid_1's l1: 1.5587\n"
     ]
    },
    {
     "name": "stderr",
     "output_type": "stream",
     "text": [
      "\u001b[32m[I 2021-07-18 17:21:16,186]\u001b[0m Trial 32 finished with value: -1.5562098109119182 and parameters: {'max_depth': 12, 'min_child_weight': 6, 'subsample': 0.7, 'colsample_bytree': 0.6, 'reg_lambda': 0.09258855539094452, 'reg_alpha': 375.04472892203535, 'feature_fraction': 0.9912206145715371, 'bagging_fraction': 0.7747936082235988, 'bagging_freq': 7, 'num_leaves': 728, 'min_child_samples': 35}. Best is trial 25 with value: -1.5518486613862699.\u001b[0m\n"
     ]
    },
    {
     "name": "stdout",
     "output_type": "stream",
     "text": [
      "Early stopping, best iteration is:\n",
      "[154]\ttraining's l1: 0.899911\tvalid_1's l1: 1.55651\n",
      "[LightGBM] [Warning] feature_fraction is set=0.8695255699229536, colsample_bytree=0.5 will be ignored. Current value: feature_fraction=0.8695255699229536\n",
      "[LightGBM] [Warning] bagging_fraction is set=0.3923118417844023, subsample=0.6 will be ignored. Current value: bagging_fraction=0.3923118417844023\n",
      "[LightGBM] [Warning] bagging_freq is set=9, subsample_freq=0 will be ignored. Current value: bagging_freq=9\n",
      "Training until validation scores don't improve for 100 rounds\n",
      "[100]\ttraining's l1: 0.919718\tvalid_1's l1: 1.56492\n",
      "[200]\ttraining's l1: 0.902654\tvalid_1's l1: 1.56078\n",
      "[300]\ttraining's l1: 0.894173\tvalid_1's l1: 1.55894\n",
      "[400]\ttraining's l1: 0.889068\tvalid_1's l1: 1.55836\n",
      "[500]\ttraining's l1: 0.883956\tvalid_1's l1: 1.55616\n",
      "[600]\ttraining's l1: 0.879343\tvalid_1's l1: 1.55412\n",
      "Early stopping, best iteration is:\n",
      "[576]\ttraining's l1: 0.880148\tvalid_1's l1: 1.55328\n"
     ]
    },
    {
     "name": "stderr",
     "output_type": "stream",
     "text": [
      "\u001b[32m[I 2021-07-18 17:21:38,629]\u001b[0m Trial 33 finished with value: -1.5530335815985474 and parameters: {'max_depth': 14, 'min_child_weight': 4, 'subsample': 0.6, 'colsample_bytree': 0.5, 'reg_lambda': 0.6087928738773603, 'reg_alpha': 244.43191525575065, 'feature_fraction': 0.8695255699229536, 'bagging_fraction': 0.3923118417844023, 'bagging_freq': 9, 'num_leaves': 823, 'min_child_samples': 36}. Best is trial 25 with value: -1.5518486613862699.\u001b[0m\n"
     ]
    },
    {
     "name": "stdout",
     "output_type": "stream",
     "text": [
      "[LightGBM] [Warning] feature_fraction is set=0.8767645993067779, colsample_bytree=0.5 will be ignored. Current value: feature_fraction=0.8767645993067779\n",
      "[LightGBM] [Warning] bagging_fraction is set=0.40223519024945564, subsample=0.6 will be ignored. Current value: bagging_fraction=0.40223519024945564\n",
      "[LightGBM] [Warning] bagging_freq is set=9, subsample_freq=0 will be ignored. Current value: bagging_freq=9\n",
      "Training until validation scores don't improve for 100 rounds\n",
      "[100]\ttraining's l1: 0.81041\tvalid_1's l1: 1.57837\n"
     ]
    },
    {
     "name": "stderr",
     "output_type": "stream",
     "text": [
      "\u001b[32m[I 2021-07-18 17:21:49,786]\u001b[0m Trial 34 finished with value: -1.5646788595636483 and parameters: {'max_depth': 14, 'min_child_weight': 2, 'subsample': 0.6, 'colsample_bytree': 0.5, 'reg_lambda': 0.534800640405307, 'reg_alpha': 15.435665635128185, 'feature_fraction': 0.8767645993067779, 'bagging_fraction': 0.40223519024945564, 'bagging_freq': 9, 'num_leaves': 830, 'min_child_samples': 36}. Best is trial 25 with value: -1.5518486613862699.\u001b[0m\n"
     ]
    },
    {
     "name": "stdout",
     "output_type": "stream",
     "text": [
      "Early stopping, best iteration is:\n",
      "[45]\ttraining's l1: 0.866536\tvalid_1's l1: 1.56473\n",
      "[LightGBM] [Warning] feature_fraction is set=0.5384301785098367, colsample_bytree=0.5 will be ignored. Current value: feature_fraction=0.5384301785098367\n",
      "[LightGBM] [Warning] bagging_fraction is set=0.22445455310916032, subsample=0.6 will be ignored. Current value: bagging_fraction=0.22445455310916032\n",
      "[LightGBM] [Warning] bagging_freq is set=9, subsample_freq=0 will be ignored. Current value: bagging_freq=9\n",
      "Training until validation scores don't improve for 100 rounds\n",
      "[100]\ttraining's l1: 0.965443\tvalid_1's l1: 1.57941\n",
      "[200]\ttraining's l1: 0.952408\tvalid_1's l1: 1.5736\n",
      "[300]\ttraining's l1: 0.942401\tvalid_1's l1: 1.56906\n",
      "[400]\ttraining's l1: 0.937313\tvalid_1's l1: 1.56548\n",
      "[500]\ttraining's l1: 0.934518\tvalid_1's l1: 1.56422\n",
      "[600]\ttraining's l1: 0.931381\tvalid_1's l1: 1.5633\n",
      "[700]\ttraining's l1: 0.92953\tvalid_1's l1: 1.56285\n",
      "[800]\ttraining's l1: 0.927399\tvalid_1's l1: 1.56214\n",
      "[900]\ttraining's l1: 0.9258\tvalid_1's l1: 1.5608\n",
      "[1000]\ttraining's l1: 0.923155\tvalid_1's l1: 1.55978\n",
      "[1100]\ttraining's l1: 0.921992\tvalid_1's l1: 1.55909\n",
      "[1200]\ttraining's l1: 0.921269\tvalid_1's l1: 1.55805\n",
      "[1300]\ttraining's l1: 0.920307\tvalid_1's l1: 1.55781\n",
      "Early stopping, best iteration is:\n",
      "[1292]\ttraining's l1: 0.920454\tvalid_1's l1: 1.55744\n"
     ]
    },
    {
     "name": "stderr",
     "output_type": "stream",
     "text": [
      "\u001b[32m[I 2021-07-18 17:22:14,667]\u001b[0m Trial 35 finished with value: -1.557258664399297 and parameters: {'max_depth': 12, 'min_child_weight': 4, 'subsample': 0.6, 'colsample_bytree': 0.5, 'reg_lambda': 0.44224739976514243, 'reg_alpha': 290.32369051336934, 'feature_fraction': 0.5384301785098367, 'bagging_fraction': 0.22445455310916032, 'bagging_freq': 9, 'num_leaves': 909, 'min_child_samples': 46}. Best is trial 25 with value: -1.5518486613862699.\u001b[0m\n"
     ]
    },
    {
     "name": "stdout",
     "output_type": "stream",
     "text": [
      "[LightGBM] [Warning] feature_fraction is set=0.9689290093515976, colsample_bytree=0.5 will be ignored. Current value: feature_fraction=0.9689290093515976\n",
      "[LightGBM] [Warning] bagging_fraction is set=0.5171260096848519, subsample=0.5 will be ignored. Current value: bagging_fraction=0.5171260096848519\n",
      "[LightGBM] [Warning] bagging_freq is set=11, subsample_freq=0 will be ignored. Current value: bagging_freq=11\n",
      "Training until validation scores don't improve for 100 rounds\n",
      "[100]\ttraining's l1: 0.972232\tvalid_1's l1: 1.57985\n",
      "[200]\ttraining's l1: 0.962174\tvalid_1's l1: 1.57272\n",
      "[300]\ttraining's l1: 0.958997\tvalid_1's l1: 1.56928\n",
      "[400]\ttraining's l1: 0.958099\tvalid_1's l1: 1.56818\n",
      "[500]\ttraining's l1: 0.956319\tvalid_1's l1: 1.56725\n",
      "[600]\ttraining's l1: 0.9558\tvalid_1's l1: 1.56701\n",
      "[700]\ttraining's l1: 0.95538\tvalid_1's l1: 1.56644\n",
      "[800]\ttraining's l1: 0.954391\tvalid_1's l1: 1.56657\n"
     ]
    },
    {
     "name": "stderr",
     "output_type": "stream",
     "text": [
      "\u001b[32m[I 2021-07-18 17:22:33,611]\u001b[0m Trial 36 finished with value: -1.5661138351965047 and parameters: {'max_depth': 14, 'min_child_weight': 7, 'subsample': 0.5, 'colsample_bytree': 0.5, 'reg_lambda': 2.1189812300186905, 'reg_alpha': 970.657315812954, 'feature_fraction': 0.9689290093515976, 'bagging_fraction': 0.5171260096848519, 'bagging_freq': 11, 'num_leaves': 480, 'min_child_samples': 53}. Best is trial 25 with value: -1.5518486613862699.\u001b[0m\n"
     ]
    },
    {
     "name": "stdout",
     "output_type": "stream",
     "text": [
      "Early stopping, best iteration is:\n",
      "[716]\ttraining's l1: 0.955013\tvalid_1's l1: 1.56615\n",
      "[LightGBM] [Warning] feature_fraction is set=0.36095774423027505, colsample_bytree=0.5 will be ignored. Current value: feature_fraction=0.36095774423027505\n",
      "[LightGBM] [Warning] bagging_fraction is set=0.36588705722972636, subsample=0.6 will be ignored. Current value: bagging_fraction=0.36588705722972636\n",
      "[LightGBM] [Warning] bagging_freq is set=8, subsample_freq=0 will be ignored. Current value: bagging_freq=8\n",
      "Training until validation scores don't improve for 100 rounds\n",
      "[100]\ttraining's l1: 0.932954\tvalid_1's l1: 1.56592\n",
      "[200]\ttraining's l1: 0.914139\tvalid_1's l1: 1.56189\n",
      "[300]\ttraining's l1: 0.896027\tvalid_1's l1: 1.55502\n",
      "[400]\ttraining's l1: 0.881109\tvalid_1's l1: 1.55438\n"
     ]
    },
    {
     "name": "stderr",
     "output_type": "stream",
     "text": [
      "\u001b[32m[I 2021-07-18 17:22:46,233]\u001b[0m Trial 37 finished with value: -1.5532427402082494 and parameters: {'max_depth': 9, 'min_child_weight': 3, 'subsample': 0.6, 'colsample_bytree': 0.5, 'reg_lambda': 0.10691181448591831, 'reg_alpha': 94.76192072153182, 'feature_fraction': 0.36095774423027505, 'bagging_fraction': 0.36588705722972636, 'bagging_freq': 8, 'num_leaves': 997, 'min_child_samples': 36}. Best is trial 25 with value: -1.5518486613862699.\u001b[0m\n"
     ]
    },
    {
     "name": "stdout",
     "output_type": "stream",
     "text": [
      "Early stopping, best iteration is:\n",
      "[370]\ttraining's l1: 0.884367\tvalid_1's l1: 1.55341\n",
      "[LightGBM] [Warning] feature_fraction is set=0.36272804735261766, colsample_bytree=0.9 will be ignored. Current value: feature_fraction=0.36272804735261766\n",
      "[LightGBM] [Warning] bagging_fraction is set=0.3663332372452298, subsample=0.7 will be ignored. Current value: bagging_fraction=0.3663332372452298\n",
      "[LightGBM] [Warning] bagging_freq is set=7, subsample_freq=0 will be ignored. Current value: bagging_freq=7\n",
      "Training until validation scores don't improve for 100 rounds\n",
      "[100]\ttraining's l1: 0.907641\tvalid_1's l1: 1.57487\n"
     ]
    },
    {
     "name": "stderr",
     "output_type": "stream",
     "text": [
      "\u001b[32m[I 2021-07-18 17:22:51,890]\u001b[0m Trial 38 finished with value: -1.567215313780411 and parameters: {'max_depth': 9, 'min_child_weight': 3, 'subsample': 0.7, 'colsample_bytree': 0.9, 'reg_lambda': 0.007924634980003465, 'reg_alpha': 9.855033778794066, 'feature_fraction': 0.36272804735261766, 'bagging_fraction': 0.3663332372452298, 'bagging_freq': 7, 'num_leaves': 990, 'min_child_samples': 36}. Best is trial 25 with value: -1.5518486613862699.\u001b[0m\n"
     ]
    },
    {
     "name": "stdout",
     "output_type": "stream",
     "text": [
      "Early stopping, best iteration is:\n",
      "[60]\ttraining's l1: 0.920995\tvalid_1's l1: 1.56728\n",
      "[LightGBM] [Warning] feature_fraction is set=0.32336130949459796, colsample_bytree=0.5 will be ignored. Current value: feature_fraction=0.32336130949459796\n",
      "[LightGBM] [Warning] bagging_fraction is set=0.26894714825713795, subsample=0.6 will be ignored. Current value: bagging_fraction=0.26894714825713795\n",
      "[LightGBM] [Warning] bagging_freq is set=13, subsample_freq=0 will be ignored. Current value: bagging_freq=13\n",
      "Training until validation scores don't improve for 100 rounds\n",
      "[100]\ttraining's l1: 1.00893\tvalid_1's l1: 1.58818\n",
      "[200]\ttraining's l1: 0.995044\tvalid_1's l1: 1.5755\n",
      "[300]\ttraining's l1: 0.97517\tvalid_1's l1: 1.56684\n",
      "[400]\ttraining's l1: 0.958459\tvalid_1's l1: 1.5673\n"
     ]
    },
    {
     "name": "stderr",
     "output_type": "stream",
     "text": [
      "\u001b[32m[I 2021-07-18 17:22:59,146]\u001b[0m Trial 39 finished with value: -1.5654897270850103 and parameters: {'max_depth': 5, 'min_child_weight': 9, 'subsample': 0.6, 'colsample_bytree': 0.5, 'reg_lambda': 0.11789753441055842, 'reg_alpha': 33.40207377745581, 'feature_fraction': 0.32336130949459796, 'bagging_fraction': 0.26894714825713795, 'bagging_freq': 13, 'num_leaves': 856, 'min_child_samples': 40}. Best is trial 25 with value: -1.5518486613862699.\u001b[0m\n"
     ]
    },
    {
     "name": "stdout",
     "output_type": "stream",
     "text": [
      "Early stopping, best iteration is:\n",
      "[330]\ttraining's l1: 0.969688\tvalid_1's l1: 1.56573\n",
      "[LightGBM] [Warning] feature_fraction is set=0.4073724661349862, colsample_bytree=0.5 will be ignored. Current value: feature_fraction=0.4073724661349862\n",
      "[LightGBM] [Warning] bagging_fraction is set=0.41648344935801296, subsample=0.6 will be ignored. Current value: bagging_fraction=0.41648344935801296\n",
      "[LightGBM] [Warning] bagging_freq is set=8, subsample_freq=0 will be ignored. Current value: bagging_freq=8\n",
      "Training until validation scores don't improve for 100 rounds\n",
      "[100]\ttraining's l1: 1.15901\tvalid_1's l1: 1.74128\n",
      "[200]\ttraining's l1: 1.15298\tvalid_1's l1: 1.72854\n",
      "[300]\ttraining's l1: 1.14064\tvalid_1's l1: 1.7099\n",
      "[400]\ttraining's l1: 1.13397\tvalid_1's l1: 1.69919\n"
     ]
    },
    {
     "name": "stderr",
     "output_type": "stream",
     "text": [
      "\u001b[32m[I 2021-07-18 17:23:08,470]\u001b[0m Trial 40 finished with value: -1.6953433274186462 and parameters: {'max_depth': 1, 'min_child_weight': 4, 'subsample': 0.6, 'colsample_bytree': 0.5, 'reg_lambda': 0.01137183795476882, 'reg_alpha': 96.01180781871842, 'feature_fraction': 0.4073724661349862, 'bagging_fraction': 0.41648344935801296, 'bagging_freq': 8, 'num_leaves': 939, 'min_child_samples': 26}. Best is trial 25 with value: -1.5518486613862699.\u001b[0m\n"
     ]
    },
    {
     "name": "stdout",
     "output_type": "stream",
     "text": [
      "[500]\ttraining's l1: 1.12973\tvalid_1's l1: 1.69685\n",
      "Early stopping, best iteration is:\n",
      "[403]\ttraining's l1: 1.13235\tvalid_1's l1: 1.69542\n",
      "[LightGBM] [Warning] feature_fraction is set=0.30280892069316695, colsample_bytree=0.5 will be ignored. Current value: feature_fraction=0.30280892069316695\n",
      "[LightGBM] [Warning] bagging_fraction is set=0.3202054358907926, subsample=0.6 will be ignored. Current value: bagging_fraction=0.3202054358907926\n",
      "[LightGBM] [Warning] bagging_freq is set=7, subsample_freq=0 will be ignored. Current value: bagging_freq=7\n",
      "Training until validation scores don't improve for 100 rounds\n",
      "[100]\ttraining's l1: 0.938236\tvalid_1's l1: 1.57392\n",
      "[200]\ttraining's l1: 0.920428\tvalid_1's l1: 1.56626\n",
      "[300]\ttraining's l1: 0.90787\tvalid_1's l1: 1.56416\n"
     ]
    },
    {
     "name": "stderr",
     "output_type": "stream",
     "text": [
      "\u001b[32m[I 2021-07-18 17:23:17,959]\u001b[0m Trial 41 finished with value: -1.562661354949126 and parameters: {'max_depth': 11, 'min_child_weight': 2, 'subsample': 0.6, 'colsample_bytree': 0.5, 'reg_lambda': 0.07096163435256177, 'reg_alpha': 149.8804234913634, 'feature_fraction': 0.30280892069316695, 'bagging_fraction': 0.3202054358907926, 'bagging_freq': 7, 'num_leaves': 795, 'min_child_samples': 47}. Best is trial 25 with value: -1.5518486613862699.\u001b[0m\n"
     ]
    },
    {
     "name": "stdout",
     "output_type": "stream",
     "text": [
      "Early stopping, best iteration is:\n",
      "[274]\ttraining's l1: 0.910832\tvalid_1's l1: 1.56291\n",
      "[LightGBM] [Warning] feature_fraction is set=0.203684828709175, colsample_bytree=0.5 will be ignored. Current value: feature_fraction=0.203684828709175\n",
      "[LightGBM] [Warning] bagging_fraction is set=0.26560247079330335, subsample=0.7 will be ignored. Current value: bagging_fraction=0.26560247079330335\n",
      "[LightGBM] [Warning] bagging_freq is set=11, subsample_freq=0 will be ignored. Current value: bagging_freq=11\n",
      "Training until validation scores don't improve for 100 rounds\n",
      "[100]\ttraining's l1: 0.998109\tvalid_1's l1: 1.58952\n",
      "[200]\ttraining's l1: 0.981313\tvalid_1's l1: 1.58011\n",
      "[300]\ttraining's l1: 0.9738\tvalid_1's l1: 1.57493\n",
      "[400]\ttraining's l1: 0.969389\tvalid_1's l1: 1.57366\n",
      "[500]\ttraining's l1: 0.96671\tvalid_1's l1: 1.57271\n",
      "[600]\ttraining's l1: 0.9638\tvalid_1's l1: 1.57119\n",
      "[700]\ttraining's l1: 0.961945\tvalid_1's l1: 1.57043\n",
      "[800]\ttraining's l1: 0.959799\tvalid_1's l1: 1.56947\n"
     ]
    },
    {
     "name": "stderr",
     "output_type": "stream",
     "text": [
      "\u001b[32m[I 2021-07-18 17:23:29,065]\u001b[0m Trial 42 finished with value: -1.5689086675105561 and parameters: {'max_depth': 9, 'min_child_weight': 2, 'subsample': 0.7, 'colsample_bytree': 0.5, 'reg_lambda': 1.4011624815031227, 'reg_alpha': 436.4299943838772, 'feature_fraction': 0.203684828709175, 'bagging_fraction': 0.26560247079330335, 'bagging_freq': 11, 'num_leaves': 452, 'min_child_samples': 31}. Best is trial 25 with value: -1.5518486613862699.\u001b[0m\n"
     ]
    },
    {
     "name": "stdout",
     "output_type": "stream",
     "text": [
      "Early stopping, best iteration is:\n",
      "[725]\ttraining's l1: 0.961358\tvalid_1's l1: 1.56881\n",
      "[LightGBM] [Warning] feature_fraction is set=0.43754659421361203, colsample_bytree=0.5 will be ignored. Current value: feature_fraction=0.43754659421361203\n",
      "[LightGBM] [Warning] bagging_fraction is set=0.44296964276387696, subsample=0.6 will be ignored. Current value: bagging_fraction=0.44296964276387696\n",
      "[LightGBM] [Warning] bagging_freq is set=10, subsample_freq=0 will be ignored. Current value: bagging_freq=10\n",
      "Training until validation scores don't improve for 100 rounds\n",
      "[100]\ttraining's l1: 0.873926\tvalid_1's l1: 1.57002\n",
      "[200]\ttraining's l1: 0.856787\tvalid_1's l1: 1.56935\n",
      "[300]\ttraining's l1: 0.827872\tvalid_1's l1: 1.56417\n",
      "[400]\ttraining's l1: 0.808894\tvalid_1's l1: 1.56643\n",
      "Early stopping, best iteration is:\n",
      "[320]\ttraining's l1: 0.823776\tvalid_1's l1: 1.56211\n"
     ]
    },
    {
     "name": "stderr",
     "output_type": "stream",
     "text": [
      "\u001b[32m[I 2021-07-18 17:23:48,299]\u001b[0m Trial 43 finished with value: -1.5617941758637703 and parameters: {'max_depth': 12, 'min_child_weight': 6, 'subsample': 0.6, 'colsample_bytree': 0.5, 'reg_lambda': 0.41866729177998835, 'reg_alpha': 45.22814843194339, 'feature_fraction': 0.43754659421361203, 'bagging_fraction': 0.44296964276387696, 'bagging_freq': 10, 'num_leaves': 664, 'min_child_samples': 14}. Best is trial 25 with value: -1.5518486613862699.\u001b[0m\n"
     ]
    },
    {
     "name": "stdout",
     "output_type": "stream",
     "text": [
      "[LightGBM] [Warning] feature_fraction is set=0.9276276896333521, colsample_bytree=0.6 will be ignored. Current value: feature_fraction=0.9276276896333521\n",
      "[LightGBM] [Warning] bagging_fraction is set=0.3483668510825195, subsample=0.5 will be ignored. Current value: bagging_fraction=0.3483668510825195\n",
      "[LightGBM] [Warning] bagging_freq is set=9, subsample_freq=0 will be ignored. Current value: bagging_freq=9\n",
      "Training until validation scores don't improve for 100 rounds\n",
      "[100]\ttraining's l1: 0.925155\tvalid_1's l1: 1.56958\n",
      "[200]\ttraining's l1: 0.90638\tvalid_1's l1: 1.56636\n",
      "[300]\ttraining's l1: 0.898227\tvalid_1's l1: 1.566\n",
      "[400]\ttraining's l1: 0.890333\tvalid_1's l1: 1.55972\n",
      "[500]\ttraining's l1: 0.883827\tvalid_1's l1: 1.55656\n",
      "[600]\ttraining's l1: 0.880659\tvalid_1's l1: 1.55599\n",
      "Early stopping, best iteration is:\n",
      "[565]\ttraining's l1: 0.88147\tvalid_1's l1: 1.55555\n"
     ]
    },
    {
     "name": "stderr",
     "output_type": "stream",
     "text": [
      "\u001b[32m[I 2021-07-18 17:24:09,843]\u001b[0m Trial 44 finished with value: -1.5552425074851155 and parameters: {'max_depth': 13, 'min_child_weight': 4, 'subsample': 0.5, 'colsample_bytree': 0.6, 'reg_lambda': 991.4798486577876, 'reg_alpha': 189.12756876738308, 'feature_fraction': 0.9276276896333521, 'bagging_fraction': 0.3483668510825195, 'bagging_freq': 9, 'num_leaves': 779, 'min_child_samples': 39}. Best is trial 25 with value: -1.5518486613862699.\u001b[0m\n"
     ]
    },
    {
     "name": "stdout",
     "output_type": "stream",
     "text": [
      "[LightGBM] [Warning] feature_fraction is set=0.5584014632924038, colsample_bytree=0.7 will be ignored. Current value: feature_fraction=0.5584014632924038\n",
      "[LightGBM] [Warning] bagging_fraction is set=0.6255588457994555, subsample=0.6 will be ignored. Current value: bagging_fraction=0.6255588457994555\n",
      "[LightGBM] [Warning] bagging_freq is set=8, subsample_freq=0 will be ignored. Current value: bagging_freq=8\n",
      "Training until validation scores don't improve for 100 rounds\n",
      "[100]\ttraining's l1: 0.800352\tvalid_1's l1: 1.56976\n"
     ]
    },
    {
     "name": "stderr",
     "output_type": "stream",
     "text": [
      "\u001b[32m[I 2021-07-18 17:24:21,664]\u001b[0m Trial 45 finished with value: -1.5658410649555885 and parameters: {'max_depth': 16, 'min_child_weight': 1, 'subsample': 0.6, 'colsample_bytree': 0.7, 'reg_lambda': 0.30829629801990827, 'reg_alpha': 1.9432466958357357, 'feature_fraction': 0.5584014632924038, 'bagging_fraction': 0.6255588457994555, 'bagging_freq': 8, 'num_leaves': 561, 'min_child_samples': 27}. Best is trial 25 with value: -1.5518486613862699.\u001b[0m\n"
     ]
    },
    {
     "name": "stdout",
     "output_type": "stream",
     "text": [
      "Early stopping, best iteration is:\n",
      "[44]\ttraining's l1: 0.857753\tvalid_1's l1: 1.56592\n",
      "[LightGBM] [Warning] feature_fraction is set=0.6412664632553121, colsample_bytree=0.5 will be ignored. Current value: feature_fraction=0.6412664632553121\n",
      "[LightGBM] [Warning] bagging_fraction is set=0.5143751698562503, subsample=0.7 will be ignored. Current value: bagging_fraction=0.5143751698562503\n",
      "[LightGBM] [Warning] bagging_freq is set=5, subsample_freq=0 will be ignored. Current value: bagging_freq=5\n",
      "Training until validation scores don't improve for 100 rounds\n",
      "[100]\ttraining's l1: 0.860305\tvalid_1's l1: 1.56616\n"
     ]
    },
    {
     "name": "stderr",
     "output_type": "stream",
     "text": [
      "\u001b[32m[I 2021-07-18 17:24:29,631]\u001b[0m Trial 46 finished with value: -1.5611786810723054 and parameters: {'max_depth': 14, 'min_child_weight': 3, 'subsample': 0.7, 'colsample_bytree': 0.5, 'reg_lambda': 0.10497707823321192, 'reg_alpha': 69.77062343310253, 'feature_fraction': 0.6412664632553121, 'bagging_fraction': 0.5143751698562503, 'bagging_freq': 5, 'num_leaves': 743, 'min_child_samples': 98}. Best is trial 25 with value: -1.5518486613862699.\u001b[0m\n"
     ]
    },
    {
     "name": "stdout",
     "output_type": "stream",
     "text": [
      "Early stopping, best iteration is:\n",
      "[50]\ttraining's l1: 0.897438\tvalid_1's l1: 1.56124\n",
      "[LightGBM] [Warning] feature_fraction is set=0.4870479043001712, colsample_bytree=0.6 will be ignored. Current value: feature_fraction=0.4870479043001712\n",
      "[LightGBM] [Warning] bagging_fraction is set=0.24216091090472364, subsample=0.6 will be ignored. Current value: bagging_fraction=0.24216091090472364\n",
      "[LightGBM] [Warning] bagging_freq is set=12, subsample_freq=0 will be ignored. Current value: bagging_freq=12\n",
      "Training until validation scores don't improve for 100 rounds\n",
      "[100]\ttraining's l1: 0.987904\tvalid_1's l1: 1.57546\n",
      "[200]\ttraining's l1: 0.978745\tvalid_1's l1: 1.57358\n",
      "[300]\ttraining's l1: 0.972782\tvalid_1's l1: 1.57172\n"
     ]
    },
    {
     "name": "stderr",
     "output_type": "stream",
     "text": [
      "\u001b[32m[I 2021-07-18 17:24:36,495]\u001b[0m Trial 47 finished with value: -1.5710786126422893 and parameters: {'max_depth': 11, 'min_child_weight': 6, 'subsample': 0.6, 'colsample_bytree': 0.6, 'reg_lambda': 7.003016127617674, 'reg_alpha': 527.9902716593054, 'feature_fraction': 0.4870479043001712, 'bagging_fraction': 0.24216091090472364, 'bagging_freq': 12, 'num_leaves': 994, 'min_child_samples': 50}. Best is trial 25 with value: -1.5518486613862699.\u001b[0m\n"
     ]
    },
    {
     "name": "stdout",
     "output_type": "stream",
     "text": [
      "Early stopping, best iteration is:\n",
      "[227]\ttraining's l1: 0.976239\tvalid_1's l1: 1.5711\n",
      "[LightGBM] [Warning] feature_fraction is set=0.8236430773157781, colsample_bytree=0.5 will be ignored. Current value: feature_fraction=0.8236430773157781\n",
      "[LightGBM] [Warning] bagging_fraction is set=0.2984126214034448, subsample=0.7 will be ignored. Current value: bagging_fraction=0.2984126214034448\n",
      "[LightGBM] [Warning] bagging_freq is set=7, subsample_freq=0 will be ignored. Current value: bagging_freq=7\n",
      "Training until validation scores don't improve for 100 rounds\n",
      "[100]\ttraining's l1: 0.890328\tvalid_1's l1: 1.58413\n"
     ]
    },
    {
     "name": "stderr",
     "output_type": "stream",
     "text": [
      "\u001b[32m[I 2021-07-18 17:24:42,734]\u001b[0m Trial 48 finished with value: -1.5641581083624807 and parameters: {'max_depth': 10, 'min_child_weight': 5, 'subsample': 0.7, 'colsample_bytree': 0.5, 'reg_lambda': 0.020340999036590375, 'reg_alpha': 26.551648419596905, 'feature_fraction': 0.8236430773157781, 'bagging_fraction': 0.2984126214034448, 'bagging_freq': 7, 'num_leaves': 918, 'min_child_samples': 57}. Best is trial 25 with value: -1.5518486613862699.\u001b[0m\n"
     ]
    },
    {
     "name": "stdout",
     "output_type": "stream",
     "text": [
      "Early stopping, best iteration is:\n",
      "[73]\ttraining's l1: 0.902993\tvalid_1's l1: 1.56427\n",
      "[LightGBM] [Warning] feature_fraction is set=0.7076575171617129, colsample_bytree=0.6 will be ignored. Current value: feature_fraction=0.7076575171617129\n",
      "[LightGBM] [Warning] bagging_fraction is set=0.43689323965452903, subsample=0.5 will be ignored. Current value: bagging_fraction=0.43689323965452903\n",
      "[LightGBM] [Warning] bagging_freq is set=6, subsample_freq=0 will be ignored. Current value: bagging_freq=6\n",
      "Training until validation scores don't improve for 100 rounds\n",
      "[100]\ttraining's l1: 0.94987\tvalid_1's l1: 1.57447\n",
      "[200]\ttraining's l1: 0.938927\tvalid_1's l1: 1.57294\n",
      "[300]\ttraining's l1: 0.925386\tvalid_1's l1: 1.57449\n"
     ]
    },
    {
     "name": "stderr",
     "output_type": "stream",
     "text": [
      "\u001b[32m[I 2021-07-18 17:24:51,603]\u001b[0m Trial 49 finished with value: -1.5709519019779106 and parameters: {'max_depth': 8, 'min_child_weight': 2, 'subsample': 0.5, 'colsample_bytree': 0.6, 'reg_lambda': 0.7280078679536717, 'reg_alpha': 227.62332265883663, 'feature_fraction': 0.7076575171617129, 'bagging_fraction': 0.43689323965452903, 'bagging_freq': 6, 'num_leaves': 829, 'min_child_samples': 34}. Best is trial 25 with value: -1.5518486613862699.\u001b[0m\n"
     ]
    },
    {
     "name": "stdout",
     "output_type": "stream",
     "text": [
      "Early stopping, best iteration is:\n",
      "[221]\ttraining's l1: 0.93589\tvalid_1's l1: 1.57104\n",
      "[LightGBM] [Warning] feature_fraction is set=0.8831760266691256, colsample_bytree=0.7 will be ignored. Current value: feature_fraction=0.8831760266691256\n",
      "[LightGBM] [Warning] bagging_fraction is set=0.38832222413342143, subsample=0.6 will be ignored. Current value: bagging_fraction=0.38832222413342143\n",
      "[LightGBM] [Warning] bagging_freq is set=10, subsample_freq=0 will be ignored. Current value: bagging_freq=10\n",
      "Training until validation scores don't improve for 100 rounds\n",
      "[100]\ttraining's l1: 0.818785\tvalid_1's l1: 1.5712\n"
     ]
    },
    {
     "name": "stderr",
     "output_type": "stream",
     "text": [
      "\u001b[32m[I 2021-07-18 17:25:04,265]\u001b[0m Trial 50 finished with value: -1.5630070193676555 and parameters: {'max_depth': 16, 'min_child_weight': 9, 'subsample': 0.6, 'colsample_bytree': 0.7, 'reg_lambda': 46.52319917757446, 'reg_alpha': 9.282998600847217, 'feature_fraction': 0.8831760266691256, 'bagging_fraction': 0.38832222413342143, 'bagging_freq': 10, 'num_leaves': 660, 'min_child_samples': 44}. Best is trial 25 with value: -1.5518486613862699.\u001b[0m\n"
     ]
    },
    {
     "name": "stdout",
     "output_type": "stream",
     "text": [
      "Early stopping, best iteration is:\n",
      "[62]\ttraining's l1: 0.841606\tvalid_1's l1: 1.56307\n",
      "[LightGBM] [Warning] feature_fraction is set=0.7531711183115968, colsample_bytree=0.6 will be ignored. Current value: feature_fraction=0.7531711183115968\n",
      "[LightGBM] [Warning] bagging_fraction is set=0.8503024100299913, subsample=0.6 will be ignored. Current value: bagging_fraction=0.8503024100299913\n",
      "[LightGBM] [Warning] bagging_freq is set=3, subsample_freq=0 will be ignored. Current value: bagging_freq=3\n",
      "Training until validation scores don't improve for 100 rounds\n",
      "[100]\ttraining's l1: 0.776153\tvalid_1's l1: 1.55633\n"
     ]
    },
    {
     "name": "stderr",
     "output_type": "stream",
     "text": [
      "\u001b[32m[I 2021-07-18 17:25:18,658]\u001b[0m Trial 51 finished with value: -1.551005200546822 and parameters: {'max_depth': 19, 'min_child_weight': 5, 'subsample': 0.6, 'colsample_bytree': 0.6, 'reg_lambda': 0.03622743827821988, 'reg_alpha': 0.07642923505268762, 'feature_fraction': 0.7531711183115968, 'bagging_fraction': 0.8503024100299913, 'bagging_freq': 3, 'num_leaves': 608, 'min_child_samples': 28}. Best is trial 51 with value: -1.551005200546822.\u001b[0m\n"
     ]
    },
    {
     "name": "stdout",
     "output_type": "stream",
     "text": [
      "Early stopping, best iteration is:\n",
      "[59]\ttraining's l1: 0.817261\tvalid_1's l1: 1.55129\n",
      "[LightGBM] [Warning] feature_fraction is set=0.941923990036824, colsample_bytree=0.7 will be ignored. Current value: feature_fraction=0.941923990036824\n",
      "[LightGBM] [Warning] bagging_fraction is set=0.9821328840503847, subsample=0.6 will be ignored. Current value: bagging_fraction=0.9821328840503847\n",
      "[LightGBM] [Warning] bagging_freq is set=4, subsample_freq=0 will be ignored. Current value: bagging_freq=4\n",
      "Training until validation scores don't improve for 100 rounds\n",
      "[100]\ttraining's l1: 0.778224\tvalid_1's l1: 1.57972\n"
     ]
    },
    {
     "name": "stderr",
     "output_type": "stream",
     "text": [
      "\u001b[32m[I 2021-07-18 17:25:35,660]\u001b[0m Trial 52 finished with value: -1.5613729321287653 and parameters: {'max_depth': 18, 'min_child_weight': 7, 'subsample': 0.6, 'colsample_bytree': 0.7, 'reg_lambda': 0.06269501811545124, 'reg_alpha': 0.028502949032273895, 'feature_fraction': 0.941923990036824, 'bagging_fraction': 0.9821328840503847, 'bagging_freq': 4, 'num_leaves': 587, 'min_child_samples': 6}. Best is trial 51 with value: -1.551005200546822.\u001b[0m\n"
     ]
    },
    {
     "name": "stdout",
     "output_type": "stream",
     "text": [
      "Early stopping, best iteration is:\n",
      "[54]\ttraining's l1: 0.829151\tvalid_1's l1: 1.56143\n",
      "[LightGBM] [Warning] feature_fraction is set=0.8415320086052644, colsample_bytree=0.5 will be ignored. Current value: feature_fraction=0.8415320086052644\n",
      "[LightGBM] [Warning] bagging_fraction is set=0.8584181415737904, subsample=0.6 will be ignored. Current value: bagging_fraction=0.8584181415737904\n",
      "[LightGBM] [Warning] bagging_freq is set=8, subsample_freq=0 will be ignored. Current value: bagging_freq=8\n",
      "Training until validation scores don't improve for 100 rounds\n",
      "[100]\ttraining's l1: 1.02533\tvalid_1's l1: 1.59666\n",
      "[200]\ttraining's l1: 1.01338\tvalid_1's l1: 1.58708\n",
      "[300]\ttraining's l1: 1.00879\tvalid_1's l1: 1.58577\n",
      "[400]\ttraining's l1: 1.00318\tvalid_1's l1: 1.58149\n",
      "[500]\ttraining's l1: 0.998424\tvalid_1's l1: 1.57987\n",
      "[600]\ttraining's l1: 0.992711\tvalid_1's l1: 1.57883\n",
      "[700]\ttraining's l1: 0.986533\tvalid_1's l1: 1.57722\n",
      "[800]\ttraining's l1: 0.981081\tvalid_1's l1: 1.57345\n",
      "[900]\ttraining's l1: 0.975928\tvalid_1's l1: 1.57336\n"
     ]
    },
    {
     "name": "stderr",
     "output_type": "stream",
     "text": [
      "\u001b[32m[I 2021-07-18 17:25:59,776]\u001b[0m Trial 53 finished with value: -1.5724923190615734 and parameters: {'max_depth': 4, 'min_child_weight': 5, 'subsample': 0.6, 'colsample_bytree': 0.5, 'reg_lambda': 0.0029241912914120733, 'reg_alpha': 0.2332057130647067, 'feature_fraction': 0.8415320086052644, 'bagging_fraction': 0.8584181415737904, 'bagging_freq': 8, 'num_leaves': 604, 'min_child_samples': 21}. Best is trial 51 with value: -1.551005200546822.\u001b[0m\n"
     ]
    },
    {
     "name": "stdout",
     "output_type": "stream",
     "text": [
      "Early stopping, best iteration is:\n",
      "[814]\ttraining's l1: 0.980055\tvalid_1's l1: 1.57291\n",
      "[LightGBM] [Warning] feature_fraction is set=0.7958917448626588, colsample_bytree=0.8 will be ignored. Current value: feature_fraction=0.7958917448626588\n",
      "[LightGBM] [Warning] bagging_fraction is set=0.47974484677104967, subsample=0.5 will be ignored. Current value: bagging_fraction=0.47974484677104967\n",
      "[LightGBM] [Warning] bagging_freq is set=9, subsample_freq=0 will be ignored. Current value: bagging_freq=9\n",
      "Training until validation scores don't improve for 100 rounds\n",
      "[100]\ttraining's l1: 0.815394\tvalid_1's l1: 1.57597\n"
     ]
    },
    {
     "name": "stderr",
     "output_type": "stream",
     "text": [
      "\u001b[32m[I 2021-07-18 17:26:09,777]\u001b[0m Trial 54 finished with value: -1.560339341056881 and parameters: {'max_depth': 13, 'min_child_weight': 4, 'subsample': 0.5, 'colsample_bytree': 0.8, 'reg_lambda': 0.16691739348008133, 'reg_alpha': 0.10854486086895176, 'feature_fraction': 0.7958917448626588, 'bagging_fraction': 0.47974484677104967, 'bagging_freq': 9, 'num_leaves': 519, 'min_child_samples': 29}. Best is trial 51 with value: -1.551005200546822.\u001b[0m\n"
     ]
    },
    {
     "name": "stdout",
     "output_type": "stream",
     "text": [
      "Early stopping, best iteration is:\n",
      "[62]\ttraining's l1: 0.854703\tvalid_1's l1: 1.56044\n",
      "[LightGBM] [Warning] feature_fraction is set=0.742892087363718, colsample_bytree=0.5 will be ignored. Current value: feature_fraction=0.742892087363718\n",
      "[LightGBM] [Warning] bagging_fraction is set=0.7579584220875437, subsample=0.6 will be ignored. Current value: bagging_fraction=0.7579584220875437\n",
      "[LightGBM] [Warning] bagging_freq is set=5, subsample_freq=0 will be ignored. Current value: bagging_freq=5\n",
      "Training until validation scores don't improve for 100 rounds\n",
      "[100]\ttraining's l1: 1.02245\tvalid_1's l1: 1.5942\n",
      "[200]\ttraining's l1: 1.01379\tvalid_1's l1: 1.58963\n",
      "[300]\ttraining's l1: 0.993186\tvalid_1's l1: 1.5828\n",
      "[400]\ttraining's l1: 0.980724\tvalid_1's l1: 1.57895\n",
      "[500]\ttraining's l1: 0.965509\tvalid_1's l1: 1.57524\n",
      "[600]\ttraining's l1: 0.956351\tvalid_1's l1: 1.57267\n",
      "[700]\ttraining's l1: 0.945305\tvalid_1's l1: 1.57059\n",
      "[800]\ttraining's l1: 0.93457\tvalid_1's l1: 1.569\n",
      "[900]\ttraining's l1: 0.922453\tvalid_1's l1: 1.56722\n",
      "[1000]\ttraining's l1: 0.91318\tvalid_1's l1: 1.56747\n",
      "[1100]\ttraining's l1: 0.906287\tvalid_1's l1: 1.56635\n"
     ]
    },
    {
     "name": "stderr",
     "output_type": "stream",
     "text": [
      "\u001b[32m[I 2021-07-18 17:26:39,575]\u001b[0m Trial 55 finished with value: -1.565157676441985 and parameters: {'max_depth': 19, 'min_child_weight': 8, 'subsample': 0.6, 'colsample_bytree': 0.5, 'reg_lambda': 1.3546189831469546, 'reg_alpha': 0.06492475675957211, 'feature_fraction': 0.742892087363718, 'bagging_fraction': 0.7579584220875437, 'bagging_freq': 5, 'num_leaves': 18, 'min_child_samples': 38}. Best is trial 51 with value: -1.551005200546822.\u001b[0m\n"
     ]
    },
    {
     "name": "stdout",
     "output_type": "stream",
     "text": [
      "Early stopping, best iteration is:\n",
      "[1035]\ttraining's l1: 0.909045\tvalid_1's l1: 1.56566\n",
      "[LightGBM] [Warning] feature_fraction is set=0.8831921999468031, colsample_bytree=0.6 will be ignored. Current value: feature_fraction=0.8831921999468031\n",
      "[LightGBM] [Warning] bagging_fraction is set=0.5544515758662828, subsample=0.6 will be ignored. Current value: bagging_fraction=0.5544515758662828\n",
      "[LightGBM] [Warning] bagging_freq is set=2, subsample_freq=0 will be ignored. Current value: bagging_freq=2\n",
      "Training until validation scores don't improve for 100 rounds\n",
      "[100]\ttraining's l1: 0.862469\tvalid_1's l1: 1.55057\n"
     ]
    },
    {
     "name": "stderr",
     "output_type": "stream",
     "text": [
      "\u001b[32m[I 2021-07-18 17:26:51,296]\u001b[0m Trial 56 finished with value: -1.5476468378904322 and parameters: {'max_depth': 10, 'min_child_weight': 6, 'subsample': 0.6, 'colsample_bytree': 0.6, 'reg_lambda': 0.029502383251106608, 'reg_alpha': 0.6801999982110508, 'feature_fraction': 0.8831921999468031, 'bagging_fraction': 0.5544515758662828, 'bagging_freq': 2, 'num_leaves': 746, 'min_child_samples': 33}. Best is trial 56 with value: -1.5476468378904322.\u001b[0m\n"
     ]
    },
    {
     "name": "stdout",
     "output_type": "stream",
     "text": [
      "Early stopping, best iteration is:\n",
      "[79]\ttraining's l1: 0.868506\tvalid_1's l1: 1.54784\n",
      "[LightGBM] [Warning] feature_fraction is set=0.8898857171940127, colsample_bytree=0.6 will be ignored. Current value: feature_fraction=0.8898857171940127\n",
      "[LightGBM] [Warning] bagging_fraction is set=0.4842503256517297, subsample=0.7 will be ignored. Current value: bagging_fraction=0.4842503256517297\n",
      "[LightGBM] [Warning] bagging_freq is set=2, subsample_freq=0 will be ignored. Current value: bagging_freq=2\n",
      "Training until validation scores don't improve for 100 rounds\n",
      "[100]\ttraining's l1: 0.906578\tvalid_1's l1: 1.56728\n",
      "[200]\ttraining's l1: 0.896084\tvalid_1's l1: 1.56551\n"
     ]
    },
    {
     "name": "stderr",
     "output_type": "stream",
     "text": [
      "\u001b[32m[I 2021-07-18 17:27:02,174]\u001b[0m Trial 57 finished with value: -1.5639148611141278 and parameters: {'max_depth': 8, 'min_child_weight': 6, 'subsample': 0.7, 'colsample_bytree': 0.6, 'reg_lambda': 0.02967819010541765, 'reg_alpha': 0.5188249720240906, 'feature_fraction': 0.8898857171940127, 'bagging_fraction': 0.4842503256517297, 'bagging_freq': 2, 'num_leaves': 762, 'min_child_samples': 32}. Best is trial 56 with value: -1.5476468378904322.\u001b[0m\n"
     ]
    },
    {
     "name": "stdout",
     "output_type": "stream",
     "text": [
      "Early stopping, best iteration is:\n",
      "[131]\ttraining's l1: 0.900043\tvalid_1's l1: 1.56422\n",
      "[LightGBM] [Warning] feature_fraction is set=0.9517276354102719, colsample_bytree=0.6 will be ignored. Current value: feature_fraction=0.9517276354102719\n",
      "[LightGBM] [Warning] bagging_fraction is set=0.35756303019621766, subsample=0.6 will be ignored. Current value: bagging_fraction=0.35756303019621766\n",
      "[LightGBM] [Warning] bagging_freq is set=2, subsample_freq=0 will be ignored. Current value: bagging_freq=2\n",
      "Training until validation scores don't improve for 100 rounds\n",
      "[100]\ttraining's l1: 0.858976\tvalid_1's l1: 1.56397\n"
     ]
    },
    {
     "name": "stderr",
     "output_type": "stream",
     "text": [
      "\u001b[32m[I 2021-07-18 17:27:12,132]\u001b[0m Trial 58 finished with value: -1.5532680628799045 and parameters: {'max_depth': 10, 'min_child_weight': 8, 'subsample': 0.6, 'colsample_bytree': 0.6, 'reg_lambda': 0.010529588779318052, 'reg_alpha': 1.3990006561221702, 'feature_fraction': 0.9517276354102719, 'bagging_fraction': 0.35756303019621766, 'bagging_freq': 2, 'num_leaves': 696, 'min_child_samples': 24}. Best is trial 56 with value: -1.5476468378904322.\u001b[0m\n"
     ]
    },
    {
     "name": "stdout",
     "output_type": "stream",
     "text": [
      "Early stopping, best iteration is:\n",
      "[77]\ttraining's l1: 0.874362\tvalid_1's l1: 1.55342\n",
      "[LightGBM] [Warning] feature_fraction is set=0.9656124853815412, colsample_bytree=0.7 will be ignored. Current value: feature_fraction=0.9656124853815412\n",
      "[LightGBM] [Warning] bagging_fraction is set=0.34122036875864764, subsample=0.6 will be ignored. Current value: bagging_fraction=0.34122036875864764\n",
      "[LightGBM] [Warning] bagging_freq is set=2, subsample_freq=0 will be ignored. Current value: bagging_freq=2\n",
      "Training until validation scores don't improve for 100 rounds\n",
      "[100]\ttraining's l1: 0.938121\tvalid_1's l1: 1.56416\n",
      "[200]\ttraining's l1: 0.90964\tvalid_1's l1: 1.5592\n"
     ]
    },
    {
     "name": "stderr",
     "output_type": "stream",
     "text": [
      "\u001b[32m[I 2021-07-18 17:27:21,280]\u001b[0m Trial 59 finished with value: -1.557270795336109 and parameters: {'max_depth': 7, 'min_child_weight': 8, 'subsample': 0.6, 'colsample_bytree': 0.7, 'reg_lambda': 0.01047906899660816, 'reg_alpha': 2.259156913891949, 'feature_fraction': 0.9656124853815412, 'bagging_fraction': 0.34122036875864764, 'bagging_freq': 2, 'num_leaves': 687, 'min_child_samples': 16}. Best is trial 56 with value: -1.5476468378904322.\u001b[0m\n"
     ]
    },
    {
     "name": "stdout",
     "output_type": "stream",
     "text": [
      "Early stopping, best iteration is:\n",
      "[170]\ttraining's l1: 0.915259\tvalid_1's l1: 1.5574\n",
      "[LightGBM] [Warning] feature_fraction is set=0.9998613672912591, colsample_bytree=0.6 will be ignored. Current value: feature_fraction=0.9998613672912591\n",
      "[LightGBM] [Warning] bagging_fraction is set=0.28891501531127806, subsample=0.6 will be ignored. Current value: bagging_fraction=0.28891501531127806\n",
      "[LightGBM] [Warning] bagging_freq is set=3, subsample_freq=0 will be ignored. Current value: bagging_freq=3\n",
      "Training until validation scores don't improve for 100 rounds\n",
      "[100]\ttraining's l1: 0.87088\tvalid_1's l1: 1.56409\n"
     ]
    },
    {
     "name": "stderr",
     "output_type": "stream",
     "text": [
      "\u001b[32m[I 2021-07-18 17:27:29,586]\u001b[0m Trial 60 finished with value: -1.5609496534774092 and parameters: {'max_depth': 10, 'min_child_weight': 11, 'subsample': 0.6, 'colsample_bytree': 0.6, 'reg_lambda': 0.0011328016113180783, 'reg_alpha': 0.7298942273604607, 'feature_fraction': 0.9998613672912591, 'bagging_fraction': 0.28891501531127806, 'bagging_freq': 3, 'num_leaves': 867, 'min_child_samples': 24}. Best is trial 56 with value: -1.5476468378904322.\u001b[0m\n"
     ]
    },
    {
     "name": "stdout",
     "output_type": "stream",
     "text": [
      "Early stopping, best iteration is:\n",
      "[68]\ttraining's l1: 0.892084\tvalid_1's l1: 1.56101\n",
      "[LightGBM] [Warning] feature_fraction is set=0.8515484645205003, colsample_bytree=0.6 will be ignored. Current value: feature_fraction=0.8515484645205003\n",
      "[LightGBM] [Warning] bagging_fraction is set=0.3636652090212121, subsample=0.6 will be ignored. Current value: bagging_fraction=0.3636652090212121\n",
      "[LightGBM] [Warning] bagging_freq is set=4, subsample_freq=0 will be ignored. Current value: bagging_freq=4\n",
      "Training until validation scores don't improve for 100 rounds\n",
      "[100]\ttraining's l1: 0.886975\tvalid_1's l1: 1.5613\n",
      "[200]\ttraining's l1: 0.856737\tvalid_1's l1: 1.5661\n"
     ]
    },
    {
     "name": "stderr",
     "output_type": "stream",
     "text": [
      "\u001b[32m[I 2021-07-18 17:27:38,570]\u001b[0m Trial 61 finished with value: -1.559246372239402 and parameters: {'max_depth': 9, 'min_child_weight': 7, 'subsample': 0.6, 'colsample_bytree': 0.6, 'reg_lambda': 0.005033602114986212, 'reg_alpha': 0.027430032351687218, 'feature_fraction': 0.8515484645205003, 'bagging_fraction': 0.3636652090212121, 'bagging_freq': 4, 'num_leaves': 811, 'min_child_samples': 19}. Best is trial 56 with value: -1.5476468378904322.\u001b[0m\n"
     ]
    },
    {
     "name": "stdout",
     "output_type": "stream",
     "text": [
      "Early stopping, best iteration is:\n",
      "[134]\ttraining's l1: 0.875233\tvalid_1's l1: 1.55939\n",
      "[LightGBM] [Warning] feature_fraction is set=0.9418684444328062, colsample_bytree=0.6 will be ignored. Current value: feature_fraction=0.9418684444328062\n",
      "[LightGBM] [Warning] bagging_fraction is set=0.42969234682192964, subsample=0.5 will be ignored. Current value: bagging_fraction=0.42969234682192964\n",
      "[LightGBM] [Warning] bagging_freq is set=2, subsample_freq=0 will be ignored. Current value: bagging_freq=2\n",
      "Training until validation scores don't improve for 100 rounds\n",
      "[100]\ttraining's l1: 0.834686\tvalid_1's l1: 1.56974\n"
     ]
    },
    {
     "name": "stderr",
     "output_type": "stream",
     "text": [
      "\u001b[32m[I 2021-07-18 17:27:51,438]\u001b[0m Trial 62 finished with value: -1.5578409131057847 and parameters: {'max_depth': 11, 'min_child_weight': 5, 'subsample': 0.5, 'colsample_bytree': 0.6, 'reg_lambda': 0.04955271614883296, 'reg_alpha': 0.2825241982392731, 'feature_fraction': 0.9418684444328062, 'bagging_fraction': 0.42969234682192964, 'bagging_freq': 2, 'num_leaves': 714, 'min_child_samples': 29}. Best is trial 56 with value: -1.5476468378904322.\u001b[0m\n"
     ]
    },
    {
     "name": "stdout",
     "output_type": "stream",
     "text": [
      "Early stopping, best iteration is:\n",
      "[90]\ttraining's l1: 0.842113\tvalid_1's l1: 1.55796\n",
      "[LightGBM] [Warning] feature_fraction is set=0.8897763154874532, colsample_bytree=0.6 will be ignored. Current value: feature_fraction=0.8897763154874532\n",
      "[LightGBM] [Warning] bagging_fraction is set=0.3167845314467421, subsample=0.6 will be ignored. Current value: bagging_fraction=0.3167845314467421\n",
      "[LightGBM] [Warning] bagging_freq is set=3, subsample_freq=0 will be ignored. Current value: bagging_freq=3\n",
      "Training until validation scores don't improve for 100 rounds\n",
      "[100]\ttraining's l1: 0.860053\tvalid_1's l1: 1.56849\n"
     ]
    },
    {
     "name": "stderr",
     "output_type": "stream",
     "text": [
      "\u001b[32m[I 2021-07-18 17:27:59,436]\u001b[0m Trial 63 finished with value: -1.5656589514560344 and parameters: {'max_depth': 10, 'min_child_weight': 6, 'subsample': 0.6, 'colsample_bytree': 0.6, 'reg_lambda': 0.012615041525752824, 'reg_alpha': 0.006983630494473057, 'feature_fraction': 0.8897763154874532, 'bagging_fraction': 0.3167845314467421, 'bagging_freq': 3, 'num_leaves': 743, 'min_child_samples': 33}. Best is trial 56 with value: -1.5476468378904322.\u001b[0m\n"
     ]
    },
    {
     "name": "stdout",
     "output_type": "stream",
     "text": [
      "Early stopping, best iteration is:\n",
      "[55]\ttraining's l1: 0.893963\tvalid_1's l1: 1.56573\n",
      "[LightGBM] [Warning] feature_fraction is set=0.792727010920033, colsample_bytree=0.6 will be ignored. Current value: feature_fraction=0.792727010920033\n",
      "[LightGBM] [Warning] bagging_fraction is set=0.5620353986573813, subsample=0.6 will be ignored. Current value: bagging_fraction=0.5620353986573813\n",
      "[LightGBM] [Warning] bagging_freq is set=2, subsample_freq=0 will be ignored. Current value: bagging_freq=2\n",
      "Training until validation scores don't improve for 100 rounds\n",
      "[100]\ttraining's l1: 0.816408\tvalid_1's l1: 1.55131\n"
     ]
    },
    {
     "name": "stderr",
     "output_type": "stream",
     "text": [
      "\u001b[32m[I 2021-07-18 17:28:11,434]\u001b[0m Trial 64 finished with value: -1.5408970069814598 and parameters: {'max_depth': 12, 'min_child_weight': 8, 'subsample': 0.6, 'colsample_bytree': 0.6, 'reg_lambda': 0.02614620036703161, 'reg_alpha': 0.9696800599324547, 'feature_fraction': 0.792727010920033, 'bagging_fraction': 0.5620353986573813, 'bagging_freq': 2, 'num_leaves': 613, 'min_child_samples': 42}. Best is trial 64 with value: -1.5408970069814598.\u001b[0m\n"
     ]
    },
    {
     "name": "stdout",
     "output_type": "stream",
     "text": [
      "Early stopping, best iteration is:\n",
      "[69]\ttraining's l1: 0.847108\tvalid_1's l1: 1.54094\n",
      "[LightGBM] [Warning] feature_fraction is set=0.7959651138760305, colsample_bytree=0.6 will be ignored. Current value: feature_fraction=0.7959651138760305\n",
      "[LightGBM] [Warning] bagging_fraction is set=0.5556754334411561, subsample=0.6 will be ignored. Current value: bagging_fraction=0.5556754334411561\n",
      "[LightGBM] [Warning] bagging_freq is set=1, subsample_freq=0 will be ignored. Current value: bagging_freq=1\n",
      "Training until validation scores don't improve for 100 rounds\n",
      "[100]\ttraining's l1: 0.940697\tvalid_1's l1: 1.56565\n",
      "[200]\ttraining's l1: 0.932783\tvalid_1's l1: 1.56506\n"
     ]
    },
    {
     "name": "stderr",
     "output_type": "stream",
     "text": [
      "\u001b[32m[I 2021-07-18 17:28:18,226]\u001b[0m Trial 65 finished with value: -1.5643222107512065 and parameters: {'max_depth': 7, 'min_child_weight': 8, 'subsample': 0.6, 'colsample_bytree': 0.6, 'reg_lambda': 0.02337173467966119, 'reg_alpha': 1.4959417187589061, 'feature_fraction': 0.7959651138760305, 'bagging_fraction': 0.5556754334411561, 'bagging_freq': 1, 'num_leaves': 635, 'min_child_samples': 10}. Best is trial 64 with value: -1.5408970069814598.\u001b[0m\n"
     ]
    },
    {
     "name": "stdout",
     "output_type": "stream",
     "text": [
      "Early stopping, best iteration is:\n",
      "[112]\ttraining's l1: 0.937744\tvalid_1's l1: 1.56461\n",
      "[LightGBM] [Warning] feature_fraction is set=0.7355135693218791, colsample_bytree=0.6 will be ignored. Current value: feature_fraction=0.7355135693218791\n",
      "[LightGBM] [Warning] bagging_fraction is set=0.6146375560372412, subsample=0.6 will be ignored. Current value: bagging_fraction=0.6146375560372412\n",
      "[LightGBM] [Warning] bagging_freq is set=3, subsample_freq=0 will be ignored. Current value: bagging_freq=3\n",
      "Training until validation scores don't improve for 100 rounds\n",
      "[100]\ttraining's l1: 0.83793\tvalid_1's l1: 1.56633\n"
     ]
    },
    {
     "name": "stderr",
     "output_type": "stream",
     "text": [
      "\u001b[32m[I 2021-07-18 17:28:29,196]\u001b[0m Trial 66 finished with value: -1.5649117208236647 and parameters: {'max_depth': 11, 'min_child_weight': 9, 'subsample': 0.6, 'colsample_bytree': 0.6, 'reg_lambda': 0.006309639285149039, 'reg_alpha': 1.1195364688017588, 'feature_fraction': 0.7355135693218791, 'bagging_fraction': 0.6146375560372412, 'bagging_freq': 3, 'num_leaves': 616, 'min_child_samples': 37}. Best is trial 64 with value: -1.5408970069814598.\u001b[0m\n"
     ]
    },
    {
     "name": "stdout",
     "output_type": "stream",
     "text": [
      "Early stopping, best iteration is:\n",
      "[78]\ttraining's l1: 0.846052\tvalid_1's l1: 1.56505\n",
      "[LightGBM] [Warning] feature_fraction is set=0.684352560508626, colsample_bytree=0.7 will be ignored. Current value: feature_fraction=0.684352560508626\n",
      "[LightGBM] [Warning] bagging_fraction is set=0.5799320763724334, subsample=0.6 will be ignored. Current value: bagging_fraction=0.5799320763724334\n",
      "[LightGBM] [Warning] bagging_freq is set=2, subsample_freq=0 will be ignored. Current value: bagging_freq=2\n",
      "Training until validation scores don't improve for 100 rounds\n",
      "[100]\ttraining's l1: 0.814924\tvalid_1's l1: 1.5732\n"
     ]
    },
    {
     "name": "stderr",
     "output_type": "stream",
     "text": [
      "\u001b[32m[I 2021-07-18 17:28:40,287]\u001b[0m Trial 67 finished with value: -1.558912126062531 and parameters: {'max_depth': 12, 'min_child_weight': 10, 'subsample': 0.6, 'colsample_bytree': 0.7, 'reg_lambda': 0.002664207574416539, 'reg_alpha': 0.13685075818537304, 'feature_fraction': 0.684352560508626, 'bagging_fraction': 0.5799320763724334, 'bagging_freq': 2, 'num_leaves': 657, 'min_child_samples': 25}. Best is trial 64 with value: -1.5408970069814598.\u001b[0m\n"
     ]
    },
    {
     "name": "stdout",
     "output_type": "stream",
     "text": [
      "Early stopping, best iteration is:\n",
      "[50]\ttraining's l1: 0.865925\tvalid_1's l1: 1.55894\n",
      "[LightGBM] [Warning] feature_fraction is set=0.820371778677962, colsample_bytree=0.6 will be ignored. Current value: feature_fraction=0.820371778677962\n",
      "[LightGBM] [Warning] bagging_fraction is set=0.6607766980958081, subsample=0.5 will be ignored. Current value: bagging_fraction=0.6607766980958081\n",
      "[LightGBM] [Warning] bagging_freq is set=19, subsample_freq=0 will be ignored. Current value: bagging_freq=19\n",
      "Training until validation scores don't improve for 100 rounds\n",
      "[100]\ttraining's l1: 0.853671\tvalid_1's l1: 1.56248\n"
     ]
    },
    {
     "name": "stderr",
     "output_type": "stream",
     "text": [
      "\u001b[32m[I 2021-07-18 17:28:50,194]\u001b[0m Trial 68 finished with value: -1.5584156311303177 and parameters: {'max_depth': 10, 'min_child_weight': 11, 'subsample': 0.5, 'colsample_bytree': 0.6, 'reg_lambda': 0.016142151529305596, 'reg_alpha': 3.1338784414259835, 'feature_fraction': 0.820371778677962, 'bagging_fraction': 0.6607766980958081, 'bagging_freq': 19, 'num_leaves': 544, 'min_child_samples': 29}. Best is trial 64 with value: -1.5408970069814598.\u001b[0m\n"
     ]
    },
    {
     "name": "stdout",
     "output_type": "stream",
     "text": [
      "Early stopping, best iteration is:\n",
      "[90]\ttraining's l1: 0.857593\tvalid_1's l1: 1.55852\n",
      "[LightGBM] [Warning] feature_fraction is set=0.7789429130248832, colsample_bytree=0.6 will be ignored. Current value: feature_fraction=0.7789429130248832\n",
      "[LightGBM] [Warning] bagging_fraction is set=0.5074538031006574, subsample=0.6 will be ignored. Current value: bagging_fraction=0.5074538031006574\n",
      "[LightGBM] [Warning] bagging_freq is set=1, subsample_freq=0 will be ignored. Current value: bagging_freq=1\n",
      "Training until validation scores don't improve for 100 rounds\n",
      "[100]\ttraining's l1: 0.914292\tvalid_1's l1: 1.56309\n",
      "[200]\ttraining's l1: 0.902197\tvalid_1's l1: 1.55992\n",
      "[300]\ttraining's l1: 0.88266\tvalid_1's l1: 1.55858\n"
     ]
    },
    {
     "name": "stderr",
     "output_type": "stream",
     "text": [
      "\u001b[32m[I 2021-07-18 17:29:02,639]\u001b[0m Trial 69 finished with value: -1.5583557532486016 and parameters: {'max_depth': 8, 'min_child_weight': 4, 'subsample': 0.6, 'colsample_bytree': 0.6, 'reg_lambda': 0.040298029739950884, 'reg_alpha': 0.4597369338650734, 'feature_fraction': 0.7789429130248832, 'bagging_fraction': 0.5074538031006574, 'bagging_freq': 1, 'num_leaves': 706, 'min_child_samples': 43}. Best is trial 64 with value: -1.5408970069814598.\u001b[0m\n"
     ]
    },
    {
     "name": "stdout",
     "output_type": "stream",
     "text": [
      "Early stopping, best iteration is:\n",
      "[298]\ttraining's l1: 0.882927\tvalid_1's l1: 1.55851\n",
      "[LightGBM] [Warning] feature_fraction is set=0.839808408516295, colsample_bytree=0.6 will be ignored. Current value: feature_fraction=0.839808408516295\n",
      "[LightGBM] [Warning] bagging_fraction is set=0.5551023340843795, subsample=0.6 will be ignored. Current value: bagging_fraction=0.5551023340843795\n",
      "[LightGBM] [Warning] bagging_freq is set=4, subsample_freq=0 will be ignored. Current value: bagging_freq=4\n",
      "Training until validation scores don't improve for 100 rounds\n",
      "[100]\ttraining's l1: 0.881698\tvalid_1's l1: 1.55815\n"
     ]
    },
    {
     "name": "stderr",
     "output_type": "stream",
     "text": [
      "\u001b[32m[I 2021-07-18 17:29:11,463]\u001b[0m Trial 70 finished with value: -1.5536659658293157 and parameters: {'max_depth': 9, 'min_child_weight': 3, 'subsample': 0.6, 'colsample_bytree': 0.6, 'reg_lambda': 0.07823744035460124, 'reg_alpha': 0.08635076917449819, 'feature_fraction': 0.839808408516295, 'bagging_fraction': 0.5551023340843795, 'bagging_freq': 4, 'num_leaves': 961, 'min_child_samples': 22}. Best is trial 64 with value: -1.5408970069814598.\u001b[0m\n"
     ]
    },
    {
     "name": "stdout",
     "output_type": "stream",
     "text": [
      "Early stopping, best iteration is:\n",
      "[82]\ttraining's l1: 0.889127\tvalid_1's l1: 1.55374\n",
      "[LightGBM] [Warning] feature_fraction is set=0.871638773249022, colsample_bytree=0.6 will be ignored. Current value: feature_fraction=0.871638773249022\n",
      "[LightGBM] [Warning] bagging_fraction is set=0.5978328164071287, subsample=0.6 will be ignored. Current value: bagging_fraction=0.5978328164071287\n",
      "[LightGBM] [Warning] bagging_freq is set=2, subsample_freq=0 will be ignored. Current value: bagging_freq=2\n",
      "Training until validation scores don't improve for 100 rounds\n",
      "[100]\ttraining's l1: 0.888285\tvalid_1's l1: 1.56242\n"
     ]
    },
    {
     "name": "stderr",
     "output_type": "stream",
     "text": [
      "\u001b[32m[I 2021-07-18 17:29:22,753]\u001b[0m Trial 71 finished with value: -1.5586092514679173 and parameters: {'max_depth': 9, 'min_child_weight': 3, 'subsample': 0.6, 'colsample_bytree': 0.6, 'reg_lambda': 0.09223728544401524, 'reg_alpha': 0.07653757102526214, 'feature_fraction': 0.871638773249022, 'bagging_fraction': 0.5978328164071287, 'bagging_freq': 2, 'num_leaves': 954, 'min_child_samples': 22}. Best is trial 64 with value: -1.5408970069814598.\u001b[0m\n"
     ]
    },
    {
     "name": "stdout",
     "output_type": "stream",
     "text": [
      "Early stopping, best iteration is:\n",
      "[91]\ttraining's l1: 0.893129\tvalid_1's l1: 1.55869\n",
      "[LightGBM] [Warning] feature_fraction is set=0.8466967507527403, colsample_bytree=0.6 will be ignored. Current value: feature_fraction=0.8466967507527403\n",
      "[LightGBM] [Warning] bagging_fraction is set=0.5458242502317943, subsample=0.6 will be ignored. Current value: bagging_fraction=0.5458242502317943\n",
      "[LightGBM] [Warning] bagging_freq is set=4, subsample_freq=0 will be ignored. Current value: bagging_freq=4\n",
      "Training until validation scores don't improve for 100 rounds\n",
      "[100]\ttraining's l1: 0.844812\tvalid_1's l1: 1.58054\n"
     ]
    },
    {
     "name": "stderr",
     "output_type": "stream",
     "text": [
      "\u001b[32m[I 2021-07-18 17:29:32,119]\u001b[0m Trial 72 finished with value: -1.564842523016744 and parameters: {'max_depth': 10, 'min_child_weight': 4, 'subsample': 0.6, 'colsample_bytree': 0.6, 'reg_lambda': 0.14375977463280695, 'reg_alpha': 0.012073817696501428, 'feature_fraction': 0.8466967507527403, 'bagging_fraction': 0.5458242502317943, 'bagging_freq': 4, 'num_leaves': 968, 'min_child_samples': 18}. Best is trial 64 with value: -1.5408970069814598.\u001b[0m\n"
     ]
    },
    {
     "name": "stdout",
     "output_type": "stream",
     "text": [
      "Early stopping, best iteration is:\n",
      "[58]\ttraining's l1: 0.887209\tvalid_1's l1: 1.56487\n",
      "[LightGBM] [Warning] feature_fraction is set=0.9072228711017541, colsample_bytree=0.6 will be ignored. Current value: feature_fraction=0.9072228711017541\n",
      "[LightGBM] [Warning] bagging_fraction is set=0.6627970393610569, subsample=0.6 will be ignored. Current value: bagging_fraction=0.6627970393610569\n",
      "[LightGBM] [Warning] bagging_freq is set=4, subsample_freq=0 will be ignored. Current value: bagging_freq=4\n",
      "Training until validation scores don't improve for 100 rounds\n",
      "[100]\ttraining's l1: 0.969098\tvalid_1's l1: 1.57105\n",
      "[200]\ttraining's l1: 0.960646\tvalid_1's l1: 1.56929\n",
      "[300]\ttraining's l1: 0.954093\tvalid_1's l1: 1.5683\n",
      "[400]\ttraining's l1: 0.952386\tvalid_1's l1: 1.56825\n"
     ]
    },
    {
     "name": "stderr",
     "output_type": "stream",
     "text": [
      "\u001b[32m[I 2021-07-18 17:29:46,229]\u001b[0m Trial 73 finished with value: -1.5677871515020327 and parameters: {'max_depth': 6, 'min_child_weight': 5, 'subsample': 0.6, 'colsample_bytree': 0.6, 'reg_lambda': 0.0658701122753779, 'reg_alpha': 0.29247903680686915, 'feature_fraction': 0.9072228711017541, 'bagging_fraction': 0.6627970393610569, 'bagging_freq': 4, 'num_leaves': 896, 'min_child_samples': 33}. Best is trial 64 with value: -1.5408970069814598.\u001b[0m\n"
     ]
    },
    {
     "name": "stdout",
     "output_type": "stream",
     "text": [
      "Early stopping, best iteration is:\n",
      "[329]\ttraining's l1: 0.953284\tvalid_1's l1: 1.56795\n",
      "[LightGBM] [Warning] feature_fraction is set=0.8283218200943057, colsample_bytree=0.6 will be ignored. Current value: feature_fraction=0.8283218200943057\n",
      "[LightGBM] [Warning] bagging_fraction is set=0.5400461559248965, subsample=0.6 will be ignored. Current value: bagging_fraction=0.5400461559248965\n",
      "[LightGBM] [Warning] bagging_freq is set=5, subsample_freq=0 will be ignored. Current value: bagging_freq=5\n",
      "Training until validation scores don't improve for 100 rounds\n",
      "[100]\ttraining's l1: 0.833771\tvalid_1's l1: 1.57215\n"
     ]
    },
    {
     "name": "stderr",
     "output_type": "stream",
     "text": [
      "\u001b[32m[I 2021-07-18 17:29:56,190]\u001b[0m Trial 74 finished with value: -1.5677501817219581 and parameters: {'max_depth': 11, 'min_child_weight': 7, 'subsample': 0.6, 'colsample_bytree': 0.6, 'reg_lambda': 0.03141160748647135, 'reg_alpha': 0.04762059662247282, 'feature_fraction': 0.8283218200943057, 'bagging_fraction': 0.5400461559248965, 'bagging_freq': 5, 'num_leaves': 668, 'min_child_samples': 38}. Best is trial 64 with value: -1.5408970069814598.\u001b[0m\n"
     ]
    },
    {
     "name": "stdout",
     "output_type": "stream",
     "text": [
      "Early stopping, best iteration is:\n",
      "[62]\ttraining's l1: 0.860219\tvalid_1's l1: 1.56779\n",
      "[LightGBM] [Warning] feature_fraction is set=0.9523907589094303, colsample_bytree=0.7 will be ignored. Current value: feature_fraction=0.9523907589094303\n",
      "[LightGBM] [Warning] bagging_fraction is set=0.7160597619758592, subsample=0.6 will be ignored. Current value: bagging_fraction=0.7160597619758592\n",
      "[LightGBM] [Warning] bagging_freq is set=3, subsample_freq=0 will be ignored. Current value: bagging_freq=3\n",
      "Training until validation scores don't improve for 100 rounds\n",
      "[100]\ttraining's l1: 0.883668\tvalid_1's l1: 1.57093\n",
      "[200]\ttraining's l1: 0.851983\tvalid_1's l1: 1.57418\n"
     ]
    },
    {
     "name": "stderr",
     "output_type": "stream",
     "text": [
      "\u001b[32m[I 2021-07-18 17:30:10,170]\u001b[0m Trial 75 finished with value: -1.569125711143574 and parameters: {'max_depth': 9, 'min_child_weight': 6, 'subsample': 0.6, 'colsample_bytree': 0.7, 'reg_lambda': 0.23056866388690672, 'reg_alpha': 0.7476021487483588, 'feature_fraction': 0.9523907589094303, 'bagging_fraction': 0.7160597619758592, 'bagging_freq': 3, 'num_leaves': 578, 'min_child_samples': 28}. Best is trial 64 with value: -1.5408970069814598.\u001b[0m\n"
     ]
    },
    {
     "name": "stdout",
     "output_type": "stream",
     "text": [
      "Early stopping, best iteration is:\n",
      "[143]\ttraining's l1: 0.872533\tvalid_1's l1: 1.56933\n",
      "[LightGBM] [Warning] feature_fraction is set=0.7329527366127095, colsample_bytree=0.6 will be ignored. Current value: feature_fraction=0.7329527366127095\n",
      "[LightGBM] [Warning] bagging_fraction is set=0.4586484267502744, subsample=0.6 will be ignored. Current value: bagging_fraction=0.4586484267502744\n",
      "[LightGBM] [Warning] bagging_freq is set=1, subsample_freq=0 will be ignored. Current value: bagging_freq=1\n",
      "Training until validation scores don't improve for 100 rounds\n",
      "[100]\ttraining's l1: 0.822161\tvalid_1's l1: 1.55888\n"
     ]
    },
    {
     "name": "stderr",
     "output_type": "stream",
     "text": [
      "\u001b[32m[I 2021-07-18 17:30:22,197]\u001b[0m Trial 76 finished with value: -1.5548382216645589 and parameters: {'max_depth': 12, 'min_child_weight': 20, 'subsample': 0.6, 'colsample_bytree': 0.6, 'reg_lambda': 0.01542236559325305, 'reg_alpha': 0.1435791927124232, 'feature_fraction': 0.7329527366127095, 'bagging_fraction': 0.4586484267502744, 'bagging_freq': 1, 'num_leaves': 634, 'min_child_samples': 49}. Best is trial 64 with value: -1.5408970069814598.\u001b[0m\n"
     ]
    },
    {
     "name": "stdout",
     "output_type": "stream",
     "text": [
      "Early stopping, best iteration is:\n",
      "[74]\ttraining's l1: 0.837528\tvalid_1's l1: 1.55504\n",
      "[LightGBM] [Warning] feature_fraction is set=0.9002219057726139, colsample_bytree=0.6 will be ignored. Current value: feature_fraction=0.9002219057726139\n",
      "[LightGBM] [Warning] bagging_fraction is set=0.40488328479477326, subsample=0.5 will be ignored. Current value: bagging_fraction=0.40488328479477326\n",
      "[LightGBM] [Warning] bagging_freq is set=2, subsample_freq=0 will be ignored. Current value: bagging_freq=2\n",
      "Training until validation scores don't improve for 100 rounds\n",
      "[100]\ttraining's l1: 0.911738\tvalid_1's l1: 1.56301\n"
     ]
    },
    {
     "name": "stderr",
     "output_type": "stream",
     "text": [
      "\u001b[32m[I 2021-07-18 17:30:30,498]\u001b[0m Trial 77 finished with value: -1.5620566735204984 and parameters: {'max_depth': 8, 'min_child_weight': 3, 'subsample': 0.5, 'colsample_bytree': 0.6, 'reg_lambda': 0.07126092560253915, 'reg_alpha': 7.1333075602643685, 'feature_fraction': 0.9002219057726139, 'bagging_fraction': 0.40488328479477326, 'bagging_freq': 2, 'num_leaves': 764, 'min_child_samples': 40}. Best is trial 64 with value: -1.5408970069814598.\u001b[0m\n"
     ]
    },
    {
     "name": "stdout",
     "output_type": "stream",
     "text": [
      "Early stopping, best iteration is:\n",
      "[88]\ttraining's l1: 0.914475\tvalid_1's l1: 1.56225\n",
      "[LightGBM] [Warning] feature_fraction is set=0.8664764987749229, colsample_bytree=0.6 will be ignored. Current value: feature_fraction=0.8664764987749229\n",
      "[LightGBM] [Warning] bagging_fraction is set=0.5695838090983315, subsample=0.6 will be ignored. Current value: bagging_fraction=0.5695838090983315\n",
      "[LightGBM] [Warning] bagging_freq is set=6, subsample_freq=0 will be ignored. Current value: bagging_freq=6\n",
      "Training until validation scores don't improve for 100 rounds\n",
      "[100]\ttraining's l1: 0.882042\tvalid_1's l1: 1.55469\n",
      "[200]\ttraining's l1: 0.873763\tvalid_1's l1: 1.55507\n"
     ]
    },
    {
     "name": "stderr",
     "output_type": "stream",
     "text": [
      "\u001b[32m[I 2021-07-18 17:30:40,860]\u001b[0m Trial 78 finished with value: -1.5527259890957448 and parameters: {'max_depth': 9, 'min_child_weight': 6, 'subsample': 0.6, 'colsample_bytree': 0.6, 'reg_lambda': 0.008833984140887631, 'reg_alpha': 0.0838994834824903, 'feature_fraction': 0.8664764987749229, 'bagging_fraction': 0.5695838090983315, 'bagging_freq': 6, 'num_leaves': 805, 'min_child_samples': 20}. Best is trial 64 with value: -1.5408970069814598.\u001b[0m\n"
     ]
    },
    {
     "name": "stdout",
     "output_type": "stream",
     "text": [
      "Early stopping, best iteration is:\n",
      "[122]\ttraining's l1: 0.877411\tvalid_1's l1: 1.55281\n",
      "[LightGBM] [Warning] feature_fraction is set=0.8629156389674927, colsample_bytree=0.7 will be ignored. Current value: feature_fraction=0.8629156389674927\n",
      "[LightGBM] [Warning] bagging_fraction is set=0.498471235308612, subsample=0.6 will be ignored. Current value: bagging_fraction=0.498471235308612\n",
      "[LightGBM] [Warning] bagging_freq is set=8, subsample_freq=0 will be ignored. Current value: bagging_freq=8\n",
      "Training until validation scores don't improve for 100 rounds\n",
      "[100]\ttraining's l1: 0.814035\tvalid_1's l1: 1.57072\n"
     ]
    },
    {
     "name": "stderr",
     "output_type": "stream",
     "text": [
      "\u001b[32m[I 2021-07-18 17:30:53,174]\u001b[0m Trial 79 finished with value: -1.5618677140923225 and parameters: {'max_depth': 12, 'min_child_weight': 8, 'subsample': 0.6, 'colsample_bytree': 0.7, 'reg_lambda': 0.0015328360627924122, 'reg_alpha': 0.030722790379353083, 'feature_fraction': 0.8629156389674927, 'bagging_fraction': 0.498471235308612, 'bagging_freq': 8, 'num_leaves': 808, 'min_child_samples': 36}. Best is trial 64 with value: -1.5408970069814598.\u001b[0m\n"
     ]
    },
    {
     "name": "stdout",
     "output_type": "stream",
     "text": [
      "Early stopping, best iteration is:\n",
      "[66]\ttraining's l1: 0.848304\tvalid_1's l1: 1.5619\n",
      "[LightGBM] [Warning] feature_fraction is set=0.8079283852298574, colsample_bytree=0.8 will be ignored. Current value: feature_fraction=0.8079283852298574\n",
      "[LightGBM] [Warning] bagging_fraction is set=0.2007431511696815, subsample=0.7 will be ignored. Current value: bagging_fraction=0.2007431511696815\n",
      "[LightGBM] [Warning] bagging_freq is set=6, subsample_freq=0 will be ignored. Current value: bagging_freq=6\n",
      "Training until validation scores don't improve for 100 rounds\n",
      "[100]\ttraining's l1: 0.964181\tvalid_1's l1: 1.57818\n",
      "[200]\ttraining's l1: 0.943126\tvalid_1's l1: 1.56762\n",
      "[300]\ttraining's l1: 0.927965\tvalid_1's l1: 1.56401\n",
      "[400]\ttraining's l1: 0.918759\tvalid_1's l1: 1.56481\n",
      "Early stopping, best iteration is:\n",
      "[309]\ttraining's l1: 0.926439\tvalid_1's l1: 1.56339\n"
     ]
    },
    {
     "name": "stderr",
     "output_type": "stream",
     "text": [
      "\u001b[32m[I 2021-07-18 17:31:00,766]\u001b[0m Trial 80 finished with value: -1.563265952827403 and parameters: {'max_depth': 7, 'min_child_weight': 6, 'subsample': 0.7, 'colsample_bytree': 0.8, 'reg_lambda': 0.008483219222925114, 'reg_alpha': 123.88232074362654, 'feature_fraction': 0.8079283852298574, 'bagging_fraction': 0.2007431511696815, 'bagging_freq': 6, 'num_leaves': 726, 'min_child_samples': 12}. Best is trial 64 with value: -1.5408970069814598.\u001b[0m\n"
     ]
    },
    {
     "name": "stdout",
     "output_type": "stream",
     "text": [
      "[LightGBM] [Warning] feature_fraction is set=0.9253715349256894, colsample_bytree=0.6 will be ignored. Current value: feature_fraction=0.9253715349256894\n",
      "[LightGBM] [Warning] bagging_fraction is set=0.6389869796205535, subsample=0.6 will be ignored. Current value: bagging_fraction=0.6389869796205535\n",
      "[LightGBM] [Warning] bagging_freq is set=4, subsample_freq=0 will be ignored. Current value: bagging_freq=4\n",
      "Training until validation scores don't improve for 100 rounds\n",
      "[100]\ttraining's l1: 0.883728\tvalid_1's l1: 1.56617\n"
     ]
    },
    {
     "name": "stderr",
     "output_type": "stream",
     "text": [
      "\u001b[32m[I 2021-07-18 17:31:10,737]\u001b[0m Trial 81 finished with value: -1.5648131317221097 and parameters: {'max_depth': 9, 'min_child_weight': 5, 'subsample': 0.6, 'colsample_bytree': 0.6, 'reg_lambda': 0.0247784994528664, 'reg_alpha': 0.06546247458331608, 'feature_fraction': 0.9253715349256894, 'bagging_fraction': 0.6389869796205535, 'bagging_freq': 4, 'num_leaves': 864, 'min_child_samples': 20}. Best is trial 64 with value: -1.5408970069814598.\u001b[0m\n"
     ]
    },
    {
     "name": "stdout",
     "output_type": "stream",
     "text": [
      "Early stopping, best iteration is:\n",
      "[80]\ttraining's l1: 0.895026\tvalid_1's l1: 1.565\n",
      "[LightGBM] [Warning] feature_fraction is set=0.773578276619804, colsample_bytree=0.6 will be ignored. Current value: feature_fraction=0.773578276619804\n",
      "[LightGBM] [Warning] bagging_fraction is set=0.5901439565114274, subsample=0.6 will be ignored. Current value: bagging_fraction=0.5901439565114274\n",
      "[LightGBM] [Warning] bagging_freq is set=6, subsample_freq=0 will be ignored. Current value: bagging_freq=6\n",
      "Training until validation scores don't improve for 100 rounds\n",
      "[100]\ttraining's l1: 0.861094\tvalid_1's l1: 1.5648\n"
     ]
    },
    {
     "name": "stderr",
     "output_type": "stream",
     "text": [
      "\u001b[32m[I 2021-07-18 17:31:19,999]\u001b[0m Trial 82 finished with value: -1.5555911371522997 and parameters: {'max_depth': 10, 'min_child_weight': 7, 'subsample': 0.6, 'colsample_bytree': 0.6, 'reg_lambda': 0.04411906949782017, 'reg_alpha': 0.01736395679497485, 'feature_fraction': 0.773578276619804, 'bagging_fraction': 0.5901439565114274, 'bagging_freq': 6, 'num_leaves': 930, 'min_child_samples': 24}. Best is trial 64 with value: -1.5408970069814598.\u001b[0m\n"
     ]
    },
    {
     "name": "stdout",
     "output_type": "stream",
     "text": [
      "Early stopping, best iteration is:\n",
      "[67]\ttraining's l1: 0.881457\tvalid_1's l1: 1.55572\n",
      "[LightGBM] [Warning] feature_fraction is set=0.8335272937246259, colsample_bytree=0.6 will be ignored. Current value: feature_fraction=0.8335272937246259\n",
      "[LightGBM] [Warning] bagging_fraction is set=0.5713768601073695, subsample=0.6 will be ignored. Current value: bagging_fraction=0.5713768601073695\n",
      "[LightGBM] [Warning] bagging_freq is set=7, subsample_freq=0 will be ignored. Current value: bagging_freq=7\n",
      "Training until validation scores don't improve for 100 rounds\n",
      "[100]\ttraining's l1: 0.91089\tvalid_1's l1: 1.56952\n",
      "[200]\ttraining's l1: 0.90236\tvalid_1's l1: 1.57318\n",
      "Early stopping, best iteration is:\n",
      "[106]\ttraining's l1: 0.909945\tvalid_1's l1: 1.56875\n"
     ]
    },
    {
     "name": "stderr",
     "output_type": "stream",
     "text": [
      "\u001b[32m[I 2021-07-18 17:31:27,810]\u001b[0m Trial 83 finished with value: -1.5686278919249732 and parameters: {'max_depth': 8, 'min_child_weight': 2, 'subsample': 0.6, 'colsample_bytree': 0.6, 'reg_lambda': 0.004273952609366177, 'reg_alpha': 0.09110789293315776, 'feature_fraction': 0.8335272937246259, 'bagging_fraction': 0.5713768601073695, 'bagging_freq': 7, 'num_leaves': 843, 'min_child_samples': 30}. Best is trial 64 with value: -1.5408970069814598.\u001b[0m\n"
     ]
    },
    {
     "name": "stdout",
     "output_type": "stream",
     "text": [
      "[LightGBM] [Warning] feature_fraction is set=0.8738022267617863, colsample_bytree=0.6 will be ignored. Current value: feature_fraction=0.8738022267617863\n",
      "[LightGBM] [Warning] bagging_fraction is set=0.3346806866790894, subsample=0.6 will be ignored. Current value: bagging_fraction=0.3346806866790894\n",
      "[LightGBM] [Warning] bagging_freq is set=3, subsample_freq=0 will be ignored. Current value: bagging_freq=3\n",
      "Training until validation scores don't improve for 100 rounds\n",
      "[100]\ttraining's l1: 0.792819\tvalid_1's l1: 1.58347\n"
     ]
    },
    {
     "name": "stderr",
     "output_type": "stream",
     "text": [
      "\u001b[32m[I 2021-07-18 17:31:39,571]\u001b[0m Trial 84 finished with value: -1.567161468890073 and parameters: {'max_depth': 14, 'min_child_weight': 3, 'subsample': 0.6, 'colsample_bytree': 0.6, 'reg_lambda': 0.08935729583824674, 'reg_alpha': 0.16454797306593186, 'feature_fraction': 0.8738022267617863, 'bagging_fraction': 0.3346806866790894, 'bagging_freq': 3, 'num_leaves': 779, 'min_child_samples': 26}. Best is trial 64 with value: -1.5408970069814598.\u001b[0m\n"
     ]
    },
    {
     "name": "stdout",
     "output_type": "stream",
     "text": [
      "Early stopping, best iteration is:\n",
      "[44]\ttraining's l1: 0.856425\tvalid_1's l1: 1.56717\n",
      "[LightGBM] [Warning] feature_fraction is set=0.9921136129944804, colsample_bytree=0.6 will be ignored. Current value: feature_fraction=0.9921136129944804\n",
      "[LightGBM] [Warning] bagging_fraction is set=0.5334383526668709, subsample=0.6 will be ignored. Current value: bagging_fraction=0.5334383526668709\n",
      "[LightGBM] [Warning] bagging_freq is set=9, subsample_freq=0 will be ignored. Current value: bagging_freq=9\n",
      "Training until validation scores don't improve for 100 rounds\n",
      "[100]\ttraining's l1: 0.836129\tvalid_1's l1: 1.57155\n"
     ]
    },
    {
     "name": "stderr",
     "output_type": "stream",
     "text": [
      "\u001b[32m[I 2021-07-18 17:31:50,183]\u001b[0m Trial 85 finished with value: -1.5609568443154629 and parameters: {'max_depth': 11, 'min_child_weight': 6, 'subsample': 0.6, 'colsample_bytree': 0.6, 'reg_lambda': 0.30332136522410713, 'reg_alpha': 0.34526761211568513, 'feature_fraction': 0.9921136129944804, 'bagging_fraction': 0.5334383526668709, 'bagging_freq': 9, 'num_leaves': 702, 'min_child_samples': 15}. Best is trial 64 with value: -1.5408970069814598.\u001b[0m\n"
     ]
    },
    {
     "name": "stdout",
     "output_type": "stream",
     "text": [
      "Early stopping, best iteration is:\n",
      "[55]\ttraining's l1: 0.881714\tvalid_1's l1: 1.561\n",
      "[LightGBM] [Warning] feature_fraction is set=0.9346322245142124, colsample_bytree=0.6 will be ignored. Current value: feature_fraction=0.9346322245142124\n",
      "[LightGBM] [Warning] bagging_fraction is set=0.6043166559550296, subsample=0.6 will be ignored. Current value: bagging_fraction=0.6043166559550296\n",
      "[LightGBM] [Warning] bagging_freq is set=5, subsample_freq=0 will be ignored. Current value: bagging_freq=5\n",
      "Training until validation scores don't improve for 100 rounds\n",
      "[100]\ttraining's l1: 0.745011\tvalid_1's l1: 1.59198\n"
     ]
    },
    {
     "name": "stderr",
     "output_type": "stream",
     "text": [
      "\u001b[32m[I 2021-07-18 17:32:08,059]\u001b[0m Trial 86 finished with value: -1.5667153674885153 and parameters: {'max_depth': 20, 'min_child_weight': 4, 'subsample': 0.6, 'colsample_bytree': 0.6, 'reg_lambda': 0.14162481560998852, 'reg_alpha': 0.03873383026143638, 'feature_fraction': 0.9346322245142124, 'bagging_fraction': 0.6043166559550296, 'bagging_freq': 5, 'num_leaves': 889, 'min_child_samples': 34}. Best is trial 64 with value: -1.5408970069814598.\u001b[0m\n"
     ]
    },
    {
     "name": "stdout",
     "output_type": "stream",
     "text": [
      "Early stopping, best iteration is:\n",
      "[55]\ttraining's l1: 0.798078\tvalid_1's l1: 1.56675\n",
      "[LightGBM] [Warning] feature_fraction is set=0.9038797915962753, colsample_bytree=0.6 will be ignored. Current value: feature_fraction=0.9038797915962753\n",
      "[LightGBM] [Warning] bagging_fraction is set=0.4575460082906762, subsample=0.6 will be ignored. Current value: bagging_fraction=0.4575460082906762\n",
      "[LightGBM] [Warning] bagging_freq is set=5, subsample_freq=0 will be ignored. Current value: bagging_freq=5\n",
      "Training until validation scores don't improve for 100 rounds\n",
      "[100]\ttraining's l1: 0.890116\tvalid_1's l1: 1.55646\n"
     ]
    },
    {
     "name": "stderr",
     "output_type": "stream",
     "text": [
      "\u001b[32m[I 2021-07-18 17:32:17,114]\u001b[0m Trial 87 finished with value: -1.5563738401178728 and parameters: {'max_depth': 9, 'min_child_weight': 9, 'subsample': 0.6, 'colsample_bytree': 0.6, 'reg_lambda': 0.008016400575686347, 'reg_alpha': 0.6732396245829876, 'feature_fraction': 0.9038797915962753, 'bagging_fraction': 0.4575460082906762, 'bagging_freq': 5, 'num_leaves': 820, 'min_child_samples': 41}. Best is trial 64 with value: -1.5408970069814598.\u001b[0m\n"
     ]
    },
    {
     "name": "stdout",
     "output_type": "stream",
     "text": [
      "[200]\ttraining's l1: 0.86307\tvalid_1's l1: 1.57162\n",
      "Early stopping, best iteration is:\n",
      "[100]\ttraining's l1: 0.890116\tvalid_1's l1: 1.55646\n",
      "[LightGBM] [Warning] feature_fraction is set=0.807549477058458, colsample_bytree=0.5 will be ignored. Current value: feature_fraction=0.807549477058458\n",
      "[LightGBM] [Warning] bagging_fraction is set=0.2811758237045756, subsample=0.6 will be ignored. Current value: bagging_fraction=0.2811758237045756\n",
      "[LightGBM] [Warning] bagging_freq is set=8, subsample_freq=0 will be ignored. Current value: bagging_freq=8\n",
      "Training until validation scores don't improve for 100 rounds\n",
      "[100]\ttraining's l1: 0.87403\tvalid_1's l1: 1.57183\n"
     ]
    },
    {
     "name": "stderr",
     "output_type": "stream",
     "text": [
      "\u001b[32m[I 2021-07-18 17:32:23,428]\u001b[0m Trial 88 finished with value: -1.5561994452288286 and parameters: {'max_depth': 10, 'min_child_weight': 5, 'subsample': 0.6, 'colsample_bytree': 0.5, 'reg_lambda': 0.01656568402776581, 'reg_alpha': 1.0935472001381739, 'feature_fraction': 0.807549477058458, 'bagging_fraction': 0.2811758237045756, 'bagging_freq': 8, 'num_leaves': 686, 'min_child_samples': 31}. Best is trial 64 with value: -1.5408970069814598.\u001b[0m\n"
     ]
    },
    {
     "name": "stdout",
     "output_type": "stream",
     "text": [
      "Early stopping, best iteration is:\n",
      "[61]\ttraining's l1: 0.897837\tvalid_1's l1: 1.55628\n",
      "[LightGBM] [Warning] feature_fraction is set=0.9748544526456792, colsample_bytree=0.6 will be ignored. Current value: feature_fraction=0.9748544526456792\n",
      "[LightGBM] [Warning] bagging_fraction is set=0.247987899441535, subsample=0.7 will be ignored. Current value: bagging_fraction=0.247987899441535\n",
      "[LightGBM] [Warning] bagging_freq is set=10, subsample_freq=0 will be ignored. Current value: bagging_freq=10\n",
      "Training until validation scores don't improve for 100 rounds\n",
      "[100]\ttraining's l1: 0.844939\tvalid_1's l1: 1.57693\n"
     ]
    },
    {
     "name": "stderr",
     "output_type": "stream",
     "text": [
      "\u001b[32m[I 2021-07-18 17:32:31,777]\u001b[0m Trial 89 finished with value: -1.5597744268595322 and parameters: {'max_depth': 12, 'min_child_weight': 7, 'subsample': 0.7, 'colsample_bytree': 0.6, 'reg_lambda': 0.0037211135934321683, 'reg_alpha': 3.493869990171723, 'feature_fraction': 0.9748544526456792, 'bagging_fraction': 0.247987899441535, 'bagging_freq': 10, 'num_leaves': 492, 'min_child_samples': 46}. Best is trial 64 with value: -1.5408970069814598.\u001b[0m\n"
     ]
    },
    {
     "name": "stdout",
     "output_type": "stream",
     "text": [
      "Early stopping, best iteration is:\n",
      "[61]\ttraining's l1: 0.874049\tvalid_1's l1: 1.55982\n",
      "[LightGBM] [Warning] feature_fraction is set=0.7508613741166028, colsample_bytree=0.5 will be ignored. Current value: feature_fraction=0.7508613741166028\n",
      "[LightGBM] [Warning] bagging_fraction is set=0.528082663415811, subsample=0.6 will be ignored. Current value: bagging_fraction=0.528082663415811\n",
      "[LightGBM] [Warning] bagging_freq is set=7, subsample_freq=0 will be ignored. Current value: bagging_freq=7\n",
      "Training until validation scores don't improve for 100 rounds\n",
      "[100]\ttraining's l1: 0.774089\tvalid_1's l1: 1.56497\n"
     ]
    },
    {
     "name": "stderr",
     "output_type": "stream",
     "text": [
      "\u001b[32m[I 2021-07-18 17:32:43,951]\u001b[0m Trial 90 finished with value: -1.5538135203860581 and parameters: {'max_depth': 15, 'min_child_weight': 1, 'subsample': 0.6, 'colsample_bytree': 0.5, 'reg_lambda': 0.05233330041260144, 'reg_alpha': 0.1943338320462053, 'feature_fraction': 0.7508613741166028, 'bagging_fraction': 0.528082663415811, 'bagging_freq': 7, 'num_leaves': 734, 'min_child_samples': 23}. Best is trial 64 with value: -1.5408970069814598.\u001b[0m\n"
     ]
    },
    {
     "name": "stdout",
     "output_type": "stream",
     "text": [
      "Early stopping, best iteration is:\n",
      "[60]\ttraining's l1: 0.82338\tvalid_1's l1: 1.5539\n",
      "[LightGBM] [Warning] feature_fraction is set=0.654240105786495, colsample_bytree=0.5 will be ignored. Current value: feature_fraction=0.654240105786495\n",
      "[LightGBM] [Warning] bagging_fraction is set=0.5263886336411097, subsample=0.6 will be ignored. Current value: bagging_fraction=0.5263886336411097\n",
      "[LightGBM] [Warning] bagging_freq is set=7, subsample_freq=0 will be ignored. Current value: bagging_freq=7\n",
      "Training until validation scores don't improve for 100 rounds\n",
      "[100]\ttraining's l1: 0.783095\tvalid_1's l1: 1.5793\n"
     ]
    },
    {
     "name": "stderr",
     "output_type": "stream",
     "text": [
      "\u001b[32m[I 2021-07-18 17:32:55,581]\u001b[0m Trial 91 finished with value: -1.5589909556721755 and parameters: {'max_depth': 15, 'min_child_weight': 1, 'subsample': 0.6, 'colsample_bytree': 0.5, 'reg_lambda': 0.05728183845468274, 'reg_alpha': 0.17660946512705644, 'feature_fraction': 0.654240105786495, 'bagging_fraction': 0.5263886336411097, 'bagging_freq': 7, 'num_leaves': 737, 'min_child_samples': 22}. Best is trial 64 with value: -1.5408970069814598.\u001b[0m\n"
     ]
    },
    {
     "name": "stdout",
     "output_type": "stream",
     "text": [
      "Early stopping, best iteration is:\n",
      "[59]\ttraining's l1: 0.828652\tvalid_1's l1: 1.55905\n",
      "[LightGBM] [Warning] feature_fraction is set=0.6914946136207585, colsample_bytree=0.5 will be ignored. Current value: feature_fraction=0.6914946136207585\n",
      "[LightGBM] [Warning] bagging_fraction is set=0.5627014742446429, subsample=0.6 will be ignored. Current value: bagging_fraction=0.5627014742446429\n",
      "[LightGBM] [Warning] bagging_freq is set=8, subsample_freq=0 will be ignored. Current value: bagging_freq=8\n",
      "Training until validation scores don't improve for 100 rounds\n",
      "[100]\ttraining's l1: 0.796559\tvalid_1's l1: 1.58306\n"
     ]
    },
    {
     "name": "stderr",
     "output_type": "stream",
     "text": [
      "\u001b[32m[I 2021-07-18 17:33:07,049]\u001b[0m Trial 92 finished with value: -1.5630558249989048 and parameters: {'max_depth': 13, 'min_child_weight': 2, 'subsample': 0.6, 'colsample_bytree': 0.5, 'reg_lambda': 0.026771189651175226, 'reg_alpha': 0.40550654699663413, 'feature_fraction': 0.6914946136207585, 'bagging_fraction': 0.5627014742446429, 'bagging_freq': 8, 'num_leaves': 779, 'min_child_samples': 27}. Best is trial 64 with value: -1.5408970069814598.\u001b[0m\n"
     ]
    },
    {
     "name": "stdout",
     "output_type": "stream",
     "text": [
      "Early stopping, best iteration is:\n",
      "[50]\ttraining's l1: 0.853168\tvalid_1's l1: 1.56307\n",
      "[LightGBM] [Warning] feature_fraction is set=0.6115227791934335, colsample_bytree=0.5 will be ignored. Current value: feature_fraction=0.6115227791934335\n",
      "[LightGBM] [Warning] bagging_fraction is set=0.36099650420668145, subsample=0.6 will be ignored. Current value: bagging_fraction=0.36099650420668145\n",
      "[LightGBM] [Warning] bagging_freq is set=7, subsample_freq=0 will be ignored. Current value: bagging_freq=7\n",
      "Training until validation scores don't improve for 100 rounds\n",
      "[100]\ttraining's l1: 0.816066\tvalid_1's l1: 1.57962\n"
     ]
    },
    {
     "name": "stderr",
     "output_type": "stream",
     "text": [
      "\u001b[32m[I 2021-07-18 17:33:18,004]\u001b[0m Trial 93 finished with value: -1.5624260361600484 and parameters: {'max_depth': 13, 'min_child_weight': 8, 'subsample': 0.6, 'colsample_bytree': 0.5, 'reg_lambda': 0.04449972256477093, 'reg_alpha': 0.05454240342308501, 'feature_fraction': 0.6115227791934335, 'bagging_fraction': 0.36099650420668145, 'bagging_freq': 7, 'num_leaves': 609, 'min_child_samples': 19}. Best is trial 64 with value: -1.5408970069814598.\u001b[0m\n"
     ]
    },
    {
     "name": "stdout",
     "output_type": "stream",
     "text": [
      "Early stopping, best iteration is:\n",
      "[65]\ttraining's l1: 0.847479\tvalid_1's l1: 1.56258\n",
      "[LightGBM] [Warning] feature_fraction is set=0.7487822040862384, colsample_bytree=0.5 will be ignored. Current value: feature_fraction=0.7487822040862384\n",
      "[LightGBM] [Warning] bagging_fraction is set=0.4974686761840417, subsample=0.6 will be ignored. Current value: bagging_fraction=0.4974686761840417\n",
      "[LightGBM] [Warning] bagging_freq is set=6, subsample_freq=0 will be ignored. Current value: bagging_freq=6\n",
      "Training until validation scores don't improve for 100 rounds\n",
      "[100]\ttraining's l1: 0.77626\tvalid_1's l1: 1.58056\n"
     ]
    },
    {
     "name": "stderr",
     "output_type": "stream",
     "text": [
      "\u001b[32m[I 2021-07-18 17:33:30,537]\u001b[0m Trial 94 finished with value: -1.558907051699723 and parameters: {'max_depth': 16, 'min_child_weight': 6, 'subsample': 0.6, 'colsample_bytree': 0.5, 'reg_lambda': 0.5828931662466771, 'reg_alpha': 0.2033368762329928, 'feature_fraction': 0.7487822040862384, 'bagging_fraction': 0.4974686761840417, 'bagging_freq': 6, 'num_leaves': 764, 'min_child_samples': 23}. Best is trial 64 with value: -1.5408970069814598.\u001b[0m\n"
     ]
    },
    {
     "name": "stdout",
     "output_type": "stream",
     "text": [
      "Early stopping, best iteration is:\n",
      "[57]\ttraining's l1: 0.820375\tvalid_1's l1: 1.55902\n",
      "[LightGBM] [Warning] feature_fraction is set=0.721882993930166, colsample_bytree=0.6 will be ignored. Current value: feature_fraction=0.721882993930166\n",
      "[LightGBM] [Warning] bagging_fraction is set=0.6192713046157843, subsample=0.6 will be ignored. Current value: bagging_fraction=0.6192713046157843\n",
      "[LightGBM] [Warning] bagging_freq is set=9, subsample_freq=0 will be ignored. Current value: bagging_freq=9\n",
      "Training until validation scores don't improve for 100 rounds\n",
      "[100]\ttraining's l1: 0.778373\tvalid_1's l1: 1.57774\n"
     ]
    },
    {
     "name": "stderr",
     "output_type": "stream",
     "text": [
      "\u001b[32m[I 2021-07-18 17:33:44,094]\u001b[0m Trial 95 finished with value: -1.5626975893543835 and parameters: {'max_depth': 14, 'min_child_weight': 1, 'subsample': 0.6, 'colsample_bytree': 0.6, 'reg_lambda': 0.0115078786215472, 'reg_alpha': 0.09558672575916705, 'feature_fraction': 0.721882993930166, 'bagging_fraction': 0.6192713046157843, 'bagging_freq': 9, 'num_leaves': 1000, 'min_child_samples': 35}. Best is trial 64 with value: -1.5408970069814598.\u001b[0m\n"
     ]
    },
    {
     "name": "stdout",
     "output_type": "stream",
     "text": [
      "Early stopping, best iteration is:\n",
      "[57]\ttraining's l1: 0.830204\tvalid_1's l1: 1.56273\n",
      "[LightGBM] [Warning] feature_fraction is set=0.783571898848519, colsample_bytree=0.5 will be ignored. Current value: feature_fraction=0.783571898848519\n",
      "[LightGBM] [Warning] bagging_fraction is set=0.6813132687506348, subsample=0.6 will be ignored. Current value: bagging_fraction=0.6813132687506348\n",
      "[LightGBM] [Warning] bagging_freq is set=2, subsample_freq=0 will be ignored. Current value: bagging_freq=2\n",
      "Training until validation scores don't improve for 100 rounds\n",
      "[100]\ttraining's l1: 0.938072\tvalid_1's l1: 1.57044\n",
      "[200]\ttraining's l1: 0.925636\tvalid_1's l1: 1.57113\n",
      "Early stopping, best iteration is:\n",
      "[105]\ttraining's l1: 0.937233\tvalid_1's l1: 1.56976\n"
     ]
    },
    {
     "name": "stderr",
     "output_type": "stream",
     "text": [
      "\u001b[32m[I 2021-07-18 17:33:54,182]\u001b[0m Trial 96 finished with value: -1.569712573293344 and parameters: {'max_depth': 11, 'min_child_weight': 3, 'subsample': 0.6, 'colsample_bytree': 0.5, 'reg_lambda': 0.11242983608423532, 'reg_alpha': 577.7301097594462, 'feature_fraction': 0.783571898848519, 'bagging_fraction': 0.6813132687506348, 'bagging_freq': 2, 'num_leaves': 723, 'min_child_samples': 25}. Best is trial 64 with value: -1.5408970069814598.\u001b[0m\n"
     ]
    },
    {
     "name": "stdout",
     "output_type": "stream",
     "text": [
      "[LightGBM] [Warning] feature_fraction is set=0.8374318584939684, colsample_bytree=0.6 will be ignored. Current value: feature_fraction=0.8374318584939684\n",
      "[LightGBM] [Warning] bagging_fraction is set=0.41968813749040207, subsample=0.5 will be ignored. Current value: bagging_fraction=0.41968813749040207\n",
      "[LightGBM] [Warning] bagging_freq is set=3, subsample_freq=0 will be ignored. Current value: bagging_freq=3\n",
      "Training until validation scores don't improve for 100 rounds\n",
      "[100]\ttraining's l1: 0.776355\tvalid_1's l1: 1.58535\n"
     ]
    },
    {
     "name": "stderr",
     "output_type": "stream",
     "text": [
      "\u001b[32m[I 2021-07-18 17:34:06,732]\u001b[0m Trial 97 finished with value: -1.5610238608185507 and parameters: {'max_depth': 19, 'min_child_weight': 4, 'subsample': 0.5, 'colsample_bytree': 0.6, 'reg_lambda': 0.19967361350623955, 'reg_alpha': 0.1280226862614017, 'feature_fraction': 0.8374318584939684, 'bagging_fraction': 0.41968813749040207, 'bagging_freq': 3, 'num_leaves': 652, 'min_child_samples': 13}. Best is trial 64 with value: -1.5408970069814598.\u001b[0m\n"
     ]
    },
    {
     "name": "stdout",
     "output_type": "stream",
     "text": [
      "Early stopping, best iteration is:\n",
      "[59]\ttraining's l1: 0.819076\tvalid_1's l1: 1.56114\n",
      "[LightGBM] [Warning] feature_fraction is set=0.8562158037482217, colsample_bytree=0.5 will be ignored. Current value: feature_fraction=0.8562158037482217\n",
      "[LightGBM] [Warning] bagging_fraction is set=0.380101128112707, subsample=0.6 will be ignored. Current value: bagging_fraction=0.380101128112707\n",
      "[LightGBM] [Warning] bagging_freq is set=1, subsample_freq=0 will be ignored. Current value: bagging_freq=1\n",
      "Training until validation scores don't improve for 100 rounds\n",
      "[100]\ttraining's l1: 0.880551\tvalid_1's l1: 1.57316\n"
     ]
    },
    {
     "name": "stderr",
     "output_type": "stream",
     "text": [
      "\u001b[32m[I 2021-07-18 17:34:15,202]\u001b[0m Trial 98 finished with value: -1.5648277697703363 and parameters: {'max_depth': 9, 'min_child_weight': 5, 'subsample': 0.6, 'colsample_bytree': 0.5, 'reg_lambda': 0.01967585260944778, 'reg_alpha': 0.24103188887876276, 'feature_fraction': 0.8562158037482217, 'bagging_fraction': 0.380101128112707, 'bagging_freq': 1, 'num_leaves': 677, 'min_child_samples': 31}. Best is trial 64 with value: -1.5408970069814598.\u001b[0m\n"
     ]
    },
    {
     "name": "stdout",
     "output_type": "stream",
     "text": [
      "Early stopping, best iteration is:\n",
      "[60]\ttraining's l1: 0.91273\tvalid_1's l1: 1.56489\n",
      "[LightGBM] [Warning] feature_fraction is set=0.7605152526599908, colsample_bytree=0.6 will be ignored. Current value: feature_fraction=0.7605152526599908\n",
      "[LightGBM] [Warning] bagging_fraction is set=0.9186267984686527, subsample=0.6 will be ignored. Current value: bagging_fraction=0.9186267984686527\n",
      "[LightGBM] [Warning] bagging_freq is set=4, subsample_freq=0 will be ignored. Current value: bagging_freq=4\n",
      "Training until validation scores don't improve for 100 rounds\n",
      "[100]\ttraining's l1: 0.77086\tvalid_1's l1: 1.57634\n"
     ]
    },
    {
     "name": "stderr",
     "output_type": "stream",
     "text": [
      "\u001b[32m[I 2021-07-18 17:34:30,901]\u001b[0m Trial 99 finished with value: -1.5566002756868231 and parameters: {'max_depth': 18, 'min_child_weight': 2, 'subsample': 0.6, 'colsample_bytree': 0.6, 'reg_lambda': 0.4011441470673972, 'reg_alpha': 0.5547087454603473, 'feature_fraction': 0.7605152526599908, 'bagging_fraction': 0.9186267984686527, 'bagging_freq': 4, 'num_leaves': 700, 'min_child_samples': 16}. Best is trial 64 with value: -1.5408970069814598.\u001b[0m\n"
     ]
    },
    {
     "name": "stdout",
     "output_type": "stream",
     "text": [
      "Early stopping, best iteration is:\n",
      "[57]\ttraining's l1: 0.81356\tvalid_1's l1: 1.55671\n"
     ]
    }
   ],
   "source": [
    "study1, study2, study3, study4 = rt4kaido_train.train_and_evaluate(train, isgamedayonly=False)"
   ]
  },
  {
   "cell_type": "code",
   "execution_count": 19,
   "id": "10735283",
   "metadata": {},
   "outputs": [
    {
     "name": "stdout",
     "output_type": "stream",
     "text": [
      "best_score = 1.1354083510221529\n"
     ]
    },
    {
     "data": {
      "text/plain": [
       "{'max_depth': 17,\n",
       " 'min_child_weight': 7,\n",
       " 'subsample': 0.9,\n",
       " 'colsample_bytree': 0.6,\n",
       " 'reg_lambda': 0.07269362050717991,\n",
       " 'reg_alpha': 0.01180280012636004,\n",
       " 'feature_fraction': 0.9659395841797106,\n",
       " 'bagging_fraction': 0.735264203854535,\n",
       " 'bagging_freq': 6,\n",
       " 'num_leaves': 999,\n",
       " 'min_child_samples': 12}"
      ]
     },
     "execution_count": 19,
     "metadata": {},
     "output_type": "execute_result"
    }
   ],
   "source": [
    "print(f'best_score = {-study1.best_value}')\n",
    "study1.best_trial.params"
   ]
  },
  {
   "cell_type": "code",
   "execution_count": 20,
   "id": "c86f46e8",
   "metadata": {},
   "outputs": [
    {
     "name": "stdout",
     "output_type": "stream",
     "text": [
      "best_score = 2.1928612683905775\n"
     ]
    },
    {
     "data": {
      "text/plain": [
       "{'max_depth': 20,\n",
       " 'min_child_weight': 3,\n",
       " 'subsample': 0.8,\n",
       " 'colsample_bytree': 0.7,\n",
       " 'reg_lambda': 0.12437298804990757,\n",
       " 'reg_alpha': 0.7571420981596358,\n",
       " 'feature_fraction': 0.9735850811591042,\n",
       " 'bagging_fraction': 0.9191131896514854,\n",
       " 'bagging_freq': 12,\n",
       " 'num_leaves': 756,\n",
       " 'min_child_samples': 27}"
      ]
     },
     "execution_count": 20,
     "metadata": {},
     "output_type": "execute_result"
    }
   ],
   "source": [
    "print(f'best_score = {-study2.best_value}')\n",
    "study2.best_trial.params"
   ]
  },
  {
   "cell_type": "code",
   "execution_count": 21,
   "id": "0410cc09",
   "metadata": {},
   "outputs": [
    {
     "name": "stdout",
     "output_type": "stream",
     "text": [
      "best_score = 0.9247521521259133\n"
     ]
    },
    {
     "data": {
      "text/plain": [
       "{'max_depth': 10,\n",
       " 'min_child_weight': 4,\n",
       " 'subsample': 0.9,\n",
       " 'colsample_bytree': 0.8,\n",
       " 'reg_lambda': 0.0030321946484399885,\n",
       " 'reg_alpha': 1.7393901648481276,\n",
       " 'feature_fraction': 0.9471377517088052,\n",
       " 'bagging_fraction': 0.5991586009727979,\n",
       " 'bagging_freq': 16,\n",
       " 'num_leaves': 654,\n",
       " 'min_child_samples': 81}"
      ]
     },
     "execution_count": 21,
     "metadata": {},
     "output_type": "execute_result"
    }
   ],
   "source": [
    "print(f'best_score = {-study3.best_value}')\n",
    "study3.best_trial.params"
   ]
  },
  {
   "cell_type": "code",
   "execution_count": 22,
   "id": "9d0f9095",
   "metadata": {},
   "outputs": [
    {
     "name": "stdout",
     "output_type": "stream",
     "text": [
      "best_score = 1.5408970069814598\n"
     ]
    },
    {
     "data": {
      "text/plain": [
       "{'max_depth': 12,\n",
       " 'min_child_weight': 8,\n",
       " 'subsample': 0.6,\n",
       " 'colsample_bytree': 0.6,\n",
       " 'reg_lambda': 0.02614620036703161,\n",
       " 'reg_alpha': 0.9696800599324547,\n",
       " 'feature_fraction': 0.792727010920033,\n",
       " 'bagging_fraction': 0.5620353986573813,\n",
       " 'bagging_freq': 2,\n",
       " 'num_leaves': 613,\n",
       " 'min_child_samples': 42}"
      ]
     },
     "execution_count": 22,
     "metadata": {},
     "output_type": "execute_result"
    }
   ],
   "source": [
    "print(f'best_score = {-study4.best_value}')\n",
    "study4.best_trial.params"
   ]
  },
  {
   "cell_type": "code",
   "execution_count": null,
   "id": "9e244647",
   "metadata": {},
   "outputs": [],
   "source": []
  }
 ],
 "metadata": {
  "kernelspec": {
   "display_name": "Python 3",
   "language": "python",
   "name": "python3"
  },
  "language_info": {
   "codemirror_mode": {
    "name": "ipython",
    "version": 3
   },
   "file_extension": ".py",
   "mimetype": "text/x-python",
   "name": "python",
   "nbconvert_exporter": "python",
   "pygments_lexer": "ipython3",
   "version": "3.6.13"
  }
 },
 "nbformat": 4,
 "nbformat_minor": 5
}
