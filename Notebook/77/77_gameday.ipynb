{
 "cells": [
  {
   "cell_type": "code",
   "execution_count": 1,
   "id": "05363b55",
   "metadata": {},
   "outputs": [],
   "source": [
    "import gc\n",
    "import os\n",
    "import sys\n",
    "import math\n",
    "import random\n",
    "import warnings\n",
    "import pickle\n",
    "from pathlib import Path\n",
    "from joblib import Parallel, delayed\n",
    "from statsmodels.tsa.deterministic import (CalendarFourier,\n",
    "                                           CalendarSeasonality,\n",
    "                                           CalendarTimeTrend,\n",
    "                                           DeterministicProcess)\n",
    "import optuna\n",
    "\n",
    "import pickle\n",
    "from tqdm import tqdm\n",
    "import os\n",
    "import ipywidgets as widgets\n",
    "import matplotlib.pyplot as plt\n",
    "import numpy as np\n",
    "import pandas as pd\n",
    "import seaborn as sns\n",
    "# from pandarallel import pandarallel\n",
    "# pandarallel.initialize()\n",
    "warnings.simplefilter(\"ignore\")\n",
    "import ctypes as ct\n",
    "from datetime import timedelta\n",
    "\n",
    "from sklearn.metrics import mean_absolute_error\n",
    "\n",
    "import statistics as st\n",
    "import lightgbm as lgbm\n",
    "from scipy.stats import norm"
   ]
  },
  {
   "cell_type": "code",
   "execution_count": 2,
   "id": "0871dedc",
   "metadata": {},
   "outputs": [],
   "source": [
    "sys.path.append('../../')\n",
    "import src.utils as utils"
   ]
  },
  {
   "cell_type": "markdown",
   "id": "6d5b3957",
   "metadata": {},
   "source": [
    "## Param"
   ]
  },
  {
   "cell_type": "code",
   "execution_count": 3,
   "id": "6fb7760b",
   "metadata": {},
   "outputs": [],
   "source": [
    "EXP_NUM = 76\n",
    "NFOLDS = 5\n",
    "SEED = 42"
   ]
  },
  {
   "cell_type": "code",
   "execution_count": 4,
   "id": "d70ac202",
   "metadata": {},
   "outputs": [],
   "source": [
    "# def set_seed(seed: int = 42):\n",
    "#     random.seed(seed)\n",
    "#     np.random.seed(seed)\n",
    "#     os.environ[\"PYTHONHASHSEED\"] = str(seed)\n",
    "#     torch.manual_seed(seed)\n",
    "#     torch.cuda.manual_seed(seed)  # type: ignore\n",
    "#     torch.backends.cudnn.deterministic = True  # type: ignore\n",
    "#     torch.backends.cudnn.benchmark = False  # type: ignore\n",
    "# set_seed(SEED)"
   ]
  },
  {
   "cell_type": "markdown",
   "id": "85a65ab5",
   "metadata": {},
   "source": [
    "## Dir"
   ]
  },
  {
   "cell_type": "code",
   "execution_count": 5,
   "id": "82542fc5",
   "metadata": {},
   "outputs": [],
   "source": [
    "DATA_DIR = Path(\"/home/knikaido/work/MLB-Player-Digital-Engagement-Forecasting/data/\")\n",
    "MAIN_DATA_DIR = DATA_DIR / 'mlb-player-digital-engagement-forecasting'\n",
    "TRAIN_DIR = MAIN_DATA_DIR / 'train'\n",
    "OUTPUT_DIR = Path('./output/')"
   ]
  },
  {
   "cell_type": "code",
   "execution_count": 6,
   "id": "bcd11a7c",
   "metadata": {},
   "outputs": [],
   "source": [
    "players = pd.read_csv(MAIN_DATA_DIR / 'players.csv')\n",
    "\n",
    "rosters = pd.read_csv(TRAIN_DIR / 'rosters_train.csv')\n",
    "targets = pd.read_csv(TRAIN_DIR / 'nextDayPlayerEngagement_train.csv')\n",
    "scores = pd.read_csv(TRAIN_DIR / 'playerBoxScores_train.csv')\n",
    "scores = scores.groupby(['playerId', 'date']).sum().reset_index()\n",
    "seasons = pd.read_csv(MAIN_DATA_DIR / 'seasons.csv')\n",
    "salaries = pd.read_csv(MAIN_DATA_DIR / 'mlbSalaries.csv')\n",
    "teams = pd.read_csv(MAIN_DATA_DIR / 'teams.csv')\n",
    "\n",
    "standings = pd.read_csv(TRAIN_DIR / 'standings_train.csv')\n",
    "playerTwitterFollowers = pd.read_csv(TRAIN_DIR / 'playerTwitterFollowers_train.csv')\n",
    "\n",
    "# events = pd.read_csv(TRAIN_DIR / 'events_train.csv')\n",
    "# events = events.groupby(['gameDate']).sum().reset_index()\n"
   ]
  },
  {
   "cell_type": "code",
   "execution_count": null,
   "id": "792ec5ca",
   "metadata": {},
   "outputs": [],
   "source": []
  },
  {
   "cell_type": "code",
   "execution_count": 7,
   "id": "b040956e",
   "metadata": {},
   "outputs": [],
   "source": [
    "train_elements_dict = {\"players\":players, \n",
    "                       \"rosters\":rosters, \n",
    "                       \"targets\":targets, \n",
    "                       \"scores\":scores, \n",
    "                       \"seasons\":seasons, \n",
    "                       \"teams\":teams, \n",
    "                       \"standings\":standings}"
   ]
  },
  {
   "cell_type": "code",
   "execution_count": 8,
   "id": "aff173fd",
   "metadata": {},
   "outputs": [],
   "source": [
    "def map_team_name(name):\n",
    "    names = name.split('-')\n",
    "    result = ''\n",
    "    for n in names:\n",
    "        if n == 'st':\n",
    "            n = 'st.'\n",
    "        result += f' {n.capitalize()}'\n",
    "\n",
    "    return result[1:]"
   ]
  },
  {
   "cell_type": "code",
   "execution_count": 9,
   "id": "e18a052d",
   "metadata": {},
   "outputs": [],
   "source": [
    "def calc_corr(df):\n",
    "    # 相関係数行列を作成\n",
    "    corr_mat = df.corr(method='pearson')\n",
    "\n",
    "    # 行（列）サイズを取得\n",
    "    n = corr_mat.shape[0]\n",
    "    corr_ary = []\n",
    "\n",
    "    for i in range(n):\n",
    "        for j in range(i):\n",
    "            if i == j:\n",
    "                continue\n",
    "            corr_ary.append(corr_mat.iloc[i,j])\n",
    "\n",
    "    return corr_ary"
   ]
  },
  {
   "cell_type": "code",
   "execution_count": 10,
   "id": "3302de24",
   "metadata": {},
   "outputs": [],
   "source": [
    "def calc_probs(pid,df,temp):\n",
    "    to_append=[pid,'','','','','','','','','','','','','','','','','','','','','','','','','','','','','','','','','','']\n",
    "    targets=['target1','target2','target3','target4']\n",
    "    z=1\n",
    "    for target in targets:\n",
    "        target_prob = temp[target].tolist()\n",
    "        mean = np.mean(target_prob)\n",
    "        std = np.std(target_prob)\n",
    "        median = st.median(target_prob)\n",
    "        distribution = norm(mean, std)\n",
    "        min_weight = min(target_prob)\n",
    "        max_weight = max(target_prob)\n",
    "        values = list(np.linspace(min_weight, max_weight))\n",
    "        probabilities = [distribution.pdf(v) for v in values]\n",
    "        max_value = max(probabilities)\n",
    "        max_index = probabilities.index(max_value)\n",
    "        to_append[z]=mean\n",
    "        to_append[z+1]=median\n",
    "        to_append[z+2]=std\n",
    "        to_append[z+3]=min_weight\n",
    "        to_append[z+4]=max_weight\n",
    "        to_append[z+5]=temp[target].skew()\n",
    "        to_append[z+6]=temp[target].kurt()\n",
    "\n",
    "        z=z+7\n",
    "    corr_ = calc_corr(temp[['target1', 'target2', 'target3', 'target4']])\n",
    "    to_append[z:] = corr_  \n",
    "    df_length = len(df)\n",
    "    df.loc[df_length] = to_append\n",
    "    return df"
   ]
  },
  {
   "cell_type": "code",
   "execution_count": 11,
   "id": "694ff3c9",
   "metadata": {},
   "outputs": [],
   "source": [
    "def count_consecutive_items_n_cols(df, col_name_list, output_col):\n",
    "    cum_sum_list = [\n",
    "        (df[col_name] != df[col_name].shift(1)).cumsum().tolist() for col_name in col_name_list\n",
    "    ]\n",
    "    df[output_col] = df.groupby(\n",
    "        [\"_\".join(map(str, x)) for x in zip(*cum_sum_list)]\n",
    "    ).cumcount() + 1\n",
    "    return df"
   ]
  },
  {
   "cell_type": "code",
   "execution_count": 12,
   "id": "8efe7758",
   "metadata": {},
   "outputs": [],
   "source": [
    "def extract_season(date_raw, season_start_end):\n",
    "    idxes = 0\n",
    "    for raw in season_start_end.iloc():\n",
    "        idx_ = ((date_raw >= raw.iloc[0]) & (date_raw <= raw.iloc[1])) * 1\n",
    "        idxes += idx_\n",
    "    return idxes"
   ]
  },
  {
   "cell_type": "code",
   "execution_count": 13,
   "id": "6c29112a",
   "metadata": {},
   "outputs": [],
   "source": [
    "# def fit_lgbm(x_train, y_train, x_valid, y_valid, params: dict=None, verbose=100):\n",
    "#     oof_pred = np.zeros(len(y_valid), dtype=np.float32)\n",
    "#     model = lgbm.LGBMRegressor(**params)\n",
    "#     model.fit(x_train, y_train, \n",
    "#         eval_set=[(x_valid, y_valid)],  \n",
    "#         early_stopping_rounds=verbose, \n",
    "#         verbose=verbose)\n",
    "#     oof_pred = model.predict(x_valid)\n",
    "#     oof_pred = np.clip(oof_pred, 0, 100)\n",
    "#     score = mean_absolute_error(oof_pred, y_valid)\n",
    "#     print('mae:', score)\n",
    "#     return oof_pred, model, score"
   ]
  },
  {
   "cell_type": "code",
   "execution_count": 14,
   "id": "9d0724b0",
   "metadata": {},
   "outputs": [],
   "source": [
    "def fit_lgbm(x_train, y_train, x_valid, y_valid, verbose=100):\n",
    "    def opt(trial):\n",
    "        params = {\n",
    "                'random_state': SEED,\n",
    "                'objective':'mae',\n",
    "                'n_estimators': 10000,\n",
    "                'learning_rate': 0.1,\n",
    "                'max_depth': trial.suggest_int('max_depth', 1, 20),\n",
    "                'min_child_weight': trial.suggest_int('min_child_weight', 1, 20),\n",
    "                'subsample': trial.suggest_discrete_uniform('subsample', 0.5, 0.9, 0.1),\n",
    "                'colsample_bytree': trial.suggest_discrete_uniform('colsample_bytree', 0.5, 0.9, 0.1),\n",
    "                'reg_lambda': trial.suggest_loguniform('reg_lambda', 1e-3, 1e3),\n",
    "                'reg_alpha': trial.suggest_loguniform('reg_alpha', 1e-3, 1e3),\n",
    "                'feature_fraction': trial.suggest_uniform('feature_fraction', 0.2, 1.0),\n",
    "                'bagging_fraction': trial.suggest_uniform('bagging_fraction', 0.2, 1.0),\n",
    "                'bagging_freq': trial.suggest_int('bagging_freq', 1, 20),\n",
    "                'num_leaves': trial.suggest_int('num_leaves', 10, 1000),\n",
    "                'min_child_samples': trial.suggest_int('min_child_samples', 5, 100)\n",
    "        }\n",
    "\n",
    "        model_opt = lgbm.LGBMRegressor(**params)\n",
    "\n",
    "        model_opt.fit(x_train, y_train, \n",
    "            eval_set=[(x_train, y_train), (x_valid, y_valid)],  \n",
    "            early_stopping_rounds=verbose, \n",
    "            verbose=verbose)\n",
    "        oof_pred = model_opt.predict(x_valid)\n",
    "        oof_pred = np.clip(oof_pred, 0, 100)\n",
    "        score = mean_absolute_error(oof_pred, y_valid)\n",
    "        return -score\n",
    "    return opt"
   ]
  },
  {
   "cell_type": "code",
   "execution_count": 15,
   "id": "ec7cb05d",
   "metadata": {},
   "outputs": [],
   "source": [
    "def my_timeseries_fold(train):\n",
    "    \n",
    "    tr_idxs = []\n",
    "    val_idxs = []\n",
    "    \n",
    "    tr_idx = (train['date'].astype(int) < 20200801)\n",
    "    val_idx = (train['date'].astype(int) >= 20200801) & (train['date'].astype(int) < 20200901)\n",
    "    tr_idxs.append(tr_idx)\n",
    "    val_idxs.append(val_idx)\n",
    "\n",
    "    tr_idx = (train['date'].astype(int) < 20200901)\n",
    "    val_idx = (train['date'].astype(int) >= 20200901) & (train['date'].astype(int) < 20201001)\n",
    "    tr_idxs.append(tr_idx)\n",
    "    val_idxs.append(val_idx)\n",
    "\n",
    "    tr_idx = (train['date'].astype(int) < 20201001)\n",
    "    val_idx = (train['date'].astype(int) >= 20201001) & (train['date'].astype(int) < 20201028)\n",
    "    tr_idxs.append(tr_idx)\n",
    "    val_idxs.append(val_idx)\n",
    "\n",
    "    tr_idx = (train['date'].astype(int) < 20210228)\n",
    "    val_idx = (train['date'].astype(int) >= 20210228) & (train['date'].astype(int) < 20210401)\n",
    "    tr_idxs.append(tr_idx)\n",
    "    val_idxs.append(val_idx)\n",
    "\n",
    "    tr_idx = (train['date'].astype(int) < 20210401)\n",
    "    val_idx = ~tr_idx\n",
    "    tr_idxs.append(tr_idx)\n",
    "    val_idxs.append(val_idx)\n",
    "    \n",
    "    return tr_idxs, val_idxs"
   ]
  },
  {
   "cell_type": "code",
   "execution_count": 16,
   "id": "90f334aa",
   "metadata": {},
   "outputs": [],
   "source": [
    "class Rt4kaidoTrain:\n",
    "    def __init__(self, usetimelinefeature=False):\n",
    "        \n",
    "        self.usetimelinefeature = usetimelinefeature\n",
    "        self.targets_cols = ['playerId', 'target1', 'target2', 'target3', 'target4', 'date']\n",
    "        self.players_cols = ['playerId', 'primaryPositionName', 'birthCity', 'DOY', 'mlbDebutYear', 'mlbDebutDate', 'DebutAge', 'heightInches', 'weight', 'playerForTestSetAndFuturePreds']\n",
    "        self.rosters_cols = ['playerId', 'teamId', 'status', 'date']\n",
    "        self.salaries_cols = ['teamId', 'salary', 'year']\n",
    "        self.standings_cols = ['teamId', 'wildCardRank', 'sportGamesBack', 'date']\n",
    "        self.transactions_cols = ['playerId', 'transaction_flag', 'date']\n",
    "        self.stat_cols = [\"playerId\", \"target1_mean\",\"target1_median\",\"target1_std\",\"target1_min\",\"target1_max\",\"target1_skew\",\"target1_kurt\",\n",
    "                        \"target2_mean\",\"target2_median\",\"target2_std\",\"target2_min\",\"target2_max\",\"target2_skew\",\"target2_kurt\",\n",
    "                        \"target3_mean\",\"target3_median\",\"target3_std\",\"target3_min\",\"target3_max\",\"target3_skew\",\"target3_kurt\",\n",
    "                        \"target4_mean\",\"target4_median\",\"target4_std\",\"target4_min\",\"target4_max\",\"target4_skew\",\"target4_kurt\",\n",
    "                        'tgt1_2_corr', 'tgt1_3_corr', 'tgt2_3_corr', 'tgt1_4_corr', 'tgt2_4_corr', 'tgt3_4_corr']\n",
    "\n",
    "        self.scores_cols = ['playerId', 'battingOrder', 'gamesPlayedBatting', 'flyOuts',\n",
    "               'groundOuts', 'runsScored', 'doubles', 'triples', 'homeRuns',\n",
    "               'strikeOuts', 'baseOnBalls', 'intentionalWalks', 'hits', 'hitByPitch',\n",
    "               'atBats', 'caughtStealing', 'stolenBases', 'groundIntoDoublePlay',\n",
    "               'groundIntoTriplePlay', 'plateAppearances', 'totalBases', 'rbi',\n",
    "               'leftOnBase', 'sacBunts', 'sacFlies', 'catchersInterference',\n",
    "               'pickoffs', 'gamesPlayedPitching', 'gamesStartedPitching',\n",
    "               'completeGamesPitching', 'shutoutsPitching', 'winsPitching',\n",
    "               'lossesPitching', 'flyOutsPitching', 'airOutsPitching',\n",
    "               'groundOutsPitching', 'runsPitching', 'doublesPitching',\n",
    "               'triplesPitching', 'homeRunsPitching', 'strikeOutsPitching',\n",
    "               'baseOnBallsPitching', 'intentionalWalksPitching', 'hitsPitching',\n",
    "               'hitByPitchPitching', 'atBatsPitching', 'caughtStealingPitching',\n",
    "               'stolenBasesPitching', 'inningsPitched', 'saveOpportunities',\n",
    "               'earnedRuns', 'battersFaced', 'outsPitching', 'pitchesThrown', 'balls',\n",
    "               'strikes', 'hitBatsmen', 'balks', 'wildPitches', 'pickoffsPitching',\n",
    "               'rbiPitching', 'gamesFinishedPitching', 'inheritedRunners',\n",
    "               'inheritedRunnersScored', 'catchersInterferencePitching',\n",
    "               'sacBuntsPitching', 'sacFliesPitching', 'saves', 'holds', 'blownSaves',\n",
    "               'assists', 'putOuts', 'errors', 'chances', 'date']\n",
    "\n",
    "        self.feature_cols1 = ['week_day','label_playerId', 'label_primaryPositionName', 'label_teamId',\n",
    "               'label_status', 'battingOrder', 'gamesPlayedBatting', 'flyOuts',\n",
    "               'groundOuts', 'runsScored', 'doubles', 'triples', 'homeRuns',\n",
    "               'strikeOuts', 'baseOnBalls', 'intentionalWalks', 'hits', 'hitByPitch',\n",
    "               'atBats', 'caughtStealing', 'stolenBases', 'groundIntoDoublePlay',\n",
    "               'groundIntoTriplePlay', 'plateAppearances', 'totalBases', 'rbi',\n",
    "               'leftOnBase', 'sacBunts', 'sacFlies', 'catchersInterference',\n",
    "               'pickoffs', 'gamesPlayedPitching', 'gamesStartedPitching',\n",
    "               'completeGamesPitching', 'shutoutsPitching', 'winsPitching',\n",
    "               'lossesPitching', 'flyOutsPitching', 'airOutsPitching',\n",
    "               'groundOutsPitching', 'runsPitching', 'doublesPitching',\n",
    "               'triplesPitching', 'homeRunsPitching', 'strikeOutsPitching',\n",
    "               'baseOnBallsPitching', 'intentionalWalksPitching', 'hitsPitching',\n",
    "               'hitByPitchPitching', 'atBatsPitching', 'caughtStealingPitching',\n",
    "               'stolenBasesPitching', 'inningsPitched', 'saveOpportunities',\n",
    "               'earnedRuns', 'battersFaced', 'outsPitching', 'pitchesThrown', 'balls',\n",
    "               'strikes', 'hitBatsmen', 'balks', 'wildPitches', 'pickoffsPitching',\n",
    "               'rbiPitching', 'gamesFinishedPitching', 'inheritedRunners',\n",
    "               'inheritedRunnersScored', 'catchersInterferencePitching',\n",
    "               'sacBuntsPitching', 'sacFliesPitching', 'saves', 'holds', 'blownSaves',\n",
    "               'assists', 'putOuts', 'errors', 'chances',\n",
    "                'season_info', 'wildCardRank'] \n",
    "\n",
    "        self.feature_cols2 = ['label_playerId', 'label_primaryPositionName', 'label_teamId',\n",
    "               'label_status', 'battingOrder', 'gamesPlayedBatting', 'flyOuts',\n",
    "               'groundOuts', 'runsScored', 'doubles', 'triples', 'homeRuns',\n",
    "               'strikeOuts', 'baseOnBalls', 'intentionalWalks', 'hits', 'hitByPitch',\n",
    "               'atBats', 'caughtStealing', 'stolenBases', 'groundIntoDoublePlay',\n",
    "               'groundIntoTriplePlay', 'plateAppearances', 'totalBases', 'rbi',\n",
    "               'leftOnBase', 'sacBunts', 'sacFlies', 'catchersInterference',\n",
    "               'pickoffs', 'gamesPlayedPitching', 'gamesStartedPitching',\n",
    "               'completeGamesPitching', 'shutoutsPitching', 'winsPitching',\n",
    "               'lossesPitching', 'flyOutsPitching', 'airOutsPitching',\n",
    "               'groundOutsPitching', 'runsPitching', 'doublesPitching',\n",
    "               'triplesPitching', 'homeRunsPitching', 'strikeOutsPitching',\n",
    "               'baseOnBallsPitching', 'intentionalWalksPitching', 'hitsPitching',\n",
    "               'hitByPitchPitching', 'atBatsPitching', 'caughtStealingPitching',\n",
    "               'stolenBasesPitching', 'inningsPitched', 'saveOpportunities',\n",
    "               'earnedRuns', 'battersFaced', 'outsPitching', 'pitchesThrown', 'balls',\n",
    "               'strikes', 'hitBatsmen', 'balks', 'wildPitches', 'pickoffsPitching',\n",
    "               'rbiPitching', 'gamesFinishedPitching', 'inheritedRunners',\n",
    "               'inheritedRunnersScored', 'catchersInterferencePitching',\n",
    "               'sacBuntsPitching', 'sacFliesPitching', 'saves', 'holds', 'blownSaves',\n",
    "               'assists', 'putOuts', 'errors', 'chances',\n",
    "                'season_info', 'wildCardRank'] \n",
    "\n",
    "        self.feature_cols3 = ['week_day','label_playerId', 'label_primaryPositionName', 'label_teamId',\n",
    "               'label_status', 'battingOrder', 'gamesPlayedBatting', 'flyOuts',\n",
    "               'groundOuts', 'runsScored', 'doubles', 'triples', 'homeRuns',\n",
    "               'strikeOuts', 'baseOnBalls', 'intentionalWalks', 'hits', 'hitByPitch',\n",
    "               'atBats', 'caughtStealing', 'stolenBases', 'groundIntoDoublePlay',\n",
    "               'groundIntoTriplePlay', 'plateAppearances', 'totalBases', 'rbi',\n",
    "               'leftOnBase', 'sacBunts', 'sacFlies', 'catchersInterference',\n",
    "               'pickoffs', 'gamesPlayedPitching', 'gamesStartedPitching',\n",
    "               'completeGamesPitching', 'shutoutsPitching', 'winsPitching',\n",
    "               'lossesPitching', 'flyOutsPitching', 'airOutsPitching',\n",
    "               'groundOutsPitching', 'runsPitching', 'doublesPitching',\n",
    "               'triplesPitching', 'homeRunsPitching', 'strikeOutsPitching',\n",
    "               'baseOnBallsPitching', 'intentionalWalksPitching', 'hitsPitching',\n",
    "               'hitByPitchPitching', 'atBatsPitching', 'caughtStealingPitching',\n",
    "               'stolenBasesPitching', 'inningsPitched', 'saveOpportunities',\n",
    "               'earnedRuns', 'battersFaced', 'outsPitching', 'pitchesThrown', 'balls',\n",
    "               'strikes', 'hitBatsmen', 'balks', 'wildPitches', 'pickoffsPitching',\n",
    "               'rbiPitching', 'gamesFinishedPitching', 'inheritedRunners',\n",
    "               'inheritedRunnersScored', 'catchersInterferencePitching',\n",
    "               'sacBuntsPitching', 'sacFliesPitching', 'saves', 'holds', 'blownSaves',\n",
    "               'assists', 'putOuts', 'errors', 'chances',\n",
    "                'season_info', 'wildCardRank', 'diffmlbDebutDateflag', 'sincemlbDebutDateflag'] \n",
    "\n",
    "        self.feature_cols4 = ['week_day', 'annual_day', 'month', 'label_playerId', 'label_primaryPositionName', 'label_teamId', 'label_birthCity',\n",
    "                        'DOY', 'mlbDebutYear', 'DebutAge', 'heightInches', 'weight',\n",
    "               'label_status', 'battingOrder', 'gamesPlayedBatting', 'flyOuts',\n",
    "               'groundOuts', 'runsScored', 'doubles', 'triples', 'homeRuns',\n",
    "               'strikeOuts', 'baseOnBalls', 'intentionalWalks', 'hits', 'hitByPitch',\n",
    "               'atBats', 'caughtStealing', 'stolenBases', 'groundIntoDoublePlay',\n",
    "               'groundIntoTriplePlay', 'plateAppearances', 'totalBases', 'rbi',\n",
    "               'leftOnBase', 'sacBunts', 'sacFlies', 'catchersInterference',\n",
    "               'pickoffs', 'gamesPlayedPitching', 'gamesStartedPitching',\n",
    "               'completeGamesPitching', 'shutoutsPitching', 'winsPitching',\n",
    "               'lossesPitching', 'flyOutsPitching', 'airOutsPitching',\n",
    "               'groundOutsPitching', 'runsPitching', 'doublesPitching',\n",
    "               'triplesPitching', 'homeRunsPitching', 'strikeOutsPitching',\n",
    "               'baseOnBallsPitching', 'intentionalWalksPitching', 'hitsPitching',\n",
    "               'hitByPitchPitching', 'atBatsPitching', 'caughtStealingPitching',\n",
    "               'stolenBasesPitching', 'inningsPitched', 'saveOpportunities',\n",
    "               'earnedRuns', 'battersFaced', 'outsPitching', 'pitchesThrown', 'balls',\n",
    "               'strikes', 'hitBatsmen', 'balks', 'wildPitches', 'pickoffsPitching',\n",
    "               'rbiPitching', 'gamesFinishedPitching', 'inheritedRunners',\n",
    "               'inheritedRunnersScored', 'catchersInterferencePitching',\n",
    "               'sacBuntsPitching', 'sacFliesPitching', 'saves', 'holds', 'blownSaves',\n",
    "               'assists', 'putOuts', 'errors', 'chances',\n",
    "                'season_info', 'wildCardRank', 'diffmlbDebutDateflag', 'sincemlbDebutDateflag'] \n",
    "        \n",
    "        \n",
    "        # lightgbm\n",
    "        self.params1 = {'objective':'mae',\n",
    "                       'reg_alpha': 0.14947461820098767, \n",
    "                       'reg_lambda': 0.10185644384043743, \n",
    "                       'n_estimators': 3633, \n",
    "                       'learning_rate': 0.08046301304430488, \n",
    "                       'num_leaves': 674, \n",
    "                       'feature_fraction': 0.9101240539122566, \n",
    "                       'bagging_fraction': 0.9884451442950513, \n",
    "                       'bagging_freq': 8, \n",
    "                       'min_child_samples': 51}\n",
    "\n",
    "\n",
    "        self.params2 = {'objective':'mae',\n",
    "                       'reg_alpha': 0.1,\n",
    "                       'reg_lambda': 0.1, \n",
    "                       'n_estimators': 80,\n",
    "                       'learning_rate': 0.1,\n",
    "                       'random_state': 42,\n",
    "                       \"num_leaves\": 22}\n",
    "\n",
    "\n",
    "\n",
    "        self.params3 = {'objective':'mae',\n",
    "                       'reg_alpha': 0.1,\n",
    "                       'reg_lambda': 0.1, \n",
    "                       'n_estimators': 10000,\n",
    "                       'learning_rate': 0.1,\n",
    "                       'random_state': 42,\n",
    "                       \"num_leaves\": 100}\n",
    "\n",
    "        self.params4 = {'objective':'mae',\n",
    "                       'reg_alpha': 0.016468100279441976, \n",
    "                       'reg_lambda': 0.09128335764019105, \n",
    "                       'n_estimators': 9868, \n",
    "                       'learning_rate': 0.10528150510326864, \n",
    "                       'num_leaves': 157, \n",
    "                       'feature_fraction': 0.5419185713426886, \n",
    "                       'bagging_fraction': 0.2637405128936662, \n",
    "                       'bagging_freq': 19, \n",
    "                       'min_child_samples': 71}\n",
    "\n",
    "    def make_feature(self, train_elements_dict):\n",
    "\n",
    "        players = train_elements_dict['players']\n",
    "        rosters = train_elements_dict['rosters']\n",
    "        targets = train_elements_dict['targets']\n",
    "        scores = train_elements_dict['scores']\n",
    "        seasons = train_elements_dict['seasons']\n",
    "        teams = train_elements_dict['teams']\n",
    "        standings = train_elements_dict['standings']\n",
    "\n",
    "        print('calc target stat ... ', end=\"\")\n",
    "\n",
    "        ## target stats\n",
    "        targets_train = targets.merge(rosters[self.rosters_cols], on=['playerId', 'date'], how='left')\n",
    "        targets_train = targets_train[(targets_train['date'] >= 20210401)]\n",
    "\n",
    "        playerId_list = targets_train['playerId'].unique()\n",
    "        player_target_probs = pd.DataFrame(columns = self.stat_cols)  \n",
    "        for pid in tqdm(playerId_list):\n",
    "            temp = targets_train[targets_train['playerId'] == pid]\n",
    "            player_target_stats=calc_probs(pid,player_target_probs,temp)\n",
    "\n",
    "        teamId_list = targets_train['teamId'].dropna().unique()\n",
    "        team_target_probs = pd.DataFrame(columns = self.stat_cols)\n",
    "        for pid in tqdm(teamId_list):\n",
    "            temp = targets_train[targets_train['teamId'] == pid]\n",
    "            team_target_stats=calc_probs(pid,team_target_probs,temp)\n",
    "\n",
    "        team_stat_cols = self.stat_cols\n",
    "        team_stat_cols = team_stat_cols[:1] + [\"team_\" + word for word in team_stat_cols[1:]]\n",
    "        team_target_stats.columns = team_stat_cols\n",
    "\n",
    "        self.feature_cols1 += self.stat_cols[1:-6]\n",
    "        self.feature_cols2 += self.stat_cols[1:-6]\n",
    "        self.feature_cols3 += self.stat_cols[1:-6]\n",
    "        self.feature_cols4 += self.stat_cols[1:-6]\n",
    "\n",
    "        self.feature_cols1 += team_stat_cols[1:]\n",
    "        self.feature_cols2 += team_stat_cols[1:]\n",
    "        self.feature_cols3 += team_stat_cols[1:]\n",
    "        self.feature_cols4 += team_stat_cols[1:]\n",
    "\n",
    "        print('done.')\n",
    "\n",
    "        print('preprocess ... ', end=\"\")\n",
    "        ## salaries\n",
    "        # salaries = salaries.groupby(['year', 'team']).sum()['salary'].reset_index()\n",
    "        # salaries['team'] = salaries['team'].apply(map_team_name)\n",
    "        # salaries = salaries.merge(teams, left_on='team', right_on='name', how='inner')\n",
    "        # salaries = salaries.rename(columns={'id': 'teamId'})\n",
    "\n",
    "        ## seasons\n",
    "        seasons = seasons.fillna('0000-00-00')\n",
    "        for c_ in seasons.columns[1:]:\n",
    "            seasons[c_] = seasons[c_].str.replace('-', '').astype(int)\n",
    "\n",
    "        ## players\n",
    "        players['DOY'] = pd.to_datetime(players['DOB'], format=\"%Y-%m-%d\").dt.year\n",
    "        players['mlbDebutYear'] = pd.to_datetime(players['mlbDebutDate'], format=\"%Y-%m-%d\").dt.year\n",
    "        players['DebutAge'] = players['mlbDebutYear'] - players['DOY']\n",
    "        players['mlbDebutDate'] = pd.to_numeric(players['mlbDebutDate'].str.replace('-', ''), errors=\"coerce\")\n",
    "\n",
    "        print('done.')\n",
    "\n",
    "        print('creat feature ... ', end=\"\")\n",
    "        # creat feature\n",
    "        train = targets[self.targets_cols].merge(players[self.players_cols], on=['playerId'], how='left')\n",
    "        train = train.merge(rosters[self.rosters_cols], on=['playerId', 'date'], how='left')\n",
    "        train = train.merge(scores[self.scores_cols], on=['playerId', 'date'], how='left')\n",
    "        train = train.merge(player_target_stats, how='inner', left_on=[\"playerId\"],right_on=[\"playerId\"])\n",
    "        train = train.merge(standings[self.standings_cols], on=['teamId', 'date'], how='left')\n",
    "        train = train.merge(team_target_stats, how='left', left_on=[\"teamId\"],right_on=[\"playerId\"], suffixes=('', 'team_'))\n",
    "        \n",
    "        date_ = pd.to_datetime(train['date'], format=\"%Y%m%d\")\n",
    "        train['annual_day'] = (date_ - pd.to_datetime(date_.dt.year, format=\"%Y\")) /  timedelta(days=1)\n",
    "        train['week_day'] = date_.dt.weekday\n",
    "        train['month'] = date_.dt.month\n",
    "        train['year'] = date_.dt.year\n",
    "        train['mlbDebutDateflag'] = (train['mlbDebutDate'] == train['date']) * 1\n",
    "        train['sincemlbDebutDateflag'] = (train['date'] >= train['mlbDebutDate']) * 1\n",
    "        train['diffmlbDebutDateflag'] = (train['date'] - train['mlbDebutDate'])\n",
    "\n",
    "        # label encoding\n",
    "        player2num = {c: i for i, c in enumerate(train['playerId'].unique())}\n",
    "        position2num = {c: i for i, c in enumerate(train['primaryPositionName'].unique())}\n",
    "        birthCityn2num = {c: i for i, c in enumerate(train['birthCity'].unique())}\n",
    "        teamid2num = {c: i for i, c in enumerate(train['teamId'].unique())}\n",
    "        status2num = {c: i for i, c in enumerate(train['status'].unique())}\n",
    "        train['label_playerId'] = train['playerId'].map(player2num)\n",
    "        train['label_primaryPositionName'] = train['primaryPositionName'].map(position2num)\n",
    "        train['label_birthCity'] = train['birthCity'].map(birthCityn2num)\n",
    "        train['label_teamId'] = train['teamId'].map(teamid2num)\n",
    "        train['label_status'] = train['status'].map(status2num)\n",
    "\n",
    "        ## season_info\n",
    "        on_preseason_idxes = extract_season(train['date'], seasons[['preSeasonStartDate', 'preSeasonEndDate']])\n",
    "        on_season_idxes = extract_season(train['date'], seasons[['regularSeasonStartDate', 'regularSeasonEndDate']]) * 2\n",
    "        on_postseason_idxes = extract_season(train['date'], seasons[['postSeasonStartDate', 'postSeasonEndDate']]) * 3\n",
    "\n",
    "        special_days = seasons['lastDate1stHalf'].to_list() + seasons['allStarDate'].to_list() + seasons['firstDate2ndHalf'].to_list()\n",
    "        special_idxes = 0\n",
    "        for day in special_days:\n",
    "            special_idxes += (train['date'] == day) * 4\n",
    "\n",
    "        on_total_season_idxes = on_preseason_idxes\n",
    "        on_total_season_idxes[on_season_idxes==2] = 2\n",
    "        on_total_season_idxes[on_postseason_idxes==3] = 3\n",
    "        on_total_season_idxes[special_idxes==4] = 4\n",
    "\n",
    "        train['season_info'] = on_total_season_idxes\n",
    "\n",
    "        ## only on season\n",
    "        on_whole_idxes = extract_season(train['date'], seasons[['seasonStartDate', 'seasonEndDate']])\n",
    "        train = train[on_whole_idxes == 1].reset_index(drop=True)\n",
    "\n",
    "        # train = train.merge(playerTwitterFollowers, how='left', on=[\"playerId\", 'date'])\n",
    "\n",
    "        ## only test_player\n",
    "#         train = train[train['playerForTestSetAndFuturePreds']==True].reset_index(drop=True)\n",
    "\n",
    "        print('done.')\n",
    "        \n",
    "        train_features_dict = {'players': players,\n",
    "                                'player_target_stats': player_target_stats,\n",
    "                                'team_target_stats': team_target_stats,\n",
    "                                'player2num': player2num, \n",
    "                                'position2num': position2num, \n",
    "                                'birthCityn2num': birthCityn2num,\n",
    "                                'teamid2num': teamid2num,\n",
    "                                'status2num': status2num,\n",
    "                                'feature_cols1': self.feature_cols1,\n",
    "                                'feature_cols2': self.feature_cols2,\n",
    "                                'feature_cols3': self.feature_cols3,\n",
    "                                'feature_cols4': self.feature_cols4\n",
    "                              }\n",
    "        \n",
    "        if self.usetimelinefeature:\n",
    "            ## game_info\n",
    "            train['gameday'] = ~train['battingOrder'].isna()*1\n",
    "            train.sort_values(by=['playerId','date'],inplace=True,ascending=True)\n",
    "\n",
    "            train=count_consecutive_items_n_cols(train,['playerId','gameday'],'daysSinceLastGame')\n",
    "            train.loc[train['gameday']==1,'daysSinceLastGame'] = 0\n",
    "\n",
    "            train_game = train[train['gameday']==1]\n",
    "            train_last_game = train_game[~train_game.duplicated(subset='playerId', keep='last')][['playerId', 'date']]\n",
    "            train_last_game.columns = ['playerId', 'lastdate']\n",
    "            train_player_unique = pd.DataFrame(train['playerId'].unique(), columns=['playerId'])\n",
    "            train_last_game = pd.merge(train_player_unique, train_last_game, on=['playerId'], how='left' )\n",
    "            train_last_game = train_last_game.fillna(20171231)\n",
    "            \n",
    "            train_features_dict['train_last_game'] = train_last_game\n",
    "            self.feature_cols1 += ['daysSinceLastGame']\n",
    "            self.feature_cols2 += ['daysSinceLastGame']\n",
    "            self.feature_cols3 += ['daysSinceLastGame']\n",
    "            self.feature_cols4 += ['daysSinceLastGame']\n",
    "            \n",
    "            \n",
    "            ## rosters_info\n",
    "            train['rosterday'] = ~train['status'].isna()*1\n",
    "            train.sort_values(by=['playerId','date'],inplace=True,ascending=True)\n",
    "\n",
    "            train=count_consecutive_items_n_cols(train,['playerId','rosterday'],'daysSinceLastRoster')\n",
    "            train.loc[train['rosterday']==1,'daysSinceLastRoster'] = 0\n",
    "\n",
    "            train_roster= train[train['rosterday']==1]\n",
    "            train_last_roster = train_roster[~train_roster.duplicated(subset='playerId', keep='last')][['playerId', 'date']]\n",
    "            train_last_roster.columns = ['playerId', 'lastroster']\n",
    "            train_player_unique = pd.DataFrame(train['playerId'].unique(), columns=['playerId'])\n",
    "            train_last_roster = pd.merge(train_player_unique, train_last_roster, on=['playerId'], how='left' )\n",
    "            train_last_roster = train_last_roster.fillna(20171231)\n",
    "            \n",
    "            train_features_dict['train_last_roster'] = train_last_roster\n",
    "            self.feature_cols1 += ['daysSinceLastRoster']\n",
    "            self.feature_cols2 += ['daysSinceLastRoster']\n",
    "            self.feature_cols3 += ['daysSinceLastRoster']\n",
    "            self.feature_cols4 += ['daysSinceLastRoster']\n",
    "\n",
    "\n",
    "        return train, train_features_dict\n",
    "    \n",
    "    def train_and_evaluate(self, train, isgamedayonly=False):\n",
    "        \n",
    "        if isgamedayonly:\n",
    "            train = train[train['gameday'] == 1].reset_index(drop=True)\n",
    "            \n",
    "        train_X = train\n",
    "        train_y = train[['target1', 'target2', 'target3', 'target4']]\n",
    "\n",
    "        oof = np.zeros(train_y.shape) - 1.0\n",
    "        y_valids = np.zeros(train_y.shape) - 1.0\n",
    "\n",
    "        tr_idx = (train['date'].astype(int) < 20210401)\n",
    "        val_idx = ~tr_idx\n",
    "\n",
    "        x_train = train_X.loc[tr_idx].reset_index(drop=True)\n",
    "        y_train = train_y.loc[tr_idx].reset_index(drop=True)\n",
    "        x_valid = train_X.loc[val_idx].reset_index(drop=True)\n",
    "        y_valid = train_y.loc[val_idx].reset_index(drop=True)\n",
    "\n",
    "        study1 = optuna.create_study(direction='maximize')\n",
    "        study1.optimize(fit_lgbm(x_train[self.feature_cols1], y_train['target1'], \n",
    "                                 x_valid[self.feature_cols1], y_valid['target1']), n_trials=100)\n",
    "        \n",
    "        study2 = optuna.create_study(direction='maximize')\n",
    "        study2.optimize(fit_lgbm(x_train[self.feature_cols2], y_train['target2'], \n",
    "                                 x_valid[self.feature_cols2], y_valid['target2']), n_trials=100)\n",
    "        \n",
    "        study3 = optuna.create_study(direction='maximize')\n",
    "        study3.optimize(fit_lgbm(x_train[self.feature_cols3], y_train['target3'], \n",
    "                                 x_valid[self.feature_cols3], y_valid['target3']), n_trials=100)\n",
    "        \n",
    "        study4 = optuna.create_study(direction='maximize')\n",
    "        study4.optimize(fit_lgbm(x_train[self.feature_cols4], y_train['target4'], \n",
    "                                 x_valid[self.feature_cols4], y_valid['target4']), n_trials=100)\n",
    "\n",
    "#         oof1, model1, score1 = fit_lgbm(\n",
    "#             x_train[self.feature_cols1], y_train['target1'],\n",
    "#             x_valid[self.feature_cols1], y_valid['target1'],\n",
    "# #             self.params1\n",
    "#         )\n",
    "#         oof2, model2, score2 = fit_lgbm(\n",
    "#             x_train[self.feature_cols2], y_train['target2'],\n",
    "#             x_valid[self.feature_cols2], y_valid['target2'],\n",
    "# #             self.params2\n",
    "#         )\n",
    "#         oof3, model3, score3 = fit_lgbm(\n",
    "#             x_train[self.feature_cols3], y_train['target3'],\n",
    "#             x_valid[self.feature_cols3], y_valid['target3'],\n",
    "# #             self.params3\n",
    "#         )\n",
    "#         oof4, model4, score4 = fit_lgbm(\n",
    "#             x_train[self.feature_cols4], y_train['target4'],\n",
    "#             x_valid[self.feature_cols4], y_valid['target4'],\n",
    "# #             self.params4\n",
    "#         )\n",
    "\n",
    "#         score = (score1+score2+score3+score4) / 4\n",
    "#         print(f'score: {score}')\n",
    "\n",
    "#         oof[val_idx, 0] = oof1\n",
    "#         oof[val_idx, 1] = oof2\n",
    "#         oof[val_idx, 2] = oof3\n",
    "#         oof[val_idx, 3] = oof4\n",
    "#         y_valids[val_idx, 0] = y_valid['target1'].values\n",
    "#         y_valids[val_idx, 1] = y_valid['target2'].values\n",
    "#         y_valids[val_idx, 2] = y_valid['target3'].values\n",
    "#         y_valids[val_idx, 3] = y_valid['target4'].values\n",
    "\n",
    "#         mae = mean_absolute_error(y_valids[val_idx, :], oof[val_idx, :])\n",
    "#         print(\"mae:\", mae)\n",
    "\n",
    "#         val_idx_num = val_idx[val_idx==True].index.to_list()\n",
    "\n",
    "#         oof_df = train[self.targets_cols]\n",
    "#         oof_df.iloc[val_idx_num, 1:5] = oof[val_idx_num, :]\n",
    "\n",
    "#         models = np.array([model1, model2, model3, model4])\n",
    "\n",
    "        return study1, study2, study3, study4\n",
    "            "
   ]
  },
  {
   "cell_type": "code",
   "execution_count": 17,
   "id": "65c4d78a",
   "metadata": {},
   "outputs": [
    {
     "name": "stdout",
     "output_type": "stream",
     "text": [
      "calc target stat ... "
     ]
    },
    {
     "name": "stderr",
     "output_type": "stream",
     "text": [
      "100%|██████████| 2061/2061 [00:46<00:00, 44.76it/s]\n",
      "100%|██████████| 30/30 [00:00<00:00, 41.99it/s]\n"
     ]
    },
    {
     "name": "stdout",
     "output_type": "stream",
     "text": [
      "done.\n",
      "preprocess ... done.\n",
      "creat feature ... done.\n"
     ]
    }
   ],
   "source": [
    "rt4kaido_train = Rt4kaidoTrain(usetimelinefeature=True)\n",
    "train, train_features_dict = rt4kaido_train.make_feature(train_elements_dict)"
   ]
  },
  {
   "cell_type": "code",
   "execution_count": 18,
   "id": "de5d3a53",
   "metadata": {},
   "outputs": [
    {
     "name": "stderr",
     "output_type": "stream",
     "text": [
      "\u001b[32m[I 2021-07-19 21:46:50,768]\u001b[0m A new study created in memory with name: no-name-c55e1b8c-dcee-4b93-86bd-6122de056f41\u001b[0m\n"
     ]
    },
    {
     "name": "stdout",
     "output_type": "stream",
     "text": [
      "[LightGBM] [Warning] feature_fraction is set=0.2453547807924995, colsample_bytree=0.8 will be ignored. Current value: feature_fraction=0.2453547807924995\n",
      "[LightGBM] [Warning] bagging_fraction is set=0.6466804976688536, subsample=0.5 will be ignored. Current value: bagging_fraction=0.6466804976688536\n",
      "[LightGBM] [Warning] bagging_freq is set=18, subsample_freq=0 will be ignored. Current value: bagging_freq=18\n",
      "Training until validation scores don't improve for 100 rounds\n",
      "[100]\ttraining's l1: 2.40158\tvalid_1's l1: 2.73177\n",
      "[200]\ttraining's l1: 2.28266\tvalid_1's l1: 2.7249\n",
      "[300]\ttraining's l1: 2.20563\tvalid_1's l1: 2.73357\n",
      "Early stopping, best iteration is:\n",
      "[207]\ttraining's l1: 2.27721\tvalid_1's l1: 2.72282"
     ]
    },
    {
     "name": "stderr",
     "output_type": "stream",
     "text": [
      "\u001b[32m[I 2021-07-19 21:46:59,831]\u001b[0m Trial 0 finished with value: -2.7205800482008793 and parameters: {'max_depth': 20, 'min_child_weight': 6, 'subsample': 0.5, 'colsample_bytree': 0.8, 'reg_lambda': 0.006315805497434974, 'reg_alpha': 0.0014549143814820487, 'feature_fraction': 0.2453547807924995, 'bagging_fraction': 0.6466804976688536, 'bagging_freq': 18, 'num_leaves': 689, 'min_child_samples': 14}. Best is trial 0 with value: -2.7205800482008793.\u001b[0m\n"
     ]
    },
    {
     "name": "stdout",
     "output_type": "stream",
     "text": [
      "\n",
      "[LightGBM] [Warning] feature_fraction is set=0.27080087701644884, colsample_bytree=0.5 will be ignored. Current value: feature_fraction=0.27080087701644884\n",
      "[LightGBM] [Warning] bagging_fraction is set=0.6578386386647375, subsample=0.9 will be ignored. Current value: bagging_fraction=0.6578386386647375\n",
      "[LightGBM] [Warning] bagging_freq is set=6, subsample_freq=0 will be ignored. Current value: bagging_freq=6\n",
      "Training until validation scores don't improve for 100 rounds\n",
      "[100]\ttraining's l1: 2.65907\tvalid_1's l1: 2.78981\n",
      "[200]\ttraining's l1: 2.62822\tvalid_1's l1: 2.75389\n",
      "[300]\ttraining's l1: 2.61864\tvalid_1's l1: 2.74802\n",
      "[400]\ttraining's l1: 2.61334\tvalid_1's l1: 2.74406\n",
      "[500]\ttraining's l1: 2.60975\tvalid_1's l1: 2.73998\n",
      "[600]\ttraining's l1: 2.60679\tvalid_1's l1: 2.7389\n",
      "[700]\ttraining's l1: 2.60441\tvalid_1's l1: 2.73573\n",
      "[800]\ttraining's l1: 2.6029\tvalid_1's l1: 2.73398\n",
      "[900]\ttraining's l1: 2.60108\tvalid_1's l1: 2.73312\n",
      "[1000]\ttraining's l1: 2.60033\tvalid_1's l1: 2.73317\n",
      "[1100]\ttraining's l1: 2.59889\tvalid_1's l1: 2.73179\n",
      "[1200]\ttraining's l1: 2.59769\tvalid_1's l1: 2.73125\n",
      "[1300]\ttraining's l1: 2.59681\tvalid_1's l1: 2.72919\n",
      "[1400]\ttraining's l1: 2.59589\tvalid_1's l1: 2.72947\n"
     ]
    },
    {
     "name": "stderr",
     "output_type": "stream",
     "text": [
      "\u001b[32m[I 2021-07-19 21:47:08,852]\u001b[0m Trial 1 finished with value: -2.726340590440843 and parameters: {'max_depth': 9, 'min_child_weight': 12, 'subsample': 0.9, 'colsample_bytree': 0.5, 'reg_lambda': 152.8347818843575, 'reg_alpha': 201.55767632331327, 'feature_fraction': 0.27080087701644884, 'bagging_fraction': 0.6578386386647375, 'bagging_freq': 6, 'num_leaves': 239, 'min_child_samples': 35}. Best is trial 0 with value: -2.7205800482008793.\u001b[0m\n"
     ]
    },
    {
     "name": "stdout",
     "output_type": "stream",
     "text": [
      "Early stopping, best iteration is:\n",
      "[1339]\ttraining's l1: 2.5963\tvalid_1's l1: 2.72872\n",
      "[LightGBM] [Warning] feature_fraction is set=0.852049198236468, colsample_bytree=0.9 will be ignored. Current value: feature_fraction=0.852049198236468\n",
      "[LightGBM] [Warning] bagging_fraction is set=0.8497728600342305, subsample=0.6 will be ignored. Current value: bagging_fraction=0.8497728600342305\n",
      "[LightGBM] [Warning] bagging_freq is set=8, subsample_freq=0 will be ignored. Current value: bagging_freq=8\n",
      "Training until validation scores don't improve for 100 rounds\n",
      "[100]\ttraining's l1: 2.42372\tvalid_1's l1: 2.69121\n",
      "[200]\ttraining's l1: 2.33202\tvalid_1's l1: 2.69364\n"
     ]
    },
    {
     "name": "stderr",
     "output_type": "stream",
     "text": [
      "\u001b[32m[I 2021-07-19 21:47:16,483]\u001b[0m Trial 2 finished with value: -2.6860962470649943 and parameters: {'max_depth': 14, 'min_child_weight': 17, 'subsample': 0.6, 'colsample_bytree': 0.9, 'reg_lambda': 63.06839920653801, 'reg_alpha': 6.1339846236467555, 'feature_fraction': 0.852049198236468, 'bagging_fraction': 0.8497728600342305, 'bagging_freq': 8, 'num_leaves': 888, 'min_child_samples': 53}. Best is trial 2 with value: -2.6860962470649943.\u001b[0m\n"
     ]
    },
    {
     "name": "stdout",
     "output_type": "stream",
     "text": [
      "Early stopping, best iteration is:\n",
      "[122]\ttraining's l1: 2.39757\tvalid_1's l1: 2.68684\n",
      "[LightGBM] [Warning] feature_fraction is set=0.6841259804966295, colsample_bytree=0.7 will be ignored. Current value: feature_fraction=0.6841259804966295\n",
      "[LightGBM] [Warning] bagging_fraction is set=0.5976992507257795, subsample=0.9 will be ignored. Current value: bagging_fraction=0.5976992507257795\n",
      "[LightGBM] [Warning] bagging_freq is set=7, subsample_freq=0 will be ignored. Current value: bagging_freq=7\n",
      "Training until validation scores don't improve for 100 rounds\n",
      "[100]\ttraining's l1: 2.58271\tvalid_1's l1: 2.72062\n",
      "[200]\ttraining's l1: 2.55612\tvalid_1's l1: 2.71063\n",
      "[300]\ttraining's l1: 2.53285\tvalid_1's l1: 2.70249\n",
      "[400]\ttraining's l1: 2.52002\tvalid_1's l1: 2.6995\n",
      "[500]\ttraining's l1: 2.50657\tvalid_1's l1: 2.6966\n",
      "[600]\ttraining's l1: 2.49219\tvalid_1's l1: 2.69346\n"
     ]
    },
    {
     "name": "stderr",
     "output_type": "stream",
     "text": [
      "\u001b[32m[I 2021-07-19 21:47:21,662]\u001b[0m Trial 3 finished with value: -2.6916542175653184 and parameters: {'max_depth': 11, 'min_child_weight': 5, 'subsample': 0.9, 'colsample_bytree': 0.7, 'reg_lambda': 0.02812869860032436, 'reg_alpha': 0.09465055942645335, 'feature_fraction': 0.6841259804966295, 'bagging_fraction': 0.5976992507257795, 'bagging_freq': 7, 'num_leaves': 44, 'min_child_samples': 58}. Best is trial 2 with value: -2.6860962470649943.\u001b[0m\n"
     ]
    },
    {
     "name": "stdout",
     "output_type": "stream",
     "text": [
      "Early stopping, best iteration is:\n",
      "[576]\ttraining's l1: 2.49537\tvalid_1's l1: 2.69328\n",
      "[LightGBM] [Warning] feature_fraction is set=0.8351598637198931, colsample_bytree=0.8 will be ignored. Current value: feature_fraction=0.8351598637198931\n",
      "[LightGBM] [Warning] bagging_fraction is set=0.8214272507639946, subsample=0.6 will be ignored. Current value: bagging_fraction=0.8214272507639946\n",
      "[LightGBM] [Warning] bagging_freq is set=7, subsample_freq=0 will be ignored. Current value: bagging_freq=7\n",
      "Training until validation scores don't improve for 100 rounds\n",
      "[100]\ttraining's l1: 2.42079\tvalid_1's l1: 2.69414\n",
      "[200]\ttraining's l1: 2.33425\tvalid_1's l1: 2.69075\n"
     ]
    },
    {
     "name": "stderr",
     "output_type": "stream",
     "text": [
      "\u001b[32m[I 2021-07-19 21:47:31,792]\u001b[0m Trial 4 finished with value: -2.6887822904775356 and parameters: {'max_depth': 16, 'min_child_weight': 6, 'subsample': 0.6, 'colsample_bytree': 0.8, 'reg_lambda': 5.168757419040659, 'reg_alpha': 2.796806246380536, 'feature_fraction': 0.8351598637198931, 'bagging_fraction': 0.8214272507639946, 'bagging_freq': 7, 'num_leaves': 607, 'min_child_samples': 73}. Best is trial 2 with value: -2.6860962470649943.\u001b[0m\n"
     ]
    },
    {
     "name": "stdout",
     "output_type": "stream",
     "text": [
      "Early stopping, best iteration is:\n",
      "[191]\ttraining's l1: 2.34132\tvalid_1's l1: 2.68975\n",
      "[LightGBM] [Warning] feature_fraction is set=0.273149570352399, colsample_bytree=0.7 will be ignored. Current value: feature_fraction=0.273149570352399\n",
      "[LightGBM] [Warning] bagging_fraction is set=0.6461241103767064, subsample=0.8 will be ignored. Current value: bagging_fraction=0.6461241103767064\n",
      "[LightGBM] [Warning] bagging_freq is set=11, subsample_freq=0 will be ignored. Current value: bagging_freq=11\n",
      "Training until validation scores don't improve for 100 rounds\n",
      "[100]\ttraining's l1: 2.50356\tvalid_1's l1: 2.70703\n",
      "[200]\ttraining's l1: 2.43845\tvalid_1's l1: 2.69674\n",
      "[300]\ttraining's l1: 2.39656\tvalid_1's l1: 2.69709\n"
     ]
    },
    {
     "name": "stderr",
     "output_type": "stream",
     "text": [
      "\u001b[32m[I 2021-07-19 21:47:37,512]\u001b[0m Trial 5 finished with value: -2.6933561313998924 and parameters: {'max_depth': 16, 'min_child_weight': 19, 'subsample': 0.8, 'colsample_bytree': 0.7, 'reg_lambda': 1.2680014862057658, 'reg_alpha': 0.0015258860738085731, 'feature_fraction': 0.273149570352399, 'bagging_fraction': 0.6461241103767064, 'bagging_freq': 11, 'num_leaves': 250, 'min_child_samples': 37}. Best is trial 2 with value: -2.6860962470649943.\u001b[0m\n"
     ]
    },
    {
     "name": "stdout",
     "output_type": "stream",
     "text": [
      "Early stopping, best iteration is:\n",
      "[255]\ttraining's l1: 2.41301\tvalid_1's l1: 2.69502\n",
      "[LightGBM] [Warning] feature_fraction is set=0.5606082921535049, colsample_bytree=0.7 will be ignored. Current value: feature_fraction=0.5606082921535049\n",
      "[LightGBM] [Warning] bagging_fraction is set=0.36215176831305096, subsample=0.5 will be ignored. Current value: bagging_fraction=0.36215176831305096\n",
      "[LightGBM] [Warning] bagging_freq is set=6, subsample_freq=0 will be ignored. Current value: bagging_freq=6\n",
      "Training until validation scores don't improve for 100 rounds\n",
      "[100]\ttraining's l1: 2.57658\tvalid_1's l1: 2.71288\n",
      "[200]\ttraining's l1: 2.55195\tvalid_1's l1: 2.70761\n",
      "[300]\ttraining's l1: 2.53844\tvalid_1's l1: 2.70554\n"
     ]
    },
    {
     "name": "stderr",
     "output_type": "stream",
     "text": [
      "\u001b[32m[I 2021-07-19 21:47:41,501]\u001b[0m Trial 6 finished with value: -2.7028779450287868 and parameters: {'max_depth': 14, 'min_child_weight': 17, 'subsample': 0.5, 'colsample_bytree': 0.7, 'reg_lambda': 9.803882800798851, 'reg_alpha': 1.042759659890944, 'feature_fraction': 0.5606082921535049, 'bagging_fraction': 0.36215176831305096, 'bagging_freq': 6, 'num_leaves': 83, 'min_child_samples': 91}. Best is trial 2 with value: -2.6860962470649943.\u001b[0m\n"
     ]
    },
    {
     "name": "stdout",
     "output_type": "stream",
     "text": [
      "Early stopping, best iteration is:\n",
      "[245]\ttraining's l1: 2.54462\tvalid_1's l1: 2.70417\n",
      "[LightGBM] [Warning] feature_fraction is set=0.42268814694457596, colsample_bytree=0.6 will be ignored. Current value: feature_fraction=0.42268814694457596\n",
      "[LightGBM] [Warning] bagging_fraction is set=0.20787787314064402, subsample=0.7 will be ignored. Current value: bagging_fraction=0.20787787314064402\n",
      "[LightGBM] [Warning] bagging_freq is set=15, subsample_freq=0 will be ignored. Current value: bagging_freq=15\n",
      "Training until validation scores don't improve for 100 rounds\n",
      "[100]\ttraining's l1: 2.59172\tvalid_1's l1: 2.70843\n",
      "[200]\ttraining's l1: 2.56984\tvalid_1's l1: 2.70115\n",
      "[300]\ttraining's l1: 2.55767\tvalid_1's l1: 2.69785\n",
      "[400]\ttraining's l1: 2.55041\tvalid_1's l1: 2.69694\n"
     ]
    },
    {
     "name": "stderr",
     "output_type": "stream",
     "text": [
      "\u001b[32m[I 2021-07-19 21:47:43,913]\u001b[0m Trial 7 finished with value: -2.692475096471411 and parameters: {'max_depth': 6, 'min_child_weight': 6, 'subsample': 0.7, 'colsample_bytree': 0.6, 'reg_lambda': 0.005875436222011169, 'reg_alpha': 0.14173795996297417, 'feature_fraction': 0.42268814694457596, 'bagging_fraction': 0.20787787314064402, 'bagging_freq': 15, 'num_leaves': 293, 'min_child_samples': 5}. Best is trial 2 with value: -2.6860962470649943.\u001b[0m\n"
     ]
    },
    {
     "name": "stdout",
     "output_type": "stream",
     "text": [
      "Early stopping, best iteration is:\n",
      "[390]\ttraining's l1: 2.55103\tvalid_1's l1: 2.69493\n",
      "[LightGBM] [Warning] feature_fraction is set=0.5036676631836247, colsample_bytree=0.5 will be ignored. Current value: feature_fraction=0.5036676631836247\n",
      "[LightGBM] [Warning] bagging_fraction is set=0.36718363420998934, subsample=0.6 will be ignored. Current value: bagging_fraction=0.36718363420998934\n",
      "[LightGBM] [Warning] bagging_freq is set=14, subsample_freq=0 will be ignored. Current value: bagging_freq=14\n",
      "Training until validation scores don't improve for 100 rounds\n",
      "[100]\ttraining's l1: 2.53652\tvalid_1's l1: 2.73304\n",
      "[200]\ttraining's l1: 2.48517\tvalid_1's l1: 2.7339\n"
     ]
    },
    {
     "name": "stderr",
     "output_type": "stream",
     "text": [
      "\u001b[32m[I 2021-07-19 21:47:50,268]\u001b[0m Trial 8 finished with value: -2.7232768820674482 and parameters: {'max_depth': 20, 'min_child_weight': 10, 'subsample': 0.6, 'colsample_bytree': 0.5, 'reg_lambda': 369.0673730968469, 'reg_alpha': 0.39648295143543655, 'feature_fraction': 0.5036676631836247, 'bagging_fraction': 0.36718363420998934, 'bagging_freq': 14, 'num_leaves': 686, 'min_child_samples': 35}. Best is trial 2 with value: -2.6860962470649943.\u001b[0m\n"
     ]
    },
    {
     "name": "stdout",
     "output_type": "stream",
     "text": [
      "Early stopping, best iteration is:\n",
      "[142]\ttraining's l1: 2.51084\tvalid_1's l1: 2.72547\n",
      "[LightGBM] [Warning] feature_fraction is set=0.7927998174080608, colsample_bytree=0.7 will be ignored. Current value: feature_fraction=0.7927998174080608\n",
      "[LightGBM] [Warning] bagging_fraction is set=0.5005153017249728, subsample=0.9 will be ignored. Current value: bagging_fraction=0.5005153017249728\n",
      "[LightGBM] [Warning] bagging_freq is set=3, subsample_freq=0 will be ignored. Current value: bagging_freq=3\n",
      "Training until validation scores don't improve for 100 rounds\n",
      "[100]\ttraining's l1: 2.56971\tvalid_1's l1: 2.71465\n",
      "[200]\ttraining's l1: 2.54128\tvalid_1's l1: 2.70402\n"
     ]
    },
    {
     "name": "stderr",
     "output_type": "stream",
     "text": [
      "\u001b[32m[I 2021-07-19 21:47:53,926]\u001b[0m Trial 9 finished with value: -2.7019660803289254 and parameters: {'max_depth': 9, 'min_child_weight': 5, 'subsample': 0.9, 'colsample_bytree': 0.7, 'reg_lambda': 0.00294152525705862, 'reg_alpha': 29.602775785205047, 'feature_fraction': 0.7927998174080608, 'bagging_fraction': 0.5005153017249728, 'bagging_freq': 3, 'num_leaves': 257, 'min_child_samples': 91}. Best is trial 2 with value: -2.6860962470649943.\u001b[0m\n"
     ]
    },
    {
     "name": "stdout",
     "output_type": "stream",
     "text": [
      "Early stopping, best iteration is:\n",
      "[195]\ttraining's l1: 2.54194\tvalid_1's l1: 2.70284\n",
      "[LightGBM] [Warning] feature_fraction is set=0.9853683106144322, colsample_bytree=0.9 will be ignored. Current value: feature_fraction=0.9853683106144322\n",
      "[LightGBM] [Warning] bagging_fraction is set=0.973812059808864, subsample=0.7 will be ignored. Current value: bagging_fraction=0.973812059808864\n",
      "[LightGBM] [Warning] bagging_freq is set=1, subsample_freq=0 will be ignored. Current value: bagging_freq=1\n",
      "Training until validation scores don't improve for 100 rounds\n",
      "[100]\ttraining's l1: 2.72444\tvalid_1's l1: 2.85501\n",
      "[200]\ttraining's l1: 2.68819\tvalid_1's l1: 2.80445\n",
      "[300]\ttraining's l1: 2.67427\tvalid_1's l1: 2.78645\n",
      "[400]\ttraining's l1: 2.66533\tvalid_1's l1: 2.7736\n",
      "[500]\ttraining's l1: 2.65725\tvalid_1's l1: 2.76605\n",
      "[600]\ttraining's l1: 2.65398\tvalid_1's l1: 2.76299\n",
      "[700]\ttraining's l1: 2.6525\tvalid_1's l1: 2.76237\n",
      "[800]\ttraining's l1: 2.65032\tvalid_1's l1: 2.75973\n"
     ]
    },
    {
     "name": "stderr",
     "output_type": "stream",
     "text": [
      "\u001b[32m[I 2021-07-19 21:47:59,167]\u001b[0m Trial 10 finished with value: -2.758512750291966 and parameters: {'max_depth': 3, 'min_child_weight': 15, 'subsample': 0.7, 'colsample_bytree': 0.9, 'reg_lambda': 98.24150859958881, 'reg_alpha': 294.5368178490816, 'feature_fraction': 0.9853683106144322, 'bagging_fraction': 0.973812059808864, 'bagging_freq': 1, 'num_leaves': 969, 'min_child_samples': 65}. Best is trial 2 with value: -2.6860962470649943.\u001b[0m\n"
     ]
    },
    {
     "name": "stdout",
     "output_type": "stream",
     "text": [
      "Early stopping, best iteration is:\n",
      "[788]\ttraining's l1: 2.65043\tvalid_1's l1: 2.7596\n",
      "[LightGBM] [Warning] feature_fraction is set=0.9517695569957662, colsample_bytree=0.9 will be ignored. Current value: feature_fraction=0.9517695569957662\n",
      "[LightGBM] [Warning] bagging_fraction is set=0.9021770651176707, subsample=0.6 will be ignored. Current value: bagging_fraction=0.9021770651176707\n",
      "[LightGBM] [Warning] bagging_freq is set=10, subsample_freq=0 will be ignored. Current value: bagging_freq=10\n",
      "Training until validation scores don't improve for 100 rounds\n",
      "[100]\ttraining's l1: 2.3958\tvalid_1's l1: 2.70037\n",
      "[200]\ttraining's l1: 2.30425\tvalid_1's l1: 2.69757\n"
     ]
    },
    {
     "name": "stderr",
     "output_type": "stream",
     "text": [
      "\u001b[32m[I 2021-07-19 21:48:11,440]\u001b[0m Trial 11 finished with value: -2.6961697319251337 and parameters: {'max_depth': 16, 'min_child_weight': 1, 'subsample': 0.6, 'colsample_bytree': 0.9, 'reg_lambda': 9.732951808005762, 'reg_alpha': 5.601273897867491, 'feature_fraction': 0.9517695569957662, 'bagging_fraction': 0.9021770651176707, 'bagging_freq': 10, 'num_leaves': 965, 'min_child_samples': 70}. Best is trial 2 with value: -2.6860962470649943.\u001b[0m\n"
     ]
    },
    {
     "name": "stdout",
     "output_type": "stream",
     "text": [
      "Early stopping, best iteration is:\n",
      "[134]\ttraining's l1: 2.3597\tvalid_1's l1: 2.69675\n",
      "[LightGBM] [Warning] feature_fraction is set=0.8244539631919693, colsample_bytree=0.8 will be ignored. Current value: feature_fraction=0.8244539631919693\n",
      "[LightGBM] [Warning] bagging_fraction is set=0.8280939731791079, subsample=0.6 will be ignored. Current value: bagging_fraction=0.8280939731791079\n",
      "[LightGBM] [Warning] bagging_freq is set=9, subsample_freq=0 will be ignored. Current value: bagging_freq=9\n",
      "Training until validation scores don't improve for 100 rounds\n",
      "[100]\ttraining's l1: 2.45705\tvalid_1's l1: 2.702\n",
      "[200]\ttraining's l1: 2.39643\tvalid_1's l1: 2.6933\n"
     ]
    },
    {
     "name": "stderr",
     "output_type": "stream",
     "text": [
      "\u001b[32m[I 2021-07-19 21:48:19,756]\u001b[0m Trial 12 finished with value: -2.6921200576381428 and parameters: {'max_depth': 14, 'min_child_weight': 10, 'subsample': 0.6, 'colsample_bytree': 0.8, 'reg_lambda': 0.45282244091363916, 'reg_alpha': 13.178441541975047, 'feature_fraction': 0.8244539631919693, 'bagging_fraction': 0.8280939731791079, 'bagging_freq': 9, 'num_leaves': 729, 'min_child_samples': 81}. Best is trial 2 with value: -2.6860962470649943.\u001b[0m\n"
     ]
    },
    {
     "name": "stdout",
     "output_type": "stream",
     "text": [
      "Early stopping, best iteration is:\n",
      "[197]\ttraining's l1: 2.39754\tvalid_1's l1: 2.69301\n",
      "[LightGBM] [Warning] feature_fraction is set=0.8548760655147216, colsample_bytree=0.8 will be ignored. Current value: feature_fraction=0.8548760655147216\n",
      "[LightGBM] [Warning] bagging_fraction is set=0.8217827280163718, subsample=0.6 will be ignored. Current value: bagging_fraction=0.8217827280163718\n",
      "[LightGBM] [Warning] bagging_freq is set=3, subsample_freq=0 will be ignored. Current value: bagging_freq=3\n",
      "Training until validation scores don't improve for 100 rounds\n",
      "[100]\ttraining's l1: 2.41563\tvalid_1's l1: 2.69105\n",
      "[200]\ttraining's l1: 2.33424\tvalid_1's l1: 2.69159\n"
     ]
    },
    {
     "name": "stderr",
     "output_type": "stream",
     "text": [
      "\u001b[32m[I 2021-07-19 21:48:28,258]\u001b[0m Trial 13 finished with value: -2.6851121399746587 and parameters: {'max_depth': 18, 'min_child_weight': 20, 'subsample': 0.6, 'colsample_bytree': 0.8, 'reg_lambda': 15.137739284707727, 'reg_alpha': 2.457631121361614, 'feature_fraction': 0.8548760655147216, 'bagging_fraction': 0.8217827280163718, 'bagging_freq': 3, 'num_leaves': 483, 'min_child_samples': 53}. Best is trial 13 with value: -2.6851121399746587.\u001b[0m\n"
     ]
    },
    {
     "name": "stdout",
     "output_type": "stream",
     "text": [
      "Early stopping, best iteration is:\n",
      "[135]\ttraining's l1: 2.38281\tvalid_1's l1: 2.68598\n",
      "[LightGBM] [Warning] feature_fraction is set=0.6871546250445995, colsample_bytree=0.9 will be ignored. Current value: feature_fraction=0.6871546250445995\n",
      "[LightGBM] [Warning] bagging_fraction is set=0.793077355885773, subsample=0.5 will be ignored. Current value: bagging_fraction=0.793077355885773\n",
      "[LightGBM] [Warning] bagging_freq is set=2, subsample_freq=0 will be ignored. Current value: bagging_freq=2\n",
      "Training until validation scores don't improve for 100 rounds\n",
      "[100]\ttraining's l1: 2.49221\tvalid_1's l1: 2.69972\n",
      "[200]\ttraining's l1: 2.43624\tvalid_1's l1: 2.69132\n"
     ]
    },
    {
     "name": "stderr",
     "output_type": "stream",
     "text": [
      "\u001b[32m[I 2021-07-19 21:48:36,665]\u001b[0m Trial 14 finished with value: -2.688809183149227 and parameters: {'max_depth': 19, 'min_child_weight': 20, 'subsample': 0.5, 'colsample_bytree': 0.9, 'reg_lambda': 875.1550399745564, 'reg_alpha': 0.019074953280578726, 'feature_fraction': 0.6871546250445995, 'bagging_fraction': 0.793077355885773, 'bagging_freq': 2, 'num_leaves': 482, 'min_child_samples': 48}. Best is trial 13 with value: -2.6851121399746587.\u001b[0m\n"
     ]
    },
    {
     "name": "stdout",
     "output_type": "stream",
     "text": [
      "Early stopping, best iteration is:\n",
      "[190]\ttraining's l1: 2.44029\tvalid_1's l1: 2.69003\n",
      "[LightGBM] [Warning] feature_fraction is set=0.9111813401279768, colsample_bytree=0.8 will be ignored. Current value: feature_fraction=0.9111813401279768\n",
      "[LightGBM] [Warning] bagging_fraction is set=0.9976317121493947, subsample=0.7 will be ignored. Current value: bagging_fraction=0.9976317121493947\n",
      "[LightGBM] [Warning] bagging_freq is set=4, subsample_freq=0 will be ignored. Current value: bagging_freq=4\n",
      "Training until validation scores don't improve for 100 rounds\n",
      "[100]\ttraining's l1: 2.47066\tvalid_1's l1: 2.70255\n",
      "[200]\ttraining's l1: 2.41944\tvalid_1's l1: 2.69868\n",
      "[300]\ttraining's l1: 2.39181\tvalid_1's l1: 2.69739\n",
      "[400]\ttraining's l1: 2.37212\tvalid_1's l1: 2.69838\n",
      "Early stopping, best iteration is:\n",
      "[303]\ttraining's l1: 2.39114\tvalid_1's l1: 2.69716\n"
     ]
    },
    {
     "name": "stderr",
     "output_type": "stream",
     "text": [
      "\u001b[32m[I 2021-07-19 21:48:51,381]\u001b[0m Trial 15 finished with value: -2.6963774519038224 and parameters: {'max_depth': 13, 'min_child_weight': 15, 'subsample': 0.7, 'colsample_bytree': 0.8, 'reg_lambda': 45.38484055727657, 'reg_alpha': 26.532410209622654, 'feature_fraction': 0.9111813401279768, 'bagging_fraction': 0.9976317121493947, 'bagging_freq': 4, 'num_leaves': 468, 'min_child_samples': 49}. Best is trial 13 with value: -2.6851121399746587.\u001b[0m\n"
     ]
    },
    {
     "name": "stdout",
     "output_type": "stream",
     "text": [
      "[LightGBM] [Warning] feature_fraction is set=0.709155331814673, colsample_bytree=0.9 will be ignored. Current value: feature_fraction=0.709155331814673\n",
      "[LightGBM] [Warning] bagging_fraction is set=0.752033101571598, subsample=0.6 will be ignored. Current value: bagging_fraction=0.752033101571598\n",
      "[LightGBM] [Warning] bagging_freq is set=13, subsample_freq=0 will be ignored. Current value: bagging_freq=13\n",
      "Training until validation scores don't improve for 100 rounds\n"
     ]
    },
    {
     "name": "stderr",
     "output_type": "stream",
     "text": [
      "\u001b[32m[I 2021-07-19 21:48:52,686]\u001b[0m Trial 16 finished with value: -2.8552113185244394 and parameters: {'max_depth': 17, 'min_child_weight': 20, 'subsample': 0.6, 'colsample_bytree': 0.9, 'reg_lambda': 0.2878947535831825, 'reg_alpha': 906.039775455802, 'feature_fraction': 0.709155331814673, 'bagging_fraction': 0.752033101571598, 'bagging_freq': 13, 'num_leaves': 852, 'min_child_samples': 55}. Best is trial 13 with value: -2.6851121399746587.\u001b[0m\n"
     ]
    },
    {
     "name": "stdout",
     "output_type": "stream",
     "text": [
      "[100]\ttraining's l1: 2.73317\tvalid_1's l1: 2.85552\n",
      "Early stopping, best iteration is:\n",
      "[79]\ttraining's l1: 2.73359\tvalid_1's l1: 2.85547\n",
      "[LightGBM] [Warning] feature_fraction is set=0.8835759684794287, colsample_bytree=0.8 will be ignored. Current value: feature_fraction=0.8835759684794287\n",
      "[LightGBM] [Warning] bagging_fraction is set=0.9080779494453931, subsample=0.8 will be ignored. Current value: bagging_fraction=0.9080779494453931\n",
      "[LightGBM] [Warning] bagging_freq is set=4, subsample_freq=0 will be ignored. Current value: bagging_freq=4\n",
      "Training until validation scores don't improve for 100 rounds\n",
      "[100]\ttraining's l1: 2.5352\tvalid_1's l1: 2.71356\n",
      "[200]\ttraining's l1: 2.51219\tvalid_1's l1: 2.6955\n",
      "[300]\ttraining's l1: 2.49931\tvalid_1's l1: 2.69028\n",
      "[400]\ttraining's l1: 2.49037\tvalid_1's l1: 2.68853\n"
     ]
    },
    {
     "name": "stderr",
     "output_type": "stream",
     "text": [
      "\u001b[32m[I 2021-07-19 21:49:00,284]\u001b[0m Trial 17 finished with value: -2.686774794216027 and parameters: {'max_depth': 18, 'min_child_weight': 17, 'subsample': 0.8, 'colsample_bytree': 0.8, 'reg_lambda': 38.01659816929159, 'reg_alpha': 73.57958238342894, 'feature_fraction': 0.8835759684794287, 'bagging_fraction': 0.9080779494453931, 'bagging_freq': 4, 'num_leaves': 371, 'min_child_samples': 22}. Best is trial 13 with value: -2.6851121399746587.\u001b[0m\n"
     ]
    },
    {
     "name": "stdout",
     "output_type": "stream",
     "text": [
      "Early stopping, best iteration is:\n",
      "[343]\ttraining's l1: 2.49552\tvalid_1's l1: 2.68741\n",
      "[LightGBM] [Warning] feature_fraction is set=0.7413098410432365, colsample_bytree=0.9 will be ignored. Current value: feature_fraction=0.7413098410432365\n",
      "[LightGBM] [Warning] bagging_fraction is set=0.7204674457719922, subsample=0.5 will be ignored. Current value: bagging_fraction=0.7204674457719922\n",
      "[LightGBM] [Warning] bagging_freq is set=1, subsample_freq=0 will be ignored. Current value: bagging_freq=1\n",
      "Training until validation scores don't improve for 100 rounds\n",
      "[100]\ttraining's l1: 2.49408\tvalid_1's l1: 2.70344\n",
      "[200]\ttraining's l1: 2.42927\tvalid_1's l1: 2.6982\n",
      "[300]\ttraining's l1: 2.38743\tvalid_1's l1: 2.69727\n"
     ]
    },
    {
     "name": "stderr",
     "output_type": "stream",
     "text": [
      "\u001b[32m[I 2021-07-19 21:49:09,921]\u001b[0m Trial 18 finished with value: -2.69493977830443 and parameters: {'max_depth': 13, 'min_child_weight': 13, 'subsample': 0.5, 'colsample_bytree': 0.9, 'reg_lambda': 745.0097220307379, 'reg_alpha': 1.7472579122872347, 'feature_fraction': 0.7413098410432365, 'bagging_fraction': 0.7204674457719922, 'bagging_freq': 1, 'num_leaves': 820, 'min_child_samples': 43}. Best is trial 13 with value: -2.6851121399746587.\u001b[0m\n"
     ]
    },
    {
     "name": "stdout",
     "output_type": "stream",
     "text": [
      "Early stopping, best iteration is:\n",
      "[286]\ttraining's l1: 2.39249\tvalid_1's l1: 2.69676\n",
      "[LightGBM] [Warning] feature_fraction is set=0.9928960938320296, colsample_bytree=0.6 will be ignored. Current value: feature_fraction=0.9928960938320296\n",
      "[LightGBM] [Warning] bagging_fraction is set=0.8999217072055736, subsample=0.8 will be ignored. Current value: bagging_fraction=0.8999217072055736\n",
      "[LightGBM] [Warning] bagging_freq is set=8, subsample_freq=0 will be ignored. Current value: bagging_freq=8\n",
      "Training until validation scores don't improve for 100 rounds\n",
      "[100]\ttraining's l1: 2.42593\tvalid_1's l1: 2.69294\n",
      "[200]\ttraining's l1: 2.34623\tvalid_1's l1: 2.68399\n"
     ]
    },
    {
     "name": "stderr",
     "output_type": "stream",
     "text": [
      "\u001b[32m[I 2021-07-19 21:49:17,287]\u001b[0m Trial 19 finished with value: -2.680200812006577 and parameters: {'max_depth': 11, 'min_child_weight': 18, 'subsample': 0.8, 'colsample_bytree': 0.6, 'reg_lambda': 2.94991111807116, 'reg_alpha': 0.05101772656650318, 'feature_fraction': 0.9928960938320296, 'bagging_fraction': 0.8999217072055736, 'bagging_freq': 8, 'num_leaves': 534, 'min_child_samples': 24}. Best is trial 19 with value: -2.680200812006577.\u001b[0m\n"
     ]
    },
    {
     "name": "stdout",
     "output_type": "stream",
     "text": [
      "Early stopping, best iteration is:\n",
      "[180]\ttraining's l1: 2.36697\tvalid_1's l1: 2.68069\n",
      "[LightGBM] [Warning] feature_fraction is set=0.9846585989572819, colsample_bytree=0.6 will be ignored. Current value: feature_fraction=0.9846585989572819\n",
      "[LightGBM] [Warning] bagging_fraction is set=0.9196245277745948, subsample=0.8 will be ignored. Current value: bagging_fraction=0.9196245277745948\n",
      "[LightGBM] [Warning] bagging_freq is set=12, subsample_freq=0 will be ignored. Current value: bagging_freq=12\n",
      "Training until validation scores don't improve for 100 rounds\n",
      "[100]\ttraining's l1: 2.8668\tvalid_1's l1: 3.01557\n",
      "[200]\ttraining's l1: 2.8324\tvalid_1's l1: 2.96005\n",
      "[300]\ttraining's l1: 2.82375\tvalid_1's l1: 2.94436\n",
      "[400]\ttraining's l1: 2.81854\tvalid_1's l1: 2.93724\n",
      "[500]\ttraining's l1: 2.81241\tvalid_1's l1: 2.9292\n",
      "[600]\ttraining's l1: 2.81042\tvalid_1's l1: 2.9279\n",
      "[700]\ttraining's l1: 2.80758\tvalid_1's l1: 2.92633\n",
      "[800]\ttraining's l1: 2.80581\tvalid_1's l1: 2.92176\n"
     ]
    },
    {
     "name": "stderr",
     "output_type": "stream",
     "text": [
      "\u001b[32m[I 2021-07-19 21:49:22,290]\u001b[0m Trial 20 finished with value: -2.91732467621614 and parameters: {'max_depth': 1, 'min_child_weight': 19, 'subsample': 0.8, 'colsample_bytree': 0.6, 'reg_lambda': 0.08581067971104668, 'reg_alpha': 0.013171107800855314, 'feature_fraction': 0.9846585989572819, 'bagging_fraction': 0.9196245277745948, 'bagging_freq': 12, 'num_leaves': 579, 'min_child_samples': 22}. Best is trial 19 with value: -2.680200812006577.\u001b[0m\n"
     ]
    },
    {
     "name": "stdout",
     "output_type": "stream",
     "text": [
      "[900]\ttraining's l1: 2.80319\tvalid_1's l1: 2.91895\n",
      "Early stopping, best iteration is:\n",
      "[832]\ttraining's l1: 2.80366\tvalid_1's l1: 2.9184\n",
      "[LightGBM] [Warning] feature_fraction is set=0.8849423753398407, colsample_bytree=0.6 will be ignored. Current value: feature_fraction=0.8849423753398407\n",
      "[LightGBM] [Warning] bagging_fraction is set=0.8694985154920573, subsample=0.8 will be ignored. Current value: bagging_fraction=0.8694985154920573\n",
      "[LightGBM] [Warning] bagging_freq is set=9, subsample_freq=0 will be ignored. Current value: bagging_freq=9\n",
      "Training until validation scores don't improve for 100 rounds\n",
      "[100]\ttraining's l1: 2.45765\tvalid_1's l1: 2.69096\n",
      "[200]\ttraining's l1: 2.38273\tvalid_1's l1: 2.68163\n"
     ]
    },
    {
     "name": "stderr",
     "output_type": "stream",
     "text": [
      "\u001b[32m[I 2021-07-19 21:49:29,684]\u001b[0m Trial 21 finished with value: -2.6807619870936787 and parameters: {'max_depth': 12, 'min_child_weight': 17, 'subsample': 0.8, 'colsample_bytree': 0.6, 'reg_lambda': 2.1154858651069794, 'reg_alpha': 0.17300050779292497, 'feature_fraction': 0.8849423753398407, 'bagging_fraction': 0.8694985154920573, 'bagging_freq': 9, 'num_leaves': 416, 'min_child_samples': 59}. Best is trial 19 with value: -2.680200812006577.\u001b[0m\n"
     ]
    },
    {
     "name": "stdout",
     "output_type": "stream",
     "text": [
      "[300]\ttraining's l1: 2.3353\tvalid_1's l1: 2.6853\n",
      "Early stopping, best iteration is:\n",
      "[200]\ttraining's l1: 2.38273\tvalid_1's l1: 2.68163\n",
      "[LightGBM] [Warning] feature_fraction is set=0.9774458989835034, colsample_bytree=0.6 will be ignored. Current value: feature_fraction=0.9774458989835034\n",
      "[LightGBM] [Warning] bagging_fraction is set=0.9879253352981076, subsample=0.8 will be ignored. Current value: bagging_fraction=0.9879253352981076\n",
      "[LightGBM] [Warning] bagging_freq is set=5, subsample_freq=0 will be ignored. Current value: bagging_freq=5\n",
      "Training until validation scores don't improve for 100 rounds\n",
      "[100]\ttraining's l1: 2.56264\tvalid_1's l1: 2.71853\n",
      "[200]\ttraining's l1: 2.53495\tvalid_1's l1: 2.70536\n",
      "[300]\ttraining's l1: 2.52043\tvalid_1's l1: 2.70027\n",
      "[400]\ttraining's l1: 2.50729\tvalid_1's l1: 2.69842\n",
      "[500]\ttraining's l1: 2.50016\tvalid_1's l1: 2.69628\n",
      "[600]\ttraining's l1: 2.49356\tvalid_1's l1: 2.69576\n",
      "[700]\ttraining's l1: 2.48963\tvalid_1's l1: 2.69337\n",
      "[800]\ttraining's l1: 2.47796\tvalid_1's l1: 2.69074\n"
     ]
    },
    {
     "name": "stderr",
     "output_type": "stream",
     "text": [
      "\u001b[32m[I 2021-07-19 21:49:38,522]\u001b[0m Trial 22 finished with value: -2.6890395989726685 and parameters: {'max_depth': 6, 'min_child_weight': 15, 'subsample': 0.8, 'colsample_bytree': 0.6, 'reg_lambda': 2.081937023833836, 'reg_alpha': 0.01727332268702823, 'feature_fraction': 0.9774458989835034, 'bagging_fraction': 0.9879253352981076, 'bagging_freq': 5, 'num_leaves': 413, 'min_child_samples': 61}. Best is trial 19 with value: -2.680200812006577.\u001b[0m\n"
     ]
    },
    {
     "name": "stdout",
     "output_type": "stream",
     "text": [
      "Early stopping, best iteration is:\n",
      "[772]\ttraining's l1: 2.48155\tvalid_1's l1: 2.69002\n",
      "[LightGBM] [Warning] feature_fraction is set=0.9049390816772436, colsample_bytree=0.6 will be ignored. Current value: feature_fraction=0.9049390816772436\n",
      "[LightGBM] [Warning] bagging_fraction is set=0.8950116345968349, subsample=0.8 will be ignored. Current value: bagging_fraction=0.8950116345968349\n",
      "[LightGBM] [Warning] bagging_freq is set=9, subsample_freq=0 will be ignored. Current value: bagging_freq=9\n",
      "Training until validation scores don't improve for 100 rounds\n",
      "[100]\ttraining's l1: 2.46339\tvalid_1's l1: 2.70134\n",
      "[200]\ttraining's l1: 2.41151\tvalid_1's l1: 2.69353\n",
      "[300]\ttraining's l1: 2.38074\tvalid_1's l1: 2.6924\n"
     ]
    },
    {
     "name": "stderr",
     "output_type": "stream",
     "text": [
      "\u001b[32m[I 2021-07-19 21:49:46,993]\u001b[0m Trial 23 finished with value: -2.690992547354608 and parameters: {'max_depth': 11, 'min_child_weight': 18, 'subsample': 0.8, 'colsample_bytree': 0.6, 'reg_lambda': 3.955135167165338, 'reg_alpha': 0.12106642135711475, 'feature_fraction': 0.9049390816772436, 'bagging_fraction': 0.8950116345968349, 'bagging_freq': 9, 'num_leaves': 600, 'min_child_samples': 77}. Best is trial 19 with value: -2.680200812006577.\u001b[0m\n"
     ]
    },
    {
     "name": "stdout",
     "output_type": "stream",
     "text": [
      "Early stopping, best iteration is:\n",
      "[288]\ttraining's l1: 2.38504\tvalid_1's l1: 2.69175\n",
      "[LightGBM] [Warning] feature_fraction is set=0.7953779616423301, colsample_bytree=0.5 will be ignored. Current value: feature_fraction=0.7953779616423301\n",
      "[LightGBM] [Warning] bagging_fraction is set=0.7378354338562303, subsample=0.7 will be ignored. Current value: bagging_fraction=0.7378354338562303\n",
      "[LightGBM] [Warning] bagging_freq is set=16, subsample_freq=0 will be ignored. Current value: bagging_freq=16\n",
      "Training until validation scores don't improve for 100 rounds\n",
      "[100]\ttraining's l1: 2.53299\tvalid_1's l1: 2.71112\n",
      "[200]\ttraining's l1: 2.50415\tvalid_1's l1: 2.70004\n",
      "[300]\ttraining's l1: 2.48756\tvalid_1's l1: 2.69449\n",
      "[400]\ttraining's l1: 2.47559\tvalid_1's l1: 2.69303\n",
      "[500]\ttraining's l1: 2.45918\tvalid_1's l1: 2.69296\n"
     ]
    },
    {
     "name": "stderr",
     "output_type": "stream",
     "text": [
      "\u001b[32m[I 2021-07-19 21:49:51,918]\u001b[0m Trial 24 finished with value: -2.691715662939112 and parameters: {'max_depth': 7, 'min_child_weight': 13, 'subsample': 0.7, 'colsample_bytree': 0.5, 'reg_lambda': 0.4432608103989311, 'reg_alpha': 0.36507157192493045, 'feature_fraction': 0.7953779616423301, 'bagging_fraction': 0.7378354338562303, 'bagging_freq': 16, 'num_leaves': 371, 'min_child_samples': 25}. Best is trial 19 with value: -2.680200812006577.\u001b[0m\n"
     ]
    },
    {
     "name": "stdout",
     "output_type": "stream",
     "text": [
      "Early stopping, best iteration is:\n",
      "[444]\ttraining's l1: 2.4689\tvalid_1's l1: 2.69265\n",
      "[LightGBM] [Warning] feature_fraction is set=0.9986316381456178, colsample_bytree=0.6 will be ignored. Current value: feature_fraction=0.9986316381456178\n",
      "[LightGBM] [Warning] bagging_fraction is set=0.9615772796373749, subsample=0.8 will be ignored. Current value: bagging_fraction=0.9615772796373749\n",
      "[LightGBM] [Warning] bagging_freq is set=11, subsample_freq=0 will be ignored. Current value: bagging_freq=11\n",
      "Training until validation scores don't improve for 100 rounds\n",
      "[100]\ttraining's l1: 2.47968\tvalid_1's l1: 2.69376\n",
      "[200]\ttraining's l1: 2.44187\tvalid_1's l1: 2.68194\n",
      "[300]\ttraining's l1: 2.4133\tvalid_1's l1: 2.67669\n",
      "[400]\ttraining's l1: 2.35431\tvalid_1's l1: 2.67719\n"
     ]
    },
    {
     "name": "stderr",
     "output_type": "stream",
     "text": [
      "\u001b[32m[I 2021-07-19 21:50:01,116]\u001b[0m Trial 25 finished with value: -2.675499135926595 and parameters: {'max_depth': 10, 'min_child_weight': 20, 'subsample': 0.8, 'colsample_bytree': 0.6, 'reg_lambda': 18.922923809463093, 'reg_alpha': 0.004981103847335796, 'feature_fraction': 0.9986316381456178, 'bagging_fraction': 0.9615772796373749, 'bagging_freq': 11, 'num_leaves': 520, 'min_child_samples': 66}. Best is trial 25 with value: -2.675499135926595.\u001b[0m\n"
     ]
    },
    {
     "name": "stdout",
     "output_type": "stream",
     "text": [
      "Early stopping, best iteration is:\n",
      "[373]\ttraining's l1: 2.37262\tvalid_1's l1: 2.6762\n",
      "[LightGBM] [Warning] feature_fraction is set=0.9990400214311241, colsample_bytree=0.6 will be ignored. Current value: feature_fraction=0.9990400214311241\n",
      "[LightGBM] [Warning] bagging_fraction is set=0.9558314569242776, subsample=0.8 will be ignored. Current value: bagging_fraction=0.9558314569242776\n",
      "[LightGBM] [Warning] bagging_freq is set=11, subsample_freq=0 will be ignored. Current value: bagging_freq=11\n",
      "Training until validation scores don't improve for 100 rounds\n",
      "[100]\ttraining's l1: 2.49609\tvalid_1's l1: 2.69576\n",
      "[200]\ttraining's l1: 2.45971\tvalid_1's l1: 2.68754\n",
      "[300]\ttraining's l1: 2.44601\tvalid_1's l1: 2.68614\n"
     ]
    },
    {
     "name": "stderr",
     "output_type": "stream",
     "text": [
      "\u001b[32m[I 2021-07-19 21:50:06,959]\u001b[0m Trial 26 finished with value: -2.685289668537484 and parameters: {'max_depth': 9, 'min_child_weight': 16, 'subsample': 0.8, 'colsample_bytree': 0.6, 'reg_lambda': 1.815778340259917, 'reg_alpha': 0.005709456412608186, 'feature_fraction': 0.9990400214311241, 'bagging_fraction': 0.9558314569242776, 'bagging_freq': 11, 'num_leaves': 557, 'min_child_samples': 81}. Best is trial 25 with value: -2.675499135926595.\u001b[0m\n"
     ]
    },
    {
     "name": "stdout",
     "output_type": "stream",
     "text": [
      "Early stopping, best iteration is:\n",
      "[258]\ttraining's l1: 2.45162\tvalid_1's l1: 2.68578\n",
      "[LightGBM] [Warning] feature_fraction is set=0.9336418930156495, colsample_bytree=0.6 will be ignored. Current value: feature_fraction=0.9336418930156495\n",
      "[LightGBM] [Warning] bagging_fraction is set=0.8715235487769766, subsample=0.9 will be ignored. Current value: bagging_fraction=0.8715235487769766\n",
      "[LightGBM] [Warning] bagging_freq is set=9, subsample_freq=0 will be ignored. Current value: bagging_freq=9\n",
      "Training until validation scores don't improve for 100 rounds\n",
      "[100]\ttraining's l1: 2.53548\tvalid_1's l1: 2.70282\n",
      "[200]\ttraining's l1: 2.48428\tvalid_1's l1: 2.69647\n",
      "[300]\ttraining's l1: 2.45622\tvalid_1's l1: 2.69473\n"
     ]
    },
    {
     "name": "stderr",
     "output_type": "stream",
     "text": [
      "\u001b[32m[I 2021-07-19 21:50:13,921]\u001b[0m Trial 27 finished with value: -2.6936944413619166 and parameters: {'max_depth': 12, 'min_child_weight': 18, 'subsample': 0.9, 'colsample_bytree': 0.6, 'reg_lambda': 0.11507165596958176, 'reg_alpha': 0.004932793566894093, 'feature_fraction': 0.9336418930156495, 'bagging_fraction': 0.8715235487769766, 'bagging_freq': 9, 'num_leaves': 129, 'min_child_samples': 99}. Best is trial 25 with value: -2.675499135926595.\u001b[0m\n"
     ]
    },
    {
     "name": "stdout",
     "output_type": "stream",
     "text": [
      "Early stopping, best iteration is:\n",
      "[290]\ttraining's l1: 2.45958\tvalid_1's l1: 2.69447\n",
      "[LightGBM] [Warning] feature_fraction is set=0.627566625601756, colsample_bytree=0.5 will be ignored. Current value: feature_fraction=0.627566625601756\n",
      "[LightGBM] [Warning] bagging_fraction is set=0.9989967394320757, subsample=0.8 will be ignored. Current value: bagging_fraction=0.9989967394320757\n",
      "[LightGBM] [Warning] bagging_freq is set=12, subsample_freq=0 will be ignored. Current value: bagging_freq=12\n",
      "Training until validation scores don't improve for 100 rounds\n",
      "[100]\ttraining's l1: 2.47118\tvalid_1's l1: 2.69539\n",
      "[200]\ttraining's l1: 2.43888\tvalid_1's l1: 2.68679\n",
      "[300]\ttraining's l1: 2.42292\tvalid_1's l1: 2.68706\n"
     ]
    },
    {
     "name": "stderr",
     "output_type": "stream",
     "text": [
      "\u001b[32m[I 2021-07-19 21:50:20,609]\u001b[0m Trial 28 finished with value: -2.685606985514911 and parameters: {'max_depth': 10, 'min_child_weight': 20, 'subsample': 0.8, 'colsample_bytree': 0.5, 'reg_lambda': 22.223301753269208, 'reg_alpha': 0.026017264149308137, 'feature_fraction': 0.627566625601756, 'bagging_fraction': 0.9989967394320757, 'bagging_freq': 12, 'num_leaves': 415, 'min_child_samples': 65}. Best is trial 25 with value: -2.675499135926595.\u001b[0m\n"
     ]
    },
    {
     "name": "stdout",
     "output_type": "stream",
     "text": [
      "Early stopping, best iteration is:\n",
      "[216]\ttraining's l1: 2.43635\tvalid_1's l1: 2.6861\n",
      "[LightGBM] [Warning] feature_fraction is set=0.9374268362935769, colsample_bytree=0.6 will be ignored. Current value: feature_fraction=0.9374268362935769\n",
      "[LightGBM] [Warning] bagging_fraction is set=0.9444603676615949, subsample=0.9 will be ignored. Current value: bagging_fraction=0.9444603676615949\n",
      "[LightGBM] [Warning] bagging_freq is set=17, subsample_freq=0 will be ignored. Current value: bagging_freq=17\n",
      "Training until validation scores don't improve for 100 rounds\n",
      "[100]\ttraining's l1: 2.52196\tvalid_1's l1: 2.70381\n",
      "[200]\ttraining's l1: 2.49327\tvalid_1's l1: 2.69274\n",
      "[300]\ttraining's l1: 2.46879\tvalid_1's l1: 2.68513\n",
      "[400]\ttraining's l1: 2.44524\tvalid_1's l1: 2.67632\n"
     ]
    },
    {
     "name": "stderr",
     "output_type": "stream",
     "text": [
      "\u001b[32m[I 2021-07-19 21:50:26,283]\u001b[0m Trial 29 finished with value: -2.673931727071157 and parameters: {'max_depth': 7, 'min_child_weight': 14, 'subsample': 0.9, 'colsample_bytree': 0.6, 'reg_lambda': 3.7951647050974118, 'reg_alpha': 0.0015755484752801002, 'feature_fraction': 0.9374268362935769, 'bagging_fraction': 0.9444603676615949, 'bagging_freq': 17, 'num_leaves': 687, 'min_child_samples': 10}. Best is trial 29 with value: -2.673931727071157.\u001b[0m\n"
     ]
    },
    {
     "name": "stdout",
     "output_type": "stream",
     "text": [
      "[500]\ttraining's l1: 2.43151\tvalid_1's l1: 2.67588\n",
      "Early stopping, best iteration is:\n",
      "[407]\ttraining's l1: 2.44409\tvalid_1's l1: 2.67455\n",
      "[LightGBM] [Warning] feature_fraction is set=0.3533802463619181, colsample_bytree=0.5 will be ignored. Current value: feature_fraction=0.3533802463619181\n",
      "[LightGBM] [Warning] bagging_fraction is set=0.9510412137919793, subsample=0.9 will be ignored. Current value: bagging_fraction=0.9510412137919793\n",
      "[LightGBM] [Warning] bagging_freq is set=19, subsample_freq=0 will be ignored. Current value: bagging_freq=19\n",
      "Training until validation scores don't improve for 100 rounds\n",
      "[100]\ttraining's l1: 2.65941\tvalid_1's l1: 2.78209\n",
      "[200]\ttraining's l1: 2.62336\tvalid_1's l1: 2.74808\n",
      "[300]\ttraining's l1: 2.60741\tvalid_1's l1: 2.73581\n",
      "[400]\ttraining's l1: 2.5966\tvalid_1's l1: 2.72721\n",
      "[500]\ttraining's l1: 2.58879\tvalid_1's l1: 2.72131\n",
      "[600]\ttraining's l1: 2.58083\tvalid_1's l1: 2.71258\n",
      "[700]\ttraining's l1: 2.57383\tvalid_1's l1: 2.70921\n",
      "[800]\ttraining's l1: 2.56846\tvalid_1's l1: 2.70495\n",
      "[900]\ttraining's l1: 2.56494\tvalid_1's l1: 2.7021\n",
      "[1000]\ttraining's l1: 2.56071\tvalid_1's l1: 2.6999\n",
      "[1100]\ttraining's l1: 2.55558\tvalid_1's l1: 2.69738\n",
      "[1200]\ttraining's l1: 2.55072\tvalid_1's l1: 2.69521\n",
      "[1300]\ttraining's l1: 2.54718\tvalid_1's l1: 2.69339\n",
      "[1400]\ttraining's l1: 2.54248\tvalid_1's l1: 2.68907\n",
      "[1500]\ttraining's l1: 2.54023\tvalid_1's l1: 2.68903\n"
     ]
    },
    {
     "name": "stderr",
     "output_type": "stream",
     "text": [
      "\u001b[32m[I 2021-07-19 21:50:38,527]\u001b[0m Trial 30 finished with value: -2.687693241493082 and parameters: {'max_depth': 4, 'min_child_weight': 14, 'subsample': 0.9, 'colsample_bytree': 0.5, 'reg_lambda': 242.4547763698788, 'reg_alpha': 0.0010764036408120658, 'feature_fraction': 0.3533802463619181, 'bagging_fraction': 0.9510412137919793, 'bagging_freq': 19, 'num_leaves': 705, 'min_child_samples': 5}. Best is trial 29 with value: -2.673931727071157.\u001b[0m\n"
     ]
    },
    {
     "name": "stdout",
     "output_type": "stream",
     "text": [
      "Early stopping, best iteration is:\n",
      "[1492]\ttraining's l1: 2.54055\tvalid_1's l1: 2.68883\n",
      "[LightGBM] [Warning] feature_fraction is set=0.9384578887724966, colsample_bytree=0.6 will be ignored. Current value: feature_fraction=0.9384578887724966\n",
      "[LightGBM] [Warning] bagging_fraction is set=0.9230054583988437, subsample=0.8 will be ignored. Current value: bagging_fraction=0.9230054583988437\n",
      "[LightGBM] [Warning] bagging_freq is set=17, subsample_freq=0 will be ignored. Current value: bagging_freq=17\n",
      "Training until validation scores don't improve for 100 rounds\n",
      "[100]\ttraining's l1: 2.52973\tvalid_1's l1: 2.7071\n",
      "[200]\ttraining's l1: 2.4875\tvalid_1's l1: 2.6955\n",
      "[300]\ttraining's l1: 2.46556\tvalid_1's l1: 2.69003\n",
      "[400]\ttraining's l1: 2.45375\tvalid_1's l1: 2.68629\n",
      "[500]\ttraining's l1: 2.44294\tvalid_1's l1: 2.6866\n",
      "Early stopping, best iteration is:\n",
      "[418]\ttraining's l1: 2.45179\tvalid_1's l1: 2.68498\n"
     ]
    },
    {
     "name": "stderr",
     "output_type": "stream",
     "text": [
      "\u001b[32m[I 2021-07-19 21:50:44,168]\u001b[0m Trial 31 finished with value: -2.6842565600784014 and parameters: {'max_depth': 7, 'min_child_weight': 18, 'subsample': 0.8, 'colsample_bytree': 0.6, 'reg_lambda': 3.6859774641088214, 'reg_alpha': 0.003667367308861452, 'feature_fraction': 0.9384578887724966, 'bagging_fraction': 0.9230054583988437, 'bagging_freq': 17, 'num_leaves': 660, 'min_child_samples': 13}. Best is trial 29 with value: -2.673931727071157.\u001b[0m\n"
     ]
    },
    {
     "name": "stdout",
     "output_type": "stream",
     "text": [
      "[LightGBM] [Warning] feature_fraction is set=0.8957393947729593, colsample_bytree=0.6 will be ignored. Current value: feature_fraction=0.8957393947729593\n",
      "[LightGBM] [Warning] bagging_fraction is set=0.7808987132855542, subsample=0.9 will be ignored. Current value: bagging_fraction=0.7808987132855542\n",
      "[LightGBM] [Warning] bagging_freq is set=8, subsample_freq=0 will be ignored. Current value: bagging_freq=8\n",
      "Training until validation scores don't improve for 100 rounds\n",
      "[100]\ttraining's l1: 2.49331\tvalid_1's l1: 2.69903\n",
      "[200]\ttraining's l1: 2.4463\tvalid_1's l1: 2.67593\n",
      "[300]\ttraining's l1: 2.42342\tvalid_1's l1: 2.6736\n"
     ]
    },
    {
     "name": "stderr",
     "output_type": "stream",
     "text": [
      "\u001b[32m[I 2021-07-19 21:50:49,244]\u001b[0m Trial 32 finished with value: -2.670810480684822 and parameters: {'max_depth': 8, 'min_child_weight': 12, 'subsample': 0.9, 'colsample_bytree': 0.6, 'reg_lambda': 0.8879022934703679, 'reg_alpha': 0.04140241262569956, 'feature_fraction': 0.8957393947729593, 'bagging_fraction': 0.7808987132855542, 'bagging_freq': 8, 'num_leaves': 770, 'min_child_samples': 11}. Best is trial 32 with value: -2.670810480684822.\u001b[0m\n"
     ]
    },
    {
     "name": "stdout",
     "output_type": "stream",
     "text": [
      "Early stopping, best iteration is:\n",
      "[271]\ttraining's l1: 2.4312\tvalid_1's l1: 2.6714\n",
      "[LightGBM] [Warning] feature_fraction is set=0.9921044659998971, colsample_bytree=0.6 will be ignored. Current value: feature_fraction=0.9921044659998971\n",
      "[LightGBM] [Warning] bagging_fraction is set=0.6935053483175064, subsample=0.9 will be ignored. Current value: bagging_fraction=0.6935053483175064\n",
      "[LightGBM] [Warning] bagging_freq is set=19, subsample_freq=0 will be ignored. Current value: bagging_freq=19\n",
      "Training until validation scores don't improve for 100 rounds\n",
      "[100]\ttraining's l1: 2.49636\tvalid_1's l1: 2.706\n",
      "[200]\ttraining's l1: 2.46599\tvalid_1's l1: 2.69895\n",
      "[300]\ttraining's l1: 2.45001\tvalid_1's l1: 2.6953\n",
      "[400]\ttraining's l1: 2.4344\tvalid_1's l1: 2.69216\n",
      "[500]\ttraining's l1: 2.4137\tvalid_1's l1: 2.69003\n"
     ]
    },
    {
     "name": "stderr",
     "output_type": "stream",
     "text": [
      "\u001b[32m[I 2021-07-19 21:50:55,588]\u001b[0m Trial 33 finished with value: -2.6870601084567873 and parameters: {'max_depth': 8, 'min_child_weight': 11, 'subsample': 0.9, 'colsample_bytree': 0.6, 'reg_lambda': 0.9635321257991106, 'reg_alpha': 0.04757207726907552, 'feature_fraction': 0.9921044659998971, 'bagging_fraction': 0.6935053483175064, 'bagging_freq': 19, 'num_leaves': 765, 'min_child_samples': 13}. Best is trial 32 with value: -2.670810480684822.\u001b[0m\n"
     ]
    },
    {
     "name": "stdout",
     "output_type": "stream",
     "text": [
      "Early stopping, best iteration is:\n",
      "[457]\ttraining's l1: 2.42088\tvalid_1's l1: 2.68834\n",
      "[LightGBM] [Warning] feature_fraction is set=0.7636539783815893, colsample_bytree=0.7 will be ignored. Current value: feature_fraction=0.7636539783815893\n",
      "[LightGBM] [Warning] bagging_fraction is set=0.7742513099310228, subsample=0.9 will be ignored. Current value: bagging_fraction=0.7742513099310228\n",
      "[LightGBM] [Warning] bagging_freq is set=7, subsample_freq=0 will be ignored. Current value: bagging_freq=7\n",
      "Training until validation scores don't improve for 100 rounds\n",
      "[100]\ttraining's l1: 2.62929\tvalid_1's l1: 2.74758\n",
      "[200]\ttraining's l1: 2.60011\tvalid_1's l1: 2.72159\n",
      "[300]\ttraining's l1: 2.58697\tvalid_1's l1: 2.7123\n",
      "[400]\ttraining's l1: 2.57425\tvalid_1's l1: 2.70668\n",
      "[500]\ttraining's l1: 2.56701\tvalid_1's l1: 2.69886\n",
      "[600]\ttraining's l1: 2.56253\tvalid_1's l1: 2.698\n",
      "[700]\ttraining's l1: 2.55364\tvalid_1's l1: 2.69481\n",
      "[800]\ttraining's l1: 2.54866\tvalid_1's l1: 2.69185\n",
      "[900]\ttraining's l1: 2.54144\tvalid_1's l1: 2.68915\n",
      "[1000]\ttraining's l1: 2.53712\tvalid_1's l1: 2.68924\n",
      "Early stopping, best iteration is:\n",
      "[933]\ttraining's l1: 2.53903\tvalid_1's l1: 2.68861\n"
     ]
    },
    {
     "name": "stderr",
     "output_type": "stream",
     "text": [
      "\u001b[32m[I 2021-07-19 21:51:01,793]\u001b[0m Trial 34 finished with value: -2.687468671375877 and parameters: {'max_depth': 4, 'min_child_weight': 8, 'subsample': 0.9, 'colsample_bytree': 0.7, 'reg_lambda': 0.15415930782751758, 'reg_alpha': 0.0020938516165297594, 'feature_fraction': 0.7636539783815893, 'bagging_fraction': 0.7742513099310228, 'bagging_freq': 7, 'num_leaves': 795, 'min_child_samples': 27}. Best is trial 32 with value: -2.670810480684822.\u001b[0m\n"
     ]
    },
    {
     "name": "stdout",
     "output_type": "stream",
     "text": [
      "[LightGBM] [Warning] feature_fraction is set=0.9398765014935828, colsample_bytree=0.5 will be ignored. Current value: feature_fraction=0.9398765014935828\n",
      "[LightGBM] [Warning] bagging_fraction is set=0.5617466125488323, subsample=0.9 will be ignored. Current value: bagging_fraction=0.5617466125488323\n",
      "[LightGBM] [Warning] bagging_freq is set=20, subsample_freq=0 will be ignored. Current value: bagging_freq=20\n",
      "Training until validation scores don't improve for 100 rounds\n",
      "[100]\ttraining's l1: 2.43651\tvalid_1's l1: 2.70213\n",
      "[200]\ttraining's l1: 2.388\tvalid_1's l1: 2.68878\n"
     ]
    },
    {
     "name": "stderr",
     "output_type": "stream",
     "text": [
      "\u001b[32m[I 2021-07-19 21:51:07,227]\u001b[0m Trial 35 finished with value: -2.685958427353935 and parameters: {'max_depth': 10, 'min_child_weight': 12, 'subsample': 0.9, 'colsample_bytree': 0.5, 'reg_lambda': 0.7880664453684293, 'reg_alpha': 0.049859982362366884, 'feature_fraction': 0.9398765014935828, 'bagging_fraction': 0.5617466125488323, 'bagging_freq': 20, 'num_leaves': 898, 'min_child_samples': 9}. Best is trial 32 with value: -2.670810480684822.\u001b[0m\n"
     ]
    },
    {
     "name": "stdout",
     "output_type": "stream",
     "text": [
      "Early stopping, best iteration is:\n",
      "[174]\ttraining's l1: 2.39568\tvalid_1's l1: 2.68766\n",
      "[LightGBM] [Warning] feature_fraction is set=0.8661919378965072, colsample_bytree=0.7 will be ignored. Current value: feature_fraction=0.8661919378965072\n",
      "[LightGBM] [Warning] bagging_fraction is set=0.854909216971675, subsample=0.9 will be ignored. Current value: bagging_fraction=0.854909216971675\n",
      "[LightGBM] [Warning] bagging_freq is set=8, subsample_freq=0 will be ignored. Current value: bagging_freq=8\n",
      "Training until validation scores don't improve for 100 rounds\n",
      "[100]\ttraining's l1: 2.49241\tvalid_1's l1: 2.69875\n",
      "[200]\ttraining's l1: 2.45454\tvalid_1's l1: 2.68861\n",
      "[300]\ttraining's l1: 2.42648\tvalid_1's l1: 2.68487\n"
     ]
    },
    {
     "name": "stderr",
     "output_type": "stream",
     "text": [
      "\u001b[32m[I 2021-07-19 21:51:12,082]\u001b[0m Trial 36 finished with value: -2.6834223241562682 and parameters: {'max_depth': 8, 'min_child_weight': 8, 'subsample': 0.9, 'colsample_bytree': 0.7, 'reg_lambda': 0.031466960281550764, 'reg_alpha': 0.008146520068691196, 'feature_fraction': 0.8661919378965072, 'bagging_fraction': 0.854909216971675, 'bagging_freq': 8, 'num_leaves': 537, 'min_child_samples': 18}. Best is trial 32 with value: -2.670810480684822.\u001b[0m\n"
     ]
    },
    {
     "name": "stdout",
     "output_type": "stream",
     "text": [
      "Early stopping, best iteration is:\n",
      "[272]\ttraining's l1: 2.43218\tvalid_1's l1: 2.68447\n",
      "[LightGBM] [Warning] feature_fraction is set=0.8304087178490891, colsample_bytree=0.6 will be ignored. Current value: feature_fraction=0.8304087178490891\n",
      "[LightGBM] [Warning] bagging_fraction is set=0.80295548378603, subsample=0.9 will be ignored. Current value: bagging_fraction=0.80295548378603\n",
      "[LightGBM] [Warning] bagging_freq is set=6, subsample_freq=0 will be ignored. Current value: bagging_freq=6\n",
      "Training until validation scores don't improve for 100 rounds\n",
      "[100]\ttraining's l1: 2.59536\tvalid_1's l1: 2.72507\n",
      "[200]\ttraining's l1: 2.56853\tvalid_1's l1: 2.7078\n",
      "[300]\ttraining's l1: 2.55288\tvalid_1's l1: 2.69943\n",
      "[400]\ttraining's l1: 2.54086\tvalid_1's l1: 2.69434\n",
      "[500]\ttraining's l1: 2.53336\tvalid_1's l1: 2.69197\n",
      "[600]\ttraining's l1: 2.52291\tvalid_1's l1: 2.68754\n",
      "[700]\ttraining's l1: 2.51427\tvalid_1's l1: 2.68291\n",
      "[800]\ttraining's l1: 2.50681\tvalid_1's l1: 2.68195\n",
      "[900]\ttraining's l1: 2.50071\tvalid_1's l1: 2.68107\n",
      "[1000]\ttraining's l1: 2.49681\tvalid_1's l1: 2.68033\n",
      "[1100]\ttraining's l1: 2.49098\tvalid_1's l1: 2.67995\n"
     ]
    },
    {
     "name": "stderr",
     "output_type": "stream",
     "text": [
      "\u001b[32m[I 2021-07-19 21:51:20,144]\u001b[0m Trial 37 finished with value: -2.677982236689865 and parameters: {'max_depth': 5, 'min_child_weight': 12, 'subsample': 0.9, 'colsample_bytree': 0.6, 'reg_lambda': 5.512624339438283, 'reg_alpha': 0.002590137143745474, 'feature_fraction': 0.8304087178490891, 'bagging_fraction': 0.80295548378603, 'bagging_freq': 6, 'num_leaves': 634, 'min_child_samples': 31}. Best is trial 32 with value: -2.670810480684822.\u001b[0m\n"
     ]
    },
    {
     "name": "stdout",
     "output_type": "stream",
     "text": [
      "Early stopping, best iteration is:\n",
      "[1036]\ttraining's l1: 2.49328\tvalid_1's l1: 2.67949\n",
      "[LightGBM] [Warning] feature_fraction is set=0.8209731448332743, colsample_bytree=0.7 will be ignored. Current value: feature_fraction=0.8209731448332743\n",
      "[LightGBM] [Warning] bagging_fraction is set=0.6837777384891606, subsample=0.9 will be ignored. Current value: bagging_fraction=0.6837777384891606\n",
      "[LightGBM] [Warning] bagging_freq is set=6, subsample_freq=0 will be ignored. Current value: bagging_freq=6\n",
      "Training until validation scores don't improve for 100 rounds\n",
      "[100]\ttraining's l1: 2.60435\tvalid_1's l1: 2.73376\n",
      "[200]\ttraining's l1: 2.57166\tvalid_1's l1: 2.70575\n",
      "[300]\ttraining's l1: 2.55418\tvalid_1's l1: 2.69887\n",
      "[400]\ttraining's l1: 2.54093\tvalid_1's l1: 2.69719\n"
     ]
    },
    {
     "name": "stderr",
     "output_type": "stream",
     "text": [
      "\u001b[32m[I 2021-07-19 21:51:23,485]\u001b[0m Trial 38 finished with value: -2.69596498446963 and parameters: {'max_depth': 5, 'min_child_weight': 9, 'subsample': 0.9, 'colsample_bytree': 0.7, 'reg_lambda': 8.66758418772521, 'reg_alpha': 0.0020881435321755686, 'feature_fraction': 0.8209731448332743, 'bagging_fraction': 0.6837777384891606, 'bagging_freq': 6, 'num_leaves': 643, 'min_child_samples': 31}. Best is trial 32 with value: -2.670810480684822.\u001b[0m\n"
     ]
    },
    {
     "name": "stdout",
     "output_type": "stream",
     "text": [
      "Early stopping, best iteration is:\n",
      "[361]\ttraining's l1: 2.54452\tvalid_1's l1: 2.69676\n",
      "[LightGBM] [Warning] feature_fraction is set=0.9048471737849844, colsample_bytree=0.5 will be ignored. Current value: feature_fraction=0.9048471737849844\n",
      "[LightGBM] [Warning] bagging_fraction is set=0.7909164731832492, subsample=0.9 will be ignored. Current value: bagging_fraction=0.7909164731832492\n",
      "[LightGBM] [Warning] bagging_freq is set=5, subsample_freq=0 will be ignored. Current value: bagging_freq=5\n",
      "Training until validation scores don't improve for 100 rounds\n",
      "[100]\ttraining's l1: 2.75821\tvalid_1's l1: 2.8871\n",
      "[200]\ttraining's l1: 2.71445\tvalid_1's l1: 2.83746\n",
      "[300]\ttraining's l1: 2.7028\tvalid_1's l1: 2.82386\n",
      "[400]\ttraining's l1: 2.68664\tvalid_1's l1: 2.79616\n",
      "[500]\ttraining's l1: 2.67385\tvalid_1's l1: 2.78404\n",
      "[600]\ttraining's l1: 2.66631\tvalid_1's l1: 2.77537\n",
      "[700]\ttraining's l1: 2.65929\tvalid_1's l1: 2.76883\n",
      "[800]\ttraining's l1: 2.65564\tvalid_1's l1: 2.7673\n",
      "[900]\ttraining's l1: 2.65045\tvalid_1's l1: 2.75889\n",
      "[1000]\ttraining's l1: 2.64719\tvalid_1's l1: 2.75682\n",
      "[1100]\ttraining's l1: 2.64241\tvalid_1's l1: 2.75177\n",
      "[1200]\ttraining's l1: 2.63917\tvalid_1's l1: 2.7488\n",
      "[1300]\ttraining's l1: 2.63604\tvalid_1's l1: 2.7464\n",
      "[1400]\ttraining's l1: 2.63101\tvalid_1's l1: 2.74111\n"
     ]
    },
    {
     "name": "stderr",
     "output_type": "stream",
     "text": [
      "\u001b[32m[I 2021-07-19 21:51:32,058]\u001b[0m Trial 39 finished with value: -2.739769217076179 and parameters: {'max_depth': 2, 'min_child_weight': 13, 'subsample': 0.9, 'colsample_bytree': 0.5, 'reg_lambda': 25.05257322958529, 'reg_alpha': 0.001270213841239353, 'feature_fraction': 0.9048471737849844, 'bagging_fraction': 0.7909164731832492, 'bagging_freq': 5, 'num_leaves': 765, 'min_child_samples': 17}. Best is trial 32 with value: -2.670810480684822.\u001b[0m\n"
     ]
    },
    {
     "name": "stdout",
     "output_type": "stream",
     "text": [
      "Early stopping, best iteration is:\n",
      "[1374]\ttraining's l1: 2.63151\tvalid_1's l1: 2.74074\n",
      "[LightGBM] [Warning] feature_fraction is set=0.5829966498197825, colsample_bytree=0.6 will be ignored. Current value: feature_fraction=0.5829966498197825\n",
      "[LightGBM] [Warning] bagging_fraction is set=0.6014163871896597, subsample=0.9 will be ignored. Current value: bagging_fraction=0.6014163871896597\n",
      "[LightGBM] [Warning] bagging_freq is set=7, subsample_freq=0 will be ignored. Current value: bagging_freq=7\n",
      "Training until validation scores don't improve for 100 rounds\n",
      "[100]\ttraining's l1: 2.58744\tvalid_1's l1: 2.72667\n",
      "[200]\ttraining's l1: 2.55738\tvalid_1's l1: 2.70766\n",
      "[300]\ttraining's l1: 2.542\tvalid_1's l1: 2.70236\n",
      "[400]\ttraining's l1: 2.52647\tvalid_1's l1: 2.6952\n",
      "[500]\ttraining's l1: 2.51659\tvalid_1's l1: 2.69019\n"
     ]
    },
    {
     "name": "stderr",
     "output_type": "stream",
     "text": [
      "\u001b[32m[I 2021-07-19 21:51:37,786]\u001b[0m Trial 40 finished with value: -2.6890601858350505 and parameters: {'max_depth': 6, 'min_child_weight': 11, 'subsample': 0.9, 'colsample_bytree': 0.6, 'reg_lambda': 75.53537561798846, 'reg_alpha': 0.0029921925946058835, 'feature_fraction': 0.5829966498197825, 'bagging_fraction': 0.6014163871896597, 'bagging_freq': 7, 'num_leaves': 906, 'min_child_samples': 39}. Best is trial 32 with value: -2.670810480684822.\u001b[0m\n"
     ]
    },
    {
     "name": "stdout",
     "output_type": "stream",
     "text": [
      "[600]\ttraining's l1: 2.50974\tvalid_1's l1: 2.69206\n",
      "Early stopping, best iteration is:\n",
      "[500]\ttraining's l1: 2.51659\tvalid_1's l1: 2.69019\n",
      "[LightGBM] [Warning] feature_fraction is set=0.9575127507432869, colsample_bytree=0.6 will be ignored. Current value: feature_fraction=0.9575127507432869\n",
      "[LightGBM] [Warning] bagging_fraction is set=0.9473394556302466, subsample=0.8 will be ignored. Current value: bagging_fraction=0.9473394556302466\n",
      "[LightGBM] [Warning] bagging_freq is set=10, subsample_freq=0 will be ignored. Current value: bagging_freq=10\n",
      "Training until validation scores don't improve for 100 rounds\n",
      "[100]\ttraining's l1: 2.49104\tvalid_1's l1: 2.69871\n",
      "[200]\ttraining's l1: 2.45162\tvalid_1's l1: 2.68477\n",
      "[300]\ttraining's l1: 2.42569\tvalid_1's l1: 2.68156\n",
      "[400]\ttraining's l1: 2.41076\tvalid_1's l1: 2.68066\n",
      "[500]\ttraining's l1: 2.3975\tvalid_1's l1: 2.68062\n"
     ]
    },
    {
     "name": "stderr",
     "output_type": "stream",
     "text": [
      "\u001b[32m[I 2021-07-19 21:51:45,100]\u001b[0m Trial 41 finished with value: -2.678680190589 and parameters: {'max_depth': 8, 'min_child_weight': 12, 'subsample': 0.8, 'colsample_bytree': 0.6, 'reg_lambda': 5.309690455721437, 'reg_alpha': 0.009103234017762514, 'feature_fraction': 0.9575127507432869, 'bagging_fraction': 0.9473394556302466, 'bagging_freq': 10, 'num_leaves': 638, 'min_child_samples': 8}. Best is trial 32 with value: -2.670810480684822.\u001b[0m\n"
     ]
    },
    {
     "name": "stdout",
     "output_type": "stream",
     "text": [
      "Early stopping, best iteration is:\n",
      "[421]\ttraining's l1: 2.40773\tvalid_1's l1: 2.67947\n",
      "[LightGBM] [Warning] feature_fraction is set=0.9503709609265707, colsample_bytree=0.6 will be ignored. Current value: feature_fraction=0.9503709609265707\n",
      "[LightGBM] [Warning] bagging_fraction is set=0.9462757432356326, subsample=0.9 will be ignored. Current value: bagging_fraction=0.9462757432356326\n",
      "[LightGBM] [Warning] bagging_freq is set=10, subsample_freq=0 will be ignored. Current value: bagging_freq=10\n",
      "Training until validation scores don't improve for 100 rounds\n",
      "[100]\ttraining's l1: 2.49438\tvalid_1's l1: 2.69661\n",
      "[200]\ttraining's l1: 2.44393\tvalid_1's l1: 2.68579\n",
      "[300]\ttraining's l1: 2.42393\tvalid_1's l1: 2.68237\n",
      "[400]\ttraining's l1: 2.41125\tvalid_1's l1: 2.67956\n",
      "[500]\ttraining's l1: 2.39061\tvalid_1's l1: 2.67681\n",
      "[600]\ttraining's l1: 2.37651\tvalid_1's l1: 2.6778\n",
      "Early stopping, best iteration is:\n",
      "[509]\ttraining's l1: 2.38825\tvalid_1's l1: 2.67546\n"
     ]
    },
    {
     "name": "stderr",
     "output_type": "stream",
     "text": [
      "\u001b[32m[I 2021-07-19 21:51:53,313]\u001b[0m Trial 42 finished with value: -2.6729470742181225 and parameters: {'max_depth': 8, 'min_child_weight': 12, 'subsample': 0.9, 'colsample_bytree': 0.6, 'reg_lambda': 6.716030536621018, 'reg_alpha': 0.009600113973711615, 'feature_fraction': 0.9503709609265707, 'bagging_fraction': 0.9462757432356326, 'bagging_freq': 10, 'num_leaves': 627, 'min_child_samples': 9}. Best is trial 32 with value: -2.670810480684822.\u001b[0m\n"
     ]
    },
    {
     "name": "stdout",
     "output_type": "stream",
     "text": [
      "[LightGBM] [Warning] feature_fraction is set=0.8573062204830195, colsample_bytree=0.7 will be ignored. Current value: feature_fraction=0.8573062204830195\n",
      "[LightGBM] [Warning] bagging_fraction is set=0.8405353069355097, subsample=0.9 will be ignored. Current value: bagging_fraction=0.8405353069355097\n",
      "[LightGBM] [Warning] bagging_freq is set=14, subsample_freq=0 will be ignored. Current value: bagging_freq=14\n",
      "Training until validation scores don't improve for 100 rounds\n",
      "[100]\ttraining's l1: 2.46412\tvalid_1's l1: 2.68515\n",
      "[200]\ttraining's l1: 2.39467\tvalid_1's l1: 2.68552\n",
      "[300]\ttraining's l1: 2.32856\tvalid_1's l1: 2.68457\n"
     ]
    },
    {
     "name": "stderr",
     "output_type": "stream",
     "text": [
      "\u001b[32m[I 2021-07-19 21:51:59,290]\u001b[0m Trial 43 finished with value: -2.6805405513760383 and parameters: {'max_depth': 9, 'min_child_weight': 14, 'subsample': 0.9, 'colsample_bytree': 0.7, 'reg_lambda': 7.3963108151209225, 'reg_alpha': 0.001014141304291299, 'feature_fraction': 0.8573062204830195, 'bagging_fraction': 0.8405353069355097, 'bagging_freq': 14, 'num_leaves': 724, 'min_child_samples': 10}. Best is trial 32 with value: -2.670810480684822.\u001b[0m\n"
     ]
    },
    {
     "name": "stdout",
     "output_type": "stream",
     "text": [
      "Early stopping, best iteration is:\n",
      "[260]\ttraining's l1: 2.35964\tvalid_1's l1: 2.6827\n",
      "[LightGBM] [Warning] feature_fraction is set=0.8055892778578884, colsample_bytree=0.6 will be ignored. Current value: feature_fraction=0.8055892778578884\n",
      "[LightGBM] [Warning] bagging_fraction is set=0.6148542362499145, subsample=0.9 will be ignored. Current value: bagging_fraction=0.6148542362499145\n",
      "[LightGBM] [Warning] bagging_freq is set=11, subsample_freq=0 will be ignored. Current value: bagging_freq=11\n",
      "Training until validation scores don't improve for 100 rounds\n",
      "[100]\ttraining's l1: 2.60647\tvalid_1's l1: 2.73822\n",
      "[200]\ttraining's l1: 2.57093\tvalid_1's l1: 2.70897\n",
      "[300]\ttraining's l1: 2.55702\tvalid_1's l1: 2.69998\n",
      "[400]\ttraining's l1: 2.54615\tvalid_1's l1: 2.69304\n",
      "[500]\ttraining's l1: 2.53836\tvalid_1's l1: 2.68899\n"
     ]
    },
    {
     "name": "stderr",
     "output_type": "stream",
     "text": [
      "\u001b[32m[I 2021-07-19 21:52:02,968]\u001b[0m Trial 44 finished with value: -2.687930930468299 and parameters: {'max_depth': 5, 'min_child_weight': 11, 'subsample': 0.9, 'colsample_bytree': 0.6, 'reg_lambda': 17.644866522511027, 'reg_alpha': 0.007877789107498189, 'feature_fraction': 0.8055892778578884, 'bagging_fraction': 0.6148542362499145, 'bagging_freq': 11, 'num_leaves': 674, 'min_child_samples': 17}. Best is trial 32 with value: -2.670810480684822.\u001b[0m\n"
     ]
    },
    {
     "name": "stdout",
     "output_type": "stream",
     "text": [
      "Early stopping, best iteration is:\n",
      "[486]\ttraining's l1: 2.53915\tvalid_1's l1: 2.68892\n",
      "[LightGBM] [Warning] feature_fraction is set=0.6378705847485486, colsample_bytree=0.5 will be ignored. Current value: feature_fraction=0.6378705847485486\n",
      "[LightGBM] [Warning] bagging_fraction is set=0.9962312622887081, subsample=0.9 will be ignored. Current value: bagging_fraction=0.9962312622887081\n",
      "[LightGBM] [Warning] bagging_freq is set=8, subsample_freq=0 will be ignored. Current value: bagging_freq=8\n",
      "Training until validation scores don't improve for 100 rounds\n",
      "[100]\ttraining's l1: 2.52526\tvalid_1's l1: 2.70067\n",
      "[200]\ttraining's l1: 2.49578\tvalid_1's l1: 2.69143\n"
     ]
    },
    {
     "name": "stderr",
     "output_type": "stream",
     "text": [
      "\u001b[32m[I 2021-07-19 21:52:06,898]\u001b[0m Trial 45 finished with value: -2.69085121214735 and parameters: {'max_depth': 7, 'min_child_weight': 2, 'subsample': 0.9, 'colsample_bytree': 0.5, 'reg_lambda': 1.1164196781869757, 'reg_alpha': 0.003162442020108612, 'feature_fraction': 0.6378705847485486, 'bagging_fraction': 0.9962312622887081, 'bagging_freq': 8, 'num_leaves': 616, 'min_child_samples': 30}. Best is trial 32 with value: -2.670810480684822.\u001b[0m\n"
     ]
    },
    {
     "name": "stdout",
     "output_type": "stream",
     "text": [
      "Early stopping, best iteration is:\n",
      "[187]\ttraining's l1: 2.49741\tvalid_1's l1: 2.6912\n",
      "[LightGBM] [Warning] feature_fraction is set=0.9255007382511976, colsample_bytree=0.6 will be ignored. Current value: feature_fraction=0.9255007382511976\n",
      "[LightGBM] [Warning] bagging_fraction is set=0.8091698114583943, subsample=0.9 will be ignored. Current value: bagging_fraction=0.8091698114583943\n",
      "[LightGBM] [Warning] bagging_freq is set=12, subsample_freq=0 will be ignored. Current value: bagging_freq=12\n",
      "Training until validation scores don't improve for 100 rounds\n",
      "[100]\ttraining's l1: 2.61731\tvalid_1's l1: 2.75182\n",
      "[200]\ttraining's l1: 2.58592\tvalid_1's l1: 2.72194\n",
      "[300]\ttraining's l1: 2.56408\tvalid_1's l1: 2.71193\n",
      "[400]\ttraining's l1: 2.55456\tvalid_1's l1: 2.70636\n",
      "[500]\ttraining's l1: 2.54686\tvalid_1's l1: 2.70173\n",
      "[600]\ttraining's l1: 2.53792\tvalid_1's l1: 2.69933\n",
      "[700]\ttraining's l1: 2.52929\tvalid_1's l1: 2.69574\n",
      "[800]\ttraining's l1: 2.52274\tvalid_1's l1: 2.69021\n",
      "[900]\ttraining's l1: 2.51518\tvalid_1's l1: 2.68737\n",
      "[1000]\ttraining's l1: 2.50977\tvalid_1's l1: 2.68751\n",
      "[1100]\ttraining's l1: 2.48827\tvalid_1's l1: 2.68431\n"
     ]
    },
    {
     "name": "stderr",
     "output_type": "stream",
     "text": [
      "\u001b[32m[I 2021-07-19 21:52:15,267]\u001b[0m Trial 46 finished with value: -2.6821231310095106 and parameters: {'max_depth': 5, 'min_child_weight': 9, 'subsample': 0.9, 'colsample_bytree': 0.6, 'reg_lambda': 142.17368451438108, 'reg_alpha': 0.02674378588587219, 'feature_fraction': 0.9255007382511976, 'bagging_fraction': 0.8091698114583943, 'bagging_freq': 12, 'num_leaves': 759, 'min_child_samples': 5}. Best is trial 32 with value: -2.670810480684822.\u001b[0m\n"
     ]
    },
    {
     "name": "stdout",
     "output_type": "stream",
     "text": [
      "Early stopping, best iteration is:\n",
      "[1052]\ttraining's l1: 2.50107\tvalid_1's l1: 2.6835\n",
      "[LightGBM] [Warning] feature_fraction is set=0.7604409295684634, colsample_bytree=0.7 will be ignored. Current value: feature_fraction=0.7604409295684634\n",
      "[LightGBM] [Warning] bagging_fraction is set=0.950911637386852, subsample=0.9 will be ignored. Current value: bagging_fraction=0.950911637386852\n",
      "[LightGBM] [Warning] bagging_freq is set=15, subsample_freq=0 will be ignored. Current value: bagging_freq=15\n",
      "Training until validation scores don't improve for 100 rounds\n",
      "[100]\ttraining's l1: 2.50597\tvalid_1's l1: 2.70136\n",
      "[200]\ttraining's l1: 2.47666\tvalid_1's l1: 2.69496\n",
      "[300]\ttraining's l1: 2.45304\tvalid_1's l1: 2.69174\n",
      "[400]\ttraining's l1: 2.43387\tvalid_1's l1: 2.69033\n",
      "[500]\ttraining's l1: 2.4226\tvalid_1's l1: 2.68754\n"
     ]
    },
    {
     "name": "stderr",
     "output_type": "stream",
     "text": [
      "\u001b[32m[I 2021-07-19 21:52:22,356]\u001b[0m Trial 47 finished with value: -2.6860619724380674 and parameters: {'max_depth': 8, 'min_child_weight': 14, 'subsample': 0.9, 'colsample_bytree': 0.7, 'reg_lambda': 12.809512394966715, 'reg_alpha': 0.011172426037507928, 'feature_fraction': 0.7604409295684634, 'bagging_fraction': 0.950911637386852, 'bagging_freq': 15, 'num_leaves': 515, 'min_child_samples': 43}. Best is trial 32 with value: -2.670810480684822.\u001b[0m\n"
     ]
    },
    {
     "name": "stdout",
     "output_type": "stream",
     "text": [
      "[600]\ttraining's l1: 2.40058\tvalid_1's l1: 2.68785\n",
      "Early stopping, best iteration is:\n",
      "[506]\ttraining's l1: 2.42127\tvalid_1's l1: 2.68689\n",
      "[LightGBM] [Warning] feature_fraction is set=0.5117110235798724, colsample_bytree=0.6 will be ignored. Current value: feature_fraction=0.5117110235798724\n",
      "[LightGBM] [Warning] bagging_fraction is set=0.5017039867625104, subsample=0.9 will be ignored. Current value: bagging_fraction=0.5017039867625104\n",
      "[LightGBM] [Warning] bagging_freq is set=6, subsample_freq=0 will be ignored. Current value: bagging_freq=6\n",
      "Training until validation scores don't improve for 100 rounds\n",
      "[100]\ttraining's l1: 2.47964\tvalid_1's l1: 2.71307\n",
      "[200]\ttraining's l1: 2.40038\tvalid_1's l1: 2.70915\n",
      "[300]\ttraining's l1: 2.34373\tvalid_1's l1: 2.7058\n"
     ]
    },
    {
     "name": "stderr",
     "output_type": "stream",
     "text": [
      "\u001b[32m[I 2021-07-19 21:52:28,645]\u001b[0m Trial 48 finished with value: -2.7032024913875348 and parameters: {'max_depth': 10, 'min_child_weight': 10, 'subsample': 0.9, 'colsample_bytree': 0.6, 'reg_lambda': 36.75539774515347, 'reg_alpha': 0.0018390723747893109, 'feature_fraction': 0.5117110235798724, 'bagging_fraction': 0.5017039867625104, 'bagging_freq': 6, 'num_leaves': 838, 'min_child_samples': 19}. Best is trial 32 with value: -2.670810480684822.\u001b[0m\n"
     ]
    },
    {
     "name": "stdout",
     "output_type": "stream",
     "text": [
      "Early stopping, best iteration is:\n",
      "[245]\ttraining's l1: 2.36842\tvalid_1's l1: 2.70475\n",
      "[LightGBM] [Warning] feature_fraction is set=0.838691401607786, colsample_bytree=0.7 will be ignored. Current value: feature_fraction=0.838691401607786\n",
      "[LightGBM] [Warning] bagging_fraction is set=0.8732023169879414, subsample=0.7 will be ignored. Current value: bagging_fraction=0.8732023169879414\n",
      "[LightGBM] [Warning] bagging_freq is set=10, subsample_freq=0 will be ignored. Current value: bagging_freq=10\n",
      "Training until validation scores don't improve for 100 rounds\n",
      "[100]\ttraining's l1: 2.67661\tvalid_1's l1: 2.78624\n",
      "[200]\ttraining's l1: 2.64031\tvalid_1's l1: 2.7506\n",
      "[300]\ttraining's l1: 2.62529\tvalid_1's l1: 2.73265\n",
      "[400]\ttraining's l1: 2.61754\tvalid_1's l1: 2.72763\n",
      "[500]\ttraining's l1: 2.60894\tvalid_1's l1: 2.7214\n",
      "[600]\ttraining's l1: 2.60202\tvalid_1's l1: 2.71712\n",
      "[700]\ttraining's l1: 2.59866\tvalid_1's l1: 2.71497\n",
      "[800]\ttraining's l1: 2.59381\tvalid_1's l1: 2.71273\n",
      "[900]\ttraining's l1: 2.58952\tvalid_1's l1: 2.70872\n",
      "[1000]\ttraining's l1: 2.58622\tvalid_1's l1: 2.70686\n",
      "[1100]\ttraining's l1: 2.58245\tvalid_1's l1: 2.70426\n",
      "[1200]\ttraining's l1: 2.57959\tvalid_1's l1: 2.70265\n",
      "[1300]\ttraining's l1: 2.57679\tvalid_1's l1: 2.70094\n",
      "[1400]\ttraining's l1: 2.57454\tvalid_1's l1: 2.70089\n",
      "[1500]\ttraining's l1: 2.57084\tvalid_1's l1: 2.69976\n",
      "[1600]\ttraining's l1: 2.56833\tvalid_1's l1: 2.69979\n",
      "Early stopping, best iteration is:\n",
      "[1534]\ttraining's l1: 2.57045\tvalid_1's l1: 2.69925\n"
     ]
    },
    {
     "name": "stderr",
     "output_type": "stream",
     "text": [
      "\u001b[32m[I 2021-07-19 21:52:37,920]\u001b[0m Trial 49 finished with value: -2.698331199117072 and parameters: {'max_depth': 3, 'min_child_weight': 12, 'subsample': 0.7, 'colsample_bytree': 0.7, 'reg_lambda': 0.5982869572276269, 'reg_alpha': 0.3058963706006865, 'feature_fraction': 0.838691401607786, 'bagging_fraction': 0.8732023169879414, 'bagging_freq': 10, 'num_leaves': 599, 'min_child_samples': 70}. Best is trial 32 with value: -2.670810480684822.\u001b[0m\n"
     ]
    },
    {
     "name": "stdout",
     "output_type": "stream",
     "text": [
      "[LightGBM] [Warning] feature_fraction is set=0.9610132842178278, colsample_bytree=0.5 will be ignored. Current value: feature_fraction=0.9610132842178278\n",
      "[LightGBM] [Warning] bagging_fraction is set=0.7627663664700518, subsample=0.8 will be ignored. Current value: bagging_fraction=0.7627663664700518\n",
      "[LightGBM] [Warning] bagging_freq is set=13, subsample_freq=0 will be ignored. Current value: bagging_freq=13\n",
      "Training until validation scores don't improve for 100 rounds\n",
      "[100]\ttraining's l1: 2.538\tvalid_1's l1: 2.71748\n",
      "[200]\ttraining's l1: 2.50481\tvalid_1's l1: 2.7002\n",
      "[300]\ttraining's l1: 2.48915\tvalid_1's l1: 2.6957\n",
      "[400]\ttraining's l1: 2.47019\tvalid_1's l1: 2.6915\n",
      "[500]\ttraining's l1: 2.45961\tvalid_1's l1: 2.69098\n",
      "[600]\ttraining's l1: 2.44819\tvalid_1's l1: 2.6886\n",
      "[700]\ttraining's l1: 2.4381\tvalid_1's l1: 2.68723\n",
      "[800]\ttraining's l1: 2.42674\tvalid_1's l1: 2.68489\n"
     ]
    },
    {
     "name": "stderr",
     "output_type": "stream",
     "text": [
      "\u001b[32m[I 2021-07-19 21:52:45,979]\u001b[0m Trial 50 finished with value: -2.681932714970385 and parameters: {'max_depth': 7, 'min_child_weight': 9, 'subsample': 0.8, 'colsample_bytree': 0.5, 'reg_lambda': 6.6142279277743485, 'reg_alpha': 0.033123460592935736, 'feature_fraction': 0.9610132842178278, 'bagging_fraction': 0.7627663664700518, 'bagging_freq': 13, 'num_leaves': 695, 'min_child_samples': 34}. Best is trial 32 with value: -2.670810480684822.\u001b[0m\n"
     ]
    },
    {
     "name": "stdout",
     "output_type": "stream",
     "text": [
      "Early stopping, best iteration is:\n",
      "[750]\ttraining's l1: 2.43188\tvalid_1's l1: 2.68301\n",
      "[LightGBM] [Warning] feature_fraction is set=0.9579817047383583, colsample_bytree=0.6 will be ignored. Current value: feature_fraction=0.9579817047383583\n",
      "[LightGBM] [Warning] bagging_fraction is set=0.9780375136501329, subsample=0.8 will be ignored. Current value: bagging_fraction=0.9780375136501329\n",
      "[LightGBM] [Warning] bagging_freq is set=10, subsample_freq=0 will be ignored. Current value: bagging_freq=10\n",
      "Training until validation scores don't improve for 100 rounds\n",
      "[100]\ttraining's l1: 2.49319\tvalid_1's l1: 2.70014\n",
      "[200]\ttraining's l1: 2.46018\tvalid_1's l1: 2.68795\n",
      "[300]\ttraining's l1: 2.42458\tvalid_1's l1: 2.68733\n"
     ]
    },
    {
     "name": "stderr",
     "output_type": "stream",
     "text": [
      "\u001b[32m[I 2021-07-19 21:52:51,318]\u001b[0m Trial 51 finished with value: -2.6849701393404555 and parameters: {'max_depth': 8, 'min_child_weight': 12, 'subsample': 0.8, 'colsample_bytree': 0.6, 'reg_lambda': 5.152995497655359, 'reg_alpha': 0.006464789463167505, 'feature_fraction': 0.9579817047383583, 'bagging_fraction': 0.9780375136501329, 'bagging_freq': 10, 'num_leaves': 577, 'min_child_samples': 9}. Best is trial 32 with value: -2.670810480684822.\u001b[0m\n"
     ]
    },
    {
     "name": "stdout",
     "output_type": "stream",
     "text": [
      "Early stopping, best iteration is:\n",
      "[240]\ttraining's l1: 2.45153\tvalid_1's l1: 2.68528\n",
      "[LightGBM] [Warning] feature_fraction is set=0.8895003848040247, colsample_bytree=0.6 will be ignored. Current value: feature_fraction=0.8895003848040247\n",
      "[LightGBM] [Warning] bagging_fraction is set=0.9400711613160412, subsample=0.9 will be ignored. Current value: bagging_fraction=0.9400711613160412\n",
      "[LightGBM] [Warning] bagging_freq is set=10, subsample_freq=0 will be ignored. Current value: bagging_freq=10\n",
      "Training until validation scores don't improve for 100 rounds\n",
      "[100]\ttraining's l1: 2.55866\tvalid_1's l1: 2.71386\n",
      "[200]\ttraining's l1: 2.52795\tvalid_1's l1: 2.69759\n",
      "[300]\ttraining's l1: 2.50886\tvalid_1's l1: 2.69569\n",
      "[400]\ttraining's l1: 2.49809\tvalid_1's l1: 2.6944\n",
      "[500]\ttraining's l1: 2.48926\tvalid_1's l1: 2.69047\n",
      "[600]\ttraining's l1: 2.48218\tvalid_1's l1: 2.6888\n",
      "[700]\ttraining's l1: 2.47736\tvalid_1's l1: 2.68731\n"
     ]
    },
    {
     "name": "stderr",
     "output_type": "stream",
     "text": [
      "\u001b[32m[I 2021-07-19 21:52:58,510]\u001b[0m Trial 52 finished with value: -2.685967709096984 and parameters: {'max_depth': 6, 'min_child_weight': 13, 'subsample': 0.9, 'colsample_bytree': 0.6, 'reg_lambda': 2.8953890272088074, 'reg_alpha': 0.003547539039665618, 'feature_fraction': 0.8895003848040247, 'bagging_fraction': 0.9400711613160412, 'bagging_freq': 10, 'num_leaves': 651, 'min_child_samples': 10}. Best is trial 32 with value: -2.670810480684822.\u001b[0m\n"
     ]
    },
    {
     "name": "stdout",
     "output_type": "stream",
     "text": [
      "Early stopping, best iteration is:\n",
      "[689]\ttraining's l1: 2.47776\tvalid_1's l1: 2.68684\n",
      "[LightGBM] [Warning] feature_fraction is set=0.9269419029506915, colsample_bytree=0.6 will be ignored. Current value: feature_fraction=0.9269419029506915\n",
      "[LightGBM] [Warning] bagging_fraction is set=0.8369047580656003, subsample=0.7 will be ignored. Current value: bagging_fraction=0.8369047580656003\n",
      "[LightGBM] [Warning] bagging_freq is set=7, subsample_freq=0 will be ignored. Current value: bagging_freq=7\n",
      "Training until validation scores don't improve for 100 rounds\n",
      "[100]\ttraining's l1: 2.44887\tvalid_1's l1: 2.68296\n",
      "[200]\ttraining's l1: 2.38104\tvalid_1's l1: 2.67804\n"
     ]
    },
    {
     "name": "stderr",
     "output_type": "stream",
     "text": [
      "\u001b[32m[I 2021-07-19 21:53:03,452]\u001b[0m Trial 53 finished with value: -2.674708052735104 and parameters: {'max_depth': 9, 'min_child_weight': 12, 'subsample': 0.7, 'colsample_bytree': 0.6, 'reg_lambda': 1.4198822899911896, 'reg_alpha': 0.010007833782962218, 'feature_fraction': 0.9269419029506915, 'bagging_fraction': 0.8369047580656003, 'bagging_freq': 7, 'num_leaves': 636, 'min_child_samples': 5}. Best is trial 32 with value: -2.670810480684822.\u001b[0m\n"
     ]
    },
    {
     "name": "stdout",
     "output_type": "stream",
     "text": [
      "Early stopping, best iteration is:\n",
      "[133]\ttraining's l1: 2.4237\tvalid_1's l1: 2.67505\n",
      "[LightGBM] [Warning] feature_fraction is set=0.8673124002817421, colsample_bytree=0.6 will be ignored. Current value: feature_fraction=0.8673124002817421\n",
      "[LightGBM] [Warning] bagging_fraction is set=0.8305591416673771, subsample=0.7 will be ignored. Current value: bagging_fraction=0.8305591416673771\n",
      "[LightGBM] [Warning] bagging_freq is set=5, subsample_freq=0 will be ignored. Current value: bagging_freq=5\n",
      "Training until validation scores don't improve for 100 rounds\n",
      "[100]\ttraining's l1: 2.44964\tvalid_1's l1: 2.68512\n",
      "[200]\ttraining's l1: 2.40148\tvalid_1's l1: 2.6783\n",
      "[300]\ttraining's l1: 2.3596\tvalid_1's l1: 2.67982\n"
     ]
    },
    {
     "name": "stderr",
     "output_type": "stream",
     "text": [
      "\u001b[32m[I 2021-07-19 21:53:09,283]\u001b[0m Trial 54 finished with value: -2.675519719967497 and parameters: {'max_depth': 9, 'min_child_weight': 10, 'subsample': 0.7, 'colsample_bytree': 0.6, 'reg_lambda': 0.254849216338074, 'reg_alpha': 0.01482645157457726, 'feature_fraction': 0.8673124002817421, 'bagging_fraction': 0.8305591416673771, 'bagging_freq': 5, 'num_leaves': 749, 'min_child_samples': 14}. Best is trial 32 with value: -2.670810480684822.\u001b[0m\n"
     ]
    },
    {
     "name": "stdout",
     "output_type": "stream",
     "text": [
      "Early stopping, best iteration is:\n",
      "[252]\ttraining's l1: 2.37776\tvalid_1's l1: 2.67634\n",
      "[LightGBM] [Warning] feature_fraction is set=0.9983289187391029, colsample_bytree=0.6 will be ignored. Current value: feature_fraction=0.9983289187391029\n",
      "[LightGBM] [Warning] bagging_fraction is set=0.833431212309128, subsample=0.7 will be ignored. Current value: bagging_fraction=0.833431212309128\n",
      "[LightGBM] [Warning] bagging_freq is set=7, subsample_freq=0 will be ignored. Current value: bagging_freq=7\n",
      "Training until validation scores don't improve for 100 rounds\n",
      "[100]\ttraining's l1: 2.45804\tvalid_1's l1: 2.69994\n",
      "[200]\ttraining's l1: 2.4016\tvalid_1's l1: 2.68319\n",
      "[300]\ttraining's l1: 2.37075\tvalid_1's l1: 2.68224\n"
     ]
    },
    {
     "name": "stderr",
     "output_type": "stream",
     "text": [
      "\u001b[32m[I 2021-07-19 21:53:15,945]\u001b[0m Trial 55 finished with value: -2.6808254912425427 and parameters: {'max_depth': 9, 'min_child_weight': 8, 'subsample': 0.7, 'colsample_bytree': 0.6, 'reg_lambda': 0.24029674814840724, 'reg_alpha': 0.015326808890225087, 'feature_fraction': 0.9983289187391029, 'bagging_fraction': 0.833431212309128, 'bagging_freq': 7, 'num_leaves': 792, 'min_child_samples': 14}. Best is trial 32 with value: -2.670810480684822.\u001b[0m\n"
     ]
    },
    {
     "name": "stdout",
     "output_type": "stream",
     "text": [
      "[400]\ttraining's l1: 2.34528\tvalid_1's l1: 2.68783\n",
      "Early stopping, best iteration is:\n",
      "[303]\ttraining's l1: 2.36979\tvalid_1's l1: 2.68156\n",
      "[LightGBM] [Warning] feature_fraction is set=0.876547926451995, colsample_bytree=0.6 will be ignored. Current value: feature_fraction=0.876547926451995\n",
      "[LightGBM] [Warning] bagging_fraction is set=0.8834721886908411, subsample=0.7 will be ignored. Current value: bagging_fraction=0.8834721886908411\n",
      "[LightGBM] [Warning] bagging_freq is set=4, subsample_freq=0 will be ignored. Current value: bagging_freq=4\n",
      "Training until validation scores don't improve for 100 rounds\n",
      "[100]\ttraining's l1: 2.36209\tvalid_1's l1: 2.69708\n",
      "[200]\ttraining's l1: 2.26456\tvalid_1's l1: 2.69324\n",
      "[300]\ttraining's l1: 2.16934\tvalid_1's l1: 2.70724\n"
     ]
    },
    {
     "name": "stderr",
     "output_type": "stream",
     "text": [
      "\u001b[32m[I 2021-07-19 21:53:25,019]\u001b[0m Trial 56 finished with value: -2.689284854575027 and parameters: {'max_depth': 11, 'min_child_weight': 7, 'subsample': 0.7, 'colsample_bytree': 0.6, 'reg_lambda': 1.5748378675466415, 'reg_alpha': 0.059964673537915854, 'feature_fraction': 0.876547926451995, 'bagging_fraction': 0.8834721886908411, 'bagging_freq': 4, 'num_leaves': 739, 'min_child_samples': 5}. Best is trial 32 with value: -2.670810480684822.\u001b[0m\n"
     ]
    },
    {
     "name": "stdout",
     "output_type": "stream",
     "text": [
      "Early stopping, best iteration is:\n",
      "[215]\ttraining's l1: 2.24704\tvalid_1's l1: 2.69024\n",
      "[LightGBM] [Warning] feature_fraction is set=0.9257640089929852, colsample_bytree=0.6 will be ignored. Current value: feature_fraction=0.9257640089929852\n",
      "[LightGBM] [Warning] bagging_fraction is set=0.7035060038257679, subsample=0.7 will be ignored. Current value: bagging_fraction=0.7035060038257679\n",
      "[LightGBM] [Warning] bagging_freq is set=5, subsample_freq=0 will be ignored. Current value: bagging_freq=5\n",
      "Training until validation scores don't improve for 100 rounds\n",
      "[100]\ttraining's l1: 2.41469\tvalid_1's l1: 2.70947\n",
      "[200]\ttraining's l1: 2.3407\tvalid_1's l1: 2.699\n"
     ]
    },
    {
     "name": "stderr",
     "output_type": "stream",
     "text": [
      "\u001b[32m[I 2021-07-19 21:53:31,719]\u001b[0m Trial 57 finished with value: -2.6977976019548566 and parameters: {'max_depth': 10, 'min_child_weight': 10, 'subsample': 0.7, 'colsample_bytree': 0.6, 'reg_lambda': 0.050829365725126426, 'reg_alpha': 0.07141579759961243, 'feature_fraction': 0.9257640089929852, 'bagging_fraction': 0.7035060038257679, 'bagging_freq': 5, 'num_leaves': 940, 'min_child_samples': 5}. Best is trial 32 with value: -2.670810480684822.\u001b[0m\n"
     ]
    },
    {
     "name": "stdout",
     "output_type": "stream",
     "text": [
      "Early stopping, best iteration is:\n",
      "[194]\ttraining's l1: 2.34437\tvalid_1's l1: 2.69862\n",
      "[LightGBM] [Warning] feature_fraction is set=0.9124718785075171, colsample_bytree=0.7 will be ignored. Current value: feature_fraction=0.9124718785075171\n",
      "[LightGBM] [Warning] bagging_fraction is set=0.9196377468636534, subsample=0.7 will be ignored. Current value: bagging_fraction=0.9196377468636534\n",
      "[LightGBM] [Warning] bagging_freq is set=3, subsample_freq=0 will be ignored. Current value: bagging_freq=3\n",
      "Training until validation scores don't improve for 100 rounds\n",
      "[100]\ttraining's l1: 2.37431\tvalid_1's l1: 2.68371\n",
      "[200]\ttraining's l1: 2.27658\tvalid_1's l1: 2.68079\n"
     ]
    },
    {
     "name": "stderr",
     "output_type": "stream",
     "text": [
      "\u001b[32m[I 2021-07-19 21:53:40,169]\u001b[0m Trial 58 finished with value: -2.6764984989897656 and parameters: {'max_depth': 12, 'min_child_weight': 11, 'subsample': 0.7, 'colsample_bytree': 0.7, 'reg_lambda': 0.3172317956611918, 'reg_alpha': 0.20015810303685058, 'feature_fraction': 0.9124718785075171, 'bagging_fraction': 0.9196377468636534, 'bagging_freq': 3, 'num_leaves': 869, 'min_child_samples': 20}. Best is trial 32 with value: -2.670810480684822.\u001b[0m\n"
     ]
    },
    {
     "name": "stdout",
     "output_type": "stream",
     "text": [
      "Early stopping, best iteration is:\n",
      "[136]\ttraining's l1: 2.33513\tvalid_1's l1: 2.67706\n",
      "[LightGBM] [Warning] feature_fraction is set=0.9728659726152871, colsample_bytree=0.5 will be ignored. Current value: feature_fraction=0.9728659726152871\n",
      "[LightGBM] [Warning] bagging_fraction is set=0.659861376944021, subsample=0.7 will be ignored. Current value: bagging_fraction=0.659861376944021\n",
      "[LightGBM] [Warning] bagging_freq is set=7, subsample_freq=0 will be ignored. Current value: bagging_freq=7\n",
      "Training until validation scores don't improve for 100 rounds\n",
      "[100]\ttraining's l1: 2.46722\tvalid_1's l1: 2.69832\n",
      "[200]\ttraining's l1: 2.41156\tvalid_1's l1: 2.68462\n",
      "[300]\ttraining's l1: 2.36217\tvalid_1's l1: 2.67976\n"
     ]
    },
    {
     "name": "stderr",
     "output_type": "stream",
     "text": [
      "\u001b[32m[I 2021-07-19 21:53:46,453]\u001b[0m Trial 59 finished with value: -2.6740915440063655 and parameters: {'max_depth': 9, 'min_child_weight': 4, 'subsample': 0.7, 'colsample_bytree': 0.5, 'reg_lambda': 0.7427922285908172, 'reg_alpha': 0.720653290223169, 'feature_fraction': 0.9728659726152871, 'bagging_fraction': 0.659861376944021, 'bagging_freq': 7, 'num_leaves': 807, 'min_child_samples': 14}. Best is trial 32 with value: -2.670810480684822.\u001b[0m\n"
     ]
    },
    {
     "name": "stdout",
     "output_type": "stream",
     "text": [
      "Early stopping, best iteration is:\n",
      "[272]\ttraining's l1: 2.37484\tvalid_1's l1: 2.67669\n",
      "[LightGBM] [Warning] feature_fraction is set=0.9876247341842651, colsample_bytree=0.5 will be ignored. Current value: feature_fraction=0.9876247341842651\n",
      "[LightGBM] [Warning] bagging_fraction is set=0.642266015215677, subsample=0.6 will be ignored. Current value: bagging_fraction=0.642266015215677\n",
      "[LightGBM] [Warning] bagging_freq is set=9, subsample_freq=0 will be ignored. Current value: bagging_freq=9\n",
      "Training until validation scores don't improve for 100 rounds\n",
      "[100]\ttraining's l1: 2.49758\tvalid_1's l1: 2.71586\n",
      "[200]\ttraining's l1: 2.45139\tvalid_1's l1: 2.71042\n",
      "[300]\ttraining's l1: 2.41656\tvalid_1's l1: 2.7113\n"
     ]
    },
    {
     "name": "stderr",
     "output_type": "stream",
     "text": [
      "\u001b[32m[I 2021-07-19 21:53:53,441]\u001b[0m Trial 60 finished with value: -2.7081938109446044 and parameters: {'max_depth': 11, 'min_child_weight': 4, 'subsample': 0.6, 'colsample_bytree': 0.5, 'reg_lambda': 0.8056374902236564, 'reg_alpha': 0.7075482055495568, 'feature_fraction': 0.9876247341842651, 'bagging_fraction': 0.642266015215677, 'bagging_freq': 9, 'num_leaves': 471, 'min_child_samples': 86}. Best is trial 32 with value: -2.670810480684822.\u001b[0m\n"
     ]
    },
    {
     "name": "stdout",
     "output_type": "stream",
     "text": [
      "Early stopping, best iteration is:\n",
      "[229]\ttraining's l1: 2.44017\tvalid_1's l1: 2.70928\n",
      "[LightGBM] [Warning] feature_fraction is set=0.9527600302833821, colsample_bytree=0.5 will be ignored. Current value: feature_fraction=0.9527600302833821\n",
      "[LightGBM] [Warning] bagging_fraction is set=0.5652794356337918, subsample=0.7 will be ignored. Current value: bagging_fraction=0.5652794356337918\n",
      "[LightGBM] [Warning] bagging_freq is set=8, subsample_freq=0 will be ignored. Current value: bagging_freq=8\n",
      "Training until validation scores don't improve for 100 rounds\n",
      "[100]\ttraining's l1: 2.46772\tvalid_1's l1: 2.69071\n",
      "[200]\ttraining's l1: 2.42176\tvalid_1's l1: 2.69342\n"
     ]
    },
    {
     "name": "stderr",
     "output_type": "stream",
     "text": [
      "\u001b[32m[I 2021-07-19 21:53:57,458]\u001b[0m Trial 61 finished with value: -2.687420806828491 and parameters: {'max_depth': 9, 'min_child_weight': 2, 'subsample': 0.7, 'colsample_bytree': 0.5, 'reg_lambda': 0.18743768130365437, 'reg_alpha': 0.022192567392009487, 'feature_fraction': 0.9527600302833821, 'bagging_fraction': 0.5652794356337918, 'bagging_freq': 8, 'num_leaves': 816, 'min_child_samples': 13}. Best is trial 32 with value: -2.670810480684822.\u001b[0m\n"
     ]
    },
    {
     "name": "stdout",
     "output_type": "stream",
     "text": [
      "Early stopping, best iteration is:\n",
      "[130]\ttraining's l1: 2.4527\tvalid_1's l1: 2.68806\n",
      "[LightGBM] [Warning] feature_fraction is set=0.9700256430522565, colsample_bytree=0.6 will be ignored. Current value: feature_fraction=0.9700256430522565\n",
      "[LightGBM] [Warning] bagging_fraction is set=0.7486458972917163, subsample=0.7 will be ignored. Current value: bagging_fraction=0.7486458972917163\n",
      "[LightGBM] [Warning] bagging_freq is set=7, subsample_freq=0 will be ignored. Current value: bagging_freq=7\n",
      "Training until validation scores don't improve for 100 rounds\n",
      "[100]\ttraining's l1: 2.4797\tvalid_1's l1: 2.69628\n",
      "[200]\ttraining's l1: 2.41529\tvalid_1's l1: 2.68556\n",
      "[300]\ttraining's l1: 2.35338\tvalid_1's l1: 2.67866\n",
      "[400]\ttraining's l1: 2.32002\tvalid_1's l1: 2.67941\n"
     ]
    },
    {
     "name": "stderr",
     "output_type": "stream",
     "text": [
      "\u001b[32m[I 2021-07-19 21:54:05,884]\u001b[0m Trial 62 finished with value: -2.6760469119222985 and parameters: {'max_depth': 9, 'min_child_weight': 6, 'subsample': 0.7, 'colsample_bytree': 0.6, 'reg_lambda': 0.40662817504075793, 'reg_alpha': 6.024334095700467, 'feature_fraction': 0.9700256430522565, 'bagging_fraction': 0.7486458972917163, 'bagging_freq': 7, 'num_leaves': 695, 'min_child_samples': 16}. Best is trial 32 with value: -2.670810480684822.\u001b[0m\n"
     ]
    },
    {
     "name": "stdout",
     "output_type": "stream",
     "text": [
      "Early stopping, best iteration is:\n",
      "[369]\ttraining's l1: 2.32875\tvalid_1's l1: 2.67737\n",
      "[LightGBM] [Warning] feature_fraction is set=0.8973058073162278, colsample_bytree=0.6 will be ignored. Current value: feature_fraction=0.8973058073162278\n",
      "[LightGBM] [Warning] bagging_fraction is set=0.6619018375635457, subsample=0.7 will be ignored. Current value: bagging_fraction=0.6619018375635457\n",
      "[LightGBM] [Warning] bagging_freq is set=8, subsample_freq=0 will be ignored. Current value: bagging_freq=8\n",
      "Training until validation scores don't improve for 100 rounds\n",
      "[100]\ttraining's l1: 2.43805\tvalid_1's l1: 2.69873\n",
      "[200]\ttraining's l1: 2.38832\tvalid_1's l1: 2.69476\n",
      "[300]\ttraining's l1: 2.32988\tvalid_1's l1: 2.69273\n",
      "[400]\ttraining's l1: 2.27654\tvalid_1's l1: 2.69449\n"
     ]
    },
    {
     "name": "stderr",
     "output_type": "stream",
     "text": [
      "\u001b[32m[I 2021-07-19 21:54:14,445]\u001b[0m Trial 63 finished with value: -2.6872584059409546 and parameters: {'max_depth': 10, 'min_child_weight': 16, 'subsample': 0.7, 'colsample_bytree': 0.6, 'reg_lambda': 1.4204804039952972, 'reg_alpha': 0.10115868811383108, 'feature_fraction': 0.8973058073162278, 'bagging_fraction': 0.6619018375635457, 'bagging_freq': 8, 'num_leaves': 790, 'min_child_samples': 8}. Best is trial 32 with value: -2.670810480684822.\u001b[0m\n"
     ]
    },
    {
     "name": "stdout",
     "output_type": "stream",
     "text": [
      "Early stopping, best iteration is:\n",
      "[345]\ttraining's l1: 2.3049\tvalid_1's l1: 2.68995\n",
      "[LightGBM] [Warning] feature_fraction is set=0.8489333647996533, colsample_bytree=0.5 will be ignored. Current value: feature_fraction=0.8489333647996533\n",
      "[LightGBM] [Warning] bagging_fraction is set=0.23776188448246044, subsample=0.7 will be ignored. Current value: bagging_fraction=0.23776188448246044\n",
      "[LightGBM] [Warning] bagging_freq is set=5, subsample_freq=0 will be ignored. Current value: bagging_freq=5\n",
      "Training until validation scores don't improve for 100 rounds\n",
      "[100]\ttraining's l1: 2.57316\tvalid_1's l1: 2.72455\n",
      "[200]\ttraining's l1: 2.54425\tvalid_1's l1: 2.71054\n",
      "[300]\ttraining's l1: 2.52555\tvalid_1's l1: 2.70698\n",
      "[400]\ttraining's l1: 2.51325\tvalid_1's l1: 2.70398\n"
     ]
    },
    {
     "name": "stderr",
     "output_type": "stream",
     "text": [
      "\u001b[32m[I 2021-07-19 21:54:17,519]\u001b[0m Trial 64 finished with value: -2.699022097959322 and parameters: {'max_depth': 7, 'min_child_weight': 4, 'subsample': 0.7, 'colsample_bytree': 0.5, 'reg_lambda': 2.452830277467297, 'reg_alpha': 0.012032007107314622, 'feature_fraction': 0.8489333647996533, 'bagging_fraction': 0.23776188448246044, 'bagging_freq': 5, 'num_leaves': 738, 'min_child_samples': 22}. Best is trial 32 with value: -2.670810480684822.\u001b[0m\n"
     ]
    },
    {
     "name": "stdout",
     "output_type": "stream",
     "text": [
      "Early stopping, best iteration is:\n",
      "[393]\ttraining's l1: 2.514\tvalid_1's l1: 2.70271\n",
      "[LightGBM] [Warning] feature_fraction is set=0.9244397203042723, colsample_bytree=0.6 will be ignored. Current value: feature_fraction=0.9244397203042723\n",
      "[LightGBM] [Warning] bagging_fraction is set=0.7210427361945284, subsample=0.7 will be ignored. Current value: bagging_fraction=0.7210427361945284\n",
      "[LightGBM] [Warning] bagging_freq is set=6, subsample_freq=0 will be ignored. Current value: bagging_freq=6\n",
      "Training until validation scores don't improve for 100 rounds\n",
      "[100]\ttraining's l1: 2.51735\tvalid_1's l1: 2.70564\n",
      "[200]\ttraining's l1: 2.49303\tvalid_1's l1: 2.69931\n",
      "[300]\ttraining's l1: 2.47502\tvalid_1's l1: 2.69854\n",
      "[400]\ttraining's l1: 2.45561\tvalid_1's l1: 2.6923\n"
     ]
    },
    {
     "name": "stderr",
     "output_type": "stream",
     "text": [
      "\u001b[32m[I 2021-07-19 21:54:23,863]\u001b[0m Trial 65 finished with value: -2.69097118320857 and parameters: {'max_depth': 8, 'min_child_weight': 13, 'subsample': 0.7, 'colsample_bytree': 0.6, 'reg_lambda': 0.08139466285744178, 'reg_alpha': 0.666305309372892, 'feature_fraction': 0.9244397203042723, 'bagging_fraction': 0.7210427361945284, 'bagging_freq': 6, 'num_leaves': 714, 'min_child_samples': 64}. Best is trial 32 with value: -2.670810480684822.\u001b[0m\n"
     ]
    },
    {
     "name": "stdout",
     "output_type": "stream",
     "text": [
      "[500]\ttraining's l1: 2.44465\tvalid_1's l1: 2.69257\n",
      "Early stopping, best iteration is:\n",
      "[405]\ttraining's l1: 2.45401\tvalid_1's l1: 2.69194\n",
      "[LightGBM] [Warning] feature_fraction is set=0.23785136563088283, colsample_bytree=0.6 will be ignored. Current value: feature_fraction=0.23785136563088283\n",
      "[LightGBM] [Warning] bagging_fraction is set=0.8555519696281749, subsample=0.6 will be ignored. Current value: bagging_fraction=0.8555519696281749\n",
      "[LightGBM] [Warning] bagging_freq is set=2, subsample_freq=0 will be ignored. Current value: bagging_freq=2\n",
      "Training until validation scores don't improve for 100 rounds\n",
      "[100]\ttraining's l1: 2.39812\tvalid_1's l1: 2.71405\n",
      "[200]\ttraining's l1: 2.27725\tvalid_1's l1: 2.70639\n"
     ]
    },
    {
     "name": "stderr",
     "output_type": "stream",
     "text": [
      "\u001b[32m[I 2021-07-19 21:54:30,537]\u001b[0m Trial 66 finished with value: -2.7027973528441542 and parameters: {'max_depth': 13, 'min_child_weight': 15, 'subsample': 0.6, 'colsample_bytree': 0.6, 'reg_lambda': 0.6101082023106899, 'reg_alpha': 0.004538077639457818, 'feature_fraction': 0.23785136563088283, 'bagging_fraction': 0.8555519696281749, 'bagging_freq': 2, 'num_leaves': 563, 'min_child_samples': 12}. Best is trial 32 with value: -2.670810480684822.\u001b[0m\n"
     ]
    },
    {
     "name": "stdout",
     "output_type": "stream",
     "text": [
      "Early stopping, best iteration is:\n",
      "[149]\ttraining's l1: 2.32563\tvalid_1's l1: 2.70381\n",
      "[LightGBM] [Warning] feature_fraction is set=0.9988798672274768, colsample_bytree=0.5 will be ignored. Current value: feature_fraction=0.9988798672274768\n",
      "[LightGBM] [Warning] bagging_fraction is set=0.7848252883366172, subsample=0.8 will be ignored. Current value: bagging_fraction=0.7848252883366172\n",
      "[LightGBM] [Warning] bagging_freq is set=9, subsample_freq=0 will be ignored. Current value: bagging_freq=9\n",
      "Training until validation scores don't improve for 100 rounds\n",
      "[100]\ttraining's l1: 2.49268\tvalid_1's l1: 2.70175\n",
      "[200]\ttraining's l1: 2.40158\tvalid_1's l1: 2.68888\n"
     ]
    },
    {
     "name": "stderr",
     "output_type": "stream",
     "text": [
      "\u001b[32m[I 2021-07-19 21:54:36,040]\u001b[0m Trial 67 finished with value: -2.686572274276249 and parameters: {'max_depth': 9, 'min_child_weight': 14, 'subsample': 0.8, 'colsample_bytree': 0.5, 'reg_lambda': 0.012640671136012352, 'reg_alpha': 12.598943875944283, 'feature_fraction': 0.9988798672274768, 'bagging_fraction': 0.7848252883366172, 'bagging_freq': 9, 'num_leaves': 674, 'min_child_samples': 6}. Best is trial 32 with value: -2.670810480684822.\u001b[0m\n"
     ]
    },
    {
     "name": "stdout",
     "output_type": "stream",
     "text": [
      "Early stopping, best iteration is:\n",
      "[157]\ttraining's l1: 2.43371\tvalid_1's l1: 2.68716\n",
      "[LightGBM] [Warning] feature_fraction is set=0.8827918366834121, colsample_bytree=0.6 will be ignored. Current value: feature_fraction=0.8827918366834121\n",
      "[LightGBM] [Warning] bagging_fraction is set=0.8176134832230815, subsample=0.7 will be ignored. Current value: bagging_fraction=0.8176134832230815\n",
      "[LightGBM] [Warning] bagging_freq is set=7, subsample_freq=0 will be ignored. Current value: bagging_freq=7\n",
      "Training until validation scores don't improve for 100 rounds\n",
      "[100]\ttraining's l1: 2.45181\tvalid_1's l1: 2.69746\n",
      "[200]\ttraining's l1: 2.38751\tvalid_1's l1: 2.69473\n"
     ]
    },
    {
     "name": "stderr",
     "output_type": "stream",
     "text": [
      "\u001b[32m[I 2021-07-19 21:54:43,016]\u001b[0m Trial 68 finished with value: -2.692744094939375 and parameters: {'max_depth': 12, 'min_child_weight': 16, 'subsample': 0.7, 'colsample_bytree': 0.6, 'reg_lambda': 1.364194414202407, 'reg_alpha': 0.034566677684921096, 'feature_fraction': 0.8827918366834121, 'bagging_fraction': 0.8176134832230815, 'bagging_freq': 7, 'num_leaves': 995, 'min_child_samples': 73}. Best is trial 32 with value: -2.670810480684822.\u001b[0m\n"
     ]
    },
    {
     "name": "stdout",
     "output_type": "stream",
     "text": [
      "Early stopping, best iteration is:\n",
      "[184]\ttraining's l1: 2.39607\tvalid_1's l1: 2.6933\n",
      "[LightGBM] [Warning] feature_fraction is set=0.97600821994515, colsample_bytree=0.6 will be ignored. Current value: feature_fraction=0.97600821994515\n",
      "[LightGBM] [Warning] bagging_fraction is set=0.9092910655203994, subsample=0.7 will be ignored. Current value: bagging_fraction=0.9092910655203994\n",
      "[LightGBM] [Warning] bagging_freq is set=4, subsample_freq=0 will be ignored. Current value: bagging_freq=4\n",
      "Training until validation scores don't improve for 100 rounds\n",
      "[100]\ttraining's l1: 2.5352\tvalid_1's l1: 2.70592\n",
      "[200]\ttraining's l1: 2.49729\tvalid_1's l1: 2.68927\n",
      "[300]\ttraining's l1: 2.46034\tvalid_1's l1: 2.68687\n",
      "[400]\ttraining's l1: 2.44462\tvalid_1's l1: 2.68521\n",
      "Early stopping, best iteration is:\n",
      "[313]\ttraining's l1: 2.45313\tvalid_1's l1: 2.68453\n"
     ]
    },
    {
     "name": "stderr",
     "output_type": "stream",
     "text": [
      "\u001b[32m[I 2021-07-19 21:54:48,642]\u001b[0m Trial 69 finished with value: -2.683907647412638 and parameters: {'max_depth': 7, 'min_child_weight': 10, 'subsample': 0.7, 'colsample_bytree': 0.6, 'reg_lambda': 10.440126842222325, 'reg_alpha': 2.9839685216773564, 'feature_fraction': 0.97600821994515, 'bagging_fraction': 0.9092910655203994, 'bagging_freq': 4, 'num_leaves': 605, 'min_child_samples': 27}. Best is trial 32 with value: -2.670810480684822.\u001b[0m\n"
     ]
    },
    {
     "name": "stdout",
     "output_type": "stream",
     "text": [
      "[LightGBM] [Warning] feature_fraction is set=0.78442912652883, colsample_bytree=0.7 will be ignored. Current value: feature_fraction=0.78442912652883\n",
      "[LightGBM] [Warning] bagging_fraction is set=0.9731026653598914, subsample=0.8 will be ignored. Current value: bagging_fraction=0.9731026653598914\n",
      "[LightGBM] [Warning] bagging_freq is set=17, subsample_freq=0 will be ignored. Current value: bagging_freq=17\n",
      "Training until validation scores don't improve for 100 rounds\n",
      "[100]\ttraining's l1: 2.41611\tvalid_1's l1: 2.6956\n",
      "[200]\ttraining's l1: 2.33923\tvalid_1's l1: 2.68764\n",
      "[300]\ttraining's l1: 2.26914\tvalid_1's l1: 2.68649\n"
     ]
    },
    {
     "name": "stderr",
     "output_type": "stream",
     "text": [
      "\u001b[32m[I 2021-07-19 21:54:55,806]\u001b[0m Trial 70 finished with value: -2.6816829326916425 and parameters: {'max_depth': 10, 'min_child_weight': 5, 'subsample': 0.8, 'colsample_bytree': 0.7, 'reg_lambda': 3.8042870287048363, 'reg_alpha': 0.00982284499907906, 'feature_fraction': 0.78442912652883, 'bagging_fraction': 0.9731026653598914, 'bagging_freq': 17, 'num_leaves': 856, 'min_child_samples': 15}. Best is trial 32 with value: -2.670810480684822.\u001b[0m\n"
     ]
    },
    {
     "name": "stdout",
     "output_type": "stream",
     "text": [
      "Early stopping, best iteration is:\n",
      "[269]\ttraining's l1: 2.28687\tvalid_1's l1: 2.683\n",
      "[LightGBM] [Warning] feature_fraction is set=0.9670905731525888, colsample_bytree=0.6 will be ignored. Current value: feature_fraction=0.9670905731525888\n",
      "[LightGBM] [Warning] bagging_fraction is set=0.7475367503589312, subsample=0.7 will be ignored. Current value: bagging_fraction=0.7475367503589312\n",
      "[LightGBM] [Warning] bagging_freq is set=8, subsample_freq=0 will be ignored. Current value: bagging_freq=8\n",
      "Training until validation scores don't improve for 100 rounds\n",
      "[100]\ttraining's l1: 2.48104\tvalid_1's l1: 2.71014\n",
      "[200]\ttraining's l1: 2.42632\tvalid_1's l1: 2.69377\n",
      "[300]\ttraining's l1: 2.38126\tvalid_1's l1: 2.69457\n"
     ]
    },
    {
     "name": "stderr",
     "output_type": "stream",
     "text": [
      "\u001b[32m[I 2021-07-19 21:55:01,927]\u001b[0m Trial 71 finished with value: -2.6892325916694215 and parameters: {'max_depth': 9, 'min_child_weight': 3, 'subsample': 0.7, 'colsample_bytree': 0.6, 'reg_lambda': 0.3333938005889118, 'reg_alpha': 5.601217213292957, 'feature_fraction': 0.9670905731525888, 'bagging_fraction': 0.7475367503589312, 'bagging_freq': 8, 'num_leaves': 700, 'min_child_samples': 16}. Best is trial 32 with value: -2.670810480684822.\u001b[0m\n"
     ]
    },
    {
     "name": "stdout",
     "output_type": "stream",
     "text": [
      "Early stopping, best iteration is:\n",
      "[225]\ttraining's l1: 2.41564\tvalid_1's l1: 2.69022\n",
      "[LightGBM] [Warning] feature_fraction is set=0.9420057366522864, colsample_bytree=0.6 will be ignored. Current value: feature_fraction=0.9420057366522864\n",
      "[LightGBM] [Warning] bagging_fraction is set=0.6691147090903327, subsample=0.7 will be ignored. Current value: bagging_fraction=0.6691147090903327\n",
      "[LightGBM] [Warning] bagging_freq is set=6, subsample_freq=0 will be ignored. Current value: bagging_freq=6\n",
      "Training until validation scores don't improve for 100 rounds\n",
      "[100]\ttraining's l1: 2.58854\tvalid_1's l1: 2.73759\n",
      "[200]\ttraining's l1: 2.56685\tvalid_1's l1: 2.72232\n",
      "[300]\ttraining's l1: 2.55558\tvalid_1's l1: 2.71967\n",
      "[400]\ttraining's l1: 2.54611\tvalid_1's l1: 2.71726\n",
      "[500]\ttraining's l1: 2.5383\tvalid_1's l1: 2.71609\n",
      "[600]\ttraining's l1: 2.53188\tvalid_1's l1: 2.71275\n",
      "[700]\ttraining's l1: 2.52719\tvalid_1's l1: 2.71189\n",
      "[800]\ttraining's l1: 2.52311\tvalid_1's l1: 2.71132\n",
      "[900]\ttraining's l1: 2.51925\tvalid_1's l1: 2.70991\n",
      "[1000]\ttraining's l1: 2.5156\tvalid_1's l1: 2.70906\n",
      "[1100]\ttraining's l1: 2.51253\tvalid_1's l1: 2.70849\n",
      "[1200]\ttraining's l1: 2.50974\tvalid_1's l1: 2.70874\n"
     ]
    },
    {
     "name": "stderr",
     "output_type": "stream",
     "text": [
      "\u001b[32m[I 2021-07-19 21:55:16,289]\u001b[0m Trial 72 finished with value: -2.706381151715933 and parameters: {'max_depth': 8, 'min_child_weight': 7, 'subsample': 0.7, 'colsample_bytree': 0.6, 'reg_lambda': 0.42305782361484484, 'reg_alpha': 89.65714789937158, 'feature_fraction': 0.9420057366522864, 'bagging_fraction': 0.6691147090903327, 'bagging_freq': 6, 'num_leaves': 766, 'min_child_samples': 12}. Best is trial 32 with value: -2.670810480684822.\u001b[0m\n"
     ]
    },
    {
     "name": "stdout",
     "output_type": "stream",
     "text": [
      "Early stopping, best iteration is:\n",
      "[1130]\ttraining's l1: 2.5118\tvalid_1's l1: 2.70801\n",
      "[LightGBM] [Warning] feature_fraction is set=0.9074923808291272, colsample_bytree=0.6 will be ignored. Current value: feature_fraction=0.9074923808291272\n",
      "[LightGBM] [Warning] bagging_fraction is set=0.7233214420255247, subsample=0.6 will be ignored. Current value: bagging_fraction=0.7233214420255247\n",
      "[LightGBM] [Warning] bagging_freq is set=7, subsample_freq=0 will be ignored. Current value: bagging_freq=7\n",
      "Training until validation scores don't improve for 100 rounds\n",
      "[100]\ttraining's l1: 2.41902\tvalid_1's l1: 2.69854\n",
      "[200]\ttraining's l1: 2.29619\tvalid_1's l1: 2.69053\n",
      "[300]\ttraining's l1: 2.20186\tvalid_1's l1: 2.69368\n"
     ]
    },
    {
     "name": "stderr",
     "output_type": "stream",
     "text": [
      "\u001b[32m[I 2021-07-19 21:55:25,331]\u001b[0m Trial 73 finished with value: -2.6874543100461192 and parameters: {'max_depth': 11, 'min_child_weight': 5, 'subsample': 0.6, 'colsample_bytree': 0.6, 'reg_lambda': 0.5462122947518854, 'reg_alpha': 3.5087817177745677, 'feature_fraction': 0.9074923808291272, 'bagging_fraction': 0.7233214420255247, 'bagging_freq': 7, 'num_leaves': 680, 'min_child_samples': 21}. Best is trial 32 with value: -2.670810480684822.\u001b[0m\n"
     ]
    },
    {
     "name": "stdout",
     "output_type": "stream",
     "text": [
      "Early stopping, best iteration is:\n",
      "[221]\ttraining's l1: 2.27241\tvalid_1's l1: 2.68899\n",
      "[LightGBM] [Warning] feature_fraction is set=0.9718496788322304, colsample_bytree=0.6 will be ignored. Current value: feature_fraction=0.9718496788322304\n",
      "[LightGBM] [Warning] bagging_fraction is set=0.7616602248389068, subsample=0.7 will be ignored. Current value: bagging_fraction=0.7616602248389068\n",
      "[LightGBM] [Warning] bagging_freq is set=11, subsample_freq=0 will be ignored. Current value: bagging_freq=11\n",
      "Training until validation scores don't improve for 100 rounds\n",
      "[100]\ttraining's l1: 2.57474\tvalid_1's l1: 2.73144\n",
      "[200]\ttraining's l1: 2.54121\tvalid_1's l1: 2.70634\n",
      "[300]\ttraining's l1: 2.52417\tvalid_1's l1: 2.69951\n",
      "[400]\ttraining's l1: 2.51072\tvalid_1's l1: 2.69581\n",
      "[500]\ttraining's l1: 2.49951\tvalid_1's l1: 2.69372\n",
      "[600]\ttraining's l1: 2.48807\tvalid_1's l1: 2.69117\n"
     ]
    },
    {
     "name": "stderr",
     "output_type": "stream",
     "text": [
      "\u001b[32m[I 2021-07-19 21:55:31,442]\u001b[0m Trial 74 finished with value: -2.6895466892001485 and parameters: {'max_depth': 6, 'min_child_weight': 6, 'subsample': 0.7, 'colsample_bytree': 0.6, 'reg_lambda': 0.20806907881650966, 'reg_alpha': 14.546039542226405, 'feature_fraction': 0.9718496788322304, 'bagging_fraction': 0.7616602248389068, 'bagging_freq': 11, 'num_leaves': 522, 'min_child_samples': 7}. Best is trial 32 with value: -2.670810480684822.\u001b[0m\n"
     ]
    },
    {
     "name": "stdout",
     "output_type": "stream",
     "text": [
      "Early stopping, best iteration is:\n",
      "[547]\ttraining's l1: 2.49354\tvalid_1's l1: 2.69062\n",
      "[LightGBM] [Warning] feature_fraction is set=0.8671096069290067, colsample_bytree=0.6 will be ignored. Current value: feature_fraction=0.8671096069290067\n",
      "[LightGBM] [Warning] bagging_fraction is set=0.7797476800628953, subsample=0.6 will be ignored. Current value: bagging_fraction=0.7797476800628953\n",
      "[LightGBM] [Warning] bagging_freq is set=7, subsample_freq=0 will be ignored. Current value: bagging_freq=7\n",
      "Training until validation scores don't improve for 100 rounds\n",
      "[100]\ttraining's l1: 2.45656\tvalid_1's l1: 2.68216\n",
      "[200]\ttraining's l1: 2.40737\tvalid_1's l1: 2.67827\n"
     ]
    },
    {
     "name": "stderr",
     "output_type": "stream",
     "text": [
      "\u001b[32m[I 2021-07-19 21:55:35,878]\u001b[0m Trial 75 finished with value: -2.674712463972287 and parameters: {'max_depth': 9, 'min_child_weight': 4, 'subsample': 0.6, 'colsample_bytree': 0.6, 'reg_lambda': 0.14341054672295853, 'reg_alpha': 0.005665288410242216, 'feature_fraction': 0.8671096069290067, 'bagging_fraction': 0.7797476800628953, 'bagging_freq': 7, 'num_leaves': 627, 'min_child_samples': 16}. Best is trial 32 with value: -2.670810480684822.\u001b[0m\n"
     ]
    },
    {
     "name": "stdout",
     "output_type": "stream",
     "text": [
      "Early stopping, best iteration is:\n",
      "[163]\ttraining's l1: 2.42416\tvalid_1's l1: 2.67517\n",
      "[LightGBM] [Warning] feature_fraction is set=0.8645462441233955, colsample_bytree=0.7 will be ignored. Current value: feature_fraction=0.8645462441233955\n",
      "[LightGBM] [Warning] bagging_fraction is set=0.8412476311385666, subsample=0.6 will be ignored. Current value: bagging_fraction=0.8412476311385666\n",
      "[LightGBM] [Warning] bagging_freq is set=5, subsample_freq=0 will be ignored. Current value: bagging_freq=5\n",
      "Training until validation scores don't improve for 100 rounds\n",
      "[100]\ttraining's l1: 2.48895\tvalid_1's l1: 2.69476\n",
      "[200]\ttraining's l1: 2.44648\tvalid_1's l1: 2.68635\n",
      "[300]\ttraining's l1: 2.41889\tvalid_1's l1: 2.68314\n"
     ]
    },
    {
     "name": "stderr",
     "output_type": "stream",
     "text": [
      "\u001b[32m[I 2021-07-19 21:55:41,783]\u001b[0m Trial 76 finished with value: -2.681823171358262 and parameters: {'max_depth': 9, 'min_child_weight': 1, 'subsample': 0.6, 'colsample_bytree': 0.7, 'reg_lambda': 0.13413572103460292, 'reg_alpha': 0.005481991884928064, 'feature_fraction': 0.8645462441233955, 'bagging_fraction': 0.8412476311385666, 'bagging_freq': 5, 'num_leaves': 621, 'min_child_samples': 56}. Best is trial 32 with value: -2.670810480684822.\u001b[0m\n"
     ]
    },
    {
     "name": "stdout",
     "output_type": "stream",
     "text": [
      "[400]\ttraining's l1: 2.39822\tvalid_1's l1: 2.68293\n",
      "Early stopping, best iteration is:\n",
      "[304]\ttraining's l1: 2.41731\tvalid_1's l1: 2.68261\n",
      "[LightGBM] [Warning] feature_fraction is set=0.8121033502352306, colsample_bytree=0.5 will be ignored. Current value: feature_fraction=0.8121033502352306\n",
      "[LightGBM] [Warning] bagging_fraction is set=0.891671239877271, subsample=0.6 will be ignored. Current value: bagging_fraction=0.891671239877271\n",
      "[LightGBM] [Warning] bagging_freq is set=9, subsample_freq=0 will be ignored. Current value: bagging_freq=9\n",
      "Training until validation scores don't improve for 100 rounds\n",
      "[100]\ttraining's l1: 2.48193\tvalid_1's l1: 2.70393\n",
      "[200]\ttraining's l1: 2.44001\tvalid_1's l1: 2.69939\n",
      "[300]\ttraining's l1: 2.41437\tvalid_1's l1: 2.69498\n",
      "[400]\ttraining's l1: 2.40481\tvalid_1's l1: 2.69514\n",
      "[500]\ttraining's l1: 2.39268\tvalid_1's l1: 2.6899\n",
      "[600]\ttraining's l1: 2.36747\tvalid_1's l1: 2.68552\n",
      "[700]\ttraining's l1: 2.35141\tvalid_1's l1: 2.6872\n",
      "Early stopping, best iteration is:\n",
      "[610]\ttraining's l1: 2.36422\tvalid_1's l1: 2.68504\n"
     ]
    },
    {
     "name": "stderr",
     "output_type": "stream",
     "text": [
      "\u001b[32m[I 2021-07-19 21:55:49,578]\u001b[0m Trial 77 finished with value: -2.6838160129195754 and parameters: {'max_depth': 8, 'min_child_weight': 11, 'subsample': 0.6, 'colsample_bytree': 0.5, 'reg_lambda': 0.08470342984284038, 'reg_alpha': 0.016803732396058726, 'feature_fraction': 0.8121033502352306, 'bagging_fraction': 0.891671239877271, 'bagging_freq': 9, 'num_leaves': 442, 'min_child_samples': 11}. Best is trial 32 with value: -2.670810480684822.\u001b[0m\n"
     ]
    },
    {
     "name": "stdout",
     "output_type": "stream",
     "text": [
      "[LightGBM] [Warning] feature_fraction is set=0.8707736509606796, colsample_bytree=0.6 will be ignored. Current value: feature_fraction=0.8707736509606796\n",
      "[LightGBM] [Warning] bagging_fraction is set=0.7951335252007677, subsample=0.5 will be ignored. Current value: bagging_fraction=0.7951335252007677\n",
      "[LightGBM] [Warning] bagging_freq is set=6, subsample_freq=0 will be ignored. Current value: bagging_freq=6\n",
      "Training until validation scores don't improve for 100 rounds\n",
      "[100]\ttraining's l1: 2.43246\tvalid_1's l1: 2.69051\n",
      "[200]\ttraining's l1: 2.38438\tvalid_1's l1: 2.6897\n"
     ]
    },
    {
     "name": "stderr",
     "output_type": "stream",
     "text": [
      "\u001b[32m[I 2021-07-19 21:55:54,566]\u001b[0m Trial 78 finished with value: -2.6859419270303078 and parameters: {'max_depth': 10, 'min_child_weight': 4, 'subsample': 0.5, 'colsample_bytree': 0.6, 'reg_lambda': 2.1389172886922587, 'reg_alpha': 0.0016298657644882421, 'feature_fraction': 0.8707736509606796, 'bagging_fraction': 0.7951335252007677, 'bagging_freq': 6, 'num_leaves': 551, 'min_child_samples': 24}. Best is trial 32 with value: -2.670810480684822.\u001b[0m\n"
     ]
    },
    {
     "name": "stdout",
     "output_type": "stream",
     "text": [
      "Early stopping, best iteration is:\n",
      "[140]\ttraining's l1: 2.41133\tvalid_1's l1: 2.68644\n",
      "[LightGBM] [Warning] feature_fraction is set=0.736578049478757, colsample_bytree=0.6 will be ignored. Current value: feature_fraction=0.736578049478757\n",
      "[LightGBM] [Warning] bagging_fraction is set=0.9371871606562141, subsample=0.8 will be ignored. Current value: bagging_fraction=0.9371871606562141\n",
      "[LightGBM] [Warning] bagging_freq is set=7, subsample_freq=0 will be ignored. Current value: bagging_freq=7\n",
      "Training until validation scores don't improve for 100 rounds\n",
      "[100]\ttraining's l1: 2.52977\tvalid_1's l1: 2.70124\n",
      "[200]\ttraining's l1: 2.50312\tvalid_1's l1: 2.69386\n",
      "[300]\ttraining's l1: 2.49095\tvalid_1's l1: 2.68777\n",
      "[400]\ttraining's l1: 2.46661\tvalid_1's l1: 2.68226\n",
      "[500]\ttraining's l1: 2.44938\tvalid_1's l1: 2.67912\n",
      "[600]\ttraining's l1: 2.44308\tvalid_1's l1: 2.67804\n",
      "[700]\ttraining's l1: 2.43664\tvalid_1's l1: 2.67666\n",
      "[800]\ttraining's l1: 2.43014\tvalid_1's l1: 2.67523\n"
     ]
    },
    {
     "name": "stderr",
     "output_type": "stream",
     "text": [
      "\u001b[32m[I 2021-07-19 21:56:02,867]\u001b[0m Trial 79 finished with value: -2.673981280295611 and parameters: {'max_depth': 7, 'min_child_weight': 3, 'subsample': 0.8, 'colsample_bytree': 0.6, 'reg_lambda': 0.9044623656540903, 'reg_alpha': 0.004145021797011944, 'feature_fraction': 0.736578049478757, 'bagging_fraction': 0.9371871606562141, 'bagging_freq': 7, 'num_leaves': 654, 'min_child_samples': 50}. Best is trial 32 with value: -2.670810480684822.\u001b[0m\n"
     ]
    },
    {
     "name": "stdout",
     "output_type": "stream",
     "text": [
      "Early stopping, best iteration is:\n",
      "[762]\ttraining's l1: 2.4334\tvalid_1's l1: 2.67482\n",
      "[LightGBM] [Warning] feature_fraction is set=0.7180296880943724, colsample_bytree=0.6 will be ignored. Current value: feature_fraction=0.7180296880943724\n",
      "[LightGBM] [Warning] bagging_fraction is set=0.933397641811727, subsample=0.8 will be ignored. Current value: bagging_fraction=0.933397641811727\n",
      "[LightGBM] [Warning] bagging_freq is set=8, subsample_freq=0 will be ignored. Current value: bagging_freq=8\n",
      "Training until validation scores don't improve for 100 rounds\n",
      "[100]\ttraining's l1: 2.53401\tvalid_1's l1: 2.70494\n",
      "[200]\ttraining's l1: 2.5086\tvalid_1's l1: 2.6969\n",
      "[300]\ttraining's l1: 2.49333\tvalid_1's l1: 2.69641\n",
      "[400]\ttraining's l1: 2.48689\tvalid_1's l1: 2.69294\n"
     ]
    },
    {
     "name": "stderr",
     "output_type": "stream",
     "text": [
      "\u001b[32m[I 2021-07-19 21:56:07,996]\u001b[0m Trial 80 finished with value: -2.6919600198468565 and parameters: {'max_depth': 7, 'min_child_weight': 3, 'subsample': 0.8, 'colsample_bytree': 0.6, 'reg_lambda': 1.0186088051106732, 'reg_alpha': 0.004650239503807898, 'feature_fraction': 0.7180296880943724, 'bagging_fraction': 0.933397641811727, 'bagging_freq': 8, 'num_leaves': 651, 'min_child_samples': 78}. Best is trial 32 with value: -2.670810480684822.\u001b[0m\n"
     ]
    },
    {
     "name": "stdout",
     "output_type": "stream",
     "text": [
      "Early stopping, best iteration is:\n",
      "[394]\ttraining's l1: 2.48725\tvalid_1's l1: 2.69283\n",
      "[LightGBM] [Warning] feature_fraction is set=0.7878834755647269, colsample_bytree=0.6 will be ignored. Current value: feature_fraction=0.7878834755647269\n",
      "[LightGBM] [Warning] bagging_fraction is set=0.9597223519208182, subsample=0.5 will be ignored. Current value: bagging_fraction=0.9597223519208182\n",
      "[LightGBM] [Warning] bagging_freq is set=8, subsample_freq=0 will be ignored. Current value: bagging_freq=8\n",
      "Training until validation scores don't improve for 100 rounds\n",
      "[100]\ttraining's l1: 2.56287\tvalid_1's l1: 2.71246\n",
      "[200]\ttraining's l1: 2.53381\tvalid_1's l1: 2.70389\n",
      "[300]\ttraining's l1: 2.51822\tvalid_1's l1: 2.6991\n",
      "[400]\ttraining's l1: 2.50835\tvalid_1's l1: 2.69773\n",
      "[500]\ttraining's l1: 2.49896\tvalid_1's l1: 2.69522\n",
      "[600]\ttraining's l1: 2.48946\tvalid_1's l1: 2.69209\n",
      "[700]\ttraining's l1: 2.4797\tvalid_1's l1: 2.68924\n",
      "[800]\ttraining's l1: 2.47539\tvalid_1's l1: 2.68837\n",
      "[900]\ttraining's l1: 2.47174\tvalid_1's l1: 2.68715\n"
     ]
    },
    {
     "name": "stderr",
     "output_type": "stream",
     "text": [
      "\u001b[32m[I 2021-07-19 21:56:16,523]\u001b[0m Trial 81 finished with value: -2.6858936435014087 and parameters: {'max_depth': 6, 'min_child_weight': 13, 'subsample': 0.5, 'colsample_bytree': 0.6, 'reg_lambda': 0.9281062603813397, 'reg_alpha': 0.006586280155995352, 'feature_fraction': 0.7878834755647269, 'bagging_fraction': 0.9597223519208182, 'bagging_freq': 8, 'num_leaves': 820, 'min_child_samples': 47}. Best is trial 32 with value: -2.670810480684822.\u001b[0m\n"
     ]
    },
    {
     "name": "stdout",
     "output_type": "stream",
     "text": [
      "Early stopping, best iteration is:\n",
      "[887]\ttraining's l1: 2.47236\tvalid_1's l1: 2.68688\n",
      "[LightGBM] [Warning] feature_fraction is set=0.6776832618525868, colsample_bytree=0.6 will be ignored. Current value: feature_fraction=0.6776832618525868\n",
      "[LightGBM] [Warning] bagging_fraction is set=0.9052094021963034, subsample=0.8 will be ignored. Current value: bagging_fraction=0.9052094021963034\n",
      "[LightGBM] [Warning] bagging_freq is set=9, subsample_freq=0 will be ignored. Current value: bagging_freq=9\n",
      "Training until validation scores don't improve for 100 rounds\n",
      "[100]\ttraining's l1: 2.50694\tvalid_1's l1: 2.71103\n",
      "[200]\ttraining's l1: 2.45484\tvalid_1's l1: 2.69457\n",
      "[300]\ttraining's l1: 2.43557\tvalid_1's l1: 2.69068\n"
     ]
    },
    {
     "name": "stderr",
     "output_type": "stream",
     "text": [
      "\u001b[32m[I 2021-07-19 21:56:21,447]\u001b[0m Trial 82 finished with value: -2.689785209343117 and parameters: {'max_depth': 8, 'min_child_weight': 2, 'subsample': 0.8, 'colsample_bytree': 0.6, 'reg_lambda': 26.03234214527423, 'reg_alpha': 0.011669151129732049, 'feature_fraction': 0.6776832618525868, 'bagging_fraction': 0.9052094021963034, 'bagging_freq': 9, 'num_leaves': 578, 'min_child_samples': 14}. Best is trial 32 with value: -2.670810480684822.\u001b[0m\n"
     ]
    },
    {
     "name": "stdout",
     "output_type": "stream",
     "text": [
      "Early stopping, best iteration is:\n",
      "[266]\ttraining's l1: 2.43918\tvalid_1's l1: 2.69043\n",
      "[LightGBM] [Warning] feature_fraction is set=0.8379171461367637, colsample_bytree=0.6 will be ignored. Current value: feature_fraction=0.8379171461367637\n",
      "[LightGBM] [Warning] bagging_fraction is set=0.8603079881558012, subsample=0.6 will be ignored. Current value: bagging_fraction=0.8603079881558012\n",
      "[LightGBM] [Warning] bagging_freq is set=7, subsample_freq=0 will be ignored. Current value: bagging_freq=7\n",
      "Training until validation scores don't improve for 100 rounds\n",
      "[100]\ttraining's l1: 2.49466\tvalid_1's l1: 2.70347\n",
      "[200]\ttraining's l1: 2.4449\tvalid_1's l1: 2.69335\n"
     ]
    },
    {
     "name": "stderr",
     "output_type": "stream",
     "text": [
      "\u001b[32m[I 2021-07-19 21:56:25,806]\u001b[0m Trial 83 finished with value: -2.691111541190369 and parameters: {'max_depth': 9, 'min_child_weight': 3, 'subsample': 0.6, 'colsample_bytree': 0.6, 'reg_lambda': 3.1863508541936323, 'reg_alpha': 0.002648541956762145, 'feature_fraction': 0.8379171461367637, 'bagging_fraction': 0.8603079881558012, 'bagging_freq': 7, 'num_leaves': 735, 'min_child_samples': 68}. Best is trial 32 with value: -2.670810480684822.\u001b[0m\n"
     ]
    },
    {
     "name": "stdout",
     "output_type": "stream",
     "text": [
      "Early stopping, best iteration is:\n",
      "[185]\ttraining's l1: 2.45149\tvalid_1's l1: 2.69149\n",
      "[LightGBM] [Warning] feature_fraction is set=0.9163053150583147, colsample_bytree=0.6 will be ignored. Current value: feature_fraction=0.9163053150583147\n",
      "[LightGBM] [Warning] bagging_fraction is set=0.8806649765775894, subsample=0.9 will be ignored. Current value: bagging_fraction=0.8806649765775894\n",
      "[LightGBM] [Warning] bagging_freq is set=6, subsample_freq=0 will be ignored. Current value: bagging_freq=6\n",
      "Training until validation scores don't improve for 100 rounds\n",
      "[100]\ttraining's l1: 2.52739\tvalid_1's l1: 2.70982\n",
      "[200]\ttraining's l1: 2.49034\tvalid_1's l1: 2.69673\n",
      "[300]\ttraining's l1: 2.47409\tvalid_1's l1: 2.69504\n",
      "[400]\ttraining's l1: 2.45709\tvalid_1's l1: 2.68984\n",
      "[500]\ttraining's l1: 2.44253\tvalid_1's l1: 2.68919\n",
      "[600]\ttraining's l1: 2.41726\tvalid_1's l1: 2.68902\n"
     ]
    },
    {
     "name": "stderr",
     "output_type": "stream",
     "text": [
      "\u001b[32m[I 2021-07-19 21:56:32,906]\u001b[0m Trial 84 finished with value: -2.685183779630934 and parameters: {'max_depth': 7, 'min_child_weight': 12, 'subsample': 0.9, 'colsample_bytree': 0.6, 'reg_lambda': 1.6308645603091565, 'reg_alpha': 0.001200645281713533, 'feature_fraction': 0.9163053150583147, 'bagging_fraction': 0.8806649765775894, 'bagging_freq': 6, 'num_leaves': 664, 'min_child_samples': 18}. Best is trial 32 with value: -2.670810480684822.\u001b[0m\n"
     ]
    },
    {
     "name": "stdout",
     "output_type": "stream",
     "text": [
      "Early stopping, best iteration is:\n",
      "[547]\ttraining's l1: 2.42947\tvalid_1's l1: 2.68698\n",
      "[LightGBM] [Warning] feature_fraction is set=0.8916263107573974, colsample_bytree=0.6 will be ignored. Current value: feature_fraction=0.8916263107573974\n",
      "[LightGBM] [Warning] bagging_fraction is set=0.9706305178824378, subsample=0.9 will be ignored. Current value: bagging_fraction=0.9706305178824378\n",
      "[LightGBM] [Warning] bagging_freq is set=5, subsample_freq=0 will be ignored. Current value: bagging_freq=5\n",
      "Training until validation scores don't improve for 100 rounds\n",
      "[100]\ttraining's l1: 2.52191\tvalid_1's l1: 2.70762\n",
      "[200]\ttraining's l1: 2.49916\tvalid_1's l1: 2.69722\n",
      "[300]\ttraining's l1: 2.48262\tvalid_1's l1: 2.69282\n",
      "[400]\ttraining's l1: 2.47007\tvalid_1's l1: 2.69216\n",
      "[500]\ttraining's l1: 2.46396\tvalid_1's l1: 2.69065\n",
      "[600]\ttraining's l1: 2.45412\tvalid_1's l1: 2.69065\n",
      "[700]\ttraining's l1: 2.43717\tvalid_1's l1: 2.6884\n",
      "[800]\ttraining's l1: 2.42865\tvalid_1's l1: 2.6858\n"
     ]
    },
    {
     "name": "stderr",
     "output_type": "stream",
     "text": [
      "\u001b[32m[I 2021-07-19 21:56:43,988]\u001b[0m Trial 85 finished with value: -2.684450021106285 and parameters: {'max_depth': 8, 'min_child_weight': 4, 'subsample': 0.9, 'colsample_bytree': 0.6, 'reg_lambda': 0.6251187364332216, 'reg_alpha': 0.03351281203246076, 'feature_fraction': 0.8916263107573974, 'bagging_fraction': 0.9706305178824378, 'bagging_freq': 5, 'num_leaves': 506, 'min_child_samples': 99}. Best is trial 32 with value: -2.670810480684822.\u001b[0m\n"
     ]
    },
    {
     "name": "stdout",
     "output_type": "stream",
     "text": [
      "Early stopping, best iteration is:\n",
      "[776]\ttraining's l1: 2.43035\tvalid_1's l1: 2.68529\n",
      "[LightGBM] [Warning] feature_fraction is set=0.20664226075686626, colsample_bytree=0.5 will be ignored. Current value: feature_fraction=0.20664226075686626\n",
      "[LightGBM] [Warning] bagging_fraction is set=0.7752581707105135, subsample=0.8 will be ignored. Current value: bagging_fraction=0.7752581707105135\n",
      "[LightGBM] [Warning] bagging_freq is set=7, subsample_freq=0 will be ignored. Current value: bagging_freq=7\n",
      "Training until validation scores don't improve for 100 rounds\n",
      "[100]\ttraining's l1: 2.52071\tvalid_1's l1: 2.72025\n",
      "[200]\ttraining's l1: 2.48404\tvalid_1's l1: 2.71191\n",
      "[300]\ttraining's l1: 2.45842\tvalid_1's l1: 2.70845\n",
      "[400]\ttraining's l1: 2.44325\tvalid_1's l1: 2.7074\n",
      "[500]\ttraining's l1: 2.43245\tvalid_1's l1: 2.70476\n"
     ]
    },
    {
     "name": "stderr",
     "output_type": "stream",
     "text": [
      "\u001b[32m[I 2021-07-19 21:56:50,754]\u001b[0m Trial 86 finished with value: -2.7032585549312302 and parameters: {'max_depth': 10, 'min_child_weight': 19, 'subsample': 0.8, 'colsample_bytree': 0.5, 'reg_lambda': 11.971170329516193, 'reg_alpha': 0.006960644025867737, 'feature_fraction': 0.20664226075686626, 'bagging_fraction': 0.7752581707105135, 'bagging_freq': 7, 'num_leaves': 623, 'min_child_samples': 95}. Best is trial 32 with value: -2.670810480684822.\u001b[0m\n"
     ]
    },
    {
     "name": "stdout",
     "output_type": "stream",
     "text": [
      "Early stopping, best iteration is:\n",
      "[469]\ttraining's l1: 2.43617\tvalid_1's l1: 2.70465\n",
      "[LightGBM] [Warning] feature_fraction is set=0.9421433067430524, colsample_bytree=0.6 will be ignored. Current value: feature_fraction=0.9421433067430524\n",
      "[LightGBM] [Warning] bagging_fraction is set=0.9312598846465292, subsample=0.9 will be ignored. Current value: bagging_fraction=0.9312598846465292\n",
      "[LightGBM] [Warning] bagging_freq is set=11, subsample_freq=0 will be ignored. Current value: bagging_freq=11\n",
      "Training until validation scores don't improve for 100 rounds\n",
      "[100]\ttraining's l1: 2.56269\tvalid_1's l1: 2.72625\n",
      "[200]\ttraining's l1: 2.52992\tvalid_1's l1: 2.71232\n",
      "[300]\ttraining's l1: 2.51538\tvalid_1's l1: 2.70221\n"
     ]
    },
    {
     "name": "stderr",
     "output_type": "stream",
     "text": [
      "\u001b[32m[I 2021-07-19 21:56:54,923]\u001b[0m Trial 87 finished with value: -2.70076691600473 and parameters: {'max_depth': 6, 'min_child_weight': 3, 'subsample': 0.9, 'colsample_bytree': 0.6, 'reg_lambda': 4.628007529796515, 'reg_alpha': 0.01858899392148881, 'feature_fraction': 0.9421433067430524, 'bagging_fraction': 0.9312598846465292, 'bagging_freq': 11, 'num_leaves': 760, 'min_child_samples': 10}. Best is trial 32 with value: -2.670810480684822.\u001b[0m\n"
     ]
    },
    {
     "name": "stdout",
     "output_type": "stream",
     "text": [
      "[400]\ttraining's l1: 2.49741\tvalid_1's l1: 2.70424\n",
      "Early stopping, best iteration is:\n",
      "[307]\ttraining's l1: 2.51278\tvalid_1's l1: 2.70131\n",
      "[LightGBM] [Warning] feature_fraction is set=0.7691536155131925, colsample_bytree=0.7 will be ignored. Current value: feature_fraction=0.7691536155131925\n",
      "[LightGBM] [Warning] bagging_fraction is set=0.8186136081509318, subsample=0.7 will be ignored. Current value: bagging_fraction=0.8186136081509318\n",
      "[LightGBM] [Warning] bagging_freq is set=4, subsample_freq=0 will be ignored. Current value: bagging_freq=4\n",
      "Training until validation scores don't improve for 100 rounds\n",
      "[100]\ttraining's l1: 2.45784\tvalid_1's l1: 2.69982\n",
      "[200]\ttraining's l1: 2.3763\tvalid_1's l1: 2.69755\n"
     ]
    },
    {
     "name": "stderr",
     "output_type": "stream",
     "text": [
      "\u001b[32m[I 2021-07-19 21:57:01,391]\u001b[0m Trial 88 finished with value: -2.695624693853494 and parameters: {'max_depth': 11, 'min_child_weight': 14, 'subsample': 0.7, 'colsample_bytree': 0.7, 'reg_lambda': 16.1520188839509, 'reg_alpha': 0.002506871125669302, 'feature_fraction': 0.7691536155131925, 'bagging_fraction': 0.8186136081509318, 'bagging_freq': 4, 'num_leaves': 599, 'min_child_samples': 52}. Best is trial 32 with value: -2.670810480684822.\u001b[0m\n"
     ]
    },
    {
     "name": "stdout",
     "output_type": "stream",
     "text": [
      "Early stopping, best iteration is:\n",
      "[183]\ttraining's l1: 2.3883\tvalid_1's l1: 2.69625\n",
      "[LightGBM] [Warning] feature_fraction is set=0.8491911716378194, colsample_bytree=0.6 will be ignored. Current value: feature_fraction=0.8491911716378194\n",
      "[LightGBM] [Warning] bagging_fraction is set=0.9957670998114323, subsample=0.8 will be ignored. Current value: bagging_fraction=0.9957670998114323\n",
      "[LightGBM] [Warning] bagging_freq is set=8, subsample_freq=0 will be ignored. Current value: bagging_freq=8\n",
      "Training until validation scores don't improve for 100 rounds\n",
      "[100]\ttraining's l1: 2.43568\tvalid_1's l1: 2.70069\n",
      "[200]\ttraining's l1: 2.3818\tvalid_1's l1: 2.68964\n",
      "[300]\ttraining's l1: 2.34632\tvalid_1's l1: 2.6904\n"
     ]
    },
    {
     "name": "stderr",
     "output_type": "stream",
     "text": [
      "\u001b[32m[I 2021-07-19 21:57:07,324]\u001b[0m Trial 89 finished with value: -2.685564886702543 and parameters: {'max_depth': 9, 'min_child_weight': 5, 'subsample': 0.8, 'colsample_bytree': 0.6, 'reg_lambda': 0.21981529226114616, 'reg_alpha': 0.004476152171619724, 'feature_fraction': 0.8491911716378194, 'bagging_fraction': 0.9957670998114323, 'bagging_freq': 8, 'num_leaves': 716, 'min_child_samples': 7}. Best is trial 32 with value: -2.670810480684822.\u001b[0m\n"
     ]
    },
    {
     "name": "stdout",
     "output_type": "stream",
     "text": [
      "Early stopping, best iteration is:\n",
      "[253]\ttraining's l1: 2.35869\tvalid_1's l1: 2.68594\n",
      "[LightGBM] [Warning] feature_fraction is set=0.7210549224123464, colsample_bytree=0.6 will be ignored. Current value: feature_fraction=0.7210549224123464\n",
      "[LightGBM] [Warning] bagging_fraction is set=0.6280478112996487, subsample=0.9 will be ignored. Current value: bagging_fraction=0.6280478112996487\n",
      "[LightGBM] [Warning] bagging_freq is set=10, subsample_freq=0 will be ignored. Current value: bagging_freq=10\n",
      "Training until validation scores don't improve for 100 rounds\n",
      "[100]\ttraining's l1: 2.55176\tvalid_1's l1: 2.71627\n",
      "[200]\ttraining's l1: 2.52882\tvalid_1's l1: 2.70157\n",
      "[300]\ttraining's l1: 2.51038\tvalid_1's l1: 2.69575\n",
      "[400]\ttraining's l1: 2.49283\tvalid_1's l1: 2.69258\n",
      "[500]\ttraining's l1: 2.48059\tvalid_1's l1: 2.69037\n",
      "[600]\ttraining's l1: 2.46922\tvalid_1's l1: 2.68992\n",
      "Early stopping, best iteration is:\n",
      "[521]\ttraining's l1: 2.47674\tvalid_1's l1: 2.68844\n"
     ]
    },
    {
     "name": "stderr",
     "output_type": "stream",
     "text": [
      "\u001b[32m[I 2021-07-19 21:57:12,476]\u001b[0m Trial 90 finished with value: -2.687411526506162 and parameters: {'max_depth': 7, 'min_child_weight': 13, 'subsample': 0.9, 'colsample_bytree': 0.6, 'reg_lambda': 7.477226611926312, 'reg_alpha': 0.0085747812390474, 'feature_fraction': 0.7210549224123464, 'bagging_fraction': 0.6280478112996487, 'bagging_freq': 10, 'num_leaves': 801, 'min_child_samples': 59}. Best is trial 32 with value: -2.670810480684822.\u001b[0m\n"
     ]
    },
    {
     "name": "stdout",
     "output_type": "stream",
     "text": [
      "[LightGBM] [Warning] feature_fraction is set=0.979872098732771, colsample_bytree=0.6 will be ignored. Current value: feature_fraction=0.979872098732771\n",
      "[LightGBM] [Warning] bagging_fraction is set=0.7454436174792944, subsample=0.7 will be ignored. Current value: bagging_fraction=0.7454436174792944\n",
      "[LightGBM] [Warning] bagging_freq is set=7, subsample_freq=0 will be ignored. Current value: bagging_freq=7\n",
      "Training until validation scores don't improve for 100 rounds\n",
      "[100]\ttraining's l1: 2.50221\tvalid_1's l1: 2.6976\n",
      "[200]\ttraining's l1: 2.4556\tvalid_1's l1: 2.68527\n",
      "[300]\ttraining's l1: 2.42734\tvalid_1's l1: 2.68566\n"
     ]
    },
    {
     "name": "stderr",
     "output_type": "stream",
     "text": [
      "\u001b[32m[I 2021-07-19 21:57:17,205]\u001b[0m Trial 91 finished with value: -2.6837291760024673 and parameters: {'max_depth': 8, 'min_child_weight': 2, 'subsample': 0.7, 'colsample_bytree': 0.6, 'reg_lambda': 0.42512407374318817, 'reg_alpha': 1.9785948794447876, 'feature_fraction': 0.979872098732771, 'bagging_fraction': 0.7454436174792944, 'bagging_freq': 7, 'num_leaves': 699, 'min_child_samples': 17}. Best is trial 32 with value: -2.670810480684822.\u001b[0m\n"
     ]
    },
    {
     "name": "stdout",
     "output_type": "stream",
     "text": [
      "Early stopping, best iteration is:\n",
      "[227]\ttraining's l1: 2.44559\tvalid_1's l1: 2.68449\n",
      "[LightGBM] [Warning] feature_fraction is set=0.9357993045594714, colsample_bytree=0.6 will be ignored. Current value: feature_fraction=0.9357993045594714\n",
      "[LightGBM] [Warning] bagging_fraction is set=0.8024535107506203, subsample=0.7 will be ignored. Current value: bagging_fraction=0.8024535107506203\n",
      "[LightGBM] [Warning] bagging_freq is set=7, subsample_freq=0 will be ignored. Current value: bagging_freq=7\n",
      "Training until validation scores don't improve for 100 rounds\n",
      "[100]\ttraining's l1: 2.46153\tvalid_1's l1: 2.69814\n",
      "[200]\ttraining's l1: 2.40725\tvalid_1's l1: 2.69026\n",
      "[300]\ttraining's l1: 2.36749\tvalid_1's l1: 2.69036\n"
     ]
    },
    {
     "name": "stderr",
     "output_type": "stream",
     "text": [
      "\u001b[32m[I 2021-07-19 21:57:23,065]\u001b[0m Trial 92 finished with value: -2.684960164636743 and parameters: {'max_depth': 9, 'min_child_weight': 6, 'subsample': 0.7, 'colsample_bytree': 0.6, 'reg_lambda': 0.31713961977781946, 'reg_alpha': 0.0015127637040386935, 'feature_fraction': 0.9357993045594714, 'bagging_fraction': 0.8024535107506203, 'bagging_freq': 7, 'num_leaves': 641, 'min_child_samples': 20}. Best is trial 32 with value: -2.670810480684822.\u001b[0m\n"
     ]
    },
    {
     "name": "stdout",
     "output_type": "stream",
     "text": [
      "Early stopping, best iteration is:\n",
      "[239]\ttraining's l1: 2.3893\tvalid_1's l1: 2.6868\n",
      "[LightGBM] [Warning] feature_fraction is set=0.9549804205308194, colsample_bytree=0.6 will be ignored. Current value: feature_fraction=0.9549804205308194\n",
      "[LightGBM] [Warning] bagging_fraction is set=0.7337857239206158, subsample=0.7 will be ignored. Current value: bagging_fraction=0.7337857239206158\n",
      "[LightGBM] [Warning] bagging_freq is set=6, subsample_freq=0 will be ignored. Current value: bagging_freq=6\n",
      "Training until validation scores don't improve for 100 rounds\n",
      "[100]\ttraining's l1: 2.42894\tvalid_1's l1: 2.70539\n",
      "[200]\ttraining's l1: 2.35498\tvalid_1's l1: 2.68938\n",
      "[300]\ttraining's l1: 2.29876\tvalid_1's l1: 2.69116\n"
     ]
    },
    {
     "name": "stderr",
     "output_type": "stream",
     "text": [
      "\u001b[32m[I 2021-07-19 21:57:30,186]\u001b[0m Trial 93 finished with value: -2.68648032622699 and parameters: {'max_depth': 10, 'min_child_weight': 1, 'subsample': 0.7, 'colsample_bytree': 0.6, 'reg_lambda': 0.7564159406307078, 'reg_alpha': 1.276765224795711, 'feature_fraction': 0.9549804205308194, 'bagging_fraction': 0.7337857239206158, 'bagging_freq': 6, 'num_leaves': 739, 'min_child_samples': 15}. Best is trial 32 with value: -2.670810480684822.\u001b[0m\n"
     ]
    },
    {
     "name": "stdout",
     "output_type": "stream",
     "text": [
      "Early stopping, best iteration is:\n",
      "[222]\ttraining's l1: 2.34244\tvalid_1's l1: 2.68757\n",
      "[LightGBM] [Warning] feature_fraction is set=0.8994380121917416, colsample_bytree=0.6 will be ignored. Current value: feature_fraction=0.8994380121917416\n",
      "[LightGBM] [Warning] bagging_fraction is set=0.8288699860326555, subsample=0.7 will be ignored. Current value: bagging_fraction=0.8288699860326555\n",
      "[LightGBM] [Warning] bagging_freq is set=13, subsample_freq=0 will be ignored. Current value: bagging_freq=13\n",
      "Training until validation scores don't improve for 100 rounds\n",
      "[100]\ttraining's l1: 2.46696\tvalid_1's l1: 2.70981\n",
      "[200]\ttraining's l1: 2.42425\tvalid_1's l1: 2.70432\n",
      "[300]\ttraining's l1: 2.39655\tvalid_1's l1: 2.69749\n",
      "[400]\ttraining's l1: 2.36001\tvalid_1's l1: 2.69236\n",
      "[500]\ttraining's l1: 2.34108\tvalid_1's l1: 2.69143\n",
      "[600]\ttraining's l1: 2.33188\tvalid_1's l1: 2.69027\n"
     ]
    },
    {
     "name": "stderr",
     "output_type": "stream",
     "text": [
      "\u001b[32m[I 2021-07-19 21:57:39,327]\u001b[0m Trial 94 finished with value: -2.6882742274598908 and parameters: {'max_depth': 9, 'min_child_weight': 4, 'subsample': 0.7, 'colsample_bytree': 0.6, 'reg_lambda': 0.10667449071127239, 'reg_alpha': 0.003503776124718857, 'feature_fraction': 0.8994380121917416, 'bagging_fraction': 0.8288699860326555, 'bagging_freq': 13, 'num_leaves': 688, 'min_child_samples': 26}. Best is trial 32 with value: -2.670810480684822.\u001b[0m\n"
     ]
    },
    {
     "name": "stdout",
     "output_type": "stream",
     "text": [
      "Early stopping, best iteration is:\n",
      "[555]\ttraining's l1: 2.3362\tvalid_1's l1: 2.69012\n",
      "[LightGBM] [Warning] feature_fraction is set=0.9193954978595166, colsample_bytree=0.6 will be ignored. Current value: feature_fraction=0.9193954978595166\n",
      "[LightGBM] [Warning] bagging_fraction is set=0.7043959780507115, subsample=0.7 will be ignored. Current value: bagging_fraction=0.7043959780507115\n",
      "[LightGBM] [Warning] bagging_freq is set=9, subsample_freq=0 will be ignored. Current value: bagging_freq=9\n",
      "Training until validation scores don't improve for 100 rounds\n",
      "[100]\ttraining's l1: 2.50048\tvalid_1's l1: 2.69575\n",
      "[200]\ttraining's l1: 2.45146\tvalid_1's l1: 2.67802\n"
     ]
    },
    {
     "name": "stderr",
     "output_type": "stream",
     "text": [
      "\u001b[32m[I 2021-07-19 21:57:43,222]\u001b[0m Trial 95 finished with value: -2.676877523601297 and parameters: {'max_depth': 8, 'min_child_weight': 7, 'subsample': 0.7, 'colsample_bytree': 0.6, 'reg_lambda': 0.16234786667975423, 'reg_alpha': 0.013199962521475763, 'feature_fraction': 0.9193954978595166, 'bagging_fraction': 0.7043959780507115, 'bagging_freq': 9, 'num_leaves': 663, 'min_child_samples': 12}. Best is trial 32 with value: -2.670810480684822.\u001b[0m\n"
     ]
    },
    {
     "name": "stdout",
     "output_type": "stream",
     "text": [
      "Early stopping, best iteration is:\n",
      "[170]\ttraining's l1: 2.46061\tvalid_1's l1: 2.67745\n",
      "[LightGBM] [Warning] feature_fraction is set=0.9870808279599023, colsample_bytree=0.6 will be ignored. Current value: feature_fraction=0.9870808279599023\n",
      "[LightGBM] [Warning] bagging_fraction is set=0.7652962454199664, subsample=0.7 will be ignored. Current value: bagging_fraction=0.7652962454199664\n",
      "[LightGBM] [Warning] bagging_freq is set=6, subsample_freq=0 will be ignored. Current value: bagging_freq=6\n",
      "Training until validation scores don't improve for 100 rounds\n",
      "[100]\ttraining's l1: 2.52591\tvalid_1's l1: 2.69733\n",
      "[200]\ttraining's l1: 2.48874\tvalid_1's l1: 2.68694\n",
      "[300]\ttraining's l1: 2.47214\tvalid_1's l1: 2.69065\n"
     ]
    },
    {
     "name": "stderr",
     "output_type": "stream",
     "text": [
      "\u001b[32m[I 2021-07-19 21:57:47,435]\u001b[0m Trial 96 finished with value: -2.6834759799525902 and parameters: {'max_depth': 7, 'min_child_weight': 5, 'subsample': 0.7, 'colsample_bytree': 0.6, 'reg_lambda': 1.0863908428117262, 'reg_alpha': 0.024751051770110086, 'feature_fraction': 0.9870808279599023, 'bagging_fraction': 0.7652962454199664, 'bagging_freq': 6, 'num_leaves': 842, 'min_child_samples': 9}. Best is trial 32 with value: -2.670810480684822.\u001b[0m\n"
     ]
    },
    {
     "name": "stdout",
     "output_type": "stream",
     "text": [
      "Early stopping, best iteration is:\n",
      "[255]\ttraining's l1: 2.47941\tvalid_1's l1: 2.68407\n",
      "[LightGBM] [Warning] feature_fraction is set=0.8230086302420428, colsample_bytree=0.6 will be ignored. Current value: feature_fraction=0.8230086302420428\n",
      "[LightGBM] [Warning] bagging_fraction is set=0.8460648982178641, subsample=0.9 will be ignored. Current value: bagging_fraction=0.8460648982178641\n",
      "[LightGBM] [Warning] bagging_freq is set=7, subsample_freq=0 will be ignored. Current value: bagging_freq=7\n",
      "Training until validation scores don't improve for 100 rounds\n",
      "[100]\ttraining's l1: 2.51365\tvalid_1's l1: 2.70726\n",
      "[200]\ttraining's l1: 2.47137\tvalid_1's l1: 2.69027\n",
      "[300]\ttraining's l1: 2.44725\tvalid_1's l1: 2.68841\n",
      "[400]\ttraining's l1: 2.42683\tvalid_1's l1: 2.68907\n"
     ]
    },
    {
     "name": "stderr",
     "output_type": "stream",
     "text": [
      "\u001b[32m[I 2021-07-19 21:57:55,180]\u001b[0m Trial 97 finished with value: -2.687342639402475 and parameters: {'max_depth': 10, 'min_child_weight': 9, 'subsample': 0.9, 'colsample_bytree': 0.6, 'reg_lambda': 0.4324244859040448, 'reg_alpha': 36.38274642362199, 'feature_fraction': 0.8230086302420428, 'bagging_fraction': 0.8460648982178641, 'bagging_freq': 7, 'num_leaves': 592, 'min_child_samples': 16}. Best is trial 32 with value: -2.670810480684822.\u001b[0m\n"
     ]
    },
    {
     "name": "stdout",
     "output_type": "stream",
     "text": [
      "Early stopping, best iteration is:\n",
      "[321]\ttraining's l1: 2.44266\tvalid_1's l1: 2.68808\n",
      "[LightGBM] [Warning] feature_fraction is set=0.9989797221713521, colsample_bytree=0.7 will be ignored. Current value: feature_fraction=0.9989797221713521\n",
      "[LightGBM] [Warning] bagging_fraction is set=0.7808997473797112, subsample=0.6 will be ignored. Current value: bagging_fraction=0.7808997473797112\n",
      "[LightGBM] [Warning] bagging_freq is set=12, subsample_freq=0 will be ignored. Current value: bagging_freq=12\n",
      "Training until validation scores don't improve for 100 rounds\n",
      "[100]\ttraining's l1: 2.46759\tvalid_1's l1: 2.70149\n",
      "[200]\ttraining's l1: 2.42771\tvalid_1's l1: 2.69721\n"
     ]
    },
    {
     "name": "stderr",
     "output_type": "stream",
     "text": [
      "\u001b[32m[I 2021-07-19 21:57:59,814]\u001b[0m Trial 98 finished with value: -2.6950656700415894 and parameters: {'max_depth': 9, 'min_child_weight': 12, 'subsample': 0.6, 'colsample_bytree': 0.7, 'reg_lambda': 0.06164150431784069, 'reg_alpha': 0.0036807306235032184, 'feature_fraction': 0.9989797221713521, 'bagging_fraction': 0.7808997473797112, 'bagging_freq': 12, 'num_leaves': 773, 'min_child_samples': 24}. Best is trial 32 with value: -2.670810480684822.\u001b[0m\n"
     ]
    },
    {
     "name": "stdout",
     "output_type": "stream",
     "text": [
      "Early stopping, best iteration is:\n",
      "[159]\ttraining's l1: 2.44122\tvalid_1's l1: 2.69554\n",
      "[LightGBM] [Warning] feature_fraction is set=0.8708750695830033, colsample_bytree=0.5 will be ignored. Current value: feature_fraction=0.8708750695830033\n",
      "[LightGBM] [Warning] bagging_fraction is set=0.5689838920712101, subsample=0.8 will be ignored. Current value: bagging_fraction=0.5689838920712101\n",
      "[LightGBM] [Warning] bagging_freq is set=8, subsample_freq=0 will be ignored. Current value: bagging_freq=8\n",
      "Training until validation scores don't improve for 100 rounds\n",
      "[100]\ttraining's l1: 2.43007\tvalid_1's l1: 2.70493\n",
      "[200]\ttraining's l1: 2.31876\tvalid_1's l1: 2.70728\n"
     ]
    },
    {
     "name": "stderr",
     "output_type": "stream",
     "text": [
      "\u001b[32m[I 2021-07-19 21:58:05,764]\u001b[0m Trial 99 finished with value: -2.6986072148391 and parameters: {'max_depth': 11, 'min_child_weight': 11, 'subsample': 0.8, 'colsample_bytree': 0.5, 'reg_lambda': 2.168680618414946, 'reg_alpha': 0.0019679892543794032, 'feature_fraction': 0.8708750695830033, 'bagging_fraction': 0.5689838920712101, 'bagging_freq': 8, 'num_leaves': 553, 'min_child_samples': 5}. Best is trial 32 with value: -2.670810480684822.\u001b[0m\n",
      "\u001b[32m[I 2021-07-19 21:58:05,765]\u001b[0m A new study created in memory with name: no-name-4cd002a0-9980-4330-bb5e-9917e7c12bea\u001b[0m\n"
     ]
    },
    {
     "name": "stdout",
     "output_type": "stream",
     "text": [
      "Early stopping, best iteration is:\n",
      "[135]\ttraining's l1: 2.39602\tvalid_1's l1: 2.69996\n",
      "[LightGBM] [Warning] feature_fraction is set=0.5079370201279416, colsample_bytree=0.5 will be ignored. Current value: feature_fraction=0.5079370201279416\n",
      "[LightGBM] [Warning] bagging_fraction is set=0.3651558612818526, subsample=0.8 will be ignored. Current value: bagging_fraction=0.3651558612818526\n",
      "[LightGBM] [Warning] bagging_freq is set=15, subsample_freq=0 will be ignored. Current value: bagging_freq=15\n",
      "Training until validation scores don't improve for 100 rounds\n",
      "[100]\ttraining's l1: 3.17438\tvalid_1's l1: 2.82624\n"
     ]
    },
    {
     "name": "stderr",
     "output_type": "stream",
     "text": [
      "\u001b[32m[I 2021-07-19 21:58:06,882]\u001b[0m Trial 0 finished with value: -2.8235503507156694 and parameters: {'max_depth': 3, 'min_child_weight': 11, 'subsample': 0.8, 'colsample_bytree': 0.5, 'reg_lambda': 0.021807361202421934, 'reg_alpha': 8.614286024716415, 'feature_fraction': 0.5079370201279416, 'bagging_fraction': 0.3651558612818526, 'bagging_freq': 15, 'num_leaves': 940, 'min_child_samples': 56}. Best is trial 0 with value: -2.8235503507156694.\u001b[0m\n"
     ]
    },
    {
     "name": "stdout",
     "output_type": "stream",
     "text": [
      "Early stopping, best iteration is:\n",
      "[61]\ttraining's l1: 3.23238\tvalid_1's l1: 2.82355\n",
      "[LightGBM] [Warning] feature_fraction is set=0.8146089195680719, colsample_bytree=0.6 will be ignored. Current value: feature_fraction=0.8146089195680719\n",
      "[LightGBM] [Warning] bagging_fraction is set=0.9988595204900419, subsample=0.7 will be ignored. Current value: bagging_fraction=0.9988595204900419\n",
      "[LightGBM] [Warning] bagging_freq is set=18, subsample_freq=0 will be ignored. Current value: bagging_freq=18\n",
      "Training until validation scores don't improve for 100 rounds\n",
      "[100]\ttraining's l1: 2.71545\tvalid_1's l1: 3.00722\n"
     ]
    },
    {
     "name": "stderr",
     "output_type": "stream",
     "text": [
      "\u001b[32m[I 2021-07-19 21:58:10,474]\u001b[0m Trial 1 finished with value: -2.9082562715665357 and parameters: {'max_depth': 14, 'min_child_weight': 15, 'subsample': 0.7, 'colsample_bytree': 0.6, 'reg_lambda': 327.7302725304424, 'reg_alpha': 0.003720368005875538, 'feature_fraction': 0.8146089195680719, 'bagging_fraction': 0.9988595204900419, 'bagging_freq': 18, 'num_leaves': 626, 'min_child_samples': 81}. Best is trial 0 with value: -2.8235503507156694.\u001b[0m\n"
     ]
    },
    {
     "name": "stdout",
     "output_type": "stream",
     "text": [
      "Early stopping, best iteration is:\n",
      "[18]\ttraining's l1: 3.11978\tvalid_1's l1: 2.90826\n",
      "[LightGBM] [Warning] feature_fraction is set=0.6020828612377229, colsample_bytree=0.5 will be ignored. Current value: feature_fraction=0.6020828612377229\n",
      "[LightGBM] [Warning] bagging_fraction is set=0.9951454091268015, subsample=0.7 will be ignored. Current value: bagging_fraction=0.9951454091268015\n",
      "[LightGBM] [Warning] bagging_freq is set=18, subsample_freq=0 will be ignored. Current value: bagging_freq=18\n",
      "Training until validation scores don't improve for 100 rounds\n",
      "[100]\ttraining's l1: 2.61985\tvalid_1's l1: 3.00488\n"
     ]
    },
    {
     "name": "stderr",
     "output_type": "stream",
     "text": [
      "\u001b[32m[I 2021-07-19 21:58:15,242]\u001b[0m Trial 2 finished with value: -2.8941210323065194 and parameters: {'max_depth': 15, 'min_child_weight': 7, 'subsample': 0.7, 'colsample_bytree': 0.5, 'reg_lambda': 0.001201409337040413, 'reg_alpha': 0.0030608523974109832, 'feature_fraction': 0.6020828612377229, 'bagging_fraction': 0.9951454091268015, 'bagging_freq': 18, 'num_leaves': 844, 'min_child_samples': 61}. Best is trial 0 with value: -2.8235503507156694.\u001b[0m\n"
     ]
    },
    {
     "name": "stdout",
     "output_type": "stream",
     "text": [
      "Early stopping, best iteration is:\n",
      "[14]\ttraining's l1: 3.04666\tvalid_1's l1: 2.89412\n",
      "[LightGBM] [Warning] feature_fraction is set=0.39248134421854397, colsample_bytree=0.7 will be ignored. Current value: feature_fraction=0.39248134421854397\n",
      "[LightGBM] [Warning] bagging_fraction is set=0.7013177030779385, subsample=0.9 will be ignored. Current value: bagging_fraction=0.7013177030779385\n",
      "[LightGBM] [Warning] bagging_freq is set=13, subsample_freq=0 will be ignored. Current value: bagging_freq=13\n",
      "Training until validation scores don't improve for 100 rounds\n",
      "[100]\ttraining's l1: 3.01991\tvalid_1's l1: 2.92587\n"
     ]
    },
    {
     "name": "stderr",
     "output_type": "stream",
     "text": [
      "\u001b[32m[I 2021-07-19 21:58:16,842]\u001b[0m Trial 3 finished with value: -2.89314248479673 and parameters: {'max_depth': 7, 'min_child_weight': 20, 'subsample': 0.9, 'colsample_bytree': 0.7, 'reg_lambda': 463.90365072914705, 'reg_alpha': 134.6854881710764, 'feature_fraction': 0.39248134421854397, 'bagging_fraction': 0.7013177030779385, 'bagging_freq': 13, 'num_leaves': 913, 'min_child_samples': 6}. Best is trial 0 with value: -2.8235503507156694.\u001b[0m\n"
     ]
    },
    {
     "name": "stdout",
     "output_type": "stream",
     "text": [
      "Early stopping, best iteration is:\n",
      "[34]\ttraining's l1: 3.18239\tvalid_1's l1: 2.89314\n",
      "[LightGBM] [Warning] feature_fraction is set=0.5863573329365891, colsample_bytree=0.9 will be ignored. Current value: feature_fraction=0.5863573329365891\n",
      "[LightGBM] [Warning] bagging_fraction is set=0.6539738961150743, subsample=0.6 will be ignored. Current value: bagging_fraction=0.6539738961150743\n",
      "[LightGBM] [Warning] bagging_freq is set=20, subsample_freq=0 will be ignored. Current value: bagging_freq=20\n",
      "Training until validation scores don't improve for 100 rounds\n",
      "[100]\ttraining's l1: 3.02464\tvalid_1's l1: 2.84511\n"
     ]
    },
    {
     "name": "stderr",
     "output_type": "stream",
     "text": [
      "\u001b[32m[I 2021-07-19 21:58:18,400]\u001b[0m Trial 4 finished with value: -2.8091417792585975 and parameters: {'max_depth': 5, 'min_child_weight': 6, 'subsample': 0.6, 'colsample_bytree': 0.9, 'reg_lambda': 0.8798564878727408, 'reg_alpha': 0.10703638738372448, 'feature_fraction': 0.5863573329365891, 'bagging_fraction': 0.6539738961150743, 'bagging_freq': 20, 'num_leaves': 309, 'min_child_samples': 50}. Best is trial 4 with value: -2.8091417792585975.\u001b[0m\n"
     ]
    },
    {
     "name": "stdout",
     "output_type": "stream",
     "text": [
      "Early stopping, best iteration is:\n",
      "[36]\ttraining's l1: 3.15046\tvalid_1's l1: 2.80914\n",
      "[LightGBM] [Warning] feature_fraction is set=0.7507898316153772, colsample_bytree=0.6 will be ignored. Current value: feature_fraction=0.7507898316153772\n",
      "[LightGBM] [Warning] bagging_fraction is set=0.36564636760867253, subsample=0.5 will be ignored. Current value: bagging_fraction=0.36564636760867253\n",
      "[LightGBM] [Warning] bagging_freq is set=6, subsample_freq=0 will be ignored. Current value: bagging_freq=6\n",
      "Training until validation scores don't improve for 100 rounds\n",
      "[100]\ttraining's l1: 2.67659\tvalid_1's l1: 3.08353\n"
     ]
    },
    {
     "name": "stderr",
     "output_type": "stream",
     "text": [
      "\u001b[32m[I 2021-07-19 21:58:21,747]\u001b[0m Trial 5 finished with value: -2.9216126336170514 and parameters: {'max_depth': 16, 'min_child_weight': 9, 'subsample': 0.5, 'colsample_bytree': 0.6, 'reg_lambda': 0.0021138589732284134, 'reg_alpha': 1.327071006036444, 'feature_fraction': 0.7507898316153772, 'bagging_fraction': 0.36564636760867253, 'bagging_freq': 6, 'num_leaves': 756, 'min_child_samples': 39}. Best is trial 4 with value: -2.8091417792585975.\u001b[0m\n"
     ]
    },
    {
     "name": "stdout",
     "output_type": "stream",
     "text": [
      "Early stopping, best iteration is:\n",
      "[13]\ttraining's l1: 3.15838\tvalid_1's l1: 2.92161\n",
      "[LightGBM] [Warning] feature_fraction is set=0.7665386473437472, colsample_bytree=0.9 will be ignored. Current value: feature_fraction=0.7665386473437472\n",
      "[LightGBM] [Warning] bagging_fraction is set=0.7726201591001314, subsample=0.5 will be ignored. Current value: bagging_fraction=0.7726201591001314\n",
      "[LightGBM] [Warning] bagging_freq is set=5, subsample_freq=0 will be ignored. Current value: bagging_freq=5\n",
      "Training until validation scores don't improve for 100 rounds\n",
      "[100]\ttraining's l1: 3.08005\tvalid_1's l1: 2.82206\n"
     ]
    },
    {
     "name": "stderr",
     "output_type": "stream",
     "text": [
      "\u001b[32m[I 2021-07-19 21:58:23,109]\u001b[0m Trial 6 finished with value: -2.804190068837983 and parameters: {'max_depth': 4, 'min_child_weight': 14, 'subsample': 0.5, 'colsample_bytree': 0.9, 'reg_lambda': 0.0031805363668218917, 'reg_alpha': 0.4148433303182334, 'feature_fraction': 0.7665386473437472, 'bagging_fraction': 0.7726201591001314, 'bagging_freq': 5, 'num_leaves': 543, 'min_child_samples': 17}. Best is trial 6 with value: -2.804190068837983.\u001b[0m\n"
     ]
    },
    {
     "name": "stdout",
     "output_type": "stream",
     "text": [
      "Early stopping, best iteration is:\n",
      "[45]\ttraining's l1: 3.18187\tvalid_1's l1: 2.80419\n",
      "[LightGBM] [Warning] feature_fraction is set=0.366952555842367, colsample_bytree=0.9 will be ignored. Current value: feature_fraction=0.366952555842367\n",
      "[LightGBM] [Warning] bagging_fraction is set=0.7459826648551957, subsample=0.5 will be ignored. Current value: bagging_fraction=0.7459826648551957\n",
      "[LightGBM] [Warning] bagging_freq is set=17, subsample_freq=0 will be ignored. Current value: bagging_freq=17\n",
      "Training until validation scores don't improve for 100 rounds\n",
      "[100]\ttraining's l1: 3.39048\tvalid_1's l1: 2.8433\n",
      "[200]\ttraining's l1: 3.32459\tvalid_1's l1: 2.82519\n"
     ]
    },
    {
     "name": "stderr",
     "output_type": "stream",
     "text": [
      "\u001b[32m[I 2021-07-19 21:58:24,944]\u001b[0m Trial 7 finished with value: -2.8231606792803023 and parameters: {'max_depth': 1, 'min_child_weight': 16, 'subsample': 0.5, 'colsample_bytree': 0.9, 'reg_lambda': 87.83253683317395, 'reg_alpha': 0.01477936355028359, 'feature_fraction': 0.366952555842367, 'bagging_fraction': 0.7459826648551957, 'bagging_freq': 17, 'num_leaves': 840, 'min_child_samples': 93}. Best is trial 6 with value: -2.804190068837983.\u001b[0m\n"
     ]
    },
    {
     "name": "stdout",
     "output_type": "stream",
     "text": [
      "Early stopping, best iteration is:\n",
      "[153]\ttraining's l1: 3.34712\tvalid_1's l1: 2.82316\n",
      "[LightGBM] [Warning] feature_fraction is set=0.7445609162792046, colsample_bytree=0.5 will be ignored. Current value: feature_fraction=0.7445609162792046\n",
      "[LightGBM] [Warning] bagging_fraction is set=0.4342111291197573, subsample=0.7 will be ignored. Current value: bagging_fraction=0.4342111291197573\n",
      "[LightGBM] [Warning] bagging_freq is set=11, subsample_freq=0 will be ignored. Current value: bagging_freq=11\n",
      "Training until validation scores don't improve for 100 rounds\n"
     ]
    },
    {
     "name": "stderr",
     "output_type": "stream",
     "text": [
      "\u001b[32m[I 2021-07-19 21:58:26,161]\u001b[0m Trial 8 finished with value: -2.841050792340062 and parameters: {'max_depth': 7, 'min_child_weight': 10, 'subsample': 0.7, 'colsample_bytree': 0.5, 'reg_lambda': 0.001944859761002015, 'reg_alpha': 0.34042220871620577, 'feature_fraction': 0.7445609162792046, 'bagging_fraction': 0.4342111291197573, 'bagging_freq': 11, 'num_leaves': 974, 'min_child_samples': 90}. Best is trial 6 with value: -2.804190068837983.\u001b[0m\n"
     ]
    },
    {
     "name": "stdout",
     "output_type": "stream",
     "text": [
      "[100]\ttraining's l1: 2.95357\tvalid_1's l1: 2.92083\n",
      "Early stopping, best iteration is:\n",
      "[19]\ttraining's l1: 3.17636\tvalid_1's l1: 2.84105\n",
      "[LightGBM] [Warning] feature_fraction is set=0.4724109527837936, colsample_bytree=0.7 will be ignored. Current value: feature_fraction=0.4724109527837936\n",
      "[LightGBM] [Warning] bagging_fraction is set=0.316669235977064, subsample=0.5 will be ignored. Current value: bagging_fraction=0.316669235977064\n",
      "[LightGBM] [Warning] bagging_freq is set=15, subsample_freq=0 will be ignored. Current value: bagging_freq=15\n",
      "Training until validation scores don't improve for 100 rounds\n",
      "[100]\ttraining's l1: 2.87986\tvalid_1's l1: 2.95859\n"
     ]
    },
    {
     "name": "stderr",
     "output_type": "stream",
     "text": [
      "\u001b[32m[I 2021-07-19 21:58:28,033]\u001b[0m Trial 9 finished with value: -2.8469856617892404 and parameters: {'max_depth': 17, 'min_child_weight': 13, 'subsample': 0.5, 'colsample_bytree': 0.7, 'reg_lambda': 0.2609401110376799, 'reg_alpha': 0.07878113664221593, 'feature_fraction': 0.4724109527837936, 'bagging_fraction': 0.316669235977064, 'bagging_freq': 15, 'num_leaves': 140, 'min_child_samples': 47}. Best is trial 6 with value: -2.804190068837983.\u001b[0m\n"
     ]
    },
    {
     "name": "stdout",
     "output_type": "stream",
     "text": [
      "Early stopping, best iteration is:\n",
      "[22]\ttraining's l1: 3.12225\tvalid_1's l1: 2.84699\n",
      "[LightGBM] [Warning] feature_fraction is set=0.9790598131667589, colsample_bytree=0.8 will be ignored. Current value: feature_fraction=0.9790598131667589\n",
      "[LightGBM] [Warning] bagging_fraction is set=0.831676559607266, subsample=0.6 will be ignored. Current value: bagging_fraction=0.831676559607266\n",
      "[LightGBM] [Warning] bagging_freq is set=2, subsample_freq=0 will be ignored. Current value: bagging_freq=2\n",
      "Training until validation scores don't improve for 100 rounds\n",
      "[100]\ttraining's l1: 2.77486\tvalid_1's l1: 2.98955\n"
     ]
    },
    {
     "name": "stderr",
     "output_type": "stream",
     "text": [
      "\u001b[32m[I 2021-07-19 21:58:31,931]\u001b[0m Trial 10 finished with value: -2.896561711808476 and parameters: {'max_depth': 11, 'min_child_weight': 2, 'subsample': 0.6, 'colsample_bytree': 0.8, 'reg_lambda': 6.754112441189464, 'reg_alpha': 42.38298850757502, 'feature_fraction': 0.9790598131667589, 'bagging_fraction': 0.831676559607266, 'bagging_freq': 2, 'num_leaves': 410, 'min_child_samples': 5}. Best is trial 6 with value: -2.804190068837983.\u001b[0m\n"
     ]
    },
    {
     "name": "stdout",
     "output_type": "stream",
     "text": [
      "Early stopping, best iteration is:\n",
      "[20]\ttraining's l1: 3.0876\tvalid_1's l1: 2.89656\n",
      "[LightGBM] [Warning] feature_fraction is set=0.2091502929027204, colsample_bytree=0.9 will be ignored. Current value: feature_fraction=0.2091502929027204\n",
      "[LightGBM] [Warning] bagging_fraction is set=0.5502355561978138, subsample=0.6 will be ignored. Current value: bagging_fraction=0.5502355561978138\n",
      "[LightGBM] [Warning] bagging_freq is set=7, subsample_freq=0 will be ignored. Current value: bagging_freq=7\n",
      "Training until validation scores don't improve for 100 rounds\n",
      "[100]\ttraining's l1: 3.03989\tvalid_1's l1: 2.85251\n"
     ]
    },
    {
     "name": "stderr",
     "output_type": "stream",
     "text": [
      "\u001b[32m[I 2021-07-19 21:58:33,213]\u001b[0m Trial 11 finished with value: -2.831688403298736 and parameters: {'max_depth': 5, 'min_child_weight': 4, 'subsample': 0.6, 'colsample_bytree': 0.9, 'reg_lambda': 0.4341729907005002, 'reg_alpha': 1.3857659780218834, 'feature_fraction': 0.2091502929027204, 'bagging_fraction': 0.5502355561978138, 'bagging_freq': 7, 'num_leaves': 324, 'min_child_samples': 24}. Best is trial 6 with value: -2.804190068837983.\u001b[0m\n"
     ]
    },
    {
     "name": "stdout",
     "output_type": "stream",
     "text": [
      "Early stopping, best iteration is:\n",
      "[62]\ttraining's l1: 3.09632\tvalid_1's l1: 2.83169\n",
      "[LightGBM] [Warning] feature_fraction is set=0.9421198421486273, colsample_bytree=0.9 will be ignored. Current value: feature_fraction=0.9421198421486273\n",
      "[LightGBM] [Warning] bagging_fraction is set=0.8620932894212336, subsample=0.6 will be ignored. Current value: bagging_fraction=0.8620932894212336\n",
      "[LightGBM] [Warning] bagging_freq is set=1, subsample_freq=0 will be ignored. Current value: bagging_freq=1\n",
      "Training until validation scores don't improve for 100 rounds\n",
      "[100]\ttraining's l1: 3.38479\tvalid_1's l1: 2.85136\n",
      "[200]\ttraining's l1: 3.32182\tvalid_1's l1: 2.83173\n",
      "[300]\ttraining's l1: 3.29167\tvalid_1's l1: 2.83039\n",
      "[400]\ttraining's l1: 3.27602\tvalid_1's l1: 2.83216\n"
     ]
    },
    {
     "name": "stderr",
     "output_type": "stream",
     "text": [
      "\u001b[32m[I 2021-07-19 21:58:35,778]\u001b[0m Trial 12 finished with value: -2.8295936447223355 and parameters: {'max_depth': 1, 'min_child_weight': 6, 'subsample': 0.6, 'colsample_bytree': 0.9, 'reg_lambda': 0.025731932866295, 'reg_alpha': 0.054168060013102, 'feature_fraction': 0.9421198421486273, 'bagging_fraction': 0.8620932894212336, 'bagging_freq': 1, 'num_leaves': 179, 'min_child_samples': 26}. Best is trial 6 with value: -2.804190068837983.\u001b[0m\n"
     ]
    },
    {
     "name": "stdout",
     "output_type": "stream",
     "text": [
      "Early stopping, best iteration is:\n",
      "[375]\ttraining's l1: 3.27869\tvalid_1's l1: 2.82959\n",
      "[LightGBM] [Warning] feature_fraction is set=0.6335944025206384, colsample_bytree=0.8 will be ignored. Current value: feature_fraction=0.6335944025206384\n",
      "[LightGBM] [Warning] bagging_fraction is set=0.5884300495023161, subsample=0.6 will be ignored. Current value: bagging_fraction=0.5884300495023161\n",
      "[LightGBM] [Warning] bagging_freq is set=6, subsample_freq=0 will be ignored. Current value: bagging_freq=6\n",
      "Training until validation scores don't improve for 100 rounds\n"
     ]
    },
    {
     "name": "stderr",
     "output_type": "stream",
     "text": [
      "\u001b[32m[I 2021-07-19 21:58:37,504]\u001b[0m Trial 13 finished with value: -2.8769375323728186 and parameters: {'max_depth': 9, 'min_child_weight': 20, 'subsample': 0.6, 'colsample_bytree': 0.8, 'reg_lambda': 6.038940519846744, 'reg_alpha': 0.24211062719174728, 'feature_fraction': 0.6335944025206384, 'bagging_fraction': 0.5884300495023161, 'bagging_freq': 6, 'num_leaves': 497, 'min_child_samples': 73}. Best is trial 6 with value: -2.804190068837983.\u001b[0m\n"
     ]
    },
    {
     "name": "stdout",
     "output_type": "stream",
     "text": [
      "[100]\ttraining's l1: 2.84613\tvalid_1's l1: 2.96276\n",
      "Early stopping, best iteration is:\n",
      "[16]\ttraining's l1: 3.13472\tvalid_1's l1: 2.87694\n",
      "[LightGBM] [Warning] feature_fraction is set=0.857424000241398, colsample_bytree=0.8 will be ignored. Current value: feature_fraction=0.857424000241398\n",
      "[LightGBM] [Warning] bagging_fraction is set=0.6921391565523746, subsample=0.5 will be ignored. Current value: bagging_fraction=0.6921391565523746\n",
      "[LightGBM] [Warning] bagging_freq is set=3, subsample_freq=0 will be ignored. Current value: bagging_freq=3\n",
      "Training until validation scores don't improve for 100 rounds\n"
     ]
    },
    {
     "name": "stderr",
     "output_type": "stream",
     "text": [
      "\u001b[32m[I 2021-07-19 21:58:38,836]\u001b[0m Trial 14 finished with value: -2.8124095220247622 and parameters: {'max_depth': 4, 'min_child_weight': 17, 'subsample': 0.5, 'colsample_bytree': 0.8, 'reg_lambda': 0.02956306283605373, 'reg_alpha': 6.152908358564349, 'feature_fraction': 0.857424000241398, 'bagging_fraction': 0.6921391565523746, 'bagging_freq': 3, 'num_leaves': 308, 'min_child_samples': 22}. Best is trial 6 with value: -2.804190068837983.\u001b[0m\n"
     ]
    },
    {
     "name": "stdout",
     "output_type": "stream",
     "text": [
      "[100]\ttraining's l1: 3.08372\tvalid_1's l1: 2.84237\n",
      "Early stopping, best iteration is:\n",
      "[32]\ttraining's l1: 3.24574\tvalid_1's l1: 2.81241\n",
      "[LightGBM] [Warning] feature_fraction is set=0.6701733143224216, colsample_bytree=0.9 will be ignored. Current value: feature_fraction=0.6701733143224216\n",
      "[LightGBM] [Warning] bagging_fraction is set=0.5027922449451616, subsample=0.6 will be ignored. Current value: bagging_fraction=0.5027922449451616\n",
      "[LightGBM] [Warning] bagging_freq is set=8, subsample_freq=0 will be ignored. Current value: bagging_freq=8\n",
      "Training until validation scores don't improve for 100 rounds\n",
      "[100]\ttraining's l1: 2.62431\tvalid_1's l1: 3.04765\n"
     ]
    },
    {
     "name": "stderr",
     "output_type": "stream",
     "text": [
      "\u001b[32m[I 2021-07-19 21:58:42,933]\u001b[0m Trial 15 finished with value: -2.8943022766265933 and parameters: {'max_depth': 20, 'min_child_weight': 1, 'subsample': 0.6, 'colsample_bytree': 0.9, 'reg_lambda': 3.960231602780564, 'reg_alpha': 0.023007674225057662, 'feature_fraction': 0.6701733143224216, 'bagging_fraction': 0.5027922449451616, 'bagging_freq': 8, 'num_leaves': 586, 'min_child_samples': 35}. Best is trial 6 with value: -2.804190068837983.\u001b[0m\n"
     ]
    },
    {
     "name": "stdout",
     "output_type": "stream",
     "text": [
      "Early stopping, best iteration is:\n",
      "[16]\ttraining's l1: 3.07886\tvalid_1's l1: 2.8943\n",
      "[LightGBM] [Warning] feature_fraction is set=0.5151009096399253, colsample_bytree=0.8 will be ignored. Current value: feature_fraction=0.5151009096399253\n",
      "[LightGBM] [Warning] bagging_fraction is set=0.8337747926694485, subsample=0.8 will be ignored. Current value: bagging_fraction=0.8337747926694485\n",
      "[LightGBM] [Warning] bagging_freq is set=20, subsample_freq=0 will be ignored. Current value: bagging_freq=20\n",
      "Training until validation scores don't improve for 100 rounds\n",
      "[100]\ttraining's l1: 3.09942\tvalid_1's l1: 2.86176\n"
     ]
    },
    {
     "name": "stderr",
     "output_type": "stream",
     "text": [
      "\u001b[32m[I 2021-07-19 21:58:44,579]\u001b[0m Trial 16 finished with value: -2.820692444526359 and parameters: {'max_depth': 11, 'min_child_weight': 13, 'subsample': 0.8, 'colsample_bytree': 0.8, 'reg_lambda': 38.85292289608409, 'reg_alpha': 0.3964839375484568, 'feature_fraction': 0.5151009096399253, 'bagging_fraction': 0.8337747926694485, 'bagging_freq': 20, 'num_leaves': 13, 'min_child_samples': 15}. Best is trial 6 with value: -2.804190068837983.\u001b[0m\n"
     ]
    },
    {
     "name": "stdout",
     "output_type": "stream",
     "text": [
      "Early stopping, best iteration is:\n",
      "[35]\ttraining's l1: 3.2532\tvalid_1's l1: 2.82069\n",
      "[LightGBM] [Warning] feature_fraction is set=0.879960736903542, colsample_bytree=0.9 will be ignored. Current value: feature_fraction=0.879960736903542\n",
      "[LightGBM] [Warning] bagging_fraction is set=0.6543215327714978, subsample=0.5 will be ignored. Current value: bagging_fraction=0.6543215327714978\n",
      "[LightGBM] [Warning] bagging_freq is set=10, subsample_freq=0 will be ignored. Current value: bagging_freq=10\n",
      "Training until validation scores don't improve for 100 rounds\n",
      "[100]\ttraining's l1: 2.924\tvalid_1's l1: 2.90346\n",
      "Early stopping, best iteration is:\n",
      "[24]\ttraining's l1: 3.10975\tvalid_1's l1: 2.84525\n"
     ]
    },
    {
     "name": "stderr",
     "output_type": "stream",
     "text": [
      "\u001b[32m[I 2021-07-19 21:58:46,157]\u001b[0m Trial 17 finished with value: -2.8452498851282906 and parameters: {'max_depth': 7, 'min_child_weight': 7, 'subsample': 0.5, 'colsample_bytree': 0.9, 'reg_lambda': 0.12287076294688999, 'reg_alpha': 7.493722175041937, 'feature_fraction': 0.879960736903542, 'bagging_fraction': 0.6543215327714978, 'bagging_freq': 10, 'num_leaves': 679, 'min_child_samples': 70}. Best is trial 6 with value: -2.804190068837983.\u001b[0m\n"
     ]
    },
    {
     "name": "stdout",
     "output_type": "stream",
     "text": [
      "[LightGBM] [Warning] feature_fraction is set=0.717911736944641, colsample_bytree=0.8 will be ignored. Current value: feature_fraction=0.717911736944641\n",
      "[LightGBM] [Warning] bagging_fraction is set=0.7777777049798955, subsample=0.6 will be ignored. Current value: bagging_fraction=0.7777777049798955\n",
      "[LightGBM] [Warning] bagging_freq is set=4, subsample_freq=0 will be ignored. Current value: bagging_freq=4\n",
      "Training until validation scores don't improve for 100 rounds\n",
      "[100]\ttraining's l1: 3.25974\tvalid_1's l1: 2.82057\n",
      "[200]\ttraining's l1: 3.18973\tvalid_1's l1: 2.82414\n"
     ]
    },
    {
     "name": "stderr",
     "output_type": "stream",
     "text": [
      "\u001b[32m[I 2021-07-19 21:58:48,080]\u001b[0m Trial 18 finished with value: -2.8197932422640415 and parameters: {'max_depth': 2, 'min_child_weight': 4, 'subsample': 0.6, 'colsample_bytree': 0.8, 'reg_lambda': 0.008097768100461361, 'reg_alpha': 0.009384575697626128, 'feature_fraction': 0.717911736944641, 'bagging_fraction': 0.7777777049798955, 'bagging_freq': 4, 'num_leaves': 496, 'min_child_samples': 41}. Best is trial 6 with value: -2.804190068837983.\u001b[0m\n"
     ]
    },
    {
     "name": "stdout",
     "output_type": "stream",
     "text": [
      "Early stopping, best iteration is:\n",
      "[186]\ttraining's l1: 3.19525\tvalid_1's l1: 2.81979\n",
      "[LightGBM] [Warning] feature_fraction is set=0.5626826794237405, colsample_bytree=0.9 will be ignored. Current value: feature_fraction=0.5626826794237405\n",
      "[LightGBM] [Warning] bagging_fraction is set=0.9174565465720252, subsample=0.8 will be ignored. Current value: bagging_fraction=0.9174565465720252\n",
      "[LightGBM] [Warning] bagging_freq is set=10, subsample_freq=0 will be ignored. Current value: bagging_freq=10\n",
      "Training until validation scores don't improve for 100 rounds\n",
      "[100]\ttraining's l1: 3.0241\tvalid_1's l1: 2.84127\n"
     ]
    },
    {
     "name": "stderr",
     "output_type": "stream",
     "text": [
      "\u001b[32m[I 2021-07-19 21:58:49,922]\u001b[0m Trial 19 finished with value: -2.8178743391458587 and parameters: {'max_depth': 5, 'min_child_weight': 18, 'subsample': 0.8, 'colsample_bytree': 0.9, 'reg_lambda': 2.190890106530477, 'reg_alpha': 0.08610612630597456, 'feature_fraction': 0.5626826794237405, 'bagging_fraction': 0.9174565465720252, 'bagging_freq': 10, 'num_leaves': 232, 'min_child_samples': 52}. Best is trial 6 with value: -2.804190068837983.\u001b[0m\n"
     ]
    },
    {
     "name": "stdout",
     "output_type": "stream",
     "text": [
      "Early stopping, best iteration is:\n",
      "[30]\ttraining's l1: 3.182\tvalid_1's l1: 2.81787\n",
      "[LightGBM] [Warning] feature_fraction is set=0.2622985514795535, colsample_bytree=0.7 will be ignored. Current value: feature_fraction=0.2622985514795535\n",
      "[LightGBM] [Warning] bagging_fraction is set=0.6278680023288516, subsample=0.5 will be ignored. Current value: bagging_fraction=0.6278680023288516\n",
      "[LightGBM] [Warning] bagging_freq is set=4, subsample_freq=0 will be ignored. Current value: bagging_freq=4\n",
      "Training until validation scores don't improve for 100 rounds\n",
      "[100]\ttraining's l1: 3.2341\tvalid_1's l1: 2.89851\n"
     ]
    },
    {
     "name": "stderr",
     "output_type": "stream",
     "text": [
      "\u001b[32m[I 2021-07-19 21:58:51,277]\u001b[0m Trial 20 finished with value: -2.8903313899452594 and parameters: {'max_depth': 9, 'min_child_weight': 13, 'subsample': 0.5, 'colsample_bytree': 0.7, 'reg_lambda': 24.33674059059463, 'reg_alpha': 877.7831290742326, 'feature_fraction': 0.2622985514795535, 'bagging_fraction': 0.6278680023288516, 'bagging_freq': 4, 'num_leaves': 386, 'min_child_samples': 13}. Best is trial 6 with value: -2.804190068837983.\u001b[0m\n"
     ]
    },
    {
     "name": "stdout",
     "output_type": "stream",
     "text": [
      "Early stopping, best iteration is:\n",
      "[66]\ttraining's l1: 3.24679\tvalid_1's l1: 2.89033\n",
      "[LightGBM] [Warning] feature_fraction is set=0.8657547725443646, colsample_bytree=0.8 will be ignored. Current value: feature_fraction=0.8657547725443646\n",
      "[LightGBM] [Warning] bagging_fraction is set=0.6904108275903378, subsample=0.5 will be ignored. Current value: bagging_fraction=0.6904108275903378\n",
      "[LightGBM] [Warning] bagging_freq is set=4, subsample_freq=0 will be ignored. Current value: bagging_freq=4\n",
      "Training until validation scores don't improve for 100 rounds\n",
      "[100]\ttraining's l1: 3.0821\tvalid_1's l1: 2.83374\n"
     ]
    },
    {
     "name": "stderr",
     "output_type": "stream",
     "text": [
      "\u001b[32m[I 2021-07-19 21:58:52,697]\u001b[0m Trial 21 finished with value: -2.823002140073112 and parameters: {'max_depth': 4, 'min_child_weight': 17, 'subsample': 0.5, 'colsample_bytree': 0.8, 'reg_lambda': 0.061787371872842105, 'reg_alpha': 2.6441532449335674, 'feature_fraction': 0.8657547725443646, 'bagging_fraction': 0.6904108275903378, 'bagging_freq': 4, 'num_leaves': 299, 'min_child_samples': 27}. Best is trial 6 with value: -2.804190068837983.\u001b[0m\n"
     ]
    },
    {
     "name": "stdout",
     "output_type": "stream",
     "text": [
      "Early stopping, best iteration is:\n",
      "[36]\ttraining's l1: 3.21888\tvalid_1's l1: 2.823\n",
      "[LightGBM] [Warning] feature_fraction is set=0.7915368228181178, colsample_bytree=0.8 will be ignored. Current value: feature_fraction=0.7915368228181178\n",
      "[LightGBM] [Warning] bagging_fraction is set=0.7551800551501376, subsample=0.5 will be ignored. Current value: bagging_fraction=0.7551800551501376\n",
      "[LightGBM] [Warning] bagging_freq is set=2, subsample_freq=0 will be ignored. Current value: bagging_freq=2\n",
      "Training until validation scores don't improve for 100 rounds\n",
      "[100]\ttraining's l1: 3.01847\tvalid_1's l1: 2.85715\n"
     ]
    },
    {
     "name": "stderr",
     "output_type": "stream",
     "text": [
      "\u001b[32m[I 2021-07-19 21:58:54,289]\u001b[0m Trial 22 finished with value: -2.8262449523526962 and parameters: {'max_depth': 5, 'min_child_weight': 15, 'subsample': 0.5, 'colsample_bytree': 0.8, 'reg_lambda': 0.008885244840289061, 'reg_alpha': 6.980576315677027, 'feature_fraction': 0.7915368228181178, 'bagging_fraction': 0.7551800551501376, 'bagging_freq': 2, 'num_leaves': 55, 'min_child_samples': 17}. Best is trial 6 with value: -2.804190068837983.\u001b[0m\n"
     ]
    },
    {
     "name": "stdout",
     "output_type": "stream",
     "text": [
      "Early stopping, best iteration is:\n",
      "[36]\ttraining's l1: 3.14814\tvalid_1's l1: 2.82624\n",
      "[LightGBM] [Warning] feature_fraction is set=0.9003478853409499, colsample_bytree=0.9 will be ignored. Current value: feature_fraction=0.9003478853409499\n",
      "[LightGBM] [Warning] bagging_fraction is set=0.5749760688743745, subsample=0.6 will be ignored. Current value: bagging_fraction=0.5749760688743745\n",
      "[LightGBM] [Warning] bagging_freq is set=3, subsample_freq=0 will be ignored. Current value: bagging_freq=3\n",
      "Training until validation scores don't improve for 100 rounds\n",
      "[100]\ttraining's l1: 3.17357\tvalid_1's l1: 2.84414\n"
     ]
    },
    {
     "name": "stderr",
     "output_type": "stream",
     "text": [
      "\u001b[32m[I 2021-07-19 21:58:55,696]\u001b[0m Trial 23 finished with value: -2.8313932707054628 and parameters: {'max_depth': 3, 'min_child_weight': 18, 'subsample': 0.6, 'colsample_bytree': 0.9, 'reg_lambda': 0.8509041599100906, 'reg_alpha': 37.44755741044882, 'feature_fraction': 0.9003478853409499, 'bagging_fraction': 0.5749760688743745, 'bagging_freq': 3, 'num_leaves': 422, 'min_child_samples': 32}. Best is trial 6 with value: -2.804190068837983.\u001b[0m\n"
     ]
    },
    {
     "name": "stdout",
     "output_type": "stream",
     "text": [
      "Early stopping, best iteration is:\n",
      "[62]\ttraining's l1: 3.2355\tvalid_1's l1: 2.83139\n",
      "[LightGBM] [Warning] feature_fraction is set=0.6784759481798314, colsample_bytree=0.8 will be ignored. Current value: feature_fraction=0.6784759481798314\n",
      "[LightGBM] [Warning] bagging_fraction is set=0.4910788187733513, subsample=0.5 will be ignored. Current value: bagging_fraction=0.4910788187733513\n",
      "[LightGBM] [Warning] bagging_freq is set=1, subsample_freq=0 will be ignored. Current value: bagging_freq=1\n",
      "Training until validation scores don't improve for 100 rounds\n",
      "[100]\ttraining's l1: 3.38945\tvalid_1's l1: 2.84171\n",
      "[200]\ttraining's l1: 3.32037\tvalid_1's l1: 2.82764\n",
      "[300]\ttraining's l1: 3.28693\tvalid_1's l1: 2.82232\n",
      "Early stopping, best iteration is:\n",
      "[239]\ttraining's l1: 3.30381\tvalid_1's l1: 2.81776\n"
     ]
    },
    {
     "name": "stderr",
     "output_type": "stream",
     "text": [
      "\u001b[32m[I 2021-07-19 21:58:57,863]\u001b[0m Trial 24 finished with value: -2.817757587670632 and parameters: {'max_depth': 1, 'min_child_weight': 12, 'subsample': 0.5, 'colsample_bytree': 0.8, 'reg_lambda': 0.006044310280827673, 'reg_alpha': 0.3576451072420192, 'feature_fraction': 0.6784759481798314, 'bagging_fraction': 0.4910788187733513, 'bagging_freq': 1, 'num_leaves': 278, 'min_child_samples': 21}. Best is trial 6 with value: -2.804190068837983.\u001b[0m\n"
     ]
    },
    {
     "name": "stdout",
     "output_type": "stream",
     "text": [
      "[LightGBM] [Warning] feature_fraction is set=0.8264630579715405, colsample_bytree=0.9 will be ignored. Current value: feature_fraction=0.8264630579715405\n",
      "[LightGBM] [Warning] bagging_fraction is set=0.892899441338509, subsample=0.6 will be ignored. Current value: bagging_fraction=0.892899441338509\n",
      "[LightGBM] [Warning] bagging_freq is set=8, subsample_freq=0 will be ignored. Current value: bagging_freq=8\n",
      "Training until validation scores don't improve for 100 rounds\n",
      "[100]\ttraining's l1: 2.95081\tvalid_1's l1: 2.87156\n"
     ]
    },
    {
     "name": "stderr",
     "output_type": "stream",
     "text": [
      "\u001b[32m[I 2021-07-19 21:58:59,572]\u001b[0m Trial 25 finished with value: -2.8197144802203433 and parameters: {'max_depth': 6, 'min_child_weight': 9, 'subsample': 0.6, 'colsample_bytree': 0.9, 'reg_lambda': 0.07681654216107628, 'reg_alpha': 3.3724390046351735, 'feature_fraction': 0.8264630579715405, 'bagging_fraction': 0.892899441338509, 'bagging_freq': 8, 'num_leaves': 542, 'min_child_samples': 7}. Best is trial 6 with value: -2.804190068837983.\u001b[0m\n"
     ]
    },
    {
     "name": "stdout",
     "output_type": "stream",
     "text": [
      "Early stopping, best iteration is:\n",
      "[30]\ttraining's l1: 3.1105\tvalid_1's l1: 2.81971\n",
      "[LightGBM] [Warning] feature_fraction is set=0.9672859048669114, colsample_bytree=0.8 will be ignored. Current value: feature_fraction=0.9672859048669114\n",
      "[LightGBM] [Warning] bagging_fraction is set=0.2229031955586297, subsample=0.5 will be ignored. Current value: bagging_fraction=0.2229031955586297\n",
      "[LightGBM] [Warning] bagging_freq is set=5, subsample_freq=0 will be ignored. Current value: bagging_freq=5\n",
      "Training until validation scores don't improve for 100 rounds\n"
     ]
    },
    {
     "name": "stderr",
     "output_type": "stream",
     "text": [
      "\u001b[32m[I 2021-07-19 21:59:01,137]\u001b[0m Trial 26 finished with value: -2.8693720389712287 and parameters: {'max_depth': 9, 'min_child_weight': 15, 'subsample': 0.5, 'colsample_bytree': 0.8, 'reg_lambda': 0.023183350755324014, 'reg_alpha': 0.0010023054435931223, 'feature_fraction': 0.9672859048669114, 'bagging_fraction': 0.2229031955586297, 'bagging_freq': 5, 'num_leaves': 389, 'min_child_samples': 48}. Best is trial 6 with value: -2.804190068837983.\u001b[0m\n"
     ]
    },
    {
     "name": "stdout",
     "output_type": "stream",
     "text": [
      "[100]\ttraining's l1: 2.90994\tvalid_1's l1: 2.97236\n",
      "Early stopping, best iteration is:\n",
      "[18]\ttraining's l1: 3.13919\tvalid_1's l1: 2.86937\n",
      "[LightGBM] [Warning] feature_fraction is set=0.5692897730122837, colsample_bytree=0.9 will be ignored. Current value: feature_fraction=0.5692897730122837\n",
      "[LightGBM] [Warning] bagging_fraction is set=0.6545985717279295, subsample=0.6 will be ignored. Current value: bagging_fraction=0.6545985717279295\n",
      "[LightGBM] [Warning] bagging_freq is set=8, subsample_freq=0 will be ignored. Current value: bagging_freq=8\n",
      "Training until validation scores don't improve for 100 rounds\n",
      "[100]\ttraining's l1: 3.17557\tvalid_1's l1: 2.83183\n"
     ]
    },
    {
     "name": "stderr",
     "output_type": "stream",
     "text": [
      "\u001b[32m[I 2021-07-19 21:59:02,812]\u001b[0m Trial 27 finished with value: -2.8276934636561317 and parameters: {'max_depth': 3, 'min_child_weight': 19, 'subsample': 0.6, 'colsample_bytree': 0.9, 'reg_lambda': 0.0049002097920389405, 'reg_alpha': 31.176994589268464, 'feature_fraction': 0.5692897730122837, 'bagging_fraction': 0.6545985717279295, 'bagging_freq': 8, 'num_leaves': 81, 'min_child_samples': 32}. Best is trial 6 with value: -2.804190068837983.\u001b[0m\n"
     ]
    },
    {
     "name": "stdout",
     "output_type": "stream",
     "text": [
      "Early stopping, best iteration is:\n",
      "[72]\ttraining's l1: 3.21369\tvalid_1's l1: 2.82769\n",
      "[LightGBM] [Warning] feature_fraction is set=0.6881277423087186, colsample_bytree=0.8 will be ignored. Current value: feature_fraction=0.6881277423087186\n",
      "[LightGBM] [Warning] bagging_fraction is set=0.794955108208095, subsample=0.7 will be ignored. Current value: bagging_fraction=0.794955108208095\n",
      "[LightGBM] [Warning] bagging_freq is set=12, subsample_freq=0 will be ignored. Current value: bagging_freq=12\n",
      "Training until validation scores don't improve for 100 rounds\n",
      "[100]\ttraining's l1: 3.08374\tvalid_1's l1: 2.82136\n"
     ]
    },
    {
     "name": "stderr",
     "output_type": "stream",
     "text": [
      "\u001b[32m[I 2021-07-19 21:59:04,183]\u001b[0m Trial 28 finished with value: -2.8071066028855136 and parameters: {'max_depth': 4, 'min_child_weight': 14, 'subsample': 0.7, 'colsample_bytree': 0.8, 'reg_lambda': 0.220695310628301, 'reg_alpha': 0.1268307141694563, 'feature_fraction': 0.6881277423087186, 'bagging_fraction': 0.794955108208095, 'bagging_freq': 12, 'num_leaves': 175, 'min_child_samples': 10}. Best is trial 6 with value: -2.804190068837983.\u001b[0m\n"
     ]
    },
    {
     "name": "stdout",
     "output_type": "stream",
     "text": [
      "Early stopping, best iteration is:\n",
      "[51]\ttraining's l1: 3.17295\tvalid_1's l1: 2.80711\n",
      "[LightGBM] [Warning] feature_fraction is set=0.4735189774751377, colsample_bytree=0.7 will be ignored. Current value: feature_fraction=0.4735189774751377\n",
      "[LightGBM] [Warning] bagging_fraction is set=0.9352118647723384, subsample=0.7 will be ignored. Current value: bagging_fraction=0.9352118647723384\n",
      "[LightGBM] [Warning] bagging_freq is set=14, subsample_freq=0 will be ignored. Current value: bagging_freq=14\n",
      "Training until validation scores don't improve for 100 rounds\n",
      "[100]\ttraining's l1: 3.25446\tvalid_1's l1: 2.83785\n",
      "[200]\ttraining's l1: 3.19293\tvalid_1's l1: 2.83484\n"
     ]
    },
    {
     "name": "stderr",
     "output_type": "stream",
     "text": [
      "\u001b[32m[I 2021-07-19 21:59:06,435]\u001b[0m Trial 29 finished with value: -2.8311530109222045 and parameters: {'max_depth': 2, 'min_child_weight': 10, 'subsample': 0.7, 'colsample_bytree': 0.7, 'reg_lambda': 0.987843279209354, 'reg_alpha': 0.14465513399747043, 'feature_fraction': 0.4735189774751377, 'bagging_fraction': 0.9352118647723384, 'bagging_freq': 14, 'num_leaves': 207, 'min_child_samples': 63}. Best is trial 6 with value: -2.804190068837983.\u001b[0m\n"
     ]
    },
    {
     "name": "stdout",
     "output_type": "stream",
     "text": [
      "Early stopping, best iteration is:\n",
      "[134]\ttraining's l1: 3.22638\tvalid_1's l1: 2.83115\n",
      "[LightGBM] [Warning] feature_fraction is set=0.6715221412727176, colsample_bytree=0.9 will be ignored. Current value: feature_fraction=0.6715221412727176\n",
      "[LightGBM] [Warning] bagging_fraction is set=0.7926595424659113, subsample=0.8 will be ignored. Current value: bagging_fraction=0.7926595424659113\n",
      "[LightGBM] [Warning] bagging_freq is set=12, subsample_freq=0 will be ignored. Current value: bagging_freq=12\n",
      "Training until validation scores don't improve for 100 rounds\n"
     ]
    },
    {
     "name": "stderr",
     "output_type": "stream",
     "text": [
      "\u001b[32m[I 2021-07-19 21:59:08,241]\u001b[0m Trial 30 finished with value: -2.8401075857413955 and parameters: {'max_depth': 8, 'min_child_weight': 11, 'subsample': 0.8, 'colsample_bytree': 0.9, 'reg_lambda': 0.24158889569782396, 'reg_alpha': 0.034307087045260184, 'feature_fraction': 0.6715221412727176, 'bagging_fraction': 0.7926595424659113, 'bagging_freq': 12, 'num_leaves': 113, 'min_child_samples': 12}. Best is trial 6 with value: -2.804190068837983.\u001b[0m\n"
     ]
    },
    {
     "name": "stdout",
     "output_type": "stream",
     "text": [
      "[100]\ttraining's l1: 2.86016\tvalid_1's l1: 2.88828\n",
      "Early stopping, best iteration is:\n",
      "[19]\ttraining's l1: 3.1491\tvalid_1's l1: 2.84011\n",
      "[LightGBM] [Warning] feature_fraction is set=0.7193703946141881, colsample_bytree=0.8 will be ignored. Current value: feature_fraction=0.7193703946141881\n",
      "[LightGBM] [Warning] bagging_fraction is set=0.7141235972114619, subsample=0.7 will be ignored. Current value: bagging_fraction=0.7141235972114619\n",
      "[LightGBM] [Warning] bagging_freq is set=20, subsample_freq=0 will be ignored. Current value: bagging_freq=20\n",
      "Training until validation scores don't improve for 100 rounds\n",
      "[100]\ttraining's l1: 3.09241\tvalid_1's l1: 2.84365\n",
      "Early stopping, best iteration is:\n",
      "[39]\ttraining's l1: 3.21433\tvalid_1's l1: 2.82324\n"
     ]
    },
    {
     "name": "stderr",
     "output_type": "stream",
     "text": [
      "\u001b[32m[I 2021-07-19 21:59:09,478]\u001b[0m Trial 31 finished with value: -2.8232392945357927 and parameters: {'max_depth': 4, 'min_child_weight': 14, 'subsample': 0.7, 'colsample_bytree': 0.8, 'reg_lambda': 0.06046164320652057, 'reg_alpha': 0.5663565760973251, 'feature_fraction': 0.7193703946141881, 'bagging_fraction': 0.7141235972114619, 'bagging_freq': 20, 'num_leaves': 333, 'min_child_samples': 20}. Best is trial 6 with value: -2.804190068837983.\u001b[0m\n"
     ]
    },
    {
     "name": "stdout",
     "output_type": "stream",
     "text": [
      "[LightGBM] [Warning] feature_fraction is set=0.7916257322196388, colsample_bytree=0.6 will be ignored. Current value: feature_fraction=0.7916257322196388\n",
      "[LightGBM] [Warning] bagging_fraction is set=0.7943578258057273, subsample=0.9 will be ignored. Current value: bagging_fraction=0.7943578258057273\n",
      "[LightGBM] [Warning] bagging_freq is set=16, subsample_freq=0 will be ignored. Current value: bagging_freq=16\n",
      "Training until validation scores don't improve for 100 rounds\n",
      "[100]\ttraining's l1: 3.08205\tvalid_1's l1: 2.82529\n"
     ]
    },
    {
     "name": "stderr",
     "output_type": "stream",
     "text": [
      "\u001b[32m[I 2021-07-19 21:59:10,900]\u001b[0m Trial 32 finished with value: -2.807959360768396 and parameters: {'max_depth': 4, 'min_child_weight': 16, 'subsample': 0.9, 'colsample_bytree': 0.6, 'reg_lambda': 0.027810983432419195, 'reg_alpha': 0.995650222755186, 'feature_fraction': 0.7916257322196388, 'bagging_fraction': 0.7943578258057273, 'bagging_freq': 16, 'num_leaves': 458, 'min_child_samples': 8}. Best is trial 6 with value: -2.804190068837983.\u001b[0m\n"
     ]
    },
    {
     "name": "stdout",
     "output_type": "stream",
     "text": [
      "Early stopping, best iteration is:\n",
      "[61]\ttraining's l1: 3.14367\tvalid_1's l1: 2.80796\n",
      "[LightGBM] [Warning] feature_fraction is set=0.7869582289537437, colsample_bytree=0.6 will be ignored. Current value: feature_fraction=0.7869582289537437\n",
      "[LightGBM] [Warning] bagging_fraction is set=0.8082518198491666, subsample=0.9 will be ignored. Current value: bagging_fraction=0.8082518198491666\n",
      "[LightGBM] [Warning] bagging_freq is set=17, subsample_freq=0 will be ignored. Current value: bagging_freq=17\n",
      "Training until validation scores don't improve for 100 rounds\n",
      "[100]\ttraining's l1: 2.95117\tvalid_1's l1: 2.87924\n",
      "Early stopping, best iteration is:\n",
      "[28]\ttraining's l1: 3.11926\tvalid_1's l1: 2.83798\n"
     ]
    },
    {
     "name": "stderr",
     "output_type": "stream",
     "text": [
      "\u001b[32m[I 2021-07-19 21:59:12,446]\u001b[0m Trial 33 finished with value: -2.837976384736224 and parameters: {'max_depth': 6, 'min_child_weight': 14, 'subsample': 0.9, 'colsample_bytree': 0.6, 'reg_lambda': 0.15433191114071607, 'reg_alpha': 0.8539014194529614, 'feature_fraction': 0.7869582289537437, 'bagging_fraction': 0.8082518198491666, 'bagging_freq': 17, 'num_leaves': 458, 'min_child_samples': 5}. Best is trial 6 with value: -2.804190068837983.\u001b[0m\n"
     ]
    },
    {
     "name": "stdout",
     "output_type": "stream",
     "text": [
      "[LightGBM] [Warning] feature_fraction is set=0.581582276059046, colsample_bytree=0.6 will be ignored. Current value: feature_fraction=0.581582276059046\n",
      "[LightGBM] [Warning] bagging_fraction is set=0.9397270286793138, subsample=0.8 will be ignored. Current value: bagging_fraction=0.9397270286793138\n",
      "[LightGBM] [Warning] bagging_freq is set=16, subsample_freq=0 will be ignored. Current value: bagging_freq=16\n",
      "Training until validation scores don't improve for 100 rounds\n",
      "[100]\ttraining's l1: 3.26159\tvalid_1's l1: 2.84044\n",
      "[200]\ttraining's l1: 3.19393\tvalid_1's l1: 2.84126\n"
     ]
    },
    {
     "name": "stderr",
     "output_type": "stream",
     "text": [
      "\u001b[32m[I 2021-07-19 21:59:15,064]\u001b[0m Trial 34 finished with value: -2.8357041401525716 and parameters: {'max_depth': 2, 'min_child_weight': 16, 'subsample': 0.8, 'colsample_bytree': 0.6, 'reg_lambda': 0.0010081819800019866, 'reg_alpha': 0.17953890206279366, 'feature_fraction': 0.581582276059046, 'bagging_fraction': 0.9397270286793138, 'bagging_freq': 16, 'num_leaves': 636, 'min_child_samples': 10}. Best is trial 6 with value: -2.804190068837983.\u001b[0m\n"
     ]
    },
    {
     "name": "stdout",
     "output_type": "stream",
     "text": [
      "Early stopping, best iteration is:\n",
      "[148]\ttraining's l1: 3.21909\tvalid_1's l1: 2.8357\n",
      "[LightGBM] [Warning] feature_fraction is set=0.6451702814987348, colsample_bytree=0.5 will be ignored. Current value: feature_fraction=0.6451702814987348\n",
      "[LightGBM] [Warning] bagging_fraction is set=0.9989204207004627, subsample=0.7 will be ignored. Current value: bagging_fraction=0.9989204207004627\n",
      "[LightGBM] [Warning] bagging_freq is set=19, subsample_freq=0 will be ignored. Current value: bagging_freq=19\n",
      "Training until validation scores don't improve for 100 rounds\n",
      "[100]\ttraining's l1: 2.96703\tvalid_1's l1: 2.84539\n"
     ]
    },
    {
     "name": "stderr",
     "output_type": "stream",
     "text": [
      "\u001b[32m[I 2021-07-19 21:59:16,649]\u001b[0m Trial 35 finished with value: -2.816099977428526 and parameters: {'max_depth': 6, 'min_child_weight': 12, 'subsample': 0.7, 'colsample_bytree': 0.5, 'reg_lambda': 0.5168366104178815, 'reg_alpha': 0.006389281873449696, 'feature_fraction': 0.6451702814987348, 'bagging_fraction': 0.9989204207004627, 'bagging_freq': 19, 'num_leaves': 562, 'min_child_samples': 85}. Best is trial 6 with value: -2.804190068837983.\u001b[0m\n"
     ]
    },
    {
     "name": "stdout",
     "output_type": "stream",
     "text": [
      "Early stopping, best iteration is:\n",
      "[28]\ttraining's l1: 3.12206\tvalid_1's l1: 2.8161\n",
      "[LightGBM] [Warning] feature_fraction is set=0.7669293162106121, colsample_bytree=0.6 will be ignored. Current value: feature_fraction=0.7669293162106121\n",
      "[LightGBM] [Warning] bagging_fraction is set=0.7384730474816006, subsample=0.9 will be ignored. Current value: bagging_fraction=0.7384730474816006\n",
      "[LightGBM] [Warning] bagging_freq is set=13, subsample_freq=0 will be ignored. Current value: bagging_freq=13\n",
      "Training until validation scores don't improve for 100 rounds\n",
      "[100]\ttraining's l1: 2.67243\tvalid_1's l1: 3.01326\n"
     ]
    },
    {
     "name": "stderr",
     "output_type": "stream",
     "text": [
      "\u001b[32m[I 2021-07-19 21:59:19,884]\u001b[0m Trial 36 finished with value: -2.8904091466832624 and parameters: {'max_depth': 13, 'min_child_weight': 15, 'subsample': 0.9, 'colsample_bytree': 0.6, 'reg_lambda': 2.604257865789168, 'reg_alpha': 2.0057465812537165, 'feature_fraction': 0.7669293162106121, 'bagging_fraction': 0.7384730474816006, 'bagging_freq': 13, 'num_leaves': 711, 'min_child_samples': 60}. Best is trial 6 with value: -2.804190068837983.\u001b[0m\n"
     ]
    },
    {
     "name": "stdout",
     "output_type": "stream",
     "text": [
      "Early stopping, best iteration is:\n",
      "[16]\ttraining's l1: 3.03435\tvalid_1's l1: 2.89041\n",
      "[LightGBM] [Warning] feature_fraction is set=0.7075210083865603, colsample_bytree=0.7 will be ignored. Current value: feature_fraction=0.7075210083865603\n",
      "[LightGBM] [Warning] bagging_fraction is set=0.8848278271268191, subsample=0.7 will be ignored. Current value: bagging_fraction=0.8848278271268191\n",
      "[LightGBM] [Warning] bagging_freq is set=18, subsample_freq=0 will be ignored. Current value: bagging_freq=18\n",
      "Training until validation scores don't improve for 100 rounds\n",
      "[100]\ttraining's l1: 3.16262\tvalid_1's l1: 2.80681\n"
     ]
    },
    {
     "name": "stderr",
     "output_type": "stream",
     "text": [
      "\u001b[32m[I 2021-07-19 21:59:21,285]\u001b[0m Trial 37 finished with value: -2.801891963943745 and parameters: {'max_depth': 3, 'min_child_weight': 8, 'subsample': 0.7, 'colsample_bytree': 0.7, 'reg_lambda': 0.0033406606548939477, 'reg_alpha': 0.7250284845487361, 'feature_fraction': 0.7075210083865603, 'bagging_fraction': 0.8848278271268191, 'bagging_freq': 18, 'num_leaves': 242, 'min_child_samples': 41}. Best is trial 37 with value: -2.801891963943745.\u001b[0m\n"
     ]
    },
    {
     "name": "stdout",
     "output_type": "stream",
     "text": [
      "Early stopping, best iteration is:\n",
      "[67]\ttraining's l1: 3.2102\tvalid_1's l1: 2.80189\n",
      "[LightGBM] [Warning] feature_fraction is set=0.8189521411343919, colsample_bytree=0.7 will be ignored. Current value: feature_fraction=0.8189521411343919\n",
      "[LightGBM] [Warning] bagging_fraction is set=0.8694877571405848, subsample=0.8 will be ignored. Current value: bagging_fraction=0.8694877571405848\n",
      "[LightGBM] [Warning] bagging_freq is set=18, subsample_freq=0 will be ignored. Current value: bagging_freq=18\n",
      "Training until validation scores don't improve for 100 rounds\n",
      "[100]\ttraining's l1: 3.1652\tvalid_1's l1: 2.82754\n"
     ]
    },
    {
     "name": "stderr",
     "output_type": "stream",
     "text": [
      "\u001b[32m[I 2021-07-19 21:59:22,709]\u001b[0m Trial 38 finished with value: -2.8208520212154933 and parameters: {'max_depth': 3, 'min_child_weight': 8, 'subsample': 0.8, 'colsample_bytree': 0.7, 'reg_lambda': 0.0028824199169907613, 'reg_alpha': 0.042589568552159264, 'feature_fraction': 0.8189521411343919, 'bagging_fraction': 0.8694877571405848, 'bagging_freq': 18, 'num_leaves': 16, 'min_child_samples': 42}. Best is trial 37 with value: -2.801891963943745.\u001b[0m\n"
     ]
    },
    {
     "name": "stdout",
     "output_type": "stream",
     "text": [
      "Early stopping, best iteration is:\n",
      "[65]\ttraining's l1: 3.2223\tvalid_1's l1: 2.82085\n",
      "[LightGBM] [Warning] feature_fraction is set=0.719060614690342, colsample_bytree=0.7 will be ignored. Current value: feature_fraction=0.719060614690342\n",
      "[LightGBM] [Warning] bagging_fraction is set=0.9777081620010071, subsample=0.7 will be ignored. Current value: bagging_fraction=0.9777081620010071\n",
      "[LightGBM] [Warning] bagging_freq is set=15, subsample_freq=0 will be ignored. Current value: bagging_freq=15\n",
      "Training until validation scores don't improve for 100 rounds\n",
      "[100]\ttraining's l1: 3.38387\tvalid_1's l1: 2.83058\n",
      "[200]\ttraining's l1: 3.32028\tvalid_1's l1: 2.81269\n",
      "[300]\ttraining's l1: 3.29016\tvalid_1's l1: 2.81124\n",
      "Early stopping, best iteration is:\n",
      "[242]\ttraining's l1: 3.30438\tvalid_1's l1: 2.80856\n"
     ]
    },
    {
     "name": "stderr",
     "output_type": "stream",
     "text": [
      "\u001b[32m[I 2021-07-19 21:59:24,827]\u001b[0m Trial 39 finished with value: -2.808563329776554 and parameters: {'max_depth': 1, 'min_child_weight': 12, 'subsample': 0.7, 'colsample_bytree': 0.7, 'reg_lambda': 0.01265505918882159, 'reg_alpha': 0.7718615053199411, 'feature_fraction': 0.719060614690342, 'bagging_fraction': 0.9777081620010071, 'bagging_freq': 15, 'num_leaves': 798, 'min_child_samples': 100}. Best is trial 37 with value: -2.801891963943745.\u001b[0m\n"
     ]
    },
    {
     "name": "stdout",
     "output_type": "stream",
     "text": [
      "[LightGBM] [Warning] feature_fraction is set=0.6210456407981537, colsample_bytree=0.6 will be ignored. Current value: feature_fraction=0.6210456407981537\n",
      "[LightGBM] [Warning] bagging_fraction is set=0.9647612576162007, subsample=0.7 will be ignored. Current value: bagging_fraction=0.9647612576162007\n",
      "[LightGBM] [Warning] bagging_freq is set=16, subsample_freq=0 will be ignored. Current value: bagging_freq=16\n",
      "Training until validation scores don't improve for 100 rounds\n",
      "[100]\ttraining's l1: 3.08913\tvalid_1's l1: 2.83353\n"
     ]
    },
    {
     "name": "stderr",
     "output_type": "stream",
     "text": [
      "\u001b[32m[I 2021-07-19 21:59:26,581]\u001b[0m Trial 40 finished with value: -2.8156758512633746 and parameters: {'max_depth': 4, 'min_child_weight': 16, 'subsample': 0.7, 'colsample_bytree': 0.6, 'reg_lambda': 0.001039372832063607, 'reg_alpha': 19.945145944818687, 'feature_fraction': 0.6210456407981537, 'bagging_fraction': 0.9647612576162007, 'bagging_freq': 16, 'num_leaves': 249, 'min_child_samples': 9}. Best is trial 37 with value: -2.801891963943745.\u001b[0m\n"
     ]
    },
    {
     "name": "stdout",
     "output_type": "stream",
     "text": [
      "Early stopping, best iteration is:\n",
      "[54]\ttraining's l1: 3.16459\tvalid_1's l1: 2.81568\n",
      "[LightGBM] [Warning] feature_fraction is set=0.7184920564348131, colsample_bytree=0.7 will be ignored. Current value: feature_fraction=0.7184920564348131\n",
      "[LightGBM] [Warning] bagging_fraction is set=0.8939738708919247, subsample=0.7 will be ignored. Current value: bagging_fraction=0.8939738708919247\n",
      "[LightGBM] [Warning] bagging_freq is set=14, subsample_freq=0 will be ignored. Current value: bagging_freq=14\n",
      "Training until validation scores don't improve for 100 rounds\n",
      "[100]\ttraining's l1: 3.38852\tvalid_1's l1: 2.83734\n",
      "[200]\ttraining's l1: 3.32548\tvalid_1's l1: 2.82153\n",
      "[300]\ttraining's l1: 3.29141\tvalid_1's l1: 2.81645\n"
     ]
    },
    {
     "name": "stderr",
     "output_type": "stream",
     "text": [
      "\u001b[32m[I 2021-07-19 21:59:28,989]\u001b[0m Trial 41 finished with value: -2.815080476531944 and parameters: {'max_depth': 1, 'min_child_weight': 12, 'subsample': 0.7, 'colsample_bytree': 0.7, 'reg_lambda': 0.009861849037650434, 'reg_alpha': 3.586852994345336, 'feature_fraction': 0.7184920564348131, 'bagging_fraction': 0.8939738708919247, 'bagging_freq': 14, 'num_leaves': 876, 'min_child_samples': 17}. Best is trial 37 with value: -2.801891963943745.\u001b[0m\n"
     ]
    },
    {
     "name": "stdout",
     "output_type": "stream",
     "text": [
      "[400]\ttraining's l1: 3.27452\tvalid_1's l1: 2.81999\n",
      "Early stopping, best iteration is:\n",
      "[337]\ttraining's l1: 3.2831\tvalid_1's l1: 2.81508\n",
      "[LightGBM] [Warning] feature_fraction is set=0.7361134562906592, colsample_bytree=0.7 will be ignored. Current value: feature_fraction=0.7361134562906592\n",
      "[LightGBM] [Warning] bagging_fraction is set=0.9851258650180118, subsample=0.7 will be ignored. Current value: bagging_fraction=0.9851258650180118\n",
      "[LightGBM] [Warning] bagging_freq is set=15, subsample_freq=0 will be ignored. Current value: bagging_freq=15\n",
      "Training until validation scores don't improve for 100 rounds\n",
      "[100]\ttraining's l1: 3.2569\tvalid_1's l1: 2.8305\n"
     ]
    },
    {
     "name": "stderr",
     "output_type": "stream",
     "text": [
      "\u001b[32m[I 2021-07-19 21:59:30,616]\u001b[0m Trial 42 finished with value: -2.826715397981985 and parameters: {'max_depth': 2, 'min_child_weight': 10, 'subsample': 0.7, 'colsample_bytree': 0.7, 'reg_lambda': 0.014924026191497587, 'reg_alpha': 0.7429527598218278, 'feature_fraction': 0.7361134562906592, 'bagging_fraction': 0.9851258650180118, 'bagging_freq': 15, 'num_leaves': 780, 'min_child_samples': 98}. Best is trial 37 with value: -2.801891963943745.\u001b[0m\n"
     ]
    },
    {
     "name": "stdout",
     "output_type": "stream",
     "text": [
      "[200]\ttraining's l1: 3.19057\tvalid_1's l1: 2.83407\n",
      "Early stopping, best iteration is:\n",
      "[114]\ttraining's l1: 3.24244\tvalid_1's l1: 2.82672\n",
      "[LightGBM] [Warning] feature_fraction is set=0.6839321445831141, colsample_bytree=0.5 will be ignored. Current value: feature_fraction=0.6839321445831141\n",
      "[LightGBM] [Warning] bagging_fraction is set=0.8412162112108682, subsample=0.8 will be ignored. Current value: bagging_fraction=0.8412162112108682\n",
      "[LightGBM] [Warning] bagging_freq is set=12, subsample_freq=0 will be ignored. Current value: bagging_freq=12\n",
      "Training until validation scores don't improve for 100 rounds\n",
      "[100]\ttraining's l1: 3.16622\tvalid_1's l1: 2.81955\n"
     ]
    },
    {
     "name": "stderr",
     "output_type": "stream",
     "text": [
      "\u001b[32m[I 2021-07-19 21:59:31,992]\u001b[0m Trial 43 finished with value: -2.8107372929265977 and parameters: {'max_depth': 3, 'min_child_weight': 14, 'subsample': 0.8, 'colsample_bytree': 0.5, 'reg_lambda': 0.002933712593228302, 'reg_alpha': 0.9733126550302332, 'feature_fraction': 0.6839321445831141, 'bagging_fraction': 0.8412162112108682, 'bagging_freq': 12, 'num_leaves': 163, 'min_child_samples': 29}. Best is trial 37 with value: -2.801891963943745.\u001b[0m\n"
     ]
    },
    {
     "name": "stdout",
     "output_type": "stream",
     "text": [
      "Early stopping, best iteration is:\n",
      "[65]\ttraining's l1: 3.2129\tvalid_1's l1: 2.81074\n",
      "[LightGBM] [Warning] feature_fraction is set=0.7618488799338137, colsample_bytree=0.7 will be ignored. Current value: feature_fraction=0.7618488799338137\n",
      "[LightGBM] [Warning] bagging_fraction is set=0.7908409901216464, subsample=0.7 will be ignored. Current value: bagging_fraction=0.7908409901216464\n",
      "[LightGBM] [Warning] bagging_freq is set=17, subsample_freq=0 will be ignored. Current value: bagging_freq=17\n",
      "Training until validation scores don't improve for 100 rounds\n",
      "[100]\ttraining's l1: 3.38962\tvalid_1's l1: 2.83678\n",
      "[200]\ttraining's l1: 3.32273\tvalid_1's l1: 2.81923\n",
      "[300]\ttraining's l1: 3.28929\tvalid_1's l1: 2.81451\n"
     ]
    },
    {
     "name": "stderr",
     "output_type": "stream",
     "text": [
      "\u001b[32m[I 2021-07-19 21:59:33,942]\u001b[0m Trial 44 finished with value: -2.81234820178482 and parameters: {'max_depth': 1, 'min_child_weight': 11, 'subsample': 0.7, 'colsample_bytree': 0.7, 'reg_lambda': 0.04311967820298092, 'reg_alpha': 0.19935689578500532, 'feature_fraction': 0.7618488799338137, 'bagging_fraction': 0.7908409901216464, 'bagging_freq': 17, 'num_leaves': 972, 'min_child_samples': 55}. Best is trial 37 with value: -2.801891963943745.\u001b[0m\n"
     ]
    },
    {
     "name": "stdout",
     "output_type": "stream",
     "text": [
      "Early stopping, best iteration is:\n",
      "[266]\ttraining's l1: 3.29816\tvalid_1's l1: 2.81235\n",
      "[LightGBM] [Warning] feature_fraction is set=0.918709144447704, colsample_bytree=0.6 will be ignored. Current value: feature_fraction=0.918709144447704\n",
      "[LightGBM] [Warning] bagging_fraction is set=0.8884802086340969, subsample=0.9 will be ignored. Current value: bagging_fraction=0.8884802086340969\n",
      "[LightGBM] [Warning] bagging_freq is set=15, subsample_freq=0 will be ignored. Current value: bagging_freq=15\n",
      "Training until validation scores don't improve for 100 rounds\n",
      "[100]\ttraining's l1: 3.08085\tvalid_1's l1: 2.83538\n"
     ]
    },
    {
     "name": "stderr",
     "output_type": "stream",
     "text": [
      "\u001b[32m[I 2021-07-19 21:59:35,358]\u001b[0m Trial 45 finished with value: -2.820695780564875 and parameters: {'max_depth': 4, 'min_child_weight': 9, 'subsample': 0.9, 'colsample_bytree': 0.6, 'reg_lambda': 0.01589548220570449, 'reg_alpha': 1.4742264783078525, 'feature_fraction': 0.918709144447704, 'bagging_fraction': 0.8884802086340969, 'bagging_freq': 15, 'num_leaves': 809, 'min_child_samples': 80}. Best is trial 37 with value: -2.801891963943745.\u001b[0m\n"
     ]
    },
    {
     "name": "stdout",
     "output_type": "stream",
     "text": [
      "Early stopping, best iteration is:\n",
      "[38]\ttraining's l1: 3.20709\tvalid_1's l1: 2.8207\n",
      "[LightGBM] [Warning] feature_fraction is set=0.8273242547513433, colsample_bytree=0.7 will be ignored. Current value: feature_fraction=0.8273242547513433\n",
      "[LightGBM] [Warning] bagging_fraction is set=0.9646934313054041, subsample=0.7 will be ignored. Current value: bagging_fraction=0.9646934313054041\n",
      "[LightGBM] [Warning] bagging_freq is set=18, subsample_freq=0 will be ignored. Current value: bagging_freq=18\n",
      "Training until validation scores don't improve for 100 rounds\n",
      "[100]\ttraining's l1: 3.02072\tvalid_1's l1: 2.8333\n"
     ]
    },
    {
     "name": "stderr",
     "output_type": "stream",
     "text": [
      "\u001b[32m[I 2021-07-19 21:59:36,942]\u001b[0m Trial 46 finished with value: -2.810770255483804 and parameters: {'max_depth': 5, 'min_child_weight': 13, 'subsample': 0.7, 'colsample_bytree': 0.7, 'reg_lambda': 0.0017366497499775395, 'reg_alpha': 0.5105959764051752, 'feature_fraction': 0.8273242547513433, 'bagging_fraction': 0.9646934313054041, 'bagging_freq': 18, 'num_leaves': 622, 'min_child_samples': 38}. Best is trial 37 with value: -2.801891963943745.\u001b[0m\n"
     ]
    },
    {
     "name": "stdout",
     "output_type": "stream",
     "text": [
      "Early stopping, best iteration is:\n",
      "[38]\ttraining's l1: 3.1376\tvalid_1's l1: 2.81077\n",
      "[LightGBM] [Warning] feature_fraction is set=0.6919391208295361, colsample_bytree=0.7 will be ignored. Current value: feature_fraction=0.6919391208295361\n",
      "[LightGBM] [Warning] bagging_fraction is set=0.8305140112653706, subsample=0.7 will be ignored. Current value: bagging_fraction=0.8305140112653706\n",
      "[LightGBM] [Warning] bagging_freq is set=13, subsample_freq=0 will be ignored. Current value: bagging_freq=13\n",
      "Training until validation scores don't improve for 100 rounds\n",
      "[100]\ttraining's l1: 3.25716\tvalid_1's l1: 2.84464\n"
     ]
    },
    {
     "name": "stderr",
     "output_type": "stream",
     "text": [
      "\u001b[32m[I 2021-07-19 21:59:38,478]\u001b[0m Trial 47 finished with value: -2.839302906569722 and parameters: {'max_depth': 2, 'min_child_weight': 8, 'subsample': 0.7, 'colsample_bytree': 0.7, 'reg_lambda': 0.004007617781373655, 'reg_alpha': 0.10269875703323053, 'feature_fraction': 0.6919391208295361, 'bagging_fraction': 0.8305140112653706, 'bagging_freq': 13, 'num_leaves': 705, 'min_child_samples': 5}. Best is trial 37 with value: -2.801891963943745.\u001b[0m\n"
     ]
    },
    {
     "name": "stdout",
     "output_type": "stream",
     "text": [
      "[200]\ttraining's l1: 3.19257\tvalid_1's l1: 2.84595\n",
      "Early stopping, best iteration is:\n",
      "[123]\ttraining's l1: 3.23485\tvalid_1's l1: 2.8393\n",
      "[LightGBM] [Warning] feature_fraction is set=0.7876537048315301, colsample_bytree=0.6 will be ignored. Current value: feature_fraction=0.7876537048315301\n",
      "[LightGBM] [Warning] bagging_fraction is set=0.7460295780320476, subsample=0.8 will be ignored. Current value: bagging_fraction=0.7460295780320476\n",
      "[LightGBM] [Warning] bagging_freq is set=11, subsample_freq=0 will be ignored. Current value: bagging_freq=11\n",
      "Training until validation scores don't improve for 100 rounds\n"
     ]
    },
    {
     "name": "stderr",
     "output_type": "stream",
     "text": [
      "\u001b[32m[I 2021-07-19 21:59:40,054]\u001b[0m Trial 48 finished with value: -2.8504556198896127 and parameters: {'max_depth': 7, 'min_child_weight': 12, 'subsample': 0.8, 'colsample_bytree': 0.6, 'reg_lambda': 0.12767680913599191, 'reg_alpha': 0.2763030364034212, 'feature_fraction': 0.7876537048315301, 'bagging_fraction': 0.7460295780320476, 'bagging_freq': 11, 'num_leaves': 345, 'min_child_samples': 100}. Best is trial 37 with value: -2.801891963943745.\u001b[0m\n"
     ]
    },
    {
     "name": "stdout",
     "output_type": "stream",
     "text": [
      "[100]\ttraining's l1: 2.92819\tvalid_1's l1: 2.9034\n",
      "Early stopping, best iteration is:\n",
      "[19]\ttraining's l1: 3.1636\tvalid_1's l1: 2.85046\n",
      "[LightGBM] [Warning] feature_fraction is set=0.5338349256099312, colsample_bytree=0.7 will be ignored. Current value: feature_fraction=0.5338349256099312\n",
      "[LightGBM] [Warning] bagging_fraction is set=0.8592123017345881, subsample=0.7 will be ignored. Current value: bagging_fraction=0.8592123017345881\n",
      "[LightGBM] [Warning] bagging_freq is set=14, subsample_freq=0 will be ignored. Current value: bagging_freq=14\n",
      "Training until validation scores don't improve for 100 rounds\n",
      "[100]\ttraining's l1: 3.171\tvalid_1's l1: 2.82762\n"
     ]
    },
    {
     "name": "stderr",
     "output_type": "stream",
     "text": [
      "\u001b[32m[I 2021-07-19 21:59:42,062]\u001b[0m Trial 49 finished with value: -2.8239172337717457 and parameters: {'max_depth': 3, 'min_child_weight': 17, 'subsample': 0.7, 'colsample_bytree': 0.7, 'reg_lambda': 0.034628414803909366, 'reg_alpha': 16.391947581793914, 'feature_fraction': 0.5338349256099312, 'bagging_fraction': 0.8592123017345881, 'bagging_freq': 14, 'num_leaves': 904, 'min_child_samples': 19}. Best is trial 37 with value: -2.801891963943745.\u001b[0m\n"
     ]
    },
    {
     "name": "stdout",
     "output_type": "stream",
     "text": [
      "Early stopping, best iteration is:\n",
      "[91]\ttraining's l1: 3.18276\tvalid_1's l1: 2.82392\n",
      "[LightGBM] [Warning] feature_fraction is set=0.8400658635119825, colsample_bytree=0.6 will be ignored. Current value: feature_fraction=0.8400658635119825\n",
      "[LightGBM] [Warning] bagging_fraction is set=0.9194331209771239, subsample=0.9 will be ignored. Current value: bagging_fraction=0.9194331209771239\n",
      "[LightGBM] [Warning] bagging_freq is set=16, subsample_freq=0 will be ignored. Current value: bagging_freq=16\n",
      "Training until validation scores don't improve for 100 rounds\n",
      "[100]\ttraining's l1: 2.96685\tvalid_1's l1: 2.88012\n"
     ]
    },
    {
     "name": "stderr",
     "output_type": "stream",
     "text": [
      "\u001b[32m[I 2021-07-19 21:59:43,710]\u001b[0m Trial 50 finished with value: -2.8312517201719887 and parameters: {'max_depth': 6, 'min_child_weight': 5, 'subsample': 0.9, 'colsample_bytree': 0.6, 'reg_lambda': 0.0015636044934721118, 'reg_alpha': 0.06375474299967784, 'feature_fraction': 0.8400658635119825, 'bagging_fraction': 0.9194331209771239, 'bagging_freq': 16, 'num_leaves': 468, 'min_child_samples': 67}. Best is trial 37 with value: -2.801891963943745.\u001b[0m\n"
     ]
    },
    {
     "name": "stdout",
     "output_type": "stream",
     "text": [
      "Early stopping, best iteration is:\n",
      "[32]\ttraining's l1: 3.09371\tvalid_1's l1: 2.83125\n",
      "[LightGBM] [Warning] feature_fraction is set=0.6066204883035459, colsample_bytree=0.8 will be ignored. Current value: feature_fraction=0.6066204883035459\n",
      "[LightGBM] [Warning] bagging_fraction is set=0.7168248554761815, subsample=0.6 will be ignored. Current value: bagging_fraction=0.7168248554761815\n",
      "[LightGBM] [Warning] bagging_freq is set=19, subsample_freq=0 will be ignored. Current value: bagging_freq=19\n",
      "Training until validation scores don't improve for 100 rounds\n",
      "[100]\ttraining's l1: 3.0287\tvalid_1's l1: 2.83697\n"
     ]
    },
    {
     "name": "stderr",
     "output_type": "stream",
     "text": [
      "\u001b[32m[I 2021-07-19 21:59:45,314]\u001b[0m Trial 51 finished with value: -2.8103153584862626 and parameters: {'max_depth': 5, 'min_child_weight': 6, 'subsample': 0.6, 'colsample_bytree': 0.8, 'reg_lambda': 0.5739207119970979, 'reg_alpha': 0.12774768686779572, 'feature_fraction': 0.6066204883035459, 'bagging_fraction': 0.7168248554761815, 'bagging_freq': 19, 'num_leaves': 200, 'min_child_samples': 47}. Best is trial 37 with value: -2.801891963943745.\u001b[0m\n"
     ]
    },
    {
     "name": "stdout",
     "output_type": "stream",
     "text": [
      "Early stopping, best iteration is:\n",
      "[36]\ttraining's l1: 3.15234\tvalid_1's l1: 2.81032\n",
      "[LightGBM] [Warning] feature_fraction is set=0.6490837665895131, colsample_bytree=0.9 will be ignored. Current value: feature_fraction=0.6490837665895131\n",
      "[LightGBM] [Warning] bagging_fraction is set=0.6549641839736857, subsample=0.6 will be ignored. Current value: bagging_fraction=0.6549641839736857\n",
      "[LightGBM] [Warning] bagging_freq is set=19, subsample_freq=0 will be ignored. Current value: bagging_freq=19\n",
      "Training until validation scores don't improve for 100 rounds\n"
     ]
    },
    {
     "name": "stderr",
     "output_type": "stream",
     "text": [
      "\u001b[32m[I 2021-07-19 21:59:46,484]\u001b[0m Trial 52 finished with value: -2.810676964733915 and parameters: {'max_depth': 4, 'min_child_weight': 3, 'subsample': 0.6, 'colsample_bytree': 0.9, 'reg_lambda': 0.014815012838895995, 'reg_alpha': 1.3569929661981115, 'feature_fraction': 0.6490837665895131, 'bagging_fraction': 0.6549641839736857, 'bagging_freq': 19, 'num_leaves': 258, 'min_child_samples': 52}. Best is trial 37 with value: -2.801891963943745.\u001b[0m\n"
     ]
    },
    {
     "name": "stdout",
     "output_type": "stream",
     "text": [
      "[100]\ttraining's l1: 3.09308\tvalid_1's l1: 2.83306\n",
      "Early stopping, best iteration is:\n",
      "[38]\ttraining's l1: 3.21338\tvalid_1's l1: 2.81068\n",
      "[LightGBM] [Warning] feature_fraction is set=0.7031475983117855, colsample_bytree=0.8 will be ignored. Current value: feature_fraction=0.7031475983117855\n",
      "[LightGBM] [Warning] bagging_fraction is set=0.8069243253690624, subsample=0.7 will be ignored. Current value: bagging_fraction=0.8069243253690624\n",
      "[LightGBM] [Warning] bagging_freq is set=20, subsample_freq=0 will be ignored. Current value: bagging_freq=20\n",
      "Training until validation scores don't improve for 100 rounds\n"
     ]
    },
    {
     "name": "stderr",
     "output_type": "stream",
     "text": [
      "\u001b[32m[I 2021-07-19 21:59:48,114]\u001b[0m Trial 53 finished with value: -2.8292037592868926 and parameters: {'max_depth': 7, 'min_child_weight': 7, 'subsample': 0.7, 'colsample_bytree': 0.8, 'reg_lambda': 1.6073945283601907, 'reg_alpha': 0.027137612408650136, 'feature_fraction': 0.7031475983117855, 'bagging_fraction': 0.8069243253690624, 'bagging_freq': 20, 'num_leaves': 360, 'min_child_samples': 42}. Best is trial 37 with value: -2.801891963943745.\u001b[0m\n"
     ]
    },
    {
     "name": "stdout",
     "output_type": "stream",
     "text": [
      "[100]\ttraining's l1: 2.90549\tvalid_1's l1: 2.87674\n",
      "Early stopping, best iteration is:\n",
      "[23]\ttraining's l1: 3.09378\tvalid_1's l1: 2.8292\n",
      "[LightGBM] [Warning] feature_fraction is set=0.7406893185681351, colsample_bytree=0.5 will be ignored. Current value: feature_fraction=0.7406893185681351\n",
      "[LightGBM] [Warning] bagging_fraction is set=0.7689234454844559, subsample=0.6 will be ignored. Current value: bagging_fraction=0.7689234454844559\n",
      "[LightGBM] [Warning] bagging_freq is set=9, subsample_freq=0 will be ignored. Current value: bagging_freq=9\n",
      "Training until validation scores don't improve for 100 rounds\n",
      "[100]\ttraining's l1: 3.25852\tvalid_1's l1: 2.83469\n"
     ]
    },
    {
     "name": "stderr",
     "output_type": "stream",
     "text": [
      "\u001b[32m[I 2021-07-19 21:59:49,680]\u001b[0m Trial 54 finished with value: -2.8314836816442197 and parameters: {'max_depth': 2, 'min_child_weight': 14, 'subsample': 0.6, 'colsample_bytree': 0.5, 'reg_lambda': 0.27743594508954966, 'reg_alpha': 0.3560157993046554, 'feature_fraction': 0.7406893185681351, 'bagging_fraction': 0.7689234454844559, 'bagging_freq': 9, 'num_leaves': 118, 'min_child_samples': 59}. Best is trial 37 with value: -2.801891963943745.\u001b[0m\n"
     ]
    },
    {
     "name": "stdout",
     "output_type": "stream",
     "text": [
      "[200]\ttraining's l1: 3.19228\tvalid_1's l1: 2.83596\n",
      "Early stopping, best iteration is:\n",
      "[143]\ttraining's l1: 3.22184\tvalid_1's l1: 2.83148\n",
      "[LightGBM] [Warning] feature_fraction is set=0.6436867513255975, colsample_bytree=0.7 will be ignored. Current value: feature_fraction=0.6436867513255975\n",
      "[LightGBM] [Warning] bagging_fraction is set=0.6250145113264977, subsample=0.8 will be ignored. Current value: bagging_fraction=0.6250145113264977\n",
      "[LightGBM] [Warning] bagging_freq is set=17, subsample_freq=0 will be ignored. Current value: bagging_freq=17\n",
      "Training until validation scores don't improve for 100 rounds\n",
      "[100]\ttraining's l1: 3.38647\tvalid_1's l1: 2.83487\n",
      "[200]\ttraining's l1: 3.3224\tvalid_1's l1: 2.81609\n",
      "[300]\ttraining's l1: 3.29011\tvalid_1's l1: 2.8123\n"
     ]
    },
    {
     "name": "stderr",
     "output_type": "stream",
     "text": [
      "\u001b[32m[I 2021-07-19 21:59:51,537]\u001b[0m Trial 55 finished with value: -2.8118782584233877 and parameters: {'max_depth': 1, 'min_child_weight': 8, 'subsample': 0.8, 'colsample_bytree': 0.7, 'reg_lambda': 9.293295243269547, 'reg_alpha': 0.01769854658477058, 'feature_fraction': 0.6436867513255975, 'bagging_fraction': 0.6250145113264977, 'bagging_freq': 17, 'num_leaves': 421, 'min_child_samples': 45}. Best is trial 37 with value: -2.801891963943745.\u001b[0m\n"
     ]
    },
    {
     "name": "stdout",
     "output_type": "stream",
     "text": [
      "[400]\ttraining's l1: 3.27416\tvalid_1's l1: 2.8179\n",
      "Early stopping, best iteration is:\n",
      "[317]\ttraining's l1: 3.28714\tvalid_1's l1: 2.81188\n",
      "[LightGBM] [Warning] feature_fraction is set=0.41428039800863675, colsample_bytree=0.9 will be ignored. Current value: feature_fraction=0.41428039800863675\n",
      "[LightGBM] [Warning] bagging_fraction is set=0.6750299815376731, subsample=0.7 will be ignored. Current value: bagging_fraction=0.6750299815376731\n",
      "[LightGBM] [Warning] bagging_freq is set=18, subsample_freq=0 will be ignored. Current value: bagging_freq=18\n",
      "Training until validation scores don't improve for 100 rounds\n"
     ]
    },
    {
     "name": "stderr",
     "output_type": "stream",
     "text": [
      "\u001b[32m[I 2021-07-19 21:59:53,307]\u001b[0m Trial 56 finished with value: -2.8416819417168178 and parameters: {'max_depth': 8, 'min_child_weight': 6, 'subsample': 0.7, 'colsample_bytree': 0.9, 'reg_lambda': 0.005947744309361573, 'reg_alpha': 0.07386090160478845, 'feature_fraction': 0.41428039800863675, 'bagging_fraction': 0.6750299815376731, 'bagging_freq': 18, 'num_leaves': 295, 'min_child_samples': 25}. Best is trial 37 with value: -2.801891963943745.\u001b[0m\n"
     ]
    },
    {
     "name": "stdout",
     "output_type": "stream",
     "text": [
      "[100]\ttraining's l1: 2.85259\tvalid_1's l1: 2.92769\n",
      "Early stopping, best iteration is:\n",
      "[19]\ttraining's l1: 3.10569\tvalid_1's l1: 2.84168\n",
      "[LightGBM] [Warning] feature_fraction is set=0.5411076621097998, colsample_bytree=0.9 will be ignored. Current value: feature_fraction=0.5411076621097998\n",
      "[LightGBM] [Warning] bagging_fraction is set=0.7254810145895113, subsample=0.6 will be ignored. Current value: bagging_fraction=0.7254810145895113\n",
      "[LightGBM] [Warning] bagging_freq is set=16, subsample_freq=0 will be ignored. Current value: bagging_freq=16\n",
      "Training until validation scores don't improve for 100 rounds\n",
      "[100]\ttraining's l1: 2.76152\tvalid_1's l1: 2.97323\n"
     ]
    },
    {
     "name": "stderr",
     "output_type": "stream",
     "text": [
      "\u001b[32m[I 2021-07-19 21:59:56,338]\u001b[0m Trial 57 finished with value: -2.866441160969548 and parameters: {'max_depth': 19, 'min_child_weight': 5, 'subsample': 0.6, 'colsample_bytree': 0.9, 'reg_lambda': 0.09827007419727096, 'reg_alpha': 3.977576173968961, 'feature_fraction': 0.5411076621097998, 'bagging_fraction': 0.7254810145895113, 'bagging_freq': 16, 'num_leaves': 222, 'min_child_samples': 37}. Best is trial 37 with value: -2.801891963943745.\u001b[0m\n"
     ]
    },
    {
     "name": "stdout",
     "output_type": "stream",
     "text": [
      "Early stopping, best iteration is:\n",
      "[16]\ttraining's l1: 3.15608\tvalid_1's l1: 2.86644\n",
      "[LightGBM] [Warning] feature_fraction is set=0.5981033369175213, colsample_bytree=0.8 will be ignored. Current value: feature_fraction=0.5981033369175213\n",
      "[LightGBM] [Warning] bagging_fraction is set=0.5170337168770173, subsample=0.7 will be ignored. Current value: bagging_fraction=0.5170337168770173\n",
      "[LightGBM] [Warning] bagging_freq is set=12, subsample_freq=0 will be ignored. Current value: bagging_freq=12\n",
      "Training until validation scores don't improve for 100 rounds\n",
      "[100]\ttraining's l1: 3.0279\tvalid_1's l1: 2.84632\n"
     ]
    },
    {
     "name": "stderr",
     "output_type": "stream",
     "text": [
      "\u001b[32m[I 2021-07-19 21:59:57,850]\u001b[0m Trial 58 finished with value: -2.8197795528470517 and parameters: {'max_depth': 5, 'min_child_weight': 13, 'subsample': 0.7, 'colsample_bytree': 0.8, 'reg_lambda': 0.21289327777670936, 'reg_alpha': 0.6142063062322611, 'feature_fraction': 0.5981033369175213, 'bagging_fraction': 0.5170337168770173, 'bagging_freq': 12, 'num_leaves': 166, 'min_child_samples': 15}. Best is trial 37 with value: -2.801891963943745.\u001b[0m\n"
     ]
    },
    {
     "name": "stdout",
     "output_type": "stream",
     "text": [
      "Early stopping, best iteration is:\n",
      "[48]\ttraining's l1: 3.10797\tvalid_1's l1: 2.81978\n",
      "[LightGBM] [Warning] feature_fraction is set=0.7946529298106715, colsample_bytree=0.8 will be ignored. Current value: feature_fraction=0.7946529298106715\n",
      "[LightGBM] [Warning] bagging_fraction is set=0.8546963492276538, subsample=0.6 will be ignored. Current value: bagging_fraction=0.8546963492276538\n",
      "[LightGBM] [Warning] bagging_freq is set=19, subsample_freq=0 will be ignored. Current value: bagging_freq=19\n",
      "Training until validation scores don't improve for 100 rounds\n",
      "[100]\ttraining's l1: 3.08285\tvalid_1's l1: 2.84029\n",
      "Early stopping, best iteration is:\n",
      "[35]\ttraining's l1: 3.22044\tvalid_1's l1: 2.81174\n"
     ]
    },
    {
     "name": "stderr",
     "output_type": "stream",
     "text": [
      "\u001b[32m[I 2021-07-19 21:59:59,172]\u001b[0m Trial 59 finished with value: -2.8117366360672005 and parameters: {'max_depth': 4, 'min_child_weight': 15, 'subsample': 0.6, 'colsample_bytree': 0.8, 'reg_lambda': 0.002850540049130972, 'reg_alpha': 0.24892031568385325, 'feature_fraction': 0.7946529298106715, 'bagging_fraction': 0.8546963492276538, 'bagging_freq': 19, 'num_leaves': 534, 'min_child_samples': 77}. Best is trial 37 with value: -2.801891963943745.\u001b[0m\n"
     ]
    },
    {
     "name": "stdout",
     "output_type": "stream",
     "text": [
      "[LightGBM] [Warning] feature_fraction is set=0.7422533649480453, colsample_bytree=0.7 will be ignored. Current value: feature_fraction=0.7422533649480453\n",
      "[LightGBM] [Warning] bagging_fraction is set=0.8172473959446858, subsample=0.6 will be ignored. Current value: bagging_fraction=0.8172473959446858\n",
      "[LightGBM] [Warning] bagging_freq is set=15, subsample_freq=0 will be ignored. Current value: bagging_freq=15\n",
      "Training until validation scores don't improve for 100 rounds\n",
      "[100]\ttraining's l1: 3.16841\tvalid_1's l1: 2.8461\n"
     ]
    },
    {
     "name": "stderr",
     "output_type": "stream",
     "text": [
      "\u001b[32m[I 2021-07-19 22:00:00,436]\u001b[0m Trial 60 finished with value: -2.8413795275618865 and parameters: {'max_depth': 3, 'min_child_weight': 16, 'subsample': 0.6, 'colsample_bytree': 0.7, 'reg_lambda': 219.4584980472665, 'reg_alpha': 1.5349552368423145, 'feature_fraction': 0.7422533649480453, 'bagging_fraction': 0.8172473959446858, 'bagging_freq': 15, 'num_leaves': 446, 'min_child_samples': 50}. Best is trial 37 with value: -2.801891963943745.\u001b[0m\n"
     ]
    },
    {
     "name": "stdout",
     "output_type": "stream",
     "text": [
      "Early stopping, best iteration is:\n",
      "[48]\ttraining's l1: 3.26161\tvalid_1's l1: 2.84138\n",
      "[LightGBM] [Warning] feature_fraction is set=0.6051336307363717, colsample_bytree=0.8 will be ignored. Current value: feature_fraction=0.6051336307363717\n",
      "[LightGBM] [Warning] bagging_fraction is set=0.7077701101911553, subsample=0.6 will be ignored. Current value: bagging_fraction=0.7077701101911553\n",
      "[LightGBM] [Warning] bagging_freq is set=19, subsample_freq=0 will be ignored. Current value: bagging_freq=19\n",
      "Training until validation scores don't improve for 100 rounds\n",
      "[100]\ttraining's l1: 3.02061\tvalid_1's l1: 2.86298\n"
     ]
    },
    {
     "name": "stderr",
     "output_type": "stream",
     "text": [
      "\u001b[32m[I 2021-07-19 22:00:02,037]\u001b[0m Trial 61 finished with value: -2.8163650290469864 and parameters: {'max_depth': 5, 'min_child_weight': 6, 'subsample': 0.6, 'colsample_bytree': 0.8, 'reg_lambda': 0.36785083849045347, 'reg_alpha': 0.14095287515519722, 'feature_fraction': 0.6051336307363717, 'bagging_fraction': 0.7077701101911553, 'bagging_freq': 19, 'num_leaves': 194, 'min_child_samples': 45}. Best is trial 37 with value: -2.801891963943745.\u001b[0m\n"
     ]
    },
    {
     "name": "stdout",
     "output_type": "stream",
     "text": [
      "Early stopping, best iteration is:\n",
      "[31]\ttraining's l1: 3.17668\tvalid_1's l1: 2.81637\n",
      "[LightGBM] [Warning] feature_fraction is set=0.6194482473770716, colsample_bytree=0.9 will be ignored. Current value: feature_fraction=0.6194482473770716\n",
      "[LightGBM] [Warning] bagging_fraction is set=0.7759304379765131, subsample=0.5 will be ignored. Current value: bagging_fraction=0.7759304379765131\n",
      "[LightGBM] [Warning] bagging_freq is set=20, subsample_freq=0 will be ignored. Current value: bagging_freq=20\n",
      "Training until validation scores don't improve for 100 rounds\n",
      "[100]\ttraining's l1: 2.96316\tvalid_1's l1: 2.88178\n"
     ]
    },
    {
     "name": "stderr",
     "output_type": "stream",
     "text": [
      "\u001b[32m[I 2021-07-19 22:00:03,770]\u001b[0m Trial 62 finished with value: -2.819267974437873 and parameters: {'max_depth': 6, 'min_child_weight': 5, 'subsample': 0.5, 'colsample_bytree': 0.9, 'reg_lambda': 0.6542278203584724, 'reg_alpha': 0.10371474345906286, 'feature_fraction': 0.6194482473770716, 'bagging_fraction': 0.7759304379765131, 'bagging_freq': 20, 'num_leaves': 141, 'min_child_samples': 55}. Best is trial 37 with value: -2.801891963943745.\u001b[0m\n"
     ]
    },
    {
     "name": "stdout",
     "output_type": "stream",
     "text": [
      "Early stopping, best iteration is:\n",
      "[29]\ttraining's l1: 3.11627\tvalid_1's l1: 2.81927\n",
      "[LightGBM] [Warning] feature_fraction is set=0.4928191434249056, colsample_bytree=0.8 will be ignored. Current value: feature_fraction=0.4928191434249056\n",
      "[LightGBM] [Warning] bagging_fraction is set=0.6035153659229264, subsample=0.6 will be ignored. Current value: bagging_fraction=0.6035153659229264\n",
      "[LightGBM] [Warning] bagging_freq is set=17, subsample_freq=0 will be ignored. Current value: bagging_freq=17\n",
      "Training until validation scores don't improve for 100 rounds\n",
      "[100]\ttraining's l1: 3.17364\tvalid_1's l1: 2.83328\n"
     ]
    },
    {
     "name": "stderr",
     "output_type": "stream",
     "text": [
      "\u001b[32m[I 2021-07-19 22:00:05,277]\u001b[0m Trial 63 finished with value: -2.8275920417410405 and parameters: {'max_depth': 3, 'min_child_weight': 4, 'subsample': 0.6, 'colsample_bytree': 0.8, 'reg_lambda': 1.2707424286351496, 'reg_alpha': 0.4062144833877245, 'feature_fraction': 0.4928191434249056, 'bagging_fraction': 0.6035153659229264, 'bagging_freq': 17, 'num_leaves': 270, 'min_child_samples': 64}. Best is trial 37 with value: -2.801891963943745.\u001b[0m\n"
     ]
    },
    {
     "name": "stdout",
     "output_type": "stream",
     "text": [
      "Early stopping, best iteration is:\n",
      "[78]\ttraining's l1: 3.20229\tvalid_1's l1: 2.82759\n",
      "[LightGBM] [Warning] feature_fraction is set=0.6615552258102356, colsample_bytree=0.8 will be ignored. Current value: feature_fraction=0.6615552258102356\n",
      "[LightGBM] [Warning] bagging_fraction is set=0.6779965218172569, subsample=0.7 will be ignored. Current value: bagging_fraction=0.6779965218172569\n",
      "[LightGBM] [Warning] bagging_freq is set=19, subsample_freq=0 will be ignored. Current value: bagging_freq=19\n",
      "Training until validation scores don't improve for 100 rounds\n",
      "[100]\ttraining's l1: 3.02851\tvalid_1's l1: 2.83903\n"
     ]
    },
    {
     "name": "stderr",
     "output_type": "stream",
     "text": [
      "\u001b[32m[I 2021-07-19 22:00:06,641]\u001b[0m Trial 64 finished with value: -2.8127139684873823 and parameters: {'max_depth': 5, 'min_child_weight': 9, 'subsample': 0.7, 'colsample_bytree': 0.8, 'reg_lambda': 0.04441522474783488, 'reg_alpha': 0.1670980982475297, 'feature_fraction': 0.6615552258102356, 'bagging_fraction': 0.6779965218172569, 'bagging_freq': 19, 'num_leaves': 57, 'min_child_samples': 48}. Best is trial 37 with value: -2.801891963943745.\u001b[0m\n"
     ]
    },
    {
     "name": "stdout",
     "output_type": "stream",
     "text": [
      "Early stopping, best iteration is:\n",
      "[47]\ttraining's l1: 3.10723\tvalid_1's l1: 2.81271\n",
      "[LightGBM] [Warning] feature_fraction is set=0.7037414854902699, colsample_bytree=0.9 will be ignored. Current value: feature_fraction=0.7037414854902699\n",
      "[LightGBM] [Warning] bagging_fraction is set=0.7580709642949983, subsample=0.5 will be ignored. Current value: bagging_fraction=0.7580709642949983\n",
      "[LightGBM] [Warning] bagging_freq is set=18, subsample_freq=0 will be ignored. Current value: bagging_freq=18\n",
      "Training until validation scores don't improve for 100 rounds\n"
     ]
    },
    {
     "name": "stderr",
     "output_type": "stream",
     "text": [
      "\u001b[32m[I 2021-07-19 22:00:08,427]\u001b[0m Trial 65 finished with value: -2.8417962822854164 and parameters: {'max_depth': 8, 'min_child_weight': 6, 'subsample': 0.5, 'colsample_bytree': 0.9, 'reg_lambda': 0.7558544621804378, 'reg_alpha': 0.04771662144946776, 'feature_fraction': 0.7037414854902699, 'bagging_fraction': 0.7580709642949983, 'bagging_freq': 18, 'num_leaves': 215, 'min_child_samples': 33}. Best is trial 37 with value: -2.801891963943745.\u001b[0m\n"
     ]
    },
    {
     "name": "stdout",
     "output_type": "stream",
     "text": [
      "[100]\ttraining's l1: 2.83735\tvalid_1's l1: 2.91705\n",
      "Early stopping, best iteration is:\n",
      "[17]\ttraining's l1: 3.12741\tvalid_1's l1: 2.8418\n",
      "[LightGBM] [Warning] feature_fraction is set=0.7626880930754404, colsample_bytree=0.7 will be ignored. Current value: feature_fraction=0.7626880930754404\n",
      "[LightGBM] [Warning] bagging_fraction is set=0.7193830483774912, subsample=0.7 will be ignored. Current value: bagging_fraction=0.7193830483774912\n",
      "[LightGBM] [Warning] bagging_freq is set=16, subsample_freq=0 will be ignored. Current value: bagging_freq=16\n",
      "Training until validation scores don't improve for 100 rounds\n"
     ]
    },
    {
     "name": "stderr",
     "output_type": "stream",
     "text": [
      "\u001b[32m[I 2021-07-19 22:00:09,641]\u001b[0m Trial 66 finished with value: -2.823022657766335 and parameters: {'max_depth': 4, 'min_child_weight': 7, 'subsample': 0.7, 'colsample_bytree': 0.7, 'reg_lambda': 2.9426448388618347, 'reg_alpha': 0.8583839426430706, 'feature_fraction': 0.7626880930754404, 'bagging_fraction': 0.7193830483774912, 'bagging_freq': 16, 'num_leaves': 300, 'min_child_samples': 9}. Best is trial 37 with value: -2.801891963943745.\u001b[0m\n"
     ]
    },
    {
     "name": "stdout",
     "output_type": "stream",
     "text": [
      "[100]\ttraining's l1: 3.08315\tvalid_1's l1: 2.84605\n",
      "Early stopping, best iteration is:\n",
      "[32]\ttraining's l1: 3.24357\tvalid_1's l1: 2.82302\n",
      "[LightGBM] [Warning] feature_fraction is set=0.6016461519431794, colsample_bytree=0.9 will be ignored. Current value: feature_fraction=0.6016461519431794\n",
      "[LightGBM] [Warning] bagging_fraction is set=0.7374929389405865, subsample=0.6 will be ignored. Current value: bagging_fraction=0.7374929389405865\n",
      "[LightGBM] [Warning] bagging_freq is set=6, subsample_freq=0 will be ignored. Current value: bagging_freq=6\n",
      "Training until validation scores don't improve for 100 rounds\n",
      "[100]\ttraining's l1: 2.78778\tvalid_1's l1: 2.97212\n"
     ]
    },
    {
     "name": "stderr",
     "output_type": "stream",
     "text": [
      "\u001b[32m[I 2021-07-19 22:00:12,270]\u001b[0m Trial 67 finished with value: -2.887536051604897 and parameters: {'max_depth': 10, 'min_child_weight': 11, 'subsample': 0.6, 'colsample_bytree': 0.9, 'reg_lambda': 0.38742845997081066, 'reg_alpha': 0.011812732564794185, 'feature_fraction': 0.6016461519431794, 'bagging_fraction': 0.7374929389405865, 'bagging_freq': 6, 'num_leaves': 376, 'min_child_samples': 58}. Best is trial 37 with value: -2.801891963943745.\u001b[0m\n"
     ]
    },
    {
     "name": "stdout",
     "output_type": "stream",
     "text": [
      "Early stopping, best iteration is:\n",
      "[17]\ttraining's l1: 3.06237\tvalid_1's l1: 2.88754\n",
      "[LightGBM] [Warning] feature_fraction is set=0.8565622484317763, colsample_bytree=0.8 will be ignored. Current value: feature_fraction=0.8565622484317763\n",
      "[LightGBM] [Warning] bagging_fraction is set=0.5587464334374302, subsample=0.8 will be ignored. Current value: bagging_fraction=0.5587464334374302\n",
      "[LightGBM] [Warning] bagging_freq is set=13, subsample_freq=0 will be ignored. Current value: bagging_freq=13\n",
      "Training until validation scores don't improve for 100 rounds\n",
      "[100]\ttraining's l1: 3.25925\tvalid_1's l1: 2.83313\n"
     ]
    },
    {
     "name": "stderr",
     "output_type": "stream",
     "text": [
      "\u001b[32m[I 2021-07-19 22:00:13,523]\u001b[0m Trial 68 finished with value: -2.831733275695898 and parameters: {'max_depth': 2, 'min_child_weight': 13, 'subsample': 0.8, 'colsample_bytree': 0.8, 'reg_lambda': 0.0096343787456276, 'reg_alpha': 0.11132894778768802, 'feature_fraction': 0.8565622484317763, 'bagging_fraction': 0.5587464334374302, 'bagging_freq': 13, 'num_leaves': 243, 'min_child_samples': 23}. Best is trial 37 with value: -2.801891963943745.\u001b[0m\n"
     ]
    },
    {
     "name": "stdout",
     "output_type": "stream",
     "text": [
      "[200]\ttraining's l1: 3.18726\tvalid_1's l1: 2.84276\n",
      "Early stopping, best iteration is:\n",
      "[113]\ttraining's l1: 3.24607\tvalid_1's l1: 2.83173\n",
      "[LightGBM] [Warning] feature_fraction is set=0.44163313848929864, colsample_bytree=0.6 will be ignored. Current value: feature_fraction=0.44163313848929864\n",
      "[LightGBM] [Warning] bagging_fraction is set=0.8792144670556982, subsample=0.7 will be ignored. Current value: bagging_fraction=0.8792144670556982\n",
      "[LightGBM] [Warning] bagging_freq is set=9, subsample_freq=0 will be ignored. Current value: bagging_freq=9\n",
      "Training until validation scores don't improve for 100 rounds\n",
      "[100]\ttraining's l1: 2.94393\tvalid_1's l1: 2.85879\n"
     ]
    },
    {
     "name": "stderr",
     "output_type": "stream",
     "text": [
      "\u001b[32m[I 2021-07-19 22:00:15,351]\u001b[0m Trial 69 finished with value: -2.7992380849366842 and parameters: {'max_depth': 6, 'min_child_weight': 3, 'subsample': 0.7, 'colsample_bytree': 0.6, 'reg_lambda': 0.021622294790640425, 'reg_alpha': 0.26481778196410277, 'feature_fraction': 0.44163313848929864, 'bagging_fraction': 0.8792144670556982, 'bagging_freq': 9, 'num_leaves': 110, 'min_child_samples': 12}. Best is trial 69 with value: -2.7992380849366842.\u001b[0m\n"
     ]
    },
    {
     "name": "stdout",
     "output_type": "stream",
     "text": [
      "Early stopping, best iteration is:\n",
      "[36]\ttraining's l1: 3.0776\tvalid_1's l1: 2.79924\n",
      "[LightGBM] [Warning] feature_fraction is set=0.4279769674147253, colsample_bytree=0.6 will be ignored. Current value: feature_fraction=0.4279769674147253\n",
      "[LightGBM] [Warning] bagging_fraction is set=0.9176438609377296, subsample=0.7 will be ignored. Current value: bagging_fraction=0.9176438609377296\n",
      "[LightGBM] [Warning] bagging_freq is set=10, subsample_freq=0 will be ignored. Current value: bagging_freq=10\n",
      "Training until validation scores don't improve for 100 rounds\n",
      "[100]\ttraining's l1: 2.94804\tvalid_1's l1: 2.87979\n",
      "Early stopping, best iteration is:\n",
      "[22]\ttraining's l1: 3.18159\tvalid_1's l1: 2.81044\n"
     ]
    },
    {
     "name": "stderr",
     "output_type": "stream",
     "text": [
      "\u001b[32m[I 2021-07-19 22:00:17,064]\u001b[0m Trial 70 finished with value: -2.8104427973858517 and parameters: {'max_depth': 6, 'min_child_weight': 2, 'subsample': 0.7, 'colsample_bytree': 0.6, 'reg_lambda': 0.01965920954794025, 'reg_alpha': 0.4769577156808897, 'feature_fraction': 0.4279769674147253, 'bagging_fraction': 0.9176438609377296, 'bagging_freq': 10, 'num_leaves': 94, 'min_child_samples': 11}. Best is trial 69 with value: -2.7992380849366842.\u001b[0m\n"
     ]
    },
    {
     "name": "stdout",
     "output_type": "stream",
     "text": [
      "[LightGBM] [Warning] feature_fraction is set=0.36708122164444956, colsample_bytree=0.6 will be ignored. Current value: feature_fraction=0.36708122164444956\n",
      "[LightGBM] [Warning] bagging_fraction is set=0.8803547844527739, subsample=0.7 will be ignored. Current value: bagging_fraction=0.8803547844527739\n",
      "[LightGBM] [Warning] bagging_freq is set=7, subsample_freq=0 will be ignored. Current value: bagging_freq=7\n",
      "Training until validation scores don't improve for 100 rounds\n",
      "[100]\ttraining's l1: 3.01987\tvalid_1's l1: 2.86741\n"
     ]
    },
    {
     "name": "stderr",
     "output_type": "stream",
     "text": [
      "\u001b[32m[I 2021-07-19 22:00:18,614]\u001b[0m Trial 71 finished with value: -2.8184834561037673 and parameters: {'max_depth': 5, 'min_child_weight': 1, 'subsample': 0.7, 'colsample_bytree': 0.6, 'reg_lambda': 0.07734766859918939, 'reg_alpha': 0.23160511366689235, 'feature_fraction': 0.36708122164444956, 'bagging_fraction': 0.8803547844527739, 'bagging_freq': 7, 'num_leaves': 166, 'min_child_samples': 14}. Best is trial 69 with value: -2.7992380849366842.\u001b[0m\n"
     ]
    },
    {
     "name": "stdout",
     "output_type": "stream",
     "text": [
      "Early stopping, best iteration is:\n",
      "[28]\ttraining's l1: 3.20217\tvalid_1's l1: 2.81848\n",
      "[LightGBM] [Warning] feature_fraction is set=0.3323108671791409, colsample_bytree=0.6 will be ignored. Current value: feature_fraction=0.3323108671791409\n",
      "[LightGBM] [Warning] bagging_fraction is set=0.7990297194280084, subsample=0.7 will be ignored. Current value: bagging_fraction=0.7990297194280084\n",
      "[LightGBM] [Warning] bagging_freq is set=9, subsample_freq=0 will be ignored. Current value: bagging_freq=9\n",
      "Training until validation scores don't improve for 100 rounds\n",
      "[100]\ttraining's l1: 3.09061\tvalid_1's l1: 2.82491\n"
     ]
    },
    {
     "name": "stderr",
     "output_type": "stream",
     "text": [
      "\u001b[32m[I 2021-07-19 22:00:20,179]\u001b[0m Trial 72 finished with value: -2.8143595769633847 and parameters: {'max_depth': 4, 'min_child_weight': 3, 'subsample': 0.7, 'colsample_bytree': 0.6, 'reg_lambda': 0.004129434200616947, 'reg_alpha': 1.021650773141859, 'feature_fraction': 0.3323108671791409, 'bagging_fraction': 0.7990297194280084, 'bagging_freq': 9, 'num_leaves': 57, 'min_child_samples': 8}. Best is trial 69 with value: -2.7992380849366842.\u001b[0m\n"
     ]
    },
    {
     "name": "stdout",
     "output_type": "stream",
     "text": [
      "Early stopping, best iteration is:\n",
      "[62]\ttraining's l1: 3.14886\tvalid_1's l1: 2.81436\n",
      "[LightGBM] [Warning] feature_fraction is set=0.6723192975217124, colsample_bytree=0.7 will be ignored. Current value: feature_fraction=0.6723192975217124\n",
      "[LightGBM] [Warning] bagging_fraction is set=0.8384712832708645, subsample=0.7 will be ignored. Current value: bagging_fraction=0.8384712832708645\n",
      "[LightGBM] [Warning] bagging_freq is set=11, subsample_freq=0 will be ignored. Current value: bagging_freq=11\n",
      "Training until validation scores don't improve for 100 rounds\n",
      "[100]\ttraining's l1: 3.1593\tvalid_1's l1: 2.80721\n"
     ]
    },
    {
     "name": "stderr",
     "output_type": "stream",
     "text": [
      "\u001b[32m[I 2021-07-19 22:00:21,607]\u001b[0m Trial 73 finished with value: -2.7991294266410462 and parameters: {'max_depth': 3, 'min_child_weight': 2, 'subsample': 0.7, 'colsample_bytree': 0.7, 'reg_lambda': 0.007130331628255279, 'reg_alpha': 0.3191422193183055, 'feature_fraction': 0.6723192975217124, 'bagging_fraction': 0.8384712832708645, 'bagging_freq': 11, 'num_leaves': 134, 'min_child_samples': 17}. Best is trial 73 with value: -2.7991294266410462.\u001b[0m\n"
     ]
    },
    {
     "name": "stdout",
     "output_type": "stream",
     "text": [
      "Early stopping, best iteration is:\n",
      "[74]\ttraining's l1: 3.19598\tvalid_1's l1: 2.79913\n",
      "[LightGBM] [Warning] feature_fraction is set=0.2915361540822783, colsample_bytree=0.7 will be ignored. Current value: feature_fraction=0.2915361540822783\n",
      "[LightGBM] [Warning] bagging_fraction is set=0.9473795702932526, subsample=0.7 will be ignored. Current value: bagging_fraction=0.9473795702932526\n",
      "[LightGBM] [Warning] bagging_freq is set=11, subsample_freq=0 will be ignored. Current value: bagging_freq=11\n",
      "Training until validation scores don't improve for 100 rounds\n",
      "[100]\ttraining's l1: 3.1728\tvalid_1's l1: 2.80965\n"
     ]
    },
    {
     "name": "stderr",
     "output_type": "stream",
     "text": [
      "\u001b[32m[I 2021-07-19 22:00:23,263]\u001b[0m Trial 74 finished with value: -2.805274483223628 and parameters: {'max_depth': 3, 'min_child_weight': 1, 'subsample': 0.7, 'colsample_bytree': 0.7, 'reg_lambda': 0.008521381499785529, 'reg_alpha': 2.4562638123511, 'feature_fraction': 0.2915361540822783, 'bagging_fraction': 0.9473795702932526, 'bagging_freq': 11, 'num_leaves': 136, 'min_child_samples': 29}. Best is trial 73 with value: -2.7991294266410462.\u001b[0m\n"
     ]
    },
    {
     "name": "stdout",
     "output_type": "stream",
     "text": [
      "Early stopping, best iteration is:\n",
      "[72]\ttraining's l1: 3.21484\tvalid_1's l1: 2.80527\n",
      "[LightGBM] [Warning] feature_fraction is set=0.28459211345866237, colsample_bytree=0.7 will be ignored. Current value: feature_fraction=0.28459211345866237\n",
      "[LightGBM] [Warning] bagging_fraction is set=0.9580564654702107, subsample=0.7 will be ignored. Current value: bagging_fraction=0.9580564654702107\n",
      "[LightGBM] [Warning] bagging_freq is set=11, subsample_freq=0 will be ignored. Current value: bagging_freq=11\n",
      "Training until validation scores don't improve for 100 rounds\n",
      "[100]\ttraining's l1: 3.38473\tvalid_1's l1: 2.83549\n",
      "[200]\ttraining's l1: 3.32381\tvalid_1's l1: 2.82182\n",
      "[300]\ttraining's l1: 3.29204\tvalid_1's l1: 2.81842\n",
      "[400]\ttraining's l1: 3.27562\tvalid_1's l1: 2.81857\n"
     ]
    },
    {
     "name": "stderr",
     "output_type": "stream",
     "text": [
      "\u001b[32m[I 2021-07-19 22:00:26,802]\u001b[0m Trial 75 finished with value: -2.816648580562087 and parameters: {'max_depth': 1, 'min_child_weight': 1, 'subsample': 0.7, 'colsample_bytree': 0.7, 'reg_lambda': 0.00683437477890847, 'reg_alpha': 2.046301880513966, 'feature_fraction': 0.28459211345866237, 'bagging_fraction': 0.9580564654702107, 'bagging_freq': 11, 'num_leaves': 20, 'min_child_samples': 18}. Best is trial 73 with value: -2.7991294266410462.\u001b[0m\n"
     ]
    },
    {
     "name": "stdout",
     "output_type": "stream",
     "text": [
      "Early stopping, best iteration is:\n",
      "[383]\ttraining's l1: 3.27846\tvalid_1's l1: 2.81666\n",
      "[LightGBM] [Warning] feature_fraction is set=0.24907805882453446, colsample_bytree=0.7 will be ignored. Current value: feature_fraction=0.24907805882453446\n",
      "[LightGBM] [Warning] bagging_fraction is set=0.9412756683709514, subsample=0.7 will be ignored. Current value: bagging_fraction=0.9412756683709514\n",
      "[LightGBM] [Warning] bagging_freq is set=11, subsample_freq=0 will be ignored. Current value: bagging_freq=11\n",
      "Training until validation scores don't improve for 100 rounds\n",
      "[100]\ttraining's l1: 3.27034\tvalid_1's l1: 2.82054\n"
     ]
    },
    {
     "name": "stderr",
     "output_type": "stream",
     "text": [
      "\u001b[32m[I 2021-07-19 22:00:28,662]\u001b[0m Trial 76 finished with value: -2.8176117226871686 and parameters: {'max_depth': 2, 'min_child_weight': 2, 'subsample': 0.7, 'colsample_bytree': 0.7, 'reg_lambda': 0.013391857082824017, 'reg_alpha': 11.25433950122364, 'feature_fraction': 0.24907805882453446, 'bagging_fraction': 0.9412756683709514, 'bagging_freq': 11, 'num_leaves': 106, 'min_child_samples': 30}. Best is trial 73 with value: -2.7991294266410462.\u001b[0m\n"
     ]
    },
    {
     "name": "stdout",
     "output_type": "stream",
     "text": [
      "[200]\ttraining's l1: 3.20192\tvalid_1's l1: 2.82134\n",
      "Early stopping, best iteration is:\n",
      "[123]\ttraining's l1: 3.24774\tvalid_1's l1: 2.81761\n",
      "[LightGBM] [Warning] feature_fraction is set=0.7269505992319172, colsample_bytree=0.7 will be ignored. Current value: feature_fraction=0.7269505992319172\n",
      "[LightGBM] [Warning] bagging_fraction is set=0.905005457234092, subsample=0.7 will be ignored. Current value: bagging_fraction=0.905005457234092\n",
      "[LightGBM] [Warning] bagging_freq is set=10, subsample_freq=0 will be ignored. Current value: bagging_freq=10\n",
      "Training until validation scores don't improve for 100 rounds\n",
      "[100]\ttraining's l1: 3.15459\tvalid_1's l1: 2.83025\n"
     ]
    },
    {
     "name": "stderr",
     "output_type": "stream",
     "text": [
      "\u001b[32m[I 2021-07-19 22:00:30,191]\u001b[0m Trial 77 finished with value: -2.8216945973096266 and parameters: {'max_depth': 3, 'min_child_weight': 3, 'subsample': 0.7, 'colsample_bytree': 0.7, 'reg_lambda': 0.025135395224840536, 'reg_alpha': 6.141279840870313, 'feature_fraction': 0.7269505992319172, 'bagging_fraction': 0.905005457234092, 'bagging_freq': 10, 'num_leaves': 78, 'min_child_samples': 27}. Best is trial 73 with value: -2.7991294266410462.\u001b[0m\n"
     ]
    },
    {
     "name": "stdout",
     "output_type": "stream",
     "text": [
      "Early stopping, best iteration is:\n",
      "[79]\ttraining's l1: 3.18466\tvalid_1's l1: 2.82169\n",
      "[LightGBM] [Warning] feature_fraction is set=0.7701366005282538, colsample_bytree=0.7 will be ignored. Current value: feature_fraction=0.7701366005282538\n",
      "[LightGBM] [Warning] bagging_fraction is set=0.979813212401419, subsample=0.8 will be ignored. Current value: bagging_fraction=0.979813212401419\n",
      "[LightGBM] [Warning] bagging_freq is set=9, subsample_freq=0 will be ignored. Current value: bagging_freq=9\n",
      "Training until validation scores don't improve for 100 rounds\n",
      "[100]\ttraining's l1: 3.16572\tvalid_1's l1: 2.81431\n"
     ]
    },
    {
     "name": "stderr",
     "output_type": "stream",
     "text": [
      "\u001b[32m[I 2021-07-19 22:00:31,790]\u001b[0m Trial 78 finished with value: -2.8081452735402537 and parameters: {'max_depth': 3, 'min_child_weight': 2, 'subsample': 0.8, 'colsample_bytree': 0.7, 'reg_lambda': 0.010370217419760363, 'reg_alpha': 2.2681020238673297, 'feature_fraction': 0.7701366005282538, 'bagging_fraction': 0.979813212401419, 'bagging_freq': 9, 'num_leaves': 138, 'min_child_samples': 23}. Best is trial 73 with value: -2.7991294266410462.\u001b[0m\n"
     ]
    },
    {
     "name": "stdout",
     "output_type": "stream",
     "text": [
      "Early stopping, best iteration is:\n",
      "[78]\ttraining's l1: 3.1996\tvalid_1's l1: 2.80815\n",
      "[LightGBM] [Warning] feature_fraction is set=0.2131348014724731, colsample_bytree=0.6 will be ignored. Current value: feature_fraction=0.2131348014724731\n",
      "[LightGBM] [Warning] bagging_fraction is set=0.843821792559382, subsample=0.9 will be ignored. Current value: bagging_fraction=0.843821792559382\n",
      "[LightGBM] [Warning] bagging_freq is set=9, subsample_freq=0 will be ignored. Current value: bagging_freq=9\n",
      "Training until validation scores don't improve for 100 rounds\n",
      "[100]\ttraining's l1: 3.1809\tvalid_1's l1: 2.80783\n"
     ]
    },
    {
     "name": "stderr",
     "output_type": "stream",
     "text": [
      "\u001b[32m[I 2021-07-19 22:00:33,289]\u001b[0m Trial 79 finished with value: -2.805635318349153 and parameters: {'max_depth': 3, 'min_child_weight': 2, 'subsample': 0.9, 'colsample_bytree': 0.6, 'reg_lambda': 0.002651538749620625, 'reg_alpha': 4.688530588478582, 'feature_fraction': 0.2131348014724731, 'bagging_fraction': 0.843821792559382, 'bagging_freq': 9, 'num_leaves': 143, 'min_child_samples': 22}. Best is trial 73 with value: -2.7991294266410462.\u001b[0m\n"
     ]
    },
    {
     "name": "stdout",
     "output_type": "stream",
     "text": [
      "Early stopping, best iteration is:\n",
      "[76]\ttraining's l1: 3.21385\tvalid_1's l1: 2.80564\n",
      "[LightGBM] [Warning] feature_fraction is set=0.2300930411287298, colsample_bytree=0.6 will be ignored. Current value: feature_fraction=0.2300930411287298\n",
      "[LightGBM] [Warning] bagging_fraction is set=0.8494689544045589, subsample=0.9 will be ignored. Current value: bagging_fraction=0.8494689544045589\n",
      "[LightGBM] [Warning] bagging_freq is set=7, subsample_freq=0 will be ignored. Current value: bagging_freq=7\n",
      "Training until validation scores don't improve for 100 rounds\n",
      "[100]\ttraining's l1: 3.10163\tvalid_1's l1: 2.8176\n"
     ]
    },
    {
     "name": "stderr",
     "output_type": "stream",
     "text": [
      "\u001b[32m[I 2021-07-19 22:00:34,670]\u001b[0m Trial 80 finished with value: -2.7975346282907663 and parameters: {'max_depth': 4, 'min_child_weight': 1, 'subsample': 0.9, 'colsample_bytree': 0.6, 'reg_lambda': 0.0021844968239131558, 'reg_alpha': 2.9081796565412996, 'feature_fraction': 0.2300930411287298, 'bagging_fraction': 0.8494689544045589, 'bagging_freq': 7, 'num_leaves': 136, 'min_child_samples': 15}. Best is trial 80 with value: -2.7975346282907663.\u001b[0m\n"
     ]
    },
    {
     "name": "stdout",
     "output_type": "stream",
     "text": [
      "Early stopping, best iteration is:\n",
      "[42]\ttraining's l1: 3.22644\tvalid_1's l1: 2.79753\n",
      "[LightGBM] [Warning] feature_fraction is set=0.23317392724340813, colsample_bytree=0.6 will be ignored. Current value: feature_fraction=0.23317392724340813\n",
      "[LightGBM] [Warning] bagging_fraction is set=0.8199940910082409, subsample=0.9 will be ignored. Current value: bagging_fraction=0.8199940910082409\n",
      "[LightGBM] [Warning] bagging_freq is set=7, subsample_freq=0 will be ignored. Current value: bagging_freq=7\n",
      "Training until validation scores don't improve for 100 rounds\n",
      "[100]\ttraining's l1: 3.09633\tvalid_1's l1: 2.82964\n"
     ]
    },
    {
     "name": "stderr",
     "output_type": "stream",
     "text": [
      "\u001b[32m[I 2021-07-19 22:00:36,016]\u001b[0m Trial 81 finished with value: -2.805585963711496 and parameters: {'max_depth': 4, 'min_child_weight': 1, 'subsample': 0.9, 'colsample_bytree': 0.6, 'reg_lambda': 0.0022608046160280016, 'reg_alpha': 4.858469808672197, 'feature_fraction': 0.23317392724340813, 'bagging_fraction': 0.8199940910082409, 'bagging_freq': 7, 'num_leaves': 147, 'min_child_samples': 16}. Best is trial 80 with value: -2.7975346282907663.\u001b[0m\n"
     ]
    },
    {
     "name": "stdout",
     "output_type": "stream",
     "text": [
      "Early stopping, best iteration is:\n",
      "[39]\ttraining's l1: 3.23406\tvalid_1's l1: 2.80559\n",
      "[LightGBM] [Warning] feature_fraction is set=0.22330532682008938, colsample_bytree=0.6 will be ignored. Current value: feature_fraction=0.22330532682008938\n",
      "[LightGBM] [Warning] bagging_fraction is set=0.8458580167889606, subsample=0.9 will be ignored. Current value: bagging_fraction=0.8458580167889606\n",
      "[LightGBM] [Warning] bagging_freq is set=5, subsample_freq=0 will be ignored. Current value: bagging_freq=5\n",
      "Training until validation scores don't improve for 100 rounds\n",
      "[100]\ttraining's l1: 3.18087\tvalid_1's l1: 2.81421\n"
     ]
    },
    {
     "name": "stderr",
     "output_type": "stream",
     "text": [
      "\u001b[32m[I 2021-07-19 22:00:37,379]\u001b[0m Trial 82 finished with value: -2.8086462382122197 and parameters: {'max_depth': 3, 'min_child_weight': 1, 'subsample': 0.9, 'colsample_bytree': 0.6, 'reg_lambda': 0.0013135542266795312, 'reg_alpha': 4.755751265154083, 'feature_fraction': 0.22330532682008938, 'bagging_fraction': 0.8458580167889606, 'bagging_freq': 5, 'num_leaves': 139, 'min_child_samples': 16}. Best is trial 80 with value: -2.7975346282907663.\u001b[0m\n"
     ]
    },
    {
     "name": "stdout",
     "output_type": "stream",
     "text": [
      "Early stopping, best iteration is:\n",
      "[43]\ttraining's l1: 3.2962\tvalid_1's l1: 2.80865\n",
      "[LightGBM] [Warning] feature_fraction is set=0.2982948137815341, colsample_bytree=0.6 will be ignored. Current value: feature_fraction=0.2982948137815341\n",
      "[LightGBM] [Warning] bagging_fraction is set=0.8202577105742429, subsample=0.9 will be ignored. Current value: bagging_fraction=0.8202577105742429\n",
      "[LightGBM] [Warning] bagging_freq is set=8, subsample_freq=0 will be ignored. Current value: bagging_freq=8\n",
      "Training until validation scores don't improve for 100 rounds\n",
      "[100]\ttraining's l1: 3.12038\tvalid_1's l1: 2.84663\n"
     ]
    },
    {
     "name": "stderr",
     "output_type": "stream",
     "text": [
      "\u001b[32m[I 2021-07-19 22:00:38,768]\u001b[0m Trial 83 finished with value: -2.8291332319710376 and parameters: {'max_depth': 4, 'min_child_weight': 2, 'subsample': 0.9, 'colsample_bytree': 0.6, 'reg_lambda': 0.0031712120043526065, 'reg_alpha': 79.17917828692283, 'feature_fraction': 0.2982948137815341, 'bagging_fraction': 0.8202577105742429, 'bagging_freq': 8, 'num_leaves': 175, 'min_child_samples': 21}. Best is trial 80 with value: -2.7975346282907663.\u001b[0m\n"
     ]
    },
    {
     "name": "stdout",
     "output_type": "stream",
     "text": [
      "Early stopping, best iteration is:\n",
      "[39]\ttraining's l1: 3.24242\tvalid_1's l1: 2.82913\n",
      "[LightGBM] [Warning] feature_fraction is set=0.21475637214592358, colsample_bytree=0.5 will be ignored. Current value: feature_fraction=0.21475637214592358\n",
      "[LightGBM] [Warning] bagging_fraction is set=0.8671807725471661, subsample=0.9 will be ignored. Current value: bagging_fraction=0.8671807725471661\n",
      "[LightGBM] [Warning] bagging_freq is set=7, subsample_freq=0 will be ignored. Current value: bagging_freq=7\n",
      "Training until validation scores don't improve for 100 rounds\n",
      "[100]\ttraining's l1: 2.87359\tvalid_1's l1: 2.98302\n",
      "Early stopping, best iteration is:\n",
      "[17]\ttraining's l1: 3.22064\tvalid_1's l1: 2.85848\n"
     ]
    },
    {
     "name": "stderr",
     "output_type": "stream",
     "text": [
      "\u001b[32m[I 2021-07-19 22:00:40,625]\u001b[0m Trial 84 finished with value: -2.8584785387655165 and parameters: {'max_depth': 13, 'min_child_weight': 1, 'subsample': 0.9, 'colsample_bytree': 0.5, 'reg_lambda': 0.002399023895464192, 'reg_alpha': 11.128847770383366, 'feature_fraction': 0.21475637214592358, 'bagging_fraction': 0.8671807725471661, 'bagging_freq': 7, 'num_leaves': 124, 'min_child_samples': 13}. Best is trial 80 with value: -2.7975346282907663.\u001b[0m\n"
     ]
    },
    {
     "name": "stdout",
     "output_type": "stream",
     "text": [
      "[LightGBM] [Warning] feature_fraction is set=0.23529849578759993, colsample_bytree=0.6 will be ignored. Current value: feature_fraction=0.23529849578759993\n",
      "[LightGBM] [Warning] bagging_fraction is set=0.8371902917700601, subsample=0.9 will be ignored. Current value: bagging_fraction=0.8371902917700601\n",
      "[LightGBM] [Warning] bagging_freq is set=6, subsample_freq=0 will be ignored. Current value: bagging_freq=6\n",
      "Training until validation scores don't improve for 100 rounds\n",
      "[100]\ttraining's l1: 3.27065\tvalid_1's l1: 2.82053\n",
      "[200]\ttraining's l1: 3.20032\tvalid_1's l1: 2.81264\n",
      "[300]\ttraining's l1: 3.16975\tvalid_1's l1: 2.81584\n"
     ]
    },
    {
     "name": "stderr",
     "output_type": "stream",
     "text": [
      "\u001b[32m[I 2021-07-19 22:00:43,178]\u001b[0m Trial 85 finished with value: -2.807257527547738 and parameters: {'max_depth': 2, 'min_child_weight': 3, 'subsample': 0.9, 'colsample_bytree': 0.6, 'reg_lambda': 0.001748419373384295, 'reg_alpha': 2.893331830658067, 'feature_fraction': 0.23529849578759993, 'bagging_fraction': 0.8371902917700601, 'bagging_freq': 6, 'num_leaves': 21, 'min_child_samples': 12}. Best is trial 80 with value: -2.7975346282907663.\u001b[0m\n"
     ]
    },
    {
     "name": "stdout",
     "output_type": "stream",
     "text": [
      "Early stopping, best iteration is:\n",
      "[262]\ttraining's l1: 3.18014\tvalid_1's l1: 2.80726\n",
      "[LightGBM] [Warning] feature_fraction is set=0.3029888417623732, colsample_bytree=0.6 will be ignored. Current value: feature_fraction=0.3029888417623732\n",
      "[LightGBM] [Warning] bagging_fraction is set=0.8784239246558632, subsample=0.9 will be ignored. Current value: bagging_fraction=0.8784239246558632\n",
      "[LightGBM] [Warning] bagging_freq is set=5, subsample_freq=0 will be ignored. Current value: bagging_freq=5\n",
      "Training until validation scores don't improve for 100 rounds\n",
      "[100]\ttraining's l1: 3.2676\tvalid_1's l1: 2.80762\n"
     ]
    },
    {
     "name": "stderr",
     "output_type": "stream",
     "text": [
      "\u001b[32m[I 2021-07-19 22:00:44,974]\u001b[0m Trial 86 finished with value: -2.807366299518223 and parameters: {'max_depth': 2, 'min_child_weight': 4, 'subsample': 0.9, 'colsample_bytree': 0.6, 'reg_lambda': 0.004860803882851554, 'reg_alpha': 5.176501413220625, 'feature_fraction': 0.3029888417623732, 'bagging_fraction': 0.8784239246558632, 'bagging_freq': 5, 'num_leaves': 80, 'min_child_samples': 18}. Best is trial 80 with value: -2.7975346282907663.\u001b[0m\n"
     ]
    },
    {
     "name": "stdout",
     "output_type": "stream",
     "text": [
      "Early stopping, best iteration is:\n",
      "[99]\ttraining's l1: 3.26886\tvalid_1's l1: 2.80737\n",
      "[LightGBM] [Warning] feature_fraction is set=0.20153958541245448, colsample_bytree=0.6 will be ignored. Current value: feature_fraction=0.20153958541245448\n",
      "[LightGBM] [Warning] bagging_fraction is set=0.9174506026153658, subsample=0.9 will be ignored. Current value: bagging_fraction=0.9174506026153658\n",
      "[LightGBM] [Warning] bagging_freq is set=7, subsample_freq=0 will be ignored. Current value: bagging_freq=7\n",
      "Training until validation scores don't improve for 100 rounds\n",
      "[100]\ttraining's l1: 3.11635\tvalid_1's l1: 2.84011\n"
     ]
    },
    {
     "name": "stderr",
     "output_type": "stream",
     "text": [
      "\u001b[32m[I 2021-07-19 22:00:46,598]\u001b[0m Trial 87 finished with value: -2.8357563283340355 and parameters: {'max_depth': 4, 'min_child_weight': 2, 'subsample': 0.9, 'colsample_bytree': 0.6, 'reg_lambda': 0.00201736961432721, 'reg_alpha': 7.6513346145221925, 'feature_fraction': 0.20153958541245448, 'bagging_fraction': 0.9174506026153658, 'bagging_freq': 7, 'num_leaves': 44, 'min_child_samples': 22}. Best is trial 80 with value: -2.7975346282907663.\u001b[0m\n"
     ]
    },
    {
     "name": "stdout",
     "output_type": "stream",
     "text": [
      "Early stopping, best iteration is:\n",
      "[77]\ttraining's l1: 3.14814\tvalid_1's l1: 2.83576\n",
      "[LightGBM] [Warning] feature_fraction is set=0.2638868142142305, colsample_bytree=0.6 will be ignored. Current value: feature_fraction=0.2638868142142305\n",
      "[LightGBM] [Warning] bagging_fraction is set=0.8987448277149457, subsample=0.9 will be ignored. Current value: bagging_fraction=0.8987448277149457\n",
      "[LightGBM] [Warning] bagging_freq is set=9, subsample_freq=0 will be ignored. Current value: bagging_freq=9\n",
      "Training until validation scores don't improve for 100 rounds\n",
      "[100]\ttraining's l1: 3.17473\tvalid_1's l1: 2.81773\n"
     ]
    },
    {
     "name": "stderr",
     "output_type": "stream",
     "text": [
      "\u001b[32m[I 2021-07-19 22:00:48,078]\u001b[0m Trial 88 finished with value: -2.8107018401682082 and parameters: {'max_depth': 3, 'min_child_weight': 1, 'subsample': 0.9, 'colsample_bytree': 0.6, 'reg_lambda': 0.0011272063951202585, 'reg_alpha': 0.317607256754053, 'feature_fraction': 0.2638868142142305, 'bagging_fraction': 0.8987448277149457, 'bagging_freq': 9, 'num_leaves': 189, 'min_child_samples': 28}. Best is trial 80 with value: -2.7975346282907663.\u001b[0m\n"
     ]
    },
    {
     "name": "stdout",
     "output_type": "stream",
     "text": [
      "Early stopping, best iteration is:\n",
      "[54]\ttraining's l1: 3.2521\tvalid_1's l1: 2.8107\n",
      "[LightGBM] [Warning] feature_fraction is set=0.3161914848728591, colsample_bytree=0.5 will be ignored. Current value: feature_fraction=0.3161914848728591\n",
      "[LightGBM] [Warning] bagging_fraction is set=0.8261829655647319, subsample=0.8 will be ignored. Current value: bagging_fraction=0.8261829655647319\n",
      "[LightGBM] [Warning] bagging_freq is set=8, subsample_freq=0 will be ignored. Current value: bagging_freq=8\n",
      "Training until validation scores don't improve for 100 rounds\n",
      "[100]\ttraining's l1: 2.96112\tvalid_1's l1: 2.8561\n"
     ]
    },
    {
     "name": "stderr",
     "output_type": "stream",
     "text": [
      "\u001b[32m[I 2021-07-19 22:00:49,717]\u001b[0m Trial 89 finished with value: -2.814663249397469 and parameters: {'max_depth': 6, 'min_child_weight': 3, 'subsample': 0.8, 'colsample_bytree': 0.5, 'reg_lambda': 0.004418298327664911, 'reg_alpha': 1.4996171657037427, 'feature_fraction': 0.3161914848728591, 'bagging_fraction': 0.8261829655647319, 'bagging_freq': 8, 'num_leaves': 155, 'min_child_samples': 6}. Best is trial 80 with value: -2.7975346282907663.\u001b[0m\n"
     ]
    },
    {
     "name": "stdout",
     "output_type": "stream",
     "text": [
      "Early stopping, best iteration is:\n",
      "[34]\ttraining's l1: 3.1027\tvalid_1's l1: 2.81466\n",
      "[LightGBM] [Warning] feature_fraction is set=0.33910725949845794, colsample_bytree=0.6 will be ignored. Current value: feature_fraction=0.33910725949845794\n",
      "[LightGBM] [Warning] bagging_fraction is set=0.7813247484671346, subsample=0.7 will be ignored. Current value: bagging_fraction=0.7813247484671346\n",
      "[LightGBM] [Warning] bagging_freq is set=12, subsample_freq=0 will be ignored. Current value: bagging_freq=12\n",
      "Training until validation scores don't improve for 100 rounds\n",
      "[100]\ttraining's l1: 2.90758\tvalid_1's l1: 2.89621\n",
      "Early stopping, best iteration is:\n",
      "[22]\ttraining's l1: 3.14623\tvalid_1's l1: 2.82738\n"
     ]
    },
    {
     "name": "stderr",
     "output_type": "stream",
     "text": [
      "\u001b[32m[I 2021-07-19 22:00:51,341]\u001b[0m Trial 90 finished with value: -2.8273843141856845 and parameters: {'max_depth': 7, 'min_child_weight': 4, 'subsample': 0.7, 'colsample_bytree': 0.6, 'reg_lambda': 0.007686757509547039, 'reg_alpha': 2.92294553383666, 'feature_fraction': 0.33910725949845794, 'bagging_fraction': 0.7813247484671346, 'bagging_freq': 12, 'num_leaves': 101, 'min_child_samples': 19}. Best is trial 80 with value: -2.7975346282907663.\u001b[0m\n"
     ]
    },
    {
     "name": "stdout",
     "output_type": "stream",
     "text": [
      "[LightGBM] [Warning] feature_fraction is set=0.23540041725858496, colsample_bytree=0.6 will be ignored. Current value: feature_fraction=0.23540041725858496\n",
      "[LightGBM] [Warning] bagging_fraction is set=0.8432185196951283, subsample=0.9 will be ignored. Current value: bagging_fraction=0.8432185196951283\n",
      "[LightGBM] [Warning] bagging_freq is set=6, subsample_freq=0 will be ignored. Current value: bagging_freq=6\n",
      "Training until validation scores don't improve for 100 rounds\n",
      "[100]\ttraining's l1: 3.27383\tvalid_1's l1: 2.82571\n",
      "[200]\ttraining's l1: 3.20512\tvalid_1's l1: 2.82185\n"
     ]
    },
    {
     "name": "stderr",
     "output_type": "stream",
     "text": [
      "\u001b[32m[I 2021-07-19 22:00:53,439]\u001b[0m Trial 91 finished with value: -2.8142705718419125 and parameters: {'max_depth': 2, 'min_child_weight': 3, 'subsample': 0.9, 'colsample_bytree': 0.6, 'reg_lambda': 0.0017121756564752201, 'reg_alpha': 2.7904929668164424, 'feature_fraction': 0.23540041725858496, 'bagging_fraction': 0.8432185196951283, 'bagging_freq': 6, 'num_leaves': 32, 'min_child_samples': 12}. Best is trial 80 with value: -2.7975346282907663.\u001b[0m\n"
     ]
    },
    {
     "name": "stdout",
     "output_type": "stream",
     "text": [
      "Early stopping, best iteration is:\n",
      "[149]\ttraining's l1: 3.23215\tvalid_1's l1: 2.81427\n",
      "[LightGBM] [Warning] feature_fraction is set=0.26915628763101385, colsample_bytree=0.6 will be ignored. Current value: feature_fraction=0.26915628763101385\n",
      "[LightGBM] [Warning] bagging_fraction is set=0.8586074997460185, subsample=0.9 will be ignored. Current value: bagging_fraction=0.8586074997460185\n",
      "[LightGBM] [Warning] bagging_freq is set=6, subsample_freq=0 will be ignored. Current value: bagging_freq=6\n",
      "Training until validation scores don't improve for 100 rounds\n",
      "[100]\ttraining's l1: 3.09749\tvalid_1's l1: 2.8363\n"
     ]
    },
    {
     "name": "stderr",
     "output_type": "stream",
     "text": [
      "\u001b[32m[I 2021-07-19 22:00:54,912]\u001b[0m Trial 92 finished with value: -2.8192540147660052 and parameters: {'max_depth': 4, 'min_child_weight': 2, 'subsample': 0.9, 'colsample_bytree': 0.6, 'reg_lambda': 0.003379498660820751, 'reg_alpha': 11.370742688391871, 'feature_fraction': 0.26915628763101385, 'bagging_fraction': 0.8586074997460185, 'bagging_freq': 6, 'num_leaves': 70, 'min_child_samples': 15}. Best is trial 80 with value: -2.7975346282907663.\u001b[0m\n"
     ]
    },
    {
     "name": "stdout",
     "output_type": "stream",
     "text": [
      "Early stopping, best iteration is:\n",
      "[45]\ttraining's l1: 3.20795\tvalid_1's l1: 2.81925\n",
      "[LightGBM] [Warning] feature_fraction is set=0.20003284345602854, colsample_bytree=0.6 will be ignored. Current value: feature_fraction=0.20003284345602854\n",
      "[LightGBM] [Warning] bagging_fraction is set=0.8347931902023942, subsample=0.9 will be ignored. Current value: bagging_fraction=0.8347931902023942\n",
      "[LightGBM] [Warning] bagging_freq is set=4, subsample_freq=0 will be ignored. Current value: bagging_freq=4\n",
      "Training until validation scores don't improve for 100 rounds\n",
      "[100]\ttraining's l1: 3.18861\tvalid_1's l1: 2.82459\n",
      "[200]\ttraining's l1: 3.11064\tvalid_1's l1: 2.83427\n"
     ]
    },
    {
     "name": "stderr",
     "output_type": "stream",
     "text": [
      "\u001b[32m[I 2021-07-19 22:00:56,926]\u001b[0m Trial 93 finished with value: -2.822870412645961 and parameters: {'max_depth': 3, 'min_child_weight': 2, 'subsample': 0.9, 'colsample_bytree': 0.6, 'reg_lambda': 0.002140913485744702, 'reg_alpha': 0.6184051624312964, 'feature_fraction': 0.20003284345602854, 'bagging_fraction': 0.8347931902023942, 'bagging_freq': 4, 'num_leaves': 123, 'min_child_samples': 10}. Best is trial 80 with value: -2.7975346282907663.\u001b[0m\n"
     ]
    },
    {
     "name": "stdout",
     "output_type": "stream",
     "text": [
      "Early stopping, best iteration is:\n",
      "[158]\ttraining's l1: 3.13358\tvalid_1's l1: 2.82287\n",
      "[LightGBM] [Warning] feature_fraction is set=0.23611906544294617, colsample_bytree=0.6 will be ignored. Current value: feature_fraction=0.23611906544294617\n",
      "[LightGBM] [Warning] bagging_fraction is set=0.9453646930525761, subsample=0.9 will be ignored. Current value: bagging_fraction=0.9453646930525761\n",
      "[LightGBM] [Warning] bagging_freq is set=7, subsample_freq=0 will be ignored. Current value: bagging_freq=7\n",
      "Training until validation scores don't improve for 100 rounds\n",
      "[100]\ttraining's l1: 3.27687\tvalid_1's l1: 2.81096\n"
     ]
    },
    {
     "name": "stderr",
     "output_type": "stream",
     "text": [
      "\u001b[32m[I 2021-07-19 22:00:58,676]\u001b[0m Trial 94 finished with value: -2.810959998993206 and parameters: {'max_depth': 2, 'min_child_weight': 1, 'subsample': 0.9, 'colsample_bytree': 0.6, 'reg_lambda': 0.006283488386350082, 'reg_alpha': 3.580632028955521, 'feature_fraction': 0.23611906544294617, 'bagging_fraction': 0.9453646930525761, 'bagging_freq': 7, 'num_leaves': 149, 'min_child_samples': 25}. Best is trial 80 with value: -2.7975346282907663.\u001b[0m\n"
     ]
    },
    {
     "name": "stdout",
     "output_type": "stream",
     "text": [
      "[200]\ttraining's l1: 3.20686\tvalid_1's l1: 2.8159\n",
      "Early stopping, best iteration is:\n",
      "[100]\ttraining's l1: 3.27687\tvalid_1's l1: 2.81096\n",
      "[LightGBM] [Warning] feature_fraction is set=0.2477077639149402, colsample_bytree=0.7 will be ignored. Current value: feature_fraction=0.2477077639149402\n",
      "[LightGBM] [Warning] bagging_fraction is set=0.8080773675376618, subsample=0.9 will be ignored. Current value: bagging_fraction=0.8080773675376618\n",
      "[LightGBM] [Warning] bagging_freq is set=10, subsample_freq=0 will be ignored. Current value: bagging_freq=10\n",
      "Training until validation scores don't improve for 100 rounds\n",
      "[100]\ttraining's l1: 3.18062\tvalid_1's l1: 2.8221\n"
     ]
    },
    {
     "name": "stderr",
     "output_type": "stream",
     "text": [
      "\u001b[32m[I 2021-07-19 22:01:00,140]\u001b[0m Trial 95 finished with value: -2.8183850589984365 and parameters: {'max_depth': 3, 'min_child_weight': 3, 'subsample': 0.9, 'colsample_bytree': 0.7, 'reg_lambda': 0.00134995335510828, 'reg_alpha': 22.685197486623757, 'feature_fraction': 0.2477077639149402, 'bagging_fraction': 0.8080773675376618, 'bagging_freq': 10, 'num_leaves': 229, 'min_child_samples': 16}. Best is trial 80 with value: -2.7975346282907663.\u001b[0m\n"
     ]
    },
    {
     "name": "stdout",
     "output_type": "stream",
     "text": [
      "Early stopping, best iteration is:\n",
      "[72]\ttraining's l1: 3.22427\tvalid_1's l1: 2.81839\n",
      "[LightGBM] [Warning] feature_fraction is set=0.28027553000322913, colsample_bytree=0.6 will be ignored. Current value: feature_fraction=0.28027553000322913\n",
      "[LightGBM] [Warning] bagging_fraction is set=0.8768224135225421, subsample=0.9 will be ignored. Current value: bagging_fraction=0.8768224135225421\n",
      "[LightGBM] [Warning] bagging_freq is set=5, subsample_freq=0 will be ignored. Current value: bagging_freq=5\n",
      "Training until validation scores don't improve for 100 rounds\n",
      "[100]\ttraining's l1: 3.02462\tvalid_1's l1: 2.85355\n"
     ]
    },
    {
     "name": "stderr",
     "output_type": "stream",
     "text": [
      "\u001b[32m[I 2021-07-19 22:01:01,695]\u001b[0m Trial 96 finished with value: -2.810971569339388 and parameters: {'max_depth': 5, 'min_child_weight': 1, 'subsample': 0.9, 'colsample_bytree': 0.6, 'reg_lambda': 0.005402770713256197, 'reg_alpha': 1.7714579866402616, 'feature_fraction': 0.28027553000322913, 'bagging_fraction': 0.8768224135225421, 'bagging_freq': 5, 'num_leaves': 192, 'min_child_samples': 20}. Best is trial 80 with value: -2.7975346282907663.\u001b[0m\n"
     ]
    },
    {
     "name": "stdout",
     "output_type": "stream",
     "text": [
      "Early stopping, best iteration is:\n",
      "[39]\ttraining's l1: 3.14936\tvalid_1's l1: 2.81097\n",
      "[LightGBM] [Warning] feature_fraction is set=0.2158215418168412, colsample_bytree=0.6 will be ignored. Current value: feature_fraction=0.2158215418168412\n",
      "[LightGBM] [Warning] bagging_fraction is set=0.9070082859254305, subsample=0.7 will be ignored. Current value: bagging_fraction=0.9070082859254305\n",
      "[LightGBM] [Warning] bagging_freq is set=8, subsample_freq=0 will be ignored. Current value: bagging_freq=8\n",
      "Training until validation scores don't improve for 100 rounds\n",
      "[100]\ttraining's l1: 3.38777\tvalid_1's l1: 2.8379\n",
      "[200]\ttraining's l1: 3.32603\tvalid_1's l1: 2.82709\n",
      "[300]\ttraining's l1: 3.29476\tvalid_1's l1: 2.81985\n",
      "[400]\ttraining's l1: 3.27756\tvalid_1's l1: 2.82286\n"
     ]
    },
    {
     "name": "stderr",
     "output_type": "stream",
     "text": [
      "\u001b[32m[I 2021-07-19 22:01:04,892]\u001b[0m Trial 97 finished with value: -2.816678291591842 and parameters: {'max_depth': 1, 'min_child_weight': 4, 'subsample': 0.7, 'colsample_bytree': 0.6, 'reg_lambda': 0.0010452184754600373, 'reg_alpha': 4.711291541275213, 'feature_fraction': 0.2158215418168412, 'bagging_fraction': 0.9070082859254305, 'bagging_freq': 8, 'num_leaves': 92, 'min_child_samples': 13}. Best is trial 80 with value: -2.7975346282907663.\u001b[0m\n"
     ]
    },
    {
     "name": "stdout",
     "output_type": "stream",
     "text": [
      "Early stopping, best iteration is:\n",
      "[378]\ttraining's l1: 3.28098\tvalid_1's l1: 2.8167\n",
      "[LightGBM] [Warning] feature_fraction is set=0.6995175647847949, colsample_bytree=0.7 will be ignored. Current value: feature_fraction=0.6995175647847949\n",
      "[LightGBM] [Warning] bagging_fraction is set=0.9287587667933801, subsample=0.8 will be ignored. Current value: bagging_fraction=0.9287587667933801\n",
      "[LightGBM] [Warning] bagging_freq is set=9, subsample_freq=0 will be ignored. Current value: bagging_freq=9\n",
      "Training until validation scores don't improve for 100 rounds\n",
      "[100]\ttraining's l1: 3.08289\tvalid_1's l1: 2.83465\n"
     ]
    },
    {
     "name": "stderr",
     "output_type": "stream",
     "text": [
      "\u001b[32m[I 2021-07-19 22:01:06,302]\u001b[0m Trial 98 finished with value: -2.818094759046672 and parameters: {'max_depth': 4, 'min_child_weight': 3, 'subsample': 0.8, 'colsample_bytree': 0.7, 'reg_lambda': 0.002595746256885555, 'reg_alpha': 1.1267787206709488, 'feature_fraction': 0.6995175647847949, 'bagging_fraction': 0.9287587667933801, 'bagging_freq': 9, 'num_leaves': 594, 'min_child_samples': 7}. Best is trial 80 with value: -2.7975346282907663.\u001b[0m\n"
     ]
    },
    {
     "name": "stdout",
     "output_type": "stream",
     "text": [
      "Early stopping, best iteration is:\n",
      "[36]\ttraining's l1: 3.22263\tvalid_1's l1: 2.81809\n",
      "[LightGBM] [Warning] feature_fraction is set=0.6701663780971546, colsample_bytree=0.6 will be ignored. Current value: feature_fraction=0.6701663780971546\n",
      "[LightGBM] [Warning] bagging_fraction is set=0.7609490044810651, subsample=0.9 will be ignored. Current value: bagging_fraction=0.7609490044810651\n",
      "[LightGBM] [Warning] bagging_freq is set=3, subsample_freq=0 will be ignored. Current value: bagging_freq=3\n",
      "Training until validation scores don't improve for 100 rounds\n",
      "[100]\ttraining's l1: 3.11277\tvalid_1's l1: 2.83648\n"
     ]
    },
    {
     "name": "stderr",
     "output_type": "stream",
     "text": [
      "\u001b[32m[I 2021-07-19 22:01:07,824]\u001b[0m Trial 99 finished with value: -2.8209644699855603 and parameters: {'max_depth': 5, 'min_child_weight': 2, 'subsample': 0.9, 'colsample_bytree': 0.6, 'reg_lambda': 0.019201685917001745, 'reg_alpha': 2.5093516949996455, 'feature_fraction': 0.6701663780971546, 'bagging_fraction': 0.7609490044810651, 'bagging_freq': 3, 'num_leaves': 11, 'min_child_samples': 11}. Best is trial 80 with value: -2.7975346282907663.\u001b[0m\n",
      "\u001b[32m[I 2021-07-19 22:01:07,824]\u001b[0m A new study created in memory with name: no-name-3e2e2726-dd6b-4b86-a6ee-994d41a649ab\u001b[0m\n"
     ]
    },
    {
     "name": "stdout",
     "output_type": "stream",
     "text": [
      "Early stopping, best iteration is:\n",
      "[56]\ttraining's l1: 3.18654\tvalid_1's l1: 2.82096\n",
      "[LightGBM] [Warning] feature_fraction is set=0.9855171072988558, colsample_bytree=0.6 will be ignored. Current value: feature_fraction=0.9855171072988558\n",
      "[LightGBM] [Warning] bagging_fraction is set=0.978261187602568, subsample=0.7 will be ignored. Current value: bagging_fraction=0.978261187602568\n",
      "[LightGBM] [Warning] bagging_freq is set=19, subsample_freq=0 will be ignored. Current value: bagging_freq=19\n",
      "Training until validation scores don't improve for 100 rounds\n",
      "[100]\ttraining's l1: 2.66151\tvalid_1's l1: 1.94376\n",
      "[200]\ttraining's l1: 2.65172\tvalid_1's l1: 1.94009\n"
     ]
    },
    {
     "name": "stderr",
     "output_type": "stream",
     "text": [
      "\u001b[32m[I 2021-07-19 22:01:10,372]\u001b[0m Trial 0 finished with value: -1.9394950815633947 and parameters: {'max_depth': 7, 'min_child_weight': 1, 'subsample': 0.7, 'colsample_bytree': 0.6, 'reg_lambda': 423.67121608230553, 'reg_alpha': 540.7897733797768, 'feature_fraction': 0.9855171072988558, 'bagging_fraction': 0.978261187602568, 'bagging_freq': 19, 'num_leaves': 383, 'min_child_samples': 51}. Best is trial 0 with value: -1.9394950815633947.\u001b[0m\n"
     ]
    },
    {
     "name": "stdout",
     "output_type": "stream",
     "text": [
      "Early stopping, best iteration is:\n",
      "[176]\ttraining's l1: 2.65261\tvalid_1's l1: 1.93978\n",
      "[LightGBM] [Warning] feature_fraction is set=0.38055263181930804, colsample_bytree=0.7 will be ignored. Current value: feature_fraction=0.38055263181930804\n",
      "[LightGBM] [Warning] bagging_fraction is set=0.2576407459230068, subsample=0.5 will be ignored. Current value: bagging_fraction=0.2576407459230068\n",
      "[LightGBM] [Warning] bagging_freq is set=8, subsample_freq=0 will be ignored. Current value: bagging_freq=8\n",
      "Training until validation scores don't improve for 100 rounds\n",
      "[100]\ttraining's l1: 2.58007\tvalid_1's l1: 1.9456\n"
     ]
    },
    {
     "name": "stderr",
     "output_type": "stream",
     "text": [
      "\u001b[32m[I 2021-07-19 22:01:12,452]\u001b[0m Trial 1 finished with value: -1.9150546997044884 and parameters: {'max_depth': 19, 'min_child_weight': 9, 'subsample': 0.5, 'colsample_bytree': 0.7, 'reg_lambda': 1.0531366201869765, 'reg_alpha': 0.004939222556922861, 'feature_fraction': 0.38055263181930804, 'bagging_fraction': 0.2576407459230068, 'bagging_freq': 8, 'num_leaves': 254, 'min_child_samples': 74}. Best is trial 1 with value: -1.9150546997044884.\u001b[0m\n"
     ]
    },
    {
     "name": "stdout",
     "output_type": "stream",
     "text": [
      "Early stopping, best iteration is:\n",
      "[17]\ttraining's l1: 2.64904\tvalid_1's l1: 1.91507\n",
      "[LightGBM] [Warning] feature_fraction is set=0.7718951125869473, colsample_bytree=0.6 will be ignored. Current value: feature_fraction=0.7718951125869473\n",
      "[LightGBM] [Warning] bagging_fraction is set=0.2920193161108167, subsample=0.7 will be ignored. Current value: bagging_fraction=0.2920193161108167\n",
      "[LightGBM] [Warning] bagging_freq is set=13, subsample_freq=0 will be ignored. Current value: bagging_freq=13\n",
      "Training until validation scores don't improve for 100 rounds\n",
      "[100]\ttraining's l1: 2.60248\tvalid_1's l1: 1.95266\n"
     ]
    },
    {
     "name": "stderr",
     "output_type": "stream",
     "text": [
      "\u001b[32m[I 2021-07-19 22:01:13,919]\u001b[0m Trial 2 finished with value: -1.9348889745958417 and parameters: {'max_depth': 9, 'min_child_weight': 10, 'subsample': 0.7, 'colsample_bytree': 0.6, 'reg_lambda': 542.1258320863991, 'reg_alpha': 0.05089097608407109, 'feature_fraction': 0.7718951125869473, 'bagging_fraction': 0.2920193161108167, 'bagging_freq': 13, 'num_leaves': 825, 'min_child_samples': 65}. Best is trial 1 with value: -1.9150546997044884.\u001b[0m\n"
     ]
    },
    {
     "name": "stdout",
     "output_type": "stream",
     "text": [
      "Early stopping, best iteration is:\n",
      "[29]\ttraining's l1: 2.65106\tvalid_1's l1: 1.93493\n",
      "[LightGBM] [Warning] feature_fraction is set=0.3719414048474621, colsample_bytree=0.7 will be ignored. Current value: feature_fraction=0.3719414048474621\n",
      "[LightGBM] [Warning] bagging_fraction is set=0.667633516015751, subsample=0.5 will be ignored. Current value: bagging_fraction=0.667633516015751\n",
      "[LightGBM] [Warning] bagging_freq is set=17, subsample_freq=0 will be ignored. Current value: bagging_freq=17\n",
      "Training until validation scores don't improve for 100 rounds\n",
      "[100]\ttraining's l1: 2.61239\tvalid_1's l1: 1.90772\n"
     ]
    },
    {
     "name": "stderr",
     "output_type": "stream",
     "text": [
      "\u001b[32m[I 2021-07-19 22:01:15,542]\u001b[0m Trial 3 finished with value: -1.9060384394816217 and parameters: {'max_depth': 5, 'min_child_weight': 16, 'subsample': 0.5, 'colsample_bytree': 0.7, 'reg_lambda': 0.23901292377080638, 'reg_alpha': 1.3612692036712495, 'feature_fraction': 0.3719414048474621, 'bagging_fraction': 0.667633516015751, 'bagging_freq': 17, 'num_leaves': 429, 'min_child_samples': 28}. Best is trial 3 with value: -1.9060384394816217.\u001b[0m\n"
     ]
    },
    {
     "name": "stdout",
     "output_type": "stream",
     "text": [
      "Early stopping, best iteration is:\n",
      "[77]\ttraining's l1: 2.61885\tvalid_1's l1: 1.90607\n",
      "[LightGBM] [Warning] feature_fraction is set=0.7970967920259697, colsample_bytree=0.5 will be ignored. Current value: feature_fraction=0.7970967920259697\n",
      "[LightGBM] [Warning] bagging_fraction is set=0.5611901761820968, subsample=0.7 will be ignored. Current value: bagging_fraction=0.5611901761820968\n",
      "[LightGBM] [Warning] bagging_freq is set=1, subsample_freq=0 will be ignored. Current value: bagging_freq=1\n",
      "Training until validation scores don't improve for 100 rounds\n",
      "[100]\ttraining's l1: 2.48819\tvalid_1's l1: 1.96082\n"
     ]
    },
    {
     "name": "stderr",
     "output_type": "stream",
     "text": [
      "\u001b[32m[I 2021-07-19 22:01:19,295]\u001b[0m Trial 4 finished with value: -1.9184321014187746 and parameters: {'max_depth': 18, 'min_child_weight': 8, 'subsample': 0.7, 'colsample_bytree': 0.5, 'reg_lambda': 0.00740095354797222, 'reg_alpha': 5.307682192353681, 'feature_fraction': 0.7970967920259697, 'bagging_fraction': 0.5611901761820968, 'bagging_freq': 1, 'num_leaves': 441, 'min_child_samples': 30}. Best is trial 3 with value: -1.9060384394816217.\u001b[0m\n"
     ]
    },
    {
     "name": "stdout",
     "output_type": "stream",
     "text": [
      "Early stopping, best iteration is:\n",
      "[18]\ttraining's l1: 2.60528\tvalid_1's l1: 1.91844\n",
      "[LightGBM] [Warning] feature_fraction is set=0.9554551631256094, colsample_bytree=0.8 will be ignored. Current value: feature_fraction=0.9554551631256094\n",
      "[LightGBM] [Warning] bagging_fraction is set=0.570895397556743, subsample=0.7 will be ignored. Current value: bagging_fraction=0.570895397556743\n",
      "[LightGBM] [Warning] bagging_freq is set=16, subsample_freq=0 will be ignored. Current value: bagging_freq=16\n",
      "Training until validation scores don't improve for 100 rounds\n",
      "[100]\ttraining's l1: 2.52781\tvalid_1's l1: 1.92609\n"
     ]
    },
    {
     "name": "stderr",
     "output_type": "stream",
     "text": [
      "\u001b[32m[I 2021-07-19 22:01:21,577]\u001b[0m Trial 5 finished with value: -1.901329995008408 and parameters: {'max_depth': 9, 'min_child_weight': 10, 'subsample': 0.7, 'colsample_bytree': 0.8, 'reg_lambda': 0.004327139781617074, 'reg_alpha': 0.12862488778333128, 'feature_fraction': 0.9554551631256094, 'bagging_fraction': 0.570895397556743, 'bagging_freq': 16, 'num_leaves': 673, 'min_child_samples': 56}. Best is trial 5 with value: -1.901329995008408.\u001b[0m\n"
     ]
    },
    {
     "name": "stdout",
     "output_type": "stream",
     "text": [
      "Early stopping, best iteration is:\n",
      "[24]\ttraining's l1: 2.58242\tvalid_1's l1: 1.90135\n",
      "[LightGBM] [Warning] feature_fraction is set=0.4509444439448256, colsample_bytree=0.7 will be ignored. Current value: feature_fraction=0.4509444439448256\n",
      "[LightGBM] [Warning] bagging_fraction is set=0.45568655463258073, subsample=0.9 will be ignored. Current value: bagging_fraction=0.45568655463258073\n",
      "[LightGBM] [Warning] bagging_freq is set=18, subsample_freq=0 will be ignored. Current value: bagging_freq=18\n",
      "Training until validation scores don't improve for 100 rounds\n",
      "[100]\ttraining's l1: 2.61229\tvalid_1's l1: 1.90888\n"
     ]
    },
    {
     "name": "stderr",
     "output_type": "stream",
     "text": [
      "\u001b[32m[I 2021-07-19 22:01:22,908]\u001b[0m Trial 6 finished with value: -1.9039126534839894 and parameters: {'max_depth': 5, 'min_child_weight': 1, 'subsample': 0.9, 'colsample_bytree': 0.7, 'reg_lambda': 0.578787602153608, 'reg_alpha': 0.05322818175983052, 'feature_fraction': 0.4509444439448256, 'bagging_fraction': 0.45568655463258073, 'bagging_freq': 18, 'num_leaves': 529, 'min_child_samples': 32}. Best is trial 5 with value: -1.901329995008408.\u001b[0m\n"
     ]
    },
    {
     "name": "stdout",
     "output_type": "stream",
     "text": [
      "Early stopping, best iteration is:\n",
      "[61]\ttraining's l1: 2.63032\tvalid_1's l1: 1.90396\n",
      "[LightGBM] [Warning] feature_fraction is set=0.21344088656886395, colsample_bytree=0.7 will be ignored. Current value: feature_fraction=0.21344088656886395\n",
      "[LightGBM] [Warning] bagging_fraction is set=0.25070251067731486, subsample=0.9 will be ignored. Current value: bagging_fraction=0.25070251067731486\n",
      "[LightGBM] [Warning] bagging_freq is set=18, subsample_freq=0 will be ignored. Current value: bagging_freq=18\n",
      "Training until validation scores don't improve for 100 rounds\n",
      "[100]\ttraining's l1: 2.56478\tvalid_1's l1: 2.01959\n"
     ]
    },
    {
     "name": "stderr",
     "output_type": "stream",
     "text": [
      "\u001b[32m[I 2021-07-19 22:01:25,275]\u001b[0m Trial 7 finished with value: -1.9535706306935843 and parameters: {'max_depth': 19, 'min_child_weight': 4, 'subsample': 0.9, 'colsample_bytree': 0.7, 'reg_lambda': 0.3426065242767172, 'reg_alpha': 7.379329159905202, 'feature_fraction': 0.21344088656886395, 'bagging_fraction': 0.25070251067731486, 'bagging_freq': 18, 'num_leaves': 468, 'min_child_samples': 13}. Best is trial 5 with value: -1.901329995008408.\u001b[0m\n"
     ]
    },
    {
     "name": "stdout",
     "output_type": "stream",
     "text": [
      "Early stopping, best iteration is:\n",
      "[13]\ttraining's l1: 2.66536\tvalid_1's l1: 1.95357\n",
      "[LightGBM] [Warning] feature_fraction is set=0.501814604868301, colsample_bytree=0.6 will be ignored. Current value: feature_fraction=0.501814604868301\n",
      "[LightGBM] [Warning] bagging_fraction is set=0.76170891197971, subsample=0.5 will be ignored. Current value: bagging_fraction=0.76170891197971\n",
      "[LightGBM] [Warning] bagging_freq is set=12, subsample_freq=0 will be ignored. Current value: bagging_freq=12\n",
      "Training until validation scores don't improve for 100 rounds\n",
      "[100]\ttraining's l1: 2.57689\tvalid_1's l1: 1.93145\n"
     ]
    },
    {
     "name": "stderr",
     "output_type": "stream",
     "text": [
      "\u001b[32m[I 2021-07-19 22:01:27,644]\u001b[0m Trial 8 finished with value: -1.9171219975452969 and parameters: {'max_depth': 17, 'min_child_weight': 5, 'subsample': 0.5, 'colsample_bytree': 0.6, 'reg_lambda': 7.8006870543250395, 'reg_alpha': 19.229881808364453, 'feature_fraction': 0.501814604868301, 'bagging_fraction': 0.76170891197971, 'bagging_freq': 12, 'num_leaves': 123, 'min_child_samples': 88}. Best is trial 5 with value: -1.901329995008408.\u001b[0m\n"
     ]
    },
    {
     "name": "stdout",
     "output_type": "stream",
     "text": [
      "Early stopping, best iteration is:\n",
      "[18]\ttraining's l1: 2.65353\tvalid_1's l1: 1.91712\n",
      "[LightGBM] [Warning] feature_fraction is set=0.9758805503357528, colsample_bytree=0.7 will be ignored. Current value: feature_fraction=0.9758805503357528\n",
      "[LightGBM] [Warning] bagging_fraction is set=0.6869647799847434, subsample=0.9 will be ignored. Current value: bagging_fraction=0.6869647799847434\n",
      "[LightGBM] [Warning] bagging_freq is set=4, subsample_freq=0 will be ignored. Current value: bagging_freq=4\n",
      "Training until validation scores don't improve for 100 rounds\n",
      "[100]\ttraining's l1: 2.68191\tvalid_1's l1: 1.91768\n",
      "[200]\ttraining's l1: 2.66399\tvalid_1's l1: 1.90208\n",
      "[300]\ttraining's l1: 2.65887\tvalid_1's l1: 1.90139\n",
      "[400]\ttraining's l1: 2.65299\tvalid_1's l1: 1.89888\n",
      "[500]\ttraining's l1: 2.65097\tvalid_1's l1: 1.89896\n",
      "[600]\ttraining's l1: 2.6448\tvalid_1's l1: 1.89627\n",
      "[700]\ttraining's l1: 2.64153\tvalid_1's l1: 1.89487\n",
      "[800]\ttraining's l1: 2.63889\tvalid_1's l1: 1.895\n",
      "Early stopping, best iteration is:\n",
      "[734]\ttraining's l1: 2.64058\tvalid_1's l1: 1.89425\n"
     ]
    },
    {
     "name": "stderr",
     "output_type": "stream",
     "text": [
      "\u001b[32m[I 2021-07-19 22:01:32,489]\u001b[0m Trial 9 finished with value: -1.894006690434615 and parameters: {'max_depth': 2, 'min_child_weight': 19, 'subsample': 0.9, 'colsample_bytree': 0.7, 'reg_lambda': 0.03083266952446153, 'reg_alpha': 0.03802567028147519, 'feature_fraction': 0.9758805503357528, 'bagging_fraction': 0.6869647799847434, 'bagging_freq': 4, 'num_leaves': 597, 'min_child_samples': 69}. Best is trial 9 with value: -1.894006690434615.\u001b[0m\n"
     ]
    },
    {
     "name": "stdout",
     "output_type": "stream",
     "text": [
      "[LightGBM] [Warning] feature_fraction is set=0.708454200858643, colsample_bytree=0.9 will be ignored. Current value: feature_fraction=0.708454200858643\n",
      "[LightGBM] [Warning] bagging_fraction is set=0.9088582477543575, subsample=0.8 will be ignored. Current value: bagging_fraction=0.9088582477543575\n",
      "[LightGBM] [Warning] bagging_freq is set=3, subsample_freq=0 will be ignored. Current value: bagging_freq=3\n",
      "Training until validation scores don't improve for 100 rounds\n",
      "[100]\ttraining's l1: 2.7178\tvalid_1's l1: 1.94408\n",
      "[200]\ttraining's l1: 2.70625\tvalid_1's l1: 1.93352\n",
      "[300]\ttraining's l1: 2.70327\tvalid_1's l1: 1.9294\n",
      "[400]\ttraining's l1: 2.7005\tvalid_1's l1: 1.92872\n",
      "[500]\ttraining's l1: 2.69891\tvalid_1's l1: 1.92661\n",
      "[600]\ttraining's l1: 2.69699\tvalid_1's l1: 1.92515\n",
      "[700]\ttraining's l1: 2.6964\tvalid_1's l1: 1.92526\n",
      "[800]\ttraining's l1: 2.69593\tvalid_1's l1: 1.92497\n",
      "[900]\ttraining's l1: 2.69551\tvalid_1's l1: 1.92385\n",
      "[1000]\ttraining's l1: 2.69511\tvalid_1's l1: 1.92409\n",
      "Early stopping, best iteration is:\n",
      "[938]\ttraining's l1: 2.69538\tvalid_1's l1: 1.92365\n"
     ]
    },
    {
     "name": "stderr",
     "output_type": "stream",
     "text": [
      "\u001b[32m[I 2021-07-19 22:01:38,537]\u001b[0m Trial 10 finished with value: -1.9235839189348032 and parameters: {'max_depth': 1, 'min_child_weight': 19, 'subsample': 0.8, 'colsample_bytree': 0.9, 'reg_lambda': 0.016646118582765886, 'reg_alpha': 0.0029038635874043734, 'feature_fraction': 0.708454200858643, 'bagging_fraction': 0.9088582477543575, 'bagging_freq': 3, 'num_leaves': 996, 'min_child_samples': 97}. Best is trial 9 with value: -1.894006690434615.\u001b[0m\n"
     ]
    },
    {
     "name": "stdout",
     "output_type": "stream",
     "text": [
      "[LightGBM] [Warning] feature_fraction is set=0.9609045052534443, colsample_bytree=0.9 will be ignored. Current value: feature_fraction=0.9609045052534443\n",
      "[LightGBM] [Warning] bagging_fraction is set=0.7994628410661393, subsample=0.6 will be ignored. Current value: bagging_fraction=0.7994628410661393\n",
      "[LightGBM] [Warning] bagging_freq is set=6, subsample_freq=0 will be ignored. Current value: bagging_freq=6\n",
      "Training until validation scores don't improve for 100 rounds\n",
      "[100]\ttraining's l1: 2.43053\tvalid_1's l1: 1.94833\n"
     ]
    },
    {
     "name": "stderr",
     "output_type": "stream",
     "text": [
      "\u001b[32m[I 2021-07-19 22:01:43,540]\u001b[0m Trial 11 finished with value: -1.9076015581544576 and parameters: {'max_depth': 14, 'min_child_weight': 14, 'subsample': 0.6, 'colsample_bytree': 0.9, 'reg_lambda': 0.0013560616571204446, 'reg_alpha': 0.0981320791910082, 'feature_fraction': 0.9609045052534443, 'bagging_fraction': 0.7994628410661393, 'bagging_freq': 6, 'num_leaves': 729, 'min_child_samples': 57}. Best is trial 9 with value: -1.894006690434615.\u001b[0m\n"
     ]
    },
    {
     "name": "stdout",
     "output_type": "stream",
     "text": [
      "Early stopping, best iteration is:\n",
      "[21]\ttraining's l1: 2.55041\tvalid_1's l1: 1.90766\n",
      "[LightGBM] [Warning] feature_fraction is set=0.9017614349997155, colsample_bytree=0.8 will be ignored. Current value: feature_fraction=0.9017614349997155\n",
      "[LightGBM] [Warning] bagging_fraction is set=0.4674386622059377, subsample=0.8 will be ignored. Current value: bagging_fraction=0.4674386622059377\n",
      "[LightGBM] [Warning] bagging_freq is set=14, subsample_freq=0 will be ignored. Current value: bagging_freq=14\n",
      "Training until validation scores don't improve for 100 rounds\n",
      "[100]\ttraining's l1: 2.68073\tvalid_1's l1: 1.91792\n",
      "[200]\ttraining's l1: 2.66648\tvalid_1's l1: 1.91024\n"
     ]
    },
    {
     "name": "stderr",
     "output_type": "stream",
     "text": [
      "\u001b[32m[I 2021-07-19 22:01:45,068]\u001b[0m Trial 12 finished with value: -1.908313366647834 and parameters: {'max_depth': 2, 'min_child_weight': 14, 'subsample': 0.8, 'colsample_bytree': 0.8, 'reg_lambda': 0.0010922130790180058, 'reg_alpha': 0.15412660288013472, 'feature_fraction': 0.9017614349997155, 'bagging_fraction': 0.4674386622059377, 'bagging_freq': 14, 'num_leaves': 678, 'min_child_samples': 81}. Best is trial 9 with value: -1.894006690434615.\u001b[0m\n"
     ]
    },
    {
     "name": "stdout",
     "output_type": "stream",
     "text": [
      "[300]\ttraining's l1: 2.66169\tvalid_1's l1: 1.90979\n",
      "Early stopping, best iteration is:\n",
      "[231]\ttraining's l1: 2.6644\tvalid_1's l1: 1.90842\n",
      "[LightGBM] [Warning] feature_fraction is set=0.861664975901212, colsample_bytree=0.8 will be ignored. Current value: feature_fraction=0.861664975901212\n",
      "[LightGBM] [Warning] bagging_fraction is set=0.6077207296909481, subsample=0.8 will be ignored. Current value: bagging_fraction=0.6077207296909481\n",
      "[LightGBM] [Warning] bagging_freq is set=9, subsample_freq=0 will be ignored. Current value: bagging_freq=9\n",
      "Training until validation scores don't improve for 100 rounds\n",
      "[100]\ttraining's l1: 2.4608\tvalid_1's l1: 1.96296\n"
     ]
    },
    {
     "name": "stderr",
     "output_type": "stream",
     "text": [
      "\u001b[32m[I 2021-07-19 22:01:48,235]\u001b[0m Trial 13 finished with value: -1.9103646917469095 and parameters: {'max_depth': 12, 'min_child_weight': 20, 'subsample': 0.8, 'colsample_bytree': 0.8, 'reg_lambda': 0.021807611418384325, 'reg_alpha': 0.01031964194172197, 'feature_fraction': 0.861664975901212, 'bagging_fraction': 0.6077207296909481, 'bagging_freq': 9, 'num_leaves': 637, 'min_child_samples': 45}. Best is trial 9 with value: -1.894006690434615.\u001b[0m\n"
     ]
    },
    {
     "name": "stdout",
     "output_type": "stream",
     "text": [
      "Early stopping, best iteration is:\n",
      "[19]\ttraining's l1: 2.56753\tvalid_1's l1: 1.91039\n",
      "[LightGBM] [Warning] feature_fraction is set=0.6499993641390034, colsample_bytree=0.8 will be ignored. Current value: feature_fraction=0.6499993641390034\n",
      "[LightGBM] [Warning] bagging_fraction is set=0.43217453778201415, subsample=0.6 will be ignored. Current value: bagging_fraction=0.43217453778201415\n",
      "[LightGBM] [Warning] bagging_freq is set=4, subsample_freq=0 will be ignored. Current value: bagging_freq=4\n",
      "Training until validation scores don't improve for 100 rounds\n",
      "[100]\ttraining's l1: 2.65511\tvalid_1's l1: 1.90882\n",
      "[200]\ttraining's l1: 2.64031\tvalid_1's l1: 1.90539\n"
     ]
    },
    {
     "name": "stderr",
     "output_type": "stream",
     "text": [
      "\u001b[32m[I 2021-07-19 22:01:50,084]\u001b[0m Trial 14 finished with value: -1.902299779232098 and parameters: {'max_depth': 3, 'min_child_weight': 13, 'subsample': 0.6, 'colsample_bytree': 0.8, 'reg_lambda': 0.05131061465066202, 'reg_alpha': 0.7112364315401499, 'feature_fraction': 0.6499993641390034, 'bagging_fraction': 0.43217453778201415, 'bagging_freq': 4, 'num_leaves': 901, 'min_child_samples': 68}. Best is trial 9 with value: -1.894006690434615.\u001b[0m\n"
     ]
    },
    {
     "name": "stdout",
     "output_type": "stream",
     "text": [
      "[300]\ttraining's l1: 2.62887\tvalid_1's l1: 1.90448\n",
      "Early stopping, best iteration is:\n",
      "[215]\ttraining's l1: 2.63745\tvalid_1's l1: 1.90244\n",
      "[LightGBM] [Warning] feature_fraction is set=0.9905899873924454, colsample_bytree=0.8 will be ignored. Current value: feature_fraction=0.9905899873924454\n",
      "[LightGBM] [Warning] bagging_fraction is set=0.7272666858289301, subsample=0.6 will be ignored. Current value: bagging_fraction=0.7272666858289301\n",
      "[LightGBM] [Warning] bagging_freq is set=15, subsample_freq=0 will be ignored. Current value: bagging_freq=15\n",
      "Training until validation scores don't improve for 100 rounds\n",
      "[100]\ttraining's l1: 2.44994\tvalid_1's l1: 1.94243\n"
     ]
    },
    {
     "name": "stderr",
     "output_type": "stream",
     "text": [
      "\u001b[32m[I 2021-07-19 22:01:53,902]\u001b[0m Trial 15 finished with value: -1.9024806219178443 and parameters: {'max_depth': 12, 'min_child_weight': 17, 'subsample': 0.6, 'colsample_bytree': 0.8, 'reg_lambda': 0.004567167521390897, 'reg_alpha': 0.011356526037568619, 'feature_fraction': 0.9905899873924454, 'bagging_fraction': 0.7272666858289301, 'bagging_freq': 15, 'num_leaves': 612, 'min_child_samples': 44}. Best is trial 9 with value: -1.894006690434615.\u001b[0m\n"
     ]
    },
    {
     "name": "stdout",
     "output_type": "stream",
     "text": [
      "Early stopping, best iteration is:\n",
      "[17]\ttraining's l1: 2.57448\tvalid_1's l1: 1.90249\n",
      "[LightGBM] [Warning] feature_fraction is set=0.8748551903764173, colsample_bytree=0.9 will be ignored. Current value: feature_fraction=0.8748551903764173\n",
      "[LightGBM] [Warning] bagging_fraction is set=0.871510367372772, subsample=0.8 will be ignored. Current value: bagging_fraction=0.871510367372772\n",
      "[LightGBM] [Warning] bagging_freq is set=10, subsample_freq=0 will be ignored. Current value: bagging_freq=10\n",
      "Training until validation scores don't improve for 100 rounds\n",
      "[100]\ttraining's l1: 2.50578\tvalid_1's l1: 1.92152\n"
     ]
    },
    {
     "name": "stderr",
     "output_type": "stream",
     "text": [
      "\u001b[32m[I 2021-07-19 22:01:56,897]\u001b[0m Trial 16 finished with value: -1.9004604448416913 and parameters: {'max_depth': 9, 'min_child_weight': 11, 'subsample': 0.8, 'colsample_bytree': 0.9, 'reg_lambda': 8.582838483988679, 'reg_alpha': 0.5559966958822045, 'feature_fraction': 0.8748551903764173, 'bagging_fraction': 0.871510367372772, 'bagging_freq': 10, 'num_leaves': 796, 'min_child_samples': 63}. Best is trial 9 with value: -1.894006690434615.\u001b[0m\n"
     ]
    },
    {
     "name": "stdout",
     "output_type": "stream",
     "text": [
      "Early stopping, best iteration is:\n",
      "[37]\ttraining's l1: 2.56057\tvalid_1's l1: 1.90048\n",
      "[LightGBM] [Warning] feature_fraction is set=0.8409757316413191, colsample_bytree=0.5 will be ignored. Current value: feature_fraction=0.8409757316413191\n",
      "[LightGBM] [Warning] bagging_fraction is set=0.8712512996583516, subsample=0.9 will be ignored. Current value: bagging_fraction=0.8712512996583516\n",
      "[LightGBM] [Warning] bagging_freq is set=10, subsample_freq=0 will be ignored. Current value: bagging_freq=10\n",
      "Training until validation scores don't improve for 100 rounds\n",
      "[100]\ttraining's l1: 2.62456\tvalid_1's l1: 1.93184\n"
     ]
    },
    {
     "name": "stderr",
     "output_type": "stream",
     "text": [
      "\u001b[32m[I 2021-07-19 22:01:58,574]\u001b[0m Trial 17 finished with value: -1.9296526788596877 and parameters: {'max_depth': 5, 'min_child_weight': 6, 'subsample': 0.9, 'colsample_bytree': 0.5, 'reg_lambda': 9.452981211188717, 'reg_alpha': 150.7093572415528, 'feature_fraction': 0.8409757316413191, 'bagging_fraction': 0.8712512996583516, 'bagging_freq': 10, 'num_leaves': 826, 'min_child_samples': 99}. Best is trial 9 with value: -1.894006690434615.\u001b[0m\n"
     ]
    },
    {
     "name": "stdout",
     "output_type": "stream",
     "text": [
      "Early stopping, best iteration is:\n",
      "[51]\ttraining's l1: 2.65344\tvalid_1's l1: 1.92965\n",
      "[LightGBM] [Warning] feature_fraction is set=0.7127238685004301, colsample_bytree=0.9 will be ignored. Current value: feature_fraction=0.7127238685004301\n",
      "[LightGBM] [Warning] bagging_fraction is set=0.9979032881383838, subsample=0.8 will be ignored. Current value: bagging_fraction=0.9979032881383838\n",
      "[LightGBM] [Warning] bagging_freq is set=6, subsample_freq=0 will be ignored. Current value: bagging_freq=6\n",
      "Training until validation scores don't improve for 100 rounds\n",
      "[100]\ttraining's l1: 2.45309\tvalid_1's l1: 1.95331\n"
     ]
    },
    {
     "name": "stderr",
     "output_type": "stream",
     "text": [
      "\u001b[32m[I 2021-07-19 22:02:02,737]\u001b[0m Trial 18 finished with value: -1.918192606444432 and parameters: {'max_depth': 15, 'min_child_weight': 12, 'subsample': 0.8, 'colsample_bytree': 0.9, 'reg_lambda': 71.28143663932909, 'reg_alpha': 0.001108075524185925, 'feature_fraction': 0.7127238685004301, 'bagging_fraction': 0.9979032881383838, 'bagging_freq': 6, 'num_leaves': 967, 'min_child_samples': 84}. Best is trial 9 with value: -1.894006690434615.\u001b[0m\n"
     ]
    },
    {
     "name": "stdout",
     "output_type": "stream",
     "text": [
      "Early stopping, best iteration is:\n",
      "[14]\ttraining's l1: 2.613\tvalid_1's l1: 1.91821\n",
      "[LightGBM] [Warning] feature_fraction is set=0.5872103000416171, colsample_bytree=0.6 will be ignored. Current value: feature_fraction=0.5872103000416171\n",
      "[LightGBM] [Warning] bagging_fraction is set=0.8742341839258043, subsample=0.9 will be ignored. Current value: bagging_fraction=0.8742341839258043\n",
      "[LightGBM] [Warning] bagging_freq is set=1, subsample_freq=0 will be ignored. Current value: bagging_freq=1\n",
      "Training until validation scores don't improve for 100 rounds\n",
      "[100]\ttraining's l1: 2.56081\tvalid_1's l1: 1.90538\n"
     ]
    },
    {
     "name": "stderr",
     "output_type": "stream",
     "text": [
      "\u001b[32m[I 2021-07-19 22:02:04,718]\u001b[0m Trial 19 finished with value: -1.89666460578533 and parameters: {'max_depth': 7, 'min_child_weight': 17, 'subsample': 0.9, 'colsample_bytree': 0.6, 'reg_lambda': 6.091713625909355, 'reg_alpha': 0.5314923429940057, 'feature_fraction': 0.5872103000416171, 'bagging_fraction': 0.8742341839258043, 'bagging_freq': 1, 'num_leaves': 793, 'min_child_samples': 67}. Best is trial 9 with value: -1.894006690434615.\u001b[0m\n"
     ]
    },
    {
     "name": "stdout",
     "output_type": "stream",
     "text": [
      "Early stopping, best iteration is:\n",
      "[29]\ttraining's l1: 2.60653\tvalid_1's l1: 1.89667\n",
      "[LightGBM] [Warning] feature_fraction is set=0.5713405789476134, colsample_bytree=0.6 will be ignored. Current value: feature_fraction=0.5713405789476134\n",
      "[LightGBM] [Warning] bagging_fraction is set=0.678244450278561, subsample=0.9 will be ignored. Current value: bagging_fraction=0.678244450278561\n",
      "[LightGBM] [Warning] bagging_freq is set=1, subsample_freq=0 will be ignored. Current value: bagging_freq=1\n",
      "Training until validation scores don't improve for 100 rounds\n",
      "[100]\ttraining's l1: 2.66661\tvalid_1's l1: 1.92244\n",
      "[200]\ttraining's l1: 2.64993\tvalid_1's l1: 1.91913\n"
     ]
    },
    {
     "name": "stderr",
     "output_type": "stream",
     "text": [
      "\u001b[32m[I 2021-07-19 22:02:07,345]\u001b[0m Trial 20 finished with value: -1.9184332874378738 and parameters: {'max_depth': 3, 'min_child_weight': 18, 'subsample': 0.9, 'colsample_bytree': 0.6, 'reg_lambda': 2.4416171302233054, 'reg_alpha': 49.22758626725545, 'feature_fraction': 0.5713405789476134, 'bagging_fraction': 0.678244450278561, 'bagging_freq': 1, 'num_leaves': 564, 'min_child_samples': 75}. Best is trial 9 with value: -1.894006690434615.\u001b[0m\n"
     ]
    },
    {
     "name": "stdout",
     "output_type": "stream",
     "text": [
      "[300]\ttraining's l1: 2.64102\tvalid_1's l1: 1.92143\n",
      "Early stopping, best iteration is:\n",
      "[227]\ttraining's l1: 2.64759\tvalid_1's l1: 1.91857\n",
      "[LightGBM] [Warning] feature_fraction is set=0.5858764042637911, colsample_bytree=0.6 will be ignored. Current value: feature_fraction=0.5858764042637911\n",
      "[LightGBM] [Warning] bagging_fraction is set=0.8544561386436964, subsample=0.9 will be ignored. Current value: bagging_fraction=0.8544561386436964\n",
      "[LightGBM] [Warning] bagging_freq is set=3, subsample_freq=0 will be ignored. Current value: bagging_freq=3\n",
      "Training until validation scores don't improve for 100 rounds\n",
      "[100]\ttraining's l1: 2.54583\tvalid_1's l1: 1.92286\n"
     ]
    },
    {
     "name": "stderr",
     "output_type": "stream",
     "text": [
      "\u001b[32m[I 2021-07-19 22:02:09,895]\u001b[0m Trial 21 finished with value: -1.902853499598804 and parameters: {'max_depth': 8, 'min_child_weight': 16, 'subsample': 0.9, 'colsample_bytree': 0.6, 'reg_lambda': 36.800891980691, 'reg_alpha': 0.68311232617933, 'feature_fraction': 0.5858764042637911, 'bagging_fraction': 0.8544561386436964, 'bagging_freq': 3, 'num_leaves': 811, 'min_child_samples': 64}. Best is trial 9 with value: -1.894006690434615.\u001b[0m\n"
     ]
    },
    {
     "name": "stdout",
     "output_type": "stream",
     "text": [
      "Early stopping, best iteration is:\n",
      "[21]\ttraining's l1: 2.61859\tvalid_1's l1: 1.90285\n",
      "[LightGBM] [Warning] feature_fraction is set=0.6585116155680901, colsample_bytree=0.5 will be ignored. Current value: feature_fraction=0.6585116155680901\n",
      "[LightGBM] [Warning] bagging_fraction is set=0.959890796858845, subsample=0.8 will be ignored. Current value: bagging_fraction=0.959890796858845\n",
      "[LightGBM] [Warning] bagging_freq is set=6, subsample_freq=0 will be ignored. Current value: bagging_freq=6\n",
      "Training until validation scores don't improve for 100 rounds\n",
      "[100]\ttraining's l1: 2.4774\tvalid_1's l1: 1.93855\n"
     ]
    },
    {
     "name": "stderr",
     "output_type": "stream",
     "text": [
      "\u001b[32m[I 2021-07-19 22:02:13,745]\u001b[0m Trial 22 finished with value: -1.913095619483014 and parameters: {'max_depth': 11, 'min_child_weight': 19, 'subsample': 0.8, 'colsample_bytree': 0.5, 'reg_lambda': 50.864607760284585, 'reg_alpha': 1.7828525437027183, 'feature_fraction': 0.6585116155680901, 'bagging_fraction': 0.959890796858845, 'bagging_freq': 6, 'num_leaves': 744, 'min_child_samples': 70}. Best is trial 9 with value: -1.894006690434615.\u001b[0m\n"
     ]
    },
    {
     "name": "stdout",
     "output_type": "stream",
     "text": [
      "Early stopping, best iteration is:\n",
      "[19]\ttraining's l1: 2.59748\tvalid_1's l1: 1.91311\n",
      "[LightGBM] [Warning] feature_fraction is set=0.7603798987443868, colsample_bytree=0.7 will be ignored. Current value: feature_fraction=0.7603798987443868\n",
      "[LightGBM] [Warning] bagging_fraction is set=0.8243477342801971, subsample=0.9 will be ignored. Current value: bagging_fraction=0.8243477342801971\n",
      "[LightGBM] [Warning] bagging_freq is set=1, subsample_freq=0 will be ignored. Current value: bagging_freq=1\n",
      "Training until validation scores don't improve for 100 rounds\n",
      "[100]\ttraining's l1: 2.55377\tvalid_1's l1: 1.9049\n"
     ]
    },
    {
     "name": "stderr",
     "output_type": "stream",
     "text": [
      "\u001b[32m[I 2021-07-19 22:02:15,923]\u001b[0m Trial 23 finished with value: -1.8989207401697255 and parameters: {'max_depth': 7, 'min_child_weight': 20, 'subsample': 0.9, 'colsample_bytree': 0.7, 'reg_lambda': 0.1080869208461416, 'reg_alpha': 0.42490267455397723, 'feature_fraction': 0.7603798987443868, 'bagging_fraction': 0.8243477342801971, 'bagging_freq': 1, 'num_leaves': 880, 'min_child_samples': 60}. Best is trial 9 with value: -1.894006690434615.\u001b[0m\n"
     ]
    },
    {
     "name": "stdout",
     "output_type": "stream",
     "text": [
      "Early stopping, best iteration is:\n",
      "[69]\ttraining's l1: 2.5737\tvalid_1's l1: 1.89896\n",
      "[LightGBM] [Warning] feature_fraction is set=0.5313945908300585, colsample_bytree=0.7 will be ignored. Current value: feature_fraction=0.5313945908300585\n",
      "[LightGBM] [Warning] bagging_fraction is set=0.7896862513592912, subsample=0.9 will be ignored. Current value: bagging_fraction=0.7896862513592912\n",
      "[LightGBM] [Warning] bagging_freq is set=1, subsample_freq=0 will be ignored. Current value: bagging_freq=1\n",
      "Training until validation scores don't improve for 100 rounds\n",
      "[100]\ttraining's l1: 2.58443\tvalid_1's l1: 1.90583\n"
     ]
    },
    {
     "name": "stderr",
     "output_type": "stream",
     "text": [
      "\u001b[32m[I 2021-07-19 22:02:18,141]\u001b[0m Trial 24 finished with value: -1.900648334055391 and parameters: {'max_depth': 6, 'min_child_weight': 20, 'subsample': 0.9, 'colsample_bytree': 0.7, 'reg_lambda': 0.14924603316155918, 'reg_alpha': 0.2689152267263199, 'feature_fraction': 0.5313945908300585, 'bagging_fraction': 0.7896862513592912, 'bagging_freq': 1, 'num_leaves': 908, 'min_child_samples': 90}. Best is trial 9 with value: -1.894006690434615.\u001b[0m\n"
     ]
    },
    {
     "name": "stdout",
     "output_type": "stream",
     "text": [
      "Early stopping, best iteration is:\n",
      "[80]\ttraining's l1: 2.59564\tvalid_1's l1: 1.90069\n",
      "[LightGBM] [Warning] feature_fraction is set=0.7281441730543714, colsample_bytree=0.6 will be ignored. Current value: feature_fraction=0.7281441730543714\n",
      "[LightGBM] [Warning] bagging_fraction is set=0.7097254576619774, subsample=0.9 will be ignored. Current value: bagging_fraction=0.7097254576619774\n",
      "[LightGBM] [Warning] bagging_freq is set=3, subsample_freq=0 will be ignored. Current value: bagging_freq=3\n",
      "Training until validation scores don't improve for 100 rounds\n",
      "[100]\ttraining's l1: 2.71514\tvalid_1's l1: 1.94033\n",
      "[200]\ttraining's l1: 2.7063\tvalid_1's l1: 1.93346\n",
      "[300]\ttraining's l1: 2.70261\tvalid_1's l1: 1.92893\n",
      "[400]\ttraining's l1: 2.69924\tvalid_1's l1: 1.92516\n",
      "[500]\ttraining's l1: 2.69804\tvalid_1's l1: 1.92393\n",
      "[600]\ttraining's l1: 2.69705\tvalid_1's l1: 1.92386\n",
      "[700]\ttraining's l1: 2.69635\tvalid_1's l1: 1.9235\n"
     ]
    },
    {
     "name": "stderr",
     "output_type": "stream",
     "text": [
      "\u001b[32m[I 2021-07-19 22:02:21,987]\u001b[0m Trial 25 finished with value: -1.9233090835280244 and parameters: {'max_depth': 1, 'min_child_weight': 16, 'subsample': 0.9, 'colsample_bytree': 0.6, 'reg_lambda': 0.08261103667518407, 'reg_alpha': 0.0175537134465951, 'feature_fraction': 0.7281441730543714, 'bagging_fraction': 0.7097254576619774, 'bagging_freq': 3, 'num_leaves': 929, 'min_child_samples': 48}. Best is trial 9 with value: -1.894006690434615.\u001b[0m\n"
     ]
    },
    {
     "name": "stdout",
     "output_type": "stream",
     "text": [
      "Early stopping, best iteration is:\n",
      "[657]\ttraining's l1: 2.69641\tvalid_1's l1: 1.92335\n",
      "[LightGBM] [Warning] feature_fraction is set=0.6464132174323803, colsample_bytree=0.7 will be ignored. Current value: feature_fraction=0.6464132174323803\n",
      "[LightGBM] [Warning] bagging_fraction is set=0.8115321303820126, subsample=0.9 will be ignored. Current value: bagging_fraction=0.8115321303820126\n",
      "[LightGBM] [Warning] bagging_freq is set=1, subsample_freq=0 will be ignored. Current value: bagging_freq=1\n",
      "Training until validation scores don't improve for 100 rounds\n",
      "[100]\ttraining's l1: 2.63046\tvalid_1's l1: 1.90883\n",
      "[200]\ttraining's l1: 2.60932\tvalid_1's l1: 1.90383\n",
      "[300]\ttraining's l1: 2.59541\tvalid_1's l1: 1.90191\n",
      "[400]\ttraining's l1: 2.58556\tvalid_1's l1: 1.89887\n"
     ]
    },
    {
     "name": "stderr",
     "output_type": "stream",
     "text": [
      "\u001b[32m[I 2021-07-19 22:02:25,326]\u001b[0m Trial 26 finished with value: -1.8984412597625349 and parameters: {'max_depth': 4, 'min_child_weight': 20, 'subsample': 0.9, 'colsample_bytree': 0.7, 'reg_lambda': 1.9631661408559808, 'reg_alpha': 3.497098912796559, 'feature_fraction': 0.6464132174323803, 'bagging_fraction': 0.8115321303820126, 'bagging_freq': 1, 'num_leaves': 299, 'min_child_samples': 40}. Best is trial 9 with value: -1.894006690434615.\u001b[0m\n"
     ]
    },
    {
     "name": "stdout",
     "output_type": "stream",
     "text": [
      "[500]\ttraining's l1: 2.57973\tvalid_1's l1: 1.90012\n",
      "Early stopping, best iteration is:\n",
      "[400]\ttraining's l1: 2.58556\tvalid_1's l1: 1.89887\n",
      "[LightGBM] [Warning] feature_fraction is set=0.2063183856676858, colsample_bytree=0.6 will be ignored. Current value: feature_fraction=0.2063183856676858\n",
      "[LightGBM] [Warning] bagging_fraction is set=0.6351059174761686, subsample=0.8 will be ignored. Current value: bagging_fraction=0.6351059174761686\n",
      "[LightGBM] [Warning] bagging_freq is set=4, subsample_freq=0 will be ignored. Current value: bagging_freq=4\n",
      "Training until validation scores don't improve for 100 rounds\n",
      "[100]\ttraining's l1: 2.66447\tvalid_1's l1: 1.91058\n",
      "[200]\ttraining's l1: 2.64682\tvalid_1's l1: 1.90285\n",
      "[300]\ttraining's l1: 2.63932\tvalid_1's l1: 1.8991\n"
     ]
    },
    {
     "name": "stderr",
     "output_type": "stream",
     "text": [
      "\u001b[32m[I 2021-07-19 22:02:27,298]\u001b[0m Trial 27 finished with value: -1.8985128164714644 and parameters: {'max_depth': 3, 'min_child_weight': 18, 'subsample': 0.8, 'colsample_bytree': 0.6, 'reg_lambda': 1.9982571133959839, 'reg_alpha': 5.627877676788683, 'feature_fraction': 0.2063183856676858, 'bagging_fraction': 0.6351059174761686, 'bagging_freq': 4, 'num_leaves': 337, 'min_child_samples': 37}. Best is trial 9 with value: -1.894006690434615.\u001b[0m\n"
     ]
    },
    {
     "name": "stdout",
     "output_type": "stream",
     "text": [
      "[400]\ttraining's l1: 2.6286\tvalid_1's l1: 1.8988\n",
      "Early stopping, best iteration is:\n",
      "[303]\ttraining's l1: 2.63909\tvalid_1's l1: 1.89866\n",
      "[LightGBM] [Warning] feature_fraction is set=0.4263951731162554, colsample_bytree=0.7 will be ignored. Current value: feature_fraction=0.4263951731162554\n",
      "[LightGBM] [Warning] bagging_fraction is set=0.9007745023260426, subsample=0.9 will be ignored. Current value: bagging_fraction=0.9007745023260426\n",
      "[LightGBM] [Warning] bagging_freq is set=5, subsample_freq=0 will be ignored. Current value: bagging_freq=5\n",
      "Training until validation scores don't improve for 100 rounds\n",
      "[100]\ttraining's l1: 2.62807\tvalid_1's l1: 1.91287\n",
      "[200]\ttraining's l1: 2.60887\tvalid_1's l1: 1.90894\n"
     ]
    },
    {
     "name": "stderr",
     "output_type": "stream",
     "text": [
      "\u001b[32m[I 2021-07-19 22:02:30,452]\u001b[0m Trial 28 finished with value: -1.90669748935674 and parameters: {'max_depth': 4, 'min_child_weight': 15, 'subsample': 0.9, 'colsample_bytree': 0.7, 'reg_lambda': 3.2090038610498937, 'reg_alpha': 2.618526534551464, 'feature_fraction': 0.4263951731162554, 'bagging_fraction': 0.9007745023260426, 'bagging_freq': 5, 'num_leaves': 45, 'min_child_samples': 18}. Best is trial 9 with value: -1.894006690434615.\u001b[0m\n"
     ]
    },
    {
     "name": "stdout",
     "output_type": "stream",
     "text": [
      "[300]\ttraining's l1: 2.59296\tvalid_1's l1: 1.91229\n",
      "Early stopping, best iteration is:\n",
      "[220]\ttraining's l1: 2.60497\tvalid_1's l1: 1.9068\n",
      "[LightGBM] [Warning] feature_fraction is set=0.26880439164616987, colsample_bytree=0.5 will be ignored. Current value: feature_fraction=0.26880439164616987\n",
      "[LightGBM] [Warning] bagging_fraction is set=0.948297605529711, subsample=0.8 will be ignored. Current value: bagging_fraction=0.948297605529711\n",
      "[LightGBM] [Warning] bagging_freq is set=2, subsample_freq=0 will be ignored. Current value: bagging_freq=2\n",
      "Training until validation scores don't improve for 100 rounds\n",
      "[100]\ttraining's l1: 2.68799\tvalid_1's l1: 1.9537\n"
     ]
    },
    {
     "name": "stderr",
     "output_type": "stream",
     "text": [
      "\u001b[32m[I 2021-07-19 22:02:32,528]\u001b[0m Trial 29 finished with value: -1.951529095880924 and parameters: {'max_depth': 7, 'min_child_weight': 18, 'subsample': 0.8, 'colsample_bytree': 0.5, 'reg_lambda': 161.74374992051432, 'reg_alpha': 946.3924232338915, 'feature_fraction': 0.26880439164616987, 'bagging_fraction': 0.948297605529711, 'bagging_freq': 2, 'num_leaves': 316, 'min_child_samples': 76}. Best is trial 9 with value: -1.894006690434615.\u001b[0m\n"
     ]
    },
    {
     "name": "stdout",
     "output_type": "stream",
     "text": [
      "[200]\ttraining's l1: 2.68551\tvalid_1's l1: 1.95171\n",
      "Early stopping, best iteration is:\n",
      "[134]\ttraining's l1: 2.68551\tvalid_1's l1: 1.9517\n",
      "[LightGBM] [Warning] feature_fraction is set=0.6448556741833525, colsample_bytree=0.6 will be ignored. Current value: feature_fraction=0.6448556741833525\n",
      "[LightGBM] [Warning] bagging_fraction is set=0.5212207383447628, subsample=0.9 will be ignored. Current value: bagging_fraction=0.5212207383447628\n",
      "[LightGBM] [Warning] bagging_freq is set=8, subsample_freq=0 will be ignored. Current value: bagging_freq=8\n",
      "Training until validation scores don't improve for 100 rounds\n",
      "[100]\ttraining's l1: 2.71575\tvalid_1's l1: 1.93849\n",
      "[200]\ttraining's l1: 2.70683\tvalid_1's l1: 1.93322\n",
      "[300]\ttraining's l1: 2.70377\tvalid_1's l1: 1.92983\n",
      "[400]\ttraining's l1: 2.69981\tvalid_1's l1: 1.92693\n"
     ]
    },
    {
     "name": "stderr",
     "output_type": "stream",
     "text": [
      "\u001b[32m[I 2021-07-19 22:02:34,809]\u001b[0m Trial 30 finished with value: -1.9265630400127012 and parameters: {'max_depth': 1, 'min_child_weight': 20, 'subsample': 0.9, 'colsample_bytree': 0.6, 'reg_lambda': 20.544222512050364, 'reg_alpha': 17.70615131045806, 'feature_fraction': 0.6448556741833525, 'bagging_fraction': 0.5212207383447628, 'bagging_freq': 8, 'num_leaves': 203, 'min_child_samples': 40}. Best is trial 9 with value: -1.894006690434615.\u001b[0m\n"
     ]
    },
    {
     "name": "stdout",
     "output_type": "stream",
     "text": [
      "Early stopping, best iteration is:\n",
      "[384]\ttraining's l1: 2.70027\tvalid_1's l1: 1.9266\n",
      "[LightGBM] [Warning] feature_fraction is set=0.2876499610836449, colsample_bytree=0.6 will be ignored. Current value: feature_fraction=0.2876499610836449\n",
      "[LightGBM] [Warning] bagging_fraction is set=0.6332878383125976, subsample=0.8 will be ignored. Current value: bagging_fraction=0.6332878383125976\n",
      "[LightGBM] [Warning] bagging_freq is set=4, subsample_freq=0 will be ignored. Current value: bagging_freq=4\n",
      "Training until validation scores don't improve for 100 rounds\n",
      "[100]\ttraining's l1: 2.65992\tvalid_1's l1: 1.91295\n",
      "[200]\ttraining's l1: 2.64172\tvalid_1's l1: 1.90493\n",
      "[300]\ttraining's l1: 2.63534\tvalid_1's l1: 1.9031\n",
      "[400]\ttraining's l1: 2.62843\tvalid_1's l1: 1.89994\n",
      "[500]\ttraining's l1: 2.62276\tvalid_1's l1: 1.89998\n",
      "[600]\ttraining's l1: 2.61559\tvalid_1's l1: 1.89911\n",
      "[700]\ttraining's l1: 2.6091\tvalid_1's l1: 1.90016\n"
     ]
    },
    {
     "name": "stderr",
     "output_type": "stream",
     "text": [
      "\u001b[32m[I 2021-07-19 22:02:39,122]\u001b[0m Trial 31 finished with value: -1.8975638774457884 and parameters: {'max_depth': 3, 'min_child_weight': 18, 'subsample': 0.8, 'colsample_bytree': 0.6, 'reg_lambda': 1.6513166440209779, 'reg_alpha': 3.8058963956979093, 'feature_fraction': 0.2876499610836449, 'bagging_fraction': 0.6332878383125976, 'bagging_freq': 4, 'num_leaves': 340, 'min_child_samples': 37}. Best is trial 9 with value: -1.894006690434615.\u001b[0m\n"
     ]
    },
    {
     "name": "stdout",
     "output_type": "stream",
     "text": [
      "Early stopping, best iteration is:\n",
      "[643]\ttraining's l1: 2.61297\tvalid_1's l1: 1.89805\n",
      "[LightGBM] [Warning] feature_fraction is set=0.30925614092166953, colsample_bytree=0.7 will be ignored. Current value: feature_fraction=0.30925614092166953\n",
      "[LightGBM] [Warning] bagging_fraction is set=0.746458470879048, subsample=0.8 will be ignored. Current value: bagging_fraction=0.746458470879048\n",
      "[LightGBM] [Warning] bagging_freq is set=2, subsample_freq=0 will be ignored. Current value: bagging_freq=2\n",
      "Training until validation scores don't improve for 100 rounds\n",
      "[100]\ttraining's l1: 2.63907\tvalid_1's l1: 1.91214\n",
      "[200]\ttraining's l1: 2.61962\tvalid_1's l1: 1.90627\n",
      "[300]\ttraining's l1: 2.61147\tvalid_1's l1: 1.90515\n"
     ]
    },
    {
     "name": "stderr",
     "output_type": "stream",
     "text": [
      "\u001b[32m[I 2021-07-19 22:02:42,444]\u001b[0m Trial 32 finished with value: -1.9048351383346636 and parameters: {'max_depth': 4, 'min_child_weight': 18, 'subsample': 0.8, 'colsample_bytree': 0.7, 'reg_lambda': 0.7961496788967729, 'reg_alpha': 17.953145694447393, 'feature_fraction': 0.30925614092166953, 'bagging_fraction': 0.746458470879048, 'bagging_freq': 2, 'num_leaves': 276, 'min_child_samples': 51}. Best is trial 9 with value: -1.894006690434615.\u001b[0m\n"
     ]
    },
    {
     "name": "stdout",
     "output_type": "stream",
     "text": [
      "Early stopping, best iteration is:\n",
      "[295]\ttraining's l1: 2.61156\tvalid_1's l1: 1.9051\n",
      "[LightGBM] [Warning] feature_fraction is set=0.34132647106294933, colsample_bytree=0.6 will be ignored. Current value: feature_fraction=0.34132647106294933\n",
      "[LightGBM] [Warning] bagging_fraction is set=0.671143541884501, subsample=0.9 will be ignored. Current value: bagging_fraction=0.671143541884501\n",
      "[LightGBM] [Warning] bagging_freq is set=5, subsample_freq=0 will be ignored. Current value: bagging_freq=5\n",
      "Training until validation scores don't improve for 100 rounds\n",
      "[100]\ttraining's l1: 2.68458\tvalid_1's l1: 1.92224\n",
      "[200]\ttraining's l1: 2.66974\tvalid_1's l1: 1.91422\n",
      "[300]\ttraining's l1: 2.6606\tvalid_1's l1: 1.90715\n",
      "[400]\ttraining's l1: 2.65616\tvalid_1's l1: 1.90528\n",
      "[500]\ttraining's l1: 2.65099\tvalid_1's l1: 1.90093\n",
      "[600]\ttraining's l1: 2.64668\tvalid_1's l1: 1.90034\n"
     ]
    },
    {
     "name": "stderr",
     "output_type": "stream",
     "text": [
      "\u001b[32m[I 2021-07-19 22:02:46,609]\u001b[0m Trial 33 finished with value: -1.8995423966787441 and parameters: {'max_depth': 2, 'min_child_weight': 17, 'subsample': 0.9, 'colsample_bytree': 0.6, 'reg_lambda': 4.491213640346989, 'reg_alpha': 2.37756059739695, 'feature_fraction': 0.34132647106294933, 'bagging_fraction': 0.671143541884501, 'bagging_freq': 5, 'num_leaves': 384, 'min_child_samples': 24}. Best is trial 9 with value: -1.894006690434615.\u001b[0m\n"
     ]
    },
    {
     "name": "stdout",
     "output_type": "stream",
     "text": [
      "Early stopping, best iteration is:\n",
      "[592]\ttraining's l1: 2.64748\tvalid_1's l1: 1.89966\n",
      "[LightGBM] [Warning] feature_fraction is set=0.43520031550575516, colsample_bytree=0.7 will be ignored. Current value: feature_fraction=0.43520031550575516\n",
      "[LightGBM] [Warning] bagging_fraction is set=0.8224929517094488, subsample=0.9 will be ignored. Current value: bagging_fraction=0.8224929517094488\n",
      "[LightGBM] [Warning] bagging_freq is set=7, subsample_freq=0 will be ignored. Current value: bagging_freq=7\n",
      "Training until validation scores don't improve for 100 rounds\n",
      "[100]\ttraining's l1: 2.58091\tvalid_1's l1: 1.90723\n"
     ]
    },
    {
     "name": "stderr",
     "output_type": "stream",
     "text": [
      "\u001b[32m[I 2021-07-19 22:02:48,497]\u001b[0m Trial 34 finished with value: -1.8991647928632922 and parameters: {'max_depth': 6, 'min_child_weight': 19, 'subsample': 0.9, 'colsample_bytree': 0.7, 'reg_lambda': 1.7508810291884391, 'reg_alpha': 0.03686595615659313, 'feature_fraction': 0.43520031550575516, 'bagging_fraction': 0.8224929517094488, 'bagging_freq': 7, 'num_leaves': 180, 'min_child_samples': 36}. Best is trial 9 with value: -1.894006690434615.\u001b[0m\n"
     ]
    },
    {
     "name": "stdout",
     "output_type": "stream",
     "text": [
      "Early stopping, best iteration is:\n",
      "[44]\ttraining's l1: 2.61384\tvalid_1's l1: 1.89917\n",
      "[LightGBM] [Warning] feature_fraction is set=0.49196155151964965, colsample_bytree=0.6 will be ignored. Current value: feature_fraction=0.49196155151964965\n",
      "[LightGBM] [Warning] bagging_fraction is set=0.6303290328963724, subsample=0.8 will be ignored. Current value: bagging_fraction=0.6303290328963724\n",
      "[LightGBM] [Warning] bagging_freq is set=2, subsample_freq=0 will be ignored. Current value: bagging_freq=2\n",
      "Training until validation scores don't improve for 100 rounds\n",
      "[100]\ttraining's l1: 2.64743\tvalid_1's l1: 1.92349\n"
     ]
    },
    {
     "name": "stderr",
     "output_type": "stream",
     "text": [
      "\u001b[32m[I 2021-07-19 22:02:50,454]\u001b[0m Trial 35 finished with value: -1.9204064482459118 and parameters: {'max_depth': 4, 'min_child_weight': 15, 'subsample': 0.8, 'colsample_bytree': 0.6, 'reg_lambda': 0.47795970013139244, 'reg_alpha': 75.56325867813977, 'feature_fraction': 0.49196155151964965, 'bagging_fraction': 0.6303290328963724, 'bagging_freq': 2, 'num_leaves': 353, 'min_child_samples': 52}. Best is trial 9 with value: -1.894006690434615.\u001b[0m\n"
     ]
    },
    {
     "name": "stdout",
     "output_type": "stream",
     "text": [
      "Early stopping, best iteration is:\n",
      "[93]\ttraining's l1: 2.64982\tvalid_1's l1: 1.92044\n",
      "[LightGBM] [Warning] feature_fraction is set=0.2639697183842683, colsample_bytree=0.5 will be ignored. Current value: feature_fraction=0.2639697183842683\n",
      "[LightGBM] [Warning] bagging_fraction is set=0.3559123917909638, subsample=0.7 will be ignored. Current value: bagging_fraction=0.3559123917909638\n",
      "[LightGBM] [Warning] bagging_freq is set=4, subsample_freq=0 will be ignored. Current value: bagging_freq=4\n",
      "Training until validation scores don't improve for 100 rounds\n",
      "[100]\ttraining's l1: 2.68691\tvalid_1's l1: 1.92597\n",
      "[200]\ttraining's l1: 2.66916\tvalid_1's l1: 1.90985\n"
     ]
    },
    {
     "name": "stderr",
     "output_type": "stream",
     "text": [
      "\u001b[32m[I 2021-07-19 22:02:52,026]\u001b[0m Trial 36 finished with value: -1.9084238260616204 and parameters: {'max_depth': 2, 'min_child_weight': 17, 'subsample': 0.7, 'colsample_bytree': 0.5, 'reg_lambda': 1.466626115240793, 'reg_alpha': 0.22906877300515743, 'feature_fraction': 0.2639697183842683, 'bagging_fraction': 0.3559123917909638, 'bagging_freq': 4, 'num_leaves': 409, 'min_child_samples': 42}. Best is trial 9 with value: -1.894006690434615.\u001b[0m\n"
     ]
    },
    {
     "name": "stdout",
     "output_type": "stream",
     "text": [
      "[300]\ttraining's l1: 2.66452\tvalid_1's l1: 1.90969\n",
      "Early stopping, best iteration is:\n",
      "[244]\ttraining's l1: 2.66687\tvalid_1's l1: 1.90854\n",
      "[LightGBM] [Warning] feature_fraction is set=0.8025626741634824, colsample_bytree=0.6 will be ignored. Current value: feature_fraction=0.8025626741634824\n",
      "[LightGBM] [Warning] bagging_fraction is set=0.5446831647431247, subsample=0.9 will be ignored. Current value: bagging_fraction=0.5446831647431247\n",
      "[LightGBM] [Warning] bagging_freq is set=20, subsample_freq=0 will be ignored. Current value: bagging_freq=20\n",
      "Training until validation scores don't improve for 100 rounds\n"
     ]
    },
    {
     "name": "stderr",
     "output_type": "stream",
     "text": [
      "\u001b[32m[I 2021-07-19 22:02:53,434]\u001b[0m Trial 37 finished with value: -1.9090578780209666 and parameters: {'max_depth': 6, 'min_child_weight': 20, 'subsample': 0.9, 'colsample_bytree': 0.6, 'reg_lambda': 19.71514925185956, 'reg_alpha': 7.734401843326875, 'feature_fraction': 0.8025626741634824, 'bagging_fraction': 0.5446831647431247, 'bagging_freq': 20, 'num_leaves': 489, 'min_child_samples': 25}. Best is trial 9 with value: -1.894006690434615.\u001b[0m\n"
     ]
    },
    {
     "name": "stdout",
     "output_type": "stream",
     "text": [
      "[100]\ttraining's l1: 2.59268\tvalid_1's l1: 1.91524\n",
      "Early stopping, best iteration is:\n",
      "[28]\ttraining's l1: 2.64022\tvalid_1's l1: 1.90906\n",
      "[LightGBM] [Warning] feature_fraction is set=0.38517800571986416, colsample_bytree=0.7 will be ignored. Current value: feature_fraction=0.38517800571986416\n",
      "[LightGBM] [Warning] bagging_fraction is set=0.7119168529529947, subsample=0.8 will be ignored. Current value: bagging_fraction=0.7119168529529947\n",
      "[LightGBM] [Warning] bagging_freq is set=2, subsample_freq=0 will be ignored. Current value: bagging_freq=2\n",
      "Training until validation scores don't improve for 100 rounds\n",
      "[100]\ttraining's l1: 2.52321\tvalid_1's l1: 1.9291\n"
     ]
    },
    {
     "name": "stderr",
     "output_type": "stream",
     "text": [
      "\u001b[32m[I 2021-07-19 22:02:55,478]\u001b[0m Trial 38 finished with value: -1.8997317986082523 and parameters: {'max_depth': 8, 'min_child_weight': 15, 'subsample': 0.8, 'colsample_bytree': 0.7, 'reg_lambda': 1.0215134145439988, 'reg_alpha': 1.2598172423581597, 'feature_fraction': 0.38517800571986416, 'bagging_fraction': 0.7119168529529947, 'bagging_freq': 2, 'num_leaves': 242, 'min_child_samples': 7}. Best is trial 9 with value: -1.894006690434615.\u001b[0m\n"
     ]
    },
    {
     "name": "stdout",
     "output_type": "stream",
     "text": [
      "Early stopping, best iteration is:\n",
      "[17]\ttraining's l1: 2.62691\tvalid_1's l1: 1.89973\n",
      "[LightGBM] [Warning] feature_fraction is set=0.9231688150430094, colsample_bytree=0.7 will be ignored. Current value: feature_fraction=0.9231688150430094\n",
      "[LightGBM] [Warning] bagging_fraction is set=0.7728615531116112, subsample=0.7 will be ignored. Current value: bagging_fraction=0.7728615531116112\n",
      "[LightGBM] [Warning] bagging_freq is set=8, subsample_freq=0 will be ignored. Current value: bagging_freq=8\n",
      "Training until validation scores don't improve for 100 rounds\n",
      "[100]\ttraining's l1: 2.60599\tvalid_1's l1: 1.90859\n"
     ]
    },
    {
     "name": "stderr",
     "output_type": "stream",
     "text": [
      "\u001b[32m[I 2021-07-19 22:02:57,111]\u001b[0m Trial 39 finished with value: -1.9050364690825379 and parameters: {'max_depth': 5, 'min_child_weight': 19, 'subsample': 0.7, 'colsample_bytree': 0.7, 'reg_lambda': 0.21791533588271175, 'reg_alpha': 4.064498711896804, 'feature_fraction': 0.9231688150430094, 'bagging_fraction': 0.7728615531116112, 'bagging_freq': 8, 'num_leaves': 541, 'min_child_samples': 57}. Best is trial 9 with value: -1.894006690434615.\u001b[0m\n"
     ]
    },
    {
     "name": "stdout",
     "output_type": "stream",
     "text": [
      "Early stopping, best iteration is:\n",
      "[47]\ttraining's l1: 2.6317\tvalid_1's l1: 1.90504\n",
      "[LightGBM] [Warning] feature_fraction is set=0.5544650284470299, colsample_bytree=0.6 will be ignored. Current value: feature_fraction=0.5544650284470299\n",
      "[LightGBM] [Warning] bagging_fraction is set=0.5936174257277164, subsample=0.9 will be ignored. Current value: bagging_fraction=0.5936174257277164\n",
      "[LightGBM] [Warning] bagging_freq is set=5, subsample_freq=0 will be ignored. Current value: bagging_freq=5\n",
      "Training until validation scores don't improve for 100 rounds\n",
      "[100]\ttraining's l1: 2.65665\tvalid_1's l1: 1.90704\n",
      "[200]\ttraining's l1: 2.64245\tvalid_1's l1: 1.9063\n",
      "[300]\ttraining's l1: 2.63113\tvalid_1's l1: 1.90443\n",
      "[400]\ttraining's l1: 2.62376\tvalid_1's l1: 1.90203\n"
     ]
    },
    {
     "name": "stderr",
     "output_type": "stream",
     "text": [
      "\u001b[32m[I 2021-07-19 22:03:00,814]\u001b[0m Trial 40 finished with value: -1.9017619417068001 and parameters: {'max_depth': 3, 'min_child_weight': 8, 'subsample': 0.9, 'colsample_bytree': 0.6, 'reg_lambda': 4.931495694183047, 'reg_alpha': 0.06273877478229838, 'feature_fraction': 0.5544650284470299, 'bagging_fraction': 0.5936174257277164, 'bagging_freq': 5, 'num_leaves': 112, 'min_child_samples': 69}. Best is trial 9 with value: -1.894006690434615.\u001b[0m\n"
     ]
    },
    {
     "name": "stdout",
     "output_type": "stream",
     "text": [
      "[500]\ttraining's l1: 2.61869\tvalid_1's l1: 1.90235\n",
      "Early stopping, best iteration is:\n",
      "[414]\ttraining's l1: 2.62321\tvalid_1's l1: 1.90199\n",
      "[LightGBM] [Warning] feature_fraction is set=0.260098318454278, colsample_bytree=0.6 will be ignored. Current value: feature_fraction=0.260098318454278\n",
      "[LightGBM] [Warning] bagging_fraction is set=0.6410721628562968, subsample=0.7 will be ignored. Current value: bagging_fraction=0.6410721628562968\n",
      "[LightGBM] [Warning] bagging_freq is set=4, subsample_freq=0 will be ignored. Current value: bagging_freq=4\n",
      "Training until validation scores don't improve for 100 rounds\n",
      "[100]\ttraining's l1: 2.66201\tvalid_1's l1: 1.92567\n",
      "[200]\ttraining's l1: 2.64733\tvalid_1's l1: 1.91603\n",
      "[300]\ttraining's l1: 2.63689\tvalid_1's l1: 1.91434\n"
     ]
    },
    {
     "name": "stderr",
     "output_type": "stream",
     "text": [
      "\u001b[32m[I 2021-07-19 22:03:03,292]\u001b[0m Trial 41 finished with value: -1.9134396853186402 and parameters: {'max_depth': 3, 'min_child_weight': 18, 'subsample': 0.7, 'colsample_bytree': 0.6, 'reg_lambda': 15.099092685527355, 'reg_alpha': 10.84404412985694, 'feature_fraction': 0.260098318454278, 'bagging_fraction': 0.6410721628562968, 'bagging_freq': 4, 'num_leaves': 301, 'min_child_samples': 35}. Best is trial 9 with value: -1.894006690434615.\u001b[0m\n"
     ]
    },
    {
     "name": "stdout",
     "output_type": "stream",
     "text": [
      "Early stopping, best iteration is:\n",
      "[290]\ttraining's l1: 2.63731\tvalid_1's l1: 1.91357\n",
      "[LightGBM] [Warning] feature_fraction is set=0.3141274914317791, colsample_bytree=0.5 will be ignored. Current value: feature_fraction=0.3141274914317791\n",
      "[LightGBM] [Warning] bagging_fraction is set=0.5047295945833168, subsample=0.8 will be ignored. Current value: bagging_fraction=0.5047295945833168\n",
      "[LightGBM] [Warning] bagging_freq is set=3, subsample_freq=0 will be ignored. Current value: bagging_freq=3\n",
      "Training until validation scores don't improve for 100 rounds\n",
      "[100]\ttraining's l1: 2.69008\tvalid_1's l1: 1.93115\n",
      "[200]\ttraining's l1: 2.6722\tvalid_1's l1: 1.9196\n",
      "[300]\ttraining's l1: 2.66503\tvalid_1's l1: 1.91598\n",
      "[400]\ttraining's l1: 2.66089\tvalid_1's l1: 1.91354\n",
      "[500]\ttraining's l1: 2.65679\tvalid_1's l1: 1.91179\n",
      "[600]\ttraining's l1: 2.65293\tvalid_1's l1: 1.90959\n",
      "[700]\ttraining's l1: 2.64859\tvalid_1's l1: 1.90809\n"
     ]
    },
    {
     "name": "stderr",
     "output_type": "stream",
     "text": [
      "\u001b[32m[I 2021-07-19 22:03:07,195]\u001b[0m Trial 42 finished with value: -1.9074363376535743 and parameters: {'max_depth': 2, 'min_child_weight': 17, 'subsample': 0.8, 'colsample_bytree': 0.5, 'reg_lambda': 0.372525262778069, 'reg_alpha': 4.863097124945601, 'feature_fraction': 0.3141274914317791, 'bagging_fraction': 0.5047295945833168, 'bagging_freq': 3, 'num_leaves': 338, 'min_child_samples': 39}. Best is trial 9 with value: -1.894006690434615.\u001b[0m\n"
     ]
    },
    {
     "name": "stdout",
     "output_type": "stream",
     "text": [
      "Early stopping, best iteration is:\n",
      "[684]\ttraining's l1: 2.64907\tvalid_1's l1: 1.9077\n",
      "[LightGBM] [Warning] feature_fraction is set=0.23253502871783266, colsample_bytree=0.6 will be ignored. Current value: feature_fraction=0.23253502871783266\n",
      "[LightGBM] [Warning] bagging_fraction is set=0.6844656859621118, subsample=0.8 will be ignored. Current value: bagging_fraction=0.6844656859621118\n",
      "[LightGBM] [Warning] bagging_freq is set=1, subsample_freq=0 will be ignored. Current value: bagging_freq=1\n",
      "Training until validation scores don't improve for 100 rounds\n",
      "[100]\ttraining's l1: 2.65042\tvalid_1's l1: 1.92577\n"
     ]
    },
    {
     "name": "stderr",
     "output_type": "stream",
     "text": [
      "\u001b[32m[I 2021-07-19 22:03:08,729]\u001b[0m Trial 43 finished with value: -1.9214041851617332 and parameters: {'max_depth': 4, 'min_child_weight': 19, 'subsample': 0.8, 'colsample_bytree': 0.6, 'reg_lambda': 1.5467452972296483, 'reg_alpha': 41.614042380524545, 'feature_fraction': 0.23253502871783266, 'bagging_fraction': 0.6844656859621118, 'bagging_freq': 1, 'num_leaves': 247, 'min_child_samples': 47}. Best is trial 9 with value: -1.894006690434615.\u001b[0m\n"
     ]
    },
    {
     "name": "stdout",
     "output_type": "stream",
     "text": [
      "Early stopping, best iteration is:\n",
      "[88]\ttraining's l1: 2.65602\tvalid_1's l1: 1.92145\n",
      "[LightGBM] [Warning] feature_fraction is set=0.21416125796082458, colsample_bytree=0.7 will be ignored. Current value: feature_fraction=0.21416125796082458\n",
      "[LightGBM] [Warning] bagging_fraction is set=0.6361939631154494, subsample=0.9 will be ignored. Current value: bagging_fraction=0.6361939631154494\n",
      "[LightGBM] [Warning] bagging_freq is set=7, subsample_freq=0 will be ignored. Current value: bagging_freq=7\n",
      "Training until validation scores don't improve for 100 rounds\n",
      "[100]\ttraining's l1: 2.72289\tvalid_1's l1: 1.94891\n",
      "[200]\ttraining's l1: 2.7101\tvalid_1's l1: 1.93595\n",
      "[300]\ttraining's l1: 2.70421\tvalid_1's l1: 1.93243\n",
      "[400]\ttraining's l1: 2.70167\tvalid_1's l1: 1.92982\n",
      "[500]\ttraining's l1: 2.70017\tvalid_1's l1: 1.92964\n",
      "[600]\ttraining's l1: 2.69881\tvalid_1's l1: 1.92831\n",
      "[700]\ttraining's l1: 2.6978\tvalid_1's l1: 1.92727\n",
      "[800]\ttraining's l1: 2.697\tvalid_1's l1: 1.9274\n",
      "Early stopping, best iteration is:\n",
      "[762]\ttraining's l1: 2.69719\tvalid_1's l1: 1.92688\n"
     ]
    },
    {
     "name": "stderr",
     "output_type": "stream",
     "text": [
      "\u001b[32m[I 2021-07-19 22:03:11,732]\u001b[0m Trial 44 finished with value: -1.9268113939351068 and parameters: {'max_depth': 1, 'min_child_weight': 16, 'subsample': 0.9, 'colsample_bytree': 0.7, 'reg_lambda': 0.6895692754067945, 'reg_alpha': 3.6597828815295745, 'feature_fraction': 0.21416125796082458, 'bagging_fraction': 0.6361939631154494, 'bagging_freq': 7, 'num_leaves': 452, 'min_child_samples': 27}. Best is trial 9 with value: -1.894006690434615.\u001b[0m\n"
     ]
    },
    {
     "name": "stdout",
     "output_type": "stream",
     "text": [
      "[LightGBM] [Warning] feature_fraction is set=0.20080252158370382, colsample_bytree=0.8 will be ignored. Current value: feature_fraction=0.20080252158370382\n",
      "[LightGBM] [Warning] bagging_fraction is set=0.5840235953379109, subsample=0.7 will be ignored. Current value: bagging_fraction=0.5840235953379109\n",
      "[LightGBM] [Warning] bagging_freq is set=4, subsample_freq=0 will be ignored. Current value: bagging_freq=4\n",
      "Training until validation scores don't improve for 100 rounds\n",
      "[100]\ttraining's l1: 2.61562\tvalid_1's l1: 1.90323\n",
      "[200]\ttraining's l1: 2.59069\tvalid_1's l1: 1.90346\n",
      "Early stopping, best iteration is:\n",
      "[139]\ttraining's l1: 2.60336\tvalid_1's l1: 1.89918\n"
     ]
    },
    {
     "name": "stderr",
     "output_type": "stream",
     "text": [
      "\u001b[32m[I 2021-07-19 22:03:13,518]\u001b[0m Trial 45 finished with value: -1.8988830603070483 and parameters: {'max_depth': 5, 'min_child_weight': 18, 'subsample': 0.7, 'colsample_bytree': 0.8, 'reg_lambda': 2.748217877442321, 'reg_alpha': 1.0760468092636148, 'feature_fraction': 0.20080252158370382, 'bagging_fraction': 0.5840235953379109, 'bagging_freq': 4, 'num_leaves': 374, 'min_child_samples': 31}. Best is trial 9 with value: -1.894006690434615.\u001b[0m\n"
     ]
    },
    {
     "name": "stdout",
     "output_type": "stream",
     "text": [
      "[LightGBM] [Warning] feature_fraction is set=0.6101101575212265, colsample_bytree=0.6 will be ignored. Current value: feature_fraction=0.6101101575212265\n",
      "[LightGBM] [Warning] bagging_fraction is set=0.7468257983304449, subsample=0.8 will be ignored. Current value: bagging_fraction=0.7468257983304449\n",
      "[LightGBM] [Warning] bagging_freq is set=12, subsample_freq=0 will be ignored. Current value: bagging_freq=12\n",
      "Training until validation scores don't improve for 100 rounds\n",
      "[100]\ttraining's l1: 2.55776\tvalid_1's l1: 1.9168\n"
     ]
    },
    {
     "name": "stderr",
     "output_type": "stream",
     "text": [
      "\u001b[32m[I 2021-07-19 22:03:15,736]\u001b[0m Trial 46 finished with value: -1.9021143740416546 and parameters: {'max_depth': 7, 'min_child_weight': 14, 'subsample': 0.8, 'colsample_bytree': 0.6, 'reg_lambda': 5.597694373531051, 'reg_alpha': 10.052568019628167, 'feature_fraction': 0.6101101575212265, 'bagging_fraction': 0.7468257983304449, 'bagging_freq': 12, 'num_leaves': 414, 'min_child_samples': 20}. Best is trial 9 with value: -1.894006690434615.\u001b[0m\n"
     ]
    },
    {
     "name": "stdout",
     "output_type": "stream",
     "text": [
      "Early stopping, best iteration is:\n",
      "[40]\ttraining's l1: 2.6069\tvalid_1's l1: 1.90212\n",
      "[LightGBM] [Warning] feature_fraction is set=0.377642814835065, colsample_bytree=0.7 will be ignored. Current value: feature_fraction=0.377642814835065\n",
      "[LightGBM] [Warning] bagging_fraction is set=0.8230804333530303, subsample=0.9 will be ignored. Current value: bagging_fraction=0.8230804333530303\n",
      "[LightGBM] [Warning] bagging_freq is set=3, subsample_freq=0 will be ignored. Current value: bagging_freq=3\n",
      "Training until validation scores don't improve for 100 rounds\n",
      "[100]\ttraining's l1: 2.65514\tvalid_1's l1: 1.90728\n",
      "[200]\ttraining's l1: 2.63842\tvalid_1's l1: 1.90169\n",
      "[300]\ttraining's l1: 2.62817\tvalid_1's l1: 1.89536\n",
      "[400]\ttraining's l1: 2.6154\tvalid_1's l1: 1.89563\n"
     ]
    },
    {
     "name": "stderr",
     "output_type": "stream",
     "text": [
      "\u001b[32m[I 2021-07-19 22:03:19,479]\u001b[0m Trial 47 finished with value: -1.8918126804724371 and parameters: {'max_depth': 3, 'min_child_weight': 19, 'subsample': 0.9, 'colsample_bytree': 0.7, 'reg_lambda': 0.25655304659085754, 'reg_alpha': 0.3132424859480359, 'feature_fraction': 0.377642814835065, 'bagging_fraction': 0.8230804333530303, 'bagging_freq': 3, 'num_leaves': 156, 'min_child_samples': 37}. Best is trial 47 with value: -1.8918126804724371.\u001b[0m\n"
     ]
    },
    {
     "name": "stdout",
     "output_type": "stream",
     "text": [
      "Early stopping, best iteration is:\n",
      "[349]\ttraining's l1: 2.62335\tvalid_1's l1: 1.89195\n",
      "[LightGBM] [Warning] feature_fraction is set=0.36912650736743163, colsample_bytree=0.7 will be ignored. Current value: feature_fraction=0.36912650736743163\n",
      "[LightGBM] [Warning] bagging_fraction is set=0.9263461966909361, subsample=0.9 will be ignored. Current value: bagging_fraction=0.9263461966909361\n",
      "[LightGBM] [Warning] bagging_freq is set=2, subsample_freq=0 will be ignored. Current value: bagging_freq=2\n",
      "Training until validation scores don't improve for 100 rounds\n",
      "[100]\ttraining's l1: 2.55756\tvalid_1's l1: 1.92317\n"
     ]
    },
    {
     "name": "stderr",
     "output_type": "stream",
     "text": [
      "\u001b[32m[I 2021-07-19 22:03:21,883]\u001b[0m Trial 48 finished with value: -1.9093499858350986 and parameters: {'max_depth': 10, 'min_child_weight': 2, 'subsample': 0.9, 'colsample_bytree': 0.7, 'reg_lambda': 0.045485721194161825, 'reg_alpha': 0.29027024189712514, 'feature_fraction': 0.36912650736743163, 'bagging_fraction': 0.9263461966909361, 'bagging_freq': 2, 'num_leaves': 98, 'min_child_samples': 34}. Best is trial 47 with value: -1.8918126804724371.\u001b[0m\n"
     ]
    },
    {
     "name": "stdout",
     "output_type": "stream",
     "text": [
      "Early stopping, best iteration is:\n",
      "[34]\ttraining's l1: 2.6224\tvalid_1's l1: 1.90936\n",
      "[LightGBM] [Warning] feature_fraction is set=0.4891212549475016, colsample_bytree=0.8 will be ignored. Current value: feature_fraction=0.4891212549475016\n",
      "[LightGBM] [Warning] bagging_fraction is set=0.8256444022906024, subsample=0.9 will be ignored. Current value: bagging_fraction=0.8256444022906024\n",
      "[LightGBM] [Warning] bagging_freq is set=3, subsample_freq=0 will be ignored. Current value: bagging_freq=3\n",
      "Training until validation scores don't improve for 100 rounds\n",
      "[100]\ttraining's l1: 2.68103\tvalid_1's l1: 1.92273\n",
      "[200]\ttraining's l1: 2.66611\tvalid_1's l1: 1.91418\n",
      "[300]\ttraining's l1: 2.66054\tvalid_1's l1: 1.91213\n",
      "[400]\ttraining's l1: 2.65536\tvalid_1's l1: 1.91196\n",
      "[500]\ttraining's l1: 2.65204\tvalid_1's l1: 1.91074\n",
      "[600]\ttraining's l1: 2.6482\tvalid_1's l1: 1.91037\n",
      "[700]\ttraining's l1: 2.64637\tvalid_1's l1: 1.90979\n",
      "[800]\ttraining's l1: 2.64256\tvalid_1's l1: 1.90871\n"
     ]
    },
    {
     "name": "stderr",
     "output_type": "stream",
     "text": [
      "\u001b[32m[I 2021-07-19 22:03:29,224]\u001b[0m Trial 49 finished with value: -1.908499806886012 and parameters: {'max_depth': 2, 'min_child_weight': 20, 'subsample': 0.9, 'colsample_bytree': 0.8, 'reg_lambda': 0.015862208963830685, 'reg_alpha': 0.11415705806049568, 'feature_fraction': 0.4891212549475016, 'bagging_fraction': 0.8256444022906024, 'bagging_freq': 3, 'num_leaves': 161, 'min_child_samples': 55}. Best is trial 47 with value: -1.8918126804724371.\u001b[0m\n"
     ]
    },
    {
     "name": "stdout",
     "output_type": "stream",
     "text": [
      "Early stopping, best iteration is:\n",
      "[799]\ttraining's l1: 2.64256\tvalid_1's l1: 1.90871\n",
      "[LightGBM] [Warning] feature_fraction is set=0.40355831524348873, colsample_bytree=0.8 will be ignored. Current value: feature_fraction=0.40355831524348873\n",
      "[LightGBM] [Warning] bagging_fraction is set=0.8871977806924438, subsample=0.9 will be ignored. Current value: bagging_fraction=0.8871977806924438\n",
      "[LightGBM] [Warning] bagging_freq is set=1, subsample_freq=0 will be ignored. Current value: bagging_freq=1\n",
      "Training until validation scores don't improve for 100 rounds\n",
      "[100]\ttraining's l1: 2.63103\tvalid_1's l1: 1.90622\n",
      "[200]\ttraining's l1: 2.60871\tvalid_1's l1: 1.90369\n",
      "[300]\ttraining's l1: 2.59162\tvalid_1's l1: 1.90331\n"
     ]
    },
    {
     "name": "stderr",
     "output_type": "stream",
     "text": [
      "\u001b[32m[I 2021-07-19 22:03:32,173]\u001b[0m Trial 50 finished with value: -1.9009707562643785 and parameters: {'max_depth': 4, 'min_child_weight': 19, 'subsample': 0.9, 'colsample_bytree': 0.8, 'reg_lambda': 0.25605088466629505, 'reg_alpha': 0.03103079385986392, 'feature_fraction': 0.40355831524348873, 'bagging_fraction': 0.8871977806924438, 'bagging_freq': 1, 'num_leaves': 41, 'min_child_samples': 48}. Best is trial 47 with value: -1.8918126804724371.\u001b[0m\n"
     ]
    },
    {
     "name": "stdout",
     "output_type": "stream",
     "text": [
      "Early stopping, best iteration is:\n",
      "[240]\ttraining's l1: 2.60447\tvalid_1's l1: 1.9011\n",
      "[LightGBM] [Warning] feature_fraction is set=0.30355612579540814, colsample_bytree=0.7 will be ignored. Current value: feature_fraction=0.30355612579540814\n",
      "[LightGBM] [Warning] bagging_fraction is set=0.8392684318814183, subsample=0.9 will be ignored. Current value: bagging_fraction=0.8392684318814183\n",
      "[LightGBM] [Warning] bagging_freq is set=4, subsample_freq=0 will be ignored. Current value: bagging_freq=4\n",
      "Training until validation scores don't improve for 100 rounds\n",
      "[100]\ttraining's l1: 2.65654\tvalid_1's l1: 1.91385\n",
      "[200]\ttraining's l1: 2.63703\tvalid_1's l1: 1.90183\n",
      "[300]\ttraining's l1: 2.6272\tvalid_1's l1: 1.90218\n",
      "Early stopping, best iteration is:\n",
      "[230]\ttraining's l1: 2.63311\tvalid_1's l1: 1.90087\n"
     ]
    },
    {
     "name": "stderr",
     "output_type": "stream",
     "text": [
      "\u001b[32m[I 2021-07-19 22:03:34,898]\u001b[0m Trial 51 finished with value: -1.9007751588706092 and parameters: {'max_depth': 3, 'min_child_weight': 17, 'subsample': 0.9, 'colsample_bytree': 0.7, 'reg_lambda': 0.03861968765096484, 'reg_alpha': 0.0029499673869205, 'feature_fraction': 0.30355612579540814, 'bagging_fraction': 0.8392684318814183, 'bagging_freq': 4, 'num_leaves': 594, 'min_child_samples': 37}. Best is trial 47 with value: -1.8918126804724371.\u001b[0m\n"
     ]
    },
    {
     "name": "stdout",
     "output_type": "stream",
     "text": [
      "[LightGBM] [Warning] feature_fraction is set=0.22825663127000284, colsample_bytree=0.6 will be ignored. Current value: feature_fraction=0.22825663127000284\n",
      "[LightGBM] [Warning] bagging_fraction is set=0.7908985554546198, subsample=0.8 will be ignored. Current value: bagging_fraction=0.7908985554546198\n",
      "[LightGBM] [Warning] bagging_freq is set=5, subsample_freq=0 will be ignored. Current value: bagging_freq=5\n",
      "Training until validation scores don't improve for 100 rounds\n",
      "[100]\ttraining's l1: 2.65946\tvalid_1's l1: 1.91526\n",
      "[200]\ttraining's l1: 2.64447\tvalid_1's l1: 1.91319\n",
      "[300]\ttraining's l1: 2.63191\tvalid_1's l1: 1.91327\n"
     ]
    },
    {
     "name": "stderr",
     "output_type": "stream",
     "text": [
      "\u001b[32m[I 2021-07-19 22:03:37,605]\u001b[0m Trial 52 finished with value: -1.9105520867551236 and parameters: {'max_depth': 3, 'min_child_weight': 18, 'subsample': 0.8, 'colsample_bytree': 0.6, 'reg_lambda': 1.2040963686071358, 'reg_alpha': 0.9774207519848346, 'feature_fraction': 0.22825663127000284, 'bagging_fraction': 0.7908985554546198, 'bagging_freq': 5, 'num_leaves': 227, 'min_child_samples': 30}. Best is trial 47 with value: -1.8918126804724371.\u001b[0m\n"
     ]
    },
    {
     "name": "stdout",
     "output_type": "stream",
     "text": [
      "Early stopping, best iteration is:\n",
      "[293]\ttraining's l1: 2.63342\tvalid_1's l1: 1.91065\n",
      "[LightGBM] [Warning] feature_fraction is set=0.3483802077304311, colsample_bytree=0.7 will be ignored. Current value: feature_fraction=0.3483802077304311\n",
      "[LightGBM] [Warning] bagging_fraction is set=0.7132347917518387, subsample=0.9 will be ignored. Current value: bagging_fraction=0.7132347917518387\n",
      "[LightGBM] [Warning] bagging_freq is set=3, subsample_freq=0 will be ignored. Current value: bagging_freq=3\n",
      "Training until validation scores don't improve for 100 rounds\n",
      "[100]\ttraining's l1: 2.71738\tvalid_1's l1: 1.94297\n",
      "[200]\ttraining's l1: 2.70603\tvalid_1's l1: 1.93195\n",
      "[300]\ttraining's l1: 2.70316\tvalid_1's l1: 1.92864\n",
      "[400]\ttraining's l1: 2.70005\tvalid_1's l1: 1.92421\n",
      "[500]\ttraining's l1: 2.69866\tvalid_1's l1: 1.92401\n",
      "[600]\ttraining's l1: 2.69786\tvalid_1's l1: 1.92265\n",
      "[700]\ttraining's l1: 2.69649\tvalid_1's l1: 1.92102\n"
     ]
    },
    {
     "name": "stderr",
     "output_type": "stream",
     "text": [
      "\u001b[32m[I 2021-07-19 22:03:42,696]\u001b[0m Trial 53 finished with value: -1.9209594356763746 and parameters: {'max_depth': 1, 'min_child_weight': 19, 'subsample': 0.9, 'colsample_bytree': 0.7, 'reg_lambda': 0.0024992655366928244, 'reg_alpha': 0.42202057981353686, 'feature_fraction': 0.3483802077304311, 'bagging_fraction': 0.7132347917518387, 'bagging_freq': 3, 'num_leaves': 717, 'min_child_samples': 40}. Best is trial 47 with value: -1.8918126804724371.\u001b[0m\n"
     ]
    },
    {
     "name": "stdout",
     "output_type": "stream",
     "text": [
      "Early stopping, best iteration is:\n",
      "[696]\ttraining's l1: 2.6965\tvalid_1's l1: 1.921\n",
      "[LightGBM] [Warning] feature_fraction is set=0.6836822924086282, colsample_bytree=0.7 will be ignored. Current value: feature_fraction=0.6836822924086282\n",
      "[LightGBM] [Warning] bagging_fraction is set=0.6066030028147342, subsample=0.8 will be ignored. Current value: bagging_fraction=0.6066030028147342\n",
      "[LightGBM] [Warning] bagging_freq is set=7, subsample_freq=0 will be ignored. Current value: bagging_freq=7\n",
      "Training until validation scores don't improve for 100 rounds\n",
      "[100]\ttraining's l1: 2.6061\tvalid_1's l1: 1.90663\n",
      "[200]\ttraining's l1: 2.5853\tvalid_1's l1: 1.90432\n",
      "Early stopping, best iteration is:\n",
      "[138]\ttraining's l1: 2.59393\tvalid_1's l1: 1.90107\n"
     ]
    },
    {
     "name": "stderr",
     "output_type": "stream",
     "text": [
      "\u001b[32m[I 2021-07-19 22:03:44,541]\u001b[0m Trial 54 finished with value: -1.9009114063054424 and parameters: {'max_depth': 5, 'min_child_weight': 16, 'subsample': 0.8, 'colsample_bytree': 0.7, 'reg_lambda': 0.008681760520546073, 'reg_alpha': 2.880524580735302, 'feature_fraction': 0.6836822924086282, 'bagging_fraction': 0.6066030028147342, 'bagging_freq': 7, 'num_leaves': 301, 'min_child_samples': 44}. Best is trial 47 with value: -1.8918126804724371.\u001b[0m\n"
     ]
    },
    {
     "name": "stdout",
     "output_type": "stream",
     "text": [
      "[LightGBM] [Warning] feature_fraction is set=0.4614905949591713, colsample_bytree=0.6 will be ignored. Current value: feature_fraction=0.4614905949591713\n",
      "[LightGBM] [Warning] bagging_fraction is set=0.9882505275591609, subsample=0.9 will be ignored. Current value: bagging_fraction=0.9882505275591609\n",
      "[LightGBM] [Warning] bagging_freq is set=2, subsample_freq=0 will be ignored. Current value: bagging_freq=2\n",
      "Training until validation scores don't improve for 100 rounds\n",
      "[100]\ttraining's l1: 2.67987\tvalid_1's l1: 1.91995\n",
      "[200]\ttraining's l1: 2.66753\tvalid_1's l1: 1.91057\n",
      "[300]\ttraining's l1: 2.66195\tvalid_1's l1: 1.90979\n",
      "[400]\ttraining's l1: 2.65541\tvalid_1's l1: 1.90351\n",
      "[500]\ttraining's l1: 2.65032\tvalid_1's l1: 1.90318\n",
      "[600]\ttraining's l1: 2.64712\tvalid_1's l1: 1.9017\n",
      "[700]\ttraining's l1: 2.64245\tvalid_1's l1: 1.90235\n"
     ]
    },
    {
     "name": "stderr",
     "output_type": "stream",
     "text": [
      "\u001b[32m[I 2021-07-19 22:03:52,479]\u001b[0m Trial 55 finished with value: -1.9010863988887032 and parameters: {'max_depth': 2, 'min_child_weight': 20, 'subsample': 0.9, 'colsample_bytree': 0.6, 'reg_lambda': 8.994275701291302, 'reg_alpha': 1.7744832941299162, 'feature_fraction': 0.4614905949591713, 'bagging_fraction': 0.9882505275591609, 'bagging_freq': 2, 'num_leaves': 505, 'min_child_samples': 33}. Best is trial 47 with value: -1.8918126804724371.\u001b[0m\n"
     ]
    },
    {
     "name": "stdout",
     "output_type": "stream",
     "text": [
      "Early stopping, best iteration is:\n",
      "[699]\ttraining's l1: 2.6427\tvalid_1's l1: 1.9014\n",
      "[LightGBM] [Warning] feature_fraction is set=0.2885285209209924, colsample_bytree=0.5 will be ignored. Current value: feature_fraction=0.2885285209209924\n",
      "[LightGBM] [Warning] bagging_fraction is set=0.6521816255605307, subsample=0.6 will be ignored. Current value: bagging_fraction=0.6521816255605307\n",
      "[LightGBM] [Warning] bagging_freq is set=6, subsample_freq=0 will be ignored. Current value: bagging_freq=6\n",
      "Training until validation scores don't improve for 100 rounds\n",
      "[100]\ttraining's l1: 2.58991\tvalid_1's l1: 1.90217\n"
     ]
    },
    {
     "name": "stderr",
     "output_type": "stream",
     "text": [
      "\u001b[32m[I 2021-07-19 22:03:53,971]\u001b[0m Trial 56 finished with value: -1.898131010656283 and parameters: {'max_depth': 6, 'min_child_weight': 18, 'subsample': 0.6, 'colsample_bytree': 0.5, 'reg_lambda': 0.5431619900089937, 'reg_alpha': 0.07336139505186422, 'feature_fraction': 0.2885285209209924, 'bagging_fraction': 0.6521816255605307, 'bagging_freq': 6, 'num_leaves': 159, 'min_child_samples': 80}. Best is trial 47 with value: -1.8918126804724371.\u001b[0m\n"
     ]
    },
    {
     "name": "stdout",
     "output_type": "stream",
     "text": [
      "Early stopping, best iteration is:\n",
      "[44]\ttraining's l1: 2.6175\tvalid_1's l1: 1.89814\n",
      "[LightGBM] [Warning] feature_fraction is set=0.28796419004169815, colsample_bytree=0.5 will be ignored. Current value: feature_fraction=0.28796419004169815\n",
      "[LightGBM] [Warning] bagging_fraction is set=0.7393787072021571, subsample=0.5 will be ignored. Current value: bagging_fraction=0.7393787072021571\n",
      "[LightGBM] [Warning] bagging_freq is set=6, subsample_freq=0 will be ignored. Current value: bagging_freq=6\n",
      "Training until validation scores don't improve for 100 rounds\n",
      "[100]\ttraining's l1: 2.58621\tvalid_1's l1: 1.90377\n"
     ]
    },
    {
     "name": "stderr",
     "output_type": "stream",
     "text": [
      "\u001b[32m[I 2021-07-19 22:03:55,743]\u001b[0m Trial 57 finished with value: -1.8985680929646065 and parameters: {'max_depth': 6, 'min_child_weight': 17, 'subsample': 0.5, 'colsample_bytree': 0.5, 'reg_lambda': 0.5667148179438249, 'reg_alpha': 0.07331257199940548, 'feature_fraction': 0.28796419004169815, 'bagging_fraction': 0.7393787072021571, 'bagging_freq': 6, 'num_leaves': 74, 'min_child_samples': 77}. Best is trial 47 with value: -1.8918126804724371.\u001b[0m\n"
     ]
    },
    {
     "name": "stdout",
     "output_type": "stream",
     "text": [
      "Early stopping, best iteration is:\n",
      "[71]\ttraining's l1: 2.60262\tvalid_1's l1: 1.89861\n",
      "[LightGBM] [Warning] feature_fraction is set=0.3347389903650708, colsample_bytree=0.5 will be ignored. Current value: feature_fraction=0.3347389903650708\n",
      "[LightGBM] [Warning] bagging_fraction is set=0.5603975723002752, subsample=0.6 will be ignored. Current value: bagging_fraction=0.5603975723002752\n",
      "[LightGBM] [Warning] bagging_freq is set=5, subsample_freq=0 will be ignored. Current value: bagging_freq=5\n",
      "Training until validation scores don't improve for 100 rounds\n"
     ]
    },
    {
     "name": "stderr",
     "output_type": "stream",
     "text": [
      "\u001b[32m[I 2021-07-19 22:03:57,343]\u001b[0m Trial 58 finished with value: -1.9018033330945578 and parameters: {'max_depth': 8, 'min_child_weight': 19, 'subsample': 0.6, 'colsample_bytree': 0.5, 'reg_lambda': 0.15231064686320636, 'reg_alpha': 0.17235855779505804, 'feature_fraction': 0.3347389903650708, 'bagging_fraction': 0.5603975723002752, 'bagging_freq': 5, 'num_leaves': 147, 'min_child_samples': 82}. Best is trial 47 with value: -1.8918126804724371.\u001b[0m\n"
     ]
    },
    {
     "name": "stdout",
     "output_type": "stream",
     "text": [
      "[100]\ttraining's l1: 2.56837\tvalid_1's l1: 1.91768\n",
      "Early stopping, best iteration is:\n",
      "[21]\ttraining's l1: 2.63028\tvalid_1's l1: 1.9018\n",
      "[LightGBM] [Warning] feature_fraction is set=0.8184076666002096, colsample_bytree=0.8 will be ignored. Current value: feature_fraction=0.8184076666002096\n",
      "[LightGBM] [Warning] bagging_fraction is set=0.6938027539231668, subsample=0.6 will be ignored. Current value: bagging_fraction=0.6938027539231668\n",
      "[LightGBM] [Warning] bagging_freq is set=3, subsample_freq=0 will be ignored. Current value: bagging_freq=3\n",
      "Training until validation scores don't improve for 100 rounds\n",
      "[100]\ttraining's l1: 2.60565\tvalid_1's l1: 1.90396\n",
      "[200]\ttraining's l1: 2.58539\tvalid_1's l1: 1.90254\n",
      "[300]\ttraining's l1: 2.57067\tvalid_1's l1: 1.8999\n",
      "[400]\ttraining's l1: 2.56243\tvalid_1's l1: 1.90129\n"
     ]
    },
    {
     "name": "stderr",
     "output_type": "stream",
     "text": [
      "\u001b[32m[I 2021-07-19 22:04:00,896]\u001b[0m Trial 59 finished with value: -1.8987559787479067 and parameters: {'max_depth': 5, 'min_child_weight': 20, 'subsample': 0.6, 'colsample_bytree': 0.8, 'reg_lambda': 0.07690859356682281, 'reg_alpha': 0.015240393570970292, 'feature_fraction': 0.8184076666002096, 'bagging_fraction': 0.6938027539231668, 'bagging_freq': 3, 'num_leaves': 678, 'min_child_samples': 73}. Best is trial 47 with value: -1.8918126804724371.\u001b[0m\n"
     ]
    },
    {
     "name": "stdout",
     "output_type": "stream",
     "text": [
      "Early stopping, best iteration is:\n",
      "[361]\ttraining's l1: 2.5658\tvalid_1's l1: 1.89939\n",
      "[LightGBM] [Warning] feature_fraction is set=0.5229643192870687, colsample_bytree=0.7 will be ignored. Current value: feature_fraction=0.5229643192870687\n",
      "[LightGBM] [Warning] bagging_fraction is set=0.8628704802185045, subsample=0.6 will be ignored. Current value: bagging_fraction=0.8628704802185045\n",
      "[LightGBM] [Warning] bagging_freq is set=1, subsample_freq=0 will be ignored. Current value: bagging_freq=1\n",
      "Training until validation scores don't improve for 100 rounds\n",
      "[100]\ttraining's l1: 2.62462\tvalid_1's l1: 1.91061\n",
      "[200]\ttraining's l1: 2.60141\tvalid_1's l1: 1.90934\n"
     ]
    },
    {
     "name": "stderr",
     "output_type": "stream",
     "text": [
      "\u001b[32m[I 2021-07-19 22:04:03,579]\u001b[0m Trial 60 finished with value: -1.9086041430950649 and parameters: {'max_depth': 7, 'min_child_weight': 15, 'subsample': 0.6, 'colsample_bytree': 0.7, 'reg_lambda': 0.31445062641221866, 'reg_alpha': 0.023345963440826054, 'feature_fraction': 0.5229643192870687, 'bagging_fraction': 0.8628704802185045, 'bagging_freq': 1, 'num_leaves': 20, 'min_child_samples': 85}. Best is trial 47 with value: -1.8918126804724371.\u001b[0m\n"
     ]
    },
    {
     "name": "stdout",
     "output_type": "stream",
     "text": [
      "Early stopping, best iteration is:\n",
      "[147]\ttraining's l1: 2.6079\tvalid_1's l1: 1.90886\n",
      "[LightGBM] [Warning] feature_fraction is set=0.24598985384902539, colsample_bytree=0.6 will be ignored. Current value: feature_fraction=0.24598985384902539\n",
      "[LightGBM] [Warning] bagging_fraction is set=0.6444443772290888, subsample=0.7 will be ignored. Current value: bagging_fraction=0.6444443772290888\n",
      "[LightGBM] [Warning] bagging_freq is set=4, subsample_freq=0 will be ignored. Current value: bagging_freq=4\n",
      "Training until validation scores don't improve for 100 rounds\n",
      "[100]\ttraining's l1: 2.63312\tvalid_1's l1: 1.89607\n",
      "[200]\ttraining's l1: 2.61621\tvalid_1's l1: 1.89227\n"
     ]
    },
    {
     "name": "stderr",
     "output_type": "stream",
     "text": [
      "\u001b[32m[I 2021-07-19 22:04:05,833]\u001b[0m Trial 61 finished with value: -1.8916939075065007 and parameters: {'max_depth': 4, 'min_child_weight': 18, 'subsample': 0.7, 'colsample_bytree': 0.6, 'reg_lambda': 2.3603291103098445, 'reg_alpha': 0.006591889224170293, 'feature_fraction': 0.24598985384902539, 'bagging_fraction': 0.6444443772290888, 'bagging_freq': 4, 'num_leaves': 208, 'min_child_samples': 69}. Best is trial 61 with value: -1.8916939075065007.\u001b[0m\n"
     ]
    },
    {
     "name": "stdout",
     "output_type": "stream",
     "text": [
      "[300]\ttraining's l1: 2.60249\tvalid_1's l1: 1.8936\n",
      "Early stopping, best iteration is:\n",
      "[231]\ttraining's l1: 2.61248\tvalid_1's l1: 1.8919\n",
      "[LightGBM] [Warning] feature_fraction is set=0.7634430407852897, colsample_bytree=0.5 will be ignored. Current value: feature_fraction=0.7634430407852897\n",
      "[LightGBM] [Warning] bagging_fraction is set=0.6564146246741978, subsample=0.7 will be ignored. Current value: bagging_fraction=0.6564146246741978\n",
      "[LightGBM] [Warning] bagging_freq is set=6, subsample_freq=0 will be ignored. Current value: bagging_freq=6\n",
      "Training until validation scores don't improve for 100 rounds\n",
      "[100]\ttraining's l1: 2.6283\tvalid_1's l1: 1.9062\n",
      "[200]\ttraining's l1: 2.60638\tvalid_1's l1: 1.90185\n"
     ]
    },
    {
     "name": "stderr",
     "output_type": "stream",
     "text": [
      "\u001b[32m[I 2021-07-19 22:04:07,620]\u001b[0m Trial 62 finished with value: -1.8991502622291236 and parameters: {'max_depth': 4, 'min_child_weight': 18, 'subsample': 0.7, 'colsample_bytree': 0.5, 'reg_lambda': 3.6250094259965446, 'reg_alpha': 0.007324736735707783, 'feature_fraction': 0.7634430407852897, 'bagging_fraction': 0.6564146246741978, 'bagging_freq': 6, 'num_leaves': 196, 'min_child_samples': 61}. Best is trial 61 with value: -1.8916939075065007.\u001b[0m\n"
     ]
    },
    {
     "name": "stdout",
     "output_type": "stream",
     "text": [
      "Early stopping, best iteration is:\n",
      "[147]\ttraining's l1: 2.61599\tvalid_1's l1: 1.89927\n",
      "[LightGBM] [Warning] feature_fraction is set=0.40124745313365184, colsample_bytree=0.7 will be ignored. Current value: feature_fraction=0.40124745313365184\n",
      "[LightGBM] [Warning] bagging_fraction is set=0.7811808139395936, subsample=0.5 will be ignored. Current value: bagging_fraction=0.7811808139395936\n",
      "[LightGBM] [Warning] bagging_freq is set=4, subsample_freq=0 will be ignored. Current value: bagging_freq=4\n",
      "Training until validation scores don't improve for 100 rounds\n",
      "[100]\ttraining's l1: 2.58248\tvalid_1's l1: 1.90495\n"
     ]
    },
    {
     "name": "stderr",
     "output_type": "stream",
     "text": [
      "\u001b[32m[I 2021-07-19 22:04:09,745]\u001b[0m Trial 63 finished with value: -1.900089558099337 and parameters: {'max_depth': 6, 'min_child_weight': 17, 'subsample': 0.5, 'colsample_bytree': 0.7, 'reg_lambda': 0.7996878680643148, 'reg_alpha': 0.0035055735250685764, 'feature_fraction': 0.40124745313365184, 'bagging_fraction': 0.7811808139395936, 'bagging_freq': 4, 'num_leaves': 160, 'min_child_samples': 67}. Best is trial 61 with value: -1.8916939075065007.\u001b[0m\n"
     ]
    },
    {
     "name": "stdout",
     "output_type": "stream",
     "text": [
      "Early stopping, best iteration is:\n",
      "[82]\ttraining's l1: 2.59321\tvalid_1's l1: 1.90029\n",
      "[LightGBM] [Warning] feature_fraction is set=0.24859535321679774, colsample_bytree=0.6 will be ignored. Current value: feature_fraction=0.24859535321679774\n",
      "[LightGBM] [Warning] bagging_fraction is set=0.8019866190969688, subsample=0.6 will be ignored. Current value: bagging_fraction=0.8019866190969688\n",
      "[LightGBM] [Warning] bagging_freq is set=3, subsample_freq=0 will be ignored. Current value: bagging_freq=3\n",
      "Training until validation scores don't improve for 100 rounds\n",
      "[100]\ttraining's l1: 2.55137\tvalid_1's l1: 1.91762\n"
     ]
    },
    {
     "name": "stderr",
     "output_type": "stream",
     "text": [
      "\u001b[32m[I 2021-07-19 22:04:11,816]\u001b[0m Trial 64 finished with value: -1.905602467498628 and parameters: {'max_depth': 9, 'min_child_weight': 16, 'subsample': 0.6, 'colsample_bytree': 0.6, 'reg_lambda': 2.105852894884384, 'reg_alpha': 0.08801035369500415, 'feature_fraction': 0.24859535321679774, 'bagging_fraction': 0.8019866190969688, 'bagging_freq': 3, 'num_leaves': 265, 'min_child_samples': 92}. Best is trial 61 with value: -1.8916939075065007.\u001b[0m\n"
     ]
    },
    {
     "name": "stdout",
     "output_type": "stream",
     "text": [
      "Early stopping, best iteration is:\n",
      "[32]\ttraining's l1: 2.59584\tvalid_1's l1: 1.90561\n",
      "[LightGBM] [Warning] feature_fraction is set=0.28253237688144484, colsample_bytree=0.7 will be ignored. Current value: feature_fraction=0.28253237688144484\n",
      "[LightGBM] [Warning] bagging_fraction is set=0.6102354941861615, subsample=0.7 will be ignored. Current value: bagging_fraction=0.6102354941861615\n",
      "[LightGBM] [Warning] bagging_freq is set=5, subsample_freq=0 will be ignored. Current value: bagging_freq=5\n",
      "Training until validation scores don't improve for 100 rounds\n",
      "[100]\ttraining's l1: 2.63338\tvalid_1's l1: 1.91093\n"
     ]
    },
    {
     "name": "stderr",
     "output_type": "stream",
     "text": [
      "\u001b[32m[I 2021-07-19 22:04:13,196]\u001b[0m Trial 65 finished with value: -1.9070823486211055 and parameters: {'max_depth': 4, 'min_child_weight': 19, 'subsample': 0.7, 'colsample_bytree': 0.7, 'reg_lambda': 11.171869428924609, 'reg_alpha': 0.0013823231152121126, 'feature_fraction': 0.28253237688144484, 'bagging_fraction': 0.6102354941861615, 'bagging_freq': 5, 'num_leaves': 226, 'min_child_samples': 78}. Best is trial 61 with value: -1.8916939075065007.\u001b[0m\n"
     ]
    },
    {
     "name": "stdout",
     "output_type": "stream",
     "text": [
      "Early stopping, best iteration is:\n",
      "[65]\ttraining's l1: 2.64521\tvalid_1's l1: 1.9071\n",
      "[LightGBM] [Warning] feature_fraction is set=0.24186846652419014, colsample_bytree=0.5 will be ignored. Current value: feature_fraction=0.24186846652419014\n",
      "[LightGBM] [Warning] bagging_fraction is set=0.6606641319757457, subsample=0.9 will be ignored. Current value: bagging_fraction=0.6606641319757457\n",
      "[LightGBM] [Warning] bagging_freq is set=2, subsample_freq=0 will be ignored. Current value: bagging_freq=2\n",
      "Training until validation scores don't improve for 100 rounds\n",
      "[100]\ttraining's l1: 2.61426\tvalid_1's l1: 1.90495\n"
     ]
    },
    {
     "name": "stderr",
     "output_type": "stream",
     "text": [
      "\u001b[32m[I 2021-07-19 22:04:14,848]\u001b[0m Trial 66 finished with value: -1.9021682911315902 and parameters: {'max_depth': 5, 'min_child_weight': 13, 'subsample': 0.9, 'colsample_bytree': 0.5, 'reg_lambda': 5.526235445967754, 'reg_alpha': 0.040283014326108646, 'feature_fraction': 0.24186846652419014, 'bagging_fraction': 0.6606641319757457, 'bagging_freq': 2, 'num_leaves': 773, 'min_child_samples': 66}. Best is trial 61 with value: -1.8916939075065007.\u001b[0m\n"
     ]
    },
    {
     "name": "stdout",
     "output_type": "stream",
     "text": [
      "Early stopping, best iteration is:\n",
      "[72]\ttraining's l1: 2.6217\tvalid_1's l1: 1.90221\n",
      "[LightGBM] [Warning] feature_fraction is set=0.3171181247088891, colsample_bytree=0.6 will be ignored. Current value: feature_fraction=0.3171181247088891\n",
      "[LightGBM] [Warning] bagging_fraction is set=0.9199008720866332, subsample=0.6 will be ignored. Current value: bagging_fraction=0.9199008720866332\n",
      "[LightGBM] [Warning] bagging_freq is set=1, subsample_freq=0 will be ignored. Current value: bagging_freq=1\n",
      "Training until validation scores don't improve for 100 rounds\n",
      "[100]\ttraining's l1: 2.67558\tvalid_1's l1: 1.92921\n"
     ]
    },
    {
     "name": "stderr",
     "output_type": "stream",
     "text": [
      "\u001b[32m[I 2021-07-19 22:04:16,734]\u001b[0m Trial 67 finished with value: -1.925467750426921 and parameters: {'max_depth': 3, 'min_child_weight': 18, 'subsample': 0.6, 'colsample_bytree': 0.6, 'reg_lambda': 889.6212618501535, 'reg_alpha': 0.007866937225814866, 'feature_fraction': 0.3171181247088891, 'bagging_fraction': 0.9199008720866332, 'bagging_freq': 1, 'num_leaves': 78, 'min_child_samples': 73}. Best is trial 61 with value: -1.8916939075065007.\u001b[0m\n"
     ]
    },
    {
     "name": "stdout",
     "output_type": "stream",
     "text": [
      "[200]\ttraining's l1: 2.65635\tvalid_1's l1: 1.92827\n",
      "Early stopping, best iteration is:\n",
      "[122]\ttraining's l1: 2.66745\tvalid_1's l1: 1.9256\n",
      "[LightGBM] [Warning] feature_fraction is set=0.9585210513508875, colsample_bytree=0.7 will be ignored. Current value: feature_fraction=0.9585210513508875\n",
      "[LightGBM] [Warning] bagging_fraction is set=0.7026938393198896, subsample=0.9 will be ignored. Current value: bagging_fraction=0.7026938393198896\n",
      "[LightGBM] [Warning] bagging_freq is set=4, subsample_freq=0 will be ignored. Current value: bagging_freq=4\n",
      "Training until validation scores don't improve for 100 rounds\n",
      "[100]\ttraining's l1: 2.71562\tvalid_1's l1: 1.94008\n",
      "[200]\ttraining's l1: 2.70612\tvalid_1's l1: 1.93168\n",
      "[300]\ttraining's l1: 2.702\tvalid_1's l1: 1.9293\n",
      "[400]\ttraining's l1: 2.70034\tvalid_1's l1: 1.92743\n",
      "[500]\ttraining's l1: 2.69803\tvalid_1's l1: 1.92496\n",
      "[600]\ttraining's l1: 2.69693\tvalid_1's l1: 1.92426\n"
     ]
    },
    {
     "name": "stderr",
     "output_type": "stream",
     "text": [
      "\u001b[32m[I 2021-07-19 22:04:20,833]\u001b[0m Trial 68 finished with value: -1.9241081969305034 and parameters: {'max_depth': 1, 'min_child_weight': 20, 'subsample': 0.9, 'colsample_bytree': 0.7, 'reg_lambda': 0.1800502746473709, 'reg_alpha': 0.47053933719615904, 'feature_fraction': 0.9585210513508875, 'bagging_fraction': 0.7026938393198896, 'bagging_freq': 4, 'num_leaves': 280, 'min_child_samples': 79}. Best is trial 61 with value: -1.8916939075065007.\u001b[0m\n"
     ]
    },
    {
     "name": "stdout",
     "output_type": "stream",
     "text": [
      "[700]\ttraining's l1: 2.6964\tvalid_1's l1: 1.92418\n",
      "Early stopping, best iteration is:\n",
      "[629]\ttraining's l1: 2.69688\tvalid_1's l1: 1.92416\n",
      "[LightGBM] [Warning] feature_fraction is set=0.7325523332136836, colsample_bytree=0.6 will be ignored. Current value: feature_fraction=0.7325523332136836\n",
      "[LightGBM] [Warning] bagging_fraction is set=0.4945157638339922, subsample=0.7 will be ignored. Current value: bagging_fraction=0.4945157638339922\n",
      "[LightGBM] [Warning] bagging_freq is set=6, subsample_freq=0 will be ignored. Current value: bagging_freq=6\n",
      "Training until validation scores don't improve for 100 rounds\n",
      "[100]\ttraining's l1: 2.67941\tvalid_1's l1: 1.91881\n",
      "[200]\ttraining's l1: 2.66741\tvalid_1's l1: 1.91439\n",
      "[300]\ttraining's l1: 2.65972\tvalid_1's l1: 1.91013\n",
      "[400]\ttraining's l1: 2.65674\tvalid_1's l1: 1.90955\n",
      "Early stopping, best iteration is:\n",
      "[364]\ttraining's l1: 2.65761\tvalid_1's l1: 1.9081\n"
     ]
    },
    {
     "name": "stderr",
     "output_type": "stream",
     "text": [
      "\u001b[32m[I 2021-07-19 22:04:22,844]\u001b[0m Trial 69 finished with value: -1.9079513400208399 and parameters: {'max_depth': 2, 'min_child_weight': 19, 'subsample': 0.7, 'colsample_bytree': 0.6, 'reg_lambda': 0.4052193200011661, 'reg_alpha': 0.1515383440397251, 'feature_fraction': 0.7325523332136836, 'bagging_fraction': 0.4945157638339922, 'bagging_freq': 6, 'num_leaves': 135, 'min_child_samples': 61}. Best is trial 61 with value: -1.8916939075065007.\u001b[0m\n"
     ]
    },
    {
     "name": "stdout",
     "output_type": "stream",
     "text": [
      "[LightGBM] [Warning] feature_fraction is set=0.6211797209033297, colsample_bytree=0.8 will be ignored. Current value: feature_fraction=0.6211797209033297\n",
      "[LightGBM] [Warning] bagging_fraction is set=0.7532285540535542, subsample=0.5 will be ignored. Current value: bagging_fraction=0.7532285540535542\n",
      "[LightGBM] [Warning] bagging_freq is set=9, subsample_freq=0 will be ignored. Current value: bagging_freq=9\n",
      "Training until validation scores don't improve for 100 rounds\n",
      "[100]\ttraining's l1: 2.60538\tvalid_1's l1: 1.9072\n",
      "[200]\ttraining's l1: 2.58545\tvalid_1's l1: 1.90074\n",
      "[300]\ttraining's l1: 2.57318\tvalid_1's l1: 1.90023\n"
     ]
    },
    {
     "name": "stderr",
     "output_type": "stream",
     "text": [
      "\u001b[32m[I 2021-07-19 22:04:26,265]\u001b[0m Trial 70 finished with value: -1.899615319332036 and parameters: {'max_depth': 5, 'min_child_weight': 17, 'subsample': 0.5, 'colsample_bytree': 0.8, 'reg_lambda': 1.054569304308208, 'reg_alpha': 0.7271778375471163, 'feature_fraction': 0.6211797209033297, 'bagging_fraction': 0.7532285540535542, 'bagging_freq': 9, 'num_leaves': 213, 'min_child_samples': 71}. Best is trial 61 with value: -1.8916939075065007.\u001b[0m\n"
     ]
    },
    {
     "name": "stdout",
     "output_type": "stream",
     "text": [
      "Early stopping, best iteration is:\n",
      "[269]\ttraining's l1: 2.57527\tvalid_1's l1: 1.89989\n",
      "[LightGBM] [Warning] feature_fraction is set=0.3575515796504602, colsample_bytree=0.6 will be ignored. Current value: feature_fraction=0.3575515796504602\n",
      "[LightGBM] [Warning] bagging_fraction is set=0.6220276647269587, subsample=0.8 will be ignored. Current value: bagging_fraction=0.6220276647269587\n",
      "[LightGBM] [Warning] bagging_freq is set=3, subsample_freq=0 will be ignored. Current value: bagging_freq=3\n",
      "Training until validation scores don't improve for 100 rounds\n",
      "[100]\ttraining's l1: 2.65744\tvalid_1's l1: 1.90454\n",
      "[200]\ttraining's l1: 2.6392\tvalid_1's l1: 1.9027\n",
      "Early stopping, best iteration is:\n",
      "[134]\ttraining's l1: 2.64938\tvalid_1's l1: 1.89934\n"
     ]
    },
    {
     "name": "stderr",
     "output_type": "stream",
     "text": [
      "\u001b[32m[I 2021-07-19 22:04:28,121]\u001b[0m Trial 71 finished with value: -1.8992753250937857 and parameters: {'max_depth': 3, 'min_child_weight': 18, 'subsample': 0.8, 'colsample_bytree': 0.6, 'reg_lambda': 2.3334582217163273, 'reg_alpha': 1.5879752319418967, 'feature_fraction': 0.3575515796504602, 'bagging_fraction': 0.6220276647269587, 'bagging_freq': 3, 'num_leaves': 857, 'min_child_samples': 54}. Best is trial 61 with value: -1.8916939075065007.\u001b[0m\n"
     ]
    },
    {
     "name": "stdout",
     "output_type": "stream",
     "text": [
      "[LightGBM] [Warning] feature_fraction is set=0.2160451700279829, colsample_bytree=0.6 will be ignored. Current value: feature_fraction=0.2160451700279829\n",
      "[LightGBM] [Warning] bagging_fraction is set=0.5397316804827074, subsample=0.8 will be ignored. Current value: bagging_fraction=0.5397316804827074\n",
      "[LightGBM] [Warning] bagging_freq is set=4, subsample_freq=0 will be ignored. Current value: bagging_freq=4\n",
      "Training until validation scores don't improve for 100 rounds\n",
      "[100]\ttraining's l1: 2.58131\tvalid_1's l1: 1.93614\n"
     ]
    },
    {
     "name": "stderr",
     "output_type": "stream",
     "text": [
      "\u001b[32m[I 2021-07-19 22:04:30,138]\u001b[0m Trial 72 finished with value: -1.9137074675384236 and parameters: {'max_depth': 20, 'min_child_weight': 18, 'subsample': 0.8, 'colsample_bytree': 0.6, 'reg_lambda': 1.747841752111783, 'reg_alpha': 7.12221762511982, 'feature_fraction': 0.2160451700279829, 'bagging_fraction': 0.5397316804827074, 'bagging_freq': 4, 'num_leaves': 185, 'min_child_samples': 94}. Best is trial 61 with value: -1.8916939075065007.\u001b[0m\n"
     ]
    },
    {
     "name": "stdout",
     "output_type": "stream",
     "text": [
      "Early stopping, best iteration is:\n",
      "[24]\ttraining's l1: 2.64642\tvalid_1's l1: 1.91371\n",
      "[LightGBM] [Warning] feature_fraction is set=0.27807462464173704, colsample_bytree=0.6 will be ignored. Current value: feature_fraction=0.27807462464173704\n",
      "[LightGBM] [Warning] bagging_fraction is set=0.5744694585177055, subsample=0.9 will be ignored. Current value: bagging_fraction=0.5744694585177055\n",
      "[LightGBM] [Warning] bagging_freq is set=5, subsample_freq=0 will be ignored. Current value: bagging_freq=5\n",
      "Training until validation scores don't improve for 100 rounds\n",
      "[100]\ttraining's l1: 2.63489\tvalid_1's l1: 1.91003\n"
     ]
    },
    {
     "name": "stderr",
     "output_type": "stream",
     "text": [
      "\u001b[32m[I 2021-07-19 22:04:31,802]\u001b[0m Trial 73 finished with value: -1.907896565561087 and parameters: {'max_depth': 4, 'min_child_weight': 16, 'subsample': 0.9, 'colsample_bytree': 0.6, 'reg_lambda': 3.1823460977908464, 'reg_alpha': 0.31515458974554444, 'feature_fraction': 0.27807462464173704, 'bagging_fraction': 0.5744694585177055, 'bagging_freq': 5, 'num_leaves': 330, 'min_child_samples': 87}. Best is trial 61 with value: -1.8916939075065007.\u001b[0m\n"
     ]
    },
    {
     "name": "stdout",
     "output_type": "stream",
     "text": [
      "[200]\ttraining's l1: 2.62046\tvalid_1's l1: 1.91278\n",
      "Early stopping, best iteration is:\n",
      "[133]\ttraining's l1: 2.6286\tvalid_1's l1: 1.90799\n",
      "[LightGBM] [Warning] feature_fraction is set=0.9958689375932004, colsample_bytree=0.6 will be ignored. Current value: feature_fraction=0.9958689375932004\n",
      "[LightGBM] [Warning] bagging_fraction is set=0.6671293081848677, subsample=0.7 will be ignored. Current value: bagging_fraction=0.6671293081848677\n",
      "[LightGBM] [Warning] bagging_freq is set=2, subsample_freq=0 will be ignored. Current value: bagging_freq=2\n",
      "Training until validation scores don't improve for 100 rounds\n",
      "[100]\ttraining's l1: 2.6861\tvalid_1's l1: 1.91744\n",
      "[200]\ttraining's l1: 2.67385\tvalid_1's l1: 1.91617\n",
      "[300]\ttraining's l1: 2.66704\tvalid_1's l1: 1.9109\n",
      "[400]\ttraining's l1: 2.66422\tvalid_1's l1: 1.90934\n",
      "[500]\ttraining's l1: 2.65824\tvalid_1's l1: 1.90848\n"
     ]
    },
    {
     "name": "stderr",
     "output_type": "stream",
     "text": [
      "\u001b[32m[I 2021-07-19 22:04:36,246]\u001b[0m Trial 74 finished with value: -1.9073887800106775 and parameters: {'max_depth': 2, 'min_child_weight': 19, 'subsample': 0.7, 'colsample_bytree': 0.6, 'reg_lambda': 6.331757449274907, 'reg_alpha': 24.95377343394686, 'feature_fraction': 0.9958689375932004, 'bagging_fraction': 0.6671293081848677, 'bagging_freq': 2, 'num_leaves': 352, 'min_child_samples': 38}. Best is trial 61 with value: -1.8916939075065007.\u001b[0m\n"
     ]
    },
    {
     "name": "stdout",
     "output_type": "stream",
     "text": [
      "Early stopping, best iteration is:\n",
      "[488]\ttraining's l1: 2.65885\tvalid_1's l1: 1.90756\n",
      "[LightGBM] [Warning] feature_fraction is set=0.20581226106705552, colsample_bytree=0.7 will be ignored. Current value: feature_fraction=0.20581226106705552\n",
      "[LightGBM] [Warning] bagging_fraction is set=0.6367414179328102, subsample=0.9 will be ignored. Current value: bagging_fraction=0.6367414179328102\n",
      "[LightGBM] [Warning] bagging_freq is set=3, subsample_freq=0 will be ignored. Current value: bagging_freq=3\n",
      "Training until validation scores don't improve for 100 rounds\n",
      "[100]\ttraining's l1: 2.59542\tvalid_1's l1: 1.89776\n"
     ]
    },
    {
     "name": "stderr",
     "output_type": "stream",
     "text": [
      "\u001b[32m[I 2021-07-19 22:04:37,694]\u001b[0m Trial 75 finished with value: -1.8966449152459155 and parameters: {'max_depth': 6, 'min_child_weight': 17, 'subsample': 0.9, 'colsample_bytree': 0.7, 'reg_lambda': 0.6881389434392279, 'reg_alpha': 0.82793290215339, 'feature_fraction': 0.20581226106705552, 'bagging_fraction': 0.6367414179328102, 'bagging_freq': 3, 'num_leaves': 434, 'min_child_samples': 43}. Best is trial 61 with value: -1.8916939075065007.\u001b[0m\n"
     ]
    },
    {
     "name": "stdout",
     "output_type": "stream",
     "text": [
      "Early stopping, best iteration is:\n",
      "[38]\ttraining's l1: 2.62857\tvalid_1's l1: 1.89665\n",
      "[LightGBM] [Warning] feature_fraction is set=0.2957543111268357, colsample_bytree=0.7 will be ignored. Current value: feature_fraction=0.2957543111268357\n",
      "[LightGBM] [Warning] bagging_fraction is set=0.7261132952146364, subsample=0.9 will be ignored. Current value: bagging_fraction=0.7261132952146364\n",
      "[LightGBM] [Warning] bagging_freq is set=3, subsample_freq=0 will be ignored. Current value: bagging_freq=3\n",
      "Training until validation scores don't improve for 100 rounds\n",
      "[100]\ttraining's l1: 2.54601\tvalid_1's l1: 1.92069\n"
     ]
    },
    {
     "name": "stderr",
     "output_type": "stream",
     "text": [
      "\u001b[32m[I 2021-07-19 22:04:39,563]\u001b[0m Trial 76 finished with value: -1.9028029956102952 and parameters: {'max_depth': 8, 'min_child_weight': 20, 'subsample': 0.9, 'colsample_bytree': 0.7, 'reg_lambda': 0.5563080153393015, 'reg_alpha': 0.7851707984147943, 'feature_fraction': 0.2957543111268357, 'bagging_fraction': 0.7261132952146364, 'bagging_freq': 3, 'num_leaves': 438, 'min_child_samples': 42}. Best is trial 61 with value: -1.8916939075065007.\u001b[0m\n"
     ]
    },
    {
     "name": "stdout",
     "output_type": "stream",
     "text": [
      "Early stopping, best iteration is:\n",
      "[22]\ttraining's l1: 2.61387\tvalid_1's l1: 1.90281\n",
      "[LightGBM] [Warning] feature_fraction is set=0.3262177613910027, colsample_bytree=0.7 will be ignored. Current value: feature_fraction=0.3262177613910027\n",
      "[LightGBM] [Warning] bagging_fraction is set=0.9466792294920395, subsample=0.9 will be ignored. Current value: bagging_fraction=0.9466792294920395\n",
      "[LightGBM] [Warning] bagging_freq is set=2, subsample_freq=0 will be ignored. Current value: bagging_freq=2\n",
      "Training until validation scores don't improve for 100 rounds\n",
      "[100]\ttraining's l1: 2.5859\tvalid_1's l1: 1.91134\n"
     ]
    },
    {
     "name": "stderr",
     "output_type": "stream",
     "text": [
      "\u001b[32m[I 2021-07-19 22:04:41,450]\u001b[0m Trial 77 finished with value: -1.902548130682592 and parameters: {'max_depth': 6, 'min_child_weight': 11, 'subsample': 0.9, 'colsample_bytree': 0.7, 'reg_lambda': 0.02671498031512364, 'reg_alpha': 2.1638941908080263, 'feature_fraction': 0.3262177613910027, 'bagging_fraction': 0.9466792294920395, 'bagging_freq': 2, 'num_leaves': 379, 'min_child_samples': 47}. Best is trial 61 with value: -1.8916939075065007.\u001b[0m\n"
     ]
    },
    {
     "name": "stdout",
     "output_type": "stream",
     "text": [
      "Early stopping, best iteration is:\n",
      "[28]\ttraining's l1: 2.63517\tvalid_1's l1: 1.90255\n",
      "[LightGBM] [Warning] feature_fraction is set=0.9191810918339691, colsample_bytree=0.7 will be ignored. Current value: feature_fraction=0.9191810918339691\n",
      "[LightGBM] [Warning] bagging_fraction is set=0.6499450099107142, subsample=0.9 will be ignored. Current value: bagging_fraction=0.6499450099107142\n",
      "[LightGBM] [Warning] bagging_freq is set=7, subsample_freq=0 will be ignored. Current value: bagging_freq=7\n",
      "Training until validation scores don't improve for 100 rounds\n",
      "[100]\ttraining's l1: 2.56251\tvalid_1's l1: 1.89869\n"
     ]
    },
    {
     "name": "stderr",
     "output_type": "stream",
     "text": [
      "\u001b[32m[I 2021-07-19 22:04:43,576]\u001b[0m Trial 78 finished with value: -1.8915630214853947 and parameters: {'max_depth': 7, 'min_child_weight': 17, 'subsample': 0.9, 'colsample_bytree': 0.7, 'reg_lambda': 0.11584013048593701, 'reg_alpha': 0.2250931956560551, 'feature_fraction': 0.9191810918339691, 'bagging_fraction': 0.6499450099107142, 'bagging_freq': 7, 'num_leaves': 288, 'min_child_samples': 63}. Best is trial 78 with value: -1.8915630214853947.\u001b[0m\n"
     ]
    },
    {
     "name": "stdout",
     "output_type": "stream",
     "text": [
      "Early stopping, best iteration is:\n",
      "[61]\ttraining's l1: 2.57979\tvalid_1's l1: 1.8916\n",
      "[LightGBM] [Warning] feature_fraction is set=0.9106890910256101, colsample_bytree=0.7 will be ignored. Current value: feature_fraction=0.9106890910256101\n",
      "[LightGBM] [Warning] bagging_fraction is set=0.6474476845710405, subsample=0.9 will be ignored. Current value: bagging_fraction=0.6474476845710405\n",
      "[LightGBM] [Warning] bagging_freq is set=7, subsample_freq=0 will be ignored. Current value: bagging_freq=7\n",
      "Training until validation scores don't improve for 100 rounds\n",
      "[100]\ttraining's l1: 2.50399\tvalid_1's l1: 1.93392\n"
     ]
    },
    {
     "name": "stderr",
     "output_type": "stream",
     "text": [
      "\u001b[32m[I 2021-07-19 22:04:46,344]\u001b[0m Trial 79 finished with value: -1.9034740787518207 and parameters: {'max_depth': 10, 'min_child_weight': 15, 'subsample': 0.9, 'colsample_bytree': 0.7, 'reg_lambda': 0.09562270463322745, 'reg_alpha': 0.20963931883024656, 'feature_fraction': 0.9106890910256101, 'bagging_fraction': 0.6474476845710405, 'bagging_freq': 7, 'num_leaves': 478, 'min_child_samples': 63}. Best is trial 78 with value: -1.8915630214853947.\u001b[0m\n"
     ]
    },
    {
     "name": "stdout",
     "output_type": "stream",
     "text": [
      "Early stopping, best iteration is:\n",
      "[20]\ttraining's l1: 2.58855\tvalid_1's l1: 1.90349\n",
      "[LightGBM] [Warning] feature_fraction is set=0.8826377867443089, colsample_bytree=0.7 will be ignored. Current value: feature_fraction=0.8826377867443089\n",
      "[LightGBM] [Warning] bagging_fraction is set=0.6828872906585312, subsample=0.9 will be ignored. Current value: bagging_fraction=0.6828872906585312\n",
      "[LightGBM] [Warning] bagging_freq is set=8, subsample_freq=0 will be ignored. Current value: bagging_freq=8\n",
      "Training until validation scores don't improve for 100 rounds\n",
      "[100]\ttraining's l1: 2.54295\tvalid_1's l1: 1.91152\n"
     ]
    },
    {
     "name": "stderr",
     "output_type": "stream",
     "text": [
      "\u001b[32m[I 2021-07-19 22:04:48,834]\u001b[0m Trial 80 finished with value: -1.9015259048058522 and parameters: {'max_depth': 8, 'min_child_weight': 14, 'subsample': 0.9, 'colsample_bytree': 0.7, 'reg_lambda': 0.06974255024154818, 'reg_alpha': 0.05185347157559245, 'feature_fraction': 0.8826377867443089, 'bagging_fraction': 0.6828872906585312, 'bagging_freq': 8, 'num_leaves': 994, 'min_child_samples': 58}. Best is trial 78 with value: -1.8915630214853947.\u001b[0m\n"
     ]
    },
    {
     "name": "stdout",
     "output_type": "stream",
     "text": [
      "Early stopping, best iteration is:\n",
      "[54]\ttraining's l1: 2.56742\tvalid_1's l1: 1.9016\n",
      "[LightGBM] [Warning] feature_fraction is set=0.9652607589139427, colsample_bytree=0.7 will be ignored. Current value: feature_fraction=0.9652607589139427\n",
      "[LightGBM] [Warning] bagging_fraction is set=0.5978351920080636, subsample=0.9 will be ignored. Current value: bagging_fraction=0.5978351920080636\n",
      "[LightGBM] [Warning] bagging_freq is set=9, subsample_freq=0 will be ignored. Current value: bagging_freq=9\n",
      "Training until validation scores don't improve for 100 rounds\n",
      "[100]\ttraining's l1: 2.56653\tvalid_1's l1: 1.90428\n"
     ]
    },
    {
     "name": "stderr",
     "output_type": "stream",
     "text": [
      "\u001b[32m[I 2021-07-19 22:04:50,743]\u001b[0m Trial 81 finished with value: -1.8930919413199279 and parameters: {'max_depth': 7, 'min_child_weight': 17, 'subsample': 0.9, 'colsample_bytree': 0.7, 'reg_lambda': 0.11016794946317367, 'reg_alpha': 0.3818527491463195, 'feature_fraction': 0.9652607589139427, 'bagging_fraction': 0.5978351920080636, 'bagging_freq': 9, 'num_leaves': 295, 'min_child_samples': 71}. Best is trial 78 with value: -1.8915630214853947.\u001b[0m\n"
     ]
    },
    {
     "name": "stdout",
     "output_type": "stream",
     "text": [
      "Early stopping, best iteration is:\n",
      "[44]\ttraining's l1: 2.59495\tvalid_1's l1: 1.8931\n",
      "[LightGBM] [Warning] feature_fraction is set=0.9736685732635983, colsample_bytree=0.7 will be ignored. Current value: feature_fraction=0.9736685732635983\n",
      "[LightGBM] [Warning] bagging_fraction is set=0.5901095102993447, subsample=0.9 will be ignored. Current value: bagging_fraction=0.5901095102993447\n",
      "[LightGBM] [Warning] bagging_freq is set=6, subsample_freq=0 will be ignored. Current value: bagging_freq=6\n",
      "Training until validation scores don't improve for 100 rounds\n"
     ]
    },
    {
     "name": "stderr",
     "output_type": "stream",
     "text": [
      "\u001b[32m[I 2021-07-19 22:04:52,445]\u001b[0m Trial 82 finished with value: -1.8954346230944494 and parameters: {'max_depth': 7, 'min_child_weight': 16, 'subsample': 0.9, 'colsample_bytree': 0.7, 'reg_lambda': 0.12686845603912, 'reg_alpha': 0.33158898301143575, 'feature_fraction': 0.9736685732635983, 'bagging_fraction': 0.5901095102993447, 'bagging_freq': 6, 'num_leaves': 250, 'min_child_samples': 71}. Best is trial 78 with value: -1.8915630214853947.\u001b[0m\n"
     ]
    },
    {
     "name": "stdout",
     "output_type": "stream",
     "text": [
      "[100]\ttraining's l1: 2.56477\tvalid_1's l1: 1.90993\n",
      "Early stopping, best iteration is:\n",
      "[18]\ttraining's l1: 2.63352\tvalid_1's l1: 1.89543\n",
      "[LightGBM] [Warning] feature_fraction is set=0.9357498872365538, colsample_bytree=0.7 will be ignored. Current value: feature_fraction=0.9357498872365538\n",
      "[LightGBM] [Warning] bagging_fraction is set=0.5939688832962297, subsample=0.9 will be ignored. Current value: bagging_fraction=0.5939688832962297\n",
      "[LightGBM] [Warning] bagging_freq is set=9, subsample_freq=0 will be ignored. Current value: bagging_freq=9\n",
      "Training until validation scores don't improve for 100 rounds\n",
      "[100]\ttraining's l1: 2.56619\tvalid_1's l1: 1.91113\n"
     ]
    },
    {
     "name": "stderr",
     "output_type": "stream",
     "text": [
      "\u001b[32m[I 2021-07-19 22:04:54,269]\u001b[0m Trial 83 finished with value: -1.8990454040053866 and parameters: {'max_depth': 7, 'min_child_weight': 17, 'subsample': 0.9, 'colsample_bytree': 0.7, 'reg_lambda': 0.13700846130419575, 'reg_alpha': 0.5286701156562102, 'feature_fraction': 0.9357498872365538, 'bagging_fraction': 0.5939688832962297, 'bagging_freq': 9, 'num_leaves': 279, 'min_child_samples': 72}. Best is trial 78 with value: -1.8915630214853947.\u001b[0m\n"
     ]
    },
    {
     "name": "stdout",
     "output_type": "stream",
     "text": [
      "Early stopping, best iteration is:\n",
      "[34]\ttraining's l1: 2.60761\tvalid_1's l1: 1.89906\n",
      "[LightGBM] [Warning] feature_fraction is set=0.9719344409626621, colsample_bytree=0.7 will be ignored. Current value: feature_fraction=0.9719344409626621\n",
      "[LightGBM] [Warning] bagging_fraction is set=0.5603197741103331, subsample=0.9 will be ignored. Current value: bagging_fraction=0.5603197741103331\n",
      "[LightGBM] [Warning] bagging_freq is set=8, subsample_freq=0 will be ignored. Current value: bagging_freq=8\n",
      "Training until validation scores don't improve for 100 rounds\n",
      "[100]\ttraining's l1: 2.5693\tvalid_1's l1: 1.91327\n"
     ]
    },
    {
     "name": "stderr",
     "output_type": "stream",
     "text": [
      "\u001b[32m[I 2021-07-19 22:04:55,997]\u001b[0m Trial 84 finished with value: -1.9033820416849923 and parameters: {'max_depth': 7, 'min_child_weight': 16, 'subsample': 0.9, 'colsample_bytree': 0.7, 'reg_lambda': 0.0259237975729367, 'reg_alpha': 0.3823935930841059, 'feature_fraction': 0.9719344409626621, 'bagging_fraction': 0.5603197741103331, 'bagging_freq': 8, 'num_leaves': 651, 'min_child_samples': 69}. Best is trial 78 with value: -1.8915630214853947.\u001b[0m\n"
     ]
    },
    {
     "name": "stdout",
     "output_type": "stream",
     "text": [
      "Early stopping, best iteration is:\n",
      "[24]\ttraining's l1: 2.62003\tvalid_1's l1: 1.90339\n",
      "[LightGBM] [Warning] feature_fraction is set=0.979396340711793, colsample_bytree=0.7 will be ignored. Current value: feature_fraction=0.979396340711793\n",
      "[LightGBM] [Warning] bagging_fraction is set=0.6138560402216807, subsample=0.9 will be ignored. Current value: bagging_fraction=0.6138560402216807\n",
      "[LightGBM] [Warning] bagging_freq is set=11, subsample_freq=0 will be ignored. Current value: bagging_freq=11\n",
      "Training until validation scores don't improve for 100 rounds\n",
      "[100]\ttraining's l1: 2.52934\tvalid_1's l1: 1.93135\n"
     ]
    },
    {
     "name": "stderr",
     "output_type": "stream",
     "text": [
      "\u001b[32m[I 2021-07-19 22:04:58,620]\u001b[0m Trial 85 finished with value: -1.9041788510934714 and parameters: {'max_depth': 9, 'min_child_weight': 17, 'subsample': 0.9, 'colsample_bytree': 0.7, 'reg_lambda': 0.26352553965932535, 'reg_alpha': 0.10735095748754345, 'feature_fraction': 0.979396340711793, 'bagging_fraction': 0.6138560402216807, 'bagging_freq': 11, 'num_leaves': 395, 'min_child_samples': 64}. Best is trial 78 with value: -1.8915630214853947.\u001b[0m\n"
     ]
    },
    {
     "name": "stdout",
     "output_type": "stream",
     "text": [
      "Early stopping, best iteration is:\n",
      "[24]\ttraining's l1: 2.58271\tvalid_1's l1: 1.9042\n",
      "[LightGBM] [Warning] feature_fraction is set=0.8976272117452426, colsample_bytree=0.7 will be ignored. Current value: feature_fraction=0.8976272117452426\n",
      "[LightGBM] [Warning] bagging_fraction is set=0.4232175644964058, subsample=0.9 will be ignored. Current value: bagging_fraction=0.4232175644964058\n",
      "[LightGBM] [Warning] bagging_freq is set=7, subsample_freq=0 will be ignored. Current value: bagging_freq=7\n",
      "Training until validation scores don't improve for 100 rounds\n"
     ]
    },
    {
     "name": "stderr",
     "output_type": "stream",
     "text": [
      "\u001b[32m[I 2021-07-19 22:05:00,349]\u001b[0m Trial 86 finished with value: -1.9000955137429711 and parameters: {'max_depth': 8, 'min_child_weight': 16, 'subsample': 0.9, 'colsample_bytree': 0.7, 'reg_lambda': 0.05396563309427156, 'reg_alpha': 1.0854040724958591, 'feature_fraction': 0.8976272117452426, 'bagging_fraction': 0.4232175644964058, 'bagging_freq': 7, 'num_leaves': 247, 'min_child_samples': 65}. Best is trial 78 with value: -1.8915630214853947.\u001b[0m\n"
     ]
    },
    {
     "name": "stdout",
     "output_type": "stream",
     "text": [
      "[100]\ttraining's l1: 2.55854\tvalid_1's l1: 1.92152\n",
      "Early stopping, best iteration is:\n",
      "[20]\ttraining's l1: 2.62077\tvalid_1's l1: 1.90011\n",
      "[LightGBM] [Warning] feature_fraction is set=0.9334816901286174, colsample_bytree=0.7 will be ignored. Current value: feature_fraction=0.9334816901286174\n",
      "[LightGBM] [Warning] bagging_fraction is set=0.2146083463339047, subsample=0.9 will be ignored. Current value: bagging_fraction=0.2146083463339047\n",
      "[LightGBM] [Warning] bagging_freq is set=10, subsample_freq=0 will be ignored. Current value: bagging_freq=10\n",
      "Training until validation scores don't improve for 100 rounds\n",
      "[100]\ttraining's l1: 2.60642\tvalid_1's l1: 1.92807\n"
     ]
    },
    {
     "name": "stderr",
     "output_type": "stream",
     "text": [
      "\u001b[32m[I 2021-07-19 22:05:01,713]\u001b[0m Trial 87 finished with value: -1.9145408915703883 and parameters: {'max_depth': 7, 'min_child_weight': 17, 'subsample': 0.9, 'colsample_bytree': 0.7, 'reg_lambda': 0.03451311182085272, 'reg_alpha': 0.6253298148933605, 'feature_fraction': 0.9334816901286174, 'bagging_fraction': 0.2146083463339047, 'bagging_freq': 10, 'num_leaves': 355, 'min_child_samples': 75}. Best is trial 78 with value: -1.8915630214853947.\u001b[0m\n"
     ]
    },
    {
     "name": "stdout",
     "output_type": "stream",
     "text": [
      "Early stopping, best iteration is:\n",
      "[44]\ttraining's l1: 2.63148\tvalid_1's l1: 1.91455\n",
      "[LightGBM] [Warning] feature_fraction is set=0.8657525865298304, colsample_bytree=0.7 will be ignored. Current value: feature_fraction=0.8657525865298304\n",
      "[LightGBM] [Warning] bagging_fraction is set=0.527722097595636, subsample=0.9 will be ignored. Current value: bagging_fraction=0.527722097595636\n",
      "[LightGBM] [Warning] bagging_freq is set=5, subsample_freq=0 will be ignored. Current value: bagging_freq=5\n",
      "Training until validation scores don't improve for 100 rounds\n",
      "[100]\ttraining's l1: 2.50058\tvalid_1's l1: 1.949\n",
      "Early stopping, best iteration is:\n",
      "[14]\ttraining's l1: 2.61113\tvalid_1's l1: 1.91463\n"
     ]
    },
    {
     "name": "stderr",
     "output_type": "stream",
     "text": [
      "\u001b[32m[I 2021-07-19 22:05:04,197]\u001b[0m Trial 88 finished with value: -1.9146086360521202 and parameters: {'max_depth': 11, 'min_child_weight': 16, 'subsample': 0.9, 'colsample_bytree': 0.7, 'reg_lambda': 0.013238169024975358, 'reg_alpha': 0.18662653765354958, 'feature_fraction': 0.8657525865298304, 'bagging_fraction': 0.527722097595636, 'bagging_freq': 5, 'num_leaves': 566, 'min_child_samples': 59}. Best is trial 78 with value: -1.8915630214853947.\u001b[0m\n"
     ]
    },
    {
     "name": "stdout",
     "output_type": "stream",
     "text": [
      "[LightGBM] [Warning] feature_fraction is set=0.9537485712298964, colsample_bytree=0.7 will be ignored. Current value: feature_fraction=0.9537485712298964\n",
      "[LightGBM] [Warning] bagging_fraction is set=0.6265167057671777, subsample=0.9 will be ignored. Current value: bagging_fraction=0.6265167057671777\n",
      "[LightGBM] [Warning] bagging_freq is set=6, subsample_freq=0 will be ignored. Current value: bagging_freq=6\n",
      "Training until validation scores don't improve for 100 rounds\n",
      "[100]\ttraining's l1: 2.58565\tvalid_1's l1: 1.91026\n"
     ]
    },
    {
     "name": "stderr",
     "output_type": "stream",
     "text": [
      "\u001b[32m[I 2021-07-19 22:05:06,065]\u001b[0m Trial 89 finished with value: -1.907113005360309 and parameters: {'max_depth': 6, 'min_child_weight': 9, 'subsample': 0.9, 'colsample_bytree': 0.7, 'reg_lambda': 0.11241741651195736, 'reg_alpha': 0.2905238343004629, 'feature_fraction': 0.9537485712298964, 'bagging_fraction': 0.6265167057671777, 'bagging_freq': 6, 'num_leaves': 459, 'min_child_samples': 67}. Best is trial 78 with value: -1.8915630214853947.\u001b[0m\n"
     ]
    },
    {
     "name": "stdout",
     "output_type": "stream",
     "text": [
      "Early stopping, best iteration is:\n",
      "[69]\ttraining's l1: 2.59797\tvalid_1's l1: 1.90715\n",
      "[LightGBM] [Warning] feature_fraction is set=0.9893952561085477, colsample_bytree=0.8 will be ignored. Current value: feature_fraction=0.9893952561085477\n",
      "[LightGBM] [Warning] bagging_fraction is set=0.5768619807841449, subsample=0.9 will be ignored. Current value: bagging_fraction=0.5768619807841449\n",
      "[LightGBM] [Warning] bagging_freq is set=9, subsample_freq=0 will be ignored. Current value: bagging_freq=9\n",
      "Training until validation scores don't improve for 100 rounds\n",
      "[100]\ttraining's l1: 2.53824\tvalid_1's l1: 1.9165\n"
     ]
    },
    {
     "name": "stderr",
     "output_type": "stream",
     "text": [
      "\u001b[32m[I 2021-07-19 22:05:08,307]\u001b[0m Trial 90 finished with value: -1.8972583330932358 and parameters: {'max_depth': 9, 'min_child_weight': 15, 'subsample': 0.9, 'colsample_bytree': 0.8, 'reg_lambda': 0.2502693741959367, 'reg_alpha': 0.12306612746449282, 'feature_fraction': 0.9893952561085477, 'bagging_fraction': 0.5768619807841449, 'bagging_freq': 9, 'num_leaves': 416, 'min_child_samples': 70}. Best is trial 78 with value: -1.8915630214853947.\u001b[0m\n"
     ]
    },
    {
     "name": "stdout",
     "output_type": "stream",
     "text": [
      "Early stopping, best iteration is:\n",
      "[19]\ttraining's l1: 2.60158\tvalid_1's l1: 1.89727\n",
      "[LightGBM] [Warning] feature_fraction is set=0.9980990892989616, colsample_bytree=0.9 will be ignored. Current value: feature_fraction=0.9980990892989616\n",
      "[LightGBM] [Warning] bagging_fraction is set=0.5947528868291712, subsample=0.9 will be ignored. Current value: bagging_fraction=0.5947528868291712\n",
      "[LightGBM] [Warning] bagging_freq is set=9, subsample_freq=0 will be ignored. Current value: bagging_freq=9\n",
      "Training until validation scores don't improve for 100 rounds\n",
      "[100]\ttraining's l1: 2.53281\tvalid_1's l1: 1.9264\n"
     ]
    },
    {
     "name": "stderr",
     "output_type": "stream",
     "text": [
      "\u001b[32m[I 2021-07-19 22:05:10,724]\u001b[0m Trial 91 finished with value: -1.9048709456033248 and parameters: {'max_depth': 9, 'min_child_weight': 15, 'subsample': 0.9, 'colsample_bytree': 0.9, 'reg_lambda': 0.216122872605112, 'reg_alpha': 0.3623455328263899, 'feature_fraction': 0.9980990892989616, 'bagging_fraction': 0.5947528868291712, 'bagging_freq': 9, 'num_leaves': 320, 'min_child_samples': 71}. Best is trial 78 with value: -1.8915630214853947.\u001b[0m\n"
     ]
    },
    {
     "name": "stdout",
     "output_type": "stream",
     "text": [
      "Early stopping, best iteration is:\n",
      "[35]\ttraining's l1: 2.58077\tvalid_1's l1: 1.9049\n",
      "[LightGBM] [Warning] feature_fraction is set=0.9513730085387074, colsample_bytree=0.8 will be ignored. Current value: feature_fraction=0.9513730085387074\n",
      "[LightGBM] [Warning] bagging_fraction is set=0.5655828349945856, subsample=0.9 will be ignored. Current value: bagging_fraction=0.5655828349945856\n",
      "[LightGBM] [Warning] bagging_freq is set=10, subsample_freq=0 will be ignored. Current value: bagging_freq=10\n",
      "Training until validation scores don't improve for 100 rounds\n"
     ]
    },
    {
     "name": "stderr",
     "output_type": "stream",
     "text": [
      "\u001b[32m[I 2021-07-19 22:05:12,849]\u001b[0m Trial 92 finished with value: -1.9038933338994113 and parameters: {'max_depth': 9, 'min_child_weight': 17, 'subsample': 0.9, 'colsample_bytree': 0.8, 'reg_lambda': 0.058511027858454336, 'reg_alpha': 0.2405981965274024, 'feature_fraction': 0.9513730085387074, 'bagging_fraction': 0.5655828349945856, 'bagging_freq': 10, 'num_leaves': 406, 'min_child_samples': 69}. Best is trial 78 with value: -1.8915630214853947.\u001b[0m\n"
     ]
    },
    {
     "name": "stdout",
     "output_type": "stream",
     "text": [
      "[100]\ttraining's l1: 2.53226\tvalid_1's l1: 1.91899\n",
      "Early stopping, best iteration is:\n",
      "[13]\ttraining's l1: 2.63577\tvalid_1's l1: 1.90389\n",
      "[LightGBM] [Warning] feature_fraction is set=0.9983955209474559, colsample_bytree=0.8 will be ignored. Current value: feature_fraction=0.9983955209474559\n",
      "[LightGBM] [Warning] bagging_fraction is set=0.4814824260658749, subsample=0.9 will be ignored. Current value: bagging_fraction=0.4814824260658749\n",
      "[LightGBM] [Warning] bagging_freq is set=11, subsample_freq=0 will be ignored. Current value: bagging_freq=11\n",
      "Training until validation scores don't improve for 100 rounds\n",
      "[100]\ttraining's l1: 2.53309\tvalid_1's l1: 1.92342\n"
     ]
    },
    {
     "name": "stderr",
     "output_type": "stream",
     "text": [
      "\u001b[32m[I 2021-07-19 22:05:15,233]\u001b[0m Trial 93 finished with value: -1.8990365624713643 and parameters: {'max_depth': 10, 'min_child_weight': 14, 'subsample': 0.9, 'colsample_bytree': 0.8, 'reg_lambda': 0.3446577248347963, 'reg_alpha': 0.13826246819155386, 'feature_fraction': 0.9983955209474559, 'bagging_fraction': 0.4814824260658749, 'bagging_freq': 11, 'num_leaves': 432, 'min_child_samples': 62}. Best is trial 78 with value: -1.8915630214853947.\u001b[0m\n"
     ]
    },
    {
     "name": "stdout",
     "output_type": "stream",
     "text": [
      "Early stopping, best iteration is:\n",
      "[21]\ttraining's l1: 2.59515\tvalid_1's l1: 1.89906\n",
      "[LightGBM] [Warning] feature_fraction is set=0.9786179602612486, colsample_bytree=0.7 will be ignored. Current value: feature_fraction=0.9786179602612486\n",
      "[LightGBM] [Warning] bagging_fraction is set=0.54750377313255, subsample=0.9 will be ignored. Current value: bagging_fraction=0.54750377313255\n",
      "[LightGBM] [Warning] bagging_freq is set=8, subsample_freq=0 will be ignored. Current value: bagging_freq=8\n",
      "Training until validation scores don't improve for 100 rounds\n",
      "[100]\ttraining's l1: 2.49518\tvalid_1's l1: 1.95792\n"
     ]
    },
    {
     "name": "stderr",
     "output_type": "stream",
     "text": [
      "\u001b[32m[I 2021-07-19 22:05:18,628]\u001b[0m Trial 94 finished with value: -1.913062719910618 and parameters: {'max_depth': 13, 'min_child_weight': 13, 'subsample': 0.9, 'colsample_bytree': 0.7, 'reg_lambda': 0.9251301976028403, 'reg_alpha': 1.2907579932530684, 'feature_fraction': 0.9786179602612486, 'bagging_fraction': 0.54750377313255, 'bagging_freq': 8, 'num_leaves': 510, 'min_child_samples': 67}. Best is trial 78 with value: -1.8915630214853947.\u001b[0m\n"
     ]
    },
    {
     "name": "stdout",
     "output_type": "stream",
     "text": [
      "Early stopping, best iteration is:\n",
      "[15]\ttraining's l1: 2.60385\tvalid_1's l1: 1.91309\n",
      "[LightGBM] [Warning] feature_fraction is set=0.9402564304519463, colsample_bytree=0.7 will be ignored. Current value: feature_fraction=0.9402564304519463\n",
      "[LightGBM] [Warning] bagging_fraction is set=0.577737633461754, subsample=0.9 will be ignored. Current value: bagging_fraction=0.577737633461754\n",
      "[LightGBM] [Warning] bagging_freq is set=9, subsample_freq=0 will be ignored. Current value: bagging_freq=9\n",
      "Training until validation scores don't improve for 100 rounds\n",
      "[100]\ttraining's l1: 2.55122\tvalid_1's l1: 1.90908\n",
      "Early stopping, best iteration is:\n",
      "[19]\ttraining's l1: 2.61361\tvalid_1's l1: 1.893\n"
     ]
    },
    {
     "name": "stderr",
     "output_type": "stream",
     "text": [
      "\u001b[32m[I 2021-07-19 22:05:20,528]\u001b[0m Trial 95 finished with value: -1.8930004898673203 and parameters: {'max_depth': 8, 'min_child_weight': 18, 'subsample': 0.9, 'colsample_bytree': 0.7, 'reg_lambda': 0.11736687215958501, 'reg_alpha': 0.0015807987292230084, 'feature_fraction': 0.9402564304519463, 'bagging_fraction': 0.577737633461754, 'bagging_freq': 9, 'num_leaves': 373, 'min_child_samples': 74}. Best is trial 78 with value: -1.8915630214853947.\u001b[0m\n"
     ]
    },
    {
     "name": "stdout",
     "output_type": "stream",
     "text": [
      "[LightGBM] [Warning] feature_fraction is set=0.9177814791547206, colsample_bytree=0.7 will be ignored. Current value: feature_fraction=0.9177814791547206\n",
      "[LightGBM] [Warning] bagging_fraction is set=0.57719713141451, subsample=0.9 will be ignored. Current value: bagging_fraction=0.57719713141451\n",
      "[LightGBM] [Warning] bagging_freq is set=9, subsample_freq=0 will be ignored. Current value: bagging_freq=9\n",
      "Training until validation scores don't improve for 100 rounds\n",
      "[100]\ttraining's l1: 2.55399\tvalid_1's l1: 1.91594\n"
     ]
    },
    {
     "name": "stderr",
     "output_type": "stream",
     "text": [
      "\u001b[32m[I 2021-07-19 22:05:22,628]\u001b[0m Trial 96 finished with value: -1.899388670020047 and parameters: {'max_depth': 8, 'min_child_weight': 18, 'subsample': 0.9, 'colsample_bytree': 0.7, 'reg_lambda': 0.1314486898059636, 'reg_alpha': 0.0014269786937997032, 'feature_fraction': 0.9177814791547206, 'bagging_fraction': 0.57719713141451, 'bagging_freq': 9, 'num_leaves': 306, 'min_child_samples': 75}. Best is trial 78 with value: -1.8915630214853947.\u001b[0m\n"
     ]
    },
    {
     "name": "stdout",
     "output_type": "stream",
     "text": [
      "Early stopping, best iteration is:\n",
      "[34]\ttraining's l1: 2.59288\tvalid_1's l1: 1.89941\n",
      "[LightGBM] [Warning] feature_fraction is set=0.936789900517832, colsample_bytree=0.7 will be ignored. Current value: feature_fraction=0.936789900517832\n",
      "[LightGBM] [Warning] bagging_fraction is set=0.4544861118489939, subsample=0.9 will be ignored. Current value: bagging_fraction=0.4544861118489939\n",
      "[LightGBM] [Warning] bagging_freq is set=11, subsample_freq=0 will be ignored. Current value: bagging_freq=11\n",
      "Training until validation scores don't improve for 100 rounds\n",
      "[100]\ttraining's l1: 2.5825\tvalid_1's l1: 1.90314\n"
     ]
    },
    {
     "name": "stderr",
     "output_type": "stream",
     "text": [
      "\u001b[32m[I 2021-07-19 22:05:24,221]\u001b[0m Trial 97 finished with value: -1.898343109106662 and parameters: {'max_depth': 7, 'min_child_weight': 19, 'subsample': 0.9, 'colsample_bytree': 0.7, 'reg_lambda': 0.10256360492411175, 'reg_alpha': 0.004810978733554828, 'feature_fraction': 0.936789900517832, 'bagging_fraction': 0.4544861118489939, 'bagging_freq': 11, 'num_leaves': 374, 'min_child_samples': 74}. Best is trial 78 with value: -1.8915630214853947.\u001b[0m\n"
     ]
    },
    {
     "name": "stdout",
     "output_type": "stream",
     "text": [
      "Early stopping, best iteration is:\n",
      "[33]\ttraining's l1: 2.61379\tvalid_1's l1: 1.89836\n",
      "[LightGBM] [Warning] feature_fraction is set=0.852693295546584, colsample_bytree=0.7 will be ignored. Current value: feature_fraction=0.852693295546584\n",
      "[LightGBM] [Warning] bagging_fraction is set=0.5074008084338371, subsample=0.9 will be ignored. Current value: bagging_fraction=0.5074008084338371\n",
      "[LightGBM] [Warning] bagging_freq is set=8, subsample_freq=0 will be ignored. Current value: bagging_freq=8\n",
      "Training until validation scores don't improve for 100 rounds\n",
      "[100]\ttraining's l1: 2.56125\tvalid_1's l1: 1.91903\n"
     ]
    },
    {
     "name": "stderr",
     "output_type": "stream",
     "text": [
      "\u001b[32m[I 2021-07-19 22:05:25,912]\u001b[0m Trial 98 finished with value: -1.8992202347682632 and parameters: {'max_depth': 8, 'min_child_weight': 16, 'subsample': 0.9, 'colsample_bytree': 0.7, 'reg_lambda': 0.15790642772628644, 'reg_alpha': 0.9081760527217503, 'feature_fraction': 0.852693295546584, 'bagging_fraction': 0.5074008084338371, 'bagging_freq': 8, 'num_leaves': 260, 'min_child_samples': 82}. Best is trial 78 with value: -1.8915630214853947.\u001b[0m\n"
     ]
    },
    {
     "name": "stdout",
     "output_type": "stream",
     "text": [
      "Early stopping, best iteration is:\n",
      "[24]\ttraining's l1: 2.6132\tvalid_1's l1: 1.89923\n",
      "[LightGBM] [Warning] feature_fraction is set=0.8907468880056733, colsample_bytree=0.8 will be ignored. Current value: feature_fraction=0.8907468880056733\n",
      "[LightGBM] [Warning] bagging_fraction is set=0.5864944882237878, subsample=0.9 will be ignored. Current value: bagging_fraction=0.5864944882237878\n",
      "[LightGBM] [Warning] bagging_freq is set=10, subsample_freq=0 will be ignored. Current value: bagging_freq=10\n",
      "Training until validation scores don't improve for 100 rounds\n"
     ]
    },
    {
     "name": "stderr",
     "output_type": "stream",
     "text": [
      "\u001b[32m[I 2021-07-19 22:05:27,557]\u001b[0m Trial 99 finished with value: -1.8994786760656062 and parameters: {'max_depth': 7, 'min_child_weight': 15, 'subsample': 0.9, 'colsample_bytree': 0.8, 'reg_lambda': 0.25038198551279506, 'reg_alpha': 0.0023048603048055373, 'feature_fraction': 0.8907468880056733, 'bagging_fraction': 0.5864944882237878, 'bagging_freq': 10, 'num_leaves': 221, 'min_child_samples': 77}. Best is trial 78 with value: -1.8915630214853947.\u001b[0m\n",
      "\u001b[32m[I 2021-07-19 22:05:27,558]\u001b[0m A new study created in memory with name: no-name-df8d7626-c1ee-4219-99f7-b2af77d1c1a3\u001b[0m\n"
     ]
    },
    {
     "name": "stdout",
     "output_type": "stream",
     "text": [
      "[100]\ttraining's l1: 2.56827\tvalid_1's l1: 1.9155\n",
      "Early stopping, best iteration is:\n",
      "[22]\ttraining's l1: 2.62408\tvalid_1's l1: 1.89948\n",
      "[LightGBM] [Warning] feature_fraction is set=0.8487465131831196, colsample_bytree=0.7 will be ignored. Current value: feature_fraction=0.8487465131831196\n",
      "[LightGBM] [Warning] bagging_fraction is set=0.7075905878538942, subsample=0.9 will be ignored. Current value: bagging_fraction=0.7075905878538942\n",
      "[LightGBM] [Warning] bagging_freq is set=18, subsample_freq=0 will be ignored. Current value: bagging_freq=18\n",
      "Training until validation scores don't improve for 100 rounds\n",
      "[100]\ttraining's l1: 1.49729\tvalid_1's l1: 2.43525\n"
     ]
    },
    {
     "name": "stderr",
     "output_type": "stream",
     "text": [
      "\u001b[32m[I 2021-07-19 22:05:33,562]\u001b[0m Trial 0 finished with value: -2.3708407990047737 and parameters: {'max_depth': 15, 'min_child_weight': 15, 'subsample': 0.9, 'colsample_bytree': 0.7, 'reg_lambda': 0.11708737863469841, 'reg_alpha': 0.04359486516773227, 'feature_fraction': 0.8487465131831196, 'bagging_fraction': 0.7075905878538942, 'bagging_freq': 18, 'num_leaves': 760, 'min_child_samples': 14}. Best is trial 0 with value: -2.3708407990047737.\u001b[0m\n"
     ]
    },
    {
     "name": "stdout",
     "output_type": "stream",
     "text": [
      "Early stopping, best iteration is:\n",
      "[24]\ttraining's l1: 1.8491\tvalid_1's l1: 2.37084\n",
      "[LightGBM] [Warning] feature_fraction is set=0.5244334156645318, colsample_bytree=0.8 will be ignored. Current value: feature_fraction=0.5244334156645318\n",
      "[LightGBM] [Warning] bagging_fraction is set=0.6732502908146928, subsample=0.7 will be ignored. Current value: bagging_fraction=0.6732502908146928\n",
      "[LightGBM] [Warning] bagging_freq is set=5, subsample_freq=0 will be ignored. Current value: bagging_freq=5\n",
      "Training until validation scores don't improve for 100 rounds\n",
      "[100]\ttraining's l1: 1.9351\tvalid_1's l1: 2.36331\n"
     ]
    },
    {
     "name": "stderr",
     "output_type": "stream",
     "text": [
      "\u001b[32m[I 2021-07-19 22:05:36,357]\u001b[0m Trial 1 finished with value: -2.3543830621158945 and parameters: {'max_depth': 11, 'min_child_weight': 18, 'subsample': 0.7, 'colsample_bytree': 0.8, 'reg_lambda': 0.06367608019834639, 'reg_alpha': 146.7769612164662, 'feature_fraction': 0.5244334156645318, 'bagging_fraction': 0.6732502908146928, 'bagging_freq': 5, 'num_leaves': 290, 'min_child_samples': 59}. Best is trial 1 with value: -2.3543830621158945.\u001b[0m\n"
     ]
    },
    {
     "name": "stdout",
     "output_type": "stream",
     "text": [
      "Early stopping, best iteration is:\n",
      "[65]\ttraining's l1: 1.98574\tvalid_1's l1: 2.35456\n",
      "[LightGBM] [Warning] feature_fraction is set=0.4220011941559637, colsample_bytree=0.5 will be ignored. Current value: feature_fraction=0.4220011941559637\n",
      "[LightGBM] [Warning] bagging_fraction is set=0.48841754777018276, subsample=0.6 will be ignored. Current value: bagging_fraction=0.48841754777018276\n",
      "[LightGBM] [Warning] bagging_freq is set=14, subsample_freq=0 will be ignored. Current value: bagging_freq=14\n",
      "Training until validation scores don't improve for 100 rounds\n",
      "[100]\ttraining's l1: 1.80128\tvalid_1's l1: 2.36707\n"
     ]
    },
    {
     "name": "stderr",
     "output_type": "stream",
     "text": [
      "\u001b[32m[I 2021-07-19 22:05:40,361]\u001b[0m Trial 2 finished with value: -2.3523107999049473 and parameters: {'max_depth': 18, 'min_child_weight': 12, 'subsample': 0.6, 'colsample_bytree': 0.5, 'reg_lambda': 696.8101985660453, 'reg_alpha': 0.00794071702004662, 'feature_fraction': 0.4220011941559637, 'bagging_fraction': 0.48841754777018276, 'bagging_freq': 14, 'num_leaves': 432, 'min_child_samples': 8}. Best is trial 2 with value: -2.3523107999049473.\u001b[0m\n"
     ]
    },
    {
     "name": "stdout",
     "output_type": "stream",
     "text": [
      "Early stopping, best iteration is:\n",
      "[42]\ttraining's l1: 1.95247\tvalid_1's l1: 2.35232\n",
      "[LightGBM] [Warning] feature_fraction is set=0.3365789701273963, colsample_bytree=0.7 will be ignored. Current value: feature_fraction=0.3365789701273963\n",
      "[LightGBM] [Warning] bagging_fraction is set=0.8237654329970223, subsample=0.7 will be ignored. Current value: bagging_fraction=0.8237654329970223\n",
      "[LightGBM] [Warning] bagging_freq is set=14, subsample_freq=0 will be ignored. Current value: bagging_freq=14\n",
      "Training until validation scores don't improve for 100 rounds\n",
      "[100]\ttraining's l1: 1.96201\tvalid_1's l1: 2.37979\n"
     ]
    },
    {
     "name": "stderr",
     "output_type": "stream",
     "text": [
      "\u001b[32m[I 2021-07-19 22:05:43,388]\u001b[0m Trial 3 finished with value: -2.376119468651161 and parameters: {'max_depth': 9, 'min_child_weight': 20, 'subsample': 0.7, 'colsample_bytree': 0.7, 'reg_lambda': 872.4405400008566, 'reg_alpha': 102.83193967853684, 'feature_fraction': 0.3365789701273963, 'bagging_fraction': 0.8237654329970223, 'bagging_freq': 14, 'num_leaves': 750, 'min_child_samples': 26}. Best is trial 2 with value: -2.3523107999049473.\u001b[0m\n"
     ]
    },
    {
     "name": "stdout",
     "output_type": "stream",
     "text": [
      "[200]\ttraining's l1: 1.88899\tvalid_1's l1: 2.39157\n",
      "Early stopping, best iteration is:\n",
      "[112]\ttraining's l1: 1.93849\tvalid_1's l1: 2.37622\n",
      "[LightGBM] [Warning] feature_fraction is set=0.7670254609127352, colsample_bytree=0.5 will be ignored. Current value: feature_fraction=0.7670254609127352\n",
      "[LightGBM] [Warning] bagging_fraction is set=0.7949147271782839, subsample=0.8 will be ignored. Current value: bagging_fraction=0.7949147271782839\n",
      "[LightGBM] [Warning] bagging_freq is set=14, subsample_freq=0 will be ignored. Current value: bagging_freq=14\n",
      "Training until validation scores don't improve for 100 rounds\n",
      "[100]\ttraining's l1: 1.94709\tvalid_1's l1: 2.37414\n"
     ]
    },
    {
     "name": "stderr",
     "output_type": "stream",
     "text": [
      "\u001b[32m[I 2021-07-19 22:05:45,601]\u001b[0m Trial 4 finished with value: -2.37252435659652 and parameters: {'max_depth': 7, 'min_child_weight': 16, 'subsample': 0.8, 'colsample_bytree': 0.5, 'reg_lambda': 0.09961659624609569, 'reg_alpha': 117.74971899425118, 'feature_fraction': 0.7670254609127352, 'bagging_fraction': 0.7949147271782839, 'bagging_freq': 14, 'num_leaves': 281, 'min_child_samples': 52}. Best is trial 2 with value: -2.3523107999049473.\u001b[0m\n"
     ]
    },
    {
     "name": "stdout",
     "output_type": "stream",
     "text": [
      "Early stopping, best iteration is:\n",
      "[69]\ttraining's l1: 1.993\tvalid_1's l1: 2.3727\n",
      "[LightGBM] [Warning] feature_fraction is set=0.9277720922757753, colsample_bytree=0.7 will be ignored. Current value: feature_fraction=0.9277720922757753\n",
      "[LightGBM] [Warning] bagging_fraction is set=0.3256028463747742, subsample=0.7 will be ignored. Current value: bagging_fraction=0.3256028463747742\n",
      "[LightGBM] [Warning] bagging_freq is set=12, subsample_freq=0 will be ignored. Current value: bagging_freq=12\n",
      "Training until validation scores don't improve for 100 rounds\n"
     ]
    },
    {
     "name": "stderr",
     "output_type": "stream",
     "text": [
      "\u001b[32m[I 2021-07-19 22:05:46,611]\u001b[0m Trial 5 finished with value: -2.377423671331165 and parameters: {'max_depth': 3, 'min_child_weight': 17, 'subsample': 0.7, 'colsample_bytree': 0.7, 'reg_lambda': 14.581851400059298, 'reg_alpha': 455.5881599266192, 'feature_fraction': 0.9277720922757753, 'bagging_fraction': 0.3256028463747742, 'bagging_freq': 12, 'num_leaves': 642, 'min_child_samples': 91}. Best is trial 2 with value: -2.3523107999049473.\u001b[0m\n"
     ]
    },
    {
     "name": "stdout",
     "output_type": "stream",
     "text": [
      "[100]\ttraining's l1: 2.1987\tvalid_1's l1: 2.38943\n",
      "[200]\ttraining's l1: 2.18157\tvalid_1's l1: 2.37773\n",
      "Early stopping, best iteration is:\n",
      "[117]\ttraining's l1: 2.1817\tvalid_1's l1: 2.37742\n",
      "[LightGBM] [Warning] feature_fraction is set=0.34353394644135476, colsample_bytree=0.9 will be ignored. Current value: feature_fraction=0.34353394644135476\n",
      "[LightGBM] [Warning] bagging_fraction is set=0.7541441254164758, subsample=0.9 will be ignored. Current value: bagging_fraction=0.7541441254164758\n",
      "[LightGBM] [Warning] bagging_freq is set=4, subsample_freq=0 will be ignored. Current value: bagging_freq=4\n",
      "Training until validation scores don't improve for 100 rounds\n",
      "[100]\ttraining's l1: 2.09514\tvalid_1's l1: 2.38111\n"
     ]
    },
    {
     "name": "stderr",
     "output_type": "stream",
     "text": [
      "\u001b[32m[I 2021-07-19 22:05:48,452]\u001b[0m Trial 6 finished with value: -2.377627007356351 and parameters: {'max_depth': 9, 'min_child_weight': 2, 'subsample': 0.9, 'colsample_bytree': 0.9, 'reg_lambda': 0.00514645770917411, 'reg_alpha': 195.24047496822408, 'feature_fraction': 0.34353394644135476, 'bagging_fraction': 0.7541441254164758, 'bagging_freq': 4, 'num_leaves': 17, 'min_child_samples': 49}. Best is trial 2 with value: -2.3523107999049473.\u001b[0m\n"
     ]
    },
    {
     "name": "stdout",
     "output_type": "stream",
     "text": [
      "Early stopping, best iteration is:\n",
      "[67]\ttraining's l1: 2.12953\tvalid_1's l1: 2.37763\n",
      "[LightGBM] [Warning] feature_fraction is set=0.7705208044830483, colsample_bytree=0.9 will be ignored. Current value: feature_fraction=0.7705208044830483\n",
      "[LightGBM] [Warning] bagging_fraction is set=0.6912612197859884, subsample=0.9 will be ignored. Current value: bagging_fraction=0.6912612197859884\n",
      "[LightGBM] [Warning] bagging_freq is set=2, subsample_freq=0 will be ignored. Current value: bagging_freq=2\n",
      "Training until validation scores don't improve for 100 rounds\n",
      "[100]\ttraining's l1: 1.67529\tvalid_1's l1: 2.41893\n"
     ]
    },
    {
     "name": "stderr",
     "output_type": "stream",
     "text": [
      "\u001b[32m[I 2021-07-19 22:05:52,217]\u001b[0m Trial 7 finished with value: -2.3741495017266883 and parameters: {'max_depth': 15, 'min_child_weight': 8, 'subsample': 0.9, 'colsample_bytree': 0.9, 'reg_lambda': 1.145101778336118, 'reg_alpha': 0.012306684703360694, 'feature_fraction': 0.7705208044830483, 'bagging_fraction': 0.6912612197859884, 'bagging_freq': 2, 'num_leaves': 356, 'min_child_samples': 96}. Best is trial 2 with value: -2.3523107999049473.\u001b[0m\n"
     ]
    },
    {
     "name": "stdout",
     "output_type": "stream",
     "text": [
      "Early stopping, best iteration is:\n",
      "[37]\ttraining's l1: 1.84954\tvalid_1's l1: 2.37415\n",
      "[LightGBM] [Warning] feature_fraction is set=0.22101220060787635, colsample_bytree=0.6 will be ignored. Current value: feature_fraction=0.22101220060787635\n",
      "[LightGBM] [Warning] bagging_fraction is set=0.23942553007636747, subsample=0.8 will be ignored. Current value: bagging_fraction=0.23942553007636747\n",
      "[LightGBM] [Warning] bagging_freq is set=3, subsample_freq=0 will be ignored. Current value: bagging_freq=3\n",
      "Training until validation scores don't improve for 100 rounds\n",
      "[100]\ttraining's l1: 1.91409\tvalid_1's l1: 2.37621\n"
     ]
    },
    {
     "name": "stderr",
     "output_type": "stream",
     "text": [
      "\u001b[32m[I 2021-07-19 22:05:54,373]\u001b[0m Trial 8 finished with value: -2.3654593725604522 and parameters: {'max_depth': 11, 'min_child_weight': 19, 'subsample': 0.8, 'colsample_bytree': 0.6, 'reg_lambda': 0.005485923362972732, 'reg_alpha': 2.549425523491154, 'feature_fraction': 0.22101220060787635, 'bagging_fraction': 0.23942553007636747, 'bagging_freq': 3, 'num_leaves': 859, 'min_child_samples': 59}. Best is trial 2 with value: -2.3523107999049473.\u001b[0m\n"
     ]
    },
    {
     "name": "stdout",
     "output_type": "stream",
     "text": [
      "Early stopping, best iteration is:\n",
      "[84]\ttraining's l1: 1.93161\tvalid_1's l1: 2.36554\n",
      "[LightGBM] [Warning] feature_fraction is set=0.2136074713163626, colsample_bytree=0.5 will be ignored. Current value: feature_fraction=0.2136074713163626\n",
      "[LightGBM] [Warning] bagging_fraction is set=0.49693585093610326, subsample=0.5 will be ignored. Current value: bagging_fraction=0.49693585093610326\n",
      "[LightGBM] [Warning] bagging_freq is set=3, subsample_freq=0 will be ignored. Current value: bagging_freq=3\n",
      "Training until validation scores don't improve for 100 rounds\n",
      "[100]\ttraining's l1: 1.88279\tvalid_1's l1: 2.41938\n"
     ]
    },
    {
     "name": "stderr",
     "output_type": "stream",
     "text": [
      "\u001b[32m[I 2021-07-19 22:05:56,227]\u001b[0m Trial 9 finished with value: -2.39957683261147 and parameters: {'max_depth': 9, 'min_child_weight': 10, 'subsample': 0.5, 'colsample_bytree': 0.5, 'reg_lambda': 4.432242989371778, 'reg_alpha': 0.33279089180321575, 'feature_fraction': 0.2136074713163626, 'bagging_fraction': 0.49693585093610326, 'bagging_freq': 3, 'num_leaves': 409, 'min_child_samples': 55}. Best is trial 2 with value: -2.3523107999049473.\u001b[0m\n"
     ]
    },
    {
     "name": "stdout",
     "output_type": "stream",
     "text": [
      "Early stopping, best iteration is:\n",
      "[35]\ttraining's l1: 2.00489\tvalid_1's l1: 2.39958\n",
      "[LightGBM] [Warning] feature_fraction is set=0.5465964928335821, colsample_bytree=0.5 will be ignored. Current value: feature_fraction=0.5465964928335821\n",
      "[LightGBM] [Warning] bagging_fraction is set=0.47690768759795366, subsample=0.5 will be ignored. Current value: bagging_fraction=0.47690768759795366\n",
      "[LightGBM] [Warning] bagging_freq is set=19, subsample_freq=0 will be ignored. Current value: bagging_freq=19\n",
      "Training until validation scores don't improve for 100 rounds\n",
      "[100]\ttraining's l1: 2.02428\tvalid_1's l1: 2.39943\n"
     ]
    },
    {
     "name": "stderr",
     "output_type": "stream",
     "text": [
      "\u001b[32m[I 2021-07-19 22:05:58,238]\u001b[0m Trial 10 finished with value: -2.380018100847714 and parameters: {'max_depth': 20, 'min_child_weight': 4, 'subsample': 0.5, 'colsample_bytree': 0.5, 'reg_lambda': 727.5914136458765, 'reg_alpha': 0.002140584665188692, 'feature_fraction': 0.5465964928335821, 'bagging_fraction': 0.47690768759795366, 'bagging_freq': 19, 'num_leaves': 32, 'min_child_samples': 14}. Best is trial 2 with value: -2.3523107999049473.\u001b[0m\n"
     ]
    },
    {
     "name": "stdout",
     "output_type": "stream",
     "text": [
      "Early stopping, best iteration is:\n",
      "[72]\ttraining's l1: 2.06197\tvalid_1's l1: 2.38011\n",
      "[LightGBM] [Warning] feature_fraction is set=0.5009155690052551, colsample_bytree=0.8 will be ignored. Current value: feature_fraction=0.5009155690052551\n",
      "[LightGBM] [Warning] bagging_fraction is set=0.949334073052012, subsample=0.6 will be ignored. Current value: bagging_fraction=0.949334073052012\n",
      "[LightGBM] [Warning] bagging_freq is set=8, subsample_freq=0 will be ignored. Current value: bagging_freq=8\n",
      "Training until validation scores don't improve for 100 rounds\n",
      "[100]\ttraining's l1: 1.74213\tvalid_1's l1: 2.39032\n"
     ]
    },
    {
     "name": "stderr",
     "output_type": "stream",
     "text": [
      "\u001b[32m[I 2021-07-19 22:06:02,869]\u001b[0m Trial 11 finished with value: -2.3681263720741215 and parameters: {'max_depth': 20, 'min_child_weight': 13, 'subsample': 0.6, 'colsample_bytree': 0.8, 'reg_lambda': 57.9511402030495, 'reg_alpha': 4.809873711639267, 'feature_fraction': 0.5009155690052551, 'bagging_fraction': 0.949334073052012, 'bagging_freq': 8, 'num_leaves': 205, 'min_child_samples': 72}. Best is trial 2 with value: -2.3523107999049473.\u001b[0m\n"
     ]
    },
    {
     "name": "stdout",
     "output_type": "stream",
     "text": [
      "Early stopping, best iteration is:\n",
      "[69]\ttraining's l1: 1.82901\tvalid_1's l1: 2.36822\n",
      "[LightGBM] [Warning] feature_fraction is set=0.4246426765724157, colsample_bytree=0.8 will be ignored. Current value: feature_fraction=0.4246426765724157\n",
      "[LightGBM] [Warning] bagging_fraction is set=0.5414401342475053, subsample=0.6 will be ignored. Current value: bagging_fraction=0.5414401342475053\n",
      "[LightGBM] [Warning] bagging_freq is set=8, subsample_freq=0 will be ignored. Current value: bagging_freq=8\n",
      "Training until validation scores don't improve for 100 rounds\n",
      "[100]\ttraining's l1: 1.65455\tvalid_1's l1: 2.45679\n"
     ]
    },
    {
     "name": "stderr",
     "output_type": "stream",
     "text": [
      "\u001b[32m[I 2021-07-19 22:06:07,280]\u001b[0m Trial 12 finished with value: -2.389315940483246 and parameters: {'max_depth': 15, 'min_child_weight': 12, 'subsample': 0.6, 'colsample_bytree': 0.8, 'reg_lambda': 0.0482004173733935, 'reg_alpha': 0.001731700549430257, 'feature_fraction': 0.4246426765724157, 'bagging_fraction': 0.5414401342475053, 'bagging_freq': 8, 'num_leaves': 510, 'min_child_samples': 32}. Best is trial 2 with value: -2.3523107999049473.\u001b[0m\n"
     ]
    },
    {
     "name": "stdout",
     "output_type": "stream",
     "text": [
      "Early stopping, best iteration is:\n",
      "[48]\ttraining's l1: 1.80633\tvalid_1's l1: 2.38934\n",
      "[LightGBM] [Warning] feature_fraction is set=0.6282633041878881, colsample_bytree=0.8 will be ignored. Current value: feature_fraction=0.6282633041878881\n",
      "[LightGBM] [Warning] bagging_fraction is set=0.3659060035718037, subsample=0.6 will be ignored. Current value: bagging_fraction=0.3659060035718037\n",
      "[LightGBM] [Warning] bagging_freq is set=7, subsample_freq=0 will be ignored. Current value: bagging_freq=7\n",
      "Training until validation scores don't improve for 100 rounds\n",
      "[100]\ttraining's l1: 2.27896\tvalid_1's l1: 2.39134\n",
      "[200]\ttraining's l1: 2.25387\tvalid_1's l1: 2.37241\n"
     ]
    },
    {
     "name": "stderr",
     "output_type": "stream",
     "text": [
      "\u001b[32m[I 2021-07-19 22:06:08,659]\u001b[0m Trial 13 finished with value: -2.3706508553896453 and parameters: {'max_depth': 1, 'min_child_weight': 7, 'subsample': 0.6, 'colsample_bytree': 0.8, 'reg_lambda': 100.58724398686799, 'reg_alpha': 15.37420857166349, 'feature_fraction': 0.6282633041878881, 'bagging_fraction': 0.3659060035718037, 'bagging_freq': 7, 'num_leaves': 514, 'min_child_samples': 75}. Best is trial 2 with value: -2.3523107999049473.\u001b[0m\n"
     ]
    },
    {
     "name": "stdout",
     "output_type": "stream",
     "text": [
      "[300]\ttraining's l1: 2.23587\tvalid_1's l1: 2.3763\n",
      "Early stopping, best iteration is:\n",
      "[227]\ttraining's l1: 2.24879\tvalid_1's l1: 2.37066\n",
      "[LightGBM] [Warning] feature_fraction is set=0.6817085793096103, colsample_bytree=0.6 will be ignored. Current value: feature_fraction=0.6817085793096103\n",
      "[LightGBM] [Warning] bagging_fraction is set=0.6220455236550051, subsample=0.6 will be ignored. Current value: bagging_fraction=0.6220455236550051\n",
      "[LightGBM] [Warning] bagging_freq is set=16, subsample_freq=0 will be ignored. Current value: bagging_freq=16\n",
      "Training until validation scores don't improve for 100 rounds\n",
      "[100]\ttraining's l1: 1.76305\tvalid_1's l1: 2.39274\n"
     ]
    },
    {
     "name": "stderr",
     "output_type": "stream",
     "text": [
      "\u001b[32m[I 2021-07-19 22:06:11,361]\u001b[0m Trial 14 finished with value: -2.3624249514107882 and parameters: {'max_depth': 18, 'min_child_weight': 20, 'subsample': 0.6, 'colsample_bytree': 0.6, 'reg_lambda': 0.0011118689110932104, 'reg_alpha': 0.1503151120301144, 'feature_fraction': 0.6817085793096103, 'bagging_fraction': 0.6220455236550051, 'bagging_freq': 16, 'num_leaves': 159, 'min_child_samples': 35}. Best is trial 2 with value: -2.3523107999049473.\u001b[0m\n"
     ]
    },
    {
     "name": "stdout",
     "output_type": "stream",
     "text": [
      "Early stopping, best iteration is:\n",
      "[36]\ttraining's l1: 1.95098\tvalid_1's l1: 2.36243\n",
      "[LightGBM] [Warning] feature_fraction is set=0.41067468922040595, colsample_bytree=0.6 will be ignored. Current value: feature_fraction=0.41067468922040595\n",
      "[LightGBM] [Warning] bagging_fraction is set=0.9323661574829352, subsample=0.7 will be ignored. Current value: bagging_fraction=0.9323661574829352\n",
      "[LightGBM] [Warning] bagging_freq is set=11, subsample_freq=0 will be ignored. Current value: bagging_freq=11\n",
      "Training until validation scores don't improve for 100 rounds\n",
      "[100]\ttraining's l1: 1.75755\tvalid_1's l1: 2.39213\n"
     ]
    },
    {
     "name": "stderr",
     "output_type": "stream",
     "text": [
      "\u001b[32m[I 2021-07-19 22:06:15,683]\u001b[0m Trial 15 finished with value: -2.3677518287676524 and parameters: {'max_depth': 12, 'min_child_weight': 14, 'subsample': 0.7, 'colsample_bytree': 0.6, 'reg_lambda': 0.4787425544390895, 'reg_alpha': 21.00526025966207, 'feature_fraction': 0.41067468922040595, 'bagging_fraction': 0.9323661574829352, 'bagging_freq': 11, 'num_leaves': 403, 'min_child_samples': 73}. Best is trial 2 with value: -2.3523107999049473.\u001b[0m\n"
     ]
    },
    {
     "name": "stdout",
     "output_type": "stream",
     "text": [
      "Early stopping, best iteration is:\n",
      "[56]\ttraining's l1: 1.88039\tvalid_1's l1: 2.36779\n",
      "[LightGBM] [Warning] feature_fraction is set=0.5070438060400443, colsample_bytree=0.8 will be ignored. Current value: feature_fraction=0.5070438060400443\n",
      "[LightGBM] [Warning] bagging_fraction is set=0.4041641623665281, subsample=0.8 will be ignored. Current value: bagging_fraction=0.4041641623665281\n",
      "[LightGBM] [Warning] bagging_freq is set=5, subsample_freq=0 will be ignored. Current value: bagging_freq=5\n",
      "Training until validation scores don't improve for 100 rounds\n",
      "[100]\ttraining's l1: 2.02489\tvalid_1's l1: 2.38774\n"
     ]
    },
    {
     "name": "stderr",
     "output_type": "stream",
     "text": [
      "\u001b[32m[I 2021-07-19 22:06:17,148]\u001b[0m Trial 16 finished with value: -2.357421270932332 and parameters: {'max_depth': 5, 'min_child_weight': 10, 'subsample': 0.8, 'colsample_bytree': 0.8, 'reg_lambda': 0.04365333894330592, 'reg_alpha': 0.019096942611765647, 'feature_fraction': 0.5070438060400443, 'bagging_fraction': 0.4041641623665281, 'bagging_freq': 5, 'num_leaves': 599, 'min_child_samples': 7}. Best is trial 2 with value: -2.3523107999049473.\u001b[0m\n"
     ]
    },
    {
     "name": "stdout",
     "output_type": "stream",
     "text": [
      "Early stopping, best iteration is:\n",
      "[51]\ttraining's l1: 2.10046\tvalid_1's l1: 2.35746\n",
      "[LightGBM] [Warning] feature_fraction is set=0.6195816407078555, colsample_bytree=0.9 will be ignored. Current value: feature_fraction=0.6195816407078555\n",
      "[LightGBM] [Warning] bagging_fraction is set=0.6018936913216129, subsample=0.5 will be ignored. Current value: bagging_fraction=0.6018936913216129\n",
      "[LightGBM] [Warning] bagging_freq is set=10, subsample_freq=0 will be ignored. Current value: bagging_freq=10\n",
      "Training until validation scores don't improve for 100 rounds\n",
      "[100]\ttraining's l1: 1.75864\tvalid_1's l1: 2.42479\n"
     ]
    },
    {
     "name": "stderr",
     "output_type": "stream",
     "text": [
      "\u001b[32m[I 2021-07-19 22:06:20,401]\u001b[0m Trial 17 finished with value: -2.3782484738113063 and parameters: {'max_depth': 17, 'min_child_weight': 18, 'subsample': 0.5, 'colsample_bytree': 0.9, 'reg_lambda': 0.00904708899889771, 'reg_alpha': 0.36702189827684684, 'feature_fraction': 0.6195816407078555, 'bagging_fraction': 0.6018936913216129, 'bagging_freq': 10, 'num_leaves': 159, 'min_child_samples': 42}. Best is trial 2 with value: -2.3523107999049473.\u001b[0m\n"
     ]
    },
    {
     "name": "stdout",
     "output_type": "stream",
     "text": [
      "Early stopping, best iteration is:\n",
      "[35]\ttraining's l1: 1.96824\tvalid_1's l1: 2.37825\n",
      "[LightGBM] [Warning] feature_fraction is set=0.3318539335936432, colsample_bytree=0.6 will be ignored. Current value: feature_fraction=0.3318539335936432\n",
      "[LightGBM] [Warning] bagging_fraction is set=0.8581758249377746, subsample=0.6 will be ignored. Current value: bagging_fraction=0.8581758249377746\n",
      "[LightGBM] [Warning] bagging_freq is set=16, subsample_freq=0 will be ignored. Current value: bagging_freq=16\n",
      "Training until validation scores don't improve for 100 rounds\n",
      "[100]\ttraining's l1: 1.77258\tvalid_1's l1: 2.39748\n"
     ]
    },
    {
     "name": "stderr",
     "output_type": "stream",
     "text": [
      "\u001b[32m[I 2021-07-19 22:06:23,684]\u001b[0m Trial 18 finished with value: -2.3588215435828066 and parameters: {'max_depth': 13, 'min_child_weight': 6, 'subsample': 0.6, 'colsample_bytree': 0.6, 'reg_lambda': 0.42734178165409475, 'reg_alpha': 0.0035244932058839367, 'feature_fraction': 0.3318539335936432, 'bagging_fraction': 0.8581758249377746, 'bagging_freq': 16, 'num_leaves': 278, 'min_child_samples': 83}. Best is trial 2 with value: -2.3523107999049473.\u001b[0m\n"
     ]
    },
    {
     "name": "stdout",
     "output_type": "stream",
     "text": [
      "Early stopping, best iteration is:\n",
      "[42]\ttraining's l1: 1.9211\tvalid_1's l1: 2.35883\n",
      "[LightGBM] [Warning] feature_fraction is set=0.44941202584860623, colsample_bytree=0.8 will be ignored. Current value: feature_fraction=0.44941202584860623\n",
      "[LightGBM] [Warning] bagging_fraction is set=0.22961623115985985, subsample=0.7 will be ignored. Current value: bagging_fraction=0.22961623115985985\n",
      "[LightGBM] [Warning] bagging_freq is set=1, subsample_freq=0 will be ignored. Current value: bagging_freq=1\n",
      "Training until validation scores don't improve for 100 rounds\n",
      "[100]\ttraining's l1: 2.24653\tvalid_1's l1: 2.43092\n"
     ]
    },
    {
     "name": "stderr",
     "output_type": "stream",
     "text": [
      "\u001b[32m[I 2021-07-19 22:06:25,200]\u001b[0m Trial 19 finished with value: -2.421932059599722 and parameters: {'max_depth': 18, 'min_child_weight': 12, 'subsample': 0.7, 'colsample_bytree': 0.8, 'reg_lambda': 2.257028175392923, 'reg_alpha': 836.4344811438019, 'feature_fraction': 0.44941202584860623, 'bagging_fraction': 0.22961623115985985, 'bagging_freq': 1, 'num_leaves': 92, 'min_child_samples': 64}. Best is trial 2 with value: -2.3523107999049473.\u001b[0m\n"
     ]
    },
    {
     "name": "stdout",
     "output_type": "stream",
     "text": [
      "[200]\ttraining's l1: 2.24087\tvalid_1's l1: 2.42223\n",
      "Early stopping, best iteration is:\n",
      "[151]\ttraining's l1: 2.24147\tvalid_1's l1: 2.42149\n",
      "[LightGBM] [Warning] feature_fraction is set=0.5637447399129144, colsample_bytree=0.7 will be ignored. Current value: feature_fraction=0.5637447399129144\n",
      "[LightGBM] [Warning] bagging_fraction is set=0.6667733505581164, subsample=0.8 will be ignored. Current value: bagging_fraction=0.6667733505581164\n",
      "[LightGBM] [Warning] bagging_freq is set=6, subsample_freq=0 will be ignored. Current value: bagging_freq=6\n",
      "Training until validation scores don't improve for 100 rounds\n",
      "[100]\ttraining's l1: 1.95825\tvalid_1's l1: 2.363\n"
     ]
    },
    {
     "name": "stderr",
     "output_type": "stream",
     "text": [
      "\u001b[32m[I 2021-07-19 22:06:27,265]\u001b[0m Trial 20 finished with value: -2.3457737773310336 and parameters: {'max_depth': 6, 'min_child_weight': 15, 'subsample': 0.8, 'colsample_bytree': 0.7, 'reg_lambda': 0.0010614774256135961, 'reg_alpha': 1.2978744471042176, 'feature_fraction': 0.5637447399129144, 'bagging_fraction': 0.6667733505581164, 'bagging_freq': 6, 'num_leaves': 303, 'min_child_samples': 24}. Best is trial 20 with value: -2.3457737773310336.\u001b[0m\n"
     ]
    },
    {
     "name": "stdout",
     "output_type": "stream",
     "text": [
      "Early stopping, best iteration is:\n",
      "[44]\ttraining's l1: 2.06771\tvalid_1's l1: 2.34583\n",
      "[LightGBM] [Warning] feature_fraction is set=0.5693724013428468, colsample_bytree=0.7 will be ignored. Current value: feature_fraction=0.5693724013428468\n",
      "[LightGBM] [Warning] bagging_fraction is set=0.6457332437293951, subsample=0.8 will be ignored. Current value: bagging_fraction=0.6457332437293951\n",
      "[LightGBM] [Warning] bagging_freq is set=6, subsample_freq=0 will be ignored. Current value: bagging_freq=6\n",
      "Training until validation scores don't improve for 100 rounds\n",
      "[100]\ttraining's l1: 1.96673\tvalid_1's l1: 2.39158\n"
     ]
    },
    {
     "name": "stderr",
     "output_type": "stream",
     "text": [
      "\u001b[32m[I 2021-07-19 22:06:29,269]\u001b[0m Trial 21 finished with value: -2.3644320825782263 and parameters: {'max_depth': 6, 'min_child_weight': 16, 'subsample': 0.8, 'colsample_bytree': 0.7, 'reg_lambda': 0.00103126136223592, 'reg_alpha': 1.423889751644539, 'feature_fraction': 0.5693724013428468, 'bagging_fraction': 0.6457332437293951, 'bagging_freq': 6, 'num_leaves': 314, 'min_child_samples': 22}. Best is trial 20 with value: -2.3457737773310336.\u001b[0m\n"
     ]
    },
    {
     "name": "stdout",
     "output_type": "stream",
     "text": [
      "Early stopping, best iteration is:\n",
      "[44]\ttraining's l1: 2.06446\tvalid_1's l1: 2.36447\n",
      "[LightGBM] [Warning] feature_fraction is set=0.6834113858915155, colsample_bytree=0.8 will be ignored. Current value: feature_fraction=0.6834113858915155\n",
      "[LightGBM] [Warning] bagging_fraction is set=0.5364152919103005, subsample=0.8 will be ignored. Current value: bagging_fraction=0.5364152919103005\n",
      "[LightGBM] [Warning] bagging_freq is set=8, subsample_freq=0 will be ignored. Current value: bagging_freq=8\n",
      "Training until validation scores don't improve for 100 rounds\n",
      "[100]\ttraining's l1: 2.15599\tvalid_1's l1: 2.37165\n"
     ]
    },
    {
     "name": "stderr",
     "output_type": "stream",
     "text": [
      "\u001b[32m[I 2021-07-19 22:06:30,805]\u001b[0m Trial 22 finished with value: -2.3682906407335205 and parameters: {'max_depth': 3, 'min_child_weight': 14, 'subsample': 0.8, 'colsample_bytree': 0.8, 'reg_lambda': 0.017040793308030162, 'reg_alpha': 25.10869182115909, 'feature_fraction': 0.6834113858915155, 'bagging_fraction': 0.5364152919103005, 'bagging_freq': 8, 'num_leaves': 465, 'min_child_samples': 5}. Best is trial 20 with value: -2.3457737773310336.\u001b[0m\n"
     ]
    },
    {
     "name": "stdout",
     "output_type": "stream",
     "text": [
      "[200]\ttraining's l1: 2.09894\tvalid_1's l1: 2.37959\n",
      "Early stopping, best iteration is:\n",
      "[143]\ttraining's l1: 2.12524\tvalid_1's l1: 2.36838\n",
      "[LightGBM] [Warning] feature_fraction is set=0.4785562370211868, colsample_bytree=0.9 will be ignored. Current value: feature_fraction=0.4785562370211868\n",
      "[LightGBM] [Warning] bagging_fraction is set=0.7041995267622175, subsample=0.7 will be ignored. Current value: bagging_fraction=0.7041995267622175\n",
      "[LightGBM] [Warning] bagging_freq is set=10, subsample_freq=0 will be ignored. Current value: bagging_freq=10\n",
      "Training until validation scores don't improve for 100 rounds\n",
      "[100]\ttraining's l1: 1.90369\tvalid_1's l1: 2.39758\n"
     ]
    },
    {
     "name": "stderr",
     "output_type": "stream",
     "text": [
      "\u001b[32m[I 2021-07-19 22:06:32,898]\u001b[0m Trial 23 finished with value: -2.3606253402286943 and parameters: {'max_depth': 7, 'min_child_weight': 18, 'subsample': 0.7, 'colsample_bytree': 0.9, 'reg_lambda': 0.002186703577883181, 'reg_alpha': 0.13733750484841903, 'feature_fraction': 0.4785562370211868, 'bagging_fraction': 0.7041995267622175, 'bagging_freq': 10, 'num_leaves': 242, 'min_child_samples': 17}. Best is trial 20 with value: -2.3457737773310336.\u001b[0m\n"
     ]
    },
    {
     "name": "stdout",
     "output_type": "stream",
     "text": [
      "Early stopping, best iteration is:\n",
      "[42]\ttraining's l1: 2.03376\tvalid_1's l1: 2.36063\n",
      "[LightGBM] [Warning] feature_fraction is set=0.3863101881324046, colsample_bytree=0.6 will be ignored. Current value: feature_fraction=0.3863101881324046\n",
      "[LightGBM] [Warning] bagging_fraction is set=0.44693297709457347, subsample=0.6 will be ignored. Current value: bagging_fraction=0.44693297709457347\n",
      "[LightGBM] [Warning] bagging_freq is set=13, subsample_freq=0 will be ignored. Current value: bagging_freq=13\n",
      "Training until validation scores don't improve for 100 rounds\n",
      "[100]\ttraining's l1: 2.10696\tvalid_1's l1: 2.36816\n"
     ]
    },
    {
     "name": "stderr",
     "output_type": "stream",
     "text": [
      "\u001b[32m[I 2021-07-19 22:06:34,276]\u001b[0m Trial 24 finished with value: -2.3656419183659523 and parameters: {'max_depth': 4, 'min_child_weight': 11, 'subsample': 0.6, 'colsample_bytree': 0.6, 'reg_lambda': 257.3126314095029, 'reg_alpha': 6.30392719327677, 'feature_fraction': 0.3863101881324046, 'bagging_fraction': 0.44693297709457347, 'bagging_freq': 13, 'num_leaves': 397, 'min_child_samples': 42}. Best is trial 20 with value: -2.3457737773310336.\u001b[0m\n"
     ]
    },
    {
     "name": "stdout",
     "output_type": "stream",
     "text": [
      "Early stopping, best iteration is:\n",
      "[66]\ttraining's l1: 2.14342\tvalid_1's l1: 2.36565\n",
      "[LightGBM] [Warning] feature_fraction is set=0.5554804627632297, colsample_bytree=0.7 will be ignored. Current value: feature_fraction=0.5554804627632297\n",
      "[LightGBM] [Warning] bagging_fraction is set=0.56558740770538, subsample=0.8 will be ignored. Current value: bagging_fraction=0.56558740770538\n",
      "[LightGBM] [Warning] bagging_freq is set=5, subsample_freq=0 will be ignored. Current value: bagging_freq=5\n",
      "Training until validation scores don't improve for 100 rounds\n",
      "[100]\ttraining's l1: 1.63179\tvalid_1's l1: 2.4361\n"
     ]
    },
    {
     "name": "stderr",
     "output_type": "stream",
     "text": [
      "\u001b[32m[I 2021-07-19 22:06:39,406]\u001b[0m Trial 25 finished with value: -2.3803591737010303 and parameters: {'max_depth': 13, 'min_child_weight': 14, 'subsample': 0.8, 'colsample_bytree': 0.7, 'reg_lambda': 14.911229748154481, 'reg_alpha': 0.05275463420991592, 'feature_fraction': 0.5554804627632297, 'bagging_fraction': 0.56558740770538, 'bagging_freq': 5, 'num_leaves': 538, 'min_child_samples': 6}. Best is trial 20 with value: -2.3457737773310336.\u001b[0m\n"
     ]
    },
    {
     "name": "stdout",
     "output_type": "stream",
     "text": [
      "Early stopping, best iteration is:\n",
      "[38]\ttraining's l1: 1.84235\tvalid_1's l1: 2.38036\n",
      "[LightGBM] [Warning] feature_fraction is set=0.3000731055504708, colsample_bytree=0.5 will be ignored. Current value: feature_fraction=0.3000731055504708\n",
      "[LightGBM] [Warning] bagging_fraction is set=0.6514215619790698, subsample=0.7 will be ignored. Current value: bagging_fraction=0.6514215619790698\n",
      "[LightGBM] [Warning] bagging_freq is set=9, subsample_freq=0 will be ignored. Current value: bagging_freq=9\n",
      "Training until validation scores don't improve for 100 rounds\n",
      "[100]\ttraining's l1: 2.28958\tvalid_1's l1: 2.3959\n",
      "[200]\ttraining's l1: 2.25919\tvalid_1's l1: 2.3732\n",
      "[300]\ttraining's l1: 2.23917\tvalid_1's l1: 2.36962\n"
     ]
    },
    {
     "name": "stderr",
     "output_type": "stream",
     "text": [
      "\u001b[32m[I 2021-07-19 22:06:41,617]\u001b[0m Trial 26 finished with value: -2.365565179373649 and parameters: {'max_depth': 1, 'min_child_weight': 16, 'subsample': 0.7, 'colsample_bytree': 0.5, 'reg_lambda': 0.3451652893860978, 'reg_alpha': 0.009094796312722336, 'feature_fraction': 0.3000731055504708, 'bagging_fraction': 0.6514215619790698, 'bagging_freq': 9, 'num_leaves': 116, 'min_child_samples': 29}. Best is trial 20 with value: -2.3457737773310336.\u001b[0m\n"
     ]
    },
    {
     "name": "stdout",
     "output_type": "stream",
     "text": [
      "Early stopping, best iteration is:\n",
      "[244]\ttraining's l1: 2.24973\tvalid_1's l1: 2.36564\n",
      "[LightGBM] [Warning] feature_fraction is set=0.6855160724049497, colsample_bytree=0.8 will be ignored. Current value: feature_fraction=0.6855160724049497\n",
      "[LightGBM] [Warning] bagging_fraction is set=0.7507199161116815, subsample=0.7 will be ignored. Current value: bagging_fraction=0.7507199161116815\n",
      "[LightGBM] [Warning] bagging_freq is set=1, subsample_freq=0 will be ignored. Current value: bagging_freq=1\n",
      "Training until validation scores don't improve for 100 rounds\n",
      "[100]\ttraining's l1: 1.89378\tvalid_1's l1: 2.3981\n"
     ]
    },
    {
     "name": "stderr",
     "output_type": "stream",
     "text": [
      "\u001b[32m[I 2021-07-19 22:06:43,442]\u001b[0m Trial 27 finished with value: -2.36210997709214 and parameters: {'max_depth': 7, 'min_child_weight': 9, 'subsample': 0.7, 'colsample_bytree': 0.8, 'reg_lambda': 0.01887598961892927, 'reg_alpha': 0.8202939554921773, 'feature_fraction': 0.6855160724049497, 'bagging_fraction': 0.7507199161116815, 'bagging_freq': 1, 'num_leaves': 345, 'min_child_samples': 41}. Best is trial 20 with value: -2.3457737773310336.\u001b[0m\n"
     ]
    },
    {
     "name": "stdout",
     "output_type": "stream",
     "text": [
      "Early stopping, best iteration is:\n",
      "[31]\ttraining's l1: 2.07495\tvalid_1's l1: 2.36211\n",
      "[LightGBM] [Warning] feature_fraction is set=0.5189739466179534, colsample_bytree=0.9 will be ignored. Current value: feature_fraction=0.5189739466179534\n",
      "[LightGBM] [Warning] bagging_fraction is set=0.5715642741188232, subsample=0.6 will be ignored. Current value: bagging_fraction=0.5715642741188232\n",
      "[LightGBM] [Warning] bagging_freq is set=6, subsample_freq=0 will be ignored. Current value: bagging_freq=6\n",
      "Training until validation scores don't improve for 100 rounds\n",
      "[100]\ttraining's l1: 1.87465\tvalid_1's l1: 2.40665\n"
     ]
    },
    {
     "name": "stderr",
     "output_type": "stream",
     "text": [
      "\u001b[32m[I 2021-07-19 22:06:45,767]\u001b[0m Trial 28 finished with value: -2.3644936061058304 and parameters: {'max_depth': 8, 'min_child_weight': 18, 'subsample': 0.6, 'colsample_bytree': 0.9, 'reg_lambda': 9.124307795717513, 'reg_alpha': 0.7450212388352657, 'feature_fraction': 0.5189739466179534, 'bagging_fraction': 0.5715642741188232, 'bagging_freq': 6, 'num_leaves': 441, 'min_child_samples': 61}. Best is trial 20 with value: -2.3457737773310336.\u001b[0m\n"
     ]
    },
    {
     "name": "stdout",
     "output_type": "stream",
     "text": [
      "Early stopping, best iteration is:\n",
      "[53]\ttraining's l1: 1.96712\tvalid_1's l1: 2.36457\n",
      "[LightGBM] [Warning] feature_fraction is set=0.285297918006323, colsample_bytree=0.7 will be ignored. Current value: feature_fraction=0.285297918006323\n",
      "[LightGBM] [Warning] bagging_fraction is set=0.8807720238746467, subsample=0.9 will be ignored. Current value: bagging_fraction=0.8807720238746467\n",
      "[LightGBM] [Warning] bagging_freq is set=18, subsample_freq=0 will be ignored. Current value: bagging_freq=18\n",
      "Training until validation scores don't improve for 100 rounds\n",
      "[100]\ttraining's l1: 1.82142\tvalid_1's l1: 2.39581\n"
     ]
    },
    {
     "name": "stderr",
     "output_type": "stream",
     "text": [
      "\u001b[32m[I 2021-07-19 22:06:49,173]\u001b[0m Trial 29 finished with value: -2.380098760099058 and parameters: {'max_depth': 11, 'min_child_weight': 15, 'subsample': 0.9, 'colsample_bytree': 0.7, 'reg_lambda': 0.0022812091332502548, 'reg_alpha': 37.981396955217186, 'feature_fraction': 0.285297918006323, 'bagging_fraction': 0.8807720238746467, 'bagging_freq': 18, 'num_leaves': 609, 'min_child_samples': 17}. Best is trial 20 with value: -2.3457737773310336.\u001b[0m\n"
     ]
    },
    {
     "name": "stdout",
     "output_type": "stream",
     "text": [
      "Early stopping, best iteration is:\n",
      "[57]\ttraining's l1: 1.92032\tvalid_1's l1: 2.38011\n",
      "[LightGBM] [Warning] feature_fraction is set=0.6191676465535237, colsample_bytree=0.7 will be ignored. Current value: feature_fraction=0.6191676465535237\n",
      "[LightGBM] [Warning] bagging_fraction is set=0.7586669255034153, subsample=0.8 will be ignored. Current value: bagging_fraction=0.7586669255034153\n",
      "[LightGBM] [Warning] bagging_freq is set=16, subsample_freq=0 will be ignored. Current value: bagging_freq=16\n",
      "Training until validation scores don't improve for 100 rounds\n",
      "[100]\ttraining's l1: 1.53932\tvalid_1's l1: 2.38756\n"
     ]
    },
    {
     "name": "stderr",
     "output_type": "stream",
     "text": [
      "\u001b[32m[I 2021-07-19 22:06:57,380]\u001b[0m Trial 30 finished with value: -2.379903903397546 and parameters: {'max_depth': 16, 'min_child_weight': 12, 'subsample': 0.8, 'colsample_bytree': 0.7, 'reg_lambda': 0.18210229192813282, 'reg_alpha': 0.0446267016518161, 'feature_fraction': 0.6191676465535237, 'bagging_fraction': 0.7586669255034153, 'bagging_freq': 16, 'num_leaves': 682, 'min_child_samples': 22}. Best is trial 20 with value: -2.3457737773310336.\u001b[0m\n"
     ]
    },
    {
     "name": "stdout",
     "output_type": "stream",
     "text": [
      "Early stopping, best iteration is:\n",
      "[70]\ttraining's l1: 1.60512\tvalid_1's l1: 2.37996\n",
      "[LightGBM] [Warning] feature_fraction is set=0.47662969599812355, colsample_bytree=0.8 will be ignored. Current value: feature_fraction=0.47662969599812355\n",
      "[LightGBM] [Warning] bagging_fraction is set=0.42538173557291076, subsample=0.8 will be ignored. Current value: bagging_fraction=0.42538173557291076\n",
      "[LightGBM] [Warning] bagging_freq is set=5, subsample_freq=0 will be ignored. Current value: bagging_freq=5\n",
      "Training until validation scores don't improve for 100 rounds\n",
      "[100]\ttraining's l1: 2.03079\tvalid_1's l1: 2.36659\n"
     ]
    },
    {
     "name": "stderr",
     "output_type": "stream",
     "text": [
      "\u001b[32m[I 2021-07-19 22:06:59,359]\u001b[0m Trial 31 finished with value: -2.3578024938410405 and parameters: {'max_depth': 5, 'min_child_weight': 9, 'subsample': 0.8, 'colsample_bytree': 0.8, 'reg_lambda': 0.049580644427727846, 'reg_alpha': 0.011268755489821978, 'feature_fraction': 0.47662969599812355, 'bagging_fraction': 0.42538173557291076, 'bagging_freq': 5, 'num_leaves': 588, 'min_child_samples': 10}. Best is trial 20 with value: -2.3457737773310336.\u001b[0m\n"
     ]
    },
    {
     "name": "stdout",
     "output_type": "stream",
     "text": [
      "Early stopping, best iteration is:\n",
      "[92]\ttraining's l1: 2.04215\tvalid_1's l1: 2.35836\n",
      "[LightGBM] [Warning] feature_fraction is set=0.5089893465111999, colsample_bytree=0.8 will be ignored. Current value: feature_fraction=0.5089893465111999\n",
      "[LightGBM] [Warning] bagging_fraction is set=0.371141917678045, subsample=0.9 will be ignored. Current value: bagging_fraction=0.371141917678045\n",
      "[LightGBM] [Warning] bagging_freq is set=4, subsample_freq=0 will be ignored. Current value: bagging_freq=4\n",
      "Training until validation scores don't improve for 100 rounds\n",
      "[100]\ttraining's l1: 2.02695\tvalid_1's l1: 2.35476\n"
     ]
    },
    {
     "name": "stderr",
     "output_type": "stream",
     "text": [
      "\u001b[32m[I 2021-07-19 22:07:00,914]\u001b[0m Trial 32 finished with value: -2.344320736370999 and parameters: {'max_depth': 5, 'min_child_weight': 13, 'subsample': 0.9, 'colsample_bytree': 0.8, 'reg_lambda': 0.03790290937316588, 'reg_alpha': 0.0010636813782157924, 'feature_fraction': 0.5089893465111999, 'bagging_fraction': 0.371141917678045, 'bagging_freq': 4, 'num_leaves': 743, 'min_child_samples': 8}. Best is trial 32 with value: -2.344320736370999.\u001b[0m\n"
     ]
    },
    {
     "name": "stdout",
     "output_type": "stream",
     "text": [
      "Early stopping, best iteration is:\n",
      "[75]\ttraining's l1: 2.05213\tvalid_1's l1: 2.34463\n",
      "[LightGBM] [Warning] feature_fraction is set=0.580627761640048, colsample_bytree=0.8 will be ignored. Current value: feature_fraction=0.580627761640048\n",
      "[LightGBM] [Warning] bagging_fraction is set=0.3122708489183094, subsample=0.9 will be ignored. Current value: bagging_fraction=0.3122708489183094\n",
      "[LightGBM] [Warning] bagging_freq is set=3, subsample_freq=0 will be ignored. Current value: bagging_freq=3\n",
      "Training until validation scores don't improve for 100 rounds\n",
      "[100]\ttraining's l1: 2.14531\tvalid_1's l1: 2.37212\n"
     ]
    },
    {
     "name": "stderr",
     "output_type": "stream",
     "text": [
      "\u001b[32m[I 2021-07-19 22:07:02,317]\u001b[0m Trial 33 finished with value: -2.3623684723465814 and parameters: {'max_depth': 3, 'min_child_weight': 13, 'subsample': 0.9, 'colsample_bytree': 0.8, 'reg_lambda': 0.12717712314538315, 'reg_alpha': 0.004682174163822029, 'feature_fraction': 0.580627761640048, 'bagging_fraction': 0.3122708489183094, 'bagging_freq': 3, 'num_leaves': 975, 'min_child_samples': 12}. Best is trial 32 with value: -2.344320736370999.\u001b[0m\n"
     ]
    },
    {
     "name": "stdout",
     "output_type": "stream",
     "text": [
      "Early stopping, best iteration is:\n",
      "[76]\ttraining's l1: 2.16862\tvalid_1's l1: 2.36238\n",
      "[LightGBM] [Warning] feature_fraction is set=0.3756741798462531, colsample_bytree=0.7 will be ignored. Current value: feature_fraction=0.3756741798462531\n",
      "[LightGBM] [Warning] bagging_fraction is set=0.49374601926224376, subsample=0.9 will be ignored. Current value: bagging_fraction=0.49374601926224376\n",
      "[LightGBM] [Warning] bagging_freq is set=14, subsample_freq=0 will be ignored. Current value: bagging_freq=14\n",
      "Training until validation scores don't improve for 100 rounds\n",
      "[100]\ttraining's l1: 2.21602\tvalid_1's l1: 2.37458\n",
      "[200]\ttraining's l1: 2.17102\tvalid_1's l1: 2.36993\n"
     ]
    },
    {
     "name": "stderr",
     "output_type": "stream",
     "text": [
      "\u001b[32m[I 2021-07-19 22:07:03,963]\u001b[0m Trial 34 finished with value: -2.3635202742795824 and parameters: {'max_depth': 2, 'min_child_weight': 15, 'subsample': 0.9, 'colsample_bytree': 0.7, 'reg_lambda': 0.014734036844605539, 'reg_alpha': 0.0011843957965127418, 'feature_fraction': 0.3756741798462531, 'bagging_fraction': 0.49374601926224376, 'bagging_freq': 14, 'num_leaves': 750, 'min_child_samples': 23}. Best is trial 32 with value: -2.344320736370999.\u001b[0m\n"
     ]
    },
    {
     "name": "stdout",
     "output_type": "stream",
     "text": [
      "Early stopping, best iteration is:\n",
      "[154]\ttraining's l1: 2.18482\tvalid_1's l1: 2.36364\n",
      "[LightGBM] [Warning] feature_fraction is set=0.4495100964343959, colsample_bytree=0.9 will be ignored. Current value: feature_fraction=0.4495100964343959\n",
      "[LightGBM] [Warning] bagging_fraction is set=0.35343711577442044, subsample=0.9 will be ignored. Current value: bagging_fraction=0.35343711577442044\n",
      "[LightGBM] [Warning] bagging_freq is set=12, subsample_freq=0 will be ignored. Current value: bagging_freq=12\n",
      "Training until validation scores don't improve for 100 rounds\n",
      "[100]\ttraining's l1: 1.96523\tvalid_1's l1: 2.37909\n"
     ]
    },
    {
     "name": "stderr",
     "output_type": "stream",
     "text": [
      "\u001b[32m[I 2021-07-19 22:07:05,983]\u001b[0m Trial 35 finished with value: -2.364458616287729 and parameters: {'max_depth': 10, 'min_child_weight': 17, 'subsample': 0.9, 'colsample_bytree': 0.9, 'reg_lambda': 0.0022390763452242598, 'reg_alpha': 82.53541192790567, 'feature_fraction': 0.4495100964343959, 'bagging_fraction': 0.35343711577442044, 'bagging_freq': 12, 'num_leaves': 892, 'min_child_samples': 68}. Best is trial 32 with value: -2.344320736370999.\u001b[0m\n"
     ]
    },
    {
     "name": "stdout",
     "output_type": "stream",
     "text": [
      "Early stopping, best iteration is:\n",
      "[63]\ttraining's l1: 2.0196\tvalid_1's l1: 2.36453\n",
      "[LightGBM] [Warning] feature_fraction is set=0.7385860182996611, colsample_bytree=0.7 will be ignored. Current value: feature_fraction=0.7385860182996611\n",
      "[LightGBM] [Warning] bagging_fraction is set=0.2936514848173352, subsample=0.7 will be ignored. Current value: bagging_fraction=0.2936514848173352\n",
      "[LightGBM] [Warning] bagging_freq is set=4, subsample_freq=0 will be ignored. Current value: bagging_freq=4\n",
      "Training until validation scores don't improve for 100 rounds\n",
      "[100]\ttraining's l1: 2.13584\tvalid_1's l1: 2.37702\n"
     ]
    },
    {
     "name": "stderr",
     "output_type": "stream",
     "text": [
      "\u001b[32m[I 2021-07-19 22:07:07,189]\u001b[0m Trial 36 finished with value: -2.366512250575522 and parameters: {'max_depth': 5, 'min_child_weight': 13, 'subsample': 0.7, 'colsample_bytree': 0.7, 'reg_lambda': 1.399532464350389, 'reg_alpha': 327.01574901199245, 'feature_fraction': 0.7385860182996611, 'bagging_fraction': 0.2936514848173352, 'bagging_freq': 4, 'num_leaves': 240, 'min_child_samples': 50}. Best is trial 32 with value: -2.344320736370999.\u001b[0m\n"
     ]
    },
    {
     "name": "stdout",
     "output_type": "stream",
     "text": [
      "[200]\ttraining's l1: 2.10571\tvalid_1's l1: 2.37149\n",
      "Early stopping, best iteration is:\n",
      "[136]\ttraining's l1: 2.1183\tvalid_1's l1: 2.36658\n",
      "[LightGBM] [Warning] feature_fraction is set=0.9685934213098677, colsample_bytree=0.8 will be ignored. Current value: feature_fraction=0.9685934213098677\n",
      "[LightGBM] [Warning] bagging_fraction is set=0.3903813698251931, subsample=0.8 will be ignored. Current value: bagging_fraction=0.3903813698251931\n",
      "[LightGBM] [Warning] bagging_freq is set=7, subsample_freq=0 will be ignored. Current value: bagging_freq=7\n",
      "Training until validation scores don't improve for 100 rounds\n"
     ]
    },
    {
     "name": "stderr",
     "output_type": "stream",
     "text": [
      "\u001b[32m[I 2021-07-19 22:07:08,297]\u001b[0m Trial 37 finished with value: -2.400799759505814 and parameters: {'max_depth': 8, 'min_child_weight': 20, 'subsample': 0.8, 'colsample_bytree': 0.8, 'reg_lambda': 0.07818497213978419, 'reg_alpha': 802.4095697124426, 'feature_fraction': 0.9685934213098677, 'bagging_fraction': 0.3903813698251931, 'bagging_freq': 7, 'num_leaves': 694, 'min_child_samples': 35}. Best is trial 32 with value: -2.344320736370999.\u001b[0m\n"
     ]
    },
    {
     "name": "stdout",
     "output_type": "stream",
     "text": [
      "[100]\ttraining's l1: 2.18259\tvalid_1's l1: 2.4008\n",
      "Early stopping, best iteration is:\n",
      "[64]\ttraining's l1: 2.18259\tvalid_1's l1: 2.4008\n",
      "[LightGBM] [Warning] feature_fraction is set=0.868897522988496, colsample_bytree=0.9 will be ignored. Current value: feature_fraction=0.868897522988496\n",
      "[LightGBM] [Warning] bagging_fraction is set=0.660448630622002, subsample=0.9 will be ignored. Current value: bagging_fraction=0.660448630622002\n",
      "[LightGBM] [Warning] bagging_freq is set=4, subsample_freq=0 will be ignored. Current value: bagging_freq=4\n",
      "Training until validation scores don't improve for 100 rounds\n",
      "[100]\ttraining's l1: 1.95157\tvalid_1's l1: 2.39398\n"
     ]
    },
    {
     "name": "stderr",
     "output_type": "stream",
     "text": [
      "\u001b[32m[I 2021-07-19 22:07:10,321]\u001b[0m Trial 38 finished with value: -2.370567445143558 and parameters: {'max_depth': 6, 'min_child_weight': 17, 'subsample': 0.9, 'colsample_bytree': 0.9, 'reg_lambda': 0.026812527320999032, 'reg_alpha': 6.897840138715441, 'feature_fraction': 0.868897522988496, 'bagging_fraction': 0.660448630622002, 'bagging_freq': 4, 'num_leaves': 844, 'min_child_samples': 18}. Best is trial 32 with value: -2.344320736370999.\u001b[0m\n"
     ]
    },
    {
     "name": "stdout",
     "output_type": "stream",
     "text": [
      "Early stopping, best iteration is:\n",
      "[48]\ttraining's l1: 2.05844\tvalid_1's l1: 2.37067\n",
      "[LightGBM] [Warning] feature_fraction is set=0.5249986567342976, colsample_bytree=0.5 will be ignored. Current value: feature_fraction=0.5249986567342976\n",
      "[LightGBM] [Warning] bagging_fraction is set=0.45684318773662136, subsample=0.7 will be ignored. Current value: bagging_fraction=0.45684318773662136\n",
      "[LightGBM] [Warning] bagging_freq is set=2, subsample_freq=0 will be ignored. Current value: bagging_freq=2\n",
      "Training until validation scores don't improve for 100 rounds\n",
      "[100]\ttraining's l1: 1.70829\tvalid_1's l1: 2.37994\n"
     ]
    },
    {
     "name": "stderr",
     "output_type": "stream",
     "text": [
      "\u001b[32m[I 2021-07-19 22:07:14,098]\u001b[0m Trial 39 finished with value: -2.350580743796214 and parameters: {'max_depth': 13, 'min_child_weight': 11, 'subsample': 0.7, 'colsample_bytree': 0.5, 'reg_lambda': 0.005606755618183552, 'reg_alpha': 0.09932119256478683, 'feature_fraction': 0.5249986567342976, 'bagging_fraction': 0.45684318773662136, 'bagging_freq': 2, 'num_leaves': 347, 'min_child_samples': 47}. Best is trial 32 with value: -2.344320736370999.\u001b[0m\n"
     ]
    },
    {
     "name": "stdout",
     "output_type": "stream",
     "text": [
      "Early stopping, best iteration is:\n",
      "[57]\ttraining's l1: 1.79116\tvalid_1's l1: 2.35069\n",
      "[LightGBM] [Warning] feature_fraction is set=0.6432306097328618, colsample_bytree=0.5 will be ignored. Current value: feature_fraction=0.6432306097328618\n",
      "[LightGBM] [Warning] bagging_fraction is set=0.463957343089877, subsample=0.7 will be ignored. Current value: bagging_fraction=0.463957343089877\n",
      "[LightGBM] [Warning] bagging_freq is set=2, subsample_freq=0 will be ignored. Current value: bagging_freq=2\n",
      "Training until validation scores don't improve for 100 rounds\n",
      "[100]\ttraining's l1: 1.67962\tvalid_1's l1: 2.38757\n"
     ]
    },
    {
     "name": "stderr",
     "output_type": "stream",
     "text": [
      "\u001b[32m[I 2021-07-19 22:07:18,371]\u001b[0m Trial 40 finished with value: -2.362433598697444 and parameters: {'max_depth': 14, 'min_child_weight': 11, 'subsample': 0.7, 'colsample_bytree': 0.5, 'reg_lambda': 0.005215507076929576, 'reg_alpha': 0.08938958710041794, 'feature_fraction': 0.6432306097328618, 'bagging_fraction': 0.463957343089877, 'bagging_freq': 2, 'num_leaves': 355, 'min_child_samples': 27}. Best is trial 32 with value: -2.344320736370999.\u001b[0m\n"
     ]
    },
    {
     "name": "stdout",
     "output_type": "stream",
     "text": [
      "Early stopping, best iteration is:\n",
      "[37]\ttraining's l1: 1.84358\tvalid_1's l1: 2.3625\n",
      "[LightGBM] [Warning] feature_fraction is set=0.5248072539768449, colsample_bytree=0.5 will be ignored. Current value: feature_fraction=0.5248072539768449\n",
      "[LightGBM] [Warning] bagging_fraction is set=0.5194147108954149, subsample=0.7 will be ignored. Current value: bagging_fraction=0.5194147108954149\n",
      "[LightGBM] [Warning] bagging_freq is set=2, subsample_freq=0 will be ignored. Current value: bagging_freq=2\n",
      "Training until validation scores don't improve for 100 rounds\n",
      "[100]\ttraining's l1: 1.73719\tvalid_1's l1: 2.40323\n"
     ]
    },
    {
     "name": "stderr",
     "output_type": "stream",
     "text": [
      "\u001b[32m[I 2021-07-19 22:07:21,559]\u001b[0m Trial 41 finished with value: -2.3723679252717385 and parameters: {'max_depth': 12, 'min_child_weight': 11, 'subsample': 0.7, 'colsample_bytree': 0.5, 'reg_lambda': 0.0033864892622699544, 'reg_alpha': 0.0010429085989923114, 'feature_fraction': 0.5248072539768449, 'bagging_fraction': 0.5194147108954149, 'bagging_freq': 2, 'num_leaves': 299, 'min_child_samples': 46}. Best is trial 32 with value: -2.344320736370999.\u001b[0m\n"
     ]
    },
    {
     "name": "stdout",
     "output_type": "stream",
     "text": [
      "Early stopping, best iteration is:\n",
      "[35]\ttraining's l1: 1.91576\tvalid_1's l1: 2.37237\n",
      "[LightGBM] [Warning] feature_fraction is set=0.46580134075962987, colsample_bytree=0.5 will be ignored. Current value: feature_fraction=0.46580134075962987\n",
      "[LightGBM] [Warning] bagging_fraction is set=0.5924724658461468, subsample=0.8 will be ignored. Current value: bagging_fraction=0.5924724658461468\n",
      "[LightGBM] [Warning] bagging_freq is set=3, subsample_freq=0 will be ignored. Current value: bagging_freq=3\n",
      "Training until validation scores don't improve for 100 rounds\n",
      "[100]\ttraining's l1: 1.80899\tvalid_1's l1: 2.44513\n"
     ]
    },
    {
     "name": "stderr",
     "output_type": "stream",
     "text": [
      "\u001b[32m[I 2021-07-19 22:07:23,938]\u001b[0m Trial 42 finished with value: -2.384106331583991 and parameters: {'max_depth': 9, 'min_child_weight': 15, 'subsample': 0.8, 'colsample_bytree': 0.5, 'reg_lambda': 0.00777647610491638, 'reg_alpha': 0.004580280060841723, 'feature_fraction': 0.46580134075962987, 'bagging_fraction': 0.5924724658461468, 'bagging_freq': 3, 'num_leaves': 440, 'min_child_samples': 55}. Best is trial 32 with value: -2.344320736370999.\u001b[0m\n"
     ]
    },
    {
     "name": "stdout",
     "output_type": "stream",
     "text": [
      "Early stopping, best iteration is:\n",
      "[33]\ttraining's l1: 1.97818\tvalid_1's l1: 2.38411\n",
      "[LightGBM] [Warning] feature_fraction is set=0.41750866347929505, colsample_bytree=0.6 will be ignored. Current value: feature_fraction=0.41750866347929505\n",
      "[LightGBM] [Warning] bagging_fraction is set=0.2852381174074309, subsample=0.5 will be ignored. Current value: bagging_fraction=0.2852381174074309\n",
      "[LightGBM] [Warning] bagging_freq is set=6, subsample_freq=0 will be ignored. Current value: bagging_freq=6\n",
      "Training until validation scores don't improve for 100 rounds\n",
      "[100]\ttraining's l1: 1.86152\tvalid_1's l1: 2.39174\n"
     ]
    },
    {
     "name": "stderr",
     "output_type": "stream",
     "text": [
      "\u001b[32m[I 2021-07-19 22:07:25,871]\u001b[0m Trial 43 finished with value: -2.352612877241195 and parameters: {'max_depth': 10, 'min_child_weight': 9, 'subsample': 0.5, 'colsample_bytree': 0.6, 'reg_lambda': 0.20281026466186197, 'reg_alpha': 0.01402003288216463, 'feature_fraction': 0.41750866347929505, 'bagging_fraction': 0.2852381174074309, 'bagging_freq': 6, 'num_leaves': 241, 'min_child_samples': 59}. Best is trial 32 with value: -2.344320736370999.\u001b[0m\n"
     ]
    },
    {
     "name": "stdout",
     "output_type": "stream",
     "text": [
      "Early stopping, best iteration is:\n",
      "[42]\ttraining's l1: 1.97708\tvalid_1's l1: 2.35261\n",
      "[LightGBM] [Warning] feature_fraction is set=0.41347259138173176, colsample_bytree=0.6 will be ignored. Current value: feature_fraction=0.41347259138173176\n",
      "[LightGBM] [Warning] bagging_fraction is set=0.2750191064892628, subsample=0.5 will be ignored. Current value: bagging_fraction=0.2750191064892628\n",
      "[LightGBM] [Warning] bagging_freq is set=7, subsample_freq=0 will be ignored. Current value: bagging_freq=7\n",
      "Training until validation scores don't improve for 100 rounds\n",
      "[100]\ttraining's l1: 1.88041\tvalid_1's l1: 2.40292\n"
     ]
    },
    {
     "name": "stderr",
     "output_type": "stream",
     "text": [
      "\u001b[32m[I 2021-07-19 22:07:27,653]\u001b[0m Trial 44 finished with value: -2.369026170778859 and parameters: {'max_depth': 10, 'min_child_weight': 9, 'subsample': 0.5, 'colsample_bytree': 0.6, 'reg_lambda': 0.2505121624023738, 'reg_alpha': 0.023841742113189936, 'feature_fraction': 0.41347259138173176, 'bagging_fraction': 0.2750191064892628, 'bagging_freq': 7, 'num_leaves': 209, 'min_child_samples': 80}. Best is trial 32 with value: -2.344320736370999.\u001b[0m\n"
     ]
    },
    {
     "name": "stdout",
     "output_type": "stream",
     "text": [
      "Early stopping, best iteration is:\n",
      "[38]\ttraining's l1: 2.00621\tvalid_1's l1: 2.36903\n",
      "[LightGBM] [Warning] feature_fraction is set=0.36882070053817934, colsample_bytree=0.6 will be ignored. Current value: feature_fraction=0.36882070053817934\n",
      "[LightGBM] [Warning] bagging_fraction is set=0.26173365809609467, subsample=0.5 will be ignored. Current value: bagging_fraction=0.26173365809609467\n",
      "[LightGBM] [Warning] bagging_freq is set=6, subsample_freq=0 will be ignored. Current value: bagging_freq=6\n",
      "Training until validation scores don't improve for 100 rounds\n",
      "[100]\ttraining's l1: 1.93331\tvalid_1's l1: 2.37784\n"
     ]
    },
    {
     "name": "stderr",
     "output_type": "stream",
     "text": [
      "\u001b[32m[I 2021-07-19 22:07:29,183]\u001b[0m Trial 45 finished with value: -2.3577014810156856 and parameters: {'max_depth': 8, 'min_child_weight': 7, 'subsample': 0.5, 'colsample_bytree': 0.6, 'reg_lambda': 0.0010143739850017469, 'reg_alpha': 0.31821018490552927, 'feature_fraction': 0.36882070053817934, 'bagging_fraction': 0.26173365809609467, 'bagging_freq': 6, 'num_leaves': 375, 'min_child_samples': 66}. Best is trial 32 with value: -2.344320736370999.\u001b[0m\n"
     ]
    },
    {
     "name": "stdout",
     "output_type": "stream",
     "text": [
      "Early stopping, best iteration is:\n",
      "[42]\ttraining's l1: 2.03471\tvalid_1's l1: 2.3577\n",
      "[LightGBM] [Warning] feature_fraction is set=0.26504002180253117, colsample_bytree=0.5 will be ignored. Current value: feature_fraction=0.26504002180253117\n",
      "[LightGBM] [Warning] bagging_fraction is set=0.3371362864602831, subsample=0.6 will be ignored. Current value: bagging_fraction=0.3371362864602831\n",
      "[LightGBM] [Warning] bagging_freq is set=4, subsample_freq=0 will be ignored. Current value: bagging_freq=4\n",
      "Training until validation scores don't improve for 100 rounds\n",
      "[100]\ttraining's l1: 1.81899\tvalid_1's l1: 2.43477\n"
     ]
    },
    {
     "name": "stderr",
     "output_type": "stream",
     "text": [
      "\u001b[32m[I 2021-07-19 22:07:31,625]\u001b[0m Trial 46 finished with value: -2.3859467994613475 and parameters: {'max_depth': 14, 'min_child_weight': 8, 'subsample': 0.6, 'colsample_bytree': 0.5, 'reg_lambda': 0.11965614183062127, 'reg_alpha': 0.02211111005306562, 'feature_fraction': 0.26504002180253117, 'bagging_fraction': 0.3371362864602831, 'bagging_freq': 4, 'num_leaves': 264, 'min_child_samples': 57}. Best is trial 32 with value: -2.344320736370999.\u001b[0m\n"
     ]
    },
    {
     "name": "stdout",
     "output_type": "stream",
     "text": [
      "Early stopping, best iteration is:\n",
      "[48]\ttraining's l1: 1.92327\tvalid_1's l1: 2.38597\n",
      "[LightGBM] [Warning] feature_fraction is set=0.5484956226353684, colsample_bytree=0.6 will be ignored. Current value: feature_fraction=0.5484956226353684\n",
      "[LightGBM] [Warning] bagging_fraction is set=0.38121784991714, subsample=0.5 will be ignored. Current value: bagging_fraction=0.38121784991714\n",
      "[LightGBM] [Warning] bagging_freq is set=2, subsample_freq=0 will be ignored. Current value: bagging_freq=2\n",
      "Training until validation scores don't improve for 100 rounds\n",
      "[100]\ttraining's l1: 1.69604\tvalid_1's l1: 2.39542\n"
     ]
    },
    {
     "name": "stderr",
     "output_type": "stream",
     "text": [
      "\u001b[32m[I 2021-07-19 22:07:35,647]\u001b[0m Trial 47 finished with value: -2.3778887302761125 and parameters: {'max_depth': 19, 'min_child_weight': 10, 'subsample': 0.5, 'colsample_bytree': 0.6, 'reg_lambda': 0.7811164337705915, 'reg_alpha': 0.00749568320984735, 'feature_fraction': 0.5484956226353684, 'bagging_fraction': 0.38121784991714, 'bagging_freq': 2, 'num_leaves': 323, 'min_child_samples': 10}. Best is trial 32 with value: -2.344320736370999.\u001b[0m\n"
     ]
    },
    {
     "name": "stdout",
     "output_type": "stream",
     "text": [
      "Early stopping, best iteration is:\n",
      "[44]\ttraining's l1: 1.82505\tvalid_1's l1: 2.3779\n",
      "[LightGBM] [Warning] feature_fraction is set=0.5929924424734044, colsample_bytree=0.5 will be ignored. Current value: feature_fraction=0.5929924424734044\n",
      "[LightGBM] [Warning] bagging_fraction is set=0.20424172176182545, subsample=0.6 will be ignored. Current value: bagging_fraction=0.20424172176182545\n",
      "[LightGBM] [Warning] bagging_freq is set=1, subsample_freq=0 will be ignored. Current value: bagging_freq=1\n",
      "Training until validation scores don't improve for 100 rounds\n",
      "[100]\ttraining's l1: 2.08913\tvalid_1's l1: 2.33946\n"
     ]
    },
    {
     "name": "stderr",
     "output_type": "stream",
     "text": [
      "\u001b[32m[I 2021-07-19 22:07:37,288]\u001b[0m Trial 48 finished with value: -2.3366380015877066 and parameters: {'max_depth': 4, 'min_child_weight': 13, 'subsample': 0.6, 'colsample_bytree': 0.5, 'reg_lambda': 0.01098769471029974, 'reg_alpha': 0.0023445205608887353, 'feature_fraction': 0.5929924424734044, 'bagging_fraction': 0.20424172176182545, 'bagging_freq': 1, 'num_leaves': 482, 'min_child_samples': 36}. Best is trial 48 with value: -2.3366380015877066.\u001b[0m\n"
     ]
    },
    {
     "name": "stdout",
     "output_type": "stream",
     "text": [
      "[200]\ttraining's l1: 2.03138\tvalid_1's l1: 2.34603\n",
      "Early stopping, best iteration is:\n",
      "[105]\ttraining's l1: 2.08292\tvalid_1's l1: 2.33732\n",
      "[LightGBM] [Warning] feature_fraction is set=0.5802488649179959, colsample_bytree=0.5 will be ignored. Current value: feature_fraction=0.5802488649179959\n",
      "[LightGBM] [Warning] bagging_fraction is set=0.20797951277763516, subsample=0.6 will be ignored. Current value: bagging_fraction=0.20797951277763516\n",
      "[LightGBM] [Warning] bagging_freq is set=1, subsample_freq=0 will be ignored. Current value: bagging_freq=1\n",
      "Training until validation scores don't improve for 100 rounds\n",
      "[100]\ttraining's l1: 2.09155\tvalid_1's l1: 2.35217\n"
     ]
    },
    {
     "name": "stderr",
     "output_type": "stream",
     "text": [
      "\u001b[32m[I 2021-07-19 22:07:38,843]\u001b[0m Trial 49 finished with value: -2.3418671081619253 and parameters: {'max_depth': 4, 'min_child_weight': 13, 'subsample': 0.6, 'colsample_bytree': 0.5, 'reg_lambda': 0.00952183164293377, 'reg_alpha': 0.0025106353101298365, 'feature_fraction': 0.5802488649179959, 'bagging_fraction': 0.20797951277763516, 'bagging_freq': 1, 'num_leaves': 476, 'min_child_samples': 34}. Best is trial 48 with value: -2.3366380015877066.\u001b[0m\n"
     ]
    },
    {
     "name": "stdout",
     "output_type": "stream",
     "text": [
      "Early stopping, best iteration is:\n",
      "[88]\ttraining's l1: 2.10289\tvalid_1's l1: 2.34205\n",
      "[LightGBM] [Warning] feature_fraction is set=0.5939166626482131, colsample_bytree=0.5 will be ignored. Current value: feature_fraction=0.5939166626482131\n",
      "[LightGBM] [Warning] bagging_fraction is set=0.2068978263265436, subsample=0.6 will be ignored. Current value: bagging_fraction=0.2068978263265436\n",
      "[LightGBM] [Warning] bagging_freq is set=1, subsample_freq=0 will be ignored. Current value: bagging_freq=1\n",
      "Training until validation scores don't improve for 100 rounds\n",
      "[100]\ttraining's l1: 2.08608\tvalid_1's l1: 2.35508\n"
     ]
    },
    {
     "name": "stderr",
     "output_type": "stream",
     "text": [
      "\u001b[32m[I 2021-07-19 22:07:40,382]\u001b[0m Trial 50 finished with value: -2.344470270577679 and parameters: {'max_depth': 4, 'min_child_weight': 13, 'subsample': 0.6, 'colsample_bytree': 0.5, 'reg_lambda': 0.009967483711305073, 'reg_alpha': 0.00244549562032429, 'feature_fraction': 0.5939166626482131, 'bagging_fraction': 0.2068978263265436, 'bagging_freq': 1, 'num_leaves': 539, 'min_child_samples': 37}. Best is trial 48 with value: -2.3366380015877066.\u001b[0m\n"
     ]
    },
    {
     "name": "stdout",
     "output_type": "stream",
     "text": [
      "Early stopping, best iteration is:\n",
      "[85]\ttraining's l1: 2.1021\tvalid_1's l1: 2.34455\n",
      "[LightGBM] [Warning] feature_fraction is set=0.5946683719203005, colsample_bytree=0.5 will be ignored. Current value: feature_fraction=0.5946683719203005\n",
      "[LightGBM] [Warning] bagging_fraction is set=0.21207227530840206, subsample=0.6 will be ignored. Current value: bagging_fraction=0.21207227530840206\n",
      "[LightGBM] [Warning] bagging_freq is set=1, subsample_freq=0 will be ignored. Current value: bagging_freq=1\n",
      "Training until validation scores don't improve for 100 rounds\n",
      "[100]\ttraining's l1: 2.09045\tvalid_1's l1: 2.35018\n"
     ]
    },
    {
     "name": "stderr",
     "output_type": "stream",
     "text": [
      "\u001b[32m[I 2021-07-19 22:07:41,870]\u001b[0m Trial 51 finished with value: -2.346873959002409 and parameters: {'max_depth': 4, 'min_child_weight': 13, 'subsample': 0.6, 'colsample_bytree': 0.5, 'reg_lambda': 0.007948795318499994, 'reg_alpha': 0.0024191293958958546, 'feature_fraction': 0.5946683719203005, 'bagging_fraction': 0.21207227530840206, 'bagging_freq': 1, 'num_leaves': 558, 'min_child_samples': 37}. Best is trial 48 with value: -2.3366380015877066.\u001b[0m\n"
     ]
    },
    {
     "name": "stdout",
     "output_type": "stream",
     "text": [
      "Early stopping, best iteration is:\n",
      "[78]\ttraining's l1: 2.11286\tvalid_1's l1: 2.34706\n",
      "[LightGBM] [Warning] feature_fraction is set=0.5959202629343489, colsample_bytree=0.5 will be ignored. Current value: feature_fraction=0.5959202629343489\n",
      "[LightGBM] [Warning] bagging_fraction is set=0.2159206451094981, subsample=0.6 will be ignored. Current value: bagging_fraction=0.2159206451094981\n",
      "[LightGBM] [Warning] bagging_freq is set=1, subsample_freq=0 will be ignored. Current value: bagging_freq=1\n",
      "Training until validation scores don't improve for 100 rounds\n",
      "[100]\ttraining's l1: 2.08898\tvalid_1's l1: 2.34699\n"
     ]
    },
    {
     "name": "stderr",
     "output_type": "stream",
     "text": [
      "\u001b[32m[I 2021-07-19 22:07:43,348]\u001b[0m Trial 52 finished with value: -2.34392581675347 and parameters: {'max_depth': 4, 'min_child_weight': 13, 'subsample': 0.6, 'colsample_bytree': 0.5, 'reg_lambda': 0.010675004465367021, 'reg_alpha': 0.0021218518866354136, 'feature_fraction': 0.5959202629343489, 'bagging_fraction': 0.2159206451094981, 'bagging_freq': 1, 'num_leaves': 570, 'min_child_samples': 37}. Best is trial 48 with value: -2.3366380015877066.\u001b[0m\n"
     ]
    },
    {
     "name": "stdout",
     "output_type": "stream",
     "text": [
      "Early stopping, best iteration is:\n",
      "[75]\ttraining's l1: 2.11483\tvalid_1's l1: 2.34413\n",
      "[LightGBM] [Warning] feature_fraction is set=0.7316000365420393, colsample_bytree=0.5 will be ignored. Current value: feature_fraction=0.7316000365420393\n",
      "[LightGBM] [Warning] bagging_fraction is set=0.20014725473989953, subsample=0.6 will be ignored. Current value: bagging_fraction=0.20014725473989953\n",
      "[LightGBM] [Warning] bagging_freq is set=1, subsample_freq=0 will be ignored. Current value: bagging_freq=1\n",
      "Training until validation scores don't improve for 100 rounds\n",
      "[100]\ttraining's l1: 2.20855\tvalid_1's l1: 2.36263\n"
     ]
    },
    {
     "name": "stderr",
     "output_type": "stream",
     "text": [
      "\u001b[32m[I 2021-07-19 22:07:44,495]\u001b[0m Trial 53 finished with value: -2.360572301574251 and parameters: {'max_depth': 2, 'min_child_weight': 14, 'subsample': 0.6, 'colsample_bytree': 0.5, 'reg_lambda': 0.032554947634273496, 'reg_alpha': 0.0015285871043020783, 'feature_fraction': 0.7316000365420393, 'bagging_fraction': 0.20014725473989953, 'bagging_freq': 1, 'num_leaves': 494, 'min_child_samples': 31}. Best is trial 48 with value: -2.3366380015877066.\u001b[0m\n"
     ]
    },
    {
     "name": "stdout",
     "output_type": "stream",
     "text": [
      "Early stopping, best iteration is:\n",
      "[90]\ttraining's l1: 2.21375\tvalid_1's l1: 2.36061\n",
      "[LightGBM] [Warning] feature_fraction is set=0.6523957328081862, colsample_bytree=0.5 will be ignored. Current value: feature_fraction=0.6523957328081862\n",
      "[LightGBM] [Warning] bagging_fraction is set=0.24368360619114612, subsample=0.6 will be ignored. Current value: bagging_fraction=0.24368360619114612\n",
      "[LightGBM] [Warning] bagging_freq is set=3, subsample_freq=0 will be ignored. Current value: bagging_freq=3\n",
      "Training until validation scores don't improve for 100 rounds\n"
     ]
    },
    {
     "name": "stderr",
     "output_type": "stream",
     "text": [
      "\u001b[32m[I 2021-07-19 22:07:45,650]\u001b[0m Trial 54 finished with value: -2.3605924461285612 and parameters: {'max_depth': 4, 'min_child_weight': 12, 'subsample': 0.6, 'colsample_bytree': 0.5, 'reg_lambda': 0.012541131077253072, 'reg_alpha': 0.002589910229551786, 'feature_fraction': 0.6523957328081862, 'bagging_fraction': 0.24368360619114612, 'bagging_freq': 3, 'num_leaves': 669, 'min_child_samples': 37}. Best is trial 48 with value: -2.3366380015877066.\u001b[0m\n"
     ]
    },
    {
     "name": "stdout",
     "output_type": "stream",
     "text": [
      "[100]\ttraining's l1: 2.09575\tvalid_1's l1: 2.36381\n",
      "Early stopping, best iteration is:\n",
      "[51]\ttraining's l1: 2.15637\tvalid_1's l1: 2.36063\n",
      "[LightGBM] [Warning] feature_fraction is set=0.5969514950092523, colsample_bytree=0.5 will be ignored. Current value: feature_fraction=0.5969514950092523\n",
      "[LightGBM] [Warning] bagging_fraction is set=0.20712463508772067, subsample=0.6 will be ignored. Current value: bagging_fraction=0.20712463508772067\n",
      "[LightGBM] [Warning] bagging_freq is set=1, subsample_freq=0 will be ignored. Current value: bagging_freq=1\n",
      "Training until validation scores don't improve for 100 rounds\n",
      "[100]\ttraining's l1: 1.98084\tvalid_1's l1: 2.37474\n"
     ]
    },
    {
     "name": "stderr",
     "output_type": "stream",
     "text": [
      "\u001b[32m[I 2021-07-19 22:07:47,385]\u001b[0m Trial 55 finished with value: -2.3467604882205273 and parameters: {'max_depth': 6, 'min_child_weight': 13, 'subsample': 0.6, 'colsample_bytree': 0.5, 'reg_lambda': 0.0016145101609770002, 'reg_alpha': 0.0010002949494175093, 'feature_fraction': 0.5969514950092523, 'bagging_fraction': 0.20712463508772067, 'bagging_freq': 1, 'num_leaves': 726, 'min_child_samples': 33}. Best is trial 48 with value: -2.3366380015877066.\u001b[0m\n"
     ]
    },
    {
     "name": "stdout",
     "output_type": "stream",
     "text": [
      "Early stopping, best iteration is:\n",
      "[68]\ttraining's l1: 2.01957\tvalid_1's l1: 2.34698\n",
      "[LightGBM] [Warning] feature_fraction is set=0.6647640131572745, colsample_bytree=0.5 will be ignored. Current value: feature_fraction=0.6647640131572745\n",
      "[LightGBM] [Warning] bagging_fraction is set=0.23886603463829964, subsample=0.6 will be ignored. Current value: bagging_fraction=0.23886603463829964\n",
      "[LightGBM] [Warning] bagging_freq is set=1, subsample_freq=0 will be ignored. Current value: bagging_freq=1\n",
      "Training until validation scores don't improve for 100 rounds\n",
      "[100]\ttraining's l1: 2.21094\tvalid_1's l1: 2.36306\n"
     ]
    },
    {
     "name": "stderr",
     "output_type": "stream",
     "text": [
      "\u001b[32m[I 2021-07-19 22:07:49,017]\u001b[0m Trial 56 finished with value: -2.360038454619318 and parameters: {'max_depth': 2, 'min_child_weight': 16, 'subsample': 0.6, 'colsample_bytree': 0.5, 'reg_lambda': 0.025983023755048303, 'reg_alpha': 0.005248259947508757, 'feature_fraction': 0.6647640131572745, 'bagging_fraction': 0.23886603463829964, 'bagging_freq': 1, 'num_leaves': 628, 'min_child_samples': 39}. Best is trial 48 with value: -2.3366380015877066.\u001b[0m\n"
     ]
    },
    {
     "name": "stdout",
     "output_type": "stream",
     "text": [
      "[200]\ttraining's l1: 2.16335\tvalid_1's l1: 2.36568\n",
      "Early stopping, best iteration is:\n",
      "[114]\ttraining's l1: 2.2001\tvalid_1's l1: 2.36015\n",
      "[LightGBM] [Warning] feature_fraction is set=0.5676720830710428, colsample_bytree=0.5 will be ignored. Current value: feature_fraction=0.5676720830710428\n",
      "[LightGBM] [Warning] bagging_fraction is set=0.31548306992448005, subsample=0.6 will be ignored. Current value: bagging_fraction=0.31548306992448005\n",
      "[LightGBM] [Warning] bagging_freq is set=2, subsample_freq=0 will be ignored. Current value: bagging_freq=2\n",
      "Training until validation scores don't improve for 100 rounds\n",
      "[100]\ttraining's l1: 2.0914\tvalid_1's l1: 2.37819\n"
     ]
    },
    {
     "name": "stderr",
     "output_type": "stream",
     "text": [
      "\u001b[32m[I 2021-07-19 22:07:50,422]\u001b[0m Trial 57 finished with value: -2.36485934499467 and parameters: {'max_depth': 4, 'min_child_weight': 14, 'subsample': 0.6, 'colsample_bytree': 0.5, 'reg_lambda': 0.0031781794599896568, 'reg_alpha': 2.5538202122961007, 'feature_fraction': 0.5676720830710428, 'bagging_fraction': 0.31548306992448005, 'bagging_freq': 2, 'num_leaves': 483, 'min_child_samples': 44}. Best is trial 48 with value: -2.3366380015877066.\u001b[0m\n"
     ]
    },
    {
     "name": "stdout",
     "output_type": "stream",
     "text": [
      "Early stopping, best iteration is:\n",
      "[56]\ttraining's l1: 2.14127\tvalid_1's l1: 2.36498\n",
      "[LightGBM] [Warning] feature_fraction is set=0.6121571369349856, colsample_bytree=0.6 will be ignored. Current value: feature_fraction=0.6121571369349856\n",
      "[LightGBM] [Warning] bagging_fraction is set=0.200261635812516, subsample=0.6 will be ignored. Current value: bagging_fraction=0.200261635812516\n",
      "[LightGBM] [Warning] bagging_freq is set=3, subsample_freq=0 will be ignored. Current value: bagging_freq=3\n",
      "Training until validation scores don't improve for 100 rounds\n",
      "[100]\ttraining's l1: 2.14802\tvalid_1's l1: 2.35443\n"
     ]
    },
    {
     "name": "stderr",
     "output_type": "stream",
     "text": [
      "\u001b[32m[I 2021-07-19 22:07:51,620]\u001b[0m Trial 58 finished with value: -2.351683014291268 and parameters: {'max_depth': 3, 'min_child_weight': 15, 'subsample': 0.6, 'colsample_bytree': 0.6, 'reg_lambda': 0.0038506760182336138, 'reg_alpha': 0.0018849799873564398, 'feature_fraction': 0.6121571369349856, 'bagging_fraction': 0.200261635812516, 'bagging_freq': 3, 'num_leaves': 553, 'min_child_samples': 26}. Best is trial 48 with value: -2.3366380015877066.\u001b[0m\n"
     ]
    },
    {
     "name": "stdout",
     "output_type": "stream",
     "text": [
      "Early stopping, best iteration is:\n",
      "[82]\ttraining's l1: 2.16712\tvalid_1's l1: 2.35177\n",
      "[LightGBM] [Warning] feature_fraction is set=0.6995803279895477, colsample_bytree=0.5 will be ignored. Current value: feature_fraction=0.6995803279895477\n",
      "[LightGBM] [Warning] bagging_fraction is set=0.247245932051379, subsample=0.6 will be ignored. Current value: bagging_fraction=0.247245932051379\n",
      "[LightGBM] [Warning] bagging_freq is set=4, subsample_freq=0 will be ignored. Current value: bagging_freq=4\n",
      "Training until validation scores don't improve for 100 rounds\n"
     ]
    },
    {
     "name": "stderr",
     "output_type": "stream",
     "text": [
      "\u001b[32m[I 2021-07-19 22:07:52,758]\u001b[0m Trial 59 finished with value: -2.3591580598608592 and parameters: {'max_depth': 5, 'min_child_weight': 12, 'subsample': 0.6, 'colsample_bytree': 0.5, 'reg_lambda': 0.012463714828862134, 'reg_alpha': 0.0031270720794899514, 'feature_fraction': 0.6995803279895477, 'bagging_fraction': 0.247245932051379, 'bagging_freq': 4, 'num_leaves': 577, 'min_child_samples': 26}. Best is trial 48 with value: -2.3366380015877066.\u001b[0m\n"
     ]
    },
    {
     "name": "stdout",
     "output_type": "stream",
     "text": [
      "[100]\ttraining's l1: 2.03052\tvalid_1's l1: 2.38394\n",
      "Early stopping, best iteration is:\n",
      "[47]\ttraining's l1: 2.11233\tvalid_1's l1: 2.3592\n",
      "[LightGBM] [Warning] feature_fraction is set=0.8086980494954404, colsample_bytree=0.5 will be ignored. Current value: feature_fraction=0.8086980494954404\n",
      "[LightGBM] [Warning] bagging_fraction is set=0.21668062187895776, subsample=0.6 will be ignored. Current value: bagging_fraction=0.21668062187895776\n",
      "[LightGBM] [Warning] bagging_freq is set=2, subsample_freq=0 will be ignored. Current value: bagging_freq=2\n",
      "Training until validation scores don't improve for 100 rounds\n",
      "[100]\ttraining's l1: 1.98132\tvalid_1's l1: 2.41806\n"
     ]
    },
    {
     "name": "stderr",
     "output_type": "stream",
     "text": [
      "\u001b[32m[I 2021-07-19 22:07:54,057]\u001b[0m Trial 60 finished with value: -2.3557216935010885 and parameters: {'max_depth': 6, 'min_child_weight': 13, 'subsample': 0.6, 'colsample_bytree': 0.5, 'reg_lambda': 0.0014079491369306148, 'reg_alpha': 0.007171752158212933, 'feature_fraction': 0.8086980494954404, 'bagging_fraction': 0.21668062187895776, 'bagging_freq': 2, 'num_leaves': 830, 'min_child_samples': 30}. Best is trial 48 with value: -2.3366380015877066.\u001b[0m\n"
     ]
    },
    {
     "name": "stdout",
     "output_type": "stream",
     "text": [
      "Early stopping, best iteration is:\n",
      "[54]\ttraining's l1: 2.05234\tvalid_1's l1: 2.3559\n",
      "[LightGBM] [Warning] feature_fraction is set=0.5929918647433993, colsample_bytree=0.5 will be ignored. Current value: feature_fraction=0.5929918647433993\n",
      "[LightGBM] [Warning] bagging_fraction is set=0.2745107767858912, subsample=0.6 will be ignored. Current value: bagging_fraction=0.2745107767858912\n",
      "[LightGBM] [Warning] bagging_freq is set=1, subsample_freq=0 will be ignored. Current value: bagging_freq=1\n",
      "Training until validation scores don't improve for 100 rounds\n",
      "[100]\ttraining's l1: 1.96751\tvalid_1's l1: 2.40907\n"
     ]
    },
    {
     "name": "stderr",
     "output_type": "stream",
     "text": [
      "\u001b[32m[I 2021-07-19 22:07:55,760]\u001b[0m Trial 61 finished with value: -2.3569174898961913 and parameters: {'max_depth': 6, 'min_child_weight': 13, 'subsample': 0.6, 'colsample_bytree': 0.5, 'reg_lambda': 0.001463895769833885, 'reg_alpha': 0.0011526299505695543, 'feature_fraction': 0.5929918647433993, 'bagging_fraction': 0.2745107767858912, 'bagging_freq': 1, 'num_leaves': 726, 'min_child_samples': 33}. Best is trial 48 with value: -2.3366380015877066.\u001b[0m\n"
     ]
    },
    {
     "name": "stdout",
     "output_type": "stream",
     "text": [
      "Early stopping, best iteration is:\n",
      "[40]\ttraining's l1: 2.08141\tvalid_1's l1: 2.357\n",
      "[LightGBM] [Warning] feature_fraction is set=0.5421485335095372, colsample_bytree=0.5 will be ignored. Current value: feature_fraction=0.5421485335095372\n",
      "[LightGBM] [Warning] bagging_fraction is set=0.20386722523128487, subsample=0.6 will be ignored. Current value: bagging_fraction=0.20386722523128487\n",
      "[LightGBM] [Warning] bagging_freq is set=1, subsample_freq=0 will be ignored. Current value: bagging_freq=1\n",
      "Training until validation scores don't improve for 100 rounds\n",
      "[100]\ttraining's l1: 1.94769\tvalid_1's l1: 2.38842\n"
     ]
    },
    {
     "name": "stderr",
     "output_type": "stream",
     "text": [
      "\u001b[32m[I 2021-07-19 22:07:57,354]\u001b[0m Trial 62 finished with value: -2.3652419258040993 and parameters: {'max_depth': 7, 'min_child_weight': 14, 'subsample': 0.6, 'colsample_bytree': 0.5, 'reg_lambda': 0.007716146991594183, 'reg_alpha': 0.0014928777543213507, 'feature_fraction': 0.5421485335095372, 'bagging_fraction': 0.20386722523128487, 'bagging_freq': 1, 'num_leaves': 654, 'min_child_samples': 33}. Best is trial 48 with value: -2.3366380015877066.\u001b[0m\n"
     ]
    },
    {
     "name": "stdout",
     "output_type": "stream",
     "text": [
      "Early stopping, best iteration is:\n",
      "[42]\ttraining's l1: 2.04745\tvalid_1's l1: 2.36527\n",
      "[LightGBM] [Warning] feature_fraction is set=0.5910363967528357, colsample_bytree=0.5 will be ignored. Current value: feature_fraction=0.5910363967528357\n",
      "[LightGBM] [Warning] bagging_fraction is set=0.7244647566001963, subsample=0.6 will be ignored. Current value: bagging_fraction=0.7244647566001963\n",
      "[LightGBM] [Warning] bagging_freq is set=3, subsample_freq=0 will be ignored. Current value: bagging_freq=3\n",
      "Training until validation scores don't improve for 100 rounds\n",
      "[100]\ttraining's l1: 2.14251\tvalid_1's l1: 2.36224\n"
     ]
    },
    {
     "name": "stderr",
     "output_type": "stream",
     "text": [
      "\u001b[32m[I 2021-07-19 22:07:59,502]\u001b[0m Trial 63 finished with value: -2.3590682760220676 and parameters: {'max_depth': 3, 'min_child_weight': 12, 'subsample': 0.6, 'colsample_bytree': 0.5, 'reg_lambda': 0.0016553201554874901, 'reg_alpha': 0.003176921736766491, 'feature_fraction': 0.5910363967528357, 'bagging_fraction': 0.7244647566001963, 'bagging_freq': 3, 'num_leaves': 816, 'min_child_samples': 40}. Best is trial 48 with value: -2.3366380015877066.\u001b[0m\n"
     ]
    },
    {
     "name": "stdout",
     "output_type": "stream",
     "text": [
      "Early stopping, best iteration is:\n",
      "[79]\ttraining's l1: 2.16395\tvalid_1's l1: 2.35912\n",
      "[LightGBM] [Warning] feature_fraction is set=0.5054316776272217, colsample_bytree=0.5 will be ignored. Current value: feature_fraction=0.5054316776272217\n",
      "[LightGBM] [Warning] bagging_fraction is set=0.22414943013168753, subsample=0.6 will be ignored. Current value: bagging_fraction=0.22414943013168753\n",
      "[LightGBM] [Warning] bagging_freq is set=1, subsample_freq=0 will be ignored. Current value: bagging_freq=1\n",
      "Training until validation scores don't improve for 100 rounds\n",
      "[100]\ttraining's l1: 2.03593\tvalid_1's l1: 2.35127\n"
     ]
    },
    {
     "name": "stderr",
     "output_type": "stream",
     "text": [
      "\u001b[32m[I 2021-07-19 22:08:01,178]\u001b[0m Trial 64 finished with value: -2.3488549319256706 and parameters: {'max_depth': 5, 'min_child_weight': 15, 'subsample': 0.6, 'colsample_bytree': 0.5, 'reg_lambda': 0.0210105737008913, 'reg_alpha': 1.8236625154449213, 'feature_fraction': 0.5054316776272217, 'bagging_fraction': 0.22414943013168753, 'bagging_freq': 1, 'num_leaves': 521, 'min_child_samples': 37}. Best is trial 48 with value: -2.3366380015877066.\u001b[0m\n"
     ]
    },
    {
     "name": "stdout",
     "output_type": "stream",
     "text": [
      "[200]\ttraining's l1: 1.97724\tvalid_1's l1: 2.38242\n",
      "Early stopping, best iteration is:\n",
      "[103]\ttraining's l1: 2.03351\tvalid_1's l1: 2.349\n",
      "[LightGBM] [Warning] feature_fraction is set=0.6355701526420314, colsample_bytree=0.6 will be ignored. Current value: feature_fraction=0.6355701526420314\n",
      "[LightGBM] [Warning] bagging_fraction is set=0.6795728802038579, subsample=0.5 will be ignored. Current value: bagging_fraction=0.6795728802038579\n",
      "[LightGBM] [Warning] bagging_freq is set=2, subsample_freq=0 will be ignored. Current value: bagging_freq=2\n",
      "Training until validation scores don't improve for 100 rounds\n",
      "[100]\ttraining's l1: 2.28204\tvalid_1's l1: 2.40272\n",
      "[200]\ttraining's l1: 2.25027\tvalid_1's l1: 2.37555\n",
      "[300]\ttraining's l1: 2.23217\tvalid_1's l1: 2.36796\n"
     ]
    },
    {
     "name": "stderr",
     "output_type": "stream",
     "text": [
      "\u001b[32m[I 2021-07-19 22:08:04,404]\u001b[0m Trial 65 finished with value: -2.364738606947488 and parameters: {'max_depth': 1, 'min_child_weight': 14, 'subsample': 0.5, 'colsample_bytree': 0.6, 'reg_lambda': 0.03703968129912256, 'reg_alpha': 0.0010925202182590335, 'feature_fraction': 0.6355701526420314, 'bagging_fraction': 0.6795728802038579, 'bagging_freq': 2, 'num_leaves': 710, 'min_child_samples': 20}. Best is trial 48 with value: -2.3366380015877066.\u001b[0m\n"
     ]
    },
    {
     "name": "stdout",
     "output_type": "stream",
     "text": [
      "Early stopping, best iteration is:\n",
      "[271]\ttraining's l1: 2.23611\tvalid_1's l1: 2.36479\n",
      "[LightGBM] [Warning] feature_fraction is set=0.49307437023459255, colsample_bytree=0.5 will be ignored. Current value: feature_fraction=0.49307437023459255\n",
      "[LightGBM] [Warning] bagging_fraction is set=0.29723458291845245, subsample=0.6 will be ignored. Current value: bagging_fraction=0.29723458291845245\n",
      "[LightGBM] [Warning] bagging_freq is set=5, subsample_freq=0 will be ignored. Current value: bagging_freq=5\n",
      "Training until validation scores don't improve for 100 rounds\n",
      "[100]\ttraining's l1: 2.08742\tvalid_1's l1: 2.3824\n"
     ]
    },
    {
     "name": "stderr",
     "output_type": "stream",
     "text": [
      "\u001b[32m[I 2021-07-19 22:08:05,636]\u001b[0m Trial 66 finished with value: -2.352113538035992 and parameters: {'max_depth': 4, 'min_child_weight': 13, 'subsample': 0.6, 'colsample_bytree': 0.5, 'reg_lambda': 0.06491165761476075, 'reg_alpha': 0.4459562274624639, 'feature_fraction': 0.49307437023459255, 'bagging_fraction': 0.29723458291845245, 'bagging_freq': 5, 'num_leaves': 787, 'min_child_samples': 51}. Best is trial 48 with value: -2.3366380015877066.\u001b[0m\n"
     ]
    },
    {
     "name": "stdout",
     "output_type": "stream",
     "text": [
      "Early stopping, best iteration is:\n",
      "[64]\ttraining's l1: 2.12991\tvalid_1's l1: 2.3522\n",
      "[LightGBM] [Warning] feature_fraction is set=0.7072947911508454, colsample_bytree=0.6 will be ignored. Current value: feature_fraction=0.7072947911508454\n",
      "[LightGBM] [Warning] bagging_fraction is set=0.6334279848763205, subsample=0.6 will be ignored. Current value: bagging_fraction=0.6334279848763205\n",
      "[LightGBM] [Warning] bagging_freq is set=4, subsample_freq=0 will be ignored. Current value: bagging_freq=4\n",
      "Training until validation scores don't improve for 100 rounds\n",
      "[100]\ttraining's l1: 1.9481\tvalid_1's l1: 2.40786\n"
     ]
    },
    {
     "name": "stderr",
     "output_type": "stream",
     "text": [
      "\u001b[32m[I 2021-07-19 22:08:07,340]\u001b[0m Trial 67 finished with value: -2.3601768043315574 and parameters: {'max_depth': 6, 'min_child_weight': 11, 'subsample': 0.6, 'colsample_bytree': 0.6, 'reg_lambda': 0.0038866570067637783, 'reg_alpha': 0.0020805838272439244, 'feature_fraction': 0.7072947911508454, 'bagging_fraction': 0.6334279848763205, 'bagging_freq': 4, 'num_leaves': 881, 'min_child_samples': 44}. Best is trial 48 with value: -2.3366380015877066.\u001b[0m\n"
     ]
    },
    {
     "name": "stdout",
     "output_type": "stream",
     "text": [
      "Early stopping, best iteration is:\n",
      "[44]\ttraining's l1: 2.05256\tvalid_1's l1: 2.36022\n",
      "[LightGBM] [Warning] feature_fraction is set=0.5639642540502047, colsample_bytree=0.5 will be ignored. Current value: feature_fraction=0.5639642540502047\n",
      "[LightGBM] [Warning] bagging_fraction is set=0.34413611513419595, subsample=0.5 will be ignored. Current value: bagging_fraction=0.34413611513419595\n",
      "[LightGBM] [Warning] bagging_freq is set=2, subsample_freq=0 will be ignored. Current value: bagging_freq=2\n",
      "Training until validation scores don't improve for 100 rounds\n",
      "[100]\ttraining's l1: 2.20866\tvalid_1's l1: 2.36789\n"
     ]
    },
    {
     "name": "stderr",
     "output_type": "stream",
     "text": [
      "\u001b[32m[I 2021-07-19 22:08:08,883]\u001b[0m Trial 68 finished with value: -2.362690981527297 and parameters: {'max_depth': 2, 'min_child_weight': 13, 'subsample': 0.5, 'colsample_bytree': 0.5, 'reg_lambda': 0.008950786438615417, 'reg_alpha': 0.005089896606805722, 'feature_fraction': 0.5639642540502047, 'bagging_fraction': 0.34413611513419595, 'bagging_freq': 2, 'num_leaves': 462, 'min_child_samples': 23}. Best is trial 48 with value: -2.3366380015877066.\u001b[0m\n"
     ]
    },
    {
     "name": "stdout",
     "output_type": "stream",
     "text": [
      "[200]\ttraining's l1: 2.1612\tvalid_1's l1: 2.36878\n",
      "Early stopping, best iteration is:\n",
      "[109]\ttraining's l1: 2.20336\tvalid_1's l1: 2.36274\n",
      "[LightGBM] [Warning] feature_fraction is set=0.6652245540014201, colsample_bytree=0.5 will be ignored. Current value: feature_fraction=0.6652245540014201\n",
      "[LightGBM] [Warning] bagging_fraction is set=0.25824582121101686, subsample=0.6 will be ignored. Current value: bagging_fraction=0.25824582121101686\n",
      "[LightGBM] [Warning] bagging_freq is set=9, subsample_freq=0 will be ignored. Current value: bagging_freq=9\n",
      "Training until validation scores don't improve for 100 rounds\n"
     ]
    },
    {
     "name": "stderr",
     "output_type": "stream",
     "text": [
      "\u001b[32m[I 2021-07-19 22:08:10,004]\u001b[0m Trial 69 finished with value: -2.358488596265414 and parameters: {'max_depth': 4, 'min_child_weight': 16, 'subsample': 0.6, 'colsample_bytree': 0.5, 'reg_lambda': 0.0024302504727415557, 'reg_alpha': 0.015139661490030565, 'feature_fraction': 0.6652245540014201, 'bagging_fraction': 0.25824582121101686, 'bagging_freq': 9, 'num_leaves': 621, 'min_child_samples': 28}. Best is trial 48 with value: -2.3366380015877066.\u001b[0m\n"
     ]
    },
    {
     "name": "stdout",
     "output_type": "stream",
     "text": [
      "[100]\ttraining's l1: 2.08769\tvalid_1's l1: 2.37348\n",
      "Early stopping, best iteration is:\n",
      "[53]\ttraining's l1: 2.14443\tvalid_1's l1: 2.35856\n",
      "[LightGBM] [Warning] feature_fraction is set=0.6259987486029742, colsample_bytree=0.6 will be ignored. Current value: feature_fraction=0.6259987486029742\n",
      "[LightGBM] [Warning] bagging_fraction is set=0.7970960684187312, subsample=0.7 will be ignored. Current value: bagging_fraction=0.7970960684187312\n",
      "[LightGBM] [Warning] bagging_freq is set=3, subsample_freq=0 will be ignored. Current value: bagging_freq=3\n",
      "Training until validation scores don't improve for 100 rounds\n",
      "[100]\ttraining's l1: 2.14392\tvalid_1's l1: 2.36192\n"
     ]
    },
    {
     "name": "stderr",
     "output_type": "stream",
     "text": [
      "\u001b[32m[I 2021-07-19 22:08:12,105]\u001b[0m Trial 70 finished with value: -2.359177080302388 and parameters: {'max_depth': 3, 'min_child_weight': 10, 'subsample': 0.7, 'colsample_bytree': 0.6, 'reg_lambda': 0.014858471230239392, 'reg_alpha': 3.9033512532722634, 'feature_fraction': 0.6259987486029742, 'bagging_fraction': 0.7970960684187312, 'bagging_freq': 3, 'num_leaves': 399, 'min_child_samples': 35}. Best is trial 48 with value: -2.3366380015877066.\u001b[0m\n"
     ]
    },
    {
     "name": "stdout",
     "output_type": "stream",
     "text": [
      "Early stopping, best iteration is:\n",
      "[86]\ttraining's l1: 2.15506\tvalid_1's l1: 2.35921\n",
      "[LightGBM] [Warning] feature_fraction is set=0.5881479656548112, colsample_bytree=0.5 will be ignored. Current value: feature_fraction=0.5881479656548112\n",
      "[LightGBM] [Warning] bagging_fraction is set=0.20131111487885828, subsample=0.6 will be ignored. Current value: bagging_fraction=0.20131111487885828\n",
      "[LightGBM] [Warning] bagging_freq is set=1, subsample_freq=0 will be ignored. Current value: bagging_freq=1\n",
      "Training until validation scores don't improve for 100 rounds\n",
      "[100]\ttraining's l1: 2.03509\tvalid_1's l1: 2.36982\n"
     ]
    },
    {
     "name": "stderr",
     "output_type": "stream",
     "text": [
      "\u001b[32m[I 2021-07-19 22:08:13,561]\u001b[0m Trial 71 finished with value: -2.357958810576502 and parameters: {'max_depth': 5, 'min_child_weight': 12, 'subsample': 0.6, 'colsample_bytree': 0.5, 'reg_lambda': 0.0062419144114136595, 'reg_alpha': 0.0023455178130004947, 'feature_fraction': 0.5881479656548112, 'bagging_fraction': 0.20131111487885828, 'bagging_freq': 1, 'num_leaves': 565, 'min_child_samples': 37}. Best is trial 48 with value: -2.3366380015877066.\u001b[0m\n"
     ]
    },
    {
     "name": "stdout",
     "output_type": "stream",
     "text": [
      "Early stopping, best iteration is:\n",
      "[55]\ttraining's l1: 2.09983\tvalid_1's l1: 2.35809\n",
      "[LightGBM] [Warning] feature_fraction is set=0.6055122994312891, colsample_bytree=0.5 will be ignored. Current value: feature_fraction=0.6055122994312891\n",
      "[LightGBM] [Warning] bagging_fraction is set=0.2223526496836001, subsample=0.6 will be ignored. Current value: bagging_fraction=0.2223526496836001\n",
      "[LightGBM] [Warning] bagging_freq is set=1, subsample_freq=0 will be ignored. Current value: bagging_freq=1\n",
      "Training until validation scores don't improve for 100 rounds\n",
      "[100]\ttraining's l1: 2.08713\tvalid_1's l1: 2.34206\n"
     ]
    },
    {
     "name": "stderr",
     "output_type": "stream",
     "text": [
      "\u001b[32m[I 2021-07-19 22:08:15,110]\u001b[0m Trial 72 finished with value: -2.338260958060571 and parameters: {'max_depth': 4, 'min_child_weight': 14, 'subsample': 0.6, 'colsample_bytree': 0.5, 'reg_lambda': 0.010379037113587307, 'reg_alpha': 0.0034550165303017396, 'feature_fraction': 0.6055122994312891, 'bagging_fraction': 0.2223526496836001, 'bagging_freq': 1, 'num_leaves': 516, 'min_child_samples': 32}. Best is trial 48 with value: -2.3366380015877066.\u001b[0m\n"
     ]
    },
    {
     "name": "stdout",
     "output_type": "stream",
     "text": [
      "Early stopping, best iteration is:\n",
      "[76]\ttraining's l1: 2.11008\tvalid_1's l1: 2.33839\n",
      "[LightGBM] [Warning] feature_fraction is set=0.6115422037636725, colsample_bytree=0.5 will be ignored. Current value: feature_fraction=0.6115422037636725\n",
      "[LightGBM] [Warning] bagging_fraction is set=0.22496759724659066, subsample=0.6 will be ignored. Current value: bagging_fraction=0.22496759724659066\n",
      "[LightGBM] [Warning] bagging_freq is set=1, subsample_freq=0 will be ignored. Current value: bagging_freq=1\n",
      "Training until validation scores don't improve for 100 rounds\n",
      "[100]\ttraining's l1: 1.91801\tvalid_1's l1: 2.38634\n"
     ]
    },
    {
     "name": "stderr",
     "output_type": "stream",
     "text": [
      "\u001b[32m[I 2021-07-19 22:08:17,016]\u001b[0m Trial 73 finished with value: -2.3655752295486807 and parameters: {'max_depth': 7, 'min_child_weight': 15, 'subsample': 0.6, 'colsample_bytree': 0.5, 'reg_lambda': 0.012056352279180428, 'reg_alpha': 0.0010275532711644289, 'feature_fraction': 0.6115422037636725, 'bagging_fraction': 0.22496759724659066, 'bagging_freq': 1, 'num_leaves': 529, 'min_child_samples': 14}. Best is trial 48 with value: -2.3366380015877066.\u001b[0m\n"
     ]
    },
    {
     "name": "stdout",
     "output_type": "stream",
     "text": [
      "Early stopping, best iteration is:\n",
      "[54]\ttraining's l1: 1.98729\tvalid_1's l1: 2.36564\n",
      "[LightGBM] [Warning] feature_fraction is set=0.5342883501572846, colsample_bytree=0.5 will be ignored. Current value: feature_fraction=0.5342883501572846\n",
      "[LightGBM] [Warning] bagging_fraction is set=0.2556316491822212, subsample=0.6 will be ignored. Current value: bagging_fraction=0.2556316491822212\n",
      "[LightGBM] [Warning] bagging_freq is set=2, subsample_freq=0 will be ignored. Current value: bagging_freq=2\n",
      "Training until validation scores don't improve for 100 rounds\n",
      "[100]\ttraining's l1: 2.09668\tvalid_1's l1: 2.37066\n"
     ]
    },
    {
     "name": "stderr",
     "output_type": "stream",
     "text": [
      "\u001b[32m[I 2021-07-19 22:08:18,299]\u001b[0m Trial 74 finished with value: -2.3529344744031637 and parameters: {'max_depth': 4, 'min_child_weight': 14, 'subsample': 0.6, 'colsample_bytree': 0.5, 'reg_lambda': 0.02268352442008155, 'reg_alpha': 0.003618321940126356, 'feature_fraction': 0.5342883501572846, 'bagging_fraction': 0.2556316491822212, 'bagging_freq': 2, 'num_leaves': 768, 'min_child_samples': 33}. Best is trial 48 with value: -2.3366380015877066.\u001b[0m\n"
     ]
    },
    {
     "name": "stdout",
     "output_type": "stream",
     "text": [
      "Early stopping, best iteration is:\n",
      "[54]\ttraining's l1: 2.15371\tvalid_1's l1: 2.35299\n",
      "[LightGBM] [Warning] feature_fraction is set=0.5681043901165636, colsample_bytree=0.5 will be ignored. Current value: feature_fraction=0.5681043901165636\n",
      "[LightGBM] [Warning] bagging_fraction is set=0.2321315730383771, subsample=0.6 will be ignored. Current value: bagging_fraction=0.2321315730383771\n",
      "[LightGBM] [Warning] bagging_freq is set=3, subsample_freq=0 will be ignored. Current value: bagging_freq=3\n",
      "Training until validation scores don't improve for 100 rounds\n",
      "[100]\ttraining's l1: 2.04145\tvalid_1's l1: 2.38067\n",
      "Early stopping, best iteration is:\n",
      "[44]\ttraining's l1: 2.12041\tvalid_1's l1: 2.36133\n"
     ]
    },
    {
     "name": "stderr",
     "output_type": "stream",
     "text": [
      "\u001b[32m[I 2021-07-19 22:08:19,627]\u001b[0m Trial 75 finished with value: -2.36129475240781 and parameters: {'max_depth': 5, 'min_child_weight': 1, 'subsample': 0.6, 'colsample_bytree': 0.5, 'reg_lambda': 0.004289526631068599, 'reg_alpha': 0.0014518980185571067, 'feature_fraction': 0.5681043901165636, 'bagging_fraction': 0.2321315730383771, 'bagging_freq': 3, 'num_leaves': 467, 'min_child_samples': 30}. Best is trial 48 with value: -2.3366380015877066.\u001b[0m\n"
     ]
    },
    {
     "name": "stdout",
     "output_type": "stream",
     "text": [
      "[LightGBM] [Warning] feature_fraction is set=0.4923360663070974, colsample_bytree=0.5 will be ignored. Current value: feature_fraction=0.4923360663070974\n",
      "[LightGBM] [Warning] bagging_fraction is set=0.31868997443575864, subsample=0.6 will be ignored. Current value: bagging_fraction=0.31868997443575864\n",
      "[LightGBM] [Warning] bagging_freq is set=1, subsample_freq=0 will be ignored. Current value: bagging_freq=1\n",
      "Training until validation scores don't improve for 100 rounds\n",
      "[100]\ttraining's l1: 1.97871\tvalid_1's l1: 2.39444\n"
     ]
    },
    {
     "name": "stderr",
     "output_type": "stream",
     "text": [
      "\u001b[32m[I 2021-07-19 22:08:21,356]\u001b[0m Trial 76 finished with value: -2.358577338123214 and parameters: {'max_depth': 6, 'min_child_weight': 14, 'subsample': 0.6, 'colsample_bytree': 0.5, 'reg_lambda': 0.0028382929830526706, 'reg_alpha': 0.007612361531370449, 'feature_fraction': 0.4923360663070974, 'bagging_fraction': 0.31868997443575864, 'bagging_freq': 1, 'num_leaves': 431, 'min_child_samples': 43}. Best is trial 48 with value: -2.3366380015877066.\u001b[0m\n"
     ]
    },
    {
     "name": "stdout",
     "output_type": "stream",
     "text": [
      "Early stopping, best iteration is:\n",
      "[57]\ttraining's l1: 2.04256\tvalid_1's l1: 2.35875\n",
      "[LightGBM] [Warning] feature_fraction is set=0.4533027217262442, colsample_bytree=0.8 will be ignored. Current value: feature_fraction=0.4533027217262442\n",
      "[LightGBM] [Warning] bagging_fraction is set=0.2929474030362147, subsample=0.7 will be ignored. Current value: bagging_fraction=0.2929474030362147\n",
      "[LightGBM] [Warning] bagging_freq is set=5, subsample_freq=0 will be ignored. Current value: bagging_freq=5\n",
      "Training until validation scores don't improve for 100 rounds\n",
      "[100]\ttraining's l1: 2.14813\tvalid_1's l1: 2.35697\n"
     ]
    },
    {
     "name": "stderr",
     "output_type": "stream",
     "text": [
      "\u001b[32m[I 2021-07-19 22:08:22,679]\u001b[0m Trial 77 finished with value: -2.354379293145443 and parameters: {'max_depth': 3, 'min_child_weight': 16, 'subsample': 0.7, 'colsample_bytree': 0.8, 'reg_lambda': 0.05011579474288142, 'reg_alpha': 0.005068201241343832, 'feature_fraction': 0.4533027217262442, 'bagging_fraction': 0.2929474030362147, 'bagging_freq': 5, 'num_leaves': 925, 'min_child_samples': 25}. Best is trial 48 with value: -2.3366380015877066.\u001b[0m\n"
     ]
    },
    {
     "name": "stdout",
     "output_type": "stream",
     "text": [
      "[200]\ttraining's l1: 2.09598\tvalid_1's l1: 2.36709\n",
      "Early stopping, best iteration is:\n",
      "[107]\ttraining's l1: 2.14481\tvalid_1's l1: 2.35452\n",
      "[LightGBM] [Warning] feature_fraction is set=0.6485705942101625, colsample_bytree=0.5 will be ignored. Current value: feature_fraction=0.6485705942101625\n",
      "[LightGBM] [Warning] bagging_fraction is set=0.20015143173638522, subsample=0.9 will be ignored. Current value: bagging_fraction=0.20015143173638522\n",
      "[LightGBM] [Warning] bagging_freq is set=2, subsample_freq=0 will be ignored. Current value: bagging_freq=2\n",
      "Training until validation scores don't improve for 100 rounds\n",
      "[100]\ttraining's l1: 1.94553\tvalid_1's l1: 2.35373\n"
     ]
    },
    {
     "name": "stderr",
     "output_type": "stream",
     "text": [
      "\u001b[32m[I 2021-07-19 22:08:24,410]\u001b[0m Trial 78 finished with value: -2.345815033881977 and parameters: {'max_depth': 7, 'min_child_weight': 17, 'subsample': 0.9, 'colsample_bytree': 0.5, 'reg_lambda': 0.0010534781849523421, 'reg_alpha': 0.0017763454889089796, 'feature_fraction': 0.6485705942101625, 'bagging_fraction': 0.20015143173638522, 'bagging_freq': 2, 'num_leaves': 500, 'min_child_samples': 46}. Best is trial 48 with value: -2.3366380015877066.\u001b[0m\n"
     ]
    },
    {
     "name": "stdout",
     "output_type": "stream",
     "text": [
      "Early stopping, best iteration is:\n",
      "[75]\ttraining's l1: 1.96581\tvalid_1's l1: 2.34608\n",
      "[LightGBM] [Warning] feature_fraction is set=0.6580340627276096, colsample_bytree=0.5 will be ignored. Current value: feature_fraction=0.6580340627276096\n",
      "[LightGBM] [Warning] bagging_fraction is set=0.2727996427262478, subsample=0.9 will be ignored. Current value: bagging_fraction=0.2727996427262478\n",
      "[LightGBM] [Warning] bagging_freq is set=3, subsample_freq=0 will be ignored. Current value: bagging_freq=3\n",
      "Training until validation scores don't improve for 100 rounds\n",
      "[100]\ttraining's l1: 2.03396\tvalid_1's l1: 2.39337\n"
     ]
    },
    {
     "name": "stderr",
     "output_type": "stream",
     "text": [
      "\u001b[32m[I 2021-07-19 22:08:25,794]\u001b[0m Trial 79 finished with value: -2.3738208766297344 and parameters: {'max_depth': 5, 'min_child_weight': 19, 'subsample': 0.9, 'colsample_bytree': 0.5, 'reg_lambda': 0.010144706412423444, 'reg_alpha': 0.003721279216175988, 'feature_fraction': 0.6580340627276096, 'bagging_fraction': 0.2727996427262478, 'bagging_freq': 3, 'num_leaves': 495, 'min_child_samples': 48}. Best is trial 48 with value: -2.3366380015877066.\u001b[0m\n"
     ]
    },
    {
     "name": "stdout",
     "output_type": "stream",
     "text": [
      "Early stopping, best iteration is:\n",
      "[57]\ttraining's l1: 2.08614\tvalid_1's l1: 2.37404\n",
      "[LightGBM] [Warning] feature_fraction is set=0.7285998871242252, colsample_bytree=0.6 will be ignored. Current value: feature_fraction=0.7285998871242252\n",
      "[LightGBM] [Warning] bagging_fraction is set=0.6024576323460853, subsample=0.9 will be ignored. Current value: bagging_fraction=0.6024576323460853\n",
      "[LightGBM] [Warning] bagging_freq is set=4, subsample_freq=0 will be ignored. Current value: bagging_freq=4\n",
      "Training until validation scores don't improve for 100 rounds\n",
      "[100]\ttraining's l1: 1.83304\tvalid_1's l1: 2.44825\n"
     ]
    },
    {
     "name": "stderr",
     "output_type": "stream",
     "text": [
      "\u001b[32m[I 2021-07-19 22:08:27,933]\u001b[0m Trial 80 finished with value: -2.3593564733582273 and parameters: {'max_depth': 8, 'min_child_weight': 17, 'subsample': 0.9, 'colsample_bytree': 0.6, 'reg_lambda': 0.08462497786177306, 'reg_alpha': 0.011090625098962466, 'feature_fraction': 0.7285998871242252, 'bagging_fraction': 0.6024576323460853, 'bagging_freq': 4, 'num_leaves': 592, 'min_child_samples': 42}. Best is trial 48 with value: -2.3366380015877066.\u001b[0m\n"
     ]
    },
    {
     "name": "stdout",
     "output_type": "stream",
     "text": [
      "Early stopping, best iteration is:\n",
      "[44]\ttraining's l1: 1.94961\tvalid_1's l1: 2.35941\n",
      "[LightGBM] [Warning] feature_fraction is set=0.6344265007096782, colsample_bytree=0.5 will be ignored. Current value: feature_fraction=0.6344265007096782\n",
      "[LightGBM] [Warning] bagging_fraction is set=0.22121391035126312, subsample=0.9 will be ignored. Current value: bagging_fraction=0.22121391035126312\n",
      "[LightGBM] [Warning] bagging_freq is set=2, subsample_freq=0 will be ignored. Current value: bagging_freq=2\n",
      "Training until validation scores don't improve for 100 rounds\n",
      "[100]\ttraining's l1: 1.93182\tvalid_1's l1: 2.39649\n"
     ]
    },
    {
     "name": "stderr",
     "output_type": "stream",
     "text": [
      "\u001b[32m[I 2021-07-19 22:08:29,620]\u001b[0m Trial 81 finished with value: -2.3604920931967137 and parameters: {'max_depth': 7, 'min_child_weight': 15, 'subsample': 0.9, 'colsample_bytree': 0.5, 'reg_lambda': 0.0010107771844914209, 'reg_alpha': 0.0017608909416257786, 'feature_fraction': 0.6344265007096782, 'bagging_fraction': 0.22121391035126312, 'bagging_freq': 2, 'num_leaves': 429, 'min_child_samples': 39}. Best is trial 48 with value: -2.3366380015877066.\u001b[0m\n"
     ]
    },
    {
     "name": "stdout",
     "output_type": "stream",
     "text": [
      "Early stopping, best iteration is:\n",
      "[58]\ttraining's l1: 1.99163\tvalid_1's l1: 2.36059\n",
      "[LightGBM] [Warning] feature_fraction is set=0.54589014486615, colsample_bytree=0.5 will be ignored. Current value: feature_fraction=0.54589014486615\n",
      "[LightGBM] [Warning] bagging_fraction is set=0.20098674506529826, subsample=0.9 will be ignored. Current value: bagging_fraction=0.20098674506529826\n",
      "[LightGBM] [Warning] bagging_freq is set=1, subsample_freq=0 will be ignored. Current value: bagging_freq=1\n",
      "Training until validation scores don't improve for 100 rounds\n",
      "[100]\ttraining's l1: 1.9916\tvalid_1's l1: 2.36071\n"
     ]
    },
    {
     "name": "stderr",
     "output_type": "stream",
     "text": [
      "\u001b[32m[I 2021-07-19 22:08:31,297]\u001b[0m Trial 82 finished with value: -2.3541689125605507 and parameters: {'max_depth': 6, 'min_child_weight': 12, 'subsample': 0.9, 'colsample_bytree': 0.5, 'reg_lambda': 0.0016842752819831153, 'reg_alpha': 0.031114099253302288, 'feature_fraction': 0.54589014486615, 'bagging_fraction': 0.20098674506529826, 'bagging_freq': 1, 'num_leaves': 648, 'min_child_samples': 45}. Best is trial 48 with value: -2.3366380015877066.\u001b[0m\n"
     ]
    },
    {
     "name": "stdout",
     "output_type": "stream",
     "text": [
      "Early stopping, best iteration is:\n",
      "[82]\ttraining's l1: 2.00698\tvalid_1's l1: 2.35447\n",
      "[LightGBM] [Warning] feature_fraction is set=0.6129140735421048, colsample_bytree=0.5 will be ignored. Current value: feature_fraction=0.6129140735421048\n",
      "[LightGBM] [Warning] bagging_fraction is set=0.2413070753221071, subsample=0.9 will be ignored. Current value: bagging_fraction=0.2413070753221071\n",
      "[LightGBM] [Warning] bagging_freq is set=2, subsample_freq=0 will be ignored. Current value: bagging_freq=2\n",
      "Training until validation scores don't improve for 100 rounds\n",
      "[100]\ttraining's l1: 2.0377\tvalid_1's l1: 2.40497\n"
     ]
    },
    {
     "name": "stderr",
     "output_type": "stream",
     "text": [
      "\u001b[32m[I 2021-07-19 22:08:32,701]\u001b[0m Trial 83 finished with value: -2.3549040261234815 and parameters: {'max_depth': 5, 'min_child_weight': 19, 'subsample': 0.9, 'colsample_bytree': 0.5, 'reg_lambda': 0.004949457247422353, 'reg_alpha': 0.002591335777624747, 'feature_fraction': 0.6129140735421048, 'bagging_fraction': 0.2413070753221071, 'bagging_freq': 2, 'num_leaves': 516, 'min_child_samples': 35}. Best is trial 48 with value: -2.3366380015877066.\u001b[0m\n"
     ]
    },
    {
     "name": "stdout",
     "output_type": "stream",
     "text": [
      "Early stopping, best iteration is:\n",
      "[51]\ttraining's l1: 2.10583\tvalid_1's l1: 2.35495\n",
      "[LightGBM] [Warning] feature_fraction is set=0.5763874402907876, colsample_bytree=0.5 will be ignored. Current value: feature_fraction=0.5763874402907876\n",
      "[LightGBM] [Warning] bagging_fraction is set=0.2024371949717186, subsample=0.8 will be ignored. Current value: bagging_fraction=0.2024371949717186\n",
      "[LightGBM] [Warning] bagging_freq is set=1, subsample_freq=0 will be ignored. Current value: bagging_freq=1\n",
      "Training until validation scores don't improve for 100 rounds\n",
      "[100]\ttraining's l1: 2.08527\tvalid_1's l1: 2.35463\n"
     ]
    },
    {
     "name": "stderr",
     "output_type": "stream",
     "text": [
      "\u001b[32m[I 2021-07-19 22:08:34,161]\u001b[0m Trial 84 finished with value: -2.3510744291489143 and parameters: {'max_depth': 4, 'min_child_weight': 13, 'subsample': 0.8, 'colsample_bytree': 0.5, 'reg_lambda': 0.01839326596359945, 'reg_alpha': 0.001113104443080274, 'feature_fraction': 0.5763874402907876, 'bagging_fraction': 0.2024371949717186, 'bagging_freq': 1, 'num_leaves': 542, 'min_child_samples': 31}. Best is trial 48 with value: -2.3366380015877066.\u001b[0m\n"
     ]
    },
    {
     "name": "stdout",
     "output_type": "stream",
     "text": [
      "Early stopping, best iteration is:\n",
      "[85]\ttraining's l1: 2.09937\tvalid_1's l1: 2.3518\n",
      "[LightGBM] [Warning] feature_fraction is set=0.6832759872412818, colsample_bytree=0.5 will be ignored. Current value: feature_fraction=0.6832759872412818\n",
      "[LightGBM] [Warning] bagging_fraction is set=0.25835124325632186, subsample=0.6 will be ignored. Current value: bagging_fraction=0.25835124325632186\n",
      "[LightGBM] [Warning] bagging_freq is set=2, subsample_freq=0 will be ignored. Current value: bagging_freq=2\n",
      "Training until validation scores don't improve for 100 rounds\n",
      "[100]\ttraining's l1: 2.2152\tvalid_1's l1: 2.37389\n"
     ]
    },
    {
     "name": "stderr",
     "output_type": "stream",
     "text": [
      "\u001b[32m[I 2021-07-19 22:08:35,357]\u001b[0m Trial 85 finished with value: -2.35840552897233 and parameters: {'max_depth': 2, 'min_child_weight': 17, 'subsample': 0.6, 'colsample_bytree': 0.5, 'reg_lambda': 0.007050075622790919, 'reg_alpha': 0.0059334563373944155, 'feature_fraction': 0.6832759872412818, 'bagging_fraction': 0.25835124325632186, 'bagging_freq': 2, 'num_leaves': 736, 'min_child_samples': 53}. Best is trial 48 with value: -2.3366380015877066.\u001b[0m\n"
     ]
    },
    {
     "name": "stdout",
     "output_type": "stream",
     "text": [
      "[200]\ttraining's l1: 2.16039\tvalid_1's l1: 2.36896\n",
      "Early stopping, best iteration is:\n",
      "[133]\ttraining's l1: 2.1864\tvalid_1's l1: 2.35853\n",
      "[LightGBM] [Warning] feature_fraction is set=0.6059655093708541, colsample_bytree=0.5 will be ignored. Current value: feature_fraction=0.6059655093708541\n",
      "[LightGBM] [Warning] bagging_fraction is set=0.22228493117820872, subsample=0.6 will be ignored. Current value: bagging_fraction=0.22228493117820872\n",
      "[LightGBM] [Warning] bagging_freq is set=3, subsample_freq=0 will be ignored. Current value: bagging_freq=3\n",
      "Training until validation scores don't improve for 100 rounds\n",
      "[100]\ttraining's l1: 2.09368\tvalid_1's l1: 2.37934\n"
     ]
    },
    {
     "name": "stderr",
     "output_type": "stream",
     "text": [
      "\u001b[32m[I 2021-07-19 22:08:36,588]\u001b[0m Trial 86 finished with value: -2.356754156745557 and parameters: {'max_depth': 4, 'min_child_weight': 11, 'subsample': 0.6, 'colsample_bytree': 0.5, 'reg_lambda': 0.03325927692108201, 'reg_alpha': 0.6028040408277654, 'feature_fraction': 0.6059655093708541, 'bagging_fraction': 0.22228493117820872, 'bagging_freq': 3, 'num_leaves': 382, 'min_child_samples': 28}. Best is trial 48 with value: -2.3366380015877066.\u001b[0m\n"
     ]
    },
    {
     "name": "stdout",
     "output_type": "stream",
     "text": [
      "Early stopping, best iteration is:\n",
      "[58]\ttraining's l1: 2.14493\tvalid_1's l1: 2.35679\n",
      "[LightGBM] [Warning] feature_fraction is set=0.6433019552586996, colsample_bytree=0.5 will be ignored. Current value: feature_fraction=0.6433019552586996\n",
      "[LightGBM] [Warning] bagging_fraction is set=0.7159183311785315, subsample=0.7 will be ignored. Current value: bagging_fraction=0.7159183311785315\n",
      "[LightGBM] [Warning] bagging_freq is set=2, subsample_freq=0 will be ignored. Current value: bagging_freq=2\n",
      "Training until validation scores don't improve for 100 rounds\n",
      "[100]\ttraining's l1: 1.95442\tvalid_1's l1: 2.41392\n"
     ]
    },
    {
     "name": "stderr",
     "output_type": "stream",
     "text": [
      "\u001b[32m[I 2021-07-19 22:08:38,846]\u001b[0m Trial 87 finished with value: -2.3638019131541546 and parameters: {'max_depth': 6, 'min_child_weight': 13, 'subsample': 0.7, 'colsample_bytree': 0.5, 'reg_lambda': 0.0012254260936382, 'reg_alpha': 1.284812263385527, 'feature_fraction': 0.6433019552586996, 'bagging_fraction': 0.7159183311785315, 'bagging_freq': 2, 'num_leaves': 462, 'min_child_samples': 40}. Best is trial 48 with value: -2.3366380015877066.\u001b[0m\n"
     ]
    },
    {
     "name": "stdout",
     "output_type": "stream",
     "text": [
      "Early stopping, best iteration is:\n",
      "[44]\ttraining's l1: 2.06617\tvalid_1's l1: 2.36389\n",
      "[LightGBM] [Warning] feature_fraction is set=0.5213234374540363, colsample_bytree=0.7 will be ignored. Current value: feature_fraction=0.5213234374540363\n",
      "[LightGBM] [Warning] bagging_fraction is set=0.3011706878909055, subsample=0.9 will be ignored. Current value: bagging_fraction=0.3011706878909055\n",
      "[LightGBM] [Warning] bagging_freq is set=4, subsample_freq=0 will be ignored. Current value: bagging_freq=4\n",
      "Training until validation scores don't improve for 100 rounds\n",
      "[100]\ttraining's l1: 2.15319\tvalid_1's l1: 2.36076\n"
     ]
    },
    {
     "name": "stderr",
     "output_type": "stream",
     "text": [
      "\u001b[32m[I 2021-07-19 22:08:40,210]\u001b[0m Trial 88 finished with value: -2.359034362441341 and parameters: {'max_depth': 3, 'min_child_weight': 16, 'subsample': 0.9, 'colsample_bytree': 0.7, 'reg_lambda': 0.0020465472558573207, 'reg_alpha': 0.0015130621230329514, 'feature_fraction': 0.5213234374540363, 'bagging_fraction': 0.3011706878909055, 'bagging_freq': 4, 'num_leaves': 606, 'min_child_samples': 19}. Best is trial 48 with value: -2.3366380015877066.\u001b[0m\n"
     ]
    },
    {
     "name": "stdout",
     "output_type": "stream",
     "text": [
      "Early stopping, best iteration is:\n",
      "[93]\ttraining's l1: 2.15952\tvalid_1's l1: 2.3591\n",
      "[LightGBM] [Warning] feature_fraction is set=0.5522414622264082, colsample_bytree=0.9 will be ignored. Current value: feature_fraction=0.5522414622264082\n",
      "[LightGBM] [Warning] bagging_fraction is set=0.4169026061403288, subsample=0.8 will be ignored. Current value: bagging_fraction=0.4169026061403288\n",
      "[LightGBM] [Warning] bagging_freq is set=1, subsample_freq=0 will be ignored. Current value: bagging_freq=1\n",
      "Training until validation scores don't improve for 100 rounds\n",
      "[100]\ttraining's l1: 1.91825\tvalid_1's l1: 2.39212\n"
     ]
    },
    {
     "name": "stderr",
     "output_type": "stream",
     "text": [
      "\u001b[32m[I 2021-07-19 22:08:42,390]\u001b[0m Trial 89 finished with value: -2.354993356915226 and parameters: {'max_depth': 7, 'min_child_weight': 14, 'subsample': 0.8, 'colsample_bytree': 0.9, 'reg_lambda': 0.010394539533382697, 'reg_alpha': 0.004067577643054518, 'feature_fraction': 0.5522414622264082, 'bagging_fraction': 0.4169026061403288, 'bagging_freq': 1, 'num_leaves': 793, 'min_child_samples': 33}. Best is trial 48 with value: -2.3366380015877066.\u001b[0m\n"
     ]
    },
    {
     "name": "stdout",
     "output_type": "stream",
     "text": [
      "Early stopping, best iteration is:\n",
      "[56]\ttraining's l1: 1.99378\tvalid_1's l1: 2.35508\n",
      "[LightGBM] [Warning] feature_fraction is set=0.5757458193924142, colsample_bytree=0.5 will be ignored. Current value: feature_fraction=0.5757458193924142\n",
      "[LightGBM] [Warning] bagging_fraction is set=0.3763049093351226, subsample=0.6 will be ignored. Current value: bagging_fraction=0.3763049093351226\n",
      "[LightGBM] [Warning] bagging_freq is set=3, subsample_freq=0 will be ignored. Current value: bagging_freq=3\n",
      "Training until validation scores don't improve for 100 rounds\n",
      "[100]\ttraining's l1: 2.03925\tvalid_1's l1: 2.38295\n"
     ]
    },
    {
     "name": "stderr",
     "output_type": "stream",
     "text": [
      "\u001b[32m[I 2021-07-19 22:08:44,032]\u001b[0m Trial 90 finished with value: -2.363428063218871 and parameters: {'max_depth': 5, 'min_child_weight': 15, 'subsample': 0.6, 'colsample_bytree': 0.5, 'reg_lambda': 0.005904313084504997, 'reg_alpha': 11.178134988340169, 'feature_fraction': 0.5757458193924142, 'bagging_fraction': 0.3763049093351226, 'bagging_freq': 3, 'num_leaves': 489, 'min_child_samples': 49}. Best is trial 48 with value: -2.3366380015877066.\u001b[0m\n"
     ]
    },
    {
     "name": "stdout",
     "output_type": "stream",
     "text": [
      "Early stopping, best iteration is:\n",
      "[57]\ttraining's l1: 2.10158\tvalid_1's l1: 2.3635\n",
      "[LightGBM] [Warning] feature_fraction is set=0.6088823131658923, colsample_bytree=0.5 will be ignored. Current value: feature_fraction=0.6088823131658923\n",
      "[LightGBM] [Warning] bagging_fraction is set=0.21391370732716317, subsample=0.6 will be ignored. Current value: bagging_fraction=0.21391370732716317\n",
      "[LightGBM] [Warning] bagging_freq is set=1, subsample_freq=0 will be ignored. Current value: bagging_freq=1\n",
      "Training until validation scores don't improve for 100 rounds\n",
      "[100]\ttraining's l1: 2.08782\tvalid_1's l1: 2.34322\n"
     ]
    },
    {
     "name": "stderr",
     "output_type": "stream",
     "text": [
      "\u001b[32m[I 2021-07-19 22:08:45,659]\u001b[0m Trial 91 finished with value: -2.3421249217709366 and parameters: {'max_depth': 4, 'min_child_weight': 13, 'subsample': 0.6, 'colsample_bytree': 0.5, 'reg_lambda': 0.016094488350186363, 'reg_alpha': 0.002204840163574802, 'feature_fraction': 0.6088823131658923, 'bagging_fraction': 0.21391370732716317, 'bagging_freq': 1, 'num_leaves': 558, 'min_child_samples': 38}. Best is trial 48 with value: -2.3366380015877066.\u001b[0m\n"
     ]
    },
    {
     "name": "stdout",
     "output_type": "stream",
     "text": [
      "Early stopping, best iteration is:\n",
      "[90]\ttraining's l1: 2.09645\tvalid_1's l1: 2.34227\n",
      "[LightGBM] [Warning] feature_fraction is set=0.6238264047741685, colsample_bytree=0.5 will be ignored. Current value: feature_fraction=0.6238264047741685\n",
      "[LightGBM] [Warning] bagging_fraction is set=0.27439752198578193, subsample=0.6 will be ignored. Current value: bagging_fraction=0.27439752198578193\n",
      "[LightGBM] [Warning] bagging_freq is set=1, subsample_freq=0 will be ignored. Current value: bagging_freq=1\n",
      "Training until validation scores don't improve for 100 rounds\n",
      "[100]\ttraining's l1: 2.14293\tvalid_1's l1: 2.3574\n"
     ]
    },
    {
     "name": "stderr",
     "output_type": "stream",
     "text": [
      "\u001b[32m[I 2021-07-19 22:08:47,399]\u001b[0m Trial 92 finished with value: -2.352997043320106 and parameters: {'max_depth': 3, 'min_child_weight': 12, 'subsample': 0.6, 'colsample_bytree': 0.5, 'reg_lambda': 0.026014822915369166, 'reg_alpha': 0.002585523607690176, 'feature_fraction': 0.6238264047741685, 'bagging_fraction': 0.27439752198578193, 'bagging_freq': 1, 'num_leaves': 569, 'min_child_samples': 39}. Best is trial 48 with value: -2.3366380015877066.\u001b[0m\n"
     ]
    },
    {
     "name": "stdout",
     "output_type": "stream",
     "text": [
      "[200]\ttraining's l1: 2.09125\tvalid_1's l1: 2.37476\n",
      "Early stopping, best iteration is:\n",
      "[108]\ttraining's l1: 2.13683\tvalid_1's l1: 2.35306\n",
      "[LightGBM] [Warning] feature_fraction is set=0.5983534147374402, colsample_bytree=0.5 will be ignored. Current value: feature_fraction=0.5983534147374402\n",
      "[LightGBM] [Warning] bagging_fraction is set=0.24012359812680106, subsample=0.6 will be ignored. Current value: bagging_fraction=0.24012359812680106\n",
      "[LightGBM] [Warning] bagging_freq is set=2, subsample_freq=0 will be ignored. Current value: bagging_freq=2\n",
      "Training until validation scores don't improve for 100 rounds\n",
      "[100]\ttraining's l1: 2.0865\tvalid_1's l1: 2.35931\n"
     ]
    },
    {
     "name": "stderr",
     "output_type": "stream",
     "text": [
      "\u001b[32m[I 2021-07-19 22:08:48,727]\u001b[0m Trial 93 finished with value: -2.3500933037933716 and parameters: {'max_depth': 4, 'min_child_weight': 13, 'subsample': 0.6, 'colsample_bytree': 0.5, 'reg_lambda': 0.002832727197484518, 'reg_alpha': 0.0010198869075956861, 'feature_fraction': 0.5983534147374402, 'bagging_fraction': 0.24012359812680106, 'bagging_freq': 2, 'num_leaves': 542, 'min_child_samples': 35}. Best is trial 48 with value: -2.3366380015877066.\u001b[0m\n"
     ]
    },
    {
     "name": "stdout",
     "output_type": "stream",
     "text": [
      "Early stopping, best iteration is:\n",
      "[66]\ttraining's l1: 2.12548\tvalid_1's l1: 2.35023\n",
      "[LightGBM] [Warning] feature_fraction is set=0.6703390986263796, colsample_bytree=0.5 will be ignored. Current value: feature_fraction=0.6703390986263796\n",
      "[LightGBM] [Warning] bagging_fraction is set=0.20101195727433063, subsample=0.6 will be ignored. Current value: bagging_fraction=0.20101195727433063\n",
      "[LightGBM] [Warning] bagging_freq is set=1, subsample_freq=0 will be ignored. Current value: bagging_freq=1\n",
      "Training until validation scores don't improve for 100 rounds\n",
      "[100]\ttraining's l1: 2.20979\tvalid_1's l1: 2.36865\n"
     ]
    },
    {
     "name": "stderr",
     "output_type": "stream",
     "text": [
      "\u001b[32m[I 2021-07-19 22:08:50,079]\u001b[0m Trial 94 finished with value: -2.3634417855820455 and parameters: {'max_depth': 2, 'min_child_weight': 12, 'subsample': 0.6, 'colsample_bytree': 0.5, 'reg_lambda': 0.014172676297696455, 'reg_alpha': 0.0019010658808832803, 'feature_fraction': 0.6703390986263796, 'bagging_fraction': 0.20101195727433063, 'bagging_freq': 1, 'num_leaves': 677, 'min_child_samples': 46}. Best is trial 48 with value: -2.3366380015877066.\u001b[0m\n"
     ]
    },
    {
     "name": "stdout",
     "output_type": "stream",
     "text": [
      "[200]\ttraining's l1: 2.1607\tvalid_1's l1: 2.36692\n",
      "Early stopping, best iteration is:\n",
      "[152]\ttraining's l1: 2.1774\tvalid_1's l1: 2.36369\n",
      "[LightGBM] [Warning] feature_fraction is set=0.5584827610654538, colsample_bytree=0.5 will be ignored. Current value: feature_fraction=0.5584827610654538\n",
      "[LightGBM] [Warning] bagging_fraction is set=0.3305863700866466, subsample=0.6 will be ignored. Current value: bagging_fraction=0.3305863700866466\n",
      "[LightGBM] [Warning] bagging_freq is set=1, subsample_freq=0 will be ignored. Current value: bagging_freq=1\n",
      "Training until validation scores don't improve for 100 rounds\n",
      "[100]\ttraining's l1: 2.03447\tvalid_1's l1: 2.3723\n"
     ]
    },
    {
     "name": "stderr",
     "output_type": "stream",
     "text": [
      "\u001b[32m[I 2021-07-19 22:08:51,748]\u001b[0m Trial 95 finished with value: -2.3505372413857972 and parameters: {'max_depth': 5, 'min_child_weight': 14, 'subsample': 0.6, 'colsample_bytree': 0.5, 'reg_lambda': 0.04361685203066567, 'reg_alpha': 0.009701966108701247, 'feature_fraction': 0.5584827610654538, 'bagging_fraction': 0.3305863700866466, 'bagging_freq': 1, 'num_leaves': 520, 'min_child_samples': 24}. Best is trial 48 with value: -2.3366380015877066.\u001b[0m\n"
     ]
    },
    {
     "name": "stdout",
     "output_type": "stream",
     "text": [
      "Early stopping, best iteration is:\n",
      "[57]\ttraining's l1: 2.08859\tvalid_1's l1: 2.35072\n",
      "[LightGBM] [Warning] feature_fraction is set=0.5350762583798595, colsample_bytree=0.5 will be ignored. Current value: feature_fraction=0.5350762583798595\n",
      "[LightGBM] [Warning] bagging_fraction is set=0.9901051118045934, subsample=0.6 will be ignored. Current value: bagging_fraction=0.9901051118045934\n",
      "[LightGBM] [Warning] bagging_freq is set=2, subsample_freq=0 will be ignored. Current value: bagging_freq=2\n",
      "Training until validation scores don't improve for 100 rounds\n",
      "[100]\ttraining's l1: 2.14981\tvalid_1's l1: 2.36505\n"
     ]
    },
    {
     "name": "stderr",
     "output_type": "stream",
     "text": [
      "\u001b[32m[I 2021-07-19 22:08:54,347]\u001b[0m Trial 96 finished with value: -2.361017854418276 and parameters: {'max_depth': 3, 'min_child_weight': 13, 'subsample': 0.6, 'colsample_bytree': 0.5, 'reg_lambda': 0.017427662234107185, 'reg_alpha': 0.003081581075614301, 'feature_fraction': 0.5350762583798595, 'bagging_fraction': 0.9901051118045934, 'bagging_freq': 2, 'num_leaves': 627, 'min_child_samples': 37}. Best is trial 48 with value: -2.3366380015877066.\u001b[0m\n"
     ]
    },
    {
     "name": "stdout",
     "output_type": "stream",
     "text": [
      "Early stopping, best iteration is:\n",
      "[79]\ttraining's l1: 2.1677\tvalid_1's l1: 2.36105\n",
      "[LightGBM] [Warning] feature_fraction is set=0.6965923402631186, colsample_bytree=0.5 will be ignored. Current value: feature_fraction=0.6965923402631186\n",
      "[LightGBM] [Warning] bagging_fraction is set=0.6960882146757353, subsample=0.5 will be ignored. Current value: bagging_fraction=0.6960882146757353\n",
      "[LightGBM] [Warning] bagging_freq is set=3, subsample_freq=0 will be ignored. Current value: bagging_freq=3\n",
      "Training until validation scores don't improve for 100 rounds\n",
      "[100]\ttraining's l1: 1.96627\tvalid_1's l1: 2.38589\n"
     ]
    },
    {
     "name": "stderr",
     "output_type": "stream",
     "text": [
      "\u001b[32m[I 2021-07-19 22:08:56,121]\u001b[0m Trial 97 finished with value: -2.36762247057332 and parameters: {'max_depth': 6, 'min_child_weight': 18, 'subsample': 0.5, 'colsample_bytree': 0.5, 'reg_lambda': 0.004656029382032101, 'reg_alpha': 0.00151821166973382, 'feature_fraction': 0.6965923402631186, 'bagging_fraction': 0.6960882146757353, 'bagging_freq': 3, 'num_leaves': 417, 'min_child_samples': 42}. Best is trial 48 with value: -2.3366380015877066.\u001b[0m\n"
     ]
    },
    {
     "name": "stdout",
     "output_type": "stream",
     "text": [
      "Early stopping, best iteration is:\n",
      "[48]\ttraining's l1: 2.05\tvalid_1's l1: 2.36771\n",
      "[LightGBM] [Warning] feature_fraction is set=0.513765443077877, colsample_bytree=0.8 will be ignored. Current value: feature_fraction=0.513765443077877\n",
      "[LightGBM] [Warning] bagging_fraction is set=0.2148292595849845, subsample=0.6 will be ignored. Current value: bagging_fraction=0.2148292595849845\n",
      "[LightGBM] [Warning] bagging_freq is set=5, subsample_freq=0 will be ignored. Current value: bagging_freq=5\n",
      "Training until validation scores don't improve for 100 rounds\n",
      "[100]\ttraining's l1: 2.09551\tvalid_1's l1: 2.37355\n",
      "Early stopping, best iteration is:\n",
      "[59]\ttraining's l1: 2.14181\tvalid_1's l1: 2.35485\n"
     ]
    },
    {
     "name": "stderr",
     "output_type": "stream",
     "text": [
      "\u001b[32m[I 2021-07-19 22:08:57,272]\u001b[0m Trial 98 finished with value: -2.354810795002027 and parameters: {'max_depth': 4, 'min_child_weight': 14, 'subsample': 0.6, 'colsample_bytree': 0.8, 'reg_lambda': 0.008998101037423071, 'reg_alpha': 0.006987747351047676, 'feature_fraction': 0.513765443077877, 'bagging_fraction': 0.2148292595849845, 'bagging_freq': 5, 'num_leaves': 580, 'min_child_samples': 29}. Best is trial 48 with value: -2.3366380015877066.\u001b[0m\n"
     ]
    },
    {
     "name": "stdout",
     "output_type": "stream",
     "text": [
      "[LightGBM] [Warning] feature_fraction is set=0.4757426121797992, colsample_bytree=0.5 will be ignored. Current value: feature_fraction=0.4757426121797992\n",
      "[LightGBM] [Warning] bagging_fraction is set=0.26543941116809716, subsample=0.6 will be ignored. Current value: bagging_fraction=0.26543941116809716\n",
      "[LightGBM] [Warning] bagging_freq is set=4, subsample_freq=0 will be ignored. Current value: bagging_freq=4\n",
      "Training until validation scores don't improve for 100 rounds\n",
      "[100]\ttraining's l1: 2.03657\tvalid_1's l1: 2.34381\n"
     ]
    },
    {
     "name": "stderr",
     "output_type": "stream",
     "text": [
      "\u001b[32m[I 2021-07-19 22:08:58,823]\u001b[0m Trial 99 finished with value: -2.340128107477786 and parameters: {'max_depth': 5, 'min_child_weight': 15, 'subsample': 0.6, 'colsample_bytree': 0.5, 'reg_lambda': 0.061995711293823516, 'reg_alpha': 0.002086078125720578, 'feature_fraction': 0.4757426121797992, 'bagging_fraction': 0.26543941116809716, 'bagging_freq': 4, 'num_leaves': 468, 'min_child_samples': 21}. Best is trial 48 with value: -2.3366380015877066.\u001b[0m\n"
     ]
    },
    {
     "name": "stdout",
     "output_type": "stream",
     "text": [
      "[200]\ttraining's l1: 1.96275\tvalid_1's l1: 2.39114\n",
      "Early stopping, best iteration is:\n",
      "[112]\ttraining's l1: 2.02521\tvalid_1's l1: 2.34042\n"
     ]
    }
   ],
   "source": [
    "study1, study2, study3, study4 = rt4kaido_train.train_and_evaluate(train, isgamedayonly=True)"
   ]
  },
  {
   "cell_type": "code",
   "execution_count": 19,
   "id": "31e1ceed",
   "metadata": {},
   "outputs": [
    {
     "name": "stdout",
     "output_type": "stream",
     "text": [
      "best_score = 2.670810480684822\n"
     ]
    },
    {
     "data": {
      "text/plain": [
       "{'max_depth': 8,\n",
       " 'min_child_weight': 12,\n",
       " 'subsample': 0.9,\n",
       " 'colsample_bytree': 0.6,\n",
       " 'reg_lambda': 0.8879022934703679,\n",
       " 'reg_alpha': 0.04140241262569956,\n",
       " 'feature_fraction': 0.8957393947729593,\n",
       " 'bagging_fraction': 0.7808987132855542,\n",
       " 'bagging_freq': 8,\n",
       " 'num_leaves': 770,\n",
       " 'min_child_samples': 11}"
      ]
     },
     "execution_count": 19,
     "metadata": {},
     "output_type": "execute_result"
    }
   ],
   "source": [
    "print(f'best_score = {-study1.best_value}')\n",
    "study1.best_trial.params"
   ]
  },
  {
   "cell_type": "code",
   "execution_count": 20,
   "id": "7c13c7ac",
   "metadata": {},
   "outputs": [
    {
     "name": "stdout",
     "output_type": "stream",
     "text": [
      "best_score = 2.7975346282907663\n"
     ]
    },
    {
     "data": {
      "text/plain": [
       "{'max_depth': 4,\n",
       " 'min_child_weight': 1,\n",
       " 'subsample': 0.9,\n",
       " 'colsample_bytree': 0.6,\n",
       " 'reg_lambda': 0.0021844968239131558,\n",
       " 'reg_alpha': 2.9081796565412996,\n",
       " 'feature_fraction': 0.2300930411287298,\n",
       " 'bagging_fraction': 0.8494689544045589,\n",
       " 'bagging_freq': 7,\n",
       " 'num_leaves': 136,\n",
       " 'min_child_samples': 15}"
      ]
     },
     "execution_count": 20,
     "metadata": {},
     "output_type": "execute_result"
    }
   ],
   "source": [
    "print(f'best_score = {-study2.best_value}')\n",
    "study2.best_trial.params"
   ]
  },
  {
   "cell_type": "code",
   "execution_count": 21,
   "id": "44bb649d",
   "metadata": {},
   "outputs": [
    {
     "name": "stdout",
     "output_type": "stream",
     "text": [
      "best_score = 1.8915630214853947\n"
     ]
    },
    {
     "data": {
      "text/plain": [
       "{'max_depth': 7,\n",
       " 'min_child_weight': 17,\n",
       " 'subsample': 0.9,\n",
       " 'colsample_bytree': 0.7,\n",
       " 'reg_lambda': 0.11584013048593701,\n",
       " 'reg_alpha': 0.2250931956560551,\n",
       " 'feature_fraction': 0.9191810918339691,\n",
       " 'bagging_fraction': 0.6499450099107142,\n",
       " 'bagging_freq': 7,\n",
       " 'num_leaves': 288,\n",
       " 'min_child_samples': 63}"
      ]
     },
     "execution_count": 21,
     "metadata": {},
     "output_type": "execute_result"
    }
   ],
   "source": [
    "print(f'best_score = {-study3.best_value}')\n",
    "study3.best_trial.params"
   ]
  },
  {
   "cell_type": "code",
   "execution_count": 22,
   "id": "09ae3558",
   "metadata": {},
   "outputs": [
    {
     "name": "stdout",
     "output_type": "stream",
     "text": [
      "best_score = 2.3366380015877066\n"
     ]
    },
    {
     "data": {
      "text/plain": [
       "{'max_depth': 4,\n",
       " 'min_child_weight': 13,\n",
       " 'subsample': 0.6,\n",
       " 'colsample_bytree': 0.5,\n",
       " 'reg_lambda': 0.01098769471029974,\n",
       " 'reg_alpha': 0.0023445205608887353,\n",
       " 'feature_fraction': 0.5929924424734044,\n",
       " 'bagging_fraction': 0.20424172176182545,\n",
       " 'bagging_freq': 1,\n",
       " 'num_leaves': 482,\n",
       " 'min_child_samples': 36}"
      ]
     },
     "execution_count": 22,
     "metadata": {},
     "output_type": "execute_result"
    }
   ],
   "source": [
    "print(f'best_score = {-study4.best_value}')\n",
    "study4.best_trial.params"
   ]
  },
  {
   "cell_type": "code",
   "execution_count": null,
   "id": "5a764139",
   "metadata": {},
   "outputs": [],
   "source": []
  }
 ],
 "metadata": {
  "kernelspec": {
   "display_name": "Python 3",
   "language": "python",
   "name": "python3"
  },
  "language_info": {
   "codemirror_mode": {
    "name": "ipython",
    "version": 3
   },
   "file_extension": ".py",
   "mimetype": "text/x-python",
   "name": "python",
   "nbconvert_exporter": "python",
   "pygments_lexer": "ipython3",
   "version": "3.6.13"
  }
 },
 "nbformat": 4,
 "nbformat_minor": 5
}
