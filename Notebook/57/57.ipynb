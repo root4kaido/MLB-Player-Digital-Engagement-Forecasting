{
 "cells": [
  {
   "cell_type": "code",
   "execution_count": 41,
   "id": "dc86c160",
   "metadata": {},
   "outputs": [],
   "source": [
    "import gc\n",
    "import os\n",
    "import sys\n",
    "import math\n",
    "import random\n",
    "import warnings\n",
    "import pickle\n",
    "from pathlib import Path\n",
    "from joblib import Parallel, delayed\n",
    "from statsmodels.tsa.deterministic import (CalendarFourier,\n",
    "                                           CalendarSeasonality,\n",
    "                                           CalendarTimeTrend,\n",
    "                                           DeterministicProcess)\n",
    "import optuna\n",
    "from tqdm import tqdm\n",
    "import os\n",
    "import ipywidgets as widgets\n",
    "import matplotlib.pyplot as plt\n",
    "import numpy as np\n",
    "import pandas as pd\n",
    "import seaborn as sns\n",
    "# from pandarallel import pandarallel\n",
    "# pandarallel.initialize()\n",
    "warnings.simplefilter(\"ignore\")\n",
    "import ctypes as ct\n",
    "from datetime import timedelta\n",
    "\n",
    "from sklearn.metrics import mean_absolute_error\n",
    "\n",
    "import statistics as st\n",
    "import lightgbm as lgbm\n",
    "from scipy.stats import norm"
   ]
  },
  {
   "cell_type": "code",
   "execution_count": 42,
   "id": "959947de",
   "metadata": {},
   "outputs": [],
   "source": [
    "sys.path.append('../../')\n",
    "import src.utils as utils"
   ]
  },
  {
   "cell_type": "markdown",
   "id": "cb9ab158",
   "metadata": {},
   "source": [
    "## Param"
   ]
  },
  {
   "cell_type": "code",
   "execution_count": 43,
   "id": "01097492",
   "metadata": {},
   "outputs": [],
   "source": [
    "targets_cols = ['playerId', 'target1', 'target2', 'target3', 'target4', 'date']\n",
    "players_cols = ['playerId', 'primaryPositionName', 'birthCity', 'DOY', 'mlbDebutYear', 'DebutAge', 'heightInches', 'weight', 'playerForTestSetAndFuturePreds']\n",
    "rosters_cols = ['playerId', 'teamId', 'status', 'date']\n",
    "salaries_cols = ['teamId', 'salary', 'year']\n",
    "standings_cols = ['teamId', 'wildCardRank', 'sportGamesBack', 'date']\n",
    "transactions_cols = ['playerId', 'transaction_flag', 'date']\n",
    "scores_cols = ['playerId', 'battingOrder', 'gamesPlayedBatting', 'flyOuts',\n",
    "       'groundOuts', 'runsScored', 'doubles', 'triples', 'homeRuns',\n",
    "       'strikeOuts', 'baseOnBalls', 'intentionalWalks', 'hits', 'hitByPitch',\n",
    "       'atBats', 'caughtStealing', 'stolenBases', 'groundIntoDoublePlay',\n",
    "       'groundIntoTriplePlay', 'plateAppearances', 'totalBases', 'rbi',\n",
    "       'leftOnBase', 'sacBunts', 'sacFlies', 'catchersInterference',\n",
    "       'pickoffs', 'gamesPlayedPitching', 'gamesStartedPitching',\n",
    "       'completeGamesPitching', 'shutoutsPitching', 'winsPitching',\n",
    "       'lossesPitching', 'flyOutsPitching', 'airOutsPitching',\n",
    "       'groundOutsPitching', 'runsPitching', 'doublesPitching',\n",
    "       'triplesPitching', 'homeRunsPitching', 'strikeOutsPitching',\n",
    "       'baseOnBallsPitching', 'intentionalWalksPitching', 'hitsPitching',\n",
    "       'hitByPitchPitching', 'atBatsPitching', 'caughtStealingPitching',\n",
    "       'stolenBasesPitching', 'inningsPitched', 'saveOpportunities',\n",
    "       'earnedRuns', 'battersFaced', 'outsPitching', 'pitchesThrown', 'balls',\n",
    "       'strikes', 'hitBatsmen', 'balks', 'wildPitches', 'pickoffsPitching',\n",
    "       'rbiPitching', 'gamesFinishedPitching', 'inheritedRunners',\n",
    "       'inheritedRunnersScored', 'catchersInterferencePitching',\n",
    "       'sacBuntsPitching', 'sacFliesPitching', 'saves', 'holds', 'blownSaves',\n",
    "       'assists', 'putOuts', 'errors', 'chances', 'date']\n",
    "\n",
    "feature_cols1 = ['week_day','label_playerId', 'label_primaryPositionName', 'label_teamId',\n",
    "       'label_status', 'battingOrder', 'gamesPlayedBatting', 'flyOuts',\n",
    "       'groundOuts', 'runsScored', 'doubles', 'triples', 'homeRuns',\n",
    "       'strikeOuts', 'baseOnBalls', 'intentionalWalks', 'hits', 'hitByPitch',\n",
    "       'atBats', 'caughtStealing', 'stolenBases', 'groundIntoDoublePlay',\n",
    "       'groundIntoTriplePlay', 'plateAppearances', 'totalBases', 'rbi',\n",
    "       'leftOnBase', 'sacBunts', 'sacFlies', 'catchersInterference',\n",
    "       'pickoffs', 'gamesPlayedPitching', 'gamesStartedPitching',\n",
    "       'completeGamesPitching', 'shutoutsPitching', 'winsPitching',\n",
    "       'lossesPitching', 'flyOutsPitching', 'airOutsPitching',\n",
    "       'groundOutsPitching', 'runsPitching', 'doublesPitching',\n",
    "       'triplesPitching', 'homeRunsPitching', 'strikeOutsPitching',\n",
    "       'baseOnBallsPitching', 'intentionalWalksPitching', 'hitsPitching',\n",
    "       'hitByPitchPitching', 'atBatsPitching', 'caughtStealingPitching',\n",
    "       'stolenBasesPitching', 'inningsPitched', 'saveOpportunities',\n",
    "       'earnedRuns', 'battersFaced', 'outsPitching', 'pitchesThrown', 'balls',\n",
    "       'strikes', 'hitBatsmen', 'balks', 'wildPitches', 'pickoffsPitching',\n",
    "       'rbiPitching', 'gamesFinishedPitching', 'inheritedRunners',\n",
    "       'inheritedRunnersScored', 'catchersInterferencePitching',\n",
    "       'sacBuntsPitching', 'sacFliesPitching', 'saves', 'holds', 'blownSaves',\n",
    "       'assists', 'putOuts', 'errors', 'chances',\n",
    "        \"target1_mean\",\"target1_median\",\"target1_std\",\"target1_min\",\"target1_max\",\"target1_skew\",\"target1_kurt\",\n",
    "         \"target2_mean\",\"target2_median\",\"target2_std\",\"target2_min\",\"target2_max\",\"target2_skew\",\"target2_kurt\",\n",
    "        \"target3_mean\",\"target3_median\",\"target3_std\",\"target3_min\",\"target3_max\",\"target3_skew\",\"target3_kurt\",\n",
    "        \"target4_mean\",\"target4_median\",\"target4_std\",\"target4_min\",\"target4_max\",\"target4_skew\",\"target4_kurt\", \n",
    "        'season_info', 'wildCardRank'] \n",
    "\n",
    "feature_cols2 = ['label_playerId', 'label_primaryPositionName', 'label_teamId',\n",
    "       'label_status', 'battingOrder', 'gamesPlayedBatting', 'flyOuts',\n",
    "       'groundOuts', 'runsScored', 'doubles', 'triples', 'homeRuns',\n",
    "       'strikeOuts', 'baseOnBalls', 'intentionalWalks', 'hits', 'hitByPitch',\n",
    "       'atBats', 'caughtStealing', 'stolenBases', 'groundIntoDoublePlay',\n",
    "       'groundIntoTriplePlay', 'plateAppearances', 'totalBases', 'rbi',\n",
    "       'leftOnBase', 'sacBunts', 'sacFlies', 'catchersInterference',\n",
    "       'pickoffs', 'gamesPlayedPitching', 'gamesStartedPitching',\n",
    "       'completeGamesPitching', 'shutoutsPitching', 'winsPitching',\n",
    "       'lossesPitching', 'flyOutsPitching', 'airOutsPitching',\n",
    "       'groundOutsPitching', 'runsPitching', 'doublesPitching',\n",
    "       'triplesPitching', 'homeRunsPitching', 'strikeOutsPitching',\n",
    "       'baseOnBallsPitching', 'intentionalWalksPitching', 'hitsPitching',\n",
    "       'hitByPitchPitching', 'atBatsPitching', 'caughtStealingPitching',\n",
    "       'stolenBasesPitching', 'inningsPitched', 'saveOpportunities',\n",
    "       'earnedRuns', 'battersFaced', 'outsPitching', 'pitchesThrown', 'balls',\n",
    "       'strikes', 'hitBatsmen', 'balks', 'wildPitches', 'pickoffsPitching',\n",
    "       'rbiPitching', 'gamesFinishedPitching', 'inheritedRunners',\n",
    "       'inheritedRunnersScored', 'catchersInterferencePitching',\n",
    "       'sacBuntsPitching', 'sacFliesPitching', 'saves', 'holds', 'blownSaves',\n",
    "       'assists', 'putOuts', 'errors', 'chances',\n",
    "        \"target1_mean\",\"target1_median\",\"target1_std\",\"target1_min\",\"target1_max\",\"target1_skew\",\"target1_kurt\",\n",
    "         \"target2_mean\",\"target2_median\",\"target2_std\",\"target2_min\",\"target2_max\",\"target2_skew\",\"target2_kurt\",\n",
    "        \"target3_mean\",\"target3_median\",\"target3_std\",\"target3_min\",\"target3_max\",\"target3_skew\",\"target3_kurt\",\n",
    "        \"target4_mean\",\"target4_median\",\"target4_std\",\"target4_min\",\"target4_max\",\"target4_skew\",\"target4_kurt\", \n",
    "        'season_info', 'wildCardRank'] \n",
    "\n",
    "feature_cols3 = ['week_day','label_playerId', 'label_primaryPositionName', 'label_teamId',\n",
    "       'label_status', 'battingOrder', 'gamesPlayedBatting', 'flyOuts',\n",
    "       'groundOuts', 'runsScored', 'doubles', 'triples', 'homeRuns',\n",
    "       'strikeOuts', 'baseOnBalls', 'intentionalWalks', 'hits', 'hitByPitch',\n",
    "       'atBats', 'caughtStealing', 'stolenBases', 'groundIntoDoublePlay',\n",
    "       'groundIntoTriplePlay', 'plateAppearances', 'totalBases', 'rbi',\n",
    "       'leftOnBase', 'sacBunts', 'sacFlies', 'catchersInterference',\n",
    "       'pickoffs', 'gamesPlayedPitching', 'gamesStartedPitching',\n",
    "       'completeGamesPitching', 'shutoutsPitching', 'winsPitching',\n",
    "       'lossesPitching', 'flyOutsPitching', 'airOutsPitching',\n",
    "       'groundOutsPitching', 'runsPitching', 'doublesPitching',\n",
    "       'triplesPitching', 'homeRunsPitching', 'strikeOutsPitching',\n",
    "       'baseOnBallsPitching', 'intentionalWalksPitching', 'hitsPitching',\n",
    "       'hitByPitchPitching', 'atBatsPitching', 'caughtStealingPitching',\n",
    "       'stolenBasesPitching', 'inningsPitched', 'saveOpportunities',\n",
    "       'earnedRuns', 'battersFaced', 'outsPitching', 'pitchesThrown', 'balls',\n",
    "       'strikes', 'hitBatsmen', 'balks', 'wildPitches', 'pickoffsPitching',\n",
    "       'rbiPitching', 'gamesFinishedPitching', 'inheritedRunners',\n",
    "       'inheritedRunnersScored', 'catchersInterferencePitching',\n",
    "       'sacBuntsPitching', 'sacFliesPitching', 'saves', 'holds', 'blownSaves',\n",
    "       'assists', 'putOuts', 'errors', 'chances',\n",
    "        \"target1_mean\",\"target1_median\",\"target1_std\",\"target1_min\",\"target1_max\",\"target1_skew\",\"target1_kurt\",\n",
    "         \"target2_mean\",\"target2_median\",\"target2_std\",\"target2_min\",\"target2_max\",\"target2_skew\",\"target2_kurt\",\n",
    "        \"target3_mean\",\"target3_median\",\"target3_std\",\"target3_min\",\"target3_max\",\"target3_skew\",\"target3_kurt\",\n",
    "        \"target4_mean\",\"target4_median\",\"target4_std\",\"target4_min\",\"target4_max\",\"target4_skew\",\"target4_kurt\", \n",
    "        'season_info', 'wildCardRank'] \n",
    "\n",
    "feature_cols4 = ['week_day', 'annual_day', 'month', 'label_playerId', 'label_primaryPositionName', 'label_teamId', 'label_birthCity',\n",
    "                'DOY', 'mlbDebutYear', 'DebutAge', 'heightInches', 'weight',\n",
    "       'label_status', 'battingOrder', 'gamesPlayedBatting', 'flyOuts',\n",
    "       'groundOuts', 'runsScored', 'doubles', 'triples', 'homeRuns',\n",
    "       'strikeOuts', 'baseOnBalls', 'intentionalWalks', 'hits', 'hitByPitch',\n",
    "       'atBats', 'caughtStealing', 'stolenBases', 'groundIntoDoublePlay',\n",
    "       'groundIntoTriplePlay', 'plateAppearances', 'totalBases', 'rbi',\n",
    "       'leftOnBase', 'sacBunts', 'sacFlies', 'catchersInterference',\n",
    "       'pickoffs', 'gamesPlayedPitching', 'gamesStartedPitching',\n",
    "       'completeGamesPitching', 'shutoutsPitching', 'winsPitching',\n",
    "       'lossesPitching', 'flyOutsPitching', 'airOutsPitching',\n",
    "       'groundOutsPitching', 'runsPitching', 'doublesPitching',\n",
    "       'triplesPitching', 'homeRunsPitching', 'strikeOutsPitching',\n",
    "       'baseOnBallsPitching', 'intentionalWalksPitching', 'hitsPitching',\n",
    "       'hitByPitchPitching', 'atBatsPitching', 'caughtStealingPitching',\n",
    "       'stolenBasesPitching', 'inningsPitched', 'saveOpportunities',\n",
    "       'earnedRuns', 'battersFaced', 'outsPitching', 'pitchesThrown', 'balls',\n",
    "       'strikes', 'hitBatsmen', 'balks', 'wildPitches', 'pickoffsPitching',\n",
    "       'rbiPitching', 'gamesFinishedPitching', 'inheritedRunners',\n",
    "       'inheritedRunnersScored', 'catchersInterferencePitching',\n",
    "       'sacBuntsPitching', 'sacFliesPitching', 'saves', 'holds', 'blownSaves',\n",
    "       'assists', 'putOuts', 'errors', 'chances',\n",
    "        \"target1_mean\",\"target1_median\",\"target1_std\",\"target1_min\",\"target1_max\",\"target1_skew\",\"target1_kurt\",\n",
    "         \"target2_mean\",\"target2_median\",\"target2_std\",\"target2_min\",\"target2_max\",\"target2_skew\",\"target2_kurt\",\n",
    "        \"target3_mean\",\"target3_median\",\"target3_std\",\"target3_min\",\"target3_max\",\"target3_skew\",\"target3_kurt\",\n",
    "        \"target4_mean\",\"target4_median\",\"target4_std\",\"target4_min\",\"target4_max\",\"target4_skew\",\"target4_kurt\", \n",
    "        'season_info', 'wildCardRank'] "
   ]
  },
  {
   "cell_type": "code",
   "execution_count": 44,
   "id": "fabdda3d",
   "metadata": {},
   "outputs": [],
   "source": [
    "EXP_NUM = 57\n",
    "NFOLDS = 5\n",
    "SEED = 42"
   ]
  },
  {
   "cell_type": "code",
   "execution_count": 45,
   "id": "9bc368d6",
   "metadata": {},
   "outputs": [],
   "source": [
    "utils.set_seed(SEED)"
   ]
  },
  {
   "cell_type": "markdown",
   "id": "5af80040",
   "metadata": {},
   "source": [
    "## Dir"
   ]
  },
  {
   "cell_type": "code",
   "execution_count": 46,
   "id": "0ba48cef",
   "metadata": {},
   "outputs": [],
   "source": [
    "DATA_DIR = Path(\"/home/knikaido/work/MLB-Player-Digital-Engagement-Forecasting/data/\")\n",
    "MAIN_DATA_DIR = DATA_DIR / 'mlb-player-digital-engagement-forecasting'\n",
    "TRAIN_DIR = MAIN_DATA_DIR / 'train'\n",
    "OUTPUT_DIR = Path('./output/')"
   ]
  },
  {
   "cell_type": "code",
   "execution_count": 47,
   "id": "71e3a939",
   "metadata": {},
   "outputs": [],
   "source": [
    "players = pd.read_csv(MAIN_DATA_DIR / 'players.csv')\n",
    "\n",
    "rosters = pd.read_csv(TRAIN_DIR / 'rosters_train.csv')\n",
    "targets = pd.read_csv(TRAIN_DIR / 'nextDayPlayerEngagement_train.csv')\n",
    "scores = pd.read_csv(TRAIN_DIR / 'playerBoxScores_train.csv')\n",
    "scores = scores.groupby(['playerId', 'date']).sum().reset_index()\n",
    "seasons = pd.read_csv(MAIN_DATA_DIR / 'seasons.csv')\n",
    "salaries = pd.read_csv(MAIN_DATA_DIR / 'mlbSalaries.csv')\n",
    "teams = pd.read_csv(MAIN_DATA_DIR / 'teams.csv')\n",
    "\n",
    "standings = pd.read_csv(TRAIN_DIR / 'standings_train.csv')\n",
    "playerTwitterFollowers = pd.read_csv(TRAIN_DIR / 'playerTwitterFollowers_train.csv')\n",
    "\n",
    "# events = pd.read_csv(TRAIN_DIR / 'events_train.csv')\n",
    "# events = events.groupby(['gameDate']).sum().reset_index()\n"
   ]
  },
  {
   "cell_type": "code",
   "execution_count": 48,
   "id": "775c3b57",
   "metadata": {},
   "outputs": [
    {
     "data": {
      "text/html": [
       "<div>\n",
       "<style scoped>\n",
       "    .dataframe tbody tr th:only-of-type {\n",
       "        vertical-align: middle;\n",
       "    }\n",
       "\n",
       "    .dataframe tbody tr th {\n",
       "        vertical-align: top;\n",
       "    }\n",
       "\n",
       "    .dataframe thead th {\n",
       "        text-align: right;\n",
       "    }\n",
       "</style>\n",
       "<table border=\"1\" class=\"dataframe\">\n",
       "  <thead>\n",
       "    <tr style=\"text-align: right;\">\n",
       "      <th></th>\n",
       "      <th>playerId</th>\n",
       "      <th>date</th>\n",
       "      <th>home</th>\n",
       "      <th>gamePk</th>\n",
       "      <th>teamId</th>\n",
       "      <th>jerseyNum</th>\n",
       "      <th>positionCode</th>\n",
       "      <th>battingOrder</th>\n",
       "      <th>gamesPlayedBatting</th>\n",
       "      <th>flyOuts</th>\n",
       "      <th>...</th>\n",
       "      <th>sacBuntsPitching</th>\n",
       "      <th>sacFliesPitching</th>\n",
       "      <th>saves</th>\n",
       "      <th>holds</th>\n",
       "      <th>blownSaves</th>\n",
       "      <th>assists</th>\n",
       "      <th>putOuts</th>\n",
       "      <th>errors</th>\n",
       "      <th>chances</th>\n",
       "      <th>index</th>\n",
       "    </tr>\n",
       "  </thead>\n",
       "  <tbody>\n",
       "    <tr>\n",
       "      <th>0</th>\n",
       "      <td>112526</td>\n",
       "      <td>20180402</td>\n",
       "      <td>0</td>\n",
       "      <td>529469</td>\n",
       "      <td>140</td>\n",
       "      <td>40.0</td>\n",
       "      <td>1</td>\n",
       "      <td>0.0</td>\n",
       "      <td>0.0</td>\n",
       "      <td>0.0</td>\n",
       "      <td>...</td>\n",
       "      <td>0.0</td>\n",
       "      <td>0.0</td>\n",
       "      <td>0.0</td>\n",
       "      <td>0.0</td>\n",
       "      <td>0.0</td>\n",
       "      <td>1.0</td>\n",
       "      <td>0.0</td>\n",
       "      <td>0.0</td>\n",
       "      <td>1.0</td>\n",
       "      <td>91</td>\n",
       "    </tr>\n",
       "    <tr>\n",
       "      <th>1</th>\n",
       "      <td>112526</td>\n",
       "      <td>20180408</td>\n",
       "      <td>1</td>\n",
       "      <td>529546</td>\n",
       "      <td>140</td>\n",
       "      <td>40.0</td>\n",
       "      <td>1</td>\n",
       "      <td>0.0</td>\n",
       "      <td>0.0</td>\n",
       "      <td>0.0</td>\n",
       "      <td>...</td>\n",
       "      <td>0.0</td>\n",
       "      <td>0.0</td>\n",
       "      <td>0.0</td>\n",
       "      <td>0.0</td>\n",
       "      <td>0.0</td>\n",
       "      <td>0.0</td>\n",
       "      <td>1.0</td>\n",
       "      <td>0.0</td>\n",
       "      <td>1.0</td>\n",
       "      <td>97</td>\n",
       "    </tr>\n",
       "    <tr>\n",
       "      <th>2</th>\n",
       "      <td>112526</td>\n",
       "      <td>20180410</td>\n",
       "      <td>1</td>\n",
       "      <td>529565</td>\n",
       "      <td>140</td>\n",
       "      <td>40.0</td>\n",
       "      <td>1</td>\n",
       "      <td>0.0</td>\n",
       "      <td>0.0</td>\n",
       "      <td>0.0</td>\n",
       "      <td>...</td>\n",
       "      <td>0.0</td>\n",
       "      <td>1.0</td>\n",
       "      <td>0.0</td>\n",
       "      <td>0.0</td>\n",
       "      <td>0.0</td>\n",
       "      <td>2.0</td>\n",
       "      <td>0.0</td>\n",
       "      <td>0.0</td>\n",
       "      <td>2.0</td>\n",
       "      <td>99</td>\n",
       "    </tr>\n",
       "    <tr>\n",
       "      <th>3</th>\n",
       "      <td>112526</td>\n",
       "      <td>20180415</td>\n",
       "      <td>0</td>\n",
       "      <td>529640</td>\n",
       "      <td>140</td>\n",
       "      <td>40.0</td>\n",
       "      <td>1</td>\n",
       "      <td>0.0</td>\n",
       "      <td>0.0</td>\n",
       "      <td>0.0</td>\n",
       "      <td>...</td>\n",
       "      <td>0.0</td>\n",
       "      <td>1.0</td>\n",
       "      <td>0.0</td>\n",
       "      <td>0.0</td>\n",
       "      <td>0.0</td>\n",
       "      <td>1.0</td>\n",
       "      <td>0.0</td>\n",
       "      <td>0.0</td>\n",
       "      <td>1.0</td>\n",
       "      <td>104</td>\n",
       "    </tr>\n",
       "    <tr>\n",
       "      <th>4</th>\n",
       "      <td>112526</td>\n",
       "      <td>20180421</td>\n",
       "      <td>1</td>\n",
       "      <td>529718</td>\n",
       "      <td>140</td>\n",
       "      <td>40.0</td>\n",
       "      <td>1</td>\n",
       "      <td>0.0</td>\n",
       "      <td>0.0</td>\n",
       "      <td>0.0</td>\n",
       "      <td>...</td>\n",
       "      <td>0.0</td>\n",
       "      <td>1.0</td>\n",
       "      <td>0.0</td>\n",
       "      <td>0.0</td>\n",
       "      <td>0.0</td>\n",
       "      <td>0.0</td>\n",
       "      <td>2.0</td>\n",
       "      <td>0.0</td>\n",
       "      <td>2.0</td>\n",
       "      <td>110</td>\n",
       "    </tr>\n",
       "    <tr>\n",
       "      <th>...</th>\n",
       "      <td>...</td>\n",
       "      <td>...</td>\n",
       "      <td>...</td>\n",
       "      <td>...</td>\n",
       "      <td>...</td>\n",
       "      <td>...</td>\n",
       "      <td>...</td>\n",
       "      <td>...</td>\n",
       "      <td>...</td>\n",
       "      <td>...</td>\n",
       "      <td>...</td>\n",
       "      <td>...</td>\n",
       "      <td>...</td>\n",
       "      <td>...</td>\n",
       "      <td>...</td>\n",
       "      <td>...</td>\n",
       "      <td>...</td>\n",
       "      <td>...</td>\n",
       "      <td>...</td>\n",
       "      <td>...</td>\n",
       "      <td>...</td>\n",
       "    </tr>\n",
       "    <tr>\n",
       "      <th>182945</th>\n",
       "      <td>685503</td>\n",
       "      <td>20210409</td>\n",
       "      <td>1</td>\n",
       "      <td>634478</td>\n",
       "      <td>140</td>\n",
       "      <td>35.0</td>\n",
       "      <td>1</td>\n",
       "      <td>0.0</td>\n",
       "      <td>0.0</td>\n",
       "      <td>0.0</td>\n",
       "      <td>...</td>\n",
       "      <td>0.0</td>\n",
       "      <td>0.0</td>\n",
       "      <td>0.0</td>\n",
       "      <td>0.0</td>\n",
       "      <td>0.0</td>\n",
       "      <td>0.0</td>\n",
       "      <td>1.0</td>\n",
       "      <td>0.0</td>\n",
       "      <td>1.0</td>\n",
       "      <td>1194</td>\n",
       "    </tr>\n",
       "    <tr>\n",
       "      <th>182946</th>\n",
       "      <td>685503</td>\n",
       "      <td>20210414</td>\n",
       "      <td>0</td>\n",
       "      <td>634496</td>\n",
       "      <td>140</td>\n",
       "      <td>35.0</td>\n",
       "      <td>1</td>\n",
       "      <td>0.0</td>\n",
       "      <td>0.0</td>\n",
       "      <td>0.0</td>\n",
       "      <td>...</td>\n",
       "      <td>0.0</td>\n",
       "      <td>0.0</td>\n",
       "      <td>0.0</td>\n",
       "      <td>0.0</td>\n",
       "      <td>0.0</td>\n",
       "      <td>1.0</td>\n",
       "      <td>0.0</td>\n",
       "      <td>0.0</td>\n",
       "      <td>1.0</td>\n",
       "      <td>1199</td>\n",
       "    </tr>\n",
       "    <tr>\n",
       "      <th>182947</th>\n",
       "      <td>685503</td>\n",
       "      <td>20210419</td>\n",
       "      <td>0</td>\n",
       "      <td>634536</td>\n",
       "      <td>140</td>\n",
       "      <td>35.0</td>\n",
       "      <td>1</td>\n",
       "      <td>0.0</td>\n",
       "      <td>0.0</td>\n",
       "      <td>0.0</td>\n",
       "      <td>...</td>\n",
       "      <td>0.0</td>\n",
       "      <td>0.0</td>\n",
       "      <td>0.0</td>\n",
       "      <td>0.0</td>\n",
       "      <td>0.0</td>\n",
       "      <td>0.0</td>\n",
       "      <td>0.0</td>\n",
       "      <td>0.0</td>\n",
       "      <td>0.0</td>\n",
       "      <td>1204</td>\n",
       "    </tr>\n",
       "    <tr>\n",
       "      <th>182948</th>\n",
       "      <td>685503</td>\n",
       "      <td>20210425</td>\n",
       "      <td>0</td>\n",
       "      <td>634393</td>\n",
       "      <td>140</td>\n",
       "      <td>35.0</td>\n",
       "      <td>1</td>\n",
       "      <td>0.0</td>\n",
       "      <td>0.0</td>\n",
       "      <td>0.0</td>\n",
       "      <td>...</td>\n",
       "      <td>0.0</td>\n",
       "      <td>1.0</td>\n",
       "      <td>0.0</td>\n",
       "      <td>0.0</td>\n",
       "      <td>0.0</td>\n",
       "      <td>0.0</td>\n",
       "      <td>0.0</td>\n",
       "      <td>0.0</td>\n",
       "      <td>0.0</td>\n",
       "      <td>1210</td>\n",
       "    </tr>\n",
       "    <tr>\n",
       "      <th>182949</th>\n",
       "      <td>685503</td>\n",
       "      <td>20210430</td>\n",
       "      <td>1</td>\n",
       "      <td>634337</td>\n",
       "      <td>140</td>\n",
       "      <td>35.0</td>\n",
       "      <td>1</td>\n",
       "      <td>0.0</td>\n",
       "      <td>0.0</td>\n",
       "      <td>0.0</td>\n",
       "      <td>...</td>\n",
       "      <td>0.0</td>\n",
       "      <td>0.0</td>\n",
       "      <td>0.0</td>\n",
       "      <td>0.0</td>\n",
       "      <td>0.0</td>\n",
       "      <td>0.0</td>\n",
       "      <td>0.0</td>\n",
       "      <td>0.0</td>\n",
       "      <td>0.0</td>\n",
       "      <td>1215</td>\n",
       "    </tr>\n",
       "  </tbody>\n",
       "</table>\n",
       "<p>182950 rows × 81 columns</p>\n",
       "</div>"
      ],
      "text/plain": [
       "        playerId      date  home  gamePk  teamId  jerseyNum  positionCode  \\\n",
       "0         112526  20180402     0  529469     140       40.0             1   \n",
       "1         112526  20180408     1  529546     140       40.0             1   \n",
       "2         112526  20180410     1  529565     140       40.0             1   \n",
       "3         112526  20180415     0  529640     140       40.0             1   \n",
       "4         112526  20180421     1  529718     140       40.0             1   \n",
       "...          ...       ...   ...     ...     ...        ...           ...   \n",
       "182945    685503  20210409     1  634478     140       35.0             1   \n",
       "182946    685503  20210414     0  634496     140       35.0             1   \n",
       "182947    685503  20210419     0  634536     140       35.0             1   \n",
       "182948    685503  20210425     0  634393     140       35.0             1   \n",
       "182949    685503  20210430     1  634337     140       35.0             1   \n",
       "\n",
       "        battingOrder  gamesPlayedBatting  flyOuts  ...  sacBuntsPitching  \\\n",
       "0                0.0                 0.0      0.0  ...               0.0   \n",
       "1                0.0                 0.0      0.0  ...               0.0   \n",
       "2                0.0                 0.0      0.0  ...               0.0   \n",
       "3                0.0                 0.0      0.0  ...               0.0   \n",
       "4                0.0                 0.0      0.0  ...               0.0   \n",
       "...              ...                 ...      ...  ...               ...   \n",
       "182945           0.0                 0.0      0.0  ...               0.0   \n",
       "182946           0.0                 0.0      0.0  ...               0.0   \n",
       "182947           0.0                 0.0      0.0  ...               0.0   \n",
       "182948           0.0                 0.0      0.0  ...               0.0   \n",
       "182949           0.0                 0.0      0.0  ...               0.0   \n",
       "\n",
       "        sacFliesPitching  saves  holds  blownSaves  assists  putOuts  errors  \\\n",
       "0                    0.0    0.0    0.0         0.0      1.0      0.0     0.0   \n",
       "1                    0.0    0.0    0.0         0.0      0.0      1.0     0.0   \n",
       "2                    1.0    0.0    0.0         0.0      2.0      0.0     0.0   \n",
       "3                    1.0    0.0    0.0         0.0      1.0      0.0     0.0   \n",
       "4                    1.0    0.0    0.0         0.0      0.0      2.0     0.0   \n",
       "...                  ...    ...    ...         ...      ...      ...     ...   \n",
       "182945               0.0    0.0    0.0         0.0      0.0      1.0     0.0   \n",
       "182946               0.0    0.0    0.0         0.0      1.0      0.0     0.0   \n",
       "182947               0.0    0.0    0.0         0.0      0.0      0.0     0.0   \n",
       "182948               1.0    0.0    0.0         0.0      0.0      0.0     0.0   \n",
       "182949               0.0    0.0    0.0         0.0      0.0      0.0     0.0   \n",
       "\n",
       "        chances  index  \n",
       "0           1.0     91  \n",
       "1           1.0     97  \n",
       "2           2.0     99  \n",
       "3           1.0    104  \n",
       "4           2.0    110  \n",
       "...         ...    ...  \n",
       "182945      1.0   1194  \n",
       "182946      1.0   1199  \n",
       "182947      0.0   1204  \n",
       "182948      0.0   1210  \n",
       "182949      0.0   1215  \n",
       "\n",
       "[182950 rows x 81 columns]"
      ]
     },
     "execution_count": 48,
     "metadata": {},
     "output_type": "execute_result"
    }
   ],
   "source": [
    "scores"
   ]
  },
  {
   "cell_type": "code",
   "execution_count": 49,
   "id": "6173dad1",
   "metadata": {},
   "outputs": [],
   "source": [
    "seasons = seasons.fillna('0000-00-00')\n",
    "for c_ in seasons.columns[1:]:\n",
    "    seasons[c_] = seasons[c_].str.replace('-', '').astype(int)"
   ]
  },
  {
   "cell_type": "code",
   "execution_count": 50,
   "id": "59f9af59",
   "metadata": {},
   "outputs": [],
   "source": [
    "game_dates_range = []\n",
    "game_dates_range.append(np.array([20170101, 20171231]))\n",
    "game_dates_range.append(scores[scores['date'] <= 20181231].sort_values('date')['date'].iloc[[0, -1]].values)\n",
    "game_dates_range.append(scores[(scores['date'] >= 20190101) & (scores['date'] <= 20191231)].sort_values('date')['date'].iloc[[0, -1]].values)\n",
    "game_dates_range.append(scores[(scores['date'] >= 20200101) & (scores['date'] <= 20201231)].sort_values('date')['date'].iloc[[0, -1]].values)\n",
    "game_dates_range.append(scores[(scores['date'] >= 20210101)].sort_values('date')['date'].iloc[[0, -1]].values)\n",
    "game_dates_range = np.array(game_dates_range)"
   ]
  },
  {
   "cell_type": "code",
   "execution_count": 51,
   "id": "459f095c",
   "metadata": {},
   "outputs": [],
   "source": [
    "seasons['gameStartDate'] = game_dates_range[:, 0]\n",
    "seasons['gameEndDate'] = game_dates_range[:, 1]"
   ]
  },
  {
   "cell_type": "code",
   "execution_count": 52,
   "id": "9d73a81a",
   "metadata": {},
   "outputs": [
    {
     "data": {
      "text/html": [
       "<div>\n",
       "<style scoped>\n",
       "    .dataframe tbody tr th:only-of-type {\n",
       "        vertical-align: middle;\n",
       "    }\n",
       "\n",
       "    .dataframe tbody tr th {\n",
       "        vertical-align: top;\n",
       "    }\n",
       "\n",
       "    .dataframe thead th {\n",
       "        text-align: right;\n",
       "    }\n",
       "</style>\n",
       "<table border=\"1\" class=\"dataframe\">\n",
       "  <thead>\n",
       "    <tr style=\"text-align: right;\">\n",
       "      <th></th>\n",
       "      <th>seasonId</th>\n",
       "      <th>seasonStartDate</th>\n",
       "      <th>seasonEndDate</th>\n",
       "      <th>preSeasonStartDate</th>\n",
       "      <th>preSeasonEndDate</th>\n",
       "      <th>regularSeasonStartDate</th>\n",
       "      <th>regularSeasonEndDate</th>\n",
       "      <th>lastDate1stHalf</th>\n",
       "      <th>allStarDate</th>\n",
       "      <th>firstDate2ndHalf</th>\n",
       "      <th>postSeasonStartDate</th>\n",
       "      <th>postSeasonEndDate</th>\n",
       "      <th>gameStartDate</th>\n",
       "      <th>gameEndDate</th>\n",
       "    </tr>\n",
       "  </thead>\n",
       "  <tbody>\n",
       "    <tr>\n",
       "      <th>0</th>\n",
       "      <td>2017</td>\n",
       "      <td>20170402</td>\n",
       "      <td>20171101</td>\n",
       "      <td>20170222</td>\n",
       "      <td>20170401</td>\n",
       "      <td>20170402</td>\n",
       "      <td>20171001</td>\n",
       "      <td>20170709</td>\n",
       "      <td>20170711</td>\n",
       "      <td>20170714</td>\n",
       "      <td>20171003</td>\n",
       "      <td>20171101</td>\n",
       "      <td>20170101</td>\n",
       "      <td>20171231</td>\n",
       "    </tr>\n",
       "    <tr>\n",
       "      <th>1</th>\n",
       "      <td>2018</td>\n",
       "      <td>20180329</td>\n",
       "      <td>20181028</td>\n",
       "      <td>20180221</td>\n",
       "      <td>20180327</td>\n",
       "      <td>20180329</td>\n",
       "      <td>20181001</td>\n",
       "      <td>20180715</td>\n",
       "      <td>20180717</td>\n",
       "      <td>20180719</td>\n",
       "      <td>20181002</td>\n",
       "      <td>20181028</td>\n",
       "      <td>20180329</td>\n",
       "      <td>20181028</td>\n",
       "    </tr>\n",
       "    <tr>\n",
       "      <th>2</th>\n",
       "      <td>2019</td>\n",
       "      <td>20190320</td>\n",
       "      <td>20191030</td>\n",
       "      <td>20190221</td>\n",
       "      <td>20190326</td>\n",
       "      <td>20190320</td>\n",
       "      <td>20190929</td>\n",
       "      <td>20190707</td>\n",
       "      <td>20190709</td>\n",
       "      <td>20190711</td>\n",
       "      <td>20191001</td>\n",
       "      <td>20191030</td>\n",
       "      <td>20190320</td>\n",
       "      <td>20191030</td>\n",
       "    </tr>\n",
       "    <tr>\n",
       "      <th>3</th>\n",
       "      <td>2020</td>\n",
       "      <td>20200723</td>\n",
       "      <td>20201028</td>\n",
       "      <td>20200221</td>\n",
       "      <td>20200722</td>\n",
       "      <td>20200723</td>\n",
       "      <td>20200927</td>\n",
       "      <td>20200825</td>\n",
       "      <td>0</td>\n",
       "      <td>20200826</td>\n",
       "      <td>20200929</td>\n",
       "      <td>20201028</td>\n",
       "      <td>20200723</td>\n",
       "      <td>20201027</td>\n",
       "    </tr>\n",
       "    <tr>\n",
       "      <th>4</th>\n",
       "      <td>2021</td>\n",
       "      <td>20210228</td>\n",
       "      <td>20211031</td>\n",
       "      <td>20210228</td>\n",
       "      <td>20210330</td>\n",
       "      <td>20210401</td>\n",
       "      <td>20211003</td>\n",
       "      <td>20210711</td>\n",
       "      <td>20210713</td>\n",
       "      <td>20210715</td>\n",
       "      <td>20211004</td>\n",
       "      <td>20211031</td>\n",
       "      <td>20210401</td>\n",
       "      <td>20210430</td>\n",
       "    </tr>\n",
       "  </tbody>\n",
       "</table>\n",
       "</div>"
      ],
      "text/plain": [
       "   seasonId  seasonStartDate  seasonEndDate  preSeasonStartDate  \\\n",
       "0      2017         20170402       20171101            20170222   \n",
       "1      2018         20180329       20181028            20180221   \n",
       "2      2019         20190320       20191030            20190221   \n",
       "3      2020         20200723       20201028            20200221   \n",
       "4      2021         20210228       20211031            20210228   \n",
       "\n",
       "   preSeasonEndDate  regularSeasonStartDate  regularSeasonEndDate  \\\n",
       "0          20170401                20170402              20171001   \n",
       "1          20180327                20180329              20181001   \n",
       "2          20190326                20190320              20190929   \n",
       "3          20200722                20200723              20200927   \n",
       "4          20210330                20210401              20211003   \n",
       "\n",
       "   lastDate1stHalf  allStarDate  firstDate2ndHalf  postSeasonStartDate  \\\n",
       "0         20170709     20170711          20170714             20171003   \n",
       "1         20180715     20180717          20180719             20181002   \n",
       "2         20190707     20190709          20190711             20191001   \n",
       "3         20200825            0          20200826             20200929   \n",
       "4         20210711     20210713          20210715             20211004   \n",
       "\n",
       "   postSeasonEndDate  gameStartDate  gameEndDate  \n",
       "0           20171101       20170101     20171231  \n",
       "1           20181028       20180329     20181028  \n",
       "2           20191030       20190320     20191030  \n",
       "3           20201028       20200723     20201027  \n",
       "4           20211031       20210401     20210430  "
      ]
     },
     "execution_count": 52,
     "metadata": {},
     "output_type": "execute_result"
    }
   ],
   "source": [
    "seasons"
   ]
  },
  {
   "cell_type": "code",
   "execution_count": 53,
   "id": "290e4a82",
   "metadata": {},
   "outputs": [],
   "source": [
    "targets_train = targets.merge(rosters[rosters_cols], on=['playerId', 'date'], how='left')"
   ]
  },
  {
   "cell_type": "code",
   "execution_count": 54,
   "id": "02bf4ce5",
   "metadata": {},
   "outputs": [],
   "source": [
    "targets_train = targets_train[(targets_train['date'] >= 20210401)]"
   ]
  },
  {
   "cell_type": "code",
   "execution_count": 55,
   "id": "178e2386",
   "metadata": {},
   "outputs": [
    {
     "data": {
      "text/html": [
       "<div>\n",
       "<style scoped>\n",
       "    .dataframe tbody tr th:only-of-type {\n",
       "        vertical-align: middle;\n",
       "    }\n",
       "\n",
       "    .dataframe tbody tr th {\n",
       "        vertical-align: top;\n",
       "    }\n",
       "\n",
       "    .dataframe thead th {\n",
       "        text-align: right;\n",
       "    }\n",
       "</style>\n",
       "<table border=\"1\" class=\"dataframe\">\n",
       "  <thead>\n",
       "    <tr style=\"text-align: right;\">\n",
       "      <th></th>\n",
       "      <th>engagementMetricsDate</th>\n",
       "      <th>playerId</th>\n",
       "      <th>target1</th>\n",
       "      <th>target2</th>\n",
       "      <th>target3</th>\n",
       "      <th>target4</th>\n",
       "      <th>index</th>\n",
       "      <th>date</th>\n",
       "      <th>teamId</th>\n",
       "      <th>status</th>\n",
       "    </tr>\n",
       "  </thead>\n",
       "  <tbody>\n",
       "    <tr>\n",
       "      <th>2444346</th>\n",
       "      <td>2021-04-02</td>\n",
       "      <td>624415</td>\n",
       "      <td>2.810640</td>\n",
       "      <td>3.998462</td>\n",
       "      <td>0.136137</td>\n",
       "      <td>10.012438</td>\n",
       "      <td>1186</td>\n",
       "      <td>20210401</td>\n",
       "      <td>141.0</td>\n",
       "      <td>Active</td>\n",
       "    </tr>\n",
       "    <tr>\n",
       "      <th>2444347</th>\n",
       "      <td>2021-04-02</td>\n",
       "      <td>656548</td>\n",
       "      <td>0.000000</td>\n",
       "      <td>0.153787</td>\n",
       "      <td>0.068889</td>\n",
       "      <td>0.062189</td>\n",
       "      <td>1186</td>\n",
       "      <td>20210401</td>\n",
       "      <td>146.0</td>\n",
       "      <td>Reassigned to Minors</td>\n",
       "    </tr>\n",
       "    <tr>\n",
       "      <th>2444348</th>\n",
       "      <td>2021-04-02</td>\n",
       "      <td>400284</td>\n",
       "      <td>0.000971</td>\n",
       "      <td>0.010985</td>\n",
       "      <td>0.021323</td>\n",
       "      <td>3.182007</td>\n",
       "      <td>1186</td>\n",
       "      <td>20210401</td>\n",
       "      <td>NaN</td>\n",
       "      <td>NaN</td>\n",
       "    </tr>\n",
       "    <tr>\n",
       "      <th>2444349</th>\n",
       "      <td>2021-04-02</td>\n",
       "      <td>606157</td>\n",
       "      <td>0.002736</td>\n",
       "      <td>1.642226</td>\n",
       "      <td>0.021323</td>\n",
       "      <td>0.549337</td>\n",
       "      <td>1186</td>\n",
       "      <td>20210401</td>\n",
       "      <td>113.0</td>\n",
       "      <td>Active</td>\n",
       "    </tr>\n",
       "    <tr>\n",
       "      <th>2444350</th>\n",
       "      <td>2021-04-02</td>\n",
       "      <td>665620</td>\n",
       "      <td>0.020473</td>\n",
       "      <td>0.411929</td>\n",
       "      <td>0.549469</td>\n",
       "      <td>0.435323</td>\n",
       "      <td>1186</td>\n",
       "      <td>20210401</td>\n",
       "      <td>147.0</td>\n",
       "      <td>Reassigned to Minors</td>\n",
       "    </tr>\n",
       "    <tr>\n",
       "      <th>...</th>\n",
       "      <td>...</td>\n",
       "      <td>...</td>\n",
       "      <td>...</td>\n",
       "      <td>...</td>\n",
       "      <td>...</td>\n",
       "      <td>...</td>\n",
       "      <td>...</td>\n",
       "      <td>...</td>\n",
       "      <td>...</td>\n",
       "      <td>...</td>\n",
       "    </tr>\n",
       "    <tr>\n",
       "      <th>2506171</th>\n",
       "      <td>2021-05-01</td>\n",
       "      <td>451661</td>\n",
       "      <td>0.000000</td>\n",
       "      <td>0.013314</td>\n",
       "      <td>0.000000</td>\n",
       "      <td>0.625925</td>\n",
       "      <td>1215</td>\n",
       "      <td>20210430</td>\n",
       "      <td>NaN</td>\n",
       "      <td>NaN</td>\n",
       "    </tr>\n",
       "    <tr>\n",
       "      <th>2506172</th>\n",
       "      <td>2021-05-01</td>\n",
       "      <td>519301</td>\n",
       "      <td>0.000131</td>\n",
       "      <td>0.003329</td>\n",
       "      <td>0.000000</td>\n",
       "      <td>0.216229</td>\n",
       "      <td>1215</td>\n",
       "      <td>20210430</td>\n",
       "      <td>NaN</td>\n",
       "      <td>NaN</td>\n",
       "    </tr>\n",
       "    <tr>\n",
       "      <th>2506173</th>\n",
       "      <td>2021-05-01</td>\n",
       "      <td>527055</td>\n",
       "      <td>0.000000</td>\n",
       "      <td>0.019971</td>\n",
       "      <td>0.000000</td>\n",
       "      <td>0.273131</td>\n",
       "      <td>1215</td>\n",
       "      <td>20210430</td>\n",
       "      <td>NaN</td>\n",
       "      <td>NaN</td>\n",
       "    </tr>\n",
       "    <tr>\n",
       "      <th>2506174</th>\n",
       "      <td>2021-05-01</td>\n",
       "      <td>543484</td>\n",
       "      <td>0.000131</td>\n",
       "      <td>0.056586</td>\n",
       "      <td>0.000000</td>\n",
       "      <td>1.024240</td>\n",
       "      <td>1215</td>\n",
       "      <td>20210430</td>\n",
       "      <td>NaN</td>\n",
       "      <td>NaN</td>\n",
       "    </tr>\n",
       "    <tr>\n",
       "      <th>2506175</th>\n",
       "      <td>2021-05-01</td>\n",
       "      <td>605525</td>\n",
       "      <td>0.000131</td>\n",
       "      <td>0.499284</td>\n",
       "      <td>0.000000</td>\n",
       "      <td>0.386935</td>\n",
       "      <td>1215</td>\n",
       "      <td>20210430</td>\n",
       "      <td>133.0</td>\n",
       "      <td>Active</td>\n",
       "    </tr>\n",
       "  </tbody>\n",
       "</table>\n",
       "<p>61830 rows × 10 columns</p>\n",
       "</div>"
      ],
      "text/plain": [
       "        engagementMetricsDate  playerId   target1   target2   target3  \\\n",
       "2444346            2021-04-02    624415  2.810640  3.998462  0.136137   \n",
       "2444347            2021-04-02    656548  0.000000  0.153787  0.068889   \n",
       "2444348            2021-04-02    400284  0.000971  0.010985  0.021323   \n",
       "2444349            2021-04-02    606157  0.002736  1.642226  0.021323   \n",
       "2444350            2021-04-02    665620  0.020473  0.411929  0.549469   \n",
       "...                       ...       ...       ...       ...       ...   \n",
       "2506171            2021-05-01    451661  0.000000  0.013314  0.000000   \n",
       "2506172            2021-05-01    519301  0.000131  0.003329  0.000000   \n",
       "2506173            2021-05-01    527055  0.000000  0.019971  0.000000   \n",
       "2506174            2021-05-01    543484  0.000131  0.056586  0.000000   \n",
       "2506175            2021-05-01    605525  0.000131  0.499284  0.000000   \n",
       "\n",
       "           target4  index      date  teamId                status  \n",
       "2444346  10.012438   1186  20210401   141.0                Active  \n",
       "2444347   0.062189   1186  20210401   146.0  Reassigned to Minors  \n",
       "2444348   3.182007   1186  20210401     NaN                   NaN  \n",
       "2444349   0.549337   1186  20210401   113.0                Active  \n",
       "2444350   0.435323   1186  20210401   147.0  Reassigned to Minors  \n",
       "...            ...    ...       ...     ...                   ...  \n",
       "2506171   0.625925   1215  20210430     NaN                   NaN  \n",
       "2506172   0.216229   1215  20210430     NaN                   NaN  \n",
       "2506173   0.273131   1215  20210430     NaN                   NaN  \n",
       "2506174   1.024240   1215  20210430     NaN                   NaN  \n",
       "2506175   0.386935   1215  20210430   133.0                Active  \n",
       "\n",
       "[61830 rows x 10 columns]"
      ]
     },
     "execution_count": 55,
     "metadata": {},
     "output_type": "execute_result"
    }
   ],
   "source": [
    "targets_train"
   ]
  },
  {
   "cell_type": "code",
   "execution_count": 56,
   "id": "03ccf792",
   "metadata": {},
   "outputs": [],
   "source": [
    "playerId_list = targets_train['playerId'].unique()"
   ]
  },
  {
   "cell_type": "code",
   "execution_count": 57,
   "id": "e17da088",
   "metadata": {},
   "outputs": [],
   "source": [
    "def calc_corr(df):\n",
    "    # 相関係数行列を作成\n",
    "    corr_mat = df.corr(method='pearson')\n",
    "\n",
    "    # 行（列）サイズを取得\n",
    "    n = corr_mat.shape[0]\n",
    "    corr_ary = []\n",
    "\n",
    "    for i in range(n):\n",
    "        for j in range(i):\n",
    "            if i == j:\n",
    "                continue\n",
    "            corr_ary.append(corr_mat.iloc[i,j])\n",
    "\n",
    "    return corr_ary"
   ]
  },
  {
   "cell_type": "code",
   "execution_count": 58,
   "id": "54163f08",
   "metadata": {},
   "outputs": [
    {
     "name": "stderr",
     "output_type": "stream",
     "text": [
      "100%|██████████| 2061/2061 [00:46<00:00, 44.71it/s]\n"
     ]
    }
   ],
   "source": [
    "def calc_probs(pid,df,temp):\n",
    "    to_append=[pid,'','','','','','','','','','','','','','','','','','','','','','','','','','','','','','','','','','']\n",
    "    targets=['target1','target2','target3','target4']\n",
    "    z=1\n",
    "    for target in targets:\n",
    "        target_prob = temp[target].tolist()\n",
    "        mean = np.mean(target_prob)\n",
    "        std = np.std(target_prob)\n",
    "        median = st.median(target_prob)\n",
    "        distribution = norm(mean, std)\n",
    "        min_weight = min(target_prob)\n",
    "        max_weight = max(target_prob)\n",
    "        values = list(np.linspace(min_weight, max_weight))\n",
    "        probabilities = [distribution.pdf(v) for v in values]\n",
    "        max_value = max(probabilities)\n",
    "        max_index = probabilities.index(max_value)\n",
    "        to_append[z]=mean\n",
    "        to_append[z+1]=median\n",
    "        to_append[z+2]=std\n",
    "        to_append[z+3]=min_weight\n",
    "        to_append[z+4]=max_weight\n",
    "        to_append[z+5]=temp[target].skew()\n",
    "        to_append[z+6]=temp[target].kurt()\n",
    "\n",
    "        z=z+7\n",
    "    corr_ = calc_corr(temp[['target1', 'target2', 'target3', 'target4']])\n",
    "    to_append[z:] = corr_  \n",
    "    df_length = len(df)\n",
    "    df.loc[df_length] = to_append\n",
    "    return df\n",
    "\n",
    "    \n",
    "\n",
    "### CREATE DATAFRAME to store probabilities\n",
    "column_names = [\"playerId\", \"target1_mean\",\"target1_median\",\"target1_std\",\"target1_min\",\"target1_max\",\"target1_skew\",\"target1_kurt\",\n",
    "                \"target2_mean\",\"target2_median\",\"target2_std\",\"target2_min\",\"target2_max\",\"target2_skew\",\"target2_kurt\",\n",
    "                \"target3_mean\",\"target3_median\",\"target3_std\",\"target3_min\",\"target3_max\",\"target3_skew\",\"target3_kurt\",\n",
    "                \"target4_mean\",\"target4_median\",\"target4_std\",\"target4_min\",\"target4_max\",\"target4_skew\",\"target4_kurt\",\n",
    "                'tgt1_2_corr', 'tgt1_3_corr', 'tgt2_3_corr', 'tgt1_4_corr', 'tgt2_4_corr', 'tgt3_4_corr']\n",
    "player_target_probs = pd.DataFrame(columns = column_names)\n",
    "    \n",
    "for pid in tqdm(playerId_list):\n",
    "    temp = targets_train[targets_train['playerId'] == pid]\n",
    "    player_target_stats=calc_probs(pid,player_target_probs,temp)"
   ]
  },
  {
   "cell_type": "code",
   "execution_count": 59,
   "id": "9ed9022e",
   "metadata": {},
   "outputs": [],
   "source": [
    "teamId_list = targets_train['teamId'].dropna().unique()"
   ]
  },
  {
   "cell_type": "code",
   "execution_count": 60,
   "id": "cbcb92f6",
   "metadata": {},
   "outputs": [
    {
     "name": "stderr",
     "output_type": "stream",
     "text": [
      "100%|██████████| 30/30 [00:00<00:00, 42.06it/s]\n"
     ]
    }
   ],
   "source": [
    "team_target_probs = pd.DataFrame(columns = column_names)\n",
    "    \n",
    "for pid in tqdm(teamId_list):\n",
    "    temp = targets_train[targets_train['teamId'] == pid]\n",
    "    team_target_stats=calc_probs(pid,team_target_probs,temp)"
   ]
  },
  {
   "cell_type": "code",
   "execution_count": 61,
   "id": "833e37d5",
   "metadata": {},
   "outputs": [],
   "source": [
    "c_ = list(team_target_stats.columns)\n",
    "c_ = c_[:1] + [\"team_\" + word for word in c_[1:]]\n",
    "team_target_stats.columns = c_"
   ]
  },
  {
   "cell_type": "code",
   "execution_count": 62,
   "id": "fa48e45c",
   "metadata": {},
   "outputs": [],
   "source": [
    "feature_cols1 += c_[1:]\n",
    "feature_cols2 += c_[1:]\n",
    "feature_cols3 += c_[1:]\n",
    "feature_cols4 += c_[1:]"
   ]
  },
  {
   "cell_type": "code",
   "execution_count": 63,
   "id": "41e56231",
   "metadata": {},
   "outputs": [],
   "source": [
    "data_names=player_target_stats.columns.values.tolist()"
   ]
  },
  {
   "cell_type": "code",
   "execution_count": 64,
   "id": "d30c1019",
   "metadata": {},
   "outputs": [],
   "source": [
    "players['DOY'] = pd.to_datetime(players['DOB'], format=\"%Y-%m-%d\").dt.year\n",
    "players['mlbDebutYear'] = pd.to_datetime(players['mlbDebutDate'], format=\"%Y-%m-%d\").dt.year\n",
    "players['DebutAge'] = players['mlbDebutYear'] - players['DOY']"
   ]
  },
  {
   "cell_type": "code",
   "execution_count": 65,
   "id": "f1b25c53",
   "metadata": {},
   "outputs": [],
   "source": [
    "# creat dataset\n",
    "train = targets[targets_cols].merge(players[players_cols], on=['playerId'], how='left')\n",
    "train = train.merge(rosters[rosters_cols], on=['playerId', 'date'], how='left')\n",
    "train = train.merge(scores[scores_cols], on=['playerId', 'date'], how='left')\n",
    "train = train.merge(player_target_stats, how='inner', left_on=[\"playerId\"],right_on=[\"playerId\"])\n",
    "train = train.merge(standings[standings_cols], on=['teamId', 'date'], how='left')\n",
    "train = train.merge(team_target_stats, how='left', left_on=[\"teamId\"],right_on=[\"playerId\"], suffixes=('', 'team_'))"
   ]
  },
  {
   "cell_type": "code",
   "execution_count": 66,
   "id": "53c44aa0",
   "metadata": {},
   "outputs": [],
   "source": [
    "# label encoding\n",
    "player2num = {c: i for i, c in enumerate(train['playerId'].unique())}\n",
    "position2num = {c: i for i, c in enumerate(train['primaryPositionName'].unique())}\n",
    "birthCityn2num = {c: i for i, c in enumerate(train['birthCity'].unique())}\n",
    "teamid2num = {c: i for i, c in enumerate(train['teamId'].unique())}\n",
    "status2num = {c: i for i, c in enumerate(train['status'].unique())}\n",
    "train['label_playerId'] = train['playerId'].map(player2num)\n",
    "train['label_primaryPositionName'] = train['primaryPositionName'].map(position2num)\n",
    "train['label_birthCity'] = train['birthCity'].map(birthCityn2num)\n",
    "train['label_teamId'] = train['teamId'].map(teamid2num)\n",
    "train['label_status'] = train['status'].map(status2num)"
   ]
  },
  {
   "cell_type": "code",
   "execution_count": 67,
   "id": "36c2cd80",
   "metadata": {},
   "outputs": [],
   "source": [
    "date_ = pd.to_datetime(train['date'], format=\"%Y%m%d\")\n",
    "train['annual_day'] = (date_ - pd.to_datetime(date_.dt.year, format=\"%Y\")) /  timedelta(days=1)\n",
    "train['week_day'] = date_.dt.weekday\n",
    "train['month'] = date_.dt.month"
   ]
  },
  {
   "cell_type": "code",
   "execution_count": 68,
   "id": "adfd3edb",
   "metadata": {},
   "outputs": [],
   "source": [
    "train['gameday'] = ~train['battingOrder'].isna()*1"
   ]
  },
  {
   "cell_type": "code",
   "execution_count": 69,
   "id": "80d0e0b4",
   "metadata": {},
   "outputs": [],
   "source": [
    "train.sort_values(by=['playerId','date'],inplace=True,ascending=True)"
   ]
  },
  {
   "cell_type": "code",
   "execution_count": 70,
   "id": "222920b3",
   "metadata": {},
   "outputs": [],
   "source": [
    "def count_consecutive_items_n_cols(df, col_name_list, output_col):\n",
    "    cum_sum_list = [\n",
    "        (df[col_name] != df[col_name].shift(1)).cumsum().tolist() for col_name in col_name_list\n",
    "    ]\n",
    "    df[output_col] = df.groupby(\n",
    "        [\"_\".join(map(str, x)) for x in zip(*cum_sum_list)]\n",
    "    ).cumcount() + 1\n",
    "    return df"
   ]
  },
  {
   "cell_type": "code",
   "execution_count": 71,
   "id": "74081fea",
   "metadata": {},
   "outputs": [],
   "source": [
    "train=count_consecutive_items_n_cols(train,['playerId','gameday'],'daysSinceLastGame')\n",
    "train.loc[train['gameday']==1,'daysSinceLastGame']=0"
   ]
  },
  {
   "cell_type": "code",
   "execution_count": 72,
   "id": "416ad414",
   "metadata": {},
   "outputs": [],
   "source": [
    "train_game = train[train['gameday']==1]\n",
    "train_last_game = train_game[~train_game.duplicated(subset='playerId', keep='last')][['playerId', 'date']]\n",
    "train_last_game.columns = ['playerId', 'lastdate']\n",
    "train_player_unique = pd.DataFrame(train['playerId'].unique(), columns=['playerId'])\n",
    "train_last_game = pd.merge(train_player_unique, train_last_game, on=['playerId'], how='left' )\n",
    "train_last_game = train_last_game.fillna(20171231)"
   ]
  },
  {
   "cell_type": "code",
   "execution_count": 73,
   "id": "ad0c419c",
   "metadata": {},
   "outputs": [
    {
     "data": {
      "text/html": [
       "<div>\n",
       "<style scoped>\n",
       "    .dataframe tbody tr th:only-of-type {\n",
       "        vertical-align: middle;\n",
       "    }\n",
       "\n",
       "    .dataframe tbody tr th {\n",
       "        vertical-align: top;\n",
       "    }\n",
       "\n",
       "    .dataframe thead th {\n",
       "        text-align: right;\n",
       "    }\n",
       "</style>\n",
       "<table border=\"1\" class=\"dataframe\">\n",
       "  <thead>\n",
       "    <tr style=\"text-align: right;\">\n",
       "      <th></th>\n",
       "      <th>playerId</th>\n",
       "      <th>lastdate</th>\n",
       "    </tr>\n",
       "  </thead>\n",
       "  <tbody>\n",
       "    <tr>\n",
       "      <th>856</th>\n",
       "      <td>593590</td>\n",
       "      <td>20171231.0</td>\n",
       "    </tr>\n",
       "    <tr>\n",
       "      <th>1995</th>\n",
       "      <td>670462</td>\n",
       "      <td>20171231.0</td>\n",
       "    </tr>\n",
       "    <tr>\n",
       "      <th>2000</th>\n",
       "      <td>670764</td>\n",
       "      <td>20171231.0</td>\n",
       "    </tr>\n",
       "    <tr>\n",
       "      <th>1765</th>\n",
       "      <td>661269</td>\n",
       "      <td>20171231.0</td>\n",
       "    </tr>\n",
       "    <tr>\n",
       "      <th>1932</th>\n",
       "      <td>667674</td>\n",
       "      <td>20171231.0</td>\n",
       "    </tr>\n",
       "    <tr>\n",
       "      <th>...</th>\n",
       "      <td>...</td>\n",
       "      <td>...</td>\n",
       "    </tr>\n",
       "    <tr>\n",
       "      <th>473</th>\n",
       "      <td>542932</td>\n",
       "      <td>20210430.0</td>\n",
       "    </tr>\n",
       "    <tr>\n",
       "      <th>1480</th>\n",
       "      <td>641856</td>\n",
       "      <td>20210430.0</td>\n",
       "    </tr>\n",
       "    <tr>\n",
       "      <th>1481</th>\n",
       "      <td>641857</td>\n",
       "      <td>20210430.0</td>\n",
       "    </tr>\n",
       "    <tr>\n",
       "      <th>483</th>\n",
       "      <td>543037</td>\n",
       "      <td>20210430.0</td>\n",
       "    </tr>\n",
       "    <tr>\n",
       "      <th>2060</th>\n",
       "      <td>685503</td>\n",
       "      <td>20210430.0</td>\n",
       "    </tr>\n",
       "  </tbody>\n",
       "</table>\n",
       "<p>2061 rows × 2 columns</p>\n",
       "</div>"
      ],
      "text/plain": [
       "      playerId    lastdate\n",
       "856     593590  20171231.0\n",
       "1995    670462  20171231.0\n",
       "2000    670764  20171231.0\n",
       "1765    661269  20171231.0\n",
       "1932    667674  20171231.0\n",
       "...        ...         ...\n",
       "473     542932  20210430.0\n",
       "1480    641856  20210430.0\n",
       "1481    641857  20210430.0\n",
       "483     543037  20210430.0\n",
       "2060    685503  20210430.0\n",
       "\n",
       "[2061 rows x 2 columns]"
      ]
     },
     "execution_count": 73,
     "metadata": {},
     "output_type": "execute_result"
    }
   ],
   "source": [
    "train_last_game.sort_values('lastdate')"
   ]
  },
  {
   "cell_type": "code",
   "execution_count": 74,
   "id": "fa3f1dd7",
   "metadata": {},
   "outputs": [],
   "source": [
    "def extract_season(date_raw, season_start_end):\n",
    "    idxes = 0\n",
    "    for raw in season_start_end.iloc():\n",
    "        idx_ = ((date_raw >= raw.iloc[0]) & (date_raw <= raw.iloc[1])) * 1\n",
    "        idxes += idx_\n",
    "    return idxes"
   ]
  },
  {
   "cell_type": "code",
   "execution_count": 75,
   "id": "daddc91b",
   "metadata": {},
   "outputs": [],
   "source": [
    "on_preseason_idxes = extract_season(train['date'], seasons[['preSeasonStartDate', 'preSeasonEndDate']])\n",
    "on_season_idxes = extract_season(train['date'], seasons[['regularSeasonStartDate', 'regularSeasonEndDate']]) * 2\n",
    "on_postseason_idxes = extract_season(train['date'], seasons[['postSeasonStartDate', 'postSeasonEndDate']]) * 3\n",
    "\n",
    "special_days = seasons['lastDate1stHalf'].to_list() + seasons['allStarDate'].to_list() + seasons['firstDate2ndHalf'].to_list()\n",
    "special_idxes = 0\n",
    "for day in special_days:\n",
    "    special_idxes += (train['date'] == day) * 4\n",
    "\n",
    "on_total_season_idxes = on_preseason_idxes\n",
    "on_total_season_idxes[on_season_idxes==2] = 2\n",
    "on_total_season_idxes[on_postseason_idxes==3] = 3\n",
    "on_total_season_idxes[special_idxes==4] = 4\n",
    "\n",
    "train['season_info'] = on_total_season_idxes"
   ]
  },
  {
   "cell_type": "code",
   "execution_count": 76,
   "id": "2475e0bc",
   "metadata": {},
   "outputs": [],
   "source": [
    "## only on season\n",
    "on_whole_idxes = extract_season(train['date'], seasons[['seasonStartDate', 'seasonEndDate']])\n",
    "train = train[on_whole_idxes == 1].reset_index(drop=True)"
   ]
  },
  {
   "cell_type": "code",
   "execution_count": 77,
   "id": "6327f117",
   "metadata": {},
   "outputs": [],
   "source": [
    "train = train[train['playerForTestSetAndFuturePreds']==True].reset_index(drop=True)"
   ]
  },
  {
   "cell_type": "code",
   "execution_count": 78,
   "id": "cb1172ef",
   "metadata": {},
   "outputs": [
    {
     "data": {
      "text/html": [
       "<div>\n",
       "<style scoped>\n",
       "    .dataframe tbody tr th:only-of-type {\n",
       "        vertical-align: middle;\n",
       "    }\n",
       "\n",
       "    .dataframe tbody tr th {\n",
       "        vertical-align: top;\n",
       "    }\n",
       "\n",
       "    .dataframe thead th {\n",
       "        text-align: right;\n",
       "    }\n",
       "</style>\n",
       "<table border=\"1\" class=\"dataframe\">\n",
       "  <thead>\n",
       "    <tr style=\"text-align: right;\">\n",
       "      <th></th>\n",
       "      <th>playerId</th>\n",
       "      <th>target1</th>\n",
       "      <th>target2</th>\n",
       "      <th>target3</th>\n",
       "      <th>target4</th>\n",
       "      <th>date</th>\n",
       "      <th>primaryPositionName</th>\n",
       "      <th>birthCity</th>\n",
       "      <th>DOY</th>\n",
       "      <th>mlbDebutYear</th>\n",
       "      <th>...</th>\n",
       "      <th>label_primaryPositionName</th>\n",
       "      <th>label_birthCity</th>\n",
       "      <th>label_teamId</th>\n",
       "      <th>label_status</th>\n",
       "      <th>annual_day</th>\n",
       "      <th>week_day</th>\n",
       "      <th>month</th>\n",
       "      <th>gameday</th>\n",
       "      <th>daysSinceLastGame</th>\n",
       "      <th>season_info</th>\n",
       "    </tr>\n",
       "  </thead>\n",
       "  <tbody>\n",
       "    <tr>\n",
       "      <th>0</th>\n",
       "      <td>405395</td>\n",
       "      <td>1.916353</td>\n",
       "      <td>21.512858</td>\n",
       "      <td>0.078997</td>\n",
       "      <td>7.389917</td>\n",
       "      <td>20180329</td>\n",
       "      <td>First Base</td>\n",
       "      <td>Santo Domingo</td>\n",
       "      <td>1980</td>\n",
       "      <td>2001.0</td>\n",
       "      <td>...</td>\n",
       "      <td>1</td>\n",
       "      <td>52</td>\n",
       "      <td>8</td>\n",
       "      <td>0</td>\n",
       "      <td>87.0</td>\n",
       "      <td>3</td>\n",
       "      <td>3</td>\n",
       "      <td>1</td>\n",
       "      <td>0</td>\n",
       "      <td>2</td>\n",
       "    </tr>\n",
       "    <tr>\n",
       "      <th>1</th>\n",
       "      <td>405395</td>\n",
       "      <td>2.431219</td>\n",
       "      <td>38.280184</td>\n",
       "      <td>0.080521</td>\n",
       "      <td>10.307364</td>\n",
       "      <td>20180330</td>\n",
       "      <td>First Base</td>\n",
       "      <td>Santo Domingo</td>\n",
       "      <td>1980</td>\n",
       "      <td>2001.0</td>\n",
       "      <td>...</td>\n",
       "      <td>1</td>\n",
       "      <td>52</td>\n",
       "      <td>8</td>\n",
       "      <td>0</td>\n",
       "      <td>88.0</td>\n",
       "      <td>4</td>\n",
       "      <td>3</td>\n",
       "      <td>1</td>\n",
       "      <td>0</td>\n",
       "      <td>2</td>\n",
       "    </tr>\n",
       "    <tr>\n",
       "      <th>2</th>\n",
       "      <td>405395</td>\n",
       "      <td>4.890499</td>\n",
       "      <td>18.149785</td>\n",
       "      <td>0.196634</td>\n",
       "      <td>19.190820</td>\n",
       "      <td>20180331</td>\n",
       "      <td>First Base</td>\n",
       "      <td>Santo Domingo</td>\n",
       "      <td>1980</td>\n",
       "      <td>2001.0</td>\n",
       "      <td>...</td>\n",
       "      <td>1</td>\n",
       "      <td>52</td>\n",
       "      <td>8</td>\n",
       "      <td>0</td>\n",
       "      <td>89.0</td>\n",
       "      <td>5</td>\n",
       "      <td>3</td>\n",
       "      <td>1</td>\n",
       "      <td>0</td>\n",
       "      <td>2</td>\n",
       "    </tr>\n",
       "    <tr>\n",
       "      <th>3</th>\n",
       "      <td>405395</td>\n",
       "      <td>0.061685</td>\n",
       "      <td>21.539123</td>\n",
       "      <td>0.215855</td>\n",
       "      <td>28.610586</td>\n",
       "      <td>20180401</td>\n",
       "      <td>First Base</td>\n",
       "      <td>Santo Domingo</td>\n",
       "      <td>1980</td>\n",
       "      <td>2001.0</td>\n",
       "      <td>...</td>\n",
       "      <td>1</td>\n",
       "      <td>52</td>\n",
       "      <td>8</td>\n",
       "      <td>0</td>\n",
       "      <td>90.0</td>\n",
       "      <td>6</td>\n",
       "      <td>4</td>\n",
       "      <td>1</td>\n",
       "      <td>0</td>\n",
       "      <td>2</td>\n",
       "    </tr>\n",
       "    <tr>\n",
       "      <th>4</th>\n",
       "      <td>405395</td>\n",
       "      <td>0.021304</td>\n",
       "      <td>19.234421</td>\n",
       "      <td>0.217329</td>\n",
       "      <td>20.419970</td>\n",
       "      <td>20180402</td>\n",
       "      <td>First Base</td>\n",
       "      <td>Santo Domingo</td>\n",
       "      <td>1980</td>\n",
       "      <td>2001.0</td>\n",
       "      <td>...</td>\n",
       "      <td>1</td>\n",
       "      <td>52</td>\n",
       "      <td>8</td>\n",
       "      <td>0</td>\n",
       "      <td>91.0</td>\n",
       "      <td>0</td>\n",
       "      <td>4</td>\n",
       "      <td>1</td>\n",
       "      <td>0</td>\n",
       "      <td>2</td>\n",
       "    </tr>\n",
       "    <tr>\n",
       "      <th>...</th>\n",
       "      <td>...</td>\n",
       "      <td>...</td>\n",
       "      <td>...</td>\n",
       "      <td>...</td>\n",
       "      <td>...</td>\n",
       "      <td>...</td>\n",
       "      <td>...</td>\n",
       "      <td>...</td>\n",
       "      <td>...</td>\n",
       "      <td>...</td>\n",
       "      <td>...</td>\n",
       "      <td>...</td>\n",
       "      <td>...</td>\n",
       "      <td>...</td>\n",
       "      <td>...</td>\n",
       "      <td>...</td>\n",
       "      <td>...</td>\n",
       "      <td>...</td>\n",
       "      <td>...</td>\n",
       "      <td>...</td>\n",
       "      <td>...</td>\n",
       "    </tr>\n",
       "    <tr>\n",
       "      <th>711008</th>\n",
       "      <td>685503</td>\n",
       "      <td>0.044617</td>\n",
       "      <td>1.224728</td>\n",
       "      <td>0.009437</td>\n",
       "      <td>0.737463</td>\n",
       "      <td>20210426</td>\n",
       "      <td>Pitcher</td>\n",
       "      <td>Hiroshima</td>\n",
       "      <td>1992</td>\n",
       "      <td>2021.0</td>\n",
       "      <td>...</td>\n",
       "      <td>0</td>\n",
       "      <td>902</td>\n",
       "      <td>7</td>\n",
       "      <td>0</td>\n",
       "      <td>115.0</td>\n",
       "      <td>0</td>\n",
       "      <td>4</td>\n",
       "      <td>0</td>\n",
       "      <td>1</td>\n",
       "      <td>2</td>\n",
       "    </tr>\n",
       "    <tr>\n",
       "      <th>711009</th>\n",
       "      <td>685503</td>\n",
       "      <td>0.019123</td>\n",
       "      <td>1.178880</td>\n",
       "      <td>0.013161</td>\n",
       "      <td>0.790301</td>\n",
       "      <td>20210427</td>\n",
       "      <td>Pitcher</td>\n",
       "      <td>Hiroshima</td>\n",
       "      <td>1992</td>\n",
       "      <td>2021.0</td>\n",
       "      <td>...</td>\n",
       "      <td>0</td>\n",
       "      <td>902</td>\n",
       "      <td>7</td>\n",
       "      <td>0</td>\n",
       "      <td>116.0</td>\n",
       "      <td>1</td>\n",
       "      <td>4</td>\n",
       "      <td>0</td>\n",
       "      <td>2</td>\n",
       "      <td>2</td>\n",
       "    </tr>\n",
       "    <tr>\n",
       "      <th>711010</th>\n",
       "      <td>685503</td>\n",
       "      <td>0.015799</td>\n",
       "      <td>4.323489</td>\n",
       "      <td>0.002350</td>\n",
       "      <td>0.970273</td>\n",
       "      <td>20210428</td>\n",
       "      <td>Pitcher</td>\n",
       "      <td>Hiroshima</td>\n",
       "      <td>1992</td>\n",
       "      <td>2021.0</td>\n",
       "      <td>...</td>\n",
       "      <td>0</td>\n",
       "      <td>902</td>\n",
       "      <td>7</td>\n",
       "      <td>0</td>\n",
       "      <td>117.0</td>\n",
       "      <td>2</td>\n",
       "      <td>4</td>\n",
       "      <td>0</td>\n",
       "      <td>3</td>\n",
       "      <td>2</td>\n",
       "    </tr>\n",
       "    <tr>\n",
       "      <th>711011</th>\n",
       "      <td>685503</td>\n",
       "      <td>0.018770</td>\n",
       "      <td>31.946021</td>\n",
       "      <td>0.305491</td>\n",
       "      <td>5.938273</td>\n",
       "      <td>20210429</td>\n",
       "      <td>Pitcher</td>\n",
       "      <td>Hiroshima</td>\n",
       "      <td>1992</td>\n",
       "      <td>2021.0</td>\n",
       "      <td>...</td>\n",
       "      <td>0</td>\n",
       "      <td>902</td>\n",
       "      <td>7</td>\n",
       "      <td>0</td>\n",
       "      <td>118.0</td>\n",
       "      <td>3</td>\n",
       "      <td>4</td>\n",
       "      <td>0</td>\n",
       "      <td>4</td>\n",
       "      <td>2</td>\n",
       "    </tr>\n",
       "    <tr>\n",
       "      <th>711012</th>\n",
       "      <td>685503</td>\n",
       "      <td>0.014727</td>\n",
       "      <td>6.607196</td>\n",
       "      <td>1.851336</td>\n",
       "      <td>2.014339</td>\n",
       "      <td>20210430</td>\n",
       "      <td>Pitcher</td>\n",
       "      <td>Hiroshima</td>\n",
       "      <td>1992</td>\n",
       "      <td>2021.0</td>\n",
       "      <td>...</td>\n",
       "      <td>0</td>\n",
       "      <td>902</td>\n",
       "      <td>7</td>\n",
       "      <td>0</td>\n",
       "      <td>119.0</td>\n",
       "      <td>4</td>\n",
       "      <td>4</td>\n",
       "      <td>1</td>\n",
       "      <td>0</td>\n",
       "      <td>2</td>\n",
       "    </tr>\n",
       "  </tbody>\n",
       "</table>\n",
       "<p>711013 rows × 171 columns</p>\n",
       "</div>"
      ],
      "text/plain": [
       "        playerId   target1    target2   target3    target4      date  \\\n",
       "0         405395  1.916353  21.512858  0.078997   7.389917  20180329   \n",
       "1         405395  2.431219  38.280184  0.080521  10.307364  20180330   \n",
       "2         405395  4.890499  18.149785  0.196634  19.190820  20180331   \n",
       "3         405395  0.061685  21.539123  0.215855  28.610586  20180401   \n",
       "4         405395  0.021304  19.234421  0.217329  20.419970  20180402   \n",
       "...          ...       ...        ...       ...        ...       ...   \n",
       "711008    685503  0.044617   1.224728  0.009437   0.737463  20210426   \n",
       "711009    685503  0.019123   1.178880  0.013161   0.790301  20210427   \n",
       "711010    685503  0.015799   4.323489  0.002350   0.970273  20210428   \n",
       "711011    685503  0.018770  31.946021  0.305491   5.938273  20210429   \n",
       "711012    685503  0.014727   6.607196  1.851336   2.014339  20210430   \n",
       "\n",
       "       primaryPositionName      birthCity   DOY  mlbDebutYear  ...  \\\n",
       "0               First Base  Santo Domingo  1980        2001.0  ...   \n",
       "1               First Base  Santo Domingo  1980        2001.0  ...   \n",
       "2               First Base  Santo Domingo  1980        2001.0  ...   \n",
       "3               First Base  Santo Domingo  1980        2001.0  ...   \n",
       "4               First Base  Santo Domingo  1980        2001.0  ...   \n",
       "...                    ...            ...   ...           ...  ...   \n",
       "711008             Pitcher      Hiroshima  1992        2021.0  ...   \n",
       "711009             Pitcher      Hiroshima  1992        2021.0  ...   \n",
       "711010             Pitcher      Hiroshima  1992        2021.0  ...   \n",
       "711011             Pitcher      Hiroshima  1992        2021.0  ...   \n",
       "711012             Pitcher      Hiroshima  1992        2021.0  ...   \n",
       "\n",
       "        label_primaryPositionName  label_birthCity  label_teamId label_status  \\\n",
       "0                               1               52             8            0   \n",
       "1                               1               52             8            0   \n",
       "2                               1               52             8            0   \n",
       "3                               1               52             8            0   \n",
       "4                               1               52             8            0   \n",
       "...                           ...              ...           ...          ...   \n",
       "711008                          0              902             7            0   \n",
       "711009                          0              902             7            0   \n",
       "711010                          0              902             7            0   \n",
       "711011                          0              902             7            0   \n",
       "711012                          0              902             7            0   \n",
       "\n",
       "        annual_day week_day  month  gameday  daysSinceLastGame  season_info  \n",
       "0             87.0        3      3        1                  0            2  \n",
       "1             88.0        4      3        1                  0            2  \n",
       "2             89.0        5      3        1                  0            2  \n",
       "3             90.0        6      4        1                  0            2  \n",
       "4             91.0        0      4        1                  0            2  \n",
       "...            ...      ...    ...      ...                ...          ...  \n",
       "711008       115.0        0      4        0                  1            2  \n",
       "711009       116.0        1      4        0                  2            2  \n",
       "711010       117.0        2      4        0                  3            2  \n",
       "711011       118.0        3      4        0                  4            2  \n",
       "711012       119.0        4      4        1                  0            2  \n",
       "\n",
       "[711013 rows x 171 columns]"
      ]
     },
     "execution_count": 78,
     "metadata": {},
     "output_type": "execute_result"
    }
   ],
   "source": [
    "train"
   ]
  },
  {
   "cell_type": "code",
   "execution_count": 79,
   "id": "96b3c0a9",
   "metadata": {},
   "outputs": [],
   "source": [
    "# def fit_lgbm(x_train, y_train, x_valid, y_valid, params: dict=None, verbose=100):\n",
    "#     oof_pred = np.zeros(len(y_valid), dtype=np.float32)\n",
    "#     model = lgbm.LGBMRegressor(**params)\n",
    "#     model.fit(x_train, y_train, \n",
    "#         eval_set=[(X_train, y_train), (x_valid, y_valid)],  \n",
    "#         early_stopping_rounds=verbose, \n",
    "#         verbose=verbose)\n",
    "#     oof_pred = model.predict(x_valid)\n",
    "#     oof_pred = np.clip(oof_pred, 0, 100)\n",
    "#     score = mean_absolute_error(oof_pred, y_valid)\n",
    "#     print('mae:', score)\n",
    "#     return oof_pred, model, score\n"
   ]
  },
  {
   "cell_type": "code",
   "execution_count": 80,
   "id": "85b7eb8a",
   "metadata": {},
   "outputs": [],
   "source": [
    "def fit_lgbm(x_train, y_train, x_valid, y_valid, learning_rates, verbose=100):\n",
    "    def opt(trial):\n",
    "        params = {\n",
    "                'random_state': SEED,\n",
    "                'objective':'mae',\n",
    "                'n_estimators': 10000,\n",
    "                'learning_rate': 0.1,\n",
    "                'max_depth': trial.suggest_int('max_depth', 1, 20),\n",
    "                'min_child_weight': trial.suggest_int('min_child_weight', 1, 20),\n",
    "                'subsample': trial.suggest_discrete_uniform('subsample', 0.5, 0.9, 0.1),\n",
    "                'colsample_bytree': trial.suggest_discrete_uniform('colsample_bytree', 0.5, 0.9, 0.1),\n",
    "                'reg_lambda': trial.suggest_loguniform('reg_lambda', 1e-3, 1e3),\n",
    "                'reg_alpha': trial.suggest_loguniform('reg_alpha', 1e-3, 1e3),\n",
    "                'feature_fraction': trial.suggest_uniform('feature_fraction', 0.4, 1.0),\n",
    "                'bagging_fraction': trial.suggest_uniform('bagging_fraction', 0.4, 1.0),\n",
    "                'bagging_freq': trial.suggest_int('bagging_freq', 1, 10)\n",
    "        }\n",
    "\n",
    "        model_opt = lgbm.LGBMRegressor(**params)\n",
    "\n",
    "        model_opt.fit(x_train, y_train, \n",
    "            eval_set=[(x_train, y_train), (x_valid, y_valid)],  \n",
    "            early_stopping_rounds=verbose, \n",
    "            verbose=verbose)\n",
    "        oof_pred = model_opt.predict(x_valid)\n",
    "        oof_pred = np.clip(oof_pred, 0, 100)\n",
    "        score = mean_absolute_error(oof_pred, y_valid)\n",
    "        return -score\n",
    "    return opt"
   ]
  },
  {
   "cell_type": "code",
   "execution_count": 81,
   "id": "27685bcd",
   "metadata": {},
   "outputs": [],
   "source": [
    "train_X = train\n",
    "train_y = train[['target1', 'target2', 'target3', 'target4']]\n",
    "tr_idxs = []\n",
    "val_idxs = []"
   ]
  },
  {
   "cell_type": "code",
   "execution_count": 82,
   "id": "234e4721",
   "metadata": {},
   "outputs": [],
   "source": [
    "# tr_idx = (train['date'].astype(int) < 20200801)\n",
    "# val_idx = (train['date'].astype(int) >= 20200801) & (train['date'].astype(int) < 20200901)\n",
    "# tr_idxs.append(tr_idx)\n",
    "# val_idxs.append(val_idx)\n",
    "\n",
    "# tr_idx = (train['date'].astype(int) < 20200901)\n",
    "# val_idx = (train['date'].astype(int) >= 20200901) & (train['date'].astype(int) < 20201001)\n",
    "# tr_idxs.append(tr_idx)\n",
    "# val_idxs.append(val_idx)\n",
    "\n",
    "# tr_idx = (train['date'].astype(int) < 20201001)\n",
    "# val_idx = (train['date'].astype(int) >= 20201001) & (train['date'].astype(int) < 20201028)\n",
    "# tr_idxs.append(tr_idx)\n",
    "# val_idxs.append(val_idx)\n",
    "\n",
    "# tr_idx = (train['date'].astype(int) < 20210228)\n",
    "# val_idx = (train['date'].astype(int) >= 20210228) & (train['date'].astype(int) < 20210401)\n",
    "# tr_idxs.append(tr_idx)\n",
    "# val_idxs.append(val_idx)\n",
    "\n",
    "tr_idx = (train['date'].astype(int) < 20210401)\n",
    "val_idx = ~tr_idx\n",
    "tr_idxs.append(tr_idx)\n",
    "val_idxs.append(val_idx)"
   ]
  },
  {
   "cell_type": "code",
   "execution_count": 83,
   "id": "8aaa74cc",
   "metadata": {},
   "outputs": [],
   "source": [
    "idx = 0\n",
    "\n",
    "tr_idx = tr_idxs[idx]\n",
    "val_idx = val_idxs[idx]\n",
    "\n",
    "x_train = train_X.loc[tr_idx].reset_index(drop=True)\n",
    "y_train = train_y.loc[tr_idx].reset_index(drop=True)\n",
    "x_valid = train_X.loc[val_idx].reset_index(drop=True)\n",
    "y_valid = train_y.loc[val_idx].reset_index(drop=True)"
   ]
  },
  {
   "cell_type": "code",
   "execution_count": 84,
   "id": "5c1d6569",
   "metadata": {},
   "outputs": [],
   "source": [
    "learning_rates = [0.1, 0.1, 0.1, 0.1]"
   ]
  },
  {
   "cell_type": "code",
   "execution_count": null,
   "id": "4ba7bf52",
   "metadata": {},
   "outputs": [
    {
     "name": "stderr",
     "output_type": "stream",
     "text": [
      "\u001b[32m[I 2021-07-09 02:10:24,284]\u001b[0m A new study created in memory with name: no-name-d835c5a1-a978-4751-9a71-2aab5b862eac\u001b[0m\n"
     ]
    },
    {
     "name": "stdout",
     "output_type": "stream",
     "text": [
      "[LightGBM] [Warning] feature_fraction is set=0.42534082402377577, colsample_bytree=0.7 will be ignored. Current value: feature_fraction=0.42534082402377577\n",
      "[LightGBM] [Warning] bagging_fraction is set=0.508080027008323, subsample=0.8 will be ignored. Current value: bagging_fraction=0.508080027008323\n",
      "[LightGBM] [Warning] bagging_freq is set=2, subsample_freq=0 will be ignored. Current value: bagging_freq=2\n",
      "Training until validation scores don't improve for 100 rounds\n",
      "[100]\ttraining's l1: 0.889669\tvalid_1's l1: 1.22059\n",
      "[200]\ttraining's l1: 0.889667\tvalid_1's l1: 1.22059\n"
     ]
    },
    {
     "name": "stderr",
     "output_type": "stream",
     "text": [
      "\u001b[32m[I 2021-07-09 02:10:31,343]\u001b[0m Trial 0 finished with value: -1.2205864675842983 and parameters: {'max_depth': 14, 'min_child_weight': 4, 'subsample': 0.8, 'colsample_bytree': 0.7, 'reg_lambda': 0.18836623095314597, 'reg_alpha': 0.0032418627050351378, 'feature_fraction': 0.42534082402377577, 'bagging_fraction': 0.508080027008323, 'bagging_freq': 2}. Best is trial 0 with value: -1.2205864675842983.\u001b[0m\n"
     ]
    },
    {
     "name": "stdout",
     "output_type": "stream",
     "text": [
      "Early stopping, best iteration is:\n",
      "[116]\ttraining's l1: 0.889669\tvalid_1's l1: 1.22059\n",
      "[LightGBM] [Warning] feature_fraction is set=0.6698083924910014, colsample_bytree=0.7 will be ignored. Current value: feature_fraction=0.6698083924910014\n",
      "[LightGBM] [Warning] bagging_fraction is set=0.9108178210880399, subsample=0.6 will be ignored. Current value: bagging_fraction=0.9108178210880399\n",
      "[LightGBM] [Warning] bagging_freq is set=4, subsample_freq=0 will be ignored. Current value: bagging_freq=4\n",
      "Training until validation scores don't improve for 100 rounds\n",
      "[100]\ttraining's l1: 0.889928\tvalid_1's l1: 1.21995\n",
      "[200]\ttraining's l1: 0.889601\tvalid_1's l1: 1.2192\n",
      "[300]\ttraining's l1: 0.889592\tvalid_1's l1: 1.21913\n",
      "[400]\ttraining's l1: 0.889585\tvalid_1's l1: 1.21913\n"
     ]
    },
    {
     "name": "stderr",
     "output_type": "stream",
     "text": [
      "\u001b[32m[I 2021-07-09 02:10:47,029]\u001b[0m Trial 1 finished with value: -1.2191175178071816 and parameters: {'max_depth': 10, 'min_child_weight': 5, 'subsample': 0.6, 'colsample_bytree': 0.7, 'reg_lambda': 34.66863161028365, 'reg_alpha': 0.0011391713820332165, 'feature_fraction': 0.6698083924910014, 'bagging_fraction': 0.9108178210880399, 'bagging_freq': 4}. Best is trial 1 with value: -1.2191175178071816.\u001b[0m\n"
     ]
    },
    {
     "name": "stdout",
     "output_type": "stream",
     "text": [
      "Early stopping, best iteration is:\n",
      "[393]\ttraining's l1: 0.889586\tvalid_1's l1: 1.21912\n",
      "[LightGBM] [Warning] feature_fraction is set=0.9090074344930096, colsample_bytree=0.8 will be ignored. Current value: feature_fraction=0.9090074344930096\n",
      "[LightGBM] [Warning] bagging_fraction is set=0.41871837115702587, subsample=0.7 will be ignored. Current value: bagging_fraction=0.41871837115702587\n",
      "[LightGBM] [Warning] bagging_freq is set=3, subsample_freq=0 will be ignored. Current value: bagging_freq=3\n",
      "Training until validation scores don't improve for 100 rounds\n",
      "[100]\ttraining's l1: 0.890524\tvalid_1's l1: 1.22053\n"
     ]
    },
    {
     "name": "stderr",
     "output_type": "stream",
     "text": [
      "\u001b[32m[I 2021-07-09 02:10:52,095]\u001b[0m Trial 2 finished with value: -1.2205299765877653 and parameters: {'max_depth': 20, 'min_child_weight': 5, 'subsample': 0.7, 'colsample_bytree': 0.8, 'reg_lambda': 0.6210530114246657, 'reg_alpha': 0.9793791903767944, 'feature_fraction': 0.9090074344930096, 'bagging_fraction': 0.41871837115702587, 'bagging_freq': 3}. Best is trial 1 with value: -1.2191175178071816.\u001b[0m\n"
     ]
    },
    {
     "name": "stdout",
     "output_type": "stream",
     "text": [
      "Early stopping, best iteration is:\n",
      "[60]\ttraining's l1: 0.890528\tvalid_1's l1: 1.22053\n",
      "[LightGBM] [Warning] feature_fraction is set=0.761611848593557, colsample_bytree=0.7 will be ignored. Current value: feature_fraction=0.761611848593557\n",
      "[LightGBM] [Warning] bagging_fraction is set=0.9838033870010923, subsample=0.6 will be ignored. Current value: bagging_fraction=0.9838033870010923\n",
      "[LightGBM] [Warning] bagging_freq is set=8, subsample_freq=0 will be ignored. Current value: bagging_freq=8\n",
      "Training until validation scores don't improve for 100 rounds\n",
      "[100]\ttraining's l1: 0.868813\tvalid_1's l1: 1.19104\n",
      "[200]\ttraining's l1: 0.866346\tvalid_1's l1: 1.18633\n",
      "[300]\ttraining's l1: 0.864191\tvalid_1's l1: 1.18323\n",
      "[400]\ttraining's l1: 0.862483\tvalid_1's l1: 1.18081\n",
      "[500]\ttraining's l1: 0.862064\tvalid_1's l1: 1.18041\n",
      "[600]\ttraining's l1: 0.862062\tvalid_1's l1: 1.1804\n"
     ]
    },
    {
     "name": "stderr",
     "output_type": "stream",
     "text": [
      "\u001b[32m[I 2021-07-09 02:11:10,431]\u001b[0m Trial 3 finished with value: -1.1803332959096229 and parameters: {'max_depth': 5, 'min_child_weight': 2, 'subsample': 0.6, 'colsample_bytree': 0.7, 'reg_lambda': 1.7656600481758704, 'reg_alpha': 0.047429947398004255, 'feature_fraction': 0.761611848593557, 'bagging_fraction': 0.9838033870010923, 'bagging_freq': 8}. Best is trial 3 with value: -1.1803332959096229.\u001b[0m\n"
     ]
    },
    {
     "name": "stdout",
     "output_type": "stream",
     "text": [
      "Early stopping, best iteration is:\n",
      "[517]\ttraining's l1: 0.862063\tvalid_1's l1: 1.1804\n",
      "[LightGBM] [Warning] feature_fraction is set=0.43463087401992884, colsample_bytree=0.5 will be ignored. Current value: feature_fraction=0.43463087401992884\n",
      "[LightGBM] [Warning] bagging_fraction is set=0.9662460919721929, subsample=0.5 will be ignored. Current value: bagging_fraction=0.9662460919721929\n",
      "[LightGBM] [Warning] bagging_freq is set=10, subsample_freq=0 will be ignored. Current value: bagging_freq=10\n",
      "Training until validation scores don't improve for 100 rounds\n",
      "[100]\ttraining's l1: 0.887761\tvalid_1's l1: 1.21706\n"
     ]
    },
    {
     "name": "stderr",
     "output_type": "stream",
     "text": [
      "\u001b[32m[I 2021-07-09 02:11:18,635]\u001b[0m Trial 4 finished with value: -1.2170580661601196 and parameters: {'max_depth': 20, 'min_child_weight': 11, 'subsample': 0.5, 'colsample_bytree': 0.5, 'reg_lambda': 0.07335148961671999, 'reg_alpha': 0.6056460180027443, 'feature_fraction': 0.43463087401992884, 'bagging_fraction': 0.9662460919721929, 'bagging_freq': 10}. Best is trial 3 with value: -1.1803332959096229.\u001b[0m\n"
     ]
    },
    {
     "name": "stdout",
     "output_type": "stream",
     "text": [
      "[200]\ttraining's l1: 0.88776\tvalid_1's l1: 1.21706\n",
      "Early stopping, best iteration is:\n",
      "[100]\ttraining's l1: 0.887761\tvalid_1's l1: 1.21706\n",
      "[LightGBM] [Warning] feature_fraction is set=0.40832038130920806, colsample_bytree=0.8 will be ignored. Current value: feature_fraction=0.40832038130920806\n",
      "[LightGBM] [Warning] bagging_fraction is set=0.5596366644925742, subsample=0.9 will be ignored. Current value: bagging_fraction=0.5596366644925742\n",
      "[LightGBM] [Warning] bagging_freq is set=10, subsample_freq=0 will be ignored. Current value: bagging_freq=10\n",
      "Training until validation scores don't improve for 100 rounds\n",
      "[100]\ttraining's l1: 0.878328\tvalid_1's l1: 1.20049\n",
      "[200]\ttraining's l1: 0.874012\tvalid_1's l1: 1.19294\n"
     ]
    },
    {
     "name": "stderr",
     "output_type": "stream",
     "text": [
      "\u001b[32m[I 2021-07-09 02:11:25,305]\u001b[0m Trial 5 finished with value: -1.1928852092193598 and parameters: {'max_depth': 6, 'min_child_weight': 5, 'subsample': 0.9, 'colsample_bytree': 0.8, 'reg_lambda': 12.166903014318995, 'reg_alpha': 0.02245351235416841, 'feature_fraction': 0.40832038130920806, 'bagging_fraction': 0.5596366644925742, 'bagging_freq': 10}. Best is trial 3 with value: -1.1803332959096229.\u001b[0m\n"
     ]
    },
    {
     "name": "stdout",
     "output_type": "stream",
     "text": [
      "Early stopping, best iteration is:\n",
      "[152]\ttraining's l1: 0.874044\tvalid_1's l1: 1.19291\n",
      "[LightGBM] [Warning] feature_fraction is set=0.993981588626634, colsample_bytree=0.8 will be ignored. Current value: feature_fraction=0.993981588626634\n",
      "[LightGBM] [Warning] bagging_fraction is set=0.521777792900718, subsample=0.6 will be ignored. Current value: bagging_fraction=0.521777792900718\n",
      "[LightGBM] [Warning] bagging_freq is set=2, subsample_freq=0 will be ignored. Current value: bagging_freq=2\n",
      "Training until validation scores don't improve for 100 rounds\n",
      "[100]\ttraining's l1: 0.888048\tvalid_1's l1: 1.21673\n",
      "[200]\ttraining's l1: 0.888046\tvalid_1's l1: 1.21673\n",
      "[300]\ttraining's l1: 0.887904\tvalid_1's l1: 1.21672\n",
      "[400]\ttraining's l1: 0.887866\tvalid_1's l1: 1.21668\n"
     ]
    },
    {
     "name": "stderr",
     "output_type": "stream",
     "text": [
      "\u001b[32m[I 2021-07-09 02:11:40,117]\u001b[0m Trial 6 finished with value: -1.2166586007238163 and parameters: {'max_depth': 19, 'min_child_weight': 5, 'subsample': 0.6, 'colsample_bytree': 0.8, 'reg_lambda': 0.0010731609644032611, 'reg_alpha': 0.03675948374419034, 'feature_fraction': 0.993981588626634, 'bagging_fraction': 0.521777792900718, 'bagging_freq': 2}. Best is trial 3 with value: -1.1803332959096229.\u001b[0m\n"
     ]
    },
    {
     "name": "stdout",
     "output_type": "stream",
     "text": [
      "Early stopping, best iteration is:\n",
      "[348]\ttraining's l1: 0.887878\tvalid_1's l1: 1.21666\n",
      "[LightGBM] [Warning] feature_fraction is set=0.5773643225857719, colsample_bytree=0.5 will be ignored. Current value: feature_fraction=0.5773643225857719\n",
      "[LightGBM] [Warning] bagging_fraction is set=0.4784331003271958, subsample=0.8 will be ignored. Current value: bagging_fraction=0.4784331003271958\n",
      "[LightGBM] [Warning] bagging_freq is set=9, subsample_freq=0 will be ignored. Current value: bagging_freq=9\n",
      "Training until validation scores don't improve for 100 rounds\n",
      "[100]\ttraining's l1: 0.892917\tvalid_1's l1: 1.22472\n",
      "[200]\ttraining's l1: 0.892914\tvalid_1's l1: 1.22472\n"
     ]
    },
    {
     "name": "stderr",
     "output_type": "stream",
     "text": [
      "\u001b[32m[I 2021-07-09 02:11:48,243]\u001b[0m Trial 7 finished with value: -1.2247020942957842 and parameters: {'max_depth': 17, 'min_child_weight': 18, 'subsample': 0.8, 'colsample_bytree': 0.5, 'reg_lambda': 0.09307017228978781, 'reg_alpha': 326.24182222124807, 'feature_fraction': 0.5773643225857719, 'bagging_fraction': 0.4784331003271958, 'bagging_freq': 9}. Best is trial 3 with value: -1.1803332959096229.\u001b[0m\n"
     ]
    },
    {
     "name": "stdout",
     "output_type": "stream",
     "text": [
      "Early stopping, best iteration is:\n",
      "[181]\ttraining's l1: 0.892914\tvalid_1's l1: 1.22471\n",
      "[LightGBM] [Warning] feature_fraction is set=0.8551155582475718, colsample_bytree=0.6 will be ignored. Current value: feature_fraction=0.8551155582475718\n",
      "[LightGBM] [Warning] bagging_fraction is set=0.47662812726535403, subsample=0.6 will be ignored. Current value: bagging_fraction=0.47662812726535403\n",
      "[LightGBM] [Warning] bagging_freq is set=3, subsample_freq=0 will be ignored. Current value: bagging_freq=3\n",
      "Training until validation scores don't improve for 100 rounds\n",
      "[100]\ttraining's l1: 0.99286\tvalid_1's l1: 1.384\n"
     ]
    },
    {
     "name": "stderr",
     "output_type": "stream",
     "text": [
      "\u001b[32m[I 2021-07-09 02:11:52,419]\u001b[0m Trial 8 finished with value: -1.383994068913908 and parameters: {'max_depth': 1, 'min_child_weight': 8, 'subsample': 0.6, 'colsample_bytree': 0.6, 'reg_lambda': 0.39527605196585186, 'reg_alpha': 0.0245303001518635, 'feature_fraction': 0.8551155582475718, 'bagging_fraction': 0.47662812726535403, 'bagging_freq': 3}. Best is trial 3 with value: -1.1803332959096229.\u001b[0m\n"
     ]
    },
    {
     "name": "stdout",
     "output_type": "stream",
     "text": [
      "Early stopping, best iteration is:\n",
      "[61]\ttraining's l1: 0.992869\tvalid_1's l1: 1.38399\n",
      "[LightGBM] [Warning] feature_fraction is set=0.42956611343859497, colsample_bytree=0.7 will be ignored. Current value: feature_fraction=0.42956611343859497\n",
      "[LightGBM] [Warning] bagging_fraction is set=0.4850684982754531, subsample=0.7 will be ignored. Current value: bagging_fraction=0.4850684982754531\n",
      "[LightGBM] [Warning] bagging_freq is set=10, subsample_freq=0 will be ignored. Current value: bagging_freq=10\n",
      "Training until validation scores don't improve for 100 rounds\n",
      "[100]\ttraining's l1: 0.889459\tvalid_1's l1: 1.21877\n",
      "[200]\ttraining's l1: 0.889458\tvalid_1's l1: 1.21877\n",
      "[300]\ttraining's l1: 0.889452\tvalid_1's l1: 1.21878\n"
     ]
    },
    {
     "name": "stderr",
     "output_type": "stream",
     "text": [
      "\u001b[32m[I 2021-07-09 02:12:00,819]\u001b[0m Trial 9 finished with value: -1.218764157234154 and parameters: {'max_depth': 16, 'min_child_weight': 9, 'subsample': 0.7, 'colsample_bytree': 0.7, 'reg_lambda': 0.2143984013628337, 'reg_alpha': 0.9826859631042147, 'feature_fraction': 0.42956611343859497, 'bagging_fraction': 0.4850684982754531, 'bagging_freq': 10}. Best is trial 3 with value: -1.1803332959096229.\u001b[0m\n"
     ]
    },
    {
     "name": "stdout",
     "output_type": "stream",
     "text": [
      "Early stopping, best iteration is:\n",
      "[248]\ttraining's l1: 0.889457\tvalid_1's l1: 1.21877\n",
      "[LightGBM] [Warning] feature_fraction is set=0.7772381402724479, colsample_bytree=0.9 will be ignored. Current value: feature_fraction=0.7772381402724479\n",
      "[LightGBM] [Warning] bagging_fraction is set=0.8253032044933035, subsample=0.5 will be ignored. Current value: bagging_fraction=0.8253032044933035\n",
      "[LightGBM] [Warning] bagging_freq is set=7, subsample_freq=0 will be ignored. Current value: bagging_freq=7\n",
      "Training until validation scores don't improve for 100 rounds\n",
      "[100]\ttraining's l1: 0.996514\tvalid_1's l1: 1.38792\n"
     ]
    },
    {
     "name": "stderr",
     "output_type": "stream",
     "text": [
      "\u001b[32m[I 2021-07-09 02:12:04,679]\u001b[0m Trial 10 finished with value: -1.387919128866123 and parameters: {'max_depth': 1, 'min_child_weight': 16, 'subsample': 0.5, 'colsample_bytree': 0.9, 'reg_lambda': 843.4963543854902, 'reg_alpha': 143.74967153817147, 'feature_fraction': 0.7772381402724479, 'bagging_fraction': 0.8253032044933035, 'bagging_freq': 7}. Best is trial 3 with value: -1.1803332959096229.\u001b[0m\n"
     ]
    },
    {
     "name": "stdout",
     "output_type": "stream",
     "text": [
      "Early stopping, best iteration is:\n",
      "[41]\ttraining's l1: 0.996524\tvalid_1's l1: 1.38792\n",
      "[LightGBM] [Warning] feature_fraction is set=0.612771297266933, colsample_bytree=0.8 will be ignored. Current value: feature_fraction=0.612771297266933\n",
      "[LightGBM] [Warning] bagging_fraction is set=0.6746856454613729, subsample=0.9 will be ignored. Current value: bagging_fraction=0.6746856454613729\n",
      "[LightGBM] [Warning] bagging_freq is set=7, subsample_freq=0 will be ignored. Current value: bagging_freq=7\n",
      "Training until validation scores don't improve for 100 rounds\n",
      "[100]\ttraining's l1: 0.879336\tvalid_1's l1: 1.20597\n",
      "[200]\ttraining's l1: 0.878123\tvalid_1's l1: 1.20315\n"
     ]
    },
    {
     "name": "stderr",
     "output_type": "stream",
     "text": [
      "\u001b[32m[I 2021-07-09 02:12:13,649]\u001b[0m Trial 11 finished with value: -1.203108006894472 and parameters: {'max_depth': 6, 'min_child_weight': 1, 'subsample': 0.9, 'colsample_bytree': 0.8, 'reg_lambda': 17.899131391404417, 'reg_alpha': 0.035676091665573915, 'feature_fraction': 0.612771297266933, 'bagging_fraction': 0.6746856454613729, 'bagging_freq': 7}. Best is trial 3 with value: -1.1803332959096229.\u001b[0m\n"
     ]
    },
    {
     "name": "stdout",
     "output_type": "stream",
     "text": [
      "Early stopping, best iteration is:\n",
      "[160]\ttraining's l1: 0.878143\tvalid_1's l1: 1.20313\n",
      "[LightGBM] [Warning] feature_fraction is set=0.7507984581157352, colsample_bytree=0.9 will be ignored. Current value: feature_fraction=0.7507984581157352\n",
      "[LightGBM] [Warning] bagging_fraction is set=0.6578433652470348, subsample=0.9 will be ignored. Current value: bagging_fraction=0.6578433652470348\n",
      "[LightGBM] [Warning] bagging_freq is set=8, subsample_freq=0 will be ignored. Current value: bagging_freq=8\n",
      "Training until validation scores don't improve for 100 rounds\n",
      "[100]\ttraining's l1: 0.873871\tvalid_1's l1: 1.19608\n",
      "[200]\ttraining's l1: 0.870774\tvalid_1's l1: 1.18984\n"
     ]
    },
    {
     "name": "stderr",
     "output_type": "stream",
     "text": [
      "\u001b[32m[I 2021-07-09 02:12:21,193]\u001b[0m Trial 12 finished with value: -1.189792270919451 and parameters: {'max_depth': 5, 'min_child_weight': 1, 'subsample': 0.9, 'colsample_bytree': 0.9, 'reg_lambda': 10.564353382224171, 'reg_alpha': 20.063198340740485, 'feature_fraction': 0.7507984581157352, 'bagging_fraction': 0.6578433652470348, 'bagging_freq': 8}. Best is trial 3 with value: -1.1803332959096229.\u001b[0m\n"
     ]
    },
    {
     "name": "stdout",
     "output_type": "stream",
     "text": [
      "Early stopping, best iteration is:\n",
      "[197]\ttraining's l1: 0.870774\tvalid_1's l1: 1.18984\n",
      "[LightGBM] [Warning] feature_fraction is set=0.7624648208238721, colsample_bytree=0.9 will be ignored. Current value: feature_fraction=0.7624648208238721\n",
      "[LightGBM] [Warning] bagging_fraction is set=0.7053714150132205, subsample=0.8 will be ignored. Current value: bagging_fraction=0.7053714150132205\n",
      "[LightGBM] [Warning] bagging_freq is set=7, subsample_freq=0 will be ignored. Current value: bagging_freq=7\n",
      "Training until validation scores don't improve for 100 rounds\n",
      "[100]\ttraining's l1: 0.88148\tvalid_1's l1: 1.20671\n",
      "[200]\ttraining's l1: 0.878704\tvalid_1's l1: 1.19996\n",
      "[300]\ttraining's l1: 0.876362\tvalid_1's l1: 1.19473\n"
     ]
    },
    {
     "name": "stderr",
     "output_type": "stream",
     "text": [
      "\u001b[32m[I 2021-07-09 02:12:31,008]\u001b[0m Trial 13 finished with value: -1.1946496246521547 and parameters: {'max_depth': 6, 'min_child_weight': 1, 'subsample': 0.8, 'colsample_bytree': 0.9, 'reg_lambda': 305.0076340231093, 'reg_alpha': 18.522840705369788, 'feature_fraction': 0.7624648208238721, 'bagging_fraction': 0.7053714150132205, 'bagging_freq': 7}. Best is trial 3 with value: -1.1803332959096229.\u001b[0m\n"
     ]
    },
    {
     "name": "stdout",
     "output_type": "stream",
     "text": [
      "Early stopping, best iteration is:\n",
      "[265]\ttraining's l1: 0.876477\tvalid_1's l1: 1.19471\n",
      "[LightGBM] [Warning] feature_fraction is set=0.7355396929975226, colsample_bytree=0.6 will be ignored. Current value: feature_fraction=0.7355396929975226\n",
      "[LightGBM] [Warning] bagging_fraction is set=0.6418466119967524, subsample=0.6 will be ignored. Current value: bagging_fraction=0.6418466119967524\n",
      "[LightGBM] [Warning] bagging_freq is set=8, subsample_freq=0 will be ignored. Current value: bagging_freq=8\n",
      "Training until validation scores don't improve for 100 rounds\n",
      "[100]\ttraining's l1: 0.886708\tvalid_1's l1: 1.2174\n",
      "[200]\ttraining's l1: 0.875882\tvalid_1's l1: 1.1961\n",
      "[300]\ttraining's l1: 0.871442\tvalid_1's l1: 1.18861\n",
      "[400]\ttraining's l1: 0.868956\tvalid_1's l1: 1.18474\n",
      "[500]\ttraining's l1: 0.868477\tvalid_1's l1: 1.18404\n"
     ]
    },
    {
     "name": "stderr",
     "output_type": "stream",
     "text": [
      "\u001b[32m[I 2021-07-09 02:12:42,965]\u001b[0m Trial 14 finished with value: -1.183938059092993 and parameters: {'max_depth': 4, 'min_child_weight': 1, 'subsample': 0.6, 'colsample_bytree': 0.6, 'reg_lambda': 3.5514993261150765, 'reg_alpha': 11.29704240731941, 'feature_fraction': 0.7355396929975226, 'bagging_fraction': 0.6418466119967524, 'bagging_freq': 8}. Best is trial 3 with value: -1.1803332959096229.\u001b[0m\n"
     ]
    },
    {
     "name": "stdout",
     "output_type": "stream",
     "text": [
      "Early stopping, best iteration is:\n",
      "[472]\ttraining's l1: 0.86848\tvalid_1's l1: 1.18403\n",
      "[LightGBM] [Warning] feature_fraction is set=0.8362521019234783, colsample_bytree=0.6 will be ignored. Current value: feature_fraction=0.8362521019234783\n",
      "[LightGBM] [Warning] bagging_fraction is set=0.781863178977326, subsample=0.6 will be ignored. Current value: bagging_fraction=0.781863178977326\n",
      "[LightGBM] [Warning] bagging_freq is set=5, subsample_freq=0 will be ignored. Current value: bagging_freq=5\n",
      "Training until validation scores don't improve for 100 rounds\n",
      "[100]\ttraining's l1: 0.908347\tvalid_1's l1: 1.24954\n",
      "[200]\ttraining's l1: 0.904511\tvalid_1's l1: 1.24159\n",
      "[300]\ttraining's l1: 0.902432\tvalid_1's l1: 1.23712\n",
      "[400]\ttraining's l1: 0.901071\tvalid_1's l1: 1.23384\n",
      "[500]\ttraining's l1: 0.900161\tvalid_1's l1: 1.23142\n",
      "[600]\ttraining's l1: 0.899565\tvalid_1's l1: 1.23004\n",
      "[700]\ttraining's l1: 0.89909\tvalid_1's l1: 1.22905\n",
      "[800]\ttraining's l1: 0.898215\tvalid_1's l1: 1.22662\n",
      "[900]\ttraining's l1: 0.897875\tvalid_1's l1: 1.22601\n",
      "[1000]\ttraining's l1: 0.897687\tvalid_1's l1: 1.22541\n",
      "[1100]\ttraining's l1: 0.897246\tvalid_1's l1: 1.22433\n",
      "[1200]\ttraining's l1: 0.897187\tvalid_1's l1: 1.22394\n",
      "[1300]\ttraining's l1: 0.897118\tvalid_1's l1: 1.22371\n",
      "[1400]\ttraining's l1: 0.897014\tvalid_1's l1: 1.22349\n",
      "[1500]\ttraining's l1: 0.896998\tvalid_1's l1: 1.22343\n",
      "[1600]\ttraining's l1: 0.896986\tvalid_1's l1: 1.22341\n",
      "Early stopping, best iteration is:\n",
      "[1526]\ttraining's l1: 0.896994\tvalid_1's l1: 1.2234\n"
     ]
    },
    {
     "name": "stderr",
     "output_type": "stream",
     "text": [
      "\u001b[32m[I 2021-07-09 02:13:23,254]\u001b[0m Trial 15 finished with value: -1.2233415267717402 and parameters: {'max_depth': 3, 'min_child_weight': 13, 'subsample': 0.6, 'colsample_bytree': 0.6, 'reg_lambda': 0.004753846269644635, 'reg_alpha': 13.825108556575072, 'feature_fraction': 0.8362521019234783, 'bagging_fraction': 0.781863178977326, 'bagging_freq': 5}. Best is trial 3 with value: -1.1803332959096229.\u001b[0m\n"
     ]
    },
    {
     "name": "stdout",
     "output_type": "stream",
     "text": [
      "[LightGBM] [Warning] feature_fraction is set=0.5285022023512945, colsample_bytree=0.6 will be ignored. Current value: feature_fraction=0.5285022023512945\n",
      "[LightGBM] [Warning] bagging_fraction is set=0.602939823914551, subsample=0.5 will be ignored. Current value: bagging_fraction=0.602939823914551\n",
      "[LightGBM] [Warning] bagging_freq is set=8, subsample_freq=0 will be ignored. Current value: bagging_freq=8\n",
      "Training until validation scores don't improve for 100 rounds\n",
      "[100]\ttraining's l1: 0.888308\tvalid_1's l1: 1.21902\n"
     ]
    },
    {
     "name": "stderr",
     "output_type": "stream",
     "text": [
      "\u001b[32m[I 2021-07-09 02:13:28,965]\u001b[0m Trial 16 finished with value: -1.2190126823047518 and parameters: {'max_depth': 10, 'min_child_weight': 2, 'subsample': 0.5, 'colsample_bytree': 0.6, 'reg_lambda': 3.6193104444515725, 'reg_alpha': 0.18814072595737838, 'feature_fraction': 0.5285022023512945, 'bagging_fraction': 0.602939823914551, 'bagging_freq': 8}. Best is trial 3 with value: -1.1803332959096229.\u001b[0m\n"
     ]
    },
    {
     "name": "stdout",
     "output_type": "stream",
     "text": [
      "Early stopping, best iteration is:\n",
      "[65]\ttraining's l1: 0.88831\tvalid_1's l1: 1.21902\n",
      "[LightGBM] [Warning] feature_fraction is set=0.6800935015436903, colsample_bytree=0.6 will be ignored. Current value: feature_fraction=0.6800935015436903\n",
      "[LightGBM] [Warning] bagging_fraction is set=0.7639887579823147, subsample=0.7 will be ignored. Current value: bagging_fraction=0.7639887579823147\n",
      "[LightGBM] [Warning] bagging_freq is set=6, subsample_freq=0 will be ignored. Current value: bagging_freq=6\n",
      "Training until validation scores don't improve for 100 rounds\n",
      "[100]\ttraining's l1: 0.889776\tvalid_1's l1: 1.22099\n"
     ]
    },
    {
     "name": "stderr",
     "output_type": "stream",
     "text": [
      "\u001b[32m[I 2021-07-09 02:13:34,499]\u001b[0m Trial 17 finished with value: -1.2209714170629944 and parameters: {'max_depth': 8, 'min_child_weight': 3, 'subsample': 0.7, 'colsample_bytree': 0.6, 'reg_lambda': 92.04294109247373, 'reg_alpha': 6.606766926938739, 'feature_fraction': 0.6800935015436903, 'bagging_fraction': 0.7639887579823147, 'bagging_freq': 6}. Best is trial 3 with value: -1.1803332959096229.\u001b[0m\n"
     ]
    },
    {
     "name": "stdout",
     "output_type": "stream",
     "text": [
      "Early stopping, best iteration is:\n",
      "[68]\ttraining's l1: 0.889777\tvalid_1's l1: 1.22098\n",
      "[LightGBM] [Warning] feature_fraction is set=0.9277993187093772, colsample_bytree=0.5 will be ignored. Current value: feature_fraction=0.9277993187093772\n",
      "[LightGBM] [Warning] bagging_fraction is set=0.8776450904006262, subsample=0.6 will be ignored. Current value: bagging_fraction=0.8776450904006262\n",
      "[LightGBM] [Warning] bagging_freq is set=9, subsample_freq=0 will be ignored. Current value: bagging_freq=9\n",
      "Training until validation scores don't improve for 100 rounds\n",
      "[100]\ttraining's l1: 0.914476\tvalid_1's l1: 1.25616\n",
      "[200]\ttraining's l1: 0.910069\tvalid_1's l1: 1.24629\n",
      "[300]\ttraining's l1: 0.907917\tvalid_1's l1: 1.24092\n",
      "[400]\ttraining's l1: 0.906981\tvalid_1's l1: 1.2389\n",
      "[500]\ttraining's l1: 0.906372\tvalid_1's l1: 1.2381\n",
      "[600]\ttraining's l1: 0.906228\tvalid_1's l1: 1.23767\n",
      "[700]\ttraining's l1: 0.90601\tvalid_1's l1: 1.23721\n",
      "[800]\ttraining's l1: 0.905405\tvalid_1's l1: 1.23562\n",
      "[900]\ttraining's l1: 0.904977\tvalid_1's l1: 1.23497\n",
      "[1000]\ttraining's l1: 0.904678\tvalid_1's l1: 1.23378\n",
      "[1100]\ttraining's l1: 0.904557\tvalid_1's l1: 1.23342\n",
      "[1200]\ttraining's l1: 0.904435\tvalid_1's l1: 1.23297\n",
      "[1300]\ttraining's l1: 0.903836\tvalid_1's l1: 1.23143\n",
      "[1400]\ttraining's l1: 0.903407\tvalid_1's l1: 1.23047\n",
      "[1500]\ttraining's l1: 0.903329\tvalid_1's l1: 1.23009\n",
      "[1600]\ttraining's l1: 0.903244\tvalid_1's l1: 1.2299\n",
      "Early stopping, best iteration is:\n",
      "[1539]\ttraining's l1: 0.903266\tvalid_1's l1: 1.22985\n"
     ]
    },
    {
     "name": "stderr",
     "output_type": "stream",
     "text": [
      "\u001b[32m[I 2021-07-09 02:14:14,000]\u001b[0m Trial 18 finished with value: -1.2298391279060148 and parameters: {'max_depth': 3, 'min_child_weight': 7, 'subsample': 0.6, 'colsample_bytree': 0.5, 'reg_lambda': 1.8186653286652683, 'reg_alpha': 74.95698663805994, 'feature_fraction': 0.9277993187093772, 'bagging_fraction': 0.8776450904006262, 'bagging_freq': 9}. Best is trial 3 with value: -1.1803332959096229.\u001b[0m\n"
     ]
    },
    {
     "name": "stdout",
     "output_type": "stream",
     "text": [
      "[LightGBM] [Warning] feature_fraction is set=0.7188056310821775, colsample_bytree=0.6 will be ignored. Current value: feature_fraction=0.7188056310821775\n",
      "[LightGBM] [Warning] bagging_fraction is set=0.9853100613607253, subsample=0.5 will be ignored. Current value: bagging_fraction=0.9853100613607253\n",
      "[LightGBM] [Warning] bagging_freq is set=6, subsample_freq=0 will be ignored. Current value: bagging_freq=6\n",
      "Training until validation scores don't improve for 100 rounds\n",
      "[100]\ttraining's l1: 0.907971\tvalid_1's l1: 1.24819\n",
      "[200]\ttraining's l1: 0.901329\tvalid_1's l1: 1.23586\n",
      "[300]\ttraining's l1: 0.899269\tvalid_1's l1: 1.23204\n",
      "[400]\ttraining's l1: 0.897665\tvalid_1's l1: 1.22957\n",
      "[500]\ttraining's l1: 0.897414\tvalid_1's l1: 1.22932\n",
      "[600]\ttraining's l1: 0.896591\tvalid_1's l1: 1.22649\n",
      "[700]\ttraining's l1: 0.896196\tvalid_1's l1: 1.22558\n",
      "[800]\ttraining's l1: 0.895947\tvalid_1's l1: 1.22557\n",
      "Early stopping, best iteration is:\n",
      "[706]\ttraining's l1: 0.896147\tvalid_1's l1: 1.22551\n"
     ]
    },
    {
     "name": "stderr",
     "output_type": "stream",
     "text": [
      "\u001b[32m[I 2021-07-09 02:14:35,303]\u001b[0m Trial 19 finished with value: -1.2254379332140686 and parameters: {'max_depth': 3, 'min_child_weight': 14, 'subsample': 0.5, 'colsample_bytree': 0.6, 'reg_lambda': 0.015091573598729768, 'reg_alpha': 984.341243605552, 'feature_fraction': 0.7188056310821775, 'bagging_fraction': 0.9853100613607253, 'bagging_freq': 6}. Best is trial 3 with value: -1.1803332959096229.\u001b[0m\n"
     ]
    },
    {
     "name": "stdout",
     "output_type": "stream",
     "text": [
      "[LightGBM] [Warning] feature_fraction is set=0.6184066516243281, colsample_bytree=0.7 will be ignored. Current value: feature_fraction=0.6184066516243281\n",
      "[LightGBM] [Warning] bagging_fraction is set=0.6051139077043651, subsample=0.6 will be ignored. Current value: bagging_fraction=0.6051139077043651\n",
      "[LightGBM] [Warning] bagging_freq is set=8, subsample_freq=0 will be ignored. Current value: bagging_freq=8\n",
      "Training until validation scores don't improve for 100 rounds\n",
      "[100]\ttraining's l1: 0.889065\tvalid_1's l1: 1.22071\n",
      "[200]\ttraining's l1: 0.888538\tvalid_1's l1: 1.21901\n"
     ]
    },
    {
     "name": "stderr",
     "output_type": "stream",
     "text": [
      "\u001b[32m[I 2021-07-09 02:14:43,317]\u001b[0m Trial 20 finished with value: -1.2190061724676375 and parameters: {'max_depth': 8, 'min_child_weight': 7, 'subsample': 0.6, 'colsample_bytree': 0.7, 'reg_lambda': 2.609744318222277, 'reg_alpha': 3.6604766344557502, 'feature_fraction': 0.6184066516243281, 'bagging_fraction': 0.6051139077043651, 'bagging_freq': 8}. Best is trial 3 with value: -1.1803332959096229.\u001b[0m\n"
     ]
    },
    {
     "name": "stdout",
     "output_type": "stream",
     "text": [
      "Early stopping, best iteration is:\n",
      "[154]\ttraining's l1: 0.888543\tvalid_1's l1: 1.21901\n",
      "[LightGBM] [Warning] feature_fraction is set=0.7918520769741856, colsample_bytree=0.7 will be ignored. Current value: feature_fraction=0.7918520769741856\n",
      "[LightGBM] [Warning] bagging_fraction is set=0.675637886508909, subsample=0.7 will be ignored. Current value: bagging_fraction=0.675637886508909\n",
      "[LightGBM] [Warning] bagging_freq is set=8, subsample_freq=0 will be ignored. Current value: bagging_freq=8\n",
      "Training until validation scores don't improve for 100 rounds\n",
      "[100]\ttraining's l1: 0.887961\tvalid_1's l1: 1.21977\n",
      "[200]\ttraining's l1: 0.877405\tvalid_1's l1: 1.19979\n",
      "[300]\ttraining's l1: 0.874752\tvalid_1's l1: 1.19565\n",
      "[400]\ttraining's l1: 0.874056\tvalid_1's l1: 1.19483\n",
      "[500]\ttraining's l1: 0.872684\tvalid_1's l1: 1.19227\n",
      "[600]\ttraining's l1: 0.872007\tvalid_1's l1: 1.19043\n"
     ]
    },
    {
     "name": "stderr",
     "output_type": "stream",
     "text": [
      "\u001b[32m[I 2021-07-09 02:14:58,675]\u001b[0m Trial 21 finished with value: -1.1902510090970522 and parameters: {'max_depth': 4, 'min_child_weight': 1, 'subsample': 0.7, 'colsample_bytree': 0.7, 'reg_lambda': 6.391575165754375, 'reg_alpha': 47.866847113447974, 'feature_fraction': 0.7918520769741856, 'bagging_fraction': 0.675637886508909, 'bagging_freq': 8}. Best is trial 3 with value: -1.1803332959096229.\u001b[0m\n"
     ]
    },
    {
     "name": "stdout",
     "output_type": "stream",
     "text": [
      "Early stopping, best iteration is:\n",
      "[599]\ttraining's l1: 0.872007\tvalid_1's l1: 1.19043\n",
      "[LightGBM] [Warning] feature_fraction is set=0.7200362442239546, colsample_bytree=0.6 will be ignored. Current value: feature_fraction=0.7200362442239546\n",
      "[LightGBM] [Warning] bagging_fraction is set=0.6267724207351644, subsample=0.6 will be ignored. Current value: bagging_fraction=0.6267724207351644\n",
      "[LightGBM] [Warning] bagging_freq is set=9, subsample_freq=0 will be ignored. Current value: bagging_freq=9\n",
      "Training until validation scores don't improve for 100 rounds\n",
      "[100]\ttraining's l1: 0.87407\tvalid_1's l1: 1.197\n",
      "[200]\ttraining's l1: 0.868717\tvalid_1's l1: 1.18615\n"
     ]
    },
    {
     "name": "stderr",
     "output_type": "stream",
     "text": [
      "\u001b[32m[I 2021-07-09 02:15:05,819]\u001b[0m Trial 22 finished with value: -1.1861058724571831 and parameters: {'max_depth': 5, 'min_child_weight': 3, 'subsample': 0.6, 'colsample_bytree': 0.6, 'reg_lambda': 62.035128317021254, 'reg_alpha': 0.16446469647306913, 'feature_fraction': 0.7200362442239546, 'bagging_fraction': 0.6267724207351644, 'bagging_freq': 9}. Best is trial 3 with value: -1.1803332959096229.\u001b[0m\n"
     ]
    },
    {
     "name": "stdout",
     "output_type": "stream",
     "text": [
      "Early stopping, best iteration is:\n",
      "[199]\ttraining's l1: 0.868718\tvalid_1's l1: 1.18615\n",
      "[LightGBM] [Warning] feature_fraction is set=0.8281234545436655, colsample_bytree=0.6 will be ignored. Current value: feature_fraction=0.8281234545436655\n",
      "[LightGBM] [Warning] bagging_fraction is set=0.7304271593775721, subsample=0.6 will be ignored. Current value: bagging_fraction=0.7304271593775721\n",
      "[LightGBM] [Warning] bagging_freq is set=9, subsample_freq=0 will be ignored. Current value: bagging_freq=9\n",
      "Training until validation scores don't improve for 100 rounds\n",
      "[100]\ttraining's l1: 0.995851\tvalid_1's l1: 1.38723\n"
     ]
    },
    {
     "name": "stderr",
     "output_type": "stream",
     "text": [
      "\u001b[32m[I 2021-07-09 02:15:09,696]\u001b[0m Trial 23 finished with value: -1.3872287953407352 and parameters: {'max_depth': 1, 'min_child_weight': 3, 'subsample': 0.6, 'colsample_bytree': 0.6, 'reg_lambda': 76.6881066825584, 'reg_alpha': 0.16939957538900938, 'feature_fraction': 0.8281234545436655, 'bagging_fraction': 0.7304271593775721, 'bagging_freq': 9}. Best is trial 3 with value: -1.1803332959096229.\u001b[0m\n"
     ]
    },
    {
     "name": "stdout",
     "output_type": "stream",
     "text": [
      "Early stopping, best iteration is:\n",
      "[48]\ttraining's l1: 0.99586\tvalid_1's l1: 1.38723\n",
      "[LightGBM] [Warning] feature_fraction is set=0.6911742826054641, colsample_bytree=0.5 will be ignored. Current value: feature_fraction=0.6911742826054641\n",
      "[LightGBM] [Warning] bagging_fraction is set=0.6010955102386437, subsample=0.5 will be ignored. Current value: bagging_fraction=0.6010955102386437\n",
      "[LightGBM] [Warning] bagging_freq is set=9, subsample_freq=0 will be ignored. Current value: bagging_freq=9\n",
      "Training until validation scores don't improve for 100 rounds\n",
      "[100]\ttraining's l1: 0.889739\tvalid_1's l1: 1.21999\n"
     ]
    },
    {
     "name": "stderr",
     "output_type": "stream",
     "text": [
      "\u001b[32m[I 2021-07-09 02:15:14,195]\u001b[0m Trial 24 finished with value: -1.2199782221933038 and parameters: {'max_depth': 8, 'min_child_weight': 3, 'subsample': 0.5, 'colsample_bytree': 0.5, 'reg_lambda': 1.0938025207555315, 'reg_alpha': 0.006524369281893509, 'feature_fraction': 0.6911742826054641, 'bagging_fraction': 0.6010955102386437, 'bagging_freq': 9}. Best is trial 3 with value: -1.1803332959096229.\u001b[0m\n"
     ]
    },
    {
     "name": "stdout",
     "output_type": "stream",
     "text": [
      "Early stopping, best iteration is:\n",
      "[54]\ttraining's l1: 0.889766\tvalid_1's l1: 1.21998\n",
      "[LightGBM] [Warning] feature_fraction is set=0.7242175020668234, colsample_bytree=0.6 will be ignored. Current value: feature_fraction=0.7242175020668234\n",
      "[LightGBM] [Warning] bagging_fraction is set=0.6383877423178669, subsample=0.6 will be ignored. Current value: bagging_fraction=0.6383877423178669\n",
      "[LightGBM] [Warning] bagging_freq is set=7, subsample_freq=0 will be ignored. Current value: bagging_freq=7\n",
      "Training until validation scores don't improve for 100 rounds\n",
      "[100]\ttraining's l1: 0.886674\tvalid_1's l1: 1.21449\n",
      "[200]\ttraining's l1: 0.881278\tvalid_1's l1: 1.20487\n",
      "[300]\ttraining's l1: 0.877526\tvalid_1's l1: 1.1972\n",
      "[400]\ttraining's l1: 0.876581\tvalid_1's l1: 1.19565\n"
     ]
    },
    {
     "name": "stderr",
     "output_type": "stream",
     "text": [
      "\u001b[32m[I 2021-07-09 02:15:24,780]\u001b[0m Trial 25 finished with value: -1.1955804521077233 and parameters: {'max_depth': 4, 'min_child_weight': 1, 'subsample': 0.6, 'colsample_bytree': 0.6, 'reg_lambda': 134.76387464183898, 'reg_alpha': 0.17102824808657535, 'feature_fraction': 0.7242175020668234, 'bagging_fraction': 0.6383877423178669, 'bagging_freq': 7}. Best is trial 3 with value: -1.1803332959096229.\u001b[0m\n"
     ]
    },
    {
     "name": "stdout",
     "output_type": "stream",
     "text": [
      "Early stopping, best iteration is:\n",
      "[396]\ttraining's l1: 0.876581\tvalid_1's l1: 1.19565\n",
      "[LightGBM] [Warning] feature_fraction is set=0.6413079995172754, colsample_bytree=0.7 will be ignored. Current value: feature_fraction=0.6413079995172754\n",
      "[LightGBM] [Warning] bagging_fraction is set=0.5607913580324828, subsample=0.7 will be ignored. Current value: bagging_fraction=0.5607913580324828\n",
      "[LightGBM] [Warning] bagging_freq is set=5, subsample_freq=0 will be ignored. Current value: bagging_freq=5\n",
      "Training until validation scores don't improve for 100 rounds\n",
      "[100]\ttraining's l1: 0.890903\tvalid_1's l1: 1.21963\n"
     ]
    },
    {
     "name": "stderr",
     "output_type": "stream",
     "text": [
      "\u001b[32m[I 2021-07-09 02:15:29,596]\u001b[0m Trial 26 finished with value: -1.2196189849985777 and parameters: {'max_depth': 12, 'min_child_weight': 20, 'subsample': 0.7, 'colsample_bytree': 0.7, 'reg_lambda': 689.5415563537233, 'reg_alpha': 3.130062633305253, 'feature_fraction': 0.6413079995172754, 'bagging_fraction': 0.5607913580324828, 'bagging_freq': 5}. Best is trial 3 with value: -1.1803332959096229.\u001b[0m\n"
     ]
    },
    {
     "name": "stdout",
     "output_type": "stream",
     "text": [
      "Early stopping, best iteration is:\n",
      "[59]\ttraining's l1: 0.890975\tvalid_1's l1: 1.21963\n",
      "[LightGBM] [Warning] feature_fraction is set=0.546021513646801, colsample_bytree=0.6 will be ignored. Current value: feature_fraction=0.546021513646801\n",
      "[LightGBM] [Warning] bagging_fraction is set=0.8010979499989405, subsample=0.6 will be ignored. Current value: bagging_fraction=0.8010979499989405\n",
      "[LightGBM] [Warning] bagging_freq is set=10, subsample_freq=0 will be ignored. Current value: bagging_freq=10\n",
      "Training until validation scores don't improve for 100 rounds\n",
      "[100]\ttraining's l1: 0.885137\tvalid_1's l1: 1.21108\n",
      "[200]\ttraining's l1: 0.885005\tvalid_1's l1: 1.21067\n",
      "[300]\ttraining's l1: 0.884362\tvalid_1's l1: 1.20954\n"
     ]
    },
    {
     "name": "stderr",
     "output_type": "stream",
     "text": [
      "\u001b[32m[I 2021-07-09 02:15:42,584]\u001b[0m Trial 27 finished with value: -1.2095183046659654 and parameters: {'max_depth': 7, 'min_child_weight': 7, 'subsample': 0.6, 'colsample_bytree': 0.6, 'reg_lambda': 29.950264372408956, 'reg_alpha': 0.26777798145558485, 'feature_fraction': 0.546021513646801, 'bagging_fraction': 0.8010979499989405, 'bagging_freq': 10}. Best is trial 3 with value: -1.1803332959096229.\u001b[0m\n"
     ]
    },
    {
     "name": "stdout",
     "output_type": "stream",
     "text": [
      "Early stopping, best iteration is:\n",
      "[258]\ttraining's l1: 0.884373\tvalid_1's l1: 1.20952\n",
      "[LightGBM] [Warning] feature_fraction is set=0.9051348261098391, colsample_bytree=0.5 will be ignored. Current value: feature_fraction=0.9051348261098391\n",
      "[LightGBM] [Warning] bagging_fraction is set=0.711032309349378, subsample=0.5 will be ignored. Current value: bagging_fraction=0.711032309349378\n",
      "[LightGBM] [Warning] bagging_freq is set=9, subsample_freq=0 will be ignored. Current value: bagging_freq=9\n",
      "Training until validation scores don't improve for 100 rounds\n",
      "[100]\ttraining's l1: 0.928783\tvalid_1's l1: 1.28081\n",
      "[200]\ttraining's l1: 0.927608\tvalid_1's l1: 1.2784\n",
      "[300]\ttraining's l1: 0.92377\tvalid_1's l1: 1.27043\n",
      "[400]\ttraining's l1: 0.917019\tvalid_1's l1: 1.25628\n",
      "[500]\ttraining's l1: 0.913472\tvalid_1's l1: 1.24795\n",
      "[600]\ttraining's l1: 0.912399\tvalid_1's l1: 1.24559\n",
      "[700]\ttraining's l1: 0.910977\tvalid_1's l1: 1.24271\n",
      "[800]\ttraining's l1: 0.910467\tvalid_1's l1: 1.24153\n",
      "[900]\ttraining's l1: 0.909996\tvalid_1's l1: 1.24001\n",
      "[1000]\ttraining's l1: 0.909507\tvalid_1's l1: 1.23884\n",
      "[1100]\ttraining's l1: 0.90903\tvalid_1's l1: 1.23794\n",
      "[1200]\ttraining's l1: 0.908931\tvalid_1's l1: 1.23761\n",
      "[1300]\ttraining's l1: 0.908832\tvalid_1's l1: 1.23738\n",
      "[1400]\ttraining's l1: 0.908463\tvalid_1's l1: 1.23612\n",
      "[1500]\ttraining's l1: 0.908444\tvalid_1's l1: 1.23608\n",
      "[1600]\ttraining's l1: 0.908417\tvalid_1's l1: 1.23605\n",
      "[1700]\ttraining's l1: 0.90807\tvalid_1's l1: 1.23493\n",
      "[1800]\ttraining's l1: 0.908033\tvalid_1's l1: 1.23489\n",
      "[1900]\ttraining's l1: 0.907921\tvalid_1's l1: 1.23468\n",
      "[2000]\ttraining's l1: 0.907887\tvalid_1's l1: 1.2346\n",
      "[2100]\ttraining's l1: 0.907802\tvalid_1's l1: 1.23438\n",
      "[2200]\ttraining's l1: 0.907451\tvalid_1's l1: 1.2339\n",
      "[2300]\ttraining's l1: 0.907403\tvalid_1's l1: 1.23376\n",
      "[2400]\ttraining's l1: 0.907343\tvalid_1's l1: 1.23375\n",
      "Early stopping, best iteration is:\n",
      "[2371]\ttraining's l1: 0.907369\tvalid_1's l1: 1.23371\n"
     ]
    },
    {
     "name": "stderr",
     "output_type": "stream",
     "text": [
      "\u001b[32m[I 2021-07-09 02:16:29,029]\u001b[0m Trial 28 finished with value: -1.2336306547747804 and parameters: {'max_depth': 2, 'min_child_weight': 3, 'subsample': 0.5, 'colsample_bytree': 0.5, 'reg_lambda': 4.690308878404186, 'reg_alpha': 0.0809111596016405, 'feature_fraction': 0.9051348261098391, 'bagging_fraction': 0.711032309349378, 'bagging_freq': 9}. Best is trial 3 with value: -1.1803332959096229.\u001b[0m\n"
     ]
    },
    {
     "name": "stdout",
     "output_type": "stream",
     "text": [
      "[LightGBM] [Warning] feature_fraction is set=0.805544492374863, colsample_bytree=0.7 will be ignored. Current value: feature_fraction=0.805544492374863\n",
      "[LightGBM] [Warning] bagging_fraction is set=0.40781158604314977, subsample=0.7 will be ignored. Current value: bagging_fraction=0.40781158604314977\n",
      "[LightGBM] [Warning] bagging_freq is set=6, subsample_freq=0 will be ignored. Current value: bagging_freq=6\n",
      "Training until validation scores don't improve for 100 rounds\n",
      "[100]\ttraining's l1: 0.888882\tvalid_1's l1: 1.21733\n"
     ]
    },
    {
     "name": "stderr",
     "output_type": "stream",
     "text": [
      "\u001b[32m[I 2021-07-09 02:16:33,410]\u001b[0m Trial 29 finished with value: -1.2173204655244174 and parameters: {'max_depth': 11, 'min_child_weight': 4, 'subsample': 0.7, 'colsample_bytree': 0.7, 'reg_lambda': 216.24771115405198, 'reg_alpha': 0.0052998787186547365, 'feature_fraction': 0.805544492374863, 'bagging_fraction': 0.40781158604314977, 'bagging_freq': 6}. Best is trial 3 with value: -1.1803332959096229.\u001b[0m\n"
     ]
    },
    {
     "name": "stdout",
     "output_type": "stream",
     "text": [
      "Early stopping, best iteration is:\n",
      "[54]\ttraining's l1: 0.888908\tvalid_1's l1: 1.21732\n",
      "[LightGBM] [Warning] feature_fraction is set=0.7288865753074063, colsample_bytree=0.6 will be ignored. Current value: feature_fraction=0.7288865753074063\n",
      "[LightGBM] [Warning] bagging_fraction is set=0.7446559333549093, subsample=0.6 will be ignored. Current value: bagging_fraction=0.7446559333549093\n",
      "[LightGBM] [Warning] bagging_freq is set=8, subsample_freq=0 will be ignored. Current value: bagging_freq=8\n",
      "Training until validation scores don't improve for 100 rounds\n",
      "[100]\ttraining's l1: 0.872863\tvalid_1's l1: 1.19414\n",
      "[200]\ttraining's l1: 0.868779\tvalid_1's l1: 1.18548\n",
      "[300]\ttraining's l1: 0.866676\tvalid_1's l1: 1.18358\n"
     ]
    },
    {
     "name": "stderr",
     "output_type": "stream",
     "text": [
      "\u001b[32m[I 2021-07-09 02:16:42,481]\u001b[0m Trial 30 finished with value: -1.1834956503537892 and parameters: {'max_depth': 5, 'min_child_weight': 2, 'subsample': 0.6, 'colsample_bytree': 0.6, 'reg_lambda': 38.34733929486844, 'reg_alpha': 0.0016667928010995034, 'feature_fraction': 0.7288865753074063, 'bagging_fraction': 0.7446559333549093, 'bagging_freq': 8}. Best is trial 3 with value: -1.1803332959096229.\u001b[0m\n"
     ]
    },
    {
     "name": "stdout",
     "output_type": "stream",
     "text": [
      "Early stopping, best iteration is:\n",
      "[243]\ttraining's l1: 0.866738\tvalid_1's l1: 1.18356\n",
      "[LightGBM] [Warning] feature_fraction is set=0.7321876684492915, colsample_bytree=0.6 will be ignored. Current value: feature_fraction=0.7321876684492915\n",
      "[LightGBM] [Warning] bagging_fraction is set=0.8434329849265094, subsample=0.6 will be ignored. Current value: bagging_fraction=0.8434329849265094\n",
      "[LightGBM] [Warning] bagging_freq is set=8, subsample_freq=0 will be ignored. Current value: bagging_freq=8\n",
      "Training until validation scores don't improve for 100 rounds\n",
      "[100]\ttraining's l1: 0.870895\tvalid_1's l1: 1.19664\n",
      "[200]\ttraining's l1: 0.867265\tvalid_1's l1: 1.18932\n"
     ]
    },
    {
     "name": "stderr",
     "output_type": "stream",
     "text": [
      "\u001b[32m[I 2021-07-09 02:16:51,286]\u001b[0m Trial 31 finished with value: -1.1892816239831705 and parameters: {'max_depth': 5, 'min_child_weight': 2, 'subsample': 0.6, 'colsample_bytree': 0.6, 'reg_lambda': 37.306917856223734, 'reg_alpha': 0.0012919677973788478, 'feature_fraction': 0.7321876684492915, 'bagging_fraction': 0.8434329849265094, 'bagging_freq': 8}. Best is trial 3 with value: -1.1803332959096229.\u001b[0m\n"
     ]
    },
    {
     "name": "stdout",
     "output_type": "stream",
     "text": [
      "[300]\ttraining's l1: 0.867136\tvalid_1's l1: 1.18933\n",
      "Early stopping, best iteration is:\n",
      "[201]\ttraining's l1: 0.867265\tvalid_1's l1: 1.18932\n",
      "[LightGBM] [Warning] feature_fraction is set=0.6487433726991865, colsample_bytree=0.7 will be ignored. Current value: feature_fraction=0.6487433726991865\n",
      "[LightGBM] [Warning] bagging_fraction is set=0.9461911424713632, subsample=0.6 will be ignored. Current value: bagging_fraction=0.9461911424713632\n",
      "[LightGBM] [Warning] bagging_freq is set=7, subsample_freq=0 will be ignored. Current value: bagging_freq=7\n",
      "Training until validation scores don't improve for 100 rounds\n",
      "[100]\ttraining's l1: 0.888346\tvalid_1's l1: 1.21849\n",
      "[200]\ttraining's l1: 0.8883\tvalid_1's l1: 1.21841\n",
      "[300]\ttraining's l1: 0.888208\tvalid_1's l1: 1.21828\n"
     ]
    },
    {
     "name": "stderr",
     "output_type": "stream",
     "text": [
      "\u001b[32m[I 2021-07-09 02:17:03,422]\u001b[0m Trial 32 finished with value: -1.2182712838493206 and parameters: {'max_depth': 9, 'min_child_weight': 4, 'subsample': 0.6, 'colsample_bytree': 0.7, 'reg_lambda': 48.57545093345537, 'reg_alpha': 0.0019336430681930123, 'feature_fraction': 0.6487433726991865, 'bagging_fraction': 0.9461911424713632, 'bagging_freq': 7}. Best is trial 3 with value: -1.1803332959096229.\u001b[0m\n"
     ]
    },
    {
     "name": "stdout",
     "output_type": "stream",
     "text": [
      "Early stopping, best iteration is:\n",
      "[283]\ttraining's l1: 0.888212\tvalid_1's l1: 1.21827\n",
      "[LightGBM] [Warning] feature_fraction is set=0.7012860634574578, colsample_bytree=0.6 will be ignored. Current value: feature_fraction=0.7012860634574578\n",
      "[LightGBM] [Warning] bagging_fraction is set=0.7471153709762581, subsample=0.6 will be ignored. Current value: bagging_fraction=0.7471153709762581\n",
      "[LightGBM] [Warning] bagging_freq is set=8, subsample_freq=0 will be ignored. Current value: bagging_freq=8\n",
      "Training until validation scores don't improve for 100 rounds\n",
      "[100]\ttraining's l1: 0.86668\tvalid_1's l1: 1.18596\n",
      "[200]\ttraining's l1: 0.862736\tvalid_1's l1: 1.17945\n",
      "[300]\ttraining's l1: 0.862727\tvalid_1's l1: 1.17944\n"
     ]
    },
    {
     "name": "stderr",
     "output_type": "stream",
     "text": [
      "\u001b[32m[I 2021-07-09 02:17:11,775]\u001b[0m Trial 33 finished with value: -1.1793677862004224 and parameters: {'max_depth': 5, 'min_child_weight': 6, 'subsample': 0.6, 'colsample_bytree': 0.6, 'reg_lambda': 1.1383185071781075, 'reg_alpha': 0.012764145059440355, 'feature_fraction': 0.7012860634574578, 'bagging_fraction': 0.7471153709762581, 'bagging_freq': 8}. Best is trial 33 with value: -1.1793677862004224.\u001b[0m\n"
     ]
    },
    {
     "name": "stdout",
     "output_type": "stream",
     "text": [
      "Early stopping, best iteration is:\n",
      "[217]\ttraining's l1: 0.862733\tvalid_1's l1: 1.17944\n",
      "[LightGBM] [Warning] feature_fraction is set=0.8745181698887139, colsample_bytree=0.5 will be ignored. Current value: feature_fraction=0.8745181698887139\n",
      "[LightGBM] [Warning] bagging_fraction is set=0.7305921908873649, subsample=0.5 will be ignored. Current value: bagging_fraction=0.7305921908873649\n",
      "[LightGBM] [Warning] bagging_freq is set=8, subsample_freq=0 will be ignored. Current value: bagging_freq=8\n",
      "Training until validation scores don't improve for 100 rounds\n",
      "[100]\ttraining's l1: 0.883804\tvalid_1's l1: 1.21248\n",
      "[200]\ttraining's l1: 0.87684\tvalid_1's l1: 1.19836\n",
      "[300]\ttraining's l1: 0.870794\tvalid_1's l1: 1.18828\n",
      "[400]\ttraining's l1: 0.870187\tvalid_1's l1: 1.18732\n",
      "[500]\ttraining's l1: 0.869105\tvalid_1's l1: 1.18511\n",
      "[600]\ttraining's l1: 0.868546\tvalid_1's l1: 1.18412\n",
      "[700]\ttraining's l1: 0.867137\tvalid_1's l1: 1.18192\n",
      "[800]\ttraining's l1: 0.865615\tvalid_1's l1: 1.17915\n",
      "[900]\ttraining's l1: 0.864969\tvalid_1's l1: 1.17732\n",
      "[1000]\ttraining's l1: 0.864023\tvalid_1's l1: 1.17563\n",
      "[1100]\ttraining's l1: 0.862117\tvalid_1's l1: 1.17247\n"
     ]
    },
    {
     "name": "stderr",
     "output_type": "stream",
     "text": [
      "\u001b[32m[I 2021-07-09 02:17:38,903]\u001b[0m Trial 34 finished with value: -1.172220649660644 and parameters: {'max_depth': 4, 'min_child_weight': 11, 'subsample': 0.5, 'colsample_bytree': 0.5, 'reg_lambda': 0.8690091455411256, 'reg_alpha': 0.008667831982483666, 'feature_fraction': 0.8745181698887139, 'bagging_fraction': 0.7305921908873649, 'bagging_freq': 8}. Best is trial 34 with value: -1.172220649660644.\u001b[0m\n"
     ]
    },
    {
     "name": "stdout",
     "output_type": "stream",
     "text": [
      "Early stopping, best iteration is:\n",
      "[1069]\ttraining's l1: 0.862136\tvalid_1's l1: 1.17243\n",
      "[LightGBM] [Warning] feature_fraction is set=0.8732876368414042, colsample_bytree=0.5 will be ignored. Current value: feature_fraction=0.8732876368414042\n",
      "[LightGBM] [Warning] bagging_fraction is set=0.7547991847805674, subsample=0.5 will be ignored. Current value: bagging_fraction=0.7547991847805674\n",
      "[LightGBM] [Warning] bagging_freq is set=7, subsample_freq=0 will be ignored. Current value: bagging_freq=7\n",
      "Training until validation scores don't improve for 100 rounds\n",
      "[100]\ttraining's l1: 0.885307\tvalid_1's l1: 1.21191\n",
      "[200]\ttraining's l1: 0.884252\tvalid_1's l1: 1.21142\n",
      "[300]\ttraining's l1: 0.884195\tvalid_1's l1: 1.21129\n"
     ]
    },
    {
     "name": "stderr",
     "output_type": "stream",
     "text": [
      "\u001b[32m[I 2021-07-09 02:17:48,720]\u001b[0m Trial 35 finished with value: -1.2112694374111566 and parameters: {'max_depth': 7, 'min_child_weight': 10, 'subsample': 0.5, 'colsample_bytree': 0.5, 'reg_lambda': 0.5856351402497225, 'reg_alpha': 0.009781716867747762, 'feature_fraction': 0.8732876368414042, 'bagging_fraction': 0.7547991847805674, 'bagging_freq': 7}. Best is trial 34 with value: -1.172220649660644.\u001b[0m\n"
     ]
    },
    {
     "name": "stdout",
     "output_type": "stream",
     "text": [
      "Early stopping, best iteration is:\n",
      "[216]\ttraining's l1: 0.884204\tvalid_1's l1: 1.21128\n",
      "[LightGBM] [Warning] feature_fraction is set=0.9719403469729916, colsample_bytree=0.5 will be ignored. Current value: feature_fraction=0.9719403469729916\n",
      "[LightGBM] [Warning] bagging_fraction is set=0.8960593260153361, subsample=0.5 will be ignored. Current value: bagging_fraction=0.8960593260153361\n",
      "[LightGBM] [Warning] bagging_freq is set=6, subsample_freq=0 will be ignored. Current value: bagging_freq=6\n",
      "Training until validation scores don't improve for 100 rounds\n",
      "[100]\ttraining's l1: 0.924378\tvalid_1's l1: 1.2714\n",
      "[200]\ttraining's l1: 0.917459\tvalid_1's l1: 1.25667\n",
      "[300]\ttraining's l1: 0.915044\tvalid_1's l1: 1.25065\n",
      "[400]\ttraining's l1: 0.913234\tvalid_1's l1: 1.24673\n",
      "[500]\ttraining's l1: 0.912454\tvalid_1's l1: 1.24519\n",
      "[600]\ttraining's l1: 0.911448\tvalid_1's l1: 1.24307\n",
      "[700]\ttraining's l1: 0.91091\tvalid_1's l1: 1.24229\n",
      "[800]\ttraining's l1: 0.910256\tvalid_1's l1: 1.24032\n",
      "[900]\ttraining's l1: 0.910042\tvalid_1's l1: 1.23969\n",
      "[1000]\ttraining's l1: 0.909977\tvalid_1's l1: 1.23967\n",
      "[1100]\ttraining's l1: 0.909559\tvalid_1's l1: 1.23895\n",
      "[1200]\ttraining's l1: 0.909359\tvalid_1's l1: 1.23814\n",
      "[1300]\ttraining's l1: 0.908968\tvalid_1's l1: 1.23712\n",
      "[1400]\ttraining's l1: 0.908922\tvalid_1's l1: 1.23701\n"
     ]
    },
    {
     "name": "stderr",
     "output_type": "stream",
     "text": [
      "\u001b[32m[I 2021-07-09 02:18:25,346]\u001b[0m Trial 36 finished with value: -1.2369188155325395 and parameters: {'max_depth': 2, 'min_child_weight': 11, 'subsample': 0.5, 'colsample_bytree': 0.5, 'reg_lambda': 0.028390852247173762, 'reg_alpha': 0.002818548911323487, 'feature_fraction': 0.9719403469729916, 'bagging_fraction': 0.8960593260153361, 'bagging_freq': 6}. Best is trial 34 with value: -1.172220649660644.\u001b[0m\n"
     ]
    },
    {
     "name": "stdout",
     "output_type": "stream",
     "text": [
      "Early stopping, best iteration is:\n",
      "[1378]\ttraining's l1: 0.908936\tvalid_1's l1: 1.23698\n",
      "[LightGBM] [Warning] feature_fraction is set=0.8083617321500236, colsample_bytree=0.8 will be ignored. Current value: feature_fraction=0.8083617321500236\n",
      "[LightGBM] [Warning] bagging_fraction is set=0.8425797131459605, subsample=0.5 will be ignored. Current value: bagging_fraction=0.8425797131459605\n",
      "[LightGBM] [Warning] bagging_freq is set=8, subsample_freq=0 will be ignored. Current value: bagging_freq=8\n",
      "Training until validation scores don't improve for 100 rounds\n",
      "[100]\ttraining's l1: 0.887281\tvalid_1's l1: 1.21677\n",
      "[200]\ttraining's l1: 0.887058\tvalid_1's l1: 1.21603\n",
      "[300]\ttraining's l1: 0.885917\tvalid_1's l1: 1.21431\n",
      "[400]\ttraining's l1: 0.885395\tvalid_1's l1: 1.21348\n"
     ]
    },
    {
     "name": "stderr",
     "output_type": "stream",
     "text": [
      "\u001b[32m[I 2021-07-09 02:18:38,386]\u001b[0m Trial 37 finished with value: -1.2134377557785134 and parameters: {'max_depth': 7, 'min_child_weight': 12, 'subsample': 0.5, 'colsample_bytree': 0.8, 'reg_lambda': 0.22398963069298183, 'reg_alpha': 0.01525450743246661, 'feature_fraction': 0.8083617321500236, 'bagging_fraction': 0.8425797131459605, 'bagging_freq': 8}. Best is trial 34 with value: -1.172220649660644.\u001b[0m\n"
     ]
    },
    {
     "name": "stdout",
     "output_type": "stream",
     "text": [
      "Early stopping, best iteration is:\n",
      "[322]\ttraining's l1: 0.885411\tvalid_1's l1: 1.21345\n",
      "[LightGBM] [Warning] feature_fraction is set=0.9463490632294804, colsample_bytree=0.5 will be ignored. Current value: feature_fraction=0.9463490632294804\n",
      "[LightGBM] [Warning] bagging_fraction is set=0.8095661885045261, subsample=0.7 will be ignored. Current value: bagging_fraction=0.8095661885045261\n",
      "[LightGBM] [Warning] bagging_freq is set=10, subsample_freq=0 will be ignored. Current value: bagging_freq=10\n",
      "Training until validation scores don't improve for 100 rounds\n",
      "[100]\ttraining's l1: 0.880121\tvalid_1's l1: 1.20415\n",
      "[200]\ttraining's l1: 0.878466\tvalid_1's l1: 1.20059\n",
      "[300]\ttraining's l1: 0.876789\tvalid_1's l1: 1.19839\n",
      "[400]\ttraining's l1: 0.876562\tvalid_1's l1: 1.19812\n",
      "[500]\ttraining's l1: 0.876554\tvalid_1's l1: 1.19812\n",
      "[600]\ttraining's l1: 0.876543\tvalid_1's l1: 1.19812\n",
      "Early stopping, best iteration is:\n",
      "[506]\ttraining's l1: 0.876551\tvalid_1's l1: 1.19812\n"
     ]
    },
    {
     "name": "stderr",
     "output_type": "stream",
     "text": [
      "\u001b[32m[I 2021-07-09 02:18:55,289]\u001b[0m Trial 38 finished with value: -1.1981018008088153 and parameters: {'max_depth': 6, 'min_child_weight': 6, 'subsample': 0.7, 'colsample_bytree': 0.5, 'reg_lambda': 0.8507250629971012, 'reg_alpha': 0.0010521585305374483, 'feature_fraction': 0.9463490632294804, 'bagging_fraction': 0.8095661885045261, 'bagging_freq': 10}. Best is trial 34 with value: -1.172220649660644.\u001b[0m\n"
     ]
    },
    {
     "name": "stdout",
     "output_type": "stream",
     "text": [
      "[LightGBM] [Warning] feature_fraction is set=0.8672836142067211, colsample_bytree=0.7 will be ignored. Current value: feature_fraction=0.8672836142067211\n",
      "[LightGBM] [Warning] bagging_fraction is set=0.7404507123539454, subsample=0.6 will be ignored. Current value: bagging_fraction=0.7404507123539454\n",
      "[LightGBM] [Warning] bagging_freq is set=1, subsample_freq=0 will be ignored. Current value: bagging_freq=1\n",
      "Training until validation scores don't improve for 100 rounds\n",
      "[100]\ttraining's l1: 0.878688\tvalid_1's l1: 1.20588\n",
      "[200]\ttraining's l1: 0.873029\tvalid_1's l1: 1.19543\n",
      "[300]\ttraining's l1: 0.871879\tvalid_1's l1: 1.19316\n",
      "[400]\ttraining's l1: 0.871089\tvalid_1's l1: 1.19228\n",
      "[500]\ttraining's l1: 0.870511\tvalid_1's l1: 1.19132\n",
      "[600]\ttraining's l1: 0.868701\tvalid_1's l1: 1.18673\n",
      "[700]\ttraining's l1: 0.866475\tvalid_1's l1: 1.18337\n",
      "[800]\ttraining's l1: 0.866161\tvalid_1's l1: 1.18317\n",
      "[900]\ttraining's l1: 0.864393\tvalid_1's l1: 1.17973\n",
      "[1000]\ttraining's l1: 0.863702\tvalid_1's l1: 1.17838\n",
      "[1100]\ttraining's l1: 0.862096\tvalid_1's l1: 1.17557\n",
      "[1200]\ttraining's l1: 0.861403\tvalid_1's l1: 1.17457\n",
      "[1300]\ttraining's l1: 0.86021\tvalid_1's l1: 1.17232\n",
      "[1400]\ttraining's l1: 0.85916\tvalid_1's l1: 1.17021\n",
      "[1500]\ttraining's l1: 0.858233\tvalid_1's l1: 1.1691\n",
      "Early stopping, best iteration is:\n",
      "[1485]\ttraining's l1: 0.858439\tvalid_1's l1: 1.16894\n"
     ]
    },
    {
     "name": "stderr",
     "output_type": "stream",
     "text": [
      "\u001b[32m[I 2021-07-09 02:19:26,205]\u001b[0m Trial 39 finished with value: -1.16870092375586 and parameters: {'max_depth': 4, 'min_child_weight': 9, 'subsample': 0.6, 'colsample_bytree': 0.7, 'reg_lambda': 0.054975369188135864, 'reg_alpha': 0.004155002965710786, 'feature_fraction': 0.8672836142067211, 'bagging_fraction': 0.7404507123539454, 'bagging_freq': 1}. Best is trial 39 with value: -1.16870092375586.\u001b[0m\n"
     ]
    },
    {
     "name": "stdout",
     "output_type": "stream",
     "text": [
      "[LightGBM] [Warning] feature_fraction is set=0.995583062208503, colsample_bytree=0.8 will be ignored. Current value: feature_fraction=0.995583062208503\n",
      "[LightGBM] [Warning] bagging_fraction is set=0.86383803922666, subsample=0.5 will be ignored. Current value: bagging_fraction=0.86383803922666\n",
      "[LightGBM] [Warning] bagging_freq is set=4, subsample_freq=0 will be ignored. Current value: bagging_freq=4\n",
      "Training until validation scores don't improve for 100 rounds\n",
      "[100]\ttraining's l1: 0.926567\tvalid_1's l1: 1.27588\n",
      "[200]\ttraining's l1: 0.919109\tvalid_1's l1: 1.26001\n",
      "[300]\ttraining's l1: 0.915311\tvalid_1's l1: 1.25153\n",
      "[400]\ttraining's l1: 0.913761\tvalid_1's l1: 1.24824\n",
      "[500]\ttraining's l1: 0.912405\tvalid_1's l1: 1.2458\n",
      "[600]\ttraining's l1: 0.911587\tvalid_1's l1: 1.24447\n",
      "[700]\ttraining's l1: 0.910908\tvalid_1's l1: 1.2426\n",
      "[800]\ttraining's l1: 0.910124\tvalid_1's l1: 1.24041\n",
      "[900]\ttraining's l1: 0.909796\tvalid_1's l1: 1.23945\n"
     ]
    },
    {
     "name": "stderr",
     "output_type": "stream",
     "text": [
      "\u001b[32m[I 2021-07-09 02:19:52,927]\u001b[0m Trial 40 finished with value: -1.239318785718085 and parameters: {'max_depth': 2, 'min_child_weight': 9, 'subsample': 0.5, 'colsample_bytree': 0.8, 'reg_lambda': 0.09242132474683425, 'reg_alpha': 0.05780745483193941, 'feature_fraction': 0.995583062208503, 'bagging_fraction': 0.86383803922666, 'bagging_freq': 4}. Best is trial 39 with value: -1.16870092375586.\u001b[0m\n"
     ]
    },
    {
     "name": "stdout",
     "output_type": "stream",
     "text": [
      "Early stopping, best iteration is:\n",
      "[885]\ttraining's l1: 0.909807\tvalid_1's l1: 1.23939\n",
      "[LightGBM] [Warning] feature_fraction is set=0.8521477799042371, colsample_bytree=0.7 will be ignored. Current value: feature_fraction=0.8521477799042371\n",
      "[LightGBM] [Warning] bagging_fraction is set=0.7296874401106479, subsample=0.6 will be ignored. Current value: bagging_fraction=0.7296874401106479\n",
      "[LightGBM] [Warning] bagging_freq is set=1, subsample_freq=0 will be ignored. Current value: bagging_freq=1\n",
      "Training until validation scores don't improve for 100 rounds\n",
      "[100]\ttraining's l1: 0.879702\tvalid_1's l1: 1.20524\n",
      "[200]\ttraining's l1: 0.874008\tvalid_1's l1: 1.19483\n",
      "[300]\ttraining's l1: 0.872345\tvalid_1's l1: 1.192\n",
      "[400]\ttraining's l1: 0.870731\tvalid_1's l1: 1.1887\n",
      "[500]\ttraining's l1: 0.868897\tvalid_1's l1: 1.18451\n",
      "[600]\ttraining's l1: 0.868767\tvalid_1's l1: 1.18418\n",
      "[700]\ttraining's l1: 0.868764\tvalid_1's l1: 1.18419\n"
     ]
    },
    {
     "name": "stderr",
     "output_type": "stream",
     "text": [
      "\u001b[32m[I 2021-07-09 02:20:07,445]\u001b[0m Trial 41 finished with value: -1.1839973088845908 and parameters: {'max_depth': 4, 'min_child_weight': 9, 'subsample': 0.6, 'colsample_bytree': 0.7, 'reg_lambda': 0.01836132053246509, 'reg_alpha': 0.004597176157687432, 'feature_fraction': 0.8521477799042371, 'bagging_fraction': 0.7296874401106479, 'bagging_freq': 1}. Best is trial 39 with value: -1.16870092375586.\u001b[0m\n"
     ]
    },
    {
     "name": "stdout",
     "output_type": "stream",
     "text": [
      "Early stopping, best iteration is:\n",
      "[622]\ttraining's l1: 0.868766\tvalid_1's l1: 1.18418\n",
      "[LightGBM] [Warning] feature_fraction is set=0.8860242570534644, colsample_bytree=0.7 will be ignored. Current value: feature_fraction=0.8860242570534644\n",
      "[LightGBM] [Warning] bagging_fraction is set=0.752879682136265, subsample=0.6 will be ignored. Current value: bagging_fraction=0.752879682136265\n",
      "[LightGBM] [Warning] bagging_freq is set=1, subsample_freq=0 will be ignored. Current value: bagging_freq=1\n",
      "Training until validation scores don't improve for 100 rounds\n",
      "[100]\ttraining's l1: 0.868458\tvalid_1's l1: 1.1883\n",
      "[200]\ttraining's l1: 0.865128\tvalid_1's l1: 1.18157\n",
      "[300]\ttraining's l1: 0.863269\tvalid_1's l1: 1.17923\n",
      "[400]\ttraining's l1: 0.863224\tvalid_1's l1: 1.17921\n"
     ]
    },
    {
     "name": "stderr",
     "output_type": "stream",
     "text": [
      "\u001b[32m[I 2021-07-09 02:20:18,195]\u001b[0m Trial 42 finished with value: -1.1791440860007278 and parameters: {'max_depth': 5, 'min_child_weight': 10, 'subsample': 0.6, 'colsample_bytree': 0.7, 'reg_lambda': 0.040896323446048564, 'reg_alpha': 0.014467615873770817, 'feature_fraction': 0.8860242570534644, 'bagging_fraction': 0.752879682136265, 'bagging_freq': 1}. Best is trial 39 with value: -1.16870092375586.\u001b[0m\n"
     ]
    },
    {
     "name": "stdout",
     "output_type": "stream",
     "text": [
      "Early stopping, best iteration is:\n",
      "[358]\ttraining's l1: 0.863229\tvalid_1's l1: 1.17921\n",
      "[LightGBM] [Warning] feature_fraction is set=0.8905884828442846, colsample_bytree=0.8 will be ignored. Current value: feature_fraction=0.8905884828442846\n",
      "[LightGBM] [Warning] bagging_fraction is set=0.9346439510062103, subsample=0.7 will be ignored. Current value: bagging_fraction=0.9346439510062103\n",
      "[LightGBM] [Warning] bagging_freq is set=1, subsample_freq=0 will be ignored. Current value: bagging_freq=1\n",
      "Training until validation scores don't improve for 100 rounds\n",
      "[100]\ttraining's l1: 0.912263\tvalid_1's l1: 1.25464\n",
      "[200]\ttraining's l1: 0.907458\tvalid_1's l1: 1.24484\n",
      "[300]\ttraining's l1: 0.905716\tvalid_1's l1: 1.24104\n",
      "[400]\ttraining's l1: 0.904429\tvalid_1's l1: 1.2378\n",
      "[500]\ttraining's l1: 0.903319\tvalid_1's l1: 1.23524\n",
      "[600]\ttraining's l1: 0.902428\tvalid_1's l1: 1.23318\n",
      "[700]\ttraining's l1: 0.902193\tvalid_1's l1: 1.23236\n",
      "[800]\ttraining's l1: 0.901847\tvalid_1's l1: 1.23177\n",
      "[900]\ttraining's l1: 0.901444\tvalid_1's l1: 1.23066\n",
      "[1000]\ttraining's l1: 0.901217\tvalid_1's l1: 1.22998\n",
      "[1100]\ttraining's l1: 0.901202\tvalid_1's l1: 1.22997\n",
      "[1200]\ttraining's l1: 0.90098\tvalid_1's l1: 1.2296\n",
      "[1300]\ttraining's l1: 0.900543\tvalid_1's l1: 1.22839\n",
      "[1400]\ttraining's l1: 0.900453\tvalid_1's l1: 1.22809\n"
     ]
    },
    {
     "name": "stderr",
     "output_type": "stream",
     "text": [
      "\u001b[32m[I 2021-07-09 02:20:48,345]\u001b[0m Trial 43 finished with value: -1.2280141969118286 and parameters: {'max_depth': 3, 'min_child_weight': 12, 'subsample': 0.7, 'colsample_bytree': 0.8, 'reg_lambda': 0.038259196322637565, 'reg_alpha': 0.011036668879458318, 'feature_fraction': 0.8905884828442846, 'bagging_fraction': 0.9346439510062103, 'bagging_freq': 1}. Best is trial 39 with value: -1.16870092375586.\u001b[0m\n"
     ]
    },
    {
     "name": "stdout",
     "output_type": "stream",
     "text": [
      "Early stopping, best iteration is:\n",
      "[1317]\ttraining's l1: 0.900479\tvalid_1's l1: 1.22807\n",
      "[LightGBM] [Warning] feature_fraction is set=0.9406268254258019, colsample_bytree=0.7 will be ignored. Current value: feature_fraction=0.9406268254258019\n",
      "[LightGBM] [Warning] bagging_fraction is set=0.788141596798027, subsample=0.6 will be ignored. Current value: bagging_fraction=0.788141596798027\n",
      "[LightGBM] [Warning] bagging_freq is set=2, subsample_freq=0 will be ignored. Current value: bagging_freq=2\n",
      "Training until validation scores don't improve for 100 rounds\n",
      "[100]\ttraining's l1: 0.882154\tvalid_1's l1: 1.20803\n",
      "[200]\ttraining's l1: 0.879353\tvalid_1's l1: 1.20202\n",
      "[300]\ttraining's l1: 0.879229\tvalid_1's l1: 1.20168\n",
      "[400]\ttraining's l1: 0.877737\tvalid_1's l1: 1.19916\n"
     ]
    },
    {
     "name": "stderr",
     "output_type": "stream",
     "text": [
      "\u001b[32m[I 2021-07-09 02:21:07,234]\u001b[0m Trial 44 finished with value: -1.1991526348080936 and parameters: {'max_depth': 6, 'min_child_weight': 8, 'subsample': 0.6, 'colsample_bytree': 0.7, 'reg_lambda': 0.37275701644432463, 'reg_alpha': 0.020211772779693892, 'feature_fraction': 0.9406268254258019, 'bagging_fraction': 0.788141596798027, 'bagging_freq': 2}. Best is trial 39 with value: -1.16870092375586.\u001b[0m\n"
     ]
    },
    {
     "name": "stdout",
     "output_type": "stream",
     "text": [
      "Early stopping, best iteration is:\n",
      "[368]\ttraining's l1: 0.877751\tvalid_1's l1: 1.19916\n",
      "[LightGBM] [Warning] feature_fraction is set=0.8728992252503053, colsample_bytree=0.7 will be ignored. Current value: feature_fraction=0.8728992252503053\n",
      "[LightGBM] [Warning] bagging_fraction is set=0.6784686585790504, subsample=0.8 will be ignored. Current value: bagging_fraction=0.6784686585790504\n",
      "[LightGBM] [Warning] bagging_freq is set=2, subsample_freq=0 will be ignored. Current value: bagging_freq=2\n",
      "Training until validation scores don't improve for 100 rounds\n",
      "[100]\ttraining's l1: 0.888722\tvalid_1's l1: 1.21684\n"
     ]
    },
    {
     "name": "stderr",
     "output_type": "stream",
     "text": [
      "\u001b[32m[I 2021-07-09 02:21:14,265]\u001b[0m Trial 45 finished with value: -1.2168399721116945 and parameters: {'max_depth': 13, 'min_child_weight': 10, 'subsample': 0.8, 'colsample_bytree': 0.7, 'reg_lambda': 0.006779299715869684, 'reg_alpha': 0.03982650228886026, 'feature_fraction': 0.8728992252503053, 'bagging_fraction': 0.6784686585790504, 'bagging_freq': 2}. Best is trial 39 with value: -1.16870092375586.\u001b[0m\n"
     ]
    },
    {
     "name": "stdout",
     "output_type": "stream",
     "text": [
      "Early stopping, best iteration is:\n",
      "[56]\ttraining's l1: 0.888727\tvalid_1's l1: 1.21684\n",
      "[LightGBM] [Warning] feature_fraction is set=0.7700513245620928, colsample_bytree=0.8 will be ignored. Current value: feature_fraction=0.7700513245620928\n",
      "[LightGBM] [Warning] bagging_fraction is set=0.7704740293071086, subsample=0.6 will be ignored. Current value: bagging_fraction=0.7704740293071086\n",
      "[LightGBM] [Warning] bagging_freq is set=3, subsample_freq=0 will be ignored. Current value: bagging_freq=3\n",
      "Training until validation scores don't improve for 100 rounds\n",
      "[100]\ttraining's l1: 0.889933\tvalid_1's l1: 1.22054\n",
      "[200]\ttraining's l1: 0.889833\tvalid_1's l1: 1.22055\n"
     ]
    },
    {
     "name": "stderr",
     "output_type": "stream",
     "text": [
      "\u001b[32m[I 2021-07-09 02:21:22,962]\u001b[0m Trial 46 finished with value: -1.2204654594677733 and parameters: {'max_depth': 9, 'min_child_weight': 14, 'subsample': 0.6, 'colsample_bytree': 0.8, 'reg_lambda': 0.0010810934288944022, 'reg_alpha': 0.0036579462663066317, 'feature_fraction': 0.7700513245620928, 'bagging_fraction': 0.7704740293071086, 'bagging_freq': 3}. Best is trial 39 with value: -1.16870092375586.\u001b[0m\n"
     ]
    },
    {
     "name": "stdout",
     "output_type": "stream",
     "text": [
      "Early stopping, best iteration is:\n",
      "[149]\ttraining's l1: 0.8899\tvalid_1's l1: 1.22047\n",
      "[LightGBM] [Warning] feature_fraction is set=0.9649015741766198, colsample_bytree=0.7 will be ignored. Current value: feature_fraction=0.9649015741766198\n",
      "[LightGBM] [Warning] bagging_fraction is set=0.6985592522318135, subsample=0.7 will be ignored. Current value: bagging_fraction=0.6985592522318135\n",
      "[LightGBM] [Warning] bagging_freq is set=1, subsample_freq=0 will be ignored. Current value: bagging_freq=1\n",
      "Training until validation scores don't improve for 100 rounds\n",
      "[100]\ttraining's l1: 0.925196\tvalid_1's l1: 1.27299\n",
      "[200]\ttraining's l1: 0.918543\tvalid_1's l1: 1.25838\n",
      "[300]\ttraining's l1: 0.915043\tvalid_1's l1: 1.25047\n",
      "[400]\ttraining's l1: 0.913235\tvalid_1's l1: 1.24714\n",
      "[500]\ttraining's l1: 0.91244\tvalid_1's l1: 1.24517\n",
      "[600]\ttraining's l1: 0.91133\tvalid_1's l1: 1.24285\n",
      "[700]\ttraining's l1: 0.910374\tvalid_1's l1: 1.24054\n",
      "[800]\ttraining's l1: 0.909893\tvalid_1's l1: 1.23958\n",
      "[900]\ttraining's l1: 0.909417\tvalid_1's l1: 1.23779\n",
      "[1000]\ttraining's l1: 0.909176\tvalid_1's l1: 1.23701\n",
      "[1100]\ttraining's l1: 0.908944\tvalid_1's l1: 1.23666\n",
      "[1200]\ttraining's l1: 0.908689\tvalid_1's l1: 1.23631\n",
      "[1300]\ttraining's l1: 0.908634\tvalid_1's l1: 1.23628\n",
      "[1400]\ttraining's l1: 0.908594\tvalid_1's l1: 1.23617\n",
      "[1500]\ttraining's l1: 0.908438\tvalid_1's l1: 1.23564\n",
      "[1600]\ttraining's l1: 0.907974\tvalid_1's l1: 1.235\n",
      "[1700]\ttraining's l1: 0.907958\tvalid_1's l1: 1.23497\n",
      "[1800]\ttraining's l1: 0.907915\tvalid_1's l1: 1.23482\n",
      "[1900]\ttraining's l1: 0.907882\tvalid_1's l1: 1.23476\n",
      "[2000]\ttraining's l1: 0.907712\tvalid_1's l1: 1.23414\n",
      "[2100]\ttraining's l1: 0.907478\tvalid_1's l1: 1.23359\n",
      "[2200]\ttraining's l1: 0.907405\tvalid_1's l1: 1.23343\n",
      "[2300]\ttraining's l1: 0.907374\tvalid_1's l1: 1.23341\n",
      "[2400]\ttraining's l1: 0.907335\tvalid_1's l1: 1.2334\n",
      "[2500]\ttraining's l1: 0.907265\tvalid_1's l1: 1.23336\n",
      "Early stopping, best iteration is:\n",
      "[2404]\ttraining's l1: 0.907326\tvalid_1's l1: 1.2333\n"
     ]
    },
    {
     "name": "stderr",
     "output_type": "stream",
     "text": [
      "\u001b[32m[I 2021-07-09 02:22:01,854]\u001b[0m Trial 47 finished with value: -1.23318558150036 and parameters: {'max_depth': 2, 'min_child_weight': 12, 'subsample': 0.7, 'colsample_bytree': 0.7, 'reg_lambda': 0.16651561010772595, 'reg_alpha': 0.008757618355291718, 'feature_fraction': 0.9649015741766198, 'bagging_fraction': 0.6985592522318135, 'bagging_freq': 1}. Best is trial 39 with value: -1.16870092375586.\u001b[0m\n"
     ]
    },
    {
     "name": "stdout",
     "output_type": "stream",
     "text": [
      "[LightGBM] [Warning] feature_fraction is set=0.8344892359112204, colsample_bytree=0.7 will be ignored. Current value: feature_fraction=0.8344892359112204\n",
      "[LightGBM] [Warning] bagging_fraction is set=0.9994394082758608, subsample=0.6 will be ignored. Current value: bagging_fraction=0.9994394082758608\n",
      "[LightGBM] [Warning] bagging_freq is set=3, subsample_freq=0 will be ignored. Current value: bagging_freq=3\n",
      "Training until validation scores don't improve for 100 rounds\n",
      "[100]\ttraining's l1: 0.883278\tvalid_1's l1: 1.21113\n",
      "[200]\ttraining's l1: 0.877726\tvalid_1's l1: 1.20126\n",
      "[300]\ttraining's l1: 0.875834\tvalid_1's l1: 1.1985\n",
      "[400]\ttraining's l1: 0.874898\tvalid_1's l1: 1.19626\n",
      "[500]\ttraining's l1: 0.874836\tvalid_1's l1: 1.19623\n",
      "[600]\ttraining's l1: 0.87384\tvalid_1's l1: 1.19475\n",
      "[700]\ttraining's l1: 0.872938\tvalid_1's l1: 1.19277\n",
      "[800]\ttraining's l1: 0.872569\tvalid_1's l1: 1.19236\n",
      "[900]\ttraining's l1: 0.8717\tvalid_1's l1: 1.19059\n",
      "[1000]\ttraining's l1: 0.87113\tvalid_1's l1: 1.18997\n",
      "[1100]\ttraining's l1: 0.871122\tvalid_1's l1: 1.18996\n",
      "[1200]\ttraining's l1: 0.871119\tvalid_1's l1: 1.18996\n",
      "[1300]\ttraining's l1: 0.871115\tvalid_1's l1: 1.18997\n",
      "Early stopping, best iteration is:\n",
      "[1241]\ttraining's l1: 0.871119\tvalid_1's l1: 1.18996\n"
     ]
    },
    {
     "name": "stderr",
     "output_type": "stream",
     "text": [
      "\u001b[32m[I 2021-07-09 02:22:51,074]\u001b[0m Trial 48 finished with value: -1.1898018174172498 and parameters: {'max_depth': 4, 'min_child_weight': 6, 'subsample': 0.6, 'colsample_bytree': 0.7, 'reg_lambda': 1.6213292252513025, 'reg_alpha': 0.08689717514516168, 'feature_fraction': 0.8344892359112204, 'bagging_fraction': 0.9994394082758608, 'bagging_freq': 3}. Best is trial 39 with value: -1.16870092375586.\u001b[0m\n"
     ]
    },
    {
     "name": "stdout",
     "output_type": "stream",
     "text": [
      "[LightGBM] [Warning] feature_fraction is set=0.9124553583703207, colsample_bytree=0.8 will be ignored. Current value: feature_fraction=0.9124553583703207\n",
      "[LightGBM] [Warning] bagging_fraction is set=0.7137733329125708, subsample=0.5 will be ignored. Current value: bagging_fraction=0.7137733329125708\n",
      "[LightGBM] [Warning] bagging_freq is set=1, subsample_freq=0 will be ignored. Current value: bagging_freq=1\n",
      "Training until validation scores don't improve for 100 rounds\n",
      "[100]\ttraining's l1: 0.869247\tvalid_1's l1: 1.19087\n",
      "[200]\ttraining's l1: 0.863127\tvalid_1's l1: 1.18004\n",
      "[300]\ttraining's l1: 0.862584\tvalid_1's l1: 1.17941\n"
     ]
    },
    {
     "name": "stderr",
     "output_type": "stream",
     "text": [
      "\u001b[32m[I 2021-07-09 02:22:59,299]\u001b[0m Trial 49 finished with value: -1.1793568955934053 and parameters: {'max_depth': 5, 'min_child_weight': 8, 'subsample': 0.5, 'colsample_bytree': 0.8, 'reg_lambda': 0.047107930706906144, 'reg_alpha': 0.028694575076088524, 'feature_fraction': 0.9124553583703207, 'bagging_fraction': 0.7137733329125708, 'bagging_freq': 1}. Best is trial 39 with value: -1.16870092375586.\u001b[0m\n"
     ]
    },
    {
     "name": "stdout",
     "output_type": "stream",
     "text": [
      "Early stopping, best iteration is:\n",
      "[245]\ttraining's l1: 0.862642\tvalid_1's l1: 1.1794\n",
      "[LightGBM] [Warning] feature_fraction is set=0.9228910630470383, colsample_bytree=0.8 will be ignored. Current value: feature_fraction=0.9228910630470383\n",
      "[LightGBM] [Warning] bagging_fraction is set=0.7118784421387493, subsample=0.5 will be ignored. Current value: bagging_fraction=0.7118784421387493\n",
      "[LightGBM] [Warning] bagging_freq is set=1, subsample_freq=0 will be ignored. Current value: bagging_freq=1\n",
      "Training until validation scores don't improve for 100 rounds\n",
      "[100]\ttraining's l1: 0.886371\tvalid_1's l1: 1.21696\n",
      "[200]\ttraining's l1: 0.885684\tvalid_1's l1: 1.21554\n",
      "[300]\ttraining's l1: 0.88558\tvalid_1's l1: 1.2154\n",
      "[400]\ttraining's l1: 0.885578\tvalid_1's l1: 1.2154\n"
     ]
    },
    {
     "name": "stderr",
     "output_type": "stream",
     "text": [
      "\u001b[32m[I 2021-07-09 02:23:09,080]\u001b[0m Trial 50 finished with value: -1.2153907027823374 and parameters: {'max_depth': 7, 'min_child_weight': 8, 'subsample': 0.5, 'colsample_bytree': 0.8, 'reg_lambda': 0.003087928081993416, 'reg_alpha': 0.0023152903346295374, 'feature_fraction': 0.9228910630470383, 'bagging_fraction': 0.7118784421387493, 'bagging_freq': 1}. Best is trial 39 with value: -1.16870092375586.\u001b[0m\n"
     ]
    },
    {
     "name": "stdout",
     "output_type": "stream",
     "text": [
      "Early stopping, best iteration is:\n",
      "[313]\ttraining's l1: 0.88558\tvalid_1's l1: 1.2154\n",
      "[LightGBM] [Warning] feature_fraction is set=0.8923548080646257, colsample_bytree=0.9 will be ignored. Current value: feature_fraction=0.8923548080646257\n",
      "[LightGBM] [Warning] bagging_fraction is set=0.7392130252392374, subsample=0.5 will be ignored. Current value: bagging_fraction=0.7392130252392374\n",
      "[LightGBM] [Warning] bagging_freq is set=2, subsample_freq=0 will be ignored. Current value: bagging_freq=2\n",
      "Training until validation scores don't improve for 100 rounds\n",
      "[100]\ttraining's l1: 0.868635\tvalid_1's l1: 1.19059\n",
      "[200]\ttraining's l1: 0.863767\tvalid_1's l1: 1.18295\n",
      "[300]\ttraining's l1: 0.86277\tvalid_1's l1: 1.18141\n",
      "[400]\ttraining's l1: 0.860978\tvalid_1's l1: 1.17848\n"
     ]
    },
    {
     "name": "stderr",
     "output_type": "stream",
     "text": [
      "\u001b[32m[I 2021-07-09 02:23:28,080]\u001b[0m Trial 51 finished with value: -1.1784138844827468 and parameters: {'max_depth': 5, 'min_child_weight': 10, 'subsample': 0.5, 'colsample_bytree': 0.9, 'reg_lambda': 0.048624075564785735, 'reg_alpha': 0.02802318112620915, 'feature_fraction': 0.8923548080646257, 'bagging_fraction': 0.7392130252392374, 'bagging_freq': 2}. Best is trial 39 with value: -1.16870092375586.\u001b[0m\n"
     ]
    },
    {
     "name": "stdout",
     "output_type": "stream",
     "text": [
      "Early stopping, best iteration is:\n",
      "[396]\ttraining's l1: 0.860979\tvalid_1's l1: 1.17848\n",
      "[LightGBM] [Warning] feature_fraction is set=0.8892147014842748, colsample_bytree=0.9 will be ignored. Current value: feature_fraction=0.8892147014842748\n",
      "[LightGBM] [Warning] bagging_fraction is set=0.7340556657562571, subsample=0.5 will be ignored. Current value: bagging_fraction=0.7340556657562571\n",
      "[LightGBM] [Warning] bagging_freq is set=2, subsample_freq=0 will be ignored. Current value: bagging_freq=2\n",
      "Training until validation scores don't improve for 100 rounds\n",
      "[100]\ttraining's l1: 0.869515\tvalid_1's l1: 1.19085\n",
      "[200]\ttraining's l1: 0.865216\tvalid_1's l1: 1.18451\n",
      "[300]\ttraining's l1: 0.860848\tvalid_1's l1: 1.17488\n",
      "[400]\ttraining's l1: 0.858652\tvalid_1's l1: 1.1719\n",
      "[500]\ttraining's l1: 0.856144\tvalid_1's l1: 1.16864\n",
      "[600]\ttraining's l1: 0.855851\tvalid_1's l1: 1.16793\n"
     ]
    },
    {
     "name": "stderr",
     "output_type": "stream",
     "text": [
      "\u001b[32m[I 2021-07-09 02:23:52,932]\u001b[0m Trial 52 finished with value: -1.1678252180570403 and parameters: {'max_depth': 5, 'min_child_weight': 11, 'subsample': 0.5, 'colsample_bytree': 0.9, 'reg_lambda': 0.13496725043565078, 'reg_alpha': 0.02792071939062328, 'feature_fraction': 0.8892147014842748, 'bagging_fraction': 0.7340556657562571, 'bagging_freq': 2}. Best is trial 52 with value: -1.1678252180570403.\u001b[0m\n"
     ]
    },
    {
     "name": "stdout",
     "output_type": "stream",
     "text": [
      "Early stopping, best iteration is:\n",
      "[563]\ttraining's l1: 0.855856\tvalid_1's l1: 1.16792\n",
      "[LightGBM] [Warning] feature_fraction is set=0.8976418469319403, colsample_bytree=0.9 will be ignored. Current value: feature_fraction=0.8976418469319403\n",
      "[LightGBM] [Warning] bagging_fraction is set=0.6888871646470076, subsample=0.5 will be ignored. Current value: bagging_fraction=0.6888871646470076\n",
      "[LightGBM] [Warning] bagging_freq is set=2, subsample_freq=0 will be ignored. Current value: bagging_freq=2\n",
      "Training until validation scores don't improve for 100 rounds\n",
      "[100]\ttraining's l1: 0.880541\tvalid_1's l1: 1.20341\n",
      "[200]\ttraining's l1: 0.879861\tvalid_1's l1: 1.20184\n"
     ]
    },
    {
     "name": "stderr",
     "output_type": "stream",
     "text": [
      "\u001b[32m[I 2021-07-09 02:24:03,565]\u001b[0m Trial 53 finished with value: -1.2018204355534583 and parameters: {'max_depth': 6, 'min_child_weight': 11, 'subsample': 0.5, 'colsample_bytree': 0.9, 'reg_lambda': 0.04811139586604816, 'reg_alpha': 0.02686573024802533, 'feature_fraction': 0.8976418469319403, 'bagging_fraction': 0.6888871646470076, 'bagging_freq': 2}. Best is trial 52 with value: -1.1678252180570403.\u001b[0m\n"
     ]
    },
    {
     "name": "stdout",
     "output_type": "stream",
     "text": [
      "Early stopping, best iteration is:\n",
      "[167]\ttraining's l1: 0.879918\tvalid_1's l1: 1.20183\n",
      "[LightGBM] [Warning] feature_fraction is set=0.8700098797650899, colsample_bytree=0.9 will be ignored. Current value: feature_fraction=0.8700098797650899\n",
      "[LightGBM] [Warning] bagging_fraction is set=0.7193837618448439, subsample=0.5 will be ignored. Current value: bagging_fraction=0.7193837618448439\n",
      "[LightGBM] [Warning] bagging_freq is set=1, subsample_freq=0 will be ignored. Current value: bagging_freq=1\n",
      "Training until validation scores don't improve for 100 rounds\n",
      "[100]\ttraining's l1: 0.912183\tvalid_1's l1: 1.25458\n",
      "[200]\ttraining's l1: 0.898572\tvalid_1's l1: 1.23163\n",
      "[300]\ttraining's l1: 0.893314\tvalid_1's l1: 1.22114\n",
      "[400]\ttraining's l1: 0.888917\tvalid_1's l1: 1.21438\n",
      "[500]\ttraining's l1: 0.888196\tvalid_1's l1: 1.21232\n",
      "[600]\ttraining's l1: 0.886599\tvalid_1's l1: 1.20825\n",
      "[700]\ttraining's l1: 0.886287\tvalid_1's l1: 1.20793\n",
      "[800]\ttraining's l1: 0.885576\tvalid_1's l1: 1.20652\n",
      "[900]\ttraining's l1: 0.885001\tvalid_1's l1: 1.20545\n",
      "[1000]\ttraining's l1: 0.884018\tvalid_1's l1: 1.20286\n",
      "[1100]\ttraining's l1: 0.883824\tvalid_1's l1: 1.20285\n"
     ]
    },
    {
     "name": "stderr",
     "output_type": "stream",
     "text": [
      "\u001b[32m[I 2021-07-09 02:24:23,790]\u001b[0m Trial 54 finished with value: -1.20262575934462 and parameters: {'max_depth': 3, 'min_child_weight': 10, 'subsample': 0.5, 'colsample_bytree': 0.9, 'reg_lambda': 0.1378980403635952, 'reg_alpha': 0.4366962327821339, 'feature_fraction': 0.8700098797650899, 'bagging_fraction': 0.7193837618448439, 'bagging_freq': 1}. Best is trial 52 with value: -1.1678252180570403.\u001b[0m\n"
     ]
    },
    {
     "name": "stdout",
     "output_type": "stream",
     "text": [
      "Early stopping, best iteration is:\n",
      "[1032]\ttraining's l1: 0.883957\tvalid_1's l1: 1.20272\n",
      "[LightGBM] [Warning] feature_fraction is set=0.9593302793851226, colsample_bytree=0.9 will be ignored. Current value: feature_fraction=0.9593302793851226\n",
      "[LightGBM] [Warning] bagging_fraction is set=0.8167372682081757, subsample=0.5 will be ignored. Current value: bagging_fraction=0.8167372682081757\n",
      "[LightGBM] [Warning] bagging_freq is set=2, subsample_freq=0 will be ignored. Current value: bagging_freq=2\n",
      "Training until validation scores don't improve for 100 rounds\n",
      "[100]\ttraining's l1: 0.885039\tvalid_1's l1: 1.2141\n",
      "[200]\ttraining's l1: 0.877388\tvalid_1's l1: 1.20203\n",
      "[300]\ttraining's l1: 0.874791\tvalid_1's l1: 1.19697\n",
      "[400]\ttraining's l1: 0.874078\tvalid_1's l1: 1.19603\n",
      "[500]\ttraining's l1: 0.873457\tvalid_1's l1: 1.19435\n",
      "[600]\ttraining's l1: 0.872544\tvalid_1's l1: 1.19197\n"
     ]
    }
   ],
   "source": [
    "study1 = optuna.create_study(direction='maximize')\n",
    "study1.optimize(fit_lgbm(x_train[feature_cols1], y_train['target1'], x_valid[feature_cols1], y_valid['target1'], learning_rates[0]), n_trials=100)\n",
    "\n",
    "print('Number of finished trials:', len(study1.trials))\n",
    "print('Best trial:', study1.best_trial.params)"
   ]
  },
  {
   "cell_type": "code",
   "execution_count": null,
   "id": "b906d495",
   "metadata": {},
   "outputs": [],
   "source": [
    "study2 = optuna.create_study(direction='maximize')\n",
    "study2.optimize(fit_lgbm(x_train[feature_cols2], y_train['target2'], x_valid[feature_cols2], y_valid['target2'], learning_rates[1]), n_trials=100)\n",
    "\n",
    "print('Number of finished trials:', len(study2.trials))\n",
    "print('Best trial:', study2.best_trial.params)"
   ]
  },
  {
   "cell_type": "code",
   "execution_count": null,
   "id": "bcf0123f",
   "metadata": {},
   "outputs": [],
   "source": [
    "study3 = optuna.create_study(direction='maximize')\n",
    "study3.optimize(fit_lgbm(x_train[feature_cols3], y_train['target3'], x_valid[feature_cols3], y_valid['target3'], learning_rates[2]), n_trials=100)\n",
    "\n",
    "print('Number of finished trials:', len(study3.trials))\n",
    "print('Best trial:', study3.best_trial.params)"
   ]
  },
  {
   "cell_type": "code",
   "execution_count": null,
   "id": "47c5687c",
   "metadata": {},
   "outputs": [],
   "source": [
    "study4 = optuna.create_study(direction='maximize')\n",
    "study4.optimize(fit_lgbm(x_train[feature_cols4], y_train['target4'], x_valid[feature_cols4], y_valid['target4'], learning_rates[3]), n_trials=100)\n",
    "\n",
    "print('Number of finished trials:', len(study4.trials))\n",
    "print('Best trial:', study4.best_trial.params)"
   ]
  },
  {
   "cell_type": "code",
   "execution_count": 93,
   "id": "26a5f39b",
   "metadata": {},
   "outputs": [
    {
     "data": {
      "text/plain": [
       "{'max_depth': 4,\n",
       " 'min_child_weight': 18,\n",
       " 'subsample': 0.6,\n",
       " 'colsample_bytree': 0.9,\n",
       " 'reg_lambda': 0.11467861995039172,\n",
       " 'reg_alpha': 0.06424319118759443,\n",
       " 'feature_fraction': 0.9638843704312544,\n",
       " 'bagging_fraction': 0.6767148669241133,\n",
       " 'bagging_freq': 4}"
      ]
     },
     "execution_count": 93,
     "metadata": {},
     "output_type": "execute_result"
    }
   ],
   "source": [
    "study1.best_trial.params"
   ]
  },
  {
   "cell_type": "code",
   "execution_count": 94,
   "id": "f846057a",
   "metadata": {},
   "outputs": [
    {
     "data": {
      "text/plain": [
       "{'max_depth': 12,\n",
       " 'min_child_weight': 4,\n",
       " 'subsample': 0.8,\n",
       " 'colsample_bytree': 0.6,\n",
       " 'reg_lambda': 3.6789038580429465,\n",
       " 'reg_alpha': 0.001295149012810786,\n",
       " 'feature_fraction': 0.5155482034139958,\n",
       " 'bagging_fraction': 0.711248241796355,\n",
       " 'bagging_freq': 10}"
      ]
     },
     "execution_count": 94,
     "metadata": {},
     "output_type": "execute_result"
    }
   ],
   "source": [
    "study2.best_trial.params"
   ]
  },
  {
   "cell_type": "code",
   "execution_count": 95,
   "id": "3b948ea8",
   "metadata": {},
   "outputs": [
    {
     "data": {
      "text/plain": [
       "{'max_depth': 5,\n",
       " 'min_child_weight': 8,\n",
       " 'subsample': 0.6,\n",
       " 'colsample_bytree': 0.8,\n",
       " 'reg_lambda': 0.08386857038129647,\n",
       " 'reg_alpha': 0.14416671920586854,\n",
       " 'feature_fraction': 0.9779531931779787,\n",
       " 'bagging_fraction': 0.457776092650538,\n",
       " 'bagging_freq': 4}"
      ]
     },
     "execution_count": 95,
     "metadata": {},
     "output_type": "execute_result"
    }
   ],
   "source": [
    "study3.best_trial.params"
   ]
  },
  {
   "cell_type": "code",
   "execution_count": 96,
   "id": "6a7c7c61",
   "metadata": {},
   "outputs": [
    {
     "data": {
      "text/plain": [
       "{'max_depth': 6,\n",
       " 'min_child_weight': 13,\n",
       " 'subsample': 0.8,\n",
       " 'colsample_bytree': 0.6,\n",
       " 'reg_lambda': 0.0376556735585165,\n",
       " 'reg_alpha': 0.001510757076303828,\n",
       " 'feature_fraction': 0.4335923168511571,\n",
       " 'bagging_fraction': 0.9186369126073344,\n",
       " 'bagging_freq': 10}"
      ]
     },
     "execution_count": 96,
     "metadata": {},
     "output_type": "execute_result"
    }
   ],
   "source": [
    "study4.best_trial.params"
   ]
  },
  {
   "cell_type": "code",
   "execution_count": null,
   "id": "b0dba736",
   "metadata": {},
   "outputs": [],
   "source": []
  },
  {
   "cell_type": "code",
   "execution_count": null,
   "id": "90932a82",
   "metadata": {},
   "outputs": [],
   "source": []
  }
 ],
 "metadata": {
  "kernelspec": {
   "display_name": "Python 3",
   "language": "python",
   "name": "python3"
  },
  "language_info": {
   "codemirror_mode": {
    "name": "ipython",
    "version": 3
   },
   "file_extension": ".py",
   "mimetype": "text/x-python",
   "name": "python",
   "nbconvert_exporter": "python",
   "pygments_lexer": "ipython3",
   "version": "3.6.13"
  }
 },
 "nbformat": 4,
 "nbformat_minor": 5
}
