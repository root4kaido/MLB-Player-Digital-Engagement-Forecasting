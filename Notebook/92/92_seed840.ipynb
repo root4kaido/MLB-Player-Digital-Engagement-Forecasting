{
 "cells": [
  {
   "cell_type": "code",
   "execution_count": 1,
   "id": "5e78f6b6",
   "metadata": {},
   "outputs": [],
   "source": [
    "import gc\n",
    "import os\n",
    "import sys\n",
    "import math\n",
    "import random\n",
    "import warnings\n",
    "import pickle\n",
    "from pathlib import Path\n",
    "from joblib import Parallel, delayed\n",
    "from statsmodels.tsa.deterministic import (CalendarFourier,\n",
    "                                           CalendarSeasonality,\n",
    "                                           CalendarTimeTrend,\n",
    "                                           DeterministicProcess)\n",
    "import pickle\n",
    "import optuna\n",
    "from tqdm import tqdm\n",
    "import os\n",
    "import ipywidgets as widgets\n",
    "import matplotlib.pyplot as plt\n",
    "import numpy as np\n",
    "import pandas as pd\n",
    "import seaborn as sns\n",
    "# from pandarallel import pandarallel\n",
    "# pandarallel.initialize()\n",
    "warnings.simplefilter(\"ignore\")\n",
    "import ctypes as ct\n",
    "from datetime import timedelta\n",
    "\n",
    "from sklearn.metrics import mean_absolute_error\n",
    "\n",
    "import statistics as st\n",
    "import lightgbm as lgbm\n",
    "from scipy.stats import norm"
   ]
  },
  {
   "cell_type": "code",
   "execution_count": 2,
   "id": "348e28b9",
   "metadata": {},
   "outputs": [],
   "source": [
    "sys.path.append('../../')\n",
    "import src.utils as utils"
   ]
  },
  {
   "cell_type": "markdown",
   "id": "c61598b8",
   "metadata": {},
   "source": [
    "## Param"
   ]
  },
  {
   "cell_type": "code",
   "execution_count": 3,
   "id": "7123476b",
   "metadata": {},
   "outputs": [],
   "source": [
    "EXP_NUM = 92\n",
    "NFOLDS = 5\n",
    "SEED = 840\n",
    "TRAIN_DATE = 'date < 20210701'"
   ]
  },
  {
   "cell_type": "code",
   "execution_count": 4,
   "id": "15d5257a",
   "metadata": {},
   "outputs": [],
   "source": [
    "# def set_seed(seed: int = 42):\n",
    "#     random.seed(seed)\n",
    "#     np.random.seed(seed)\n",
    "#     os.environ[\"PYTHONHASHSEED\"] = str(seed)\n",
    "#     torch.manual_seed(seed)\n",
    "#     torch.cuda.manual_seed(seed)  # type: ignore\n",
    "#     torch.backends.cudnn.deterministic = True  # type: ignore\n",
    "#     torch.backends.cudnn.benchmark = False  # type: ignore\n",
    "# set_seed(SEED)"
   ]
  },
  {
   "cell_type": "markdown",
   "id": "c3c52b6a",
   "metadata": {},
   "source": [
    "## Dir"
   ]
  },
  {
   "cell_type": "code",
   "execution_count": 5,
   "id": "1f923802",
   "metadata": {},
   "outputs": [],
   "source": [
    "DATA_DIR = Path(\"/home/knikaido/work/MLB-Player-Digital-Engagement-Forecasting/data/\")\n",
    "MAIN_DATA_DIR = DATA_DIR / 'mlb-player-digital-engagement-forecasting-update'\n",
    "TRAIN_DIR = MAIN_DATA_DIR / 'train'\n",
    "OUTPUT_DIR = Path('./output/')"
   ]
  },
  {
   "cell_type": "code",
   "execution_count": 6,
   "id": "e13040dd",
   "metadata": {},
   "outputs": [],
   "source": [
    "players = pd.read_csv(MAIN_DATA_DIR / 'players.csv')\n",
    "seasons = pd.read_csv(MAIN_DATA_DIR / 'seasons.csv')\n",
    "teams = pd.read_csv(MAIN_DATA_DIR / 'teams.csv')\n",
    "\n",
    "rosters = pd.read_csv(TRAIN_DIR / 'rosters_train.csv').query(TRAIN_DATE)\n",
    "targets = pd.read_csv(TRAIN_DIR / 'nextDayPlayerEngagement_train.csv').query(TRAIN_DATE)\n",
    "scores = pd.read_csv(TRAIN_DIR / 'playerBoxScores_train.csv').query(TRAIN_DATE)\n",
    "scores = scores.groupby(['playerId', 'date']).sum().reset_index()\n",
    "standings = pd.read_csv(TRAIN_DIR / 'standings_train.csv').query(TRAIN_DATE)\n",
    "playerTwitterFollowers = pd.read_csv(TRAIN_DIR / 'playerTwitterFollowers_train.csv').query(TRAIN_DATE)\n",
    "awards = pd.read_csv(TRAIN_DIR / 'awards_train.csv').query(TRAIN_DATE)\n"
   ]
  },
  {
   "cell_type": "code",
   "execution_count": 7,
   "id": "ce9b42a2",
   "metadata": {},
   "outputs": [],
   "source": [
    "train_elements_dict = {\"players\":players, \n",
    "                       \"rosters\":rosters, \n",
    "                       \"targets\":targets, \n",
    "                       \"scores\":scores, \n",
    "                       \"seasons\":seasons, \n",
    "                       \"teams\":teams, \n",
    "                       \"standings\":standings,\n",
    "                       'awards':awards}"
   ]
  },
  {
   "cell_type": "code",
   "execution_count": 8,
   "id": "aa49edc0",
   "metadata": {},
   "outputs": [],
   "source": [
    "def map_team_name(name):\n",
    "    names = name.split('-')\n",
    "    result = ''\n",
    "    for n in names:\n",
    "        if n == 'st':\n",
    "            n = 'st.'\n",
    "        result += f' {n.capitalize()}'\n",
    "\n",
    "    return result[1:]"
   ]
  },
  {
   "cell_type": "code",
   "execution_count": 9,
   "id": "a2895924",
   "metadata": {},
   "outputs": [],
   "source": [
    "def calc_corr(df):\n",
    "    # 相関係数行列を作成\n",
    "    corr_mat = df.corr(method='pearson')\n",
    "\n",
    "    # 行（列）サイズを取得\n",
    "    n = corr_mat.shape[0]\n",
    "    corr_ary = []\n",
    "\n",
    "    for i in range(n):\n",
    "        for j in range(i):\n",
    "            if i == j:\n",
    "                continue\n",
    "            corr_ary.append(corr_mat.iloc[i,j])\n",
    "\n",
    "    return corr_ary"
   ]
  },
  {
   "cell_type": "code",
   "execution_count": 10,
   "id": "87310cb5",
   "metadata": {},
   "outputs": [],
   "source": [
    "def calc_probs(pid,df,temp):\n",
    "    to_append=[pid,'','','','','','','','','','','','','','','','','','','','','','','','','','','','','','','','','','']\n",
    "    targets=['target1','target2','target3','target4']\n",
    "    z=1\n",
    "    for target in targets:\n",
    "        target_prob = temp[target].tolist()\n",
    "        mean = np.mean(target_prob)\n",
    "        std = np.std(target_prob)\n",
    "        median = st.median(target_prob)\n",
    "        distribution = norm(mean, std)\n",
    "        min_weight = min(target_prob)\n",
    "        max_weight = max(target_prob)\n",
    "        values = list(np.linspace(min_weight, max_weight))\n",
    "        probabilities = [distribution.pdf(v) for v in values]\n",
    "        max_value = max(probabilities)\n",
    "        max_index = probabilities.index(max_value)\n",
    "        to_append[z]=mean\n",
    "        to_append[z+1]=median\n",
    "        to_append[z+2]=std\n",
    "        to_append[z+3]=min_weight\n",
    "        to_append[z+4]=max_weight\n",
    "        to_append[z+5]=temp[target].skew()\n",
    "        to_append[z+6]=temp[target].kurt()\n",
    "\n",
    "        z=z+7\n",
    "    corr_ = calc_corr(temp[['target1', 'target2', 'target3', 'target4']])\n",
    "    to_append[z:] = corr_  \n",
    "    df_length = len(df)\n",
    "    df.loc[df_length] = to_append\n",
    "    return df"
   ]
  },
  {
   "cell_type": "code",
   "execution_count": 11,
   "id": "908b7dd2",
   "metadata": {},
   "outputs": [],
   "source": [
    "def count_consecutive_items_n_cols(df, col_name_list, output_col):\n",
    "    cum_sum_list = [\n",
    "        (df[col_name] != df[col_name].shift(1)).cumsum().tolist() for col_name in col_name_list\n",
    "    ]\n",
    "    df[output_col] = df.groupby(\n",
    "        [\"_\".join(map(str, x)) for x in zip(*cum_sum_list)]\n",
    "    ).cumcount() + 1\n",
    "    return df"
   ]
  },
  {
   "cell_type": "code",
   "execution_count": 12,
   "id": "1d169e45",
   "metadata": {},
   "outputs": [],
   "source": [
    "def extract_season(date_raw, season_start_end):\n",
    "    idxes = 0\n",
    "    for raw in season_start_end.iloc():\n",
    "        idx_ = ((date_raw >= raw.iloc[0]) & (date_raw <= raw.iloc[1])) * 1\n",
    "        idxes += idx_\n",
    "    return idxes"
   ]
  },
  {
   "cell_type": "code",
   "execution_count": 13,
   "id": "4daf153b",
   "metadata": {},
   "outputs": [],
   "source": [
    "def fit_lgbm(x_train, y_train, x_valid, y_valid, verbose=100):\n",
    "    def opt(trial):\n",
    "        params = {\n",
    "                'random_state': SEED,\n",
    "                'objective':'mae',\n",
    "                'n_estimators': 10000,\n",
    "                'learning_rate': 0.1,\n",
    "                'max_depth': trial.suggest_int('max_depth', 1, 20),\n",
    "                'min_child_weight': trial.suggest_int('min_child_weight', 1, 20),\n",
    "                'subsample': trial.suggest_discrete_uniform('subsample', 0.5, 0.9, 0.1),\n",
    "                'colsample_bytree': trial.suggest_discrete_uniform('colsample_bytree', 0.5, 0.9, 0.1),\n",
    "                'reg_lambda': trial.suggest_loguniform('reg_lambda', 1e-3, 1e3),\n",
    "                'reg_alpha': trial.suggest_loguniform('reg_alpha', 1e-3, 1e3),\n",
    "                'feature_fraction': trial.suggest_uniform('feature_fraction', 0.2, 1.0),\n",
    "                'bagging_fraction': trial.suggest_uniform('bagging_fraction', 0.2, 1.0),\n",
    "                'bagging_freq': trial.suggest_int('bagging_freq', 1, 20),\n",
    "                'num_leaves': trial.suggest_int('num_leaves', 10, 1000),\n",
    "                'min_child_samples': trial.suggest_int('min_child_samples', 5, 100)\n",
    "        }\n",
    "\n",
    "        model_opt = lgbm.LGBMRegressor(**params)\n",
    "\n",
    "        model_opt.fit(x_train, y_train, \n",
    "            eval_set=[(x_train, y_train), (x_valid, y_valid)],  \n",
    "            early_stopping_rounds=verbose, \n",
    "            verbose=verbose)\n",
    "        oof_pred = model_opt.predict(x_valid)\n",
    "        oof_pred = np.clip(oof_pred, 0, 100)\n",
    "        score = mean_absolute_error(oof_pred, y_valid)\n",
    "        return -score\n",
    "    return opt"
   ]
  },
  {
   "cell_type": "code",
   "execution_count": 14,
   "id": "3007ec6c",
   "metadata": {},
   "outputs": [],
   "source": [
    "# def fit_lgbm(x_train, y_train, x_valid, y_valid, params: dict=None, verbose=100):\n",
    "#     oof_pred = np.zeros(len(y_valid), dtype=np.float32)\n",
    "#     model = lgbm.LGBMRegressor(**params)\n",
    "#     model.fit(x_train, y_train, \n",
    "#         eval_set=[(x_valid, y_valid)],  \n",
    "#         early_stopping_rounds=verbose, \n",
    "#         verbose=verbose)\n",
    "#     oof_pred = model.predict(x_valid)\n",
    "#     oof_pred = np.clip(oof_pred, 0, 100)\n",
    "#     score = mean_absolute_error(oof_pred, y_valid)\n",
    "#     print('mae:', score)\n",
    "#     return oof_pred, model, score"
   ]
  },
  {
   "cell_type": "code",
   "execution_count": 15,
   "id": "711a72ac",
   "metadata": {},
   "outputs": [],
   "source": [
    "def my_timeseries_fold(train):\n",
    "    \n",
    "    tr_idxs = []\n",
    "    val_idxs = []\n",
    "        \n",
    "    tr_idx = (train['date'].astype(int) < 20200801)\n",
    "    val_idx = (train['date'].astype(int) >= 20200801) & (train['date'].astype(int) < 20200901)\n",
    "    tr_idxs.append(tr_idx)\n",
    "    val_idxs.append(val_idx)\n",
    "\n",
    "    tr_idx = (train['date'].astype(int) < 20200901)\n",
    "    val_idx = (train['date'].astype(int) >= 20200901) & (train['date'].astype(int) < 20201001)\n",
    "    tr_idxs.append(tr_idx)\n",
    "    val_idxs.append(val_idx)\n",
    "    \n",
    "    tr_idx = (train['date'].astype(int) < 20210401)\n",
    "    val_idx = (train['date'].astype(int) >= 20210401) & (train['date'].astype(int) < 20210501)\n",
    "    tr_idxs.append(tr_idx)\n",
    "    val_idxs.append(val_idx)\n",
    "\n",
    "    tr_idx = (train['date'].astype(int) < 20210501)\n",
    "    val_idx = (train['date'].astype(int) >= 20210501) & (train['date'].astype(int) < 20210601)\n",
    "    tr_idxs.append(tr_idx)\n",
    "    val_idxs.append(val_idx)\n",
    "    \n",
    "    tr_idx = (train['date'].astype(int) < 20210601)\n",
    "    val_idx = (train['date'].astype(int) >= 20210601) & (train['date'].astype(int) < 20210701)\n",
    "    tr_idxs.append(tr_idx)\n",
    "    val_idxs.append(val_idx)\n",
    "    \n",
    "    return tr_idxs, val_idxs"
   ]
  },
  {
   "cell_type": "code",
   "execution_count": 16,
   "id": "dbb59bb0",
   "metadata": {},
   "outputs": [],
   "source": [
    "class Rt4kaidoTrain:\n",
    "    def __init__(self, usetimelinefeature=False):\n",
    "        \n",
    "        self.usetimelinefeature = usetimelinefeature\n",
    "        self.targets_cols = ['playerId', 'target1', 'target2', 'target3', 'target4', 'date']\n",
    "        self.players_cols = ['playerId', 'primaryPositionName', 'birthCity', 'DOY', 'mlbDebutYear', 'mlbDebutDate', 'DebutAge', 'heightInches', 'weight', 'playerForTestSetAndFuturePreds']\n",
    "        self.rosters_cols = ['playerId', 'teamId', 'status', 'date']\n",
    "        self.salaries_cols = ['teamId', 'salary', 'year']\n",
    "        self.standings_cols = ['teamId', 'wildCardRank', 'sportGamesBack', 'date']\n",
    "        self.transactions_cols = ['playerId', 'transaction_flag', 'date']\n",
    "        self.stat_cols = [\"playerId\", \"target1_mean\",\"target1_median\",\"target1_std\",\"target1_min\",\"target1_max\",\"target1_skew\",\"target1_kurt\",\n",
    "                        \"target2_mean\",\"target2_median\",\"target2_std\",\"target2_min\",\"target2_max\",\"target2_skew\",\"target2_kurt\",\n",
    "                        \"target3_mean\",\"target3_median\",\"target3_std\",\"target3_min\",\"target3_max\",\"target3_skew\",\"target3_kurt\",\n",
    "                        \"target4_mean\",\"target4_median\",\"target4_std\",\"target4_min\",\"target4_max\",\"target4_skew\",\"target4_kurt\",\n",
    "                        'tgt1_2_corr', 'tgt1_3_corr', 'tgt2_3_corr', 'tgt1_4_corr', 'tgt2_4_corr', 'tgt3_4_corr']\n",
    "\n",
    "        self.scores_cols = ['playerId', 'battingOrder', 'gamesPlayedBatting', 'flyOuts',\n",
    "               'groundOuts', 'runsScored', 'doubles', 'triples', 'homeRuns',\n",
    "               'strikeOuts', 'baseOnBalls', 'intentionalWalks', 'hits', 'hitByPitch',\n",
    "               'atBats', 'caughtStealing', 'stolenBases', 'groundIntoDoublePlay',\n",
    "               'groundIntoTriplePlay', 'plateAppearances', 'totalBases', 'rbi',\n",
    "               'leftOnBase', 'sacBunts', 'sacFlies', 'catchersInterference',\n",
    "               'pickoffs', 'gamesPlayedPitching', 'gamesStartedPitching',\n",
    "               'completeGamesPitching', 'shutoutsPitching', 'winsPitching',\n",
    "               'lossesPitching', 'flyOutsPitching', 'airOutsPitching',\n",
    "               'groundOutsPitching', 'runsPitching', 'doublesPitching',\n",
    "               'triplesPitching', 'homeRunsPitching', 'strikeOutsPitching',\n",
    "               'baseOnBallsPitching', 'intentionalWalksPitching', 'hitsPitching',\n",
    "               'hitByPitchPitching', 'atBatsPitching', 'caughtStealingPitching',\n",
    "               'stolenBasesPitching', 'inningsPitched', 'saveOpportunities',\n",
    "               'earnedRuns', 'battersFaced', 'outsPitching', 'pitchesThrown', 'balls',\n",
    "               'strikes', 'hitBatsmen', 'balks', 'wildPitches', 'pickoffsPitching',\n",
    "               'rbiPitching', 'gamesFinishedPitching', 'inheritedRunners',\n",
    "               'inheritedRunnersScored', 'catchersInterferencePitching',\n",
    "               'sacBuntsPitching', 'sacFliesPitching', 'saves', 'holds', 'blownSaves',\n",
    "               'assists', 'putOuts', 'errors', 'chances', 'date']\n",
    "\n",
    "        self.feature_cols1 = ['week_day','label_playerId', 'label_primaryPositionName', 'label_teamId',\n",
    "               'label_status', 'battingOrder', 'gamesPlayedBatting', 'flyOuts',\n",
    "               'groundOuts', 'runsScored', 'doubles', 'triples', 'homeRuns',\n",
    "               'strikeOuts', 'baseOnBalls', 'intentionalWalks', 'hits', 'hitByPitch',\n",
    "               'atBats', 'caughtStealing', 'stolenBases', 'groundIntoDoublePlay',\n",
    "               'groundIntoTriplePlay', 'plateAppearances', 'totalBases', 'rbi',\n",
    "               'leftOnBase', 'sacBunts', 'sacFlies', 'catchersInterference',\n",
    "               'pickoffs', 'gamesPlayedPitching', 'gamesStartedPitching',\n",
    "               'completeGamesPitching', 'shutoutsPitching', 'winsPitching',\n",
    "               'lossesPitching', 'flyOutsPitching', 'airOutsPitching',\n",
    "               'groundOutsPitching', 'runsPitching', 'doublesPitching',\n",
    "               'triplesPitching', 'homeRunsPitching', 'strikeOutsPitching',\n",
    "               'baseOnBallsPitching', 'intentionalWalksPitching', 'hitsPitching',\n",
    "               'hitByPitchPitching', 'atBatsPitching', 'caughtStealingPitching',\n",
    "               'stolenBasesPitching', 'inningsPitched', 'saveOpportunities',\n",
    "               'earnedRuns', 'battersFaced', 'outsPitching', 'pitchesThrown', 'balls',\n",
    "               'strikes', 'hitBatsmen', 'balks', 'wildPitches', 'pickoffsPitching',\n",
    "               'rbiPitching', 'gamesFinishedPitching', 'inheritedRunners',\n",
    "               'inheritedRunnersScored', 'catchersInterferencePitching',\n",
    "               'sacBuntsPitching', 'sacFliesPitching', 'saves', 'holds', 'blownSaves',\n",
    "               'assists', 'putOuts', 'errors', 'chances',\n",
    "                'season_info', 'wildCardRank', 'award_flag'] \n",
    "\n",
    "        self.feature_cols2 = ['label_playerId', 'label_primaryPositionName', 'label_teamId',\n",
    "               'label_status', 'battingOrder', 'gamesPlayedBatting', 'flyOuts',\n",
    "               'groundOuts', 'runsScored', 'doubles', 'triples', 'homeRuns',\n",
    "               'strikeOuts', 'baseOnBalls', 'intentionalWalks', 'hits', 'hitByPitch',\n",
    "               'atBats', 'caughtStealing', 'stolenBases', 'groundIntoDoublePlay',\n",
    "               'groundIntoTriplePlay', 'plateAppearances', 'totalBases', 'rbi',\n",
    "               'leftOnBase', 'sacBunts', 'sacFlies', 'catchersInterference',\n",
    "               'pickoffs', 'gamesPlayedPitching', 'gamesStartedPitching',\n",
    "               'completeGamesPitching', 'shutoutsPitching', 'winsPitching',\n",
    "               'lossesPitching', 'flyOutsPitching', 'airOutsPitching',\n",
    "               'groundOutsPitching', 'runsPitching', 'doublesPitching',\n",
    "               'triplesPitching', 'homeRunsPitching', 'strikeOutsPitching',\n",
    "               'baseOnBallsPitching', 'intentionalWalksPitching', 'hitsPitching',\n",
    "               'hitByPitchPitching', 'atBatsPitching', 'caughtStealingPitching',\n",
    "               'stolenBasesPitching', 'inningsPitched', 'saveOpportunities',\n",
    "               'earnedRuns', 'battersFaced', 'outsPitching', 'pitchesThrown', 'balls',\n",
    "               'strikes', 'hitBatsmen', 'balks', 'wildPitches', 'pickoffsPitching',\n",
    "               'rbiPitching', 'gamesFinishedPitching', 'inheritedRunners',\n",
    "               'inheritedRunnersScored', 'catchersInterferencePitching',\n",
    "               'sacBuntsPitching', 'sacFliesPitching', 'saves', 'holds', 'blownSaves',\n",
    "               'assists', 'putOuts', 'errors', 'chances',\n",
    "                'season_info', 'wildCardRank', 'award_flag'] \n",
    "\n",
    "        self.feature_cols3 = ['week_day','label_playerId', 'label_primaryPositionName', 'label_teamId',\n",
    "               'label_status', 'battingOrder', 'gamesPlayedBatting', 'flyOuts',\n",
    "               'groundOuts', 'runsScored', 'doubles', 'triples', 'homeRuns',\n",
    "               'strikeOuts', 'baseOnBalls', 'intentionalWalks', 'hits', 'hitByPitch',\n",
    "               'atBats', 'caughtStealing', 'stolenBases', 'groundIntoDoublePlay',\n",
    "               'groundIntoTriplePlay', 'plateAppearances', 'totalBases', 'rbi',\n",
    "               'leftOnBase', 'sacBunts', 'sacFlies', 'catchersInterference',\n",
    "               'pickoffs', 'gamesPlayedPitching', 'gamesStartedPitching',\n",
    "               'completeGamesPitching', 'shutoutsPitching', 'winsPitching',\n",
    "               'lossesPitching', 'flyOutsPitching', 'airOutsPitching',\n",
    "               'groundOutsPitching', 'runsPitching', 'doublesPitching',\n",
    "               'triplesPitching', 'homeRunsPitching', 'strikeOutsPitching',\n",
    "               'baseOnBallsPitching', 'intentionalWalksPitching', 'hitsPitching',\n",
    "               'hitByPitchPitching', 'atBatsPitching', 'caughtStealingPitching',\n",
    "               'stolenBasesPitching', 'inningsPitched', 'saveOpportunities',\n",
    "               'earnedRuns', 'battersFaced', 'outsPitching', 'pitchesThrown', 'balls',\n",
    "               'strikes', 'hitBatsmen', 'balks', 'wildPitches', 'pickoffsPitching',\n",
    "               'rbiPitching', 'gamesFinishedPitching', 'inheritedRunners',\n",
    "               'inheritedRunnersScored', 'catchersInterferencePitching',\n",
    "               'sacBuntsPitching', 'sacFliesPitching', 'saves', 'holds', 'blownSaves',\n",
    "               'assists', 'putOuts', 'errors', 'chances',\n",
    "                'season_info', 'wildCardRank', 'diffmlbDebutDateflag', 'sincemlbDebutDateflag', 'award_flag'] \n",
    "\n",
    "        self.feature_cols4 = ['week_day', 'annual_day', 'month', 'label_playerId', 'label_primaryPositionName', 'label_teamId', 'label_birthCity',\n",
    "                        'DOY', 'mlbDebutYear', 'DebutAge', 'heightInches', 'weight',\n",
    "               'label_status', 'battingOrder', 'gamesPlayedBatting', 'flyOuts',\n",
    "               'groundOuts', 'runsScored', 'doubles', 'triples', 'homeRuns',\n",
    "               'strikeOuts', 'baseOnBalls', 'intentionalWalks', 'hits', 'hitByPitch',\n",
    "               'atBats', 'caughtStealing', 'stolenBases', 'groundIntoDoublePlay',\n",
    "               'groundIntoTriplePlay', 'plateAppearances', 'totalBases', 'rbi',\n",
    "               'leftOnBase', 'sacBunts', 'sacFlies', 'catchersInterference',\n",
    "               'pickoffs', 'gamesPlayedPitching', 'gamesStartedPitching',\n",
    "               'completeGamesPitching', 'shutoutsPitching', 'winsPitching',\n",
    "               'lossesPitching', 'flyOutsPitching', 'airOutsPitching',\n",
    "               'groundOutsPitching', 'runsPitching', 'doublesPitching',\n",
    "               'triplesPitching', 'homeRunsPitching', 'strikeOutsPitching',\n",
    "               'baseOnBallsPitching', 'intentionalWalksPitching', 'hitsPitching',\n",
    "               'hitByPitchPitching', 'atBatsPitching', 'caughtStealingPitching',\n",
    "               'stolenBasesPitching', 'inningsPitched', 'saveOpportunities',\n",
    "               'earnedRuns', 'battersFaced', 'outsPitching', 'pitchesThrown', 'balls',\n",
    "               'strikes', 'hitBatsmen', 'balks', 'wildPitches', 'pickoffsPitching',\n",
    "               'rbiPitching', 'gamesFinishedPitching', 'inheritedRunners',\n",
    "               'inheritedRunnersScored', 'catchersInterferencePitching',\n",
    "               'sacBuntsPitching', 'sacFliesPitching', 'saves', 'holds', 'blownSaves',\n",
    "               'assists', 'putOuts', 'errors', 'chances',\n",
    "                'season_info', 'wildCardRank', 'diffmlbDebutDateflag', 'sincemlbDebutDateflag', 'award_flag'] \n",
    "        \n",
    "        \n",
    "        # lightgbm\n",
    "        self.params1 = {'objective':'mae',\n",
    "                       'reg_alpha': 0.14947461820098767, \n",
    "                       'reg_lambda': 0.10185644384043743, \n",
    "                       'n_estimators': 3633, \n",
    "                       'learning_rate': 0.08046301304430488, \n",
    "                       'num_leaves': 674, \n",
    "                       'feature_fraction': 0.9101240539122566, \n",
    "                       'bagging_fraction': 0.9884451442950513, \n",
    "                       'bagging_freq': 8, \n",
    "                       'min_child_samples': 51}\n",
    "\n",
    "\n",
    "        self.params2 = {'objective':'mae',\n",
    "                       'reg_alpha': 0.1,\n",
    "                       'reg_lambda': 0.1, \n",
    "                       'n_estimators': 80,\n",
    "                       'learning_rate': 0.1,\n",
    "                       'random_state': 42,\n",
    "                       \"num_leaves\": 22}\n",
    "\n",
    "\n",
    "\n",
    "        self.params3 = {'objective':'mae',\n",
    "                       'reg_alpha': 0.1,\n",
    "                       'reg_lambda': 0.1, \n",
    "                       'n_estimators': 10000,\n",
    "                       'learning_rate': 0.1,\n",
    "                       'random_state': 42,\n",
    "                       \"num_leaves\": 100}\n",
    "\n",
    "        self.params4 = {'objective':'mae',\n",
    "                       'reg_alpha': 0.016468100279441976, \n",
    "                       'reg_lambda': 0.09128335764019105, \n",
    "                       'n_estimators': 9868, \n",
    "                       'learning_rate': 0.10528150510326864, \n",
    "                       'num_leaves': 157, \n",
    "                       'feature_fraction': 0.5419185713426886, \n",
    "                       'bagging_fraction': 0.2637405128936662, \n",
    "                       'bagging_freq': 19, \n",
    "                       'min_child_samples': 71}\n",
    "\n",
    "    def make_feature(self, train_elements_dict):\n",
    "\n",
    "        players = train_elements_dict['players']\n",
    "        rosters = train_elements_dict['rosters']\n",
    "        targets = train_elements_dict['targets']\n",
    "        scores = train_elements_dict['scores']\n",
    "        seasons = train_elements_dict['seasons']\n",
    "        teams = train_elements_dict['teams']\n",
    "        standings = train_elements_dict['standings']\n",
    "\n",
    "        print('calc target stat ... ', end=\"\")\n",
    "\n",
    "        ## target stats\n",
    "        targets_train = targets.merge(rosters[self.rosters_cols], on=['playerId', 'date'], how='left')\n",
    "        targets_train = targets_train[(targets_train['date'] >= 20210601) & (targets_train['date'] < 20210701)]\n",
    "\n",
    "        playerId_list = targets_train['playerId'].unique()\n",
    "        player_target_probs = pd.DataFrame(columns = self.stat_cols)  \n",
    "        for pid in tqdm(playerId_list):\n",
    "            temp = targets_train[targets_train['playerId'] == pid]\n",
    "            player_target_stats=calc_probs(pid,player_target_probs,temp)\n",
    "\n",
    "        teamId_list = targets_train['teamId'].dropna().unique()\n",
    "        team_target_probs = pd.DataFrame(columns = self.stat_cols)\n",
    "        for pid in tqdm(teamId_list):\n",
    "            temp = targets_train[targets_train['teamId'] == pid]\n",
    "            team_target_stats=calc_probs(pid,team_target_probs,temp)\n",
    "\n",
    "        team_stat_cols = self.stat_cols\n",
    "        team_stat_cols = team_stat_cols[:1] + [\"team_\" + word for word in team_stat_cols[1:]]\n",
    "        team_target_stats.columns = team_stat_cols\n",
    "\n",
    "        self.feature_cols1 += self.stat_cols[1:-6]\n",
    "        self.feature_cols2 += self.stat_cols[1:-6]\n",
    "        self.feature_cols3 += self.stat_cols[1:-6]\n",
    "        self.feature_cols4 += self.stat_cols[1:-6]\n",
    "\n",
    "        self.feature_cols1 += team_stat_cols[1:]\n",
    "        self.feature_cols2 += team_stat_cols[1:]\n",
    "        self.feature_cols3 += team_stat_cols[1:]\n",
    "        self.feature_cols4 += team_stat_cols[1:]\n",
    "\n",
    "        print('done.')\n",
    "\n",
    "        print('preprocess ... ', end=\"\")\n",
    "        ## salaries\n",
    "        # salaries = salaries.groupby(['year', 'team']).sum()['salary'].reset_index()\n",
    "        # salaries['team'] = salaries['team'].apply(map_team_name)\n",
    "        # salaries = salaries.merge(teams, left_on='team', right_on='name', how='inner')\n",
    "        # salaries = salaries.rename(columns={'id': 'teamId'})\n",
    "\n",
    "        ## seasons\n",
    "        seasons = seasons.fillna('0000-00-00')\n",
    "        for c_ in seasons.columns[1:]:\n",
    "            seasons[c_] = seasons[c_].str.replace('-', '').astype(int)\n",
    "\n",
    "        ## players\n",
    "        players['DOY'] = pd.to_datetime(players['DOB'], format=\"%Y-%m-%d\").dt.year\n",
    "        players['mlbDebutYear'] = pd.to_datetime(players['mlbDebutDate'], format=\"%Y-%m-%d\").dt.year\n",
    "        players['DebutAge'] = players['mlbDebutYear'] - players['DOY']\n",
    "        players['mlbDebutDate'] = pd.to_numeric(players['mlbDebutDate'].str.replace('-', ''), errors=\"coerce\")\n",
    "\n",
    "        print('done.')\n",
    "\n",
    "        print('creat feature ... ', end=\"\")\n",
    "        # creat feature\n",
    "        train = targets[self.targets_cols].merge(players[self.players_cols], on=['playerId'], how='left')\n",
    "        train = train.merge(rosters[self.rosters_cols], on=['playerId', 'date'], how='left')\n",
    "        train = train.merge(scores[self.scores_cols], on=['playerId', 'date'], how='left')\n",
    "        train = train.merge(player_target_stats, how='inner', left_on=[\"playerId\"],right_on=[\"playerId\"])\n",
    "        train = train.merge(standings[self.standings_cols], on=['teamId', 'date'], how='left')\n",
    "        train = train.merge(team_target_stats, how='left', left_on=[\"teamId\"],right_on=[\"playerId\"], suffixes=('', 'team_'))\n",
    "        train = train.merge(awards, on=['playerId', 'date'], how='left')\n",
    "\n",
    "        \n",
    "        date_ = pd.to_datetime(train['date'], format=\"%Y%m%d\")\n",
    "        train['annual_day'] = (date_ - pd.to_datetime(date_.dt.year, format=\"%Y\")) /  timedelta(days=1)\n",
    "        train['week_day'] = date_.dt.weekday\n",
    "        train['month'] = date_.dt.month\n",
    "        train['year'] = date_.dt.year\n",
    "        train['mlbDebutDateflag'] = (train['mlbDebutDate'] == train['date']) * 1\n",
    "        train['sincemlbDebutDateflag'] = (train['date'] >= train['mlbDebutDate']) * 1\n",
    "        train['diffmlbDebutDateflag'] = (train['date'] - train['mlbDebutDate'])\n",
    "\n",
    "        # label encoding\n",
    "        player2num = {c: i for i, c in enumerate(train['playerId'].unique())}\n",
    "        position2num = {c: i for i, c in enumerate(train['primaryPositionName'].unique())}\n",
    "        birthCityn2num = {c: i for i, c in enumerate(train['birthCity'].unique())}\n",
    "        teamid2num = {c: i for i, c in enumerate(train['teamId'].unique())}\n",
    "        status2num = {c: i for i, c in enumerate(train['status'].unique())}\n",
    "        awardName2num = {c: i for i, c in enumerate(train['awardName'].unique())}\n",
    "        train['label_playerId'] = train['playerId'].map(player2num)\n",
    "        train['label_primaryPositionName'] = train['primaryPositionName'].map(position2num)\n",
    "        train['label_birthCity'] = train['birthCity'].map(birthCityn2num)\n",
    "        train['label_teamId'] = train['teamId'].map(teamid2num)\n",
    "        train['label_status'] = train['status'].map(status2num)\n",
    "        train['award_flag'] = train['awardSeason'].isna()*1\n",
    "\n",
    "\n",
    "        ## season_info\n",
    "        on_preseason_idxes = extract_season(train['date'], seasons[['preSeasonStartDate', 'preSeasonEndDate']])\n",
    "        on_season_idxes = extract_season(train['date'], seasons[['regularSeasonStartDate', 'regularSeasonEndDate']]) * 2\n",
    "        on_postseason_idxes = extract_season(train['date'], seasons[['postSeasonStartDate', 'postSeasonEndDate']]) * 3\n",
    "\n",
    "        special_days = seasons['lastDate1stHalf'].to_list() + seasons['allStarDate'].to_list() + seasons['firstDate2ndHalf'].to_list()\n",
    "        special_idxes = 0\n",
    "        for day in special_days:\n",
    "            special_idxes += (train['date'] == day) * 4\n",
    "\n",
    "        on_total_season_idxes = on_preseason_idxes\n",
    "        on_total_season_idxes[on_season_idxes==2] = 2\n",
    "        on_total_season_idxes[on_postseason_idxes==3] = 3\n",
    "        on_total_season_idxes[special_idxes==4] = 4\n",
    "\n",
    "        train['season_info'] = on_total_season_idxes\n",
    "\n",
    "        ## only on season\n",
    "        on_whole_idxes = extract_season(train['date'], seasons[['seasonStartDate', 'seasonEndDate']])\n",
    "        train = train[on_whole_idxes == 1].reset_index(drop=True)\n",
    "\n",
    "        # train = train.merge(playerTwitterFollowers, how='left', on=[\"playerId\", 'date'])\n",
    "\n",
    "        ## only test_player\n",
    "        train = train[train['playerForTestSetAndFuturePreds']==True].reset_index(drop=True)\n",
    "\n",
    "        print('done.')\n",
    "        \n",
    "        train_features_dict = {'players': players,\n",
    "                               'seasons': seasons,\n",
    "                                'player_target_stats': player_target_stats,\n",
    "                                'team_target_stats': team_target_stats,\n",
    "                                'player2num': player2num, \n",
    "                                'position2num': position2num, \n",
    "                                'birthCityn2num': birthCityn2num,\n",
    "                                'teamid2num': teamid2num,\n",
    "                                'status2num': status2num,\n",
    "                                'feature_cols1': self.feature_cols1,\n",
    "                                'feature_cols2': self.feature_cols2,\n",
    "                                'feature_cols3': self.feature_cols3,\n",
    "                                'feature_cols4': self.feature_cols4,\n",
    "                                'rosters_cols_all': list(rosters.columns),\n",
    "                                'scores_cols_all': list(scores.columns),\n",
    "                                'standings_cols_all': list(standings.columns),\n",
    "                                'awards_cols_all': list(awards.columns)\n",
    "                              }\n",
    "        \n",
    "        if self.usetimelinefeature:\n",
    "            ## game_info\n",
    "            train['gameday'] = ~train['battingOrder'].isna()*1\n",
    "            train.sort_values(by=['playerId','date'],inplace=True,ascending=True)\n",
    "\n",
    "            train=count_consecutive_items_n_cols(train,['playerId','gameday'],'daysSinceLastGame')\n",
    "            train.loc[train['gameday']==1,'daysSinceLastGame'] = 0\n",
    "\n",
    "            train_game = train[train['gameday']==1]\n",
    "            train_last_game = train_game[~train_game.duplicated(subset='playerId', keep='last')][['playerId', 'date']]\n",
    "            train_last_game.columns = ['playerId', 'lastdate']\n",
    "            train_player_unique = pd.DataFrame(train['playerId'].unique(), columns=['playerId'])\n",
    "            train_last_game = pd.merge(train_player_unique, train_last_game, on=['playerId'], how='left' )\n",
    "            train_last_game = train_last_game.fillna(20171231)\n",
    "            \n",
    "            train_features_dict['train_last_game'] = train_last_game\n",
    "            self.feature_cols1 += ['daysSinceLastGame']\n",
    "            self.feature_cols2 += ['daysSinceLastGame']\n",
    "            self.feature_cols3 += ['daysSinceLastGame']\n",
    "            self.feature_cols4 += ['daysSinceLastGame']\n",
    "            \n",
    "            \n",
    "            ## rosters_info\n",
    "            train['rosterday'] = ~train['status'].isna()*1\n",
    "            train.sort_values(by=['playerId','date'],inplace=True,ascending=True)\n",
    "\n",
    "            train=count_consecutive_items_n_cols(train,['playerId','rosterday'],'daysSinceLastRoster')\n",
    "            train.loc[train['rosterday']==1,'daysSinceLastRoster'] = 0\n",
    "\n",
    "            train_roster= train[train['rosterday']==1]\n",
    "            train_last_roster = train_roster[~train_roster.duplicated(subset='playerId', keep='last')][['playerId', 'date']]\n",
    "            train_last_roster.columns = ['playerId', 'lastroster']\n",
    "            train_player_unique = pd.DataFrame(train['playerId'].unique(), columns=['playerId'])\n",
    "            train_last_roster = pd.merge(train_player_unique, train_last_roster, on=['playerId'], how='left' )\n",
    "            train_last_roster = train_last_roster.fillna(20171231)\n",
    "            \n",
    "            train_features_dict['train_last_roster'] = train_last_roster\n",
    "            self.feature_cols1 += ['daysSinceLastRoster']\n",
    "            self.feature_cols2 += ['daysSinceLastRoster']\n",
    "            self.feature_cols3 += ['daysSinceLastRoster']\n",
    "            self.feature_cols4 += ['daysSinceLastRoster']\n",
    "\n",
    "\n",
    "        return train, train_features_dict\n",
    "    \n",
    "    def train_and_evaluate(self, train, isgamedayonly=False):\n",
    "        \n",
    "        if isgamedayonly:\n",
    "            train = train[train['gameday'] == 1].reset_index(drop=True)\n",
    "            \n",
    "        train_X = train\n",
    "        train_y = train[['target1', 'target2', 'target3', 'target4']]\n",
    "\n",
    "        oof = np.zeros(train_y.shape) - 1.0\n",
    "        y_valids = np.zeros(train_y.shape) - 1.0\n",
    "\n",
    "        tr_idx = (train['date'].astype(int) < 20210401)\n",
    "        val_idx = ~tr_idx\n",
    "\n",
    "        x_train = train_X.loc[tr_idx].reset_index(drop=True)\n",
    "        y_train = train_y.loc[tr_idx].reset_index(drop=True)\n",
    "        x_valid = train_X.loc[val_idx].reset_index(drop=True)\n",
    "        y_valid = train_y.loc[val_idx].reset_index(drop=True)\n",
    "\n",
    "        study1 = optuna.create_study(direction='maximize')\n",
    "        study1.optimize(fit_lgbm(x_train[self.feature_cols1], y_train['target1'], \n",
    "                                 x_valid[self.feature_cols1], y_valid['target1']), n_trials=100)\n",
    "        \n",
    "        study2 = optuna.create_study(direction='maximize')\n",
    "        study2.optimize(fit_lgbm(x_train[self.feature_cols2], y_train['target2'], \n",
    "                                 x_valid[self.feature_cols2], y_valid['target2']), n_trials=100)\n",
    "        \n",
    "        study3 = optuna.create_study(direction='maximize')\n",
    "        study3.optimize(fit_lgbm(x_train[self.feature_cols3], y_train['target3'], \n",
    "                                 x_valid[self.feature_cols3], y_valid['target3']), n_trials=100)\n",
    "        \n",
    "        study4 = optuna.create_study(direction='maximize')\n",
    "        study4.optimize(fit_lgbm(x_train[self.feature_cols4], y_train['target4'], \n",
    "                                 x_valid[self.feature_cols4], y_valid['target4']), n_trials=100)\n",
    "\n",
    "#         oof1, model1, score1 = fit_lgbm(\n",
    "#             x_train[self.feature_cols1], y_train['target1'],\n",
    "#             x_valid[self.feature_cols1], y_valid['target1'],\n",
    "# #             self.params1\n",
    "#         )\n",
    "#         oof2, model2, score2 = fit_lgbm(\n",
    "#             x_train[self.feature_cols2], y_train['target2'],\n",
    "#             x_valid[self.feature_cols2], y_valid['target2'],\n",
    "# #             self.params2\n",
    "#         )\n",
    "#         oof3, model3, score3 = fit_lgbm(\n",
    "#             x_train[self.feature_cols3], y_train['target3'],\n",
    "#             x_valid[self.feature_cols3], y_valid['target3'],\n",
    "# #             self.params3\n",
    "#         )\n",
    "#         oof4, model4, score4 = fit_lgbm(\n",
    "#             x_train[self.feature_cols4], y_train['target4'],\n",
    "#             x_valid[self.feature_cols4], y_valid['target4'],\n",
    "# #             self.params4\n",
    "#         )\n",
    "\n",
    "#         score = (score1+score2+score3+score4) / 4\n",
    "#         print(f'score: {score}')\n",
    "\n",
    "#         oof[val_idx, 0] = oof1\n",
    "#         oof[val_idx, 1] = oof2\n",
    "#         oof[val_idx, 2] = oof3\n",
    "#         oof[val_idx, 3] = oof4\n",
    "#         y_valids[val_idx, 0] = y_valid['target1'].values\n",
    "#         y_valids[val_idx, 1] = y_valid['target2'].values\n",
    "#         y_valids[val_idx, 2] = y_valid['target3'].values\n",
    "#         y_valids[val_idx, 3] = y_valid['target4'].values\n",
    "\n",
    "#         mae = mean_absolute_error(y_valids[val_idx, :], oof[val_idx, :])\n",
    "#         print(\"mae:\", mae)\n",
    "\n",
    "#         val_idx_num = val_idx[val_idx==True].index.to_list()\n",
    "\n",
    "#         oof_df = train[self.targets_cols]\n",
    "#         oof_df.iloc[val_idx_num, 1:5] = oof[val_idx_num, :]\n",
    "\n",
    "#         models = np.array([model1, model2, model3, model4])\n",
    "\n",
    "        return study1, study2, study3, study4"
   ]
  },
  {
   "cell_type": "code",
   "execution_count": 17,
   "id": "885c13a3",
   "metadata": {},
   "outputs": [
    {
     "name": "stdout",
     "output_type": "stream",
     "text": [
      "calc target stat ... "
     ]
    },
    {
     "name": "stderr",
     "output_type": "stream",
     "text": [
      "100%|██████████| 2061/2061 [00:45<00:00, 45.22it/s]\n",
      "100%|██████████| 30/30 [00:00<00:00, 42.59it/s]\n"
     ]
    },
    {
     "name": "stdout",
     "output_type": "stream",
     "text": [
      "done.\n",
      "preprocess ... done.\n",
      "creat feature ... done.\n"
     ]
    }
   ],
   "source": [
    "rt4kaido_train = Rt4kaidoTrain(usetimelinefeature=True)\n",
    "train, train_features_dict = rt4kaido_train.make_feature(train_elements_dict)"
   ]
  },
  {
   "cell_type": "code",
   "execution_count": 18,
   "id": "05a80240",
   "metadata": {},
   "outputs": [
    {
     "name": "stderr",
     "output_type": "stream",
     "text": [
      "\u001b[32m[I 2021-07-31 11:37:42,363]\u001b[0m A new study created in memory with name: no-name-366e185e-b15a-44fe-bb32-7d4529ebbade\u001b[0m\n"
     ]
    },
    {
     "name": "stdout",
     "output_type": "stream",
     "text": [
      "[LightGBM] [Warning] feature_fraction is set=0.8651879014599333, colsample_bytree=0.8 will be ignored. Current value: feature_fraction=0.8651879014599333\n",
      "[LightGBM] [Warning] bagging_fraction is set=0.3850354779482545, subsample=0.7 will be ignored. Current value: bagging_fraction=0.3850354779482545\n",
      "[LightGBM] [Warning] bagging_freq is set=19, subsample_freq=0 will be ignored. Current value: bagging_freq=19\n",
      "Training until validation scores don't improve for 100 rounds\n",
      "[100]\ttraining's l1: 0.861943\tvalid_1's l1: 1.09963\n",
      "[200]\ttraining's l1: 0.85658\tvalid_1's l1: 1.09263\n",
      "[300]\ttraining's l1: 0.853622\tvalid_1's l1: 1.0889\n",
      "[400]\ttraining's l1: 0.85214\tvalid_1's l1: 1.08656\n",
      "Early stopping, best iteration is:\n",
      "[342]\ttraining's l1: 0.852149\tvalid_1's l1: 1.08655\n"
     ]
    },
    {
     "name": "stderr",
     "output_type": "stream",
     "text": [
      "\u001b[32m[I 2021-07-31 11:37:51,412]\u001b[0m Trial 0 finished with value: -1.0864379323188325 and parameters: {'max_depth': 6, 'min_child_weight': 18, 'subsample': 0.7, 'colsample_bytree': 0.8, 'reg_lambda': 9.286304708501106, 'reg_alpha': 0.0017432978247426576, 'feature_fraction': 0.8651879014599333, 'bagging_fraction': 0.3850354779482545, 'bagging_freq': 19, 'num_leaves': 514, 'min_child_samples': 85}. Best is trial 0 with value: -1.0864379323188325.\u001b[0m\n"
     ]
    },
    {
     "name": "stdout",
     "output_type": "stream",
     "text": [
      "[LightGBM] [Warning] feature_fraction is set=0.5084759525341127, colsample_bytree=0.8 will be ignored. Current value: feature_fraction=0.5084759525341127\n",
      "[LightGBM] [Warning] bagging_fraction is set=0.9058729651773996, subsample=0.9 will be ignored. Current value: bagging_fraction=0.9058729651773996\n",
      "[LightGBM] [Warning] bagging_freq is set=15, subsample_freq=0 will be ignored. Current value: bagging_freq=15\n",
      "Training until validation scores don't improve for 100 rounds\n",
      "[100]\ttraining's l1: 0.865096\tvalid_1's l1: 1.10429\n",
      "[200]\ttraining's l1: 0.863625\tvalid_1's l1: 1.10261\n",
      "[300]\ttraining's l1: 0.862114\tvalid_1's l1: 1.10127\n",
      "[400]\ttraining's l1: 0.857113\tvalid_1's l1: 1.09429\n",
      "[500]\ttraining's l1: 0.850086\tvalid_1's l1: 1.08701\n",
      "[600]\ttraining's l1: 0.846281\tvalid_1's l1: 1.08433\n",
      "[700]\ttraining's l1: 0.842666\tvalid_1's l1: 1.08113\n",
      "[800]\ttraining's l1: 0.837976\tvalid_1's l1: 1.07833\n",
      "[900]\ttraining's l1: 0.835519\tvalid_1's l1: 1.07721\n",
      "[1000]\ttraining's l1: 0.833193\tvalid_1's l1: 1.07585\n",
      "[1100]\ttraining's l1: 0.83075\tvalid_1's l1: 1.07495\n",
      "[1200]\ttraining's l1: 0.827757\tvalid_1's l1: 1.07304\n",
      "[1300]\ttraining's l1: 0.825649\tvalid_1's l1: 1.07265\n",
      "[1400]\ttraining's l1: 0.824152\tvalid_1's l1: 1.07254\n",
      "[1500]\ttraining's l1: 0.822777\tvalid_1's l1: 1.07265\n",
      "Early stopping, best iteration is:\n",
      "[1400]\ttraining's l1: 0.824152\tvalid_1's l1: 1.07254\n"
     ]
    },
    {
     "name": "stderr",
     "output_type": "stream",
     "text": [
      "\u001b[32m[I 2021-07-31 11:38:52,209]\u001b[0m Trial 1 finished with value: -1.0721475039056074 and parameters: {'max_depth': 13, 'min_child_weight': 16, 'subsample': 0.9, 'colsample_bytree': 0.8, 'reg_lambda': 0.1315926169926961, 'reg_alpha': 0.0021397995460407104, 'feature_fraction': 0.5084759525341127, 'bagging_fraction': 0.9058729651773996, 'bagging_freq': 15, 'num_leaves': 115, 'min_child_samples': 83}. Best is trial 1 with value: -1.0721475039056074.\u001b[0m\n"
     ]
    },
    {
     "name": "stdout",
     "output_type": "stream",
     "text": [
      "[LightGBM] [Warning] feature_fraction is set=0.6510396173569657, colsample_bytree=0.8 will be ignored. Current value: feature_fraction=0.6510396173569657\n",
      "[LightGBM] [Warning] bagging_fraction is set=0.4101437264684882, subsample=0.9 will be ignored. Current value: bagging_fraction=0.4101437264684882\n",
      "[LightGBM] [Warning] bagging_freq is set=16, subsample_freq=0 will be ignored. Current value: bagging_freq=16\n",
      "Training until validation scores don't improve for 100 rounds\n",
      "[100]\ttraining's l1: 0.926014\tvalid_1's l1: 1.18742\n",
      "[200]\ttraining's l1: 0.919502\tvalid_1's l1: 1.17559\n",
      "[300]\ttraining's l1: 0.915548\tvalid_1's l1: 1.16832\n",
      "[400]\ttraining's l1: 0.914248\tvalid_1's l1: 1.16598\n",
      "[500]\ttraining's l1: 0.912265\tvalid_1's l1: 1.16238\n",
      "[600]\ttraining's l1: 0.911148\tvalid_1's l1: 1.16012\n",
      "[700]\ttraining's l1: 0.910465\tvalid_1's l1: 1.15824\n",
      "[800]\ttraining's l1: 0.910428\tvalid_1's l1: 1.15812\n",
      "[900]\ttraining's l1: 0.910371\tvalid_1's l1: 1.158\n",
      "Early stopping, best iteration is:\n",
      "[834]\ttraining's l1: 0.910389\tvalid_1's l1: 1.15798\n"
     ]
    },
    {
     "name": "stderr",
     "output_type": "stream",
     "text": [
      "\u001b[32m[I 2021-07-31 11:39:03,314]\u001b[0m Trial 2 finished with value: -1.1578076109936313 and parameters: {'max_depth': 2, 'min_child_weight': 5, 'subsample': 0.9, 'colsample_bytree': 0.8, 'reg_lambda': 0.22191682771810378, 'reg_alpha': 4.598597487450613, 'feature_fraction': 0.6510396173569657, 'bagging_fraction': 0.4101437264684882, 'bagging_freq': 16, 'num_leaves': 911, 'min_child_samples': 51}. Best is trial 1 with value: -1.0721475039056074.\u001b[0m\n"
     ]
    },
    {
     "name": "stdout",
     "output_type": "stream",
     "text": [
      "[LightGBM] [Warning] feature_fraction is set=0.8658300578024927, colsample_bytree=0.9 will be ignored. Current value: feature_fraction=0.8658300578024927\n",
      "[LightGBM] [Warning] bagging_fraction is set=0.5841242269832614, subsample=0.9 will be ignored. Current value: bagging_fraction=0.5841242269832614\n",
      "[LightGBM] [Warning] bagging_freq is set=13, subsample_freq=0 will be ignored. Current value: bagging_freq=13\n",
      "Training until validation scores don't improve for 100 rounds\n",
      "[100]\ttraining's l1: 0.860985\tvalid_1's l1: 1.09816\n",
      "[200]\ttraining's l1: 0.854251\tvalid_1's l1: 1.09109\n",
      "[300]\ttraining's l1: 0.85058\tvalid_1's l1: 1.08526\n",
      "[400]\ttraining's l1: 0.850542\tvalid_1's l1: 1.08525\n",
      "Early stopping, best iteration is:\n",
      "[373]\ttraining's l1: 0.850548\tvalid_1's l1: 1.08525\n"
     ]
    },
    {
     "name": "stderr",
     "output_type": "stream",
     "text": [
      "\u001b[32m[I 2021-07-31 11:39:15,093]\u001b[0m Trial 3 finished with value: -1.08515386389667 and parameters: {'max_depth': 6, 'min_child_weight': 17, 'subsample': 0.9, 'colsample_bytree': 0.9, 'reg_lambda': 0.1787558596225555, 'reg_alpha': 0.0019893303573913497, 'feature_fraction': 0.8658300578024927, 'bagging_fraction': 0.5841242269832614, 'bagging_freq': 13, 'num_leaves': 558, 'min_child_samples': 94}. Best is trial 1 with value: -1.0721475039056074.\u001b[0m\n"
     ]
    },
    {
     "name": "stdout",
     "output_type": "stream",
     "text": [
      "[LightGBM] [Warning] feature_fraction is set=0.664365206922823, colsample_bytree=0.9 will be ignored. Current value: feature_fraction=0.664365206922823\n",
      "[LightGBM] [Warning] bagging_fraction is set=0.28096061387510746, subsample=0.6 will be ignored. Current value: bagging_fraction=0.28096061387510746\n",
      "[LightGBM] [Warning] bagging_freq is set=18, subsample_freq=0 will be ignored. Current value: bagging_freq=18\n",
      "Training until validation scores don't improve for 100 rounds\n",
      "[100]\ttraining's l1: 0.831409\tvalid_1's l1: 1.07887\n",
      "[200]\ttraining's l1: 0.823524\tvalid_1's l1: 1.07854\n",
      "Early stopping, best iteration is:\n",
      "[139]\ttraining's l1: 0.82787\tvalid_1's l1: 1.0778\n"
     ]
    },
    {
     "name": "stderr",
     "output_type": "stream",
     "text": [
      "\u001b[32m[I 2021-07-31 11:39:25,239]\u001b[0m Trial 4 finished with value: -1.077455489484765 and parameters: {'max_depth': 12, 'min_child_weight': 3, 'subsample': 0.6, 'colsample_bytree': 0.9, 'reg_lambda': 0.03547241757871611, 'reg_alpha': 0.1670429776289356, 'feature_fraction': 0.664365206922823, 'bagging_fraction': 0.28096061387510746, 'bagging_freq': 18, 'num_leaves': 652, 'min_child_samples': 36}. Best is trial 1 with value: -1.0721475039056074.\u001b[0m\n"
     ]
    },
    {
     "name": "stdout",
     "output_type": "stream",
     "text": [
      "[LightGBM] [Warning] feature_fraction is set=0.30315645335670993, colsample_bytree=0.6 will be ignored. Current value: feature_fraction=0.30315645335670993\n",
      "[LightGBM] [Warning] bagging_fraction is set=0.41218180277256694, subsample=0.9 will be ignored. Current value: bagging_fraction=0.41218180277256694\n",
      "[LightGBM] [Warning] bagging_freq is set=20, subsample_freq=0 will be ignored. Current value: bagging_freq=20\n",
      "Training until validation scores don't improve for 100 rounds\n",
      "[100]\ttraining's l1: 0.867935\tvalid_1's l1: 1.10755\n",
      "[200]\ttraining's l1: 0.864886\tvalid_1's l1: 1.10251\n",
      "[300]\ttraining's l1: 0.864128\tvalid_1's l1: 1.10192\n",
      "[400]\ttraining's l1: 0.863709\tvalid_1's l1: 1.10147\n",
      "[500]\ttraining's l1: 0.862706\tvalid_1's l1: 1.09954\n",
      "[600]\ttraining's l1: 0.861885\tvalid_1's l1: 1.09865\n",
      "[700]\ttraining's l1: 0.860185\tvalid_1's l1: 1.09648\n",
      "[800]\ttraining's l1: 0.858861\tvalid_1's l1: 1.09355\n",
      "[900]\ttraining's l1: 0.858155\tvalid_1's l1: 1.09264\n",
      "[1000]\ttraining's l1: 0.856515\tvalid_1's l1: 1.09016\n",
      "[1100]\ttraining's l1: 0.85566\tvalid_1's l1: 1.08939\n",
      "[1200]\ttraining's l1: 0.855094\tvalid_1's l1: 1.08918\n",
      "[1300]\ttraining's l1: 0.854419\tvalid_1's l1: 1.08823\n",
      "[1400]\ttraining's l1: 0.853742\tvalid_1's l1: 1.08758\n",
      "[1500]\ttraining's l1: 0.852757\tvalid_1's l1: 1.08666\n",
      "[1600]\ttraining's l1: 0.851846\tvalid_1's l1: 1.08565\n",
      "[1700]\ttraining's l1: 0.851274\tvalid_1's l1: 1.08538\n",
      "[1800]\ttraining's l1: 0.850815\tvalid_1's l1: 1.08537\n",
      "Early stopping, best iteration is:\n",
      "[1783]\ttraining's l1: 0.850856\tvalid_1's l1: 1.08532\n"
     ]
    },
    {
     "name": "stderr",
     "output_type": "stream",
     "text": [
      "\u001b[32m[I 2021-07-31 11:40:04,628]\u001b[0m Trial 5 finished with value: -1.084821948545643 and parameters: {'max_depth': 11, 'min_child_weight': 20, 'subsample': 0.9, 'colsample_bytree': 0.6, 'reg_lambda': 25.28775090609505, 'reg_alpha': 111.97886299728567, 'feature_fraction': 0.30315645335670993, 'bagging_fraction': 0.41218180277256694, 'bagging_freq': 20, 'num_leaves': 94, 'min_child_samples': 67}. Best is trial 1 with value: -1.0721475039056074.\u001b[0m\n"
     ]
    },
    {
     "name": "stdout",
     "output_type": "stream",
     "text": [
      "[LightGBM] [Warning] feature_fraction is set=0.31679151968019775, colsample_bytree=0.5 will be ignored. Current value: feature_fraction=0.31679151968019775\n",
      "[LightGBM] [Warning] bagging_fraction is set=0.7754837830451216, subsample=0.6 will be ignored. Current value: bagging_fraction=0.7754837830451216\n",
      "[LightGBM] [Warning] bagging_freq is set=4, subsample_freq=0 will be ignored. Current value: bagging_freq=4\n",
      "Training until validation scores don't improve for 100 rounds\n",
      "[100]\ttraining's l1: 0.830389\tvalid_1's l1: 1.08139\n",
      "[200]\ttraining's l1: 0.818826\tvalid_1's l1: 1.07779\n",
      "[300]\ttraining's l1: 0.81675\tvalid_1's l1: 1.0772\n",
      "[400]\ttraining's l1: 0.815486\tvalid_1's l1: 1.07689\n",
      "[500]\ttraining's l1: 0.813237\tvalid_1's l1: 1.07682\n",
      "Early stopping, best iteration is:\n",
      "[441]\ttraining's l1: 0.814853\tvalid_1's l1: 1.07675\n"
     ]
    },
    {
     "name": "stderr",
     "output_type": "stream",
     "text": [
      "\u001b[32m[I 2021-07-31 11:40:33,049]\u001b[0m Trial 6 finished with value: -1.076451507481188 and parameters: {'max_depth': 12, 'min_child_weight': 1, 'subsample': 0.6, 'colsample_bytree': 0.5, 'reg_lambda': 29.50991313315194, 'reg_alpha': 5.474699542468478, 'feature_fraction': 0.31679151968019775, 'bagging_fraction': 0.7754837830451216, 'bagging_freq': 4, 'num_leaves': 640, 'min_child_samples': 81}. Best is trial 1 with value: -1.0721475039056074.\u001b[0m\n"
     ]
    },
    {
     "name": "stdout",
     "output_type": "stream",
     "text": [
      "[LightGBM] [Warning] feature_fraction is set=0.3797647630610761, colsample_bytree=0.8 will be ignored. Current value: feature_fraction=0.3797647630610761\n",
      "[LightGBM] [Warning] bagging_fraction is set=0.6139483557549203, subsample=0.9 will be ignored. Current value: bagging_fraction=0.6139483557549203\n",
      "[LightGBM] [Warning] bagging_freq is set=14, subsample_freq=0 will be ignored. Current value: bagging_freq=14\n",
      "Training until validation scores don't improve for 100 rounds\n",
      "[100]\ttraining's l1: 0.842864\tvalid_1's l1: 1.08377\n",
      "[200]\ttraining's l1: 0.837978\tvalid_1's l1: 1.0794\n",
      "Early stopping, best iteration is:\n",
      "[160]\ttraining's l1: 0.838091\tvalid_1's l1: 1.07929\n"
     ]
    },
    {
     "name": "stderr",
     "output_type": "stream",
     "text": [
      "\u001b[32m[I 2021-07-31 11:40:42,042]\u001b[0m Trial 7 finished with value: -1.0792196348022305 and parameters: {'max_depth': 8, 'min_child_weight': 20, 'subsample': 0.9, 'colsample_bytree': 0.8, 'reg_lambda': 0.07719683536621347, 'reg_alpha': 0.0010438803873106957, 'feature_fraction': 0.3797647630610761, 'bagging_fraction': 0.6139483557549203, 'bagging_freq': 14, 'num_leaves': 885, 'min_child_samples': 40}. Best is trial 1 with value: -1.0721475039056074.\u001b[0m\n"
     ]
    },
    {
     "name": "stdout",
     "output_type": "stream",
     "text": [
      "[LightGBM] [Warning] feature_fraction is set=0.6230987667120198, colsample_bytree=0.9 will be ignored. Current value: feature_fraction=0.6230987667120198\n",
      "[LightGBM] [Warning] bagging_fraction is set=0.8955178851812171, subsample=0.9 will be ignored. Current value: bagging_fraction=0.8955178851812171\n",
      "[LightGBM] [Warning] bagging_freq is set=18, subsample_freq=0 will be ignored. Current value: bagging_freq=18\n",
      "Training until validation scores don't improve for 100 rounds\n",
      "[100]\ttraining's l1: 0.834781\tvalid_1's l1: 1.08055\n",
      "[200]\ttraining's l1: 0.830184\tvalid_1's l1: 1.0775\n",
      "[300]\ttraining's l1: 0.82813\tvalid_1's l1: 1.07686\n",
      "[400]\ttraining's l1: 0.825947\tvalid_1's l1: 1.07603\n",
      "[500]\ttraining's l1: 0.822624\tvalid_1's l1: 1.07574\n",
      "[600]\ttraining's l1: 0.817636\tvalid_1's l1: 1.07548\n",
      "Early stopping, best iteration is:\n",
      "[553]\ttraining's l1: 0.819552\tvalid_1's l1: 1.07508\n"
     ]
    },
    {
     "name": "stderr",
     "output_type": "stream",
     "text": [
      "\u001b[32m[I 2021-07-31 11:41:18,814]\u001b[0m Trial 8 finished with value: -1.0748105411881914 and parameters: {'max_depth': 17, 'min_child_weight': 15, 'subsample': 0.9, 'colsample_bytree': 0.9, 'reg_lambda': 0.9247321097456453, 'reg_alpha': 10.329804339275343, 'feature_fraction': 0.6230987667120198, 'bagging_fraction': 0.8955178851812171, 'bagging_freq': 18, 'num_leaves': 496, 'min_child_samples': 68}. Best is trial 1 with value: -1.0721475039056074.\u001b[0m\n"
     ]
    },
    {
     "name": "stdout",
     "output_type": "stream",
     "text": [
      "[LightGBM] [Warning] feature_fraction is set=0.6437146177839659, colsample_bytree=0.8 will be ignored. Current value: feature_fraction=0.6437146177839659\n",
      "[LightGBM] [Warning] bagging_fraction is set=0.9985675782956682, subsample=0.8 will be ignored. Current value: bagging_fraction=0.9985675782956682\n",
      "[LightGBM] [Warning] bagging_freq is set=18, subsample_freq=0 will be ignored. Current value: bagging_freq=18\n",
      "Training until validation scores don't improve for 100 rounds\n",
      "[100]\ttraining's l1: 0.836878\tvalid_1's l1: 1.08172\n",
      "[200]\ttraining's l1: 0.83052\tvalid_1's l1: 1.07724\n",
      "[300]\ttraining's l1: 0.829004\tvalid_1's l1: 1.07727\n",
      "Early stopping, best iteration is:\n",
      "[220]\ttraining's l1: 0.829956\tvalid_1's l1: 1.077\n"
     ]
    },
    {
     "name": "stderr",
     "output_type": "stream",
     "text": [
      "\u001b[32m[I 2021-07-31 11:41:38,031]\u001b[0m Trial 9 finished with value: -1.0768344430159085 and parameters: {'max_depth': 14, 'min_child_weight': 9, 'subsample': 0.8, 'colsample_bytree': 0.8, 'reg_lambda': 134.45485542770345, 'reg_alpha': 0.0011628466646365016, 'feature_fraction': 0.6437146177839659, 'bagging_fraction': 0.9985675782956682, 'bagging_freq': 18, 'num_leaves': 443, 'min_child_samples': 22}. Best is trial 1 with value: -1.0721475039056074.\u001b[0m\n"
     ]
    },
    {
     "name": "stdout",
     "output_type": "stream",
     "text": [
      "[LightGBM] [Warning] feature_fraction is set=0.44149537672370026, colsample_bytree=0.6 will be ignored. Current value: feature_fraction=0.44149537672370026\n",
      "[LightGBM] [Warning] bagging_fraction is set=0.9894332940175653, subsample=0.5 will be ignored. Current value: bagging_fraction=0.9894332940175653\n",
      "[LightGBM] [Warning] bagging_freq is set=7, subsample_freq=0 will be ignored. Current value: bagging_freq=7\n",
      "Training until validation scores don't improve for 100 rounds\n",
      "[100]\ttraining's l1: 0.900397\tvalid_1's l1: 1.14962\n",
      "[200]\ttraining's l1: 0.900397\tvalid_1's l1: 1.14962\n",
      "[300]\ttraining's l1: 0.900127\tvalid_1's l1: 1.14942\n",
      "[400]\ttraining's l1: 0.896299\tvalid_1's l1: 1.14313\n",
      "[500]\ttraining's l1: 0.893584\tvalid_1's l1: 1.13888\n",
      "[600]\ttraining's l1: 0.891078\tvalid_1's l1: 1.13509\n",
      "[700]\ttraining's l1: 0.889748\tvalid_1's l1: 1.13359\n",
      "[800]\ttraining's l1: 0.886672\tvalid_1's l1: 1.12788\n",
      "[900]\ttraining's l1: 0.884955\tvalid_1's l1: 1.12475\n",
      "[1000]\ttraining's l1: 0.884205\tvalid_1's l1: 1.12344\n",
      "[1100]\ttraining's l1: 0.882259\tvalid_1's l1: 1.12048\n",
      "[1200]\ttraining's l1: 0.879797\tvalid_1's l1: 1.11617\n",
      "Early stopping, best iteration is:\n",
      "[1184]\ttraining's l1: 0.879798\tvalid_1's l1: 1.11617\n"
     ]
    },
    {
     "name": "stderr",
     "output_type": "stream",
     "text": [
      "\u001b[32m[I 2021-07-31 11:42:22,266]\u001b[0m Trial 10 finished with value: -1.1160397186947826 and parameters: {'max_depth': 20, 'min_child_weight': 13, 'subsample': 0.5, 'colsample_bytree': 0.6, 'reg_lambda': 0.0010350309007474343, 'reg_alpha': 0.060282693360146904, 'feature_fraction': 0.44149537672370026, 'bagging_fraction': 0.9894332940175653, 'bagging_freq': 7, 'num_leaves': 15, 'min_child_samples': 98}. Best is trial 1 with value: -1.0721475039056074.\u001b[0m\n"
     ]
    },
    {
     "name": "stdout",
     "output_type": "stream",
     "text": [
      "[LightGBM] [Warning] feature_fraction is set=0.5431144458144946, colsample_bytree=0.9 will be ignored. Current value: feature_fraction=0.5431144458144946\n",
      "[LightGBM] [Warning] bagging_fraction is set=0.849540948392004, subsample=0.8 will be ignored. Current value: bagging_fraction=0.849540948392004\n",
      "[LightGBM] [Warning] bagging_freq is set=10, subsample_freq=0 will be ignored. Current value: bagging_freq=10\n",
      "Training until validation scores don't improve for 100 rounds\n",
      "[100]\ttraining's l1: 0.867792\tvalid_1's l1: 1.10694\n",
      "[200]\ttraining's l1: 0.864214\tvalid_1's l1: 1.10157\n",
      "[300]\ttraining's l1: 0.861889\tvalid_1's l1: 1.0979\n",
      "[400]\ttraining's l1: 0.860882\tvalid_1's l1: 1.09672\n",
      "[500]\ttraining's l1: 0.860226\tvalid_1's l1: 1.09623\n",
      "[600]\ttraining's l1: 0.859358\tvalid_1's l1: 1.09507\n",
      "[700]\ttraining's l1: 0.858954\tvalid_1's l1: 1.09466\n",
      "[800]\ttraining's l1: 0.858553\tvalid_1's l1: 1.09429\n",
      "[900]\ttraining's l1: 0.858339\tvalid_1's l1: 1.09421\n",
      "[1000]\ttraining's l1: 0.858068\tvalid_1's l1: 1.09384\n",
      "Early stopping, best iteration is:\n",
      "[934]\ttraining's l1: 0.858182\tvalid_1's l1: 1.09373\n"
     ]
    },
    {
     "name": "stderr",
     "output_type": "stream",
     "text": [
      "\u001b[32m[I 2021-07-31 11:43:09,378]\u001b[0m Trial 11 finished with value: -1.0934198907587933 and parameters: {'max_depth': 18, 'min_child_weight': 13, 'subsample': 0.8, 'colsample_bytree': 0.9, 'reg_lambda': 0.00499996117990158, 'reg_alpha': 598.2512578328067, 'feature_fraction': 0.5431144458144946, 'bagging_fraction': 0.849540948392004, 'bagging_freq': 10, 'num_leaves': 285, 'min_child_samples': 67}. Best is trial 1 with value: -1.0721475039056074.\u001b[0m\n"
     ]
    },
    {
     "name": "stdout",
     "output_type": "stream",
     "text": [
      "[LightGBM] [Warning] feature_fraction is set=0.5104327676867624, colsample_bytree=0.7 will be ignored. Current value: feature_fraction=0.5104327676867624\n",
      "[LightGBM] [Warning] bagging_fraction is set=0.8534322454749772, subsample=0.8 will be ignored. Current value: bagging_fraction=0.8534322454749772\n",
      "[LightGBM] [Warning] bagging_freq is set=11, subsample_freq=0 will be ignored. Current value: bagging_freq=11\n",
      "Training until validation scores don't improve for 100 rounds\n",
      "[100]\ttraining's l1: 0.852613\tvalid_1's l1: 1.09126\n",
      "[200]\ttraining's l1: 0.848943\tvalid_1's l1: 1.08655\n",
      "[300]\ttraining's l1: 0.848468\tvalid_1's l1: 1.08613\n",
      "[400]\ttraining's l1: 0.846833\tvalid_1's l1: 1.08565\n",
      "[500]\ttraining's l1: 0.845732\tvalid_1's l1: 1.08542\n",
      "[600]\ttraining's l1: 0.843817\tvalid_1's l1: 1.08337\n",
      "[700]\ttraining's l1: 0.842112\tvalid_1's l1: 1.08228\n",
      "[800]\ttraining's l1: 0.841115\tvalid_1's l1: 1.08177\n",
      "[900]\ttraining's l1: 0.839685\tvalid_1's l1: 1.08116\n",
      "[1000]\ttraining's l1: 0.837767\tvalid_1's l1: 1.08024\n",
      "[1100]\ttraining's l1: 0.836627\tvalid_1's l1: 1.07977\n",
      "[1200]\ttraining's l1: 0.835904\tvalid_1's l1: 1.07971\n",
      "Early stopping, best iteration is:\n",
      "[1155]\ttraining's l1: 0.836131\tvalid_1's l1: 1.07959\n"
     ]
    },
    {
     "name": "stderr",
     "output_type": "stream",
     "text": [
      "\u001b[32m[I 2021-07-31 11:44:11,253]\u001b[0m Trial 12 finished with value: -1.0793656439677202 and parameters: {'max_depth': 16, 'min_child_weight': 15, 'subsample': 0.8, 'colsample_bytree': 0.7, 'reg_lambda': 2.1828317481361177, 'reg_alpha': 45.52148518649933, 'feature_fraction': 0.5104327676867624, 'bagging_fraction': 0.8534322454749772, 'bagging_freq': 11, 'num_leaves': 212, 'min_child_samples': 71}. Best is trial 1 with value: -1.0721475039056074.\u001b[0m\n"
     ]
    },
    {
     "name": "stdout",
     "output_type": "stream",
     "text": [
      "[LightGBM] [Warning] feature_fraction is set=0.7693433942408212, colsample_bytree=0.7 will be ignored. Current value: feature_fraction=0.7693433942408212\n",
      "[LightGBM] [Warning] bagging_fraction is set=0.7295391827546001, subsample=0.8 will be ignored. Current value: bagging_fraction=0.7295391827546001\n",
      "[LightGBM] [Warning] bagging_freq is set=15, subsample_freq=0 will be ignored. Current value: bagging_freq=15\n",
      "Training until validation scores don't improve for 100 rounds\n",
      "[100]\ttraining's l1: 0.844268\tvalid_1's l1: 1.08448\n",
      "[200]\ttraining's l1: 0.842577\tvalid_1's l1: 1.0832\n",
      "[300]\ttraining's l1: 0.838463\tvalid_1's l1: 1.0799\n",
      "[400]\ttraining's l1: 0.835754\tvalid_1's l1: 1.07737\n",
      "[500]\ttraining's l1: 0.833891\tvalid_1's l1: 1.07686\n",
      "[600]\ttraining's l1: 0.829752\tvalid_1's l1: 1.07563\n",
      "[700]\ttraining's l1: 0.820695\tvalid_1's l1: 1.07321\n",
      "Early stopping, best iteration is:\n",
      "[668]\ttraining's l1: 0.822624\tvalid_1's l1: 1.07288\n"
     ]
    },
    {
     "name": "stderr",
     "output_type": "stream",
     "text": [
      "\u001b[32m[I 2021-07-31 11:44:47,363]\u001b[0m Trial 13 finished with value: -1.072592811160982 and parameters: {'max_depth': 20, 'min_child_weight': 9, 'subsample': 0.8, 'colsample_bytree': 0.7, 'reg_lambda': 2.445748917485033, 'reg_alpha': 0.09594641377057227, 'feature_fraction': 0.7693433942408212, 'bagging_fraction': 0.7295391827546001, 'bagging_freq': 15, 'num_leaves': 348, 'min_child_samples': 56}. Best is trial 1 with value: -1.0721475039056074.\u001b[0m\n"
     ]
    },
    {
     "name": "stdout",
     "output_type": "stream",
     "text": [
      "[LightGBM] [Warning] feature_fraction is set=0.9809723440488167, colsample_bytree=0.7 will be ignored. Current value: feature_fraction=0.9809723440488167\n",
      "[LightGBM] [Warning] bagging_fraction is set=0.7300806877495704, subsample=0.7 will be ignored. Current value: bagging_fraction=0.7300806877495704\n",
      "[LightGBM] [Warning] bagging_freq is set=15, subsample_freq=0 will be ignored. Current value: bagging_freq=15\n",
      "Training until validation scores don't improve for 100 rounds\n",
      "[100]\ttraining's l1: 0.846487\tvalid_1's l1: 1.08628\n",
      "[200]\ttraining's l1: 0.837237\tvalid_1's l1: 1.07963\n",
      "[300]\ttraining's l1: 0.832089\tvalid_1's l1: 1.07654\n",
      "[400]\ttraining's l1: 0.829012\tvalid_1's l1: 1.07582\n",
      "[500]\ttraining's l1: 0.826601\tvalid_1's l1: 1.07533\n",
      "[600]\ttraining's l1: 0.823742\tvalid_1's l1: 1.07467\n",
      "[700]\ttraining's l1: 0.82157\tvalid_1's l1: 1.07446\n",
      "[800]\ttraining's l1: 0.819684\tvalid_1's l1: 1.07464\n",
      "Early stopping, best iteration is:\n",
      "[716]\ttraining's l1: 0.821096\tvalid_1's l1: 1.07435\n"
     ]
    },
    {
     "name": "stderr",
     "output_type": "stream",
     "text": [
      "\u001b[32m[I 2021-07-31 11:45:38,289]\u001b[0m Trial 14 finished with value: -1.073804035586837 and parameters: {'max_depth': 20, 'min_child_weight': 8, 'subsample': 0.7, 'colsample_bytree': 0.7, 'reg_lambda': 876.2907388668618, 'reg_alpha': 0.022145693686400552, 'feature_fraction': 0.9809723440488167, 'bagging_fraction': 0.7300806877495704, 'bagging_freq': 15, 'num_leaves': 282, 'min_child_samples': 51}. Best is trial 1 with value: -1.0721475039056074.\u001b[0m\n"
     ]
    },
    {
     "name": "stdout",
     "output_type": "stream",
     "text": [
      "[LightGBM] [Warning] feature_fraction is set=0.7566791328780595, colsample_bytree=0.6 will be ignored. Current value: feature_fraction=0.7566791328780595\n",
      "[LightGBM] [Warning] bagging_fraction is set=0.626354113629106, subsample=0.8 will be ignored. Current value: bagging_fraction=0.626354113629106\n",
      "[LightGBM] [Warning] bagging_freq is set=10, subsample_freq=0 will be ignored. Current value: bagging_freq=10\n",
      "Training until validation scores don't improve for 100 rounds\n",
      "[100]\ttraining's l1: 0.86532\tvalid_1's l1: 1.10277\n",
      "[200]\ttraining's l1: 0.864208\tvalid_1's l1: 1.10117\n",
      "[300]\ttraining's l1: 0.861926\tvalid_1's l1: 1.09799\n",
      "[400]\ttraining's l1: 0.859262\tvalid_1's l1: 1.09368\n",
      "[500]\ttraining's l1: 0.853649\tvalid_1's l1: 1.08836\n",
      "[600]\ttraining's l1: 0.847189\tvalid_1's l1: 1.08046\n",
      "[700]\ttraining's l1: 0.845817\tvalid_1's l1: 1.08012\n",
      "[800]\ttraining's l1: 0.841157\tvalid_1's l1: 1.0779\n",
      "[900]\ttraining's l1: 0.835054\tvalid_1's l1: 1.07555\n",
      "[1000]\ttraining's l1: 0.831405\tvalid_1's l1: 1.074\n",
      "[1100]\ttraining's l1: 0.828722\tvalid_1's l1: 1.07367\n",
      "[1200]\ttraining's l1: 0.826406\tvalid_1's l1: 1.07283\n",
      "[1300]\ttraining's l1: 0.821566\tvalid_1's l1: 1.0729\n",
      "[1400]\ttraining's l1: 0.817544\tvalid_1's l1: 1.07257\n",
      "[1500]\ttraining's l1: 0.812632\tvalid_1's l1: 1.07178\n",
      "[1600]\ttraining's l1: 0.809061\tvalid_1's l1: 1.07154\n",
      "Early stopping, best iteration is:\n",
      "[1564]\ttraining's l1: 0.809898\tvalid_1's l1: 1.07137\n"
     ]
    },
    {
     "name": "stderr",
     "output_type": "stream",
     "text": [
      "\u001b[32m[I 2021-07-31 11:46:26,050]\u001b[0m Trial 15 finished with value: -1.0705840750006812 and parameters: {'max_depth': 15, 'min_child_weight': 7, 'subsample': 0.8, 'colsample_bytree': 0.6, 'reg_lambda': 1.6777001963593925, 'reg_alpha': 0.008490296898304663, 'feature_fraction': 0.7566791328780595, 'bagging_fraction': 0.626354113629106, 'bagging_freq': 10, 'num_leaves': 119, 'min_child_samples': 7}. Best is trial 15 with value: -1.0705840750006812.\u001b[0m\n"
     ]
    },
    {
     "name": "stdout",
     "output_type": "stream",
     "text": [
      "[LightGBM] [Warning] feature_fraction is set=0.7721341009303839, colsample_bytree=0.5 will be ignored. Current value: feature_fraction=0.7721341009303839\n",
      "[LightGBM] [Warning] bagging_fraction is set=0.5718943121880881, subsample=0.8 will be ignored. Current value: bagging_fraction=0.5718943121880881\n",
      "[LightGBM] [Warning] bagging_freq is set=8, subsample_freq=0 will be ignored. Current value: bagging_freq=8\n",
      "Training until validation scores don't improve for 100 rounds\n",
      "[100]\ttraining's l1: 0.866486\tvalid_1's l1: 1.10494\n",
      "[200]\ttraining's l1: 0.865631\tvalid_1's l1: 1.10406\n",
      "[300]\ttraining's l1: 0.862866\tvalid_1's l1: 1.09898\n",
      "[400]\ttraining's l1: 0.857259\tvalid_1's l1: 1.09221\n",
      "[500]\ttraining's l1: 0.851767\tvalid_1's l1: 1.08451\n",
      "[600]\ttraining's l1: 0.848634\tvalid_1's l1: 1.08286\n",
      "[700]\ttraining's l1: 0.844236\tvalid_1's l1: 1.08047\n",
      "[800]\ttraining's l1: 0.841477\tvalid_1's l1: 1.07999\n",
      "[900]\ttraining's l1: 0.837901\tvalid_1's l1: 1.07864\n",
      "[1000]\ttraining's l1: 0.83439\tvalid_1's l1: 1.07609\n",
      "[1100]\ttraining's l1: 0.83149\tvalid_1's l1: 1.07547\n",
      "[1200]\ttraining's l1: 0.828147\tvalid_1's l1: 1.07497\n",
      "[1300]\ttraining's l1: 0.82392\tvalid_1's l1: 1.0737\n",
      "[1400]\ttraining's l1: 0.820666\tvalid_1's l1: 1.07389\n",
      "Early stopping, best iteration is:\n",
      "[1312]\ttraining's l1: 0.82328\tvalid_1's l1: 1.07363\n"
     ]
    },
    {
     "name": "stderr",
     "output_type": "stream",
     "text": [
      "\u001b[32m[I 2021-07-31 11:47:04,974]\u001b[0m Trial 16 finished with value: -1.0727143841171347 and parameters: {'max_depth': 14, 'min_child_weight': 5, 'subsample': 0.8, 'colsample_bytree': 0.5, 'reg_lambda': 0.021134582619244995, 'reg_alpha': 0.011183507858800894, 'feature_fraction': 0.7721341009303839, 'bagging_fraction': 0.5718943121880881, 'bagging_freq': 8, 'num_leaves': 110, 'min_child_samples': 13}. Best is trial 15 with value: -1.0705840750006812.\u001b[0m\n"
     ]
    },
    {
     "name": "stdout",
     "output_type": "stream",
     "text": [
      "[LightGBM] [Warning] feature_fraction is set=0.2052763890272068, colsample_bytree=0.6 will be ignored. Current value: feature_fraction=0.2052763890272068\n",
      "[LightGBM] [Warning] bagging_fraction is set=0.6571235804722533, subsample=0.7 will be ignored. Current value: bagging_fraction=0.6571235804722533\n",
      "[LightGBM] [Warning] bagging_freq is set=1, subsample_freq=0 will be ignored. Current value: bagging_freq=1\n",
      "Training until validation scores don't improve for 100 rounds\n",
      "[100]\ttraining's l1: 0.901837\tvalid_1's l1: 1.15405\n",
      "[200]\ttraining's l1: 0.901513\tvalid_1's l1: 1.15357\n",
      "[300]\ttraining's l1: 0.896399\tvalid_1's l1: 1.14578\n",
      "[400]\ttraining's l1: 0.893459\tvalid_1's l1: 1.14157\n",
      "[500]\ttraining's l1: 0.892719\tvalid_1's l1: 1.14052\n",
      "[600]\ttraining's l1: 0.890483\tvalid_1's l1: 1.13677\n",
      "[700]\ttraining's l1: 0.889849\tvalid_1's l1: 1.13572\n",
      "[800]\ttraining's l1: 0.889809\tvalid_1's l1: 1.13572\n",
      "[900]\ttraining's l1: 0.889785\tvalid_1's l1: 1.13567\n",
      "[1000]\ttraining's l1: 0.888478\tvalid_1's l1: 1.13283\n",
      "[1100]\ttraining's l1: 0.886549\tvalid_1's l1: 1.12964\n",
      "[1200]\ttraining's l1: 0.886257\tvalid_1's l1: 1.12954\n",
      "[1300]\ttraining's l1: 0.883577\tvalid_1's l1: 1.12447\n",
      "[1400]\ttraining's l1: 0.881827\tvalid_1's l1: 1.12247\n",
      "[1500]\ttraining's l1: 0.880716\tvalid_1's l1: 1.12162\n",
      "[1600]\ttraining's l1: 0.88014\tvalid_1's l1: 1.12082\n",
      "[1700]\ttraining's l1: 0.880114\tvalid_1's l1: 1.12081\n",
      "[1800]\ttraining's l1: 0.878906\tvalid_1's l1: 1.11895\n",
      "[1900]\ttraining's l1: 0.878007\tvalid_1's l1: 1.11748\n",
      "[2000]\ttraining's l1: 0.877794\tvalid_1's l1: 1.11721\n",
      "[2100]\ttraining's l1: 0.876645\tvalid_1's l1: 1.11429\n",
      "[2200]\ttraining's l1: 0.875377\tvalid_1's l1: 1.11141\n",
      "[2300]\ttraining's l1: 0.874096\tvalid_1's l1: 1.10992\n",
      "[2400]\ttraining's l1: 0.872281\tvalid_1's l1: 1.10798\n",
      "[2500]\ttraining's l1: 0.870728\tvalid_1's l1: 1.1063\n",
      "[2600]\ttraining's l1: 0.870346\tvalid_1's l1: 1.1058\n",
      "[2700]\ttraining's l1: 0.87025\tvalid_1's l1: 1.10579\n",
      "[2800]\ttraining's l1: 0.869808\tvalid_1's l1: 1.10501\n",
      "[2900]\ttraining's l1: 0.868314\tvalid_1's l1: 1.10232\n",
      "[3000]\ttraining's l1: 0.86766\tvalid_1's l1: 1.1017\n",
      "[3100]\ttraining's l1: 0.864931\tvalid_1's l1: 1.0977\n",
      "[3200]\ttraining's l1: 0.863795\tvalid_1's l1: 1.09656\n",
      "[3300]\ttraining's l1: 0.862454\tvalid_1's l1: 1.09487\n",
      "[3400]\ttraining's l1: 0.861873\tvalid_1's l1: 1.09419\n",
      "[3500]\ttraining's l1: 0.860798\tvalid_1's l1: 1.09304\n",
      "[3600]\ttraining's l1: 0.859061\tvalid_1's l1: 1.09158\n",
      "[3700]\ttraining's l1: 0.858107\tvalid_1's l1: 1.09053\n",
      "[3800]\ttraining's l1: 0.857831\tvalid_1's l1: 1.09038\n",
      "[3900]\ttraining's l1: 0.857496\tvalid_1's l1: 1.09025\n",
      "Early stopping, best iteration is:\n",
      "[3849]\ttraining's l1: 0.857621\tvalid_1's l1: 1.09019\n"
     ]
    },
    {
     "name": "stderr",
     "output_type": "stream",
     "text": [
      "\u001b[32m[I 2021-07-31 11:48:21,637]\u001b[0m Trial 17 finished with value: -1.0898017416747774 and parameters: {'max_depth': 9, 'min_child_weight': 12, 'subsample': 0.7, 'colsample_bytree': 0.6, 'reg_lambda': 0.4404146014797874, 'reg_alpha': 0.5572545478902929, 'feature_fraction': 0.2052763890272068, 'bagging_fraction': 0.6571235804722533, 'bagging_freq': 1, 'num_leaves': 13, 'min_child_samples': 5}. Best is trial 15 with value: -1.0705840750006812.\u001b[0m\n"
     ]
    },
    {
     "name": "stdout",
     "output_type": "stream",
     "text": [
      "[LightGBM] [Warning] feature_fraction is set=0.7597128029234582, colsample_bytree=0.6 will be ignored. Current value: feature_fraction=0.7597128029234582\n",
      "[LightGBM] [Warning] bagging_fraction is set=0.5035914188654822, subsample=0.8 will be ignored. Current value: bagging_fraction=0.5035914188654822\n",
      "[LightGBM] [Warning] bagging_freq is set=11, subsample_freq=0 will be ignored. Current value: bagging_freq=11\n",
      "Training until validation scores don't improve for 100 rounds\n",
      "[100]\ttraining's l1: 0.862364\tvalid_1's l1: 1.10083\n",
      "[200]\ttraining's l1: 0.861264\tvalid_1's l1: 1.09977\n",
      "[300]\ttraining's l1: 0.859268\tvalid_1's l1: 1.09652\n",
      "[400]\ttraining's l1: 0.855994\tvalid_1's l1: 1.09056\n",
      "[500]\ttraining's l1: 0.851395\tvalid_1's l1: 1.08605\n",
      "[600]\ttraining's l1: 0.844091\tvalid_1's l1: 1.07849\n",
      "[700]\ttraining's l1: 0.839903\tvalid_1's l1: 1.07615\n",
      "[800]\ttraining's l1: 0.837203\tvalid_1's l1: 1.07542\n",
      "[900]\ttraining's l1: 0.833426\tvalid_1's l1: 1.07383\n",
      "[1000]\ttraining's l1: 0.831288\tvalid_1's l1: 1.07362\n",
      "[1100]\ttraining's l1: 0.828686\tvalid_1's l1: 1.07292\n",
      "[1200]\ttraining's l1: 0.825296\tvalid_1's l1: 1.07197\n",
      "[1300]\ttraining's l1: 0.819214\tvalid_1's l1: 1.07116\n",
      "Early stopping, best iteration is:\n",
      "[1283]\ttraining's l1: 0.82027\tvalid_1's l1: 1.07095\n"
     ]
    },
    {
     "name": "stderr",
     "output_type": "stream",
     "text": [
      "\u001b[32m[I 2021-07-31 11:48:58,634]\u001b[0m Trial 18 finished with value: -1.07036759040984 and parameters: {'max_depth': 15, 'min_child_weight': 6, 'subsample': 0.8, 'colsample_bytree': 0.6, 'reg_lambda': 0.004951877196415426, 'reg_alpha': 0.0075150603500533045, 'feature_fraction': 0.7597128029234582, 'bagging_fraction': 0.5035914188654822, 'bagging_freq': 11, 'num_leaves': 134, 'min_child_samples': 29}. Best is trial 18 with value: -1.07036759040984.\u001b[0m\n"
     ]
    },
    {
     "name": "stdout",
     "output_type": "stream",
     "text": [
      "[LightGBM] [Warning] feature_fraction is set=0.9891399091784567, colsample_bytree=0.6 will be ignored. Current value: feature_fraction=0.9891399091784567\n",
      "[LightGBM] [Warning] bagging_fraction is set=0.4976999347187519, subsample=0.6 will be ignored. Current value: bagging_fraction=0.4976999347187519\n",
      "[LightGBM] [Warning] bagging_freq is set=6, subsample_freq=0 will be ignored. Current value: bagging_freq=6\n",
      "Training until validation scores don't improve for 100 rounds\n",
      "[100]\ttraining's l1: 0.851962\tvalid_1's l1: 1.08897\n",
      "[200]\ttraining's l1: 0.847522\tvalid_1's l1: 1.0839\n",
      "[300]\ttraining's l1: 0.840752\tvalid_1's l1: 1.07898\n",
      "[400]\ttraining's l1: 0.837105\tvalid_1's l1: 1.0765\n",
      "[500]\ttraining's l1: 0.835747\tvalid_1's l1: 1.07599\n",
      "[600]\ttraining's l1: 0.833669\tvalid_1's l1: 1.07501\n",
      "[700]\ttraining's l1: 0.830808\tvalid_1's l1: 1.07449\n",
      "[800]\ttraining's l1: 0.82698\tvalid_1's l1: 1.07348\n",
      "[900]\ttraining's l1: 0.824775\tvalid_1's l1: 1.07389\n",
      "Early stopping, best iteration is:\n",
      "[811]\ttraining's l1: 0.82673\tvalid_1's l1: 1.07322\n"
     ]
    },
    {
     "name": "stderr",
     "output_type": "stream",
     "text": [
      "\u001b[32m[I 2021-07-31 11:49:34,981]\u001b[0m Trial 19 finished with value: -1.0728445238990891 and parameters: {'max_depth': 16, 'min_child_weight': 6, 'subsample': 0.6, 'colsample_bytree': 0.6, 'reg_lambda': 0.0025689973470226697, 'reg_alpha': 0.00711263384299962, 'feature_fraction': 0.9891399091784567, 'bagging_fraction': 0.4976999347187519, 'bagging_freq': 6, 'num_leaves': 219, 'min_child_samples': 25}. Best is trial 18 with value: -1.07036759040984.\u001b[0m\n"
     ]
    },
    {
     "name": "stdout",
     "output_type": "stream",
     "text": [
      "[LightGBM] [Warning] feature_fraction is set=0.7418881914117367, colsample_bytree=0.5 will be ignored. Current value: feature_fraction=0.7418881914117367\n",
      "[LightGBM] [Warning] bagging_fraction is set=0.258756131602704, subsample=0.8 will be ignored. Current value: bagging_fraction=0.258756131602704\n",
      "[LightGBM] [Warning] bagging_freq is set=11, subsample_freq=0 will be ignored. Current value: bagging_freq=11\n",
      "Training until validation scores don't improve for 100 rounds\n",
      "[100]\ttraining's l1: 0.840199\tvalid_1's l1: 1.08056\n",
      "[200]\ttraining's l1: 0.835884\tvalid_1's l1: 1.0782\n",
      "[300]\ttraining's l1: 0.829819\tvalid_1's l1: 1.08056\n",
      "Early stopping, best iteration is:\n",
      "[218]\ttraining's l1: 0.835346\tvalid_1's l1: 1.07816\n"
     ]
    },
    {
     "name": "stderr",
     "output_type": "stream",
     "text": [
      "\u001b[32m[I 2021-07-31 11:49:47,294]\u001b[0m Trial 20 finished with value: -1.0777883692133594 and parameters: {'max_depth': 15, 'min_child_weight': 2, 'subsample': 0.8, 'colsample_bytree': 0.5, 'reg_lambda': 0.00829950070731093, 'reg_alpha': 0.36709961402384406, 'feature_fraction': 0.7418881914117367, 'bagging_fraction': 0.258756131602704, 'bagging_freq': 11, 'num_leaves': 383, 'min_child_samples': 5}. Best is trial 18 with value: -1.07036759040984.\u001b[0m\n"
     ]
    },
    {
     "name": "stdout",
     "output_type": "stream",
     "text": [
      "[LightGBM] [Warning] feature_fraction is set=0.8633760043933728, colsample_bytree=0.6 will be ignored. Current value: feature_fraction=0.8633760043933728\n",
      "[LightGBM] [Warning] bagging_fraction is set=0.5006441020786049, subsample=0.8 will be ignored. Current value: bagging_fraction=0.5006441020786049\n",
      "[LightGBM] [Warning] bagging_freq is set=12, subsample_freq=0 will be ignored. Current value: bagging_freq=12\n",
      "Training until validation scores don't improve for 100 rounds\n",
      "[100]\ttraining's l1: 0.863409\tvalid_1's l1: 1.10314\n",
      "[200]\ttraining's l1: 0.861839\tvalid_1's l1: 1.10038\n",
      "[300]\ttraining's l1: 0.859734\tvalid_1's l1: 1.09786\n",
      "[400]\ttraining's l1: 0.856042\tvalid_1's l1: 1.09174\n",
      "[500]\ttraining's l1: 0.852565\tvalid_1's l1: 1.08822\n",
      "[600]\ttraining's l1: 0.847008\tvalid_1's l1: 1.08374\n",
      "[700]\ttraining's l1: 0.841567\tvalid_1's l1: 1.0794\n",
      "[800]\ttraining's l1: 0.837782\tvalid_1's l1: 1.0778\n",
      "[900]\ttraining's l1: 0.834957\tvalid_1's l1: 1.0766\n",
      "[1000]\ttraining's l1: 0.832554\tvalid_1's l1: 1.07634\n",
      "Early stopping, best iteration is:\n",
      "[981]\ttraining's l1: 0.83306\tvalid_1's l1: 1.07594\n"
     ]
    },
    {
     "name": "stderr",
     "output_type": "stream",
     "text": [
      "\u001b[32m[I 2021-07-31 11:50:16,930]\u001b[0m Trial 21 finished with value: -1.0755964025180154 and parameters: {'max_depth': 13, 'min_child_weight': 7, 'subsample': 0.8, 'colsample_bytree': 0.6, 'reg_lambda': 0.0010104310076194173, 'reg_alpha': 0.005162894684951772, 'feature_fraction': 0.8633760043933728, 'bagging_fraction': 0.5006441020786049, 'bagging_freq': 12, 'num_leaves': 121, 'min_child_samples': 25}. Best is trial 18 with value: -1.07036759040984.\u001b[0m\n"
     ]
    },
    {
     "name": "stdout",
     "output_type": "stream",
     "text": [
      "[LightGBM] [Warning] feature_fraction is set=0.5440206564270428, colsample_bytree=0.7 will be ignored. Current value: feature_fraction=0.5440206564270428\n",
      "[LightGBM] [Warning] bagging_fraction is set=0.5030471981478318, subsample=0.9 will be ignored. Current value: bagging_fraction=0.5030471981478318\n",
      "[LightGBM] [Warning] bagging_freq is set=9, subsample_freq=0 will be ignored. Current value: bagging_freq=9\n",
      "Training until validation scores don't improve for 100 rounds\n",
      "[100]\ttraining's l1: 0.896362\tvalid_1's l1: 1.145\n",
      "[200]\ttraining's l1: 0.896279\tvalid_1's l1: 1.14499\n",
      "[300]\ttraining's l1: 0.895161\tvalid_1's l1: 1.14335\n",
      "[400]\ttraining's l1: 0.889041\tvalid_1's l1: 1.13423\n",
      "[500]\ttraining's l1: 0.887269\tvalid_1's l1: 1.1307\n",
      "[600]\ttraining's l1: 0.886408\tvalid_1's l1: 1.12957\n",
      "[700]\ttraining's l1: 0.88478\tvalid_1's l1: 1.12667\n",
      "[800]\ttraining's l1: 0.879814\tvalid_1's l1: 1.11955\n",
      "[900]\ttraining's l1: 0.875396\tvalid_1's l1: 1.11381\n",
      "[1000]\ttraining's l1: 0.873879\tvalid_1's l1: 1.11079\n",
      "[1100]\ttraining's l1: 0.872102\tvalid_1's l1: 1.10888\n",
      "[1200]\ttraining's l1: 0.870492\tvalid_1's l1: 1.10696\n",
      "[1300]\ttraining's l1: 0.867761\tvalid_1's l1: 1.10346\n",
      "[1400]\ttraining's l1: 0.865896\tvalid_1's l1: 1.10137\n",
      "[1500]\ttraining's l1: 0.865044\tvalid_1's l1: 1.10063\n",
      "[1600]\ttraining's l1: 0.86226\tvalid_1's l1: 1.09648\n",
      "[1700]\ttraining's l1: 0.860991\tvalid_1's l1: 1.09526\n",
      "[1800]\ttraining's l1: 0.859183\tvalid_1's l1: 1.09272\n",
      "[1900]\ttraining's l1: 0.857792\tvalid_1's l1: 1.09163\n",
      "[2000]\ttraining's l1: 0.857314\tvalid_1's l1: 1.09117\n",
      "[2100]\ttraining's l1: 0.855897\tvalid_1's l1: 1.08938\n",
      "[2200]\ttraining's l1: 0.854956\tvalid_1's l1: 1.08819\n",
      "[2300]\ttraining's l1: 0.853594\tvalid_1's l1: 1.08665\n",
      "[2400]\ttraining's l1: 0.853036\tvalid_1's l1: 1.08622\n",
      "[2500]\ttraining's l1: 0.85199\tvalid_1's l1: 1.08515\n",
      "[2600]\ttraining's l1: 0.851035\tvalid_1's l1: 1.084\n",
      "[2700]\ttraining's l1: 0.848639\tvalid_1's l1: 1.08292\n",
      "[2800]\ttraining's l1: 0.848393\tvalid_1's l1: 1.0827\n",
      "Early stopping, best iteration is:\n",
      "[2701]\ttraining's l1: 0.848602\tvalid_1's l1: 1.08266\n"
     ]
    },
    {
     "name": "stderr",
     "output_type": "stream",
     "text": [
      "\u001b[32m[I 2021-07-31 11:51:18,706]\u001b[0m Trial 22 finished with value: -1.0822362355379707 and parameters: {'max_depth': 18, 'min_child_weight': 11, 'subsample': 0.9, 'colsample_bytree': 0.7, 'reg_lambda': 0.06553398065134201, 'reg_alpha': 0.026344225431758798, 'feature_fraction': 0.5440206564270428, 'bagging_fraction': 0.5030471981478318, 'bagging_freq': 9, 'num_leaves': 18, 'min_child_samples': 36}. Best is trial 18 with value: -1.07036759040984.\u001b[0m\n"
     ]
    },
    {
     "name": "stdout",
     "output_type": "stream",
     "text": [
      "[LightGBM] [Warning] feature_fraction is set=0.7212869928471849, colsample_bytree=0.6 will be ignored. Current value: feature_fraction=0.7212869928471849\n",
      "[LightGBM] [Warning] bagging_fraction is set=0.3305524686692942, subsample=0.7 will be ignored. Current value: bagging_fraction=0.3305524686692942\n",
      "[LightGBM] [Warning] bagging_freq is set=5, subsample_freq=0 will be ignored. Current value: bagging_freq=5\n",
      "Training until validation scores don't improve for 100 rounds\n",
      "[100]\ttraining's l1: 0.848919\tvalid_1's l1: 1.08648\n",
      "[200]\ttraining's l1: 0.845969\tvalid_1's l1: 1.08229\n",
      "[300]\ttraining's l1: 0.843808\tvalid_1's l1: 1.07971\n",
      "[400]\ttraining's l1: 0.839175\tvalid_1's l1: 1.07849\n",
      "[500]\ttraining's l1: 0.834719\tvalid_1's l1: 1.0777\n",
      "[600]\ttraining's l1: 0.828938\tvalid_1's l1: 1.07666\n",
      "Early stopping, best iteration is:\n",
      "[564]\ttraining's l1: 0.830664\tvalid_1's l1: 1.0751\n"
     ]
    },
    {
     "name": "stderr",
     "output_type": "stream",
     "text": [
      "\u001b[32m[I 2021-07-31 11:51:36,565]\u001b[0m Trial 23 finished with value: -1.0745589066547228 and parameters: {'max_depth': 10, 'min_child_weight': 4, 'subsample': 0.7, 'colsample_bytree': 0.6, 'reg_lambda': 4.609259797200656, 'reg_alpha': 0.00475580072376938, 'feature_fraction': 0.7212869928471849, 'bagging_fraction': 0.3305524686692942, 'bagging_freq': 5, 'num_leaves': 190, 'min_child_samples': 16}. Best is trial 18 with value: -1.07036759040984.\u001b[0m\n"
     ]
    },
    {
     "name": "stdout",
     "output_type": "stream",
     "text": [
      "[LightGBM] [Warning] feature_fraction is set=0.8071759765906678, colsample_bytree=0.5 will be ignored. Current value: feature_fraction=0.8071759765906678\n",
      "[LightGBM] [Warning] bagging_fraction is set=0.9335081072943339, subsample=0.8 will be ignored. Current value: bagging_fraction=0.9335081072943339\n",
      "[LightGBM] [Warning] bagging_freq is set=13, subsample_freq=0 will be ignored. Current value: bagging_freq=13\n",
      "Training until validation scores don't improve for 100 rounds\n",
      "[100]\ttraining's l1: 0.867114\tvalid_1's l1: 1.10484\n",
      "[200]\ttraining's l1: 0.865992\tvalid_1's l1: 1.10378\n",
      "[300]\ttraining's l1: 0.864601\tvalid_1's l1: 1.10174\n",
      "[400]\ttraining's l1: 0.859432\tvalid_1's l1: 1.09554\n",
      "[500]\ttraining's l1: 0.854372\tvalid_1's l1: 1.08773\n",
      "[600]\ttraining's l1: 0.851197\tvalid_1's l1: 1.08504\n",
      "[700]\ttraining's l1: 0.847334\tvalid_1's l1: 1.08152\n",
      "[800]\ttraining's l1: 0.845687\tvalid_1's l1: 1.08071\n",
      "[900]\ttraining's l1: 0.839486\tvalid_1's l1: 1.07678\n",
      "[1000]\ttraining's l1: 0.835568\tvalid_1's l1: 1.07495\n",
      "[1100]\ttraining's l1: 0.829199\tvalid_1's l1: 1.07339\n",
      "[1200]\ttraining's l1: 0.828648\tvalid_1's l1: 1.07327\n",
      "[1300]\ttraining's l1: 0.826985\tvalid_1's l1: 1.07304\n",
      "[1400]\ttraining's l1: 0.824843\tvalid_1's l1: 1.07261\n",
      "[1500]\ttraining's l1: 0.822889\tvalid_1's l1: 1.07244\n",
      "Early stopping, best iteration is:\n",
      "[1475]\ttraining's l1: 0.822984\tvalid_1's l1: 1.07237\n"
     ]
    },
    {
     "name": "stderr",
     "output_type": "stream",
     "text": [
      "\u001b[32m[I 2021-07-31 11:52:35,793]\u001b[0m Trial 24 finished with value: -1.072028200025903 and parameters: {'max_depth': 14, 'min_child_weight': 9, 'subsample': 0.8, 'colsample_bytree': 0.5, 'reg_lambda': 0.5786959603125394, 'reg_alpha': 0.034311086772978845, 'feature_fraction': 0.8071759765906678, 'bagging_fraction': 0.9335081072943339, 'bagging_freq': 13, 'num_leaves': 111, 'min_child_samples': 42}. Best is trial 18 with value: -1.07036759040984.\u001b[0m\n"
     ]
    },
    {
     "name": "stdout",
     "output_type": "stream",
     "text": [
      "[LightGBM] [Warning] feature_fraction is set=0.9316594590329677, colsample_bytree=0.5 will be ignored. Current value: feature_fraction=0.9316594590329677\n",
      "[LightGBM] [Warning] bagging_fraction is set=0.479670626741736, subsample=0.8 will be ignored. Current value: bagging_fraction=0.479670626741736\n",
      "[LightGBM] [Warning] bagging_freq is set=13, subsample_freq=0 will be ignored. Current value: bagging_freq=13\n",
      "Training until validation scores don't improve for 100 rounds\n",
      "[100]\ttraining's l1: 0.876281\tvalid_1's l1: 1.11801\n",
      "[200]\ttraining's l1: 0.87495\tvalid_1's l1: 1.11589\n",
      "[300]\ttraining's l1: 0.873475\tvalid_1's l1: 1.11312\n",
      "[400]\ttraining's l1: 0.871423\tvalid_1's l1: 1.10961\n",
      "[500]\ttraining's l1: 0.870494\tvalid_1's l1: 1.1082\n",
      "[600]\ttraining's l1: 0.869553\tvalid_1's l1: 1.10688\n",
      "[700]\ttraining's l1: 0.865304\tvalid_1's l1: 1.10079\n",
      "[800]\ttraining's l1: 0.862427\tvalid_1's l1: 1.09728\n",
      "[900]\ttraining's l1: 0.858967\tvalid_1's l1: 1.09305\n",
      "[1000]\ttraining's l1: 0.857747\tvalid_1's l1: 1.09157\n",
      "[1100]\ttraining's l1: 0.854951\tvalid_1's l1: 1.08915\n",
      "[1200]\ttraining's l1: 0.852234\tvalid_1's l1: 1.08585\n",
      "[1300]\ttraining's l1: 0.849735\tvalid_1's l1: 1.0848\n",
      "[1400]\ttraining's l1: 0.848664\tvalid_1's l1: 1.08386\n",
      "[1500]\ttraining's l1: 0.845228\tvalid_1's l1: 1.07983\n",
      "[1600]\ttraining's l1: 0.841818\tvalid_1's l1: 1.07783\n",
      "[1700]\ttraining's l1: 0.83954\tvalid_1's l1: 1.07687\n",
      "[1800]\ttraining's l1: 0.836897\tvalid_1's l1: 1.0762\n",
      "[1900]\ttraining's l1: 0.835762\tvalid_1's l1: 1.07564\n",
      "[2000]\ttraining's l1: 0.834057\tvalid_1's l1: 1.07539\n",
      "[2100]\ttraining's l1: 0.833107\tvalid_1's l1: 1.07482\n",
      "[2200]\ttraining's l1: 0.832221\tvalid_1's l1: 1.07405\n",
      "[2300]\ttraining's l1: 0.831279\tvalid_1's l1: 1.07404\n",
      "[2400]\ttraining's l1: 0.830201\tvalid_1's l1: 1.07389\n",
      "[2500]\ttraining's l1: 0.828785\tvalid_1's l1: 1.07346\n",
      "[2600]\ttraining's l1: 0.827271\tvalid_1's l1: 1.07282\n",
      "[2700]\ttraining's l1: 0.826657\tvalid_1's l1: 1.07264\n",
      "[2800]\ttraining's l1: 0.824876\tvalid_1's l1: 1.07296\n",
      "Early stopping, best iteration is:\n",
      "[2764]\ttraining's l1: 0.825877\tvalid_1's l1: 1.07256\n"
     ]
    },
    {
     "name": "stderr",
     "output_type": "stream",
     "text": [
      "\u001b[32m[I 2021-07-31 11:53:34,130]\u001b[0m Trial 25 finished with value: -1.0720164419588212 and parameters: {'max_depth': 15, 'min_child_weight': 10, 'subsample': 0.8, 'colsample_bytree': 0.5, 'reg_lambda': 0.7370643821767501, 'reg_alpha': 0.03078026841354487, 'feature_fraction': 0.9316594590329677, 'bagging_fraction': 0.479670626741736, 'bagging_freq': 13, 'num_leaves': 55, 'min_child_samples': 43}. Best is trial 18 with value: -1.07036759040984.\u001b[0m\n"
     ]
    },
    {
     "name": "stdout",
     "output_type": "stream",
     "text": [
      "[LightGBM] [Warning] feature_fraction is set=0.9307792713822184, colsample_bytree=0.5 will be ignored. Current value: feature_fraction=0.9307792713822184\n",
      "[LightGBM] [Warning] bagging_fraction is set=0.4644244968087696, subsample=0.7 will be ignored. Current value: bagging_fraction=0.4644244968087696\n",
      "[LightGBM] [Warning] bagging_freq is set=9, subsample_freq=0 will be ignored. Current value: bagging_freq=9\n",
      "Training until validation scores don't improve for 100 rounds\n",
      "[100]\ttraining's l1: 0.90484\tvalid_1's l1: 1.1567\n",
      "[200]\ttraining's l1: 0.904696\tvalid_1's l1: 1.15657\n",
      "[300]\ttraining's l1: 0.904695\tvalid_1's l1: 1.15657\n",
      "[400]\ttraining's l1: 0.901443\tvalid_1's l1: 1.15186\n",
      "[500]\ttraining's l1: 0.897084\tvalid_1's l1: 1.14538\n",
      "[600]\ttraining's l1: 0.895489\tvalid_1's l1: 1.1427\n",
      "[700]\ttraining's l1: 0.895309\tvalid_1's l1: 1.14247\n",
      "[800]\ttraining's l1: 0.89518\tvalid_1's l1: 1.1423\n",
      "[900]\ttraining's l1: 0.892566\tvalid_1's l1: 1.13824\n",
      "[1000]\ttraining's l1: 0.890997\tvalid_1's l1: 1.13557\n",
      "[1100]\ttraining's l1: 0.887797\tvalid_1's l1: 1.12976\n",
      "[1200]\ttraining's l1: 0.886695\tvalid_1's l1: 1.12767\n",
      "[1300]\ttraining's l1: 0.886503\tvalid_1's l1: 1.12737\n",
      "[1400]\ttraining's l1: 0.885354\tvalid_1's l1: 1.12519\n",
      "[1500]\ttraining's l1: 0.883044\tvalid_1's l1: 1.1217\n",
      "[1600]\ttraining's l1: 0.88158\tvalid_1's l1: 1.11915\n",
      "[1700]\ttraining's l1: 0.879589\tvalid_1's l1: 1.11584\n",
      "[1800]\ttraining's l1: 0.879246\tvalid_1's l1: 1.1154\n",
      "[1900]\ttraining's l1: 0.877458\tvalid_1's l1: 1.11261\n",
      "[2000]\ttraining's l1: 0.877136\tvalid_1's l1: 1.11216\n",
      "[2100]\ttraining's l1: 0.875404\tvalid_1's l1: 1.11002\n",
      "[2200]\ttraining's l1: 0.874026\tvalid_1's l1: 1.10844\n",
      "[2300]\ttraining's l1: 0.872769\tvalid_1's l1: 1.10667\n",
      "[2400]\ttraining's l1: 0.871943\tvalid_1's l1: 1.10562\n",
      "[2500]\ttraining's l1: 0.871305\tvalid_1's l1: 1.10549\n",
      "[2600]\ttraining's l1: 0.870321\tvalid_1's l1: 1.10435\n",
      "[2700]\ttraining's l1: 0.869912\tvalid_1's l1: 1.10417\n",
      "Early stopping, best iteration is:\n",
      "[2613]\ttraining's l1: 0.870161\tvalid_1's l1: 1.10404\n"
     ]
    },
    {
     "name": "stderr",
     "output_type": "stream",
     "text": [
      "\u001b[32m[I 2021-07-31 11:54:16,206]\u001b[0m Trial 26 finished with value: -1.1037325652902894 and parameters: {'max_depth': 18, 'min_child_weight': 7, 'subsample': 0.7, 'colsample_bytree': 0.5, 'reg_lambda': 120.111058914939, 'reg_alpha': 0.2017785621928688, 'feature_fraction': 0.9307792713822184, 'bagging_fraction': 0.4644244968087696, 'bagging_freq': 9, 'num_leaves': 12, 'min_child_samples': 31}. Best is trial 18 with value: -1.07036759040984.\u001b[0m\n"
     ]
    },
    {
     "name": "stdout",
     "output_type": "stream",
     "text": [
      "[LightGBM] [Warning] feature_fraction is set=0.8939729485232912, colsample_bytree=0.6 will be ignored. Current value: feature_fraction=0.8939729485232912\n",
      "[LightGBM] [Warning] bagging_fraction is set=0.6409112437382107, subsample=0.8 will be ignored. Current value: bagging_fraction=0.6409112437382107\n",
      "[LightGBM] [Warning] bagging_freq is set=12, subsample_freq=0 will be ignored. Current value: bagging_freq=12\n",
      "Training until validation scores don't improve for 100 rounds\n",
      "[100]\ttraining's l1: 0.847126\tvalid_1's l1: 1.08777\n",
      "[200]\ttraining's l1: 0.844117\tvalid_1's l1: 1.0845\n",
      "[300]\ttraining's l1: 0.842921\tvalid_1's l1: 1.08347\n",
      "[400]\ttraining's l1: 0.83942\tvalid_1's l1: 1.08068\n",
      "[500]\ttraining's l1: 0.835672\tvalid_1's l1: 1.07709\n",
      "[600]\ttraining's l1: 0.829626\tvalid_1's l1: 1.07416\n",
      "[700]\ttraining's l1: 0.825886\tvalid_1's l1: 1.07274\n",
      "[800]\ttraining's l1: 0.820265\tvalid_1's l1: 1.07199\n",
      "[900]\ttraining's l1: 0.817287\tvalid_1's l1: 1.07212\n",
      "Early stopping, best iteration is:\n",
      "[811]\ttraining's l1: 0.819964\tvalid_1's l1: 1.07179\n"
     ]
    },
    {
     "name": "stderr",
     "output_type": "stream",
     "text": [
      "\u001b[32m[I 2021-07-31 11:54:54,611]\u001b[0m Trial 27 finished with value: -1.071402079397635 and parameters: {'max_depth': 16, 'min_child_weight': 11, 'subsample': 0.8, 'colsample_bytree': 0.6, 'reg_lambda': 11.380488432082744, 'reg_alpha': 0.011507544586685741, 'feature_fraction': 0.8939729485232912, 'bagging_fraction': 0.6409112437382107, 'bagging_freq': 12, 'num_leaves': 288, 'min_child_samples': 13}. Best is trial 18 with value: -1.07036759040984.\u001b[0m\n"
     ]
    },
    {
     "name": "stdout",
     "output_type": "stream",
     "text": [
      "[LightGBM] [Warning] feature_fraction is set=0.8220046599651765, colsample_bytree=0.6 will be ignored. Current value: feature_fraction=0.8220046599651765\n",
      "[LightGBM] [Warning] bagging_fraction is set=0.6126162641212635, subsample=0.8 will be ignored. Current value: bagging_fraction=0.6126162641212635\n",
      "[LightGBM] [Warning] bagging_freq is set=10, subsample_freq=0 will be ignored. Current value: bagging_freq=10\n",
      "Training until validation scores don't improve for 100 rounds\n",
      "[100]\ttraining's l1: 0.846289\tvalid_1's l1: 1.08556\n",
      "[200]\ttraining's l1: 0.843954\tvalid_1's l1: 1.08346\n",
      "[300]\ttraining's l1: 0.841645\tvalid_1's l1: 1.08185\n",
      "[400]\ttraining's l1: 0.838243\tvalid_1's l1: 1.07742\n",
      "[500]\ttraining's l1: 0.8357\tvalid_1's l1: 1.07621\n",
      "[600]\ttraining's l1: 0.831947\tvalid_1's l1: 1.07506\n",
      "[700]\ttraining's l1: 0.827776\tvalid_1's l1: 1.07424\n",
      "[800]\ttraining's l1: 0.824645\tvalid_1's l1: 1.07389\n",
      "Early stopping, best iteration is:\n",
      "[783]\ttraining's l1: 0.825475\tvalid_1's l1: 1.07358\n"
     ]
    },
    {
     "name": "stderr",
     "output_type": "stream",
     "text": [
      "\u001b[32m[I 2021-07-31 11:55:36,859]\u001b[0m Trial 28 finished with value: -1.0732126276846354 and parameters: {'max_depth': 17, 'min_child_weight': 7, 'subsample': 0.8, 'colsample_bytree': 0.6, 'reg_lambda': 13.129658014744747, 'reg_alpha': 1.2724067676615702, 'feature_fraction': 0.8220046599651765, 'bagging_fraction': 0.6126162641212635, 'bagging_freq': 10, 'num_leaves': 306, 'min_child_samples': 8}. Best is trial 18 with value: -1.07036759040984.\u001b[0m\n"
     ]
    },
    {
     "name": "stdout",
     "output_type": "stream",
     "text": [
      "[LightGBM] [Warning] feature_fraction is set=0.8866041071170118, colsample_bytree=0.6 will be ignored. Current value: feature_fraction=0.8866041071170118\n",
      "[LightGBM] [Warning] bagging_fraction is set=0.6823391966460399, subsample=0.7 will be ignored. Current value: bagging_fraction=0.6823391966460399\n",
      "[LightGBM] [Warning] bagging_freq is set=3, subsample_freq=0 will be ignored. Current value: bagging_freq=3\n",
      "Training until validation scores don't improve for 100 rounds\n",
      "[100]\ttraining's l1: 0.851235\tvalid_1's l1: 1.08972\n",
      "[200]\ttraining's l1: 0.847905\tvalid_1's l1: 1.08573\n",
      "[300]\ttraining's l1: 0.84727\tvalid_1's l1: 1.08517\n",
      "[400]\ttraining's l1: 0.845767\tvalid_1's l1: 1.08297\n",
      "[500]\ttraining's l1: 0.845007\tvalid_1's l1: 1.08234\n",
      "[600]\ttraining's l1: 0.842247\tvalid_1's l1: 1.07989\n",
      "[700]\ttraining's l1: 0.841274\tvalid_1's l1: 1.07962\n",
      "[800]\ttraining's l1: 0.839163\tvalid_1's l1: 1.07777\n",
      "[900]\ttraining's l1: 0.838163\tvalid_1's l1: 1.07739\n",
      "[1000]\ttraining's l1: 0.83686\tvalid_1's l1: 1.07696\n",
      "[1100]\ttraining's l1: 0.835476\tvalid_1's l1: 1.07615\n",
      "[1200]\ttraining's l1: 0.834187\tvalid_1's l1: 1.07496\n",
      "Early stopping, best iteration is:\n",
      "[1199]\ttraining's l1: 0.834285\tvalid_1's l1: 1.07496\n"
     ]
    },
    {
     "name": "stderr",
     "output_type": "stream",
     "text": [
      "\u001b[32m[I 2021-07-31 11:56:41,966]\u001b[0m Trial 29 finished with value: -1.0746154842911622 and parameters: {'max_depth': 19, 'min_child_weight': 11, 'subsample': 0.7, 'colsample_bytree': 0.6, 'reg_lambda': 131.08326080883037, 'reg_alpha': 0.013175177288792517, 'feature_fraction': 0.8866041071170118, 'bagging_fraction': 0.6823391966460399, 'bagging_freq': 3, 'num_leaves': 192, 'min_child_samples': 15}. Best is trial 18 with value: -1.07036759040984.\u001b[0m\n"
     ]
    },
    {
     "name": "stdout",
     "output_type": "stream",
     "text": [
      "[LightGBM] [Warning] feature_fraction is set=0.6860982838869006, colsample_bytree=0.7 will be ignored. Current value: feature_fraction=0.6860982838869006\n",
      "[LightGBM] [Warning] bagging_fraction is set=0.5471104302283075, subsample=0.8 will be ignored. Current value: bagging_fraction=0.5471104302283075\n",
      "[LightGBM] [Warning] bagging_freq is set=8, subsample_freq=0 will be ignored. Current value: bagging_freq=8\n",
      "Training until validation scores don't improve for 100 rounds\n",
      "[100]\ttraining's l1: 0.837577\tvalid_1's l1: 1.07905\n",
      "[200]\ttraining's l1: 0.831651\tvalid_1's l1: 1.07683\n",
      "[300]\ttraining's l1: 0.828806\tvalid_1's l1: 1.07539\n",
      "[400]\ttraining's l1: 0.826002\tvalid_1's l1: 1.07456\n",
      "[500]\ttraining's l1: 0.817238\tvalid_1's l1: 1.0737\n",
      "[600]\ttraining's l1: 0.811457\tvalid_1's l1: 1.07463\n",
      "Early stopping, best iteration is:\n",
      "[504]\ttraining's l1: 0.816595\tvalid_1's l1: 1.07351\n"
     ]
    },
    {
     "name": "stderr",
     "output_type": "stream",
     "text": [
      "\u001b[32m[I 2021-07-31 11:57:09,773]\u001b[0m Trial 30 finished with value: -1.073019982704154 and parameters: {'max_depth': 16, 'min_child_weight': 4, 'subsample': 0.8, 'colsample_bytree': 0.7, 'reg_lambda': 8.831945824388596, 'reg_alpha': 0.0030400751915254714, 'feature_fraction': 0.6860982838869006, 'bagging_fraction': 0.5471104302283075, 'bagging_freq': 8, 'num_leaves': 413, 'min_child_samples': 21}. Best is trial 18 with value: -1.07036759040984.\u001b[0m\n"
     ]
    },
    {
     "name": "stdout",
     "output_type": "stream",
     "text": [
      "[LightGBM] [Warning] feature_fraction is set=0.9236504861796562, colsample_bytree=0.5 will be ignored. Current value: feature_fraction=0.9236504861796562\n",
      "[LightGBM] [Warning] bagging_fraction is set=0.6603561676415426, subsample=0.8 will be ignored. Current value: bagging_fraction=0.6603561676415426\n",
      "[LightGBM] [Warning] bagging_freq is set=12, subsample_freq=0 will be ignored. Current value: bagging_freq=12\n",
      "Training until validation scores don't improve for 100 rounds\n",
      "[100]\ttraining's l1: 0.87323\tvalid_1's l1: 1.11446\n",
      "[200]\ttraining's l1: 0.871282\tvalid_1's l1: 1.11208\n",
      "[300]\ttraining's l1: 0.868502\tvalid_1's l1: 1.10789\n",
      "[400]\ttraining's l1: 0.865459\tvalid_1's l1: 1.10256\n",
      "[500]\ttraining's l1: 0.864047\tvalid_1's l1: 1.10024\n",
      "[600]\ttraining's l1: 0.862472\tvalid_1's l1: 1.09858\n",
      "[700]\ttraining's l1: 0.860874\tvalid_1's l1: 1.09653\n",
      "[800]\ttraining's l1: 0.855204\tvalid_1's l1: 1.08996\n",
      "[900]\ttraining's l1: 0.850673\tvalid_1's l1: 1.08483\n",
      "[1000]\ttraining's l1: 0.84594\tvalid_1's l1: 1.08149\n",
      "[1100]\ttraining's l1: 0.844052\tvalid_1's l1: 1.08035\n",
      "[1200]\ttraining's l1: 0.842426\tvalid_1's l1: 1.0796\n",
      "[1300]\ttraining's l1: 0.838627\tvalid_1's l1: 1.07752\n",
      "[1400]\ttraining's l1: 0.83553\tvalid_1's l1: 1.07556\n",
      "[1500]\ttraining's l1: 0.832258\tvalid_1's l1: 1.07443\n",
      "[1600]\ttraining's l1: 0.830371\tvalid_1's l1: 1.07325\n",
      "[1700]\ttraining's l1: 0.826352\tvalid_1's l1: 1.07183\n",
      "[1800]\ttraining's l1: 0.823638\tvalid_1's l1: 1.0712\n",
      "[1900]\ttraining's l1: 0.820695\tvalid_1's l1: 1.07039\n",
      "[2000]\ttraining's l1: 0.818293\tvalid_1's l1: 1.07038\n",
      "Early stopping, best iteration is:\n",
      "[1909]\ttraining's l1: 0.820547\tvalid_1's l1: 1.07037\n"
     ]
    },
    {
     "name": "stderr",
     "output_type": "stream",
     "text": [
      "\u001b[32m[I 2021-07-31 11:58:03,772]\u001b[0m Trial 31 finished with value: -1.069933994045492 and parameters: {'max_depth': 15, 'min_child_weight': 10, 'subsample': 0.8, 'colsample_bytree': 0.5, 'reg_lambda': 1.752765990135902, 'reg_alpha': 0.05589605235844888, 'feature_fraction': 0.9236504861796562, 'bagging_fraction': 0.6603561676415426, 'bagging_freq': 12, 'num_leaves': 77, 'min_child_samples': 29}. Best is trial 31 with value: -1.069933994045492.\u001b[0m\n"
     ]
    },
    {
     "name": "stdout",
     "output_type": "stream",
     "text": [
      "[LightGBM] [Warning] feature_fraction is set=0.9290808264027683, colsample_bytree=0.6 will be ignored. Current value: feature_fraction=0.9290808264027683\n",
      "[LightGBM] [Warning] bagging_fraction is set=0.6598015155002908, subsample=0.8 will be ignored. Current value: bagging_fraction=0.6598015155002908\n",
      "[LightGBM] [Warning] bagging_freq is set=12, subsample_freq=0 will be ignored. Current value: bagging_freq=12\n",
      "Training until validation scores don't improve for 100 rounds\n",
      "[100]\ttraining's l1: 0.861115\tvalid_1's l1: 1.09956\n",
      "[200]\ttraining's l1: 0.857917\tvalid_1's l1: 1.09621\n",
      "[300]\ttraining's l1: 0.854616\tvalid_1's l1: 1.09081\n",
      "[400]\ttraining's l1: 0.851225\tvalid_1's l1: 1.08691\n",
      "[500]\ttraining's l1: 0.850404\tvalid_1's l1: 1.08639\n",
      "[600]\ttraining's l1: 0.849056\tvalid_1's l1: 1.08536\n",
      "[700]\ttraining's l1: 0.846759\tvalid_1's l1: 1.08372\n",
      "[800]\ttraining's l1: 0.843987\tvalid_1's l1: 1.08162\n",
      "[900]\ttraining's l1: 0.842575\tvalid_1's l1: 1.08114\n",
      "[1000]\ttraining's l1: 0.841284\tvalid_1's l1: 1.07969\n",
      "[1100]\ttraining's l1: 0.840529\tvalid_1's l1: 1.07967\n",
      "[1200]\ttraining's l1: 0.838503\tvalid_1's l1: 1.07943\n",
      "[1300]\ttraining's l1: 0.836596\tvalid_1's l1: 1.07919\n",
      "[1400]\ttraining's l1: 0.833009\tvalid_1's l1: 1.0773\n",
      "[1500]\ttraining's l1: 0.826011\tvalid_1's l1: 1.07604\n",
      "[1600]\ttraining's l1: 0.821278\tvalid_1's l1: 1.07458\n",
      "[1700]\ttraining's l1: 0.817175\tvalid_1's l1: 1.0747\n",
      "[1800]\ttraining's l1: 0.810037\tvalid_1's l1: 1.07369\n",
      "[1900]\ttraining's l1: 0.806195\tvalid_1's l1: 1.07326\n",
      "Early stopping, best iteration is:\n",
      "[1834]\ttraining's l1: 0.807675\tvalid_1's l1: 1.07296\n"
     ]
    },
    {
     "name": "stderr",
     "output_type": "stream",
     "text": [
      "\u001b[32m[I 2021-07-31 11:59:11,969]\u001b[0m Trial 32 finished with value: -1.0722274563833036 and parameters: {'max_depth': 15, 'min_child_weight': 10, 'subsample': 0.8, 'colsample_bytree': 0.6, 'reg_lambda': 1.8939626497445095, 'reg_alpha': 0.07470214292406313, 'feature_fraction': 0.9290808264027683, 'bagging_fraction': 0.6598015155002908, 'bagging_freq': 12, 'num_leaves': 162, 'min_child_samples': 11}. Best is trial 31 with value: -1.069933994045492.\u001b[0m\n"
     ]
    },
    {
     "name": "stdout",
     "output_type": "stream",
     "text": [
      "[LightGBM] [Warning] feature_fraction is set=0.8380560983543889, colsample_bytree=0.5 will be ignored. Current value: feature_fraction=0.8380560983543889\n",
      "[LightGBM] [Warning] bagging_fraction is set=0.7476960695090313, subsample=0.9 will be ignored. Current value: bagging_fraction=0.7476960695090313\n",
      "[LightGBM] [Warning] bagging_freq is set=12, subsample_freq=0 will be ignored. Current value: bagging_freq=12\n",
      "Training until validation scores don't improve for 100 rounds\n",
      "[100]\ttraining's l1: 0.848214\tvalid_1's l1: 1.08744\n",
      "[200]\ttraining's l1: 0.846363\tvalid_1's l1: 1.08564\n",
      "[300]\ttraining's l1: 0.84454\tvalid_1's l1: 1.08321\n",
      "[400]\ttraining's l1: 0.842068\tvalid_1's l1: 1.08109\n",
      "Early stopping, best iteration is:\n",
      "[333]\ttraining's l1: 0.843416\tvalid_1's l1: 1.081\n"
     ]
    },
    {
     "name": "stderr",
     "output_type": "stream",
     "text": [
      "\u001b[32m[I 2021-07-31 11:59:31,071]\u001b[0m Trial 33 finished with value: -1.0809032102974292 and parameters: {'max_depth': 13, 'min_child_weight': 13, 'subsample': 0.9, 'colsample_bytree': 0.5, 'reg_lambda': 6.966175147386813, 'reg_alpha': 0.011899190097095698, 'feature_fraction': 0.8380560983543889, 'bagging_fraction': 0.7476960695090313, 'bagging_freq': 12, 'num_leaves': 252, 'min_child_samples': 29}. Best is trial 31 with value: -1.069933994045492.\u001b[0m\n"
     ]
    },
    {
     "name": "stdout",
     "output_type": "stream",
     "text": [
      "[LightGBM] [Warning] feature_fraction is set=0.9055855186409578, colsample_bytree=0.6 will be ignored. Current value: feature_fraction=0.9055855186409578\n",
      "[LightGBM] [Warning] bagging_fraction is set=0.5418309345346844, subsample=0.7 will be ignored. Current value: bagging_fraction=0.5418309345346844\n",
      "[LightGBM] [Warning] bagging_freq is set=16, subsample_freq=0 will be ignored. Current value: bagging_freq=16\n",
      "Training until validation scores don't improve for 100 rounds\n",
      "[100]\ttraining's l1: 0.859215\tvalid_1's l1: 1.09698\n",
      "[200]\ttraining's l1: 0.857511\tvalid_1's l1: 1.09443\n",
      "[300]\ttraining's l1: 0.854938\tvalid_1's l1: 1.09046\n",
      "[400]\ttraining's l1: 0.85466\tvalid_1's l1: 1.09034\n",
      "[500]\ttraining's l1: 0.85357\tvalid_1's l1: 1.08885\n",
      "[600]\ttraining's l1: 0.849824\tvalid_1's l1: 1.08548\n",
      "[700]\ttraining's l1: 0.84666\tvalid_1's l1: 1.08208\n",
      "[800]\ttraining's l1: 0.842333\tvalid_1's l1: 1.07999\n",
      "[900]\ttraining's l1: 0.837896\tvalid_1's l1: 1.07861\n",
      "[1000]\ttraining's l1: 0.833014\tvalid_1's l1: 1.07706\n",
      "[1100]\ttraining's l1: 0.830393\tvalid_1's l1: 1.07558\n",
      "[1200]\ttraining's l1: 0.828624\tvalid_1's l1: 1.07499\n",
      "[1300]\ttraining's l1: 0.825062\tvalid_1's l1: 1.07493\n",
      "Early stopping, best iteration is:\n",
      "[1258]\ttraining's l1: 0.826406\tvalid_1's l1: 1.07461\n"
     ]
    },
    {
     "name": "stderr",
     "output_type": "stream",
     "text": [
      "\u001b[32m[I 2021-07-31 12:00:13,450]\u001b[0m Trial 34 finished with value: -1.074135750762145 and parameters: {'max_depth': 17, 'min_child_weight': 8, 'subsample': 0.7, 'colsample_bytree': 0.6, 'reg_lambda': 31.479636293319, 'reg_alpha': 0.0016523605758111822, 'feature_fraction': 0.9055855186409578, 'bagging_fraction': 0.5418309345346844, 'bagging_freq': 16, 'num_leaves': 152, 'min_child_samples': 20}. Best is trial 31 with value: -1.069933994045492.\u001b[0m\n"
     ]
    },
    {
     "name": "stdout",
     "output_type": "stream",
     "text": [
      "[LightGBM] [Warning] feature_fraction is set=0.7040923630789394, colsample_bytree=0.5 will be ignored. Current value: feature_fraction=0.7040923630789394\n",
      "[LightGBM] [Warning] bagging_fraction is set=0.6821175887532412, subsample=0.9 will be ignored. Current value: bagging_fraction=0.6821175887532412\n",
      "[LightGBM] [Warning] bagging_freq is set=9, subsample_freq=0 will be ignored. Current value: bagging_freq=9\n",
      "Training until validation scores don't improve for 100 rounds\n",
      "[100]\ttraining's l1: 0.872072\tvalid_1's l1: 1.11284\n",
      "[200]\ttraining's l1: 0.870627\tvalid_1's l1: 1.11011\n",
      "[300]\ttraining's l1: 0.86934\tvalid_1's l1: 1.10852\n",
      "[400]\ttraining's l1: 0.866761\tvalid_1's l1: 1.10399\n",
      "[500]\ttraining's l1: 0.861243\tvalid_1's l1: 1.09641\n",
      "[600]\ttraining's l1: 0.856073\tvalid_1's l1: 1.0904\n",
      "[700]\ttraining's l1: 0.851507\tvalid_1's l1: 1.08661\n",
      "[800]\ttraining's l1: 0.84963\tvalid_1's l1: 1.0858\n",
      "[900]\ttraining's l1: 0.84419\tvalid_1's l1: 1.08139\n",
      "[1000]\ttraining's l1: 0.838832\tvalid_1's l1: 1.07983\n",
      "[1100]\ttraining's l1: 0.83559\tvalid_1's l1: 1.07855\n",
      "[1200]\ttraining's l1: 0.833869\tvalid_1's l1: 1.07797\n",
      "[1300]\ttraining's l1: 0.832683\tvalid_1's l1: 1.07739\n",
      "[1400]\ttraining's l1: 0.829873\tvalid_1's l1: 1.07634\n",
      "[1500]\ttraining's l1: 0.826559\tvalid_1's l1: 1.07549\n",
      "Early stopping, best iteration is:\n",
      "[1490]\ttraining's l1: 0.827003\tvalid_1's l1: 1.07547\n"
     ]
    },
    {
     "name": "stderr",
     "output_type": "stream",
     "text": [
      "\u001b[32m[I 2021-07-31 12:00:54,157]\u001b[0m Trial 35 finished with value: -1.0750780080020343 and parameters: {'max_depth': 12, 'min_child_weight': 6, 'subsample': 0.9, 'colsample_bytree': 0.5, 'reg_lambda': 0.3150524390961277, 'reg_alpha': 0.0030045579425066523, 'feature_fraction': 0.7040923630789394, 'bagging_fraction': 0.6821175887532412, 'bagging_freq': 9, 'num_leaves': 74, 'min_child_samples': 30}. Best is trial 31 with value: -1.069933994045492.\u001b[0m\n"
     ]
    },
    {
     "name": "stdout",
     "output_type": "stream",
     "text": [
      "[LightGBM] [Warning] feature_fraction is set=0.9858577826507606, colsample_bytree=0.7 will be ignored. Current value: feature_fraction=0.9858577826507606\n",
      "[LightGBM] [Warning] bagging_fraction is set=0.42970111622464036, subsample=0.8 will be ignored. Current value: bagging_fraction=0.42970111622464036\n",
      "[LightGBM] [Warning] bagging_freq is set=14, subsample_freq=0 will be ignored. Current value: bagging_freq=14\n",
      "Training until validation scores don't improve for 100 rounds\n",
      "[100]\ttraining's l1: 0.907897\tvalid_1's l1: 1.15879\n",
      "[200]\ttraining's l1: 0.89657\tvalid_1's l1: 1.14222\n",
      "[300]\ttraining's l1: 0.890354\tvalid_1's l1: 1.13285\n",
      "[400]\ttraining's l1: 0.886682\tvalid_1's l1: 1.12643\n",
      "[500]\ttraining's l1: 0.885771\tvalid_1's l1: 1.12551\n",
      "[600]\ttraining's l1: 0.885514\tvalid_1's l1: 1.12503\n",
      "[700]\ttraining's l1: 0.885185\tvalid_1's l1: 1.1246\n",
      "[800]\ttraining's l1: 0.884803\tvalid_1's l1: 1.12443\n",
      "[900]\ttraining's l1: 0.883459\tvalid_1's l1: 1.12235\n",
      "[1000]\ttraining's l1: 0.881853\tvalid_1's l1: 1.11943\n",
      "[1100]\ttraining's l1: 0.880194\tvalid_1's l1: 1.11639\n",
      "[1200]\ttraining's l1: 0.87903\tvalid_1's l1: 1.11393\n",
      "[1300]\ttraining's l1: 0.877436\tvalid_1's l1: 1.11211\n",
      "[1400]\ttraining's l1: 0.876688\tvalid_1's l1: 1.11112\n",
      "[1500]\ttraining's l1: 0.87513\tvalid_1's l1: 1.10896\n",
      "[1600]\ttraining's l1: 0.874696\tvalid_1's l1: 1.10883\n",
      "[1700]\ttraining's l1: 0.8734\tvalid_1's l1: 1.10652\n",
      "[1800]\ttraining's l1: 0.872003\tvalid_1's l1: 1.10408\n",
      "[1900]\ttraining's l1: 0.871223\tvalid_1's l1: 1.10303\n",
      "[2000]\ttraining's l1: 0.870465\tvalid_1's l1: 1.10265\n",
      "[2100]\ttraining's l1: 0.869969\tvalid_1's l1: 1.10182\n",
      "[2200]\ttraining's l1: 0.869322\tvalid_1's l1: 1.10087\n",
      "[2300]\ttraining's l1: 0.869019\tvalid_1's l1: 1.10054\n",
      "[2400]\ttraining's l1: 0.867627\tvalid_1's l1: 1.09789\n",
      "[2500]\ttraining's l1: 0.866535\tvalid_1's l1: 1.09584\n",
      "[2600]\ttraining's l1: 0.866401\tvalid_1's l1: 1.09567\n",
      "[2700]\ttraining's l1: 0.865914\tvalid_1's l1: 1.09554\n",
      "Early stopping, best iteration is:\n",
      "[2627]\ttraining's l1: 0.866355\tvalid_1's l1: 1.09549\n"
     ]
    },
    {
     "name": "stderr",
     "output_type": "stream",
     "text": [
      "\u001b[32m[I 2021-07-31 12:01:31,113]\u001b[0m Trial 36 finished with value: -1.0950631500574373 and parameters: {'max_depth': 3, 'min_child_weight': 12, 'subsample': 0.8, 'colsample_bytree': 0.7, 'reg_lambda': 3.1129811156953617, 'reg_alpha': 1.6804241328272762, 'feature_fraction': 0.9858577826507606, 'bagging_fraction': 0.42970111622464036, 'bagging_freq': 14, 'num_leaves': 342, 'min_child_samples': 5}. Best is trial 31 with value: -1.069933994045492.\u001b[0m\n"
     ]
    },
    {
     "name": "stdout",
     "output_type": "stream",
     "text": [
      "[LightGBM] [Warning] feature_fraction is set=0.7971600894381248, colsample_bytree=0.6 will be ignored. Current value: feature_fraction=0.7971600894381248\n",
      "[LightGBM] [Warning] bagging_fraction is set=0.6286070726916704, subsample=0.9 will be ignored. Current value: bagging_fraction=0.6286070726916704\n",
      "[LightGBM] [Warning] bagging_freq is set=11, subsample_freq=0 will be ignored. Current value: bagging_freq=11\n",
      "Training until validation scores don't improve for 100 rounds\n",
      "[100]\ttraining's l1: 0.877214\tvalid_1's l1: 1.11975\n",
      "[200]\ttraining's l1: 0.876589\tvalid_1's l1: 1.11855\n",
      "[300]\ttraining's l1: 0.874718\tvalid_1's l1: 1.11503\n",
      "[400]\ttraining's l1: 0.874062\tvalid_1's l1: 1.11432\n",
      "[500]\ttraining's l1: 0.871919\tvalid_1's l1: 1.11007\n",
      "[600]\ttraining's l1: 0.866719\tvalid_1's l1: 1.10343\n",
      "[700]\ttraining's l1: 0.862347\tvalid_1's l1: 1.09728\n",
      "[800]\ttraining's l1: 0.858858\tvalid_1's l1: 1.09286\n",
      "[900]\ttraining's l1: 0.856703\tvalid_1's l1: 1.09076\n",
      "[1000]\ttraining's l1: 0.855418\tvalid_1's l1: 1.08912\n",
      "[1100]\ttraining's l1: 0.851474\tvalid_1's l1: 1.08591\n",
      "[1200]\ttraining's l1: 0.847471\tvalid_1's l1: 1.08419\n",
      "[1300]\ttraining's l1: 0.842902\tvalid_1's l1: 1.08096\n",
      "[1400]\ttraining's l1: 0.838752\tvalid_1's l1: 1.07846\n",
      "[1500]\ttraining's l1: 0.837079\tvalid_1's l1: 1.07789\n",
      "[1600]\ttraining's l1: 0.833853\tvalid_1's l1: 1.07637\n",
      "[1700]\ttraining's l1: 0.833107\tvalid_1's l1: 1.07584\n",
      "[1800]\ttraining's l1: 0.83144\tvalid_1's l1: 1.0753\n",
      "[1900]\ttraining's l1: 0.830212\tvalid_1's l1: 1.07493\n",
      "Early stopping, best iteration is:\n",
      "[1802]\ttraining's l1: 0.831287\tvalid_1's l1: 1.07477\n"
     ]
    },
    {
     "name": "stderr",
     "output_type": "stream",
     "text": [
      "\u001b[32m[I 2021-07-31 12:02:15,200]\u001b[0m Trial 37 finished with value: -1.0743291695311707 and parameters: {'max_depth': 11, 'min_child_weight': 8, 'subsample': 0.9, 'colsample_bytree': 0.6, 'reg_lambda': 0.20387987228528404, 'reg_alpha': 0.13226614781853693, 'feature_fraction': 0.7971600894381248, 'bagging_fraction': 0.6286070726916704, 'bagging_freq': 11, 'num_leaves': 53, 'min_child_samples': 17}. Best is trial 31 with value: -1.069933994045492.\u001b[0m\n"
     ]
    },
    {
     "name": "stdout",
     "output_type": "stream",
     "text": [
      "[LightGBM] [Warning] feature_fraction is set=0.5962796987361941, colsample_bytree=0.5 will be ignored. Current value: feature_fraction=0.5962796987361941\n",
      "[LightGBM] [Warning] bagging_fraction is set=0.34511284035103723, subsample=0.8 will be ignored. Current value: bagging_fraction=0.34511284035103723\n",
      "[LightGBM] [Warning] bagging_freq is set=10, subsample_freq=0 will be ignored. Current value: bagging_freq=10\n",
      "Training until validation scores don't improve for 100 rounds\n",
      "[100]\ttraining's l1: 0.828743\tvalid_1's l1: 1.08248\n",
      "[200]\ttraining's l1: 0.815357\tvalid_1's l1: 1.08277\n",
      "Early stopping, best iteration is:\n",
      "[118]\ttraining's l1: 0.82531\tvalid_1's l1: 1.08119\n"
     ]
    },
    {
     "name": "stderr",
     "output_type": "stream",
     "text": [
      "\u001b[32m[I 2021-07-31 12:02:30,229]\u001b[0m Trial 38 finished with value: -1.0807604001049813 and parameters: {'max_depth': 14, 'min_child_weight': 5, 'subsample': 0.8, 'colsample_bytree': 0.5, 'reg_lambda': 60.72558688748032, 'reg_alpha': 0.04622977832734522, 'feature_fraction': 0.5962796987361941, 'bagging_fraction': 0.34511284035103723, 'bagging_freq': 10, 'num_leaves': 822, 'min_child_samples': 48}. Best is trial 31 with value: -1.069933994045492.\u001b[0m\n"
     ]
    },
    {
     "name": "stdout",
     "output_type": "stream",
     "text": [
      "[LightGBM] [Warning] feature_fraction is set=0.8547579375591712, colsample_bytree=0.6 will be ignored. Current value: feature_fraction=0.8547579375591712\n",
      "[LightGBM] [Warning] bagging_fraction is set=0.7998346734004254, subsample=0.7 will be ignored. Current value: bagging_fraction=0.7998346734004254\n",
      "[LightGBM] [Warning] bagging_freq is set=16, subsample_freq=0 will be ignored. Current value: bagging_freq=16\n",
      "Training until validation scores don't improve for 100 rounds\n",
      "[100]\ttraining's l1: 0.851994\tvalid_1's l1: 1.0896\n",
      "[200]\ttraining's l1: 0.84971\tvalid_1's l1: 1.08664\n",
      "[300]\ttraining's l1: 0.847484\tvalid_1's l1: 1.08369\n",
      "[400]\ttraining's l1: 0.845708\tvalid_1's l1: 1.08296\n",
      "[500]\ttraining's l1: 0.842383\tvalid_1's l1: 1.08041\n",
      "[600]\ttraining's l1: 0.839699\tvalid_1's l1: 1.07856\n",
      "[700]\ttraining's l1: 0.837105\tvalid_1's l1: 1.07779\n",
      "[800]\ttraining's l1: 0.833905\tvalid_1's l1: 1.07772\n",
      "[900]\ttraining's l1: 0.828334\tvalid_1's l1: 1.07525\n",
      "[1000]\ttraining's l1: 0.823066\tvalid_1's l1: 1.074\n",
      "[1100]\ttraining's l1: 0.816765\tvalid_1's l1: 1.07279\n",
      "[1200]\ttraining's l1: 0.809476\tvalid_1's l1: 1.07288\n",
      "Early stopping, best iteration is:\n",
      "[1148]\ttraining's l1: 0.812345\tvalid_1's l1: 1.07234\n"
     ]
    },
    {
     "name": "stderr",
     "output_type": "stream",
     "text": [
      "\u001b[32m[I 2021-07-31 12:03:23,148]\u001b[0m Trial 39 finished with value: -1.0718727970443782 and parameters: {'max_depth': 16, 'min_child_weight': 3, 'subsample': 0.7, 'colsample_bytree': 0.6, 'reg_lambda': 15.697739647814322, 'reg_alpha': 0.01611909330608218, 'feature_fraction': 0.8547579375591712, 'bagging_fraction': 0.7998346734004254, 'bagging_freq': 16, 'num_leaves': 234, 'min_child_samples': 35}. Best is trial 31 with value: -1.069933994045492.\u001b[0m\n"
     ]
    },
    {
     "name": "stdout",
     "output_type": "stream",
     "text": [
      "[LightGBM] [Warning] feature_fraction is set=0.95719229193831, colsample_bytree=0.7 will be ignored. Current value: feature_fraction=0.95719229193831\n",
      "[LightGBM] [Warning] bagging_fraction is set=0.5745332979251505, subsample=0.9 will be ignored. Current value: bagging_fraction=0.5745332979251505\n",
      "[LightGBM] [Warning] bagging_freq is set=14, subsample_freq=0 will be ignored. Current value: bagging_freq=14\n",
      "Training until validation scores don't improve for 100 rounds\n",
      "[100]\ttraining's l1: 0.8328\tvalid_1's l1: 1.08099\n",
      "[200]\ttraining's l1: 0.816011\tvalid_1's l1: 1.07619\n",
      "Early stopping, best iteration is:\n",
      "[190]\ttraining's l1: 0.816749\tvalid_1's l1: 1.07576\n"
     ]
    },
    {
     "name": "stderr",
     "output_type": "stream",
     "text": [
      "\u001b[32m[I 2021-07-31 12:03:40,570]\u001b[0m Trial 40 finished with value: -1.0753270337540302 and parameters: {'max_depth': 13, 'min_child_weight': 6, 'subsample': 0.9, 'colsample_bytree': 0.7, 'reg_lambda': 649.480867506094, 'reg_alpha': 0.006651719092003642, 'feature_fraction': 0.95719229193831, 'bagging_fraction': 0.5745332979251505, 'bagging_freq': 14, 'num_leaves': 486, 'min_child_samples': 10}. Best is trial 31 with value: -1.069933994045492.\u001b[0m\n"
     ]
    },
    {
     "name": "stdout",
     "output_type": "stream",
     "text": [
      "[LightGBM] [Warning] feature_fraction is set=0.8707948901359871, colsample_bytree=0.6 will be ignored. Current value: feature_fraction=0.8707948901359871\n",
      "[LightGBM] [Warning] bagging_fraction is set=0.8039817947525638, subsample=0.6 will be ignored. Current value: bagging_fraction=0.8039817947525638\n",
      "[LightGBM] [Warning] bagging_freq is set=17, subsample_freq=0 will be ignored. Current value: bagging_freq=17\n",
      "Training until validation scores don't improve for 100 rounds\n",
      "[100]\ttraining's l1: 0.851607\tvalid_1's l1: 1.0891\n",
      "[200]\ttraining's l1: 0.848881\tvalid_1's l1: 1.08549\n",
      "[300]\ttraining's l1: 0.84545\tvalid_1's l1: 1.08246\n",
      "[400]\ttraining's l1: 0.844052\tvalid_1's l1: 1.08169\n",
      "[500]\ttraining's l1: 0.842125\tvalid_1's l1: 1.08044\n",
      "[600]\ttraining's l1: 0.838036\tvalid_1's l1: 1.07761\n",
      "[700]\ttraining's l1: 0.834746\tvalid_1's l1: 1.07659\n",
      "[800]\ttraining's l1: 0.830302\tvalid_1's l1: 1.07524\n",
      "[900]\ttraining's l1: 0.827721\tvalid_1's l1: 1.07457\n",
      "[1000]\ttraining's l1: 0.824319\tvalid_1's l1: 1.07376\n",
      "[1100]\ttraining's l1: 0.816983\tvalid_1's l1: 1.07248\n",
      "[1200]\ttraining's l1: 0.80822\tvalid_1's l1: 1.07227\n",
      "Early stopping, best iteration is:\n",
      "[1159]\ttraining's l1: 0.809972\tvalid_1's l1: 1.07203\n"
     ]
    },
    {
     "name": "stderr",
     "output_type": "stream",
     "text": [
      "\u001b[32m[I 2021-07-31 12:04:34,866]\u001b[0m Trial 41 finished with value: -1.0714676107945933 and parameters: {'max_depth': 16, 'min_child_weight': 1, 'subsample': 0.6, 'colsample_bytree': 0.6, 'reg_lambda': 12.479918818960014, 'reg_alpha': 0.016301406395890415, 'feature_fraction': 0.8707948901359871, 'bagging_fraction': 0.8039817947525638, 'bagging_freq': 17, 'num_leaves': 252, 'min_child_samples': 34}. Best is trial 31 with value: -1.069933994045492.\u001b[0m\n"
     ]
    },
    {
     "name": "stdout",
     "output_type": "stream",
     "text": [
      "[LightGBM] [Warning] feature_fraction is set=0.7626043090327888, colsample_bytree=0.6 will be ignored. Current value: feature_fraction=0.7626043090327888\n",
      "[LightGBM] [Warning] bagging_fraction is set=0.8032106779159149, subsample=0.5 will be ignored. Current value: bagging_fraction=0.8032106779159149\n",
      "[LightGBM] [Warning] bagging_freq is set=19, subsample_freq=0 will be ignored. Current value: bagging_freq=19\n",
      "Training until validation scores don't improve for 100 rounds\n",
      "[100]\ttraining's l1: 0.858795\tvalid_1's l1: 1.09773\n",
      "[200]\ttraining's l1: 0.85802\tvalid_1's l1: 1.09654\n",
      "[300]\ttraining's l1: 0.856465\tvalid_1's l1: 1.09399\n",
      "[400]\ttraining's l1: 0.851825\tvalid_1's l1: 1.08821\n",
      "[500]\ttraining's l1: 0.845784\tvalid_1's l1: 1.08375\n",
      "[600]\ttraining's l1: 0.842039\tvalid_1's l1: 1.08024\n",
      "[700]\ttraining's l1: 0.838848\tvalid_1's l1: 1.07889\n",
      "[800]\ttraining's l1: 0.832214\tvalid_1's l1: 1.07712\n",
      "[900]\ttraining's l1: 0.828412\tvalid_1's l1: 1.07562\n",
      "[1000]\ttraining's l1: 0.823312\tvalid_1's l1: 1.07497\n",
      "Early stopping, best iteration is:\n",
      "[925]\ttraining's l1: 0.825032\tvalid_1's l1: 1.07476\n"
     ]
    },
    {
     "name": "stderr",
     "output_type": "stream",
     "text": [
      "\u001b[32m[I 2021-07-31 12:05:11,649]\u001b[0m Trial 42 finished with value: -1.0745048326885358 and parameters: {'max_depth': 15, 'min_child_weight': 1, 'subsample': 0.5, 'colsample_bytree': 0.6, 'reg_lambda': 1.7015518570582668, 'reg_alpha': 0.002005228417503036, 'feature_fraction': 0.7626043090327888, 'bagging_fraction': 0.8032106779159149, 'bagging_freq': 19, 'num_leaves': 162, 'min_child_samples': 58}. Best is trial 31 with value: -1.069933994045492.\u001b[0m\n"
     ]
    },
    {
     "name": "stdout",
     "output_type": "stream",
     "text": [
      "[LightGBM] [Warning] feature_fraction is set=0.8927863969220725, colsample_bytree=0.6 will be ignored. Current value: feature_fraction=0.8927863969220725\n",
      "[LightGBM] [Warning] bagging_fraction is set=0.6382176498512241, subsample=0.6 will be ignored. Current value: bagging_fraction=0.6382176498512241\n",
      "[LightGBM] [Warning] bagging_freq is set=12, subsample_freq=0 will be ignored. Current value: bagging_freq=12\n",
      "Training until validation scores don't improve for 100 rounds\n",
      "[100]\ttraining's l1: 0.830199\tvalid_1's l1: 1.07662\n",
      "[200]\ttraining's l1: 0.825759\tvalid_1's l1: 1.07469\n",
      "[300]\ttraining's l1: 0.819816\tvalid_1's l1: 1.07326\n",
      "[400]\ttraining's l1: 0.81061\tvalid_1's l1: 1.07291\n",
      "[500]\ttraining's l1: 0.799954\tvalid_1's l1: 1.07259\n",
      "Early stopping, best iteration is:\n",
      "[453]\ttraining's l1: 0.805222\tvalid_1's l1: 1.07188\n"
     ]
    },
    {
     "name": "stderr",
     "output_type": "stream",
     "text": [
      "\u001b[32m[I 2021-07-31 12:05:49,787]\u001b[0m Trial 43 finished with value: -1.07137811637576 and parameters: {'max_depth': 18, 'min_child_weight': 10, 'subsample': 0.6, 'colsample_bytree': 0.6, 'reg_lambda': 4.198189240165074, 'reg_alpha': 0.008302143716792745, 'feature_fraction': 0.8927863969220725, 'bagging_fraction': 0.6382176498512241, 'bagging_freq': 12, 'num_leaves': 576, 'min_child_samples': 27}. Best is trial 31 with value: -1.069933994045492.\u001b[0m\n"
     ]
    },
    {
     "name": "stdout",
     "output_type": "stream",
     "text": [
      "[LightGBM] [Warning] feature_fraction is set=0.8930932106527619, colsample_bytree=0.5 will be ignored. Current value: feature_fraction=0.8930932106527619\n",
      "[LightGBM] [Warning] bagging_fraction is set=0.540184447644686, subsample=0.6 will be ignored. Current value: bagging_fraction=0.540184447644686\n",
      "[LightGBM] [Warning] bagging_freq is set=12, subsample_freq=0 will be ignored. Current value: bagging_freq=12\n",
      "Training until validation scores don't improve for 100 rounds\n",
      "[100]\ttraining's l1: 0.829353\tvalid_1's l1: 1.07504\n",
      "[200]\ttraining's l1: 0.824056\tvalid_1's l1: 1.07278\n",
      "[300]\ttraining's l1: 0.820356\tvalid_1's l1: 1.07205\n",
      "[400]\ttraining's l1: 0.813606\tvalid_1's l1: 1.07298\n",
      "Early stopping, best iteration is:\n",
      "[335]\ttraining's l1: 0.818504\tvalid_1's l1: 1.0719\n"
     ]
    },
    {
     "name": "stderr",
     "output_type": "stream",
     "text": [
      "\u001b[32m[I 2021-07-31 12:06:18,712]\u001b[0m Trial 44 finished with value: -1.0715828853596319 and parameters: {'max_depth': 19, 'min_child_weight': 12, 'subsample': 0.6, 'colsample_bytree': 0.5, 'reg_lambda': 1.101494478521199, 'reg_alpha': 0.003848903251939598, 'feature_fraction': 0.8930932106527619, 'bagging_fraction': 0.540184447644686, 'bagging_freq': 12, 'num_leaves': 593, 'min_child_samples': 25}. Best is trial 31 with value: -1.069933994045492.\u001b[0m\n"
     ]
    },
    {
     "name": "stdout",
     "output_type": "stream",
     "text": [
      "[LightGBM] [Warning] feature_fraction is set=0.8048127741648272, colsample_bytree=0.6 will be ignored. Current value: feature_fraction=0.8048127741648272\n",
      "[LightGBM] [Warning] bagging_fraction is set=0.6947132651986065, subsample=0.6 will be ignored. Current value: bagging_fraction=0.6947132651986065\n",
      "[LightGBM] [Warning] bagging_freq is set=13, subsample_freq=0 will be ignored. Current value: bagging_freq=13\n",
      "Training until validation scores don't improve for 100 rounds\n",
      "[100]\ttraining's l1: 0.824472\tvalid_1's l1: 1.0777\n",
      "[200]\ttraining's l1: 0.817944\tvalid_1's l1: 1.07553\n",
      "[300]\ttraining's l1: 0.813404\tvalid_1's l1: 1.07591\n",
      "Early stopping, best iteration is:\n",
      "[240]\ttraining's l1: 0.815625\tvalid_1's l1: 1.07523\n"
     ]
    },
    {
     "name": "stderr",
     "output_type": "stream",
     "text": [
      "\u001b[32m[I 2021-07-31 12:06:41,766]\u001b[0m Trial 45 finished with value: -1.0749906958861712 and parameters: {'max_depth': 19, 'min_child_weight': 10, 'subsample': 0.6, 'colsample_bytree': 0.6, 'reg_lambda': 4.912880912463315, 'reg_alpha': 0.0012723832207894852, 'feature_fraction': 0.8048127741648272, 'bagging_fraction': 0.6947132651986065, 'bagging_freq': 13, 'num_leaves': 703, 'min_child_samples': 18}. Best is trial 31 with value: -1.069933994045492.\u001b[0m\n"
     ]
    },
    {
     "name": "stdout",
     "output_type": "stream",
     "text": [
      "[LightGBM] [Warning] feature_fraction is set=0.6825373718636674, colsample_bytree=0.6 will be ignored. Current value: feature_fraction=0.6825373718636674\n",
      "[LightGBM] [Warning] bagging_fraction is set=0.634321186713623, subsample=0.5 will be ignored. Current value: bagging_fraction=0.634321186713623\n",
      "[LightGBM] [Warning] bagging_freq is set=10, subsample_freq=0 will be ignored. Current value: bagging_freq=10\n",
      "Training until validation scores don't improve for 100 rounds\n",
      "[100]\ttraining's l1: 0.826713\tvalid_1's l1: 1.07641\n",
      "[200]\ttraining's l1: 0.818511\tvalid_1's l1: 1.07413\n",
      "[300]\ttraining's l1: 0.816447\tvalid_1's l1: 1.0735\n",
      "[400]\ttraining's l1: 0.802369\tvalid_1's l1: 1.07286\n",
      "Early stopping, best iteration is:\n",
      "[388]\ttraining's l1: 0.804547\tvalid_1's l1: 1.07239\n"
     ]
    },
    {
     "name": "stderr",
     "output_type": "stream",
     "text": [
      "\u001b[32m[I 2021-07-31 12:07:11,994]\u001b[0m Trial 46 finished with value: -1.0719933837095208 and parameters: {'max_depth': 17, 'min_child_weight': 14, 'subsample': 0.5, 'colsample_bytree': 0.6, 'reg_lambda': 1.1688853100457026, 'reg_alpha': 0.009021741313586679, 'feature_fraction': 0.6825373718636674, 'bagging_fraction': 0.634321186713623, 'bagging_freq': 10, 'num_leaves': 685, 'min_child_samples': 38}. Best is trial 31 with value: -1.069933994045492.\u001b[0m\n"
     ]
    },
    {
     "name": "stdout",
     "output_type": "stream",
     "text": [
      "[LightGBM] [Warning] feature_fraction is set=0.9530514536684453, colsample_bytree=0.7 will be ignored. Current value: feature_fraction=0.9530514536684453\n",
      "[LightGBM] [Warning] bagging_fraction is set=0.5957561642196437, subsample=0.7 will be ignored. Current value: bagging_fraction=0.5957561642196437\n",
      "[LightGBM] [Warning] bagging_freq is set=8, subsample_freq=0 will be ignored. Current value: bagging_freq=8\n",
      "Training until validation scores don't improve for 100 rounds\n",
      "[100]\ttraining's l1: 0.830221\tvalid_1's l1: 1.07627\n",
      "[200]\ttraining's l1: 0.820855\tvalid_1's l1: 1.07473\n",
      "Early stopping, best iteration is:\n",
      "[138]\ttraining's l1: 0.824721\tvalid_1's l1: 1.07434\n"
     ]
    },
    {
     "name": "stderr",
     "output_type": "stream",
     "text": [
      "\u001b[32m[I 2021-07-31 12:07:30,580]\u001b[0m Trial 47 finished with value: -1.0741464946819919 and parameters: {'max_depth': 18, 'min_child_weight': 18, 'subsample': 0.7, 'colsample_bytree': 0.7, 'reg_lambda': 41.790690138918535, 'reg_alpha': 0.23542979661405247, 'feature_fraction': 0.9530514536684453, 'bagging_fraction': 0.5957561642196437, 'bagging_freq': 8, 'num_leaves': 533, 'min_child_samples': 27}. Best is trial 31 with value: -1.069933994045492.\u001b[0m\n"
     ]
    },
    {
     "name": "stdout",
     "output_type": "stream",
     "text": [
      "[LightGBM] [Warning] feature_fraction is set=0.6371079228490262, colsample_bytree=0.8 will be ignored. Current value: feature_fraction=0.6371079228490262\n",
      "[LightGBM] [Warning] bagging_fraction is set=0.7110967398508566, subsample=0.8 will be ignored. Current value: bagging_fraction=0.7110967398508566\n",
      "[LightGBM] [Warning] bagging_freq is set=11, subsample_freq=0 will be ignored. Current value: bagging_freq=11\n",
      "Training until validation scores don't improve for 100 rounds\n",
      "[100]\ttraining's l1: 0.828001\tvalid_1's l1: 1.07973\n",
      "[200]\ttraining's l1: 0.820648\tvalid_1's l1: 1.0765\n",
      "[300]\ttraining's l1: 0.818131\tvalid_1's l1: 1.07577\n",
      "Early stopping, best iteration is:\n",
      "[287]\ttraining's l1: 0.818293\tvalid_1's l1: 1.07549\n"
     ]
    },
    {
     "name": "stderr",
     "output_type": "stream",
     "text": [
      "\u001b[32m[I 2021-07-31 12:07:50,303]\u001b[0m Trial 48 finished with value: -1.0752911508086473 and parameters: {'max_depth': 11, 'min_child_weight': 9, 'subsample': 0.8, 'colsample_bytree': 0.8, 'reg_lambda': 0.09215342575360662, 'reg_alpha': 0.07670427827244389, 'feature_fraction': 0.6371079228490262, 'bagging_fraction': 0.7110967398508566, 'bagging_freq': 11, 'num_leaves': 591, 'min_child_samples': 22}. Best is trial 31 with value: -1.069933994045492.\u001b[0m\n"
     ]
    },
    {
     "name": "stdout",
     "output_type": "stream",
     "text": [
      "[LightGBM] [Warning] feature_fraction is set=0.9996428808008968, colsample_bytree=0.5 will be ignored. Current value: feature_fraction=0.9996428808008968\n",
      "[LightGBM] [Warning] bagging_fraction is set=0.648396218094485, subsample=0.8 will be ignored. Current value: bagging_fraction=0.648396218094485\n",
      "[LightGBM] [Warning] bagging_freq is set=13, subsample_freq=0 will be ignored. Current value: bagging_freq=13\n",
      "Training until validation scores don't improve for 100 rounds\n",
      "[100]\ttraining's l1: 0.821229\tvalid_1's l1: 1.07817\n",
      "[200]\ttraining's l1: 0.805579\tvalid_1's l1: 1.07541\n",
      "Early stopping, best iteration is:\n",
      "[192]\ttraining's l1: 0.807247\tvalid_1's l1: 1.07497\n"
     ]
    },
    {
     "name": "stderr",
     "output_type": "stream",
     "text": [
      "\u001b[32m[I 2021-07-31 12:08:11,679]\u001b[0m Trial 49 finished with value: -1.0746785860644796 and parameters: {'max_depth': 12, 'min_child_weight': 11, 'subsample': 0.8, 'colsample_bytree': 0.5, 'reg_lambda': 3.6783758300788083, 'reg_alpha': 0.043471244902717476, 'feature_fraction': 0.9996428808008968, 'bagging_fraction': 0.648396218094485, 'bagging_freq': 13, 'num_leaves': 755, 'min_child_samples': 13}. Best is trial 31 with value: -1.069933994045492.\u001b[0m\n"
     ]
    },
    {
     "name": "stdout",
     "output_type": "stream",
     "text": [
      "[LightGBM] [Warning] feature_fraction is set=0.8353208273059131, colsample_bytree=0.7 will be ignored. Current value: feature_fraction=0.8353208273059131\n",
      "[LightGBM] [Warning] bagging_fraction is set=0.7519917500758445, subsample=0.6 will be ignored. Current value: bagging_fraction=0.7519917500758445\n",
      "[LightGBM] [Warning] bagging_freq is set=14, subsample_freq=0 will be ignored. Current value: bagging_freq=14\n",
      "Training until validation scores don't improve for 100 rounds\n",
      "[100]\ttraining's l1: 0.833441\tvalid_1's l1: 1.07906\n",
      "[200]\ttraining's l1: 0.830076\tvalid_1's l1: 1.07659\n",
      "[300]\ttraining's l1: 0.828408\tvalid_1's l1: 1.07608\n",
      "[400]\ttraining's l1: 0.826753\tvalid_1's l1: 1.07549\n",
      "[500]\ttraining's l1: 0.823691\tvalid_1's l1: 1.07441\n",
      "[600]\ttraining's l1: 0.819118\tvalid_1's l1: 1.07322\n",
      "[700]\ttraining's l1: 0.807607\tvalid_1's l1: 1.0727\n",
      "[800]\ttraining's l1: 0.79966\tvalid_1's l1: 1.07331\n",
      "Early stopping, best iteration is:\n",
      "[742]\ttraining's l1: 0.803784\tvalid_1's l1: 1.07232\n"
     ]
    },
    {
     "name": "stderr",
     "output_type": "stream",
     "text": [
      "\u001b[32m[I 2021-07-31 12:08:59,338]\u001b[0m Trial 50 finished with value: -1.0718977019586664 and parameters: {'max_depth': 17, 'min_child_weight': 8, 'subsample': 0.6, 'colsample_bytree': 0.7, 'reg_lambda': 18.224918191918757, 'reg_alpha': 0.020986157102670565, 'feature_fraction': 0.8353208273059131, 'bagging_fraction': 0.7519917500758445, 'bagging_freq': 14, 'num_leaves': 483, 'min_child_samples': 8}. Best is trial 31 with value: -1.069933994045492.\u001b[0m\n"
     ]
    },
    {
     "name": "stdout",
     "output_type": "stream",
     "text": [
      "[LightGBM] [Warning] feature_fraction is set=0.8772044631506051, colsample_bytree=0.6 will be ignored. Current value: feature_fraction=0.8772044631506051\n",
      "[LightGBM] [Warning] bagging_fraction is set=0.8492413221694208, subsample=0.6 will be ignored. Current value: bagging_fraction=0.8492413221694208\n",
      "[LightGBM] [Warning] bagging_freq is set=17, subsample_freq=0 will be ignored. Current value: bagging_freq=17\n",
      "Training until validation scores don't improve for 100 rounds\n",
      "[100]\ttraining's l1: 0.848936\tvalid_1's l1: 1.08782\n",
      "[200]\ttraining's l1: 0.846124\tvalid_1's l1: 1.08488\n",
      "[300]\ttraining's l1: 0.843524\tvalid_1's l1: 1.08148\n",
      "[400]\ttraining's l1: 0.8416\tvalid_1's l1: 1.08002\n",
      "[500]\ttraining's l1: 0.837016\tvalid_1's l1: 1.07713\n",
      "[600]\ttraining's l1: 0.835201\tvalid_1's l1: 1.07578\n",
      "[700]\ttraining's l1: 0.834123\tvalid_1's l1: 1.07568\n",
      "[800]\ttraining's l1: 0.832355\tvalid_1's l1: 1.07494\n",
      "[900]\ttraining's l1: 0.829098\tvalid_1's l1: 1.07374\n",
      "[1000]\ttraining's l1: 0.82552\tvalid_1's l1: 1.07316\n",
      "[1100]\ttraining's l1: 0.82195\tvalid_1's l1: 1.07279\n",
      "[1200]\ttraining's l1: 0.813667\tvalid_1's l1: 1.07294\n",
      "Early stopping, best iteration is:\n",
      "[1164]\ttraining's l1: 0.817489\tvalid_1's l1: 1.07242\n"
     ]
    },
    {
     "name": "stderr",
     "output_type": "stream",
     "text": [
      "\u001b[32m[I 2021-07-31 12:10:00,177]\u001b[0m Trial 51 finished with value: -1.0721165500901857 and parameters: {'max_depth': 16, 'min_child_weight': 10, 'subsample': 0.6, 'colsample_bytree': 0.6, 'reg_lambda': 7.379916152573148, 'reg_alpha': 0.00931264345591728, 'feature_fraction': 0.8772044631506051, 'bagging_fraction': 0.8492413221694208, 'bagging_freq': 17, 'num_leaves': 273, 'min_child_samples': 32}. Best is trial 31 with value: -1.069933994045492.\u001b[0m\n"
     ]
    },
    {
     "name": "stdout",
     "output_type": "stream",
     "text": [
      "[LightGBM] [Warning] feature_fraction is set=0.909724317429951, colsample_bytree=0.6 will be ignored. Current value: feature_fraction=0.909724317429951\n",
      "[LightGBM] [Warning] bagging_fraction is set=0.5923490586407796, subsample=0.6 will be ignored. Current value: bagging_fraction=0.5923490586407796\n",
      "[LightGBM] [Warning] bagging_freq is set=20, subsample_freq=0 will be ignored. Current value: bagging_freq=20\n",
      "Training until validation scores don't improve for 100 rounds\n",
      "[100]\ttraining's l1: 0.862218\tvalid_1's l1: 1.09974\n",
      "[200]\ttraining's l1: 0.860899\tvalid_1's l1: 1.0971\n",
      "[300]\ttraining's l1: 0.856814\tvalid_1's l1: 1.09258\n",
      "[400]\ttraining's l1: 0.852657\tvalid_1's l1: 1.08636\n",
      "[500]\ttraining's l1: 0.851831\tvalid_1's l1: 1.08531\n",
      "Early stopping, best iteration is:\n",
      "[465]\ttraining's l1: 0.85198\tvalid_1's l1: 1.08515\n"
     ]
    },
    {
     "name": "stderr",
     "output_type": "stream",
     "text": [
      "\u001b[32m[I 2021-07-31 12:10:19,254]\u001b[0m Trial 52 finished with value: -1.08506469263632 and parameters: {'max_depth': 15, 'min_child_weight': 2, 'subsample': 0.6, 'colsample_bytree': 0.6, 'reg_lambda': 12.097132557181705, 'reg_alpha': 0.01744923455157938, 'feature_fraction': 0.909724317429951, 'bagging_fraction': 0.5923490586407796, 'bagging_freq': 20, 'num_leaves': 131, 'min_child_samples': 33}. Best is trial 31 with value: -1.069933994045492.\u001b[0m\n"
     ]
    },
    {
     "name": "stdout",
     "output_type": "stream",
     "text": [
      "[LightGBM] [Warning] feature_fraction is set=0.7804368671858178, colsample_bytree=0.6 will be ignored. Current value: feature_fraction=0.7804368671858178\n",
      "[LightGBM] [Warning] bagging_fraction is set=0.5647260912951153, subsample=0.5 will be ignored. Current value: bagging_fraction=0.5647260912951153\n",
      "[LightGBM] [Warning] bagging_freq is set=7, subsample_freq=0 will be ignored. Current value: bagging_freq=7\n",
      "Training until validation scores don't improve for 100 rounds\n",
      "[100]\ttraining's l1: 0.843896\tvalid_1's l1: 1.08388\n",
      "[200]\ttraining's l1: 0.839888\tvalid_1's l1: 1.07941\n",
      "[300]\ttraining's l1: 0.833717\tvalid_1's l1: 1.07656\n",
      "[400]\ttraining's l1: 0.8315\tvalid_1's l1: 1.07603\n",
      "[500]\ttraining's l1: 0.829878\tvalid_1's l1: 1.07527\n",
      "[600]\ttraining's l1: 0.827906\tvalid_1's l1: 1.07463\n",
      "[700]\ttraining's l1: 0.824668\tvalid_1's l1: 1.0749\n",
      "Early stopping, best iteration is:\n",
      "[644]\ttraining's l1: 0.826598\tvalid_1's l1: 1.07443\n"
     ]
    },
    {
     "name": "stderr",
     "output_type": "stream",
     "text": [
      "\u001b[32m[I 2021-07-31 12:10:50,980]\u001b[0m Trial 53 finished with value: -1.0740490230151802 and parameters: {'max_depth': 14, 'min_child_weight': 9, 'subsample': 0.5, 'colsample_bytree': 0.6, 'reg_lambda': 52.000724708633065, 'reg_alpha': 0.0027433161986959143, 'feature_fraction': 0.7804368671858178, 'bagging_fraction': 0.5647260912951153, 'bagging_freq': 7, 'num_leaves': 319, 'min_child_samples': 41}. Best is trial 31 with value: -1.069933994045492.\u001b[0m\n"
     ]
    },
    {
     "name": "stdout",
     "output_type": "stream",
     "text": [
      "[LightGBM] [Warning] feature_fraction is set=0.7364493991852457, colsample_bytree=0.6 will be ignored. Current value: feature_fraction=0.7364493991852457\n",
      "[LightGBM] [Warning] bagging_fraction is set=0.43030367001028724, subsample=0.6 will be ignored. Current value: bagging_fraction=0.43030367001028724\n",
      "[LightGBM] [Warning] bagging_freq is set=12, subsample_freq=0 will be ignored. Current value: bagging_freq=12\n",
      "Training until validation scores don't improve for 100 rounds\n",
      "[100]\ttraining's l1: 0.838714\tvalid_1's l1: 1.08131\n",
      "[200]\ttraining's l1: 0.8344\tvalid_1's l1: 1.07846\n",
      "[300]\ttraining's l1: 0.829517\tvalid_1's l1: 1.07609\n",
      "[400]\ttraining's l1: 0.822402\tvalid_1's l1: 1.07592\n",
      "[500]\ttraining's l1: 0.814333\tvalid_1's l1: 1.07507\n",
      "[600]\ttraining's l1: 0.805824\tvalid_1's l1: 1.07674\n",
      "Early stopping, best iteration is:\n",
      "[520]\ttraining's l1: 0.812553\tvalid_1's l1: 1.07486\n"
     ]
    },
    {
     "name": "stderr",
     "output_type": "stream",
     "text": [
      "\u001b[32m[I 2021-07-31 12:11:18,869]\u001b[0m Trial 54 finished with value: -1.0740857855835004 and parameters: {'max_depth': 16, 'min_child_weight': 12, 'subsample': 0.6, 'colsample_bytree': 0.6, 'reg_lambda': 0.3598207722635509, 'reg_alpha': 0.005046532824218661, 'feature_fraction': 0.7364493991852457, 'bagging_fraction': 0.43030367001028724, 'bagging_freq': 12, 'num_leaves': 437, 'min_child_samples': 45}. Best is trial 31 with value: -1.069933994045492.\u001b[0m\n"
     ]
    },
    {
     "name": "stdout",
     "output_type": "stream",
     "text": [
      "[LightGBM] [Warning] feature_fraction is set=0.8609053467020001, colsample_bytree=0.6 will be ignored. Current value: feature_fraction=0.8609053467020001\n",
      "[LightGBM] [Warning] bagging_fraction is set=0.5255509280896268, subsample=0.7 will be ignored. Current value: bagging_fraction=0.5255509280896268\n",
      "[LightGBM] [Warning] bagging_freq is set=15, subsample_freq=0 will be ignored. Current value: bagging_freq=15\n",
      "Training until validation scores don't improve for 100 rounds\n",
      "[100]\ttraining's l1: 0.857984\tvalid_1's l1: 1.09821\n",
      "[200]\ttraining's l1: 0.850097\tvalid_1's l1: 1.08862\n",
      "[300]\ttraining's l1: 0.849642\tvalid_1's l1: 1.0882\n",
      "Early stopping, best iteration is:\n",
      "[270]\ttraining's l1: 0.849718\tvalid_1's l1: 1.08813\n"
     ]
    },
    {
     "name": "stderr",
     "output_type": "stream",
     "text": [
      "\u001b[32m[I 2021-07-31 12:11:28,680]\u001b[0m Trial 55 finished with value: -1.0880056547872399 and parameters: {'max_depth': 7, 'min_child_weight': 14, 'subsample': 0.7, 'colsample_bytree': 0.6, 'reg_lambda': 1.6093415727259037, 'reg_alpha': 0.0010470814776145452, 'feature_fraction': 0.8609053467020001, 'bagging_fraction': 0.5255509280896268, 'bagging_freq': 15, 'num_leaves': 87, 'min_child_samples': 24}. Best is trial 31 with value: -1.069933994045492.\u001b[0m\n"
     ]
    },
    {
     "name": "stdout",
     "output_type": "stream",
     "text": [
      "[LightGBM] [Warning] feature_fraction is set=0.8372997219863099, colsample_bytree=0.7 will be ignored. Current value: feature_fraction=0.8372997219863099\n",
      "[LightGBM] [Warning] bagging_fraction is set=0.7799256452986405, subsample=0.8 will be ignored. Current value: bagging_fraction=0.7799256452986405\n",
      "[LightGBM] [Warning] bagging_freq is set=9, subsample_freq=0 will be ignored. Current value: bagging_freq=9\n",
      "Training until validation scores don't improve for 100 rounds\n",
      "[100]\ttraining's l1: 0.842253\tvalid_1's l1: 1.08252\n",
      "[200]\ttraining's l1: 0.841617\tvalid_1's l1: 1.08218\n",
      "[300]\ttraining's l1: 0.839354\tvalid_1's l1: 1.07976\n",
      "[400]\ttraining's l1: 0.836715\tvalid_1's l1: 1.07867\n",
      "[500]\ttraining's l1: 0.834275\tvalid_1's l1: 1.07783\n",
      "[600]\ttraining's l1: 0.83178\tvalid_1's l1: 1.07643\n",
      "[700]\ttraining's l1: 0.828106\tvalid_1's l1: 1.07572\n",
      "[800]\ttraining's l1: 0.816446\tvalid_1's l1: 1.0728\n",
      "Early stopping, best iteration is:\n",
      "[798]\ttraining's l1: 0.816722\tvalid_1's l1: 1.07269\n"
     ]
    },
    {
     "name": "stderr",
     "output_type": "stream",
     "text": [
      "\u001b[32m[I 2021-07-31 12:12:13,931]\u001b[0m Trial 56 finished with value: -1.0723728314325054 and parameters: {'max_depth': 19, 'min_child_weight': 16, 'subsample': 0.8, 'colsample_bytree': 0.7, 'reg_lambda': 6.288295221442957, 'reg_alpha': 0.11570241823982728, 'feature_fraction': 0.8372997219863099, 'bagging_fraction': 0.7799256452986405, 'bagging_freq': 9, 'num_leaves': 366, 'min_child_samples': 27}. Best is trial 31 with value: -1.069933994045492.\u001b[0m\n"
     ]
    },
    {
     "name": "stdout",
     "output_type": "stream",
     "text": [
      "[LightGBM] [Warning] feature_fraction is set=0.9359144152257651, colsample_bytree=0.5 will be ignored. Current value: feature_fraction=0.9359144152257651\n",
      "[LightGBM] [Warning] bagging_fraction is set=0.916775506228302, subsample=0.8 will be ignored. Current value: bagging_fraction=0.916775506228302\n",
      "[LightGBM] [Warning] bagging_freq is set=11, subsample_freq=0 will be ignored. Current value: bagging_freq=11\n",
      "Training until validation scores don't improve for 100 rounds\n",
      "[100]\ttraining's l1: 0.854262\tvalid_1's l1: 1.09378\n",
      "[200]\ttraining's l1: 0.848747\tvalid_1's l1: 1.08684\n",
      "[300]\ttraining's l1: 0.848438\tvalid_1's l1: 1.08654\n",
      "[400]\ttraining's l1: 0.846751\tvalid_1's l1: 1.08378\n",
      "[500]\ttraining's l1: 0.84474\tvalid_1's l1: 1.08245\n",
      "[600]\ttraining's l1: 0.842114\tvalid_1's l1: 1.08065\n",
      "[700]\ttraining's l1: 0.839186\tvalid_1's l1: 1.07801\n",
      "[800]\ttraining's l1: 0.837786\tvalid_1's l1: 1.07733\n",
      "[900]\ttraining's l1: 0.834287\tvalid_1's l1: 1.07595\n",
      "[1000]\ttraining's l1: 0.832382\tvalid_1's l1: 1.07553\n",
      "[1100]\ttraining's l1: 0.828604\tvalid_1's l1: 1.07403\n",
      "[1200]\ttraining's l1: 0.826773\tvalid_1's l1: 1.07354\n",
      "[1300]\ttraining's l1: 0.824775\tvalid_1's l1: 1.07366\n",
      "Early stopping, best iteration is:\n",
      "[1212]\ttraining's l1: 0.82658\tvalid_1's l1: 1.07352\n"
     ]
    },
    {
     "name": "stderr",
     "output_type": "stream",
     "text": [
      "\u001b[32m[I 2021-07-31 12:13:20,511]\u001b[0m Trial 57 finished with value: -1.0731949035099193 and parameters: {'max_depth': 17, 'min_child_weight': 7, 'subsample': 0.8, 'colsample_bytree': 0.5, 'reg_lambda': 301.50456488033615, 'reg_alpha': 0.007784536571914467, 'feature_fraction': 0.9359144152257651, 'bagging_fraction': 0.916775506228302, 'bagging_freq': 11, 'num_leaves': 189, 'min_child_samples': 37}. Best is trial 31 with value: -1.069933994045492.\u001b[0m\n"
     ]
    },
    {
     "name": "stdout",
     "output_type": "stream",
     "text": [
      "[LightGBM] [Warning] feature_fraction is set=0.9585826674383535, colsample_bytree=0.6 will be ignored. Current value: feature_fraction=0.9585826674383535\n",
      "[LightGBM] [Warning] bagging_fraction is set=0.7207636694658808, subsample=0.6 will be ignored. Current value: bagging_fraction=0.7207636694658808\n",
      "[LightGBM] [Warning] bagging_freq is set=10, subsample_freq=0 will be ignored. Current value: bagging_freq=10\n",
      "Training until validation scores don't improve for 100 rounds\n",
      "[100]\ttraining's l1: 0.872709\tvalid_1's l1: 1.1118\n",
      "[200]\ttraining's l1: 0.8727\tvalid_1's l1: 1.1118\n",
      "[300]\ttraining's l1: 0.869928\tvalid_1's l1: 1.10862\n",
      "[400]\ttraining's l1: 0.864994\tvalid_1's l1: 1.10239\n",
      "[500]\ttraining's l1: 0.861478\tvalid_1's l1: 1.09482\n",
      "[600]\ttraining's l1: 0.861316\tvalid_1's l1: 1.09474\n",
      "Early stopping, best iteration is:\n",
      "[507]\ttraining's l1: 0.861384\tvalid_1's l1: 1.09472\n"
     ]
    },
    {
     "name": "stderr",
     "output_type": "stream",
     "text": [
      "\u001b[32m[I 2021-07-31 12:13:40,097]\u001b[0m Trial 58 finished with value: -1.0946436027203135 and parameters: {'max_depth': 20, 'min_child_weight': 5, 'subsample': 0.6, 'colsample_bytree': 0.6, 'reg_lambda': 26.808889499236223, 'reg_alpha': 0.05452970662129719, 'feature_fraction': 0.9585826674383535, 'bagging_fraction': 0.7207636694658808, 'bagging_freq': 10, 'num_leaves': 67, 'min_child_samples': 19}. Best is trial 31 with value: -1.069933994045492.\u001b[0m\n"
     ]
    },
    {
     "name": "stdout",
     "output_type": "stream",
     "text": [
      "[LightGBM] [Warning] feature_fraction is set=0.8915500205910504, colsample_bytree=0.5 will be ignored. Current value: feature_fraction=0.8915500205910504\n",
      "[LightGBM] [Warning] bagging_fraction is set=0.6624853831311093, subsample=0.7 will be ignored. Current value: bagging_fraction=0.6624853831311093\n",
      "[LightGBM] [Warning] bagging_freq is set=17, subsample_freq=0 will be ignored. Current value: bagging_freq=17\n",
      "Training until validation scores don't improve for 100 rounds\n",
      "[100]\ttraining's l1: 0.848737\tvalid_1's l1: 1.08566\n",
      "[200]\ttraining's l1: 0.847766\tvalid_1's l1: 1.08408\n",
      "[300]\ttraining's l1: 0.844857\tvalid_1's l1: 1.08173\n",
      "[400]\ttraining's l1: 0.839114\tvalid_1's l1: 1.0758\n",
      "[500]\ttraining's l1: 0.834993\tvalid_1's l1: 1.07388\n",
      "[600]\ttraining's l1: 0.831984\tvalid_1's l1: 1.07241\n",
      "Early stopping, best iteration is:\n",
      "[585]\ttraining's l1: 0.832163\tvalid_1's l1: 1.07235\n"
     ]
    },
    {
     "name": "stderr",
     "output_type": "stream",
     "text": [
      "\u001b[32m[I 2021-07-31 12:14:10,364]\u001b[0m Trial 59 finished with value: -1.0721053616343674 and parameters: {'max_depth': 13, 'min_child_weight': 11, 'subsample': 0.7, 'colsample_bytree': 0.5, 'reg_lambda': 2.729536182205865, 'reg_alpha': 0.01869353983694339, 'feature_fraction': 0.8915500205910504, 'bagging_fraction': 0.6624853831311093, 'bagging_freq': 17, 'num_leaves': 252, 'min_child_samples': 58}. Best is trial 31 with value: -1.069933994045492.\u001b[0m\n"
     ]
    },
    {
     "name": "stdout",
     "output_type": "stream",
     "text": [
      "[LightGBM] [Warning] feature_fraction is set=0.7621337892630886, colsample_bytree=0.6 will be ignored. Current value: feature_fraction=0.7621337892630886\n",
      "[LightGBM] [Warning] bagging_fraction is set=0.6127678213706497, subsample=0.8 will be ignored. Current value: bagging_fraction=0.6127678213706497\n",
      "[LightGBM] [Warning] bagging_freq is set=7, subsample_freq=0 will be ignored. Current value: bagging_freq=7\n",
      "Training until validation scores don't improve for 100 rounds\n",
      "[100]\ttraining's l1: 0.880111\tvalid_1's l1: 1.12224\n",
      "[200]\ttraining's l1: 0.878717\tvalid_1's l1: 1.12037\n",
      "[300]\ttraining's l1: 0.878679\tvalid_1's l1: 1.1203\n",
      "[400]\ttraining's l1: 0.876954\tvalid_1's l1: 1.11687\n",
      "[500]\ttraining's l1: 0.876471\tvalid_1's l1: 1.11643\n",
      "[600]\ttraining's l1: 0.875567\tvalid_1's l1: 1.11527\n",
      "[700]\ttraining's l1: 0.871032\tvalid_1's l1: 1.10997\n",
      "[800]\ttraining's l1: 0.870065\tvalid_1's l1: 1.10947\n",
      "[900]\ttraining's l1: 0.867738\tvalid_1's l1: 1.10542\n",
      "[1000]\ttraining's l1: 0.861895\tvalid_1's l1: 1.09785\n",
      "[1100]\ttraining's l1: 0.856654\tvalid_1's l1: 1.09233\n",
      "[1200]\ttraining's l1: 0.851234\tvalid_1's l1: 1.08722\n",
      "[1300]\ttraining's l1: 0.849368\tvalid_1's l1: 1.08594\n",
      "[1400]\ttraining's l1: 0.846639\tvalid_1's l1: 1.08273\n",
      "[1500]\ttraining's l1: 0.843413\tvalid_1's l1: 1.08015\n",
      "[1600]\ttraining's l1: 0.841077\tvalid_1's l1: 1.07878\n",
      "[1700]\ttraining's l1: 0.839759\tvalid_1's l1: 1.07806\n",
      "[1800]\ttraining's l1: 0.838306\tvalid_1's l1: 1.07733\n",
      "[1900]\ttraining's l1: 0.837712\tvalid_1's l1: 1.07703\n",
      "[2000]\ttraining's l1: 0.836766\tvalid_1's l1: 1.07713\n",
      "Early stopping, best iteration is:\n",
      "[1932]\ttraining's l1: 0.837238\tvalid_1's l1: 1.07695\n"
     ]
    },
    {
     "name": "stderr",
     "output_type": "stream",
     "text": [
      "\u001b[32m[I 2021-07-31 12:14:56,201]\u001b[0m Trial 60 finished with value: -1.0765639503626854 and parameters: {'max_depth': 15, 'min_child_weight': 4, 'subsample': 0.8, 'colsample_bytree': 0.6, 'reg_lambda': 0.8200862067592818, 'reg_alpha': 0.026665311594129253, 'feature_fraction': 0.7621337892630886, 'bagging_fraction': 0.6127678213706497, 'bagging_freq': 7, 'num_leaves': 43, 'min_child_samples': 14}. Best is trial 31 with value: -1.069933994045492.\u001b[0m\n"
     ]
    },
    {
     "name": "stdout",
     "output_type": "stream",
     "text": [
      "[LightGBM] [Warning] feature_fraction is set=0.9078941933275785, colsample_bytree=0.5 will be ignored. Current value: feature_fraction=0.9078941933275785\n",
      "[LightGBM] [Warning] bagging_fraction is set=0.5210519692740667, subsample=0.6 will be ignored. Current value: bagging_fraction=0.5210519692740667\n",
      "[LightGBM] [Warning] bagging_freq is set=12, subsample_freq=0 will be ignored. Current value: bagging_freq=12\n",
      "Training until validation scores don't improve for 100 rounds\n",
      "[100]\ttraining's l1: 0.828879\tvalid_1's l1: 1.07603\n",
      "[200]\ttraining's l1: 0.821424\tvalid_1's l1: 1.07362\n",
      "Early stopping, best iteration is:\n",
      "[194]\ttraining's l1: 0.821725\tvalid_1's l1: 1.07348\n"
     ]
    },
    {
     "name": "stderr",
     "output_type": "stream",
     "text": [
      "\u001b[32m[I 2021-07-31 12:15:14,847]\u001b[0m Trial 61 finished with value: -1.0732402571973818 and parameters: {'max_depth': 19, 'min_child_weight': 12, 'subsample': 0.6, 'colsample_bytree': 0.5, 'reg_lambda': 1.5330714772510807, 'reg_alpha': 0.004044137360751816, 'feature_fraction': 0.9078941933275785, 'bagging_fraction': 0.5210519692740667, 'bagging_freq': 12, 'num_leaves': 621, 'min_child_samples': 24}. Best is trial 31 with value: -1.069933994045492.\u001b[0m\n"
     ]
    },
    {
     "name": "stdout",
     "output_type": "stream",
     "text": [
      "[LightGBM] [Warning] feature_fraction is set=0.8698351697778367, colsample_bytree=0.5 will be ignored. Current value: feature_fraction=0.8698351697778367\n",
      "[LightGBM] [Warning] bagging_fraction is set=0.4525969259998957, subsample=0.6 will be ignored. Current value: bagging_fraction=0.4525969259998957\n",
      "[LightGBM] [Warning] bagging_freq is set=13, subsample_freq=0 will be ignored. Current value: bagging_freq=13\n",
      "Training until validation scores don't improve for 100 rounds\n",
      "[100]\ttraining's l1: 0.83203\tvalid_1's l1: 1.07606\n",
      "[200]\ttraining's l1: 0.825478\tvalid_1's l1: 1.07333\n",
      "[300]\ttraining's l1: 0.816106\tvalid_1's l1: 1.07166\n",
      "Early stopping, best iteration is:\n",
      "[269]\ttraining's l1: 0.817573\tvalid_1's l1: 1.07113\n"
     ]
    },
    {
     "name": "stderr",
     "output_type": "stream",
     "text": [
      "\u001b[32m[I 2021-07-31 12:15:35,636]\u001b[0m Trial 62 finished with value: -1.0707797705052557 and parameters: {'max_depth': 18, 'min_child_weight': 13, 'subsample': 0.6, 'colsample_bytree': 0.5, 'reg_lambda': 0.6367692062680982, 'reg_alpha': 0.00373238118366533, 'feature_fraction': 0.8698351697778367, 'bagging_fraction': 0.4525969259998957, 'bagging_freq': 13, 'num_leaves': 568, 'min_child_samples': 28}. Best is trial 31 with value: -1.069933994045492.\u001b[0m\n"
     ]
    },
    {
     "name": "stdout",
     "output_type": "stream",
     "text": [
      "[LightGBM] [Warning] feature_fraction is set=0.8603381924395006, colsample_bytree=0.5 will be ignored. Current value: feature_fraction=0.8603381924395006\n",
      "[LightGBM] [Warning] bagging_fraction is set=0.3744533131444855, subsample=0.5 will be ignored. Current value: bagging_fraction=0.3744533131444855\n",
      "[LightGBM] [Warning] bagging_freq is set=13, subsample_freq=0 will be ignored. Current value: bagging_freq=13\n",
      "Training until validation scores don't improve for 100 rounds\n",
      "[100]\ttraining's l1: 0.834002\tvalid_1's l1: 1.07748\n",
      "[200]\ttraining's l1: 0.829084\tvalid_1's l1: 1.07601\n",
      "[300]\ttraining's l1: 0.824335\tvalid_1's l1: 1.07595\n",
      "[400]\ttraining's l1: 0.816169\tvalid_1's l1: 1.07636\n",
      "Early stopping, best iteration is:\n",
      "[318]\ttraining's l1: 0.822434\tvalid_1's l1: 1.07534\n"
     ]
    },
    {
     "name": "stderr",
     "output_type": "stream",
     "text": [
      "\u001b[32m[I 2021-07-31 12:15:57,403]\u001b[0m Trial 63 finished with value: -1.074899281116758 and parameters: {'max_depth': 18, 'min_child_weight': 14, 'subsample': 0.5, 'colsample_bytree': 0.5, 'reg_lambda': 0.019262899879599386, 'reg_alpha': 0.00619133284960653, 'feature_fraction': 0.8603381924395006, 'bagging_fraction': 0.3744533131444855, 'bagging_freq': 13, 'num_leaves': 525, 'min_child_samples': 33}. Best is trial 31 with value: -1.069933994045492.\u001b[0m\n"
     ]
    },
    {
     "name": "stdout",
     "output_type": "stream",
     "text": [
      "[LightGBM] [Warning] feature_fraction is set=0.8134995777778711, colsample_bytree=0.6 will be ignored. Current value: feature_fraction=0.8134995777778711\n",
      "[LightGBM] [Warning] bagging_fraction is set=0.46466809994578273, subsample=0.6 will be ignored. Current value: bagging_fraction=0.46466809994578273\n",
      "[LightGBM] [Warning] bagging_freq is set=11, subsample_freq=0 will be ignored. Current value: bagging_freq=11\n",
      "Training until validation scores don't improve for 100 rounds\n",
      "[100]\ttraining's l1: 0.831355\tvalid_1's l1: 1.07944\n",
      "[200]\ttraining's l1: 0.823292\tvalid_1's l1: 1.07577\n",
      "[300]\ttraining's l1: 0.816895\tvalid_1's l1: 1.07533\n",
      "Early stopping, best iteration is:\n",
      "[278]\ttraining's l1: 0.818283\tvalid_1's l1: 1.07526\n"
     ]
    },
    {
     "name": "stderr",
     "output_type": "stream",
     "text": [
      "\u001b[32m[I 2021-07-31 12:16:18,474]\u001b[0m Trial 64 finished with value: -1.074850926818122 and parameters: {'max_depth': 16, 'min_child_weight': 13, 'subsample': 0.6, 'colsample_bytree': 0.6, 'reg_lambda': 4.258628351656767, 'reg_alpha': 0.0017312352811997785, 'feature_fraction': 0.8134995777778711, 'bagging_fraction': 0.46466809994578273, 'bagging_freq': 11, 'num_leaves': 573, 'min_child_samples': 28}. Best is trial 31 with value: -1.069933994045492.\u001b[0m\n"
     ]
    },
    {
     "name": "stdout",
     "output_type": "stream",
     "text": [
      "[LightGBM] [Warning] feature_fraction is set=0.9751052180784281, colsample_bytree=0.5 will be ignored. Current value: feature_fraction=0.9751052180784281\n",
      "[LightGBM] [Warning] bagging_fraction is set=0.40973991753904954, subsample=0.6 will be ignored. Current value: bagging_fraction=0.40973991753904954\n",
      "[LightGBM] [Warning] bagging_freq is set=15, subsample_freq=0 will be ignored. Current value: bagging_freq=15\n",
      "Training until validation scores don't improve for 100 rounds\n",
      "[100]\ttraining's l1: 0.828478\tvalid_1's l1: 1.07573\n",
      "[200]\ttraining's l1: 0.814786\tvalid_1's l1: 1.07458\n",
      "[300]\ttraining's l1: 0.803514\tvalid_1's l1: 1.0786\n",
      "Early stopping, best iteration is:\n",
      "[202]\ttraining's l1: 0.814496\tvalid_1's l1: 1.07431\n"
     ]
    },
    {
     "name": "stderr",
     "output_type": "stream",
     "text": [
      "\u001b[32m[I 2021-07-31 12:16:38,910]\u001b[0m Trial 65 finished with value: -1.0737972138791236 and parameters: {'max_depth': 14, 'min_child_weight': 10, 'subsample': 0.6, 'colsample_bytree': 0.5, 'reg_lambda': 0.0018943127590461462, 'reg_alpha': 0.013326987878167176, 'feature_fraction': 0.9751052180784281, 'bagging_fraction': 0.40973991753904954, 'bagging_freq': 15, 'num_leaves': 641, 'min_child_samples': 38}. Best is trial 31 with value: -1.069933994045492.\u001b[0m\n"
     ]
    },
    {
     "name": "stdout",
     "output_type": "stream",
     "text": [
      "[LightGBM] [Warning] feature_fraction is set=0.5905688859235106, colsample_bytree=0.6 will be ignored. Current value: feature_fraction=0.5905688859235106\n",
      "[LightGBM] [Warning] bagging_fraction is set=0.6808787998882495, subsample=0.8 will be ignored. Current value: bagging_fraction=0.6808787998882495\n",
      "[LightGBM] [Warning] bagging_freq is set=14, subsample_freq=0 will be ignored. Current value: bagging_freq=14\n",
      "Training until validation scores don't improve for 100 rounds\n",
      "[100]\ttraining's l1: 0.861766\tvalid_1's l1: 1.10023\n",
      "[200]\ttraining's l1: 0.859869\tvalid_1's l1: 1.09862\n",
      "[300]\ttraining's l1: 0.857554\tvalid_1's l1: 1.09557\n",
      "[400]\ttraining's l1: 0.853975\tvalid_1's l1: 1.09116\n",
      "[500]\ttraining's l1: 0.846974\tvalid_1's l1: 1.08394\n",
      "[600]\ttraining's l1: 0.842224\tvalid_1's l1: 1.08027\n",
      "[700]\ttraining's l1: 0.838177\tvalid_1's l1: 1.07766\n",
      "[800]\ttraining's l1: 0.835162\tvalid_1's l1: 1.076\n",
      "[900]\ttraining's l1: 0.830987\tvalid_1's l1: 1.07539\n",
      "[1000]\ttraining's l1: 0.828571\tvalid_1's l1: 1.07465\n",
      "[1100]\ttraining's l1: 0.82412\tvalid_1's l1: 1.07396\n",
      "[1200]\ttraining's l1: 0.821597\tvalid_1's l1: 1.07332\n",
      "[1300]\ttraining's l1: 0.819577\tvalid_1's l1: 1.07325\n",
      "Early stopping, best iteration is:\n",
      "[1227]\ttraining's l1: 0.820986\tvalid_1's l1: 1.07304\n"
     ]
    },
    {
     "name": "stderr",
     "output_type": "stream",
     "text": [
      "\u001b[32m[I 2021-07-31 12:17:34,000]\u001b[0m Trial 66 finished with value: -1.0725443027960961 and parameters: {'max_depth': 17, 'min_child_weight': 11, 'subsample': 0.8, 'colsample_bytree': 0.6, 'reg_lambda': 9.816835593763432, 'reg_alpha': 0.0023394457550618237, 'feature_fraction': 0.5905688859235106, 'bagging_fraction': 0.6808787998882495, 'bagging_freq': 14, 'num_leaves': 146, 'min_child_samples': 45}. Best is trial 31 with value: -1.069933994045492.\u001b[0m\n"
     ]
    },
    {
     "name": "stdout",
     "output_type": "stream",
     "text": [
      "[LightGBM] [Warning] feature_fraction is set=0.9218559470252067, colsample_bytree=0.6 will be ignored. Current value: feature_fraction=0.9218559470252067\n",
      "[LightGBM] [Warning] bagging_fraction is set=0.4809168382240706, subsample=0.8 will be ignored. Current value: bagging_fraction=0.4809168382240706\n",
      "[LightGBM] [Warning] bagging_freq is set=13, subsample_freq=0 will be ignored. Current value: bagging_freq=13\n",
      "Training until validation scores don't improve for 100 rounds\n",
      "[100]\ttraining's l1: 0.853743\tvalid_1's l1: 1.08919\n",
      "[200]\ttraining's l1: 0.850786\tvalid_1's l1: 1.08621\n",
      "[300]\ttraining's l1: 0.847949\tvalid_1's l1: 1.08371\n",
      "[400]\ttraining's l1: 0.8445\tvalid_1's l1: 1.08147\n",
      "[500]\ttraining's l1: 0.841876\tvalid_1's l1: 1.08039\n",
      "[600]\ttraining's l1: 0.838757\tvalid_1's l1: 1.07862\n",
      "[700]\ttraining's l1: 0.83642\tvalid_1's l1: 1.07778\n",
      "[800]\ttraining's l1: 0.832675\tvalid_1's l1: 1.07551\n",
      "[900]\ttraining's l1: 0.831443\tvalid_1's l1: 1.07527\n",
      "Early stopping, best iteration is:\n",
      "[838]\ttraining's l1: 0.832119\tvalid_1's l1: 1.07522\n"
     ]
    },
    {
     "name": "stderr",
     "output_type": "stream",
     "text": [
      "\u001b[32m[I 2021-07-31 12:18:07,342]\u001b[0m Trial 67 finished with value: -1.0749044971594874 and parameters: {'max_depth': 18, 'min_child_weight': 15, 'subsample': 0.8, 'colsample_bytree': 0.6, 'reg_lambda': 0.6270954476679719, 'reg_alpha': 0.03325178189784568, 'feature_fraction': 0.9218559470252067, 'bagging_fraction': 0.4809168382240706, 'bagging_freq': 13, 'num_leaves': 213, 'min_child_samples': 21}. Best is trial 31 with value: -1.069933994045492.\u001b[0m\n"
     ]
    },
    {
     "name": "stdout",
     "output_type": "stream",
     "text": [
      "[LightGBM] [Warning] feature_fraction is set=0.7907552350613007, colsample_bytree=0.5 will be ignored. Current value: feature_fraction=0.7907552350613007\n",
      "[LightGBM] [Warning] bagging_fraction is set=0.5707057941892202, subsample=0.6 will be ignored. Current value: bagging_fraction=0.5707057941892202\n",
      "[LightGBM] [Warning] bagging_freq is set=9, subsample_freq=0 will be ignored. Current value: bagging_freq=9\n",
      "Training until validation scores don't improve for 100 rounds\n",
      "[100]\ttraining's l1: 0.829538\tvalid_1's l1: 1.07663\n",
      "[200]\ttraining's l1: 0.823477\tvalid_1's l1: 1.07433\n",
      "[300]\ttraining's l1: 0.818294\tvalid_1's l1: 1.07331\n",
      "[400]\ttraining's l1: 0.811389\tvalid_1's l1: 1.07353\n",
      "Early stopping, best iteration is:\n",
      "[379]\ttraining's l1: 0.812079\tvalid_1's l1: 1.07307\n"
     ]
    },
    {
     "name": "stderr",
     "output_type": "stream",
     "text": [
      "\u001b[32m[I 2021-07-31 12:18:33,948]\u001b[0m Trial 68 finished with value: -1.0726525855325244 and parameters: {'max_depth': 14, 'min_child_weight': 9, 'subsample': 0.6, 'colsample_bytree': 0.5, 'reg_lambda': 17.442511154544274, 'reg_alpha': 0.009340531989101192, 'feature_fraction': 0.7907552350613007, 'bagging_fraction': 0.5707057941892202, 'bagging_freq': 9, 'num_leaves': 554, 'min_child_samples': 7}. Best is trial 31 with value: -1.069933994045492.\u001b[0m\n"
     ]
    },
    {
     "name": "stdout",
     "output_type": "stream",
     "text": [
      "[LightGBM] [Warning] feature_fraction is set=0.7443927501657981, colsample_bytree=0.6 will be ignored. Current value: feature_fraction=0.7443927501657981\n",
      "[LightGBM] [Warning] bagging_fraction is set=0.9698309478936799, subsample=0.7 will be ignored. Current value: bagging_fraction=0.9698309478936799\n",
      "[LightGBM] [Warning] bagging_freq is set=11, subsample_freq=0 will be ignored. Current value: bagging_freq=11\n",
      "Training until validation scores don't improve for 100 rounds\n",
      "[100]\ttraining's l1: 0.870444\tvalid_1's l1: 1.11379\n",
      "[200]\ttraining's l1: 0.866727\tvalid_1's l1: 1.10821\n",
      "[300]\ttraining's l1: 0.86577\tvalid_1's l1: 1.10676\n",
      "[400]\ttraining's l1: 0.864788\tvalid_1's l1: 1.10502\n",
      "[500]\ttraining's l1: 0.864118\tvalid_1's l1: 1.10408\n",
      "Early stopping, best iteration is:\n",
      "[442]\ttraining's l1: 0.864302\tvalid_1's l1: 1.10398\n"
     ]
    },
    {
     "name": "stderr",
     "output_type": "stream",
     "text": [
      "\u001b[32m[I 2021-07-31 12:18:55,636]\u001b[0m Trial 69 finished with value: -1.1038098356816497 and parameters: {'max_depth': 15, 'min_child_weight': 8, 'subsample': 0.7, 'colsample_bytree': 0.6, 'reg_lambda': 94.6131910212953, 'reg_alpha': 794.7493066441538, 'feature_fraction': 0.7443927501657981, 'bagging_fraction': 0.9698309478936799, 'bagging_freq': 11, 'num_leaves': 109, 'min_child_samples': 11}. Best is trial 31 with value: -1.069933994045492.\u001b[0m\n"
     ]
    },
    {
     "name": "stdout",
     "output_type": "stream",
     "text": [
      "[LightGBM] [Warning] feature_fraction is set=0.8379696212994037, colsample_bytree=0.7 will be ignored. Current value: feature_fraction=0.8379696212994037\n",
      "[LightGBM] [Warning] bagging_fraction is set=0.6022750626386018, subsample=0.9 will be ignored. Current value: bagging_fraction=0.6022750626386018\n",
      "[LightGBM] [Warning] bagging_freq is set=12, subsample_freq=0 will be ignored. Current value: bagging_freq=12\n",
      "Training until validation scores don't improve for 100 rounds\n",
      "[100]\ttraining's l1: 0.835904\tvalid_1's l1: 1.079\n",
      "[200]\ttraining's l1: 0.833568\tvalid_1's l1: 1.07711\n",
      "[300]\ttraining's l1: 0.831529\tvalid_1's l1: 1.07457\n",
      "[400]\ttraining's l1: 0.82808\tvalid_1's l1: 1.07362\n",
      "[500]\ttraining's l1: 0.815831\tvalid_1's l1: 1.07135\n",
      "[600]\ttraining's l1: 0.806632\tvalid_1's l1: 1.0714\n",
      "Early stopping, best iteration is:\n",
      "[551]\ttraining's l1: 0.812232\tvalid_1's l1: 1.07062\n"
     ]
    },
    {
     "name": "stderr",
     "output_type": "stream",
     "text": [
      "\u001b[32m[I 2021-07-31 12:19:33,173]\u001b[0m Trial 70 finished with value: -1.0701735980880824 and parameters: {'max_depth': 16, 'min_child_weight': 13, 'subsample': 0.9, 'colsample_bytree': 0.7, 'reg_lambda': 0.1319626490727084, 'reg_alpha': 0.004211529922716593, 'feature_fraction': 0.8379696212994037, 'bagging_fraction': 0.6022750626386018, 'bagging_freq': 12, 'num_leaves': 460, 'min_child_samples': 31}. Best is trial 31 with value: -1.069933994045492.\u001b[0m\n"
     ]
    },
    {
     "name": "stdout",
     "output_type": "stream",
     "text": [
      "[LightGBM] [Warning] feature_fraction is set=0.8296803481930748, colsample_bytree=0.8 will be ignored. Current value: feature_fraction=0.8296803481930748\n",
      "[LightGBM] [Warning] bagging_fraction is set=0.6272615330026158, subsample=0.9 will be ignored. Current value: bagging_fraction=0.6272615330026158\n",
      "[LightGBM] [Warning] bagging_freq is set=12, subsample_freq=0 will be ignored. Current value: bagging_freq=12\n",
      "Training until validation scores don't improve for 100 rounds\n",
      "[100]\ttraining's l1: 0.839543\tvalid_1's l1: 1.08043\n",
      "[200]\ttraining's l1: 0.837836\tvalid_1's l1: 1.07871\n",
      "[300]\ttraining's l1: 0.834617\tvalid_1's l1: 1.07666\n",
      "[400]\ttraining's l1: 0.830865\tvalid_1's l1: 1.0751\n",
      "[500]\ttraining's l1: 0.828315\tvalid_1's l1: 1.07479\n",
      "[600]\ttraining's l1: 0.826236\tvalid_1's l1: 1.07368\n",
      "[700]\ttraining's l1: 0.815885\tvalid_1's l1: 1.07369\n",
      "Early stopping, best iteration is:\n",
      "[684]\ttraining's l1: 0.818659\tvalid_1's l1: 1.07297\n"
     ]
    },
    {
     "name": "stderr",
     "output_type": "stream",
     "text": [
      "\u001b[32m[I 2021-07-31 12:20:10,112]\u001b[0m Trial 71 finished with value: -1.0725990953242126 and parameters: {'max_depth': 16, 'min_child_weight': 13, 'subsample': 0.9, 'colsample_bytree': 0.8, 'reg_lambda': 0.048570942658357937, 'reg_alpha': 0.00428213442192597, 'feature_fraction': 0.8296803481930748, 'bagging_fraction': 0.6272615330026158, 'bagging_freq': 12, 'num_leaves': 388, 'min_child_samples': 29}. Best is trial 31 with value: -1.069933994045492.\u001b[0m\n"
     ]
    },
    {
     "name": "stdout",
     "output_type": "stream",
     "text": [
      "[LightGBM] [Warning] feature_fraction is set=0.852710841506319, colsample_bytree=0.7 will be ignored. Current value: feature_fraction=0.852710841506319\n",
      "[LightGBM] [Warning] bagging_fraction is set=0.5903447966669175, subsample=0.9 will be ignored. Current value: bagging_fraction=0.5903447966669175\n",
      "[LightGBM] [Warning] bagging_freq is set=10, subsample_freq=0 will be ignored. Current value: bagging_freq=10\n",
      "Training until validation scores don't improve for 100 rounds\n",
      "[100]\ttraining's l1: 0.848937\tvalid_1's l1: 1.08634\n",
      "[200]\ttraining's l1: 0.846732\tvalid_1's l1: 1.08385\n",
      "[300]\ttraining's l1: 0.844104\tvalid_1's l1: 1.0805\n",
      "[400]\ttraining's l1: 0.841061\tvalid_1's l1: 1.07892\n",
      "[500]\ttraining's l1: 0.836626\tvalid_1's l1: 1.07651\n",
      "[600]\ttraining's l1: 0.831319\tvalid_1's l1: 1.07516\n",
      "[700]\ttraining's l1: 0.826457\tvalid_1's l1: 1.07391\n",
      "[800]\ttraining's l1: 0.822301\tvalid_1's l1: 1.0729\n",
      "[900]\ttraining's l1: 0.817897\tvalid_1's l1: 1.07263\n",
      "Early stopping, best iteration is:\n",
      "[896]\ttraining's l1: 0.818157\tvalid_1's l1: 1.07248\n"
     ]
    },
    {
     "name": "stderr",
     "output_type": "stream",
     "text": [
      "\u001b[32m[I 2021-07-31 12:20:51,372]\u001b[0m Trial 72 finished with value: -1.0720245894483866 and parameters: {'max_depth': 18, 'min_child_weight': 14, 'subsample': 0.9, 'colsample_bytree': 0.7, 'reg_lambda': 0.1189600185612742, 'reg_alpha': 0.01494157178192373, 'feature_fraction': 0.852710841506319, 'bagging_fraction': 0.5903447966669175, 'bagging_freq': 10, 'num_leaves': 293, 'min_child_samples': 35}. Best is trial 31 with value: -1.069933994045492.\u001b[0m\n"
     ]
    },
    {
     "name": "stdout",
     "output_type": "stream",
     "text": [
      "[LightGBM] [Warning] feature_fraction is set=0.8762429645746578, colsample_bytree=0.8 will be ignored. Current value: feature_fraction=0.8762429645746578\n",
      "[LightGBM] [Warning] bagging_fraction is set=0.6451309466643591, subsample=0.8 will be ignored. Current value: bagging_fraction=0.6451309466643591\n",
      "[LightGBM] [Warning] bagging_freq is set=12, subsample_freq=0 will be ignored. Current value: bagging_freq=12\n",
      "Training until validation scores don't improve for 100 rounds\n",
      "[100]\ttraining's l1: 0.835137\tvalid_1's l1: 1.07632\n",
      "[200]\ttraining's l1: 0.833545\tvalid_1's l1: 1.07525\n",
      "[300]\ttraining's l1: 0.831528\tvalid_1's l1: 1.0742\n",
      "[400]\ttraining's l1: 0.823562\tvalid_1's l1: 1.07238\n",
      "[500]\ttraining's l1: 0.815381\tvalid_1's l1: 1.07046\n",
      "[600]\ttraining's l1: 0.807609\tvalid_1's l1: 1.07186\n",
      "Early stopping, best iteration is:\n",
      "[513]\ttraining's l1: 0.814348\tvalid_1's l1: 1.07035\n"
     ]
    },
    {
     "name": "stderr",
     "output_type": "stream",
     "text": [
      "\u001b[32m[I 2021-07-31 12:21:23,896]\u001b[0m Trial 73 finished with value: -1.0700371327715934 and parameters: {'max_depth': 17, 'min_child_weight': 12, 'subsample': 0.8, 'colsample_bytree': 0.8, 'reg_lambda': 0.25527109596854053, 'reg_alpha': 0.00554391035272296, 'feature_fraction': 0.8762429645746578, 'bagging_fraction': 0.6451309466643591, 'bagging_freq': 12, 'num_leaves': 464, 'min_child_samples': 32}. Best is trial 31 with value: -1.069933994045492.\u001b[0m\n"
     ]
    },
    {
     "name": "stdout",
     "output_type": "stream",
     "text": [
      "[LightGBM] [Warning] feature_fraction is set=0.8872422897654347, colsample_bytree=0.8 will be ignored. Current value: feature_fraction=0.8872422897654347\n",
      "[LightGBM] [Warning] bagging_fraction is set=0.6571305714222236, subsample=0.8 will be ignored. Current value: bagging_fraction=0.6571305714222236\n",
      "[LightGBM] [Warning] bagging_freq is set=13, subsample_freq=0 will be ignored. Current value: bagging_freq=13\n",
      "Training until validation scores don't improve for 100 rounds\n",
      "[100]\ttraining's l1: 0.838183\tvalid_1's l1: 1.08073\n",
      "[200]\ttraining's l1: 0.834367\tvalid_1's l1: 1.07689\n",
      "[300]\ttraining's l1: 0.832635\tvalid_1's l1: 1.07659\n",
      "[400]\ttraining's l1: 0.830441\tvalid_1's l1: 1.0762\n",
      "[500]\ttraining's l1: 0.826433\tvalid_1's l1: 1.07543\n",
      "[600]\ttraining's l1: 0.818582\tvalid_1's l1: 1.07353\n",
      "[700]\ttraining's l1: 0.810946\tvalid_1's l1: 1.07359\n",
      "Early stopping, best iteration is:\n",
      "[626]\ttraining's l1: 0.815418\tvalid_1's l1: 1.07298\n"
     ]
    },
    {
     "name": "stderr",
     "output_type": "stream",
     "text": [
      "\u001b[32m[I 2021-07-31 12:22:02,448]\u001b[0m Trial 74 finished with value: -1.0725005031020778 and parameters: {'max_depth': 17, 'min_child_weight': 13, 'subsample': 0.8, 'colsample_bytree': 0.8, 'reg_lambda': 0.3054277521462238, 'reg_alpha': 0.0061334013709586, 'feature_fraction': 0.8872422897654347, 'bagging_fraction': 0.6571305714222236, 'bagging_freq': 13, 'num_leaves': 443, 'min_child_samples': 86}. Best is trial 31 with value: -1.069933994045492.\u001b[0m\n"
     ]
    },
    {
     "name": "stdout",
     "output_type": "stream",
     "text": [
      "[LightGBM] [Warning] feature_fraction is set=0.8133872038054998, colsample_bytree=0.9 will be ignored. Current value: feature_fraction=0.8133872038054998\n",
      "[LightGBM] [Warning] bagging_fraction is set=0.6955778143967873, subsample=0.9 will be ignored. Current value: bagging_fraction=0.6955778143967873\n",
      "[LightGBM] [Warning] bagging_freq is set=12, subsample_freq=0 will be ignored. Current value: bagging_freq=12\n",
      "Training until validation scores don't improve for 100 rounds\n",
      "[100]\ttraining's l1: 0.835849\tvalid_1's l1: 1.08097\n",
      "[200]\ttraining's l1: 0.832017\tvalid_1's l1: 1.07893\n",
      "[300]\ttraining's l1: 0.830089\tvalid_1's l1: 1.0776\n",
      "[400]\ttraining's l1: 0.828501\tvalid_1's l1: 1.0771\n",
      "[500]\ttraining's l1: 0.823302\tvalid_1's l1: 1.07416\n",
      "[600]\ttraining's l1: 0.808871\tvalid_1's l1: 1.0732\n",
      "Early stopping, best iteration is:\n",
      "[580]\ttraining's l1: 0.810771\tvalid_1's l1: 1.07289\n"
     ]
    },
    {
     "name": "stderr",
     "output_type": "stream",
     "text": [
      "\u001b[32m[I 2021-07-31 12:22:38,757]\u001b[0m Trial 75 finished with value: -1.0724691902336254 and parameters: {'max_depth': 15, 'min_child_weight': 15, 'subsample': 0.9, 'colsample_bytree': 0.9, 'reg_lambda': 0.19401248383542402, 'reg_alpha': 0.0016319766043322549, 'feature_fraction': 0.8133872038054998, 'bagging_fraction': 0.6955778143967873, 'bagging_freq': 12, 'num_leaves': 484, 'min_child_samples': 30}. Best is trial 31 with value: -1.069933994045492.\u001b[0m\n"
     ]
    },
    {
     "name": "stdout",
     "output_type": "stream",
     "text": [
      "[LightGBM] [Warning] feature_fraction is set=0.7183983738011849, colsample_bytree=0.8 will be ignored. Current value: feature_fraction=0.7183983738011849\n",
      "[LightGBM] [Warning] bagging_fraction is set=0.637610694812351, subsample=0.8 will be ignored. Current value: bagging_fraction=0.637610694812351\n",
      "[LightGBM] [Warning] bagging_freq is set=11, subsample_freq=0 will be ignored. Current value: bagging_freq=11\n",
      "Training until validation scores don't improve for 100 rounds\n",
      "[100]\ttraining's l1: 0.840402\tvalid_1's l1: 1.08153\n",
      "[200]\ttraining's l1: 0.83744\tvalid_1's l1: 1.07888\n",
      "[300]\ttraining's l1: 0.835326\tvalid_1's l1: 1.07756\n",
      "[400]\ttraining's l1: 0.829941\tvalid_1's l1: 1.07609\n",
      "[500]\ttraining's l1: 0.824549\tvalid_1's l1: 1.07485\n",
      "[600]\ttraining's l1: 0.819235\tvalid_1's l1: 1.07462\n",
      "[700]\ttraining's l1: 0.809775\tvalid_1's l1: 1.07354\n",
      "Early stopping, best iteration is:\n",
      "[693]\ttraining's l1: 0.810439\tvalid_1's l1: 1.07335\n"
     ]
    },
    {
     "name": "stderr",
     "output_type": "stream",
     "text": [
      "\u001b[32m[I 2021-07-31 12:23:16,937]\u001b[0m Trial 76 finished with value: -1.0728697040169248 and parameters: {'max_depth': 20, 'min_child_weight': 12, 'subsample': 0.8, 'colsample_bytree': 0.8, 'reg_lambda': 0.5156996752778014, 'reg_alpha': 0.003183081982974319, 'feature_fraction': 0.7183983738011849, 'bagging_fraction': 0.637610694812351, 'bagging_freq': 11, 'num_leaves': 413, 'min_child_samples': 39}. Best is trial 31 with value: -1.069933994045492.\u001b[0m\n"
     ]
    },
    {
     "name": "stdout",
     "output_type": "stream",
     "text": [
      "[LightGBM] [Warning] feature_fraction is set=0.9492490489055412, colsample_bytree=0.9 will be ignored. Current value: feature_fraction=0.9492490489055412\n",
      "[LightGBM] [Warning] bagging_fraction is set=0.6107161209591845, subsample=0.8 will be ignored. Current value: bagging_fraction=0.6107161209591845\n",
      "[LightGBM] [Warning] bagging_freq is set=12, subsample_freq=0 will be ignored. Current value: bagging_freq=12\n",
      "Training until validation scores don't improve for 100 rounds\n",
      "[100]\ttraining's l1: 0.837551\tvalid_1's l1: 1.07847\n",
      "[200]\ttraining's l1: 0.834486\tvalid_1's l1: 1.07668\n",
      "[300]\ttraining's l1: 0.831587\tvalid_1's l1: 1.07561\n",
      "[400]\ttraining's l1: 0.820805\tvalid_1's l1: 1.07392\n",
      "[500]\ttraining's l1: 0.807799\tvalid_1's l1: 1.07198\n",
      "Early stopping, best iteration is:\n",
      "[448]\ttraining's l1: 0.812463\tvalid_1's l1: 1.07169\n"
     ]
    },
    {
     "name": "stderr",
     "output_type": "stream",
     "text": [
      "\u001b[32m[I 2021-07-31 12:23:46,792]\u001b[0m Trial 77 finished with value: -1.0711329311493452 and parameters: {'max_depth': 17, 'min_child_weight': 11, 'subsample': 0.8, 'colsample_bytree': 0.9, 'reg_lambda': 0.017822872920394504, 'reg_alpha': 0.0011317589235164938, 'feature_fraction': 0.9492490489055412, 'bagging_fraction': 0.6107161209591845, 'bagging_freq': 12, 'num_leaves': 456, 'min_child_samples': 17}. Best is trial 31 with value: -1.069933994045492.\u001b[0m\n"
     ]
    },
    {
     "name": "stdout",
     "output_type": "stream",
     "text": [
      "[LightGBM] [Warning] feature_fraction is set=0.9395274811736722, colsample_bytree=0.9 will be ignored. Current value: feature_fraction=0.9395274811736722\n",
      "[LightGBM] [Warning] bagging_fraction is set=0.21052277899007832, subsample=0.8 will be ignored. Current value: bagging_fraction=0.21052277899007832\n",
      "[LightGBM] [Warning] bagging_freq is set=10, subsample_freq=0 will be ignored. Current value: bagging_freq=10\n",
      "Training until validation scores don't improve for 100 rounds\n",
      "[100]\ttraining's l1: 0.824502\tvalid_1's l1: 1.08624\n"
     ]
    },
    {
     "name": "stderr",
     "output_type": "stream",
     "text": [
      "\u001b[32m[I 2021-07-31 12:23:58,787]\u001b[0m Trial 78 finished with value: -1.0846761854936615 and parameters: {'max_depth': 19, 'min_child_weight': 6, 'subsample': 0.8, 'colsample_bytree': 0.9, 'reg_lambda': 0.00604954529323872, 'reg_alpha': 0.0014411150576324543, 'feature_fraction': 0.9395274811736722, 'bagging_fraction': 0.21052277899007832, 'bagging_freq': 10, 'num_leaves': 966, 'min_child_samples': 23}. Best is trial 31 with value: -1.069933994045492.\u001b[0m\n"
     ]
    },
    {
     "name": "stdout",
     "output_type": "stream",
     "text": [
      "Early stopping, best iteration is:\n",
      "[52]\ttraining's l1: 0.834524\tvalid_1's l1: 1.08496\n",
      "[LightGBM] [Warning] feature_fraction is set=0.9545003502455218, colsample_bytree=0.8 will be ignored. Current value: feature_fraction=0.9545003502455218\n",
      "[LightGBM] [Warning] bagging_fraction is set=0.5567751413307694, subsample=0.9 will be ignored. Current value: bagging_fraction=0.5567751413307694\n",
      "[LightGBM] [Warning] bagging_freq is set=14, subsample_freq=0 will be ignored. Current value: bagging_freq=14\n",
      "Training until validation scores don't improve for 100 rounds\n",
      "[100]\ttraining's l1: 0.834959\tvalid_1's l1: 1.07898\n",
      "[200]\ttraining's l1: 0.829243\tvalid_1's l1: 1.07793\n",
      "[300]\ttraining's l1: 0.825637\tvalid_1's l1: 1.07702\n",
      "[400]\ttraining's l1: 0.822506\tvalid_1's l1: 1.0767\n",
      "[500]\ttraining's l1: 0.820048\tvalid_1's l1: 1.07632\n",
      "Early stopping, best iteration is:\n",
      "[434]\ttraining's l1: 0.821357\tvalid_1's l1: 1.07588\n"
     ]
    },
    {
     "name": "stderr",
     "output_type": "stream",
     "text": [
      "\u001b[32m[I 2021-07-31 12:24:29,537]\u001b[0m Trial 79 finished with value: -1.0754586638188635 and parameters: {'max_depth': 17, 'min_child_weight': 11, 'subsample': 0.9, 'colsample_bytree': 0.8, 'reg_lambda': 0.02097151087465238, 'reg_alpha': 17.414289505600593, 'feature_fraction': 0.9545003502455218, 'bagging_fraction': 0.5567751413307694, 'bagging_freq': 14, 'num_leaves': 465, 'min_child_samples': 16}. Best is trial 31 with value: -1.069933994045492.\u001b[0m\n"
     ]
    },
    {
     "name": "stdout",
     "output_type": "stream",
     "text": [
      "[LightGBM] [Warning] feature_fraction is set=0.9128807800711817, colsample_bytree=0.9 will be ignored. Current value: feature_fraction=0.9128807800711817\n",
      "[LightGBM] [Warning] bagging_fraction is set=0.6111510347495902, subsample=0.8 will be ignored. Current value: bagging_fraction=0.6111510347495902\n",
      "[LightGBM] [Warning] bagging_freq is set=13, subsample_freq=0 will be ignored. Current value: bagging_freq=13\n",
      "Training until validation scores don't improve for 100 rounds\n",
      "[100]\ttraining's l1: 0.834088\tvalid_1's l1: 1.07574\n",
      "[200]\ttraining's l1: 0.831251\tvalid_1's l1: 1.07421\n",
      "[300]\ttraining's l1: 0.827635\tvalid_1's l1: 1.07289\n",
      "[400]\ttraining's l1: 0.823439\tvalid_1's l1: 1.07241\n",
      "[500]\ttraining's l1: 0.81632\tvalid_1's l1: 1.07146\n",
      "Early stopping, best iteration is:\n",
      "[443]\ttraining's l1: 0.819044\tvalid_1's l1: 1.07129\n"
     ]
    },
    {
     "name": "stderr",
     "output_type": "stream",
     "text": [
      "\u001b[32m[I 2021-07-31 12:25:02,812]\u001b[0m Trial 80 finished with value: -1.0710263449228294 and parameters: {'max_depth': 18, 'min_child_weight': 12, 'subsample': 0.8, 'colsample_bytree': 0.9, 'reg_lambda': 0.009940488473923969, 'reg_alpha': 0.0011219724956635067, 'feature_fraction': 0.9128807800711817, 'bagging_fraction': 0.6111510347495902, 'bagging_freq': 13, 'num_leaves': 511, 'min_child_samples': 26}. Best is trial 31 with value: -1.069933994045492.\u001b[0m\n"
     ]
    },
    {
     "name": "stdout",
     "output_type": "stream",
     "text": [
      "[LightGBM] [Warning] feature_fraction is set=0.9878742141809536, colsample_bytree=0.9 will be ignored. Current value: feature_fraction=0.9878742141809536\n",
      "[LightGBM] [Warning] bagging_fraction is set=0.5185710715289125, subsample=0.8 will be ignored. Current value: bagging_fraction=0.5185710715289125\n",
      "[LightGBM] [Warning] bagging_freq is set=13, subsample_freq=0 will be ignored. Current value: bagging_freq=13\n",
      "Training until validation scores don't improve for 100 rounds\n",
      "[100]\ttraining's l1: 0.832216\tvalid_1's l1: 1.07419\n",
      "[200]\ttraining's l1: 0.827229\tvalid_1's l1: 1.07245\n",
      "[300]\ttraining's l1: 0.821694\tvalid_1's l1: 1.07224\n",
      "Early stopping, best iteration is:\n",
      "[236]\ttraining's l1: 0.825419\tvalid_1's l1: 1.07195\n"
     ]
    },
    {
     "name": "stderr",
     "output_type": "stream",
     "text": [
      "\u001b[32m[I 2021-07-31 12:25:23,874]\u001b[0m Trial 81 finished with value: -1.0717606586257555 and parameters: {'max_depth': 18, 'min_child_weight': 12, 'subsample': 0.8, 'colsample_bytree': 0.9, 'reg_lambda': 0.011931453105009824, 'reg_alpha': 0.002497875909832696, 'feature_fraction': 0.9878742141809536, 'bagging_fraction': 0.5185710715289125, 'bagging_freq': 13, 'num_leaves': 514, 'min_child_samples': 26}. Best is trial 31 with value: -1.069933994045492.\u001b[0m\n"
     ]
    },
    {
     "name": "stdout",
     "output_type": "stream",
     "text": [
      "[LightGBM] [Warning] feature_fraction is set=0.9034461322775362, colsample_bytree=0.9 will be ignored. Current value: feature_fraction=0.9034461322775362\n",
      "[LightGBM] [Warning] bagging_fraction is set=0.6133610252404568, subsample=0.8 will be ignored. Current value: bagging_fraction=0.6133610252404568\n",
      "[LightGBM] [Warning] bagging_freq is set=14, subsample_freq=0 will be ignored. Current value: bagging_freq=14\n",
      "Training until validation scores don't improve for 100 rounds\n",
      "[100]\ttraining's l1: 0.832609\tvalid_1's l1: 1.07428\n",
      "[200]\ttraining's l1: 0.828558\tvalid_1's l1: 1.07243\n",
      "[300]\ttraining's l1: 0.824169\tvalid_1's l1: 1.07067\n",
      "[400]\ttraining's l1: 0.815372\tvalid_1's l1: 1.07142\n",
      "Early stopping, best iteration is:\n",
      "[304]\ttraining's l1: 0.823612\tvalid_1's l1: 1.0705\n"
     ]
    },
    {
     "name": "stderr",
     "output_type": "stream",
     "text": [
      "\u001b[32m[I 2021-07-31 12:25:47,759]\u001b[0m Trial 82 finished with value: -1.0702895366294902 and parameters: {'max_depth': 18, 'min_child_weight': 13, 'subsample': 0.8, 'colsample_bytree': 0.9, 'reg_lambda': 0.003001797515701664, 'reg_alpha': 0.001153849275684837, 'feature_fraction': 0.9034461322775362, 'bagging_fraction': 0.6133610252404568, 'bagging_freq': 14, 'num_leaves': 540, 'min_child_samples': 31}. Best is trial 31 with value: -1.069933994045492.\u001b[0m\n"
     ]
    },
    {
     "name": "stdout",
     "output_type": "stream",
     "text": [
      "[LightGBM] [Warning] feature_fraction is set=0.918127546131716, colsample_bytree=0.9 will be ignored. Current value: feature_fraction=0.918127546131716\n",
      "[LightGBM] [Warning] bagging_fraction is set=0.6042988945548392, subsample=0.8 will be ignored. Current value: bagging_fraction=0.6042988945548392\n",
      "[LightGBM] [Warning] bagging_freq is set=14, subsample_freq=0 will be ignored. Current value: bagging_freq=14\n",
      "Training until validation scores don't improve for 100 rounds\n",
      "[100]\ttraining's l1: 0.832237\tvalid_1's l1: 1.07527\n",
      "[200]\ttraining's l1: 0.828923\tvalid_1's l1: 1.07353\n",
      "[300]\ttraining's l1: 0.826278\tvalid_1's l1: 1.07152\n",
      "[400]\ttraining's l1: 0.820622\tvalid_1's l1: 1.07098\n",
      "Early stopping, best iteration is:\n",
      "[372]\ttraining's l1: 0.822736\tvalid_1's l1: 1.07053\n"
     ]
    },
    {
     "name": "stderr",
     "output_type": "stream",
     "text": [
      "\u001b[32m[I 2021-07-31 12:26:15,160]\u001b[0m Trial 83 finished with value: -1.0702882412710872 and parameters: {'max_depth': 19, 'min_child_weight': 13, 'subsample': 0.8, 'colsample_bytree': 0.9, 'reg_lambda': 0.0030928949573815795, 'reg_alpha': 0.0010992076390759547, 'feature_fraction': 0.918127546131716, 'bagging_fraction': 0.6042988945548392, 'bagging_freq': 14, 'num_leaves': 541, 'min_child_samples': 31}. Best is trial 31 with value: -1.069933994045492.\u001b[0m\n"
     ]
    },
    {
     "name": "stdout",
     "output_type": "stream",
     "text": [
      "[LightGBM] [Warning] feature_fraction is set=0.9180867437957075, colsample_bytree=0.9 will be ignored. Current value: feature_fraction=0.9180867437957075\n",
      "[LightGBM] [Warning] bagging_fraction is set=0.6724669877341412, subsample=0.8 will be ignored. Current value: bagging_fraction=0.6724669877341412\n",
      "[LightGBM] [Warning] bagging_freq is set=14, subsample_freq=0 will be ignored. Current value: bagging_freq=14\n",
      "Training until validation scores don't improve for 100 rounds\n",
      "[100]\ttraining's l1: 0.829665\tvalid_1's l1: 1.07587\n",
      "[200]\ttraining's l1: 0.825744\tvalid_1's l1: 1.07459\n",
      "[300]\ttraining's l1: 0.821652\tvalid_1's l1: 1.07325\n",
      "[400]\ttraining's l1: 0.81581\tvalid_1's l1: 1.07209\n",
      "[500]\ttraining's l1: 0.808311\tvalid_1's l1: 1.0712\n",
      "[600]\ttraining's l1: 0.80348\tvalid_1's l1: 1.07086\n",
      "[700]\ttraining's l1: 0.791164\tvalid_1's l1: 1.07357\n",
      "Early stopping, best iteration is:\n",
      "[609]\ttraining's l1: 0.802945\tvalid_1's l1: 1.07078\n"
     ]
    },
    {
     "name": "stderr",
     "output_type": "stream",
     "text": [
      "\u001b[32m[I 2021-07-31 12:27:05,256]\u001b[0m Trial 84 finished with value: -1.070329810222668 and parameters: {'max_depth': 20, 'min_child_weight': 15, 'subsample': 0.8, 'colsample_bytree': 0.9, 'reg_lambda': 0.003121954248007077, 'reg_alpha': 0.00210219489084447, 'feature_fraction': 0.9180867437957075, 'bagging_fraction': 0.6724669877341412, 'bagging_freq': 14, 'num_leaves': 614, 'min_child_samples': 31}. Best is trial 31 with value: -1.069933994045492.\u001b[0m\n"
     ]
    },
    {
     "name": "stdout",
     "output_type": "stream",
     "text": [
      "[LightGBM] [Warning] feature_fraction is set=0.8722895027473896, colsample_bytree=0.9 will be ignored. Current value: feature_fraction=0.8722895027473896\n",
      "[LightGBM] [Warning] bagging_fraction is set=0.6721670680319966, subsample=0.8 will be ignored. Current value: bagging_fraction=0.6721670680319966\n",
      "[LightGBM] [Warning] bagging_freq is set=16, subsample_freq=0 will be ignored. Current value: bagging_freq=16\n",
      "Training until validation scores don't improve for 100 rounds\n",
      "[100]\ttraining's l1: 0.826571\tvalid_1's l1: 1.07485\n",
      "[200]\ttraining's l1: 0.820695\tvalid_1's l1: 1.07331\n",
      "[300]\ttraining's l1: 0.813471\tvalid_1's l1: 1.07348\n",
      "Early stopping, best iteration is:\n",
      "[284]\ttraining's l1: 0.814918\tvalid_1's l1: 1.07276\n"
     ]
    },
    {
     "name": "stderr",
     "output_type": "stream",
     "text": [
      "\u001b[32m[I 2021-07-31 12:27:31,702]\u001b[0m Trial 85 finished with value: -1.0725144354949847 and parameters: {'max_depth': 20, 'min_child_weight': 16, 'subsample': 0.8, 'colsample_bytree': 0.9, 'reg_lambda': 0.0032479938188679953, 'reg_alpha': 0.0021832172805566694, 'feature_fraction': 0.8722895027473896, 'bagging_fraction': 0.6721670680319966, 'bagging_freq': 16, 'num_leaves': 675, 'min_child_samples': 31}. Best is trial 31 with value: -1.069933994045492.\u001b[0m\n"
     ]
    },
    {
     "name": "stdout",
     "output_type": "stream",
     "text": [
      "[LightGBM] [Warning] feature_fraction is set=0.8475522578103944, colsample_bytree=0.9 will be ignored. Current value: feature_fraction=0.8475522578103944\n",
      "[LightGBM] [Warning] bagging_fraction is set=0.7024984171901258, subsample=0.8 will be ignored. Current value: bagging_fraction=0.7024984171901258\n",
      "[LightGBM] [Warning] bagging_freq is set=15, subsample_freq=0 will be ignored. Current value: bagging_freq=15\n",
      "Training until validation scores don't improve for 100 rounds\n",
      "[100]\ttraining's l1: 0.856897\tvalid_1's l1: 1.09805\n",
      "[200]\ttraining's l1: 0.852328\tvalid_1's l1: 1.09186\n",
      "[300]\ttraining's l1: 0.850078\tvalid_1's l1: 1.08988\n",
      "[400]\ttraining's l1: 0.849054\tvalid_1's l1: 1.08863\n",
      "[500]\ttraining's l1: 0.848224\tvalid_1's l1: 1.08862\n",
      "Early stopping, best iteration is:\n",
      "[402]\ttraining's l1: 0.849003\tvalid_1's l1: 1.08858\n"
     ]
    },
    {
     "name": "stderr",
     "output_type": "stream",
     "text": [
      "\u001b[32m[I 2021-07-31 12:27:57,581]\u001b[0m Trial 86 finished with value: -1.0883861518646143 and parameters: {'max_depth': 19, 'min_child_weight': 16, 'subsample': 0.8, 'colsample_bytree': 0.9, 'reg_lambda': 0.0015501919547538812, 'reg_alpha': 280.6828041564659, 'feature_fraction': 0.8475522578103944, 'bagging_fraction': 0.7024984171901258, 'bagging_freq': 15, 'num_leaves': 615, 'min_child_samples': 53}. Best is trial 31 with value: -1.069933994045492.\u001b[0m\n"
     ]
    },
    {
     "name": "stdout",
     "output_type": "stream",
     "text": [
      "[LightGBM] [Warning] feature_fraction is set=0.9708201327984505, colsample_bytree=0.9 will be ignored. Current value: feature_fraction=0.9708201327984505\n",
      "[LightGBM] [Warning] bagging_fraction is set=0.7411530653412771, subsample=0.8 will be ignored. Current value: bagging_fraction=0.7411530653412771\n",
      "[LightGBM] [Warning] bagging_freq is set=14, subsample_freq=0 will be ignored. Current value: bagging_freq=14\n",
      "Training until validation scores don't improve for 100 rounds\n",
      "[100]\ttraining's l1: 0.886055\tvalid_1's l1: 1.13052\n",
      "[200]\ttraining's l1: 0.875556\tvalid_1's l1: 1.11704\n",
      "[300]\ttraining's l1: 0.871121\tvalid_1's l1: 1.11102\n",
      "[400]\ttraining's l1: 0.869254\tvalid_1's l1: 1.10827\n",
      "[500]\ttraining's l1: 0.868212\tvalid_1's l1: 1.10709\n",
      "[600]\ttraining's l1: 0.865185\tvalid_1's l1: 1.10191\n",
      "[700]\ttraining's l1: 0.86213\tvalid_1's l1: 1.09706\n",
      "[800]\ttraining's l1: 0.860869\tvalid_1's l1: 1.09542\n",
      "[900]\ttraining's l1: 0.859841\tvalid_1's l1: 1.09476\n",
      "[1000]\ttraining's l1: 0.857515\tvalid_1's l1: 1.09099\n",
      "[1100]\ttraining's l1: 0.856355\tvalid_1's l1: 1.08999\n",
      "[1200]\ttraining's l1: 0.855323\tvalid_1's l1: 1.0889\n",
      "[1300]\ttraining's l1: 0.855007\tvalid_1's l1: 1.08849\n",
      "[1400]\ttraining's l1: 0.854311\tvalid_1's l1: 1.08824\n",
      "[1500]\ttraining's l1: 0.853004\tvalid_1's l1: 1.08735\n",
      "[1600]\ttraining's l1: 0.852016\tvalid_1's l1: 1.08606\n",
      "[1700]\ttraining's l1: 0.851272\tvalid_1's l1: 1.08508\n",
      "[1800]\ttraining's l1: 0.850979\tvalid_1's l1: 1.08506\n",
      "Early stopping, best iteration is:\n",
      "[1713]\ttraining's l1: 0.851226\tvalid_1's l1: 1.08504\n"
     ]
    },
    {
     "name": "stderr",
     "output_type": "stream",
     "text": [
      "\u001b[32m[I 2021-07-31 12:28:38,989]\u001b[0m Trial 87 finished with value: -1.08468737812275 and parameters: {'max_depth': 4, 'min_child_weight': 13, 'subsample': 0.8, 'colsample_bytree': 0.9, 'reg_lambda': 0.003622753305785767, 'reg_alpha': 0.003589870309723657, 'feature_fraction': 0.9708201327984505, 'bagging_fraction': 0.7411530653412771, 'bagging_freq': 14, 'num_leaves': 539, 'min_child_samples': 35}. Best is trial 31 with value: -1.069933994045492.\u001b[0m\n"
     ]
    },
    {
     "name": "stdout",
     "output_type": "stream",
     "text": [
      "[LightGBM] [Warning] feature_fraction is set=0.44250347941016743, colsample_bytree=0.8 will be ignored. Current value: feature_fraction=0.44250347941016743\n",
      "[LightGBM] [Warning] bagging_fraction is set=0.5838665370020627, subsample=0.8 will be ignored. Current value: bagging_fraction=0.5838665370020627\n",
      "[LightGBM] [Warning] bagging_freq is set=14, subsample_freq=0 will be ignored. Current value: bagging_freq=14\n",
      "Training until validation scores don't improve for 100 rounds\n",
      "[100]\ttraining's l1: 0.830482\tvalid_1's l1: 1.07742\n",
      "[200]\ttraining's l1: 0.820854\tvalid_1's l1: 1.07428\n",
      "[300]\ttraining's l1: 0.815907\tvalid_1's l1: 1.07301\n",
      "[400]\ttraining's l1: 0.80778\tvalid_1's l1: 1.07322\n",
      "Early stopping, best iteration is:\n",
      "[369]\ttraining's l1: 0.811326\tvalid_1's l1: 1.07258\n"
     ]
    },
    {
     "name": "stderr",
     "output_type": "stream",
     "text": [
      "\u001b[32m[I 2021-07-31 12:29:07,124]\u001b[0m Trial 88 finished with value: -1.0719763939423914 and parameters: {'max_depth': 20, 'min_child_weight': 14, 'subsample': 0.8, 'colsample_bytree': 0.8, 'reg_lambda': 0.001160735999433179, 'reg_alpha': 0.0052311550088602315, 'feature_fraction': 0.44250347941016743, 'bagging_fraction': 0.5838665370020627, 'bagging_freq': 14, 'num_leaves': 614, 'min_child_samples': 40}. Best is trial 31 with value: -1.069933994045492.\u001b[0m\n"
     ]
    },
    {
     "name": "stdout",
     "output_type": "stream",
     "text": [
      "[LightGBM] [Warning] feature_fraction is set=0.9250567243052428, colsample_bytree=0.9 will be ignored. Current value: feature_fraction=0.9250567243052428\n",
      "[LightGBM] [Warning] bagging_fraction is set=0.4407124611359952, subsample=0.8 will be ignored. Current value: bagging_fraction=0.4407124611359952\n",
      "[LightGBM] [Warning] bagging_freq is set=16, subsample_freq=0 will be ignored. Current value: bagging_freq=16\n",
      "Training until validation scores don't improve for 100 rounds\n",
      "[100]\ttraining's l1: 0.824849\tvalid_1's l1: 1.07864\n",
      "[200]\ttraining's l1: 0.813898\tvalid_1's l1: 1.07617\n",
      "Early stopping, best iteration is:\n",
      "[193]\ttraining's l1: 0.814494\tvalid_1's l1: 1.07595\n"
     ]
    },
    {
     "name": "stderr",
     "output_type": "stream",
     "text": [
      "\u001b[32m[I 2021-07-31 12:29:30,184]\u001b[0m Trial 89 finished with value: -1.0755019241079922 and parameters: {'max_depth': 19, 'min_child_weight': 15, 'subsample': 0.8, 'colsample_bytree': 0.9, 'reg_lambda': 0.0068761540732516935, 'reg_alpha': 0.7255203688923446, 'feature_fraction': 0.9250567243052428, 'bagging_fraction': 0.4407124611359952, 'bagging_freq': 16, 'num_leaves': 753, 'min_child_samples': 44}. Best is trial 31 with value: -1.069933994045492.\u001b[0m\n"
     ]
    },
    {
     "name": "stdout",
     "output_type": "stream",
     "text": [
      "[LightGBM] [Warning] feature_fraction is set=0.8284573224614582, colsample_bytree=0.9 will be ignored. Current value: feature_fraction=0.8284573224614582\n",
      "[LightGBM] [Warning] bagging_fraction is set=0.548953972371838, subsample=0.7 will be ignored. Current value: bagging_fraction=0.548953972371838\n",
      "[LightGBM] [Warning] bagging_freq is set=15, subsample_freq=0 will be ignored. Current value: bagging_freq=15\n",
      "Training until validation scores don't improve for 100 rounds\n",
      "[100]\ttraining's l1: 0.831163\tvalid_1's l1: 1.07703\n",
      "[200]\ttraining's l1: 0.824854\tvalid_1's l1: 1.07422\n",
      "[300]\ttraining's l1: 0.816137\tvalid_1's l1: 1.07359\n",
      "Early stopping, best iteration is:\n",
      "[276]\ttraining's l1: 0.818662\tvalid_1's l1: 1.07306\n"
     ]
    },
    {
     "name": "stderr",
     "output_type": "stream",
     "text": [
      "\u001b[32m[I 2021-07-31 12:29:51,172]\u001b[0m Trial 90 finished with value: -1.0727591169155526 and parameters: {'max_depth': 15, 'min_child_weight': 17, 'subsample': 0.7, 'colsample_bytree': 0.9, 'reg_lambda': 0.004383104750134304, 'reg_alpha': 0.0021966437724053444, 'feature_fraction': 0.8284573224614582, 'bagging_fraction': 0.548953972371838, 'bagging_freq': 15, 'num_leaves': 552, 'min_child_samples': 32}. Best is trial 31 with value: -1.069933994045492.\u001b[0m\n"
     ]
    },
    {
     "name": "stdout",
     "output_type": "stream",
     "text": [
      "[LightGBM] [Warning] feature_fraction is set=0.9133631907171763, colsample_bytree=0.9 will be ignored. Current value: feature_fraction=0.9133631907171763\n",
      "[LightGBM] [Warning] bagging_fraction is set=0.6131011453699279, subsample=0.8 will be ignored. Current value: bagging_fraction=0.6131011453699279\n",
      "[LightGBM] [Warning] bagging_freq is set=13, subsample_freq=0 will be ignored. Current value: bagging_freq=13\n",
      "Training until validation scores don't improve for 100 rounds\n",
      "[100]\ttraining's l1: 0.834072\tvalid_1's l1: 1.07843\n",
      "[200]\ttraining's l1: 0.831836\tvalid_1's l1: 1.07735\n",
      "[300]\ttraining's l1: 0.829712\tvalid_1's l1: 1.07625\n",
      "[400]\ttraining's l1: 0.820276\tvalid_1's l1: 1.07467\n",
      "[500]\ttraining's l1: 0.81127\tvalid_1's l1: 1.07345\n",
      "Early stopping, best iteration is:\n",
      "[470]\ttraining's l1: 0.813947\tvalid_1's l1: 1.07331\n"
     ]
    },
    {
     "name": "stderr",
     "output_type": "stream",
     "text": [
      "\u001b[32m[I 2021-07-31 12:30:25,373]\u001b[0m Trial 91 finished with value: -1.0728892262236929 and parameters: {'max_depth': 17, 'min_child_weight': 13, 'subsample': 0.8, 'colsample_bytree': 0.9, 'reg_lambda': 0.012439149733474321, 'reg_alpha': 0.0012886778657715584, 'feature_fraction': 0.9133631907171763, 'bagging_fraction': 0.6131011453699279, 'bagging_freq': 13, 'num_leaves': 494, 'min_child_samples': 29}. Best is trial 31 with value: -1.069933994045492.\u001b[0m\n"
     ]
    },
    {
     "name": "stdout",
     "output_type": "stream",
     "text": [
      "[LightGBM] [Warning] feature_fraction is set=0.899605923504189, colsample_bytree=0.9 will be ignored. Current value: feature_fraction=0.899605923504189\n",
      "[LightGBM] [Warning] bagging_fraction is set=0.6057041122228577, subsample=0.8 will be ignored. Current value: bagging_fraction=0.6057041122228577\n",
      "[LightGBM] [Warning] bagging_freq is set=14, subsample_freq=0 will be ignored. Current value: bagging_freq=14\n",
      "Training until validation scores don't improve for 100 rounds\n",
      "[100]\ttraining's l1: 0.830427\tvalid_1's l1: 1.07376\n",
      "[200]\ttraining's l1: 0.827409\tvalid_1's l1: 1.07308\n",
      "[300]\ttraining's l1: 0.822203\tvalid_1's l1: 1.07181\n",
      "[400]\ttraining's l1: 0.814441\tvalid_1's l1: 1.07225\n",
      "Early stopping, best iteration is:\n",
      "[333]\ttraining's l1: 0.819827\tvalid_1's l1: 1.07127\n"
     ]
    },
    {
     "name": "stderr",
     "output_type": "stream",
     "text": [
      "\u001b[32m[I 2021-07-31 12:30:51,822]\u001b[0m Trial 92 finished with value: -1.0709881879187764 and parameters: {'max_depth': 18, 'min_child_weight': 14, 'subsample': 0.8, 'colsample_bytree': 0.9, 'reg_lambda': 0.0025847495584607606, 'reg_alpha': 0.0010781494945872304, 'feature_fraction': 0.899605923504189, 'bagging_fraction': 0.6057041122228577, 'bagging_freq': 14, 'num_leaves': 586, 'min_child_samples': 36}. Best is trial 31 with value: -1.069933994045492.\u001b[0m\n"
     ]
    },
    {
     "name": "stdout",
     "output_type": "stream",
     "text": [
      "[LightGBM] [Warning] feature_fraction is set=0.8804666763756669, colsample_bytree=0.9 will be ignored. Current value: feature_fraction=0.8804666763756669\n",
      "[LightGBM] [Warning] bagging_fraction is set=0.6598668097699663, subsample=0.8 will be ignored. Current value: bagging_fraction=0.6598668097699663\n",
      "[LightGBM] [Warning] bagging_freq is set=14, subsample_freq=0 will be ignored. Current value: bagging_freq=14\n",
      "Training until validation scores don't improve for 100 rounds\n",
      "[100]\ttraining's l1: 0.831282\tvalid_1's l1: 1.07453\n",
      "[200]\ttraining's l1: 0.825446\tvalid_1's l1: 1.07374\n",
      "[300]\ttraining's l1: 0.820044\tvalid_1's l1: 1.07171\n",
      "[400]\ttraining's l1: 0.816635\tvalid_1's l1: 1.07148\n",
      "Early stopping, best iteration is:\n",
      "[334]\ttraining's l1: 0.818215\tvalid_1's l1: 1.071\n"
     ]
    },
    {
     "name": "stderr",
     "output_type": "stream",
     "text": [
      "\u001b[32m[I 2021-07-31 12:31:21,554]\u001b[0m Trial 93 finished with value: -1.0707243130571766 and parameters: {'max_depth': 16, 'min_child_weight': 14, 'subsample': 0.8, 'colsample_bytree': 0.9, 'reg_lambda': 0.0024688866529160454, 'reg_alpha': 0.002877328791916331, 'feature_fraction': 0.8804666763756669, 'bagging_fraction': 0.6598668097699663, 'bagging_freq': 14, 'num_leaves': 585, 'min_child_samples': 48}. Best is trial 31 with value: -1.069933994045492.\u001b[0m\n"
     ]
    },
    {
     "name": "stdout",
     "output_type": "stream",
     "text": [
      "[LightGBM] [Warning] feature_fraction is set=0.8810286439687114, colsample_bytree=0.8 will be ignored. Current value: feature_fraction=0.8810286439687114\n",
      "[LightGBM] [Warning] bagging_fraction is set=0.6269026131097816, subsample=0.8 will be ignored. Current value: bagging_fraction=0.6269026131097816\n",
      "[LightGBM] [Warning] bagging_freq is set=15, subsample_freq=0 will be ignored. Current value: bagging_freq=15\n",
      "Training until validation scores don't improve for 100 rounds\n",
      "[100]\ttraining's l1: 0.826589\tvalid_1's l1: 1.07458\n",
      "[200]\ttraining's l1: 0.818447\tvalid_1's l1: 1.07456\n",
      "[300]\ttraining's l1: 0.805433\tvalid_1's l1: 1.07428\n",
      "Early stopping, best iteration is:\n",
      "[267]\ttraining's l1: 0.809759\tvalid_1's l1: 1.07384\n"
     ]
    },
    {
     "name": "stderr",
     "output_type": "stream",
     "text": [
      "\u001b[32m[I 2021-07-31 12:31:50,745]\u001b[0m Trial 94 finished with value: -1.0734278343309762 and parameters: {'max_depth': 16, 'min_child_weight': 15, 'subsample': 0.8, 'colsample_bytree': 0.8, 'reg_lambda': 0.001878442804805074, 'reg_alpha': 0.003293049379006529, 'feature_fraction': 0.8810286439687114, 'bagging_fraction': 0.6269026131097816, 'bagging_freq': 15, 'num_leaves': 718, 'min_child_samples': 62}. Best is trial 31 with value: -1.069933994045492.\u001b[0m\n"
     ]
    },
    {
     "name": "stdout",
     "output_type": "stream",
     "text": [
      "[LightGBM] [Warning] feature_fraction is set=0.7750730314494902, colsample_bytree=0.9 will be ignored. Current value: feature_fraction=0.7750730314494902\n",
      "[LightGBM] [Warning] bagging_fraction is set=0.6717333030268549, subsample=0.8 will be ignored. Current value: bagging_fraction=0.6717333030268549\n",
      "[LightGBM] [Warning] bagging_freq is set=12, subsample_freq=0 will be ignored. Current value: bagging_freq=12\n",
      "Training until validation scores don't improve for 100 rounds\n",
      "[100]\ttraining's l1: 0.827296\tvalid_1's l1: 1.07618\n",
      "[200]\ttraining's l1: 0.821092\tvalid_1's l1: 1.07417\n",
      "[300]\ttraining's l1: 0.817242\tvalid_1's l1: 1.07319\n",
      "[400]\ttraining's l1: 0.809661\tvalid_1's l1: 1.07332\n",
      "Early stopping, best iteration is:\n",
      "[354]\ttraining's l1: 0.815849\tvalid_1's l1: 1.07292\n"
     ]
    },
    {
     "name": "stderr",
     "output_type": "stream",
     "text": [
      "\u001b[32m[I 2021-07-31 12:32:18,949]\u001b[0m Trial 95 finished with value: -1.0726633136202066 and parameters: {'max_depth': 16, 'min_child_weight': 13, 'subsample': 0.8, 'colsample_bytree': 0.9, 'reg_lambda': 0.03453484458390122, 'reg_alpha': 0.004746967412734777, 'feature_fraction': 0.7750730314494902, 'bagging_fraction': 0.6717333030268549, 'bagging_freq': 12, 'num_leaves': 653, 'min_child_samples': 50}. Best is trial 31 with value: -1.069933994045492.\u001b[0m\n"
     ]
    },
    {
     "name": "stdout",
     "output_type": "stream",
     "text": [
      "[LightGBM] [Warning] feature_fraction is set=0.21852508035246176, colsample_bytree=0.9 will be ignored. Current value: feature_fraction=0.21852508035246176\n",
      "[LightGBM] [Warning] bagging_fraction is set=0.6487491556561227, subsample=0.8 will be ignored. Current value: bagging_fraction=0.6487491556561227\n",
      "[LightGBM] [Warning] bagging_freq is set=11, subsample_freq=0 will be ignored. Current value: bagging_freq=11\n",
      "Training until validation scores don't improve for 100 rounds\n",
      "[100]\ttraining's l1: 0.828115\tvalid_1's l1: 1.08537\n",
      "[200]\ttraining's l1: 0.813943\tvalid_1's l1: 1.08242\n",
      "[300]\ttraining's l1: 0.806753\tvalid_1's l1: 1.08114\n",
      "Early stopping, best iteration is:\n",
      "[243]\ttraining's l1: 0.809131\tvalid_1's l1: 1.08085\n"
     ]
    },
    {
     "name": "stderr",
     "output_type": "stream",
     "text": [
      "\u001b[32m[I 2021-07-31 12:32:35,700]\u001b[0m Trial 96 finished with value: -1.080405261359403 and parameters: {'max_depth': 14, 'min_child_weight': 14, 'subsample': 0.8, 'colsample_bytree': 0.9, 'reg_lambda': 0.0012176290109559111, 'reg_alpha': 0.0018989926753606827, 'feature_fraction': 0.21852508035246176, 'bagging_fraction': 0.6487491556561227, 'bagging_freq': 11, 'num_leaves': 571, 'min_child_samples': 22}. Best is trial 31 with value: -1.069933994045492.\u001b[0m\n"
     ]
    },
    {
     "name": "stdout",
     "output_type": "stream",
     "text": [
      "[LightGBM] [Warning] feature_fraction is set=0.8699916915778467, colsample_bytree=0.8 will be ignored. Current value: feature_fraction=0.8699916915778467\n",
      "[LightGBM] [Warning] bagging_fraction is set=0.715701198174679, subsample=0.9 will be ignored. Current value: bagging_fraction=0.715701198174679\n",
      "[LightGBM] [Warning] bagging_freq is set=13, subsample_freq=0 will be ignored. Current value: bagging_freq=13\n",
      "Training until validation scores don't improve for 100 rounds\n",
      "[100]\ttraining's l1: 0.827703\tvalid_1's l1: 1.07624\n",
      "[200]\ttraining's l1: 0.820314\tvalid_1's l1: 1.07385\n",
      "[300]\ttraining's l1: 0.811732\tvalid_1's l1: 1.07287\n",
      "Early stopping, best iteration is:\n",
      "[298]\ttraining's l1: 0.811866\tvalid_1's l1: 1.07285\n"
     ]
    },
    {
     "name": "stderr",
     "output_type": "stream",
     "text": [
      "\u001b[32m[I 2021-07-31 12:33:04,256]\u001b[0m Trial 97 finished with value: -1.0725168112916346 and parameters: {'max_depth': 13, 'min_child_weight': 17, 'subsample': 0.9, 'colsample_bytree': 0.8, 'reg_lambda': 1.2016133639071267, 'reg_alpha': 0.007363252991918924, 'feature_fraction': 0.8699916915778467, 'bagging_fraction': 0.715701198174679, 'bagging_freq': 13, 'num_leaves': 606, 'min_child_samples': 42}. Best is trial 31 with value: -1.069933994045492.\u001b[0m\n"
     ]
    },
    {
     "name": "stdout",
     "output_type": "stream",
     "text": [
      "[LightGBM] [Warning] feature_fraction is set=0.8477342843780151, colsample_bytree=0.9 will be ignored. Current value: feature_fraction=0.8477342843780151\n",
      "[LightGBM] [Warning] bagging_fraction is set=0.5824119583990977, subsample=0.7 will be ignored. Current value: bagging_fraction=0.5824119583990977\n",
      "[LightGBM] [Warning] bagging_freq is set=15, subsample_freq=0 will be ignored. Current value: bagging_freq=15\n",
      "Training until validation scores don't improve for 100 rounds\n",
      "[100]\ttraining's l1: 0.832757\tvalid_1's l1: 1.07639\n",
      "[200]\ttraining's l1: 0.827589\tvalid_1's l1: 1.07477\n",
      "[300]\ttraining's l1: 0.82347\tvalid_1's l1: 1.0743\n",
      "Early stopping, best iteration is:\n",
      "[254]\ttraining's l1: 0.824602\tvalid_1's l1: 1.07376\n"
     ]
    },
    {
     "name": "stderr",
     "output_type": "stream",
     "text": [
      "\u001b[32m[I 2021-07-31 12:33:24,802]\u001b[0m Trial 98 finished with value: -1.07353984062936 and parameters: {'max_depth': 20, 'min_child_weight': 15, 'subsample': 0.7, 'colsample_bytree': 0.9, 'reg_lambda': 0.0030472637924340166, 'reg_alpha': 2.2189579329329705, 'feature_fraction': 0.8477342843780151, 'bagging_fraction': 0.5824119583990977, 'bagging_freq': 15, 'num_leaves': 537, 'min_child_samples': 75}. Best is trial 31 with value: -1.069933994045492.\u001b[0m\n"
     ]
    },
    {
     "name": "stdout",
     "output_type": "stream",
     "text": [
      "[LightGBM] [Warning] feature_fraction is set=0.6669983147119001, colsample_bytree=0.7 will be ignored. Current value: feature_fraction=0.6669983147119001\n",
      "[LightGBM] [Warning] bagging_fraction is set=0.6933129113382558, subsample=0.8 will be ignored. Current value: bagging_fraction=0.6933129113382558\n",
      "[LightGBM] [Warning] bagging_freq is set=14, subsample_freq=0 will be ignored. Current value: bagging_freq=14\n",
      "Training until validation scores don't improve for 100 rounds\n",
      "[100]\ttraining's l1: 0.827674\tvalid_1's l1: 1.07666\n",
      "[200]\ttraining's l1: 0.820932\tvalid_1's l1: 1.07505\n",
      "[300]\ttraining's l1: 0.81473\tvalid_1's l1: 1.07346\n",
      "[400]\ttraining's l1: 0.810143\tvalid_1's l1: 1.07329\n",
      "Early stopping, best iteration is:\n",
      "[367]\ttraining's l1: 0.810919\tvalid_1's l1: 1.07286\n"
     ]
    },
    {
     "name": "stderr",
     "output_type": "stream",
     "text": [
      "\u001b[32m[I 2021-07-31 12:33:52,635]\u001b[0m Trial 99 finished with value: -1.0725316205011426 and parameters: {'max_depth': 15, 'min_child_weight': 13, 'subsample': 0.8, 'colsample_bytree': 0.7, 'reg_lambda': 0.2528661604213035, 'reg_alpha': 0.011585592167408289, 'feature_fraction': 0.6669983147119001, 'bagging_fraction': 0.6933129113382558, 'bagging_freq': 14, 'num_leaves': 662, 'min_child_samples': 48}. Best is trial 31 with value: -1.069933994045492.\u001b[0m\n",
      "\u001b[32m[I 2021-07-31 12:33:52,637]\u001b[0m A new study created in memory with name: no-name-781199cf-144e-4f06-9c93-21878ef6d7d7\u001b[0m\n"
     ]
    },
    {
     "name": "stdout",
     "output_type": "stream",
     "text": [
      "[LightGBM] [Warning] feature_fraction is set=0.9594165197973503, colsample_bytree=0.7 will be ignored. Current value: feature_fraction=0.9594165197973503\n",
      "[LightGBM] [Warning] bagging_fraction is set=0.25607016490260376, subsample=0.5 will be ignored. Current value: bagging_fraction=0.25607016490260376\n",
      "[LightGBM] [Warning] bagging_freq is set=14, subsample_freq=0 will be ignored. Current value: bagging_freq=14\n",
      "Training until validation scores don't improve for 100 rounds\n",
      "[100]\ttraining's l1: 1.94082\tvalid_1's l1: 2.16232\n",
      "[200]\ttraining's l1: 1.89979\tvalid_1's l1: 2.14336\n"
     ]
    },
    {
     "name": "stderr",
     "output_type": "stream",
     "text": [
      "\u001b[32m[I 2021-07-31 12:33:57,319]\u001b[0m Trial 0 finished with value: -2.1424056885790668 and parameters: {'max_depth': 4, 'min_child_weight': 1, 'subsample': 0.5, 'colsample_bytree': 0.7, 'reg_lambda': 0.8025817269591288, 'reg_alpha': 3.1014092706587855, 'feature_fraction': 0.9594165197973503, 'bagging_fraction': 0.25607016490260376, 'bagging_freq': 14, 'num_leaves': 763, 'min_child_samples': 24}. Best is trial 0 with value: -2.1424056885790668.\u001b[0m\n"
     ]
    },
    {
     "name": "stdout",
     "output_type": "stream",
     "text": [
      "Early stopping, best iteration is:\n",
      "[196]\ttraining's l1: 1.90031\tvalid_1's l1: 2.14295\n",
      "[LightGBM] [Warning] feature_fraction is set=0.8952009876357019, colsample_bytree=0.7 will be ignored. Current value: feature_fraction=0.8952009876357019\n",
      "[LightGBM] [Warning] bagging_fraction is set=0.717049311097169, subsample=0.6 will be ignored. Current value: bagging_fraction=0.717049311097169\n",
      "[LightGBM] [Warning] bagging_freq is set=3, subsample_freq=0 will be ignored. Current value: bagging_freq=3\n",
      "Training until validation scores don't improve for 100 rounds\n",
      "[100]\ttraining's l1: 1.67616\tvalid_1's l1: 2.17071\n"
     ]
    },
    {
     "name": "stderr",
     "output_type": "stream",
     "text": [
      "\u001b[32m[I 2021-07-31 12:34:08,783]\u001b[0m Trial 1 finished with value: -2.069748826064115 and parameters: {'max_depth': 19, 'min_child_weight': 7, 'subsample': 0.6, 'colsample_bytree': 0.7, 'reg_lambda': 0.01828733121171891, 'reg_alpha': 0.7764773534292562, 'feature_fraction': 0.8952009876357019, 'bagging_fraction': 0.717049311097169, 'bagging_freq': 3, 'num_leaves': 550, 'min_child_samples': 46}. Best is trial 1 with value: -2.069748826064115.\u001b[0m\n"
     ]
    },
    {
     "name": "stdout",
     "output_type": "stream",
     "text": [
      "Early stopping, best iteration is:\n",
      "[16]\ttraining's l1: 1.88815\tvalid_1's l1: 2.06975\n",
      "[LightGBM] [Warning] feature_fraction is set=0.2675604457782981, colsample_bytree=0.7 will be ignored. Current value: feature_fraction=0.2675604457782981\n",
      "[LightGBM] [Warning] bagging_fraction is set=0.9605303016485967, subsample=0.6 will be ignored. Current value: bagging_fraction=0.9605303016485967\n",
      "[LightGBM] [Warning] bagging_freq is set=4, subsample_freq=0 will be ignored. Current value: bagging_freq=4\n",
      "Training until validation scores don't improve for 100 rounds\n",
      "[100]\ttraining's l1: 1.70953\tvalid_1's l1: 2.2223\n"
     ]
    },
    {
     "name": "stderr",
     "output_type": "stream",
     "text": [
      "\u001b[32m[I 2021-07-31 12:34:17,376]\u001b[0m Trial 2 finished with value: -2.164010015109027 and parameters: {'max_depth': 12, 'min_child_weight': 8, 'subsample': 0.6, 'colsample_bytree': 0.7, 'reg_lambda': 0.17261412910090548, 'reg_alpha': 2.5049430175086225, 'feature_fraction': 0.2675604457782981, 'bagging_fraction': 0.9605303016485967, 'bagging_freq': 4, 'num_leaves': 847, 'min_child_samples': 86}. Best is trial 1 with value: -2.069748826064115.\u001b[0m\n"
     ]
    },
    {
     "name": "stdout",
     "output_type": "stream",
     "text": [
      "Early stopping, best iteration is:\n",
      "[16]\ttraining's l1: 1.99556\tvalid_1's l1: 2.16401\n",
      "[LightGBM] [Warning] feature_fraction is set=0.7949170667820464, colsample_bytree=0.5 will be ignored. Current value: feature_fraction=0.7949170667820464\n",
      "[LightGBM] [Warning] bagging_fraction is set=0.6418207834657537, subsample=0.7 will be ignored. Current value: bagging_fraction=0.6418207834657537\n",
      "[LightGBM] [Warning] bagging_freq is set=11, subsample_freq=0 will be ignored. Current value: bagging_freq=11\n",
      "Training until validation scores don't improve for 100 rounds\n",
      "[100]\ttraining's l1: 2.24567\tvalid_1's l1: 2.30772\n",
      "[200]\ttraining's l1: 2.19328\tvalid_1's l1: 2.26271\n",
      "[300]\ttraining's l1: 2.17957\tvalid_1's l1: 2.25473\n",
      "[400]\ttraining's l1: 2.17094\tvalid_1's l1: 2.25034\n",
      "[500]\ttraining's l1: 2.16735\tvalid_1's l1: 2.2486\n",
      "[600]\ttraining's l1: 2.16497\tvalid_1's l1: 2.24728\n",
      "[700]\ttraining's l1: 2.16211\tvalid_1's l1: 2.2465\n"
     ]
    },
    {
     "name": "stderr",
     "output_type": "stream",
     "text": [
      "\u001b[32m[I 2021-07-31 12:34:30,148]\u001b[0m Trial 3 finished with value: -2.245714499194346 and parameters: {'max_depth': 1, 'min_child_weight': 2, 'subsample': 0.7, 'colsample_bytree': 0.5, 'reg_lambda': 30.51700698151233, 'reg_alpha': 0.001819252033346537, 'feature_fraction': 0.7949170667820464, 'bagging_fraction': 0.6418207834657537, 'bagging_freq': 11, 'num_leaves': 745, 'min_child_samples': 14}. Best is trial 1 with value: -2.069748826064115.\u001b[0m\n"
     ]
    },
    {
     "name": "stdout",
     "output_type": "stream",
     "text": [
      "Early stopping, best iteration is:\n",
      "[680]\ttraining's l1: 2.16233\tvalid_1's l1: 2.24611\n",
      "[LightGBM] [Warning] feature_fraction is set=0.510908701401537, colsample_bytree=0.9 will be ignored. Current value: feature_fraction=0.510908701401537\n",
      "[LightGBM] [Warning] bagging_fraction is set=0.21080913116168123, subsample=0.7 will be ignored. Current value: bagging_fraction=0.21080913116168123\n",
      "[LightGBM] [Warning] bagging_freq is set=15, subsample_freq=0 will be ignored. Current value: bagging_freq=15\n",
      "Training until validation scores don't improve for 100 rounds\n",
      "[100]\ttraining's l1: 1.76792\tvalid_1's l1: 2.15715\n"
     ]
    },
    {
     "name": "stderr",
     "output_type": "stream",
     "text": [
      "\u001b[32m[I 2021-07-31 12:34:34,486]\u001b[0m Trial 4 finished with value: -2.116294855524464 and parameters: {'max_depth': 9, 'min_child_weight': 1, 'subsample': 0.7, 'colsample_bytree': 0.9, 'reg_lambda': 0.12646477371808562, 'reg_alpha': 0.0028996882748863373, 'feature_fraction': 0.510908701401537, 'bagging_fraction': 0.21080913116168123, 'bagging_freq': 15, 'num_leaves': 459, 'min_child_samples': 22}. Best is trial 1 with value: -2.069748826064115.\u001b[0m\n"
     ]
    },
    {
     "name": "stdout",
     "output_type": "stream",
     "text": [
      "Early stopping, best iteration is:\n",
      "[21]\ttraining's l1: 1.92129\tvalid_1's l1: 2.11629\n",
      "[LightGBM] [Warning] feature_fraction is set=0.4590553826887817, colsample_bytree=0.7 will be ignored. Current value: feature_fraction=0.4590553826887817\n",
      "[LightGBM] [Warning] bagging_fraction is set=0.6474865736287134, subsample=0.7 will be ignored. Current value: bagging_fraction=0.6474865736287134\n",
      "[LightGBM] [Warning] bagging_freq is set=12, subsample_freq=0 will be ignored. Current value: bagging_freq=12\n",
      "Training until validation scores don't improve for 100 rounds\n",
      "[100]\ttraining's l1: 1.85616\tvalid_1's l1: 2.18753\n"
     ]
    },
    {
     "name": "stderr",
     "output_type": "stream",
     "text": [
      "\u001b[32m[I 2021-07-31 12:34:40,421]\u001b[0m Trial 5 finished with value: -2.175393526368152 and parameters: {'max_depth': 9, 'min_child_weight': 5, 'subsample': 0.7, 'colsample_bytree': 0.7, 'reg_lambda': 0.0038861199121892334, 'reg_alpha': 441.16770062471295, 'feature_fraction': 0.4590553826887817, 'bagging_fraction': 0.6474865736287134, 'bagging_freq': 12, 'num_leaves': 982, 'min_child_samples': 26}. Best is trial 1 with value: -2.069748826064115.\u001b[0m\n"
     ]
    },
    {
     "name": "stdout",
     "output_type": "stream",
     "text": [
      "Early stopping, best iteration is:\n",
      "[44]\ttraining's l1: 1.91777\tvalid_1's l1: 2.1754\n",
      "[LightGBM] [Warning] feature_fraction is set=0.6447351808778334, colsample_bytree=0.7 will be ignored. Current value: feature_fraction=0.6447351808778334\n",
      "[LightGBM] [Warning] bagging_fraction is set=0.8132860310913106, subsample=0.8 will be ignored. Current value: bagging_fraction=0.8132860310913106\n",
      "[LightGBM] [Warning] bagging_freq is set=10, subsample_freq=0 will be ignored. Current value: bagging_freq=10\n",
      "Training until validation scores don't improve for 100 rounds\n",
      "[100]\ttraining's l1: 1.99788\tvalid_1's l1: 2.18982\n",
      "[200]\ttraining's l1: 1.96527\tvalid_1's l1: 2.18142\n",
      "[300]\ttraining's l1: 1.94239\tvalid_1's l1: 2.17935\n",
      "[400]\ttraining's l1: 1.92891\tvalid_1's l1: 2.17615\n"
     ]
    },
    {
     "name": "stderr",
     "output_type": "stream",
     "text": [
      "\u001b[32m[I 2021-07-31 12:34:51,215]\u001b[0m Trial 6 finished with value: -2.1699969236557135 and parameters: {'max_depth': 3, 'min_child_weight': 20, 'subsample': 0.8, 'colsample_bytree': 0.7, 'reg_lambda': 98.36190577851359, 'reg_alpha': 0.9874462729980868, 'feature_fraction': 0.6447351808778334, 'bagging_fraction': 0.8132860310913106, 'bagging_freq': 10, 'num_leaves': 710, 'min_child_samples': 18}. Best is trial 1 with value: -2.069748826064115.\u001b[0m\n"
     ]
    },
    {
     "name": "stdout",
     "output_type": "stream",
     "text": [
      "Early stopping, best iteration is:\n",
      "[353]\ttraining's l1: 1.9361\tvalid_1's l1: 2.17383\n",
      "[LightGBM] [Warning] feature_fraction is set=0.945823657181317, colsample_bytree=0.9 will be ignored. Current value: feature_fraction=0.945823657181317\n",
      "[LightGBM] [Warning] bagging_fraction is set=0.8407501108011557, subsample=0.5 will be ignored. Current value: bagging_fraction=0.8407501108011557\n",
      "[LightGBM] [Warning] bagging_freq is set=5, subsample_freq=0 will be ignored. Current value: bagging_freq=5\n",
      "Training until validation scores don't improve for 100 rounds\n",
      "[100]\ttraining's l1: 1.77262\tvalid_1's l1: 2.15057\n"
     ]
    },
    {
     "name": "stderr",
     "output_type": "stream",
     "text": [
      "\u001b[32m[I 2021-07-31 12:34:58,325]\u001b[0m Trial 7 finished with value: -2.1037771518164603 and parameters: {'max_depth': 8, 'min_child_weight': 18, 'subsample': 0.5, 'colsample_bytree': 0.9, 'reg_lambda': 1.3149286537287612, 'reg_alpha': 0.9986459578348807, 'feature_fraction': 0.945823657181317, 'bagging_fraction': 0.8407501108011557, 'bagging_freq': 5, 'num_leaves': 478, 'min_child_samples': 35}. Best is trial 1 with value: -2.069748826064115.\u001b[0m\n"
     ]
    },
    {
     "name": "stdout",
     "output_type": "stream",
     "text": [
      "Early stopping, best iteration is:\n",
      "[19]\ttraining's l1: 1.91474\tvalid_1's l1: 2.10378\n",
      "[LightGBM] [Warning] feature_fraction is set=0.9103548313721275, colsample_bytree=0.8 will be ignored. Current value: feature_fraction=0.9103548313721275\n",
      "[LightGBM] [Warning] bagging_fraction is set=0.9965297595768243, subsample=0.6 will be ignored. Current value: bagging_fraction=0.9965297595768243\n",
      "[LightGBM] [Warning] bagging_freq is set=1, subsample_freq=0 will be ignored. Current value: bagging_freq=1\n",
      "Training until validation scores don't improve for 100 rounds\n",
      "[100]\ttraining's l1: 1.88503\tvalid_1's l1: 2.15772\n"
     ]
    },
    {
     "name": "stderr",
     "output_type": "stream",
     "text": [
      "\u001b[32m[I 2021-07-31 12:35:04,592]\u001b[0m Trial 8 finished with value: -2.141055758855387 and parameters: {'max_depth': 6, 'min_child_weight': 17, 'subsample': 0.6, 'colsample_bytree': 0.8, 'reg_lambda': 0.003132655286900729, 'reg_alpha': 387.1939626721251, 'feature_fraction': 0.9103548313721275, 'bagging_fraction': 0.9965297595768243, 'bagging_freq': 1, 'num_leaves': 616, 'min_child_samples': 85}. Best is trial 1 with value: -2.069748826064115.\u001b[0m\n"
     ]
    },
    {
     "name": "stdout",
     "output_type": "stream",
     "text": [
      "Early stopping, best iteration is:\n",
      "[34]\ttraining's l1: 1.94044\tvalid_1's l1: 2.14106\n",
      "[LightGBM] [Warning] feature_fraction is set=0.5557970253030007, colsample_bytree=0.5 will be ignored. Current value: feature_fraction=0.5557970253030007\n",
      "[LightGBM] [Warning] bagging_fraction is set=0.9311552442949413, subsample=0.7 will be ignored. Current value: bagging_fraction=0.9311552442949413\n",
      "[LightGBM] [Warning] bagging_freq is set=9, subsample_freq=0 will be ignored. Current value: bagging_freq=9\n",
      "Training until validation scores don't improve for 100 rounds\n",
      "[100]\ttraining's l1: 1.7394\tvalid_1's l1: 2.19156\n"
     ]
    },
    {
     "name": "stderr",
     "output_type": "stream",
     "text": [
      "\u001b[32m[I 2021-07-31 12:35:14,602]\u001b[0m Trial 9 finished with value: -2.1448968888819158 and parameters: {'max_depth': 19, 'min_child_weight': 3, 'subsample': 0.7, 'colsample_bytree': 0.5, 'reg_lambda': 0.10452606397949848, 'reg_alpha': 160.6192001052728, 'feature_fraction': 0.5557970253030007, 'bagging_fraction': 0.9311552442949413, 'bagging_freq': 9, 'num_leaves': 390, 'min_child_samples': 17}. Best is trial 1 with value: -2.069748826064115.\u001b[0m\n"
     ]
    },
    {
     "name": "stdout",
     "output_type": "stream",
     "text": [
      "Early stopping, best iteration is:\n",
      "[21]\ttraining's l1: 1.93823\tvalid_1's l1: 2.1449\n",
      "[LightGBM] [Warning] feature_fraction is set=0.7477951675153713, colsample_bytree=0.6 will be ignored. Current value: feature_fraction=0.7477951675153713\n",
      "[LightGBM] [Warning] bagging_fraction is set=0.41225554116748186, subsample=0.6 will be ignored. Current value: bagging_fraction=0.41225554116748186\n",
      "[LightGBM] [Warning] bagging_freq is set=19, subsample_freq=0 will be ignored. Current value: bagging_freq=19\n",
      "Training until validation scores don't improve for 100 rounds\n",
      "[100]\ttraining's l1: 1.79128\tvalid_1's l1: 2.14723\n"
     ]
    },
    {
     "name": "stderr",
     "output_type": "stream",
     "text": [
      "\u001b[32m[I 2021-07-31 12:35:19,088]\u001b[0m Trial 10 finished with value: -2.1151844287692474 and parameters: {'max_depth': 20, 'min_child_weight': 11, 'subsample': 0.6, 'colsample_bytree': 0.6, 'reg_lambda': 0.0015485705468265198, 'reg_alpha': 0.053855378163303075, 'feature_fraction': 0.7477951675153713, 'bagging_fraction': 0.41225554116748186, 'bagging_freq': 19, 'num_leaves': 119, 'min_child_samples': 61}. Best is trial 1 with value: -2.069748826064115.\u001b[0m\n"
     ]
    },
    {
     "name": "stdout",
     "output_type": "stream",
     "text": [
      "Early stopping, best iteration is:\n",
      "[18]\ttraining's l1: 1.96297\tvalid_1's l1: 2.11518\n",
      "[LightGBM] [Warning] feature_fraction is set=0.9765254262314801, colsample_bytree=0.9 will be ignored. Current value: feature_fraction=0.9765254262314801\n",
      "[LightGBM] [Warning] bagging_fraction is set=0.8065630307346033, subsample=0.5 will be ignored. Current value: bagging_fraction=0.8065630307346033\n",
      "[LightGBM] [Warning] bagging_freq is set=5, subsample_freq=0 will be ignored. Current value: bagging_freq=5\n",
      "Training until validation scores don't improve for 100 rounds\n",
      "[100]\ttraining's l1: 1.73405\tvalid_1's l1: 2.14574\n"
     ]
    },
    {
     "name": "stderr",
     "output_type": "stream",
     "text": [
      "\u001b[32m[I 2021-07-31 12:35:27,501]\u001b[0m Trial 11 finished with value: -2.066535371442757 and parameters: {'max_depth': 15, 'min_child_weight': 13, 'subsample': 0.5, 'colsample_bytree': 0.9, 'reg_lambda': 8.059419698198582, 'reg_alpha': 0.20112975823098478, 'feature_fraction': 0.9765254262314801, 'bagging_fraction': 0.8065630307346033, 'bagging_freq': 5, 'num_leaves': 263, 'min_child_samples': 47}. Best is trial 11 with value: -2.066535371442757.\u001b[0m\n"
     ]
    },
    {
     "name": "stdout",
     "output_type": "stream",
     "text": [
      "Early stopping, best iteration is:\n",
      "[20]\ttraining's l1: 1.86502\tvalid_1's l1: 2.06654\n",
      "[LightGBM] [Warning] feature_fraction is set=0.8211649579646184, colsample_bytree=0.8 will be ignored. Current value: feature_fraction=0.8211649579646184\n",
      "[LightGBM] [Warning] bagging_fraction is set=0.7482815752312032, subsample=0.5 will be ignored. Current value: bagging_fraction=0.7482815752312032\n",
      "[LightGBM] [Warning] bagging_freq is set=1, subsample_freq=0 will be ignored. Current value: bagging_freq=1\n",
      "Training until validation scores don't improve for 100 rounds\n",
      "[100]\ttraining's l1: 1.74967\tvalid_1's l1: 2.1348\n"
     ]
    },
    {
     "name": "stderr",
     "output_type": "stream",
     "text": [
      "\u001b[32m[I 2021-07-31 12:35:34,574]\u001b[0m Trial 12 finished with value: -2.093051939717158 and parameters: {'max_depth': 15, 'min_child_weight': 13, 'subsample': 0.5, 'colsample_bytree': 0.8, 'reg_lambda': 7.485312084311725, 'reg_alpha': 0.06198898754508872, 'feature_fraction': 0.8211649579646184, 'bagging_fraction': 0.7482815752312032, 'bagging_freq': 1, 'num_leaves': 215, 'min_child_samples': 53}. Best is trial 11 with value: -2.066535371442757.\u001b[0m\n"
     ]
    },
    {
     "name": "stdout",
     "output_type": "stream",
     "text": [
      "Early stopping, best iteration is:\n",
      "[20]\ttraining's l1: 1.89549\tvalid_1's l1: 2.09305\n",
      "[LightGBM] [Warning] feature_fraction is set=0.9988612401751295, colsample_bytree=0.8 will be ignored. Current value: feature_fraction=0.9988612401751295\n",
      "[LightGBM] [Warning] bagging_fraction is set=0.47702485846812814, subsample=0.9 will be ignored. Current value: bagging_fraction=0.47702485846812814\n",
      "[LightGBM] [Warning] bagging_freq is set=5, subsample_freq=0 will be ignored. Current value: bagging_freq=5\n",
      "Training until validation scores don't improve for 100 rounds\n",
      "[100]\ttraining's l1: 1.72755\tvalid_1's l1: 2.14666\n"
     ]
    },
    {
     "name": "stderr",
     "output_type": "stream",
     "text": [
      "\u001b[32m[I 2021-07-31 12:35:42,183]\u001b[0m Trial 13 finished with value: -2.0751481813427057 and parameters: {'max_depth': 16, 'min_child_weight': 14, 'subsample': 0.9, 'colsample_bytree': 0.8, 'reg_lambda': 0.015954830537880865, 'reg_alpha': 0.1484552746403135, 'feature_fraction': 0.9988612401751295, 'bagging_fraction': 0.47702485846812814, 'bagging_freq': 5, 'num_leaves': 283, 'min_child_samples': 71}. Best is trial 11 with value: -2.066535371442757.\u001b[0m\n"
     ]
    },
    {
     "name": "stdout",
     "output_type": "stream",
     "text": [
      "Early stopping, best iteration is:\n",
      "[19]\ttraining's l1: 1.87915\tvalid_1's l1: 2.07515\n",
      "[LightGBM] [Warning] feature_fraction is set=0.6870894494792986, colsample_bytree=0.6 will be ignored. Current value: feature_fraction=0.6870894494792986\n",
      "[LightGBM] [Warning] bagging_fraction is set=0.7415165689572463, subsample=0.6 will be ignored. Current value: bagging_fraction=0.7415165689572463\n",
      "[LightGBM] [Warning] bagging_freq is set=7, subsample_freq=0 will be ignored. Current value: bagging_freq=7\n",
      "Training until validation scores don't improve for 100 rounds\n",
      "[100]\ttraining's l1: 1.87576\tvalid_1's l1: 2.15617\n"
     ]
    },
    {
     "name": "stderr",
     "output_type": "stream",
     "text": [
      "\u001b[32m[I 2021-07-31 12:35:47,408]\u001b[0m Trial 14 finished with value: -2.137442765646769 and parameters: {'max_depth': 17, 'min_child_weight': 8, 'subsample': 0.6, 'colsample_bytree': 0.6, 'reg_lambda': 529.1963473921094, 'reg_alpha': 28.7909200621294, 'feature_fraction': 0.6870894494792986, 'bagging_fraction': 0.7415165689572463, 'bagging_freq': 7, 'num_leaves': 38, 'min_child_samples': 42}. Best is trial 11 with value: -2.066535371442757.\u001b[0m\n"
     ]
    },
    {
     "name": "stdout",
     "output_type": "stream",
     "text": [
      "Early stopping, best iteration is:\n",
      "[33]\ttraining's l1: 1.93853\tvalid_1's l1: 2.13744\n",
      "[LightGBM] [Warning] feature_fraction is set=0.8702805799610228, colsample_bytree=0.6 will be ignored. Current value: feature_fraction=0.8702805799610228\n",
      "[LightGBM] [Warning] bagging_fraction is set=0.5714253620218182, subsample=0.5 will be ignored. Current value: bagging_fraction=0.5714253620218182\n",
      "[LightGBM] [Warning] bagging_freq is set=2, subsample_freq=0 will be ignored. Current value: bagging_freq=2\n",
      "Training until validation scores don't improve for 100 rounds\n",
      "[100]\ttraining's l1: 1.72732\tvalid_1's l1: 2.13621\n"
     ]
    },
    {
     "name": "stderr",
     "output_type": "stream",
     "text": [
      "\u001b[32m[I 2021-07-31 12:35:56,069]\u001b[0m Trial 15 finished with value: -2.076778538198732 and parameters: {'max_depth': 13, 'min_child_weight': 8, 'subsample': 0.5, 'colsample_bytree': 0.6, 'reg_lambda': 4.67780545782247, 'reg_alpha': 0.011317322421804481, 'feature_fraction': 0.8702805799610228, 'bagging_fraction': 0.5714253620218182, 'bagging_freq': 2, 'num_leaves': 290, 'min_child_samples': 45}. Best is trial 11 with value: -2.066535371442757.\u001b[0m\n"
     ]
    },
    {
     "name": "stdout",
     "output_type": "stream",
     "text": [
      "Early stopping, best iteration is:\n",
      "[19]\ttraining's l1: 1.88144\tvalid_1's l1: 2.07678\n",
      "[LightGBM] [Warning] feature_fraction is set=0.40760598565275724, colsample_bytree=0.8 will be ignored. Current value: feature_fraction=0.40760598565275724\n",
      "[LightGBM] [Warning] bagging_fraction is set=0.8671067050180413, subsample=0.6 will be ignored. Current value: bagging_fraction=0.8671067050180413\n",
      "[LightGBM] [Warning] bagging_freq is set=7, subsample_freq=0 will be ignored. Current value: bagging_freq=7\n",
      "Training until validation scores don't improve for 100 rounds\n",
      "[100]\ttraining's l1: 1.69566\tvalid_1's l1: 2.197\n"
     ]
    },
    {
     "name": "stderr",
     "output_type": "stream",
     "text": [
      "\u001b[32m[I 2021-07-31 12:36:05,557]\u001b[0m Trial 16 finished with value: -2.1451879771392846 and parameters: {'max_depth': 18, 'min_child_weight': 14, 'subsample': 0.6, 'colsample_bytree': 0.8, 'reg_lambda': 0.024578306404071736, 'reg_alpha': 15.772200418858535, 'feature_fraction': 0.40760598565275724, 'bagging_fraction': 0.8671067050180413, 'bagging_freq': 7, 'num_leaves': 570, 'min_child_samples': 67}. Best is trial 11 with value: -2.066535371442757.\u001b[0m\n"
     ]
    },
    {
     "name": "stdout",
     "output_type": "stream",
     "text": [
      "Early stopping, best iteration is:\n",
      "[16]\ttraining's l1: 1.96831\tvalid_1's l1: 2.14519\n",
      "[LightGBM] [Warning] feature_fraction is set=0.9818648219434676, colsample_bytree=0.9 will be ignored. Current value: feature_fraction=0.9818648219434676\n",
      "[LightGBM] [Warning] bagging_fraction is set=0.5263583095772896, subsample=0.5 will be ignored. Current value: bagging_fraction=0.5263583095772896\n",
      "[LightGBM] [Warning] bagging_freq is set=3, subsample_freq=0 will be ignored. Current value: bagging_freq=3\n",
      "Training until validation scores don't improve for 100 rounds\n",
      "[100]\ttraining's l1: 1.73823\tvalid_1's l1: 2.17298\n"
     ]
    },
    {
     "name": "stderr",
     "output_type": "stream",
     "text": [
      "\u001b[32m[I 2021-07-31 12:36:14,308]\u001b[0m Trial 17 finished with value: -2.11714289332372 and parameters: {'max_depth': 13, 'min_child_weight': 6, 'subsample': 0.5, 'colsample_bytree': 0.9, 'reg_lambda': 938.0469211966049, 'reg_alpha': 0.20892611231874506, 'feature_fraction': 0.9818648219434676, 'bagging_fraction': 0.5263583095772896, 'bagging_freq': 3, 'num_leaves': 364, 'min_child_samples': 52}. Best is trial 11 with value: -2.066535371442757.\u001b[0m\n"
     ]
    },
    {
     "name": "stdout",
     "output_type": "stream",
     "text": [
      "Early stopping, best iteration is:\n",
      "[24]\ttraining's l1: 1.88635\tvalid_1's l1: 2.11714\n",
      "[LightGBM] [Warning] feature_fraction is set=0.7257450175423079, colsample_bytree=0.6 will be ignored. Current value: feature_fraction=0.7257450175423079\n",
      "[LightGBM] [Warning] bagging_fraction is set=0.7303643783750813, subsample=0.8 will be ignored. Current value: bagging_fraction=0.7303643783750813\n",
      "[LightGBM] [Warning] bagging_freq is set=7, subsample_freq=0 will be ignored. Current value: bagging_freq=7\n",
      "Training until validation scores don't improve for 100 rounds\n",
      "[100]\ttraining's l1: 1.75755\tvalid_1's l1: 2.14069\n"
     ]
    },
    {
     "name": "stderr",
     "output_type": "stream",
     "text": [
      "\u001b[32m[I 2021-07-31 12:36:20,784]\u001b[0m Trial 18 finished with value: -2.11487145787042 and parameters: {'max_depth': 20, 'min_child_weight': 11, 'subsample': 0.8, 'colsample_bytree': 0.6, 'reg_lambda': 80.35672834551622, 'reg_alpha': 0.009685075890693676, 'feature_fraction': 0.7257450175423079, 'bagging_fraction': 0.7303643783750813, 'bagging_freq': 7, 'num_leaves': 159, 'min_child_samples': 33}. Best is trial 11 with value: -2.066535371442757.\u001b[0m\n"
     ]
    },
    {
     "name": "stdout",
     "output_type": "stream",
     "text": [
      "Early stopping, best iteration is:\n",
      "[21]\ttraining's l1: 1.91277\tvalid_1's l1: 2.11487\n",
      "[LightGBM] [Warning] feature_fraction is set=0.8521351638238199, colsample_bytree=0.8 will be ignored. Current value: feature_fraction=0.8521351638238199\n",
      "[LightGBM] [Warning] bagging_fraction is set=0.6829773660507981, subsample=0.6 will be ignored. Current value: bagging_fraction=0.6829773660507981\n",
      "[LightGBM] [Warning] bagging_freq is set=1, subsample_freq=0 will be ignored. Current value: bagging_freq=1\n",
      "Training until validation scores don't improve for 100 rounds\n",
      "[100]\ttraining's l1: 1.90516\tvalid_1's l1: 2.14964\n"
     ]
    },
    {
     "name": "stderr",
     "output_type": "stream",
     "text": [
      "\u001b[32m[I 2021-07-31 12:36:26,145]\u001b[0m Trial 19 finished with value: -2.1459471567803763 and parameters: {'max_depth': 15, 'min_child_weight': 17, 'subsample': 0.6, 'colsample_bytree': 0.8, 'reg_lambda': 0.49673084118315564, 'reg_alpha': 0.335444635358446, 'feature_fraction': 0.8521351638238199, 'bagging_fraction': 0.6829773660507981, 'bagging_freq': 1, 'num_leaves': 21, 'min_child_samples': 57}. Best is trial 11 with value: -2.066535371442757.\u001b[0m\n"
     ]
    },
    {
     "name": "stdout",
     "output_type": "stream",
     "text": [
      "Early stopping, best iteration is:\n",
      "[80]\ttraining's l1: 1.92211\tvalid_1's l1: 2.14596\n",
      "[LightGBM] [Warning] feature_fraction is set=0.20817615119964455, colsample_bytree=0.9 will be ignored. Current value: feature_fraction=0.20817615119964455\n",
      "[LightGBM] [Warning] bagging_fraction is set=0.3571521603119676, subsample=0.8 will be ignored. Current value: bagging_fraction=0.3571521603119676\n",
      "[LightGBM] [Warning] bagging_freq is set=6, subsample_freq=0 will be ignored. Current value: bagging_freq=6\n",
      "Training until validation scores don't improve for 100 rounds\n",
      "[100]\ttraining's l1: 1.79359\tvalid_1's l1: 2.25287\n"
     ]
    },
    {
     "name": "stderr",
     "output_type": "stream",
     "text": [
      "\u001b[32m[I 2021-07-31 12:36:32,004]\u001b[0m Trial 20 finished with value: -2.2041260169129884 and parameters: {'max_depth': 18, 'min_child_weight': 5, 'subsample': 0.8, 'colsample_bytree': 0.9, 'reg_lambda': 5.605682837370354, 'reg_alpha': 10.896551531622976, 'feature_fraction': 0.20817615119964455, 'bagging_fraction': 0.3571521603119676, 'bagging_freq': 6, 'num_leaves': 603, 'min_child_samples': 96}. Best is trial 11 with value: -2.066535371442757.\u001b[0m\n"
     ]
    },
    {
     "name": "stdout",
     "output_type": "stream",
     "text": [
      "Early stopping, best iteration is:\n",
      "[17]\ttraining's l1: 2.08123\tvalid_1's l1: 2.20413\n",
      "[LightGBM] [Warning] feature_fraction is set=0.9909072386160009, colsample_bytree=0.8 will be ignored. Current value: feature_fraction=0.9909072386160009\n",
      "[LightGBM] [Warning] bagging_fraction is set=0.48279948592272476, subsample=0.9 will be ignored. Current value: bagging_fraction=0.48279948592272476\n",
      "[LightGBM] [Warning] bagging_freq is set=4, subsample_freq=0 will be ignored. Current value: bagging_freq=4\n",
      "Training until validation scores don't improve for 100 rounds\n",
      "[100]\ttraining's l1: 1.73211\tvalid_1's l1: 2.15208\n"
     ]
    },
    {
     "name": "stderr",
     "output_type": "stream",
     "text": [
      "\u001b[32m[I 2021-07-31 12:36:39,859]\u001b[0m Trial 21 finished with value: -2.071755452300399 and parameters: {'max_depth': 16, 'min_child_weight': 14, 'subsample': 0.9, 'colsample_bytree': 0.8, 'reg_lambda': 0.026456150280458512, 'reg_alpha': 0.10532075114852603, 'feature_fraction': 0.9909072386160009, 'bagging_fraction': 0.48279948592272476, 'bagging_freq': 4, 'num_leaves': 287, 'min_child_samples': 72}. Best is trial 11 with value: -2.066535371442757.\u001b[0m\n"
     ]
    },
    {
     "name": "stdout",
     "output_type": "stream",
     "text": [
      "Early stopping, best iteration is:\n",
      "[20]\ttraining's l1: 1.86454\tvalid_1's l1: 2.07176\n",
      "[LightGBM] [Warning] feature_fraction is set=0.995648745994554, colsample_bytree=0.8 will be ignored. Current value: feature_fraction=0.995648745994554\n",
      "[LightGBM] [Warning] bagging_fraction is set=0.5522934142002173, subsample=0.9 will be ignored. Current value: bagging_fraction=0.5522934142002173\n",
      "[LightGBM] [Warning] bagging_freq is set=3, subsample_freq=0 will be ignored. Current value: bagging_freq=3\n",
      "Training until validation scores don't improve for 100 rounds\n",
      "[100]\ttraining's l1: 1.70927\tvalid_1's l1: 2.14436\n"
     ]
    },
    {
     "name": "stderr",
     "output_type": "stream",
     "text": [
      "\u001b[32m[I 2021-07-31 12:36:49,352]\u001b[0m Trial 22 finished with value: -2.071178647072291 and parameters: {'max_depth': 15, 'min_child_weight': 13, 'subsample': 0.9, 'colsample_bytree': 0.8, 'reg_lambda': 0.018668888278981794, 'reg_alpha': 0.04333906126193333, 'feature_fraction': 0.995648745994554, 'bagging_fraction': 0.5522934142002173, 'bagging_freq': 3, 'num_leaves': 377, 'min_child_samples': 72}. Best is trial 11 with value: -2.066535371442757.\u001b[0m\n"
     ]
    },
    {
     "name": "stdout",
     "output_type": "stream",
     "text": [
      "Early stopping, best iteration is:\n",
      "[23]\ttraining's l1: 1.81751\tvalid_1's l1: 2.07118\n",
      "[LightGBM] [Warning] feature_fraction is set=0.8931201539207203, colsample_bytree=0.9 will be ignored. Current value: feature_fraction=0.8931201539207203\n",
      "[LightGBM] [Warning] bagging_fraction is set=0.5790372494887287, subsample=0.5 will be ignored. Current value: bagging_fraction=0.5790372494887287\n",
      "[LightGBM] [Warning] bagging_freq is set=3, subsample_freq=0 will be ignored. Current value: bagging_freq=3\n",
      "Training until validation scores don't improve for 100 rounds\n",
      "[100]\ttraining's l1: 1.7052\tvalid_1's l1: 2.1556\n"
     ]
    },
    {
     "name": "stderr",
     "output_type": "stream",
     "text": [
      "\u001b[32m[I 2021-07-31 12:36:58,409]\u001b[0m Trial 23 finished with value: -2.0695390473403448 and parameters: {'max_depth': 14, 'min_child_weight': 10, 'subsample': 0.5, 'colsample_bytree': 0.9, 'reg_lambda': 0.007676406282073493, 'reg_alpha': 0.03530444462098137, 'feature_fraction': 0.8931201539207203, 'bagging_fraction': 0.5790372494887287, 'bagging_freq': 3, 'num_leaves': 401, 'min_child_samples': 44}. Best is trial 11 with value: -2.066535371442757.\u001b[0m\n"
     ]
    },
    {
     "name": "stdout",
     "output_type": "stream",
     "text": [
      "Early stopping, best iteration is:\n",
      "[16]\ttraining's l1: 1.90101\tvalid_1's l1: 2.06954\n",
      "[LightGBM] [Warning] feature_fraction is set=0.8856234462562188, colsample_bytree=0.9 will be ignored. Current value: feature_fraction=0.8856234462562188\n",
      "[LightGBM] [Warning] bagging_fraction is set=0.7762861158033367, subsample=0.5 will be ignored. Current value: bagging_fraction=0.7762861158033367\n",
      "[LightGBM] [Warning] bagging_freq is set=8, subsample_freq=0 will be ignored. Current value: bagging_freq=8\n",
      "Training until validation scores don't improve for 100 rounds\n",
      "[100]\ttraining's l1: 1.6762\tvalid_1's l1: 2.1818\n"
     ]
    },
    {
     "name": "stderr",
     "output_type": "stream",
     "text": [
      "\u001b[32m[I 2021-07-31 12:37:08,098]\u001b[0m Trial 24 finished with value: -2.0776254971389485 and parameters: {'max_depth': 11, 'min_child_weight': 10, 'subsample': 0.5, 'colsample_bytree': 0.9, 'reg_lambda': 0.008574537153189973, 'reg_alpha': 0.018420387412037754, 'feature_fraction': 0.8856234462562188, 'bagging_fraction': 0.7762861158033367, 'bagging_freq': 8, 'num_leaves': 550, 'min_child_samples': 6}. Best is trial 11 with value: -2.066535371442757.\u001b[0m\n"
     ]
    },
    {
     "name": "stdout",
     "output_type": "stream",
     "text": [
      "Early stopping, best iteration is:\n",
      "[17]\ttraining's l1: 1.87917\tvalid_1's l1: 2.07763\n",
      "[LightGBM] [Warning] feature_fraction is set=0.7779804069799641, colsample_bytree=0.9 will be ignored. Current value: feature_fraction=0.7779804069799641\n",
      "[LightGBM] [Warning] bagging_fraction is set=0.8876071326332979, subsample=0.5 will be ignored. Current value: bagging_fraction=0.8876071326332979\n",
      "[LightGBM] [Warning] bagging_freq is set=3, subsample_freq=0 will be ignored. Current value: bagging_freq=3\n",
      "Training until validation scores don't improve for 100 rounds\n",
      "[100]\ttraining's l1: 1.68791\tvalid_1's l1: 2.16727\n"
     ]
    },
    {
     "name": "stderr",
     "output_type": "stream",
     "text": [
      "\u001b[32m[I 2021-07-31 12:37:17,732]\u001b[0m Trial 25 finished with value: -2.0776908800302527 and parameters: {'max_depth': 13, 'min_child_weight': 10, 'subsample': 0.5, 'colsample_bytree': 0.9, 'reg_lambda': 0.0012438902433361818, 'reg_alpha': 0.48351367093092723, 'feature_fraction': 0.7779804069799641, 'bagging_fraction': 0.8876071326332979, 'bagging_freq': 3, 'num_leaves': 471, 'min_child_samples': 44}. Best is trial 11 with value: -2.066535371442757.\u001b[0m\n"
     ]
    },
    {
     "name": "stdout",
     "output_type": "stream",
     "text": [
      "Early stopping, best iteration is:\n",
      "[17]\ttraining's l1: 1.88922\tvalid_1's l1: 2.07769\n",
      "[LightGBM] [Warning] feature_fraction is set=0.9112935747206529, colsample_bytree=0.7 will be ignored. Current value: feature_fraction=0.9112935747206529\n",
      "[LightGBM] [Warning] bagging_fraction is set=0.6194215933296887, subsample=0.6 will be ignored. Current value: bagging_fraction=0.6194215933296887\n",
      "[LightGBM] [Warning] bagging_freq is set=5, subsample_freq=0 will be ignored. Current value: bagging_freq=5\n",
      "Training until validation scores don't improve for 100 rounds\n",
      "[100]\ttraining's l1: 1.69354\tvalid_1's l1: 2.16029\n"
     ]
    },
    {
     "name": "stderr",
     "output_type": "stream",
     "text": [
      "\u001b[32m[I 2021-07-31 12:37:27,325]\u001b[0m Trial 26 finished with value: -2.060490114548418 and parameters: {'max_depth': 17, 'min_child_weight': 9, 'subsample': 0.6, 'colsample_bytree': 0.7, 'reg_lambda': 0.06874094391457795, 'reg_alpha': 3.3839897120629994, 'feature_fraction': 0.9112935747206529, 'bagging_fraction': 0.6194215933296887, 'bagging_freq': 5, 'num_leaves': 422, 'min_child_samples': 34}. Best is trial 26 with value: -2.060490114548418.\u001b[0m\n"
     ]
    },
    {
     "name": "stdout",
     "output_type": "stream",
     "text": [
      "Early stopping, best iteration is:\n",
      "[19]\ttraining's l1: 1.85229\tvalid_1's l1: 2.06049\n",
      "[LightGBM] [Warning] feature_fraction is set=0.8304995967946608, colsample_bytree=0.9 will be ignored. Current value: feature_fraction=0.8304995967946608\n",
      "[LightGBM] [Warning] bagging_fraction is set=0.611744321349436, subsample=0.5 will be ignored. Current value: bagging_fraction=0.611744321349436\n",
      "[LightGBM] [Warning] bagging_freq is set=5, subsample_freq=0 will be ignored. Current value: bagging_freq=5\n",
      "Training until validation scores don't improve for 100 rounds\n",
      "[100]\ttraining's l1: 1.75313\tvalid_1's l1: 2.14446\n"
     ]
    },
    {
     "name": "stderr",
     "output_type": "stream",
     "text": [
      "\u001b[32m[I 2021-07-31 12:37:34,633]\u001b[0m Trial 27 finished with value: -2.089690159205341 and parameters: {'max_depth': 14, 'min_child_weight': 12, 'subsample': 0.5, 'colsample_bytree': 0.9, 'reg_lambda': 0.06569481136663963, 'reg_alpha': 3.5880998218505997, 'feature_fraction': 0.8304995967946608, 'bagging_fraction': 0.611744321349436, 'bagging_freq': 5, 'num_leaves': 217, 'min_child_samples': 33}. Best is trial 26 with value: -2.060490114548418.\u001b[0m\n"
     ]
    },
    {
     "name": "stdout",
     "output_type": "stream",
     "text": [
      "Early stopping, best iteration is:\n",
      "[19]\ttraining's l1: 1.90239\tvalid_1's l1: 2.08969\n",
      "[LightGBM] [Warning] feature_fraction is set=0.9266138758519167, colsample_bytree=0.7 will be ignored. Current value: feature_fraction=0.9266138758519167\n",
      "[LightGBM] [Warning] bagging_fraction is set=0.4023679568464799, subsample=0.6 will be ignored. Current value: bagging_fraction=0.4023679568464799\n",
      "[LightGBM] [Warning] bagging_freq is set=8, subsample_freq=0 will be ignored. Current value: bagging_freq=8\n",
      "Training until validation scores don't improve for 100 rounds\n",
      "[100]\ttraining's l1: 1.74496\tvalid_1's l1: 2.15561\n"
     ]
    },
    {
     "name": "stderr",
     "output_type": "stream",
     "text": [
      "\u001b[32m[I 2021-07-31 12:37:41,517]\u001b[0m Trial 28 finished with value: -2.107228352496417 and parameters: {'max_depth': 11, 'min_child_weight': 9, 'subsample': 0.6, 'colsample_bytree': 0.7, 'reg_lambda': 0.2653955358625012, 'reg_alpha': 49.56811494335679, 'feature_fraction': 0.9266138758519167, 'bagging_fraction': 0.4023679568464799, 'bagging_freq': 8, 'num_leaves': 381, 'min_child_samples': 39}. Best is trial 26 with value: -2.060490114548418.\u001b[0m\n"
     ]
    },
    {
     "name": "stdout",
     "output_type": "stream",
     "text": [
      "Early stopping, best iteration is:\n",
      "[25]\ttraining's l1: 1.86787\tvalid_1's l1: 2.10723\n",
      "[LightGBM] [Warning] feature_fraction is set=0.9434724647871179, colsample_bytree=0.6 will be ignored. Current value: feature_fraction=0.9434724647871179\n",
      "[LightGBM] [Warning] bagging_fraction is set=0.3248385380790512, subsample=0.5 will be ignored. Current value: bagging_fraction=0.3248385380790512\n",
      "[LightGBM] [Warning] bagging_freq is set=14, subsample_freq=0 will be ignored. Current value: bagging_freq=14\n",
      "Training until validation scores don't improve for 100 rounds\n",
      "[100]\ttraining's l1: 1.78595\tvalid_1's l1: 2.13751\n"
     ]
    },
    {
     "name": "stderr",
     "output_type": "stream",
     "text": [
      "\u001b[32m[I 2021-07-31 12:37:46,341]\u001b[0m Trial 29 finished with value: -2.0819802497952073 and parameters: {'max_depth': 17, 'min_child_weight': 16, 'subsample': 0.5, 'colsample_bytree': 0.6, 'reg_lambda': 1.087393835747402, 'reg_alpha': 2.852650992002426, 'feature_fraction': 0.9434724647871179, 'bagging_fraction': 0.3248385380790512, 'bagging_freq': 14, 'num_leaves': 119, 'min_child_samples': 30}. Best is trial 26 with value: -2.060490114548418.\u001b[0m\n"
     ]
    },
    {
     "name": "stdout",
     "output_type": "stream",
     "text": [
      "Early stopping, best iteration is:\n",
      "[18]\ttraining's l1: 1.94407\tvalid_1's l1: 2.08198\n",
      "[LightGBM] [Warning] feature_fraction is set=0.6409135548042997, colsample_bytree=0.8 will be ignored. Current value: feature_fraction=0.6409135548042997\n",
      "[LightGBM] [Warning] bagging_fraction is set=0.6693887272707086, subsample=0.5 will be ignored. Current value: bagging_fraction=0.6693887272707086\n",
      "[LightGBM] [Warning] bagging_freq is set=6, subsample_freq=0 will be ignored. Current value: bagging_freq=6\n",
      "Training until validation scores don't improve for 100 rounds\n",
      "[100]\ttraining's l1: 1.66779\tvalid_1's l1: 2.18363\n"
     ]
    },
    {
     "name": "stderr",
     "output_type": "stream",
     "text": [
      "\u001b[32m[I 2021-07-31 12:37:55,124]\u001b[0m Trial 30 finished with value: -2.107220008557294 and parameters: {'max_depth': 14, 'min_child_weight': 15, 'subsample': 0.5, 'colsample_bytree': 0.8, 'reg_lambda': 2.2177680188922495, 'reg_alpha': 0.022261170121234415, 'feature_fraction': 0.6409135548042997, 'bagging_fraction': 0.6693887272707086, 'bagging_freq': 6, 'num_leaves': 678, 'min_child_samples': 50}. Best is trial 26 with value: -2.060490114548418.\u001b[0m\n"
     ]
    },
    {
     "name": "stdout",
     "output_type": "stream",
     "text": [
      "Early stopping, best iteration is:\n",
      "[17]\ttraining's l1: 1.89226\tvalid_1's l1: 2.10722\n",
      "[LightGBM] [Warning] feature_fraction is set=0.8815735390712325, colsample_bytree=0.7 will be ignored. Current value: feature_fraction=0.8815735390712325\n",
      "[LightGBM] [Warning] bagging_fraction is set=0.6950464881182437, subsample=0.6 will be ignored. Current value: bagging_fraction=0.6950464881182437\n",
      "[LightGBM] [Warning] bagging_freq is set=2, subsample_freq=0 will be ignored. Current value: bagging_freq=2\n",
      "Training until validation scores don't improve for 100 rounds\n",
      "[100]\ttraining's l1: 1.69411\tvalid_1's l1: 2.15804\n"
     ]
    },
    {
     "name": "stderr",
     "output_type": "stream",
     "text": [
      "\u001b[32m[I 2021-07-31 12:38:04,632]\u001b[0m Trial 31 finished with value: -2.0741114115928108 and parameters: {'max_depth': 19, 'min_child_weight': 7, 'subsample': 0.6, 'colsample_bytree': 0.7, 'reg_lambda': 0.006365117776159141, 'reg_alpha': 0.443586174595929, 'feature_fraction': 0.8815735390712325, 'bagging_fraction': 0.6950464881182437, 'bagging_freq': 2, 'num_leaves': 434, 'min_child_samples': 48}. Best is trial 26 with value: -2.060490114548418.\u001b[0m\n"
     ]
    },
    {
     "name": "stdout",
     "output_type": "stream",
     "text": [
      "Early stopping, best iteration is:\n",
      "[15]\ttraining's l1: 1.91947\tvalid_1's l1: 2.07411\n",
      "[LightGBM] [Warning] feature_fraction is set=0.940739218044513, colsample_bytree=0.7 will be ignored. Current value: feature_fraction=0.940739218044513\n",
      "[LightGBM] [Warning] bagging_fraction is set=0.6074394880353632, subsample=0.6 will be ignored. Current value: bagging_fraction=0.6074394880353632\n",
      "[LightGBM] [Warning] bagging_freq is set=4, subsample_freq=0 will be ignored. Current value: bagging_freq=4\n",
      "Training until validation scores don't improve for 100 rounds\n",
      "[100]\ttraining's l1: 1.68126\tvalid_1's l1: 2.16553\n"
     ]
    },
    {
     "name": "stderr",
     "output_type": "stream",
     "text": [
      "\u001b[32m[I 2021-07-31 12:38:14,008]\u001b[0m Trial 32 finished with value: -2.0594065935811696 and parameters: {'max_depth': 17, 'min_child_weight': 6, 'subsample': 0.6, 'colsample_bytree': 0.7, 'reg_lambda': 0.3890962708386868, 'reg_alpha': 8.604509507064071, 'feature_fraction': 0.940739218044513, 'bagging_fraction': 0.6074394880353632, 'bagging_freq': 4, 'num_leaves': 514, 'min_child_samples': 39}. Best is trial 32 with value: -2.0594065935811696.\u001b[0m\n"
     ]
    },
    {
     "name": "stdout",
     "output_type": "stream",
     "text": [
      "Early stopping, best iteration is:\n",
      "[20]\ttraining's l1: 1.82999\tvalid_1's l1: 2.05941\n",
      "[LightGBM] [Warning] feature_fraction is set=0.9316504357351603, colsample_bytree=0.7 will be ignored. Current value: feature_fraction=0.9316504357351603\n",
      "[LightGBM] [Warning] bagging_fraction is set=0.5951851590268066, subsample=0.6 will be ignored. Current value: bagging_fraction=0.5951851590268066\n",
      "[LightGBM] [Warning] bagging_freq is set=4, subsample_freq=0 will be ignored. Current value: bagging_freq=4\n",
      "Training until validation scores don't improve for 100 rounds\n",
      "[100]\ttraining's l1: 1.68048\tvalid_1's l1: 2.16891\n"
     ]
    },
    {
     "name": "stderr",
     "output_type": "stream",
     "text": [
      "\u001b[32m[I 2021-07-31 12:38:24,578]\u001b[0m Trial 33 finished with value: -2.0593324398982924 and parameters: {'max_depth': 17, 'min_child_weight': 4, 'subsample': 0.6, 'colsample_bytree': 0.7, 'reg_lambda': 0.4535654931299812, 'reg_alpha': 5.49946828726263, 'feature_fraction': 0.9316504357351603, 'bagging_fraction': 0.5951851590268066, 'bagging_freq': 4, 'num_leaves': 528, 'min_child_samples': 39}. Best is trial 33 with value: -2.0593324398982924.\u001b[0m\n"
     ]
    },
    {
     "name": "stdout",
     "output_type": "stream",
     "text": [
      "Early stopping, best iteration is:\n",
      "[18]\ttraining's l1: 1.8542\tvalid_1's l1: 2.05933\n",
      "[LightGBM] [Warning] feature_fraction is set=0.9563579713010384, colsample_bytree=0.7 will be ignored. Current value: feature_fraction=0.9563579713010384\n",
      "[LightGBM] [Warning] bagging_fraction is set=0.48451291578171585, subsample=0.6 will be ignored. Current value: bagging_fraction=0.48451291578171585\n",
      "[LightGBM] [Warning] bagging_freq is set=4, subsample_freq=0 will be ignored. Current value: bagging_freq=4\n",
      "Training until validation scores don't improve for 100 rounds\n",
      "[100]\ttraining's l1: 1.68425\tvalid_1's l1: 2.16097\n"
     ]
    },
    {
     "name": "stderr",
     "output_type": "stream",
     "text": [
      "\u001b[32m[I 2021-07-31 12:38:34,532]\u001b[0m Trial 34 finished with value: -2.0688335624446212 and parameters: {'max_depth': 17, 'min_child_weight': 4, 'subsample': 0.6, 'colsample_bytree': 0.7, 'reg_lambda': 0.4144149003101243, 'reg_alpha': 5.183406812029006, 'feature_fraction': 0.9563579713010384, 'bagging_fraction': 0.48451291578171585, 'bagging_freq': 4, 'num_leaves': 513, 'min_child_samples': 37}. Best is trial 33 with value: -2.0593324398982924.\u001b[0m\n"
     ]
    },
    {
     "name": "stdout",
     "output_type": "stream",
     "text": [
      "Early stopping, best iteration is:\n",
      "[18]\ttraining's l1: 1.85933\tvalid_1's l1: 2.06883\n",
      "[LightGBM] [Warning] feature_fraction is set=0.797704809503482, colsample_bytree=0.7 will be ignored. Current value: feature_fraction=0.797704809503482\n",
      "[LightGBM] [Warning] bagging_fraction is set=0.6205220636572726, subsample=0.7 will be ignored. Current value: bagging_fraction=0.6205220636572726\n",
      "[LightGBM] [Warning] bagging_freq is set=6, subsample_freq=0 will be ignored. Current value: bagging_freq=6\n",
      "Training until validation scores don't improve for 100 rounds\n",
      "[100]\ttraining's l1: 1.69626\tvalid_1's l1: 2.19571\n"
     ]
    },
    {
     "name": "stderr",
     "output_type": "stream",
     "text": [
      "\u001b[32m[I 2021-07-31 12:38:43,367]\u001b[0m Trial 35 finished with value: -2.1061163573220525 and parameters: {'max_depth': 18, 'min_child_weight': 1, 'subsample': 0.7, 'colsample_bytree': 0.7, 'reg_lambda': 0.06157276672279504, 'reg_alpha': 74.67931177549258, 'feature_fraction': 0.797704809503482, 'bagging_fraction': 0.6205220636572726, 'bagging_freq': 6, 'num_leaves': 846, 'min_child_samples': 24}. Best is trial 33 with value: -2.0593324398982924.\u001b[0m\n"
     ]
    },
    {
     "name": "stdout",
     "output_type": "stream",
     "text": [
      "Early stopping, best iteration is:\n",
      "[21]\ttraining's l1: 1.88377\tvalid_1's l1: 2.10612\n",
      "[LightGBM] [Warning] feature_fraction is set=0.35980776475084864, colsample_bytree=0.7 will be ignored. Current value: feature_fraction=0.35980776475084864\n",
      "[LightGBM] [Warning] bagging_fraction is set=0.7822887616154964, subsample=0.6 will be ignored. Current value: bagging_fraction=0.7822887616154964\n",
      "[LightGBM] [Warning] bagging_freq is set=4, subsample_freq=0 will be ignored. Current value: bagging_freq=4\n",
      "Training until validation scores don't improve for 100 rounds\n",
      "[100]\ttraining's l1: 1.7372\tvalid_1's l1: 2.1897\n"
     ]
    },
    {
     "name": "stderr",
     "output_type": "stream",
     "text": [
      "\u001b[32m[I 2021-07-31 12:38:50,931]\u001b[0m Trial 36 finished with value: -2.152377596965586 and parameters: {'max_depth': 16, 'min_child_weight': 6, 'subsample': 0.6, 'colsample_bytree': 0.7, 'reg_lambda': 13.421948781254477, 'reg_alpha': 6.573285583481446, 'feature_fraction': 0.35980776475084864, 'bagging_fraction': 0.7822887616154964, 'bagging_freq': 4, 'num_leaves': 329, 'min_child_samples': 39}. Best is trial 33 with value: -2.0593324398982924.\u001b[0m\n"
     ]
    },
    {
     "name": "stdout",
     "output_type": "stream",
     "text": [
      "Early stopping, best iteration is:\n",
      "[16]\ttraining's l1: 2.01018\tvalid_1's l1: 2.15238\n",
      "[LightGBM] [Warning] feature_fraction is set=0.9225534272210539, colsample_bytree=0.6 will be ignored. Current value: feature_fraction=0.9225534272210539\n",
      "[LightGBM] [Warning] bagging_fraction is set=0.5143211942826879, subsample=0.7 will be ignored. Current value: bagging_fraction=0.5143211942826879\n",
      "[LightGBM] [Warning] bagging_freq is set=9, subsample_freq=0 will be ignored. Current value: bagging_freq=9\n",
      "Training until validation scores don't improve for 100 rounds\n",
      "[100]\ttraining's l1: 1.66031\tvalid_1's l1: 2.20176\n"
     ]
    },
    {
     "name": "stderr",
     "output_type": "stream",
     "text": [
      "\u001b[32m[I 2021-07-31 12:39:02,035]\u001b[0m Trial 37 finished with value: -2.065727462504098 and parameters: {'max_depth': 20, 'min_child_weight': 3, 'subsample': 0.7, 'colsample_bytree': 0.6, 'reg_lambda': 0.22668201994214804, 'reg_alpha': 1.4303566751832044, 'feature_fraction': 0.9225534272210539, 'bagging_fraction': 0.5143211942826879, 'bagging_freq': 9, 'num_leaves': 660, 'min_child_samples': 9}. Best is trial 33 with value: -2.0593324398982924.\u001b[0m\n"
     ]
    },
    {
     "name": "stdout",
     "output_type": "stream",
     "text": [
      "Early stopping, best iteration is:\n",
      "[17]\ttraining's l1: 1.85483\tvalid_1's l1: 2.06573\n",
      "[LightGBM] [Warning] feature_fraction is set=0.842650329958146, colsample_bytree=0.5 will be ignored. Current value: feature_fraction=0.842650329958146\n",
      "[LightGBM] [Warning] bagging_fraction is set=0.5194752007353732, subsample=0.7 will be ignored. Current value: bagging_fraction=0.5194752007353732\n",
      "[LightGBM] [Warning] bagging_freq is set=13, subsample_freq=0 will be ignored. Current value: bagging_freq=13\n",
      "Training until validation scores don't improve for 100 rounds\n",
      "[100]\ttraining's l1: 1.6703\tvalid_1's l1: 2.20215\n"
     ]
    },
    {
     "name": "stderr",
     "output_type": "stream",
     "text": [
      "\u001b[32m[I 2021-07-31 12:39:13,075]\u001b[0m Trial 38 finished with value: -2.0942658052899112 and parameters: {'max_depth': 20, 'min_child_weight': 4, 'subsample': 0.7, 'colsample_bytree': 0.5, 'reg_lambda': 0.24787318274457926, 'reg_alpha': 15.914298686831685, 'feature_fraction': 0.842650329958146, 'bagging_fraction': 0.5194752007353732, 'bagging_freq': 13, 'num_leaves': 667, 'min_child_samples': 6}. Best is trial 33 with value: -2.0593324398982924.\u001b[0m\n"
     ]
    },
    {
     "name": "stdout",
     "output_type": "stream",
     "text": [
      "Early stopping, best iteration is:\n",
      "[17]\ttraining's l1: 1.89401\tvalid_1's l1: 2.09427\n",
      "[LightGBM] [Warning] feature_fraction is set=0.9276177541121726, colsample_bytree=0.6 will be ignored. Current value: feature_fraction=0.9276177541121726\n",
      "[LightGBM] [Warning] bagging_fraction is set=0.43742650962810203, subsample=0.7 will be ignored. Current value: bagging_fraction=0.43742650962810203\n",
      "[LightGBM] [Warning] bagging_freq is set=11, subsample_freq=0 will be ignored. Current value: bagging_freq=11\n",
      "Training until validation scores don't improve for 100 rounds\n",
      "[100]\ttraining's l1: 1.64617\tvalid_1's l1: 2.21302\n"
     ]
    },
    {
     "name": "stderr",
     "output_type": "stream",
     "text": [
      "\u001b[32m[I 2021-07-31 12:39:23,636]\u001b[0m Trial 39 finished with value: -2.0688318659472342 and parameters: {'max_depth': 19, 'min_child_weight': 2, 'subsample': 0.7, 'colsample_bytree': 0.6, 'reg_lambda': 0.6812074885478374, 'reg_alpha': 1.6102427384519329, 'feature_fraction': 0.9276177541121726, 'bagging_fraction': 0.43742650962810203, 'bagging_freq': 11, 'num_leaves': 788, 'min_child_samples': 11}. Best is trial 33 with value: -2.0593324398982924.\u001b[0m\n"
     ]
    },
    {
     "name": "stdout",
     "output_type": "stream",
     "text": [
      "Early stopping, best iteration is:\n",
      "[17]\ttraining's l1: 1.84852\tvalid_1's l1: 2.06883\n",
      "[LightGBM] [Warning] feature_fraction is set=0.7441797247235509, colsample_bytree=0.7 will be ignored. Current value: feature_fraction=0.7441797247235509\n",
      "[LightGBM] [Warning] bagging_fraction is set=0.5993953678104199, subsample=0.7 will be ignored. Current value: bagging_fraction=0.5993953678104199\n",
      "[LightGBM] [Warning] bagging_freq is set=10, subsample_freq=0 will be ignored. Current value: bagging_freq=10\n",
      "Training until validation scores don't improve for 100 rounds\n",
      "[100]\ttraining's l1: 1.68383\tvalid_1's l1: 2.1911\n"
     ]
    },
    {
     "name": "stderr",
     "output_type": "stream",
     "text": [
      "\u001b[32m[I 2021-07-31 12:39:32,027]\u001b[0m Trial 40 finished with value: -2.109273485564944 and parameters: {'max_depth': 20, 'min_child_weight': 3, 'subsample': 0.7, 'colsample_bytree': 0.7, 'reg_lambda': 2.1906395587627414, 'reg_alpha': 1.6174029788951025, 'feature_fraction': 0.7441797247235509, 'bagging_fraction': 0.5993953678104199, 'bagging_freq': 10, 'num_leaves': 524, 'min_child_samples': 28}. Best is trial 33 with value: -2.0593324398982924.\u001b[0m\n"
     ]
    },
    {
     "name": "stdout",
     "output_type": "stream",
     "text": [
      "Early stopping, best iteration is:\n",
      "[17]\ttraining's l1: 1.8988\tvalid_1's l1: 2.10927\n",
      "[LightGBM] [Warning] feature_fraction is set=0.9701151256689148, colsample_bytree=0.7 will be ignored. Current value: feature_fraction=0.9701151256689148\n",
      "[LightGBM] [Warning] bagging_fraction is set=0.5353937197774237, subsample=0.8 will be ignored. Current value: bagging_fraction=0.5353937197774237\n",
      "[LightGBM] [Warning] bagging_freq is set=16, subsample_freq=0 will be ignored. Current value: bagging_freq=16\n",
      "Training until validation scores don't improve for 100 rounds\n",
      "[100]\ttraining's l1: 1.66683\tvalid_1's l1: 2.20802\n"
     ]
    },
    {
     "name": "stderr",
     "output_type": "stream",
     "text": [
      "\u001b[32m[I 2021-07-31 12:39:42,676]\u001b[0m Trial 41 finished with value: -2.0648510624667056 and parameters: {'max_depth': 18, 'min_child_weight': 6, 'subsample': 0.8, 'colsample_bytree': 0.7, 'reg_lambda': 0.14062389669573314, 'reg_alpha': 1.857350839885125, 'feature_fraction': 0.9701151256689148, 'bagging_fraction': 0.5353937197774237, 'bagging_freq': 16, 'num_leaves': 619, 'min_child_samples': 20}. Best is trial 33 with value: -2.0593324398982924.\u001b[0m\n"
     ]
    },
    {
     "name": "stdout",
     "output_type": "stream",
     "text": [
      "Early stopping, best iteration is:\n",
      "[18]\ttraining's l1: 1.84435\tvalid_1's l1: 2.06485\n",
      "[LightGBM] [Warning] feature_fraction is set=0.9118924199197602, colsample_bytree=0.7 will be ignored. Current value: feature_fraction=0.9118924199197602\n",
      "[LightGBM] [Warning] bagging_fraction is set=0.6418644740657822, subsample=0.8 will be ignored. Current value: bagging_fraction=0.6418644740657822\n",
      "[LightGBM] [Warning] bagging_freq is set=17, subsample_freq=0 will be ignored. Current value: bagging_freq=17\n",
      "Training until validation scores don't improve for 100 rounds\n",
      "[100]\ttraining's l1: 1.66688\tvalid_1's l1: 2.19218\n"
     ]
    },
    {
     "name": "stderr",
     "output_type": "stream",
     "text": [
      "\u001b[32m[I 2021-07-31 12:39:52,526]\u001b[0m Trial 42 finished with value: -2.0666616631477703 and parameters: {'max_depth': 18, 'min_child_weight': 6, 'subsample': 0.8, 'colsample_bytree': 0.7, 'reg_lambda': 0.06348824301981484, 'reg_alpha': 7.813898643146256, 'feature_fraction': 0.9118924199197602, 'bagging_fraction': 0.6418644740657822, 'bagging_freq': 17, 'num_leaves': 636, 'min_child_samples': 20}. Best is trial 33 with value: -2.0593324398982924.\u001b[0m\n"
     ]
    },
    {
     "name": "stdout",
     "output_type": "stream",
     "text": [
      "Early stopping, best iteration is:\n",
      "[17]\ttraining's l1: 1.86072\tvalid_1's l1: 2.06666\n",
      "[LightGBM] [Warning] feature_fraction is set=0.9559705732645181, colsample_bytree=0.6 will be ignored. Current value: feature_fraction=0.9559705732645181\n",
      "[LightGBM] [Warning] bagging_fraction is set=0.5409716062235949, subsample=0.8 will be ignored. Current value: bagging_fraction=0.5409716062235949\n",
      "[LightGBM] [Warning] bagging_freq is set=16, subsample_freq=0 will be ignored. Current value: bagging_freq=16\n",
      "Training until validation scores don't improve for 100 rounds\n",
      "[100]\ttraining's l1: 1.65108\tvalid_1's l1: 2.20088\n"
     ]
    },
    {
     "name": "stderr",
     "output_type": "stream",
     "text": [
      "\u001b[32m[I 2021-07-31 12:40:04,530]\u001b[0m Trial 43 finished with value: -2.0679227020136004 and parameters: {'max_depth': 19, 'min_child_weight': 4, 'subsample': 0.8, 'colsample_bytree': 0.6, 'reg_lambda': 0.1457639131834412, 'reg_alpha': 1.720185079484569, 'feature_fraction': 0.9559705732645181, 'bagging_fraction': 0.5409716062235949, 'bagging_freq': 16, 'num_leaves': 760, 'min_child_samples': 13}. Best is trial 33 with value: -2.0593324398982924.\u001b[0m\n"
     ]
    },
    {
     "name": "stdout",
     "output_type": "stream",
     "text": [
      "Early stopping, best iteration is:\n",
      "[19]\ttraining's l1: 1.81775\tvalid_1's l1: 2.06792\n",
      "[LightGBM] [Warning] feature_fraction is set=0.9986315823125528, colsample_bytree=0.7 will be ignored. Current value: feature_fraction=0.9986315823125528\n",
      "[LightGBM] [Warning] bagging_fraction is set=0.5000624939456597, subsample=0.7 will be ignored. Current value: bagging_fraction=0.5000624939456597\n",
      "[LightGBM] [Warning] bagging_freq is set=20, subsample_freq=0 will be ignored. Current value: bagging_freq=20\n",
      "Training until validation scores don't improve for 100 rounds\n",
      "[100]\ttraining's l1: 1.68605\tvalid_1's l1: 2.16169\n"
     ]
    },
    {
     "name": "stderr",
     "output_type": "stream",
     "text": [
      "\u001b[32m[I 2021-07-31 12:40:14,469]\u001b[0m Trial 44 finished with value: -2.0715865791454666 and parameters: {'max_depth': 17, 'min_child_weight': 7, 'subsample': 0.7, 'colsample_bytree': 0.7, 'reg_lambda': 0.28408555495464816, 'reg_alpha': 26.21862821568501, 'feature_fraction': 0.9986315823125528, 'bagging_fraction': 0.5000624939456597, 'bagging_freq': 20, 'num_leaves': 585, 'min_child_samples': 24}. Best is trial 33 with value: -2.0593324398982924.\u001b[0m\n"
     ]
    },
    {
     "name": "stdout",
     "output_type": "stream",
     "text": [
      "Early stopping, best iteration is:\n",
      "[17]\ttraining's l1: 1.89077\tvalid_1's l1: 2.07159\n",
      "[LightGBM] [Warning] feature_fraction is set=0.803368275514411, colsample_bytree=0.7 will be ignored. Current value: feature_fraction=0.803368275514411\n",
      "[LightGBM] [Warning] bagging_fraction is set=0.5867044773019044, subsample=0.6 will be ignored. Current value: bagging_fraction=0.5867044773019044\n",
      "[LightGBM] [Warning] bagging_freq is set=9, subsample_freq=0 will be ignored. Current value: bagging_freq=9\n",
      "Training until validation scores don't improve for 100 rounds\n",
      "[100]\ttraining's l1: 1.66117\tvalid_1's l1: 2.22034\n"
     ]
    },
    {
     "name": "stderr",
     "output_type": "stream",
     "text": [
      "\u001b[32m[I 2021-07-31 12:40:24,171]\u001b[0m Trial 45 finished with value: -2.0904270306769575 and parameters: {'max_depth': 16, 'min_child_weight': 5, 'subsample': 0.6, 'colsample_bytree': 0.7, 'reg_lambda': 0.10856416054874811, 'reg_alpha': 0.6257629692058949, 'feature_fraction': 0.803368275514411, 'bagging_fraction': 0.5867044773019044, 'bagging_freq': 9, 'num_leaves': 708, 'min_child_samples': 16}. Best is trial 33 with value: -2.0593324398982924.\u001b[0m\n"
     ]
    },
    {
     "name": "stdout",
     "output_type": "stream",
     "text": [
      "Early stopping, best iteration is:\n",
      "[15]\ttraining's l1: 1.90524\tvalid_1's l1: 2.09043\n",
      "[LightGBM] [Warning] feature_fraction is set=0.8553500795729747, colsample_bytree=0.5 will be ignored. Current value: feature_fraction=0.8553500795729747\n",
      "[LightGBM] [Warning] bagging_fraction is set=0.6550224844351048, subsample=0.8 will be ignored. Current value: bagging_fraction=0.6550224844351048\n",
      "[LightGBM] [Warning] bagging_freq is set=12, subsample_freq=0 will be ignored. Current value: bagging_freq=12\n",
      "Training until validation scores don't improve for 100 rounds\n",
      "[100]\ttraining's l1: 1.68917\tvalid_1's l1: 2.18302\n"
     ]
    },
    {
     "name": "stderr",
     "output_type": "stream",
     "text": [
      "\u001b[32m[I 2021-07-31 12:40:33,673]\u001b[0m Trial 46 finished with value: -2.073972907620455 and parameters: {'max_depth': 18, 'min_child_weight': 2, 'subsample': 0.8, 'colsample_bytree': 0.5, 'reg_lambda': 0.036344815736162855, 'reg_alpha': 3.747892897483063, 'feature_fraction': 0.8553500795729747, 'bagging_fraction': 0.6550224844351048, 'bagging_freq': 12, 'num_leaves': 449, 'min_child_samples': 10}. Best is trial 33 with value: -2.0593324398982924.\u001b[0m\n"
     ]
    },
    {
     "name": "stdout",
     "output_type": "stream",
     "text": [
      "Early stopping, best iteration is:\n",
      "[16]\ttraining's l1: 1.90352\tvalid_1's l1: 2.07397\n",
      "[LightGBM] [Warning] feature_fraction is set=0.9177953355346329, colsample_bytree=0.6 will be ignored. Current value: feature_fraction=0.9177953355346329\n",
      "[LightGBM] [Warning] bagging_fraction is set=0.4426840252195676, subsample=0.6 will be ignored. Current value: bagging_fraction=0.4426840252195676\n",
      "[LightGBM] [Warning] bagging_freq is set=18, subsample_freq=0 will be ignored. Current value: bagging_freq=18\n",
      "Training until validation scores don't improve for 100 rounds\n",
      "[100]\ttraining's l1: 2.06665\tvalid_1's l1: 2.23274\n",
      "[200]\ttraining's l1: 2.02903\tvalid_1's l1: 2.1977\n",
      "[300]\ttraining's l1: 2.00456\tvalid_1's l1: 2.19129\n",
      "[400]\ttraining's l1: 1.99328\tvalid_1's l1: 2.18861\n"
     ]
    },
    {
     "name": "stderr",
     "output_type": "stream",
     "text": [
      "\u001b[32m[I 2021-07-31 12:40:40,197]\u001b[0m Trial 47 finished with value: -2.177778627969098 and parameters: {'max_depth': 2, 'min_child_weight': 3, 'subsample': 0.6, 'colsample_bytree': 0.6, 'reg_lambda': 1.0361629654171074, 'reg_alpha': 1.102390060369233, 'feature_fraction': 0.9177953355346329, 'bagging_fraction': 0.4426840252195676, 'bagging_freq': 18, 'num_leaves': 937, 'min_child_samples': 30}. Best is trial 33 with value: -2.0593324398982924.\u001b[0m\n"
     ]
    },
    {
     "name": "stdout",
     "output_type": "stream",
     "text": [
      "Early stopping, best iteration is:\n",
      "[324]\ttraining's l1: 2.00166\tvalid_1's l1: 2.18377\n",
      "[LightGBM] [Warning] feature_fraction is set=0.9626957789659933, colsample_bytree=0.7 will be ignored. Current value: feature_fraction=0.9626957789659933\n",
      "[LightGBM] [Warning] bagging_fraction is set=0.5560204270657816, subsample=0.7 will be ignored. Current value: bagging_fraction=0.5560204270657816\n",
      "[LightGBM] [Warning] bagging_freq is set=2, subsample_freq=0 will be ignored. Current value: bagging_freq=2\n",
      "Training until validation scores don't improve for 100 rounds\n",
      "[100]\ttraining's l1: 1.85934\tvalid_1's l1: 2.14838\n"
     ]
    },
    {
     "name": "stderr",
     "output_type": "stream",
     "text": [
      "\u001b[32m[I 2021-07-31 12:40:45,945]\u001b[0m Trial 48 finished with value: -2.1359520598417214 and parameters: {'max_depth': 6, 'min_child_weight': 9, 'subsample': 0.7, 'colsample_bytree': 0.7, 'reg_lambda': 2.1975063882565324, 'reg_alpha': 70.46957975435733, 'feature_fraction': 0.9626957789659933, 'bagging_fraction': 0.5560204270657816, 'bagging_freq': 2, 'num_leaves': 633, 'min_child_samples': 21}. Best is trial 33 with value: -2.0593324398982924.\u001b[0m\n"
     ]
    },
    {
     "name": "stdout",
     "output_type": "stream",
     "text": [
      "Early stopping, best iteration is:\n",
      "[26]\ttraining's l1: 1.95656\tvalid_1's l1: 2.13595\n",
      "[LightGBM] [Warning] feature_fraction is set=0.7661385594644755, colsample_bytree=0.6 will be ignored. Current value: feature_fraction=0.7661385594644755\n",
      "[LightGBM] [Warning] bagging_fraction is set=0.627046800749122, subsample=0.6 will be ignored. Current value: bagging_fraction=0.627046800749122\n",
      "[LightGBM] [Warning] bagging_freq is set=9, subsample_freq=0 will be ignored. Current value: bagging_freq=9\n",
      "Training until validation scores don't improve for 100 rounds\n",
      "[100]\ttraining's l1: 1.68057\tvalid_1's l1: 2.18931\n"
     ]
    },
    {
     "name": "stderr",
     "output_type": "stream",
     "text": [
      "\u001b[32m[I 2021-07-31 12:40:54,652]\u001b[0m Trial 49 finished with value: -2.0956076445464493 and parameters: {'max_depth': 20, 'min_child_weight': 7, 'subsample': 0.6, 'colsample_bytree': 0.6, 'reg_lambda': 0.15375380599463928, 'reg_alpha': 15.156778847123329, 'feature_fraction': 0.7661385594644755, 'bagging_fraction': 0.627046800749122, 'bagging_freq': 9, 'num_leaves': 539, 'min_child_samples': 27}. Best is trial 33 with value: -2.0593324398982924.\u001b[0m\n"
     ]
    },
    {
     "name": "stdout",
     "output_type": "stream",
     "text": [
      "Early stopping, best iteration is:\n",
      "[17]\ttraining's l1: 1.90495\tvalid_1's l1: 2.09561\n",
      "[LightGBM] [Warning] feature_fraction is set=0.8908219287714324, colsample_bytree=0.7 will be ignored. Current value: feature_fraction=0.8908219287714324\n",
      "[LightGBM] [Warning] bagging_fraction is set=0.3851627473471915, subsample=0.7 will be ignored. Current value: bagging_fraction=0.3851627473471915\n",
      "[LightGBM] [Warning] bagging_freq is set=15, subsample_freq=0 will be ignored. Current value: bagging_freq=15\n",
      "Training until validation scores don't improve for 100 rounds\n",
      "[100]\ttraining's l1: 1.78861\tvalid_1's l1: 2.16861\n"
     ]
    },
    {
     "name": "stderr",
     "output_type": "stream",
     "text": [
      "\u001b[32m[I 2021-07-31 12:40:59,712]\u001b[0m Trial 50 finished with value: -2.1295185197092934 and parameters: {'max_depth': 17, 'min_child_weight': 5, 'subsample': 0.7, 'colsample_bytree': 0.7, 'reg_lambda': 0.05248859947955978, 'reg_alpha': 169.76143604664693, 'feature_fraction': 0.8908219287714324, 'bagging_fraction': 0.3851627473471915, 'bagging_freq': 15, 'num_leaves': 493, 'min_child_samples': 34}. Best is trial 33 with value: -2.0593324398982924.\u001b[0m\n"
     ]
    },
    {
     "name": "stdout",
     "output_type": "stream",
     "text": [
      "Early stopping, best iteration is:\n",
      "[19]\ttraining's l1: 1.97104\tvalid_1's l1: 2.12952\n",
      "[LightGBM] [Warning] feature_fraction is set=0.9705986693316769, colsample_bytree=0.7 will be ignored. Current value: feature_fraction=0.9705986693316769\n",
      "[LightGBM] [Warning] bagging_fraction is set=0.4544133753084337, subsample=0.6 will be ignored. Current value: bagging_fraction=0.4544133753084337\n",
      "[LightGBM] [Warning] bagging_freq is set=5, subsample_freq=0 will be ignored. Current value: bagging_freq=5\n",
      "Training until validation scores don't improve for 100 rounds\n",
      "[100]\ttraining's l1: 1.69971\tvalid_1's l1: 2.15783\n"
     ]
    },
    {
     "name": "stderr",
     "output_type": "stream",
     "text": [
      "\u001b[32m[I 2021-07-31 12:41:08,413]\u001b[0m Trial 51 finished with value: -2.0674568114190666 and parameters: {'max_depth': 15, 'min_child_weight': 8, 'subsample': 0.6, 'colsample_bytree': 0.7, 'reg_lambda': 0.5014823559949787, 'reg_alpha': 0.2068619779008448, 'feature_fraction': 0.9705986693316769, 'bagging_fraction': 0.4544133753084337, 'bagging_freq': 5, 'num_leaves': 432, 'min_child_samples': 41}. Best is trial 33 with value: -2.0593324398982924.\u001b[0m\n"
     ]
    },
    {
     "name": "stdout",
     "output_type": "stream",
     "text": [
      "Early stopping, best iteration is:\n",
      "[19]\ttraining's l1: 1.85254\tvalid_1's l1: 2.06746\n",
      "[LightGBM] [Warning] feature_fraction is set=0.9979509689821844, colsample_bytree=0.6 will be ignored. Current value: feature_fraction=0.9979509689821844\n",
      "[LightGBM] [Warning] bagging_fraction is set=0.71094613126621, subsample=0.6 will be ignored. Current value: bagging_fraction=0.71094613126621\n",
      "[LightGBM] [Warning] bagging_freq is set=6, subsample_freq=0 will be ignored. Current value: bagging_freq=6\n",
      "Training until validation scores don't improve for 100 rounds\n",
      "[100]\ttraining's l1: 1.67651\tvalid_1's l1: 2.17328\n"
     ]
    },
    {
     "name": "stderr",
     "output_type": "stream",
     "text": [
      "\u001b[32m[I 2021-07-31 12:41:20,325]\u001b[0m Trial 52 finished with value: -2.071329811957242 and parameters: {'max_depth': 19, 'min_child_weight': 12, 'subsample': 0.6, 'colsample_bytree': 0.6, 'reg_lambda': 25.277721787334247, 'reg_alpha': 1.0817003217953196, 'feature_fraction': 0.9979509689821844, 'bagging_fraction': 0.71094613126621, 'bagging_freq': 6, 'num_leaves': 583, 'min_child_samples': 47}. Best is trial 33 with value: -2.0593324398982924.\u001b[0m\n"
     ]
    },
    {
     "name": "stdout",
     "output_type": "stream",
     "text": [
      "Early stopping, best iteration is:\n",
      "[19]\ttraining's l1: 1.83914\tvalid_1's l1: 2.07133\n",
      "[LightGBM] [Warning] feature_fraction is set=0.9329200889500237, colsample_bytree=0.7 will be ignored. Current value: feature_fraction=0.9329200889500237\n",
      "[LightGBM] [Warning] bagging_fraction is set=0.9897527628590221, subsample=0.7 will be ignored. Current value: bagging_fraction=0.9897527628590221\n",
      "[LightGBM] [Warning] bagging_freq is set=4, subsample_freq=0 will be ignored. Current value: bagging_freq=4\n",
      "Training until validation scores don't improve for 100 rounds\n",
      "[100]\ttraining's l1: 1.65635\tvalid_1's l1: 2.1912\n"
     ]
    },
    {
     "name": "stderr",
     "output_type": "stream",
     "text": [
      "\u001b[32m[I 2021-07-31 12:41:32,968]\u001b[0m Trial 53 finished with value: -2.059239291972694 and parameters: {'max_depth': 16, 'min_child_weight': 6, 'subsample': 0.7, 'colsample_bytree': 0.7, 'reg_lambda': 0.2916811874526617, 'reg_alpha': 2.107585945412449, 'feature_fraction': 0.9329200889500237, 'bagging_fraction': 0.9897527628590221, 'bagging_freq': 4, 'num_leaves': 719, 'min_child_samples': 57}. Best is trial 53 with value: -2.059239291972694.\u001b[0m\n"
     ]
    },
    {
     "name": "stdout",
     "output_type": "stream",
     "text": [
      "Early stopping, best iteration is:\n",
      "[18]\ttraining's l1: 1.82775\tvalid_1's l1: 2.05924\n",
      "[LightGBM] [Warning] feature_fraction is set=0.9334072718563006, colsample_bytree=0.7 will be ignored. Current value: feature_fraction=0.9334072718563006\n",
      "[LightGBM] [Warning] bagging_fraction is set=0.5329745593597524, subsample=0.7 will be ignored. Current value: bagging_fraction=0.5329745593597524\n",
      "[LightGBM] [Warning] bagging_freq is set=2, subsample_freq=0 will be ignored. Current value: bagging_freq=2\n",
      "Training until validation scores don't improve for 100 rounds\n",
      "[100]\ttraining's l1: 1.65898\tvalid_1's l1: 2.17393\n"
     ]
    },
    {
     "name": "stderr",
     "output_type": "stream",
     "text": [
      "\u001b[32m[I 2021-07-31 12:41:43,404]\u001b[0m Trial 54 finished with value: -2.063102148440282 and parameters: {'max_depth': 16, 'min_child_weight': 6, 'subsample': 0.7, 'colsample_bytree': 0.7, 'reg_lambda': 0.09571335129636174, 'reg_alpha': 1.9939608513376672, 'feature_fraction': 0.9334072718563006, 'bagging_fraction': 0.5329745593597524, 'bagging_freq': 2, 'num_leaves': 726, 'min_child_samples': 61}. Best is trial 53 with value: -2.059239291972694.\u001b[0m\n"
     ]
    },
    {
     "name": "stdout",
     "output_type": "stream",
     "text": [
      "Early stopping, best iteration is:\n",
      "[17]\ttraining's l1: 1.84743\tvalid_1's l1: 2.0631\n",
      "[LightGBM] [Warning] feature_fraction is set=0.5488910488669351, colsample_bytree=0.7 will be ignored. Current value: feature_fraction=0.5488910488669351\n",
      "[LightGBM] [Warning] bagging_fraction is set=0.22240703320257793, subsample=0.7 will be ignored. Current value: bagging_fraction=0.22240703320257793\n",
      "[LightGBM] [Warning] bagging_freq is set=1, subsample_freq=0 will be ignored. Current value: bagging_freq=1\n",
      "Training until validation scores don't improve for 100 rounds\n",
      "[100]\ttraining's l1: 1.6991\tvalid_1's l1: 2.2105\n"
     ]
    },
    {
     "name": "stderr",
     "output_type": "stream",
     "text": [
      "\u001b[32m[I 2021-07-31 12:41:51,611]\u001b[0m Trial 55 finished with value: -2.121910822545346 and parameters: {'max_depth': 16, 'min_child_weight': 6, 'subsample': 0.7, 'colsample_bytree': 0.7, 'reg_lambda': 0.09380152635747452, 'reg_alpha': 2.6666482143389696, 'feature_fraction': 0.5488910488669351, 'bagging_fraction': 0.22240703320257793, 'bagging_freq': 1, 'num_leaves': 802, 'min_child_samples': 62}. Best is trial 53 with value: -2.059239291972694.\u001b[0m\n"
     ]
    },
    {
     "name": "stdout",
     "output_type": "stream",
     "text": [
      "Early stopping, best iteration is:\n",
      "[18]\ttraining's l1: 1.90276\tvalid_1's l1: 2.12191\n",
      "[LightGBM] [Warning] feature_fraction is set=0.8672894033350877, colsample_bytree=0.7 will be ignored. Current value: feature_fraction=0.8672894033350877\n",
      "[LightGBM] [Warning] bagging_fraction is set=0.948496325610618, subsample=0.8 will be ignored. Current value: bagging_fraction=0.948496325610618\n",
      "[LightGBM] [Warning] bagging_freq is set=2, subsample_freq=0 will be ignored. Current value: bagging_freq=2\n",
      "Training until validation scores don't improve for 100 rounds\n",
      "[100]\ttraining's l1: 1.63683\tvalid_1's l1: 2.1975\n"
     ]
    },
    {
     "name": "stderr",
     "output_type": "stream",
     "text": [
      "\u001b[32m[I 2021-07-31 12:42:08,114]\u001b[0m Trial 56 finished with value: -2.0602452335495407 and parameters: {'max_depth': 17, 'min_child_weight': 9, 'subsample': 0.8, 'colsample_bytree': 0.7, 'reg_lambda': 0.653212521622466, 'reg_alpha': 5.2542802942677715, 'feature_fraction': 0.8672894033350877, 'bagging_fraction': 0.948496325610618, 'bagging_freq': 2, 'num_leaves': 908, 'min_child_samples': 56}. Best is trial 53 with value: -2.059239291972694.\u001b[0m\n"
     ]
    },
    {
     "name": "stdout",
     "output_type": "stream",
     "text": [
      "Early stopping, best iteration is:\n",
      "[17]\ttraining's l1: 1.83556\tvalid_1's l1: 2.06025\n",
      "[LightGBM] [Warning] feature_fraction is set=0.8610894875826266, colsample_bytree=0.8 will be ignored. Current value: feature_fraction=0.8610894875826266\n",
      "[LightGBM] [Warning] bagging_fraction is set=0.9746275942675695, subsample=0.6 will be ignored. Current value: bagging_fraction=0.9746275942675695\n",
      "[LightGBM] [Warning] bagging_freq is set=2, subsample_freq=0 will be ignored. Current value: bagging_freq=2\n",
      "Training until validation scores don't improve for 100 rounds\n",
      "[100]\ttraining's l1: 1.65836\tvalid_1's l1: 2.16708\n"
     ]
    },
    {
     "name": "stderr",
     "output_type": "stream",
     "text": [
      "\u001b[32m[I 2021-07-31 12:42:20,325]\u001b[0m Trial 57 finished with value: -2.071485493362334 and parameters: {'max_depth': 12, 'min_child_weight': 9, 'subsample': 0.6, 'colsample_bytree': 0.8, 'reg_lambda': 0.39395616329488153, 'reg_alpha': 4.727086380730286, 'feature_fraction': 0.8610894875826266, 'bagging_fraction': 0.9746275942675695, 'bagging_freq': 2, 'num_leaves': 994, 'min_child_samples': 56}. Best is trial 53 with value: -2.059239291972694.\u001b[0m\n"
     ]
    },
    {
     "name": "stdout",
     "output_type": "stream",
     "text": [
      "Early stopping, best iteration is:\n",
      "[17]\ttraining's l1: 1.85352\tvalid_1's l1: 2.07149\n",
      "[LightGBM] [Warning] feature_fraction is set=0.8340910104243584, colsample_bytree=0.7 will be ignored. Current value: feature_fraction=0.8340910104243584\n",
      "[LightGBM] [Warning] bagging_fraction is set=0.9365890416821264, subsample=0.7 will be ignored. Current value: bagging_fraction=0.9365890416821264\n",
      "[LightGBM] [Warning] bagging_freq is set=4, subsample_freq=0 will be ignored. Current value: bagging_freq=4\n",
      "Training until validation scores don't improve for 100 rounds\n",
      "[100]\ttraining's l1: 1.63894\tvalid_1's l1: 2.18998\n"
     ]
    },
    {
     "name": "stderr",
     "output_type": "stream",
     "text": [
      "\u001b[32m[I 2021-07-31 12:42:32,985]\u001b[0m Trial 58 finished with value: -2.0800708457813095 and parameters: {'max_depth': 15, 'min_child_weight': 8, 'subsample': 0.7, 'colsample_bytree': 0.7, 'reg_lambda': 0.8780599860028557, 'reg_alpha': 7.711540394130428, 'feature_fraction': 0.8340910104243584, 'bagging_fraction': 0.9365890416821264, 'bagging_freq': 4, 'num_leaves': 938, 'min_child_samples': 63}. Best is trial 53 with value: -2.059239291972694.\u001b[0m\n"
     ]
    },
    {
     "name": "stdout",
     "output_type": "stream",
     "text": [
      "Early stopping, best iteration is:\n",
      "[17]\ttraining's l1: 1.85607\tvalid_1's l1: 2.08007\n",
      "[LightGBM] [Warning] feature_fraction is set=0.7099531839961453, colsample_bytree=0.7 will be ignored. Current value: feature_fraction=0.7099531839961453\n",
      "[LightGBM] [Warning] bagging_fraction is set=0.9072872825420385, subsample=0.8 will be ignored. Current value: bagging_fraction=0.9072872825420385\n",
      "[LightGBM] [Warning] bagging_freq is set=2, subsample_freq=0 will be ignored. Current value: bagging_freq=2\n",
      "Training until validation scores don't improve for 100 rounds\n",
      "[100]\ttraining's l1: 1.65918\tvalid_1's l1: 2.18483\n"
     ]
    },
    {
     "name": "stderr",
     "output_type": "stream",
     "text": [
      "\u001b[32m[I 2021-07-31 12:42:44,729]\u001b[0m Trial 59 finished with value: -2.109831649586793 and parameters: {'max_depth': 16, 'min_child_weight': 7, 'subsample': 0.8, 'colsample_bytree': 0.7, 'reg_lambda': 1.5268226215643288, 'reg_alpha': 28.782964570083205, 'feature_fraction': 0.7099531839961453, 'bagging_fraction': 0.9072872825420385, 'bagging_freq': 2, 'num_leaves': 870, 'min_child_samples': 77}. Best is trial 53 with value: -2.059239291972694.\u001b[0m\n"
     ]
    },
    {
     "name": "stdout",
     "output_type": "stream",
     "text": [
      "Early stopping, best iteration is:\n",
      "[18]\ttraining's l1: 1.89353\tvalid_1's l1: 2.10983\n",
      "[LightGBM] [Warning] feature_fraction is set=0.9007205329255471, colsample_bytree=0.8 will be ignored. Current value: feature_fraction=0.9007205329255471\n",
      "[LightGBM] [Warning] bagging_fraction is set=0.8570344445173352, subsample=0.9 will be ignored. Current value: bagging_fraction=0.8570344445173352\n",
      "[LightGBM] [Warning] bagging_freq is set=3, subsample_freq=0 will be ignored. Current value: bagging_freq=3\n",
      "Training until validation scores don't improve for 100 rounds\n",
      "[100]\ttraining's l1: 1.65589\tvalid_1's l1: 2.17124\n"
     ]
    },
    {
     "name": "stderr",
     "output_type": "stream",
     "text": [
      "\u001b[32m[I 2021-07-31 12:42:58,375]\u001b[0m Trial 60 finished with value: -2.0587296570422384 and parameters: {'max_depth': 17, 'min_child_weight': 5, 'subsample': 0.9, 'colsample_bytree': 0.8, 'reg_lambda': 3.0662259272840258, 'reg_alpha': 0.7691541714326139, 'feature_fraction': 0.9007205329255471, 'bagging_fraction': 0.8570344445173352, 'bagging_freq': 3, 'num_leaves': 716, 'min_child_samples': 56}. Best is trial 60 with value: -2.0587296570422384.\u001b[0m\n"
     ]
    },
    {
     "name": "stdout",
     "output_type": "stream",
     "text": [
      "Early stopping, best iteration is:\n",
      "[16]\ttraining's l1: 1.86675\tvalid_1's l1: 2.05873\n",
      "[LightGBM] [Warning] feature_fraction is set=0.8994271838242696, colsample_bytree=0.8 will be ignored. Current value: feature_fraction=0.8994271838242696\n",
      "[LightGBM] [Warning] bagging_fraction is set=0.9737698721742889, subsample=0.9 will be ignored. Current value: bagging_fraction=0.9737698721742889\n",
      "[LightGBM] [Warning] bagging_freq is set=3, subsample_freq=0 will be ignored. Current value: bagging_freq=3\n",
      "Training until validation scores don't improve for 100 rounds\n",
      "[100]\ttraining's l1: 1.65513\tvalid_1's l1: 2.19053\n"
     ]
    },
    {
     "name": "stderr",
     "output_type": "stream",
     "text": [
      "\u001b[32m[I 2021-07-31 12:43:12,846]\u001b[0m Trial 61 finished with value: -2.0624458259480334 and parameters: {'max_depth': 17, 'min_child_weight': 5, 'subsample': 0.9, 'colsample_bytree': 0.8, 'reg_lambda': 3.2959215760055156, 'reg_alpha': 0.8310190680364032, 'feature_fraction': 0.8994271838242696, 'bagging_fraction': 0.9737698721742889, 'bagging_freq': 3, 'num_leaves': 744, 'min_child_samples': 56}. Best is trial 60 with value: -2.0587296570422384.\u001b[0m\n"
     ]
    },
    {
     "name": "stdout",
     "output_type": "stream",
     "text": [
      "Early stopping, best iteration is:\n",
      "[17]\ttraining's l1: 1.84442\tvalid_1's l1: 2.06245\n",
      "[LightGBM] [Warning] feature_fraction is set=0.9012250532898812, colsample_bytree=0.8 will be ignored. Current value: feature_fraction=0.9012250532898812\n",
      "[LightGBM] [Warning] bagging_fraction is set=0.9600213104742423, subsample=0.9 will be ignored. Current value: bagging_fraction=0.9600213104742423\n",
      "[LightGBM] [Warning] bagging_freq is set=3, subsample_freq=0 will be ignored. Current value: bagging_freq=3\n",
      "Training until validation scores don't improve for 100 rounds\n",
      "[100]\ttraining's l1: 1.64246\tvalid_1's l1: 2.19805\n"
     ]
    },
    {
     "name": "stderr",
     "output_type": "stream",
     "text": [
      "\u001b[32m[I 2021-07-31 12:43:27,919]\u001b[0m Trial 62 finished with value: -2.0624909915893217 and parameters: {'max_depth': 17, 'min_child_weight': 4, 'subsample': 0.9, 'colsample_bytree': 0.8, 'reg_lambda': 3.2496577673498774, 'reg_alpha': 0.7491379654190483, 'feature_fraction': 0.9012250532898812, 'bagging_fraction': 0.9600213104742423, 'bagging_freq': 3, 'num_leaves': 831, 'min_child_samples': 55}. Best is trial 60 with value: -2.0587296570422384.\u001b[0m\n"
     ]
    },
    {
     "name": "stdout",
     "output_type": "stream",
     "text": [
      "Early stopping, best iteration is:\n",
      "[18]\ttraining's l1: 1.82224\tvalid_1's l1: 2.06249\n",
      "[LightGBM] [Warning] feature_fraction is set=0.8106689332938752, colsample_bytree=0.8 will be ignored. Current value: feature_fraction=0.8106689332938752\n",
      "[LightGBM] [Warning] bagging_fraction is set=0.9963487680099259, subsample=0.9 will be ignored. Current value: bagging_fraction=0.9963487680099259\n",
      "[LightGBM] [Warning] bagging_freq is set=4, subsample_freq=0 will be ignored. Current value: bagging_freq=4\n",
      "Training until validation scores don't improve for 100 rounds\n",
      "[100]\ttraining's l1: 1.64502\tvalid_1's l1: 2.17535\n"
     ]
    },
    {
     "name": "stderr",
     "output_type": "stream",
     "text": [
      "\u001b[32m[I 2021-07-31 12:43:40,310]\u001b[0m Trial 63 finished with value: -2.078979761468481 and parameters: {'max_depth': 14, 'min_child_weight': 5, 'subsample': 0.9, 'colsample_bytree': 0.8, 'reg_lambda': 12.595885704260953, 'reg_alpha': 0.3211029723966911, 'feature_fraction': 0.8106689332938752, 'bagging_fraction': 0.9963487680099259, 'bagging_freq': 4, 'num_leaves': 891, 'min_child_samples': 66}. Best is trial 60 with value: -2.0587296570422384.\u001b[0m\n"
     ]
    },
    {
     "name": "stdout",
     "output_type": "stream",
     "text": [
      "Early stopping, best iteration is:\n",
      "[17]\ttraining's l1: 1.85465\tvalid_1's l1: 2.07898\n",
      "[LightGBM] [Warning] feature_fraction is set=0.8625595310775944, colsample_bytree=0.8 will be ignored. Current value: feature_fraction=0.8625595310775944\n",
      "[LightGBM] [Warning] bagging_fraction is set=0.8474857297938169, subsample=0.9 will be ignored. Current value: bagging_fraction=0.8474857297938169\n",
      "[LightGBM] [Warning] bagging_freq is set=3, subsample_freq=0 will be ignored. Current value: bagging_freq=3\n",
      "Training until validation scores don't improve for 100 rounds\n",
      "[100]\ttraining's l1: 1.6542\tvalid_1's l1: 2.17909\n"
     ]
    },
    {
     "name": "stderr",
     "output_type": "stream",
     "text": [
      "\u001b[32m[I 2021-07-31 12:43:51,808]\u001b[0m Trial 64 finished with value: -2.078372037142092 and parameters: {'max_depth': 17, 'min_child_weight': 9, 'subsample': 0.9, 'colsample_bytree': 0.8, 'reg_lambda': 0.6559251374568349, 'reg_alpha': 10.824288166463894, 'feature_fraction': 0.8625595310775944, 'bagging_fraction': 0.8474857297938169, 'bagging_freq': 3, 'num_leaves': 740, 'min_child_samples': 58}. Best is trial 60 with value: -2.0587296570422384.\u001b[0m\n"
     ]
    },
    {
     "name": "stdout",
     "output_type": "stream",
     "text": [
      "Early stopping, best iteration is:\n",
      "[16]\ttraining's l1: 1.88249\tvalid_1's l1: 2.07837\n",
      "[LightGBM] [Warning] feature_fraction is set=0.878095520911718, colsample_bytree=0.8 will be ignored. Current value: feature_fraction=0.878095520911718\n",
      "[LightGBM] [Warning] bagging_fraction is set=0.9216752139184919, subsample=0.9 will be ignored. Current value: bagging_fraction=0.9216752139184919\n",
      "[LightGBM] [Warning] bagging_freq is set=1, subsample_freq=0 will be ignored. Current value: bagging_freq=1\n",
      "Training until validation scores don't improve for 100 rounds\n",
      "[100]\ttraining's l1: 1.71314\tvalid_1's l1: 2.16117\n"
     ]
    },
    {
     "name": "stderr",
     "output_type": "stream",
     "text": [
      "\u001b[32m[I 2021-07-31 12:44:00,385]\u001b[0m Trial 65 finished with value: -2.0663210390290794 and parameters: {'max_depth': 18, 'min_child_weight': 8, 'subsample': 0.9, 'colsample_bytree': 0.8, 'reg_lambda': 3.4816937719783074, 'reg_alpha': 0.8532360947655203, 'feature_fraction': 0.878095520911718, 'bagging_fraction': 0.9216752139184919, 'bagging_freq': 1, 'num_leaves': 343, 'min_child_samples': 51}. Best is trial 60 with value: -2.0587296570422384.\u001b[0m\n"
     ]
    },
    {
     "name": "stdout",
     "output_type": "stream",
     "text": [
      "Early stopping, best iteration is:\n",
      "[16]\ttraining's l1: 1.90849\tvalid_1's l1: 2.06632\n",
      "[LightGBM] [Warning] feature_fraction is set=0.9437566940092033, colsample_bytree=0.8 will be ignored. Current value: feature_fraction=0.9437566940092033\n",
      "[LightGBM] [Warning] bagging_fraction is set=0.9751139736878398, subsample=0.9 will be ignored. Current value: bagging_fraction=0.9751139736878398\n",
      "[LightGBM] [Warning] bagging_freq is set=5, subsample_freq=0 will be ignored. Current value: bagging_freq=5\n",
      "Training until validation scores don't improve for 100 rounds\n",
      "[100]\ttraining's l1: 1.66241\tvalid_1's l1: 2.16775\n"
     ]
    },
    {
     "name": "stderr",
     "output_type": "stream",
     "text": [
      "\u001b[32m[I 2021-07-31 12:44:13,752]\u001b[0m Trial 66 finished with value: -2.0580231888265983 and parameters: {'max_depth': 15, 'min_child_weight': 5, 'subsample': 0.9, 'colsample_bytree': 0.8, 'reg_lambda': 1.5104686219203276, 'reg_alpha': 3.692910521567529, 'feature_fraction': 0.9437566940092033, 'bagging_fraction': 0.9751139736878398, 'bagging_freq': 5, 'num_leaves': 688, 'min_child_samples': 53}. Best is trial 66 with value: -2.0580231888265983.\u001b[0m\n"
     ]
    },
    {
     "name": "stdout",
     "output_type": "stream",
     "text": [
      "Early stopping, best iteration is:\n",
      "[19]\ttraining's l1: 1.81624\tvalid_1's l1: 2.05802\n",
      "[LightGBM] [Warning] feature_fraction is set=0.9412748033438357, colsample_bytree=0.7 will be ignored. Current value: feature_fraction=0.9412748033438357\n",
      "[LightGBM] [Warning] bagging_fraction is set=0.8697797171842526, subsample=0.9 will be ignored. Current value: bagging_fraction=0.8697797171842526\n",
      "[LightGBM] [Warning] bagging_freq is set=5, subsample_freq=0 will be ignored. Current value: bagging_freq=5\n",
      "Training until validation scores don't improve for 100 rounds\n",
      "[100]\ttraining's l1: 1.66274\tvalid_1's l1: 2.15787\n"
     ]
    },
    {
     "name": "stderr",
     "output_type": "stream",
     "text": [
      "\u001b[32m[I 2021-07-31 12:44:26,477]\u001b[0m Trial 67 finished with value: -2.059159989224764 and parameters: {'max_depth': 15, 'min_child_weight': 1, 'subsample': 0.9, 'colsample_bytree': 0.7, 'reg_lambda': 0.3529683365625748, 'reg_alpha': 3.436181310025064, 'feature_fraction': 0.9412748033438357, 'bagging_fraction': 0.8697797171842526, 'bagging_freq': 5, 'num_leaves': 697, 'min_child_samples': 66}. Best is trial 66 with value: -2.0580231888265983.\u001b[0m\n"
     ]
    },
    {
     "name": "stdout",
     "output_type": "stream",
     "text": [
      "Early stopping, best iteration is:\n",
      "[19]\ttraining's l1: 1.81686\tvalid_1's l1: 2.05916\n",
      "[LightGBM] [Warning] feature_fraction is set=0.9467317933960081, colsample_bytree=0.8 will be ignored. Current value: feature_fraction=0.9467317933960081\n",
      "[LightGBM] [Warning] bagging_fraction is set=0.8770780005264516, subsample=0.9 will be ignored. Current value: bagging_fraction=0.8770780005264516\n",
      "[LightGBM] [Warning] bagging_freq is set=7, subsample_freq=0 will be ignored. Current value: bagging_freq=7\n",
      "Training until validation scores don't improve for 100 rounds\n",
      "[100]\ttraining's l1: 1.66461\tvalid_1's l1: 2.15905\n"
     ]
    },
    {
     "name": "stderr",
     "output_type": "stream",
     "text": [
      "\u001b[32m[I 2021-07-31 12:44:38,186]\u001b[0m Trial 68 finished with value: -2.0573624181163286 and parameters: {'max_depth': 13, 'min_child_weight': 1, 'subsample': 0.9, 'colsample_bytree': 0.8, 'reg_lambda': 1.7118332302854526, 'reg_alpha': 10.17265118811313, 'feature_fraction': 0.9467317933960081, 'bagging_fraction': 0.8770780005264516, 'bagging_freq': 7, 'num_leaves': 710, 'min_child_samples': 67}. Best is trial 68 with value: -2.0573624181163286.\u001b[0m\n"
     ]
    },
    {
     "name": "stdout",
     "output_type": "stream",
     "text": [
      "Early stopping, best iteration is:\n",
      "[19]\ttraining's l1: 1.82831\tvalid_1's l1: 2.05736\n",
      "[LightGBM] [Warning] feature_fraction is set=0.9495065554239006, colsample_bytree=0.8 will be ignored. Current value: feature_fraction=0.9495065554239006\n",
      "[LightGBM] [Warning] bagging_fraction is set=0.8088191012540047, subsample=0.9 will be ignored. Current value: bagging_fraction=0.8088191012540047\n",
      "[LightGBM] [Warning] bagging_freq is set=7, subsample_freq=0 will be ignored. Current value: bagging_freq=7\n",
      "Training until validation scores don't improve for 100 rounds\n",
      "[100]\ttraining's l1: 1.67321\tvalid_1's l1: 2.16663\n"
     ]
    },
    {
     "name": "stderr",
     "output_type": "stream",
     "text": [
      "\u001b[32m[I 2021-07-31 12:44:49,694]\u001b[0m Trial 69 finished with value: -2.071270253872421 and parameters: {'max_depth': 13, 'min_child_weight': 1, 'subsample': 0.9, 'colsample_bytree': 0.8, 'reg_lambda': 1.562498544401126, 'reg_alpha': 18.304480512463556, 'feature_fraction': 0.9495065554239006, 'bagging_fraction': 0.8088191012540047, 'bagging_freq': 7, 'num_leaves': 713, 'min_child_samples': 69}. Best is trial 68 with value: -2.0573624181163286.\u001b[0m\n"
     ]
    },
    {
     "name": "stdout",
     "output_type": "stream",
     "text": [
      "Early stopping, best iteration is:\n",
      "[18]\ttraining's l1: 1.86504\tvalid_1's l1: 2.07127\n",
      "[LightGBM] [Warning] feature_fraction is set=0.9972769681029233, colsample_bytree=0.8 will be ignored. Current value: feature_fraction=0.9972769681029233\n",
      "[LightGBM] [Warning] bagging_fraction is set=0.8669021086979591, subsample=0.9 will be ignored. Current value: bagging_fraction=0.8669021086979591\n",
      "[LightGBM] [Warning] bagging_freq is set=6, subsample_freq=0 will be ignored. Current value: bagging_freq=6\n",
      "Training until validation scores don't improve for 100 rounds\n",
      "[100]\ttraining's l1: 1.67573\tvalid_1's l1: 2.14682\n"
     ]
    },
    {
     "name": "stderr",
     "output_type": "stream",
     "text": [
      "\u001b[32m[I 2021-07-31 12:45:00,754]\u001b[0m Trial 70 finished with value: -2.067736161409124 and parameters: {'max_depth': 12, 'min_child_weight': 1, 'subsample': 0.9, 'colsample_bytree': 0.8, 'reg_lambda': 0.395596275459862, 'reg_alpha': 11.086164833680376, 'feature_fraction': 0.9972769681029233, 'bagging_fraction': 0.8669021086979591, 'bagging_freq': 6, 'num_leaves': 779, 'min_child_samples': 76}. Best is trial 68 with value: -2.0573624181163286.\u001b[0m\n"
     ]
    },
    {
     "name": "stdout",
     "output_type": "stream",
     "text": [
      "Early stopping, best iteration is:\n",
      "[19]\ttraining's l1: 1.83359\tvalid_1's l1: 2.06774\n",
      "[LightGBM] [Warning] feature_fraction is set=0.9394865063776954, colsample_bytree=0.7 will be ignored. Current value: feature_fraction=0.9394865063776954\n",
      "[LightGBM] [Warning] bagging_fraction is set=0.9470385337362058, subsample=0.9 will be ignored. Current value: bagging_fraction=0.9470385337362058\n",
      "[LightGBM] [Warning] bagging_freq is set=5, subsample_freq=0 will be ignored. Current value: bagging_freq=5\n",
      "Training until validation scores don't improve for 100 rounds\n",
      "[100]\ttraining's l1: 1.65563\tvalid_1's l1: 2.16139\n"
     ]
    },
    {
     "name": "stderr",
     "output_type": "stream",
     "text": [
      "\u001b[32m[I 2021-07-31 12:45:13,974]\u001b[0m Trial 71 finished with value: -2.0588429974516838 and parameters: {'max_depth': 15, 'min_child_weight': 2, 'subsample': 0.9, 'colsample_bytree': 0.7, 'reg_lambda': 0.691561943455686, 'reg_alpha': 5.144806871445012, 'feature_fraction': 0.9394865063776954, 'bagging_fraction': 0.9470385337362058, 'bagging_freq': 5, 'num_leaves': 683, 'min_child_samples': 59}. Best is trial 68 with value: -2.0573624181163286.\u001b[0m\n"
     ]
    },
    {
     "name": "stdout",
     "output_type": "stream",
     "text": [
      "Early stopping, best iteration is:\n",
      "[18]\ttraining's l1: 1.83201\tvalid_1's l1: 2.05884\n",
      "[LightGBM] [Warning] feature_fraction is set=0.9445542462053084, colsample_bytree=0.8 will be ignored. Current value: feature_fraction=0.9445542462053084\n",
      "[LightGBM] [Warning] bagging_fraction is set=0.9989324723673214, subsample=0.9 will be ignored. Current value: bagging_fraction=0.9989324723673214\n",
      "[LightGBM] [Warning] bagging_freq is set=5, subsample_freq=0 will be ignored. Current value: bagging_freq=5\n",
      "Training until validation scores don't improve for 100 rounds\n",
      "[100]\ttraining's l1: 1.65724\tvalid_1's l1: 2.16855\n"
     ]
    },
    {
     "name": "stderr",
     "output_type": "stream",
     "text": [
      "\u001b[32m[I 2021-07-31 12:45:27,082]\u001b[0m Trial 72 finished with value: -2.0589665002956923 and parameters: {'max_depth': 14, 'min_child_weight': 2, 'subsample': 0.9, 'colsample_bytree': 0.8, 'reg_lambda': 6.425452758328336, 'reg_alpha': 8.857698019775519, 'feature_fraction': 0.9445542462053084, 'bagging_fraction': 0.9989324723673214, 'bagging_freq': 5, 'num_leaves': 681, 'min_child_samples': 65}. Best is trial 68 with value: -2.0573624181163286.\u001b[0m\n"
     ]
    },
    {
     "name": "stdout",
     "output_type": "stream",
     "text": [
      "Early stopping, best iteration is:\n",
      "[18]\ttraining's l1: 1.83565\tvalid_1's l1: 2.05897\n",
      "[LightGBM] [Warning] feature_fraction is set=0.9837874760881941, colsample_bytree=0.8 will be ignored. Current value: feature_fraction=0.9837874760881941\n",
      "[LightGBM] [Warning] bagging_fraction is set=0.9950814734726632, subsample=0.9 will be ignored. Current value: bagging_fraction=0.9950814734726632\n",
      "[LightGBM] [Warning] bagging_freq is set=5, subsample_freq=0 will be ignored. Current value: bagging_freq=5\n",
      "Training until validation scores don't improve for 100 rounds\n",
      "[100]\ttraining's l1: 1.66865\tvalid_1's l1: 2.16241\n"
     ]
    },
    {
     "name": "stderr",
     "output_type": "stream",
     "text": [
      "\u001b[32m[I 2021-07-31 12:45:40,020]\u001b[0m Trial 73 finished with value: -2.068388945843044 and parameters: {'max_depth': 14, 'min_child_weight': 2, 'subsample': 0.9, 'colsample_bytree': 0.8, 'reg_lambda': 6.6401556037417935, 'reg_alpha': 3.056573274301483, 'feature_fraction': 0.9837874760881941, 'bagging_fraction': 0.9950814734726632, 'bagging_freq': 5, 'num_leaves': 700, 'min_child_samples': 66}. Best is trial 68 with value: -2.0573624181163286.\u001b[0m\n"
     ]
    },
    {
     "name": "stdout",
     "output_type": "stream",
     "text": [
      "Early stopping, best iteration is:\n",
      "[18]\ttraining's l1: 1.83546\tvalid_1's l1: 2.06839\n",
      "[LightGBM] [Warning] feature_fraction is set=0.9411403687992503, colsample_bytree=0.8 will be ignored. Current value: feature_fraction=0.9411403687992503\n",
      "[LightGBM] [Warning] bagging_fraction is set=0.8949603511074811, subsample=0.9 will be ignored. Current value: bagging_fraction=0.8949603511074811\n",
      "[LightGBM] [Warning] bagging_freq is set=7, subsample_freq=0 will be ignored. Current value: bagging_freq=7\n",
      "Training until validation scores don't improve for 100 rounds\n",
      "[100]\ttraining's l1: 1.71503\tvalid_1's l1: 2.1316\n"
     ]
    },
    {
     "name": "stderr",
     "output_type": "stream",
     "text": [
      "\u001b[32m[I 2021-07-31 12:45:48,907]\u001b[0m Trial 74 finished with value: -2.064502148899895 and parameters: {'max_depth': 10, 'min_child_weight': 3, 'subsample': 0.9, 'colsample_bytree': 0.8, 'reg_lambda': 9.811887345401754, 'reg_alpha': 4.830404942224466, 'feature_fraction': 0.9411403687992503, 'bagging_fraction': 0.8949603511074811, 'bagging_freq': 7, 'num_leaves': 822, 'min_child_samples': 59}. Best is trial 68 with value: -2.0573624181163286.\u001b[0m\n"
     ]
    },
    {
     "name": "stdout",
     "output_type": "stream",
     "text": [
      "Early stopping, best iteration is:\n",
      "[19]\ttraining's l1: 1.86154\tvalid_1's l1: 2.0645\n",
      "[LightGBM] [Warning] feature_fraction is set=0.978252551600441, colsample_bytree=0.8 will be ignored. Current value: feature_fraction=0.978252551600441\n",
      "[LightGBM] [Warning] bagging_fraction is set=0.847515241556403, subsample=0.9 will be ignored. Current value: bagging_fraction=0.847515241556403\n",
      "[LightGBM] [Warning] bagging_freq is set=6, subsample_freq=0 will be ignored. Current value: bagging_freq=6\n",
      "Training until validation scores don't improve for 100 rounds\n",
      "[100]\ttraining's l1: 1.68619\tvalid_1's l1: 2.16313\n"
     ]
    },
    {
     "name": "stderr",
     "output_type": "stream",
     "text": [
      "\u001b[32m[I 2021-07-31 12:46:00,570]\u001b[0m Trial 75 finished with value: -2.071320416635926 and parameters: {'max_depth': 13, 'min_child_weight': 2, 'subsample': 0.9, 'colsample_bytree': 0.8, 'reg_lambda': 1.518863937488281, 'reg_alpha': 48.21314161691224, 'feature_fraction': 0.978252551600441, 'bagging_fraction': 0.847515241556403, 'bagging_freq': 6, 'num_leaves': 689, 'min_child_samples': 75}. Best is trial 68 with value: -2.0573624181163286.\u001b[0m\n"
     ]
    },
    {
     "name": "stdout",
     "output_type": "stream",
     "text": [
      "Early stopping, best iteration is:\n",
      "[20]\ttraining's l1: 1.85671\tvalid_1's l1: 2.07132\n",
      "[LightGBM] [Warning] feature_fraction is set=0.908309468660853, colsample_bytree=0.8 will be ignored. Current value: feature_fraction=0.908309468660853\n",
      "[LightGBM] [Warning] bagging_fraction is set=0.915790865876904, subsample=0.9 will be ignored. Current value: bagging_fraction=0.915790865876904\n",
      "[LightGBM] [Warning] bagging_freq is set=5, subsample_freq=0 will be ignored. Current value: bagging_freq=5\n",
      "Training until validation scores don't improve for 100 rounds\n",
      "[100]\ttraining's l1: 1.66909\tvalid_1's l1: 2.16585\n"
     ]
    },
    {
     "name": "stderr",
     "output_type": "stream",
     "text": [
      "\u001b[32m[I 2021-07-31 12:46:13,224]\u001b[0m Trial 76 finished with value: -2.0657058615712245 and parameters: {'max_depth': 15, 'min_child_weight': 1, 'subsample': 0.9, 'colsample_bytree': 0.8, 'reg_lambda': 59.49791114520155, 'reg_alpha': 2.4827918661188297, 'feature_fraction': 0.908309468660853, 'bagging_fraction': 0.915790865876904, 'bagging_freq': 5, 'num_leaves': 654, 'min_child_samples': 80}. Best is trial 68 with value: -2.0573624181163286.\u001b[0m\n"
     ]
    },
    {
     "name": "stdout",
     "output_type": "stream",
     "text": [
      "Early stopping, best iteration is:\n",
      "[18]\ttraining's l1: 1.85469\tvalid_1's l1: 2.06571\n",
      "[LightGBM] [Warning] feature_fraction is set=0.9503670881768677, colsample_bytree=0.8 will be ignored. Current value: feature_fraction=0.9503670881768677\n",
      "[LightGBM] [Warning] bagging_fraction is set=0.8749375374172462, subsample=0.9 will be ignored. Current value: bagging_fraction=0.8749375374172462\n",
      "[LightGBM] [Warning] bagging_freq is set=8, subsample_freq=0 will be ignored. Current value: bagging_freq=8\n",
      "Training until validation scores don't improve for 100 rounds\n",
      "[100]\ttraining's l1: 1.67338\tvalid_1's l1: 2.15529\n"
     ]
    },
    {
     "name": "stderr",
     "output_type": "stream",
     "text": [
      "\u001b[32m[I 2021-07-31 12:46:25,088]\u001b[0m Trial 77 finished with value: -2.0706855057113023 and parameters: {'max_depth': 14, 'min_child_weight': 2, 'subsample': 0.9, 'colsample_bytree': 0.8, 'reg_lambda': 4.884551389767854, 'reg_alpha': 11.943110458019913, 'feature_fraction': 0.9503670881768677, 'bagging_fraction': 0.8749375374172462, 'bagging_freq': 8, 'num_leaves': 612, 'min_child_samples': 64}. Best is trial 68 with value: -2.0573624181163286.\u001b[0m\n"
     ]
    },
    {
     "name": "stdout",
     "output_type": "stream",
     "text": [
      "Early stopping, best iteration is:\n",
      "[21]\ttraining's l1: 1.81128\tvalid_1's l1: 2.07069\n",
      "[LightGBM] [Warning] feature_fraction is set=0.9235629963273904, colsample_bytree=0.9 will be ignored. Current value: feature_fraction=0.9235629963273904\n",
      "[LightGBM] [Warning] bagging_fraction is set=0.8245739702210511, subsample=0.9 will be ignored. Current value: bagging_fraction=0.8245739702210511\n",
      "[LightGBM] [Warning] bagging_freq is set=4, subsample_freq=0 will be ignored. Current value: bagging_freq=4\n",
      "Training until validation scores don't improve for 100 rounds\n",
      "[100]\ttraining's l1: 1.68317\tvalid_1's l1: 2.15746\n"
     ]
    },
    {
     "name": "stderr",
     "output_type": "stream",
     "text": [
      "\u001b[32m[I 2021-07-31 12:46:36,345]\u001b[0m Trial 78 finished with value: -2.071189969059142 and parameters: {'max_depth': 12, 'min_child_weight': 3, 'subsample': 0.9, 'colsample_bytree': 0.9, 'reg_lambda': 1.0190301799639936, 'reg_alpha': 24.4868099446234, 'feature_fraction': 0.9235629963273904, 'bagging_fraction': 0.8245739702210511, 'bagging_freq': 4, 'num_leaves': 762, 'min_child_samples': 69}. Best is trial 68 with value: -2.0573624181163286.\u001b[0m\n"
     ]
    },
    {
     "name": "stdout",
     "output_type": "stream",
     "text": [
      "Early stopping, best iteration is:\n",
      "[19]\ttraining's l1: 1.86249\tvalid_1's l1: 2.07119\n",
      "[LightGBM] [Warning] feature_fraction is set=0.9668420741302832, colsample_bytree=0.8 will be ignored. Current value: feature_fraction=0.9668420741302832\n",
      "[LightGBM] [Warning] bagging_fraction is set=0.9989525653929348, subsample=0.9 will be ignored. Current value: bagging_fraction=0.9989525653929348\n",
      "[LightGBM] [Warning] bagging_freq is set=5, subsample_freq=0 will be ignored. Current value: bagging_freq=5\n",
      "Training until validation scores don't improve for 100 rounds\n",
      "[100]\ttraining's l1: 1.67784\tvalid_1's l1: 2.15611\n"
     ]
    },
    {
     "name": "stderr",
     "output_type": "stream",
     "text": [
      "\u001b[32m[I 2021-07-31 12:46:47,550]\u001b[0m Trial 79 finished with value: -2.062662139017314 and parameters: {'max_depth': 15, 'min_child_weight': 4, 'subsample': 0.9, 'colsample_bytree': 0.8, 'reg_lambda': 2.2745383669540447, 'reg_alpha': 6.454270226878759, 'feature_fraction': 0.9668420741302832, 'bagging_fraction': 0.9989525653929348, 'bagging_freq': 5, 'num_leaves': 560, 'min_child_samples': 60}. Best is trial 68 with value: -2.0573624181163286.\u001b[0m\n"
     ]
    },
    {
     "name": "stdout",
     "output_type": "stream",
     "text": [
      "Early stopping, best iteration is:\n",
      "[19]\ttraining's l1: 1.83502\tvalid_1's l1: 2.06266\n",
      "[LightGBM] [Warning] feature_fraction is set=0.8854152997368566, colsample_bytree=0.7 will be ignored. Current value: feature_fraction=0.8854152997368566\n",
      "[LightGBM] [Warning] bagging_fraction is set=0.7724296842838598, subsample=0.9 will be ignored. Current value: bagging_fraction=0.7724296842838598\n",
      "[LightGBM] [Warning] bagging_freq is set=6, subsample_freq=0 will be ignored. Current value: bagging_freq=6\n",
      "Training until validation scores don't improve for 100 rounds\n",
      "[100]\ttraining's l1: 1.66698\tvalid_1's l1: 2.16691\n"
     ]
    },
    {
     "name": "stderr",
     "output_type": "stream",
     "text": [
      "\u001b[32m[I 2021-07-31 12:46:57,694]\u001b[0m Trial 80 finished with value: -2.0682116442423752 and parameters: {'max_depth': 14, 'min_child_weight': 1, 'subsample': 0.9, 'colsample_bytree': 0.7, 'reg_lambda': 25.510974019574693, 'reg_alpha': 4.23629434960861, 'feature_fraction': 0.8854152997368566, 'bagging_fraction': 0.7724296842838598, 'bagging_freq': 6, 'num_leaves': 676, 'min_child_samples': 52}. Best is trial 68 with value: -2.0573624181163286.\u001b[0m\n"
     ]
    },
    {
     "name": "stdout",
     "output_type": "stream",
     "text": [
      "Early stopping, best iteration is:\n",
      "[16]\ttraining's l1: 1.89049\tvalid_1's l1: 2.06821\n",
      "[LightGBM] [Warning] feature_fraction is set=0.9367366397756516, colsample_bytree=0.7 will be ignored. Current value: feature_fraction=0.9367366397756516\n",
      "[LightGBM] [Warning] bagging_fraction is set=0.975250519993039, subsample=0.9 will be ignored. Current value: bagging_fraction=0.975250519993039\n",
      "[LightGBM] [Warning] bagging_freq is set=4, subsample_freq=0 will be ignored. Current value: bagging_freq=4\n",
      "Training until validation scores don't improve for 100 rounds\n",
      "[100]\ttraining's l1: 1.66072\tvalid_1's l1: 2.16883\n"
     ]
    },
    {
     "name": "stderr",
     "output_type": "stream",
     "text": [
      "\u001b[32m[I 2021-07-31 12:47:11,192]\u001b[0m Trial 81 finished with value: -2.057468004106382 and parameters: {'max_depth': 16, 'min_child_weight': 2, 'subsample': 0.9, 'colsample_bytree': 0.7, 'reg_lambda': 0.33601574502566117, 'reg_alpha': 8.908141447162544, 'feature_fraction': 0.9367366397756516, 'bagging_fraction': 0.975250519993039, 'bagging_freq': 4, 'num_leaves': 649, 'min_child_samples': 49}. Best is trial 68 with value: -2.0573624181163286.\u001b[0m\n"
     ]
    },
    {
     "name": "stdout",
     "output_type": "stream",
     "text": [
      "Early stopping, best iteration is:\n",
      "[19]\ttraining's l1: 1.8225\tvalid_1's l1: 2.05747\n",
      "[LightGBM] [Warning] feature_fraction is set=0.9372785557215239, colsample_bytree=0.7 will be ignored. Current value: feature_fraction=0.9372785557215239\n",
      "[LightGBM] [Warning] bagging_fraction is set=0.9408154556721704, subsample=0.9 will be ignored. Current value: bagging_fraction=0.9408154556721704\n",
      "[LightGBM] [Warning] bagging_freq is set=5, subsample_freq=0 will be ignored. Current value: bagging_freq=5\n",
      "Training until validation scores don't improve for 100 rounds\n",
      "[100]\ttraining's l1: 1.65907\tvalid_1's l1: 2.19572\n"
     ]
    },
    {
     "name": "stderr",
     "output_type": "stream",
     "text": [
      "\u001b[32m[I 2021-07-31 12:47:22,822]\u001b[0m Trial 82 finished with value: -2.0563974364195734 and parameters: {'max_depth': 15, 'min_child_weight': 2, 'subsample': 0.9, 'colsample_bytree': 0.7, 'reg_lambda': 0.1863895872421361, 'reg_alpha': 2.295593277367064, 'feature_fraction': 0.9372785557215239, 'bagging_fraction': 0.9408154556721704, 'bagging_freq': 5, 'num_leaves': 651, 'min_child_samples': 49}. Best is trial 82 with value: -2.0563974364195734.\u001b[0m\n"
     ]
    },
    {
     "name": "stdout",
     "output_type": "stream",
     "text": [
      "Early stopping, best iteration is:\n",
      "[19]\ttraining's l1: 1.81869\tvalid_1's l1: 2.0564\n",
      "[LightGBM] [Warning] feature_fraction is set=0.9830048163086913, colsample_bytree=0.7 will be ignored. Current value: feature_fraction=0.9830048163086913\n",
      "[LightGBM] [Warning] bagging_fraction is set=0.936434431586524, subsample=0.9 will be ignored. Current value: bagging_fraction=0.936434431586524\n",
      "[LightGBM] [Warning] bagging_freq is set=7, subsample_freq=0 will be ignored. Current value: bagging_freq=7\n",
      "Training until validation scores don't improve for 100 rounds\n",
      "[100]\ttraining's l1: 1.65981\tvalid_1's l1: 2.17444\n"
     ]
    },
    {
     "name": "stderr",
     "output_type": "stream",
     "text": [
      "\u001b[32m[I 2021-07-31 12:47:36,076]\u001b[0m Trial 83 finished with value: -2.0667907947007413 and parameters: {'max_depth': 15, 'min_child_weight': 2, 'subsample': 0.9, 'colsample_bytree': 0.7, 'reg_lambda': 0.201652624961643, 'reg_alpha': 2.3874713161730607, 'feature_fraction': 0.9830048163086913, 'bagging_fraction': 0.936434431586524, 'bagging_freq': 7, 'num_leaves': 729, 'min_child_samples': 48}. Best is trial 82 with value: -2.0563974364195734.\u001b[0m\n"
     ]
    },
    {
     "name": "stdout",
     "output_type": "stream",
     "text": [
      "Early stopping, best iteration is:\n",
      "[18]\ttraining's l1: 1.8303\tvalid_1's l1: 2.06679\n",
      "[LightGBM] [Warning] feature_fraction is set=0.9523487082717214, colsample_bytree=0.7 will be ignored. Current value: feature_fraction=0.9523487082717214\n",
      "[LightGBM] [Warning] bagging_fraction is set=0.9738661783481175, subsample=0.9 will be ignored. Current value: bagging_fraction=0.9738661783481175\n",
      "[LightGBM] [Warning] bagging_freq is set=5, subsample_freq=0 will be ignored. Current value: bagging_freq=5\n",
      "Training until validation scores don't improve for 100 rounds\n",
      "[100]\ttraining's l1: 1.65656\tvalid_1's l1: 2.17796\n"
     ]
    },
    {
     "name": "stderr",
     "output_type": "stream",
     "text": [
      "\u001b[32m[I 2021-07-31 12:47:48,181]\u001b[0m Trial 84 finished with value: -2.057043286290579 and parameters: {'max_depth': 16, 'min_child_weight': 1, 'subsample': 0.9, 'colsample_bytree': 0.7, 'reg_lambda': 0.291532651913674, 'reg_alpha': 1.3777115703384637, 'feature_fraction': 0.9523487082717214, 'bagging_fraction': 0.9738661783481175, 'bagging_freq': 5, 'num_leaves': 690, 'min_child_samples': 54}. Best is trial 82 with value: -2.0563974364195734.\u001b[0m\n"
     ]
    },
    {
     "name": "stdout",
     "output_type": "stream",
     "text": [
      "Early stopping, best iteration is:\n",
      "[18]\ttraining's l1: 1.82857\tvalid_1's l1: 2.05704\n",
      "[LightGBM] [Warning] feature_fraction is set=0.998030334711611, colsample_bytree=0.7 will be ignored. Current value: feature_fraction=0.998030334711611\n",
      "[LightGBM] [Warning] bagging_fraction is set=0.9646241703178129, subsample=0.9 will be ignored. Current value: bagging_fraction=0.9646241703178129\n",
      "[LightGBM] [Warning] bagging_freq is set=5, subsample_freq=0 will be ignored. Current value: bagging_freq=5\n",
      "Training until validation scores don't improve for 100 rounds\n",
      "[100]\ttraining's l1: 1.66371\tvalid_1's l1: 2.16672\n"
     ]
    },
    {
     "name": "stderr",
     "output_type": "stream",
     "text": [
      "\u001b[32m[I 2021-07-31 12:48:00,995]\u001b[0m Trial 85 finished with value: -2.0585085161872363 and parameters: {'max_depth': 14, 'min_child_weight': 1, 'subsample': 0.9, 'colsample_bytree': 0.7, 'reg_lambda': 0.7687328589571214, 'reg_alpha': 1.270230508842476, 'feature_fraction': 0.998030334711611, 'bagging_fraction': 0.9646241703178129, 'bagging_freq': 5, 'num_leaves': 659, 'min_child_samples': 54}. Best is trial 82 with value: -2.0563974364195734.\u001b[0m\n"
     ]
    },
    {
     "name": "stdout",
     "output_type": "stream",
     "text": [
      "Early stopping, best iteration is:\n",
      "[20]\ttraining's l1: 1.80574\tvalid_1's l1: 2.05851\n",
      "[LightGBM] [Warning] feature_fraction is set=0.9990696961769456, colsample_bytree=0.8 will be ignored. Current value: feature_fraction=0.9990696961769456\n",
      "[LightGBM] [Warning] bagging_fraction is set=0.9603086954481606, subsample=0.9 will be ignored. Current value: bagging_fraction=0.9603086954481606\n",
      "[LightGBM] [Warning] bagging_freq is set=6, subsample_freq=0 will be ignored. Current value: bagging_freq=6\n",
      "Training until validation scores don't improve for 100 rounds\n",
      "[100]\ttraining's l1: 1.67052\tvalid_1's l1: 2.17577\n"
     ]
    },
    {
     "name": "stderr",
     "output_type": "stream",
     "text": [
      "\u001b[32m[I 2021-07-31 12:48:12,970]\u001b[0m Trial 86 finished with value: -2.0595336985109403 and parameters: {'max_depth': 13, 'min_child_weight': 3, 'subsample': 0.9, 'colsample_bytree': 0.8, 'reg_lambda': 0.6056213226024639, 'reg_alpha': 0.48904887391063734, 'feature_fraction': 0.9990696961769456, 'bagging_fraction': 0.9603086954481606, 'bagging_freq': 6, 'num_leaves': 646, 'min_child_samples': 53}. Best is trial 82 with value: -2.0563974364195734.\u001b[0m\n"
     ]
    },
    {
     "name": "stdout",
     "output_type": "stream",
     "text": [
      "Early stopping, best iteration is:\n",
      "[19]\ttraining's l1: 1.81903\tvalid_1's l1: 2.05953\n",
      "[LightGBM] [Warning] feature_fraction is set=0.9662163628333722, colsample_bytree=0.7 will be ignored. Current value: feature_fraction=0.9662163628333722\n",
      "[LightGBM] [Warning] bagging_fraction is set=0.900522972310875, subsample=0.9 will be ignored. Current value: bagging_fraction=0.900522972310875\n",
      "[LightGBM] [Warning] bagging_freq is set=5, subsample_freq=0 will be ignored. Current value: bagging_freq=5\n",
      "Training until validation scores don't improve for 100 rounds\n",
      "[100]\ttraining's l1: 1.67048\tvalid_1's l1: 2.15526\n"
     ]
    },
    {
     "name": "stderr",
     "output_type": "stream",
     "text": [
      "\u001b[32m[I 2021-07-31 12:48:24,173]\u001b[0m Trial 87 finished with value: -2.063079527080098 and parameters: {'max_depth': 12, 'min_child_weight': 2, 'subsample': 0.9, 'colsample_bytree': 0.7, 'reg_lambda': 1.2939665150443933, 'reg_alpha': 1.2426457981392827, 'feature_fraction': 0.9662163628333722, 'bagging_fraction': 0.900522972310875, 'bagging_freq': 5, 'num_leaves': 621, 'min_child_samples': 50}. Best is trial 82 with value: -2.0563974364195734.\u001b[0m\n"
     ]
    },
    {
     "name": "stdout",
     "output_type": "stream",
     "text": [
      "Early stopping, best iteration is:\n",
      "[19]\ttraining's l1: 1.82638\tvalid_1's l1: 2.06308\n",
      "[LightGBM] [Warning] feature_fraction is set=0.9074277100945877, colsample_bytree=0.8 will be ignored. Current value: feature_fraction=0.9074277100945877\n",
      "[LightGBM] [Warning] bagging_fraction is set=0.9736378932251238, subsample=0.9 will be ignored. Current value: bagging_fraction=0.9736378932251238\n",
      "[LightGBM] [Warning] bagging_freq is set=8, subsample_freq=0 will be ignored. Current value: bagging_freq=8\n",
      "Training until validation scores don't improve for 100 rounds\n",
      "[100]\ttraining's l1: 1.67286\tvalid_1's l1: 2.17246\n"
     ]
    },
    {
     "name": "stderr",
     "output_type": "stream",
     "text": [
      "\u001b[32m[I 2021-07-31 12:48:36,219]\u001b[0m Trial 88 finished with value: -2.061523804244714 and parameters: {'max_depth': 14, 'min_child_weight': 1, 'subsample': 0.9, 'colsample_bytree': 0.8, 'reg_lambda': 0.8239607825409568, 'reg_alpha': 19.405080881850793, 'feature_fraction': 0.9074277100945877, 'bagging_fraction': 0.9736378932251238, 'bagging_freq': 8, 'num_leaves': 600, 'min_child_samples': 44}. Best is trial 82 with value: -2.0563974364195734.\u001b[0m\n"
     ]
    },
    {
     "name": "stdout",
     "output_type": "stream",
     "text": [
      "Early stopping, best iteration is:\n",
      "[17]\ttraining's l1: 1.87226\tvalid_1's l1: 2.06152\n",
      "[LightGBM] [Warning] feature_fraction is set=0.8418603400485547, colsample_bytree=0.7 will be ignored. Current value: feature_fraction=0.8418603400485547\n",
      "[LightGBM] [Warning] bagging_fraction is set=0.9477745496839504, subsample=0.9 will be ignored. Current value: bagging_fraction=0.9477745496839504\n",
      "[LightGBM] [Warning] bagging_freq is set=3, subsample_freq=0 will be ignored. Current value: bagging_freq=3\n",
      "Training until validation scores don't improve for 100 rounds\n",
      "[100]\ttraining's l1: 1.66148\tvalid_1's l1: 2.19587\n"
     ]
    },
    {
     "name": "stderr",
     "output_type": "stream",
     "text": [
      "\u001b[32m[I 2021-07-31 12:48:49,542]\u001b[0m Trial 89 finished with value: -2.084826202941758 and parameters: {'max_depth': 16, 'min_child_weight': 2, 'subsample': 0.9, 'colsample_bytree': 0.7, 'reg_lambda': 4.046512483580421, 'reg_alpha': 0.5711494309277728, 'feature_fraction': 0.8418603400485547, 'bagging_fraction': 0.9477745496839504, 'bagging_freq': 3, 'num_leaves': 677, 'min_child_samples': 54}. Best is trial 82 with value: -2.0563974364195734.\u001b[0m\n"
     ]
    },
    {
     "name": "stdout",
     "output_type": "stream",
     "text": [
      "Early stopping, best iteration is:\n",
      "[17]\ttraining's l1: 1.86231\tvalid_1's l1: 2.08483\n",
      "[LightGBM] [Warning] feature_fraction is set=0.9596601989784991, colsample_bytree=0.7 will be ignored. Current value: feature_fraction=0.9596601989784991\n",
      "[LightGBM] [Warning] bagging_fraction is set=0.9244238041086936, subsample=0.9 will be ignored. Current value: bagging_fraction=0.9244238041086936\n",
      "[LightGBM] [Warning] bagging_freq is set=5, subsample_freq=0 will be ignored. Current value: bagging_freq=5\n",
      "Training until validation scores don't improve for 100 rounds\n",
      "[100]\ttraining's l1: 1.66448\tvalid_1's l1: 2.16801\n"
     ]
    },
    {
     "name": "stderr",
     "output_type": "stream",
     "text": [
      "\u001b[32m[I 2021-07-31 12:49:01,839]\u001b[0m Trial 90 finished with value: -2.0556573140355905 and parameters: {'max_depth': 14, 'min_child_weight': 3, 'subsample': 0.9, 'colsample_bytree': 0.7, 'reg_lambda': 2.603557208302465, 'reg_alpha': 0.09227120965375134, 'feature_fraction': 0.9596601989784991, 'bagging_fraction': 0.9244238041086936, 'bagging_freq': 5, 'num_leaves': 652, 'min_child_samples': 50}. Best is trial 90 with value: -2.0556573140355905.\u001b[0m\n"
     ]
    },
    {
     "name": "stdout",
     "output_type": "stream",
     "text": [
      "Early stopping, best iteration is:\n",
      "[19]\ttraining's l1: 1.82002\tvalid_1's l1: 2.05566\n",
      "[LightGBM] [Warning] feature_fraction is set=0.9587113543140092, colsample_bytree=0.7 will be ignored. Current value: feature_fraction=0.9587113543140092\n",
      "[LightGBM] [Warning] bagging_fraction is set=0.9262483076975008, subsample=0.9 will be ignored. Current value: bagging_fraction=0.9262483076975008\n",
      "[LightGBM] [Warning] bagging_freq is set=5, subsample_freq=0 will be ignored. Current value: bagging_freq=5\n",
      "Training until validation scores don't improve for 100 rounds\n",
      "[100]\ttraining's l1: 1.6602\tvalid_1's l1: 2.17283\n"
     ]
    },
    {
     "name": "stderr",
     "output_type": "stream",
     "text": [
      "\u001b[32m[I 2021-07-31 12:49:13,374]\u001b[0m Trial 91 finished with value: -2.06355521759707 and parameters: {'max_depth': 14, 'min_child_weight': 3, 'subsample': 0.9, 'colsample_bytree': 0.7, 'reg_lambda': 2.1904440901928925, 'reg_alpha': 0.001102556717260464, 'feature_fraction': 0.9587113543140092, 'bagging_fraction': 0.9262483076975008, 'bagging_freq': 5, 'num_leaves': 656, 'min_child_samples': 50}. Best is trial 90 with value: -2.0556573140355905.\u001b[0m\n"
     ]
    },
    {
     "name": "stdout",
     "output_type": "stream",
     "text": [
      "Early stopping, best iteration is:\n",
      "[18]\ttraining's l1: 1.83537\tvalid_1's l1: 2.06356\n",
      "[LightGBM] [Warning] feature_fraction is set=0.9839755511808943, colsample_bytree=0.7 will be ignored. Current value: feature_fraction=0.9839755511808943\n",
      "[LightGBM] [Warning] bagging_fraction is set=0.9810607373838558, subsample=0.9 will be ignored. Current value: bagging_fraction=0.9810607373838558\n",
      "[LightGBM] [Warning] bagging_freq is set=4, subsample_freq=0 will be ignored. Current value: bagging_freq=4\n",
      "Training until validation scores don't improve for 100 rounds\n",
      "[100]\ttraining's l1: 1.65114\tvalid_1's l1: 2.1685\n"
     ]
    },
    {
     "name": "stderr",
     "output_type": "stream",
     "text": [
      "\u001b[32m[I 2021-07-31 12:49:26,355]\u001b[0m Trial 92 finished with value: -2.063178890493985 and parameters: {'max_depth': 15, 'min_child_weight': 2, 'subsample': 0.9, 'colsample_bytree': 0.7, 'reg_lambda': 9.440143362667751, 'reg_alpha': 0.27023485330399105, 'feature_fraction': 0.9839755511808943, 'bagging_fraction': 0.9810607373838558, 'bagging_freq': 4, 'num_leaves': 763, 'min_child_samples': 46}. Best is trial 90 with value: -2.0556573140355905.\u001b[0m\n"
     ]
    },
    {
     "name": "stdout",
     "output_type": "stream",
     "text": [
      "Early stopping, best iteration is:\n",
      "[20]\ttraining's l1: 1.80106\tvalid_1's l1: 2.06318\n",
      "[LightGBM] [Warning] feature_fraction is set=0.9162037195867143, colsample_bytree=0.7 will be ignored. Current value: feature_fraction=0.9162037195867143\n",
      "[LightGBM] [Warning] bagging_fraction is set=0.9463068933885912, subsample=0.9 will be ignored. Current value: bagging_fraction=0.9463068933885912\n",
      "[LightGBM] [Warning] bagging_freq is set=7, subsample_freq=0 will be ignored. Current value: bagging_freq=7\n",
      "Training until validation scores don't improve for 100 rounds\n",
      "[100]\ttraining's l1: 1.67372\tvalid_1's l1: 2.15682\n"
     ]
    },
    {
     "name": "stderr",
     "output_type": "stream",
     "text": [
      "\u001b[32m[I 2021-07-31 12:49:37,763]\u001b[0m Trial 93 finished with value: -2.054555412062246 and parameters: {'max_depth': 13, 'min_child_weight': 1, 'subsample': 0.9, 'colsample_bytree': 0.7, 'reg_lambda': 2.7189074236324413, 'reg_alpha': 0.1145592675167831, 'feature_fraction': 0.9162037195867143, 'bagging_fraction': 0.9463068933885912, 'bagging_freq': 7, 'num_leaves': 596, 'min_child_samples': 59}. Best is trial 93 with value: -2.054555412062246.\u001b[0m\n"
     ]
    },
    {
     "name": "stdout",
     "output_type": "stream",
     "text": [
      "Early stopping, best iteration is:\n",
      "[17]\ttraining's l1: 1.85571\tvalid_1's l1: 2.05456\n",
      "[LightGBM] [Warning] feature_fraction is set=0.878318018690025, colsample_bytree=0.7 will be ignored. Current value: feature_fraction=0.878318018690025\n",
      "[LightGBM] [Warning] bagging_fraction is set=0.8900736201367558, subsample=0.9 will be ignored. Current value: bagging_fraction=0.8900736201367558\n",
      "[LightGBM] [Warning] bagging_freq is set=7, subsample_freq=0 will be ignored. Current value: bagging_freq=7\n",
      "Training until validation scores don't improve for 100 rounds\n",
      "[100]\ttraining's l1: 1.67347\tvalid_1's l1: 2.16347\n"
     ]
    },
    {
     "name": "stderr",
     "output_type": "stream",
     "text": [
      "\u001b[32m[I 2021-07-31 12:49:47,782]\u001b[0m Trial 94 finished with value: -2.065792023532226 and parameters: {'max_depth': 13, 'min_child_weight': 1, 'subsample': 0.9, 'colsample_bytree': 0.7, 'reg_lambda': 2.7003795658875034, 'reg_alpha': 0.03209677825203958, 'feature_fraction': 0.878318018690025, 'bagging_fraction': 0.8900736201367558, 'bagging_freq': 7, 'num_leaves': 592, 'min_child_samples': 60}. Best is trial 93 with value: -2.054555412062246.\u001b[0m\n"
     ]
    },
    {
     "name": "stdout",
     "output_type": "stream",
     "text": [
      "Early stopping, best iteration is:\n",
      "[16]\ttraining's l1: 1.87865\tvalid_1's l1: 2.06579\n",
      "[LightGBM] [Warning] feature_fraction is set=0.9199857751847863, colsample_bytree=0.7 will be ignored. Current value: feature_fraction=0.9199857751847863\n",
      "[LightGBM] [Warning] bagging_fraction is set=0.9512527428967891, subsample=0.9 will be ignored. Current value: bagging_fraction=0.9512527428967891\n",
      "[LightGBM] [Warning] bagging_freq is set=6, subsample_freq=0 will be ignored. Current value: bagging_freq=6\n",
      "Training until validation scores don't improve for 100 rounds\n",
      "[100]\ttraining's l1: 1.6712\tvalid_1's l1: 2.16896\n"
     ]
    },
    {
     "name": "stderr",
     "output_type": "stream",
     "text": [
      "\u001b[32m[I 2021-07-31 12:49:59,556]\u001b[0m Trial 95 finished with value: -2.059175482344538 and parameters: {'max_depth': 15, 'min_child_weight': 3, 'subsample': 0.9, 'colsample_bytree': 0.7, 'reg_lambda': 1.2672383859079641, 'reg_alpha': 0.1373493619145188, 'feature_fraction': 0.9199857751847863, 'bagging_fraction': 0.9512527428967891, 'bagging_freq': 6, 'num_leaves': 576, 'min_child_samples': 42}. Best is trial 93 with value: -2.054555412062246.\u001b[0m\n"
     ]
    },
    {
     "name": "stdout",
     "output_type": "stream",
     "text": [
      "Early stopping, best iteration is:\n",
      "[18]\ttraining's l1: 1.84168\tvalid_1's l1: 2.05918\n",
      "[LightGBM] [Warning] feature_fraction is set=0.4641650161388754, colsample_bytree=0.7 will be ignored. Current value: feature_fraction=0.4641650161388754\n",
      "[LightGBM] [Warning] bagging_fraction is set=0.9115128216214803, subsample=0.9 will be ignored. Current value: bagging_fraction=0.9115128216214803\n",
      "[LightGBM] [Warning] bagging_freq is set=8, subsample_freq=0 will be ignored. Current value: bagging_freq=8\n",
      "Training until validation scores don't improve for 100 rounds\n",
      "[100]\ttraining's l1: 1.6802\tvalid_1's l1: 2.18484\n"
     ]
    },
    {
     "name": "stderr",
     "output_type": "stream",
     "text": [
      "\u001b[32m[I 2021-07-31 12:50:08,936]\u001b[0m Trial 96 finished with value: -2.119241635564747 and parameters: {'max_depth': 11, 'min_child_weight': 4, 'subsample': 0.9, 'colsample_bytree': 0.7, 'reg_lambda': 1.7346688718797827, 'reg_alpha': 0.10091487058665746, 'feature_fraction': 0.4641650161388754, 'bagging_fraction': 0.9115128216214803, 'bagging_freq': 8, 'num_leaves': 637, 'min_child_samples': 49}. Best is trial 93 with value: -2.054555412062246.\u001b[0m\n"
     ]
    },
    {
     "name": "stdout",
     "output_type": "stream",
     "text": [
      "Early stopping, best iteration is:\n",
      "[21]\ttraining's l1: 1.87227\tvalid_1's l1: 2.11924\n",
      "[LightGBM] [Warning] feature_fraction is set=0.8953063771769034, colsample_bytree=0.7 will be ignored. Current value: feature_fraction=0.8953063771769034\n",
      "[LightGBM] [Warning] bagging_fraction is set=0.9348787268320659, subsample=0.9 will be ignored. Current value: bagging_fraction=0.9348787268320659\n",
      "[LightGBM] [Warning] bagging_freq is set=7, subsample_freq=0 will be ignored. Current value: bagging_freq=7\n",
      "Training until validation scores don't improve for 100 rounds\n",
      "[100]\ttraining's l1: 1.66765\tvalid_1's l1: 2.16724\n"
     ]
    },
    {
     "name": "stderr",
     "output_type": "stream",
     "text": [
      "\u001b[32m[I 2021-07-31 12:50:19,902]\u001b[0m Trial 97 finished with value: -2.066177975996337 and parameters: {'max_depth': 16, 'min_child_weight': 19, 'subsample': 0.9, 'colsample_bytree': 0.7, 'reg_lambda': 0.5536047376800527, 'reg_alpha': 0.08602328586156102, 'feature_fraction': 0.8953063771769034, 'bagging_fraction': 0.9348787268320659, 'bagging_freq': 7, 'num_leaves': 631, 'min_child_samples': 54}. Best is trial 93 with value: -2.054555412062246.\u001b[0m\n"
     ]
    },
    {
     "name": "stdout",
     "output_type": "stream",
     "text": [
      "Early stopping, best iteration is:\n",
      "[15]\ttraining's l1: 1.8959\tvalid_1's l1: 2.06618\n",
      "[LightGBM] [Warning] feature_fraction is set=0.8201363225142918, colsample_bytree=0.7 will be ignored. Current value: feature_fraction=0.8201363225142918\n",
      "[LightGBM] [Warning] bagging_fraction is set=0.8780048231393613, subsample=0.8 will be ignored. Current value: bagging_fraction=0.8780048231393613\n",
      "[LightGBM] [Warning] bagging_freq is set=6, subsample_freq=0 will be ignored. Current value: bagging_freq=6\n",
      "Training until validation scores don't improve for 100 rounds\n",
      "[100]\ttraining's l1: 1.67988\tvalid_1's l1: 2.16427\n"
     ]
    },
    {
     "name": "stderr",
     "output_type": "stream",
     "text": [
      "\u001b[32m[I 2021-07-31 12:50:30,942]\u001b[0m Trial 98 finished with value: -2.0790662088365046 and parameters: {'max_depth': 13, 'min_child_weight': 1, 'subsample': 0.8, 'colsample_bytree': 0.7, 'reg_lambda': 0.19260568660605445, 'reg_alpha': 0.0029910406551795304, 'feature_fraction': 0.8201363225142918, 'bagging_fraction': 0.8780048231393613, 'bagging_freq': 6, 'num_leaves': 559, 'min_child_samples': 58}. Best is trial 93 with value: -2.054555412062246.\u001b[0m\n"
     ]
    },
    {
     "name": "stdout",
     "output_type": "stream",
     "text": [
      "Early stopping, best iteration is:\n",
      "[21]\ttraining's l1: 1.81982\tvalid_1's l1: 2.07907\n",
      "[LightGBM] [Warning] feature_fraction is set=0.6347271728363505, colsample_bytree=0.7 will be ignored. Current value: feature_fraction=0.6347271728363505\n",
      "[LightGBM] [Warning] bagging_fraction is set=0.9658181758705029, subsample=0.9 will be ignored. Current value: bagging_fraction=0.9658181758705029\n",
      "[LightGBM] [Warning] bagging_freq is set=4, subsample_freq=0 will be ignored. Current value: bagging_freq=4\n",
      "Training until validation scores don't improve for 100 rounds\n",
      "[100]\ttraining's l1: 1.65381\tvalid_1's l1: 2.20674\n"
     ]
    },
    {
     "name": "stderr",
     "output_type": "stream",
     "text": [
      "\u001b[32m[I 2021-07-31 12:50:42,185]\u001b[0m Trial 99 finished with value: -2.108217585810642 and parameters: {'max_depth': 16, 'min_child_weight': 2, 'subsample': 0.9, 'colsample_bytree': 0.7, 'reg_lambda': 0.9825999836810317, 'reg_alpha': 0.0660631584879882, 'feature_fraction': 0.6347271728363505, 'bagging_fraction': 0.9658181758705029, 'bagging_freq': 4, 'num_leaves': 800, 'min_child_samples': 53}. Best is trial 93 with value: -2.054555412062246.\u001b[0m\n",
      "\u001b[32m[I 2021-07-31 12:50:42,187]\u001b[0m A new study created in memory with name: no-name-1aeaddf2-9938-44ee-86dc-1c9f5284001d\u001b[0m\n"
     ]
    },
    {
     "name": "stdout",
     "output_type": "stream",
     "text": [
      "Early stopping, best iteration is:\n",
      "[17]\ttraining's l1: 1.87178\tvalid_1's l1: 2.10822\n",
      "[LightGBM] [Warning] feature_fraction is set=0.2576967377510734, colsample_bytree=0.8 will be ignored. Current value: feature_fraction=0.2576967377510734\n",
      "[LightGBM] [Warning] bagging_fraction is set=0.8667228363914952, subsample=0.7 will be ignored. Current value: bagging_fraction=0.8667228363914952\n",
      "[LightGBM] [Warning] bagging_freq is set=8, subsample_freq=0 will be ignored. Current value: bagging_freq=8\n",
      "Training until validation scores don't improve for 100 rounds\n",
      "[100]\ttraining's l1: 0.993924\tvalid_1's l1: 0.902406\n"
     ]
    },
    {
     "name": "stderr",
     "output_type": "stream",
     "text": [
      "\u001b[32m[I 2021-07-31 12:50:51,914]\u001b[0m Trial 0 finished with value: -0.8828886294414815 and parameters: {'max_depth': 17, 'min_child_weight': 19, 'subsample': 0.7, 'colsample_bytree': 0.8, 'reg_lambda': 708.5555354233488, 'reg_alpha': 0.2715621501288124, 'feature_fraction': 0.2576967377510734, 'bagging_fraction': 0.8667228363914952, 'bagging_freq': 8, 'num_leaves': 937, 'min_child_samples': 62}. Best is trial 0 with value: -0.8828886294414815.\u001b[0m\n"
     ]
    },
    {
     "name": "stdout",
     "output_type": "stream",
     "text": [
      "Early stopping, best iteration is:\n",
      "[16]\ttraining's l1: 1.03278\tvalid_1's l1: 0.882889\n",
      "[LightGBM] [Warning] feature_fraction is set=0.7512339500820737, colsample_bytree=0.8 will be ignored. Current value: feature_fraction=0.7512339500820737\n",
      "[LightGBM] [Warning] bagging_fraction is set=0.35466813453026386, subsample=0.6 will be ignored. Current value: bagging_fraction=0.35466813453026386\n",
      "[LightGBM] [Warning] bagging_freq is set=7, subsample_freq=0 will be ignored. Current value: bagging_freq=7\n",
      "Training until validation scores don't improve for 100 rounds\n",
      "[100]\ttraining's l1: 1.00536\tvalid_1's l1: 0.891947\n"
     ]
    },
    {
     "name": "stderr",
     "output_type": "stream",
     "text": [
      "\u001b[32m[I 2021-07-31 12:50:58,191]\u001b[0m Trial 1 finished with value: -0.8821050712028146 and parameters: {'max_depth': 17, 'min_child_weight': 20, 'subsample': 0.6, 'colsample_bytree': 0.8, 'reg_lambda': 332.0540478107759, 'reg_alpha': 49.15757492136247, 'feature_fraction': 0.7512339500820737, 'bagging_fraction': 0.35466813453026386, 'bagging_freq': 7, 'num_leaves': 520, 'min_child_samples': 39}. Best is trial 1 with value: -0.8821050712028146.\u001b[0m\n"
     ]
    },
    {
     "name": "stdout",
     "output_type": "stream",
     "text": [
      "Early stopping, best iteration is:\n",
      "[29]\ttraining's l1: 1.0206\tvalid_1's l1: 0.882108\n",
      "[LightGBM] [Warning] feature_fraction is set=0.5688752380438824, colsample_bytree=0.6 will be ignored. Current value: feature_fraction=0.5688752380438824\n",
      "[LightGBM] [Warning] bagging_fraction is set=0.9505380661219516, subsample=0.6 will be ignored. Current value: bagging_fraction=0.9505380661219516\n",
      "[LightGBM] [Warning] bagging_freq is set=18, subsample_freq=0 will be ignored. Current value: bagging_freq=18\n",
      "Training until validation scores don't improve for 100 rounds\n",
      "[100]\ttraining's l1: 0.988496\tvalid_1's l1: 0.897168\n"
     ]
    },
    {
     "name": "stderr",
     "output_type": "stream",
     "text": [
      "\u001b[32m[I 2021-07-31 12:51:12,424]\u001b[0m Trial 2 finished with value: -0.8799379297662261 and parameters: {'max_depth': 19, 'min_child_weight': 11, 'subsample': 0.6, 'colsample_bytree': 0.6, 'reg_lambda': 458.91113323004646, 'reg_alpha': 0.22616526038988607, 'feature_fraction': 0.5688752380438824, 'bagging_fraction': 0.9505380661219516, 'bagging_freq': 18, 'num_leaves': 814, 'min_child_samples': 94}. Best is trial 2 with value: -0.8799379297662261.\u001b[0m\n"
     ]
    },
    {
     "name": "stdout",
     "output_type": "stream",
     "text": [
      "Early stopping, best iteration is:\n",
      "[22]\ttraining's l1: 1.01892\tvalid_1's l1: 0.87994\n",
      "[LightGBM] [Warning] feature_fraction is set=0.3842181649194286, colsample_bytree=0.6 will be ignored. Current value: feature_fraction=0.3842181649194286\n",
      "[LightGBM] [Warning] bagging_fraction is set=0.2207930671620173, subsample=0.6 will be ignored. Current value: bagging_fraction=0.2207930671620173\n",
      "[LightGBM] [Warning] bagging_freq is set=5, subsample_freq=0 will be ignored. Current value: bagging_freq=5\n",
      "Training until validation scores don't improve for 100 rounds\n",
      "[100]\ttraining's l1: 0.994141\tvalid_1's l1: 0.920063\n"
     ]
    },
    {
     "name": "stderr",
     "output_type": "stream",
     "text": [
      "\u001b[32m[I 2021-07-31 12:51:20,459]\u001b[0m Trial 3 finished with value: -0.8790611099133823 and parameters: {'max_depth': 20, 'min_child_weight': 12, 'subsample': 0.6, 'colsample_bytree': 0.6, 'reg_lambda': 0.348436707468549, 'reg_alpha': 0.009244047960250691, 'feature_fraction': 0.3842181649194286, 'bagging_fraction': 0.2207930671620173, 'bagging_freq': 5, 'num_leaves': 958, 'min_child_samples': 36}. Best is trial 3 with value: -0.8790611099133823.\u001b[0m\n"
     ]
    },
    {
     "name": "stdout",
     "output_type": "stream",
     "text": [
      "Early stopping, best iteration is:\n",
      "[16]\ttraining's l1: 1.02005\tvalid_1's l1: 0.879064\n",
      "[LightGBM] [Warning] feature_fraction is set=0.35859138165174764, colsample_bytree=0.7 will be ignored. Current value: feature_fraction=0.35859138165174764\n",
      "[LightGBM] [Warning] bagging_fraction is set=0.9113492494736575, subsample=0.8 will be ignored. Current value: bagging_fraction=0.9113492494736575\n",
      "[LightGBM] [Warning] bagging_freq is set=8, subsample_freq=0 will be ignored. Current value: bagging_freq=8\n",
      "Training until validation scores don't improve for 100 rounds\n",
      "[100]\ttraining's l1: 1.00333\tvalid_1's l1: 0.883949\n"
     ]
    },
    {
     "name": "stderr",
     "output_type": "stream",
     "text": [
      "\u001b[32m[I 2021-07-31 12:51:29,003]\u001b[0m Trial 4 finished with value: -0.8769176510053903 and parameters: {'max_depth': 19, 'min_child_weight': 18, 'subsample': 0.8, 'colsample_bytree': 0.7, 'reg_lambda': 0.0032247817458084848, 'reg_alpha': 0.8944502394997838, 'feature_fraction': 0.35859138165174764, 'bagging_fraction': 0.9113492494736575, 'bagging_freq': 8, 'num_leaves': 442, 'min_child_samples': 29}. Best is trial 4 with value: -0.8769176510053903.\u001b[0m\n"
     ]
    },
    {
     "name": "stdout",
     "output_type": "stream",
     "text": [
      "Early stopping, best iteration is:\n",
      "[26]\ttraining's l1: 1.0177\tvalid_1's l1: 0.876929\n",
      "[LightGBM] [Warning] feature_fraction is set=0.3141112254032393, colsample_bytree=0.8 will be ignored. Current value: feature_fraction=0.3141112254032393\n",
      "[LightGBM] [Warning] bagging_fraction is set=0.6113154894339665, subsample=0.9 will be ignored. Current value: bagging_fraction=0.6113154894339665\n",
      "[LightGBM] [Warning] bagging_freq is set=9, subsample_freq=0 will be ignored. Current value: bagging_freq=9\n",
      "Training until validation scores don't improve for 100 rounds\n",
      "[100]\ttraining's l1: 1.03526\tvalid_1's l1: 0.878229\n",
      "[200]\ttraining's l1: 1.03051\tvalid_1's l1: 0.875469\n",
      "[300]\ttraining's l1: 1.02797\tvalid_1's l1: 0.874331\n"
     ]
    },
    {
     "name": "stderr",
     "output_type": "stream",
     "text": [
      "\u001b[32m[I 2021-07-31 12:51:37,873]\u001b[0m Trial 5 finished with value: -0.8741685807031705 and parameters: {'max_depth': 4, 'min_child_weight': 16, 'subsample': 0.9, 'colsample_bytree': 0.8, 'reg_lambda': 0.24480403254797317, 'reg_alpha': 20.7040709004549, 'feature_fraction': 0.3141112254032393, 'bagging_fraction': 0.6113154894339665, 'bagging_freq': 9, 'num_leaves': 837, 'min_child_samples': 49}. Best is trial 5 with value: -0.8741685807031705.\u001b[0m\n"
     ]
    },
    {
     "name": "stdout",
     "output_type": "stream",
     "text": [
      "Early stopping, best iteration is:\n",
      "[277]\ttraining's l1: 1.02808\tvalid_1's l1: 0.8742\n",
      "[LightGBM] [Warning] feature_fraction is set=0.8040237052422823, colsample_bytree=0.9 will be ignored. Current value: feature_fraction=0.8040237052422823\n",
      "[LightGBM] [Warning] bagging_fraction is set=0.3325196521691656, subsample=0.9 will be ignored. Current value: bagging_fraction=0.3325196521691656\n",
      "[LightGBM] [Warning] bagging_freq is set=17, subsample_freq=0 will be ignored. Current value: bagging_freq=17\n",
      "Training until validation scores don't improve for 100 rounds\n",
      "[100]\ttraining's l1: 1.03839\tvalid_1's l1: 0.880868\n",
      "[200]\ttraining's l1: 1.0336\tvalid_1's l1: 0.878732\n",
      "[300]\ttraining's l1: 1.03075\tvalid_1's l1: 0.878778\n",
      "[400]\ttraining's l1: 1.02984\tvalid_1's l1: 0.87819\n",
      "[500]\ttraining's l1: 1.02815\tvalid_1's l1: 0.877384\n",
      "[600]\ttraining's l1: 1.02665\tvalid_1's l1: 0.878383\n",
      "Early stopping, best iteration is:\n",
      "[510]\ttraining's l1: 1.02806\tvalid_1's l1: 0.877242\n"
     ]
    },
    {
     "name": "stderr",
     "output_type": "stream",
     "text": [
      "\u001b[32m[I 2021-07-31 12:51:46,598]\u001b[0m Trial 6 finished with value: -0.8772065864510816 and parameters: {'max_depth': 4, 'min_child_weight': 16, 'subsample': 0.9, 'colsample_bytree': 0.9, 'reg_lambda': 16.609392417680922, 'reg_alpha': 60.144680082002544, 'feature_fraction': 0.8040237052422823, 'bagging_fraction': 0.3325196521691656, 'bagging_freq': 17, 'num_leaves': 864, 'min_child_samples': 16}. Best is trial 5 with value: -0.8741685807031705.\u001b[0m\n"
     ]
    },
    {
     "name": "stdout",
     "output_type": "stream",
     "text": [
      "[LightGBM] [Warning] feature_fraction is set=0.3543883493382831, colsample_bytree=0.7 will be ignored. Current value: feature_fraction=0.3543883493382831\n",
      "[LightGBM] [Warning] bagging_fraction is set=0.6796661739307522, subsample=0.9 will be ignored. Current value: bagging_fraction=0.6796661739307522\n",
      "[LightGBM] [Warning] bagging_freq is set=15, subsample_freq=0 will be ignored. Current value: bagging_freq=15\n",
      "Training until validation scores don't improve for 100 rounds\n",
      "[100]\ttraining's l1: 0.998166\tvalid_1's l1: 0.89283\n"
     ]
    },
    {
     "name": "stderr",
     "output_type": "stream",
     "text": [
      "\u001b[32m[I 2021-07-31 12:51:54,408]\u001b[0m Trial 7 finished with value: -0.8789882960493052 and parameters: {'max_depth': 13, 'min_child_weight': 1, 'subsample': 0.9, 'colsample_bytree': 0.7, 'reg_lambda': 478.0441771773605, 'reg_alpha': 0.11611481725988251, 'feature_fraction': 0.3543883493382831, 'bagging_fraction': 0.6796661739307522, 'bagging_freq': 15, 'num_leaves': 525, 'min_child_samples': 62}. Best is trial 5 with value: -0.8741685807031705.\u001b[0m\n"
     ]
    },
    {
     "name": "stdout",
     "output_type": "stream",
     "text": [
      "Early stopping, best iteration is:\n",
      "[29]\ttraining's l1: 1.01967\tvalid_1's l1: 0.878996\n",
      "[LightGBM] [Warning] feature_fraction is set=0.3099469026626371, colsample_bytree=0.5 will be ignored. Current value: feature_fraction=0.3099469026626371\n",
      "[LightGBM] [Warning] bagging_fraction is set=0.9779685013702044, subsample=0.6 will be ignored. Current value: bagging_fraction=0.9779685013702044\n",
      "[LightGBM] [Warning] bagging_freq is set=9, subsample_freq=0 will be ignored. Current value: bagging_freq=9\n",
      "Training until validation scores don't improve for 100 rounds\n",
      "[100]\ttraining's l1: 1.00429\tvalid_1's l1: 0.876852\n"
     ]
    },
    {
     "name": "stderr",
     "output_type": "stream",
     "text": [
      "\u001b[32m[I 2021-07-31 12:52:01,821]\u001b[0m Trial 8 finished with value: -0.873467550276437 and parameters: {'max_depth': 9, 'min_child_weight': 2, 'subsample': 0.6, 'colsample_bytree': 0.5, 'reg_lambda': 0.010321988427714555, 'reg_alpha': 15.056247542194047, 'feature_fraction': 0.3099469026626371, 'bagging_fraction': 0.9779685013702044, 'bagging_freq': 9, 'num_leaves': 281, 'min_child_samples': 98}. Best is trial 8 with value: -0.873467550276437.\u001b[0m\n"
     ]
    },
    {
     "name": "stdout",
     "output_type": "stream",
     "text": [
      "Early stopping, best iteration is:\n",
      "[43]\ttraining's l1: 1.01435\tvalid_1's l1: 0.873471\n",
      "[LightGBM] [Warning] feature_fraction is set=0.4049743379155084, colsample_bytree=0.9 will be ignored. Current value: feature_fraction=0.4049743379155084\n",
      "[LightGBM] [Warning] bagging_fraction is set=0.7469135944171252, subsample=0.8 will be ignored. Current value: bagging_fraction=0.7469135944171252\n",
      "[LightGBM] [Warning] bagging_freq is set=9, subsample_freq=0 will be ignored. Current value: bagging_freq=9\n",
      "Training until validation scores don't improve for 100 rounds\n",
      "[100]\ttraining's l1: 1.01113\tvalid_1's l1: 0.882125\n"
     ]
    },
    {
     "name": "stderr",
     "output_type": "stream",
     "text": [
      "\u001b[32m[I 2021-07-31 12:52:08,963]\u001b[0m Trial 9 finished with value: -0.8768758831758319 and parameters: {'max_depth': 12, 'min_child_weight': 14, 'subsample': 0.8, 'colsample_bytree': 0.9, 'reg_lambda': 84.4955390471191, 'reg_alpha': 4.208263403155827, 'feature_fraction': 0.4049743379155084, 'bagging_fraction': 0.7469135944171252, 'bagging_freq': 9, 'num_leaves': 219, 'min_child_samples': 16}. Best is trial 8 with value: -0.873467550276437.\u001b[0m\n"
     ]
    },
    {
     "name": "stdout",
     "output_type": "stream",
     "text": [
      "Early stopping, best iteration is:\n",
      "[36]\ttraining's l1: 1.0217\tvalid_1's l1: 0.876881\n",
      "[LightGBM] [Warning] feature_fraction is set=0.9555764755588719, colsample_bytree=0.5 will be ignored. Current value: feature_fraction=0.9555764755588719\n",
      "[LightGBM] [Warning] bagging_fraction is set=0.47977173526029077, subsample=0.5 will be ignored. Current value: bagging_fraction=0.47977173526029077\n",
      "[LightGBM] [Warning] bagging_freq is set=1, subsample_freq=0 will be ignored. Current value: bagging_freq=1\n",
      "Training until validation scores don't improve for 100 rounds\n",
      "[100]\ttraining's l1: 1.03597\tvalid_1's l1: 0.888517\n"
     ]
    },
    {
     "name": "stderr",
     "output_type": "stream",
     "text": [
      "\u001b[32m[I 2021-07-31 12:52:15,580]\u001b[0m Trial 10 finished with value: -0.8858068462030302 and parameters: {'max_depth': 7, 'min_child_weight': 4, 'subsample': 0.5, 'colsample_bytree': 0.5, 'reg_lambda': 0.0011995969909330778, 'reg_alpha': 876.7419938901219, 'feature_fraction': 0.9555764755588719, 'bagging_fraction': 0.47977173526029077, 'bagging_freq': 1, 'num_leaves': 37, 'min_child_samples': 99}. Best is trial 8 with value: -0.873467550276437.\u001b[0m\n"
     ]
    },
    {
     "name": "stdout",
     "output_type": "stream",
     "text": [
      "Early stopping, best iteration is:\n",
      "[21]\ttraining's l1: 1.04597\tvalid_1's l1: 0.885807\n",
      "[LightGBM] [Warning] feature_fraction is set=0.201475406285806, colsample_bytree=0.5 will be ignored. Current value: feature_fraction=0.201475406285806\n",
      "[LightGBM] [Warning] bagging_fraction is set=0.5424553856722554, subsample=0.5 will be ignored. Current value: bagging_fraction=0.5424553856722554\n",
      "[LightGBM] [Warning] bagging_freq is set=13, subsample_freq=0 will be ignored. Current value: bagging_freq=13\n",
      "Training until validation scores don't improve for 100 rounds\n",
      "[100]\ttraining's l1: 1.0409\tvalid_1's l1: 0.880503\n",
      "[200]\ttraining's l1: 1.03681\tvalid_1's l1: 0.878751\n",
      "[300]\ttraining's l1: 1.03415\tvalid_1's l1: 0.877943\n",
      "[400]\ttraining's l1: 1.03293\tvalid_1's l1: 0.877901\n"
     ]
    },
    {
     "name": "stderr",
     "output_type": "stream",
     "text": [
      "\u001b[32m[I 2021-07-31 12:52:23,760]\u001b[0m Trial 11 finished with value: -0.8777068269450613 and parameters: {'max_depth': 3, 'min_child_weight': 7, 'subsample': 0.5, 'colsample_bytree': 0.5, 'reg_lambda': 0.06051917894945171, 'reg_alpha': 20.63477168809435, 'feature_fraction': 0.201475406285806, 'bagging_fraction': 0.5424553856722554, 'bagging_freq': 13, 'num_leaves': 187, 'min_child_samples': 76}. Best is trial 8 with value: -0.873467550276437.\u001b[0m\n"
     ]
    },
    {
     "name": "stdout",
     "output_type": "stream",
     "text": [
      "Early stopping, best iteration is:\n",
      "[349]\ttraining's l1: 1.0335\tvalid_1's l1: 0.877737\n",
      "[LightGBM] [Warning] feature_fraction is set=0.5484702920827891, colsample_bytree=0.8 will be ignored. Current value: feature_fraction=0.5484702920827891\n",
      "[LightGBM] [Warning] bagging_fraction is set=0.7744873031531395, subsample=0.7 will be ignored. Current value: bagging_fraction=0.7744873031531395\n",
      "[LightGBM] [Warning] bagging_freq is set=12, subsample_freq=0 will be ignored. Current value: bagging_freq=12\n",
      "Training until validation scores don't improve for 100 rounds\n",
      "[100]\ttraining's l1: 1.02884\tvalid_1's l1: 0.887051\n"
     ]
    },
    {
     "name": "stderr",
     "output_type": "stream",
     "text": [
      "\u001b[32m[I 2021-07-31 12:52:30,567]\u001b[0m Trial 12 finished with value: -0.8848725843065732 and parameters: {'max_depth': 8, 'min_child_weight': 8, 'subsample': 0.7, 'colsample_bytree': 0.8, 'reg_lambda': 0.02401572718348756, 'reg_alpha': 655.5325062158591, 'feature_fraction': 0.5484702920827891, 'bagging_fraction': 0.7744873031531395, 'bagging_freq': 12, 'num_leaves': 709, 'min_child_samples': 81}. Best is trial 8 with value: -0.873467550276437.\u001b[0m\n"
     ]
    },
    {
     "name": "stdout",
     "output_type": "stream",
     "text": [
      "Early stopping, best iteration is:\n",
      "[40]\ttraining's l1: 1.03549\tvalid_1's l1: 0.884873\n",
      "[LightGBM] [Warning] feature_fraction is set=0.24025592173234056, colsample_bytree=0.6 will be ignored. Current value: feature_fraction=0.24025592173234056\n",
      "[LightGBM] [Warning] bagging_fraction is set=0.9917064628645791, subsample=0.8 will be ignored. Current value: bagging_fraction=0.9917064628645791\n",
      "[LightGBM] [Warning] bagging_freq is set=3, subsample_freq=0 will be ignored. Current value: bagging_freq=3\n",
      "Training until validation scores don't improve for 100 rounds\n",
      "[100]\ttraining's l1: 1.05841\tvalid_1's l1: 0.895931\n",
      "[200]\ttraining's l1: 1.0584\tvalid_1's l1: 0.895924\n"
     ]
    },
    {
     "name": "stderr",
     "output_type": "stream",
     "text": [
      "\u001b[32m[I 2021-07-31 12:52:39,842]\u001b[0m Trial 13 finished with value: -0.8959204736781134 and parameters: {'max_depth': 1, 'min_child_weight': 1, 'subsample': 0.8, 'colsample_bytree': 0.6, 'reg_lambda': 2.458613774289847, 'reg_alpha': 7.050804084217824, 'feature_fraction': 0.24025592173234056, 'bagging_fraction': 0.9917064628645791, 'bagging_freq': 3, 'num_leaves': 339, 'min_child_samples': 50}. Best is trial 8 with value: -0.873467550276437.\u001b[0m\n"
     ]
    },
    {
     "name": "stdout",
     "output_type": "stream",
     "text": [
      "Early stopping, best iteration is:\n",
      "[170]\ttraining's l1: 1.0584\tvalid_1's l1: 0.895921\n",
      "[LightGBM] [Warning] feature_fraction is set=0.48218093291351255, colsample_bytree=0.8 will be ignored. Current value: feature_fraction=0.48218093291351255\n",
      "[LightGBM] [Warning] bagging_fraction is set=0.6134520784639863, subsample=0.6 will be ignored. Current value: bagging_fraction=0.6134520784639863\n",
      "[LightGBM] [Warning] bagging_freq is set=11, subsample_freq=0 will be ignored. Current value: bagging_freq=11\n",
      "Training until validation scores don't improve for 100 rounds\n",
      "[100]\ttraining's l1: 1.02112\tvalid_1's l1: 0.883483\n"
     ]
    },
    {
     "name": "stderr",
     "output_type": "stream",
     "text": [
      "\u001b[32m[I 2021-07-31 12:52:45,507]\u001b[0m Trial 14 finished with value: -0.8801888514505976 and parameters: {'max_depth': 8, 'min_child_weight': 15, 'subsample': 0.6, 'colsample_bytree': 0.8, 'reg_lambda': 0.011448385850760062, 'reg_alpha': 205.12554699936283, 'feature_fraction': 0.48218093291351255, 'bagging_fraction': 0.6134520784639863, 'bagging_freq': 11, 'num_leaves': 682, 'min_child_samples': 52}. Best is trial 8 with value: -0.873467550276437.\u001b[0m\n"
     ]
    },
    {
     "name": "stdout",
     "output_type": "stream",
     "text": [
      "Early stopping, best iteration is:\n",
      "[34]\ttraining's l1: 1.0312\tvalid_1's l1: 0.880189\n",
      "[LightGBM] [Warning] feature_fraction is set=0.6782333976215236, colsample_bytree=0.9 will be ignored. Current value: feature_fraction=0.6782333976215236\n",
      "[LightGBM] [Warning] bagging_fraction is set=0.41377988579487557, subsample=0.5 will be ignored. Current value: bagging_fraction=0.41377988579487557\n",
      "[LightGBM] [Warning] bagging_freq is set=5, subsample_freq=0 will be ignored. Current value: bagging_freq=5\n",
      "Training until validation scores don't improve for 100 rounds\n",
      "[100]\ttraining's l1: 1.02918\tvalid_1's l1: 0.875061\n",
      "[200]\ttraining's l1: 1.0232\tvalid_1's l1: 0.873172\n"
     ]
    },
    {
     "name": "stderr",
     "output_type": "stream",
     "text": [
      "\u001b[32m[I 2021-07-31 12:52:51,956]\u001b[0m Trial 15 finished with value: -0.8730609119679298 and parameters: {'max_depth': 5, 'min_child_weight': 8, 'subsample': 0.5, 'colsample_bytree': 0.9, 'reg_lambda': 0.28080515750796126, 'reg_alpha': 3.063840397732319, 'feature_fraction': 0.6782333976215236, 'bagging_fraction': 0.41377988579487557, 'bagging_freq': 5, 'num_leaves': 52, 'min_child_samples': 73}. Best is trial 15 with value: -0.8730609119679298.\u001b[0m\n"
     ]
    },
    {
     "name": "stdout",
     "output_type": "stream",
     "text": [
      "[300]\ttraining's l1: 1.02026\tvalid_1's l1: 0.873225\n",
      "Early stopping, best iteration is:\n",
      "[202]\ttraining's l1: 1.02309\tvalid_1's l1: 0.87309\n",
      "[LightGBM] [Warning] feature_fraction is set=0.7478556392707584, colsample_bytree=0.5 will be ignored. Current value: feature_fraction=0.7478556392707584\n",
      "[LightGBM] [Warning] bagging_fraction is set=0.4001501168163806, subsample=0.5 will be ignored. Current value: bagging_fraction=0.4001501168163806\n",
      "[LightGBM] [Warning] bagging_freq is set=4, subsample_freq=0 will be ignored. Current value: bagging_freq=4\n",
      "Training until validation scores don't improve for 100 rounds\n",
      "[100]\ttraining's l1: 1.04439\tvalid_1's l1: 0.882796\n",
      "[200]\ttraining's l1: 1.04424\tvalid_1's l1: 0.882757\n",
      "[300]\ttraining's l1: 1.0434\tvalid_1's l1: 0.882356\n",
      "[400]\ttraining's l1: 1.04006\tvalid_1's l1: 0.881115\n",
      "[500]\ttraining's l1: 1.03899\tvalid_1's l1: 0.880485\n",
      "[600]\ttraining's l1: 1.03845\tvalid_1's l1: 0.8805\n",
      "Early stopping, best iteration is:\n",
      "[570]\ttraining's l1: 1.03862\tvalid_1's l1: 0.88024\n"
     ]
    },
    {
     "name": "stderr",
     "output_type": "stream",
     "text": [
      "\u001b[32m[I 2021-07-31 12:53:03,754]\u001b[0m Trial 16 finished with value: -0.8802307744547717 and parameters: {'max_depth': 11, 'min_child_weight': 4, 'subsample': 0.5, 'colsample_bytree': 0.5, 'reg_lambda': 0.6660572260759584, 'reg_alpha': 0.024447118441562703, 'feature_fraction': 0.7478556392707584, 'bagging_fraction': 0.4001501168163806, 'bagging_freq': 4, 'num_leaves': 12, 'min_child_samples': 86}. Best is trial 15 with value: -0.8730609119679298.\u001b[0m\n"
     ]
    },
    {
     "name": "stdout",
     "output_type": "stream",
     "text": [
      "[LightGBM] [Warning] feature_fraction is set=0.664900744882384, colsample_bytree=0.9 will be ignored. Current value: feature_fraction=0.664900744882384\n",
      "[LightGBM] [Warning] bagging_fraction is set=0.22493849593206108, subsample=0.5 will be ignored. Current value: bagging_fraction=0.22493849593206108\n",
      "[LightGBM] [Warning] bagging_freq is set=6, subsample_freq=0 will be ignored. Current value: bagging_freq=6\n",
      "Training until validation scores don't improve for 100 rounds\n",
      "[100]\ttraining's l1: 1.02311\tvalid_1's l1: 0.873813\n",
      "[200]\ttraining's l1: 1.01895\tvalid_1's l1: 0.873572\n",
      "[300]\ttraining's l1: 1.01819\tvalid_1's l1: 0.872675\n",
      "Early stopping, best iteration is:\n",
      "[266]\ttraining's l1: 1.01833\tvalid_1's l1: 0.872513\n"
     ]
    },
    {
     "name": "stderr",
     "output_type": "stream",
     "text": [
      "\u001b[32m[I 2021-07-31 12:53:09,732]\u001b[0m Trial 17 finished with value: -0.8724684404614521 and parameters: {'max_depth': 6, 'min_child_weight': 8, 'subsample': 0.5, 'colsample_bytree': 0.9, 'reg_lambda': 2.421399956997482, 'reg_alpha': 0.0013559333543724733, 'feature_fraction': 0.664900744882384, 'bagging_fraction': 0.22493849593206108, 'bagging_freq': 6, 'num_leaves': 142, 'min_child_samples': 70}. Best is trial 17 with value: -0.8724684404614521.\u001b[0m\n"
     ]
    },
    {
     "name": "stdout",
     "output_type": "stream",
     "text": [
      "[LightGBM] [Warning] feature_fraction is set=0.6713575943899399, colsample_bytree=0.9 will be ignored. Current value: feature_fraction=0.6713575943899399\n",
      "[LightGBM] [Warning] bagging_fraction is set=0.2024666758457223, subsample=0.5 will be ignored. Current value: bagging_fraction=0.2024666758457223\n",
      "[LightGBM] [Warning] bagging_freq is set=1, subsample_freq=0 will be ignored. Current value: bagging_freq=1\n",
      "Training until validation scores don't improve for 100 rounds\n",
      "[100]\ttraining's l1: 1.02514\tvalid_1's l1: 0.873217\n",
      "[200]\ttraining's l1: 1.02053\tvalid_1's l1: 0.873294\n"
     ]
    },
    {
     "name": "stderr",
     "output_type": "stream",
     "text": [
      "\u001b[32m[I 2021-07-31 12:53:16,115]\u001b[0m Trial 18 finished with value: -0.8727215665887922 and parameters: {'max_depth': 6, 'min_child_weight': 8, 'subsample': 0.5, 'colsample_bytree': 0.9, 'reg_lambda': 4.4589174396682925, 'reg_alpha': 0.0017038187674906476, 'feature_fraction': 0.6713575943899399, 'bagging_fraction': 0.2024666758457223, 'bagging_freq': 1, 'num_leaves': 102, 'min_child_samples': 68}. Best is trial 17 with value: -0.8724684404614521.\u001b[0m\n"
     ]
    },
    {
     "name": "stdout",
     "output_type": "stream",
     "text": [
      "Early stopping, best iteration is:\n",
      "[157]\ttraining's l1: 1.02181\tvalid_1's l1: 0.87274\n",
      "[LightGBM] [Warning] feature_fraction is set=0.9183211963417209, colsample_bytree=0.9 will be ignored. Current value: feature_fraction=0.9183211963417209\n",
      "[LightGBM] [Warning] bagging_fraction is set=0.20508480982098265, subsample=0.5 will be ignored. Current value: bagging_fraction=0.20508480982098265\n",
      "[LightGBM] [Warning] bagging_freq is set=1, subsample_freq=0 will be ignored. Current value: bagging_freq=1\n",
      "Training until validation scores don't improve for 100 rounds\n",
      "[100]\ttraining's l1: 1.04793\tvalid_1's l1: 0.883043\n",
      "[200]\ttraining's l1: 1.04409\tvalid_1's l1: 0.880412\n",
      "[300]\ttraining's l1: 1.04207\tvalid_1's l1: 0.879578\n",
      "[400]\ttraining's l1: 1.041\tvalid_1's l1: 0.878893\n",
      "[500]\ttraining's l1: 1.04012\tvalid_1's l1: 0.878508\n"
     ]
    },
    {
     "name": "stderr",
     "output_type": "stream",
     "text": [
      "\u001b[32m[I 2021-07-31 12:53:27,954]\u001b[0m Trial 19 finished with value: -0.878422732935704 and parameters: {'max_depth': 2, 'min_child_weight': 6, 'subsample': 0.5, 'colsample_bytree': 0.9, 'reg_lambda': 3.84191881051635, 'reg_alpha': 0.0013614666995343876, 'feature_fraction': 0.9183211963417209, 'bagging_fraction': 0.20508480982098265, 'bagging_freq': 1, 'num_leaves': 135, 'min_child_samples': 65}. Best is trial 17 with value: -0.8724684404614521.\u001b[0m\n"
     ]
    },
    {
     "name": "stdout",
     "output_type": "stream",
     "text": [
      "Early stopping, best iteration is:\n",
      "[447]\ttraining's l1: 1.04016\tvalid_1's l1: 0.878458\n",
      "[LightGBM] [Warning] feature_fraction is set=0.6574050008672712, colsample_bytree=0.9 will be ignored. Current value: feature_fraction=0.6574050008672712\n",
      "[LightGBM] [Warning] bagging_fraction is set=0.26147399261467574, subsample=0.5 will be ignored. Current value: bagging_fraction=0.26147399261467574\n",
      "[LightGBM] [Warning] bagging_freq is set=2, subsample_freq=0 will be ignored. Current value: bagging_freq=2\n",
      "Training until validation scores don't improve for 100 rounds\n",
      "[100]\ttraining's l1: 1.02453\tvalid_1's l1: 0.874962\n",
      "[200]\ttraining's l1: 1.01905\tvalid_1's l1: 0.873084\n"
     ]
    },
    {
     "name": "stderr",
     "output_type": "stream",
     "text": [
      "\u001b[32m[I 2021-07-31 12:53:34,011]\u001b[0m Trial 20 finished with value: -0.8728913666310298 and parameters: {'max_depth': 6, 'min_child_weight': 10, 'subsample': 0.5, 'colsample_bytree': 0.9, 'reg_lambda': 24.090274877935236, 'reg_alpha': 0.0010094070023306252, 'feature_fraction': 0.6574050008672712, 'bagging_fraction': 0.26147399261467574, 'bagging_freq': 2, 'num_leaves': 366, 'min_child_samples': 69}. Best is trial 17 with value: -0.8724684404614521.\u001b[0m\n"
     ]
    },
    {
     "name": "stdout",
     "output_type": "stream",
     "text": [
      "Early stopping, best iteration is:\n",
      "[171]\ttraining's l1: 1.01926\tvalid_1's l1: 0.872904\n",
      "[LightGBM] [Warning] feature_fraction is set=0.6595797428877238, colsample_bytree=0.9 will be ignored. Current value: feature_fraction=0.6595797428877238\n",
      "[LightGBM] [Warning] bagging_fraction is set=0.28193591675685953, subsample=0.5 will be ignored. Current value: bagging_fraction=0.28193591675685953\n",
      "[LightGBM] [Warning] bagging_freq is set=2, subsample_freq=0 will be ignored. Current value: bagging_freq=2\n",
      "Training until validation scores don't improve for 100 rounds\n",
      "[100]\ttraining's l1: 1.02484\tvalid_1's l1: 0.874048\n",
      "[200]\ttraining's l1: 1.01988\tvalid_1's l1: 0.873058\n"
     ]
    },
    {
     "name": "stderr",
     "output_type": "stream",
     "text": [
      "\u001b[32m[I 2021-07-31 12:53:40,386]\u001b[0m Trial 21 finished with value: -0.872462482269524 and parameters: {'max_depth': 6, 'min_child_weight': 9, 'subsample': 0.5, 'colsample_bytree': 0.9, 'reg_lambda': 16.12872778921318, 'reg_alpha': 0.001244828386086339, 'feature_fraction': 0.6595797428877238, 'bagging_fraction': 0.28193591675685953, 'bagging_freq': 2, 'num_leaves': 385, 'min_child_samples': 69}. Best is trial 21 with value: -0.872462482269524.\u001b[0m\n"
     ]
    },
    {
     "name": "stdout",
     "output_type": "stream",
     "text": [
      "Early stopping, best iteration is:\n",
      "[181]\ttraining's l1: 1.02103\tvalid_1's l1: 0.872484\n",
      "[LightGBM] [Warning] feature_fraction is set=0.8227056702390138, colsample_bytree=0.9 will be ignored. Current value: feature_fraction=0.8227056702390138\n",
      "[LightGBM] [Warning] bagging_fraction is set=0.27895413255064694, subsample=0.5 will be ignored. Current value: bagging_fraction=0.27895413255064694\n",
      "[LightGBM] [Warning] bagging_freq is set=6, subsample_freq=0 will be ignored. Current value: bagging_freq=6\n",
      "Training until validation scores don't improve for 100 rounds\n",
      "[100]\ttraining's l1: 1.02097\tvalid_1's l1: 0.87966\n"
     ]
    },
    {
     "name": "stderr",
     "output_type": "stream",
     "text": [
      "\u001b[32m[I 2021-07-31 12:53:45,264]\u001b[0m Trial 22 finished with value: -0.8769438262095889 and parameters: {'max_depth': 10, 'min_child_weight': 10, 'subsample': 0.5, 'colsample_bytree': 0.9, 'reg_lambda': 8.568226510371472, 'reg_alpha': 0.004194018661012776, 'feature_fraction': 0.8227056702390138, 'bagging_fraction': 0.27895413255064694, 'bagging_freq': 6, 'num_leaves': 110, 'min_child_samples': 87}. Best is trial 21 with value: -0.872462482269524.\u001b[0m\n"
     ]
    },
    {
     "name": "stdout",
     "output_type": "stream",
     "text": [
      "Early stopping, best iteration is:\n",
      "[48]\ttraining's l1: 1.02419\tvalid_1's l1: 0.876952\n",
      "[LightGBM] [Warning] feature_fraction is set=0.6432652207368109, colsample_bytree=0.9 will be ignored. Current value: feature_fraction=0.6432652207368109\n",
      "[LightGBM] [Warning] bagging_fraction is set=0.21117473382948718, subsample=0.6 will be ignored. Current value: bagging_fraction=0.21117473382948718\n",
      "[LightGBM] [Warning] bagging_freq is set=3, subsample_freq=0 will be ignored. Current value: bagging_freq=3\n",
      "Training until validation scores don't improve for 100 rounds\n",
      "[100]\ttraining's l1: 1.02647\tvalid_1's l1: 0.877083\n",
      "[200]\ttraining's l1: 1.02289\tvalid_1's l1: 0.876668\n",
      "[300]\ttraining's l1: 1.02159\tvalid_1's l1: 0.875859\n",
      "Early stopping, best iteration is:\n",
      "[284]\ttraining's l1: 1.02165\tvalid_1's l1: 0.875624\n"
     ]
    },
    {
     "name": "stderr",
     "output_type": "stream",
     "text": [
      "\u001b[32m[I 2021-07-31 12:53:51,969]\u001b[0m Trial 23 finished with value: -0.8755881054286508 and parameters: {'max_depth': 6, 'min_child_weight': 5, 'subsample': 0.6, 'colsample_bytree': 0.9, 'reg_lambda': 93.38272142975833, 'reg_alpha': 0.0033966625420158458, 'feature_fraction': 0.6432652207368109, 'bagging_fraction': 0.21117473382948718, 'bagging_freq': 3, 'num_leaves': 243, 'min_child_samples': 78}. Best is trial 21 with value: -0.872462482269524.\u001b[0m\n"
     ]
    },
    {
     "name": "stdout",
     "output_type": "stream",
     "text": [
      "[LightGBM] [Warning] feature_fraction is set=0.5283591819264365, colsample_bytree=0.8 will be ignored. Current value: feature_fraction=0.5283591819264365\n",
      "[LightGBM] [Warning] bagging_fraction is set=0.30058874826019444, subsample=0.5 will be ignored. Current value: bagging_fraction=0.30058874826019444\n",
      "[LightGBM] [Warning] bagging_freq is set=1, subsample_freq=0 will be ignored. Current value: bagging_freq=1\n",
      "Training until validation scores don't improve for 100 rounds\n",
      "[100]\ttraining's l1: 1.05837\tvalid_1's l1: 0.895867\n",
      "[200]\ttraining's l1: 1.05835\tvalid_1's l1: 0.895849\n"
     ]
    },
    {
     "name": "stderr",
     "output_type": "stream",
     "text": [
      "\u001b[32m[I 2021-07-31 12:53:59,585]\u001b[0m Trial 24 finished with value: -0.8958473000244321 and parameters: {'max_depth': 1, 'min_child_weight': 9, 'subsample': 0.5, 'colsample_bytree': 0.8, 'reg_lambda': 1.804267001932609, 'reg_alpha': 0.03132774774362322, 'feature_fraction': 0.5283591819264365, 'bagging_fraction': 0.30058874826019444, 'bagging_freq': 1, 'num_leaves': 420, 'min_child_samples': 58}. Best is trial 21 with value: -0.872462482269524.\u001b[0m\n"
     ]
    },
    {
     "name": "stdout",
     "output_type": "stream",
     "text": [
      "Early stopping, best iteration is:\n",
      "[182]\ttraining's l1: 1.05835\tvalid_1's l1: 0.895848\n",
      "[LightGBM] [Warning] feature_fraction is set=0.7129847406889825, colsample_bytree=0.9 will be ignored. Current value: feature_fraction=0.7129847406889825\n",
      "[LightGBM] [Warning] bagging_fraction is set=0.4386246420107278, subsample=0.6 will be ignored. Current value: bagging_fraction=0.4386246420107278\n",
      "[LightGBM] [Warning] bagging_freq is set=3, subsample_freq=0 will be ignored. Current value: bagging_freq=3\n",
      "Training until validation scores don't improve for 100 rounds\n",
      "[100]\ttraining's l1: 1.02461\tvalid_1's l1: 0.875233\n",
      "[200]\ttraining's l1: 1.02015\tvalid_1's l1: 0.876205\n"
     ]
    },
    {
     "name": "stderr",
     "output_type": "stream",
     "text": [
      "\u001b[32m[I 2021-07-31 12:54:05,682]\u001b[0m Trial 25 finished with value: -0.8748926664718136 and parameters: {'max_depth': 6, 'min_child_weight': 12, 'subsample': 0.6, 'colsample_bytree': 0.9, 'reg_lambda': 55.91964864530494, 'reg_alpha': 0.002119504950596135, 'feature_fraction': 0.7129847406889825, 'bagging_fraction': 0.4386246420107278, 'bagging_freq': 3, 'num_leaves': 109, 'min_child_samples': 69}. Best is trial 21 with value: -0.872462482269524.\u001b[0m\n"
     ]
    },
    {
     "name": "stdout",
     "output_type": "stream",
     "text": [
      "Early stopping, best iteration is:\n",
      "[114]\ttraining's l1: 1.02361\tvalid_1's l1: 0.874904\n",
      "[LightGBM] [Warning] feature_fraction is set=0.6145068655011534, colsample_bytree=0.8 will be ignored. Current value: feature_fraction=0.6145068655011534\n",
      "[LightGBM] [Warning] bagging_fraction is set=0.20267413217693006, subsample=0.5 will be ignored. Current value: bagging_fraction=0.20267413217693006\n",
      "[LightGBM] [Warning] bagging_freq is set=5, subsample_freq=0 will be ignored. Current value: bagging_freq=5\n",
      "Training until validation scores don't improve for 100 rounds\n",
      "[100]\ttraining's l1: 1.04133\tvalid_1's l1: 0.880018\n",
      "[200]\ttraining's l1: 1.03474\tvalid_1's l1: 0.877324\n",
      "[300]\ttraining's l1: 1.0334\tvalid_1's l1: 0.877003\n",
      "[400]\ttraining's l1: 1.03249\tvalid_1's l1: 0.876945\n",
      "[500]\ttraining's l1: 1.03098\tvalid_1's l1: 0.875889\n",
      "[600]\ttraining's l1: 1.02961\tvalid_1's l1: 0.874881\n",
      "Early stopping, best iteration is:\n",
      "[589]\ttraining's l1: 1.02962\tvalid_1's l1: 0.87487\n"
     ]
    },
    {
     "name": "stderr",
     "output_type": "stream",
     "text": [
      "\u001b[32m[I 2021-07-31 12:54:13,323]\u001b[0m Trial 26 finished with value: -0.8748271859331102 and parameters: {'max_depth': 3, 'min_child_weight': 7, 'subsample': 0.5, 'colsample_bytree': 0.8, 'reg_lambda': 6.674733205153371, 'reg_alpha': 0.012366056729971183, 'feature_fraction': 0.6145068655011534, 'bagging_fraction': 0.20267413217693006, 'bagging_freq': 5, 'num_leaves': 599, 'min_child_samples': 58}. Best is trial 21 with value: -0.872462482269524.\u001b[0m\n"
     ]
    },
    {
     "name": "stdout",
     "output_type": "stream",
     "text": [
      "[LightGBM] [Warning] feature_fraction is set=0.8659290884226634, colsample_bytree=0.9 will be ignored. Current value: feature_fraction=0.8659290884226634\n",
      "[LightGBM] [Warning] bagging_fraction is set=0.3576981276930602, subsample=0.7 will be ignored. Current value: bagging_fraction=0.3576981276930602\n",
      "[LightGBM] [Warning] bagging_freq is set=1, subsample_freq=0 will be ignored. Current value: bagging_freq=1\n",
      "Training until validation scores don't improve for 100 rounds\n",
      "[100]\ttraining's l1: 1.00407\tvalid_1's l1: 0.881455\n"
     ]
    },
    {
     "name": "stderr",
     "output_type": "stream",
     "text": [
      "\u001b[32m[I 2021-07-31 12:54:22,393]\u001b[0m Trial 27 finished with value: -0.8758062081688331 and parameters: {'max_depth': 14, 'min_child_weight': 13, 'subsample': 0.7, 'colsample_bytree': 0.9, 'reg_lambda': 1.1424670687669636, 'reg_alpha': 0.001160188739067765, 'feature_fraction': 0.8659290884226634, 'bagging_fraction': 0.3576981276930602, 'bagging_freq': 1, 'num_leaves': 321, 'min_child_samples': 88}. Best is trial 21 with value: -0.872462482269524.\u001b[0m\n"
     ]
    },
    {
     "name": "stdout",
     "output_type": "stream",
     "text": [
      "Early stopping, best iteration is:\n",
      "[29]\ttraining's l1: 1.01777\tvalid_1's l1: 0.875807\n",
      "[LightGBM] [Warning] feature_fraction is set=0.4695873311372041, colsample_bytree=0.7 will be ignored. Current value: feature_fraction=0.4695873311372041\n",
      "[LightGBM] [Warning] bagging_fraction is set=0.25878048244208307, subsample=0.5 will be ignored. Current value: bagging_fraction=0.25878048244208307\n",
      "[LightGBM] [Warning] bagging_freq is set=6, subsample_freq=0 will be ignored. Current value: bagging_freq=6\n",
      "Training until validation scores don't improve for 100 rounds\n",
      "[100]\ttraining's l1: 1.01148\tvalid_1's l1: 0.881693\n"
     ]
    },
    {
     "name": "stderr",
     "output_type": "stream",
     "text": [
      "\u001b[32m[I 2021-07-31 12:54:26,988]\u001b[0m Trial 28 finished with value: -0.8749432910074363 and parameters: {'max_depth': 9, 'min_child_weight': 9, 'subsample': 0.5, 'colsample_bytree': 0.7, 'reg_lambda': 25.865617040047802, 'reg_alpha': 0.0062041649193031205, 'feature_fraction': 0.4695873311372041, 'bagging_fraction': 0.25878048244208307, 'bagging_freq': 6, 'num_leaves': 176, 'min_child_samples': 46}. Best is trial 21 with value: -0.872462482269524.\u001b[0m\n"
     ]
    },
    {
     "name": "stdout",
     "output_type": "stream",
     "text": [
      "Early stopping, best iteration is:\n",
      "[29]\ttraining's l1: 1.0259\tvalid_1's l1: 0.874944\n",
      "[LightGBM] [Warning] feature_fraction is set=0.6052444317437238, colsample_bytree=0.8 will be ignored. Current value: feature_fraction=0.6052444317437238\n",
      "[LightGBM] [Warning] bagging_fraction is set=0.49303431465510517, subsample=0.6 will be ignored. Current value: bagging_fraction=0.49303431465510517\n",
      "[LightGBM] [Warning] bagging_freq is set=3, subsample_freq=0 will be ignored. Current value: bagging_freq=3\n",
      "Training until validation scores don't improve for 100 rounds\n",
      "[100]\ttraining's l1: 1.02892\tvalid_1's l1: 0.875555\n",
      "[200]\ttraining's l1: 1.02378\tvalid_1's l1: 0.874533\n",
      "[300]\ttraining's l1: 1.02105\tvalid_1's l1: 0.874857\n"
     ]
    },
    {
     "name": "stderr",
     "output_type": "stream",
     "text": [
      "\u001b[32m[I 2021-07-31 12:54:36,935]\u001b[0m Trial 29 finished with value: -0.8744298517058192 and parameters: {'max_depth': 5, 'min_child_weight': 3, 'subsample': 0.6, 'colsample_bytree': 0.8, 'reg_lambda': 7.828163157386797, 'reg_alpha': 0.052974439115896395, 'feature_fraction': 0.6052444317437238, 'bagging_fraction': 0.49303431465510517, 'bagging_freq': 3, 'num_leaves': 447, 'min_child_samples': 69}. Best is trial 21 with value: -0.872462482269524.\u001b[0m\n"
     ]
    },
    {
     "name": "stdout",
     "output_type": "stream",
     "text": [
      "Early stopping, best iteration is:\n",
      "[210]\ttraining's l1: 1.02349\tvalid_1's l1: 0.874451\n",
      "[LightGBM] [Warning] feature_fraction is set=0.767712512639468, colsample_bytree=0.9 will be ignored. Current value: feature_fraction=0.767712512639468\n",
      "[LightGBM] [Warning] bagging_fraction is set=0.3220889919025977, subsample=0.7 will be ignored. Current value: bagging_fraction=0.3220889919025977\n",
      "[LightGBM] [Warning] bagging_freq is set=7, subsample_freq=0 will be ignored. Current value: bagging_freq=7\n",
      "Training until validation scores don't improve for 100 rounds\n",
      "[100]\ttraining's l1: 1.01802\tvalid_1's l1: 0.873317\n"
     ]
    },
    {
     "name": "stderr",
     "output_type": "stream",
     "text": [
      "\u001b[32m[I 2021-07-31 12:54:41,761]\u001b[0m Trial 30 finished with value: -0.8726273255712633 and parameters: {'max_depth': 7, 'min_child_weight': 6, 'subsample': 0.7, 'colsample_bytree': 0.9, 'reg_lambda': 0.1087299378703916, 'reg_alpha': 0.002424960626550473, 'feature_fraction': 0.767712512639468, 'bagging_fraction': 0.3220889919025977, 'bagging_freq': 7, 'num_leaves': 275, 'min_child_samples': 58}. Best is trial 21 with value: -0.872462482269524.\u001b[0m\n"
     ]
    },
    {
     "name": "stdout",
     "output_type": "stream",
     "text": [
      "Early stopping, best iteration is:\n",
      "[81]\ttraining's l1: 1.02008\tvalid_1's l1: 0.872632\n",
      "[LightGBM] [Warning] feature_fraction is set=0.7674179355564877, colsample_bytree=0.9 will be ignored. Current value: feature_fraction=0.7674179355564877\n",
      "[LightGBM] [Warning] bagging_fraction is set=0.3120219215116921, subsample=0.7 will be ignored. Current value: bagging_fraction=0.3120219215116921\n",
      "[LightGBM] [Warning] bagging_freq is set=8, subsample_freq=0 will be ignored. Current value: bagging_freq=8\n",
      "Training until validation scores don't improve for 100 rounds\n",
      "[100]\ttraining's l1: 1.01802\tvalid_1's l1: 0.872521\n"
     ]
    },
    {
     "name": "stderr",
     "output_type": "stream",
     "text": [
      "\u001b[32m[I 2021-07-31 12:54:46,694]\u001b[0m Trial 31 finished with value: -0.871881408476279 and parameters: {'max_depth': 7, 'min_child_weight': 6, 'subsample': 0.7, 'colsample_bytree': 0.9, 'reg_lambda': 0.05062432091956962, 'reg_alpha': 0.0010465500604969452, 'feature_fraction': 0.7674179355564877, 'bagging_fraction': 0.3120219215116921, 'bagging_freq': 8, 'num_leaves': 274, 'min_child_samples': 58}. Best is trial 31 with value: -0.871881408476279.\u001b[0m\n"
     ]
    },
    {
     "name": "stdout",
     "output_type": "stream",
     "text": [
      "Early stopping, best iteration is:\n",
      "[92]\ttraining's l1: 1.0187\tvalid_1's l1: 0.871894\n",
      "[LightGBM] [Warning] feature_fraction is set=0.7766805168451067, colsample_bytree=0.9 will be ignored. Current value: feature_fraction=0.7766805168451067\n",
      "[LightGBM] [Warning] bagging_fraction is set=0.33710387293308086, subsample=0.7 will be ignored. Current value: bagging_fraction=0.33710387293308086\n",
      "[LightGBM] [Warning] bagging_freq is set=7, subsample_freq=0 will be ignored. Current value: bagging_freq=7\n",
      "Training until validation scores don't improve for 100 rounds\n",
      "[100]\ttraining's l1: 1.00993\tvalid_1's l1: 0.871758\n"
     ]
    },
    {
     "name": "stderr",
     "output_type": "stream",
     "text": [
      "\u001b[32m[I 2021-07-31 12:54:51,965]\u001b[0m Trial 32 finished with value: -0.8698656774686749 and parameters: {'max_depth': 9, 'min_child_weight': 6, 'subsample': 0.7, 'colsample_bytree': 0.9, 'reg_lambda': 0.08549249965600668, 'reg_alpha': 0.012018630533603006, 'feature_fraction': 0.7766805168451067, 'bagging_fraction': 0.33710387293308086, 'bagging_freq': 7, 'num_leaves': 276, 'min_child_samples': 58}. Best is trial 32 with value: -0.8698656774686749.\u001b[0m\n"
     ]
    },
    {
     "name": "stdout",
     "output_type": "stream",
     "text": [
      "Early stopping, best iteration is:\n",
      "[47]\ttraining's l1: 1.01734\tvalid_1's l1: 0.869869\n",
      "[LightGBM] [Warning] feature_fraction is set=0.8750849407197405, colsample_bytree=0.9 will be ignored. Current value: feature_fraction=0.8750849407197405\n",
      "[LightGBM] [Warning] bagging_fraction is set=0.3857499829482147, subsample=0.7 will be ignored. Current value: bagging_fraction=0.3857499829482147\n",
      "[LightGBM] [Warning] bagging_freq is set=7, subsample_freq=0 will be ignored. Current value: bagging_freq=7\n",
      "Training until validation scores don't improve for 100 rounds\n",
      "[100]\ttraining's l1: 1.00395\tvalid_1's l1: 0.874738\n"
     ]
    },
    {
     "name": "stderr",
     "output_type": "stream",
     "text": [
      "\u001b[32m[I 2021-07-31 12:54:58,958]\u001b[0m Trial 33 finished with value: -0.870662228476116 and parameters: {'max_depth': 10, 'min_child_weight': 6, 'subsample': 0.7, 'colsample_bytree': 0.9, 'reg_lambda': 0.0608602595308025, 'reg_alpha': 0.015344984880930343, 'feature_fraction': 0.8750849407197405, 'bagging_fraction': 0.3857499829482147, 'bagging_freq': 7, 'num_leaves': 385, 'min_child_samples': 41}. Best is trial 32 with value: -0.8698656774686749.\u001b[0m\n"
     ]
    },
    {
     "name": "stdout",
     "output_type": "stream",
     "text": [
      "Early stopping, best iteration is:\n",
      "[45]\ttraining's l1: 1.01203\tvalid_1's l1: 0.870667\n",
      "[LightGBM] [Warning] feature_fraction is set=0.8707813983445725, colsample_bytree=0.8 will be ignored. Current value: feature_fraction=0.8707813983445725\n",
      "[LightGBM] [Warning] bagging_fraction is set=0.4143181589769389, subsample=0.7 will be ignored. Current value: bagging_fraction=0.4143181589769389\n",
      "[LightGBM] [Warning] bagging_freq is set=8, subsample_freq=0 will be ignored. Current value: bagging_freq=8\n",
      "Training until validation scores don't improve for 100 rounds\n",
      "[100]\ttraining's l1: 0.999439\tvalid_1's l1: 0.880442\n"
     ]
    },
    {
     "name": "stderr",
     "output_type": "stream",
     "text": [
      "\u001b[32m[I 2021-07-31 12:55:06,357]\u001b[0m Trial 34 finished with value: -0.8724192576991272 and parameters: {'max_depth': 11, 'min_child_weight': 5, 'subsample': 0.7, 'colsample_bytree': 0.8, 'reg_lambda': 0.056226894999264754, 'reg_alpha': 0.011705597402150493, 'feature_fraction': 0.8707813983445725, 'bagging_fraction': 0.4143181589769389, 'bagging_freq': 8, 'num_leaves': 384, 'min_child_samples': 39}. Best is trial 32 with value: -0.8698656774686749.\u001b[0m\n"
     ]
    },
    {
     "name": "stdout",
     "output_type": "stream",
     "text": [
      "Early stopping, best iteration is:\n",
      "[34]\ttraining's l1: 1.01149\tvalid_1's l1: 0.87242\n",
      "[LightGBM] [Warning] feature_fraction is set=0.9938045722014247, colsample_bytree=0.8 will be ignored. Current value: feature_fraction=0.9938045722014247\n",
      "[LightGBM] [Warning] bagging_fraction is set=0.3636213168933008, subsample=0.7 will be ignored. Current value: bagging_fraction=0.3636213168933008\n",
      "[LightGBM] [Warning] bagging_freq is set=10, subsample_freq=0 will be ignored. Current value: bagging_freq=10\n",
      "Training until validation scores don't improve for 100 rounds\n",
      "[100]\ttraining's l1: 0.993352\tvalid_1's l1: 0.88677\n"
     ]
    },
    {
     "name": "stderr",
     "output_type": "stream",
     "text": [
      "\u001b[32m[I 2021-07-31 12:55:14,680]\u001b[0m Trial 35 finished with value: -0.8744713138867981 and parameters: {'max_depth': 16, 'min_child_weight': 5, 'subsample': 0.7, 'colsample_bytree': 0.8, 'reg_lambda': 0.0642214632841589, 'reg_alpha': 0.4630539695134685, 'feature_fraction': 0.9938045722014247, 'bagging_fraction': 0.3636213168933008, 'bagging_freq': 10, 'num_leaves': 515, 'min_child_samples': 40}. Best is trial 32 with value: -0.8698656774686749.\u001b[0m\n"
     ]
    },
    {
     "name": "stdout",
     "output_type": "stream",
     "text": [
      "Early stopping, best iteration is:\n",
      "[22]\ttraining's l1: 1.01644\tvalid_1's l1: 0.874474\n",
      "[LightGBM] [Warning] feature_fraction is set=0.880677948849586, colsample_bytree=0.8 will be ignored. Current value: feature_fraction=0.880677948849586\n",
      "[LightGBM] [Warning] bagging_fraction is set=0.5415570876994127, subsample=0.8 will be ignored. Current value: bagging_fraction=0.5415570876994127\n",
      "[LightGBM] [Warning] bagging_freq is set=8, subsample_freq=0 will be ignored. Current value: bagging_freq=8\n",
      "Training until validation scores don't improve for 100 rounds\n",
      "[100]\ttraining's l1: 1.00409\tvalid_1's l1: 0.879905\n"
     ]
    },
    {
     "name": "stderr",
     "output_type": "stream",
     "text": [
      "\u001b[32m[I 2021-07-31 12:55:22,268]\u001b[0m Trial 36 finished with value: -0.8735558284758068 and parameters: {'max_depth': 11, 'min_child_weight': 3, 'subsample': 0.8, 'colsample_bytree': 0.8, 'reg_lambda': 0.022575495836660145, 'reg_alpha': 0.012822181634552064, 'feature_fraction': 0.880677948849586, 'bagging_fraction': 0.5415570876994127, 'bagging_freq': 8, 'num_leaves': 312, 'min_child_samples': 42}. Best is trial 32 with value: -0.8698656774686749.\u001b[0m\n"
     ]
    },
    {
     "name": "stdout",
     "output_type": "stream",
     "text": [
      "Early stopping, best iteration is:\n",
      "[35]\ttraining's l1: 1.01616\tvalid_1's l1: 0.873557\n",
      "[LightGBM] [Warning] feature_fraction is set=0.827882225792904, colsample_bytree=0.8 will be ignored. Current value: feature_fraction=0.827882225792904\n",
      "[LightGBM] [Warning] bagging_fraction is set=0.468550775364431, subsample=0.7 will be ignored. Current value: bagging_fraction=0.468550775364431\n",
      "[LightGBM] [Warning] bagging_freq is set=7, subsample_freq=0 will be ignored. Current value: bagging_freq=7\n",
      "Training until validation scores don't improve for 100 rounds\n",
      "[100]\ttraining's l1: 0.996805\tvalid_1's l1: 0.888416\n"
     ]
    },
    {
     "name": "stderr",
     "output_type": "stream",
     "text": [
      "\u001b[32m[I 2021-07-31 12:55:30,975]\u001b[0m Trial 37 finished with value: -0.8730005669457265 and parameters: {'max_depth': 14, 'min_child_weight': 6, 'subsample': 0.7, 'colsample_bytree': 0.8, 'reg_lambda': 0.0034365073778474284, 'reg_alpha': 0.10482932696688357, 'feature_fraction': 0.827882225792904, 'bagging_fraction': 0.468550775364431, 'bagging_freq': 7, 'num_leaves': 468, 'min_child_samples': 29}. Best is trial 32 with value: -0.8698656774686749.\u001b[0m\n"
     ]
    },
    {
     "name": "stdout",
     "output_type": "stream",
     "text": [
      "Early stopping, best iteration is:\n",
      "[30]\ttraining's l1: 1.01101\tvalid_1's l1: 0.873002\n",
      "[LightGBM] [Warning] feature_fraction is set=0.9839220538750721, colsample_bytree=0.7 will be ignored. Current value: feature_fraction=0.9839220538750721\n",
      "[LightGBM] [Warning] bagging_fraction is set=0.3954232819803376, subsample=0.8 will be ignored. Current value: bagging_fraction=0.3954232819803376\n",
      "[LightGBM] [Warning] bagging_freq is set=11, subsample_freq=0 will be ignored. Current value: bagging_freq=11\n",
      "Training until validation scores don't improve for 100 rounds\n",
      "[100]\ttraining's l1: 1.00006\tvalid_1's l1: 0.877491\n"
     ]
    },
    {
     "name": "stderr",
     "output_type": "stream",
     "text": [
      "\u001b[32m[I 2021-07-31 12:55:37,822]\u001b[0m Trial 38 finished with value: -0.8705528837559211 and parameters: {'max_depth': 10, 'min_child_weight': 4, 'subsample': 0.8, 'colsample_bytree': 0.7, 'reg_lambda': 0.13291674586953167, 'reg_alpha': 0.027793709267310618, 'feature_fraction': 0.9839220538750721, 'bagging_fraction': 0.3954232819803376, 'bagging_freq': 11, 'num_leaves': 565, 'min_child_samples': 34}. Best is trial 32 with value: -0.8698656774686749.\u001b[0m\n"
     ]
    },
    {
     "name": "stdout",
     "output_type": "stream",
     "text": [
      "Early stopping, best iteration is:\n",
      "[38]\ttraining's l1: 1.01118\tvalid_1's l1: 0.870556\n",
      "[LightGBM] [Warning] feature_fraction is set=0.9995102321386655, colsample_bytree=0.7 will be ignored. Current value: feature_fraction=0.9995102321386655\n",
      "[LightGBM] [Warning] bagging_fraction is set=0.3746961109312526, subsample=0.8 will be ignored. Current value: bagging_fraction=0.3746961109312526\n",
      "[LightGBM] [Warning] bagging_freq is set=13, subsample_freq=0 will be ignored. Current value: bagging_freq=13\n",
      "Training until validation scores don't improve for 100 rounds\n",
      "[100]\ttraining's l1: 1.00859\tvalid_1's l1: 0.873741\n"
     ]
    },
    {
     "name": "stderr",
     "output_type": "stream",
     "text": [
      "\u001b[32m[I 2021-07-31 12:55:45,133]\u001b[0m Trial 39 finished with value: -0.872919803894733 and parameters: {'max_depth': 9, 'min_child_weight': 2, 'subsample': 0.8, 'colsample_bytree': 0.7, 'reg_lambda': 0.14416675261153478, 'reg_alpha': 0.24748663705995133, 'feature_fraction': 0.9995102321386655, 'bagging_fraction': 0.3746961109312526, 'bagging_freq': 13, 'num_leaves': 594, 'min_child_samples': 31}. Best is trial 32 with value: -0.8698656774686749.\u001b[0m\n"
     ]
    },
    {
     "name": "stdout",
     "output_type": "stream",
     "text": [
      "Early stopping, best iteration is:\n",
      "[90]\ttraining's l1: 1.00988\tvalid_1's l1: 0.872939\n",
      "[LightGBM] [Warning] feature_fraction is set=0.929486017305186, colsample_bytree=0.6 will be ignored. Current value: feature_fraction=0.929486017305186\n",
      "[LightGBM] [Warning] bagging_fraction is set=0.3230080872403177, subsample=0.8 will be ignored. Current value: bagging_fraction=0.3230080872403177\n",
      "[LightGBM] [Warning] bagging_freq is set=10, subsample_freq=0 will be ignored. Current value: bagging_freq=10\n",
      "Training until validation scores don't improve for 100 rounds\n",
      "[100]\ttraining's l1: 1.00016\tvalid_1's l1: 0.881072\n"
     ]
    },
    {
     "name": "stderr",
     "output_type": "stream",
     "text": [
      "\u001b[32m[I 2021-07-31 12:55:51,406]\u001b[0m Trial 40 finished with value: -0.8720645970399376 and parameters: {'max_depth': 10, 'min_child_weight': 3, 'subsample': 0.8, 'colsample_bytree': 0.6, 'reg_lambda': 0.5681142407399655, 'reg_alpha': 0.9045930209505177, 'feature_fraction': 0.929486017305186, 'bagging_fraction': 0.3230080872403177, 'bagging_freq': 10, 'num_leaves': 572, 'min_child_samples': 23}. Best is trial 32 with value: -0.8698656774686749.\u001b[0m\n"
     ]
    },
    {
     "name": "stdout",
     "output_type": "stream",
     "text": [
      "Early stopping, best iteration is:\n",
      "[34]\ttraining's l1: 1.01469\tvalid_1's l1: 0.872067\n",
      "[LightGBM] [Warning] feature_fraction is set=0.9535561078500363, colsample_bytree=0.6 will be ignored. Current value: feature_fraction=0.9535561078500363\n",
      "[LightGBM] [Warning] bagging_fraction is set=0.3264599035808566, subsample=0.8 will be ignored. Current value: bagging_fraction=0.3264599035808566\n",
      "[LightGBM] [Warning] bagging_freq is set=10, subsample_freq=0 will be ignored. Current value: bagging_freq=10\n",
      "Training until validation scores don't improve for 100 rounds\n",
      "[100]\ttraining's l1: 0.999006\tvalid_1's l1: 0.887378\n"
     ]
    },
    {
     "name": "stderr",
     "output_type": "stream",
     "text": [
      "\u001b[32m[I 2021-07-31 12:55:57,848]\u001b[0m Trial 41 finished with value: -0.8757092775982722 and parameters: {'max_depth': 10, 'min_child_weight': 4, 'subsample': 0.8, 'colsample_bytree': 0.6, 'reg_lambda': 0.5776236117767383, 'reg_alpha': 0.08260820401528692, 'feature_fraction': 0.9535561078500363, 'bagging_fraction': 0.3264599035808566, 'bagging_freq': 10, 'num_leaves': 579, 'min_child_samples': 9}. Best is trial 32 with value: -0.8698656774686749.\u001b[0m\n"
     ]
    },
    {
     "name": "stdout",
     "output_type": "stream",
     "text": [
      "Early stopping, best iteration is:\n",
      "[29]\ttraining's l1: 1.01549\tvalid_1's l1: 0.875715\n",
      "[LightGBM] [Warning] feature_fraction is set=0.9150740631358694, colsample_bytree=0.6 will be ignored. Current value: feature_fraction=0.9150740631358694\n",
      "[LightGBM] [Warning] bagging_fraction is set=0.3798776227134479, subsample=0.8 will be ignored. Current value: bagging_fraction=0.3798776227134479\n",
      "[LightGBM] [Warning] bagging_freq is set=12, subsample_freq=0 will be ignored. Current value: bagging_freq=12\n",
      "Training until validation scores don't improve for 100 rounds\n",
      "[100]\ttraining's l1: 0.990958\tvalid_1's l1: 0.886937\n"
     ]
    },
    {
     "name": "stderr",
     "output_type": "stream",
     "text": [
      "\u001b[32m[I 2021-07-31 12:56:05,544]\u001b[0m Trial 42 finished with value: -0.8738180048478554 and parameters: {'max_depth': 12, 'min_child_weight': 2, 'subsample': 0.8, 'colsample_bytree': 0.6, 'reg_lambda': 0.14835431722052841, 'reg_alpha': 0.02620321227587603, 'feature_fraction': 0.9150740631358694, 'bagging_fraction': 0.3798776227134479, 'bagging_freq': 12, 'num_leaves': 655, 'min_child_samples': 20}. Best is trial 32 with value: -0.8698656774686749.\u001b[0m\n"
     ]
    },
    {
     "name": "stdout",
     "output_type": "stream",
     "text": [
      "Early stopping, best iteration is:\n",
      "[19]\ttraining's l1: 1.01722\tvalid_1's l1: 0.873818\n",
      "[LightGBM] [Warning] feature_fraction is set=0.7808398120905041, colsample_bytree=0.6 will be ignored. Current value: feature_fraction=0.7808398120905041\n",
      "[LightGBM] [Warning] bagging_fraction is set=0.5243646854549078, subsample=0.9 will be ignored. Current value: bagging_fraction=0.5243646854549078\n",
      "[LightGBM] [Warning] bagging_freq is set=11, subsample_freq=0 will be ignored. Current value: bagging_freq=11\n",
      "Training until validation scores don't improve for 100 rounds\n",
      "[100]\ttraining's l1: 1.01175\tvalid_1's l1: 0.873103\n"
     ]
    },
    {
     "name": "stderr",
     "output_type": "stream",
     "text": [
      "\u001b[32m[I 2021-07-31 12:56:12,229]\u001b[0m Trial 43 finished with value: -0.8711632135288718 and parameters: {'max_depth': 8, 'min_child_weight': 3, 'subsample': 0.9, 'colsample_bytree': 0.6, 'reg_lambda': 0.02802867159199407, 'reg_alpha': 0.4471918536318636, 'feature_fraction': 0.7808398120905041, 'bagging_fraction': 0.5243646854549078, 'bagging_freq': 11, 'num_leaves': 768, 'min_child_samples': 23}. Best is trial 32 with value: -0.8698656774686749.\u001b[0m\n"
     ]
    },
    {
     "name": "stdout",
     "output_type": "stream",
     "text": [
      "Early stopping, best iteration is:\n",
      "[83]\ttraining's l1: 1.01453\tvalid_1's l1: 0.871175\n",
      "[LightGBM] [Warning] feature_fraction is set=0.7833332655938432, colsample_bytree=0.7 will be ignored. Current value: feature_fraction=0.7833332655938432\n",
      "[LightGBM] [Warning] bagging_fraction is set=0.5418269549918552, subsample=0.9 will be ignored. Current value: bagging_fraction=0.5418269549918552\n",
      "[LightGBM] [Warning] bagging_freq is set=11, subsample_freq=0 will be ignored. Current value: bagging_freq=11\n",
      "Training until validation scores don't improve for 100 rounds\n",
      "[100]\ttraining's l1: 1.01259\tvalid_1's l1: 0.873616\n"
     ]
    },
    {
     "name": "stderr",
     "output_type": "stream",
     "text": [
      "\u001b[32m[I 2021-07-31 12:56:17,912]\u001b[0m Trial 44 finished with value: -0.8720239641154962 and parameters: {'max_depth': 8, 'min_child_weight': 1, 'subsample': 0.9, 'colsample_bytree': 0.7, 'reg_lambda': 0.029594100558778043, 'reg_alpha': 0.4673822682728078, 'feature_fraction': 0.7833332655938432, 'bagging_fraction': 0.5418269549918552, 'bagging_freq': 11, 'num_leaves': 801, 'min_child_samples': 32}. Best is trial 32 with value: -0.8698656774686749.\u001b[0m\n"
     ]
    },
    {
     "name": "stdout",
     "output_type": "stream",
     "text": [
      "Early stopping, best iteration is:\n",
      "[45]\ttraining's l1: 1.01813\tvalid_1's l1: 0.872026\n",
      "[LightGBM] [Warning] feature_fraction is set=0.7115175415125214, colsample_bytree=0.6 will be ignored. Current value: feature_fraction=0.7115175415125214\n",
      "[LightGBM] [Warning] bagging_fraction is set=0.44976113108987037, subsample=0.7 will be ignored. Current value: bagging_fraction=0.44976113108987037\n",
      "[LightGBM] [Warning] bagging_freq is set=14, subsample_freq=0 will be ignored. Current value: bagging_freq=14\n",
      "Training until validation scores don't improve for 100 rounds\n",
      "[100]\ttraining's l1: 1.00454\tvalid_1's l1: 0.872784\n"
     ]
    },
    {
     "name": "stderr",
     "output_type": "stream",
     "text": [
      "\u001b[32m[I 2021-07-31 12:56:23,668]\u001b[0m Trial 45 finished with value: -0.8715796989625003 and parameters: {'max_depth': 9, 'min_child_weight': 7, 'subsample': 0.7, 'colsample_bytree': 0.6, 'reg_lambda': 0.01088563796446568, 'reg_alpha': 1.844004735750743, 'feature_fraction': 0.7115175415125214, 'bagging_fraction': 0.44976113108987037, 'bagging_freq': 14, 'num_leaves': 905, 'min_child_samples': 24}. Best is trial 32 with value: -0.8698656774686749.\u001b[0m\n"
     ]
    },
    {
     "name": "stdout",
     "output_type": "stream",
     "text": [
      "Early stopping, best iteration is:\n",
      "[49]\ttraining's l1: 1.01259\tvalid_1's l1: 0.871589\n",
      "[LightGBM] [Warning] feature_fraction is set=0.7266113883776849, colsample_bytree=0.6 will be ignored. Current value: feature_fraction=0.7266113883776849\n",
      "[LightGBM] [Warning] bagging_fraction is set=0.5003577673569989, subsample=0.9 will be ignored. Current value: bagging_fraction=0.5003577673569989\n",
      "[LightGBM] [Warning] bagging_freq is set=16, subsample_freq=0 will be ignored. Current value: bagging_freq=16\n",
      "Training until validation scores don't improve for 100 rounds\n",
      "[100]\ttraining's l1: 0.986006\tvalid_1's l1: 0.898008\n"
     ]
    },
    {
     "name": "stderr",
     "output_type": "stream",
     "text": [
      "\u001b[32m[I 2021-07-31 12:56:31,622]\u001b[0m Trial 46 finished with value: -0.8753222361297522 and parameters: {'max_depth': 12, 'min_child_weight': 7, 'subsample': 0.9, 'colsample_bytree': 0.6, 'reg_lambda': 0.005781001424262732, 'reg_alpha': 1.7711832332583692, 'feature_fraction': 0.7266113883776849, 'bagging_fraction': 0.5003577673569989, 'bagging_freq': 16, 'num_leaves': 908, 'min_child_samples': 6}. Best is trial 32 with value: -0.8698656774686749.\u001b[0m\n"
     ]
    },
    {
     "name": "stdout",
     "output_type": "stream",
     "text": [
      "Early stopping, best iteration is:\n",
      "[17]\ttraining's l1: 1.01839\tvalid_1's l1: 0.875322\n",
      "[LightGBM] [Warning] feature_fraction is set=0.8446892427852253, colsample_bytree=0.6 will be ignored. Current value: feature_fraction=0.8446892427852253\n",
      "[LightGBM] [Warning] bagging_fraction is set=0.4478826209434611, subsample=0.7 will be ignored. Current value: bagging_fraction=0.4478826209434611\n",
      "[LightGBM] [Warning] bagging_freq is set=14, subsample_freq=0 will be ignored. Current value: bagging_freq=14\n",
      "Training until validation scores don't improve for 100 rounds\n",
      "[100]\ttraining's l1: 1.00617\tvalid_1's l1: 0.872955\n"
     ]
    },
    {
     "name": "stderr",
     "output_type": "stream",
     "text": [
      "\u001b[32m[I 2021-07-31 12:56:38,357]\u001b[0m Trial 47 finished with value: -0.8717843985218093 and parameters: {'max_depth': 9, 'min_child_weight': 4, 'subsample': 0.7, 'colsample_bytree': 0.6, 'reg_lambda': 0.0014795702514692108, 'reg_alpha': 0.14554718778157533, 'feature_fraction': 0.8446892427852253, 'bagging_fraction': 0.4478826209434611, 'bagging_freq': 14, 'num_leaves': 978, 'min_child_samples': 35}. Best is trial 32 with value: -0.8698656774686749.\u001b[0m\n"
     ]
    },
    {
     "name": "stdout",
     "output_type": "stream",
     "text": [
      "Early stopping, best iteration is:\n",
      "[57]\ttraining's l1: 1.01156\tvalid_1's l1: 0.871793\n",
      "[LightGBM] [Warning] feature_fraction is set=0.8075276637260159, colsample_bytree=0.7 will be ignored. Current value: feature_fraction=0.8075276637260159\n",
      "[LightGBM] [Warning] bagging_fraction is set=0.5996507220849189, subsample=0.7 will be ignored. Current value: bagging_fraction=0.5996507220849189\n",
      "[LightGBM] [Warning] bagging_freq is set=19, subsample_freq=0 will be ignored. Current value: bagging_freq=19\n",
      "Training until validation scores don't improve for 100 rounds\n",
      "[100]\ttraining's l1: 0.985208\tvalid_1's l1: 0.887082\n"
     ]
    },
    {
     "name": "stderr",
     "output_type": "stream",
     "text": [
      "\u001b[32m[I 2021-07-31 12:56:48,179]\u001b[0m Trial 48 finished with value: -0.8723577888069763 and parameters: {'max_depth': 13, 'min_child_weight': 5, 'subsample': 0.7, 'colsample_bytree': 0.7, 'reg_lambda': 0.011641847277596356, 'reg_alpha': 1.6377300104500343, 'feature_fraction': 0.8075276637260159, 'bagging_fraction': 0.5996507220849189, 'bagging_freq': 19, 'num_leaves': 767, 'min_child_samples': 26}. Best is trial 32 with value: -0.8698656774686749.\u001b[0m\n"
     ]
    },
    {
     "name": "stdout",
     "output_type": "stream",
     "text": [
      "Early stopping, best iteration is:\n",
      "[18]\ttraining's l1: 1.01579\tvalid_1's l1: 0.872358\n",
      "[LightGBM] [Warning] feature_fraction is set=0.7045844100460463, colsample_bytree=0.6 will be ignored. Current value: feature_fraction=0.7045844100460463\n",
      "[LightGBM] [Warning] bagging_fraction is set=0.5937301319836695, subsample=0.8 will be ignored. Current value: bagging_fraction=0.5937301319836695\n",
      "[LightGBM] [Warning] bagging_freq is set=14, subsample_freq=0 will be ignored. Current value: bagging_freq=14\n",
      "Training until validation scores don't improve for 100 rounds\n",
      "[100]\ttraining's l1: 1.01067\tvalid_1's l1: 0.877646\n"
     ]
    },
    {
     "name": "stderr",
     "output_type": "stream",
     "text": [
      "\u001b[32m[I 2021-07-31 12:56:53,707]\u001b[0m Trial 49 finished with value: -0.8728768196460659 and parameters: {'max_depth': 8, 'min_child_weight': 2, 'subsample': 0.8, 'colsample_bytree': 0.6, 'reg_lambda': 0.019706821950371274, 'reg_alpha': 9.538616909443958, 'feature_fraction': 0.7045844100460463, 'bagging_fraction': 0.5937301319836695, 'bagging_freq': 14, 'num_leaves': 893, 'min_child_samples': 11}. Best is trial 32 with value: -0.8698656774686749.\u001b[0m\n"
     ]
    },
    {
     "name": "stdout",
     "output_type": "stream",
     "text": [
      "Early stopping, best iteration is:\n",
      "[41]\ttraining's l1: 1.0243\tvalid_1's l1: 0.872878\n",
      "[LightGBM] [Warning] feature_fraction is set=0.9723696391432748, colsample_bytree=0.5 will be ignored. Current value: feature_fraction=0.9723696391432748\n",
      "[LightGBM] [Warning] bagging_fraction is set=0.5217049895859558, subsample=0.9 will be ignored. Current value: bagging_fraction=0.5217049895859558\n",
      "[LightGBM] [Warning] bagging_freq is set=12, subsample_freq=0 will be ignored. Current value: bagging_freq=12\n",
      "Training until validation scores don't improve for 100 rounds\n",
      "[100]\ttraining's l1: 1.00039\tvalid_1's l1: 0.876405\n"
     ]
    },
    {
     "name": "stderr",
     "output_type": "stream",
     "text": [
      "\u001b[32m[I 2021-07-31 12:57:01,347]\u001b[0m Trial 50 finished with value: -0.8722607380476306 and parameters: {'max_depth': 10, 'min_child_weight': 7, 'subsample': 0.9, 'colsample_bytree': 0.5, 'reg_lambda': 0.005758853149646006, 'reg_alpha': 0.044969324530529535, 'feature_fraction': 0.9723696391432748, 'bagging_fraction': 0.5217049895859558, 'bagging_freq': 12, 'num_leaves': 780, 'min_child_samples': 44}. Best is trial 32 with value: -0.8698656774686749.\u001b[0m\n"
     ]
    },
    {
     "name": "stdout",
     "output_type": "stream",
     "text": [
      "Early stopping, best iteration is:\n",
      "[40]\ttraining's l1: 1.01032\tvalid_1's l1: 0.872262\n",
      "[LightGBM] [Warning] feature_fraction is set=0.8482585773744515, colsample_bytree=0.6 will be ignored. Current value: feature_fraction=0.8482585773744515\n",
      "[LightGBM] [Warning] bagging_fraction is set=0.44526492989894983, subsample=0.7 will be ignored. Current value: bagging_fraction=0.44526492989894983\n",
      "[LightGBM] [Warning] bagging_freq is set=15, subsample_freq=0 will be ignored. Current value: bagging_freq=15\n",
      "Training until validation scores don't improve for 100 rounds\n",
      "[100]\ttraining's l1: 1.00413\tvalid_1's l1: 0.873484\n"
     ]
    },
    {
     "name": "stderr",
     "output_type": "stream",
     "text": [
      "\u001b[32m[I 2021-07-31 12:57:07,414]\u001b[0m Trial 51 finished with value: -0.8711061960917135 and parameters: {'max_depth': 9, 'min_child_weight': 4, 'subsample': 0.7, 'colsample_bytree': 0.6, 'reg_lambda': 0.0028495327533767704, 'reg_alpha': 0.4308817399810864, 'feature_fraction': 0.8482585773744515, 'bagging_fraction': 0.44526492989894983, 'bagging_freq': 15, 'num_leaves': 982, 'min_child_samples': 34}. Best is trial 32 with value: -0.8698656774686749.\u001b[0m\n"
     ]
    },
    {
     "name": "stdout",
     "output_type": "stream",
     "text": [
      "Early stopping, best iteration is:\n",
      "[36]\ttraining's l1: 1.01678\tvalid_1's l1: 0.871107\n",
      "[LightGBM] [Warning] feature_fraction is set=0.7888189033250517, colsample_bytree=0.6 will be ignored. Current value: feature_fraction=0.7888189033250517\n",
      "[LightGBM] [Warning] bagging_fraction is set=0.41793310782420706, subsample=0.7 will be ignored. Current value: bagging_fraction=0.41793310782420706\n",
      "[LightGBM] [Warning] bagging_freq is set=16, subsample_freq=0 will be ignored. Current value: bagging_freq=16\n",
      "Training until validation scores don't improve for 100 rounds\n",
      "[100]\ttraining's l1: 1.00793\tvalid_1's l1: 0.87671\n"
     ]
    },
    {
     "name": "stderr",
     "output_type": "stream",
     "text": [
      "\u001b[32m[I 2021-07-31 12:57:13,466]\u001b[0m Trial 52 finished with value: -0.8756154875616231 and parameters: {'max_depth': 9, 'min_child_weight': 3, 'subsample': 0.7, 'colsample_bytree': 0.6, 'reg_lambda': 0.0020786004418702417, 'reg_alpha': 0.4330092885143532, 'feature_fraction': 0.7888189033250517, 'bagging_fraction': 0.41793310782420706, 'bagging_freq': 16, 'num_leaves': 842, 'min_child_samples': 19}. Best is trial 32 with value: -0.8698656774686749.\u001b[0m\n"
     ]
    },
    {
     "name": "stdout",
     "output_type": "stream",
     "text": [
      "Early stopping, best iteration is:\n",
      "[40]\ttraining's l1: 1.01674\tvalid_1's l1: 0.875617\n",
      "[LightGBM] [Warning] feature_fraction is set=0.9007260823411815, colsample_bytree=0.6 will be ignored. Current value: feature_fraction=0.9007260823411815\n",
      "[LightGBM] [Warning] bagging_fraction is set=0.5734510604960363, subsample=0.7 will be ignored. Current value: bagging_fraction=0.5734510604960363\n",
      "[LightGBM] [Warning] bagging_freq is set=16, subsample_freq=0 will be ignored. Current value: bagging_freq=16\n",
      "Training until validation scores don't improve for 100 rounds\n",
      "[100]\ttraining's l1: 1.01295\tvalid_1's l1: 0.875027\n"
     ]
    },
    {
     "name": "stderr",
     "output_type": "stream",
     "text": [
      "\u001b[32m[I 2021-07-31 12:57:19,608]\u001b[0m Trial 53 finished with value: -0.8717079321377966 and parameters: {'max_depth': 8, 'min_child_weight': 4, 'subsample': 0.7, 'colsample_bytree': 0.6, 'reg_lambda': 0.006838140570645783, 'reg_alpha': 3.5159396740583215, 'feature_fraction': 0.9007260823411815, 'bagging_fraction': 0.5734510604960363, 'bagging_freq': 16, 'num_leaves': 938, 'min_child_samples': 35}. Best is trial 32 with value: -0.8698656774686749.\u001b[0m\n"
     ]
    },
    {
     "name": "stdout",
     "output_type": "stream",
     "text": [
      "Early stopping, best iteration is:\n",
      "[51]\ttraining's l1: 1.0201\tvalid_1's l1: 0.871714\n",
      "[LightGBM] [Warning] feature_fraction is set=0.7369266357355018, colsample_bytree=0.6 will be ignored. Current value: feature_fraction=0.7369266357355018\n",
      "[LightGBM] [Warning] bagging_fraction is set=0.6692543724928617, subsample=0.7 will be ignored. Current value: bagging_fraction=0.6692543724928617\n",
      "[LightGBM] [Warning] bagging_freq is set=18, subsample_freq=0 will be ignored. Current value: bagging_freq=18\n",
      "Training until validation scores don't improve for 100 rounds\n",
      "[100]\ttraining's l1: 0.993153\tvalid_1's l1: 0.879697\n"
     ]
    },
    {
     "name": "stderr",
     "output_type": "stream",
     "text": [
      "\u001b[32m[I 2021-07-31 12:57:27,402]\u001b[0m Trial 54 finished with value: -0.8730608328695321 and parameters: {'max_depth': 11, 'min_child_weight': 5, 'subsample': 0.7, 'colsample_bytree': 0.6, 'reg_lambda': 0.03411462178568738, 'reg_alpha': 1.7217396641043805, 'feature_fraction': 0.7369266357355018, 'bagging_fraction': 0.6692543724928617, 'bagging_freq': 18, 'num_leaves': 731, 'min_child_samples': 26}. Best is trial 32 with value: -0.8698656774686749.\u001b[0m\n"
     ]
    },
    {
     "name": "stdout",
     "output_type": "stream",
     "text": [
      "Early stopping, best iteration is:\n",
      "[25]\ttraining's l1: 1.01132\tvalid_1's l1: 0.873073\n",
      "[LightGBM] [Warning] feature_fraction is set=0.8508535898373544, colsample_bytree=0.5 will be ignored. Current value: feature_fraction=0.8508535898373544\n",
      "[LightGBM] [Warning] bagging_fraction is set=0.4548766284482693, subsample=0.7 will be ignored. Current value: bagging_fraction=0.4548766284482693\n",
      "[LightGBM] [Warning] bagging_freq is set=14, subsample_freq=0 will be ignored. Current value: bagging_freq=14\n",
      "Training until validation scores don't improve for 100 rounds\n",
      "[100]\ttraining's l1: 1.01454\tvalid_1's l1: 0.873312\n"
     ]
    },
    {
     "name": "stderr",
     "output_type": "stream",
     "text": [
      "\u001b[32m[I 2021-07-31 12:57:32,851]\u001b[0m Trial 55 finished with value: -0.8722899759152574 and parameters: {'max_depth': 8, 'min_child_weight': 20, 'subsample': 0.7, 'colsample_bytree': 0.5, 'reg_lambda': 0.2538469624500469, 'reg_alpha': 0.1764282146899699, 'feature_fraction': 0.8508535898373544, 'bagging_fraction': 0.4548766284482693, 'bagging_freq': 14, 'num_leaves': 898, 'min_child_samples': 47}. Best is trial 32 with value: -0.8698656774686749.\u001b[0m\n"
     ]
    },
    {
     "name": "stdout",
     "output_type": "stream",
     "text": [
      "Early stopping, best iteration is:\n",
      "[45]\ttraining's l1: 1.01959\tvalid_1's l1: 0.872294\n",
      "[LightGBM] [Warning] feature_fraction is set=0.6988038198537555, colsample_bytree=0.7 will be ignored. Current value: feature_fraction=0.6988038198537555\n",
      "[LightGBM] [Warning] bagging_fraction is set=0.39759794398688997, subsample=0.6 will be ignored. Current value: bagging_fraction=0.39759794398688997\n",
      "[LightGBM] [Warning] bagging_freq is set=9, subsample_freq=0 will be ignored. Current value: bagging_freq=9\n",
      "Training until validation scores don't improve for 100 rounds\n",
      "[100]\ttraining's l1: 1.00531\tvalid_1's l1: 0.876446\n"
     ]
    },
    {
     "name": "stderr",
     "output_type": "stream",
     "text": [
      "\u001b[32m[I 2021-07-31 12:57:38,346]\u001b[0m Trial 56 finished with value: -0.8721920283387227 and parameters: {'max_depth': 9, 'min_child_weight': 6, 'subsample': 0.6, 'colsample_bytree': 0.7, 'reg_lambda': 0.10845181749811889, 'reg_alpha': 0.006251766804983377, 'feature_fraction': 0.6988038198537555, 'bagging_fraction': 0.39759794398688997, 'bagging_freq': 9, 'num_leaves': 960, 'min_child_samples': 14}. Best is trial 32 with value: -0.8698656774686749.\u001b[0m\n"
     ]
    },
    {
     "name": "stdout",
     "output_type": "stream",
     "text": [
      "Early stopping, best iteration is:\n",
      "[39]\ttraining's l1: 1.01543\tvalid_1's l1: 0.872194\n",
      "[LightGBM] [Warning] feature_fraction is set=0.896535635669161, colsample_bytree=0.6 will be ignored. Current value: feature_fraction=0.896535635669161\n",
      "[LightGBM] [Warning] bagging_fraction is set=0.6449312869094834, subsample=0.8 will be ignored. Current value: bagging_fraction=0.6449312869094834\n",
      "[LightGBM] [Warning] bagging_freq is set=15, subsample_freq=0 will be ignored. Current value: bagging_freq=15\n",
      "Training until validation scores don't improve for 100 rounds\n",
      "[100]\ttraining's l1: 1.02116\tvalid_1's l1: 0.872291\n"
     ]
    },
    {
     "name": "stderr",
     "output_type": "stream",
     "text": [
      "\u001b[32m[I 2021-07-31 12:57:44,703]\u001b[0m Trial 57 finished with value: -0.8720248073729542 and parameters: {'max_depth': 7, 'min_child_weight': 7, 'subsample': 0.8, 'colsample_bytree': 0.6, 'reg_lambda': 0.013813954665718541, 'reg_alpha': 0.06670912026834237, 'feature_fraction': 0.896535635669161, 'bagging_fraction': 0.6449312869094834, 'bagging_freq': 15, 'num_leaves': 478, 'min_child_samples': 54}. Best is trial 32 with value: -0.8698656774686749.\u001b[0m\n"
     ]
    },
    {
     "name": "stdout",
     "output_type": "stream",
     "text": [
      "Early stopping, best iteration is:\n",
      "[74]\ttraining's l1: 1.02369\tvalid_1's l1: 0.872034\n",
      "[LightGBM] [Warning] feature_fraction is set=0.8252062588038188, colsample_bytree=0.5 will be ignored. Current value: feature_fraction=0.8252062588038188\n",
      "[LightGBM] [Warning] bagging_fraction is set=0.4337747631440799, subsample=0.6 will be ignored. Current value: bagging_fraction=0.4337747631440799\n",
      "[LightGBM] [Warning] bagging_freq is set=13, subsample_freq=0 will be ignored. Current value: bagging_freq=13\n",
      "Training until validation scores don't improve for 100 rounds\n",
      "[100]\ttraining's l1: 0.989633\tvalid_1's l1: 0.885612\n"
     ]
    },
    {
     "name": "stderr",
     "output_type": "stream",
     "text": [
      "\u001b[32m[I 2021-07-31 12:57:53,661]\u001b[0m Trial 58 finished with value: -0.8728426575870698 and parameters: {'max_depth': 13, 'min_child_weight': 2, 'subsample': 0.6, 'colsample_bytree': 0.5, 'reg_lambda': 0.0032184291915295688, 'reg_alpha': 0.02060847784260626, 'feature_fraction': 0.8252062588038188, 'bagging_fraction': 0.4337747631440799, 'bagging_freq': 13, 'num_leaves': 664, 'min_child_samples': 39}. Best is trial 32 with value: -0.8698656774686749.\u001b[0m\n"
     ]
    },
    {
     "name": "stdout",
     "output_type": "stream",
     "text": [
      "Early stopping, best iteration is:\n",
      "[25]\ttraining's l1: 1.00991\tvalid_1's l1: 0.872843\n",
      "[LightGBM] [Warning] feature_fraction is set=0.9446080550959522, colsample_bytree=0.7 will be ignored. Current value: feature_fraction=0.9446080550959522\n",
      "[LightGBM] [Warning] bagging_fraction is set=0.5108950815745428, subsample=0.7 will be ignored. Current value: bagging_fraction=0.5108950815745428\n",
      "[LightGBM] [Warning] bagging_freq is set=11, subsample_freq=0 will be ignored. Current value: bagging_freq=11\n",
      "Training until validation scores don't improve for 100 rounds\n",
      "[100]\ttraining's l1: 0.990804\tvalid_1's l1: 0.881985\n"
     ]
    },
    {
     "name": "stderr",
     "output_type": "stream",
     "text": [
      "\u001b[32m[I 2021-07-31 12:58:03,062]\u001b[0m Trial 59 finished with value: -0.8741338037304001 and parameters: {'max_depth': 12, 'min_child_weight': 4, 'subsample': 0.7, 'colsample_bytree': 0.7, 'reg_lambda': 0.03977204243033171, 'reg_alpha': 0.6824685273905723, 'feature_fraction': 0.9446080550959522, 'bagging_fraction': 0.5108950815745428, 'bagging_freq': 11, 'num_leaves': 991, 'min_child_samples': 25}. Best is trial 32 with value: -0.8698656774686749.\u001b[0m\n"
     ]
    },
    {
     "name": "stdout",
     "output_type": "stream",
     "text": [
      "Early stopping, best iteration is:\n",
      "[25]\ttraining's l1: 1.00905\tvalid_1's l1: 0.874134\n",
      "[LightGBM] [Warning] feature_fraction is set=0.754085663458828, colsample_bytree=0.7 will be ignored. Current value: feature_fraction=0.754085663458828\n",
      "[LightGBM] [Warning] bagging_fraction is set=0.35065667745282925, subsample=0.8 will be ignored. Current value: bagging_fraction=0.35065667745282925\n",
      "[LightGBM] [Warning] bagging_freq is set=12, subsample_freq=0 will be ignored. Current value: bagging_freq=12\n",
      "Training until validation scores don't improve for 100 rounds\n",
      "[100]\ttraining's l1: 1.00015\tvalid_1's l1: 0.880124\n"
     ]
    },
    {
     "name": "stderr",
     "output_type": "stream",
     "text": [
      "\u001b[32m[I 2021-07-31 12:58:08,602]\u001b[0m Trial 60 finished with value: -0.8751423118396119 and parameters: {'max_depth': 10, 'min_child_weight': 8, 'subsample': 0.8, 'colsample_bytree': 0.7, 'reg_lambda': 0.015945558263131373, 'reg_alpha': 5.149684480505595, 'feature_fraction': 0.754085663458828, 'bagging_fraction': 0.35065667745282925, 'bagging_freq': 12, 'num_leaves': 834, 'min_child_samples': 20}. Best is trial 32 with value: -0.8698656774686749.\u001b[0m\n"
     ]
    },
    {
     "name": "stdout",
     "output_type": "stream",
     "text": [
      "Early stopping, best iteration is:\n",
      "[34]\ttraining's l1: 1.01339\tvalid_1's l1: 0.87515\n",
      "[LightGBM] [Warning] feature_fraction is set=0.9072827505337382, colsample_bytree=0.6 will be ignored. Current value: feature_fraction=0.9072827505337382\n",
      "[LightGBM] [Warning] bagging_fraction is set=0.5689690529400308, subsample=0.7 will be ignored. Current value: bagging_fraction=0.5689690529400308\n",
      "[LightGBM] [Warning] bagging_freq is set=16, subsample_freq=0 will be ignored. Current value: bagging_freq=16\n",
      "Training until validation scores don't improve for 100 rounds\n",
      "[100]\ttraining's l1: 1.01505\tvalid_1's l1: 0.870591\n"
     ]
    },
    {
     "name": "stderr",
     "output_type": "stream",
     "text": [
      "\u001b[32m[I 2021-07-31 12:58:14,939]\u001b[0m Trial 61 finished with value: -0.870101586676913 and parameters: {'max_depth': 8, 'min_child_weight': 4, 'subsample': 0.7, 'colsample_bytree': 0.6, 'reg_lambda': 0.007603918583662364, 'reg_alpha': 2.4572049631928703, 'feature_fraction': 0.9072827505337382, 'bagging_fraction': 0.5689690529400308, 'bagging_freq': 16, 'num_leaves': 923, 'min_child_samples': 34}. Best is trial 32 with value: -0.8698656774686749.\u001b[0m\n"
     ]
    },
    {
     "name": "stdout",
     "output_type": "stream",
     "text": [
      "Early stopping, best iteration is:\n",
      "[56]\ttraining's l1: 1.02035\tvalid_1's l1: 0.870105\n",
      "[LightGBM] [Warning] feature_fraction is set=0.7998064734182773, colsample_bytree=0.6 will be ignored. Current value: feature_fraction=0.7998064734182773\n",
      "[LightGBM] [Warning] bagging_fraction is set=0.5683351512628901, subsample=0.7 will be ignored. Current value: bagging_fraction=0.5683351512628901\n",
      "[LightGBM] [Warning] bagging_freq is set=17, subsample_freq=0 will be ignored. Current value: bagging_freq=17\n",
      "Training until validation scores don't improve for 100 rounds\n",
      "[100]\ttraining's l1: 1.02016\tvalid_1's l1: 0.87192\n"
     ]
    },
    {
     "name": "stderr",
     "output_type": "stream",
     "text": [
      "\u001b[32m[I 2021-07-31 12:58:20,782]\u001b[0m Trial 62 finished with value: -0.8714283826405508 and parameters: {'max_depth': 7, 'min_child_weight': 3, 'subsample': 0.7, 'colsample_bytree': 0.6, 'reg_lambda': 0.08197838706709233, 'reg_alpha': 2.605914251697256, 'feature_fraction': 0.7998064734182773, 'bagging_fraction': 0.5683351512628901, 'bagging_freq': 17, 'num_leaves': 946, 'min_child_samples': 30}. Best is trial 32 with value: -0.8698656774686749.\u001b[0m\n"
     ]
    },
    {
     "name": "stdout",
     "output_type": "stream",
     "text": [
      "Early stopping, best iteration is:\n",
      "[69]\ttraining's l1: 1.024\tvalid_1's l1: 0.871438\n",
      "[LightGBM] [Warning] feature_fraction is set=0.9778934965854431, colsample_bytree=0.6 will be ignored. Current value: feature_fraction=0.9778934965854431\n",
      "[LightGBM] [Warning] bagging_fraction is set=0.567397304883651, subsample=0.7 will be ignored. Current value: bagging_fraction=0.567397304883651\n",
      "[LightGBM] [Warning] bagging_freq is set=20, subsample_freq=0 will be ignored. Current value: bagging_freq=20\n",
      "Training until validation scores don't improve for 100 rounds\n",
      "[100]\ttraining's l1: 1.02152\tvalid_1's l1: 0.873522\n"
     ]
    },
    {
     "name": "stderr",
     "output_type": "stream",
     "text": [
      "\u001b[32m[I 2021-07-31 12:58:26,838]\u001b[0m Trial 63 finished with value: -0.8734474806286264 and parameters: {'max_depth': 7, 'min_child_weight': 1, 'subsample': 0.7, 'colsample_bytree': 0.6, 'reg_lambda': 0.09006836742361075, 'reg_alpha': 33.266474095820556, 'feature_fraction': 0.9778934965854431, 'bagging_fraction': 0.567397304883651, 'bagging_freq': 20, 'num_leaves': 224, 'min_child_samples': 33}. Best is trial 32 with value: -0.8698656774686749.\u001b[0m\n"
     ]
    },
    {
     "name": "stdout",
     "output_type": "stream",
     "text": [
      "Early stopping, best iteration is:\n",
      "[77]\ttraining's l1: 1.02365\tvalid_1's l1: 0.873465\n",
      "[LightGBM] [Warning] feature_fraction is set=0.8039646295374141, colsample_bytree=0.6 will be ignored. Current value: feature_fraction=0.8039646295374141\n",
      "[LightGBM] [Warning] bagging_fraction is set=0.574473516206166, subsample=0.7 will be ignored. Current value: bagging_fraction=0.574473516206166\n",
      "[LightGBM] [Warning] bagging_freq is set=17, subsample_freq=0 will be ignored. Current value: bagging_freq=17\n",
      "Training until validation scores don't improve for 100 rounds\n",
      "[100]\ttraining's l1: 1.02962\tvalid_1's l1: 0.87271\n",
      "[200]\ttraining's l1: 1.02623\tvalid_1's l1: 0.87296\n",
      "Early stopping, best iteration is:\n",
      "[106]\ttraining's l1: 1.02947\tvalid_1's l1: 0.872577\n"
     ]
    },
    {
     "name": "stderr",
     "output_type": "stream",
     "text": [
      "\u001b[32m[I 2021-07-31 12:58:32,434]\u001b[0m Trial 64 finished with value: -0.8725717964405673 and parameters: {'max_depth': 5, 'min_child_weight': 3, 'subsample': 0.7, 'colsample_bytree': 0.6, 'reg_lambda': 0.07605682688581732, 'reg_alpha': 3.039069412977921, 'feature_fraction': 0.8039646295374141, 'bagging_fraction': 0.574473516206166, 'bagging_freq': 17, 'num_leaves': 865, 'min_child_samples': 28}. Best is trial 32 with value: -0.8698656774686749.\u001b[0m\n"
     ]
    },
    {
     "name": "stdout",
     "output_type": "stream",
     "text": [
      "[LightGBM] [Warning] feature_fraction is set=0.8449921167875234, colsample_bytree=0.6 will be ignored. Current value: feature_fraction=0.8449921167875234\n",
      "[LightGBM] [Warning] bagging_fraction is set=0.6400823642924837, subsample=0.7 will be ignored. Current value: bagging_fraction=0.6400823642924837\n",
      "[LightGBM] [Warning] bagging_freq is set=18, subsample_freq=0 will be ignored. Current value: bagging_freq=18\n",
      "Training until validation scores don't improve for 100 rounds\n",
      "[100]\ttraining's l1: 1.01093\tvalid_1's l1: 0.87144\n"
     ]
    },
    {
     "name": "stderr",
     "output_type": "stream",
     "text": [
      "\u001b[32m[I 2021-07-31 12:58:39,160]\u001b[0m Trial 65 finished with value: -0.870502910802266 and parameters: {'max_depth': 8, 'min_child_weight': 4, 'subsample': 0.7, 'colsample_bytree': 0.6, 'reg_lambda': 0.18551394945186614, 'reg_alpha': 0.3437022622506175, 'feature_fraction': 0.8449921167875234, 'bagging_fraction': 0.6400823642924837, 'bagging_freq': 18, 'num_leaves': 991, 'min_child_samples': 35}. Best is trial 32 with value: -0.8698656774686749.\u001b[0m\n"
     ]
    },
    {
     "name": "stdout",
     "output_type": "stream",
     "text": [
      "Early stopping, best iteration is:\n",
      "[61]\ttraining's l1: 1.01609\tvalid_1's l1: 0.870509\n",
      "[LightGBM] [Warning] feature_fraction is set=0.8544413057554862, colsample_bytree=0.5 will be ignored. Current value: feature_fraction=0.8544413057554862\n",
      "[LightGBM] [Warning] bagging_fraction is set=0.7466260434951036, subsample=0.9 will be ignored. Current value: bagging_fraction=0.7466260434951036\n",
      "[LightGBM] [Warning] bagging_freq is set=19, subsample_freq=0 will be ignored. Current value: bagging_freq=19\n",
      "Training until validation scores don't improve for 100 rounds\n",
      "[100]\ttraining's l1: 1.01143\tvalid_1's l1: 0.87317\n"
     ]
    },
    {
     "name": "stderr",
     "output_type": "stream",
     "text": [
      "\u001b[32m[I 2021-07-31 12:58:45,962]\u001b[0m Trial 66 finished with value: -0.8710465293429387 and parameters: {'max_depth': 8, 'min_child_weight': 5, 'subsample': 0.9, 'colsample_bytree': 0.5, 'reg_lambda': 0.3556288615550277, 'reg_alpha': 0.24350943055257532, 'feature_fraction': 0.8544413057554862, 'bagging_fraction': 0.7466260434951036, 'bagging_freq': 19, 'num_leaves': 414, 'min_child_samples': 36}. Best is trial 32 with value: -0.8698656774686749.\u001b[0m\n"
     ]
    },
    {
     "name": "stdout",
     "output_type": "stream",
     "text": [
      "Early stopping, best iteration is:\n",
      "[49]\ttraining's l1: 1.02001\tvalid_1's l1: 0.871049\n",
      "[LightGBM] [Warning] feature_fraction is set=0.8961492940884727, colsample_bytree=0.5 will be ignored. Current value: feature_fraction=0.8961492940884727\n",
      "[LightGBM] [Warning] bagging_fraction is set=0.7532018408355965, subsample=0.7 will be ignored. Current value: bagging_fraction=0.7532018408355965\n",
      "[LightGBM] [Warning] bagging_freq is set=19, subsample_freq=0 will be ignored. Current value: bagging_freq=19\n",
      "Training until validation scores don't improve for 100 rounds\n",
      "[100]\ttraining's l1: 1.00042\tvalid_1's l1: 0.875751\n"
     ]
    },
    {
     "name": "stderr",
     "output_type": "stream",
     "text": [
      "\u001b[32m[I 2021-07-31 12:58:54,720]\u001b[0m Trial 67 finished with value: -0.8723573309952981 and parameters: {'max_depth': 10, 'min_child_weight': 5, 'subsample': 0.7, 'colsample_bytree': 0.5, 'reg_lambda': 0.2159006876590832, 'reg_alpha': 0.2598746633842967, 'feature_fraction': 0.8961492940884727, 'bagging_fraction': 0.7532018408355965, 'bagging_freq': 19, 'num_leaves': 407, 'min_child_samples': 50}. Best is trial 32 with value: -0.8698656774686749.\u001b[0m\n"
     ]
    },
    {
     "name": "stdout",
     "output_type": "stream",
     "text": [
      "Early stopping, best iteration is:\n",
      "[51]\ttraining's l1: 1.0066\tvalid_1's l1: 0.872361\n",
      "[LightGBM] [Warning] feature_fraction is set=0.8565550298805142, colsample_bytree=0.5 will be ignored. Current value: feature_fraction=0.8565550298805142\n",
      "[LightGBM] [Warning] bagging_fraction is set=0.7208599440904295, subsample=0.6 will be ignored. Current value: bagging_fraction=0.7208599440904295\n",
      "[LightGBM] [Warning] bagging_freq is set=20, subsample_freq=0 will be ignored. Current value: bagging_freq=20\n",
      "Training until validation scores don't improve for 100 rounds\n",
      "[100]\ttraining's l1: 1.00202\tvalid_1's l1: 0.879472\n"
     ]
    },
    {
     "name": "stderr",
     "output_type": "stream",
     "text": [
      "\u001b[32m[I 2021-07-31 12:59:03,332]\u001b[0m Trial 68 finished with value: -0.8722255698353152 and parameters: {'max_depth': 11, 'min_child_weight': 4, 'subsample': 0.6, 'colsample_bytree': 0.5, 'reg_lambda': 0.441523871023283, 'reg_alpha': 0.03830166329512822, 'feature_fraction': 0.8565550298805142, 'bagging_fraction': 0.7208599440904295, 'bagging_freq': 20, 'num_leaves': 343, 'min_child_samples': 38}. Best is trial 32 with value: -0.8698656774686749.\u001b[0m\n"
     ]
    },
    {
     "name": "stdout",
     "output_type": "stream",
     "text": [
      "Early stopping, best iteration is:\n",
      "[41]\ttraining's l1: 1.01212\tvalid_1's l1: 0.872229\n",
      "[LightGBM] [Warning] feature_fraction is set=0.92435704668229, colsample_bytree=0.5 will be ignored. Current value: feature_fraction=0.92435704668229\n",
      "[LightGBM] [Warning] bagging_fraction is set=0.822012304676619, subsample=0.7 will be ignored. Current value: bagging_fraction=0.822012304676619\n",
      "[LightGBM] [Warning] bagging_freq is set=19, subsample_freq=0 will be ignored. Current value: bagging_freq=19\n",
      "Training until validation scores don't improve for 100 rounds\n",
      "[100]\ttraining's l1: 1.00593\tvalid_1's l1: 0.872566\n"
     ]
    },
    {
     "name": "stderr",
     "output_type": "stream",
     "text": [
      "\u001b[32m[I 2021-07-31 12:59:11,314]\u001b[0m Trial 69 finished with value: -0.8698216791714897 and parameters: {'max_depth': 9, 'min_child_weight': 6, 'subsample': 0.7, 'colsample_bytree': 0.5, 'reg_lambda': 0.8431292122874844, 'reg_alpha': 0.01742437672541982, 'feature_fraction': 0.92435704668229, 'bagging_fraction': 0.822012304676619, 'bagging_freq': 19, 'num_leaves': 355, 'min_child_samples': 42}. Best is trial 69 with value: -0.8698216791714897.\u001b[0m\n"
     ]
    },
    {
     "name": "stdout",
     "output_type": "stream",
     "text": [
      "Early stopping, best iteration is:\n",
      "[45]\ttraining's l1: 1.01221\tvalid_1's l1: 0.869824\n",
      "[LightGBM] [Warning] feature_fraction is set=0.9265870531627501, colsample_bytree=0.5 will be ignored. Current value: feature_fraction=0.9265870531627501\n",
      "[LightGBM] [Warning] bagging_fraction is set=0.840723931479509, subsample=0.8 will be ignored. Current value: bagging_fraction=0.840723931479509\n",
      "[LightGBM] [Warning] bagging_freq is set=19, subsample_freq=0 will be ignored. Current value: bagging_freq=19\n",
      "Training until validation scores don't improve for 100 rounds\n",
      "[100]\ttraining's l1: 1.01354\tvalid_1's l1: 0.872579\n"
     ]
    },
    {
     "name": "stderr",
     "output_type": "stream",
     "text": [
      "\u001b[32m[I 2021-07-31 12:59:19,253]\u001b[0m Trial 70 finished with value: -0.8718917671272035 and parameters: {'max_depth': 8, 'min_child_weight': 6, 'subsample': 0.8, 'colsample_bytree': 0.5, 'reg_lambda': 0.3662161011022664, 'reg_alpha': 0.0075489761069824305, 'feature_fraction': 0.9265870531627501, 'bagging_fraction': 0.840723931479509, 'bagging_freq': 19, 'num_leaves': 423, 'min_child_samples': 42}. Best is trial 69 with value: -0.8698216791714897.\u001b[0m\n"
     ]
    },
    {
     "name": "stdout",
     "output_type": "stream",
     "text": [
      "Early stopping, best iteration is:\n",
      "[67]\ttraining's l1: 1.0179\tvalid_1's l1: 0.871905\n",
      "[LightGBM] [Warning] feature_fraction is set=0.9743969040459836, colsample_bytree=0.5 will be ignored. Current value: feature_fraction=0.9743969040459836\n",
      "[LightGBM] [Warning] bagging_fraction is set=0.819627077321959, subsample=0.7 will be ignored. Current value: bagging_fraction=0.819627077321959\n",
      "[LightGBM] [Warning] bagging_freq is set=18, subsample_freq=0 will be ignored. Current value: bagging_freq=18\n",
      "Training until validation scores don't improve for 100 rounds\n",
      "[100]\ttraining's l1: 1.00686\tvalid_1's l1: 0.869994\n"
     ]
    },
    {
     "name": "stderr",
     "output_type": "stream",
     "text": [
      "\u001b[32m[I 2021-07-31 12:59:27,726]\u001b[0m Trial 71 finished with value: -0.8698453190905107 and parameters: {'max_depth': 9, 'min_child_weight': 5, 'subsample': 0.7, 'colsample_bytree': 0.5, 'reg_lambda': 1.1605545405314792, 'reg_alpha': 0.018810237931667063, 'feature_fraction': 0.9743969040459836, 'bagging_fraction': 0.819627077321959, 'bagging_freq': 18, 'num_leaves': 358, 'min_child_samples': 36}. Best is trial 69 with value: -0.8698216791714897.\u001b[0m\n"
     ]
    },
    {
     "name": "stdout",
     "output_type": "stream",
     "text": [
      "Early stopping, best iteration is:\n",
      "[57]\ttraining's l1: 1.01172\tvalid_1's l1: 0.869859\n",
      "[LightGBM] [Warning] feature_fraction is set=0.9573780887983239, colsample_bytree=0.5 will be ignored. Current value: feature_fraction=0.9573780887983239\n",
      "[LightGBM] [Warning] bagging_fraction is set=0.8126261329606511, subsample=0.7 will be ignored. Current value: bagging_fraction=0.8126261329606511\n",
      "[LightGBM] [Warning] bagging_freq is set=18, subsample_freq=0 will be ignored. Current value: bagging_freq=18\n",
      "Training until validation scores don't improve for 100 rounds\n",
      "[100]\ttraining's l1: 1.01977\tvalid_1's l1: 0.872267\n",
      "[200]\ttraining's l1: 1.01766\tvalid_1's l1: 0.872028\n"
     ]
    },
    {
     "name": "stderr",
     "output_type": "stream",
     "text": [
      "\u001b[32m[I 2021-07-31 12:59:36,762]\u001b[0m Trial 72 finished with value: -0.871605804079526 and parameters: {'max_depth': 7, 'min_child_weight': 5, 'subsample': 0.7, 'colsample_bytree': 0.5, 'reg_lambda': 0.9504357668685129, 'reg_alpha': 0.016705743197237756, 'feature_fraction': 0.9573780887983239, 'bagging_fraction': 0.8126261329606511, 'bagging_freq': 18, 'num_leaves': 301, 'min_child_samples': 45}. Best is trial 69 with value: -0.8698216791714897.\u001b[0m\n"
     ]
    },
    {
     "name": "stdout",
     "output_type": "stream",
     "text": [
      "Early stopping, best iteration is:\n",
      "[139]\ttraining's l1: 1.01875\tvalid_1's l1: 0.871623\n",
      "[LightGBM] [Warning] feature_fraction is set=0.8890422448419657, colsample_bytree=0.5 will be ignored. Current value: feature_fraction=0.8890422448419657\n",
      "[LightGBM] [Warning] bagging_fraction is set=0.901732272376565, subsample=0.7 will be ignored. Current value: bagging_fraction=0.901732272376565\n",
      "[LightGBM] [Warning] bagging_freq is set=18, subsample_freq=0 will be ignored. Current value: bagging_freq=18\n",
      "Training until validation scores don't improve for 100 rounds\n",
      "[100]\ttraining's l1: 1.00444\tvalid_1's l1: 0.872192\n"
     ]
    },
    {
     "name": "stderr",
     "output_type": "stream",
     "text": [
      "\u001b[32m[I 2021-07-31 12:59:45,181]\u001b[0m Trial 73 finished with value: -0.871189135766348 and parameters: {'max_depth': 9, 'min_child_weight': 6, 'subsample': 0.7, 'colsample_bytree': 0.5, 'reg_lambda': 1.1697888668647067, 'reg_alpha': 0.0040121352313896765, 'feature_fraction': 0.8890422448419657, 'bagging_fraction': 0.901732272376565, 'bagging_freq': 18, 'num_leaves': 346, 'min_child_samples': 54}. Best is trial 69 with value: -0.8698216791714897.\u001b[0m\n"
     ]
    },
    {
     "name": "stdout",
     "output_type": "stream",
     "text": [
      "Early stopping, best iteration is:\n",
      "[42]\ttraining's l1: 1.01603\tvalid_1's l1: 0.871191\n",
      "[LightGBM] [Warning] feature_fraction is set=0.929058167943167, colsample_bytree=0.5 will be ignored. Current value: feature_fraction=0.929058167943167\n",
      "[LightGBM] [Warning] bagging_fraction is set=0.8072887068988066, subsample=0.7 will be ignored. Current value: bagging_fraction=0.8072887068988066\n",
      "[LightGBM] [Warning] bagging_freq is set=20, subsample_freq=0 will be ignored. Current value: bagging_freq=20\n",
      "Training until validation scores don't improve for 100 rounds\n",
      "[100]\ttraining's l1: 0.99949\tvalid_1's l1: 0.876559\n"
     ]
    },
    {
     "name": "stderr",
     "output_type": "stream",
     "text": [
      "\u001b[32m[I 2021-07-31 12:59:54,236]\u001b[0m Trial 74 finished with value: -0.8717417302512753 and parameters: {'max_depth': 10, 'min_child_weight': 5, 'subsample': 0.7, 'colsample_bytree': 0.5, 'reg_lambda': 0.17299027420960333, 'reg_alpha': 0.014393419428895802, 'feature_fraction': 0.929058167943167, 'bagging_fraction': 0.8072887068988066, 'bagging_freq': 20, 'num_leaves': 401, 'min_child_samples': 36}. Best is trial 69 with value: -0.8698216791714897.\u001b[0m\n"
     ]
    },
    {
     "name": "stdout",
     "output_type": "stream",
     "text": [
      "Early stopping, best iteration is:\n",
      "[43]\ttraining's l1: 1.00953\tvalid_1's l1: 0.871743\n",
      "[LightGBM] [Warning] feature_fraction is set=0.9833378558008857, colsample_bytree=0.5 will be ignored. Current value: feature_fraction=0.9833378558008857\n",
      "[LightGBM] [Warning] bagging_fraction is set=0.7052103655596024, subsample=0.6 will be ignored. Current value: bagging_fraction=0.7052103655596024\n",
      "[LightGBM] [Warning] bagging_freq is set=17, subsample_freq=0 will be ignored. Current value: bagging_freq=17\n",
      "Training until validation scores don't improve for 100 rounds\n",
      "[100]\ttraining's l1: 0.993786\tvalid_1's l1: 0.877314\n"
     ]
    },
    {
     "name": "stderr",
     "output_type": "stream",
     "text": [
      "\u001b[32m[I 2021-07-31 13:00:03,826]\u001b[0m Trial 75 finished with value: -0.8719048032451407 and parameters: {'max_depth': 11, 'min_child_weight': 8, 'subsample': 0.6, 'colsample_bytree': 0.5, 'reg_lambda': 0.8283005106000323, 'reg_alpha': 0.008484709602535962, 'feature_fraction': 0.9833378558008857, 'bagging_fraction': 0.7052103655596024, 'bagging_freq': 17, 'num_leaves': 543, 'min_child_samples': 42}. Best is trial 69 with value: -0.8698216791714897.\u001b[0m\n"
     ]
    },
    {
     "name": "stdout",
     "output_type": "stream",
     "text": [
      "Early stopping, best iteration is:\n",
      "[42]\ttraining's l1: 1.00659\tvalid_1's l1: 0.871909\n",
      "[LightGBM] [Warning] feature_fraction is set=0.8839993557720713, colsample_bytree=0.5 will be ignored. Current value: feature_fraction=0.8839993557720713\n",
      "[LightGBM] [Warning] bagging_fraction is set=0.880314653918837, subsample=0.7 will be ignored. Current value: bagging_fraction=0.880314653918837\n",
      "[LightGBM] [Warning] bagging_freq is set=19, subsample_freq=0 will be ignored. Current value: bagging_freq=19\n",
      "Training until validation scores don't improve for 100 rounds\n",
      "[100]\ttraining's l1: 1.01192\tvalid_1's l1: 0.871464\n"
     ]
    },
    {
     "name": "stderr",
     "output_type": "stream",
     "text": [
      "\u001b[32m[I 2021-07-31 13:00:11,741]\u001b[0m Trial 76 finished with value: -0.8704266698786702 and parameters: {'max_depth': 8, 'min_child_weight': 6, 'subsample': 0.7, 'colsample_bytree': 0.5, 'reg_lambda': 2.4398214436932033, 'reg_alpha': 0.029706479850224014, 'feature_fraction': 0.8839993557720713, 'bagging_fraction': 0.880314653918837, 'bagging_freq': 19, 'num_leaves': 445, 'min_child_samples': 48}. Best is trial 69 with value: -0.8698216791714897.\u001b[0m\n"
     ]
    },
    {
     "name": "stdout",
     "output_type": "stream",
     "text": [
      "Early stopping, best iteration is:\n",
      "[65]\ttraining's l1: 1.0181\tvalid_1's l1: 0.870431\n",
      "[LightGBM] [Warning] feature_fraction is set=0.9996944671241311, colsample_bytree=0.5 will be ignored. Current value: feature_fraction=0.9996944671241311\n",
      "[LightGBM] [Warning] bagging_fraction is set=0.9524789736752863, subsample=0.7 will be ignored. Current value: bagging_fraction=0.9524789736752863\n",
      "[LightGBM] [Warning] bagging_freq is set=18, subsample_freq=0 will be ignored. Current value: bagging_freq=18\n",
      "Training until validation scores don't improve for 100 rounds\n",
      "[100]\ttraining's l1: 1.00165\tvalid_1's l1: 0.875469\n"
     ]
    },
    {
     "name": "stderr",
     "output_type": "stream",
     "text": [
      "\u001b[32m[I 2021-07-31 13:00:21,396]\u001b[0m Trial 77 finished with value: -0.8715279271727 and parameters: {'max_depth': 10, 'min_child_weight': 6, 'subsample': 0.7, 'colsample_bytree': 0.5, 'reg_lambda': 1.673149092004768, 'reg_alpha': 0.022241509561393834, 'feature_fraction': 0.9996944671241311, 'bagging_fraction': 0.9524789736752863, 'bagging_freq': 18, 'num_leaves': 374, 'min_child_samples': 62}. Best is trial 69 with value: -0.8698216791714897.\u001b[0m\n"
     ]
    },
    {
     "name": "stdout",
     "output_type": "stream",
     "text": [
      "Early stopping, best iteration is:\n",
      "[46]\ttraining's l1: 1.00951\tvalid_1's l1: 0.871529\n",
      "[LightGBM] [Warning] feature_fraction is set=0.95286989137364, colsample_bytree=0.5 will be ignored. Current value: feature_fraction=0.95286989137364\n",
      "[LightGBM] [Warning] bagging_fraction is set=0.9141434382192567, subsample=0.7 will be ignored. Current value: bagging_fraction=0.9141434382192567\n",
      "[LightGBM] [Warning] bagging_freq is set=6, subsample_freq=0 will be ignored. Current value: bagging_freq=6\n",
      "Training until validation scores don't improve for 100 rounds\n",
      "[100]\ttraining's l1: 1.02104\tvalid_1's l1: 0.872089\n",
      "[200]\ttraining's l1: 1.01737\tvalid_1's l1: 0.8711\n"
     ]
    },
    {
     "name": "stderr",
     "output_type": "stream",
     "text": [
      "\u001b[32m[I 2021-07-31 13:00:32,870]\u001b[0m Trial 78 finished with value: -0.8709153280882159 and parameters: {'max_depth': 6, 'min_child_weight': 17, 'subsample': 0.7, 'colsample_bytree': 0.5, 'reg_lambda': 2.8478445349850787, 'reg_alpha': 0.03228082134596272, 'feature_fraction': 0.95286989137364, 'bagging_fraction': 0.9141434382192567, 'bagging_freq': 6, 'num_leaves': 242, 'min_child_samples': 49}. Best is trial 69 with value: -0.8698216791714897.\u001b[0m\n"
     ]
    },
    {
     "name": "stdout",
     "output_type": "stream",
     "text": [
      "Early stopping, best iteration is:\n",
      "[192]\ttraining's l1: 1.0181\tvalid_1's l1: 0.870946\n",
      "[LightGBM] [Warning] feature_fraction is set=0.8740807440072159, colsample_bytree=0.5 will be ignored. Current value: feature_fraction=0.8740807440072159\n",
      "[LightGBM] [Warning] bagging_fraction is set=0.8821701295447193, subsample=0.7 will be ignored. Current value: bagging_fraction=0.8821701295447193\n",
      "[LightGBM] [Warning] bagging_freq is set=17, subsample_freq=0 will be ignored. Current value: bagging_freq=17\n",
      "Training until validation scores don't improve for 100 rounds\n",
      "[100]\ttraining's l1: 1.00791\tvalid_1's l1: 0.880535\n"
     ]
    },
    {
     "name": "stderr",
     "output_type": "stream",
     "text": [
      "\u001b[32m[I 2021-07-31 13:00:40,686]\u001b[0m Trial 79 finished with value: -0.8709295014174059 and parameters: {'max_depth': 9, 'min_child_weight': 9, 'subsample': 0.7, 'colsample_bytree': 0.5, 'reg_lambda': 4.551992092365094, 'reg_alpha': 0.059803258679639336, 'feature_fraction': 0.8740807440072159, 'bagging_fraction': 0.8821701295447193, 'bagging_freq': 17, 'num_leaves': 492, 'min_child_samples': 52}. Best is trial 69 with value: -0.8698216791714897.\u001b[0m\n"
     ]
    },
    {
     "name": "stdout",
     "output_type": "stream",
     "text": [
      "Early stopping, best iteration is:\n",
      "[35]\ttraining's l1: 1.01828\tvalid_1's l1: 0.87093\n",
      "[LightGBM] [Warning] feature_fraction is set=0.9090404829662512, colsample_bytree=0.7 will be ignored. Current value: feature_fraction=0.9090404829662512\n",
      "[LightGBM] [Warning] bagging_fraction is set=0.8423545443946472, subsample=0.6 will be ignored. Current value: bagging_fraction=0.8423545443946472\n",
      "[LightGBM] [Warning] bagging_freq is set=4, subsample_freq=0 will be ignored. Current value: bagging_freq=4\n",
      "Training until validation scores don't improve for 100 rounds\n",
      "[100]\ttraining's l1: 1.03039\tvalid_1's l1: 0.875019\n",
      "[200]\ttraining's l1: 1.02567\tvalid_1's l1: 0.87425\n",
      "[300]\ttraining's l1: 1.02262\tvalid_1's l1: 0.873444\n",
      "[400]\ttraining's l1: 1.02092\tvalid_1's l1: 0.873383\n",
      "[500]\ttraining's l1: 1.01768\tvalid_1's l1: 0.873353\n",
      "Early stopping, best iteration is:\n",
      "[482]\ttraining's l1: 1.01822\tvalid_1's l1: 0.872941\n"
     ]
    },
    {
     "name": "stderr",
     "output_type": "stream",
     "text": [
      "\u001b[32m[I 2021-07-31 13:01:00,858]\u001b[0m Trial 80 finished with value: -0.8729026169938874 and parameters: {'max_depth': 5, 'min_child_weight': 7, 'subsample': 0.6, 'colsample_bytree': 0.7, 'reg_lambda': 1.6228686411108708, 'reg_alpha': 0.0052595675444847105, 'feature_fraction': 0.9090404829662512, 'bagging_fraction': 0.8423545443946472, 'bagging_freq': 4, 'num_leaves': 456, 'min_child_samples': 43}. Best is trial 69 with value: -0.8698216791714897.\u001b[0m\n"
     ]
    },
    {
     "name": "stdout",
     "output_type": "stream",
     "text": [
      "[LightGBM] [Warning] feature_fraction is set=0.9679065406210678, colsample_bytree=0.5 will be ignored. Current value: feature_fraction=0.9679065406210678\n",
      "[LightGBM] [Warning] bagging_fraction is set=0.9356044230138482, subsample=0.7 will be ignored. Current value: bagging_fraction=0.9356044230138482\n",
      "[LightGBM] [Warning] bagging_freq is set=6, subsample_freq=0 will be ignored. Current value: bagging_freq=6\n",
      "Training until validation scores don't improve for 100 rounds\n",
      "[100]\ttraining's l1: 1.03565\tvalid_1's l1: 0.87651\n",
      "[200]\ttraining's l1: 1.03069\tvalid_1's l1: 0.874429\n",
      "[300]\ttraining's l1: 1.02935\tvalid_1's l1: 0.874235\n"
     ]
    },
    {
     "name": "stderr",
     "output_type": "stream",
     "text": [
      "\u001b[32m[I 2021-07-31 13:01:12,649]\u001b[0m Trial 81 finished with value: -0.8740671671176983 and parameters: {'max_depth': 4, 'min_child_weight': 19, 'subsample': 0.7, 'colsample_bytree': 0.5, 'reg_lambda': 2.54368848192173, 'reg_alpha': 0.03519587987519366, 'feature_fraction': 0.9679065406210678, 'bagging_fraction': 0.9356044230138482, 'bagging_freq': 6, 'num_leaves': 247, 'min_child_samples': 48}. Best is trial 69 with value: -0.8698216791714897.\u001b[0m\n"
     ]
    },
    {
     "name": "stdout",
     "output_type": "stream",
     "text": [
      "Early stopping, best iteration is:\n",
      "[254]\ttraining's l1: 1.02974\tvalid_1's l1: 0.874087\n",
      "[LightGBM] [Warning] feature_fraction is set=0.9446622024564484, colsample_bytree=0.5 will be ignored. Current value: feature_fraction=0.9446622024564484\n",
      "[LightGBM] [Warning] bagging_fraction is set=0.8885176503363186, subsample=0.7 will be ignored. Current value: bagging_fraction=0.8885176503363186\n",
      "[LightGBM] [Warning] bagging_freq is set=7, subsample_freq=0 will be ignored. Current value: bagging_freq=7\n",
      "Training until validation scores don't improve for 100 rounds\n",
      "[100]\ttraining's l1: 1.02126\tvalid_1's l1: 0.870435\n",
      "[200]\ttraining's l1: 1.01629\tvalid_1's l1: 0.870969\n"
     ]
    },
    {
     "name": "stderr",
     "output_type": "stream",
     "text": [
      "\u001b[32m[I 2021-07-31 13:01:23,773]\u001b[0m Trial 82 finished with value: -0.8701800954742168 and parameters: {'max_depth': 6, 'min_child_weight': 17, 'subsample': 0.7, 'colsample_bytree': 0.5, 'reg_lambda': 2.6945113409580896, 'reg_alpha': 0.010022546749160782, 'feature_fraction': 0.9446622024564484, 'bagging_fraction': 0.8885176503363186, 'bagging_freq': 7, 'num_leaves': 173, 'min_child_samples': 38}. Best is trial 69 with value: -0.8698216791714897.\u001b[0m\n"
     ]
    },
    {
     "name": "stdout",
     "output_type": "stream",
     "text": [
      "Early stopping, best iteration is:\n",
      "[188]\ttraining's l1: 1.01714\tvalid_1's l1: 0.870205\n",
      "[LightGBM] [Warning] feature_fraction is set=0.9290219960585772, colsample_bytree=0.5 will be ignored. Current value: feature_fraction=0.9290219960585772\n",
      "[LightGBM] [Warning] bagging_fraction is set=0.846032560290286, subsample=0.7 will be ignored. Current value: bagging_fraction=0.846032560290286\n",
      "[LightGBM] [Warning] bagging_freq is set=7, subsample_freq=0 will be ignored. Current value: bagging_freq=7\n",
      "Training until validation scores don't improve for 100 rounds\n",
      "[100]\ttraining's l1: 1.01563\tvalid_1's l1: 0.87418\n"
     ]
    },
    {
     "name": "stderr",
     "output_type": "stream",
     "text": [
      "\u001b[32m[I 2021-07-31 13:01:32,028]\u001b[0m Trial 83 finished with value: -0.8720355685282084 and parameters: {'max_depth': 8, 'min_child_weight': 11, 'subsample': 0.7, 'colsample_bytree': 0.5, 'reg_lambda': 14.6891973353176, 'reg_alpha': 0.0031205215605480557, 'feature_fraction': 0.9290219960585772, 'bagging_fraction': 0.846032560290286, 'bagging_freq': 7, 'num_leaves': 168, 'min_child_samples': 38}. Best is trial 69 with value: -0.8698216791714897.\u001b[0m\n"
     ]
    },
    {
     "name": "stdout",
     "output_type": "stream",
     "text": [
      "Early stopping, best iteration is:\n",
      "[63]\ttraining's l1: 1.01866\tvalid_1's l1: 0.872039\n",
      "[LightGBM] [Warning] feature_fraction is set=0.9451830735317759, colsample_bytree=0.5 will be ignored. Current value: feature_fraction=0.9451830735317759\n",
      "[LightGBM] [Warning] bagging_fraction is set=0.974788372990654, subsample=0.7 will be ignored. Current value: bagging_fraction=0.974788372990654\n",
      "[LightGBM] [Warning] bagging_freq is set=5, subsample_freq=0 will be ignored. Current value: bagging_freq=5\n",
      "Training until validation scores don't improve for 100 rounds\n",
      "[100]\ttraining's l1: 1.01728\tvalid_1's l1: 0.872176\n",
      "[200]\ttraining's l1: 1.00911\tvalid_1's l1: 0.871438\n"
     ]
    },
    {
     "name": "stderr",
     "output_type": "stream",
     "text": [
      "\u001b[32m[I 2021-07-31 13:01:43,558]\u001b[0m Trial 84 finished with value: -0.8709261920657501 and parameters: {'max_depth': 7, 'min_child_weight': 5, 'subsample': 0.7, 'colsample_bytree': 0.5, 'reg_lambda': 0.688749621707198, 'reg_alpha': 0.009655626221332834, 'feature_fraction': 0.9451830735317759, 'bagging_fraction': 0.974788372990654, 'bagging_freq': 5, 'num_leaves': 285, 'min_child_samples': 40}. Best is trial 69 with value: -0.8698216791714897.\u001b[0m\n"
     ]
    },
    {
     "name": "stdout",
     "output_type": "stream",
     "text": [
      "Early stopping, best iteration is:\n",
      "[143]\ttraining's l1: 1.01173\tvalid_1's l1: 0.870972\n",
      "[LightGBM] [Warning] feature_fraction is set=0.8707247821523522, colsample_bytree=0.9 will be ignored. Current value: feature_fraction=0.8707247821523522\n",
      "[LightGBM] [Warning] bagging_fraction is set=0.8710660720594214, subsample=0.7 will be ignored. Current value: bagging_fraction=0.8710660720594214\n",
      "[LightGBM] [Warning] bagging_freq is set=9, subsample_freq=0 will be ignored. Current value: bagging_freq=9\n",
      "Training until validation scores don't improve for 100 rounds\n",
      "[100]\ttraining's l1: 1.02309\tvalid_1's l1: 0.871645\n",
      "[200]\ttraining's l1: 1.01975\tvalid_1's l1: 0.872307\n"
     ]
    },
    {
     "name": "stderr",
     "output_type": "stream",
     "text": [
      "\u001b[32m[I 2021-07-31 13:01:51,712]\u001b[0m Trial 85 finished with value: -0.871484857183181 and parameters: {'max_depth': 6, 'min_child_weight': 4, 'subsample': 0.7, 'colsample_bytree': 0.9, 'reg_lambda': 4.897596608282297, 'reg_alpha': 0.017361715887668834, 'feature_fraction': 0.8707247821523522, 'bagging_fraction': 0.8710660720594214, 'bagging_freq': 9, 'num_leaves': 333, 'min_child_samples': 46}. Best is trial 69 with value: -0.8698216791714897.\u001b[0m\n"
     ]
    },
    {
     "name": "stdout",
     "output_type": "stream",
     "text": [
      "Early stopping, best iteration is:\n",
      "[114]\ttraining's l1: 1.02251\tvalid_1's l1: 0.871516\n",
      "[LightGBM] [Warning] feature_fraction is set=0.8328612186976452, colsample_bytree=0.5 will be ignored. Current value: feature_fraction=0.8328612186976452\n",
      "[LightGBM] [Warning] bagging_fraction is set=0.7922011881137576, subsample=0.7 will be ignored. Current value: bagging_fraction=0.7922011881137576\n",
      "[LightGBM] [Warning] bagging_freq is set=19, subsample_freq=0 will be ignored. Current value: bagging_freq=19\n",
      "Training until validation scores don't improve for 100 rounds\n",
      "[100]\ttraining's l1: 1.02689\tvalid_1's l1: 0.877299\n"
     ]
    },
    {
     "name": "stderr",
     "output_type": "stream",
     "text": [
      "\u001b[32m[I 2021-07-31 13:01:58,068]\u001b[0m Trial 86 finished with value: -0.8768441180802401 and parameters: {'max_depth': 9, 'min_child_weight': 6, 'subsample': 0.7, 'colsample_bytree': 0.5, 'reg_lambda': 1.338158228954194, 'reg_alpha': 0.09293832452113884, 'feature_fraction': 0.8328612186976452, 'bagging_fraction': 0.7922011881137576, 'bagging_freq': 19, 'num_leaves': 86, 'min_child_samples': 33}. Best is trial 69 with value: -0.8698216791714897.\u001b[0m\n"
     ]
    },
    {
     "name": "stdout",
     "output_type": "stream",
     "text": [
      "Early stopping, best iteration is:\n",
      "[48]\ttraining's l1: 1.02807\tvalid_1's l1: 0.876847\n",
      "[LightGBM] [Warning] feature_fraction is set=0.9979287238522667, colsample_bytree=0.5 will be ignored. Current value: feature_fraction=0.9979287238522667\n",
      "[LightGBM] [Warning] bagging_fraction is set=0.9011351519272134, subsample=0.7 will be ignored. Current value: bagging_fraction=0.9011351519272134\n",
      "[LightGBM] [Warning] bagging_freq is set=7, subsample_freq=0 will be ignored. Current value: bagging_freq=7\n",
      "Training until validation scores don't improve for 100 rounds\n",
      "[100]\ttraining's l1: 1.00176\tvalid_1's l1: 0.873339\n"
     ]
    },
    {
     "name": "stderr",
     "output_type": "stream",
     "text": [
      "\u001b[32m[I 2021-07-31 13:02:07,644]\u001b[0m Trial 87 finished with value: -0.8705043511282227 and parameters: {'max_depth': 10, 'min_child_weight': 7, 'subsample': 0.7, 'colsample_bytree': 0.5, 'reg_lambda': 0.4697257460774858, 'reg_alpha': 0.01145023632458849, 'feature_fraction': 0.9979287238522667, 'bagging_fraction': 0.9011351519272134, 'bagging_freq': 7, 'num_leaves': 438, 'min_child_samples': 61}. Best is trial 69 with value: -0.8698216791714897.\u001b[0m\n"
     ]
    },
    {
     "name": "stdout",
     "output_type": "stream",
     "text": [
      "Early stopping, best iteration is:\n",
      "[41]\ttraining's l1: 1.01095\tvalid_1's l1: 0.870505\n",
      "[LightGBM] [Warning] feature_fraction is set=0.9922766904494271, colsample_bytree=0.5 will be ignored. Current value: feature_fraction=0.9922766904494271\n",
      "[LightGBM] [Warning] bagging_fraction is set=0.894134058291928, subsample=0.7 will be ignored. Current value: bagging_fraction=0.894134058291928\n",
      "[LightGBM] [Warning] bagging_freq is set=20, subsample_freq=0 will be ignored. Current value: bagging_freq=20\n",
      "Training until validation scores don't improve for 100 rounds\n",
      "[100]\ttraining's l1: 1.02218\tvalid_1's l1: 0.871691\n"
     ]
    },
    {
     "name": "stderr",
     "output_type": "stream",
     "text": [
      "\u001b[32m[I 2021-07-31 13:02:15,141]\u001b[0m Trial 88 finished with value: -0.871181766485039 and parameters: {'max_depth': 7, 'min_child_weight': 7, 'subsample': 0.7, 'colsample_bytree': 0.5, 'reg_lambda': 3.3493373503291908, 'reg_alpha': 0.009474418065198414, 'feature_fraction': 0.9922766904494271, 'bagging_fraction': 0.894134058291928, 'bagging_freq': 20, 'num_leaves': 200, 'min_child_samples': 62}. Best is trial 69 with value: -0.8698216791714897.\u001b[0m\n"
     ]
    },
    {
     "name": "stdout",
     "output_type": "stream",
     "text": [
      "Early stopping, best iteration is:\n",
      "[74]\ttraining's l1: 1.02316\tvalid_1's l1: 0.871194\n",
      "[LightGBM] [Warning] feature_fraction is set=0.9073569548848509, colsample_bytree=0.5 will be ignored. Current value: feature_fraction=0.9073569548848509\n",
      "[LightGBM] [Warning] bagging_fraction is set=0.9379100748860694, subsample=0.7 will be ignored. Current value: bagging_fraction=0.9379100748860694\n",
      "[LightGBM] [Warning] bagging_freq is set=8, subsample_freq=0 will be ignored. Current value: bagging_freq=8\n",
      "Training until validation scores don't improve for 100 rounds\n",
      "[100]\ttraining's l1: 1.01357\tvalid_1's l1: 0.870832\n"
     ]
    },
    {
     "name": "stderr",
     "output_type": "stream",
     "text": [
      "\u001b[32m[I 2021-07-31 13:02:24,907]\u001b[0m Trial 89 finished with value: -0.8707800427169359 and parameters: {'max_depth': 8, 'min_child_weight': 8, 'subsample': 0.7, 'colsample_bytree': 0.5, 'reg_lambda': 0.4628070583513776, 'reg_alpha': 0.0025563811118774777, 'feature_fraction': 0.9073569548848509, 'bagging_fraction': 0.9379100748860694, 'bagging_freq': 8, 'num_leaves': 441, 'min_child_samples': 56}. Best is trial 69 with value: -0.8698216791714897.\u001b[0m\n"
     ]
    },
    {
     "name": "stdout",
     "output_type": "stream",
     "text": [
      "Early stopping, best iteration is:\n",
      "[98]\ttraining's l1: 1.01362\tvalid_1's l1: 0.870791\n",
      "[LightGBM] [Warning] feature_fraction is set=0.9999734697398343, colsample_bytree=0.5 will be ignored. Current value: feature_fraction=0.9999734697398343\n",
      "[LightGBM] [Warning] bagging_fraction is set=0.8621352580359701, subsample=0.7 will be ignored. Current value: bagging_fraction=0.8621352580359701\n",
      "[LightGBM] [Warning] bagging_freq is set=9, subsample_freq=0 will be ignored. Current value: bagging_freq=9\n",
      "Training until validation scores don't improve for 100 rounds\n",
      "[100]\ttraining's l1: 1.03648\tvalid_1's l1: 0.877292\n",
      "[200]\ttraining's l1: 1.0326\tvalid_1's l1: 0.875942\n",
      "[300]\ttraining's l1: 1.03098\tvalid_1's l1: 0.875476\n",
      "[400]\ttraining's l1: 1.02983\tvalid_1's l1: 0.875273\n",
      "Early stopping, best iteration is:\n",
      "[370]\ttraining's l1: 1.03015\tvalid_1's l1: 0.87523\n"
     ]
    },
    {
     "name": "stderr",
     "output_type": "stream",
     "text": [
      "\u001b[32m[I 2021-07-31 13:02:38,206]\u001b[0m Trial 90 finished with value: -0.875202434743787 and parameters: {'max_depth': 4, 'min_child_weight': 3, 'subsample': 0.7, 'colsample_bytree': 0.5, 'reg_lambda': 0.2137381570930416, 'reg_alpha': 0.005109484732410882, 'feature_fraction': 0.9999734697398343, 'bagging_fraction': 0.8621352580359701, 'bagging_freq': 9, 'num_leaves': 358, 'min_child_samples': 60}. Best is trial 69 with value: -0.8698216791714897.\u001b[0m\n"
     ]
    },
    {
     "name": "stdout",
     "output_type": "stream",
     "text": [
      "[LightGBM] [Warning] feature_fraction is set=0.939012775977647, colsample_bytree=0.5 will be ignored. Current value: feature_fraction=0.939012775977647\n",
      "[LightGBM] [Warning] bagging_fraction is set=0.8257721253697803, subsample=0.7 will be ignored. Current value: bagging_fraction=0.8257721253697803\n",
      "[LightGBM] [Warning] bagging_freq is set=7, subsample_freq=0 will be ignored. Current value: bagging_freq=7\n",
      "Training until validation scores don't improve for 100 rounds\n",
      "[100]\ttraining's l1: 1.00291\tvalid_1's l1: 0.872852\n"
     ]
    },
    {
     "name": "stderr",
     "output_type": "stream",
     "text": [
      "\u001b[32m[I 2021-07-31 13:02:47,547]\u001b[0m Trial 91 finished with value: -0.8695285854869057 and parameters: {'max_depth': 10, 'min_child_weight': 14, 'subsample': 0.7, 'colsample_bytree': 0.5, 'reg_lambda': 0.13117746396351482, 'reg_alpha': 0.01146017207680488, 'feature_fraction': 0.939012775977647, 'bagging_fraction': 0.8257721253697803, 'bagging_freq': 7, 'num_leaves': 389, 'min_child_samples': 37}. Best is trial 91 with value: -0.8695285854869057.\u001b[0m\n"
     ]
    },
    {
     "name": "stdout",
     "output_type": "stream",
     "text": [
      "Early stopping, best iteration is:\n",
      "[45]\ttraining's l1: 1.00797\tvalid_1's l1: 0.86953\n",
      "[LightGBM] [Warning] feature_fraction is set=0.9420410438277323, colsample_bytree=0.5 will be ignored. Current value: feature_fraction=0.9420410438277323\n",
      "[LightGBM] [Warning] bagging_fraction is set=0.8181967965707158, subsample=0.7 will be ignored. Current value: bagging_fraction=0.8181967965707158\n",
      "[LightGBM] [Warning] bagging_freq is set=7, subsample_freq=0 will be ignored. Current value: bagging_freq=7\n",
      "Training until validation scores don't improve for 100 rounds\n",
      "[100]\ttraining's l1: 0.997007\tvalid_1's l1: 0.873274\n",
      "Early stopping, best iteration is:\n",
      "[50]\ttraining's l1: 1.00612\tvalid_1's l1: 0.871022\n"
     ]
    },
    {
     "name": "stderr",
     "output_type": "stream",
     "text": [
      "\u001b[32m[I 2021-07-31 13:02:57,399]\u001b[0m Trial 92 finished with value: -0.8710184983609173 and parameters: {'max_depth': 10, 'min_child_weight': 15, 'subsample': 0.7, 'colsample_bytree': 0.5, 'reg_lambda': 2.0634060115074107, 'reg_alpha': 0.011558343796075272, 'feature_fraction': 0.9420410438277323, 'bagging_fraction': 0.8181967965707158, 'bagging_freq': 7, 'num_leaves': 436, 'min_child_samples': 38}. Best is trial 91 with value: -0.8695285854869057.\u001b[0m\n"
     ]
    },
    {
     "name": "stdout",
     "output_type": "stream",
     "text": [
      "[LightGBM] [Warning] feature_fraction is set=0.9682098398359129, colsample_bytree=0.5 will be ignored. Current value: feature_fraction=0.9682098398359129\n",
      "[LightGBM] [Warning] bagging_fraction is set=0.7831958518971116, subsample=0.7 will be ignored. Current value: bagging_fraction=0.7831958518971116\n",
      "[LightGBM] [Warning] bagging_freq is set=6, subsample_freq=0 will be ignored. Current value: bagging_freq=6\n",
      "Training until validation scores don't improve for 100 rounds\n",
      "[100]\ttraining's l1: 0.996033\tvalid_1's l1: 0.879733\n"
     ]
    },
    {
     "name": "stderr",
     "output_type": "stream",
     "text": [
      "\u001b[32m[I 2021-07-31 13:03:07,887]\u001b[0m Trial 93 finished with value: -0.8714122715464517 and parameters: {'max_depth': 11, 'min_child_weight': 17, 'subsample': 0.7, 'colsample_bytree': 0.5, 'reg_lambda': 0.2716987558480616, 'reg_alpha': 0.02632535491456498, 'feature_fraction': 0.9682098398359129, 'bagging_fraction': 0.7831958518971116, 'bagging_freq': 6, 'num_leaves': 546, 'min_child_samples': 28}. Best is trial 91 with value: -0.8695285854869057.\u001b[0m\n"
     ]
    },
    {
     "name": "stdout",
     "output_type": "stream",
     "text": [
      "Early stopping, best iteration is:\n",
      "[40]\ttraining's l1: 1.00636\tvalid_1's l1: 0.871415\n",
      "[LightGBM] [Warning] feature_fraction is set=0.9181074771491016, colsample_bytree=0.5 will be ignored. Current value: feature_fraction=0.9181074771491016\n",
      "[LightGBM] [Warning] bagging_fraction is set=0.7569904005884309, subsample=0.7 will be ignored. Current value: bagging_fraction=0.7569904005884309\n",
      "[LightGBM] [Warning] bagging_freq is set=8, subsample_freq=0 will be ignored. Current value: bagging_freq=8\n",
      "Training until validation scores don't improve for 100 rounds\n",
      "[100]\ttraining's l1: 1.00509\tvalid_1's l1: 0.879416\n"
     ]
    },
    {
     "name": "stderr",
     "output_type": "stream",
     "text": [
      "\u001b[32m[I 2021-07-31 13:03:16,857]\u001b[0m Trial 94 finished with value: -0.8747329438176024 and parameters: {'max_depth': 12, 'min_child_weight': 13, 'subsample': 0.7, 'colsample_bytree': 0.5, 'reg_lambda': 0.7864305594610795, 'reg_alpha': 0.04615790034155286, 'feature_fraction': 0.9181074771491016, 'bagging_fraction': 0.7569904005884309, 'bagging_freq': 8, 'num_leaves': 312, 'min_child_samples': 30}. Best is trial 91 with value: -0.8695285854869057.\u001b[0m\n"
     ]
    },
    {
     "name": "stdout",
     "output_type": "stream",
     "text": [
      "Early stopping, best iteration is:\n",
      "[35]\ttraining's l1: 1.01482\tvalid_1's l1: 0.874735\n",
      "[LightGBM] [Warning] feature_fraction is set=0.9795925866305885, colsample_bytree=0.5 will be ignored. Current value: feature_fraction=0.9795925866305885\n",
      "[LightGBM] [Warning] bagging_fraction is set=0.9156874528956036, subsample=0.7 will be ignored. Current value: bagging_fraction=0.9156874528956036\n",
      "[LightGBM] [Warning] bagging_freq is set=4, subsample_freq=0 will be ignored. Current value: bagging_freq=4\n",
      "Training until validation scores don't improve for 100 rounds\n",
      "[100]\ttraining's l1: 1.00333\tvalid_1's l1: 0.873255\n"
     ]
    },
    {
     "name": "stderr",
     "output_type": "stream",
     "text": [
      "\u001b[32m[I 2021-07-31 13:03:28,160]\u001b[0m Trial 95 finished with value: -0.8693298975850695 and parameters: {'max_depth': 9, 'min_child_weight': 14, 'subsample': 0.7, 'colsample_bytree': 0.5, 'reg_lambda': 0.11922354029985313, 'reg_alpha': 0.019441976129951934, 'feature_fraction': 0.9795925866305885, 'bagging_fraction': 0.9156874528956036, 'bagging_freq': 4, 'num_leaves': 495, 'min_child_samples': 31}. Best is trial 95 with value: -0.8693298975850695.\u001b[0m\n"
     ]
    },
    {
     "name": "stdout",
     "output_type": "stream",
     "text": [
      "Early stopping, best iteration is:\n",
      "[77]\ttraining's l1: 1.00683\tvalid_1's l1: 0.869337\n",
      "[LightGBM] [Warning] feature_fraction is set=0.8855474795064378, colsample_bytree=0.5 will be ignored. Current value: feature_fraction=0.8855474795064378\n",
      "[LightGBM] [Warning] bagging_fraction is set=0.9219990629256745, subsample=0.7 will be ignored. Current value: bagging_fraction=0.9219990629256745\n",
      "[LightGBM] [Warning] bagging_freq is set=2, subsample_freq=0 will be ignored. Current value: bagging_freq=2\n",
      "Training until validation scores don't improve for 100 rounds\n",
      "[100]\ttraining's l1: 1.00664\tvalid_1's l1: 0.872417\n"
     ]
    },
    {
     "name": "stderr",
     "output_type": "stream",
     "text": [
      "\u001b[32m[I 2021-07-31 13:03:39,694]\u001b[0m Trial 96 finished with value: -0.8711537823605259 and parameters: {'max_depth': 9, 'min_child_weight': 14, 'subsample': 0.7, 'colsample_bytree': 0.5, 'reg_lambda': 10.754751481918802, 'reg_alpha': 0.020035293735182806, 'feature_fraction': 0.8855474795064378, 'bagging_fraction': 0.9219990629256745, 'bagging_freq': 2, 'num_leaves': 489, 'min_child_samples': 66}. Best is trial 95 with value: -0.8693298975850695.\u001b[0m\n"
     ]
    },
    {
     "name": "stdout",
     "output_type": "stream",
     "text": [
      "Early stopping, best iteration is:\n",
      "[62]\ttraining's l1: 1.01044\tvalid_1's l1: 0.871159\n",
      "[LightGBM] [Warning] feature_fraction is set=0.9604739317268233, colsample_bytree=0.5 will be ignored. Current value: feature_fraction=0.9604739317268233\n",
      "[LightGBM] [Warning] bagging_fraction is set=0.9632353769286067, subsample=0.7 will be ignored. Current value: bagging_fraction=0.9632353769286067\n",
      "[LightGBM] [Warning] bagging_freq is set=4, subsample_freq=0 will be ignored. Current value: bagging_freq=4\n",
      "Training until validation scores don't improve for 100 rounds\n",
      "[100]\ttraining's l1: 1.0109\tvalid_1's l1: 0.870028\n"
     ]
    },
    {
     "name": "stderr",
     "output_type": "stream",
     "text": [
      "\u001b[32m[I 2021-07-31 13:03:49,499]\u001b[0m Trial 97 finished with value: -0.8697427978114252 and parameters: {'max_depth': 8, 'min_child_weight': 16, 'subsample': 0.7, 'colsample_bytree': 0.5, 'reg_lambda': 0.5199713735993213, 'reg_alpha': 0.006488047299960181, 'feature_fraction': 0.9604739317268233, 'bagging_fraction': 0.9632353769286067, 'bagging_freq': 4, 'num_leaves': 459, 'min_child_samples': 32}. Best is trial 95 with value: -0.8693298975850695.\u001b[0m\n"
     ]
    },
    {
     "name": "stdout",
     "output_type": "stream",
     "text": [
      "Early stopping, best iteration is:\n",
      "[70]\ttraining's l1: 1.01564\tvalid_1's l1: 0.869748\n",
      "[LightGBM] [Warning] feature_fraction is set=0.9383591998621247, colsample_bytree=0.5 will be ignored. Current value: feature_fraction=0.9383591998621247\n",
      "[LightGBM] [Warning] bagging_fraction is set=0.9875365206328364, subsample=0.7 will be ignored. Current value: bagging_fraction=0.9875365206328364\n",
      "[LightGBM] [Warning] bagging_freq is set=4, subsample_freq=0 will be ignored. Current value: bagging_freq=4\n",
      "Training until validation scores don't improve for 100 rounds\n",
      "[100]\ttraining's l1: 1.01441\tvalid_1's l1: 0.872358\n",
      "[200]\ttraining's l1: 1.00333\tvalid_1's l1: 0.873301\n"
     ]
    },
    {
     "name": "stderr",
     "output_type": "stream",
     "text": [
      "\u001b[32m[I 2021-07-31 13:04:01,951]\u001b[0m Trial 98 finished with value: -0.87157095170963 and parameters: {'max_depth': 8, 'min_child_weight': 15, 'subsample': 0.7, 'colsample_bytree': 0.5, 'reg_lambda': 0.046995131367192154, 'reg_alpha': 0.0019414476608969854, 'feature_fraction': 0.9383591998621247, 'bagging_fraction': 0.9875365206328364, 'bagging_freq': 4, 'num_leaves': 513, 'min_child_samples': 44}. Best is trial 95 with value: -0.8693298975850695.\u001b[0m\n"
     ]
    },
    {
     "name": "stdout",
     "output_type": "stream",
     "text": [
      "Early stopping, best iteration is:\n",
      "[118]\ttraining's l1: 1.01133\tvalid_1's l1: 0.871598\n",
      "[LightGBM] [Warning] feature_fraction is set=0.9626158980836503, colsample_bytree=0.5 will be ignored. Current value: feature_fraction=0.9626158980836503\n",
      "[LightGBM] [Warning] bagging_fraction is set=0.9629017950491199, subsample=0.7 will be ignored. Current value: bagging_fraction=0.9629017950491199\n",
      "[LightGBM] [Warning] bagging_freq is set=4, subsample_freq=0 will be ignored. Current value: bagging_freq=4\n",
      "Training until validation scores don't improve for 100 rounds\n",
      "[100]\ttraining's l1: 1.00668\tvalid_1's l1: 0.871238\n"
     ]
    },
    {
     "name": "stderr",
     "output_type": "stream",
     "text": [
      "\u001b[32m[I 2021-07-31 13:04:12,587]\u001b[0m Trial 99 finished with value: -0.869753020345657 and parameters: {'max_depth': 9, 'min_child_weight': 16, 'subsample': 0.7, 'colsample_bytree': 0.5, 'reg_lambda': 6.018529091336739, 'reg_alpha': 0.007292730009649736, 'feature_fraction': 0.9626158980836503, 'bagging_fraction': 0.9629017950491199, 'bagging_freq': 4, 'num_leaves': 465, 'min_child_samples': 37}. Best is trial 95 with value: -0.8693298975850695.\u001b[0m\n",
      "\u001b[32m[I 2021-07-31 13:04:12,589]\u001b[0m A new study created in memory with name: no-name-c779225b-7d70-40db-ac6c-34e48c90a545\u001b[0m\n"
     ]
    },
    {
     "name": "stdout",
     "output_type": "stream",
     "text": [
      "Early stopping, best iteration is:\n",
      "[67]\ttraining's l1: 1.00958\tvalid_1's l1: 0.869768\n",
      "[LightGBM] [Warning] feature_fraction is set=0.41247018612393005, colsample_bytree=0.9 will be ignored. Current value: feature_fraction=0.41247018612393005\n",
      "[LightGBM] [Warning] bagging_fraction is set=0.44398751589327556, subsample=0.5 will be ignored. Current value: bagging_fraction=0.44398751589327556\n",
      "[LightGBM] [Warning] bagging_freq is set=8, subsample_freq=0 will be ignored. Current value: bagging_freq=8\n",
      "Training until validation scores don't improve for 100 rounds\n",
      "[100]\ttraining's l1: 0.813938\tvalid_1's l1: 1.4068\n",
      "Early stopping, best iteration is:\n",
      "[67]\ttraining's l1: 0.843888\tvalid_1's l1: 1.4005\n"
     ]
    },
    {
     "name": "stderr",
     "output_type": "stream",
     "text": [
      "\u001b[32m[I 2021-07-31 13:04:23,496]\u001b[0m Trial 0 finished with value: -1.4004492276920597 and parameters: {'max_depth': 14, 'min_child_weight': 20, 'subsample': 0.5, 'colsample_bytree': 0.9, 'reg_lambda': 0.24610115280567862, 'reg_alpha': 5.462765827331514, 'feature_fraction': 0.41247018612393005, 'bagging_fraction': 0.44398751589327556, 'bagging_freq': 8, 'num_leaves': 870, 'min_child_samples': 56}. Best is trial 0 with value: -1.4004492276920597.\u001b[0m\n"
     ]
    },
    {
     "name": "stdout",
     "output_type": "stream",
     "text": [
      "[LightGBM] [Warning] feature_fraction is set=0.5419271189526809, colsample_bytree=0.6 will be ignored. Current value: feature_fraction=0.5419271189526809\n",
      "[LightGBM] [Warning] bagging_fraction is set=0.4155749996962066, subsample=0.8 will be ignored. Current value: bagging_fraction=0.4155749996962066\n",
      "[LightGBM] [Warning] bagging_freq is set=1, subsample_freq=0 will be ignored. Current value: bagging_freq=1\n",
      "Training until validation scores don't improve for 100 rounds\n",
      "[100]\ttraining's l1: 1.03989\tvalid_1's l1: 1.43512\n",
      "[200]\ttraining's l1: 1.02079\tvalid_1's l1: 1.42703\n",
      "[300]\ttraining's l1: 1.00187\tvalid_1's l1: 1.41502\n",
      "[400]\ttraining's l1: 0.989842\tvalid_1's l1: 1.41286\n",
      "[500]\ttraining's l1: 0.977732\tvalid_1's l1: 1.41297\n",
      "[600]\ttraining's l1: 0.964714\tvalid_1's l1: 1.40838\n",
      "[700]\ttraining's l1: 0.958768\tvalid_1's l1: 1.40735\n",
      "[800]\ttraining's l1: 0.951526\tvalid_1's l1: 1.40466\n",
      "[900]\ttraining's l1: 0.945939\tvalid_1's l1: 1.40421\n",
      "[1000]\ttraining's l1: 0.94087\tvalid_1's l1: 1.40373\n",
      "Early stopping, best iteration is:\n",
      "[909]\ttraining's l1: 0.945275\tvalid_1's l1: 1.4037\n"
     ]
    },
    {
     "name": "stderr",
     "output_type": "stream",
     "text": [
      "\u001b[32m[I 2021-07-31 13:04:55,795]\u001b[0m Trial 1 finished with value: -1.4030422044566326 and parameters: {'max_depth': 4, 'min_child_weight': 6, 'subsample': 0.8, 'colsample_bytree': 0.6, 'reg_lambda': 0.0794439558108095, 'reg_alpha': 0.009174971760567894, 'feature_fraction': 0.5419271189526809, 'bagging_fraction': 0.4155749996962066, 'bagging_freq': 1, 'num_leaves': 875, 'min_child_samples': 48}. Best is trial 0 with value: -1.4004492276920597.\u001b[0m\n"
     ]
    },
    {
     "name": "stdout",
     "output_type": "stream",
     "text": [
      "[LightGBM] [Warning] feature_fraction is set=0.5124377969179945, colsample_bytree=0.8 will be ignored. Current value: feature_fraction=0.5124377969179945\n",
      "[LightGBM] [Warning] bagging_fraction is set=0.5968524289534822, subsample=0.7 will be ignored. Current value: bagging_fraction=0.5968524289534822\n",
      "[LightGBM] [Warning] bagging_freq is set=10, subsample_freq=0 will be ignored. Current value: bagging_freq=10\n",
      "Training until validation scores don't improve for 100 rounds\n",
      "[100]\ttraining's l1: 0.981206\tvalid_1's l1: 1.40888\n",
      "[200]\ttraining's l1: 0.971881\tvalid_1's l1: 1.40544\n",
      "[300]\ttraining's l1: 0.950263\tvalid_1's l1: 1.40093\n",
      "[400]\ttraining's l1: 0.930537\tvalid_1's l1: 1.3959\n",
      "[500]\ttraining's l1: 0.914609\tvalid_1's l1: 1.39934\n",
      "Early stopping, best iteration is:\n",
      "[406]\ttraining's l1: 0.929519\tvalid_1's l1: 1.39549\n"
     ]
    },
    {
     "name": "stderr",
     "output_type": "stream",
     "text": [
      "\u001b[32m[I 2021-07-31 13:05:11,616]\u001b[0m Trial 2 finished with value: -1.3952957566586637 and parameters: {'max_depth': 6, 'min_child_weight': 5, 'subsample': 0.7, 'colsample_bytree': 0.8, 'reg_lambda': 176.70473194751327, 'reg_alpha': 0.13222870949465207, 'feature_fraction': 0.5124377969179945, 'bagging_fraction': 0.5968524289534822, 'bagging_freq': 10, 'num_leaves': 829, 'min_child_samples': 84}. Best is trial 2 with value: -1.3952957566586637.\u001b[0m\n"
     ]
    },
    {
     "name": "stdout",
     "output_type": "stream",
     "text": [
      "[LightGBM] [Warning] feature_fraction is set=0.7790863091146052, colsample_bytree=0.5 will be ignored. Current value: feature_fraction=0.7790863091146052\n",
      "[LightGBM] [Warning] bagging_fraction is set=0.8174316059898874, subsample=0.9 will be ignored. Current value: bagging_fraction=0.8174316059898874\n",
      "[LightGBM] [Warning] bagging_freq is set=17, subsample_freq=0 will be ignored. Current value: bagging_freq=17\n",
      "Training until validation scores don't improve for 100 rounds\n",
      "[100]\ttraining's l1: 0.802503\tvalid_1's l1: 1.4218\n"
     ]
    },
    {
     "name": "stderr",
     "output_type": "stream",
     "text": [
      "\u001b[32m[I 2021-07-31 13:05:23,157]\u001b[0m Trial 3 finished with value: -1.3972201478714892 and parameters: {'max_depth': 13, 'min_child_weight': 5, 'subsample': 0.9, 'colsample_bytree': 0.5, 'reg_lambda': 0.0012735732403976, 'reg_alpha': 0.003489963764322383, 'feature_fraction': 0.7790863091146052, 'bagging_fraction': 0.8174316059898874, 'bagging_freq': 17, 'num_leaves': 574, 'min_child_samples': 8}. Best is trial 2 with value: -1.3952957566586637.\u001b[0m\n"
     ]
    },
    {
     "name": "stdout",
     "output_type": "stream",
     "text": [
      "Early stopping, best iteration is:\n",
      "[40]\ttraining's l1: 0.881714\tvalid_1's l1: 1.39723\n",
      "[LightGBM] [Warning] feature_fraction is set=0.21115967868927524, colsample_bytree=0.6 will be ignored. Current value: feature_fraction=0.21115967868927524\n",
      "[LightGBM] [Warning] bagging_fraction is set=0.7051172232203837, subsample=0.9 will be ignored. Current value: bagging_fraction=0.7051172232203837\n",
      "[LightGBM] [Warning] bagging_freq is set=13, subsample_freq=0 will be ignored. Current value: bagging_freq=13\n",
      "Training until validation scores don't improve for 100 rounds\n",
      "[100]\ttraining's l1: 0.874983\tvalid_1's l1: 1.40776\n",
      "Early stopping, best iteration is:\n",
      "[79]\ttraining's l1: 0.886966\tvalid_1's l1: 1.40518\n"
     ]
    },
    {
     "name": "stderr",
     "output_type": "stream",
     "text": [
      "\u001b[32m[I 2021-07-31 13:05:32,305]\u001b[0m Trial 4 finished with value: -1.4050722722009847 and parameters: {'max_depth': 14, 'min_child_weight': 11, 'subsample': 0.9, 'colsample_bytree': 0.6, 'reg_lambda': 0.02463392708712944, 'reg_alpha': 25.44730808789836, 'feature_fraction': 0.21115967868927524, 'bagging_fraction': 0.7051172232203837, 'bagging_freq': 13, 'num_leaves': 428, 'min_child_samples': 71}. Best is trial 2 with value: -1.3952957566586637.\u001b[0m\n"
     ]
    },
    {
     "name": "stdout",
     "output_type": "stream",
     "text": [
      "[LightGBM] [Warning] feature_fraction is set=0.5883824212835649, colsample_bytree=0.5 will be ignored. Current value: feature_fraction=0.5883824212835649\n",
      "[LightGBM] [Warning] bagging_fraction is set=0.33449251196775454, subsample=0.7 will be ignored. Current value: bagging_fraction=0.33449251196775454\n",
      "[LightGBM] [Warning] bagging_freq is set=10, subsample_freq=0 will be ignored. Current value: bagging_freq=10\n",
      "Training until validation scores don't improve for 100 rounds\n",
      "[100]\ttraining's l1: 0.806702\tvalid_1's l1: 1.41183\n"
     ]
    },
    {
     "name": "stderr",
     "output_type": "stream",
     "text": [
      "\u001b[32m[I 2021-07-31 13:05:41,502]\u001b[0m Trial 5 finished with value: -1.3995858370134138 and parameters: {'max_depth': 19, 'min_child_weight': 7, 'subsample': 0.7, 'colsample_bytree': 0.5, 'reg_lambda': 0.0033997167250806436, 'reg_alpha': 3.7401524145168072, 'feature_fraction': 0.5883824212835649, 'bagging_fraction': 0.33449251196775454, 'bagging_freq': 10, 'num_leaves': 981, 'min_child_samples': 100}. Best is trial 2 with value: -1.3952957566586637.\u001b[0m\n"
     ]
    },
    {
     "name": "stdout",
     "output_type": "stream",
     "text": [
      "Early stopping, best iteration is:\n",
      "[36]\ttraining's l1: 0.874617\tvalid_1's l1: 1.39959\n",
      "[LightGBM] [Warning] feature_fraction is set=0.22116153539424258, colsample_bytree=0.8 will be ignored. Current value: feature_fraction=0.22116153539424258\n",
      "[LightGBM] [Warning] bagging_fraction is set=0.35986656083704416, subsample=0.5 will be ignored. Current value: bagging_fraction=0.35986656083704416\n",
      "[LightGBM] [Warning] bagging_freq is set=11, subsample_freq=0 will be ignored. Current value: bagging_freq=11\n",
      "Training until validation scores don't improve for 100 rounds\n",
      "[100]\ttraining's l1: 0.9096\tvalid_1's l1: 1.40749\n"
     ]
    },
    {
     "name": "stderr",
     "output_type": "stream",
     "text": [
      "\u001b[32m[I 2021-07-31 13:05:47,499]\u001b[0m Trial 6 finished with value: -1.4073873510890031 and parameters: {'max_depth': 10, 'min_child_weight': 19, 'subsample': 0.5, 'colsample_bytree': 0.8, 'reg_lambda': 5.90003803832949, 'reg_alpha': 1.3920067408221215, 'feature_fraction': 0.22116153539424258, 'bagging_fraction': 0.35986656083704416, 'bagging_freq': 11, 'num_leaves': 329, 'min_child_samples': 71}. Best is trial 2 with value: -1.3952957566586637.\u001b[0m\n"
     ]
    },
    {
     "name": "stdout",
     "output_type": "stream",
     "text": [
      "Early stopping, best iteration is:\n",
      "[79]\ttraining's l1: 0.915946\tvalid_1's l1: 1.40741\n",
      "[LightGBM] [Warning] feature_fraction is set=0.8419285840654258, colsample_bytree=0.6 will be ignored. Current value: feature_fraction=0.8419285840654258\n",
      "[LightGBM] [Warning] bagging_fraction is set=0.5041660809256221, subsample=0.6 will be ignored. Current value: bagging_fraction=0.5041660809256221\n",
      "[LightGBM] [Warning] bagging_freq is set=15, subsample_freq=0 will be ignored. Current value: bagging_freq=15\n",
      "Training until validation scores don't improve for 100 rounds\n",
      "[100]\ttraining's l1: 0.87695\tvalid_1's l1: 1.39961\n",
      "Early stopping, best iteration is:\n",
      "[76]\ttraining's l1: 0.885506\tvalid_1's l1: 1.39714\n"
     ]
    },
    {
     "name": "stderr",
     "output_type": "stream",
     "text": [
      "\u001b[32m[I 2021-07-31 13:05:56,773]\u001b[0m Trial 7 finished with value: -1.3970386638164003 and parameters: {'max_depth': 15, 'min_child_weight': 11, 'subsample': 0.6, 'colsample_bytree': 0.6, 'reg_lambda': 17.085576674029838, 'reg_alpha': 115.39685832086703, 'feature_fraction': 0.8419285840654258, 'bagging_fraction': 0.5041660809256221, 'bagging_freq': 15, 'num_leaves': 802, 'min_child_samples': 36}. Best is trial 2 with value: -1.3952957566586637.\u001b[0m\n"
     ]
    },
    {
     "name": "stdout",
     "output_type": "stream",
     "text": [
      "[LightGBM] [Warning] feature_fraction is set=0.7114995592615909, colsample_bytree=0.7 will be ignored. Current value: feature_fraction=0.7114995592615909\n",
      "[LightGBM] [Warning] bagging_fraction is set=0.3435517748302256, subsample=0.7 will be ignored. Current value: bagging_fraction=0.3435517748302256\n",
      "[LightGBM] [Warning] bagging_freq is set=8, subsample_freq=0 will be ignored. Current value: bagging_freq=8\n",
      "Training until validation scores don't improve for 100 rounds\n",
      "[100]\ttraining's l1: 0.804197\tvalid_1's l1: 1.40943\n"
     ]
    },
    {
     "name": "stderr",
     "output_type": "stream",
     "text": [
      "\u001b[32m[I 2021-07-31 13:06:06,588]\u001b[0m Trial 8 finished with value: -1.396908435399718 and parameters: {'max_depth': 18, 'min_child_weight': 9, 'subsample': 0.7, 'colsample_bytree': 0.7, 'reg_lambda': 0.7802258066725379, 'reg_alpha': 0.02031948681474302, 'feature_fraction': 0.7114995592615909, 'bagging_fraction': 0.3435517748302256, 'bagging_freq': 8, 'num_leaves': 690, 'min_child_samples': 62}. Best is trial 2 with value: -1.3952957566586637.\u001b[0m\n"
     ]
    },
    {
     "name": "stdout",
     "output_type": "stream",
     "text": [
      "Early stopping, best iteration is:\n",
      "[43]\ttraining's l1: 0.861253\tvalid_1's l1: 1.39692\n",
      "[LightGBM] [Warning] feature_fraction is set=0.510797494199845, colsample_bytree=0.9 will be ignored. Current value: feature_fraction=0.510797494199845\n",
      "[LightGBM] [Warning] bagging_fraction is set=0.604756206870998, subsample=0.5 will be ignored. Current value: bagging_fraction=0.604756206870998\n",
      "[LightGBM] [Warning] bagging_freq is set=3, subsample_freq=0 will be ignored. Current value: bagging_freq=3\n",
      "Training until validation scores don't improve for 100 rounds\n",
      "[100]\ttraining's l1: 1.11641\tvalid_1's l1: 1.509\n",
      "[200]\ttraining's l1: 1.09281\tvalid_1's l1: 1.47907\n",
      "[300]\ttraining's l1: 1.07468\tvalid_1's l1: 1.4623\n",
      "[400]\ttraining's l1: 1.06703\tvalid_1's l1: 1.45883\n",
      "[500]\ttraining's l1: 1.05744\tvalid_1's l1: 1.45147\n",
      "[600]\ttraining's l1: 1.05127\tvalid_1's l1: 1.4484\n",
      "[700]\ttraining's l1: 1.04609\tvalid_1's l1: 1.44588\n",
      "[800]\ttraining's l1: 1.04255\tvalid_1's l1: 1.44414\n",
      "[900]\ttraining's l1: 1.03821\tvalid_1's l1: 1.43972\n",
      "[1000]\ttraining's l1: 1.03451\tvalid_1's l1: 1.4382\n",
      "[1100]\ttraining's l1: 1.03181\tvalid_1's l1: 1.43754\n",
      "[1200]\ttraining's l1: 1.02808\tvalid_1's l1: 1.43613\n",
      "[1300]\ttraining's l1: 1.02616\tvalid_1's l1: 1.43613\n",
      "[1400]\ttraining's l1: 1.02316\tvalid_1's l1: 1.43392\n",
      "[1500]\ttraining's l1: 1.02096\tvalid_1's l1: 1.43319\n",
      "[1600]\ttraining's l1: 1.01921\tvalid_1's l1: 1.43274\n",
      "[1700]\ttraining's l1: 1.01655\tvalid_1's l1: 1.43201\n",
      "Early stopping, best iteration is:\n",
      "[1695]\ttraining's l1: 1.01662\tvalid_1's l1: 1.43191\n"
     ]
    },
    {
     "name": "stderr",
     "output_type": "stream",
     "text": [
      "\u001b[32m[I 2021-07-31 13:06:54,863]\u001b[0m Trial 9 finished with value: -1.4280295844476567 and parameters: {'max_depth': 2, 'min_child_weight': 10, 'subsample': 0.5, 'colsample_bytree': 0.9, 'reg_lambda': 85.23292390130149, 'reg_alpha': 0.2504611085179432, 'feature_fraction': 0.510797494199845, 'bagging_fraction': 0.604756206870998, 'bagging_freq': 3, 'num_leaves': 436, 'min_child_samples': 58}. Best is trial 2 with value: -1.3952957566586637.\u001b[0m\n"
     ]
    },
    {
     "name": "stdout",
     "output_type": "stream",
     "text": [
      "[LightGBM] [Warning] feature_fraction is set=0.9863362829077587, colsample_bytree=0.8 will be ignored. Current value: feature_fraction=0.9863362829077587\n",
      "[LightGBM] [Warning] bagging_fraction is set=0.9696091746667952, subsample=0.8 will be ignored. Current value: bagging_fraction=0.9696091746667952\n",
      "[LightGBM] [Warning] bagging_freq is set=20, subsample_freq=0 will be ignored. Current value: bagging_freq=20\n",
      "Training until validation scores don't improve for 100 rounds\n",
      "[100]\ttraining's l1: 1.00265\tvalid_1's l1: 1.41544\n",
      "[200]\ttraining's l1: 0.998425\tvalid_1's l1: 1.4123\n",
      "[300]\ttraining's l1: 0.990636\tvalid_1's l1: 1.40723\n",
      "[400]\ttraining's l1: 0.977627\tvalid_1's l1: 1.40124\n",
      "[500]\ttraining's l1: 0.968438\tvalid_1's l1: 1.39905\n",
      "[600]\ttraining's l1: 0.955619\tvalid_1's l1: 1.39952\n",
      "Early stopping, best iteration is:\n",
      "[508]\ttraining's l1: 0.967823\tvalid_1's l1: 1.39827\n"
     ]
    },
    {
     "name": "stderr",
     "output_type": "stream",
     "text": [
      "\u001b[32m[I 2021-07-31 13:07:15,532]\u001b[0m Trial 10 finished with value: -1.398093815232397 and parameters: {'max_depth': 6, 'min_child_weight': 2, 'subsample': 0.8, 'colsample_bytree': 0.8, 'reg_lambda': 711.3837092628837, 'reg_alpha': 0.11123463715022235, 'feature_fraction': 0.9863362829077587, 'bagging_fraction': 0.9696091746667952, 'bagging_freq': 20, 'num_leaves': 28, 'min_child_samples': 100}. Best is trial 2 with value: -1.3952957566586637.\u001b[0m\n"
     ]
    },
    {
     "name": "stdout",
     "output_type": "stream",
     "text": [
      "[LightGBM] [Warning] feature_fraction is set=0.7457544793313018, colsample_bytree=0.7 will be ignored. Current value: feature_fraction=0.7457544793313018\n",
      "[LightGBM] [Warning] bagging_fraction is set=0.2394540620708896, subsample=0.7 will be ignored. Current value: bagging_fraction=0.2394540620708896\n",
      "[LightGBM] [Warning] bagging_freq is set=7, subsample_freq=0 will be ignored. Current value: bagging_freq=7\n",
      "Training until validation scores don't improve for 100 rounds\n",
      "[100]\ttraining's l1: 0.92252\tvalid_1's l1: 1.39435\n",
      "[200]\ttraining's l1: 0.913417\tvalid_1's l1: 1.39055\n",
      "[300]\ttraining's l1: 0.893107\tvalid_1's l1: 1.39378\n",
      "Early stopping, best iteration is:\n",
      "[241]\ttraining's l1: 0.90464\tvalid_1's l1: 1.39014\n"
     ]
    },
    {
     "name": "stderr",
     "output_type": "stream",
     "text": [
      "\u001b[32m[I 2021-07-31 13:07:23,005]\u001b[0m Trial 11 finished with value: -1.3900404482202893 and parameters: {'max_depth': 8, 'min_child_weight': 15, 'subsample': 0.7, 'colsample_bytree': 0.7, 'reg_lambda': 1.7299666566407124, 'reg_alpha': 0.0664006458351895, 'feature_fraction': 0.7457544793313018, 'bagging_fraction': 0.2394540620708896, 'bagging_freq': 7, 'num_leaves': 671, 'min_child_samples': 85}. Best is trial 11 with value: -1.3900404482202893.\u001b[0m\n"
     ]
    },
    {
     "name": "stdout",
     "output_type": "stream",
     "text": [
      "[LightGBM] [Warning] feature_fraction is set=0.37143017109707577, colsample_bytree=0.8 will be ignored. Current value: feature_fraction=0.37143017109707577\n",
      "[LightGBM] [Warning] bagging_fraction is set=0.2233937307737865, subsample=0.6 will be ignored. Current value: bagging_fraction=0.2233937307737865\n",
      "[LightGBM] [Warning] bagging_freq is set=5, subsample_freq=0 will be ignored. Current value: bagging_freq=5\n",
      "Training until validation scores don't improve for 100 rounds\n",
      "[100]\ttraining's l1: 0.953899\tvalid_1's l1: 1.40803\n",
      "[200]\ttraining's l1: 0.939712\tvalid_1's l1: 1.40473\n",
      "[300]\ttraining's l1: 0.921339\tvalid_1's l1: 1.40036\n",
      "[400]\ttraining's l1: 0.906681\tvalid_1's l1: 1.40167\n",
      "Early stopping, best iteration is:\n",
      "[316]\ttraining's l1: 0.919154\tvalid_1's l1: 1.40021\n"
     ]
    },
    {
     "name": "stderr",
     "output_type": "stream",
     "text": [
      "\u001b[32m[I 2021-07-31 13:07:32,227]\u001b[0m Trial 12 finished with value: -1.4000755496668007 and parameters: {'max_depth': 8, 'min_child_weight': 14, 'subsample': 0.6, 'colsample_bytree': 0.8, 'reg_lambda': 323.65680681206555, 'reg_alpha': 0.07578174082756965, 'feature_fraction': 0.37143017109707577, 'bagging_fraction': 0.2233937307737865, 'bagging_freq': 5, 'num_leaves': 639, 'min_child_samples': 85}. Best is trial 11 with value: -1.3900404482202893.\u001b[0m\n"
     ]
    },
    {
     "name": "stdout",
     "output_type": "stream",
     "text": [
      "[LightGBM] [Warning] feature_fraction is set=0.6918002905824294, colsample_bytree=0.7 will be ignored. Current value: feature_fraction=0.6918002905824294\n",
      "[LightGBM] [Warning] bagging_fraction is set=0.23118763514475743, subsample=0.8 will be ignored. Current value: bagging_fraction=0.23118763514475743\n",
      "[LightGBM] [Warning] bagging_freq is set=5, subsample_freq=0 will be ignored. Current value: bagging_freq=5\n",
      "Training until validation scores don't improve for 100 rounds\n",
      "[100]\ttraining's l1: 1.18723\tvalid_1's l1: 1.58726\n"
     ]
    },
    {
     "name": "stderr",
     "output_type": "stream",
     "text": [
      "\u001b[32m[I 2021-07-31 13:07:35,203]\u001b[0m Trial 13 finished with value: -1.5853149200265244 and parameters: {'max_depth': 1, 'min_child_weight': 16, 'subsample': 0.8, 'colsample_bytree': 0.7, 'reg_lambda': 6.669729171184593, 'reg_alpha': 0.0014076901492309152, 'feature_fraction': 0.6918002905824294, 'bagging_fraction': 0.23118763514475743, 'bagging_freq': 5, 'num_leaves': 996, 'min_child_samples': 87}. Best is trial 11 with value: -1.3900404482202893.\u001b[0m\n"
     ]
    },
    {
     "name": "stdout",
     "output_type": "stream",
     "text": [
      "Early stopping, best iteration is:\n",
      "[59]\ttraining's l1: 1.19147\tvalid_1's l1: 1.58531\n",
      "[LightGBM] [Warning] feature_fraction is set=0.9273503990256143, colsample_bytree=0.8 will be ignored. Current value: feature_fraction=0.9273503990256143\n",
      "[LightGBM] [Warning] bagging_fraction is set=0.9842112999559076, subsample=0.6 will be ignored. Current value: bagging_fraction=0.9842112999559076\n",
      "[LightGBM] [Warning] bagging_freq is set=8, subsample_freq=0 will be ignored. Current value: bagging_freq=8\n",
      "Training until validation scores don't improve for 100 rounds\n",
      "[100]\ttraining's l1: 0.937432\tvalid_1's l1: 1.39967\n",
      "[200]\ttraining's l1: 0.927716\tvalid_1's l1: 1.40136\n",
      "Early stopping, best iteration is:\n",
      "[103]\ttraining's l1: 0.936942\tvalid_1's l1: 1.39929\n"
     ]
    },
    {
     "name": "stderr",
     "output_type": "stream",
     "text": [
      "\u001b[32m[I 2021-07-31 13:07:45,493]\u001b[0m Trial 14 finished with value: -1.3992450793705844 and parameters: {'max_depth': 7, 'min_child_weight': 2, 'subsample': 0.6, 'colsample_bytree': 0.8, 'reg_lambda': 67.68136934916615, 'reg_alpha': 0.38253855350006305, 'feature_fraction': 0.9273503990256143, 'bagging_fraction': 0.9842112999559076, 'bagging_freq': 8, 'num_leaves': 749, 'min_child_samples': 85}. Best is trial 11 with value: -1.3900404482202893.\u001b[0m\n"
     ]
    },
    {
     "name": "stdout",
     "output_type": "stream",
     "text": [
      "[LightGBM] [Warning] feature_fraction is set=0.40043290271507426, colsample_bytree=0.7 will be ignored. Current value: feature_fraction=0.40043290271507426\n",
      "[LightGBM] [Warning] bagging_fraction is set=0.8406177027704003, subsample=0.7 will be ignored. Current value: bagging_fraction=0.8406177027704003\n",
      "[LightGBM] [Warning] bagging_freq is set=5, subsample_freq=0 will be ignored. Current value: bagging_freq=5\n",
      "Training until validation scores don't improve for 100 rounds\n",
      "[100]\ttraining's l1: 0.903521\tvalid_1's l1: 1.398\n",
      "[200]\ttraining's l1: 0.8878\tvalid_1's l1: 1.39923\n",
      "Early stopping, best iteration is:\n",
      "[101]\ttraining's l1: 0.903508\tvalid_1's l1: 1.39799\n"
     ]
    },
    {
     "name": "stderr",
     "output_type": "stream",
     "text": [
      "\u001b[32m[I 2021-07-31 13:07:56,100]\u001b[0m Trial 15 finished with value: -1.3979256661707706 and parameters: {'max_depth': 10, 'min_child_weight': 16, 'subsample': 0.7, 'colsample_bytree': 0.7, 'reg_lambda': 1.3773351907435027, 'reg_alpha': 0.027922669992570873, 'feature_fraction': 0.40043290271507426, 'bagging_fraction': 0.8406177027704003, 'bagging_freq': 5, 'num_leaves': 189, 'min_child_samples': 97}. Best is trial 11 with value: -1.3900404482202893.\u001b[0m\n"
     ]
    },
    {
     "name": "stdout",
     "output_type": "stream",
     "text": [
      "[LightGBM] [Warning] feature_fraction is set=0.6750211571047215, colsample_bytree=0.9 will be ignored. Current value: feature_fraction=0.6750211571047215\n",
      "[LightGBM] [Warning] bagging_fraction is set=0.5785600713840426, subsample=0.8 will be ignored. Current value: bagging_fraction=0.5785600713840426\n",
      "[LightGBM] [Warning] bagging_freq is set=11, subsample_freq=0 will be ignored. Current value: bagging_freq=11\n",
      "Training until validation scores don't improve for 100 rounds\n",
      "[100]\ttraining's l1: 1.04882\tvalid_1's l1: 1.439\n",
      "[200]\ttraining's l1: 1.03811\tvalid_1's l1: 1.43256\n",
      "[300]\ttraining's l1: 1.01791\tvalid_1's l1: 1.41853\n",
      "[400]\ttraining's l1: 1.00456\tvalid_1's l1: 1.41202\n",
      "[500]\ttraining's l1: 0.998068\tvalid_1's l1: 1.41149\n",
      "[600]\ttraining's l1: 0.992391\tvalid_1's l1: 1.40734\n",
      "[700]\ttraining's l1: 0.988848\tvalid_1's l1: 1.40734\n",
      "Early stopping, best iteration is:\n",
      "[679]\ttraining's l1: 0.989846\tvalid_1's l1: 1.40661\n"
     ]
    },
    {
     "name": "stderr",
     "output_type": "stream",
     "text": [
      "\u001b[32m[I 2021-07-31 13:08:10,654]\u001b[0m Trial 16 finished with value: -1.4065403364916824 and parameters: {'max_depth': 4, 'min_child_weight': 14, 'subsample': 0.8, 'colsample_bytree': 0.9, 'reg_lambda': 68.24857554077002, 'reg_alpha': 904.3578513838435, 'feature_fraction': 0.6750211571047215, 'bagging_fraction': 0.5785600713840426, 'bagging_freq': 11, 'num_leaves': 560, 'min_child_samples': 31}. Best is trial 11 with value: -1.3900404482202893.\u001b[0m\n"
     ]
    },
    {
     "name": "stdout",
     "output_type": "stream",
     "text": [
      "[LightGBM] [Warning] feature_fraction is set=0.8508715473973901, colsample_bytree=0.8 will be ignored. Current value: feature_fraction=0.8508715473973901\n",
      "[LightGBM] [Warning] bagging_fraction is set=0.6890230697625699, subsample=0.6 will be ignored. Current value: bagging_fraction=0.6890230697625699\n",
      "[LightGBM] [Warning] bagging_freq is set=15, subsample_freq=0 will be ignored. Current value: bagging_freq=15\n",
      "Training until validation scores don't improve for 100 rounds\n",
      "[100]\ttraining's l1: 1.01014\tvalid_1's l1: 1.42322\n",
      "[200]\ttraining's l1: 0.997451\tvalid_1's l1: 1.41515\n",
      "[300]\ttraining's l1: 0.980135\tvalid_1's l1: 1.40818\n",
      "[400]\ttraining's l1: 0.963636\tvalid_1's l1: 1.40195\n",
      "[500]\ttraining's l1: 0.947501\tvalid_1's l1: 1.39751\n",
      "Early stopping, best iteration is:\n",
      "[431]\ttraining's l1: 0.955798\tvalid_1's l1: 1.39698\n"
     ]
    },
    {
     "name": "stderr",
     "output_type": "stream",
     "text": [
      "\u001b[32m[I 2021-07-31 13:08:24,673]\u001b[0m Trial 17 finished with value: -1.3968509908971798 and parameters: {'max_depth': 5, 'min_child_weight': 3, 'subsample': 0.6, 'colsample_bytree': 0.8, 'reg_lambda': 927.7324961458912, 'reg_alpha': 1.1497210883101179, 'feature_fraction': 0.8508715473973901, 'bagging_fraction': 0.6890230697625699, 'bagging_freq': 15, 'num_leaves': 895, 'min_child_samples': 75}. Best is trial 11 with value: -1.3900404482202893.\u001b[0m\n"
     ]
    },
    {
     "name": "stdout",
     "output_type": "stream",
     "text": [
      "[LightGBM] [Warning] feature_fraction is set=0.4749543433671583, colsample_bytree=0.7 will be ignored. Current value: feature_fraction=0.4749543433671583\n",
      "[LightGBM] [Warning] bagging_fraction is set=0.8651239097036847, subsample=0.7 will be ignored. Current value: bagging_fraction=0.8651239097036847\n",
      "[LightGBM] [Warning] bagging_freq is set=7, subsample_freq=0 will be ignored. Current value: bagging_freq=7\n",
      "Training until validation scores don't improve for 100 rounds\n",
      "[100]\ttraining's l1: 0.89112\tvalid_1's l1: 1.39807\n",
      "[200]\ttraining's l1: 0.872505\tvalid_1's l1: 1.40277\n",
      "Early stopping, best iteration is:\n",
      "[102]\ttraining's l1: 0.890747\tvalid_1's l1: 1.398\n"
     ]
    },
    {
     "name": "stderr",
     "output_type": "stream",
     "text": [
      "\u001b[32m[I 2021-07-31 13:08:36,074]\u001b[0m Trial 18 finished with value: -1.3979529430428594 and parameters: {'max_depth': 9, 'min_child_weight': 17, 'subsample': 0.7, 'colsample_bytree': 0.7, 'reg_lambda': 0.024131980049891838, 'reg_alpha': 0.04883113333236824, 'feature_fraction': 0.4749543433671583, 'bagging_fraction': 0.8651239097036847, 'bagging_freq': 7, 'num_leaves': 713, 'min_child_samples': 94}. Best is trial 11 with value: -1.3900404482202893.\u001b[0m\n"
     ]
    },
    {
     "name": "stdout",
     "output_type": "stream",
     "text": [
      "[LightGBM] [Warning] feature_fraction is set=0.319836236848858, colsample_bytree=0.6 will be ignored. Current value: feature_fraction=0.319836236848858\n",
      "[LightGBM] [Warning] bagging_fraction is set=0.26694271987949386, subsample=0.7 will be ignored. Current value: bagging_fraction=0.26694271987949386\n",
      "[LightGBM] [Warning] bagging_freq is set=1, subsample_freq=0 will be ignored. Current value: bagging_freq=1\n",
      "Training until validation scores don't improve for 100 rounds\n",
      "[100]\ttraining's l1: 1.07095\tvalid_1's l1: 1.46144\n",
      "[200]\ttraining's l1: 1.03985\tvalid_1's l1: 1.43812\n",
      "[300]\ttraining's l1: 1.02875\tvalid_1's l1: 1.4292\n",
      "[400]\ttraining's l1: 1.02053\tvalid_1's l1: 1.42564\n",
      "[500]\ttraining's l1: 1.01076\tvalid_1's l1: 1.42108\n",
      "[600]\ttraining's l1: 1.00465\tvalid_1's l1: 1.42147\n",
      "[700]\ttraining's l1: 0.997547\tvalid_1's l1: 1.41762\n",
      "[800]\ttraining's l1: 0.992711\tvalid_1's l1: 1.41664\n",
      "[900]\ttraining's l1: 0.986953\tvalid_1's l1: 1.41343\n",
      "[1000]\ttraining's l1: 0.982566\tvalid_1's l1: 1.4121\n",
      "[1100]\ttraining's l1: 0.978819\tvalid_1's l1: 1.41103\n",
      "Early stopping, best iteration is:\n",
      "[1041]\ttraining's l1: 0.981064\tvalid_1's l1: 1.41061\n"
     ]
    },
    {
     "name": "stderr",
     "output_type": "stream",
     "text": [
      "\u001b[32m[I 2021-07-31 13:09:00,981]\u001b[0m Trial 19 finished with value: -1.4091641937290744 and parameters: {'max_depth': 3, 'min_child_weight': 13, 'subsample': 0.7, 'colsample_bytree': 0.6, 'reg_lambda': 1.2261135954520483, 'reg_alpha': 0.004719367408947082, 'feature_fraction': 0.319836236848858, 'bagging_fraction': 0.26694271987949386, 'bagging_freq': 1, 'num_leaves': 792, 'min_child_samples': 76}. Best is trial 11 with value: -1.3900404482202893.\u001b[0m\n"
     ]
    },
    {
     "name": "stdout",
     "output_type": "stream",
     "text": [
      "[LightGBM] [Warning] feature_fraction is set=0.6189207879865266, colsample_bytree=0.8 will be ignored. Current value: feature_fraction=0.6189207879865266\n",
      "[LightGBM] [Warning] bagging_fraction is set=0.538993776083774, subsample=0.8 will be ignored. Current value: bagging_fraction=0.538993776083774\n",
      "[LightGBM] [Warning] bagging_freq is set=10, subsample_freq=0 will be ignored. Current value: bagging_freq=10\n",
      "Training until validation scores don't improve for 100 rounds\n",
      "[100]\ttraining's l1: 0.820482\tvalid_1's l1: 1.40288\n"
     ]
    },
    {
     "name": "stderr",
     "output_type": "stream",
     "text": [
      "\u001b[32m[I 2021-07-31 13:09:10,910]\u001b[0m Trial 20 finished with value: -1.3913217860908553 and parameters: {'max_depth': 12, 'min_child_weight': 8, 'subsample': 0.8, 'colsample_bytree': 0.8, 'reg_lambda': 12.080036105828412, 'reg_alpha': 0.20987677488737783, 'feature_fraction': 0.6189207879865266, 'bagging_fraction': 0.538993776083774, 'bagging_freq': 10, 'num_leaves': 639, 'min_child_samples': 46}. Best is trial 11 with value: -1.3900404482202893.\u001b[0m\n"
     ]
    },
    {
     "name": "stdout",
     "output_type": "stream",
     "text": [
      "Early stopping, best iteration is:\n",
      "[66]\ttraining's l1: 0.849794\tvalid_1's l1: 1.39139\n",
      "[LightGBM] [Warning] feature_fraction is set=0.646207727416746, colsample_bytree=0.8 will be ignored. Current value: feature_fraction=0.646207727416746\n",
      "[LightGBM] [Warning] bagging_fraction is set=0.5506690141171364, subsample=0.8 will be ignored. Current value: bagging_fraction=0.5506690141171364\n",
      "[LightGBM] [Warning] bagging_freq is set=10, subsample_freq=0 will be ignored. Current value: bagging_freq=10\n",
      "Training until validation scores don't improve for 100 rounds\n",
      "[100]\ttraining's l1: 0.919918\tvalid_1's l1: 1.39681\n"
     ]
    },
    {
     "name": "stderr",
     "output_type": "stream",
     "text": [
      "\u001b[32m[I 2021-07-31 13:09:17,212]\u001b[0m Trial 21 finished with value: -1.3961205980498286 and parameters: {'max_depth': 8, 'min_child_weight': 8, 'subsample': 0.8, 'colsample_bytree': 0.8, 'reg_lambda': 19.035132221930006, 'reg_alpha': 0.3155068783304151, 'feature_fraction': 0.646207727416746, 'bagging_fraction': 0.5506690141171364, 'bagging_freq': 10, 'num_leaves': 604, 'min_child_samples': 41}. Best is trial 11 with value: -1.3900404482202893.\u001b[0m\n"
     ]
    },
    {
     "name": "stdout",
     "output_type": "stream",
     "text": [
      "Early stopping, best iteration is:\n",
      "[69]\ttraining's l1: 0.929224\tvalid_1's l1: 1.39617\n",
      "[LightGBM] [Warning] feature_fraction is set=0.59014029246161, colsample_bytree=0.7 will be ignored. Current value: feature_fraction=0.59014029246161\n",
      "[LightGBM] [Warning] bagging_fraction is set=0.6831922991977855, subsample=0.9 will be ignored. Current value: bagging_fraction=0.6831922991977855\n",
      "[LightGBM] [Warning] bagging_freq is set=13, subsample_freq=0 will be ignored. Current value: bagging_freq=13\n",
      "Training until validation scores don't improve for 100 rounds\n",
      "[100]\ttraining's l1: 0.858971\tvalid_1's l1: 1.39583\n"
     ]
    },
    {
     "name": "stderr",
     "output_type": "stream",
     "text": [
      "\u001b[32m[I 2021-07-31 13:09:26,989]\u001b[0m Trial 22 finished with value: -1.39129598018041 and parameters: {'max_depth': 12, 'min_child_weight': 4, 'subsample': 0.9, 'colsample_bytree': 0.7, 'reg_lambda': 222.05545056570628, 'reg_alpha': 0.1794823524898536, 'feature_fraction': 0.59014029246161, 'bagging_fraction': 0.6831922991977855, 'bagging_freq': 13, 'num_leaves': 464, 'min_child_samples': 20}. Best is trial 11 with value: -1.3900404482202893.\u001b[0m\n"
     ]
    },
    {
     "name": "stdout",
     "output_type": "stream",
     "text": [
      "Early stopping, best iteration is:\n",
      "[69]\ttraining's l1: 0.877082\tvalid_1's l1: 1.39135\n",
      "[LightGBM] [Warning] feature_fraction is set=0.7729420328520461, colsample_bytree=0.7 will be ignored. Current value: feature_fraction=0.7729420328520461\n",
      "[LightGBM] [Warning] bagging_fraction is set=0.6979080274099723, subsample=0.9 will be ignored. Current value: bagging_fraction=0.6979080274099723\n",
      "[LightGBM] [Warning] bagging_freq is set=13, subsample_freq=0 will be ignored. Current value: bagging_freq=13\n",
      "Training until validation scores don't improve for 100 rounds\n",
      "[100]\ttraining's l1: 0.821509\tvalid_1's l1: 1.40571\n"
     ]
    },
    {
     "name": "stderr",
     "output_type": "stream",
     "text": [
      "\u001b[32m[I 2021-07-31 13:09:37,921]\u001b[0m Trial 23 finished with value: -1.3936424067189577 and parameters: {'max_depth': 12, 'min_child_weight': 4, 'subsample': 0.9, 'colsample_bytree': 0.7, 'reg_lambda': 3.1850394057372364, 'reg_alpha': 0.8634636545679281, 'feature_fraction': 0.7729420328520461, 'bagging_fraction': 0.6979080274099723, 'bagging_freq': 13, 'num_leaves': 495, 'min_child_samples': 21}. Best is trial 11 with value: -1.3900404482202893.\u001b[0m\n"
     ]
    },
    {
     "name": "stdout",
     "output_type": "stream",
     "text": [
      "Early stopping, best iteration is:\n",
      "[61]\ttraining's l1: 0.860241\tvalid_1's l1: 1.39371\n",
      "[LightGBM] [Warning] feature_fraction is set=0.6110016741349027, colsample_bytree=0.7 will be ignored. Current value: feature_fraction=0.6110016741349027\n",
      "[LightGBM] [Warning] bagging_fraction is set=0.7470258281125826, subsample=0.9 will be ignored. Current value: bagging_fraction=0.7470258281125826\n",
      "[LightGBM] [Warning] bagging_freq is set=13, subsample_freq=0 will be ignored. Current value: bagging_freq=13\n",
      "Training until validation scores don't improve for 100 rounds\n",
      "[100]\ttraining's l1: 0.845368\tvalid_1's l1: 1.39783\n"
     ]
    },
    {
     "name": "stderr",
     "output_type": "stream",
     "text": [
      "\u001b[32m[I 2021-07-31 13:09:48,274]\u001b[0m Trial 24 finished with value: -1.3955984088222797 and parameters: {'max_depth': 16, 'min_child_weight': 7, 'subsample': 0.9, 'colsample_bytree': 0.7, 'reg_lambda': 25.26099670782181, 'reg_alpha': 0.014263903976464116, 'feature_fraction': 0.6110016741349027, 'bagging_fraction': 0.7470258281125826, 'bagging_freq': 13, 'num_leaves': 371, 'min_child_samples': 6}. Best is trial 11 with value: -1.3900404482202893.\u001b[0m\n"
     ]
    },
    {
     "name": "stdout",
     "output_type": "stream",
     "text": [
      "Early stopping, best iteration is:\n",
      "[65]\ttraining's l1: 0.869998\tvalid_1's l1: 1.39565\n",
      "[LightGBM] [Warning] feature_fraction is set=0.7483240690274674, colsample_bytree=0.6 will be ignored. Current value: feature_fraction=0.7483240690274674\n",
      "[LightGBM] [Warning] bagging_fraction is set=0.6412062475423265, subsample=0.8 will be ignored. Current value: bagging_fraction=0.6412062475423265\n",
      "[LightGBM] [Warning] bagging_freq is set=17, subsample_freq=0 will be ignored. Current value: bagging_freq=17\n",
      "Training until validation scores don't improve for 100 rounds\n",
      "[100]\ttraining's l1: 0.8712\tvalid_1's l1: 1.39094\n"
     ]
    },
    {
     "name": "stderr",
     "output_type": "stream",
     "text": [
      "\u001b[32m[I 2021-07-31 13:09:57,627]\u001b[0m Trial 25 finished with value: -1.38496448869952 and parameters: {'max_depth': 12, 'min_child_weight': 1, 'subsample': 0.8, 'colsample_bytree': 0.6, 'reg_lambda': 0.19946766808628488, 'reg_alpha': 4.646183878433468, 'feature_fraction': 0.7483240690274674, 'bagging_fraction': 0.6412062475423265, 'bagging_freq': 17, 'num_leaves': 248, 'min_child_samples': 19}. Best is trial 25 with value: -1.38496448869952.\u001b[0m\n"
     ]
    },
    {
     "name": "stdout",
     "output_type": "stream",
     "text": [
      "Early stopping, best iteration is:\n",
      "[87]\ttraining's l1: 0.876844\tvalid_1's l1: 1.38503\n",
      "[LightGBM] [Warning] feature_fraction is set=0.7548809436721134, colsample_bytree=0.6 will be ignored. Current value: feature_fraction=0.7548809436721134\n",
      "[LightGBM] [Warning] bagging_fraction is set=0.6443727571467421, subsample=0.9 will be ignored. Current value: bagging_fraction=0.6443727571467421\n",
      "[LightGBM] [Warning] bagging_freq is set=18, subsample_freq=0 will be ignored. Current value: bagging_freq=18\n",
      "Training until validation scores don't improve for 100 rounds\n",
      "[100]\ttraining's l1: 0.87564\tvalid_1's l1: 1.40185\n"
     ]
    },
    {
     "name": "stderr",
     "output_type": "stream",
     "text": [
      "\u001b[32m[I 2021-07-31 13:10:06,066]\u001b[0m Trial 26 finished with value: -1.3954180516815624 and parameters: {'max_depth': 11, 'min_child_weight': 1, 'subsample': 0.9, 'colsample_bytree': 0.6, 'reg_lambda': 0.25534503011173476, 'reg_alpha': 15.845184912728518, 'feature_fraction': 0.7548809436721134, 'bagging_fraction': 0.6443727571467421, 'bagging_freq': 18, 'num_leaves': 227, 'min_child_samples': 20}. Best is trial 25 with value: -1.38496448869952.\u001b[0m\n"
     ]
    },
    {
     "name": "stdout",
     "output_type": "stream",
     "text": [
      "Early stopping, best iteration is:\n",
      "[67]\ttraining's l1: 0.900993\tvalid_1's l1: 1.39552\n",
      "[LightGBM] [Warning] feature_fraction is set=0.8647145552677512, colsample_bytree=0.5 will be ignored. Current value: feature_fraction=0.8647145552677512\n",
      "[LightGBM] [Warning] bagging_fraction is set=0.7916211588157467, subsample=0.8 will be ignored. Current value: bagging_fraction=0.7916211588157467\n",
      "[LightGBM] [Warning] bagging_freq is set=20, subsample_freq=0 will be ignored. Current value: bagging_freq=20\n",
      "Training until validation scores don't improve for 100 rounds\n",
      "[100]\ttraining's l1: 1.01903\tvalid_1's l1: 1.42441\n",
      "[200]\ttraining's l1: 1.00733\tvalid_1's l1: 1.41838\n",
      "[300]\ttraining's l1: 0.980392\tvalid_1's l1: 1.40636\n",
      "[400]\ttraining's l1: 0.952851\tvalid_1's l1: 1.40263\n",
      "Early stopping, best iteration is:\n",
      "[385]\ttraining's l1: 0.95732\tvalid_1's l1: 1.40068\n"
     ]
    },
    {
     "name": "stderr",
     "output_type": "stream",
     "text": [
      "\u001b[32m[I 2021-07-31 13:10:21,412]\u001b[0m Trial 27 finished with value: -1.400641278198849 and parameters: {'max_depth': 16, 'min_child_weight': 1, 'subsample': 0.8, 'colsample_bytree': 0.5, 'reg_lambda': 0.026804916163758505, 'reg_alpha': 83.39027579192235, 'feature_fraction': 0.8647145552677512, 'bagging_fraction': 0.7916211588157467, 'bagging_freq': 20, 'num_leaves': 27, 'min_child_samples': 15}. Best is trial 25 with value: -1.38496448869952.\u001b[0m\n"
     ]
    },
    {
     "name": "stdout",
     "output_type": "stream",
     "text": [
      "[LightGBM] [Warning] feature_fraction is set=0.7438261745460538, colsample_bytree=0.6 will be ignored. Current value: feature_fraction=0.7438261745460538\n",
      "[LightGBM] [Warning] bagging_fraction is set=0.4846514337515782, subsample=0.9 will be ignored. Current value: bagging_fraction=0.4846514337515782\n",
      "[LightGBM] [Warning] bagging_freq is set=17, subsample_freq=0 will be ignored. Current value: bagging_freq=17\n",
      "Training until validation scores don't improve for 100 rounds\n",
      "[100]\ttraining's l1: 0.891333\tvalid_1's l1: 1.40728\n"
     ]
    },
    {
     "name": "stderr",
     "output_type": "stream",
     "text": [
      "\u001b[32m[I 2021-07-31 13:10:28,552]\u001b[0m Trial 28 finished with value: -1.3983749359494728 and parameters: {'max_depth': 11, 'min_child_weight': 18, 'subsample': 0.9, 'colsample_bytree': 0.6, 'reg_lambda': 0.006784138033072436, 'reg_alpha': 5.138497902088273, 'feature_fraction': 0.7438261745460538, 'bagging_fraction': 0.4846514337515782, 'bagging_freq': 17, 'num_leaves': 179, 'min_child_samples': 28}. Best is trial 25 with value: -1.38496448869952.\u001b[0m\n"
     ]
    },
    {
     "name": "stdout",
     "output_type": "stream",
     "text": [
      "Early stopping, best iteration is:\n",
      "[76]\ttraining's l1: 0.908015\tvalid_1's l1: 1.39852\n",
      "[LightGBM] [Warning] feature_fraction is set=0.8144430560852377, colsample_bytree=0.6 will be ignored. Current value: feature_fraction=0.8144430560852377\n",
      "[LightGBM] [Warning] bagging_fraction is set=0.918293089042366, subsample=0.8 will be ignored. Current value: bagging_fraction=0.918293089042366\n",
      "[LightGBM] [Warning] bagging_freq is set=15, subsample_freq=0 will be ignored. Current value: bagging_freq=15\n",
      "Training until validation scores don't improve for 100 rounds\n",
      "[100]\ttraining's l1: 0.852499\tvalid_1's l1: 1.39872\n"
     ]
    },
    {
     "name": "stderr",
     "output_type": "stream",
     "text": [
      "\u001b[32m[I 2021-07-31 13:10:39,526]\u001b[0m Trial 29 finished with value: -1.393411568624585 and parameters: {'max_depth': 13, 'min_child_weight': 20, 'subsample': 0.8, 'colsample_bytree': 0.6, 'reg_lambda': 0.23450203828083396, 'reg_alpha': 2.5569222865627617, 'feature_fraction': 0.8144430560852377, 'bagging_fraction': 0.918293089042366, 'bagging_freq': 15, 'num_leaves': 292, 'min_child_samples': 14}. Best is trial 25 with value: -1.38496448869952.\u001b[0m\n"
     ]
    },
    {
     "name": "stdout",
     "output_type": "stream",
     "text": [
      "Early stopping, best iteration is:\n",
      "[61]\ttraining's l1: 0.889541\tvalid_1's l1: 1.39347\n",
      "[LightGBM] [Warning] feature_fraction is set=0.9299029386917383, colsample_bytree=0.7 will be ignored. Current value: feature_fraction=0.9299029386917383\n",
      "[LightGBM] [Warning] bagging_fraction is set=0.7479396925757829, subsample=0.8 will be ignored. Current value: bagging_fraction=0.7479396925757829\n",
      "[LightGBM] [Warning] bagging_freq is set=18, subsample_freq=0 will be ignored. Current value: bagging_freq=18\n",
      "Training until validation scores don't improve for 100 rounds\n",
      "[100]\ttraining's l1: 0.916823\tvalid_1's l1: 1.39789\n",
      "[200]\ttraining's l1: 0.899874\tvalid_1's l1: 1.39596\n",
      "[300]\ttraining's l1: 0.886645\tvalid_1's l1: 1.39873\n",
      "Early stopping, best iteration is:\n",
      "[216]\ttraining's l1: 0.897164\tvalid_1's l1: 1.39496\n"
     ]
    },
    {
     "name": "stderr",
     "output_type": "stream",
     "text": [
      "\u001b[32m[I 2021-07-31 13:10:52,882]\u001b[0m Trial 30 finished with value: -1.394767688989028 and parameters: {'max_depth': 9, 'min_child_weight': 12, 'subsample': 0.8, 'colsample_bytree': 0.7, 'reg_lambda': 0.38658607795255645, 'reg_alpha': 16.23831949286994, 'feature_fraction': 0.9299029386917383, 'bagging_fraction': 0.7479396925757829, 'bagging_freq': 18, 'num_leaves': 121, 'min_child_samples': 28}. Best is trial 25 with value: -1.38496448869952.\u001b[0m\n"
     ]
    },
    {
     "name": "stdout",
     "output_type": "stream",
     "text": [
      "[LightGBM] [Warning] feature_fraction is set=0.605197691660158, colsample_bytree=0.9 will be ignored. Current value: feature_fraction=0.605197691660158\n",
      "[LightGBM] [Warning] bagging_fraction is set=0.6629723384510764, subsample=0.8 will be ignored. Current value: bagging_fraction=0.6629723384510764\n",
      "[LightGBM] [Warning] bagging_freq is set=7, subsample_freq=0 will be ignored. Current value: bagging_freq=7\n",
      "Training until validation scores don't improve for 100 rounds\n",
      "[100]\ttraining's l1: 0.828711\tvalid_1's l1: 1.41397\n"
     ]
    },
    {
     "name": "stderr",
     "output_type": "stream",
     "text": [
      "\u001b[32m[I 2021-07-31 13:11:03,262]\u001b[0m Trial 31 finished with value: -1.3965084470000282 and parameters: {'max_depth': 12, 'min_child_weight': 9, 'subsample': 0.8, 'colsample_bytree': 0.9, 'reg_lambda': 2.5101748970141613, 'reg_alpha': 0.5033299142902872, 'feature_fraction': 0.605197691660158, 'bagging_fraction': 0.6629723384510764, 'bagging_freq': 7, 'num_leaves': 495, 'min_child_samples': 47}. Best is trial 25 with value: -1.38496448869952.\u001b[0m\n"
     ]
    },
    {
     "name": "stdout",
     "output_type": "stream",
     "text": [
      "Early stopping, best iteration is:\n",
      "[62]\ttraining's l1: 0.863111\tvalid_1's l1: 1.39655\n",
      "[LightGBM] [Warning] feature_fraction is set=0.6510517890140436, colsample_bytree=0.7 will be ignored. Current value: feature_fraction=0.6510517890140436\n",
      "[LightGBM] [Warning] bagging_fraction is set=0.44473514377753276, subsample=0.7 will be ignored. Current value: bagging_fraction=0.44473514377753276\n",
      "[LightGBM] [Warning] bagging_freq is set=12, subsample_freq=0 will be ignored. Current value: bagging_freq=12\n",
      "Training until validation scores don't improve for 100 rounds\n",
      "[100]\ttraining's l1: 0.809771\tvalid_1's l1: 1.4099\n",
      "Early stopping, best iteration is:\n",
      "[70]\ttraining's l1: 0.835911\tvalid_1's l1: 1.39943\n"
     ]
    },
    {
     "name": "stderr",
     "output_type": "stream",
     "text": [
      "\u001b[32m[I 2021-07-31 13:11:13,610]\u001b[0m Trial 32 finished with value: -1.3993215192544424 and parameters: {'max_depth': 14, 'min_child_weight': 4, 'subsample': 0.7, 'colsample_bytree': 0.7, 'reg_lambda': 7.674790830977573, 'reg_alpha': 0.04249412004061411, 'feature_fraction': 0.6510517890140436, 'bagging_fraction': 0.44473514377753276, 'bagging_freq': 12, 'num_leaves': 653, 'min_child_samples': 52}. Best is trial 25 with value: -1.38496448869952.\u001b[0m\n"
     ]
    },
    {
     "name": "stdout",
     "output_type": "stream",
     "text": [
      "[LightGBM] [Warning] feature_fraction is set=0.5563881126853487, colsample_bytree=0.7 will be ignored. Current value: feature_fraction=0.5563881126853487\n",
      "[LightGBM] [Warning] bagging_fraction is set=0.511375738545621, subsample=0.8 will be ignored. Current value: bagging_fraction=0.511375738545621\n",
      "[LightGBM] [Warning] bagging_freq is set=9, subsample_freq=0 will be ignored. Current value: bagging_freq=9\n",
      "Training until validation scores don't improve for 100 rounds\n",
      "[100]\ttraining's l1: 0.831809\tvalid_1's l1: 1.40148\n"
     ]
    },
    {
     "name": "stderr",
     "output_type": "stream",
     "text": [
      "\u001b[32m[I 2021-07-31 13:11:23,750]\u001b[0m Trial 33 finished with value: -1.394779958668157 and parameters: {'max_depth': 12, 'min_child_weight': 6, 'subsample': 0.8, 'colsample_bytree': 0.7, 'reg_lambda': 0.06343792336405635, 'reg_alpha': 0.1868591648622933, 'feature_fraction': 0.5563881126853487, 'bagging_fraction': 0.511375738545621, 'bagging_freq': 9, 'num_leaves': 535, 'min_child_samples': 39}. Best is trial 25 with value: -1.38496448869952.\u001b[0m\n"
     ]
    },
    {
     "name": "stdout",
     "output_type": "stream",
     "text": [
      "Early stopping, best iteration is:\n",
      "[51]\ttraining's l1: 0.880363\tvalid_1's l1: 1.3948\n",
      "[LightGBM] [Warning] feature_fraction is set=0.4744916477525221, colsample_bytree=0.6 will be ignored. Current value: feature_fraction=0.4744916477525221\n",
      "[LightGBM] [Warning] bagging_fraction is set=0.6245209481580285, subsample=0.9 will be ignored. Current value: bagging_fraction=0.6245209481580285\n",
      "[LightGBM] [Warning] bagging_freq is set=14, subsample_freq=0 will be ignored. Current value: bagging_freq=14\n",
      "Training until validation scores don't improve for 100 rounds\n",
      "[100]\ttraining's l1: 0.885384\tvalid_1's l1: 1.39621\n",
      "[200]\ttraining's l1: 0.875188\tvalid_1's l1: 1.39163\n",
      "[300]\ttraining's l1: 0.85356\tvalid_1's l1: 1.39335\n",
      "Early stopping, best iteration is:\n",
      "[213]\ttraining's l1: 0.869617\tvalid_1's l1: 1.391\n"
     ]
    },
    {
     "name": "stderr",
     "output_type": "stream",
     "text": [
      "\u001b[32m[I 2021-07-31 13:11:37,236]\u001b[0m Trial 34 finished with value: -1.3909153107817143 and parameters: {'max_depth': 9, 'min_child_weight': 3, 'subsample': 0.9, 'colsample_bytree': 0.6, 'reg_lambda': 0.10196943857090494, 'reg_alpha': 0.09128608393441819, 'feature_fraction': 0.4744916477525221, 'bagging_fraction': 0.6245209481580285, 'bagging_freq': 14, 'num_leaves': 446, 'min_child_samples': 22}. Best is trial 25 with value: -1.38496448869952.\u001b[0m\n"
     ]
    },
    {
     "name": "stdout",
     "output_type": "stream",
     "text": [
      "[LightGBM] [Warning] feature_fraction is set=0.43716412696024876, colsample_bytree=0.5 will be ignored. Current value: feature_fraction=0.43716412696024876\n",
      "[LightGBM] [Warning] bagging_fraction is set=0.6309558012251197, subsample=0.9 will be ignored. Current value: bagging_fraction=0.6309558012251197\n",
      "[LightGBM] [Warning] bagging_freq is set=16, subsample_freq=0 will be ignored. Current value: bagging_freq=16\n",
      "Training until validation scores don't improve for 100 rounds\n",
      "[100]\ttraining's l1: 0.889789\tvalid_1's l1: 1.40307\n"
     ]
    },
    {
     "name": "stderr",
     "output_type": "stream",
     "text": [
      "\u001b[32m[I 2021-07-31 13:11:45,720]\u001b[0m Trial 35 finished with value: -1.4002663872016945 and parameters: {'max_depth': 9, 'min_child_weight': 3, 'subsample': 0.9, 'colsample_bytree': 0.5, 'reg_lambda': 0.10161527220066283, 'reg_alpha': 0.007704327225114545, 'feature_fraction': 0.43716412696024876, 'bagging_fraction': 0.6309558012251197, 'bagging_freq': 16, 'num_leaves': 424, 'min_child_samples': 21}. Best is trial 25 with value: -1.38496448869952.\u001b[0m\n"
     ]
    },
    {
     "name": "stdout",
     "output_type": "stream",
     "text": [
      "Early stopping, best iteration is:\n",
      "[78]\ttraining's l1: 0.895531\tvalid_1's l1: 1.40031\n",
      "[LightGBM] [Warning] feature_fraction is set=0.5510639092799908, colsample_bytree=0.6 will be ignored. Current value: feature_fraction=0.5510639092799908\n",
      "[LightGBM] [Warning] bagging_fraction is set=0.7551439016901913, subsample=0.9 will be ignored. Current value: bagging_fraction=0.7551439016901913\n",
      "[LightGBM] [Warning] bagging_freq is set=13, subsample_freq=0 will be ignored. Current value: bagging_freq=13\n",
      "Training until validation scores don't improve for 100 rounds\n",
      "[100]\ttraining's l1: 0.949558\tvalid_1's l1: 1.40596\n",
      "[200]\ttraining's l1: 0.933908\tvalid_1's l1: 1.40509\n",
      "Early stopping, best iteration is:\n",
      "[198]\ttraining's l1: 0.934678\tvalid_1's l1: 1.40317\n"
     ]
    },
    {
     "name": "stderr",
     "output_type": "stream",
     "text": [
      "\u001b[32m[I 2021-07-31 13:11:58,527]\u001b[0m Trial 36 finished with value: -1.4031044222778188 and parameters: {'max_depth': 7, 'min_child_weight': 5, 'subsample': 0.9, 'colsample_bytree': 0.6, 'reg_lambda': 0.08528872668773751, 'reg_alpha': 0.08459540168999746, 'feature_fraction': 0.5510639092799908, 'bagging_fraction': 0.7551439016901913, 'bagging_freq': 13, 'num_leaves': 269, 'min_child_samples': 13}. Best is trial 25 with value: -1.38496448869952.\u001b[0m\n"
     ]
    },
    {
     "name": "stdout",
     "output_type": "stream",
     "text": [
      "[LightGBM] [Warning] feature_fraction is set=0.49679872785707185, colsample_bytree=0.5 will be ignored. Current value: feature_fraction=0.49679872785707185\n",
      "[LightGBM] [Warning] bagging_fraction is set=0.586772553710377, subsample=0.9 will be ignored. Current value: bagging_fraction=0.586772553710377\n",
      "[LightGBM] [Warning] bagging_freq is set=16, subsample_freq=0 will be ignored. Current value: bagging_freq=16\n",
      "Training until validation scores don't improve for 100 rounds\n",
      "[100]\ttraining's l1: 0.847053\tvalid_1's l1: 1.40919\n"
     ]
    },
    {
     "name": "stderr",
     "output_type": "stream",
     "text": [
      "\u001b[32m[I 2021-07-31 13:12:08,477]\u001b[0m Trial 37 finished with value: -1.404638266267545 and parameters: {'max_depth': 14, 'min_child_weight': 1, 'subsample': 0.9, 'colsample_bytree': 0.5, 'reg_lambda': 0.520499549327942, 'reg_alpha': 2.036012697516748, 'feature_fraction': 0.49679872785707185, 'bagging_fraction': 0.586772553710377, 'bagging_freq': 16, 'num_leaves': 398, 'min_child_samples': 6}. Best is trial 25 with value: -1.38496448869952.\u001b[0m\n"
     ]
    },
    {
     "name": "stdout",
     "output_type": "stream",
     "text": [
      "Early stopping, best iteration is:\n",
      "[59]\ttraining's l1: 0.874063\tvalid_1's l1: 1.4047\n",
      "[LightGBM] [Warning] feature_fraction is set=0.28601870660175516, colsample_bytree=0.6 will be ignored. Current value: feature_fraction=0.28601870660175516\n",
      "[LightGBM] [Warning] bagging_fraction is set=0.4464130218268122, subsample=0.9 will be ignored. Current value: bagging_fraction=0.4464130218268122\n",
      "[LightGBM] [Warning] bagging_freq is set=14, subsample_freq=0 will be ignored. Current value: bagging_freq=14\n",
      "Training until validation scores don't improve for 100 rounds\n",
      "[100]\ttraining's l1: 0.880754\tvalid_1's l1: 1.41305\n"
     ]
    },
    {
     "name": "stderr",
     "output_type": "stream",
     "text": [
      "\u001b[32m[I 2021-07-31 13:12:15,438]\u001b[0m Trial 38 finished with value: -1.4068648094543743 and parameters: {'max_depth': 10, 'min_child_weight': 3, 'subsample': 0.9, 'colsample_bytree': 0.6, 'reg_lambda': 0.009625984774200973, 'reg_alpha': 0.0022986575295611115, 'feature_fraction': 0.28601870660175516, 'bagging_fraction': 0.4464130218268122, 'bagging_freq': 14, 'num_leaves': 483, 'min_child_samples': 26}. Best is trial 25 with value: -1.38496448869952.\u001b[0m\n"
     ]
    },
    {
     "name": "stdout",
     "output_type": "stream",
     "text": [
      "Early stopping, best iteration is:\n",
      "[64]\ttraining's l1: 0.901713\tvalid_1's l1: 1.40691\n",
      "[LightGBM] [Warning] feature_fraction is set=0.7187699296929095, colsample_bytree=0.6 will be ignored. Current value: feature_fraction=0.7187699296929095\n",
      "[LightGBM] [Warning] bagging_fraction is set=0.7204714609102342, subsample=0.7 will be ignored. Current value: bagging_fraction=0.7204714609102342\n",
      "[LightGBM] [Warning] bagging_freq is set=19, subsample_freq=0 will be ignored. Current value: bagging_freq=19\n",
      "Training until validation scores don't improve for 100 rounds\n",
      "[100]\ttraining's l1: 0.945675\tvalid_1's l1: 1.40222\n",
      "[200]\ttraining's l1: 0.941608\tvalid_1's l1: 1.40265\n",
      "[300]\ttraining's l1: 0.924737\tvalid_1's l1: 1.39363\n",
      "[400]\ttraining's l1: 0.884779\tvalid_1's l1: 1.39258\n",
      "Early stopping, best iteration is:\n",
      "[346]\ttraining's l1: 0.904922\tvalid_1's l1: 1.39055\n"
     ]
    },
    {
     "name": "stderr",
     "output_type": "stream",
     "text": [
      "\u001b[32m[I 2021-07-31 13:12:29,526]\u001b[0m Trial 39 finished with value: -1.39029667128343 and parameters: {'max_depth': 7, 'min_child_weight': 6, 'subsample': 0.7, 'colsample_bytree': 0.6, 'reg_lambda': 0.002419905769359612, 'reg_alpha': 0.6978025464686687, 'feature_fraction': 0.7187699296929095, 'bagging_fraction': 0.7204714609102342, 'bagging_freq': 19, 'num_leaves': 361, 'min_child_samples': 10}. Best is trial 25 with value: -1.38496448869952.\u001b[0m\n"
     ]
    },
    {
     "name": "stdout",
     "output_type": "stream",
     "text": [
      "[LightGBM] [Warning] feature_fraction is set=0.8102283436587483, colsample_bytree=0.6 will be ignored. Current value: feature_fraction=0.8102283436587483\n",
      "[LightGBM] [Warning] bagging_fraction is set=0.623389959347437, subsample=0.7 will be ignored. Current value: bagging_fraction=0.623389959347437\n",
      "[LightGBM] [Warning] bagging_freq is set=19, subsample_freq=0 will be ignored. Current value: bagging_freq=19\n",
      "Training until validation scores don't improve for 100 rounds\n",
      "[100]\ttraining's l1: 0.969865\tvalid_1's l1: 1.40442\n",
      "[200]\ttraining's l1: 0.967888\tvalid_1's l1: 1.40321\n",
      "[300]\ttraining's l1: 0.959147\tvalid_1's l1: 1.39765\n",
      "[400]\ttraining's l1: 0.931286\tvalid_1's l1: 1.38951\n",
      "[500]\ttraining's l1: 0.911267\tvalid_1's l1: 1.39125\n",
      "Early stopping, best iteration is:\n",
      "[413]\ttraining's l1: 0.930443\tvalid_1's l1: 1.38916\n"
     ]
    },
    {
     "name": "stderr",
     "output_type": "stream",
     "text": [
      "\u001b[32m[I 2021-07-31 13:12:42,804]\u001b[0m Trial 40 finished with value: -1.3888712933593088 and parameters: {'max_depth': 6, 'min_child_weight': 6, 'subsample': 0.7, 'colsample_bytree': 0.6, 'reg_lambda': 0.1716809353339744, 'reg_alpha': 0.8109314505730112, 'feature_fraction': 0.8102283436587483, 'bagging_fraction': 0.623389959347437, 'bagging_freq': 19, 'num_leaves': 362, 'min_child_samples': 33}. Best is trial 25 with value: -1.38496448869952.\u001b[0m\n"
     ]
    },
    {
     "name": "stdout",
     "output_type": "stream",
     "text": [
      "[LightGBM] [Warning] feature_fraction is set=0.7137274502979806, colsample_bytree=0.6 will be ignored. Current value: feature_fraction=0.7137274502979806\n",
      "[LightGBM] [Warning] bagging_fraction is set=0.6407268214689119, subsample=0.7 will be ignored. Current value: bagging_fraction=0.6407268214689119\n",
      "[LightGBM] [Warning] bagging_freq is set=19, subsample_freq=0 will be ignored. Current value: bagging_freq=19\n",
      "Training until validation scores don't improve for 100 rounds\n",
      "[100]\ttraining's l1: 0.971998\tvalid_1's l1: 1.4109\n",
      "[200]\ttraining's l1: 0.962532\tvalid_1's l1: 1.40709\n",
      "[300]\ttraining's l1: 0.945966\tvalid_1's l1: 1.40164\n",
      "[400]\ttraining's l1: 0.92264\tvalid_1's l1: 1.40373\n",
      "Early stopping, best iteration is:\n",
      "[313]\ttraining's l1: 0.938256\tvalid_1's l1: 1.39823\n"
     ]
    },
    {
     "name": "stderr",
     "output_type": "stream",
     "text": [
      "\u001b[32m[I 2021-07-31 13:12:53,816]\u001b[0m Trial 41 finished with value: -1.3979782909810932 and parameters: {'max_depth': 6, 'min_child_weight': 6, 'subsample': 0.7, 'colsample_bytree': 0.6, 'reg_lambda': 0.0024339414457314264, 'reg_alpha': 0.6662006718707852, 'feature_fraction': 0.7137274502979806, 'bagging_fraction': 0.6407268214689119, 'bagging_freq': 19, 'num_leaves': 334, 'min_child_samples': 10}. Best is trial 25 with value: -1.38496448869952.\u001b[0m\n"
     ]
    },
    {
     "name": "stdout",
     "output_type": "stream",
     "text": [
      "[LightGBM] [Warning] feature_fraction is set=0.8235917062123589, colsample_bytree=0.6 will be ignored. Current value: feature_fraction=0.8235917062123589\n",
      "[LightGBM] [Warning] bagging_fraction is set=0.7239142411542974, subsample=0.7 will be ignored. Current value: bagging_fraction=0.7239142411542974\n",
      "[LightGBM] [Warning] bagging_freq is set=19, subsample_freq=0 will be ignored. Current value: bagging_freq=19\n",
      "Training until validation scores don't improve for 100 rounds\n",
      "[100]\ttraining's l1: 1.00516\tvalid_1's l1: 1.42168\n",
      "[200]\ttraining's l1: 0.998561\tvalid_1's l1: 1.41724\n",
      "[300]\ttraining's l1: 0.989927\tvalid_1's l1: 1.41235\n",
      "[400]\ttraining's l1: 0.963943\tvalid_1's l1: 1.40361\n",
      "[500]\ttraining's l1: 0.948998\tvalid_1's l1: 1.40082\n",
      "[600]\ttraining's l1: 0.933516\tvalid_1's l1: 1.39472\n",
      "[700]\ttraining's l1: 0.921652\tvalid_1's l1: 1.39548\n",
      "Early stopping, best iteration is:\n",
      "[646]\ttraining's l1: 0.928394\tvalid_1's l1: 1.39351\n"
     ]
    },
    {
     "name": "stderr",
     "output_type": "stream",
     "text": [
      "\u001b[32m[I 2021-07-31 13:13:13,019]\u001b[0m Trial 42 finished with value: -1.393375341828194 and parameters: {'max_depth': 5, 'min_child_weight': 6, 'subsample': 0.7, 'colsample_bytree': 0.6, 'reg_lambda': 0.0010535383688649706, 'reg_alpha': 4.920400364670003, 'feature_fraction': 0.8235917062123589, 'bagging_fraction': 0.7239142411542974, 'bagging_freq': 19, 'num_leaves': 325, 'min_child_samples': 33}. Best is trial 25 with value: -1.38496448869952.\u001b[0m\n"
     ]
    },
    {
     "name": "stdout",
     "output_type": "stream",
     "text": [
      "[LightGBM] [Warning] feature_fraction is set=0.9049756669418217, colsample_bytree=0.5 will be ignored. Current value: feature_fraction=0.9049756669418217\n",
      "[LightGBM] [Warning] bagging_fraction is set=0.6092009285681906, subsample=0.6 will be ignored. Current value: bagging_fraction=0.6092009285681906\n",
      "[LightGBM] [Warning] bagging_freq is set=17, subsample_freq=0 will be ignored. Current value: bagging_freq=17\n",
      "Training until validation scores don't improve for 100 rounds\n",
      "[100]\ttraining's l1: 0.941601\tvalid_1's l1: 1.39465\n",
      "[200]\ttraining's l1: 0.932619\tvalid_1's l1: 1.3925\n",
      "Early stopping, best iteration is:\n",
      "[182]\ttraining's l1: 0.934276\tvalid_1's l1: 1.39203\n"
     ]
    },
    {
     "name": "stderr",
     "output_type": "stream",
     "text": [
      "\u001b[32m[I 2021-07-31 13:13:22,329]\u001b[0m Trial 43 finished with value: -1.3919003102378251 and parameters: {'max_depth': 7, 'min_child_weight': 2, 'subsample': 0.6, 'colsample_bytree': 0.5, 'reg_lambda': 0.1675700318705106, 'reg_alpha': 10.006241190979672, 'feature_fraction': 0.9049756669418217, 'bagging_fraction': 0.6092009285681906, 'bagging_freq': 17, 'num_leaves': 381, 'min_child_samples': 24}. Best is trial 25 with value: -1.38496448869952.\u001b[0m\n"
     ]
    },
    {
     "name": "stdout",
     "output_type": "stream",
     "text": [
      "[LightGBM] [Warning] feature_fraction is set=0.8025574528362331, colsample_bytree=0.6 will be ignored. Current value: feature_fraction=0.8025574528362331\n",
      "[LightGBM] [Warning] bagging_fraction is set=0.3990456551181065, subsample=0.7 will be ignored. Current value: bagging_fraction=0.3990456551181065\n",
      "[LightGBM] [Warning] bagging_freq is set=19, subsample_freq=0 will be ignored. Current value: bagging_freq=19\n",
      "Training until validation scores don't improve for 100 rounds\n",
      "[100]\ttraining's l1: 0.912137\tvalid_1's l1: 1.40042\n",
      "[200]\ttraining's l1: 0.902689\tvalid_1's l1: 1.39794\n",
      "[300]\ttraining's l1: 0.893817\tvalid_1's l1: 1.39933\n",
      "Early stopping, best iteration is:\n",
      "[225]\ttraining's l1: 0.901467\tvalid_1's l1: 1.39735\n"
     ]
    },
    {
     "name": "stderr",
     "output_type": "stream",
     "text": [
      "\u001b[32m[I 2021-07-31 13:13:31,262]\u001b[0m Trial 44 finished with value: -1.3972373458053253 and parameters: {'max_depth': 8, 'min_child_weight': 5, 'subsample': 0.7, 'colsample_bytree': 0.6, 'reg_lambda': 0.0354189036655326, 'reg_alpha': 1.5323124278646645, 'feature_fraction': 0.8025574528362331, 'bagging_fraction': 0.3990456551181065, 'bagging_freq': 19, 'num_leaves': 256, 'min_child_samples': 16}. Best is trial 25 with value: -1.38496448869952.\u001b[0m\n"
     ]
    },
    {
     "name": "stdout",
     "output_type": "stream",
     "text": [
      "[LightGBM] [Warning] feature_fraction is set=0.734301389347932, colsample_bytree=0.6 will be ignored. Current value: feature_fraction=0.734301389347932\n",
      "[LightGBM] [Warning] bagging_fraction is set=0.800125089302832, subsample=0.6 will be ignored. Current value: bagging_fraction=0.800125089302832\n",
      "[LightGBM] [Warning] bagging_freq is set=18, subsample_freq=0 will be ignored. Current value: bagging_freq=18\n",
      "Training until validation scores don't improve for 100 rounds\n",
      "[100]\ttraining's l1: 1.00754\tvalid_1's l1: 1.41705\n",
      "[200]\ttraining's l1: 1.00281\tvalid_1's l1: 1.41514\n",
      "[300]\ttraining's l1: 0.987604\tvalid_1's l1: 1.4065\n",
      "[400]\ttraining's l1: 0.97868\tvalid_1's l1: 1.4031\n",
      "[500]\ttraining's l1: 0.95902\tvalid_1's l1: 1.39837\n",
      "[600]\ttraining's l1: 0.946126\tvalid_1's l1: 1.39798\n",
      "Early stopping, best iteration is:\n",
      "[537]\ttraining's l1: 0.95377\tvalid_1's l1: 1.39764\n"
     ]
    },
    {
     "name": "stderr",
     "output_type": "stream",
     "text": [
      "\u001b[32m[I 2021-07-31 13:13:48,063]\u001b[0m Trial 45 finished with value: -1.3973490389980656 and parameters: {'max_depth': 5, 'min_child_weight': 7, 'subsample': 0.6, 'colsample_bytree': 0.6, 'reg_lambda': 0.6707519088428969, 'reg_alpha': 50.04872091537284, 'feature_fraction': 0.734301389347932, 'bagging_fraction': 0.800125089302832, 'bagging_freq': 18, 'num_leaves': 86, 'min_child_samples': 34}. Best is trial 25 with value: -1.38496448869952.\u001b[0m\n"
     ]
    },
    {
     "name": "stdout",
     "output_type": "stream",
     "text": [
      "[LightGBM] [Warning] feature_fraction is set=0.7864826664835672, colsample_bytree=0.5 will be ignored. Current value: feature_fraction=0.7864826664835672\n",
      "[LightGBM] [Warning] bagging_fraction is set=0.5558392945221416, subsample=0.7 will be ignored. Current value: bagging_fraction=0.5558392945221416\n",
      "[LightGBM] [Warning] bagging_freq is set=20, subsample_freq=0 will be ignored. Current value: bagging_freq=20\n",
      "Training until validation scores don't improve for 100 rounds\n",
      "[100]\ttraining's l1: 0.944357\tvalid_1's l1: 1.39914\n",
      "[200]\ttraining's l1: 0.937268\tvalid_1's l1: 1.39533\n",
      "[300]\ttraining's l1: 0.92883\tvalid_1's l1: 1.39435\n",
      "[400]\ttraining's l1: 0.906028\tvalid_1's l1: 1.3926\n",
      "[500]\ttraining's l1: 0.888094\tvalid_1's l1: 1.39598\n",
      "Early stopping, best iteration is:\n",
      "[419]\ttraining's l1: 0.903894\tvalid_1's l1: 1.39175\n"
     ]
    },
    {
     "name": "stderr",
     "output_type": "stream",
     "text": [
      "\u001b[32m[I 2021-07-31 13:14:01,535]\u001b[0m Trial 46 finished with value: -1.3916004283953305 and parameters: {'max_depth': 7, 'min_child_weight': 10, 'subsample': 0.7, 'colsample_bytree': 0.5, 'reg_lambda': 0.012682158586233698, 'reg_alpha': 0.5404662318455477, 'feature_fraction': 0.7864826664835672, 'bagging_fraction': 0.5558392945221416, 'bagging_freq': 20, 'num_leaves': 330, 'min_child_samples': 60}. Best is trial 25 with value: -1.38496448869952.\u001b[0m\n"
     ]
    },
    {
     "name": "stdout",
     "output_type": "stream",
     "text": [
      "[LightGBM] [Warning] feature_fraction is set=0.6811835923414672, colsample_bytree=0.6 will be ignored. Current value: feature_fraction=0.6811835923414672\n",
      "[LightGBM] [Warning] bagging_fraction is set=0.6157555042923533, subsample=0.7 will be ignored. Current value: bagging_fraction=0.6157555042923533\n",
      "[LightGBM] [Warning] bagging_freq is set=16, subsample_freq=0 will be ignored. Current value: bagging_freq=16\n",
      "Training until validation scores don't improve for 100 rounds\n",
      "[100]\ttraining's l1: 0.894751\tvalid_1's l1: 1.39643\n",
      "[200]\ttraining's l1: 0.885608\tvalid_1's l1: 1.39485\n",
      "Early stopping, best iteration is:\n",
      "[144]\ttraining's l1: 0.887971\tvalid_1's l1: 1.39439\n"
     ]
    },
    {
     "name": "stderr",
     "output_type": "stream",
     "text": [
      "\u001b[32m[I 2021-07-31 13:14:10,960]\u001b[0m Trial 47 finished with value: -1.3943049437409372 and parameters: {'max_depth': 9, 'min_child_weight': 2, 'subsample': 0.7, 'colsample_bytree': 0.6, 'reg_lambda': 0.12370364449015826, 'reg_alpha': 2.825933207505575, 'feature_fraction': 0.6811835923414672, 'bagging_fraction': 0.6157555042923533, 'bagging_freq': 16, 'num_leaves': 205, 'min_child_samples': 11}. Best is trial 25 with value: -1.38496448869952.\u001b[0m\n"
     ]
    },
    {
     "name": "stdout",
     "output_type": "stream",
     "text": [
      "[LightGBM] [Warning] feature_fraction is set=0.8694457917112025, colsample_bytree=0.6 will be ignored. Current value: feature_fraction=0.8694457917112025\n",
      "[LightGBM] [Warning] bagging_fraction is set=0.6634631505131249, subsample=0.6 will be ignored. Current value: bagging_fraction=0.6634631505131249\n",
      "[LightGBM] [Warning] bagging_freq is set=17, subsample_freq=0 will be ignored. Current value: bagging_freq=17\n",
      "Training until validation scores don't improve for 100 rounds\n",
      "[100]\ttraining's l1: 1.03456\tvalid_1's l1: 1.43362\n",
      "[200]\ttraining's l1: 1.03081\tvalid_1's l1: 1.43089\n",
      "[300]\ttraining's l1: 1.02413\tvalid_1's l1: 1.42761\n",
      "[400]\ttraining's l1: 1.00785\tvalid_1's l1: 1.42238\n",
      "[500]\ttraining's l1: 0.991258\tvalid_1's l1: 1.41532\n",
      "[600]\ttraining's l1: 0.979501\tvalid_1's l1: 1.41129\n",
      "[700]\ttraining's l1: 0.970679\tvalid_1's l1: 1.40993\n",
      "[800]\ttraining's l1: 0.961015\tvalid_1's l1: 1.40594\n",
      "[900]\ttraining's l1: 0.95313\tvalid_1's l1: 1.40458\n",
      "[1000]\ttraining's l1: 0.946379\tvalid_1's l1: 1.40292\n",
      "Early stopping, best iteration is:\n",
      "[980]\ttraining's l1: 0.947641\tvalid_1's l1: 1.40189\n"
     ]
    },
    {
     "name": "stderr",
     "output_type": "stream",
     "text": [
      "\u001b[32m[I 2021-07-31 13:14:34,015]\u001b[0m Trial 48 finished with value: -1.4012273666953365 and parameters: {'max_depth': 4, 'min_child_weight': 8, 'subsample': 0.6, 'colsample_bytree': 0.6, 'reg_lambda': 2.3525660225996394, 'reg_alpha': 0.09980046495761244, 'feature_fraction': 0.8694457917112025, 'bagging_fraction': 0.6634631505131249, 'bagging_freq': 17, 'num_leaves': 539, 'min_child_samples': 65}. Best is trial 25 with value: -1.38496448869952.\u001b[0m\n"
     ]
    },
    {
     "name": "stdout",
     "output_type": "stream",
     "text": [
      "[LightGBM] [Warning] feature_fraction is set=0.7083938407382273, colsample_bytree=0.5 will be ignored. Current value: feature_fraction=0.7083938407382273\n",
      "[LightGBM] [Warning] bagging_fraction is set=0.48592666123112227, subsample=0.7 will be ignored. Current value: bagging_fraction=0.48592666123112227\n",
      "[LightGBM] [Warning] bagging_freq is set=4, subsample_freq=0 will be ignored. Current value: bagging_freq=4\n",
      "Training until validation scores don't improve for 100 rounds\n",
      "[100]\ttraining's l1: 0.977787\tvalid_1's l1: 1.41017\n",
      "[200]\ttraining's l1: 0.973236\tvalid_1's l1: 1.40719\n",
      "[300]\ttraining's l1: 0.954252\tvalid_1's l1: 1.40185\n",
      "[400]\ttraining's l1: 0.929056\tvalid_1's l1: 1.39734\n",
      "[500]\ttraining's l1: 0.907811\tvalid_1's l1: 1.39832\n",
      "Early stopping, best iteration is:\n",
      "[427]\ttraining's l1: 0.921134\tvalid_1's l1: 1.3961\n"
     ]
    },
    {
     "name": "stderr",
     "output_type": "stream",
     "text": [
      "\u001b[32m[I 2021-07-31 13:14:46,982]\u001b[0m Trial 49 finished with value: -1.3959026343832786 and parameters: {'max_depth': 6, 'min_child_weight': 15, 'subsample': 0.7, 'colsample_bytree': 0.5, 'reg_lambda': 0.04641350675737434, 'reg_alpha': 0.03345756926786389, 'feature_fraction': 0.7083938407382273, 'bagging_fraction': 0.48592666123112227, 'bagging_freq': 4, 'num_leaves': 435, 'min_child_samples': 38}. Best is trial 25 with value: -1.38496448869952.\u001b[0m\n"
     ]
    },
    {
     "name": "stdout",
     "output_type": "stream",
     "text": [
      "[LightGBM] [Warning] feature_fraction is set=0.9035541566434497, colsample_bytree=0.6 will be ignored. Current value: feature_fraction=0.9035541566434497\n",
      "[LightGBM] [Warning] bagging_fraction is set=0.71892858583437, subsample=0.7 will be ignored. Current value: bagging_fraction=0.71892858583437\n",
      "[LightGBM] [Warning] bagging_freq is set=15, subsample_freq=0 will be ignored. Current value: bagging_freq=15\n",
      "Training until validation scores don't improve for 100 rounds\n",
      "[100]\ttraining's l1: 0.90439\tvalid_1's l1: 1.40021\n"
     ]
    },
    {
     "name": "stderr",
     "output_type": "stream",
     "text": [
      "\u001b[32m[I 2021-07-31 13:14:56,144]\u001b[0m Trial 50 finished with value: -1.4000840511683121 and parameters: {'max_depth': 8, 'min_child_weight': 5, 'subsample': 0.7, 'colsample_bytree': 0.6, 'reg_lambda': 0.3941859171915507, 'reg_alpha': 8.819974566459479, 'feature_fraction': 0.9035541566434497, 'bagging_fraction': 0.71892858583437, 'bagging_freq': 15, 'num_leaves': 290, 'min_child_samples': 5}. Best is trial 25 with value: -1.38496448869952.\u001b[0m\n"
     ]
    },
    {
     "name": "stdout",
     "output_type": "stream",
     "text": [
      "Early stopping, best iteration is:\n",
      "[97]\ttraining's l1: 0.906194\tvalid_1's l1: 1.40015\n",
      "[LightGBM] [Warning] feature_fraction is set=0.655122587988667, colsample_bytree=0.7 will be ignored. Current value: feature_fraction=0.655122587988667\n",
      "[LightGBM] [Warning] bagging_fraction is set=0.6885660589940891, subsample=0.7 will be ignored. Current value: bagging_fraction=0.6885660589940891\n",
      "[LightGBM] [Warning] bagging_freq is set=12, subsample_freq=0 will be ignored. Current value: bagging_freq=12\n",
      "Training until validation scores don't improve for 100 rounds\n",
      "[100]\ttraining's l1: 0.858676\tvalid_1's l1: 1.39797\n"
     ]
    },
    {
     "name": "stderr",
     "output_type": "stream",
     "text": [
      "\u001b[32m[I 2021-07-31 13:15:05,915]\u001b[0m Trial 51 finished with value: -1.3951754331565631 and parameters: {'max_depth': 10, 'min_child_weight': 3, 'subsample': 0.7, 'colsample_bytree': 0.7, 'reg_lambda': 0.0018058091881471058, 'reg_alpha': 0.15041842532422778, 'feature_fraction': 0.655122587988667, 'bagging_fraction': 0.6885660589940891, 'bagging_freq': 12, 'num_leaves': 476, 'min_child_samples': 19}. Best is trial 25 with value: -1.38496448869952.\u001b[0m\n"
     ]
    },
    {
     "name": "stdout",
     "output_type": "stream",
     "text": [
      "Early stopping, best iteration is:\n",
      "[78]\ttraining's l1: 0.86715\tvalid_1's l1: 1.39525\n",
      "[LightGBM] [Warning] feature_fraction is set=0.5827369242017314, colsample_bytree=0.7 will be ignored. Current value: feature_fraction=0.5827369242017314\n",
      "[LightGBM] [Warning] bagging_fraction is set=0.66712687885966, subsample=0.8 will be ignored. Current value: bagging_fraction=0.66712687885966\n",
      "[LightGBM] [Warning] bagging_freq is set=14, subsample_freq=0 will be ignored. Current value: bagging_freq=14\n",
      "Training until validation scores don't improve for 100 rounds\n",
      "[100]\ttraining's l1: 0.921523\tvalid_1's l1: 1.3991\n"
     ]
    },
    {
     "name": "stderr",
     "output_type": "stream",
     "text": [
      "\u001b[32m[I 2021-07-31 13:15:14,646]\u001b[0m Trial 52 finished with value: -1.3958478130719905 and parameters: {'max_depth': 8, 'min_child_weight': 4, 'subsample': 0.8, 'colsample_bytree': 0.7, 'reg_lambda': 0.0049705346814184126, 'reg_alpha': 0.07176604571650938, 'feature_fraction': 0.5827369242017314, 'bagging_fraction': 0.66712687885966, 'bagging_freq': 14, 'num_leaves': 437, 'min_child_samples': 24}. Best is trial 25 with value: -1.38496448869952.\u001b[0m\n"
     ]
    },
    {
     "name": "stdout",
     "output_type": "stream",
     "text": [
      "Early stopping, best iteration is:\n",
      "[70]\ttraining's l1: 0.926312\tvalid_1's l1: 1.39588\n",
      "[LightGBM] [Warning] feature_fraction is set=0.7768118874062273, colsample_bytree=0.6 will be ignored. Current value: feature_fraction=0.7768118874062273\n",
      "[LightGBM] [Warning] bagging_fraction is set=0.7722248389586641, subsample=0.8 will be ignored. Current value: bagging_fraction=0.7722248389586641\n",
      "[LightGBM] [Warning] bagging_freq is set=12, subsample_freq=0 will be ignored. Current value: bagging_freq=12\n",
      "Training until validation scores don't improve for 100 rounds\n",
      "[100]\ttraining's l1: 0.86966\tvalid_1's l1: 1.4032\n"
     ]
    },
    {
     "name": "stderr",
     "output_type": "stream",
     "text": [
      "\u001b[32m[I 2021-07-31 13:15:24,678]\u001b[0m Trial 53 finished with value: -1.3961098992102046 and parameters: {'max_depth': 11, 'min_child_weight': 4, 'subsample': 0.8, 'colsample_bytree': 0.6, 'reg_lambda': 170.8769830733876, 'reg_alpha': 0.27071637176457364, 'feature_fraction': 0.7768118874062273, 'bagging_fraction': 0.7722248389586641, 'bagging_freq': 12, 'num_leaves': 365, 'min_child_samples': 30}. Best is trial 25 with value: -1.38496448869952.\u001b[0m\n"
     ]
    },
    {
     "name": "stdout",
     "output_type": "stream",
     "text": [
      "Early stopping, best iteration is:\n",
      "[69]\ttraining's l1: 0.886732\tvalid_1's l1: 1.39621\n",
      "[LightGBM] [Warning] feature_fraction is set=0.4664052094895884, colsample_bytree=0.7 will be ignored. Current value: feature_fraction=0.4664052094895884\n",
      "[LightGBM] [Warning] bagging_fraction is set=0.5738623256335447, subsample=0.7 will be ignored. Current value: bagging_fraction=0.5738623256335447\n",
      "[LightGBM] [Warning] bagging_freq is set=14, subsample_freq=0 will be ignored. Current value: bagging_freq=14\n",
      "Training until validation scores don't improve for 100 rounds\n",
      "[100]\ttraining's l1: 0.921251\tvalid_1's l1: 1.40645\n",
      "[200]\ttraining's l1: 0.89823\tvalid_1's l1: 1.40461\n",
      "[300]\ttraining's l1: 0.849881\tvalid_1's l1: 1.41023\n",
      "Early stopping, best iteration is:\n",
      "[233]\ttraining's l1: 0.884134\tvalid_1's l1: 1.40256\n"
     ]
    },
    {
     "name": "stderr",
     "output_type": "stream",
     "text": [
      "\u001b[32m[I 2021-07-31 13:15:37,701]\u001b[0m Trial 54 finished with value: -1.40246655649095 and parameters: {'max_depth': 13, 'min_child_weight': 5, 'subsample': 0.7, 'colsample_bytree': 0.7, 'reg_lambda': 0.017473678875266872, 'reg_alpha': 0.020045551025484505, 'feature_fraction': 0.4664052094895884, 'bagging_fraction': 0.5738623256335447, 'bagging_freq': 14, 'num_leaves': 144, 'min_child_samples': 16}. Best is trial 25 with value: -1.38496448869952.\u001b[0m\n"
     ]
    },
    {
     "name": "stdout",
     "output_type": "stream",
     "text": [
      "[LightGBM] [Warning] feature_fraction is set=0.7383633741137655, colsample_bytree=0.6 will be ignored. Current value: feature_fraction=0.7383633741137655\n",
      "[LightGBM] [Warning] bagging_fraction is set=0.7212118368402257, subsample=0.6 will be ignored. Current value: bagging_fraction=0.7212118368402257\n",
      "[LightGBM] [Warning] bagging_freq is set=11, subsample_freq=0 will be ignored. Current value: bagging_freq=11\n",
      "Training until validation scores don't improve for 100 rounds\n",
      "[100]\ttraining's l1: 0.846464\tvalid_1's l1: 1.40115\n"
     ]
    },
    {
     "name": "stderr",
     "output_type": "stream",
     "text": [
      "\u001b[32m[I 2021-07-31 13:15:47,452]\u001b[0m Trial 55 finished with value: -1.3976598842267927 and parameters: {'max_depth': 10, 'min_child_weight': 2, 'subsample': 0.6, 'colsample_bytree': 0.6, 'reg_lambda': 0.19662001555942857, 'reg_alpha': 1.0211177406678476, 'feature_fraction': 0.7383633741137655, 'bagging_fraction': 0.7212118368402257, 'bagging_freq': 11, 'num_leaves': 588, 'min_child_samples': 44}. Best is trial 25 with value: -1.38496448869952.\u001b[0m\n"
     ]
    },
    {
     "name": "stdout",
     "output_type": "stream",
     "text": [
      "Early stopping, best iteration is:\n",
      "[69]\ttraining's l1: 0.875024\tvalid_1's l1: 1.39771\n",
      "[LightGBM] [Warning] feature_fraction is set=0.5748414585112491, colsample_bytree=0.7 will be ignored. Current value: feature_fraction=0.5748414585112491\n",
      "[LightGBM] [Warning] bagging_fraction is set=0.8453651955496393, subsample=0.7 will be ignored. Current value: bagging_fraction=0.8453651955496393\n",
      "[LightGBM] [Warning] bagging_freq is set=2, subsample_freq=0 will be ignored. Current value: bagging_freq=2\n",
      "Training until validation scores don't improve for 100 rounds\n",
      "[100]\ttraining's l1: 0.944122\tvalid_1's l1: 1.40312\n",
      "[200]\ttraining's l1: 0.939455\tvalid_1's l1: 1.40018\n",
      "[300]\ttraining's l1: 0.921975\tvalid_1's l1: 1.4\n",
      "[400]\ttraining's l1: 0.889803\tvalid_1's l1: 1.40114\n",
      "Early stopping, best iteration is:\n",
      "[329]\ttraining's l1: 0.913093\tvalid_1's l1: 1.39819\n"
     ]
    },
    {
     "name": "stderr",
     "output_type": "stream",
     "text": [
      "\u001b[32m[I 2021-07-31 13:16:11,006]\u001b[0m Trial 56 finished with value: -1.3981016912323994 and parameters: {'max_depth': 7, 'min_child_weight': 3, 'subsample': 0.7, 'colsample_bytree': 0.7, 'reg_lambda': 1.4559849155841718, 'reg_alpha': 0.41154673075521236, 'feature_fraction': 0.5748414585112491, 'bagging_fraction': 0.8453651955496393, 'bagging_freq': 2, 'num_leaves': 904, 'min_child_samples': 9}. Best is trial 25 with value: -1.38496448869952.\u001b[0m\n"
     ]
    },
    {
     "name": "stdout",
     "output_type": "stream",
     "text": [
      "[LightGBM] [Warning] feature_fraction is set=0.6387646180712951, colsample_bytree=0.6 will be ignored. Current value: feature_fraction=0.6387646180712951\n",
      "[LightGBM] [Warning] bagging_fraction is set=0.677666879927093, subsample=0.8 will be ignored. Current value: bagging_fraction=0.677666879927093\n",
      "[LightGBM] [Warning] bagging_freq is set=20, subsample_freq=0 will be ignored. Current value: bagging_freq=20\n",
      "Training until validation scores don't improve for 100 rounds\n",
      "[100]\ttraining's l1: 0.919216\tvalid_1's l1: 1.39593\n",
      "[200]\ttraining's l1: 0.911023\tvalid_1's l1: 1.39518\n",
      "Early stopping, best iteration is:\n",
      "[143]\ttraining's l1: 0.91287\tvalid_1's l1: 1.39446\n"
     ]
    },
    {
     "name": "stderr",
     "output_type": "stream",
     "text": [
      "\u001b[32m[I 2021-07-31 13:16:20,771]\u001b[0m Trial 57 finished with value: -1.394425435464269 and parameters: {'max_depth': 9, 'min_child_weight': 9, 'subsample': 0.8, 'colsample_bytree': 0.6, 'reg_lambda': 381.56064605584487, 'reg_alpha': 0.1499448768821913, 'feature_fraction': 0.6387646180712951, 'bagging_fraction': 0.677666879927093, 'bagging_freq': 20, 'num_leaves': 459, 'min_child_samples': 19}. Best is trial 25 with value: -1.38496448869952.\u001b[0m\n"
     ]
    },
    {
     "name": "stdout",
     "output_type": "stream",
     "text": [
      "[LightGBM] [Warning] feature_fraction is set=0.36653823394764706, colsample_bytree=0.7 will be ignored. Current value: feature_fraction=0.36653823394764706\n",
      "[LightGBM] [Warning] bagging_fraction is set=0.5234843231216086, subsample=0.9 will be ignored. Current value: bagging_fraction=0.5234843231216086\n",
      "[LightGBM] [Warning] bagging_freq is set=6, subsample_freq=0 will be ignored. Current value: bagging_freq=6\n",
      "Training until validation scores don't improve for 100 rounds\n",
      "[100]\ttraining's l1: 1.0669\tvalid_1's l1: 1.45881\n",
      "[200]\ttraining's l1: 1.04035\tvalid_1's l1: 1.43894\n",
      "[300]\ttraining's l1: 1.026\tvalid_1's l1: 1.42857\n",
      "[400]\ttraining's l1: 1.01534\tvalid_1's l1: 1.42424\n",
      "[500]\ttraining's l1: 1.00544\tvalid_1's l1: 1.41854\n",
      "[600]\ttraining's l1: 0.999794\tvalid_1's l1: 1.41654\n",
      "[700]\ttraining's l1: 0.994541\tvalid_1's l1: 1.41538\n",
      "[800]\ttraining's l1: 0.989971\tvalid_1's l1: 1.41418\n",
      "[900]\ttraining's l1: 0.985427\tvalid_1's l1: 1.41238\n",
      "[1000]\ttraining's l1: 0.980375\tvalid_1's l1: 1.41198\n",
      "[1100]\ttraining's l1: 0.976794\tvalid_1's l1: 1.4095\n",
      "[1200]\ttraining's l1: 0.973799\tvalid_1's l1: 1.40895\n",
      "[1300]\ttraining's l1: 0.969587\tvalid_1's l1: 1.40897\n",
      "Early stopping, best iteration is:\n",
      "[1235]\ttraining's l1: 0.971736\tvalid_1's l1: 1.40822\n"
     ]
    },
    {
     "name": "stderr",
     "output_type": "stream",
     "text": [
      "\u001b[32m[I 2021-07-31 13:16:48,502]\u001b[0m Trial 58 finished with value: -1.4072267335244542 and parameters: {'max_depth': 3, 'min_child_weight': 7, 'subsample': 0.9, 'colsample_bytree': 0.7, 'reg_lambda': 0.06242680191086889, 'reg_alpha': 1.5699326136464398, 'feature_fraction': 0.36653823394764706, 'bagging_fraction': 0.5234843231216086, 'bagging_freq': 6, 'num_leaves': 522, 'min_child_samples': 53}. Best is trial 25 with value: -1.38496448869952.\u001b[0m\n"
     ]
    },
    {
     "name": "stdout",
     "output_type": "stream",
     "text": [
      "[LightGBM] [Warning] feature_fraction is set=0.99039158726404, colsample_bytree=0.8 will be ignored. Current value: feature_fraction=0.99039158726404\n",
      "[LightGBM] [Warning] bagging_fraction is set=0.6019736788560289, subsample=0.7 will be ignored. Current value: bagging_fraction=0.6019736788560289\n",
      "[LightGBM] [Warning] bagging_freq is set=9, subsample_freq=0 will be ignored. Current value: bagging_freq=9\n",
      "Training until validation scores don't improve for 100 rounds\n",
      "[100]\ttraining's l1: 0.81484\tvalid_1's l1: 1.4101\n"
     ]
    },
    {
     "name": "stderr",
     "output_type": "stream",
     "text": [
      "\u001b[32m[I 2021-07-31 13:16:59,211]\u001b[0m Trial 59 finished with value: -1.3988577986490585 and parameters: {'max_depth': 15, 'min_child_weight': 1, 'subsample': 0.7, 'colsample_bytree': 0.8, 'reg_lambda': 0.32850550562517683, 'reg_alpha': 0.06271580203936962, 'feature_fraction': 0.99039158726404, 'bagging_fraction': 0.6019736788560289, 'bagging_freq': 9, 'num_leaves': 403, 'min_child_samples': 24}. Best is trial 25 with value: -1.38496448869952.\u001b[0m\n"
     ]
    },
    {
     "name": "stdout",
     "output_type": "stream",
     "text": [
      "Early stopping, best iteration is:\n",
      "[41]\ttraining's l1: 0.888899\tvalid_1's l1: 1.39888\n",
      "[LightGBM] [Warning] feature_fraction is set=0.6905160369576808, colsample_bytree=0.6 will be ignored. Current value: feature_fraction=0.6905160369576808\n",
      "[LightGBM] [Warning] bagging_fraction is set=0.3144574270608881, subsample=0.9 will be ignored. Current value: bagging_fraction=0.3144574270608881\n",
      "[LightGBM] [Warning] bagging_freq is set=18, subsample_freq=0 will be ignored. Current value: bagging_freq=18\n",
      "Training until validation scores don't improve for 100 rounds\n",
      "[100]\ttraining's l1: 0.851364\tvalid_1's l1: 1.40998\n"
     ]
    },
    {
     "name": "stderr",
     "output_type": "stream",
     "text": [
      "\u001b[32m[I 2021-07-31 13:17:06,541]\u001b[0m Trial 60 finished with value: -1.4015513041789693 and parameters: {'max_depth': 13, 'min_child_weight': 11, 'subsample': 0.9, 'colsample_bytree': 0.6, 'reg_lambda': 1.1088612091822077, 'reg_alpha': 0.8076812486846098, 'feature_fraction': 0.6905160369576808, 'bagging_fraction': 0.3144574270608881, 'bagging_freq': 18, 'num_leaves': 355, 'min_child_samples': 93}. Best is trial 25 with value: -1.38496448869952.\u001b[0m\n"
     ]
    },
    {
     "name": "stdout",
     "output_type": "stream",
     "text": [
      "Early stopping, best iteration is:\n",
      "[58]\ttraining's l1: 0.883758\tvalid_1's l1: 1.4016\n",
      "[LightGBM] [Warning] feature_fraction is set=0.5229114405141957, colsample_bytree=0.8 will be ignored. Current value: feature_fraction=0.5229114405141957\n",
      "[LightGBM] [Warning] bagging_fraction is set=0.6440342826784995, subsample=0.8 will be ignored. Current value: bagging_fraction=0.6440342826784995\n",
      "[LightGBM] [Warning] bagging_freq is set=9, subsample_freq=0 will be ignored. Current value: bagging_freq=9\n",
      "Training until validation scores don't improve for 100 rounds\n",
      "[100]\ttraining's l1: 0.835125\tvalid_1's l1: 1.40097\n"
     ]
    },
    {
     "name": "stderr",
     "output_type": "stream",
     "text": [
      "\u001b[32m[I 2021-07-31 13:17:17,550]\u001b[0m Trial 61 finished with value: -1.3925058204993597 and parameters: {'max_depth': 12, 'min_child_weight': 8, 'subsample': 0.8, 'colsample_bytree': 0.8, 'reg_lambda': 28.82083497377252, 'reg_alpha': 0.2516728988586555, 'feature_fraction': 0.5229114405141957, 'bagging_fraction': 0.6440342826784995, 'bagging_freq': 9, 'num_leaves': 721, 'min_child_samples': 43}. Best is trial 25 with value: -1.38496448869952.\u001b[0m\n"
     ]
    },
    {
     "name": "stdout",
     "output_type": "stream",
     "text": [
      "Early stopping, best iteration is:\n",
      "[50]\ttraining's l1: 0.877361\tvalid_1's l1: 1.39252\n",
      "[LightGBM] [Warning] feature_fraction is set=0.7616217990348895, colsample_bytree=0.8 will be ignored. Current value: feature_fraction=0.7616217990348895\n",
      "[LightGBM] [Warning] bagging_fraction is set=0.5517976793852356, subsample=0.8 will be ignored. Current value: bagging_fraction=0.5517976793852356\n",
      "[LightGBM] [Warning] bagging_freq is set=10, subsample_freq=0 will be ignored. Current value: bagging_freq=10\n",
      "Training until validation scores don't improve for 100 rounds\n",
      "[100]\ttraining's l1: 0.83442\tvalid_1's l1: 1.38784\n"
     ]
    },
    {
     "name": "stderr",
     "output_type": "stream",
     "text": [
      "\u001b[32m[I 2021-07-31 13:17:27,554]\u001b[0m Trial 62 finished with value: -1.3841687511366425 and parameters: {'max_depth': 11, 'min_child_weight': 7, 'subsample': 0.8, 'colsample_bytree': 0.8, 'reg_lambda': 9.67292591684582, 'reg_alpha': 0.1813674505820697, 'feature_fraction': 0.7616217990348895, 'bagging_fraction': 0.5517976793852356, 'bagging_freq': 10, 'num_leaves': 641, 'min_child_samples': 33}. Best is trial 62 with value: -1.3841687511366425.\u001b[0m\n"
     ]
    },
    {
     "name": "stdout",
     "output_type": "stream",
     "text": [
      "Early stopping, best iteration is:\n",
      "[79]\ttraining's l1: 0.847738\tvalid_1's l1: 1.38427\n",
      "[LightGBM] [Warning] feature_fraction is set=0.8384732961972958, colsample_bytree=0.9 will be ignored. Current value: feature_fraction=0.8384732961972958\n",
      "[LightGBM] [Warning] bagging_fraction is set=0.5635189971997141, subsample=0.7 will be ignored. Current value: bagging_fraction=0.5635189971997141\n",
      "[LightGBM] [Warning] bagging_freq is set=7, subsample_freq=0 will be ignored. Current value: bagging_freq=7\n",
      "Training until validation scores don't improve for 100 rounds\n",
      "[100]\ttraining's l1: 0.828779\tvalid_1's l1: 1.39929\n"
     ]
    },
    {
     "name": "stderr",
     "output_type": "stream",
     "text": [
      "\u001b[32m[I 2021-07-31 13:17:37,572]\u001b[0m Trial 63 finished with value: -1.3882172632101208 and parameters: {'max_depth': 11, 'min_child_weight': 6, 'subsample': 0.7, 'colsample_bytree': 0.9, 'reg_lambda': 3.94560181059072, 'reg_alpha': 0.35374826979462537, 'feature_fraction': 0.8384732961972958, 'bagging_fraction': 0.5635189971997141, 'bagging_freq': 7, 'num_leaves': 664, 'min_child_samples': 35}. Best is trial 62 with value: -1.3841687511366425.\u001b[0m\n"
     ]
    },
    {
     "name": "stdout",
     "output_type": "stream",
     "text": [
      "Early stopping, best iteration is:\n",
      "[71]\ttraining's l1: 0.850073\tvalid_1's l1: 1.38828\n",
      "[LightGBM] [Warning] feature_fraction is set=0.8326724915522644, colsample_bytree=0.9 will be ignored. Current value: feature_fraction=0.8326724915522644\n",
      "[LightGBM] [Warning] bagging_fraction is set=0.5502775836999723, subsample=0.7 will be ignored. Current value: bagging_fraction=0.5502775836999723\n",
      "[LightGBM] [Warning] bagging_freq is set=7, subsample_freq=0 will be ignored. Current value: bagging_freq=7\n",
      "Training until validation scores don't improve for 100 rounds\n",
      "[100]\ttraining's l1: 0.820671\tvalid_1's l1: 1.40288\n"
     ]
    },
    {
     "name": "stderr",
     "output_type": "stream",
     "text": [
      "\u001b[32m[I 2021-07-31 13:17:47,790]\u001b[0m Trial 64 finished with value: -1.3932294870701265 and parameters: {'max_depth': 11, 'min_child_weight': 6, 'subsample': 0.7, 'colsample_bytree': 0.9, 'reg_lambda': 4.48312175442293, 'reg_alpha': 0.5003984355009228, 'feature_fraction': 0.8326724915522644, 'bagging_fraction': 0.5502775836999723, 'bagging_freq': 7, 'num_leaves': 669, 'min_child_samples': 34}. Best is trial 62 with value: -1.3841687511366425.\u001b[0m\n"
     ]
    },
    {
     "name": "stdout",
     "output_type": "stream",
     "text": [
      "Early stopping, best iteration is:\n",
      "[68]\ttraining's l1: 0.858463\tvalid_1's l1: 1.3933\n",
      "[LightGBM] [Warning] feature_fraction is set=0.7941107756917992, colsample_bytree=0.9 will be ignored. Current value: feature_fraction=0.7941107756917992\n",
      "[LightGBM] [Warning] bagging_fraction is set=0.5805558085064616, subsample=0.7 will be ignored. Current value: bagging_fraction=0.5805558085064616\n",
      "[LightGBM] [Warning] bagging_freq is set=6, subsample_freq=0 will be ignored. Current value: bagging_freq=6\n",
      "Training until validation scores don't improve for 100 rounds\n",
      "[100]\ttraining's l1: 0.853172\tvalid_1's l1: 1.40992\n"
     ]
    },
    {
     "name": "stderr",
     "output_type": "stream",
     "text": [
      "\u001b[32m[I 2021-07-31 13:17:56,933]\u001b[0m Trial 65 finished with value: -1.3938939133926347 and parameters: {'max_depth': 10, 'min_child_weight': 6, 'subsample': 0.7, 'colsample_bytree': 0.9, 'reg_lambda': 11.92701389518645, 'reg_alpha': 3.841065573832237, 'feature_fraction': 0.7941107756917992, 'bagging_fraction': 0.5805558085064616, 'bagging_freq': 6, 'num_leaves': 738, 'min_child_samples': 36}. Best is trial 62 with value: -1.3841687511366425.\u001b[0m\n"
     ]
    },
    {
     "name": "stdout",
     "output_type": "stream",
     "text": [
      "Early stopping, best iteration is:\n",
      "[63]\ttraining's l1: 0.885684\tvalid_1's l1: 1.39391\n",
      "[LightGBM] [Warning] feature_fraction is set=0.8515593600900369, colsample_bytree=0.8 will be ignored. Current value: feature_fraction=0.8515593600900369\n",
      "[LightGBM] [Warning] bagging_fraction is set=0.2055454614736985, subsample=0.6 will be ignored. Current value: bagging_fraction=0.2055454614736985\n",
      "[LightGBM] [Warning] bagging_freq is set=8, subsample_freq=0 will be ignored. Current value: bagging_freq=8\n",
      "Training until validation scores don't improve for 100 rounds\n",
      "[100]\ttraining's l1: 0.855094\tvalid_1's l1: 1.38649\n"
     ]
    },
    {
     "name": "stderr",
     "output_type": "stream",
     "text": [
      "\u001b[32m[I 2021-07-31 13:18:04,312]\u001b[0m Trial 66 finished with value: -1.3853867766287982 and parameters: {'max_depth': 11, 'min_child_weight': 10, 'subsample': 0.6, 'colsample_bytree': 0.8, 'reg_lambda': 5.456137457091179, 'reg_alpha': 0.10904791970024802, 'feature_fraction': 0.8515593600900369, 'bagging_fraction': 0.2055454614736985, 'bagging_freq': 8, 'num_leaves': 620, 'min_child_samples': 30}. Best is trial 62 with value: -1.3841687511366425.\u001b[0m\n"
     ]
    },
    {
     "name": "stdout",
     "output_type": "stream",
     "text": [
      "Early stopping, best iteration is:\n",
      "[83]\ttraining's l1: 0.867013\tvalid_1's l1: 1.38554\n",
      "[LightGBM] [Warning] feature_fraction is set=0.9462406757918189, colsample_bytree=0.8 will be ignored. Current value: feature_fraction=0.9462406757918189\n",
      "[LightGBM] [Warning] bagging_fraction is set=0.20558357120102883, subsample=0.6 will be ignored. Current value: bagging_fraction=0.20558357120102883\n",
      "[LightGBM] [Warning] bagging_freq is set=8, subsample_freq=0 will be ignored. Current value: bagging_freq=8\n",
      "Training until validation scores don't improve for 100 rounds\n",
      "[100]\ttraining's l1: 0.853025\tvalid_1's l1: 1.39986\n"
     ]
    },
    {
     "name": "stderr",
     "output_type": "stream",
     "text": [
      "\u001b[32m[I 2021-07-31 13:18:12,052]\u001b[0m Trial 67 finished with value: -1.395921917147174 and parameters: {'max_depth': 11, 'min_child_weight': 12, 'subsample': 0.6, 'colsample_bytree': 0.8, 'reg_lambda': 3.868479826324128, 'reg_alpha': 0.3940197882968297, 'feature_fraction': 0.9462406757918189, 'bagging_fraction': 0.20558357120102883, 'bagging_freq': 8, 'num_leaves': 773, 'min_child_samples': 30}. Best is trial 62 with value: -1.3841687511366425.\u001b[0m\n"
     ]
    },
    {
     "name": "stdout",
     "output_type": "stream",
     "text": [
      "Early stopping, best iteration is:\n",
      "[64]\ttraining's l1: 0.879554\tvalid_1's l1: 1.396\n",
      "[LightGBM] [Warning] feature_fraction is set=0.877824072791365, colsample_bytree=0.9 will be ignored. Current value: feature_fraction=0.877824072791365\n",
      "[LightGBM] [Warning] bagging_fraction is set=0.22197726261419626, subsample=0.5 will be ignored. Current value: bagging_fraction=0.22197726261419626\n",
      "[LightGBM] [Warning] bagging_freq is set=6, subsample_freq=0 will be ignored. Current value: bagging_freq=6\n",
      "Training until validation scores don't improve for 100 rounds\n",
      "[100]\ttraining's l1: 0.830674\tvalid_1's l1: 1.42316\n"
     ]
    },
    {
     "name": "stderr",
     "output_type": "stream",
     "text": [
      "\u001b[32m[I 2021-07-31 13:18:19,386]\u001b[0m Trial 68 finished with value: -1.4034525335925463 and parameters: {'max_depth': 13, 'min_child_weight': 9, 'subsample': 0.5, 'colsample_bytree': 0.9, 'reg_lambda': 6.549121532164776, 'reg_alpha': 0.050273550200296, 'feature_fraction': 0.877824072791365, 'bagging_fraction': 0.22197726261419626, 'bagging_freq': 6, 'num_leaves': 603, 'min_child_samples': 41}. Best is trial 62 with value: -1.3841687511366425.\u001b[0m\n"
     ]
    },
    {
     "name": "stdout",
     "output_type": "stream",
     "text": [
      "Early stopping, best iteration is:\n",
      "[34]\ttraining's l1: 0.903523\tvalid_1's l1: 1.40345\n",
      "[LightGBM] [Warning] feature_fraction is set=0.7672875605768508, colsample_bytree=0.9 will be ignored. Current value: feature_fraction=0.7672875605768508\n",
      "[LightGBM] [Warning] bagging_fraction is set=0.2847970520595234, subsample=0.5 will be ignored. Current value: bagging_fraction=0.2847970520595234\n",
      "[LightGBM] [Warning] bagging_freq is set=8, subsample_freq=0 will be ignored. Current value: bagging_freq=8\n",
      "Training until validation scores don't improve for 100 rounds\n",
      "[100]\ttraining's l1: 0.979799\tvalid_1's l1: 1.40679\n",
      "[200]\ttraining's l1: 0.97071\tvalid_1's l1: 1.40171\n",
      "[300]\ttraining's l1: 0.94908\tvalid_1's l1: 1.3949\n",
      "[400]\ttraining's l1: 0.928207\tvalid_1's l1: 1.39202\n",
      "[500]\ttraining's l1: 0.912931\tvalid_1's l1: 1.39027\n",
      "[600]\ttraining's l1: 0.901137\tvalid_1's l1: 1.39274\n",
      "Early stopping, best iteration is:\n",
      "[510]\ttraining's l1: 0.911871\tvalid_1's l1: 1.38981\n"
     ]
    },
    {
     "name": "stderr",
     "output_type": "stream",
     "text": [
      "\u001b[32m[I 2021-07-31 13:18:29,976]\u001b[0m Trial 69 finished with value: -1.3896213731346343 and parameters: {'max_depth': 6, 'min_child_weight': 10, 'subsample': 0.5, 'colsample_bytree': 0.9, 'reg_lambda': 46.44767759525641, 'reg_alpha': 0.1238962273739428, 'feature_fraction': 0.7672875605768508, 'bagging_fraction': 0.2847970520595234, 'bagging_freq': 8, 'num_leaves': 830, 'min_child_samples': 27}. Best is trial 62 with value: -1.3841687511366425.\u001b[0m\n"
     ]
    },
    {
     "name": "stdout",
     "output_type": "stream",
     "text": [
      "[LightGBM] [Warning] feature_fraction is set=0.7583464134758726, colsample_bytree=0.9 will be ignored. Current value: feature_fraction=0.7583464134758726\n",
      "[LightGBM] [Warning] bagging_fraction is set=0.2844051780966774, subsample=0.5 will be ignored. Current value: bagging_fraction=0.2844051780966774\n",
      "[LightGBM] [Warning] bagging_freq is set=8, subsample_freq=0 will be ignored. Current value: bagging_freq=8\n",
      "Training until validation scores don't improve for 100 rounds\n",
      "[100]\ttraining's l1: 0.979286\tvalid_1's l1: 1.41102\n",
      "[200]\ttraining's l1: 0.976449\tvalid_1's l1: 1.40947\n",
      "[300]\ttraining's l1: 0.960002\tvalid_1's l1: 1.40308\n",
      "[400]\ttraining's l1: 0.93238\tvalid_1's l1: 1.39838\n",
      "[500]\ttraining's l1: 0.914725\tvalid_1's l1: 1.39579\n",
      "Early stopping, best iteration is:\n",
      "[455]\ttraining's l1: 0.922412\tvalid_1's l1: 1.39477\n"
     ]
    },
    {
     "name": "stderr",
     "output_type": "stream",
     "text": [
      "\u001b[32m[I 2021-07-31 13:18:39,582]\u001b[0m Trial 70 finished with value: -1.3943833872779916 and parameters: {'max_depth': 6, 'min_child_weight': 12, 'subsample': 0.5, 'colsample_bytree': 0.9, 'reg_lambda': 28.301647474551643, 'reg_alpha': 0.022378762177730282, 'feature_fraction': 0.7583464134758726, 'bagging_fraction': 0.2844051780966774, 'bagging_freq': 8, 'num_leaves': 689, 'min_child_samples': 36}. Best is trial 62 with value: -1.3841687511366425.\u001b[0m\n"
     ]
    },
    {
     "name": "stdout",
     "output_type": "stream",
     "text": [
      "[LightGBM] [Warning] feature_fraction is set=0.8154060565795501, colsample_bytree=0.9 will be ignored. Current value: feature_fraction=0.8154060565795501\n",
      "[LightGBM] [Warning] bagging_fraction is set=0.2598483097301065, subsample=0.5 will be ignored. Current value: bagging_fraction=0.2598483097301065\n",
      "[LightGBM] [Warning] bagging_freq is set=7, subsample_freq=0 will be ignored. Current value: bagging_freq=7\n",
      "Training until validation scores don't improve for 100 rounds\n",
      "[100]\ttraining's l1: 1.00972\tvalid_1's l1: 1.41834\n",
      "[200]\ttraining's l1: 1.00237\tvalid_1's l1: 1.41432\n",
      "[300]\ttraining's l1: 0.989811\tvalid_1's l1: 1.41125\n",
      "[400]\ttraining's l1: 0.975223\tvalid_1's l1: 1.40535\n",
      "[500]\ttraining's l1: 0.958502\tvalid_1's l1: 1.40105\n",
      "[600]\ttraining's l1: 0.941965\tvalid_1's l1: 1.39996\n",
      "Early stopping, best iteration is:\n",
      "[536]\ttraining's l1: 0.951995\tvalid_1's l1: 1.39853\n"
     ]
    },
    {
     "name": "stderr",
     "output_type": "stream",
     "text": [
      "\u001b[32m[I 2021-07-31 13:18:49,111]\u001b[0m Trial 71 finished with value: -1.3978355218678191 and parameters: {'max_depth': 5, 'min_child_weight': 10, 'subsample': 0.5, 'colsample_bytree': 0.9, 'reg_lambda': 47.57934589618237, 'reg_alpha': 0.12084503364833002, 'feature_fraction': 0.8154060565795501, 'bagging_fraction': 0.2598483097301065, 'bagging_freq': 7, 'num_leaves': 831, 'min_child_samples': 27}. Best is trial 62 with value: -1.3841687511366425.\u001b[0m\n"
     ]
    },
    {
     "name": "stdout",
     "output_type": "stream",
     "text": [
      "[LightGBM] [Warning] feature_fraction is set=0.8407672642300512, colsample_bytree=0.8 will be ignored. Current value: feature_fraction=0.8407672642300512\n",
      "[LightGBM] [Warning] bagging_fraction is set=0.2982200381123766, subsample=0.6 will be ignored. Current value: bagging_fraction=0.2982200381123766\n",
      "[LightGBM] [Warning] bagging_freq is set=10, subsample_freq=0 will be ignored. Current value: bagging_freq=10\n",
      "Training until validation scores don't improve for 100 rounds\n",
      "[100]\ttraining's l1: 0.969921\tvalid_1's l1: 1.39745\n",
      "[200]\ttraining's l1: 0.967215\tvalid_1's l1: 1.39714\n",
      "[300]\ttraining's l1: 0.954124\tvalid_1's l1: 1.39341\n",
      "[400]\ttraining's l1: 0.929387\tvalid_1's l1: 1.38834\n",
      "Early stopping, best iteration is:\n",
      "[395]\ttraining's l1: 0.930825\tvalid_1's l1: 1.38576\n"
     ]
    },
    {
     "name": "stderr",
     "output_type": "stream",
     "text": [
      "\u001b[32m[I 2021-07-31 13:18:58,127]\u001b[0m Trial 72 finished with value: -1.3854147032860835 and parameters: {'max_depth': 6, 'min_child_weight': 13, 'subsample': 0.6, 'colsample_bytree': 0.8, 'reg_lambda': 11.157800462789758, 'reg_alpha': 0.2885784901185849, 'feature_fraction': 0.8407672642300512, 'bagging_fraction': 0.2982200381123766, 'bagging_freq': 10, 'num_leaves': 620, 'min_child_samples': 31}. Best is trial 62 with value: -1.3841687511366425.\u001b[0m\n"
     ]
    },
    {
     "name": "stdout",
     "output_type": "stream",
     "text": [
      "[LightGBM] [Warning] feature_fraction is set=0.8531013317652149, colsample_bytree=0.8 will be ignored. Current value: feature_fraction=0.8531013317652149\n",
      "[LightGBM] [Warning] bagging_fraction is set=0.35187449111650837, subsample=0.6 will be ignored. Current value: bagging_fraction=0.35187449111650837\n",
      "[LightGBM] [Warning] bagging_freq is set=10, subsample_freq=0 will be ignored. Current value: bagging_freq=10\n",
      "Training until validation scores don't improve for 100 rounds\n",
      "[100]\ttraining's l1: 0.97494\tvalid_1's l1: 1.40875\n",
      "[200]\ttraining's l1: 0.958349\tvalid_1's l1: 1.3988\n",
      "[300]\ttraining's l1: 0.939032\tvalid_1's l1: 1.39516\n",
      "[400]\ttraining's l1: 0.919848\tvalid_1's l1: 1.39743\n",
      "Early stopping, best iteration is:\n",
      "[327]\ttraining's l1: 0.932527\tvalid_1's l1: 1.39268\n"
     ]
    },
    {
     "name": "stderr",
     "output_type": "stream",
     "text": [
      "\u001b[32m[I 2021-07-31 13:19:07,280]\u001b[0m Trial 73 finished with value: -1.3924093385781358 and parameters: {'max_depth': 6, 'min_child_weight': 14, 'subsample': 0.6, 'colsample_bytree': 0.8, 'reg_lambda': 11.079926312618603, 'reg_alpha': 0.24798720893656975, 'feature_fraction': 0.8531013317652149, 'bagging_fraction': 0.35187449111650837, 'bagging_freq': 10, 'num_leaves': 622, 'min_child_samples': 31}. Best is trial 62 with value: -1.3841687511366425.\u001b[0m\n"
     ]
    },
    {
     "name": "stdout",
     "output_type": "stream",
     "text": [
      "[LightGBM] [Warning] feature_fraction is set=0.8932149182471596, colsample_bytree=0.8 will be ignored. Current value: feature_fraction=0.8932149182471596\n",
      "[LightGBM] [Warning] bagging_fraction is set=0.3907582623211904, subsample=0.5 will be ignored. Current value: bagging_fraction=0.3907582623211904\n",
      "[LightGBM] [Warning] bagging_freq is set=9, subsample_freq=0 will be ignored. Current value: bagging_freq=9\n",
      "Training until validation scores don't improve for 100 rounds\n",
      "[100]\ttraining's l1: 1.03809\tvalid_1's l1: 1.43567\n",
      "[200]\ttraining's l1: 1.0306\tvalid_1's l1: 1.43015\n",
      "[300]\ttraining's l1: 1.01225\tvalid_1's l1: 1.42066\n",
      "[400]\ttraining's l1: 0.991175\tvalid_1's l1: 1.40873\n",
      "[500]\ttraining's l1: 0.978944\tvalid_1's l1: 1.40533\n",
      "[600]\ttraining's l1: 0.968877\tvalid_1's l1: 1.40325\n",
      "[700]\ttraining's l1: 0.959215\tvalid_1's l1: 1.40112\n",
      "[800]\ttraining's l1: 0.952293\tvalid_1's l1: 1.40153\n",
      "Early stopping, best iteration is:\n",
      "[727]\ttraining's l1: 0.957611\tvalid_1's l1: 1.40066\n"
     ]
    },
    {
     "name": "stderr",
     "output_type": "stream",
     "text": [
      "\u001b[32m[I 2021-07-31 13:19:20,839]\u001b[0m Trial 74 finished with value: -1.4003009172841834 and parameters: {'max_depth': 4, 'min_child_weight': 13, 'subsample': 0.5, 'colsample_bytree': 0.8, 'reg_lambda': 2.1497036634800386, 'reg_alpha': 0.01001893434870409, 'feature_fraction': 0.8932149182471596, 'bagging_fraction': 0.3907582623211904, 'bagging_freq': 9, 'num_leaves': 556, 'min_child_samples': 51}. Best is trial 62 with value: -1.3841687511366425.\u001b[0m\n"
     ]
    },
    {
     "name": "stdout",
     "output_type": "stream",
     "text": [
      "[LightGBM] [Warning] feature_fraction is set=0.7658899570724944, colsample_bytree=0.8 will be ignored. Current value: feature_fraction=0.7658899570724944\n",
      "[LightGBM] [Warning] bagging_fraction is set=0.3075829261688704, subsample=0.5 will be ignored. Current value: bagging_fraction=0.3075829261688704\n",
      "[LightGBM] [Warning] bagging_freq is set=9, subsample_freq=0 will be ignored. Current value: bagging_freq=9\n",
      "Training until validation scores don't improve for 100 rounds\n",
      "[100]\ttraining's l1: 0.863464\tvalid_1's l1: 1.39401\n"
     ]
    },
    {
     "name": "stderr",
     "output_type": "stream",
     "text": [
      "\u001b[32m[I 2021-07-31 13:19:28,248]\u001b[0m Trial 75 finished with value: -1.3904139360727952 and parameters: {'max_depth': 11, 'min_child_weight': 16, 'subsample': 0.5, 'colsample_bytree': 0.8, 'reg_lambda': 48.055184599438185, 'reg_alpha': 0.19340644691637715, 'feature_fraction': 0.7658899570724944, 'bagging_fraction': 0.3075829261688704, 'bagging_freq': 9, 'num_leaves': 672, 'min_child_samples': 38}. Best is trial 62 with value: -1.3841687511366425.\u001b[0m\n"
     ]
    },
    {
     "name": "stdout",
     "output_type": "stream",
     "text": [
      "Early stopping, best iteration is:\n",
      "[72]\ttraining's l1: 0.87967\tvalid_1's l1: 1.39047\n",
      "[LightGBM] [Warning] feature_fraction is set=0.9587660408566218, colsample_bytree=0.9 will be ignored. Current value: feature_fraction=0.9587660408566218\n",
      "[LightGBM] [Warning] bagging_fraction is set=0.24826629305774703, subsample=0.6 will be ignored. Current value: bagging_fraction=0.24826629305774703\n",
      "[LightGBM] [Warning] bagging_freq is set=10, subsample_freq=0 will be ignored. Current value: bagging_freq=10\n",
      "Training until validation scores don't improve for 100 rounds\n",
      "[100]\ttraining's l1: 1.06683\tvalid_1's l1: 1.45658\n",
      "[200]\ttraining's l1: 1.05726\tvalid_1's l1: 1.44791\n",
      "[300]\ttraining's l1: 1.04803\tvalid_1's l1: 1.43724\n",
      "[400]\ttraining's l1: 1.04366\tvalid_1's l1: 1.43369\n",
      "[500]\ttraining's l1: 1.04096\tvalid_1's l1: 1.43118\n",
      "[600]\ttraining's l1: 1.02397\tvalid_1's l1: 1.42443\n",
      "[700]\ttraining's l1: 1.01228\tvalid_1's l1: 1.41989\n",
      "[800]\ttraining's l1: 1.00347\tvalid_1's l1: 1.41884\n",
      "[900]\ttraining's l1: 0.995924\tvalid_1's l1: 1.41522\n",
      "[1000]\ttraining's l1: 0.990986\tvalid_1's l1: 1.41292\n",
      "[1100]\ttraining's l1: 0.986097\tvalid_1's l1: 1.41275\n",
      "[1200]\ttraining's l1: 0.980136\tvalid_1's l1: 1.41425\n",
      "Early stopping, best iteration is:\n",
      "[1115]\ttraining's l1: 0.985311\tvalid_1's l1: 1.41257\n"
     ]
    },
    {
     "name": "stderr",
     "output_type": "stream",
     "text": [
      "\u001b[32m[I 2021-07-31 13:19:41,896]\u001b[0m Trial 76 finished with value: -1.4118311314932 and parameters: {'max_depth': 3, 'min_child_weight': 11, 'subsample': 0.6, 'colsample_bytree': 0.9, 'reg_lambda': 1.7139121465012088, 'reg_alpha': 0.03654159244563478, 'feature_fraction': 0.9587660408566218, 'bagging_fraction': 0.24826629305774703, 'bagging_freq': 10, 'num_leaves': 952, 'min_child_samples': 33}. Best is trial 62 with value: -1.3841687511366425.\u001b[0m\n"
     ]
    },
    {
     "name": "stdout",
     "output_type": "stream",
     "text": [
      "[LightGBM] [Warning] feature_fraction is set=0.8447459185397609, colsample_bytree=0.8 will be ignored. Current value: feature_fraction=0.8447459185397609\n",
      "[LightGBM] [Warning] bagging_fraction is set=0.27959813150122165, subsample=0.6 will be ignored. Current value: bagging_fraction=0.27959813150122165\n",
      "[LightGBM] [Warning] bagging_freq is set=7, subsample_freq=0 will be ignored. Current value: bagging_freq=7\n",
      "Training until validation scores don't improve for 100 rounds\n",
      "[100]\ttraining's l1: 0.828693\tvalid_1's l1: 1.4127\n"
     ]
    },
    {
     "name": "stderr",
     "output_type": "stream",
     "text": [
      "\u001b[32m[I 2021-07-31 13:19:50,866]\u001b[0m Trial 77 finished with value: -1.3960026826438787 and parameters: {'max_depth': 12, 'min_child_weight': 13, 'subsample': 0.6, 'colsample_bytree': 0.8, 'reg_lambda': 17.413679635758015, 'reg_alpha': 0.33513050458384863, 'feature_fraction': 0.8447459185397609, 'bagging_fraction': 0.27959813150122165, 'bagging_freq': 7, 'num_leaves': 622, 'min_child_samples': 25}. Best is trial 62 with value: -1.3841687511366425.\u001b[0m\n"
     ]
    },
    {
     "name": "stdout",
     "output_type": "stream",
     "text": [
      "Early stopping, best iteration is:\n",
      "[73]\ttraining's l1: 0.855967\tvalid_1's l1: 1.3961\n",
      "[LightGBM] [Warning] feature_fraction is set=0.8012292429469983, colsample_bytree=0.9 will be ignored. Current value: feature_fraction=0.8012292429469983\n",
      "[LightGBM] [Warning] bagging_fraction is set=0.23874572068499167, subsample=0.8 will be ignored. Current value: bagging_fraction=0.23874572068499167\n",
      "[LightGBM] [Warning] bagging_freq is set=8, subsample_freq=0 will be ignored. Current value: bagging_freq=8\n",
      "Training until validation scores don't improve for 100 rounds\n",
      "[100]\ttraining's l1: 0.917951\tvalid_1's l1: 1.3998\n",
      "[200]\ttraining's l1: 0.911505\tvalid_1's l1: 1.40191\n"
     ]
    },
    {
     "name": "stderr",
     "output_type": "stream",
     "text": [
      "\u001b[32m[I 2021-07-31 13:19:56,533]\u001b[0m Trial 78 finished with value: -1.3989829906440783 and parameters: {'max_depth': 8, 'min_child_weight': 14, 'subsample': 0.8, 'colsample_bytree': 0.9, 'reg_lambda': 8.974088754816073, 'reg_alpha': 0.10750362202170986, 'feature_fraction': 0.8012292429469983, 'bagging_fraction': 0.23874572068499167, 'bagging_freq': 8, 'num_leaves': 839, 'min_child_samples': 28}. Best is trial 62 with value: -1.3841687511366425.\u001b[0m\n"
     ]
    },
    {
     "name": "stdout",
     "output_type": "stream",
     "text": [
      "Early stopping, best iteration is:\n",
      "[119]\ttraining's l1: 0.915111\tvalid_1's l1: 1.39909\n",
      "[LightGBM] [Warning] feature_fraction is set=0.8315292583405552, colsample_bytree=0.8 will be ignored. Current value: feature_fraction=0.8315292583405552\n",
      "[LightGBM] [Warning] bagging_fraction is set=0.2035014106336551, subsample=0.6 will be ignored. Current value: bagging_fraction=0.2035014106336551\n",
      "[LightGBM] [Warning] bagging_freq is set=11, subsample_freq=0 will be ignored. Current value: bagging_freq=11\n",
      "Training until validation scores don't improve for 100 rounds\n",
      "[100]\ttraining's l1: 1.00259\tvalid_1's l1: 1.4166\n",
      "[200]\ttraining's l1: 0.99233\tvalid_1's l1: 1.41031\n",
      "[300]\ttraining's l1: 0.978772\tvalid_1's l1: 1.40466\n",
      "[400]\ttraining's l1: 0.966348\tvalid_1's l1: 1.4025\n",
      "[500]\ttraining's l1: 0.94606\tvalid_1's l1: 1.40339\n",
      "Early stopping, best iteration is:\n",
      "[408]\ttraining's l1: 0.965894\tvalid_1's l1: 1.40245\n"
     ]
    },
    {
     "name": "stderr",
     "output_type": "stream",
     "text": [
      "\u001b[32m[I 2021-07-31 13:20:03,553]\u001b[0m Trial 79 finished with value: -1.4021637838580778 and parameters: {'max_depth': 5, 'min_child_weight': 15, 'subsample': 0.6, 'colsample_bytree': 0.8, 'reg_lambda': 4.758091231117586, 'reg_alpha': 1.1394735323649239, 'feature_fraction': 0.8315292583405552, 'bagging_fraction': 0.2035014106336551, 'bagging_freq': 11, 'num_leaves': 767, 'min_child_samples': 40}. Best is trial 62 with value: -1.3841687511366425.\u001b[0m\n"
     ]
    },
    {
     "name": "stdout",
     "output_type": "stream",
     "text": [
      "[LightGBM] [Warning] feature_fraction is set=0.8856854745490622, colsample_bytree=0.9 will be ignored. Current value: feature_fraction=0.8856854745490622\n",
      "[LightGBM] [Warning] bagging_fraction is set=0.32700167382158946, subsample=0.8 will be ignored. Current value: bagging_fraction=0.32700167382158946\n",
      "[LightGBM] [Warning] bagging_freq is set=6, subsample_freq=0 will be ignored. Current value: bagging_freq=6\n",
      "Training until validation scores don't improve for 100 rounds\n",
      "[100]\ttraining's l1: 0.902578\tvalid_1's l1: 1.38789\n"
     ]
    },
    {
     "name": "stderr",
     "output_type": "stream",
     "text": [
      "\u001b[32m[I 2021-07-31 13:20:10,140]\u001b[0m Trial 80 finished with value: -1.3867970999986128 and parameters: {'max_depth': 9, 'min_child_weight': 15, 'subsample': 0.8, 'colsample_bytree': 0.9, 'reg_lambda': 101.96429948967112, 'reg_alpha': 0.05120638875539278, 'feature_fraction': 0.8856854745490622, 'bagging_fraction': 0.32700167382158946, 'bagging_freq': 6, 'num_leaves': 576, 'min_child_samples': 79}. Best is trial 62 with value: -1.3841687511366425.\u001b[0m\n"
     ]
    },
    {
     "name": "stdout",
     "output_type": "stream",
     "text": [
      "Early stopping, best iteration is:\n",
      "[91]\ttraining's l1: 0.905417\tvalid_1's l1: 1.38686\n",
      "[LightGBM] [Warning] feature_fraction is set=0.9182011224031124, colsample_bytree=0.9 will be ignored. Current value: feature_fraction=0.9182011224031124\n",
      "[LightGBM] [Warning] bagging_fraction is set=0.3752779131119939, subsample=0.8 will be ignored. Current value: bagging_fraction=0.3752779131119939\n",
      "[LightGBM] [Warning] bagging_freq is set=5, subsample_freq=0 will be ignored. Current value: bagging_freq=5\n",
      "Training until validation scores don't improve for 100 rounds\n",
      "[100]\ttraining's l1: 0.913342\tvalid_1's l1: 1.39239\n",
      "[200]\ttraining's l1: 0.894898\tvalid_1's l1: 1.39262\n",
      "Early stopping, best iteration is:\n",
      "[126]\ttraining's l1: 0.905327\tvalid_1's l1: 1.38964\n"
     ]
    },
    {
     "name": "stderr",
     "output_type": "stream",
     "text": [
      "\u001b[32m[I 2021-07-31 13:20:18,272]\u001b[0m Trial 81 finished with value: -1.3895804706440427 and parameters: {'max_depth': 9, 'min_child_weight': 15, 'subsample': 0.8, 'colsample_bytree': 0.9, 'reg_lambda': 162.4166561354117, 'reg_alpha': 0.057767083314128456, 'feature_fraction': 0.9182011224031124, 'bagging_fraction': 0.3752779131119939, 'bagging_freq': 5, 'num_leaves': 650, 'min_child_samples': 79}. Best is trial 62 with value: -1.3841687511366425.\u001b[0m\n"
     ]
    },
    {
     "name": "stdout",
     "output_type": "stream",
     "text": [
      "[LightGBM] [Warning] feature_fraction is set=0.9267042563886658, colsample_bytree=0.9 will be ignored. Current value: feature_fraction=0.9267042563886658\n",
      "[LightGBM] [Warning] bagging_fraction is set=0.3649820295266281, subsample=0.8 will be ignored. Current value: bagging_fraction=0.3649820295266281\n",
      "[LightGBM] [Warning] bagging_freq is set=4, subsample_freq=0 will be ignored. Current value: bagging_freq=4\n",
      "Training until validation scores don't improve for 100 rounds\n",
      "[100]\ttraining's l1: 0.888286\tvalid_1's l1: 1.39673\n"
     ]
    },
    {
     "name": "stderr",
     "output_type": "stream",
     "text": [
      "\u001b[32m[I 2021-07-31 13:20:25,663]\u001b[0m Trial 82 finished with value: -1.3928241256867746 and parameters: {'max_depth': 10, 'min_child_weight': 17, 'subsample': 0.8, 'colsample_bytree': 0.9, 'reg_lambda': 137.05488245696935, 'reg_alpha': 0.05335182394913679, 'feature_fraction': 0.9267042563886658, 'bagging_fraction': 0.3649820295266281, 'bagging_freq': 4, 'num_leaves': 629, 'min_child_samples': 78}. Best is trial 62 with value: -1.3841687511366425.\u001b[0m\n"
     ]
    },
    {
     "name": "stdout",
     "output_type": "stream",
     "text": [
      "Early stopping, best iteration is:\n",
      "[80]\ttraining's l1: 0.894468\tvalid_1's l1: 1.39289\n",
      "[LightGBM] [Warning] feature_fraction is set=0.8833311399778327, colsample_bytree=0.9 will be ignored. Current value: feature_fraction=0.8833311399778327\n",
      "[LightGBM] [Warning] bagging_fraction is set=0.32907718250666773, subsample=0.8 will be ignored. Current value: bagging_fraction=0.32907718250666773\n",
      "[LightGBM] [Warning] bagging_freq is set=5, subsample_freq=0 will be ignored. Current value: bagging_freq=5\n",
      "Training until validation scores don't improve for 100 rounds\n",
      "[100]\ttraining's l1: 0.915111\tvalid_1's l1: 1.39071\n",
      "[200]\ttraining's l1: 0.900142\tvalid_1's l1: 1.39042\n",
      "Early stopping, best iteration is:\n",
      "[148]\ttraining's l1: 0.904929\tvalid_1's l1: 1.38785\n"
     ]
    },
    {
     "name": "stderr",
     "output_type": "stream",
     "text": [
      "\u001b[32m[I 2021-07-31 13:20:33,805]\u001b[0m Trial 83 finished with value: -1.3878097298314784 and parameters: {'max_depth': 9, 'min_child_weight': 15, 'subsample': 0.8, 'colsample_bytree': 0.9, 'reg_lambda': 478.40436325688626, 'reg_alpha': 0.12286856655719318, 'feature_fraction': 0.8833311399778327, 'bagging_fraction': 0.32907718250666773, 'bagging_freq': 5, 'num_leaves': 574, 'min_child_samples': 70}. Best is trial 62 with value: -1.3841687511366425.\u001b[0m\n"
     ]
    },
    {
     "name": "stdout",
     "output_type": "stream",
     "text": [
      "[LightGBM] [Warning] feature_fraction is set=0.8844057606686735, colsample_bytree=0.9 will be ignored. Current value: feature_fraction=0.8844057606686735\n",
      "[LightGBM] [Warning] bagging_fraction is set=0.42447591114968003, subsample=0.8 will be ignored. Current value: bagging_fraction=0.42447591114968003\n",
      "[LightGBM] [Warning] bagging_freq is set=5, subsample_freq=0 will be ignored. Current value: bagging_freq=5\n",
      "Training until validation scores don't improve for 100 rounds\n",
      "[100]\ttraining's l1: 0.973816\tvalid_1's l1: 1.40982\n",
      "[200]\ttraining's l1: 0.960319\tvalid_1's l1: 1.40432\n",
      "[300]\ttraining's l1: 0.954375\tvalid_1's l1: 1.4006\n",
      "[400]\ttraining's l1: 0.950991\tvalid_1's l1: 1.39876\n",
      "[500]\ttraining's l1: 0.948405\tvalid_1's l1: 1.39829\n",
      "Early stopping, best iteration is:\n",
      "[461]\ttraining's l1: 0.949104\tvalid_1's l1: 1.39792\n"
     ]
    },
    {
     "name": "stderr",
     "output_type": "stream",
     "text": [
      "\u001b[32m[I 2021-07-31 13:20:47,557]\u001b[0m Trial 84 finished with value: -1.3978569758253794 and parameters: {'max_depth': 11, 'min_child_weight': 18, 'subsample': 0.8, 'colsample_bytree': 0.9, 'reg_lambda': 435.81912047132425, 'reg_alpha': 658.2485804778219, 'feature_fraction': 0.8844057606686735, 'bagging_fraction': 0.42447591114968003, 'bagging_freq': 5, 'num_leaves': 558, 'min_child_samples': 81}. Best is trial 62 with value: -1.3841687511366425.\u001b[0m\n"
     ]
    },
    {
     "name": "stdout",
     "output_type": "stream",
     "text": [
      "[LightGBM] [Warning] feature_fraction is set=0.9667642493873418, colsample_bytree=0.9 will be ignored. Current value: feature_fraction=0.9667642493873418\n",
      "[LightGBM] [Warning] bagging_fraction is set=0.33962530411426817, subsample=0.8 will be ignored. Current value: bagging_fraction=0.33962530411426817\n",
      "[LightGBM] [Warning] bagging_freq is set=4, subsample_freq=0 will be ignored. Current value: bagging_freq=4\n",
      "Training until validation scores don't improve for 100 rounds\n",
      "[100]\ttraining's l1: 0.910545\tvalid_1's l1: 1.39539\n"
     ]
    },
    {
     "name": "stderr",
     "output_type": "stream",
     "text": [
      "\u001b[32m[I 2021-07-31 13:20:55,912]\u001b[0m Trial 85 finished with value: -1.393887475683785 and parameters: {'max_depth': 9, 'min_child_weight': 15, 'subsample': 0.8, 'colsample_bytree': 0.9, 'reg_lambda': 601.6585908382615, 'reg_alpha': 0.016562818729122207, 'feature_fraction': 0.9667642493873418, 'bagging_fraction': 0.33962530411426817, 'bagging_freq': 4, 'num_leaves': 588, 'min_child_samples': 75}. Best is trial 62 with value: -1.3841687511366425.\u001b[0m\n"
     ]
    },
    {
     "name": "stdout",
     "output_type": "stream",
     "text": [
      "Early stopping, best iteration is:\n",
      "[95]\ttraining's l1: 0.912945\tvalid_1's l1: 1.39393\n",
      "[LightGBM] [Warning] feature_fraction is set=0.9144234838510626, colsample_bytree=0.9 will be ignored. Current value: feature_fraction=0.9144234838510626\n",
      "[LightGBM] [Warning] bagging_fraction is set=0.30839316798297106, subsample=0.8 will be ignored. Current value: bagging_fraction=0.30839316798297106\n",
      "[LightGBM] [Warning] bagging_freq is set=5, subsample_freq=0 will be ignored. Current value: bagging_freq=5\n",
      "Training until validation scores don't improve for 100 rounds\n",
      "[100]\ttraining's l1: 0.895358\tvalid_1's l1: 1.39422\n"
     ]
    },
    {
     "name": "stderr",
     "output_type": "stream",
     "text": [
      "\u001b[32m[I 2021-07-31 13:21:02,551]\u001b[0m Trial 86 finished with value: -1.3937398957095735 and parameters: {'max_depth': 10, 'min_child_weight': 16, 'subsample': 0.8, 'colsample_bytree': 0.9, 'reg_lambda': 88.54174126568526, 'reg_alpha': 0.028245546331331313, 'feature_fraction': 0.9144234838510626, 'bagging_fraction': 0.30839316798297106, 'bagging_freq': 5, 'num_leaves': 697, 'min_child_samples': 87}. Best is trial 62 with value: -1.3841687511366425.\u001b[0m\n"
     ]
    },
    {
     "name": "stdout",
     "output_type": "stream",
     "text": [
      "Early stopping, best iteration is:\n",
      "[81]\ttraining's l1: 0.898312\tvalid_1's l1: 1.39378\n",
      "[LightGBM] [Warning] feature_fraction is set=0.8595558347072607, colsample_bytree=0.9 will be ignored. Current value: feature_fraction=0.8595558347072607\n",
      "[LightGBM] [Warning] bagging_fraction is set=0.3651012634104235, subsample=0.8 will be ignored. Current value: bagging_fraction=0.3651012634104235\n",
      "[LightGBM] [Warning] bagging_freq is set=3, subsample_freq=0 will be ignored. Current value: bagging_freq=3\n",
      "Training until validation scores don't improve for 100 rounds\n",
      "[100]\ttraining's l1: 0.914359\tvalid_1's l1: 1.38993\n",
      "[200]\ttraining's l1: 0.883214\tvalid_1's l1: 1.39304\n",
      "Early stopping, best iteration is:\n",
      "[184]\ttraining's l1: 0.891111\tvalid_1's l1: 1.38768\n"
     ]
    },
    {
     "name": "stderr",
     "output_type": "stream",
     "text": [
      "\u001b[32m[I 2021-07-31 13:21:14,583]\u001b[0m Trial 87 finished with value: -1.3875826575056422 and parameters: {'max_depth': 9, 'min_child_weight': 13, 'subsample': 0.8, 'colsample_bytree': 0.9, 'reg_lambda': 222.06953988744166, 'reg_alpha': 0.06706611456456471, 'feature_fraction': 0.8595558347072607, 'bagging_fraction': 0.3651012634104235, 'bagging_freq': 3, 'num_leaves': 652, 'min_child_samples': 65}. Best is trial 62 with value: -1.3841687511366425.\u001b[0m\n"
     ]
    },
    {
     "name": "stdout",
     "output_type": "stream",
     "text": [
      "[LightGBM] [Warning] feature_fraction is set=0.8668287542459032, colsample_bytree=0.9 will be ignored. Current value: feature_fraction=0.8668287542459032\n",
      "[LightGBM] [Warning] bagging_fraction is set=0.32776802050145676, subsample=0.8 will be ignored. Current value: bagging_fraction=0.32776802050145676\n",
      "[LightGBM] [Warning] bagging_freq is set=1, subsample_freq=0 will be ignored. Current value: bagging_freq=1\n",
      "Training until validation scores don't improve for 100 rounds\n",
      "[100]\ttraining's l1: 0.844307\tvalid_1's l1: 1.40115\n"
     ]
    },
    {
     "name": "stderr",
     "output_type": "stream",
     "text": [
      "\u001b[32m[I 2021-07-31 13:21:25,862]\u001b[0m Trial 88 finished with value: -1.3952468473875204 and parameters: {'max_depth': 20, 'min_child_weight': 13, 'subsample': 0.8, 'colsample_bytree': 0.9, 'reg_lambda': 271.2507297107217, 'reg_alpha': 0.1845656266289179, 'feature_fraction': 0.8668287542459032, 'bagging_fraction': 0.32776802050145676, 'bagging_freq': 1, 'num_leaves': 576, 'min_child_samples': 71}. Best is trial 62 with value: -1.3841687511366425.\u001b[0m\n"
     ]
    },
    {
     "name": "stdout",
     "output_type": "stream",
     "text": [
      "Early stopping, best iteration is:\n",
      "[54]\ttraining's l1: 0.881775\tvalid_1's l1: 1.39532\n",
      "[LightGBM] [Warning] feature_fraction is set=0.8530402054073271, colsample_bytree=0.8 will be ignored. Current value: feature_fraction=0.8530402054073271\n",
      "[LightGBM] [Warning] bagging_fraction is set=0.4806102526454893, subsample=0.8 will be ignored. Current value: bagging_fraction=0.4806102526454893\n",
      "[LightGBM] [Warning] bagging_freq is set=3, subsample_freq=0 will be ignored. Current value: bagging_freq=3\n",
      "Training until validation scores don't improve for 100 rounds\n",
      "[100]\ttraining's l1: 0.855784\tvalid_1's l1: 1.39807\n"
     ]
    },
    {
     "name": "stderr",
     "output_type": "stream",
     "text": [
      "\u001b[32m[I 2021-07-31 13:21:34,222]\u001b[0m Trial 89 finished with value: -1.3949705548427827 and parameters: {'max_depth': 10, 'min_child_weight': 12, 'subsample': 0.8, 'colsample_bytree': 0.8, 'reg_lambda': 0.75378338356173, 'reg_alpha': 0.08178563147356178, 'feature_fraction': 0.8530402054073271, 'bagging_fraction': 0.4806102526454893, 'bagging_freq': 3, 'num_leaves': 521, 'min_child_samples': 63}. Best is trial 62 with value: -1.3841687511366425.\u001b[0m\n"
     ]
    },
    {
     "name": "stdout",
     "output_type": "stream",
     "text": [
      "Early stopping, best iteration is:\n",
      "[62]\ttraining's l1: 0.886901\tvalid_1's l1: 1.39506\n",
      "[LightGBM] [Warning] feature_fraction is set=0.8885984869722334, colsample_bytree=0.9 will be ignored. Current value: feature_fraction=0.8885984869722334\n",
      "[LightGBM] [Warning] bagging_fraction is set=0.39752249189637895, subsample=0.8 will be ignored. Current value: bagging_fraction=0.39752249189637895\n",
      "[LightGBM] [Warning] bagging_freq is set=3, subsample_freq=0 will be ignored. Current value: bagging_freq=3\n",
      "Training until validation scores don't improve for 100 rounds\n",
      "[100]\ttraining's l1: 0.873199\tvalid_1's l1: 1.39731\n"
     ]
    },
    {
     "name": "stderr",
     "output_type": "stream",
     "text": [
      "\u001b[32m[I 2021-07-31 13:21:43,809]\u001b[0m Trial 90 finished with value: -1.3915907833873693 and parameters: {'max_depth': 12, 'min_child_weight': 14, 'subsample': 0.8, 'colsample_bytree': 0.9, 'reg_lambda': 994.2705945441087, 'reg_alpha': 0.5807994611724545, 'feature_fraction': 0.8885984869722334, 'bagging_fraction': 0.39752249189637895, 'bagging_freq': 3, 'num_leaves': 609, 'min_child_samples': 66}. Best is trial 62 with value: -1.3841687511366425.\u001b[0m\n"
     ]
    },
    {
     "name": "stdout",
     "output_type": "stream",
     "text": [
      "Early stopping, best iteration is:\n",
      "[74]\ttraining's l1: 0.898541\tvalid_1's l1: 1.39164\n",
      "[LightGBM] [Warning] feature_fraction is set=0.8146060934605415, colsample_bytree=0.9 will be ignored. Current value: feature_fraction=0.8146060934605415\n",
      "[LightGBM] [Warning] bagging_fraction is set=0.3678983134541616, subsample=0.8 will be ignored. Current value: bagging_fraction=0.3678983134541616\n",
      "[LightGBM] [Warning] bagging_freq is set=6, subsample_freq=0 will be ignored. Current value: bagging_freq=6\n",
      "Training until validation scores don't improve for 100 rounds\n",
      "[100]\ttraining's l1: 0.915188\tvalid_1's l1: 1.39127\n",
      "[200]\ttraining's l1: 0.901519\tvalid_1's l1: 1.38857\n",
      "[300]\ttraining's l1: 0.896972\tvalid_1's l1: 1.38998\n",
      "Early stopping, best iteration is:\n",
      "[235]\ttraining's l1: 0.900909\tvalid_1's l1: 1.38826\n"
     ]
    },
    {
     "name": "stderr",
     "output_type": "stream",
     "text": [
      "\u001b[32m[I 2021-07-31 13:21:54,044]\u001b[0m Trial 91 finished with value: -1.3881759689693696 and parameters: {'max_depth': 9, 'min_child_weight': 17, 'subsample': 0.8, 'colsample_bytree': 0.9, 'reg_lambda': 700.7989591358339, 'reg_alpha': 0.06508607236085132, 'feature_fraction': 0.8146060934605415, 'bagging_fraction': 0.3678983134541616, 'bagging_freq': 6, 'num_leaves': 649, 'min_child_samples': 70}. Best is trial 62 with value: -1.3841687511366425.\u001b[0m\n"
     ]
    },
    {
     "name": "stdout",
     "output_type": "stream",
     "text": [
      "[LightGBM] [Warning] feature_fraction is set=0.8164039661200264, colsample_bytree=0.9 will be ignored. Current value: feature_fraction=0.8164039661200264\n",
      "[LightGBM] [Warning] bagging_fraction is set=0.4616955439830269, subsample=0.8 will be ignored. Current value: bagging_fraction=0.4616955439830269\n",
      "[LightGBM] [Warning] bagging_freq is set=6, subsample_freq=0 will be ignored. Current value: bagging_freq=6\n",
      "Training until validation scores don't improve for 100 rounds\n",
      "[100]\ttraining's l1: 0.935116\tvalid_1's l1: 1.39572\n",
      "[200]\ttraining's l1: 0.927824\tvalid_1's l1: 1.39534\n",
      "[300]\ttraining's l1: 0.923264\tvalid_1's l1: 1.39594\n",
      "Early stopping, best iteration is:\n",
      "[267]\ttraining's l1: 0.925026\tvalid_1's l1: 1.39367\n"
     ]
    },
    {
     "name": "stderr",
     "output_type": "stream",
     "text": [
      "\u001b[32m[I 2021-07-31 13:22:04,608]\u001b[0m Trial 92 finished with value: -1.3936128243137484 and parameters: {'max_depth': 8, 'min_child_weight': 17, 'subsample': 0.8, 'colsample_bytree': 0.9, 'reg_lambda': 494.0106999002595, 'reg_alpha': 0.14773340687505998, 'feature_fraction': 0.8164039661200264, 'bagging_fraction': 0.4616955439830269, 'bagging_freq': 6, 'num_leaves': 658, 'min_child_samples': 69}. Best is trial 62 with value: -1.3841687511366425.\u001b[0m\n"
     ]
    },
    {
     "name": "stdout",
     "output_type": "stream",
     "text": [
      "[LightGBM] [Warning] feature_fraction is set=0.843304800512201, colsample_bytree=0.9 will be ignored. Current value: feature_fraction=0.843304800512201\n",
      "[LightGBM] [Warning] bagging_fraction is set=0.41669932584357466, subsample=0.8 will be ignored. Current value: bagging_fraction=0.41669932584357466\n",
      "[LightGBM] [Warning] bagging_freq is set=2, subsample_freq=0 will be ignored. Current value: bagging_freq=2\n",
      "Training until validation scores don't improve for 100 rounds\n",
      "[100]\ttraining's l1: 0.916577\tvalid_1's l1: 1.39304\n",
      "[200]\ttraining's l1: 0.905138\tvalid_1's l1: 1.3924\n",
      "[300]\ttraining's l1: 0.89634\tvalid_1's l1: 1.395\n",
      "Early stopping, best iteration is:\n",
      "[223]\ttraining's l1: 0.901199\tvalid_1's l1: 1.3923\n"
     ]
    },
    {
     "name": "stderr",
     "output_type": "stream",
     "text": [
      "\u001b[32m[I 2021-07-31 13:22:16,537]\u001b[0m Trial 93 finished with value: -1.392231990298393 and parameters: {'max_depth': 9, 'min_child_weight': 17, 'subsample': 0.8, 'colsample_bytree': 0.9, 'reg_lambda': 305.78928016047064, 'reg_alpha': 0.0389818079129465, 'feature_fraction': 0.843304800512201, 'bagging_fraction': 0.41669932584357466, 'bagging_freq': 2, 'num_leaves': 713, 'min_child_samples': 68}. Best is trial 62 with value: -1.3841687511366425.\u001b[0m\n"
     ]
    },
    {
     "name": "stdout",
     "output_type": "stream",
     "text": [
      "[LightGBM] [Warning] feature_fraction is set=0.7964756214562654, colsample_bytree=0.9 will be ignored. Current value: feature_fraction=0.7964756214562654\n",
      "[LightGBM] [Warning] bagging_fraction is set=0.3684394323985059, subsample=0.8 will be ignored. Current value: bagging_fraction=0.3684394323985059\n",
      "[LightGBM] [Warning] bagging_freq is set=6, subsample_freq=0 will be ignored. Current value: bagging_freq=6\n",
      "Training until validation scores don't improve for 100 rounds\n",
      "[100]\ttraining's l1: 0.844944\tvalid_1's l1: 1.39958\n"
     ]
    },
    {
     "name": "stderr",
     "output_type": "stream",
     "text": [
      "\u001b[32m[I 2021-07-31 13:22:24,684]\u001b[0m Trial 94 finished with value: -1.392575080169874 and parameters: {'max_depth': 13, 'min_child_weight': 18, 'subsample': 0.8, 'colsample_bytree': 0.9, 'reg_lambda': 107.4826809379972, 'reg_alpha': 0.2966642508106413, 'feature_fraction': 0.7964756214562654, 'bagging_fraction': 0.3684394323985059, 'bagging_freq': 6, 'num_leaves': 690, 'min_child_samples': 71}. Best is trial 62 with value: -1.3841687511366425.\u001b[0m\n"
     ]
    },
    {
     "name": "stdout",
     "output_type": "stream",
     "text": [
      "Early stopping, best iteration is:\n",
      "[59]\ttraining's l1: 0.873724\tvalid_1's l1: 1.39262\n",
      "[LightGBM] [Warning] feature_fraction is set=0.8630282613599689, colsample_bytree=0.8 will be ignored. Current value: feature_fraction=0.8630282613599689\n",
      "[LightGBM] [Warning] bagging_fraction is set=0.3354865227026855, subsample=0.8 will be ignored. Current value: bagging_fraction=0.3354865227026855\n",
      "[LightGBM] [Warning] bagging_freq is set=7, subsample_freq=0 will be ignored. Current value: bagging_freq=7\n",
      "Training until validation scores don't improve for 100 rounds\n",
      "[100]\ttraining's l1: 0.887882\tvalid_1's l1: 1.39233\n",
      "[200]\ttraining's l1: 0.856385\tvalid_1's l1: 1.39645\n",
      "Early stopping, best iteration is:\n",
      "[101]\ttraining's l1: 0.886089\tvalid_1's l1: 1.39158\n"
     ]
    },
    {
     "name": "stderr",
     "output_type": "stream",
     "text": [
      "\u001b[32m[I 2021-07-31 13:22:33,356]\u001b[0m Trial 95 finished with value: -1.3915033088985516 and parameters: {'max_depth': 11, 'min_child_weight': 16, 'subsample': 0.8, 'colsample_bytree': 0.8, 'reg_lambda': 824.447635692603, 'reg_alpha': 0.07881708801873928, 'feature_fraction': 0.8630282613599689, 'bagging_fraction': 0.3354865227026855, 'bagging_freq': 7, 'num_leaves': 644, 'min_child_samples': 56}. Best is trial 62 with value: -1.3841687511366425.\u001b[0m\n"
     ]
    },
    {
     "name": "stdout",
     "output_type": "stream",
     "text": [
      "[LightGBM] [Warning] feature_fraction is set=0.944755776818242, colsample_bytree=0.9 will be ignored. Current value: feature_fraction=0.944755776818242\n",
      "[LightGBM] [Warning] bagging_fraction is set=0.29596434500137264, subsample=0.8 will be ignored. Current value: bagging_fraction=0.29596434500137264\n",
      "[LightGBM] [Warning] bagging_freq is set=5, subsample_freq=0 will be ignored. Current value: bagging_freq=5\n",
      "Training until validation scores don't improve for 100 rounds\n",
      "[100]\ttraining's l1: 0.888471\tvalid_1's l1: 1.40153\n"
     ]
    },
    {
     "name": "stderr",
     "output_type": "stream",
     "text": [
      "\u001b[32m[I 2021-07-31 13:22:42,606]\u001b[0m Trial 96 finished with value: -1.3929354198666828 and parameters: {'max_depth': 12, 'min_child_weight': 20, 'subsample': 0.8, 'colsample_bytree': 0.9, 'reg_lambda': 654.7984413135816, 'reg_alpha': 0.39430507118394104, 'feature_fraction': 0.944755776818242, 'bagging_fraction': 0.29596434500137264, 'bagging_freq': 5, 'num_leaves': 595, 'min_child_samples': 74}. Best is trial 62 with value: -1.3841687511366425.\u001b[0m\n"
     ]
    },
    {
     "name": "stdout",
     "output_type": "stream",
     "text": [
      "Early stopping, best iteration is:\n",
      "[73]\ttraining's l1: 0.908738\tvalid_1's l1: 1.393\n",
      "[LightGBM] [Warning] feature_fraction is set=0.7813929205081197, colsample_bytree=0.9 will be ignored. Current value: feature_fraction=0.7813929205081197\n",
      "[LightGBM] [Warning] bagging_fraction is set=0.53119301272511, subsample=0.8 will be ignored. Current value: bagging_fraction=0.53119301272511\n",
      "[LightGBM] [Warning] bagging_freq is set=4, subsample_freq=0 will be ignored. Current value: bagging_freq=4\n",
      "Training until validation scores don't improve for 100 rounds\n",
      "[100]\ttraining's l1: 0.816967\tvalid_1's l1: 1.41147\n"
     ]
    },
    {
     "name": "stderr",
     "output_type": "stream",
     "text": [
      "\u001b[32m[I 2021-07-31 13:22:52,690]\u001b[0m Trial 97 finished with value: -1.3985068393253006 and parameters: {'max_depth': 14, 'min_child_weight': 13, 'subsample': 0.8, 'colsample_bytree': 0.9, 'reg_lambda': 19.94471473069723, 'reg_alpha': 0.010419169555583512, 'feature_fraction': 0.7813929205081197, 'bagging_fraction': 0.53119301272511, 'bagging_freq': 4, 'num_leaves': 505, 'min_child_samples': 83}. Best is trial 62 with value: -1.3841687511366425.\u001b[0m\n"
     ]
    },
    {
     "name": "stdout",
     "output_type": "stream",
     "text": [
      "Early stopping, best iteration is:\n",
      "[50]\ttraining's l1: 0.869925\tvalid_1's l1: 1.39856\n",
      "[LightGBM] [Warning] feature_fraction is set=0.8979754525555641, colsample_bytree=0.8 will be ignored. Current value: feature_fraction=0.8979754525555641\n",
      "[LightGBM] [Warning] bagging_fraction is set=0.5675366006096086, subsample=0.8 will be ignored. Current value: bagging_fraction=0.5675366006096086\n",
      "[LightGBM] [Warning] bagging_freq is set=6, subsample_freq=0 will be ignored. Current value: bagging_freq=6\n",
      "Training until validation scores don't improve for 100 rounds\n",
      "[100]\ttraining's l1: 0.947478\tvalid_1's l1: 1.4005\n",
      "[200]\ttraining's l1: 0.943274\tvalid_1's l1: 1.39973\n",
      "[300]\ttraining's l1: 0.938291\tvalid_1's l1: 1.39769\n",
      "[400]\ttraining's l1: 0.93171\tvalid_1's l1: 1.39838\n",
      "Early stopping, best iteration is:\n",
      "[312]\ttraining's l1: 0.937835\tvalid_1's l1: 1.39705\n"
     ]
    },
    {
     "name": "stderr",
     "output_type": "stream",
     "text": [
      "\u001b[32m[I 2021-07-31 13:23:05,382]\u001b[0m Trial 98 finished with value: -1.3970083820795929 and parameters: {'max_depth': 7, 'min_child_weight': 11, 'subsample': 0.8, 'colsample_bytree': 0.8, 'reg_lambda': 239.1559453312337, 'reg_alpha': 0.223162922602733, 'feature_fraction': 0.8979754525555641, 'bagging_fraction': 0.5675366006096086, 'bagging_freq': 6, 'num_leaves': 569, 'min_child_samples': 56}. Best is trial 62 with value: -1.3841687511366425.\u001b[0m\n"
     ]
    },
    {
     "name": "stdout",
     "output_type": "stream",
     "text": [
      "[LightGBM] [Warning] feature_fraction is set=0.8088164782508378, colsample_bytree=0.9 will be ignored. Current value: feature_fraction=0.8088164782508378\n",
      "[LightGBM] [Warning] bagging_fraction is set=0.32081645977281903, subsample=0.8 will be ignored. Current value: bagging_fraction=0.32081645977281903\n",
      "[LightGBM] [Warning] bagging_freq is set=11, subsample_freq=0 will be ignored. Current value: bagging_freq=11\n",
      "Training until validation scores don't improve for 100 rounds\n",
      "[100]\ttraining's l1: 0.919027\tvalid_1's l1: 1.39159\n",
      "[200]\ttraining's l1: 0.905224\tvalid_1's l1: 1.39128\n",
      "Early stopping, best iteration is:\n",
      "[140]\ttraining's l1: 0.912086\tvalid_1's l1: 1.38995\n"
     ]
    },
    {
     "name": "stderr",
     "output_type": "stream",
     "text": [
      "\u001b[32m[I 2021-07-31 13:23:11,926]\u001b[0m Trial 99 finished with value: -1.3898860276026823 and parameters: {'max_depth': 8, 'min_child_weight': 19, 'subsample': 0.8, 'colsample_bytree': 0.9, 'reg_lambda': 6.01875338512368, 'reg_alpha': 0.11005811370291285, 'feature_fraction': 0.8088164782508378, 'bagging_fraction': 0.32081645977281903, 'bagging_freq': 11, 'num_leaves': 543, 'min_child_samples': 73}. Best is trial 62 with value: -1.3841687511366425.\u001b[0m\n"
     ]
    }
   ],
   "source": [
    "study1, study2, study3, study4 = rt4kaido_train.train_and_evaluate(train, isgamedayonly=False)"
   ]
  },
  {
   "cell_type": "code",
   "execution_count": 19,
   "id": "0d08d907",
   "metadata": {},
   "outputs": [
    {
     "name": "stdout",
     "output_type": "stream",
     "text": [
      "best_score = 1.069933994045492\n"
     ]
    },
    {
     "data": {
      "text/plain": [
       "{'max_depth': 15,\n",
       " 'min_child_weight': 10,\n",
       " 'subsample': 0.8,\n",
       " 'colsample_bytree': 0.5,\n",
       " 'reg_lambda': 1.752765990135902,\n",
       " 'reg_alpha': 0.05589605235844888,\n",
       " 'feature_fraction': 0.9236504861796562,\n",
       " 'bagging_fraction': 0.6603561676415426,\n",
       " 'bagging_freq': 12,\n",
       " 'num_leaves': 77,\n",
       " 'min_child_samples': 29}"
      ]
     },
     "execution_count": 19,
     "metadata": {},
     "output_type": "execute_result"
    }
   ],
   "source": [
    "print(f'best_score = {-study1.best_value}')\n",
    "study1.best_trial.params"
   ]
  },
  {
   "cell_type": "code",
   "execution_count": 20,
   "id": "4a68578c",
   "metadata": {},
   "outputs": [
    {
     "name": "stdout",
     "output_type": "stream",
     "text": [
      "best_score = 2.054555412062246\n"
     ]
    },
    {
     "data": {
      "text/plain": [
       "{'max_depth': 13,\n",
       " 'min_child_weight': 1,\n",
       " 'subsample': 0.9,\n",
       " 'colsample_bytree': 0.7,\n",
       " 'reg_lambda': 2.7189074236324413,\n",
       " 'reg_alpha': 0.1145592675167831,\n",
       " 'feature_fraction': 0.9162037195867143,\n",
       " 'bagging_fraction': 0.9463068933885912,\n",
       " 'bagging_freq': 7,\n",
       " 'num_leaves': 596,\n",
       " 'min_child_samples': 59}"
      ]
     },
     "execution_count": 20,
     "metadata": {},
     "output_type": "execute_result"
    }
   ],
   "source": [
    "print(f'best_score = {-study2.best_value}')\n",
    "study2.best_trial.params"
   ]
  },
  {
   "cell_type": "code",
   "execution_count": 21,
   "id": "6ab918f1",
   "metadata": {},
   "outputs": [
    {
     "name": "stdout",
     "output_type": "stream",
     "text": [
      "best_score = 0.8693298975850695\n"
     ]
    },
    {
     "data": {
      "text/plain": [
       "{'max_depth': 9,\n",
       " 'min_child_weight': 14,\n",
       " 'subsample': 0.7,\n",
       " 'colsample_bytree': 0.5,\n",
       " 'reg_lambda': 0.11922354029985313,\n",
       " 'reg_alpha': 0.019441976129951934,\n",
       " 'feature_fraction': 0.9795925866305885,\n",
       " 'bagging_fraction': 0.9156874528956036,\n",
       " 'bagging_freq': 4,\n",
       " 'num_leaves': 495,\n",
       " 'min_child_samples': 31}"
      ]
     },
     "execution_count": 21,
     "metadata": {},
     "output_type": "execute_result"
    }
   ],
   "source": [
    "print(f'best_score = {-study3.best_value}')\n",
    "study3.best_trial.params"
   ]
  },
  {
   "cell_type": "code",
   "execution_count": 22,
   "id": "3d3b3727",
   "metadata": {},
   "outputs": [
    {
     "name": "stdout",
     "output_type": "stream",
     "text": [
      "best_score = 1.3841687511366425\n"
     ]
    },
    {
     "data": {
      "text/plain": [
       "{'max_depth': 11,\n",
       " 'min_child_weight': 7,\n",
       " 'subsample': 0.8,\n",
       " 'colsample_bytree': 0.8,\n",
       " 'reg_lambda': 9.67292591684582,\n",
       " 'reg_alpha': 0.1813674505820697,\n",
       " 'feature_fraction': 0.7616217990348895,\n",
       " 'bagging_fraction': 0.5517976793852356,\n",
       " 'bagging_freq': 10,\n",
       " 'num_leaves': 641,\n",
       " 'min_child_samples': 33}"
      ]
     },
     "execution_count": 22,
     "metadata": {},
     "output_type": "execute_result"
    }
   ],
   "source": [
    "print(f'best_score = {-study4.best_value}')\n",
    "study4.best_trial.params"
   ]
  },
  {
   "cell_type": "code",
   "execution_count": null,
   "id": "91fc63ad",
   "metadata": {},
   "outputs": [],
   "source": []
  }
 ],
 "metadata": {
  "kernelspec": {
   "display_name": "Python 3",
   "language": "python",
   "name": "python3"
  },
  "language_info": {
   "codemirror_mode": {
    "name": "ipython",
    "version": 3
   },
   "file_extension": ".py",
   "mimetype": "text/x-python",
   "name": "python",
   "nbconvert_exporter": "python",
   "pygments_lexer": "ipython3",
   "version": "3.6.13"
  }
 },
 "nbformat": 4,
 "nbformat_minor": 5
}
