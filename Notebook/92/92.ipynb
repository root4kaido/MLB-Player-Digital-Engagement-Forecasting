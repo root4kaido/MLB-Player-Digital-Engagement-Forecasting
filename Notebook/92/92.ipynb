{
 "cells": [
  {
   "cell_type": "code",
   "execution_count": 1,
   "id": "8e09a94c",
   "metadata": {},
   "outputs": [],
   "source": [
    "import gc\n",
    "import os\n",
    "import sys\n",
    "import math\n",
    "import random\n",
    "import warnings\n",
    "import pickle\n",
    "from pathlib import Path\n",
    "from joblib import Parallel, delayed\n",
    "from statsmodels.tsa.deterministic import (CalendarFourier,\n",
    "                                           CalendarSeasonality,\n",
    "                                           CalendarTimeTrend,\n",
    "                                           DeterministicProcess)\n",
    "import pickle\n",
    "import optuna\n",
    "from tqdm import tqdm\n",
    "import os\n",
    "import ipywidgets as widgets\n",
    "import matplotlib.pyplot as plt\n",
    "import numpy as np\n",
    "import pandas as pd\n",
    "import seaborn as sns\n",
    "# from pandarallel import pandarallel\n",
    "# pandarallel.initialize()\n",
    "warnings.simplefilter(\"ignore\")\n",
    "import ctypes as ct\n",
    "from datetime import timedelta\n",
    "\n",
    "from sklearn.metrics import mean_absolute_error\n",
    "\n",
    "import statistics as st\n",
    "import lightgbm as lgbm\n",
    "from scipy.stats import norm"
   ]
  },
  {
   "cell_type": "code",
   "execution_count": 2,
   "id": "fb565d9d",
   "metadata": {},
   "outputs": [],
   "source": [
    "sys.path.append('../../')\n",
    "import src.utils as utils"
   ]
  },
  {
   "cell_type": "markdown",
   "id": "26886680",
   "metadata": {},
   "source": [
    "## Param"
   ]
  },
  {
   "cell_type": "code",
   "execution_count": 3,
   "id": "939cc472",
   "metadata": {},
   "outputs": [],
   "source": [
    "EXP_NUM = 92\n",
    "NFOLDS = 5\n",
    "SEED = 42\n",
    "TRAIN_DATE = 'date < 20210701'"
   ]
  },
  {
   "cell_type": "code",
   "execution_count": 4,
   "id": "1fdd8cde",
   "metadata": {},
   "outputs": [],
   "source": [
    "# def set_seed(seed: int = 42):\n",
    "#     random.seed(seed)\n",
    "#     np.random.seed(seed)\n",
    "#     os.environ[\"PYTHONHASHSEED\"] = str(seed)\n",
    "#     torch.manual_seed(seed)\n",
    "#     torch.cuda.manual_seed(seed)  # type: ignore\n",
    "#     torch.backends.cudnn.deterministic = True  # type: ignore\n",
    "#     torch.backends.cudnn.benchmark = False  # type: ignore\n",
    "# set_seed(SEED)"
   ]
  },
  {
   "cell_type": "markdown",
   "id": "f1c3e6c1",
   "metadata": {},
   "source": [
    "## Dir"
   ]
  },
  {
   "cell_type": "code",
   "execution_count": 5,
   "id": "ad8f9158",
   "metadata": {},
   "outputs": [],
   "source": [
    "DATA_DIR = Path(\"/home/knikaido/work/MLB-Player-Digital-Engagement-Forecasting/data/\")\n",
    "MAIN_DATA_DIR = DATA_DIR / 'mlb-player-digital-engagement-forecasting-update'\n",
    "TRAIN_DIR = MAIN_DATA_DIR / 'train'\n",
    "OUTPUT_DIR = Path('./output/')"
   ]
  },
  {
   "cell_type": "code",
   "execution_count": 6,
   "id": "3a7eac7c",
   "metadata": {},
   "outputs": [],
   "source": [
    "players = pd.read_csv(MAIN_DATA_DIR / 'players.csv')\n",
    "seasons = pd.read_csv(MAIN_DATA_DIR / 'seasons.csv')\n",
    "teams = pd.read_csv(MAIN_DATA_DIR / 'teams.csv')\n",
    "\n",
    "rosters = pd.read_csv(TRAIN_DIR / 'rosters_train.csv').query(TRAIN_DATE)\n",
    "targets = pd.read_csv(TRAIN_DIR / 'nextDayPlayerEngagement_train.csv').query(TRAIN_DATE)\n",
    "scores = pd.read_csv(TRAIN_DIR / 'playerBoxScores_train.csv').query(TRAIN_DATE)\n",
    "scores = scores.groupby(['playerId', 'date']).sum().reset_index()\n",
    "standings = pd.read_csv(TRAIN_DIR / 'standings_train.csv').query(TRAIN_DATE)\n",
    "playerTwitterFollowers = pd.read_csv(TRAIN_DIR / 'playerTwitterFollowers_train.csv').query(TRAIN_DATE)\n",
    "awards = pd.read_csv(TRAIN_DIR / 'awards_train.csv').query(TRAIN_DATE)\n"
   ]
  },
  {
   "cell_type": "code",
   "execution_count": 7,
   "id": "b11d517f",
   "metadata": {},
   "outputs": [],
   "source": [
    "train_elements_dict = {\"players\":players, \n",
    "                       \"rosters\":rosters, \n",
    "                       \"targets\":targets, \n",
    "                       \"scores\":scores, \n",
    "                       \"seasons\":seasons, \n",
    "                       \"teams\":teams, \n",
    "                       \"standings\":standings,\n",
    "                       'awards':awards}"
   ]
  },
  {
   "cell_type": "code",
   "execution_count": 8,
   "id": "2c273329",
   "metadata": {},
   "outputs": [],
   "source": [
    "def map_team_name(name):\n",
    "    names = name.split('-')\n",
    "    result = ''\n",
    "    for n in names:\n",
    "        if n == 'st':\n",
    "            n = 'st.'\n",
    "        result += f' {n.capitalize()}'\n",
    "\n",
    "    return result[1:]"
   ]
  },
  {
   "cell_type": "code",
   "execution_count": 9,
   "id": "70f0b682",
   "metadata": {},
   "outputs": [],
   "source": [
    "def calc_corr(df):\n",
    "    # 相関係数行列を作成\n",
    "    corr_mat = df.corr(method='pearson')\n",
    "\n",
    "    # 行（列）サイズを取得\n",
    "    n = corr_mat.shape[0]\n",
    "    corr_ary = []\n",
    "\n",
    "    for i in range(n):\n",
    "        for j in range(i):\n",
    "            if i == j:\n",
    "                continue\n",
    "            corr_ary.append(corr_mat.iloc[i,j])\n",
    "\n",
    "    return corr_ary"
   ]
  },
  {
   "cell_type": "code",
   "execution_count": 10,
   "id": "74d0f719",
   "metadata": {},
   "outputs": [],
   "source": [
    "def calc_probs(pid,df,temp):\n",
    "    to_append=[pid,'','','','','','','','','','','','','','','','','','','','','','','','','','','','','','','','','','']\n",
    "    targets=['target1','target2','target3','target4']\n",
    "    z=1\n",
    "    for target in targets:\n",
    "        target_prob = temp[target].tolist()\n",
    "        mean = np.mean(target_prob)\n",
    "        std = np.std(target_prob)\n",
    "        median = st.median(target_prob)\n",
    "        distribution = norm(mean, std)\n",
    "        min_weight = min(target_prob)\n",
    "        max_weight = max(target_prob)\n",
    "        values = list(np.linspace(min_weight, max_weight))\n",
    "        probabilities = [distribution.pdf(v) for v in values]\n",
    "        max_value = max(probabilities)\n",
    "        max_index = probabilities.index(max_value)\n",
    "        to_append[z]=mean\n",
    "        to_append[z+1]=median\n",
    "        to_append[z+2]=std\n",
    "        to_append[z+3]=min_weight\n",
    "        to_append[z+4]=max_weight\n",
    "        to_append[z+5]=temp[target].skew()\n",
    "        to_append[z+6]=temp[target].kurt()\n",
    "\n",
    "        z=z+7\n",
    "    corr_ = calc_corr(temp[['target1', 'target2', 'target3', 'target4']])\n",
    "    to_append[z:] = corr_  \n",
    "    df_length = len(df)\n",
    "    df.loc[df_length] = to_append\n",
    "    return df"
   ]
  },
  {
   "cell_type": "code",
   "execution_count": 11,
   "id": "6ef2e98f",
   "metadata": {},
   "outputs": [],
   "source": [
    "def count_consecutive_items_n_cols(df, col_name_list, output_col):\n",
    "    cum_sum_list = [\n",
    "        (df[col_name] != df[col_name].shift(1)).cumsum().tolist() for col_name in col_name_list\n",
    "    ]\n",
    "    df[output_col] = df.groupby(\n",
    "        [\"_\".join(map(str, x)) for x in zip(*cum_sum_list)]\n",
    "    ).cumcount() + 1\n",
    "    return df"
   ]
  },
  {
   "cell_type": "code",
   "execution_count": 12,
   "id": "5403aa98",
   "metadata": {},
   "outputs": [],
   "source": [
    "def extract_season(date_raw, season_start_end):\n",
    "    idxes = 0\n",
    "    for raw in season_start_end.iloc():\n",
    "        idx_ = ((date_raw >= raw.iloc[0]) & (date_raw <= raw.iloc[1])) * 1\n",
    "        idxes += idx_\n",
    "    return idxes"
   ]
  },
  {
   "cell_type": "code",
   "execution_count": 13,
   "id": "a10c9386",
   "metadata": {},
   "outputs": [],
   "source": [
    "def fit_lgbm(x_train, y_train, x_valid, y_valid, verbose=100):\n",
    "    def opt(trial):\n",
    "        params = {\n",
    "                'random_state': SEED,\n",
    "                'objective':'mae',\n",
    "                'n_estimators': 10000,\n",
    "                'learning_rate': 0.1,\n",
    "                'max_depth': trial.suggest_int('max_depth', 1, 20),\n",
    "                'min_child_weight': trial.suggest_int('min_child_weight', 1, 20),\n",
    "                'subsample': trial.suggest_discrete_uniform('subsample', 0.5, 0.9, 0.1),\n",
    "                'colsample_bytree': trial.suggest_discrete_uniform('colsample_bytree', 0.5, 0.9, 0.1),\n",
    "                'reg_lambda': trial.suggest_loguniform('reg_lambda', 1e-3, 1e3),\n",
    "                'reg_alpha': trial.suggest_loguniform('reg_alpha', 1e-3, 1e3),\n",
    "                'feature_fraction': trial.suggest_uniform('feature_fraction', 0.2, 1.0),\n",
    "                'bagging_fraction': trial.suggest_uniform('bagging_fraction', 0.2, 1.0),\n",
    "                'bagging_freq': trial.suggest_int('bagging_freq', 1, 20),\n",
    "                'num_leaves': trial.suggest_int('num_leaves', 10, 1000),\n",
    "                'min_child_samples': trial.suggest_int('min_child_samples', 5, 100)\n",
    "        }\n",
    "\n",
    "        model_opt = lgbm.LGBMRegressor(**params)\n",
    "\n",
    "        model_opt.fit(x_train, y_train, \n",
    "            eval_set=[(x_train, y_train), (x_valid, y_valid)],  \n",
    "            early_stopping_rounds=verbose, \n",
    "            verbose=verbose)\n",
    "        oof_pred = model_opt.predict(x_valid)\n",
    "        oof_pred = np.clip(oof_pred, 0, 100)\n",
    "        score = mean_absolute_error(oof_pred, y_valid)\n",
    "        return -score\n",
    "    return opt"
   ]
  },
  {
   "cell_type": "code",
   "execution_count": 14,
   "id": "b897090c",
   "metadata": {},
   "outputs": [],
   "source": [
    "# def fit_lgbm(x_train, y_train, x_valid, y_valid, params: dict=None, verbose=100):\n",
    "#     oof_pred = np.zeros(len(y_valid), dtype=np.float32)\n",
    "#     model = lgbm.LGBMRegressor(**params)\n",
    "#     model.fit(x_train, y_train, \n",
    "#         eval_set=[(x_valid, y_valid)],  \n",
    "#         early_stopping_rounds=verbose, \n",
    "#         verbose=verbose)\n",
    "#     oof_pred = model.predict(x_valid)\n",
    "#     oof_pred = np.clip(oof_pred, 0, 100)\n",
    "#     score = mean_absolute_error(oof_pred, y_valid)\n",
    "#     print('mae:', score)\n",
    "#     return oof_pred, model, score"
   ]
  },
  {
   "cell_type": "code",
   "execution_count": 15,
   "id": "76b1cae4",
   "metadata": {},
   "outputs": [],
   "source": [
    "def my_timeseries_fold(train):\n",
    "    \n",
    "    tr_idxs = []\n",
    "    val_idxs = []\n",
    "        \n",
    "    tr_idx = (train['date'].astype(int) < 20200801)\n",
    "    val_idx = (train['date'].astype(int) >= 20200801) & (train['date'].astype(int) < 20200901)\n",
    "    tr_idxs.append(tr_idx)\n",
    "    val_idxs.append(val_idx)\n",
    "\n",
    "    tr_idx = (train['date'].astype(int) < 20200901)\n",
    "    val_idx = (train['date'].astype(int) >= 20200901) & (train['date'].astype(int) < 20201001)\n",
    "    tr_idxs.append(tr_idx)\n",
    "    val_idxs.append(val_idx)\n",
    "    \n",
    "    tr_idx = (train['date'].astype(int) < 20210401)\n",
    "    val_idx = (train['date'].astype(int) >= 20210401) & (train['date'].astype(int) < 20210501)\n",
    "    tr_idxs.append(tr_idx)\n",
    "    val_idxs.append(val_idx)\n",
    "\n",
    "    tr_idx = (train['date'].astype(int) < 20210501)\n",
    "    val_idx = (train['date'].astype(int) >= 20210501) & (train['date'].astype(int) < 20210601)\n",
    "    tr_idxs.append(tr_idx)\n",
    "    val_idxs.append(val_idx)\n",
    "    \n",
    "    tr_idx = (train['date'].astype(int) < 20210601)\n",
    "    val_idx = (train['date'].astype(int) >= 20210601) & (train['date'].astype(int) < 20210701)\n",
    "    tr_idxs.append(tr_idx)\n",
    "    val_idxs.append(val_idx)\n",
    "    \n",
    "    return tr_idxs, val_idxs"
   ]
  },
  {
   "cell_type": "code",
   "execution_count": 16,
   "id": "3df1ad0d",
   "metadata": {},
   "outputs": [],
   "source": [
    "class Rt4kaidoTrain:\n",
    "    def __init__(self, usetimelinefeature=False):\n",
    "        \n",
    "        self.usetimelinefeature = usetimelinefeature\n",
    "        self.targets_cols = ['playerId', 'target1', 'target2', 'target3', 'target4', 'date']\n",
    "        self.players_cols = ['playerId', 'primaryPositionName', 'birthCity', 'DOY', 'mlbDebutYear', 'mlbDebutDate', 'DebutAge', 'heightInches', 'weight', 'playerForTestSetAndFuturePreds']\n",
    "        self.rosters_cols = ['playerId', 'teamId', 'status', 'date']\n",
    "        self.salaries_cols = ['teamId', 'salary', 'year']\n",
    "        self.standings_cols = ['teamId', 'wildCardRank', 'sportGamesBack', 'date']\n",
    "        self.transactions_cols = ['playerId', 'transaction_flag', 'date']\n",
    "        self.stat_cols = [\"playerId\", \"target1_mean\",\"target1_median\",\"target1_std\",\"target1_min\",\"target1_max\",\"target1_skew\",\"target1_kurt\",\n",
    "                        \"target2_mean\",\"target2_median\",\"target2_std\",\"target2_min\",\"target2_max\",\"target2_skew\",\"target2_kurt\",\n",
    "                        \"target3_mean\",\"target3_median\",\"target3_std\",\"target3_min\",\"target3_max\",\"target3_skew\",\"target3_kurt\",\n",
    "                        \"target4_mean\",\"target4_median\",\"target4_std\",\"target4_min\",\"target4_max\",\"target4_skew\",\"target4_kurt\",\n",
    "                        'tgt1_2_corr', 'tgt1_3_corr', 'tgt2_3_corr', 'tgt1_4_corr', 'tgt2_4_corr', 'tgt3_4_corr']\n",
    "\n",
    "        self.scores_cols = ['playerId', 'battingOrder', 'gamesPlayedBatting', 'flyOuts',\n",
    "               'groundOuts', 'runsScored', 'doubles', 'triples', 'homeRuns',\n",
    "               'strikeOuts', 'baseOnBalls', 'intentionalWalks', 'hits', 'hitByPitch',\n",
    "               'atBats', 'caughtStealing', 'stolenBases', 'groundIntoDoublePlay',\n",
    "               'groundIntoTriplePlay', 'plateAppearances', 'totalBases', 'rbi',\n",
    "               'leftOnBase', 'sacBunts', 'sacFlies', 'catchersInterference',\n",
    "               'pickoffs', 'gamesPlayedPitching', 'gamesStartedPitching',\n",
    "               'completeGamesPitching', 'shutoutsPitching', 'winsPitching',\n",
    "               'lossesPitching', 'flyOutsPitching', 'airOutsPitching',\n",
    "               'groundOutsPitching', 'runsPitching', 'doublesPitching',\n",
    "               'triplesPitching', 'homeRunsPitching', 'strikeOutsPitching',\n",
    "               'baseOnBallsPitching', 'intentionalWalksPitching', 'hitsPitching',\n",
    "               'hitByPitchPitching', 'atBatsPitching', 'caughtStealingPitching',\n",
    "               'stolenBasesPitching', 'inningsPitched', 'saveOpportunities',\n",
    "               'earnedRuns', 'battersFaced', 'outsPitching', 'pitchesThrown', 'balls',\n",
    "               'strikes', 'hitBatsmen', 'balks', 'wildPitches', 'pickoffsPitching',\n",
    "               'rbiPitching', 'gamesFinishedPitching', 'inheritedRunners',\n",
    "               'inheritedRunnersScored', 'catchersInterferencePitching',\n",
    "               'sacBuntsPitching', 'sacFliesPitching', 'saves', 'holds', 'blownSaves',\n",
    "               'assists', 'putOuts', 'errors', 'chances', 'date']\n",
    "\n",
    "        self.feature_cols1 = ['week_day','label_playerId', 'label_primaryPositionName', 'label_teamId',\n",
    "               'label_status', 'battingOrder', 'gamesPlayedBatting', 'flyOuts',\n",
    "               'groundOuts', 'runsScored', 'doubles', 'triples', 'homeRuns',\n",
    "               'strikeOuts', 'baseOnBalls', 'intentionalWalks', 'hits', 'hitByPitch',\n",
    "               'atBats', 'caughtStealing', 'stolenBases', 'groundIntoDoublePlay',\n",
    "               'groundIntoTriplePlay', 'plateAppearances', 'totalBases', 'rbi',\n",
    "               'leftOnBase', 'sacBunts', 'sacFlies', 'catchersInterference',\n",
    "               'pickoffs', 'gamesPlayedPitching', 'gamesStartedPitching',\n",
    "               'completeGamesPitching', 'shutoutsPitching', 'winsPitching',\n",
    "               'lossesPitching', 'flyOutsPitching', 'airOutsPitching',\n",
    "               'groundOutsPitching', 'runsPitching', 'doublesPitching',\n",
    "               'triplesPitching', 'homeRunsPitching', 'strikeOutsPitching',\n",
    "               'baseOnBallsPitching', 'intentionalWalksPitching', 'hitsPitching',\n",
    "               'hitByPitchPitching', 'atBatsPitching', 'caughtStealingPitching',\n",
    "               'stolenBasesPitching', 'inningsPitched', 'saveOpportunities',\n",
    "               'earnedRuns', 'battersFaced', 'outsPitching', 'pitchesThrown', 'balls',\n",
    "               'strikes', 'hitBatsmen', 'balks', 'wildPitches', 'pickoffsPitching',\n",
    "               'rbiPitching', 'gamesFinishedPitching', 'inheritedRunners',\n",
    "               'inheritedRunnersScored', 'catchersInterferencePitching',\n",
    "               'sacBuntsPitching', 'sacFliesPitching', 'saves', 'holds', 'blownSaves',\n",
    "               'assists', 'putOuts', 'errors', 'chances',\n",
    "                'season_info', 'wildCardRank', 'award_flag'] \n",
    "\n",
    "        self.feature_cols2 = ['label_playerId', 'label_primaryPositionName', 'label_teamId',\n",
    "               'label_status', 'battingOrder', 'gamesPlayedBatting', 'flyOuts',\n",
    "               'groundOuts', 'runsScored', 'doubles', 'triples', 'homeRuns',\n",
    "               'strikeOuts', 'baseOnBalls', 'intentionalWalks', 'hits', 'hitByPitch',\n",
    "               'atBats', 'caughtStealing', 'stolenBases', 'groundIntoDoublePlay',\n",
    "               'groundIntoTriplePlay', 'plateAppearances', 'totalBases', 'rbi',\n",
    "               'leftOnBase', 'sacBunts', 'sacFlies', 'catchersInterference',\n",
    "               'pickoffs', 'gamesPlayedPitching', 'gamesStartedPitching',\n",
    "               'completeGamesPitching', 'shutoutsPitching', 'winsPitching',\n",
    "               'lossesPitching', 'flyOutsPitching', 'airOutsPitching',\n",
    "               'groundOutsPitching', 'runsPitching', 'doublesPitching',\n",
    "               'triplesPitching', 'homeRunsPitching', 'strikeOutsPitching',\n",
    "               'baseOnBallsPitching', 'intentionalWalksPitching', 'hitsPitching',\n",
    "               'hitByPitchPitching', 'atBatsPitching', 'caughtStealingPitching',\n",
    "               'stolenBasesPitching', 'inningsPitched', 'saveOpportunities',\n",
    "               'earnedRuns', 'battersFaced', 'outsPitching', 'pitchesThrown', 'balls',\n",
    "               'strikes', 'hitBatsmen', 'balks', 'wildPitches', 'pickoffsPitching',\n",
    "               'rbiPitching', 'gamesFinishedPitching', 'inheritedRunners',\n",
    "               'inheritedRunnersScored', 'catchersInterferencePitching',\n",
    "               'sacBuntsPitching', 'sacFliesPitching', 'saves', 'holds', 'blownSaves',\n",
    "               'assists', 'putOuts', 'errors', 'chances',\n",
    "                'season_info', 'wildCardRank', 'award_flag'] \n",
    "\n",
    "        self.feature_cols3 = ['week_day','label_playerId', 'label_primaryPositionName', 'label_teamId',\n",
    "               'label_status', 'battingOrder', 'gamesPlayedBatting', 'flyOuts',\n",
    "               'groundOuts', 'runsScored', 'doubles', 'triples', 'homeRuns',\n",
    "               'strikeOuts', 'baseOnBalls', 'intentionalWalks', 'hits', 'hitByPitch',\n",
    "               'atBats', 'caughtStealing', 'stolenBases', 'groundIntoDoublePlay',\n",
    "               'groundIntoTriplePlay', 'plateAppearances', 'totalBases', 'rbi',\n",
    "               'leftOnBase', 'sacBunts', 'sacFlies', 'catchersInterference',\n",
    "               'pickoffs', 'gamesPlayedPitching', 'gamesStartedPitching',\n",
    "               'completeGamesPitching', 'shutoutsPitching', 'winsPitching',\n",
    "               'lossesPitching', 'flyOutsPitching', 'airOutsPitching',\n",
    "               'groundOutsPitching', 'runsPitching', 'doublesPitching',\n",
    "               'triplesPitching', 'homeRunsPitching', 'strikeOutsPitching',\n",
    "               'baseOnBallsPitching', 'intentionalWalksPitching', 'hitsPitching',\n",
    "               'hitByPitchPitching', 'atBatsPitching', 'caughtStealingPitching',\n",
    "               'stolenBasesPitching', 'inningsPitched', 'saveOpportunities',\n",
    "               'earnedRuns', 'battersFaced', 'outsPitching', 'pitchesThrown', 'balls',\n",
    "               'strikes', 'hitBatsmen', 'balks', 'wildPitches', 'pickoffsPitching',\n",
    "               'rbiPitching', 'gamesFinishedPitching', 'inheritedRunners',\n",
    "               'inheritedRunnersScored', 'catchersInterferencePitching',\n",
    "               'sacBuntsPitching', 'sacFliesPitching', 'saves', 'holds', 'blownSaves',\n",
    "               'assists', 'putOuts', 'errors', 'chances',\n",
    "                'season_info', 'wildCardRank', 'diffmlbDebutDateflag', 'sincemlbDebutDateflag', 'award_flag'] \n",
    "\n",
    "        self.feature_cols4 = ['week_day', 'annual_day', 'month', 'label_playerId', 'label_primaryPositionName', 'label_teamId', 'label_birthCity',\n",
    "                        'DOY', 'mlbDebutYear', 'DebutAge', 'heightInches', 'weight',\n",
    "               'label_status', 'battingOrder', 'gamesPlayedBatting', 'flyOuts',\n",
    "               'groundOuts', 'runsScored', 'doubles', 'triples', 'homeRuns',\n",
    "               'strikeOuts', 'baseOnBalls', 'intentionalWalks', 'hits', 'hitByPitch',\n",
    "               'atBats', 'caughtStealing', 'stolenBases', 'groundIntoDoublePlay',\n",
    "               'groundIntoTriplePlay', 'plateAppearances', 'totalBases', 'rbi',\n",
    "               'leftOnBase', 'sacBunts', 'sacFlies', 'catchersInterference',\n",
    "               'pickoffs', 'gamesPlayedPitching', 'gamesStartedPitching',\n",
    "               'completeGamesPitching', 'shutoutsPitching', 'winsPitching',\n",
    "               'lossesPitching', 'flyOutsPitching', 'airOutsPitching',\n",
    "               'groundOutsPitching', 'runsPitching', 'doublesPitching',\n",
    "               'triplesPitching', 'homeRunsPitching', 'strikeOutsPitching',\n",
    "               'baseOnBallsPitching', 'intentionalWalksPitching', 'hitsPitching',\n",
    "               'hitByPitchPitching', 'atBatsPitching', 'caughtStealingPitching',\n",
    "               'stolenBasesPitching', 'inningsPitched', 'saveOpportunities',\n",
    "               'earnedRuns', 'battersFaced', 'outsPitching', 'pitchesThrown', 'balls',\n",
    "               'strikes', 'hitBatsmen', 'balks', 'wildPitches', 'pickoffsPitching',\n",
    "               'rbiPitching', 'gamesFinishedPitching', 'inheritedRunners',\n",
    "               'inheritedRunnersScored', 'catchersInterferencePitching',\n",
    "               'sacBuntsPitching', 'sacFliesPitching', 'saves', 'holds', 'blownSaves',\n",
    "               'assists', 'putOuts', 'errors', 'chances',\n",
    "                'season_info', 'wildCardRank', 'diffmlbDebutDateflag', 'sincemlbDebutDateflag', 'award_flag'] \n",
    "        \n",
    "        \n",
    "        # lightgbm\n",
    "        self.params1 = {'objective':'mae',\n",
    "                       'reg_alpha': 0.14947461820098767, \n",
    "                       'reg_lambda': 0.10185644384043743, \n",
    "                       'n_estimators': 3633, \n",
    "                       'learning_rate': 0.08046301304430488, \n",
    "                       'num_leaves': 674, \n",
    "                       'feature_fraction': 0.9101240539122566, \n",
    "                       'bagging_fraction': 0.9884451442950513, \n",
    "                       'bagging_freq': 8, \n",
    "                       'min_child_samples': 51}\n",
    "\n",
    "\n",
    "        self.params2 = {'objective':'mae',\n",
    "                       'reg_alpha': 0.1,\n",
    "                       'reg_lambda': 0.1, \n",
    "                       'n_estimators': 80,\n",
    "                       'learning_rate': 0.1,\n",
    "                       'random_state': 42,\n",
    "                       \"num_leaves\": 22}\n",
    "\n",
    "\n",
    "\n",
    "        self.params3 = {'objective':'mae',\n",
    "                       'reg_alpha': 0.1,\n",
    "                       'reg_lambda': 0.1, \n",
    "                       'n_estimators': 10000,\n",
    "                       'learning_rate': 0.1,\n",
    "                       'random_state': 42,\n",
    "                       \"num_leaves\": 100}\n",
    "\n",
    "        self.params4 = {'objective':'mae',\n",
    "                       'reg_alpha': 0.016468100279441976, \n",
    "                       'reg_lambda': 0.09128335764019105, \n",
    "                       'n_estimators': 9868, \n",
    "                       'learning_rate': 0.10528150510326864, \n",
    "                       'num_leaves': 157, \n",
    "                       'feature_fraction': 0.5419185713426886, \n",
    "                       'bagging_fraction': 0.2637405128936662, \n",
    "                       'bagging_freq': 19, \n",
    "                       'min_child_samples': 71}\n",
    "\n",
    "    def make_feature(self, train_elements_dict):\n",
    "\n",
    "        players = train_elements_dict['players']\n",
    "        rosters = train_elements_dict['rosters']\n",
    "        targets = train_elements_dict['targets']\n",
    "        scores = train_elements_dict['scores']\n",
    "        seasons = train_elements_dict['seasons']\n",
    "        teams = train_elements_dict['teams']\n",
    "        standings = train_elements_dict['standings']\n",
    "\n",
    "        print('calc target stat ... ', end=\"\")\n",
    "\n",
    "        ## target stats\n",
    "        targets_train = targets.merge(rosters[self.rosters_cols], on=['playerId', 'date'], how='left')\n",
    "        targets_train = targets_train[(targets_train['date'] >= 20210601) & (targets_train['date'] < 20210701)]\n",
    "\n",
    "        playerId_list = targets_train['playerId'].unique()\n",
    "        player_target_probs = pd.DataFrame(columns = self.stat_cols)  \n",
    "        for pid in tqdm(playerId_list):\n",
    "            temp = targets_train[targets_train['playerId'] == pid]\n",
    "            player_target_stats=calc_probs(pid,player_target_probs,temp)\n",
    "\n",
    "        teamId_list = targets_train['teamId'].dropna().unique()\n",
    "        team_target_probs = pd.DataFrame(columns = self.stat_cols)\n",
    "        for pid in tqdm(teamId_list):\n",
    "            temp = targets_train[targets_train['teamId'] == pid]\n",
    "            team_target_stats=calc_probs(pid,team_target_probs,temp)\n",
    "\n",
    "        team_stat_cols = self.stat_cols\n",
    "        team_stat_cols = team_stat_cols[:1] + [\"team_\" + word for word in team_stat_cols[1:]]\n",
    "        team_target_stats.columns = team_stat_cols\n",
    "\n",
    "        self.feature_cols1 += self.stat_cols[1:-6]\n",
    "        self.feature_cols2 += self.stat_cols[1:-6]\n",
    "        self.feature_cols3 += self.stat_cols[1:-6]\n",
    "        self.feature_cols4 += self.stat_cols[1:-6]\n",
    "\n",
    "        self.feature_cols1 += team_stat_cols[1:]\n",
    "        self.feature_cols2 += team_stat_cols[1:]\n",
    "        self.feature_cols3 += team_stat_cols[1:]\n",
    "        self.feature_cols4 += team_stat_cols[1:]\n",
    "\n",
    "        print('done.')\n",
    "\n",
    "        print('preprocess ... ', end=\"\")\n",
    "        ## salaries\n",
    "        # salaries = salaries.groupby(['year', 'team']).sum()['salary'].reset_index()\n",
    "        # salaries['team'] = salaries['team'].apply(map_team_name)\n",
    "        # salaries = salaries.merge(teams, left_on='team', right_on='name', how='inner')\n",
    "        # salaries = salaries.rename(columns={'id': 'teamId'})\n",
    "\n",
    "        ## seasons\n",
    "        seasons = seasons.fillna('0000-00-00')\n",
    "        for c_ in seasons.columns[1:]:\n",
    "            seasons[c_] = seasons[c_].str.replace('-', '').astype(int)\n",
    "\n",
    "        ## players\n",
    "        players['DOY'] = pd.to_datetime(players['DOB'], format=\"%Y-%m-%d\").dt.year\n",
    "        players['mlbDebutYear'] = pd.to_datetime(players['mlbDebutDate'], format=\"%Y-%m-%d\").dt.year\n",
    "        players['DebutAge'] = players['mlbDebutYear'] - players['DOY']\n",
    "        players['mlbDebutDate'] = pd.to_numeric(players['mlbDebutDate'].str.replace('-', ''), errors=\"coerce\")\n",
    "\n",
    "        print('done.')\n",
    "\n",
    "        print('creat feature ... ', end=\"\")\n",
    "        # creat feature\n",
    "        train = targets[self.targets_cols].merge(players[self.players_cols], on=['playerId'], how='left')\n",
    "        train = train.merge(rosters[self.rosters_cols], on=['playerId', 'date'], how='left')\n",
    "        train = train.merge(scores[self.scores_cols], on=['playerId', 'date'], how='left')\n",
    "        train = train.merge(player_target_stats, how='inner', left_on=[\"playerId\"],right_on=[\"playerId\"])\n",
    "        train = train.merge(standings[self.standings_cols], on=['teamId', 'date'], how='left')\n",
    "        train = train.merge(team_target_stats, how='left', left_on=[\"teamId\"],right_on=[\"playerId\"], suffixes=('', 'team_'))\n",
    "        train = train.merge(awards, on=['playerId', 'date'], how='left')\n",
    "\n",
    "        \n",
    "        date_ = pd.to_datetime(train['date'], format=\"%Y%m%d\")\n",
    "        train['annual_day'] = (date_ - pd.to_datetime(date_.dt.year, format=\"%Y\")) /  timedelta(days=1)\n",
    "        train['week_day'] = date_.dt.weekday\n",
    "        train['month'] = date_.dt.month\n",
    "        train['year'] = date_.dt.year\n",
    "        train['mlbDebutDateflag'] = (train['mlbDebutDate'] == train['date']) * 1\n",
    "        train['sincemlbDebutDateflag'] = (train['date'] >= train['mlbDebutDate']) * 1\n",
    "        train['diffmlbDebutDateflag'] = (train['date'] - train['mlbDebutDate'])\n",
    "\n",
    "        # label encoding\n",
    "        player2num = {c: i for i, c in enumerate(train['playerId'].unique())}\n",
    "        position2num = {c: i for i, c in enumerate(train['primaryPositionName'].unique())}\n",
    "        birthCityn2num = {c: i for i, c in enumerate(train['birthCity'].unique())}\n",
    "        teamid2num = {c: i for i, c in enumerate(train['teamId'].unique())}\n",
    "        status2num = {c: i for i, c in enumerate(train['status'].unique())}\n",
    "        awardName2num = {c: i for i, c in enumerate(train['awardName'].unique())}\n",
    "        train['label_playerId'] = train['playerId'].map(player2num)\n",
    "        train['label_primaryPositionName'] = train['primaryPositionName'].map(position2num)\n",
    "        train['label_birthCity'] = train['birthCity'].map(birthCityn2num)\n",
    "        train['label_teamId'] = train['teamId'].map(teamid2num)\n",
    "        train['label_status'] = train['status'].map(status2num)\n",
    "        train['award_flag'] = train['awardSeason'].isna()*1\n",
    "\n",
    "\n",
    "        ## season_info\n",
    "        on_preseason_idxes = extract_season(train['date'], seasons[['preSeasonStartDate', 'preSeasonEndDate']])\n",
    "        on_season_idxes = extract_season(train['date'], seasons[['regularSeasonStartDate', 'regularSeasonEndDate']]) * 2\n",
    "        on_postseason_idxes = extract_season(train['date'], seasons[['postSeasonStartDate', 'postSeasonEndDate']]) * 3\n",
    "\n",
    "        special_days = seasons['lastDate1stHalf'].to_list() + seasons['allStarDate'].to_list() + seasons['firstDate2ndHalf'].to_list()\n",
    "        special_idxes = 0\n",
    "        for day in special_days:\n",
    "            special_idxes += (train['date'] == day) * 4\n",
    "\n",
    "        on_total_season_idxes = on_preseason_idxes\n",
    "        on_total_season_idxes[on_season_idxes==2] = 2\n",
    "        on_total_season_idxes[on_postseason_idxes==3] = 3\n",
    "        on_total_season_idxes[special_idxes==4] = 4\n",
    "\n",
    "        train['season_info'] = on_total_season_idxes\n",
    "\n",
    "        ## only on season\n",
    "        on_whole_idxes = extract_season(train['date'], seasons[['seasonStartDate', 'seasonEndDate']])\n",
    "        train = train[on_whole_idxes == 1].reset_index(drop=True)\n",
    "\n",
    "        # train = train.merge(playerTwitterFollowers, how='left', on=[\"playerId\", 'date'])\n",
    "\n",
    "        ## only test_player\n",
    "        train = train[train['playerForTestSetAndFuturePreds']==True].reset_index(drop=True)\n",
    "\n",
    "        print('done.')\n",
    "        \n",
    "        train_features_dict = {'players': players,\n",
    "                               'seasons': seasons,\n",
    "                                'player_target_stats': player_target_stats,\n",
    "                                'team_target_stats': team_target_stats,\n",
    "                                'player2num': player2num, \n",
    "                                'position2num': position2num, \n",
    "                                'birthCityn2num': birthCityn2num,\n",
    "                                'teamid2num': teamid2num,\n",
    "                                'status2num': status2num,\n",
    "                                'feature_cols1': self.feature_cols1,\n",
    "                                'feature_cols2': self.feature_cols2,\n",
    "                                'feature_cols3': self.feature_cols3,\n",
    "                                'feature_cols4': self.feature_cols4,\n",
    "                                'rosters_cols_all': list(rosters.columns),\n",
    "                                'scores_cols_all': list(scores.columns),\n",
    "                                'standings_cols_all': list(standings.columns),\n",
    "                                'awards_cols_all': list(awards.columns)\n",
    "                              }\n",
    "        \n",
    "        if self.usetimelinefeature:\n",
    "            ## game_info\n",
    "            train['gameday'] = ~train['battingOrder'].isna()*1\n",
    "            train.sort_values(by=['playerId','date'],inplace=True,ascending=True)\n",
    "\n",
    "            train=count_consecutive_items_n_cols(train,['playerId','gameday'],'daysSinceLastGame')\n",
    "            train.loc[train['gameday']==1,'daysSinceLastGame'] = 0\n",
    "\n",
    "            train_game = train[train['gameday']==1]\n",
    "            train_last_game = train_game[~train_game.duplicated(subset='playerId', keep='last')][['playerId', 'date']]\n",
    "            train_last_game.columns = ['playerId', 'lastdate']\n",
    "            train_player_unique = pd.DataFrame(train['playerId'].unique(), columns=['playerId'])\n",
    "            train_last_game = pd.merge(train_player_unique, train_last_game, on=['playerId'], how='left' )\n",
    "            train_last_game = train_last_game.fillna(20171231)\n",
    "            \n",
    "            train_features_dict['train_last_game'] = train_last_game\n",
    "            self.feature_cols1 += ['daysSinceLastGame']\n",
    "            self.feature_cols2 += ['daysSinceLastGame']\n",
    "            self.feature_cols3 += ['daysSinceLastGame']\n",
    "            self.feature_cols4 += ['daysSinceLastGame']\n",
    "            \n",
    "            \n",
    "            ## rosters_info\n",
    "            train['rosterday'] = ~train['status'].isna()*1\n",
    "            train.sort_values(by=['playerId','date'],inplace=True,ascending=True)\n",
    "\n",
    "            train=count_consecutive_items_n_cols(train,['playerId','rosterday'],'daysSinceLastRoster')\n",
    "            train.loc[train['rosterday']==1,'daysSinceLastRoster'] = 0\n",
    "\n",
    "            train_roster= train[train['rosterday']==1]\n",
    "            train_last_roster = train_roster[~train_roster.duplicated(subset='playerId', keep='last')][['playerId', 'date']]\n",
    "            train_last_roster.columns = ['playerId', 'lastroster']\n",
    "            train_player_unique = pd.DataFrame(train['playerId'].unique(), columns=['playerId'])\n",
    "            train_last_roster = pd.merge(train_player_unique, train_last_roster, on=['playerId'], how='left' )\n",
    "            train_last_roster = train_last_roster.fillna(20171231)\n",
    "            \n",
    "            train_features_dict['train_last_roster'] = train_last_roster\n",
    "            self.feature_cols1 += ['daysSinceLastRoster']\n",
    "            self.feature_cols2 += ['daysSinceLastRoster']\n",
    "            self.feature_cols3 += ['daysSinceLastRoster']\n",
    "            self.feature_cols4 += ['daysSinceLastRoster']\n",
    "\n",
    "\n",
    "        return train, train_features_dict\n",
    "    \n",
    "    def train_and_evaluate(self, train, isgamedayonly=False):\n",
    "        \n",
    "        if isgamedayonly:\n",
    "            train = train[train['gameday'] == 1].reset_index(drop=True)\n",
    "            \n",
    "        train_X = train\n",
    "        train_y = train[['target1', 'target2', 'target3', 'target4']]\n",
    "\n",
    "        oof = np.zeros(train_y.shape) - 1.0\n",
    "        y_valids = np.zeros(train_y.shape) - 1.0\n",
    "\n",
    "        tr_idx = (train['date'].astype(int) < 20210401)\n",
    "        val_idx = ~tr_idx\n",
    "\n",
    "        x_train = train_X.loc[tr_idx].reset_index(drop=True)\n",
    "        y_train = train_y.loc[tr_idx].reset_index(drop=True)\n",
    "        x_valid = train_X.loc[val_idx].reset_index(drop=True)\n",
    "        y_valid = train_y.loc[val_idx].reset_index(drop=True)\n",
    "\n",
    "        study1 = optuna.create_study(direction='maximize')\n",
    "        study1.optimize(fit_lgbm(x_train[self.feature_cols1], y_train['target1'], \n",
    "                                 x_valid[self.feature_cols1], y_valid['target1']), n_trials=100)\n",
    "        \n",
    "        study2 = optuna.create_study(direction='maximize')\n",
    "        study2.optimize(fit_lgbm(x_train[self.feature_cols2], y_train['target2'], \n",
    "                                 x_valid[self.feature_cols2], y_valid['target2']), n_trials=100)\n",
    "        \n",
    "        study3 = optuna.create_study(direction='maximize')\n",
    "        study3.optimize(fit_lgbm(x_train[self.feature_cols3], y_train['target3'], \n",
    "                                 x_valid[self.feature_cols3], y_valid['target3']), n_trials=100)\n",
    "        \n",
    "        study4 = optuna.create_study(direction='maximize')\n",
    "        study4.optimize(fit_lgbm(x_train[self.feature_cols4], y_train['target4'], \n",
    "                                 x_valid[self.feature_cols4], y_valid['target4']), n_trials=100)\n",
    "\n",
    "#         oof1, model1, score1 = fit_lgbm(\n",
    "#             x_train[self.feature_cols1], y_train['target1'],\n",
    "#             x_valid[self.feature_cols1], y_valid['target1'],\n",
    "# #             self.params1\n",
    "#         )\n",
    "#         oof2, model2, score2 = fit_lgbm(\n",
    "#             x_train[self.feature_cols2], y_train['target2'],\n",
    "#             x_valid[self.feature_cols2], y_valid['target2'],\n",
    "# #             self.params2\n",
    "#         )\n",
    "#         oof3, model3, score3 = fit_lgbm(\n",
    "#             x_train[self.feature_cols3], y_train['target3'],\n",
    "#             x_valid[self.feature_cols3], y_valid['target3'],\n",
    "# #             self.params3\n",
    "#         )\n",
    "#         oof4, model4, score4 = fit_lgbm(\n",
    "#             x_train[self.feature_cols4], y_train['target4'],\n",
    "#             x_valid[self.feature_cols4], y_valid['target4'],\n",
    "# #             self.params4\n",
    "#         )\n",
    "\n",
    "#         score = (score1+score2+score3+score4) / 4\n",
    "#         print(f'score: {score}')\n",
    "\n",
    "#         oof[val_idx, 0] = oof1\n",
    "#         oof[val_idx, 1] = oof2\n",
    "#         oof[val_idx, 2] = oof3\n",
    "#         oof[val_idx, 3] = oof4\n",
    "#         y_valids[val_idx, 0] = y_valid['target1'].values\n",
    "#         y_valids[val_idx, 1] = y_valid['target2'].values\n",
    "#         y_valids[val_idx, 2] = y_valid['target3'].values\n",
    "#         y_valids[val_idx, 3] = y_valid['target4'].values\n",
    "\n",
    "#         mae = mean_absolute_error(y_valids[val_idx, :], oof[val_idx, :])\n",
    "#         print(\"mae:\", mae)\n",
    "\n",
    "#         val_idx_num = val_idx[val_idx==True].index.to_list()\n",
    "\n",
    "#         oof_df = train[self.targets_cols]\n",
    "#         oof_df.iloc[val_idx_num, 1:5] = oof[val_idx_num, :]\n",
    "\n",
    "#         models = np.array([model1, model2, model3, model4])\n",
    "\n",
    "        return study1, study2, study3, study4"
   ]
  },
  {
   "cell_type": "code",
   "execution_count": 17,
   "id": "5a2da5b2",
   "metadata": {},
   "outputs": [
    {
     "name": "stdout",
     "output_type": "stream",
     "text": [
      "calc target stat ... "
     ]
    },
    {
     "name": "stderr",
     "output_type": "stream",
     "text": [
      "100%|██████████| 2061/2061 [00:46<00:00, 44.69it/s]\n",
      "100%|██████████| 30/30 [00:00<00:00, 42.05it/s]\n"
     ]
    },
    {
     "name": "stdout",
     "output_type": "stream",
     "text": [
      "done.\n",
      "preprocess ... done.\n",
      "creat feature ... done.\n"
     ]
    }
   ],
   "source": [
    "rt4kaido_train = Rt4kaidoTrain(usetimelinefeature=True)\n",
    "train, train_features_dict = rt4kaido_train.make_feature(train_elements_dict)"
   ]
  },
  {
   "cell_type": "code",
   "execution_count": 18,
   "id": "3925bcd6",
   "metadata": {
    "collapsed": true,
    "jupyter": {
     "outputs_hidden": true
    }
   },
   "outputs": [
    {
     "name": "stderr",
     "output_type": "stream",
     "text": [
      "\u001b[32m[I 2021-07-29 13:42:51,878]\u001b[0m A new study created in memory with name: no-name-8b185e98-cf49-419a-b868-cf94da30a880\u001b[0m\n"
     ]
    },
    {
     "name": "stdout",
     "output_type": "stream",
     "text": [
      "[LightGBM] [Warning] feature_fraction is set=0.935815964858568, colsample_bytree=0.6 will be ignored. Current value: feature_fraction=0.935815964858568\n",
      "[LightGBM] [Warning] bagging_fraction is set=0.939553360188313, subsample=0.7 will be ignored. Current value: bagging_fraction=0.939553360188313\n",
      "[LightGBM] [Warning] bagging_freq is set=8, subsample_freq=0 will be ignored. Current value: bagging_freq=8\n",
      "Training until validation scores don't improve for 100 rounds\n",
      "[100]\ttraining's l1: 0.854412\tvalid_1's l1: 1.09435\n",
      "[200]\ttraining's l1: 0.847676\tvalid_1's l1: 1.08754\n",
      "[300]\ttraining's l1: 0.844289\tvalid_1's l1: 1.08371\n",
      "[400]\ttraining's l1: 0.840353\tvalid_1's l1: 1.08037\n",
      "[500]\ttraining's l1: 0.8387\tvalid_1's l1: 1.07856\n",
      "Early stopping, best iteration is:\n",
      "[472]\ttraining's l1: 0.838718\tvalid_1's l1: 1.07855\n"
     ]
    },
    {
     "name": "stderr",
     "output_type": "stream",
     "text": [
      "\u001b[32m[I 2021-07-29 13:43:14,376]\u001b[0m Trial 0 finished with value: -1.0783809569851324 and parameters: {'max_depth': 7, 'min_child_weight': 13, 'subsample': 0.7, 'colsample_bytree': 0.6, 'reg_lambda': 12.398816043240878, 'reg_alpha': 0.0024565000306867248, 'feature_fraction': 0.935815964858568, 'bagging_fraction': 0.939553360188313, 'bagging_freq': 8, 'num_leaves': 156, 'min_child_samples': 100}. Best is trial 0 with value: -1.0783809569851324.\u001b[0m\n"
     ]
    },
    {
     "name": "stdout",
     "output_type": "stream",
     "text": [
      "[LightGBM] [Warning] feature_fraction is set=0.4118724400308418, colsample_bytree=0.9 will be ignored. Current value: feature_fraction=0.4118724400308418\n",
      "[LightGBM] [Warning] bagging_fraction is set=0.25045649328649705, subsample=0.8 will be ignored. Current value: bagging_fraction=0.25045649328649705\n",
      "[LightGBM] [Warning] bagging_freq is set=17, subsample_freq=0 will be ignored. Current value: bagging_freq=17\n",
      "Training until validation scores don't improve for 100 rounds\n",
      "[100]\ttraining's l1: 0.862371\tvalid_1's l1: 1.10005\n",
      "[200]\ttraining's l1: 0.858606\tvalid_1's l1: 1.09465\n",
      "[300]\ttraining's l1: 0.858212\tvalid_1's l1: 1.09428\n",
      "[400]\ttraining's l1: 0.855442\tvalid_1's l1: 1.08997\n",
      "[500]\ttraining's l1: 0.854604\tvalid_1's l1: 1.08909\n",
      "[600]\ttraining's l1: 0.852957\tvalid_1's l1: 1.08762\n",
      "[700]\ttraining's l1: 0.851714\tvalid_1's l1: 1.087\n",
      "[800]\ttraining's l1: 0.849687\tvalid_1's l1: 1.08551\n",
      "[900]\ttraining's l1: 0.847681\tvalid_1's l1: 1.08176\n",
      "[1000]\ttraining's l1: 0.845266\tvalid_1's l1: 1.07862\n",
      "[1100]\ttraining's l1: 0.84339\tvalid_1's l1: 1.07848\n",
      "[1200]\ttraining's l1: 0.842248\tvalid_1's l1: 1.07809\n",
      "[1300]\ttraining's l1: 0.839621\tvalid_1's l1: 1.07701\n",
      "[1400]\ttraining's l1: 0.838443\tvalid_1's l1: 1.0763\n",
      "[1500]\ttraining's l1: 0.837811\tvalid_1's l1: 1.07643\n",
      "Early stopping, best iteration is:\n",
      "[1446]\ttraining's l1: 0.838179\tvalid_1's l1: 1.07591\n"
     ]
    },
    {
     "name": "stderr",
     "output_type": "stream",
     "text": [
      "\u001b[32m[I 2021-07-29 13:43:36,977]\u001b[0m Trial 1 finished with value: -1.075333831172033 and parameters: {'max_depth': 6, 'min_child_weight': 11, 'subsample': 0.8, 'colsample_bytree': 0.9, 'reg_lambda': 0.0019420151374883552, 'reg_alpha': 1.5405608151526737, 'feature_fraction': 0.4118724400308418, 'bagging_fraction': 0.25045649328649705, 'bagging_freq': 17, 'num_leaves': 924, 'min_child_samples': 37}. Best is trial 1 with value: -1.075333831172033.\u001b[0m\n"
     ]
    },
    {
     "name": "stdout",
     "output_type": "stream",
     "text": [
      "[LightGBM] [Warning] feature_fraction is set=0.4203277258456082, colsample_bytree=0.5 will be ignored. Current value: feature_fraction=0.4203277258456082\n",
      "[LightGBM] [Warning] bagging_fraction is set=0.32949317309328785, subsample=0.5 will be ignored. Current value: bagging_fraction=0.32949317309328785\n",
      "[LightGBM] [Warning] bagging_freq is set=16, subsample_freq=0 will be ignored. Current value: bagging_freq=16\n",
      "Training until validation scores don't improve for 100 rounds\n",
      "[100]\ttraining's l1: 0.869645\tvalid_1's l1: 1.10894\n",
      "[200]\ttraining's l1: 0.867098\tvalid_1's l1: 1.10598\n"
     ]
    },
    {
     "name": "stderr",
     "output_type": "stream",
     "text": [
      "\u001b[32m[I 2021-07-29 13:43:42,174]\u001b[0m Trial 2 finished with value: -1.1058962414429296 and parameters: {'max_depth': 5, 'min_child_weight': 13, 'subsample': 0.5, 'colsample_bytree': 0.5, 'reg_lambda': 0.8276073190909091, 'reg_alpha': 1.8386032489114306, 'feature_fraction': 0.4203277258456082, 'bagging_fraction': 0.32949317309328785, 'bagging_freq': 16, 'num_leaves': 206, 'min_child_samples': 99}. Best is trial 1 with value: -1.075333831172033.\u001b[0m\n"
     ]
    },
    {
     "name": "stdout",
     "output_type": "stream",
     "text": [
      "Early stopping, best iteration is:\n",
      "[143]\ttraining's l1: 0.867127\tvalid_1's l1: 1.10597\n",
      "[LightGBM] [Warning] feature_fraction is set=0.46271460231723316, colsample_bytree=0.6 will be ignored. Current value: feature_fraction=0.46271460231723316\n",
      "[LightGBM] [Warning] bagging_fraction is set=0.8857523833078162, subsample=0.9 will be ignored. Current value: bagging_fraction=0.8857523833078162\n",
      "[LightGBM] [Warning] bagging_freq is set=16, subsample_freq=0 will be ignored. Current value: bagging_freq=16\n",
      "Training until validation scores don't improve for 100 rounds\n",
      "[100]\ttraining's l1: 0.835217\tvalid_1's l1: 1.07887\n",
      "[200]\ttraining's l1: 0.82741\tvalid_1's l1: 1.07559\n",
      "[300]\ttraining's l1: 0.823932\tvalid_1's l1: 1.07521\n",
      "[400]\ttraining's l1: 0.816552\tvalid_1's l1: 1.07473\n",
      "[500]\ttraining's l1: 0.81213\tvalid_1's l1: 1.07436\n",
      "Early stopping, best iteration is:\n",
      "[443]\ttraining's l1: 0.813893\tvalid_1's l1: 1.07408\n"
     ]
    },
    {
     "name": "stderr",
     "output_type": "stream",
     "text": [
      "\u001b[32m[I 2021-07-29 13:44:16,929]\u001b[0m Trial 3 finished with value: -1.0737610447106767 and parameters: {'max_depth': 17, 'min_child_weight': 2, 'subsample': 0.9, 'colsample_bytree': 0.6, 'reg_lambda': 0.001751524757696696, 'reg_alpha': 3.236363915558828, 'feature_fraction': 0.46271460231723316, 'bagging_fraction': 0.8857523833078162, 'bagging_freq': 16, 'num_leaves': 513, 'min_child_samples': 57}. Best is trial 3 with value: -1.0737610447106767.\u001b[0m\n"
     ]
    },
    {
     "name": "stdout",
     "output_type": "stream",
     "text": [
      "[LightGBM] [Warning] feature_fraction is set=0.4045373230068277, colsample_bytree=0.8 will be ignored. Current value: feature_fraction=0.4045373230068277\n",
      "[LightGBM] [Warning] bagging_fraction is set=0.4724512587195026, subsample=0.7 will be ignored. Current value: bagging_fraction=0.4724512587195026\n",
      "[LightGBM] [Warning] bagging_freq is set=19, subsample_freq=0 will be ignored. Current value: bagging_freq=19\n",
      "Training until validation scores don't improve for 100 rounds\n",
      "[100]\ttraining's l1: 0.836597\tvalid_1's l1: 1.0804\n",
      "[200]\ttraining's l1: 0.828983\tvalid_1's l1: 1.07793\n",
      "[300]\ttraining's l1: 0.827033\tvalid_1's l1: 1.07777\n",
      "[400]\ttraining's l1: 0.823965\tvalid_1's l1: 1.07736\n",
      "[500]\ttraining's l1: 0.81636\tvalid_1's l1: 1.07725\n",
      "Early stopping, best iteration is:\n",
      "[490]\ttraining's l1: 0.817218\tvalid_1's l1: 1.07692\n"
     ]
    },
    {
     "name": "stderr",
     "output_type": "stream",
     "text": [
      "\u001b[32m[I 2021-07-29 13:44:41,270]\u001b[0m Trial 4 finished with value: -1.0763228109596779 and parameters: {'max_depth': 12, 'min_child_weight': 7, 'subsample': 0.7, 'colsample_bytree': 0.8, 'reg_lambda': 16.309210734364868, 'reg_alpha': 0.05620362126665497, 'feature_fraction': 0.4045373230068277, 'bagging_fraction': 0.4724512587195026, 'bagging_freq': 19, 'num_leaves': 434, 'min_child_samples': 41}. Best is trial 3 with value: -1.0737610447106767.\u001b[0m\n"
     ]
    },
    {
     "name": "stdout",
     "output_type": "stream",
     "text": [
      "[LightGBM] [Warning] feature_fraction is set=0.8139526183757235, colsample_bytree=0.7 will be ignored. Current value: feature_fraction=0.8139526183757235\n",
      "[LightGBM] [Warning] bagging_fraction is set=0.8018518040049416, subsample=0.9 will be ignored. Current value: bagging_fraction=0.8018518040049416\n",
      "[LightGBM] [Warning] bagging_freq is set=18, subsample_freq=0 will be ignored. Current value: bagging_freq=18\n",
      "Training until validation scores don't improve for 100 rounds\n",
      "[100]\ttraining's l1: 0.938907\tvalid_1's l1: 1.21137\n",
      "[200]\ttraining's l1: 0.929875\tvalid_1's l1: 1.19493\n"
     ]
    },
    {
     "name": "stderr",
     "output_type": "stream",
     "text": [
      "\u001b[32m[I 2021-07-29 13:44:48,033]\u001b[0m Trial 5 finished with value: -1.1949181166867016 and parameters: {'max_depth': 2, 'min_child_weight': 11, 'subsample': 0.9, 'colsample_bytree': 0.7, 'reg_lambda': 0.022158628725739375, 'reg_alpha': 0.014133945959012323, 'feature_fraction': 0.8139526183757235, 'bagging_fraction': 0.8018518040049416, 'bagging_freq': 18, 'num_leaves': 438, 'min_child_samples': 56}. Best is trial 3 with value: -1.0737610447106767.\u001b[0m\n"
     ]
    },
    {
     "name": "stdout",
     "output_type": "stream",
     "text": [
      "Early stopping, best iteration is:\n",
      "[180]\ttraining's l1: 0.929875\tvalid_1's l1: 1.19493\n",
      "[LightGBM] [Warning] feature_fraction is set=0.851336566266971, colsample_bytree=0.6 will be ignored. Current value: feature_fraction=0.851336566266971\n",
      "[LightGBM] [Warning] bagging_fraction is set=0.8766734624130466, subsample=0.7 will be ignored. Current value: bagging_fraction=0.8766734624130466\n",
      "[LightGBM] [Warning] bagging_freq is set=6, subsample_freq=0 will be ignored. Current value: bagging_freq=6\n",
      "Training until validation scores don't improve for 100 rounds\n",
      "[100]\ttraining's l1: 0.837063\tvalid_1's l1: 1.07951\n",
      "[200]\ttraining's l1: 0.83185\tvalid_1's l1: 1.07639\n",
      "[300]\ttraining's l1: 0.827734\tvalid_1's l1: 1.0748\n",
      "[400]\ttraining's l1: 0.82526\tvalid_1's l1: 1.07463\n",
      "[500]\ttraining's l1: 0.824051\tvalid_1's l1: 1.07407\n",
      "[600]\ttraining's l1: 0.821396\tvalid_1's l1: 1.07334\n",
      "[700]\ttraining's l1: 0.820397\tvalid_1's l1: 1.07314\n",
      "[800]\ttraining's l1: 0.818899\tvalid_1's l1: 1.073\n",
      "Early stopping, best iteration is:\n",
      "[748]\ttraining's l1: 0.819521\tvalid_1's l1: 1.07295\n"
     ]
    },
    {
     "name": "stderr",
     "output_type": "stream",
     "text": [
      "\u001b[32m[I 2021-07-29 13:45:34,846]\u001b[0m Trial 6 finished with value: -1.0726970092814383 and parameters: {'max_depth': 12, 'min_child_weight': 18, 'subsample': 0.7, 'colsample_bytree': 0.6, 'reg_lambda': 0.028478338887818616, 'reg_alpha': 0.09304964903901078, 'feature_fraction': 0.851336566266971, 'bagging_fraction': 0.8766734624130466, 'bagging_freq': 6, 'num_leaves': 393, 'min_child_samples': 89}. Best is trial 6 with value: -1.0726970092814383.\u001b[0m\n"
     ]
    },
    {
     "name": "stdout",
     "output_type": "stream",
     "text": [
      "[LightGBM] [Warning] feature_fraction is set=0.369087550782485, colsample_bytree=0.9 will be ignored. Current value: feature_fraction=0.369087550782485\n",
      "[LightGBM] [Warning] bagging_fraction is set=0.24216539911673599, subsample=0.9 will be ignored. Current value: bagging_fraction=0.24216539911673599\n",
      "[LightGBM] [Warning] bagging_freq is set=1, subsample_freq=0 will be ignored. Current value: bagging_freq=1\n",
      "Training until validation scores don't improve for 100 rounds\n",
      "[100]\ttraining's l1: 0.875483\tvalid_1's l1: 1.11528\n",
      "[200]\ttraining's l1: 0.870361\tvalid_1's l1: 1.10697\n",
      "[300]\ttraining's l1: 0.868031\tvalid_1's l1: 1.10292\n",
      "[400]\ttraining's l1: 0.866629\tvalid_1's l1: 1.10122\n",
      "[500]\ttraining's l1: 0.865519\tvalid_1's l1: 1.1003\n",
      "[600]\ttraining's l1: 0.864609\tvalid_1's l1: 1.09921\n",
      "[700]\ttraining's l1: 0.864015\tvalid_1's l1: 1.09948\n",
      "Early stopping, best iteration is:\n",
      "[605]\ttraining's l1: 0.864596\tvalid_1's l1: 1.09918\n"
     ]
    },
    {
     "name": "stderr",
     "output_type": "stream",
     "text": [
      "\u001b[32m[I 2021-07-29 13:45:53,802]\u001b[0m Trial 7 finished with value: -1.0988141465481935 and parameters: {'max_depth': 11, 'min_child_weight': 2, 'subsample': 0.9, 'colsample_bytree': 0.9, 'reg_lambda': 1.0069325298766736, 'reg_alpha': 256.1637437458047, 'feature_fraction': 0.369087550782485, 'bagging_fraction': 0.24216539911673599, 'bagging_freq': 1, 'num_leaves': 162, 'min_child_samples': 21}. Best is trial 6 with value: -1.0726970092814383.\u001b[0m\n"
     ]
    },
    {
     "name": "stdout",
     "output_type": "stream",
     "text": [
      "[LightGBM] [Warning] feature_fraction is set=0.9876435911567172, colsample_bytree=0.9 will be ignored. Current value: feature_fraction=0.9876435911567172\n",
      "[LightGBM] [Warning] bagging_fraction is set=0.8213409342691482, subsample=0.7 will be ignored. Current value: bagging_fraction=0.8213409342691482\n",
      "[LightGBM] [Warning] bagging_freq is set=13, subsample_freq=0 will be ignored. Current value: bagging_freq=13\n",
      "Training until validation scores don't improve for 100 rounds\n",
      "[100]\ttraining's l1: 0.842378\tvalid_1's l1: 1.08125\n",
      "[200]\ttraining's l1: 0.838923\tvalid_1's l1: 1.0786\n",
      "[300]\ttraining's l1: 0.832301\tvalid_1's l1: 1.07593\n",
      "[400]\ttraining's l1: 0.825182\tvalid_1's l1: 1.07322\n",
      "[500]\ttraining's l1: 0.822168\tvalid_1's l1: 1.07309\n",
      "[600]\ttraining's l1: 0.813233\tvalid_1's l1: 1.07229\n",
      "Early stopping, best iteration is:\n",
      "[580]\ttraining's l1: 0.815202\tvalid_1's l1: 1.07188\n"
     ]
    },
    {
     "name": "stderr",
     "output_type": "stream",
     "text": [
      "\u001b[32m[I 2021-07-29 13:46:34,993]\u001b[0m Trial 8 finished with value: -1.071578873782566 and parameters: {'max_depth': 15, 'min_child_weight': 18, 'subsample': 0.7, 'colsample_bytree': 0.9, 'reg_lambda': 0.7123271291769266, 'reg_alpha': 2.0064121656190013, 'feature_fraction': 0.9876435911567172, 'bagging_fraction': 0.8213409342691482, 'bagging_freq': 13, 'num_leaves': 353, 'min_child_samples': 89}. Best is trial 8 with value: -1.071578873782566.\u001b[0m\n"
     ]
    },
    {
     "name": "stdout",
     "output_type": "stream",
     "text": [
      "[LightGBM] [Warning] feature_fraction is set=0.758546428473144, colsample_bytree=0.9 will be ignored. Current value: feature_fraction=0.758546428473144\n",
      "[LightGBM] [Warning] bagging_fraction is set=0.4273839926249181, subsample=0.5 will be ignored. Current value: bagging_fraction=0.4273839926249181\n",
      "[LightGBM] [Warning] bagging_freq is set=9, subsample_freq=0 will be ignored. Current value: bagging_freq=9\n",
      "Training until validation scores don't improve for 100 rounds\n",
      "[100]\ttraining's l1: 0.902864\tvalid_1's l1: 1.15523\n",
      "[200]\ttraining's l1: 0.89154\tvalid_1's l1: 1.13536\n",
      "[300]\ttraining's l1: 0.886677\tvalid_1's l1: 1.12741\n",
      "[400]\ttraining's l1: 0.885504\tvalid_1's l1: 1.12643\n",
      "[500]\ttraining's l1: 0.884692\tvalid_1's l1: 1.12497\n",
      "[600]\ttraining's l1: 0.882997\tvalid_1's l1: 1.12286\n",
      "[700]\ttraining's l1: 0.881233\tvalid_1's l1: 1.11903\n",
      "[800]\ttraining's l1: 0.881091\tvalid_1's l1: 1.11898\n",
      "[900]\ttraining's l1: 0.88094\tvalid_1's l1: 1.1191\n",
      "Early stopping, best iteration is:\n",
      "[801]\ttraining's l1: 0.881091\tvalid_1's l1: 1.11898\n"
     ]
    },
    {
     "name": "stderr",
     "output_type": "stream",
     "text": [
      "\u001b[32m[I 2021-07-29 13:46:48,840]\u001b[0m Trial 9 finished with value: -1.1187113841616028 and parameters: {'max_depth': 4, 'min_child_weight': 6, 'subsample': 0.5, 'colsample_bytree': 0.9, 'reg_lambda': 0.017503321860884675, 'reg_alpha': 668.4534691976146, 'feature_fraction': 0.758546428473144, 'bagging_fraction': 0.4273839926249181, 'bagging_freq': 9, 'num_leaves': 290, 'min_child_samples': 79}. Best is trial 8 with value: -1.071578873782566.\u001b[0m\n"
     ]
    },
    {
     "name": "stdout",
     "output_type": "stream",
     "text": [
      "[LightGBM] [Warning] feature_fraction is set=0.21669885597597743, colsample_bytree=0.8 will be ignored. Current value: feature_fraction=0.21669885597597743\n",
      "[LightGBM] [Warning] bagging_fraction is set=0.6840916022129291, subsample=0.6 will be ignored. Current value: bagging_fraction=0.6840916022129291\n",
      "[LightGBM] [Warning] bagging_freq is set=13, subsample_freq=0 will be ignored. Current value: bagging_freq=13\n",
      "Training until validation scores don't improve for 100 rounds\n",
      "[100]\ttraining's l1: 0.848201\tvalid_1's l1: 1.09623\n",
      "[200]\ttraining's l1: 0.837426\tvalid_1's l1: 1.08692\n",
      "[300]\ttraining's l1: 0.832801\tvalid_1's l1: 1.08441\n",
      "[400]\ttraining's l1: 0.829363\tvalid_1's l1: 1.08268\n",
      "[500]\ttraining's l1: 0.827045\tvalid_1's l1: 1.08221\n",
      "[600]\ttraining's l1: 0.825065\tvalid_1's l1: 1.08203\n",
      "[700]\ttraining's l1: 0.823432\tvalid_1's l1: 1.08192\n",
      "[800]\ttraining's l1: 0.821861\tvalid_1's l1: 1.08162\n",
      "[900]\ttraining's l1: 0.820316\tvalid_1's l1: 1.08153\n",
      "[1000]\ttraining's l1: 0.819203\tvalid_1's l1: 1.08165\n",
      "Early stopping, best iteration is:\n",
      "[915]\ttraining's l1: 0.820117\tvalid_1's l1: 1.08124\n"
     ]
    },
    {
     "name": "stderr",
     "output_type": "stream",
     "text": [
      "\u001b[32m[I 2021-07-29 13:47:40,121]\u001b[0m Trial 10 finished with value: -1.080374299449163 and parameters: {'max_depth': 19, 'min_child_weight': 20, 'subsample': 0.6, 'colsample_bytree': 0.8, 'reg_lambda': 974.7810036442897, 'reg_alpha': 31.716126061905545, 'feature_fraction': 0.21669885597597743, 'bagging_fraction': 0.6840916022129291, 'bagging_freq': 13, 'num_leaves': 687, 'min_child_samples': 73}. Best is trial 8 with value: -1.071578873782566.\u001b[0m\n"
     ]
    },
    {
     "name": "stdout",
     "output_type": "stream",
     "text": [
      "[LightGBM] [Warning] feature_fraction is set=0.9936659190278047, colsample_bytree=0.5 will be ignored. Current value: feature_fraction=0.9936659190278047\n",
      "[LightGBM] [Warning] bagging_fraction is set=0.7305949830717824, subsample=0.6 will be ignored. Current value: bagging_fraction=0.7305949830717824\n",
      "[LightGBM] [Warning] bagging_freq is set=2, subsample_freq=0 will be ignored. Current value: bagging_freq=2\n",
      "Training until validation scores don't improve for 100 rounds\n",
      "[100]\ttraining's l1: 0.829752\tvalid_1's l1: 1.07481\n",
      "[200]\ttraining's l1: 0.821375\tvalid_1's l1: 1.07359\n",
      "[300]\ttraining's l1: 0.812243\tvalid_1's l1: 1.07361\n",
      "Early stopping, best iteration is:\n",
      "[238]\ttraining's l1: 0.817446\tvalid_1's l1: 1.07296\n"
     ]
    },
    {
     "name": "stderr",
     "output_type": "stream",
     "text": [
      "\u001b[32m[I 2021-07-29 13:48:11,456]\u001b[0m Trial 11 finished with value: -1.0727211648030701 and parameters: {'max_depth': 15, 'min_child_weight': 20, 'subsample': 0.6, 'colsample_bytree': 0.5, 'reg_lambda': 0.09521069188374828, 'reg_alpha': 0.13725681620997005, 'feature_fraction': 0.9936659190278047, 'bagging_fraction': 0.7305949830717824, 'bagging_freq': 2, 'num_leaves': 605, 'min_child_samples': 85}. Best is trial 8 with value: -1.071578873782566.\u001b[0m\n"
     ]
    },
    {
     "name": "stdout",
     "output_type": "stream",
     "text": [
      "[LightGBM] [Warning] feature_fraction is set=0.8580187876391764, colsample_bytree=0.6 will be ignored. Current value: feature_fraction=0.8580187876391764\n",
      "[LightGBM] [Warning] bagging_fraction is set=0.9572377268382057, subsample=0.8 will be ignored. Current value: bagging_fraction=0.9572377268382057\n",
      "[LightGBM] [Warning] bagging_freq is set=5, subsample_freq=0 will be ignored. Current value: bagging_freq=5\n",
      "Training until validation scores don't improve for 100 rounds\n",
      "[100]\ttraining's l1: 0.846164\tvalid_1's l1: 1.08548\n",
      "[200]\ttraining's l1: 0.842036\tvalid_1's l1: 1.08188\n",
      "[300]\ttraining's l1: 0.840665\tvalid_1's l1: 1.08012\n",
      "[400]\ttraining's l1: 0.838032\tvalid_1's l1: 1.07792\n",
      "[500]\ttraining's l1: 0.83497\tvalid_1's l1: 1.07667\n",
      "[600]\ttraining's l1: 0.832062\tvalid_1's l1: 1.07563\n",
      "[700]\ttraining's l1: 0.827663\tvalid_1's l1: 1.07485\n",
      "[800]\ttraining's l1: 0.825713\tvalid_1's l1: 1.07388\n",
      "Early stopping, best iteration is:\n",
      "[764]\ttraining's l1: 0.826232\tvalid_1's l1: 1.07364\n"
     ]
    },
    {
     "name": "stderr",
     "output_type": "stream",
     "text": [
      "\u001b[32m[I 2021-07-29 13:49:05,255]\u001b[0m Trial 12 finished with value: -1.073412650206067 and parameters: {'max_depth': 14, 'min_child_weight': 17, 'subsample': 0.8, 'colsample_bytree': 0.6, 'reg_lambda': 0.9688211640562395, 'reg_alpha': 0.1827994331169145, 'feature_fraction': 0.8580187876391764, 'bagging_fraction': 0.9572377268382057, 'bagging_freq': 5, 'num_leaves': 328, 'min_child_samples': 92}. Best is trial 8 with value: -1.071578873782566.\u001b[0m\n"
     ]
    },
    {
     "name": "stdout",
     "output_type": "stream",
     "text": [
      "[LightGBM] [Warning] feature_fraction is set=0.6755798983840771, colsample_bytree=0.7 will be ignored. Current value: feature_fraction=0.6755798983840771\n",
      "[LightGBM] [Warning] bagging_fraction is set=0.598979095921792, subsample=0.6 will be ignored. Current value: bagging_fraction=0.598979095921792\n",
      "[LightGBM] [Warning] bagging_freq is set=12, subsample_freq=0 will be ignored. Current value: bagging_freq=12\n",
      "Training until validation scores don't improve for 100 rounds\n",
      "[100]\ttraining's l1: 0.890188\tvalid_1's l1: 1.13622\n"
     ]
    },
    {
     "name": "stderr",
     "output_type": "stream",
     "text": [
      "\u001b[32m[I 2021-07-29 13:49:10,330]\u001b[0m Trial 13 finished with value: -1.136211541153316 and parameters: {'max_depth': 20, 'min_child_weight': 17, 'subsample': 0.6, 'colsample_bytree': 0.7, 'reg_lambda': 0.0958861864039212, 'reg_alpha': 14.7157134550215, 'feature_fraction': 0.6755798983840771, 'bagging_fraction': 0.598979095921792, 'bagging_freq': 12, 'num_leaves': 26, 'min_child_samples': 68}. Best is trial 8 with value: -1.071578873782566.\u001b[0m\n"
     ]
    },
    {
     "name": "stdout",
     "output_type": "stream",
     "text": [
      "Early stopping, best iteration is:\n",
      "[85]\ttraining's l1: 0.89019\tvalid_1's l1: 1.13622\n",
      "[LightGBM] [Warning] feature_fraction is set=0.9989653126678414, colsample_bytree=0.8 will be ignored. Current value: feature_fraction=0.9989653126678414\n",
      "[LightGBM] [Warning] bagging_fraction is set=0.8267075682048711, subsample=0.8 will be ignored. Current value: bagging_fraction=0.8267075682048711\n",
      "[LightGBM] [Warning] bagging_freq is set=6, subsample_freq=0 will be ignored. Current value: bagging_freq=6\n",
      "Training until validation scores don't improve for 100 rounds\n",
      "[100]\ttraining's l1: 0.845413\tvalid_1's l1: 1.08779\n",
      "[200]\ttraining's l1: 0.837357\tvalid_1's l1: 1.07786\n",
      "[300]\ttraining's l1: 0.834273\tvalid_1's l1: 1.07618\n",
      "[400]\ttraining's l1: 0.832356\tvalid_1's l1: 1.07567\n",
      "[500]\ttraining's l1: 0.8306\tvalid_1's l1: 1.07436\n",
      "[600]\ttraining's l1: 0.828156\tvalid_1's l1: 1.07393\n",
      "[700]\ttraining's l1: 0.825748\tvalid_1's l1: 1.07175\n",
      "[800]\ttraining's l1: 0.823724\tvalid_1's l1: 1.0715\n",
      "[900]\ttraining's l1: 0.820836\tvalid_1's l1: 1.07148\n",
      "Early stopping, best iteration is:\n",
      "[820]\ttraining's l1: 0.823135\tvalid_1's l1: 1.07109\n"
     ]
    },
    {
     "name": "stderr",
     "output_type": "stream",
     "text": [
      "\u001b[32m[I 2021-07-29 13:49:49,173]\u001b[0m Trial 14 finished with value: -1.070796843996006 and parameters: {'max_depth': 8, 'min_child_weight': 17, 'subsample': 0.8, 'colsample_bytree': 0.8, 'reg_lambda': 10.320409089795104, 'reg_alpha': 0.0023357428414597704, 'feature_fraction': 0.9989653126678414, 'bagging_fraction': 0.8267075682048711, 'bagging_freq': 6, 'num_leaves': 749, 'min_child_samples': 88}. Best is trial 14 with value: -1.070796843996006.\u001b[0m\n"
     ]
    },
    {
     "name": "stdout",
     "output_type": "stream",
     "text": [
      "[LightGBM] [Warning] feature_fraction is set=0.9920074903007281, colsample_bytree=0.8 will be ignored. Current value: feature_fraction=0.9920074903007281\n",
      "[LightGBM] [Warning] bagging_fraction is set=0.6159381080560837, subsample=0.8 will be ignored. Current value: bagging_fraction=0.6159381080560837\n",
      "[LightGBM] [Warning] bagging_freq is set=11, subsample_freq=0 will be ignored. Current value: bagging_freq=11\n",
      "Training until validation scores don't improve for 100 rounds\n",
      "[100]\ttraining's l1: 0.847491\tvalid_1's l1: 1.08889\n",
      "[200]\ttraining's l1: 0.840143\tvalid_1's l1: 1.08251\n",
      "[300]\ttraining's l1: 0.83532\tvalid_1's l1: 1.07976\n",
      "[400]\ttraining's l1: 0.829738\tvalid_1's l1: 1.07832\n",
      "[500]\ttraining's l1: 0.826224\tvalid_1's l1: 1.0775\n",
      "[600]\ttraining's l1: 0.822561\tvalid_1's l1: 1.07662\n",
      "[700]\ttraining's l1: 0.819131\tvalid_1's l1: 1.0754\n",
      "[800]\ttraining's l1: 0.816418\tvalid_1's l1: 1.07564\n",
      "Early stopping, best iteration is:\n",
      "[751]\ttraining's l1: 0.817779\tvalid_1's l1: 1.07523\n"
     ]
    },
    {
     "name": "stderr",
     "output_type": "stream",
     "text": [
      "\u001b[32m[I 2021-07-29 13:50:24,459]\u001b[0m Trial 15 finished with value: -1.074756288634908 and parameters: {'max_depth': 9, 'min_child_weight': 15, 'subsample': 0.8, 'colsample_bytree': 0.8, 'reg_lambda': 98.22078074580922, 'reg_alpha': 0.0014069674340100866, 'feature_fraction': 0.9920074903007281, 'bagging_fraction': 0.6159381080560837, 'bagging_freq': 11, 'num_leaves': 838, 'min_child_samples': 66}. Best is trial 14 with value: -1.070796843996006.\u001b[0m\n"
     ]
    },
    {
     "name": "stdout",
     "output_type": "stream",
     "text": [
      "[LightGBM] [Warning] feature_fraction is set=0.584555067158256, colsample_bytree=0.8 will be ignored. Current value: feature_fraction=0.584555067158256\n",
      "[LightGBM] [Warning] bagging_fraction is set=0.7932476875860665, subsample=0.8 will be ignored. Current value: bagging_fraction=0.7932476875860665\n",
      "[LightGBM] [Warning] bagging_freq is set=4, subsample_freq=0 will be ignored. Current value: bagging_freq=4\n",
      "Training until validation scores don't improve for 100 rounds\n",
      "[100]\ttraining's l1: 0.845373\tvalid_1's l1: 1.08735\n",
      "[200]\ttraining's l1: 0.838544\tvalid_1's l1: 1.08081\n",
      "Early stopping, best iteration is:\n",
      "[182]\ttraining's l1: 0.838577\tvalid_1's l1: 1.08077\n"
     ]
    },
    {
     "name": "stderr",
     "output_type": "stream",
     "text": [
      "\u001b[32m[I 2021-07-29 13:50:40,772]\u001b[0m Trial 16 finished with value: -1.0806636422901468 and parameters: {'max_depth': 9, 'min_child_weight': 20, 'subsample': 0.8, 'colsample_bytree': 0.8, 'reg_lambda': 6.766456069755918, 'reg_alpha': 23.469861681624845, 'feature_fraction': 0.584555067158256, 'bagging_fraction': 0.7932476875860665, 'bagging_freq': 4, 'num_leaves': 726, 'min_child_samples': 5}. Best is trial 14 with value: -1.070796843996006.\u001b[0m\n"
     ]
    },
    {
     "name": "stdout",
     "output_type": "stream",
     "text": [
      "[LightGBM] [Warning] feature_fraction is set=0.9214634968216087, colsample_bytree=0.9 will be ignored. Current value: feature_fraction=0.9214634968216087\n",
      "[LightGBM] [Warning] bagging_fraction is set=0.9929823424941914, subsample=0.8 will be ignored. Current value: bagging_fraction=0.9929823424941914\n",
      "[LightGBM] [Warning] bagging_freq is set=14, subsample_freq=0 will be ignored. Current value: bagging_freq=14\n",
      "Training until validation scores don't improve for 100 rounds\n",
      "[100]\ttraining's l1: 0.82957\tvalid_1's l1: 1.07957\n",
      "[200]\ttraining's l1: 0.819443\tvalid_1's l1: 1.07554\n",
      "[300]\ttraining's l1: 0.812004\tvalid_1's l1: 1.07474\n",
      "[400]\ttraining's l1: 0.807456\tvalid_1's l1: 1.07422\n",
      "[500]\ttraining's l1: 0.804936\tvalid_1's l1: 1.07423\n",
      "Early stopping, best iteration is:\n",
      "[471]\ttraining's l1: 0.805541\tvalid_1's l1: 1.0741\n"
     ]
    },
    {
     "name": "stderr",
     "output_type": "stream",
     "text": [
      "\u001b[32m[I 2021-07-29 13:51:23,661]\u001b[0m Trial 17 finished with value: -1.073818357230573 and parameters: {'max_depth': 15, 'min_child_weight': 15, 'subsample': 0.8, 'colsample_bytree': 0.9, 'reg_lambda': 294.0774241275124, 'reg_alpha': 0.008412702595432203, 'feature_fraction': 0.9214634968216087, 'bagging_fraction': 0.9929823424941914, 'bagging_freq': 14, 'num_leaves': 583, 'min_child_samples': 100}. Best is trial 14 with value: -1.070796843996006.\u001b[0m\n"
     ]
    },
    {
     "name": "stdout",
     "output_type": "stream",
     "text": [
      "[LightGBM] [Warning] feature_fraction is set=0.6941642523999269, colsample_bytree=0.8 will be ignored. Current value: feature_fraction=0.6941642523999269\n",
      "[LightGBM] [Warning] bagging_fraction is set=0.8138867714501569, subsample=0.7 will be ignored. Current value: bagging_fraction=0.8138867714501569\n",
      "[LightGBM] [Warning] bagging_freq is set=8, subsample_freq=0 will be ignored. Current value: bagging_freq=8\n",
      "Training until validation scores don't improve for 100 rounds\n",
      "[100]\ttraining's l1: 0.845809\tvalid_1's l1: 1.08484\n",
      "[200]\ttraining's l1: 0.842169\tvalid_1's l1: 1.081\n",
      "[300]\ttraining's l1: 0.841692\tvalid_1's l1: 1.0803\n",
      "Early stopping, best iteration is:\n",
      "[248]\ttraining's l1: 0.841729\tvalid_1's l1: 1.08029\n"
     ]
    },
    {
     "name": "stderr",
     "output_type": "stream",
     "text": [
      "\u001b[32m[I 2021-07-29 13:51:36,687]\u001b[0m Trial 18 finished with value: -1.0802138036776976 and parameters: {'max_depth': 8, 'min_child_weight': 8, 'subsample': 0.7, 'colsample_bytree': 0.8, 'reg_lambda': 66.52907561784677, 'reg_alpha': 0.5018871003897072, 'feature_fraction': 0.6941642523999269, 'bagging_fraction': 0.8138867714501569, 'bagging_freq': 8, 'num_leaves': 991, 'min_child_samples': 78}. Best is trial 14 with value: -1.070796843996006.\u001b[0m\n"
     ]
    },
    {
     "name": "stdout",
     "output_type": "stream",
     "text": [
      "[LightGBM] [Warning] feature_fraction is set=0.9976638474461519, colsample_bytree=0.9 will be ignored. Current value: feature_fraction=0.9976638474461519\n",
      "[LightGBM] [Warning] bagging_fraction is set=0.6974569085932941, subsample=0.6 will be ignored. Current value: bagging_fraction=0.6974569085932941\n",
      "[LightGBM] [Warning] bagging_freq is set=9, subsample_freq=0 will be ignored. Current value: bagging_freq=9\n",
      "Training until validation scores don't improve for 100 rounds\n",
      "[100]\ttraining's l1: 1.00078\tvalid_1's l1: 1.30238\n",
      "[200]\ttraining's l1: 1.00078\tvalid_1's l1: 1.30238\n",
      "[300]\ttraining's l1: 1.00078\tvalid_1's l1: 1.30238\n"
     ]
    },
    {
     "name": "stderr",
     "output_type": "stream",
     "text": [
      "\u001b[32m[I 2021-07-29 13:51:43,782]\u001b[0m Trial 19 finished with value: -1.302384762070202 and parameters: {'max_depth': 1, 'min_child_weight': 18, 'subsample': 0.6, 'colsample_bytree': 0.9, 'reg_lambda': 2.0262935407302383, 'reg_alpha': 6.024527507676286, 'feature_fraction': 0.9976638474461519, 'bagging_fraction': 0.6974569085932941, 'bagging_freq': 9, 'num_leaves': 796, 'min_child_samples': 43}. Best is trial 14 with value: -1.070796843996006.\u001b[0m\n"
     ]
    },
    {
     "name": "stdout",
     "output_type": "stream",
     "text": [
      "Early stopping, best iteration is:\n",
      "[234]\ttraining's l1: 1.00078\tvalid_1's l1: 1.30238\n",
      "[LightGBM] [Warning] feature_fraction is set=0.9265077016758021, colsample_bytree=0.7 will be ignored. Current value: feature_fraction=0.9265077016758021\n",
      "[LightGBM] [Warning] bagging_fraction is set=0.6163289359403531, subsample=0.8 will be ignored. Current value: bagging_fraction=0.6163289359403531\n",
      "[LightGBM] [Warning] bagging_freq is set=14, subsample_freq=0 will be ignored. Current value: bagging_freq=14\n",
      "Training until validation scores don't improve for 100 rounds\n",
      "[100]\ttraining's l1: 0.844267\tvalid_1's l1: 1.08349\n",
      "[200]\ttraining's l1: 0.8394\tvalid_1's l1: 1.07951\n",
      "[300]\ttraining's l1: 0.837023\tvalid_1's l1: 1.07839\n",
      "[400]\ttraining's l1: 0.83575\tvalid_1's l1: 1.07791\n",
      "[500]\ttraining's l1: 0.834305\tvalid_1's l1: 1.07753\n",
      "[600]\ttraining's l1: 0.83326\tvalid_1's l1: 1.07686\n",
      "[700]\ttraining's l1: 0.832502\tvalid_1's l1: 1.07658\n",
      "[800]\ttraining's l1: 0.831723\tvalid_1's l1: 1.07649\n",
      "[900]\ttraining's l1: 0.830948\tvalid_1's l1: 1.07655\n",
      "[1000]\ttraining's l1: 0.830359\tvalid_1's l1: 1.07662\n",
      "Early stopping, best iteration is:\n",
      "[921]\ttraining's l1: 0.830844\tvalid_1's l1: 1.07632\n"
     ]
    },
    {
     "name": "stderr",
     "output_type": "stream",
     "text": [
      "\u001b[32m[I 2021-07-29 13:52:46,340]\u001b[0m Trial 20 finished with value: -1.0759191197573987 and parameters: {'max_depth': 18, 'min_child_weight': 15, 'subsample': 0.8, 'colsample_bytree': 0.7, 'reg_lambda': 0.28641624074152, 'reg_alpha': 101.7609911392922, 'feature_fraction': 0.9265077016758021, 'bagging_fraction': 0.6163289359403531, 'bagging_freq': 14, 'num_leaves': 600, 'min_child_samples': 91}. Best is trial 14 with value: -1.070796843996006.\u001b[0m\n"
     ]
    },
    {
     "name": "stdout",
     "output_type": "stream",
     "text": [
      "[LightGBM] [Warning] feature_fraction is set=0.8595195220380336, colsample_bytree=0.6 will be ignored. Current value: feature_fraction=0.8595195220380336\n",
      "[LightGBM] [Warning] bagging_fraction is set=0.8753026527031811, subsample=0.7 will be ignored. Current value: bagging_fraction=0.8753026527031811\n",
      "[LightGBM] [Warning] bagging_freq is set=6, subsample_freq=0 will be ignored. Current value: bagging_freq=6\n",
      "Training until validation scores don't improve for 100 rounds\n",
      "[100]\ttraining's l1: 0.840485\tvalid_1's l1: 1.08002\n",
      "[200]\ttraining's l1: 0.838871\tvalid_1's l1: 1.07929\n",
      "[300]\ttraining's l1: 0.835801\tvalid_1's l1: 1.07733\n",
      "[400]\ttraining's l1: 0.83299\tvalid_1's l1: 1.07558\n",
      "[500]\ttraining's l1: 0.830839\tvalid_1's l1: 1.07508\n",
      "[600]\ttraining's l1: 0.827675\tvalid_1's l1: 1.07421\n",
      "[700]\ttraining's l1: 0.825851\tvalid_1's l1: 1.07365\n",
      "[800]\ttraining's l1: 0.824967\tvalid_1's l1: 1.07344\n",
      "Early stopping, best iteration is:\n",
      "[743]\ttraining's l1: 0.825648\tvalid_1's l1: 1.07336\n"
     ]
    },
    {
     "name": "stderr",
     "output_type": "stream",
     "text": [
      "\u001b[32m[I 2021-07-29 13:53:31,143]\u001b[0m Trial 21 finished with value: -1.0731149970811795 and parameters: {'max_depth': 13, 'min_child_weight': 18, 'subsample': 0.7, 'colsample_bytree': 0.6, 'reg_lambda': 0.009890698292669822, 'reg_alpha': 0.02346805661668476, 'feature_fraction': 0.8595195220380336, 'bagging_fraction': 0.8753026527031811, 'bagging_freq': 6, 'num_leaves': 360, 'min_child_samples': 87}. Best is trial 14 with value: -1.070796843996006.\u001b[0m\n"
     ]
    },
    {
     "name": "stdout",
     "output_type": "stream",
     "text": [
      "[LightGBM] [Warning] feature_fraction is set=0.8459435786283508, colsample_bytree=0.7 will be ignored. Current value: feature_fraction=0.8459435786283508\n",
      "[LightGBM] [Warning] bagging_fraction is set=0.9014364546736312, subsample=0.7 will be ignored. Current value: bagging_fraction=0.9014364546736312\n",
      "[LightGBM] [Warning] bagging_freq is set=3, subsample_freq=0 will be ignored. Current value: bagging_freq=3\n",
      "Training until validation scores don't improve for 100 rounds\n",
      "[100]\ttraining's l1: 0.835895\tvalid_1's l1: 1.07893\n",
      "[200]\ttraining's l1: 0.828929\tvalid_1's l1: 1.07484\n",
      "[300]\ttraining's l1: 0.827259\tvalid_1's l1: 1.07378\n",
      "[400]\ttraining's l1: 0.826907\tvalid_1's l1: 1.07347\n",
      "Early stopping, best iteration is:\n",
      "[399]\ttraining's l1: 0.826907\tvalid_1's l1: 1.07347\n"
     ]
    },
    {
     "name": "stderr",
     "output_type": "stream",
     "text": [
      "\u001b[32m[I 2021-07-29 13:53:58,230]\u001b[0m Trial 22 finished with value: -1.0733508748837333 and parameters: {'max_depth': 10, 'min_child_weight': 19, 'subsample': 0.7, 'colsample_bytree': 0.7, 'reg_lambda': 3.243965820844839, 'reg_alpha': 0.41097697849703835, 'feature_fraction': 0.8459435786283508, 'bagging_fraction': 0.9014364546736312, 'bagging_freq': 3, 'num_leaves': 459, 'min_child_samples': 82}. Best is trial 14 with value: -1.070796843996006.\u001b[0m\n"
     ]
    },
    {
     "name": "stdout",
     "output_type": "stream",
     "text": [
      "[LightGBM] [Warning] feature_fraction is set=0.9890767454034157, colsample_bytree=0.8 will be ignored. Current value: feature_fraction=0.9890767454034157\n",
      "[LightGBM] [Warning] bagging_fraction is set=0.8266394994782731, subsample=0.7 will be ignored. Current value: bagging_fraction=0.8266394994782731\n",
      "[LightGBM] [Warning] bagging_freq is set=6, subsample_freq=0 will be ignored. Current value: bagging_freq=6\n",
      "Training until validation scores don't improve for 100 rounds\n",
      "[100]\ttraining's l1: 0.846949\tvalid_1's l1: 1.08479\n",
      "[200]\ttraining's l1: 0.843565\tvalid_1's l1: 1.08128\n",
      "[300]\ttraining's l1: 0.839358\tvalid_1's l1: 1.07804\n",
      "[400]\ttraining's l1: 0.837678\tvalid_1's l1: 1.07745\n",
      "[500]\ttraining's l1: 0.83594\tvalid_1's l1: 1.07673\n",
      "[600]\ttraining's l1: 0.832718\tvalid_1's l1: 1.07511\n",
      "[700]\ttraining's l1: 0.830796\tvalid_1's l1: 1.07425\n",
      "[800]\ttraining's l1: 0.828741\tvalid_1's l1: 1.07363\n",
      "Early stopping, best iteration is:\n",
      "[764]\ttraining's l1: 0.829317\tvalid_1's l1: 1.07351\n"
     ]
    },
    {
     "name": "stderr",
     "output_type": "stream",
     "text": [
      "\u001b[32m[I 2021-07-29 13:54:43,422]\u001b[0m Trial 23 finished with value: -1.0732308145990892 and parameters: {'max_depth': 12, 'min_child_weight': 16, 'subsample': 0.7, 'colsample_bytree': 0.8, 'reg_lambda': 0.19913427449079898, 'reg_alpha': 0.004972121894773969, 'feature_fraction': 0.9890767454034157, 'bagging_fraction': 0.8266394994782731, 'bagging_freq': 6, 'num_leaves': 252, 'min_child_samples': 94}. Best is trial 14 with value: -1.070796843996006.\u001b[0m\n"
     ]
    },
    {
     "name": "stdout",
     "output_type": "stream",
     "text": [
      "[LightGBM] [Warning] feature_fraction is set=0.7691984144013373, colsample_bytree=0.5 will be ignored. Current value: feature_fraction=0.7691984144013373\n",
      "[LightGBM] [Warning] bagging_fraction is set=0.9992779044046012, subsample=0.6 will be ignored. Current value: bagging_fraction=0.9992779044046012\n",
      "[LightGBM] [Warning] bagging_freq is set=7, subsample_freq=0 will be ignored. Current value: bagging_freq=7\n",
      "Training until validation scores don't improve for 100 rounds\n",
      "[100]\ttraining's l1: 0.874144\tvalid_1's l1: 1.11437\n",
      "[200]\ttraining's l1: 0.873628\tvalid_1's l1: 1.11334\n",
      "[300]\ttraining's l1: 0.871422\tvalid_1's l1: 1.10991\n",
      "[400]\ttraining's l1: 0.869414\tvalid_1's l1: 1.10765\n",
      "[500]\ttraining's l1: 0.866951\tvalid_1's l1: 1.10389\n",
      "[600]\ttraining's l1: 0.861659\tvalid_1's l1: 1.09636\n",
      "[700]\ttraining's l1: 0.859112\tvalid_1's l1: 1.09349\n",
      "[800]\ttraining's l1: 0.855726\tvalid_1's l1: 1.08902\n",
      "[900]\ttraining's l1: 0.852428\tvalid_1's l1: 1.08589\n",
      "[1000]\ttraining's l1: 0.847761\tvalid_1's l1: 1.08244\n",
      "[1100]\ttraining's l1: 0.842867\tvalid_1's l1: 1.07877\n",
      "[1200]\ttraining's l1: 0.841999\tvalid_1's l1: 1.07829\n",
      "[1300]\ttraining's l1: 0.840849\tvalid_1's l1: 1.07785\n",
      "[1400]\ttraining's l1: 0.839845\tvalid_1's l1: 1.07748\n",
      "[1500]\ttraining's l1: 0.836752\tvalid_1's l1: 1.07622\n",
      "[1600]\ttraining's l1: 0.836068\tvalid_1's l1: 1.07616\n",
      "[1700]\ttraining's l1: 0.833528\tvalid_1's l1: 1.07481\n",
      "[1800]\ttraining's l1: 0.831346\tvalid_1's l1: 1.07422\n",
      "Early stopping, best iteration is:\n",
      "[1732]\ttraining's l1: 0.83221\tvalid_1's l1: 1.07415\n"
     ]
    },
    {
     "name": "stderr",
     "output_type": "stream",
     "text": [
      "\u001b[32m[I 2021-07-29 13:55:45,485]\u001b[0m Trial 24 finished with value: -1.0737980943345984 and parameters: {'max_depth': 17, 'min_child_weight': 13, 'subsample': 0.6, 'colsample_bytree': 0.5, 'reg_lambda': 34.73561541411091, 'reg_alpha': 0.05037177847476494, 'feature_fraction': 0.7691984144013373, 'bagging_fraction': 0.9992779044046012, 'bagging_freq': 7, 'num_leaves': 65, 'min_child_samples': 68}. Best is trial 14 with value: -1.070796843996006.\u001b[0m\n"
     ]
    },
    {
     "name": "stdout",
     "output_type": "stream",
     "text": [
      "[LightGBM] [Warning] feature_fraction is set=0.9085348326165221, colsample_bytree=0.6 will be ignored. Current value: feature_fraction=0.9085348326165221\n",
      "[LightGBM] [Warning] bagging_fraction is set=0.7431315426520577, subsample=0.8 will be ignored. Current value: bagging_fraction=0.7431315426520577\n",
      "[LightGBM] [Warning] bagging_freq is set=10, subsample_freq=0 will be ignored. Current value: bagging_freq=10\n",
      "Training until validation scores don't improve for 100 rounds\n",
      "[100]\ttraining's l1: 0.841239\tvalid_1's l1: 1.08167\n",
      "[200]\ttraining's l1: 0.836104\tvalid_1's l1: 1.07827\n",
      "[300]\ttraining's l1: 0.833825\tvalid_1's l1: 1.07814\n",
      "[400]\ttraining's l1: 0.830402\tvalid_1's l1: 1.07646\n",
      "[500]\ttraining's l1: 0.826209\tvalid_1's l1: 1.07545\n",
      "[600]\ttraining's l1: 0.822624\tvalid_1's l1: 1.07406\n",
      "Early stopping, best iteration is:\n",
      "[574]\ttraining's l1: 0.823297\tvalid_1's l1: 1.07395\n"
     ]
    },
    {
     "name": "stderr",
     "output_type": "stream",
     "text": [
      "\u001b[32m[I 2021-07-29 13:56:20,276]\u001b[0m Trial 25 finished with value: -1.07369702394031 and parameters: {'max_depth': 15, 'min_child_weight': 18, 'subsample': 0.8, 'colsample_bytree': 0.6, 'reg_lambda': 0.0066313486025766704, 'reg_alpha': 0.5922071752747037, 'feature_fraction': 0.9085348326165221, 'bagging_fraction': 0.7431315426520577, 'bagging_freq': 10, 'num_leaves': 376, 'min_child_samples': 76}. Best is trial 14 with value: -1.070796843996006.\u001b[0m\n"
     ]
    },
    {
     "name": "stdout",
     "output_type": "stream",
     "text": [
      "[LightGBM] [Warning] feature_fraction is set=0.630743090873827, colsample_bytree=0.9 will be ignored. Current value: feature_fraction=0.630743090873827\n",
      "[LightGBM] [Warning] bagging_fraction is set=0.8604055239560613, subsample=0.7 will be ignored. Current value: bagging_fraction=0.8604055239560613\n",
      "[LightGBM] [Warning] bagging_freq is set=4, subsample_freq=0 will be ignored. Current value: bagging_freq=4\n",
      "Training until validation scores don't improve for 100 rounds\n",
      "[100]\ttraining's l1: 0.832131\tvalid_1's l1: 1.07946\n",
      "[200]\ttraining's l1: 0.825738\tvalid_1's l1: 1.07632\n",
      "[300]\ttraining's l1: 0.824097\tvalid_1's l1: 1.07511\n",
      "Early stopping, best iteration is:\n",
      "[288]\ttraining's l1: 0.824124\tvalid_1's l1: 1.07508\n"
     ]
    },
    {
     "name": "stderr",
     "output_type": "stream",
     "text": [
      "\u001b[32m[I 2021-07-29 13:56:41,907]\u001b[0m Trial 26 finished with value: -1.0749361651541003 and parameters: {'max_depth': 11, 'min_child_weight': 20, 'subsample': 0.7, 'colsample_bytree': 0.9, 'reg_lambda': 0.040183141362059666, 'reg_alpha': 0.001180326300697662, 'feature_fraction': 0.630743090873827, 'bagging_fraction': 0.8604055239560613, 'bagging_freq': 4, 'num_leaves': 528, 'min_child_samples': 94}. Best is trial 14 with value: -1.070796843996006.\u001b[0m\n"
     ]
    },
    {
     "name": "stdout",
     "output_type": "stream",
     "text": [
      "[LightGBM] [Warning] feature_fraction is set=0.7905745752968838, colsample_bytree=0.8 will be ignored. Current value: feature_fraction=0.7905745752968838\n",
      "[LightGBM] [Warning] bagging_fraction is set=0.9487741279286281, subsample=0.8 will be ignored. Current value: bagging_fraction=0.9487741279286281\n",
      "[LightGBM] [Warning] bagging_freq is set=11, subsample_freq=0 will be ignored. Current value: bagging_freq=11\n",
      "Training until validation scores don't improve for 100 rounds\n",
      "[100]\ttraining's l1: 0.825129\tvalid_1's l1: 1.07474\n",
      "[200]\ttraining's l1: 0.816786\tvalid_1's l1: 1.07194\n",
      "[300]\ttraining's l1: 0.805947\tvalid_1's l1: 1.06951\n",
      "Early stopping, best iteration is:\n",
      "[283]\ttraining's l1: 0.807703\tvalid_1's l1: 1.06932\n"
     ]
    },
    {
     "name": "stderr",
     "output_type": "stream",
     "text": [
      "\u001b[32m[I 2021-07-29 13:57:09,846]\u001b[0m Trial 27 finished with value: -1.0691172575752521 and parameters: {'max_depth': 13, 'min_child_weight': 16, 'subsample': 0.8, 'colsample_bytree': 0.8, 'reg_lambda': 0.32706076413357327, 'reg_alpha': 0.13995125706189546, 'feature_fraction': 0.7905745752968838, 'bagging_fraction': 0.9487741279286281, 'bagging_freq': 11, 'num_leaves': 686, 'min_child_samples': 62}. Best is trial 27 with value: -1.0691172575752521.\u001b[0m\n"
     ]
    },
    {
     "name": "stdout",
     "output_type": "stream",
     "text": [
      "[LightGBM] [Warning] feature_fraction is set=0.7689261041379705, colsample_bytree=0.8 will be ignored. Current value: feature_fraction=0.7689261041379705\n",
      "[LightGBM] [Warning] bagging_fraction is set=0.9874495475474355, subsample=0.9 will be ignored. Current value: bagging_fraction=0.9874495475474355\n",
      "[LightGBM] [Warning] bagging_freq is set=12, subsample_freq=0 will be ignored. Current value: bagging_freq=12\n",
      "Training until validation scores don't improve for 100 rounds\n",
      "[100]\ttraining's l1: 0.825436\tvalid_1's l1: 1.07433\n",
      "[200]\ttraining's l1: 0.819372\tvalid_1's l1: 1.07261\n",
      "[300]\ttraining's l1: 0.809273\tvalid_1's l1: 1.0718\n",
      "[400]\ttraining's l1: 0.806165\tvalid_1's l1: 1.07096\n",
      "Early stopping, best iteration is:\n",
      "[315]\ttraining's l1: 0.80773\tvalid_1's l1: 1.07083\n"
     ]
    },
    {
     "name": "stderr",
     "output_type": "stream",
     "text": [
      "\u001b[32m[I 2021-07-29 13:57:40,963]\u001b[0m Trial 28 finished with value: -1.0706453733593995 and parameters: {'max_depth': 16, 'min_child_weight': 16, 'subsample': 0.9, 'colsample_bytree': 0.8, 'reg_lambda': 0.335849708943687, 'reg_alpha': 0.028124460289034266, 'feature_fraction': 0.7689261041379705, 'bagging_fraction': 0.9874495475474355, 'bagging_freq': 12, 'num_leaves': 705, 'min_child_samples': 60}. Best is trial 27 with value: -1.0691172575752521.\u001b[0m\n"
     ]
    },
    {
     "name": "stdout",
     "output_type": "stream",
     "text": [
      "[LightGBM] [Warning] feature_fraction is set=0.5295282366121836, colsample_bytree=0.8 will be ignored. Current value: feature_fraction=0.5295282366121836\n",
      "[LightGBM] [Warning] bagging_fraction is set=0.9480980434293088, subsample=0.9 will be ignored. Current value: bagging_fraction=0.9480980434293088\n",
      "[LightGBM] [Warning] bagging_freq is set=11, subsample_freq=0 will be ignored. Current value: bagging_freq=11\n",
      "Training until validation scores don't improve for 100 rounds\n",
      "[100]\ttraining's l1: 0.826877\tvalid_1's l1: 1.07663\n",
      "[200]\ttraining's l1: 0.81911\tvalid_1's l1: 1.0749\n",
      "[300]\ttraining's l1: 0.812711\tvalid_1's l1: 1.074\n",
      "[400]\ttraining's l1: 0.809415\tvalid_1's l1: 1.07353\n",
      "[500]\ttraining's l1: 0.803301\tvalid_1's l1: 1.0734\n",
      "[600]\ttraining's l1: 0.79182\tvalid_1's l1: 1.07396\n",
      "Early stopping, best iteration is:\n",
      "[517]\ttraining's l1: 0.800509\tvalid_1's l1: 1.07308\n"
     ]
    },
    {
     "name": "stderr",
     "output_type": "stream",
     "text": [
      "\u001b[32m[I 2021-07-29 13:58:30,787]\u001b[0m Trial 29 finished with value: -1.0727476623746737 and parameters: {'max_depth': 17, 'min_child_weight': 13, 'subsample': 0.9, 'colsample_bytree': 0.8, 'reg_lambda': 10.11191729392099, 'reg_alpha': 0.0032546069822260762, 'feature_fraction': 0.5295282366121836, 'bagging_fraction': 0.9480980434293088, 'bagging_freq': 11, 'num_leaves': 688, 'min_child_samples': 52}. Best is trial 27 with value: -1.0691172575752521.\u001b[0m\n"
     ]
    },
    {
     "name": "stdout",
     "output_type": "stream",
     "text": [
      "[LightGBM] [Warning] feature_fraction is set=0.7395542511653354, colsample_bytree=0.8 will be ignored. Current value: feature_fraction=0.7395542511653354\n",
      "[LightGBM] [Warning] bagging_fraction is set=0.9365551831376377, subsample=0.9 will be ignored. Current value: bagging_fraction=0.9365551831376377\n",
      "[LightGBM] [Warning] bagging_freq is set=9, subsample_freq=0 will be ignored. Current value: bagging_freq=9\n",
      "Training until validation scores don't improve for 100 rounds\n",
      "[100]\ttraining's l1: 0.848799\tvalid_1's l1: 1.08662\n",
      "[200]\ttraining's l1: 0.844563\tvalid_1's l1: 1.08269\n"
     ]
    },
    {
     "name": "stderr",
     "output_type": "stream",
     "text": [
      "\u001b[32m[I 2021-07-29 13:58:40,574]\u001b[0m Trial 30 finished with value: -1.0821048066104728 and parameters: {'max_depth': 7, 'min_child_weight': 9, 'subsample': 0.9, 'colsample_bytree': 0.8, 'reg_lambda': 3.61298000760169, 'reg_alpha': 0.024711738127100244, 'feature_fraction': 0.7395542511653354, 'bagging_fraction': 0.9365551831376377, 'bagging_freq': 9, 'num_leaves': 850, 'min_child_samples': 31}. Best is trial 27 with value: -1.0691172575752521.\u001b[0m\n"
     ]
    },
    {
     "name": "stdout",
     "output_type": "stream",
     "text": [
      "Early stopping, best iteration is:\n",
      "[147]\ttraining's l1: 0.844896\tvalid_1's l1: 1.08214\n",
      "[LightGBM] [Warning] feature_fraction is set=0.9507827812179971, colsample_bytree=0.8 will be ignored. Current value: feature_fraction=0.9507827812179971\n",
      "[LightGBM] [Warning] bagging_fraction is set=0.9924208350829182, subsample=0.8 will be ignored. Current value: bagging_fraction=0.9924208350829182\n",
      "[LightGBM] [Warning] bagging_freq is set=13, subsample_freq=0 will be ignored. Current value: bagging_freq=13\n",
      "Training until validation scores don't improve for 100 rounds\n",
      "[100]\ttraining's l1: 0.821426\tvalid_1's l1: 1.07334\n",
      "[200]\ttraining's l1: 0.812529\tvalid_1's l1: 1.07136\n",
      "[300]\ttraining's l1: 0.802599\tvalid_1's l1: 1.07039\n",
      "[400]\ttraining's l1: 0.799038\tvalid_1's l1: 1.07031\n",
      "[500]\ttraining's l1: 0.791141\tvalid_1's l1: 1.07109\n",
      "Early stopping, best iteration is:\n",
      "[412]\ttraining's l1: 0.798733\tvalid_1's l1: 1.07024\n"
     ]
    },
    {
     "name": "stderr",
     "output_type": "stream",
     "text": [
      "\u001b[32m[I 2021-07-29 13:59:25,461]\u001b[0m Trial 31 finished with value: -1.0700103084318602 and parameters: {'max_depth': 14, 'min_child_weight': 14, 'subsample': 0.8, 'colsample_bytree': 0.8, 'reg_lambda': 0.46909076798164645, 'reg_alpha': 0.25680354495895225, 'feature_fraction': 0.9507827812179971, 'bagging_fraction': 0.9924208350829182, 'bagging_freq': 13, 'num_leaves': 758, 'min_child_samples': 62}. Best is trial 27 with value: -1.0691172575752521.\u001b[0m\n"
     ]
    },
    {
     "name": "stdout",
     "output_type": "stream",
     "text": [
      "[LightGBM] [Warning] feature_fraction is set=0.8084260052949066, colsample_bytree=0.8 will be ignored. Current value: feature_fraction=0.8084260052949066\n",
      "[LightGBM] [Warning] bagging_fraction is set=0.9987800244348577, subsample=0.8 will be ignored. Current value: bagging_fraction=0.9987800244348577\n",
      "[LightGBM] [Warning] bagging_freq is set=12, subsample_freq=0 will be ignored. Current value: bagging_freq=12\n",
      "Training until validation scores don't improve for 100 rounds\n",
      "[100]\ttraining's l1: 0.821387\tvalid_1's l1: 1.0732\n",
      "[200]\ttraining's l1: 0.813887\tvalid_1's l1: 1.07148\n",
      "[300]\ttraining's l1: 0.807187\tvalid_1's l1: 1.07093\n",
      "Early stopping, best iteration is:\n",
      "[241]\ttraining's l1: 0.810725\tvalid_1's l1: 1.07055\n"
     ]
    },
    {
     "name": "stderr",
     "output_type": "stream",
     "text": [
      "\u001b[32m[I 2021-07-29 13:59:52,376]\u001b[0m Trial 32 finished with value: -1.070376455189942 and parameters: {'max_depth': 13, 'min_child_weight': 14, 'subsample': 0.8, 'colsample_bytree': 0.8, 'reg_lambda': 0.27661893960800543, 'reg_alpha': 0.1871924011152213, 'feature_fraction': 0.8084260052949066, 'bagging_fraction': 0.9987800244348577, 'bagging_freq': 12, 'num_leaves': 766, 'min_child_samples': 60}. Best is trial 27 with value: -1.0691172575752521.\u001b[0m\n"
     ]
    },
    {
     "name": "stdout",
     "output_type": "stream",
     "text": [
      "[LightGBM] [Warning] feature_fraction is set=0.8044675630535695, colsample_bytree=0.7 will be ignored. Current value: feature_fraction=0.8044675630535695\n",
      "[LightGBM] [Warning] bagging_fraction is set=0.9937752613886446, subsample=0.9 will be ignored. Current value: bagging_fraction=0.9937752613886446\n",
      "[LightGBM] [Warning] bagging_freq is set=15, subsample_freq=0 will be ignored. Current value: bagging_freq=15\n",
      "Training until validation scores don't improve for 100 rounds\n",
      "[100]\ttraining's l1: 0.820744\tvalid_1's l1: 1.07216\n",
      "[200]\ttraining's l1: 0.815286\tvalid_1's l1: 1.06983\n",
      "[300]\ttraining's l1: 0.802947\tvalid_1's l1: 1.06921\n",
      "Early stopping, best iteration is:\n",
      "[286]\ttraining's l1: 0.805214\tvalid_1's l1: 1.06886\n"
     ]
    },
    {
     "name": "stderr",
     "output_type": "stream",
     "text": [
      "\u001b[32m[I 2021-07-29 14:00:23,515]\u001b[0m Trial 33 finished with value: -1.068664423115271 and parameters: {'max_depth': 13, 'min_child_weight': 14, 'subsample': 0.9, 'colsample_bytree': 0.7, 'reg_lambda': 0.32013909893857617, 'reg_alpha': 0.22085291816140337, 'feature_fraction': 0.8044675630535695, 'bagging_fraction': 0.9937752613886446, 'bagging_freq': 15, 'num_leaves': 911, 'min_child_samples': 62}. Best is trial 33 with value: -1.068664423115271.\u001b[0m\n"
     ]
    },
    {
     "name": "stdout",
     "output_type": "stream",
     "text": [
      "[LightGBM] [Warning] feature_fraction is set=0.8066349210554429, colsample_bytree=0.7 will be ignored. Current value: feature_fraction=0.8066349210554429\n",
      "[LightGBM] [Warning] bagging_fraction is set=0.9934628542712735, subsample=0.8 will be ignored. Current value: bagging_fraction=0.9934628542712735\n",
      "[LightGBM] [Warning] bagging_freq is set=16, subsample_freq=0 will be ignored. Current value: bagging_freq=16\n",
      "Training until validation scores don't improve for 100 rounds\n",
      "[100]\ttraining's l1: 0.819115\tvalid_1's l1: 1.07616\n",
      "[200]\ttraining's l1: 0.807492\tvalid_1's l1: 1.07236\n",
      "[300]\ttraining's l1: 0.802174\tvalid_1's l1: 1.07079\n",
      "[400]\ttraining's l1: 0.79863\tvalid_1's l1: 1.07128\n",
      "Early stopping, best iteration is:\n",
      "[315]\ttraining's l1: 0.80175\tvalid_1's l1: 1.07075\n"
     ]
    },
    {
     "name": "stderr",
     "output_type": "stream",
     "text": [
      "\u001b[32m[I 2021-07-29 14:00:57,587]\u001b[0m Trial 34 finished with value: -1.0705076822542139 and parameters: {'max_depth': 13, 'min_child_weight': 12, 'subsample': 0.8, 'colsample_bytree': 0.7, 'reg_lambda': 0.10836731977582416, 'reg_alpha': 0.2613571346990616, 'feature_fraction': 0.8066349210554429, 'bagging_fraction': 0.9934628542712735, 'bagging_freq': 16, 'num_leaves': 938, 'min_child_samples': 49}. Best is trial 33 with value: -1.068664423115271.\u001b[0m\n"
     ]
    },
    {
     "name": "stdout",
     "output_type": "stream",
     "text": [
      "[LightGBM] [Warning] feature_fraction is set=0.8808241880453689, colsample_bytree=0.7 will be ignored. Current value: feature_fraction=0.8808241880453689\n",
      "[LightGBM] [Warning] bagging_fraction is set=0.9344562285754212, subsample=0.9 will be ignored. Current value: bagging_fraction=0.9344562285754212\n",
      "[LightGBM] [Warning] bagging_freq is set=15, subsample_freq=0 will be ignored. Current value: bagging_freq=15\n",
      "Training until validation scores don't improve for 100 rounds\n",
      "[100]\ttraining's l1: 0.82087\tvalid_1's l1: 1.07529\n",
      "[200]\ttraining's l1: 0.811935\tvalid_1's l1: 1.07322\n",
      "[300]\ttraining's l1: 0.79812\tvalid_1's l1: 1.07271\n",
      "[400]\ttraining's l1: 0.79326\tvalid_1's l1: 1.07232\n",
      "Early stopping, best iteration is:\n",
      "[339]\ttraining's l1: 0.793734\tvalid_1's l1: 1.07208\n"
     ]
    },
    {
     "name": "stderr",
     "output_type": "stream",
     "text": [
      "\u001b[32m[I 2021-07-29 14:01:32,045]\u001b[0m Trial 35 finished with value: -1.0718006203891823 and parameters: {'max_depth': 13, 'min_child_weight': 14, 'subsample': 0.9, 'colsample_bytree': 0.7, 'reg_lambda': 0.41916725277599404, 'reg_alpha': 0.8016710632610599, 'feature_fraction': 0.8808241880453689, 'bagging_fraction': 0.9344562285754212, 'bagging_freq': 15, 'num_leaves': 903, 'min_child_samples': 62}. Best is trial 33 with value: -1.068664423115271.\u001b[0m\n"
     ]
    },
    {
     "name": "stdout",
     "output_type": "stream",
     "text": [
      "[LightGBM] [Warning] feature_fraction is set=0.7000486553141315, colsample_bytree=0.7 will be ignored. Current value: feature_fraction=0.7000486553141315\n",
      "[LightGBM] [Warning] bagging_fraction is set=0.9166065444641991, subsample=0.8 will be ignored. Current value: bagging_fraction=0.9166065444641991\n",
      "[LightGBM] [Warning] bagging_freq is set=17, subsample_freq=0 will be ignored. Current value: bagging_freq=17\n",
      "Training until validation scores don't improve for 100 rounds\n",
      "[100]\ttraining's l1: 0.816231\tvalid_1's l1: 1.07442\n",
      "[200]\ttraining's l1: 0.801298\tvalid_1's l1: 1.07243\n",
      "[300]\ttraining's l1: 0.791543\tvalid_1's l1: 1.07245\n",
      "Early stopping, best iteration is:\n",
      "[247]\ttraining's l1: 0.795311\tvalid_1's l1: 1.07202\n"
     ]
    },
    {
     "name": "stderr",
     "output_type": "stream",
     "text": [
      "\u001b[32m[I 2021-07-29 14:02:00,707]\u001b[0m Trial 36 finished with value: -1.0717923004114265 and parameters: {'max_depth': 14, 'min_child_weight': 10, 'subsample': 0.8, 'colsample_bytree': 0.7, 'reg_lambda': 0.06274579733529674, 'reg_alpha': 0.09255365607876838, 'feature_fraction': 0.7000486553141315, 'bagging_fraction': 0.9166065444641991, 'bagging_freq': 17, 'num_leaves': 993, 'min_child_samples': 48}. Best is trial 33 with value: -1.068664423115271.\u001b[0m\n"
     ]
    },
    {
     "name": "stdout",
     "output_type": "stream",
     "text": [
      "[LightGBM] [Warning] feature_fraction is set=0.8004819594813698, colsample_bytree=0.8 will be ignored. Current value: feature_fraction=0.8004819594813698\n",
      "[LightGBM] [Warning] bagging_fraction is set=0.9933667414903146, subsample=0.9 will be ignored. Current value: bagging_fraction=0.9933667414903146\n",
      "[LightGBM] [Warning] bagging_freq is set=15, subsample_freq=0 will be ignored. Current value: bagging_freq=15\n",
      "Training until validation scores don't improve for 100 rounds\n",
      "[100]\ttraining's l1: 0.830003\tvalid_1's l1: 1.07922\n",
      "[200]\ttraining's l1: 0.827045\tvalid_1's l1: 1.07736\n",
      "[300]\ttraining's l1: 0.824715\tvalid_1's l1: 1.07689\n",
      "Early stopping, best iteration is:\n",
      "[219]\ttraining's l1: 0.825055\tvalid_1's l1: 1.07685\n"
     ]
    },
    {
     "name": "stderr",
     "output_type": "stream",
     "text": [
      "\u001b[32m[I 2021-07-29 14:02:18,754]\u001b[0m Trial 37 finished with value: -1.0767624347045037 and parameters: {'max_depth': 10, 'min_child_weight': 12, 'subsample': 0.9, 'colsample_bytree': 0.8, 'reg_lambda': 1.543592608680885, 'reg_alpha': 1.0311992412459023, 'feature_fraction': 0.8004819594813698, 'bagging_fraction': 0.9933667414903146, 'bagging_freq': 15, 'num_leaves': 781, 'min_child_samples': 58}. Best is trial 33 with value: -1.068664423115271.\u001b[0m\n"
     ]
    },
    {
     "name": "stdout",
     "output_type": "stream",
     "text": [
      "[LightGBM] [Warning] feature_fraction is set=0.6460590827572239, colsample_bytree=0.7 will be ignored. Current value: feature_fraction=0.6460590827572239\n",
      "[LightGBM] [Warning] bagging_fraction is set=0.32289438423618644, subsample=0.8 will be ignored. Current value: bagging_fraction=0.32289438423618644\n",
      "[LightGBM] [Warning] bagging_freq is set=19, subsample_freq=0 will be ignored. Current value: bagging_freq=19\n",
      "Training until validation scores don't improve for 100 rounds\n",
      "[100]\ttraining's l1: 0.834381\tvalid_1's l1: 1.08155\n",
      "[200]\ttraining's l1: 0.829171\tvalid_1's l1: 1.08059\n",
      "Early stopping, best iteration is:\n",
      "[137]\ttraining's l1: 0.830711\tvalid_1's l1: 1.07997\n"
     ]
    },
    {
     "name": "stderr",
     "output_type": "stream",
     "text": [
      "\u001b[32m[I 2021-07-29 14:02:28,477]\u001b[0m Trial 38 finished with value: -1.079751768607426 and parameters: {'max_depth': 12, 'min_child_weight': 14, 'subsample': 0.8, 'colsample_bytree': 0.7, 'reg_lambda': 0.4497078398875278, 'reg_alpha': 0.261664371243001, 'feature_fraction': 0.6460590827572239, 'bagging_fraction': 0.32289438423618644, 'bagging_freq': 19, 'num_leaves': 889, 'min_child_samples': 71}. Best is trial 33 with value: -1.068664423115271.\u001b[0m\n"
     ]
    },
    {
     "name": "stdout",
     "output_type": "stream",
     "text": [
      "[LightGBM] [Warning] feature_fraction is set=0.9569265945982373, colsample_bytree=0.8 will be ignored. Current value: feature_fraction=0.9569265945982373\n",
      "[LightGBM] [Warning] bagging_fraction is set=0.9690653376368471, subsample=0.9 will be ignored. Current value: bagging_fraction=0.9690653376368471\n",
      "[LightGBM] [Warning] bagging_freq is set=12, subsample_freq=0 will be ignored. Current value: bagging_freq=12\n",
      "Training until validation scores don't improve for 100 rounds\n",
      "[100]\ttraining's l1: 0.825782\tvalid_1's l1: 1.07373\n",
      "[200]\ttraining's l1: 0.819993\tvalid_1's l1: 1.07279\n",
      "[300]\ttraining's l1: 0.81283\tvalid_1's l1: 1.07164\n",
      "[400]\ttraining's l1: 0.798569\tvalid_1's l1: 1.07166\n",
      "Early stopping, best iteration is:\n",
      "[330]\ttraining's l1: 0.808311\tvalid_1's l1: 1.07096\n"
     ]
    },
    {
     "name": "stderr",
     "output_type": "stream",
     "text": [
      "\u001b[32m[I 2021-07-29 14:03:02,380]\u001b[0m Trial 39 finished with value: -1.070704976381519 and parameters: {'max_depth': 14, 'min_child_weight': 12, 'subsample': 0.9, 'colsample_bytree': 0.8, 'reg_lambda': 0.17293006446140194, 'reg_alpha': 4.910903505688489, 'feature_fraction': 0.9569265945982373, 'bagging_fraction': 0.9690653376368471, 'bagging_freq': 12, 'num_leaves': 638, 'min_child_samples': 63}. Best is trial 33 with value: -1.068664423115271.\u001b[0m\n"
     ]
    },
    {
     "name": "stdout",
     "output_type": "stream",
     "text": [
      "[LightGBM] [Warning] feature_fraction is set=0.729783121246493, colsample_bytree=0.7 will be ignored. Current value: feature_fraction=0.729783121246493\n",
      "[LightGBM] [Warning] bagging_fraction is set=0.9017248201034143, subsample=0.8 will be ignored. Current value: bagging_fraction=0.9017248201034143\n",
      "[LightGBM] [Warning] bagging_freq is set=14, subsample_freq=0 will be ignored. Current value: bagging_freq=14\n",
      "Training until validation scores don't improve for 100 rounds\n",
      "[100]\ttraining's l1: 0.820235\tvalid_1's l1: 1.07313\n",
      "[200]\ttraining's l1: 0.810529\tvalid_1's l1: 1.07051\n",
      "[300]\ttraining's l1: 0.803253\tvalid_1's l1: 1.07054\n",
      "Early stopping, best iteration is:\n",
      "[296]\ttraining's l1: 0.803276\tvalid_1's l1: 1.07048\n"
     ]
    },
    {
     "name": "stderr",
     "output_type": "stream",
     "text": [
      "\u001b[32m[I 2021-07-29 14:03:33,024]\u001b[0m Trial 40 finished with value: -1.0702299523488545 and parameters: {'max_depth': 16, 'min_child_weight': 14, 'subsample': 0.8, 'colsample_bytree': 0.7, 'reg_lambda': 0.8960939453612028, 'reg_alpha': 0.0603304364096762, 'feature_fraction': 0.729783121246493, 'bagging_fraction': 0.9017248201034143, 'bagging_freq': 14, 'num_leaves': 834, 'min_child_samples': 34}. Best is trial 33 with value: -1.068664423115271.\u001b[0m\n"
     ]
    },
    {
     "name": "stdout",
     "output_type": "stream",
     "text": [
      "[LightGBM] [Warning] feature_fraction is set=0.717684253529004, colsample_bytree=0.7 will be ignored. Current value: feature_fraction=0.717684253529004\n",
      "[LightGBM] [Warning] bagging_fraction is set=0.8987542133605635, subsample=0.8 will be ignored. Current value: bagging_fraction=0.8987542133605635\n",
      "[LightGBM] [Warning] bagging_freq is set=13, subsample_freq=0 will be ignored. Current value: bagging_freq=13\n",
      "Training until validation scores don't improve for 100 rounds\n",
      "[100]\ttraining's l1: 0.818813\tvalid_1's l1: 1.07447\n",
      "[200]\ttraining's l1: 0.811129\tvalid_1's l1: 1.07408\n",
      "Early stopping, best iteration is:\n",
      "[129]\ttraining's l1: 0.814884\tvalid_1's l1: 1.07359\n"
     ]
    },
    {
     "name": "stderr",
     "output_type": "stream",
     "text": [
      "\u001b[32m[I 2021-07-29 14:03:51,589]\u001b[0m Trial 41 finished with value: -1.0734672327518873 and parameters: {'max_depth': 16, 'min_child_weight': 14, 'subsample': 0.8, 'colsample_bytree': 0.7, 'reg_lambda': 0.562435863894279, 'reg_alpha': 0.05699818166712086, 'feature_fraction': 0.717684253529004, 'bagging_fraction': 0.8987542133605635, 'bagging_freq': 13, 'num_leaves': 815, 'min_child_samples': 33}. Best is trial 33 with value: -1.068664423115271.\u001b[0m\n"
     ]
    },
    {
     "name": "stdout",
     "output_type": "stream",
     "text": [
      "[LightGBM] [Warning] feature_fraction is set=0.8246751180978594, colsample_bytree=0.7 will be ignored. Current value: feature_fraction=0.8246751180978594\n",
      "[LightGBM] [Warning] bagging_fraction is set=0.9539703281787011, subsample=0.8 will be ignored. Current value: bagging_fraction=0.9539703281787011\n",
      "[LightGBM] [Warning] bagging_freq is set=14, subsample_freq=0 will be ignored. Current value: bagging_freq=14\n",
      "Training until validation scores don't improve for 100 rounds\n",
      "[100]\ttraining's l1: 0.822612\tvalid_1's l1: 1.07511\n",
      "[200]\ttraining's l1: 0.815\tvalid_1's l1: 1.07153\n",
      "[300]\ttraining's l1: 0.807774\tvalid_1's l1: 1.07193\n",
      "Early stopping, best iteration is:\n",
      "[204]\ttraining's l1: 0.814709\tvalid_1's l1: 1.07147\n"
     ]
    },
    {
     "name": "stderr",
     "output_type": "stream",
     "text": [
      "\u001b[32m[I 2021-07-29 14:04:15,916]\u001b[0m Trial 42 finished with value: -1.0713358035087681 and parameters: {'max_depth': 16, 'min_child_weight': 11, 'subsample': 0.8, 'colsample_bytree': 0.7, 'reg_lambda': 1.8113445977223257, 'reg_alpha': 0.09254822360747526, 'feature_fraction': 0.8246751180978594, 'bagging_fraction': 0.9539703281787011, 'bagging_freq': 14, 'num_leaves': 760, 'min_child_samples': 22}. Best is trial 33 with value: -1.068664423115271.\u001b[0m\n"
     ]
    },
    {
     "name": "stdout",
     "output_type": "stream",
     "text": [
      "[LightGBM] [Warning] feature_fraction is set=0.7351103059664459, colsample_bytree=0.7 will be ignored. Current value: feature_fraction=0.7351103059664459\n",
      "[LightGBM] [Warning] bagging_fraction is set=0.8678836877642616, subsample=0.8 will be ignored. Current value: bagging_fraction=0.8678836877642616\n",
      "[LightGBM] [Warning] bagging_freq is set=17, subsample_freq=0 will be ignored. Current value: bagging_freq=17\n",
      "Training until validation scores don't improve for 100 rounds\n",
      "[100]\ttraining's l1: 0.817215\tvalid_1's l1: 1.07275\n",
      "[200]\ttraining's l1: 0.809671\tvalid_1's l1: 1.07064\n",
      "[300]\ttraining's l1: 0.804944\tvalid_1's l1: 1.07036\n",
      "Early stopping, best iteration is:\n",
      "[252]\ttraining's l1: 0.806702\tvalid_1's l1: 1.0698\n"
     ]
    },
    {
     "name": "stderr",
     "output_type": "stream",
     "text": [
      "\u001b[32m[I 2021-07-29 14:04:41,119]\u001b[0m Trial 43 finished with value: -1.0696285569906079 and parameters: {'max_depth': 13, 'min_child_weight': 16, 'subsample': 0.8, 'colsample_bytree': 0.7, 'reg_lambda': 0.18756189486144087, 'reg_alpha': 1.2425743332475607, 'feature_fraction': 0.7351103059664459, 'bagging_fraction': 0.8678836877642616, 'bagging_freq': 17, 'num_leaves': 930, 'min_child_samples': 53}. Best is trial 33 with value: -1.068664423115271.\u001b[0m\n"
     ]
    },
    {
     "name": "stdout",
     "output_type": "stream",
     "text": [
      "[LightGBM] [Warning] feature_fraction is set=0.5861962074716474, colsample_bytree=0.6 will be ignored. Current value: feature_fraction=0.5861962074716474\n",
      "[LightGBM] [Warning] bagging_fraction is set=0.8609986303082012, subsample=0.9 will be ignored. Current value: bagging_fraction=0.8609986303082012\n",
      "[LightGBM] [Warning] bagging_freq is set=20, subsample_freq=0 will be ignored. Current value: bagging_freq=20\n",
      "Training until validation scores don't improve for 100 rounds\n",
      "[100]\ttraining's l1: 0.824567\tvalid_1's l1: 1.07688\n",
      "[200]\ttraining's l1: 0.816575\tvalid_1's l1: 1.07431\n",
      "[300]\ttraining's l1: 0.814569\tvalid_1's l1: 1.0741\n",
      "Early stopping, best iteration is:\n",
      "[238]\ttraining's l1: 0.815029\tvalid_1's l1: 1.07388\n"
     ]
    },
    {
     "name": "stderr",
     "output_type": "stream",
     "text": [
      "\u001b[32m[I 2021-07-29 14:05:05,611]\u001b[0m Trial 44 finished with value: -1.0737182508838061 and parameters: {'max_depth': 11, 'min_child_weight': 16, 'subsample': 0.9, 'colsample_bytree': 0.6, 'reg_lambda': 0.9105466038771959, 'reg_alpha': 2.496952665713594, 'feature_fraction': 0.5861962074716474, 'bagging_fraction': 0.8609986303082012, 'bagging_freq': 20, 'num_leaves': 932, 'min_child_samples': 54}. Best is trial 33 with value: -1.068664423115271.\u001b[0m\n"
     ]
    },
    {
     "name": "stdout",
     "output_type": "stream",
     "text": [
      "[LightGBM] [Warning] feature_fraction is set=0.7248684115678593, colsample_bytree=0.7 will be ignored. Current value: feature_fraction=0.7248684115678593\n",
      "[LightGBM] [Warning] bagging_fraction is set=0.7827506188227293, subsample=0.8 will be ignored. Current value: bagging_fraction=0.7827506188227293\n",
      "[LightGBM] [Warning] bagging_freq is set=17, subsample_freq=0 will be ignored. Current value: bagging_freq=17\n",
      "Training until validation scores don't improve for 100 rounds\n",
      "[100]\ttraining's l1: 0.819241\tvalid_1's l1: 1.07509\n",
      "[200]\ttraining's l1: 0.80804\tvalid_1's l1: 1.07389\n",
      "Early stopping, best iteration is:\n",
      "[189]\ttraining's l1: 0.809917\tvalid_1's l1: 1.07363\n"
     ]
    },
    {
     "name": "stderr",
     "output_type": "stream",
     "text": [
      "\u001b[32m[I 2021-07-29 14:05:27,100]\u001b[0m Trial 45 finished with value: -1.073465905290661 and parameters: {'max_depth': 14, 'min_child_weight': 13, 'subsample': 0.8, 'colsample_bytree': 0.7, 'reg_lambda': 0.05360022353857522, 'reg_alpha': 1.3292001580480215, 'feature_fraction': 0.7248684115678593, 'bagging_fraction': 0.7827506188227293, 'bagging_freq': 17, 'num_leaves': 858, 'min_child_samples': 43}. Best is trial 33 with value: -1.068664423115271.\u001b[0m\n"
     ]
    },
    {
     "name": "stdout",
     "output_type": "stream",
     "text": [
      "[LightGBM] [Warning] feature_fraction is set=0.657886332031784, colsample_bytree=0.7 will be ignored. Current value: feature_fraction=0.657886332031784\n",
      "[LightGBM] [Warning] bagging_fraction is set=0.9155194563447456, subsample=0.9 will be ignored. Current value: bagging_fraction=0.9155194563447456\n",
      "[LightGBM] [Warning] bagging_freq is set=15, subsample_freq=0 will be ignored. Current value: bagging_freq=15\n",
      "Training until validation scores don't improve for 100 rounds\n",
      "[100]\ttraining's l1: 0.816671\tvalid_1's l1: 1.07522\n",
      "[200]\ttraining's l1: 0.80074\tvalid_1's l1: 1.07266\n",
      "[300]\ttraining's l1: 0.790554\tvalid_1's l1: 1.0726\n",
      "Early stopping, best iteration is:\n",
      "[262]\ttraining's l1: 0.793843\tvalid_1's l1: 1.0722\n"
     ]
    },
    {
     "name": "stderr",
     "output_type": "stream",
     "text": [
      "\u001b[32m[I 2021-07-29 14:05:57,419]\u001b[0m Trial 46 finished with value: -1.071889971089918 and parameters: {'max_depth': 18, 'min_child_weight': 15, 'subsample': 0.9, 'colsample_bytree': 0.7, 'reg_lambda': 0.1613030737159768, 'reg_alpha': 0.40663028613057123, 'feature_fraction': 0.657886332031784, 'bagging_fraction': 0.9155194563447456, 'bagging_freq': 15, 'num_leaves': 969, 'min_child_samples': 48}. Best is trial 33 with value: -1.068664423115271.\u001b[0m\n"
     ]
    },
    {
     "name": "stdout",
     "output_type": "stream",
     "text": [
      "[LightGBM] [Warning] feature_fraction is set=0.8889753827160034, colsample_bytree=0.7 will be ignored. Current value: feature_fraction=0.8889753827160034\n",
      "[LightGBM] [Warning] bagging_fraction is set=0.4689753932344397, subsample=0.7 will be ignored. Current value: bagging_fraction=0.4689753932344397\n",
      "[LightGBM] [Warning] bagging_freq is set=17, subsample_freq=0 will be ignored. Current value: bagging_freq=17\n",
      "Training until validation scores don't improve for 100 rounds\n",
      "[100]\ttraining's l1: 0.83011\tvalid_1's l1: 1.07663\n",
      "[200]\ttraining's l1: 0.824699\tvalid_1's l1: 1.07621\n",
      "[300]\ttraining's l1: 0.813646\tvalid_1's l1: 1.07634\n",
      "Early stopping, best iteration is:\n",
      "[244]\ttraining's l1: 0.81985\tvalid_1's l1: 1.07598\n"
     ]
    },
    {
     "name": "stderr",
     "output_type": "stream",
     "text": [
      "\u001b[32m[I 2021-07-29 14:06:16,895]\u001b[0m Trial 47 finished with value: -1.075704291997663 and parameters: {'max_depth': 12, 'min_child_weight': 16, 'subsample': 0.7, 'colsample_bytree': 0.7, 'reg_lambda': 0.6675691690956223, 'reg_alpha': 0.00954938095450033, 'feature_fraction': 0.8889753827160034, 'bagging_fraction': 0.4689753932344397, 'bagging_freq': 17, 'num_leaves': 654, 'min_child_samples': 54}. Best is trial 33 with value: -1.068664423115271.\u001b[0m\n"
     ]
    },
    {
     "name": "stdout",
     "output_type": "stream",
     "text": [
      "[LightGBM] [Warning] feature_fraction is set=0.5264631279510121, colsample_bytree=0.6 will be ignored. Current value: feature_fraction=0.5264631279510121\n",
      "[LightGBM] [Warning] bagging_fraction is set=0.7569556516547334, subsample=0.8 will be ignored. Current value: bagging_fraction=0.7569556516547334\n",
      "[LightGBM] [Warning] bagging_freq is set=18, subsample_freq=0 will be ignored. Current value: bagging_freq=18\n",
      "Training until validation scores don't improve for 100 rounds\n",
      "[100]\ttraining's l1: 0.818716\tvalid_1's l1: 1.07883\n",
      "[200]\ttraining's l1: 0.801908\tvalid_1's l1: 1.07557\n",
      "[300]\ttraining's l1: 0.795938\tvalid_1's l1: 1.07549\n",
      "Early stopping, best iteration is:\n",
      "[246]\ttraining's l1: 0.797158\tvalid_1's l1: 1.07517\n"
     ]
    },
    {
     "name": "stderr",
     "output_type": "stream",
     "text": [
      "\u001b[32m[I 2021-07-29 14:06:45,465]\u001b[0m Trial 48 finished with value: -1.0747938086144087 and parameters: {'max_depth': 15, 'min_child_weight': 5, 'subsample': 0.8, 'colsample_bytree': 0.6, 'reg_lambda': 3.3224782789122678, 'reg_alpha': 0.04076904114028155, 'feature_fraction': 0.5264631279510121, 'bagging_fraction': 0.7569556516547334, 'bagging_freq': 18, 'num_leaves': 881, 'min_child_samples': 36}. Best is trial 33 with value: -1.068664423115271.\u001b[0m\n"
     ]
    },
    {
     "name": "stdout",
     "output_type": "stream",
     "text": [
      "[LightGBM] [Warning] feature_fraction is set=0.7754493640972878, colsample_bytree=0.7 will be ignored. Current value: feature_fraction=0.7754493640972878\n",
      "[LightGBM] [Warning] bagging_fraction is set=0.8474820435857805, subsample=0.9 will be ignored. Current value: bagging_fraction=0.8474820435857805\n",
      "[LightGBM] [Warning] bagging_freq is set=16, subsample_freq=0 will be ignored. Current value: bagging_freq=16\n",
      "Training until validation scores don't improve for 100 rounds\n",
      "[100]\ttraining's l1: 0.822469\tvalid_1's l1: 1.07578\n",
      "[200]\ttraining's l1: 0.813784\tvalid_1's l1: 1.07368\n",
      "[300]\ttraining's l1: 0.806148\tvalid_1's l1: 1.07333\n",
      "Early stopping, best iteration is:\n",
      "[286]\ttraining's l1: 0.806991\tvalid_1's l1: 1.07317\n"
     ]
    },
    {
     "name": "stderr",
     "output_type": "stream",
     "text": [
      "\u001b[32m[I 2021-07-29 14:07:15,812]\u001b[0m Trial 49 finished with value: -1.072930446626771 and parameters: {'max_depth': 20, 'min_child_weight': 10, 'subsample': 0.9, 'colsample_bytree': 0.7, 'reg_lambda': 0.01810491191662404, 'reg_alpha': 0.10965260138856009, 'feature_fraction': 0.7754493640972878, 'bagging_fraction': 0.8474820435857805, 'bagging_freq': 16, 'num_leaves': 820, 'min_child_samples': 24}. Best is trial 33 with value: -1.068664423115271.\u001b[0m\n"
     ]
    },
    {
     "name": "stdout",
     "output_type": "stream",
     "text": [
      "[LightGBM] [Warning] feature_fraction is set=0.9562156993330831, colsample_bytree=0.6 will be ignored. Current value: feature_fraction=0.9562156993330831\n",
      "[LightGBM] [Warning] bagging_fraction is set=0.8937699038745429, subsample=0.8 will be ignored. Current value: bagging_fraction=0.8937699038745429\n",
      "[LightGBM] [Warning] bagging_freq is set=13, subsample_freq=0 will be ignored. Current value: bagging_freq=13\n",
      "Training until validation scores don't improve for 100 rounds\n",
      "[100]\ttraining's l1: 0.811244\tvalid_1's l1: 1.0719\n",
      "[200]\ttraining's l1: 0.795666\tvalid_1's l1: 1.07135\n",
      "Early stopping, best iteration is:\n",
      "[136]\ttraining's l1: 0.804365\tvalid_1's l1: 1.07083\n"
     ]
    },
    {
     "name": "stderr",
     "output_type": "stream",
     "text": [
      "\u001b[32m[I 2021-07-29 14:07:38,975]\u001b[0m Trial 50 finished with value: -1.070683551229698 and parameters: {'max_depth': 14, 'min_child_weight': 17, 'subsample': 0.8, 'colsample_bytree': 0.6, 'reg_lambda': 1.3216294856632467, 'reg_alpha': 0.2655792815094265, 'feature_fraction': 0.9562156993330831, 'bagging_fraction': 0.8937699038745429, 'bagging_freq': 13, 'num_leaves': 953, 'min_child_samples': 13}. Best is trial 33 with value: -1.068664423115271.\u001b[0m\n"
     ]
    },
    {
     "name": "stdout",
     "output_type": "stream",
     "text": [
      "[LightGBM] [Warning] feature_fraction is set=0.7893641736310621, colsample_bytree=0.8 will be ignored. Current value: feature_fraction=0.7893641736310621\n",
      "[LightGBM] [Warning] bagging_fraction is set=0.9686893111843711, subsample=0.8 will be ignored. Current value: bagging_fraction=0.9686893111843711\n",
      "[LightGBM] [Warning] bagging_freq is set=10, subsample_freq=0 will be ignored. Current value: bagging_freq=10\n",
      "Training until validation scores don't improve for 100 rounds\n",
      "[100]\ttraining's l1: 0.823884\tvalid_1's l1: 1.07476\n",
      "[200]\ttraining's l1: 0.817144\tvalid_1's l1: 1.07282\n",
      "[300]\ttraining's l1: 0.810483\tvalid_1's l1: 1.0721\n",
      "Early stopping, best iteration is:\n",
      "[263]\ttraining's l1: 0.810989\tvalid_1's l1: 1.07194\n"
     ]
    },
    {
     "name": "stderr",
     "output_type": "stream",
     "text": [
      "\u001b[32m[I 2021-07-29 14:08:06,590]\u001b[0m Trial 51 finished with value: -1.07174832435288 and parameters: {'max_depth': 13, 'min_child_weight': 14, 'subsample': 0.8, 'colsample_bytree': 0.8, 'reg_lambda': 0.24576147608299734, 'reg_alpha': 0.17258603642570128, 'feature_fraction': 0.7893641736310621, 'bagging_fraction': 0.9686893111843711, 'bagging_freq': 10, 'num_leaves': 739, 'min_child_samples': 64}. Best is trial 33 with value: -1.068664423115271.\u001b[0m\n"
     ]
    },
    {
     "name": "stdout",
     "output_type": "stream",
     "text": [
      "[LightGBM] [Warning] feature_fraction is set=0.8310902964454877, colsample_bytree=0.8 will be ignored. Current value: feature_fraction=0.8310902964454877\n",
      "[LightGBM] [Warning] bagging_fraction is set=0.9313638011825919, subsample=0.8 will be ignored. Current value: bagging_fraction=0.9313638011825919\n",
      "[LightGBM] [Warning] bagging_freq is set=11, subsample_freq=0 will be ignored. Current value: bagging_freq=11\n",
      "Training until validation scores don't improve for 100 rounds\n",
      "[100]\ttraining's l1: 0.824685\tvalid_1's l1: 1.07517\n",
      "[200]\ttraining's l1: 0.816757\tvalid_1's l1: 1.07184\n",
      "[300]\ttraining's l1: 0.807483\tvalid_1's l1: 1.07139\n",
      "[400]\ttraining's l1: 0.806084\tvalid_1's l1: 1.07133\n",
      "Early stopping, best iteration is:\n",
      "[337]\ttraining's l1: 0.806572\tvalid_1's l1: 1.07114\n"
     ]
    },
    {
     "name": "stderr",
     "output_type": "stream",
     "text": [
      "\u001b[32m[I 2021-07-29 14:08:39,070]\u001b[0m Trial 52 finished with value: -1.070908182663462 and parameters: {'max_depth': 13, 'min_child_weight': 15, 'subsample': 0.8, 'colsample_bytree': 0.8, 'reg_lambda': 0.10523341038083488, 'reg_alpha': 0.7120625865072124, 'feature_fraction': 0.8310902964454877, 'bagging_fraction': 0.9313638011825919, 'bagging_freq': 11, 'num_leaves': 775, 'min_child_samples': 72}. Best is trial 33 with value: -1.068664423115271.\u001b[0m\n"
     ]
    },
    {
     "name": "stdout",
     "output_type": "stream",
     "text": [
      "[LightGBM] [Warning] feature_fraction is set=0.7496000097642004, colsample_bytree=0.8 will be ignored. Current value: feature_fraction=0.7496000097642004\n",
      "[LightGBM] [Warning] bagging_fraction is set=0.9978881970439554, subsample=0.8 will be ignored. Current value: bagging_fraction=0.9978881970439554\n",
      "[LightGBM] [Warning] bagging_freq is set=14, subsample_freq=0 will be ignored. Current value: bagging_freq=14\n",
      "Training until validation scores don't improve for 100 rounds\n",
      "[100]\ttraining's l1: 0.829978\tvalid_1's l1: 1.0761\n",
      "[200]\ttraining's l1: 0.824544\tvalid_1's l1: 1.0737\n",
      "[300]\ttraining's l1: 0.818926\tvalid_1's l1: 1.07253\n",
      "Early stopping, best iteration is:\n",
      "[266]\ttraining's l1: 0.819043\tvalid_1's l1: 1.07248\n"
     ]
    },
    {
     "name": "stderr",
     "output_type": "stream",
     "text": [
      "\u001b[32m[I 2021-07-29 14:09:01,041]\u001b[0m Trial 53 finished with value: -1.072354050715276 and parameters: {'max_depth': 11, 'min_child_weight': 13, 'subsample': 0.8, 'colsample_bytree': 0.8, 'reg_lambda': 0.6670764644283206, 'reg_alpha': 1.4436907098595144, 'feature_fraction': 0.7496000097642004, 'bagging_fraction': 0.9978881970439554, 'bagging_freq': 14, 'num_leaves': 553, 'min_child_samples': 58}. Best is trial 33 with value: -1.068664423115271.\u001b[0m\n"
     ]
    },
    {
     "name": "stdout",
     "output_type": "stream",
     "text": [
      "[LightGBM] [Warning] feature_fraction is set=0.6774230925830791, colsample_bytree=0.7 will be ignored. Current value: feature_fraction=0.6774230925830791\n",
      "[LightGBM] [Warning] bagging_fraction is set=0.9611641285866778, subsample=0.8 will be ignored. Current value: bagging_fraction=0.9611641285866778\n",
      "[LightGBM] [Warning] bagging_freq is set=15, subsample_freq=0 will be ignored. Current value: bagging_freq=15\n",
      "Training until validation scores don't improve for 100 rounds\n",
      "[100]\ttraining's l1: 0.819614\tvalid_1's l1: 1.07171\n",
      "[200]\ttraining's l1: 0.810238\tvalid_1's l1: 1.06858\n",
      "[300]\ttraining's l1: 0.801212\tvalid_1's l1: 1.06816\n",
      "Early stopping, best iteration is:\n",
      "[290]\ttraining's l1: 0.802027\tvalid_1's l1: 1.06793\n"
     ]
    },
    {
     "name": "stderr",
     "output_type": "stream",
     "text": [
      "\u001b[32m[I 2021-07-29 14:09:32,221]\u001b[0m Trial 54 finished with value: -1.0676777757599207 and parameters: {'max_depth': 16, 'min_child_weight': 12, 'subsample': 0.8, 'colsample_bytree': 0.7, 'reg_lambda': 0.3278973867947044, 'reg_alpha': 0.0705025843411178, 'feature_fraction': 0.6774230925830791, 'bagging_fraction': 0.9611641285866778, 'bagging_freq': 15, 'num_leaves': 861, 'min_child_samples': 51}. Best is trial 54 with value: -1.0676777757599207.\u001b[0m\n"
     ]
    },
    {
     "name": "stdout",
     "output_type": "stream",
     "text": [
      "[LightGBM] [Warning] feature_fraction is set=0.6101886342548386, colsample_bytree=0.7 will be ignored. Current value: feature_fraction=0.6101886342548386\n",
      "[LightGBM] [Warning] bagging_fraction is set=0.8842081426622791, subsample=0.7 will be ignored. Current value: bagging_fraction=0.8842081426622791\n",
      "[LightGBM] [Warning] bagging_freq is set=15, subsample_freq=0 will be ignored. Current value: bagging_freq=15\n",
      "Training until validation scores don't improve for 100 rounds\n",
      "[100]\ttraining's l1: 0.819408\tvalid_1's l1: 1.07496\n",
      "[200]\ttraining's l1: 0.810421\tvalid_1's l1: 1.07348\n",
      "Early stopping, best iteration is:\n",
      "[158]\ttraining's l1: 0.812459\tvalid_1's l1: 1.07339\n"
     ]
    },
    {
     "name": "stderr",
     "output_type": "stream",
     "text": [
      "\u001b[32m[I 2021-07-29 14:09:58,845]\u001b[0m Trial 55 finished with value: -1.0732275825233664 and parameters: {'max_depth': 17, 'min_child_weight': 11, 'subsample': 0.7, 'colsample_bytree': 0.7, 'reg_lambda': 0.133705218131206, 'reg_alpha': 0.01377551225808366, 'feature_fraction': 0.6101886342548386, 'bagging_fraction': 0.8842081426622791, 'bagging_freq': 15, 'num_leaves': 870, 'min_child_samples': 40}. Best is trial 54 with value: -1.0676777757599207.\u001b[0m\n"
     ]
    },
    {
     "name": "stdout",
     "output_type": "stream",
     "text": [
      "[LightGBM] [Warning] feature_fraction is set=0.6783917782887978, colsample_bytree=0.7 will be ignored. Current value: feature_fraction=0.6783917782887978\n",
      "[LightGBM] [Warning] bagging_fraction is set=0.9638741706546495, subsample=0.8 will be ignored. Current value: bagging_fraction=0.9638741706546495\n",
      "[LightGBM] [Warning] bagging_freq is set=18, subsample_freq=0 will be ignored. Current value: bagging_freq=18\n",
      "Training until validation scores don't improve for 100 rounds\n",
      "[100]\ttraining's l1: 0.820457\tvalid_1's l1: 1.07438\n",
      "[200]\ttraining's l1: 0.809484\tvalid_1's l1: 1.07002\n",
      "[300]\ttraining's l1: 0.800262\tvalid_1's l1: 1.07067\n",
      "Early stopping, best iteration is:\n",
      "[209]\ttraining's l1: 0.808953\tvalid_1's l1: 1.06994\n"
     ]
    },
    {
     "name": "stderr",
     "output_type": "stream",
     "text": [
      "\u001b[32m[I 2021-07-29 14:10:24,558]\u001b[0m Trial 56 finished with value: -1.0697625630667316 and parameters: {'max_depth': 16, 'min_child_weight': 12, 'subsample': 0.8, 'colsample_bytree': 0.7, 'reg_lambda': 0.033536090809790066, 'reg_alpha': 0.05623558511373384, 'feature_fraction': 0.6783917782887978, 'bagging_fraction': 0.9638741706546495, 'bagging_freq': 18, 'num_leaves': 898, 'min_child_samples': 50}. Best is trial 54 with value: -1.0676777757599207.\u001b[0m\n"
     ]
    },
    {
     "name": "stdout",
     "output_type": "stream",
     "text": [
      "[LightGBM] [Warning] feature_fraction is set=0.6868632529545136, colsample_bytree=0.7 will be ignored. Current value: feature_fraction=0.6868632529545136\n",
      "[LightGBM] [Warning] bagging_fraction is set=0.5659011922352344, subsample=0.9 will be ignored. Current value: bagging_fraction=0.5659011922352344\n",
      "[LightGBM] [Warning] bagging_freq is set=18, subsample_freq=0 will be ignored. Current value: bagging_freq=18\n",
      "Training until validation scores don't improve for 100 rounds\n",
      "[100]\ttraining's l1: 0.816852\tvalid_1's l1: 1.07344\n",
      "[200]\ttraining's l1: 0.804543\tvalid_1's l1: 1.07357\n",
      "Early stopping, best iteration is:\n",
      "[137]\ttraining's l1: 0.810982\tvalid_1's l1: 1.07265\n"
     ]
    },
    {
     "name": "stderr",
     "output_type": "stream",
     "text": [
      "\u001b[32m[I 2021-07-29 14:10:43,700]\u001b[0m Trial 57 finished with value: -1.0723421253849916 and parameters: {'max_depth': 18, 'min_child_weight': 12, 'subsample': 0.9, 'colsample_bytree': 0.7, 'reg_lambda': 0.0029944082830882074, 'reg_alpha': 0.35728462489305013, 'feature_fraction': 0.6868632529545136, 'bagging_fraction': 0.5659011922352344, 'bagging_freq': 18, 'num_leaves': 979, 'min_child_samples': 44}. Best is trial 54 with value: -1.0676777757599207.\u001b[0m\n"
     ]
    },
    {
     "name": "stdout",
     "output_type": "stream",
     "text": [
      "[LightGBM] [Warning] feature_fraction is set=0.5354145112631461, colsample_bytree=0.7 will be ignored. Current value: feature_fraction=0.5354145112631461\n",
      "[LightGBM] [Warning] bagging_fraction is set=0.9644982486494282, subsample=0.8 will be ignored. Current value: bagging_fraction=0.9644982486494282\n",
      "[LightGBM] [Warning] bagging_freq is set=20, subsample_freq=0 will be ignored. Current value: bagging_freq=20\n",
      "Training until validation scores don't improve for 100 rounds\n",
      "[100]\ttraining's l1: 0.82069\tvalid_1's l1: 1.07603\n",
      "[200]\ttraining's l1: 0.808888\tvalid_1's l1: 1.07309\n",
      "[300]\ttraining's l1: 0.801838\tvalid_1's l1: 1.07267\n",
      "Early stopping, best iteration is:\n",
      "[239]\ttraining's l1: 0.804516\tvalid_1's l1: 1.07229\n"
     ]
    },
    {
     "name": "stderr",
     "output_type": "stream",
     "text": [
      "\u001b[32m[I 2021-07-29 14:11:16,375]\u001b[0m Trial 58 finished with value: -1.0720678854892653 and parameters: {'max_depth': 19, 'min_child_weight': 11, 'subsample': 0.8, 'colsample_bytree': 0.7, 'reg_lambda': 0.031635624174529066, 'reg_alpha': 0.13612237882660472, 'feature_fraction': 0.5354145112631461, 'bagging_fraction': 0.9644982486494282, 'bagging_freq': 20, 'num_leaves': 904, 'min_child_samples': 51}. Best is trial 54 with value: -1.0676777757599207.\u001b[0m\n"
     ]
    },
    {
     "name": "stdout",
     "output_type": "stream",
     "text": [
      "[LightGBM] [Warning] feature_fraction is set=0.23194918894054595, colsample_bytree=0.6 will be ignored. Current value: feature_fraction=0.23194918894054595\n",
      "[LightGBM] [Warning] bagging_fraction is set=0.8374111183018125, subsample=0.7 will be ignored. Current value: bagging_fraction=0.8374111183018125\n",
      "[LightGBM] [Warning] bagging_freq is set=19, subsample_freq=0 will be ignored. Current value: bagging_freq=19\n",
      "Training until validation scores don't improve for 100 rounds\n",
      "[100]\ttraining's l1: 0.822343\tvalid_1's l1: 1.08311\n",
      "[200]\ttraining's l1: 0.808246\tvalid_1's l1: 1.07889\n",
      "[300]\ttraining's l1: 0.799871\tvalid_1's l1: 1.07778\n",
      "Early stopping, best iteration is:\n",
      "[299]\ttraining's l1: 0.799929\tvalid_1's l1: 1.07776\n"
     ]
    },
    {
     "name": "stderr",
     "output_type": "stream",
     "text": [
      "\u001b[32m[I 2021-07-29 14:11:42,057]\u001b[0m Trial 59 finished with value: -1.077268837517041 and parameters: {'max_depth': 15, 'min_child_weight': 10, 'subsample': 0.7, 'colsample_bytree': 0.6, 'reg_lambda': 0.070403589337646, 'reg_alpha': 5.177135126439641, 'feature_fraction': 0.23194918894054595, 'bagging_fraction': 0.8374111183018125, 'bagging_freq': 19, 'num_leaves': 922, 'min_child_samples': 68}. Best is trial 54 with value: -1.0676777757599207.\u001b[0m\n"
     ]
    },
    {
     "name": "stdout",
     "output_type": "stream",
     "text": [
      "[LightGBM] [Warning] feature_fraction is set=0.671539707938685, colsample_bytree=0.7 will be ignored. Current value: feature_fraction=0.671539707938685\n",
      "[LightGBM] [Warning] bagging_fraction is set=0.9689343023197985, subsample=0.8 will be ignored. Current value: bagging_fraction=0.9689343023197985\n",
      "[LightGBM] [Warning] bagging_freq is set=18, subsample_freq=0 will be ignored. Current value: bagging_freq=18\n",
      "Training until validation scores don't improve for 100 rounds\n",
      "[100]\ttraining's l1: 0.827717\tvalid_1's l1: 1.07768\n",
      "[200]\ttraining's l1: 0.815887\tvalid_1's l1: 1.07346\n",
      "[300]\ttraining's l1: 0.811025\tvalid_1's l1: 1.07298\n",
      "Early stopping, best iteration is:\n",
      "[229]\ttraining's l1: 0.811744\tvalid_1's l1: 1.07281\n"
     ]
    },
    {
     "name": "stderr",
     "output_type": "stream",
     "text": [
      "\u001b[32m[I 2021-07-29 14:12:03,268]\u001b[0m Trial 60 finished with value: -1.0726302374574306 and parameters: {'max_depth': 12, 'min_child_weight': 19, 'subsample': 0.8, 'colsample_bytree': 0.7, 'reg_lambda': 0.0247618377986147, 'reg_alpha': 11.603719505000909, 'feature_fraction': 0.671539707938685, 'bagging_fraction': 0.9689343023197985, 'bagging_freq': 18, 'num_leaves': 657, 'min_child_samples': 46}. Best is trial 54 with value: -1.0676777757599207.\u001b[0m\n"
     ]
    },
    {
     "name": "stdout",
     "output_type": "stream",
     "text": [
      "[LightGBM] [Warning] feature_fraction is set=0.7182856178187538, colsample_bytree=0.7 will be ignored. Current value: feature_fraction=0.7182856178187538\n",
      "[LightGBM] [Warning] bagging_fraction is set=0.9167864362677721, subsample=0.8 will be ignored. Current value: bagging_fraction=0.9167864362677721\n",
      "[LightGBM] [Warning] bagging_freq is set=16, subsample_freq=0 will be ignored. Current value: bagging_freq=16\n",
      "Training until validation scores don't improve for 100 rounds\n",
      "[100]\ttraining's l1: 0.820987\tvalid_1's l1: 1.07157\n",
      "[200]\ttraining's l1: 0.810884\tvalid_1's l1: 1.06937\n",
      "[300]\ttraining's l1: 0.80818\tvalid_1's l1: 1.06972\n",
      "Early stopping, best iteration is:\n",
      "[223]\ttraining's l1: 0.810268\tvalid_1's l1: 1.06903\n"
     ]
    },
    {
     "name": "stderr",
     "output_type": "stream",
     "text": [
      "\u001b[32m[I 2021-07-29 14:12:28,486]\u001b[0m Trial 61 finished with value: -1.0688580904731433 and parameters: {'max_depth': 16, 'min_child_weight': 13, 'subsample': 0.8, 'colsample_bytree': 0.7, 'reg_lambda': 1.0410020348895546, 'reg_alpha': 0.07152548919768999, 'feature_fraction': 0.7182856178187538, 'bagging_fraction': 0.9167864362677721, 'bagging_freq': 16, 'num_leaves': 827, 'min_child_samples': 54}. Best is trial 54 with value: -1.0676777757599207.\u001b[0m\n"
     ]
    },
    {
     "name": "stdout",
     "output_type": "stream",
     "text": [
      "[LightGBM] [Warning] feature_fraction is set=0.6297771603224207, colsample_bytree=0.7 will be ignored. Current value: feature_fraction=0.6297771603224207\n",
      "[LightGBM] [Warning] bagging_fraction is set=0.9326877232022434, subsample=0.8 will be ignored. Current value: bagging_fraction=0.9326877232022434\n",
      "[LightGBM] [Warning] bagging_freq is set=16, subsample_freq=0 will be ignored. Current value: bagging_freq=16\n",
      "Training until validation scores don't improve for 100 rounds\n",
      "[100]\ttraining's l1: 0.820399\tvalid_1's l1: 1.07188\n",
      "[200]\ttraining's l1: 0.808844\tvalid_1's l1: 1.07119\n",
      "[300]\ttraining's l1: 0.802081\tvalid_1's l1: 1.07139\n",
      "Early stopping, best iteration is:\n",
      "[224]\ttraining's l1: 0.806061\tvalid_1's l1: 1.07053\n"
     ]
    },
    {
     "name": "stderr",
     "output_type": "stream",
     "text": [
      "\u001b[32m[I 2021-07-29 14:12:53,139]\u001b[0m Trial 62 finished with value: -1.0703286742767402 and parameters: {'max_depth': 15, 'min_child_weight': 12, 'subsample': 0.8, 'colsample_bytree': 0.7, 'reg_lambda': 0.42746742144388244, 'reg_alpha': 0.03905329119960528, 'feature_fraction': 0.6297771603224207, 'bagging_fraction': 0.9326877232022434, 'bagging_freq': 16, 'num_leaves': 814, 'min_child_samples': 56}. Best is trial 54 with value: -1.0676777757599207.\u001b[0m\n"
     ]
    },
    {
     "name": "stdout",
     "output_type": "stream",
     "text": [
      "[LightGBM] [Warning] feature_fraction is set=0.7030211686513392, colsample_bytree=0.7 will be ignored. Current value: feature_fraction=0.7030211686513392\n",
      "[LightGBM] [Warning] bagging_fraction is set=0.8743065187451258, subsample=0.8 will be ignored. Current value: bagging_fraction=0.8743065187451258\n",
      "[LightGBM] [Warning] bagging_freq is set=17, subsample_freq=0 will be ignored. Current value: bagging_freq=17\n",
      "Training until validation scores don't improve for 100 rounds\n",
      "[100]\ttraining's l1: 0.821253\tvalid_1's l1: 1.07345\n",
      "[200]\ttraining's l1: 0.813738\tvalid_1's l1: 1.07143\n",
      "[300]\ttraining's l1: 0.808929\tvalid_1's l1: 1.07195\n",
      "Early stopping, best iteration is:\n",
      "[205]\ttraining's l1: 0.813384\tvalid_1's l1: 1.0714\n"
     ]
    },
    {
     "name": "stderr",
     "output_type": "stream",
     "text": [
      "\u001b[32m[I 2021-07-29 14:13:16,474]\u001b[0m Trial 63 finished with value: -1.0712330837836068 and parameters: {'max_depth': 16, 'min_child_weight': 15, 'subsample': 0.8, 'colsample_bytree': 0.7, 'reg_lambda': 0.01080114888240759, 'reg_alpha': 0.07145310590044436, 'feature_fraction': 0.7030211686513392, 'bagging_fraction': 0.8743065187451258, 'bagging_freq': 17, 'num_leaves': 803, 'min_child_samples': 65}. Best is trial 54 with value: -1.0676777757599207.\u001b[0m\n"
     ]
    },
    {
     "name": "stdout",
     "output_type": "stream",
     "text": [
      "[LightGBM] [Warning] feature_fraction is set=0.7525630572848043, colsample_bytree=0.7 will be ignored. Current value: feature_fraction=0.7525630572848043\n",
      "[LightGBM] [Warning] bagging_fraction is set=0.9207085193458611, subsample=0.7 will be ignored. Current value: bagging_fraction=0.9207085193458611\n",
      "[LightGBM] [Warning] bagging_freq is set=13, subsample_freq=0 will be ignored. Current value: bagging_freq=13\n",
      "Training until validation scores don't improve for 100 rounds\n",
      "[100]\ttraining's l1: 0.823991\tvalid_1's l1: 1.07299\n",
      "[200]\ttraining's l1: 0.818174\tvalid_1's l1: 1.07156\n",
      "[300]\ttraining's l1: 0.815844\tvalid_1's l1: 1.07083\n",
      "[400]\ttraining's l1: 0.814307\tvalid_1's l1: 1.07056\n",
      "[500]\ttraining's l1: 0.811559\tvalid_1's l1: 1.07076\n",
      "Early stopping, best iteration is:\n",
      "[472]\ttraining's l1: 0.812661\tvalid_1's l1: 1.07037\n"
     ]
    },
    {
     "name": "stderr",
     "output_type": "stream",
     "text": [
      "\u001b[32m[I 2021-07-29 14:13:56,092]\u001b[0m Trial 64 finished with value: -1.0701243011031871 and parameters: {'max_depth': 14, 'min_child_weight': 17, 'subsample': 0.7, 'colsample_bytree': 0.7, 'reg_lambda': 2.4198377849219828, 'reg_alpha': 0.16754775875061287, 'feature_fraction': 0.7525630572848043, 'bagging_fraction': 0.9207085193458611, 'bagging_freq': 13, 'num_leaves': 713, 'min_child_samples': 54}. Best is trial 54 with value: -1.0676777757599207.\u001b[0m\n"
     ]
    },
    {
     "name": "stdout",
     "output_type": "stream",
     "text": [
      "[LightGBM] [Warning] feature_fraction is set=0.6101076096618554, colsample_bytree=0.7 will be ignored. Current value: feature_fraction=0.6101076096618554\n",
      "[LightGBM] [Warning] bagging_fraction is set=0.9757425048434, subsample=0.8 will be ignored. Current value: bagging_fraction=0.9757425048434\n",
      "[LightGBM] [Warning] bagging_freq is set=16, subsample_freq=0 will be ignored. Current value: bagging_freq=16\n",
      "Training until validation scores don't improve for 100 rounds\n",
      "[100]\ttraining's l1: 0.81929\tvalid_1's l1: 1.07405\n",
      "[200]\ttraining's l1: 0.806051\tvalid_1's l1: 1.07101\n",
      "[300]\ttraining's l1: 0.800545\tvalid_1's l1: 1.07132\n",
      "Early stopping, best iteration is:\n",
      "[253]\ttraining's l1: 0.801831\tvalid_1's l1: 1.07093\n"
     ]
    },
    {
     "name": "stderr",
     "output_type": "stream",
     "text": [
      "\u001b[32m[I 2021-07-29 14:14:32,062]\u001b[0m Trial 65 finished with value: -1.0707111255956914 and parameters: {'max_depth': 16, 'min_child_weight': 16, 'subsample': 0.8, 'colsample_bytree': 0.7, 'reg_lambda': 5.395150237881593, 'reg_alpha': 0.021872922177018805, 'feature_fraction': 0.6101076096618554, 'bagging_fraction': 0.9757425048434, 'bagging_freq': 16, 'num_leaves': 862, 'min_child_samples': 60}. Best is trial 54 with value: -1.0676777757599207.\u001b[0m\n"
     ]
    },
    {
     "name": "stdout",
     "output_type": "stream",
     "text": [
      "[LightGBM] [Warning] feature_fraction is set=0.5532353327498978, colsample_bytree=0.6 will be ignored. Current value: feature_fraction=0.5532353327498978\n",
      "[LightGBM] [Warning] bagging_fraction is set=0.9560303845858975, subsample=0.8 will be ignored. Current value: bagging_fraction=0.9560303845858975\n",
      "[LightGBM] [Warning] bagging_freq is set=15, subsample_freq=0 will be ignored. Current value: bagging_freq=15\n",
      "Training until validation scores don't improve for 100 rounds\n",
      "[100]\ttraining's l1: 0.816954\tvalid_1's l1: 1.07485\n",
      "[200]\ttraining's l1: 0.80081\tvalid_1's l1: 1.07196\n",
      "Early stopping, best iteration is:\n",
      "[186]\ttraining's l1: 0.801599\tvalid_1's l1: 1.07175\n"
     ]
    },
    {
     "name": "stderr",
     "output_type": "stream",
     "text": [
      "\u001b[32m[I 2021-07-29 14:15:01,242]\u001b[0m Trial 66 finished with value: -1.0715704310334924 and parameters: {'max_depth': 17, 'min_child_weight': 13, 'subsample': 0.8, 'colsample_bytree': 0.6, 'reg_lambda': 0.20709929697796164, 'reg_alpha': 0.0170848907422115, 'feature_fraction': 0.5532353327498978, 'bagging_fraction': 0.9560303845858975, 'bagging_freq': 15, 'num_leaves': 930, 'min_child_samples': 39}. Best is trial 54 with value: -1.0676777757599207.\u001b[0m\n"
     ]
    },
    {
     "name": "stdout",
     "output_type": "stream",
     "text": [
      "[LightGBM] [Warning] feature_fraction is set=0.715978250657484, colsample_bytree=0.8 will be ignored. Current value: feature_fraction=0.715978250657484\n",
      "[LightGBM] [Warning] bagging_fraction is set=0.8575959364805557, subsample=0.8 will be ignored. Current value: bagging_fraction=0.8575959364805557\n",
      "[LightGBM] [Warning] bagging_freq is set=16, subsample_freq=0 will be ignored. Current value: bagging_freq=16\n",
      "Training until validation scores don't improve for 100 rounds\n",
      "[100]\ttraining's l1: 0.818569\tvalid_1's l1: 1.07206\n",
      "[200]\ttraining's l1: 0.808208\tvalid_1's l1: 1.0705\n",
      "[300]\ttraining's l1: 0.800014\tvalid_1's l1: 1.07114\n",
      "Early stopping, best iteration is:\n",
      "[221]\ttraining's l1: 0.805963\tvalid_1's l1: 1.07016\n"
     ]
    },
    {
     "name": "stderr",
     "output_type": "stream",
     "text": [
      "\u001b[32m[I 2021-07-29 14:15:28,173]\u001b[0m Trial 67 finished with value: -1.0699235308807789 and parameters: {'max_depth': 19, 'min_child_weight': 9, 'subsample': 0.8, 'colsample_bytree': 0.8, 'reg_lambda': 0.3208244272795748, 'reg_alpha': 0.5401633827961851, 'feature_fraction': 0.715978250657484, 'bagging_fraction': 0.8575959364805557, 'bagging_freq': 16, 'num_leaves': 896, 'min_child_samples': 51}. Best is trial 54 with value: -1.0676777757599207.\u001b[0m\n"
     ]
    },
    {
     "name": "stdout",
     "output_type": "stream",
     "text": [
      "[LightGBM] [Warning] feature_fraction is set=0.657421863352075, colsample_bytree=0.9 will be ignored. Current value: feature_fraction=0.657421863352075\n",
      "[LightGBM] [Warning] bagging_fraction is set=0.7995747791890483, subsample=0.9 will be ignored. Current value: bagging_fraction=0.7995747791890483\n",
      "[LightGBM] [Warning] bagging_freq is set=19, subsample_freq=0 will be ignored. Current value: bagging_freq=19\n",
      "Training until validation scores don't improve for 100 rounds\n",
      "[100]\ttraining's l1: 0.817336\tvalid_1's l1: 1.0736\n",
      "[200]\ttraining's l1: 0.806988\tvalid_1's l1: 1.07239\n",
      "[300]\ttraining's l1: 0.797215\tvalid_1's l1: 1.07275\n",
      "Early stopping, best iteration is:\n",
      "[216]\ttraining's l1: 0.805049\tvalid_1's l1: 1.07208\n"
     ]
    },
    {
     "name": "stderr",
     "output_type": "stream",
     "text": [
      "\u001b[32m[I 2021-07-29 14:15:54,333]\u001b[0m Trial 68 finished with value: -1.07184086375555 and parameters: {'max_depth': 19, 'min_child_weight': 7, 'subsample': 0.9, 'colsample_bytree': 0.9, 'reg_lambda': 0.07729747384142287, 'reg_alpha': 0.5471785323258433, 'feature_fraction': 0.657421863352075, 'bagging_fraction': 0.7995747791890483, 'bagging_freq': 19, 'num_leaves': 964, 'min_child_samples': 51}. Best is trial 54 with value: -1.0676777757599207.\u001b[0m\n"
     ]
    },
    {
     "name": "stdout",
     "output_type": "stream",
     "text": [
      "[LightGBM] [Warning] feature_fraction is set=0.7139015747400737, colsample_bytree=0.8 will be ignored. Current value: feature_fraction=0.7139015747400737\n",
      "[LightGBM] [Warning] bagging_fraction is set=0.7759046629452552, subsample=0.7 will be ignored. Current value: bagging_fraction=0.7759046629452552\n",
      "[LightGBM] [Warning] bagging_freq is set=17, subsample_freq=0 will be ignored. Current value: bagging_freq=17\n",
      "Training until validation scores don't improve for 100 rounds\n",
      "[100]\ttraining's l1: 0.818779\tvalid_1's l1: 1.07533\n",
      "[200]\ttraining's l1: 0.80881\tvalid_1's l1: 1.07348\n",
      "[300]\ttraining's l1: 0.799641\tvalid_1's l1: 1.0733\n",
      "Early stopping, best iteration is:\n",
      "[230]\ttraining's l1: 0.806456\tvalid_1's l1: 1.07306\n"
     ]
    },
    {
     "name": "stderr",
     "output_type": "stream",
     "text": [
      "\u001b[32m[I 2021-07-29 14:16:21,244]\u001b[0m Trial 69 finished with value: -1.0728077236504117 and parameters: {'max_depth': 18, 'min_child_weight': 9, 'subsample': 0.7, 'colsample_bytree': 0.8, 'reg_lambda': 0.04205206133994283, 'reg_alpha': 0.07372664491916692, 'feature_fraction': 0.7139015747400737, 'bagging_fraction': 0.7759046629452552, 'bagging_freq': 17, 'num_leaves': 896, 'min_child_samples': 46}. Best is trial 54 with value: -1.0676777757599207.\u001b[0m\n"
     ]
    },
    {
     "name": "stdout",
     "output_type": "stream",
     "text": [
      "[LightGBM] [Warning] feature_fraction is set=0.6808550057852791, colsample_bytree=0.7 will be ignored. Current value: feature_fraction=0.6808550057852791\n",
      "[LightGBM] [Warning] bagging_fraction is set=0.849497786011561, subsample=0.5 will be ignored. Current value: bagging_fraction=0.849497786011561\n",
      "[LightGBM] [Warning] bagging_freq is set=18, subsample_freq=0 will be ignored. Current value: bagging_freq=18\n",
      "Training until validation scores don't improve for 100 rounds\n",
      "[100]\ttraining's l1: 0.817366\tvalid_1's l1: 1.07347\n",
      "[200]\ttraining's l1: 0.805\tvalid_1's l1: 1.07241\n",
      "Early stopping, best iteration is:\n",
      "[168]\ttraining's l1: 0.807364\tvalid_1's l1: 1.07237\n"
     ]
    },
    {
     "name": "stderr",
     "output_type": "stream",
     "text": [
      "\u001b[32m[I 2021-07-29 14:16:45,451]\u001b[0m Trial 70 finished with value: -1.0721747030445887 and parameters: {'max_depth': 20, 'min_child_weight': 9, 'subsample': 0.5, 'colsample_bytree': 0.7, 'reg_lambda': 0.29272070753996865, 'reg_alpha': 0.033211545177229025, 'feature_fraction': 0.6808550057852791, 'bagging_fraction': 0.849497786011561, 'bagging_freq': 18, 'num_leaves': 994, 'min_child_samples': 56}. Best is trial 54 with value: -1.0676777757599207.\u001b[0m\n"
     ]
    },
    {
     "name": "stdout",
     "output_type": "stream",
     "text": [
      "[LightGBM] [Warning] feature_fraction is set=0.7765986990599854, colsample_bytree=0.8 will be ignored. Current value: feature_fraction=0.7765986990599854\n",
      "[LightGBM] [Warning] bagging_fraction is set=0.9410922093502699, subsample=0.8 will be ignored. Current value: bagging_fraction=0.9410922093502699\n",
      "[LightGBM] [Warning] bagging_freq is set=16, subsample_freq=0 will be ignored. Current value: bagging_freq=16\n",
      "Training until validation scores don't improve for 100 rounds\n",
      "[100]\ttraining's l1: 0.818351\tvalid_1's l1: 1.07314\n",
      "[200]\ttraining's l1: 0.810994\tvalid_1's l1: 1.07127\n",
      "[300]\ttraining's l1: 0.803918\tvalid_1's l1: 1.0696\n",
      "Early stopping, best iteration is:\n",
      "[233]\ttraining's l1: 0.805639\tvalid_1's l1: 1.06911\n"
     ]
    },
    {
     "name": "stderr",
     "output_type": "stream",
     "text": [
      "\u001b[32m[I 2021-07-29 14:17:13,142]\u001b[0m Trial 71 finished with value: -1.0688867197877026 and parameters: {'max_depth': 15, 'min_child_weight': 11, 'subsample': 0.8, 'colsample_bytree': 0.8, 'reg_lambda': 1.2948100852490712, 'reg_alpha': 0.2907250955591756, 'feature_fraction': 0.7765986990599854, 'bagging_fraction': 0.9410922093502699, 'bagging_freq': 16, 'num_leaves': 843, 'min_child_samples': 61}. Best is trial 54 with value: -1.0676777757599207.\u001b[0m\n"
     ]
    },
    {
     "name": "stdout",
     "output_type": "stream",
     "text": [
      "[LightGBM] [Warning] feature_fraction is set=0.7818855021132307, colsample_bytree=0.8 will be ignored. Current value: feature_fraction=0.7818855021132307\n",
      "[LightGBM] [Warning] bagging_fraction is set=0.8801809394620744, subsample=0.8 will be ignored. Current value: bagging_fraction=0.8801809394620744\n",
      "[LightGBM] [Warning] bagging_freq is set=16, subsample_freq=0 will be ignored. Current value: bagging_freq=16\n",
      "Training until validation scores don't improve for 100 rounds\n",
      "[100]\ttraining's l1: 0.818781\tvalid_1's l1: 1.07309\n",
      "[200]\ttraining's l1: 0.802566\tvalid_1's l1: 1.07063\n",
      "[300]\ttraining's l1: 0.792329\tvalid_1's l1: 1.07193\n",
      "Early stopping, best iteration is:\n",
      "[208]\ttraining's l1: 0.80174\tvalid_1's l1: 1.07046\n"
     ]
    },
    {
     "name": "stderr",
     "output_type": "stream",
     "text": [
      "\u001b[32m[I 2021-07-29 14:17:39,595]\u001b[0m Trial 72 finished with value: -1.0702218159027637 and parameters: {'max_depth': 15, 'min_child_weight': 8, 'subsample': 0.8, 'colsample_bytree': 0.8, 'reg_lambda': 1.1695758784294843, 'reg_alpha': 0.9363401996420894, 'feature_fraction': 0.7818855021132307, 'bagging_fraction': 0.8801809394620744, 'bagging_freq': 16, 'num_leaves': 848, 'min_child_samples': 51}. Best is trial 54 with value: -1.0676777757599207.\u001b[0m\n"
     ]
    },
    {
     "name": "stdout",
     "output_type": "stream",
     "text": [
      "[LightGBM] [Warning] feature_fraction is set=0.842578250424957, colsample_bytree=0.8 will be ignored. Current value: feature_fraction=0.842578250424957\n",
      "[LightGBM] [Warning] bagging_fraction is set=0.7051265007595034, subsample=0.8 will be ignored. Current value: bagging_fraction=0.7051265007595034\n",
      "[LightGBM] [Warning] bagging_freq is set=15, subsample_freq=0 will be ignored. Current value: bagging_freq=15\n",
      "Training until validation scores don't improve for 100 rounds\n",
      "[100]\ttraining's l1: 0.818133\tvalid_1's l1: 1.07361\n",
      "[200]\ttraining's l1: 0.804495\tvalid_1's l1: 1.07217\n",
      "Early stopping, best iteration is:\n",
      "[186]\ttraining's l1: 0.805988\tvalid_1's l1: 1.07181\n"
     ]
    },
    {
     "name": "stderr",
     "output_type": "stream",
     "text": [
      "\u001b[32m[I 2021-07-29 14:18:07,966]\u001b[0m Trial 73 finished with value: -1.0715205383299429 and parameters: {'max_depth': 17, 'min_child_weight': 11, 'subsample': 0.8, 'colsample_bytree': 0.8, 'reg_lambda': 0.1285924569801623, 'reg_alpha': 0.38014254844507717, 'feature_fraction': 0.842578250424957, 'bagging_fraction': 0.7051265007595034, 'bagging_freq': 15, 'num_leaves': 916, 'min_child_samples': 58}. Best is trial 54 with value: -1.0676777757599207.\u001b[0m\n"
     ]
    },
    {
     "name": "stdout",
     "output_type": "stream",
     "text": [
      "[LightGBM] [Warning] feature_fraction is set=0.7574620466657896, colsample_bytree=0.7 will be ignored. Current value: feature_fraction=0.7574620466657896\n",
      "[LightGBM] [Warning] bagging_fraction is set=0.9091169493102742, subsample=0.8 will be ignored. Current value: bagging_fraction=0.9091169493102742\n",
      "[LightGBM] [Warning] bagging_freq is set=16, subsample_freq=0 will be ignored. Current value: bagging_freq=16\n",
      "Training until validation scores don't improve for 100 rounds\n",
      "[100]\ttraining's l1: 0.824096\tvalid_1's l1: 1.07701\n",
      "[200]\ttraining's l1: 0.817566\tvalid_1's l1: 1.07507\n",
      "[300]\ttraining's l1: 0.813314\tvalid_1's l1: 1.07296\n",
      "[400]\ttraining's l1: 0.8111\tvalid_1's l1: 1.07253\n",
      "Early stopping, best iteration is:\n",
      "[339]\ttraining's l1: 0.812292\tvalid_1's l1: 1.07235\n"
     ]
    },
    {
     "name": "stderr",
     "output_type": "stream",
     "text": [
      "\u001b[32m[I 2021-07-29 14:18:36,997]\u001b[0m Trial 74 finished with value: -1.0721830631987022 and parameters: {'max_depth': 12, 'min_child_weight': 12, 'subsample': 0.8, 'colsample_bytree': 0.7, 'reg_lambda': 0.2958618070352079, 'reg_alpha': 2.595972063784056, 'feature_fraction': 0.7574620466657896, 'bagging_fraction': 0.9091169493102742, 'bagging_freq': 16, 'num_leaves': 882, 'min_child_samples': 67}. Best is trial 54 with value: -1.0676777757599207.\u001b[0m\n"
     ]
    },
    {
     "name": "stdout",
     "output_type": "stream",
     "text": [
      "[LightGBM] [Warning] feature_fraction is set=0.7345153487887836, colsample_bytree=0.8 will be ignored. Current value: feature_fraction=0.7345153487887836\n",
      "[LightGBM] [Warning] bagging_fraction is set=0.8219596004408535, subsample=0.8 will be ignored. Current value: bagging_fraction=0.8219596004408535\n",
      "[LightGBM] [Warning] bagging_freq is set=17, subsample_freq=0 will be ignored. Current value: bagging_freq=17\n",
      "Training until validation scores don't improve for 100 rounds\n",
      "[100]\ttraining's l1: 0.819457\tvalid_1's l1: 1.07547\n",
      "[200]\ttraining's l1: 0.807912\tvalid_1's l1: 1.07222\n",
      "[300]\ttraining's l1: 0.792692\tvalid_1's l1: 1.0716\n",
      "Early stopping, best iteration is:\n",
      "[226]\ttraining's l1: 0.803331\tvalid_1's l1: 1.07096\n"
     ]
    },
    {
     "name": "stderr",
     "output_type": "stream",
     "text": [
      "\u001b[32m[I 2021-07-29 14:19:02,259]\u001b[0m Trial 75 finished with value: -1.0707177424473988 and parameters: {'max_depth': 13, 'min_child_weight': 10, 'subsample': 0.8, 'colsample_bytree': 0.8, 'reg_lambda': 0.6461628783196697, 'reg_alpha': 0.13822096263896289, 'feature_fraction': 0.7345153487887836, 'bagging_fraction': 0.8219596004408535, 'bagging_freq': 17, 'num_leaves': 1000, 'min_child_samples': 48}. Best is trial 54 with value: -1.0676777757599207.\u001b[0m\n"
     ]
    },
    {
     "name": "stdout",
     "output_type": "stream",
     "text": [
      "[LightGBM] [Warning] feature_fraction is set=0.8611251600265553, colsample_bytree=0.7 will be ignored. Current value: feature_fraction=0.8611251600265553\n",
      "[LightGBM] [Warning] bagging_fraction is set=0.9371183892231408, subsample=0.8 will be ignored. Current value: bagging_fraction=0.9371183892231408\n",
      "[LightGBM] [Warning] bagging_freq is set=14, subsample_freq=0 will be ignored. Current value: bagging_freq=14\n",
      "Training until validation scores don't improve for 100 rounds\n",
      "[100]\ttraining's l1: 0.821363\tvalid_1's l1: 1.0743\n",
      "[200]\ttraining's l1: 0.81385\tvalid_1's l1: 1.07244\n",
      "[300]\ttraining's l1: 0.808317\tvalid_1's l1: 1.07166\n",
      "[400]\ttraining's l1: 0.798346\tvalid_1's l1: 1.07237\n",
      "Early stopping, best iteration is:\n",
      "[303]\ttraining's l1: 0.80821\tvalid_1's l1: 1.07158\n"
     ]
    },
    {
     "name": "stderr",
     "output_type": "stream",
     "text": [
      "\u001b[32m[I 2021-07-29 14:19:36,574]\u001b[0m Trial 76 finished with value: -1.0713571790253038 and parameters: {'max_depth': 19, 'min_child_weight': 13, 'subsample': 0.8, 'colsample_bytree': 0.7, 'reg_lambda': 2.407930042131843, 'reg_alpha': 0.2101058044392821, 'feature_fraction': 0.8611251600265553, 'bagging_fraction': 0.9371183892231408, 'bagging_freq': 14, 'num_leaves': 801, 'min_child_samples': 70}. Best is trial 54 with value: -1.0676777757599207.\u001b[0m\n"
     ]
    },
    {
     "name": "stdout",
     "output_type": "stream",
     "text": [
      "[LightGBM] [Warning] feature_fraction is set=0.7929374273892293, colsample_bytree=0.8 will be ignored. Current value: feature_fraction=0.7929374273892293\n",
      "[LightGBM] [Warning] bagging_fraction is set=0.9469051174814154, subsample=0.7 will be ignored. Current value: bagging_fraction=0.9469051174814154\n",
      "[LightGBM] [Warning] bagging_freq is set=18, subsample_freq=0 will be ignored. Current value: bagging_freq=18\n",
      "Training until validation scores don't improve for 100 rounds\n",
      "[100]\ttraining's l1: 0.81491\tvalid_1's l1: 1.07134\n",
      "[200]\ttraining's l1: 0.803331\tvalid_1's l1: 1.07054\n",
      "Early stopping, best iteration is:\n",
      "[168]\ttraining's l1: 0.807189\tvalid_1's l1: 1.07035\n"
     ]
    },
    {
     "name": "stderr",
     "output_type": "stream",
     "text": [
      "\u001b[32m[I 2021-07-29 14:20:05,759]\u001b[0m Trial 77 finished with value: -1.070180662762388 and parameters: {'max_depth': 16, 'min_child_weight': 8, 'subsample': 0.7, 'colsample_bytree': 0.8, 'reg_lambda': 1.2368167786665123, 'reg_alpha': 0.09822235217912892, 'feature_fraction': 0.7929374273892293, 'bagging_fraction': 0.9469051174814154, 'bagging_freq': 18, 'num_leaves': 957, 'min_child_samples': 61}. Best is trial 54 with value: -1.0676777757599207.\u001b[0m\n"
     ]
    },
    {
     "name": "stdout",
     "output_type": "stream",
     "text": [
      "[LightGBM] [Warning] feature_fraction is set=0.638828357765068, colsample_bytree=0.9 will be ignored. Current value: feature_fraction=0.638828357765068\n",
      "[LightGBM] [Warning] bagging_fraction is set=0.8685507134761895, subsample=0.9 will be ignored. Current value: bagging_fraction=0.8685507134761895\n",
      "[LightGBM] [Warning] bagging_freq is set=19, subsample_freq=0 will be ignored. Current value: bagging_freq=19\n",
      "Training until validation scores don't improve for 100 rounds\n",
      "[100]\ttraining's l1: 0.833597\tvalid_1's l1: 1.08011\n",
      "[200]\ttraining's l1: 0.825317\tvalid_1's l1: 1.07444\n",
      "[300]\ttraining's l1: 0.82328\tvalid_1's l1: 1.07285\n",
      "[400]\ttraining's l1: 0.822799\tvalid_1's l1: 1.07246\n",
      "Early stopping, best iteration is:\n",
      "[367]\ttraining's l1: 0.822811\tvalid_1's l1: 1.07245\n"
     ]
    },
    {
     "name": "stderr",
     "output_type": "stream",
     "text": [
      "\u001b[32m[I 2021-07-29 14:20:26,772]\u001b[0m Trial 78 finished with value: -1.0722944925026046 and parameters: {'max_depth': 10, 'min_child_weight': 11, 'subsample': 0.9, 'colsample_bytree': 0.9, 'reg_lambda': 0.4291723724090099, 'reg_alpha': 1.6961821288489343, 'feature_fraction': 0.638828357765068, 'bagging_fraction': 0.8685507134761895, 'bagging_freq': 19, 'num_leaves': 834, 'min_child_samples': 53}. Best is trial 54 with value: -1.0676777757599207.\u001b[0m\n"
     ]
    },
    {
     "name": "stdout",
     "output_type": "stream",
     "text": [
      "[LightGBM] [Warning] feature_fraction is set=0.7135106763528386, colsample_bytree=0.7 will be ignored. Current value: feature_fraction=0.7135106763528386\n",
      "[LightGBM] [Warning] bagging_fraction is set=0.9169336607613054, subsample=0.8 will be ignored. Current value: bagging_fraction=0.9169336607613054\n",
      "[LightGBM] [Warning] bagging_freq is set=16, subsample_freq=0 will be ignored. Current value: bagging_freq=16\n",
      "Training until validation scores don't improve for 100 rounds\n",
      "[100]\ttraining's l1: 0.821819\tvalid_1's l1: 1.07531\n",
      "[200]\ttraining's l1: 0.809031\tvalid_1's l1: 1.07221\n",
      "[300]\ttraining's l1: 0.798196\tvalid_1's l1: 1.07245\n",
      "Early stopping, best iteration is:\n",
      "[205]\ttraining's l1: 0.807485\tvalid_1's l1: 1.07185\n"
     ]
    },
    {
     "name": "stderr",
     "output_type": "stream",
     "text": [
      "\u001b[32m[I 2021-07-29 14:20:50,520]\u001b[0m Trial 79 finished with value: -1.071627677112209 and parameters: {'max_depth': 15, 'min_child_weight': 15, 'subsample': 0.8, 'colsample_bytree': 0.7, 'reg_lambda': 6.159519454459894, 'reg_alpha': 0.677721606905666, 'feature_fraction': 0.7135106763528386, 'bagging_fraction': 0.9169336607613054, 'bagging_freq': 16, 'num_leaves': 786, 'min_child_samples': 45}. Best is trial 54 with value: -1.0676777757599207.\u001b[0m\n"
     ]
    },
    {
     "name": "stdout",
     "output_type": "stream",
     "text": [
      "[LightGBM] [Warning] feature_fraction is set=0.8166308436999901, colsample_bytree=0.7 will be ignored. Current value: feature_fraction=0.8166308436999901\n",
      "[LightGBM] [Warning] bagging_fraction is set=0.9821860923155333, subsample=0.8 will be ignored. Current value: bagging_fraction=0.9821860923155333\n",
      "[LightGBM] [Warning] bagging_freq is set=17, subsample_freq=0 will be ignored. Current value: bagging_freq=17\n",
      "Training until validation scores don't improve for 100 rounds\n",
      "[100]\ttraining's l1: 0.819518\tvalid_1's l1: 1.07348\n",
      "[200]\ttraining's l1: 0.811449\tvalid_1's l1: 1.0713\n",
      "[300]\ttraining's l1: 0.803796\tvalid_1's l1: 1.07213\n",
      "Early stopping, best iteration is:\n",
      "[241]\ttraining's l1: 0.809349\tvalid_1's l1: 1.071\n"
     ]
    },
    {
     "name": "stderr",
     "output_type": "stream",
     "text": [
      "\u001b[32m[I 2021-07-29 14:21:20,246]\u001b[0m Trial 80 finished with value: -1.070847106540345 and parameters: {'max_depth': 14, 'min_child_weight': 12, 'subsample': 0.8, 'colsample_bytree': 0.7, 'reg_lambda': 0.21266625917178814, 'reg_alpha': 0.04890685076180668, 'feature_fraction': 0.8166308436999901, 'bagging_fraction': 0.9821860923155333, 'bagging_freq': 17, 'num_leaves': 945, 'min_child_samples': 76}. Best is trial 54 with value: -1.0676777757599207.\u001b[0m\n"
     ]
    },
    {
     "name": "stdout",
     "output_type": "stream",
     "text": [
      "[LightGBM] [Warning] feature_fraction is set=0.7410626720359247, colsample_bytree=0.8 will be ignored. Current value: feature_fraction=0.7410626720359247\n",
      "[LightGBM] [Warning] bagging_fraction is set=0.9937256973571403, subsample=0.8 will be ignored. Current value: bagging_fraction=0.9937256973571403\n",
      "[LightGBM] [Warning] bagging_freq is set=13, subsample_freq=0 will be ignored. Current value: bagging_freq=13\n",
      "Training until validation scores don't improve for 100 rounds\n",
      "[100]\ttraining's l1: 0.819833\tvalid_1's l1: 1.07364\n",
      "[200]\ttraining's l1: 0.809582\tvalid_1's l1: 1.07166\n",
      "[300]\ttraining's l1: 0.804113\tvalid_1's l1: 1.07125\n",
      "Early stopping, best iteration is:\n",
      "[245]\ttraining's l1: 0.806858\tvalid_1's l1: 1.07102\n"
     ]
    },
    {
     "name": "stderr",
     "output_type": "stream",
     "text": [
      "\u001b[32m[I 2021-07-29 14:21:48,197]\u001b[0m Trial 81 finished with value: -1.0708647731196461 and parameters: {'max_depth': 14, 'min_child_weight': 14, 'subsample': 0.8, 'colsample_bytree': 0.8, 'reg_lambda': 0.5005138199840509, 'reg_alpha': 0.33528060485824723, 'feature_fraction': 0.7410626720359247, 'bagging_fraction': 0.9937256973571403, 'bagging_freq': 13, 'num_leaves': 862, 'min_child_samples': 62}. Best is trial 54 with value: -1.0676777757599207.\u001b[0m\n"
     ]
    },
    {
     "name": "stdout",
     "output_type": "stream",
     "text": [
      "[LightGBM] [Warning] feature_fraction is set=0.6906973247649223, colsample_bytree=0.8 will be ignored. Current value: feature_fraction=0.6906973247649223\n",
      "[LightGBM] [Warning] bagging_fraction is set=0.9480270292341053, subsample=0.8 will be ignored. Current value: bagging_fraction=0.9480270292341053\n",
      "[LightGBM] [Warning] bagging_freq is set=15, subsample_freq=0 will be ignored. Current value: bagging_freq=15\n",
      "Training until validation scores don't improve for 100 rounds\n",
      "[100]\ttraining's l1: 0.825112\tvalid_1's l1: 1.07464\n",
      "[200]\ttraining's l1: 0.817964\tvalid_1's l1: 1.07203\n",
      "[300]\ttraining's l1: 0.813169\tvalid_1's l1: 1.07157\n",
      "Early stopping, best iteration is:\n",
      "[258]\ttraining's l1: 0.814278\tvalid_1's l1: 1.07151\n"
     ]
    },
    {
     "name": "stderr",
     "output_type": "stream",
     "text": [
      "\u001b[32m[I 2021-07-29 14:22:13,691]\u001b[0m Trial 82 finished with value: -1.0713216491099804 and parameters: {'max_depth': 15, 'min_child_weight': 13, 'subsample': 0.8, 'colsample_bytree': 0.8, 'reg_lambda': 0.3430727723309164, 'reg_alpha': 0.2366993449324272, 'feature_fraction': 0.6906973247649223, 'bagging_fraction': 0.9480270292341053, 'bagging_freq': 15, 'num_leaves': 724, 'min_child_samples': 55}. Best is trial 54 with value: -1.0676777757599207.\u001b[0m\n"
     ]
    },
    {
     "name": "stdout",
     "output_type": "stream",
     "text": [
      "[LightGBM] [Warning] feature_fraction is set=0.8853712917166201, colsample_bytree=0.8 will be ignored. Current value: feature_fraction=0.8853712917166201\n",
      "[LightGBM] [Warning] bagging_fraction is set=0.8914635070984066, subsample=0.8 will be ignored. Current value: bagging_fraction=0.8914635070984066\n",
      "[LightGBM] [Warning] bagging_freq is set=14, subsample_freq=0 will be ignored. Current value: bagging_freq=14\n",
      "Training until validation scores don't improve for 100 rounds\n",
      "[100]\ttraining's l1: 0.822844\tvalid_1's l1: 1.07379\n",
      "[200]\ttraining's l1: 0.81462\tvalid_1's l1: 1.07089\n",
      "[300]\ttraining's l1: 0.804496\tvalid_1's l1: 1.06979\n",
      "[400]\ttraining's l1: 0.796137\tvalid_1's l1: 1.07028\n",
      "Early stopping, best iteration is:\n",
      "[319]\ttraining's l1: 0.802267\tvalid_1's l1: 1.06949\n"
     ]
    },
    {
     "name": "stderr",
     "output_type": "stream",
     "text": [
      "\u001b[32m[I 2021-07-29 14:22:52,040]\u001b[0m Trial 83 finished with value: -1.0692279803348912 and parameters: {'max_depth': 17, 'min_child_weight': 15, 'subsample': 0.8, 'colsample_bytree': 0.8, 'reg_lambda': 1.0340639860221117, 'reg_alpha': 0.5091362052816882, 'feature_fraction': 0.8853712917166201, 'bagging_fraction': 0.8914635070984066, 'bagging_freq': 14, 'num_leaves': 749, 'min_child_samples': 58}. Best is trial 54 with value: -1.0676777757599207.\u001b[0m\n"
     ]
    },
    {
     "name": "stdout",
     "output_type": "stream",
     "text": [
      "[LightGBM] [Warning] feature_fraction is set=0.8882940748863891, colsample_bytree=0.8 will be ignored. Current value: feature_fraction=0.8882940748863891\n",
      "[LightGBM] [Warning] bagging_fraction is set=0.8946607946576892, subsample=0.8 will be ignored. Current value: bagging_fraction=0.8946607946576892\n",
      "[LightGBM] [Warning] bagging_freq is set=14, subsample_freq=0 will be ignored. Current value: bagging_freq=14\n",
      "Training until validation scores don't improve for 100 rounds\n",
      "[100]\ttraining's l1: 0.81982\tvalid_1's l1: 1.07266\n",
      "[200]\ttraining's l1: 0.807755\tvalid_1's l1: 1.06982\n",
      "Early stopping, best iteration is:\n",
      "[180]\ttraining's l1: 0.809207\tvalid_1's l1: 1.06961\n"
     ]
    },
    {
     "name": "stderr",
     "output_type": "stream",
     "text": [
      "\u001b[32m[I 2021-07-29 14:23:17,029]\u001b[0m Trial 84 finished with value: -1.0694151454354737 and parameters: {'max_depth': 17, 'min_child_weight': 16, 'subsample': 0.8, 'colsample_bytree': 0.8, 'reg_lambda': 0.772517877574773, 'reg_alpha': 1.1032246094223954, 'feature_fraction': 0.8882940748863891, 'bagging_fraction': 0.8946607946576892, 'bagging_freq': 14, 'num_leaves': 840, 'min_child_samples': 59}. Best is trial 54 with value: -1.0676777757599207.\u001b[0m\n"
     ]
    },
    {
     "name": "stdout",
     "output_type": "stream",
     "text": [
      "[LightGBM] [Warning] feature_fraction is set=0.9017051294152413, colsample_bytree=0.8 will be ignored. Current value: feature_fraction=0.9017051294152413\n",
      "[LightGBM] [Warning] bagging_fraction is set=0.8836689496215024, subsample=0.8 will be ignored. Current value: bagging_fraction=0.8836689496215024\n",
      "[LightGBM] [Warning] bagging_freq is set=14, subsample_freq=0 will be ignored. Current value: bagging_freq=14\n",
      "Training until validation scores don't improve for 100 rounds\n",
      "[100]\ttraining's l1: 0.826126\tvalid_1's l1: 1.07495\n",
      "[200]\ttraining's l1: 0.816687\tvalid_1's l1: 1.07097\n",
      "[300]\ttraining's l1: 0.811414\tvalid_1's l1: 1.07125\n",
      "Early stopping, best iteration is:\n",
      "[204]\ttraining's l1: 0.815773\tvalid_1's l1: 1.07087\n"
     ]
    },
    {
     "name": "stderr",
     "output_type": "stream",
     "text": [
      "\u001b[32m[I 2021-07-29 14:23:40,927]\u001b[0m Trial 85 finished with value: -1.070718642597086 and parameters: {'max_depth': 17, 'min_child_weight': 16, 'subsample': 0.8, 'colsample_bytree': 0.8, 'reg_lambda': 0.8289487188754929, 'reg_alpha': 1.2802491943909218, 'feature_fraction': 0.9017051294152413, 'bagging_fraction': 0.8836689496215024, 'bagging_freq': 14, 'num_leaves': 691, 'min_child_samples': 59}. Best is trial 54 with value: -1.0676777757599207.\u001b[0m\n"
     ]
    },
    {
     "name": "stdout",
     "output_type": "stream",
     "text": [
      "[LightGBM] [Warning] feature_fraction is set=0.8762025369440516, colsample_bytree=0.7 will be ignored. Current value: feature_fraction=0.8762025369440516\n",
      "[LightGBM] [Warning] bagging_fraction is set=0.8994857547496218, subsample=0.8 will be ignored. Current value: bagging_fraction=0.8994857547496218\n",
      "[LightGBM] [Warning] bagging_freq is set=15, subsample_freq=0 will be ignored. Current value: bagging_freq=15\n",
      "Training until validation scores don't improve for 100 rounds\n",
      "[100]\ttraining's l1: 0.824523\tvalid_1's l1: 1.07338\n",
      "[200]\ttraining's l1: 0.815998\tvalid_1's l1: 1.07161\n",
      "[300]\ttraining's l1: 0.812325\tvalid_1's l1: 1.07092\n",
      "[400]\ttraining's l1: 0.806309\tvalid_1's l1: 1.07042\n",
      "Early stopping, best iteration is:\n",
      "[361]\ttraining's l1: 0.807613\tvalid_1's l1: 1.07021\n"
     ]
    },
    {
     "name": "stderr",
     "output_type": "stream",
     "text": [
      "\u001b[32m[I 2021-07-29 14:24:16,590]\u001b[0m Trial 86 finished with value: -1.06997418752191 and parameters: {'max_depth': 18, 'min_child_weight': 15, 'subsample': 0.8, 'colsample_bytree': 0.7, 'reg_lambda': 1.5169963795341423, 'reg_alpha': 0.13918932319487315, 'feature_fraction': 0.8762025369440516, 'bagging_fraction': 0.8994857547496218, 'bagging_freq': 15, 'num_leaves': 749, 'min_child_samples': 64}. Best is trial 54 with value: -1.0676777757599207.\u001b[0m\n"
     ]
    },
    {
     "name": "stdout",
     "output_type": "stream",
     "text": [
      "[LightGBM] [Warning] feature_fraction is set=0.9157971887375911, colsample_bytree=0.7 will be ignored. Current value: feature_fraction=0.9157971887375911\n",
      "[LightGBM] [Warning] bagging_fraction is set=0.9264342933206337, subsample=0.9 will be ignored. Current value: bagging_fraction=0.9264342933206337\n",
      "[LightGBM] [Warning] bagging_freq is set=8, subsample_freq=0 will be ignored. Current value: bagging_freq=8\n",
      "Training until validation scores don't improve for 100 rounds\n",
      "[100]\ttraining's l1: 0.819876\tvalid_1's l1: 1.07408\n",
      "[200]\ttraining's l1: 0.80894\tvalid_1's l1: 1.07197\n",
      "[300]\ttraining's l1: 0.796159\tvalid_1's l1: 1.07131\n",
      "Early stopping, best iteration is:\n",
      "[286]\ttraining's l1: 0.797637\tvalid_1's l1: 1.07101\n"
     ]
    },
    {
     "name": "stderr",
     "output_type": "stream",
     "text": [
      "\u001b[32m[I 2021-07-29 14:24:57,110]\u001b[0m Trial 87 finished with value: -1.0707494641661948 and parameters: {'max_depth': 17, 'min_child_weight': 17, 'subsample': 0.9, 'colsample_bytree': 0.7, 'reg_lambda': 2.32230545993233, 'reg_alpha': 1.092511009756708, 'feature_fraction': 0.9157971887375911, 'bagging_fraction': 0.9264342933206337, 'bagging_freq': 8, 'num_leaves': 836, 'min_child_samples': 66}. Best is trial 54 with value: -1.0676777757599207.\u001b[0m\n"
     ]
    },
    {
     "name": "stdout",
     "output_type": "stream",
     "text": [
      "[LightGBM] [Warning] feature_fraction is set=0.8477373183292884, colsample_bytree=0.8 will be ignored. Current value: feature_fraction=0.8477373183292884\n",
      "[LightGBM] [Warning] bagging_fraction is set=0.8402108627685048, subsample=0.8 will be ignored. Current value: bagging_fraction=0.8402108627685048\n",
      "[LightGBM] [Warning] bagging_freq is set=12, subsample_freq=0 will be ignored. Current value: bagging_freq=12\n",
      "Training until validation scores don't improve for 100 rounds\n",
      "[100]\ttraining's l1: 0.820486\tvalid_1's l1: 1.07223\n",
      "[200]\ttraining's l1: 0.808421\tvalid_1's l1: 1.06944\n",
      "[300]\ttraining's l1: 0.797953\tvalid_1's l1: 1.07046\n",
      "Early stopping, best iteration is:\n",
      "[202]\ttraining's l1: 0.807625\tvalid_1's l1: 1.06934\n"
     ]
    },
    {
     "name": "stderr",
     "output_type": "stream",
     "text": [
      "\u001b[32m[I 2021-07-29 14:25:26,723]\u001b[0m Trial 88 finished with value: -1.069109805116665 and parameters: {'max_depth': 16, 'min_child_weight': 16, 'subsample': 0.8, 'colsample_bytree': 0.8, 'reg_lambda': 4.106620421589012, 'reg_alpha': 0.07104131404033097, 'feature_fraction': 0.8477373183292884, 'bagging_fraction': 0.8402108627685048, 'bagging_freq': 12, 'num_leaves': 822, 'min_child_samples': 56}. Best is trial 54 with value: -1.0676777757599207.\u001b[0m\n"
     ]
    },
    {
     "name": "stdout",
     "output_type": "stream",
     "text": [
      "[LightGBM] [Warning] feature_fraction is set=0.9347039161774682, colsample_bytree=0.8 will be ignored. Current value: feature_fraction=0.9347039161774682\n",
      "[LightGBM] [Warning] bagging_fraction is set=0.8342828847563375, subsample=0.9 will be ignored. Current value: bagging_fraction=0.8342828847563375\n",
      "[LightGBM] [Warning] bagging_freq is set=12, subsample_freq=0 will be ignored. Current value: bagging_freq=12\n",
      "Training until validation scores don't improve for 100 rounds\n",
      "[100]\ttraining's l1: 0.820224\tvalid_1's l1: 1.07314\n",
      "[200]\ttraining's l1: 0.80703\tvalid_1's l1: 1.07135\n",
      "Early stopping, best iteration is:\n",
      "[160]\ttraining's l1: 0.810887\tvalid_1's l1: 1.07104\n"
     ]
    },
    {
     "name": "stderr",
     "output_type": "stream",
     "text": [
      "\u001b[32m[I 2021-07-29 14:25:49,767]\u001b[0m Trial 89 finished with value: -1.0708404008614782 and parameters: {'max_depth': 18, 'min_child_weight': 18, 'subsample': 0.9, 'colsample_bytree': 0.8, 'reg_lambda': 15.95659160961473, 'reg_alpha': 2.1394338187381035, 'feature_fraction': 0.9347039161774682, 'bagging_fraction': 0.8342828847563375, 'bagging_freq': 12, 'num_leaves': 786, 'min_child_samples': 56}. Best is trial 54 with value: -1.0676777757599207.\u001b[0m\n"
     ]
    },
    {
     "name": "stdout",
     "output_type": "stream",
     "text": [
      "[LightGBM] [Warning] feature_fraction is set=0.8367696671618626, colsample_bytree=0.9 will be ignored. Current value: feature_fraction=0.8367696671618626\n",
      "[LightGBM] [Warning] bagging_fraction is set=0.8147160633090544, subsample=0.8 will be ignored. Current value: bagging_fraction=0.8147160633090544\n",
      "[LightGBM] [Warning] bagging_freq is set=11, subsample_freq=0 will be ignored. Current value: bagging_freq=11\n",
      "Training until validation scores don't improve for 100 rounds\n",
      "[100]\ttraining's l1: 0.821893\tvalid_1's l1: 1.07428\n",
      "[200]\ttraining's l1: 0.806113\tvalid_1's l1: 1.07223\n",
      "Early stopping, best iteration is:\n",
      "[166]\ttraining's l1: 0.81168\tvalid_1's l1: 1.07189\n"
     ]
    },
    {
     "name": "stderr",
     "output_type": "stream",
     "text": [
      "\u001b[32m[I 2021-07-29 14:26:12,615]\u001b[0m Trial 90 finished with value: -1.0716916118009028 and parameters: {'max_depth': 16, 'min_child_weight': 16, 'subsample': 0.8, 'colsample_bytree': 0.9, 'reg_lambda': 4.761556967412299, 'reg_alpha': 0.07805422514893101, 'feature_fraction': 0.8367696671618626, 'bagging_fraction': 0.8147160633090544, 'bagging_freq': 11, 'num_leaves': 827, 'min_child_samples': 70}. Best is trial 54 with value: -1.0676777757599207.\u001b[0m\n"
     ]
    },
    {
     "name": "stdout",
     "output_type": "stream",
     "text": [
      "[LightGBM] [Warning] feature_fraction is set=0.8640214939378331, colsample_bytree=0.8 will be ignored. Current value: feature_fraction=0.8640214939378331\n",
      "[LightGBM] [Warning] bagging_fraction is set=0.9027719293818446, subsample=0.8 will be ignored. Current value: bagging_fraction=0.9027719293818446\n",
      "[LightGBM] [Warning] bagging_freq is set=10, subsample_freq=0 will be ignored. Current value: bagging_freq=10\n",
      "Training until validation scores don't improve for 100 rounds\n",
      "[100]\ttraining's l1: 0.818646\tvalid_1's l1: 1.07306\n",
      "[200]\ttraining's l1: 0.806437\tvalid_1's l1: 1.0701\n",
      "[300]\ttraining's l1: 0.800824\tvalid_1's l1: 1.0697\n",
      "Early stopping, best iteration is:\n",
      "[281]\ttraining's l1: 0.80162\tvalid_1's l1: 1.06959\n"
     ]
    },
    {
     "name": "stderr",
     "output_type": "stream",
     "text": [
      "\u001b[32m[I 2021-07-29 14:26:45,283]\u001b[0m Trial 91 finished with value: -1.0693802766304927 and parameters: {'max_depth': 16, 'min_child_weight': 17, 'subsample': 0.8, 'colsample_bytree': 0.8, 'reg_lambda': 1.019632855457452, 'reg_alpha': 0.11112737957083203, 'feature_fraction': 0.8640214939378331, 'bagging_fraction': 0.9027719293818446, 'bagging_freq': 10, 'num_leaves': 855, 'min_child_samples': 49}. Best is trial 54 with value: -1.0676777757599207.\u001b[0m\n"
     ]
    },
    {
     "name": "stdout",
     "output_type": "stream",
     "text": [
      "[LightGBM] [Warning] feature_fraction is set=0.863521384297127, colsample_bytree=0.8 will be ignored. Current value: feature_fraction=0.863521384297127\n",
      "[LightGBM] [Warning] bagging_fraction is set=0.8938333181299626, subsample=0.8 will be ignored. Current value: bagging_fraction=0.8938333181299626\n",
      "[LightGBM] [Warning] bagging_freq is set=10, subsample_freq=0 will be ignored. Current value: bagging_freq=10\n",
      "Training until validation scores don't improve for 100 rounds\n",
      "[100]\ttraining's l1: 0.820222\tvalid_1's l1: 1.07382\n",
      "[200]\ttraining's l1: 0.805168\tvalid_1's l1: 1.07064\n",
      "[300]\ttraining's l1: 0.791759\tvalid_1's l1: 1.07064\n",
      "Early stopping, best iteration is:\n",
      "[271]\ttraining's l1: 0.794532\tvalid_1's l1: 1.06995\n"
     ]
    },
    {
     "name": "stderr",
     "output_type": "stream",
     "text": [
      "\u001b[32m[I 2021-07-29 14:27:23,034]\u001b[0m Trial 92 finished with value: -1.069678074166374 and parameters: {'max_depth': 17, 'min_child_weight': 17, 'subsample': 0.8, 'colsample_bytree': 0.8, 'reg_lambda': 0.7965173391623476, 'reg_alpha': 0.11715509990291943, 'feature_fraction': 0.863521384297127, 'bagging_fraction': 0.8938333181299626, 'bagging_freq': 10, 'num_leaves': 873, 'min_child_samples': 58}. Best is trial 54 with value: -1.0676777757599207.\u001b[0m\n"
     ]
    },
    {
     "name": "stdout",
     "output_type": "stream",
     "text": [
      "[LightGBM] [Warning] feature_fraction is set=0.8915731099055975, colsample_bytree=0.8 will be ignored. Current value: feature_fraction=0.8915731099055975\n",
      "[LightGBM] [Warning] bagging_fraction is set=0.9086359838979036, subsample=0.8 will be ignored. Current value: bagging_fraction=0.9086359838979036\n",
      "[LightGBM] [Warning] bagging_freq is set=11, subsample_freq=0 will be ignored. Current value: bagging_freq=11\n",
      "Training until validation scores don't improve for 100 rounds\n",
      "[100]\ttraining's l1: 0.825455\tvalid_1's l1: 1.07325\n",
      "[200]\ttraining's l1: 0.818638\tvalid_1's l1: 1.07155\n",
      "[300]\ttraining's l1: 0.807087\tvalid_1's l1: 1.06958\n",
      "[400]\ttraining's l1: 0.801797\tvalid_1's l1: 1.07012\n",
      "Early stopping, best iteration is:\n",
      "[311]\ttraining's l1: 0.805752\tvalid_1's l1: 1.06925\n"
     ]
    },
    {
     "name": "stderr",
     "output_type": "stream",
     "text": [
      "\u001b[32m[I 2021-07-29 14:27:55,550]\u001b[0m Trial 93 finished with value: -1.069002354926985 and parameters: {'max_depth': 16, 'min_child_weight': 19, 'subsample': 0.8, 'colsample_bytree': 0.8, 'reg_lambda': 1.00316028507302, 'reg_alpha': 0.3494813519262853, 'feature_fraction': 0.8915731099055975, 'bagging_fraction': 0.9086359838979036, 'bagging_freq': 11, 'num_leaves': 737, 'min_child_samples': 53}. Best is trial 54 with value: -1.0676777757599207.\u001b[0m\n"
     ]
    },
    {
     "name": "stdout",
     "output_type": "stream",
     "text": [
      "[LightGBM] [Warning] feature_fraction is set=0.8947040015434609, colsample_bytree=0.8 will be ignored. Current value: feature_fraction=0.8947040015434609\n",
      "[LightGBM] [Warning] bagging_fraction is set=0.9114931827623696, subsample=0.8 will be ignored. Current value: bagging_fraction=0.9114931827623696\n",
      "[LightGBM] [Warning] bagging_freq is set=9, subsample_freq=0 will be ignored. Current value: bagging_freq=9\n",
      "Training until validation scores don't improve for 100 rounds\n",
      "[100]\ttraining's l1: 0.824388\tvalid_1's l1: 1.075\n",
      "[200]\ttraining's l1: 0.815649\tvalid_1's l1: 1.07291\n",
      "[300]\ttraining's l1: 0.805686\tvalid_1's l1: 1.07144\n",
      "[400]\ttraining's l1: 0.793314\tvalid_1's l1: 1.07194\n",
      "Early stopping, best iteration is:\n",
      "[356]\ttraining's l1: 0.797762\tvalid_1's l1: 1.07133\n"
     ]
    },
    {
     "name": "stderr",
     "output_type": "stream",
     "text": [
      "\u001b[32m[I 2021-07-29 14:28:37,282]\u001b[0m Trial 94 finished with value: -1.0710457370684863 and parameters: {'max_depth': 16, 'min_child_weight': 19, 'subsample': 0.8, 'colsample_bytree': 0.8, 'reg_lambda': 3.7324065772015693, 'reg_alpha': 0.4307167576292284, 'feature_fraction': 0.8947040015434609, 'bagging_fraction': 0.9114931827623696, 'bagging_freq': 9, 'num_leaves': 727, 'min_child_samples': 62}. Best is trial 54 with value: -1.0676777757599207.\u001b[0m\n"
     ]
    },
    {
     "name": "stdout",
     "output_type": "stream",
     "text": [
      "[LightGBM] [Warning] feature_fraction is set=0.8141872648499638, colsample_bytree=0.8 will be ignored. Current value: feature_fraction=0.8141872648499638\n",
      "[LightGBM] [Warning] bagging_fraction is set=0.9388754063941536, subsample=0.8 will be ignored. Current value: bagging_fraction=0.9388754063941536\n",
      "[LightGBM] [Warning] bagging_freq is set=11, subsample_freq=0 will be ignored. Current value: bagging_freq=11\n",
      "Training until validation scores don't improve for 100 rounds\n",
      "[100]\ttraining's l1: 0.826076\tvalid_1's l1: 1.07569\n",
      "[200]\ttraining's l1: 0.821148\tvalid_1's l1: 1.07281\n",
      "[300]\ttraining's l1: 0.818039\tvalid_1's l1: 1.07234\n",
      "[400]\ttraining's l1: 0.808037\tvalid_1's l1: 1.07151\n",
      "[500]\ttraining's l1: 0.794316\tvalid_1's l1: 1.07141\n",
      "Early stopping, best iteration is:\n",
      "[427]\ttraining's l1: 0.801885\tvalid_1's l1: 1.07133\n"
     ]
    },
    {
     "name": "stderr",
     "output_type": "stream",
     "text": [
      "\u001b[32m[I 2021-07-29 14:29:21,744]\u001b[0m Trial 95 finished with value: -1.0710528536699562 and parameters: {'max_depth': 17, 'min_child_weight': 19, 'subsample': 0.8, 'colsample_bytree': 0.8, 'reg_lambda': 1.0143532488083555, 'reg_alpha': 0.31824535612743216, 'feature_fraction': 0.8141872648499638, 'bagging_fraction': 0.9388754063941536, 'bagging_freq': 11, 'num_leaves': 669, 'min_child_samples': 57}. Best is trial 54 with value: -1.0676777757599207.\u001b[0m\n"
     ]
    },
    {
     "name": "stdout",
     "output_type": "stream",
     "text": [
      "[LightGBM] [Warning] feature_fraction is set=0.9732962368958248, colsample_bytree=0.8 will be ignored. Current value: feature_fraction=0.9732962368958248\n",
      "[LightGBM] [Warning] bagging_fraction is set=0.8503534940053161, subsample=0.8 will be ignored. Current value: bagging_fraction=0.8503534940053161\n",
      "[LightGBM] [Warning] bagging_freq is set=12, subsample_freq=0 will be ignored. Current value: bagging_freq=12\n",
      "Training until validation scores don't improve for 100 rounds\n",
      "[100]\ttraining's l1: 0.823296\tvalid_1's l1: 1.07424\n",
      "[200]\ttraining's l1: 0.815072\tvalid_1's l1: 1.07238\n",
      "[300]\ttraining's l1: 0.803138\tvalid_1's l1: 1.07268\n",
      "Early stopping, best iteration is:\n",
      "[234]\ttraining's l1: 0.810582\tvalid_1's l1: 1.07199\n"
     ]
    },
    {
     "name": "stderr",
     "output_type": "stream",
     "text": [
      "\u001b[32m[I 2021-07-29 14:29:52,612]\u001b[0m Trial 96 finished with value: -1.071752805729177 and parameters: {'max_depth': 15, 'min_child_weight': 17, 'subsample': 0.8, 'colsample_bytree': 0.8, 'reg_lambda': 1.7857447899028518, 'reg_alpha': 0.18539427299253083, 'feature_fraction': 0.9732962368958248, 'bagging_fraction': 0.8503534940053161, 'bagging_freq': 12, 'num_leaves': 761, 'min_child_samples': 74}. Best is trial 54 with value: -1.0676777757599207.\u001b[0m\n"
     ]
    },
    {
     "name": "stdout",
     "output_type": "stream",
     "text": [
      "[LightGBM] [Warning] feature_fraction is set=0.869909440778746, colsample_bytree=0.8 will be ignored. Current value: feature_fraction=0.869909440778746\n",
      "[LightGBM] [Warning] bagging_fraction is set=0.6620030533904528, subsample=0.8 will be ignored. Current value: bagging_fraction=0.6620030533904528\n",
      "[LightGBM] [Warning] bagging_freq is set=13, subsample_freq=0 will be ignored. Current value: bagging_freq=13\n",
      "Training until validation scores don't improve for 100 rounds\n",
      "[100]\ttraining's l1: 0.828682\tvalid_1's l1: 1.07515\n",
      "[200]\ttraining's l1: 0.822631\tvalid_1's l1: 1.0732\n",
      "[300]\ttraining's l1: 0.81665\tvalid_1's l1: 1.07174\n",
      "Early stopping, best iteration is:\n",
      "[240]\ttraining's l1: 0.818902\tvalid_1's l1: 1.07158\n"
     ]
    },
    {
     "name": "stderr",
     "output_type": "stream",
     "text": [
      "\u001b[32m[I 2021-07-29 14:30:18,315]\u001b[0m Trial 97 finished with value: -1.071359658681581 and parameters: {'max_depth': 18, 'min_child_weight': 18, 'subsample': 0.8, 'colsample_bytree': 0.8, 'reg_lambda': 8.165032134298107, 'reg_alpha': 0.8092959168321766, 'feature_fraction': 0.869909440778746, 'bagging_fraction': 0.6620030533904528, 'bagging_freq': 13, 'num_leaves': 615, 'min_child_samples': 49}. Best is trial 54 with value: -1.0676777757599207.\u001b[0m\n"
     ]
    },
    {
     "name": "stdout",
     "output_type": "stream",
     "text": [
      "[LightGBM] [Warning] feature_fraction is set=0.8509137678226717, colsample_bytree=0.8 will be ignored. Current value: feature_fraction=0.8509137678226717\n",
      "[LightGBM] [Warning] bagging_fraction is set=0.9547813588703872, subsample=0.8 will be ignored. Current value: bagging_fraction=0.9547813588703872\n",
      "[LightGBM] [Warning] bagging_freq is set=10, subsample_freq=0 will be ignored. Current value: bagging_freq=10\n",
      "Training until validation scores don't improve for 100 rounds\n",
      "[100]\ttraining's l1: 0.824567\tvalid_1's l1: 1.07536\n",
      "[200]\ttraining's l1: 0.817309\tvalid_1's l1: 1.07384\n",
      "[300]\ttraining's l1: 0.8074\tvalid_1's l1: 1.07148\n",
      "Early stopping, best iteration is:\n",
      "[271]\ttraining's l1: 0.808724\tvalid_1's l1: 1.07118\n"
     ]
    },
    {
     "name": "stderr",
     "output_type": "stream",
     "text": [
      "\u001b[32m[I 2021-07-29 14:30:51,508]\u001b[0m Trial 98 finished with value: -1.071005051847671 and parameters: {'max_depth': 16, 'min_child_weight': 18, 'subsample': 0.8, 'colsample_bytree': 0.8, 'reg_lambda': 0.5666725281533642, 'reg_alpha': 0.03040471735619314, 'feature_fraction': 0.8509137678226717, 'bagging_fraction': 0.9547813588703872, 'bagging_freq': 10, 'num_leaves': 740, 'min_child_samples': 42}. Best is trial 54 with value: -1.0676777757599207.\u001b[0m\n"
     ]
    },
    {
     "name": "stdout",
     "output_type": "stream",
     "text": [
      "[LightGBM] [Warning] feature_fraction is set=0.7691611707340775, colsample_bytree=0.8 will be ignored. Current value: feature_fraction=0.7691611707340775\n",
      "[LightGBM] [Warning] bagging_fraction is set=0.9806562488620748, subsample=0.8 will be ignored. Current value: bagging_fraction=0.9806562488620748\n",
      "[LightGBM] [Warning] bagging_freq is set=8, subsample_freq=0 will be ignored. Current value: bagging_freq=8\n",
      "Training until validation scores don't improve for 100 rounds\n",
      "[100]\ttraining's l1: 0.820583\tvalid_1's l1: 1.07481\n",
      "[200]\ttraining's l1: 0.813907\tvalid_1's l1: 1.07377\n",
      "[300]\ttraining's l1: 0.800985\tvalid_1's l1: 1.07289\n",
      "[400]\ttraining's l1: 0.798079\tvalid_1's l1: 1.073\n",
      "Early stopping, best iteration is:\n",
      "[378]\ttraining's l1: 0.798495\tvalid_1's l1: 1.07275\n"
     ]
    },
    {
     "name": "stderr",
     "output_type": "stream",
     "text": [
      "\u001b[32m[I 2021-07-29 14:31:29,969]\u001b[0m Trial 99 finished with value: -1.072490299432748 and parameters: {'max_depth': 15, 'min_child_weight': 15, 'subsample': 0.8, 'colsample_bytree': 0.8, 'reg_lambda': 2.6699813079413954, 'reg_alpha': 0.09002144810198702, 'feature_fraction': 0.7691611707340775, 'bagging_fraction': 0.9806562488620748, 'bagging_freq': 8, 'num_leaves': 799, 'min_child_samples': 60}. Best is trial 54 with value: -1.0676777757599207.\u001b[0m\n",
      "\u001b[32m[I 2021-07-29 14:31:29,971]\u001b[0m A new study created in memory with name: no-name-9f6fb18b-9657-4132-ae1b-bf6ce7a9d885\u001b[0m\n"
     ]
    },
    {
     "name": "stdout",
     "output_type": "stream",
     "text": [
      "[LightGBM] [Warning] feature_fraction is set=0.7771231506598915, colsample_bytree=0.9 will be ignored. Current value: feature_fraction=0.7771231506598915\n",
      "[LightGBM] [Warning] bagging_fraction is set=0.807753022140389, subsample=0.7 will be ignored. Current value: bagging_fraction=0.807753022140389\n",
      "[LightGBM] [Warning] bagging_freq is set=5, subsample_freq=0 will be ignored. Current value: bagging_freq=5\n",
      "Training until validation scores don't improve for 100 rounds\n",
      "[100]\ttraining's l1: 1.77322\tvalid_1's l1: 2.13419\n"
     ]
    },
    {
     "name": "stderr",
     "output_type": "stream",
     "text": [
      "\u001b[32m[I 2021-07-29 14:31:37,362]\u001b[0m Trial 0 finished with value: -2.105158535432364 and parameters: {'max_depth': 16, 'min_child_weight': 5, 'subsample': 0.7, 'colsample_bytree': 0.9, 'reg_lambda': 299.19228407150257, 'reg_alpha': 0.03615209397057041, 'feature_fraction': 0.7771231506598915, 'bagging_fraction': 0.807753022140389, 'bagging_freq': 5, 'num_leaves': 159, 'min_child_samples': 79}. Best is trial 0 with value: -2.105158535432364.\u001b[0m\n"
     ]
    },
    {
     "name": "stdout",
     "output_type": "stream",
     "text": [
      "Early stopping, best iteration is:\n",
      "[25]\ttraining's l1: 1.88248\tvalid_1's l1: 2.10516\n",
      "[LightGBM] [Warning] feature_fraction is set=0.3181474770080794, colsample_bytree=0.8 will be ignored. Current value: feature_fraction=0.3181474770080794\n",
      "[LightGBM] [Warning] bagging_fraction is set=0.6429577813145511, subsample=0.8 will be ignored. Current value: bagging_fraction=0.6429577813145511\n",
      "[LightGBM] [Warning] bagging_freq is set=13, subsample_freq=0 will be ignored. Current value: bagging_freq=13\n",
      "Training until validation scores don't improve for 100 rounds\n",
      "[100]\ttraining's l1: 1.90357\tvalid_1's l1: 2.14572\n"
     ]
    },
    {
     "name": "stderr",
     "output_type": "stream",
     "text": [
      "\u001b[32m[I 2021-07-29 14:31:41,891]\u001b[0m Trial 1 finished with value: -2.1402751308716983 and parameters: {'max_depth': 5, 'min_child_weight': 19, 'subsample': 0.8, 'colsample_bytree': 0.8, 'reg_lambda': 0.16810962586034311, 'reg_alpha': 0.0015727292579604001, 'feature_fraction': 0.3181474770080794, 'bagging_fraction': 0.6429577813145511, 'bagging_freq': 13, 'num_leaves': 893, 'min_child_samples': 58}. Best is trial 0 with value: -2.105158535432364.\u001b[0m\n"
     ]
    },
    {
     "name": "stdout",
     "output_type": "stream",
     "text": [
      "Early stopping, best iteration is:\n",
      "[38]\ttraining's l1: 1.98333\tvalid_1's l1: 2.14028\n",
      "[LightGBM] [Warning] feature_fraction is set=0.8535591805913021, colsample_bytree=0.8 will be ignored. Current value: feature_fraction=0.8535591805913021\n",
      "[LightGBM] [Warning] bagging_fraction is set=0.7282675658609763, subsample=0.5 will be ignored. Current value: bagging_fraction=0.7282675658609763\n",
      "[LightGBM] [Warning] bagging_freq is set=3, subsample_freq=0 will be ignored. Current value: bagging_freq=3\n",
      "Training until validation scores don't improve for 100 rounds\n",
      "[100]\ttraining's l1: 1.64887\tvalid_1's l1: 2.17029\n"
     ]
    },
    {
     "name": "stderr",
     "output_type": "stream",
     "text": [
      "\u001b[32m[I 2021-07-29 14:31:54,628]\u001b[0m Trial 2 finished with value: -2.0606147267197477 and parameters: {'max_depth': 14, 'min_child_weight': 5, 'subsample': 0.5, 'colsample_bytree': 0.8, 'reg_lambda': 1.365507235699197, 'reg_alpha': 0.006313346740890364, 'feature_fraction': 0.8535591805913021, 'bagging_fraction': 0.7282675658609763, 'bagging_freq': 3, 'num_leaves': 913, 'min_child_samples': 75}. Best is trial 2 with value: -2.0606147267197477.\u001b[0m\n"
     ]
    },
    {
     "name": "stdout",
     "output_type": "stream",
     "text": [
      "Early stopping, best iteration is:\n",
      "[16]\ttraining's l1: 1.85248\tvalid_1's l1: 2.06061\n",
      "[LightGBM] [Warning] feature_fraction is set=0.6935101548180322, colsample_bytree=0.8 will be ignored. Current value: feature_fraction=0.6935101548180322\n",
      "[LightGBM] [Warning] bagging_fraction is set=0.2089466355857299, subsample=0.9 will be ignored. Current value: bagging_fraction=0.2089466355857299\n",
      "[LightGBM] [Warning] bagging_freq is set=16, subsample_freq=0 will be ignored. Current value: bagging_freq=16\n",
      "Training until validation scores don't improve for 100 rounds\n",
      "[100]\ttraining's l1: 1.77466\tvalid_1's l1: 2.17321\n"
     ]
    },
    {
     "name": "stderr",
     "output_type": "stream",
     "text": [
      "\u001b[32m[I 2021-07-29 14:31:59,109]\u001b[0m Trial 3 finished with value: -2.128396236557033 and parameters: {'max_depth': 14, 'min_child_weight': 5, 'subsample': 0.9, 'colsample_bytree': 0.8, 'reg_lambda': 401.01942556621134, 'reg_alpha': 1.0982201341765927, 'feature_fraction': 0.6935101548180322, 'bagging_fraction': 0.2089466355857299, 'bagging_freq': 16, 'num_leaves': 273, 'min_child_samples': 76}. Best is trial 2 with value: -2.0606147267197477.\u001b[0m\n"
     ]
    },
    {
     "name": "stdout",
     "output_type": "stream",
     "text": [
      "Early stopping, best iteration is:\n",
      "[22]\ttraining's l1: 1.94656\tvalid_1's l1: 2.1284\n",
      "[LightGBM] [Warning] feature_fraction is set=0.8789966350387994, colsample_bytree=0.8 will be ignored. Current value: feature_fraction=0.8789966350387994\n",
      "[LightGBM] [Warning] bagging_fraction is set=0.522326426300902, subsample=0.7 will be ignored. Current value: bagging_fraction=0.522326426300902\n",
      "[LightGBM] [Warning] bagging_freq is set=5, subsample_freq=0 will be ignored. Current value: bagging_freq=5\n",
      "Training until validation scores don't improve for 100 rounds\n",
      "[100]\ttraining's l1: 1.75018\tvalid_1's l1: 2.1401\n"
     ]
    },
    {
     "name": "stderr",
     "output_type": "stream",
     "text": [
      "\u001b[32m[I 2021-07-29 14:32:06,049]\u001b[0m Trial 4 finished with value: -2.0779580616050053 and parameters: {'max_depth': 19, 'min_child_weight': 6, 'subsample': 0.7, 'colsample_bytree': 0.8, 'reg_lambda': 42.537333851156845, 'reg_alpha': 0.04126701902630596, 'feature_fraction': 0.8789966350387994, 'bagging_fraction': 0.522326426300902, 'bagging_freq': 5, 'num_leaves': 193, 'min_child_samples': 33}. Best is trial 2 with value: -2.0606147267197477.\u001b[0m\n"
     ]
    },
    {
     "name": "stdout",
     "output_type": "stream",
     "text": [
      "Early stopping, best iteration is:\n",
      "[19]\ttraining's l1: 1.9077\tvalid_1's l1: 2.07796\n",
      "[LightGBM] [Warning] feature_fraction is set=0.6779375539816105, colsample_bytree=0.7 will be ignored. Current value: feature_fraction=0.6779375539816105\n",
      "[LightGBM] [Warning] bagging_fraction is set=0.3638515424528732, subsample=0.7 will be ignored. Current value: bagging_fraction=0.3638515424528732\n",
      "[LightGBM] [Warning] bagging_freq is set=14, subsample_freq=0 will be ignored. Current value: bagging_freq=14\n",
      "Training until validation scores don't improve for 100 rounds\n",
      "[100]\ttraining's l1: 1.84987\tvalid_1's l1: 2.13588\n"
     ]
    },
    {
     "name": "stderr",
     "output_type": "stream",
     "text": [
      "\u001b[32m[I 2021-07-29 14:32:09,692]\u001b[0m Trial 5 finished with value: -2.1223498827692056 and parameters: {'max_depth': 6, 'min_child_weight': 10, 'subsample': 0.7, 'colsample_bytree': 0.7, 'reg_lambda': 0.07887058817421443, 'reg_alpha': 8.59090265339108, 'feature_fraction': 0.6779375539816105, 'bagging_fraction': 0.3638515424528732, 'bagging_freq': 14, 'num_leaves': 744, 'min_child_samples': 25}. Best is trial 2 with value: -2.0606147267197477.\u001b[0m\n"
     ]
    },
    {
     "name": "stdout",
     "output_type": "stream",
     "text": [
      "Early stopping, best iteration is:\n",
      "[33]\ttraining's l1: 1.92109\tvalid_1's l1: 2.12243\n",
      "[LightGBM] [Warning] feature_fraction is set=0.36680345988716195, colsample_bytree=0.8 will be ignored. Current value: feature_fraction=0.36680345988716195\n",
      "[LightGBM] [Warning] bagging_fraction is set=0.739657232355305, subsample=0.9 will be ignored. Current value: bagging_fraction=0.739657232355305\n",
      "[LightGBM] [Warning] bagging_freq is set=1, subsample_freq=0 will be ignored. Current value: bagging_freq=1\n",
      "Training until validation scores don't improve for 100 rounds\n",
      "[100]\ttraining's l1: 2.24164\tvalid_1's l1: 2.3193\n",
      "[200]\ttraining's l1: 2.18984\tvalid_1's l1: 2.26493\n",
      "[300]\ttraining's l1: 2.17434\tvalid_1's l1: 2.25696\n",
      "[400]\ttraining's l1: 2.1676\tvalid_1's l1: 2.25363\n",
      "[500]\ttraining's l1: 2.16271\tvalid_1's l1: 2.25045\n",
      "[600]\ttraining's l1: 2.15876\tvalid_1's l1: 2.2472\n",
      "[700]\ttraining's l1: 2.15509\tvalid_1's l1: 2.24489\n",
      "[800]\ttraining's l1: 2.15188\tvalid_1's l1: 2.24193\n",
      "[900]\ttraining's l1: 2.14954\tvalid_1's l1: 2.24164\n",
      "Early stopping, best iteration is:\n",
      "[828]\ttraining's l1: 2.15142\tvalid_1's l1: 2.24091\n"
     ]
    },
    {
     "name": "stderr",
     "output_type": "stream",
     "text": [
      "\u001b[32m[I 2021-07-29 14:32:31,816]\u001b[0m Trial 6 finished with value: -2.2404342660548693 and parameters: {'max_depth': 1, 'min_child_weight': 15, 'subsample': 0.9, 'colsample_bytree': 0.8, 'reg_lambda': 654.480235611116, 'reg_alpha': 0.30706003072710647, 'feature_fraction': 0.36680345988716195, 'bagging_fraction': 0.739657232355305, 'bagging_freq': 1, 'num_leaves': 150, 'min_child_samples': 42}. Best is trial 2 with value: -2.0606147267197477.\u001b[0m\n"
     ]
    },
    {
     "name": "stdout",
     "output_type": "stream",
     "text": [
      "[LightGBM] [Warning] feature_fraction is set=0.9985351569749386, colsample_bytree=0.9 will be ignored. Current value: feature_fraction=0.9985351569749386\n",
      "[LightGBM] [Warning] bagging_fraction is set=0.2571330190972789, subsample=0.7 will be ignored. Current value: bagging_fraction=0.2571330190972789\n",
      "[LightGBM] [Warning] bagging_freq is set=15, subsample_freq=0 will be ignored. Current value: bagging_freq=15\n",
      "Training until validation scores don't improve for 100 rounds\n",
      "[100]\ttraining's l1: 1.99183\tvalid_1's l1: 2.18413\n",
      "[200]\ttraining's l1: 1.95206\tvalid_1's l1: 2.17003\n",
      "[300]\ttraining's l1: 1.93287\tvalid_1's l1: 2.16854\n",
      "[400]\ttraining's l1: 1.91998\tvalid_1's l1: 2.16667\n"
     ]
    },
    {
     "name": "stderr",
     "output_type": "stream",
     "text": [
      "\u001b[32m[I 2021-07-29 14:32:37,501]\u001b[0m Trial 7 finished with value: -2.1597107649396445 and parameters: {'max_depth': 3, 'min_child_weight': 16, 'subsample': 0.7, 'colsample_bytree': 0.9, 'reg_lambda': 0.6588613190066968, 'reg_alpha': 0.024307862566273448, 'feature_fraction': 0.9985351569749386, 'bagging_fraction': 0.2571330190972789, 'bagging_freq': 15, 'num_leaves': 685, 'min_child_samples': 6}. Best is trial 2 with value: -2.0606147267197477.\u001b[0m\n"
     ]
    },
    {
     "name": "stdout",
     "output_type": "stream",
     "text": [
      "Early stopping, best iteration is:\n",
      "[359]\ttraining's l1: 1.92465\tvalid_1's l1: 2.16475\n",
      "[LightGBM] [Warning] feature_fraction is set=0.6090151197328368, colsample_bytree=0.9 will be ignored. Current value: feature_fraction=0.6090151197328368\n",
      "[LightGBM] [Warning] bagging_fraction is set=0.9650797172354049, subsample=0.5 will be ignored. Current value: bagging_fraction=0.9650797172354049\n",
      "[LightGBM] [Warning] bagging_freq is set=14, subsample_freq=0 will be ignored. Current value: bagging_freq=14\n",
      "Training until validation scores don't improve for 100 rounds\n",
      "[100]\ttraining's l1: 1.93351\tvalid_1's l1: 2.16826\n",
      "[200]\ttraining's l1: 1.89877\tvalid_1's l1: 2.15847\n",
      "[300]\ttraining's l1: 1.88133\tvalid_1's l1: 2.1579\n",
      "[400]\ttraining's l1: 1.86361\tvalid_1's l1: 2.1567\n",
      "[500]\ttraining's l1: 1.85187\tvalid_1's l1: 2.15723\n",
      "Early stopping, best iteration is:\n",
      "[450]\ttraining's l1: 1.85591\tvalid_1's l1: 2.15547\n"
     ]
    },
    {
     "name": "stderr",
     "output_type": "stream",
     "text": [
      "\u001b[32m[I 2021-07-29 14:32:57,969]\u001b[0m Trial 8 finished with value: -2.1544081243820044 and parameters: {'max_depth': 4, 'min_child_weight': 2, 'subsample': 0.5, 'colsample_bytree': 0.9, 'reg_lambda': 1.3178277545927546, 'reg_alpha': 0.027307521913753737, 'feature_fraction': 0.6090151197328368, 'bagging_fraction': 0.9650797172354049, 'bagging_freq': 14, 'num_leaves': 367, 'min_child_samples': 11}. Best is trial 2 with value: -2.0606147267197477.\u001b[0m\n"
     ]
    },
    {
     "name": "stdout",
     "output_type": "stream",
     "text": [
      "[LightGBM] [Warning] feature_fraction is set=0.28636057726625774, colsample_bytree=0.7 will be ignored. Current value: feature_fraction=0.28636057726625774\n",
      "[LightGBM] [Warning] bagging_fraction is set=0.3195396587010424, subsample=0.9 will be ignored. Current value: bagging_fraction=0.3195396587010424\n",
      "[LightGBM] [Warning] bagging_freq is set=15, subsample_freq=0 will be ignored. Current value: bagging_freq=15\n",
      "Training until validation scores don't improve for 100 rounds\n",
      "[100]\ttraining's l1: 1.74376\tvalid_1's l1: 2.21118\n"
     ]
    },
    {
     "name": "stderr",
     "output_type": "stream",
     "text": [
      "\u001b[32m[I 2021-07-29 14:33:04,020]\u001b[0m Trial 9 finished with value: -2.161382161574876 and parameters: {'max_depth': 15, 'min_child_weight': 7, 'subsample': 0.9, 'colsample_bytree': 0.7, 'reg_lambda': 0.7497286878135502, 'reg_alpha': 16.718466973989234, 'feature_fraction': 0.28636057726625774, 'bagging_fraction': 0.3195396587010424, 'bagging_freq': 15, 'num_leaves': 875, 'min_child_samples': 87}. Best is trial 2 with value: -2.0606147267197477.\u001b[0m\n"
     ]
    },
    {
     "name": "stdout",
     "output_type": "stream",
     "text": [
      "Early stopping, best iteration is:\n",
      "[20]\ttraining's l1: 1.98158\tvalid_1's l1: 2.16138\n",
      "[LightGBM] [Warning] feature_fraction is set=0.9648156845683555, colsample_bytree=0.5 will be ignored. Current value: feature_fraction=0.9648156845683555\n",
      "[LightGBM] [Warning] bagging_fraction is set=0.9590878469116418, subsample=0.5 will be ignored. Current value: bagging_fraction=0.9590878469116418\n",
      "[LightGBM] [Warning] bagging_freq is set=20, subsample_freq=0 will be ignored. Current value: bagging_freq=20\n",
      "Training until validation scores don't improve for 100 rounds\n",
      "[100]\ttraining's l1: 1.70913\tvalid_1's l1: 2.12958\n"
     ]
    },
    {
     "name": "stderr",
     "output_type": "stream",
     "text": [
      "\u001b[32m[I 2021-07-29 14:33:12,867]\u001b[0m Trial 10 finished with value: -2.0692760974340088 and parameters: {'max_depth': 10, 'min_child_weight': 1, 'subsample': 0.5, 'colsample_bytree': 0.5, 'reg_lambda': 0.0031576238330485295, 'reg_alpha': 0.0013118128317523414, 'feature_fraction': 0.9648156845683555, 'bagging_fraction': 0.9590878469116418, 'bagging_freq': 20, 'num_leaves': 525, 'min_child_samples': 63}. Best is trial 2 with value: -2.0606147267197477.\u001b[0m\n"
     ]
    },
    {
     "name": "stdout",
     "output_type": "stream",
     "text": [
      "Early stopping, best iteration is:\n",
      "[18]\ttraining's l1: 1.85697\tvalid_1's l1: 2.06928\n",
      "[LightGBM] [Warning] feature_fraction is set=0.9966931438210345, colsample_bytree=0.5 will be ignored. Current value: feature_fraction=0.9966931438210345\n",
      "[LightGBM] [Warning] bagging_fraction is set=0.9584797530340806, subsample=0.5 will be ignored. Current value: bagging_fraction=0.9584797530340806\n",
      "[LightGBM] [Warning] bagging_freq is set=20, subsample_freq=0 will be ignored. Current value: bagging_freq=20\n",
      "Training until validation scores don't improve for 100 rounds\n",
      "[100]\ttraining's l1: 1.69601\tvalid_1's l1: 2.15057\n"
     ]
    },
    {
     "name": "stderr",
     "output_type": "stream",
     "text": [
      "\u001b[32m[I 2021-07-29 14:33:22,578]\u001b[0m Trial 11 finished with value: -2.066320745209976 and parameters: {'max_depth': 11, 'min_child_weight': 1, 'subsample': 0.5, 'colsample_bytree': 0.5, 'reg_lambda': 0.002960340731232365, 'reg_alpha': 0.0016075964300208193, 'feature_fraction': 0.9966931438210345, 'bagging_fraction': 0.9584797530340806, 'bagging_freq': 20, 'num_leaves': 558, 'min_child_samples': 59}. Best is trial 2 with value: -2.0606147267197477.\u001b[0m\n"
     ]
    },
    {
     "name": "stdout",
     "output_type": "stream",
     "text": [
      "Early stopping, best iteration is:\n",
      "[20]\ttraining's l1: 1.82541\tvalid_1's l1: 2.06632\n",
      "[LightGBM] [Warning] feature_fraction is set=0.8641222349132265, colsample_bytree=0.5 will be ignored. Current value: feature_fraction=0.8641222349132265\n",
      "[LightGBM] [Warning] bagging_fraction is set=0.8492374128955091, subsample=0.6 will be ignored. Current value: bagging_fraction=0.8492374128955091\n",
      "[LightGBM] [Warning] bagging_freq is set=8, subsample_freq=0 will be ignored. Current value: bagging_freq=8\n",
      "Training until validation scores don't improve for 100 rounds\n",
      "[100]\ttraining's l1: 1.83811\tvalid_1's l1: 2.15896\n"
     ]
    },
    {
     "name": "stderr",
     "output_type": "stream",
     "text": [
      "\u001b[32m[I 2021-07-29 14:33:29,559]\u001b[0m Trial 12 finished with value: -2.1445792575448293 and parameters: {'max_depth': 11, 'min_child_weight': 1, 'subsample': 0.6, 'colsample_bytree': 0.5, 'reg_lambda': 0.0015816340818174143, 'reg_alpha': 824.2664799531885, 'feature_fraction': 0.8641222349132265, 'bagging_fraction': 0.8492374128955091, 'bagging_freq': 8, 'num_leaves': 990, 'min_child_samples': 98}. Best is trial 2 with value: -2.0606147267197477.\u001b[0m\n"
     ]
    },
    {
     "name": "stdout",
     "output_type": "stream",
     "text": [
      "Early stopping, best iteration is:\n",
      "[30]\ttraining's l1: 1.92705\tvalid_1's l1: 2.14465\n",
      "[LightGBM] [Warning] feature_fraction is set=0.44852064093424054, colsample_bytree=0.6 will be ignored. Current value: feature_fraction=0.44852064093424054\n",
      "[LightGBM] [Warning] bagging_fraction is set=0.583016686046677, subsample=0.5 will be ignored. Current value: bagging_fraction=0.583016686046677\n",
      "[LightGBM] [Warning] bagging_freq is set=2, subsample_freq=0 will be ignored. Current value: bagging_freq=2\n",
      "Training until validation scores don't improve for 100 rounds\n",
      "[100]\ttraining's l1: 1.69882\tvalid_1's l1: 2.16793\n"
     ]
    },
    {
     "name": "stderr",
     "output_type": "stream",
     "text": [
      "\u001b[32m[I 2021-07-29 14:33:37,820]\u001b[0m Trial 13 finished with value: -2.1138165697295856 and parameters: {'max_depth': 12, 'min_child_weight': 10, 'subsample': 0.5, 'colsample_bytree': 0.6, 'reg_lambda': 20.236200621982057, 'reg_alpha': 0.001274922425352882, 'feature_fraction': 0.44852064093424054, 'bagging_fraction': 0.583016686046677, 'bagging_freq': 2, 'num_leaves': 505, 'min_child_samples': 66}. Best is trial 2 with value: -2.0606147267197477.\u001b[0m\n"
     ]
    },
    {
     "name": "stdout",
     "output_type": "stream",
     "text": [
      "Early stopping, best iteration is:\n",
      "[23]\ttraining's l1: 1.87017\tvalid_1's l1: 2.11382\n",
      "[LightGBM] [Warning] feature_fraction is set=0.9833800997230766, colsample_bytree=0.6 will be ignored. Current value: feature_fraction=0.9833800997230766\n",
      "[LightGBM] [Warning] bagging_fraction is set=0.8974811379260064, subsample=0.6 will be ignored. Current value: bagging_fraction=0.8974811379260064\n",
      "[LightGBM] [Warning] bagging_freq is set=20, subsample_freq=0 will be ignored. Current value: bagging_freq=20\n",
      "Training until validation scores don't improve for 100 rounds\n",
      "[100]\ttraining's l1: 1.77321\tvalid_1's l1: 2.13882\n"
     ]
    },
    {
     "name": "stderr",
     "output_type": "stream",
     "text": [
      "\u001b[32m[I 2021-07-29 14:33:44,724]\u001b[0m Trial 14 finished with value: -2.100403549044134 and parameters: {'max_depth': 8, 'min_child_weight': 2, 'subsample': 0.6, 'colsample_bytree': 0.6, 'reg_lambda': 0.012577561046421503, 'reg_alpha': 0.003916897046758435, 'feature_fraction': 0.9833800997230766, 'bagging_fraction': 0.8974811379260064, 'bagging_freq': 20, 'num_leaves': 665, 'min_child_samples': 47}. Best is trial 2 with value: -2.0606147267197477.\u001b[0m\n"
     ]
    },
    {
     "name": "stdout",
     "output_type": "stream",
     "text": [
      "Early stopping, best iteration is:\n",
      "[27]\ttraining's l1: 1.84851\tvalid_1's l1: 2.1004\n",
      "[LightGBM] [Warning] feature_fraction is set=0.8601564549272, colsample_bytree=0.6 will be ignored. Current value: feature_fraction=0.8601564549272\n",
      "[LightGBM] [Warning] bagging_fraction is set=0.7162250525450697, subsample=0.6 will be ignored. Current value: bagging_fraction=0.7162250525450697\n",
      "[LightGBM] [Warning] bagging_freq is set=10, subsample_freq=0 will be ignored. Current value: bagging_freq=10\n",
      "Training until validation scores don't improve for 100 rounds\n",
      "[100]\ttraining's l1: 1.8934\tvalid_1's l1: 2.14036\n"
     ]
    },
    {
     "name": "stderr",
     "output_type": "stream",
     "text": [
      "\u001b[32m[I 2021-07-29 14:33:49,646]\u001b[0m Trial 15 finished with value: -2.1387442631223204 and parameters: {'max_depth': 19, 'min_child_weight': 4, 'subsample': 0.6, 'colsample_bytree': 0.6, 'reg_lambda': 7.702106864110238, 'reg_alpha': 0.006357719687581813, 'feature_fraction': 0.8601564549272, 'bagging_fraction': 0.7162250525450697, 'bagging_freq': 10, 'num_leaves': 21, 'min_child_samples': 95}. Best is trial 2 with value: -2.0606147267197477.\u001b[0m\n"
     ]
    },
    {
     "name": "stdout",
     "output_type": "stream",
     "text": [
      "Early stopping, best iteration is:\n",
      "[28]\ttraining's l1: 1.98257\tvalid_1's l1: 2.13874\n",
      "[LightGBM] [Warning] feature_fraction is set=0.4812173111701153, colsample_bytree=0.7 will be ignored. Current value: feature_fraction=0.4812173111701153\n",
      "[LightGBM] [Warning] bagging_fraction is set=0.4761972583908269, subsample=0.5 will be ignored. Current value: bagging_fraction=0.4761972583908269\n",
      "[LightGBM] [Warning] bagging_freq is set=18, subsample_freq=0 will be ignored. Current value: bagging_freq=18\n",
      "Training until validation scores don't improve for 100 rounds\n",
      "[100]\ttraining's l1: 1.67087\tvalid_1's l1: 2.19628\n"
     ]
    },
    {
     "name": "stderr",
     "output_type": "stream",
     "text": [
      "\u001b[32m[I 2021-07-29 14:33:58,879]\u001b[0m Trial 16 finished with value: -2.125989988779561 and parameters: {'max_depth': 17, 'min_child_weight': 8, 'subsample': 0.5, 'colsample_bytree': 0.7, 'reg_lambda': 0.01917182863996185, 'reg_alpha': 0.28547893693978993, 'feature_fraction': 0.4812173111701153, 'bagging_fraction': 0.4761972583908269, 'bagging_freq': 18, 'num_leaves': 817, 'min_child_samples': 72}. Best is trial 2 with value: -2.0606147267197477.\u001b[0m\n"
     ]
    },
    {
     "name": "stdout",
     "output_type": "stream",
     "text": [
      "Early stopping, best iteration is:\n",
      "[18]\ttraining's l1: 1.88807\tvalid_1's l1: 2.12599\n",
      "[LightGBM] [Warning] feature_fraction is set=0.7739182482378801, colsample_bytree=0.5 will be ignored. Current value: feature_fraction=0.7739182482378801\n",
      "[LightGBM] [Warning] bagging_fraction is set=0.9957458089650496, subsample=0.6 will be ignored. Current value: bagging_fraction=0.9957458089650496\n",
      "[LightGBM] [Warning] bagging_freq is set=5, subsample_freq=0 will be ignored. Current value: bagging_freq=5\n",
      "Training until validation scores don't improve for 100 rounds\n",
      "[100]\ttraining's l1: 1.64574\tvalid_1's l1: 2.17627\n"
     ]
    },
    {
     "name": "stderr",
     "output_type": "stream",
     "text": [
      "\u001b[32m[I 2021-07-29 14:34:10,723]\u001b[0m Trial 17 finished with value: -2.0711948066345345 and parameters: {'max_depth': 13, 'min_child_weight': 3, 'subsample': 0.6, 'colsample_bytree': 0.5, 'reg_lambda': 4.169570384154092, 'reg_alpha': 0.008132933313927927, 'feature_fraction': 0.7739182482378801, 'bagging_fraction': 0.9957458089650496, 'bagging_freq': 5, 'num_leaves': 976, 'min_child_samples': 53}. Best is trial 2 with value: -2.0606147267197477.\u001b[0m\n"
     ]
    },
    {
     "name": "stdout",
     "output_type": "stream",
     "text": [
      "Early stopping, best iteration is:\n",
      "[18]\ttraining's l1: 1.82809\tvalid_1's l1: 2.07119\n",
      "[LightGBM] [Warning] feature_fraction is set=0.9569868390041864, colsample_bytree=0.6 will be ignored. Current value: feature_fraction=0.9569868390041864\n",
      "[LightGBM] [Warning] bagging_fraction is set=0.7613806156350629, subsample=0.5 will be ignored. Current value: bagging_fraction=0.7613806156350629\n",
      "[LightGBM] [Warning] bagging_freq is set=8, subsample_freq=0 will be ignored. Current value: bagging_freq=8\n",
      "Training until validation scores don't improve for 100 rounds\n",
      "[100]\ttraining's l1: 1.8488\tvalid_1's l1: 2.15494\n"
     ]
    },
    {
     "name": "stderr",
     "output_type": "stream",
     "text": [
      "\u001b[32m[I 2021-07-29 14:34:17,037]\u001b[0m Trial 18 finished with value: -2.140587351726394 and parameters: {'max_depth': 9, 'min_child_weight': 13, 'subsample': 0.5, 'colsample_bytree': 0.6, 'reg_lambda': 0.11180301665009706, 'reg_alpha': 746.9252005780569, 'feature_fraction': 0.9569868390041864, 'bagging_fraction': 0.7613806156350629, 'bagging_freq': 8, 'num_leaves': 589, 'min_child_samples': 90}. Best is trial 2 with value: -2.0606147267197477.\u001b[0m\n"
     ]
    },
    {
     "name": "stdout",
     "output_type": "stream",
     "text": [
      "Early stopping, best iteration is:\n",
      "[30]\ttraining's l1: 1.92983\tvalid_1's l1: 2.14064\n",
      "[LightGBM] [Warning] feature_fraction is set=0.7917242556066607, colsample_bytree=0.8 will be ignored. Current value: feature_fraction=0.7917242556066607\n",
      "[LightGBM] [Warning] bagging_fraction is set=0.6531156435269809, subsample=0.6 will be ignored. Current value: bagging_fraction=0.6531156435269809\n",
      "[LightGBM] [Warning] bagging_freq is set=3, subsample_freq=0 will be ignored. Current value: bagging_freq=3\n",
      "Training until validation scores don't improve for 100 rounds\n",
      "[100]\ttraining's l1: 1.79205\tvalid_1's l1: 2.1478\n"
     ]
    },
    {
     "name": "stderr",
     "output_type": "stream",
     "text": [
      "\u001b[32m[I 2021-07-29 14:34:22,898]\u001b[0m Trial 19 finished with value: -2.102928767930385 and parameters: {'max_depth': 8, 'min_child_weight': 8, 'subsample': 0.6, 'colsample_bytree': 0.8, 'reg_lambda': 47.28077339402052, 'reg_alpha': 0.13069521016286345, 'feature_fraction': 0.7917242556066607, 'bagging_fraction': 0.6531156435269809, 'bagging_freq': 3, 'num_leaves': 365, 'min_child_samples': 81}. Best is trial 2 with value: -2.0606147267197477.\u001b[0m\n"
     ]
    },
    {
     "name": "stdout",
     "output_type": "stream",
     "text": [
      "Early stopping, best iteration is:\n",
      "[20]\ttraining's l1: 1.92707\tvalid_1's l1: 2.10293\n",
      "[LightGBM] [Warning] feature_fraction is set=0.9193619483830777, colsample_bytree=0.7 will be ignored. Current value: feature_fraction=0.9193619483830777\n",
      "[LightGBM] [Warning] bagging_fraction is set=0.8890493357721465, subsample=0.8 will be ignored. Current value: bagging_fraction=0.8890493357721465\n",
      "[LightGBM] [Warning] bagging_freq is set=12, subsample_freq=0 will be ignored. Current value: bagging_freq=12\n",
      "Training until validation scores don't improve for 100 rounds\n",
      "[100]\ttraining's l1: 1.70793\tvalid_1's l1: 2.15686\n"
     ]
    },
    {
     "name": "stderr",
     "output_type": "stream",
     "text": [
      "\u001b[32m[I 2021-07-29 14:34:32,113]\u001b[0m Trial 20 finished with value: -2.06953810686147 and parameters: {'max_depth': 12, 'min_child_weight': 3, 'subsample': 0.8, 'colsample_bytree': 0.7, 'reg_lambda': 0.01126370689195838, 'reg_alpha': 3.529422948878214, 'feature_fraction': 0.9193619483830777, 'bagging_fraction': 0.8890493357721465, 'bagging_freq': 12, 'num_leaves': 388, 'min_child_samples': 39}. Best is trial 2 with value: -2.0606147267197477.\u001b[0m\n"
     ]
    },
    {
     "name": "stdout",
     "output_type": "stream",
     "text": [
      "Early stopping, best iteration is:\n",
      "[16]\ttraining's l1: 1.90325\tvalid_1's l1: 2.06954\n",
      "[LightGBM] [Warning] feature_fraction is set=0.9550660461014392, colsample_bytree=0.5 will be ignored. Current value: feature_fraction=0.9550660461014392\n",
      "[LightGBM] [Warning] bagging_fraction is set=0.9958375465676802, subsample=0.5 will be ignored. Current value: bagging_fraction=0.9958375465676802\n",
      "[LightGBM] [Warning] bagging_freq is set=20, subsample_freq=0 will be ignored. Current value: bagging_freq=20\n",
      "Training until validation scores don't improve for 100 rounds\n",
      "[100]\ttraining's l1: 1.70719\tvalid_1's l1: 2.14178\n"
     ]
    },
    {
     "name": "stderr",
     "output_type": "stream",
     "text": [
      "\u001b[32m[I 2021-07-29 14:34:41,045]\u001b[0m Trial 21 finished with value: -2.0759239182953975 and parameters: {'max_depth': 10, 'min_child_weight': 1, 'subsample': 0.5, 'colsample_bytree': 0.5, 'reg_lambda': 0.001552692123808328, 'reg_alpha': 0.0012197676014879832, 'feature_fraction': 0.9550660461014392, 'bagging_fraction': 0.9958375465676802, 'bagging_freq': 20, 'num_leaves': 504, 'min_child_samples': 63}. Best is trial 2 with value: -2.0606147267197477.\u001b[0m\n"
     ]
    },
    {
     "name": "stdout",
     "output_type": "stream",
     "text": [
      "Early stopping, best iteration is:\n",
      "[16]\ttraining's l1: 1.89181\tvalid_1's l1: 2.07592\n",
      "[LightGBM] [Warning] feature_fraction is set=0.9832923570560038, colsample_bytree=0.5 will be ignored. Current value: feature_fraction=0.9832923570560038\n",
      "[LightGBM] [Warning] bagging_fraction is set=0.924266840838445, subsample=0.5 will be ignored. Current value: bagging_fraction=0.924266840838445\n",
      "[LightGBM] [Warning] bagging_freq is set=18, subsample_freq=0 will be ignored. Current value: bagging_freq=18\n",
      "Training until validation scores don't improve for 100 rounds\n",
      "[100]\ttraining's l1: 1.80376\tvalid_1's l1: 2.13485\n"
     ]
    },
    {
     "name": "stderr",
     "output_type": "stream",
     "text": [
      "\u001b[32m[I 2021-07-29 14:34:47,034]\u001b[0m Trial 22 finished with value: -2.1118138769823185 and parameters: {'max_depth': 7, 'min_child_weight': 1, 'subsample': 0.5, 'colsample_bytree': 0.5, 'reg_lambda': 0.0022210998324288765, 'reg_alpha': 0.00295301442529016, 'feature_fraction': 0.9832923570560038, 'bagging_fraction': 0.924266840838445, 'bagging_freq': 18, 'num_leaves': 545, 'min_child_samples': 68}. Best is trial 2 with value: -2.0606147267197477.\u001b[0m\n"
     ]
    },
    {
     "name": "stdout",
     "output_type": "stream",
     "text": [
      "Early stopping, best iteration is:\n",
      "[18]\ttraining's l1: 1.95523\tvalid_1's l1: 2.11181\n",
      "[LightGBM] [Warning] feature_fraction is set=0.8245129595146087, colsample_bytree=0.5 will be ignored. Current value: feature_fraction=0.8245129595146087\n",
      "[LightGBM] [Warning] bagging_fraction is set=0.8102932473668065, subsample=0.5 will be ignored. Current value: bagging_fraction=0.8102932473668065\n",
      "[LightGBM] [Warning] bagging_freq is set=18, subsample_freq=0 will be ignored. Current value: bagging_freq=18\n",
      "Training until validation scores don't improve for 100 rounds\n",
      "[100]\ttraining's l1: 1.70835\tvalid_1's l1: 2.1518\n"
     ]
    },
    {
     "name": "stderr",
     "output_type": "stream",
     "text": [
      "\u001b[32m[I 2021-07-29 14:34:55,068]\u001b[0m Trial 23 finished with value: -2.0745476104192164 and parameters: {'max_depth': 10, 'min_child_weight': 4, 'subsample': 0.5, 'colsample_bytree': 0.5, 'reg_lambda': 0.004874914224149561, 'reg_alpha': 0.001138139143799231, 'feature_fraction': 0.8245129595146087, 'bagging_fraction': 0.8102932473668065, 'bagging_freq': 18, 'num_leaves': 621, 'min_child_samples': 56}. Best is trial 2 with value: -2.0606147267197477.\u001b[0m\n"
     ]
    },
    {
     "name": "stdout",
     "output_type": "stream",
     "text": [
      "Early stopping, best iteration is:\n",
      "[16]\ttraining's l1: 1.89402\tvalid_1's l1: 2.07455\n",
      "[LightGBM] [Warning] feature_fraction is set=0.9173079912571328, colsample_bytree=0.6 will be ignored. Current value: feature_fraction=0.9173079912571328\n",
      "[LightGBM] [Warning] bagging_fraction is set=0.9426283566838322, subsample=0.6 will be ignored. Current value: bagging_fraction=0.9426283566838322\n",
      "[LightGBM] [Warning] bagging_freq is set=20, subsample_freq=0 will be ignored. Current value: bagging_freq=20\n",
      "Training until validation scores don't improve for 100 rounds\n",
      "[100]\ttraining's l1: 1.69849\tvalid_1's l1: 2.1455\n"
     ]
    },
    {
     "name": "stderr",
     "output_type": "stream",
     "text": [
      "\u001b[32m[I 2021-07-29 14:35:05,216]\u001b[0m Trial 24 finished with value: -2.0577585462488184 and parameters: {'max_depth': 14, 'min_child_weight': 1, 'subsample': 0.6, 'colsample_bytree': 0.6, 'reg_lambda': 0.038679494546008435, 'reg_alpha': 0.010451279252387142, 'feature_fraction': 0.9173079912571328, 'bagging_fraction': 0.9426283566838322, 'bagging_freq': 20, 'num_leaves': 442, 'min_child_samples': 61}. Best is trial 24 with value: -2.0577585462488184.\u001b[0m\n"
     ]
    },
    {
     "name": "stdout",
     "output_type": "stream",
     "text": [
      "Early stopping, best iteration is:\n",
      "[17]\ttraining's l1: 1.87319\tvalid_1's l1: 2.05776\n",
      "[LightGBM] [Warning] feature_fraction is set=0.7037170109187254, colsample_bytree=0.6 will be ignored. Current value: feature_fraction=0.7037170109187254\n",
      "[LightGBM] [Warning] bagging_fraction is set=0.8342972971349673, subsample=0.6 will be ignored. Current value: bagging_fraction=0.8342972971349673\n",
      "[LightGBM] [Warning] bagging_freq is set=17, subsample_freq=0 will be ignored. Current value: bagging_freq=17\n",
      "Training until validation scores don't improve for 100 rounds\n",
      "[100]\ttraining's l1: 1.7003\tvalid_1's l1: 2.17071\n"
     ]
    },
    {
     "name": "stderr",
     "output_type": "stream",
     "text": [
      "\u001b[32m[I 2021-07-29 14:35:13,317]\u001b[0m Trial 25 finished with value: -2.090421662599163 and parameters: {'max_depth': 17, 'min_child_weight': 3, 'subsample': 0.6, 'colsample_bytree': 0.6, 'reg_lambda': 0.04111472948699947, 'reg_alpha': 0.010895262513172996, 'feature_fraction': 0.7037170109187254, 'bagging_fraction': 0.8342972971349673, 'bagging_freq': 17, 'num_leaves': 413, 'min_child_samples': 49}. Best is trial 24 with value: -2.0577585462488184.\u001b[0m\n"
     ]
    },
    {
     "name": "stdout",
     "output_type": "stream",
     "text": [
      "Early stopping, best iteration is:\n",
      "[18]\ttraining's l1: 1.88502\tvalid_1's l1: 2.09042\n",
      "[LightGBM] [Warning] feature_fraction is set=0.9029104012015428, colsample_bytree=0.6 will be ignored. Current value: feature_fraction=0.9029104012015428\n",
      "[LightGBM] [Warning] bagging_fraction is set=0.6905778491688149, subsample=0.6 will be ignored. Current value: bagging_fraction=0.6905778491688149\n",
      "[LightGBM] [Warning] bagging_freq is set=10, subsample_freq=0 will be ignored. Current value: bagging_freq=10\n",
      "Training until validation scores don't improve for 100 rounds\n",
      "[100]\ttraining's l1: 1.66683\tvalid_1's l1: 2.16215\n"
     ]
    },
    {
     "name": "stderr",
     "output_type": "stream",
     "text": [
      "\u001b[32m[I 2021-07-29 14:35:24,361]\u001b[0m Trial 26 finished with value: -2.062404360776983 and parameters: {'max_depth': 14, 'min_child_weight': 6, 'subsample': 0.6, 'colsample_bytree': 0.6, 'reg_lambda': 0.28450711634250025, 'reg_alpha': 0.07962881633452337, 'feature_fraction': 0.9029104012015428, 'bagging_fraction': 0.6905778491688149, 'bagging_freq': 10, 'num_leaves': 766, 'min_child_samples': 72}. Best is trial 24 with value: -2.0577585462488184.\u001b[0m\n"
     ]
    },
    {
     "name": "stdout",
     "output_type": "stream",
     "text": [
      "Early stopping, best iteration is:\n",
      "[16]\ttraining's l1: 1.86025\tvalid_1's l1: 2.0624\n",
      "[LightGBM] [Warning] feature_fraction is set=0.7340923751932585, colsample_bytree=0.6 will be ignored. Current value: feature_fraction=0.7340923751932585\n",
      "[LightGBM] [Warning] bagging_fraction is set=0.6649025568308807, subsample=0.6 will be ignored. Current value: bagging_fraction=0.6649025568308807\n",
      "[LightGBM] [Warning] bagging_freq is set=10, subsample_freq=0 will be ignored. Current value: bagging_freq=10\n",
      "Training until validation scores don't improve for 100 rounds\n",
      "[100]\ttraining's l1: 1.66392\tvalid_1's l1: 2.16968\n"
     ]
    },
    {
     "name": "stderr",
     "output_type": "stream",
     "text": [
      "\u001b[32m[I 2021-07-29 14:35:33,411]\u001b[0m Trial 27 finished with value: -2.0784621584344163 and parameters: {'max_depth': 14, 'min_child_weight': 8, 'subsample': 0.6, 'colsample_bytree': 0.6, 'reg_lambda': 0.35471103353989064, 'reg_alpha': 0.14028315979462488, 'feature_fraction': 0.7340923751932585, 'bagging_fraction': 0.6649025568308807, 'bagging_freq': 10, 'num_leaves': 778, 'min_child_samples': 85}. Best is trial 24 with value: -2.0577585462488184.\u001b[0m\n"
     ]
    },
    {
     "name": "stdout",
     "output_type": "stream",
     "text": [
      "Early stopping, best iteration is:\n",
      "[17]\ttraining's l1: 1.86248\tvalid_1's l1: 2.07846\n",
      "[LightGBM] [Warning] feature_fraction is set=0.8992936815898825, colsample_bytree=0.7 will be ignored. Current value: feature_fraction=0.8992936815898825\n",
      "[LightGBM] [Warning] bagging_fraction is set=0.5620151734455578, subsample=0.6 will be ignored. Current value: bagging_fraction=0.5620151734455578\n",
      "[LightGBM] [Warning] bagging_freq is set=8, subsample_freq=0 will be ignored. Current value: bagging_freq=8\n",
      "Training until validation scores don't improve for 100 rounds\n",
      "[100]\ttraining's l1: 1.65306\tvalid_1's l1: 2.17845\n"
     ]
    },
    {
     "name": "stderr",
     "output_type": "stream",
     "text": [
      "\u001b[32m[I 2021-07-29 14:35:45,338]\u001b[0m Trial 28 finished with value: -2.0649045541654893 and parameters: {'max_depth': 16, 'min_child_weight': 12, 'subsample': 0.6, 'colsample_bytree': 0.7, 'reg_lambda': 1.9020075135327836, 'reg_alpha': 0.11198403254317556, 'feature_fraction': 0.8992936815898825, 'bagging_fraction': 0.5620151734455578, 'bagging_freq': 8, 'num_leaves': 937, 'min_child_samples': 71}. Best is trial 24 with value: -2.0577585462488184.\u001b[0m\n"
     ]
    },
    {
     "name": "stdout",
     "output_type": "stream",
     "text": [
      "Early stopping, best iteration is:\n",
      "[18]\ttraining's l1: 1.81855\tvalid_1's l1: 2.0649\n",
      "[LightGBM] [Warning] feature_fraction is set=0.6111969508285842, colsample_bytree=0.6 will be ignored. Current value: feature_fraction=0.6111969508285842\n",
      "[LightGBM] [Warning] bagging_fraction is set=0.4665655390192721, subsample=0.7 will be ignored. Current value: bagging_fraction=0.4665655390192721\n",
      "[LightGBM] [Warning] bagging_freq is set=4, subsample_freq=0 will be ignored. Current value: bagging_freq=4\n",
      "Training until validation scores don't improve for 100 rounds\n",
      "[100]\ttraining's l1: 1.66301\tvalid_1's l1: 2.19272\n"
     ]
    },
    {
     "name": "stderr",
     "output_type": "stream",
     "text": [
      "\u001b[32m[I 2021-07-29 14:35:56,925]\u001b[0m Trial 29 finished with value: -2.101250910666335 and parameters: {'max_depth': 20, 'min_child_weight': 6, 'subsample': 0.7, 'colsample_bytree': 0.6, 'reg_lambda': 0.2688158695670324, 'reg_alpha': 0.04854127988745628, 'feature_fraction': 0.6111969508285842, 'bagging_fraction': 0.4665655390192721, 'bagging_freq': 4, 'num_leaves': 838, 'min_child_samples': 76}. Best is trial 24 with value: -2.0577585462488184.\u001b[0m\n"
     ]
    },
    {
     "name": "stdout",
     "output_type": "stream",
     "text": [
      "Early stopping, best iteration is:\n",
      "[18]\ttraining's l1: 1.86362\tvalid_1's l1: 2.10125\n",
      "[LightGBM] [Warning] feature_fraction is set=0.8177696903271436, colsample_bytree=0.9 will be ignored. Current value: feature_fraction=0.8177696903271436\n",
      "[LightGBM] [Warning] bagging_fraction is set=0.7740346566915033, subsample=0.8 will be ignored. Current value: bagging_fraction=0.7740346566915033\n",
      "[LightGBM] [Warning] bagging_freq is set=11, subsample_freq=0 will be ignored. Current value: bagging_freq=11\n",
      "Training until validation scores don't improve for 100 rounds\n",
      "[100]\ttraining's l1: 1.66354\tvalid_1's l1: 2.16394\n"
     ]
    },
    {
     "name": "stderr",
     "output_type": "stream",
     "text": [
      "\u001b[32m[I 2021-07-29 14:36:08,449]\u001b[0m Trial 30 finished with value: -2.0579818723118977 and parameters: {'max_depth': 16, 'min_child_weight': 5, 'subsample': 0.8, 'colsample_bytree': 0.9, 'reg_lambda': 0.04925129289458343, 'reg_alpha': 0.01555208436799138, 'feature_fraction': 0.8177696903271436, 'bagging_fraction': 0.7740346566915033, 'bagging_freq': 11, 'num_leaves': 704, 'min_child_samples': 80}. Best is trial 24 with value: -2.0577585462488184.\u001b[0m\n"
     ]
    },
    {
     "name": "stdout",
     "output_type": "stream",
     "text": [
      "Early stopping, best iteration is:\n",
      "[16]\ttraining's l1: 1.8622\tvalid_1's l1: 2.05798\n",
      "[LightGBM] [Warning] feature_fraction is set=0.8214599737362591, colsample_bytree=0.8 will be ignored. Current value: feature_fraction=0.8214599737362591\n",
      "[LightGBM] [Warning] bagging_fraction is set=0.7728963576300836, subsample=0.8 will be ignored. Current value: bagging_fraction=0.7728963576300836\n",
      "[LightGBM] [Warning] bagging_freq is set=6, subsample_freq=0 will be ignored. Current value: bagging_freq=6\n",
      "Training until validation scores don't improve for 100 rounds\n",
      "[100]\ttraining's l1: 1.66328\tvalid_1's l1: 2.17352\n"
     ]
    },
    {
     "name": "stderr",
     "output_type": "stream",
     "text": [
      "\u001b[32m[I 2021-07-29 14:36:20,619]\u001b[0m Trial 31 finished with value: -2.06790113808018 and parameters: {'max_depth': 16, 'min_child_weight': 5, 'subsample': 0.8, 'colsample_bytree': 0.8, 'reg_lambda': 0.04892227273017429, 'reg_alpha': 0.01575486675265392, 'feature_fraction': 0.8214599737362591, 'bagging_fraction': 0.7728963576300836, 'bagging_freq': 6, 'num_leaves': 736, 'min_child_samples': 83}. Best is trial 24 with value: -2.0577585462488184.\u001b[0m\n"
     ]
    },
    {
     "name": "stdout",
     "output_type": "stream",
     "text": [
      "Early stopping, best iteration is:\n",
      "[18]\ttraining's l1: 1.83178\tvalid_1's l1: 2.0679\n",
      "[LightGBM] [Warning] feature_fraction is set=0.7533393294050589, colsample_bytree=0.9 will be ignored. Current value: feature_fraction=0.7533393294050589\n",
      "[LightGBM] [Warning] bagging_fraction is set=0.7021004255126823, subsample=0.8 will be ignored. Current value: bagging_fraction=0.7021004255126823\n",
      "[LightGBM] [Warning] bagging_freq is set=12, subsample_freq=0 will be ignored. Current value: bagging_freq=12\n",
      "Training until validation scores don't improve for 100 rounds\n",
      "[100]\ttraining's l1: 1.67243\tvalid_1's l1: 2.15913\n"
     ]
    },
    {
     "name": "stderr",
     "output_type": "stream",
     "text": [
      "\u001b[32m[I 2021-07-29 14:36:29,740]\u001b[0m Trial 32 finished with value: -2.0807273991669963 and parameters: {'max_depth': 14, 'min_child_weight': 6, 'subsample': 0.8, 'colsample_bytree': 0.9, 'reg_lambda': 0.19701339417219885, 'reg_alpha': 0.0034945211987850193, 'feature_fraction': 0.7533393294050589, 'bagging_fraction': 0.7021004255126823, 'bagging_freq': 12, 'num_leaves': 674, 'min_child_samples': 75}. Best is trial 24 with value: -2.0577585462488184.\u001b[0m\n"
     ]
    },
    {
     "name": "stdout",
     "output_type": "stream",
     "text": [
      "Early stopping, best iteration is:\n",
      "[18]\ttraining's l1: 1.85301\tvalid_1's l1: 2.08073\n",
      "[LightGBM] [Warning] feature_fraction is set=0.8224666520575403, colsample_bytree=0.9 will be ignored. Current value: feature_fraction=0.8224666520575403\n",
      "[LightGBM] [Warning] bagging_fraction is set=0.6256934440603099, subsample=0.8 will be ignored. Current value: bagging_fraction=0.6256934440603099\n",
      "[LightGBM] [Warning] bagging_freq is set=7, subsample_freq=0 will be ignored. Current value: bagging_freq=7\n",
      "Training until validation scores don't improve for 100 rounds\n",
      "[100]\ttraining's l1: 1.65469\tvalid_1's l1: 2.1723\n"
     ]
    },
    {
     "name": "stderr",
     "output_type": "stream",
     "text": [
      "\u001b[32m[I 2021-07-29 14:36:41,744]\u001b[0m Trial 33 finished with value: -2.062230652869194 and parameters: {'max_depth': 17, 'min_child_weight': 9, 'subsample': 0.8, 'colsample_bytree': 0.9, 'reg_lambda': 0.028774594274620247, 'reg_alpha': 0.06248930914601848, 'feature_fraction': 0.8224666520575403, 'bagging_fraction': 0.6256934440603099, 'bagging_freq': 7, 'num_leaves': 890, 'min_child_samples': 80}. Best is trial 24 with value: -2.0577585462488184.\u001b[0m\n"
     ]
    },
    {
     "name": "stdout",
     "output_type": "stream",
     "text": [
      "Early stopping, best iteration is:\n",
      "[16]\ttraining's l1: 1.85291\tvalid_1's l1: 2.06223\n",
      "[LightGBM] [Warning] feature_fraction is set=0.8353045013371918, colsample_bytree=0.9 will be ignored. Current value: feature_fraction=0.8353045013371918\n",
      "[LightGBM] [Warning] bagging_fraction is set=0.6081622956339268, subsample=0.8 will be ignored. Current value: bagging_fraction=0.6081622956339268\n",
      "[LightGBM] [Warning] bagging_freq is set=7, subsample_freq=0 will be ignored. Current value: bagging_freq=7\n",
      "Training until validation scores don't improve for 100 rounds\n",
      "[100]\ttraining's l1: 1.65299\tvalid_1's l1: 2.17444\n"
     ]
    },
    {
     "name": "stderr",
     "output_type": "stream",
     "text": [
      "\u001b[32m[I 2021-07-29 14:36:53,873]\u001b[0m Trial 34 finished with value: -2.0592495659128764 and parameters: {'max_depth': 17, 'min_child_weight': 11, 'subsample': 0.8, 'colsample_bytree': 0.9, 'reg_lambda': 0.032636143719882375, 'reg_alpha': 0.8109554404531002, 'feature_fraction': 0.8353045013371918, 'bagging_fraction': 0.6081622956339268, 'bagging_freq': 7, 'num_leaves': 924, 'min_child_samples': 92}. Best is trial 24 with value: -2.0577585462488184.\u001b[0m\n"
     ]
    },
    {
     "name": "stdout",
     "output_type": "stream",
     "text": [
      "Early stopping, best iteration is:\n",
      "[16]\ttraining's l1: 1.85217\tvalid_1's l1: 2.05925\n",
      "[LightGBM] [Warning] feature_fraction is set=0.6531694219563953, colsample_bytree=0.9 will be ignored. Current value: feature_fraction=0.6531694219563953\n",
      "[LightGBM] [Warning] bagging_fraction is set=0.5271100978308338, subsample=0.8 will be ignored. Current value: bagging_fraction=0.5271100978308338\n",
      "[LightGBM] [Warning] bagging_freq is set=3, subsample_freq=0 will be ignored. Current value: bagging_freq=3\n",
      "Training until validation scores don't improve for 100 rounds\n",
      "[100]\ttraining's l1: 1.65444\tvalid_1's l1: 2.19514\n"
     ]
    },
    {
     "name": "stderr",
     "output_type": "stream",
     "text": [
      "\u001b[32m[I 2021-07-29 14:37:04,137]\u001b[0m Trial 35 finished with value: -2.0877666852765273 and parameters: {'max_depth': 18, 'min_child_weight': 11, 'subsample': 0.8, 'colsample_bytree': 0.9, 'reg_lambda': 0.08794431703891377, 'reg_alpha': 0.9682736976266878, 'feature_fraction': 0.6531694219563953, 'bagging_fraction': 0.5271100978308338, 'bagging_freq': 3, 'num_leaves': 999, 'min_child_samples': 93}. Best is trial 24 with value: -2.0577585462488184.\u001b[0m\n"
     ]
    },
    {
     "name": "stdout",
     "output_type": "stream",
     "text": [
      "Early stopping, best iteration is:\n",
      "[18]\ttraining's l1: 1.84191\tvalid_1's l1: 2.08777\n",
      "[LightGBM] [Warning] feature_fraction is set=0.9249883075983336, colsample_bytree=0.8 will be ignored. Current value: feature_fraction=0.9249883075983336\n",
      "[LightGBM] [Warning] bagging_fraction is set=0.7792790748374264, subsample=0.9 will be ignored. Current value: bagging_fraction=0.7792790748374264\n",
      "[LightGBM] [Warning] bagging_freq is set=6, subsample_freq=0 will be ignored. Current value: bagging_freq=6\n",
      "Training until validation scores don't improve for 100 rounds\n",
      "[100]\ttraining's l1: 1.72778\tvalid_1's l1: 2.15474\n"
     ]
    },
    {
     "name": "stderr",
     "output_type": "stream",
     "text": [
      "\u001b[32m[I 2021-07-29 14:37:13,436]\u001b[0m Trial 36 finished with value: -2.0868598439734445 and parameters: {'max_depth': 20, 'min_child_weight': 13, 'subsample': 0.9, 'colsample_bytree': 0.8, 'reg_lambda': 0.006480914335920817, 'reg_alpha': 64.41476094157639, 'feature_fraction': 0.9249883075983336, 'bagging_fraction': 0.7792790748374264, 'bagging_freq': 6, 'num_leaves': 283, 'min_child_samples': 89}. Best is trial 24 with value: -2.0577585462488184.\u001b[0m\n"
     ]
    },
    {
     "name": "stdout",
     "output_type": "stream",
     "text": [
      "Early stopping, best iteration is:\n",
      "[22]\ttraining's l1: 1.86507\tvalid_1's l1: 2.08686\n",
      "[LightGBM] [Warning] feature_fraction is set=0.8504227825810686, colsample_bytree=0.8 will be ignored. Current value: feature_fraction=0.8504227825810686\n",
      "[LightGBM] [Warning] bagging_fraction is set=0.8638471551129748, subsample=0.7 will be ignored. Current value: bagging_fraction=0.8638471551129748\n",
      "[LightGBM] [Warning] bagging_freq is set=1, subsample_freq=0 will be ignored. Current value: bagging_freq=1\n",
      "Training until validation scores don't improve for 100 rounds\n",
      "[100]\ttraining's l1: 1.69609\tvalid_1's l1: 2.15346\n"
     ]
    },
    {
     "name": "stderr",
     "output_type": "stream",
     "text": [
      "\u001b[32m[I 2021-07-29 14:37:23,010]\u001b[0m Trial 37 finished with value: -2.0630479945376368 and parameters: {'max_depth': 15, 'min_child_weight': 15, 'subsample': 0.7, 'colsample_bytree': 0.8, 'reg_lambda': 3.817393929694154, 'reg_alpha': 0.707466258664746, 'feature_fraction': 0.8504227825810686, 'bagging_fraction': 0.8638471551129748, 'bagging_freq': 1, 'num_leaves': 465, 'min_child_samples': 97}. Best is trial 24 with value: -2.0577585462488184.\u001b[0m\n"
     ]
    },
    {
     "name": "stdout",
     "output_type": "stream",
     "text": [
      "Early stopping, best iteration is:\n",
      "[19]\ttraining's l1: 1.84531\tvalid_1's l1: 2.06305\n",
      "[LightGBM] [Warning] feature_fraction is set=0.5350508459644152, colsample_bytree=0.9 will be ignored. Current value: feature_fraction=0.5350508459644152\n",
      "[LightGBM] [Warning] bagging_fraction is set=0.6330666504952351, subsample=0.7 will be ignored. Current value: bagging_fraction=0.6330666504952351\n",
      "[LightGBM] [Warning] bagging_freq is set=4, subsample_freq=0 will be ignored. Current value: bagging_freq=4\n",
      "Training until validation scores don't improve for 100 rounds\n",
      "[100]\ttraining's l1: 1.65445\tvalid_1's l1: 2.19479\n"
     ]
    },
    {
     "name": "stderr",
     "output_type": "stream",
     "text": [
      "\u001b[32m[I 2021-07-29 14:37:34,900]\u001b[0m Trial 38 finished with value: -2.115280148977442 and parameters: {'max_depth': 18, 'min_child_weight': 20, 'subsample': 0.7, 'colsample_bytree': 0.9, 'reg_lambda': 0.06252310973684526, 'reg_alpha': 2.8862586412650946, 'feature_fraction': 0.5350508459644152, 'bagging_fraction': 0.6330666504952351, 'bagging_freq': 4, 'num_leaves': 955, 'min_child_samples': 100}. Best is trial 24 with value: -2.0577585462488184.\u001b[0m\n"
     ]
    },
    {
     "name": "stdout",
     "output_type": "stream",
     "text": [
      "Early stopping, best iteration is:\n",
      "[18]\ttraining's l1: 1.86945\tvalid_1's l1: 2.11528\n",
      "[LightGBM] [Warning] feature_fraction is set=0.7052023091492128, colsample_bytree=0.9 will be ignored. Current value: feature_fraction=0.7052023091492128\n",
      "[LightGBM] [Warning] bagging_fraction is set=0.7381721915983805, subsample=0.9 will be ignored. Current value: bagging_fraction=0.7381721915983805\n",
      "[LightGBM] [Warning] bagging_freq is set=12, subsample_freq=0 will be ignored. Current value: bagging_freq=12\n",
      "Training until validation scores don't improve for 100 rounds\n",
      "[100]\ttraining's l1: 1.64956\tvalid_1's l1: 2.17754\n"
     ]
    },
    {
     "name": "stderr",
     "output_type": "stream",
     "text": [
      "\u001b[32m[I 2021-07-29 14:37:45,154]\u001b[0m Trial 39 finished with value: -2.080299824342215 and parameters: {'max_depth': 15, 'min_child_weight': 17, 'subsample': 0.9, 'colsample_bytree': 0.9, 'reg_lambda': 0.4917320541490508, 'reg_alpha': 0.01833754884135458, 'feature_fraction': 0.7052023091492128, 'bagging_fraction': 0.7381721915983805, 'bagging_freq': 12, 'num_leaves': 915, 'min_child_samples': 79}. Best is trial 24 with value: -2.0577585462488184.\u001b[0m\n"
     ]
    },
    {
     "name": "stdout",
     "output_type": "stream",
     "text": [
      "Early stopping, best iteration is:\n",
      "[16]\ttraining's l1: 1.87181\tvalid_1's l1: 2.0803\n",
      "[LightGBM] [Warning] feature_fraction is set=0.21020190641291647, colsample_bytree=0.8 will be ignored. Current value: feature_fraction=0.21020190641291647\n",
      "[LightGBM] [Warning] bagging_fraction is set=0.4499925769602771, subsample=0.8 will be ignored. Current value: bagging_fraction=0.4499925769602771\n",
      "[LightGBM] [Warning] bagging_freq is set=9, subsample_freq=0 will be ignored. Current value: bagging_freq=9\n",
      "Training until validation scores don't improve for 100 rounds\n",
      "[100]\ttraining's l1: 1.82809\tvalid_1's l1: 2.20746\n"
     ]
    },
    {
     "name": "stderr",
     "output_type": "stream",
     "text": [
      "\u001b[32m[I 2021-07-29 14:37:50,036]\u001b[0m Trial 40 finished with value: -2.200162912883267 and parameters: {'max_depth': 13, 'min_child_weight': 9, 'subsample': 0.8, 'colsample_bytree': 0.8, 'reg_lambda': 0.12980395250519247, 'reg_alpha': 78.9237347746582, 'feature_fraction': 0.21020190641291647, 'bagging_fraction': 0.4499925769602771, 'bagging_freq': 9, 'num_leaves': 285, 'min_child_samples': 62}. Best is trial 24 with value: -2.0577585462488184.\u001b[0m\n"
     ]
    },
    {
     "name": "stdout",
     "output_type": "stream",
     "text": [
      "Early stopping, best iteration is:\n",
      "[23]\ttraining's l1: 2.03058\tvalid_1's l1: 2.20016\n",
      "[LightGBM] [Warning] feature_fraction is set=0.8071140042495866, colsample_bytree=0.9 will be ignored. Current value: feature_fraction=0.8071140042495866\n",
      "[LightGBM] [Warning] bagging_fraction is set=0.6238065988879141, subsample=0.8 will be ignored. Current value: bagging_fraction=0.6238065988879141\n",
      "[LightGBM] [Warning] bagging_freq is set=7, subsample_freq=0 will be ignored. Current value: bagging_freq=7\n",
      "Training until validation scores don't improve for 100 rounds\n",
      "[100]\ttraining's l1: 1.65628\tvalid_1's l1: 2.17371\n"
     ]
    },
    {
     "name": "stderr",
     "output_type": "stream",
     "text": [
      "\u001b[32m[I 2021-07-29 14:38:00,649]\u001b[0m Trial 41 finished with value: -2.066640432552677 and parameters: {'max_depth': 17, 'min_child_weight': 11, 'subsample': 0.8, 'colsample_bytree': 0.9, 'reg_lambda': 0.02708918330314721, 'reg_alpha': 0.041534588309527214, 'feature_fraction': 0.8071140042495866, 'bagging_fraction': 0.6238065988879141, 'bagging_freq': 7, 'num_leaves': 872, 'min_child_samples': 79}. Best is trial 24 with value: -2.0577585462488184.\u001b[0m\n"
     ]
    },
    {
     "name": "stdout",
     "output_type": "stream",
     "text": [
      "Early stopping, best iteration is:\n",
      "[16]\ttraining's l1: 1.86124\tvalid_1's l1: 2.06664\n",
      "[LightGBM] [Warning] feature_fraction is set=0.7454821554157219, colsample_bytree=0.9 will be ignored. Current value: feature_fraction=0.7454821554157219\n",
      "[LightGBM] [Warning] bagging_fraction is set=0.6003920442041275, subsample=0.8 will be ignored. Current value: bagging_fraction=0.6003920442041275\n",
      "[LightGBM] [Warning] bagging_freq is set=6, subsample_freq=0 will be ignored. Current value: bagging_freq=6\n",
      "Training until validation scores don't improve for 100 rounds\n",
      "[100]\ttraining's l1: 1.66177\tvalid_1's l1: 2.18181\n"
     ]
    },
    {
     "name": "stderr",
     "output_type": "stream",
     "text": [
      "\u001b[32m[I 2021-07-29 14:38:10,136]\u001b[0m Trial 42 finished with value: -2.079535198395504 and parameters: {'max_depth': 16, 'min_child_weight': 9, 'subsample': 0.8, 'colsample_bytree': 0.9, 'reg_lambda': 0.025619859176403328, 'reg_alpha': 0.00907328698349893, 'feature_fraction': 0.7454821554157219, 'bagging_fraction': 0.6003920442041275, 'bagging_freq': 6, 'num_leaves': 827, 'min_child_samples': 85}. Best is trial 24 with value: -2.0577585462488184.\u001b[0m\n"
     ]
    },
    {
     "name": "stdout",
     "output_type": "stream",
     "text": [
      "Early stopping, best iteration is:\n",
      "[16]\ttraining's l1: 1.8716\tvalid_1's l1: 2.07954\n",
      "[LightGBM] [Warning] feature_fraction is set=0.8409040961858771, colsample_bytree=0.9 will be ignored. Current value: feature_fraction=0.8409040961858771\n",
      "[LightGBM] [Warning] bagging_fraction is set=0.5311783273981694, subsample=0.8 will be ignored. Current value: bagging_fraction=0.5311783273981694\n",
      "[LightGBM] [Warning] bagging_freq is set=7, subsample_freq=0 will be ignored. Current value: bagging_freq=7\n",
      "Training until validation scores don't improve for 100 rounds\n",
      "[100]\ttraining's l1: 1.64503\tvalid_1's l1: 2.18351\n"
     ]
    },
    {
     "name": "stderr",
     "output_type": "stream",
     "text": [
      "\u001b[32m[I 2021-07-29 14:38:22,486]\u001b[0m Trial 43 finished with value: -2.0583202861820897 and parameters: {'max_depth': 18, 'min_child_weight': 7, 'subsample': 0.8, 'colsample_bytree': 0.9, 'reg_lambda': 0.007911587879660353, 'reg_alpha': 0.38782060741117125, 'feature_fraction': 0.8409040961858771, 'bagging_fraction': 0.5311783273981694, 'bagging_freq': 7, 'num_leaves': 918, 'min_child_samples': 68}. Best is trial 24 with value: -2.0577585462488184.\u001b[0m\n"
     ]
    },
    {
     "name": "stdout",
     "output_type": "stream",
     "text": [
      "Early stopping, best iteration is:\n",
      "[16]\ttraining's l1: 1.85358\tvalid_1's l1: 2.05832\n",
      "[LightGBM] [Warning] feature_fraction is set=0.8917936251768529, colsample_bytree=0.8 will be ignored. Current value: feature_fraction=0.8917936251768529\n",
      "[LightGBM] [Warning] bagging_fraction is set=0.37623813215968493, subsample=0.9 will be ignored. Current value: bagging_fraction=0.37623813215968493\n",
      "[LightGBM] [Warning] bagging_freq is set=2, subsample_freq=0 will be ignored. Current value: bagging_freq=2\n",
      "Training until validation scores don't improve for 100 rounds\n",
      "[100]\ttraining's l1: 1.66889\tvalid_1's l1: 2.18322\n"
     ]
    },
    {
     "name": "stderr",
     "output_type": "stream",
     "text": [
      "\u001b[32m[I 2021-07-29 14:38:33,643]\u001b[0m Trial 44 finished with value: -2.064374400097042 and parameters: {'max_depth': 19, 'min_child_weight': 5, 'subsample': 0.9, 'colsample_bytree': 0.8, 'reg_lambda': 0.0055322056463569125, 'reg_alpha': 0.4032800152230009, 'feature_fraction': 0.8917936251768529, 'bagging_fraction': 0.37623813215968493, 'bagging_freq': 2, 'num_leaves': 718, 'min_child_samples': 67}. Best is trial 24 with value: -2.0577585462488184.\u001b[0m\n"
     ]
    },
    {
     "name": "stdout",
     "output_type": "stream",
     "text": [
      "Early stopping, best iteration is:\n",
      "[16]\ttraining's l1: 1.86604\tvalid_1's l1: 2.06437\n",
      "[LightGBM] [Warning] feature_fraction is set=0.7785690597539048, colsample_bytree=0.9 will be ignored. Current value: feature_fraction=0.7785690597539048\n",
      "[LightGBM] [Warning] bagging_fraction is set=0.5107262153632528, subsample=0.8 will be ignored. Current value: bagging_fraction=0.5107262153632528\n",
      "[LightGBM] [Warning] bagging_freq is set=11, subsample_freq=0 will be ignored. Current value: bagging_freq=11\n",
      "Training until validation scores don't improve for 100 rounds\n",
      "[100]\ttraining's l1: 1.69847\tvalid_1's l1: 2.1637\n"
     ]
    },
    {
     "name": "stderr",
     "output_type": "stream",
     "text": [
      "\u001b[32m[I 2021-07-29 14:38:41,256]\u001b[0m Trial 45 finished with value: -2.073708630534442 and parameters: {'max_depth': 18, 'min_child_weight': 7, 'subsample': 0.8, 'colsample_bytree': 0.9, 'reg_lambda': 0.013098207264540394, 'reg_alpha': 2.0033486191847447, 'feature_fraction': 0.7785690597539048, 'bagging_fraction': 0.5107262153632528, 'bagging_freq': 11, 'num_leaves': 443, 'min_child_samples': 58}. Best is trial 24 with value: -2.0577585462488184.\u001b[0m\n"
     ]
    },
    {
     "name": "stdout",
     "output_type": "stream",
     "text": [
      "Early stopping, best iteration is:\n",
      "[16]\ttraining's l1: 1.90513\tvalid_1's l1: 2.07371\n",
      "[LightGBM] [Warning] feature_fraction is set=0.852672446036545, colsample_bytree=0.9 will be ignored. Current value: feature_fraction=0.852672446036545\n",
      "[LightGBM] [Warning] bagging_fraction is set=0.4328160013869406, subsample=0.7 will be ignored. Current value: bagging_fraction=0.4328160013869406\n",
      "[LightGBM] [Warning] bagging_freq is set=4, subsample_freq=0 will be ignored. Current value: bagging_freq=4\n",
      "Training until validation scores don't improve for 100 rounds\n",
      "[100]\ttraining's l1: 1.68011\tvalid_1's l1: 2.16988\n"
     ]
    },
    {
     "name": "stderr",
     "output_type": "stream",
     "text": [
      "\u001b[32m[I 2021-07-29 14:38:50,868]\u001b[0m Trial 46 finished with value: -2.07238911567203 and parameters: {'max_depth': 15, 'min_child_weight': 4, 'subsample': 0.7, 'colsample_bytree': 0.9, 'reg_lambda': 1.1502330450608076, 'reg_alpha': 0.2747227468757126, 'feature_fraction': 0.852672446036545, 'bagging_fraction': 0.4328160013869406, 'bagging_freq': 4, 'num_leaves': 630, 'min_child_samples': 74}. Best is trial 24 with value: -2.0577585462488184.\u001b[0m\n"
     ]
    },
    {
     "name": "stdout",
     "output_type": "stream",
     "text": [
      "Early stopping, best iteration is:\n",
      "[18]\ttraining's l1: 1.8499\tvalid_1's l1: 2.07239\n",
      "[LightGBM] [Warning] feature_fraction is set=0.9369780390844518, colsample_bytree=0.8 will be ignored. Current value: feature_fraction=0.9369780390844518\n",
      "[LightGBM] [Warning] bagging_fraction is set=0.5445525230899495, subsample=0.7 will be ignored. Current value: bagging_fraction=0.5445525230899495\n",
      "[LightGBM] [Warning] bagging_freq is set=5, subsample_freq=0 will be ignored. Current value: bagging_freq=5\n",
      "Training until validation scores don't improve for 100 rounds\n",
      "[100]\ttraining's l1: 1.66833\tvalid_1's l1: 2.15465\n"
     ]
    },
    {
     "name": "stderr",
     "output_type": "stream",
     "text": [
      "\u001b[32m[I 2021-07-29 14:39:01,267]\u001b[0m Trial 47 finished with value: -2.057795225435513 and parameters: {'max_depth': 13, 'min_child_weight': 7, 'subsample': 0.7, 'colsample_bytree': 0.8, 'reg_lambda': 0.0010908844315551938, 'reg_alpha': 0.025235401595833894, 'feature_fraction': 0.9369780390844518, 'bagging_fraction': 0.5445525230899495, 'bagging_freq': 5, 'num_leaves': 858, 'min_child_samples': 69}. Best is trial 24 with value: -2.0577585462488184.\u001b[0m\n"
     ]
    },
    {
     "name": "stdout",
     "output_type": "stream",
     "text": [
      "Early stopping, best iteration is:\n",
      "[18]\ttraining's l1: 1.82096\tvalid_1's l1: 2.0578\n",
      "[LightGBM] [Warning] feature_fraction is set=0.9405304432529077, colsample_bytree=0.8 will be ignored. Current value: feature_fraction=0.9405304432529077\n",
      "[LightGBM] [Warning] bagging_fraction is set=0.54881835246707, subsample=0.7 will be ignored. Current value: bagging_fraction=0.54881835246707\n",
      "[LightGBM] [Warning] bagging_freq is set=5, subsample_freq=0 will be ignored. Current value: bagging_freq=5\n",
      "Training until validation scores don't improve for 100 rounds\n",
      "[100]\ttraining's l1: 1.67414\tvalid_1's l1: 2.15773\n"
     ]
    },
    {
     "name": "stderr",
     "output_type": "stream",
     "text": [
      "\u001b[32m[I 2021-07-29 14:39:11,271]\u001b[0m Trial 48 finished with value: -2.0650751455558587 and parameters: {'max_depth': 13, 'min_child_weight': 7, 'subsample': 0.7, 'colsample_bytree': 0.8, 'reg_lambda': 0.006405428559725397, 'reg_alpha': 7.122136584771615, 'feature_fraction': 0.9405304432529077, 'bagging_fraction': 0.54881835246707, 'bagging_freq': 5, 'num_leaves': 811, 'min_child_samples': 68}. Best is trial 24 with value: -2.0577585462488184.\u001b[0m\n"
     ]
    },
    {
     "name": "stdout",
     "output_type": "stream",
     "text": [
      "Early stopping, best iteration is:\n",
      "[18]\ttraining's l1: 1.84857\tvalid_1's l1: 2.06508\n",
      "[LightGBM] [Warning] feature_fraction is set=0.8635706997610394, colsample_bytree=0.9 will be ignored. Current value: feature_fraction=0.8635706997610394\n",
      "[LightGBM] [Warning] bagging_fraction is set=0.3696261022761328, subsample=0.7 will be ignored. Current value: bagging_fraction=0.3696261022761328\n",
      "[LightGBM] [Warning] bagging_freq is set=7, subsample_freq=0 will be ignored. Current value: bagging_freq=7\n",
      "Training until validation scores don't improve for 100 rounds\n",
      "[100]\ttraining's l1: 1.66318\tvalid_1's l1: 2.18904\n"
     ]
    },
    {
     "name": "stderr",
     "output_type": "stream",
     "text": [
      "\u001b[32m[I 2021-07-29 14:39:21,568]\u001b[0m Trial 49 finished with value: -2.0735007473043447 and parameters: {'max_depth': 16, 'min_child_weight': 10, 'subsample': 0.7, 'colsample_bytree': 0.9, 'reg_lambda': 0.0011618552904923436, 'reg_alpha': 0.029480921479687196, 'feature_fraction': 0.8635706997610394, 'bagging_fraction': 0.3696261022761328, 'bagging_freq': 7, 'num_leaves': 861, 'min_child_samples': 54}. Best is trial 24 with value: -2.0577585462488184.\u001b[0m\n"
     ]
    },
    {
     "name": "stdout",
     "output_type": "stream",
     "text": [
      "Early stopping, best iteration is:\n",
      "[15]\ttraining's l1: 1.88413\tvalid_1's l1: 2.0735\n",
      "[LightGBM] [Warning] feature_fraction is set=0.8847322111130183, colsample_bytree=0.7 will be ignored. Current value: feature_fraction=0.8847322111130183\n",
      "[LightGBM] [Warning] bagging_fraction is set=0.415596620162019, subsample=0.8 will be ignored. Current value: bagging_fraction=0.415596620162019\n",
      "[LightGBM] [Warning] bagging_freq is set=9, subsample_freq=0 will be ignored. Current value: bagging_freq=9\n",
      "Training until validation scores don't improve for 100 rounds\n",
      "[100]\ttraining's l1: 1.6841\tvalid_1's l1: 2.15825\n"
     ]
    },
    {
     "name": "stderr",
     "output_type": "stream",
     "text": [
      "\u001b[32m[I 2021-07-29 14:39:29,881]\u001b[0m Trial 50 finished with value: -2.070132350525596 and parameters: {'max_depth': 12, 'min_child_weight': 12, 'subsample': 0.8, 'colsample_bytree': 0.7, 'reg_lambda': 0.010583937276985717, 'reg_alpha': 0.6819340302060102, 'feature_fraction': 0.8847322111130183, 'bagging_fraction': 0.415596620162019, 'bagging_freq': 9, 'num_leaves': 998, 'min_child_samples': 61}. Best is trial 24 with value: -2.0577585462488184.\u001b[0m\n"
     ]
    },
    {
     "name": "stdout",
     "output_type": "stream",
     "text": [
      "Early stopping, best iteration is:\n",
      "[16]\ttraining's l1: 1.86905\tvalid_1's l1: 2.07013\n",
      "[LightGBM] [Warning] feature_fraction is set=0.9310028009843876, colsample_bytree=0.8 will be ignored. Current value: feature_fraction=0.9310028009843876\n",
      "[LightGBM] [Warning] bagging_fraction is set=0.5069427596794036, subsample=0.9 will be ignored. Current value: bagging_fraction=0.5069427596794036\n",
      "[LightGBM] [Warning] bagging_freq is set=3, subsample_freq=0 will be ignored. Current value: bagging_freq=3\n",
      "Training until validation scores don't improve for 100 rounds\n",
      "[100]\ttraining's l1: 1.67488\tvalid_1's l1: 2.15878\n"
     ]
    },
    {
     "name": "stderr",
     "output_type": "stream",
     "text": [
      "\u001b[32m[I 2021-07-29 14:39:39,875]\u001b[0m Trial 51 finished with value: -2.056200843853432 and parameters: {'max_depth': 13, 'min_child_weight': 7, 'subsample': 0.9, 'colsample_bytree': 0.8, 'reg_lambda': 0.00105630455590965, 'reg_alpha': 0.002707416462148414, 'feature_fraction': 0.9310028009843876, 'bagging_fraction': 0.5069427596794036, 'bagging_freq': 3, 'num_leaves': 924, 'min_child_samples': 92}. Best is trial 51 with value: -2.056200843853432.\u001b[0m\n"
     ]
    },
    {
     "name": "stdout",
     "output_type": "stream",
     "text": [
      "Early stopping, best iteration is:\n",
      "[16]\ttraining's l1: 1.85029\tvalid_1's l1: 2.0562\n",
      "[LightGBM] [Warning] feature_fraction is set=0.923898396321727, colsample_bytree=0.8 will be ignored. Current value: feature_fraction=0.923898396321727\n",
      "[LightGBM] [Warning] bagging_fraction is set=0.5114976579106753, subsample=0.9 will be ignored. Current value: bagging_fraction=0.5114976579106753\n",
      "[LightGBM] [Warning] bagging_freq is set=5, subsample_freq=0 will be ignored. Current value: bagging_freq=5\n",
      "Training until validation scores don't improve for 100 rounds\n",
      "[100]\ttraining's l1: 1.67717\tvalid_1's l1: 2.16884\n"
     ]
    },
    {
     "name": "stderr",
     "output_type": "stream",
     "text": [
      "\u001b[32m[I 2021-07-29 14:39:49,577]\u001b[0m Trial 52 finished with value: -2.061961023359769 and parameters: {'max_depth': 13, 'min_child_weight': 8, 'subsample': 0.9, 'colsample_bytree': 0.8, 'reg_lambda': 0.0033677290893855943, 'reg_alpha': 0.002819397105843419, 'feature_fraction': 0.923898396321727, 'bagging_fraction': 0.5114976579106753, 'bagging_freq': 5, 'num_leaves': 920, 'min_child_samples': 92}. Best is trial 51 with value: -2.056200843853432.\u001b[0m\n"
     ]
    },
    {
     "name": "stdout",
     "output_type": "stream",
     "text": [
      "Early stopping, best iteration is:\n",
      "[16]\ttraining's l1: 1.85056\tvalid_1's l1: 2.06196\n",
      "[LightGBM] [Warning] feature_fraction is set=0.9942984345763027, colsample_bytree=0.9 will be ignored. Current value: feature_fraction=0.9942984345763027\n",
      "[LightGBM] [Warning] bagging_fraction is set=0.5641167232607135, subsample=0.9 will be ignored. Current value: bagging_fraction=0.5641167232607135\n",
      "[LightGBM] [Warning] bagging_freq is set=2, subsample_freq=0 will be ignored. Current value: bagging_freq=2\n",
      "Training until validation scores don't improve for 100 rounds\n",
      "[100]\ttraining's l1: 1.66622\tvalid_1's l1: 2.16527\n"
     ]
    },
    {
     "name": "stderr",
     "output_type": "stream",
     "text": [
      "\u001b[32m[I 2021-07-29 14:40:01,601]\u001b[0m Trial 53 finished with value: -2.0612196903281954 and parameters: {'max_depth': 15, 'min_child_weight': 7, 'subsample': 0.9, 'colsample_bytree': 0.9, 'reg_lambda': 0.0011483673792742415, 'reg_alpha': 0.005742302991600372, 'feature_fraction': 0.9942984345763027, 'bagging_fraction': 0.5641167232607135, 'bagging_freq': 2, 'num_leaves': 778, 'min_child_samples': 89}. Best is trial 51 with value: -2.056200843853432.\u001b[0m\n"
     ]
    },
    {
     "name": "stdout",
     "output_type": "stream",
     "text": [
      "Early stopping, best iteration is:\n",
      "[18]\ttraining's l1: 1.82708\tvalid_1's l1: 2.06122\n",
      "[LightGBM] [Warning] feature_fraction is set=0.9486010751484457, colsample_bytree=0.8 will be ignored. Current value: feature_fraction=0.9486010751484457\n",
      "[LightGBM] [Warning] bagging_fraction is set=0.4913487490646026, subsample=0.8 will be ignored. Current value: bagging_fraction=0.4913487490646026\n",
      "[LightGBM] [Warning] bagging_freq is set=1, subsample_freq=0 will be ignored. Current value: bagging_freq=1\n",
      "Training until validation scores don't improve for 100 rounds\n",
      "[100]\ttraining's l1: 1.68551\tvalid_1's l1: 2.14935\n"
     ]
    },
    {
     "name": "stderr",
     "output_type": "stream",
     "text": [
      "\u001b[32m[I 2021-07-29 14:40:12,380]\u001b[0m Trial 54 finished with value: -2.073314625234798 and parameters: {'max_depth': 12, 'min_child_weight': 6, 'subsample': 0.8, 'colsample_bytree': 0.8, 'reg_lambda': 0.001010480609094793, 'reg_alpha': 0.01323534566660577, 'feature_fraction': 0.9486010751484457, 'bagging_fraction': 0.4913487490646026, 'bagging_freq': 1, 'num_leaves': 955, 'min_child_samples': 77}. Best is trial 51 with value: -2.056200843853432.\u001b[0m\n"
     ]
    },
    {
     "name": "stdout",
     "output_type": "stream",
     "text": [
      "Early stopping, best iteration is:\n",
      "[16]\ttraining's l1: 1.8614\tvalid_1's l1: 2.07331\n",
      "[LightGBM] [Warning] feature_fraction is set=0.8350150109870292, colsample_bytree=0.9 will be ignored. Current value: feature_fraction=0.8350150109870292\n",
      "[LightGBM] [Warning] bagging_fraction is set=0.5932297809195084, subsample=0.9 will be ignored. Current value: bagging_fraction=0.5932297809195084\n",
      "[LightGBM] [Warning] bagging_freq is set=14, subsample_freq=0 will be ignored. Current value: bagging_freq=14\n",
      "Training until validation scores don't improve for 100 rounds\n",
      "[100]\ttraining's l1: 1.6616\tvalid_1's l1: 2.16086\n"
     ]
    },
    {
     "name": "stderr",
     "output_type": "stream",
     "text": [
      "\u001b[32m[I 2021-07-29 14:40:23,387]\u001b[0m Trial 55 finished with value: -2.061382988086533 and parameters: {'max_depth': 14, 'min_child_weight': 9, 'subsample': 0.9, 'colsample_bytree': 0.9, 'reg_lambda': 0.0023232958953748784, 'reg_alpha': 0.002070315877862246, 'feature_fraction': 0.8350150109870292, 'bagging_fraction': 0.5932297809195084, 'bagging_freq': 14, 'num_leaves': 898, 'min_child_samples': 64}. Best is trial 51 with value: -2.056200843853432.\u001b[0m\n"
     ]
    },
    {
     "name": "stdout",
     "output_type": "stream",
     "text": [
      "Early stopping, best iteration is:\n",
      "[16]\ttraining's l1: 1.85854\tvalid_1's l1: 2.06138\n",
      "[LightGBM] [Warning] feature_fraction is set=0.8824194929256007, colsample_bytree=0.7 will be ignored. Current value: feature_fraction=0.8824194929256007\n",
      "[LightGBM] [Warning] bagging_fraction is set=0.6719515891732203, subsample=0.7 will be ignored. Current value: bagging_fraction=0.6719515891732203\n",
      "[LightGBM] [Warning] bagging_freq is set=3, subsample_freq=0 will be ignored. Current value: bagging_freq=3\n",
      "Training until validation scores don't improve for 100 rounds\n",
      "[100]\ttraining's l1: 1.71843\tvalid_1's l1: 2.14277\n"
     ]
    },
    {
     "name": "stderr",
     "output_type": "stream",
     "text": [
      "\u001b[32m[I 2021-07-29 14:40:32,879]\u001b[0m Trial 56 finished with value: -2.06311299913471 and parameters: {'max_depth': 19, 'min_child_weight': 2, 'subsample': 0.7, 'colsample_bytree': 0.7, 'reg_lambda': 0.017245130651320356, 'reg_alpha': 0.20955090626291284, 'feature_fraction': 0.8824194929256007, 'bagging_fraction': 0.6719515891732203, 'bagging_freq': 3, 'num_leaves': 342, 'min_child_samples': 83}. Best is trial 51 with value: -2.056200843853432.\u001b[0m\n"
     ]
    },
    {
     "name": "stdout",
     "output_type": "stream",
     "text": [
      "Early stopping, best iteration is:\n",
      "[18]\ttraining's l1: 1.87726\tvalid_1's l1: 2.06311\n",
      "[LightGBM] [Warning] feature_fraction is set=0.7900577752393441, colsample_bytree=0.8 will be ignored. Current value: feature_fraction=0.7900577752393441\n",
      "[LightGBM] [Warning] bagging_fraction is set=0.3284989405785962, subsample=0.8 will be ignored. Current value: bagging_fraction=0.3284989405785962\n",
      "[LightGBM] [Warning] bagging_freq is set=9, subsample_freq=0 will be ignored. Current value: bagging_freq=9\n",
      "Training until validation scores don't improve for 100 rounds\n",
      "[100]\ttraining's l1: 1.71486\tvalid_1's l1: 2.15473\n"
     ]
    },
    {
     "name": "stderr",
     "output_type": "stream",
     "text": [
      "\u001b[32m[I 2021-07-29 14:40:38,542]\u001b[0m Trial 57 finished with value: -2.082427862548632 and parameters: {'max_depth': 11, 'min_child_weight': 10, 'subsample': 0.8, 'colsample_bytree': 0.8, 'reg_lambda': 0.0037918526676972808, 'reg_alpha': 0.02452468213033969, 'feature_fraction': 0.7900577752393441, 'bagging_fraction': 0.3284989405785962, 'bagging_freq': 9, 'num_leaves': 714, 'min_child_samples': 70}. Best is trial 51 with value: -2.056200843853432.\u001b[0m\n"
     ]
    },
    {
     "name": "stdout",
     "output_type": "stream",
     "text": [
      "Early stopping, best iteration is:\n",
      "[16]\ttraining's l1: 1.89317\tvalid_1's l1: 2.08243\n",
      "[LightGBM] [Warning] feature_fraction is set=0.9831747512476932, colsample_bytree=0.9 will be ignored. Current value: feature_fraction=0.9831747512476932\n",
      "[LightGBM] [Warning] bagging_fraction is set=0.5266478516895703, subsample=0.7 will be ignored. Current value: bagging_fraction=0.5266478516895703\n",
      "[LightGBM] [Warning] bagging_freq is set=6, subsample_freq=0 will be ignored. Current value: bagging_freq=6\n",
      "Training until validation scores don't improve for 100 rounds\n",
      "[100]\ttraining's l1: 1.63912\tvalid_1's l1: 2.21703\n"
     ]
    },
    {
     "name": "stderr",
     "output_type": "stream",
     "text": [
      "\u001b[32m[I 2021-07-29 14:40:51,156]\u001b[0m Trial 58 finished with value: -2.0602839052890984 and parameters: {'max_depth': 18, 'min_child_weight': 4, 'subsample': 0.7, 'colsample_bytree': 0.9, 'reg_lambda': 0.05062998058815594, 'reg_alpha': 0.5139413756011442, 'feature_fraction': 0.9831747512476932, 'bagging_fraction': 0.5266478516895703, 'bagging_freq': 6, 'num_leaves': 852, 'min_child_samples': 18}. Best is trial 51 with value: -2.056200843853432.\u001b[0m\n"
     ]
    },
    {
     "name": "stdout",
     "output_type": "stream",
     "text": [
      "Early stopping, best iteration is:\n",
      "[17]\ttraining's l1: 1.83689\tvalid_1's l1: 2.06028\n",
      "[LightGBM] [Warning] feature_fraction is set=0.9222413292941244, colsample_bytree=0.7 will be ignored. Current value: feature_fraction=0.9222413292941244\n",
      "[LightGBM] [Warning] bagging_fraction is set=0.48135094697187575, subsample=0.9 will be ignored. Current value: bagging_fraction=0.48135094697187575\n",
      "[LightGBM] [Warning] bagging_freq is set=8, subsample_freq=0 will be ignored. Current value: bagging_freq=8\n",
      "Training until validation scores don't improve for 100 rounds\n",
      "[100]\ttraining's l1: 1.6583\tvalid_1's l1: 2.17865\n"
     ]
    },
    {
     "name": "stderr",
     "output_type": "stream",
     "text": [
      "\u001b[32m[I 2021-07-29 14:41:02,330]\u001b[0m Trial 59 finished with value: -2.059279072917698 and parameters: {'max_depth': 16, 'min_child_weight': 8, 'subsample': 0.9, 'colsample_bytree': 0.7, 'reg_lambda': 0.008073914275453467, 'reg_alpha': 0.005988870939565146, 'feature_fraction': 0.9222413292941244, 'bagging_fraction': 0.48135094697187575, 'bagging_freq': 8, 'num_leaves': 966, 'min_child_samples': 97}. Best is trial 51 with value: -2.056200843853432.\u001b[0m\n"
     ]
    },
    {
     "name": "stdout",
     "output_type": "stream",
     "text": [
      "Early stopping, best iteration is:\n",
      "[16]\ttraining's l1: 1.8493\tvalid_1's l1: 2.05928\n",
      "[LightGBM] [Warning] feature_fraction is set=0.9694425521558612, colsample_bytree=0.8 will be ignored. Current value: feature_fraction=0.9694425521558612\n",
      "[LightGBM] [Warning] bagging_fraction is set=0.42018470579957845, subsample=0.8 will be ignored. Current value: bagging_fraction=0.42018470579957845\n",
      "[LightGBM] [Warning] bagging_freq is set=4, subsample_freq=0 will be ignored. Current value: bagging_freq=4\n",
      "Training until validation scores don't improve for 100 rounds\n",
      "[100]\ttraining's l1: 2.24701\tvalid_1's l1: 2.30535\n",
      "[200]\ttraining's l1: 2.19245\tvalid_1's l1: 2.25879\n",
      "[300]\ttraining's l1: 2.17693\tvalid_1's l1: 2.25169\n",
      "[400]\ttraining's l1: 2.17077\tvalid_1's l1: 2.247\n",
      "[500]\ttraining's l1: 2.1669\tvalid_1's l1: 2.2444\n"
     ]
    },
    {
     "name": "stderr",
     "output_type": "stream",
     "text": [
      "\u001b[32m[I 2021-07-29 14:41:12,431]\u001b[0m Trial 60 finished with value: -2.244034104890262 and parameters: {'max_depth': 1, 'min_child_weight': 5, 'subsample': 0.8, 'colsample_bytree': 0.8, 'reg_lambda': 0.001776230630258824, 'reg_alpha': 2.0206772658540393, 'feature_fraction': 0.9694425521558612, 'bagging_fraction': 0.42018470579957845, 'bagging_freq': 4, 'num_leaves': 815, 'min_child_samples': 50}. Best is trial 51 with value: -2.056200843853432.\u001b[0m\n"
     ]
    },
    {
     "name": "stdout",
     "output_type": "stream",
     "text": [
      "Early stopping, best iteration is:\n",
      "[492]\ttraining's l1: 2.16696\tvalid_1's l1: 2.24439\n",
      "[LightGBM] [Warning] feature_fraction is set=0.9232474370445028, colsample_bytree=0.7 will be ignored. Current value: feature_fraction=0.9232474370445028\n",
      "[LightGBM] [Warning] bagging_fraction is set=0.4863943712255576, subsample=0.9 will be ignored. Current value: bagging_fraction=0.4863943712255576\n",
      "[LightGBM] [Warning] bagging_freq is set=7, subsample_freq=0 will be ignored. Current value: bagging_freq=7\n",
      "Training until validation scores don't improve for 100 rounds\n",
      "[100]\ttraining's l1: 1.65231\tvalid_1's l1: 2.18714\n"
     ]
    },
    {
     "name": "stderr",
     "output_type": "stream",
     "text": [
      "\u001b[32m[I 2021-07-29 14:41:24,058]\u001b[0m Trial 61 finished with value: -2.0606917797009334 and parameters: {'max_depth': 17, 'min_child_weight': 7, 'subsample': 0.9, 'colsample_bytree': 0.7, 'reg_lambda': 0.008902539666057288, 'reg_alpha': 0.005074267077710669, 'feature_fraction': 0.9232474370445028, 'bagging_fraction': 0.4863943712255576, 'bagging_freq': 7, 'num_leaves': 968, 'min_child_samples': 96}. Best is trial 51 with value: -2.056200843853432.\u001b[0m\n"
     ]
    },
    {
     "name": "stdout",
     "output_type": "stream",
     "text": [
      "Early stopping, best iteration is:\n",
      "[16]\ttraining's l1: 1.84546\tvalid_1's l1: 2.06069\n",
      "[LightGBM] [Warning] feature_fraction is set=0.9996887743320612, colsample_bytree=0.7 will be ignored. Current value: feature_fraction=0.9996887743320612\n",
      "[LightGBM] [Warning] bagging_fraction is set=0.5723999915873944, subsample=0.9 will be ignored. Current value: bagging_fraction=0.5723999915873944\n",
      "[LightGBM] [Warning] bagging_freq is set=8, subsample_freq=0 will be ignored. Current value: bagging_freq=8\n",
      "Training until validation scores don't improve for 100 rounds\n",
      "[100]\ttraining's l1: 1.65451\tvalid_1's l1: 2.16895\n"
     ]
    },
    {
     "name": "stderr",
     "output_type": "stream",
     "text": [
      "\u001b[32m[I 2021-07-29 14:41:36,478]\u001b[0m Trial 62 finished with value: -2.065460398290613 and parameters: {'max_depth': 16, 'min_child_weight': 8, 'subsample': 0.9, 'colsample_bytree': 0.7, 'reg_lambda': 0.01819276759339547, 'reg_alpha': 0.008525086058943894, 'feature_fraction': 0.9996887743320612, 'bagging_fraction': 0.5723999915873944, 'bagging_freq': 8, 'num_leaves': 997, 'min_child_samples': 100}. Best is trial 51 with value: -2.056200843853432.\u001b[0m\n"
     ]
    },
    {
     "name": "stdout",
     "output_type": "stream",
     "text": [
      "Early stopping, best iteration is:\n",
      "[19]\ttraining's l1: 1.80003\tvalid_1's l1: 2.06546\n",
      "[LightGBM] [Warning] feature_fraction is set=0.9060605098577256, colsample_bytree=0.7 will be ignored. Current value: feature_fraction=0.9060605098577256\n",
      "[LightGBM] [Warning] bagging_fraction is set=0.5422523233125727, subsample=0.9 will be ignored. Current value: bagging_fraction=0.5422523233125727\n",
      "[LightGBM] [Warning] bagging_freq is set=8, subsample_freq=0 will be ignored. Current value: bagging_freq=8\n",
      "Training until validation scores don't improve for 100 rounds\n",
      "[100]\ttraining's l1: 1.66181\tvalid_1's l1: 2.17704\n"
     ]
    },
    {
     "name": "stderr",
     "output_type": "stream",
     "text": [
      "\u001b[32m[I 2021-07-29 14:41:47,423]\u001b[0m Trial 63 finished with value: -2.060802783401291 and parameters: {'max_depth': 15, 'min_child_weight': 7, 'subsample': 0.9, 'colsample_bytree': 0.7, 'reg_lambda': 0.036207994779926984, 'reg_alpha': 0.02025022380704386, 'feature_fraction': 0.9060605098577256, 'bagging_fraction': 0.5422523233125727, 'bagging_freq': 8, 'num_leaves': 928, 'min_child_samples': 93}. Best is trial 51 with value: -2.056200843853432.\u001b[0m\n"
     ]
    },
    {
     "name": "stdout",
     "output_type": "stream",
     "text": [
      "Early stopping, best iteration is:\n",
      "[16]\ttraining's l1: 1.84951\tvalid_1's l1: 2.0608\n",
      "[LightGBM] [Warning] feature_fraction is set=0.8744654439969758, colsample_bytree=0.6 will be ignored. Current value: feature_fraction=0.8744654439969758\n",
      "[LightGBM] [Warning] bagging_fraction is set=0.3987680558655175, subsample=0.9 will be ignored. Current value: bagging_fraction=0.3987680558655175\n",
      "[LightGBM] [Warning] bagging_freq is set=5, subsample_freq=0 will be ignored. Current value: bagging_freq=5\n",
      "Training until validation scores don't improve for 100 rounds\n",
      "[100]\ttraining's l1: 1.68045\tvalid_1's l1: 2.17177\n"
     ]
    },
    {
     "name": "stderr",
     "output_type": "stream",
     "text": [
      "\u001b[32m[I 2021-07-29 14:41:56,161]\u001b[0m Trial 64 finished with value: -2.0655061289875025 and parameters: {'max_depth': 13, 'min_child_weight': 9, 'subsample': 0.9, 'colsample_bytree': 0.6, 'reg_lambda': 0.08947940848490729, 'reg_alpha': 0.0021625110582308735, 'feature_fraction': 0.8744654439969758, 'bagging_fraction': 0.3987680558655175, 'bagging_freq': 5, 'num_leaves': 887, 'min_child_samples': 87}. Best is trial 51 with value: -2.056200843853432.\u001b[0m\n"
     ]
    },
    {
     "name": "stdout",
     "output_type": "stream",
     "text": [
      "Early stopping, best iteration is:\n",
      "[16]\ttraining's l1: 1.86236\tvalid_1's l1: 2.06551\n",
      "[LightGBM] [Warning] feature_fraction is set=0.9379639065423646, colsample_bytree=0.9 will be ignored. Current value: feature_fraction=0.9379639065423646\n",
      "[LightGBM] [Warning] bagging_fraction is set=0.4543253274298757, subsample=0.8 will be ignored. Current value: bagging_fraction=0.4543253274298757\n",
      "[LightGBM] [Warning] bagging_freq is set=6, subsample_freq=0 will be ignored. Current value: bagging_freq=6\n",
      "Training until validation scores don't improve for 100 rounds\n",
      "[100]\ttraining's l1: 1.64909\tvalid_1's l1: 2.18038\n"
     ]
    },
    {
     "name": "stderr",
     "output_type": "stream",
     "text": [
      "\u001b[32m[I 2021-07-29 14:42:07,088]\u001b[0m Trial 65 finished with value: -2.0617020122961 and parameters: {'max_depth': 14, 'min_child_weight': 8, 'subsample': 0.8, 'colsample_bytree': 0.9, 'reg_lambda': 0.008429889759915087, 'reg_alpha': 0.004409912456714778, 'feature_fraction': 0.9379639065423646, 'bagging_fraction': 0.4543253274298757, 'bagging_freq': 6, 'num_leaves': 954, 'min_child_samples': 43}. Best is trial 51 with value: -2.056200843853432.\u001b[0m\n"
     ]
    },
    {
     "name": "stdout",
     "output_type": "stream",
     "text": [
      "Early stopping, best iteration is:\n",
      "[16]\ttraining's l1: 1.8526\tvalid_1's l1: 2.0617\n",
      "[LightGBM] [Warning] feature_fraction is set=0.8419188109313057, colsample_bytree=0.8 will be ignored. Current value: feature_fraction=0.8419188109313057\n",
      "[LightGBM] [Warning] bagging_fraction is set=0.9237979243596236, subsample=0.8 will be ignored. Current value: bagging_fraction=0.9237979243596236\n",
      "[LightGBM] [Warning] bagging_freq is set=9, subsample_freq=0 will be ignored. Current value: bagging_freq=9\n",
      "Training until validation scores don't improve for 100 rounds\n",
      "[100]\ttraining's l1: 1.69252\tvalid_1's l1: 2.15929\n"
     ]
    },
    {
     "name": "stderr",
     "output_type": "stream",
     "text": [
      "\u001b[32m[I 2021-07-29 14:42:17,658]\u001b[0m Trial 66 finished with value: -2.064791094452069 and parameters: {'max_depth': 16, 'min_child_weight': 11, 'subsample': 0.8, 'colsample_bytree': 0.8, 'reg_lambda': 0.004318996616168042, 'reg_alpha': 0.07281683957257282, 'feature_fraction': 0.8419188109313057, 'bagging_fraction': 0.9237979243596236, 'bagging_freq': 9, 'num_leaves': 470, 'min_child_samples': 57}. Best is trial 51 with value: -2.056200843853432.\u001b[0m\n"
     ]
    },
    {
     "name": "stdout",
     "output_type": "stream",
     "text": [
      "Early stopping, best iteration is:\n",
      "[16]\ttraining's l1: 1.88755\tvalid_1's l1: 2.06479\n",
      "[LightGBM] [Warning] feature_fraction is set=0.811638351755925, colsample_bytree=0.9 will be ignored. Current value: feature_fraction=0.811638351755925\n",
      "[LightGBM] [Warning] bagging_fraction is set=0.6076571911644151, subsample=0.9 will be ignored. Current value: bagging_fraction=0.6076571911644151\n",
      "[LightGBM] [Warning] bagging_freq is set=7, subsample_freq=0 will be ignored. Current value: bagging_freq=7\n",
      "Training until validation scores don't improve for 100 rounds\n",
      "[100]\ttraining's l1: 1.68027\tvalid_1's l1: 2.16266\n"
     ]
    },
    {
     "name": "stderr",
     "output_type": "stream",
     "text": [
      "\u001b[32m[I 2021-07-29 14:42:26,845]\u001b[0m Trial 67 finished with value: -2.063036408673617 and parameters: {'max_depth': 17, 'min_child_weight': 6, 'subsample': 0.9, 'colsample_bytree': 0.9, 'reg_lambda': 0.002545432437528813, 'reg_alpha': 0.012047747705526466, 'feature_fraction': 0.811638351755925, 'bagging_fraction': 0.6076571911644151, 'bagging_freq': 7, 'num_leaves': 584, 'min_child_samples': 73}. Best is trial 51 with value: -2.056200843853432.\u001b[0m\n"
     ]
    },
    {
     "name": "stdout",
     "output_type": "stream",
     "text": [
      "Early stopping, best iteration is:\n",
      "[18]\ttraining's l1: 1.84883\tvalid_1's l1: 2.06304\n",
      "[LightGBM] [Warning] feature_fraction is set=0.9638806599449109, colsample_bytree=0.7 will be ignored. Current value: feature_fraction=0.9638806599449109\n",
      "[LightGBM] [Warning] bagging_fraction is set=0.510635869263021, subsample=0.6 will be ignored. Current value: bagging_fraction=0.510635869263021\n",
      "[LightGBM] [Warning] bagging_freq is set=19, subsample_freq=0 will be ignored. Current value: bagging_freq=19\n",
      "Training until validation scores don't improve for 100 rounds\n",
      "[100]\ttraining's l1: 1.66017\tvalid_1's l1: 2.17347\n"
     ]
    },
    {
     "name": "stderr",
     "output_type": "stream",
     "text": [
      "\u001b[32m[I 2021-07-29 14:42:38,302]\u001b[0m Trial 68 finished with value: -2.0573826513834232 and parameters: {'max_depth': 19, 'min_child_weight': 5, 'subsample': 0.6, 'colsample_bytree': 0.7, 'reg_lambda': 0.018217097024742022, 'reg_alpha': 0.03356497206178505, 'feature_fraction': 0.9638806599449109, 'bagging_fraction': 0.510635869263021, 'bagging_freq': 19, 'num_leaves': 788, 'min_child_samples': 66}. Best is trial 51 with value: -2.056200843853432.\u001b[0m\n"
     ]
    },
    {
     "name": "stdout",
     "output_type": "stream",
     "text": [
      "Early stopping, best iteration is:\n",
      "[16]\ttraining's l1: 1.85427\tvalid_1's l1: 2.05738\n",
      "[LightGBM] [Warning] feature_fraction is set=0.9542599772986493, colsample_bytree=0.8 will be ignored. Current value: feature_fraction=0.9542599772986493\n",
      "[LightGBM] [Warning] bagging_fraction is set=0.8139129431593328, subsample=0.6 will be ignored. Current value: bagging_fraction=0.8139129431593328\n",
      "[LightGBM] [Warning] bagging_freq is set=17, subsample_freq=0 will be ignored. Current value: bagging_freq=17\n",
      "Training until validation scores don't improve for 100 rounds\n",
      "[100]\ttraining's l1: 1.65395\tvalid_1's l1: 2.16822\n"
     ]
    },
    {
     "name": "stderr",
     "output_type": "stream",
     "text": [
      "\u001b[32m[I 2021-07-29 14:42:51,343]\u001b[0m Trial 69 finished with value: -2.0552332448545934 and parameters: {'max_depth': 18, 'min_child_weight': 2, 'subsample': 0.6, 'colsample_bytree': 0.8, 'reg_lambda': 0.15510812785028227, 'reg_alpha': 0.18406777096240662, 'feature_fraction': 0.9542599772986493, 'bagging_fraction': 0.8139129431593328, 'bagging_freq': 17, 'num_leaves': 789, 'min_child_samples': 69}. Best is trial 69 with value: -2.0552332448545934.\u001b[0m\n"
     ]
    },
    {
     "name": "stdout",
     "output_type": "stream",
     "text": [
      "Early stopping, best iteration is:\n",
      "[17]\ttraining's l1: 1.83502\tvalid_1's l1: 2.05523\n",
      "[LightGBM] [Warning] feature_fraction is set=0.9713491886346955, colsample_bytree=0.8 will be ignored. Current value: feature_fraction=0.9713491886346955\n",
      "[LightGBM] [Warning] bagging_fraction is set=0.8197570395837945, subsample=0.6 will be ignored. Current value: bagging_fraction=0.8197570395837945\n",
      "[LightGBM] [Warning] bagging_freq is set=19, subsample_freq=0 will be ignored. Current value: bagging_freq=19\n",
      "Training until validation scores don't improve for 100 rounds\n",
      "[100]\ttraining's l1: 1.6567\tvalid_1's l1: 2.16999\n"
     ]
    },
    {
     "name": "stderr",
     "output_type": "stream",
     "text": [
      "\u001b[32m[I 2021-07-29 14:43:04,544]\u001b[0m Trial 70 finished with value: -2.0609310027965932 and parameters: {'max_depth': 20, 'min_child_weight': 2, 'subsample': 0.6, 'colsample_bytree': 0.8, 'reg_lambda': 0.17925403579095772, 'reg_alpha': 0.16151105435390267, 'feature_fraction': 0.9713491886346955, 'bagging_fraction': 0.8197570395837945, 'bagging_freq': 19, 'num_leaves': 791, 'min_child_samples': 65}. Best is trial 69 with value: -2.0552332448545934.\u001b[0m\n"
     ]
    },
    {
     "name": "stdout",
     "output_type": "stream",
     "text": [
      "Early stopping, best iteration is:\n",
      "[15]\ttraining's l1: 1.87226\tvalid_1's l1: 2.06093\n",
      "[LightGBM] [Warning] feature_fraction is set=0.9583889016539496, colsample_bytree=0.8 will be ignored. Current value: feature_fraction=0.9583889016539496\n",
      "[LightGBM] [Warning] bagging_fraction is set=0.8578707981726417, subsample=0.6 will be ignored. Current value: bagging_fraction=0.8578707981726417\n",
      "[LightGBM] [Warning] bagging_freq is set=19, subsample_freq=0 will be ignored. Current value: bagging_freq=19\n",
      "Training until validation scores don't improve for 100 rounds\n",
      "[100]\ttraining's l1: 1.65794\tvalid_1's l1: 2.16986\n"
     ]
    },
    {
     "name": "stderr",
     "output_type": "stream",
     "text": [
      "\u001b[32m[I 2021-07-29 14:43:17,349]\u001b[0m Trial 71 finished with value: -2.0563120471856497 and parameters: {'max_depth': 19, 'min_child_weight': 3, 'subsample': 0.6, 'colsample_bytree': 0.8, 'reg_lambda': 0.06709191189192983, 'reg_alpha': 0.03742088532517918, 'feature_fraction': 0.9583889016539496, 'bagging_fraction': 0.8578707981726417, 'bagging_freq': 19, 'num_leaves': 748, 'min_child_samples': 69}. Best is trial 69 with value: -2.0552332448545934.\u001b[0m\n"
     ]
    },
    {
     "name": "stdout",
     "output_type": "stream",
     "text": [
      "Early stopping, best iteration is:\n",
      "[16]\ttraining's l1: 1.85432\tvalid_1's l1: 2.05631\n",
      "[LightGBM] [Warning] feature_fraction is set=0.9515624109702804, colsample_bytree=0.8 will be ignored. Current value: feature_fraction=0.9515624109702804\n",
      "[LightGBM] [Warning] bagging_fraction is set=0.8948643347098666, subsample=0.6 will be ignored. Current value: bagging_fraction=0.8948643347098666\n",
      "[LightGBM] [Warning] bagging_freq is set=19, subsample_freq=0 will be ignored. Current value: bagging_freq=19\n",
      "Training until validation scores don't improve for 100 rounds\n",
      "[100]\ttraining's l1: 1.65793\tvalid_1's l1: 2.16434\n"
     ]
    },
    {
     "name": "stderr",
     "output_type": "stream",
     "text": [
      "\u001b[32m[I 2021-07-29 14:43:30,689]\u001b[0m Trial 72 finished with value: -2.053006353511763 and parameters: {'max_depth': 19, 'min_child_weight': 3, 'subsample': 0.6, 'colsample_bytree': 0.8, 'reg_lambda': 0.12126508099680176, 'reg_alpha': 0.09082203822326007, 'feature_fraction': 0.9515624109702804, 'bagging_fraction': 0.8948643347098666, 'bagging_freq': 19, 'num_leaves': 764, 'min_child_samples': 69}. Best is trial 72 with value: -2.053006353511763.\u001b[0m\n"
     ]
    },
    {
     "name": "stdout",
     "output_type": "stream",
     "text": [
      "Early stopping, best iteration is:\n",
      "[16]\ttraining's l1: 1.85081\tvalid_1's l1: 2.05301\n",
      "[LightGBM] [Warning] feature_fraction is set=0.9588575557503614, colsample_bytree=0.8 will be ignored. Current value: feature_fraction=0.9588575557503614\n",
      "[LightGBM] [Warning] bagging_fraction is set=0.8746615747243848, subsample=0.6 will be ignored. Current value: bagging_fraction=0.8746615747243848\n",
      "[LightGBM] [Warning] bagging_freq is set=19, subsample_freq=0 will be ignored. Current value: bagging_freq=19\n",
      "Training until validation scores don't improve for 100 rounds\n",
      "[100]\ttraining's l1: 1.6624\tvalid_1's l1: 2.16325\n"
     ]
    },
    {
     "name": "stderr",
     "output_type": "stream",
     "text": [
      "\u001b[32m[I 2021-07-29 14:43:43,566]\u001b[0m Trial 73 finished with value: -2.05670089423972 and parameters: {'max_depth': 19, 'min_child_weight': 3, 'subsample': 0.6, 'colsample_bytree': 0.8, 'reg_lambda': 0.1294057580293353, 'reg_alpha': 0.09564531160665585, 'feature_fraction': 0.9588575557503614, 'bagging_fraction': 0.8746615747243848, 'bagging_freq': 19, 'num_leaves': 744, 'min_child_samples': 71}. Best is trial 72 with value: -2.053006353511763.\u001b[0m\n"
     ]
    },
    {
     "name": "stdout",
     "output_type": "stream",
     "text": [
      "Early stopping, best iteration is:\n",
      "[16]\ttraining's l1: 1.85268\tvalid_1's l1: 2.0567\n",
      "[LightGBM] [Warning] feature_fraction is set=0.9695477234009583, colsample_bytree=0.8 will be ignored. Current value: feature_fraction=0.9695477234009583\n",
      "[LightGBM] [Warning] bagging_fraction is set=0.8787540050350119, subsample=0.6 will be ignored. Current value: bagging_fraction=0.8787540050350119\n",
      "[LightGBM] [Warning] bagging_freq is set=19, subsample_freq=0 will be ignored. Current value: bagging_freq=19\n",
      "Training until validation scores don't improve for 100 rounds\n",
      "[100]\ttraining's l1: 1.65232\tvalid_1's l1: 2.17372\n"
     ]
    },
    {
     "name": "stderr",
     "output_type": "stream",
     "text": [
      "\u001b[32m[I 2021-07-29 14:43:56,720]\u001b[0m Trial 74 finished with value: -2.0562859909253666 and parameters: {'max_depth': 19, 'min_child_weight': 3, 'subsample': 0.6, 'colsample_bytree': 0.8, 'reg_lambda': 0.702140241885932, 'reg_alpha': 0.08720772828967258, 'feature_fraction': 0.9695477234009583, 'bagging_fraction': 0.8787540050350119, 'bagging_freq': 19, 'num_leaves': 763, 'min_child_samples': 60}. Best is trial 72 with value: -2.053006353511763.\u001b[0m\n"
     ]
    },
    {
     "name": "stdout",
     "output_type": "stream",
     "text": [
      "Early stopping, best iteration is:\n",
      "[16]\ttraining's l1: 1.85496\tvalid_1's l1: 2.05629\n",
      "[LightGBM] [Warning] feature_fraction is set=0.9983072811148345, colsample_bytree=0.8 will be ignored. Current value: feature_fraction=0.9983072811148345\n",
      "[LightGBM] [Warning] bagging_fraction is set=0.8804706899115291, subsample=0.6 will be ignored. Current value: bagging_fraction=0.8804706899115291\n",
      "[LightGBM] [Warning] bagging_freq is set=19, subsample_freq=0 will be ignored. Current value: bagging_freq=19\n",
      "Training until validation scores don't improve for 100 rounds\n",
      "[100]\ttraining's l1: 1.66846\tvalid_1's l1: 2.17314\n"
     ]
    },
    {
     "name": "stderr",
     "output_type": "stream",
     "text": [
      "\u001b[32m[I 2021-07-29 14:44:09,071]\u001b[0m Trial 75 finished with value: -2.062758668370521 and parameters: {'max_depth': 20, 'min_child_weight': 3, 'subsample': 0.6, 'colsample_bytree': 0.8, 'reg_lambda': 0.611551656893757, 'reg_alpha': 0.09297456104313899, 'feature_fraction': 0.9983072811148345, 'bagging_fraction': 0.8804706899115291, 'bagging_freq': 19, 'num_leaves': 640, 'min_child_samples': 61}. Best is trial 72 with value: -2.053006353511763.\u001b[0m\n"
     ]
    },
    {
     "name": "stdout",
     "output_type": "stream",
     "text": [
      "Early stopping, best iteration is:\n",
      "[18]\ttraining's l1: 1.83237\tvalid_1's l1: 2.06276\n",
      "[LightGBM] [Warning] feature_fraction is set=0.9637001047052245, colsample_bytree=0.8 will be ignored. Current value: feature_fraction=0.9637001047052245\n",
      "[LightGBM] [Warning] bagging_fraction is set=0.9360732478990708, subsample=0.6 will be ignored. Current value: bagging_fraction=0.9360732478990708\n",
      "[LightGBM] [Warning] bagging_freq is set=17, subsample_freq=0 will be ignored. Current value: bagging_freq=17\n",
      "Training until validation scores don't improve for 100 rounds\n",
      "[100]\ttraining's l1: 1.65676\tvalid_1's l1: 2.17711\n"
     ]
    },
    {
     "name": "stderr",
     "output_type": "stream",
     "text": [
      "\u001b[32m[I 2021-07-29 14:44:22,330]\u001b[0m Trial 76 finished with value: -2.0585737986191197 and parameters: {'max_depth': 19, 'min_child_weight': 2, 'subsample': 0.6, 'colsample_bytree': 0.8, 'reg_lambda': 0.3729752861985961, 'reg_alpha': 0.047056562087627596, 'feature_fraction': 0.9637001047052245, 'bagging_fraction': 0.9360732478990708, 'bagging_freq': 17, 'num_leaves': 749, 'min_child_samples': 54}. Best is trial 72 with value: -2.053006353511763.\u001b[0m\n"
     ]
    },
    {
     "name": "stdout",
     "output_type": "stream",
     "text": [
      "Early stopping, best iteration is:\n",
      "[16]\ttraining's l1: 1.85422\tvalid_1's l1: 2.05857\n",
      "[LightGBM] [Warning] feature_fraction is set=0.9578306939880179, colsample_bytree=0.8 will be ignored. Current value: feature_fraction=0.9578306939880179\n",
      "[LightGBM] [Warning] bagging_fraction is set=0.9098966890464916, subsample=0.6 will be ignored. Current value: bagging_fraction=0.9098966890464916\n",
      "[LightGBM] [Warning] bagging_freq is set=19, subsample_freq=0 will be ignored. Current value: bagging_freq=19\n",
      "Training until validation scores don't improve for 100 rounds\n",
      "[100]\ttraining's l1: 1.66333\tvalid_1's l1: 2.17363\n"
     ]
    },
    {
     "name": "stderr",
     "output_type": "stream",
     "text": [
      "\u001b[32m[I 2021-07-29 14:44:35,131]\u001b[0m Trial 77 finished with value: -2.0593499580252694 and parameters: {'max_depth': 19, 'min_child_weight': 3, 'subsample': 0.6, 'colsample_bytree': 0.8, 'reg_lambda': 0.15192784725909864, 'reg_alpha': 0.05711743333499819, 'feature_fraction': 0.9578306939880179, 'bagging_fraction': 0.9098966890464916, 'bagging_freq': 19, 'num_leaves': 684, 'min_child_samples': 59}. Best is trial 72 with value: -2.053006353511763.\u001b[0m\n"
     ]
    },
    {
     "name": "stdout",
     "output_type": "stream",
     "text": [
      "Early stopping, best iteration is:\n",
      "[17]\ttraining's l1: 1.841\tvalid_1's l1: 2.05935\n",
      "[LightGBM] [Warning] feature_fraction is set=0.9829048011603099, colsample_bytree=0.8 will be ignored. Current value: feature_fraction=0.9829048011603099\n",
      "[LightGBM] [Warning] bagging_fraction is set=0.9718210076843846, subsample=0.6 will be ignored. Current value: bagging_fraction=0.9718210076843846\n",
      "[LightGBM] [Warning] bagging_freq is set=17, subsample_freq=0 will be ignored. Current value: bagging_freq=17\n",
      "Training until validation scores don't improve for 100 rounds\n",
      "[100]\ttraining's l1: 1.65325\tvalid_1's l1: 2.17047\n"
     ]
    },
    {
     "name": "stderr",
     "output_type": "stream",
     "text": [
      "\u001b[32m[I 2021-07-29 14:44:48,872]\u001b[0m Trial 78 finished with value: -2.0519856469202264 and parameters: {'max_depth': 20, 'min_child_weight': 1, 'subsample': 0.6, 'colsample_bytree': 0.8, 'reg_lambda': 0.21818619496926384, 'reg_alpha': 0.17041624100707833, 'feature_fraction': 0.9829048011603099, 'bagging_fraction': 0.9718210076843846, 'bagging_freq': 17, 'num_leaves': 759, 'min_child_samples': 65}. Best is trial 78 with value: -2.0519856469202264.\u001b[0m\n"
     ]
    },
    {
     "name": "stdout",
     "output_type": "stream",
     "text": [
      "Early stopping, best iteration is:\n",
      "[17]\ttraining's l1: 1.83399\tvalid_1's l1: 2.05199\n",
      "[LightGBM] [Warning] feature_fraction is set=0.9802826460085958, colsample_bytree=0.8 will be ignored. Current value: feature_fraction=0.9802826460085958\n",
      "[LightGBM] [Warning] bagging_fraction is set=0.9729810375975837, subsample=0.6 will be ignored. Current value: bagging_fraction=0.9729810375975837\n",
      "[LightGBM] [Warning] bagging_freq is set=17, subsample_freq=0 will be ignored. Current value: bagging_freq=17\n",
      "Training until validation scores don't improve for 100 rounds\n",
      "[100]\ttraining's l1: 1.65571\tvalid_1's l1: 2.16383\n"
     ]
    },
    {
     "name": "stderr",
     "output_type": "stream",
     "text": [
      "\u001b[32m[I 2021-07-29 14:45:02,306]\u001b[0m Trial 79 finished with value: -2.053253842716807 and parameters: {'max_depth': 20, 'min_child_weight': 3, 'subsample': 0.6, 'colsample_bytree': 0.8, 'reg_lambda': 0.2338035442972778, 'reg_alpha': 0.2276574328729671, 'feature_fraction': 0.9802826460085958, 'bagging_fraction': 0.9729810375975837, 'bagging_freq': 17, 'num_leaves': 744, 'min_child_samples': 65}. Best is trial 78 with value: -2.0519856469202264.\u001b[0m\n"
     ]
    },
    {
     "name": "stdout",
     "output_type": "stream",
     "text": [
      "Early stopping, best iteration is:\n",
      "[16]\ttraining's l1: 1.85187\tvalid_1's l1: 2.05325\n",
      "[LightGBM] [Warning] feature_fraction is set=0.9885304450862055, colsample_bytree=0.8 will be ignored. Current value: feature_fraction=0.9885304450862055\n",
      "[LightGBM] [Warning] bagging_fraction is set=0.9886193820159634, subsample=0.6 will be ignored. Current value: bagging_fraction=0.9886193820159634\n",
      "[LightGBM] [Warning] bagging_freq is set=16, subsample_freq=0 will be ignored. Current value: bagging_freq=16\n",
      "Training until validation scores don't improve for 100 rounds\n",
      "[100]\ttraining's l1: 1.66189\tvalid_1's l1: 2.15924\n"
     ]
    },
    {
     "name": "stderr",
     "output_type": "stream",
     "text": [
      "\u001b[32m[I 2021-07-29 14:45:15,389]\u001b[0m Trial 80 finished with value: -2.055845807976945 and parameters: {'max_depth': 20, 'min_child_weight': 3, 'subsample': 0.6, 'colsample_bytree': 0.8, 'reg_lambda': 1.5666234260078395, 'reg_alpha': 0.19363408946409813, 'feature_fraction': 0.9885304450862055, 'bagging_fraction': 0.9886193820159634, 'bagging_freq': 16, 'num_leaves': 696, 'min_child_samples': 71}. Best is trial 78 with value: -2.0519856469202264.\u001b[0m\n"
     ]
    },
    {
     "name": "stdout",
     "output_type": "stream",
     "text": [
      "Early stopping, best iteration is:\n",
      "[16]\ttraining's l1: 1.86052\tvalid_1's l1: 2.05585\n",
      "[LightGBM] [Warning] feature_fraction is set=0.981836905911492, colsample_bytree=0.8 will be ignored. Current value: feature_fraction=0.981836905911492\n",
      "[LightGBM] [Warning] bagging_fraction is set=0.9825022692664782, subsample=0.6 will be ignored. Current value: bagging_fraction=0.9825022692664782\n",
      "[LightGBM] [Warning] bagging_freq is set=16, subsample_freq=0 will be ignored. Current value: bagging_freq=16\n",
      "Training until validation scores don't improve for 100 rounds\n",
      "[100]\ttraining's l1: 1.65832\tvalid_1's l1: 2.16196\n"
     ]
    },
    {
     "name": "stderr",
     "output_type": "stream",
     "text": [
      "\u001b[32m[I 2021-07-29 14:45:28,819]\u001b[0m Trial 81 finished with value: -2.060616291878341 and parameters: {'max_depth': 20, 'min_child_weight': 3, 'subsample': 0.6, 'colsample_bytree': 0.8, 'reg_lambda': 1.927934183464726, 'reg_alpha': 0.19618685550387813, 'feature_fraction': 0.981836905911492, 'bagging_fraction': 0.9825022692664782, 'bagging_freq': 16, 'num_leaves': 742, 'min_child_samples': 71}. Best is trial 78 with value: -2.0519856469202264.\u001b[0m\n"
     ]
    },
    {
     "name": "stdout",
     "output_type": "stream",
     "text": [
      "Early stopping, best iteration is:\n",
      "[16]\ttraining's l1: 1.8583\tvalid_1's l1: 2.06062\n",
      "[LightGBM] [Warning] feature_fraction is set=0.9920500688513191, colsample_bytree=0.8 will be ignored. Current value: feature_fraction=0.9920500688513191\n",
      "[LightGBM] [Warning] bagging_fraction is set=0.9700714941904267, subsample=0.6 will be ignored. Current value: bagging_fraction=0.9700714941904267\n",
      "[LightGBM] [Warning] bagging_freq is set=17, subsample_freq=0 will be ignored. Current value: bagging_freq=17\n",
      "Training until validation scores don't improve for 100 rounds\n",
      "[100]\ttraining's l1: 1.65804\tvalid_1's l1: 2.16338\n"
     ]
    },
    {
     "name": "stderr",
     "output_type": "stream",
     "text": [
      "\u001b[32m[I 2021-07-29 14:45:42,290]\u001b[0m Trial 82 finished with value: -2.05985944731438 and parameters: {'max_depth': 20, 'min_child_weight': 1, 'subsample': 0.6, 'colsample_bytree': 0.8, 'reg_lambda': 0.8102619452278623, 'reg_alpha': 0.13916961373401124, 'feature_fraction': 0.9920500688513191, 'bagging_fraction': 0.9700714941904267, 'bagging_freq': 17, 'num_leaves': 756, 'min_child_samples': 64}. Best is trial 78 with value: -2.0519856469202264.\u001b[0m\n"
     ]
    },
    {
     "name": "stdout",
     "output_type": "stream",
     "text": [
      "Early stopping, best iteration is:\n",
      "[17]\ttraining's l1: 1.83692\tvalid_1's l1: 2.05986\n",
      "[LightGBM] [Warning] feature_fraction is set=0.9027384453453307, colsample_bytree=0.8 will be ignored. Current value: feature_fraction=0.9027384453453307\n",
      "[LightGBM] [Warning] bagging_fraction is set=0.8489714165926416, subsample=0.6 will be ignored. Current value: bagging_fraction=0.8489714165926416\n",
      "[LightGBM] [Warning] bagging_freq is set=16, subsample_freq=0 will be ignored. Current value: bagging_freq=16\n",
      "Training until validation scores don't improve for 100 rounds\n",
      "[100]\ttraining's l1: 1.66521\tvalid_1's l1: 2.16491\n"
     ]
    },
    {
     "name": "stderr",
     "output_type": "stream",
     "text": [
      "\u001b[32m[I 2021-07-29 14:45:54,040]\u001b[0m Trial 83 finished with value: -2.061040592845542 and parameters: {'max_depth': 19, 'min_child_weight': 4, 'subsample': 0.6, 'colsample_bytree': 0.8, 'reg_lambda': 0.2344596381104979, 'reg_alpha': 0.26828663075967973, 'feature_fraction': 0.9027384453453307, 'bagging_fraction': 0.8489714165926416, 'bagging_freq': 16, 'num_leaves': 659, 'min_child_samples': 75}. Best is trial 78 with value: -2.0519856469202264.\u001b[0m\n"
     ]
    },
    {
     "name": "stdout",
     "output_type": "stream",
     "text": [
      "Early stopping, best iteration is:\n",
      "[16]\ttraining's l1: 1.8648\tvalid_1's l1: 2.06104\n",
      "[LightGBM] [Warning] feature_fraction is set=0.9470318560733104, colsample_bytree=0.8 will be ignored. Current value: feature_fraction=0.9470318560733104\n",
      "[LightGBM] [Warning] bagging_fraction is set=0.87791945241496, subsample=0.6 will be ignored. Current value: bagging_fraction=0.87791945241496\n",
      "[LightGBM] [Warning] bagging_freq is set=18, subsample_freq=0 will be ignored. Current value: bagging_freq=18\n",
      "Training until validation scores don't improve for 100 rounds\n",
      "[100]\ttraining's l1: 1.66359\tvalid_1's l1: 2.16441\n"
     ]
    },
    {
     "name": "stderr",
     "output_type": "stream",
     "text": [
      "\u001b[32m[I 2021-07-29 14:46:06,340]\u001b[0m Trial 84 finished with value: -2.058573838067888 and parameters: {'max_depth': 18, 'min_child_weight': 2, 'subsample': 0.6, 'colsample_bytree': 0.8, 'reg_lambda': 1.9317599748538108, 'reg_alpha': 0.09054197410078929, 'feature_fraction': 0.9470318560733104, 'bagging_fraction': 0.87791945241496, 'bagging_freq': 18, 'num_leaves': 698, 'min_child_samples': 77}. Best is trial 78 with value: -2.0519856469202264.\u001b[0m\n"
     ]
    },
    {
     "name": "stdout",
     "output_type": "stream",
     "text": [
      "Early stopping, best iteration is:\n",
      "[16]\ttraining's l1: 1.86114\tvalid_1's l1: 2.05857\n",
      "[LightGBM] [Warning] feature_fraction is set=0.9783307651815644, colsample_bytree=0.8 will be ignored. Current value: feature_fraction=0.9783307651815644\n",
      "[LightGBM] [Warning] bagging_fraction is set=0.9988928651828661, subsample=0.6 will be ignored. Current value: bagging_fraction=0.9988928651828661\n",
      "[LightGBM] [Warning] bagging_freq is set=16, subsample_freq=0 will be ignored. Current value: bagging_freq=16\n",
      "Training until validation scores don't improve for 100 rounds\n",
      "[100]\ttraining's l1: 1.66271\tvalid_1's l1: 2.15957\n"
     ]
    },
    {
     "name": "stderr",
     "output_type": "stream",
     "text": [
      "\u001b[32m[I 2021-07-29 14:46:19,365]\u001b[0m Trial 85 finished with value: -2.0549117133671353 and parameters: {'max_depth': 20, 'min_child_weight': 2, 'subsample': 0.6, 'colsample_bytree': 0.8, 'reg_lambda': 0.4231475144405392, 'reg_alpha': 0.10618755451398122, 'feature_fraction': 0.9783307651815644, 'bagging_fraction': 0.9988928651828661, 'bagging_freq': 16, 'num_leaves': 718, 'min_child_samples': 72}. Best is trial 78 with value: -2.0519856469202264.\u001b[0m\n"
     ]
    },
    {
     "name": "stdout",
     "output_type": "stream",
     "text": [
      "Early stopping, best iteration is:\n",
      "[15]\ttraining's l1: 1.8762\tvalid_1's l1: 2.05491\n",
      "[LightGBM] [Warning] feature_fraction is set=0.9866373992313101, colsample_bytree=0.8 will be ignored. Current value: feature_fraction=0.9866373992313101\n",
      "[LightGBM] [Warning] bagging_fraction is set=0.9967902361471305, subsample=0.5 will be ignored. Current value: bagging_fraction=0.9967902361471305\n",
      "[LightGBM] [Warning] bagging_freq is set=16, subsample_freq=0 will be ignored. Current value: bagging_freq=16\n",
      "Training until validation scores don't improve for 100 rounds\n",
      "[100]\ttraining's l1: 1.87639\tvalid_1's l1: 2.14515\n"
     ]
    },
    {
     "name": "stderr",
     "output_type": "stream",
     "text": [
      "\u001b[32m[I 2021-07-29 14:46:26,153]\u001b[0m Trial 86 finished with value: -2.137054281187869 and parameters: {'max_depth': 5, 'min_child_weight': 2, 'subsample': 0.5, 'colsample_bytree': 0.8, 'reg_lambda': 0.4539268971538797, 'reg_alpha': 1.3303366557900045, 'feature_fraction': 0.9866373992313101, 'bagging_fraction': 0.9967902361471305, 'bagging_freq': 16, 'num_leaves': 609, 'min_child_samples': 59}. Best is trial 78 with value: -2.0519856469202264.\u001b[0m\n"
     ]
    },
    {
     "name": "stdout",
     "output_type": "stream",
     "text": [
      "Early stopping, best iteration is:\n",
      "[73]\ttraining's l1: 1.89493\tvalid_1's l1: 2.13708\n",
      "[LightGBM] [Warning] feature_fraction is set=0.9965034681859368, colsample_bytree=0.8 will be ignored. Current value: feature_fraction=0.9965034681859368\n",
      "[LightGBM] [Warning] bagging_fraction is set=0.9474128796450616, subsample=0.6 will be ignored. Current value: bagging_fraction=0.9474128796450616\n",
      "[LightGBM] [Warning] bagging_freq is set=17, subsample_freq=0 will be ignored. Current value: bagging_freq=17\n",
      "Training until validation scores don't improve for 100 rounds\n",
      "[100]\ttraining's l1: 1.65966\tvalid_1's l1: 2.165\n"
     ]
    },
    {
     "name": "stderr",
     "output_type": "stream",
     "text": [
      "\u001b[32m[I 2021-07-29 14:46:39,388]\u001b[0m Trial 87 finished with value: -2.0546321314348925 and parameters: {'max_depth': 20, 'min_child_weight': 4, 'subsample': 0.6, 'colsample_bytree': 0.8, 'reg_lambda': 0.9603847360700741, 'reg_alpha': 0.3513863296593569, 'feature_fraction': 0.9965034681859368, 'bagging_fraction': 0.9474128796450616, 'bagging_freq': 17, 'num_leaves': 719, 'min_child_samples': 66}. Best is trial 78 with value: -2.0519856469202264.\u001b[0m\n"
     ]
    },
    {
     "name": "stdout",
     "output_type": "stream",
     "text": [
      "Early stopping, best iteration is:\n",
      "[17]\ttraining's l1: 1.83859\tvalid_1's l1: 2.05463\n",
      "[LightGBM] [Warning] feature_fraction is set=0.3583112230798405, colsample_bytree=0.8 will be ignored. Current value: feature_fraction=0.3583112230798405\n",
      "[LightGBM] [Warning] bagging_fraction is set=0.9537651247803891, subsample=0.6 will be ignored. Current value: bagging_fraction=0.9537651247803891\n",
      "[LightGBM] [Warning] bagging_freq is set=15, subsample_freq=0 will be ignored. Current value: bagging_freq=15\n",
      "Training until validation scores don't improve for 100 rounds\n",
      "[100]\ttraining's l1: 1.68285\tvalid_1's l1: 2.24368\n"
     ]
    },
    {
     "name": "stderr",
     "output_type": "stream",
     "text": [
      "\u001b[32m[I 2021-07-29 14:46:49,315]\u001b[0m Trial 88 finished with value: -2.1561952388108443 and parameters: {'max_depth': 20, 'min_child_weight': 1, 'subsample': 0.6, 'colsample_bytree': 0.8, 'reg_lambda': 3.240770977797085, 'reg_alpha': 0.44041021081750453, 'feature_fraction': 0.3583112230798405, 'bagging_fraction': 0.9537651247803891, 'bagging_freq': 15, 'num_leaves': 659, 'min_child_samples': 56}. Best is trial 78 with value: -2.0519856469202264.\u001b[0m\n"
     ]
    },
    {
     "name": "stdout",
     "output_type": "stream",
     "text": [
      "Early stopping, best iteration is:\n",
      "[20]\ttraining's l1: 1.89774\tvalid_1's l1: 2.1562\n",
      "[LightGBM] [Warning] feature_fraction is set=0.9361305625336013, colsample_bytree=0.8 will be ignored. Current value: feature_fraction=0.9361305625336013\n",
      "[LightGBM] [Warning] bagging_fraction is set=0.8976382179190711, subsample=0.6 will be ignored. Current value: bagging_fraction=0.8976382179190711\n",
      "[LightGBM] [Warning] bagging_freq is set=15, subsample_freq=0 will be ignored. Current value: bagging_freq=15\n",
      "Training until validation scores don't improve for 100 rounds\n",
      "[100]\ttraining's l1: 1.65827\tvalid_1's l1: 2.17879\n"
     ]
    },
    {
     "name": "stderr",
     "output_type": "stream",
     "text": [
      "\u001b[32m[I 2021-07-29 14:47:02,229]\u001b[0m Trial 89 finished with value: -2.0598915947866616 and parameters: {'max_depth': 20, 'min_child_weight': 2, 'subsample': 0.6, 'colsample_bytree': 0.8, 'reg_lambda': 14.727423303198659, 'reg_alpha': 0.20446724144108333, 'feature_fraction': 0.9361305625336013, 'bagging_fraction': 0.8976382179190711, 'bagging_freq': 15, 'num_leaves': 725, 'min_child_samples': 62}. Best is trial 78 with value: -2.0519856469202264.\u001b[0m\n"
     ]
    },
    {
     "name": "stdout",
     "output_type": "stream",
     "text": [
      "Early stopping, best iteration is:\n",
      "[16]\ttraining's l1: 1.8619\tvalid_1's l1: 2.05989\n",
      "[LightGBM] [Warning] feature_fraction is set=0.9946113728114336, colsample_bytree=0.8 will be ignored. Current value: feature_fraction=0.9946113728114336\n",
      "[LightGBM] [Warning] bagging_fraction is set=0.9800227948622556, subsample=0.5 will be ignored. Current value: bagging_fraction=0.9800227948622556\n",
      "[LightGBM] [Warning] bagging_freq is set=17, subsample_freq=0 will be ignored. Current value: bagging_freq=17\n",
      "Training until validation scores don't improve for 100 rounds\n",
      "[100]\ttraining's l1: 1.64352\tvalid_1's l1: 2.18161\n"
     ]
    },
    {
     "name": "stderr",
     "output_type": "stream",
     "text": [
      "\u001b[32m[I 2021-07-29 14:47:17,278]\u001b[0m Trial 90 finished with value: -2.067675551213361 and parameters: {'max_depth': 18, 'min_child_weight': 4, 'subsample': 0.5, 'colsample_bytree': 0.8, 'reg_lambda': 149.3675941384131, 'reg_alpha': 0.30896822845460814, 'feature_fraction': 0.9946113728114336, 'bagging_fraction': 0.9800227948622556, 'bagging_freq': 17, 'num_leaves': 838, 'min_child_samples': 67}. Best is trial 78 with value: -2.0519856469202264.\u001b[0m\n"
     ]
    },
    {
     "name": "stdout",
     "output_type": "stream",
     "text": [
      "Early stopping, best iteration is:\n",
      "[17]\ttraining's l1: 1.8711\tvalid_1's l1: 2.06768\n",
      "[LightGBM] [Warning] feature_fraction is set=0.9998377984723436, colsample_bytree=0.8 will be ignored. Current value: feature_fraction=0.9998377984723436\n",
      "[LightGBM] [Warning] bagging_fraction is set=0.9163563352170948, subsample=0.6 will be ignored. Current value: bagging_fraction=0.9163563352170948\n",
      "[LightGBM] [Warning] bagging_freq is set=18, subsample_freq=0 will be ignored. Current value: bagging_freq=18\n",
      "Training until validation scores don't improve for 100 rounds\n",
      "[100]\ttraining's l1: 1.6514\tvalid_1's l1: 2.16022\n"
     ]
    },
    {
     "name": "stderr",
     "output_type": "stream",
     "text": [
      "\u001b[32m[I 2021-07-29 14:47:31,031]\u001b[0m Trial 91 finished with value: -2.056152960958502 and parameters: {'max_depth': 19, 'min_child_weight': 3, 'subsample': 0.6, 'colsample_bytree': 0.8, 'reg_lambda': 0.8000686340954903, 'reg_alpha': 0.1263342692057474, 'feature_fraction': 0.9998377984723436, 'bagging_fraction': 0.9163563352170948, 'bagging_freq': 18, 'num_leaves': 804, 'min_child_samples': 65}. Best is trial 78 with value: -2.0519856469202264.\u001b[0m\n"
     ]
    },
    {
     "name": "stdout",
     "output_type": "stream",
     "text": [
      "Early stopping, best iteration is:\n",
      "[18]\ttraining's l1: 1.81624\tvalid_1's l1: 2.05615\n",
      "[LightGBM] [Warning] feature_fraction is set=0.9993139193588724, colsample_bytree=0.8 will be ignored. Current value: feature_fraction=0.9993139193588724\n",
      "[LightGBM] [Warning] bagging_fraction is set=0.9153738846742723, subsample=0.6 will be ignored. Current value: bagging_fraction=0.9153738846742723\n",
      "[LightGBM] [Warning] bagging_freq is set=18, subsample_freq=0 will be ignored. Current value: bagging_freq=18\n",
      "Training until validation scores don't improve for 100 rounds\n",
      "[100]\ttraining's l1: 1.64958\tvalid_1's l1: 2.16767\n"
     ]
    },
    {
     "name": "stderr",
     "output_type": "stream",
     "text": [
      "\u001b[32m[I 2021-07-29 14:47:45,003]\u001b[0m Trial 92 finished with value: -2.060589428859561 and parameters: {'max_depth': 20, 'min_child_weight': 4, 'subsample': 0.6, 'colsample_bytree': 0.8, 'reg_lambda': 0.8684503604326674, 'reg_alpha': 0.5935671247969102, 'feature_fraction': 0.9993139193588724, 'bagging_fraction': 0.9153738846742723, 'bagging_freq': 18, 'num_leaves': 796, 'min_child_samples': 65}. Best is trial 78 with value: -2.0519856469202264.\u001b[0m\n"
     ]
    },
    {
     "name": "stdout",
     "output_type": "stream",
     "text": [
      "Early stopping, best iteration is:\n",
      "[17]\ttraining's l1: 1.83345\tvalid_1's l1: 2.06059\n",
      "[LightGBM] [Warning] feature_fraction is set=0.9094126194629628, colsample_bytree=0.8 will be ignored. Current value: feature_fraction=0.9094126194629628\n",
      "[LightGBM] [Warning] bagging_fraction is set=0.9485576731311502, subsample=0.6 will be ignored. Current value: bagging_fraction=0.9485576731311502\n",
      "[LightGBM] [Warning] bagging_freq is set=18, subsample_freq=0 will be ignored. Current value: bagging_freq=18\n",
      "Training until validation scores don't improve for 100 rounds\n",
      "[100]\ttraining's l1: 1.66032\tvalid_1's l1: 2.165\n"
     ]
    },
    {
     "name": "stderr",
     "output_type": "stream",
     "text": [
      "\u001b[32m[I 2021-07-29 14:47:58,444]\u001b[0m Trial 93 finished with value: -2.0503612170696606 and parameters: {'max_depth': 19, 'min_child_weight': 2, 'subsample': 0.6, 'colsample_bytree': 0.8, 'reg_lambda': 1.3224095835299527, 'reg_alpha': 0.13438844173762798, 'feature_fraction': 0.9094126194629628, 'bagging_fraction': 0.9485576731311502, 'bagging_freq': 18, 'num_leaves': 768, 'min_child_samples': 51}. Best is trial 93 with value: -2.0503612170696606.\u001b[0m\n"
     ]
    },
    {
     "name": "stdout",
     "output_type": "stream",
     "text": [
      "Early stopping, best iteration is:\n",
      "[18]\ttraining's l1: 1.81949\tvalid_1's l1: 2.05036\n",
      "[LightGBM] [Warning] feature_fraction is set=0.9078789445726906, colsample_bytree=0.8 will be ignored. Current value: feature_fraction=0.9078789445726906\n",
      "[LightGBM] [Warning] bagging_fraction is set=0.9421761741736013, subsample=0.6 will be ignored. Current value: bagging_fraction=0.9421761741736013\n",
      "[LightGBM] [Warning] bagging_freq is set=17, subsample_freq=0 will be ignored. Current value: bagging_freq=17\n",
      "Training until validation scores don't improve for 100 rounds\n",
      "[100]\ttraining's l1: 1.65761\tvalid_1's l1: 2.17247\n"
     ]
    },
    {
     "name": "stderr",
     "output_type": "stream",
     "text": [
      "\u001b[32m[I 2021-07-29 14:48:11,443]\u001b[0m Trial 94 finished with value: -2.0597153798923182 and parameters: {'max_depth': 20, 'min_child_weight': 1, 'subsample': 0.6, 'colsample_bytree': 0.8, 'reg_lambda': 6.308572294313127, 'reg_alpha': 0.12814285717766552, 'feature_fraction': 0.9078789445726906, 'bagging_fraction': 0.9421761741736013, 'bagging_freq': 17, 'num_leaves': 702, 'min_child_samples': 45}. Best is trial 93 with value: -2.0503612170696606.\u001b[0m\n"
     ]
    },
    {
     "name": "stdout",
     "output_type": "stream",
     "text": [
      "Early stopping, best iteration is:\n",
      "[16]\ttraining's l1: 1.86265\tvalid_1's l1: 2.05972\n",
      "[LightGBM] [Warning] feature_fraction is set=0.9772696416365997, colsample_bytree=0.8 will be ignored. Current value: feature_fraction=0.9772696416365997\n",
      "[LightGBM] [Warning] bagging_fraction is set=0.9559096707521264, subsample=0.6 will be ignored. Current value: bagging_fraction=0.9559096707521264\n",
      "[LightGBM] [Warning] bagging_freq is set=16, subsample_freq=0 will be ignored. Current value: bagging_freq=16\n",
      "Training until validation scores don't improve for 100 rounds\n",
      "[100]\ttraining's l1: 2.06445\tvalid_1's l1: 2.23012\n",
      "[200]\ttraining's l1: 2.02952\tvalid_1's l1: 2.19694\n",
      "[300]\ttraining's l1: 2.00711\tvalid_1's l1: 2.18595\n",
      "[400]\ttraining's l1: 1.99018\tvalid_1's l1: 2.17997\n",
      "[500]\ttraining's l1: 1.97715\tvalid_1's l1: 2.17422\n"
     ]
    },
    {
     "name": "stderr",
     "output_type": "stream",
     "text": [
      "\u001b[32m[I 2021-07-29 14:48:26,296]\u001b[0m Trial 95 finished with value: -2.1659505203683493 and parameters: {'max_depth': 2, 'min_child_weight': 1, 'subsample': 0.6, 'colsample_bytree': 0.8, 'reg_lambda': 1.3662244148189513, 'reg_alpha': 0.17029347788705426, 'feature_fraction': 0.9772696416365997, 'bagging_fraction': 0.9559096707521264, 'bagging_freq': 16, 'num_leaves': 802, 'min_child_samples': 35}. Best is trial 93 with value: -2.0503612170696606.\u001b[0m\n"
     ]
    },
    {
     "name": "stdout",
     "output_type": "stream",
     "text": [
      "Early stopping, best iteration is:\n",
      "[497]\ttraining's l1: 1.97762\tvalid_1's l1: 2.1737\n",
      "[LightGBM] [Warning] feature_fraction is set=0.9298675743123522, colsample_bytree=0.8 will be ignored. Current value: feature_fraction=0.9298675743123522\n",
      "[LightGBM] [Warning] bagging_fraction is set=0.9853896679537015, subsample=0.6 will be ignored. Current value: bagging_fraction=0.9853896679537015\n",
      "[LightGBM] [Warning] bagging_freq is set=18, subsample_freq=0 will be ignored. Current value: bagging_freq=18\n",
      "Training until validation scores don't improve for 100 rounds\n",
      "[100]\ttraining's l1: 1.65479\tvalid_1's l1: 2.18775\n"
     ]
    },
    {
     "name": "stderr",
     "output_type": "stream",
     "text": [
      "\u001b[32m[I 2021-07-29 14:48:39,858]\u001b[0m Trial 96 finished with value: -2.0492036832168443 and parameters: {'max_depth': 20, 'min_child_weight': 2, 'subsample': 0.6, 'colsample_bytree': 0.8, 'reg_lambda': 2.6399903825789437, 'reg_alpha': 0.30306478691521777, 'feature_fraction': 0.9298675743123522, 'bagging_fraction': 0.9853896679537015, 'bagging_freq': 18, 'num_leaves': 772, 'min_child_samples': 52}. Best is trial 96 with value: -2.0492036832168443.\u001b[0m\n"
     ]
    },
    {
     "name": "stdout",
     "output_type": "stream",
     "text": [
      "Early stopping, best iteration is:\n",
      "[15]\ttraining's l1: 1.87301\tvalid_1's l1: 2.0492\n",
      "[LightGBM] [Warning] feature_fraction is set=0.945568027219347, colsample_bytree=0.8 will be ignored. Current value: feature_fraction=0.945568027219347\n",
      "[LightGBM] [Warning] bagging_fraction is set=0.9967945759824844, subsample=0.6 will be ignored. Current value: bagging_fraction=0.9967945759824844\n",
      "[LightGBM] [Warning] bagging_freq is set=18, subsample_freq=0 will be ignored. Current value: bagging_freq=18\n",
      "Training until validation scores don't improve for 100 rounds\n",
      "[100]\ttraining's l1: 1.64994\tvalid_1's l1: 2.19423\n"
     ]
    },
    {
     "name": "stderr",
     "output_type": "stream",
     "text": [
      "\u001b[32m[I 2021-07-29 14:48:53,840]\u001b[0m Trial 97 finished with value: -2.0606701569859394 and parameters: {'max_depth': 18, 'min_child_weight': 2, 'subsample': 0.6, 'colsample_bytree': 0.8, 'reg_lambda': 2.681385938066069, 'reg_alpha': 0.3088858762019348, 'feature_fraction': 0.945568027219347, 'bagging_fraction': 0.9967945759824844, 'bagging_freq': 18, 'num_leaves': 828, 'min_child_samples': 49}. Best is trial 96 with value: -2.0492036832168443.\u001b[0m\n"
     ]
    },
    {
     "name": "stdout",
     "output_type": "stream",
     "text": [
      "Early stopping, best iteration is:\n",
      "[15]\ttraining's l1: 1.86937\tvalid_1's l1: 2.06067\n",
      "[LightGBM] [Warning] feature_fraction is set=0.8882673963949819, colsample_bytree=0.8 will be ignored. Current value: feature_fraction=0.8882673963949819\n",
      "[LightGBM] [Warning] bagging_fraction is set=0.9825209533766085, subsample=0.6 will be ignored. Current value: bagging_fraction=0.9825209533766085\n",
      "[LightGBM] [Warning] bagging_freq is set=17, subsample_freq=0 will be ignored. Current value: bagging_freq=17\n",
      "Training until validation scores don't improve for 100 rounds\n",
      "[100]\ttraining's l1: 1.65441\tvalid_1's l1: 2.1909\n"
     ]
    },
    {
     "name": "stderr",
     "output_type": "stream",
     "text": [
      "\u001b[32m[I 2021-07-29 14:49:07,828]\u001b[0m Trial 98 finished with value: -2.0594447795024022 and parameters: {'max_depth': 20, 'min_child_weight': 2, 'subsample': 0.6, 'colsample_bytree': 0.8, 'reg_lambda': 0.32182028127965273, 'reg_alpha': 0.22894675329122866, 'feature_fraction': 0.8882673963949819, 'bagging_fraction': 0.9825209533766085, 'bagging_freq': 17, 'num_leaves': 774, 'min_child_samples': 53}. Best is trial 96 with value: -2.0492036832168443.\u001b[0m\n"
     ]
    },
    {
     "name": "stdout",
     "output_type": "stream",
     "text": [
      "Early stopping, best iteration is:\n",
      "[18]\ttraining's l1: 1.8229\tvalid_1's l1: 2.05944\n",
      "[LightGBM] [Warning] feature_fraction is set=0.9142706917290544, colsample_bytree=0.8 will be ignored. Current value: feature_fraction=0.9142706917290544\n",
      "[LightGBM] [Warning] bagging_fraction is set=0.9008058792513619, subsample=0.6 will be ignored. Current value: bagging_fraction=0.9008058792513619\n",
      "[LightGBM] [Warning] bagging_freq is set=14, subsample_freq=0 will be ignored. Current value: bagging_freq=14\n",
      "Training until validation scores don't improve for 100 rounds\n",
      "[100]\ttraining's l1: 1.66021\tvalid_1's l1: 2.17956\n"
     ]
    },
    {
     "name": "stderr",
     "output_type": "stream",
     "text": [
      "\u001b[32m[I 2021-07-29 14:49:20,487]\u001b[0m Trial 99 finished with value: -2.053696075473779 and parameters: {'max_depth': 19, 'min_child_weight': 1, 'subsample': 0.6, 'colsample_bytree': 0.8, 'reg_lambda': 1.2262979637744862, 'reg_alpha': 1.00390608026026, 'feature_fraction': 0.9142706917290544, 'bagging_fraction': 0.9008058792513619, 'bagging_freq': 14, 'num_leaves': 682, 'min_child_samples': 47}. Best is trial 96 with value: -2.0492036832168443.\u001b[0m\n",
      "\u001b[32m[I 2021-07-29 14:49:20,489]\u001b[0m A new study created in memory with name: no-name-0dce3b3e-ab0a-4f9c-80a3-72d4e66cde81\u001b[0m\n"
     ]
    },
    {
     "name": "stdout",
     "output_type": "stream",
     "text": [
      "Early stopping, best iteration is:\n",
      "[18]\ttraining's l1: 1.83008\tvalid_1's l1: 2.0537\n",
      "[LightGBM] [Warning] feature_fraction is set=0.49787428461918604, colsample_bytree=0.5 will be ignored. Current value: feature_fraction=0.49787428461918604\n",
      "[LightGBM] [Warning] bagging_fraction is set=0.37381399102908724, subsample=0.9 will be ignored. Current value: bagging_fraction=0.37381399102908724\n",
      "[LightGBM] [Warning] bagging_freq is set=15, subsample_freq=0 will be ignored. Current value: bagging_freq=15\n",
      "Training until validation scores don't improve for 100 rounds\n",
      "[100]\ttraining's l1: 1.03173\tvalid_1's l1: 0.891264\n"
     ]
    },
    {
     "name": "stderr",
     "output_type": "stream",
     "text": [
      "\u001b[32m[I 2021-07-29 14:49:24,612]\u001b[0m Trial 0 finished with value: -0.8860105601255756 and parameters: {'max_depth': 12, 'min_child_weight': 17, 'subsample': 0.9, 'colsample_bytree': 0.5, 'reg_lambda': 0.19960176999185603, 'reg_alpha': 555.6993816645868, 'feature_fraction': 0.49787428461918604, 'bagging_fraction': 0.37381399102908724, 'bagging_freq': 15, 'num_leaves': 599, 'min_child_samples': 11}. Best is trial 0 with value: -0.8860105601255756.\u001b[0m\n"
     ]
    },
    {
     "name": "stdout",
     "output_type": "stream",
     "text": [
      "Early stopping, best iteration is:\n",
      "[12]\ttraining's l1: 1.04931\tvalid_1's l1: 0.886011\n",
      "[LightGBM] [Warning] feature_fraction is set=0.6041665565117198, colsample_bytree=0.5 will be ignored. Current value: feature_fraction=0.6041665565117198\n",
      "[LightGBM] [Warning] bagging_fraction is set=0.4101367695048305, subsample=0.5 will be ignored. Current value: bagging_fraction=0.4101367695048305\n",
      "[LightGBM] [Warning] bagging_freq is set=2, subsample_freq=0 will be ignored. Current value: bagging_freq=2\n",
      "Training until validation scores don't improve for 100 rounds\n",
      "[100]\ttraining's l1: 0.986621\tvalid_1's l1: 0.905829\n"
     ]
    },
    {
     "name": "stderr",
     "output_type": "stream",
     "text": [
      "\u001b[32m[I 2021-07-29 14:49:34,822]\u001b[0m Trial 1 finished with value: -0.8777908014490229 and parameters: {'max_depth': 15, 'min_child_weight': 19, 'subsample': 0.5, 'colsample_bytree': 0.5, 'reg_lambda': 65.9919763854296, 'reg_alpha': 1.083429814825518, 'feature_fraction': 0.6041665565117198, 'bagging_fraction': 0.4101367695048305, 'bagging_freq': 2, 'num_leaves': 777, 'min_child_samples': 29}. Best is trial 1 with value: -0.8777908014490229.\u001b[0m\n"
     ]
    },
    {
     "name": "stdout",
     "output_type": "stream",
     "text": [
      "Early stopping, best iteration is:\n",
      "[17]\ttraining's l1: 1.0217\tvalid_1's l1: 0.877791\n",
      "[LightGBM] [Warning] feature_fraction is set=0.31263111154132606, colsample_bytree=0.5 will be ignored. Current value: feature_fraction=0.31263111154132606\n",
      "[LightGBM] [Warning] bagging_fraction is set=0.749901024058897, subsample=0.9 will be ignored. Current value: bagging_fraction=0.749901024058897\n",
      "[LightGBM] [Warning] bagging_freq is set=19, subsample_freq=0 will be ignored. Current value: bagging_freq=19\n",
      "Training until validation scores don't improve for 100 rounds\n",
      "[100]\ttraining's l1: 1.01653\tvalid_1's l1: 0.887035\n"
     ]
    },
    {
     "name": "stderr",
     "output_type": "stream",
     "text": [
      "\u001b[32m[I 2021-07-29 14:49:40,568]\u001b[0m Trial 2 finished with value: -0.8833030152527355 and parameters: {'max_depth': 13, 'min_child_weight': 5, 'subsample': 0.9, 'colsample_bytree': 0.5, 'reg_lambda': 0.5205962209670736, 'reg_alpha': 227.954532791471, 'feature_fraction': 0.31263111154132606, 'bagging_fraction': 0.749901024058897, 'bagging_freq': 19, 'num_leaves': 524, 'min_child_samples': 53}. Best is trial 1 with value: -0.8777908014490229.\u001b[0m\n"
     ]
    },
    {
     "name": "stdout",
     "output_type": "stream",
     "text": [
      "Early stopping, best iteration is:\n",
      "[18]\ttraining's l1: 1.03897\tvalid_1's l1: 0.883303\n",
      "[LightGBM] [Warning] feature_fraction is set=0.32198515828391594, colsample_bytree=0.8 will be ignored. Current value: feature_fraction=0.32198515828391594\n",
      "[LightGBM] [Warning] bagging_fraction is set=0.35948692814080757, subsample=0.7 will be ignored. Current value: bagging_fraction=0.35948692814080757\n",
      "[LightGBM] [Warning] bagging_freq is set=14, subsample_freq=0 will be ignored. Current value: bagging_freq=14\n",
      "Training until validation scores don't improve for 100 rounds\n",
      "[100]\ttraining's l1: 0.993697\tvalid_1's l1: 0.890538\n"
     ]
    },
    {
     "name": "stderr",
     "output_type": "stream",
     "text": [
      "\u001b[32m[I 2021-07-29 14:49:46,105]\u001b[0m Trial 3 finished with value: -0.8739229849480875 and parameters: {'max_depth': 11, 'min_child_weight': 8, 'subsample': 0.7, 'colsample_bytree': 0.8, 'reg_lambda': 0.00268940459677991, 'reg_alpha': 0.05006165022004189, 'feature_fraction': 0.32198515828391594, 'bagging_fraction': 0.35948692814080757, 'bagging_freq': 14, 'num_leaves': 475, 'min_child_samples': 21}. Best is trial 3 with value: -0.8739229849480875.\u001b[0m\n"
     ]
    },
    {
     "name": "stdout",
     "output_type": "stream",
     "text": [
      "Early stopping, best iteration is:\n",
      "[23]\ttraining's l1: 1.01856\tvalid_1's l1: 0.873923\n",
      "[LightGBM] [Warning] feature_fraction is set=0.783339266395551, colsample_bytree=0.5 will be ignored. Current value: feature_fraction=0.783339266395551\n",
      "[LightGBM] [Warning] bagging_fraction is set=0.8270895142107275, subsample=0.9 will be ignored. Current value: bagging_fraction=0.8270895142107275\n",
      "[LightGBM] [Warning] bagging_freq is set=7, subsample_freq=0 will be ignored. Current value: bagging_freq=7\n",
      "Training until validation scores don't improve for 100 rounds\n",
      "[100]\ttraining's l1: 1.04846\tvalid_1's l1: 0.883582\n",
      "[200]\ttraining's l1: 1.04572\tvalid_1's l1: 0.881775\n",
      "[300]\ttraining's l1: 1.04374\tvalid_1's l1: 0.880764\n",
      "[400]\ttraining's l1: 1.04353\tvalid_1's l1: 0.881073\n",
      "Early stopping, best iteration is:\n",
      "[304]\ttraining's l1: 1.04374\tvalid_1's l1: 0.880756\n"
     ]
    },
    {
     "name": "stderr",
     "output_type": "stream",
     "text": [
      "\u001b[32m[I 2021-07-29 14:49:56,093]\u001b[0m Trial 4 finished with value: -0.8807453126196216 and parameters: {'max_depth': 2, 'min_child_weight': 20, 'subsample': 0.9, 'colsample_bytree': 0.5, 'reg_lambda': 396.66042124483, 'reg_alpha': 57.79400834512663, 'feature_fraction': 0.783339266395551, 'bagging_fraction': 0.8270895142107275, 'bagging_freq': 7, 'num_leaves': 267, 'min_child_samples': 26}. Best is trial 3 with value: -0.8739229849480875.\u001b[0m\n"
     ]
    },
    {
     "name": "stdout",
     "output_type": "stream",
     "text": [
      "[LightGBM] [Warning] feature_fraction is set=0.6220955070726526, colsample_bytree=0.5 will be ignored. Current value: feature_fraction=0.6220955070726526\n",
      "[LightGBM] [Warning] bagging_fraction is set=0.35802932702603524, subsample=0.8 will be ignored. Current value: bagging_fraction=0.35802932702603524\n",
      "[LightGBM] [Warning] bagging_freq is set=4, subsample_freq=0 will be ignored. Current value: bagging_freq=4\n",
      "Training until validation scores don't improve for 100 rounds\n",
      "[100]\ttraining's l1: 1.00407\tvalid_1's l1: 0.900142\n"
     ]
    },
    {
     "name": "stderr",
     "output_type": "stream",
     "text": [
      "\u001b[32m[I 2021-07-29 14:50:01,483]\u001b[0m Trial 5 finished with value: -0.8853218585123387 and parameters: {'max_depth': 14, 'min_child_weight': 15, 'subsample': 0.8, 'colsample_bytree': 0.5, 'reg_lambda': 884.5724908343449, 'reg_alpha': 45.857268443914265, 'feature_fraction': 0.6220955070726526, 'bagging_fraction': 0.35802932702603524, 'bagging_freq': 4, 'num_leaves': 410, 'min_child_samples': 7}. Best is trial 3 with value: -0.8739229849480875.\u001b[0m\n"
     ]
    },
    {
     "name": "stdout",
     "output_type": "stream",
     "text": [
      "Early stopping, best iteration is:\n",
      "[15]\ttraining's l1: 1.04021\tvalid_1's l1: 0.885322\n",
      "[LightGBM] [Warning] feature_fraction is set=0.2830230947198625, colsample_bytree=0.5 will be ignored. Current value: feature_fraction=0.2830230947198625\n",
      "[LightGBM] [Warning] bagging_fraction is set=0.28413076069230414, subsample=0.8 will be ignored. Current value: bagging_fraction=0.28413076069230414\n",
      "[LightGBM] [Warning] bagging_freq is set=13, subsample_freq=0 will be ignored. Current value: bagging_freq=13\n",
      "Training until validation scores don't improve for 100 rounds\n",
      "[100]\ttraining's l1: 1.03668\tvalid_1's l1: 0.889944\n",
      "Early stopping, best iteration is:\n",
      "[14]\ttraining's l1: 1.05053\tvalid_1's l1: 0.88675\n"
     ]
    },
    {
     "name": "stderr",
     "output_type": "stream",
     "text": [
      "\u001b[32m[I 2021-07-29 14:50:04,610]\u001b[0m Trial 6 finished with value: -0.8867500590347704 and parameters: {'max_depth': 12, 'min_child_weight': 11, 'subsample': 0.8, 'colsample_bytree': 0.5, 'reg_lambda': 50.37163595007587, 'reg_alpha': 839.0758008788155, 'feature_fraction': 0.2830230947198625, 'bagging_fraction': 0.28413076069230414, 'bagging_freq': 13, 'num_leaves': 714, 'min_child_samples': 84}. Best is trial 3 with value: -0.8739229849480875.\u001b[0m\n"
     ]
    },
    {
     "name": "stdout",
     "output_type": "stream",
     "text": [
      "[LightGBM] [Warning] feature_fraction is set=0.7416099065113564, colsample_bytree=0.8 will be ignored. Current value: feature_fraction=0.7416099065113564\n",
      "[LightGBM] [Warning] bagging_fraction is set=0.20365979629015485, subsample=0.8 will be ignored. Current value: bagging_fraction=0.20365979629015485\n",
      "[LightGBM] [Warning] bagging_freq is set=10, subsample_freq=0 will be ignored. Current value: bagging_freq=10\n",
      "Training until validation scores don't improve for 100 rounds\n",
      "[100]\ttraining's l1: 1.03557\tvalid_1's l1: 0.875738\n",
      "[200]\ttraining's l1: 1.03095\tvalid_1's l1: 0.873816\n",
      "[300]\ttraining's l1: 1.02934\tvalid_1's l1: 0.873361\n"
     ]
    },
    {
     "name": "stderr",
     "output_type": "stream",
     "text": [
      "\u001b[32m[I 2021-07-29 14:50:09,319]\u001b[0m Trial 7 finished with value: -0.873173664233229 and parameters: {'max_depth': 4, 'min_child_weight': 11, 'subsample': 0.8, 'colsample_bytree': 0.8, 'reg_lambda': 2.3094669503464353, 'reg_alpha': 0.0019258989409532425, 'feature_fraction': 0.7416099065113564, 'bagging_fraction': 0.20365979629015485, 'bagging_freq': 10, 'num_leaves': 146, 'min_child_samples': 45}. Best is trial 7 with value: -0.873173664233229.\u001b[0m\n"
     ]
    },
    {
     "name": "stdout",
     "output_type": "stream",
     "text": [
      "Early stopping, best iteration is:\n",
      "[253]\ttraining's l1: 1.02994\tvalid_1's l1: 0.873185\n",
      "[LightGBM] [Warning] feature_fraction is set=0.39412884550111627, colsample_bytree=0.8 will be ignored. Current value: feature_fraction=0.39412884550111627\n",
      "[LightGBM] [Warning] bagging_fraction is set=0.9790345844296817, subsample=0.7 will be ignored. Current value: bagging_fraction=0.9790345844296817\n",
      "[LightGBM] [Warning] bagging_freq is set=6, subsample_freq=0 will be ignored. Current value: bagging_freq=6\n",
      "Training until validation scores don't improve for 100 rounds\n",
      "[100]\ttraining's l1: 1.04189\tvalid_1's l1: 0.8801\n",
      "[200]\ttraining's l1: 1.03741\tvalid_1's l1: 0.876375\n",
      "[300]\ttraining's l1: 1.03503\tvalid_1's l1: 0.875694\n",
      "[400]\ttraining's l1: 1.03377\tvalid_1's l1: 0.875417\n",
      "[500]\ttraining's l1: 1.03345\tvalid_1's l1: 0.875299\n",
      "[600]\ttraining's l1: 1.03221\tvalid_1's l1: 0.874723\n",
      "[700]\ttraining's l1: 1.03183\tvalid_1's l1: 0.874687\n",
      "Early stopping, best iteration is:\n",
      "[684]\ttraining's l1: 1.03195\tvalid_1's l1: 0.874592\n"
     ]
    },
    {
     "name": "stderr",
     "output_type": "stream",
     "text": [
      "\u001b[32m[I 2021-07-29 14:50:34,680]\u001b[0m Trial 8 finished with value: -0.8745505334475735 and parameters: {'max_depth': 3, 'min_child_weight': 19, 'subsample': 0.7, 'colsample_bytree': 0.8, 'reg_lambda': 0.1020235489820093, 'reg_alpha': 0.0011899000178668918, 'feature_fraction': 0.39412884550111627, 'bagging_fraction': 0.9790345844296817, 'bagging_freq': 6, 'num_leaves': 177, 'min_child_samples': 14}. Best is trial 7 with value: -0.873173664233229.\u001b[0m\n"
     ]
    },
    {
     "name": "stdout",
     "output_type": "stream",
     "text": [
      "[LightGBM] [Warning] feature_fraction is set=0.5706508575793962, colsample_bytree=0.6 will be ignored. Current value: feature_fraction=0.5706508575793962\n",
      "[LightGBM] [Warning] bagging_fraction is set=0.42749995449311906, subsample=0.7 will be ignored. Current value: bagging_fraction=0.42749995449311906\n",
      "[LightGBM] [Warning] bagging_freq is set=13, subsample_freq=0 will be ignored. Current value: bagging_freq=13\n",
      "Training until validation scores don't improve for 100 rounds\n",
      "[100]\ttraining's l1: 1.03066\tvalid_1's l1: 0.890797\n"
     ]
    },
    {
     "name": "stderr",
     "output_type": "stream",
     "text": [
      "\u001b[32m[I 2021-07-29 14:50:39,467]\u001b[0m Trial 9 finished with value: -0.8862880485569031 and parameters: {'max_depth': 17, 'min_child_weight': 15, 'subsample': 0.7, 'colsample_bytree': 0.6, 'reg_lambda': 0.10866537540913879, 'reg_alpha': 594.8722222941749, 'feature_fraction': 0.5706508575793962, 'bagging_fraction': 0.42749995449311906, 'bagging_freq': 13, 'num_leaves': 374, 'min_child_samples': 23}. Best is trial 7 with value: -0.873173664233229.\u001b[0m\n"
     ]
    },
    {
     "name": "stdout",
     "output_type": "stream",
     "text": [
      "Early stopping, best iteration is:\n",
      "[14]\ttraining's l1: 1.048\tvalid_1's l1: 0.886288\n",
      "[LightGBM] [Warning] feature_fraction is set=0.9696846585027974, colsample_bytree=0.9 will be ignored. Current value: feature_fraction=0.9696846585027974\n",
      "[LightGBM] [Warning] bagging_fraction is set=0.5893172790069805, subsample=0.5 will be ignored. Current value: bagging_fraction=0.5893172790069805\n",
      "[LightGBM] [Warning] bagging_freq is set=8, subsample_freq=0 will be ignored. Current value: bagging_freq=8\n",
      "Training until validation scores don't improve for 100 rounds\n",
      "[100]\ttraining's l1: 1.04013\tvalid_1's l1: 0.881168\n"
     ]
    },
    {
     "name": "stderr",
     "output_type": "stream",
     "text": [
      "\u001b[32m[I 2021-07-29 14:50:45,173]\u001b[0m Trial 10 finished with value: -0.8808857993436112 and parameters: {'max_depth': 6, 'min_child_weight': 1, 'subsample': 0.5, 'colsample_bytree': 0.9, 'reg_lambda': 5.468137709224774, 'reg_alpha': 0.0011004669747606889, 'feature_fraction': 0.9696846585027974, 'bagging_fraction': 0.5893172790069805, 'bagging_freq': 8, 'num_leaves': 18, 'min_child_samples': 58}. Best is trial 7 with value: -0.873173664233229.\u001b[0m\n"
     ]
    },
    {
     "name": "stdout",
     "output_type": "stream",
     "text": [
      "Early stopping, best iteration is:\n",
      "[99]\ttraining's l1: 1.0405\tvalid_1's l1: 0.88089\n",
      "[LightGBM] [Warning] feature_fraction is set=0.8074297120550064, colsample_bytree=0.8 will be ignored. Current value: feature_fraction=0.8074297120550064\n",
      "[LightGBM] [Warning] bagging_fraction is set=0.2136379955547728, subsample=0.6 will be ignored. Current value: bagging_fraction=0.2136379955547728\n",
      "[LightGBM] [Warning] bagging_freq is set=18, subsample_freq=0 will be ignored. Current value: bagging_freq=18\n",
      "Training until validation scores don't improve for 100 rounds\n",
      "[100]\ttraining's l1: 1.01232\tvalid_1's l1: 0.876335\n"
     ]
    },
    {
     "name": "stderr",
     "output_type": "stream",
     "text": [
      "\u001b[32m[I 2021-07-29 14:50:49,133]\u001b[0m Trial 11 finished with value: -0.8721455954216516 and parameters: {'max_depth': 8, 'min_child_weight': 8, 'subsample': 0.6, 'colsample_bytree': 0.8, 'reg_lambda': 0.002584078522357244, 'reg_alpha': 0.025293996597787673, 'feature_fraction': 0.8074297120550064, 'bagging_fraction': 0.2136379955547728, 'bagging_freq': 18, 'num_leaves': 967, 'min_child_samples': 43}. Best is trial 11 with value: -0.8721455954216516.\u001b[0m\n"
     ]
    },
    {
     "name": "stdout",
     "output_type": "stream",
     "text": [
      "Early stopping, best iteration is:\n",
      "[41]\ttraining's l1: 1.0216\tvalid_1's l1: 0.872148\n",
      "[LightGBM] [Warning] feature_fraction is set=0.8370450839890851, colsample_bytree=0.8 will be ignored. Current value: feature_fraction=0.8370450839890851\n",
      "[LightGBM] [Warning] bagging_fraction is set=0.20771225483634662, subsample=0.6 will be ignored. Current value: bagging_fraction=0.20771225483634662\n",
      "[LightGBM] [Warning] bagging_freq is set=20, subsample_freq=0 will be ignored. Current value: bagging_freq=20\n",
      "Training until validation scores don't improve for 100 rounds\n",
      "[100]\ttraining's l1: 1.01891\tvalid_1's l1: 0.872549\n"
     ]
    },
    {
     "name": "stderr",
     "output_type": "stream",
     "text": [
      "\u001b[32m[I 2021-07-29 14:50:52,998]\u001b[0m Trial 12 finished with value: -0.8720683543427962 and parameters: {'max_depth': 7, 'min_child_weight': 10, 'subsample': 0.6, 'colsample_bytree': 0.8, 'reg_lambda': 0.0010177566841503773, 'reg_alpha': 0.03322688020111918, 'feature_fraction': 0.8370450839890851, 'bagging_fraction': 0.20771225483634662, 'bagging_freq': 20, 'num_leaves': 962, 'min_child_samples': 72}. Best is trial 12 with value: -0.8720683543427962.\u001b[0m\n"
     ]
    },
    {
     "name": "stdout",
     "output_type": "stream",
     "text": [
      "Early stopping, best iteration is:\n",
      "[79]\ttraining's l1: 1.02119\tvalid_1's l1: 0.872078\n",
      "[LightGBM] [Warning] feature_fraction is set=0.9297418645171611, colsample_bytree=0.7 will be ignored. Current value: feature_fraction=0.9297418645171611\n",
      "[LightGBM] [Warning] bagging_fraction is set=0.210194364675906, subsample=0.6 will be ignored. Current value: bagging_fraction=0.210194364675906\n",
      "[LightGBM] [Warning] bagging_freq is set=20, subsample_freq=0 will be ignored. Current value: bagging_freq=20\n",
      "Training until validation scores don't improve for 100 rounds\n",
      "[100]\ttraining's l1: 1.01548\tvalid_1's l1: 0.876153\n"
     ]
    },
    {
     "name": "stderr",
     "output_type": "stream",
     "text": [
      "\u001b[32m[I 2021-07-29 14:50:56,899]\u001b[0m Trial 13 finished with value: -0.8743469787381224 and parameters: {'max_depth': 8, 'min_child_weight': 7, 'subsample': 0.6, 'colsample_bytree': 0.7, 'reg_lambda': 0.0018741559168571947, 'reg_alpha': 0.03200643560623559, 'feature_fraction': 0.9297418645171611, 'bagging_fraction': 0.210194364675906, 'bagging_freq': 20, 'num_leaves': 991, 'min_child_samples': 78}. Best is trial 12 with value: -0.8720683543427962.\u001b[0m\n"
     ]
    },
    {
     "name": "stdout",
     "output_type": "stream",
     "text": [
      "Early stopping, best iteration is:\n",
      "[33]\ttraining's l1: 1.02643\tvalid_1's l1: 0.874347\n",
      "[LightGBM] [Warning] feature_fraction is set=0.8111574943896301, colsample_bytree=0.9 will be ignored. Current value: feature_fraction=0.8111574943896301\n",
      "[LightGBM] [Warning] bagging_fraction is set=0.5721634805278306, subsample=0.6 will be ignored. Current value: bagging_fraction=0.5721634805278306\n",
      "[LightGBM] [Warning] bagging_freq is set=18, subsample_freq=0 will be ignored. Current value: bagging_freq=18\n",
      "Training until validation scores don't improve for 100 rounds\n",
      "[100]\ttraining's l1: 1.01204\tvalid_1's l1: 0.874241\n"
     ]
    },
    {
     "name": "stderr",
     "output_type": "stream",
     "text": [
      "\u001b[32m[I 2021-07-29 14:51:03,475]\u001b[0m Trial 14 finished with value: -0.8719333184504534 and parameters: {'max_depth': 8, 'min_child_weight': 4, 'subsample': 0.6, 'colsample_bytree': 0.9, 'reg_lambda': 0.009611106110165711, 'reg_alpha': 0.03587279927628042, 'feature_fraction': 0.8111574943896301, 'bagging_fraction': 0.5721634805278306, 'bagging_freq': 18, 'num_leaves': 990, 'min_child_samples': 70}. Best is trial 14 with value: -0.8719333184504534.\u001b[0m\n"
     ]
    },
    {
     "name": "stdout",
     "output_type": "stream",
     "text": [
      "Early stopping, best iteration is:\n",
      "[85]\ttraining's l1: 1.01421\tvalid_1's l1: 0.871941\n",
      "[LightGBM] [Warning] feature_fraction is set=0.8621423653260412, colsample_bytree=0.9 will be ignored. Current value: feature_fraction=0.8621423653260412\n",
      "[LightGBM] [Warning] bagging_fraction is set=0.5480601833874497, subsample=0.6 will be ignored. Current value: bagging_fraction=0.5480601833874497\n",
      "[LightGBM] [Warning] bagging_freq is set=17, subsample_freq=0 will be ignored. Current value: bagging_freq=17\n",
      "Training until validation scores don't improve for 100 rounds\n",
      "[100]\ttraining's l1: 1.01493\tvalid_1's l1: 0.872522\n"
     ]
    },
    {
     "name": "stderr",
     "output_type": "stream",
     "text": [
      "\u001b[32m[I 2021-07-29 14:51:09,428]\u001b[0m Trial 15 finished with value: -0.8708846845053738 and parameters: {'max_depth': 8, 'min_child_weight': 1, 'subsample': 0.6, 'colsample_bytree': 0.9, 'reg_lambda': 0.02197973998002283, 'reg_alpha': 0.45259037131566, 'feature_fraction': 0.8621423653260412, 'bagging_fraction': 0.5480601833874497, 'bagging_freq': 17, 'num_leaves': 847, 'min_child_samples': 100}. Best is trial 15 with value: -0.8708846845053738.\u001b[0m\n"
     ]
    },
    {
     "name": "stdout",
     "output_type": "stream",
     "text": [
      "Early stopping, best iteration is:\n",
      "[55]\ttraining's l1: 1.01882\tvalid_1's l1: 0.870892\n",
      "[LightGBM] [Warning] feature_fraction is set=0.9031522055666273, colsample_bytree=0.9 will be ignored. Current value: feature_fraction=0.9031522055666273\n",
      "[LightGBM] [Warning] bagging_fraction is set=0.5426214464463615, subsample=0.6 will be ignored. Current value: bagging_fraction=0.5426214464463615\n",
      "[LightGBM] [Warning] bagging_freq is set=17, subsample_freq=0 will be ignored. Current value: bagging_freq=17\n",
      "Training until validation scores don't improve for 100 rounds\n",
      "[100]\ttraining's l1: 1.00409\tvalid_1's l1: 0.874044\n"
     ]
    },
    {
     "name": "stderr",
     "output_type": "stream",
     "text": [
      "\u001b[32m[I 2021-07-29 14:51:16,782]\u001b[0m Trial 16 finished with value: -0.8710134332256138 and parameters: {'max_depth': 10, 'min_child_weight': 1, 'subsample': 0.6, 'colsample_bytree': 0.9, 'reg_lambda': 0.010667687743166957, 'reg_alpha': 0.8265620513893723, 'feature_fraction': 0.9031522055666273, 'bagging_fraction': 0.5426214464463615, 'bagging_freq': 17, 'num_leaves': 833, 'min_child_samples': 99}. Best is trial 15 with value: -0.8708846845053738.\u001b[0m\n"
     ]
    },
    {
     "name": "stdout",
     "output_type": "stream",
     "text": [
      "Early stopping, best iteration is:\n",
      "[63]\ttraining's l1: 1.00833\tvalid_1's l1: 0.871016\n",
      "[LightGBM] [Warning] feature_fraction is set=0.9096433155164426, colsample_bytree=0.9 will be ignored. Current value: feature_fraction=0.9096433155164426\n",
      "[LightGBM] [Warning] bagging_fraction is set=0.5188427823968775, subsample=0.5 will be ignored. Current value: bagging_fraction=0.5188427823968775\n",
      "[LightGBM] [Warning] bagging_freq is set=16, subsample_freq=0 will be ignored. Current value: bagging_freq=16\n",
      "Training until validation scores don't improve for 100 rounds\n",
      "[100]\ttraining's l1: 0.988136\tvalid_1's l1: 0.895449\n"
     ]
    },
    {
     "name": "stderr",
     "output_type": "stream",
     "text": [
      "\u001b[32m[I 2021-07-29 14:51:26,575]\u001b[0m Trial 17 finished with value: -0.8746643398490115 and parameters: {'max_depth': 19, 'min_child_weight': 1, 'subsample': 0.5, 'colsample_bytree': 0.9, 'reg_lambda': 0.028931093219836376, 'reg_alpha': 2.136040630743597, 'feature_fraction': 0.9096433155164426, 'bagging_fraction': 0.5188427823968775, 'bagging_freq': 16, 'num_leaves': 801, 'min_child_samples': 100}. Best is trial 15 with value: -0.8708846845053738.\u001b[0m\n"
     ]
    },
    {
     "name": "stdout",
     "output_type": "stream",
     "text": [
      "Early stopping, best iteration is:\n",
      "[20]\ttraining's l1: 1.01363\tvalid_1's l1: 0.874665\n",
      "[LightGBM] [Warning] feature_fraction is set=0.6945745516285625, colsample_bytree=0.7 will be ignored. Current value: feature_fraction=0.6945745516285625\n",
      "[LightGBM] [Warning] bagging_fraction is set=0.6894935253364356, subsample=0.6 will be ignored. Current value: bagging_fraction=0.6894935253364356\n",
      "[LightGBM] [Warning] bagging_freq is set=16, subsample_freq=0 will be ignored. Current value: bagging_freq=16\n",
      "Training until validation scores don't improve for 100 rounds\n",
      "[100]\ttraining's l1: 1.00115\tvalid_1's l1: 0.8762\n"
     ]
    },
    {
     "name": "stderr",
     "output_type": "stream",
     "text": [
      "\u001b[32m[I 2021-07-29 14:51:32,950]\u001b[0m Trial 18 finished with value: -0.8701059533698767 and parameters: {'max_depth': 10, 'min_child_weight': 3, 'subsample': 0.6, 'colsample_bytree': 0.7, 'reg_lambda': 0.013975573803097158, 'reg_alpha': 4.384738554422734, 'feature_fraction': 0.6945745516285625, 'bagging_fraction': 0.6894935253364356, 'bagging_freq': 16, 'num_leaves': 877, 'min_child_samples': 98}. Best is trial 18 with value: -0.8701059533698767.\u001b[0m\n"
     ]
    },
    {
     "name": "stdout",
     "output_type": "stream",
     "text": [
      "Early stopping, best iteration is:\n",
      "[23]\ttraining's l1: 1.01693\tvalid_1's l1: 0.870106\n",
      "[LightGBM] [Warning] feature_fraction is set=0.6977659277807924, colsample_bytree=0.7 will be ignored. Current value: feature_fraction=0.6977659277807924\n",
      "[LightGBM] [Warning] bagging_fraction is set=0.7155916648219168, subsample=0.5 will be ignored. Current value: bagging_fraction=0.7155916648219168\n",
      "[LightGBM] [Warning] bagging_freq is set=11, subsample_freq=0 will be ignored. Current value: bagging_freq=11\n",
      "Training until validation scores don't improve for 100 rounds\n",
      "[100]\ttraining's l1: 1.00156\tvalid_1's l1: 0.875113\n"
     ]
    },
    {
     "name": "stderr",
     "output_type": "stream",
     "text": [
      "\u001b[32m[I 2021-07-29 14:51:40,126]\u001b[0m Trial 19 finished with value: -0.8714372900650139 and parameters: {'max_depth': 10, 'min_child_weight': 3, 'subsample': 0.5, 'colsample_bytree': 0.7, 'reg_lambda': 0.02290396067871938, 'reg_alpha': 5.778593260034452, 'feature_fraction': 0.6977659277807924, 'bagging_fraction': 0.7155916648219168, 'bagging_freq': 11, 'num_leaves': 678, 'min_child_samples': 94}. Best is trial 18 with value: -0.8701059533698767.\u001b[0m\n"
     ]
    },
    {
     "name": "stdout",
     "output_type": "stream",
     "text": [
      "Early stopping, best iteration is:\n",
      "[38]\ttraining's l1: 1.01009\tvalid_1's l1: 0.871438\n",
      "[LightGBM] [Warning] feature_fraction is set=0.7220164253357573, colsample_bytree=0.6 will be ignored. Current value: feature_fraction=0.7220164253357573\n",
      "[LightGBM] [Warning] bagging_fraction is set=0.7000208761653438, subsample=0.6 will be ignored. Current value: bagging_fraction=0.7000208761653438\n",
      "[LightGBM] [Warning] bagging_freq is set=11, subsample_freq=0 will be ignored. Current value: bagging_freq=11\n",
      "Training until validation scores don't improve for 100 rounds\n",
      "[100]\ttraining's l1: 1.02773\tvalid_1's l1: 0.874025\n",
      "[200]\ttraining's l1: 1.02363\tvalid_1's l1: 0.872721\n",
      "[300]\ttraining's l1: 1.02004\tvalid_1's l1: 0.872604\n"
     ]
    },
    {
     "name": "stderr",
     "output_type": "stream",
     "text": [
      "\u001b[32m[I 2021-07-29 14:51:49,318]\u001b[0m Trial 20 finished with value: -0.8723076624282553 and parameters: {'max_depth': 5, 'min_child_weight': 3, 'subsample': 0.6, 'colsample_bytree': 0.6, 'reg_lambda': 0.04281995907514229, 'reg_alpha': 0.28312930296973393, 'feature_fraction': 0.7220164253357573, 'bagging_fraction': 0.7000208761653438, 'bagging_freq': 11, 'num_leaves': 882, 'min_child_samples': 90}. Best is trial 18 with value: -0.8701059533698767.\u001b[0m\n"
     ]
    },
    {
     "name": "stdout",
     "output_type": "stream",
     "text": [
      "Early stopping, best iteration is:\n",
      "[252]\ttraining's l1: 1.02092\tvalid_1's l1: 0.872333\n",
      "[LightGBM] [Warning] feature_fraction is set=0.8821326113027289, colsample_bytree=0.7 will be ignored. Current value: feature_fraction=0.8821326113027289\n",
      "[LightGBM] [Warning] bagging_fraction is set=0.5140100246404147, subsample=0.6 will be ignored. Current value: bagging_fraction=0.5140100246404147\n",
      "[LightGBM] [Warning] bagging_freq is set=17, subsample_freq=0 will be ignored. Current value: bagging_freq=17\n",
      "Training until validation scores don't improve for 100 rounds\n",
      "[100]\ttraining's l1: 1.00416\tvalid_1's l1: 0.873648\n"
     ]
    },
    {
     "name": "stderr",
     "output_type": "stream",
     "text": [
      "\u001b[32m[I 2021-07-29 14:51:56,177]\u001b[0m Trial 21 finished with value: -0.870533915901353 and parameters: {'max_depth': 10, 'min_child_weight': 1, 'subsample': 0.6, 'colsample_bytree': 0.7, 'reg_lambda': 0.00921652281608705, 'reg_alpha': 0.3079290799380832, 'feature_fraction': 0.8821326113027289, 'bagging_fraction': 0.5140100246404147, 'bagging_freq': 17, 'num_leaves': 900, 'min_child_samples': 96}. Best is trial 18 with value: -0.8701059533698767.\u001b[0m\n"
     ]
    },
    {
     "name": "stdout",
     "output_type": "stream",
     "text": [
      "Early stopping, best iteration is:\n",
      "[52]\ttraining's l1: 1.01097\tvalid_1's l1: 0.870537\n",
      "[LightGBM] [Warning] feature_fraction is set=0.989849856983285, colsample_bytree=0.6 will be ignored. Current value: feature_fraction=0.989849856983285\n",
      "[LightGBM] [Warning] bagging_fraction is set=0.654387742435934, subsample=0.6 will be ignored. Current value: bagging_fraction=0.654387742435934\n",
      "[LightGBM] [Warning] bagging_freq is set=16, subsample_freq=0 will be ignored. Current value: bagging_freq=16\n",
      "Training until validation scores don't improve for 100 rounds\n",
      "[100]\ttraining's l1: 1.00951\tvalid_1's l1: 0.871401\n"
     ]
    },
    {
     "name": "stderr",
     "output_type": "stream",
     "text": [
      "\u001b[32m[I 2021-07-29 14:52:03,573]\u001b[0m Trial 22 finished with value: -0.8699801388351528 and parameters: {'max_depth': 9, 'min_child_weight': 1, 'subsample': 0.6, 'colsample_bytree': 0.6, 'reg_lambda': 0.0064261073598564375, 'reg_alpha': 0.198701236172398, 'feature_fraction': 0.989849856983285, 'bagging_fraction': 0.654387742435934, 'bagging_freq': 16, 'num_leaves': 898, 'min_child_samples': 100}. Best is trial 22 with value: -0.8699801388351528.\u001b[0m\n"
     ]
    },
    {
     "name": "stdout",
     "output_type": "stream",
     "text": [
      "Early stopping, best iteration is:\n",
      "[56]\ttraining's l1: 1.01388\tvalid_1's l1: 0.869986\n",
      "[LightGBM] [Warning] feature_fraction is set=0.9928940380212192, colsample_bytree=0.6 will be ignored. Current value: feature_fraction=0.9928940380212192\n",
      "[LightGBM] [Warning] bagging_fraction is set=0.8387366626558819, subsample=0.7 will be ignored. Current value: bagging_fraction=0.8387366626558819\n",
      "[LightGBM] [Warning] bagging_freq is set=15, subsample_freq=0 will be ignored. Current value: bagging_freq=15\n",
      "Training until validation scores don't improve for 100 rounds\n",
      "[100]\ttraining's l1: 1.00687\tvalid_1's l1: 0.8708\n"
     ]
    },
    {
     "name": "stderr",
     "output_type": "stream",
     "text": [
      "\u001b[32m[I 2021-07-29 14:52:12,575]\u001b[0m Trial 23 finished with value: -0.8699475531374349 and parameters: {'max_depth': 9, 'min_child_weight': 5, 'subsample': 0.7, 'colsample_bytree': 0.6, 'reg_lambda': 0.0052240159283986, 'reg_alpha': 0.16803372120157087, 'feature_fraction': 0.9928940380212192, 'bagging_fraction': 0.8387366626558819, 'bagging_freq': 15, 'num_leaves': 917, 'min_child_samples': 88}. Best is trial 23 with value: -0.8699475531374349.\u001b[0m\n"
     ]
    },
    {
     "name": "stdout",
     "output_type": "stream",
     "text": [
      "Early stopping, best iteration is:\n",
      "[69]\ttraining's l1: 1.0097\tvalid_1's l1: 0.86995\n",
      "[LightGBM] [Warning] feature_fraction is set=0.9945546024585876, colsample_bytree=0.6 will be ignored. Current value: feature_fraction=0.9945546024585876\n",
      "[LightGBM] [Warning] bagging_fraction is set=0.9009726279896232, subsample=0.7 will be ignored. Current value: bagging_fraction=0.9009726279896232\n",
      "[LightGBM] [Warning] bagging_freq is set=15, subsample_freq=0 will be ignored. Current value: bagging_freq=15\n",
      "Training until validation scores don't improve for 100 rounds\n",
      "[100]\ttraining's l1: 1.02513\tvalid_1's l1: 0.872988\n",
      "[200]\ttraining's l1: 1.01964\tvalid_1's l1: 0.873129\n"
     ]
    },
    {
     "name": "stderr",
     "output_type": "stream",
     "text": [
      "\u001b[32m[I 2021-07-29 14:52:20,679]\u001b[0m Trial 24 finished with value: -0.8726150080421156 and parameters: {'max_depth': 6, 'min_child_weight': 6, 'subsample': 0.7, 'colsample_bytree': 0.6, 'reg_lambda': 0.004463755060569997, 'reg_alpha': 7.294606601912975, 'feature_fraction': 0.9945546024585876, 'bagging_fraction': 0.9009726279896232, 'bagging_freq': 15, 'num_leaves': 721, 'min_child_samples': 86}. Best is trial 23 with value: -0.8699475531374349.\u001b[0m\n"
     ]
    },
    {
     "name": "stdout",
     "output_type": "stream",
     "text": [
      "Early stopping, best iteration is:\n",
      "[112]\ttraining's l1: 1.02449\tvalid_1's l1: 0.872623\n",
      "[LightGBM] [Warning] feature_fraction is set=0.9833700387153026, colsample_bytree=0.6 will be ignored. Current value: feature_fraction=0.9833700387153026\n",
      "[LightGBM] [Warning] bagging_fraction is set=0.675034353531498, subsample=0.7 will be ignored. Current value: bagging_fraction=0.675034353531498\n",
      "[LightGBM] [Warning] bagging_freq is set=13, subsample_freq=0 will be ignored. Current value: bagging_freq=13\n",
      "Training until validation scores don't improve for 100 rounds\n",
      "[100]\ttraining's l1: 1.0082\tvalid_1's l1: 0.872054\n"
     ]
    },
    {
     "name": "stderr",
     "output_type": "stream",
     "text": [
      "\u001b[32m[I 2021-07-29 14:52:28,176]\u001b[0m Trial 25 finished with value: -0.8689925338955111 and parameters: {'max_depth': 9, 'min_child_weight': 3, 'subsample': 0.7, 'colsample_bytree': 0.6, 'reg_lambda': 0.0010139522796620924, 'reg_alpha': 0.006764941685558411, 'feature_fraction': 0.9833700387153026, 'bagging_fraction': 0.675034353531498, 'bagging_freq': 13, 'num_leaves': 630, 'min_child_samples': 65}. Best is trial 25 with value: -0.8689925338955111.\u001b[0m\n"
     ]
    },
    {
     "name": "stdout",
     "output_type": "stream",
     "text": [
      "Early stopping, best iteration is:\n",
      "[49]\ttraining's l1: 1.01351\tvalid_1's l1: 0.868995\n",
      "[LightGBM] [Warning] feature_fraction is set=0.9822853977155509, colsample_bytree=0.6 will be ignored. Current value: feature_fraction=0.9822853977155509\n",
      "[LightGBM] [Warning] bagging_fraction is set=0.7998498869446661, subsample=0.8 will be ignored. Current value: bagging_fraction=0.7998498869446661\n",
      "[LightGBM] [Warning] bagging_freq is set=12, subsample_freq=0 will be ignored. Current value: bagging_freq=12\n",
      "Training until validation scores don't improve for 100 rounds\n",
      "[100]\ttraining's l1: 1.06204\tvalid_1's l1: 0.899824\n"
     ]
    },
    {
     "name": "stderr",
     "output_type": "stream",
     "text": [
      "\u001b[32m[I 2021-07-29 14:52:32,648]\u001b[0m Trial 26 finished with value: -0.8998218788685115 and parameters: {'max_depth': 1, 'min_child_weight': 5, 'subsample': 0.8, 'colsample_bytree': 0.6, 'reg_lambda': 0.0010416015492706557, 'reg_alpha': 0.00764860951321877, 'feature_fraction': 0.9822853977155509, 'bagging_fraction': 0.7998498869446661, 'bagging_freq': 12, 'num_leaves': 614, 'min_child_samples': 64}. Best is trial 25 with value: -0.8689925338955111.\u001b[0m\n"
     ]
    },
    {
     "name": "stdout",
     "output_type": "stream",
     "text": [
      "Early stopping, best iteration is:\n",
      "[60]\ttraining's l1: 1.06205\tvalid_1's l1: 0.899822\n",
      "[LightGBM] [Warning] feature_fraction is set=0.9628260189736964, colsample_bytree=0.6 will be ignored. Current value: feature_fraction=0.9628260189736964\n",
      "[LightGBM] [Warning] bagging_fraction is set=0.6244842712087958, subsample=0.7 will be ignored. Current value: bagging_fraction=0.6244842712087958\n",
      "[LightGBM] [Warning] bagging_freq is set=13, subsample_freq=0 will be ignored. Current value: bagging_freq=13\n",
      "Training until validation scores don't improve for 100 rounds\n",
      "[100]\ttraining's l1: 0.990456\tvalid_1's l1: 0.886263\n"
     ]
    },
    {
     "name": "stderr",
     "output_type": "stream",
     "text": [
      "\u001b[32m[I 2021-07-29 14:52:42,501]\u001b[0m Trial 27 finished with value: -0.8735778048857484 and parameters: {'max_depth': 15, 'min_child_weight': 3, 'subsample': 0.7, 'colsample_bytree': 0.6, 'reg_lambda': 0.0012600871062983597, 'reg_alpha': 0.004734858469318657, 'feature_fraction': 0.9628260189736964, 'bagging_fraction': 0.6244842712087958, 'bagging_freq': 13, 'num_leaves': 629, 'min_child_samples': 81}. Best is trial 25 with value: -0.8689925338955111.\u001b[0m\n"
     ]
    },
    {
     "name": "stdout",
     "output_type": "stream",
     "text": [
      "Early stopping, best iteration is:\n",
      "[17]\ttraining's l1: 1.02092\tvalid_1's l1: 0.873578\n",
      "[LightGBM] [Warning] feature_fraction is set=0.9933822897137559, colsample_bytree=0.6 will be ignored. Current value: feature_fraction=0.9933822897137559\n",
      "[LightGBM] [Warning] bagging_fraction is set=0.9063649893518689, subsample=0.7 will be ignored. Current value: bagging_fraction=0.9063649893518689\n",
      "[LightGBM] [Warning] bagging_freq is set=9, subsample_freq=0 will be ignored. Current value: bagging_freq=9\n",
      "Training until validation scores don't improve for 100 rounds\n",
      "[100]\ttraining's l1: 1.00834\tvalid_1's l1: 0.871093\n"
     ]
    },
    {
     "name": "stderr",
     "output_type": "stream",
     "text": [
      "\u001b[32m[I 2021-07-29 14:52:51,496]\u001b[0m Trial 28 finished with value: -0.870244229276048 and parameters: {'max_depth': 9, 'min_child_weight': 6, 'subsample': 0.7, 'colsample_bytree': 0.6, 'reg_lambda': 0.004912217826515963, 'reg_alpha': 0.16342013624258514, 'feature_fraction': 0.9933822897137559, 'bagging_fraction': 0.9063649893518689, 'bagging_freq': 9, 'num_leaves': 543, 'min_child_samples': 70}. Best is trial 25 with value: -0.8689925338955111.\u001b[0m\n"
     ]
    },
    {
     "name": "stdout",
     "output_type": "stream",
     "text": [
      "Early stopping, best iteration is:\n",
      "[55]\ttraining's l1: 1.01167\tvalid_1's l1: 0.870249\n",
      "[LightGBM] [Warning] feature_fraction is set=0.4751422835754279, colsample_bytree=0.6 will be ignored. Current value: feature_fraction=0.4751422835754279\n",
      "[LightGBM] [Warning] bagging_fraction is set=0.6419444097640848, subsample=0.8 will be ignored. Current value: bagging_fraction=0.6419444097640848\n",
      "[LightGBM] [Warning] bagging_freq is set=14, subsample_freq=0 will be ignored. Current value: bagging_freq=14\n",
      "Training until validation scores don't improve for 100 rounds\n",
      "[100]\ttraining's l1: 0.988708\tvalid_1's l1: 0.886438\n"
     ]
    },
    {
     "name": "stderr",
     "output_type": "stream",
     "text": [
      "\u001b[32m[I 2021-07-29 14:52:59,773]\u001b[0m Trial 29 finished with value: -0.8747363067016991 and parameters: {'max_depth': 12, 'min_child_weight': 9, 'subsample': 0.8, 'colsample_bytree': 0.6, 'reg_lambda': 0.6403886153846234, 'reg_alpha': 0.0909488160048583, 'feature_fraction': 0.4751422835754279, 'bagging_fraction': 0.6419444097640848, 'bagging_freq': 14, 'num_leaves': 752, 'min_child_samples': 62}. Best is trial 25 with value: -0.8689925338955111.\u001b[0m\n"
     ]
    },
    {
     "name": "stdout",
     "output_type": "stream",
     "text": [
      "Early stopping, best iteration is:\n",
      "[19]\ttraining's l1: 1.01542\tvalid_1's l1: 0.874736\n",
      "[LightGBM] [Warning] feature_fraction is set=0.9343084002927945, colsample_bytree=0.6 will be ignored. Current value: feature_fraction=0.9343084002927945\n",
      "[LightGBM] [Warning] bagging_fraction is set=0.8001316129993817, subsample=0.7 will be ignored. Current value: bagging_fraction=0.8001316129993817\n",
      "[LightGBM] [Warning] bagging_freq is set=15, subsample_freq=0 will be ignored. Current value: bagging_freq=15\n",
      "Training until validation scores don't improve for 100 rounds\n",
      "[100]\ttraining's l1: 1.02399\tvalid_1's l1: 0.87202\n",
      "[200]\ttraining's l1: 1.01847\tvalid_1's l1: 0.871893\n",
      "Early stopping, best iteration is:\n",
      "[112]\ttraining's l1: 1.02184\tvalid_1's l1: 0.871476\n"
     ]
    },
    {
     "name": "stderr",
     "output_type": "stream",
     "text": [
      "\u001b[32m[I 2021-07-29 14:53:07,405]\u001b[0m Trial 30 finished with value: -0.8714555859871599 and parameters: {'max_depth': 6, 'min_child_weight': 2, 'subsample': 0.7, 'colsample_bytree': 0.6, 'reg_lambda': 0.2735713949774665, 'reg_alpha': 0.00836022003504718, 'feature_fraction': 0.9343084002927945, 'bagging_fraction': 0.8001316129993817, 'bagging_freq': 15, 'num_leaves': 920, 'min_child_samples': 76}. Best is trial 25 with value: -0.8689925338955111.\u001b[0m\n"
     ]
    },
    {
     "name": "stdout",
     "output_type": "stream",
     "text": [
      "[LightGBM] [Warning] feature_fraction is set=0.20887197801893292, colsample_bytree=0.7 will be ignored. Current value: feature_fraction=0.20887197801893292\n",
      "[LightGBM] [Warning] bagging_fraction is set=0.6609786299628531, subsample=0.6 will be ignored. Current value: bagging_fraction=0.6609786299628531\n",
      "[LightGBM] [Warning] bagging_freq is set=15, subsample_freq=0 will be ignored. Current value: bagging_freq=15\n",
      "Training until validation scores don't improve for 100 rounds\n",
      "[100]\ttraining's l1: 1.00042\tvalid_1's l1: 0.888397\n"
     ]
    },
    {
     "name": "stderr",
     "output_type": "stream",
     "text": [
      "\u001b[32m[I 2021-07-29 14:53:13,365]\u001b[0m Trial 31 finished with value: -0.8781892313072324 and parameters: {'max_depth': 11, 'min_child_weight': 4, 'subsample': 0.6, 'colsample_bytree': 0.7, 'reg_lambda': 0.005424304591973517, 'reg_alpha': 10.02335807017051, 'feature_fraction': 0.20887197801893292, 'bagging_fraction': 0.6609786299628531, 'bagging_freq': 15, 'num_leaves': 914, 'min_child_samples': 90}. Best is trial 25 with value: -0.8689925338955111.\u001b[0m\n"
     ]
    },
    {
     "name": "stdout",
     "output_type": "stream",
     "text": [
      "Early stopping, best iteration is:\n",
      "[25]\ttraining's l1: 1.0207\tvalid_1's l1: 0.87819\n",
      "[LightGBM] [Warning] feature_fraction is set=0.46573611702031453, colsample_bytree=0.7 will be ignored. Current value: feature_fraction=0.46573611702031453\n",
      "[LightGBM] [Warning] bagging_fraction is set=0.7495706895882401, subsample=0.7 will be ignored. Current value: bagging_fraction=0.7495706895882401\n",
      "[LightGBM] [Warning] bagging_freq is set=16, subsample_freq=0 will be ignored. Current value: bagging_freq=16\n",
      "Training until validation scores don't improve for 100 rounds\n",
      "[100]\ttraining's l1: 1.00299\tvalid_1's l1: 0.874513\n"
     ]
    },
    {
     "name": "stderr",
     "output_type": "stream",
     "text": [
      "\u001b[32m[I 2021-07-29 14:53:20,680]\u001b[0m Trial 32 finished with value: -0.8713337611293147 and parameters: {'max_depth': 9, 'min_child_weight': 4, 'subsample': 0.7, 'colsample_bytree': 0.7, 'reg_lambda': 0.05718445952378826, 'reg_alpha': 1.4605528996682213, 'feature_fraction': 0.46573611702031453, 'bagging_fraction': 0.7495706895882401, 'bagging_freq': 16, 'num_leaves': 788, 'min_child_samples': 89}. Best is trial 25 with value: -0.8689925338955111.\u001b[0m\n"
     ]
    },
    {
     "name": "stdout",
     "output_type": "stream",
     "text": [
      "Early stopping, best iteration is:\n",
      "[47]\ttraining's l1: 1.01347\tvalid_1's l1: 0.871336\n",
      "[LightGBM] [Warning] feature_fraction is set=0.6732817025165223, colsample_bytree=0.6 will be ignored. Current value: feature_fraction=0.6732817025165223\n",
      "[LightGBM] [Warning] bagging_fraction is set=0.8790099095780105, subsample=0.5 will be ignored. Current value: bagging_fraction=0.8790099095780105\n",
      "[LightGBM] [Warning] bagging_freq is set=19, subsample_freq=0 will be ignored. Current value: bagging_freq=19\n",
      "Training until validation scores don't improve for 100 rounds\n",
      "[100]\ttraining's l1: 0.985133\tvalid_1's l1: 0.888901\n"
     ]
    },
    {
     "name": "stderr",
     "output_type": "stream",
     "text": [
      "\u001b[32m[I 2021-07-29 14:53:30,011]\u001b[0m Trial 33 finished with value: -0.8724804506690549 and parameters: {'max_depth': 13, 'min_child_weight': 2, 'subsample': 0.5, 'colsample_bytree': 0.6, 'reg_lambda': 0.015475350035942336, 'reg_alpha': 2.956258416817105, 'feature_fraction': 0.6732817025165223, 'bagging_fraction': 0.8790099095780105, 'bagging_freq': 19, 'num_leaves': 652, 'min_child_samples': 42}. Best is trial 25 with value: -0.8689925338955111.\u001b[0m\n"
     ]
    },
    {
     "name": "stdout",
     "output_type": "stream",
     "text": [
      "Early stopping, best iteration is:\n",
      "[25]\ttraining's l1: 1.01109\tvalid_1's l1: 0.872481\n",
      "[LightGBM] [Warning] feature_fraction is set=0.5295254778765116, colsample_bytree=0.5 will be ignored. Current value: feature_fraction=0.5295254778765116\n",
      "[LightGBM] [Warning] bagging_fraction is set=0.677586014013564, subsample=0.7 will be ignored. Current value: bagging_fraction=0.677586014013564\n",
      "[LightGBM] [Warning] bagging_freq is set=14, subsample_freq=0 will be ignored. Current value: bagging_freq=14\n",
      "Training until validation scores don't improve for 100 rounds\n",
      "[100]\ttraining's l1: 0.991587\tvalid_1's l1: 0.880316\n"
     ]
    },
    {
     "name": "stderr",
     "output_type": "stream",
     "text": [
      "\u001b[32m[I 2021-07-29 14:53:38,680]\u001b[0m Trial 34 finished with value: -0.8712385431163214 and parameters: {'max_depth': 12, 'min_child_weight': 5, 'subsample': 0.7, 'colsample_bytree': 0.5, 'reg_lambda': 0.0032398477173461514, 'reg_alpha': 0.09638474897582143, 'feature_fraction': 0.5295254778765116, 'bagging_fraction': 0.677586014013564, 'bagging_freq': 14, 'num_leaves': 848, 'min_child_samples': 94}. Best is trial 25 with value: -0.8689925338955111.\u001b[0m\n"
     ]
    },
    {
     "name": "stdout",
     "output_type": "stream",
     "text": [
      "Early stopping, best iteration is:\n",
      "[21]\ttraining's l1: 1.01079\tvalid_1's l1: 0.871239\n",
      "[LightGBM] [Warning] feature_fraction is set=0.7520356711867997, colsample_bytree=0.7 will be ignored. Current value: feature_fraction=0.7520356711867997\n",
      "[LightGBM] [Warning] bagging_fraction is set=0.9769217831019994, subsample=0.6 will be ignored. Current value: bagging_fraction=0.9769217831019994\n",
      "[LightGBM] [Warning] bagging_freq is set=12, subsample_freq=0 will be ignored. Current value: bagging_freq=12\n",
      "Training until validation scores don't improve for 100 rounds\n",
      "[100]\ttraining's l1: 0.997893\tvalid_1's l1: 0.87962\n"
     ]
    },
    {
     "name": "stderr",
     "output_type": "stream",
     "text": [
      "\u001b[32m[I 2021-07-29 14:53:47,240]\u001b[0m Trial 35 finished with value: -0.8734702235126074 and parameters: {'max_depth': 11, 'min_child_weight': 2, 'subsample': 0.6, 'colsample_bytree': 0.7, 'reg_lambda': 0.001161530496322226, 'reg_alpha': 22.35884724112054, 'feature_fraction': 0.7520356711867997, 'bagging_fraction': 0.9769217831019994, 'bagging_freq': 12, 'num_leaves': 572, 'min_child_samples': 49}. Best is trial 25 with value: -0.8689925338955111.\u001b[0m\n"
     ]
    },
    {
     "name": "stdout",
     "output_type": "stream",
     "text": [
      "Early stopping, best iteration is:\n",
      "[23]\ttraining's l1: 1.01834\tvalid_1's l1: 0.87347\n",
      "[LightGBM] [Warning] feature_fraction is set=0.6539117151015365, colsample_bytree=0.5 will be ignored. Current value: feature_fraction=0.6539117151015365\n",
      "[LightGBM] [Warning] bagging_fraction is set=0.73463544140272, subsample=0.8 will be ignored. Current value: bagging_fraction=0.73463544140272\n",
      "[LightGBM] [Warning] bagging_freq is set=16, subsample_freq=0 will be ignored. Current value: bagging_freq=16\n",
      "Training until validation scores don't improve for 100 rounds\n",
      "[100]\ttraining's l1: 1.0162\tvalid_1's l1: 0.871108\n"
     ]
    },
    {
     "name": "stderr",
     "output_type": "stream",
     "text": [
      "\u001b[32m[I 2021-07-29 14:53:53,318]\u001b[0m Trial 36 finished with value: -0.8709584580969064 and parameters: {'max_depth': 7, 'min_child_weight': 6, 'subsample': 0.8, 'colsample_bytree': 0.5, 'reg_lambda': 0.19125873131605947, 'reg_alpha': 0.5956667361588324, 'feature_fraction': 0.6539117151015365, 'bagging_fraction': 0.73463544140272, 'bagging_freq': 16, 'num_leaves': 463, 'min_child_samples': 82}. Best is trial 25 with value: -0.8689925338955111.\u001b[0m\n"
     ]
    },
    {
     "name": "stdout",
     "output_type": "stream",
     "text": [
      "Early stopping, best iteration is:\n",
      "[71]\ttraining's l1: 1.01839\tvalid_1's l1: 0.870961\n",
      "[LightGBM] [Warning] feature_fraction is set=0.9464750105630353, colsample_bytree=0.6 will be ignored. Current value: feature_fraction=0.9464750105630353\n",
      "[LightGBM] [Warning] bagging_fraction is set=0.8206076337453387, subsample=0.7 will be ignored. Current value: bagging_fraction=0.8206076337453387\n",
      "[LightGBM] [Warning] bagging_freq is set=18, subsample_freq=0 will be ignored. Current value: bagging_freq=18\n",
      "Training until validation scores don't improve for 100 rounds\n",
      "[100]\ttraining's l1: 1.00463\tvalid_1's l1: 0.872028\n"
     ]
    },
    {
     "name": "stderr",
     "output_type": "stream",
     "text": [
      "\u001b[32m[I 2021-07-29 14:54:02,196]\u001b[0m Trial 37 finished with value: -0.8702177493181429 and parameters: {'max_depth': 9, 'min_child_weight': 13, 'subsample': 0.7, 'colsample_bytree': 0.6, 'reg_lambda': 0.006168019730693462, 'reg_alpha': 0.012594172585549328, 'feature_fraction': 0.9464750105630353, 'bagging_fraction': 0.8206076337453387, 'bagging_freq': 18, 'num_leaves': 751, 'min_child_samples': 36}. Best is trial 25 with value: -0.8689925338955111.\u001b[0m\n"
     ]
    },
    {
     "name": "stdout",
     "output_type": "stream",
     "text": [
      "Early stopping, best iteration is:\n",
      "[64]\ttraining's l1: 1.01058\tvalid_1's l1: 0.870223\n",
      "[LightGBM] [Warning] feature_fraction is set=0.8607449976052748, colsample_bytree=0.5 will be ignored. Current value: feature_fraction=0.8607449976052748\n",
      "[LightGBM] [Warning] bagging_fraction is set=0.7727485765289268, subsample=0.9 will be ignored. Current value: bagging_fraction=0.7727485765289268\n",
      "[LightGBM] [Warning] bagging_freq is set=14, subsample_freq=0 will be ignored. Current value: bagging_freq=14\n",
      "Training until validation scores don't improve for 100 rounds\n",
      "[100]\ttraining's l1: 1.00374\tvalid_1's l1: 0.885132\n"
     ]
    },
    {
     "name": "stderr",
     "output_type": "stream",
     "text": [
      "\u001b[32m[I 2021-07-29 14:54:10,312]\u001b[0m Trial 38 finished with value: -0.8774606423365298 and parameters: {'max_depth': 14, 'min_child_weight': 3, 'subsample': 0.9, 'colsample_bytree': 0.5, 'reg_lambda': 8.782508168997014, 'reg_alpha': 118.85624415137303, 'feature_fraction': 0.8607449976052748, 'bagging_fraction': 0.7727485765289268, 'bagging_freq': 14, 'num_leaves': 944, 'min_child_samples': 100}. Best is trial 25 with value: -0.8689925338955111.\u001b[0m\n"
     ]
    },
    {
     "name": "stdout",
     "output_type": "stream",
     "text": [
      "Early stopping, best iteration is:\n",
      "[38]\ttraining's l1: 1.01421\tvalid_1's l1: 0.877465\n",
      "[LightGBM] [Warning] feature_fraction is set=0.995862354350096, colsample_bytree=0.7 will be ignored. Current value: feature_fraction=0.995862354350096\n",
      "[LightGBM] [Warning] bagging_fraction is set=0.8530413260454005, subsample=0.5 will be ignored. Current value: bagging_fraction=0.8530413260454005\n",
      "[LightGBM] [Warning] bagging_freq is set=12, subsample_freq=0 will be ignored. Current value: bagging_freq=12\n",
      "Training until validation scores don't improve for 100 rounds\n",
      "[100]\ttraining's l1: 0.984916\tvalid_1's l1: 0.882969\n"
     ]
    },
    {
     "name": "stderr",
     "output_type": "stream",
     "text": [
      "\u001b[32m[I 2021-07-29 14:54:21,877]\u001b[0m Trial 39 finished with value: -0.8723686320520152 and parameters: {'max_depth': 13, 'min_child_weight': 7, 'subsample': 0.5, 'colsample_bytree': 0.7, 'reg_lambda': 0.0018045733021630423, 'reg_alpha': 0.10120772792834223, 'feature_fraction': 0.995862354350096, 'bagging_fraction': 0.8530413260454005, 'bagging_freq': 12, 'num_leaves': 873, 'min_child_samples': 56}. Best is trial 25 with value: -0.8689925338955111.\u001b[0m\n"
     ]
    },
    {
     "name": "stdout",
     "output_type": "stream",
     "text": [
      "Early stopping, best iteration is:\n",
      "[21]\ttraining's l1: 1.01024\tvalid_1's l1: 0.872369\n",
      "[LightGBM] [Warning] feature_fraction is set=0.7865315954481903, colsample_bytree=0.6 will be ignored. Current value: feature_fraction=0.7865315954481903\n",
      "[LightGBM] [Warning] bagging_fraction is set=0.6156852300154556, subsample=0.8 will be ignored. Current value: bagging_fraction=0.6156852300154556\n",
      "[LightGBM] [Warning] bagging_freq is set=10, subsample_freq=0 will be ignored. Current value: bagging_freq=10\n",
      "Training until validation scores don't improve for 100 rounds\n",
      "[100]\ttraining's l1: 1.03744\tvalid_1's l1: 0.878431\n",
      "[200]\ttraining's l1: 1.03242\tvalid_1's l1: 0.875265\n"
     ]
    },
    {
     "name": "stderr",
     "output_type": "stream",
     "text": [
      "\u001b[32m[I 2021-07-29 14:54:28,868]\u001b[0m Trial 40 finished with value: -0.8752195185488959 and parameters: {'max_depth': 4, 'min_child_weight': 4, 'subsample': 0.8, 'colsample_bytree': 0.6, 'reg_lambda': 0.0022027524826174656, 'reg_alpha': 21.178751141659124, 'feature_fraction': 0.7865315954481903, 'bagging_fraction': 0.6156852300154556, 'bagging_freq': 10, 'num_leaves': 691, 'min_child_samples': 75}. Best is trial 25 with value: -0.8689925338955111.\u001b[0m\n"
     ]
    },
    {
     "name": "stdout",
     "output_type": "stream",
     "text": [
      "Early stopping, best iteration is:\n",
      "[191]\ttraining's l1: 1.0325\tvalid_1's l1: 0.87524\n",
      "[LightGBM] [Warning] feature_fraction is set=0.9443246661875212, colsample_bytree=0.6 will be ignored. Current value: feature_fraction=0.9443246661875212\n",
      "[LightGBM] [Warning] bagging_fraction is set=0.9333311522623929, subsample=0.7 will be ignored. Current value: bagging_fraction=0.9333311522623929\n",
      "[LightGBM] [Warning] bagging_freq is set=18, subsample_freq=0 will be ignored. Current value: bagging_freq=18\n",
      "Training until validation scores don't improve for 100 rounds\n",
      "[100]\ttraining's l1: 1.00774\tvalid_1's l1: 0.871603\n"
     ]
    },
    {
     "name": "stderr",
     "output_type": "stream",
     "text": [
      "\u001b[32m[I 2021-07-29 14:54:37,397]\u001b[0m Trial 41 finished with value: -0.8701692126072654 and parameters: {'max_depth': 9, 'min_child_weight': 13, 'subsample': 0.7, 'colsample_bytree': 0.6, 'reg_lambda': 0.00564764256303143, 'reg_alpha': 0.015245805092629142, 'feature_fraction': 0.9443246661875212, 'bagging_fraction': 0.9333311522623929, 'bagging_freq': 18, 'num_leaves': 770, 'min_child_samples': 34}. Best is trial 25 with value: -0.8689925338955111.\u001b[0m\n"
     ]
    },
    {
     "name": "stdout",
     "output_type": "stream",
     "text": [
      "Early stopping, best iteration is:\n",
      "[44]\ttraining's l1: 1.01335\tvalid_1's l1: 0.87017\n",
      "[LightGBM] [Warning] feature_fraction is set=0.8881339371230341, colsample_bytree=0.6 will be ignored. Current value: feature_fraction=0.8881339371230341\n",
      "[LightGBM] [Warning] bagging_fraction is set=0.9286487647536714, subsample=0.7 will be ignored. Current value: bagging_fraction=0.9286487647536714\n",
      "[LightGBM] [Warning] bagging_freq is set=19, subsample_freq=0 will be ignored. Current value: bagging_freq=19\n",
      "Training until validation scores don't improve for 100 rounds\n",
      "[100]\ttraining's l1: 1.0069\tvalid_1's l1: 0.873098\n"
     ]
    },
    {
     "name": "stderr",
     "output_type": "stream",
     "text": [
      "\u001b[32m[I 2021-07-29 14:54:46,476]\u001b[0m Trial 42 finished with value: -0.8714179610434084 and parameters: {'max_depth': 9, 'min_child_weight': 13, 'subsample': 0.7, 'colsample_bytree': 0.6, 'reg_lambda': 0.04550770801524832, 'reg_alpha': 0.00317938474447038, 'feature_fraction': 0.8881339371230341, 'bagging_fraction': 0.9286487647536714, 'bagging_freq': 19, 'num_leaves': 795, 'min_child_samples': 29}. Best is trial 25 with value: -0.8689925338955111.\u001b[0m\n"
     ]
    },
    {
     "name": "stdout",
     "output_type": "stream",
     "text": [
      "Early stopping, best iteration is:\n",
      "[54]\ttraining's l1: 1.01385\tvalid_1's l1: 0.871423\n",
      "[LightGBM] [Warning] feature_fraction is set=0.9469148348443569, colsample_bytree=0.5 will be ignored. Current value: feature_fraction=0.9469148348443569\n",
      "[LightGBM] [Warning] bagging_fraction is set=0.4640261918518779, subsample=0.7 will be ignored. Current value: bagging_fraction=0.4640261918518779\n",
      "[LightGBM] [Warning] bagging_freq is set=16, subsample_freq=0 will be ignored. Current value: bagging_freq=16\n",
      "Training until validation scores don't improve for 100 rounds\n",
      "[100]\ttraining's l1: 0.995339\tvalid_1's l1: 0.878896\n"
     ]
    },
    {
     "name": "stderr",
     "output_type": "stream",
     "text": [
      "\u001b[32m[I 2021-07-29 14:54:53,823]\u001b[0m Trial 43 finished with value: -0.8732843416481677 and parameters: {'max_depth': 11, 'min_child_weight': 13, 'subsample': 0.7, 'colsample_bytree': 0.5, 'reg_lambda': 0.010287230201959308, 'reg_alpha': 0.01347426180541098, 'feature_fraction': 0.9469148348443569, 'bagging_fraction': 0.4640261918518779, 'bagging_freq': 16, 'num_leaves': 824, 'min_child_samples': 36}. Best is trial 25 with value: -0.8689925338955111.\u001b[0m\n"
     ]
    },
    {
     "name": "stdout",
     "output_type": "stream",
     "text": [
      "Early stopping, best iteration is:\n",
      "[16]\ttraining's l1: 1.02312\tvalid_1's l1: 0.873284\n",
      "[LightGBM] [Warning] feature_fraction is set=0.8337644998894949, colsample_bytree=0.6 will be ignored. Current value: feature_fraction=0.8337644998894949\n",
      "[LightGBM] [Warning] bagging_fraction is set=0.9461526373127238, subsample=0.8 will be ignored. Current value: bagging_fraction=0.9461526373127238\n",
      "[LightGBM] [Warning] bagging_freq is set=15, subsample_freq=0 will be ignored. Current value: bagging_freq=15\n",
      "Training until validation scores don't improve for 100 rounds\n",
      "[100]\ttraining's l1: 1.01805\tvalid_1's l1: 0.871913\n",
      "[200]\ttraining's l1: 1.01471\tvalid_1's l1: 0.871844\n"
     ]
    },
    {
     "name": "stderr",
     "output_type": "stream",
     "text": [
      "\u001b[32m[I 2021-07-29 14:55:03,756]\u001b[0m Trial 44 finished with value: -0.8715156402141877 and parameters: {'max_depth': 7, 'min_child_weight': 15, 'subsample': 0.8, 'colsample_bytree': 0.6, 'reg_lambda': 0.0036843005760685992, 'reg_alpha': 0.18751548549059305, 'feature_fraction': 0.8337644998894949, 'bagging_fraction': 0.9461526373127238, 'bagging_freq': 15, 'num_leaves': 747, 'min_child_samples': 11}. Best is trial 25 with value: -0.8689925338955111.\u001b[0m\n"
     ]
    },
    {
     "name": "stdout",
     "output_type": "stream",
     "text": [
      "Early stopping, best iteration is:\n",
      "[140]\ttraining's l1: 1.01688\tvalid_1's l1: 0.871525\n",
      "[LightGBM] [Warning] feature_fraction is set=0.6043837241774224, colsample_bytree=0.7 will be ignored. Current value: feature_fraction=0.6043837241774224\n",
      "[LightGBM] [Warning] bagging_fraction is set=0.6844672263731549, subsample=0.6 will be ignored. Current value: bagging_fraction=0.6844672263731549\n",
      "[LightGBM] [Warning] bagging_freq is set=13, subsample_freq=0 will be ignored. Current value: bagging_freq=13\n",
      "Training until validation scores don't improve for 100 rounds\n",
      "[100]\ttraining's l1: 1.00311\tvalid_1's l1: 0.872835\n"
     ]
    },
    {
     "name": "stderr",
     "output_type": "stream",
     "text": [
      "\u001b[32m[I 2021-07-29 14:55:12,097]\u001b[0m Trial 45 finished with value: -0.8701313132164388 and parameters: {'max_depth': 9, 'min_child_weight': 12, 'subsample': 0.6, 'colsample_bytree': 0.7, 'reg_lambda': 0.09918197889664318, 'reg_alpha': 0.054542790084947154, 'feature_fraction': 0.6043837241774224, 'bagging_fraction': 0.6844672263731549, 'bagging_freq': 13, 'num_leaves': 997, 'min_child_samples': 52}. Best is trial 25 with value: -0.8689925338955111.\u001b[0m\n"
     ]
    },
    {
     "name": "stdout",
     "output_type": "stream",
     "text": [
      "Early stopping, best iteration is:\n",
      "[46]\ttraining's l1: 1.01098\tvalid_1's l1: 0.870133\n",
      "[LightGBM] [Warning] feature_fraction is set=0.5912447508863171, colsample_bytree=0.7 will be ignored. Current value: feature_fraction=0.5912447508863171\n",
      "[LightGBM] [Warning] bagging_fraction is set=0.6772106412550367, subsample=0.6 will be ignored. Current value: bagging_fraction=0.6772106412550367\n",
      "[LightGBM] [Warning] bagging_freq is set=13, subsample_freq=0 will be ignored. Current value: bagging_freq=13\n",
      "Training until validation scores don't improve for 100 rounds\n",
      "[100]\ttraining's l1: 0.996227\tvalid_1's l1: 0.876705\n"
     ]
    },
    {
     "name": "stderr",
     "output_type": "stream",
     "text": [
      "\u001b[32m[I 2021-07-29 14:55:20,394]\u001b[0m Trial 46 finished with value: -0.8718724387619488 and parameters: {'max_depth': 10, 'min_child_weight': 10, 'subsample': 0.6, 'colsample_bytree': 0.7, 'reg_lambda': 0.16248945491298716, 'reg_alpha': 0.0588262600574902, 'feature_fraction': 0.5912447508863171, 'bagging_fraction': 0.6772106412550367, 'bagging_freq': 13, 'num_leaves': 994, 'min_child_samples': 65}. Best is trial 25 with value: -0.8689925338955111.\u001b[0m\n"
     ]
    },
    {
     "name": "stdout",
     "output_type": "stream",
     "text": [
      "Early stopping, best iteration is:\n",
      "[23]\ttraining's l1: 1.01472\tvalid_1's l1: 0.871874\n",
      "[LightGBM] [Warning] feature_fraction is set=0.5350688722238919, colsample_bytree=0.8 will be ignored. Current value: feature_fraction=0.5350688722238919\n",
      "[LightGBM] [Warning] bagging_fraction is set=0.7620819239708296, subsample=0.6 will be ignored. Current value: bagging_fraction=0.7620819239708296\n",
      "[LightGBM] [Warning] bagging_freq is set=1, subsample_freq=0 will be ignored. Current value: bagging_freq=1\n",
      "Training until validation scores don't improve for 100 rounds\n",
      "[100]\ttraining's l1: 1.01655\tvalid_1's l1: 0.87046\n"
     ]
    },
    {
     "name": "stderr",
     "output_type": "stream",
     "text": [
      "\u001b[32m[I 2021-07-29 14:55:27,255]\u001b[0m Trial 47 finished with value: -0.870272127929597 and parameters: {'max_depth': 7, 'min_child_weight': 12, 'subsample': 0.6, 'colsample_bytree': 0.8, 'reg_lambda': 0.06762097848520571, 'reg_alpha': 0.06090443089957779, 'feature_fraction': 0.5350688722238919, 'bagging_fraction': 0.7620819239708296, 'bagging_freq': 1, 'num_leaves': 944, 'min_child_samples': 51}. Best is trial 25 with value: -0.8689925338955111.\u001b[0m\n"
     ]
    },
    {
     "name": "stdout",
     "output_type": "stream",
     "text": [
      "Early stopping, best iteration is:\n",
      "[60]\ttraining's l1: 1.01979\tvalid_1's l1: 0.870274\n",
      "[LightGBM] [Warning] feature_fraction is set=0.4046387020989892, colsample_bytree=0.8 will be ignored. Current value: feature_fraction=0.4046387020989892\n",
      "[LightGBM] [Warning] bagging_fraction is set=0.5880423950347102, subsample=0.6 will be ignored. Current value: bagging_fraction=0.5880423950347102\n",
      "[LightGBM] [Warning] bagging_freq is set=13, subsample_freq=0 will be ignored. Current value: bagging_freq=13\n",
      "Training until validation scores don't improve for 100 rounds\n",
      "[100]\ttraining's l1: 1.02895\tvalid_1's l1: 0.876014\n",
      "[200]\ttraining's l1: 1.02366\tvalid_1's l1: 0.874184\n"
     ]
    },
    {
     "name": "stderr",
     "output_type": "stream",
     "text": [
      "\u001b[32m[I 2021-07-29 14:55:35,200]\u001b[0m Trial 48 finished with value: -0.8741625384971322 and parameters: {'max_depth': 5, 'min_child_weight': 17, 'subsample': 0.6, 'colsample_bytree': 0.8, 'reg_lambda': 0.35812892950497327, 'reg_alpha': 0.4440313680964692, 'feature_fraction': 0.4046387020989892, 'bagging_fraction': 0.5880423950347102, 'bagging_freq': 13, 'num_leaves': 300, 'min_child_samples': 85}. Best is trial 25 with value: -0.8689925338955111.\u001b[0m\n"
     ]
    },
    {
     "name": "stdout",
     "output_type": "stream",
     "text": [
      "[300]\ttraining's l1: 1.02348\tvalid_1's l1: 0.874343\n",
      "Early stopping, best iteration is:\n",
      "[200]\ttraining's l1: 1.02366\tvalid_1's l1: 0.874184\n",
      "[LightGBM] [Warning] feature_fraction is set=0.6275479429951563, colsample_bytree=0.7 will be ignored. Current value: feature_fraction=0.6275479429951563\n",
      "[LightGBM] [Warning] bagging_fraction is set=0.7082596856142133, subsample=0.6 will be ignored. Current value: bagging_fraction=0.7082596856142133\n",
      "[LightGBM] [Warning] bagging_freq is set=14, subsample_freq=0 will be ignored. Current value: bagging_freq=14\n",
      "Training until validation scores don't improve for 100 rounds\n",
      "[100]\ttraining's l1: 1.01018\tvalid_1's l1: 0.870535\n"
     ]
    },
    {
     "name": "stderr",
     "output_type": "stream",
     "text": [
      "\u001b[32m[I 2021-07-29 14:55:41,893]\u001b[0m Trial 49 finished with value: -0.8701124675335085 and parameters: {'max_depth': 8, 'min_child_weight': 8, 'subsample': 0.6, 'colsample_bytree': 0.7, 'reg_lambda': 0.01759816913393995, 'reg_alpha': 3.0611480615549507, 'feature_fraction': 0.6275479429951563, 'bagging_fraction': 0.7082596856142133, 'bagging_freq': 14, 'num_leaves': 989, 'min_child_samples': 58}. Best is trial 25 with value: -0.8689925338955111.\u001b[0m\n"
     ]
    },
    {
     "name": "stdout",
     "output_type": "stream",
     "text": [
      "Early stopping, best iteration is:\n",
      "[69]\ttraining's l1: 1.013\tvalid_1's l1: 0.870115\n",
      "[LightGBM] [Warning] feature_fraction is set=0.6407271942152921, colsample_bytree=0.7 will be ignored. Current value: feature_fraction=0.6407271942152921\n",
      "[LightGBM] [Warning] bagging_fraction is set=0.7216452822421987, subsample=0.5 will be ignored. Current value: bagging_fraction=0.7216452822421987\n",
      "[LightGBM] [Warning] bagging_freq is set=17, subsample_freq=0 will be ignored. Current value: bagging_freq=17\n",
      "Training until validation scores don't improve for 100 rounds\n",
      "[100]\ttraining's l1: 0.988866\tvalid_1's l1: 0.880216\n"
     ]
    },
    {
     "name": "stderr",
     "output_type": "stream",
     "text": [
      "\u001b[32m[I 2021-07-29 14:55:50,185]\u001b[0m Trial 50 finished with value: -0.8732080848197473 and parameters: {'max_depth': 12, 'min_child_weight': 8, 'subsample': 0.5, 'colsample_bytree': 0.7, 'reg_lambda': 0.017814037431264904, 'reg_alpha': 2.646478428606645, 'feature_fraction': 0.6407271942152921, 'bagging_fraction': 0.7216452822421987, 'bagging_freq': 17, 'num_leaves': 872, 'min_child_samples': 66}. Best is trial 25 with value: -0.8689925338955111.\u001b[0m\n"
     ]
    },
    {
     "name": "stdout",
     "output_type": "stream",
     "text": [
      "Early stopping, best iteration is:\n",
      "[26]\ttraining's l1: 1.00674\tvalid_1's l1: 0.87321\n",
      "[LightGBM] [Warning] feature_fraction is set=0.6102907022020452, colsample_bytree=0.7 will be ignored. Current value: feature_fraction=0.6102907022020452\n",
      "[LightGBM] [Warning] bagging_fraction is set=0.6903515940680948, subsample=0.6 will be ignored. Current value: bagging_fraction=0.6903515940680948\n",
      "[LightGBM] [Warning] bagging_freq is set=14, subsample_freq=0 will be ignored. Current value: bagging_freq=14\n",
      "Training until validation scores don't improve for 100 rounds\n",
      "[100]\ttraining's l1: 1.00962\tvalid_1's l1: 0.872631\n"
     ]
    },
    {
     "name": "stderr",
     "output_type": "stream",
     "text": [
      "\u001b[32m[I 2021-07-29 14:55:57,360]\u001b[0m Trial 51 finished with value: -0.8708465142186834 and parameters: {'max_depth': 8, 'min_child_weight': 5, 'subsample': 0.6, 'colsample_bytree': 0.7, 'reg_lambda': 0.1130035930666895, 'reg_alpha': 1.259390484610245, 'feature_fraction': 0.6102907022020452, 'bagging_fraction': 0.6903515940680948, 'bagging_freq': 14, 'num_leaves': 992, 'min_child_samples': 56}. Best is trial 25 with value: -0.8689925338955111.\u001b[0m\n"
     ]
    },
    {
     "name": "stdout",
     "output_type": "stream",
     "text": [
      "Early stopping, best iteration is:\n",
      "[49]\ttraining's l1: 1.01571\tvalid_1's l1: 0.870847\n",
      "[LightGBM] [Warning] feature_fraction is set=0.5804772331645743, colsample_bytree=0.7 will be ignored. Current value: feature_fraction=0.5804772331645743\n",
      "[LightGBM] [Warning] bagging_fraction is set=0.6528469228341525, subsample=0.6 will be ignored. Current value: bagging_fraction=0.6528469228341525\n",
      "[LightGBM] [Warning] bagging_freq is set=12, subsample_freq=0 will be ignored. Current value: bagging_freq=12\n",
      "Training until validation scores don't improve for 100 rounds\n",
      "[100]\ttraining's l1: 1.0093\tvalid_1's l1: 0.871839\n"
     ]
    },
    {
     "name": "stderr",
     "output_type": "stream",
     "text": [
      "\u001b[32m[I 2021-07-29 14:56:04,822]\u001b[0m Trial 52 finished with value: -0.8712153542477692 and parameters: {'max_depth': 8, 'min_child_weight': 9, 'subsample': 0.6, 'colsample_bytree': 0.7, 'reg_lambda': 0.03519827700612145, 'reg_alpha': 3.739952300819854, 'feature_fraction': 0.5804772331645743, 'bagging_fraction': 0.6528469228341525, 'bagging_freq': 12, 'num_leaves': 949, 'min_child_samples': 46}. Best is trial 25 with value: -0.8689925338955111.\u001b[0m\n"
     ]
    },
    {
     "name": "stdout",
     "output_type": "stream",
     "text": [
      "Early stopping, best iteration is:\n",
      "[51]\ttraining's l1: 1.01554\tvalid_1's l1: 0.871216\n",
      "[LightGBM] [Warning] feature_fraction is set=0.5444012231154246, colsample_bytree=0.7 will be ignored. Current value: feature_fraction=0.5444012231154246\n",
      "[LightGBM] [Warning] bagging_fraction is set=0.6100119740732668, subsample=0.6 will be ignored. Current value: bagging_fraction=0.6100119740732668\n",
      "[LightGBM] [Warning] bagging_freq is set=16, subsample_freq=0 will be ignored. Current value: bagging_freq=16\n",
      "Training until validation scores don't improve for 100 rounds\n",
      "[100]\ttraining's l1: 0.998833\tvalid_1's l1: 0.878278\n"
     ]
    },
    {
     "name": "stderr",
     "output_type": "stream",
     "text": [
      "\u001b[32m[I 2021-07-29 14:56:11,923]\u001b[0m Trial 53 finished with value: -0.872120110872335 and parameters: {'max_depth': 10, 'min_child_weight': 7, 'subsample': 0.6, 'colsample_bytree': 0.7, 'reg_lambda': 1.4968718850704623, 'reg_alpha': 0.8647116947165209, 'feature_fraction': 0.5444012231154246, 'bagging_fraction': 0.6100119740732668, 'bagging_freq': 16, 'num_leaves': 910, 'min_child_samples': 58}. Best is trial 25 with value: -0.8689925338955111.\u001b[0m\n"
     ]
    },
    {
     "name": "stdout",
     "output_type": "stream",
     "text": [
      "Early stopping, best iteration is:\n",
      "[24]\ttraining's l1: 1.01611\tvalid_1's l1: 0.872124\n",
      "[LightGBM] [Warning] feature_fraction is set=0.7248040111543159, colsample_bytree=0.8 will be ignored. Current value: feature_fraction=0.7248040111543159\n",
      "[LightGBM] [Warning] bagging_fraction is set=0.78978198201345, subsample=0.6 will be ignored. Current value: bagging_fraction=0.78978198201345\n",
      "[LightGBM] [Warning] bagging_freq is set=14, subsample_freq=0 will be ignored. Current value: bagging_freq=14\n",
      "Training until validation scores don't improve for 100 rounds\n",
      "[100]\ttraining's l1: 1.01674\tvalid_1's l1: 0.872606\n"
     ]
    },
    {
     "name": "stderr",
     "output_type": "stream",
     "text": [
      "\u001b[32m[I 2021-07-29 14:56:18,997]\u001b[0m Trial 54 finished with value: -0.8719859599649763 and parameters: {'max_depth': 7, 'min_child_weight': 2, 'subsample': 0.6, 'colsample_bytree': 0.8, 'reg_lambda': 0.016839175677353744, 'reg_alpha': 0.1598426353021433, 'feature_fraction': 0.7248040111543159, 'bagging_fraction': 0.78978198201345, 'bagging_freq': 14, 'num_leaves': 995, 'min_child_samples': 61}. Best is trial 25 with value: -0.8689925338955111.\u001b[0m\n"
     ]
    },
    {
     "name": "stdout",
     "output_type": "stream",
     "text": [
      "Early stopping, best iteration is:\n",
      "[84]\ttraining's l1: 1.01864\tvalid_1's l1: 0.871993\n",
      "[LightGBM] [Warning] feature_fraction is set=0.6213932993895228, colsample_bytree=0.7 will be ignored. Current value: feature_fraction=0.6213932993895228\n",
      "[LightGBM] [Warning] bagging_fraction is set=0.7105400339708242, subsample=0.6 will be ignored. Current value: bagging_fraction=0.7105400339708242\n",
      "[LightGBM] [Warning] bagging_freq is set=15, subsample_freq=0 will be ignored. Current value: bagging_freq=15\n",
      "Training until validation scores don't improve for 100 rounds\n",
      "[100]\ttraining's l1: 0.994437\tvalid_1's l1: 0.880346\n"
     ]
    },
    {
     "name": "stderr",
     "output_type": "stream",
     "text": [
      "\u001b[32m[I 2021-07-29 14:56:26,101]\u001b[0m Trial 55 finished with value: -0.8730870711485613 and parameters: {'max_depth': 11, 'min_child_weight': 11, 'subsample': 0.6, 'colsample_bytree': 0.7, 'reg_lambda': 0.07466227062402718, 'reg_alpha': 0.023625930023007287, 'feature_fraction': 0.6213932993895228, 'bagging_fraction': 0.7105400339708242, 'bagging_freq': 15, 'num_leaves': 476, 'min_child_samples': 52}. Best is trial 25 with value: -0.8689925338955111.\u001b[0m\n"
     ]
    },
    {
     "name": "stdout",
     "output_type": "stream",
     "text": [
      "Early stopping, best iteration is:\n",
      "[20]\ttraining's l1: 1.01916\tvalid_1's l1: 0.873087\n",
      "[LightGBM] [Warning] feature_fraction is set=0.6818851340028732, colsample_bytree=0.7 will be ignored. Current value: feature_fraction=0.6818851340028732\n",
      "[LightGBM] [Warning] bagging_fraction is set=0.5664975577401, subsample=0.5 will be ignored. Current value: bagging_fraction=0.5664975577401\n",
      "[LightGBM] [Warning] bagging_freq is set=11, subsample_freq=0 will be ignored. Current value: bagging_freq=11\n",
      "Training until validation scores don't improve for 100 rounds\n",
      "[100]\ttraining's l1: 1.00929\tvalid_1's l1: 0.875618\n"
     ]
    },
    {
     "name": "stderr",
     "output_type": "stream",
     "text": [
      "\u001b[32m[I 2021-07-29 14:56:31,958]\u001b[0m Trial 56 finished with value: -0.8742424512082407 and parameters: {'max_depth': 9, 'min_child_weight': 9, 'subsample': 0.5, 'colsample_bytree': 0.7, 'reg_lambda': 0.008760555551401466, 'reg_alpha': 13.635714708612435, 'feature_fraction': 0.6818851340028732, 'bagging_fraction': 0.5664975577401, 'bagging_freq': 11, 'num_leaves': 837, 'min_child_samples': 95}. Best is trial 25 with value: -0.8689925338955111.\u001b[0m\n"
     ]
    },
    {
     "name": "stdout",
     "output_type": "stream",
     "text": [
      "Early stopping, best iteration is:\n",
      "[44]\ttraining's l1: 1.01666\tvalid_1's l1: 0.874247\n",
      "[LightGBM] [Warning] feature_fraction is set=0.41997427338347204, colsample_bytree=0.6 will be ignored. Current value: feature_fraction=0.41997427338347204\n",
      "[LightGBM] [Warning] bagging_fraction is set=0.8456952351387376, subsample=0.6 will be ignored. Current value: bagging_fraction=0.8456952351387376\n",
      "[LightGBM] [Warning] bagging_freq is set=13, subsample_freq=0 will be ignored. Current value: bagging_freq=13\n",
      "Training until validation scores don't improve for 100 rounds\n",
      "[100]\ttraining's l1: 1.03355\tvalid_1's l1: 0.880289\n",
      "[200]\ttraining's l1: 1.03217\tvalid_1's l1: 0.88015\n"
     ]
    },
    {
     "name": "stderr",
     "output_type": "stream",
     "text": [
      "\u001b[32m[I 2021-07-29 14:56:40,709]\u001b[0m Trial 57 finished with value: -0.8799925253480801 and parameters: {'max_depth': 6, 'min_child_weight': 5, 'subsample': 0.6, 'colsample_bytree': 0.6, 'reg_lambda': 0.024989806154286424, 'reg_alpha': 4.695735460711925, 'feature_fraction': 0.41997427338347204, 'bagging_fraction': 0.8456952351387376, 'bagging_freq': 13, 'num_leaves': 29, 'min_child_samples': 42}. Best is trial 25 with value: -0.8689925338955111.\u001b[0m\n"
     ]
    },
    {
     "name": "stdout",
     "output_type": "stream",
     "text": [
      "Early stopping, best iteration is:\n",
      "[147]\ttraining's l1: 1.03239\tvalid_1's l1: 0.880005\n",
      "[LightGBM] [Warning] feature_fraction is set=0.35116707425409044, colsample_bytree=0.8 will be ignored. Current value: feature_fraction=0.35116707425409044\n",
      "[LightGBM] [Warning] bagging_fraction is set=0.6418292676468901, subsample=0.6 will be ignored. Current value: bagging_fraction=0.6418292676468901\n",
      "[LightGBM] [Warning] bagging_freq is set=17, subsample_freq=0 will be ignored. Current value: bagging_freq=17\n",
      "Training until validation scores don't improve for 100 rounds\n",
      "[100]\ttraining's l1: 0.996703\tvalid_1's l1: 0.879663\n"
     ]
    },
    {
     "name": "stderr",
     "output_type": "stream",
     "text": [
      "\u001b[32m[I 2021-07-29 14:56:47,264]\u001b[0m Trial 58 finished with value: -0.8711351477032244 and parameters: {'max_depth': 10, 'min_child_weight': 12, 'subsample': 0.6, 'colsample_bytree': 0.8, 'reg_lambda': 0.0018213435657634888, 'reg_alpha': 0.28613553303148065, 'feature_fraction': 0.35116707425409044, 'bagging_fraction': 0.6418292676468901, 'bagging_freq': 17, 'num_leaves': 961, 'min_child_samples': 47}. Best is trial 25 with value: -0.8689925338955111.\u001b[0m\n"
     ]
    },
    {
     "name": "stdout",
     "output_type": "stream",
     "text": [
      "Early stopping, best iteration is:\n",
      "[31]\ttraining's l1: 1.01192\tvalid_1's l1: 0.871136\n",
      "[LightGBM] [Warning] feature_fraction is set=0.5584099445491001, colsample_bytree=0.6 will be ignored. Current value: feature_fraction=0.5584099445491001\n",
      "[LightGBM] [Warning] bagging_fraction is set=0.7411781799454471, subsample=0.7 will be ignored. Current value: bagging_fraction=0.7411781799454471\n",
      "[LightGBM] [Warning] bagging_freq is set=15, subsample_freq=0 will be ignored. Current value: bagging_freq=15\n",
      "Training until validation scores don't improve for 100 rounds\n",
      "[100]\ttraining's l1: 1.00994\tvalid_1's l1: 0.87313\n"
     ]
    },
    {
     "name": "stderr",
     "output_type": "stream",
     "text": [
      "\u001b[32m[I 2021-07-29 14:56:54,879]\u001b[0m Trial 59 finished with value: -0.8708878681638923 and parameters: {'max_depth': 8, 'min_child_weight': 3, 'subsample': 0.7, 'colsample_bytree': 0.6, 'reg_lambda': 0.013741111727013887, 'reg_alpha': 1.587569534154692, 'feature_fraction': 0.5584099445491001, 'bagging_fraction': 0.7411781799454471, 'bagging_freq': 15, 'num_leaves': 396, 'min_child_samples': 97}. Best is trial 25 with value: -0.8689925338955111.\u001b[0m\n"
     ]
    },
    {
     "name": "stdout",
     "output_type": "stream",
     "text": [
      "Early stopping, best iteration is:\n",
      "[55]\ttraining's l1: 1.0154\tvalid_1's l1: 0.87089\n",
      "[LightGBM] [Warning] feature_fraction is set=0.5144765712814711, colsample_bytree=0.7 will be ignored. Current value: feature_fraction=0.5144765712814711\n",
      "[LightGBM] [Warning] bagging_fraction is set=0.6964181808467524, subsample=0.5 will be ignored. Current value: bagging_fraction=0.6964181808467524\n",
      "[LightGBM] [Warning] bagging_freq is set=4, subsample_freq=0 will be ignored. Current value: bagging_freq=4\n",
      "Training until validation scores don't improve for 100 rounds\n",
      "[100]\ttraining's l1: 1.02642\tvalid_1's l1: 0.873547\n",
      "[200]\ttraining's l1: 1.02273\tvalid_1's l1: 0.872482\n",
      "[300]\ttraining's l1: 1.02105\tvalid_1's l1: 0.873004\n",
      "Early stopping, best iteration is:\n",
      "[203]\ttraining's l1: 1.02196\tvalid_1's l1: 0.872412\n"
     ]
    },
    {
     "name": "stderr",
     "output_type": "stream",
     "text": [
      "\u001b[32m[I 2021-07-29 14:57:05,441]\u001b[0m Trial 60 finished with value: -0.872394768326793 and parameters: {'max_depth': 5, 'min_child_weight': 8, 'subsample': 0.5, 'colsample_bytree': 0.7, 'reg_lambda': 0.007710753336334509, 'reg_alpha': 0.486738309946855, 'feature_fraction': 0.5144765712814711, 'bagging_fraction': 0.6964181808467524, 'bagging_freq': 4, 'num_leaves': 869, 'min_child_samples': 69}. Best is trial 25 with value: -0.8689925338955111.\u001b[0m\n"
     ]
    },
    {
     "name": "stdout",
     "output_type": "stream",
     "text": [
      "[LightGBM] [Warning] feature_fraction is set=0.9169763686900267, colsample_bytree=0.6 will be ignored. Current value: feature_fraction=0.9169763686900267\n",
      "[LightGBM] [Warning] bagging_fraction is set=0.9999262967724813, subsample=0.7 will be ignored. Current value: bagging_fraction=0.9999262967724813\n",
      "[LightGBM] [Warning] bagging_freq is set=18, subsample_freq=0 will be ignored. Current value: bagging_freq=18\n",
      "Training until validation scores don't improve for 100 rounds\n",
      "[100]\ttraining's l1: 1.00536\tvalid_1's l1: 0.870762\n"
     ]
    },
    {
     "name": "stderr",
     "output_type": "stream",
     "text": [
      "\u001b[32m[I 2021-07-29 14:57:16,775]\u001b[0m Trial 61 finished with value: -0.8702668312779902 and parameters: {'max_depth': 9, 'min_child_weight': 14, 'subsample': 0.7, 'colsample_bytree': 0.6, 'reg_lambda': 0.0032663338621772534, 'reg_alpha': 0.020431239685266497, 'feature_fraction': 0.9169763686900267, 'bagging_fraction': 0.9999262967724813, 'bagging_freq': 18, 'num_leaves': 811, 'min_child_samples': 38}. Best is trial 25 with value: -0.8689925338955111.\u001b[0m\n"
     ]
    },
    {
     "name": "stdout",
     "output_type": "stream",
     "text": [
      "Early stopping, best iteration is:\n",
      "[92]\ttraining's l1: 1.00623\tvalid_1's l1: 0.870276\n",
      "[LightGBM] [Warning] feature_fraction is set=0.9987761250409357, colsample_bytree=0.6 will be ignored. Current value: feature_fraction=0.9987761250409357\n",
      "[LightGBM] [Warning] bagging_fraction is set=0.6703122935014988, subsample=0.7 will be ignored. Current value: bagging_fraction=0.6703122935014988\n",
      "[LightGBM] [Warning] bagging_freq is set=18, subsample_freq=0 will be ignored. Current value: bagging_freq=18\n",
      "Training until validation scores don't improve for 100 rounds\n",
      "[100]\ttraining's l1: 1.00432\tvalid_1's l1: 0.872426\n"
     ]
    },
    {
     "name": "stderr",
     "output_type": "stream",
     "text": [
      "\u001b[32m[I 2021-07-29 14:57:24,215]\u001b[0m Trial 62 finished with value: -0.8704325745309499 and parameters: {'max_depth': 9, 'min_child_weight': 12, 'subsample': 0.7, 'colsample_bytree': 0.6, 'reg_lambda': 0.006769850692078712, 'reg_alpha': 0.0023232858347801547, 'feature_fraction': 0.9987761250409357, 'bagging_fraction': 0.6703122935014988, 'bagging_freq': 18, 'num_leaves': 921, 'min_child_samples': 23}. Best is trial 25 with value: -0.8689925338955111.\u001b[0m\n"
     ]
    },
    {
     "name": "stdout",
     "output_type": "stream",
     "text": [
      "Early stopping, best iteration is:\n",
      "[43]\ttraining's l1: 1.01315\tvalid_1's l1: 0.870434\n",
      "[LightGBM] [Warning] feature_fraction is set=0.9667601956706569, colsample_bytree=0.5 will be ignored. Current value: feature_fraction=0.9667601956706569\n",
      "[LightGBM] [Warning] bagging_fraction is set=0.6243458967114436, subsample=0.7 will be ignored. Current value: bagging_fraction=0.6243458967114436\n",
      "[LightGBM] [Warning] bagging_freq is set=19, subsample_freq=0 will be ignored. Current value: bagging_freq=19\n",
      "Training until validation scores don't improve for 100 rounds\n",
      "[100]\ttraining's l1: 1.00105\tvalid_1's l1: 0.874479\n"
     ]
    },
    {
     "name": "stderr",
     "output_type": "stream",
     "text": [
      "\u001b[32m[I 2021-07-29 14:57:32,111]\u001b[0m Trial 63 finished with value: -0.8721251296154584 and parameters: {'max_depth': 10, 'min_child_weight': 16, 'subsample': 0.7, 'colsample_bytree': 0.5, 'reg_lambda': 0.03287232495573791, 'reg_alpha': 0.03752110984313273, 'feature_fraction': 0.9667601956706569, 'bagging_fraction': 0.6243458967114436, 'bagging_freq': 19, 'num_leaves': 724, 'min_child_samples': 54}. Best is trial 25 with value: -0.8689925338955111.\u001b[0m\n"
     ]
    },
    {
     "name": "stdout",
     "output_type": "stream",
     "text": [
      "Early stopping, best iteration is:\n",
      "[40]\ttraining's l1: 1.00936\tvalid_1's l1: 0.872127\n",
      "[LightGBM] [Warning] feature_fraction is set=0.6445896845445814, colsample_bytree=0.6 will be ignored. Current value: feature_fraction=0.6445896845445814\n",
      "[LightGBM] [Warning] bagging_fraction is set=0.8825668073421356, subsample=0.6 will be ignored. Current value: bagging_fraction=0.8825668073421356\n",
      "[LightGBM] [Warning] bagging_freq is set=17, subsample_freq=0 will be ignored. Current value: bagging_freq=17\n",
      "Training until validation scores don't improve for 100 rounds\n",
      "[100]\ttraining's l1: 1.00825\tvalid_1's l1: 0.875336\n"
     ]
    },
    {
     "name": "stderr",
     "output_type": "stream",
     "text": [
      "\u001b[32m[I 2021-07-29 14:57:39,319]\u001b[0m Trial 64 finished with value: -0.8696712611564084 and parameters: {'max_depth': 8, 'min_child_weight': 10, 'subsample': 0.6, 'colsample_bytree': 0.6, 'reg_lambda': 0.0028921418972798468, 'reg_alpha': 0.005852227077118631, 'feature_fraction': 0.6445896845445814, 'bagging_fraction': 0.8825668073421356, 'bagging_freq': 17, 'num_leaves': 579, 'min_child_samples': 18}. Best is trial 25 with value: -0.8689925338955111.\u001b[0m\n"
     ]
    },
    {
     "name": "stdout",
     "output_type": "stream",
     "text": [
      "Early stopping, best iteration is:\n",
      "[58]\ttraining's l1: 1.01267\tvalid_1's l1: 0.869676\n",
      "[LightGBM] [Warning] feature_fraction is set=0.6465555095381782, colsample_bytree=0.6 will be ignored. Current value: feature_fraction=0.6465555095381782\n",
      "[LightGBM] [Warning] bagging_fraction is set=0.8774483796092851, subsample=0.6 will be ignored. Current value: bagging_fraction=0.8774483796092851\n",
      "[LightGBM] [Warning] bagging_freq is set=16, subsample_freq=0 will be ignored. Current value: bagging_freq=16\n",
      "Training until validation scores don't improve for 100 rounds\n",
      "[100]\ttraining's l1: 1.01014\tvalid_1's l1: 0.870312\n"
     ]
    },
    {
     "name": "stderr",
     "output_type": "stream",
     "text": [
      "\u001b[32m[I 2021-07-29 14:57:46,367]\u001b[0m Trial 65 finished with value: -0.8686310262944106 and parameters: {'max_depth': 8, 'min_child_weight': 10, 'subsample': 0.6, 'colsample_bytree': 0.6, 'reg_lambda': 0.0013224163598615835, 'reg_alpha': 0.001228991055940613, 'feature_fraction': 0.6465555095381782, 'bagging_fraction': 0.8774483796092851, 'bagging_freq': 16, 'num_leaves': 515, 'min_child_samples': 92}. Best is trial 65 with value: -0.8686310262944106.\u001b[0m\n"
     ]
    },
    {
     "name": "stdout",
     "output_type": "stream",
     "text": [
      "Early stopping, best iteration is:\n",
      "[56]\ttraining's l1: 1.01587\tvalid_1's l1: 0.868632\n",
      "[LightGBM] [Warning] feature_fraction is set=0.6578604816499241, colsample_bytree=0.6 will be ignored. Current value: feature_fraction=0.6578604816499241\n",
      "[LightGBM] [Warning] bagging_fraction is set=0.8910430621831283, subsample=0.6 will be ignored. Current value: bagging_fraction=0.8910430621831283\n",
      "[LightGBM] [Warning] bagging_freq is set=17, subsample_freq=0 will be ignored. Current value: bagging_freq=17\n",
      "Training until validation scores don't improve for 100 rounds\n",
      "[100]\ttraining's l1: 1.01639\tvalid_1's l1: 0.870796\n",
      "[200]\ttraining's l1: 1.01197\tvalid_1's l1: 0.87125\n"
     ]
    },
    {
     "name": "stderr",
     "output_type": "stream",
     "text": [
      "\u001b[32m[I 2021-07-29 14:57:54,746]\u001b[0m Trial 66 finished with value: -0.870463137197792 and parameters: {'max_depth': 7, 'min_child_weight': 10, 'subsample': 0.6, 'colsample_bytree': 0.6, 'reg_lambda': 0.001294562913794055, 'reg_alpha': 0.0010697942391775209, 'feature_fraction': 0.6578604816499241, 'bagging_fraction': 0.8910430621831283, 'bagging_freq': 17, 'num_leaves': 594, 'min_child_samples': 5}. Best is trial 65 with value: -0.8686310262944106.\u001b[0m\n"
     ]
    },
    {
     "name": "stdout",
     "output_type": "stream",
     "text": [
      "Early stopping, best iteration is:\n",
      "[121]\ttraining's l1: 1.01479\tvalid_1's l1: 0.870479\n",
      "[LightGBM] [Warning] feature_fraction is set=0.707079895936899, colsample_bytree=0.6 will be ignored. Current value: feature_fraction=0.707079895936899\n",
      "[LightGBM] [Warning] bagging_fraction is set=0.8233551625636564, subsample=0.6 will be ignored. Current value: bagging_fraction=0.8233551625636564\n",
      "[LightGBM] [Warning] bagging_freq is set=16, subsample_freq=0 will be ignored. Current value: bagging_freq=16\n",
      "Training until validation scores don't improve for 100 rounds\n",
      "[100]\ttraining's l1: 1.01141\tvalid_1's l1: 0.871104\n"
     ]
    },
    {
     "name": "stderr",
     "output_type": "stream",
     "text": [
      "\u001b[32m[I 2021-07-29 14:58:01,369]\u001b[0m Trial 67 finished with value: -0.8703873650725333 and parameters: {'max_depth': 8, 'min_child_weight': 9, 'subsample': 0.6, 'colsample_bytree': 0.6, 'reg_lambda': 0.0023723144557898485, 'reg_alpha': 0.004354930221400541, 'feature_fraction': 0.707079895936899, 'bagging_fraction': 0.8233551625636564, 'bagging_freq': 16, 'num_leaves': 542, 'min_child_samples': 91}. Best is trial 65 with value: -0.8686310262944106.\u001b[0m\n"
     ]
    },
    {
     "name": "stdout",
     "output_type": "stream",
     "text": [
      "Early stopping, best iteration is:\n",
      "[49]\ttraining's l1: 1.01657\tvalid_1's l1: 0.870388\n",
      "[LightGBM] [Warning] feature_fraction is set=0.643445217608507, colsample_bytree=0.6 will be ignored. Current value: feature_fraction=0.643445217608507\n",
      "[LightGBM] [Warning] bagging_fraction is set=0.867070969628965, subsample=0.6 will be ignored. Current value: bagging_fraction=0.867070969628965\n",
      "[LightGBM] [Warning] bagging_freq is set=15, subsample_freq=0 will be ignored. Current value: bagging_freq=15\n",
      "Training until validation scores don't improve for 100 rounds\n",
      "[100]\ttraining's l1: 1.02294\tvalid_1's l1: 0.872223\n",
      "[200]\ttraining's l1: 1.01842\tvalid_1's l1: 0.872562\n"
     ]
    },
    {
     "name": "stderr",
     "output_type": "stream",
     "text": [
      "\u001b[32m[I 2021-07-29 14:58:09,742]\u001b[0m Trial 68 finished with value: -0.8717575914713145 and parameters: {'max_depth': 6, 'min_child_weight': 8, 'subsample': 0.6, 'colsample_bytree': 0.6, 'reg_lambda': 0.0010027688642958428, 'reg_alpha': 0.0015042198664060452, 'feature_fraction': 0.643445217608507, 'bagging_fraction': 0.867070969628965, 'bagging_freq': 15, 'num_leaves': 514, 'min_child_samples': 87}. Best is trial 65 with value: -0.8686310262944106.\u001b[0m\n"
     ]
    },
    {
     "name": "stdout",
     "output_type": "stream",
     "text": [
      "Early stopping, best iteration is:\n",
      "[153]\ttraining's l1: 1.02052\tvalid_1's l1: 0.871779\n",
      "[LightGBM] [Warning] feature_fraction is set=0.751792717296637, colsample_bytree=0.6 will be ignored. Current value: feature_fraction=0.751792717296637\n",
      "[LightGBM] [Warning] bagging_fraction is set=0.779152189874144, subsample=0.5 will be ignored. Current value: bagging_fraction=0.779152189874144\n",
      "[LightGBM] [Warning] bagging_freq is set=16, subsample_freq=0 will be ignored. Current value: bagging_freq=16\n",
      "Training until validation scores don't improve for 100 rounds\n",
      "[100]\ttraining's l1: 0.999783\tvalid_1's l1: 0.885535\n"
     ]
    },
    {
     "name": "stderr",
     "output_type": "stream",
     "text": [
      "\u001b[32m[I 2021-07-29 14:58:17,147]\u001b[0m Trial 69 finished with value: -0.8763764867604653 and parameters: {'max_depth': 11, 'min_child_weight': 10, 'subsample': 0.5, 'colsample_bytree': 0.6, 'reg_lambda': 533.3731242192574, 'reg_alpha': 0.002185224349477725, 'feature_fraction': 0.751792717296637, 'bagging_fraction': 0.779152189874144, 'bagging_freq': 16, 'num_leaves': 355, 'min_child_samples': 80}. Best is trial 65 with value: -0.8686310262944106.\u001b[0m\n"
     ]
    },
    {
     "name": "stdout",
     "output_type": "stream",
     "text": [
      "Early stopping, best iteration is:\n",
      "[35]\ttraining's l1: 1.01897\tvalid_1's l1: 0.87638\n",
      "[LightGBM] [Warning] feature_fraction is set=0.6877698264341361, colsample_bytree=0.5 will be ignored. Current value: feature_fraction=0.6877698264341361\n",
      "[LightGBM] [Warning] bagging_fraction is set=0.9581272760244074, subsample=0.6 will be ignored. Current value: bagging_fraction=0.9581272760244074\n",
      "[LightGBM] [Warning] bagging_freq is set=14, subsample_freq=0 will be ignored. Current value: bagging_freq=14\n",
      "Training until validation scores don't improve for 100 rounds\n",
      "[100]\ttraining's l1: 1.013\tvalid_1's l1: 0.872993\n",
      "[200]\ttraining's l1: 1.01007\tvalid_1's l1: 0.873726\n"
     ]
    },
    {
     "name": "stderr",
     "output_type": "stream",
     "text": [
      "\u001b[32m[I 2021-07-29 14:58:26,422]\u001b[0m Trial 70 finished with value: -0.8727255160388684 and parameters: {'max_depth': 8, 'min_child_weight': 11, 'subsample': 0.6, 'colsample_bytree': 0.5, 'reg_lambda': 71.27004062159, 'reg_alpha': 0.007786129707332376, 'feature_fraction': 0.6877698264341361, 'bagging_fraction': 0.9581272760244074, 'bagging_freq': 14, 'num_leaves': 456, 'min_child_samples': 98}. Best is trial 65 with value: -0.8686310262944106.\u001b[0m\n"
     ]
    },
    {
     "name": "stdout",
     "output_type": "stream",
     "text": [
      "Early stopping, best iteration is:\n",
      "[111]\ttraining's l1: 1.01235\tvalid_1's l1: 0.872734\n",
      "[LightGBM] [Warning] feature_fraction is set=0.6029561132313663, colsample_bytree=0.6 will be ignored. Current value: feature_fraction=0.6029561132313663\n",
      "[LightGBM] [Warning] bagging_fraction is set=0.8086167121806793, subsample=0.6 will be ignored. Current value: bagging_fraction=0.8086167121806793\n",
      "[LightGBM] [Warning] bagging_freq is set=13, subsample_freq=0 will be ignored. Current value: bagging_freq=13\n",
      "Training until validation scores don't improve for 100 rounds\n",
      "[100]\ttraining's l1: 0.998547\tvalid_1's l1: 0.875338\n"
     ]
    },
    {
     "name": "stderr",
     "output_type": "stream",
     "text": [
      "\u001b[32m[I 2021-07-29 14:58:35,064]\u001b[0m Trial 71 finished with value: -0.8698102188188898 and parameters: {'max_depth': 10, 'min_child_weight': 2, 'subsample': 0.6, 'colsample_bytree': 0.6, 'reg_lambda': 0.004087178597411664, 'reg_alpha': 0.005121663955278192, 'feature_fraction': 0.6029561132313663, 'bagging_fraction': 0.8086167121806793, 'bagging_freq': 13, 'num_leaves': 655, 'min_child_samples': 94}. Best is trial 65 with value: -0.8686310262944106.\u001b[0m\n"
     ]
    },
    {
     "name": "stdout",
     "output_type": "stream",
     "text": [
      "Early stopping, best iteration is:\n",
      "[23]\ttraining's l1: 1.01453\tvalid_1's l1: 0.86981\n",
      "[LightGBM] [Warning] feature_fraction is set=0.5606710917475757, colsample_bytree=0.6 will be ignored. Current value: feature_fraction=0.5606710917475757\n",
      "[LightGBM] [Warning] bagging_fraction is set=0.9105100821894317, subsample=0.6 will be ignored. Current value: bagging_fraction=0.9105100821894317\n",
      "[LightGBM] [Warning] bagging_freq is set=17, subsample_freq=0 will be ignored. Current value: bagging_freq=17\n",
      "Training until validation scores don't improve for 100 rounds\n",
      "[100]\ttraining's l1: 0.997669\tvalid_1's l1: 0.874638\n"
     ]
    },
    {
     "name": "stderr",
     "output_type": "stream",
     "text": [
      "\u001b[32m[I 2021-07-29 14:58:43,870]\u001b[0m Trial 72 finished with value: -0.8699473621534622 and parameters: {'max_depth': 10, 'min_child_weight': 2, 'subsample': 0.6, 'colsample_bytree': 0.6, 'reg_lambda': 0.004051518118422967, 'reg_alpha': 0.005015473842566741, 'feature_fraction': 0.5606710917475757, 'bagging_fraction': 0.9105100821894317, 'bagging_freq': 17, 'num_leaves': 574, 'min_child_samples': 93}. Best is trial 65 with value: -0.8686310262944106.\u001b[0m\n"
     ]
    },
    {
     "name": "stdout",
     "output_type": "stream",
     "text": [
      "Early stopping, best iteration is:\n",
      "[23]\ttraining's l1: 1.01375\tvalid_1's l1: 0.869947\n",
      "[LightGBM] [Warning] feature_fraction is set=0.5061238471253156, colsample_bytree=0.6 will be ignored. Current value: feature_fraction=0.5061238471253156\n",
      "[LightGBM] [Warning] bagging_fraction is set=0.8474836477063272, subsample=0.6 will be ignored. Current value: bagging_fraction=0.8474836477063272\n",
      "[LightGBM] [Warning] bagging_freq is set=20, subsample_freq=0 will be ignored. Current value: bagging_freq=20\n",
      "Training until validation scores don't improve for 100 rounds\n",
      "[100]\ttraining's l1: 0.993927\tvalid_1's l1: 0.878036\n"
     ]
    },
    {
     "name": "stderr",
     "output_type": "stream",
     "text": [
      "\u001b[32m[I 2021-07-29 14:58:52,533]\u001b[0m Trial 73 finished with value: -0.8715241452557139 and parameters: {'max_depth': 11, 'min_child_weight': 1, 'subsample': 0.6, 'colsample_bytree': 0.6, 'reg_lambda': 0.004216374433708825, 'reg_alpha': 0.005144624616033196, 'feature_fraction': 0.5061238471253156, 'bagging_fraction': 0.8474836477063272, 'bagging_freq': 20, 'num_leaves': 576, 'min_child_samples': 92}. Best is trial 65 with value: -0.8686310262944106.\u001b[0m\n"
     ]
    },
    {
     "name": "stdout",
     "output_type": "stream",
     "text": [
      "Early stopping, best iteration is:\n",
      "[23]\ttraining's l1: 1.01348\tvalid_1's l1: 0.871524\n",
      "[LightGBM] [Warning] feature_fraction is set=0.5660519262030972, colsample_bytree=0.6 will be ignored. Current value: feature_fraction=0.5660519262030972\n",
      "[LightGBM] [Warning] bagging_fraction is set=0.915489405419456, subsample=0.6 will be ignored. Current value: bagging_fraction=0.915489405419456\n",
      "[LightGBM] [Warning] bagging_freq is set=17, subsample_freq=0 will be ignored. Current value: bagging_freq=17\n",
      "Training until validation scores don't improve for 100 rounds\n",
      "[100]\ttraining's l1: 0.984977\tvalid_1's l1: 0.891334\n"
     ]
    },
    {
     "name": "stderr",
     "output_type": "stream",
     "text": [
      "\u001b[32m[I 2021-07-29 14:59:03,514]\u001b[0m Trial 74 finished with value: -0.8735323878434116 and parameters: {'max_depth': 13, 'min_child_weight': 2, 'subsample': 0.6, 'colsample_bytree': 0.6, 'reg_lambda': 0.0016669209189960513, 'reg_alpha': 0.005815089587531803, 'feature_fraction': 0.5660519262030972, 'bagging_fraction': 0.915489405419456, 'bagging_freq': 17, 'num_leaves': 662, 'min_child_samples': 18}. Best is trial 65 with value: -0.8686310262944106.\u001b[0m\n"
     ]
    },
    {
     "name": "stdout",
     "output_type": "stream",
     "text": [
      "Early stopping, best iteration is:\n",
      "[19]\ttraining's l1: 1.01729\tvalid_1's l1: 0.873533\n",
      "[LightGBM] [Warning] feature_fraction is set=0.48083521476050106, colsample_bytree=0.6 will be ignored. Current value: feature_fraction=0.48083521476050106\n",
      "[LightGBM] [Warning] bagging_fraction is set=0.8848252561804673, subsample=0.6 will be ignored. Current value: bagging_fraction=0.8848252561804673\n",
      "[LightGBM] [Warning] bagging_freq is set=16, subsample_freq=0 will be ignored. Current value: bagging_freq=16\n",
      "Training until validation scores don't improve for 100 rounds\n",
      "[100]\ttraining's l1: 0.997423\tvalid_1's l1: 0.880298\n"
     ]
    },
    {
     "name": "stderr",
     "output_type": "stream",
     "text": [
      "\u001b[32m[I 2021-07-29 14:59:11,777]\u001b[0m Trial 75 finished with value: -0.8717214525225179 and parameters: {'max_depth': 10, 'min_child_weight': 4, 'subsample': 0.6, 'colsample_bytree': 0.6, 'reg_lambda': 0.0029356598346360757, 'reg_alpha': 0.0028721729417563163, 'feature_fraction': 0.48083521476050106, 'bagging_fraction': 0.8848252561804673, 'bagging_freq': 16, 'num_leaves': 629, 'min_child_samples': 88}. Best is trial 65 with value: -0.8686310262944106.\u001b[0m\n"
     ]
    },
    {
     "name": "stdout",
     "output_type": "stream",
     "text": [
      "Early stopping, best iteration is:\n",
      "[23]\ttraining's l1: 1.01689\tvalid_1's l1: 0.871722\n",
      "[LightGBM] [Warning] feature_fraction is set=0.6663431647165884, colsample_bytree=0.6 will be ignored. Current value: feature_fraction=0.6663431647165884\n",
      "[LightGBM] [Warning] bagging_fraction is set=0.8167369137582173, subsample=0.6 will be ignored. Current value: bagging_fraction=0.8167369137582173\n",
      "[LightGBM] [Warning] bagging_freq is set=19, subsample_freq=0 will be ignored. Current value: bagging_freq=19\n",
      "Training until validation scores don't improve for 100 rounds\n",
      "[100]\ttraining's l1: 0.992483\tvalid_1's l1: 0.880529\n"
     ]
    },
    {
     "name": "stderr",
     "output_type": "stream",
     "text": [
      "\u001b[32m[I 2021-07-29 14:59:19,800]\u001b[0m Trial 76 finished with value: -0.8729598830537741 and parameters: {'max_depth': 12, 'min_child_weight': 1, 'subsample': 0.6, 'colsample_bytree': 0.6, 'reg_lambda': 0.0014964692192545792, 'reg_alpha': 0.010143951447016632, 'feature_fraction': 0.6663431647165884, 'bagging_fraction': 0.8167369137582173, 'bagging_freq': 19, 'num_leaves': 566, 'min_child_samples': 93}. Best is trial 65 with value: -0.8686310262944106.\u001b[0m\n"
     ]
    },
    {
     "name": "stdout",
     "output_type": "stream",
     "text": [
      "Early stopping, best iteration is:\n",
      "[20]\ttraining's l1: 1.01684\tvalid_1's l1: 0.87296\n",
      "[LightGBM] [Warning] feature_fraction is set=0.7675444880239706, colsample_bytree=0.6 will be ignored. Current value: feature_fraction=0.7675444880239706\n",
      "[LightGBM] [Warning] bagging_fraction is set=0.8602154660112199, subsample=0.5 will be ignored. Current value: bagging_fraction=0.8602154660112199\n",
      "[LightGBM] [Warning] bagging_freq is set=15, subsample_freq=0 will be ignored. Current value: bagging_freq=15\n",
      "Training until validation scores don't improve for 100 rounds\n",
      "[100]\ttraining's l1: 0.999532\tvalid_1's l1: 0.873099\n"
     ]
    },
    {
     "name": "stderr",
     "output_type": "stream",
     "text": [
      "\u001b[32m[I 2021-07-29 14:59:29,286]\u001b[0m Trial 77 finished with value: -0.8708053981450166 and parameters: {'max_depth': 10, 'min_child_weight': 3, 'subsample': 0.5, 'colsample_bytree': 0.6, 'reg_lambda': 0.004546554393092719, 'reg_alpha': 0.0014191080874427881, 'feature_fraction': 0.7675444880239706, 'bagging_fraction': 0.8602154660112199, 'bagging_freq': 15, 'num_leaves': 488, 'min_child_samples': 83}. Best is trial 65 with value: -0.8686310262944106.\u001b[0m\n"
     ]
    },
    {
     "name": "stdout",
     "output_type": "stream",
     "text": [
      "Early stopping, best iteration is:\n",
      "[64]\ttraining's l1: 1.00367\tvalid_1's l1: 0.87081\n",
      "[LightGBM] [Warning] feature_fraction is set=0.5829404656707189, colsample_bytree=0.6 will be ignored. Current value: feature_fraction=0.5829404656707189\n",
      "[LightGBM] [Warning] bagging_fraction is set=0.8037425176937311, subsample=0.7 will be ignored. Current value: bagging_fraction=0.8037425176937311\n",
      "[LightGBM] [Warning] bagging_freq is set=17, subsample_freq=0 will be ignored. Current value: bagging_freq=17\n",
      "Training until validation scores don't improve for 100 rounds\n",
      "[100]\ttraining's l1: 1.00388\tvalid_1's l1: 0.873756\n"
     ]
    },
    {
     "name": "stderr",
     "output_type": "stream",
     "text": [
      "\u001b[32m[I 2021-07-29 14:59:37,470]\u001b[0m Trial 78 finished with value: -0.8724570953742153 and parameters: {'max_depth': 9, 'min_child_weight': 2, 'subsample': 0.7, 'colsample_bytree': 0.6, 'reg_lambda': 0.012332105148596792, 'reg_alpha': 0.003805901138985536, 'feature_fraction': 0.5829404656707189, 'bagging_fraction': 0.8037425176937311, 'bagging_freq': 17, 'num_leaves': 694, 'min_child_samples': 100}. Best is trial 65 with value: -0.8686310262944106.\u001b[0m\n"
     ]
    },
    {
     "name": "stdout",
     "output_type": "stream",
     "text": [
      "Early stopping, best iteration is:\n",
      "[31]\ttraining's l1: 1.01578\tvalid_1's l1: 0.872457\n",
      "[LightGBM] [Warning] feature_fraction is set=0.7190932060418102, colsample_bytree=0.5 will be ignored. Current value: feature_fraction=0.7190932060418102\n",
      "[LightGBM] [Warning] bagging_fraction is set=0.9775483419790743, subsample=0.6 will be ignored. Current value: bagging_fraction=0.9775483419790743\n",
      "[LightGBM] [Warning] bagging_freq is set=17, subsample_freq=0 will be ignored. Current value: bagging_freq=17\n",
      "Training until validation scores don't improve for 100 rounds\n",
      "[100]\ttraining's l1: 0.996434\tvalid_1's l1: 0.882421\n"
     ]
    },
    {
     "name": "stderr",
     "output_type": "stream",
     "text": [
      "\u001b[32m[I 2021-07-29 14:59:45,748]\u001b[0m Trial 79 finished with value: -0.8751064474109304 and parameters: {'max_depth': 12, 'min_child_weight': 4, 'subsample': 0.6, 'colsample_bytree': 0.5, 'reg_lambda': 0.0010033802203942438, 'reg_alpha': 0.0018382494704543186, 'feature_fraction': 0.7190932060418102, 'bagging_fraction': 0.9775483419790743, 'bagging_freq': 17, 'num_leaves': 421, 'min_child_samples': 97}. Best is trial 65 with value: -0.8686310262944106.\u001b[0m\n"
     ]
    },
    {
     "name": "stdout",
     "output_type": "stream",
     "text": [
      "Early stopping, best iteration is:\n",
      "[18]\ttraining's l1: 1.02314\tvalid_1's l1: 0.875107\n",
      "[LightGBM] [Warning] feature_fraction is set=0.45039815860376087, colsample_bytree=0.6 will be ignored. Current value: feature_fraction=0.45039815860376087\n",
      "[LightGBM] [Warning] bagging_fraction is set=0.9129201297342193, subsample=0.7 will be ignored. Current value: bagging_fraction=0.9129201297342193\n",
      "[LightGBM] [Warning] bagging_freq is set=10, subsample_freq=0 will be ignored. Current value: bagging_freq=10\n",
      "Training until validation scores don't improve for 100 rounds\n",
      "[100]\ttraining's l1: 1.00909\tvalid_1's l1: 0.871164\n"
     ]
    },
    {
     "name": "stderr",
     "output_type": "stream",
     "text": [
      "\u001b[32m[I 2021-07-29 14:59:53,994]\u001b[0m Trial 80 finished with value: -0.8696126855996245 and parameters: {'max_depth': 8, 'min_child_weight': 3, 'subsample': 0.7, 'colsample_bytree': 0.6, 'reg_lambda': 0.0024618794148174726, 'reg_alpha': 0.00651414274898312, 'feature_fraction': 0.45039815860376087, 'bagging_fraction': 0.9129201297342193, 'bagging_freq': 10, 'num_leaves': 636, 'min_child_samples': 94}. Best is trial 65 with value: -0.8686310262944106.\u001b[0m\n"
     ]
    },
    {
     "name": "stdout",
     "output_type": "stream",
     "text": [
      "Early stopping, best iteration is:\n",
      "[66]\ttraining's l1: 1.01332\tvalid_1's l1: 0.869622\n",
      "[LightGBM] [Warning] feature_fraction is set=0.22679043192166637, colsample_bytree=0.6 will be ignored. Current value: feature_fraction=0.22679043192166637\n",
      "[LightGBM] [Warning] bagging_fraction is set=0.9047298278656788, subsample=0.7 will be ignored. Current value: bagging_fraction=0.9047298278656788\n",
      "[LightGBM] [Warning] bagging_freq is set=9, subsample_freq=0 will be ignored. Current value: bagging_freq=9\n",
      "Training until validation scores don't improve for 100 rounds\n",
      "[100]\ttraining's l1: 1.00704\tvalid_1's l1: 0.873413\n"
     ]
    },
    {
     "name": "stderr",
     "output_type": "stream",
     "text": [
      "\u001b[32m[I 2021-07-29 15:00:00,221]\u001b[0m Trial 81 finished with value: -0.8721216893713822 and parameters: {'max_depth': 8, 'min_child_weight': 3, 'subsample': 0.7, 'colsample_bytree': 0.6, 'reg_lambda': 0.0026146925653715235, 'reg_alpha': 0.006731794055367564, 'feature_fraction': 0.22679043192166637, 'bagging_fraction': 0.9047298278656788, 'bagging_freq': 9, 'num_leaves': 642, 'min_child_samples': 94}. Best is trial 65 with value: -0.8686310262944106.\u001b[0m\n"
     ]
    },
    {
     "name": "stdout",
     "output_type": "stream",
     "text": [
      "Early stopping, best iteration is:\n",
      "[47]\ttraining's l1: 1.01478\tvalid_1's l1: 0.872125\n",
      "[LightGBM] [Warning] feature_fraction is set=0.44547199172655927, colsample_bytree=0.6 will be ignored. Current value: feature_fraction=0.44547199172655927\n",
      "[LightGBM] [Warning] bagging_fraction is set=0.9509566833095537, subsample=0.7 will be ignored. Current value: bagging_fraction=0.9509566833095537\n",
      "[LightGBM] [Warning] bagging_freq is set=12, subsample_freq=0 will be ignored. Current value: bagging_freq=12\n",
      "Training until validation scores don't improve for 100 rounds\n",
      "[100]\ttraining's l1: 1.01612\tvalid_1's l1: 0.871054\n"
     ]
    },
    {
     "name": "stderr",
     "output_type": "stream",
     "text": [
      "\u001b[32m[I 2021-07-29 15:00:08,399]\u001b[0m Trial 82 finished with value: -0.8706788248121534 and parameters: {'max_depth': 7, 'min_child_weight': 2, 'subsample': 0.7, 'colsample_bytree': 0.6, 'reg_lambda': 0.007221994515514913, 'reg_alpha': 0.01711727105910448, 'feature_fraction': 0.44547199172655927, 'bagging_fraction': 0.9509566833095537, 'bagging_freq': 12, 'num_leaves': 534, 'min_child_samples': 90}. Best is trial 65 with value: -0.8686310262944106.\u001b[0m\n"
     ]
    },
    {
     "name": "stdout",
     "output_type": "stream",
     "text": [
      "Early stopping, best iteration is:\n",
      "[80]\ttraining's l1: 1.017\tvalid_1's l1: 0.87069\n",
      "[LightGBM] [Warning] feature_fraction is set=0.34164018310217603, colsample_bytree=0.6 will be ignored. Current value: feature_fraction=0.34164018310217603\n",
      "[LightGBM] [Warning] bagging_fraction is set=0.8741935347122815, subsample=0.7 will be ignored. Current value: bagging_fraction=0.8741935347122815\n",
      "[LightGBM] [Warning] bagging_freq is set=10, subsample_freq=0 will be ignored. Current value: bagging_freq=10\n",
      "Training until validation scores don't improve for 100 rounds\n",
      "[100]\ttraining's l1: 1.00165\tvalid_1's l1: 0.877012\n"
     ]
    },
    {
     "name": "stderr",
     "output_type": "stream",
     "text": [
      "\u001b[32m[I 2021-07-29 15:00:15,858]\u001b[0m Trial 83 finished with value: -0.8734085089751855 and parameters: {'max_depth': 9, 'min_child_weight': 1, 'subsample': 0.7, 'colsample_bytree': 0.6, 'reg_lambda': 0.0022768147515623547, 'reg_alpha': 0.0010046784308758952, 'feature_fraction': 0.34164018310217603, 'bagging_fraction': 0.8741935347122815, 'bagging_freq': 10, 'num_leaves': 595, 'min_child_samples': 86}. Best is trial 65 with value: -0.8686310262944106.\u001b[0m\n"
     ]
    },
    {
     "name": "stdout",
     "output_type": "stream",
     "text": [
      "Early stopping, best iteration is:\n",
      "[47]\ttraining's l1: 1.01015\tvalid_1's l1: 0.87341\n",
      "[LightGBM] [Warning] feature_fraction is set=0.2716209406797961, colsample_bytree=0.6 will be ignored. Current value: feature_fraction=0.2716209406797961\n",
      "[LightGBM] [Warning] bagging_fraction is set=0.838918388597831, subsample=0.6 will be ignored. Current value: bagging_fraction=0.838918388597831\n",
      "[LightGBM] [Warning] bagging_freq is set=8, subsample_freq=0 will be ignored. Current value: bagging_freq=8\n",
      "Training until validation scores don't improve for 100 rounds\n",
      "[100]\ttraining's l1: 0.997061\tvalid_1's l1: 0.881513\n"
     ]
    },
    {
     "name": "stderr",
     "output_type": "stream",
     "text": [
      "\u001b[32m[I 2021-07-29 15:00:22,672]\u001b[0m Trial 84 finished with value: -0.8741378327692844 and parameters: {'max_depth': 10, 'min_child_weight': 3, 'subsample': 0.6, 'colsample_bytree': 0.6, 'reg_lambda': 0.003774835126235476, 'reg_alpha': 0.01098859413174684, 'feature_fraction': 0.2716209406797961, 'bagging_fraction': 0.838918388597831, 'bagging_freq': 8, 'num_leaves': 669, 'min_child_samples': 100}. Best is trial 65 with value: -0.8686310262944106.\u001b[0m\n"
     ]
    },
    {
     "name": "stdout",
     "output_type": "stream",
     "text": [
      "Early stopping, best iteration is:\n",
      "[27]\ttraining's l1: 1.01702\tvalid_1's l1: 0.874138\n",
      "[LightGBM] [Warning] feature_fraction is set=0.4512249102574069, colsample_bytree=0.6 will be ignored. Current value: feature_fraction=0.4512249102574069\n",
      "[LightGBM] [Warning] bagging_fraction is set=0.9248786050991649, subsample=0.7 will be ignored. Current value: bagging_fraction=0.9248786050991649\n",
      "[LightGBM] [Warning] bagging_freq is set=11, subsample_freq=0 will be ignored. Current value: bagging_freq=11\n",
      "Training until validation scores don't improve for 100 rounds\n",
      "[100]\ttraining's l1: 0.992746\tvalid_1's l1: 0.878531\n"
     ]
    },
    {
     "name": "stderr",
     "output_type": "stream",
     "text": [
      "\u001b[32m[I 2021-07-29 15:00:31,688]\u001b[0m Trial 85 finished with value: -0.8711440300977642 and parameters: {'max_depth': 11, 'min_child_weight': 2, 'subsample': 0.7, 'colsample_bytree': 0.6, 'reg_lambda': 0.005110162067514781, 'reg_alpha': 0.0030952117302206227, 'feature_fraction': 0.4512249102574069, 'bagging_fraction': 0.9248786050991649, 'bagging_freq': 11, 'num_leaves': 618, 'min_child_samples': 79}. Best is trial 65 with value: -0.8686310262944106.\u001b[0m\n"
     ]
    },
    {
     "name": "stdout",
     "output_type": "stream",
     "text": [
      "Early stopping, best iteration is:\n",
      "[26]\ttraining's l1: 1.01032\tvalid_1's l1: 0.871145\n",
      "[LightGBM] [Warning] feature_fraction is set=0.5956221266304884, colsample_bytree=0.6 will be ignored. Current value: feature_fraction=0.5956221266304884\n",
      "[LightGBM] [Warning] bagging_fraction is set=0.9049995701568812, subsample=0.6 will be ignored. Current value: bagging_fraction=0.9049995701568812\n",
      "[LightGBM] [Warning] bagging_freq is set=16, subsample_freq=0 will be ignored. Current value: bagging_freq=16\n",
      "Training until validation scores don't improve for 100 rounds\n",
      "[100]\ttraining's l1: 1.0038\tvalid_1's l1: 0.871281\n"
     ]
    },
    {
     "name": "stderr",
     "output_type": "stream",
     "text": [
      "\u001b[32m[I 2021-07-29 15:00:43,347]\u001b[0m Trial 86 finished with value: -0.871142270875763 and parameters: {'max_depth': 9, 'min_child_weight': 4, 'subsample': 0.6, 'colsample_bytree': 0.6, 'reg_lambda': 0.0014360771399967933, 'reg_alpha': 0.009282510659810462, 'feature_fraction': 0.5956221266304884, 'bagging_fraction': 0.9049995701568812, 'bagging_freq': 16, 'num_leaves': 505, 'min_child_samples': 95}. Best is trial 65 with value: -0.8686310262944106.\u001b[0m\n"
     ]
    },
    {
     "name": "stdout",
     "output_type": "stream",
     "text": [
      "Early stopping, best iteration is:\n",
      "[94]\ttraining's l1: 1.00458\tvalid_1's l1: 0.871159\n",
      "[LightGBM] [Warning] feature_fraction is set=0.639005329849707, colsample_bytree=0.6 will be ignored. Current value: feature_fraction=0.639005329849707\n",
      "[LightGBM] [Warning] bagging_fraction is set=0.7609363352764316, subsample=0.6 will be ignored. Current value: bagging_fraction=0.7609363352764316\n",
      "[LightGBM] [Warning] bagging_freq is set=9, subsample_freq=0 will be ignored. Current value: bagging_freq=9\n",
      "Training until validation scores don't improve for 100 rounds\n",
      "[100]\ttraining's l1: 1.01028\tvalid_1's l1: 0.87354\n"
     ]
    },
    {
     "name": "stderr",
     "output_type": "stream",
     "text": [
      "\u001b[32m[I 2021-07-29 15:00:49,755]\u001b[0m Trial 87 finished with value: -0.8717763446563583 and parameters: {'max_depth': 8, 'min_child_weight': 1, 'subsample': 0.6, 'colsample_bytree': 0.6, 'reg_lambda': 0.002727256697423148, 'reg_alpha': 0.04132860375342184, 'feature_fraction': 0.639005329849707, 'bagging_fraction': 0.7609363352764316, 'bagging_freq': 9, 'num_leaves': 440, 'min_child_samples': 92}. Best is trial 65 with value: -0.8686310262944106.\u001b[0m\n"
     ]
    },
    {
     "name": "stdout",
     "output_type": "stream",
     "text": [
      "Early stopping, best iteration is:\n",
      "[51]\ttraining's l1: 1.01623\tvalid_1's l1: 0.871778\n",
      "[LightGBM] [Warning] feature_fraction is set=0.3716052482130209, colsample_bytree=0.6 will be ignored. Current value: feature_fraction=0.3716052482130209\n",
      "[LightGBM] [Warning] bagging_fraction is set=0.7300049616964767, subsample=0.7 will be ignored. Current value: bagging_fraction=0.7300049616964767\n",
      "[LightGBM] [Warning] bagging_freq is set=18, subsample_freq=0 will be ignored. Current value: bagging_freq=18\n",
      "Training until validation scores don't improve for 100 rounds\n",
      "[100]\ttraining's l1: 1.01423\tvalid_1's l1: 0.871264\n"
     ]
    },
    {
     "name": "stderr",
     "output_type": "stream",
     "text": [
      "\u001b[32m[I 2021-07-29 15:00:55,830]\u001b[0m Trial 88 finished with value: -0.8698026479114009 and parameters: {'max_depth': 7, 'min_child_weight': 6, 'subsample': 0.7, 'colsample_bytree': 0.6, 'reg_lambda': 0.010816472990017019, 'reg_alpha': 0.005633058443874607, 'feature_fraction': 0.3716052482130209, 'bagging_fraction': 0.7300049616964767, 'bagging_freq': 18, 'num_leaves': 701, 'min_child_samples': 88}. Best is trial 65 with value: -0.8686310262944106.\u001b[0m\n"
     ]
    },
    {
     "name": "stdout",
     "output_type": "stream",
     "text": [
      "Early stopping, best iteration is:\n",
      "[60]\ttraining's l1: 1.01796\tvalid_1's l1: 0.869826\n",
      "[LightGBM] [Warning] feature_fraction is set=0.37147206542686595, colsample_bytree=0.6 will be ignored. Current value: feature_fraction=0.37147206542686595\n",
      "[LightGBM] [Warning] bagging_fraction is set=0.8310694391915481, subsample=0.7 will be ignored. Current value: bagging_fraction=0.8310694391915481\n",
      "[LightGBM] [Warning] bagging_freq is set=20, subsample_freq=0 will be ignored. Current value: bagging_freq=20\n",
      "Training until validation scores don't improve for 100 rounds\n",
      "[100]\ttraining's l1: 1.01349\tvalid_1's l1: 0.872072\n"
     ]
    },
    {
     "name": "stderr",
     "output_type": "stream",
     "text": [
      "\u001b[32m[I 2021-07-29 15:01:02,563]\u001b[0m Trial 89 finished with value: -0.8714680215530942 and parameters: {'max_depth': 7, 'min_child_weight': 6, 'subsample': 0.7, 'colsample_bytree': 0.6, 'reg_lambda': 0.010346718985268816, 'reg_alpha': 0.00549215420965565, 'feature_fraction': 0.37147206542686595, 'bagging_fraction': 0.8310694391915481, 'bagging_freq': 20, 'num_leaves': 556, 'min_child_samples': 88}. Best is trial 65 with value: -0.8686310262944106.\u001b[0m\n"
     ]
    },
    {
     "name": "stdout",
     "output_type": "stream",
     "text": [
      "Early stopping, best iteration is:\n",
      "[71]\ttraining's l1: 1.0167\tvalid_1's l1: 0.871471\n",
      "[LightGBM] [Warning] feature_fraction is set=0.29821513211837936, colsample_bytree=0.5 will be ignored. Current value: feature_fraction=0.29821513211837936\n",
      "[LightGBM] [Warning] bagging_fraction is set=0.8071800532897384, subsample=0.8 will be ignored. Current value: bagging_fraction=0.8071800532897384\n",
      "[LightGBM] [Warning] bagging_freq is set=18, subsample_freq=0 will be ignored. Current value: bagging_freq=18\n",
      "Training until validation scores don't improve for 100 rounds\n",
      "[100]\ttraining's l1: 1.02042\tvalid_1's l1: 0.871919\n",
      "[200]\ttraining's l1: 1.01662\tvalid_1's l1: 0.871227\n"
     ]
    },
    {
     "name": "stderr",
     "output_type": "stream",
     "text": [
      "\u001b[32m[I 2021-07-29 15:01:09,589]\u001b[0m Trial 90 finished with value: -0.8707517922623336 and parameters: {'max_depth': 6, 'min_child_weight': 4, 'subsample': 0.8, 'colsample_bytree': 0.5, 'reg_lambda': 0.005810801947702412, 'reg_alpha': 0.02420087670008402, 'feature_fraction': 0.29821513211837936, 'bagging_fraction': 0.8071800532897384, 'bagging_freq': 18, 'num_leaves': 712, 'min_child_samples': 76}. Best is trial 65 with value: -0.8686310262944106.\u001b[0m\n"
     ]
    },
    {
     "name": "stdout",
     "output_type": "stream",
     "text": [
      "Early stopping, best iteration is:\n",
      "[116]\ttraining's l1: 1.01815\tvalid_1's l1: 0.870772\n",
      "[LightGBM] [Warning] feature_fraction is set=0.41833632586207703, colsample_bytree=0.6 will be ignored. Current value: feature_fraction=0.41833632586207703\n",
      "[LightGBM] [Warning] bagging_fraction is set=0.733748946287272, subsample=0.7 will be ignored. Current value: bagging_fraction=0.733748946287272\n",
      "[LightGBM] [Warning] bagging_freq is set=18, subsample_freq=0 will be ignored. Current value: bagging_freq=18\n",
      "Training until validation scores don't improve for 100 rounds\n",
      "[100]\ttraining's l1: 1.008\tvalid_1's l1: 0.872884\n"
     ]
    },
    {
     "name": "stderr",
     "output_type": "stream",
     "text": [
      "\u001b[32m[I 2021-07-29 15:01:16,380]\u001b[0m Trial 91 finished with value: -0.8714478220002229 and parameters: {'max_depth': 8, 'min_child_weight': 5, 'subsample': 0.7, 'colsample_bytree': 0.6, 'reg_lambda': 0.00395578169066295, 'reg_alpha': 0.016617695576849476, 'feature_fraction': 0.41833632586207703, 'bagging_fraction': 0.733748946287272, 'bagging_freq': 18, 'num_leaves': 601, 'min_child_samples': 83}. Best is trial 65 with value: -0.8686310262944106.\u001b[0m\n"
     ]
    },
    {
     "name": "stdout",
     "output_type": "stream",
     "text": [
      "Early stopping, best iteration is:\n",
      "[53]\ttraining's l1: 1.01415\tvalid_1's l1: 0.87145\n",
      "[LightGBM] [Warning] feature_fraction is set=0.3835450104334775, colsample_bytree=0.6 will be ignored. Current value: feature_fraction=0.3835450104334775\n",
      "[LightGBM] [Warning] bagging_fraction is set=0.7860917819633396, subsample=0.7 will be ignored. Current value: bagging_fraction=0.7860917819633396\n",
      "[LightGBM] [Warning] bagging_freq is set=16, subsample_freq=0 will be ignored. Current value: bagging_freq=16\n",
      "Training until validation scores don't improve for 100 rounds\n",
      "[100]\ttraining's l1: 0.997092\tvalid_1's l1: 0.878545\n"
     ]
    },
    {
     "name": "stderr",
     "output_type": "stream",
     "text": [
      "\u001b[32m[I 2021-07-29 15:01:23,758]\u001b[0m Trial 92 finished with value: -0.872255841399262 and parameters: {'max_depth': 10, 'min_child_weight': 3, 'subsample': 0.7, 'colsample_bytree': 0.6, 'reg_lambda': 0.002041158111826662, 'reg_alpha': 0.0036992364489704444, 'feature_fraction': 0.3835450104334775, 'bagging_fraction': 0.7860917819633396, 'bagging_freq': 16, 'num_leaves': 652, 'min_child_samples': 97}. Best is trial 65 with value: -0.8686310262944106.\u001b[0m\n"
     ]
    },
    {
     "name": "stdout",
     "output_type": "stream",
     "text": [
      "Early stopping, best iteration is:\n",
      "[35]\ttraining's l1: 1.01022\tvalid_1's l1: 0.872258\n",
      "[LightGBM] [Warning] feature_fraction is set=0.6220521611845268, colsample_bytree=0.6 will be ignored. Current value: feature_fraction=0.6220521611845268\n",
      "[LightGBM] [Warning] bagging_fraction is set=0.6437958460584013, subsample=0.7 will be ignored. Current value: bagging_fraction=0.6437958460584013\n",
      "[LightGBM] [Warning] bagging_freq is set=15, subsample_freq=0 will be ignored. Current value: bagging_freq=15\n",
      "Training until validation scores don't improve for 100 rounds\n",
      "[100]\ttraining's l1: 1.00398\tvalid_1's l1: 0.873053\n"
     ]
    },
    {
     "name": "stderr",
     "output_type": "stream",
     "text": [
      "\u001b[32m[I 2021-07-29 15:01:30,113]\u001b[0m Trial 93 finished with value: -0.8698943689678037 and parameters: {'max_depth': 9, 'min_child_weight': 5, 'subsample': 0.7, 'colsample_bytree': 0.6, 'reg_lambda': 0.011798941928889453, 'reg_alpha': 0.007745082567714848, 'feature_fraction': 0.6220521611845268, 'bagging_fraction': 0.6437958460584013, 'bagging_freq': 15, 'num_leaves': 690, 'min_child_samples': 90}. Best is trial 65 with value: -0.8686310262944106.\u001b[0m\n"
     ]
    },
    {
     "name": "stdout",
     "output_type": "stream",
     "text": [
      "Early stopping, best iteration is:\n",
      "[48]\ttraining's l1: 1.01108\tvalid_1's l1: 0.869898\n",
      "[LightGBM] [Warning] feature_fraction is set=0.6103036279881194, colsample_bytree=0.6 will be ignored. Current value: feature_fraction=0.6103036279881194\n",
      "[LightGBM] [Warning] bagging_fraction is set=0.6469262225555585, subsample=0.7 will be ignored. Current value: bagging_fraction=0.6469262225555585\n",
      "[LightGBM] [Warning] bagging_freq is set=15, subsample_freq=0 will be ignored. Current value: bagging_freq=15\n",
      "Training until validation scores don't improve for 100 rounds\n",
      "[100]\ttraining's l1: 1.01112\tvalid_1's l1: 0.870812\n"
     ]
    },
    {
     "name": "stderr",
     "output_type": "stream",
     "text": [
      "\u001b[32m[I 2021-07-29 15:01:38,166]\u001b[0m Trial 94 finished with value: -0.8706444757532408 and parameters: {'max_depth': 8, 'min_child_weight': 6, 'subsample': 0.7, 'colsample_bytree': 0.6, 'reg_lambda': 0.00848922311602844, 'reg_alpha': 0.002330100284717905, 'feature_fraction': 0.6103036279881194, 'bagging_fraction': 0.6469262225555585, 'bagging_freq': 15, 'num_leaves': 689, 'min_child_samples': 89}. Best is trial 65 with value: -0.8686310262944106.\u001b[0m\n"
     ]
    },
    {
     "name": "stdout",
     "output_type": "stream",
     "text": [
      "Early stopping, best iteration is:\n",
      "[80]\ttraining's l1: 1.01262\tvalid_1's l1: 0.870653\n",
      "[LightGBM] [Warning] feature_fraction is set=0.49574053811363383, colsample_bytree=0.6 will be ignored. Current value: feature_fraction=0.49574053811363383\n",
      "[LightGBM] [Warning] bagging_fraction is set=0.8841395733361632, subsample=0.7 will be ignored. Current value: bagging_fraction=0.8841395733361632\n",
      "[LightGBM] [Warning] bagging_freq is set=19, subsample_freq=0 will be ignored. Current value: bagging_freq=19\n",
      "Training until validation scores don't improve for 100 rounds\n",
      "[100]\ttraining's l1: 0.993385\tvalid_1's l1: 0.885047\n"
     ]
    },
    {
     "name": "stderr",
     "output_type": "stream",
     "text": [
      "\u001b[32m[I 2021-07-29 15:01:48,421]\u001b[0m Trial 95 finished with value: -0.8736589452508654 and parameters: {'max_depth': 20, 'min_child_weight': 7, 'subsample': 0.7, 'colsample_bytree': 0.6, 'reg_lambda': 0.02116655750940255, 'reg_alpha': 0.006304113728167772, 'feature_fraction': 0.49574053811363383, 'bagging_fraction': 0.8841395733361632, 'bagging_freq': 19, 'num_leaves': 626, 'min_child_samples': 85}. Best is trial 65 with value: -0.8686310262944106.\u001b[0m\n"
     ]
    },
    {
     "name": "stdout",
     "output_type": "stream",
     "text": [
      "Early stopping, best iteration is:\n",
      "[21]\ttraining's l1: 1.01654\tvalid_1's l1: 0.873659\n",
      "[LightGBM] [Warning] feature_fraction is set=0.5482231686388525, colsample_bytree=0.6 will be ignored. Current value: feature_fraction=0.5482231686388525\n",
      "[LightGBM] [Warning] bagging_fraction is set=0.9939312903962979, subsample=0.7 will be ignored. Current value: bagging_fraction=0.9939312903962979\n",
      "[LightGBM] [Warning] bagging_freq is set=13, subsample_freq=0 will be ignored. Current value: bagging_freq=13\n",
      "Training until validation scores don't improve for 100 rounds\n",
      "[100]\ttraining's l1: 1.02008\tvalid_1's l1: 0.871257\n",
      "[200]\ttraining's l1: 1.01769\tvalid_1's l1: 0.870865\n"
     ]
    },
    {
     "name": "stderr",
     "output_type": "stream",
     "text": [
      "\u001b[32m[I 2021-07-29 15:02:01,957]\u001b[0m Trial 96 finished with value: -0.8707055899487038 and parameters: {'max_depth': 6, 'min_child_weight': 5, 'subsample': 0.7, 'colsample_bytree': 0.6, 'reg_lambda': 0.0032009427785849834, 'reg_alpha': 0.012715072884484535, 'feature_fraction': 0.5482231686388525, 'bagging_fraction': 0.9939312903962979, 'bagging_freq': 13, 'num_leaves': 732, 'min_child_samples': 92}. Best is trial 65 with value: -0.8686310262944106.\u001b[0m\n"
     ]
    },
    {
     "name": "stdout",
     "output_type": "stream",
     "text": [
      "Early stopping, best iteration is:\n",
      "[198]\ttraining's l1: 1.01791\tvalid_1's l1: 0.870722\n",
      "[LightGBM] [Warning] feature_fraction is set=0.32485048160925484, colsample_bytree=0.6 will be ignored. Current value: feature_fraction=0.32485048160925484\n",
      "[LightGBM] [Warning] bagging_fraction is set=0.9365316048170224, subsample=0.8 will be ignored. Current value: bagging_fraction=0.9365316048170224\n",
      "[LightGBM] [Warning] bagging_freq is set=17, subsample_freq=0 will be ignored. Current value: bagging_freq=17\n",
      "Training until validation scores don't improve for 100 rounds\n",
      "[100]\ttraining's l1: 1.0118\tvalid_1's l1: 0.870357\n"
     ]
    },
    {
     "name": "stderr",
     "output_type": "stream",
     "text": [
      "\u001b[32m[I 2021-07-29 15:02:09,727]\u001b[0m Trial 97 finished with value: -0.870311286270483 and parameters: {'max_depth': 7, 'min_child_weight': 6, 'subsample': 0.8, 'colsample_bytree': 0.6, 'reg_lambda': 0.011555006420708745, 'reg_alpha': 0.028915581225746563, 'feature_fraction': 0.32485048160925484, 'bagging_fraction': 0.9365316048170224, 'bagging_freq': 17, 'num_leaves': 591, 'min_child_samples': 94}. Best is trial 65 with value: -0.8686310262944106.\u001b[0m\n"
     ]
    },
    {
     "name": "stdout",
     "output_type": "stream",
     "text": [
      "Early stopping, best iteration is:\n",
      "[93]\ttraining's l1: 1.01288\tvalid_1's l1: 0.870322\n",
      "[LightGBM] [Warning] feature_fraction is set=0.9780730677428271, colsample_bytree=0.6 will be ignored. Current value: feature_fraction=0.9780730677428271\n",
      "[LightGBM] [Warning] bagging_fraction is set=0.861966130432503, subsample=0.7 will be ignored. Current value: bagging_fraction=0.861966130432503\n",
      "[LightGBM] [Warning] bagging_freq is set=14, subsample_freq=0 will be ignored. Current value: bagging_freq=14\n",
      "Training until validation scores don't improve for 100 rounds\n",
      "[100]\ttraining's l1: 1.00619\tvalid_1's l1: 0.870731\n"
     ]
    },
    {
     "name": "stderr",
     "output_type": "stream",
     "text": [
      "\u001b[32m[I 2021-07-29 15:02:18,162]\u001b[0m Trial 98 finished with value: -0.8684372799658228 and parameters: {'max_depth': 9, 'min_child_weight': 4, 'subsample': 0.7, 'colsample_bytree': 0.6, 'reg_lambda': 0.0012682128211901121, 'reg_alpha': 0.0016398848910185928, 'feature_fraction': 0.9780730677428271, 'bagging_fraction': 0.861966130432503, 'bagging_freq': 14, 'num_leaves': 673, 'min_child_samples': 81}. Best is trial 98 with value: -0.8684372799658228.\u001b[0m\n"
     ]
    },
    {
     "name": "stdout",
     "output_type": "stream",
     "text": [
      "Early stopping, best iteration is:\n",
      "[53]\ttraining's l1: 1.01256\tvalid_1's l1: 0.868443\n",
      "[LightGBM] [Warning] feature_fraction is set=0.25123852207403863, colsample_bytree=0.6 will be ignored. Current value: feature_fraction=0.25123852207403863\n",
      "[LightGBM] [Warning] bagging_fraction is set=0.866360150645747, subsample=0.7 will be ignored. Current value: bagging_fraction=0.866360150645747\n",
      "[LightGBM] [Warning] bagging_freq is set=14, subsample_freq=0 will be ignored. Current value: bagging_freq=14\n",
      "Training until validation scores don't improve for 100 rounds\n",
      "[100]\ttraining's l1: 1.00161\tvalid_1's l1: 0.874804\n"
     ]
    },
    {
     "name": "stderr",
     "output_type": "stream",
     "text": [
      "\u001b[32m[I 2021-07-29 15:02:24,647]\u001b[0m Trial 99 finished with value: -0.8709065974666983 and parameters: {'max_depth': 9, 'min_child_weight': 4, 'subsample': 0.7, 'colsample_bytree': 0.6, 'reg_lambda': 0.0011027473552506545, 'reg_alpha': 0.0012779279640985006, 'feature_fraction': 0.25123852207403863, 'bagging_fraction': 0.866360150645747, 'bagging_freq': 14, 'num_leaves': 669, 'min_child_samples': 78}. Best is trial 98 with value: -0.8684372799658228.\u001b[0m\n",
      "\u001b[32m[I 2021-07-29 15:02:24,649]\u001b[0m A new study created in memory with name: no-name-879aca92-34e3-43d4-9686-ce663201daaa\u001b[0m\n"
     ]
    },
    {
     "name": "stdout",
     "output_type": "stream",
     "text": [
      "Early stopping, best iteration is:\n",
      "[37]\ttraining's l1: 1.01559\tvalid_1's l1: 0.87091\n",
      "[LightGBM] [Warning] feature_fraction is set=0.39013854033203965, colsample_bytree=0.6 will be ignored. Current value: feature_fraction=0.39013854033203965\n",
      "[LightGBM] [Warning] bagging_fraction is set=0.6159441925509495, subsample=0.6 will be ignored. Current value: bagging_fraction=0.6159441925509495\n",
      "[LightGBM] [Warning] bagging_freq is set=2, subsample_freq=0 will be ignored. Current value: bagging_freq=2\n",
      "Training until validation scores don't improve for 100 rounds\n",
      "[100]\ttraining's l1: 1.11894\tvalid_1's l1: 1.51278\n",
      "[200]\ttraining's l1: 1.09416\tvalid_1's l1: 1.48199\n",
      "[300]\ttraining's l1: 1.08055\tvalid_1's l1: 1.46897\n",
      "[400]\ttraining's l1: 1.06769\tvalid_1's l1: 1.45563\n",
      "[500]\ttraining's l1: 1.06155\tvalid_1's l1: 1.45259\n",
      "[600]\ttraining's l1: 1.05586\tvalid_1's l1: 1.44915\n",
      "[700]\ttraining's l1: 1.05238\tvalid_1's l1: 1.44835\n",
      "[800]\ttraining's l1: 1.04784\tvalid_1's l1: 1.44577\n",
      "[900]\ttraining's l1: 1.04279\tvalid_1's l1: 1.44382\n",
      "[1000]\ttraining's l1: 1.0375\tvalid_1's l1: 1.44131\n",
      "[1100]\ttraining's l1: 1.0339\tvalid_1's l1: 1.43943\n",
      "[1200]\ttraining's l1: 1.03098\tvalid_1's l1: 1.4382\n",
      "[1300]\ttraining's l1: 1.0286\tvalid_1's l1: 1.43756\n",
      "[1400]\ttraining's l1: 1.02659\tvalid_1's l1: 1.43651\n",
      "[1500]\ttraining's l1: 1.02399\tvalid_1's l1: 1.43555\n",
      "[1600]\ttraining's l1: 1.0215\tvalid_1's l1: 1.43404\n",
      "[1700]\ttraining's l1: 1.01913\tvalid_1's l1: 1.43343\n",
      "[1800]\ttraining's l1: 1.0173\tvalid_1's l1: 1.43246\n",
      "[1900]\ttraining's l1: 1.01536\tvalid_1's l1: 1.43335\n",
      "Early stopping, best iteration is:\n",
      "[1802]\ttraining's l1: 1.01701\tvalid_1's l1: 1.43225\n"
     ]
    },
    {
     "name": "stderr",
     "output_type": "stream",
     "text": [
      "\u001b[32m[I 2021-07-29 15:03:17,166]\u001b[0m Trial 0 finished with value: -1.4287120389978676 and parameters: {'max_depth': 2, 'min_child_weight': 15, 'subsample': 0.6, 'colsample_bytree': 0.6, 'reg_lambda': 0.06163527143939096, 'reg_alpha': 108.79271123076012, 'feature_fraction': 0.39013854033203965, 'bagging_fraction': 0.6159441925509495, 'bagging_freq': 2, 'num_leaves': 880, 'min_child_samples': 68}. Best is trial 0 with value: -1.4287120389978676.\u001b[0m\n"
     ]
    },
    {
     "name": "stdout",
     "output_type": "stream",
     "text": [
      "[LightGBM] [Warning] feature_fraction is set=0.8823788384738653, colsample_bytree=0.6 will be ignored. Current value: feature_fraction=0.8823788384738653\n",
      "[LightGBM] [Warning] bagging_fraction is set=0.774874018107883, subsample=0.6 will be ignored. Current value: bagging_fraction=0.774874018107883\n",
      "[LightGBM] [Warning] bagging_freq is set=18, subsample_freq=0 will be ignored. Current value: bagging_freq=18\n",
      "Training until validation scores don't improve for 100 rounds\n",
      "[100]\ttraining's l1: 0.833074\tvalid_1's l1: 1.39883\n"
     ]
    },
    {
     "name": "stderr",
     "output_type": "stream",
     "text": [
      "\u001b[32m[I 2021-07-29 15:03:30,130]\u001b[0m Trial 1 finished with value: -1.391567204228884 and parameters: {'max_depth': 11, 'min_child_weight': 4, 'subsample': 0.6, 'colsample_bytree': 0.6, 'reg_lambda': 155.46979273450864, 'reg_alpha': 3.926938229576509, 'feature_fraction': 0.8823788384738653, 'bagging_fraction': 0.774874018107883, 'bagging_freq': 18, 'num_leaves': 885, 'min_child_samples': 15}. Best is trial 1 with value: -1.391567204228884.\u001b[0m\n"
     ]
    },
    {
     "name": "stdout",
     "output_type": "stream",
     "text": [
      "Early stopping, best iteration is:\n",
      "[60]\ttraining's l1: 0.879055\tvalid_1's l1: 1.39159\n",
      "[LightGBM] [Warning] feature_fraction is set=0.24688591742990146, colsample_bytree=0.7 will be ignored. Current value: feature_fraction=0.24688591742990146\n",
      "[LightGBM] [Warning] bagging_fraction is set=0.9419202100414372, subsample=0.5 will be ignored. Current value: bagging_fraction=0.9419202100414372\n",
      "[LightGBM] [Warning] bagging_freq is set=6, subsample_freq=0 will be ignored. Current value: bagging_freq=6\n",
      "Training until validation scores don't improve for 100 rounds\n",
      "[100]\ttraining's l1: 1.01175\tvalid_1's l1: 1.43642\n",
      "[200]\ttraining's l1: 0.978991\tvalid_1's l1: 1.41897\n",
      "[300]\ttraining's l1: 0.957848\tvalid_1's l1: 1.41483\n",
      "[400]\ttraining's l1: 0.943972\tvalid_1's l1: 1.40742\n",
      "[500]\ttraining's l1: 0.934459\tvalid_1's l1: 1.40678\n",
      "[600]\ttraining's l1: 0.925462\tvalid_1's l1: 1.40543\n",
      "[700]\ttraining's l1: 0.917014\tvalid_1's l1: 1.40533\n",
      "[800]\ttraining's l1: 0.909437\tvalid_1's l1: 1.40337\n",
      "Early stopping, best iteration is:\n",
      "[758]\ttraining's l1: 0.912344\tvalid_1's l1: 1.40217\n"
     ]
    },
    {
     "name": "stderr",
     "output_type": "stream",
     "text": [
      "\u001b[32m[I 2021-07-29 15:03:57,048]\u001b[0m Trial 2 finished with value: -1.4016942950281392 and parameters: {'max_depth': 5, 'min_child_weight': 7, 'subsample': 0.5, 'colsample_bytree': 0.7, 'reg_lambda': 0.016855508538825784, 'reg_alpha': 0.010038958790875574, 'feature_fraction': 0.24688591742990146, 'bagging_fraction': 0.9419202100414372, 'bagging_freq': 6, 'num_leaves': 329, 'min_child_samples': 47}. Best is trial 1 with value: -1.391567204228884.\u001b[0m\n"
     ]
    },
    {
     "name": "stdout",
     "output_type": "stream",
     "text": [
      "[LightGBM] [Warning] feature_fraction is set=0.9772831876614332, colsample_bytree=0.7 will be ignored. Current value: feature_fraction=0.9772831876614332\n",
      "[LightGBM] [Warning] bagging_fraction is set=0.43536388500009116, subsample=0.8 will be ignored. Current value: bagging_fraction=0.43536388500009116\n",
      "[LightGBM] [Warning] bagging_freq is set=4, subsample_freq=0 will be ignored. Current value: bagging_freq=4\n",
      "Training until validation scores don't improve for 100 rounds\n",
      "[100]\ttraining's l1: 0.907289\tvalid_1's l1: 1.39969\n",
      "[200]\ttraining's l1: 0.892167\tvalid_1's l1: 1.39982\n",
      "Early stopping, best iteration is:\n",
      "[158]\ttraining's l1: 0.896339\tvalid_1's l1: 1.39811\n"
     ]
    },
    {
     "name": "stderr",
     "output_type": "stream",
     "text": [
      "\u001b[32m[I 2021-07-29 15:04:10,285]\u001b[0m Trial 3 finished with value: -1.3980504001449798 and parameters: {'max_depth': 17, 'min_child_weight': 9, 'subsample': 0.8, 'colsample_bytree': 0.7, 'reg_lambda': 0.1971645436891211, 'reg_alpha': 219.89226001327245, 'feature_fraction': 0.9772831876614332, 'bagging_fraction': 0.43536388500009116, 'bagging_freq': 4, 'num_leaves': 879, 'min_child_samples': 24}. Best is trial 1 with value: -1.391567204228884.\u001b[0m\n"
     ]
    },
    {
     "name": "stdout",
     "output_type": "stream",
     "text": [
      "[LightGBM] [Warning] feature_fraction is set=0.8301116096633405, colsample_bytree=0.6 will be ignored. Current value: feature_fraction=0.8301116096633405\n",
      "[LightGBM] [Warning] bagging_fraction is set=0.2695480934191681, subsample=0.8 will be ignored. Current value: bagging_fraction=0.2695480934191681\n",
      "[LightGBM] [Warning] bagging_freq is set=17, subsample_freq=0 will be ignored. Current value: bagging_freq=17\n",
      "Training until validation scores don't improve for 100 rounds\n",
      "[100]\ttraining's l1: 0.912087\tvalid_1's l1: 1.40196\n"
     ]
    },
    {
     "name": "stderr",
     "output_type": "stream",
     "text": [
      "\u001b[32m[I 2021-07-29 15:04:15,685]\u001b[0m Trial 4 finished with value: -1.4007562276057481 and parameters: {'max_depth': 9, 'min_child_weight': 12, 'subsample': 0.8, 'colsample_bytree': 0.6, 'reg_lambda': 51.748021700048234, 'reg_alpha': 0.008057520865594863, 'feature_fraction': 0.8301116096633405, 'bagging_fraction': 0.2695480934191681, 'bagging_freq': 17, 'num_leaves': 780, 'min_child_samples': 84}. Best is trial 1 with value: -1.391567204228884.\u001b[0m\n"
     ]
    },
    {
     "name": "stdout",
     "output_type": "stream",
     "text": [
      "Early stopping, best iteration is:\n",
      "[78]\ttraining's l1: 0.919422\tvalid_1's l1: 1.40084\n",
      "[LightGBM] [Warning] feature_fraction is set=0.9364940804655277, colsample_bytree=0.8 will be ignored. Current value: feature_fraction=0.9364940804655277\n",
      "[LightGBM] [Warning] bagging_fraction is set=0.321635717061462, subsample=0.8 will be ignored. Current value: bagging_fraction=0.321635717061462\n",
      "[LightGBM] [Warning] bagging_freq is set=5, subsample_freq=0 will be ignored. Current value: bagging_freq=5\n",
      "Training until validation scores don't improve for 100 rounds\n",
      "[100]\ttraining's l1: 0.938822\tvalid_1's l1: 1.39227\n",
      "[200]\ttraining's l1: 0.903023\tvalid_1's l1: 1.3899\n"
     ]
    },
    {
     "name": "stderr",
     "output_type": "stream",
     "text": [
      "\u001b[32m[I 2021-07-29 15:04:24,001]\u001b[0m Trial 5 finished with value: -1.3867764799985007 and parameters: {'max_depth': 8, 'min_child_weight': 9, 'subsample': 0.8, 'colsample_bytree': 0.8, 'reg_lambda': 614.1153807467929, 'reg_alpha': 0.0012365894193804446, 'feature_fraction': 0.9364940804655277, 'bagging_fraction': 0.321635717061462, 'bagging_freq': 5, 'num_leaves': 256, 'min_child_samples': 59}. Best is trial 5 with value: -1.3867764799985007.\u001b[0m\n"
     ]
    },
    {
     "name": "stdout",
     "output_type": "stream",
     "text": [
      "Early stopping, best iteration is:\n",
      "[143]\ttraining's l1: 0.918426\tvalid_1's l1: 1.38687\n",
      "[LightGBM] [Warning] feature_fraction is set=0.801455732407899, colsample_bytree=0.5 will be ignored. Current value: feature_fraction=0.801455732407899\n",
      "[LightGBM] [Warning] bagging_fraction is set=0.6487773609499518, subsample=0.6 will be ignored. Current value: bagging_fraction=0.6487773609499518\n",
      "[LightGBM] [Warning] bagging_freq is set=1, subsample_freq=0 will be ignored. Current value: bagging_freq=1\n",
      "Training until validation scores don't improve for 100 rounds\n",
      "[100]\ttraining's l1: 1.06817\tvalid_1's l1: 1.45925\n",
      "[200]\ttraining's l1: 1.05359\tvalid_1's l1: 1.44724\n",
      "[300]\ttraining's l1: 1.03444\tvalid_1's l1: 1.43412\n",
      "[400]\ttraining's l1: 1.0239\tvalid_1's l1: 1.42796\n",
      "[500]\ttraining's l1: 1.01245\tvalid_1's l1: 1.42275\n",
      "[600]\ttraining's l1: 1.00446\tvalid_1's l1: 1.41949\n",
      "[700]\ttraining's l1: 0.997273\tvalid_1's l1: 1.41698\n",
      "[800]\ttraining's l1: 0.992516\tvalid_1's l1: 1.41429\n",
      "[900]\ttraining's l1: 0.987723\tvalid_1's l1: 1.41367\n",
      "[1000]\ttraining's l1: 0.981965\tvalid_1's l1: 1.41184\n",
      "[1100]\ttraining's l1: 0.9777\tvalid_1's l1: 1.40954\n",
      "[1200]\ttraining's l1: 0.974954\tvalid_1's l1: 1.40895\n",
      "[1300]\ttraining's l1: 0.971108\tvalid_1's l1: 1.40795\n",
      "[1400]\ttraining's l1: 0.967258\tvalid_1's l1: 1.40797\n",
      "[1500]\ttraining's l1: 0.964951\tvalid_1's l1: 1.40763\n",
      "[1600]\ttraining's l1: 0.961418\tvalid_1's l1: 1.40421\n",
      "[1700]\ttraining's l1: 0.959166\tvalid_1's l1: 1.40425\n",
      "Early stopping, best iteration is:\n",
      "[1602]\ttraining's l1: 0.961342\tvalid_1's l1: 1.40417\n"
     ]
    },
    {
     "name": "stderr",
     "output_type": "stream",
     "text": [
      "\u001b[32m[I 2021-07-29 15:04:57,408]\u001b[0m Trial 6 finished with value: -1.402792729549076 and parameters: {'max_depth': 3, 'min_child_weight': 2, 'subsample': 0.6, 'colsample_bytree': 0.5, 'reg_lambda': 1.5729536933812096, 'reg_alpha': 0.04537401249588705, 'feature_fraction': 0.801455732407899, 'bagging_fraction': 0.6487773609499518, 'bagging_freq': 1, 'num_leaves': 326, 'min_child_samples': 29}. Best is trial 5 with value: -1.3867764799985007.\u001b[0m\n"
     ]
    },
    {
     "name": "stdout",
     "output_type": "stream",
     "text": [
      "[LightGBM] [Warning] feature_fraction is set=0.2355312212188082, colsample_bytree=0.8 will be ignored. Current value: feature_fraction=0.2355312212188082\n",
      "[LightGBM] [Warning] bagging_fraction is set=0.7928379701652444, subsample=0.9 will be ignored. Current value: bagging_fraction=0.7928379701652444\n",
      "[LightGBM] [Warning] bagging_freq is set=5, subsample_freq=0 will be ignored. Current value: bagging_freq=5\n",
      "Training until validation scores don't improve for 100 rounds\n",
      "[100]\ttraining's l1: 0.935186\tvalid_1's l1: 1.41216\n",
      "[200]\ttraining's l1: 0.903704\tvalid_1's l1: 1.40924\n",
      "[300]\ttraining's l1: 0.875111\tvalid_1's l1: 1.41185\n",
      "Early stopping, best iteration is:\n",
      "[200]\ttraining's l1: 0.903704\tvalid_1's l1: 1.40924\n"
     ]
    },
    {
     "name": "stderr",
     "output_type": "stream",
     "text": [
      "\u001b[32m[I 2021-07-29 15:05:09,722]\u001b[0m Trial 7 finished with value: -1.4091438048848914 and parameters: {'max_depth': 9, 'min_child_weight': 1, 'subsample': 0.9, 'colsample_bytree': 0.8, 'reg_lambda': 0.010415347941778676, 'reg_alpha': 45.08164804226119, 'feature_fraction': 0.2355312212188082, 'bagging_fraction': 0.7928379701652444, 'bagging_freq': 5, 'num_leaves': 930, 'min_child_samples': 86}. Best is trial 5 with value: -1.3867764799985007.\u001b[0m\n"
     ]
    },
    {
     "name": "stdout",
     "output_type": "stream",
     "text": [
      "[LightGBM] [Warning] feature_fraction is set=0.2794925365121965, colsample_bytree=0.5 will be ignored. Current value: feature_fraction=0.2794925365121965\n",
      "[LightGBM] [Warning] bagging_fraction is set=0.9328384620490595, subsample=0.9 will be ignored. Current value: bagging_fraction=0.9328384620490595\n",
      "[LightGBM] [Warning] bagging_freq is set=13, subsample_freq=0 will be ignored. Current value: bagging_freq=13\n",
      "Training until validation scores don't improve for 100 rounds\n",
      "[100]\ttraining's l1: 0.848281\tvalid_1's l1: 1.40996\n",
      "Early stopping, best iteration is:\n",
      "[85]\ttraining's l1: 0.860123\tvalid_1's l1: 1.40871\n"
     ]
    },
    {
     "name": "stderr",
     "output_type": "stream",
     "text": [
      "\u001b[32m[I 2021-07-29 15:05:24,238]\u001b[0m Trial 8 finished with value: -1.408565073785305 and parameters: {'max_depth': 20, 'min_child_weight': 5, 'subsample': 0.9, 'colsample_bytree': 0.5, 'reg_lambda': 3.283423686543692, 'reg_alpha': 30.089545960189792, 'feature_fraction': 0.2794925365121965, 'bagging_fraction': 0.9328384620490595, 'bagging_freq': 13, 'num_leaves': 699, 'min_child_samples': 28}. Best is trial 5 with value: -1.3867764799985007.\u001b[0m\n"
     ]
    },
    {
     "name": "stdout",
     "output_type": "stream",
     "text": [
      "[LightGBM] [Warning] feature_fraction is set=0.8801151362521056, colsample_bytree=0.7 will be ignored. Current value: feature_fraction=0.8801151362521056\n",
      "[LightGBM] [Warning] bagging_fraction is set=0.37987875655761993, subsample=0.9 will be ignored. Current value: bagging_fraction=0.37987875655761993\n",
      "[LightGBM] [Warning] bagging_freq is set=19, subsample_freq=0 will be ignored. Current value: bagging_freq=19\n",
      "Training until validation scores don't improve for 100 rounds\n",
      "[100]\ttraining's l1: 0.92253\tvalid_1's l1: 1.39344\n",
      "[200]\ttraining's l1: 0.899628\tvalid_1's l1: 1.39664\n"
     ]
    },
    {
     "name": "stderr",
     "output_type": "stream",
     "text": [
      "\u001b[32m[I 2021-07-29 15:05:31,931]\u001b[0m Trial 9 finished with value: -1.3918203734518129 and parameters: {'max_depth': 9, 'min_child_weight': 17, 'subsample': 0.9, 'colsample_bytree': 0.7, 'reg_lambda': 370.06165276033215, 'reg_alpha': 1.3666142805470956, 'feature_fraction': 0.8801151362521056, 'bagging_fraction': 0.37987875655761993, 'bagging_freq': 19, 'num_leaves': 153, 'min_child_samples': 47}. Best is trial 5 with value: -1.3867764799985007.\u001b[0m\n"
     ]
    },
    {
     "name": "stdout",
     "output_type": "stream",
     "text": [
      "Early stopping, best iteration is:\n",
      "[133]\ttraining's l1: 0.91165\tvalid_1's l1: 1.39191\n",
      "[LightGBM] [Warning] feature_fraction is set=0.5992615931515698, colsample_bytree=0.9 will be ignored. Current value: feature_fraction=0.5992615931515698\n",
      "[LightGBM] [Warning] bagging_fraction is set=0.20611198167128547, subsample=0.7 will be ignored. Current value: bagging_fraction=0.20611198167128547\n",
      "[LightGBM] [Warning] bagging_freq is set=9, subsample_freq=0 will be ignored. Current value: bagging_freq=9\n",
      "Training until validation scores don't improve for 100 rounds\n",
      "[100]\ttraining's l1: 0.997147\tvalid_1's l1: 1.41814\n",
      "[200]\ttraining's l1: 0.960996\tvalid_1's l1: 1.4044\n",
      "[300]\ttraining's l1: 0.932469\tvalid_1's l1: 1.39965\n",
      "Early stopping, best iteration is:\n",
      "[259]\ttraining's l1: 0.942828\tvalid_1's l1: 1.39709\n"
     ]
    },
    {
     "name": "stderr",
     "output_type": "stream",
     "text": [
      "\u001b[32m[I 2021-07-29 15:05:39,957]\u001b[0m Trial 10 finished with value: -1.3970398622161853 and parameters: {'max_depth': 15, 'min_child_weight': 12, 'subsample': 0.7, 'colsample_bytree': 0.9, 'reg_lambda': 16.146367958708588, 'reg_alpha': 0.14245710841406453, 'feature_fraction': 0.5992615931515698, 'bagging_fraction': 0.20611198167128547, 'bagging_freq': 9, 'num_leaves': 43, 'min_child_samples': 67}. Best is trial 5 with value: -1.3867764799985007.\u001b[0m\n"
     ]
    },
    {
     "name": "stdout",
     "output_type": "stream",
     "text": [
      "[LightGBM] [Warning] feature_fraction is set=0.6673872525018769, colsample_bytree=0.9 will be ignored. Current value: feature_fraction=0.6673872525018769\n",
      "[LightGBM] [Warning] bagging_fraction is set=0.7175412651443518, subsample=0.7 will be ignored. Current value: bagging_fraction=0.7175412651443518\n",
      "[LightGBM] [Warning] bagging_freq is set=14, subsample_freq=0 will be ignored. Current value: bagging_freq=14\n",
      "Training until validation scores don't improve for 100 rounds\n",
      "[100]\ttraining's l1: 0.846302\tvalid_1's l1: 1.40481\n"
     ]
    },
    {
     "name": "stderr",
     "output_type": "stream",
     "text": [
      "\u001b[32m[I 2021-07-29 15:05:51,010]\u001b[0m Trial 11 finished with value: -1.3967003530977604 and parameters: {'max_depth': 13, 'min_child_weight': 4, 'subsample': 0.7, 'colsample_bytree': 0.9, 'reg_lambda': 587.3451512467693, 'reg_alpha': 2.5409862144129347, 'feature_fraction': 0.6673872525018769, 'bagging_fraction': 0.7175412651443518, 'bagging_freq': 14, 'num_leaves': 570, 'min_child_samples': 6}. Best is trial 5 with value: -1.3867764799985007.\u001b[0m\n"
     ]
    },
    {
     "name": "stdout",
     "output_type": "stream",
     "text": [
      "Early stopping, best iteration is:\n",
      "[63]\ttraining's l1: 0.877745\tvalid_1's l1: 1.39681\n",
      "[LightGBM] [Warning] feature_fraction is set=0.9732194100907752, colsample_bytree=0.8 will be ignored. Current value: feature_fraction=0.9732194100907752\n",
      "[LightGBM] [Warning] bagging_fraction is set=0.49936603751245556, subsample=0.5 will be ignored. Current value: bagging_fraction=0.49936603751245556\n",
      "[LightGBM] [Warning] bagging_freq is set=8, subsample_freq=0 will be ignored. Current value: bagging_freq=8\n",
      "Training until validation scores don't improve for 100 rounds\n",
      "[100]\ttraining's l1: 0.973235\tvalid_1's l1: 1.40165\n",
      "[200]\ttraining's l1: 0.967221\tvalid_1's l1: 1.39965\n",
      "[300]\ttraining's l1: 0.961413\tvalid_1's l1: 1.39886\n",
      "Early stopping, best iteration is:\n",
      "[260]\ttraining's l1: 0.96333\tvalid_1's l1: 1.39838\n"
     ]
    },
    {
     "name": "stderr",
     "output_type": "stream",
     "text": [
      "\u001b[32m[I 2021-07-29 15:06:00,690]\u001b[0m Trial 12 finished with value: -1.398349153718762 and parameters: {'max_depth': 6, 'min_child_weight': 8, 'subsample': 0.5, 'colsample_bytree': 0.8, 'reg_lambda': 106.89493354839546, 'reg_alpha': 7.103083803896692, 'feature_fraction': 0.9732194100907752, 'bagging_fraction': 0.49936603751245556, 'bagging_freq': 8, 'num_leaves': 344, 'min_child_samples': 8}. Best is trial 5 with value: -1.3867764799985007.\u001b[0m\n"
     ]
    },
    {
     "name": "stdout",
     "output_type": "stream",
     "text": [
      "[LightGBM] [Warning] feature_fraction is set=0.5996381514639766, colsample_bytree=0.8 will be ignored. Current value: feature_fraction=0.5996381514639766\n",
      "[LightGBM] [Warning] bagging_fraction is set=0.8412482009364999, subsample=0.6 will be ignored. Current value: bagging_fraction=0.8412482009364999\n",
      "[LightGBM] [Warning] bagging_freq is set=12, subsample_freq=0 will be ignored. Current value: bagging_freq=12\n",
      "Training until validation scores don't improve for 100 rounds\n",
      "[100]\ttraining's l1: 0.867272\tvalid_1's l1: 1.40002\n"
     ]
    },
    {
     "name": "stderr",
     "output_type": "stream",
     "text": [
      "\u001b[32m[I 2021-07-29 15:06:14,402]\u001b[0m Trial 13 finished with value: -1.397084105385121 and parameters: {'max_depth': 12, 'min_child_weight': 4, 'subsample': 0.6, 'colsample_bytree': 0.8, 'reg_lambda': 783.0973652032899, 'reg_alpha': 0.001002049374858603, 'feature_fraction': 0.5996381514639766, 'bagging_fraction': 0.8412482009364999, 'bagging_freq': 12, 'num_leaves': 510, 'min_child_samples': 63}. Best is trial 5 with value: -1.3867764799985007.\u001b[0m\n"
     ]
    },
    {
     "name": "stdout",
     "output_type": "stream",
     "text": [
      "Early stopping, best iteration is:\n",
      "[67]\ttraining's l1: 0.892139\tvalid_1's l1: 1.39715\n",
      "[LightGBM] [Warning] feature_fraction is set=0.7405115727639586, colsample_bytree=0.6 will be ignored. Current value: feature_fraction=0.7405115727639586\n",
      "[LightGBM] [Warning] bagging_fraction is set=0.31480196481223843, subsample=0.8 will be ignored. Current value: bagging_fraction=0.31480196481223843\n",
      "[LightGBM] [Warning] bagging_freq is set=16, subsample_freq=0 will be ignored. Current value: bagging_freq=16\n",
      "Training until validation scores don't improve for 100 rounds\n",
      "[100]\ttraining's l1: 1.02537\tvalid_1's l1: 1.42332\n",
      "[200]\ttraining's l1: 1.01636\tvalid_1's l1: 1.4179\n",
      "[300]\ttraining's l1: 1.01132\tvalid_1's l1: 1.41566\n",
      "[400]\ttraining's l1: 1.00822\tvalid_1's l1: 1.41402\n",
      "Early stopping, best iteration is:\n",
      "[374]\ttraining's l1: 1.00822\tvalid_1's l1: 1.41402\n"
     ]
    },
    {
     "name": "stderr",
     "output_type": "stream",
     "text": [
      "\u001b[32m[I 2021-07-29 15:06:21,239]\u001b[0m Trial 14 finished with value: -1.4140153790051635 and parameters: {'max_depth': 6, 'min_child_weight': 11, 'subsample': 0.8, 'colsample_bytree': 0.6, 'reg_lambda': 13.024540430894131, 'reg_alpha': 985.4918363963802, 'feature_fraction': 0.7405115727639586, 'bagging_fraction': 0.31480196481223843, 'bagging_freq': 16, 'num_leaves': 198, 'min_child_samples': 98}. Best is trial 5 with value: -1.3867764799985007.\u001b[0m\n"
     ]
    },
    {
     "name": "stdout",
     "output_type": "stream",
     "text": [
      "[LightGBM] [Warning] feature_fraction is set=0.9279786810660713, colsample_bytree=0.8 will be ignored. Current value: feature_fraction=0.9279786810660713\n",
      "[LightGBM] [Warning] bagging_fraction is set=0.5360095282938593, subsample=0.7 will be ignored. Current value: bagging_fraction=0.5360095282938593\n",
      "[LightGBM] [Warning] bagging_freq is set=20, subsample_freq=0 will be ignored. Current value: bagging_freq=20\n",
      "Training until validation scores don't improve for 100 rounds\n",
      "[100]\ttraining's l1: 0.844652\tvalid_1's l1: 1.40182\n"
     ]
    },
    {
     "name": "stderr",
     "output_type": "stream",
     "text": [
      "\u001b[32m[I 2021-07-29 15:06:30,560]\u001b[0m Trial 15 finished with value: -1.3979903631574346 and parameters: {'max_depth': 11, 'min_child_weight': 20, 'subsample': 0.7, 'colsample_bytree': 0.8, 'reg_lambda': 90.32331703273529, 'reg_alpha': 0.19318903614371014, 'feature_fraction': 0.9279786810660713, 'bagging_fraction': 0.5360095282938593, 'bagging_freq': 20, 'num_leaves': 650, 'min_child_samples': 37}. Best is trial 5 with value: -1.3867764799985007.\u001b[0m\n"
     ]
    },
    {
     "name": "stdout",
     "output_type": "stream",
     "text": [
      "Early stopping, best iteration is:\n",
      "[44]\ttraining's l1: 0.906676\tvalid_1's l1: 1.39801\n",
      "[LightGBM] [Warning] feature_fraction is set=0.4868395444537273, colsample_bytree=0.6 will be ignored. Current value: feature_fraction=0.4868395444537273\n",
      "[LightGBM] [Warning] bagging_fraction is set=0.7681702587649706, subsample=0.6 will be ignored. Current value: bagging_fraction=0.7681702587649706\n",
      "[LightGBM] [Warning] bagging_freq is set=10, subsample_freq=0 will be ignored. Current value: bagging_freq=10\n",
      "Training until validation scores don't improve for 100 rounds\n",
      "[100]\ttraining's l1: 0.880384\tvalid_1's l1: 1.4018\n",
      "Early stopping, best iteration is:\n",
      "[84]\ttraining's l1: 0.882867\tvalid_1's l1: 1.40113\n"
     ]
    },
    {
     "name": "stderr",
     "output_type": "stream",
     "text": [
      "\u001b[32m[I 2021-07-29 15:06:42,868]\u001b[0m Trial 16 finished with value: -1.401039915624525 and parameters: {'max_depth': 14, 'min_child_weight': 6, 'subsample': 0.6, 'colsample_bytree': 0.6, 'reg_lambda': 613.4466780262572, 'reg_alpha': 0.0011984778057556025, 'feature_fraction': 0.4868395444537273, 'bagging_fraction': 0.7681702587649706, 'bagging_freq': 10, 'num_leaves': 420, 'min_child_samples': 59}. Best is trial 5 with value: -1.3867764799985007.\u001b[0m\n"
     ]
    },
    {
     "name": "stdout",
     "output_type": "stream",
     "text": [
      "[LightGBM] [Warning] feature_fraction is set=0.7439242069344533, colsample_bytree=0.5 will be ignored. Current value: feature_fraction=0.7439242069344533\n",
      "[LightGBM] [Warning] bagging_fraction is set=0.6870118541700436, subsample=0.8 will be ignored. Current value: bagging_fraction=0.6870118541700436\n",
      "[LightGBM] [Warning] bagging_freq is set=7, subsample_freq=0 will be ignored. Current value: bagging_freq=7\n",
      "Training until validation scores don't improve for 100 rounds\n",
      "[100]\ttraining's l1: 0.898407\tvalid_1's l1: 1.40295\n",
      "[200]\ttraining's l1: 0.88287\tvalid_1's l1: 1.40427\n"
     ]
    },
    {
     "name": "stderr",
     "output_type": "stream",
     "text": [
      "\u001b[32m[I 2021-07-29 15:06:53,407]\u001b[0m Trial 17 finished with value: -1.4025576710778118 and parameters: {'max_depth': 17, 'min_child_weight': 9, 'subsample': 0.8, 'colsample_bytree': 0.5, 'reg_lambda': 10.33924001225769, 'reg_alpha': 5.327454290296971, 'feature_fraction': 0.7439242069344533, 'bagging_fraction': 0.6870118541700436, 'bagging_freq': 7, 'num_leaves': 165, 'min_child_samples': 17}. Best is trial 5 with value: -1.3867764799985007.\u001b[0m\n"
     ]
    },
    {
     "name": "stdout",
     "output_type": "stream",
     "text": [
      "Early stopping, best iteration is:\n",
      "[125]\ttraining's l1: 0.895026\tvalid_1's l1: 1.40269\n",
      "[LightGBM] [Warning] feature_fraction is set=0.9930133625177708, colsample_bytree=0.9 will be ignored. Current value: feature_fraction=0.9930133625177708\n",
      "[LightGBM] [Warning] bagging_fraction is set=0.8662611354124955, subsample=0.5 will be ignored. Current value: bagging_fraction=0.8662611354124955\n",
      "[LightGBM] [Warning] bagging_freq is set=4, subsample_freq=0 will be ignored. Current value: bagging_freq=4\n",
      "Training until validation scores don't improve for 100 rounds\n",
      "[100]\ttraining's l1: 1.04295\tvalid_1's l1: 1.43957\n",
      "[200]\ttraining's l1: 1.02145\tvalid_1's l1: 1.42536\n",
      "[300]\ttraining's l1: 1.01635\tvalid_1's l1: 1.42236\n",
      "[400]\ttraining's l1: 1.01208\tvalid_1's l1: 1.41859\n",
      "[500]\ttraining's l1: 1.0037\tvalid_1's l1: 1.41391\n",
      "[600]\ttraining's l1: 0.997177\tvalid_1's l1: 1.41213\n",
      "[700]\ttraining's l1: 0.991886\tvalid_1's l1: 1.41006\n",
      "[800]\ttraining's l1: 0.987279\tvalid_1's l1: 1.40856\n",
      "[900]\ttraining's l1: 0.98407\tvalid_1's l1: 1.40777\n",
      "[1000]\ttraining's l1: 0.98117\tvalid_1's l1: 1.40665\n",
      "[1100]\ttraining's l1: 0.980726\tvalid_1's l1: 1.40651\n",
      "Early stopping, best iteration is:\n",
      "[1012]\ttraining's l1: 0.980797\tvalid_1's l1: 1.40649\n"
     ]
    },
    {
     "name": "stderr",
     "output_type": "stream",
     "text": [
      "\u001b[32m[I 2021-07-29 15:07:31,777]\u001b[0m Trial 18 finished with value: -1.4062874648966304 and parameters: {'max_depth': 7, 'min_child_weight': 2, 'subsample': 0.5, 'colsample_bytree': 0.9, 'reg_lambda': 0.3192577011875047, 'reg_alpha': 0.4419586316008791, 'feature_fraction': 0.9930133625177708, 'bagging_fraction': 0.8662611354124955, 'bagging_freq': 4, 'num_leaves': 18, 'min_child_samples': 81}. Best is trial 5 with value: -1.3867764799985007.\u001b[0m\n"
     ]
    },
    {
     "name": "stdout",
     "output_type": "stream",
     "text": [
      "[LightGBM] [Warning] feature_fraction is set=0.8994462221055785, colsample_bytree=0.7 will be ignored. Current value: feature_fraction=0.8994462221055785\n",
      "[LightGBM] [Warning] bagging_fraction is set=0.5578723074799075, subsample=0.7 will be ignored. Current value: bagging_fraction=0.5578723074799075\n",
      "[LightGBM] [Warning] bagging_freq is set=11, subsample_freq=0 will be ignored. Current value: bagging_freq=11\n",
      "Training until validation scores don't improve for 100 rounds\n",
      "[100]\ttraining's l1: 1.04432\tvalid_1's l1: 1.44129\n",
      "[200]\ttraining's l1: 1.0153\tvalid_1's l1: 1.42061\n",
      "[300]\ttraining's l1: 1.00118\tvalid_1's l1: 1.41687\n",
      "[400]\ttraining's l1: 0.986122\tvalid_1's l1: 1.41369\n",
      "[500]\ttraining's l1: 0.975321\tvalid_1's l1: 1.4114\n",
      "[600]\ttraining's l1: 0.965667\tvalid_1's l1: 1.41019\n",
      "[700]\ttraining's l1: 0.956439\tvalid_1's l1: 1.4081\n",
      "[800]\ttraining's l1: 0.948058\tvalid_1's l1: 1.406\n",
      "[900]\ttraining's l1: 0.943576\tvalid_1's l1: 1.40271\n",
      "[1000]\ttraining's l1: 0.938624\tvalid_1's l1: 1.40126\n",
      "[1100]\ttraining's l1: 0.93366\tvalid_1's l1: 1.40149\n",
      "Early stopping, best iteration is:\n",
      "[1098]\ttraining's l1: 0.933815\tvalid_1's l1: 1.40086\n"
     ]
    },
    {
     "name": "stderr",
     "output_type": "stream",
     "text": [
      "\u001b[32m[I 2021-07-29 15:07:55,666]\u001b[0m Trial 19 finished with value: -1.400231601173362 and parameters: {'max_depth': 4, 'min_child_weight': 15, 'subsample': 0.7, 'colsample_bytree': 0.7, 'reg_lambda': 183.14350300329994, 'reg_alpha': 17.252743005761715, 'feature_fraction': 0.8994462221055785, 'bagging_fraction': 0.5578723074799075, 'bagging_freq': 11, 'num_leaves': 224, 'min_child_samples': 42}. Best is trial 5 with value: -1.3867764799985007.\u001b[0m\n"
     ]
    },
    {
     "name": "stdout",
     "output_type": "stream",
     "text": [
      "[LightGBM] [Warning] feature_fraction is set=0.7088287068107308, colsample_bytree=0.8 will be ignored. Current value: feature_fraction=0.7088287068107308\n",
      "[LightGBM] [Warning] bagging_fraction is set=0.4722299834509946, subsample=0.8 will be ignored. Current value: bagging_fraction=0.4722299834509946\n",
      "[LightGBM] [Warning] bagging_freq is set=15, subsample_freq=0 will be ignored. Current value: bagging_freq=15\n",
      "Training until validation scores don't improve for 100 rounds\n",
      "[100]\ttraining's l1: 0.919402\tvalid_1's l1: 1.40083\n",
      "[200]\ttraining's l1: 0.912742\tvalid_1's l1: 1.39866\n",
      "[300]\ttraining's l1: 0.875129\tvalid_1's l1: 1.40226\n",
      "Early stopping, best iteration is:\n",
      "[264]\ttraining's l1: 0.890383\tvalid_1's l1: 1.39301\n"
     ]
    },
    {
     "name": "stderr",
     "output_type": "stream",
     "text": [
      "\u001b[32m[I 2021-07-29 15:08:06,110]\u001b[0m Trial 20 finished with value: -1.3928849188526098 and parameters: {'max_depth': 8, 'min_child_weight': 3, 'subsample': 0.8, 'colsample_bytree': 0.8, 'reg_lambda': 0.0010123195279293858, 'reg_alpha': 0.02527223839738775, 'feature_fraction': 0.7088287068107308, 'bagging_fraction': 0.4722299834509946, 'bagging_freq': 15, 'num_leaves': 479, 'min_child_samples': 57}. Best is trial 5 with value: -1.3867764799985007.\u001b[0m\n"
     ]
    },
    {
     "name": "stdout",
     "output_type": "stream",
     "text": [
      "[LightGBM] [Warning] feature_fraction is set=0.8669916254828285, colsample_bytree=0.7 will be ignored. Current value: feature_fraction=0.8669916254828285\n",
      "[LightGBM] [Warning] bagging_fraction is set=0.38275419703230174, subsample=0.9 will be ignored. Current value: bagging_fraction=0.38275419703230174\n",
      "[LightGBM] [Warning] bagging_freq is set=20, subsample_freq=0 will be ignored. Current value: bagging_freq=20\n",
      "Training until validation scores don't improve for 100 rounds\n",
      "[100]\ttraining's l1: 0.932298\tvalid_1's l1: 1.40433\n"
     ]
    },
    {
     "name": "stderr",
     "output_type": "stream",
     "text": [
      "\u001b[32m[I 2021-07-29 15:08:12,816]\u001b[0m Trial 21 finished with value: -1.4030650167792518 and parameters: {'max_depth': 10, 'min_child_weight': 20, 'subsample': 0.9, 'colsample_bytree': 0.7, 'reg_lambda': 300.1035674834772, 'reg_alpha': 1.13385235193422, 'feature_fraction': 0.8669916254828285, 'bagging_fraction': 0.38275419703230174, 'bagging_freq': 20, 'num_leaves': 104, 'min_child_samples': 49}. Best is trial 5 with value: -1.3867764799985007.\u001b[0m\n"
     ]
    },
    {
     "name": "stdout",
     "output_type": "stream",
     "text": [
      "Early stopping, best iteration is:\n",
      "[88]\ttraining's l1: 0.937288\tvalid_1's l1: 1.40309\n",
      "[LightGBM] [Warning] feature_fraction is set=0.8052696549170398, colsample_bytree=0.6 will be ignored. Current value: feature_fraction=0.8052696549170398\n",
      "[LightGBM] [Warning] bagging_fraction is set=0.37411459338927555, subsample=0.9 will be ignored. Current value: bagging_fraction=0.37411459338927555\n",
      "[LightGBM] [Warning] bagging_freq is set=18, subsample_freq=0 will be ignored. Current value: bagging_freq=18\n",
      "Training until validation scores don't improve for 100 rounds\n",
      "[100]\ttraining's l1: 0.903729\tvalid_1's l1: 1.40241\n"
     ]
    },
    {
     "name": "stderr",
     "output_type": "stream",
     "text": [
      "\u001b[32m[I 2021-07-29 15:08:19,985]\u001b[0m Trial 22 finished with value: -1.3994368596042093 and parameters: {'max_depth': 11, 'min_child_weight': 17, 'subsample': 0.9, 'colsample_bytree': 0.6, 'reg_lambda': 921.7442594801796, 'reg_alpha': 1.1398843273802466, 'feature_fraction': 0.8052696549170398, 'bagging_fraction': 0.37411459338927555, 'bagging_freq': 18, 'num_leaves': 234, 'min_child_samples': 72}. Best is trial 5 with value: -1.3867764799985007.\u001b[0m\n"
     ]
    },
    {
     "name": "stdout",
     "output_type": "stream",
     "text": [
      "Early stopping, best iteration is:\n",
      "[97]\ttraining's l1: 0.905236\tvalid_1's l1: 1.39949\n",
      "[LightGBM] [Warning] feature_fraction is set=0.9307559052204117, colsample_bytree=0.7 will be ignored. Current value: feature_fraction=0.9307559052204117\n",
      "[LightGBM] [Warning] bagging_fraction is set=0.22215439674905008, subsample=0.9 will be ignored. Current value: bagging_fraction=0.22215439674905008\n",
      "[LightGBM] [Warning] bagging_freq is set=19, subsample_freq=0 will be ignored. Current value: bagging_freq=19\n",
      "Training until validation scores don't improve for 100 rounds\n",
      "[100]\ttraining's l1: 0.966369\tvalid_1's l1: 1.39973\n",
      "[200]\ttraining's l1: 0.948882\tvalid_1's l1: 1.39411\n",
      "[300]\ttraining's l1: 0.936426\tvalid_1's l1: 1.3928\n",
      "[400]\ttraining's l1: 0.919055\tvalid_1's l1: 1.3992\n",
      "Early stopping, best iteration is:\n",
      "[302]\ttraining's l1: 0.936012\tvalid_1's l1: 1.39244\n"
     ]
    },
    {
     "name": "stderr",
     "output_type": "stream",
     "text": [
      "\u001b[32m[I 2021-07-29 15:08:28,163]\u001b[0m Trial 23 finished with value: -1.3923201075629026 and parameters: {'max_depth': 8, 'min_child_weight': 14, 'subsample': 0.9, 'colsample_bytree': 0.7, 'reg_lambda': 37.79151812134751, 'reg_alpha': 4.372715527765932, 'feature_fraction': 0.9307559052204117, 'bagging_fraction': 0.22215439674905008, 'bagging_freq': 19, 'num_leaves': 62, 'min_child_samples': 36}. Best is trial 5 with value: -1.3867764799985007.\u001b[0m\n"
     ]
    },
    {
     "name": "stdout",
     "output_type": "stream",
     "text": [
      "[LightGBM] [Warning] feature_fraction is set=0.999954632564373, colsample_bytree=0.6 will be ignored. Current value: feature_fraction=0.999954632564373\n",
      "[LightGBM] [Warning] bagging_fraction is set=0.3183454225815102, subsample=0.8 will be ignored. Current value: bagging_fraction=0.3183454225815102\n",
      "[LightGBM] [Warning] bagging_freq is set=17, subsample_freq=0 will be ignored. Current value: bagging_freq=17\n",
      "Training until validation scores don't improve for 100 rounds\n",
      "[100]\ttraining's l1: 0.909889\tvalid_1's l1: 1.39104\n",
      "[200]\ttraining's l1: 0.883352\tvalid_1's l1: 1.3962\n"
     ]
    },
    {
     "name": "stderr",
     "output_type": "stream",
     "text": [
      "\u001b[32m[I 2021-07-29 15:08:35,776]\u001b[0m Trial 24 finished with value: -1.3896076443650789 and parameters: {'max_depth': 10, 'min_child_weight': 10, 'subsample': 0.8, 'colsample_bytree': 0.6, 'reg_lambda': 233.68036208259673, 'reg_alpha': 0.38681518901184697, 'feature_fraction': 0.999954632564373, 'bagging_fraction': 0.3183454225815102, 'bagging_freq': 17, 'num_leaves': 151, 'min_child_samples': 19}. Best is trial 5 with value: -1.3867764799985007.\u001b[0m\n"
     ]
    },
    {
     "name": "stdout",
     "output_type": "stream",
     "text": [
      "Early stopping, best iteration is:\n",
      "[107]\ttraining's l1: 0.905522\tvalid_1's l1: 1.38971\n",
      "[LightGBM] [Warning] feature_fraction is set=0.9998337095324147, colsample_bytree=0.6 will be ignored. Current value: feature_fraction=0.9998337095324147\n",
      "[LightGBM] [Warning] bagging_fraction is set=0.29973672934651047, subsample=0.8 will be ignored. Current value: bagging_fraction=0.29973672934651047\n",
      "[LightGBM] [Warning] bagging_freq is set=16, subsample_freq=0 will be ignored. Current value: bagging_freq=16\n",
      "Training until validation scores don't improve for 100 rounds\n",
      "[100]\ttraining's l1: 0.814838\tvalid_1's l1: 1.42727\n"
     ]
    },
    {
     "name": "stderr",
     "output_type": "stream",
     "text": [
      "\u001b[32m[I 2021-07-29 15:08:45,317]\u001b[0m Trial 25 finished with value: -1.411234640417493 and parameters: {'max_depth': 12, 'min_child_weight': 10, 'subsample': 0.8, 'colsample_bytree': 0.6, 'reg_lambda': 5.37285420981531, 'reg_alpha': 0.0028949628362643113, 'feature_fraction': 0.9998337095324147, 'bagging_fraction': 0.29973672934651047, 'bagging_freq': 16, 'num_leaves': 1000, 'min_child_samples': 12}. Best is trial 5 with value: -1.3867764799985007.\u001b[0m\n"
     ]
    },
    {
     "name": "stdout",
     "output_type": "stream",
     "text": [
      "Early stopping, best iteration is:\n",
      "[31]\ttraining's l1: 0.896972\tvalid_1's l1: 1.41124\n",
      "[LightGBM] [Warning] feature_fraction is set=0.943085853951198, colsample_bytree=0.5 will be ignored. Current value: feature_fraction=0.943085853951198\n",
      "[LightGBM] [Warning] bagging_fraction is set=0.20180049102576048, subsample=0.7 will be ignored. Current value: bagging_fraction=0.20180049102576048\n",
      "[LightGBM] [Warning] bagging_freq is set=14, subsample_freq=0 will be ignored. Current value: bagging_freq=14\n",
      "Training until validation scores don't improve for 100 rounds\n",
      "[100]\ttraining's l1: 0.867386\tvalid_1's l1: 1.40024\n",
      "Early stopping, best iteration is:\n",
      "[91]\ttraining's l1: 0.870491\tvalid_1's l1: 1.39831\n"
     ]
    },
    {
     "name": "stderr",
     "output_type": "stream",
     "text": [
      "\u001b[32m[I 2021-07-29 15:08:54,214]\u001b[0m Trial 26 finished with value: -1.3979677828171801 and parameters: {'max_depth': 15, 'min_child_weight': 6, 'subsample': 0.7, 'colsample_bytree': 0.5, 'reg_lambda': 30.58359350560198, 'reg_alpha': 0.24768881045242003, 'feature_fraction': 0.943085853951198, 'bagging_fraction': 0.20180049102576048, 'bagging_freq': 14, 'num_leaves': 298, 'min_child_samples': 18}. Best is trial 5 with value: -1.3867764799985007.\u001b[0m\n"
     ]
    },
    {
     "name": "stdout",
     "output_type": "stream",
     "text": [
      "[LightGBM] [Warning] feature_fraction is set=0.8363650448758257, colsample_bytree=0.6 will be ignored. Current value: feature_fraction=0.8363650448758257\n",
      "[LightGBM] [Warning] bagging_fraction is set=0.3413150847113953, subsample=0.6 will be ignored. Current value: bagging_fraction=0.3413150847113953\n",
      "[LightGBM] [Warning] bagging_freq is set=17, subsample_freq=0 will be ignored. Current value: bagging_freq=17\n",
      "Training until validation scores don't improve for 100 rounds\n",
      "[100]\ttraining's l1: 0.88437\tvalid_1's l1: 1.39574\n"
     ]
    },
    {
     "name": "stderr",
     "output_type": "stream",
     "text": [
      "\u001b[32m[I 2021-07-29 15:09:01,304]\u001b[0m Trial 27 finished with value: -1.3925417426219886 and parameters: {'max_depth': 10, 'min_child_weight': 8, 'subsample': 0.6, 'colsample_bytree': 0.6, 'reg_lambda': 162.89009323339846, 'reg_alpha': 0.041475636838989915, 'feature_fraction': 0.8363650448758257, 'bagging_fraction': 0.3413150847113953, 'bagging_freq': 17, 'num_leaves': 383, 'min_child_samples': 21}. Best is trial 5 with value: -1.3867764799985007.\u001b[0m\n"
     ]
    },
    {
     "name": "stdout",
     "output_type": "stream",
     "text": [
      "Early stopping, best iteration is:\n",
      "[73]\ttraining's l1: 0.901721\tvalid_1's l1: 1.39258\n",
      "[LightGBM] [Warning] feature_fraction is set=0.9917644112892642, colsample_bytree=0.5 will be ignored. Current value: feature_fraction=0.9917644112892642\n",
      "[LightGBM] [Warning] bagging_fraction is set=0.4344685437249466, subsample=0.8 will be ignored. Current value: bagging_fraction=0.4344685437249466\n",
      "[LightGBM] [Warning] bagging_freq is set=2, subsample_freq=0 will be ignored. Current value: bagging_freq=2\n",
      "Training until validation scores don't improve for 100 rounds\n",
      "[100]\ttraining's l1: 0.979605\tvalid_1's l1: 1.40862\n",
      "[200]\ttraining's l1: 0.964091\tvalid_1's l1: 1.4042\n",
      "[300]\ttraining's l1: 0.957284\tvalid_1's l1: 1.40272\n",
      "[400]\ttraining's l1: 0.953122\tvalid_1's l1: 1.40208\n",
      "[500]\ttraining's l1: 0.949891\tvalid_1's l1: 1.3997\n",
      "[600]\ttraining's l1: 0.947669\tvalid_1's l1: 1.39931\n",
      "Early stopping, best iteration is:\n",
      "[528]\ttraining's l1: 0.949136\tvalid_1's l1: 1.39887\n"
     ]
    },
    {
     "name": "stderr",
     "output_type": "stream",
     "text": [
      "\u001b[32m[I 2021-07-29 15:09:22,067]\u001b[0m Trial 28 finished with value: -1.3988262452297178 and parameters: {'max_depth': 7, 'min_child_weight': 13, 'subsample': 0.8, 'colsample_bytree': 0.5, 'reg_lambda': 52.0212117866291, 'reg_alpha': 549.1728317097147, 'feature_fraction': 0.9917644112892642, 'bagging_fraction': 0.4344685437249466, 'bagging_freq': 2, 'num_leaves': 122, 'min_child_samples': 32}. Best is trial 5 with value: -1.3867764799985007.\u001b[0m\n"
     ]
    },
    {
     "name": "stdout",
     "output_type": "stream",
     "text": [
      "[LightGBM] [Warning] feature_fraction is set=0.392025429594571, colsample_bytree=0.6 will be ignored. Current value: feature_fraction=0.392025429594571\n",
      "[LightGBM] [Warning] bagging_fraction is set=0.6050808237068713, subsample=0.7 will be ignored. Current value: bagging_fraction=0.6050808237068713\n",
      "[LightGBM] [Warning] bagging_freq is set=2, subsample_freq=0 will be ignored. Current value: bagging_freq=2\n",
      "Training until validation scores don't improve for 100 rounds\n",
      "[100]\ttraining's l1: 0.920959\tvalid_1's l1: 1.40427\n",
      "[200]\ttraining's l1: 0.888488\tvalid_1's l1: 1.40205\n",
      "Early stopping, best iteration is:\n",
      "[161]\ttraining's l1: 0.897354\tvalid_1's l1: 1.40126\n"
     ]
    },
    {
     "name": "stderr",
     "output_type": "stream",
     "text": [
      "\u001b[32m[I 2021-07-29 15:09:35,576]\u001b[0m Trial 29 finished with value: -1.4011879940452778 and parameters: {'max_depth': 12, 'min_child_weight': 11, 'subsample': 0.7, 'colsample_bytree': 0.6, 'reg_lambda': 209.24580441835744, 'reg_alpha': 88.30912848992944, 'feature_fraction': 0.392025429594571, 'bagging_fraction': 0.6050808237068713, 'bagging_freq': 2, 'num_leaves': 270, 'min_child_samples': 74}. Best is trial 5 with value: -1.3867764799985007.\u001b[0m\n"
     ]
    },
    {
     "name": "stdout",
     "output_type": "stream",
     "text": [
      "[LightGBM] [Warning] feature_fraction is set=0.6526379172565229, colsample_bytree=0.8 will be ignored. Current value: feature_fraction=0.6526379172565229\n",
      "[LightGBM] [Warning] bagging_fraction is set=0.2561614896330554, subsample=0.6 will be ignored. Current value: bagging_fraction=0.2561614896330554\n",
      "[LightGBM] [Warning] bagging_freq is set=12, subsample_freq=0 will be ignored. Current value: bagging_freq=12\n",
      "Training until validation scores don't improve for 100 rounds\n",
      "[100]\ttraining's l1: 0.882204\tvalid_1's l1: 1.39884\n",
      "Early stopping, best iteration is:\n",
      "[83]\ttraining's l1: 0.89242\tvalid_1's l1: 1.39635\n"
     ]
    },
    {
     "name": "stderr",
     "output_type": "stream",
     "text": [
      "\u001b[32m[I 2021-07-29 15:09:43,312]\u001b[0m Trial 30 finished with value: -1.3962848920744595 and parameters: {'max_depth': 14, 'min_child_weight': 7, 'subsample': 0.6, 'colsample_bytree': 0.8, 'reg_lambda': 719.59089291668, 'reg_alpha': 13.92130555962957, 'feature_fraction': 0.6526379172565229, 'bagging_fraction': 0.2561614896330554, 'bagging_freq': 12, 'num_leaves': 805, 'min_child_samples': 54}. Best is trial 5 with value: -1.3867764799985007.\u001b[0m\n"
     ]
    },
    {
     "name": "stdout",
     "output_type": "stream",
     "text": [
      "[LightGBM] [Warning] feature_fraction is set=0.8872963955117433, colsample_bytree=0.7 will be ignored. Current value: feature_fraction=0.8872963955117433\n",
      "[LightGBM] [Warning] bagging_fraction is set=0.40461378409273296, subsample=0.9 will be ignored. Current value: bagging_fraction=0.40461378409273296\n",
      "[LightGBM] [Warning] bagging_freq is set=19, subsample_freq=0 will be ignored. Current value: bagging_freq=19\n",
      "Training until validation scores don't improve for 100 rounds\n",
      "[100]\ttraining's l1: 0.926283\tvalid_1's l1: 1.39963\n"
     ]
    },
    {
     "name": "stderr",
     "output_type": "stream",
     "text": [
      "\u001b[32m[I 2021-07-29 15:09:49,610]\u001b[0m Trial 31 finished with value: -1.3961164547799194 and parameters: {'max_depth': 9, 'min_child_weight': 18, 'subsample': 0.9, 'colsample_bytree': 0.7, 'reg_lambda': 404.65016151831185, 'reg_alpha': 0.5734186115640222, 'feature_fraction': 0.8872963955117433, 'bagging_fraction': 0.40461378409273296, 'bagging_freq': 19, 'num_leaves': 131, 'min_child_samples': 12}. Best is trial 5 with value: -1.3867764799985007.\u001b[0m\n"
     ]
    },
    {
     "name": "stdout",
     "output_type": "stream",
     "text": [
      "Early stopping, best iteration is:\n",
      "[75]\ttraining's l1: 0.940344\tvalid_1's l1: 1.39615\n",
      "[LightGBM] [Warning] feature_fraction is set=0.8645201426207347, colsample_bytree=0.7 will be ignored. Current value: feature_fraction=0.8645201426207347\n",
      "[LightGBM] [Warning] bagging_fraction is set=0.31587778289003754, subsample=0.8 will be ignored. Current value: bagging_fraction=0.31587778289003754\n",
      "[LightGBM] [Warning] bagging_freq is set=18, subsample_freq=0 will be ignored. Current value: bagging_freq=18\n",
      "Training until validation scores don't improve for 100 rounds\n",
      "[100]\ttraining's l1: 1.19167\tvalid_1's l1: 1.59629\n"
     ]
    },
    {
     "name": "stderr",
     "output_type": "stream",
     "text": [
      "\u001b[32m[I 2021-07-29 15:09:52,734]\u001b[0m Trial 32 finished with value: -1.5953441752780777 and parameters: {'max_depth': 1, 'min_child_weight': 16, 'subsample': 0.8, 'colsample_bytree': 0.7, 'reg_lambda': 984.535350841723, 'reg_alpha': 2.565203544300328, 'feature_fraction': 0.8645201426207347, 'bagging_fraction': 0.31587778289003754, 'bagging_freq': 18, 'num_leaves': 169, 'min_child_samples': 44}. Best is trial 5 with value: -1.3867764799985007.\u001b[0m\n"
     ]
    },
    {
     "name": "stdout",
     "output_type": "stream",
     "text": [
      "Early stopping, best iteration is:\n",
      "[53]\ttraining's l1: 1.19379\tvalid_1's l1: 1.59534\n",
      "[LightGBM] [Warning] feature_fraction is set=0.7844706931226308, colsample_bytree=0.6 will be ignored. Current value: feature_fraction=0.7844706931226308\n",
      "[LightGBM] [Warning] bagging_fraction is set=0.37074620910100814, subsample=0.8 will be ignored. Current value: bagging_fraction=0.37074620910100814\n",
      "[LightGBM] [Warning] bagging_freq is set=20, subsample_freq=0 will be ignored. Current value: bagging_freq=20\n",
      "Training until validation scores don't improve for 100 rounds\n",
      "[100]\ttraining's l1: 1.0042\tvalid_1's l1: 1.42019\n",
      "[200]\ttraining's l1: 0.996143\tvalid_1's l1: 1.41364\n",
      "[300]\ttraining's l1: 0.981109\tvalid_1's l1: 1.40817\n",
      "[400]\ttraining's l1: 0.959395\tvalid_1's l1: 1.39968\n",
      "Early stopping, best iteration is:\n",
      "[354]\ttraining's l1: 0.964602\tvalid_1's l1: 1.39938\n"
     ]
    },
    {
     "name": "stderr",
     "output_type": "stream",
     "text": [
      "\u001b[32m[I 2021-07-29 15:10:00,824]\u001b[0m Trial 33 finished with value: -1.3990993921399508 and parameters: {'max_depth': 5, 'min_child_weight': 10, 'subsample': 0.8, 'colsample_bytree': 0.6, 'reg_lambda': 102.18983270895392, 'reg_alpha': 0.10107354370567151, 'feature_fraction': 0.7844706931226308, 'bagging_fraction': 0.37074620910100814, 'bagging_freq': 20, 'num_leaves': 85, 'min_child_samples': 51}. Best is trial 5 with value: -1.3867764799985007.\u001b[0m\n"
     ]
    },
    {
     "name": "stdout",
     "output_type": "stream",
     "text": [
      "[LightGBM] [Warning] feature_fraction is set=0.9441749138716864, colsample_bytree=0.7 will be ignored. Current value: feature_fraction=0.9441749138716864\n",
      "[LightGBM] [Warning] bagging_fraction is set=0.2663239834350336, subsample=0.5 will be ignored. Current value: bagging_fraction=0.2663239834350336\n",
      "[LightGBM] [Warning] bagging_freq is set=18, subsample_freq=0 will be ignored. Current value: bagging_freq=18\n",
      "Training until validation scores don't improve for 100 rounds\n",
      "[100]\ttraining's l1: 0.929946\tvalid_1's l1: 1.39536\n",
      "[200]\ttraining's l1: 0.914094\tvalid_1's l1: 1.4001\n"
     ]
    },
    {
     "name": "stderr",
     "output_type": "stream",
     "text": [
      "\u001b[32m[I 2021-07-29 15:10:07,522]\u001b[0m Trial 34 finished with value: -1.395062199092584 and parameters: {'max_depth': 8, 'min_child_weight': 13, 'subsample': 0.5, 'colsample_bytree': 0.7, 'reg_lambda': 234.24356365787798, 'reg_alpha': 1.945172771728439, 'feature_fraction': 0.9441749138716864, 'bagging_fraction': 0.2663239834350336, 'bagging_freq': 18, 'num_leaves': 255, 'min_child_samples': 41}. Best is trial 5 with value: -1.3867764799985007.\u001b[0m\n"
     ]
    },
    {
     "name": "stdout",
     "output_type": "stream",
     "text": [
      "Early stopping, best iteration is:\n",
      "[125]\ttraining's l1: 0.922778\tvalid_1's l1: 1.39513\n",
      "[LightGBM] [Warning] feature_fraction is set=0.9120461063150661, colsample_bytree=0.7 will be ignored. Current value: feature_fraction=0.9120461063150661\n",
      "[LightGBM] [Warning] bagging_fraction is set=0.46276507437135345, subsample=0.9 will be ignored. Current value: bagging_fraction=0.46276507437135345\n",
      "[LightGBM] [Warning] bagging_freq is set=16, subsample_freq=0 will be ignored. Current value: bagging_freq=16\n",
      "Training until validation scores don't improve for 100 rounds\n",
      "[100]\ttraining's l1: 0.861501\tvalid_1's l1: 1.40464\n"
     ]
    },
    {
     "name": "stderr",
     "output_type": "stream",
     "text": [
      "\u001b[32m[I 2021-07-29 15:10:16,390]\u001b[0m Trial 35 finished with value: -1.3981242386760957 and parameters: {'max_depth': 10, 'min_child_weight': 8, 'subsample': 0.9, 'colsample_bytree': 0.7, 'reg_lambda': 23.808723270852013, 'reg_alpha': 0.007857145057386244, 'feature_fraction': 0.9120461063150661, 'bagging_fraction': 0.46276507437135345, 'bagging_freq': 16, 'num_leaves': 415, 'min_child_samples': 26}. Best is trial 5 with value: -1.3867764799985007.\u001b[0m\n"
     ]
    },
    {
     "name": "stdout",
     "output_type": "stream",
     "text": [
      "Early stopping, best iteration is:\n",
      "[79]\ttraining's l1: 0.876286\tvalid_1's l1: 1.39821\n",
      "[LightGBM] [Warning] feature_fraction is set=0.8453377115119904, colsample_bytree=0.6 will be ignored. Current value: feature_fraction=0.8453377115119904\n",
      "[LightGBM] [Warning] bagging_fraction is set=0.9605120318964379, subsample=0.8 will be ignored. Current value: bagging_fraction=0.9605120318964379\n",
      "[LightGBM] [Warning] bagging_freq is set=19, subsample_freq=0 will be ignored. Current value: bagging_freq=19\n",
      "Training until validation scores don't improve for 100 rounds\n",
      "[100]\ttraining's l1: 0.943686\tvalid_1's l1: 1.40197\n",
      "[200]\ttraining's l1: 0.941066\tvalid_1's l1: 1.40123\n"
     ]
    },
    {
     "name": "stderr",
     "output_type": "stream",
     "text": [
      "\u001b[32m[I 2021-07-29 15:10:25,618]\u001b[0m Trial 36 finished with value: -1.4011786794313223 and parameters: {'max_depth': 7, 'min_child_weight': 9, 'subsample': 0.8, 'colsample_bytree': 0.6, 'reg_lambda': 0.050051868970950576, 'reg_alpha': 0.5192305378587837, 'feature_fraction': 0.8453377115119904, 'bagging_fraction': 0.9605120318964379, 'bagging_freq': 19, 'num_leaves': 166, 'min_child_samples': 60}. Best is trial 5 with value: -1.3867764799985007.\u001b[0m\n"
     ]
    },
    {
     "name": "stdout",
     "output_type": "stream",
     "text": [
      "Early stopping, best iteration is:\n",
      "[110]\ttraining's l1: 0.942502\tvalid_1's l1: 1.40121\n",
      "[LightGBM] [Warning] feature_fraction is set=0.5263314845324517, colsample_bytree=0.8 will be ignored. Current value: feature_fraction=0.5263314845324517\n",
      "[LightGBM] [Warning] bagging_fraction is set=0.6453374645278127, subsample=0.9 will be ignored. Current value: bagging_fraction=0.6453374645278127\n",
      "[LightGBM] [Warning] bagging_freq is set=6, subsample_freq=0 will be ignored. Current value: bagging_freq=6\n",
      "Training until validation scores don't improve for 100 rounds\n",
      "[100]\ttraining's l1: 0.906932\tvalid_1's l1: 1.39512\n"
     ]
    },
    {
     "name": "stderr",
     "output_type": "stream",
     "text": [
      "\u001b[32m[I 2021-07-29 15:10:35,736]\u001b[0m Trial 37 finished with value: -1.395069478394073 and parameters: {'max_depth': 9, 'min_child_weight': 18, 'subsample': 0.9, 'colsample_bytree': 0.8, 'reg_lambda': 78.98374099205684, 'reg_alpha': 11.576357414209635, 'feature_fraction': 0.5263314845324517, 'bagging_fraction': 0.6453374645278127, 'bagging_freq': 6, 'num_leaves': 978, 'min_child_samples': 34}. Best is trial 5 with value: -1.3867764799985007.\u001b[0m\n"
     ]
    },
    {
     "name": "stdout",
     "output_type": "stream",
     "text": [
      "[200]\ttraining's l1: 0.897186\tvalid_1's l1: 1.39751\n",
      "Early stopping, best iteration is:\n",
      "[100]\ttraining's l1: 0.906932\tvalid_1's l1: 1.39512\n",
      "[LightGBM] [Warning] feature_fraction is set=0.7876934314674593, colsample_bytree=0.5 will be ignored. Current value: feature_fraction=0.7876934314674593\n",
      "[LightGBM] [Warning] bagging_fraction is set=0.23665100834135783, subsample=0.7 will be ignored. Current value: bagging_fraction=0.23665100834135783\n",
      "[LightGBM] [Warning] bagging_freq is set=17, subsample_freq=0 will be ignored. Current value: bagging_freq=17\n",
      "Training until validation scores don't improve for 100 rounds\n",
      "[100]\ttraining's l1: 1.05676\tvalid_1's l1: 1.44421\n",
      "[200]\ttraining's l1: 1.04338\tvalid_1's l1: 1.43585\n",
      "[300]\ttraining's l1: 1.02566\tvalid_1's l1: 1.42607\n",
      "[400]\ttraining's l1: 1.00994\tvalid_1's l1: 1.41941\n",
      "[500]\ttraining's l1: 0.999336\tvalid_1's l1: 1.41396\n",
      "[600]\ttraining's l1: 0.986385\tvalid_1's l1: 1.40924\n",
      "[700]\ttraining's l1: 0.9791\tvalid_1's l1: 1.40774\n",
      "[800]\ttraining's l1: 0.972537\tvalid_1's l1: 1.40677\n",
      "[900]\ttraining's l1: 0.967767\tvalid_1's l1: 1.40588\n",
      "[1000]\ttraining's l1: 0.963361\tvalid_1's l1: 1.40312\n",
      "[1100]\ttraining's l1: 0.95804\tvalid_1's l1: 1.4003\n",
      "Early stopping, best iteration is:\n",
      "[1077]\ttraining's l1: 0.958667\tvalid_1's l1: 1.3991\n"
     ]
    },
    {
     "name": "stderr",
     "output_type": "stream",
     "text": [
      "\u001b[32m[I 2021-07-29 15:10:48,809]\u001b[0m Trial 38 finished with value: -1.398933940806296 and parameters: {'max_depth': 11, 'min_child_weight': 12, 'subsample': 0.7, 'colsample_bytree': 0.5, 'reg_lambda': 1.2374393071546261, 'reg_alpha': 132.19484245436612, 'feature_fraction': 0.7876934314674593, 'bagging_fraction': 0.23665100834135783, 'bagging_freq': 17, 'num_leaves': 11, 'min_child_samples': 67}. Best is trial 5 with value: -1.3867764799985007.\u001b[0m\n"
     ]
    },
    {
     "name": "stdout",
     "output_type": "stream",
     "text": [
      "[LightGBM] [Warning] feature_fraction is set=0.9557928688323463, colsample_bytree=0.6 will be ignored. Current value: feature_fraction=0.9557928688323463\n",
      "[LightGBM] [Warning] bagging_fraction is set=0.42359578724260466, subsample=0.8 will be ignored. Current value: bagging_fraction=0.42359578724260466\n",
      "[LightGBM] [Warning] bagging_freq is set=14, subsample_freq=0 will be ignored. Current value: bagging_freq=14\n",
      "Training until validation scores don't improve for 100 rounds\n",
      "[100]\ttraining's l1: 1.00682\tvalid_1's l1: 1.41799\n",
      "[200]\ttraining's l1: 1.0024\tvalid_1's l1: 1.41504\n",
      "[300]\ttraining's l1: 0.994554\tvalid_1's l1: 1.41033\n",
      "[400]\ttraining's l1: 0.981835\tvalid_1's l1: 1.40862\n",
      "Early stopping, best iteration is:\n",
      "[395]\ttraining's l1: 0.982324\tvalid_1's l1: 1.40732\n"
     ]
    },
    {
     "name": "stderr",
     "output_type": "stream",
     "text": [
      "\u001b[32m[I 2021-07-29 15:10:58,733]\u001b[0m Trial 39 finished with value: -1.4071063634459022 and parameters: {'max_depth': 5, 'min_child_weight': 1, 'subsample': 0.8, 'colsample_bytree': 0.6, 'reg_lambda': 365.428031288197, 'reg_alpha': 0.07229691953442521, 'feature_fraction': 0.9557928688323463, 'bagging_fraction': 0.42359578724260466, 'bagging_freq': 14, 'num_leaves': 845, 'min_child_samples': 12}. Best is trial 5 with value: -1.3867764799985007.\u001b[0m\n"
     ]
    },
    {
     "name": "stdout",
     "output_type": "stream",
     "text": [
      "[LightGBM] [Warning] feature_fraction is set=0.9948952223289792, colsample_bytree=0.7 will be ignored. Current value: feature_fraction=0.9948952223289792\n",
      "[LightGBM] [Warning] bagging_fraction is set=0.9013340907742515, subsample=0.9 will be ignored. Current value: bagging_fraction=0.9013340907742515\n",
      "[LightGBM] [Warning] bagging_freq is set=1, subsample_freq=0 will be ignored. Current value: bagging_freq=1\n",
      "Training until validation scores don't improve for 100 rounds\n",
      "[100]\ttraining's l1: 0.801928\tvalid_1's l1: 1.40607\n"
     ]
    },
    {
     "name": "stderr",
     "output_type": "stream",
     "text": [
      "\u001b[32m[I 2021-07-29 15:11:12,367]\u001b[0m Trial 40 finished with value: -1.3940937274222251 and parameters: {'max_depth': 13, 'min_child_weight': 6, 'subsample': 0.9, 'colsample_bytree': 0.7, 'reg_lambda': 0.47562393240630446, 'reg_alpha': 31.65019968823641, 'feature_fraction': 0.9948952223289792, 'bagging_fraction': 0.9013340907742515, 'bagging_freq': 1, 'num_leaves': 677, 'min_child_samples': 5}. Best is trial 5 with value: -1.3867764799985007.\u001b[0m\n"
     ]
    },
    {
     "name": "stdout",
     "output_type": "stream",
     "text": [
      "Early stopping, best iteration is:\n",
      "[40]\ttraining's l1: 0.881125\tvalid_1's l1: 1.3941\n",
      "[LightGBM] [Warning] feature_fraction is set=0.8956490952947624, colsample_bytree=0.7 will be ignored. Current value: feature_fraction=0.8956490952947624\n",
      "[LightGBM] [Warning] bagging_fraction is set=0.21671847992464477, subsample=0.9 will be ignored. Current value: bagging_fraction=0.21671847992464477\n",
      "[LightGBM] [Warning] bagging_freq is set=19, subsample_freq=0 will be ignored. Current value: bagging_freq=19\n",
      "Training until validation scores don't improve for 100 rounds\n",
      "[100]\ttraining's l1: 0.970957\tvalid_1's l1: 1.40624\n",
      "[200]\ttraining's l1: 0.95672\tvalid_1's l1: 1.39854\n",
      "[300]\ttraining's l1: 0.935708\tvalid_1's l1: 1.39485\n",
      "[400]\ttraining's l1: 0.906387\tvalid_1's l1: 1.39356\n",
      "[500]\ttraining's l1: 0.892802\tvalid_1's l1: 1.39389\n",
      "Early stopping, best iteration is:\n",
      "[408]\ttraining's l1: 0.904064\tvalid_1's l1: 1.39304\n"
     ]
    },
    {
     "name": "stderr",
     "output_type": "stream",
     "text": [
      "\u001b[32m[I 2021-07-29 15:11:21,729]\u001b[0m Trial 41 finished with value: -1.392762097065724 and parameters: {'max_depth': 8, 'min_child_weight': 14, 'subsample': 0.9, 'colsample_bytree': 0.7, 'reg_lambda': 39.26258609917846, 'reg_alpha': 4.487368092953437, 'feature_fraction': 0.8956490952947624, 'bagging_fraction': 0.21671847992464477, 'bagging_freq': 19, 'num_leaves': 59, 'min_child_samples': 46}. Best is trial 5 with value: -1.3867764799985007.\u001b[0m\n"
     ]
    },
    {
     "name": "stdout",
     "output_type": "stream",
     "text": [
      "[LightGBM] [Warning] feature_fraction is set=0.9379604725564963, colsample_bytree=0.7 will be ignored. Current value: feature_fraction=0.9379604725564963\n",
      "[LightGBM] [Warning] bagging_fraction is set=0.3075754145633265, subsample=0.9 will be ignored. Current value: bagging_fraction=0.3075754145633265\n",
      "[LightGBM] [Warning] bagging_freq is set=19, subsample_freq=0 will be ignored. Current value: bagging_freq=19\n",
      "Training until validation scores don't improve for 100 rounds\n",
      "[100]\ttraining's l1: 0.964392\tvalid_1's l1: 1.40589\n",
      "[200]\ttraining's l1: 0.952791\tvalid_1's l1: 1.39999\n",
      "[300]\ttraining's l1: 0.932208\tvalid_1's l1: 1.4002\n",
      "[400]\ttraining's l1: 0.905676\tvalid_1's l1: 1.3966\n",
      "Early stopping, best iteration is:\n",
      "[364]\ttraining's l1: 0.909406\tvalid_1's l1: 1.39517\n"
     ]
    },
    {
     "name": "stderr",
     "output_type": "stream",
     "text": [
      "\u001b[32m[I 2021-07-29 15:11:32,149]\u001b[0m Trial 42 finished with value: -1.3949826098961375 and parameters: {'max_depth': 9, 'min_child_weight': 15, 'subsample': 0.9, 'colsample_bytree': 0.7, 'reg_lambda': 58.01482376528489, 'reg_alpha': 2.7052750429012216, 'feature_fraction': 0.9379604725564963, 'bagging_fraction': 0.3075754145633265, 'bagging_freq': 19, 'num_leaves': 61, 'min_child_samples': 37}. Best is trial 5 with value: -1.3867764799985007.\u001b[0m\n"
     ]
    },
    {
     "name": "stdout",
     "output_type": "stream",
     "text": [
      "[LightGBM] [Warning] feature_fraction is set=0.9657899553512977, colsample_bytree=0.9 will be ignored. Current value: feature_fraction=0.9657899553512977\n",
      "[LightGBM] [Warning] bagging_fraction is set=0.352507326123627, subsample=0.9 will be ignored. Current value: bagging_fraction=0.352507326123627\n",
      "[LightGBM] [Warning] bagging_freq is set=17, subsample_freq=0 will be ignored. Current value: bagging_freq=17\n",
      "Training until validation scores don't improve for 100 rounds\n",
      "[100]\ttraining's l1: 0.965083\tvalid_1's l1: 1.40001\n",
      "[200]\ttraining's l1: 0.94696\tvalid_1's l1: 1.39373\n",
      "[300]\ttraining's l1: 0.939997\tvalid_1's l1: 1.39189\n",
      "Early stopping, best iteration is:\n",
      "[290]\ttraining's l1: 0.940234\tvalid_1's l1: 1.39162\n"
     ]
    },
    {
     "name": "stderr",
     "output_type": "stream",
     "text": [
      "\u001b[32m[I 2021-07-29 15:11:40,415]\u001b[0m Trial 43 finished with value: -1.3915037947235676 and parameters: {'max_depth': 6, 'min_child_weight': 17, 'subsample': 0.9, 'colsample_bytree': 0.9, 'reg_lambda': 4.845962988141669, 'reg_alpha': 1.1659015329023354, 'feature_fraction': 0.9657899553512977, 'bagging_fraction': 0.352507326123627, 'bagging_freq': 17, 'num_leaves': 302, 'min_child_samples': 23}. Best is trial 5 with value: -1.3867764799985007.\u001b[0m\n"
     ]
    },
    {
     "name": "stdout",
     "output_type": "stream",
     "text": [
      "[LightGBM] [Warning] feature_fraction is set=0.8244882117924517, colsample_bytree=0.9 will be ignored. Current value: feature_fraction=0.8244882117924517\n",
      "[LightGBM] [Warning] bagging_fraction is set=0.3514385173588812, subsample=0.9 will be ignored. Current value: bagging_fraction=0.3514385173588812\n",
      "[LightGBM] [Warning] bagging_freq is set=15, subsample_freq=0 will be ignored. Current value: bagging_freq=15\n",
      "Training until validation scores don't improve for 100 rounds\n",
      "[100]\ttraining's l1: 0.977956\tvalid_1's l1: 1.41431\n",
      "[200]\ttraining's l1: 0.971905\tvalid_1's l1: 1.41109\n",
      "[300]\ttraining's l1: 0.956204\tvalid_1's l1: 1.40652\n",
      "[400]\ttraining's l1: 0.929236\tvalid_1's l1: 1.4021\n",
      "Early stopping, best iteration is:\n",
      "[397]\ttraining's l1: 0.930721\tvalid_1's l1: 1.39923\n"
     ]
    },
    {
     "name": "stderr",
     "output_type": "stream",
     "text": [
      "\u001b[32m[I 2021-07-29 15:11:50,019]\u001b[0m Trial 44 finished with value: -1.3990794294950448 and parameters: {'max_depth': 6, 'min_child_weight': 19, 'subsample': 0.9, 'colsample_bytree': 0.9, 'reg_lambda': 2.8237197202956175, 'reg_alpha': 0.8443696370680933, 'feature_fraction': 0.8244882117924517, 'bagging_fraction': 0.3514385173588812, 'bagging_freq': 15, 'num_leaves': 332, 'min_child_samples': 23}. Best is trial 5 with value: -1.3867764799985007.\u001b[0m\n"
     ]
    },
    {
     "name": "stdout",
     "output_type": "stream",
     "text": [
      "[LightGBM] [Warning] feature_fraction is set=0.9690053122689655, colsample_bytree=0.9 will be ignored. Current value: feature_fraction=0.9690053122689655\n",
      "[LightGBM] [Warning] bagging_fraction is set=0.9918438545218455, subsample=0.6 will be ignored. Current value: bagging_fraction=0.9918438545218455\n",
      "[LightGBM] [Warning] bagging_freq is set=17, subsample_freq=0 will be ignored. Current value: bagging_freq=17\n",
      "Training until validation scores don't improve for 100 rounds\n",
      "[100]\ttraining's l1: 1.06589\tvalid_1's l1: 1.45839\n",
      "[200]\ttraining's l1: 1.0551\tvalid_1's l1: 1.44919\n",
      "[300]\ttraining's l1: 1.04738\tvalid_1's l1: 1.44101\n",
      "[400]\ttraining's l1: 1.04254\tvalid_1's l1: 1.43883\n",
      "[500]\ttraining's l1: 1.03658\tvalid_1's l1: 1.43527\n",
      "[600]\ttraining's l1: 1.03243\tvalid_1's l1: 1.43362\n",
      "[700]\ttraining's l1: 1.02869\tvalid_1's l1: 1.43067\n",
      "[800]\ttraining's l1: 1.02572\tvalid_1's l1: 1.42888\n",
      "Early stopping, best iteration is:\n",
      "[730]\ttraining's l1: 1.02706\tvalid_1's l1: 1.42872\n"
     ]
    },
    {
     "name": "stderr",
     "output_type": "stream",
     "text": [
      "\u001b[32m[I 2021-07-29 15:12:12,715]\u001b[0m Trial 45 finished with value: -1.4264988161945233 and parameters: {'max_depth': 3, 'min_child_weight': 16, 'subsample': 0.6, 'colsample_bytree': 0.9, 'reg_lambda': 9.862755444963, 'reg_alpha': 0.24412559928844896, 'feature_fraction': 0.9690053122689655, 'bagging_fraction': 0.9918438545218455, 'bagging_freq': 17, 'num_leaves': 588, 'min_child_samples': 20}. Best is trial 5 with value: -1.3867764799985007.\u001b[0m\n"
     ]
    },
    {
     "name": "stdout",
     "output_type": "stream",
     "text": [
      "[LightGBM] [Warning] feature_fraction is set=0.7577906300416639, colsample_bytree=0.9 will be ignored. Current value: feature_fraction=0.7577906300416639\n",
      "[LightGBM] [Warning] bagging_fraction is set=0.5065655572147703, subsample=0.8 will be ignored. Current value: bagging_fraction=0.5065655572147703\n",
      "[LightGBM] [Warning] bagging_freq is set=15, subsample_freq=0 will be ignored. Current value: bagging_freq=15\n",
      "Training until validation scores don't improve for 100 rounds\n",
      "[100]\ttraining's l1: 0.893621\tvalid_1's l1: 1.39593\n"
     ]
    },
    {
     "name": "stderr",
     "output_type": "stream",
     "text": [
      "\u001b[32m[I 2021-07-29 15:12:20,276]\u001b[0m Trial 46 finished with value: -1.3949416259836886 and parameters: {'max_depth': 10, 'min_child_weight': 4, 'subsample': 0.8, 'colsample_bytree': 0.9, 'reg_lambda': 426.4506155460828, 'reg_alpha': 1.5409486748281869, 'feature_fraction': 0.7577906300416639, 'bagging_fraction': 0.5065655572147703, 'bagging_freq': 15, 'num_leaves': 282, 'min_child_samples': 29}. Best is trial 5 with value: -1.3867764799985007.\u001b[0m\n"
     ]
    },
    {
     "name": "stdout",
     "output_type": "stream",
     "text": [
      "Early stopping, best iteration is:\n",
      "[76]\ttraining's l1: 0.905921\tvalid_1's l1: 1.39497\n",
      "[LightGBM] [Warning] feature_fraction is set=0.8696273294516598, colsample_bytree=0.8 will be ignored. Current value: feature_fraction=0.8696273294516598\n",
      "[LightGBM] [Warning] bagging_fraction is set=0.7785842158053098, subsample=0.7 will be ignored. Current value: bagging_fraction=0.7785842158053098\n",
      "[LightGBM] [Warning] bagging_freq is set=9, subsample_freq=0 will be ignored. Current value: bagging_freq=9\n",
      "Training until validation scores don't improve for 100 rounds\n",
      "[100]\ttraining's l1: 1.00807\tvalid_1's l1: 1.42443\n",
      "[200]\ttraining's l1: 1.00087\tvalid_1's l1: 1.41997\n",
      "[300]\ttraining's l1: 0.979124\tvalid_1's l1: 1.41118\n",
      "[400]\ttraining's l1: 0.958356\tvalid_1's l1: 1.40116\n",
      "[500]\ttraining's l1: 0.93974\tvalid_1's l1: 1.4012\n",
      "Early stopping, best iteration is:\n",
      "[407]\ttraining's l1: 0.957157\tvalid_1's l1: 1.40061\n"
     ]
    },
    {
     "name": "stderr",
     "output_type": "stream",
     "text": [
      "\u001b[32m[I 2021-07-29 15:12:35,420]\u001b[0m Trial 47 finished with value: -1.4002502979387705 and parameters: {'max_depth': 5, 'min_child_weight': 11, 'subsample': 0.7, 'colsample_bytree': 0.8, 'reg_lambda': 0.08445999622146279, 'reg_alpha': 8.180839703998481, 'feature_fraction': 0.8696273294516598, 'bagging_fraction': 0.7785842158053098, 'bagging_freq': 9, 'num_leaves': 195, 'min_child_samples': 15}. Best is trial 5 with value: -1.3867764799985007.\u001b[0m\n"
     ]
    },
    {
     "name": "stdout",
     "output_type": "stream",
     "text": [
      "[LightGBM] [Warning] feature_fraction is set=0.9059035400052944, colsample_bytree=0.8 will be ignored. Current value: feature_fraction=0.9059035400052944\n",
      "[LightGBM] [Warning] bagging_fraction is set=0.28841986058868596, subsample=0.5 will be ignored. Current value: bagging_fraction=0.28841986058868596\n",
      "[LightGBM] [Warning] bagging_freq is set=13, subsample_freq=0 will be ignored. Current value: bagging_freq=13\n",
      "Training until validation scores don't improve for 100 rounds\n",
      "[100]\ttraining's l1: 0.951068\tvalid_1's l1: 1.39388\n",
      "[200]\ttraining's l1: 0.944093\tvalid_1's l1: 1.39325\n",
      "[300]\ttraining's l1: 0.940295\tvalid_1's l1: 1.39309\n",
      "[400]\ttraining's l1: 0.92559\tvalid_1's l1: 1.39415\n",
      "Early stopping, best iteration is:\n",
      "[337]\ttraining's l1: 0.937584\tvalid_1's l1: 1.39118\n"
     ]
    },
    {
     "name": "stderr",
     "output_type": "stream",
     "text": [
      "\u001b[32m[I 2021-07-29 15:12:44,548]\u001b[0m Trial 48 finished with value: -1.3908658102305889 and parameters: {'max_depth': 7, 'min_child_weight': 17, 'subsample': 0.5, 'colsample_bytree': 0.8, 'reg_lambda': 113.36330210962873, 'reg_alpha': 0.36535529061757904, 'feature_fraction': 0.9059035400052944, 'bagging_fraction': 0.28841986058868596, 'bagging_freq': 13, 'num_leaves': 343, 'min_child_samples': 8}. Best is trial 5 with value: -1.3867764799985007.\u001b[0m\n"
     ]
    },
    {
     "name": "stdout",
     "output_type": "stream",
     "text": [
      "[LightGBM] [Warning] feature_fraction is set=0.9710608732363264, colsample_bytree=0.8 will be ignored. Current value: feature_fraction=0.9710608732363264\n",
      "[LightGBM] [Warning] bagging_fraction is set=0.2997240381703193, subsample=0.5 will be ignored. Current value: bagging_fraction=0.2997240381703193\n",
      "[LightGBM] [Warning] bagging_freq is set=12, subsample_freq=0 will be ignored. Current value: bagging_freq=12\n",
      "Training until validation scores don't improve for 100 rounds\n",
      "[100]\ttraining's l1: 0.938758\tvalid_1's l1: 1.40033\n",
      "[200]\ttraining's l1: 0.934929\tvalid_1's l1: 1.39964\n",
      "Early stopping, best iteration is:\n",
      "[111]\ttraining's l1: 0.937133\tvalid_1's l1: 1.39908\n"
     ]
    },
    {
     "name": "stderr",
     "output_type": "stream",
     "text": [
      "\u001b[32m[I 2021-07-29 15:12:50,330]\u001b[0m Trial 49 finished with value: -1.398983147979244 and parameters: {'max_depth': 7, 'min_child_weight': 9, 'subsample': 0.5, 'colsample_bytree': 0.8, 'reg_lambda': 5.507388812951485, 'reg_alpha': 0.023220977922055498, 'feature_fraction': 0.9710608732363264, 'bagging_fraction': 0.2997240381703193, 'bagging_freq': 12, 'num_leaves': 374, 'min_child_samples': 8}. Best is trial 5 with value: -1.3867764799985007.\u001b[0m\n"
     ]
    },
    {
     "name": "stdout",
     "output_type": "stream",
     "text": [
      "[LightGBM] [Warning] feature_fraction is set=0.9170229463646598, colsample_bytree=0.8 will be ignored. Current value: feature_fraction=0.9170229463646598\n",
      "[LightGBM] [Warning] bagging_fraction is set=0.269897118826369, subsample=0.5 will be ignored. Current value: bagging_fraction=0.269897118826369\n",
      "[LightGBM] [Warning] bagging_freq is set=4, subsample_freq=0 will be ignored. Current value: bagging_freq=4\n",
      "Training until validation scores don't improve for 100 rounds\n",
      "[100]\ttraining's l1: 0.980247\tvalid_1's l1: 1.40714\n",
      "[200]\ttraining's l1: 0.968807\tvalid_1's l1: 1.40316\n",
      "[300]\ttraining's l1: 0.945401\tvalid_1's l1: 1.39811\n",
      "[400]\ttraining's l1: 0.923032\tvalid_1's l1: 1.39491\n",
      "[500]\ttraining's l1: 0.906819\tvalid_1's l1: 1.39493\n",
      "Early stopping, best iteration is:\n",
      "[423]\ttraining's l1: 0.91888\tvalid_1's l1: 1.39385\n"
     ]
    },
    {
     "name": "stderr",
     "output_type": "stream",
     "text": [
      "\u001b[32m[I 2021-07-29 15:13:00,669]\u001b[0m Trial 50 finished with value: -1.3935473976019046 and parameters: {'max_depth': 6, 'min_child_weight': 7, 'subsample': 0.5, 'colsample_bytree': 0.8, 'reg_lambda': 23.139811634597713, 'reg_alpha': 0.31977527529478866, 'feature_fraction': 0.9170229463646598, 'bagging_fraction': 0.269897118826369, 'bagging_freq': 4, 'num_leaves': 450, 'min_child_samples': 5}. Best is trial 5 with value: -1.3867764799985007.\u001b[0m\n"
     ]
    },
    {
     "name": "stdout",
     "output_type": "stream",
     "text": [
      "[LightGBM] [Warning] feature_fraction is set=0.8928263859167694, colsample_bytree=0.9 will be ignored. Current value: feature_fraction=0.8928263859167694\n",
      "[LightGBM] [Warning] bagging_fraction is set=0.4033195249980056, subsample=0.6 will be ignored. Current value: bagging_fraction=0.4033195249980056\n",
      "[LightGBM] [Warning] bagging_freq is set=13, subsample_freq=0 will be ignored. Current value: bagging_freq=13\n",
      "Training until validation scores don't improve for 100 rounds\n",
      "[100]\ttraining's l1: 1.0416\tvalid_1's l1: 1.43675\n",
      "[200]\ttraining's l1: 1.02954\tvalid_1's l1: 1.42776\n",
      "[300]\ttraining's l1: 1.0225\tvalid_1's l1: 1.42261\n",
      "[400]\ttraining's l1: 1.01769\tvalid_1's l1: 1.41817\n",
      "[500]\ttraining's l1: 1.0096\tvalid_1's l1: 1.41473\n",
      "[600]\ttraining's l1: 1.00165\tvalid_1's l1: 1.4115\n",
      "[700]\ttraining's l1: 0.989121\tvalid_1's l1: 1.40793\n",
      "[800]\ttraining's l1: 0.976014\tvalid_1's l1: 1.40318\n",
      "[900]\ttraining's l1: 0.965323\tvalid_1's l1: 1.39979\n",
      "[1000]\ttraining's l1: 0.959339\tvalid_1's l1: 1.39782\n",
      "[1100]\ttraining's l1: 0.952035\tvalid_1's l1: 1.3961\n",
      "[1200]\ttraining's l1: 0.943674\tvalid_1's l1: 1.39651\n",
      "Early stopping, best iteration is:\n",
      "[1134]\ttraining's l1: 0.949855\tvalid_1's l1: 1.39521\n"
     ]
    },
    {
     "name": "stderr",
     "output_type": "stream",
     "text": [
      "\u001b[32m[I 2021-07-29 15:13:20,221]\u001b[0m Trial 51 finished with value: -1.3945810721086962 and parameters: {'max_depth': 4, 'min_child_weight': 17, 'subsample': 0.6, 'colsample_bytree': 0.9, 'reg_lambda': 137.80974677624835, 'reg_alpha': 0.7093296245718959, 'feature_fraction': 0.8928263859167694, 'bagging_fraction': 0.4033195249980056, 'bagging_freq': 13, 'num_leaves': 304, 'min_child_samples': 15}. Best is trial 5 with value: -1.3867764799985007.\u001b[0m\n"
     ]
    },
    {
     "name": "stdout",
     "output_type": "stream",
     "text": [
      "[LightGBM] [Warning] feature_fraction is set=0.9982328266363271, colsample_bytree=0.8 will be ignored. Current value: feature_fraction=0.9982328266363271\n",
      "[LightGBM] [Warning] bagging_fraction is set=0.34906250143758405, subsample=0.5 will be ignored. Current value: bagging_fraction=0.34906250143758405\n",
      "[LightGBM] [Warning] bagging_freq is set=18, subsample_freq=0 will be ignored. Current value: bagging_freq=18\n",
      "Training until validation scores don't improve for 100 rounds\n",
      "[100]\ttraining's l1: 0.93123\tvalid_1's l1: 1.3928\n",
      "[200]\ttraining's l1: 0.888835\tvalid_1's l1: 1.39092\n"
     ]
    },
    {
     "name": "stderr",
     "output_type": "stream",
     "text": [
      "\u001b[32m[I 2021-07-29 15:13:27,843]\u001b[0m Trial 52 finished with value: -1.3866466124574095 and parameters: {'max_depth': 8, 'min_child_weight': 19, 'subsample': 0.5, 'colsample_bytree': 0.8, 'reg_lambda': 981.8113366379072, 'reg_alpha': 0.11950890130716904, 'feature_fraction': 0.9982328266363271, 'bagging_fraction': 0.34906250143758405, 'bagging_freq': 18, 'num_leaves': 213, 'min_child_samples': 25}. Best is trial 52 with value: -1.3866466124574095.\u001b[0m\n"
     ]
    },
    {
     "name": "stdout",
     "output_type": "stream",
     "text": [
      "Early stopping, best iteration is:\n",
      "[128]\ttraining's l1: 0.911536\tvalid_1's l1: 1.3867\n",
      "[LightGBM] [Warning] feature_fraction is set=0.9949374541744024, colsample_bytree=0.8 will be ignored. Current value: feature_fraction=0.9949374541744024\n",
      "[LightGBM] [Warning] bagging_fraction is set=0.3473270287513221, subsample=0.5 will be ignored. Current value: bagging_fraction=0.3473270287513221\n",
      "[LightGBM] [Warning] bagging_freq is set=16, subsample_freq=0 will be ignored. Current value: bagging_freq=16\n",
      "Training until validation scores don't improve for 100 rounds\n",
      "[100]\ttraining's l1: 0.927992\tvalid_1's l1: 1.38729\n",
      "[200]\ttraining's l1: 0.886275\tvalid_1's l1: 1.3922\n"
     ]
    },
    {
     "name": "stderr",
     "output_type": "stream",
     "text": [
      "\u001b[32m[I 2021-07-29 15:13:35,338]\u001b[0m Trial 53 finished with value: -1.384784094239111 and parameters: {'max_depth': 8, 'min_child_weight': 19, 'subsample': 0.5, 'colsample_bytree': 0.8, 'reg_lambda': 535.8000301821521, 'reg_alpha': 0.13340982358950584, 'feature_fraction': 0.9949374541744024, 'bagging_fraction': 0.3473270287513221, 'bagging_freq': 16, 'num_leaves': 535, 'min_child_samples': 24}. Best is trial 53 with value: -1.384784094239111.\u001b[0m\n"
     ]
    },
    {
     "name": "stdout",
     "output_type": "stream",
     "text": [
      "Early stopping, best iteration is:\n",
      "[112]\ttraining's l1: 0.91978\tvalid_1's l1: 1.38486\n",
      "[LightGBM] [Warning] feature_fraction is set=0.991695059630976, colsample_bytree=0.8 will be ignored. Current value: feature_fraction=0.991695059630976\n",
      "[LightGBM] [Warning] bagging_fraction is set=0.32531970691252104, subsample=0.5 will be ignored. Current value: bagging_fraction=0.32531970691252104\n",
      "[LightGBM] [Warning] bagging_freq is set=17, subsample_freq=0 will be ignored. Current value: bagging_freq=17\n",
      "Training until validation scores don't improve for 100 rounds\n",
      "[100]\ttraining's l1: 0.934663\tvalid_1's l1: 1.39405\n",
      "[200]\ttraining's l1: 0.89851\tvalid_1's l1: 1.39422\n"
     ]
    },
    {
     "name": "stderr",
     "output_type": "stream",
     "text": [
      "\u001b[32m[I 2021-07-29 15:13:42,612]\u001b[0m Trial 54 finished with value: -1.3898760462443678 and parameters: {'max_depth': 8, 'min_child_weight': 19, 'subsample': 0.5, 'colsample_bytree': 0.8, 'reg_lambda': 981.3825482598694, 'reg_alpha': 0.14401413861265758, 'feature_fraction': 0.991695059630976, 'bagging_fraction': 0.32531970691252104, 'bagging_freq': 17, 'num_leaves': 509, 'min_child_samples': 24}. Best is trial 53 with value: -1.384784094239111.\u001b[0m\n"
     ]
    },
    {
     "name": "stdout",
     "output_type": "stream",
     "text": [
      "Early stopping, best iteration is:\n",
      "[116]\ttraining's l1: 0.922373\tvalid_1's l1: 1.38993\n",
      "[LightGBM] [Warning] feature_fraction is set=0.9973331741365149, colsample_bytree=0.8 will be ignored. Current value: feature_fraction=0.9973331741365149\n",
      "[LightGBM] [Warning] bagging_fraction is set=0.3278165935246542, subsample=0.5 will be ignored. Current value: bagging_fraction=0.3278165935246542\n",
      "[LightGBM] [Warning] bagging_freq is set=16, subsample_freq=0 will be ignored. Current value: bagging_freq=16\n",
      "Training until validation scores don't improve for 100 rounds\n",
      "[100]\ttraining's l1: 0.930534\tvalid_1's l1: 1.38539\n",
      "[200]\ttraining's l1: 0.899502\tvalid_1's l1: 1.38989\n"
     ]
    },
    {
     "name": "stderr",
     "output_type": "stream",
     "text": [
      "\u001b[32m[I 2021-07-29 15:13:49,763]\u001b[0m Trial 55 finished with value: -1.3839654834951516 and parameters: {'max_depth': 8, 'min_child_weight': 19, 'subsample': 0.5, 'colsample_bytree': 0.8, 'reg_lambda': 925.2697466118267, 'reg_alpha': 0.11753575003604008, 'feature_fraction': 0.9973331741365149, 'bagging_fraction': 0.3278165935246542, 'bagging_freq': 16, 'num_leaves': 529, 'min_child_samples': 26}. Best is trial 55 with value: -1.3839654834951516.\u001b[0m\n"
     ]
    },
    {
     "name": "stdout",
     "output_type": "stream",
     "text": [
      "Early stopping, best iteration is:\n",
      "[110]\ttraining's l1: 0.925931\tvalid_1's l1: 1.38402\n",
      "[LightGBM] [Warning] feature_fraction is set=0.9991201412670181, colsample_bytree=0.8 will be ignored. Current value: feature_fraction=0.9991201412670181\n",
      "[LightGBM] [Warning] bagging_fraction is set=0.3326585132294452, subsample=0.5 will be ignored. Current value: bagging_fraction=0.3326585132294452\n",
      "[LightGBM] [Warning] bagging_freq is set=16, subsample_freq=0 will be ignored. Current value: bagging_freq=16\n",
      "Training until validation scores don't improve for 100 rounds\n",
      "[100]\ttraining's l1: 0.933689\tvalid_1's l1: 1.39359\n",
      "[200]\ttraining's l1: 0.895876\tvalid_1's l1: 1.39279\n",
      "Early stopping, best iteration is:\n",
      "[178]\ttraining's l1: 0.900333\tvalid_1's l1: 1.39213\n"
     ]
    },
    {
     "name": "stderr",
     "output_type": "stream",
     "text": [
      "\u001b[32m[I 2021-07-29 15:13:58,814]\u001b[0m Trial 56 finished with value: -1.3919692653447486 and parameters: {'max_depth': 8, 'min_child_weight': 19, 'subsample': 0.5, 'colsample_bytree': 0.8, 'reg_lambda': 956.8636283106008, 'reg_alpha': 0.09809291358058253, 'feature_fraction': 0.9991201412670181, 'bagging_fraction': 0.3326585132294452, 'bagging_freq': 16, 'num_leaves': 566, 'min_child_samples': 30}. Best is trial 55 with value: -1.3839654834951516.\u001b[0m\n"
     ]
    },
    {
     "name": "stdout",
     "output_type": "stream",
     "text": [
      "[LightGBM] [Warning] feature_fraction is set=0.9992087728828118, colsample_bytree=0.8 will be ignored. Current value: feature_fraction=0.9992087728828118\n",
      "[LightGBM] [Warning] bagging_fraction is set=0.45649190287716757, subsample=0.5 will be ignored. Current value: bagging_fraction=0.45649190287716757\n",
      "[LightGBM] [Warning] bagging_freq is set=18, subsample_freq=0 will be ignored. Current value: bagging_freq=18\n",
      "Training until validation scores don't improve for 100 rounds\n",
      "[100]\ttraining's l1: 0.90084\tvalid_1's l1: 1.39319\n"
     ]
    },
    {
     "name": "stderr",
     "output_type": "stream",
     "text": [
      "\u001b[32m[I 2021-07-29 15:14:06,889]\u001b[0m Trial 57 finished with value: -1.3903625774730237 and parameters: {'max_depth': 9, 'min_child_weight': 20, 'subsample': 0.5, 'colsample_bytree': 0.8, 'reg_lambda': 510.2877290952854, 'reg_alpha': 0.016262542016466847, 'feature_fraction': 0.9992087728828118, 'bagging_fraction': 0.45649190287716757, 'bagging_freq': 18, 'num_leaves': 596, 'min_child_samples': 25}. Best is trial 55 with value: -1.3839654834951516.\u001b[0m\n"
     ]
    },
    {
     "name": "stdout",
     "output_type": "stream",
     "text": [
      "Early stopping, best iteration is:\n",
      "[77]\ttraining's l1: 0.91891\tvalid_1's l1: 1.39042\n",
      "[LightGBM] [Warning] feature_fraction is set=0.9989170244212134, colsample_bytree=0.8 will be ignored. Current value: feature_fraction=0.9989170244212134\n",
      "[LightGBM] [Warning] bagging_fraction is set=0.2453963942965652, subsample=0.5 will be ignored. Current value: bagging_fraction=0.2453963942965652\n",
      "[LightGBM] [Warning] bagging_freq is set=16, subsample_freq=0 will be ignored. Current value: bagging_freq=16\n",
      "Training until validation scores don't improve for 100 rounds\n",
      "[100]\ttraining's l1: 0.93577\tvalid_1's l1: 1.39307\n",
      "[200]\ttraining's l1: 0.897712\tvalid_1's l1: 1.39061\n",
      "Early stopping, best iteration is:\n",
      "[186]\ttraining's l1: 0.901202\tvalid_1's l1: 1.39013\n"
     ]
    },
    {
     "name": "stderr",
     "output_type": "stream",
     "text": [
      "\u001b[32m[I 2021-07-29 15:14:15,146]\u001b[0m Trial 58 finished with value: -1.389993612324708 and parameters: {'max_depth': 8, 'min_child_weight': 19, 'subsample': 0.5, 'colsample_bytree': 0.8, 'reg_lambda': 725.364904663964, 'reg_alpha': 0.005507780953978192, 'feature_fraction': 0.9989170244212134, 'bagging_fraction': 0.2453963942965652, 'bagging_freq': 16, 'num_leaves': 514, 'min_child_samples': 18}. Best is trial 55 with value: -1.3839654834951516.\u001b[0m\n"
     ]
    },
    {
     "name": "stdout",
     "output_type": "stream",
     "text": [
      "[LightGBM] [Warning] feature_fraction is set=0.20397512161947706, colsample_bytree=0.8 will be ignored. Current value: feature_fraction=0.20397512161947706\n",
      "[LightGBM] [Warning] bagging_fraction is set=0.39167694241105877, subsample=0.5 will be ignored. Current value: bagging_fraction=0.39167694241105877\n",
      "[LightGBM] [Warning] bagging_freq is set=15, subsample_freq=0 will be ignored. Current value: bagging_freq=15\n",
      "Training until validation scores don't improve for 100 rounds\n",
      "[100]\ttraining's l1: 0.94715\tvalid_1's l1: 1.41312\n",
      "[200]\ttraining's l1: 0.907421\tvalid_1's l1: 1.41346\n",
      "Early stopping, best iteration is:\n",
      "[123]\ttraining's l1: 0.934104\tvalid_1's l1: 1.41134\n"
     ]
    },
    {
     "name": "stderr",
     "output_type": "stream",
     "text": [
      "\u001b[32m[I 2021-07-29 15:14:21,990]\u001b[0m Trial 59 finished with value: -1.411257796230842 and parameters: {'max_depth': 9, 'min_child_weight': 20, 'subsample': 0.5, 'colsample_bytree': 0.8, 'reg_lambda': 237.74650888445584, 'reg_alpha': 0.04874970525265441, 'feature_fraction': 0.20397512161947706, 'bagging_fraction': 0.39167694241105877, 'bagging_freq': 15, 'num_leaves': 547, 'min_child_samples': 39}. Best is trial 55 with value: -1.3839654834951516.\u001b[0m\n"
     ]
    },
    {
     "name": "stdout",
     "output_type": "stream",
     "text": [
      "[LightGBM] [Warning] feature_fraction is set=0.9566138045499106, colsample_bytree=0.8 will be ignored. Current value: feature_fraction=0.9566138045499106\n",
      "[LightGBM] [Warning] bagging_fraction is set=0.3317319777266368, subsample=0.5 will be ignored. Current value: bagging_fraction=0.3317319777266368\n",
      "[LightGBM] [Warning] bagging_freq is set=17, subsample_freq=0 will be ignored. Current value: bagging_freq=17\n",
      "Training until validation scores don't improve for 100 rounds\n",
      "[100]\ttraining's l1: 0.885062\tvalid_1's l1: 1.40158\n"
     ]
    },
    {
     "name": "stderr",
     "output_type": "stream",
     "text": [
      "\u001b[32m[I 2021-07-29 15:14:31,529]\u001b[0m Trial 60 finished with value: -1.3973439389212243 and parameters: {'max_depth': 11, 'min_child_weight': 18, 'subsample': 0.5, 'colsample_bytree': 0.8, 'reg_lambda': 956.4610404916754, 'reg_alpha': 0.11905358362834495, 'feature_fraction': 0.9566138045499106, 'bagging_fraction': 0.3317319777266368, 'bagging_freq': 17, 'num_leaves': 636, 'min_child_samples': 32}. Best is trial 55 with value: -1.3839654834951516.\u001b[0m\n"
     ]
    },
    {
     "name": "stdout",
     "output_type": "stream",
     "text": [
      "Early stopping, best iteration is:\n",
      "[76]\ttraining's l1: 0.90406\tvalid_1's l1: 1.39736\n",
      "[LightGBM] [Warning] feature_fraction is set=0.9953489727797319, colsample_bytree=0.8 will be ignored. Current value: feature_fraction=0.9953489727797319\n",
      "[LightGBM] [Warning] bagging_fraction is set=0.24824717652548084, subsample=0.5 will be ignored. Current value: bagging_fraction=0.24824717652548084\n",
      "[LightGBM] [Warning] bagging_freq is set=16, subsample_freq=0 will be ignored. Current value: bagging_freq=16\n",
      "Training until validation scores don't improve for 100 rounds\n",
      "[100]\ttraining's l1: 0.932327\tvalid_1's l1: 1.39172\n"
     ]
    },
    {
     "name": "stderr",
     "output_type": "stream",
     "text": [
      "\u001b[32m[I 2021-07-29 15:14:37,377]\u001b[0m Trial 61 finished with value: -1.3894919032078192 and parameters: {'max_depth': 8, 'min_child_weight': 19, 'subsample': 0.5, 'colsample_bytree': 0.8, 'reg_lambda': 689.4066868033842, 'reg_alpha': 0.0019142181316032139, 'feature_fraction': 0.9953489727797319, 'bagging_fraction': 0.24824717652548084, 'bagging_freq': 16, 'num_leaves': 517, 'min_child_samples': 27}. Best is trial 55 with value: -1.3839654834951516.\u001b[0m\n"
     ]
    },
    {
     "name": "stdout",
     "output_type": "stream",
     "text": [
      "Early stopping, best iteration is:\n",
      "[82]\ttraining's l1: 0.943936\tvalid_1's l1: 1.38953\n",
      "[LightGBM] [Warning] feature_fraction is set=0.9763691436792444, colsample_bytree=0.8 will be ignored. Current value: feature_fraction=0.9763691436792444\n",
      "[LightGBM] [Warning] bagging_fraction is set=0.2832020912899763, subsample=0.5 will be ignored. Current value: bagging_fraction=0.2832020912899763\n",
      "[LightGBM] [Warning] bagging_freq is set=14, subsample_freq=0 will be ignored. Current value: bagging_freq=14\n",
      "Training until validation scores don't improve for 100 rounds\n",
      "[100]\ttraining's l1: 0.949284\tvalid_1's l1: 1.39239\n",
      "[200]\ttraining's l1: 0.920622\tvalid_1's l1: 1.39005\n"
     ]
    },
    {
     "name": "stderr",
     "output_type": "stream",
     "text": [
      "\u001b[32m[I 2021-07-29 15:14:44,214]\u001b[0m Trial 62 finished with value: -1.3881073932099632 and parameters: {'max_depth': 7, 'min_child_weight': 19, 'subsample': 0.5, 'colsample_bytree': 0.8, 'reg_lambda': 523.4023601079025, 'reg_alpha': 0.001624043652101017, 'feature_fraction': 0.9763691436792444, 'bagging_fraction': 0.2832020912899763, 'bagging_freq': 14, 'num_leaves': 499, 'min_child_samples': 27}. Best is trial 55 with value: -1.3839654834951516.\u001b[0m\n"
     ]
    },
    {
     "name": "stdout",
     "output_type": "stream",
     "text": [
      "Early stopping, best iteration is:\n",
      "[162]\ttraining's l1: 0.931765\tvalid_1's l1: 1.3882\n",
      "[LightGBM] [Warning] feature_fraction is set=0.9323248593009323, colsample_bytree=0.8 will be ignored. Current value: feature_fraction=0.9323248593009323\n",
      "[LightGBM] [Warning] bagging_fraction is set=0.2770083416037932, subsample=0.5 will be ignored. Current value: bagging_fraction=0.2770083416037932\n",
      "[LightGBM] [Warning] bagging_freq is set=14, subsample_freq=0 will be ignored. Current value: bagging_freq=14\n",
      "Training until validation scores don't improve for 100 rounds\n",
      "[100]\ttraining's l1: 0.951385\tvalid_1's l1: 1.39514\n",
      "[200]\ttraining's l1: 0.935777\tvalid_1's l1: 1.39214\n",
      "[300]\ttraining's l1: 0.92973\tvalid_1's l1: 1.39285\n",
      "Early stopping, best iteration is:\n",
      "[242]\ttraining's l1: 0.93463\tvalid_1's l1: 1.39156\n"
     ]
    },
    {
     "name": "stderr",
     "output_type": "stream",
     "text": [
      "\u001b[32m[I 2021-07-29 15:14:52,249]\u001b[0m Trial 63 finished with value: -1.391218764129145 and parameters: {'max_depth': 7, 'min_child_weight': 18, 'subsample': 0.5, 'colsample_bytree': 0.8, 'reg_lambda': 312.8386254009571, 'reg_alpha': 0.001752924821020183, 'feature_fraction': 0.9323248593009323, 'bagging_fraction': 0.2770083416037932, 'bagging_freq': 14, 'num_leaves': 735, 'min_child_samples': 26}. Best is trial 55 with value: -1.3839654834951516.\u001b[0m\n"
     ]
    },
    {
     "name": "stdout",
     "output_type": "stream",
     "text": [
      "[LightGBM] [Warning] feature_fraction is set=0.972010130837913, colsample_bytree=0.8 will be ignored. Current value: feature_fraction=0.972010130837913\n",
      "[LightGBM] [Warning] bagging_fraction is set=0.23616031381750277, subsample=0.6 will be ignored. Current value: bagging_fraction=0.23616031381750277\n",
      "[LightGBM] [Warning] bagging_freq is set=16, subsample_freq=0 will be ignored. Current value: bagging_freq=16\n",
      "Training until validation scores don't improve for 100 rounds\n",
      "[100]\ttraining's l1: 0.897933\tvalid_1's l1: 1.39727\n",
      "[200]\ttraining's l1: 0.856267\tvalid_1's l1: 1.40557\n",
      "Early stopping, best iteration is:\n",
      "[101]\ttraining's l1: 0.896903\tvalid_1's l1: 1.3958\n"
     ]
    },
    {
     "name": "stderr",
     "output_type": "stream",
     "text": [
      "\u001b[32m[I 2021-07-29 15:15:00,626]\u001b[0m Trial 64 finished with value: -1.3957319004305389 and parameters: {'max_depth': 10, 'min_child_weight': 20, 'subsample': 0.6, 'colsample_bytree': 0.8, 'reg_lambda': 524.206714110162, 'reg_alpha': 0.0025339656812611347, 'feature_fraction': 0.972010130837913, 'bagging_fraction': 0.23616031381750277, 'bagging_freq': 16, 'num_leaves': 469, 'min_child_samples': 28}. Best is trial 55 with value: -1.3839654834951516.\u001b[0m\n"
     ]
    },
    {
     "name": "stdout",
     "output_type": "stream",
     "text": [
      "[LightGBM] [Warning] feature_fraction is set=0.9499671953850621, colsample_bytree=0.8 will be ignored. Current value: feature_fraction=0.9499671953850621\n",
      "[LightGBM] [Warning] bagging_fraction is set=0.20651264391843008, subsample=0.5 will be ignored. Current value: bagging_fraction=0.20651264391843008\n",
      "[LightGBM] [Warning] bagging_freq is set=15, subsample_freq=0 will be ignored. Current value: bagging_freq=15\n",
      "Training until validation scores don't improve for 100 rounds\n",
      "[100]\ttraining's l1: 0.979501\tvalid_1's l1: 1.40399\n",
      "[200]\ttraining's l1: 0.961406\tvalid_1's l1: 1.39971\n",
      "[300]\ttraining's l1: 0.955346\tvalid_1's l1: 1.39707\n",
      "[400]\ttraining's l1: 0.952125\tvalid_1's l1: 1.39667\n",
      "[500]\ttraining's l1: 0.948521\tvalid_1's l1: 1.39581\n",
      "Early stopping, best iteration is:\n",
      "[435]\ttraining's l1: 0.950403\tvalid_1's l1: 1.39499\n"
     ]
    },
    {
     "name": "stderr",
     "output_type": "stream",
     "text": [
      "\u001b[32m[I 2021-07-29 15:15:09,266]\u001b[0m Trial 65 finished with value: -1.394837844981124 and parameters: {'max_depth': 6, 'min_child_weight': 10, 'subsample': 0.5, 'colsample_bytree': 0.8, 'reg_lambda': 623.6577171769952, 'reg_alpha': 0.004468792708706502, 'feature_fraction': 0.9499671953850621, 'bagging_fraction': 0.20651264391843008, 'bagging_freq': 15, 'num_leaves': 543, 'min_child_samples': 33}. Best is trial 55 with value: -1.3839654834951516.\u001b[0m\n"
     ]
    },
    {
     "name": "stdout",
     "output_type": "stream",
     "text": [
      "[LightGBM] [Warning] feature_fraction is set=0.3373530491628555, colsample_bytree=0.8 will be ignored. Current value: feature_fraction=0.3373530491628555\n",
      "[LightGBM] [Warning] bagging_fraction is set=0.36639952155785865, subsample=0.5 will be ignored. Current value: bagging_fraction=0.36639952155785865\n",
      "[LightGBM] [Warning] bagging_freq is set=18, subsample_freq=0 will be ignored. Current value: bagging_freq=18\n",
      "Training until validation scores don't improve for 100 rounds\n",
      "[100]\ttraining's l1: 0.932195\tvalid_1's l1: 1.41114\n",
      "[200]\ttraining's l1: 0.907682\tvalid_1's l1: 1.40432\n",
      "[300]\ttraining's l1: 0.866906\tvalid_1's l1: 1.40427\n",
      "Early stopping, best iteration is:\n",
      "[266]\ttraining's l1: 0.879993\tvalid_1's l1: 1.40267\n"
     ]
    },
    {
     "name": "stderr",
     "output_type": "stream",
     "text": [
      "\u001b[32m[I 2021-07-29 15:15:20,802]\u001b[0m Trial 66 finished with value: -1.4025301555465437 and parameters: {'max_depth': 9, 'min_child_weight': 19, 'subsample': 0.5, 'colsample_bytree': 0.8, 'reg_lambda': 171.28054190372941, 'reg_alpha': 0.0014558696875217987, 'feature_fraction': 0.3373530491628555, 'bagging_fraction': 0.36639952155785865, 'bagging_freq': 18, 'num_leaves': 615, 'min_child_samples': 20}. Best is trial 55 with value: -1.3839654834951516.\u001b[0m\n"
     ]
    },
    {
     "name": "stdout",
     "output_type": "stream",
     "text": [
      "[LightGBM] [Warning] feature_fraction is set=0.9792414124722588, colsample_bytree=0.8 will be ignored. Current value: feature_fraction=0.9792414124722588\n",
      "[LightGBM] [Warning] bagging_fraction is set=0.28737536437951566, subsample=0.5 will be ignored. Current value: bagging_fraction=0.28737536437951566\n",
      "[LightGBM] [Warning] bagging_freq is set=14, subsample_freq=0 will be ignored. Current value: bagging_freq=14\n",
      "Training until validation scores don't improve for 100 rounds\n",
      "[100]\ttraining's l1: 0.954048\tvalid_1's l1: 1.3966\n",
      "[200]\ttraining's l1: 0.943649\tvalid_1's l1: 1.39204\n",
      "[300]\ttraining's l1: 0.920647\tvalid_1's l1: 1.38932\n",
      "Early stopping, best iteration is:\n",
      "[277]\ttraining's l1: 0.925485\tvalid_1's l1: 1.38762\n"
     ]
    },
    {
     "name": "stderr",
     "output_type": "stream",
     "text": [
      "\u001b[32m[I 2021-07-29 15:15:29,789]\u001b[0m Trial 67 finished with value: -1.3875002323974004 and parameters: {'max_depth': 7, 'min_child_weight': 16, 'subsample': 0.5, 'colsample_bytree': 0.8, 'reg_lambda': 306.0944330238697, 'reg_alpha': 0.01173895166104995, 'feature_fraction': 0.9792414124722588, 'bagging_fraction': 0.28737536437951566, 'bagging_freq': 14, 'num_leaves': 426, 'min_child_samples': 55}. Best is trial 55 with value: -1.3839654834951516.\u001b[0m\n"
     ]
    },
    {
     "name": "stdout",
     "output_type": "stream",
     "text": [
      "[LightGBM] [Warning] feature_fraction is set=0.9268798253002863, colsample_bytree=0.8 will be ignored. Current value: feature_fraction=0.9268798253002863\n",
      "[LightGBM] [Warning] bagging_fraction is set=0.2892908817042236, subsample=0.5 will be ignored. Current value: bagging_fraction=0.2892908817042236\n",
      "[LightGBM] [Warning] bagging_freq is set=13, subsample_freq=0 will be ignored. Current value: bagging_freq=13\n",
      "Training until validation scores don't improve for 100 rounds\n",
      "[100]\ttraining's l1: 1.03897\tvalid_1's l1: 1.43331\n",
      "[200]\ttraining's l1: 1.02848\tvalid_1's l1: 1.42367\n",
      "[300]\ttraining's l1: 1.02324\tvalid_1's l1: 1.41975\n",
      "[400]\ttraining's l1: 1.00954\tvalid_1's l1: 1.41596\n",
      "[500]\ttraining's l1: 1.00077\tvalid_1's l1: 1.41184\n",
      "[600]\ttraining's l1: 0.987701\tvalid_1's l1: 1.40958\n",
      "[700]\ttraining's l1: 0.976198\tvalid_1's l1: 1.41126\n",
      "Early stopping, best iteration is:\n",
      "[662]\ttraining's l1: 0.982886\tvalid_1's l1: 1.40819\n"
     ]
    },
    {
     "name": "stderr",
     "output_type": "stream",
     "text": [
      "\u001b[32m[I 2021-07-29 15:15:40,430]\u001b[0m Trial 68 finished with value: -1.4077619411620463 and parameters: {'max_depth': 4, 'min_child_weight': 16, 'subsample': 0.5, 'colsample_bytree': 0.8, 'reg_lambda': 342.61298528697967, 'reg_alpha': 0.011099069386262306, 'feature_fraction': 0.9268798253002863, 'bagging_fraction': 0.2892908817042236, 'bagging_freq': 13, 'num_leaves': 442, 'min_child_samples': 55}. Best is trial 55 with value: -1.3839654834951516.\u001b[0m\n"
     ]
    },
    {
     "name": "stdout",
     "output_type": "stream",
     "text": [
      "[LightGBM] [Warning] feature_fraction is set=0.9800161797742324, colsample_bytree=0.9 will be ignored. Current value: feature_fraction=0.9800161797742324\n",
      "[LightGBM] [Warning] bagging_fraction is set=0.2562256446650452, subsample=0.5 will be ignored. Current value: bagging_fraction=0.2562256446650452\n",
      "[LightGBM] [Warning] bagging_freq is set=11, subsample_freq=0 will be ignored. Current value: bagging_freq=11\n",
      "Training until validation scores don't improve for 100 rounds\n",
      "[100]\ttraining's l1: 0.97611\tvalid_1's l1: 1.40399\n",
      "[200]\ttraining's l1: 0.953197\tvalid_1's l1: 1.40079\n",
      "[300]\ttraining's l1: 0.939695\tvalid_1's l1: 1.39958\n",
      "[400]\ttraining's l1: 0.9323\tvalid_1's l1: 1.39641\n",
      "[500]\ttraining's l1: 0.930469\tvalid_1's l1: 1.39582\n",
      "Early stopping, best iteration is:\n",
      "[428]\ttraining's l1: 0.931156\tvalid_1's l1: 1.39556\n"
     ]
    },
    {
     "name": "stderr",
     "output_type": "stream",
     "text": [
      "\u001b[32m[I 2021-07-29 15:15:50,136]\u001b[0m Trial 69 finished with value: -1.3953519431902823 and parameters: {'max_depth': 6, 'min_child_weight': 20, 'subsample': 0.5, 'colsample_bytree': 0.9, 'reg_lambda': 677.2008233148135, 'reg_alpha': 0.001007447201517003, 'feature_fraction': 0.9800161797742324, 'bagging_fraction': 0.2562256446650452, 'bagging_freq': 11, 'num_leaves': 478, 'min_child_samples': 52}. Best is trial 55 with value: -1.3839654834951516.\u001b[0m\n"
     ]
    },
    {
     "name": "stdout",
     "output_type": "stream",
     "text": [
      "[LightGBM] [Warning] feature_fraction is set=0.8535264039471994, colsample_bytree=0.8 will be ignored. Current value: feature_fraction=0.8535264039471994\n",
      "[LightGBM] [Warning] bagging_fraction is set=0.4288908688203134, subsample=0.6 will be ignored. Current value: bagging_fraction=0.4288908688203134\n",
      "[LightGBM] [Warning] bagging_freq is set=14, subsample_freq=0 will be ignored. Current value: bagging_freq=14\n",
      "Training until validation scores don't improve for 100 rounds\n",
      "[100]\ttraining's l1: 0.940853\tvalid_1's l1: 1.39743\n",
      "[200]\ttraining's l1: 0.933209\tvalid_1's l1: 1.39432\n",
      "[300]\ttraining's l1: 0.926653\tvalid_1's l1: 1.3909\n",
      "[400]\ttraining's l1: 0.92017\tvalid_1's l1: 1.38842\n",
      "[500]\ttraining's l1: 0.906916\tvalid_1's l1: 1.39013\n",
      "Early stopping, best iteration is:\n",
      "[457]\ttraining's l1: 0.911407\tvalid_1's l1: 1.38763\n"
     ]
    },
    {
     "name": "stderr",
     "output_type": "stream",
     "text": [
      "\u001b[32m[I 2021-07-29 15:16:03,006]\u001b[0m Trial 70 finished with value: -1.3873848661130672 and parameters: {'max_depth': 7, 'min_child_weight': 18, 'subsample': 0.6, 'colsample_bytree': 0.8, 'reg_lambda': 0.007223692046259743, 'reg_alpha': 0.002834116305998366, 'feature_fraction': 0.8535264039471994, 'bagging_fraction': 0.4288908688203134, 'bagging_freq': 14, 'num_leaves': 400, 'min_child_samples': 63}. Best is trial 55 with value: -1.3839654834951516.\u001b[0m\n"
     ]
    },
    {
     "name": "stdout",
     "output_type": "stream",
     "text": [
      "[LightGBM] [Warning] feature_fraction is set=0.8624714183563175, colsample_bytree=0.8 will be ignored. Current value: feature_fraction=0.8624714183563175\n",
      "[LightGBM] [Warning] bagging_fraction is set=0.4146303341625061, subsample=0.6 will be ignored. Current value: bagging_fraction=0.4146303341625061\n",
      "[LightGBM] [Warning] bagging_freq is set=14, subsample_freq=0 will be ignored. Current value: bagging_freq=14\n",
      "Training until validation scores don't improve for 100 rounds\n",
      "[100]\ttraining's l1: 0.943185\tvalid_1's l1: 1.39991\n",
      "[200]\ttraining's l1: 0.93257\tvalid_1's l1: 1.39895\n"
     ]
    },
    {
     "name": "stderr",
     "output_type": "stream",
     "text": [
      "\u001b[32m[I 2021-07-29 15:16:09,382]\u001b[0m Trial 71 finished with value: -1.3978681981608367 and parameters: {'max_depth': 7, 'min_child_weight': 18, 'subsample': 0.6, 'colsample_bytree': 0.8, 'reg_lambda': 0.011357237106773938, 'reg_alpha': 0.0026308969483213917, 'feature_fraction': 0.8624714183563175, 'bagging_fraction': 0.4146303341625061, 'bagging_freq': 14, 'num_leaves': 430, 'min_child_samples': 63}. Best is trial 55 with value: -1.3839654834951516.\u001b[0m\n"
     ]
    },
    {
     "name": "stdout",
     "output_type": "stream",
     "text": [
      "Early stopping, best iteration is:\n",
      "[115]\ttraining's l1: 0.938004\tvalid_1's l1: 1.39795\n",
      "[LightGBM] [Warning] feature_fraction is set=0.9211111406266546, colsample_bytree=0.8 will be ignored. Current value: feature_fraction=0.9211111406266546\n",
      "[LightGBM] [Warning] bagging_fraction is set=0.35622141492463977, subsample=0.5 will be ignored. Current value: bagging_fraction=0.35622141492463977\n",
      "[LightGBM] [Warning] bagging_freq is set=15, subsample_freq=0 will be ignored. Current value: bagging_freq=15\n",
      "Training until validation scores don't improve for 100 rounds\n",
      "[100]\ttraining's l1: 0.913073\tvalid_1's l1: 1.39492\n",
      "[200]\ttraining's l1: 0.905555\tvalid_1's l1: 1.39702\n"
     ]
    },
    {
     "name": "stderr",
     "output_type": "stream",
     "text": [
      "\u001b[32m[I 2021-07-29 15:16:16,380]\u001b[0m Trial 72 finished with value: -1.3942731293229407 and parameters: {'max_depth': 8, 'min_child_weight': 19, 'subsample': 0.5, 'colsample_bytree': 0.8, 'reg_lambda': 0.0012963424781241178, 'reg_alpha': 0.004899081429814266, 'feature_fraction': 0.9211111406266546, 'bagging_fraction': 0.35622141492463977, 'bagging_freq': 15, 'num_leaves': 382, 'min_child_samples': 71}. Best is trial 55 with value: -1.3839654834951516.\u001b[0m\n"
     ]
    },
    {
     "name": "stdout",
     "output_type": "stream",
     "text": [
      "Early stopping, best iteration is:\n",
      "[121]\ttraining's l1: 0.90949\tvalid_1's l1: 1.39438\n",
      "[LightGBM] [Warning] feature_fraction is set=0.9575502975506099, colsample_bytree=0.8 will be ignored. Current value: feature_fraction=0.9575502975506099\n",
      "[LightGBM] [Warning] bagging_fraction is set=0.2921301110737208, subsample=0.5 will be ignored. Current value: bagging_fraction=0.2921301110737208\n",
      "[LightGBM] [Warning] bagging_freq is set=14, subsample_freq=0 will be ignored. Current value: bagging_freq=14\n",
      "Training until validation scores don't improve for 100 rounds\n",
      "[100]\ttraining's l1: 0.938224\tvalid_1's l1: 1.39785\n",
      "[200]\ttraining's l1: 0.931691\tvalid_1's l1: 1.39621\n",
      "[300]\ttraining's l1: 0.918094\tvalid_1's l1: 1.39744\n",
      "[400]\ttraining's l1: 0.904512\tvalid_1's l1: 1.39334\n",
      "[500]\ttraining's l1: 0.897066\tvalid_1's l1: 1.39126\n",
      "Early stopping, best iteration is:\n",
      "[417]\ttraining's l1: 0.90138\tvalid_1's l1: 1.3902\n"
     ]
    },
    {
     "name": "stderr",
     "output_type": "stream",
     "text": [
      "\u001b[32m[I 2021-07-29 15:16:27,087]\u001b[0m Trial 73 finished with value: -1.3900169556720332 and parameters: {'max_depth': 7, 'min_child_weight': 18, 'subsample': 0.5, 'colsample_bytree': 0.8, 'reg_lambda': 0.004220181281685277, 'reg_alpha': 0.0017464334721340518, 'feature_fraction': 0.9575502975506099, 'bagging_fraction': 0.2921301110737208, 'bagging_freq': 14, 'num_leaves': 536, 'min_child_samples': 64}. Best is trial 55 with value: -1.3839654834951516.\u001b[0m\n"
     ]
    },
    {
     "name": "stdout",
     "output_type": "stream",
     "text": [
      "[LightGBM] [Warning] feature_fraction is set=0.979969973393843, colsample_bytree=0.8 will be ignored. Current value: feature_fraction=0.979969973393843\n",
      "[LightGBM] [Warning] bagging_fraction is set=0.5711857184646061, subsample=0.6 will be ignored. Current value: bagging_fraction=0.5711857184646061\n",
      "[LightGBM] [Warning] bagging_freq is set=13, subsample_freq=0 will be ignored. Current value: bagging_freq=13\n",
      "Training until validation scores don't improve for 100 rounds\n",
      "[100]\ttraining's l1: 1.00163\tvalid_1's l1: 1.41904\n",
      "[200]\ttraining's l1: 0.99109\tvalid_1's l1: 1.4125\n",
      "[300]\ttraining's l1: 0.981963\tvalid_1's l1: 1.40677\n",
      "[400]\ttraining's l1: 0.973888\tvalid_1's l1: 1.40319\n",
      "Early stopping, best iteration is:\n",
      "[382]\ttraining's l1: 0.975119\tvalid_1's l1: 1.40318\n"
     ]
    },
    {
     "name": "stderr",
     "output_type": "stream",
     "text": [
      "\u001b[32m[I 2021-07-29 15:16:38,515]\u001b[0m Trial 74 finished with value: -1.4031595725138464 and parameters: {'max_depth': 5, 'min_child_weight': 20, 'subsample': 0.6, 'colsample_bytree': 0.8, 'reg_lambda': 0.003011637967978691, 'reg_alpha': 0.010442113106882261, 'feature_fraction': 0.979969973393843, 'bagging_fraction': 0.5711857184646061, 'bagging_freq': 13, 'num_leaves': 411, 'min_child_samples': 60}. Best is trial 55 with value: -1.3839654834951516.\u001b[0m\n"
     ]
    },
    {
     "name": "stdout",
     "output_type": "stream",
     "text": [
      "[LightGBM] [Warning] feature_fraction is set=0.8844288368068267, colsample_bytree=0.8 will be ignored. Current value: feature_fraction=0.8844288368068267\n",
      "[LightGBM] [Warning] bagging_fraction is set=0.38187421883198913, subsample=0.5 will be ignored. Current value: bagging_fraction=0.38187421883198913\n",
      "[LightGBM] [Warning] bagging_freq is set=16, subsample_freq=0 will be ignored. Current value: bagging_freq=16\n",
      "Training until validation scores don't improve for 100 rounds\n",
      "[100]\ttraining's l1: 0.931938\tvalid_1's l1: 1.39314\n",
      "[200]\ttraining's l1: 0.914729\tvalid_1's l1: 1.39033\n"
     ]
    },
    {
     "name": "stderr",
     "output_type": "stream",
     "text": [
      "\u001b[32m[I 2021-07-29 15:16:45,662]\u001b[0m Trial 75 finished with value: -1.388765867813494 and parameters: {'max_depth': 8, 'min_child_weight': 17, 'subsample': 0.5, 'colsample_bytree': 0.8, 'reg_lambda': 473.31408410177323, 'reg_alpha': 0.031815214913066395, 'feature_fraction': 0.8844288368068267, 'bagging_fraction': 0.38187421883198913, 'bagging_freq': 16, 'num_leaves': 230, 'min_child_samples': 57}. Best is trial 55 with value: -1.3839654834951516.\u001b[0m\n"
     ]
    },
    {
     "name": "stdout",
     "output_type": "stream",
     "text": [
      "Early stopping, best iteration is:\n",
      "[129]\ttraining's l1: 0.920179\tvalid_1's l1: 1.38881\n",
      "[LightGBM] [Warning] feature_fraction is set=0.8517211960927797, colsample_bytree=0.8 will be ignored. Current value: feature_fraction=0.8517211960927797\n",
      "[LightGBM] [Warning] bagging_fraction is set=0.38722154777152895, subsample=0.6 will be ignored. Current value: bagging_fraction=0.38722154777152895\n",
      "[LightGBM] [Warning] bagging_freq is set=11, subsample_freq=0 will be ignored. Current value: bagging_freq=11\n",
      "Training until validation scores don't improve for 100 rounds\n",
      "[100]\ttraining's l1: 0.950421\tvalid_1's l1: 1.40047\n"
     ]
    },
    {
     "name": "stderr",
     "output_type": "stream",
     "text": [
      "\u001b[32m[I 2021-07-29 15:16:51,235]\u001b[0m Trial 76 finished with value: -1.399023794244104 and parameters: {'max_depth': 7, 'min_child_weight': 16, 'subsample': 0.6, 'colsample_bytree': 0.8, 'reg_lambda': 284.1529064379158, 'reg_alpha': 0.034441080387527905, 'feature_fraction': 0.8517211960927797, 'bagging_fraction': 0.38722154777152895, 'bagging_freq': 11, 'num_leaves': 228, 'min_child_samples': 49}. Best is trial 55 with value: -1.3839654834951516.\u001b[0m\n"
     ]
    },
    {
     "name": "stdout",
     "output_type": "stream",
     "text": [
      "Early stopping, best iteration is:\n",
      "[91]\ttraining's l1: 0.952388\tvalid_1's l1: 1.39905\n",
      "[LightGBM] [Warning] feature_fraction is set=0.8881907138139907, colsample_bytree=0.8 will be ignored. Current value: feature_fraction=0.8881907138139907\n",
      "[LightGBM] [Warning] bagging_fraction is set=0.43953487197352553, subsample=0.5 will be ignored. Current value: bagging_fraction=0.43953487197352553\n",
      "[LightGBM] [Warning] bagging_freq is set=15, subsample_freq=0 will be ignored. Current value: bagging_freq=15\n",
      "Training until validation scores don't improve for 100 rounds\n",
      "[100]\ttraining's l1: 0.865691\tvalid_1's l1: 1.4033\n"
     ]
    },
    {
     "name": "stderr",
     "output_type": "stream",
     "text": [
      "\u001b[32m[I 2021-07-29 15:16:59,298]\u001b[0m Trial 77 finished with value: -1.4001763266977985 and parameters: {'max_depth': 20, 'min_child_weight': 17, 'subsample': 0.5, 'colsample_bytree': 0.8, 'reg_lambda': 68.68681044729144, 'reg_alpha': 0.06553756247741925, 'feature_fraction': 0.8881907138139907, 'bagging_fraction': 0.43953487197352553, 'bagging_freq': 15, 'num_leaves': 252, 'min_child_samples': 55}. Best is trial 55 with value: -1.3839654834951516.\u001b[0m\n"
     ]
    },
    {
     "name": "stdout",
     "output_type": "stream",
     "text": [
      "Early stopping, best iteration is:\n",
      "[53]\ttraining's l1: 0.905335\tvalid_1's l1: 1.40029\n",
      "[LightGBM] [Warning] feature_fraction is set=0.9153372922611217, colsample_bytree=0.8 will be ignored. Current value: feature_fraction=0.9153372922611217\n",
      "[LightGBM] [Warning] bagging_fraction is set=0.3351147491264443, subsample=0.5 will be ignored. Current value: bagging_fraction=0.3351147491264443\n",
      "[LightGBM] [Warning] bagging_freq is set=14, subsample_freq=0 will be ignored. Current value: bagging_freq=14\n",
      "Training until validation scores don't improve for 100 rounds\n",
      "[100]\ttraining's l1: 0.9864\tvalid_1's l1: 1.40774\n",
      "[200]\ttraining's l1: 0.977893\tvalid_1's l1: 1.40389\n",
      "[300]\ttraining's l1: 0.967517\tvalid_1's l1: 1.40094\n",
      "[400]\ttraining's l1: 0.950185\tvalid_1's l1: 1.3954\n",
      "[500]\ttraining's l1: 0.933755\tvalid_1's l1: 1.39464\n",
      "Early stopping, best iteration is:\n",
      "[431]\ttraining's l1: 0.942463\tvalid_1's l1: 1.39438\n"
     ]
    },
    {
     "name": "stderr",
     "output_type": "stream",
     "text": [
      "\u001b[32m[I 2021-07-29 15:17:09,900]\u001b[0m Trial 78 finished with value: -1.394238410760675 and parameters: {'max_depth': 6, 'min_child_weight': 15, 'subsample': 0.5, 'colsample_bytree': 0.8, 'reg_lambda': 434.0484284858504, 'reg_alpha': 0.018305353716701934, 'feature_fraction': 0.9153372922611217, 'bagging_fraction': 0.3351147491264443, 'bagging_freq': 14, 'num_leaves': 368, 'min_child_samples': 65}. Best is trial 55 with value: -1.3839654834951516.\u001b[0m\n"
     ]
    },
    {
     "name": "stdout",
     "output_type": "stream",
     "text": [
      "[LightGBM] [Warning] feature_fraction is set=0.835224452236992, colsample_bytree=0.9 will be ignored. Current value: feature_fraction=0.835224452236992\n",
      "[LightGBM] [Warning] bagging_fraction is set=0.3737871677877515, subsample=0.5 will be ignored. Current value: bagging_fraction=0.3737871677877515\n",
      "[LightGBM] [Warning] bagging_freq is set=10, subsample_freq=0 will be ignored. Current value: bagging_freq=10\n",
      "Training until validation scores don't improve for 100 rounds\n",
      "[100]\ttraining's l1: 0.919801\tvalid_1's l1: 1.39282\n",
      "[200]\ttraining's l1: 0.886995\tvalid_1's l1: 1.39776\n",
      "Early stopping, best iteration is:\n",
      "[105]\ttraining's l1: 0.916149\tvalid_1's l1: 1.39189\n"
     ]
    },
    {
     "name": "stderr",
     "output_type": "stream",
     "text": [
      "\u001b[32m[I 2021-07-29 15:17:17,074]\u001b[0m Trial 79 finished with value: -1.391809330400787 and parameters: {'max_depth': 9, 'min_child_weight': 18, 'subsample': 0.5, 'colsample_bytree': 0.9, 'reg_lambda': 991.7470182323474, 'reg_alpha': 0.015232887204671655, 'feature_fraction': 0.835224452236992, 'bagging_fraction': 0.3737871677877515, 'bagging_freq': 10, 'num_leaves': 196, 'min_child_samples': 57}. Best is trial 55 with value: -1.3839654834951516.\u001b[0m\n"
     ]
    },
    {
     "name": "stdout",
     "output_type": "stream",
     "text": [
      "[LightGBM] [Warning] feature_fraction is set=0.9402349890120862, colsample_bytree=0.8 will be ignored. Current value: feature_fraction=0.9402349890120862\n",
      "[LightGBM] [Warning] bagging_fraction is set=0.31221233198004544, subsample=0.6 will be ignored. Current value: bagging_fraction=0.31221233198004544\n",
      "[LightGBM] [Warning] bagging_freq is set=15, subsample_freq=0 will be ignored. Current value: bagging_freq=15\n",
      "Training until validation scores don't improve for 100 rounds\n",
      "[100]\ttraining's l1: 0.919895\tvalid_1's l1: 1.39215\n",
      "[200]\ttraining's l1: 0.893653\tvalid_1's l1: 1.39\n",
      "Early stopping, best iteration is:\n",
      "[170]\ttraining's l1: 0.896795\tvalid_1's l1: 1.38864\n"
     ]
    },
    {
     "name": "stderr",
     "output_type": "stream",
     "text": [
      "\u001b[32m[I 2021-07-29 15:17:25,097]\u001b[0m Trial 80 finished with value: -1.3885578360194413 and parameters: {'max_depth': 8, 'min_child_weight': 17, 'subsample': 0.6, 'colsample_bytree': 0.8, 'reg_lambda': 0.7771478671188752, 'reg_alpha': 0.03245274448722121, 'feature_fraction': 0.9402349890120862, 'bagging_fraction': 0.31221233198004544, 'bagging_freq': 15, 'num_leaves': 459, 'min_child_samples': 70}. Best is trial 55 with value: -1.3839654834951516.\u001b[0m\n"
     ]
    },
    {
     "name": "stdout",
     "output_type": "stream",
     "text": [
      "[LightGBM] [Warning] feature_fraction is set=0.8121393588633073, colsample_bytree=0.8 will be ignored. Current value: feature_fraction=0.8121393588633073\n",
      "[LightGBM] [Warning] bagging_fraction is set=0.31418274118996575, subsample=0.6 will be ignored. Current value: bagging_fraction=0.31418274118996575\n",
      "[LightGBM] [Warning] bagging_freq is set=15, subsample_freq=0 will be ignored. Current value: bagging_freq=15\n",
      "Training until validation scores don't improve for 100 rounds\n",
      "[100]\ttraining's l1: 0.921738\tvalid_1's l1: 1.40015\n",
      "[200]\ttraining's l1: 0.907914\tvalid_1's l1: 1.39986\n",
      "[300]\ttraining's l1: 0.902026\tvalid_1's l1: 1.40206\n",
      "Early stopping, best iteration is:\n",
      "[239]\ttraining's l1: 0.905295\tvalid_1's l1: 1.39895\n"
     ]
    },
    {
     "name": "stderr",
     "output_type": "stream",
     "text": [
      "\u001b[32m[I 2021-07-29 15:17:33,038]\u001b[0m Trial 81 finished with value: -1.398818684765658 and parameters: {'max_depth': 8, 'min_child_weight': 16, 'subsample': 0.6, 'colsample_bytree': 0.8, 'reg_lambda': 0.48327561865934165, 'reg_alpha': 0.02941766870891057, 'feature_fraction': 0.8121393588633073, 'bagging_fraction': 0.31418274118996575, 'bagging_freq': 15, 'num_leaves': 489, 'min_child_samples': 70}. Best is trial 55 with value: -1.3839654834951516.\u001b[0m\n"
     ]
    },
    {
     "name": "stdout",
     "output_type": "stream",
     "text": [
      "[LightGBM] [Warning] feature_fraction is set=0.9399644852036331, colsample_bytree=0.8 will be ignored. Current value: feature_fraction=0.9399644852036331\n",
      "[LightGBM] [Warning] bagging_fraction is set=0.34265041120223244, subsample=0.6 will be ignored. Current value: bagging_fraction=0.34265041120223244\n",
      "[LightGBM] [Warning] bagging_freq is set=12, subsample_freq=0 will be ignored. Current value: bagging_freq=12\n",
      "Training until validation scores don't improve for 100 rounds\n",
      "[100]\ttraining's l1: 0.88836\tvalid_1's l1: 1.39487\n"
     ]
    },
    {
     "name": "stderr",
     "output_type": "stream",
     "text": [
      "\u001b[32m[I 2021-07-29 15:17:39,945]\u001b[0m Trial 82 finished with value: -1.3918226757804333 and parameters: {'max_depth': 9, 'min_child_weight': 17, 'subsample': 0.6, 'colsample_bytree': 0.8, 'reg_lambda': 0.04110058102274358, 'reg_alpha': 0.05863831721761226, 'feature_fraction': 0.9399644852036331, 'bagging_fraction': 0.34265041120223244, 'bagging_freq': 12, 'num_leaves': 405, 'min_child_samples': 75}. Best is trial 55 with value: -1.3839654834951516.\u001b[0m\n"
     ]
    },
    {
     "name": "stdout",
     "output_type": "stream",
     "text": [
      "Early stopping, best iteration is:\n",
      "[75]\ttraining's l1: 0.902767\tvalid_1's l1: 1.39188\n",
      "[LightGBM] [Warning] feature_fraction is set=0.8795102382615293, colsample_bytree=0.8 will be ignored. Current value: feature_fraction=0.8795102382615293\n",
      "[LightGBM] [Warning] bagging_fraction is set=0.48780156162894706, subsample=0.5 will be ignored. Current value: bagging_fraction=0.48780156162894706\n",
      "[LightGBM] [Warning] bagging_freq is set=16, subsample_freq=0 will be ignored. Current value: bagging_freq=16\n",
      "Training until validation scores don't improve for 100 rounds\n",
      "[100]\ttraining's l1: 0.914215\tvalid_1's l1: 1.39774\n",
      "[200]\ttraining's l1: 0.900649\tvalid_1's l1: 1.39994\n",
      "Early stopping, best iteration is:\n",
      "[107]\ttraining's l1: 0.91124\tvalid_1's l1: 1.39704\n"
     ]
    },
    {
     "name": "stderr",
     "output_type": "stream",
     "text": [
      "\u001b[32m[I 2021-07-29 15:17:47,227]\u001b[0m Trial 83 finished with value: -1.3969567020820748 and parameters: {'max_depth': 8, 'min_child_weight': 17, 'subsample': 0.5, 'colsample_bytree': 0.8, 'reg_lambda': 0.12933942644465798, 'reg_alpha': 0.007576857642962541, 'feature_fraction': 0.8795102382615293, 'bagging_fraction': 0.48780156162894706, 'bagging_freq': 16, 'num_leaves': 463, 'min_child_samples': 79}. Best is trial 55 with value: -1.3839654834951516.\u001b[0m\n"
     ]
    },
    {
     "name": "stdout",
     "output_type": "stream",
     "text": [
      "[LightGBM] [Warning] feature_fraction is set=0.950438538456346, colsample_bytree=0.8 will be ignored. Current value: feature_fraction=0.950438538456346\n",
      "[LightGBM] [Warning] bagging_fraction is set=0.389196631019385, subsample=0.5 will be ignored. Current value: bagging_fraction=0.389196631019385\n",
      "[LightGBM] [Warning] bagging_freq is set=14, subsample_freq=0 will be ignored. Current value: bagging_freq=14\n",
      "Training until validation scores don't improve for 100 rounds\n",
      "[100]\ttraining's l1: 0.953706\tvalid_1's l1: 1.39601\n",
      "[200]\ttraining's l1: 0.944293\tvalid_1's l1: 1.39459\n",
      "[300]\ttraining's l1: 0.935893\tvalid_1's l1: 1.39285\n",
      "Early stopping, best iteration is:\n",
      "[275]\ttraining's l1: 0.939283\tvalid_1's l1: 1.39275\n"
     ]
    },
    {
     "name": "stderr",
     "output_type": "stream",
     "text": [
      "\u001b[32m[I 2021-07-29 15:17:56,503]\u001b[0m Trial 84 finished with value: -1.3926619632532697 and parameters: {'max_depth': 7, 'min_child_weight': 18, 'subsample': 0.5, 'colsample_bytree': 0.8, 'reg_lambda': 154.06653374845538, 'reg_alpha': 0.19440338405475174, 'feature_fraction': 0.950438538456346, 'bagging_fraction': 0.389196631019385, 'bagging_freq': 14, 'num_leaves': 491, 'min_child_samples': 89}. Best is trial 55 with value: -1.3839654834951516.\u001b[0m\n"
     ]
    },
    {
     "name": "stdout",
     "output_type": "stream",
     "text": [
      "[LightGBM] [Warning] feature_fraction is set=0.5395323095943686, colsample_bytree=0.8 will be ignored. Current value: feature_fraction=0.5395323095943686\n",
      "[LightGBM] [Warning] bagging_fraction is set=0.2703680448145237, subsample=0.7 will be ignored. Current value: bagging_fraction=0.2703680448145237\n",
      "[LightGBM] [Warning] bagging_freq is set=13, subsample_freq=0 will be ignored. Current value: bagging_freq=13\n",
      "Training until validation scores don't improve for 100 rounds\n",
      "[100]\ttraining's l1: 1.01173\tvalid_1's l1: 1.42572\n",
      "[200]\ttraining's l1: 0.991623\tvalid_1's l1: 1.41833\n",
      "[300]\ttraining's l1: 0.972989\tvalid_1's l1: 1.41136\n",
      "[400]\ttraining's l1: 0.956665\tvalid_1's l1: 1.40885\n",
      "[500]\ttraining's l1: 0.946658\tvalid_1's l1: 1.40792\n",
      "[600]\ttraining's l1: 0.936416\tvalid_1's l1: 1.40621\n",
      "[700]\ttraining's l1: 0.931085\tvalid_1's l1: 1.40634\n",
      "[800]\ttraining's l1: 0.925283\tvalid_1's l1: 1.40435\n",
      "[900]\ttraining's l1: 0.920106\tvalid_1's l1: 1.40245\n",
      "[1000]\ttraining's l1: 0.916358\tvalid_1's l1: 1.40134\n",
      "[1100]\ttraining's l1: 0.912564\tvalid_1's l1: 1.40159\n",
      "[1200]\ttraining's l1: 0.908266\tvalid_1's l1: 1.40053\n",
      "[1300]\ttraining's l1: 0.903051\tvalid_1's l1: 1.39988\n",
      "[1400]\ttraining's l1: 0.900027\tvalid_1's l1: 1.39901\n",
      "[1500]\ttraining's l1: 0.896592\tvalid_1's l1: 1.3997\n",
      "Early stopping, best iteration is:\n",
      "[1470]\ttraining's l1: 0.897462\tvalid_1's l1: 1.39874\n"
     ]
    },
    {
     "name": "stderr",
     "output_type": "stream",
     "text": [
      "\u001b[32m[I 2021-07-29 15:18:22,070]\u001b[0m Trial 85 finished with value: -1.3984309436086695 and parameters: {'max_depth': 5, 'min_child_weight': 19, 'subsample': 0.7, 'colsample_bytree': 0.8, 'reg_lambda': 485.98352722620405, 'reg_alpha': 0.0039265184541578775, 'feature_fraction': 0.5395323095943686, 'bagging_fraction': 0.2703680448145237, 'bagging_freq': 13, 'num_leaves': 358, 'min_child_samples': 61}. Best is trial 55 with value: -1.3839654834951516.\u001b[0m\n"
     ]
    },
    {
     "name": "stdout",
     "output_type": "stream",
     "text": [
      "[LightGBM] [Warning] feature_fraction is set=0.9032453282959634, colsample_bytree=0.7 will be ignored. Current value: feature_fraction=0.9032453282959634\n",
      "[LightGBM] [Warning] bagging_fraction is set=0.42762948535145323, subsample=0.6 will be ignored. Current value: bagging_fraction=0.42762948535145323\n",
      "[LightGBM] [Warning] bagging_freq is set=3, subsample_freq=0 will be ignored. Current value: bagging_freq=3\n",
      "Training until validation scores don't improve for 100 rounds\n",
      "[100]\ttraining's l1: 0.889801\tvalid_1's l1: 1.40014\n"
     ]
    },
    {
     "name": "stderr",
     "output_type": "stream",
     "text": [
      "\u001b[32m[I 2021-07-29 15:18:29,749]\u001b[0m Trial 86 finished with value: -1.396169886888272 and parameters: {'max_depth': 10, 'min_child_weight': 14, 'subsample': 0.6, 'colsample_bytree': 0.7, 'reg_lambda': 249.3900042212661, 'reg_alpha': 0.04234249309071307, 'feature_fraction': 0.9032453282959634, 'bagging_fraction': 0.42762948535145323, 'bagging_freq': 3, 'num_leaves': 390, 'min_child_samples': 69}. Best is trial 55 with value: -1.3839654834951516.\u001b[0m\n"
     ]
    },
    {
     "name": "stdout",
     "output_type": "stream",
     "text": [
      "Early stopping, best iteration is:\n",
      "[65]\ttraining's l1: 0.911278\tvalid_1's l1: 1.39622\n",
      "[LightGBM] [Warning] feature_fraction is set=0.9775038448442465, colsample_bytree=0.8 will be ignored. Current value: feature_fraction=0.9775038448442465\n",
      "[LightGBM] [Warning] bagging_fraction is set=0.3582406137649391, subsample=0.5 will be ignored. Current value: bagging_fraction=0.3582406137649391\n",
      "[LightGBM] [Warning] bagging_freq is set=16, subsample_freq=0 will be ignored. Current value: bagging_freq=16\n",
      "Training until validation scores don't improve for 100 rounds\n",
      "[100]\ttraining's l1: 0.94208\tvalid_1's l1: 1.39708\n",
      "[200]\ttraining's l1: 0.925503\tvalid_1's l1: 1.39812\n"
     ]
    },
    {
     "name": "stderr",
     "output_type": "stream",
     "text": [
      "\u001b[32m[I 2021-07-29 15:18:35,939]\u001b[0m Trial 87 finished with value: -1.3953711752571163 and parameters: {'max_depth': 7, 'min_child_weight': 16, 'subsample': 0.5, 'colsample_bytree': 0.8, 'reg_lambda': 2.145242785927563, 'reg_alpha': 0.07216359641025986, 'feature_fraction': 0.9775038448442465, 'bagging_fraction': 0.3582406137649391, 'bagging_freq': 16, 'num_leaves': 579, 'min_child_samples': 66}. Best is trial 55 with value: -1.3839654834951516.\u001b[0m\n"
     ]
    },
    {
     "name": "stdout",
     "output_type": "stream",
     "text": [
      "Early stopping, best iteration is:\n",
      "[118]\ttraining's l1: 0.937781\tvalid_1's l1: 1.3955\n",
      "[LightGBM] [Warning] feature_fraction is set=0.9388139502043777, colsample_bytree=0.8 will be ignored. Current value: feature_fraction=0.9388139502043777\n",
      "[LightGBM] [Warning] bagging_fraction is set=0.3102267089465214, subsample=0.5 will be ignored. Current value: bagging_fraction=0.3102267089465214\n",
      "[LightGBM] [Warning] bagging_freq is set=7, subsample_freq=0 will be ignored. Current value: bagging_freq=7\n",
      "Training until validation scores don't improve for 100 rounds\n",
      "[100]\ttraining's l1: 0.909582\tvalid_1's l1: 1.39668\n"
     ]
    },
    {
     "name": "stderr",
     "output_type": "stream",
     "text": [
      "\u001b[32m[I 2021-07-29 15:18:42,290]\u001b[0m Trial 88 finished with value: -1.3961291494034527 and parameters: {'max_depth': 8, 'min_child_weight': 15, 'subsample': 0.5, 'colsample_bytree': 0.8, 'reg_lambda': 0.21576940188944663, 'reg_alpha': 0.16801116649336167, 'feature_fraction': 0.9388139502043777, 'bagging_fraction': 0.3102267089465214, 'bagging_freq': 7, 'num_leaves': 314, 'min_child_samples': 58}. Best is trial 55 with value: -1.3839654834951516.\u001b[0m\n"
     ]
    },
    {
     "name": "stdout",
     "output_type": "stream",
     "text": [
      "Early stopping, best iteration is:\n",
      "[92]\ttraining's l1: 0.910606\tvalid_1's l1: 1.39627\n",
      "[LightGBM] [Warning] feature_fraction is set=0.8795097245264897, colsample_bytree=0.8 will be ignored. Current value: feature_fraction=0.8795097245264897\n",
      "[LightGBM] [Warning] bagging_fraction is set=0.4472321760346598, subsample=0.5 will be ignored. Current value: bagging_fraction=0.4472321760346598\n",
      "[LightGBM] [Warning] bagging_freq is set=18, subsample_freq=0 will be ignored. Current value: bagging_freq=18\n",
      "Training until validation scores don't improve for 100 rounds\n",
      "[100]\ttraining's l1: 0.969063\tvalid_1's l1: 1.41111\n",
      "[200]\ttraining's l1: 0.963217\tvalid_1's l1: 1.40688\n",
      "[300]\ttraining's l1: 0.957705\tvalid_1's l1: 1.40347\n",
      "[400]\ttraining's l1: 0.933702\tvalid_1's l1: 1.40009\n",
      "[500]\ttraining's l1: 0.913349\tvalid_1's l1: 1.39497\n",
      "[600]\ttraining's l1: 0.899186\tvalid_1's l1: 1.39733\n",
      "Early stopping, best iteration is:\n",
      "[505]\ttraining's l1: 0.912246\tvalid_1's l1: 1.39463\n"
     ]
    },
    {
     "name": "stderr",
     "output_type": "stream",
     "text": [
      "\u001b[32m[I 2021-07-29 15:18:55,330]\u001b[0m Trial 89 finished with value: -1.3943062681171716 and parameters: {'max_depth': 6, 'min_child_weight': 18, 'subsample': 0.5, 'colsample_bytree': 0.8, 'reg_lambda': 0.03400092114817262, 'reg_alpha': 0.020388850861346793, 'feature_fraction': 0.8795097245264897, 'bagging_fraction': 0.4472321760346598, 'bagging_freq': 18, 'num_leaves': 203, 'min_child_samples': 50}. Best is trial 55 with value: -1.3839654834951516.\u001b[0m\n"
     ]
    },
    {
     "name": "stdout",
     "output_type": "stream",
     "text": [
      "[LightGBM] [Warning] feature_fraction is set=0.690675362429536, colsample_bytree=0.9 will be ignored. Current value: feature_fraction=0.690675362429536\n",
      "[LightGBM] [Warning] bagging_fraction is set=0.28664065003024786, subsample=0.6 will be ignored. Current value: bagging_fraction=0.28664065003024786\n",
      "[LightGBM] [Warning] bagging_freq is set=12, subsample_freq=0 will be ignored. Current value: bagging_freq=12\n",
      "Training until validation scores don't improve for 100 rounds\n",
      "[100]\ttraining's l1: 0.878178\tvalid_1's l1: 1.40208\n"
     ]
    },
    {
     "name": "stderr",
     "output_type": "stream",
     "text": [
      "\u001b[32m[I 2021-07-29 15:19:01,599]\u001b[0m Trial 90 finished with value: -1.3993545147423216 and parameters: {'max_depth': 10, 'min_child_weight': 17, 'subsample': 0.6, 'colsample_bytree': 0.9, 'reg_lambda': 0.7222250536815903, 'reg_alpha': 0.006135533297979689, 'feature_fraction': 0.690675362429536, 'bagging_fraction': 0.28664065003024786, 'bagging_freq': 12, 'num_leaves': 266, 'min_child_samples': 74}. Best is trial 55 with value: -1.3839654834951516.\u001b[0m\n"
     ]
    },
    {
     "name": "stdout",
     "output_type": "stream",
     "text": [
      "Early stopping, best iteration is:\n",
      "[86]\ttraining's l1: 0.885456\tvalid_1's l1: 1.3994\n",
      "[LightGBM] [Warning] feature_fraction is set=0.9816686879012546, colsample_bytree=0.8 will be ignored. Current value: feature_fraction=0.9816686879012546\n",
      "[LightGBM] [Warning] bagging_fraction is set=0.23193476267009022, subsample=0.5 will be ignored. Current value: bagging_fraction=0.23193476267009022\n",
      "[LightGBM] [Warning] bagging_freq is set=17, subsample_freq=0 will be ignored. Current value: bagging_freq=17\n",
      "Training until validation scores don't improve for 100 rounds\n",
      "[100]\ttraining's l1: 0.938877\tvalid_1's l1: 1.39581\n",
      "[200]\ttraining's l1: 0.906539\tvalid_1's l1: 1.39547\n",
      "Early stopping, best iteration is:\n",
      "[109]\ttraining's l1: 0.932144\tvalid_1's l1: 1.39155\n"
     ]
    },
    {
     "name": "stderr",
     "output_type": "stream",
     "text": [
      "\u001b[32m[I 2021-07-29 15:19:07,731]\u001b[0m Trial 91 finished with value: -1.3914750142847014 and parameters: {'max_depth': 8, 'min_child_weight': 19, 'subsample': 0.5, 'colsample_bytree': 0.8, 'reg_lambda': 655.3630988361813, 'reg_alpha': 0.0035959099416127726, 'feature_fraction': 0.9816686879012546, 'bagging_fraction': 0.23193476267009022, 'bagging_freq': 17, 'num_leaves': 506, 'min_child_samples': 62}. Best is trial 55 with value: -1.3839654834951516.\u001b[0m\n"
     ]
    },
    {
     "name": "stdout",
     "output_type": "stream",
     "text": [
      "[LightGBM] [Warning] feature_fraction is set=0.999292288441435, colsample_bytree=0.8 will be ignored. Current value: feature_fraction=0.999292288441435\n",
      "[LightGBM] [Warning] bagging_fraction is set=0.2536820473521447, subsample=0.5 will be ignored. Current value: bagging_fraction=0.2536820473521447\n",
      "[LightGBM] [Warning] bagging_freq is set=16, subsample_freq=0 will be ignored. Current value: bagging_freq=16\n",
      "Training until validation scores don't improve for 100 rounds\n",
      "[100]\ttraining's l1: 0.916382\tvalid_1's l1: 1.39047\n",
      "[200]\ttraining's l1: 0.877986\tvalid_1's l1: 1.3942\n",
      "Early stopping, best iteration is:\n",
      "[107]\ttraining's l1: 0.910212\tvalid_1's l1: 1.38874\n"
     ]
    },
    {
     "name": "stderr",
     "output_type": "stream",
     "text": [
      "\u001b[32m[I 2021-07-29 15:19:15,305]\u001b[0m Trial 92 finished with value: -1.388604236423201 and parameters: {'max_depth': 9, 'min_child_weight': 19, 'subsample': 0.5, 'colsample_bytree': 0.8, 'reg_lambda': 798.2386210134932, 'reg_alpha': 0.0010292007787909723, 'feature_fraction': 0.999292288441435, 'bagging_fraction': 0.2536820473521447, 'bagging_freq': 16, 'num_leaves': 532, 'min_child_samples': 31}. Best is trial 55 with value: -1.3839654834951516.\u001b[0m\n"
     ]
    },
    {
     "name": "stdout",
     "output_type": "stream",
     "text": [
      "[LightGBM] [Warning] feature_fraction is set=0.9621400111538316, colsample_bytree=0.8 will be ignored. Current value: feature_fraction=0.9621400111538316\n",
      "[LightGBM] [Warning] bagging_fraction is set=0.20043764970423472, subsample=0.5 will be ignored. Current value: bagging_fraction=0.20043764970423472\n",
      "[LightGBM] [Warning] bagging_freq is set=15, subsample_freq=0 will be ignored. Current value: bagging_freq=15\n",
      "Training until validation scores don't improve for 100 rounds\n",
      "[100]\ttraining's l1: 0.914151\tvalid_1's l1: 1.39238\n",
      "[200]\ttraining's l1: 0.880255\tvalid_1's l1: 1.3962\n",
      "Early stopping, best iteration is:\n",
      "[172]\ttraining's l1: 0.888076\tvalid_1's l1: 1.39108\n"
     ]
    },
    {
     "name": "stderr",
     "output_type": "stream",
     "text": [
      "\u001b[32m[I 2021-07-29 15:19:24,250]\u001b[0m Trial 93 finished with value: -1.390994031986228 and parameters: {'max_depth': 9, 'min_child_weight': 20, 'subsample': 0.5, 'colsample_bytree': 0.8, 'reg_lambda': 380.18551820042364, 'reg_alpha': 0.0013425070237061498, 'feature_fraction': 0.9621400111538316, 'bagging_fraction': 0.20043764970423472, 'bagging_freq': 15, 'num_leaves': 450, 'min_child_samples': 31}. Best is trial 55 with value: -1.3839654834951516.\u001b[0m\n"
     ]
    },
    {
     "name": "stdout",
     "output_type": "stream",
     "text": [
      "[LightGBM] [Warning] feature_fraction is set=0.9194299006662199, colsample_bytree=0.8 will be ignored. Current value: feature_fraction=0.9194299006662199\n",
      "[LightGBM] [Warning] bagging_fraction is set=0.31826795777555744, subsample=0.5 will be ignored. Current value: bagging_fraction=0.31826795777555744\n",
      "[LightGBM] [Warning] bagging_freq is set=16, subsample_freq=0 will be ignored. Current value: bagging_freq=16\n",
      "Training until validation scores don't improve for 100 rounds\n",
      "[100]\ttraining's l1: 0.966185\tvalid_1's l1: 1.40036\n",
      "[200]\ttraining's l1: 0.948208\tvalid_1's l1: 1.39396\n",
      "[300]\ttraining's l1: 0.938647\tvalid_1's l1: 1.39114\n",
      "[400]\ttraining's l1: 0.916792\tvalid_1's l1: 1.39538\n",
      "Early stopping, best iteration is:\n",
      "[302]\ttraining's l1: 0.937742\tvalid_1's l1: 1.38954\n"
     ]
    },
    {
     "name": "stderr",
     "output_type": "stream",
     "text": [
      "\u001b[32m[I 2021-07-29 15:19:33,940]\u001b[0m Trial 94 finished with value: -1.3894819602151272 and parameters: {'max_depth': 7, 'min_child_weight': 18, 'subsample': 0.5, 'colsample_bytree': 0.8, 'reg_lambda': 914.0162802014867, 'reg_alpha': 0.0010071865204746974, 'feature_fraction': 0.9194299006662199, 'bagging_fraction': 0.31826795777555744, 'bagging_freq': 16, 'num_leaves': 557, 'min_child_samples': 22}. Best is trial 55 with value: -1.3839654834951516.\u001b[0m\n"
     ]
    },
    {
     "name": "stdout",
     "output_type": "stream",
     "text": [
      "[LightGBM] [Warning] feature_fraction is set=0.9987387473171048, colsample_bytree=0.8 will be ignored. Current value: feature_fraction=0.9987387473171048\n",
      "[LightGBM] [Warning] bagging_fraction is set=0.3990082047830671, subsample=0.5 will be ignored. Current value: bagging_fraction=0.3990082047830671\n",
      "[LightGBM] [Warning] bagging_freq is set=20, subsample_freq=0 will be ignored. Current value: bagging_freq=20\n",
      "Training until validation scores don't improve for 100 rounds\n",
      "[100]\ttraining's l1: 0.900815\tvalid_1's l1: 1.39652\n",
      "[200]\ttraining's l1: 0.863089\tvalid_1's l1: 1.39839\n",
      "Early stopping, best iteration is:\n",
      "[148]\ttraining's l1: 0.883637\tvalid_1's l1: 1.39398\n"
     ]
    },
    {
     "name": "stderr",
     "output_type": "stream",
     "text": [
      "\u001b[32m[I 2021-07-29 15:19:44,119]\u001b[0m Trial 95 finished with value: -1.3938400268377464 and parameters: {'max_depth': 9, 'min_child_weight': 19, 'subsample': 0.5, 'colsample_bytree': 0.8, 'reg_lambda': 183.83619976122682, 'reg_alpha': 0.01376110101450808, 'feature_fraction': 0.9987387473171048, 'bagging_fraction': 0.3990082047830671, 'bagging_freq': 20, 'num_leaves': 533, 'min_child_samples': 34}. Best is trial 55 with value: -1.3839654834951516.\u001b[0m\n"
     ]
    },
    {
     "name": "stdout",
     "output_type": "stream",
     "text": [
      "[LightGBM] [Warning] feature_fraction is set=0.9628981988348346, colsample_bytree=0.8 will be ignored. Current value: feature_fraction=0.9628981988348346\n",
      "[LightGBM] [Warning] bagging_fraction is set=0.2660717843728934, subsample=0.5 will be ignored. Current value: bagging_fraction=0.2660717843728934\n",
      "[LightGBM] [Warning] bagging_freq is set=14, subsample_freq=0 will be ignored. Current value: bagging_freq=14\n",
      "Training until validation scores don't improve for 100 rounds\n",
      "[100]\ttraining's l1: 0.931836\tvalid_1's l1: 1.39316\n",
      "[200]\ttraining's l1: 0.925605\tvalid_1's l1: 1.39344\n",
      "Early stopping, best iteration is:\n",
      "[161]\ttraining's l1: 0.926882\tvalid_1's l1: 1.39214\n"
     ]
    },
    {
     "name": "stderr",
     "output_type": "stream",
     "text": [
      "\u001b[32m[I 2021-07-29 15:19:51,115]\u001b[0m Trial 96 finished with value: -1.3920635683973537 and parameters: {'max_depth': 8, 'min_child_weight': 20, 'subsample': 0.5, 'colsample_bytree': 0.8, 'reg_lambda': 101.50092938643608, 'reg_alpha': 0.035683409901834676, 'feature_fraction': 0.9628981988348346, 'bagging_fraction': 0.2660717843728934, 'bagging_freq': 14, 'num_leaves': 612, 'min_child_samples': 45}. Best is trial 55 with value: -1.3839654834951516.\u001b[0m\n"
     ]
    },
    {
     "name": "stdout",
     "output_type": "stream",
     "text": [
      "[LightGBM] [Warning] feature_fraction is set=0.9070898328680297, colsample_bytree=0.7 will be ignored. Current value: feature_fraction=0.9070898328680297\n",
      "[LightGBM] [Warning] bagging_fraction is set=0.3395719450737314, subsample=0.5 will be ignored. Current value: bagging_fraction=0.3395719450737314\n",
      "[LightGBM] [Warning] bagging_freq is set=17, subsample_freq=0 will be ignored. Current value: bagging_freq=17\n",
      "Training until validation scores don't improve for 100 rounds\n",
      "[100]\ttraining's l1: 0.953526\tvalid_1's l1: 1.39712\n",
      "[200]\ttraining's l1: 0.945676\tvalid_1's l1: 1.39542\n",
      "[300]\ttraining's l1: 0.939747\tvalid_1's l1: 1.3933\n",
      "[400]\ttraining's l1: 0.927756\tvalid_1's l1: 1.39106\n",
      "[500]\ttraining's l1: 0.915951\tvalid_1's l1: 1.39104\n",
      "Early stopping, best iteration is:\n",
      "[438]\ttraining's l1: 0.9234\tvalid_1's l1: 1.38934\n"
     ]
    },
    {
     "name": "stderr",
     "output_type": "stream",
     "text": [
      "\u001b[32m[I 2021-07-29 15:20:02,646]\u001b[0m Trial 97 finished with value: -1.3892590796799271 and parameters: {'max_depth': 7, 'min_child_weight': 17, 'subsample': 0.5, 'colsample_bytree': 0.7, 'reg_lambda': 518.3836449954629, 'reg_alpha': 0.11497705910817561, 'feature_fraction': 0.9070898328680297, 'bagging_fraction': 0.3395719450737314, 'bagging_freq': 17, 'num_leaves': 427, 'min_child_samples': 53}. Best is trial 55 with value: -1.3839654834951516.\u001b[0m\n"
     ]
    },
    {
     "name": "stdout",
     "output_type": "stream",
     "text": [
      "[LightGBM] [Warning] feature_fraction is set=0.9382085664436827, colsample_bytree=0.8 will be ignored. Current value: feature_fraction=0.9382085664436827\n",
      "[LightGBM] [Warning] bagging_fraction is set=0.29972655207119714, subsample=0.5 will be ignored. Current value: bagging_fraction=0.29972655207119714\n",
      "[LightGBM] [Warning] bagging_freq is set=15, subsample_freq=0 will be ignored. Current value: bagging_freq=15\n",
      "Training until validation scores don't improve for 100 rounds\n",
      "[100]\ttraining's l1: 0.923642\tvalid_1's l1: 1.39027\n",
      "[200]\ttraining's l1: 0.909972\tvalid_1's l1: 1.39074\n",
      "Early stopping, best iteration is:\n",
      "[108]\ttraining's l1: 0.920228\tvalid_1's l1: 1.38956\n"
     ]
    },
    {
     "name": "stderr",
     "output_type": "stream",
     "text": [
      "\u001b[32m[I 2021-07-29 15:20:09,395]\u001b[0m Trial 98 finished with value: -1.3895286397667463 and parameters: {'max_depth': 9, 'min_child_weight': 8, 'subsample': 0.5, 'colsample_bytree': 0.8, 'reg_lambda': 274.95645032636213, 'reg_alpha': 0.025339577436174057, 'feature_fraction': 0.9382085664436827, 'bagging_fraction': 0.29972655207119714, 'bagging_freq': 15, 'num_leaves': 136, 'min_child_samples': 56}. Best is trial 55 with value: -1.3839654834951516.\u001b[0m\n"
     ]
    },
    {
     "name": "stdout",
     "output_type": "stream",
     "text": [
      "[LightGBM] [Warning] feature_fraction is set=0.9831342486871059, colsample_bytree=0.8 will be ignored. Current value: feature_fraction=0.9831342486871059\n",
      "[LightGBM] [Warning] bagging_fraction is set=0.3683201033697854, subsample=0.7 will be ignored. Current value: bagging_fraction=0.3683201033697854\n",
      "[LightGBM] [Warning] bagging_freq is set=16, subsample_freq=0 will be ignored. Current value: bagging_freq=16\n",
      "Training until validation scores don't improve for 100 rounds\n",
      "[100]\ttraining's l1: 0.976546\tvalid_1's l1: 1.40118\n",
      "[200]\ttraining's l1: 0.946653\tvalid_1's l1: 1.3953\n"
     ]
    },
    {
     "name": "stderr",
     "output_type": "stream",
     "text": [
      "\u001b[32m[I 2021-07-29 15:20:16,529]\u001b[0m Trial 99 finished with value: -1.3950078231133405 and parameters: {'max_depth': 6, 'min_child_weight': 18, 'subsample': 0.7, 'colsample_bytree': 0.8, 'reg_lambda': 975.3000335609382, 'reg_alpha': 0.09196943921051938, 'feature_fraction': 0.9831342486871059, 'bagging_fraction': 0.3683201033697854, 'bagging_freq': 16, 'num_leaves': 649, 'min_child_samples': 68}. Best is trial 55 with value: -1.3839654834951516.\u001b[0m\n"
     ]
    },
    {
     "name": "stdout",
     "output_type": "stream",
     "text": [
      "Early stopping, best iteration is:\n",
      "[194]\ttraining's l1: 0.948156\tvalid_1's l1: 1.39514\n"
     ]
    }
   ],
   "source": [
    "study1, study2, study3, study4 = rt4kaido_train.train_and_evaluate(train, isgamedayonly=False)"
   ]
  },
  {
   "cell_type": "code",
   "execution_count": 23,
   "id": "465e93ea",
   "metadata": {},
   "outputs": [
    {
     "name": "stdout",
     "output_type": "stream",
     "text": [
      "best_score = 1.0676777757599207\n"
     ]
    },
    {
     "data": {
      "text/plain": [
       "{'max_depth': 16,\n",
       " 'min_child_weight': 12,\n",
       " 'subsample': 0.8,\n",
       " 'colsample_bytree': 0.7,\n",
       " 'reg_lambda': 0.3278973867947044,\n",
       " 'reg_alpha': 0.0705025843411178,\n",
       " 'feature_fraction': 0.6774230925830791,\n",
       " 'bagging_fraction': 0.9611641285866778,\n",
       " 'bagging_freq': 15,\n",
       " 'num_leaves': 861,\n",
       " 'min_child_samples': 51}"
      ]
     },
     "execution_count": 23,
     "metadata": {},
     "output_type": "execute_result"
    }
   ],
   "source": [
    "print(f'best_score = {-study1.best_value}')\n",
    "study1.best_trial.params"
   ]
  },
  {
   "cell_type": "code",
   "execution_count": 24,
   "id": "fa58977d",
   "metadata": {},
   "outputs": [
    {
     "name": "stdout",
     "output_type": "stream",
     "text": [
      "best_score = 2.0492036832168443\n"
     ]
    },
    {
     "data": {
      "text/plain": [
       "{'max_depth': 20,\n",
       " 'min_child_weight': 2,\n",
       " 'subsample': 0.6,\n",
       " 'colsample_bytree': 0.8,\n",
       " 'reg_lambda': 2.6399903825789437,\n",
       " 'reg_alpha': 0.30306478691521777,\n",
       " 'feature_fraction': 0.9298675743123522,\n",
       " 'bagging_fraction': 0.9853896679537015,\n",
       " 'bagging_freq': 18,\n",
       " 'num_leaves': 772,\n",
       " 'min_child_samples': 52}"
      ]
     },
     "execution_count": 24,
     "metadata": {},
     "output_type": "execute_result"
    }
   ],
   "source": [
    "print(f'best_score = {-study2.best_value}')\n",
    "study2.best_trial.params"
   ]
  },
  {
   "cell_type": "code",
   "execution_count": 25,
   "id": "e9a069c4",
   "metadata": {},
   "outputs": [
    {
     "name": "stdout",
     "output_type": "stream",
     "text": [
      "best_score = 0.8684372799658228\n"
     ]
    },
    {
     "data": {
      "text/plain": [
       "{'max_depth': 9,\n",
       " 'min_child_weight': 4,\n",
       " 'subsample': 0.7,\n",
       " 'colsample_bytree': 0.6,\n",
       " 'reg_lambda': 0.0012682128211901121,\n",
       " 'reg_alpha': 0.0016398848910185928,\n",
       " 'feature_fraction': 0.9780730677428271,\n",
       " 'bagging_fraction': 0.861966130432503,\n",
       " 'bagging_freq': 14,\n",
       " 'num_leaves': 673,\n",
       " 'min_child_samples': 81}"
      ]
     },
     "execution_count": 25,
     "metadata": {},
     "output_type": "execute_result"
    }
   ],
   "source": [
    "print(f'best_score = {-study3.best_value}')\n",
    "study3.best_trial.params"
   ]
  },
  {
   "cell_type": "code",
   "execution_count": 26,
   "id": "d46a9be1",
   "metadata": {},
   "outputs": [
    {
     "name": "stdout",
     "output_type": "stream",
     "text": [
      "best_score = 1.3839654834951516\n"
     ]
    },
    {
     "data": {
      "text/plain": [
       "{'max_depth': 8,\n",
       " 'min_child_weight': 19,\n",
       " 'subsample': 0.5,\n",
       " 'colsample_bytree': 0.8,\n",
       " 'reg_lambda': 925.2697466118267,\n",
       " 'reg_alpha': 0.11753575003604008,\n",
       " 'feature_fraction': 0.9973331741365149,\n",
       " 'bagging_fraction': 0.3278165935246542,\n",
       " 'bagging_freq': 16,\n",
       " 'num_leaves': 529,\n",
       " 'min_child_samples': 26}"
      ]
     },
     "execution_count": 26,
     "metadata": {},
     "output_type": "execute_result"
    }
   ],
   "source": [
    "print(f'best_score = {-study4.best_value}')\n",
    "study4.best_trial.params"
   ]
  },
  {
   "cell_type": "code",
   "execution_count": null,
   "id": "8b99ed80",
   "metadata": {},
   "outputs": [],
   "source": []
  }
 ],
 "metadata": {
  "kernelspec": {
   "display_name": "Python 3",
   "language": "python",
   "name": "python3"
  },
  "language_info": {
   "codemirror_mode": {
    "name": "ipython",
    "version": 3
   },
   "file_extension": ".py",
   "mimetype": "text/x-python",
   "name": "python",
   "nbconvert_exporter": "python",
   "pygments_lexer": "ipython3",
   "version": "3.6.13"
  }
 },
 "nbformat": 4,
 "nbformat_minor": 5
}
