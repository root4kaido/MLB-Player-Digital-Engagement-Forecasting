{
 "cells": [
  {
   "cell_type": "code",
   "execution_count": 1,
   "id": "bfca4e29",
   "metadata": {},
   "outputs": [],
   "source": [
    "import gc\n",
    "import os\n",
    "import sys\n",
    "import math\n",
    "import random\n",
    "import warnings\n",
    "import pickle\n",
    "from pathlib import Path\n",
    "from joblib import Parallel, delayed\n",
    "from statsmodels.tsa.deterministic import (CalendarFourier,\n",
    "                                           CalendarSeasonality,\n",
    "                                           CalendarTimeTrend,\n",
    "                                           DeterministicProcess)\n",
    "import pickle\n",
    "import optuna\n",
    "from tqdm import tqdm\n",
    "import os\n",
    "import ipywidgets as widgets\n",
    "import matplotlib.pyplot as plt\n",
    "import numpy as np\n",
    "import pandas as pd\n",
    "import seaborn as sns\n",
    "# from pandarallel import pandarallel\n",
    "# pandarallel.initialize()\n",
    "warnings.simplefilter(\"ignore\")\n",
    "import ctypes as ct\n",
    "from datetime import timedelta\n",
    "\n",
    "from sklearn.metrics import mean_absolute_error\n",
    "\n",
    "import statistics as st\n",
    "import lightgbm as lgbm\n",
    "from scipy.stats import norm"
   ]
  },
  {
   "cell_type": "code",
   "execution_count": 2,
   "id": "a9fd674e",
   "metadata": {},
   "outputs": [],
   "source": [
    "sys.path.append('../../')\n",
    "import src.utils as utils"
   ]
  },
  {
   "cell_type": "markdown",
   "id": "7dc2ebb7",
   "metadata": {},
   "source": [
    "## Param"
   ]
  },
  {
   "cell_type": "code",
   "execution_count": 3,
   "id": "7b924d9c",
   "metadata": {},
   "outputs": [],
   "source": [
    "EXP_NUM = 92\n",
    "NFOLDS = 5\n",
    "SEED = 42\n",
    "TRAIN_DATE = 'date < 20210701'"
   ]
  },
  {
   "cell_type": "code",
   "execution_count": 4,
   "id": "d71a9b8a",
   "metadata": {},
   "outputs": [],
   "source": [
    "# def set_seed(seed: int = 42):\n",
    "#     random.seed(seed)\n",
    "#     np.random.seed(seed)\n",
    "#     os.environ[\"PYTHONHASHSEED\"] = str(seed)\n",
    "#     torch.manual_seed(seed)\n",
    "#     torch.cuda.manual_seed(seed)  # type: ignore\n",
    "#     torch.backends.cudnn.deterministic = True  # type: ignore\n",
    "#     torch.backends.cudnn.benchmark = False  # type: ignore\n",
    "# set_seed(SEED)"
   ]
  },
  {
   "cell_type": "markdown",
   "id": "5174f124",
   "metadata": {},
   "source": [
    "## Dir"
   ]
  },
  {
   "cell_type": "code",
   "execution_count": 5,
   "id": "dc03693e",
   "metadata": {},
   "outputs": [],
   "source": [
    "DATA_DIR = Path(\"/home/knikaido/work/MLB-Player-Digital-Engagement-Forecasting/data/\")\n",
    "MAIN_DATA_DIR = DATA_DIR / 'mlb-player-digital-engagement-forecasting-update'\n",
    "TRAIN_DIR = MAIN_DATA_DIR / 'train'\n",
    "OUTPUT_DIR = Path('./output/')"
   ]
  },
  {
   "cell_type": "code",
   "execution_count": 6,
   "id": "c89122a6",
   "metadata": {},
   "outputs": [],
   "source": [
    "players = pd.read_csv(MAIN_DATA_DIR / 'players.csv')\n",
    "seasons = pd.read_csv(MAIN_DATA_DIR / 'seasons.csv')\n",
    "teams = pd.read_csv(MAIN_DATA_DIR / 'teams.csv')\n",
    "\n",
    "rosters = pd.read_csv(TRAIN_DIR / 'rosters_train.csv').query(TRAIN_DATE)\n",
    "targets = pd.read_csv(TRAIN_DIR / 'nextDayPlayerEngagement_train.csv').query(TRAIN_DATE)\n",
    "scores = pd.read_csv(TRAIN_DIR / 'playerBoxScores_train.csv').query(TRAIN_DATE)\n",
    "scores = scores.groupby(['playerId', 'date']).sum().reset_index()\n",
    "standings = pd.read_csv(TRAIN_DIR / 'standings_train.csv').query(TRAIN_DATE)\n",
    "playerTwitterFollowers = pd.read_csv(TRAIN_DIR / 'playerTwitterFollowers_train.csv').query(TRAIN_DATE)\n",
    "awards = pd.read_csv(TRAIN_DIR / 'awards_train.csv').query(TRAIN_DATE)\n"
   ]
  },
  {
   "cell_type": "code",
   "execution_count": 7,
   "id": "f5d57ee3",
   "metadata": {},
   "outputs": [],
   "source": [
    "train_elements_dict = {\"players\":players, \n",
    "                       \"rosters\":rosters, \n",
    "                       \"targets\":targets, \n",
    "                       \"scores\":scores, \n",
    "                       \"seasons\":seasons, \n",
    "                       \"teams\":teams, \n",
    "                       \"standings\":standings,\n",
    "                       'awards':awards}"
   ]
  },
  {
   "cell_type": "code",
   "execution_count": 8,
   "id": "7c643df9",
   "metadata": {},
   "outputs": [],
   "source": [
    "def map_team_name(name):\n",
    "    names = name.split('-')\n",
    "    result = ''\n",
    "    for n in names:\n",
    "        if n == 'st':\n",
    "            n = 'st.'\n",
    "        result += f' {n.capitalize()}'\n",
    "\n",
    "    return result[1:]"
   ]
  },
  {
   "cell_type": "code",
   "execution_count": 9,
   "id": "b7bd19f0",
   "metadata": {},
   "outputs": [],
   "source": [
    "def calc_corr(df):\n",
    "    # 相関係数行列を作成\n",
    "    corr_mat = df.corr(method='pearson')\n",
    "\n",
    "    # 行（列）サイズを取得\n",
    "    n = corr_mat.shape[0]\n",
    "    corr_ary = []\n",
    "\n",
    "    for i in range(n):\n",
    "        for j in range(i):\n",
    "            if i == j:\n",
    "                continue\n",
    "            corr_ary.append(corr_mat.iloc[i,j])\n",
    "\n",
    "    return corr_ary"
   ]
  },
  {
   "cell_type": "code",
   "execution_count": 10,
   "id": "b94a1ded",
   "metadata": {},
   "outputs": [],
   "source": [
    "def calc_probs(pid,df,temp):\n",
    "    to_append=[pid,'','','','','','','','','','','','','','','','','','','','','','','','','','','','','','','','','','']\n",
    "    targets=['target1','target2','target3','target4']\n",
    "    z=1\n",
    "    for target in targets:\n",
    "        target_prob = temp[target].tolist()\n",
    "        mean = np.mean(target_prob)\n",
    "        std = np.std(target_prob)\n",
    "        median = st.median(target_prob)\n",
    "        distribution = norm(mean, std)\n",
    "        min_weight = min(target_prob)\n",
    "        max_weight = max(target_prob)\n",
    "        values = list(np.linspace(min_weight, max_weight))\n",
    "        probabilities = [distribution.pdf(v) for v in values]\n",
    "        max_value = max(probabilities)\n",
    "        max_index = probabilities.index(max_value)\n",
    "        to_append[z]=mean\n",
    "        to_append[z+1]=median\n",
    "        to_append[z+2]=std\n",
    "        to_append[z+3]=min_weight\n",
    "        to_append[z+4]=max_weight\n",
    "        to_append[z+5]=temp[target].skew()\n",
    "        to_append[z+6]=temp[target].kurt()\n",
    "\n",
    "        z=z+7\n",
    "    corr_ = calc_corr(temp[['target1', 'target2', 'target3', 'target4']])\n",
    "    to_append[z:] = corr_  \n",
    "    df_length = len(df)\n",
    "    df.loc[df_length] = to_append\n",
    "    return df"
   ]
  },
  {
   "cell_type": "code",
   "execution_count": 11,
   "id": "768a09cc",
   "metadata": {},
   "outputs": [],
   "source": [
    "def count_consecutive_items_n_cols(df, col_name_list, output_col):\n",
    "    cum_sum_list = [\n",
    "        (df[col_name] != df[col_name].shift(1)).cumsum().tolist() for col_name in col_name_list\n",
    "    ]\n",
    "    df[output_col] = df.groupby(\n",
    "        [\"_\".join(map(str, x)) for x in zip(*cum_sum_list)]\n",
    "    ).cumcount() + 1\n",
    "    return df"
   ]
  },
  {
   "cell_type": "code",
   "execution_count": 12,
   "id": "27a2a4ff",
   "metadata": {},
   "outputs": [],
   "source": [
    "def extract_season(date_raw, season_start_end):\n",
    "    idxes = 0\n",
    "    for raw in season_start_end.iloc():\n",
    "        idx_ = ((date_raw >= raw.iloc[0]) & (date_raw <= raw.iloc[1])) * 1\n",
    "        idxes += idx_\n",
    "    return idxes"
   ]
  },
  {
   "cell_type": "code",
   "execution_count": 13,
   "id": "5a6c7d6c",
   "metadata": {},
   "outputs": [],
   "source": [
    "def fit_lgbm(x_train, y_train, x_valid, y_valid, verbose=100):\n",
    "    def opt(trial):\n",
    "        params = {\n",
    "                'random_state': SEED,\n",
    "                'objective':'mae',\n",
    "                'n_estimators': 10000,\n",
    "                'learning_rate': 0.1,\n",
    "                'max_depth': trial.suggest_int('max_depth', 1, 20),\n",
    "                'min_child_weight': trial.suggest_int('min_child_weight', 1, 20),\n",
    "                'subsample': trial.suggest_discrete_uniform('subsample', 0.5, 0.9, 0.1),\n",
    "                'colsample_bytree': trial.suggest_discrete_uniform('colsample_bytree', 0.5, 0.9, 0.1),\n",
    "                'reg_lambda': trial.suggest_loguniform('reg_lambda', 1e-3, 1e3),\n",
    "                'reg_alpha': trial.suggest_loguniform('reg_alpha', 1e-3, 1e3),\n",
    "                'feature_fraction': trial.suggest_uniform('feature_fraction', 0.2, 1.0),\n",
    "                'bagging_fraction': trial.suggest_uniform('bagging_fraction', 0.2, 1.0),\n",
    "                'bagging_freq': trial.suggest_int('bagging_freq', 1, 20),\n",
    "                'num_leaves': trial.suggest_int('num_leaves', 10, 1000),\n",
    "                'min_child_samples': trial.suggest_int('min_child_samples', 5, 100)\n",
    "        }\n",
    "\n",
    "        model_opt = lgbm.LGBMRegressor(**params)\n",
    "\n",
    "        model_opt.fit(x_train, y_train, \n",
    "            eval_set=[(x_train, y_train), (x_valid, y_valid)],  \n",
    "            early_stopping_rounds=verbose, \n",
    "            verbose=verbose)\n",
    "        oof_pred = model_opt.predict(x_valid)\n",
    "        oof_pred = np.clip(oof_pred, 0, 100)\n",
    "        score = mean_absolute_error(oof_pred, y_valid)\n",
    "        return -score\n",
    "    return opt"
   ]
  },
  {
   "cell_type": "code",
   "execution_count": 14,
   "id": "530adc2d",
   "metadata": {},
   "outputs": [],
   "source": [
    "# def fit_lgbm(x_train, y_train, x_valid, y_valid, params: dict=None, verbose=100):\n",
    "#     oof_pred = np.zeros(len(y_valid), dtype=np.float32)\n",
    "#     model = lgbm.LGBMRegressor(**params)\n",
    "#     model.fit(x_train, y_train, \n",
    "#         eval_set=[(x_valid, y_valid)],  \n",
    "#         early_stopping_rounds=verbose, \n",
    "#         verbose=verbose)\n",
    "#     oof_pred = model.predict(x_valid)\n",
    "#     oof_pred = np.clip(oof_pred, 0, 100)\n",
    "#     score = mean_absolute_error(oof_pred, y_valid)\n",
    "#     print('mae:', score)\n",
    "#     return oof_pred, model, score"
   ]
  },
  {
   "cell_type": "code",
   "execution_count": 15,
   "id": "454e69ce",
   "metadata": {},
   "outputs": [],
   "source": [
    "def my_timeseries_fold(train):\n",
    "    \n",
    "    tr_idxs = []\n",
    "    val_idxs = []\n",
    "        \n",
    "    tr_idx = (train['date'].astype(int) < 20200801)\n",
    "    val_idx = (train['date'].astype(int) >= 20200801) & (train['date'].astype(int) < 20200901)\n",
    "    tr_idxs.append(tr_idx)\n",
    "    val_idxs.append(val_idx)\n",
    "\n",
    "    tr_idx = (train['date'].astype(int) < 20200901)\n",
    "    val_idx = (train['date'].astype(int) >= 20200901) & (train['date'].astype(int) < 20201001)\n",
    "    tr_idxs.append(tr_idx)\n",
    "    val_idxs.append(val_idx)\n",
    "    \n",
    "    tr_idx = (train['date'].astype(int) < 20210401)\n",
    "    val_idx = (train['date'].astype(int) >= 20210401) & (train['date'].astype(int) < 20210501)\n",
    "    tr_idxs.append(tr_idx)\n",
    "    val_idxs.append(val_idx)\n",
    "\n",
    "    tr_idx = (train['date'].astype(int) < 20210501)\n",
    "    val_idx = (train['date'].astype(int) >= 20210501) & (train['date'].astype(int) < 20210601)\n",
    "    tr_idxs.append(tr_idx)\n",
    "    val_idxs.append(val_idx)\n",
    "    \n",
    "    tr_idx = (train['date'].astype(int) < 20210601)\n",
    "    val_idx = (train['date'].astype(int) >= 20210601) & (train['date'].astype(int) < 20210701)\n",
    "    tr_idxs.append(tr_idx)\n",
    "    val_idxs.append(val_idx)\n",
    "    \n",
    "    return tr_idxs, val_idxs"
   ]
  },
  {
   "cell_type": "code",
   "execution_count": 16,
   "id": "1a454e22",
   "metadata": {},
   "outputs": [],
   "source": [
    "class Rt4kaidoTrain:\n",
    "    def __init__(self, usetimelinefeature=False):\n",
    "        \n",
    "        self.usetimelinefeature = usetimelinefeature\n",
    "        self.targets_cols = ['playerId', 'target1', 'target2', 'target3', 'target4', 'date']\n",
    "        self.players_cols = ['playerId', 'primaryPositionName', 'birthCity', 'DOY', 'mlbDebutYear', 'mlbDebutDate', 'DebutAge', 'heightInches', 'weight', 'playerForTestSetAndFuturePreds']\n",
    "        self.rosters_cols = ['playerId', 'teamId', 'status', 'date']\n",
    "        self.salaries_cols = ['teamId', 'salary', 'year']\n",
    "        self.standings_cols = ['teamId', 'wildCardRank', 'sportGamesBack', 'date']\n",
    "        self.transactions_cols = ['playerId', 'transaction_flag', 'date']\n",
    "        self.stat_cols = [\"playerId\", \"target1_mean\",\"target1_median\",\"target1_std\",\"target1_min\",\"target1_max\",\"target1_skew\",\"target1_kurt\",\n",
    "                        \"target2_mean\",\"target2_median\",\"target2_std\",\"target2_min\",\"target2_max\",\"target2_skew\",\"target2_kurt\",\n",
    "                        \"target3_mean\",\"target3_median\",\"target3_std\",\"target3_min\",\"target3_max\",\"target3_skew\",\"target3_kurt\",\n",
    "                        \"target4_mean\",\"target4_median\",\"target4_std\",\"target4_min\",\"target4_max\",\"target4_skew\",\"target4_kurt\",\n",
    "                        'tgt1_2_corr', 'tgt1_3_corr', 'tgt2_3_corr', 'tgt1_4_corr', 'tgt2_4_corr', 'tgt3_4_corr']\n",
    "\n",
    "        self.scores_cols = ['playerId', 'battingOrder', 'gamesPlayedBatting', 'flyOuts',\n",
    "               'groundOuts', 'runsScored', 'doubles', 'triples', 'homeRuns',\n",
    "               'strikeOuts', 'baseOnBalls', 'intentionalWalks', 'hits', 'hitByPitch',\n",
    "               'atBats', 'caughtStealing', 'stolenBases', 'groundIntoDoublePlay',\n",
    "               'groundIntoTriplePlay', 'plateAppearances', 'totalBases', 'rbi',\n",
    "               'leftOnBase', 'sacBunts', 'sacFlies', 'catchersInterference',\n",
    "               'pickoffs', 'gamesPlayedPitching', 'gamesStartedPitching',\n",
    "               'completeGamesPitching', 'shutoutsPitching', 'winsPitching',\n",
    "               'lossesPitching', 'flyOutsPitching', 'airOutsPitching',\n",
    "               'groundOutsPitching', 'runsPitching', 'doublesPitching',\n",
    "               'triplesPitching', 'homeRunsPitching', 'strikeOutsPitching',\n",
    "               'baseOnBallsPitching', 'intentionalWalksPitching', 'hitsPitching',\n",
    "               'hitByPitchPitching', 'atBatsPitching', 'caughtStealingPitching',\n",
    "               'stolenBasesPitching', 'inningsPitched', 'saveOpportunities',\n",
    "               'earnedRuns', 'battersFaced', 'outsPitching', 'pitchesThrown', 'balls',\n",
    "               'strikes', 'hitBatsmen', 'balks', 'wildPitches', 'pickoffsPitching',\n",
    "               'rbiPitching', 'gamesFinishedPitching', 'inheritedRunners',\n",
    "               'inheritedRunnersScored', 'catchersInterferencePitching',\n",
    "               'sacBuntsPitching', 'sacFliesPitching', 'saves', 'holds', 'blownSaves',\n",
    "               'assists', 'putOuts', 'errors', 'chances', 'date']\n",
    "\n",
    "        self.feature_cols1 = ['week_day','label_playerId', 'label_primaryPositionName', 'label_teamId',\n",
    "               'label_status', 'battingOrder', 'gamesPlayedBatting', 'flyOuts',\n",
    "               'groundOuts', 'runsScored', 'doubles', 'triples', 'homeRuns',\n",
    "               'strikeOuts', 'baseOnBalls', 'intentionalWalks', 'hits', 'hitByPitch',\n",
    "               'atBats', 'caughtStealing', 'stolenBases', 'groundIntoDoublePlay',\n",
    "               'groundIntoTriplePlay', 'plateAppearances', 'totalBases', 'rbi',\n",
    "               'leftOnBase', 'sacBunts', 'sacFlies', 'catchersInterference',\n",
    "               'pickoffs', 'gamesPlayedPitching', 'gamesStartedPitching',\n",
    "               'completeGamesPitching', 'shutoutsPitching', 'winsPitching',\n",
    "               'lossesPitching', 'flyOutsPitching', 'airOutsPitching',\n",
    "               'groundOutsPitching', 'runsPitching', 'doublesPitching',\n",
    "               'triplesPitching', 'homeRunsPitching', 'strikeOutsPitching',\n",
    "               'baseOnBallsPitching', 'intentionalWalksPitching', 'hitsPitching',\n",
    "               'hitByPitchPitching', 'atBatsPitching', 'caughtStealingPitching',\n",
    "               'stolenBasesPitching', 'inningsPitched', 'saveOpportunities',\n",
    "               'earnedRuns', 'battersFaced', 'outsPitching', 'pitchesThrown', 'balls',\n",
    "               'strikes', 'hitBatsmen', 'balks', 'wildPitches', 'pickoffsPitching',\n",
    "               'rbiPitching', 'gamesFinishedPitching', 'inheritedRunners',\n",
    "               'inheritedRunnersScored', 'catchersInterferencePitching',\n",
    "               'sacBuntsPitching', 'sacFliesPitching', 'saves', 'holds', 'blownSaves',\n",
    "               'assists', 'putOuts', 'errors', 'chances',\n",
    "                'season_info', 'wildCardRank', 'award_flag'] \n",
    "\n",
    "        self.feature_cols2 = ['label_playerId', 'label_primaryPositionName', 'label_teamId',\n",
    "               'label_status', 'battingOrder', 'gamesPlayedBatting', 'flyOuts',\n",
    "               'groundOuts', 'runsScored', 'doubles', 'triples', 'homeRuns',\n",
    "               'strikeOuts', 'baseOnBalls', 'intentionalWalks', 'hits', 'hitByPitch',\n",
    "               'atBats', 'caughtStealing', 'stolenBases', 'groundIntoDoublePlay',\n",
    "               'groundIntoTriplePlay', 'plateAppearances', 'totalBases', 'rbi',\n",
    "               'leftOnBase', 'sacBunts', 'sacFlies', 'catchersInterference',\n",
    "               'pickoffs', 'gamesPlayedPitching', 'gamesStartedPitching',\n",
    "               'completeGamesPitching', 'shutoutsPitching', 'winsPitching',\n",
    "               'lossesPitching', 'flyOutsPitching', 'airOutsPitching',\n",
    "               'groundOutsPitching', 'runsPitching', 'doublesPitching',\n",
    "               'triplesPitching', 'homeRunsPitching', 'strikeOutsPitching',\n",
    "               'baseOnBallsPitching', 'intentionalWalksPitching', 'hitsPitching',\n",
    "               'hitByPitchPitching', 'atBatsPitching', 'caughtStealingPitching',\n",
    "               'stolenBasesPitching', 'inningsPitched', 'saveOpportunities',\n",
    "               'earnedRuns', 'battersFaced', 'outsPitching', 'pitchesThrown', 'balls',\n",
    "               'strikes', 'hitBatsmen', 'balks', 'wildPitches', 'pickoffsPitching',\n",
    "               'rbiPitching', 'gamesFinishedPitching', 'inheritedRunners',\n",
    "               'inheritedRunnersScored', 'catchersInterferencePitching',\n",
    "               'sacBuntsPitching', 'sacFliesPitching', 'saves', 'holds', 'blownSaves',\n",
    "               'assists', 'putOuts', 'errors', 'chances',\n",
    "                'season_info', 'wildCardRank', 'award_flag'] \n",
    "\n",
    "        self.feature_cols3 = ['week_day','label_playerId', 'label_primaryPositionName', 'label_teamId',\n",
    "               'label_status', 'battingOrder', 'gamesPlayedBatting', 'flyOuts',\n",
    "               'groundOuts', 'runsScored', 'doubles', 'triples', 'homeRuns',\n",
    "               'strikeOuts', 'baseOnBalls', 'intentionalWalks', 'hits', 'hitByPitch',\n",
    "               'atBats', 'caughtStealing', 'stolenBases', 'groundIntoDoublePlay',\n",
    "               'groundIntoTriplePlay', 'plateAppearances', 'totalBases', 'rbi',\n",
    "               'leftOnBase', 'sacBunts', 'sacFlies', 'catchersInterference',\n",
    "               'pickoffs', 'gamesPlayedPitching', 'gamesStartedPitching',\n",
    "               'completeGamesPitching', 'shutoutsPitching', 'winsPitching',\n",
    "               'lossesPitching', 'flyOutsPitching', 'airOutsPitching',\n",
    "               'groundOutsPitching', 'runsPitching', 'doublesPitching',\n",
    "               'triplesPitching', 'homeRunsPitching', 'strikeOutsPitching',\n",
    "               'baseOnBallsPitching', 'intentionalWalksPitching', 'hitsPitching',\n",
    "               'hitByPitchPitching', 'atBatsPitching', 'caughtStealingPitching',\n",
    "               'stolenBasesPitching', 'inningsPitched', 'saveOpportunities',\n",
    "               'earnedRuns', 'battersFaced', 'outsPitching', 'pitchesThrown', 'balls',\n",
    "               'strikes', 'hitBatsmen', 'balks', 'wildPitches', 'pickoffsPitching',\n",
    "               'rbiPitching', 'gamesFinishedPitching', 'inheritedRunners',\n",
    "               'inheritedRunnersScored', 'catchersInterferencePitching',\n",
    "               'sacBuntsPitching', 'sacFliesPitching', 'saves', 'holds', 'blownSaves',\n",
    "               'assists', 'putOuts', 'errors', 'chances',\n",
    "                'season_info', 'wildCardRank', 'diffmlbDebutDateflag', 'sincemlbDebutDateflag', 'award_flag'] \n",
    "\n",
    "        self.feature_cols4 = ['week_day', 'annual_day', 'month', 'label_playerId', 'label_primaryPositionName', 'label_teamId', 'label_birthCity',\n",
    "                        'DOY', 'mlbDebutYear', 'DebutAge', 'heightInches', 'weight',\n",
    "               'label_status', 'battingOrder', 'gamesPlayedBatting', 'flyOuts',\n",
    "               'groundOuts', 'runsScored', 'doubles', 'triples', 'homeRuns',\n",
    "               'strikeOuts', 'baseOnBalls', 'intentionalWalks', 'hits', 'hitByPitch',\n",
    "               'atBats', 'caughtStealing', 'stolenBases', 'groundIntoDoublePlay',\n",
    "               'groundIntoTriplePlay', 'plateAppearances', 'totalBases', 'rbi',\n",
    "               'leftOnBase', 'sacBunts', 'sacFlies', 'catchersInterference',\n",
    "               'pickoffs', 'gamesPlayedPitching', 'gamesStartedPitching',\n",
    "               'completeGamesPitching', 'shutoutsPitching', 'winsPitching',\n",
    "               'lossesPitching', 'flyOutsPitching', 'airOutsPitching',\n",
    "               'groundOutsPitching', 'runsPitching', 'doublesPitching',\n",
    "               'triplesPitching', 'homeRunsPitching', 'strikeOutsPitching',\n",
    "               'baseOnBallsPitching', 'intentionalWalksPitching', 'hitsPitching',\n",
    "               'hitByPitchPitching', 'atBatsPitching', 'caughtStealingPitching',\n",
    "               'stolenBasesPitching', 'inningsPitched', 'saveOpportunities',\n",
    "               'earnedRuns', 'battersFaced', 'outsPitching', 'pitchesThrown', 'balls',\n",
    "               'strikes', 'hitBatsmen', 'balks', 'wildPitches', 'pickoffsPitching',\n",
    "               'rbiPitching', 'gamesFinishedPitching', 'inheritedRunners',\n",
    "               'inheritedRunnersScored', 'catchersInterferencePitching',\n",
    "               'sacBuntsPitching', 'sacFliesPitching', 'saves', 'holds', 'blownSaves',\n",
    "               'assists', 'putOuts', 'errors', 'chances',\n",
    "                'season_info', 'wildCardRank', 'diffmlbDebutDateflag', 'sincemlbDebutDateflag', 'award_flag'] \n",
    "        \n",
    "        \n",
    "        # lightgbm\n",
    "        self.params1 = {'objective':'mae',\n",
    "                       'reg_alpha': 0.14947461820098767, \n",
    "                       'reg_lambda': 0.10185644384043743, \n",
    "                       'n_estimators': 3633, \n",
    "                       'learning_rate': 0.08046301304430488, \n",
    "                       'num_leaves': 674, \n",
    "                       'feature_fraction': 0.9101240539122566, \n",
    "                       'bagging_fraction': 0.9884451442950513, \n",
    "                       'bagging_freq': 8, \n",
    "                       'min_child_samples': 51}\n",
    "\n",
    "\n",
    "        self.params2 = {'objective':'mae',\n",
    "                       'reg_alpha': 0.1,\n",
    "                       'reg_lambda': 0.1, \n",
    "                       'n_estimators': 80,\n",
    "                       'learning_rate': 0.1,\n",
    "                       'random_state': 42,\n",
    "                       \"num_leaves\": 22}\n",
    "\n",
    "\n",
    "\n",
    "        self.params3 = {'objective':'mae',\n",
    "                       'reg_alpha': 0.1,\n",
    "                       'reg_lambda': 0.1, \n",
    "                       'n_estimators': 10000,\n",
    "                       'learning_rate': 0.1,\n",
    "                       'random_state': 42,\n",
    "                       \"num_leaves\": 100}\n",
    "\n",
    "        self.params4 = {'objective':'mae',\n",
    "                       'reg_alpha': 0.016468100279441976, \n",
    "                       'reg_lambda': 0.09128335764019105, \n",
    "                       'n_estimators': 9868, \n",
    "                       'learning_rate': 0.10528150510326864, \n",
    "                       'num_leaves': 157, \n",
    "                       'feature_fraction': 0.5419185713426886, \n",
    "                       'bagging_fraction': 0.2637405128936662, \n",
    "                       'bagging_freq': 19, \n",
    "                       'min_child_samples': 71}\n",
    "\n",
    "    def make_feature(self, train_elements_dict):\n",
    "\n",
    "        players = train_elements_dict['players']\n",
    "        rosters = train_elements_dict['rosters']\n",
    "        targets = train_elements_dict['targets']\n",
    "        scores = train_elements_dict['scores']\n",
    "        seasons = train_elements_dict['seasons']\n",
    "        teams = train_elements_dict['teams']\n",
    "        standings = train_elements_dict['standings']\n",
    "\n",
    "        print('calc target stat ... ', end=\"\")\n",
    "\n",
    "        ## target stats\n",
    "        targets_train = targets.merge(rosters[self.rosters_cols], on=['playerId', 'date'], how='left')\n",
    "        targets_train = targets_train[(targets_train['date'] >= 20210601) & (targets_train['date'] < 20210701)]\n",
    "\n",
    "        playerId_list = targets_train['playerId'].unique()\n",
    "        player_target_probs = pd.DataFrame(columns = self.stat_cols)  \n",
    "        for pid in tqdm(playerId_list):\n",
    "            temp = targets_train[targets_train['playerId'] == pid]\n",
    "            player_target_stats=calc_probs(pid,player_target_probs,temp)\n",
    "\n",
    "        teamId_list = targets_train['teamId'].dropna().unique()\n",
    "        team_target_probs = pd.DataFrame(columns = self.stat_cols)\n",
    "        for pid in tqdm(teamId_list):\n",
    "            temp = targets_train[targets_train['teamId'] == pid]\n",
    "            team_target_stats=calc_probs(pid,team_target_probs,temp)\n",
    "\n",
    "        team_stat_cols = self.stat_cols\n",
    "        team_stat_cols = team_stat_cols[:1] + [\"team_\" + word for word in team_stat_cols[1:]]\n",
    "        team_target_stats.columns = team_stat_cols\n",
    "\n",
    "        self.feature_cols1 += self.stat_cols[1:-6]\n",
    "        self.feature_cols2 += self.stat_cols[1:-6]\n",
    "        self.feature_cols3 += self.stat_cols[1:-6]\n",
    "        self.feature_cols4 += self.stat_cols[1:-6]\n",
    "\n",
    "        self.feature_cols1 += team_stat_cols[1:]\n",
    "        self.feature_cols2 += team_stat_cols[1:]\n",
    "        self.feature_cols3 += team_stat_cols[1:]\n",
    "        self.feature_cols4 += team_stat_cols[1:]\n",
    "\n",
    "        print('done.')\n",
    "\n",
    "        print('preprocess ... ', end=\"\")\n",
    "        ## salaries\n",
    "        # salaries = salaries.groupby(['year', 'team']).sum()['salary'].reset_index()\n",
    "        # salaries['team'] = salaries['team'].apply(map_team_name)\n",
    "        # salaries = salaries.merge(teams, left_on='team', right_on='name', how='inner')\n",
    "        # salaries = salaries.rename(columns={'id': 'teamId'})\n",
    "\n",
    "        ## seasons\n",
    "        seasons = seasons.fillna('0000-00-00')\n",
    "        for c_ in seasons.columns[1:]:\n",
    "            seasons[c_] = seasons[c_].str.replace('-', '').astype(int)\n",
    "\n",
    "        ## players\n",
    "        players['DOY'] = pd.to_datetime(players['DOB'], format=\"%Y-%m-%d\").dt.year\n",
    "        players['mlbDebutYear'] = pd.to_datetime(players['mlbDebutDate'], format=\"%Y-%m-%d\").dt.year\n",
    "        players['DebutAge'] = players['mlbDebutYear'] - players['DOY']\n",
    "        players['mlbDebutDate'] = pd.to_numeric(players['mlbDebutDate'].str.replace('-', ''), errors=\"coerce\")\n",
    "\n",
    "        print('done.')\n",
    "\n",
    "        print('creat feature ... ', end=\"\")\n",
    "        # creat feature\n",
    "        train = targets[self.targets_cols].merge(players[self.players_cols], on=['playerId'], how='left')\n",
    "        train = train.merge(rosters[self.rosters_cols], on=['playerId', 'date'], how='left')\n",
    "        train = train.merge(scores[self.scores_cols], on=['playerId', 'date'], how='left')\n",
    "        train = train.merge(player_target_stats, how='inner', left_on=[\"playerId\"],right_on=[\"playerId\"])\n",
    "        train = train.merge(standings[self.standings_cols], on=['teamId', 'date'], how='left')\n",
    "        train = train.merge(team_target_stats, how='left', left_on=[\"teamId\"],right_on=[\"playerId\"], suffixes=('', 'team_'))\n",
    "        train = train.merge(awards, on=['playerId', 'date'], how='left')\n",
    "\n",
    "        \n",
    "        date_ = pd.to_datetime(train['date'], format=\"%Y%m%d\")\n",
    "        train['annual_day'] = (date_ - pd.to_datetime(date_.dt.year, format=\"%Y\")) /  timedelta(days=1)\n",
    "        train['week_day'] = date_.dt.weekday\n",
    "        train['month'] = date_.dt.month\n",
    "        train['year'] = date_.dt.year\n",
    "        train['mlbDebutDateflag'] = (train['mlbDebutDate'] == train['date']) * 1\n",
    "        train['sincemlbDebutDateflag'] = (train['date'] >= train['mlbDebutDate']) * 1\n",
    "        train['diffmlbDebutDateflag'] = (train['date'] - train['mlbDebutDate'])\n",
    "\n",
    "        # label encoding\n",
    "        player2num = {c: i for i, c in enumerate(train['playerId'].unique())}\n",
    "        position2num = {c: i for i, c in enumerate(train['primaryPositionName'].unique())}\n",
    "        birthCityn2num = {c: i for i, c in enumerate(train['birthCity'].unique())}\n",
    "        teamid2num = {c: i for i, c in enumerate(train['teamId'].unique())}\n",
    "        status2num = {c: i for i, c in enumerate(train['status'].unique())}\n",
    "        awardName2num = {c: i for i, c in enumerate(train['awardName'].unique())}\n",
    "        train['label_playerId'] = train['playerId'].map(player2num)\n",
    "        train['label_primaryPositionName'] = train['primaryPositionName'].map(position2num)\n",
    "        train['label_birthCity'] = train['birthCity'].map(birthCityn2num)\n",
    "        train['label_teamId'] = train['teamId'].map(teamid2num)\n",
    "        train['label_status'] = train['status'].map(status2num)\n",
    "        train['award_flag'] = train['awardSeason'].isna()*1\n",
    "\n",
    "\n",
    "        ## season_info\n",
    "        on_preseason_idxes = extract_season(train['date'], seasons[['preSeasonStartDate', 'preSeasonEndDate']])\n",
    "        on_season_idxes = extract_season(train['date'], seasons[['regularSeasonStartDate', 'regularSeasonEndDate']]) * 2\n",
    "        on_postseason_idxes = extract_season(train['date'], seasons[['postSeasonStartDate', 'postSeasonEndDate']]) * 3\n",
    "\n",
    "        special_days = seasons['lastDate1stHalf'].to_list() + seasons['allStarDate'].to_list() + seasons['firstDate2ndHalf'].to_list()\n",
    "        special_idxes = 0\n",
    "        for day in special_days:\n",
    "            special_idxes += (train['date'] == day) * 4\n",
    "\n",
    "        on_total_season_idxes = on_preseason_idxes\n",
    "        on_total_season_idxes[on_season_idxes==2] = 2\n",
    "        on_total_season_idxes[on_postseason_idxes==3] = 3\n",
    "        on_total_season_idxes[special_idxes==4] = 4\n",
    "\n",
    "        train['season_info'] = on_total_season_idxes\n",
    "\n",
    "        ## only on season\n",
    "        on_whole_idxes = extract_season(train['date'], seasons[['seasonStartDate', 'seasonEndDate']])\n",
    "        train = train[on_whole_idxes == 1].reset_index(drop=True)\n",
    "\n",
    "        # train = train.merge(playerTwitterFollowers, how='left', on=[\"playerId\", 'date'])\n",
    "\n",
    "        ## only test_player\n",
    "#         train = train[train['playerForTestSetAndFuturePreds']==True].reset_index(drop=True)\n",
    "\n",
    "        print('done.')\n",
    "        \n",
    "        train_features_dict = {'players': players,\n",
    "                               'seasons': seasons,\n",
    "                                'player_target_stats': player_target_stats,\n",
    "                                'team_target_stats': team_target_stats,\n",
    "                                'player2num': player2num, \n",
    "                                'position2num': position2num, \n",
    "                                'birthCityn2num': birthCityn2num,\n",
    "                                'teamid2num': teamid2num,\n",
    "                                'status2num': status2num,\n",
    "                                'feature_cols1': self.feature_cols1,\n",
    "                                'feature_cols2': self.feature_cols2,\n",
    "                                'feature_cols3': self.feature_cols3,\n",
    "                                'feature_cols4': self.feature_cols4,\n",
    "                                'rosters_cols_all': list(rosters.columns),\n",
    "                                'scores_cols_all': list(scores.columns),\n",
    "                                'standings_cols_all': list(standings.columns),\n",
    "                                'awards_cols_all': list(awards.columns)\n",
    "                              }\n",
    "        \n",
    "        if self.usetimelinefeature:\n",
    "            ## game_info\n",
    "            train['gameday'] = ~train['battingOrder'].isna()*1\n",
    "            train.sort_values(by=['playerId','date'],inplace=True,ascending=True)\n",
    "\n",
    "            train=count_consecutive_items_n_cols(train,['playerId','gameday'],'daysSinceLastGame')\n",
    "            train.loc[train['gameday']==1,'daysSinceLastGame'] = 0\n",
    "\n",
    "            train_game = train[train['gameday']==1]\n",
    "            train_last_game = train_game[~train_game.duplicated(subset='playerId', keep='last')][['playerId', 'date']]\n",
    "            train_last_game.columns = ['playerId', 'lastdate']\n",
    "            train_player_unique = pd.DataFrame(train['playerId'].unique(), columns=['playerId'])\n",
    "            train_last_game = pd.merge(train_player_unique, train_last_game, on=['playerId'], how='left' )\n",
    "            train_last_game = train_last_game.fillna(20171231)\n",
    "            \n",
    "            train_features_dict['train_last_game'] = train_last_game\n",
    "            self.feature_cols1 += ['daysSinceLastGame']\n",
    "            self.feature_cols2 += ['daysSinceLastGame']\n",
    "            self.feature_cols3 += ['daysSinceLastGame']\n",
    "            self.feature_cols4 += ['daysSinceLastGame']\n",
    "            \n",
    "            \n",
    "            ## rosters_info\n",
    "            train['rosterday'] = ~train['status'].isna()*1\n",
    "            train.sort_values(by=['playerId','date'],inplace=True,ascending=True)\n",
    "\n",
    "            train=count_consecutive_items_n_cols(train,['playerId','rosterday'],'daysSinceLastRoster')\n",
    "            train.loc[train['rosterday']==1,'daysSinceLastRoster'] = 0\n",
    "\n",
    "            train_roster= train[train['rosterday']==1]\n",
    "            train_last_roster = train_roster[~train_roster.duplicated(subset='playerId', keep='last')][['playerId', 'date']]\n",
    "            train_last_roster.columns = ['playerId', 'lastroster']\n",
    "            train_player_unique = pd.DataFrame(train['playerId'].unique(), columns=['playerId'])\n",
    "            train_last_roster = pd.merge(train_player_unique, train_last_roster, on=['playerId'], how='left' )\n",
    "            train_last_roster = train_last_roster.fillna(20171231)\n",
    "            \n",
    "            train_features_dict['train_last_roster'] = train_last_roster\n",
    "            self.feature_cols1 += ['daysSinceLastRoster']\n",
    "            self.feature_cols2 += ['daysSinceLastRoster']\n",
    "            self.feature_cols3 += ['daysSinceLastRoster']\n",
    "            self.feature_cols4 += ['daysSinceLastRoster']\n",
    "\n",
    "\n",
    "        return train, train_features_dict\n",
    "    \n",
    "    def train_and_evaluate(self, train, isgamedayonly=False):\n",
    "        \n",
    "        if isgamedayonly:\n",
    "            train = train[train['gameday'] == 1].reset_index(drop=True)\n",
    "            \n",
    "        train_X = train\n",
    "        train_y = train[['target1', 'target2', 'target3', 'target4']]\n",
    "\n",
    "        oof = np.zeros(train_y.shape) - 1.0\n",
    "        y_valids = np.zeros(train_y.shape) - 1.0\n",
    "\n",
    "        tr_idx = (train['date'].astype(int) < 20210401)\n",
    "        val_idx = ~tr_idx\n",
    "\n",
    "        x_train = train_X.loc[tr_idx].reset_index(drop=True)\n",
    "        y_train = train_y.loc[tr_idx].reset_index(drop=True)\n",
    "        x_valid = train_X.loc[val_idx].reset_index(drop=True)\n",
    "        y_valid = train_y.loc[val_idx].reset_index(drop=True)\n",
    "\n",
    "        study1 = optuna.create_study(direction='maximize')\n",
    "        study1.optimize(fit_lgbm(x_train[self.feature_cols1], y_train['target1'], \n",
    "                                 x_valid[self.feature_cols1], y_valid['target1']), n_trials=100)\n",
    "        \n",
    "        study2 = optuna.create_study(direction='maximize')\n",
    "        study2.optimize(fit_lgbm(x_train[self.feature_cols2], y_train['target2'], \n",
    "                                 x_valid[self.feature_cols2], y_valid['target2']), n_trials=100)\n",
    "        \n",
    "        study3 = optuna.create_study(direction='maximize')\n",
    "        study3.optimize(fit_lgbm(x_train[self.feature_cols3], y_train['target3'], \n",
    "                                 x_valid[self.feature_cols3], y_valid['target3']), n_trials=100)\n",
    "        \n",
    "        study4 = optuna.create_study(direction='maximize')\n",
    "        study4.optimize(fit_lgbm(x_train[self.feature_cols4], y_train['target4'], \n",
    "                                 x_valid[self.feature_cols4], y_valid['target4']), n_trials=100)\n",
    "\n",
    "#         oof1, model1, score1 = fit_lgbm(\n",
    "#             x_train[self.feature_cols1], y_train['target1'],\n",
    "#             x_valid[self.feature_cols1], y_valid['target1'],\n",
    "# #             self.params1\n",
    "#         )\n",
    "#         oof2, model2, score2 = fit_lgbm(\n",
    "#             x_train[self.feature_cols2], y_train['target2'],\n",
    "#             x_valid[self.feature_cols2], y_valid['target2'],\n",
    "# #             self.params2\n",
    "#         )\n",
    "#         oof3, model3, score3 = fit_lgbm(\n",
    "#             x_train[self.feature_cols3], y_train['target3'],\n",
    "#             x_valid[self.feature_cols3], y_valid['target3'],\n",
    "# #             self.params3\n",
    "#         )\n",
    "#         oof4, model4, score4 = fit_lgbm(\n",
    "#             x_train[self.feature_cols4], y_train['target4'],\n",
    "#             x_valid[self.feature_cols4], y_valid['target4'],\n",
    "# #             self.params4\n",
    "#         )\n",
    "\n",
    "#         score = (score1+score2+score3+score4) / 4\n",
    "#         print(f'score: {score}')\n",
    "\n",
    "#         oof[val_idx, 0] = oof1\n",
    "#         oof[val_idx, 1] = oof2\n",
    "#         oof[val_idx, 2] = oof3\n",
    "#         oof[val_idx, 3] = oof4\n",
    "#         y_valids[val_idx, 0] = y_valid['target1'].values\n",
    "#         y_valids[val_idx, 1] = y_valid['target2'].values\n",
    "#         y_valids[val_idx, 2] = y_valid['target3'].values\n",
    "#         y_valids[val_idx, 3] = y_valid['target4'].values\n",
    "\n",
    "#         mae = mean_absolute_error(y_valids[val_idx, :], oof[val_idx, :])\n",
    "#         print(\"mae:\", mae)\n",
    "\n",
    "#         val_idx_num = val_idx[val_idx==True].index.to_list()\n",
    "\n",
    "#         oof_df = train[self.targets_cols]\n",
    "#         oof_df.iloc[val_idx_num, 1:5] = oof[val_idx_num, :]\n",
    "\n",
    "#         models = np.array([model1, model2, model3, model4])\n",
    "\n",
    "        return study1, study2, study3, study4"
   ]
  },
  {
   "cell_type": "code",
   "execution_count": 17,
   "id": "69490df0",
   "metadata": {},
   "outputs": [
    {
     "name": "stdout",
     "output_type": "stream",
     "text": [
      "calc target stat ... "
     ]
    },
    {
     "name": "stderr",
     "output_type": "stream",
     "text": [
      "100%|██████████| 2061/2061 [00:45<00:00, 44.94it/s]\n",
      "100%|██████████| 30/30 [00:00<00:00, 42.08it/s]\n"
     ]
    },
    {
     "name": "stdout",
     "output_type": "stream",
     "text": [
      "done.\n",
      "preprocess ... done.\n",
      "creat feature ... done.\n"
     ]
    }
   ],
   "source": [
    "rt4kaido_train = Rt4kaidoTrain(usetimelinefeature=True)\n",
    "train, train_features_dict = rt4kaido_train.make_feature(train_elements_dict)"
   ]
  },
  {
   "cell_type": "code",
   "execution_count": 18,
   "id": "598e1029",
   "metadata": {},
   "outputs": [
    {
     "name": "stderr",
     "output_type": "stream",
     "text": [
      "\u001b[32m[I 2021-07-29 23:25:54,917]\u001b[0m A new study created in memory with name: no-name-441d4c57-7254-4cdc-977d-b257866a6313\u001b[0m\n"
     ]
    },
    {
     "name": "stdout",
     "output_type": "stream",
     "text": [
      "[LightGBM] [Warning] feature_fraction is set=0.9722869936637106, colsample_bytree=0.8 will be ignored. Current value: feature_fraction=0.9722869936637106\n",
      "[LightGBM] [Warning] bagging_fraction is set=0.7758500817633951, subsample=0.5 will be ignored. Current value: bagging_fraction=0.7758500817633951\n",
      "[LightGBM] [Warning] bagging_freq is set=15, subsample_freq=0 will be ignored. Current value: bagging_freq=15\n",
      "Training until validation scores don't improve for 100 rounds\n",
      "[100]\ttraining's l1: 2.53843\tvalid_1's l1: 2.56742\n",
      "[200]\ttraining's l1: 2.47203\tvalid_1's l1: 2.55732\n",
      "[300]\ttraining's l1: 2.41896\tvalid_1's l1: 2.55423\n"
     ]
    },
    {
     "name": "stderr",
     "output_type": "stream",
     "text": [
      "\u001b[32m[I 2021-07-29 23:26:01,301]\u001b[0m Trial 0 finished with value: -2.5530786201473004 and parameters: {'max_depth': 18, 'min_child_weight': 17, 'subsample': 0.5, 'colsample_bytree': 0.8, 'reg_lambda': 7.814945595626298, 'reg_alpha': 0.33299327270956247, 'feature_fraction': 0.9722869936637106, 'bagging_fraction': 0.7758500817633951, 'bagging_freq': 15, 'num_leaves': 117, 'min_child_samples': 48}. Best is trial 0 with value: -2.5530786201473004.\u001b[0m\n"
     ]
    },
    {
     "name": "stdout",
     "output_type": "stream",
     "text": [
      "Early stopping, best iteration is:\n",
      "[283]\ttraining's l1: 2.42574\tvalid_1's l1: 2.55395\n",
      "[LightGBM] [Warning] feature_fraction is set=0.24857453972189367, colsample_bytree=0.5 will be ignored. Current value: feature_fraction=0.24857453972189367\n",
      "[LightGBM] [Warning] bagging_fraction is set=0.8492908445787666, subsample=0.9 will be ignored. Current value: bagging_fraction=0.8492908445787666\n",
      "[LightGBM] [Warning] bagging_freq is set=15, subsample_freq=0 will be ignored. Current value: bagging_freq=15\n",
      "Training until validation scores don't improve for 100 rounds\n",
      "[100]\ttraining's l1: 2.51778\tvalid_1's l1: 2.59603\n",
      "[200]\ttraining's l1: 2.46589\tvalid_1's l1: 2.57559\n",
      "[300]\ttraining's l1: 2.44185\tvalid_1's l1: 2.57345\n",
      "[400]\ttraining's l1: 2.42358\tvalid_1's l1: 2.57067\n",
      "[500]\ttraining's l1: 2.40841\tvalid_1's l1: 2.57025\n",
      "[600]\ttraining's l1: 2.39573\tvalid_1's l1: 2.57015\n",
      "Early stopping, best iteration is:\n",
      "[527]\ttraining's l1: 2.40525\tvalid_1's l1: 2.56916\n"
     ]
    },
    {
     "name": "stderr",
     "output_type": "stream",
     "text": [
      "\u001b[32m[I 2021-07-29 23:26:12,292]\u001b[0m Trial 1 finished with value: -2.5675261693533793 and parameters: {'max_depth': 20, 'min_child_weight': 13, 'subsample': 0.9, 'colsample_bytree': 0.5, 'reg_lambda': 13.027099736561231, 'reg_alpha': 25.45329004587263, 'feature_fraction': 0.24857453972189367, 'bagging_fraction': 0.8492908445787666, 'bagging_freq': 15, 'num_leaves': 702, 'min_child_samples': 33}. Best is trial 0 with value: -2.5530786201473004.\u001b[0m\n"
     ]
    },
    {
     "name": "stdout",
     "output_type": "stream",
     "text": [
      "[LightGBM] [Warning] feature_fraction is set=0.2639231591657276, colsample_bytree=0.9 will be ignored. Current value: feature_fraction=0.2639231591657276\n",
      "[LightGBM] [Warning] bagging_fraction is set=0.6390560324656622, subsample=0.9 will be ignored. Current value: bagging_fraction=0.6390560324656622\n",
      "[LightGBM] [Warning] bagging_freq is set=10, subsample_freq=0 will be ignored. Current value: bagging_freq=10\n",
      "Training until validation scores don't improve for 100 rounds\n",
      "[100]\ttraining's l1: 2.69519\tvalid_1's l1: 2.66205\n",
      "[200]\ttraining's l1: 2.65125\tvalid_1's l1: 2.6176\n",
      "[300]\ttraining's l1: 2.63132\tvalid_1's l1: 2.60033\n",
      "[400]\ttraining's l1: 2.62183\tvalid_1's l1: 2.59458\n",
      "[500]\ttraining's l1: 2.61341\tvalid_1's l1: 2.58604\n",
      "[600]\ttraining's l1: 2.60721\tvalid_1's l1: 2.58071\n",
      "[700]\ttraining's l1: 2.60157\tvalid_1's l1: 2.57615\n",
      "[800]\ttraining's l1: 2.59714\tvalid_1's l1: 2.57561\n",
      "[900]\ttraining's l1: 2.59328\tvalid_1's l1: 2.57103\n",
      "[1000]\ttraining's l1: 2.59039\tvalid_1's l1: 2.57034\n",
      "[1100]\ttraining's l1: 2.58732\tvalid_1's l1: 2.56887\n",
      "[1200]\ttraining's l1: 2.58282\tvalid_1's l1: 2.56477\n"
     ]
    },
    {
     "name": "stderr",
     "output_type": "stream",
     "text": [
      "\u001b[32m[I 2021-07-29 23:26:18,827]\u001b[0m Trial 2 finished with value: -2.563435573047077 and parameters: {'max_depth': 3, 'min_child_weight': 19, 'subsample': 0.9, 'colsample_bytree': 0.9, 'reg_lambda': 29.443730501953517, 'reg_alpha': 0.0010722337706517765, 'feature_fraction': 0.2639231591657276, 'bagging_fraction': 0.6390560324656622, 'bagging_freq': 10, 'num_leaves': 552, 'min_child_samples': 17}. Best is trial 0 with value: -2.5530786201473004.\u001b[0m\n"
     ]
    },
    {
     "name": "stdout",
     "output_type": "stream",
     "text": [
      "Early stopping, best iteration is:\n",
      "[1190]\ttraining's l1: 2.58361\tvalid_1's l1: 2.56448\n",
      "[LightGBM] [Warning] feature_fraction is set=0.8167307661196297, colsample_bytree=0.6 will be ignored. Current value: feature_fraction=0.8167307661196297\n",
      "[LightGBM] [Warning] bagging_fraction is set=0.8785141289659675, subsample=0.7 will be ignored. Current value: bagging_fraction=0.8785141289659675\n",
      "[LightGBM] [Warning] bagging_freq is set=11, subsample_freq=0 will be ignored. Current value: bagging_freq=11\n",
      "Training until validation scores don't improve for 100 rounds\n",
      "[100]\ttraining's l1: 2.64556\tvalid_1's l1: 2.62373\n",
      "[200]\ttraining's l1: 2.60957\tvalid_1's l1: 2.59194\n",
      "[300]\ttraining's l1: 2.59866\tvalid_1's l1: 2.58571\n",
      "[400]\ttraining's l1: 2.58182\tvalid_1's l1: 2.57779\n",
      "[500]\ttraining's l1: 2.57453\tvalid_1's l1: 2.57517\n",
      "[600]\ttraining's l1: 2.56402\tvalid_1's l1: 2.56952\n",
      "[700]\ttraining's l1: 2.55895\tvalid_1's l1: 2.57015\n",
      "[800]\ttraining's l1: 2.55385\tvalid_1's l1: 2.56696\n",
      "[900]\ttraining's l1: 2.54541\tvalid_1's l1: 2.5631\n",
      "[1000]\ttraining's l1: 2.53678\tvalid_1's l1: 2.55947\n",
      "[1100]\ttraining's l1: 2.53387\tvalid_1's l1: 2.55966\n",
      "Early stopping, best iteration is:\n",
      "[1018]\ttraining's l1: 2.53624\tvalid_1's l1: 2.55909\n"
     ]
    },
    {
     "name": "stderr",
     "output_type": "stream",
     "text": [
      "\u001b[32m[I 2021-07-29 23:26:26,554]\u001b[0m Trial 3 finished with value: -2.557804750255539 and parameters: {'max_depth': 20, 'min_child_weight': 3, 'subsample': 0.7, 'colsample_bytree': 0.6, 'reg_lambda': 86.74632577567246, 'reg_alpha': 0.04854553826006657, 'feature_fraction': 0.8167307661196297, 'bagging_fraction': 0.8785141289659675, 'bagging_freq': 11, 'num_leaves': 15, 'min_child_samples': 88}. Best is trial 0 with value: -2.5530786201473004.\u001b[0m\n"
     ]
    },
    {
     "name": "stdout",
     "output_type": "stream",
     "text": [
      "[LightGBM] [Warning] feature_fraction is set=0.5921525619234039, colsample_bytree=0.6 will be ignored. Current value: feature_fraction=0.5921525619234039\n",
      "[LightGBM] [Warning] bagging_fraction is set=0.39754857713432623, subsample=0.9 will be ignored. Current value: bagging_fraction=0.39754857713432623\n",
      "[LightGBM] [Warning] bagging_freq is set=18, subsample_freq=0 will be ignored. Current value: bagging_freq=18\n",
      "Training until validation scores don't improve for 100 rounds\n",
      "[100]\ttraining's l1: 2.57507\tvalid_1's l1: 2.6057\n",
      "[200]\ttraining's l1: 2.54251\tvalid_1's l1: 2.59015\n",
      "[300]\ttraining's l1: 2.52245\tvalid_1's l1: 2.58954\n",
      "[400]\ttraining's l1: 2.50557\tvalid_1's l1: 2.59133\n"
     ]
    },
    {
     "name": "stderr",
     "output_type": "stream",
     "text": [
      "\u001b[32m[I 2021-07-29 23:26:34,143]\u001b[0m Trial 4 finished with value: -2.5858545170352216 and parameters: {'max_depth': 14, 'min_child_weight': 1, 'subsample': 0.9, 'colsample_bytree': 0.6, 'reg_lambda': 538.9113774644395, 'reg_alpha': 0.0054785805004684265, 'feature_fraction': 0.5921525619234039, 'bagging_fraction': 0.39754857713432623, 'bagging_freq': 18, 'num_leaves': 203, 'min_child_samples': 77}. Best is trial 0 with value: -2.5530786201473004.\u001b[0m\n"
     ]
    },
    {
     "name": "stdout",
     "output_type": "stream",
     "text": [
      "Early stopping, best iteration is:\n",
      "[320]\ttraining's l1: 2.51874\tvalid_1's l1: 2.58837\n",
      "[LightGBM] [Warning] feature_fraction is set=0.42664818964292706, colsample_bytree=0.9 will be ignored. Current value: feature_fraction=0.42664818964292706\n",
      "[LightGBM] [Warning] bagging_fraction is set=0.2957173266888967, subsample=0.7 will be ignored. Current value: bagging_fraction=0.2957173266888967\n",
      "[LightGBM] [Warning] bagging_freq is set=20, subsample_freq=0 will be ignored. Current value: bagging_freq=20\n",
      "Training until validation scores don't improve for 100 rounds\n",
      "[100]\ttraining's l1: 2.67631\tvalid_1's l1: 2.65501\n",
      "[200]\ttraining's l1: 2.65735\tvalid_1's l1: 2.63967\n",
      "[300]\ttraining's l1: 2.64867\tvalid_1's l1: 2.6324\n",
      "[400]\ttraining's l1: 2.64271\tvalid_1's l1: 2.6283\n",
      "[500]\ttraining's l1: 2.63963\tvalid_1's l1: 2.62771\n",
      "Early stopping, best iteration is:\n",
      "[424]\ttraining's l1: 2.64175\tvalid_1's l1: 2.62749\n"
     ]
    },
    {
     "name": "stderr",
     "output_type": "stream",
     "text": [
      "\u001b[32m[I 2021-07-29 23:26:37,308]\u001b[0m Trial 5 finished with value: -2.626042435433239 and parameters: {'max_depth': 17, 'min_child_weight': 17, 'subsample': 0.7, 'colsample_bytree': 0.9, 'reg_lambda': 0.0015303640804373343, 'reg_alpha': 178.24746615900386, 'feature_fraction': 0.42664818964292706, 'bagging_fraction': 0.2957173266888967, 'bagging_freq': 20, 'num_leaves': 956, 'min_child_samples': 11}. Best is trial 0 with value: -2.5530786201473004.\u001b[0m\n"
     ]
    },
    {
     "name": "stdout",
     "output_type": "stream",
     "text": [
      "[LightGBM] [Warning] feature_fraction is set=0.22207905660620755, colsample_bytree=0.8 will be ignored. Current value: feature_fraction=0.22207905660620755\n",
      "[LightGBM] [Warning] bagging_fraction is set=0.9905939720916981, subsample=0.6 will be ignored. Current value: bagging_fraction=0.9905939720916981\n",
      "[LightGBM] [Warning] bagging_freq is set=2, subsample_freq=0 will be ignored. Current value: bagging_freq=2\n",
      "Training until validation scores don't improve for 100 rounds\n",
      "[100]\ttraining's l1: 2.60477\tvalid_1's l1: 2.60092\n",
      "[200]\ttraining's l1: 2.5541\tvalid_1's l1: 2.56798\n",
      "[300]\ttraining's l1: 2.5361\tvalid_1's l1: 2.56229\n",
      "[400]\ttraining's l1: 2.51925\tvalid_1's l1: 2.55937\n",
      "[500]\ttraining's l1: 2.5041\tvalid_1's l1: 2.55719\n",
      "[600]\ttraining's l1: 2.49301\tvalid_1's l1: 2.55448\n",
      "[700]\ttraining's l1: 2.48535\tvalid_1's l1: 2.55429\n",
      "[800]\ttraining's l1: 2.47749\tvalid_1's l1: 2.55416\n",
      "Early stopping, best iteration is:\n",
      "[772]\ttraining's l1: 2.47999\tvalid_1's l1: 2.55403\n"
     ]
    },
    {
     "name": "stderr",
     "output_type": "stream",
     "text": [
      "\u001b[32m[I 2021-07-29 23:26:45,419]\u001b[0m Trial 6 finished with value: -2.552698099143233 and parameters: {'max_depth': 20, 'min_child_weight': 8, 'subsample': 0.6, 'colsample_bytree': 0.8, 'reg_lambda': 222.88780295238803, 'reg_alpha': 0.03637785147406023, 'feature_fraction': 0.22207905660620755, 'bagging_fraction': 0.9905939720916981, 'bagging_freq': 2, 'num_leaves': 53, 'min_child_samples': 48}. Best is trial 6 with value: -2.552698099143233.\u001b[0m\n"
     ]
    },
    {
     "name": "stdout",
     "output_type": "stream",
     "text": [
      "[LightGBM] [Warning] feature_fraction is set=0.3382860250003039, colsample_bytree=0.5 will be ignored. Current value: feature_fraction=0.3382860250003039\n",
      "[LightGBM] [Warning] bagging_fraction is set=0.47536910829895246, subsample=0.7 will be ignored. Current value: bagging_fraction=0.47536910829895246\n",
      "[LightGBM] [Warning] bagging_freq is set=14, subsample_freq=0 will be ignored. Current value: bagging_freq=14\n",
      "Training until validation scores don't improve for 100 rounds\n",
      "[100]\ttraining's l1: 2.64158\tvalid_1's l1: 2.61902\n",
      "[200]\ttraining's l1: 2.60027\tvalid_1's l1: 2.58583\n",
      "[300]\ttraining's l1: 2.58965\tvalid_1's l1: 2.57277\n",
      "[400]\ttraining's l1: 2.58099\tvalid_1's l1: 2.56908\n",
      "[500]\ttraining's l1: 2.57108\tvalid_1's l1: 2.56407\n",
      "[600]\ttraining's l1: 2.56763\tvalid_1's l1: 2.56225\n",
      "[700]\ttraining's l1: 2.56165\tvalid_1's l1: 2.55869\n",
      "[800]\ttraining's l1: 2.5548\tvalid_1's l1: 2.55538\n",
      "[900]\ttraining's l1: 2.55062\tvalid_1's l1: 2.55507\n"
     ]
    },
    {
     "name": "stderr",
     "output_type": "stream",
     "text": [
      "\u001b[32m[I 2021-07-29 23:26:50,050]\u001b[0m Trial 7 finished with value: -2.5530252078543967 and parameters: {'max_depth': 4, 'min_child_weight': 16, 'subsample': 0.7, 'colsample_bytree': 0.5, 'reg_lambda': 0.5278327255330237, 'reg_alpha': 0.06402401172624839, 'feature_fraction': 0.3382860250003039, 'bagging_fraction': 0.47536910829895246, 'bagging_freq': 14, 'num_leaves': 102, 'min_child_samples': 20}. Best is trial 6 with value: -2.552698099143233.\u001b[0m\n"
     ]
    },
    {
     "name": "stdout",
     "output_type": "stream",
     "text": [
      "Early stopping, best iteration is:\n",
      "[861]\ttraining's l1: 2.55248\tvalid_1's l1: 2.55426\n",
      "[LightGBM] [Warning] feature_fraction is set=0.8028365283122563, colsample_bytree=0.9 will be ignored. Current value: feature_fraction=0.8028365283122563\n",
      "[LightGBM] [Warning] bagging_fraction is set=0.828370862675319, subsample=0.8 will be ignored. Current value: bagging_fraction=0.828370862675319\n",
      "[LightGBM] [Warning] bagging_freq is set=10, subsample_freq=0 will be ignored. Current value: bagging_freq=10\n",
      "Training until validation scores don't improve for 100 rounds\n",
      "[100]\ttraining's l1: 2.43548\tvalid_1's l1: 2.56597\n",
      "[200]\ttraining's l1: 2.3336\tvalid_1's l1: 2.56349\n",
      "[300]\ttraining's l1: 2.26893\tvalid_1's l1: 2.56574\n"
     ]
    },
    {
     "name": "stderr",
     "output_type": "stream",
     "text": [
      "\u001b[32m[I 2021-07-29 23:26:57,518]\u001b[0m Trial 8 finished with value: -2.561923963265907 and parameters: {'max_depth': 11, 'min_child_weight': 6, 'subsample': 0.8, 'colsample_bytree': 0.9, 'reg_lambda': 15.452500147970007, 'reg_alpha': 0.005676836103912893, 'feature_fraction': 0.8028365283122563, 'bagging_fraction': 0.828370862675319, 'bagging_freq': 10, 'num_leaves': 680, 'min_child_samples': 35}. Best is trial 6 with value: -2.552698099143233.\u001b[0m\n"
     ]
    },
    {
     "name": "stdout",
     "output_type": "stream",
     "text": [
      "Early stopping, best iteration is:\n",
      "[232]\ttraining's l1: 2.30595\tvalid_1's l1: 2.56294\n",
      "[LightGBM] [Warning] feature_fraction is set=0.6811815657848732, colsample_bytree=0.5 will be ignored. Current value: feature_fraction=0.6811815657848732\n",
      "[LightGBM] [Warning] bagging_fraction is set=0.24373509849507258, subsample=0.7 will be ignored. Current value: bagging_fraction=0.24373509849507258\n",
      "[LightGBM] [Warning] bagging_freq is set=12, subsample_freq=0 will be ignored. Current value: bagging_freq=12\n",
      "Training until validation scores don't improve for 100 rounds\n",
      "[100]\ttraining's l1: 2.61997\tvalid_1's l1: 2.6162\n",
      "[200]\ttraining's l1: 2.59485\tvalid_1's l1: 2.59474\n",
      "[300]\ttraining's l1: 2.58301\tvalid_1's l1: 2.5908\n",
      "[400]\ttraining's l1: 2.5753\tvalid_1's l1: 2.58875\n",
      "[500]\ttraining's l1: 2.568\tvalid_1's l1: 2.58637\n",
      "[600]\ttraining's l1: 2.56212\tvalid_1's l1: 2.58691\n",
      "[700]\ttraining's l1: 2.55596\tvalid_1's l1: 2.58526\n",
      "Early stopping, best iteration is:\n",
      "[642]\ttraining's l1: 2.55871\tvalid_1's l1: 2.58369\n"
     ]
    },
    {
     "name": "stderr",
     "output_type": "stream",
     "text": [
      "\u001b[32m[I 2021-07-29 23:27:01,714]\u001b[0m Trial 9 finished with value: -2.580312427746323 and parameters: {'max_depth': 7, 'min_child_weight': 20, 'subsample': 0.7, 'colsample_bytree': 0.5, 'reg_lambda': 0.07407856422608343, 'reg_alpha': 41.38327200916751, 'feature_fraction': 0.6811815657848732, 'bagging_fraction': 0.24373509849507258, 'bagging_freq': 12, 'num_leaves': 782, 'min_child_samples': 9}. Best is trial 6 with value: -2.552698099143233.\u001b[0m\n"
     ]
    },
    {
     "name": "stdout",
     "output_type": "stream",
     "text": [
      "[LightGBM] [Warning] feature_fraction is set=0.5158467398412647, colsample_bytree=0.7 will be ignored. Current value: feature_fraction=0.5158467398412647\n",
      "[LightGBM] [Warning] bagging_fraction is set=0.6659089927857538, subsample=0.5 will be ignored. Current value: bagging_fraction=0.6659089927857538\n",
      "[LightGBM] [Warning] bagging_freq is set=1, subsample_freq=0 will be ignored. Current value: bagging_freq=1\n",
      "Training until validation scores don't improve for 100 rounds\n",
      "[100]\ttraining's l1: 2.54224\tvalid_1's l1: 2.58773\n",
      "[200]\ttraining's l1: 2.49943\tvalid_1's l1: 2.57996\n",
      "[300]\ttraining's l1: 2.47238\tvalid_1's l1: 2.57882\n",
      "[400]\ttraining's l1: 2.44967\tvalid_1's l1: 2.57869\n",
      "Early stopping, best iteration is:\n",
      "[313]\ttraining's l1: 2.46895\tvalid_1's l1: 2.57806\n"
     ]
    },
    {
     "name": "stderr",
     "output_type": "stream",
     "text": [
      "\u001b[32m[I 2021-07-29 23:27:10,764]\u001b[0m Trial 10 finished with value: -2.576628713874849 and parameters: {'max_depth': 12, 'min_child_weight': 8, 'subsample': 0.5, 'colsample_bytree': 0.7, 'reg_lambda': 976.7453134162772, 'reg_alpha': 3.4702471833116513, 'feature_fraction': 0.5158467398412647, 'bagging_fraction': 0.6659089927857538, 'bagging_freq': 1, 'num_leaves': 345, 'min_child_samples': 63}. Best is trial 6 with value: -2.552698099143233.\u001b[0m\n"
     ]
    },
    {
     "name": "stdout",
     "output_type": "stream",
     "text": [
      "[LightGBM] [Warning] feature_fraction is set=0.35453347061065066, colsample_bytree=0.8 will be ignored. Current value: feature_fraction=0.35453347061065066\n",
      "[LightGBM] [Warning] bagging_fraction is set=0.4703897661973935, subsample=0.6 will be ignored. Current value: bagging_fraction=0.4703897661973935\n",
      "[LightGBM] [Warning] bagging_freq is set=1, subsample_freq=0 will be ignored. Current value: bagging_freq=1\n",
      "Training until validation scores don't improve for 100 rounds\n",
      "[100]\ttraining's l1: 2.87328\tvalid_1's l1: 2.84554\n",
      "[200]\ttraining's l1: 2.83787\tvalid_1's l1: 2.80319\n",
      "[300]\ttraining's l1: 2.82809\tvalid_1's l1: 2.7906\n",
      "[400]\ttraining's l1: 2.82161\tvalid_1's l1: 2.78458\n",
      "[500]\ttraining's l1: 2.81805\tvalid_1's l1: 2.77979\n",
      "[600]\ttraining's l1: 2.81405\tvalid_1's l1: 2.77839\n",
      "[700]\ttraining's l1: 2.80837\tvalid_1's l1: 2.77535\n",
      "[800]\ttraining's l1: 2.8069\tvalid_1's l1: 2.77574\n",
      "[900]\ttraining's l1: 2.80435\tvalid_1's l1: 2.77374\n",
      "[1000]\ttraining's l1: 2.80297\tvalid_1's l1: 2.77373\n",
      "[1100]\ttraining's l1: 2.80105\tvalid_1's l1: 2.77066\n",
      "[1200]\ttraining's l1: 2.80019\tvalid_1's l1: 2.77068\n",
      "[1300]\ttraining's l1: 2.7989\tvalid_1's l1: 2.77011\n",
      "[1400]\ttraining's l1: 2.79819\tvalid_1's l1: 2.76959\n"
     ]
    },
    {
     "name": "stderr",
     "output_type": "stream",
     "text": [
      "\u001b[32m[I 2021-07-29 23:27:19,434]\u001b[0m Trial 11 finished with value: -2.7678393282725153 and parameters: {'max_depth': 1, 'min_child_weight': 12, 'subsample': 0.6, 'colsample_bytree': 0.8, 'reg_lambda': 0.17313016201333023, 'reg_alpha': 0.09409856580647509, 'feature_fraction': 0.35453347061065066, 'bagging_fraction': 0.4703897661973935, 'bagging_freq': 1, 'num_leaves': 23, 'min_child_samples': 30}. Best is trial 6 with value: -2.552698099143233.\u001b[0m\n"
     ]
    },
    {
     "name": "stdout",
     "output_type": "stream",
     "text": [
      "Early stopping, best iteration is:\n",
      "[1362]\ttraining's l1: 2.79843\tvalid_1's l1: 2.76907\n",
      "[LightGBM] [Warning] feature_fraction is set=0.23280975830821687, colsample_bytree=0.7 will be ignored. Current value: feature_fraction=0.23280975830821687\n",
      "[LightGBM] [Warning] bagging_fraction is set=0.528480767551112, subsample=0.6 will be ignored. Current value: bagging_fraction=0.528480767551112\n",
      "[LightGBM] [Warning] bagging_freq is set=5, subsample_freq=0 will be ignored. Current value: bagging_freq=5\n",
      "Training until validation scores don't improve for 100 rounds\n",
      "[100]\ttraining's l1: 2.58793\tvalid_1's l1: 2.592\n",
      "[200]\ttraining's l1: 2.55848\tvalid_1's l1: 2.56819\n",
      "[300]\ttraining's l1: 2.54577\tvalid_1's l1: 2.5624\n",
      "[400]\ttraining's l1: 2.53827\tvalid_1's l1: 2.56095\n",
      "[500]\ttraining's l1: 2.5306\tvalid_1's l1: 2.55801\n"
     ]
    },
    {
     "name": "stderr",
     "output_type": "stream",
     "text": [
      "\u001b[32m[I 2021-07-29 23:27:22,704]\u001b[0m Trial 12 finished with value: -2.5567295331762083 and parameters: {'max_depth': 6, 'min_child_weight': 10, 'subsample': 0.6, 'colsample_bytree': 0.7, 'reg_lambda': 0.7176260957122306, 'reg_alpha': 0.027590480602749174, 'feature_fraction': 0.23280975830821687, 'bagging_fraction': 0.528480767551112, 'bagging_freq': 5, 'num_leaves': 293, 'min_child_samples': 56}. Best is trial 6 with value: -2.552698099143233.\u001b[0m\n"
     ]
    },
    {
     "name": "stdout",
     "output_type": "stream",
     "text": [
      "Early stopping, best iteration is:\n",
      "[499]\ttraining's l1: 2.53068\tvalid_1's l1: 2.55799\n",
      "[LightGBM] [Warning] feature_fraction is set=0.3772581131460442, colsample_bytree=0.8 will be ignored. Current value: feature_fraction=0.3772581131460442\n",
      "[LightGBM] [Warning] bagging_fraction is set=0.9828429504571942, subsample=0.6 will be ignored. Current value: bagging_fraction=0.9828429504571942\n",
      "[LightGBM] [Warning] bagging_freq is set=6, subsample_freq=0 will be ignored. Current value: bagging_freq=6\n",
      "Training until validation scores don't improve for 100 rounds\n",
      "[100]\ttraining's l1: 2.53164\tvalid_1's l1: 2.56611\n",
      "[200]\ttraining's l1: 2.49686\tvalid_1's l1: 2.55703\n",
      "[300]\ttraining's l1: 2.47407\tvalid_1's l1: 2.55268\n",
      "[400]\ttraining's l1: 2.46311\tvalid_1's l1: 2.5513\n",
      "[500]\ttraining's l1: 2.45156\tvalid_1's l1: 2.54944\n",
      "[600]\ttraining's l1: 2.4447\tvalid_1's l1: 2.5486\n",
      "[700]\ttraining's l1: 2.43756\tvalid_1's l1: 2.54812\n",
      "[800]\ttraining's l1: 2.431\tvalid_1's l1: 2.54826\n",
      "Early stopping, best iteration is:\n",
      "[747]\ttraining's l1: 2.43432\tvalid_1's l1: 2.54759\n"
     ]
    },
    {
     "name": "stderr",
     "output_type": "stream",
     "text": [
      "\u001b[32m[I 2021-07-29 23:27:32,279]\u001b[0m Trial 13 finished with value: -2.546705280284967 and parameters: {'max_depth': 7, 'min_child_weight': 14, 'subsample': 0.6, 'colsample_bytree': 0.8, 'reg_lambda': 0.014390172461547944, 'reg_alpha': 1.3783072004258252, 'feature_fraction': 0.3772581131460442, 'bagging_fraction': 0.9828429504571942, 'bagging_freq': 6, 'num_leaves': 396, 'min_child_samples': 44}. Best is trial 13 with value: -2.546705280284967.\u001b[0m\n"
     ]
    },
    {
     "name": "stdout",
     "output_type": "stream",
     "text": [
      "[LightGBM] [Warning] feature_fraction is set=0.46070316612306883, colsample_bytree=0.8 will be ignored. Current value: feature_fraction=0.46070316612306883\n",
      "[LightGBM] [Warning] bagging_fraction is set=0.9942113298546805, subsample=0.6 will be ignored. Current value: bagging_fraction=0.9942113298546805\n",
      "[LightGBM] [Warning] bagging_freq is set=5, subsample_freq=0 will be ignored. Current value: bagging_freq=5\n",
      "Training until validation scores don't improve for 100 rounds\n",
      "[100]\ttraining's l1: 2.5016\tvalid_1's l1: 2.55934\n",
      "[200]\ttraining's l1: 2.46487\tvalid_1's l1: 2.55277\n",
      "[300]\ttraining's l1: 2.44693\tvalid_1's l1: 2.55139\n",
      "[400]\ttraining's l1: 2.43518\tvalid_1's l1: 2.55189\n",
      "[500]\ttraining's l1: 2.42157\tvalid_1's l1: 2.55194\n"
     ]
    },
    {
     "name": "stderr",
     "output_type": "stream",
     "text": [
      "\u001b[32m[I 2021-07-29 23:27:39,965]\u001b[0m Trial 14 finished with value: -2.550363126855296 and parameters: {'max_depth': 8, 'min_child_weight': 5, 'subsample': 0.6, 'colsample_bytree': 0.8, 'reg_lambda': 0.004206215683212005, 'reg_alpha': 1.7130446156341317, 'feature_fraction': 0.46070316612306883, 'bagging_fraction': 0.9942113298546805, 'bagging_freq': 5, 'num_leaves': 438, 'min_child_samples': 45}. Best is trial 13 with value: -2.546705280284967.\u001b[0m\n"
     ]
    },
    {
     "name": "stdout",
     "output_type": "stream",
     "text": [
      "Early stopping, best iteration is:\n",
      "[431]\ttraining's l1: 2.42926\tvalid_1's l1: 2.55097\n",
      "[LightGBM] [Warning] feature_fraction is set=0.47528607787598504, colsample_bytree=0.8 will be ignored. Current value: feature_fraction=0.47528607787598504\n",
      "[LightGBM] [Warning] bagging_fraction is set=0.993479458885255, subsample=0.6 will be ignored. Current value: bagging_fraction=0.993479458885255\n",
      "[LightGBM] [Warning] bagging_freq is set=6, subsample_freq=0 will be ignored. Current value: bagging_freq=6\n",
      "Training until validation scores don't improve for 100 rounds\n",
      "[100]\ttraining's l1: 2.51033\tvalid_1's l1: 2.56331\n",
      "[200]\ttraining's l1: 2.47661\tvalid_1's l1: 2.55557\n",
      "[300]\ttraining's l1: 2.4574\tvalid_1's l1: 2.5535\n"
     ]
    },
    {
     "name": "stderr",
     "output_type": "stream",
     "text": [
      "\u001b[32m[I 2021-07-29 23:27:44,912]\u001b[0m Trial 15 finished with value: -2.552954351347724 and parameters: {'max_depth': 8, 'min_child_weight': 4, 'subsample': 0.6, 'colsample_bytree': 0.8, 'reg_lambda': 0.0017667012609945412, 'reg_alpha': 2.2820194634182958, 'feature_fraction': 0.47528607787598504, 'bagging_fraction': 0.993479458885255, 'bagging_freq': 6, 'num_leaves': 440, 'min_child_samples': 62}. Best is trial 13 with value: -2.546705280284967.\u001b[0m\n"
     ]
    },
    {
     "name": "stdout",
     "output_type": "stream",
     "text": [
      "Early stopping, best iteration is:\n",
      "[217]\ttraining's l1: 2.47179\tvalid_1's l1: 2.55336\n",
      "[LightGBM] [Warning] feature_fraction is set=0.5697548488800146, colsample_bytree=0.7 will be ignored. Current value: feature_fraction=0.5697548488800146\n",
      "[LightGBM] [Warning] bagging_fraction is set=0.9973518679692407, subsample=0.5 will be ignored. Current value: bagging_fraction=0.9973518679692407\n",
      "[LightGBM] [Warning] bagging_freq is set=6, subsample_freq=0 will be ignored. Current value: bagging_freq=6\n",
      "Training until validation scores don't improve for 100 rounds\n",
      "[100]\ttraining's l1: 2.48887\tvalid_1's l1: 2.56412\n",
      "[200]\ttraining's l1: 2.44517\tvalid_1's l1: 2.5602\n",
      "[300]\ttraining's l1: 2.41003\tvalid_1's l1: 2.55745\n",
      "[400]\ttraining's l1: 2.38447\tvalid_1's l1: 2.5579\n"
     ]
    },
    {
     "name": "stderr",
     "output_type": "stream",
     "text": [
      "\u001b[32m[I 2021-07-29 23:27:54,099]\u001b[0m Trial 16 finished with value: -2.5555303557682327 and parameters: {'max_depth': 9, 'min_child_weight': 13, 'subsample': 0.5, 'colsample_bytree': 0.7, 'reg_lambda': 0.015263738761835406, 'reg_alpha': 7.749417769047823, 'feature_fraction': 0.5697548488800146, 'bagging_fraction': 0.9973518679692407, 'bagging_freq': 6, 'num_leaves': 510, 'min_child_samples': 42}. Best is trial 13 with value: -2.546705280284967.\u001b[0m\n"
     ]
    },
    {
     "name": "stdout",
     "output_type": "stream",
     "text": [
      "Early stopping, best iteration is:\n",
      "[358]\ttraining's l1: 2.39333\tvalid_1's l1: 2.55621\n",
      "[LightGBM] [Warning] feature_fraction is set=0.3913099556981032, colsample_bytree=0.8 will be ignored. Current value: feature_fraction=0.3913099556981032\n",
      "[LightGBM] [Warning] bagging_fraction is set=0.9019164300935317, subsample=0.6 will be ignored. Current value: bagging_fraction=0.9019164300935317\n",
      "[LightGBM] [Warning] bagging_freq is set=4, subsample_freq=0 will be ignored. Current value: bagging_freq=4\n",
      "Training until validation scores don't improve for 100 rounds\n",
      "[100]\ttraining's l1: 2.5992\tvalid_1's l1: 2.58568\n",
      "[200]\ttraining's l1: 2.57173\tvalid_1's l1: 2.56893\n",
      "[300]\ttraining's l1: 2.55708\tvalid_1's l1: 2.5638\n",
      "[400]\ttraining's l1: 2.54805\tvalid_1's l1: 2.56173\n",
      "[500]\ttraining's l1: 2.53994\tvalid_1's l1: 2.55738\n",
      "[600]\ttraining's l1: 2.53366\tvalid_1's l1: 2.55631\n",
      "[700]\ttraining's l1: 2.52757\tvalid_1's l1: 2.55454\n",
      "[800]\ttraining's l1: 2.52206\tvalid_1's l1: 2.55345\n",
      "[900]\ttraining's l1: 2.51718\tvalid_1's l1: 2.55256\n"
     ]
    },
    {
     "name": "stderr",
     "output_type": "stream",
     "text": [
      "\u001b[32m[I 2021-07-29 23:28:02,852]\u001b[0m Trial 17 finished with value: -2.5511961275357 and parameters: {'max_depth': 5, 'min_child_weight': 15, 'subsample': 0.6, 'colsample_bytree': 0.8, 'reg_lambda': 0.007861234305540435, 'reg_alpha': 0.45029546886356336, 'feature_fraction': 0.3913099556981032, 'bagging_fraction': 0.9019164300935317, 'bagging_freq': 4, 'num_leaves': 330, 'min_child_samples': 71}. Best is trial 13 with value: -2.546705280284967.\u001b[0m\n"
     ]
    },
    {
     "name": "stdout",
     "output_type": "stream",
     "text": [
      "Early stopping, best iteration is:\n",
      "[854]\ttraining's l1: 2.51917\tvalid_1's l1: 2.5521\n",
      "[LightGBM] [Warning] feature_fraction is set=0.6871379018758151, colsample_bytree=0.9 will be ignored. Current value: feature_fraction=0.6871379018758151\n",
      "[LightGBM] [Warning] bagging_fraction is set=0.7307345508295764, subsample=0.8 will be ignored. Current value: bagging_fraction=0.7307345508295764\n",
      "[LightGBM] [Warning] bagging_freq is set=7, subsample_freq=0 will be ignored. Current value: bagging_freq=7\n",
      "Training until validation scores don't improve for 100 rounds\n",
      "[100]\ttraining's l1: 2.87353\tvalid_1's l1: 2.84741\n",
      "[200]\ttraining's l1: 2.8366\tvalid_1's l1: 2.80251\n",
      "[300]\ttraining's l1: 2.82724\tvalid_1's l1: 2.7912\n",
      "[400]\ttraining's l1: 2.82184\tvalid_1's l1: 2.78662\n",
      "[500]\ttraining's l1: 2.81886\tvalid_1's l1: 2.78442\n",
      "[600]\ttraining's l1: 2.81397\tvalid_1's l1: 2.78025\n",
      "[700]\ttraining's l1: 2.81054\tvalid_1's l1: 2.77839\n",
      "[800]\ttraining's l1: 2.80811\tvalid_1's l1: 2.77889\n",
      "[900]\ttraining's l1: 2.80595\tvalid_1's l1: 2.77717\n",
      "[1000]\ttraining's l1: 2.80367\tvalid_1's l1: 2.77586\n",
      "[1100]\ttraining's l1: 2.80244\tvalid_1's l1: 2.77405\n",
      "[1200]\ttraining's l1: 2.80153\tvalid_1's l1: 2.77316\n",
      "[1300]\ttraining's l1: 2.80035\tvalid_1's l1: 2.77252\n"
     ]
    },
    {
     "name": "stderr",
     "output_type": "stream",
     "text": [
      "\u001b[32m[I 2021-07-29 23:28:08,530]\u001b[0m Trial 18 finished with value: -2.7711642348564367 and parameters: {'max_depth': 1, 'min_child_weight': 10, 'subsample': 0.8, 'colsample_bytree': 0.9, 'reg_lambda': 0.01567184171580147, 'reg_alpha': 0.950693590025318, 'feature_fraction': 0.6871379018758151, 'bagging_fraction': 0.7307345508295764, 'bagging_freq': 7, 'num_leaves': 413, 'min_child_samples': 39}. Best is trial 13 with value: -2.546705280284967.\u001b[0m\n"
     ]
    },
    {
     "name": "stdout",
     "output_type": "stream",
     "text": [
      "Early stopping, best iteration is:\n",
      "[1254]\ttraining's l1: 2.80082\tvalid_1's l1: 2.7722\n",
      "[LightGBM] [Warning] feature_fraction is set=0.5048021740135638, colsample_bytree=0.6 will be ignored. Current value: feature_fraction=0.5048021740135638\n",
      "[LightGBM] [Warning] bagging_fraction is set=0.9397777305398143, subsample=0.5 will be ignored. Current value: bagging_fraction=0.9397777305398143\n",
      "[LightGBM] [Warning] bagging_freq is set=8, subsample_freq=0 will be ignored. Current value: bagging_freq=8\n",
      "Training until validation scores don't improve for 100 rounds\n",
      "[100]\ttraining's l1: 2.62325\tvalid_1's l1: 2.61305\n",
      "[200]\ttraining's l1: 2.60973\tvalid_1's l1: 2.60096\n",
      "[300]\ttraining's l1: 2.60333\tvalid_1's l1: 2.59641\n",
      "[400]\ttraining's l1: 2.6003\tvalid_1's l1: 2.59549\n"
     ]
    },
    {
     "name": "stderr",
     "output_type": "stream",
     "text": [
      "\u001b[32m[I 2021-07-29 23:28:14,016]\u001b[0m Trial 19 finished with value: -2.594650824395693 and parameters: {'max_depth': 13, 'min_child_weight': 1, 'subsample': 0.5, 'colsample_bytree': 0.6, 'reg_lambda': 0.0010253671615731257, 'reg_alpha': 222.14293699699058, 'feature_fraction': 0.5048021740135638, 'bagging_fraction': 0.9397777305398143, 'bagging_freq': 8, 'num_leaves': 596, 'min_child_samples': 100}. Best is trial 13 with value: -2.546705280284967.\u001b[0m\n"
     ]
    },
    {
     "name": "stdout",
     "output_type": "stream",
     "text": [
      "Early stopping, best iteration is:\n",
      "[362]\ttraining's l1: 2.60032\tvalid_1's l1: 2.59544\n",
      "[LightGBM] [Warning] feature_fraction is set=0.3290037060841685, colsample_bytree=0.8 will be ignored. Current value: feature_fraction=0.3290037060841685\n",
      "[LightGBM] [Warning] bagging_fraction is set=0.752681362558466, subsample=0.8 will be ignored. Current value: bagging_fraction=0.752681362558466\n",
      "[LightGBM] [Warning] bagging_freq is set=3, subsample_freq=0 will be ignored. Current value: bagging_freq=3\n",
      "Training until validation scores don't improve for 100 rounds\n",
      "[100]\ttraining's l1: 2.51354\tvalid_1's l1: 2.58118\n",
      "[200]\ttraining's l1: 2.45595\tvalid_1's l1: 2.56784\n",
      "[300]\ttraining's l1: 2.42977\tvalid_1's l1: 2.56641\n",
      "[400]\ttraining's l1: 2.40619\tvalid_1's l1: 2.56711\n"
     ]
    },
    {
     "name": "stderr",
     "output_type": "stream",
     "text": [
      "\u001b[32m[I 2021-07-29 23:28:20,418]\u001b[0m Trial 20 finished with value: -2.564437254600274 and parameters: {'max_depth': 9, 'min_child_weight': 7, 'subsample': 0.8, 'colsample_bytree': 0.8, 'reg_lambda': 0.0048570989707237, 'reg_alpha': 10.287806950736291, 'feature_fraction': 0.3290037060841685, 'bagging_fraction': 0.752681362558466, 'bagging_freq': 3, 'num_leaves': 212, 'min_child_samples': 25}. Best is trial 13 with value: -2.546705280284967.\u001b[0m\n"
     ]
    },
    {
     "name": "stdout",
     "output_type": "stream",
     "text": [
      "Early stopping, best iteration is:\n",
      "[326]\ttraining's l1: 2.42254\tvalid_1's l1: 2.56551\n",
      "[LightGBM] [Warning] feature_fraction is set=0.40711629470212957, colsample_bytree=0.8 will be ignored. Current value: feature_fraction=0.40711629470212957\n",
      "[LightGBM] [Warning] bagging_fraction is set=0.919403027199829, subsample=0.6 will be ignored. Current value: bagging_fraction=0.919403027199829\n",
      "[LightGBM] [Warning] bagging_freq is set=4, subsample_freq=0 will be ignored. Current value: bagging_freq=4\n",
      "Training until validation scores don't improve for 100 rounds\n",
      "[100]\ttraining's l1: 2.59477\tvalid_1's l1: 2.5854\n",
      "[200]\ttraining's l1: 2.57134\tvalid_1's l1: 2.57091\n",
      "[300]\ttraining's l1: 2.55779\tvalid_1's l1: 2.56539\n",
      "[400]\ttraining's l1: 2.54651\tvalid_1's l1: 2.5592\n",
      "[500]\ttraining's l1: 2.54027\tvalid_1's l1: 2.55832\n",
      "[600]\ttraining's l1: 2.53422\tvalid_1's l1: 2.55661\n",
      "[700]\ttraining's l1: 2.52639\tvalid_1's l1: 2.5545\n",
      "[800]\ttraining's l1: 2.5203\tvalid_1's l1: 2.55318\n",
      "[900]\ttraining's l1: 2.51507\tvalid_1's l1: 2.55235\n",
      "[1000]\ttraining's l1: 2.51172\tvalid_1's l1: 2.55177\n",
      "[1100]\ttraining's l1: 2.50691\tvalid_1's l1: 2.55114\n",
      "[1200]\ttraining's l1: 2.50269\tvalid_1's l1: 2.54983\n",
      "[1300]\ttraining's l1: 2.50016\tvalid_1's l1: 2.55002\n",
      "Early stopping, best iteration is:\n",
      "[1234]\ttraining's l1: 2.50213\tvalid_1's l1: 2.54953\n"
     ]
    },
    {
     "name": "stderr",
     "output_type": "stream",
     "text": [
      "\u001b[32m[I 2021-07-29 23:28:32,758]\u001b[0m Trial 21 finished with value: -2.548554727626037 and parameters: {'max_depth': 5, 'min_child_weight': 15, 'subsample': 0.6, 'colsample_bytree': 0.8, 'reg_lambda': 0.01738887752911524, 'reg_alpha': 0.4308262351543259, 'feature_fraction': 0.40711629470212957, 'bagging_fraction': 0.919403027199829, 'bagging_freq': 4, 'num_leaves': 383, 'min_child_samples': 72}. Best is trial 13 with value: -2.546705280284967.\u001b[0m\n"
     ]
    },
    {
     "name": "stdout",
     "output_type": "stream",
     "text": [
      "[LightGBM] [Warning] feature_fraction is set=0.44001708098736003, colsample_bytree=0.8 will be ignored. Current value: feature_fraction=0.44001708098736003\n",
      "[LightGBM] [Warning] bagging_fraction is set=0.9386497228016738, subsample=0.6 will be ignored. Current value: bagging_fraction=0.9386497228016738\n",
      "[LightGBM] [Warning] bagging_freq is set=8, subsample_freq=0 will be ignored. Current value: bagging_freq=8\n",
      "Training until validation scores don't improve for 100 rounds\n",
      "[100]\ttraining's l1: 2.68292\tvalid_1's l1: 2.64862\n",
      "[200]\ttraining's l1: 2.64073\tvalid_1's l1: 2.61116\n",
      "[300]\ttraining's l1: 2.62261\tvalid_1's l1: 2.59701\n",
      "[400]\ttraining's l1: 2.61497\tvalid_1's l1: 2.59066\n",
      "[500]\ttraining's l1: 2.60642\tvalid_1's l1: 2.58425\n",
      "[600]\ttraining's l1: 2.60133\tvalid_1's l1: 2.58127\n",
      "[700]\ttraining's l1: 2.59585\tvalid_1's l1: 2.57728\n",
      "[800]\ttraining's l1: 2.59233\tvalid_1's l1: 2.57547\n",
      "[900]\ttraining's l1: 2.58959\tvalid_1's l1: 2.57395\n",
      "[1000]\ttraining's l1: 2.58743\tvalid_1's l1: 2.57346\n",
      "[1100]\ttraining's l1: 2.58603\tvalid_1's l1: 2.57347\n",
      "[1200]\ttraining's l1: 2.583\tvalid_1's l1: 2.57168\n",
      "[1300]\ttraining's l1: 2.58033\tvalid_1's l1: 2.56952\n",
      "[1400]\ttraining's l1: 2.57903\tvalid_1's l1: 2.56971\n",
      "[1500]\ttraining's l1: 2.57641\tvalid_1's l1: 2.56793\n",
      "[1600]\ttraining's l1: 2.57436\tvalid_1's l1: 2.56715\n",
      "[1700]\ttraining's l1: 2.57244\tvalid_1's l1: 2.56678\n",
      "[1800]\ttraining's l1: 2.57032\tvalid_1's l1: 2.5668\n",
      "Early stopping, best iteration is:\n",
      "[1708]\ttraining's l1: 2.57216\tvalid_1's l1: 2.56643\n"
     ]
    },
    {
     "name": "stderr",
     "output_type": "stream",
     "text": [
      "\u001b[32m[I 2021-07-29 23:28:47,327]\u001b[0m Trial 22 finished with value: -2.5653411161471666 and parameters: {'max_depth': 3, 'min_child_weight': 14, 'subsample': 0.6, 'colsample_bytree': 0.8, 'reg_lambda': 0.044588090493678775, 'reg_alpha': 0.19470426437158425, 'feature_fraction': 0.44001708098736003, 'bagging_fraction': 0.9386497228016738, 'bagging_freq': 8, 'num_leaves': 430, 'min_child_samples': 81}. Best is trial 13 with value: -2.546705280284967.\u001b[0m\n"
     ]
    },
    {
     "name": "stdout",
     "output_type": "stream",
     "text": [
      "[LightGBM] [Warning] feature_fraction is set=0.30825562198522105, colsample_bytree=0.7 will be ignored. Current value: feature_fraction=0.30825562198522105\n",
      "[LightGBM] [Warning] bagging_fraction is set=0.9816226794758971, subsample=0.6 will be ignored. Current value: bagging_fraction=0.9816226794758971\n",
      "[LightGBM] [Warning] bagging_freq is set=3, subsample_freq=0 will be ignored. Current value: bagging_freq=3\n",
      "Training until validation scores don't improve for 100 rounds\n",
      "[100]\ttraining's l1: 2.5616\tvalid_1's l1: 2.57189\n",
      "[200]\ttraining's l1: 2.53529\tvalid_1's l1: 2.55757\n",
      "[300]\ttraining's l1: 2.52353\tvalid_1's l1: 2.555\n",
      "[400]\ttraining's l1: 2.51068\tvalid_1's l1: 2.55226\n",
      "[500]\ttraining's l1: 2.50418\tvalid_1's l1: 2.55019\n",
      "[600]\ttraining's l1: 2.49734\tvalid_1's l1: 2.5506\n",
      "Early stopping, best iteration is:\n",
      "[508]\ttraining's l1: 2.50314\tvalid_1's l1: 2.5499\n"
     ]
    },
    {
     "name": "stderr",
     "output_type": "stream",
     "text": [
      "\u001b[32m[I 2021-07-29 23:28:53,727]\u001b[0m Trial 23 finished with value: -2.549261217873203 and parameters: {'max_depth': 6, 'min_child_weight': 11, 'subsample': 0.6, 'colsample_bytree': 0.7, 'reg_lambda': 0.0036925034780140326, 'reg_alpha': 1.3053540325806277, 'feature_fraction': 0.30825562198522105, 'bagging_fraction': 0.9816226794758971, 'bagging_freq': 3, 'num_leaves': 222, 'min_child_samples': 56}. Best is trial 13 with value: -2.546705280284967.\u001b[0m\n"
     ]
    },
    {
     "name": "stdout",
     "output_type": "stream",
     "text": [
      "[LightGBM] [Warning] feature_fraction is set=0.34698835247639215, colsample_bytree=0.7 will be ignored. Current value: feature_fraction=0.34698835247639215\n",
      "[LightGBM] [Warning] bagging_fraction is set=0.8140015434302608, subsample=0.5 will be ignored. Current value: bagging_fraction=0.8140015434302608\n",
      "[LightGBM] [Warning] bagging_freq is set=3, subsample_freq=0 will be ignored. Current value: bagging_freq=3\n",
      "Training until validation scores don't improve for 100 rounds\n",
      "[100]\ttraining's l1: 2.56654\tvalid_1's l1: 2.57608\n",
      "[200]\ttraining's l1: 2.54152\tvalid_1's l1: 2.56498\n",
      "[300]\ttraining's l1: 2.52885\tvalid_1's l1: 2.56128\n",
      "[400]\ttraining's l1: 2.51876\tvalid_1's l1: 2.55813\n",
      "[500]\ttraining's l1: 2.51081\tvalid_1's l1: 2.55402\n",
      "[600]\ttraining's l1: 2.50171\tvalid_1's l1: 2.55213\n",
      "[700]\ttraining's l1: 2.49493\tvalid_1's l1: 2.55117\n",
      "[800]\ttraining's l1: 2.48943\tvalid_1's l1: 2.55063\n",
      "[900]\ttraining's l1: 2.48263\tvalid_1's l1: 2.54955\n",
      "[1000]\ttraining's l1: 2.47801\tvalid_1's l1: 2.54898\n",
      "Early stopping, best iteration is:\n",
      "[955]\ttraining's l1: 2.4799\tvalid_1's l1: 2.5487\n"
     ]
    },
    {
     "name": "stderr",
     "output_type": "stream",
     "text": [
      "\u001b[32m[I 2021-07-29 23:29:03,339]\u001b[0m Trial 24 finished with value: -2.5475487604394362 and parameters: {'max_depth': 6, 'min_child_weight': 11, 'subsample': 0.5, 'colsample_bytree': 0.7, 'reg_lambda': 0.050596319009598906, 'reg_alpha': 0.6947013171400775, 'feature_fraction': 0.34698835247639215, 'bagging_fraction': 0.8140015434302608, 'bagging_freq': 3, 'num_leaves': 248, 'min_child_samples': 59}. Best is trial 13 with value: -2.546705280284967.\u001b[0m\n"
     ]
    },
    {
     "name": "stdout",
     "output_type": "stream",
     "text": [
      "[LightGBM] [Warning] feature_fraction is set=0.2884894889401273, colsample_bytree=0.7 will be ignored. Current value: feature_fraction=0.2884894889401273\n",
      "[LightGBM] [Warning] bagging_fraction is set=0.807859784857729, subsample=0.5 will be ignored. Current value: bagging_fraction=0.807859784857729\n",
      "[LightGBM] [Warning] bagging_freq is set=3, subsample_freq=0 will be ignored. Current value: bagging_freq=3\n",
      "Training until validation scores don't improve for 100 rounds\n",
      "[100]\ttraining's l1: 2.69028\tvalid_1's l1: 2.67071\n",
      "[200]\ttraining's l1: 2.64507\tvalid_1's l1: 2.62036\n",
      "[300]\ttraining's l1: 2.62364\tvalid_1's l1: 2.59862\n",
      "[400]\ttraining's l1: 2.61404\tvalid_1's l1: 2.58998\n",
      "[500]\ttraining's l1: 2.60704\tvalid_1's l1: 2.58495\n",
      "[600]\ttraining's l1: 2.60205\tvalid_1's l1: 2.57917\n",
      "[700]\ttraining's l1: 2.59864\tvalid_1's l1: 2.57732\n",
      "[800]\ttraining's l1: 2.5918\tvalid_1's l1: 2.57248\n",
      "[900]\ttraining's l1: 2.58821\tvalid_1's l1: 2.56928\n",
      "[1000]\ttraining's l1: 2.58548\tvalid_1's l1: 2.56793\n",
      "[1100]\ttraining's l1: 2.58237\tvalid_1's l1: 2.56629\n",
      "[1200]\ttraining's l1: 2.57886\tvalid_1's l1: 2.56226\n",
      "[1300]\ttraining's l1: 2.57633\tvalid_1's l1: 2.56114\n",
      "[1400]\ttraining's l1: 2.57408\tvalid_1's l1: 2.55969\n",
      "[1500]\ttraining's l1: 2.572\tvalid_1's l1: 2.55947\n",
      "Early stopping, best iteration is:\n",
      "[1497]\ttraining's l1: 2.57216\tvalid_1's l1: 2.55945\n"
     ]
    },
    {
     "name": "stderr",
     "output_type": "stream",
     "text": [
      "\u001b[32m[I 2021-07-29 23:29:14,384]\u001b[0m Trial 25 finished with value: -2.5581745708331294 and parameters: {'max_depth': 3, 'min_child_weight': 18, 'subsample': 0.5, 'colsample_bytree': 0.7, 'reg_lambda': 0.1559440119911318, 'reg_alpha': 0.5354094349036767, 'feature_fraction': 0.2884894889401273, 'bagging_fraction': 0.807859784857729, 'bagging_freq': 3, 'num_leaves': 277, 'min_child_samples': 67}. Best is trial 13 with value: -2.546705280284967.\u001b[0m\n"
     ]
    },
    {
     "name": "stdout",
     "output_type": "stream",
     "text": [
      "[LightGBM] [Warning] feature_fraction is set=0.3859814707730262, colsample_bytree=0.6 will be ignored. Current value: feature_fraction=0.3859814707730262\n",
      "[LightGBM] [Warning] bagging_fraction is set=0.6833050657383771, subsample=0.5 will be ignored. Current value: bagging_fraction=0.6833050657383771\n",
      "[LightGBM] [Warning] bagging_freq is set=1, subsample_freq=0 will be ignored. Current value: bagging_freq=1\n",
      "Training until validation scores don't improve for 100 rounds\n",
      "[100]\ttraining's l1: 2.5212\tvalid_1's l1: 2.58032\n",
      "[200]\ttraining's l1: 2.48033\tvalid_1's l1: 2.57169\n",
      "[300]\ttraining's l1: 2.45958\tvalid_1's l1: 2.56991\n"
     ]
    },
    {
     "name": "stderr",
     "output_type": "stream",
     "text": [
      "\u001b[32m[I 2021-07-29 23:29:20,513]\u001b[0m Trial 26 finished with value: -2.568540902030883 and parameters: {'max_depth': 10, 'min_child_weight': 15, 'subsample': 0.5, 'colsample_bytree': 0.6, 'reg_lambda': 3.0335505252026356, 'reg_alpha': 7.440803732029938, 'feature_fraction': 0.3859814707730262, 'bagging_fraction': 0.6833050657383771, 'bagging_freq': 1, 'num_leaves': 373, 'min_child_samples': 89}. Best is trial 13 with value: -2.546705280284967.\u001b[0m\n"
     ]
    },
    {
     "name": "stdout",
     "output_type": "stream",
     "text": [
      "Early stopping, best iteration is:\n",
      "[294]\ttraining's l1: 2.46055\tvalid_1's l1: 2.56987\n",
      "[LightGBM] [Warning] feature_fraction is set=0.39899284603133495, colsample_bytree=0.7 will be ignored. Current value: feature_fraction=0.39899284603133495\n",
      "[LightGBM] [Warning] bagging_fraction is set=0.9082820240551266, subsample=0.5 will be ignored. Current value: bagging_fraction=0.9082820240551266\n",
      "[LightGBM] [Warning] bagging_freq is set=4, subsample_freq=0 will be ignored. Current value: bagging_freq=4\n",
      "Training until validation scores don't improve for 100 rounds\n",
      "[100]\ttraining's l1: 2.59475\tvalid_1's l1: 2.58876\n",
      "[200]\ttraining's l1: 2.56653\tvalid_1's l1: 2.56699\n",
      "[300]\ttraining's l1: 2.55525\tvalid_1's l1: 2.56284\n",
      "[400]\ttraining's l1: 2.54701\tvalid_1's l1: 2.56021\n",
      "[500]\ttraining's l1: 2.54024\tvalid_1's l1: 2.55776\n",
      "[600]\ttraining's l1: 2.534\tvalid_1's l1: 2.5561\n",
      "[700]\ttraining's l1: 2.52907\tvalid_1's l1: 2.55445\n",
      "[800]\ttraining's l1: 2.52401\tvalid_1's l1: 2.55156\n",
      "[900]\ttraining's l1: 2.51829\tvalid_1's l1: 2.55054\n",
      "[1000]\ttraining's l1: 2.51392\tvalid_1's l1: 2.54917\n",
      "[1100]\ttraining's l1: 2.51099\tvalid_1's l1: 2.54932\n",
      "Early stopping, best iteration is:\n",
      "[1034]\ttraining's l1: 2.51315\tvalid_1's l1: 2.54904\n"
     ]
    },
    {
     "name": "stderr",
     "output_type": "stream",
     "text": [
      "\u001b[32m[I 2021-07-29 23:29:30,896]\u001b[0m Trial 27 finished with value: -2.548071904110753 and parameters: {'max_depth': 5, 'min_child_weight': 11, 'subsample': 0.5, 'colsample_bytree': 0.7, 'reg_lambda': 0.025593554994007336, 'reg_alpha': 0.21913114416585636, 'feature_fraction': 0.39899284603133495, 'bagging_fraction': 0.9082820240551266, 'bagging_freq': 4, 'num_leaves': 175, 'min_child_samples': 53}. Best is trial 13 with value: -2.546705280284967.\u001b[0m\n"
     ]
    },
    {
     "name": "stdout",
     "output_type": "stream",
     "text": [
      "[LightGBM] [Warning] feature_fraction is set=0.20115526942048675, colsample_bytree=0.7 will be ignored. Current value: feature_fraction=0.20115526942048675\n",
      "[LightGBM] [Warning] bagging_fraction is set=0.8468038962128315, subsample=0.5 will be ignored. Current value: bagging_fraction=0.8468038962128315\n",
      "[LightGBM] [Warning] bagging_freq is set=8, subsample_freq=0 will be ignored. Current value: bagging_freq=8\n",
      "Training until validation scores don't improve for 100 rounds\n",
      "[100]\ttraining's l1: 2.55512\tvalid_1's l1: 2.58858\n",
      "[200]\ttraining's l1: 2.51474\tvalid_1's l1: 2.57128\n",
      "[300]\ttraining's l1: 2.49649\tvalid_1's l1: 2.56634\n",
      "[400]\ttraining's l1: 2.48571\tvalid_1's l1: 2.56278\n",
      "[500]\ttraining's l1: 2.47428\tvalid_1's l1: 2.56085\n",
      "[600]\ttraining's l1: 2.46694\tvalid_1's l1: 2.56002\n",
      "[700]\ttraining's l1: 2.46002\tvalid_1's l1: 2.56011\n",
      "Early stopping, best iteration is:\n",
      "[659]\ttraining's l1: 2.46251\tvalid_1's l1: 2.55985\n"
     ]
    },
    {
     "name": "stderr",
     "output_type": "stream",
     "text": [
      "\u001b[32m[I 2021-07-29 23:29:37,337]\u001b[0m Trial 28 finished with value: -2.5587607929891685 and parameters: {'max_depth': 7, 'min_child_weight': 9, 'subsample': 0.5, 'colsample_bytree': 0.7, 'reg_lambda': 0.047919955183414534, 'reg_alpha': 0.15280604109550067, 'feature_fraction': 0.20115526942048675, 'bagging_fraction': 0.8468038962128315, 'bagging_freq': 8, 'num_leaves': 149, 'min_child_samples': 52}. Best is trial 13 with value: -2.546705280284967.\u001b[0m\n"
     ]
    },
    {
     "name": "stdout",
     "output_type": "stream",
     "text": [
      "[LightGBM] [Warning] feature_fraction is set=0.5300270867800271, colsample_bytree=0.6 will be ignored. Current value: feature_fraction=0.5300270867800271\n",
      "[LightGBM] [Warning] bagging_fraction is set=0.776977294546498, subsample=0.5 will be ignored. Current value: bagging_fraction=0.776977294546498\n",
      "[LightGBM] [Warning] bagging_freq is set=6, subsample_freq=0 will be ignored. Current value: bagging_freq=6\n",
      "Training until validation scores don't improve for 100 rounds\n",
      "[100]\ttraining's l1: 2.87248\tvalid_1's l1: 2.84689\n",
      "[200]\ttraining's l1: 2.83815\tvalid_1's l1: 2.80501\n",
      "[300]\ttraining's l1: 2.82799\tvalid_1's l1: 2.79293\n",
      "[400]\ttraining's l1: 2.82261\tvalid_1's l1: 2.78659\n",
      "[500]\ttraining's l1: 2.81925\tvalid_1's l1: 2.78403\n",
      "[600]\ttraining's l1: 2.81656\tvalid_1's l1: 2.78294\n",
      "[700]\ttraining's l1: 2.81392\tvalid_1's l1: 2.78126\n",
      "[800]\ttraining's l1: 2.81081\tvalid_1's l1: 2.77824\n",
      "[900]\ttraining's l1: 2.8089\tvalid_1's l1: 2.77771\n",
      "[1000]\ttraining's l1: 2.80771\tvalid_1's l1: 2.77619\n",
      "[1100]\ttraining's l1: 2.80651\tvalid_1's l1: 2.77524\n",
      "[1200]\ttraining's l1: 2.80491\tvalid_1's l1: 2.77403\n",
      "[1300]\ttraining's l1: 2.80378\tvalid_1's l1: 2.77206\n"
     ]
    },
    {
     "name": "stderr",
     "output_type": "stream",
     "text": [
      "\u001b[32m[I 2021-07-29 23:29:47,260]\u001b[0m Trial 29 finished with value: -2.770747007407716 and parameters: {'max_depth': 1, 'min_child_weight': 12, 'subsample': 0.5, 'colsample_bytree': 0.6, 'reg_lambda': 2.183185669722914, 'reg_alpha': 0.01039146757014415, 'feature_fraction': 0.5300270867800271, 'bagging_fraction': 0.776977294546498, 'bagging_freq': 6, 'num_leaves': 122, 'min_child_samples': 50}. Best is trial 13 with value: -2.546705280284967.\u001b[0m\n"
     ]
    },
    {
     "name": "stdout",
     "output_type": "stream",
     "text": [
      "[1400]\ttraining's l1: 2.80111\tvalid_1's l1: 2.77235\n",
      "Early stopping, best iteration is:\n",
      "[1302]\ttraining's l1: 2.80375\tvalid_1's l1: 2.77191\n",
      "[LightGBM] [Warning] feature_fraction is set=0.6589095583959024, colsample_bytree=0.7 will be ignored. Current value: feature_fraction=0.6589095583959024\n",
      "[LightGBM] [Warning] bagging_fraction is set=0.5949462264048788, subsample=0.5 will be ignored. Current value: bagging_fraction=0.5949462264048788\n",
      "[LightGBM] [Warning] bagging_freq is set=2, subsample_freq=0 will be ignored. Current value: bagging_freq=2\n",
      "Training until validation scores don't improve for 100 rounds\n",
      "[100]\ttraining's l1: 2.75095\tvalid_1's l1: 2.71452\n",
      "[200]\ttraining's l1: 2.75005\tvalid_1's l1: 2.71282\n"
     ]
    },
    {
     "name": "stderr",
     "output_type": "stream",
     "text": [
      "\u001b[32m[I 2021-07-29 23:29:48,631]\u001b[0m Trial 30 finished with value: -2.7124892427883625 and parameters: {'max_depth': 5, 'min_child_weight': 11, 'subsample': 0.5, 'colsample_bytree': 0.7, 'reg_lambda': 0.18060173143228025, 'reg_alpha': 912.1397107226561, 'feature_fraction': 0.6589095583959024, 'bagging_fraction': 0.5949462264048788, 'bagging_freq': 2, 'num_leaves': 271, 'min_child_samples': 59}. Best is trial 13 with value: -2.546705280284967.\u001b[0m\n"
     ]
    },
    {
     "name": "stdout",
     "output_type": "stream",
     "text": [
      "Early stopping, best iteration is:\n",
      "[109]\ttraining's l1: 2.75005\tvalid_1's l1: 2.71282\n",
      "[LightGBM] [Warning] feature_fraction is set=0.3977740378566512, colsample_bytree=0.8 will be ignored. Current value: feature_fraction=0.3977740378566512\n",
      "[LightGBM] [Warning] bagging_fraction is set=0.9218882562482666, subsample=0.6 will be ignored. Current value: bagging_fraction=0.9218882562482666\n",
      "[LightGBM] [Warning] bagging_freq is set=4, subsample_freq=0 will be ignored. Current value: bagging_freq=4\n",
      "Training until validation scores don't improve for 100 rounds\n",
      "[100]\ttraining's l1: 2.59986\tvalid_1's l1: 2.5921\n",
      "[200]\ttraining's l1: 2.56946\tvalid_1's l1: 2.57283\n",
      "[300]\ttraining's l1: 2.5562\tvalid_1's l1: 2.56599\n",
      "[400]\ttraining's l1: 2.5482\tvalid_1's l1: 2.56381\n",
      "[500]\ttraining's l1: 2.54218\tvalid_1's l1: 2.56181\n",
      "[600]\ttraining's l1: 2.53461\tvalid_1's l1: 2.56056\n",
      "[700]\ttraining's l1: 2.52947\tvalid_1's l1: 2.55951\n",
      "[800]\ttraining's l1: 2.52478\tvalid_1's l1: 2.55794\n",
      "[900]\ttraining's l1: 2.51928\tvalid_1's l1: 2.55703\n",
      "[1000]\ttraining's l1: 2.51572\tvalid_1's l1: 2.55674\n",
      "[1100]\ttraining's l1: 2.51176\tvalid_1's l1: 2.55585\n",
      "[1200]\ttraining's l1: 2.5076\tvalid_1's l1: 2.55454\n",
      "[1300]\ttraining's l1: 2.50341\tvalid_1's l1: 2.55316\n",
      "[1400]\ttraining's l1: 2.50081\tvalid_1's l1: 2.55332\n",
      "[1500]\ttraining's l1: 2.49734\tvalid_1's l1: 2.55223\n",
      "[1600]\ttraining's l1: 2.49505\tvalid_1's l1: 2.55202\n",
      "[1700]\ttraining's l1: 2.49289\tvalid_1's l1: 2.55172\n",
      "[1800]\ttraining's l1: 2.49021\tvalid_1's l1: 2.55195\n",
      "Early stopping, best iteration is:\n",
      "[1748]\ttraining's l1: 2.49184\tvalid_1's l1: 2.55147\n"
     ]
    },
    {
     "name": "stderr",
     "output_type": "stream",
     "text": [
      "\u001b[32m[I 2021-07-29 23:30:05,214]\u001b[0m Trial 31 finished with value: -2.5503035067105144 and parameters: {'max_depth': 5, 'min_child_weight': 13, 'subsample': 0.6, 'colsample_bytree': 0.8, 'reg_lambda': 0.021197883327291674, 'reg_alpha': 0.2817662590869959, 'feature_fraction': 0.3977740378566512, 'bagging_fraction': 0.9218882562482666, 'bagging_freq': 4, 'num_leaves': 184, 'min_child_samples': 71}. Best is trial 13 with value: -2.546705280284967.\u001b[0m\n"
     ]
    },
    {
     "name": "stdout",
     "output_type": "stream",
     "text": [
      "[LightGBM] [Warning] feature_fraction is set=0.3026878936411756, colsample_bytree=0.7 will be ignored. Current value: feature_fraction=0.3026878936411756\n",
      "[LightGBM] [Warning] bagging_fraction is set=0.8852933364795935, subsample=0.5 will be ignored. Current value: bagging_fraction=0.8852933364795935\n",
      "[LightGBM] [Warning] bagging_freq is set=4, subsample_freq=0 will be ignored. Current value: bagging_freq=4\n",
      "Training until validation scores don't improve for 100 rounds\n",
      "[100]\ttraining's l1: 2.63887\tvalid_1's l1: 2.62204\n",
      "[200]\ttraining's l1: 2.60743\tvalid_1's l1: 2.5962\n",
      "[300]\ttraining's l1: 2.59483\tvalid_1's l1: 2.58496\n",
      "[400]\ttraining's l1: 2.58437\tvalid_1's l1: 2.57717\n",
      "[500]\ttraining's l1: 2.57653\tvalid_1's l1: 2.57305\n",
      "[600]\ttraining's l1: 2.56984\tvalid_1's l1: 2.56962\n",
      "[700]\ttraining's l1: 2.56554\tvalid_1's l1: 2.56747\n",
      "[800]\ttraining's l1: 2.56094\tvalid_1's l1: 2.5665\n",
      "[900]\ttraining's l1: 2.55671\tvalid_1's l1: 2.56254\n",
      "[1000]\ttraining's l1: 2.55379\tvalid_1's l1: 2.56107\n",
      "[1100]\ttraining's l1: 2.55096\tvalid_1's l1: 2.56061\n",
      "[1200]\ttraining's l1: 2.54856\tvalid_1's l1: 2.55919\n",
      "[1300]\ttraining's l1: 2.54623\tvalid_1's l1: 2.55859\n",
      "[1400]\ttraining's l1: 2.54357\tvalid_1's l1: 2.55725\n",
      "[1500]\ttraining's l1: 2.54107\tvalid_1's l1: 2.55665\n",
      "[1600]\ttraining's l1: 2.53859\tvalid_1's l1: 2.55575\n",
      "[1700]\ttraining's l1: 2.53568\tvalid_1's l1: 2.55456\n",
      "[1800]\ttraining's l1: 2.53296\tvalid_1's l1: 2.55424\n",
      "[1900]\ttraining's l1: 2.53057\tvalid_1's l1: 2.55327\n",
      "[2000]\ttraining's l1: 2.5281\tvalid_1's l1: 2.55263\n",
      "[2100]\ttraining's l1: 2.52612\tvalid_1's l1: 2.55202\n",
      "[2200]\ttraining's l1: 2.52379\tvalid_1's l1: 2.55181\n",
      "Early stopping, best iteration is:\n",
      "[2112]\ttraining's l1: 2.52563\tvalid_1's l1: 2.5515\n"
     ]
    },
    {
     "name": "stderr",
     "output_type": "stream",
     "text": [
      "\u001b[32m[I 2021-07-29 23:30:21,896]\u001b[0m Trial 32 finished with value: -2.550159415146559 and parameters: {'max_depth': 4, 'min_child_weight': 15, 'subsample': 0.5, 'colsample_bytree': 0.7, 'reg_lambda': 0.04002642946582128, 'reg_alpha': 0.5369634659570482, 'feature_fraction': 0.3026878936411756, 'bagging_fraction': 0.8852933364795935, 'bagging_freq': 4, 'num_leaves': 488, 'min_child_samples': 77}. Best is trial 13 with value: -2.546705280284967.\u001b[0m\n"
     ]
    },
    {
     "name": "stdout",
     "output_type": "stream",
     "text": [
      "[LightGBM] [Warning] feature_fraction is set=0.37048229265497207, colsample_bytree=0.8 will be ignored. Current value: feature_fraction=0.37048229265497207\n",
      "[LightGBM] [Warning] bagging_fraction is set=0.9472037419230591, subsample=0.6 will be ignored. Current value: bagging_fraction=0.9472037419230591\n",
      "[LightGBM] [Warning] bagging_freq is set=5, subsample_freq=0 will be ignored. Current value: bagging_freq=5\n",
      "Training until validation scores don't improve for 100 rounds\n",
      "[100]\ttraining's l1: 2.5347\tvalid_1's l1: 2.56849\n",
      "[200]\ttraining's l1: 2.50555\tvalid_1's l1: 2.55938\n",
      "[300]\ttraining's l1: 2.48508\tvalid_1's l1: 2.5567\n",
      "[400]\ttraining's l1: 2.47326\tvalid_1's l1: 2.5553\n",
      "[500]\ttraining's l1: 2.46501\tvalid_1's l1: 2.55451\n",
      "[600]\ttraining's l1: 2.45517\tvalid_1's l1: 2.55398\n",
      "[700]\ttraining's l1: 2.44594\tvalid_1's l1: 2.55373\n",
      "Early stopping, best iteration is:\n",
      "[653]\ttraining's l1: 2.44933\tvalid_1's l1: 2.55328\n"
     ]
    },
    {
     "name": "stderr",
     "output_type": "stream",
     "text": [
      "\u001b[32m[I 2021-07-29 23:30:30,437]\u001b[0m Trial 33 finished with value: -2.5524373678216867 and parameters: {'max_depth': 7, 'min_child_weight': 17, 'subsample': 0.6, 'colsample_bytree': 0.8, 'reg_lambda': 0.011162629748589373, 'reg_alpha': 3.1847503304324913, 'feature_fraction': 0.37048229265497207, 'bagging_fraction': 0.9472037419230591, 'bagging_freq': 5, 'num_leaves': 360, 'min_child_samples': 66}. Best is trial 13 with value: -2.546705280284967.\u001b[0m\n"
     ]
    },
    {
     "name": "stdout",
     "output_type": "stream",
     "text": [
      "[LightGBM] [Warning] feature_fraction is set=0.2592393472157023, colsample_bytree=0.7 will be ignored. Current value: feature_fraction=0.2592393472157023\n",
      "[LightGBM] [Warning] bagging_fraction is set=0.8694951053520752, subsample=0.5 will be ignored. Current value: bagging_fraction=0.8694951053520752\n",
      "[LightGBM] [Warning] bagging_freq is set=2, subsample_freq=0 will be ignored. Current value: bagging_freq=2\n",
      "Training until validation scores don't improve for 100 rounds\n",
      "[100]\ttraining's l1: 2.76086\tvalid_1's l1: 2.7352\n",
      "[200]\ttraining's l1: 2.72547\tvalid_1's l1: 2.69243\n",
      "[300]\ttraining's l1: 2.70303\tvalid_1's l1: 2.6713\n",
      "[400]\ttraining's l1: 2.68895\tvalid_1's l1: 2.65577\n",
      "[500]\ttraining's l1: 2.67534\tvalid_1's l1: 2.64017\n",
      "[600]\ttraining's l1: 2.66984\tvalid_1's l1: 2.63566\n",
      "[700]\ttraining's l1: 2.66105\tvalid_1's l1: 2.6269\n",
      "[800]\ttraining's l1: 2.65895\tvalid_1's l1: 2.62564\n",
      "[900]\ttraining's l1: 2.65638\tvalid_1's l1: 2.62378\n",
      "[1000]\ttraining's l1: 2.65447\tvalid_1's l1: 2.62305\n",
      "[1100]\ttraining's l1: 2.65034\tvalid_1's l1: 2.6161\n",
      "[1200]\ttraining's l1: 2.6462\tvalid_1's l1: 2.61213\n",
      "[1300]\ttraining's l1: 2.64264\tvalid_1's l1: 2.608\n",
      "[1400]\ttraining's l1: 2.64061\tvalid_1's l1: 2.60715\n",
      "[1500]\ttraining's l1: 2.63913\tvalid_1's l1: 2.60546\n",
      "[1600]\ttraining's l1: 2.63709\tvalid_1's l1: 2.60235\n",
      "[1700]\ttraining's l1: 2.63395\tvalid_1's l1: 2.59921\n",
      "[1800]\ttraining's l1: 2.63292\tvalid_1's l1: 2.59907\n",
      "[1900]\ttraining's l1: 2.63112\tvalid_1's l1: 2.59693\n",
      "[2000]\ttraining's l1: 2.63\tvalid_1's l1: 2.59661\n",
      "[2100]\ttraining's l1: 2.62858\tvalid_1's l1: 2.59425\n",
      "[2200]\ttraining's l1: 2.62803\tvalid_1's l1: 2.59455\n",
      "Early stopping, best iteration is:\n",
      "[2107]\ttraining's l1: 2.62854\tvalid_1's l1: 2.59423\n"
     ]
    },
    {
     "name": "stderr",
     "output_type": "stream",
     "text": [
      "\u001b[32m[I 2021-07-29 23:30:46,487]\u001b[0m Trial 34 finished with value: -2.5929831411882787 and parameters: {'max_depth': 2, 'min_child_weight': 12, 'subsample': 0.5, 'colsample_bytree': 0.7, 'reg_lambda': 0.08750551528995566, 'reg_alpha': 0.9134180655981091, 'feature_fraction': 0.2592393472157023, 'bagging_fraction': 0.8694951053520752, 'bagging_freq': 2, 'num_leaves': 574, 'min_child_samples': 53}. Best is trial 13 with value: -2.546705280284967.\u001b[0m\n"
     ]
    },
    {
     "name": "stdout",
     "output_type": "stream",
     "text": [
      "[LightGBM] [Warning] feature_fraction is set=0.4720566842606162, colsample_bytree=0.9 will be ignored. Current value: feature_fraction=0.4720566842606162\n",
      "[LightGBM] [Warning] bagging_fraction is set=0.8237692905810505, subsample=0.7 will be ignored. Current value: bagging_fraction=0.8237692905810505\n",
      "[LightGBM] [Warning] bagging_freq is set=9, subsample_freq=0 will be ignored. Current value: bagging_freq=9\n",
      "Training until validation scores don't improve for 100 rounds\n",
      "[100]\ttraining's l1: 2.55995\tvalid_1's l1: 2.56991\n",
      "[200]\ttraining's l1: 2.53709\tvalid_1's l1: 2.55747\n",
      "[300]\ttraining's l1: 2.52018\tvalid_1's l1: 2.55427\n",
      "[400]\ttraining's l1: 2.51135\tvalid_1's l1: 2.55325\n",
      "[500]\ttraining's l1: 2.50116\tvalid_1's l1: 2.55084\n",
      "[600]\ttraining's l1: 2.4891\tvalid_1's l1: 2.54904\n",
      "[700]\ttraining's l1: 2.48274\tvalid_1's l1: 2.54833\n",
      "[800]\ttraining's l1: 2.47795\tvalid_1's l1: 2.5483\n",
      "[900]\ttraining's l1: 2.47145\tvalid_1's l1: 2.54741\n",
      "Early stopping, best iteration is:\n",
      "[831]\ttraining's l1: 2.47527\tvalid_1's l1: 2.54685\n"
     ]
    },
    {
     "name": "stderr",
     "output_type": "stream",
     "text": [
      "\u001b[32m[I 2021-07-29 23:30:55,462]\u001b[0m Trial 35 finished with value: -2.545930047135466 and parameters: {'max_depth': 6, 'min_child_weight': 14, 'subsample': 0.7, 'colsample_bytree': 0.9, 'reg_lambda': 0.021183742634950133, 'reg_alpha': 0.1353389220570258, 'feature_fraction': 0.4720566842606162, 'bagging_fraction': 0.8237692905810505, 'bagging_freq': 9, 'num_leaves': 244, 'min_child_samples': 38}. Best is trial 35 with value: -2.545930047135466.\u001b[0m\n"
     ]
    },
    {
     "name": "stdout",
     "output_type": "stream",
     "text": [
      "[LightGBM] [Warning] feature_fraction is set=0.5559525620839152, colsample_bytree=0.9 will be ignored. Current value: feature_fraction=0.5559525620839152\n",
      "[LightGBM] [Warning] bagging_fraction is set=0.7152981425124973, subsample=0.7 will be ignored. Current value: bagging_fraction=0.7152981425124973\n",
      "[LightGBM] [Warning] bagging_freq is set=9, subsample_freq=0 will be ignored. Current value: bagging_freq=9\n",
      "Training until validation scores don't improve for 100 rounds\n",
      "[100]\ttraining's l1: 2.49299\tvalid_1's l1: 2.56177\n",
      "[200]\ttraining's l1: 2.45773\tvalid_1's l1: 2.55489\n",
      "[300]\ttraining's l1: 2.42852\tvalid_1's l1: 2.55374\n",
      "[400]\ttraining's l1: 2.4052\tvalid_1's l1: 2.55566\n",
      "Early stopping, best iteration is:\n",
      "[309]\ttraining's l1: 2.42512\tvalid_1's l1: 2.55358\n"
     ]
    },
    {
     "name": "stderr",
     "output_type": "stream",
     "text": [
      "\u001b[32m[I 2021-07-29 23:31:01,764]\u001b[0m Trial 36 finished with value: -2.552728411929697 and parameters: {'max_depth': 9, 'min_child_weight': 14, 'subsample': 0.7, 'colsample_bytree': 0.9, 'reg_lambda': 0.4098320826853592, 'reg_alpha': 0.13899869630389602, 'feature_fraction': 0.5559525620839152, 'bagging_fraction': 0.7152981425124973, 'bagging_freq': 9, 'num_leaves': 249, 'min_child_samples': 37}. Best is trial 35 with value: -2.545930047135466.\u001b[0m\n"
     ]
    },
    {
     "name": "stdout",
     "output_type": "stream",
     "text": [
      "[LightGBM] [Warning] feature_fraction is set=0.6287222955230944, colsample_bytree=0.9 will be ignored. Current value: feature_fraction=0.6287222955230944\n",
      "[LightGBM] [Warning] bagging_fraction is set=0.8084496724898461, subsample=0.7 will be ignored. Current value: bagging_fraction=0.8084496724898461\n",
      "[LightGBM] [Warning] bagging_freq is set=12, subsample_freq=0 will be ignored. Current value: bagging_freq=12\n",
      "Training until validation scores don't improve for 100 rounds\n",
      "[100]\ttraining's l1: 2.55798\tvalid_1's l1: 2.5672\n",
      "[200]\ttraining's l1: 2.53204\tvalid_1's l1: 2.55501\n",
      "[300]\ttraining's l1: 2.51846\tvalid_1's l1: 2.55294\n",
      "[400]\ttraining's l1: 2.50464\tvalid_1's l1: 2.55054\n",
      "[500]\ttraining's l1: 2.49513\tvalid_1's l1: 2.54929\n"
     ]
    },
    {
     "name": "stderr",
     "output_type": "stream",
     "text": [
      "\u001b[32m[I 2021-07-29 23:31:07,034]\u001b[0m Trial 37 finished with value: -2.548554213657375 and parameters: {'max_depth': 6, 'min_child_weight': 9, 'subsample': 0.7, 'colsample_bytree': 0.9, 'reg_lambda': 0.0021495934721934185, 'reg_alpha': 0.01800077808232686, 'feature_fraction': 0.6287222955230944, 'bagging_fraction': 0.8084496724898461, 'bagging_freq': 12, 'num_leaves': 168, 'min_child_samples': 44}. Best is trial 35 with value: -2.545930047135466.\u001b[0m\n"
     ]
    },
    {
     "name": "stdout",
     "output_type": "stream",
     "text": [
      "Early stopping, best iteration is:\n",
      "[425]\ttraining's l1: 2.50019\tvalid_1's l1: 2.54917\n",
      "[LightGBM] [Warning] feature_fraction is set=0.4781252193906436, colsample_bytree=0.6 will be ignored. Current value: feature_fraction=0.4781252193906436\n",
      "[LightGBM] [Warning] bagging_fraction is set=0.7766244843432134, subsample=0.8 will be ignored. Current value: bagging_fraction=0.7766244843432134\n",
      "[LightGBM] [Warning] bagging_freq is set=7, subsample_freq=0 will be ignored. Current value: bagging_freq=7\n",
      "Training until validation scores don't improve for 100 rounds\n",
      "[100]\ttraining's l1: 2.57951\tvalid_1's l1: 2.58819\n",
      "[200]\ttraining's l1: 2.55315\tvalid_1's l1: 2.57485\n",
      "[300]\ttraining's l1: 2.53903\tvalid_1's l1: 2.57228\n",
      "[400]\ttraining's l1: 2.52804\tvalid_1's l1: 2.56862\n",
      "[500]\ttraining's l1: 2.51923\tvalid_1's l1: 2.56801\n",
      "[600]\ttraining's l1: 2.51338\tvalid_1's l1: 2.56744\n"
     ]
    },
    {
     "name": "stderr",
     "output_type": "stream",
     "text": [
      "\u001b[32m[I 2021-07-29 23:31:14,948]\u001b[0m Trial 38 finished with value: -2.56594013187331 and parameters: {'max_depth': 8, 'min_child_weight': 13, 'subsample': 0.8, 'colsample_bytree': 0.6, 'reg_lambda': 0.03384760030407166, 'reg_alpha': 30.527819380963482, 'feature_fraction': 0.4781252193906436, 'bagging_fraction': 0.7766244843432134, 'bagging_freq': 7, 'num_leaves': 70, 'min_child_samples': 28}. Best is trial 35 with value: -2.545930047135466.\u001b[0m\n"
     ]
    },
    {
     "name": "stdout",
     "output_type": "stream",
     "text": [
      "Early stopping, best iteration is:\n",
      "[558]\ttraining's l1: 2.51587\tvalid_1's l1: 2.56704\n",
      "[LightGBM] [Warning] feature_fraction is set=0.44413239155737055, colsample_bytree=0.9 will be ignored. Current value: feature_fraction=0.44413239155737055\n",
      "[LightGBM] [Warning] bagging_fraction is set=0.6298993697499553, subsample=0.7 will be ignored. Current value: bagging_fraction=0.6298993697499553\n",
      "[LightGBM] [Warning] bagging_freq is set=10, subsample_freq=0 will be ignored. Current value: bagging_freq=10\n",
      "Training until validation scores don't improve for 100 rounds\n",
      "[100]\ttraining's l1: 2.63803\tvalid_1's l1: 2.61305\n",
      "[200]\ttraining's l1: 2.60171\tvalid_1's l1: 2.58046\n",
      "[300]\ttraining's l1: 2.58855\tvalid_1's l1: 2.57202\n",
      "[400]\ttraining's l1: 2.57867\tvalid_1's l1: 2.56434\n",
      "[500]\ttraining's l1: 2.57147\tvalid_1's l1: 2.56019\n",
      "[600]\ttraining's l1: 2.56799\tvalid_1's l1: 2.55857\n",
      "[700]\ttraining's l1: 2.56267\tvalid_1's l1: 2.55583\n",
      "[800]\ttraining's l1: 2.55665\tvalid_1's l1: 2.55298\n",
      "[900]\ttraining's l1: 2.55207\tvalid_1's l1: 2.55297\n",
      "[1000]\ttraining's l1: 2.54819\tvalid_1's l1: 2.54888\n",
      "[1100]\ttraining's l1: 2.543\tvalid_1's l1: 2.54938\n",
      "[1200]\ttraining's l1: 2.53939\tvalid_1's l1: 2.54792\n",
      "Early stopping, best iteration is:\n",
      "[1190]\ttraining's l1: 2.53974\tvalid_1's l1: 2.54762\n"
     ]
    },
    {
     "name": "stderr",
     "output_type": "stream",
     "text": [
      "\u001b[32m[I 2021-07-29 23:31:23,106]\u001b[0m Trial 39 finished with value: -2.5466113874737974 and parameters: {'max_depth': 4, 'min_child_weight': 11, 'subsample': 0.7, 'colsample_bytree': 0.9, 'reg_lambda': 0.3225727592286062, 'reg_alpha': 0.002581681361309588, 'feature_fraction': 0.44413239155737055, 'bagging_fraction': 0.6298993697499553, 'bagging_freq': 10, 'num_leaves': 315, 'min_child_samples': 48}. Best is trial 35 with value: -2.545930047135466.\u001b[0m\n"
     ]
    },
    {
     "name": "stdout",
     "output_type": "stream",
     "text": [
      "[LightGBM] [Warning] feature_fraction is set=0.42863756711612033, colsample_bytree=0.9 will be ignored. Current value: feature_fraction=0.42863756711612033\n",
      "[LightGBM] [Warning] bagging_fraction is set=0.6080804580788846, subsample=0.7 will be ignored. Current value: bagging_fraction=0.6080804580788846\n",
      "[LightGBM] [Warning] bagging_freq is set=11, subsample_freq=0 will be ignored. Current value: bagging_freq=11\n",
      "Training until validation scores don't improve for 100 rounds\n",
      "[100]\ttraining's l1: 2.63773\tvalid_1's l1: 2.62057\n",
      "[200]\ttraining's l1: 2.60009\tvalid_1's l1: 2.58827\n",
      "[300]\ttraining's l1: 2.58327\tvalid_1's l1: 2.57742\n",
      "[400]\ttraining's l1: 2.5749\tvalid_1's l1: 2.57311\n",
      "[500]\ttraining's l1: 2.56912\tvalid_1's l1: 2.5717\n",
      "[600]\ttraining's l1: 2.56412\tvalid_1's l1: 2.56864\n",
      "[700]\ttraining's l1: 2.55931\tvalid_1's l1: 2.56649\n",
      "[800]\ttraining's l1: 2.55659\tvalid_1's l1: 2.56546\n",
      "[900]\ttraining's l1: 2.54813\tvalid_1's l1: 2.56197\n",
      "[1000]\ttraining's l1: 2.54528\tvalid_1's l1: 2.56154\n",
      "[1100]\ttraining's l1: 2.54048\tvalid_1's l1: 2.55772\n",
      "[1200]\ttraining's l1: 2.53343\tvalid_1's l1: 2.55669\n",
      "Early stopping, best iteration is:\n",
      "[1134]\ttraining's l1: 2.53613\tvalid_1's l1: 2.55629\n"
     ]
    },
    {
     "name": "stderr",
     "output_type": "stream",
     "text": [
      "\u001b[32m[I 2021-07-29 23:31:30,600]\u001b[0m Trial 40 finished with value: -2.5549097603428557 and parameters: {'max_depth': 4, 'min_child_weight': 16, 'subsample': 0.7, 'colsample_bytree': 0.9, 'reg_lambda': 2.532607739906551, 'reg_alpha': 0.0028465169703262207, 'feature_fraction': 0.42863756711612033, 'bagging_fraction': 0.6080804580788846, 'bagging_freq': 11, 'num_leaves': 317, 'min_child_samples': 21}. Best is trial 35 with value: -2.545930047135466.\u001b[0m\n"
     ]
    },
    {
     "name": "stdout",
     "output_type": "stream",
     "text": [
      "[LightGBM] [Warning] feature_fraction is set=0.3471904575625802, colsample_bytree=0.9 will be ignored. Current value: feature_fraction=0.3471904575625802\n",
      "[LightGBM] [Warning] bagging_fraction is set=0.8493153920833171, subsample=0.7 will be ignored. Current value: bagging_fraction=0.8493153920833171\n",
      "[LightGBM] [Warning] bagging_freq is set=10, subsample_freq=0 will be ignored. Current value: bagging_freq=10\n",
      "Training until validation scores don't improve for 100 rounds\n",
      "[100]\ttraining's l1: 2.69389\tvalid_1's l1: 2.66752\n",
      "[200]\ttraining's l1: 2.64206\tvalid_1's l1: 2.61507\n",
      "[300]\ttraining's l1: 2.62672\tvalid_1's l1: 2.60017\n",
      "[400]\ttraining's l1: 2.615\tvalid_1's l1: 2.5925\n",
      "[500]\ttraining's l1: 2.60918\tvalid_1's l1: 2.58873\n",
      "[600]\ttraining's l1: 2.60478\tvalid_1's l1: 2.58539\n",
      "[700]\ttraining's l1: 2.59926\tvalid_1's l1: 2.5827\n",
      "[800]\ttraining's l1: 2.59512\tvalid_1's l1: 2.578\n",
      "[900]\ttraining's l1: 2.59131\tvalid_1's l1: 2.57616\n",
      "[1000]\ttraining's l1: 2.58729\tvalid_1's l1: 2.57293\n",
      "[1100]\ttraining's l1: 2.58367\tvalid_1's l1: 2.56926\n",
      "[1200]\ttraining's l1: 2.58132\tvalid_1's l1: 2.56796\n",
      "[1300]\ttraining's l1: 2.57986\tvalid_1's l1: 2.56722\n",
      "[1400]\ttraining's l1: 2.57841\tvalid_1's l1: 2.56675\n",
      "[1500]\ttraining's l1: 2.5755\tvalid_1's l1: 2.56572\n",
      "[1600]\ttraining's l1: 2.57348\tvalid_1's l1: 2.56423\n",
      "[1700]\ttraining's l1: 2.57114\tvalid_1's l1: 2.56441\n",
      "Early stopping, best iteration is:\n",
      "[1613]\ttraining's l1: 2.57301\tvalid_1's l1: 2.56378\n"
     ]
    },
    {
     "name": "stderr",
     "output_type": "stream",
     "text": [
      "\u001b[32m[I 2021-07-29 23:31:42,227]\u001b[0m Trial 41 finished with value: -2.562637258791379 and parameters: {'max_depth': 3, 'min_child_weight': 11, 'subsample': 0.7, 'colsample_bytree': 0.9, 'reg_lambda': 0.2648498555949627, 'reg_alpha': 0.060608394123291706, 'feature_fraction': 0.3471904575625802, 'bagging_fraction': 0.8493153920833171, 'bagging_freq': 10, 'num_leaves': 220, 'min_child_samples': 47}. Best is trial 35 with value: -2.545930047135466.\u001b[0m\n"
     ]
    },
    {
     "name": "stdout",
     "output_type": "stream",
     "text": [
      "[LightGBM] [Warning] feature_fraction is set=0.45190931022259706, colsample_bytree=0.9 will be ignored. Current value: feature_fraction=0.45190931022259706\n",
      "[LightGBM] [Warning] bagging_fraction is set=0.5670215780108194, subsample=0.8 will be ignored. Current value: bagging_fraction=0.5670215780108194\n",
      "[LightGBM] [Warning] bagging_freq is set=13, subsample_freq=0 will be ignored. Current value: bagging_freq=13\n",
      "Training until validation scores don't improve for 100 rounds\n",
      "[100]\ttraining's l1: 2.56944\tvalid_1's l1: 2.57338\n",
      "[200]\ttraining's l1: 2.54044\tvalid_1's l1: 2.55805\n",
      "[300]\ttraining's l1: 2.53091\tvalid_1's l1: 2.55529\n",
      "[400]\ttraining's l1: 2.52158\tvalid_1's l1: 2.55164\n",
      "[500]\ttraining's l1: 2.51138\tvalid_1's l1: 2.5473\n",
      "[600]\ttraining's l1: 2.50341\tvalid_1's l1: 2.54659\n",
      "[700]\ttraining's l1: 2.49618\tvalid_1's l1: 2.54479\n"
     ]
    },
    {
     "name": "stderr",
     "output_type": "stream",
     "text": [
      "\u001b[32m[I 2021-07-29 23:31:48,166]\u001b[0m Trial 42 finished with value: -2.5426393658701856 and parameters: {'max_depth': 6, 'min_child_weight': 9, 'subsample': 0.8, 'colsample_bytree': 0.9, 'reg_lambda': 0.08775848211046411, 'reg_alpha': 0.0027773071193270436, 'feature_fraction': 0.45190931022259706, 'bagging_fraction': 0.5670215780108194, 'bagging_freq': 13, 'num_leaves': 107, 'min_child_samples': 41}. Best is trial 42 with value: -2.5426393658701856.\u001b[0m\n"
     ]
    },
    {
     "name": "stdout",
     "output_type": "stream",
     "text": [
      "Early stopping, best iteration is:\n",
      "[690]\ttraining's l1: 2.497\tvalid_1's l1: 2.54387\n",
      "[LightGBM] [Warning] feature_fraction is set=0.470941201315059, colsample_bytree=0.9 will be ignored. Current value: feature_fraction=0.470941201315059\n",
      "[LightGBM] [Warning] bagging_fraction is set=0.4964821759841136, subsample=0.9 will be ignored. Current value: bagging_fraction=0.4964821759841136\n",
      "[LightGBM] [Warning] bagging_freq is set=13, subsample_freq=0 will be ignored. Current value: bagging_freq=13\n",
      "Training until validation scores don't improve for 100 rounds\n",
      "[100]\ttraining's l1: 2.56205\tvalid_1's l1: 2.56744\n",
      "[200]\ttraining's l1: 2.52206\tvalid_1's l1: 2.55278\n",
      "[300]\ttraining's l1: 2.50754\tvalid_1's l1: 2.55268\n",
      "[400]\ttraining's l1: 2.493\tvalid_1's l1: 2.55179\n",
      "Early stopping, best iteration is:\n",
      "[324]\ttraining's l1: 2.50305\tvalid_1's l1: 2.55065\n"
     ]
    },
    {
     "name": "stderr",
     "output_type": "stream",
     "text": [
      "\u001b[32m[I 2021-07-29 23:31:51,887]\u001b[0m Trial 43 finished with value: -2.549756826027319 and parameters: {'max_depth': 7, 'min_child_weight': 8, 'subsample': 0.9, 'colsample_bytree': 0.9, 'reg_lambda': 0.08669623404777363, 'reg_alpha': 0.0017987989412155487, 'feature_fraction': 0.470941201315059, 'bagging_fraction': 0.4964821759841136, 'bagging_freq': 13, 'num_leaves': 77, 'min_child_samples': 34}. Best is trial 42 with value: -2.5426393658701856.\u001b[0m\n"
     ]
    },
    {
     "name": "stdout",
     "output_type": "stream",
     "text": [
      "[LightGBM] [Warning] feature_fraction is set=0.9583903858363805, colsample_bytree=0.9 will be ignored. Current value: feature_fraction=0.9583903858363805\n",
      "[LightGBM] [Warning] bagging_fraction is set=0.35701112373156174, subsample=0.8 will be ignored. Current value: bagging_fraction=0.35701112373156174\n",
      "[LightGBM] [Warning] bagging_freq is set=16, subsample_freq=0 will be ignored. Current value: bagging_freq=16\n",
      "Training until validation scores don't improve for 100 rounds\n",
      "[100]\ttraining's l1: 2.64797\tvalid_1's l1: 2.62893\n",
      "[200]\ttraining's l1: 2.60564\tvalid_1's l1: 2.59336\n",
      "[300]\ttraining's l1: 2.59443\tvalid_1's l1: 2.58609\n",
      "[400]\ttraining's l1: 2.58757\tvalid_1's l1: 2.58107\n",
      "[500]\ttraining's l1: 2.57845\tvalid_1's l1: 2.57488\n",
      "[600]\ttraining's l1: 2.56944\tvalid_1's l1: 2.57044\n",
      "[700]\ttraining's l1: 2.55951\tvalid_1's l1: 2.56275\n",
      "[800]\ttraining's l1: 2.55112\tvalid_1's l1: 2.55929\n",
      "[900]\ttraining's l1: 2.54602\tvalid_1's l1: 2.55928\n",
      "[1000]\ttraining's l1: 2.54153\tvalid_1's l1: 2.55731\n"
     ]
    },
    {
     "name": "stderr",
     "output_type": "stream",
     "text": [
      "\u001b[32m[I 2021-07-29 23:31:56,559]\u001b[0m Trial 44 finished with value: -2.5554010180590723 and parameters: {'max_depth': 10, 'min_child_weight': 10, 'subsample': 0.8, 'colsample_bytree': 0.9, 'reg_lambda': 1.2778290870648963, 'reg_alpha': 0.001666970030509924, 'feature_fraction': 0.9583903858363805, 'bagging_fraction': 0.35701112373156174, 'bagging_freq': 16, 'num_leaves': 14, 'min_child_samples': 40}. Best is trial 42 with value: -2.5426393658701856.\u001b[0m\n"
     ]
    },
    {
     "name": "stdout",
     "output_type": "stream",
     "text": [
      "Early stopping, best iteration is:\n",
      "[995]\ttraining's l1: 2.54174\tvalid_1's l1: 2.55711\n",
      "[LightGBM] [Warning] feature_fraction is set=0.5170848597384393, colsample_bytree=0.9 will be ignored. Current value: feature_fraction=0.5170848597384393\n",
      "[LightGBM] [Warning] bagging_fraction is set=0.5505762944545463, subsample=0.8 will be ignored. Current value: bagging_fraction=0.5505762944545463\n",
      "[LightGBM] [Warning] bagging_freq is set=15, subsample_freq=0 will be ignored. Current value: bagging_freq=15\n",
      "Training until validation scores don't improve for 100 rounds\n",
      "[100]\ttraining's l1: 2.56909\tvalid_1's l1: 2.57546\n",
      "[200]\ttraining's l1: 2.53812\tvalid_1's l1: 2.55765\n",
      "[300]\ttraining's l1: 2.52532\tvalid_1's l1: 2.55531\n",
      "[400]\ttraining's l1: 2.5163\tvalid_1's l1: 2.55516\n",
      "[500]\ttraining's l1: 2.50475\tvalid_1's l1: 2.55232\n",
      "[600]\ttraining's l1: 2.49421\tvalid_1's l1: 2.55189\n"
     ]
    },
    {
     "name": "stderr",
     "output_type": "stream",
     "text": [
      "\u001b[32m[I 2021-07-29 23:32:01,723]\u001b[0m Trial 45 finished with value: -2.5495262204594753 and parameters: {'max_depth': 6, 'min_child_weight': 9, 'subsample': 0.8, 'colsample_bytree': 0.9, 'reg_lambda': 0.30071233397507097, 'reg_alpha': 0.0056393544357874175, 'feature_fraction': 0.5170848597384393, 'bagging_fraction': 0.5505762944545463, 'bagging_freq': 15, 'num_leaves': 243, 'min_child_samples': 31}. Best is trial 42 with value: -2.5426393658701856.\u001b[0m\n"
     ]
    },
    {
     "name": "stdout",
     "output_type": "stream",
     "text": [
      "Early stopping, best iteration is:\n",
      "[549]\ttraining's l1: 2.49788\tvalid_1's l1: 2.55061\n",
      "[LightGBM] [Warning] feature_fraction is set=0.6018636208353759, colsample_bytree=0.9 will be ignored. Current value: feature_fraction=0.6018636208353759\n",
      "[LightGBM] [Warning] bagging_fraction is set=0.4096520305302801, subsample=0.7 will be ignored. Current value: bagging_fraction=0.4096520305302801\n",
      "[LightGBM] [Warning] bagging_freq is set=12, subsample_freq=0 will be ignored. Current value: bagging_freq=12\n",
      "Training until validation scores don't improve for 100 rounds\n",
      "[100]\ttraining's l1: 2.63744\tvalid_1's l1: 2.61681\n",
      "[200]\ttraining's l1: 2.60847\tvalid_1's l1: 2.59167\n",
      "[300]\ttraining's l1: 2.59673\tvalid_1's l1: 2.5809\n",
      "[400]\ttraining's l1: 2.58902\tvalid_1's l1: 2.57846\n",
      "[500]\ttraining's l1: 2.58022\tvalid_1's l1: 2.57121\n",
      "[600]\ttraining's l1: 2.57372\tvalid_1's l1: 2.56918\n"
     ]
    },
    {
     "name": "stderr",
     "output_type": "stream",
     "text": [
      "\u001b[32m[I 2021-07-29 23:32:05,763]\u001b[0m Trial 46 finished with value: -2.5671916439228504 and parameters: {'max_depth': 4, 'min_child_weight': 7, 'subsample': 0.7, 'colsample_bytree': 0.9, 'reg_lambda': 0.11941521024193658, 'reg_alpha': 0.02155732196082323, 'feature_fraction': 0.6018636208353759, 'bagging_fraction': 0.4096520305302801, 'bagging_freq': 12, 'num_leaves': 130, 'min_child_samples': 46}. Best is trial 42 with value: -2.5426393658701856.\u001b[0m\n"
     ]
    },
    {
     "name": "stdout",
     "output_type": "stream",
     "text": [
      "[700]\ttraining's l1: 2.56928\tvalid_1's l1: 2.57023\n",
      "Early stopping, best iteration is:\n",
      "[612]\ttraining's l1: 2.57294\tvalid_1's l1: 2.5682\n",
      "[LightGBM] [Warning] feature_fraction is set=0.42901649229280797, colsample_bytree=0.9 will be ignored. Current value: feature_fraction=0.42901649229280797\n",
      "[LightGBM] [Warning] bagging_fraction is set=0.642198366613348, subsample=0.7 will be ignored. Current value: bagging_fraction=0.642198366613348\n",
      "[LightGBM] [Warning] bagging_freq is set=14, subsample_freq=0 will be ignored. Current value: bagging_freq=14\n",
      "Training until validation scores don't improve for 100 rounds\n",
      "[100]\ttraining's l1: 2.78467\tvalid_1's l1: 2.75576\n",
      "[200]\ttraining's l1: 2.73468\tvalid_1's l1: 2.70141\n",
      "[300]\ttraining's l1: 2.71198\tvalid_1's l1: 2.67634\n",
      "[400]\ttraining's l1: 2.69977\tvalid_1's l1: 2.66342\n",
      "[500]\ttraining's l1: 2.68873\tvalid_1's l1: 2.65358\n",
      "[600]\ttraining's l1: 2.68217\tvalid_1's l1: 2.64352\n",
      "[700]\ttraining's l1: 2.67553\tvalid_1's l1: 2.63537\n",
      "[800]\ttraining's l1: 2.66935\tvalid_1's l1: 2.62927\n"
     ]
    },
    {
     "name": "stderr",
     "output_type": "stream",
     "text": [
      "\u001b[32m[I 2021-07-29 23:32:10,958]\u001b[0m Trial 47 finished with value: -2.627980747824869 and parameters: {'max_depth': 2, 'min_child_weight': 14, 'subsample': 0.7, 'colsample_bytree': 0.9, 'reg_lambda': 0.007963559140725239, 'reg_alpha': 0.01244093961904042, 'feature_fraction': 0.42901649229280797, 'bagging_fraction': 0.642198366613348, 'bagging_freq': 14, 'num_leaves': 484, 'min_child_samples': 36}. Best is trial 42 with value: -2.5426393658701856.\u001b[0m\n"
     ]
    },
    {
     "name": "stdout",
     "output_type": "stream",
     "text": [
      "[900]\ttraining's l1: 2.6665\tvalid_1's l1: 2.62949\n",
      "Early stopping, best iteration is:\n",
      "[808]\ttraining's l1: 2.66897\tvalid_1's l1: 2.62901\n",
      "[LightGBM] [Warning] feature_fraction is set=0.2734534896901047, colsample_bytree=0.8 will be ignored. Current value: feature_fraction=0.2734534896901047\n",
      "[LightGBM] [Warning] bagging_fraction is set=0.6126999384850519, subsample=0.8 will be ignored. Current value: bagging_fraction=0.6126999384850519\n",
      "[LightGBM] [Warning] bagging_freq is set=9, subsample_freq=0 will be ignored. Current value: bagging_freq=9\n",
      "Training until validation scores don't improve for 100 rounds\n",
      "[100]\ttraining's l1: 2.47206\tvalid_1's l1: 2.57892\n",
      "[200]\ttraining's l1: 2.38431\tvalid_1's l1: 2.57313\n"
     ]
    },
    {
     "name": "stderr",
     "output_type": "stream",
     "text": [
      "\u001b[32m[I 2021-07-29 23:32:15,835]\u001b[0m Trial 48 finished with value: -2.567571081930415 and parameters: {'max_depth': 17, 'min_child_weight': 12, 'subsample': 0.8, 'colsample_bytree': 0.8, 'reg_lambda': 0.8609484510832067, 'reg_alpha': 0.03976957719274608, 'feature_fraction': 0.2734534896901047, 'bagging_fraction': 0.6126999384850519, 'bagging_freq': 9, 'num_leaves': 305, 'min_child_samples': 13}. Best is trial 42 with value: -2.5426393658701856.\u001b[0m\n"
     ]
    },
    {
     "name": "stdout",
     "output_type": "stream",
     "text": [
      "Early stopping, best iteration is:\n",
      "[159]\ttraining's l1: 2.41153\tvalid_1's l1: 2.56894\n",
      "[LightGBM] [Warning] feature_fraction is set=0.3509767130425917, colsample_bytree=0.9 will be ignored. Current value: feature_fraction=0.3509767130425917\n",
      "[LightGBM] [Warning] bagging_fraction is set=0.5639697210643612, subsample=0.9 will be ignored. Current value: bagging_fraction=0.5639697210643612\n",
      "[LightGBM] [Warning] bagging_freq is set=11, subsample_freq=0 will be ignored. Current value: bagging_freq=11\n",
      "Training until validation scores don't improve for 100 rounds\n",
      "[100]\ttraining's l1: 2.54553\tvalid_1's l1: 2.57165\n",
      "[200]\ttraining's l1: 2.50852\tvalid_1's l1: 2.5603\n",
      "[300]\ttraining's l1: 2.49059\tvalid_1's l1: 2.5604\n"
     ]
    },
    {
     "name": "stderr",
     "output_type": "stream",
     "text": [
      "\u001b[32m[I 2021-07-29 23:32:19,614]\u001b[0m Trial 49 finished with value: -2.5586399909395845 and parameters: {'max_depth': 8, 'min_child_weight': 13, 'subsample': 0.9, 'colsample_bytree': 0.9, 'reg_lambda': 0.07365496883339269, 'reg_alpha': 0.0011251151969149558, 'feature_fraction': 0.3509767130425917, 'bagging_fraction': 0.5639697210643612, 'bagging_freq': 11, 'num_leaves': 100, 'min_child_samples': 42}. Best is trial 42 with value: -2.5426393658701856.\u001b[0m\n"
     ]
    },
    {
     "name": "stdout",
     "output_type": "stream",
     "text": [
      "Early stopping, best iteration is:\n",
      "[280]\ttraining's l1: 2.49428\tvalid_1's l1: 2.55952\n",
      "[LightGBM] [Warning] feature_fraction is set=0.4933666803442345, colsample_bytree=0.8 will be ignored. Current value: feature_fraction=0.4933666803442345\n",
      "[LightGBM] [Warning] bagging_fraction is set=0.7197745948120527, subsample=0.7 will be ignored. Current value: bagging_fraction=0.7197745948120527\n",
      "[LightGBM] [Warning] bagging_freq is set=9, subsample_freq=0 will be ignored. Current value: bagging_freq=9\n",
      "Training until validation scores don't improve for 100 rounds\n",
      "[100]\ttraining's l1: 2.77298\tvalid_1's l1: 2.7374\n",
      "[200]\ttraining's l1: 2.72908\tvalid_1's l1: 2.69122\n",
      "[300]\ttraining's l1: 2.70669\tvalid_1's l1: 2.66969\n",
      "[400]\ttraining's l1: 2.69536\tvalid_1's l1: 2.65865\n",
      "[500]\ttraining's l1: 2.68404\tvalid_1's l1: 2.6459\n",
      "[600]\ttraining's l1: 2.66859\tvalid_1's l1: 2.6334\n",
      "[700]\ttraining's l1: 2.66603\tvalid_1's l1: 2.63165\n",
      "[800]\ttraining's l1: 2.6629\tvalid_1's l1: 2.62871\n",
      "[900]\ttraining's l1: 2.65963\tvalid_1's l1: 2.6241\n",
      "[1000]\ttraining's l1: 2.6571\tvalid_1's l1: 2.62148\n",
      "[1100]\ttraining's l1: 2.65313\tvalid_1's l1: 2.61816\n",
      "[1200]\ttraining's l1: 2.65087\tvalid_1's l1: 2.61601\n",
      "[1300]\ttraining's l1: 2.64881\tvalid_1's l1: 2.61578\n",
      "[1400]\ttraining's l1: 2.64671\tvalid_1's l1: 2.61473\n",
      "[1500]\ttraining's l1: 2.64308\tvalid_1's l1: 2.61204\n",
      "[1600]\ttraining's l1: 2.63963\tvalid_1's l1: 2.6078\n",
      "[1700]\ttraining's l1: 2.6378\tvalid_1's l1: 2.60794\n",
      "[1800]\ttraining's l1: 2.63636\tvalid_1's l1: 2.60603\n",
      "[1900]\ttraining's l1: 2.63488\tvalid_1's l1: 2.60347\n",
      "[2000]\ttraining's l1: 2.63299\tvalid_1's l1: 2.59945\n",
      "[2100]\ttraining's l1: 2.6306\tvalid_1's l1: 2.59704\n",
      "[2200]\ttraining's l1: 2.62949\tvalid_1's l1: 2.59683\n",
      "[2300]\ttraining's l1: 2.62816\tvalid_1's l1: 2.59557\n",
      "[2400]\ttraining's l1: 2.62747\tvalid_1's l1: 2.59528\n",
      "Early stopping, best iteration is:\n",
      "[2364]\ttraining's l1: 2.6276\tvalid_1's l1: 2.59489\n"
     ]
    },
    {
     "name": "stderr",
     "output_type": "stream",
     "text": [
      "\u001b[32m[I 2021-07-29 23:32:35,224]\u001b[0m Trial 50 finished with value: -2.5935670642950313 and parameters: {'max_depth': 2, 'min_child_weight': 18, 'subsample': 0.7, 'colsample_bytree': 0.8, 'reg_lambda': 0.5112013971310773, 'reg_alpha': 13.815155200117788, 'feature_fraction': 0.4933666803442345, 'bagging_fraction': 0.7197745948120527, 'bagging_freq': 9, 'num_leaves': 932, 'min_child_samples': 59}. Best is trial 42 with value: -2.5426393658701856.\u001b[0m\n"
     ]
    },
    {
     "name": "stdout",
     "output_type": "stream",
     "text": [
      "[LightGBM] [Warning] feature_fraction is set=0.4476436162979127, colsample_bytree=0.7 will be ignored. Current value: feature_fraction=0.4476436162979127\n",
      "[LightGBM] [Warning] bagging_fraction is set=0.6751607865381487, subsample=0.7 will be ignored. Current value: bagging_fraction=0.6751607865381487\n",
      "[LightGBM] [Warning] bagging_freq is set=13, subsample_freq=0 will be ignored. Current value: bagging_freq=13\n",
      "Training until validation scores don't improve for 100 rounds\n",
      "[100]\ttraining's l1: 2.60435\tvalid_1's l1: 2.58641\n",
      "[200]\ttraining's l1: 2.57336\tvalid_1's l1: 2.56616\n",
      "[300]\ttraining's l1: 2.56047\tvalid_1's l1: 2.56149\n",
      "[400]\ttraining's l1: 2.55259\tvalid_1's l1: 2.55797\n",
      "[500]\ttraining's l1: 2.5434\tvalid_1's l1: 2.55404\n",
      "[600]\ttraining's l1: 2.53512\tvalid_1's l1: 2.55211\n"
     ]
    },
    {
     "name": "stderr",
     "output_type": "stream",
     "text": [
      "\u001b[32m[I 2021-07-29 23:32:40,478]\u001b[0m Trial 51 finished with value: -2.5509081258986495 and parameters: {'max_depth': 5, 'min_child_weight': 11, 'subsample': 0.7, 'colsample_bytree': 0.7, 'reg_lambda': 0.027416184976539394, 'reg_alpha': 4.435580143973177, 'feature_fraction': 0.4476436162979127, 'bagging_fraction': 0.6751607865381487, 'bagging_freq': 13, 'num_leaves': 177, 'min_child_samples': 50}. Best is trial 42 with value: -2.5426393658701856.\u001b[0m\n"
     ]
    },
    {
     "name": "stdout",
     "output_type": "stream",
     "text": [
      "Early stopping, best iteration is:\n",
      "[581]\ttraining's l1: 2.53752\tvalid_1's l1: 2.5517\n",
      "[LightGBM] [Warning] feature_fraction is set=0.32642029471701983, colsample_bytree=0.7 will be ignored. Current value: feature_fraction=0.32642029471701983\n",
      "[LightGBM] [Warning] bagging_fraction is set=0.973750278590606, subsample=0.8 will be ignored. Current value: bagging_fraction=0.973750278590606\n",
      "[LightGBM] [Warning] bagging_freq is set=7, subsample_freq=0 will be ignored. Current value: bagging_freq=7\n",
      "Training until validation scores don't improve for 100 rounds\n",
      "[100]\ttraining's l1: 2.53464\tvalid_1's l1: 2.56896\n",
      "[200]\ttraining's l1: 2.50549\tvalid_1's l1: 2.55642\n",
      "[300]\ttraining's l1: 2.49378\tvalid_1's l1: 2.55503\n",
      "[400]\ttraining's l1: 2.4793\tvalid_1's l1: 2.55397\n",
      "[500]\ttraining's l1: 2.47225\tvalid_1's l1: 2.55304\n",
      "[600]\ttraining's l1: 2.45839\tvalid_1's l1: 2.55068\n",
      "[700]\ttraining's l1: 2.44989\tvalid_1's l1: 2.55154\n",
      "Early stopping, best iteration is:\n",
      "[604]\ttraining's l1: 2.45751\tvalid_1's l1: 2.55052\n"
     ]
    },
    {
     "name": "stderr",
     "output_type": "stream",
     "text": [
      "\u001b[32m[I 2021-07-29 23:32:48,123]\u001b[0m Trial 52 finished with value: -2.5497504340237476 and parameters: {'max_depth': 7, 'min_child_weight': 10, 'subsample': 0.8, 'colsample_bytree': 0.7, 'reg_lambda': 0.008517526783302943, 'reg_alpha': 0.8930287842167176, 'feature_fraction': 0.32642029471701983, 'bagging_fraction': 0.973750278590606, 'bagging_freq': 7, 'num_leaves': 271, 'min_child_samples': 55}. Best is trial 42 with value: -2.5426393658701856.\u001b[0m\n"
     ]
    },
    {
     "name": "stdout",
     "output_type": "stream",
     "text": [
      "[LightGBM] [Warning] feature_fraction is set=0.4061751353170559, colsample_bytree=0.9 will be ignored. Current value: feature_fraction=0.4061751353170559\n",
      "[LightGBM] [Warning] bagging_fraction is set=0.50838847450399, subsample=0.6 will be ignored. Current value: bagging_fraction=0.50838847450399\n",
      "[LightGBM] [Warning] bagging_freq is set=17, subsample_freq=0 will be ignored. Current value: bagging_freq=17\n",
      "Training until validation scores don't improve for 100 rounds\n",
      "[100]\ttraining's l1: 2.57342\tvalid_1's l1: 2.58082\n",
      "[200]\ttraining's l1: 2.54785\tvalid_1's l1: 2.56224\n",
      "[300]\ttraining's l1: 2.53373\tvalid_1's l1: 2.55952\n"
     ]
    },
    {
     "name": "stderr",
     "output_type": "stream",
     "text": [
      "\u001b[32m[I 2021-07-29 23:32:51,183]\u001b[0m Trial 53 finished with value: -2.5586118043593795 and parameters: {'max_depth': 6, 'min_child_weight': 8, 'subsample': 0.6, 'colsample_bytree': 0.9, 'reg_lambda': 0.04527248318228458, 'reg_alpha': 0.08264465679410118, 'feature_fraction': 0.4061751353170559, 'bagging_fraction': 0.50838847450399, 'bagging_freq': 17, 'num_leaves': 335, 'min_child_samples': 47}. Best is trial 42 with value: -2.5426393658701856.\u001b[0m\n"
     ]
    },
    {
     "name": "stdout",
     "output_type": "stream",
     "text": [
      "[400]\ttraining's l1: 2.52592\tvalid_1's l1: 2.56007\n",
      "Early stopping, best iteration is:\n",
      "[304]\ttraining's l1: 2.53333\tvalid_1's l1: 2.5592\n",
      "[LightGBM] [Warning] feature_fraction is set=0.5539809524414447, colsample_bytree=0.8 will be ignored. Current value: feature_fraction=0.5539809524414447\n",
      "[LightGBM] [Warning] bagging_fraction is set=0.4373452507916544, subsample=0.7 will be ignored. Current value: bagging_fraction=0.4373452507916544\n",
      "[LightGBM] [Warning] bagging_freq is set=6, subsample_freq=0 will be ignored. Current value: bagging_freq=6\n",
      "Training until validation scores don't improve for 100 rounds\n",
      "[100]\ttraining's l1: 2.64014\tvalid_1's l1: 2.61479\n",
      "[200]\ttraining's l1: 2.61139\tvalid_1's l1: 2.58957\n",
      "[300]\ttraining's l1: 2.59426\tvalid_1's l1: 2.57586\n",
      "[400]\ttraining's l1: 2.58829\tvalid_1's l1: 2.57415\n",
      "[500]\ttraining's l1: 2.58255\tvalid_1's l1: 2.56683\n",
      "[600]\ttraining's l1: 2.57794\tvalid_1's l1: 2.56675\n",
      "[700]\ttraining's l1: 2.57262\tvalid_1's l1: 2.5655\n",
      "[800]\ttraining's l1: 2.56595\tvalid_1's l1: 2.56549\n"
     ]
    },
    {
     "name": "stderr",
     "output_type": "stream",
     "text": [
      "\u001b[32m[I 2021-07-29 23:32:56,376]\u001b[0m Trial 54 finished with value: -2.5640871704080337 and parameters: {'max_depth': 4, 'min_child_weight': 12, 'subsample': 0.7, 'colsample_bytree': 0.8, 'reg_lambda': 0.021545604306582523, 'reg_alpha': 0.26543841783578837, 'feature_fraction': 0.5539809524414447, 'bagging_fraction': 0.4373452507916544, 'bagging_freq': 6, 'num_leaves': 43, 'min_child_samples': 59}. Best is trial 42 with value: -2.5426393658701856.\u001b[0m\n"
     ]
    },
    {
     "name": "stdout",
     "output_type": "stream",
     "text": [
      "Early stopping, best iteration is:\n",
      "[775]\ttraining's l1: 2.56698\tvalid_1's l1: 2.56509\n",
      "[LightGBM] [Warning] feature_fraction is set=0.38387280122041184, colsample_bytree=0.7 will be ignored. Current value: feature_fraction=0.38387280122041184\n",
      "[LightGBM] [Warning] bagging_fraction is set=0.8072843400457952, subsample=0.9 will be ignored. Current value: bagging_fraction=0.8072843400457952\n",
      "[LightGBM] [Warning] bagging_freq is set=10, subsample_freq=0 will be ignored. Current value: bagging_freq=10\n",
      "Training until validation scores don't improve for 100 rounds\n",
      "[100]\ttraining's l1: 2.59679\tvalid_1's l1: 2.58699\n",
      "[200]\ttraining's l1: 2.56505\tvalid_1's l1: 2.56946\n",
      "[300]\ttraining's l1: 2.55135\tvalid_1's l1: 2.56312\n",
      "[400]\ttraining's l1: 2.54376\tvalid_1's l1: 2.56156\n",
      "[500]\ttraining's l1: 2.53798\tvalid_1's l1: 2.55995\n",
      "[600]\ttraining's l1: 2.53076\tvalid_1's l1: 2.55814\n",
      "[700]\ttraining's l1: 2.52277\tvalid_1's l1: 2.55606\n"
     ]
    },
    {
     "name": "stderr",
     "output_type": "stream",
     "text": [
      "\u001b[32m[I 2021-07-29 23:33:02,775]\u001b[0m Trial 55 finished with value: -2.5547572601360176 and parameters: {'max_depth': 5, 'min_child_weight': 14, 'subsample': 0.9, 'colsample_bytree': 0.7, 'reg_lambda': 0.004928109731954036, 'reg_alpha': 0.0038979810793981664, 'feature_fraction': 0.38387280122041184, 'bagging_fraction': 0.8072843400457952, 'bagging_freq': 10, 'num_leaves': 391, 'min_child_samples': 41}. Best is trial 42 with value: -2.5426393658701856.\u001b[0m\n"
     ]
    },
    {
     "name": "stdout",
     "output_type": "stream",
     "text": [
      "Early stopping, best iteration is:\n",
      "[689]\ttraining's l1: 2.523\tvalid_1's l1: 2.55574\n",
      "[LightGBM] [Warning] feature_fraction is set=0.36282969343391497, colsample_bytree=0.9 will be ignored. Current value: feature_fraction=0.36282969343391497\n",
      "[LightGBM] [Warning] bagging_fraction is set=0.8731333703792445, subsample=0.6 will be ignored. Current value: bagging_fraction=0.8731333703792445\n",
      "[LightGBM] [Warning] bagging_freq is set=20, subsample_freq=0 will be ignored. Current value: bagging_freq=20\n",
      "Training until validation scores don't improve for 100 rounds\n",
      "[100]\ttraining's l1: 2.56451\tvalid_1's l1: 2.58471\n",
      "[200]\ttraining's l1: 2.5326\tvalid_1's l1: 2.56591\n",
      "[300]\ttraining's l1: 2.51462\tvalid_1's l1: 2.56228\n",
      "[400]\ttraining's l1: 2.49522\tvalid_1's l1: 2.55408\n",
      "[500]\ttraining's l1: 2.48759\tvalid_1's l1: 2.55392\n",
      "[600]\ttraining's l1: 2.47816\tvalid_1's l1: 2.55385\n"
     ]
    },
    {
     "name": "stderr",
     "output_type": "stream",
     "text": [
      "\u001b[32m[I 2021-07-29 23:33:08,870]\u001b[0m Trial 56 finished with value: -2.5524099441153507 and parameters: {'max_depth': 6, 'min_child_weight': 6, 'subsample': 0.6, 'colsample_bytree': 0.9, 'reg_lambda': 0.07390306941426568, 'reg_alpha': 1.8984890573675832, 'feature_fraction': 0.36282969343391497, 'bagging_fraction': 0.8731333703792445, 'bagging_freq': 20, 'num_leaves': 185, 'min_child_samples': 26}. Best is trial 42 with value: -2.5426393658701856.\u001b[0m\n"
     ]
    },
    {
     "name": "stdout",
     "output_type": "stream",
     "text": [
      "Early stopping, best iteration is:\n",
      "[549]\ttraining's l1: 2.48413\tvalid_1's l1: 2.55317\n",
      "[LightGBM] [Warning] feature_fraction is set=0.44260531294088146, colsample_bytree=0.8 will be ignored. Current value: feature_fraction=0.44260531294088146\n",
      "[LightGBM] [Warning] bagging_fraction is set=0.9611074611092952, subsample=0.5 will be ignored. Current value: bagging_fraction=0.9611074611092952\n",
      "[LightGBM] [Warning] bagging_freq is set=5, subsample_freq=0 will be ignored. Current value: bagging_freq=5\n",
      "Training until validation scores don't improve for 100 rounds\n",
      "[100]\ttraining's l1: 2.47769\tvalid_1's l1: 2.55669\n",
      "[200]\ttraining's l1: 2.41132\tvalid_1's l1: 2.55339\n"
     ]
    },
    {
     "name": "stderr",
     "output_type": "stream",
     "text": [
      "\u001b[32m[I 2021-07-29 23:33:14,018]\u001b[0m Trial 57 finished with value: -2.551978774473714 and parameters: {'max_depth': 11, 'min_child_weight': 9, 'subsample': 0.5, 'colsample_bytree': 0.8, 'reg_lambda': 0.25505306700520214, 'reg_alpha': 0.10772139628909717, 'feature_fraction': 0.44260531294088146, 'bagging_fraction': 0.9611074611092952, 'bagging_freq': 5, 'num_leaves': 249, 'min_child_samples': 52}. Best is trial 42 with value: -2.5426393658701856.\u001b[0m\n"
     ]
    },
    {
     "name": "stdout",
     "output_type": "stream",
     "text": [
      "Early stopping, best iteration is:\n",
      "[140]\ttraining's l1: 2.4503\tvalid_1's l1: 2.55229\n",
      "[LightGBM] [Warning] feature_fraction is set=0.41423372318940554, colsample_bytree=0.6 will be ignored. Current value: feature_fraction=0.41423372318940554\n",
      "[LightGBM] [Warning] bagging_fraction is set=0.8988254141716467, subsample=0.6 will be ignored. Current value: bagging_fraction=0.8988254141716467\n",
      "[LightGBM] [Warning] bagging_freq is set=13, subsample_freq=0 will be ignored. Current value: bagging_freq=13\n",
      "Training until validation scores don't improve for 100 rounds\n",
      "[100]\ttraining's l1: 2.63101\tvalid_1's l1: 2.61027\n",
      "[200]\ttraining's l1: 2.59806\tvalid_1's l1: 2.58637\n",
      "[300]\ttraining's l1: 2.58502\tvalid_1's l1: 2.57674\n",
      "[400]\ttraining's l1: 2.57166\tvalid_1's l1: 2.56608\n",
      "[500]\ttraining's l1: 2.56604\tvalid_1's l1: 2.56529\n",
      "[600]\ttraining's l1: 2.56047\tvalid_1's l1: 2.5623\n",
      "[700]\ttraining's l1: 2.55657\tvalid_1's l1: 2.56139\n"
     ]
    },
    {
     "name": "stderr",
     "output_type": "stream",
     "text": [
      "\u001b[32m[I 2021-07-29 23:33:20,422]\u001b[0m Trial 58 finished with value: -2.5602796651342614 and parameters: {'max_depth': 4, 'min_child_weight': 16, 'subsample': 0.6, 'colsample_bytree': 0.6, 'reg_lambda': 0.010410734690822035, 'reg_alpha': 0.268889434766109, 'feature_fraction': 0.41423372318940554, 'bagging_fraction': 0.8988254141716467, 'bagging_freq': 13, 'num_leaves': 299, 'min_child_samples': 32}. Best is trial 42 with value: -2.5426393658701856.\u001b[0m\n"
     ]
    },
    {
     "name": "stdout",
     "output_type": "stream",
     "text": [
      "Early stopping, best iteration is:\n",
      "[672]\ttraining's l1: 2.5572\tvalid_1's l1: 2.56099\n",
      "[LightGBM] [Warning] feature_fraction is set=0.3166083485103176, colsample_bytree=0.8 will be ignored. Current value: feature_fraction=0.3166083485103176\n",
      "[LightGBM] [Warning] bagging_fraction is set=0.7626508587056811, subsample=0.8 will be ignored. Current value: bagging_fraction=0.7626508587056811\n",
      "[LightGBM] [Warning] bagging_freq is set=7, subsample_freq=0 will be ignored. Current value: bagging_freq=7\n",
      "Training until validation scores don't improve for 100 rounds\n",
      "[100]\ttraining's l1: 2.53098\tvalid_1's l1: 2.5753\n",
      "[200]\ttraining's l1: 2.49573\tvalid_1's l1: 2.56377\n",
      "[300]\ttraining's l1: 2.47866\tvalid_1's l1: 2.56145\n",
      "[400]\ttraining's l1: 2.46516\tvalid_1's l1: 2.56078\n",
      "[500]\ttraining's l1: 2.45348\tvalid_1's l1: 2.56018\n",
      "Early stopping, best iteration is:\n",
      "[423]\ttraining's l1: 2.46194\tvalid_1's l1: 2.55983\n"
     ]
    },
    {
     "name": "stderr",
     "output_type": "stream",
     "text": [
      "\u001b[32m[I 2021-07-29 23:33:26,049]\u001b[0m Trial 59 finished with value: -2.558941477529349 and parameters: {'max_depth': 8, 'min_child_weight': 11, 'subsample': 0.8, 'colsample_bytree': 0.8, 'reg_lambda': 0.0029701812128534533, 'reg_alpha': 0.7543910744834524, 'feature_fraction': 0.3166083485103176, 'bagging_fraction': 0.7626508587056811, 'bagging_freq': 7, 'num_leaves': 146, 'min_child_samples': 63}. Best is trial 42 with value: -2.5426393658701856.\u001b[0m\n"
     ]
    },
    {
     "name": "stdout",
     "output_type": "stream",
     "text": [
      "[LightGBM] [Warning] feature_fraction is set=0.5285010031614764, colsample_bytree=0.7 will be ignored. Current value: feature_fraction=0.5285010031614764\n",
      "[LightGBM] [Warning] bagging_fraction is set=0.8350182856646398, subsample=0.7 will be ignored. Current value: bagging_fraction=0.8350182856646398\n",
      "[LightGBM] [Warning] bagging_freq is set=9, subsample_freq=0 will be ignored. Current value: bagging_freq=9\n",
      "Training until validation scores don't improve for 100 rounds\n",
      "[100]\ttraining's l1: 2.48714\tvalid_1's l1: 2.56242\n",
      "[200]\ttraining's l1: 2.42409\tvalid_1's l1: 2.55377\n"
     ]
    },
    {
     "name": "stderr",
     "output_type": "stream",
     "text": [
      "\u001b[32m[I 2021-07-29 23:33:31,454]\u001b[0m Trial 60 finished with value: -2.5529980180832648 and parameters: {'max_depth': 9, 'min_child_weight': 10, 'subsample': 0.7, 'colsample_bytree': 0.7, 'reg_lambda': 0.16315179611416716, 'reg_alpha': 5.0870018301457405, 'feature_fraction': 0.5285010031614764, 'bagging_fraction': 0.8350182856646398, 'bagging_freq': 9, 'num_leaves': 456, 'min_child_samples': 38}. Best is trial 42 with value: -2.5426393658701856.\u001b[0m\n"
     ]
    },
    {
     "name": "stdout",
     "output_type": "stream",
     "text": [
      "Early stopping, best iteration is:\n",
      "[197]\ttraining's l1: 2.42557\tvalid_1's l1: 2.55366\n",
      "[LightGBM] [Warning] feature_fraction is set=0.7573714900816408, colsample_bytree=0.9 will be ignored. Current value: feature_fraction=0.7573714900816408\n",
      "[LightGBM] [Warning] bagging_fraction is set=0.8002847009597979, subsample=0.7 will be ignored. Current value: bagging_fraction=0.8002847009597979\n",
      "[LightGBM] [Warning] bagging_freq is set=12, subsample_freq=0 will be ignored. Current value: bagging_freq=12\n",
      "Training until validation scores don't improve for 100 rounds\n",
      "[100]\ttraining's l1: 2.55866\tvalid_1's l1: 2.57277\n",
      "[200]\ttraining's l1: 2.53739\tvalid_1's l1: 2.56298\n",
      "[300]\ttraining's l1: 2.52319\tvalid_1's l1: 2.55877\n",
      "[400]\ttraining's l1: 2.51154\tvalid_1's l1: 2.55728\n",
      "[500]\ttraining's l1: 2.50423\tvalid_1's l1: 2.55656\n"
     ]
    },
    {
     "name": "stderr",
     "output_type": "stream",
     "text": [
      "\u001b[32m[I 2021-07-29 23:33:36,387]\u001b[0m Trial 61 finished with value: -2.5558605405096135 and parameters: {'max_depth': 6, 'min_child_weight': 9, 'subsample': 0.7, 'colsample_bytree': 0.9, 'reg_lambda': 0.0029316882521631354, 'reg_alpha': 0.015543509945778437, 'feature_fraction': 0.7573714900816408, 'bagging_fraction': 0.8002847009597979, 'bagging_freq': 12, 'num_leaves': 160, 'min_child_samples': 45}. Best is trial 42 with value: -2.5426393658701856.\u001b[0m\n"
     ]
    },
    {
     "name": "stdout",
     "output_type": "stream",
     "text": [
      "[600]\ttraining's l1: 2.49775\tvalid_1's l1: 2.55776\n",
      "Early stopping, best iteration is:\n",
      "[501]\ttraining's l1: 2.50411\tvalid_1's l1: 2.55652\n",
      "[LightGBM] [Warning] feature_fraction is set=0.6268311596084606, colsample_bytree=0.9 will be ignored. Current value: feature_fraction=0.6268311596084606\n",
      "[LightGBM] [Warning] bagging_fraction is set=0.7022408050448291, subsample=0.7 will be ignored. Current value: bagging_fraction=0.7022408050448291\n",
      "[LightGBM] [Warning] bagging_freq is set=14, subsample_freq=0 will be ignored. Current value: bagging_freq=14\n",
      "Training until validation scores don't improve for 100 rounds\n",
      "[100]\ttraining's l1: 2.54031\tvalid_1's l1: 2.56837\n",
      "[200]\ttraining's l1: 2.51587\tvalid_1's l1: 2.56034\n",
      "[300]\ttraining's l1: 2.48575\tvalid_1's l1: 2.55314\n"
     ]
    },
    {
     "name": "stderr",
     "output_type": "stream",
     "text": [
      "\u001b[32m[I 2021-07-29 23:33:40,832]\u001b[0m Trial 62 finished with value: -2.551695261172268 and parameters: {'max_depth': 7, 'min_child_weight': 7, 'subsample': 0.7, 'colsample_bytree': 0.9, 'reg_lambda': 0.001798681677882595, 'reg_alpha': 0.028449755069188905, 'feature_fraction': 0.6268311596084606, 'bagging_fraction': 0.7022408050448291, 'bagging_freq': 14, 'num_leaves': 105, 'min_child_samples': 43}. Best is trial 42 with value: -2.5426393658701856.\u001b[0m\n"
     ]
    },
    {
     "name": "stdout",
     "output_type": "stream",
     "text": [
      "[400]\ttraining's l1: 2.47747\tvalid_1's l1: 2.55266\n",
      "Early stopping, best iteration is:\n",
      "[307]\ttraining's l1: 2.48474\tvalid_1's l1: 2.55243\n",
      "[LightGBM] [Warning] feature_fraction is set=0.6050304235661186, colsample_bytree=0.9 will be ignored. Current value: feature_fraction=0.6050304235661186\n",
      "[LightGBM] [Warning] bagging_fraction is set=0.574468957168548, subsample=0.7 will be ignored. Current value: bagging_fraction=0.574468957168548\n",
      "[LightGBM] [Warning] bagging_freq is set=12, subsample_freq=0 will be ignored. Current value: bagging_freq=12\n",
      "Training until validation scores don't improve for 100 rounds\n",
      "[100]\ttraining's l1: 2.60286\tvalid_1's l1: 2.58273\n",
      "[200]\ttraining's l1: 2.57586\tvalid_1's l1: 2.56285\n",
      "[300]\ttraining's l1: 2.56303\tvalid_1's l1: 2.55974\n",
      "[400]\ttraining's l1: 2.55372\tvalid_1's l1: 2.55624\n",
      "[500]\ttraining's l1: 2.54669\tvalid_1's l1: 2.55444\n",
      "[600]\ttraining's l1: 2.54079\tvalid_1's l1: 2.55242\n",
      "[700]\ttraining's l1: 2.53433\tvalid_1's l1: 2.55178\n"
     ]
    },
    {
     "name": "stderr",
     "output_type": "stream",
     "text": [
      "\u001b[32m[I 2021-07-29 23:33:46,483]\u001b[0m Trial 63 finished with value: -2.5503177652575957 and parameters: {'max_depth': 5, 'min_child_weight': 9, 'subsample': 0.7, 'colsample_bytree': 0.9, 'reg_lambda': 0.01393580723032492, 'reg_alpha': 0.007985493060484983, 'feature_fraction': 0.6050304235661186, 'bagging_fraction': 0.574468957168548, 'bagging_freq': 12, 'num_leaves': 226, 'min_child_samples': 48}. Best is trial 42 with value: -2.5426393658701856.\u001b[0m\n"
     ]
    },
    {
     "name": "stdout",
     "output_type": "stream",
     "text": [
      "Early stopping, best iteration is:\n",
      "[659]\ttraining's l1: 2.53644\tvalid_1's l1: 2.55128\n",
      "[LightGBM] [Warning] feature_fraction is set=0.7471692255832341, colsample_bytree=0.9 will be ignored. Current value: feature_fraction=0.7471692255832341\n",
      "[LightGBM] [Warning] bagging_fraction is set=0.6469147865012126, subsample=0.7 will be ignored. Current value: bagging_fraction=0.6469147865012126\n",
      "[LightGBM] [Warning] bagging_freq is set=11, subsample_freq=0 will be ignored. Current value: bagging_freq=11\n",
      "Training until validation scores don't improve for 100 rounds\n",
      "[100]\ttraining's l1: 2.5653\tvalid_1's l1: 2.573\n",
      "[200]\ttraining's l1: 2.53784\tvalid_1's l1: 2.558\n",
      "[300]\ttraining's l1: 2.52736\tvalid_1's l1: 2.55633\n",
      "[400]\ttraining's l1: 2.51568\tvalid_1's l1: 2.55402\n",
      "[500]\ttraining's l1: 2.50608\tvalid_1's l1: 2.55351\n",
      "[600]\ttraining's l1: 2.49555\tvalid_1's l1: 2.55059\n"
     ]
    },
    {
     "name": "stderr",
     "output_type": "stream",
     "text": [
      "\u001b[32m[I 2021-07-29 23:33:51,525]\u001b[0m Trial 64 finished with value: -2.549249940860163 and parameters: {'max_depth': 6, 'min_child_weight': 12, 'subsample': 0.7, 'colsample_bytree': 0.9, 'reg_lambda': 0.005713299721469566, 'reg_alpha': 0.0025516235764401784, 'feature_fraction': 0.7471692255832341, 'bagging_fraction': 0.6469147865012126, 'bagging_freq': 11, 'num_leaves': 194, 'min_child_samples': 44}. Best is trial 42 with value: -2.5426393658701856.\u001b[0m\n"
     ]
    },
    {
     "name": "stdout",
     "output_type": "stream",
     "text": [
      "Early stopping, best iteration is:\n",
      "[596]\ttraining's l1: 2.49583\tvalid_1's l1: 2.55028\n",
      "[LightGBM] [Warning] feature_fraction is set=0.6473729855712625, colsample_bytree=0.9 will be ignored. Current value: feature_fraction=0.6473729855712625\n",
      "[LightGBM] [Warning] bagging_fraction is set=0.9129599114748435, subsample=0.6 will be ignored. Current value: bagging_fraction=0.9129599114748435\n",
      "[LightGBM] [Warning] bagging_freq is set=3, subsample_freq=0 will be ignored. Current value: bagging_freq=3\n",
      "Training until validation scores don't improve for 100 rounds\n",
      "[100]\ttraining's l1: 2.68152\tvalid_1's l1: 2.64865\n",
      "[200]\ttraining's l1: 2.64017\tvalid_1's l1: 2.61288\n",
      "[300]\ttraining's l1: 2.62539\tvalid_1's l1: 2.6022\n",
      "[400]\ttraining's l1: 2.61434\tvalid_1's l1: 2.5948\n",
      "[500]\ttraining's l1: 2.60646\tvalid_1's l1: 2.58833\n",
      "[600]\ttraining's l1: 2.60091\tvalid_1's l1: 2.58504\n",
      "[700]\ttraining's l1: 2.59679\tvalid_1's l1: 2.58266\n",
      "[800]\ttraining's l1: 2.59178\tvalid_1's l1: 2.57963\n",
      "[900]\ttraining's l1: 2.58706\tvalid_1's l1: 2.57607\n",
      "[1000]\ttraining's l1: 2.58422\tvalid_1's l1: 2.57511\n",
      "[1100]\ttraining's l1: 2.58107\tvalid_1's l1: 2.57355\n",
      "[1200]\ttraining's l1: 2.57806\tvalid_1's l1: 2.57077\n",
      "[1300]\ttraining's l1: 2.57649\tvalid_1's l1: 2.56921\n",
      "[1400]\ttraining's l1: 2.57419\tvalid_1's l1: 2.56646\n",
      "[1500]\ttraining's l1: 2.56955\tvalid_1's l1: 2.56385\n",
      "[1600]\ttraining's l1: 2.56649\tvalid_1's l1: 2.56277\n",
      "[1700]\ttraining's l1: 2.56439\tvalid_1's l1: 2.56178\n",
      "[1800]\ttraining's l1: 2.56229\tvalid_1's l1: 2.55944\n",
      "[1900]\ttraining's l1: 2.56026\tvalid_1's l1: 2.5581\n",
      "Early stopping, best iteration is:\n",
      "[1875]\ttraining's l1: 2.56041\tvalid_1's l1: 2.55802\n"
     ]
    },
    {
     "name": "stderr",
     "output_type": "stream",
     "text": [
      "\u001b[32m[I 2021-07-29 23:34:07,795]\u001b[0m Trial 65 finished with value: -2.5570307755108495 and parameters: {'max_depth': 3, 'min_child_weight': 8, 'subsample': 0.6, 'colsample_bytree': 0.9, 'reg_lambda': 0.0010927148193172922, 'reg_alpha': 0.001024706246919015, 'feature_fraction': 0.6473729855712625, 'bagging_fraction': 0.9129599114748435, 'bagging_freq': 3, 'num_leaves': 350, 'min_child_samples': 50}. Best is trial 42 with value: -2.5426393658701856.\u001b[0m\n"
     ]
    },
    {
     "name": "stdout",
     "output_type": "stream",
     "text": [
      "[LightGBM] [Warning] feature_fraction is set=0.578636474044188, colsample_bytree=0.7 will be ignored. Current value: feature_fraction=0.578636474044188\n",
      "[LightGBM] [Warning] bagging_fraction is set=0.7448960182843279, subsample=0.5 will be ignored. Current value: bagging_fraction=0.7448960182843279\n",
      "[LightGBM] [Warning] bagging_freq is set=10, subsample_freq=0 will be ignored. Current value: bagging_freq=10\n",
      "Training until validation scores don't improve for 100 rounds\n",
      "[100]\ttraining's l1: 2.5402\tvalid_1's l1: 2.56689\n",
      "[200]\ttraining's l1: 2.51412\tvalid_1's l1: 2.55567\n",
      "[300]\ttraining's l1: 2.49892\tvalid_1's l1: 2.55485\n",
      "[400]\ttraining's l1: 2.48193\tvalid_1's l1: 2.55364\n"
     ]
    },
    {
     "name": "stderr",
     "output_type": "stream",
     "text": [
      "\u001b[32m[I 2021-07-29 23:34:13,350]\u001b[0m Trial 66 finished with value: -2.552845576726327 and parameters: {'max_depth': 7, 'min_child_weight': 13, 'subsample': 0.5, 'colsample_bytree': 0.7, 'reg_lambda': 0.027430849774859583, 'reg_alpha': 0.18012236185210606, 'feature_fraction': 0.578636474044188, 'bagging_fraction': 0.7448960182843279, 'bagging_freq': 10, 'num_leaves': 407, 'min_child_samples': 55}. Best is trial 42 with value: -2.5426393658701856.\u001b[0m\n"
     ]
    },
    {
     "name": "stdout",
     "output_type": "stream",
     "text": [
      "Early stopping, best iteration is:\n",
      "[355]\ttraining's l1: 2.48782\tvalid_1's l1: 2.55347\n",
      "[LightGBM] [Warning] feature_fraction is set=0.23710140133446062, colsample_bytree=0.8 will be ignored. Current value: feature_fraction=0.23710140133446062\n",
      "[LightGBM] [Warning] bagging_fraction is set=0.8136662182224264, subsample=0.8 will be ignored. Current value: bagging_fraction=0.8136662182224264\n",
      "[LightGBM] [Warning] bagging_freq is set=2, subsample_freq=0 will be ignored. Current value: bagging_freq=2\n",
      "Training until validation scores don't improve for 100 rounds\n",
      "[100]\ttraining's l1: 2.51833\tvalid_1's l1: 2.57144\n",
      "[200]\ttraining's l1: 2.47271\tvalid_1's l1: 2.56136\n",
      "[300]\ttraining's l1: 2.45209\tvalid_1's l1: 2.55968\n",
      "[400]\ttraining's l1: 2.43583\tvalid_1's l1: 2.55875\n",
      "[500]\ttraining's l1: 2.42219\tvalid_1's l1: 2.55785\n",
      "Early stopping, best iteration is:\n",
      "[494]\ttraining's l1: 2.42348\tvalid_1's l1: 2.55767\n"
     ]
    },
    {
     "name": "stderr",
     "output_type": "stream",
     "text": [
      "\u001b[32m[I 2021-07-29 23:34:19,259]\u001b[0m Trial 67 finished with value: -2.5564635787331444 and parameters: {'max_depth': 8, 'min_child_weight': 10, 'subsample': 0.8, 'colsample_bytree': 0.8, 'reg_lambda': 0.0535385724247554, 'reg_alpha': 1.3141184796164411, 'feature_fraction': 0.23710140133446062, 'bagging_fraction': 0.8136662182224264, 'bagging_freq': 2, 'num_leaves': 294, 'min_child_samples': 39}. Best is trial 42 with value: -2.5426393658701856.\u001b[0m\n"
     ]
    },
    {
     "name": "stdout",
     "output_type": "stream",
     "text": [
      "[LightGBM] [Warning] feature_fraction is set=0.4598776969255886, colsample_bytree=0.9 will be ignored. Current value: feature_fraction=0.4598776969255886\n",
      "[LightGBM] [Warning] bagging_fraction is set=0.8557541227745844, subsample=0.5 will be ignored. Current value: bagging_fraction=0.8557541227745844\n",
      "[LightGBM] [Warning] bagging_freq is set=8, subsample_freq=0 will be ignored. Current value: bagging_freq=8\n",
      "Training until validation scores don't improve for 100 rounds\n",
      "[100]\ttraining's l1: 2.69273\tvalid_1's l1: 2.66831\n",
      "[200]\ttraining's l1: 2.64816\tvalid_1's l1: 2.61788\n",
      "[300]\ttraining's l1: 2.62289\tvalid_1's l1: 2.59887\n",
      "[400]\ttraining's l1: 2.6135\tvalid_1's l1: 2.59312\n",
      "[500]\ttraining's l1: 2.60448\tvalid_1's l1: 2.58669\n",
      "[600]\ttraining's l1: 2.60101\tvalid_1's l1: 2.58338\n",
      "[700]\ttraining's l1: 2.59671\tvalid_1's l1: 2.57926\n",
      "[800]\ttraining's l1: 2.59359\tvalid_1's l1: 2.57608\n",
      "[900]\ttraining's l1: 2.58756\tvalid_1's l1: 2.57114\n",
      "[1000]\ttraining's l1: 2.58375\tvalid_1's l1: 2.56892\n",
      "[1100]\ttraining's l1: 2.58128\tvalid_1's l1: 2.56842\n",
      "[1200]\ttraining's l1: 2.57717\tvalid_1's l1: 2.56591\n",
      "[1300]\ttraining's l1: 2.57547\tvalid_1's l1: 2.56493\n",
      "[1400]\ttraining's l1: 2.57333\tvalid_1's l1: 2.56511\n",
      "[1500]\ttraining's l1: 2.57073\tvalid_1's l1: 2.56307\n",
      "[1600]\ttraining's l1: 2.56875\tvalid_1's l1: 2.56183\n",
      "[1700]\ttraining's l1: 2.56725\tvalid_1's l1: 2.56167\n",
      "[1800]\ttraining's l1: 2.56361\tvalid_1's l1: 2.55898\n",
      "[1900]\ttraining's l1: 2.56242\tvalid_1's l1: 2.55885\n",
      "[2000]\ttraining's l1: 2.56105\tvalid_1's l1: 2.55845\n",
      "[2100]\ttraining's l1: 2.55912\tvalid_1's l1: 2.55801\n",
      "Early stopping, best iteration is:\n",
      "[2015]\ttraining's l1: 2.56055\tvalid_1's l1: 2.55792\n"
     ]
    },
    {
     "name": "stderr",
     "output_type": "stream",
     "text": [
      "\u001b[32m[I 2021-07-29 23:34:35,478]\u001b[0m Trial 68 finished with value: -2.5564605405661163 and parameters: {'max_depth': 3, 'min_child_weight': 11, 'subsample': 0.5, 'colsample_bytree': 0.9, 'reg_lambda': 0.12215333394085308, 'reg_alpha': 0.3990684884861144, 'feature_fraction': 0.4598776969255886, 'bagging_fraction': 0.8557541227745844, 'bagging_freq': 8, 'num_leaves': 165, 'min_child_samples': 34}. Best is trial 42 with value: -2.5426393658701856.\u001b[0m\n"
     ]
    },
    {
     "name": "stdout",
     "output_type": "stream",
     "text": [
      "[LightGBM] [Warning] feature_fraction is set=0.4886490667620275, colsample_bytree=0.7 will be ignored. Current value: feature_fraction=0.4886490667620275\n",
      "[LightGBM] [Warning] bagging_fraction is set=0.7803560309164155, subsample=0.6 will be ignored. Current value: bagging_fraction=0.7803560309164155\n",
      "[LightGBM] [Warning] bagging_freq is set=5, subsample_freq=0 will be ignored. Current value: bagging_freq=5\n",
      "Training until validation scores don't improve for 100 rounds\n",
      "[100]\ttraining's l1: 2.59865\tvalid_1's l1: 2.58952\n",
      "[200]\ttraining's l1: 2.57213\tvalid_1's l1: 2.56958\n",
      "[300]\ttraining's l1: 2.56072\tvalid_1's l1: 2.56386\n",
      "[400]\ttraining's l1: 2.54959\tvalid_1's l1: 2.55864\n",
      "[500]\ttraining's l1: 2.5391\tvalid_1's l1: 2.55519\n",
      "[600]\ttraining's l1: 2.53219\tvalid_1's l1: 2.55523\n"
     ]
    },
    {
     "name": "stderr",
     "output_type": "stream",
     "text": [
      "\u001b[32m[I 2021-07-29 23:34:41,483]\u001b[0m Trial 69 finished with value: -2.553073734729137 and parameters: {'max_depth': 5, 'min_child_weight': 6, 'subsample': 0.6, 'colsample_bytree': 0.7, 'reg_lambda': 0.01929424270182626, 'reg_alpha': 0.058076225217972406, 'feature_fraction': 0.4886490667620275, 'bagging_fraction': 0.7803560309164155, 'bagging_freq': 5, 'num_leaves': 209, 'min_child_samples': 66}. Best is trial 42 with value: -2.5426393658701856.\u001b[0m\n"
     ]
    },
    {
     "name": "stdout",
     "output_type": "stream",
     "text": [
      "Early stopping, best iteration is:\n",
      "[562]\ttraining's l1: 2.53541\tvalid_1's l1: 2.55373\n",
      "[LightGBM] [Warning] feature_fraction is set=0.38512947489225885, colsample_bytree=0.9 will be ignored. Current value: feature_fraction=0.38512947489225885\n",
      "[LightGBM] [Warning] bagging_fraction is set=0.9316801400700849, subsample=0.7 will be ignored. Current value: bagging_fraction=0.9316801400700849\n",
      "[LightGBM] [Warning] bagging_freq is set=15, subsample_freq=0 will be ignored. Current value: bagging_freq=15\n",
      "Training until validation scores don't improve for 100 rounds\n",
      "[100]\ttraining's l1: 2.41942\tvalid_1's l1: 2.56949\n",
      "[200]\ttraining's l1: 2.32732\tvalid_1's l1: 2.56478\n"
     ]
    },
    {
     "name": "stderr",
     "output_type": "stream",
     "text": [
      "\u001b[32m[I 2021-07-29 23:34:50,109]\u001b[0m Trial 70 finished with value: -2.5634244272595956 and parameters: {'max_depth': 15, 'min_child_weight': 20, 'subsample': 0.7, 'colsample_bytree': 0.9, 'reg_lambda': 0.03150037368505077, 'reg_alpha': 0.6331823418924485, 'feature_fraction': 0.38512947489225885, 'bagging_fraction': 0.9316801400700849, 'bagging_freq': 15, 'num_leaves': 525, 'min_child_samples': 58}. Best is trial 42 with value: -2.5426393658701856.\u001b[0m\n"
     ]
    },
    {
     "name": "stdout",
     "output_type": "stream",
     "text": [
      "Early stopping, best iteration is:\n",
      "[197]\ttraining's l1: 2.32896\tvalid_1's l1: 2.56427\n",
      "[LightGBM] [Warning] feature_fraction is set=0.4067204259554546, colsample_bytree=0.8 will be ignored. Current value: feature_fraction=0.4067204259554546\n",
      "[LightGBM] [Warning] bagging_fraction is set=0.8885812447027494, subsample=0.6 will be ignored. Current value: bagging_fraction=0.8885812447027494\n",
      "[LightGBM] [Warning] bagging_freq is set=4, subsample_freq=0 will be ignored. Current value: bagging_freq=4\n",
      "Training until validation scores don't improve for 100 rounds\n",
      "[100]\ttraining's l1: 2.56589\tvalid_1's l1: 2.57293\n",
      "[200]\ttraining's l1: 2.54018\tvalid_1's l1: 2.55914\n",
      "[300]\ttraining's l1: 2.52941\tvalid_1's l1: 2.55651\n",
      "[400]\ttraining's l1: 2.51853\tvalid_1's l1: 2.55315\n",
      "[500]\ttraining's l1: 2.51027\tvalid_1's l1: 2.55145\n"
     ]
    },
    {
     "name": "stderr",
     "output_type": "stream",
     "text": [
      "\u001b[32m[I 2021-07-29 23:34:56,301]\u001b[0m Trial 71 finished with value: -2.550477541226308 and parameters: {'max_depth': 6, 'min_child_weight': 16, 'subsample': 0.6, 'colsample_bytree': 0.8, 'reg_lambda': 0.0142176780712378, 'reg_alpha': 0.3550684608865361, 'feature_fraction': 0.4067204259554546, 'bagging_fraction': 0.8885812447027494, 'bagging_freq': 4, 'num_leaves': 377, 'min_child_samples': 78}. Best is trial 42 with value: -2.5426393658701856.\u001b[0m\n"
     ]
    },
    {
     "name": "stdout",
     "output_type": "stream",
     "text": [
      "Early stopping, best iteration is:\n",
      "[493]\ttraining's l1: 2.51068\tvalid_1's l1: 2.55123\n",
      "[LightGBM] [Warning] feature_fraction is set=0.33883371774406684, colsample_bytree=0.7 will be ignored. Current value: feature_fraction=0.33883371774406684\n",
      "[LightGBM] [Warning] bagging_fraction is set=0.9131273869282215, subsample=0.5 will be ignored. Current value: bagging_fraction=0.9131273869282215\n",
      "[LightGBM] [Warning] bagging_freq is set=4, subsample_freq=0 will be ignored. Current value: bagging_freq=4\n",
      "Training until validation scores don't improve for 100 rounds\n",
      "[100]\ttraining's l1: 2.64363\tvalid_1's l1: 2.62308\n",
      "[200]\ttraining's l1: 2.60519\tvalid_1's l1: 2.58787\n",
      "[300]\ttraining's l1: 2.59428\tvalid_1's l1: 2.58043\n",
      "[400]\ttraining's l1: 2.58556\tvalid_1's l1: 2.57693\n",
      "[500]\ttraining's l1: 2.57587\tvalid_1's l1: 2.57274\n",
      "[600]\ttraining's l1: 2.56911\tvalid_1's l1: 2.56771\n",
      "[700]\ttraining's l1: 2.56504\tvalid_1's l1: 2.56768\n",
      "[800]\ttraining's l1: 2.56031\tvalid_1's l1: 2.56686\n",
      "[900]\ttraining's l1: 2.55595\tvalid_1's l1: 2.56413\n",
      "[1000]\ttraining's l1: 2.55135\tvalid_1's l1: 2.56371\n",
      "[1100]\ttraining's l1: 2.54767\tvalid_1's l1: 2.56247\n",
      "[1200]\ttraining's l1: 2.54407\tvalid_1's l1: 2.56074\n",
      "[1300]\ttraining's l1: 2.53994\tvalid_1's l1: 2.55945\n",
      "[1400]\ttraining's l1: 2.53698\tvalid_1's l1: 2.55816\n",
      "[1500]\ttraining's l1: 2.53399\tvalid_1's l1: 2.55749\n",
      "Early stopping, best iteration is:\n",
      "[1462]\ttraining's l1: 2.53518\tvalid_1's l1: 2.55713\n"
     ]
    },
    {
     "name": "stderr",
     "output_type": "stream",
     "text": [
      "\u001b[32m[I 2021-07-29 23:35:08,909]\u001b[0m Trial 72 finished with value: -2.5560356987235773 and parameters: {'max_depth': 4, 'min_child_weight': 15, 'subsample': 0.5, 'colsample_bytree': 0.7, 'reg_lambda': 0.06354656554539583, 'reg_alpha': 1.367366598221731, 'feature_fraction': 0.33883371774406684, 'bagging_fraction': 0.9131273869282215, 'bagging_freq': 4, 'num_leaves': 265, 'min_child_samples': 69}. Best is trial 42 with value: -2.5426393658701856.\u001b[0m\n"
     ]
    },
    {
     "name": "stdout",
     "output_type": "stream",
     "text": [
      "[LightGBM] [Warning] feature_fraction is set=0.29043415577574805, colsample_bytree=0.8 will be ignored. Current value: feature_fraction=0.29043415577574805\n",
      "[LightGBM] [Warning] bagging_fraction is set=0.961177773990538, subsample=0.6 will be ignored. Current value: bagging_fraction=0.961177773990538\n",
      "[LightGBM] [Warning] bagging_freq is set=3, subsample_freq=0 will be ignored. Current value: bagging_freq=3\n",
      "Training until validation scores don't improve for 100 rounds\n",
      "[100]\ttraining's l1: 2.60441\tvalid_1's l1: 2.59638\n",
      "[200]\ttraining's l1: 2.5735\tvalid_1's l1: 2.57465\n",
      "[300]\ttraining's l1: 2.56257\tvalid_1's l1: 2.56904\n",
      "[400]\ttraining's l1: 2.55472\tvalid_1's l1: 2.56532\n",
      "[500]\ttraining's l1: 2.5457\tvalid_1's l1: 2.56201\n",
      "[600]\ttraining's l1: 2.53896\tvalid_1's l1: 2.56058\n",
      "[700]\ttraining's l1: 2.5325\tvalid_1's l1: 2.55872\n",
      "[800]\ttraining's l1: 2.52784\tvalid_1's l1: 2.55764\n",
      "[900]\ttraining's l1: 2.52373\tvalid_1's l1: 2.55654\n",
      "[1000]\ttraining's l1: 2.51868\tvalid_1's l1: 2.55645\n",
      "[1100]\ttraining's l1: 2.51463\tvalid_1's l1: 2.55537\n",
      "[1200]\ttraining's l1: 2.50975\tvalid_1's l1: 2.55475\n",
      "Early stopping, best iteration is:\n",
      "[1193]\ttraining's l1: 2.51007\tvalid_1's l1: 2.5547\n"
     ]
    },
    {
     "name": "stderr",
     "output_type": "stream",
     "text": [
      "\u001b[32m[I 2021-07-29 23:35:20,484]\u001b[0m Trial 73 finished with value: -2.5534306802426507 and parameters: {'max_depth': 5, 'min_child_weight': 14, 'subsample': 0.6, 'colsample_bytree': 0.8, 'reg_lambda': 0.0017998885855705254, 'reg_alpha': 2.8089121612049475, 'feature_fraction': 0.29043415577574805, 'bagging_fraction': 0.961177773990538, 'bagging_freq': 3, 'num_leaves': 342, 'min_child_samples': 86}. Best is trial 42 with value: -2.5426393658701856.\u001b[0m\n"
     ]
    },
    {
     "name": "stdout",
     "output_type": "stream",
     "text": [
      "[LightGBM] [Warning] feature_fraction is set=0.3694255244330783, colsample_bytree=0.9 will be ignored. Current value: feature_fraction=0.3694255244330783\n",
      "[LightGBM] [Warning] bagging_fraction is set=0.21718638587368988, subsample=0.7 will be ignored. Current value: bagging_fraction=0.21718638587368988\n",
      "[LightGBM] [Warning] bagging_freq is set=2, subsample_freq=0 will be ignored. Current value: bagging_freq=2\n",
      "Training until validation scores don't improve for 100 rounds\n",
      "[100]\ttraining's l1: 2.62612\tvalid_1's l1: 2.61612\n",
      "[200]\ttraining's l1: 2.60755\tvalid_1's l1: 2.59908\n",
      "[300]\ttraining's l1: 2.59867\tvalid_1's l1: 2.597\n",
      "[400]\ttraining's l1: 2.59144\tvalid_1's l1: 2.59348\n"
     ]
    },
    {
     "name": "stderr",
     "output_type": "stream",
     "text": [
      "\u001b[32m[I 2021-07-29 23:35:22,949]\u001b[0m Trial 74 finished with value: -2.5920666863249346 and parameters: {'max_depth': 5, 'min_child_weight': 15, 'subsample': 0.7, 'colsample_bytree': 0.9, 'reg_lambda': 0.11169763276334892, 'reg_alpha': 0.008375079724586544, 'feature_fraction': 0.3694255244330783, 'bagging_fraction': 0.21718638587368988, 'bagging_freq': 2, 'num_leaves': 80, 'min_child_samples': 74}. Best is trial 42 with value: -2.5426393658701856.\u001b[0m\n"
     ]
    },
    {
     "name": "stdout",
     "output_type": "stream",
     "text": [
      "Early stopping, best iteration is:\n",
      "[397]\ttraining's l1: 2.59157\tvalid_1's l1: 2.59337\n",
      "[LightGBM] [Warning] feature_fraction is set=0.46048830445811645, colsample_bytree=0.7 will be ignored. Current value: feature_fraction=0.46048830445811645\n",
      "[LightGBM] [Warning] bagging_fraction is set=0.8333987349190075, subsample=0.5 will be ignored. Current value: bagging_fraction=0.8333987349190075\n",
      "[LightGBM] [Warning] bagging_freq is set=6, subsample_freq=0 will be ignored. Current value: bagging_freq=6\n",
      "Training until validation scores don't improve for 100 rounds\n",
      "[100]\ttraining's l1: 2.54104\tvalid_1's l1: 2.57201\n",
      "[200]\ttraining's l1: 2.50873\tvalid_1's l1: 2.56144\n",
      "[300]\ttraining's l1: 2.49815\tvalid_1's l1: 2.56024\n",
      "[400]\ttraining's l1: 2.487\tvalid_1's l1: 2.55927\n",
      "[500]\ttraining's l1: 2.47717\tvalid_1's l1: 2.55843\n",
      "[600]\ttraining's l1: 2.46971\tvalid_1's l1: 2.5573\n",
      "[700]\ttraining's l1: 2.45733\tvalid_1's l1: 2.55615\n",
      "Early stopping, best iteration is:\n",
      "[684]\ttraining's l1: 2.45865\tvalid_1's l1: 2.55583\n"
     ]
    },
    {
     "name": "stderr",
     "output_type": "stream",
     "text": [
      "\u001b[32m[I 2021-07-29 23:35:31,453]\u001b[0m Trial 75 finished with value: -2.5547824468163007 and parameters: {'max_depth': 7, 'min_child_weight': 12, 'subsample': 0.5, 'colsample_bytree': 0.7, 'reg_lambda': 0.005820819203077632, 'reg_alpha': 0.11837455204940434, 'feature_fraction': 0.46048830445811645, 'bagging_fraction': 0.8333987349190075, 'bagging_freq': 6, 'num_leaves': 466, 'min_child_samples': 62}. Best is trial 42 with value: -2.5426393658701856.\u001b[0m\n"
     ]
    },
    {
     "name": "stdout",
     "output_type": "stream",
     "text": [
      "[LightGBM] [Warning] feature_fraction is set=0.41780912974027895, colsample_bytree=0.8 will be ignored. Current value: feature_fraction=0.41780912974027895\n",
      "[LightGBM] [Warning] bagging_fraction is set=0.8617604153866751, subsample=0.7 will be ignored. Current value: bagging_fraction=0.8617604153866751\n",
      "[LightGBM] [Warning] bagging_freq is set=1, subsample_freq=0 will be ignored. Current value: bagging_freq=1\n",
      "Training until validation scores don't improve for 100 rounds\n",
      "[100]\ttraining's l1: 2.55948\tvalid_1's l1: 2.57568\n",
      "[200]\ttraining's l1: 2.53681\tvalid_1's l1: 2.56479\n",
      "[300]\ttraining's l1: 2.52256\tvalid_1's l1: 2.55925\n",
      "[400]\ttraining's l1: 2.50931\tvalid_1's l1: 2.5568\n",
      "[500]\ttraining's l1: 2.50238\tvalid_1's l1: 2.55606\n",
      "[600]\ttraining's l1: 2.49552\tvalid_1's l1: 2.55397\n",
      "[700]\ttraining's l1: 2.48889\tvalid_1's l1: 2.55335\n",
      "[800]\ttraining's l1: 2.48205\tvalid_1's l1: 2.55308\n",
      "Early stopping, best iteration is:\n",
      "[720]\ttraining's l1: 2.48733\tvalid_1's l1: 2.55265\n"
     ]
    },
    {
     "name": "stderr",
     "output_type": "stream",
     "text": [
      "\u001b[32m[I 2021-07-29 23:35:38,940]\u001b[0m Trial 76 finished with value: -2.551948640027964 and parameters: {'max_depth': 6, 'min_child_weight': 17, 'subsample': 0.7, 'colsample_bytree': 0.8, 'reg_lambda': 0.022241330998551728, 'reg_alpha': 0.003918869109109078, 'feature_fraction': 0.41780912974027895, 'bagging_fraction': 0.8617604153866751, 'bagging_freq': 1, 'num_leaves': 127, 'min_child_samples': 50}. Best is trial 42 with value: -2.5426393658701856.\u001b[0m\n"
     ]
    },
    {
     "name": "stdout",
     "output_type": "stream",
     "text": [
      "[LightGBM] [Warning] feature_fraction is set=0.7023715047227508, colsample_bytree=0.6 will be ignored. Current value: feature_fraction=0.7023715047227508\n",
      "[LightGBM] [Warning] bagging_fraction is set=0.9974721948365611, subsample=0.6 will be ignored. Current value: bagging_fraction=0.9974721948365611\n",
      "[LightGBM] [Warning] bagging_freq is set=11, subsample_freq=0 will be ignored. Current value: bagging_freq=11\n",
      "Training until validation scores don't improve for 100 rounds\n",
      "[100]\ttraining's l1: 2.63483\tvalid_1's l1: 2.61658\n",
      "[200]\ttraining's l1: 2.60163\tvalid_1's l1: 2.58893\n",
      "[300]\ttraining's l1: 2.5915\tvalid_1's l1: 2.58505\n",
      "[400]\ttraining's l1: 2.57804\tvalid_1's l1: 2.57399\n",
      "[500]\ttraining's l1: 2.57222\tvalid_1's l1: 2.57236\n",
      "[600]\ttraining's l1: 2.56648\tvalid_1's l1: 2.56793\n",
      "[700]\ttraining's l1: 2.56321\tvalid_1's l1: 2.56742\n",
      "[800]\ttraining's l1: 2.555\tvalid_1's l1: 2.56279\n",
      "[900]\ttraining's l1: 2.54784\tvalid_1's l1: 2.56004\n",
      "[1000]\ttraining's l1: 2.54436\tvalid_1's l1: 2.55975\n",
      "[1100]\ttraining's l1: 2.54154\tvalid_1's l1: 2.55942\n",
      "[1200]\ttraining's l1: 2.53728\tvalid_1's l1: 2.55856\n",
      "[1300]\ttraining's l1: 2.53457\tvalid_1's l1: 2.5582\n",
      "[1400]\ttraining's l1: 2.53216\tvalid_1's l1: 2.55814\n",
      "[1500]\ttraining's l1: 2.52953\tvalid_1's l1: 2.55636\n",
      "[1600]\ttraining's l1: 2.5262\tvalid_1's l1: 2.55432\n",
      "[1700]\ttraining's l1: 2.52344\tvalid_1's l1: 2.55365\n",
      "[1800]\ttraining's l1: 2.52167\tvalid_1's l1: 2.55366\n",
      "[1900]\ttraining's l1: 2.51772\tvalid_1's l1: 2.55235\n",
      "[2000]\ttraining's l1: 2.51626\tvalid_1's l1: 2.55217\n",
      "Early stopping, best iteration is:\n",
      "[1977]\ttraining's l1: 2.51652\tvalid_1's l1: 2.55214\n"
     ]
    },
    {
     "name": "stderr",
     "output_type": "stream",
     "text": [
      "\u001b[32m[I 2021-07-29 23:35:52,805]\u001b[0m Trial 77 finished with value: -2.5508150038297694 and parameters: {'max_depth': 4, 'min_child_weight': 14, 'subsample': 0.6, 'colsample_bytree': 0.6, 'reg_lambda': 0.03964201662316052, 'reg_alpha': 0.4950636620812383, 'feature_fraction': 0.7023715047227508, 'bagging_fraction': 0.9974721948365611, 'bagging_freq': 11, 'num_leaves': 422, 'min_child_samples': 53}. Best is trial 42 with value: -2.5426393658701856.\u001b[0m\n"
     ]
    },
    {
     "name": "stdout",
     "output_type": "stream",
     "text": [
      "[LightGBM] [Warning] feature_fraction is set=0.5432413173955664, colsample_bytree=0.9 will be ignored. Current value: feature_fraction=0.5432413173955664\n",
      "[LightGBM] [Warning] bagging_fraction is set=0.9490157291069746, subsample=0.8 will be ignored. Current value: bagging_fraction=0.9490157291069746\n",
      "[LightGBM] [Warning] bagging_freq is set=4, subsample_freq=0 will be ignored. Current value: bagging_freq=4\n",
      "Training until validation scores don't improve for 100 rounds\n",
      "[100]\ttraining's l1: 2.68506\tvalid_1's l1: 2.65343\n",
      "[200]\ttraining's l1: 2.64904\tvalid_1's l1: 2.62267\n",
      "[300]\ttraining's l1: 2.63065\tvalid_1's l1: 2.60343\n",
      "[400]\ttraining's l1: 2.62396\tvalid_1's l1: 2.5995\n",
      "[500]\ttraining's l1: 2.61605\tvalid_1's l1: 2.59138\n",
      "[600]\ttraining's l1: 2.60899\tvalid_1's l1: 2.58572\n",
      "[700]\ttraining's l1: 2.60408\tvalid_1's l1: 2.58406\n",
      "[800]\ttraining's l1: 2.60003\tvalid_1's l1: 2.58004\n",
      "[900]\ttraining's l1: 2.59857\tvalid_1's l1: 2.57984\n",
      "[1000]\ttraining's l1: 2.59434\tvalid_1's l1: 2.57766\n",
      "[1100]\ttraining's l1: 2.59188\tvalid_1's l1: 2.57629\n",
      "[1200]\ttraining's l1: 2.58895\tvalid_1's l1: 2.57531\n",
      "[1300]\ttraining's l1: 2.58703\tvalid_1's l1: 2.57486\n",
      "[1400]\ttraining's l1: 2.5853\tvalid_1's l1: 2.57473\n"
     ]
    },
    {
     "name": "stderr",
     "output_type": "stream",
     "text": [
      "\u001b[32m[I 2021-07-29 23:36:06,659]\u001b[0m Trial 78 finished with value: -2.5735766992680307 and parameters: {'max_depth': 3, 'min_child_weight': 13, 'subsample': 0.8, 'colsample_bytree': 0.9, 'reg_lambda': 0.011563655065391094, 'reg_alpha': 0.1836299760156895, 'feature_fraction': 0.5432413173955664, 'bagging_fraction': 0.9490157291069746, 'bagging_freq': 4, 'num_leaves': 316, 'min_child_samples': 96}. Best is trial 42 with value: -2.5426393658701856.\u001b[0m\n"
     ]
    },
    {
     "name": "stdout",
     "output_type": "stream",
     "text": [
      "Early stopping, best iteration is:\n",
      "[1337]\ttraining's l1: 2.58634\tvalid_1's l1: 2.57445\n",
      "[LightGBM] [Warning] feature_fraction is set=0.5041114116482358, colsample_bytree=0.7 will be ignored. Current value: feature_fraction=0.5041114116482358\n",
      "[LightGBM] [Warning] bagging_fraction is set=0.5414179786493263, subsample=0.5 will be ignored. Current value: bagging_fraction=0.5414179786493263\n",
      "[LightGBM] [Warning] bagging_freq is set=12, subsample_freq=0 will be ignored. Current value: bagging_freq=12\n",
      "Training until validation scores don't improve for 100 rounds\n",
      "[100]\ttraining's l1: 2.57383\tvalid_1's l1: 2.58465\n",
      "[200]\ttraining's l1: 2.54021\tvalid_1's l1: 2.56824\n",
      "[300]\ttraining's l1: 2.52361\tvalid_1's l1: 2.56522\n",
      "[400]\ttraining's l1: 2.51058\tvalid_1's l1: 2.56369\n",
      "[500]\ttraining's l1: 2.49614\tvalid_1's l1: 2.56148\n",
      "[600]\ttraining's l1: 2.48195\tvalid_1's l1: 2.56062\n",
      "[700]\ttraining's l1: 2.46962\tvalid_1's l1: 2.55917\n",
      "[800]\ttraining's l1: 2.45818\tvalid_1's l1: 2.55797\n",
      "[900]\ttraining's l1: 2.44934\tvalid_1's l1: 2.55882\n",
      "Early stopping, best iteration is:\n",
      "[825]\ttraining's l1: 2.45685\tvalid_1's l1: 2.55757\n"
     ]
    },
    {
     "name": "stderr",
     "output_type": "stream",
     "text": [
      "\u001b[32m[I 2021-07-29 23:36:15,043]\u001b[0m Trial 79 finished with value: -2.555775447901601 and parameters: {'max_depth': 7, 'min_child_weight': 9, 'subsample': 0.5, 'colsample_bytree': 0.7, 'reg_lambda': 103.77911272211983, 'reg_alpha': 0.017984423418834126, 'feature_fraction': 0.5041114116482358, 'bagging_fraction': 0.5414179786493263, 'bagging_freq': 12, 'num_leaves': 250, 'min_child_samples': 44}. Best is trial 42 with value: -2.5426393658701856.\u001b[0m\n"
     ]
    },
    {
     "name": "stdout",
     "output_type": "stream",
     "text": [
      "[LightGBM] [Warning] feature_fraction is set=0.4324698973169241, colsample_bytree=0.9 will be ignored. Current value: feature_fraction=0.4324698973169241\n",
      "[LightGBM] [Warning] bagging_fraction is set=0.5854019404239967, subsample=0.6 will be ignored. Current value: bagging_fraction=0.5854019404239967\n",
      "[LightGBM] [Warning] bagging_freq is set=14, subsample_freq=0 will be ignored. Current value: bagging_freq=14\n",
      "Training until validation scores don't improve for 100 rounds\n",
      "[100]\ttraining's l1: 2.78354\tvalid_1's l1: 2.75072\n",
      "[200]\ttraining's l1: 2.73611\tvalid_1's l1: 2.69354\n",
      "[300]\ttraining's l1: 2.7166\tvalid_1's l1: 2.67361\n",
      "[400]\ttraining's l1: 2.70319\tvalid_1's l1: 2.66253\n",
      "[500]\ttraining's l1: 2.69455\tvalid_1's l1: 2.6518\n",
      "[600]\ttraining's l1: 2.6867\tvalid_1's l1: 2.64197\n",
      "[700]\ttraining's l1: 2.68164\tvalid_1's l1: 2.63812\n",
      "[800]\ttraining's l1: 2.67529\tvalid_1's l1: 2.63005\n",
      "[900]\ttraining's l1: 2.67224\tvalid_1's l1: 2.62835\n",
      "[1000]\ttraining's l1: 2.66889\tvalid_1's l1: 2.6244\n",
      "[1100]\ttraining's l1: 2.66477\tvalid_1's l1: 2.61863\n",
      "[1200]\ttraining's l1: 2.6602\tvalid_1's l1: 2.61461\n",
      "[1300]\ttraining's l1: 2.65699\tvalid_1's l1: 2.61224\n",
      "[1400]\ttraining's l1: 2.65404\tvalid_1's l1: 2.60844\n",
      "[1500]\ttraining's l1: 2.65163\tvalid_1's l1: 2.608\n",
      "[1600]\ttraining's l1: 2.64906\tvalid_1's l1: 2.60514\n",
      "[1700]\ttraining's l1: 2.64667\tvalid_1's l1: 2.60219\n",
      "[1800]\ttraining's l1: 2.64516\tvalid_1's l1: 2.60063\n",
      "[1900]\ttraining's l1: 2.6433\tvalid_1's l1: 2.59884\n",
      "[2000]\ttraining's l1: 2.64054\tvalid_1's l1: 2.59686\n",
      "[2100]\ttraining's l1: 2.63908\tvalid_1's l1: 2.59559\n",
      "[2200]\ttraining's l1: 2.63636\tvalid_1's l1: 2.5942\n",
      "Early stopping, best iteration is:\n",
      "[2166]\ttraining's l1: 2.63674\tvalid_1's l1: 2.59376\n"
     ]
    },
    {
     "name": "stderr",
     "output_type": "stream",
     "text": [
      "\u001b[32m[I 2021-07-29 23:36:26,465]\u001b[0m Trial 80 finished with value: -2.59252384329638 and parameters: {'max_depth': 2, 'min_child_weight': 10, 'subsample': 0.6, 'colsample_bytree': 0.9, 'reg_lambda': 0.3672053954634227, 'reg_alpha': 0.08306449683178203, 'feature_fraction': 0.4324698973169241, 'bagging_fraction': 0.5854019404239967, 'bagging_freq': 14, 'num_leaves': 387, 'min_child_samples': 36}. Best is trial 42 with value: -2.5426393658701856.\u001b[0m\n"
     ]
    },
    {
     "name": "stdout",
     "output_type": "stream",
     "text": [
      "[LightGBM] [Warning] feature_fraction is set=0.8011195762585617, colsample_bytree=0.9 will be ignored. Current value: feature_fraction=0.8011195762585617\n",
      "[LightGBM] [Warning] bagging_fraction is set=0.6368419355770082, subsample=0.7 will be ignored. Current value: bagging_fraction=0.6368419355770082\n",
      "[LightGBM] [Warning] bagging_freq is set=11, subsample_freq=0 will be ignored. Current value: bagging_freq=11\n",
      "Training until validation scores don't improve for 100 rounds\n",
      "[100]\ttraining's l1: 2.57069\tvalid_1's l1: 2.57744\n",
      "[200]\ttraining's l1: 2.54354\tvalid_1's l1: 2.5629\n",
      "[300]\ttraining's l1: 2.53058\tvalid_1's l1: 2.56051\n",
      "[400]\ttraining's l1: 2.5145\tvalid_1's l1: 2.55651\n"
     ]
    },
    {
     "name": "stderr",
     "output_type": "stream",
     "text": [
      "\u001b[32m[I 2021-07-29 23:36:30,327]\u001b[0m Trial 81 finished with value: -2.5555120518570265 and parameters: {'max_depth': 6, 'min_child_weight': 12, 'subsample': 0.7, 'colsample_bytree': 0.9, 'reg_lambda': 0.0028009964858020067, 'reg_alpha': 0.0017882238412906014, 'feature_fraction': 0.8011195762585617, 'bagging_fraction': 0.6368419355770082, 'bagging_freq': 11, 'num_leaves': 196, 'min_child_samples': 44}. Best is trial 42 with value: -2.5426393658701856.\u001b[0m\n"
     ]
    },
    {
     "name": "stdout",
     "output_type": "stream",
     "text": [
      "Early stopping, best iteration is:\n",
      "[388]\ttraining's l1: 2.51514\tvalid_1's l1: 2.55627\n",
      "[LightGBM] [Warning] feature_fraction is set=0.8482950900450034, colsample_bytree=0.9 will be ignored. Current value: feature_fraction=0.8482950900450034\n",
      "[LightGBM] [Warning] bagging_fraction is set=0.6485192333246936, subsample=0.7 will be ignored. Current value: bagging_fraction=0.6485192333246936\n",
      "[LightGBM] [Warning] bagging_freq is set=13, subsample_freq=0 will be ignored. Current value: bagging_freq=13\n",
      "Training until validation scores don't improve for 100 rounds\n",
      "[100]\ttraining's l1: 2.59387\tvalid_1's l1: 2.58283\n",
      "[200]\ttraining's l1: 2.56775\tvalid_1's l1: 2.57034\n",
      "[300]\ttraining's l1: 2.55325\tvalid_1's l1: 2.56386\n",
      "[400]\ttraining's l1: 2.54299\tvalid_1's l1: 2.55979\n",
      "[500]\ttraining's l1: 2.53241\tvalid_1's l1: 2.55652\n",
      "[600]\ttraining's l1: 2.52495\tvalid_1's l1: 2.55487\n",
      "[700]\ttraining's l1: 2.5187\tvalid_1's l1: 2.55288\n",
      "[800]\ttraining's l1: 2.51344\tvalid_1's l1: 2.55281\n",
      "[900]\ttraining's l1: 2.50956\tvalid_1's l1: 2.55254\n",
      "[1000]\ttraining's l1: 2.50567\tvalid_1's l1: 2.55217\n",
      "[1100]\ttraining's l1: 2.50198\tvalid_1's l1: 2.55249\n",
      "Early stopping, best iteration is:\n",
      "[1041]\ttraining's l1: 2.5039\tvalid_1's l1: 2.55177\n"
     ]
    },
    {
     "name": "stderr",
     "output_type": "stream",
     "text": [
      "\u001b[32m[I 2021-07-29 23:36:37,282]\u001b[0m Trial 82 finished with value: -2.55053395119872 and parameters: {'max_depth': 5, 'min_child_weight': 11, 'subsample': 0.7, 'colsample_bytree': 0.9, 'reg_lambda': 0.006009203905128361, 'reg_alpha': 0.003924214766617567, 'feature_fraction': 0.8482950900450034, 'bagging_fraction': 0.6485192333246936, 'bagging_freq': 13, 'num_leaves': 231, 'min_child_samples': 41}. Best is trial 42 with value: -2.5426393658701856.\u001b[0m\n"
     ]
    },
    {
     "name": "stdout",
     "output_type": "stream",
     "text": [
      "[LightGBM] [Warning] feature_fraction is set=0.7595546566334119, colsample_bytree=0.9 will be ignored. Current value: feature_fraction=0.7595546566334119\n",
      "[LightGBM] [Warning] bagging_fraction is set=0.6205589798311792, subsample=0.7 will be ignored. Current value: bagging_fraction=0.6205589798311792\n",
      "[LightGBM] [Warning] bagging_freq is set=10, subsample_freq=0 will be ignored. Current value: bagging_freq=10\n",
      "Training until validation scores don't improve for 100 rounds\n",
      "[100]\ttraining's l1: 2.5689\tvalid_1's l1: 2.58079\n",
      "[200]\ttraining's l1: 2.54017\tvalid_1's l1: 2.56291\n",
      "[300]\ttraining's l1: 2.52734\tvalid_1's l1: 2.55841\n",
      "[400]\ttraining's l1: 2.51575\tvalid_1's l1: 2.55205\n",
      "[500]\ttraining's l1: 2.5044\tvalid_1's l1: 2.55094\n",
      "[600]\ttraining's l1: 2.49446\tvalid_1's l1: 2.55046\n",
      "[700]\ttraining's l1: 2.48829\tvalid_1's l1: 2.55133\n",
      "[800]\ttraining's l1: 2.4824\tvalid_1's l1: 2.55059\n"
     ]
    },
    {
     "name": "stderr",
     "output_type": "stream",
     "text": [
      "\u001b[32m[I 2021-07-29 23:36:43,201]\u001b[0m Trial 83 finished with value: -2.548829928395915 and parameters: {'max_depth': 6, 'min_child_weight': 13, 'subsample': 0.7, 'colsample_bytree': 0.9, 'reg_lambda': 0.019166248774015557, 'reg_alpha': 0.0029290101486763864, 'feature_fraction': 0.7595546566334119, 'bagging_fraction': 0.6205589798311792, 'bagging_freq': 10, 'num_leaves': 203, 'min_child_samples': 48}. Best is trial 42 with value: -2.5426393658701856.\u001b[0m\n"
     ]
    },
    {
     "name": "stdout",
     "output_type": "stream",
     "text": [
      "Early stopping, best iteration is:\n",
      "[750]\ttraining's l1: 2.48537\tvalid_1's l1: 2.55\n",
      "[LightGBM] [Warning] feature_fraction is set=0.3916063050298783, colsample_bytree=0.9 will be ignored. Current value: feature_fraction=0.3916063050298783\n",
      "[LightGBM] [Warning] bagging_fraction is set=0.6153404661397203, subsample=0.7 will be ignored. Current value: bagging_fraction=0.6153404661397203\n",
      "[LightGBM] [Warning] bagging_freq is set=8, subsample_freq=0 will be ignored. Current value: bagging_freq=8\n",
      "Training until validation scores don't improve for 100 rounds\n",
      "[100]\ttraining's l1: 2.52412\tvalid_1's l1: 2.57002\n",
      "[200]\ttraining's l1: 2.49192\tvalid_1's l1: 2.56007\n",
      "[300]\ttraining's l1: 2.47252\tvalid_1's l1: 2.55841\n",
      "[400]\ttraining's l1: 2.45842\tvalid_1's l1: 2.5574\n"
     ]
    },
    {
     "name": "stderr",
     "output_type": "stream",
     "text": [
      "\u001b[32m[I 2021-07-29 23:36:48,072]\u001b[0m Trial 84 finished with value: -2.555732251233166 and parameters: {'max_depth': 8, 'min_child_weight': 13, 'subsample': 0.7, 'colsample_bytree': 0.9, 'reg_lambda': 0.1935154192375329, 'reg_alpha': 0.002481992524416191, 'feature_fraction': 0.3916063050298783, 'bagging_fraction': 0.6153404661397203, 'bagging_freq': 8, 'num_leaves': 275, 'min_child_samples': 48}. Best is trial 42 with value: -2.5426393658701856.\u001b[0m\n"
     ]
    },
    {
     "name": "stdout",
     "output_type": "stream",
     "text": [
      "Early stopping, best iteration is:\n",
      "[362]\ttraining's l1: 2.46312\tvalid_1's l1: 2.55671\n",
      "[LightGBM] [Warning] feature_fraction is set=0.47484161178311046, colsample_bytree=0.9 will be ignored. Current value: feature_fraction=0.47484161178311046\n",
      "[LightGBM] [Warning] bagging_fraction is set=0.5096230859105877, subsample=0.7 will be ignored. Current value: bagging_fraction=0.5096230859105877\n",
      "[LightGBM] [Warning] bagging_freq is set=10, subsample_freq=0 will be ignored. Current value: bagging_freq=10\n",
      "Training until validation scores don't improve for 100 rounds\n",
      "[100]\ttraining's l1: 2.59094\tvalid_1's l1: 2.58738\n",
      "[200]\ttraining's l1: 2.5664\tvalid_1's l1: 2.57248\n",
      "[300]\ttraining's l1: 2.55324\tvalid_1's l1: 2.5672\n",
      "[400]\ttraining's l1: 2.54316\tvalid_1's l1: 2.56367\n",
      "[500]\ttraining's l1: 2.53488\tvalid_1's l1: 2.56124\n"
     ]
    },
    {
     "name": "stderr",
     "output_type": "stream",
     "text": [
      "\u001b[32m[I 2021-07-29 23:36:52,479]\u001b[0m Trial 85 finished with value: -2.5599540596894332 and parameters: {'max_depth': 6, 'min_child_weight': 15, 'subsample': 0.7, 'colsample_bytree': 0.9, 'reg_lambda': 1.390242572047369, 'reg_alpha': 0.03394081236399661, 'feature_fraction': 0.47484161178311046, 'bagging_fraction': 0.5096230859105877, 'bagging_freq': 10, 'num_leaves': 39, 'min_child_samples': 56}. Best is trial 42 with value: -2.5426393658701856.\u001b[0m\n"
     ]
    },
    {
     "name": "stdout",
     "output_type": "stream",
     "text": [
      "Early stopping, best iteration is:\n",
      "[496]\ttraining's l1: 2.53516\tvalid_1's l1: 2.56109\n",
      "[LightGBM] [Warning] feature_fraction is set=0.9672134808978744, colsample_bytree=0.9 will be ignored. Current value: feature_fraction=0.9672134808978744\n",
      "[LightGBM] [Warning] bagging_fraction is set=0.4624013432785211, subsample=0.7 will be ignored. Current value: bagging_fraction=0.4624013432785211\n",
      "[LightGBM] [Warning] bagging_freq is set=9, subsample_freq=0 will be ignored. Current value: bagging_freq=9\n",
      "Training until validation scores don't improve for 100 rounds\n",
      "[100]\ttraining's l1: 2.63523\tvalid_1's l1: 2.61658\n",
      "[200]\ttraining's l1: 2.60816\tvalid_1's l1: 2.59443\n",
      "[300]\ttraining's l1: 2.59554\tvalid_1's l1: 2.58236\n",
      "[400]\ttraining's l1: 2.58253\tvalid_1's l1: 2.57112\n",
      "[500]\ttraining's l1: 2.57579\tvalid_1's l1: 2.56898\n",
      "[600]\ttraining's l1: 2.56995\tvalid_1's l1: 2.56692\n",
      "[700]\ttraining's l1: 2.56381\tvalid_1's l1: 2.56474\n",
      "[800]\ttraining's l1: 2.55729\tvalid_1's l1: 2.56255\n",
      "[900]\ttraining's l1: 2.55364\tvalid_1's l1: 2.56189\n",
      "[1000]\ttraining's l1: 2.54945\tvalid_1's l1: 2.5615\n",
      "[1100]\ttraining's l1: 2.54595\tvalid_1's l1: 2.55998\n"
     ]
    },
    {
     "name": "stderr",
     "output_type": "stream",
     "text": [
      "\u001b[32m[I 2021-07-29 23:36:58,084]\u001b[0m Trial 86 finished with value: -2.5587165501184956 and parameters: {'max_depth': 4, 'min_child_weight': 16, 'subsample': 0.7, 'colsample_bytree': 0.9, 'reg_lambda': 0.019641261005516702, 'reg_alpha': 0.0012850113163977025, 'feature_fraction': 0.9672134808978744, 'bagging_fraction': 0.4624013432785211, 'bagging_freq': 9, 'num_leaves': 149, 'min_child_samples': 39}. Best is trial 42 with value: -2.5426393658701856.\u001b[0m\n"
     ]
    },
    {
     "name": "stdout",
     "output_type": "stream",
     "text": [
      "Early stopping, best iteration is:\n",
      "[1098]\ttraining's l1: 2.54607\tvalid_1's l1: 2.55994\n",
      "[LightGBM] [Warning] feature_fraction is set=0.9001674978978079, colsample_bytree=0.8 will be ignored. Current value: feature_fraction=0.9001674978978079\n",
      "[LightGBM] [Warning] bagging_fraction is set=0.7923684510936189, subsample=0.7 will be ignored. Current value: bagging_fraction=0.7923684510936189\n",
      "[LightGBM] [Warning] bagging_freq is set=10, subsample_freq=0 will be ignored. Current value: bagging_freq=10\n",
      "Training until validation scores don't improve for 100 rounds\n",
      "[100]\ttraining's l1: 2.59819\tvalid_1's l1: 2.59238\n",
      "[200]\ttraining's l1: 2.56789\tvalid_1's l1: 2.57315\n",
      "[300]\ttraining's l1: 2.55373\tvalid_1's l1: 2.5666\n",
      "[400]\ttraining's l1: 2.54486\tvalid_1's l1: 2.56261\n",
      "[500]\ttraining's l1: 2.53525\tvalid_1's l1: 2.55852\n",
      "[600]\ttraining's l1: 2.52856\tvalid_1's l1: 2.55635\n",
      "[700]\ttraining's l1: 2.52072\tvalid_1's l1: 2.55454\n",
      "[800]\ttraining's l1: 2.51102\tvalid_1's l1: 2.55194\n",
      "[900]\ttraining's l1: 2.50469\tvalid_1's l1: 2.55212\n",
      "Early stopping, best iteration is:\n",
      "[807]\ttraining's l1: 2.50903\tvalid_1's l1: 2.55156\n"
     ]
    },
    {
     "name": "stderr",
     "output_type": "stream",
     "text": [
      "\u001b[32m[I 2021-07-29 23:37:04,780]\u001b[0m Trial 87 finished with value: -2.5506986284982527 and parameters: {'max_depth': 5, 'min_child_weight': 11, 'subsample': 0.7, 'colsample_bytree': 0.8, 'reg_lambda': 0.04921250018264742, 'reg_alpha': 0.008181994517594474, 'feature_fraction': 0.9001674978978079, 'bagging_fraction': 0.7923684510936189, 'bagging_freq': 10, 'num_leaves': 327, 'min_child_samples': 51}. Best is trial 42 with value: -2.5426393658701856.\u001b[0m\n"
     ]
    },
    {
     "name": "stdout",
     "output_type": "stream",
     "text": [
      "[LightGBM] [Warning] feature_fraction is set=0.7131735790030975, colsample_bytree=0.7 will be ignored. Current value: feature_fraction=0.7131735790030975\n",
      "[LightGBM] [Warning] bagging_fraction is set=0.8209481077222004, subsample=0.5 will be ignored. Current value: bagging_fraction=0.8209481077222004\n",
      "[LightGBM] [Warning] bagging_freq is set=3, subsample_freq=0 will be ignored. Current value: bagging_freq=3\n",
      "Training until validation scores don't improve for 100 rounds\n",
      "[100]\ttraining's l1: 2.52658\tvalid_1's l1: 2.56252\n",
      "[200]\ttraining's l1: 2.49538\tvalid_1's l1: 2.55549\n",
      "[300]\ttraining's l1: 2.47651\tvalid_1's l1: 2.55311\n",
      "[400]\ttraining's l1: 2.46318\tvalid_1's l1: 2.55202\n",
      "[500]\ttraining's l1: 2.45203\tvalid_1's l1: 2.55153\n"
     ]
    },
    {
     "name": "stderr",
     "output_type": "stream",
     "text": [
      "\u001b[32m[I 2021-07-29 23:37:10,796]\u001b[0m Trial 88 finished with value: -2.5498133029886563 and parameters: {'max_depth': 7, 'min_child_weight': 14, 'subsample': 0.5, 'colsample_bytree': 0.7, 'reg_lambda': 0.09864890927921825, 'reg_alpha': 0.24665820246500875, 'feature_fraction': 0.7131735790030975, 'bagging_fraction': 0.8209481077222004, 'bagging_freq': 3, 'num_leaves': 364, 'min_child_samples': 29}. Best is trial 42 with value: -2.5426393658701856.\u001b[0m\n"
     ]
    },
    {
     "name": "stdout",
     "output_type": "stream",
     "text": [
      "Early stopping, best iteration is:\n",
      "[468]\ttraining's l1: 2.45477\tvalid_1's l1: 2.55099\n",
      "[LightGBM] [Warning] feature_fraction is set=0.3640796870450844, colsample_bytree=0.9 will be ignored. Current value: feature_fraction=0.3640796870450844\n",
      "[LightGBM] [Warning] bagging_fraction is set=0.6996795933364148, subsample=0.8 will be ignored. Current value: bagging_fraction=0.6996795933364148\n",
      "[LightGBM] [Warning] bagging_freq is set=5, subsample_freq=0 will be ignored. Current value: bagging_freq=5\n",
      "Training until validation scores don't improve for 100 rounds\n",
      "[100]\ttraining's l1: 2.55382\tvalid_1's l1: 2.57512\n",
      "[200]\ttraining's l1: 2.51717\tvalid_1's l1: 2.56453\n",
      "[300]\ttraining's l1: 2.49529\tvalid_1's l1: 2.55842\n",
      "[400]\ttraining's l1: 2.47806\tvalid_1's l1: 2.55912\n",
      "Early stopping, best iteration is:\n",
      "[308]\ttraining's l1: 2.49204\tvalid_1's l1: 2.55778\n"
     ]
    },
    {
     "name": "stderr",
     "output_type": "stream",
     "text": [
      "\u001b[32m[I 2021-07-29 23:37:15,489]\u001b[0m Trial 89 finished with value: -2.556815924391708 and parameters: {'max_depth': 9, 'min_child_weight': 13, 'subsample': 0.8, 'colsample_bytree': 0.9, 'reg_lambda': 0.030894421788910813, 'reg_alpha': 2.264195890674142, 'feature_fraction': 0.3640796870450844, 'bagging_fraction': 0.6996795933364148, 'bagging_freq': 5, 'num_leaves': 85, 'min_child_samples': 47}. Best is trial 42 with value: -2.5426393658701856.\u001b[0m\n"
     ]
    },
    {
     "name": "stdout",
     "output_type": "stream",
     "text": [
      "[LightGBM] [Warning] feature_fraction is set=0.4451321186954783, colsample_bytree=0.9 will be ignored. Current value: feature_fraction=0.4451321186954783\n",
      "[LightGBM] [Warning] bagging_fraction is set=0.7341967046475383, subsample=0.7 will be ignored. Current value: bagging_fraction=0.7341967046475383\n",
      "[LightGBM] [Warning] bagging_freq is set=12, subsample_freq=0 will be ignored. Current value: bagging_freq=12\n",
      "Training until validation scores don't improve for 100 rounds\n",
      "[100]\ttraining's l1: 2.63025\tvalid_1's l1: 2.60226\n",
      "[200]\ttraining's l1: 2.60273\tvalid_1's l1: 2.57718\n",
      "[300]\ttraining's l1: 2.58843\tvalid_1's l1: 2.57195\n",
      "[400]\ttraining's l1: 2.57657\tvalid_1's l1: 2.5656\n",
      "[500]\ttraining's l1: 2.56888\tvalid_1's l1: 2.55879\n",
      "[600]\ttraining's l1: 2.56456\tvalid_1's l1: 2.55747\n",
      "[700]\ttraining's l1: 2.5584\tvalid_1's l1: 2.55312\n",
      "[800]\ttraining's l1: 2.55219\tvalid_1's l1: 2.55203\n",
      "[900]\ttraining's l1: 2.54547\tvalid_1's l1: 2.55094\n",
      "[1000]\ttraining's l1: 2.54058\tvalid_1's l1: 2.55011\n",
      "[1100]\ttraining's l1: 2.53849\tvalid_1's l1: 2.55047\n",
      "Early stopping, best iteration is:\n",
      "[1019]\ttraining's l1: 2.54016\tvalid_1's l1: 2.55004\n"
     ]
    },
    {
     "name": "stderr",
     "output_type": "stream",
     "text": [
      "\u001b[32m[I 2021-07-29 23:37:23,500]\u001b[0m Trial 90 finished with value: -2.548997377721563 and parameters: {'max_depth': 4, 'min_child_weight': 2, 'subsample': 0.7, 'colsample_bytree': 0.9, 'reg_lambda': 0.008016146090817697, 'reg_alpha': 0.7168491870760023, 'feature_fraction': 0.4451321186954783, 'bagging_fraction': 0.7341967046475383, 'bagging_freq': 12, 'num_leaves': 208, 'min_child_samples': 41}. Best is trial 42 with value: -2.5426393658701856.\u001b[0m\n"
     ]
    },
    {
     "name": "stdout",
     "output_type": "stream",
     "text": [
      "[LightGBM] [Warning] feature_fraction is set=0.45664918463164306, colsample_bytree=0.9 will be ignored. Current value: feature_fraction=0.45664918463164306\n",
      "[LightGBM] [Warning] bagging_fraction is set=0.7361782827397079, subsample=0.7 will be ignored. Current value: bagging_fraction=0.7361782827397079\n",
      "[LightGBM] [Warning] bagging_freq is set=12, subsample_freq=0 will be ignored. Current value: bagging_freq=12\n",
      "Training until validation scores don't improve for 100 rounds\n",
      "[100]\ttraining's l1: 2.63234\tvalid_1's l1: 2.61261\n",
      "[200]\ttraining's l1: 2.59874\tvalid_1's l1: 2.5813\n",
      "[300]\ttraining's l1: 2.58637\tvalid_1's l1: 2.57217\n",
      "[400]\ttraining's l1: 2.57885\tvalid_1's l1: 2.57037\n",
      "[500]\ttraining's l1: 2.57202\tvalid_1's l1: 2.56618\n",
      "[600]\ttraining's l1: 2.56676\tvalid_1's l1: 2.56466\n",
      "[700]\ttraining's l1: 2.56022\tvalid_1's l1: 2.55949\n",
      "[800]\ttraining's l1: 2.55596\tvalid_1's l1: 2.55871\n",
      "[900]\ttraining's l1: 2.55113\tvalid_1's l1: 2.55769\n",
      "[1000]\ttraining's l1: 2.54499\tvalid_1's l1: 2.55467\n",
      "[1100]\ttraining's l1: 2.54175\tvalid_1's l1: 2.55379\n",
      "[1200]\ttraining's l1: 2.53791\tvalid_1's l1: 2.55256\n",
      "Early stopping, best iteration is:\n",
      "[1158]\ttraining's l1: 2.53884\tvalid_1's l1: 2.55231\n"
     ]
    },
    {
     "name": "stderr",
     "output_type": "stream",
     "text": [
      "\u001b[32m[I 2021-07-29 23:37:32,493]\u001b[0m Trial 91 finished with value: -2.5511205593743744 and parameters: {'max_depth': 4, 'min_child_weight': 2, 'subsample': 0.7, 'colsample_bytree': 0.9, 'reg_lambda': 0.009504089336088284, 'reg_alpha': 0.7015339507571935, 'feature_fraction': 0.45664918463164306, 'bagging_fraction': 0.7361782827397079, 'bagging_freq': 12, 'num_leaves': 205, 'min_child_samples': 41}. Best is trial 42 with value: -2.5426393658701856.\u001b[0m\n"
     ]
    },
    {
     "name": "stdout",
     "output_type": "stream",
     "text": [
      "[LightGBM] [Warning] feature_fraction is set=0.42397221341492664, colsample_bytree=0.9 will be ignored. Current value: feature_fraction=0.42397221341492664\n",
      "[LightGBM] [Warning] bagging_fraction is set=0.7619639633733657, subsample=0.7 will be ignored. Current value: bagging_fraction=0.7619639633733657\n",
      "[LightGBM] [Warning] bagging_freq is set=13, subsample_freq=0 will be ignored. Current value: bagging_freq=13\n",
      "Training until validation scores don't improve for 100 rounds\n",
      "[100]\ttraining's l1: 2.59785\tvalid_1's l1: 2.58108\n",
      "[200]\ttraining's l1: 2.57143\tvalid_1's l1: 2.56826\n",
      "[300]\ttraining's l1: 2.55426\tvalid_1's l1: 2.56006\n",
      "[400]\ttraining's l1: 2.54328\tvalid_1's l1: 2.55702\n",
      "[500]\ttraining's l1: 2.53681\tvalid_1's l1: 2.55562\n",
      "[600]\ttraining's l1: 2.53196\tvalid_1's l1: 2.55443\n",
      "[700]\ttraining's l1: 2.5245\tvalid_1's l1: 2.55106\n",
      "[800]\ttraining's l1: 2.5188\tvalid_1's l1: 2.5496\n",
      "[900]\ttraining's l1: 2.51457\tvalid_1's l1: 2.54851\n",
      "[1000]\ttraining's l1: 2.51006\tvalid_1's l1: 2.54787\n",
      "[1100]\ttraining's l1: 2.50447\tvalid_1's l1: 2.54772\n",
      "[1200]\ttraining's l1: 2.4986\tvalid_1's l1: 2.54719\n",
      "Early stopping, best iteration is:\n",
      "[1112]\ttraining's l1: 2.50351\tvalid_1's l1: 2.54681\n"
     ]
    },
    {
     "name": "stderr",
     "output_type": "stream",
     "text": [
      "\u001b[32m[I 2021-07-29 23:37:41,927]\u001b[0m Trial 92 finished with value: -2.5452679231064814 and parameters: {'max_depth': 5, 'min_child_weight': 4, 'subsample': 0.7, 'colsample_bytree': 0.9, 'reg_lambda': 0.006824685822236615, 'reg_alpha': 0.3995074754643451, 'feature_fraction': 0.42397221341492664, 'bagging_fraction': 0.7619639633733657, 'bagging_freq': 13, 'num_leaves': 169, 'min_child_samples': 37}. Best is trial 42 with value: -2.5426393658701856.\u001b[0m\n"
     ]
    },
    {
     "name": "stdout",
     "output_type": "stream",
     "text": [
      "[LightGBM] [Warning] feature_fraction is set=0.4195744290930364, colsample_bytree=0.9 will be ignored. Current value: feature_fraction=0.4195744290930364\n",
      "[LightGBM] [Warning] bagging_fraction is set=0.8450703690122885, subsample=0.7 will be ignored. Current value: bagging_fraction=0.8450703690122885\n",
      "[LightGBM] [Warning] bagging_freq is set=14, subsample_freq=0 will be ignored. Current value: bagging_freq=14\n",
      "Training until validation scores don't improve for 100 rounds\n",
      "[100]\ttraining's l1: 2.55893\tvalid_1's l1: 2.57133\n",
      "[200]\ttraining's l1: 2.53072\tvalid_1's l1: 2.55966\n",
      "[300]\ttraining's l1: 2.5193\tvalid_1's l1: 2.5566\n",
      "[400]\ttraining's l1: 2.50887\tvalid_1's l1: 2.55301\n",
      "[500]\ttraining's l1: 2.49754\tvalid_1's l1: 2.55042\n",
      "[600]\ttraining's l1: 2.48788\tvalid_1's l1: 2.54975\n",
      "[700]\ttraining's l1: 2.47913\tvalid_1's l1: 2.54889\n",
      "[800]\ttraining's l1: 2.47089\tvalid_1's l1: 2.54696\n",
      "[900]\ttraining's l1: 2.46105\tvalid_1's l1: 2.54651\n",
      "[1000]\ttraining's l1: 2.45475\tvalid_1's l1: 2.54659\n",
      "Early stopping, best iteration is:\n",
      "[974]\ttraining's l1: 2.45667\tvalid_1's l1: 2.54627\n"
     ]
    },
    {
     "name": "stderr",
     "output_type": "stream",
     "text": [
      "\u001b[32m[I 2021-07-29 23:37:51,813]\u001b[0m Trial 93 finished with value: -2.544878705816099 and parameters: {'max_depth': 6, 'min_child_weight': 4, 'subsample': 0.7, 'colsample_bytree': 0.9, 'reg_lambda': 0.016316626523068128, 'reg_alpha': 1.1314478767334373, 'feature_fraction': 0.4195744290930364, 'bagging_fraction': 0.8450703690122885, 'bagging_freq': 14, 'num_leaves': 121, 'min_child_samples': 37}. Best is trial 42 with value: -2.5426393658701856.\u001b[0m\n"
     ]
    },
    {
     "name": "stdout",
     "output_type": "stream",
     "text": [
      "[LightGBM] [Warning] feature_fraction is set=0.416377250547858, colsample_bytree=0.9 will be ignored. Current value: feature_fraction=0.416377250547858\n",
      "[LightGBM] [Warning] bagging_fraction is set=0.8427073999151482, subsample=0.7 will be ignored. Current value: bagging_fraction=0.8427073999151482\n",
      "[LightGBM] [Warning] bagging_freq is set=13, subsample_freq=0 will be ignored. Current value: bagging_freq=13\n",
      "Training until validation scores don't improve for 100 rounds\n",
      "[100]\ttraining's l1: 2.59744\tvalid_1's l1: 2.59086\n",
      "[200]\ttraining's l1: 2.56064\tvalid_1's l1: 2.57076\n",
      "[300]\ttraining's l1: 2.54987\tvalid_1's l1: 2.56287\n",
      "[400]\ttraining's l1: 2.53872\tvalid_1's l1: 2.55936\n",
      "[500]\ttraining's l1: 2.53099\tvalid_1's l1: 2.55553\n",
      "[600]\ttraining's l1: 2.52568\tvalid_1's l1: 2.55496\n",
      "[700]\ttraining's l1: 2.52007\tvalid_1's l1: 2.55479\n",
      "[800]\ttraining's l1: 2.51167\tvalid_1's l1: 2.5535\n",
      "[900]\ttraining's l1: 2.50658\tvalid_1's l1: 2.55283\n",
      "[1000]\ttraining's l1: 2.50272\tvalid_1's l1: 2.5529\n",
      "[1100]\ttraining's l1: 2.49905\tvalid_1's l1: 2.55181\n",
      "[1200]\ttraining's l1: 2.49651\tvalid_1's l1: 2.55121\n",
      "[1300]\ttraining's l1: 2.48994\tvalid_1's l1: 2.54975\n",
      "[1400]\ttraining's l1: 2.4852\tvalid_1's l1: 2.54918\n",
      "[1500]\ttraining's l1: 2.48102\tvalid_1's l1: 2.54992\n",
      "Early stopping, best iteration is:\n",
      "[1403]\ttraining's l1: 2.48501\tvalid_1's l1: 2.54904\n"
     ]
    },
    {
     "name": "stderr",
     "output_type": "stream",
     "text": [
      "\u001b[32m[I 2021-07-29 23:38:04,235]\u001b[0m Trial 94 finished with value: -2.547581249652105 and parameters: {'max_depth': 5, 'min_child_weight': 4, 'subsample': 0.7, 'colsample_bytree': 0.9, 'reg_lambda': 0.004037454376887065, 'reg_alpha': 1.2141055554855733, 'feature_fraction': 0.416377250547858, 'bagging_fraction': 0.8427073999151482, 'bagging_freq': 13, 'num_leaves': 170, 'min_child_samples': 36}. Best is trial 42 with value: -2.5426393658701856.\u001b[0m\n"
     ]
    },
    {
     "name": "stdout",
     "output_type": "stream",
     "text": [
      "[LightGBM] [Warning] feature_fraction is set=0.4209991332201916, colsample_bytree=0.9 will be ignored. Current value: feature_fraction=0.4209991332201916\n",
      "[LightGBM] [Warning] bagging_fraction is set=0.840837662995931, subsample=0.7 will be ignored. Current value: bagging_fraction=0.840837662995931\n",
      "[LightGBM] [Warning] bagging_freq is set=16, subsample_freq=0 will be ignored. Current value: bagging_freq=16\n",
      "Training until validation scores don't improve for 100 rounds\n",
      "[100]\ttraining's l1: 2.596\tvalid_1's l1: 2.59124\n",
      "[200]\ttraining's l1: 2.56452\tvalid_1's l1: 2.57\n",
      "[300]\ttraining's l1: 2.55176\tvalid_1's l1: 2.56358\n",
      "[400]\ttraining's l1: 2.54186\tvalid_1's l1: 2.55952\n",
      "[500]\ttraining's l1: 2.53485\tvalid_1's l1: 2.55861\n",
      "[600]\ttraining's l1: 2.52953\tvalid_1's l1: 2.55732\n",
      "[700]\ttraining's l1: 2.52134\tvalid_1's l1: 2.55577\n",
      "[800]\ttraining's l1: 2.51606\tvalid_1's l1: 2.55457\n",
      "[900]\ttraining's l1: 2.5104\tvalid_1's l1: 2.55288\n",
      "[1000]\ttraining's l1: 2.50354\tvalid_1's l1: 2.5515\n",
      "[1100]\ttraining's l1: 2.49891\tvalid_1's l1: 2.55084\n",
      "Early stopping, best iteration is:\n",
      "[1099]\ttraining's l1: 2.49892\tvalid_1's l1: 2.55082\n"
     ]
    },
    {
     "name": "stderr",
     "output_type": "stream",
     "text": [
      "\u001b[32m[I 2021-07-29 23:38:14,142]\u001b[0m Trial 95 finished with value: -2.549684568262577 and parameters: {'max_depth': 5, 'min_child_weight': 4, 'subsample': 0.7, 'colsample_bytree': 0.9, 'reg_lambda': 0.004093148861712962, 'reg_alpha': 1.1190867138101244, 'feature_fraction': 0.4209991332201916, 'bagging_fraction': 0.840837662995931, 'bagging_freq': 16, 'num_leaves': 108, 'min_child_samples': 34}. Best is trial 42 with value: -2.5426393658701856.\u001b[0m\n"
     ]
    },
    {
     "name": "stdout",
     "output_type": "stream",
     "text": [
      "[LightGBM] [Warning] feature_fraction is set=0.38275986938644974, colsample_bytree=0.9 will be ignored. Current value: feature_fraction=0.38275986938644974\n",
      "[LightGBM] [Warning] bagging_fraction is set=0.7679537852866449, subsample=0.7 will be ignored. Current value: bagging_fraction=0.7679537852866449\n",
      "[LightGBM] [Warning] bagging_freq is set=14, subsample_freq=0 will be ignored. Current value: bagging_freq=14\n",
      "Training until validation scores don't improve for 100 rounds\n",
      "[100]\ttraining's l1: 2.68803\tvalid_1's l1: 2.66233\n",
      "[200]\ttraining's l1: 2.64994\tvalid_1's l1: 2.62597\n",
      "[300]\ttraining's l1: 2.63191\tvalid_1's l1: 2.60817\n",
      "[400]\ttraining's l1: 2.62107\tvalid_1's l1: 2.60036\n",
      "[500]\ttraining's l1: 2.61402\tvalid_1's l1: 2.59523\n",
      "[600]\ttraining's l1: 2.6074\tvalid_1's l1: 2.58797\n",
      "[700]\ttraining's l1: 2.60372\tvalid_1's l1: 2.58453\n",
      "[800]\ttraining's l1: 2.59534\tvalid_1's l1: 2.57876\n",
      "[900]\ttraining's l1: 2.59024\tvalid_1's l1: 2.57484\n"
     ]
    },
    {
     "name": "stderr",
     "output_type": "stream",
     "text": [
      "\u001b[32m[I 2021-07-29 23:38:20,529]\u001b[0m Trial 96 finished with value: -2.5737231302872647 and parameters: {'max_depth': 3, 'min_child_weight': 4, 'subsample': 0.7, 'colsample_bytree': 0.9, 'reg_lambda': 0.0013635809999131127, 'reg_alpha': 0.35397659304650436, 'feature_fraction': 0.38275986938644974, 'bagging_fraction': 0.7679537852866449, 'bagging_freq': 14, 'num_leaves': 185, 'min_child_samples': 32}. Best is trial 42 with value: -2.5426393658701856.\u001b[0m\n"
     ]
    },
    {
     "name": "stdout",
     "output_type": "stream",
     "text": [
      "Early stopping, best iteration is:\n",
      "[867]\ttraining's l1: 2.59106\tvalid_1's l1: 2.57459\n",
      "[LightGBM] [Warning] feature_fraction is set=0.33896523970759834, colsample_bytree=0.9 will be ignored. Current value: feature_fraction=0.33896523970759834\n",
      "[LightGBM] [Warning] bagging_fraction is set=0.875932122181423, subsample=0.7 will be ignored. Current value: bagging_fraction=0.875932122181423\n",
      "[LightGBM] [Warning] bagging_freq is set=13, subsample_freq=0 will be ignored. Current value: bagging_freq=13\n",
      "Training until validation scores don't improve for 100 rounds\n",
      "[100]\ttraining's l1: 2.52869\tvalid_1's l1: 2.56916\n",
      "[200]\ttraining's l1: 2.49326\tvalid_1's l1: 2.55674\n",
      "[300]\ttraining's l1: 2.47635\tvalid_1's l1: 2.55364\n",
      "[400]\ttraining's l1: 2.46257\tvalid_1's l1: 2.55307\n"
     ]
    },
    {
     "name": "stderr",
     "output_type": "stream",
     "text": [
      "\u001b[32m[I 2021-07-29 23:38:25,964]\u001b[0m Trial 97 finished with value: -2.5523204388483656 and parameters: {'max_depth': 7, 'min_child_weight': 3, 'subsample': 0.7, 'colsample_bytree': 0.9, 'reg_lambda': 0.0028935563406858617, 'reg_alpha': 1.6762268608187505, 'feature_fraction': 0.33896523970759834, 'bagging_fraction': 0.875932122181423, 'bagging_freq': 13, 'num_leaves': 144, 'min_child_samples': 24}. Best is trial 42 with value: -2.5426393658701856.\u001b[0m\n"
     ]
    },
    {
     "name": "stdout",
     "output_type": "stream",
     "text": [
      "[500]\ttraining's l1: 2.43718\tvalid_1's l1: 2.55344\n",
      "Early stopping, best iteration is:\n",
      "[401]\ttraining's l1: 2.46204\tvalid_1's l1: 2.55302\n",
      "[LightGBM] [Warning] feature_fraction is set=0.40463046175618017, colsample_bytree=0.9 will be ignored. Current value: feature_fraction=0.40463046175618017\n",
      "[LightGBM] [Warning] bagging_fraction is set=0.7941098790821811, subsample=0.7 will be ignored. Current value: bagging_fraction=0.7941098790821811\n",
      "[LightGBM] [Warning] bagging_freq is set=13, subsample_freq=0 will be ignored. Current value: bagging_freq=13\n",
      "Training until validation scores don't improve for 100 rounds\n",
      "[100]\ttraining's l1: 2.55944\tvalid_1's l1: 2.57297\n",
      "[200]\ttraining's l1: 2.52959\tvalid_1's l1: 2.5598\n",
      "[300]\ttraining's l1: 2.51599\tvalid_1's l1: 2.5585\n",
      "[400]\ttraining's l1: 2.50406\tvalid_1's l1: 2.55543\n",
      "[500]\ttraining's l1: 2.49529\tvalid_1's l1: 2.55379\n",
      "[600]\ttraining's l1: 2.48883\tvalid_1's l1: 2.55429\n",
      "Early stopping, best iteration is:\n",
      "[510]\ttraining's l1: 2.49463\tvalid_1's l1: 2.5536\n"
     ]
    },
    {
     "name": "stderr",
     "output_type": "stream",
     "text": [
      "\u001b[32m[I 2021-07-29 23:38:31,593]\u001b[0m Trial 98 finished with value: -2.5527105129654033 and parameters: {'max_depth': 6, 'min_child_weight': 5, 'subsample': 0.7, 'colsample_bytree': 0.9, 'reg_lambda': 0.01349079299855229, 'reg_alpha': 0.975922143718331, 'feature_fraction': 0.40463046175618017, 'bagging_fraction': 0.7941098790821811, 'bagging_freq': 13, 'num_leaves': 123, 'min_child_samples': 36}. Best is trial 42 with value: -2.5426393658701856.\u001b[0m\n"
     ]
    },
    {
     "name": "stdout",
     "output_type": "stream",
     "text": [
      "[LightGBM] [Warning] feature_fraction is set=0.4913578791628082, colsample_bytree=0.9 will be ignored. Current value: feature_fraction=0.4913578791628082\n",
      "[LightGBM] [Warning] bagging_fraction is set=0.8205562338892088, subsample=0.7 will be ignored. Current value: bagging_fraction=0.8205562338892088\n",
      "[LightGBM] [Warning] bagging_freq is set=14, subsample_freq=0 will be ignored. Current value: bagging_freq=14\n",
      "Training until validation scores don't improve for 100 rounds\n",
      "[100]\ttraining's l1: 2.59748\tvalid_1's l1: 2.58357\n",
      "[200]\ttraining's l1: 2.56763\tvalid_1's l1: 2.56453\n",
      "[300]\ttraining's l1: 2.55624\tvalid_1's l1: 2.56151\n",
      "[400]\ttraining's l1: 2.54548\tvalid_1's l1: 2.5568\n",
      "[500]\ttraining's l1: 2.53763\tvalid_1's l1: 2.55594\n",
      "[600]\ttraining's l1: 2.53011\tvalid_1's l1: 2.55163\n",
      "[700]\ttraining's l1: 2.52316\tvalid_1's l1: 2.549\n",
      "[800]\ttraining's l1: 2.51722\tvalid_1's l1: 2.54794\n",
      "[900]\ttraining's l1: 2.50956\tvalid_1's l1: 2.54668\n",
      "[1000]\ttraining's l1: 2.50546\tvalid_1's l1: 2.54638\n",
      "Early stopping, best iteration is:\n",
      "[914]\ttraining's l1: 2.50851\tvalid_1's l1: 2.54607\n"
     ]
    },
    {
     "name": "stderr",
     "output_type": "stream",
     "text": [
      "\u001b[32m[I 2021-07-29 23:38:40,443]\u001b[0m Trial 99 finished with value: -2.545135745190846 and parameters: {'max_depth': 5, 'min_child_weight': 5, 'subsample': 0.7, 'colsample_bytree': 0.9, 'reg_lambda': 0.006073747586073427, 'reg_alpha': 0.5211778535719476, 'feature_fraction': 0.4913578791628082, 'bagging_fraction': 0.8205562338892088, 'bagging_freq': 14, 'num_leaves': 172, 'min_child_samples': 38}. Best is trial 42 with value: -2.5426393658701856.\u001b[0m\n",
      "\u001b[32m[I 2021-07-29 23:38:40,444]\u001b[0m A new study created in memory with name: no-name-5bc77fa6-6cef-4111-8495-5b9b0a9a66d5\u001b[0m\n"
     ]
    },
    {
     "name": "stdout",
     "output_type": "stream",
     "text": [
      "[LightGBM] [Warning] feature_fraction is set=0.5272149008880471, colsample_bytree=0.5 will be ignored. Current value: feature_fraction=0.5272149008880471\n",
      "[LightGBM] [Warning] bagging_fraction is set=0.34817169072215814, subsample=0.7 will be ignored. Current value: bagging_fraction=0.34817169072215814\n",
      "[LightGBM] [Warning] bagging_freq is set=16, subsample_freq=0 will be ignored. Current value: bagging_freq=16\n",
      "Training until validation scores don't improve for 100 rounds\n"
     ]
    },
    {
     "name": "stderr",
     "output_type": "stream",
     "text": [
      "\u001b[32m[I 2021-07-29 23:38:41,701]\u001b[0m Trial 0 finished with value: -2.852656912024203 and parameters: {'max_depth': 6, 'min_child_weight': 18, 'subsample': 0.7, 'colsample_bytree': 0.5, 'reg_lambda': 4.904709087139373, 'reg_alpha': 2.6083040510628313, 'feature_fraction': 0.5272149008880471, 'bagging_fraction': 0.34817169072215814, 'bagging_freq': 16, 'num_leaves': 558, 'min_child_samples': 81}. Best is trial 0 with value: -2.852656912024203.\u001b[0m\n"
     ]
    },
    {
     "name": "stdout",
     "output_type": "stream",
     "text": [
      "[100]\ttraining's l1: 3.00945\tvalid_1's l1: 2.92775\n",
      "Early stopping, best iteration is:\n",
      "[19]\ttraining's l1: 3.26086\tvalid_1's l1: 2.85266\n",
      "[LightGBM] [Warning] feature_fraction is set=0.329059559558999, colsample_bytree=0.5 will be ignored. Current value: feature_fraction=0.329059559558999\n",
      "[LightGBM] [Warning] bagging_fraction is set=0.20899982849686075, subsample=0.6 will be ignored. Current value: bagging_fraction=0.20899982849686075\n",
      "[LightGBM] [Warning] bagging_freq is set=18, subsample_freq=0 will be ignored. Current value: bagging_freq=18\n",
      "Training until validation scores don't improve for 100 rounds\n"
     ]
    },
    {
     "name": "stderr",
     "output_type": "stream",
     "text": [
      "\u001b[32m[I 2021-07-29 23:38:43,544]\u001b[0m Trial 1 finished with value: -2.9413723403649055 and parameters: {'max_depth': 19, 'min_child_weight': 19, 'subsample': 0.6, 'colsample_bytree': 0.5, 'reg_lambda': 0.24493078026238993, 'reg_alpha': 0.5065602597867824, 'feature_fraction': 0.329059559558999, 'bagging_fraction': 0.20899982849686075, 'bagging_freq': 18, 'num_leaves': 516, 'min_child_samples': 83}. Best is trial 0 with value: -2.852656912024203.\u001b[0m\n"
     ]
    },
    {
     "name": "stdout",
     "output_type": "stream",
     "text": [
      "[100]\ttraining's l1: 2.89802\tvalid_1's l1: 3.1023\n",
      "Early stopping, best iteration is:\n",
      "[12]\ttraining's l1: 3.28669\tvalid_1's l1: 2.94137\n",
      "[LightGBM] [Warning] feature_fraction is set=0.7173842774753625, colsample_bytree=0.7 will be ignored. Current value: feature_fraction=0.7173842774753625\n",
      "[LightGBM] [Warning] bagging_fraction is set=0.5929945056509035, subsample=0.8 will be ignored. Current value: bagging_fraction=0.5929945056509035\n",
      "[LightGBM] [Warning] bagging_freq is set=1, subsample_freq=0 will be ignored. Current value: bagging_freq=1\n",
      "Training until validation scores don't improve for 100 rounds\n"
     ]
    },
    {
     "name": "stderr",
     "output_type": "stream",
     "text": [
      "\u001b[32m[I 2021-07-29 23:38:44,925]\u001b[0m Trial 2 finished with value: -2.840350776631338 and parameters: {'max_depth': 6, 'min_child_weight': 4, 'subsample': 0.8, 'colsample_bytree': 0.7, 'reg_lambda': 16.45755824401768, 'reg_alpha': 0.7391223862461723, 'feature_fraction': 0.7173842774753625, 'bagging_fraction': 0.5929945056509035, 'bagging_freq': 1, 'num_leaves': 975, 'min_child_samples': 29}. Best is trial 2 with value: -2.840350776631338.\u001b[0m\n"
     ]
    },
    {
     "name": "stdout",
     "output_type": "stream",
     "text": [
      "[100]\ttraining's l1: 2.96319\tvalid_1's l1: 2.94239\n",
      "Early stopping, best iteration is:\n",
      "[19]\ttraining's l1: 3.24127\tvalid_1's l1: 2.84035\n",
      "[LightGBM] [Warning] feature_fraction is set=0.4536029130879607, colsample_bytree=0.9 will be ignored. Current value: feature_fraction=0.4536029130879607\n",
      "[LightGBM] [Warning] bagging_fraction is set=0.7223135293782248, subsample=0.5 will be ignored. Current value: bagging_fraction=0.7223135293782248\n",
      "[LightGBM] [Warning] bagging_freq is set=19, subsample_freq=0 will be ignored. Current value: bagging_freq=19\n",
      "Training until validation scores don't improve for 100 rounds\n",
      "[100]\ttraining's l1: 2.60131\tvalid_1's l1: 3.17399\n"
     ]
    },
    {
     "name": "stderr",
     "output_type": "stream",
     "text": [
      "\u001b[32m[I 2021-07-29 23:38:48,854]\u001b[0m Trial 3 finished with value: -2.916928358166169 and parameters: {'max_depth': 13, 'min_child_weight': 20, 'subsample': 0.5, 'colsample_bytree': 0.9, 'reg_lambda': 0.6102379062750657, 'reg_alpha': 0.03256470963629263, 'feature_fraction': 0.4536029130879607, 'bagging_fraction': 0.7223135293782248, 'bagging_freq': 19, 'num_leaves': 925, 'min_child_samples': 13}. Best is trial 2 with value: -2.840350776631338.\u001b[0m\n"
     ]
    },
    {
     "name": "stdout",
     "output_type": "stream",
     "text": [
      "Early stopping, best iteration is:\n",
      "[12]\ttraining's l1: 3.13351\tvalid_1's l1: 2.91693\n",
      "[LightGBM] [Warning] feature_fraction is set=0.8270767425408752, colsample_bytree=0.6 will be ignored. Current value: feature_fraction=0.8270767425408752\n",
      "[LightGBM] [Warning] bagging_fraction is set=0.41346343273530706, subsample=0.6 will be ignored. Current value: bagging_fraction=0.41346343273530706\n",
      "[LightGBM] [Warning] bagging_freq is set=1, subsample_freq=0 will be ignored. Current value: bagging_freq=1\n",
      "Training until validation scores don't improve for 100 rounds\n",
      "[100]\ttraining's l1: 3.00507\tvalid_1's l1: 3.0107\n"
     ]
    },
    {
     "name": "stderr",
     "output_type": "stream",
     "text": [
      "\u001b[32m[I 2021-07-29 23:38:50,947]\u001b[0m Trial 4 finished with value: -2.9051856439340034 and parameters: {'max_depth': 9, 'min_child_weight': 9, 'subsample': 0.6, 'colsample_bytree': 0.6, 'reg_lambda': 482.02597145767226, 'reg_alpha': 114.85369045169995, 'feature_fraction': 0.8270767425408752, 'bagging_fraction': 0.41346343273530706, 'bagging_freq': 1, 'num_leaves': 816, 'min_child_samples': 6}. Best is trial 2 with value: -2.840350776631338.\u001b[0m\n"
     ]
    },
    {
     "name": "stdout",
     "output_type": "stream",
     "text": [
      "Early stopping, best iteration is:\n",
      "[17]\ttraining's l1: 3.35627\tvalid_1's l1: 2.90519\n",
      "[LightGBM] [Warning] feature_fraction is set=0.5468404692873318, colsample_bytree=0.9 will be ignored. Current value: feature_fraction=0.5468404692873318\n",
      "[LightGBM] [Warning] bagging_fraction is set=0.5885424064406042, subsample=0.8 will be ignored. Current value: bagging_fraction=0.5885424064406042\n",
      "[LightGBM] [Warning] bagging_freq is set=19, subsample_freq=0 will be ignored. Current value: bagging_freq=19\n",
      "Training until validation scores don't improve for 100 rounds\n",
      "[100]\ttraining's l1: 2.80532\tvalid_1's l1: 3.05955\n"
     ]
    },
    {
     "name": "stderr",
     "output_type": "stream",
     "text": [
      "\u001b[32m[I 2021-07-29 23:38:53,606]\u001b[0m Trial 5 finished with value: -2.8835102649500635 and parameters: {'max_depth': 20, 'min_child_weight': 18, 'subsample': 0.8, 'colsample_bytree': 0.9, 'reg_lambda': 7.858587529809444, 'reg_alpha': 3.578850796833205, 'feature_fraction': 0.5468404692873318, 'bagging_fraction': 0.5885424064406042, 'bagging_freq': 19, 'num_leaves': 184, 'min_child_samples': 19}. Best is trial 2 with value: -2.840350776631338.\u001b[0m\n"
     ]
    },
    {
     "name": "stdout",
     "output_type": "stream",
     "text": [
      "Early stopping, best iteration is:\n",
      "[12]\ttraining's l1: 3.30146\tvalid_1's l1: 2.88351\n",
      "[LightGBM] [Warning] feature_fraction is set=0.6937246024027468, colsample_bytree=0.8 will be ignored. Current value: feature_fraction=0.6937246024027468\n",
      "[LightGBM] [Warning] bagging_fraction is set=0.8689019894187808, subsample=0.8 will be ignored. Current value: bagging_fraction=0.8689019894187808\n",
      "[LightGBM] [Warning] bagging_freq is set=20, subsample_freq=0 will be ignored. Current value: bagging_freq=20\n",
      "Training until validation scores don't improve for 100 rounds\n",
      "[100]\ttraining's l1: 2.68958\tvalid_1's l1: 3.08397\n"
     ]
    },
    {
     "name": "stderr",
     "output_type": "stream",
     "text": [
      "\u001b[32m[I 2021-07-29 23:38:57,291]\u001b[0m Trial 6 finished with value: -2.8970824802115995 and parameters: {'max_depth': 20, 'min_child_weight': 10, 'subsample': 0.8, 'colsample_bytree': 0.8, 'reg_lambda': 27.17436748910509, 'reg_alpha': 0.06184454177028451, 'feature_fraction': 0.6937246024027468, 'bagging_fraction': 0.8689019894187808, 'bagging_freq': 20, 'num_leaves': 412, 'min_child_samples': 90}. Best is trial 2 with value: -2.840350776631338.\u001b[0m\n"
     ]
    },
    {
     "name": "stdout",
     "output_type": "stream",
     "text": [
      "Early stopping, best iteration is:\n",
      "[12]\ttraining's l1: 3.22955\tvalid_1's l1: 2.89708\n",
      "[LightGBM] [Warning] feature_fraction is set=0.9127685965658656, colsample_bytree=0.6 will be ignored. Current value: feature_fraction=0.9127685965658656\n",
      "[LightGBM] [Warning] bagging_fraction is set=0.725725850895601, subsample=0.9 will be ignored. Current value: bagging_fraction=0.725725850895601\n",
      "[LightGBM] [Warning] bagging_freq is set=7, subsample_freq=0 will be ignored. Current value: bagging_freq=7\n",
      "Training until validation scores don't improve for 100 rounds\n",
      "[100]\ttraining's l1: 3.02646\tvalid_1's l1: 3.00494\n",
      "Early stopping, best iteration is:\n",
      "[19]\ttraining's l1: 3.31105\tvalid_1's l1: 2.90437\n"
     ]
    },
    {
     "name": "stderr",
     "output_type": "stream",
     "text": [
      "\u001b[32m[I 2021-07-29 23:38:59,293]\u001b[0m Trial 7 finished with value: -2.904370063121142 and parameters: {'max_depth': 14, 'min_child_weight': 20, 'subsample': 0.9, 'colsample_bytree': 0.6, 'reg_lambda': 211.65761509132108, 'reg_alpha': 302.9538806467205, 'feature_fraction': 0.9127685965658656, 'bagging_fraction': 0.725725850895601, 'bagging_freq': 7, 'num_leaves': 530, 'min_child_samples': 21}. Best is trial 2 with value: -2.840350776631338.\u001b[0m\n"
     ]
    },
    {
     "name": "stdout",
     "output_type": "stream",
     "text": [
      "[LightGBM] [Warning] feature_fraction is set=0.5980076638999484, colsample_bytree=0.6 will be ignored. Current value: feature_fraction=0.5980076638999484\n",
      "[LightGBM] [Warning] bagging_fraction is set=0.3812449072998052, subsample=0.8 will be ignored. Current value: bagging_fraction=0.3812449072998052\n",
      "[LightGBM] [Warning] bagging_freq is set=12, subsample_freq=0 will be ignored. Current value: bagging_freq=12\n",
      "Training until validation scores don't improve for 100 rounds\n",
      "[100]\ttraining's l1: 2.75337\tvalid_1's l1: 3.08993\n",
      "Early stopping, best iteration is:\n",
      "[10]\ttraining's l1: 3.27696\tvalid_1's l1: 2.92706\n"
     ]
    },
    {
     "name": "stderr",
     "output_type": "stream",
     "text": [
      "\u001b[32m[I 2021-07-29 23:39:02,526]\u001b[0m Trial 8 finished with value: -2.927059210927473 and parameters: {'max_depth': 15, 'min_child_weight': 11, 'subsample': 0.8, 'colsample_bytree': 0.6, 'reg_lambda': 1.6764537686543168, 'reg_alpha': 0.030551445046902742, 'feature_fraction': 0.5980076638999484, 'bagging_fraction': 0.3812449072998052, 'bagging_freq': 12, 'num_leaves': 930, 'min_child_samples': 58}. Best is trial 2 with value: -2.840350776631338.\u001b[0m\n"
     ]
    },
    {
     "name": "stdout",
     "output_type": "stream",
     "text": [
      "[LightGBM] [Warning] feature_fraction is set=0.9507977073751157, colsample_bytree=0.6 will be ignored. Current value: feature_fraction=0.9507977073751157\n",
      "[LightGBM] [Warning] bagging_fraction is set=0.21728548131309103, subsample=0.9 will be ignored. Current value: bagging_fraction=0.21728548131309103\n",
      "[LightGBM] [Warning] bagging_freq is set=16, subsample_freq=0 will be ignored. Current value: bagging_freq=16\n",
      "Training until validation scores don't improve for 100 rounds\n",
      "[100]\ttraining's l1: 3.30483\tvalid_1's l1: 2.85892\n"
     ]
    },
    {
     "name": "stderr",
     "output_type": "stream",
     "text": [
      "\u001b[32m[I 2021-07-29 23:39:03,458]\u001b[0m Trial 9 finished with value: -2.8586298045200422 and parameters: {'max_depth': 2, 'min_child_weight': 10, 'subsample': 0.9, 'colsample_bytree': 0.6, 'reg_lambda': 0.22894683991435352, 'reg_alpha': 166.5698396884754, 'feature_fraction': 0.9507977073751157, 'bagging_fraction': 0.21728548131309103, 'bagging_freq': 16, 'num_leaves': 373, 'min_child_samples': 81}. Best is trial 2 with value: -2.840350776631338.\u001b[0m\n"
     ]
    },
    {
     "name": "stdout",
     "output_type": "stream",
     "text": [
      "[200]\ttraining's l1: 3.24973\tvalid_1's l1: 2.87657\n",
      "Early stopping, best iteration is:\n",
      "[101]\ttraining's l1: 3.30459\tvalid_1's l1: 2.85863\n",
      "[LightGBM] [Warning] feature_fraction is set=0.7587127190330192, colsample_bytree=0.8 will be ignored. Current value: feature_fraction=0.7587127190330192\n",
      "[LightGBM] [Warning] bagging_fraction is set=0.9622607315811842, subsample=0.7 will be ignored. Current value: bagging_fraction=0.9622607315811842\n",
      "[LightGBM] [Warning] bagging_freq is set=2, subsample_freq=0 will be ignored. Current value: bagging_freq=2\n",
      "Training until validation scores don't improve for 100 rounds\n",
      "[100]\ttraining's l1: 3.16681\tvalid_1's l1: 2.84483\n"
     ]
    },
    {
     "name": "stderr",
     "output_type": "stream",
     "text": [
      "\u001b[32m[I 2021-07-29 23:39:05,127]\u001b[0m Trial 10 finished with value: -2.837074736818073 and parameters: {'max_depth': 3, 'min_child_weight': 1, 'subsample': 0.7, 'colsample_bytree': 0.8, 'reg_lambda': 0.0028528116034236568, 'reg_alpha': 0.0033611544208155303, 'feature_fraction': 0.7587127190330192, 'bagging_fraction': 0.9622607315811842, 'bagging_freq': 2, 'num_leaves': 760, 'min_child_samples': 43}. Best is trial 10 with value: -2.837074736818073.\u001b[0m\n"
     ]
    },
    {
     "name": "stdout",
     "output_type": "stream",
     "text": [
      "Early stopping, best iteration is:\n",
      "[40]\ttraining's l1: 3.29608\tvalid_1's l1: 2.83707\n",
      "[LightGBM] [Warning] feature_fraction is set=0.7378337256254729, colsample_bytree=0.8 will be ignored. Current value: feature_fraction=0.7378337256254729\n",
      "[LightGBM] [Warning] bagging_fraction is set=0.9827106218954281, subsample=0.7 will be ignored. Current value: bagging_fraction=0.9827106218954281\n",
      "[LightGBM] [Warning] bagging_freq is set=1, subsample_freq=0 will be ignored. Current value: bagging_freq=1\n",
      "Training until validation scores don't improve for 100 rounds\n",
      "[100]\ttraining's l1: 3.42692\tvalid_1's l1: 2.85113\n",
      "[200]\ttraining's l1: 3.36415\tvalid_1's l1: 2.83593\n",
      "[300]\ttraining's l1: 3.3303\tvalid_1's l1: 2.8335\n"
     ]
    },
    {
     "name": "stderr",
     "output_type": "stream",
     "text": [
      "\u001b[32m[I 2021-07-29 23:39:07,705]\u001b[0m Trial 11 finished with value: -2.831031899805388 and parameters: {'max_depth': 1, 'min_child_weight': 1, 'subsample': 0.7, 'colsample_bytree': 0.8, 'reg_lambda': 0.0016314022102878487, 'reg_alpha': 0.0018744178944892782, 'feature_fraction': 0.7378337256254729, 'bagging_fraction': 0.9827106218954281, 'bagging_freq': 1, 'num_leaves': 739, 'min_child_samples': 42}. Best is trial 11 with value: -2.831031899805388.\u001b[0m\n"
     ]
    },
    {
     "name": "stdout",
     "output_type": "stream",
     "text": [
      "Early stopping, best iteration is:\n",
      "[263]\ttraining's l1: 3.33999\tvalid_1's l1: 2.83103\n",
      "[LightGBM] [Warning] feature_fraction is set=0.7784626502438697, colsample_bytree=0.8 will be ignored. Current value: feature_fraction=0.7784626502438697\n",
      "[LightGBM] [Warning] bagging_fraction is set=0.9686099657625656, subsample=0.7 will be ignored. Current value: bagging_fraction=0.9686099657625656\n",
      "[LightGBM] [Warning] bagging_freq is set=5, subsample_freq=0 will be ignored. Current value: bagging_freq=5\n",
      "Training until validation scores don't improve for 100 rounds\n",
      "[100]\ttraining's l1: 3.42853\tvalid_1's l1: 2.85285\n",
      "[200]\ttraining's l1: 3.3635\tvalid_1's l1: 2.83626\n",
      "[300]\ttraining's l1: 3.33024\tvalid_1's l1: 2.83377\n",
      "[400]\ttraining's l1: 3.31047\tvalid_1's l1: 2.83326\n"
     ]
    },
    {
     "name": "stderr",
     "output_type": "stream",
     "text": [
      "\u001b[32m[I 2021-07-29 23:39:11,072]\u001b[0m Trial 12 finished with value: -2.831498669682112 and parameters: {'max_depth': 1, 'min_child_weight': 1, 'subsample': 0.7, 'colsample_bytree': 0.8, 'reg_lambda': 0.0012668296025787492, 'reg_alpha': 0.002438701893290327, 'feature_fraction': 0.7784626502438697, 'bagging_fraction': 0.9686099657625656, 'bagging_freq': 5, 'num_leaves': 728, 'min_child_samples': 41}. Best is trial 11 with value: -2.831031899805388.\u001b[0m\n"
     ]
    },
    {
     "name": "stdout",
     "output_type": "stream",
     "text": [
      "[500]\ttraining's l1: 3.29436\tvalid_1's l1: 2.83885\n",
      "Early stopping, best iteration is:\n",
      "[422]\ttraining's l1: 3.30576\tvalid_1's l1: 2.8315\n",
      "[LightGBM] [Warning] feature_fraction is set=0.8631085292972527, colsample_bytree=0.8 will be ignored. Current value: feature_fraction=0.8631085292972527\n",
      "[LightGBM] [Warning] bagging_fraction is set=0.9765231416268549, subsample=0.6 will be ignored. Current value: bagging_fraction=0.9765231416268549\n",
      "[LightGBM] [Warning] bagging_freq is set=5, subsample_freq=0 will be ignored. Current value: bagging_freq=5\n",
      "Training until validation scores don't improve for 100 rounds\n",
      "[100]\ttraining's l1: 3.26936\tvalid_1's l1: 2.85069\n"
     ]
    },
    {
     "name": "stderr",
     "output_type": "stream",
     "text": [
      "\u001b[32m[I 2021-07-29 23:39:12,966]\u001b[0m Trial 13 finished with value: -2.8480494240191288 and parameters: {'max_depth': 2, 'min_child_weight': 1, 'subsample': 0.6, 'colsample_bytree': 0.8, 'reg_lambda': 0.0021414769231854025, 'reg_alpha': 0.001364790732698909, 'feature_fraction': 0.8631085292972527, 'bagging_fraction': 0.9765231416268549, 'bagging_freq': 5, 'num_leaves': 743, 'min_child_samples': 57}. Best is trial 11 with value: -2.831031899805388.\u001b[0m\n"
     ]
    },
    {
     "name": "stdout",
     "output_type": "stream",
     "text": [
      "Early stopping, best iteration is:\n",
      "[92]\ttraining's l1: 3.28013\tvalid_1's l1: 2.84805\n",
      "[LightGBM] [Warning] feature_fraction is set=0.9967891888470783, colsample_bytree=0.7 will be ignored. Current value: feature_fraction=0.9967891888470783\n",
      "[LightGBM] [Warning] bagging_fraction is set=0.846721527949025, subsample=0.7 will be ignored. Current value: bagging_fraction=0.846721527949025\n",
      "[LightGBM] [Warning] bagging_freq is set=5, subsample_freq=0 will be ignored. Current value: bagging_freq=5\n",
      "Training until validation scores don't improve for 100 rounds\n",
      "[100]\ttraining's l1: 3.01464\tvalid_1's l1: 2.89867\n"
     ]
    },
    {
     "name": "stderr",
     "output_type": "stream",
     "text": [
      "\u001b[32m[I 2021-07-29 23:39:14,648]\u001b[0m Trial 14 finished with value: -2.8353501880010334 and parameters: {'max_depth': 5, 'min_child_weight': 5, 'subsample': 0.7, 'colsample_bytree': 0.7, 'reg_lambda': 0.017308498557872552, 'reg_alpha': 0.001257993100286106, 'feature_fraction': 0.9967891888470783, 'bagging_fraction': 0.846721527949025, 'bagging_freq': 5, 'num_leaves': 670, 'min_child_samples': 43}. Best is trial 11 with value: -2.831031899805388.\u001b[0m\n"
     ]
    },
    {
     "name": "stdout",
     "output_type": "stream",
     "text": [
      "Early stopping, best iteration is:\n",
      "[31]\ttraining's l1: 3.18455\tvalid_1's l1: 2.83535\n",
      "[LightGBM] [Warning] feature_fraction is set=0.6886101852974554, colsample_bytree=0.8 will be ignored. Current value: feature_fraction=0.6886101852974554\n",
      "[LightGBM] [Warning] bagging_fraction is set=0.979915856681757, subsample=0.5 will be ignored. Current value: bagging_fraction=0.979915856681757\n",
      "[LightGBM] [Warning] bagging_freq is set=9, subsample_freq=0 will be ignored. Current value: bagging_freq=9\n",
      "Training until validation scores don't improve for 100 rounds\n",
      "[100]\ttraining's l1: 3.42644\tvalid_1's l1: 2.85225\n",
      "[200]\ttraining's l1: 3.36693\tvalid_1's l1: 2.84316\n",
      "[300]\ttraining's l1: 3.33096\tvalid_1's l1: 2.83265\n"
     ]
    },
    {
     "name": "stderr",
     "output_type": "stream",
     "text": [
      "\u001b[32m[I 2021-07-29 23:39:17,359]\u001b[0m Trial 15 finished with value: -2.829701174987891 and parameters: {'max_depth': 1, 'min_child_weight': 5, 'subsample': 0.5, 'colsample_bytree': 0.8, 'reg_lambda': 0.022221053460905797, 'reg_alpha': 0.006240706587080587, 'feature_fraction': 0.6886101852974554, 'bagging_fraction': 0.979915856681757, 'bagging_freq': 9, 'num_leaves': 623, 'min_child_samples': 37}. Best is trial 15 with value: -2.829701174987891.\u001b[0m\n"
     ]
    },
    {
     "name": "stdout",
     "output_type": "stream",
     "text": [
      "[400]\ttraining's l1: 3.31126\tvalid_1's l1: 2.83615\n",
      "Early stopping, best iteration is:\n",
      "[327]\ttraining's l1: 3.32487\tvalid_1's l1: 2.8297\n",
      "[LightGBM] [Warning] feature_fraction is set=0.6633825019208479, colsample_bytree=0.9 will be ignored. Current value: feature_fraction=0.6633825019208479\n",
      "[LightGBM] [Warning] bagging_fraction is set=0.819806756450076, subsample=0.5 will be ignored. Current value: bagging_fraction=0.819806756450076\n",
      "[LightGBM] [Warning] bagging_freq is set=11, subsample_freq=0 will be ignored. Current value: bagging_freq=11\n",
      "Training until validation scores don't improve for 100 rounds\n"
     ]
    },
    {
     "name": "stderr",
     "output_type": "stream",
     "text": [
      "\u001b[32m[I 2021-07-29 23:39:19,394]\u001b[0m Trial 16 finished with value: -2.8746922116012934 and parameters: {'max_depth': 9, 'min_child_weight': 5, 'subsample': 0.5, 'colsample_bytree': 0.9, 'reg_lambda': 0.02506259329447781, 'reg_alpha': 0.012452555773013331, 'feature_fraction': 0.6633825019208479, 'bagging_fraction': 0.819806756450076, 'bagging_freq': 11, 'num_leaves': 630, 'min_child_samples': 67}. Best is trial 15 with value: -2.829701174987891.\u001b[0m\n"
     ]
    },
    {
     "name": "stdout",
     "output_type": "stream",
     "text": [
      "[100]\ttraining's l1: 2.82542\tvalid_1's l1: 3.0041\n",
      "Early stopping, best iteration is:\n",
      "[13]\ttraining's l1: 3.17982\tvalid_1's l1: 2.87469\n",
      "[LightGBM] [Warning] feature_fraction is set=0.42177028745593026, colsample_bytree=0.8 will be ignored. Current value: feature_fraction=0.42177028745593026\n",
      "[LightGBM] [Warning] bagging_fraction is set=0.7201652199809212, subsample=0.5 will be ignored. Current value: bagging_fraction=0.7201652199809212\n",
      "[LightGBM] [Warning] bagging_freq is set=8, subsample_freq=0 will be ignored. Current value: bagging_freq=8\n",
      "Training until validation scores don't improve for 100 rounds\n",
      "[100]\ttraining's l1: 3.09829\tvalid_1's l1: 2.87873\n",
      "Early stopping, best iteration is:\n",
      "[30]\ttraining's l1: 3.27611\tvalid_1's l1: 2.84072\n"
     ]
    },
    {
     "name": "stderr",
     "output_type": "stream",
     "text": [
      "\u001b[32m[I 2021-07-29 23:39:20,839]\u001b[0m Trial 17 finished with value: -2.840716506069516 and parameters: {'max_depth': 4, 'min_child_weight': 7, 'subsample': 0.5, 'colsample_bytree': 0.8, 'reg_lambda': 0.016926174966248562, 'reg_alpha': 0.18689662604152568, 'feature_fraction': 0.42177028745593026, 'bagging_fraction': 0.7201652199809212, 'bagging_freq': 8, 'num_leaves': 292, 'min_child_samples': 35}. Best is trial 15 with value: -2.829701174987891.\u001b[0m\n"
     ]
    },
    {
     "name": "stdout",
     "output_type": "stream",
     "text": [
      "[LightGBM] [Warning] feature_fraction is set=0.6167815749236485, colsample_bytree=0.7 will be ignored. Current value: feature_fraction=0.6167815749236485\n",
      "[LightGBM] [Warning] bagging_fraction is set=0.8963380236782091, subsample=0.6 will be ignored. Current value: bagging_fraction=0.8963380236782091\n",
      "[LightGBM] [Warning] bagging_freq is set=13, subsample_freq=0 will be ignored. Current value: bagging_freq=13\n",
      "Training until validation scores don't improve for 100 rounds\n",
      "[100]\ttraining's l1: 3.42828\tvalid_1's l1: 2.86014\n",
      "[200]\ttraining's l1: 3.36383\tvalid_1's l1: 2.84259\n",
      "[300]\ttraining's l1: 3.33025\tvalid_1's l1: 2.83846\n"
     ]
    },
    {
     "name": "stderr",
     "output_type": "stream",
     "text": [
      "\u001b[32m[I 2021-07-29 23:39:24,092]\u001b[0m Trial 18 finished with value: -2.834545002296938 and parameters: {'max_depth': 1, 'min_child_weight': 13, 'subsample': 0.6, 'colsample_bytree': 0.7, 'reg_lambda': 0.07182319576394836, 'reg_alpha': 0.0073844727777513, 'feature_fraction': 0.6167815749236485, 'bagging_fraction': 0.8963380236782091, 'bagging_freq': 13, 'num_leaves': 58, 'min_child_samples': 68}. Best is trial 15 with value: -2.829701174987891.\u001b[0m\n"
     ]
    },
    {
     "name": "stdout",
     "output_type": "stream",
     "text": [
      "[400]\ttraining's l1: 3.31093\tvalid_1's l1: 2.83699\n",
      "Early stopping, best iteration is:\n",
      "[304]\ttraining's l1: 3.32838\tvalid_1's l1: 2.83455\n",
      "[LightGBM] [Warning] feature_fraction is set=0.21779311365212434, colsample_bytree=0.9 will be ignored. Current value: feature_fraction=0.21779311365212434\n",
      "[LightGBM] [Warning] bagging_fraction is set=0.49537785720832006, subsample=0.5 will be ignored. Current value: bagging_fraction=0.49537785720832006\n",
      "[LightGBM] [Warning] bagging_freq is set=9, subsample_freq=0 will be ignored. Current value: bagging_freq=9\n",
      "Training until validation scores don't improve for 100 rounds\n"
     ]
    },
    {
     "name": "stderr",
     "output_type": "stream",
     "text": [
      "\u001b[32m[I 2021-07-29 23:39:25,549]\u001b[0m Trial 19 finished with value: -2.8927513191211385 and parameters: {'max_depth': 8, 'min_child_weight': 3, 'subsample': 0.5, 'colsample_bytree': 0.9, 'reg_lambda': 0.0053444204297498805, 'reg_alpha': 16.108979290298787, 'feature_fraction': 0.21779311365212434, 'bagging_fraction': 0.49537785720832006, 'bagging_freq': 9, 'num_leaves': 626, 'min_child_samples': 28}. Best is trial 15 with value: -2.829701174987891.\u001b[0m\n"
     ]
    },
    {
     "name": "stdout",
     "output_type": "stream",
     "text": [
      "[100]\ttraining's l1: 2.9247\tvalid_1's l1: 2.99554\n",
      "Early stopping, best iteration is:\n",
      "[17]\ttraining's l1: 3.25388\tvalid_1's l1: 2.89275\n",
      "[LightGBM] [Warning] feature_fraction is set=0.8279097915357074, colsample_bytree=0.8 will be ignored. Current value: feature_fraction=0.8279097915357074\n",
      "[LightGBM] [Warning] bagging_fraction is set=0.9991012268729377, subsample=0.6 will be ignored. Current value: bagging_fraction=0.9991012268729377\n",
      "[LightGBM] [Warning] bagging_freq is set=3, subsample_freq=0 will be ignored. Current value: bagging_freq=3\n",
      "Training until validation scores don't improve for 100 rounds\n",
      "[100]\ttraining's l1: 2.69072\tvalid_1's l1: 3.07676\n"
     ]
    },
    {
     "name": "stderr",
     "output_type": "stream",
     "text": [
      "\u001b[32m[I 2021-07-29 23:39:28,893]\u001b[0m Trial 20 finished with value: -2.8916145198627987 and parameters: {'max_depth': 11, 'min_child_weight': 7, 'subsample': 0.6, 'colsample_bytree': 0.8, 'reg_lambda': 0.0063368915073989986, 'reg_alpha': 0.08647432350690473, 'feature_fraction': 0.8279097915357074, 'bagging_fraction': 0.9991012268729377, 'bagging_freq': 3, 'num_leaves': 820, 'min_child_samples': 49}. Best is trial 15 with value: -2.829701174987891.\u001b[0m\n"
     ]
    },
    {
     "name": "stdout",
     "output_type": "stream",
     "text": [
      "Early stopping, best iteration is:\n",
      "[13]\ttraining's l1: 3.08062\tvalid_1's l1: 2.89161\n",
      "[LightGBM] [Warning] feature_fraction is set=0.7757834225613404, colsample_bytree=0.8 will be ignored. Current value: feature_fraction=0.7757834225613404\n",
      "[LightGBM] [Warning] bagging_fraction is set=0.9336516652846613, subsample=0.7 will be ignored. Current value: bagging_fraction=0.9336516652846613\n",
      "[LightGBM] [Warning] bagging_freq is set=5, subsample_freq=0 will be ignored. Current value: bagging_freq=5\n",
      "Training until validation scores don't improve for 100 rounds\n",
      "[100]\ttraining's l1: 3.43072\tvalid_1's l1: 2.85306\n",
      "[200]\ttraining's l1: 3.3632\tvalid_1's l1: 2.83752\n",
      "[300]\ttraining's l1: 3.32969\tvalid_1's l1: 2.83377\n",
      "[400]\ttraining's l1: 3.30976\tvalid_1's l1: 2.83373\n",
      "Early stopping, best iteration is:\n",
      "[336]\ttraining's l1: 3.32103\tvalid_1's l1: 2.83109\n"
     ]
    },
    {
     "name": "stderr",
     "output_type": "stream",
     "text": [
      "\u001b[32m[I 2021-07-29 23:39:31,727]\u001b[0m Trial 21 finished with value: -2.8310913586201485 and parameters: {'max_depth': 1, 'min_child_weight': 1, 'subsample': 0.7, 'colsample_bytree': 0.8, 'reg_lambda': 0.0011505172231690945, 'reg_alpha': 0.0015401741369189556, 'feature_fraction': 0.7757834225613404, 'bagging_fraction': 0.9336516652846613, 'bagging_freq': 5, 'num_leaves': 702, 'min_child_samples': 37}. Best is trial 15 with value: -2.829701174987891.\u001b[0m\n"
     ]
    },
    {
     "name": "stdout",
     "output_type": "stream",
     "text": [
      "[LightGBM] [Warning] feature_fraction is set=0.7598559889208062, colsample_bytree=0.8 will be ignored. Current value: feature_fraction=0.7598559889208062\n",
      "[LightGBM] [Warning] bagging_fraction is set=0.9022809574039155, subsample=0.7 will be ignored. Current value: bagging_fraction=0.9022809574039155\n",
      "[LightGBM] [Warning] bagging_freq is set=4, subsample_freq=0 will be ignored. Current value: bagging_freq=4\n",
      "Training until validation scores don't improve for 100 rounds\n",
      "[100]\ttraining's l1: 3.43018\tvalid_1's l1: 2.85662\n",
      "[200]\ttraining's l1: 3.36439\tvalid_1's l1: 2.83732\n",
      "[300]\ttraining's l1: 3.33051\tvalid_1's l1: 2.83649\n"
     ]
    },
    {
     "name": "stderr",
     "output_type": "stream",
     "text": [
      "\u001b[32m[I 2021-07-29 23:39:34,114]\u001b[0m Trial 22 finished with value: -2.832938269276989 and parameters: {'max_depth': 1, 'min_child_weight': 3, 'subsample': 0.7, 'colsample_bytree': 0.8, 'reg_lambda': 0.001400413282311787, 'reg_alpha': 0.001046367617116742, 'feature_fraction': 0.7598559889208062, 'bagging_fraction': 0.9022809574039155, 'bagging_freq': 4, 'num_leaves': 816, 'min_child_samples': 35}. Best is trial 15 with value: -2.829701174987891.\u001b[0m\n"
     ]
    },
    {
     "name": "stdout",
     "output_type": "stream",
     "text": [
      "Early stopping, best iteration is:\n",
      "[245]\ttraining's l1: 3.34572\tvalid_1's l1: 2.83294\n",
      "[LightGBM] [Warning] feature_fraction is set=0.6538296707849409, colsample_bytree=0.7 will be ignored. Current value: feature_fraction=0.6538296707849409\n",
      "[LightGBM] [Warning] bagging_fraction is set=0.7970461208269934, subsample=0.8 will be ignored. Current value: bagging_fraction=0.7970461208269934\n",
      "[LightGBM] [Warning] bagging_freq is set=9, subsample_freq=0 will be ignored. Current value: bagging_freq=9\n",
      "Training until validation scores don't improve for 100 rounds\n",
      "[100]\ttraining's l1: 3.09799\tvalid_1's l1: 2.86496\n",
      "Early stopping, best iteration is:\n",
      "[33]\ttraining's l1: 3.25774\tvalid_1's l1: 2.84053\n"
     ]
    },
    {
     "name": "stderr",
     "output_type": "stream",
     "text": [
      "\u001b[32m[I 2021-07-29 23:39:35,456]\u001b[0m Trial 23 finished with value: -2.840526466958064 and parameters: {'max_depth': 4, 'min_child_weight': 2, 'subsample': 0.8, 'colsample_bytree': 0.7, 'reg_lambda': 0.0010219281136556063, 'reg_alpha': 0.00727355844251121, 'feature_fraction': 0.6538296707849409, 'bagging_fraction': 0.7970461208269934, 'bagging_freq': 9, 'num_leaves': 431, 'min_child_samples': 49}. Best is trial 15 with value: -2.829701174987891.\u001b[0m\n"
     ]
    },
    {
     "name": "stdout",
     "output_type": "stream",
     "text": [
      "[LightGBM] [Warning] feature_fraction is set=0.8747273549481343, colsample_bytree=0.9 will be ignored. Current value: feature_fraction=0.8747273549481343\n",
      "[LightGBM] [Warning] bagging_fraction is set=0.9947106549973136, subsample=0.6 will be ignored. Current value: bagging_fraction=0.9947106549973136\n",
      "[LightGBM] [Warning] bagging_freq is set=7, subsample_freq=0 will be ignored. Current value: bagging_freq=7\n",
      "Training until validation scores don't improve for 100 rounds\n",
      "[100]\ttraining's l1: 3.16087\tvalid_1's l1: 2.85334\n"
     ]
    },
    {
     "name": "stderr",
     "output_type": "stream",
     "text": [
      "\u001b[32m[I 2021-07-29 23:39:37,088]\u001b[0m Trial 24 finished with value: -2.8390902906955886 and parameters: {'max_depth': 3, 'min_child_weight': 7, 'subsample': 0.6, 'colsample_bytree': 0.9, 'reg_lambda': 0.06959328114018055, 'reg_alpha': 0.003943755665729864, 'feature_fraction': 0.8747273549481343, 'bagging_fraction': 0.9947106549973136, 'bagging_freq': 7, 'num_leaves': 600, 'min_child_samples': 32}. Best is trial 15 with value: -2.829701174987891.\u001b[0m\n"
     ]
    },
    {
     "name": "stdout",
     "output_type": "stream",
     "text": [
      "Early stopping, best iteration is:\n",
      "[50]\ttraining's l1: 3.25476\tvalid_1's l1: 2.83909\n",
      "[LightGBM] [Warning] feature_fraction is set=0.7378684009423583, colsample_bytree=0.8 will be ignored. Current value: feature_fraction=0.7378684009423583\n",
      "[LightGBM] [Warning] bagging_fraction is set=0.912265130500877, subsample=0.7 will be ignored. Current value: bagging_fraction=0.912265130500877\n",
      "[LightGBM] [Warning] bagging_freq is set=3, subsample_freq=0 will be ignored. Current value: bagging_freq=3\n",
      "Training until validation scores don't improve for 100 rounds\n",
      "[100]\ttraining's l1: 3.42804\tvalid_1's l1: 2.85542\n",
      "[200]\ttraining's l1: 3.36723\tvalid_1's l1: 2.84446\n",
      "[300]\ttraining's l1: 3.33261\tvalid_1's l1: 2.83295\n"
     ]
    },
    {
     "name": "stderr",
     "output_type": "stream",
     "text": [
      "\u001b[32m[I 2021-07-29 23:39:39,943]\u001b[0m Trial 25 finished with value: -2.8300781977680725 and parameters: {'max_depth': 1, 'min_child_weight': 5, 'subsample': 0.7, 'colsample_bytree': 0.8, 'reg_lambda': 0.007659610472359195, 'reg_alpha': 0.01481971199547768, 'feature_fraction': 0.7378684009423583, 'bagging_fraction': 0.912265130500877, 'bagging_freq': 3, 'num_leaves': 865, 'min_child_samples': 21}. Best is trial 15 with value: -2.829701174987891.\u001b[0m\n"
     ]
    },
    {
     "name": "stdout",
     "output_type": "stream",
     "text": [
      "[400]\ttraining's l1: 3.31102\tvalid_1's l1: 2.83825\n",
      "Early stopping, best iteration is:\n",
      "[311]\ttraining's l1: 3.32862\tvalid_1's l1: 2.83008\n",
      "[LightGBM] [Warning] feature_fraction is set=0.5437097857294692, colsample_bytree=0.7 will be ignored. Current value: feature_fraction=0.5437097857294692\n",
      "[LightGBM] [Warning] bagging_fraction is set=0.7722874914829827, subsample=0.9 will be ignored. Current value: bagging_fraction=0.7722874914829827\n",
      "[LightGBM] [Warning] bagging_freq is set=1, subsample_freq=0 will be ignored. Current value: bagging_freq=1\n",
      "Training until validation scores don't improve for 100 rounds\n",
      "[100]\ttraining's l1: 2.89446\tvalid_1's l1: 2.98991\n",
      "Early stopping, best iteration is:\n",
      "[17]\ttraining's l1: 3.19419\tvalid_1's l1: 2.8488\n"
     ]
    },
    {
     "name": "stderr",
     "output_type": "stream",
     "text": [
      "\u001b[32m[I 2021-07-29 23:39:41,822]\u001b[0m Trial 26 finished with value: -2.8488030995553486 and parameters: {'max_depth': 7, 'min_child_weight': 14, 'subsample': 0.9, 'colsample_bytree': 0.7, 'reg_lambda': 0.006347872194504911, 'reg_alpha': 0.017104730911046705, 'feature_fraction': 0.5437097857294692, 'bagging_fraction': 0.7722874914829827, 'bagging_freq': 1, 'num_leaves': 883, 'min_child_samples': 23}. Best is trial 15 with value: -2.829701174987891.\u001b[0m\n"
     ]
    },
    {
     "name": "stdout",
     "output_type": "stream",
     "text": [
      "[LightGBM] [Warning] feature_fraction is set=0.7141501145612591, colsample_bytree=0.8 will be ignored. Current value: feature_fraction=0.7141501145612591\n",
      "[LightGBM] [Warning] bagging_fraction is set=0.6473916980720316, subsample=0.8 will be ignored. Current value: bagging_fraction=0.6473916980720316\n",
      "[LightGBM] [Warning] bagging_freq is set=14, subsample_freq=0 will be ignored. Current value: bagging_freq=14\n",
      "Training until validation scores don't improve for 100 rounds\n",
      "[100]\ttraining's l1: 3.178\tvalid_1's l1: 2.86072\n",
      "Early stopping, best iteration is:\n",
      "[49]\ttraining's l1: 3.28342\tvalid_1's l1: 2.84308\n"
     ]
    },
    {
     "name": "stderr",
     "output_type": "stream",
     "text": [
      "\u001b[32m[I 2021-07-29 23:39:43,040]\u001b[0m Trial 27 finished with value: -2.8430768282483365 and parameters: {'max_depth': 3, 'min_child_weight': 5, 'subsample': 0.8, 'colsample_bytree': 0.8, 'reg_lambda': 0.0421322425694082, 'reg_alpha': 0.150950612957209, 'feature_fraction': 0.7141501145612591, 'bagging_fraction': 0.6473916980720316, 'bagging_freq': 14, 'num_leaves': 998, 'min_child_samples': 7}. Best is trial 15 with value: -2.829701174987891.\u001b[0m\n"
     ]
    },
    {
     "name": "stdout",
     "output_type": "stream",
     "text": [
      "[LightGBM] [Warning] feature_fraction is set=0.6252482711845676, colsample_bytree=0.9 will be ignored. Current value: feature_fraction=0.6252482711845676\n",
      "[LightGBM] [Warning] bagging_fraction is set=0.9141750375097013, subsample=0.6 will be ignored. Current value: bagging_fraction=0.9141750375097013\n",
      "[LightGBM] [Warning] bagging_freq is set=3, subsample_freq=0 will be ignored. Current value: bagging_freq=3\n",
      "Training until validation scores don't improve for 100 rounds\n",
      "[100]\ttraining's l1: 3.01573\tvalid_1's l1: 2.90617\n",
      "Early stopping, best iteration is:\n",
      "[21]\ttraining's l1: 3.27169\tvalid_1's l1: 2.8501\n"
     ]
    },
    {
     "name": "stderr",
     "output_type": "stream",
     "text": [
      "\u001b[32m[I 2021-07-29 23:39:44,613]\u001b[0m Trial 28 finished with value: -2.850098007845505 and parameters: {'max_depth': 5, 'min_child_weight': 7, 'subsample': 0.6, 'colsample_bytree': 0.9, 'reg_lambda': 0.00994738256635144, 'reg_alpha': 0.01726561447763426, 'feature_fraction': 0.6252482711845676, 'bagging_fraction': 0.9141750375097013, 'bagging_freq': 3, 'num_leaves': 674, 'min_child_samples': 12}. Best is trial 15 with value: -2.829701174987891.\u001b[0m\n"
     ]
    },
    {
     "name": "stdout",
     "output_type": "stream",
     "text": [
      "[LightGBM] [Warning] feature_fraction is set=0.4595683522544148, colsample_bytree=0.8 will be ignored. Current value: feature_fraction=0.4595683522544148\n",
      "[LightGBM] [Warning] bagging_fraction is set=0.9943254406614437, subsample=0.7 will be ignored. Current value: bagging_fraction=0.9943254406614437\n",
      "[LightGBM] [Warning] bagging_freq is set=7, subsample_freq=0 will be ignored. Current value: bagging_freq=7\n",
      "Training until validation scores don't improve for 100 rounds\n",
      "[100]\ttraining's l1: 3.0267\tvalid_1's l1: 2.90989\n"
     ]
    },
    {
     "name": "stderr",
     "output_type": "stream",
     "text": [
      "\u001b[32m[I 2021-07-29 23:39:46,419]\u001b[0m Trial 29 finished with value: -2.8434316399556616 and parameters: {'max_depth': 5, 'min_child_weight': 3, 'subsample': 0.7, 'colsample_bytree': 0.8, 'reg_lambda': 0.1848007626341582, 'reg_alpha': 0.005419877931741981, 'feature_fraction': 0.4595683522544148, 'bagging_fraction': 0.9943254406614437, 'bagging_freq': 7, 'num_leaves': 866, 'min_child_samples': 26}. Best is trial 15 with value: -2.829701174987891.\u001b[0m\n"
     ]
    },
    {
     "name": "stdout",
     "output_type": "stream",
     "text": [
      "Early stopping, best iteration is:\n",
      "[24]\ttraining's l1: 3.24755\tvalid_1's l1: 2.84343\n",
      "[LightGBM] [Warning] feature_fraction is set=0.5700103848821939, colsample_bytree=0.7 will be ignored. Current value: feature_fraction=0.5700103848821939\n",
      "[LightGBM] [Warning] bagging_fraction is set=0.8562931133456545, subsample=0.5 will be ignored. Current value: bagging_fraction=0.8562931133456545\n",
      "[LightGBM] [Warning] bagging_freq is set=10, subsample_freq=0 will be ignored. Current value: bagging_freq=10\n",
      "Training until validation scores don't improve for 100 rounds\n",
      "[100]\ttraining's l1: 2.65183\tvalid_1's l1: 3.12211\n"
     ]
    },
    {
     "name": "stderr",
     "output_type": "stream",
     "text": [
      "\u001b[32m[I 2021-07-29 23:39:51,038]\u001b[0m Trial 30 finished with value: -2.9080556224687895 and parameters: {'max_depth': 17, 'min_child_weight': 6, 'subsample': 0.5, 'colsample_bytree': 0.7, 'reg_lambda': 0.002978653078041247, 'reg_alpha': 3.6863286535036197, 'feature_fraction': 0.5700103848821939, 'bagging_fraction': 0.8562931133456545, 'bagging_freq': 10, 'num_leaves': 484, 'min_child_samples': 64}. Best is trial 15 with value: -2.829701174987891.\u001b[0m\n"
     ]
    },
    {
     "name": "stdout",
     "output_type": "stream",
     "text": [
      "Early stopping, best iteration is:\n",
      "[12]\ttraining's l1: 3.20603\tvalid_1's l1: 2.90806\n",
      "[LightGBM] [Warning] feature_fraction is set=0.7725513164927683, colsample_bytree=0.8 will be ignored. Current value: feature_fraction=0.7725513164927683\n",
      "[LightGBM] [Warning] bagging_fraction is set=0.922886441650039, subsample=0.7 will be ignored. Current value: bagging_fraction=0.922886441650039\n",
      "[LightGBM] [Warning] bagging_freq is set=3, subsample_freq=0 will be ignored. Current value: bagging_freq=3\n",
      "Training until validation scores don't improve for 100 rounds\n",
      "[100]\ttraining's l1: 3.4281\tvalid_1's l1: 2.85655\n",
      "[200]\ttraining's l1: 3.36623\tvalid_1's l1: 2.84373\n",
      "[300]\ttraining's l1: 3.33176\tvalid_1's l1: 2.83701\n"
     ]
    },
    {
     "name": "stderr",
     "output_type": "stream",
     "text": [
      "\u001b[32m[I 2021-07-29 23:39:53,687]\u001b[0m Trial 31 finished with value: -2.833528174300665 and parameters: {'max_depth': 1, 'min_child_weight': 2, 'subsample': 0.7, 'colsample_bytree': 0.8, 'reg_lambda': 0.0011004657670460848, 'reg_alpha': 0.0016639311593252106, 'feature_fraction': 0.7725513164927683, 'bagging_fraction': 0.922886441650039, 'bagging_freq': 3, 'num_leaves': 708, 'min_child_samples': 39}. Best is trial 15 with value: -2.829701174987891.\u001b[0m\n"
     ]
    },
    {
     "name": "stdout",
     "output_type": "stream",
     "text": [
      "Early stopping, best iteration is:\n",
      "[265]\ttraining's l1: 3.34086\tvalid_1's l1: 2.83353\n",
      "[LightGBM] [Warning] feature_fraction is set=0.8173005976650667, colsample_bytree=0.8 will be ignored. Current value: feature_fraction=0.8173005976650667\n",
      "[LightGBM] [Warning] bagging_fraction is set=0.9373607447795146, subsample=0.7 will be ignored. Current value: bagging_fraction=0.9373607447795146\n",
      "[LightGBM] [Warning] bagging_freq is set=6, subsample_freq=0 will be ignored. Current value: bagging_freq=6\n",
      "Training until validation scores don't improve for 100 rounds\n",
      "[100]\ttraining's l1: 3.27108\tvalid_1's l1: 2.84583\n"
     ]
    },
    {
     "name": "stderr",
     "output_type": "stream",
     "text": [
      "\u001b[32m[I 2021-07-29 23:39:55,457]\u001b[0m Trial 32 finished with value: -2.841485873397157 and parameters: {'max_depth': 2, 'min_child_weight': 1, 'subsample': 0.7, 'colsample_bytree': 0.8, 'reg_lambda': 0.003080999279157997, 'reg_alpha': 0.0026981103173947625, 'feature_fraction': 0.8173005976650667, 'bagging_fraction': 0.9373607447795146, 'bagging_freq': 6, 'num_leaves': 563, 'min_child_samples': 49}. Best is trial 15 with value: -2.829701174987891.\u001b[0m\n"
     ]
    },
    {
     "name": "stdout",
     "output_type": "stream",
     "text": [
      "[200]\ttraining's l1: 3.19575\tvalid_1's l1: 2.84969\n",
      "Early stopping, best iteration is:\n",
      "[109]\ttraining's l1: 3.26015\tvalid_1's l1: 2.84149\n",
      "[LightGBM] [Warning] feature_fraction is set=0.710366450911516, colsample_bytree=0.8 will be ignored. Current value: feature_fraction=0.710366450911516\n",
      "[LightGBM] [Warning] bagging_fraction is set=0.9415333534059998, subsample=0.7 will be ignored. Current value: bagging_fraction=0.9415333534059998\n",
      "[LightGBM] [Warning] bagging_freq is set=2, subsample_freq=0 will be ignored. Current value: bagging_freq=2\n",
      "Training until validation scores don't improve for 100 rounds\n",
      "[100]\ttraining's l1: 3.43091\tvalid_1's l1: 2.85805\n",
      "[200]\ttraining's l1: 3.36604\tvalid_1's l1: 2.84146\n",
      "[300]\ttraining's l1: 3.33148\tvalid_1's l1: 2.83703\n"
     ]
    },
    {
     "name": "stderr",
     "output_type": "stream",
     "text": [
      "\u001b[32m[I 2021-07-29 23:39:58,476]\u001b[0m Trial 33 finished with value: -2.834692560838899 and parameters: {'max_depth': 1, 'min_child_weight': 4, 'subsample': 0.7, 'colsample_bytree': 0.8, 'reg_lambda': 0.010612794335350215, 'reg_alpha': 0.0010743735024156423, 'feature_fraction': 0.710366450911516, 'bagging_fraction': 0.9415333534059998, 'bagging_freq': 2, 'num_leaves': 773, 'min_child_samples': 16}. Best is trial 15 with value: -2.829701174987891.\u001b[0m\n"
     ]
    },
    {
     "name": "stdout",
     "output_type": "stream",
     "text": [
      "Early stopping, best iteration is:\n",
      "[287]\ttraining's l1: 3.33517\tvalid_1's l1: 2.83469\n",
      "[LightGBM] [Warning] feature_fraction is set=0.6718079845097243, colsample_bytree=0.9 will be ignored. Current value: feature_fraction=0.6718079845097243\n",
      "[LightGBM] [Warning] bagging_fraction is set=0.7679882539719702, subsample=0.7 will be ignored. Current value: bagging_fraction=0.7679882539719702\n",
      "[LightGBM] [Warning] bagging_freq is set=4, subsample_freq=0 will be ignored. Current value: bagging_freq=4\n",
      "Training until validation scores don't improve for 100 rounds\n",
      "[100]\ttraining's l1: 3.16564\tvalid_1's l1: 2.8521\n"
     ]
    },
    {
     "name": "stderr",
     "output_type": "stream",
     "text": [
      "\u001b[32m[I 2021-07-29 23:39:59,876]\u001b[0m Trial 34 finished with value: -2.8339263442460965 and parameters: {'max_depth': 3, 'min_child_weight': 4, 'subsample': 0.7, 'colsample_bytree': 0.9, 'reg_lambda': 0.03619627480820214, 'reg_alpha': 0.037153271295313574, 'feature_fraction': 0.6718079845097243, 'bagging_fraction': 0.7679882539719702, 'bagging_freq': 4, 'num_leaves': 665, 'min_child_samples': 37}. Best is trial 15 with value: -2.829701174987891.\u001b[0m\n"
     ]
    },
    {
     "name": "stdout",
     "output_type": "stream",
     "text": [
      "Early stopping, best iteration is:\n",
      "[49]\ttraining's l1: 3.27203\tvalid_1's l1: 2.83393\n",
      "[LightGBM] [Warning] feature_fraction is set=0.7371677832558584, colsample_bytree=0.7 will be ignored. Current value: feature_fraction=0.7371677832558584\n",
      "[LightGBM] [Warning] bagging_fraction is set=0.8642388585829834, subsample=0.8 will be ignored. Current value: bagging_fraction=0.8642388585829834\n",
      "[LightGBM] [Warning] bagging_freq is set=1, subsample_freq=0 will be ignored. Current value: bagging_freq=1\n",
      "Training until validation scores don't improve for 100 rounds\n",
      "[100]\ttraining's l1: 2.95358\tvalid_1's l1: 2.95896\n",
      "Early stopping, best iteration is:\n",
      "[21]\ttraining's l1: 3.19062\tvalid_1's l1: 2.853\n"
     ]
    },
    {
     "name": "stderr",
     "output_type": "stream",
     "text": [
      "\u001b[32m[I 2021-07-29 23:40:01,513]\u001b[0m Trial 35 finished with value: -2.853004105179952 and parameters: {'max_depth': 6, 'min_child_weight': 8, 'subsample': 0.8, 'colsample_bytree': 0.7, 'reg_lambda': 0.6590096388297927, 'reg_alpha': 0.342450325838865, 'feature_fraction': 0.7371677832558584, 'bagging_fraction': 0.8642388585829834, 'bagging_freq': 1, 'num_leaves': 575, 'min_child_samples': 29}. Best is trial 15 with value: -2.829701174987891.\u001b[0m\n"
     ]
    },
    {
     "name": "stdout",
     "output_type": "stream",
     "text": [
      "[LightGBM] [Warning] feature_fraction is set=0.8045909510038146, colsample_bytree=0.8 will be ignored. Current value: feature_fraction=0.8045909510038146\n",
      "[LightGBM] [Warning] bagging_fraction is set=0.6646825915323087, subsample=0.6 will be ignored. Current value: bagging_fraction=0.6646825915323087\n",
      "[LightGBM] [Warning] bagging_freq is set=6, subsample_freq=0 will be ignored. Current value: bagging_freq=6\n",
      "Training until validation scores don't improve for 100 rounds\n",
      "[100]\ttraining's l1: 3.27012\tvalid_1's l1: 2.85529\n"
     ]
    },
    {
     "name": "stderr",
     "output_type": "stream",
     "text": [
      "\u001b[32m[I 2021-07-29 23:40:03,064]\u001b[0m Trial 36 finished with value: -2.850510534188007 and parameters: {'max_depth': 2, 'min_child_weight': 2, 'subsample': 0.6, 'colsample_bytree': 0.8, 'reg_lambda': 0.11502998401921112, 'reg_alpha': 0.009880441694909302, 'feature_fraction': 0.8045909510038146, 'bagging_fraction': 0.6646825915323087, 'bagging_freq': 6, 'num_leaves': 916, 'min_child_samples': 46}. Best is trial 15 with value: -2.829701174987891.\u001b[0m\n"
     ]
    },
    {
     "name": "stdout",
     "output_type": "stream",
     "text": [
      "[200]\ttraining's l1: 3.19209\tvalid_1's l1: 2.85875\n",
      "Early stopping, best iteration is:\n",
      "[126]\ttraining's l1: 3.24118\tvalid_1's l1: 2.85051\n",
      "[LightGBM] [Warning] feature_fraction is set=0.864462033577554, colsample_bytree=0.9 will be ignored. Current value: feature_fraction=0.864462033577554\n",
      "[LightGBM] [Warning] bagging_fraction is set=0.512049790941802, subsample=0.8 will be ignored. Current value: bagging_fraction=0.512049790941802\n",
      "[LightGBM] [Warning] bagging_freq is set=4, subsample_freq=0 will be ignored. Current value: bagging_freq=4\n",
      "Training until validation scores don't improve for 100 rounds\n"
     ]
    },
    {
     "name": "stderr",
     "output_type": "stream",
     "text": [
      "\u001b[32m[I 2021-07-29 23:40:04,366]\u001b[0m Trial 37 finished with value: -2.8365729684434764 and parameters: {'max_depth': 4, 'min_child_weight': 4, 'subsample': 0.8, 'colsample_bytree': 0.9, 'reg_lambda': 0.005296608311957327, 'reg_alpha': 0.026066144415459718, 'feature_fraction': 0.864462033577554, 'bagging_fraction': 0.512049790941802, 'bagging_freq': 4, 'num_leaves': 792, 'min_child_samples': 55}. Best is trial 15 with value: -2.829701174987891.\u001b[0m\n"
     ]
    },
    {
     "name": "stdout",
     "output_type": "stream",
     "text": [
      "[100]\ttraining's l1: 3.08583\tvalid_1's l1: 2.8901\n",
      "Early stopping, best iteration is:\n",
      "[32]\ttraining's l1: 3.25339\tvalid_1's l1: 2.83657\n",
      "[LightGBM] [Warning] feature_fraction is set=0.9253126291177483, colsample_bytree=0.7 will be ignored. Current value: feature_fraction=0.9253126291177483\n",
      "[LightGBM] [Warning] bagging_fraction is set=0.2830940452046634, subsample=0.7 will be ignored. Current value: bagging_fraction=0.2830940452046634\n",
      "[LightGBM] [Warning] bagging_freq is set=2, subsample_freq=0 will be ignored. Current value: bagging_freq=2\n",
      "Training until validation scores don't improve for 100 rounds\n",
      "[100]\ttraining's l1: 3.42172\tvalid_1's l1: 2.85838\n",
      "[200]\ttraining's l1: 3.35841\tvalid_1's l1: 2.84453\n",
      "[300]\ttraining's l1: 3.3192\tvalid_1's l1: 2.83599\n"
     ]
    },
    {
     "name": "stderr",
     "output_type": "stream",
     "text": [
      "\u001b[32m[I 2021-07-29 23:40:06,308]\u001b[0m Trial 38 finished with value: -2.8347911307927 and parameters: {'max_depth': 1, 'min_child_weight': 9, 'subsample': 0.7, 'colsample_bytree': 0.7, 'reg_lambda': 2.0229934746207667, 'reg_alpha': 0.8711724920675913, 'feature_fraction': 0.9253126291177483, 'bagging_fraction': 0.2830940452046634, 'bagging_freq': 2, 'num_leaves': 851, 'min_child_samples': 32}. Best is trial 15 with value: -2.829701174987891.\u001b[0m\n"
     ]
    },
    {
     "name": "stdout",
     "output_type": "stream",
     "text": [
      "[400]\ttraining's l1: 3.29868\tvalid_1's l1: 2.84967\n",
      "Early stopping, best iteration is:\n",
      "[309]\ttraining's l1: 3.31685\tvalid_1's l1: 2.83479\n",
      "[LightGBM] [Warning] feature_fraction is set=0.6897167524874855, colsample_bytree=0.8 will be ignored. Current value: feature_fraction=0.6897167524874855\n",
      "[LightGBM] [Warning] bagging_fraction is set=0.8859338334925433, subsample=0.6 will be ignored. Current value: bagging_fraction=0.8859338334925433\n",
      "[LightGBM] [Warning] bagging_freq is set=8, subsample_freq=0 will be ignored. Current value: bagging_freq=8\n",
      "Training until validation scores don't improve for 100 rounds\n",
      "[100]\ttraining's l1: 2.66738\tvalid_1's l1: 3.1092\n"
     ]
    },
    {
     "name": "stderr",
     "output_type": "stream",
     "text": [
      "\u001b[32m[I 2021-07-29 23:40:09,414]\u001b[0m Trial 39 finished with value: -2.8919766142317087 and parameters: {'max_depth': 11, 'min_child_weight': 12, 'subsample': 0.6, 'colsample_bytree': 0.8, 'reg_lambda': 0.0011211504346612514, 'reg_alpha': 0.004538242048416205, 'feature_fraction': 0.6897167524874855, 'bagging_fraction': 0.8859338334925433, 'bagging_freq': 8, 'num_leaves': 497, 'min_child_samples': 18}. Best is trial 15 with value: -2.829701174987891.\u001b[0m\n"
     ]
    },
    {
     "name": "stdout",
     "output_type": "stream",
     "text": [
      "Early stopping, best iteration is:\n",
      "[12]\ttraining's l1: 3.1725\tvalid_1's l1: 2.89198\n",
      "[LightGBM] [Warning] feature_fraction is set=0.5097924972957095, colsample_bytree=0.5 will be ignored. Current value: feature_fraction=0.5097924972957095\n",
      "[LightGBM] [Warning] bagging_fraction is set=0.8164422411636116, subsample=0.8 will be ignored. Current value: bagging_fraction=0.8164422411636116\n",
      "[LightGBM] [Warning] bagging_freq is set=1, subsample_freq=0 will be ignored. Current value: bagging_freq=1\n",
      "Training until validation scores don't improve for 100 rounds\n",
      "[100]\ttraining's l1: 2.88957\tvalid_1's l1: 3.00358\n",
      "Early stopping, best iteration is:\n",
      "[17]\ttraining's l1: 3.19282\tvalid_1's l1: 2.85483\n"
     ]
    },
    {
     "name": "stderr",
     "output_type": "stream",
     "text": [
      "\u001b[32m[I 2021-07-29 23:40:11,303]\u001b[0m Trial 40 finished with value: -2.8548294171705537 and parameters: {'max_depth': 7, 'min_child_weight': 17, 'subsample': 0.8, 'colsample_bytree': 0.5, 'reg_lambda': 0.01219075557580614, 'reg_alpha': 0.04625803441594178, 'feature_fraction': 0.5097924972957095, 'bagging_fraction': 0.8164422411636116, 'bagging_freq': 1, 'num_leaves': 702, 'min_child_samples': 11}. Best is trial 15 with value: -2.829701174987891.\u001b[0m\n"
     ]
    },
    {
     "name": "stdout",
     "output_type": "stream",
     "text": [
      "[LightGBM] [Warning] feature_fraction is set=0.7948793668360211, colsample_bytree=0.8 will be ignored. Current value: feature_fraction=0.7948793668360211\n",
      "[LightGBM] [Warning] bagging_fraction is set=0.9685625069799785, subsample=0.7 will be ignored. Current value: bagging_fraction=0.9685625069799785\n",
      "[LightGBM] [Warning] bagging_freq is set=5, subsample_freq=0 will be ignored. Current value: bagging_freq=5\n",
      "Training until validation scores don't improve for 100 rounds\n",
      "[100]\ttraining's l1: 3.43028\tvalid_1's l1: 2.86055\n",
      "[200]\ttraining's l1: 3.36684\tvalid_1's l1: 2.84368\n",
      "[300]\ttraining's l1: 3.33204\tvalid_1's l1: 2.83451\n"
     ]
    },
    {
     "name": "stderr",
     "output_type": "stream",
     "text": [
      "\u001b[32m[I 2021-07-29 23:40:14,052]\u001b[0m Trial 41 finished with value: -2.8338158233483903 and parameters: {'max_depth': 1, 'min_child_weight': 1, 'subsample': 0.7, 'colsample_bytree': 0.8, 'reg_lambda': 0.0016965591929456038, 'reg_alpha': 0.001923696061742937, 'feature_fraction': 0.7948793668360211, 'bagging_fraction': 0.9685625069799785, 'bagging_freq': 5, 'num_leaves': 726, 'min_child_samples': 40}. Best is trial 15 with value: -2.829701174987891.\u001b[0m\n"
     ]
    },
    {
     "name": "stdout",
     "output_type": "stream",
     "text": [
      "[400]\ttraining's l1: 3.31127\tvalid_1's l1: 2.83615\n",
      "Early stopping, best iteration is:\n",
      "[302]\ttraining's l1: 3.33123\tvalid_1's l1: 2.83382\n",
      "[LightGBM] [Warning] feature_fraction is set=0.7546699602049565, colsample_bytree=0.8 will be ignored. Current value: feature_fraction=0.7546699602049565\n",
      "[LightGBM] [Warning] bagging_fraction is set=0.9953817468580936, subsample=0.7 will be ignored. Current value: bagging_fraction=0.9953817468580936\n",
      "[LightGBM] [Warning] bagging_freq is set=6, subsample_freq=0 will be ignored. Current value: bagging_freq=6\n",
      "Training until validation scores don't improve for 100 rounds\n",
      "[100]\ttraining's l1: 3.27274\tvalid_1's l1: 2.83841\n"
     ]
    },
    {
     "name": "stderr",
     "output_type": "stream",
     "text": [
      "\u001b[32m[I 2021-07-29 23:40:15,848]\u001b[0m Trial 42 finished with value: -2.836162541328415 and parameters: {'max_depth': 2, 'min_child_weight': 3, 'subsample': 0.7, 'colsample_bytree': 0.8, 'reg_lambda': 0.0032687634660840494, 'reg_alpha': 0.002424725893057737, 'feature_fraction': 0.7546699602049565, 'bagging_fraction': 0.9953817468580936, 'bagging_freq': 6, 'num_leaves': 933, 'min_child_samples': 41}. Best is trial 15 with value: -2.829701174987891.\u001b[0m\n"
     ]
    },
    {
     "name": "stdout",
     "output_type": "stream",
     "text": [
      "[200]\ttraining's l1: 3.19355\tvalid_1's l1: 2.84911\n",
      "Early stopping, best iteration is:\n",
      "[105]\ttraining's l1: 3.26576\tvalid_1's l1: 2.83616\n",
      "[LightGBM] [Warning] feature_fraction is set=0.8365179473438428, colsample_bytree=0.8 will be ignored. Current value: feature_fraction=0.8365179473438428\n",
      "[LightGBM] [Warning] bagging_fraction is set=0.9465321298498356, subsample=0.7 will be ignored. Current value: bagging_fraction=0.9465321298498356\n",
      "[LightGBM] [Warning] bagging_freq is set=3, subsample_freq=0 will be ignored. Current value: bagging_freq=3\n",
      "Training until validation scores don't improve for 100 rounds\n",
      "[100]\ttraining's l1: 3.16444\tvalid_1's l1: 2.86905\n"
     ]
    },
    {
     "name": "stderr",
     "output_type": "stream",
     "text": [
      "\u001b[32m[I 2021-07-29 23:40:17,553]\u001b[0m Trial 43 finished with value: -2.8476661940107535 and parameters: {'max_depth': 3, 'min_child_weight': 2, 'subsample': 0.7, 'colsample_bytree': 0.8, 'reg_lambda': 62.308024235286524, 'reg_alpha': 0.0033023554416757124, 'feature_fraction': 0.8365179473438428, 'bagging_fraction': 0.9465321298498356, 'bagging_freq': 3, 'num_leaves': 763, 'min_child_samples': 25}. Best is trial 15 with value: -2.829701174987891.\u001b[0m\n"
     ]
    },
    {
     "name": "stdout",
     "output_type": "stream",
     "text": [
      "Early stopping, best iteration is:\n",
      "[37]\ttraining's l1: 3.30759\tvalid_1's l1: 2.84767\n",
      "[LightGBM] [Warning] feature_fraction is set=0.7188179605030786, colsample_bytree=0.9 will be ignored. Current value: feature_fraction=0.7188179605030786\n",
      "[LightGBM] [Warning] bagging_fraction is set=0.9555752689019423, subsample=0.6 will be ignored. Current value: bagging_fraction=0.9555752689019423\n",
      "[LightGBM] [Warning] bagging_freq is set=5, subsample_freq=0 will be ignored. Current value: bagging_freq=5\n",
      "Training until validation scores don't improve for 100 rounds\n",
      "[100]\ttraining's l1: 3.2747\tvalid_1's l1: 2.84555\n",
      "[200]\ttraining's l1: 3.19494\tvalid_1's l1: 2.84449\n"
     ]
    },
    {
     "name": "stderr",
     "output_type": "stream",
     "text": [
      "\u001b[32m[I 2021-07-29 23:40:19,787]\u001b[0m Trial 44 finished with value: -2.842646635984489 and parameters: {'max_depth': 2, 'min_child_weight': 1, 'subsample': 0.6, 'colsample_bytree': 0.9, 'reg_lambda': 0.0010098489506974143, 'reg_alpha': 0.007265952775579375, 'feature_fraction': 0.7188179605030786, 'bagging_fraction': 0.9555752689019423, 'bagging_freq': 5, 'num_leaves': 647, 'min_child_samples': 52}. Best is trial 15 with value: -2.829701174987891.\u001b[0m\n"
     ]
    },
    {
     "name": "stdout",
     "output_type": "stream",
     "text": [
      "Early stopping, best iteration is:\n",
      "[188]\ttraining's l1: 3.20081\tvalid_1's l1: 2.84265\n",
      "[LightGBM] [Warning] feature_fraction is set=0.6513304071553597, colsample_bytree=0.8 will be ignored. Current value: feature_fraction=0.6513304071553597\n",
      "[LightGBM] [Warning] bagging_fraction is set=0.8374124804350959, subsample=0.8 will be ignored. Current value: bagging_fraction=0.8374124804350959\n",
      "[LightGBM] [Warning] bagging_freq is set=2, subsample_freq=0 will be ignored. Current value: bagging_freq=2\n",
      "Training until validation scores don't improve for 100 rounds\n",
      "[100]\ttraining's l1: 3.42667\tvalid_1's l1: 2.85597\n",
      "[200]\ttraining's l1: 3.36412\tvalid_1's l1: 2.83912\n",
      "[300]\ttraining's l1: 3.33018\tvalid_1's l1: 2.83773\n"
     ]
    },
    {
     "name": "stderr",
     "output_type": "stream",
     "text": [
      "\u001b[32m[I 2021-07-29 23:40:22,437]\u001b[0m Trial 45 finished with value: -2.834787250222251 and parameters: {'max_depth': 1, 'min_child_weight': 6, 'subsample': 0.8, 'colsample_bytree': 0.8, 'reg_lambda': 0.0020691476251124778, 'reg_alpha': 0.001097490041719843, 'feature_fraction': 0.6513304071553597, 'bagging_fraction': 0.8374124804350959, 'bagging_freq': 2, 'num_leaves': 709, 'min_child_samples': 44}. Best is trial 15 with value: -2.829701174987891.\u001b[0m\n"
     ]
    },
    {
     "name": "stdout",
     "output_type": "stream",
     "text": [
      "Early stopping, best iteration is:\n",
      "[262]\ttraining's l1: 3.34035\tvalid_1's l1: 2.83479\n",
      "[LightGBM] [Warning] feature_fraction is set=0.7852412387514464, colsample_bytree=0.7 will be ignored. Current value: feature_fraction=0.7852412387514464\n",
      "[LightGBM] [Warning] bagging_fraction is set=0.9955296648691334, subsample=0.7 will be ignored. Current value: bagging_fraction=0.9955296648691334\n",
      "[LightGBM] [Warning] bagging_freq is set=11, subsample_freq=0 will be ignored. Current value: bagging_freq=11\n",
      "Training until validation scores don't improve for 100 rounds\n",
      "[100]\ttraining's l1: 3.09083\tvalid_1's l1: 2.86187\n",
      "Early stopping, best iteration is:\n",
      "[25]\ttraining's l1: 3.30882\tvalid_1's l1: 2.8307\n"
     ]
    },
    {
     "name": "stderr",
     "output_type": "stream",
     "text": [
      "\u001b[32m[I 2021-07-29 23:40:24,070]\u001b[0m Trial 46 finished with value: -2.830704655860331 and parameters: {'max_depth': 4, 'min_child_weight': 1, 'subsample': 0.7, 'colsample_bytree': 0.7, 'reg_lambda': 0.0042912200986154145, 'reg_alpha': 0.018723303676768117, 'feature_fraction': 0.7852412387514464, 'bagging_fraction': 0.9955296648691334, 'bagging_freq': 11, 'num_leaves': 537, 'min_child_samples': 30}. Best is trial 15 with value: -2.829701174987891.\u001b[0m\n"
     ]
    },
    {
     "name": "stdout",
     "output_type": "stream",
     "text": [
      "[LightGBM] [Warning] feature_fraction is set=0.8952474653944433, colsample_bytree=0.6 will be ignored. Current value: feature_fraction=0.8952474653944433\n",
      "[LightGBM] [Warning] bagging_fraction is set=0.8908194183073145, subsample=0.7 will be ignored. Current value: bagging_fraction=0.8908194183073145\n",
      "[LightGBM] [Warning] bagging_freq is set=12, subsample_freq=0 will be ignored. Current value: bagging_freq=12\n",
      "Training until validation scores don't improve for 100 rounds\n",
      "[100]\ttraining's l1: 3.08345\tvalid_1's l1: 2.88311\n",
      "Early stopping, best iteration is:\n",
      "[29]\ttraining's l1: 3.26147\tvalid_1's l1: 2.84026\n"
     ]
    },
    {
     "name": "stderr",
     "output_type": "stream",
     "text": [
      "\u001b[32m[I 2021-07-29 23:40:25,503]\u001b[0m Trial 47 finished with value: -2.8402590793701674 and parameters: {'max_depth': 4, 'min_child_weight': 9, 'subsample': 0.7, 'colsample_bytree': 0.6, 'reg_lambda': 0.004541355923686728, 'reg_alpha': 0.08806514854983981, 'feature_fraction': 0.8952474653944433, 'bagging_fraction': 0.8908194183073145, 'bagging_freq': 12, 'num_leaves': 535, 'min_child_samples': 31}. Best is trial 15 with value: -2.829701174987891.\u001b[0m\n"
     ]
    },
    {
     "name": "stdout",
     "output_type": "stream",
     "text": [
      "[LightGBM] [Warning] feature_fraction is set=0.9447671407637617, colsample_bytree=0.7 will be ignored. Current value: feature_fraction=0.9447671407637617\n",
      "[LightGBM] [Warning] bagging_fraction is set=0.9195072981951516, subsample=0.7 will be ignored. Current value: bagging_fraction=0.9195072981951516\n",
      "[LightGBM] [Warning] bagging_freq is set=14, subsample_freq=0 will be ignored. Current value: bagging_freq=14\n",
      "Training until validation scores don't improve for 100 rounds\n",
      "[100]\ttraining's l1: 2.69039\tvalid_1's l1: 3.12674\n"
     ]
    },
    {
     "name": "stderr",
     "output_type": "stream",
     "text": [
      "\u001b[32m[I 2021-07-29 23:40:29,425]\u001b[0m Trial 48 finished with value: -2.8956703252157308 and parameters: {'max_depth': 13, 'min_child_weight': 4, 'subsample': 0.7, 'colsample_bytree': 0.7, 'reg_lambda': 0.03535134890383909, 'reg_alpha': 0.020639995499828305, 'feature_fraction': 0.9447671407637617, 'bagging_fraction': 0.9195072981951516, 'bagging_freq': 14, 'num_leaves': 336, 'min_child_samples': 20}. Best is trial 15 with value: -2.829701174987891.\u001b[0m\n"
     ]
    },
    {
     "name": "stdout",
     "output_type": "stream",
     "text": [
      "Early stopping, best iteration is:\n",
      "[12]\ttraining's l1: 3.20589\tvalid_1's l1: 2.89567\n",
      "[LightGBM] [Warning] feature_fraction is set=0.6047600522394907, colsample_bytree=0.7 will be ignored. Current value: feature_fraction=0.6047600522394907\n",
      "[LightGBM] [Warning] bagging_fraction is set=0.9995252079046361, subsample=0.6 will be ignored. Current value: bagging_fraction=0.9995252079046361\n",
      "[LightGBM] [Warning] bagging_freq is set=11, subsample_freq=0 will be ignored. Current value: bagging_freq=11\n",
      "Training until validation scores don't improve for 100 rounds\n",
      "[100]\ttraining's l1: 3.18703\tvalid_1's l1: 2.91925\n",
      "Early stopping, best iteration is:\n",
      "[29]\ttraining's l1: 3.3276\tvalid_1's l1: 2.88763\n"
     ]
    },
    {
     "name": "stderr",
     "output_type": "stream",
     "text": [
      "\u001b[32m[I 2021-07-29 23:40:31,215]\u001b[0m Trial 49 finished with value: -2.8876338802730293 and parameters: {'max_depth': 6, 'min_child_weight': 6, 'subsample': 0.6, 'colsample_bytree': 0.7, 'reg_lambda': 0.020192638662607277, 'reg_alpha': 893.062875634903, 'feature_fraction': 0.6047600522394907, 'bagging_fraction': 0.9995252079046361, 'bagging_freq': 11, 'num_leaves': 467, 'min_child_samples': 35}. Best is trial 15 with value: -2.829701174987891.\u001b[0m\n"
     ]
    },
    {
     "name": "stdout",
     "output_type": "stream",
     "text": [
      "[LightGBM] [Warning] feature_fraction is set=0.7269300916887785, colsample_bytree=0.6 will be ignored. Current value: feature_fraction=0.7269300916887785\n",
      "[LightGBM] [Warning] bagging_fraction is set=0.9694161433195853, subsample=0.8 will be ignored. Current value: bagging_fraction=0.9694161433195853\n",
      "[LightGBM] [Warning] bagging_freq is set=10, subsample_freq=0 will be ignored. Current value: bagging_freq=10\n",
      "Training until validation scores don't improve for 100 rounds\n",
      "[100]\ttraining's l1: 3.27387\tvalid_1's l1: 2.84628\n"
     ]
    },
    {
     "name": "stderr",
     "output_type": "stream",
     "text": [
      "\u001b[32m[I 2021-07-29 23:40:32,912]\u001b[0m Trial 50 finished with value: -2.8455259606119583 and parameters: {'max_depth': 2, 'min_child_weight': 2, 'subsample': 0.8, 'colsample_bytree': 0.6, 'reg_lambda': 0.008711985713265553, 'reg_alpha': 0.012517455589446877, 'feature_fraction': 0.7269300916887785, 'bagging_fraction': 0.9694161433195853, 'bagging_freq': 10, 'num_leaves': 605, 'min_child_samples': 22}. Best is trial 15 with value: -2.829701174987891.\u001b[0m\n"
     ]
    },
    {
     "name": "stdout",
     "output_type": "stream",
     "text": [
      "[200]\ttraining's l1: 3.19636\tvalid_1's l1: 2.85344\n",
      "Early stopping, best iteration is:\n",
      "[104]\ttraining's l1: 3.26741\tvalid_1's l1: 2.84553\n",
      "[LightGBM] [Warning] feature_fraction is set=0.7764795246553818, colsample_bytree=0.8 will be ignored. Current value: feature_fraction=0.7764795246553818\n",
      "[LightGBM] [Warning] bagging_fraction is set=0.9687044613558943, subsample=0.7 will be ignored. Current value: bagging_fraction=0.9687044613558943\n",
      "[LightGBM] [Warning] bagging_freq is set=8, subsample_freq=0 will be ignored. Current value: bagging_freq=8\n",
      "Training until validation scores don't improve for 100 rounds\n",
      "[100]\ttraining's l1: 3.4271\tvalid_1's l1: 2.85237\n",
      "[200]\ttraining's l1: 3.36354\tvalid_1's l1: 2.83507\n",
      "[300]\ttraining's l1: 3.33018\tvalid_1's l1: 2.83225\n",
      "[400]\ttraining's l1: 3.30995\tvalid_1's l1: 2.83166\n"
     ]
    },
    {
     "name": "stderr",
     "output_type": "stream",
     "text": [
      "\u001b[32m[I 2021-07-29 23:40:35,919]\u001b[0m Trial 51 finished with value: -2.829809806921491 and parameters: {'max_depth': 1, 'min_child_weight': 1, 'subsample': 0.7, 'colsample_bytree': 0.8, 'reg_lambda': 0.001762304862527839, 'reg_alpha': 0.002004784730040829, 'feature_fraction': 0.7764795246553818, 'bagging_fraction': 0.9687044613558943, 'bagging_freq': 8, 'num_leaves': 808, 'min_child_samples': 38}. Best is trial 15 with value: -2.829701174987891.\u001b[0m\n"
     ]
    },
    {
     "name": "stdout",
     "output_type": "stream",
     "text": [
      "Early stopping, best iteration is:\n",
      "[378]\ttraining's l1: 3.3137\tvalid_1's l1: 2.82981\n",
      "[LightGBM] [Warning] feature_fraction is set=0.7997055149699398, colsample_bytree=0.8 will be ignored. Current value: feature_fraction=0.7997055149699398\n",
      "[LightGBM] [Warning] bagging_fraction is set=0.9369592673116327, subsample=0.7 will be ignored. Current value: bagging_fraction=0.9369592673116327\n",
      "[LightGBM] [Warning] bagging_freq is set=9, subsample_freq=0 will be ignored. Current value: bagging_freq=9\n",
      "Training until validation scores don't improve for 100 rounds\n",
      "[100]\ttraining's l1: 3.27128\tvalid_1's l1: 2.84706\n"
     ]
    },
    {
     "name": "stderr",
     "output_type": "stream",
     "text": [
      "\u001b[32m[I 2021-07-29 23:40:37,661]\u001b[0m Trial 52 finished with value: -2.844119966605345 and parameters: {'max_depth': 2, 'min_child_weight': 1, 'subsample': 0.7, 'colsample_bytree': 0.8, 'reg_lambda': 0.0019579055959559194, 'reg_alpha': 0.004832141880903609, 'feature_fraction': 0.7997055149699398, 'bagging_fraction': 0.9369592673116327, 'bagging_freq': 9, 'num_leaves': 833, 'min_child_samples': 38}. Best is trial 15 with value: -2.829701174987891.\u001b[0m\n"
     ]
    },
    {
     "name": "stdout",
     "output_type": "stream",
     "text": [
      "[200]\ttraining's l1: 3.18996\tvalid_1's l1: 2.8543\n",
      "Early stopping, best iteration is:\n",
      "[111]\ttraining's l1: 3.25691\tvalid_1's l1: 2.84412\n",
      "[LightGBM] [Warning] feature_fraction is set=0.8451906643196558, colsample_bytree=0.7 will be ignored. Current value: feature_fraction=0.8451906643196558\n",
      "[LightGBM] [Warning] bagging_fraction is set=0.87602559624385, subsample=0.7 will be ignored. Current value: bagging_fraction=0.87602559624385\n",
      "[LightGBM] [Warning] bagging_freq is set=8, subsample_freq=0 will be ignored. Current value: bagging_freq=8\n",
      "Training until validation scores don't improve for 100 rounds\n",
      "[100]\ttraining's l1: 3.16569\tvalid_1's l1: 2.85802\n"
     ]
    },
    {
     "name": "stderr",
     "output_type": "stream",
     "text": [
      "\u001b[32m[I 2021-07-29 23:40:39,157]\u001b[0m Trial 53 finished with value: -2.843568332787211 and parameters: {'max_depth': 3, 'min_child_weight': 3, 'subsample': 0.7, 'colsample_bytree': 0.7, 'reg_lambda': 0.004302365819864732, 'reg_alpha': 0.0020033606451677582, 'feature_fraction': 0.8451906643196558, 'bagging_fraction': 0.87602559624385, 'bagging_freq': 8, 'num_leaves': 898, 'min_child_samples': 34}. Best is trial 15 with value: -2.829701174987891.\u001b[0m\n"
     ]
    },
    {
     "name": "stdout",
     "output_type": "stream",
     "text": [
      "Early stopping, best iteration is:\n",
      "[44]\ttraining's l1: 3.28573\tvalid_1's l1: 2.84357\n",
      "[LightGBM] [Warning] feature_fraction is set=0.6827115907865154, colsample_bytree=0.8 will be ignored. Current value: feature_fraction=0.6827115907865154\n",
      "[LightGBM] [Warning] bagging_fraction is set=0.9940217622961974, subsample=0.7 will be ignored. Current value: bagging_fraction=0.9940217622961974\n",
      "[LightGBM] [Warning] bagging_freq is set=12, subsample_freq=0 will be ignored. Current value: bagging_freq=12\n",
      "Training until validation scores don't improve for 100 rounds\n",
      "[100]\ttraining's l1: 3.09063\tvalid_1's l1: 2.8682\n"
     ]
    },
    {
     "name": "stderr",
     "output_type": "stream",
     "text": [
      "\u001b[32m[I 2021-07-29 23:40:40,679]\u001b[0m Trial 54 finished with value: -2.840865653784554 and parameters: {'max_depth': 4, 'min_child_weight': 2, 'subsample': 0.7, 'colsample_bytree': 0.8, 'reg_lambda': 0.002067627991449163, 'reg_alpha': 0.007542694426346923, 'feature_fraction': 0.6827115907865154, 'bagging_fraction': 0.9940217622961974, 'bagging_freq': 12, 'num_leaves': 783, 'min_child_samples': 46}. Best is trial 15 with value: -2.829701174987891.\u001b[0m\n"
     ]
    },
    {
     "name": "stdout",
     "output_type": "stream",
     "text": [
      "Early stopping, best iteration is:\n",
      "[36]\ttraining's l1: 3.22938\tvalid_1's l1: 2.84087\n",
      "[LightGBM] [Warning] feature_fraction is set=0.7471537650405864, colsample_bytree=0.8 will be ignored. Current value: feature_fraction=0.7471537650405864\n",
      "[LightGBM] [Warning] bagging_fraction is set=0.9663023315358438, subsample=0.6 will be ignored. Current value: bagging_fraction=0.9663023315358438\n",
      "[LightGBM] [Warning] bagging_freq is set=10, subsample_freq=0 will be ignored. Current value: bagging_freq=10\n",
      "Training until validation scores don't improve for 100 rounds\n",
      "[100]\ttraining's l1: 3.43113\tvalid_1's l1: 2.85826\n",
      "[200]\ttraining's l1: 3.36435\tvalid_1's l1: 2.84066\n",
      "[300]\ttraining's l1: 3.33201\tvalid_1's l1: 2.83565\n",
      "[400]\ttraining's l1: 3.31029\tvalid_1's l1: 2.83534\n",
      "[500]\ttraining's l1: 3.29481\tvalid_1's l1: 2.84029\n",
      "Early stopping, best iteration is:\n",
      "[434]\ttraining's l1: 3.30417\tvalid_1's l1: 2.8337\n"
     ]
    },
    {
     "name": "stderr",
     "output_type": "stream",
     "text": [
      "\u001b[32m[I 2021-07-29 23:40:43,877]\u001b[0m Trial 55 finished with value: -2.8337017352726788 and parameters: {'max_depth': 1, 'min_child_weight': 5, 'subsample': 0.6, 'colsample_bytree': 0.8, 'reg_lambda': 0.015257338271859128, 'reg_alpha': 0.06302017265187411, 'feature_fraction': 0.7471537650405864, 'bagging_fraction': 0.9663023315358438, 'bagging_freq': 10, 'num_leaves': 960, 'min_child_samples': 26}. Best is trial 15 with value: -2.829701174987891.\u001b[0m\n"
     ]
    },
    {
     "name": "stdout",
     "output_type": "stream",
     "text": [
      "[LightGBM] [Warning] feature_fraction is set=0.9990228512738297, colsample_bytree=0.7 will be ignored. Current value: feature_fraction=0.9990228512738297\n",
      "[LightGBM] [Warning] bagging_fraction is set=0.9174986785458001, subsample=0.7 will be ignored. Current value: bagging_fraction=0.9174986785458001\n",
      "[LightGBM] [Warning] bagging_freq is set=9, subsample_freq=0 will be ignored. Current value: bagging_freq=9\n",
      "Training until validation scores don't improve for 100 rounds\n",
      "[100]\ttraining's l1: 3.27837\tvalid_1's l1: 2.85853\n"
     ]
    },
    {
     "name": "stderr",
     "output_type": "stream",
     "text": [
      "\u001b[32m[I 2021-07-29 23:40:45,579]\u001b[0m Trial 56 finished with value: -2.858103873497996 and parameters: {'max_depth': 2, 'min_child_weight': 1, 'subsample': 0.7, 'colsample_bytree': 0.7, 'reg_lambda': 992.7517240672321, 'reg_alpha': 0.0010285101580806526, 'feature_fraction': 0.9990228512738297, 'bagging_fraction': 0.9174986785458001, 'bagging_freq': 9, 'num_leaves': 687, 'min_child_samples': 29}. Best is trial 15 with value: -2.829701174987891.\u001b[0m\n"
     ]
    },
    {
     "name": "stdout",
     "output_type": "stream",
     "text": [
      "Early stopping, best iteration is:\n",
      "[95]\ttraining's l1: 3.28616\tvalid_1's l1: 2.8581\n",
      "[LightGBM] [Warning] feature_fraction is set=0.776999613091677, colsample_bytree=0.8 will be ignored. Current value: feature_fraction=0.776999613091677\n",
      "[LightGBM] [Warning] bagging_fraction is set=0.9979366739123539, subsample=0.9 will be ignored. Current value: bagging_fraction=0.9979366739123539\n",
      "[LightGBM] [Warning] bagging_freq is set=7, subsample_freq=0 will be ignored. Current value: bagging_freq=7\n",
      "Training until validation scores don't improve for 100 rounds\n"
     ]
    },
    {
     "name": "stderr",
     "output_type": "stream",
     "text": [
      "\u001b[32m[I 2021-07-29 23:40:47,194]\u001b[0m Trial 57 finished with value: -2.8334810037718166 and parameters: {'max_depth': 5, 'min_child_weight': 3, 'subsample': 0.9, 'colsample_bytree': 0.8, 'reg_lambda': 0.0075834563939118586, 'reg_alpha': 0.00359274349565836, 'feature_fraction': 0.776999613091677, 'bagging_fraction': 0.9979366739123539, 'bagging_freq': 7, 'num_leaves': 741, 'min_child_samples': 15}. Best is trial 15 with value: -2.829701174987891.\u001b[0m\n"
     ]
    },
    {
     "name": "stdout",
     "output_type": "stream",
     "text": [
      "[100]\ttraining's l1: 3.01498\tvalid_1's l1: 2.91029\n",
      "Early stopping, best iteration is:\n",
      "[22]\ttraining's l1: 3.26367\tvalid_1's l1: 2.83348\n",
      "[LightGBM] [Warning] feature_fraction is set=0.636353823289078, colsample_bytree=0.9 will be ignored. Current value: feature_fraction=0.636353823289078\n",
      "[LightGBM] [Warning] bagging_fraction is set=0.8389939731864662, subsample=0.7 will be ignored. Current value: bagging_fraction=0.8389939731864662\n",
      "[LightGBM] [Warning] bagging_freq is set=11, subsample_freq=0 will be ignored. Current value: bagging_freq=11\n",
      "Training until validation scores don't improve for 100 rounds\n",
      "[100]\ttraining's l1: 3.16966\tvalid_1's l1: 2.84234\n"
     ]
    },
    {
     "name": "stderr",
     "output_type": "stream",
     "text": [
      "\u001b[32m[I 2021-07-29 23:40:48,715]\u001b[0m Trial 58 finished with value: -2.832471567439943 and parameters: {'max_depth': 3, 'min_child_weight': 15, 'subsample': 0.7, 'colsample_bytree': 0.9, 'reg_lambda': 0.003335600739576469, 'reg_alpha': 0.012200578033498914, 'feature_fraction': 0.636353823289078, 'bagging_fraction': 0.8389939731864662, 'bagging_freq': 11, 'num_leaves': 615, 'min_child_samples': 44}. Best is trial 15 with value: -2.829701174987891.\u001b[0m\n"
     ]
    },
    {
     "name": "stdout",
     "output_type": "stream",
     "text": [
      "Early stopping, best iteration is:\n",
      "[75]\ttraining's l1: 3.21133\tvalid_1's l1: 2.83247\n",
      "[LightGBM] [Warning] feature_fraction is set=0.7027152132858058, colsample_bytree=0.7 will be ignored. Current value: feature_fraction=0.7027152132858058\n",
      "[LightGBM] [Warning] bagging_fraction is set=0.8882442712514509, subsample=0.8 will be ignored. Current value: bagging_fraction=0.8882442712514509\n",
      "[LightGBM] [Warning] bagging_freq is set=8, subsample_freq=0 will be ignored. Current value: bagging_freq=8\n",
      "Training until validation scores don't improve for 100 rounds\n",
      "[100]\ttraining's l1: 3.42785\tvalid_1's l1: 2.85954\n",
      "[200]\ttraining's l1: 3.36648\tvalid_1's l1: 2.84391\n",
      "[300]\ttraining's l1: 3.33243\tvalid_1's l1: 2.8356\n"
     ]
    },
    {
     "name": "stderr",
     "output_type": "stream",
     "text": [
      "\u001b[32m[I 2021-07-29 23:40:51,099]\u001b[0m Trial 59 finished with value: -2.8334909149440914 and parameters: {'max_depth': 1, 'min_child_weight': 11, 'subsample': 0.8, 'colsample_bytree': 0.7, 'reg_lambda': 0.02404873609057872, 'reg_alpha': 15.508325849767, 'feature_fraction': 0.7027152132858058, 'bagging_fraction': 0.8882442712514509, 'bagging_freq': 8, 'num_leaves': 442, 'min_child_samples': 52}. Best is trial 15 with value: -2.829701174987891.\u001b[0m\n"
     ]
    },
    {
     "name": "stdout",
     "output_type": "stream",
     "text": [
      "Early stopping, best iteration is:\n",
      "[289]\ttraining's l1: 3.33526\tvalid_1's l1: 2.83349\n",
      "[LightGBM] [Warning] feature_fraction is set=0.8797474432993211, colsample_bytree=0.8 will be ignored. Current value: feature_fraction=0.8797474432993211\n",
      "[LightGBM] [Warning] bagging_fraction is set=0.7423358361897012, subsample=0.7 will be ignored. Current value: bagging_fraction=0.7423358361897012\n",
      "[LightGBM] [Warning] bagging_freq is set=17, subsample_freq=0 will be ignored. Current value: bagging_freq=17\n",
      "Training until validation scores don't improve for 100 rounds\n",
      "[100]\ttraining's l1: 3.16643\tvalid_1's l1: 2.85749\n",
      "Early stopping, best iteration is:\n",
      "[36]\ttraining's l1: 3.31429\tvalid_1's l1: 2.84725\n"
     ]
    },
    {
     "name": "stderr",
     "output_type": "stream",
     "text": [
      "\u001b[32m[I 2021-07-29 23:40:52,385]\u001b[0m Trial 60 finished with value: -2.8472459328907385 and parameters: {'max_depth': 3, 'min_child_weight': 2, 'subsample': 0.7, 'colsample_bytree': 0.8, 'reg_lambda': 0.05959829975367497, 'reg_alpha': 1.9898988481980908, 'feature_fraction': 0.8797474432993211, 'bagging_fraction': 0.7423358361897012, 'bagging_freq': 17, 'num_leaves': 534, 'min_child_samples': 37}. Best is trial 15 with value: -2.829701174987891.\u001b[0m\n"
     ]
    },
    {
     "name": "stdout",
     "output_type": "stream",
     "text": [
      "[LightGBM] [Warning] feature_fraction is set=0.7844064718992293, colsample_bytree=0.8 will be ignored. Current value: feature_fraction=0.7844064718992293\n",
      "[LightGBM] [Warning] bagging_fraction is set=0.9767132419266252, subsample=0.7 will be ignored. Current value: bagging_fraction=0.9767132419266252\n",
      "[LightGBM] [Warning] bagging_freq is set=4, subsample_freq=0 will be ignored. Current value: bagging_freq=4\n",
      "Training until validation scores don't improve for 100 rounds\n",
      "[100]\ttraining's l1: 3.42568\tvalid_1's l1: 2.85095\n",
      "[200]\ttraining's l1: 3.3642\tvalid_1's l1: 2.83619\n",
      "[300]\ttraining's l1: 3.33026\tvalid_1's l1: 2.83362\n",
      "[400]\ttraining's l1: 3.31039\tvalid_1's l1: 2.83129\n",
      "Early stopping, best iteration is:\n",
      "[330]\ttraining's l1: 3.32362\tvalid_1's l1: 2.82836\n"
     ]
    },
    {
     "name": "stderr",
     "output_type": "stream",
     "text": [
      "\u001b[32m[I 2021-07-29 23:40:55,347]\u001b[0m Trial 61 finished with value: -2.828364406539317 and parameters: {'max_depth': 1, 'min_child_weight': 1, 'subsample': 0.7, 'colsample_bytree': 0.8, 'reg_lambda': 0.0010197657683623648, 'reg_alpha': 0.0016019846395700916, 'feature_fraction': 0.7844064718992293, 'bagging_fraction': 0.9767132419266252, 'bagging_freq': 4, 'num_leaves': 743, 'min_child_samples': 41}. Best is trial 61 with value: -2.828364406539317.\u001b[0m\n"
     ]
    },
    {
     "name": "stdout",
     "output_type": "stream",
     "text": [
      "[LightGBM] [Warning] feature_fraction is set=0.7874994728375929, colsample_bytree=0.8 will be ignored. Current value: feature_fraction=0.7874994728375929\n",
      "[LightGBM] [Warning] bagging_fraction is set=0.9771737276154412, subsample=0.7 will be ignored. Current value: bagging_fraction=0.9771737276154412\n",
      "[LightGBM] [Warning] bagging_freq is set=4, subsample_freq=0 will be ignored. Current value: bagging_freq=4\n",
      "Training until validation scores don't improve for 100 rounds\n",
      "[100]\ttraining's l1: 3.42987\tvalid_1's l1: 2.85828\n",
      "[200]\ttraining's l1: 3.36466\tvalid_1's l1: 2.8395\n",
      "[300]\ttraining's l1: 3.33124\tvalid_1's l1: 2.83923\n"
     ]
    },
    {
     "name": "stderr",
     "output_type": "stream",
     "text": [
      "\u001b[32m[I 2021-07-29 23:40:57,918]\u001b[0m Trial 62 finished with value: -2.8343659827921543 and parameters: {'max_depth': 1, 'min_child_weight': 1, 'subsample': 0.7, 'colsample_bytree': 0.8, 'reg_lambda': 0.001017816870006921, 'reg_alpha': 0.0015994190976835363, 'feature_fraction': 0.7874994728375929, 'bagging_fraction': 0.9771737276154412, 'bagging_freq': 4, 'num_leaves': 816, 'min_child_samples': 60}. Best is trial 61 with value: -2.828364406539317.\u001b[0m\n"
     ]
    },
    {
     "name": "stdout",
     "output_type": "stream",
     "text": [
      "Early stopping, best iteration is:\n",
      "[262]\ttraining's l1: 3.34153\tvalid_1's l1: 2.83437\n",
      "[LightGBM] [Warning] feature_fraction is set=0.8326718071306227, colsample_bytree=0.8 will be ignored. Current value: feature_fraction=0.8326718071306227\n",
      "[LightGBM] [Warning] bagging_fraction is set=0.9391481698565282, subsample=0.7 will be ignored. Current value: bagging_fraction=0.9391481698565282\n",
      "[LightGBM] [Warning] bagging_freq is set=2, subsample_freq=0 will be ignored. Current value: bagging_freq=2\n",
      "Training until validation scores don't improve for 100 rounds\n",
      "[100]\ttraining's l1: 3.42786\tvalid_1's l1: 2.85621\n",
      "[200]\ttraining's l1: 3.36477\tvalid_1's l1: 2.84068\n",
      "[300]\ttraining's l1: 3.33223\tvalid_1's l1: 2.83667\n"
     ]
    },
    {
     "name": "stderr",
     "output_type": "stream",
     "text": [
      "\u001b[32m[I 2021-07-29 23:41:00,632]\u001b[0m Trial 63 finished with value: -2.8343674582917724 and parameters: {'max_depth': 1, 'min_child_weight': 3, 'subsample': 0.7, 'colsample_bytree': 0.8, 'reg_lambda': 0.002275709366588176, 'reg_alpha': 0.002823731407359936, 'feature_fraction': 0.8326718071306227, 'bagging_fraction': 0.9391481698565282, 'bagging_freq': 2, 'num_leaves': 651, 'min_child_samples': 98}. Best is trial 61 with value: -2.828364406539317.\u001b[0m\n"
     ]
    },
    {
     "name": "stdout",
     "output_type": "stream",
     "text": [
      "Early stopping, best iteration is:\n",
      "[237]\ttraining's l1: 3.34912\tvalid_1's l1: 2.83437\n",
      "[LightGBM] [Warning] feature_fraction is set=0.75446593181721, colsample_bytree=0.8 will be ignored. Current value: feature_fraction=0.75446593181721\n",
      "[LightGBM] [Warning] bagging_fraction is set=0.9161613209412364, subsample=0.6 will be ignored. Current value: bagging_fraction=0.9161613209412364\n",
      "[LightGBM] [Warning] bagging_freq is set=4, subsample_freq=0 will be ignored. Current value: bagging_freq=4\n",
      "Training until validation scores don't improve for 100 rounds\n",
      "[100]\ttraining's l1: 3.27216\tvalid_1's l1: 2.84909\n",
      "[200]\ttraining's l1: 3.19828\tvalid_1's l1: 2.84886\n"
     ]
    },
    {
     "name": "stderr",
     "output_type": "stream",
     "text": [
      "\u001b[32m[I 2021-07-29 23:41:02,653]\u001b[0m Trial 64 finished with value: -2.8427596508971607 and parameters: {'max_depth': 2, 'min_child_weight': 2, 'subsample': 0.6, 'colsample_bytree': 0.8, 'reg_lambda': 0.00454293649504669, 'reg_alpha': 0.005132927756359854, 'feature_fraction': 0.75446593181721, 'bagging_fraction': 0.9161613209412364, 'bagging_freq': 4, 'num_leaves': 574, 'min_child_samples': 32}. Best is trial 61 with value: -2.828364406539317.\u001b[0m\n"
     ]
    },
    {
     "name": "stdout",
     "output_type": "stream",
     "text": [
      "Early stopping, best iteration is:\n",
      "[149]\ttraining's l1: 3.22776\tvalid_1's l1: 2.84276\n",
      "[LightGBM] [Warning] feature_fraction is set=0.7316301425055736, colsample_bytree=0.8 will be ignored. Current value: feature_fraction=0.7316301425055736\n",
      "[LightGBM] [Warning] bagging_fraction is set=0.9771943669362952, subsample=0.7 will be ignored. Current value: bagging_fraction=0.9771943669362952\n",
      "[LightGBM] [Warning] bagging_freq is set=6, subsample_freq=0 will be ignored. Current value: bagging_freq=6\n",
      "Training until validation scores don't improve for 100 rounds\n",
      "[100]\ttraining's l1: 3.08982\tvalid_1's l1: 2.86085\n",
      "Early stopping, best iteration is:\n",
      "[30]\ttraining's l1: 3.26309\tvalid_1's l1: 2.82961\n"
     ]
    },
    {
     "name": "stderr",
     "output_type": "stream",
     "text": [
      "\u001b[32m[I 2021-07-29 23:41:04,175]\u001b[0m Trial 65 finished with value: -2.8296136645200476 and parameters: {'max_depth': 4, 'min_child_weight': 5, 'subsample': 0.7, 'colsample_bytree': 0.8, 'reg_lambda': 0.0014569419317565855, 'reg_alpha': 0.0010520275891974453, 'feature_fraction': 0.7316301425055736, 'bagging_fraction': 0.9771943669362952, 'bagging_freq': 6, 'num_leaves': 789, 'min_child_samples': 46}. Best is trial 61 with value: -2.828364406539317.\u001b[0m\n"
     ]
    },
    {
     "name": "stdout",
     "output_type": "stream",
     "text": [
      "[LightGBM] [Warning] feature_fraction is set=0.5813323808649524, colsample_bytree=0.9 will be ignored. Current value: feature_fraction=0.5813323808649524\n",
      "[LightGBM] [Warning] bagging_fraction is set=0.9989001530816917, subsample=0.7 will be ignored. Current value: bagging_fraction=0.9989001530816917\n",
      "[LightGBM] [Warning] bagging_freq is set=6, subsample_freq=0 will be ignored. Current value: bagging_freq=6\n",
      "Training until validation scores don't improve for 100 rounds\n",
      "[100]\ttraining's l1: 2.79389\tvalid_1's l1: 3.045\n"
     ]
    },
    {
     "name": "stderr",
     "output_type": "stream",
     "text": [
      "\u001b[32m[I 2021-07-29 23:41:06,943]\u001b[0m Trial 66 finished with value: -2.8701014494373944 and parameters: {'max_depth': 9, 'min_child_weight': 8, 'subsample': 0.7, 'colsample_bytree': 0.9, 'reg_lambda': 0.007342727657542445, 'reg_alpha': 0.009263468454418831, 'feature_fraction': 0.5813323808649524, 'bagging_fraction': 0.9989001530816917, 'bagging_freq': 6, 'num_leaves': 869, 'min_child_samples': 48}. Best is trial 61 with value: -2.828364406539317.\u001b[0m\n"
     ]
    },
    {
     "name": "stdout",
     "output_type": "stream",
     "text": [
      "Early stopping, best iteration is:\n",
      "[13]\ttraining's l1: 3.17231\tvalid_1's l1: 2.8701\n",
      "[LightGBM] [Warning] feature_fraction is set=0.7305462600429429, colsample_bytree=0.8 will be ignored. Current value: feature_fraction=0.7305462600429429\n",
      "[LightGBM] [Warning] bagging_fraction is set=0.9665090437224677, subsample=0.5 will be ignored. Current value: bagging_fraction=0.9665090437224677\n",
      "[LightGBM] [Warning] bagging_freq is set=13, subsample_freq=0 will be ignored. Current value: bagging_freq=13\n",
      "Training until validation scores don't improve for 100 rounds\n"
     ]
    },
    {
     "name": "stderr",
     "output_type": "stream",
     "text": [
      "\u001b[32m[I 2021-07-29 23:41:08,464]\u001b[0m Trial 67 finished with value: -2.8450487384421 and parameters: {'max_depth': 5, 'min_child_weight': 5, 'subsample': 0.5, 'colsample_bytree': 0.8, 'reg_lambda': 0.0014285192171470643, 'reg_alpha': 0.0011346584817905417, 'feature_fraction': 0.7305462600429429, 'bagging_fraction': 0.9665090437224677, 'bagging_freq': 13, 'num_leaves': 801, 'min_child_samples': 41}. Best is trial 61 with value: -2.828364406539317.\u001b[0m\n"
     ]
    },
    {
     "name": "stdout",
     "output_type": "stream",
     "text": [
      "[100]\ttraining's l1: 3.01699\tvalid_1's l1: 2.89934\n",
      "Early stopping, best iteration is:\n",
      "[19]\ttraining's l1: 3.29334\tvalid_1's l1: 2.84505\n",
      "[LightGBM] [Warning] feature_fraction is set=0.6691333453090912, colsample_bytree=0.7 will be ignored. Current value: feature_fraction=0.6691333453090912\n",
      "[LightGBM] [Warning] bagging_fraction is set=0.9817917999897093, subsample=0.7 will be ignored. Current value: bagging_fraction=0.9817917999897093\n",
      "[LightGBM] [Warning] bagging_freq is set=7, subsample_freq=0 will be ignored. Current value: bagging_freq=7\n",
      "Training until validation scores don't improve for 100 rounds\n",
      "[100]\ttraining's l1: 2.90587\tvalid_1's l1: 3.00217\n",
      "Early stopping, best iteration is:\n",
      "[20]\ttraining's l1: 3.14274\tvalid_1's l1: 2.85323\n"
     ]
    },
    {
     "name": "stderr",
     "output_type": "stream",
     "text": [
      "\u001b[32m[I 2021-07-29 23:41:10,306]\u001b[0m Trial 68 finished with value: -2.8532346052526214 and parameters: {'max_depth': 7, 'min_child_weight': 4, 'subsample': 0.7, 'colsample_bytree': 0.7, 'reg_lambda': 0.33464765002763314, 'reg_alpha': 0.024190897982321453, 'feature_fraction': 0.6691333453090912, 'bagging_fraction': 0.9817917999897093, 'bagging_freq': 7, 'num_leaves': 751, 'min_child_samples': 56}. Best is trial 61 with value: -2.828364406539317.\u001b[0m\n"
     ]
    },
    {
     "name": "stdout",
     "output_type": "stream",
     "text": [
      "[LightGBM] [Warning] feature_fraction is set=0.8126571224969206, colsample_bytree=0.8 will be ignored. Current value: feature_fraction=0.8126571224969206\n",
      "[LightGBM] [Warning] bagging_fraction is set=0.9574821505408752, subsample=0.8 will be ignored. Current value: bagging_fraction=0.9574821505408752\n",
      "[LightGBM] [Warning] bagging_freq is set=8, subsample_freq=0 will be ignored. Current value: bagging_freq=8\n",
      "Training until validation scores don't improve for 100 rounds\n",
      "[100]\ttraining's l1: 3.08715\tvalid_1's l1: 2.87208\n"
     ]
    },
    {
     "name": "stderr",
     "output_type": "stream",
     "text": [
      "\u001b[32m[I 2021-07-29 23:41:11,867]\u001b[0m Trial 69 finished with value: -2.83658413924531 and parameters: {'max_depth': 4, 'min_child_weight': 6, 'subsample': 0.8, 'colsample_bytree': 0.8, 'reg_lambda': 0.01288200209310283, 'reg_alpha': 0.014000957588919925, 'feature_fraction': 0.8126571224969206, 'bagging_fraction': 0.9574821505408752, 'bagging_freq': 8, 'num_leaves': 831, 'min_child_samples': 43}. Best is trial 61 with value: -2.828364406539317.\u001b[0m\n"
     ]
    },
    {
     "name": "stdout",
     "output_type": "stream",
     "text": [
      "Early stopping, best iteration is:\n",
      "[37]\ttraining's l1: 3.23165\tvalid_1's l1: 2.83658\n",
      "[LightGBM] [Warning] feature_fraction is set=0.6952382722511611, colsample_bytree=0.7 will be ignored. Current value: feature_fraction=0.6952382722511611\n",
      "[LightGBM] [Warning] bagging_fraction is set=0.9021517831182214, subsample=0.7 will be ignored. Current value: bagging_fraction=0.9021517831182214\n",
      "[LightGBM] [Warning] bagging_freq is set=3, subsample_freq=0 will be ignored. Current value: bagging_freq=3\n",
      "Training until validation scores don't improve for 100 rounds\n",
      "[100]\ttraining's l1: 2.71281\tvalid_1's l1: 3.09806\n",
      "Early stopping, best iteration is:\n",
      "[12]\ttraining's l1: 3.15103\tvalid_1's l1: 2.88359\n"
     ]
    },
    {
     "name": "stderr",
     "output_type": "stream",
     "text": [
      "\u001b[32m[I 2021-07-29 23:41:14,620]\u001b[0m Trial 70 finished with value: -2.8835948605211885 and parameters: {'max_depth': 10, 'min_child_weight': 5, 'subsample': 0.7, 'colsample_bytree': 0.7, 'reg_lambda': 0.002814350148607505, 'reg_alpha': 0.0024811150507894663, 'feature_fraction': 0.6952382722511611, 'bagging_fraction': 0.9021517831182214, 'bagging_freq': 3, 'num_leaves': 946, 'min_child_samples': 25}. Best is trial 61 with value: -2.828364406539317.\u001b[0m\n"
     ]
    },
    {
     "name": "stdout",
     "output_type": "stream",
     "text": [
      "[LightGBM] [Warning] feature_fraction is set=0.7772105861144831, colsample_bytree=0.8 will be ignored. Current value: feature_fraction=0.7772105861144831\n",
      "[LightGBM] [Warning] bagging_fraction is set=0.9324989508624527, subsample=0.7 will be ignored. Current value: bagging_fraction=0.9324989508624527\n",
      "[LightGBM] [Warning] bagging_freq is set=5, subsample_freq=0 will be ignored. Current value: bagging_freq=5\n",
      "Training until validation scores don't improve for 100 rounds\n",
      "[100]\ttraining's l1: 3.26995\tvalid_1's l1: 2.84943\n"
     ]
    },
    {
     "name": "stderr",
     "output_type": "stream",
     "text": [
      "\u001b[32m[I 2021-07-29 23:41:16,297]\u001b[0m Trial 71 finished with value: -2.8447364230164203 and parameters: {'max_depth': 2, 'min_child_weight': 8, 'subsample': 0.7, 'colsample_bytree': 0.8, 'reg_lambda': 0.001495300222613114, 'reg_alpha': 0.001568946580152961, 'feature_fraction': 0.7772105861144831, 'bagging_fraction': 0.9324989508624527, 'bagging_freq': 5, 'num_leaves': 993, 'min_child_samples': 37}. Best is trial 61 with value: -2.828364406539317.\u001b[0m\n"
     ]
    },
    {
     "name": "stdout",
     "output_type": "stream",
     "text": [
      "Early stopping, best iteration is:\n",
      "[68]\ttraining's l1: 3.32626\tvalid_1's l1: 2.84474\n",
      "[LightGBM] [Warning] feature_fraction is set=0.8504180864336774, colsample_bytree=0.8 will be ignored. Current value: feature_fraction=0.8504180864336774\n",
      "[LightGBM] [Warning] bagging_fraction is set=0.8713576452836259, subsample=0.7 will be ignored. Current value: bagging_fraction=0.8713576452836259\n",
      "[LightGBM] [Warning] bagging_freq is set=6, subsample_freq=0 will be ignored. Current value: bagging_freq=6\n",
      "Training until validation scores don't improve for 100 rounds\n",
      "[100]\ttraining's l1: 3.16423\tvalid_1's l1: 2.84824\n"
     ]
    },
    {
     "name": "stderr",
     "output_type": "stream",
     "text": [
      "\u001b[32m[I 2021-07-29 23:41:17,803]\u001b[0m Trial 72 finished with value: -2.840112420782032 and parameters: {'max_depth': 3, 'min_child_weight': 3, 'subsample': 0.7, 'colsample_bytree': 0.8, 'reg_lambda': 0.0042667815837159765, 'reg_alpha': 0.0052452584875583835, 'feature_fraction': 0.8504180864336774, 'bagging_fraction': 0.8713576452836259, 'bagging_freq': 6, 'num_leaves': 729, 'min_child_samples': 34}. Best is trial 61 with value: -2.828364406539317.\u001b[0m\n"
     ]
    },
    {
     "name": "stdout",
     "output_type": "stream",
     "text": [
      "Early stopping, best iteration is:\n",
      "[43]\ttraining's l1: 3.28854\tvalid_1's l1: 2.84011\n",
      "[LightGBM] [Warning] feature_fraction is set=0.7447273356268077, colsample_bytree=0.8 will be ignored. Current value: feature_fraction=0.7447273356268077\n",
      "[LightGBM] [Warning] bagging_fraction is set=0.9431317419841366, subsample=0.7 will be ignored. Current value: bagging_fraction=0.9431317419841366\n",
      "[LightGBM] [Warning] bagging_freq is set=7, subsample_freq=0 will be ignored. Current value: bagging_freq=7\n",
      "Training until validation scores don't improve for 100 rounds\n",
      "[100]\ttraining's l1: 3.43006\tvalid_1's l1: 2.85768\n",
      "[200]\ttraining's l1: 3.36757\tvalid_1's l1: 2.84034\n",
      "[300]\ttraining's l1: 3.33132\tvalid_1's l1: 2.83537\n"
     ]
    },
    {
     "name": "stderr",
     "output_type": "stream",
     "text": [
      "\u001b[32m[I 2021-07-29 23:41:20,173]\u001b[0m Trial 73 finished with value: -2.8313796167202345 and parameters: {'max_depth': 1, 'min_child_weight': 1, 'subsample': 0.7, 'colsample_bytree': 0.8, 'reg_lambda': 0.0010077803561657122, 'reg_alpha': 0.0010226386853060595, 'feature_fraction': 0.7447273356268077, 'bagging_fraction': 0.9431317419841366, 'bagging_freq': 7, 'num_leaves': 684, 'min_child_samples': 47}. Best is trial 61 with value: -2.828364406539317.\u001b[0m\n"
     ]
    },
    {
     "name": "stdout",
     "output_type": "stream",
     "text": [
      "Early stopping, best iteration is:\n",
      "[262]\ttraining's l1: 3.34192\tvalid_1's l1: 2.83138\n",
      "[LightGBM] [Warning] feature_fraction is set=0.7647751013806996, colsample_bytree=0.8 will be ignored. Current value: feature_fraction=0.7647751013806996\n",
      "[LightGBM] [Warning] bagging_fraction is set=0.9983477899851566, subsample=0.6 will be ignored. Current value: bagging_fraction=0.9983477899851566\n",
      "[LightGBM] [Warning] bagging_freq is set=4, subsample_freq=0 will be ignored. Current value: bagging_freq=4\n",
      "Training until validation scores don't improve for 100 rounds\n",
      "[100]\ttraining's l1: 3.09093\tvalid_1's l1: 2.87677\n"
     ]
    },
    {
     "name": "stderr",
     "output_type": "stream",
     "text": [
      "\u001b[32m[I 2021-07-29 23:41:21,807]\u001b[0m Trial 74 finished with value: -2.844023886902751 and parameters: {'max_depth': 4, 'min_child_weight': 4, 'subsample': 0.6, 'colsample_bytree': 0.8, 'reg_lambda': 0.0016744023296608064, 'reg_alpha': 0.003448591927211952, 'feature_fraction': 0.7647751013806996, 'bagging_fraction': 0.9983477899851566, 'bagging_freq': 4, 'num_leaves': 774, 'min_child_samples': 29}. Best is trial 61 with value: -2.828364406539317.\u001b[0m\n"
     ]
    },
    {
     "name": "stdout",
     "output_type": "stream",
     "text": [
      "Early stopping, best iteration is:\n",
      "[34]\ttraining's l1: 3.23545\tvalid_1's l1: 2.84402\n",
      "[LightGBM] [Warning] feature_fraction is set=0.8131626805028455, colsample_bytree=0.8 will be ignored. Current value: feature_fraction=0.8131626805028455\n",
      "[LightGBM] [Warning] bagging_fraction is set=0.5627633342232075, subsample=0.7 will be ignored. Current value: bagging_fraction=0.5627633342232075\n",
      "[LightGBM] [Warning] bagging_freq is set=9, subsample_freq=0 will be ignored. Current value: bagging_freq=9\n",
      "Training until validation scores don't improve for 100 rounds\n",
      "[100]\ttraining's l1: 2.61051\tvalid_1's l1: 3.1249\n"
     ]
    },
    {
     "name": "stderr",
     "output_type": "stream",
     "text": [
      "\u001b[32m[I 2021-07-29 23:41:26,063]\u001b[0m Trial 75 finished with value: -2.9052353729607385 and parameters: {'max_depth': 18, 'min_child_weight': 2, 'subsample': 0.7, 'colsample_bytree': 0.8, 'reg_lambda': 0.003201680577828763, 'reg_alpha': 0.0017541560255573854, 'feature_fraction': 0.8131626805028455, 'bagging_fraction': 0.5627633342232075, 'bagging_freq': 9, 'num_leaves': 639, 'min_child_samples': 41}. Best is trial 61 with value: -2.828364406539317.\u001b[0m\n"
     ]
    },
    {
     "name": "stdout",
     "output_type": "stream",
     "text": [
      "Early stopping, best iteration is:\n",
      "[11]\ttraining's l1: 3.20691\tvalid_1's l1: 2.90524\n",
      "[LightGBM] [Warning] feature_fraction is set=0.6460186581529731, colsample_bytree=0.8 will be ignored. Current value: feature_fraction=0.6460186581529731\n",
      "[LightGBM] [Warning] bagging_fraction is set=0.9103258826461059, subsample=0.7 will be ignored. Current value: bagging_fraction=0.9103258826461059\n",
      "[LightGBM] [Warning] bagging_freq is set=5, subsample_freq=0 will be ignored. Current value: bagging_freq=5\n",
      "Training until validation scores don't improve for 100 rounds\n",
      "[100]\ttraining's l1: 3.43186\tvalid_1's l1: 2.85656\n",
      "[200]\ttraining's l1: 3.36325\tvalid_1's l1: 2.84001\n",
      "[300]\ttraining's l1: 3.33089\tvalid_1's l1: 2.83748\n",
      "[400]\ttraining's l1: 3.31102\tvalid_1's l1: 2.83685\n"
     ]
    },
    {
     "name": "stderr",
     "output_type": "stream",
     "text": [
      "\u001b[32m[I 2021-07-29 23:41:28,900]\u001b[0m Trial 76 finished with value: -2.834911354515266 and parameters: {'max_depth': 1, 'min_child_weight': 1, 'subsample': 0.7, 'colsample_bytree': 0.8, 'reg_lambda': 0.0064194030660166155, 'reg_alpha': 0.007145735335259018, 'feature_fraction': 0.6460186581529731, 'bagging_fraction': 0.9103258826461059, 'bagging_freq': 5, 'num_leaves': 856, 'min_child_samples': 50}. Best is trial 61 with value: -2.828364406539317.\u001b[0m\n"
     ]
    },
    {
     "name": "stdout",
     "output_type": "stream",
     "text": [
      "Early stopping, best iteration is:\n",
      "[349]\ttraining's l1: 3.3195\tvalid_1's l1: 2.83491\n",
      "[LightGBM] [Warning] feature_fraction is set=0.7131598044851845, colsample_bytree=0.9 will be ignored. Current value: feature_fraction=0.7131598044851845\n",
      "[LightGBM] [Warning] bagging_fraction is set=0.9772827871487317, subsample=0.7 will be ignored. Current value: bagging_fraction=0.9772827871487317\n",
      "[LightGBM] [Warning] bagging_freq is set=10, subsample_freq=0 will be ignored. Current value: bagging_freq=10\n",
      "Training until validation scores don't improve for 100 rounds\n",
      "[100]\ttraining's l1: 3.26866\tvalid_1's l1: 2.83796\n"
     ]
    },
    {
     "name": "stderr",
     "output_type": "stream",
     "text": [
      "\u001b[32m[I 2021-07-29 23:41:30,678]\u001b[0m Trial 77 finished with value: -2.836545998788604 and parameters: {'max_depth': 2, 'min_child_weight': 7, 'subsample': 0.7, 'colsample_bytree': 0.9, 'reg_lambda': 0.0014106957335487506, 'reg_alpha': 0.035664075853125296, 'feature_fraction': 0.7131598044851845, 'bagging_fraction': 0.9772827871487317, 'bagging_freq': 10, 'num_leaves': 793, 'min_child_samples': 43}. Best is trial 61 with value: -2.828364406539317.\u001b[0m\n"
     ]
    },
    {
     "name": "stdout",
     "output_type": "stream",
     "text": [
      "[200]\ttraining's l1: 3.19365\tvalid_1's l1: 2.84642\n",
      "Early stopping, best iteration is:\n",
      "[118]\ttraining's l1: 3.25153\tvalid_1's l1: 2.83655\n",
      "[LightGBM] [Warning] feature_fraction is set=0.7353867386886002, colsample_bytree=0.8 will be ignored. Current value: feature_fraction=0.7353867386886002\n",
      "[LightGBM] [Warning] bagging_fraction is set=0.38497992285530636, subsample=0.7 will be ignored. Current value: bagging_fraction=0.38497992285530636\n",
      "[LightGBM] [Warning] bagging_freq is set=3, subsample_freq=0 will be ignored. Current value: bagging_freq=3\n",
      "Training until validation scores don't improve for 100 rounds\n"
     ]
    },
    {
     "name": "stderr",
     "output_type": "stream",
     "text": [
      "\u001b[32m[I 2021-07-29 23:41:31,744]\u001b[0m Trial 78 finished with value: -2.848861007255572 and parameters: {'max_depth': 3, 'min_child_weight': 10, 'subsample': 0.7, 'colsample_bytree': 0.8, 'reg_lambda': 0.0022735996299328696, 'reg_alpha': 0.0021986718430683314, 'feature_fraction': 0.7353867386886002, 'bagging_fraction': 0.38497992285530636, 'bagging_freq': 3, 'num_leaves': 907, 'min_child_samples': 39}. Best is trial 61 with value: -2.828364406539317.\u001b[0m\n"
     ]
    },
    {
     "name": "stdout",
     "output_type": "stream",
     "text": [
      "[100]\ttraining's l1: 3.16972\tvalid_1's l1: 2.85952\n",
      "Early stopping, best iteration is:\n",
      "[35]\ttraining's l1: 3.32235\tvalid_1's l1: 2.84886\n",
      "[LightGBM] [Warning] feature_fraction is set=0.6765188030387023, colsample_bytree=0.7 will be ignored. Current value: feature_fraction=0.6765188030387023\n",
      "[LightGBM] [Warning] bagging_fraction is set=0.8054927632903727, subsample=0.6 will be ignored. Current value: bagging_fraction=0.8054927632903727\n",
      "[LightGBM] [Warning] bagging_freq is set=6, subsample_freq=0 will be ignored. Current value: bagging_freq=6\n",
      "Training until validation scores don't improve for 100 rounds\n"
     ]
    },
    {
     "name": "stderr",
     "output_type": "stream",
     "text": [
      "\u001b[32m[I 2021-07-29 23:41:33,598]\u001b[0m Trial 79 finished with value: -2.866354015042326 and parameters: {'max_depth': 8, 'min_child_weight': 3, 'subsample': 0.6, 'colsample_bytree': 0.7, 'reg_lambda': 6.793713363118742, 'reg_alpha': 0.0014974438512051047, 'feature_fraction': 0.6765188030387023, 'bagging_fraction': 0.8054927632903727, 'bagging_freq': 6, 'num_leaves': 709, 'min_child_samples': 54}. Best is trial 61 with value: -2.828364406539317.\u001b[0m\n"
     ]
    },
    {
     "name": "stdout",
     "output_type": "stream",
     "text": [
      "[100]\ttraining's l1: 2.85673\tvalid_1's l1: 3.01911\n",
      "Early stopping, best iteration is:\n",
      "[12]\ttraining's l1: 3.26578\tvalid_1's l1: 2.86635\n",
      "[LightGBM] [Warning] feature_fraction is set=0.7890231572746951, colsample_bytree=0.9 will be ignored. Current value: feature_fraction=0.7890231572746951\n",
      "[LightGBM] [Warning] bagging_fraction is set=0.865846080403473, subsample=0.8 will be ignored. Current value: bagging_fraction=0.865846080403473\n",
      "[LightGBM] [Warning] bagging_freq is set=1, subsample_freq=0 will be ignored. Current value: bagging_freq=1\n",
      "Training until validation scores don't improve for 100 rounds\n",
      "[100]\ttraining's l1: 3.27123\tvalid_1's l1: 2.84375\n"
     ]
    },
    {
     "name": "stderr",
     "output_type": "stream",
     "text": [
      "\u001b[32m[I 2021-07-29 23:41:35,382]\u001b[0m Trial 80 finished with value: -2.837527068752021 and parameters: {'max_depth': 2, 'min_child_weight': 4, 'subsample': 0.8, 'colsample_bytree': 0.9, 'reg_lambda': 2.2188163978198134, 'reg_alpha': 0.003805415550680735, 'feature_fraction': 0.7890231572746951, 'bagging_fraction': 0.865846080403473, 'bagging_freq': 1, 'num_leaves': 595, 'min_child_samples': 31}. Best is trial 61 with value: -2.828364406539317.\u001b[0m\n"
     ]
    },
    {
     "name": "stdout",
     "output_type": "stream",
     "text": [
      "[200]\ttraining's l1: 3.1926\tvalid_1's l1: 2.85367\n",
      "Early stopping, best iteration is:\n",
      "[118]\ttraining's l1: 3.25213\tvalid_1's l1: 2.83753\n",
      "[LightGBM] [Warning] feature_fraction is set=0.7592208475955078, colsample_bytree=0.8 will be ignored. Current value: feature_fraction=0.7592208475955078\n",
      "[LightGBM] [Warning] bagging_fraction is set=0.9497198871808785, subsample=0.7 will be ignored. Current value: bagging_fraction=0.9497198871808785\n",
      "[LightGBM] [Warning] bagging_freq is set=7, subsample_freq=0 will be ignored. Current value: bagging_freq=7\n",
      "Training until validation scores don't improve for 100 rounds\n",
      "[100]\ttraining's l1: 3.42582\tvalid_1's l1: 2.8519\n",
      "[200]\ttraining's l1: 3.36403\tvalid_1's l1: 2.8366\n",
      "[300]\ttraining's l1: 3.32979\tvalid_1's l1: 2.83388\n"
     ]
    },
    {
     "name": "stderr",
     "output_type": "stream",
     "text": [
      "\u001b[32m[I 2021-07-29 23:41:37,677]\u001b[0m Trial 81 finished with value: -2.830279372858262 and parameters: {'max_depth': 1, 'min_child_weight': 1, 'subsample': 0.7, 'colsample_bytree': 0.8, 'reg_lambda': 0.0010106837382497344, 'reg_alpha': 0.0010085817270483956, 'feature_fraction': 0.7592208475955078, 'bagging_fraction': 0.9497198871808785, 'bagging_freq': 7, 'num_leaves': 684, 'min_child_samples': 45}. Best is trial 61 with value: -2.828364406539317.\u001b[0m\n"
     ]
    },
    {
     "name": "stdout",
     "output_type": "stream",
     "text": [
      "Early stopping, best iteration is:\n",
      "[246]\ttraining's l1: 3.34513\tvalid_1's l1: 2.83028\n",
      "[LightGBM] [Warning] feature_fraction is set=0.7627462434087731, colsample_bytree=0.8 will be ignored. Current value: feature_fraction=0.7627462434087731\n",
      "[LightGBM] [Warning] bagging_fraction is set=0.9562699291500006, subsample=0.7 will be ignored. Current value: bagging_fraction=0.9562699291500006\n",
      "[LightGBM] [Warning] bagging_freq is set=8, subsample_freq=0 will be ignored. Current value: bagging_freq=8\n",
      "Training until validation scores don't improve for 100 rounds\n",
      "[100]\ttraining's l1: 3.42669\tvalid_1's l1: 2.85251\n",
      "[200]\ttraining's l1: 3.36356\tvalid_1's l1: 2.83589\n",
      "[300]\ttraining's l1: 3.32985\tvalid_1's l1: 2.83162\n"
     ]
    },
    {
     "name": "stderr",
     "output_type": "stream",
     "text": [
      "\u001b[32m[I 2021-07-29 23:41:40,092]\u001b[0m Trial 82 finished with value: -2.830121901994333 and parameters: {'max_depth': 1, 'min_child_weight': 2, 'subsample': 0.7, 'colsample_bytree': 0.8, 'reg_lambda': 0.001059391028213711, 'reg_alpha': 0.0010499345305451985, 'feature_fraction': 0.7627462434087731, 'bagging_fraction': 0.9562699291500006, 'bagging_freq': 8, 'num_leaves': 663, 'min_child_samples': 45}. Best is trial 61 with value: -2.828364406539317.\u001b[0m\n"
     ]
    },
    {
     "name": "stdout",
     "output_type": "stream",
     "text": [
      "Early stopping, best iteration is:\n",
      "[275]\ttraining's l1: 3.33648\tvalid_1's l1: 2.83012\n",
      "[LightGBM] [Warning] feature_fraction is set=0.7013475094478421, colsample_bytree=0.8 will be ignored. Current value: feature_fraction=0.7013475094478421\n",
      "[LightGBM] [Warning] bagging_fraction is set=0.9538937158783634, subsample=0.7 will be ignored. Current value: bagging_fraction=0.9538937158783634\n",
      "[LightGBM] [Warning] bagging_freq is set=8, subsample_freq=0 will be ignored. Current value: bagging_freq=8\n",
      "Training until validation scores don't improve for 100 rounds\n",
      "[100]\ttraining's l1: 3.2804\tvalid_1's l1: 2.85124\n",
      "[200]\ttraining's l1: 3.19849\tvalid_1's l1: 2.84872\n"
     ]
    },
    {
     "name": "stderr",
     "output_type": "stream",
     "text": [
      "\u001b[32m[I 2021-07-29 23:41:41,990]\u001b[0m Trial 83 finished with value: -2.8453590139387464 and parameters: {'max_depth': 2, 'min_child_weight': 2, 'subsample': 0.7, 'colsample_bytree': 0.8, 'reg_lambda': 0.0024479540901898448, 'reg_alpha': 0.001145044965149385, 'feature_fraction': 0.7013475094478421, 'bagging_fraction': 0.9538937158783634, 'bagging_freq': 8, 'num_leaves': 667, 'min_child_samples': 59}. Best is trial 61 with value: -2.828364406539317.\u001b[0m\n"
     ]
    },
    {
     "name": "stdout",
     "output_type": "stream",
     "text": [
      "Early stopping, best iteration is:\n",
      "[144]\ttraining's l1: 3.23264\tvalid_1's l1: 2.84536\n",
      "[LightGBM] [Warning] feature_fraction is set=0.7572088797777753, colsample_bytree=0.8 will be ignored. Current value: feature_fraction=0.7572088797777753\n",
      "[LightGBM] [Warning] bagging_fraction is set=0.9819309013053815, subsample=0.7 will be ignored. Current value: bagging_fraction=0.9819309013053815\n",
      "[LightGBM] [Warning] bagging_freq is set=9, subsample_freq=0 will be ignored. Current value: bagging_freq=9\n",
      "Training until validation scores don't improve for 100 rounds\n",
      "[100]\ttraining's l1: 3.42863\tvalid_1's l1: 2.85249\n",
      "[200]\ttraining's l1: 3.36581\tvalid_1's l1: 2.83755\n",
      "[300]\ttraining's l1: 3.33299\tvalid_1's l1: 2.83291\n",
      "[400]\ttraining's l1: 3.31301\tvalid_1's l1: 2.83418\n"
     ]
    },
    {
     "name": "stderr",
     "output_type": "stream",
     "text": [
      "\u001b[32m[I 2021-07-29 23:41:44,817]\u001b[0m Trial 84 finished with value: -2.830308143580933 and parameters: {'max_depth': 1, 'min_child_weight': 1, 'subsample': 0.7, 'colsample_bytree': 0.8, 'reg_lambda': 0.0010764547628312783, 'reg_alpha': 0.0026976697130826413, 'feature_fraction': 0.7572088797777753, 'bagging_fraction': 0.9819309013053815, 'bagging_freq': 9, 'num_leaves': 756, 'min_child_samples': 45}. Best is trial 61 with value: -2.828364406539317.\u001b[0m\n"
     ]
    },
    {
     "name": "stdout",
     "output_type": "stream",
     "text": [
      "Early stopping, best iteration is:\n",
      "[354]\ttraining's l1: 3.3216\tvalid_1's l1: 2.83031\n",
      "[LightGBM] [Warning] feature_fraction is set=0.8152995362529282, colsample_bytree=0.8 will be ignored. Current value: feature_fraction=0.8152995362529282\n",
      "[LightGBM] [Warning] bagging_fraction is set=0.976451076034506, subsample=0.7 will be ignored. Current value: bagging_fraction=0.976451076034506\n",
      "[LightGBM] [Warning] bagging_freq is set=9, subsample_freq=0 will be ignored. Current value: bagging_freq=9\n",
      "Training until validation scores don't improve for 100 rounds\n",
      "[100]\ttraining's l1: 3.42551\tvalid_1's l1: 2.85377\n",
      "[200]\ttraining's l1: 3.36365\tvalid_1's l1: 2.83941\n",
      "[300]\ttraining's l1: 3.3284\tvalid_1's l1: 2.83342\n",
      "[400]\ttraining's l1: 3.30932\tvalid_1's l1: 2.83493\n",
      "Early stopping, best iteration is:\n",
      "[341]\ttraining's l1: 3.31984\tvalid_1's l1: 2.83007\n"
     ]
    },
    {
     "name": "stderr",
     "output_type": "stream",
     "text": [
      "\u001b[32m[I 2021-07-29 23:41:47,606]\u001b[0m Trial 85 finished with value: -2.830066591744031 and parameters: {'max_depth': 1, 'min_child_weight': 1, 'subsample': 0.7, 'colsample_bytree': 0.8, 'reg_lambda': 0.0010353597819357245, 'reg_alpha': 0.006674621968652599, 'feature_fraction': 0.8152995362529282, 'bagging_fraction': 0.976451076034506, 'bagging_freq': 9, 'num_leaves': 552, 'min_child_samples': 46}. Best is trial 61 with value: -2.828364406539317.\u001b[0m\n"
     ]
    },
    {
     "name": "stdout",
     "output_type": "stream",
     "text": [
      "[LightGBM] [Warning] feature_fraction is set=0.8251723887419797, colsample_bytree=0.8 will be ignored. Current value: feature_fraction=0.8251723887419797\n",
      "[LightGBM] [Warning] bagging_fraction is set=0.9509634946738884, subsample=0.7 will be ignored. Current value: bagging_fraction=0.9509634946738884\n",
      "[LightGBM] [Warning] bagging_freq is set=9, subsample_freq=0 will be ignored. Current value: bagging_freq=9\n",
      "Training until validation scores don't improve for 100 rounds\n",
      "[100]\ttraining's l1: 3.4273\tvalid_1's l1: 2.85183\n",
      "[200]\ttraining's l1: 3.36174\tvalid_1's l1: 2.83523\n",
      "[300]\ttraining's l1: 3.32742\tvalid_1's l1: 2.8346\n",
      "Early stopping, best iteration is:\n",
      "[239]\ttraining's l1: 3.34513\tvalid_1's l1: 2.82996\n"
     ]
    },
    {
     "name": "stderr",
     "output_type": "stream",
     "text": [
      "\u001b[32m[I 2021-07-29 23:41:49,848]\u001b[0m Trial 86 finished with value: -2.8299593435724946 and parameters: {'max_depth': 1, 'min_child_weight': 3, 'subsample': 0.7, 'colsample_bytree': 0.8, 'reg_lambda': 0.0010161712576446814, 'reg_alpha': 0.006467190987260506, 'feature_fraction': 0.8251723887419797, 'bagging_fraction': 0.9509634946738884, 'bagging_freq': 9, 'num_leaves': 633, 'min_child_samples': 51}. Best is trial 61 with value: -2.828364406539317.\u001b[0m\n"
     ]
    },
    {
     "name": "stdout",
     "output_type": "stream",
     "text": [
      "[LightGBM] [Warning] feature_fraction is set=0.8843268058143342, colsample_bytree=0.8 will be ignored. Current value: feature_fraction=0.8843268058143342\n",
      "[LightGBM] [Warning] bagging_fraction is set=0.9030024760346566, subsample=0.7 will be ignored. Current value: bagging_fraction=0.9030024760346566\n",
      "[LightGBM] [Warning] bagging_freq is set=8, subsample_freq=0 will be ignored. Current value: bagging_freq=8\n",
      "Training until validation scores don't improve for 100 rounds\n",
      "[100]\ttraining's l1: 3.42312\tvalid_1's l1: 2.85554\n",
      "[200]\ttraining's l1: 3.36168\tvalid_1's l1: 2.83709\n",
      "[300]\ttraining's l1: 3.32818\tvalid_1's l1: 2.83576\n"
     ]
    },
    {
     "name": "stderr",
     "output_type": "stream",
     "text": [
      "\u001b[32m[I 2021-07-29 23:41:52,244]\u001b[0m Trial 87 finished with value: -2.8329125843073406 and parameters: {'max_depth': 1, 'min_child_weight': 3, 'subsample': 0.7, 'colsample_bytree': 0.8, 'reg_lambda': 0.00104519607540027, 'reg_alpha': 0.006542241686023296, 'feature_fraction': 0.8843268058143342, 'bagging_fraction': 0.9030024760346566, 'bagging_freq': 8, 'num_leaves': 589, 'min_child_samples': 62}. Best is trial 61 with value: -2.828364406539317.\u001b[0m\n"
     ]
    },
    {
     "name": "stdout",
     "output_type": "stream",
     "text": [
      "Early stopping, best iteration is:\n",
      "[282]\ttraining's l1: 3.33303\tvalid_1's l1: 2.83291\n",
      "[LightGBM] [Warning] feature_fraction is set=0.9145403339290147, colsample_bytree=0.8 will be ignored. Current value: feature_fraction=0.9145403339290147\n",
      "[LightGBM] [Warning] bagging_fraction is set=0.9513516876029571, subsample=0.7 will be ignored. Current value: bagging_fraction=0.9513516876029571\n",
      "[LightGBM] [Warning] bagging_freq is set=9, subsample_freq=0 will be ignored. Current value: bagging_freq=9\n",
      "Training until validation scores don't improve for 100 rounds\n",
      "[100]\ttraining's l1: 3.27085\tvalid_1's l1: 2.83267\n",
      "[200]\ttraining's l1: 3.19547\tvalid_1's l1: 2.84373\n"
     ]
    },
    {
     "name": "stderr",
     "output_type": "stream",
     "text": [
      "\u001b[32m[I 2021-07-29 23:41:54,314]\u001b[0m Trial 88 finished with value: -2.8277580098012094 and parameters: {'max_depth': 2, 'min_child_weight': 5, 'subsample': 0.7, 'colsample_bytree': 0.8, 'reg_lambda': 16.790678629980338, 'reg_alpha': 0.009415230723916623, 'feature_fraction': 0.9145403339290147, 'bagging_fraction': 0.9513516876029571, 'bagging_freq': 9, 'num_leaves': 630, 'min_child_samples': 51}. Best is trial 88 with value: -2.8277580098012094.\u001b[0m\n"
     ]
    },
    {
     "name": "stdout",
     "output_type": "stream",
     "text": [
      "Early stopping, best iteration is:\n",
      "[156]\ttraining's l1: 3.22375\tvalid_1's l1: 2.82776\n",
      "[LightGBM] [Warning] feature_fraction is set=0.9580430356413233, colsample_bytree=0.8 will be ignored. Current value: feature_fraction=0.9580430356413233\n",
      "[LightGBM] [Warning] bagging_fraction is set=0.9243362906654717, subsample=0.7 will be ignored. Current value: bagging_fraction=0.9243362906654717\n",
      "[LightGBM] [Warning] bagging_freq is set=9, subsample_freq=0 will be ignored. Current value: bagging_freq=9\n",
      "Training until validation scores don't improve for 100 rounds\n",
      "[100]\ttraining's l1: 3.26737\tvalid_1's l1: 2.84794\n",
      "[200]\ttraining's l1: 3.19377\tvalid_1's l1: 2.84532\n"
     ]
    },
    {
     "name": "stderr",
     "output_type": "stream",
     "text": [
      "\u001b[32m[I 2021-07-29 23:41:56,295]\u001b[0m Trial 89 finished with value: -2.8414092267570172 and parameters: {'max_depth': 2, 'min_child_weight': 6, 'subsample': 0.7, 'colsample_bytree': 0.8, 'reg_lambda': 10.752567345406002, 'reg_alpha': 0.012440399181138007, 'feature_fraction': 0.9580430356413233, 'bagging_fraction': 0.9243362906654717, 'bagging_freq': 9, 'num_leaves': 625, 'min_child_samples': 52}. Best is trial 88 with value: -2.8277580098012094.\u001b[0m\n"
     ]
    },
    {
     "name": "stdout",
     "output_type": "stream",
     "text": [
      "Early stopping, best iteration is:\n",
      "[144]\ttraining's l1: 3.22841\tvalid_1's l1: 2.84141\n",
      "[LightGBM] [Warning] feature_fraction is set=0.8587442501380032, colsample_bytree=0.8 will be ignored. Current value: feature_fraction=0.8587442501380032\n",
      "[LightGBM] [Warning] bagging_fraction is set=0.9555302032927977, subsample=0.7 will be ignored. Current value: bagging_fraction=0.9555302032927977\n",
      "[LightGBM] [Warning] bagging_freq is set=10, subsample_freq=0 will be ignored. Current value: bagging_freq=10\n",
      "Training until validation scores don't improve for 100 rounds\n",
      "[100]\ttraining's l1: 3.16979\tvalid_1's l1: 2.86081\n"
     ]
    },
    {
     "name": "stderr",
     "output_type": "stream",
     "text": [
      "\u001b[32m[I 2021-07-29 23:41:57,779]\u001b[0m Trial 90 finished with value: -2.846024128243502 and parameters: {'max_depth': 3, 'min_child_weight': 5, 'subsample': 0.7, 'colsample_bytree': 0.8, 'reg_lambda': 62.074894486604364, 'reg_alpha': 0.004800857341705199, 'feature_fraction': 0.8587442501380032, 'bagging_fraction': 0.9555302032927977, 'bagging_freq': 10, 'num_leaves': 518, 'min_child_samples': 49}. Best is trial 88 with value: -2.8277580098012094.\u001b[0m\n"
     ]
    },
    {
     "name": "stdout",
     "output_type": "stream",
     "text": [
      "Early stopping, best iteration is:\n",
      "[40]\ttraining's l1: 3.29304\tvalid_1's l1: 2.84602\n",
      "[LightGBM] [Warning] feature_fraction is set=0.9023232797344358, colsample_bytree=0.8 will be ignored. Current value: feature_fraction=0.9023232797344358\n",
      "[LightGBM] [Warning] bagging_fraction is set=0.9582959349848711, subsample=0.7 will be ignored. Current value: bagging_fraction=0.9582959349848711\n",
      "[LightGBM] [Warning] bagging_freq is set=7, subsample_freq=0 will be ignored. Current value: bagging_freq=7\n",
      "Training until validation scores don't improve for 100 rounds\n",
      "[100]\ttraining's l1: 3.42829\tvalid_1's l1: 2.85701\n",
      "[200]\ttraining's l1: 3.36523\tvalid_1's l1: 2.8409\n",
      "[300]\ttraining's l1: 3.32994\tvalid_1's l1: 2.83412\n"
     ]
    },
    {
     "name": "stderr",
     "output_type": "stream",
     "text": [
      "\u001b[32m[I 2021-07-29 23:42:00,341]\u001b[0m Trial 91 finished with value: -2.8323640510871235 and parameters: {'max_depth': 1, 'min_child_weight': 5, 'subsample': 0.7, 'colsample_bytree': 0.8, 'reg_lambda': 0.0015405335771168929, 'reg_alpha': 0.007937958752791902, 'feature_fraction': 0.9023232797344358, 'bagging_fraction': 0.9582959349848711, 'bagging_freq': 7, 'num_leaves': 659, 'min_child_samples': 51}. Best is trial 88 with value: -2.8277580098012094.\u001b[0m\n"
     ]
    },
    {
     "name": "stdout",
     "output_type": "stream",
     "text": [
      "Early stopping, best iteration is:\n",
      "[248]\ttraining's l1: 3.34613\tvalid_1's l1: 2.83236\n",
      "[LightGBM] [Warning] feature_fraction is set=0.8227462287494693, colsample_bytree=0.8 will be ignored. Current value: feature_fraction=0.8227462287494693\n",
      "[LightGBM] [Warning] bagging_fraction is set=0.9317240513015198, subsample=0.7 will be ignored. Current value: bagging_fraction=0.9317240513015198\n",
      "[LightGBM] [Warning] bagging_freq is set=9, subsample_freq=0 will be ignored. Current value: bagging_freq=9\n",
      "Training until validation scores don't improve for 100 rounds\n",
      "[100]\ttraining's l1: 3.2822\tvalid_1's l1: 2.85228\n"
     ]
    },
    {
     "name": "stderr",
     "output_type": "stream",
     "text": [
      "\u001b[32m[I 2021-07-29 23:42:02,059]\u001b[0m Trial 92 finished with value: -2.8462790009164514 and parameters: {'max_depth': 2, 'min_child_weight': 6, 'subsample': 0.7, 'colsample_bytree': 0.8, 'reg_lambda': 3.099029245501867, 'reg_alpha': 0.0035765945314589855, 'feature_fraction': 0.8227462287494693, 'bagging_fraction': 0.9317240513015198, 'bagging_freq': 9, 'num_leaves': 557, 'min_child_samples': 47}. Best is trial 88 with value: -2.8277580098012094.\u001b[0m\n"
     ]
    },
    {
     "name": "stdout",
     "output_type": "stream",
     "text": [
      "[200]\ttraining's l1: 3.19551\tvalid_1's l1: 2.85758\n",
      "Early stopping, best iteration is:\n",
      "[108]\ttraining's l1: 3.27021\tvalid_1's l1: 2.84628\n",
      "[LightGBM] [Warning] feature_fraction is set=0.9191400072432242, colsample_bytree=0.8 will be ignored. Current value: feature_fraction=0.9191400072432242\n",
      "[LightGBM] [Warning] bagging_fraction is set=0.8883809184222076, subsample=0.7 will be ignored. Current value: bagging_fraction=0.8883809184222076\n",
      "[LightGBM] [Warning] bagging_freq is set=7, subsample_freq=0 will be ignored. Current value: bagging_freq=7\n",
      "Training until validation scores don't improve for 100 rounds\n",
      "[100]\ttraining's l1: 3.42757\tvalid_1's l1: 2.85788\n",
      "[200]\ttraining's l1: 3.36333\tvalid_1's l1: 2.83783\n",
      "[300]\ttraining's l1: 3.32864\tvalid_1's l1: 2.83559\n"
     ]
    },
    {
     "name": "stderr",
     "output_type": "stream",
     "text": [
      "\u001b[32m[I 2021-07-29 23:42:04,512]\u001b[0m Trial 93 finished with value: -2.833769118539969 and parameters: {'max_depth': 1, 'min_child_weight': 2, 'subsample': 0.7, 'colsample_bytree': 0.8, 'reg_lambda': 0.6697864186050909, 'reg_alpha': 0.009370600468629336, 'feature_fraction': 0.9191400072432242, 'bagging_fraction': 0.8883809184222076, 'bagging_freq': 7, 'num_leaves': 636, 'min_child_samples': 54}. Best is trial 88 with value: -2.8277580098012094.\u001b[0m\n"
     ]
    },
    {
     "name": "stdout",
     "output_type": "stream",
     "text": [
      "Early stopping, best iteration is:\n",
      "[256]\ttraining's l1: 3.34201\tvalid_1's l1: 2.83377\n",
      "[LightGBM] [Warning] feature_fraction is set=0.8056843026662422, colsample_bytree=0.8 will be ignored. Current value: feature_fraction=0.8056843026662422\n",
      "[LightGBM] [Warning] bagging_fraction is set=0.9826389496108671, subsample=0.7 will be ignored. Current value: bagging_fraction=0.9826389496108671\n",
      "[LightGBM] [Warning] bagging_freq is set=8, subsample_freq=0 will be ignored. Current value: bagging_freq=8\n",
      "Training until validation scores don't improve for 100 rounds\n",
      "[100]\ttraining's l1: 3.27467\tvalid_1's l1: 2.85271\n"
     ]
    },
    {
     "name": "stderr",
     "output_type": "stream",
     "text": [
      "\u001b[32m[I 2021-07-29 23:42:06,031]\u001b[0m Trial 94 finished with value: -2.8450424495897777 and parameters: {'max_depth': 2, 'min_child_weight': 4, 'subsample': 0.7, 'colsample_bytree': 0.8, 'reg_lambda': 174.6207813750469, 'reg_alpha': 0.01735583285959624, 'feature_fraction': 0.8056843026662422, 'bagging_fraction': 0.9826389496108671, 'bagging_freq': 8, 'num_leaves': 688, 'min_child_samples': 57}. Best is trial 88 with value: -2.8277580098012094.\u001b[0m\n"
     ]
    },
    {
     "name": "stdout",
     "output_type": "stream",
     "text": [
      "Early stopping, best iteration is:\n",
      "[61]\ttraining's l1: 3.33811\tvalid_1's l1: 2.84504\n",
      "[LightGBM] [Warning] feature_fraction is set=0.9740746825297304, colsample_bytree=0.8 will be ignored. Current value: feature_fraction=0.9740746825297304\n",
      "[LightGBM] [Warning] bagging_fraction is set=0.9457545236463407, subsample=0.7 will be ignored. Current value: bagging_fraction=0.9457545236463407\n",
      "[LightGBM] [Warning] bagging_freq is set=10, subsample_freq=0 will be ignored. Current value: bagging_freq=10\n",
      "Training until validation scores don't improve for 100 rounds\n",
      "[100]\ttraining's l1: 3.42819\tvalid_1's l1: 2.85317\n",
      "[200]\ttraining's l1: 3.36372\tvalid_1's l1: 2.83709\n",
      "[300]\ttraining's l1: 3.32844\tvalid_1's l1: 2.83355\n"
     ]
    },
    {
     "name": "stderr",
     "output_type": "stream",
     "text": [
      "\u001b[32m[I 2021-07-29 23:42:08,439]\u001b[0m Trial 95 finished with value: -2.8284563462855914 and parameters: {'max_depth': 1, 'min_child_weight': 7, 'subsample': 0.7, 'colsample_bytree': 0.8, 'reg_lambda': 52.91010855040331, 'reg_alpha': 0.0021646233068904333, 'feature_fraction': 0.9740746825297304, 'bagging_fraction': 0.9457545236463407, 'bagging_freq': 10, 'num_leaves': 610, 'min_child_samples': 46}. Best is trial 88 with value: -2.8277580098012094.\u001b[0m\n"
     ]
    },
    {
     "name": "stdout",
     "output_type": "stream",
     "text": [
      "Early stopping, best iteration is:\n",
      "[257]\ttraining's l1: 3.33898\tvalid_1's l1: 2.82846\n",
      "[LightGBM] [Warning] feature_fraction is set=0.9448979118149776, colsample_bytree=0.8 will be ignored. Current value: feature_fraction=0.9448979118149776\n",
      "[LightGBM] [Warning] bagging_fraction is set=0.9242580395494708, subsample=0.7 will be ignored. Current value: bagging_fraction=0.9242580395494708\n",
      "[LightGBM] [Warning] bagging_freq is set=10, subsample_freq=0 will be ignored. Current value: bagging_freq=10\n",
      "Training until validation scores don't improve for 100 rounds\n",
      "[100]\ttraining's l1: 2.62767\tvalid_1's l1: 3.11992\n"
     ]
    },
    {
     "name": "stderr",
     "output_type": "stream",
     "text": [
      "\u001b[32m[I 2021-07-29 23:42:13,471]\u001b[0m Trial 96 finished with value: -2.902394358278783 and parameters: {'max_depth': 15, 'min_child_weight': 7, 'subsample': 0.7, 'colsample_bytree': 0.8, 'reg_lambda': 28.11120999251106, 'reg_alpha': 0.00592911363386709, 'feature_fraction': 0.9448979118149776, 'bagging_fraction': 0.9242580395494708, 'bagging_freq': 10, 'num_leaves': 564, 'min_child_samples': 50}. Best is trial 88 with value: -2.8277580098012094.\u001b[0m\n"
     ]
    },
    {
     "name": "stdout",
     "output_type": "stream",
     "text": [
      "Early stopping, best iteration is:\n",
      "[13]\ttraining's l1: 3.15519\tvalid_1's l1: 2.90239\n",
      "[LightGBM] [Warning] feature_fraction is set=0.9747599744235852, colsample_bytree=0.8 will be ignored. Current value: feature_fraction=0.9747599744235852\n",
      "[LightGBM] [Warning] bagging_fraction is set=0.8518995812193583, subsample=0.5 will be ignored. Current value: bagging_fraction=0.8518995812193583\n",
      "[LightGBM] [Warning] bagging_freq is set=11, subsample_freq=0 will be ignored. Current value: bagging_freq=11\n",
      "Training until validation scores don't improve for 100 rounds\n",
      "[100]\ttraining's l1: 3.168\tvalid_1's l1: 2.86501\n"
     ]
    },
    {
     "name": "stderr",
     "output_type": "stream",
     "text": [
      "\u001b[32m[I 2021-07-29 23:42:14,877]\u001b[0m Trial 97 finished with value: -2.8458332305915026 and parameters: {'max_depth': 3, 'min_child_weight': 6, 'subsample': 0.5, 'colsample_bytree': 0.8, 'reg_lambda': 50.48994015129404, 'reg_alpha': 0.0022119785298285546, 'feature_fraction': 0.9747599744235852, 'bagging_fraction': 0.8518995812193583, 'bagging_freq': 11, 'num_leaves': 614, 'min_child_samples': 7}. Best is trial 88 with value: -2.8277580098012094.\u001b[0m\n"
     ]
    },
    {
     "name": "stdout",
     "output_type": "stream",
     "text": [
      "Early stopping, best iteration is:\n",
      "[39]\ttraining's l1: 3.30299\tvalid_1's l1: 2.84583\n",
      "[LightGBM] [Warning] feature_fraction is set=0.9857453504094003, colsample_bytree=0.8 will be ignored. Current value: feature_fraction=0.9857453504094003\n",
      "[LightGBM] [Warning] bagging_fraction is set=0.900231190757643, subsample=0.7 will be ignored. Current value: bagging_fraction=0.900231190757643\n",
      "[LightGBM] [Warning] bagging_freq is set=9, subsample_freq=0 will be ignored. Current value: bagging_freq=9\n",
      "Training until validation scores don't improve for 100 rounds\n",
      "[100]\ttraining's l1: 3.42204\tvalid_1's l1: 2.85573\n",
      "[200]\ttraining's l1: 3.36481\tvalid_1's l1: 2.84117\n",
      "[300]\ttraining's l1: 3.32887\tvalid_1's l1: 2.83699\n"
     ]
    },
    {
     "name": "stderr",
     "output_type": "stream",
     "text": [
      "\u001b[32m[I 2021-07-29 23:42:17,540]\u001b[0m Trial 98 finished with value: -2.8335899332028176 and parameters: {'max_depth': 1, 'min_child_weight': 4, 'subsample': 0.7, 'colsample_bytree': 0.8, 'reg_lambda': 41.70932756480004, 'reg_alpha': 0.011198958343472877, 'feature_fraction': 0.9857453504094003, 'bagging_fraction': 0.900231190757643, 'bagging_freq': 9, 'num_leaves': 22, 'min_child_samples': 66}. Best is trial 88 with value: -2.8277580098012094.\u001b[0m\n"
     ]
    },
    {
     "name": "stdout",
     "output_type": "stream",
     "text": [
      "[400]\ttraining's l1: 3.30924\tvalid_1's l1: 2.83959\n",
      "Early stopping, best iteration is:\n",
      "[311]\ttraining's l1: 3.32684\tvalid_1's l1: 2.83359\n",
      "[LightGBM] [Warning] feature_fraction is set=0.8248780441339074, colsample_bytree=0.8 will be ignored. Current value: feature_fraction=0.8248780441339074\n",
      "[LightGBM] [Warning] bagging_fraction is set=0.9704814794379525, subsample=0.7 will be ignored. Current value: bagging_fraction=0.9704814794379525\n",
      "[LightGBM] [Warning] bagging_freq is set=10, subsample_freq=0 will be ignored. Current value: bagging_freq=10\n",
      "Training until validation scores don't improve for 100 rounds\n",
      "[100]\ttraining's l1: 3.27365\tvalid_1's l1: 2.86034\n"
     ]
    },
    {
     "name": "stderr",
     "output_type": "stream",
     "text": [
      "\u001b[32m[I 2021-07-29 23:42:19,016]\u001b[0m Trial 99 finished with value: -2.856794941515352 and parameters: {'max_depth': 2, 'min_child_weight': 5, 'subsample': 0.7, 'colsample_bytree': 0.8, 'reg_lambda': 336.946719017636, 'reg_alpha': 0.04945986781936175, 'feature_fraction': 0.8248780441339074, 'bagging_fraction': 0.9704814794379525, 'bagging_freq': 10, 'num_leaves': 501, 'min_child_samples': 42}. Best is trial 88 with value: -2.8277580098012094.\u001b[0m\n",
      "\u001b[32m[I 2021-07-29 23:42:19,017]\u001b[0m A new study created in memory with name: no-name-07a0bb89-85dc-40b1-9e84-5f51d9f81907\u001b[0m\n"
     ]
    },
    {
     "name": "stdout",
     "output_type": "stream",
     "text": [
      "Early stopping, best iteration is:\n",
      "[55]\ttraining's l1: 3.3503\tvalid_1's l1: 2.85679\n",
      "[LightGBM] [Warning] feature_fraction is set=0.3801549039906541, colsample_bytree=0.9 will be ignored. Current value: feature_fraction=0.3801549039906541\n",
      "[LightGBM] [Warning] bagging_fraction is set=0.585203271277609, subsample=0.6 will be ignored. Current value: bagging_fraction=0.585203271277609\n",
      "[LightGBM] [Warning] bagging_freq is set=5, subsample_freq=0 will be ignored. Current value: bagging_freq=5\n",
      "Training until validation scores don't improve for 100 rounds\n",
      "[100]\ttraining's l1: 2.72896\tvalid_1's l1: 1.79883\n",
      "[200]\ttraining's l1: 2.7162\tvalid_1's l1: 1.79361\n",
      "[300]\ttraining's l1: 2.71132\tvalid_1's l1: 1.79073\n",
      "[400]\ttraining's l1: 2.7078\tvalid_1's l1: 1.78955\n"
     ]
    },
    {
     "name": "stderr",
     "output_type": "stream",
     "text": [
      "\u001b[32m[I 2021-07-29 23:42:22,007]\u001b[0m Trial 0 finished with value: -1.7888502524881589 and parameters: {'max_depth': 1, 'min_child_weight': 3, 'subsample': 0.6, 'colsample_bytree': 0.9, 'reg_lambda': 87.21447752808008, 'reg_alpha': 0.34122056253283384, 'feature_fraction': 0.3801549039906541, 'bagging_fraction': 0.585203271277609, 'bagging_freq': 5, 'num_leaves': 343, 'min_child_samples': 12}. Best is trial 0 with value: -1.7888502524881589.\u001b[0m\n"
     ]
    },
    {
     "name": "stdout",
     "output_type": "stream",
     "text": [
      "[500]\ttraining's l1: 2.70587\tvalid_1's l1: 1.78946\n",
      "Early stopping, best iteration is:\n",
      "[427]\ttraining's l1: 2.70711\tvalid_1's l1: 1.78891\n",
      "[LightGBM] [Warning] feature_fraction is set=0.547886429141605, colsample_bytree=0.6 will be ignored. Current value: feature_fraction=0.547886429141605\n",
      "[LightGBM] [Warning] bagging_fraction is set=0.8905209864650641, subsample=0.9 will be ignored. Current value: bagging_fraction=0.8905209864650641\n",
      "[LightGBM] [Warning] bagging_freq is set=15, subsample_freq=0 will be ignored. Current value: bagging_freq=15\n",
      "Training until validation scores don't improve for 100 rounds\n",
      "[100]\ttraining's l1: 2.43103\tvalid_1's l1: 1.86559\n"
     ]
    },
    {
     "name": "stderr",
     "output_type": "stream",
     "text": [
      "\u001b[32m[I 2021-07-29 23:42:26,670]\u001b[0m Trial 1 finished with value: -1.7709851684046296 and parameters: {'max_depth': 14, 'min_child_weight': 10, 'subsample': 0.9, 'colsample_bytree': 0.6, 'reg_lambda': 0.005549268026916169, 'reg_alpha': 0.0012545081001007685, 'feature_fraction': 0.547886429141605, 'bagging_fraction': 0.8905209864650641, 'bagging_freq': 15, 'num_leaves': 698, 'min_child_samples': 53}. Best is trial 1 with value: -1.7709851684046296.\u001b[0m\n"
     ]
    },
    {
     "name": "stdout",
     "output_type": "stream",
     "text": [
      "Early stopping, best iteration is:\n",
      "[12]\ttraining's l1: 2.61609\tvalid_1's l1: 1.77099\n",
      "[LightGBM] [Warning] feature_fraction is set=0.3062249970656159, colsample_bytree=0.8 will be ignored. Current value: feature_fraction=0.3062249970656159\n",
      "[LightGBM] [Warning] bagging_fraction is set=0.361026142576901, subsample=0.6 will be ignored. Current value: bagging_fraction=0.361026142576901\n",
      "[LightGBM] [Warning] bagging_freq is set=17, subsample_freq=0 will be ignored. Current value: bagging_freq=17\n",
      "Training until validation scores don't improve for 100 rounds\n",
      "[100]\ttraining's l1: 2.57423\tvalid_1's l1: 1.82973\n"
     ]
    },
    {
     "name": "stderr",
     "output_type": "stream",
     "text": [
      "\u001b[32m[I 2021-07-29 23:42:28,713]\u001b[0m Trial 2 finished with value: -1.786732122534119 and parameters: {'max_depth': 14, 'min_child_weight': 1, 'subsample': 0.6, 'colsample_bytree': 0.8, 'reg_lambda': 16.91535002812311, 'reg_alpha': 0.0408043157686665, 'feature_fraction': 0.3062249970656159, 'bagging_fraction': 0.361026142576901, 'bagging_freq': 17, 'num_leaves': 359, 'min_child_samples': 99}. Best is trial 1 with value: -1.7709851684046296.\u001b[0m\n"
     ]
    },
    {
     "name": "stdout",
     "output_type": "stream",
     "text": [
      "Early stopping, best iteration is:\n",
      "[19]\ttraining's l1: 2.63777\tvalid_1's l1: 1.78674\n",
      "[LightGBM] [Warning] feature_fraction is set=0.6358560110586498, colsample_bytree=0.9 will be ignored. Current value: feature_fraction=0.6358560110586498\n",
      "[LightGBM] [Warning] bagging_fraction is set=0.21771598344952842, subsample=0.8 will be ignored. Current value: bagging_fraction=0.21771598344952842\n",
      "[LightGBM] [Warning] bagging_freq is set=10, subsample_freq=0 will be ignored. Current value: bagging_freq=10\n",
      "Training until validation scores don't improve for 100 rounds\n",
      "[100]\ttraining's l1: 2.58735\tvalid_1's l1: 1.83759\n"
     ]
    },
    {
     "name": "stderr",
     "output_type": "stream",
     "text": [
      "\u001b[32m[I 2021-07-29 23:42:31,087]\u001b[0m Trial 3 finished with value: -1.7814327365478515 and parameters: {'max_depth': 17, 'min_child_weight': 2, 'subsample': 0.8, 'colsample_bytree': 0.9, 'reg_lambda': 0.027690940173162103, 'reg_alpha': 0.015079984731434919, 'feature_fraction': 0.6358560110586498, 'bagging_fraction': 0.21771598344952842, 'bagging_freq': 10, 'num_leaves': 293, 'min_child_samples': 91}. Best is trial 1 with value: -1.7709851684046296.\u001b[0m\n"
     ]
    },
    {
     "name": "stdout",
     "output_type": "stream",
     "text": [
      "Early stopping, best iteration is:\n",
      "[14]\ttraining's l1: 2.66423\tvalid_1's l1: 1.78144\n",
      "[LightGBM] [Warning] feature_fraction is set=0.6300460095361383, colsample_bytree=0.6 will be ignored. Current value: feature_fraction=0.6300460095361383\n",
      "[LightGBM] [Warning] bagging_fraction is set=0.4857587975492836, subsample=0.6 will be ignored. Current value: bagging_fraction=0.4857587975492836\n",
      "[LightGBM] [Warning] bagging_freq is set=9, subsample_freq=0 will be ignored. Current value: bagging_freq=9\n",
      "Training until validation scores don't improve for 100 rounds\n",
      "[100]\ttraining's l1: 2.59705\tvalid_1's l1: 1.82628\n",
      "Early stopping, best iteration is:\n",
      "[17]\ttraining's l1: 2.67055\tvalid_1's l1: 1.79539\n"
     ]
    },
    {
     "name": "stderr",
     "output_type": "stream",
     "text": [
      "\u001b[32m[I 2021-07-29 23:42:32,855]\u001b[0m Trial 4 finished with value: -1.7953822966920006 and parameters: {'max_depth': 18, 'min_child_weight': 17, 'subsample': 0.6, 'colsample_bytree': 0.6, 'reg_lambda': 0.2626129391595913, 'reg_alpha': 79.34790556901724, 'feature_fraction': 0.6300460095361383, 'bagging_fraction': 0.4857587975492836, 'bagging_freq': 9, 'num_leaves': 541, 'min_child_samples': 16}. Best is trial 1 with value: -1.7709851684046296.\u001b[0m\n"
     ]
    },
    {
     "name": "stdout",
     "output_type": "stream",
     "text": [
      "[LightGBM] [Warning] feature_fraction is set=0.2678869789480001, colsample_bytree=0.7 will be ignored. Current value: feature_fraction=0.2678869789480001\n",
      "[LightGBM] [Warning] bagging_fraction is set=0.9346311117116293, subsample=0.8 will be ignored. Current value: bagging_fraction=0.9346311117116293\n",
      "[LightGBM] [Warning] bagging_freq is set=18, subsample_freq=0 will be ignored. Current value: bagging_freq=18\n",
      "Training until validation scores don't improve for 100 rounds\n",
      "[100]\ttraining's l1: 2.56503\tvalid_1's l1: 1.85089\n",
      "Early stopping, best iteration is:\n",
      "[10]\ttraining's l1: 2.71863\tvalid_1's l1: 1.81122\n"
     ]
    },
    {
     "name": "stderr",
     "output_type": "stream",
     "text": [
      "\u001b[32m[I 2021-07-29 23:42:35,311]\u001b[0m Trial 5 finished with value: -1.8112209371218428 and parameters: {'max_depth': 15, 'min_child_weight': 9, 'subsample': 0.8, 'colsample_bytree': 0.7, 'reg_lambda': 993.9418669700826, 'reg_alpha': 48.06338390126149, 'feature_fraction': 0.2678869789480001, 'bagging_fraction': 0.9346311117116293, 'bagging_freq': 18, 'num_leaves': 648, 'min_child_samples': 12}. Best is trial 1 with value: -1.7709851684046296.\u001b[0m\n"
     ]
    },
    {
     "name": "stdout",
     "output_type": "stream",
     "text": [
      "[LightGBM] [Warning] feature_fraction is set=0.26097848043895494, colsample_bytree=0.5 will be ignored. Current value: feature_fraction=0.26097848043895494\n",
      "[LightGBM] [Warning] bagging_fraction is set=0.4001442179358836, subsample=0.5 will be ignored. Current value: bagging_fraction=0.4001442179358836\n",
      "[LightGBM] [Warning] bagging_freq is set=12, subsample_freq=0 will be ignored. Current value: bagging_freq=12\n",
      "Training until validation scores don't improve for 100 rounds\n",
      "[100]\ttraining's l1: 2.5539\tvalid_1's l1: 1.85844\n",
      "Early stopping, best iteration is:\n",
      "[11]\ttraining's l1: 2.68135\tvalid_1's l1: 1.79998\n"
     ]
    },
    {
     "name": "stderr",
     "output_type": "stream",
     "text": [
      "\u001b[32m[I 2021-07-29 23:42:37,778]\u001b[0m Trial 6 finished with value: -1.7999810969586791 and parameters: {'max_depth': 19, 'min_child_weight': 6, 'subsample': 0.5, 'colsample_bytree': 0.5, 'reg_lambda': 0.6256665299461907, 'reg_alpha': 15.629918820059354, 'feature_fraction': 0.26097848043895494, 'bagging_fraction': 0.4001442179358836, 'bagging_freq': 12, 'num_leaves': 413, 'min_child_samples': 15}. Best is trial 1 with value: -1.7709851684046296.\u001b[0m\n"
     ]
    },
    {
     "name": "stdout",
     "output_type": "stream",
     "text": [
      "[LightGBM] [Warning] feature_fraction is set=0.34862944404685436, colsample_bytree=0.8 will be ignored. Current value: feature_fraction=0.34862944404685436\n",
      "[LightGBM] [Warning] bagging_fraction is set=0.903532403852225, subsample=0.5 will be ignored. Current value: bagging_fraction=0.903532403852225\n",
      "[LightGBM] [Warning] bagging_freq is set=16, subsample_freq=0 will be ignored. Current value: bagging_freq=16\n",
      "Training until validation scores don't improve for 100 rounds\n",
      "[100]\ttraining's l1: 2.62861\tvalid_1's l1: 1.7753\n"
     ]
    },
    {
     "name": "stderr",
     "output_type": "stream",
     "text": [
      "\u001b[32m[I 2021-07-29 23:42:39,307]\u001b[0m Trial 7 finished with value: -1.7735230864667995 and parameters: {'max_depth': 4, 'min_child_weight': 10, 'subsample': 0.5, 'colsample_bytree': 0.8, 'reg_lambda': 0.30129017164535926, 'reg_alpha': 0.032270174753862874, 'feature_fraction': 0.34862944404685436, 'bagging_fraction': 0.903532403852225, 'bagging_freq': 16, 'num_leaves': 361, 'min_child_samples': 96}. Best is trial 1 with value: -1.7709851684046296.\u001b[0m\n"
     ]
    },
    {
     "name": "stdout",
     "output_type": "stream",
     "text": [
      "Early stopping, best iteration is:\n",
      "[37]\ttraining's l1: 2.67046\tvalid_1's l1: 1.77352\n",
      "[LightGBM] [Warning] feature_fraction is set=0.3409331683261219, colsample_bytree=0.7 will be ignored. Current value: feature_fraction=0.3409331683261219\n",
      "[LightGBM] [Warning] bagging_fraction is set=0.6301617726936171, subsample=0.6 will be ignored. Current value: bagging_fraction=0.6301617726936171\n",
      "[LightGBM] [Warning] bagging_freq is set=9, subsample_freq=0 will be ignored. Current value: bagging_freq=9\n",
      "Training until validation scores don't improve for 100 rounds\n"
     ]
    },
    {
     "name": "stderr",
     "output_type": "stream",
     "text": [
      "\u001b[32m[I 2021-07-29 23:42:40,836]\u001b[0m Trial 8 finished with value: -1.7844882415284105 and parameters: {'max_depth': 7, 'min_child_weight': 5, 'subsample': 0.6, 'colsample_bytree': 0.7, 'reg_lambda': 3.674750362221034, 'reg_alpha': 33.063737225208634, 'feature_fraction': 0.3409331683261219, 'bagging_fraction': 0.6301617726936171, 'bagging_freq': 9, 'num_leaves': 449, 'min_child_samples': 47}. Best is trial 1 with value: -1.7709851684046296.\u001b[0m\n"
     ]
    },
    {
     "name": "stdout",
     "output_type": "stream",
     "text": [
      "[100]\ttraining's l1: 2.59045\tvalid_1's l1: 1.80478\n",
      "Early stopping, best iteration is:\n",
      "[21]\ttraining's l1: 2.66408\tvalid_1's l1: 1.7845\n",
      "[LightGBM] [Warning] feature_fraction is set=0.26595122717421005, colsample_bytree=0.9 will be ignored. Current value: feature_fraction=0.26595122717421005\n",
      "[LightGBM] [Warning] bagging_fraction is set=0.3464060178584668, subsample=0.5 will be ignored. Current value: bagging_fraction=0.3464060178584668\n",
      "[LightGBM] [Warning] bagging_freq is set=5, subsample_freq=0 will be ignored. Current value: bagging_freq=5\n",
      "Training until validation scores don't improve for 100 rounds\n",
      "[100]\ttraining's l1: 2.54792\tvalid_1's l1: 1.86118\n",
      "Early stopping, best iteration is:\n",
      "[15]\ttraining's l1: 2.65095\tvalid_1's l1: 1.77984\n"
     ]
    },
    {
     "name": "stderr",
     "output_type": "stream",
     "text": [
      "\u001b[32m[I 2021-07-29 23:42:42,930]\u001b[0m Trial 9 finished with value: -1.779834835767503 and parameters: {'max_depth': 20, 'min_child_weight': 4, 'subsample': 0.5, 'colsample_bytree': 0.9, 'reg_lambda': 0.0019076994736964615, 'reg_alpha': 0.8834635074760958, 'feature_fraction': 0.26595122717421005, 'bagging_fraction': 0.3464060178584668, 'bagging_freq': 5, 'num_leaves': 257, 'min_child_samples': 24}. Best is trial 1 with value: -1.7709851684046296.\u001b[0m\n"
     ]
    },
    {
     "name": "stdout",
     "output_type": "stream",
     "text": [
      "[LightGBM] [Warning] feature_fraction is set=0.8986582554090334, colsample_bytree=0.5 will be ignored. Current value: feature_fraction=0.8986582554090334\n",
      "[LightGBM] [Warning] bagging_fraction is set=0.7800876118106851, subsample=0.9 will be ignored. Current value: bagging_fraction=0.7800876118106851\n",
      "[LightGBM] [Warning] bagging_freq is set=20, subsample_freq=0 will be ignored. Current value: bagging_freq=20\n",
      "Training until validation scores don't improve for 100 rounds\n",
      "[100]\ttraining's l1: 2.48742\tvalid_1's l1: 1.81604\n"
     ]
    },
    {
     "name": "stderr",
     "output_type": "stream",
     "text": [
      "\u001b[32m[I 2021-07-29 23:42:46,179]\u001b[0m Trial 10 finished with value: -1.7686769558184945 and parameters: {'max_depth': 11, 'min_child_weight': 18, 'subsample': 0.9, 'colsample_bytree': 0.5, 'reg_lambda': 0.0015837633119066485, 'reg_alpha': 0.0011714877715719345, 'feature_fraction': 0.8986582554090334, 'bagging_fraction': 0.7800876118106851, 'bagging_freq': 20, 'num_leaves': 995, 'min_child_samples': 70}. Best is trial 10 with value: -1.7686769558184945.\u001b[0m\n"
     ]
    },
    {
     "name": "stdout",
     "output_type": "stream",
     "text": [
      "Early stopping, best iteration is:\n",
      "[15]\ttraining's l1: 2.5996\tvalid_1's l1: 1.76868\n",
      "[LightGBM] [Warning] feature_fraction is set=0.974326969043955, colsample_bytree=0.5 will be ignored. Current value: feature_fraction=0.974326969043955\n",
      "[LightGBM] [Warning] bagging_fraction is set=0.788519515577264, subsample=0.9 will be ignored. Current value: bagging_fraction=0.788519515577264\n",
      "[LightGBM] [Warning] bagging_freq is set=20, subsample_freq=0 will be ignored. Current value: bagging_freq=20\n",
      "Training until validation scores don't improve for 100 rounds\n",
      "[100]\ttraining's l1: 2.48026\tvalid_1's l1: 1.82368\n"
     ]
    },
    {
     "name": "stderr",
     "output_type": "stream",
     "text": [
      "\u001b[32m[I 2021-07-29 23:42:49,520]\u001b[0m Trial 11 finished with value: -1.770183427471214 and parameters: {'max_depth': 11, 'min_child_weight': 16, 'subsample': 0.9, 'colsample_bytree': 0.5, 'reg_lambda': 0.0012674692036074553, 'reg_alpha': 0.0010538719436869312, 'feature_fraction': 0.974326969043955, 'bagging_fraction': 0.788519515577264, 'bagging_freq': 20, 'num_leaves': 968, 'min_child_samples': 70}. Best is trial 10 with value: -1.7686769558184945.\u001b[0m\n"
     ]
    },
    {
     "name": "stdout",
     "output_type": "stream",
     "text": [
      "Early stopping, best iteration is:\n",
      "[16]\ttraining's l1: 2.5921\tvalid_1's l1: 1.77019\n",
      "[LightGBM] [Warning] feature_fraction is set=0.9727091844247625, colsample_bytree=0.5 will be ignored. Current value: feature_fraction=0.9727091844247625\n",
      "[LightGBM] [Warning] bagging_fraction is set=0.7506789534196249, subsample=0.9 will be ignored. Current value: bagging_fraction=0.7506789534196249\n",
      "[LightGBM] [Warning] bagging_freq is set=20, subsample_freq=0 will be ignored. Current value: bagging_freq=20\n",
      "Training until validation scores don't improve for 100 rounds\n",
      "[100]\ttraining's l1: 2.52084\tvalid_1's l1: 1.79701\n"
     ]
    },
    {
     "name": "stderr",
     "output_type": "stream",
     "text": [
      "\u001b[32m[I 2021-07-29 23:42:52,238]\u001b[0m Trial 12 finished with value: -1.761876303754551 and parameters: {'max_depth': 10, 'min_child_weight': 19, 'subsample': 0.9, 'colsample_bytree': 0.5, 'reg_lambda': 0.001220367157369171, 'reg_alpha': 0.0011698120881971686, 'feature_fraction': 0.9727091844247625, 'bagging_fraction': 0.7506789534196249, 'bagging_freq': 20, 'num_leaves': 996, 'min_child_samples': 74}. Best is trial 12 with value: -1.761876303754551.\u001b[0m\n"
     ]
    },
    {
     "name": "stdout",
     "output_type": "stream",
     "text": [
      "Early stopping, best iteration is:\n",
      "[13]\ttraining's l1: 2.6217\tvalid_1's l1: 1.76188\n",
      "[LightGBM] [Warning] feature_fraction is set=0.9914841153164493, colsample_bytree=0.5 will be ignored. Current value: feature_fraction=0.9914841153164493\n",
      "[LightGBM] [Warning] bagging_fraction is set=0.7191859881272549, subsample=0.8 will be ignored. Current value: bagging_fraction=0.7191859881272549\n",
      "[LightGBM] [Warning] bagging_freq is set=20, subsample_freq=0 will be ignored. Current value: bagging_freq=20\n",
      "Training until validation scores don't improve for 100 rounds\n",
      "[100]\ttraining's l1: 2.53258\tvalid_1's l1: 1.79075\n",
      "Early stopping, best iteration is:\n",
      "[15]\ttraining's l1: 2.62384\tvalid_1's l1: 1.76377\n"
     ]
    },
    {
     "name": "stderr",
     "output_type": "stream",
     "text": [
      "\u001b[32m[I 2021-07-29 23:42:54,565]\u001b[0m Trial 13 finished with value: -1.7637728126007033 and parameters: {'max_depth': 9, 'min_child_weight': 20, 'subsample': 0.8, 'colsample_bytree': 0.5, 'reg_lambda': 0.020997802025558367, 'reg_alpha': 0.0037464167960067417, 'feature_fraction': 0.9914841153164493, 'bagging_fraction': 0.7191859881272549, 'bagging_freq': 20, 'num_leaves': 999, 'min_child_samples': 77}. Best is trial 12 with value: -1.761876303754551.\u001b[0m\n"
     ]
    },
    {
     "name": "stdout",
     "output_type": "stream",
     "text": [
      "[LightGBM] [Warning] feature_fraction is set=0.8403812612319514, colsample_bytree=0.6 will be ignored. Current value: feature_fraction=0.8403812612319514\n",
      "[LightGBM] [Warning] bagging_fraction is set=0.71837223412003, subsample=0.8 will be ignored. Current value: bagging_fraction=0.71837223412003\n",
      "[LightGBM] [Warning] bagging_freq is set=20, subsample_freq=0 will be ignored. Current value: bagging_freq=20\n",
      "Training until validation scores don't improve for 100 rounds\n"
     ]
    },
    {
     "name": "stderr",
     "output_type": "stream",
     "text": [
      "\u001b[32m[I 2021-07-29 23:42:55,874]\u001b[0m Trial 14 finished with value: -1.7867246510743933 and parameters: {'max_depth': 7, 'min_child_weight': 20, 'subsample': 0.8, 'colsample_bytree': 0.6, 'reg_lambda': 0.025088666973864786, 'reg_alpha': 0.005039596873567732, 'feature_fraction': 0.8403812612319514, 'bagging_fraction': 0.71837223412003, 'bagging_freq': 20, 'num_leaves': 13, 'min_child_samples': 75}. Best is trial 12 with value: -1.761876303754551.\u001b[0m\n"
     ]
    },
    {
     "name": "stdout",
     "output_type": "stream",
     "text": [
      "[100]\ttraining's l1: 2.64317\tvalid_1's l1: 1.78967\n",
      "Early stopping, best iteration is:\n",
      "[28]\ttraining's l1: 2.6954\tvalid_1's l1: 1.78672\n",
      "[LightGBM] [Warning] feature_fraction is set=0.7517529648143171, colsample_bytree=0.5 will be ignored. Current value: feature_fraction=0.7517529648143171\n",
      "[LightGBM] [Warning] bagging_fraction is set=0.6169739264288359, subsample=0.7 will be ignored. Current value: bagging_fraction=0.6169739264288359\n",
      "[LightGBM] [Warning] bagging_freq is set=13, subsample_freq=0 will be ignored. Current value: bagging_freq=13\n",
      "Training until validation scores don't improve for 100 rounds\n"
     ]
    },
    {
     "name": "stderr",
     "output_type": "stream",
     "text": [
      "\u001b[32m[I 2021-07-29 23:42:57,628]\u001b[0m Trial 15 finished with value: -1.767358438591243 and parameters: {'max_depth': 8, 'min_child_weight': 14, 'subsample': 0.7, 'colsample_bytree': 0.5, 'reg_lambda': 0.021077787403032698, 'reg_alpha': 0.13861023793679206, 'feature_fraction': 0.7517529648143171, 'bagging_fraction': 0.6169739264288359, 'bagging_freq': 13, 'num_leaves': 850, 'min_child_samples': 81}. Best is trial 12 with value: -1.761876303754551.\u001b[0m\n"
     ]
    },
    {
     "name": "stdout",
     "output_type": "stream",
     "text": [
      "[100]\ttraining's l1: 2.55478\tvalid_1's l1: 1.78191\n",
      "Early stopping, best iteration is:\n",
      "[19]\ttraining's l1: 2.62092\tvalid_1's l1: 1.76736\n",
      "[LightGBM] [Warning] feature_fraction is set=0.996594449216063, colsample_bytree=0.6 will be ignored. Current value: feature_fraction=0.996594449216063\n",
      "[LightGBM] [Warning] bagging_fraction is set=0.7178685094259012, subsample=0.8 will be ignored. Current value: bagging_fraction=0.7178685094259012\n",
      "[LightGBM] [Warning] bagging_freq is set=1, subsample_freq=0 will be ignored. Current value: bagging_freq=1\n",
      "Training until validation scores don't improve for 100 rounds\n"
     ]
    },
    {
     "name": "stderr",
     "output_type": "stream",
     "text": [
      "\u001b[32m[I 2021-07-29 23:42:58,973]\u001b[0m Trial 16 finished with value: -1.8137940345599717 and parameters: {'max_depth': 9, 'min_child_weight': 20, 'subsample': 0.8, 'colsample_bytree': 0.6, 'reg_lambda': 0.007930027870860832, 'reg_alpha': 711.8266397367855, 'feature_fraction': 0.996594449216063, 'bagging_fraction': 0.7178685094259012, 'bagging_freq': 1, 'num_leaves': 828, 'min_child_samples': 57}. Best is trial 12 with value: -1.761876303754551.\u001b[0m\n"
     ]
    },
    {
     "name": "stdout",
     "output_type": "stream",
     "text": [
      "[100]\ttraining's l1: 2.68456\tvalid_1's l1: 1.82351\n",
      "Early stopping, best iteration is:\n",
      "[13]\ttraining's l1: 2.73591\tvalid_1's l1: 1.81379\n",
      "[LightGBM] [Warning] feature_fraction is set=0.7904709934658357, colsample_bytree=0.5 will be ignored. Current value: feature_fraction=0.7904709934658357\n",
      "[LightGBM] [Warning] bagging_fraction is set=0.8429397487954037, subsample=0.7 will be ignored. Current value: bagging_fraction=0.8429397487954037\n",
      "[LightGBM] [Warning] bagging_freq is set=18, subsample_freq=0 will be ignored. Current value: bagging_freq=18\n",
      "Training until validation scores don't improve for 100 rounds\n",
      "[100]\ttraining's l1: 2.60777\tvalid_1's l1: 1.7774\n"
     ]
    },
    {
     "name": "stderr",
     "output_type": "stream",
     "text": [
      "\u001b[32m[I 2021-07-29 23:43:00,589]\u001b[0m Trial 17 finished with value: -1.7702845714741922 and parameters: {'max_depth': 5, 'min_child_weight': 14, 'subsample': 0.7, 'colsample_bytree': 0.5, 'reg_lambda': 0.06225561217794563, 'reg_alpha': 0.005490906286027641, 'feature_fraction': 0.7904709934658357, 'bagging_fraction': 0.8429397487954037, 'bagging_freq': 18, 'num_leaves': 879, 'min_child_samples': 85}. Best is trial 12 with value: -1.761876303754551.\u001b[0m\n"
     ]
    },
    {
     "name": "stdout",
     "output_type": "stream",
     "text": [
      "Early stopping, best iteration is:\n",
      "[52]\ttraining's l1: 2.63032\tvalid_1's l1: 1.77029\n",
      "[LightGBM] [Warning] feature_fraction is set=0.9349454872092129, colsample_bytree=0.6 will be ignored. Current value: feature_fraction=0.9349454872092129\n",
      "[LightGBM] [Warning] bagging_fraction is set=0.5296647481656234, subsample=0.9 will be ignored. Current value: bagging_fraction=0.5296647481656234\n",
      "[LightGBM] [Warning] bagging_freq is set=15, subsample_freq=0 will be ignored. Current value: bagging_freq=15\n",
      "Training until validation scores don't improve for 100 rounds\n",
      "[100]\ttraining's l1: 2.48223\tvalid_1's l1: 1.86133\n"
     ]
    },
    {
     "name": "stderr",
     "output_type": "stream",
     "text": [
      "\u001b[32m[I 2021-07-29 23:43:03,962]\u001b[0m Trial 18 finished with value: -1.776845082046907 and parameters: {'max_depth': 12, 'min_child_weight': 13, 'subsample': 0.9, 'colsample_bytree': 0.6, 'reg_lambda': 0.12152248612871196, 'reg_alpha': 5.497221151754597, 'feature_fraction': 0.9349454872092129, 'bagging_fraction': 0.5296647481656234, 'bagging_freq': 15, 'num_leaves': 739, 'min_child_samples': 43}. Best is trial 12 with value: -1.761876303754551.\u001b[0m\n"
     ]
    },
    {
     "name": "stdout",
     "output_type": "stream",
     "text": [
      "Early stopping, best iteration is:\n",
      "[13]\ttraining's l1: 2.62866\tvalid_1's l1: 1.77686\n",
      "[LightGBM] [Warning] feature_fraction is set=0.7197530131919645, colsample_bytree=0.5 will be ignored. Current value: feature_fraction=0.7197530131919645\n",
      "[LightGBM] [Warning] bagging_fraction is set=0.7008459858834211, subsample=0.8 will be ignored. Current value: bagging_fraction=0.7008459858834211\n",
      "[LightGBM] [Warning] bagging_freq is set=20, subsample_freq=0 will be ignored. Current value: bagging_freq=20\n",
      "Training until validation scores don't improve for 100 rounds\n",
      "[100]\ttraining's l1: 2.62561\tvalid_1's l1: 1.77261\n"
     ]
    },
    {
     "name": "stderr",
     "output_type": "stream",
     "text": [
      "\u001b[32m[I 2021-07-29 23:43:05,675]\u001b[0m Trial 19 finished with value: -1.771842978978486 and parameters: {'max_depth': 4, 'min_child_weight': 20, 'subsample': 0.8, 'colsample_bytree': 0.5, 'reg_lambda': 0.004447650091071603, 'reg_alpha': 0.004325637310748077, 'feature_fraction': 0.7197530131919645, 'bagging_fraction': 0.7008459858834211, 'bagging_freq': 20, 'num_leaves': 972, 'min_child_samples': 61}. Best is trial 12 with value: -1.761876303754551.\u001b[0m\n"
     ]
    },
    {
     "name": "stdout",
     "output_type": "stream",
     "text": [
      "[200]\ttraining's l1: 2.60709\tvalid_1's l1: 1.77663\n",
      "Early stopping, best iteration is:\n",
      "[133]\ttraining's l1: 2.61892\tvalid_1's l1: 1.77204\n",
      "[LightGBM] [Warning] feature_fraction is set=0.4681204376403818, colsample_bytree=0.7 will be ignored. Current value: feature_fraction=0.4681204376403818\n",
      "[LightGBM] [Warning] bagging_fraction is set=0.9877469771741495, subsample=0.9 will be ignored. Current value: bagging_fraction=0.9877469771741495\n",
      "[LightGBM] [Warning] bagging_freq is set=7, subsample_freq=0 will be ignored. Current value: bagging_freq=7\n",
      "Training until validation scores don't improve for 100 rounds\n",
      "[100]\ttraining's l1: 2.72329\tvalid_1's l1: 1.79544\n",
      "[200]\ttraining's l1: 2.71446\tvalid_1's l1: 1.79025\n",
      "[300]\ttraining's l1: 2.71001\tvalid_1's l1: 1.78803\n",
      "[400]\ttraining's l1: 2.70738\tvalid_1's l1: 1.78752\n"
     ]
    },
    {
     "name": "stderr",
     "output_type": "stream",
     "text": [
      "\u001b[32m[I 2021-07-29 23:43:09,864]\u001b[0m Trial 20 finished with value: -1.7870120442855135 and parameters: {'max_depth': 1, 'min_child_weight': 18, 'subsample': 0.9, 'colsample_bytree': 0.7, 'reg_lambda': 2.0599758695802555, 'reg_alpha': 0.10071977038837482, 'feature_fraction': 0.4681204376403818, 'bagging_fraction': 0.9877469771741495, 'bagging_freq': 7, 'num_leaves': 119, 'min_child_samples': 34}. Best is trial 12 with value: -1.761876303754551.\u001b[0m\n"
     ]
    },
    {
     "name": "stdout",
     "output_type": "stream",
     "text": [
      "Early stopping, best iteration is:\n",
      "[370]\ttraining's l1: 2.70838\tvalid_1's l1: 1.78705\n",
      "[LightGBM] [Warning] feature_fraction is set=0.7881236652970521, colsample_bytree=0.5 will be ignored. Current value: feature_fraction=0.7881236652970521\n",
      "[LightGBM] [Warning] bagging_fraction is set=0.6461897812355423, subsample=0.7 will be ignored. Current value: bagging_fraction=0.6461897812355423\n",
      "[LightGBM] [Warning] bagging_freq is set=14, subsample_freq=0 will be ignored. Current value: bagging_freq=14\n",
      "Training until validation scores don't improve for 100 rounds\n"
     ]
    },
    {
     "name": "stderr",
     "output_type": "stream",
     "text": [
      "\u001b[32m[I 2021-07-29 23:43:11,851]\u001b[0m Trial 21 finished with value: -1.7654876150101657 and parameters: {'max_depth': 9, 'min_child_weight': 14, 'subsample': 0.7, 'colsample_bytree': 0.5, 'reg_lambda': 0.019557346996089783, 'reg_alpha': 0.18659502808491313, 'feature_fraction': 0.7881236652970521, 'bagging_fraction': 0.6461897812355423, 'bagging_freq': 14, 'num_leaves': 852, 'min_child_samples': 82}. Best is trial 12 with value: -1.761876303754551.\u001b[0m\n"
     ]
    },
    {
     "name": "stdout",
     "output_type": "stream",
     "text": [
      "[100]\ttraining's l1: 2.53423\tvalid_1's l1: 1.79911\n",
      "Early stopping, best iteration is:\n",
      "[16]\ttraining's l1: 2.62322\tvalid_1's l1: 1.76549\n",
      "[LightGBM] [Warning] feature_fraction is set=0.8652365722168998, colsample_bytree=0.5 will be ignored. Current value: feature_fraction=0.8652365722168998\n",
      "[LightGBM] [Warning] bagging_fraction is set=0.6809332415247955, subsample=0.7 will be ignored. Current value: bagging_fraction=0.6809332415247955\n",
      "[LightGBM] [Warning] bagging_freq is set=13, subsample_freq=0 will be ignored. Current value: bagging_freq=13\n",
      "Training until validation scores don't improve for 100 rounds\n",
      "[100]\ttraining's l1: 2.52416\tvalid_1's l1: 1.80154\n"
     ]
    },
    {
     "name": "stderr",
     "output_type": "stream",
     "text": [
      "\u001b[32m[I 2021-07-29 23:43:14,034]\u001b[0m Trial 22 finished with value: -1.7632543580078723 and parameters: {'max_depth': 9, 'min_child_weight': 12, 'subsample': 0.7, 'colsample_bytree': 0.5, 'reg_lambda': 0.009478073818464572, 'reg_alpha': 2.264345365329033, 'feature_fraction': 0.8652365722168998, 'bagging_fraction': 0.6809332415247955, 'bagging_freq': 13, 'num_leaves': 913, 'min_child_samples': 64}. Best is trial 12 with value: -1.761876303754551.\u001b[0m\n"
     ]
    },
    {
     "name": "stdout",
     "output_type": "stream",
     "text": [
      "Early stopping, best iteration is:\n",
      "[19]\ttraining's l1: 2.60456\tvalid_1's l1: 1.76326\n",
      "[LightGBM] [Warning] feature_fraction is set=0.882908029954102, colsample_bytree=0.6 will be ignored. Current value: feature_fraction=0.882908029954102\n",
      "[LightGBM] [Warning] bagging_fraction is set=0.7884216028057581, subsample=0.7 will be ignored. Current value: bagging_fraction=0.7884216028057581\n",
      "[LightGBM] [Warning] bagging_freq is set=18, subsample_freq=0 will be ignored. Current value: bagging_freq=18\n",
      "Training until validation scores don't improve for 100 rounds\n",
      "[100]\ttraining's l1: 2.46605\tvalid_1's l1: 1.83532\n"
     ]
    },
    {
     "name": "stderr",
     "output_type": "stream",
     "text": [
      "\u001b[32m[I 2021-07-29 23:43:17,418]\u001b[0m Trial 23 finished with value: -1.7709592468546829 and parameters: {'max_depth': 12, 'min_child_weight': 12, 'subsample': 0.7, 'colsample_bytree': 0.6, 'reg_lambda': 0.0038980325906171837, 'reg_alpha': 1.4600001588042228, 'feature_fraction': 0.882908029954102, 'bagging_fraction': 0.7884216028057581, 'bagging_freq': 18, 'num_leaves': 999, 'min_child_samples': 66}. Best is trial 12 with value: -1.761876303754551.\u001b[0m\n"
     ]
    },
    {
     "name": "stdout",
     "output_type": "stream",
     "text": [
      "Early stopping, best iteration is:\n",
      "[14]\ttraining's l1: 2.59688\tvalid_1's l1: 1.77096\n",
      "[LightGBM] [Warning] feature_fraction is set=0.9649378953723831, colsample_bytree=0.5 will be ignored. Current value: feature_fraction=0.9649378953723831\n",
      "[LightGBM] [Warning] bagging_fraction is set=0.6903468028985077, subsample=0.8 will be ignored. Current value: bagging_fraction=0.6903468028985077\n",
      "[LightGBM] [Warning] bagging_freq is set=12, subsample_freq=0 will be ignored. Current value: bagging_freq=12\n",
      "Training until validation scores don't improve for 100 rounds\n"
     ]
    },
    {
     "name": "stderr",
     "output_type": "stream",
     "text": [
      "\u001b[32m[I 2021-07-29 23:43:18,969]\u001b[0m Trial 24 finished with value: -1.7665066753168537 and parameters: {'max_depth': 6, 'min_child_weight': 8, 'subsample': 0.8, 'colsample_bytree': 0.5, 'reg_lambda': 0.0011480045870316121, 'reg_alpha': 1.509941216542532, 'feature_fraction': 0.9649378953723831, 'bagging_fraction': 0.6903468028985077, 'bagging_freq': 12, 'num_leaves': 936, 'min_child_samples': 75}. Best is trial 12 with value: -1.761876303754551.\u001b[0m\n"
     ]
    },
    {
     "name": "stdout",
     "output_type": "stream",
     "text": [
      "[100]\ttraining's l1: 2.58899\tvalid_1's l1: 1.77586\n",
      "Early stopping, best iteration is:\n",
      "[22]\ttraining's l1: 2.6459\tvalid_1's l1: 1.76651\n",
      "[LightGBM] [Warning] feature_fraction is set=0.9963981819058989, colsample_bytree=0.6 will be ignored. Current value: feature_fraction=0.9963981819058989\n",
      "[LightGBM] [Warning] bagging_fraction is set=0.5274348618183584, subsample=0.8 will be ignored. Current value: bagging_fraction=0.5274348618183584\n",
      "[LightGBM] [Warning] bagging_freq is set=2, subsample_freq=0 will be ignored. Current value: bagging_freq=2\n",
      "Training until validation scores don't improve for 100 rounds\n",
      "[100]\ttraining's l1: 2.51915\tvalid_1's l1: 1.8278\n"
     ]
    },
    {
     "name": "stderr",
     "output_type": "stream",
     "text": [
      "\u001b[32m[I 2021-07-29 23:43:21,873]\u001b[0m Trial 25 finished with value: -1.7714583950585066 and parameters: {'max_depth': 10, 'min_child_weight': 16, 'subsample': 0.8, 'colsample_bytree': 0.6, 'reg_lambda': 0.07691951587664182, 'reg_alpha': 5.256669612502618, 'feature_fraction': 0.9963981819058989, 'bagging_fraction': 0.5274348618183584, 'bagging_freq': 2, 'num_leaves': 771, 'min_child_samples': 63}. Best is trial 12 with value: -1.761876303754551.\u001b[0m\n"
     ]
    },
    {
     "name": "stdout",
     "output_type": "stream",
     "text": [
      "Early stopping, best iteration is:\n",
      "[18]\ttraining's l1: 2.61187\tvalid_1's l1: 1.7715\n",
      "[LightGBM] [Warning] feature_fraction is set=0.8585167480384435, colsample_bytree=0.5 will be ignored. Current value: feature_fraction=0.8585167480384435\n",
      "[LightGBM] [Warning] bagging_fraction is set=0.8434704503660008, subsample=0.7 will be ignored. Current value: bagging_fraction=0.8434704503660008\n",
      "[LightGBM] [Warning] bagging_freq is set=19, subsample_freq=0 will be ignored. Current value: bagging_freq=19\n",
      "Training until validation scores don't improve for 100 rounds\n",
      "[100]\ttraining's l1: 2.6136\tvalid_1's l1: 1.80505\n"
     ]
    },
    {
     "name": "stderr",
     "output_type": "stream",
     "text": [
      "\u001b[32m[I 2021-07-29 23:43:23,812]\u001b[0m Trial 26 finished with value: -1.7913909635362042 and parameters: {'max_depth': 13, 'min_child_weight': 18, 'subsample': 0.7, 'colsample_bytree': 0.5, 'reg_lambda': 0.01068828414665906, 'reg_alpha': 179.52166267179365, 'feature_fraction': 0.8585167480384435, 'bagging_fraction': 0.8434704503660008, 'bagging_freq': 19, 'num_leaves': 590, 'min_child_samples': 90}. Best is trial 12 with value: -1.761876303754551.\u001b[0m\n"
     ]
    },
    {
     "name": "stdout",
     "output_type": "stream",
     "text": [
      "Early stopping, best iteration is:\n",
      "[23]\ttraining's l1: 2.66181\tvalid_1's l1: 1.79139\n",
      "[LightGBM] [Warning] feature_fraction is set=0.6949728153641499, colsample_bytree=0.5 will be ignored. Current value: feature_fraction=0.6949728153641499\n",
      "[LightGBM] [Warning] bagging_fraction is set=0.7667133653212841, subsample=0.9 will be ignored. Current value: bagging_fraction=0.7667133653212841\n",
      "[LightGBM] [Warning] bagging_freq is set=16, subsample_freq=0 will be ignored. Current value: bagging_freq=16\n",
      "Training until validation scores don't improve for 100 rounds\n",
      "[100]\ttraining's l1: 2.53153\tvalid_1's l1: 1.80718\n"
     ]
    },
    {
     "name": "stderr",
     "output_type": "stream",
     "text": [
      "\u001b[32m[I 2021-07-29 23:43:26,020]\u001b[0m Trial 27 finished with value: -1.772204792526371 and parameters: {'max_depth': 9, 'min_child_weight': 7, 'subsample': 0.9, 'colsample_bytree': 0.5, 'reg_lambda': 0.0032689689539375667, 'reg_alpha': 4.868512764838067, 'feature_fraction': 0.6949728153641499, 'bagging_fraction': 0.7667133653212841, 'bagging_freq': 16, 'num_leaves': 916, 'min_child_samples': 77}. Best is trial 12 with value: -1.761876303754551.\u001b[0m\n"
     ]
    },
    {
     "name": "stdout",
     "output_type": "stream",
     "text": [
      "Early stopping, best iteration is:\n",
      "[22]\ttraining's l1: 2.59919\tvalid_1's l1: 1.77221\n",
      "[LightGBM] [Warning] feature_fraction is set=0.9302225066227758, colsample_bytree=0.6 will be ignored. Current value: feature_fraction=0.9302225066227758\n",
      "[LightGBM] [Warning] bagging_fraction is set=0.5658926966026097, subsample=0.8 will be ignored. Current value: bagging_fraction=0.5658926966026097\n",
      "[LightGBM] [Warning] bagging_freq is set=17, subsample_freq=0 will be ignored. Current value: bagging_freq=17\n",
      "Training until validation scores don't improve for 100 rounds\n",
      "[100]\ttraining's l1: 2.5026\tvalid_1's l1: 1.8204\n"
     ]
    },
    {
     "name": "stderr",
     "output_type": "stream",
     "text": [
      "\u001b[32m[I 2021-07-29 23:43:28,657]\u001b[0m Trial 28 finished with value: -1.7671691711201725 and parameters: {'max_depth': 10, 'min_child_weight': 12, 'subsample': 0.8, 'colsample_bytree': 0.6, 'reg_lambda': 0.05696009022754263, 'reg_alpha': 0.6136165083553787, 'feature_fraction': 0.9302225066227758, 'bagging_fraction': 0.5658926966026097, 'bagging_freq': 17, 'num_leaves': 781, 'min_child_samples': 45}. Best is trial 12 with value: -1.761876303754551.\u001b[0m\n"
     ]
    },
    {
     "name": "stdout",
     "output_type": "stream",
     "text": [
      "Early stopping, best iteration is:\n",
      "[16]\ttraining's l1: 2.60852\tvalid_1's l1: 1.76717\n",
      "[LightGBM] [Warning] feature_fraction is set=0.8211502945016745, colsample_bytree=0.8 will be ignored. Current value: feature_fraction=0.8211502945016745\n",
      "[LightGBM] [Warning] bagging_fraction is set=0.6643212735131243, subsample=0.7 will be ignored. Current value: bagging_fraction=0.6643212735131243\n",
      "[LightGBM] [Warning] bagging_freq is set=4, subsample_freq=0 will be ignored. Current value: bagging_freq=4\n",
      "Training until validation scores don't improve for 100 rounds\n",
      "[100]\ttraining's l1: 2.563\tvalid_1's l1: 1.77935\n"
     ]
    },
    {
     "name": "stderr",
     "output_type": "stream",
     "text": [
      "\u001b[32m[I 2021-07-29 23:43:30,341]\u001b[0m Trial 29 finished with value: -1.7643284575337164 and parameters: {'max_depth': 7, 'min_child_weight': 19, 'subsample': 0.7, 'colsample_bytree': 0.8, 'reg_lambda': 0.001168094418640417, 'reg_alpha': 0.0026772629942889005, 'feature_fraction': 0.8211502945016745, 'bagging_fraction': 0.6643212735131243, 'bagging_freq': 4, 'num_leaves': 917, 'min_child_samples': 68}. Best is trial 12 with value: -1.761876303754551.\u001b[0m\n"
     ]
    },
    {
     "name": "stdout",
     "output_type": "stream",
     "text": [
      "Early stopping, best iteration is:\n",
      "[25]\ttraining's l1: 2.619\tvalid_1's l1: 1.76433\n",
      "[LightGBM] [Warning] feature_fraction is set=0.9281239981691793, colsample_bytree=0.5 will be ignored. Current value: feature_fraction=0.9281239981691793\n",
      "[LightGBM] [Warning] bagging_fraction is set=0.8348410894942205, subsample=0.8 will be ignored. Current value: bagging_fraction=0.8348410894942205\n",
      "[LightGBM] [Warning] bagging_freq is set=8, subsample_freq=0 will be ignored. Current value: bagging_freq=8\n",
      "Training until validation scores don't improve for 100 rounds\n",
      "[100]\ttraining's l1: 2.6629\tvalid_1's l1: 1.77891\n"
     ]
    },
    {
     "name": "stderr",
     "output_type": "stream",
     "text": [
      "\u001b[32m[I 2021-07-29 23:43:31,940]\u001b[0m Trial 30 finished with value: -1.773304361402591 and parameters: {'max_depth': 3, 'min_child_weight': 16, 'subsample': 0.8, 'colsample_bytree': 0.5, 'reg_lambda': 415.9919254125746, 'reg_alpha': 0.024862400756506448, 'feature_fraction': 0.9281239981691793, 'bagging_fraction': 0.8348410894942205, 'bagging_freq': 8, 'num_leaves': 995, 'min_child_samples': 56}. Best is trial 12 with value: -1.761876303754551.\u001b[0m\n"
     ]
    },
    {
     "name": "stdout",
     "output_type": "stream",
     "text": [
      "Early stopping, best iteration is:\n",
      "[78]\ttraining's l1: 2.67299\tvalid_1's l1: 1.77331\n",
      "[LightGBM] [Warning] feature_fraction is set=0.8201838553376954, colsample_bytree=0.8 will be ignored. Current value: feature_fraction=0.8201838553376954\n",
      "[LightGBM] [Warning] bagging_fraction is set=0.674794520111372, subsample=0.7 will be ignored. Current value: bagging_fraction=0.674794520111372\n",
      "[LightGBM] [Warning] bagging_freq is set=4, subsample_freq=0 will be ignored. Current value: bagging_freq=4\n",
      "Training until validation scores don't improve for 100 rounds\n"
     ]
    },
    {
     "name": "stderr",
     "output_type": "stream",
     "text": [
      "\u001b[32m[I 2021-07-29 23:43:33,609]\u001b[0m Trial 31 finished with value: -1.7670222637989392 and parameters: {'max_depth': 7, 'min_child_weight': 19, 'subsample': 0.7, 'colsample_bytree': 0.8, 'reg_lambda': 0.010491297048628983, 'reg_alpha': 0.00278476614604532, 'feature_fraction': 0.8201838553376954, 'bagging_fraction': 0.674794520111372, 'bagging_freq': 4, 'num_leaves': 901, 'min_child_samples': 68}. Best is trial 12 with value: -1.761876303754551.\u001b[0m\n"
     ]
    },
    {
     "name": "stdout",
     "output_type": "stream",
     "text": [
      "[100]\ttraining's l1: 2.56087\tvalid_1's l1: 1.79175\n",
      "Early stopping, best iteration is:\n",
      "[19]\ttraining's l1: 2.63582\tvalid_1's l1: 1.76702\n",
      "[LightGBM] [Warning] feature_fraction is set=0.8879307141049805, colsample_bytree=0.8 will be ignored. Current value: feature_fraction=0.8879307141049805\n",
      "[LightGBM] [Warning] bagging_fraction is set=0.5885382162945477, subsample=0.7 will be ignored. Current value: bagging_fraction=0.5885382162945477\n",
      "[LightGBM] [Warning] bagging_freq is set=3, subsample_freq=0 will be ignored. Current value: bagging_freq=3\n",
      "Training until validation scores don't improve for 100 rounds\n"
     ]
    },
    {
     "name": "stderr",
     "output_type": "stream",
     "text": [
      "\u001b[32m[I 2021-07-29 23:43:35,486]\u001b[0m Trial 32 finished with value: -1.76678295543163 and parameters: {'max_depth': 8, 'min_child_weight': 19, 'subsample': 0.7, 'colsample_bytree': 0.8, 'reg_lambda': 0.0011455128044836455, 'reg_alpha': 0.007953120716981975, 'feature_fraction': 0.8879307141049805, 'bagging_fraction': 0.5885382162945477, 'bagging_freq': 3, 'num_leaves': 685, 'min_child_samples': 60}. Best is trial 12 with value: -1.761876303754551.\u001b[0m\n"
     ]
    },
    {
     "name": "stdout",
     "output_type": "stream",
     "text": [
      "[100]\ttraining's l1: 2.54304\tvalid_1's l1: 1.80092\n",
      "Early stopping, best iteration is:\n",
      "[15]\ttraining's l1: 2.64\tvalid_1's l1: 1.76679\n",
      "[LightGBM] [Warning] feature_fraction is set=0.4983806069023789, colsample_bytree=0.8 will be ignored. Current value: feature_fraction=0.4983806069023789\n",
      "[LightGBM] [Warning] bagging_fraction is set=0.7325269999627907, subsample=0.6 will be ignored. Current value: bagging_fraction=0.7325269999627907\n",
      "[LightGBM] [Warning] bagging_freq is set=6, subsample_freq=0 will be ignored. Current value: bagging_freq=6\n",
      "Training until validation scores don't improve for 100 rounds\n"
     ]
    },
    {
     "name": "stderr",
     "output_type": "stream",
     "text": [
      "\u001b[32m[I 2021-07-29 23:43:37,523]\u001b[0m Trial 33 finished with value: -1.7646970389035346 and parameters: {'max_depth': 8, 'min_child_weight': 20, 'subsample': 0.6, 'colsample_bytree': 0.8, 'reg_lambda': 0.003038156921712544, 'reg_alpha': 0.0018383822402208351, 'feature_fraction': 0.4983806069023789, 'bagging_fraction': 0.7325269999627907, 'bagging_freq': 6, 'num_leaves': 801, 'min_child_samples': 52}. Best is trial 12 with value: -1.761876303754551.\u001b[0m\n"
     ]
    },
    {
     "name": "stdout",
     "output_type": "stream",
     "text": [
      "[100]\ttraining's l1: 2.534\tvalid_1's l1: 1.80167\n",
      "Early stopping, best iteration is:\n",
      "[13]\ttraining's l1: 2.64916\tvalid_1's l1: 1.7647\n",
      "[LightGBM] [Warning] feature_fraction is set=0.9999638886670563, colsample_bytree=0.9 will be ignored. Current value: feature_fraction=0.9999638886670563\n",
      "[LightGBM] [Warning] bagging_fraction is set=0.6527773472766428, subsample=0.7 will be ignored. Current value: bagging_fraction=0.6527773472766428\n",
      "[LightGBM] [Warning] bagging_freq is set=11, subsample_freq=0 will be ignored. Current value: bagging_freq=11\n",
      "Training until validation scores don't improve for 100 rounds\n",
      "[100]\ttraining's l1: 2.58983\tvalid_1's l1: 1.78077\n"
     ]
    },
    {
     "name": "stderr",
     "output_type": "stream",
     "text": [
      "\u001b[32m[I 2021-07-29 23:43:39,176]\u001b[0m Trial 34 finished with value: -1.7659983166404194 and parameters: {'max_depth': 6, 'min_child_weight': 17, 'subsample': 0.7, 'colsample_bytree': 0.9, 'reg_lambda': 18.20870187617171, 'reg_alpha': 0.011943147005070508, 'feature_fraction': 0.9999638886670563, 'bagging_fraction': 0.6527773472766428, 'bagging_freq': 11, 'num_leaves': 939, 'min_child_samples': 75}. Best is trial 12 with value: -1.761876303754551.\u001b[0m\n"
     ]
    },
    {
     "name": "stdout",
     "output_type": "stream",
     "text": [
      "Early stopping, best iteration is:\n",
      "[36]\ttraining's l1: 2.63121\tvalid_1's l1: 1.766\n",
      "[LightGBM] [Warning] feature_fraction is set=0.6971494308096843, colsample_bytree=0.7 will be ignored. Current value: feature_fraction=0.6971494308096843\n",
      "[LightGBM] [Warning] bagging_fraction is set=0.7361525006864091, subsample=0.6 will be ignored. Current value: bagging_fraction=0.7361525006864091\n",
      "[LightGBM] [Warning] bagging_freq is set=14, subsample_freq=0 will be ignored. Current value: bagging_freq=14\n",
      "Training until validation scores don't improve for 100 rounds\n",
      "[100]\ttraining's l1: 2.47925\tvalid_1's l1: 1.83082\n"
     ]
    },
    {
     "name": "stderr",
     "output_type": "stream",
     "text": [
      "\u001b[32m[I 2021-07-29 23:43:42,495]\u001b[0m Trial 35 finished with value: -1.768789085768202 and parameters: {'max_depth': 14, 'min_child_weight': 15, 'subsample': 0.6, 'colsample_bytree': 0.7, 'reg_lambda': 0.007861971135823665, 'reg_alpha': 0.0010967600360794608, 'feature_fraction': 0.6971494308096843, 'bagging_fraction': 0.7361525006864091, 'bagging_freq': 14, 'num_leaves': 876, 'min_child_samples': 84}. Best is trial 12 with value: -1.761876303754551.\u001b[0m\n"
     ]
    },
    {
     "name": "stdout",
     "output_type": "stream",
     "text": [
      "Early stopping, best iteration is:\n",
      "[14]\ttraining's l1: 2.60507\tvalid_1's l1: 1.76879\n",
      "[LightGBM] [Warning] feature_fraction is set=0.5725012478285834, colsample_bytree=0.8 will be ignored. Current value: feature_fraction=0.5725012478285834\n",
      "[LightGBM] [Warning] bagging_fraction is set=0.46985600321996224, subsample=0.7 will be ignored. Current value: bagging_fraction=0.46985600321996224\n",
      "[LightGBM] [Warning] bagging_freq is set=10, subsample_freq=0 will be ignored. Current value: bagging_freq=10\n",
      "Training until validation scores don't improve for 100 rounds\n",
      "[100]\ttraining's l1: 2.5401\tvalid_1's l1: 1.8323\n"
     ]
    },
    {
     "name": "stderr",
     "output_type": "stream",
     "text": [
      "\u001b[32m[I 2021-07-29 23:43:45,182]\u001b[0m Trial 36 finished with value: -1.776925023877589 and parameters: {'max_depth': 12, 'min_child_weight': 19, 'subsample': 0.7, 'colsample_bytree': 0.8, 'reg_lambda': 0.0010062074483665967, 'reg_alpha': 0.3968959581775846, 'feature_fraction': 0.5725012478285834, 'bagging_fraction': 0.46985600321996224, 'bagging_freq': 10, 'num_leaves': 704, 'min_child_samples': 89}. Best is trial 12 with value: -1.761876303754551.\u001b[0m\n"
     ]
    },
    {
     "name": "stdout",
     "output_type": "stream",
     "text": [
      "Early stopping, best iteration is:\n",
      "[17]\ttraining's l1: 2.61869\tvalid_1's l1: 1.77693\n",
      "[LightGBM] [Warning] feature_fraction is set=0.8147951298328509, colsample_bytree=0.9 will be ignored. Current value: feature_fraction=0.8147951298328509\n",
      "[LightGBM] [Warning] bagging_fraction is set=0.5722243959460481, subsample=0.6 will be ignored. Current value: bagging_fraction=0.5722243959460481\n",
      "[LightGBM] [Warning] bagging_freq is set=1, subsample_freq=0 will be ignored. Current value: bagging_freq=1\n",
      "Training until validation scores don't improve for 100 rounds\n",
      "[100]\ttraining's l1: 2.54041\tvalid_1's l1: 1.80804\n",
      "Early stopping, best iteration is:\n",
      "[16]\ttraining's l1: 2.61953\tvalid_1's l1: 1.76936\n"
     ]
    },
    {
     "name": "stderr",
     "output_type": "stream",
     "text": [
      "\u001b[32m[I 2021-07-29 23:43:47,285]\u001b[0m Trial 37 finished with value: -1.769357320333874 and parameters: {'max_depth': 10, 'min_child_weight': 11, 'subsample': 0.6, 'colsample_bytree': 0.9, 'reg_lambda': 0.1855000054138835, 'reg_alpha': 0.06544141335603032, 'feature_fraction': 0.8147951298328509, 'bagging_fraction': 0.5722243959460481, 'bagging_freq': 1, 'num_leaves': 997, 'min_child_samples': 98}. Best is trial 12 with value: -1.761876303754551.\u001b[0m\n"
     ]
    },
    {
     "name": "stdout",
     "output_type": "stream",
     "text": [
      "[LightGBM] [Warning] feature_fraction is set=0.6485692941515667, colsample_bytree=0.7 will be ignored. Current value: feature_fraction=0.6485692941515667\n",
      "[LightGBM] [Warning] bagging_fraction is set=0.8246159716975857, subsample=0.8 will be ignored. Current value: bagging_fraction=0.8246159716975857\n",
      "[LightGBM] [Warning] bagging_freq is set=19, subsample_freq=0 will be ignored. Current value: bagging_freq=19\n",
      "Training until validation scores don't improve for 100 rounds\n",
      "[100]\ttraining's l1: 2.58323\tvalid_1's l1: 1.77714\n"
     ]
    },
    {
     "name": "stderr",
     "output_type": "stream",
     "text": [
      "\u001b[32m[I 2021-07-29 23:43:49,041]\u001b[0m Trial 38 finished with value: -1.7643495407924563 and parameters: {'max_depth': 6, 'min_child_weight': 1, 'subsample': 0.8, 'colsample_bytree': 0.7, 'reg_lambda': 0.036141049897978283, 'reg_alpha': 0.01724625414868181, 'feature_fraction': 0.6485692941515667, 'bagging_fraction': 0.8246159716975857, 'bagging_freq': 19, 'num_leaves': 616, 'min_child_samples': 66}. Best is trial 12 with value: -1.761876303754551.\u001b[0m\n"
     ]
    },
    {
     "name": "stdout",
     "output_type": "stream",
     "text": [
      "Early stopping, best iteration is:\n",
      "[38]\ttraining's l1: 2.6169\tvalid_1's l1: 1.76435\n",
      "[LightGBM] [Warning] feature_fraction is set=0.7555235968416794, colsample_bytree=0.6 will be ignored. Current value: feature_fraction=0.7555235968416794\n",
      "[LightGBM] [Warning] bagging_fraction is set=0.8844793773578504, subsample=0.9 will be ignored. Current value: bagging_fraction=0.8844793773578504\n",
      "[LightGBM] [Warning] bagging_freq is set=16, subsample_freq=0 will be ignored. Current value: bagging_freq=16\n",
      "Training until validation scores don't improve for 100 rounds\n",
      "[100]\ttraining's l1: 2.39714\tvalid_1's l1: 1.88132\n"
     ]
    },
    {
     "name": "stderr",
     "output_type": "stream",
     "text": [
      "\u001b[32m[I 2021-07-29 23:43:54,080]\u001b[0m Trial 39 finished with value: -1.7769879144139435 and parameters: {'max_depth': 16, 'min_child_weight': 17, 'subsample': 0.9, 'colsample_bytree': 0.6, 'reg_lambda': 0.0023789032295822043, 'reg_alpha': 0.0025988101348587665, 'feature_fraction': 0.7555235968416794, 'bagging_fraction': 0.8844793773578504, 'bagging_freq': 16, 'num_leaves': 922, 'min_child_samples': 51}. Best is trial 12 with value: -1.761876303754551.\u001b[0m\n"
     ]
    },
    {
     "name": "stdout",
     "output_type": "stream",
     "text": [
      "Early stopping, best iteration is:\n",
      "[15]\ttraining's l1: 2.57444\tvalid_1's l1: 1.777\n",
      "[LightGBM] [Warning] feature_fraction is set=0.9328120933123054, colsample_bytree=0.8 will be ignored. Current value: feature_fraction=0.9328120933123054\n",
      "[LightGBM] [Warning] bagging_fraction is set=0.7561673337103008, subsample=0.8 will be ignored. Current value: bagging_fraction=0.7561673337103008\n",
      "[LightGBM] [Warning] bagging_freq is set=7, subsample_freq=0 will be ignored. Current value: bagging_freq=7\n",
      "Training until validation scores don't improve for 100 rounds\n",
      "[100]\ttraining's l1: 2.65437\tvalid_1's l1: 1.77922\n"
     ]
    },
    {
     "name": "stderr",
     "output_type": "stream",
     "text": [
      "\u001b[32m[I 2021-07-29 23:43:55,775]\u001b[0m Trial 40 finished with value: -1.7783693440929687 and parameters: {'max_depth': 3, 'min_child_weight': 3, 'subsample': 0.8, 'colsample_bytree': 0.8, 'reg_lambda': 0.9043878489273648, 'reg_alpha': 2.1570150207537013, 'feature_fraction': 0.9328120933123054, 'bagging_fraction': 0.7561673337103008, 'bagging_freq': 7, 'num_leaves': 734, 'min_child_samples': 79}. Best is trial 12 with value: -1.761876303754551.\u001b[0m\n"
     ]
    },
    {
     "name": "stdout",
     "output_type": "stream",
     "text": [
      "[200]\ttraining's l1: 2.63127\tvalid_1's l1: 1.78147\n",
      "Early stopping, best iteration is:\n",
      "[104]\ttraining's l1: 2.65357\tvalid_1's l1: 1.77842\n",
      "[LightGBM] [Warning] feature_fraction is set=0.850006699085231, colsample_bytree=0.7 will be ignored. Current value: feature_fraction=0.850006699085231\n",
      "[LightGBM] [Warning] bagging_fraction is set=0.8176810308329934, subsample=0.8 will be ignored. Current value: bagging_fraction=0.8176810308329934\n",
      "[LightGBM] [Warning] bagging_freq is set=19, subsample_freq=0 will be ignored. Current value: bagging_freq=19\n",
      "Training until validation scores don't improve for 100 rounds\n",
      "[100]\ttraining's l1: 2.60272\tvalid_1's l1: 1.77428\n"
     ]
    },
    {
     "name": "stderr",
     "output_type": "stream",
     "text": [
      "\u001b[32m[I 2021-07-29 23:43:57,260]\u001b[0m Trial 41 finished with value: -1.7649694608495101 and parameters: {'max_depth': 5, 'min_child_weight': 10, 'subsample': 0.8, 'colsample_bytree': 0.7, 'reg_lambda': 0.047438206018390126, 'reg_alpha': 0.018872846082365197, 'feature_fraction': 0.850006699085231, 'bagging_fraction': 0.8176810308329934, 'bagging_freq': 19, 'num_leaves': 580, 'min_child_samples': 65}. Best is trial 12 with value: -1.761876303754551.\u001b[0m\n"
     ]
    },
    {
     "name": "stdout",
     "output_type": "stream",
     "text": [
      "Early stopping, best iteration is:\n",
      "[37]\ttraining's l1: 2.63771\tvalid_1's l1: 1.76497\n",
      "[LightGBM] [Warning] feature_fraction is set=0.6739647727330071, colsample_bytree=0.9 will be ignored. Current value: feature_fraction=0.6739647727330071\n",
      "[LightGBM] [Warning] bagging_fraction is set=0.9391276857481609, subsample=0.7 will be ignored. Current value: bagging_fraction=0.9391276857481609\n",
      "[LightGBM] [Warning] bagging_freq is set=19, subsample_freq=0 will be ignored. Current value: bagging_freq=19\n",
      "Training until validation scores don't improve for 100 rounds\n",
      "[100]\ttraining's l1: 2.57508\tvalid_1's l1: 1.77183\n",
      "Early stopping, best iteration is:\n",
      "[22]\ttraining's l1: 2.64874\tvalid_1's l1: 1.76311\n"
     ]
    },
    {
     "name": "stderr",
     "output_type": "stream",
     "text": [
      "\u001b[32m[I 2021-07-29 23:43:58,895]\u001b[0m Trial 42 finished with value: -1.7631126456932478 and parameters: {'max_depth': 6, 'min_child_weight': 6, 'subsample': 0.7, 'colsample_bytree': 0.9, 'reg_lambda': 0.011907345667846637, 'reg_alpha': 0.01075602596124228, 'feature_fraction': 0.6739647727330071, 'bagging_fraction': 0.9391276857481609, 'bagging_freq': 19, 'num_leaves': 452, 'min_child_samples': 72}. Best is trial 12 with value: -1.761876303754551.\u001b[0m\n"
     ]
    },
    {
     "name": "stdout",
     "output_type": "stream",
     "text": [
      "[LightGBM] [Warning] feature_fraction is set=0.6274273877583195, colsample_bytree=0.9 will be ignored. Current value: feature_fraction=0.6274273877583195\n",
      "[LightGBM] [Warning] bagging_fraction is set=0.9259061330507309, subsample=0.7 will be ignored. Current value: bagging_fraction=0.9259061330507309\n",
      "[LightGBM] [Warning] bagging_freq is set=17, subsample_freq=0 will be ignored. Current value: bagging_freq=17\n",
      "Training until validation scores don't improve for 100 rounds\n",
      "[100]\ttraining's l1: 2.53475\tvalid_1's l1: 1.78693\n",
      "Early stopping, best iteration is:\n",
      "[16]\ttraining's l1: 2.62876\tvalid_1's l1: 1.76175\n"
     ]
    },
    {
     "name": "stderr",
     "output_type": "stream",
     "text": [
      "\u001b[32m[I 2021-07-29 23:44:01,131]\u001b[0m Trial 43 finished with value: -1.761743027711652 and parameters: {'max_depth': 8, 'min_child_weight': 6, 'subsample': 0.7, 'colsample_bytree': 0.9, 'reg_lambda': 0.016139087481515997, 'reg_alpha': 0.00206439205539263, 'feature_fraction': 0.6274273877583195, 'bagging_fraction': 0.9259061330507309, 'bagging_freq': 17, 'num_leaves': 491, 'min_child_samples': 72}. Best is trial 43 with value: -1.761743027711652.\u001b[0m\n"
     ]
    },
    {
     "name": "stdout",
     "output_type": "stream",
     "text": [
      "[LightGBM] [Warning] feature_fraction is set=0.6038786384987662, colsample_bytree=0.9 will be ignored. Current value: feature_fraction=0.6038786384987662\n",
      "[LightGBM] [Warning] bagging_fraction is set=0.9907228552611076, subsample=0.6 will be ignored. Current value: bagging_fraction=0.9907228552611076\n",
      "[LightGBM] [Warning] bagging_freq is set=17, subsample_freq=0 will be ignored. Current value: bagging_freq=17\n",
      "Training until validation scores don't improve for 100 rounds\n",
      "[100]\ttraining's l1: 2.52096\tvalid_1's l1: 1.78624\n"
     ]
    },
    {
     "name": "stderr",
     "output_type": "stream",
     "text": [
      "\u001b[32m[I 2021-07-29 23:44:03,948]\u001b[0m Trial 44 finished with value: -1.7675072285890145 and parameters: {'max_depth': 9, 'min_child_weight': 6, 'subsample': 0.6, 'colsample_bytree': 0.9, 'reg_lambda': 0.014198157346947802, 'reg_alpha': 0.04421617864085499, 'feature_fraction': 0.6038786384987662, 'bagging_fraction': 0.9907228552611076, 'bagging_freq': 17, 'num_leaves': 472, 'min_child_samples': 73}. Best is trial 43 with value: -1.761743027711652.\u001b[0m\n"
     ]
    },
    {
     "name": "stdout",
     "output_type": "stream",
     "text": [
      "Early stopping, best iteration is:\n",
      "[19]\ttraining's l1: 2.59828\tvalid_1's l1: 1.76752\n",
      "[LightGBM] [Warning] feature_fraction is set=0.5220410973274746, colsample_bytree=0.9 will be ignored. Current value: feature_fraction=0.5220410973274746\n",
      "[LightGBM] [Warning] bagging_fraction is set=0.9358129908479937, subsample=0.7 will be ignored. Current value: bagging_fraction=0.9358129908479937\n",
      "[LightGBM] [Warning] bagging_freq is set=18, subsample_freq=0 will be ignored. Current value: bagging_freq=18\n",
      "Training until validation scores don't improve for 100 rounds\n",
      "[100]\ttraining's l1: 2.50828\tvalid_1's l1: 1.80581\n"
     ]
    },
    {
     "name": "stderr",
     "output_type": "stream",
     "text": [
      "\u001b[32m[I 2021-07-29 23:44:07,027]\u001b[0m Trial 45 finished with value: -1.7675221771729561 and parameters: {'max_depth': 11, 'min_child_weight': 8, 'subsample': 0.7, 'colsample_bytree': 0.9, 'reg_lambda': 0.005962769448157275, 'reg_alpha': 0.008605204388226387, 'feature_fraction': 0.5220410973274746, 'bagging_fraction': 0.9358129908479937, 'bagging_freq': 18, 'num_leaves': 530, 'min_child_samples': 94}. Best is trial 43 with value: -1.761743027711652.\u001b[0m\n"
     ]
    },
    {
     "name": "stdout",
     "output_type": "stream",
     "text": [
      "Early stopping, best iteration is:\n",
      "[15]\ttraining's l1: 2.60655\tvalid_1's l1: 1.76752\n",
      "[LightGBM] [Warning] feature_fraction is set=0.5725128492365047, colsample_bytree=0.9 will be ignored. Current value: feature_fraction=0.5725128492365047\n",
      "[LightGBM] [Warning] bagging_fraction is set=0.9463183036665784, subsample=0.7 will be ignored. Current value: bagging_fraction=0.9463183036665784\n",
      "[LightGBM] [Warning] bagging_freq is set=15, subsample_freq=0 will be ignored. Current value: bagging_freq=15\n",
      "Training until validation scores don't improve for 100 rounds\n",
      "[100]\ttraining's l1: 2.52793\tvalid_1's l1: 1.80417\n"
     ]
    },
    {
     "name": "stderr",
     "output_type": "stream",
     "text": [
      "\u001b[32m[I 2021-07-29 23:44:09,900]\u001b[0m Trial 46 finished with value: -1.7736510819548819 and parameters: {'max_depth': 9, 'min_child_weight': 3, 'subsample': 0.7, 'colsample_bytree': 0.9, 'reg_lambda': 0.2765360145584127, 'reg_alpha': 14.824423393086084, 'feature_fraction': 0.5725128492365047, 'bagging_fraction': 0.9463183036665784, 'bagging_freq': 15, 'num_leaves': 386, 'min_child_samples': 71}. Best is trial 43 with value: -1.761743027711652.\u001b[0m\n"
     ]
    },
    {
     "name": "stdout",
     "output_type": "stream",
     "text": [
      "Early stopping, best iteration is:\n",
      "[18]\ttraining's l1: 2.62537\tvalid_1's l1: 1.77366\n",
      "[LightGBM] [Warning] feature_fraction is set=0.40140249999478833, colsample_bytree=0.9 will be ignored. Current value: feature_fraction=0.40140249999478833\n",
      "[LightGBM] [Warning] bagging_fraction is set=0.9085204269252779, subsample=0.6 will be ignored. Current value: bagging_fraction=0.9085204269252779\n",
      "[LightGBM] [Warning] bagging_freq is set=19, subsample_freq=0 will be ignored. Current value: bagging_freq=19\n",
      "Training until validation scores don't improve for 100 rounds\n",
      "[100]\ttraining's l1: 2.54671\tvalid_1's l1: 1.78852\n"
     ]
    },
    {
     "name": "stderr",
     "output_type": "stream",
     "text": [
      "\u001b[32m[I 2021-07-29 23:44:11,959]\u001b[0m Trial 47 finished with value: -1.7637296958306736 and parameters: {'max_depth': 8, 'min_child_weight': 5, 'subsample': 0.6, 'colsample_bytree': 0.9, 'reg_lambda': 0.10539047598681653, 'reg_alpha': 0.0010173181932002242, 'feature_fraction': 0.40140249999478833, 'bagging_fraction': 0.9085204269252779, 'bagging_freq': 19, 'num_leaves': 312, 'min_child_samples': 86}. Best is trial 43 with value: -1.761743027711652.\u001b[0m\n"
     ]
    },
    {
     "name": "stdout",
     "output_type": "stream",
     "text": [
      "Early stopping, best iteration is:\n",
      "[19]\ttraining's l1: 2.62324\tvalid_1's l1: 1.76373\n",
      "[LightGBM] [Warning] feature_fraction is set=0.45139957578365253, colsample_bytree=0.9 will be ignored. Current value: feature_fraction=0.45139957578365253\n",
      "[LightGBM] [Warning] bagging_fraction is set=0.8825886550751612, subsample=0.6 will be ignored. Current value: bagging_fraction=0.8825886550751612\n",
      "[LightGBM] [Warning] bagging_freq is set=19, subsample_freq=0 will be ignored. Current value: bagging_freq=19\n",
      "Training until validation scores don't improve for 100 rounds\n",
      "[100]\ttraining's l1: 2.54536\tvalid_1's l1: 1.79373\n"
     ]
    },
    {
     "name": "stderr",
     "output_type": "stream",
     "text": [
      "\u001b[32m[I 2021-07-29 23:44:14,019]\u001b[0m Trial 48 finished with value: -1.7643408125143287 and parameters: {'max_depth': 8, 'min_child_weight': 5, 'subsample': 0.6, 'colsample_bytree': 0.9, 'reg_lambda': 0.12590482569733497, 'reg_alpha': 0.0010338428722548906, 'feature_fraction': 0.45139957578365253, 'bagging_fraction': 0.8825886550751612, 'bagging_freq': 19, 'num_leaves': 278, 'min_child_samples': 84}. Best is trial 43 with value: -1.761743027711652.\u001b[0m\n"
     ]
    },
    {
     "name": "stdout",
     "output_type": "stream",
     "text": [
      "Early stopping, best iteration is:\n",
      "[18]\ttraining's l1: 2.62417\tvalid_1's l1: 1.76434\n",
      "[LightGBM] [Warning] feature_fraction is set=0.3692042341798774, colsample_bytree=0.9 will be ignored. Current value: feature_fraction=0.3692042341798774\n",
      "[LightGBM] [Warning] bagging_fraction is set=0.9710200070875785, subsample=0.5 will be ignored. Current value: bagging_fraction=0.9710200070875785\n",
      "[LightGBM] [Warning] bagging_freq is set=17, subsample_freq=0 will be ignored. Current value: bagging_freq=17\n",
      "Training until validation scores don't improve for 100 rounds\n",
      "[100]\ttraining's l1: 2.60485\tvalid_1's l1: 1.77558\n"
     ]
    },
    {
     "name": "stderr",
     "output_type": "stream",
     "text": [
      "\u001b[32m[I 2021-07-29 23:44:15,706]\u001b[0m Trial 49 finished with value: -1.7682575959414135 and parameters: {'max_depth': 5, 'min_child_weight': 5, 'subsample': 0.5, 'colsample_bytree': 0.9, 'reg_lambda': 0.03273217457826353, 'reg_alpha': 0.0015298890164250935, 'feature_fraction': 0.3692042341798774, 'bagging_fraction': 0.9710200070875785, 'bagging_freq': 17, 'num_leaves': 238, 'min_child_samples': 89}. Best is trial 43 with value: -1.761743027711652.\u001b[0m\n"
     ]
    },
    {
     "name": "stdout",
     "output_type": "stream",
     "text": [
      "Early stopping, best iteration is:\n",
      "[35]\ttraining's l1: 2.64641\tvalid_1's l1: 1.76826\n",
      "[LightGBM] [Warning] feature_fraction is set=0.21037071792087217, colsample_bytree=0.9 will be ignored. Current value: feature_fraction=0.21037071792087217\n",
      "[LightGBM] [Warning] bagging_fraction is set=0.9113304484935008, subsample=0.6 will be ignored. Current value: bagging_fraction=0.9113304484935008\n",
      "[LightGBM] [Warning] bagging_freq is set=15, subsample_freq=0 will be ignored. Current value: bagging_freq=15\n",
      "Training until validation scores don't improve for 100 rounds\n",
      "[100]\ttraining's l1: 2.58856\tvalid_1's l1: 1.78963\n"
     ]
    },
    {
     "name": "stderr",
     "output_type": "stream",
     "text": [
      "\u001b[32m[I 2021-07-29 23:44:17,243]\u001b[0m Trial 50 finished with value: -1.7772632760404747 and parameters: {'max_depth': 6, 'min_child_weight': 4, 'subsample': 0.6, 'colsample_bytree': 0.9, 'reg_lambda': 0.014095306370101738, 'reg_alpha': 12.05246596770262, 'feature_fraction': 0.21037071792087217, 'bagging_fraction': 0.9113304484935008, 'bagging_freq': 15, 'num_leaves': 215, 'min_child_samples': 56}. Best is trial 43 with value: -1.761743027711652.\u001b[0m\n"
     ]
    },
    {
     "name": "stdout",
     "output_type": "stream",
     "text": [
      "Early stopping, best iteration is:\n",
      "[35]\ttraining's l1: 2.6396\tvalid_1's l1: 1.77727\n",
      "[LightGBM] [Warning] feature_fraction is set=0.41703950398368256, colsample_bytree=0.9 will be ignored. Current value: feature_fraction=0.41703950398368256\n",
      "[LightGBM] [Warning] bagging_fraction is set=0.8777229686594183, subsample=0.7 will be ignored. Current value: bagging_fraction=0.8777229686594183\n",
      "[LightGBM] [Warning] bagging_freq is set=20, subsample_freq=0 will be ignored. Current value: bagging_freq=20\n",
      "Training until validation scores don't improve for 100 rounds\n",
      "[100]\ttraining's l1: 2.49861\tvalid_1's l1: 1.81226\n"
     ]
    },
    {
     "name": "stderr",
     "output_type": "stream",
     "text": [
      "\u001b[32m[I 2021-07-29 23:44:20,035]\u001b[0m Trial 51 finished with value: -1.7703993188247347 and parameters: {'max_depth': 11, 'min_child_weight': 7, 'subsample': 0.7, 'colsample_bytree': 0.9, 'reg_lambda': 0.08647581627546015, 'reg_alpha': 0.0036403796585483114, 'feature_fraction': 0.41703950398368256, 'bagging_fraction': 0.8777229686594183, 'bagging_freq': 20, 'num_leaves': 430, 'min_child_samples': 78}. Best is trial 43 with value: -1.761743027711652.\u001b[0m\n"
     ]
    },
    {
     "name": "stdout",
     "output_type": "stream",
     "text": [
      "Early stopping, best iteration is:\n",
      "[16]\ttraining's l1: 2.61061\tvalid_1's l1: 1.7704\n",
      "[LightGBM] [Warning] feature_fraction is set=0.6442547487697359, colsample_bytree=0.5 will be ignored. Current value: feature_fraction=0.6442547487697359\n",
      "[LightGBM] [Warning] bagging_fraction is set=0.9579077426308013, subsample=0.5 will be ignored. Current value: bagging_fraction=0.9579077426308013\n",
      "[LightGBM] [Warning] bagging_freq is set=18, subsample_freq=0 will be ignored. Current value: bagging_freq=18\n",
      "Training until validation scores don't improve for 100 rounds\n",
      "[100]\ttraining's l1: 2.5045\tvalid_1's l1: 1.79734\n"
     ]
    },
    {
     "name": "stderr",
     "output_type": "stream",
     "text": [
      "\u001b[32m[I 2021-07-29 23:44:22,961]\u001b[0m Trial 52 finished with value: -1.7630541951753944 and parameters: {'max_depth': 10, 'min_child_weight': 2, 'subsample': 0.5, 'colsample_bytree': 0.5, 'reg_lambda': 0.02477938734398322, 'reg_alpha': 0.007294750851435501, 'feature_fraction': 0.6442547487697359, 'bagging_fraction': 0.9579077426308013, 'bagging_freq': 18, 'num_leaves': 310, 'min_child_samples': 73}. Best is trial 43 with value: -1.761743027711652.\u001b[0m\n"
     ]
    },
    {
     "name": "stdout",
     "output_type": "stream",
     "text": [
      "Early stopping, best iteration is:\n",
      "[15]\ttraining's l1: 2.61484\tvalid_1's l1: 1.76306\n",
      "[LightGBM] [Warning] feature_fraction is set=0.6532065835701215, colsample_bytree=0.9 will be ignored. Current value: feature_fraction=0.6532065835701215\n",
      "[LightGBM] [Warning] bagging_fraction is set=0.9583941476983877, subsample=0.5 will be ignored. Current value: bagging_fraction=0.9583941476983877\n",
      "[LightGBM] [Warning] bagging_freq is set=17, subsample_freq=0 will be ignored. Current value: bagging_freq=17\n",
      "Training until validation scores don't improve for 100 rounds\n",
      "[100]\ttraining's l1: 2.55998\tvalid_1's l1: 1.77965\n",
      "Early stopping, best iteration is:\n",
      "[18]\ttraining's l1: 2.63721\tvalid_1's l1: 1.76564\n"
     ]
    },
    {
     "name": "stderr",
     "output_type": "stream",
     "text": [
      "\u001b[32m[I 2021-07-29 23:44:24,916]\u001b[0m Trial 53 finished with value: -1.7656373740189617 and parameters: {'max_depth': 7, 'min_child_weight': 1, 'subsample': 0.5, 'colsample_bytree': 0.9, 'reg_lambda': 0.5318159551199404, 'reg_alpha': 0.007165820831170296, 'feature_fraction': 0.6532065835701215, 'bagging_fraction': 0.9583941476983877, 'bagging_freq': 17, 'num_leaves': 325, 'min_child_samples': 72}. Best is trial 43 with value: -1.761743027711652.\u001b[0m\n"
     ]
    },
    {
     "name": "stdout",
     "output_type": "stream",
     "text": [
      "[LightGBM] [Warning] feature_fraction is set=0.6728100409882072, colsample_bytree=0.5 will be ignored. Current value: feature_fraction=0.6728100409882072\n",
      "[LightGBM] [Warning] bagging_fraction is set=0.9133039000740496, subsample=0.5 will be ignored. Current value: bagging_fraction=0.9133039000740496\n",
      "[LightGBM] [Warning] bagging_freq is set=19, subsample_freq=0 will be ignored. Current value: bagging_freq=19\n",
      "Training until validation scores don't improve for 100 rounds\n",
      "[100]\ttraining's l1: 2.53128\tvalid_1's l1: 1.8031\n"
     ]
    },
    {
     "name": "stderr",
     "output_type": "stream",
     "text": [
      "\u001b[32m[I 2021-07-29 23:44:27,306]\u001b[0m Trial 54 finished with value: -1.7690838534827975 and parameters: {'max_depth': 10, 'min_child_weight': 2, 'subsample': 0.5, 'colsample_bytree': 0.5, 'reg_lambda': 0.01727711808051432, 'reg_alpha': 0.0010144436660718978, 'feature_fraction': 0.6728100409882072, 'bagging_fraction': 0.9133039000740496, 'bagging_freq': 19, 'num_leaves': 179, 'min_child_samples': 87}. Best is trial 43 with value: -1.761743027711652.\u001b[0m\n"
     ]
    },
    {
     "name": "stdout",
     "output_type": "stream",
     "text": [
      "Early stopping, best iteration is:\n",
      "[16]\ttraining's l1: 2.63695\tvalid_1's l1: 1.76908\n",
      "[LightGBM] [Warning] feature_fraction is set=0.6228174245745483, colsample_bytree=0.5 will be ignored. Current value: feature_fraction=0.6228174245745483\n",
      "[LightGBM] [Warning] bagging_fraction is set=0.9947980760424207, subsample=0.6 will be ignored. Current value: bagging_fraction=0.9947980760424207\n",
      "[LightGBM] [Warning] bagging_freq is set=18, subsample_freq=0 will be ignored. Current value: bagging_freq=18\n",
      "Training until validation scores don't improve for 100 rounds\n",
      "[100]\ttraining's l1: 2.53502\tvalid_1's l1: 1.77887\n"
     ]
    },
    {
     "name": "stderr",
     "output_type": "stream",
     "text": [
      "\u001b[32m[I 2021-07-29 23:44:29,679]\u001b[0m Trial 55 finished with value: -1.7609064856675751 and parameters: {'max_depth': 8, 'min_child_weight': 4, 'subsample': 0.6, 'colsample_bytree': 0.5, 'reg_lambda': 0.005756444060598583, 'reg_alpha': 0.001787518083475703, 'feature_fraction': 0.6228174245745483, 'bagging_fraction': 0.9947980760424207, 'bagging_freq': 18, 'num_leaves': 480, 'min_child_samples': 81}. Best is trial 55 with value: -1.7609064856675751.\u001b[0m\n"
     ]
    },
    {
     "name": "stdout",
     "output_type": "stream",
     "text": [
      "Early stopping, best iteration is:\n",
      "[21]\ttraining's l1: 2.60972\tvalid_1's l1: 1.76091\n",
      "[LightGBM] [Warning] feature_fraction is set=0.6256957720089101, colsample_bytree=0.5 will be ignored. Current value: feature_fraction=0.6256957720089101\n",
      "[LightGBM] [Warning] bagging_fraction is set=0.2603948726745428, subsample=0.5 will be ignored. Current value: bagging_fraction=0.2603948726745428\n",
      "[LightGBM] [Warning] bagging_freq is set=16, subsample_freq=0 will be ignored. Current value: bagging_freq=16\n",
      "Training until validation scores don't improve for 100 rounds\n"
     ]
    },
    {
     "name": "stderr",
     "output_type": "stream",
     "text": [
      "\u001b[32m[I 2021-07-29 23:44:32,025]\u001b[0m Trial 56 finished with value: -1.7862175850577482 and parameters: {'max_depth': 13, 'min_child_weight': 2, 'subsample': 0.5, 'colsample_bytree': 0.5, 'reg_lambda': 0.006004508566060367, 'reg_alpha': 0.0018811629610321287, 'feature_fraction': 0.6256957720089101, 'bagging_fraction': 0.2603948726745428, 'bagging_freq': 16, 'num_leaves': 464, 'min_child_samples': 60}. Best is trial 55 with value: -1.7609064856675751.\u001b[0m\n"
     ]
    },
    {
     "name": "stdout",
     "output_type": "stream",
     "text": [
      "[100]\ttraining's l1: 2.56829\tvalid_1's l1: 1.84781\n",
      "Early stopping, best iteration is:\n",
      "[10]\ttraining's l1: 2.66661\tvalid_1's l1: 1.78622\n",
      "[LightGBM] [Warning] feature_fraction is set=0.540403853960811, colsample_bytree=0.5 will be ignored. Current value: feature_fraction=0.540403853960811\n",
      "[LightGBM] [Warning] bagging_fraction is set=0.9850251447557665, subsample=0.6 will be ignored. Current value: bagging_fraction=0.9850251447557665\n",
      "[LightGBM] [Warning] bagging_freq is set=18, subsample_freq=0 will be ignored. Current value: bagging_freq=18\n",
      "Training until validation scores don't improve for 100 rounds\n",
      "[100]\ttraining's l1: 2.50525\tvalid_1's l1: 1.80203\n"
     ]
    },
    {
     "name": "stderr",
     "output_type": "stream",
     "text": [
      "\u001b[32m[I 2021-07-29 23:44:34,969]\u001b[0m Trial 57 finished with value: -1.7653942205261033 and parameters: {'max_depth': 10, 'min_child_weight': 4, 'subsample': 0.6, 'colsample_bytree': 0.5, 'reg_lambda': 0.001803385288610662, 'reg_alpha': 0.011798589638947535, 'feature_fraction': 0.540403853960811, 'bagging_fraction': 0.9850251447557665, 'bagging_freq': 18, 'num_leaves': 512, 'min_child_samples': 82}. Best is trial 55 with value: -1.7609064856675751.\u001b[0m\n"
     ]
    },
    {
     "name": "stdout",
     "output_type": "stream",
     "text": [
      "Early stopping, best iteration is:\n",
      "[16]\ttraining's l1: 2.6026\tvalid_1's l1: 1.7654\n",
      "[LightGBM] [Warning] feature_fraction is set=0.7379944941905803, colsample_bytree=0.5 will be ignored. Current value: feature_fraction=0.7379944941905803\n",
      "[LightGBM] [Warning] bagging_fraction is set=0.8577974526907637, subsample=0.5 will be ignored. Current value: bagging_fraction=0.8577974526907637\n",
      "[LightGBM] [Warning] bagging_freq is set=13, subsample_freq=0 will be ignored. Current value: bagging_freq=13\n",
      "Training until validation scores don't improve for 100 rounds\n",
      "[100]\ttraining's l1: 2.48679\tvalid_1's l1: 1.83099\n",
      "Early stopping, best iteration is:\n",
      "[13]\ttraining's l1: 2.62381\tvalid_1's l1: 1.77018\n"
     ]
    },
    {
     "name": "stderr",
     "output_type": "stream",
     "text": [
      "\u001b[32m[I 2021-07-29 23:44:37,692]\u001b[0m Trial 58 finished with value: -1.7701803944384726 and parameters: {'max_depth': 11, 'min_child_weight': 6, 'subsample': 0.5, 'colsample_bytree': 0.5, 'reg_lambda': 0.00524506821872706, 'reg_alpha': 0.004276775796551402, 'feature_fraction': 0.7379944941905803, 'bagging_fraction': 0.8577974526907637, 'bagging_freq': 13, 'num_leaves': 372, 'min_child_samples': 72}. Best is trial 55 with value: -1.7609064856675751.\u001b[0m\n"
     ]
    },
    {
     "name": "stdout",
     "output_type": "stream",
     "text": [
      "[LightGBM] [Warning] feature_fraction is set=0.6226120939673547, colsample_bytree=0.5 will be ignored. Current value: feature_fraction=0.6226120939673547\n",
      "[LightGBM] [Warning] bagging_fraction is set=0.994044304362407, subsample=0.6 will be ignored. Current value: bagging_fraction=0.994044304362407\n",
      "[LightGBM] [Warning] bagging_freq is set=14, subsample_freq=0 will be ignored. Current value: bagging_freq=14\n",
      "Training until validation scores don't improve for 100 rounds\n",
      "[100]\ttraining's l1: 2.52619\tvalid_1's l1: 1.78408\n"
     ]
    },
    {
     "name": "stderr",
     "output_type": "stream",
     "text": [
      "\u001b[32m[I 2021-07-29 23:44:40,090]\u001b[0m Trial 59 finished with value: -1.7623261291067416 and parameters: {'max_depth': 8, 'min_child_weight': 9, 'subsample': 0.6, 'colsample_bytree': 0.5, 'reg_lambda': 0.0024949606540615164, 'reg_alpha': 0.04526693262597139, 'feature_fraction': 0.6226120939673547, 'bagging_fraction': 0.994044304362407, 'bagging_freq': 14, 'num_leaves': 403, 'min_child_samples': 69}. Best is trial 55 with value: -1.7609064856675751.\u001b[0m\n"
     ]
    },
    {
     "name": "stdout",
     "output_type": "stream",
     "text": [
      "Early stopping, best iteration is:\n",
      "[18]\ttraining's l1: 2.61819\tvalid_1's l1: 1.76233\n",
      "[LightGBM] [Warning] feature_fraction is set=0.6073757604704908, colsample_bytree=0.6 will be ignored. Current value: feature_fraction=0.6073757604704908\n",
      "[LightGBM] [Warning] bagging_fraction is set=0.998316041968184, subsample=0.6 will be ignored. Current value: bagging_fraction=0.998316041968184\n",
      "[LightGBM] [Warning] bagging_freq is set=18, subsample_freq=0 will be ignored. Current value: bagging_freq=18\n",
      "Training until validation scores don't improve for 100 rounds\n",
      "[100]\ttraining's l1: 2.62553\tvalid_1's l1: 1.77179\n"
     ]
    },
    {
     "name": "stderr",
     "output_type": "stream",
     "text": [
      "\u001b[32m[I 2021-07-29 23:44:42,100]\u001b[0m Trial 60 finished with value: -1.768276002342846 and parameters: {'max_depth': 4, 'min_child_weight': 9, 'subsample': 0.6, 'colsample_bytree': 0.6, 'reg_lambda': 0.002523575279211469, 'reg_alpha': 0.031694946837683556, 'feature_fraction': 0.6073757604704908, 'bagging_fraction': 0.998316041968184, 'bagging_freq': 18, 'num_leaves': 411, 'min_child_samples': 94}. Best is trial 55 with value: -1.7609064856675751.\u001b[0m\n"
     ]
    },
    {
     "name": "stdout",
     "output_type": "stream",
     "text": [
      "Early stopping, best iteration is:\n",
      "[63]\ttraining's l1: 2.63942\tvalid_1's l1: 1.76828\n",
      "[LightGBM] [Warning] feature_fraction is set=0.5744745973185995, colsample_bytree=0.5 will be ignored. Current value: feature_fraction=0.5744745973185995\n",
      "[LightGBM] [Warning] bagging_fraction is set=0.9361193830885064, subsample=0.7 will be ignored. Current value: bagging_fraction=0.9361193830885064\n",
      "[LightGBM] [Warning] bagging_freq is set=14, subsample_freq=0 will be ignored. Current value: bagging_freq=14\n",
      "Training until validation scores don't improve for 100 rounds\n",
      "[100]\ttraining's l1: 2.53444\tvalid_1's l1: 1.79098\n"
     ]
    },
    {
     "name": "stderr",
     "output_type": "stream",
     "text": [
      "\u001b[32m[I 2021-07-29 23:44:44,640]\u001b[0m Trial 61 finished with value: -1.7639102971598757 and parameters: {'max_depth': 8, 'min_child_weight': 9, 'subsample': 0.7, 'colsample_bytree': 0.5, 'reg_lambda': 0.00838385440124584, 'reg_alpha': 0.183230156327058, 'feature_fraction': 0.5744745973185995, 'bagging_fraction': 0.9361193830885064, 'bagging_freq': 14, 'num_leaves': 497, 'min_child_samples': 64}. Best is trial 55 with value: -1.7609064856675751.\u001b[0m\n"
     ]
    },
    {
     "name": "stdout",
     "output_type": "stream",
     "text": [
      "Early stopping, best iteration is:\n",
      "[20]\ttraining's l1: 2.60786\tvalid_1's l1: 1.76391\n",
      "[LightGBM] [Warning] feature_fraction is set=0.6764044135651596, colsample_bytree=0.5 will be ignored. Current value: feature_fraction=0.6764044135651596\n",
      "[LightGBM] [Warning] bagging_fraction is set=0.9666502320845304, subsample=0.7 will be ignored. Current value: bagging_fraction=0.9666502320845304\n",
      "[LightGBM] [Warning] bagging_freq is set=12, subsample_freq=0 will be ignored. Current value: bagging_freq=12\n",
      "Training until validation scores don't improve for 100 rounds\n",
      "[100]\ttraining's l1: 2.55423\tvalid_1's l1: 1.78707\n"
     ]
    },
    {
     "name": "stderr",
     "output_type": "stream",
     "text": [
      "\u001b[32m[I 2021-07-29 23:44:46,553]\u001b[0m Trial 62 finished with value: -1.7654073017685732 and parameters: {'max_depth': 7, 'min_child_weight': 4, 'subsample': 0.7, 'colsample_bytree': 0.5, 'reg_lambda': 0.029159540999725002, 'reg_alpha': 3.000179319368209, 'feature_fraction': 0.6764044135651596, 'bagging_fraction': 0.9666502320845304, 'bagging_freq': 12, 'num_leaves': 554, 'min_child_samples': 69}. Best is trial 55 with value: -1.7609064856675751.\u001b[0m\n"
     ]
    },
    {
     "name": "stdout",
     "output_type": "stream",
     "text": [
      "Early stopping, best iteration is:\n",
      "[23]\ttraining's l1: 2.62273\tvalid_1's l1: 1.76541\n",
      "[LightGBM] [Warning] feature_fraction is set=0.6346598281005194, colsample_bytree=0.5 will be ignored. Current value: feature_fraction=0.6346598281005194\n",
      "[LightGBM] [Warning] bagging_fraction is set=0.8023498702987064, subsample=0.6 will be ignored. Current value: bagging_fraction=0.8023498702987064\n",
      "[LightGBM] [Warning] bagging_freq is set=13, subsample_freq=0 will be ignored. Current value: bagging_freq=13\n",
      "Training until validation scores don't improve for 100 rounds\n",
      "[100]\ttraining's l1: 2.52437\tvalid_1's l1: 1.79896\n",
      "Early stopping, best iteration is:\n",
      "[13]\ttraining's l1: 2.6373\tvalid_1's l1: 1.76774\n"
     ]
    },
    {
     "name": "stderr",
     "output_type": "stream",
     "text": [
      "\u001b[32m[I 2021-07-29 23:44:48,944]\u001b[0m Trial 63 finished with value: -1.7677425020335409 and parameters: {'max_depth': 9, 'min_child_weight': 7, 'subsample': 0.6, 'colsample_bytree': 0.5, 'reg_lambda': 0.0034669743556377934, 'reg_alpha': 0.06949549502636952, 'feature_fraction': 0.6346598281005194, 'bagging_fraction': 0.8023498702987064, 'bagging_freq': 13, 'num_leaves': 398, 'min_child_samples': 80}. Best is trial 55 with value: -1.7609064856675751.\u001b[0m\n"
     ]
    },
    {
     "name": "stdout",
     "output_type": "stream",
     "text": [
      "[LightGBM] [Warning] feature_fraction is set=0.6054381172783146, colsample_bytree=0.5 will be ignored. Current value: feature_fraction=0.6054381172783146\n",
      "[LightGBM] [Warning] bagging_fraction is set=0.9949773839251395, subsample=0.5 will be ignored. Current value: bagging_fraction=0.9949773839251395\n",
      "[LightGBM] [Warning] bagging_freq is set=20, subsample_freq=0 will be ignored. Current value: bagging_freq=20\n",
      "Training until validation scores don't improve for 100 rounds\n",
      "[100]\ttraining's l1: 2.5361\tvalid_1's l1: 1.78399\n"
     ]
    },
    {
     "name": "stderr",
     "output_type": "stream",
     "text": [
      "\u001b[32m[I 2021-07-29 23:44:51,419]\u001b[0m Trial 64 finished with value: -1.7621025977125897 and parameters: {'max_depth': 8, 'min_child_weight': 8, 'subsample': 0.5, 'colsample_bytree': 0.5, 'reg_lambda': 0.0020600486383613626, 'reg_alpha': 0.005605075173556096, 'feature_fraction': 0.6054381172783146, 'bagging_fraction': 0.9949773839251395, 'bagging_freq': 20, 'num_leaves': 347, 'min_child_samples': 75}. Best is trial 55 with value: -1.7609064856675751.\u001b[0m\n"
     ]
    },
    {
     "name": "stdout",
     "output_type": "stream",
     "text": [
      "Early stopping, best iteration is:\n",
      "[19]\ttraining's l1: 2.60955\tvalid_1's l1: 1.76211\n",
      "[LightGBM] [Warning] feature_fraction is set=0.7104998294070249, colsample_bytree=0.5 will be ignored. Current value: feature_fraction=0.7104998294070249\n",
      "[LightGBM] [Warning] bagging_fraction is set=0.9983477491489183, subsample=0.5 will be ignored. Current value: bagging_fraction=0.9983477491489183\n",
      "[LightGBM] [Warning] bagging_freq is set=20, subsample_freq=0 will be ignored. Current value: bagging_freq=20\n",
      "Training until validation scores don't improve for 100 rounds\n",
      "[100]\ttraining's l1: 2.57401\tvalid_1's l1: 1.78121\n"
     ]
    },
    {
     "name": "stderr",
     "output_type": "stream",
     "text": [
      "\u001b[32m[I 2021-07-29 23:44:53,127]\u001b[0m Trial 65 finished with value: -1.7676772384439647 and parameters: {'max_depth': 6, 'min_child_weight': 8, 'subsample': 0.5, 'colsample_bytree': 0.5, 'reg_lambda': 0.002019755595154164, 'reg_alpha': 0.005737246960288628, 'feature_fraction': 0.7104998294070249, 'bagging_fraction': 0.9983477491489183, 'bagging_freq': 20, 'num_leaves': 332, 'min_child_samples': 74}. Best is trial 55 with value: -1.7609064856675751.\u001b[0m\n"
     ]
    },
    {
     "name": "stdout",
     "output_type": "stream",
     "text": [
      "Early stopping, best iteration is:\n",
      "[25]\ttraining's l1: 2.63288\tvalid_1's l1: 1.76768\n",
      "[LightGBM] [Warning] feature_fraction is set=0.5847986101207765, colsample_bytree=0.6 will be ignored. Current value: feature_fraction=0.5847986101207765\n",
      "[LightGBM] [Warning] bagging_fraction is set=0.9578439160519882, subsample=0.5 will be ignored. Current value: bagging_fraction=0.9578439160519882\n",
      "[LightGBM] [Warning] bagging_freq is set=17, subsample_freq=0 will be ignored. Current value: bagging_freq=17\n",
      "Training until validation scores don't improve for 100 rounds\n",
      "[100]\ttraining's l1: 2.55811\tvalid_1's l1: 1.77772\n"
     ]
    },
    {
     "name": "stderr",
     "output_type": "stream",
     "text": [
      "\u001b[32m[I 2021-07-29 23:44:55,344]\u001b[0m Trial 66 finished with value: -1.7614684851926985 and parameters: {'max_depth': 7, 'min_child_weight': 6, 'subsample': 0.5, 'colsample_bytree': 0.6, 'reg_lambda': 0.005955286889797095, 'reg_alpha': 0.011023487707312147, 'feature_fraction': 0.5847986101207765, 'bagging_fraction': 0.9578439160519882, 'bagging_freq': 17, 'num_leaves': 442, 'min_child_samples': 77}. Best is trial 55 with value: -1.7609064856675751.\u001b[0m\n"
     ]
    },
    {
     "name": "stdout",
     "output_type": "stream",
     "text": [
      "Early stopping, best iteration is:\n",
      "[18]\ttraining's l1: 2.63614\tvalid_1's l1: 1.76147\n",
      "[LightGBM] [Warning] feature_fraction is set=0.5161895202812823, colsample_bytree=0.6 will be ignored. Current value: feature_fraction=0.5161895202812823\n",
      "[LightGBM] [Warning] bagging_fraction is set=0.9631004309790692, subsample=0.5 will be ignored. Current value: bagging_fraction=0.9631004309790692\n",
      "[LightGBM] [Warning] bagging_freq is set=17, subsample_freq=0 will be ignored. Current value: bagging_freq=17\n",
      "Training until validation scores don't improve for 100 rounds\n",
      "[100]\ttraining's l1: 2.5594\tvalid_1's l1: 1.77587\n"
     ]
    },
    {
     "name": "stderr",
     "output_type": "stream",
     "text": [
      "\u001b[32m[I 2021-07-29 23:44:57,473]\u001b[0m Trial 67 finished with value: -1.7618207525670362 and parameters: {'max_depth': 7, 'min_child_weight': 7, 'subsample': 0.5, 'colsample_bytree': 0.6, 'reg_lambda': 0.004694725948145893, 'reg_alpha': 0.0021753598949475804, 'feature_fraction': 0.5161895202812823, 'bagging_fraction': 0.9631004309790692, 'bagging_freq': 17, 'num_leaves': 348, 'min_child_samples': 79}. Best is trial 55 with value: -1.7609064856675751.\u001b[0m\n"
     ]
    },
    {
     "name": "stdout",
     "output_type": "stream",
     "text": [
      "Early stopping, best iteration is:\n",
      "[24]\ttraining's l1: 2.61545\tvalid_1's l1: 1.76182\n",
      "[LightGBM] [Warning] feature_fraction is set=0.5491231140325278, colsample_bytree=0.6 will be ignored. Current value: feature_fraction=0.5491231140325278\n",
      "[LightGBM] [Warning] bagging_fraction is set=0.8607396988296808, subsample=0.5 will be ignored. Current value: bagging_fraction=0.8607396988296808\n",
      "[LightGBM] [Warning] bagging_freq is set=16, subsample_freq=0 will be ignored. Current value: bagging_freq=16\n",
      "Training until validation scores don't improve for 100 rounds\n",
      "[100]\ttraining's l1: 2.56046\tvalid_1's l1: 1.78171\n"
     ]
    },
    {
     "name": "stderr",
     "output_type": "stream",
     "text": [
      "\u001b[32m[I 2021-07-29 23:44:59,522]\u001b[0m Trial 68 finished with value: -1.7649244705070732 and parameters: {'max_depth': 7, 'min_child_weight': 7, 'subsample': 0.5, 'colsample_bytree': 0.6, 'reg_lambda': 0.0016646314286514268, 'reg_alpha': 0.0022384103509666994, 'feature_fraction': 0.5491231140325278, 'bagging_fraction': 0.8607396988296808, 'bagging_freq': 16, 'num_leaves': 489, 'min_child_samples': 78}. Best is trial 55 with value: -1.7609064856675751.\u001b[0m\n"
     ]
    },
    {
     "name": "stdout",
     "output_type": "stream",
     "text": [
      "Early stopping, best iteration is:\n",
      "[18]\ttraining's l1: 2.63647\tvalid_1's l1: 1.76493\n",
      "[LightGBM] [Warning] feature_fraction is set=0.5208929842224507, colsample_bytree=0.6 will be ignored. Current value: feature_fraction=0.5208929842224507\n",
      "[LightGBM] [Warning] bagging_fraction is set=0.9170484003081553, subsample=0.5 will be ignored. Current value: bagging_fraction=0.9170484003081553\n",
      "[LightGBM] [Warning] bagging_freq is set=15, subsample_freq=0 will be ignored. Current value: bagging_freq=15\n",
      "Training until validation scores don't improve for 100 rounds\n",
      "[100]\ttraining's l1: 2.54486\tvalid_1's l1: 1.78896\n"
     ]
    },
    {
     "name": "stderr",
     "output_type": "stream",
     "text": [
      "\u001b[32m[I 2021-07-29 23:45:01,748]\u001b[0m Trial 69 finished with value: -1.7658858932136379 and parameters: {'max_depth': 8, 'min_child_weight': 8, 'subsample': 0.5, 'colsample_bytree': 0.6, 'reg_lambda': 0.004225375079857976, 'reg_alpha': 0.003449308152777062, 'feature_fraction': 0.5208929842224507, 'bagging_fraction': 0.9170484003081553, 'bagging_freq': 15, 'num_leaves': 364, 'min_child_samples': 82}. Best is trial 55 with value: -1.7609064856675751.\u001b[0m\n"
     ]
    },
    {
     "name": "stdout",
     "output_type": "stream",
     "text": [
      "Early stopping, best iteration is:\n",
      "[18]\ttraining's l1: 2.6192\tvalid_1's l1: 1.76589\n",
      "[LightGBM] [Warning] feature_fraction is set=0.4794016298806126, colsample_bytree=0.6 will be ignored. Current value: feature_fraction=0.4794016298806126\n",
      "[LightGBM] [Warning] bagging_fraction is set=0.99606520246642, subsample=0.5 will be ignored. Current value: bagging_fraction=0.99606520246642\n",
      "[LightGBM] [Warning] bagging_freq is set=17, subsample_freq=0 will be ignored. Current value: bagging_freq=17\n",
      "Training until validation scores don't improve for 100 rounds\n",
      "[100]\ttraining's l1: 2.6086\tvalid_1's l1: 1.77019\n"
     ]
    },
    {
     "name": "stderr",
     "output_type": "stream",
     "text": [
      "\u001b[32m[I 2021-07-29 23:45:03,632]\u001b[0m Trial 70 finished with value: -1.7667212978460212 and parameters: {'max_depth': 5, 'min_child_weight': 10, 'subsample': 0.5, 'colsample_bytree': 0.6, 'reg_lambda': 0.0014648692230078044, 'reg_alpha': 0.0014723561065475659, 'feature_fraction': 0.4794016298806126, 'bagging_fraction': 0.99606520246642, 'bagging_freq': 17, 'num_leaves': 428, 'min_child_samples': 77}. Best is trial 55 with value: -1.7609064856675751.\u001b[0m\n"
     ]
    },
    {
     "name": "stdout",
     "output_type": "stream",
     "text": [
      "Early stopping, best iteration is:\n",
      "[35]\ttraining's l1: 2.64534\tvalid_1's l1: 1.76673\n",
      "[LightGBM] [Warning] feature_fraction is set=0.5899434689730654, colsample_bytree=0.5 will be ignored. Current value: feature_fraction=0.5899434689730654\n",
      "[LightGBM] [Warning] bagging_fraction is set=0.9639452052295342, subsample=0.5 will be ignored. Current value: bagging_fraction=0.9639452052295342\n",
      "[LightGBM] [Warning] bagging_freq is set=18, subsample_freq=0 will be ignored. Current value: bagging_freq=18\n",
      "Training until validation scores don't improve for 100 rounds\n",
      "[100]\ttraining's l1: 2.43\tvalid_1's l1: 1.85578\n"
     ]
    },
    {
     "name": "stderr",
     "output_type": "stream",
     "text": [
      "\u001b[32m[I 2021-07-29 23:45:06,736]\u001b[0m Trial 71 finished with value: -1.7658554823681902 and parameters: {'max_depth': 9, 'min_child_weight': 6, 'subsample': 0.5, 'colsample_bytree': 0.5, 'reg_lambda': 0.0059397433101345334, 'reg_alpha': 0.005891955865505977, 'feature_fraction': 0.5899434689730654, 'bagging_fraction': 0.9639452052295342, 'bagging_freq': 18, 'num_leaves': 349, 'min_child_samples': 7}. Best is trial 55 with value: -1.7609064856675751.\u001b[0m\n"
     ]
    },
    {
     "name": "stdout",
     "output_type": "stream",
     "text": [
      "Early stopping, best iteration is:\n",
      "[17]\ttraining's l1: 2.59391\tvalid_1's l1: 1.76586\n",
      "[LightGBM] [Warning] feature_fraction is set=0.6234687252500727, colsample_bytree=0.5 will be ignored. Current value: feature_fraction=0.6234687252500727\n",
      "[LightGBM] [Warning] bagging_fraction is set=0.973651332065587, subsample=0.5 will be ignored. Current value: bagging_fraction=0.973651332065587\n",
      "[LightGBM] [Warning] bagging_freq is set=16, subsample_freq=0 will be ignored. Current value: bagging_freq=16\n",
      "Training until validation scores don't improve for 100 rounds\n",
      "[100]\ttraining's l1: 2.51342\tvalid_1's l1: 1.80622\n"
     ]
    },
    {
     "name": "stderr",
     "output_type": "stream",
     "text": [
      "\u001b[32m[I 2021-07-29 23:45:09,752]\u001b[0m Trial 72 finished with value: -1.7646038282416914 and parameters: {'max_depth': 10, 'min_child_weight': 9, 'subsample': 0.5, 'colsample_bytree': 0.5, 'reg_lambda': 0.0027785098576550153, 'reg_alpha': 0.0238641274837229, 'feature_fraction': 0.6234687252500727, 'bagging_fraction': 0.973651332065587, 'bagging_freq': 16, 'num_leaves': 293, 'min_child_samples': 68}. Best is trial 55 with value: -1.7609064856675751.\u001b[0m\n"
     ]
    },
    {
     "name": "stdout",
     "output_type": "stream",
     "text": [
      "Early stopping, best iteration is:\n",
      "[14]\ttraining's l1: 2.62721\tvalid_1's l1: 1.76461\n",
      "[LightGBM] [Warning] feature_fraction is set=0.5449232964008356, colsample_bytree=0.6 will be ignored. Current value: feature_fraction=0.5449232964008356\n",
      "[LightGBM] [Warning] bagging_fraction is set=0.9482439943992679, subsample=0.5 will be ignored. Current value: bagging_fraction=0.9482439943992679\n",
      "[LightGBM] [Warning] bagging_freq is set=20, subsample_freq=0 will be ignored. Current value: bagging_freq=20\n",
      "Training until validation scores don't improve for 100 rounds\n",
      "[100]\ttraining's l1: 2.5605\tvalid_1's l1: 1.77407\n"
     ]
    },
    {
     "name": "stderr",
     "output_type": "stream",
     "text": [
      "\u001b[32m[I 2021-07-29 23:45:11,947]\u001b[0m Trial 73 finished with value: -1.7612556333514804 and parameters: {'max_depth': 7, 'min_child_weight': 5, 'subsample': 0.5, 'colsample_bytree': 0.6, 'reg_lambda': 0.022091406120612625, 'reg_alpha': 0.014462905319954554, 'feature_fraction': 0.5449232964008356, 'bagging_fraction': 0.9482439943992679, 'bagging_freq': 20, 'num_leaves': 261, 'min_child_samples': 75}. Best is trial 55 with value: -1.7609064856675751.\u001b[0m\n"
     ]
    },
    {
     "name": "stdout",
     "output_type": "stream",
     "text": [
      "Early stopping, best iteration is:\n",
      "[24]\ttraining's l1: 2.6184\tvalid_1's l1: 1.76126\n",
      "[LightGBM] [Warning] feature_fraction is set=0.535973563428702, colsample_bytree=0.6 will be ignored. Current value: feature_fraction=0.535973563428702\n",
      "[LightGBM] [Warning] bagging_fraction is set=0.9195792912491769, subsample=0.5 will be ignored. Current value: bagging_fraction=0.9195792912491769\n",
      "[LightGBM] [Warning] bagging_freq is set=20, subsample_freq=0 will be ignored. Current value: bagging_freq=20\n",
      "Training until validation scores don't improve for 100 rounds\n",
      "[100]\ttraining's l1: 2.5608\tvalid_1's l1: 1.78256\n"
     ]
    },
    {
     "name": "stderr",
     "output_type": "stream",
     "text": [
      "\u001b[32m[I 2021-07-29 23:45:14,026]\u001b[0m Trial 74 finished with value: -1.7648913150715926 and parameters: {'max_depth': 7, 'min_child_weight': 7, 'subsample': 0.5, 'colsample_bytree': 0.6, 'reg_lambda': 0.0010415361815468542, 'reg_alpha': 0.013698221693228818, 'feature_fraction': 0.535973563428702, 'bagging_fraction': 0.9195792912491769, 'bagging_freq': 20, 'num_leaves': 172, 'min_child_samples': 76}. Best is trial 55 with value: -1.7609064856675751.\u001b[0m\n"
     ]
    },
    {
     "name": "stdout",
     "output_type": "stream",
     "text": [
      "Early stopping, best iteration is:\n",
      "[20]\ttraining's l1: 2.6307\tvalid_1's l1: 1.76489\n",
      "[LightGBM] [Warning] feature_fraction is set=0.5040708504218466, colsample_bytree=0.6 will be ignored. Current value: feature_fraction=0.5040708504218466\n",
      "[LightGBM] [Warning] bagging_fraction is set=0.8956125635991417, subsample=0.5 will be ignored. Current value: bagging_fraction=0.8956125635991417\n",
      "[LightGBM] [Warning] bagging_freq is set=20, subsample_freq=0 will be ignored. Current value: bagging_freq=20\n",
      "Training until validation scores don't improve for 100 rounds\n",
      "[100]\ttraining's l1: 2.54336\tvalid_1's l1: 1.78349\n"
     ]
    },
    {
     "name": "stderr",
     "output_type": "stream",
     "text": [
      "\u001b[32m[I 2021-07-29 23:45:16,188]\u001b[0m Trial 75 finished with value: -1.7655867119407005 and parameters: {'max_depth': 8, 'min_child_weight': 11, 'subsample': 0.5, 'colsample_bytree': 0.6, 'reg_lambda': 0.004291665044578617, 'reg_alpha': 0.04488237236216553, 'feature_fraction': 0.5040708504218466, 'bagging_fraction': 0.8956125635991417, 'bagging_freq': 20, 'num_leaves': 268, 'min_child_samples': 81}. Best is trial 55 with value: -1.7609064856675751.\u001b[0m\n"
     ]
    },
    {
     "name": "stdout",
     "output_type": "stream",
     "text": [
      "Early stopping, best iteration is:\n",
      "[18]\ttraining's l1: 2.61949\tvalid_1's l1: 1.76559\n",
      "[LightGBM] [Warning] feature_fraction is set=0.5550901635933093, colsample_bytree=0.7 will be ignored. Current value: feature_fraction=0.5550901635933093\n",
      "[LightGBM] [Warning] bagging_fraction is set=0.9475534578827485, subsample=0.5 will be ignored. Current value: bagging_fraction=0.9475534578827485\n",
      "[LightGBM] [Warning] bagging_freq is set=17, subsample_freq=0 will be ignored. Current value: bagging_freq=17\n",
      "Training until validation scores don't improve for 100 rounds\n",
      "[100]\ttraining's l1: 2.5611\tvalid_1's l1: 1.78192\n"
     ]
    },
    {
     "name": "stderr",
     "output_type": "stream",
     "text": [
      "\u001b[32m[I 2021-07-29 23:45:18,511]\u001b[0m Trial 76 finished with value: -1.7674861577002294 and parameters: {'max_depth': 7, 'min_child_weight': 6, 'subsample': 0.5, 'colsample_bytree': 0.7, 'reg_lambda': 0.008300339940676955, 'reg_alpha': 0.0033263132886308757, 'feature_fraction': 0.5550901635933093, 'bagging_fraction': 0.9475534578827485, 'bagging_freq': 17, 'num_leaves': 433, 'min_child_samples': 86}. Best is trial 55 with value: -1.7609064856675751.\u001b[0m\n"
     ]
    },
    {
     "name": "stdout",
     "output_type": "stream",
     "text": [
      "Early stopping, best iteration is:\n",
      "[33]\ttraining's l1: 2.60281\tvalid_1's l1: 1.7675\n",
      "[LightGBM] [Warning] feature_fraction is set=0.4672405687963742, colsample_bytree=0.6 will be ignored. Current value: feature_fraction=0.4672405687963742\n",
      "[LightGBM] [Warning] bagging_fraction is set=0.8610652354908838, subsample=0.5 will be ignored. Current value: bagging_fraction=0.8610652354908838\n",
      "[LightGBM] [Warning] bagging_freq is set=18, subsample_freq=0 will be ignored. Current value: bagging_freq=18\n",
      "Training until validation scores don't improve for 100 rounds\n",
      "[100]\ttraining's l1: 2.54499\tvalid_1's l1: 1.79263\n"
     ]
    },
    {
     "name": "stderr",
     "output_type": "stream",
     "text": [
      "\u001b[32m[I 2021-07-29 23:45:20,669]\u001b[0m Trial 77 finished with value: -1.762901303548098 and parameters: {'max_depth': 8, 'min_child_weight': 5, 'subsample': 0.5, 'colsample_bytree': 0.6, 'reg_lambda': 0.002296327455687127, 'reg_alpha': 0.0018563695943101216, 'feature_fraction': 0.4672405687963742, 'bagging_fraction': 0.8610652354908838, 'bagging_freq': 18, 'num_leaves': 542, 'min_child_samples': 69}. Best is trial 55 with value: -1.7609064856675751.\u001b[0m\n"
     ]
    },
    {
     "name": "stdout",
     "output_type": "stream",
     "text": [
      "Early stopping, best iteration is:\n",
      "[23]\ttraining's l1: 2.60654\tvalid_1's l1: 1.76291\n",
      "[LightGBM] [Warning] feature_fraction is set=0.6121479979554811, colsample_bytree=0.6 will be ignored. Current value: feature_fraction=0.6121479979554811\n",
      "[LightGBM] [Warning] bagging_fraction is set=0.9985277393773263, subsample=0.6 will be ignored. Current value: bagging_fraction=0.9985277393773263\n",
      "[LightGBM] [Warning] bagging_freq is set=19, subsample_freq=0 will be ignored. Current value: bagging_freq=19\n",
      "Training until validation scores don't improve for 100 rounds\n",
      "[100]\ttraining's l1: 2.59846\tvalid_1's l1: 1.78055\n"
     ]
    },
    {
     "name": "stderr",
     "output_type": "stream",
     "text": [
      "\u001b[32m[I 2021-07-29 23:45:22,519]\u001b[0m Trial 78 finished with value: -1.7673694966762632 and parameters: {'max_depth': 5, 'min_child_weight': 8, 'subsample': 0.6, 'colsample_bytree': 0.6, 'reg_lambda': 5.050689632470151, 'reg_alpha': 0.018910334456614962, 'feature_fraction': 0.6121479979554811, 'bagging_fraction': 0.9985277393773263, 'bagging_freq': 19, 'num_leaves': 389, 'min_child_samples': 92}. Best is trial 55 with value: -1.7609064856675751.\u001b[0m\n"
     ]
    },
    {
     "name": "stdout",
     "output_type": "stream",
     "text": [
      "Early stopping, best iteration is:\n",
      "[36]\ttraining's l1: 2.64358\tvalid_1's l1: 1.76737\n",
      "[LightGBM] [Warning] feature_fraction is set=0.4332797821533835, colsample_bytree=0.6 will be ignored. Current value: feature_fraction=0.4332797821533835\n",
      "[LightGBM] [Warning] bagging_fraction is set=0.9284084179518143, subsample=0.5 will be ignored. Current value: bagging_fraction=0.9284084179518143\n",
      "[LightGBM] [Warning] bagging_freq is set=17, subsample_freq=0 will be ignored. Current value: bagging_freq=17\n",
      "Training until validation scores don't improve for 100 rounds\n",
      "[100]\ttraining's l1: 2.58684\tvalid_1's l1: 1.78043\n",
      "Early stopping, best iteration is:\n",
      "[22]\ttraining's l1: 2.65094\tvalid_1's l1: 1.77139"
     ]
    },
    {
     "name": "stderr",
     "output_type": "stream",
     "text": [
      "\u001b[32m[I 2021-07-29 23:45:24,271]\u001b[0m Trial 79 finished with value: -1.7713850406210025 and parameters: {'max_depth': 6, 'min_child_weight': 9, 'subsample': 0.5, 'colsample_bytree': 0.6, 'reg_lambda': 0.017942792593804786, 'reg_alpha': 0.004584369789443877, 'feature_fraction': 0.4332797821533835, 'bagging_fraction': 0.9284084179518143, 'bagging_freq': 17, 'num_leaves': 642, 'min_child_samples': 75}. Best is trial 55 with value: -1.7609064856675751.\u001b[0m\n"
     ]
    },
    {
     "name": "stdout",
     "output_type": "stream",
     "text": [
      "\n",
      "[LightGBM] [Warning] feature_fraction is set=0.5838247101535712, colsample_bytree=0.7 will be ignored. Current value: feature_fraction=0.5838247101535712\n",
      "[LightGBM] [Warning] bagging_fraction is set=0.9991143137806022, subsample=0.6 will be ignored. Current value: bagging_fraction=0.9991143137806022\n",
      "[LightGBM] [Warning] bagging_freq is set=20, subsample_freq=0 will be ignored. Current value: bagging_freq=20\n",
      "Training until validation scores don't improve for 100 rounds\n",
      "[100]\ttraining's l1: 2.51733\tvalid_1's l1: 1.79042\n"
     ]
    },
    {
     "name": "stderr",
     "output_type": "stream",
     "text": [
      "\u001b[32m[I 2021-07-29 23:45:27,052]\u001b[0m Trial 80 finished with value: -1.764564554139897 and parameters: {'max_depth': 9, 'min_child_weight': 7, 'subsample': 0.6, 'colsample_bytree': 0.7, 'reg_lambda': 0.003644251605516175, 'reg_alpha': 0.0025407327956827775, 'feature_fraction': 0.5838247101535712, 'bagging_fraction': 0.9991143137806022, 'bagging_freq': 20, 'num_leaves': 235, 'min_child_samples': 83}. Best is trial 55 with value: -1.7609064856675751.\u001b[0m\n"
     ]
    },
    {
     "name": "stdout",
     "output_type": "stream",
     "text": [
      "Early stopping, best iteration is:\n",
      "[18]\ttraining's l1: 2.6044\tvalid_1's l1: 1.76458\n",
      "[LightGBM] [Warning] feature_fraction is set=0.47337994807065065, colsample_bytree=0.6 will be ignored. Current value: feature_fraction=0.47337994807065065\n",
      "[LightGBM] [Warning] bagging_fraction is set=0.849993526318436, subsample=0.5 will be ignored. Current value: bagging_fraction=0.849993526318436\n",
      "[LightGBM] [Warning] bagging_freq is set=18, subsample_freq=0 will be ignored. Current value: bagging_freq=18\n",
      "Training until validation scores don't improve for 100 rounds\n",
      "[100]\ttraining's l1: 2.5409\tvalid_1's l1: 1.79312\n",
      "Early stopping, best iteration is:\n",
      "[16]\ttraining's l1: 2.63182\tvalid_1's l1: 1.76453\n"
     ]
    },
    {
     "name": "stderr",
     "output_type": "stream",
     "text": [
      "\u001b[32m[I 2021-07-29 23:45:29,122]\u001b[0m Trial 81 finished with value: -1.7645317610497608 and parameters: {'max_depth': 8, 'min_child_weight': 4, 'subsample': 0.5, 'colsample_bytree': 0.6, 'reg_lambda': 0.0022699231802280695, 'reg_alpha': 0.001439129224645348, 'feature_fraction': 0.47337994807065065, 'bagging_fraction': 0.849993526318436, 'bagging_freq': 18, 'num_leaves': 563, 'min_child_samples': 62}. Best is trial 55 with value: -1.7609064856675751.\u001b[0m\n"
     ]
    },
    {
     "name": "stdout",
     "output_type": "stream",
     "text": [
      "[LightGBM] [Warning] feature_fraction is set=0.49924198521336083, colsample_bytree=0.6 will be ignored. Current value: feature_fraction=0.49924198521336083\n",
      "[LightGBM] [Warning] bagging_fraction is set=0.8713199715201668, subsample=0.5 will be ignored. Current value: bagging_fraction=0.8713199715201668\n",
      "[LightGBM] [Warning] bagging_freq is set=19, subsample_freq=0 will be ignored. Current value: bagging_freq=19\n",
      "Training until validation scores don't improve for 100 rounds\n",
      "[100]\ttraining's l1: 2.56085\tvalid_1's l1: 1.77814\n"
     ]
    },
    {
     "name": "stderr",
     "output_type": "stream",
     "text": [
      "\u001b[32m[I 2021-07-29 23:45:31,061]\u001b[0m Trial 82 finished with value: -1.7611500915965552 and parameters: {'max_depth': 7, 'min_child_weight': 5, 'subsample': 0.5, 'colsample_bytree': 0.6, 'reg_lambda': 0.0010210446532720814, 'reg_alpha': 0.002042272258987394, 'feature_fraction': 0.49924198521336083, 'bagging_fraction': 0.8713199715201668, 'bagging_freq': 19, 'num_leaves': 526, 'min_child_samples': 69}. Best is trial 55 with value: -1.7609064856675751.\u001b[0m\n"
     ]
    },
    {
     "name": "stdout",
     "output_type": "stream",
     "text": [
      "Early stopping, best iteration is:\n",
      "[19]\ttraining's l1: 2.63409\tvalid_1's l1: 1.76115\n",
      "[LightGBM] [Warning] feature_fraction is set=0.5015658386159982, colsample_bytree=0.6 will be ignored. Current value: feature_fraction=0.5015658386159982\n",
      "[LightGBM] [Warning] bagging_fraction is set=0.8993019403789505, subsample=0.5 will be ignored. Current value: bagging_fraction=0.8993019403789505\n",
      "[LightGBM] [Warning] bagging_freq is set=19, subsample_freq=0 will be ignored. Current value: bagging_freq=19\n",
      "Training until validation scores don't improve for 100 rounds\n",
      "[100]\ttraining's l1: 2.57283\tvalid_1's l1: 1.78369\n"
     ]
    },
    {
     "name": "stderr",
     "output_type": "stream",
     "text": [
      "\u001b[32m[I 2021-07-29 23:45:33,036]\u001b[0m Trial 83 finished with value: -1.7670614100147986 and parameters: {'max_depth': 7, 'min_child_weight': 5, 'subsample': 0.5, 'colsample_bytree': 0.6, 'reg_lambda': 0.0014297247219532147, 'reg_alpha': 0.009001927176485056, 'feature_fraction': 0.5015658386159982, 'bagging_fraction': 0.8993019403789505, 'bagging_freq': 19, 'num_leaves': 79, 'min_child_samples': 66}. Best is trial 55 with value: -1.7609064856675751.\u001b[0m\n"
     ]
    },
    {
     "name": "stdout",
     "output_type": "stream",
     "text": [
      "Early stopping, best iteration is:\n",
      "[24]\ttraining's l1: 2.63314\tvalid_1's l1: 1.76706\n",
      "[LightGBM] [Warning] feature_fraction is set=0.5596631623260712, colsample_bytree=0.6 will be ignored. Current value: feature_fraction=0.5596631623260712\n",
      "[LightGBM] [Warning] bagging_fraction is set=0.981716909364384, subsample=0.5 will be ignored. Current value: bagging_fraction=0.981716909364384\n",
      "[LightGBM] [Warning] bagging_freq is set=20, subsample_freq=0 will be ignored. Current value: bagging_freq=20\n",
      "Training until validation scores don't improve for 100 rounds\n",
      "[100]\ttraining's l1: 2.5804\tvalid_1's l1: 1.7781\n"
     ]
    },
    {
     "name": "stderr",
     "output_type": "stream",
     "text": [
      "\u001b[32m[I 2021-07-29 23:45:35,072]\u001b[0m Trial 84 finished with value: -1.7635511215696955 and parameters: {'max_depth': 6, 'min_child_weight': 6, 'subsample': 0.5, 'colsample_bytree': 0.6, 'reg_lambda': 0.007267240726392782, 'reg_alpha': 0.004663824717202339, 'feature_fraction': 0.5596631623260712, 'bagging_fraction': 0.981716909364384, 'bagging_freq': 20, 'num_leaves': 515, 'min_child_samples': 70}. Best is trial 55 with value: -1.7609064856675751.\u001b[0m\n"
     ]
    },
    {
     "name": "stdout",
     "output_type": "stream",
     "text": [
      "Early stopping, best iteration is:\n",
      "[23]\ttraining's l1: 2.64241\tvalid_1's l1: 1.76355\n",
      "[LightGBM] [Warning] feature_fraction is set=0.2951438582940817, colsample_bytree=0.5 will be ignored. Current value: feature_fraction=0.2951438582940817\n",
      "[LightGBM] [Warning] bagging_fraction is set=0.954960224671135, subsample=0.5 will be ignored. Current value: bagging_fraction=0.954960224671135\n",
      "[LightGBM] [Warning] bagging_freq is set=17, subsample_freq=0 will be ignored. Current value: bagging_freq=17\n",
      "Training until validation scores don't improve for 100 rounds\n",
      "[100]\ttraining's l1: 2.53215\tvalid_1's l1: 1.79429\n"
     ]
    },
    {
     "name": "stderr",
     "output_type": "stream",
     "text": [
      "\u001b[32m[I 2021-07-29 23:45:37,178]\u001b[0m Trial 85 finished with value: -1.7696921124488774 and parameters: {'max_depth': 9, 'min_child_weight': 3, 'subsample': 0.5, 'colsample_bytree': 0.5, 'reg_lambda': 0.01181533673154561, 'reg_alpha': 0.0022038694050572427, 'feature_fraction': 0.2951438582940817, 'bagging_fraction': 0.954960224671135, 'bagging_freq': 17, 'num_leaves': 468, 'min_child_samples': 79}. Best is trial 55 with value: -1.7609064856675751.\u001b[0m\n"
     ]
    },
    {
     "name": "stdout",
     "output_type": "stream",
     "text": [
      "Early stopping, best iteration is:\n",
      "[18]\ttraining's l1: 2.61877\tvalid_1's l1: 1.76969\n",
      "[LightGBM] [Warning] feature_fraction is set=0.5266195323088254, colsample_bytree=0.6 will be ignored. Current value: feature_fraction=0.5266195323088254\n",
      "[LightGBM] [Warning] bagging_fraction is set=0.8791204332702245, subsample=0.5 will be ignored. Current value: bagging_fraction=0.8791204332702245\n",
      "[LightGBM] [Warning] bagging_freq is set=19, subsample_freq=0 will be ignored. Current value: bagging_freq=19\n",
      "Training until validation scores don't improve for 100 rounds\n",
      "[100]\ttraining's l1: 2.55866\tvalid_1's l1: 1.77669\n"
     ]
    },
    {
     "name": "stderr",
     "output_type": "stream",
     "text": [
      "\u001b[32m[I 2021-07-29 23:45:39,160]\u001b[0m Trial 86 finished with value: -1.758952169856537 and parameters: {'max_depth': 7, 'min_child_weight': 4, 'subsample': 0.5, 'colsample_bytree': 0.6, 'reg_lambda': 0.0010346852415822872, 'reg_alpha': 0.014455742502665028, 'feature_fraction': 0.5266195323088254, 'bagging_fraction': 0.8791204332702245, 'bagging_freq': 19, 'num_leaves': 339, 'min_child_samples': 76}. Best is trial 86 with value: -1.758952169856537.\u001b[0m\n"
     ]
    },
    {
     "name": "stdout",
     "output_type": "stream",
     "text": [
      "Early stopping, best iteration is:\n",
      "[18]\ttraining's l1: 2.63317\tvalid_1's l1: 1.75895\n",
      "[LightGBM] [Warning] feature_fraction is set=0.5254365455118909, colsample_bytree=0.6 will be ignored. Current value: feature_fraction=0.5254365455118909\n",
      "[LightGBM] [Warning] bagging_fraction is set=0.8128198440884489, subsample=0.5 will be ignored. Current value: bagging_fraction=0.8128198440884489\n",
      "[LightGBM] [Warning] bagging_freq is set=19, subsample_freq=0 will be ignored. Current value: bagging_freq=19\n",
      "Training until validation scores don't improve for 100 rounds\n",
      "[100]\ttraining's l1: 2.56373\tvalid_1's l1: 1.78399\n"
     ]
    },
    {
     "name": "stderr",
     "output_type": "stream",
     "text": [
      "\u001b[32m[I 2021-07-29 23:45:41,102]\u001b[0m Trial 87 finished with value: -1.7605027936820863 and parameters: {'max_depth': 7, 'min_child_weight': 4, 'subsample': 0.5, 'colsample_bytree': 0.6, 'reg_lambda': 0.001046743357056257, 'reg_alpha': 0.003022720683204228, 'feature_fraction': 0.5254365455118909, 'bagging_fraction': 0.8128198440884489, 'bagging_freq': 19, 'num_leaves': 352, 'min_child_samples': 80}. Best is trial 86 with value: -1.758952169856537.\u001b[0m\n"
     ]
    },
    {
     "name": "stdout",
     "output_type": "stream",
     "text": [
      "Early stopping, best iteration is:\n",
      "[24]\ttraining's l1: 2.61777\tvalid_1's l1: 1.76051\n",
      "[LightGBM] [Warning] feature_fraction is set=0.5167550510301385, colsample_bytree=0.6 will be ignored. Current value: feature_fraction=0.5167550510301385\n",
      "[LightGBM] [Warning] bagging_fraction is set=0.808140653704349, subsample=0.5 will be ignored. Current value: bagging_fraction=0.808140653704349\n",
      "[LightGBM] [Warning] bagging_freq is set=19, subsample_freq=0 will be ignored. Current value: bagging_freq=19\n",
      "Training until validation scores don't improve for 100 rounds\n",
      "[100]\ttraining's l1: 2.62972\tvalid_1's l1: 1.77303\n"
     ]
    },
    {
     "name": "stderr",
     "output_type": "stream",
     "text": [
      "\u001b[32m[I 2021-07-29 23:45:43,060]\u001b[0m Trial 88 finished with value: -1.770412354197366 and parameters: {'max_depth': 4, 'min_child_weight': 5, 'subsample': 0.5, 'colsample_bytree': 0.6, 'reg_lambda': 0.0011001976009763841, 'reg_alpha': 0.0010843245507016913, 'feature_fraction': 0.5167550510301385, 'bagging_fraction': 0.808140653704349, 'bagging_freq': 19, 'num_leaves': 195, 'min_child_samples': 80}. Best is trial 86 with value: -1.758952169856537.\u001b[0m\n"
     ]
    },
    {
     "name": "stdout",
     "output_type": "stream",
     "text": [
      "Early stopping, best iteration is:\n",
      "[81]\ttraining's l1: 2.63538\tvalid_1's l1: 1.77043\n",
      "[LightGBM] [Warning] feature_fraction is set=0.4807158465296082, colsample_bytree=0.6 will be ignored. Current value: feature_fraction=0.4807158465296082\n",
      "[LightGBM] [Warning] bagging_fraction is set=0.8754179537155696, subsample=0.5 will be ignored. Current value: bagging_fraction=0.8754179537155696\n",
      "[LightGBM] [Warning] bagging_freq is set=18, subsample_freq=0 will be ignored. Current value: bagging_freq=18\n",
      "Training until validation scores don't improve for 100 rounds\n",
      "[100]\ttraining's l1: 2.56036\tvalid_1's l1: 1.78037\n"
     ]
    },
    {
     "name": "stderr",
     "output_type": "stream",
     "text": [
      "\u001b[32m[I 2021-07-29 23:45:44,989]\u001b[0m Trial 89 finished with value: -1.7645669050414916 and parameters: {'max_depth': 7, 'min_child_weight': 3, 'subsample': 0.5, 'colsample_bytree': 0.6, 'reg_lambda': 0.04359152399152529, 'reg_alpha': 0.002997793423649108, 'feature_fraction': 0.4807158465296082, 'bagging_fraction': 0.8754179537155696, 'bagging_freq': 18, 'num_leaves': 295, 'min_child_samples': 88}. Best is trial 86 with value: -1.758952169856537.\u001b[0m\n"
     ]
    },
    {
     "name": "stdout",
     "output_type": "stream",
     "text": [
      "Early stopping, best iteration is:\n",
      "[23]\ttraining's l1: 2.62019\tvalid_1's l1: 1.76457\n",
      "[LightGBM] [Warning] feature_fraction is set=0.45447335778924464, colsample_bytree=0.7 will be ignored. Current value: feature_fraction=0.45447335778924464\n",
      "[LightGBM] [Warning] bagging_fraction is set=0.7944043714832139, subsample=0.5 will be ignored. Current value: bagging_fraction=0.7944043714832139\n",
      "[LightGBM] [Warning] bagging_freq is set=19, subsample_freq=0 will be ignored. Current value: bagging_freq=19\n",
      "Training until validation scores don't improve for 100 rounds\n",
      "[100]\ttraining's l1: 2.60381\tvalid_1's l1: 1.77819\n"
     ]
    },
    {
     "name": "stderr",
     "output_type": "stream",
     "text": [
      "\u001b[32m[I 2021-07-29 23:45:46,629]\u001b[0m Trial 90 finished with value: -1.7661528360934893 and parameters: {'max_depth': 5, 'min_child_weight': 4, 'subsample': 0.5, 'colsample_bytree': 0.7, 'reg_lambda': 0.0010028664457189813, 'reg_alpha': 0.0015777695153395878, 'feature_fraction': 0.45447335778924464, 'bagging_fraction': 0.7944043714832139, 'bagging_freq': 19, 'num_leaves': 250, 'min_child_samples': 77}. Best is trial 86 with value: -1.758952169856537.\u001b[0m\n"
     ]
    },
    {
     "name": "stdout",
     "output_type": "stream",
     "text": [
      "Early stopping, best iteration is:\n",
      "[35]\ttraining's l1: 2.64354\tvalid_1's l1: 1.76616\n",
      "[LightGBM] [Warning] feature_fraction is set=0.5280973140302903, colsample_bytree=0.6 will be ignored. Current value: feature_fraction=0.5280973140302903\n",
      "[LightGBM] [Warning] bagging_fraction is set=0.8942033522244951, subsample=0.5 will be ignored. Current value: bagging_fraction=0.8942033522244951\n",
      "[LightGBM] [Warning] bagging_freq is set=20, subsample_freq=0 will be ignored. Current value: bagging_freq=20\n",
      "Training until validation scores don't improve for 100 rounds\n",
      "[100]\ttraining's l1: 2.57993\tvalid_1's l1: 1.77426\n"
     ]
    },
    {
     "name": "stderr",
     "output_type": "stream",
     "text": [
      "\u001b[32m[I 2021-07-29 23:45:48,465]\u001b[0m Trial 91 finished with value: -1.7681607032053162 and parameters: {'max_depth': 6, 'min_child_weight': 4, 'subsample': 0.5, 'colsample_bytree': 0.6, 'reg_lambda': 0.0015642704539580523, 'reg_alpha': 0.0059582466592300746, 'feature_fraction': 0.5280973140302903, 'bagging_fraction': 0.8942033522244951, 'bagging_freq': 20, 'num_leaves': 336, 'min_child_samples': 74}. Best is trial 86 with value: -1.758952169856537.\u001b[0m\n"
     ]
    },
    {
     "name": "stdout",
     "output_type": "stream",
     "text": [
      "Early stopping, best iteration is:\n",
      "[20]\ttraining's l1: 2.64676\tvalid_1's l1: 1.76816\n",
      "[LightGBM] [Warning] feature_fraction is set=0.5599219387881079, colsample_bytree=0.6 will be ignored. Current value: feature_fraction=0.5599219387881079\n",
      "[LightGBM] [Warning] bagging_fraction is set=0.7775404302421175, subsample=0.5 will be ignored. Current value: bagging_fraction=0.7775404302421175\n",
      "[LightGBM] [Warning] bagging_freq is set=19, subsample_freq=0 will be ignored. Current value: bagging_freq=19\n",
      "Training until validation scores don't improve for 100 rounds\n",
      "[100]\ttraining's l1: 2.5887\tvalid_1's l1: 1.77985\n"
     ]
    },
    {
     "name": "stderr",
     "output_type": "stream",
     "text": [
      "\u001b[32m[I 2021-07-29 23:45:50,248]\u001b[0m Trial 92 finished with value: -1.7680099396589488 and parameters: {'max_depth': 6, 'min_child_weight': 5, 'subsample': 0.5, 'colsample_bytree': 0.6, 'reg_lambda': 0.004986745250909635, 'reg_alpha': 0.009789694204215254, 'feature_fraction': 0.5599219387881079, 'bagging_fraction': 0.7775404302421175, 'bagging_freq': 19, 'num_leaves': 369, 'min_child_samples': 85}. Best is trial 86 with value: -1.758952169856537.\u001b[0m\n"
     ]
    },
    {
     "name": "stdout",
     "output_type": "stream",
     "text": [
      "Early stopping, best iteration is:\n",
      "[21]\ttraining's l1: 2.65163\tvalid_1's l1: 1.76801\n",
      "[LightGBM] [Warning] feature_fraction is set=0.4936265335572877, colsample_bytree=0.6 will be ignored. Current value: feature_fraction=0.4936265335572877\n",
      "[LightGBM] [Warning] bagging_fraction is set=0.8400672307208538, subsample=0.5 will be ignored. Current value: bagging_fraction=0.8400672307208538\n",
      "[LightGBM] [Warning] bagging_freq is set=20, subsample_freq=0 will be ignored. Current value: bagging_freq=20\n",
      "Training until validation scores don't improve for 100 rounds\n",
      "[100]\ttraining's l1: 2.5574\tvalid_1's l1: 1.77737\n"
     ]
    },
    {
     "name": "stderr",
     "output_type": "stream",
     "text": [
      "\u001b[32m[I 2021-07-29 23:45:52,160]\u001b[0m Trial 93 finished with value: -1.7618054109952783 and parameters: {'max_depth': 7, 'min_child_weight': 3, 'subsample': 0.5, 'colsample_bytree': 0.6, 'reg_lambda': 0.0017158282057807865, 'reg_alpha': 0.01606358958948718, 'feature_fraction': 0.4936265335572877, 'bagging_fraction': 0.8400672307208538, 'bagging_freq': 20, 'num_leaves': 443, 'min_child_samples': 37}. Best is trial 86 with value: -1.758952169856537.\u001b[0m\n"
     ]
    },
    {
     "name": "stdout",
     "output_type": "stream",
     "text": [
      "Early stopping, best iteration is:\n",
      "[20]\ttraining's l1: 2.63126\tvalid_1's l1: 1.76181\n",
      "[LightGBM] [Warning] feature_fraction is set=0.5094949031791829, colsample_bytree=0.6 will be ignored. Current value: feature_fraction=0.5094949031791829\n",
      "[LightGBM] [Warning] bagging_fraction is set=0.8244774744463115, subsample=0.5 will be ignored. Current value: bagging_fraction=0.8244774744463115\n",
      "[LightGBM] [Warning] bagging_freq is set=17, subsample_freq=0 will be ignored. Current value: bagging_freq=17\n",
      "Training until validation scores don't improve for 100 rounds\n",
      "[100]\ttraining's l1: 2.55854\tvalid_1's l1: 1.77482\n"
     ]
    },
    {
     "name": "stderr",
     "output_type": "stream",
     "text": [
      "\u001b[32m[I 2021-07-29 23:45:54,072]\u001b[0m Trial 94 finished with value: -1.7610854005349712 and parameters: {'max_depth': 7, 'min_child_weight': 3, 'subsample': 0.5, 'colsample_bytree': 0.6, 'reg_lambda': 0.0033222148308159876, 'reg_alpha': 0.014418419136349616, 'feature_fraction': 0.5094949031791829, 'bagging_fraction': 0.8244774744463115, 'bagging_freq': 17, 'num_leaves': 443, 'min_child_samples': 50}. Best is trial 86 with value: -1.758952169856537.\u001b[0m\n"
     ]
    },
    {
     "name": "stdout",
     "output_type": "stream",
     "text": [
      "Early stopping, best iteration is:\n",
      "[20]\ttraining's l1: 2.62992\tvalid_1's l1: 1.76109\n",
      "[LightGBM] [Warning] feature_fraction is set=0.49883003593783987, colsample_bytree=0.6 will be ignored. Current value: feature_fraction=0.49883003593783987\n",
      "[LightGBM] [Warning] bagging_fraction is set=0.83495065552565, subsample=0.5 will be ignored. Current value: bagging_fraction=0.83495065552565\n",
      "[LightGBM] [Warning] bagging_freq is set=17, subsample_freq=0 will be ignored. Current value: bagging_freq=17\n",
      "Training until validation scores don't improve for 100 rounds\n",
      "[100]\ttraining's l1: 2.54716\tvalid_1's l1: 1.78934\n"
     ]
    },
    {
     "name": "stderr",
     "output_type": "stream",
     "text": [
      "\u001b[32m[I 2021-07-29 23:45:56,059]\u001b[0m Trial 95 finished with value: -1.763800315155373 and parameters: {'max_depth': 7, 'min_child_weight': 3, 'subsample': 0.5, 'colsample_bytree': 0.6, 'reg_lambda': 0.003126011205869867, 'reg_alpha': 0.02983099172064221, 'feature_fraction': 0.49883003593783987, 'bagging_fraction': 0.83495065552565, 'bagging_freq': 17, 'num_leaves': 483, 'min_child_samples': 30}. Best is trial 86 with value: -1.758952169856537.\u001b[0m\n"
     ]
    },
    {
     "name": "stdout",
     "output_type": "stream",
     "text": [
      "Early stopping, best iteration is:\n",
      "[25]\ttraining's l1: 2.61128\tvalid_1's l1: 1.76381\n",
      "[LightGBM] [Warning] feature_fraction is set=0.43456991841130077, colsample_bytree=0.6 will be ignored. Current value: feature_fraction=0.43456991841130077\n",
      "[LightGBM] [Warning] bagging_fraction is set=0.8180510648530365, subsample=0.5 will be ignored. Current value: bagging_fraction=0.8180510648530365\n",
      "[LightGBM] [Warning] bagging_freq is set=16, subsample_freq=0 will be ignored. Current value: bagging_freq=16\n",
      "Training until validation scores don't improve for 100 rounds\n",
      "[100]\ttraining's l1: 2.55313\tvalid_1's l1: 1.80236\n"
     ]
    },
    {
     "name": "stderr",
     "output_type": "stream",
     "text": [
      "\u001b[32m[I 2021-07-29 23:45:57,899]\u001b[0m Trial 96 finished with value: -1.7659486279484533 and parameters: {'max_depth': 7, 'min_child_weight': 2, 'subsample': 0.5, 'colsample_bytree': 0.6, 'reg_lambda': 0.006602824182809308, 'reg_alpha': 0.019185568151325452, 'feature_fraction': 0.43456991841130077, 'bagging_fraction': 0.8180510648530365, 'bagging_freq': 16, 'num_leaves': 442, 'min_child_samples': 48}. Best is trial 86 with value: -1.758952169856537.\u001b[0m\n"
     ]
    },
    {
     "name": "stdout",
     "output_type": "stream",
     "text": [
      "Early stopping, best iteration is:\n",
      "[22]\ttraining's l1: 2.62865\tvalid_1's l1: 1.76595\n",
      "[LightGBM] [Warning] feature_fraction is set=0.5120792746883799, colsample_bytree=0.6 will be ignored. Current value: feature_fraction=0.5120792746883799\n",
      "[LightGBM] [Warning] bagging_fraction is set=0.8720640912873578, subsample=0.5 will be ignored. Current value: bagging_fraction=0.8720640912873578\n",
      "[LightGBM] [Warning] bagging_freq is set=18, subsample_freq=0 will be ignored. Current value: bagging_freq=18\n",
      "Training until validation scores don't improve for 100 rounds\n",
      "[100]\ttraining's l1: 2.59558\tvalid_1's l1: 1.78353\n"
     ]
    },
    {
     "name": "stderr",
     "output_type": "stream",
     "text": [
      "\u001b[32m[I 2021-07-29 23:45:59,733]\u001b[0m Trial 97 finished with value: -1.7688394949596977 and parameters: {'max_depth': 5, 'min_child_weight': 4, 'subsample': 0.5, 'colsample_bytree': 0.6, 'reg_lambda': 0.01017521819420444, 'reg_alpha': 0.06909989507310442, 'feature_fraction': 0.5120792746883799, 'bagging_fraction': 0.8720640912873578, 'bagging_freq': 18, 'num_leaves': 597, 'min_child_samples': 42}. Best is trial 86 with value: -1.758952169856537.\u001b[0m\n"
     ]
    },
    {
     "name": "stdout",
     "output_type": "stream",
     "text": [
      "Early stopping, best iteration is:\n",
      "[41]\ttraining's l1: 2.63842\tvalid_1's l1: 1.76884\n",
      "[LightGBM] [Warning] feature_fraction is set=0.4892819398238119, colsample_bytree=0.6 will be ignored. Current value: feature_fraction=0.4892819398238119\n",
      "[LightGBM] [Warning] bagging_fraction is set=0.8320100642049798, subsample=0.5 will be ignored. Current value: bagging_fraction=0.8320100642049798\n",
      "[LightGBM] [Warning] bagging_freq is set=16, subsample_freq=0 will be ignored. Current value: bagging_freq=16\n",
      "Training until validation scores don't improve for 100 rounds\n",
      "[100]\ttraining's l1: 2.57875\tvalid_1's l1: 1.77362\n"
     ]
    },
    {
     "name": "stderr",
     "output_type": "stream",
     "text": [
      "\u001b[32m[I 2021-07-29 23:46:01,580]\u001b[0m Trial 98 finished with value: -1.7652285788406656 and parameters: {'max_depth': 6, 'min_child_weight': 3, 'subsample': 0.5, 'colsample_bytree': 0.6, 'reg_lambda': 0.004438052783670889, 'reg_alpha': 0.013106976379493925, 'feature_fraction': 0.4892819398238119, 'bagging_fraction': 0.8320100642049798, 'bagging_freq': 16, 'num_leaves': 521, 'min_child_samples': 40}. Best is trial 86 with value: -1.758952169856537.\u001b[0m\n"
     ]
    },
    {
     "name": "stdout",
     "output_type": "stream",
     "text": [
      "Early stopping, best iteration is:\n",
      "[29]\ttraining's l1: 2.63112\tvalid_1's l1: 1.76523\n",
      "[LightGBM] [Warning] feature_fraction is set=0.5895246932774714, colsample_bytree=0.6 will be ignored. Current value: feature_fraction=0.5895246932774714\n",
      "[LightGBM] [Warning] bagging_fraction is set=0.9306907492562224, subsample=0.5 will be ignored. Current value: bagging_fraction=0.9306907492562224\n",
      "[LightGBM] [Warning] bagging_freq is set=18, subsample_freq=0 will be ignored. Current value: bagging_freq=18\n",
      "Training until validation scores don't improve for 100 rounds\n",
      "[100]\ttraining's l1: 2.54426\tvalid_1's l1: 1.79081\n"
     ]
    },
    {
     "name": "stderr",
     "output_type": "stream",
     "text": [
      "\u001b[32m[I 2021-07-29 23:46:03,960]\u001b[0m Trial 99 finished with value: -1.7641144687320682 and parameters: {'max_depth': 7, 'min_child_weight': 2, 'subsample': 0.5, 'colsample_bytree': 0.6, 'reg_lambda': 0.01803721199272476, 'reg_alpha': 0.015507014996276023, 'feature_fraction': 0.5895246932774714, 'bagging_fraction': 0.9306907492562224, 'bagging_freq': 18, 'num_leaves': 454, 'min_child_samples': 24}. Best is trial 86 with value: -1.758952169856537.\u001b[0m\n",
      "\u001b[32m[I 2021-07-29 23:46:03,961]\u001b[0m A new study created in memory with name: no-name-94f317ec-4018-4eb4-a387-53341e95ab28\u001b[0m\n"
     ]
    },
    {
     "name": "stdout",
     "output_type": "stream",
     "text": [
      "Early stopping, best iteration is:\n",
      "[32]\ttraining's l1: 2.60288\tvalid_1's l1: 1.76412\n",
      "[LightGBM] [Warning] feature_fraction is set=0.9469540333688871, colsample_bytree=0.6 will be ignored. Current value: feature_fraction=0.9469540333688871\n",
      "[LightGBM] [Warning] bagging_fraction is set=0.5743903937130974, subsample=0.7 will be ignored. Current value: bagging_fraction=0.5743903937130974\n",
      "[LightGBM] [Warning] bagging_freq is set=1, subsample_freq=0 will be ignored. Current value: bagging_freq=1\n",
      "Training until validation scores don't improve for 100 rounds\n",
      "[100]\ttraining's l1: 1.97479\tvalid_1's l1: 2.15292\n"
     ]
    },
    {
     "name": "stderr",
     "output_type": "stream",
     "text": [
      "\u001b[32m[I 2021-07-29 23:46:05,859]\u001b[0m Trial 0 finished with value: -2.1403846168084346 and parameters: {'max_depth': 16, 'min_child_weight': 1, 'subsample': 0.7, 'colsample_bytree': 0.6, 'reg_lambda': 0.025395235050125302, 'reg_alpha': 0.8561972530554444, 'feature_fraction': 0.9469540333688871, 'bagging_fraction': 0.5743903937130974, 'bagging_freq': 1, 'num_leaves': 32, 'min_child_samples': 15}. Best is trial 0 with value: -2.1403846168084346.\u001b[0m\n"
     ]
    },
    {
     "name": "stdout",
     "output_type": "stream",
     "text": [
      "Early stopping, best iteration is:\n",
      "[52]\ttraining's l1: 2.06855\tvalid_1's l1: 2.14049\n",
      "[LightGBM] [Warning] feature_fraction is set=0.2433199972016115, colsample_bytree=0.9 will be ignored. Current value: feature_fraction=0.2433199972016115\n",
      "[LightGBM] [Warning] bagging_fraction is set=0.3322154550695462, subsample=0.7 will be ignored. Current value: bagging_fraction=0.3322154550695462\n",
      "[LightGBM] [Warning] bagging_freq is set=17, subsample_freq=0 will be ignored. Current value: bagging_freq=17\n",
      "Training until validation scores don't improve for 100 rounds\n",
      "[100]\ttraining's l1: 2.15743\tvalid_1's l1: 2.13904\n"
     ]
    },
    {
     "name": "stderr",
     "output_type": "stream",
     "text": [
      "\u001b[32m[I 2021-07-29 23:46:07,109]\u001b[0m Trial 1 finished with value: -2.1370826223961186 and parameters: {'max_depth': 3, 'min_child_weight': 3, 'subsample': 0.7, 'colsample_bytree': 0.9, 'reg_lambda': 0.07777000668537207, 'reg_alpha': 0.0018164707406988143, 'feature_fraction': 0.2433199972016115, 'bagging_fraction': 0.3322154550695462, 'bagging_freq': 17, 'num_leaves': 433, 'min_child_samples': 21}. Best is trial 1 with value: -2.1370826223961186.\u001b[0m\n"
     ]
    },
    {
     "name": "stdout",
     "output_type": "stream",
     "text": [
      "[200]\ttraining's l1: 2.10677\tvalid_1's l1: 2.14565\n",
      "Early stopping, best iteration is:\n",
      "[119]\ttraining's l1: 2.14704\tvalid_1's l1: 2.1371\n",
      "[LightGBM] [Warning] feature_fraction is set=0.595545178169459, colsample_bytree=0.5 will be ignored. Current value: feature_fraction=0.595545178169459\n",
      "[LightGBM] [Warning] bagging_fraction is set=0.40178303002407295, subsample=0.8 will be ignored. Current value: bagging_fraction=0.40178303002407295\n",
      "[LightGBM] [Warning] bagging_freq is set=13, subsample_freq=0 will be ignored. Current value: bagging_freq=13\n",
      "Training until validation scores don't improve for 100 rounds\n",
      "[100]\ttraining's l1: 1.98747\tvalid_1's l1: 2.15563\n"
     ]
    },
    {
     "name": "stderr",
     "output_type": "stream",
     "text": [
      "\u001b[32m[I 2021-07-29 23:46:08,722]\u001b[0m Trial 2 finished with value: -2.1425014473729136 and parameters: {'max_depth': 6, 'min_child_weight': 5, 'subsample': 0.8, 'colsample_bytree': 0.5, 'reg_lambda': 61.39452902848226, 'reg_alpha': 0.028685252357020827, 'feature_fraction': 0.595545178169459, 'bagging_fraction': 0.40178303002407295, 'bagging_freq': 13, 'num_leaves': 334, 'min_child_samples': 57}. Best is trial 1 with value: -2.1370826223961186.\u001b[0m\n"
     ]
    },
    {
     "name": "stdout",
     "output_type": "stream",
     "text": [
      "Early stopping, best iteration is:\n",
      "[40]\ttraining's l1: 2.09707\tvalid_1's l1: 2.1425\n",
      "[LightGBM] [Warning] feature_fraction is set=0.8936265583930385, colsample_bytree=0.7 will be ignored. Current value: feature_fraction=0.8936265583930385\n",
      "[LightGBM] [Warning] bagging_fraction is set=0.9007029620590152, subsample=0.7 will be ignored. Current value: bagging_fraction=0.9007029620590152\n",
      "[LightGBM] [Warning] bagging_freq is set=6, subsample_freq=0 will be ignored. Current value: bagging_freq=6\n",
      "Training until validation scores don't improve for 100 rounds\n",
      "[100]\ttraining's l1: 1.67817\tvalid_1's l1: 2.20348\n"
     ]
    },
    {
     "name": "stderr",
     "output_type": "stream",
     "text": [
      "\u001b[32m[I 2021-07-29 23:46:15,721]\u001b[0m Trial 3 finished with value: -2.1541510659624223 and parameters: {'max_depth': 19, 'min_child_weight': 5, 'subsample': 0.7, 'colsample_bytree': 0.7, 'reg_lambda': 966.9034398256719, 'reg_alpha': 0.05278610716875258, 'feature_fraction': 0.8936265583930385, 'bagging_fraction': 0.9007029620590152, 'bagging_freq': 6, 'num_leaves': 656, 'min_child_samples': 59}. Best is trial 1 with value: -2.1370826223961186.\u001b[0m\n"
     ]
    },
    {
     "name": "stdout",
     "output_type": "stream",
     "text": [
      "Early stopping, best iteration is:\n",
      "[35]\ttraining's l1: 1.9172\tvalid_1's l1: 2.15417\n",
      "[LightGBM] [Warning] feature_fraction is set=0.9190845062238515, colsample_bytree=0.9 will be ignored. Current value: feature_fraction=0.9190845062238515\n",
      "[LightGBM] [Warning] bagging_fraction is set=0.752045736104445, subsample=0.9 will be ignored. Current value: bagging_fraction=0.752045736104445\n",
      "[LightGBM] [Warning] bagging_freq is set=5, subsample_freq=0 will be ignored. Current value: bagging_freq=5\n",
      "Training until validation scores don't improve for 100 rounds\n",
      "[100]\ttraining's l1: 1.60383\tvalid_1's l1: 2.2196\n"
     ]
    },
    {
     "name": "stderr",
     "output_type": "stream",
     "text": [
      "\u001b[32m[I 2021-07-29 23:46:21,443]\u001b[0m Trial 4 finished with value: -2.159793372812434 and parameters: {'max_depth': 19, 'min_child_weight': 14, 'subsample': 0.9, 'colsample_bytree': 0.9, 'reg_lambda': 0.006355001000035463, 'reg_alpha': 0.017631942721947912, 'feature_fraction': 0.9190845062238515, 'bagging_fraction': 0.752045736104445, 'bagging_freq': 5, 'num_leaves': 547, 'min_child_samples': 85}. Best is trial 1 with value: -2.1370826223961186.\u001b[0m\n"
     ]
    },
    {
     "name": "stdout",
     "output_type": "stream",
     "text": [
      "Early stopping, best iteration is:\n",
      "[24]\ttraining's l1: 1.89334\tvalid_1's l1: 2.15979\n",
      "[LightGBM] [Warning] feature_fraction is set=0.550360491653688, colsample_bytree=0.5 will be ignored. Current value: feature_fraction=0.550360491653688\n",
      "[LightGBM] [Warning] bagging_fraction is set=0.584603305885318, subsample=0.5 will be ignored. Current value: bagging_fraction=0.584603305885318\n",
      "[LightGBM] [Warning] bagging_freq is set=3, subsample_freq=0 will be ignored. Current value: bagging_freq=3\n",
      "Training until validation scores don't improve for 100 rounds\n",
      "[100]\ttraining's l1: 1.63527\tvalid_1's l1: 2.22399\n"
     ]
    },
    {
     "name": "stderr",
     "output_type": "stream",
     "text": [
      "\u001b[32m[I 2021-07-29 23:46:26,674]\u001b[0m Trial 5 finished with value: -2.1626782764831867 and parameters: {'max_depth': 19, 'min_child_weight': 5, 'subsample': 0.5, 'colsample_bytree': 0.5, 'reg_lambda': 0.003994874355003864, 'reg_alpha': 2.4608603542815004, 'feature_fraction': 0.550360491653688, 'bagging_fraction': 0.584603305885318, 'bagging_freq': 3, 'num_leaves': 687, 'min_child_samples': 84}. Best is trial 1 with value: -2.1370826223961186.\u001b[0m\n"
     ]
    },
    {
     "name": "stdout",
     "output_type": "stream",
     "text": [
      "Early stopping, best iteration is:\n",
      "[25]\ttraining's l1: 1.89827\tvalid_1's l1: 2.16268\n",
      "[LightGBM] [Warning] feature_fraction is set=0.6626387145816374, colsample_bytree=0.6 will be ignored. Current value: feature_fraction=0.6626387145816374\n",
      "[LightGBM] [Warning] bagging_fraction is set=0.36566366638113257, subsample=0.8 will be ignored. Current value: bagging_fraction=0.36566366638113257\n",
      "[LightGBM] [Warning] bagging_freq is set=20, subsample_freq=0 will be ignored. Current value: bagging_freq=20\n",
      "Training until validation scores don't improve for 100 rounds\n",
      "[100]\ttraining's l1: 1.76204\tvalid_1's l1: 2.20404\n"
     ]
    },
    {
     "name": "stderr",
     "output_type": "stream",
     "text": [
      "\u001b[32m[I 2021-07-29 23:46:29,116]\u001b[0m Trial 6 finished with value: -2.1529826571137303 and parameters: {'max_depth': 13, 'min_child_weight': 12, 'subsample': 0.8, 'colsample_bytree': 0.6, 'reg_lambda': 0.015543164893506793, 'reg_alpha': 0.055617928864757665, 'feature_fraction': 0.6626387145816374, 'bagging_fraction': 0.36566366638113257, 'bagging_freq': 20, 'num_leaves': 606, 'min_child_samples': 70}. Best is trial 1 with value: -2.1370826223961186.\u001b[0m\n"
     ]
    },
    {
     "name": "stdout",
     "output_type": "stream",
     "text": [
      "Early stopping, best iteration is:\n",
      "[25]\ttraining's l1: 1.96828\tvalid_1's l1: 2.15298\n",
      "[LightGBM] [Warning] feature_fraction is set=0.9946344154036613, colsample_bytree=0.8 will be ignored. Current value: feature_fraction=0.9946344154036613\n",
      "[LightGBM] [Warning] bagging_fraction is set=0.3362319731094351, subsample=0.6 will be ignored. Current value: bagging_fraction=0.3362319731094351\n",
      "[LightGBM] [Warning] bagging_freq is set=16, subsample_freq=0 will be ignored. Current value: bagging_freq=16\n",
      "Training until validation scores don't improve for 100 rounds\n",
      "[100]\ttraining's l1: 1.79049\tvalid_1's l1: 2.18893\n"
     ]
    },
    {
     "name": "stderr",
     "output_type": "stream",
     "text": [
      "\u001b[32m[I 2021-07-29 23:46:31,397]\u001b[0m Trial 7 finished with value: -2.155565111196297 and parameters: {'max_depth': 9, 'min_child_weight': 13, 'subsample': 0.6, 'colsample_bytree': 0.8, 'reg_lambda': 8.568935192818117, 'reg_alpha': 0.011432804474959521, 'feature_fraction': 0.9946344154036613, 'bagging_fraction': 0.3362319731094351, 'bagging_freq': 16, 'num_leaves': 651, 'min_child_samples': 33}. Best is trial 1 with value: -2.1370826223961186.\u001b[0m\n"
     ]
    },
    {
     "name": "stdout",
     "output_type": "stream",
     "text": [
      "Early stopping, best iteration is:\n",
      "[30]\ttraining's l1: 2.0017\tvalid_1's l1: 2.15557\n",
      "[LightGBM] [Warning] feature_fraction is set=0.574076701333275, colsample_bytree=0.5 will be ignored. Current value: feature_fraction=0.574076701333275\n",
      "[LightGBM] [Warning] bagging_fraction is set=0.5875530112355676, subsample=0.6 will be ignored. Current value: bagging_fraction=0.5875530112355676\n",
      "[LightGBM] [Warning] bagging_freq is set=5, subsample_freq=0 will be ignored. Current value: bagging_freq=5\n",
      "Training until validation scores don't improve for 100 rounds\n",
      "[100]\ttraining's l1: 1.77624\tvalid_1's l1: 2.19169\n"
     ]
    },
    {
     "name": "stderr",
     "output_type": "stream",
     "text": [
      "\u001b[32m[I 2021-07-29 23:46:35,740]\u001b[0m Trial 8 finished with value: -2.1542460842913647 and parameters: {'max_depth': 16, 'min_child_weight': 9, 'subsample': 0.6, 'colsample_bytree': 0.5, 'reg_lambda': 1.6489930315886137, 'reg_alpha': 46.11899155703742, 'feature_fraction': 0.574076701333275, 'bagging_fraction': 0.5875530112355676, 'bagging_freq': 5, 'num_leaves': 428, 'min_child_samples': 13}. Best is trial 1 with value: -2.1370826223961186.\u001b[0m\n"
     ]
    },
    {
     "name": "stdout",
     "output_type": "stream",
     "text": [
      "Early stopping, best iteration is:\n",
      "[33]\ttraining's l1: 1.96633\tvalid_1's l1: 2.15425\n",
      "[LightGBM] [Warning] feature_fraction is set=0.8359229145126927, colsample_bytree=0.7 will be ignored. Current value: feature_fraction=0.8359229145126927\n",
      "[LightGBM] [Warning] bagging_fraction is set=0.4732607909701284, subsample=0.7 will be ignored. Current value: bagging_fraction=0.4732607909701284\n",
      "[LightGBM] [Warning] bagging_freq is set=7, subsample_freq=0 will be ignored. Current value: bagging_freq=7\n",
      "Training until validation scores don't improve for 100 rounds\n",
      "[100]\ttraining's l1: 1.66235\tvalid_1's l1: 2.25646\n"
     ]
    },
    {
     "name": "stderr",
     "output_type": "stream",
     "text": [
      "\u001b[32m[I 2021-07-29 23:46:39,227]\u001b[0m Trial 9 finished with value: -2.1622379177032998 and parameters: {'max_depth': 12, 'min_child_weight': 20, 'subsample': 0.7, 'colsample_bytree': 0.7, 'reg_lambda': 0.11671512272153693, 'reg_alpha': 0.001671695783340104, 'feature_fraction': 0.8359229145126927, 'bagging_fraction': 0.4732607909701284, 'bagging_freq': 7, 'num_leaves': 361, 'min_child_samples': 33}. Best is trial 1 with value: -2.1370826223961186.\u001b[0m\n"
     ]
    },
    {
     "name": "stdout",
     "output_type": "stream",
     "text": [
      "Early stopping, best iteration is:\n",
      "[24]\ttraining's l1: 1.96608\tvalid_1's l1: 2.16224\n",
      "[LightGBM] [Warning] feature_fraction is set=0.23827200433187964, colsample_bytree=0.9 will be ignored. Current value: feature_fraction=0.23827200433187964\n",
      "[LightGBM] [Warning] bagging_fraction is set=0.21019017096803233, subsample=0.5 will be ignored. Current value: bagging_fraction=0.21019017096803233\n",
      "[LightGBM] [Warning] bagging_freq is set=19, subsample_freq=0 will be ignored. Current value: bagging_freq=19\n",
      "Training until validation scores don't improve for 100 rounds\n",
      "[100]\ttraining's l1: 2.35046\tvalid_1's l1: 2.2329\n",
      "[200]\ttraining's l1: 2.31266\tvalid_1's l1: 2.19905\n",
      "[300]\ttraining's l1: 2.29711\tvalid_1's l1: 2.18714\n"
     ]
    },
    {
     "name": "stderr",
     "output_type": "stream",
     "text": [
      "\u001b[32m[I 2021-07-29 23:46:40,713]\u001b[0m Trial 10 finished with value: -2.1827005997894355 and parameters: {'max_depth': 1, 'min_child_weight': 2, 'subsample': 0.5, 'colsample_bytree': 0.9, 'reg_lambda': 0.3386423777035246, 'reg_alpha': 377.2392054973992, 'feature_fraction': 0.23827200433187964, 'bagging_fraction': 0.21019017096803233, 'bagging_freq': 19, 'num_leaves': 998, 'min_child_samples': 32}. Best is trial 1 with value: -2.1370826223961186.\u001b[0m\n"
     ]
    },
    {
     "name": "stdout",
     "output_type": "stream",
     "text": [
      "[400]\ttraining's l1: 2.29093\tvalid_1's l1: 2.1833\n",
      "[500]\ttraining's l1: 2.29075\tvalid_1's l1: 2.18274\n",
      "Early stopping, best iteration is:\n",
      "[413]\ttraining's l1: 2.29075\tvalid_1's l1: 2.18274\n",
      "[LightGBM] [Warning] feature_fraction is set=0.21316236520382753, colsample_bytree=0.6 will be ignored. Current value: feature_fraction=0.21316236520382753\n",
      "[LightGBM] [Warning] bagging_fraction is set=0.7806879667714933, subsample=0.8 will be ignored. Current value: bagging_fraction=0.7806879667714933\n",
      "[LightGBM] [Warning] bagging_freq is set=12, subsample_freq=0 will be ignored. Current value: bagging_freq=12\n",
      "Training until validation scores don't improve for 100 rounds\n",
      "[100]\ttraining's l1: 2.15531\tvalid_1's l1: 2.14622\n"
     ]
    },
    {
     "name": "stderr",
     "output_type": "stream",
     "text": [
      "\u001b[32m[I 2021-07-29 23:46:42,477]\u001b[0m Trial 11 finished with value: -2.14306037325138 and parameters: {'max_depth': 3, 'min_child_weight': 1, 'subsample': 0.8, 'colsample_bytree': 0.6, 'reg_lambda': 0.05280182729093302, 'reg_alpha': 1.3844565913015037, 'feature_fraction': 0.21316236520382753, 'bagging_fraction': 0.7806879667714933, 'bagging_freq': 12, 'num_leaves': 14, 'min_child_samples': 10}. Best is trial 1 with value: -2.1370826223961186.\u001b[0m\n"
     ]
    },
    {
     "name": "stdout",
     "output_type": "stream",
     "text": [
      "[200]\ttraining's l1: 2.10843\tvalid_1's l1: 2.14884\n",
      "Early stopping, best iteration is:\n",
      "[105]\ttraining's l1: 2.15003\tvalid_1's l1: 2.14308\n",
      "[LightGBM] [Warning] feature_fraction is set=0.38983914556463417, colsample_bytree=0.8 will be ignored. Current value: feature_fraction=0.38983914556463417\n",
      "[LightGBM] [Warning] bagging_fraction is set=0.2708635514750709, subsample=0.6 will be ignored. Current value: bagging_fraction=0.2708635514750709\n",
      "[LightGBM] [Warning] bagging_freq is set=1, subsample_freq=0 will be ignored. Current value: bagging_freq=1\n",
      "Training until validation scores don't improve for 100 rounds\n",
      "[100]\ttraining's l1: 1.99657\tvalid_1's l1: 2.15695\n"
     ]
    },
    {
     "name": "stderr",
     "output_type": "stream",
     "text": [
      "\u001b[32m[I 2021-07-29 23:46:44,235]\u001b[0m Trial 12 finished with value: -2.1432670154867894 and parameters: {'max_depth': 8, 'min_child_weight': 1, 'subsample': 0.6, 'colsample_bytree': 0.8, 'reg_lambda': 0.0014991931312451118, 'reg_alpha': 24.695539804688764, 'feature_fraction': 0.38983914556463417, 'bagging_fraction': 0.2708635514750709, 'bagging_freq': 1, 'num_leaves': 44, 'min_child_samples': 20}. Best is trial 1 with value: -2.1370826223961186.\u001b[0m\n"
     ]
    },
    {
     "name": "stdout",
     "output_type": "stream",
     "text": [
      "Early stopping, best iteration is:\n",
      "[61]\ttraining's l1: 2.05786\tvalid_1's l1: 2.14333\n",
      "[LightGBM] [Warning] feature_fraction is set=0.38115391884127237, colsample_bytree=0.6 will be ignored. Current value: feature_fraction=0.38115391884127237\n",
      "[LightGBM] [Warning] bagging_fraction is set=0.5180032889101887, subsample=0.7 will be ignored. Current value: bagging_fraction=0.5180032889101887\n",
      "[LightGBM] [Warning] bagging_freq is set=16, subsample_freq=0 will be ignored. Current value: bagging_freq=16\n",
      "Training until validation scores don't improve for 100 rounds\n",
      "[100]\ttraining's l1: 1.74674\tvalid_1's l1: 2.23028\n"
     ]
    },
    {
     "name": "stderr",
     "output_type": "stream",
     "text": [
      "\u001b[32m[I 2021-07-29 23:46:47,002]\u001b[0m Trial 13 finished with value: -2.150465288785627 and parameters: {'max_depth': 16, 'min_child_weight': 8, 'subsample': 0.7, 'colsample_bytree': 0.6, 'reg_lambda': 1.1786207522703496, 'reg_alpha': 0.0014667082547736039, 'feature_fraction': 0.38115391884127237, 'bagging_fraction': 0.5180032889101887, 'bagging_freq': 16, 'num_leaves': 201, 'min_child_samples': 5}. Best is trial 1 with value: -2.1370826223961186.\u001b[0m\n"
     ]
    },
    {
     "name": "stdout",
     "output_type": "stream",
     "text": [
      "Early stopping, best iteration is:\n",
      "[36]\ttraining's l1: 1.93684\tvalid_1's l1: 2.15048\n",
      "[LightGBM] [Warning] feature_fraction is set=0.7546239746187744, colsample_bytree=0.8 will be ignored. Current value: feature_fraction=0.7546239746187744\n",
      "[LightGBM] [Warning] bagging_fraction is set=0.7474328972284816, subsample=0.9 will be ignored. Current value: bagging_fraction=0.7474328972284816\n",
      "[LightGBM] [Warning] bagging_freq is set=10, subsample_freq=0 will be ignored. Current value: bagging_freq=10\n",
      "Training until validation scores don't improve for 100 rounds\n",
      "[100]\ttraining's l1: 2.02312\tvalid_1's l1: 2.14294\n"
     ]
    },
    {
     "name": "stderr",
     "output_type": "stream",
     "text": [
      "\u001b[32m[I 2021-07-29 23:46:48,726]\u001b[0m Trial 14 finished with value: -2.138542982823403 and parameters: {'max_depth': 5, 'min_child_weight': 3, 'subsample': 0.9, 'colsample_bytree': 0.8, 'reg_lambda': 0.02194381481534529, 'reg_alpha': 0.6561271321634344, 'feature_fraction': 0.7546239746187744, 'bagging_fraction': 0.7474328972284816, 'bagging_freq': 10, 'num_leaves': 889, 'min_child_samples': 24}. Best is trial 1 with value: -2.1370826223961186.\u001b[0m\n"
     ]
    },
    {
     "name": "stdout",
     "output_type": "stream",
     "text": [
      "Early stopping, best iteration is:\n",
      "[61]\ttraining's l1: 2.08026\tvalid_1's l1: 2.13858\n",
      "[LightGBM] [Warning] feature_fraction is set=0.7369887046813622, colsample_bytree=0.8 will be ignored. Current value: feature_fraction=0.7369887046813622\n",
      "[LightGBM] [Warning] bagging_fraction is set=0.7120498181498279, subsample=0.9 will be ignored. Current value: bagging_fraction=0.7120498181498279\n",
      "[LightGBM] [Warning] bagging_freq is set=9, subsample_freq=0 will be ignored. Current value: bagging_freq=9\n",
      "Training until validation scores don't improve for 100 rounds\n",
      "[100]\ttraining's l1: 2.02996\tvalid_1's l1: 2.14032\n"
     ]
    },
    {
     "name": "stderr",
     "output_type": "stream",
     "text": [
      "\u001b[32m[I 2021-07-29 23:46:50,646]\u001b[0m Trial 15 finished with value: -2.140153443053658 and parameters: {'max_depth': 5, 'min_child_weight': 4, 'subsample': 0.9, 'colsample_bytree': 0.8, 'reg_lambda': 0.1869958411474358, 'reg_alpha': 0.34255224684991575, 'feature_fraction': 0.7369887046813622, 'bagging_fraction': 0.7120498181498279, 'bagging_freq': 9, 'num_leaves': 866, 'min_child_samples': 44}. Best is trial 1 with value: -2.1370826223961186.\u001b[0m\n"
     ]
    },
    {
     "name": "stdout",
     "output_type": "stream",
     "text": [
      "Early stopping, best iteration is:\n",
      "[98]\ttraining's l1: 2.03182\tvalid_1's l1: 2.14031\n",
      "[LightGBM] [Warning] feature_fraction is set=0.7669917090218135, colsample_bytree=0.9 will be ignored. Current value: feature_fraction=0.7669917090218135\n",
      "[LightGBM] [Warning] bagging_fraction is set=0.9864992737580862, subsample=0.8 will be ignored. Current value: bagging_fraction=0.9864992737580862\n",
      "[LightGBM] [Warning] bagging_freq is set=15, subsample_freq=0 will be ignored. Current value: bagging_freq=15\n",
      "Training until validation scores don't improve for 100 rounds\n",
      "[100]\ttraining's l1: 2.29574\tvalid_1's l1: 2.18845\n",
      "[200]\ttraining's l1: 2.26567\tvalid_1's l1: 2.16999\n",
      "[300]\ttraining's l1: 2.24682\tvalid_1's l1: 2.16071\n",
      "[400]\ttraining's l1: 2.23063\tvalid_1's l1: 2.15442\n",
      "[500]\ttraining's l1: 2.22176\tvalid_1's l1: 2.1499\n",
      "[600]\ttraining's l1: 2.21404\tvalid_1's l1: 2.1485\n",
      "[700]\ttraining's l1: 2.20861\tvalid_1's l1: 2.14651\n"
     ]
    },
    {
     "name": "stderr",
     "output_type": "stream",
     "text": [
      "\u001b[32m[I 2021-07-29 23:46:55,294]\u001b[0m Trial 16 finished with value: -2.1452223344148273 and parameters: {'max_depth': 1, 'min_child_weight': 16, 'subsample': 0.8, 'colsample_bytree': 0.9, 'reg_lambda': 8.044080060133563, 'reg_alpha': 6.131019960886996, 'feature_fraction': 0.7669917090218135, 'bagging_fraction': 0.9864992737580862, 'bagging_freq': 15, 'num_leaves': 822, 'min_child_samples': 23}. Best is trial 1 with value: -2.1370826223961186.\u001b[0m\n"
     ]
    },
    {
     "name": "stdout",
     "output_type": "stream",
     "text": [
      "[800]\ttraining's l1: 2.20418\tvalid_1's l1: 2.14567\n",
      "Early stopping, best iteration is:\n",
      "[710]\ttraining's l1: 2.20799\tvalid_1's l1: 2.14531\n",
      "[LightGBM] [Warning] feature_fraction is set=0.47034119293349275, colsample_bytree=0.8 will be ignored. Current value: feature_fraction=0.47034119293349275\n",
      "[LightGBM] [Warning] bagging_fraction is set=0.8690306418870348, subsample=0.9 will be ignored. Current value: bagging_fraction=0.8690306418870348\n",
      "[LightGBM] [Warning] bagging_freq is set=10, subsample_freq=0 will be ignored. Current value: bagging_freq=10\n",
      "Training until validation scores don't improve for 100 rounds\n",
      "[100]\ttraining's l1: 2.14753\tvalid_1's l1: 2.14022\n",
      "[200]\ttraining's l1: 2.11867\tvalid_1's l1: 2.13515\n",
      "Early stopping, best iteration is:\n",
      "[132]\ttraining's l1: 2.13089\tvalid_1's l1: 2.1342\n"
     ]
    },
    {
     "name": "stderr",
     "output_type": "stream",
     "text": [
      "\u001b[32m[I 2021-07-29 23:46:57,645]\u001b[0m Trial 17 finished with value: -2.134163165466914 and parameters: {'max_depth': 4, 'min_child_weight': 8, 'subsample': 0.9, 'colsample_bytree': 0.8, 'reg_lambda': 0.006050697923335287, 'reg_alpha': 756.6376922148327, 'feature_fraction': 0.47034119293349275, 'bagging_fraction': 0.8690306418870348, 'bagging_freq': 10, 'num_leaves': 198, 'min_child_samples': 45}. Best is trial 17 with value: -2.134163165466914.\u001b[0m\n"
     ]
    },
    {
     "name": "stdout",
     "output_type": "stream",
     "text": [
      "[LightGBM] [Warning] feature_fraction is set=0.3572075792705501, colsample_bytree=0.9 will be ignored. Current value: feature_fraction=0.3572075792705501\n",
      "[LightGBM] [Warning] bagging_fraction is set=0.892806495995896, subsample=0.6 will be ignored. Current value: bagging_fraction=0.892806495995896\n",
      "[LightGBM] [Warning] bagging_freq is set=18, subsample_freq=0 will be ignored. Current value: bagging_freq=18\n",
      "Training until validation scores don't improve for 100 rounds\n",
      "[100]\ttraining's l1: 2.18431\tvalid_1's l1: 2.14313\n",
      "[200]\ttraining's l1: 2.13553\tvalid_1's l1: 2.1433\n",
      "Early stopping, best iteration is:\n",
      "[129]\ttraining's l1: 2.16656\tvalid_1's l1: 2.13827\n"
     ]
    },
    {
     "name": "stderr",
     "output_type": "stream",
     "text": [
      "\u001b[32m[I 2021-07-29 23:46:59,852]\u001b[0m Trial 18 finished with value: -2.1381992245884747 and parameters: {'max_depth': 3, 'min_child_weight': 8, 'subsample': 0.6, 'colsample_bytree': 0.9, 'reg_lambda': 0.0012018314627941934, 'reg_alpha': 581.2656889252119, 'feature_fraction': 0.3572075792705501, 'bagging_fraction': 0.892806495995896, 'bagging_freq': 18, 'num_leaves': 211, 'min_child_samples': 46}. Best is trial 17 with value: -2.134163165466914.\u001b[0m\n"
     ]
    },
    {
     "name": "stdout",
     "output_type": "stream",
     "text": [
      "[LightGBM] [Warning] feature_fraction is set=0.4626133141899358, colsample_bytree=0.8 will be ignored. Current value: feature_fraction=0.4626133141899358\n",
      "[LightGBM] [Warning] bagging_fraction is set=0.9844484671927036, subsample=0.8 will be ignored. Current value: bagging_fraction=0.9844484671927036\n",
      "[LightGBM] [Warning] bagging_freq is set=13, subsample_freq=0 will be ignored. Current value: bagging_freq=13\n",
      "Training until validation scores don't improve for 100 rounds\n",
      "[100]\ttraining's l1: 2.16337\tvalid_1's l1: 2.14286\n",
      "[200]\ttraining's l1: 2.11063\tvalid_1's l1: 2.14385\n"
     ]
    },
    {
     "name": "stderr",
     "output_type": "stream",
     "text": [
      "\u001b[32m[I 2021-07-29 23:47:02,542]\u001b[0m Trial 19 finished with value: -2.141333571340959 and parameters: {'max_depth': 3, 'min_child_weight': 7, 'subsample': 0.8, 'colsample_bytree': 0.8, 'reg_lambda': 0.004612112314195435, 'reg_alpha': 167.91476423178054, 'feature_fraction': 0.4626133141899358, 'bagging_fraction': 0.9844484671927036, 'bagging_freq': 13, 'num_leaves': 179, 'min_child_samples': 98}. Best is trial 17 with value: -2.134163165466914.\u001b[0m\n"
     ]
    },
    {
     "name": "stdout",
     "output_type": "stream",
     "text": [
      "Early stopping, best iteration is:\n",
      "[140]\ttraining's l1: 2.13786\tvalid_1's l1: 2.14137\n",
      "[LightGBM] [Warning] feature_fraction is set=0.29964493038458584, colsample_bytree=0.9 will be ignored. Current value: feature_fraction=0.29964493038458584\n",
      "[LightGBM] [Warning] bagging_fraction is set=0.671906982954395, subsample=0.9 will be ignored. Current value: bagging_fraction=0.671906982954395\n",
      "[LightGBM] [Warning] bagging_freq is set=8, subsample_freq=0 will be ignored. Current value: bagging_freq=8\n",
      "Training until validation scores don't improve for 100 rounds\n",
      "[100]\ttraining's l1: 1.86617\tvalid_1's l1: 2.16592\n"
     ]
    },
    {
     "name": "stderr",
     "output_type": "stream",
     "text": [
      "\u001b[32m[I 2021-07-29 23:47:04,577]\u001b[0m Trial 20 finished with value: -2.146875323530105 and parameters: {'max_depth': 8, 'min_child_weight': 10, 'subsample': 0.9, 'colsample_bytree': 0.9, 'reg_lambda': 0.3227496328433425, 'reg_alpha': 0.0033971835107002466, 'feature_fraction': 0.29964493038458584, 'bagging_fraction': 0.671906982954395, 'bagging_freq': 8, 'num_leaves': 454, 'min_child_samples': 43}. Best is trial 17 with value: -2.134163165466914.\u001b[0m\n"
     ]
    },
    {
     "name": "stdout",
     "output_type": "stream",
     "text": [
      "Early stopping, best iteration is:\n",
      "[41]\ttraining's l1: 1.99008\tvalid_1's l1: 2.14688\n",
      "[LightGBM] [Warning] feature_fraction is set=0.318694643697459, colsample_bytree=0.9 will be ignored. Current value: feature_fraction=0.318694643697459\n",
      "[LightGBM] [Warning] bagging_fraction is set=0.8598187238696751, subsample=0.6 will be ignored. Current value: bagging_fraction=0.8598187238696751\n",
      "[LightGBM] [Warning] bagging_freq is set=18, subsample_freq=0 will be ignored. Current value: bagging_freq=18\n",
      "Training until validation scores don't improve for 100 rounds\n",
      "[100]\ttraining's l1: 2.248\tvalid_1's l1: 2.16274\n",
      "[200]\ttraining's l1: 2.20978\tvalid_1's l1: 2.14191\n",
      "[300]\ttraining's l1: 2.20068\tvalid_1's l1: 2.13585\n",
      "Early stopping, best iteration is:\n",
      "[239]\ttraining's l1: 2.20217\tvalid_1's l1: 2.13547\n"
     ]
    },
    {
     "name": "stderr",
     "output_type": "stream",
     "text": [
      "\u001b[32m[I 2021-07-29 23:47:07,069]\u001b[0m Trial 21 finished with value: -2.1353874646573487 and parameters: {'max_depth': 2, 'min_child_weight': 7, 'subsample': 0.6, 'colsample_bytree': 0.9, 'reg_lambda': 0.001489502325275223, 'reg_alpha': 922.8606640621906, 'feature_fraction': 0.318694643697459, 'bagging_fraction': 0.8598187238696751, 'bagging_freq': 18, 'num_leaves': 209, 'min_child_samples': 46}. Best is trial 17 with value: -2.134163165466914.\u001b[0m\n"
     ]
    },
    {
     "name": "stdout",
     "output_type": "stream",
     "text": [
      "[LightGBM] [Warning] feature_fraction is set=0.45231419613438634, colsample_bytree=0.9 will be ignored. Current value: feature_fraction=0.45231419613438634\n",
      "[LightGBM] [Warning] bagging_fraction is set=0.8430675427896759, subsample=0.6 will be ignored. Current value: bagging_fraction=0.8430675427896759\n",
      "[LightGBM] [Warning] bagging_freq is set=18, subsample_freq=0 will be ignored. Current value: bagging_freq=18\n",
      "Training until validation scores don't improve for 100 rounds\n",
      "[100]\ttraining's l1: 2.31955\tvalid_1's l1: 2.19964\n",
      "[200]\ttraining's l1: 2.29055\tvalid_1's l1: 2.17951\n",
      "[300]\ttraining's l1: 2.27476\tvalid_1's l1: 2.17067\n",
      "[400]\ttraining's l1: 2.26597\tvalid_1's l1: 2.16285\n",
      "[500]\ttraining's l1: 2.25592\tvalid_1's l1: 2.15625\n"
     ]
    },
    {
     "name": "stderr",
     "output_type": "stream",
     "text": [
      "\u001b[32m[I 2021-07-29 23:47:11,555]\u001b[0m Trial 22 finished with value: -2.155761366319985 and parameters: {'max_depth': 1, 'min_child_weight': 7, 'subsample': 0.6, 'colsample_bytree': 0.9, 'reg_lambda': 0.0012411432348707, 'reg_alpha': 819.4948715719222, 'feature_fraction': 0.45231419613438634, 'bagging_fraction': 0.8430675427896759, 'bagging_freq': 18, 'num_leaves': 280, 'min_child_samples': 66}. Best is trial 17 with value: -2.134163165466914.\u001b[0m\n"
     ]
    },
    {
     "name": "stdout",
     "output_type": "stream",
     "text": [
      "Early stopping, best iteration is:\n",
      "[479]\ttraining's l1: 2.25677\tvalid_1's l1: 2.15581\n",
      "[LightGBM] [Warning] feature_fraction is set=0.2663425843751982, colsample_bytree=0.8 will be ignored. Current value: feature_fraction=0.2663425843751982\n",
      "[LightGBM] [Warning] bagging_fraction is set=0.8545512721916637, subsample=0.5 will be ignored. Current value: bagging_fraction=0.8545512721916637\n",
      "[LightGBM] [Warning] bagging_freq is set=11, subsample_freq=0 will be ignored. Current value: bagging_freq=11\n",
      "Training until validation scores don't improve for 100 rounds\n",
      "[100]\ttraining's l1: 2.02877\tvalid_1's l1: 2.1515\n"
     ]
    },
    {
     "name": "stderr",
     "output_type": "stream",
     "text": [
      "\u001b[32m[I 2021-07-29 23:47:13,463]\u001b[0m Trial 23 finished with value: -2.1449295981252776 and parameters: {'max_depth': 6, 'min_child_weight': 11, 'subsample': 0.5, 'colsample_bytree': 0.8, 'reg_lambda': 0.005291710977350232, 'reg_alpha': 90.80826385362091, 'feature_fraction': 0.2663425843751982, 'bagging_fraction': 0.8545512721916637, 'bagging_freq': 11, 'num_leaves': 130, 'min_child_samples': 50}. Best is trial 17 with value: -2.134163165466914.\u001b[0m\n"
     ]
    },
    {
     "name": "stdout",
     "output_type": "stream",
     "text": [
      "Early stopping, best iteration is:\n",
      "[65]\ttraining's l1: 2.07356\tvalid_1's l1: 2.14495\n",
      "[LightGBM] [Warning] feature_fraction is set=0.4722107071068131, colsample_bytree=0.9 will be ignored. Current value: feature_fraction=0.4722107071068131\n",
      "[LightGBM] [Warning] bagging_fraction is set=0.9573203850380951, subsample=0.7 will be ignored. Current value: bagging_fraction=0.9573203850380951\n",
      "[LightGBM] [Warning] bagging_freq is set=15, subsample_freq=0 will be ignored. Current value: bagging_freq=15\n",
      "Training until validation scores don't improve for 100 rounds\n",
      "[100]\ttraining's l1: 2.1489\tvalid_1's l1: 2.13982\n",
      "[200]\ttraining's l1: 2.09259\tvalid_1's l1: 2.13901\n",
      "[300]\ttraining's l1: 2.05834\tvalid_1's l1: 2.1416\n"
     ]
    },
    {
     "name": "stderr",
     "output_type": "stream",
     "text": [
      "\u001b[32m[I 2021-07-29 23:47:17,183]\u001b[0m Trial 24 finished with value: -2.134931082988299 and parameters: {'max_depth': 3, 'min_child_weight': 6, 'subsample': 0.7, 'colsample_bytree': 0.9, 'reg_lambda': 0.07013037319561066, 'reg_alpha': 11.995676053974588, 'feature_fraction': 0.4722107071068131, 'bagging_fraction': 0.9573203850380951, 'bagging_freq': 15, 'num_leaves': 112, 'min_child_samples': 39}. Best is trial 17 with value: -2.134163165466914.\u001b[0m\n"
     ]
    },
    {
     "name": "stdout",
     "output_type": "stream",
     "text": [
      "Early stopping, best iteration is:\n",
      "[259]\ttraining's l1: 2.06985\tvalid_1's l1: 2.13506\n",
      "[LightGBM] [Warning] feature_fraction is set=0.4991155136088824, colsample_bytree=0.8 will be ignored. Current value: feature_fraction=0.4991155136088824\n",
      "[LightGBM] [Warning] bagging_fraction is set=0.9437385730801163, subsample=0.6 will be ignored. Current value: bagging_fraction=0.9437385730801163\n",
      "[LightGBM] [Warning] bagging_freq is set=14, subsample_freq=0 will be ignored. Current value: bagging_freq=14\n",
      "Training until validation scores don't improve for 100 rounds\n",
      "[100]\ttraining's l1: 2.30322\tvalid_1's l1: 2.18396\n",
      "[200]\ttraining's l1: 2.26956\tvalid_1's l1: 2.16457\n",
      "[300]\ttraining's l1: 2.24807\tvalid_1's l1: 2.15409\n",
      "[400]\ttraining's l1: 2.23222\tvalid_1's l1: 2.14786\n",
      "[500]\ttraining's l1: 2.22316\tvalid_1's l1: 2.14472\n",
      "[600]\ttraining's l1: 2.21518\tvalid_1's l1: 2.14325\n"
     ]
    },
    {
     "name": "stderr",
     "output_type": "stream",
     "text": [
      "\u001b[32m[I 2021-07-29 23:47:23,111]\u001b[0m Trial 25 finished with value: -2.142367507687126 and parameters: {'max_depth': 1, 'min_child_weight': 6, 'subsample': 0.6, 'colsample_bytree': 0.8, 'reg_lambda': 0.011201449625289406, 'reg_alpha': 11.470123776048887, 'feature_fraction': 0.4991155136088824, 'bagging_fraction': 0.9437385730801163, 'bagging_freq': 14, 'num_leaves': 121, 'min_child_samples': 39}. Best is trial 17 with value: -2.134163165466914.\u001b[0m\n"
     ]
    },
    {
     "name": "stdout",
     "output_type": "stream",
     "text": [
      "Early stopping, best iteration is:\n",
      "[559]\ttraining's l1: 2.21872\tvalid_1's l1: 2.14242\n",
      "[LightGBM] [Warning] feature_fraction is set=0.326235183746059, colsample_bytree=0.7 will be ignored. Current value: feature_fraction=0.326235183746059\n",
      "[LightGBM] [Warning] bagging_fraction is set=0.8170078969785501, subsample=0.7 will be ignored. Current value: bagging_fraction=0.8170078969785501\n",
      "[LightGBM] [Warning] bagging_freq is set=20, subsample_freq=0 will be ignored. Current value: bagging_freq=20\n",
      "Training until validation scores don't improve for 100 rounds\n",
      "[100]\ttraining's l1: 2.12529\tvalid_1's l1: 2.14182\n"
     ]
    },
    {
     "name": "stderr",
     "output_type": "stream",
     "text": [
      "\u001b[32m[I 2021-07-29 23:47:24,967]\u001b[0m Trial 26 finished with value: -2.139608509138447 and parameters: {'max_depth': 4, 'min_child_weight': 10, 'subsample': 0.7, 'colsample_bytree': 0.7, 'reg_lambda': 0.002217099131136288, 'reg_alpha': 214.7495750955344, 'feature_fraction': 0.326235183746059, 'bagging_fraction': 0.8170078969785501, 'bagging_freq': 20, 'num_leaves': 266, 'min_child_samples': 57}. Best is trial 17 with value: -2.134163165466914.\u001b[0m\n"
     ]
    },
    {
     "name": "stdout",
     "output_type": "stream",
     "text": [
      "Early stopping, best iteration is:\n",
      "[85]\ttraining's l1: 2.13486\tvalid_1's l1: 2.13964\n",
      "[LightGBM] [Warning] feature_fraction is set=0.4291392780065123, colsample_bytree=0.9 will be ignored. Current value: feature_fraction=0.4291392780065123\n",
      "[LightGBM] [Warning] bagging_fraction is set=0.9990383145937367, subsample=0.6 will be ignored. Current value: bagging_fraction=0.9990383145937367\n",
      "[LightGBM] [Warning] bagging_freq is set=10, subsample_freq=0 will be ignored. Current value: bagging_freq=10\n",
      "Training until validation scores don't improve for 100 rounds\n",
      "[100]\ttraining's l1: 2.10558\tvalid_1's l1: 2.1464\n",
      "[200]\ttraining's l1: 2.10394\tvalid_1's l1: 2.14574\n"
     ]
    },
    {
     "name": "stderr",
     "output_type": "stream",
     "text": [
      "\u001b[32m[I 2021-07-29 23:47:27,602]\u001b[0m Trial 27 finished with value: -2.1457146347668266 and parameters: {'max_depth': 7, 'min_child_weight': 7, 'subsample': 0.6, 'colsample_bytree': 0.9, 'reg_lambda': 0.03250416356345072, 'reg_alpha': 911.3331184027572, 'feature_fraction': 0.4291392780065123, 'bagging_fraction': 0.9990383145937367, 'bagging_freq': 10, 'num_leaves': 116, 'min_child_samples': 71}. Best is trial 17 with value: -2.134163165466914.\u001b[0m\n"
     ]
    },
    {
     "name": "stdout",
     "output_type": "stream",
     "text": [
      "Early stopping, best iteration is:\n",
      "[164]\ttraining's l1: 2.10394\tvalid_1's l1: 2.14574\n",
      "[LightGBM] [Warning] feature_fraction is set=0.5165001148562269, colsample_bytree=0.8 will be ignored. Current value: feature_fraction=0.5165001148562269\n",
      "[LightGBM] [Warning] bagging_fraction is set=0.6667587477210122, subsample=0.5 will be ignored. Current value: bagging_fraction=0.6667587477210122\n",
      "[LightGBM] [Warning] bagging_freq is set=15, subsample_freq=0 will be ignored. Current value: bagging_freq=15\n",
      "Training until validation scores don't improve for 100 rounds\n",
      "[100]\ttraining's l1: 2.21863\tvalid_1's l1: 2.15107\n",
      "[200]\ttraining's l1: 2.17087\tvalid_1's l1: 2.13605\n",
      "[300]\ttraining's l1: 2.14652\tvalid_1's l1: 2.13753\n"
     ]
    },
    {
     "name": "stderr",
     "output_type": "stream",
     "text": [
      "\u001b[32m[I 2021-07-29 23:47:30,487]\u001b[0m Trial 28 finished with value: -2.1351617168556287 and parameters: {'max_depth': 2, 'min_child_weight': 9, 'subsample': 0.5, 'colsample_bytree': 0.8, 'reg_lambda': 0.010359014917704221, 'reg_alpha': 50.021038015307326, 'feature_fraction': 0.5165001148562269, 'bagging_fraction': 0.6667587477210122, 'bagging_freq': 15, 'num_leaves': 82, 'min_child_samples': 38}. Best is trial 17 with value: -2.134163165466914.\u001b[0m\n"
     ]
    },
    {
     "name": "stdout",
     "output_type": "stream",
     "text": [
      "Early stopping, best iteration is:\n",
      "[264]\ttraining's l1: 2.15484\tvalid_1's l1: 2.13527\n",
      "[LightGBM] [Warning] feature_fraction is set=0.6633535748095438, colsample_bytree=0.7 will be ignored. Current value: feature_fraction=0.6633535748095438\n",
      "[LightGBM] [Warning] bagging_fraction is set=0.6796539171293163, subsample=0.5 will be ignored. Current value: bagging_fraction=0.6796539171293163\n",
      "[LightGBM] [Warning] bagging_freq is set=14, subsample_freq=0 will be ignored. Current value: bagging_freq=14\n",
      "Training until validation scores don't improve for 100 rounds\n",
      "[100]\ttraining's l1: 1.95189\tvalid_1's l1: 2.15356\n"
     ]
    },
    {
     "name": "stderr",
     "output_type": "stream",
     "text": [
      "\u001b[32m[I 2021-07-29 23:47:32,495]\u001b[0m Trial 29 finished with value: -2.1328893810063803 and parameters: {'max_depth': 11, 'min_child_weight': 15, 'subsample': 0.5, 'colsample_bytree': 0.7, 'reg_lambda': 0.03263390673529655, 'reg_alpha': 24.724916528621176, 'feature_fraction': 0.6633535748095438, 'bagging_fraction': 0.6796539171293163, 'bagging_freq': 14, 'num_leaves': 45, 'min_child_samples': 36}. Best is trial 29 with value: -2.1328893810063803.\u001b[0m\n"
     ]
    },
    {
     "name": "stdout",
     "output_type": "stream",
     "text": [
      "Early stopping, best iteration is:\n",
      "[52]\ttraining's l1: 2.03591\tvalid_1's l1: 2.13293\n",
      "[LightGBM] [Warning] feature_fraction is set=0.62917904902009, colsample_bytree=0.7 will be ignored. Current value: feature_fraction=0.62917904902009\n",
      "[LightGBM] [Warning] bagging_fraction is set=0.6438778814980011, subsample=0.8 will be ignored. Current value: bagging_fraction=0.6438778814980011\n",
      "[LightGBM] [Warning] bagging_freq is set=12, subsample_freq=0 will be ignored. Current value: bagging_freq=12\n",
      "Training until validation scores don't improve for 100 rounds\n",
      "[100]\ttraining's l1: 2.05668\tvalid_1's l1: 2.1397\n"
     ]
    },
    {
     "name": "stderr",
     "output_type": "stream",
     "text": [
      "\u001b[32m[I 2021-07-29 23:47:34,393]\u001b[0m Trial 30 finished with value: -2.128415028253545 and parameters: {'max_depth': 10, 'min_child_weight': 17, 'subsample': 0.8, 'colsample_bytree': 0.7, 'reg_lambda': 0.038762240410150924, 'reg_alpha': 3.455069811477003, 'feature_fraction': 0.62917904902009, 'bagging_fraction': 0.6438778814980011, 'bagging_freq': 12, 'num_leaves': 17, 'min_child_samples': 30}. Best is trial 30 with value: -2.128415028253545.\u001b[0m\n"
     ]
    },
    {
     "name": "stdout",
     "output_type": "stream",
     "text": [
      "Early stopping, best iteration is:\n",
      "[65]\ttraining's l1: 2.10928\tvalid_1's l1: 2.12845\n",
      "[LightGBM] [Warning] feature_fraction is set=0.6556894050995089, colsample_bytree=0.7 will be ignored. Current value: feature_fraction=0.6556894050995089\n",
      "[LightGBM] [Warning] bagging_fraction is set=0.6677152350899231, subsample=0.8 will be ignored. Current value: bagging_fraction=0.6677152350899231\n",
      "[LightGBM] [Warning] bagging_freq is set=12, subsample_freq=0 will be ignored. Current value: bagging_freq=12\n",
      "Training until validation scores don't improve for 100 rounds\n",
      "[100]\ttraining's l1: 1.92786\tvalid_1's l1: 2.15832\n"
     ]
    },
    {
     "name": "stderr",
     "output_type": "stream",
     "text": [
      "\u001b[32m[I 2021-07-29 23:47:36,404]\u001b[0m Trial 31 finished with value: -2.131758999632648 and parameters: {'max_depth': 11, 'min_child_weight': 19, 'subsample': 0.8, 'colsample_bytree': 0.7, 'reg_lambda': 0.04227697823390255, 'reg_alpha': 3.574795213291151, 'feature_fraction': 0.6556894050995089, 'bagging_fraction': 0.6677152350899231, 'bagging_freq': 12, 'num_leaves': 53, 'min_child_samples': 29}. Best is trial 30 with value: -2.128415028253545.\u001b[0m\n"
     ]
    },
    {
     "name": "stdout",
     "output_type": "stream",
     "text": [
      "Early stopping, best iteration is:\n",
      "[48]\ttraining's l1: 2.026\tvalid_1's l1: 2.1318\n",
      "[LightGBM] [Warning] feature_fraction is set=0.6612451036871086, colsample_bytree=0.7 will be ignored. Current value: feature_fraction=0.6612451036871086\n",
      "[LightGBM] [Warning] bagging_fraction is set=0.6476722256305023, subsample=0.8 will be ignored. Current value: bagging_fraction=0.6476722256305023\n",
      "[LightGBM] [Warning] bagging_freq is set=12, subsample_freq=0 will be ignored. Current value: bagging_freq=12\n",
      "Training until validation scores don't improve for 100 rounds\n",
      "[100]\ttraining's l1: 2.04252\tvalid_1's l1: 2.14096\n"
     ]
    },
    {
     "name": "stderr",
     "output_type": "stream",
     "text": [
      "\u001b[32m[I 2021-07-29 23:47:38,090]\u001b[0m Trial 32 finished with value: -2.1372525368733704 and parameters: {'max_depth': 11, 'min_child_weight': 20, 'subsample': 0.8, 'colsample_bytree': 0.7, 'reg_lambda': 0.035773592084237284, 'reg_alpha': 0.23528706859094844, 'feature_fraction': 0.6612451036871086, 'bagging_fraction': 0.6476722256305023, 'bagging_freq': 12, 'num_leaves': 20, 'min_child_samples': 28}. Best is trial 30 with value: -2.128415028253545.\u001b[0m\n"
     ]
    },
    {
     "name": "stdout",
     "output_type": "stream",
     "text": [
      "Early stopping, best iteration is:\n",
      "[57]\ttraining's l1: 2.11217\tvalid_1's l1: 2.1373\n",
      "[LightGBM] [Warning] feature_fraction is set=0.6625814951966364, colsample_bytree=0.7 will be ignored. Current value: feature_fraction=0.6625814951966364\n",
      "[LightGBM] [Warning] bagging_fraction is set=0.5113105890883977, subsample=0.9 will be ignored. Current value: bagging_fraction=0.5113105890883977\n",
      "[LightGBM] [Warning] bagging_freq is set=11, subsample_freq=0 will be ignored. Current value: bagging_freq=11\n",
      "Training until validation scores don't improve for 100 rounds\n",
      "[100]\ttraining's l1: 2.12237\tvalid_1's l1: 2.14055\n",
      "[200]\ttraining's l1: 2.05579\tvalid_1's l1: 2.14258\n",
      "Early stopping, best iteration is:\n",
      "[144]\ttraining's l1: 2.08556\tvalid_1's l1: 2.13277\n"
     ]
    },
    {
     "name": "stderr",
     "output_type": "stream",
     "text": [
      "\u001b[32m[I 2021-07-29 23:47:39,815]\u001b[0m Trial 33 finished with value: -2.1326712231912945 and parameters: {'max_depth': 14, 'min_child_weight': 18, 'subsample': 0.9, 'colsample_bytree': 0.7, 'reg_lambda': 0.19831062997399757, 'reg_alpha': 3.2892724057932874, 'feature_fraction': 0.6625814951966364, 'bagging_fraction': 0.5113105890883977, 'bagging_freq': 11, 'num_leaves': 10, 'min_child_samples': 17}. Best is trial 30 with value: -2.128415028253545.\u001b[0m\n"
     ]
    },
    {
     "name": "stdout",
     "output_type": "stream",
     "text": [
      "[LightGBM] [Warning] feature_fraction is set=0.6476950717504241, colsample_bytree=0.7 will be ignored. Current value: feature_fraction=0.6476950717504241\n",
      "[LightGBM] [Warning] bagging_fraction is set=0.528310308152743, subsample=0.8 will be ignored. Current value: bagging_fraction=0.528310308152743\n",
      "[LightGBM] [Warning] bagging_freq is set=12, subsample_freq=0 will be ignored. Current value: bagging_freq=12\n",
      "Training until validation scores don't improve for 100 rounds\n",
      "[100]\ttraining's l1: 2.00922\tvalid_1's l1: 2.14434\n"
     ]
    },
    {
     "name": "stderr",
     "output_type": "stream",
     "text": [
      "\u001b[32m[I 2021-07-29 23:47:41,724]\u001b[0m Trial 34 finished with value: -2.133681399337813 and parameters: {'max_depth': 13, 'min_child_weight': 18, 'subsample': 0.8, 'colsample_bytree': 0.7, 'reg_lambda': 0.5439717986919768, 'reg_alpha': 3.283234649888666, 'feature_fraction': 0.6476950717504241, 'bagging_fraction': 0.528310308152743, 'bagging_freq': 12, 'num_leaves': 26, 'min_child_samples': 19}. Best is trial 30 with value: -2.128415028253545.\u001b[0m\n"
     ]
    },
    {
     "name": "stdout",
     "output_type": "stream",
     "text": [
      "Early stopping, best iteration is:\n",
      "[67]\ttraining's l1: 2.06261\tvalid_1's l1: 2.13378\n",
      "[LightGBM] [Warning] feature_fraction is set=0.7141809528027847, colsample_bytree=0.7 will be ignored. Current value: feature_fraction=0.7141809528027847\n",
      "[LightGBM] [Warning] bagging_fraction is set=0.428751393689068, subsample=0.9 will be ignored. Current value: bagging_fraction=0.428751393689068\n",
      "[LightGBM] [Warning] bagging_freq is set=13, subsample_freq=0 will be ignored. Current value: bagging_freq=13\n",
      "Training until validation scores don't improve for 100 rounds\n",
      "[100]\ttraining's l1: 1.90556\tvalid_1's l1: 2.1704\n"
     ]
    },
    {
     "name": "stderr",
     "output_type": "stream",
     "text": [
      "\u001b[32m[I 2021-07-29 23:47:43,514]\u001b[0m Trial 35 finished with value: -2.1400215981172988 and parameters: {'max_depth': 10, 'min_child_weight': 18, 'subsample': 0.9, 'colsample_bytree': 0.7, 'reg_lambda': 0.13864115047827494, 'reg_alpha': 6.608433483814605, 'feature_fraction': 0.7141809528027847, 'bagging_fraction': 0.428751393689068, 'bagging_freq': 13, 'num_leaves': 69, 'min_child_samples': 10}. Best is trial 30 with value: -2.128415028253545.\u001b[0m\n"
     ]
    },
    {
     "name": "stdout",
     "output_type": "stream",
     "text": [
      "Early stopping, best iteration is:\n",
      "[39]\ttraining's l1: 2.03195\tvalid_1's l1: 2.14002\n",
      "[LightGBM] [Warning] feature_fraction is set=0.6113926633797512, colsample_bytree=0.6 will be ignored. Current value: feature_fraction=0.6113926633797512\n",
      "[LightGBM] [Warning] bagging_fraction is set=0.6302264100742709, subsample=0.8 will be ignored. Current value: bagging_fraction=0.6302264100742709\n",
      "[LightGBM] [Warning] bagging_freq is set=11, subsample_freq=0 will be ignored. Current value: bagging_freq=11\n",
      "Training until validation scores don't improve for 100 rounds\n",
      "[100]\ttraining's l1: 2.12288\tvalid_1's l1: 2.14061\n"
     ]
    },
    {
     "name": "stderr",
     "output_type": "stream",
     "text": [
      "\u001b[32m[I 2021-07-29 23:47:45,524]\u001b[0m Trial 36 finished with value: -2.1364975735172242 and parameters: {'max_depth': 14, 'min_child_weight': 16, 'subsample': 0.8, 'colsample_bytree': 0.6, 'reg_lambda': 3.6555416703786117, 'reg_alpha': 1.179429988528687, 'feature_fraction': 0.6113926633797512, 'bagging_fraction': 0.6302264100742709, 'bagging_freq': 11, 'num_leaves': 10, 'min_child_samples': 27}. Best is trial 30 with value: -2.128415028253545.\u001b[0m\n"
     ]
    },
    {
     "name": "stdout",
     "output_type": "stream",
     "text": [
      "Early stopping, best iteration is:\n",
      "[91]\ttraining's l1: 2.13231\tvalid_1's l1: 2.13652\n",
      "[LightGBM] [Warning] feature_fraction is set=0.7923645995031046, colsample_bytree=0.7 will be ignored. Current value: feature_fraction=0.7923645995031046\n",
      "[LightGBM] [Warning] bagging_fraction is set=0.522288001544453, subsample=0.8 will be ignored. Current value: bagging_fraction=0.522288001544453\n",
      "[LightGBM] [Warning] bagging_freq is set=9, subsample_freq=0 will be ignored. Current value: bagging_freq=9\n",
      "Training until validation scores don't improve for 100 rounds\n",
      "[100]\ttraining's l1: 1.76068\tvalid_1's l1: 2.1793\n"
     ]
    },
    {
     "name": "stderr",
     "output_type": "stream",
     "text": [
      "\u001b[32m[I 2021-07-29 23:47:48,261]\u001b[0m Trial 37 finished with value: -2.134458973287452 and parameters: {'max_depth': 15, 'min_child_weight': 18, 'subsample': 0.8, 'colsample_bytree': 0.7, 'reg_lambda': 0.08661484937186419, 'reg_alpha': 3.333388081609549, 'feature_fraction': 0.7923645995031046, 'bagging_fraction': 0.522288001544453, 'bagging_freq': 9, 'num_leaves': 161, 'min_child_samples': 17}. Best is trial 30 with value: -2.128415028253545.\u001b[0m\n"
     ]
    },
    {
     "name": "stdout",
     "output_type": "stream",
     "text": [
      "Early stopping, best iteration is:\n",
      "[33]\ttraining's l1: 1.96211\tvalid_1's l1: 2.13446\n",
      "[LightGBM] [Warning] feature_fraction is set=0.6976594586344345, colsample_bytree=0.7 will be ignored. Current value: feature_fraction=0.6976594586344345\n",
      "[LightGBM] [Warning] bagging_fraction is set=0.705514266045461, subsample=0.9 will be ignored. Current value: bagging_fraction=0.705514266045461\n",
      "[LightGBM] [Warning] bagging_freq is set=14, subsample_freq=0 will be ignored. Current value: bagging_freq=14\n",
      "Training until validation scores don't improve for 100 rounds\n",
      "[100]\ttraining's l1: 1.66401\tvalid_1's l1: 2.22826\n"
     ]
    },
    {
     "name": "stderr",
     "output_type": "stream",
     "text": [
      "\u001b[32m[I 2021-07-29 23:47:51,590]\u001b[0m Trial 38 finished with value: -2.1537640783786838 and parameters: {'max_depth': 11, 'min_child_weight': 16, 'subsample': 0.9, 'colsample_bytree': 0.7, 'reg_lambda': 0.5863264126406923, 'reg_alpha': 0.19411485570123632, 'feature_fraction': 0.6976594586344345, 'bagging_fraction': 0.705514266045461, 'bagging_freq': 14, 'num_leaves': 273, 'min_child_samples': 5}. Best is trial 30 with value: -2.128415028253545.\u001b[0m\n"
     ]
    },
    {
     "name": "stdout",
     "output_type": "stream",
     "text": [
      "Early stopping, best iteration is:\n",
      "[37]\ttraining's l1: 1.88603\tvalid_1's l1: 2.15377\n",
      "[LightGBM] [Warning] feature_fraction is set=0.6294700486934057, colsample_bytree=0.6 will be ignored. Current value: feature_fraction=0.6294700486934057\n",
      "[LightGBM] [Warning] bagging_fraction is set=0.563697739296101, subsample=0.9 will be ignored. Current value: bagging_fraction=0.563697739296101\n",
      "[LightGBM] [Warning] bagging_freq is set=14, subsample_freq=0 will be ignored. Current value: bagging_freq=14\n",
      "Training until validation scores don't improve for 100 rounds\n",
      "[100]\ttraining's l1: 1.89434\tvalid_1's l1: 2.17641\n"
     ]
    },
    {
     "name": "stderr",
     "output_type": "stream",
     "text": [
      "\u001b[32m[I 2021-07-29 23:47:54,009]\u001b[0m Trial 39 finished with value: -2.1333246323490447 and parameters: {'max_depth': 10, 'min_child_weight': 14, 'subsample': 0.9, 'colsample_bytree': 0.6, 'reg_lambda': 0.017901900811558284, 'reg_alpha': 23.92880368241977, 'feature_fraction': 0.6294700486934057, 'bagging_fraction': 0.563697739296101, 'bagging_freq': 14, 'num_leaves': 82, 'min_child_samples': 29}. Best is trial 30 with value: -2.128415028253545.\u001b[0m\n"
     ]
    },
    {
     "name": "stdout",
     "output_type": "stream",
     "text": [
      "Early stopping, best iteration is:\n",
      "[38]\ttraining's l1: 2.03163\tvalid_1's l1: 2.13333\n",
      "[LightGBM] [Warning] feature_fraction is set=0.8767296317980682, colsample_bytree=0.7 will be ignored. Current value: feature_fraction=0.8767296317980682\n",
      "[LightGBM] [Warning] bagging_fraction is set=0.46110787504504125, subsample=0.8 will be ignored. Current value: bagging_fraction=0.46110787504504125\n",
      "[LightGBM] [Warning] bagging_freq is set=12, subsample_freq=0 will be ignored. Current value: bagging_freq=12\n",
      "Training until validation scores don't improve for 100 rounds\n",
      "[100]\ttraining's l1: 2.13552\tvalid_1's l1: 2.13592\n"
     ]
    },
    {
     "name": "stderr",
     "output_type": "stream",
     "text": [
      "\u001b[32m[I 2021-07-29 23:47:55,486]\u001b[0m Trial 40 finished with value: -2.1330598518266393 and parameters: {'max_depth': 12, 'min_child_weight': 19, 'subsample': 0.8, 'colsample_bytree': 0.7, 'reg_lambda': 538.5823494656629, 'reg_alpha': 0.5378575350615938, 'feature_fraction': 0.8767296317980682, 'bagging_fraction': 0.46110787504504125, 'bagging_freq': 12, 'num_leaves': 10, 'min_child_samples': 35}. Best is trial 30 with value: -2.128415028253545.\u001b[0m\n"
     ]
    },
    {
     "name": "stdout",
     "output_type": "stream",
     "text": [
      "Early stopping, best iteration is:\n",
      "[80]\ttraining's l1: 2.15805\tvalid_1's l1: 2.1331\n",
      "[LightGBM] [Warning] feature_fraction is set=0.8806248350522592, colsample_bytree=0.7 will be ignored. Current value: feature_fraction=0.8806248350522592\n",
      "[LightGBM] [Warning] bagging_fraction is set=0.4242311418105638, subsample=0.8 will be ignored. Current value: bagging_fraction=0.4242311418105638\n",
      "[LightGBM] [Warning] bagging_freq is set=12, subsample_freq=0 will be ignored. Current value: bagging_freq=12\n",
      "Training until validation scores don't improve for 100 rounds\n",
      "[100]\ttraining's l1: 2.05838\tvalid_1's l1: 2.13827\n"
     ]
    },
    {
     "name": "stderr",
     "output_type": "stream",
     "text": [
      "\u001b[32m[I 2021-07-29 23:47:57,142]\u001b[0m Trial 41 finished with value: -2.124230682204814 and parameters: {'max_depth': 12, 'min_child_weight': 19, 'subsample': 0.8, 'colsample_bytree': 0.7, 'reg_lambda': 352.85026309972494, 'reg_alpha': 0.5006742429468973, 'feature_fraction': 0.8806248350522592, 'bagging_fraction': 0.4242311418105638, 'bagging_freq': 12, 'num_leaves': 19, 'min_child_samples': 34}. Best is trial 41 with value: -2.124230682204814.\u001b[0m\n"
     ]
    },
    {
     "name": "stdout",
     "output_type": "stream",
     "text": [
      "Early stopping, best iteration is:\n",
      "[70]\ttraining's l1: 2.09688\tvalid_1's l1: 2.12432\n",
      "[LightGBM] [Warning] feature_fraction is set=0.97439412979398, colsample_bytree=0.7 will be ignored. Current value: feature_fraction=0.97439412979398\n",
      "[LightGBM] [Warning] bagging_fraction is set=0.6152064102117404, subsample=0.8 will be ignored. Current value: bagging_fraction=0.6152064102117404\n",
      "[LightGBM] [Warning] bagging_freq is set=13, subsample_freq=0 will be ignored. Current value: bagging_freq=13\n",
      "Training until validation scores don't improve for 100 rounds\n",
      "[100]\ttraining's l1: 1.92967\tvalid_1's l1: 2.15989\n"
     ]
    },
    {
     "name": "stderr",
     "output_type": "stream",
     "text": [
      "\u001b[32m[I 2021-07-29 23:47:59,545]\u001b[0m Trial 42 finished with value: -2.1349180216268837 and parameters: {'max_depth': 18, 'min_child_weight': 17, 'subsample': 0.8, 'colsample_bytree': 0.7, 'reg_lambda': 120.02108115508129, 'reg_alpha': 0.11226429349027074, 'feature_fraction': 0.97439412979398, 'bagging_fraction': 0.6152064102117404, 'bagging_freq': 13, 'num_leaves': 53, 'min_child_samples': 24}. Best is trial 41 with value: -2.124230682204814.\u001b[0m\n"
     ]
    },
    {
     "name": "stdout",
     "output_type": "stream",
     "text": [
      "Early stopping, best iteration is:\n",
      "[47]\ttraining's l1: 2.033\tvalid_1's l1: 2.13494\n",
      "[LightGBM] [Warning] feature_fraction is set=0.5687405435768791, colsample_bytree=0.7 will be ignored. Current value: feature_fraction=0.5687405435768791\n",
      "[LightGBM] [Warning] bagging_fraction is set=0.3652021363091708, subsample=0.7 will be ignored. Current value: bagging_fraction=0.3652021363091708\n",
      "[LightGBM] [Warning] bagging_freq is set=11, subsample_freq=0 will be ignored. Current value: bagging_freq=11\n",
      "Training until validation scores don't improve for 100 rounds\n",
      "[100]\ttraining's l1: 2.11945\tvalid_1's l1: 2.13627\n"
     ]
    },
    {
     "name": "stderr",
     "output_type": "stream",
     "text": [
      "\u001b[32m[I 2021-07-29 23:48:01,262]\u001b[0m Trial 43 finished with value: -2.134038598243227 and parameters: {'max_depth': 13, 'min_child_weight': 14, 'subsample': 0.7, 'colsample_bytree': 0.7, 'reg_lambda': 0.2094385605216206, 'reg_alpha': 1.7448016380805325, 'feature_fraction': 0.5687405435768791, 'bagging_fraction': 0.3652021363091708, 'bagging_freq': 11, 'num_leaves': 10, 'min_child_samples': 13}. Best is trial 41 with value: -2.124230682204814.\u001b[0m\n"
     ]
    },
    {
     "name": "stdout",
     "output_type": "stream",
     "text": [
      "[200]\ttraining's l1: 2.05247\tvalid_1's l1: 2.16054\n",
      "Early stopping, best iteration is:\n",
      "[108]\ttraining's l1: 2.11421\tvalid_1's l1: 2.13419\n",
      "[LightGBM] [Warning] feature_fraction is set=0.6940733941433923, colsample_bytree=0.6 will be ignored. Current value: feature_fraction=0.6940733941433923\n",
      "[LightGBM] [Warning] bagging_fraction is set=0.5569456943276998, subsample=0.8 will be ignored. Current value: bagging_fraction=0.5569456943276998\n",
      "[LightGBM] [Warning] bagging_freq is set=8, subsample_freq=0 will be ignored. Current value: bagging_freq=8\n",
      "Training until validation scores don't improve for 100 rounds\n",
      "[100]\ttraining's l1: 1.88391\tvalid_1's l1: 2.15997\n"
     ]
    },
    {
     "name": "stderr",
     "output_type": "stream",
     "text": [
      "\u001b[32m[I 2021-07-29 23:48:03,328]\u001b[0m Trial 44 finished with value: -2.135559383694061 and parameters: {'max_depth': 9, 'min_child_weight': 20, 'subsample': 0.8, 'colsample_bytree': 0.6, 'reg_lambda': 0.05856094510748391, 'reg_alpha': 4.395514406015959, 'feature_fraction': 0.6940733941433923, 'bagging_fraction': 0.5569456943276998, 'bagging_freq': 8, 'num_leaves': 75, 'min_child_samples': 30}. Best is trial 41 with value: -2.124230682204814.\u001b[0m\n"
     ]
    },
    {
     "name": "stdout",
     "output_type": "stream",
     "text": [
      "Early stopping, best iteration is:\n",
      "[52]\ttraining's l1: 1.97754\tvalid_1's l1: 2.13561\n",
      "[LightGBM] [Warning] feature_fraction is set=0.8062446412807907, colsample_bytree=0.7 will be ignored. Current value: feature_fraction=0.8062446412807907\n",
      "[LightGBM] [Warning] bagging_fraction is set=0.4435016549512247, subsample=0.7 will be ignored. Current value: bagging_fraction=0.4435016549512247\n",
      "[LightGBM] [Warning] bagging_freq is set=16, subsample_freq=0 will be ignored. Current value: bagging_freq=16\n",
      "Training until validation scores don't improve for 100 rounds\n",
      "[100]\ttraining's l1: 1.82335\tvalid_1's l1: 2.16459\n"
     ]
    },
    {
     "name": "stderr",
     "output_type": "stream",
     "text": [
      "\u001b[32m[I 2021-07-29 23:48:05,630]\u001b[0m Trial 45 finished with value: -2.1295499496311003 and parameters: {'max_depth': 14, 'min_child_weight': 15, 'subsample': 0.7, 'colsample_bytree': 0.7, 'reg_lambda': 0.03613235306728047, 'reg_alpha': 10.23707196610683, 'feature_fraction': 0.8062446412807907, 'bagging_fraction': 0.4435016549512247, 'bagging_freq': 16, 'num_leaves': 115, 'min_child_samples': 36}. Best is trial 41 with value: -2.124230682204814.\u001b[0m\n"
     ]
    },
    {
     "name": "stdout",
     "output_type": "stream",
     "text": [
      "Early stopping, best iteration is:\n",
      "[39]\ttraining's l1: 1.97987\tvalid_1's l1: 2.12956\n",
      "[LightGBM] [Warning] feature_fraction is set=0.8199346563299043, colsample_bytree=0.7 will be ignored. Current value: feature_fraction=0.8199346563299043\n",
      "[LightGBM] [Warning] bagging_fraction is set=0.47755067557609343, subsample=0.7 will be ignored. Current value: bagging_fraction=0.47755067557609343\n",
      "[LightGBM] [Warning] bagging_freq is set=9, subsample_freq=0 will be ignored. Current value: bagging_freq=9\n",
      "Training until validation scores don't improve for 100 rounds\n",
      "[100]\ttraining's l1: 1.82456\tvalid_1's l1: 2.16923\n"
     ]
    },
    {
     "name": "stderr",
     "output_type": "stream",
     "text": [
      "\u001b[32m[I 2021-07-29 23:48:08,205]\u001b[0m Trial 46 finished with value: -2.137262865149244 and parameters: {'max_depth': 14, 'min_child_weight': 19, 'subsample': 0.7, 'colsample_bytree': 0.7, 'reg_lambda': 36.619941427984266, 'reg_alpha': 10.620414728961329, 'feature_fraction': 0.8199346563299043, 'bagging_fraction': 0.47755067557609343, 'bagging_freq': 9, 'num_leaves': 142, 'min_child_samples': 51}. Best is trial 41 with value: -2.124230682204814.\u001b[0m\n"
     ]
    },
    {
     "name": "stdout",
     "output_type": "stream",
     "text": [
      "Early stopping, best iteration is:\n",
      "[41]\ttraining's l1: 1.95894\tvalid_1's l1: 2.13727\n",
      "[LightGBM] [Warning] feature_fraction is set=0.9152684607593593, colsample_bytree=0.6 will be ignored. Current value: feature_fraction=0.9152684607593593\n",
      "[LightGBM] [Warning] bagging_fraction is set=0.38403420069126215, subsample=0.7 will be ignored. Current value: bagging_fraction=0.38403420069126215\n",
      "[LightGBM] [Warning] bagging_freq is set=16, subsample_freq=0 will be ignored. Current value: bagging_freq=16\n",
      "Training until validation scores don't improve for 100 rounds\n",
      "[100]\ttraining's l1: 1.67475\tvalid_1's l1: 2.22946\n"
     ]
    },
    {
     "name": "stderr",
     "output_type": "stream",
     "text": [
      "\u001b[32m[I 2021-07-29 23:48:13,223]\u001b[0m Trial 47 finished with value: -2.1508735533125036 and parameters: {'max_depth': 17, 'min_child_weight': 17, 'subsample': 0.7, 'colsample_bytree': 0.6, 'reg_lambda': 1.6708828417740766, 'reg_alpha': 2.57846735772003, 'feature_fraction': 0.9152684607593593, 'bagging_fraction': 0.38403420069126215, 'bagging_freq': 16, 'num_leaves': 373, 'min_child_samples': 16}. Best is trial 41 with value: -2.124230682204814.\u001b[0m\n"
     ]
    },
    {
     "name": "stdout",
     "output_type": "stream",
     "text": [
      "Early stopping, best iteration is:\n",
      "[41]\ttraining's l1: 1.8236\tvalid_1's l1: 2.15092\n",
      "[LightGBM] [Warning] feature_fraction is set=0.8719163990891808, colsample_bytree=0.7 will be ignored. Current value: feature_fraction=0.8719163990891808\n",
      "[LightGBM] [Warning] bagging_fraction is set=0.29268438381811224, subsample=0.7 will be ignored. Current value: bagging_fraction=0.29268438381811224\n",
      "[LightGBM] [Warning] bagging_freq is set=6, subsample_freq=0 will be ignored. Current value: bagging_freq=6\n",
      "Training until validation scores don't improve for 100 rounds\n",
      "[100]\ttraining's l1: 1.66704\tvalid_1's l1: 2.23384\n"
     ]
    },
    {
     "name": "stderr",
     "output_type": "stream",
     "text": [
      "\u001b[32m[I 2021-07-29 23:48:17,931]\u001b[0m Trial 48 finished with value: -2.171650187202023 and parameters: {'max_depth': 15, 'min_child_weight': 19, 'subsample': 0.7, 'colsample_bytree': 0.7, 'reg_lambda': 0.27833077032990955, 'reg_alpha': 0.7508522888163478, 'feature_fraction': 0.8719163990891808, 'bagging_fraction': 0.29268438381811224, 'bagging_freq': 6, 'num_leaves': 554, 'min_child_samples': 25}. Best is trial 41 with value: -2.124230682204814.\u001b[0m\n"
     ]
    },
    {
     "name": "stdout",
     "output_type": "stream",
     "text": [
      "Early stopping, best iteration is:\n",
      "[36]\ttraining's l1: 1.82438\tvalid_1's l1: 2.17168\n",
      "[LightGBM] [Warning] feature_fraction is set=0.9557903109414839, colsample_bytree=0.6 will be ignored. Current value: feature_fraction=0.9557903109414839\n",
      "[LightGBM] [Warning] bagging_fraction is set=0.4211163599455485, subsample=0.8 will be ignored. Current value: bagging_fraction=0.4211163599455485\n",
      "[LightGBM] [Warning] bagging_freq is set=17, subsample_freq=0 will be ignored. Current value: bagging_freq=17\n",
      "Training until validation scores don't improve for 100 rounds\n",
      "[100]\ttraining's l1: 1.70717\tvalid_1's l1: 2.26411\n"
     ]
    },
    {
     "name": "stderr",
     "output_type": "stream",
     "text": [
      "\u001b[32m[I 2021-07-29 23:48:21,277]\u001b[0m Trial 49 finished with value: -2.1558251421018704 and parameters: {'max_depth': 12, 'min_child_weight': 17, 'subsample': 0.8, 'colsample_bytree': 0.6, 'reg_lambda': 0.13870314409222342, 'reg_alpha': 1.2941503695291925, 'feature_fraction': 0.9557903109414839, 'bagging_fraction': 0.4211163599455485, 'bagging_freq': 17, 'num_leaves': 233, 'min_child_samples': 9}. Best is trial 41 with value: -2.124230682204814.\u001b[0m\n"
     ]
    },
    {
     "name": "stdout",
     "output_type": "stream",
     "text": [
      "Early stopping, best iteration is:\n",
      "[30]\ttraining's l1: 1.94577\tvalid_1's l1: 2.15583\n",
      "[LightGBM] [Warning] feature_fraction is set=0.8346555888762811, colsample_bytree=0.7 will be ignored. Current value: feature_fraction=0.8346555888762811\n",
      "[LightGBM] [Warning] bagging_fraction is set=0.4882178649902143, subsample=0.9 will be ignored. Current value: bagging_fraction=0.4882178649902143\n",
      "[LightGBM] [Warning] bagging_freq is set=13, subsample_freq=0 will be ignored. Current value: bagging_freq=13\n",
      "Training until validation scores don't improve for 100 rounds\n",
      "[100]\ttraining's l1: 1.6747\tvalid_1's l1: 2.23099\n"
     ]
    },
    {
     "name": "stderr",
     "output_type": "stream",
     "text": [
      "\u001b[32m[I 2021-07-29 23:48:25,364]\u001b[0m Trial 50 finished with value: -2.1521221427348705 and parameters: {'max_depth': 14, 'min_child_weight': 15, 'subsample': 0.9, 'colsample_bytree': 0.7, 'reg_lambda': 0.011555393400799347, 'reg_alpha': 0.10307013118354276, 'feature_fraction': 0.8346555888762811, 'bagging_fraction': 0.4882178649902143, 'bagging_freq': 13, 'num_leaves': 331, 'min_child_samples': 31}. Best is trial 41 with value: -2.124230682204814.\u001b[0m\n"
     ]
    },
    {
     "name": "stdout",
     "output_type": "stream",
     "text": [
      "Early stopping, best iteration is:\n",
      "[32]\ttraining's l1: 1.88398\tvalid_1's l1: 2.15212\n",
      "[LightGBM] [Warning] feature_fraction is set=0.547471953011281, colsample_bytree=0.7 will be ignored. Current value: feature_fraction=0.547471953011281\n",
      "[LightGBM] [Warning] bagging_fraction is set=0.717865420657105, subsample=0.8 will be ignored. Current value: bagging_fraction=0.717865420657105\n",
      "[LightGBM] [Warning] bagging_freq is set=14, subsample_freq=0 will be ignored. Current value: bagging_freq=14\n",
      "Training until validation scores don't improve for 100 rounds\n",
      "[100]\ttraining's l1: 1.93999\tvalid_1's l1: 2.16197\n"
     ]
    },
    {
     "name": "stderr",
     "output_type": "stream",
     "text": [
      "\u001b[32m[I 2021-07-29 23:48:28,245]\u001b[0m Trial 51 finished with value: -2.135692352400803 and parameters: {'max_depth': 12, 'min_child_weight': 15, 'subsample': 0.8, 'colsample_bytree': 0.7, 'reg_lambda': 0.040660347075472815, 'reg_alpha': 24.47209294635628, 'feature_fraction': 0.547471953011281, 'bagging_fraction': 0.717865420657105, 'bagging_freq': 14, 'num_leaves': 49, 'min_child_samples': 36}. Best is trial 41 with value: -2.124230682204814.\u001b[0m\n"
     ]
    },
    {
     "name": "stdout",
     "output_type": "stream",
     "text": [
      "Early stopping, best iteration is:\n",
      "[61]\ttraining's l1: 2.01146\tvalid_1's l1: 2.13576\n",
      "[LightGBM] [Warning] feature_fraction is set=0.7922729648323048, colsample_bytree=0.7 will be ignored. Current value: feature_fraction=0.7922729648323048\n",
      "[LightGBM] [Warning] bagging_fraction is set=0.5909672709167053, subsample=0.9 will be ignored. Current value: bagging_fraction=0.5909672709167053\n",
      "[LightGBM] [Warning] bagging_freq is set=12, subsample_freq=0 will be ignored. Current value: bagging_freq=12\n",
      "Training until validation scores don't improve for 100 rounds\n",
      "[100]\ttraining's l1: 1.90048\tvalid_1's l1: 2.16492\n"
     ]
    },
    {
     "name": "stderr",
     "output_type": "stream",
     "text": [
      "\u001b[32m[I 2021-07-29 23:48:30,526]\u001b[0m Trial 52 finished with value: -2.136119867451502 and parameters: {'max_depth': 9, 'min_child_weight': 13, 'subsample': 0.9, 'colsample_bytree': 0.7, 'reg_lambda': 0.01986372859821284, 'reg_alpha': 49.70399573575211, 'feature_fraction': 0.7922729648323048, 'bagging_fraction': 0.5909672709167053, 'bagging_freq': 12, 'num_leaves': 91, 'min_child_samples': 20}. Best is trial 41 with value: -2.124230682204814.\u001b[0m\n"
     ]
    },
    {
     "name": "stdout",
     "output_type": "stream",
     "text": [
      "Early stopping, best iteration is:\n",
      "[54]\ttraining's l1: 1.98998\tvalid_1's l1: 2.13617\n",
      "[LightGBM] [Warning] feature_fraction is set=0.6033406106060729, colsample_bytree=0.7 will be ignored. Current value: feature_fraction=0.6033406106060729\n",
      "[LightGBM] [Warning] bagging_fraction is set=0.44886428537261736, subsample=0.8 will be ignored. Current value: bagging_fraction=0.44886428537261736\n",
      "[LightGBM] [Warning] bagging_freq is set=16, subsample_freq=0 will be ignored. Current value: bagging_freq=16\n",
      "Training until validation scores don't improve for 100 rounds\n",
      "[100]\ttraining's l1: 1.81023\tvalid_1's l1: 2.17735\n"
     ]
    },
    {
     "name": "stderr",
     "output_type": "stream",
     "text": [
      "\u001b[32m[I 2021-07-29 23:48:33,298]\u001b[0m Trial 53 finished with value: -2.14322754679448 and parameters: {'max_depth': 11, 'min_child_weight': 15, 'subsample': 0.8, 'colsample_bytree': 0.7, 'reg_lambda': 0.06602375208073288, 'reg_alpha': 7.037707778905462, 'feature_fraction': 0.6033406106060729, 'bagging_fraction': 0.44886428537261736, 'bagging_freq': 16, 'num_leaves': 151, 'min_child_samples': 34}. Best is trial 41 with value: -2.124230682204814.\u001b[0m\n"
     ]
    },
    {
     "name": "stdout",
     "output_type": "stream",
     "text": [
      "Early stopping, best iteration is:\n",
      "[37]\ttraining's l1: 1.9629\tvalid_1's l1: 2.14325\n",
      "[LightGBM] [Warning] feature_fraction is set=0.6738357036033668, colsample_bytree=0.7 will be ignored. Current value: feature_fraction=0.6738357036033668\n",
      "[LightGBM] [Warning] bagging_fraction is set=0.78562916252464, subsample=0.8 will be ignored. Current value: bagging_fraction=0.78562916252464\n",
      "[LightGBM] [Warning] bagging_freq is set=15, subsample_freq=0 will be ignored. Current value: bagging_freq=15\n",
      "Training until validation scores don't improve for 100 rounds\n",
      "[100]\ttraining's l1: 1.95428\tvalid_1's l1: 2.16241\n"
     ]
    },
    {
     "name": "stderr",
     "output_type": "stream",
     "text": [
      "\u001b[32m[I 2021-07-29 23:48:35,421]\u001b[0m Trial 54 finished with value: -2.145167154365335 and parameters: {'max_depth': 13, 'min_child_weight': 19, 'subsample': 0.8, 'colsample_bytree': 0.7, 'reg_lambda': 0.10966760780405808, 'reg_alpha': 15.25823290078936, 'feature_fraction': 0.6738357036033668, 'bagging_fraction': 0.78562916252464, 'bagging_freq': 15, 'num_leaves': 43, 'min_child_samples': 42}. Best is trial 41 with value: -2.124230682204814.\u001b[0m\n"
     ]
    },
    {
     "name": "stdout",
     "output_type": "stream",
     "text": [
      "Early stopping, best iteration is:\n",
      "[52]\ttraining's l1: 2.04044\tvalid_1's l1: 2.14519\n",
      "[LightGBM] [Warning] feature_fraction is set=0.7173427057974734, colsample_bytree=0.6 will be ignored. Current value: feature_fraction=0.7173427057974734\n",
      "[LightGBM] [Warning] bagging_fraction is set=0.6900397563295175, subsample=0.9 will be ignored. Current value: bagging_fraction=0.6900397563295175\n",
      "[LightGBM] [Warning] bagging_freq is set=11, subsample_freq=0 will be ignored. Current value: bagging_freq=11\n",
      "Training until validation scores don't improve for 100 rounds\n",
      "[100]\ttraining's l1: 2.12063\tvalid_1's l1: 2.14359\n"
     ]
    },
    {
     "name": "stderr",
     "output_type": "stream",
     "text": [
      "\u001b[32m[I 2021-07-29 23:48:37,105]\u001b[0m Trial 55 finished with value: -2.1374801098663663 and parameters: {'max_depth': 10, 'min_child_weight': 17, 'subsample': 0.9, 'colsample_bytree': 0.6, 'reg_lambda': 0.6140741858180842, 'reg_alpha': 1.986422934549199, 'feature_fraction': 0.7173427057974734, 'bagging_fraction': 0.6900397563295175, 'bagging_freq': 11, 'num_leaves': 10, 'min_child_samples': 33}. Best is trial 41 with value: -2.124230682204814.\u001b[0m\n"
     ]
    },
    {
     "name": "stdout",
     "output_type": "stream",
     "text": [
      "Early stopping, best iteration is:\n",
      "[88]\ttraining's l1: 2.13142\tvalid_1's l1: 2.13751\n",
      "[LightGBM] [Warning] feature_fraction is set=0.7693426653549809, colsample_bytree=0.7 will be ignored. Current value: feature_fraction=0.7693426653549809\n",
      "[LightGBM] [Warning] bagging_fraction is set=0.7435238093631531, subsample=0.7 will be ignored. Current value: bagging_fraction=0.7435238093631531\n",
      "[LightGBM] [Warning] bagging_freq is set=13, subsample_freq=0 will be ignored. Current value: bagging_freq=13\n",
      "Training until validation scores don't improve for 100 rounds\n",
      "[100]\ttraining's l1: 1.79916\tvalid_1's l1: 2.22735\n"
     ]
    },
    {
     "name": "stderr",
     "output_type": "stream",
     "text": [
      "\u001b[32m[I 2021-07-29 23:48:39,542]\u001b[0m Trial 56 finished with value: -2.1489512240354203 and parameters: {'max_depth': 15, 'min_child_weight': 13, 'subsample': 0.7, 'colsample_bytree': 0.7, 'reg_lambda': 0.032475962559020785, 'reg_alpha': 0.35983782271578063, 'feature_fraction': 0.7693426653549809, 'bagging_fraction': 0.7435238093631531, 'bagging_freq': 13, 'num_leaves': 99, 'min_child_samples': 22}. Best is trial 41 with value: -2.124230682204814.\u001b[0m\n"
     ]
    },
    {
     "name": "stdout",
     "output_type": "stream",
     "text": [
      "Early stopping, best iteration is:\n",
      "[33]\ttraining's l1: 2.01204\tvalid_1's l1: 2.14895\n",
      "[LightGBM] [Warning] feature_fraction is set=0.6332132045335955, colsample_bytree=0.8 will be ignored. Current value: feature_fraction=0.6332132045335955\n",
      "[LightGBM] [Warning] bagging_fraction is set=0.5456381376874927, subsample=0.5 will be ignored. Current value: bagging_fraction=0.5456381376874927\n",
      "[LightGBM] [Warning] bagging_freq is set=10, subsample_freq=0 will be ignored. Current value: bagging_freq=10\n",
      "Training until validation scores don't improve for 100 rounds\n",
      "[100]\ttraining's l1: 1.80032\tvalid_1's l1: 2.20211\n"
     ]
    },
    {
     "name": "stderr",
     "output_type": "stream",
     "text": [
      "\u001b[32m[I 2021-07-29 23:48:42,025]\u001b[0m Trial 57 finished with value: -2.1457363641712597 and parameters: {'max_depth': 9, 'min_child_weight': 20, 'subsample': 0.5, 'colsample_bytree': 0.8, 'reg_lambda': 0.002664998568026864, 'reg_alpha': 3.8933327557654196, 'feature_fraction': 0.6332132045335955, 'bagging_fraction': 0.5456381376874927, 'bagging_freq': 10, 'num_leaves': 169, 'min_child_samples': 40}. Best is trial 41 with value: -2.124230682204814.\u001b[0m\n"
     ]
    },
    {
     "name": "stdout",
     "output_type": "stream",
     "text": [
      "Early stopping, best iteration is:\n",
      "[27]\ttraining's l1: 2.02882\tvalid_1's l1: 2.14574\n",
      "[LightGBM] [Warning] feature_fraction is set=0.5833228433197964, colsample_bytree=0.5 will be ignored. Current value: feature_fraction=0.5833228433197964\n",
      "[LightGBM] [Warning] bagging_fraction is set=0.49395077329356946, subsample=0.8 will be ignored. Current value: bagging_fraction=0.49395077329356946\n",
      "[LightGBM] [Warning] bagging_freq is set=14, subsample_freq=0 will be ignored. Current value: bagging_freq=14\n",
      "Training until validation scores don't improve for 100 rounds\n",
      "[100]\ttraining's l1: 1.99358\tvalid_1's l1: 2.14137\n"
     ]
    },
    {
     "name": "stderr",
     "output_type": "stream",
     "text": [
      "\u001b[32m[I 2021-07-29 23:48:44,404]\u001b[0m Trial 58 finished with value: -2.137151421059949 and parameters: {'max_depth': 11, 'min_child_weight': 18, 'subsample': 0.8, 'colsample_bytree': 0.5, 'reg_lambda': 0.022227423752504825, 'reg_alpha': 94.0034934424976, 'feature_fraction': 0.5833228433197964, 'bagging_fraction': 0.49395077329356946, 'bagging_freq': 14, 'num_leaves': 51, 'min_child_samples': 48}. Best is trial 41 with value: -2.124230682204814.\u001b[0m\n"
     ]
    },
    {
     "name": "stdout",
     "output_type": "stream",
     "text": [
      "Early stopping, best iteration is:\n",
      "[68]\ttraining's l1: 2.03109\tvalid_1's l1: 2.13724\n",
      "[LightGBM] [Warning] feature_fraction is set=0.7399579456235166, colsample_bytree=0.8 will be ignored. Current value: feature_fraction=0.7399579456235166\n",
      "[LightGBM] [Warning] bagging_fraction is set=0.6099900939497644, subsample=0.9 will be ignored. Current value: bagging_fraction=0.6099900939497644\n",
      "[LightGBM] [Warning] bagging_freq is set=17, subsample_freq=0 will be ignored. Current value: bagging_freq=17\n",
      "Training until validation scores don't improve for 100 rounds\n",
      "[100]\ttraining's l1: 2.12257\tvalid_1's l1: 2.13897\n"
     ]
    },
    {
     "name": "stderr",
     "output_type": "stream",
     "text": [
      "\u001b[32m[I 2021-07-29 23:48:45,923]\u001b[0m Trial 59 finished with value: -2.135552419410845 and parameters: {'max_depth': 8, 'min_child_weight': 12, 'subsample': 0.9, 'colsample_bytree': 0.8, 'reg_lambda': 0.011163303354553702, 'reg_alpha': 16.766699826644675, 'feature_fraction': 0.7399579456235166, 'bagging_fraction': 0.6099900939497644, 'bagging_freq': 17, 'num_leaves': 10, 'min_child_samples': 26}. Best is trial 41 with value: -2.124230682204814.\u001b[0m\n"
     ]
    },
    {
     "name": "stdout",
     "output_type": "stream",
     "text": [
      "Early stopping, best iteration is:\n",
      "[73]\ttraining's l1: 2.15554\tvalid_1's l1: 2.13558\n",
      "[LightGBM] [Warning] feature_fraction is set=0.5280540937771391, colsample_bytree=0.7 will be ignored. Current value: feature_fraction=0.5280540937771391\n",
      "[LightGBM] [Warning] bagging_fraction is set=0.3319460381649304, subsample=0.8 will be ignored. Current value: bagging_fraction=0.3319460381649304\n",
      "[LightGBM] [Warning] bagging_freq is set=11, subsample_freq=0 will be ignored. Current value: bagging_freq=11\n",
      "Training until validation scores don't improve for 100 rounds\n",
      "[100]\ttraining's l1: 1.85242\tvalid_1's l1: 2.1837\n"
     ]
    },
    {
     "name": "stderr",
     "output_type": "stream",
     "text": [
      "\u001b[32m[I 2021-07-29 23:48:48,083]\u001b[0m Trial 60 finished with value: -2.143993167031117 and parameters: {'max_depth': 12, 'min_child_weight': 16, 'subsample': 0.8, 'colsample_bytree': 0.7, 'reg_lambda': 0.2078289826788636, 'reg_alpha': 6.262985972426531, 'feature_fraction': 0.5280540937771391, 'bagging_fraction': 0.3319460381649304, 'bagging_freq': 11, 'num_leaves': 127, 'min_child_samples': 54}. Best is trial 41 with value: -2.124230682204814.\u001b[0m\n"
     ]
    },
    {
     "name": "stdout",
     "output_type": "stream",
     "text": [
      "Early stopping, best iteration is:\n",
      "[29]\ttraining's l1: 2.03981\tvalid_1's l1: 2.14399\n",
      "[LightGBM] [Warning] feature_fraction is set=0.9147874157144914, colsample_bytree=0.7 will be ignored. Current value: feature_fraction=0.9147874157144914\n",
      "[LightGBM] [Warning] bagging_fraction is set=0.4499555509552624, subsample=0.8 will be ignored. Current value: bagging_fraction=0.4499555509552624\n",
      "[LightGBM] [Warning] bagging_freq is set=12, subsample_freq=0 will be ignored. Current value: bagging_freq=12\n",
      "Training until validation scores don't improve for 100 rounds\n",
      "[100]\ttraining's l1: 2.00313\tvalid_1's l1: 2.1486\n"
     ]
    },
    {
     "name": "stderr",
     "output_type": "stream",
     "text": [
      "\u001b[32m[I 2021-07-29 23:48:50,165]\u001b[0m Trial 61 finished with value: -2.139154464633721 and parameters: {'max_depth': 12, 'min_child_weight': 19, 'subsample': 0.8, 'colsample_bytree': 0.7, 'reg_lambda': 992.3808407763984, 'reg_alpha': 0.45315877292556994, 'feature_fraction': 0.9147874157144914, 'bagging_fraction': 0.4499555509552624, 'bagging_freq': 12, 'num_leaves': 41, 'min_child_samples': 34}. Best is trial 41 with value: -2.124230682204814.\u001b[0m\n"
     ]
    },
    {
     "name": "stdout",
     "output_type": "stream",
     "text": [
      "Early stopping, best iteration is:\n",
      "[60]\ttraining's l1: 2.05683\tvalid_1's l1: 2.13919\n",
      "[LightGBM] [Warning] feature_fraction is set=0.8823463219221026, colsample_bytree=0.7 will be ignored. Current value: feature_fraction=0.8823463219221026\n",
      "[LightGBM] [Warning] bagging_fraction is set=0.4143161171188452, subsample=0.8 will be ignored. Current value: bagging_fraction=0.4143161171188452\n",
      "[LightGBM] [Warning] bagging_freq is set=12, subsample_freq=0 will be ignored. Current value: bagging_freq=12\n",
      "Training until validation scores don't improve for 100 rounds\n",
      "[100]\ttraining's l1: 1.71952\tvalid_1's l1: 2.21256\n"
     ]
    },
    {
     "name": "stderr",
     "output_type": "stream",
     "text": [
      "\u001b[32m[I 2021-07-29 23:48:54,241]\u001b[0m Trial 62 finished with value: -2.145505300102851 and parameters: {'max_depth': 13, 'min_child_weight': 19, 'subsample': 0.8, 'colsample_bytree': 0.7, 'reg_lambda': 104.59099871242347, 'reg_alpha': 0.6009977243597011, 'feature_fraction': 0.8823463219221026, 'bagging_fraction': 0.4143161171188452, 'bagging_freq': 12, 'num_leaves': 738, 'min_child_samples': 35}. Best is trial 41 with value: -2.124230682204814.\u001b[0m\n"
     ]
    },
    {
     "name": "stdout",
     "output_type": "stream",
     "text": [
      "Early stopping, best iteration is:\n",
      "[28]\ttraining's l1: 1.97208\tvalid_1's l1: 2.14551\n",
      "[LightGBM] [Warning] feature_fraction is set=0.851289471758381, colsample_bytree=0.7 will be ignored. Current value: feature_fraction=0.851289471758381\n",
      "[LightGBM] [Warning] bagging_fraction is set=0.49844900643861284, subsample=0.8 will be ignored. Current value: bagging_fraction=0.49844900643861284\n",
      "[LightGBM] [Warning] bagging_freq is set=13, subsample_freq=0 will be ignored. Current value: bagging_freq=13\n",
      "Training until validation scores don't improve for 100 rounds\n",
      "[100]\ttraining's l1: 2.11041\tvalid_1's l1: 2.13574\n"
     ]
    },
    {
     "name": "stderr",
     "output_type": "stream",
     "text": [
      "\u001b[32m[I 2021-07-29 23:48:55,849]\u001b[0m Trial 63 finished with value: -2.1332982477615725 and parameters: {'max_depth': 14, 'min_child_weight': 18, 'subsample': 0.8, 'colsample_bytree': 0.7, 'reg_lambda': 177.15401786265505, 'reg_alpha': 0.7945286148984451, 'feature_fraction': 0.851289471758381, 'bagging_fraction': 0.49844900643861284, 'bagging_freq': 13, 'num_leaves': 11, 'min_child_samples': 30}. Best is trial 41 with value: -2.124230682204814.\u001b[0m\n"
     ]
    },
    {
     "name": "stdout",
     "output_type": "stream",
     "text": [
      "Early stopping, best iteration is:\n",
      "[91]\ttraining's l1: 2.1203\tvalid_1's l1: 2.13333\n",
      "[LightGBM] [Warning] feature_fraction is set=0.8070253564870075, colsample_bytree=0.7 will be ignored. Current value: feature_fraction=0.8070253564870075\n",
      "[LightGBM] [Warning] bagging_fraction is set=0.45737024897139233, subsample=0.7 will be ignored. Current value: bagging_fraction=0.45737024897139233\n",
      "[LightGBM] [Warning] bagging_freq is set=10, subsample_freq=0 will be ignored. Current value: bagging_freq=10\n",
      "Training until validation scores don't improve for 100 rounds\n",
      "[100]\ttraining's l1: 1.9107\tvalid_1's l1: 2.16739\n"
     ]
    },
    {
     "name": "stderr",
     "output_type": "stream",
     "text": [
      "\u001b[32m[I 2021-07-29 23:48:57,879]\u001b[0m Trial 64 finished with value: -2.147239306765265 and parameters: {'max_depth': 10, 'min_child_weight': 20, 'subsample': 0.7, 'colsample_bytree': 0.7, 'reg_lambda': 491.89857874791704, 'reg_alpha': 2.134870382025776, 'feature_fraction': 0.8070253564870075, 'bagging_fraction': 0.45737024897139233, 'bagging_freq': 10, 'num_leaves': 102, 'min_child_samples': 37}. Best is trial 41 with value: -2.124230682204814.\u001b[0m\n"
     ]
    },
    {
     "name": "stdout",
     "output_type": "stream",
     "text": [
      "Early stopping, best iteration is:\n",
      "[35]\ttraining's l1: 2.06294\tvalid_1's l1: 2.14724\n",
      "[LightGBM] [Warning] feature_fraction is set=0.9485714047668846, colsample_bytree=0.7 will be ignored. Current value: feature_fraction=0.9485714047668846\n",
      "[LightGBM] [Warning] bagging_fraction is set=0.6408866906885998, subsample=0.8 will be ignored. Current value: bagging_fraction=0.6408866906885998\n",
      "[LightGBM] [Warning] bagging_freq is set=12, subsample_freq=0 will be ignored. Current value: bagging_freq=12\n",
      "Training until validation scores don't improve for 100 rounds\n",
      "[100]\ttraining's l1: 1.92042\tvalid_1's l1: 2.16332\n"
     ]
    },
    {
     "name": "stderr",
     "output_type": "stream",
     "text": [
      "\u001b[32m[I 2021-07-29 23:49:00,328]\u001b[0m Trial 65 finished with value: -2.1425241773128754 and parameters: {'max_depth': 12, 'min_child_weight': 17, 'subsample': 0.8, 'colsample_bytree': 0.7, 'reg_lambda': 427.1204754748567, 'reg_alpha': 9.073388366244162, 'feature_fraction': 0.9485714047668846, 'bagging_fraction': 0.6408866906885998, 'bagging_freq': 12, 'num_leaves': 68, 'min_child_samples': 13}. Best is trial 41 with value: -2.124230682204814.\u001b[0m\n"
     ]
    },
    {
     "name": "stdout",
     "output_type": "stream",
     "text": [
      "Early stopping, best iteration is:\n",
      "[34]\ttraining's l1: 2.07675\tvalid_1's l1: 2.14253\n",
      "[LightGBM] [Warning] feature_fraction is set=0.8601833837269024, colsample_bytree=0.6 will be ignored. Current value: feature_fraction=0.8601833837269024\n",
      "[LightGBM] [Warning] bagging_fraction is set=0.3704650379030059, subsample=0.8 will be ignored. Current value: bagging_fraction=0.3704650379030059\n",
      "[LightGBM] [Warning] bagging_freq is set=15, subsample_freq=0 will be ignored. Current value: bagging_freq=15\n",
      "Training until validation scores don't improve for 100 rounds\n",
      "[100]\ttraining's l1: 2.13811\tvalid_1's l1: 2.13064\n",
      "[200]\ttraining's l1: 2.07551\tvalid_1's l1: 2.13973\n"
     ]
    },
    {
     "name": "stderr",
     "output_type": "stream",
     "text": [
      "\u001b[32m[I 2021-07-29 23:49:02,014]\u001b[0m Trial 66 finished with value: -2.1275155614243246 and parameters: {'max_depth': 11, 'min_child_weight': 15, 'subsample': 0.8, 'colsample_bytree': 0.6, 'reg_lambda': 625.8263517444035, 'reg_alpha': 1.1622921085274456, 'feature_fraction': 0.8601833837269024, 'bagging_fraction': 0.3704650379030059, 'bagging_freq': 15, 'num_leaves': 10, 'min_child_samples': 41}. Best is trial 41 with value: -2.124230682204814.\u001b[0m\n"
     ]
    },
    {
     "name": "stdout",
     "output_type": "stream",
     "text": [
      "Early stopping, best iteration is:\n",
      "[160]\ttraining's l1: 2.09512\tvalid_1's l1: 2.12764\n",
      "[LightGBM] [Warning] feature_fraction is set=0.6829277063420023, colsample_bytree=0.5 will be ignored. Current value: feature_fraction=0.6829277063420023\n",
      "[LightGBM] [Warning] bagging_fraction is set=0.35466072278078786, subsample=0.9 will be ignored. Current value: bagging_fraction=0.35466072278078786\n",
      "[LightGBM] [Warning] bagging_freq is set=16, subsample_freq=0 will be ignored. Current value: bagging_freq=16\n",
      "Training until validation scores don't improve for 100 rounds\n",
      "[100]\ttraining's l1: 1.94521\tvalid_1's l1: 2.14759\n"
     ]
    },
    {
     "name": "stderr",
     "output_type": "stream",
     "text": [
      "\u001b[32m[I 2021-07-29 23:49:03,535]\u001b[0m Trial 67 finished with value: -2.123545052484174 and parameters: {'max_depth': 16, 'min_child_weight': 15, 'subsample': 0.9, 'colsample_bytree': 0.5, 'reg_lambda': 0.007658411268330698, 'reg_alpha': 4.650139601081139, 'feature_fraction': 0.6829277063420023, 'bagging_fraction': 0.35466072278078786, 'bagging_freq': 16, 'num_leaves': 44, 'min_child_samples': 42}. Best is trial 67 with value: -2.123545052484174.\u001b[0m\n"
     ]
    },
    {
     "name": "stdout",
     "output_type": "stream",
     "text": [
      "Early stopping, best iteration is:\n",
      "[40]\ttraining's l1: 2.07142\tvalid_1's l1: 2.12357\n",
      "[LightGBM] [Warning] feature_fraction is set=0.772743671560552, colsample_bytree=0.5 will be ignored. Current value: feature_fraction=0.772743671560552\n",
      "[LightGBM] [Warning] bagging_fraction is set=0.24990804635306346, subsample=0.9 will be ignored. Current value: bagging_fraction=0.24990804635306346\n",
      "[LightGBM] [Warning] bagging_freq is set=18, subsample_freq=0 will be ignored. Current value: bagging_freq=18\n",
      "Training until validation scores don't improve for 100 rounds\n",
      "[100]\ttraining's l1: 1.7819\tvalid_1's l1: 2.17332\n"
     ]
    },
    {
     "name": "stderr",
     "output_type": "stream",
     "text": [
      "\u001b[32m[I 2021-07-29 23:49:06,295]\u001b[0m Trial 68 finished with value: -2.1266130543925827 and parameters: {'max_depth': 20, 'min_child_weight': 12, 'subsample': 0.9, 'colsample_bytree': 0.5, 'reg_lambda': 0.004019797720579492, 'reg_alpha': 0.993411967507397, 'feature_fraction': 0.772743671560552, 'bagging_fraction': 0.24990804635306346, 'bagging_freq': 18, 'num_leaves': 243, 'min_child_samples': 48}. Best is trial 67 with value: -2.123545052484174.\u001b[0m\n"
     ]
    },
    {
     "name": "stdout",
     "output_type": "stream",
     "text": [
      "Early stopping, best iteration is:\n",
      "[39]\ttraining's l1: 1.91842\tvalid_1's l1: 2.12668\n",
      "[LightGBM] [Warning] feature_fraction is set=0.7771325943688784, colsample_bytree=0.5 will be ignored. Current value: feature_fraction=0.7771325943688784\n",
      "[LightGBM] [Warning] bagging_fraction is set=0.23788143241860238, subsample=0.7 will be ignored. Current value: bagging_fraction=0.23788143241860238\n",
      "[LightGBM] [Warning] bagging_freq is set=19, subsample_freq=0 will be ignored. Current value: bagging_freq=19\n",
      "Training until validation scores don't improve for 100 rounds\n",
      "[100]\ttraining's l1: 1.79405\tvalid_1's l1: 2.18251\n"
     ]
    },
    {
     "name": "stderr",
     "output_type": "stream",
     "text": [
      "\u001b[32m[I 2021-07-29 23:49:08,951]\u001b[0m Trial 69 finished with value: -2.1238222345740385 and parameters: {'max_depth': 19, 'min_child_weight': 12, 'subsample': 0.7, 'colsample_bytree': 0.5, 'reg_lambda': 0.0076522131837439035, 'reg_alpha': 1.29727248900861, 'feature_fraction': 0.7771325943688784, 'bagging_fraction': 0.23788143241860238, 'bagging_freq': 19, 'num_leaves': 227, 'min_child_samples': 42}. Best is trial 67 with value: -2.123545052484174.\u001b[0m\n"
     ]
    },
    {
     "name": "stdout",
     "output_type": "stream",
     "text": [
      "Early stopping, best iteration is:\n",
      "[40]\ttraining's l1: 1.92642\tvalid_1's l1: 2.12383\n",
      "[LightGBM] [Warning] feature_fraction is set=0.8403132071954662, colsample_bytree=0.5 will be ignored. Current value: feature_fraction=0.8403132071954662\n",
      "[LightGBM] [Warning] bagging_fraction is set=0.2179250290202312, subsample=0.7 will be ignored. Current value: bagging_fraction=0.2179250290202312\n",
      "[LightGBM] [Warning] bagging_freq is set=19, subsample_freq=0 will be ignored. Current value: bagging_freq=19\n",
      "Training until validation scores don't improve for 100 rounds\n",
      "[100]\ttraining's l1: 1.78852\tvalid_1's l1: 2.18269\n"
     ]
    },
    {
     "name": "stderr",
     "output_type": "stream",
     "text": [
      "\u001b[32m[I 2021-07-29 23:49:12,351]\u001b[0m Trial 70 finished with value: -2.1446182436167147 and parameters: {'max_depth': 20, 'min_child_weight': 12, 'subsample': 0.7, 'colsample_bytree': 0.5, 'reg_lambda': 0.003298746931210765, 'reg_alpha': 0.2119125615548134, 'feature_fraction': 0.8403132071954662, 'bagging_fraction': 0.2179250290202312, 'bagging_freq': 19, 'num_leaves': 308, 'min_child_samples': 56}. Best is trial 67 with value: -2.123545052484174.\u001b[0m\n"
     ]
    },
    {
     "name": "stdout",
     "output_type": "stream",
     "text": [
      "Early stopping, best iteration is:\n",
      "[37]\ttraining's l1: 1.92316\tvalid_1's l1: 2.14466\n",
      "[LightGBM] [Warning] feature_fraction is set=0.7645026818074533, colsample_bytree=0.5 will be ignored. Current value: feature_fraction=0.7645026818074533\n",
      "[LightGBM] [Warning] bagging_fraction is set=0.24001803990604847, subsample=0.7 will be ignored. Current value: bagging_fraction=0.24001803990604847\n",
      "[LightGBM] [Warning] bagging_freq is set=18, subsample_freq=0 will be ignored. Current value: bagging_freq=18\n",
      "Training until validation scores don't improve for 100 rounds\n",
      "[100]\ttraining's l1: 1.79376\tvalid_1's l1: 2.18919\n"
     ]
    },
    {
     "name": "stderr",
     "output_type": "stream",
     "text": [
      "\u001b[32m[I 2021-07-29 23:49:15,022]\u001b[0m Trial 71 finished with value: -2.148462849529325 and parameters: {'max_depth': 20, 'min_child_weight': 11, 'subsample': 0.7, 'colsample_bytree': 0.5, 'reg_lambda': 0.0020082555895745277, 'reg_alpha': 1.2411197328891443, 'feature_fraction': 0.7645026818074533, 'bagging_fraction': 0.24001803990604847, 'bagging_freq': 18, 'num_leaves': 238, 'min_child_samples': 42}. Best is trial 67 with value: -2.123545052484174.\u001b[0m\n"
     ]
    },
    {
     "name": "stdout",
     "output_type": "stream",
     "text": [
      "Early stopping, best iteration is:\n",
      "[36]\ttraining's l1: 1.94556\tvalid_1's l1: 2.14847\n",
      "[LightGBM] [Warning] feature_fraction is set=0.789070989441211, colsample_bytree=0.5 will be ignored. Current value: feature_fraction=0.789070989441211\n",
      "[LightGBM] [Warning] bagging_fraction is set=0.3024857064929868, subsample=0.7 will be ignored. Current value: bagging_fraction=0.3024857064929868\n",
      "[LightGBM] [Warning] bagging_freq is set=19, subsample_freq=0 will be ignored. Current value: bagging_freq=19\n",
      "Training until validation scores don't improve for 100 rounds\n",
      "[100]\ttraining's l1: 1.70977\tvalid_1's l1: 2.20185\n"
     ]
    },
    {
     "name": "stderr",
     "output_type": "stream",
     "text": [
      "\u001b[32m[I 2021-07-29 23:49:18,465]\u001b[0m Trial 72 finished with value: -2.135822852254205 and parameters: {'max_depth': 19, 'min_child_weight': 14, 'subsample': 0.7, 'colsample_bytree': 0.5, 'reg_lambda': 0.004861150265397528, 'reg_alpha': 0.9506750329798439, 'feature_fraction': 0.789070989441211, 'bagging_fraction': 0.3024857064929868, 'bagging_freq': 19, 'num_leaves': 388, 'min_child_samples': 48}. Best is trial 67 with value: -2.123545052484174.\u001b[0m\n"
     ]
    },
    {
     "name": "stdout",
     "output_type": "stream",
     "text": [
      "Early stopping, best iteration is:\n",
      "[36]\ttraining's l1: 1.87909\tvalid_1's l1: 2.13583\n",
      "[LightGBM] [Warning] feature_fraction is set=0.858052097477297, colsample_bytree=0.5 will be ignored. Current value: feature_fraction=0.858052097477297\n",
      "[LightGBM] [Warning] bagging_fraction is set=0.34797427861654945, subsample=0.9 will be ignored. Current value: bagging_fraction=0.34797427861654945\n",
      "[LightGBM] [Warning] bagging_freq is set=19, subsample_freq=0 will be ignored. Current value: bagging_freq=19\n",
      "Training until validation scores don't improve for 100 rounds\n",
      "[100]\ttraining's l1: 1.79256\tvalid_1's l1: 2.17832\n"
     ]
    },
    {
     "name": "stderr",
     "output_type": "stream",
     "text": [
      "\u001b[32m[I 2021-07-29 23:49:21,093]\u001b[0m Trial 73 finished with value: -2.1395530537065 and parameters: {'max_depth': 17, 'min_child_weight': 12, 'subsample': 0.9, 'colsample_bytree': 0.5, 'reg_lambda': 0.007508235369121886, 'reg_alpha': 5.310528255304441, 'feature_fraction': 0.858052097477297, 'bagging_fraction': 0.34797427861654945, 'bagging_freq': 19, 'num_leaves': 200, 'min_child_samples': 60}. Best is trial 67 with value: -2.123545052484174.\u001b[0m\n"
     ]
    },
    {
     "name": "stdout",
     "output_type": "stream",
     "text": [
      "Early stopping, best iteration is:\n",
      "[35]\ttraining's l1: 1.95518\tvalid_1's l1: 2.13956\n",
      "[LightGBM] [Warning] feature_fraction is set=0.75108801692564, colsample_bytree=0.5 will be ignored. Current value: feature_fraction=0.75108801692564\n",
      "[LightGBM] [Warning] bagging_fraction is set=0.280129527989114, subsample=0.7 will be ignored. Current value: bagging_fraction=0.280129527989114\n",
      "[LightGBM] [Warning] bagging_freq is set=17, subsample_freq=0 will be ignored. Current value: bagging_freq=17\n",
      "Training until validation scores don't improve for 100 rounds\n",
      "[100]\ttraining's l1: 1.77641\tvalid_1's l1: 2.18543\n"
     ]
    },
    {
     "name": "stderr",
     "output_type": "stream",
     "text": [
      "\u001b[32m[I 2021-07-29 23:49:23,725]\u001b[0m Trial 74 finished with value: -2.1383441413848985 and parameters: {'max_depth': 19, 'min_child_weight': 13, 'subsample': 0.7, 'colsample_bytree': 0.5, 'reg_lambda': 0.007838194463916441, 'reg_alpha': 1.7777889550878385, 'feature_fraction': 0.75108801692564, 'bagging_fraction': 0.280129527989114, 'bagging_freq': 17, 'num_leaves': 236, 'min_child_samples': 46}. Best is trial 67 with value: -2.123545052484174.\u001b[0m\n"
     ]
    },
    {
     "name": "stdout",
     "output_type": "stream",
     "text": [
      "Early stopping, best iteration is:\n",
      "[32]\ttraining's l1: 1.9597\tvalid_1's l1: 2.13835\n",
      "[LightGBM] [Warning] feature_fraction is set=0.900219399559033, colsample_bytree=0.5 will be ignored. Current value: feature_fraction=0.900219399559033\n",
      "[LightGBM] [Warning] bagging_fraction is set=0.39780642700983804, subsample=0.7 will be ignored. Current value: bagging_fraction=0.39780642700983804\n",
      "[LightGBM] [Warning] bagging_freq is set=20, subsample_freq=0 will be ignored. Current value: bagging_freq=20\n",
      "Training until validation scores don't improve for 100 rounds\n",
      "[100]\ttraining's l1: 1.76887\tvalid_1's l1: 2.2134\n"
     ]
    },
    {
     "name": "stderr",
     "output_type": "stream",
     "text": [
      "\u001b[32m[I 2021-07-29 23:49:26,508]\u001b[0m Trial 75 finished with value: -2.139064350412067 and parameters: {'max_depth': 18, 'min_child_weight': 14, 'subsample': 0.7, 'colsample_bytree': 0.5, 'reg_lambda': 0.0010415307737285191, 'reg_alpha': 0.9072494614817023, 'feature_fraction': 0.900219399559033, 'bagging_fraction': 0.39780642700983804, 'bagging_freq': 20, 'num_leaves': 168, 'min_child_samples': 43}. Best is trial 67 with value: -2.123545052484174.\u001b[0m\n"
     ]
    },
    {
     "name": "stdout",
     "output_type": "stream",
     "text": [
      "Early stopping, best iteration is:\n",
      "[43]\ttraining's l1: 1.91628\tvalid_1's l1: 2.13909\n",
      "[LightGBM] [Warning] feature_fraction is set=0.7242321848690216, colsample_bytree=0.5 will be ignored. Current value: feature_fraction=0.7242321848690216\n",
      "[LightGBM] [Warning] bagging_fraction is set=0.25072666234233076, subsample=0.9 will be ignored. Current value: bagging_fraction=0.25072666234233076\n",
      "[LightGBM] [Warning] bagging_freq is set=17, subsample_freq=0 will be ignored. Current value: bagging_freq=17\n",
      "Training until validation scores don't improve for 100 rounds\n",
      "[100]\ttraining's l1: 1.73841\tvalid_1's l1: 2.21348\n"
     ]
    },
    {
     "name": "stderr",
     "output_type": "stream",
     "text": [
      "\u001b[32m[I 2021-07-29 23:49:29,562]\u001b[0m Trial 76 finished with value: -2.1430734045757918 and parameters: {'max_depth': 16, 'min_child_weight': 11, 'subsample': 0.9, 'colsample_bytree': 0.5, 'reg_lambda': 0.0036115658198437824, 'reg_alpha': 2.4580522140074734, 'feature_fraction': 0.7242321848690216, 'bagging_fraction': 0.25072666234233076, 'bagging_freq': 17, 'num_leaves': 453, 'min_child_samples': 41}. Best is trial 67 with value: -2.123545052484174.\u001b[0m\n"
     ]
    },
    {
     "name": "stdout",
     "output_type": "stream",
     "text": [
      "Early stopping, best iteration is:\n",
      "[36]\ttraining's l1: 1.89642\tvalid_1's l1: 2.14309\n",
      "[LightGBM] [Warning] feature_fraction is set=0.8066024096177187, colsample_bytree=0.6 will be ignored. Current value: feature_fraction=0.8066024096177187\n",
      "[LightGBM] [Warning] bagging_fraction is set=0.3230665188837421, subsample=0.9 will be ignored. Current value: bagging_fraction=0.3230665188837421\n",
      "[LightGBM] [Warning] bagging_freq is set=16, subsample_freq=0 will be ignored. Current value: bagging_freq=16\n",
      "Training until validation scores don't improve for 100 rounds\n",
      "[100]\ttraining's l1: 1.83599\tvalid_1's l1: 2.17876\n"
     ]
    },
    {
     "name": "stderr",
     "output_type": "stream",
     "text": [
      "\u001b[32m[I 2021-07-29 23:49:31,797]\u001b[0m Trial 77 finished with value: -2.138228160715328 and parameters: {'max_depth': 18, 'min_child_weight': 16, 'subsample': 0.9, 'colsample_bytree': 0.6, 'reg_lambda': 37.258132510612384, 'reg_alpha': 0.3460465107579824, 'feature_fraction': 0.8066024096177187, 'bagging_fraction': 0.3230665188837421, 'bagging_freq': 16, 'num_leaves': 136, 'min_child_samples': 39}. Best is trial 67 with value: -2.123545052484174.\u001b[0m\n"
     ]
    },
    {
     "name": "stdout",
     "output_type": "stream",
     "text": [
      "Early stopping, best iteration is:\n",
      "[29]\ttraining's l1: 2.02864\tvalid_1's l1: 2.13823\n",
      "[LightGBM] [Warning] feature_fraction is set=0.695393363364645, colsample_bytree=0.6 will be ignored. Current value: feature_fraction=0.695393363364645\n",
      "[LightGBM] [Warning] bagging_fraction is set=0.36186861552096317, subsample=0.8 will be ignored. Current value: bagging_fraction=0.36186861552096317\n",
      "[LightGBM] [Warning] bagging_freq is set=15, subsample_freq=0 will be ignored. Current value: bagging_freq=15\n",
      "Training until validation scores don't improve for 100 rounds\n",
      "[100]\ttraining's l1: 1.86033\tvalid_1's l1: 2.16406\n"
     ]
    },
    {
     "name": "stderr",
     "output_type": "stream",
     "text": [
      "\u001b[32m[I 2021-07-29 23:49:33,772]\u001b[0m Trial 78 finished with value: -2.1347347123188474 and parameters: {'max_depth': 17, 'min_child_weight': 13, 'subsample': 0.8, 'colsample_bytree': 0.6, 'reg_lambda': 0.013102672158063487, 'reg_alpha': 8.624074970311506, 'feature_fraction': 0.695393363364645, 'bagging_fraction': 0.36186861552096317, 'bagging_freq': 15, 'num_leaves': 106, 'min_child_samples': 60}. Best is trial 67 with value: -2.123545052484174.\u001b[0m\n"
     ]
    },
    {
     "name": "stdout",
     "output_type": "stream",
     "text": [
      "Early stopping, best iteration is:\n",
      "[37]\ttraining's l1: 2.01184\tvalid_1's l1: 2.13474\n",
      "[LightGBM] [Warning] feature_fraction is set=0.7748524359636276, colsample_bytree=0.5 will be ignored. Current value: feature_fraction=0.7748524359636276\n",
      "[LightGBM] [Warning] bagging_fraction is set=0.3839064326004393, subsample=0.7 will be ignored. Current value: bagging_fraction=0.3839064326004393\n",
      "[LightGBM] [Warning] bagging_freq is set=18, subsample_freq=0 will be ignored. Current value: bagging_freq=18\n",
      "Training until validation scores don't improve for 100 rounds\n",
      "[100]\ttraining's l1: 1.83892\tvalid_1's l1: 2.17612\n"
     ]
    },
    {
     "name": "stderr",
     "output_type": "stream",
     "text": [
      "\u001b[32m[I 2021-07-29 23:49:36,392]\u001b[0m Trial 79 finished with value: -2.1340147087811996 and parameters: {'max_depth': 20, 'min_child_weight': 10, 'subsample': 0.7, 'colsample_bytree': 0.5, 'reg_lambda': 303.2688297213291, 'reg_alpha': 1.6460341074255551, 'feature_fraction': 0.7748524359636276, 'bagging_fraction': 0.3839064326004393, 'bagging_freq': 18, 'num_leaves': 183, 'min_child_samples': 48}. Best is trial 67 with value: -2.123545052484174.\u001b[0m\n"
     ]
    },
    {
     "name": "stdout",
     "output_type": "stream",
     "text": [
      "Early stopping, best iteration is:\n",
      "[40]\ttraining's l1: 1.97566\tvalid_1's l1: 2.13402\n",
      "[LightGBM] [Warning] feature_fraction is set=0.8278691117930248, colsample_bytree=0.5 will be ignored. Current value: feature_fraction=0.8278691117930248\n",
      "[LightGBM] [Warning] bagging_fraction is set=0.3161983626255048, subsample=0.7 will be ignored. Current value: bagging_fraction=0.3161983626255048\n",
      "[LightGBM] [Warning] bagging_freq is set=18, subsample_freq=0 will be ignored. Current value: bagging_freq=18\n",
      "Training until validation scores don't improve for 100 rounds\n",
      "[100]\ttraining's l1: 1.71111\tvalid_1's l1: 2.21022\n"
     ]
    },
    {
     "name": "stderr",
     "output_type": "stream",
     "text": [
      "\u001b[32m[I 2021-07-29 23:49:40,396]\u001b[0m Trial 80 finished with value: -2.1409474515243496 and parameters: {'max_depth': 16, 'min_child_weight': 14, 'subsample': 0.7, 'colsample_bytree': 0.5, 'reg_lambda': 0.006501918554960496, 'reg_alpha': 4.805049684026806, 'feature_fraction': 0.8278691117930248, 'bagging_fraction': 0.3161983626255048, 'bagging_freq': 18, 'num_leaves': 497, 'min_child_samples': 51}. Best is trial 67 with value: -2.123545052484174.\u001b[0m\n"
     ]
    },
    {
     "name": "stdout",
     "output_type": "stream",
     "text": [
      "Early stopping, best iteration is:\n",
      "[33]\ttraining's l1: 1.89521\tvalid_1's l1: 2.14095\n",
      "[LightGBM] [Warning] feature_fraction is set=0.673720848898799, colsample_bytree=0.6 will be ignored. Current value: feature_fraction=0.673720848898799\n",
      "[LightGBM] [Warning] bagging_fraction is set=0.43440097707657516, subsample=0.9 will be ignored. Current value: bagging_fraction=0.43440097707657516\n",
      "[LightGBM] [Warning] bagging_freq is set=15, subsample_freq=0 will be ignored. Current value: bagging_freq=15\n",
      "Training until validation scores don't improve for 100 rounds\n",
      "[100]\ttraining's l1: 1.88792\tvalid_1's l1: 2.20135\n"
     ]
    },
    {
     "name": "stderr",
     "output_type": "stream",
     "text": [
      "\u001b[32m[I 2021-07-29 23:49:42,219]\u001b[0m Trial 81 finished with value: -2.1457958178538967 and parameters: {'max_depth': 13, 'min_child_weight': 16, 'subsample': 0.9, 'colsample_bytree': 0.6, 'reg_lambda': 0.0512803687856213, 'reg_alpha': 2.322829519781747, 'feature_fraction': 0.673720848898799, 'bagging_fraction': 0.43440097707657516, 'bagging_freq': 15, 'num_leaves': 71, 'min_child_samples': 32}. Best is trial 67 with value: -2.123545052484174.\u001b[0m\n"
     ]
    },
    {
     "name": "stdout",
     "output_type": "stream",
     "text": [
      "Early stopping, best iteration is:\n",
      "[37]\ttraining's l1: 2.03929\tvalid_1's l1: 2.1458\n",
      "[LightGBM] [Warning] feature_fraction is set=0.6309131509899633, colsample_bytree=0.5 will be ignored. Current value: feature_fraction=0.6309131509899633\n",
      "[LightGBM] [Warning] bagging_fraction is set=0.2655755030920793, subsample=0.9 will be ignored. Current value: bagging_fraction=0.2655755030920793\n",
      "[LightGBM] [Warning] bagging_freq is set=17, subsample_freq=0 will be ignored. Current value: bagging_freq=17\n",
      "Training until validation scores don't improve for 100 rounds\n",
      "[100]\ttraining's l1: 2.0121\tvalid_1's l1: 2.13359\n"
     ]
    },
    {
     "name": "stderr",
     "output_type": "stream",
     "text": [
      "\u001b[32m[I 2021-07-29 23:49:44,037]\u001b[0m Trial 82 finished with value: -2.132319482428791 and parameters: {'max_depth': 15, 'min_child_weight': 15, 'subsample': 0.9, 'colsample_bytree': 0.5, 'reg_lambda': 0.015103448389639281, 'reg_alpha': 3.0631570053192765, 'feature_fraction': 0.6309131509899633, 'bagging_fraction': 0.2655755030920793, 'bagging_freq': 17, 'num_leaves': 28, 'min_child_samples': 38}. Best is trial 67 with value: -2.123545052484174.\u001b[0m\n"
     ]
    },
    {
     "name": "stdout",
     "output_type": "stream",
     "text": [
      "[200]\ttraining's l1: 1.92756\tvalid_1's l1: 2.16181\n",
      "Early stopping, best iteration is:\n",
      "[112]\ttraining's l1: 2.00101\tvalid_1's l1: 2.13247\n",
      "[LightGBM] [Warning] feature_fraction is set=0.618574336607177, colsample_bytree=0.5 will be ignored. Current value: feature_fraction=0.618574336607177\n",
      "[LightGBM] [Warning] bagging_fraction is set=0.2537504954848852, subsample=0.9 will be ignored. Current value: bagging_fraction=0.2537504954848852\n",
      "[LightGBM] [Warning] bagging_freq is set=16, subsample_freq=0 will be ignored. Current value: bagging_freq=16\n",
      "Training until validation scores don't improve for 100 rounds\n",
      "[100]\ttraining's l1: 1.93092\tvalid_1's l1: 2.13948\n"
     ]
    },
    {
     "name": "stderr",
     "output_type": "stream",
     "text": [
      "\u001b[32m[I 2021-07-29 23:49:46,065]\u001b[0m Trial 83 finished with value: -2.126894255282857 and parameters: {'max_depth': 15, 'min_child_weight': 15, 'subsample': 0.9, 'colsample_bytree': 0.5, 'reg_lambda': 0.016022439922927043, 'reg_alpha': 4.166861016848474, 'feature_fraction': 0.618574336607177, 'bagging_fraction': 0.2537504954848852, 'bagging_freq': 16, 'num_leaves': 67, 'min_child_samples': 45}. Best is trial 67 with value: -2.123545052484174.\u001b[0m\n"
     ]
    },
    {
     "name": "stdout",
     "output_type": "stream",
     "text": [
      "Early stopping, best iteration is:\n",
      "[53]\ttraining's l1: 2.0026\tvalid_1's l1: 2.12697\n",
      "[LightGBM] [Warning] feature_fraction is set=0.614409344685361, colsample_bytree=0.5 will be ignored. Current value: feature_fraction=0.614409344685361\n",
      "[LightGBM] [Warning] bagging_fraction is set=0.22537844633983523, subsample=0.9 will be ignored. Current value: bagging_fraction=0.22537844633983523\n",
      "[LightGBM] [Warning] bagging_freq is set=16, subsample_freq=0 will be ignored. Current value: bagging_freq=16\n",
      "Training until validation scores don't improve for 100 rounds\n",
      "[100]\ttraining's l1: 1.9248\tvalid_1's l1: 2.15755\n"
     ]
    },
    {
     "name": "stderr",
     "output_type": "stream",
     "text": [
      "\u001b[32m[I 2021-07-29 23:49:47,947]\u001b[0m Trial 84 finished with value: -2.1445530590855117 and parameters: {'max_depth': 11, 'min_child_weight': 13, 'subsample': 0.9, 'colsample_bytree': 0.5, 'reg_lambda': 0.0017465858528443344, 'reg_alpha': 15.77258039656262, 'feature_fraction': 0.614409344685361, 'bagging_fraction': 0.22537844633983523, 'bagging_freq': 16, 'num_leaves': 85, 'min_child_samples': 44}. Best is trial 67 with value: -2.123545052484174.\u001b[0m\n"
     ]
    },
    {
     "name": "stdout",
     "output_type": "stream",
     "text": [
      "Early stopping, best iteration is:\n",
      "[32]\ttraining's l1: 2.07642\tvalid_1's l1: 2.14455\n",
      "[LightGBM] [Warning] feature_fraction is set=0.5673040868322841, colsample_bytree=0.5 will be ignored. Current value: feature_fraction=0.5673040868322841\n",
      "[LightGBM] [Warning] bagging_fraction is set=0.26028553182312913, subsample=0.9 will be ignored. Current value: bagging_fraction=0.26028553182312913\n",
      "[LightGBM] [Warning] bagging_freq is set=20, subsample_freq=0 will be ignored. Current value: bagging_freq=20\n",
      "Training until validation scores don't improve for 100 rounds\n",
      "[100]\ttraining's l1: 1.84864\tvalid_1's l1: 2.175\n"
     ]
    },
    {
     "name": "stderr",
     "output_type": "stream",
     "text": [
      "\u001b[32m[I 2021-07-29 23:49:50,218]\u001b[0m Trial 85 finished with value: -2.1469218111958703 and parameters: {'max_depth': 10, 'min_child_weight': 15, 'subsample': 0.9, 'colsample_bytree': 0.5, 'reg_lambda': 0.026505542076290592, 'reg_alpha': 4.204561910542524, 'feature_fraction': 0.5673040868322841, 'bagging_fraction': 0.26028553182312913, 'bagging_freq': 20, 'num_leaves': 298, 'min_child_samples': 54}. Best is trial 67 with value: -2.123545052484174.\u001b[0m\n"
     ]
    },
    {
     "name": "stdout",
     "output_type": "stream",
     "text": [
      "Early stopping, best iteration is:\n",
      "[44]\ttraining's l1: 1.94481\tvalid_1's l1: 2.14696\n",
      "[LightGBM] [Warning] feature_fraction is set=0.7380683818071423, colsample_bytree=0.5 will be ignored. Current value: feature_fraction=0.7380683818071423\n",
      "[LightGBM] [Warning] bagging_fraction is set=0.2101695142445122, subsample=0.8 will be ignored. Current value: bagging_fraction=0.2101695142445122\n",
      "[LightGBM] [Warning] bagging_freq is set=16, subsample_freq=0 will be ignored. Current value: bagging_freq=16\n",
      "Training until validation scores don't improve for 100 rounds\n",
      "[100]\ttraining's l1: 1.90843\tvalid_1's l1: 2.14734\n",
      "Early stopping, best iteration is:\n",
      "[37]\ttraining's l1: 2.04207\tvalid_1's l1: 2.14052\n"
     ]
    },
    {
     "name": "stderr",
     "output_type": "stream",
     "text": [
      "\u001b[32m[I 2021-07-29 23:49:51,645]\u001b[0m Trial 86 finished with value: -2.1405151774218205 and parameters: {'max_depth': 8, 'min_child_weight': 16, 'subsample': 0.8, 'colsample_bytree': 0.5, 'reg_lambda': 0.01822333255253217, 'reg_alpha': 1.164233122329284, 'feature_fraction': 0.7380683818071423, 'bagging_fraction': 0.2101695142445122, 'bagging_freq': 16, 'num_leaves': 125, 'min_child_samples': 46}. Best is trial 67 with value: -2.123545052484174.\u001b[0m\n"
     ]
    },
    {
     "name": "stdout",
     "output_type": "stream",
     "text": [
      "[LightGBM] [Warning] feature_fraction is set=0.6858377402272193, colsample_bytree=0.6 will be ignored. Current value: feature_fraction=0.6858377402272193\n",
      "[LightGBM] [Warning] bagging_fraction is set=0.28903049447100915, subsample=0.9 will be ignored. Current value: bagging_fraction=0.28903049447100915\n",
      "[LightGBM] [Warning] bagging_freq is set=17, subsample_freq=0 will be ignored. Current value: bagging_freq=17\n",
      "Training until validation scores don't improve for 100 rounds\n",
      "[100]\ttraining's l1: 1.91639\tvalid_1's l1: 2.15884\n"
     ]
    },
    {
     "name": "stderr",
     "output_type": "stream",
     "text": [
      "\u001b[32m[I 2021-07-29 23:49:53,161]\u001b[0m Trial 87 finished with value: -2.1312184516802337 and parameters: {'max_depth': 14, 'min_child_weight': 14, 'subsample': 0.9, 'colsample_bytree': 0.6, 'reg_lambda': 0.004540949047609361, 'reg_alpha': 0.16330185592947188, 'feature_fraction': 0.6858377402272193, 'bagging_fraction': 0.28903049447100915, 'bagging_freq': 17, 'num_leaves': 55, 'min_child_samples': 40}. Best is trial 67 with value: -2.123545052484174.\u001b[0m\n"
     ]
    },
    {
     "name": "stdout",
     "output_type": "stream",
     "text": [
      "Early stopping, best iteration is:\n",
      "[37]\ttraining's l1: 2.06382\tvalid_1's l1: 2.13122\n",
      "[LightGBM] [Warning] feature_fraction is set=0.687602324738339, colsample_bytree=0.6 will be ignored. Current value: feature_fraction=0.687602324738339\n",
      "[LightGBM] [Warning] bagging_fraction is set=0.20069855482395793, subsample=0.9 will be ignored. Current value: bagging_fraction=0.20069855482395793\n",
      "[LightGBM] [Warning] bagging_freq is set=19, subsample_freq=0 will be ignored. Current value: bagging_freq=19\n",
      "Training until validation scores don't improve for 100 rounds\n",
      "[100]\ttraining's l1: 1.92633\tvalid_1's l1: 2.15427\n"
     ]
    },
    {
     "name": "stderr",
     "output_type": "stream",
     "text": [
      "\u001b[32m[I 2021-07-29 23:49:54,725]\u001b[0m Trial 88 finished with value: -2.136053020513808 and parameters: {'max_depth': 16, 'min_child_weight': 14, 'subsample': 0.9, 'colsample_bytree': 0.6, 'reg_lambda': 0.009042559876951363, 'reg_alpha': 0.13192537281232408, 'feature_fraction': 0.687602324738339, 'bagging_fraction': 0.20069855482395793, 'bagging_freq': 19, 'num_leaves': 69, 'min_child_samples': 40}. Best is trial 67 with value: -2.123545052484174.\u001b[0m\n"
     ]
    },
    {
     "name": "stdout",
     "output_type": "stream",
     "text": [
      "Early stopping, best iteration is:\n",
      "[47]\ttraining's l1: 2.01824\tvalid_1's l1: 2.13611\n",
      "[LightGBM] [Warning] feature_fraction is set=0.7095956482608773, colsample_bytree=0.5 will be ignored. Current value: feature_fraction=0.7095956482608773\n",
      "[LightGBM] [Warning] bagging_fraction is set=0.30088488128601415, subsample=0.9 will be ignored. Current value: bagging_fraction=0.30088488128601415\n",
      "[LightGBM] [Warning] bagging_freq is set=17, subsample_freq=0 will be ignored. Current value: bagging_freq=17\n",
      "Training until validation scores don't improve for 100 rounds\n",
      "[100]\ttraining's l1: 1.81269\tvalid_1's l1: 2.18675\n"
     ]
    },
    {
     "name": "stderr",
     "output_type": "stream",
     "text": [
      "\u001b[32m[I 2021-07-29 23:49:56,820]\u001b[0m Trial 89 finished with value: -2.140693772064041 and parameters: {'max_depth': 15, 'min_child_weight': 15, 'subsample': 0.9, 'colsample_bytree': 0.5, 'reg_lambda': 0.0060060014362817386, 'reg_alpha': 0.04318917562111377, 'feature_fraction': 0.7095956482608773, 'bagging_fraction': 0.30088488128601415, 'bagging_freq': 17, 'num_leaves': 149, 'min_child_samples': 37}. Best is trial 67 with value: -2.123545052484174.\u001b[0m\n"
     ]
    },
    {
     "name": "stdout",
     "output_type": "stream",
     "text": [
      "Early stopping, best iteration is:\n",
      "[32]\ttraining's l1: 1.99612\tvalid_1's l1: 2.1407\n",
      "[LightGBM] [Warning] feature_fraction is set=0.8623840571900621, colsample_bytree=0.6 will be ignored. Current value: feature_fraction=0.8623840571900621\n",
      "[LightGBM] [Warning] bagging_fraction is set=0.28213438494501447, subsample=0.9 will be ignored. Current value: bagging_fraction=0.28213438494501447\n",
      "[LightGBM] [Warning] bagging_freq is set=18, subsample_freq=0 will be ignored. Current value: bagging_freq=18\n",
      "Training until validation scores don't improve for 100 rounds\n",
      "[100]\ttraining's l1: 1.99327\tvalid_1's l1: 2.14136\n"
     ]
    },
    {
     "name": "stderr",
     "output_type": "stream",
     "text": [
      "\u001b[32m[I 2021-07-29 23:49:58,365]\u001b[0m Trial 90 finished with value: -2.132288526385218 and parameters: {'max_depth': 17, 'min_child_weight': 12, 'subsample': 0.9, 'colsample_bytree': 0.6, 'reg_lambda': 0.0026290489333991593, 'reg_alpha': 0.17109400093536528, 'feature_fraction': 0.8623840571900621, 'bagging_fraction': 0.28213438494501447, 'bagging_freq': 18, 'num_leaves': 32, 'min_child_samples': 44}. Best is trial 67 with value: -2.123545052484174.\u001b[0m\n"
     ]
    },
    {
     "name": "stdout",
     "output_type": "stream",
     "text": [
      "Early stopping, best iteration is:\n",
      "[49]\ttraining's l1: 2.07896\tvalid_1's l1: 2.13233\n",
      "[LightGBM] [Warning] feature_fraction is set=0.6454894080109059, colsample_bytree=0.5 will be ignored. Current value: feature_fraction=0.6454894080109059\n",
      "[LightGBM] [Warning] bagging_fraction is set=0.3480953500112222, subsample=0.9 will be ignored. Current value: bagging_fraction=0.3480953500112222\n",
      "[LightGBM] [Warning] bagging_freq is set=16, subsample_freq=0 will be ignored. Current value: bagging_freq=16\n",
      "Training until validation scores don't improve for 100 rounds\n",
      "[100]\ttraining's l1: 1.91057\tvalid_1's l1: 2.16739\n"
     ]
    },
    {
     "name": "stderr",
     "output_type": "stream",
     "text": [
      "\u001b[32m[I 2021-07-29 23:50:00,240]\u001b[0m Trial 91 finished with value: -2.1394632232765307 and parameters: {'max_depth': 14, 'min_child_weight': 11, 'subsample': 0.9, 'colsample_bytree': 0.5, 'reg_lambda': 0.004127052521603401, 'reg_alpha': 0.45549822056423894, 'feature_fraction': 0.6454894080109059, 'bagging_fraction': 0.3480953500112222, 'bagging_freq': 16, 'num_leaves': 58, 'min_child_samples': 49}. Best is trial 67 with value: -2.123545052484174.\u001b[0m\n"
     ]
    },
    {
     "name": "stdout",
     "output_type": "stream",
     "text": [
      "Early stopping, best iteration is:\n",
      "[39]\ttraining's l1: 2.04104\tvalid_1's l1: 2.13946\n",
      "[LightGBM] [Warning] feature_fraction is set=0.5949230347592066, colsample_bytree=0.5 will be ignored. Current value: feature_fraction=0.5949230347592066\n",
      "[LightGBM] [Warning] bagging_fraction is set=0.23419000405308302, subsample=0.8 will be ignored. Current value: bagging_fraction=0.23419000405308302\n",
      "[LightGBM] [Warning] bagging_freq is set=15, subsample_freq=0 will be ignored. Current value: bagging_freq=15\n",
      "Training until validation scores don't improve for 100 rounds\n",
      "[100]\ttraining's l1: 1.87566\tvalid_1's l1: 2.16526\n"
     ]
    },
    {
     "name": "stderr",
     "output_type": "stream",
     "text": [
      "\u001b[32m[I 2021-07-29 23:50:02,355]\u001b[0m Trial 92 finished with value: -2.13279616614228 and parameters: {'max_depth': 13, 'min_child_weight': 15, 'subsample': 0.8, 'colsample_bytree': 0.5, 'reg_lambda': 0.04465863361452747, 'reg_alpha': 0.654430094234927, 'feature_fraction': 0.5949230347592066, 'bagging_fraction': 0.23419000405308302, 'bagging_freq': 15, 'num_leaves': 107, 'min_child_samples': 32}. Best is trial 67 with value: -2.123545052484174.\u001b[0m\n"
     ]
    },
    {
     "name": "stdout",
     "output_type": "stream",
     "text": [
      "Early stopping, best iteration is:\n",
      "[37]\ttraining's l1: 2.01053\tvalid_1's l1: 2.13281\n",
      "[LightGBM] [Warning] feature_fraction is set=0.6791294558492944, colsample_bytree=0.6 will be ignored. Current value: feature_fraction=0.6791294558492944\n",
      "[LightGBM] [Warning] bagging_fraction is set=0.40032938124057066, subsample=0.9 will be ignored. Current value: bagging_fraction=0.40032938124057066\n",
      "[LightGBM] [Warning] bagging_freq is set=17, subsample_freq=0 will be ignored. Current value: bagging_freq=17\n",
      "Training until validation scores don't improve for 100 rounds\n",
      "[100]\ttraining's l1: 1.97338\tvalid_1's l1: 2.15736\n"
     ]
    },
    {
     "name": "stderr",
     "output_type": "stream",
     "text": [
      "\u001b[32m[I 2021-07-29 23:50:03,881]\u001b[0m Trial 93 finished with value: -2.142954789169567 and parameters: {'max_depth': 19, 'min_child_weight': 17, 'subsample': 0.9, 'colsample_bytree': 0.6, 'reg_lambda': 0.08864862130926875, 'reg_alpha': 0.27244679660339544, 'feature_fraction': 0.6791294558492944, 'bagging_fraction': 0.40032938124057066, 'bagging_freq': 17, 'num_leaves': 36, 'min_child_samples': 28}. Best is trial 67 with value: -2.123545052484174.\u001b[0m\n"
     ]
    },
    {
     "name": "stdout",
     "output_type": "stream",
     "text": [
      "Early stopping, best iteration is:\n",
      "[47]\ttraining's l1: 2.06866\tvalid_1's l1: 2.14299\n",
      "[LightGBM] [Warning] feature_fraction is set=0.8157152757208102, colsample_bytree=0.5 will be ignored. Current value: feature_fraction=0.8157152757208102\n",
      "[LightGBM] [Warning] bagging_fraction is set=0.6561909160104493, subsample=0.8 will be ignored. Current value: bagging_fraction=0.6561909160104493\n",
      "[LightGBM] [Warning] bagging_freq is set=16, subsample_freq=0 will be ignored. Current value: bagging_freq=16\n",
      "Training until validation scores don't improve for 100 rounds\n",
      "[100]\ttraining's l1: 1.55768\tvalid_1's l1: 2.25069\n"
     ]
    },
    {
     "name": "stderr",
     "output_type": "stream",
     "text": [
      "\u001b[32m[I 2021-07-29 23:50:08,430]\u001b[0m Trial 94 finished with value: -2.1684762079750732 and parameters: {'max_depth': 14, 'min_child_weight': 13, 'subsample': 0.8, 'colsample_bytree': 0.5, 'reg_lambda': 0.01513064397618911, 'reg_alpha': 0.07698161360932661, 'feature_fraction': 0.8157152757208102, 'bagging_fraction': 0.6561909160104493, 'bagging_freq': 16, 'num_leaves': 973, 'min_child_samples': 41}. Best is trial 67 with value: -2.123545052484174.\u001b[0m\n"
     ]
    },
    {
     "name": "stdout",
     "output_type": "stream",
     "text": [
      "Early stopping, best iteration is:\n",
      "[24]\ttraining's l1: 1.86962\tvalid_1's l1: 2.16848\n",
      "[LightGBM] [Warning] feature_fraction is set=0.6529988644515646, colsample_bytree=0.6 will be ignored. Current value: feature_fraction=0.6529988644515646\n",
      "[LightGBM] [Warning] bagging_fraction is set=0.3087438645245041, subsample=0.9 will be ignored. Current value: bagging_fraction=0.3087438645245041\n",
      "[LightGBM] [Warning] bagging_freq is set=14, subsample_freq=0 will be ignored. Current value: bagging_freq=14\n",
      "Training until validation scores don't improve for 100 rounds\n",
      "[100]\ttraining's l1: 1.87994\tvalid_1's l1: 2.1641\n"
     ]
    },
    {
     "name": "stderr",
     "output_type": "stream",
     "text": [
      "\u001b[32m[I 2021-07-29 23:50:10,108]\u001b[0m Trial 95 finished with value: -2.1361211017575905 and parameters: {'max_depth': 11, 'min_child_weight': 14, 'subsample': 0.9, 'colsample_bytree': 0.6, 'reg_lambda': 0.028294876968992015, 'reg_alpha': 0.010408723892914272, 'feature_fraction': 0.6529988644515646, 'bagging_fraction': 0.3087438645245041, 'bagging_freq': 14, 'num_leaves': 89, 'min_child_samples': 46}. Best is trial 67 with value: -2.123545052484174.\u001b[0m\n"
     ]
    },
    {
     "name": "stdout",
     "output_type": "stream",
     "text": [
      "Early stopping, best iteration is:\n",
      "[33]\ttraining's l1: 2.03917\tvalid_1's l1: 2.13612\n",
      "[LightGBM] [Warning] feature_fraction is set=0.9345693637220724, colsample_bytree=0.8 will be ignored. Current value: feature_fraction=0.9345693637220724\n",
      "[LightGBM] [Warning] bagging_fraction is set=0.37870852559215007, subsample=0.8 will be ignored. Current value: bagging_fraction=0.37870852559215007\n",
      "[LightGBM] [Warning] bagging_freq is set=19, subsample_freq=0 will be ignored. Current value: bagging_freq=19\n",
      "Training until validation scores don't improve for 100 rounds\n",
      "[100]\ttraining's l1: 1.98708\tvalid_1's l1: 2.14306\n"
     ]
    },
    {
     "name": "stderr",
     "output_type": "stream",
     "text": [
      "\u001b[32m[I 2021-07-29 23:50:11,757]\u001b[0m Trial 96 finished with value: -2.1212729444410936 and parameters: {'max_depth': 16, 'min_child_weight': 16, 'subsample': 0.8, 'colsample_bytree': 0.8, 'reg_lambda': 0.009412366357658443, 'reg_alpha': 3.169177163582572, 'feature_fraction': 0.9345693637220724, 'bagging_fraction': 0.37870852559215007, 'bagging_freq': 19, 'num_leaves': 31, 'min_child_samples': 36}. Best is trial 96 with value: -2.1212729444410936.\u001b[0m\n"
     ]
    },
    {
     "name": "stdout",
     "output_type": "stream",
     "text": [
      "Early stopping, best iteration is:\n",
      "[51]\ttraining's l1: 2.07567\tvalid_1's l1: 2.12134\n",
      "[LightGBM] [Warning] feature_fraction is set=0.9020184572707644, colsample_bytree=0.5 will be ignored. Current value: feature_fraction=0.9020184572707644\n",
      "[LightGBM] [Warning] bagging_fraction is set=0.37556381206851824, subsample=0.6 will be ignored. Current value: bagging_fraction=0.37556381206851824\n",
      "[LightGBM] [Warning] bagging_freq is set=18, subsample_freq=0 will be ignored. Current value: bagging_freq=18\n",
      "Training until validation scores don't improve for 100 rounds\n",
      "[100]\ttraining's l1: 1.85332\tvalid_1's l1: 2.17697\n"
     ]
    },
    {
     "name": "stderr",
     "output_type": "stream",
     "text": [
      "\u001b[32m[I 2021-07-29 23:50:15,180]\u001b[0m Trial 97 finished with value: -2.142528948158634 and parameters: {'max_depth': 16, 'min_child_weight': 16, 'subsample': 0.6, 'colsample_bytree': 0.5, 'reg_lambda': 667.8371608285626, 'reg_alpha': 1.0390483030504478, 'feature_fraction': 0.9020184572707644, 'bagging_fraction': 0.37556381206851824, 'bagging_freq': 18, 'num_leaves': 220, 'min_child_samples': 36}. Best is trial 96 with value: -2.1212729444410936.\u001b[0m\n"
     ]
    },
    {
     "name": "stdout",
     "output_type": "stream",
     "text": [
      "Early stopping, best iteration is:\n",
      "[39]\ttraining's l1: 2.0017\tvalid_1's l1: 2.14254\n",
      "[LightGBM] [Warning] feature_fraction is set=0.9369567535309264, colsample_bytree=0.8 will be ignored. Current value: feature_fraction=0.9369567535309264\n",
      "[LightGBM] [Warning] bagging_fraction is set=0.3476056186962182, subsample=0.7 will be ignored. Current value: bagging_fraction=0.3476056186962182\n",
      "[LightGBM] [Warning] bagging_freq is set=20, subsample_freq=0 will be ignored. Current value: bagging_freq=20\n",
      "Training until validation scores don't improve for 100 rounds\n",
      "[100]\ttraining's l1: 1.74343\tvalid_1's l1: 2.20046\n"
     ]
    },
    {
     "name": "stderr",
     "output_type": "stream",
     "text": [
      "\u001b[32m[I 2021-07-29 23:50:18,883]\u001b[0m Trial 98 finished with value: -2.1435575656867205 and parameters: {'max_depth': 15, 'min_child_weight': 15, 'subsample': 0.7, 'colsample_bytree': 0.8, 'reg_lambda': 0.008574405591374566, 'reg_alpha': 6.786210816201581, 'feature_fraction': 0.9369567535309264, 'bagging_fraction': 0.3476056186962182, 'bagging_freq': 20, 'num_leaves': 258, 'min_child_samples': 38}. Best is trial 96 with value: -2.1212729444410936.\u001b[0m\n"
     ]
    },
    {
     "name": "stdout",
     "output_type": "stream",
     "text": [
      "Early stopping, best iteration is:\n",
      "[42]\ttraining's l1: 1.87696\tvalid_1's l1: 2.14357\n",
      "[LightGBM] [Warning] feature_fraction is set=0.9326949507326998, colsample_bytree=0.8 will be ignored. Current value: feature_fraction=0.9326949507326998\n",
      "[LightGBM] [Warning] bagging_fraction is set=0.2902242561127369, subsample=0.9 will be ignored. Current value: bagging_fraction=0.2902242561127369\n",
      "[LightGBM] [Warning] bagging_freq is set=19, subsample_freq=0 will be ignored. Current value: bagging_freq=19\n",
      "Training until validation scores don't improve for 100 rounds\n",
      "[100]\ttraining's l1: 2.01502\tvalid_1's l1: 2.14004\n"
     ]
    },
    {
     "name": "stderr",
     "output_type": "stream",
     "text": [
      "\u001b[32m[I 2021-07-29 23:50:20,416]\u001b[0m Trial 99 finished with value: -2.132532518856557 and parameters: {'max_depth': 18, 'min_child_weight': 16, 'subsample': 0.9, 'colsample_bytree': 0.8, 'reg_lambda': 0.0029680902634028664, 'reg_alpha': 1.5458784189849764, 'feature_fraction': 0.9326949507326998, 'bagging_fraction': 0.2902242561127369, 'bagging_freq': 19, 'num_leaves': 25, 'min_child_samples': 52}. Best is trial 96 with value: -2.1212729444410936.\u001b[0m\n"
     ]
    },
    {
     "name": "stdout",
     "output_type": "stream",
     "text": [
      "Early stopping, best iteration is:\n",
      "[65]\ttraining's l1: 2.06362\tvalid_1's l1: 2.1326\n"
     ]
    }
   ],
   "source": [
    "study1, study2, study3, study4 = rt4kaido_train.train_and_evaluate(train, isgamedayonly=True)"
   ]
  },
  {
   "cell_type": "code",
   "execution_count": 23,
   "id": "dee5090d",
   "metadata": {},
   "outputs": [
    {
     "name": "stdout",
     "output_type": "stream",
     "text": [
      "best_score = 2.5426393658701856\n"
     ]
    },
    {
     "data": {
      "text/plain": [
       "{'max_depth': 6,\n",
       " 'min_child_weight': 9,\n",
       " 'subsample': 0.8,\n",
       " 'colsample_bytree': 0.9,\n",
       " 'reg_lambda': 0.08775848211046411,\n",
       " 'reg_alpha': 0.0027773071193270436,\n",
       " 'feature_fraction': 0.45190931022259706,\n",
       " 'bagging_fraction': 0.5670215780108194,\n",
       " 'bagging_freq': 13,\n",
       " 'num_leaves': 107,\n",
       " 'min_child_samples': 41}"
      ]
     },
     "execution_count": 23,
     "metadata": {},
     "output_type": "execute_result"
    }
   ],
   "source": [
    "print(f'best_score = {-study1.best_value}')\n",
    "study1.best_trial.params"
   ]
  },
  {
   "cell_type": "code",
   "execution_count": 24,
   "id": "c3be8b32",
   "metadata": {},
   "outputs": [
    {
     "name": "stdout",
     "output_type": "stream",
     "text": [
      "best_score = 2.8277580098012094\n"
     ]
    },
    {
     "data": {
      "text/plain": [
       "{'max_depth': 2,\n",
       " 'min_child_weight': 5,\n",
       " 'subsample': 0.7,\n",
       " 'colsample_bytree': 0.8,\n",
       " 'reg_lambda': 16.790678629980338,\n",
       " 'reg_alpha': 0.009415230723916623,\n",
       " 'feature_fraction': 0.9145403339290147,\n",
       " 'bagging_fraction': 0.9513516876029571,\n",
       " 'bagging_freq': 9,\n",
       " 'num_leaves': 630,\n",
       " 'min_child_samples': 51}"
      ]
     },
     "execution_count": 24,
     "metadata": {},
     "output_type": "execute_result"
    }
   ],
   "source": [
    "print(f'best_score = {-study2.best_value}')\n",
    "study2.best_trial.params"
   ]
  },
  {
   "cell_type": "code",
   "execution_count": 25,
   "id": "403b3b6d",
   "metadata": {},
   "outputs": [
    {
     "name": "stdout",
     "output_type": "stream",
     "text": [
      "best_score = 1.758952169856537\n"
     ]
    },
    {
     "data": {
      "text/plain": [
       "{'max_depth': 7,\n",
       " 'min_child_weight': 4,\n",
       " 'subsample': 0.5,\n",
       " 'colsample_bytree': 0.6,\n",
       " 'reg_lambda': 0.0010346852415822872,\n",
       " 'reg_alpha': 0.014455742502665028,\n",
       " 'feature_fraction': 0.5266195323088254,\n",
       " 'bagging_fraction': 0.8791204332702245,\n",
       " 'bagging_freq': 19,\n",
       " 'num_leaves': 339,\n",
       " 'min_child_samples': 76}"
      ]
     },
     "execution_count": 25,
     "metadata": {},
     "output_type": "execute_result"
    }
   ],
   "source": [
    "print(f'best_score = {-study3.best_value}')\n",
    "study3.best_trial.params"
   ]
  },
  {
   "cell_type": "code",
   "execution_count": 26,
   "id": "197576dd",
   "metadata": {},
   "outputs": [
    {
     "name": "stdout",
     "output_type": "stream",
     "text": [
      "best_score = 2.1212729444410936\n"
     ]
    },
    {
     "data": {
      "text/plain": [
       "{'max_depth': 16,\n",
       " 'min_child_weight': 16,\n",
       " 'subsample': 0.8,\n",
       " 'colsample_bytree': 0.8,\n",
       " 'reg_lambda': 0.009412366357658443,\n",
       " 'reg_alpha': 3.169177163582572,\n",
       " 'feature_fraction': 0.9345693637220724,\n",
       " 'bagging_fraction': 0.37870852559215007,\n",
       " 'bagging_freq': 19,\n",
       " 'num_leaves': 31,\n",
       " 'min_child_samples': 36}"
      ]
     },
     "execution_count": 26,
     "metadata": {},
     "output_type": "execute_result"
    }
   ],
   "source": [
    "print(f'best_score = {-study4.best_value}')\n",
    "study4.best_trial.params"
   ]
  },
  {
   "cell_type": "code",
   "execution_count": null,
   "id": "1e5f86e7",
   "metadata": {},
   "outputs": [],
   "source": []
  },
  {
   "cell_type": "code",
   "execution_count": null,
   "id": "8fd3a929",
   "metadata": {},
   "outputs": [],
   "source": []
  }
 ],
 "metadata": {
  "kernelspec": {
   "display_name": "Python 3",
   "language": "python",
   "name": "python3"
  },
  "language_info": {
   "codemirror_mode": {
    "name": "ipython",
    "version": 3
   },
   "file_extension": ".py",
   "mimetype": "text/x-python",
   "name": "python",
   "nbconvert_exporter": "python",
   "pygments_lexer": "ipython3",
   "version": "3.6.13"
  }
 },
 "nbformat": 4,
 "nbformat_minor": 5
}
