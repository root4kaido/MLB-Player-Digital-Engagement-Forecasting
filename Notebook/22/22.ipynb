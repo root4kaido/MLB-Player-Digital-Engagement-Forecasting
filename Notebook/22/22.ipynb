{
 "cells": [
  {
   "cell_type": "code",
   "execution_count": 1,
   "id": "fc49ebb1",
   "metadata": {},
   "outputs": [],
   "source": [
    "import gc\n",
    "import os\n",
    "import sys\n",
    "import math\n",
    "import random\n",
    "import warnings\n",
    "import pickle\n",
    "from pathlib import Path\n",
    "from joblib import Parallel, delayed\n",
    "from statsmodels.tsa.deterministic import (CalendarFourier,\n",
    "                                           CalendarSeasonality,\n",
    "                                           CalendarTimeTrend,\n",
    "                                           DeterministicProcess)\n",
    "\n",
    "from tqdm import tqdm\n",
    "import os\n",
    "import ipywidgets as widgets\n",
    "import matplotlib.pyplot as plt\n",
    "import numpy as np\n",
    "import pandas as pd\n",
    "import seaborn as sns\n",
    "# from pandarallel import pandarallel\n",
    "# pandarallel.initialize()\n",
    "warnings.simplefilter(\"ignore\")\n",
    "import ctypes as ct\n",
    "from datetime import timedelta\n",
    "\n",
    "from sklearn.metrics import mean_absolute_error\n",
    "\n",
    "import statistics as st\n",
    "# import lightgbm as lgbm\n",
    "import optuna.integration.lightgbm as lgbm\n",
    "\n",
    "from scipy.stats import norm"
   ]
  },
  {
   "cell_type": "code",
   "execution_count": 2,
   "id": "0c0ba5af",
   "metadata": {},
   "outputs": [],
   "source": [
    "sys.path.append('../../')\n",
    "import src.utils as utils"
   ]
  },
  {
   "cell_type": "markdown",
   "id": "b4ef1c93",
   "metadata": {},
   "source": [
    "## Param"
   ]
  },
  {
   "cell_type": "code",
   "execution_count": 3,
   "id": "3218ed9e",
   "metadata": {},
   "outputs": [],
   "source": [
    "targets_cols = ['playerId', 'target1', 'target2', 'target3', 'target4', 'date']\n",
    "players_cols = ['playerId', 'primaryPositionName', 'birthCity', 'DOY', 'mlbDebutYear', 'DebutAge', 'heightInches', 'weight']\n",
    "rosters_cols = ['playerId', 'teamId', 'status', 'date']\n",
    "transactions_cols = ['playerId', 'transaction_flag', 'date']\n",
    "scores_cols = ['playerId', 'battingOrder', 'gamesPlayedBatting', 'flyOuts',\n",
    "       'groundOuts', 'runsScored', 'doubles', 'triples', 'homeRuns',\n",
    "       'strikeOuts', 'baseOnBalls', 'intentionalWalks', 'hits', 'hitByPitch',\n",
    "       'atBats', 'caughtStealing', 'stolenBases', 'groundIntoDoublePlay',\n",
    "       'groundIntoTriplePlay', 'plateAppearances', 'totalBases', 'rbi',\n",
    "       'leftOnBase', 'sacBunts', 'sacFlies', 'catchersInterference',\n",
    "       'pickoffs', 'gamesPlayedPitching', 'gamesStartedPitching',\n",
    "       'completeGamesPitching', 'shutoutsPitching', 'winsPitching',\n",
    "       'lossesPitching', 'flyOutsPitching', 'airOutsPitching',\n",
    "       'groundOutsPitching', 'runsPitching', 'doublesPitching',\n",
    "       'triplesPitching', 'homeRunsPitching', 'strikeOutsPitching',\n",
    "       'baseOnBallsPitching', 'intentionalWalksPitching', 'hitsPitching',\n",
    "       'hitByPitchPitching', 'atBatsPitching', 'caughtStealingPitching',\n",
    "       'stolenBasesPitching', 'inningsPitched', 'saveOpportunities',\n",
    "       'earnedRuns', 'battersFaced', 'outsPitching', 'pitchesThrown', 'balls',\n",
    "       'strikes', 'hitBatsmen', 'balks', 'wildPitches', 'pickoffsPitching',\n",
    "       'rbiPitching', 'gamesFinishedPitching', 'inheritedRunners',\n",
    "       'inheritedRunnersScored', 'catchersInterferencePitching',\n",
    "       'sacBuntsPitching', 'sacFliesPitching', 'saves', 'holds', 'blownSaves',\n",
    "       'assists', 'putOuts', 'errors', 'chances', 'date']\n",
    "\n",
    "feature_cols1 = ['week_day','label_playerId', 'label_primaryPositionName', 'label_teamId',\n",
    "       'label_status', 'battingOrder', 'gamesPlayedBatting', 'flyOuts',\n",
    "       'groundOuts', 'runsScored', 'doubles', 'triples', 'homeRuns',\n",
    "       'strikeOuts', 'baseOnBalls', 'intentionalWalks', 'hits', 'hitByPitch',\n",
    "       'atBats', 'caughtStealing', 'stolenBases', 'groundIntoDoublePlay',\n",
    "       'groundIntoTriplePlay', 'plateAppearances', 'totalBases', 'rbi',\n",
    "       'leftOnBase', 'sacBunts', 'sacFlies', 'catchersInterference',\n",
    "       'pickoffs', 'gamesPlayedPitching', 'gamesStartedPitching',\n",
    "       'completeGamesPitching', 'shutoutsPitching', 'winsPitching',\n",
    "       'lossesPitching', 'flyOutsPitching', 'airOutsPitching',\n",
    "       'groundOutsPitching', 'runsPitching', 'doublesPitching',\n",
    "       'triplesPitching', 'homeRunsPitching', 'strikeOutsPitching',\n",
    "       'baseOnBallsPitching', 'intentionalWalksPitching', 'hitsPitching',\n",
    "       'hitByPitchPitching', 'atBatsPitching', 'caughtStealingPitching',\n",
    "       'stolenBasesPitching', 'inningsPitched', 'saveOpportunities',\n",
    "       'earnedRuns', 'battersFaced', 'outsPitching', 'pitchesThrown', 'balls',\n",
    "       'strikes', 'hitBatsmen', 'balks', 'wildPitches', 'pickoffsPitching',\n",
    "       'rbiPitching', 'gamesFinishedPitching', 'inheritedRunners',\n",
    "       'inheritedRunnersScored', 'catchersInterferencePitching',\n",
    "       'sacBuntsPitching', 'sacFliesPitching', 'saves', 'holds', 'blownSaves',\n",
    "       'assists', 'putOuts', 'errors', 'chances',\n",
    "        \"target1_mean\",\"target1_median\",\"target1_std\",\"target1_min\",\"target1_max\",\"target1_skew\",\"target1_kurt\",\n",
    "         \"target2_mean\",\"target2_median\",\"target2_std\",\"target2_min\",\"target2_max\",\"target2_skew\",\"target2_kurt\",\n",
    "        \"target3_mean\",\"target3_median\",\"target3_std\",\"target3_min\",\"target3_max\",\"target3_skew\",\"target3_kurt\",\n",
    "        \"target4_mean\",\"target4_median\",\"target4_std\",\"target4_min\",\"target4_max\",\"target4_skew\",\"target4_kurt\", \n",
    "        'tgt1_2_corr', 'tgt1_3_corr', 'tgt2_3_corr', 'tgt1_4_corr', 'tgt2_4_corr', 'tgt3_4_corr', 'daysSinceLastGame'] \n",
    "\n",
    "feature_cols2 = ['label_playerId', 'label_primaryPositionName', 'label_teamId',\n",
    "       'label_status', 'battingOrder', 'gamesPlayedBatting', 'flyOuts',\n",
    "       'groundOuts', 'runsScored', 'doubles', 'triples', 'homeRuns',\n",
    "       'strikeOuts', 'baseOnBalls', 'intentionalWalks', 'hits', 'hitByPitch',\n",
    "       'atBats', 'caughtStealing', 'stolenBases', 'groundIntoDoublePlay',\n",
    "       'groundIntoTriplePlay', 'plateAppearances', 'totalBases', 'rbi',\n",
    "       'leftOnBase', 'sacBunts', 'sacFlies', 'catchersInterference',\n",
    "       'pickoffs', 'gamesPlayedPitching', 'gamesStartedPitching',\n",
    "       'completeGamesPitching', 'shutoutsPitching', 'winsPitching',\n",
    "       'lossesPitching', 'flyOutsPitching', 'airOutsPitching',\n",
    "       'groundOutsPitching', 'runsPitching', 'doublesPitching',\n",
    "       'triplesPitching', 'homeRunsPitching', 'strikeOutsPitching',\n",
    "       'baseOnBallsPitching', 'intentionalWalksPitching', 'hitsPitching',\n",
    "       'hitByPitchPitching', 'atBatsPitching', 'caughtStealingPitching',\n",
    "       'stolenBasesPitching', 'inningsPitched', 'saveOpportunities',\n",
    "       'earnedRuns', 'battersFaced', 'outsPitching', 'pitchesThrown', 'balls',\n",
    "       'strikes', 'hitBatsmen', 'balks', 'wildPitches', 'pickoffsPitching',\n",
    "       'rbiPitching', 'gamesFinishedPitching', 'inheritedRunners',\n",
    "       'inheritedRunnersScored', 'catchersInterferencePitching',\n",
    "       'sacBuntsPitching', 'sacFliesPitching', 'saves', 'holds', 'blownSaves',\n",
    "       'assists', 'putOuts', 'errors', 'chances',\n",
    "        \"target1_mean\",\"target1_median\",\"target1_std\",\"target1_min\",\"target1_max\",\"target1_skew\",\"target1_kurt\",\n",
    "         \"target2_mean\",\"target2_median\",\"target2_std\",\"target2_min\",\"target2_max\",\"target2_skew\",\"target2_kurt\",\n",
    "        \"target3_mean\",\"target3_median\",\"target3_std\",\"target3_min\",\"target3_max\",\"target3_skew\",\"target3_kurt\",\n",
    "        \"target4_mean\",\"target4_median\",\"target4_std\",\"target4_min\",\"target4_max\",\"target4_skew\",\"target4_kurt\", \n",
    "        'tgt1_2_corr', 'tgt1_3_corr', 'tgt2_3_corr', 'tgt1_4_corr', 'tgt2_4_corr', 'tgt3_4_corr', 'daysSinceLastGame'] \n",
    "\n",
    "feature_cols3 = ['week_day','label_playerId', 'label_primaryPositionName', 'label_teamId',\n",
    "       'label_status', 'battingOrder', 'gamesPlayedBatting', 'flyOuts',\n",
    "       'groundOuts', 'runsScored', 'doubles', 'triples', 'homeRuns',\n",
    "       'strikeOuts', 'baseOnBalls', 'intentionalWalks', 'hits', 'hitByPitch',\n",
    "       'atBats', 'caughtStealing', 'stolenBases', 'groundIntoDoublePlay',\n",
    "       'groundIntoTriplePlay', 'plateAppearances', 'totalBases', 'rbi',\n",
    "       'leftOnBase', 'sacBunts', 'sacFlies', 'catchersInterference',\n",
    "       'pickoffs', 'gamesPlayedPitching', 'gamesStartedPitching',\n",
    "       'completeGamesPitching', 'shutoutsPitching', 'winsPitching',\n",
    "       'lossesPitching', 'flyOutsPitching', 'airOutsPitching',\n",
    "       'groundOutsPitching', 'runsPitching', 'doublesPitching',\n",
    "       'triplesPitching', 'homeRunsPitching', 'strikeOutsPitching',\n",
    "       'baseOnBallsPitching', 'intentionalWalksPitching', 'hitsPitching',\n",
    "       'hitByPitchPitching', 'atBatsPitching', 'caughtStealingPitching',\n",
    "       'stolenBasesPitching', 'inningsPitched', 'saveOpportunities',\n",
    "       'earnedRuns', 'battersFaced', 'outsPitching', 'pitchesThrown', 'balls',\n",
    "       'strikes', 'hitBatsmen', 'balks', 'wildPitches', 'pickoffsPitching',\n",
    "       'rbiPitching', 'gamesFinishedPitching', 'inheritedRunners',\n",
    "       'inheritedRunnersScored', 'catchersInterferencePitching',\n",
    "       'sacBuntsPitching', 'sacFliesPitching', 'saves', 'holds', 'blownSaves',\n",
    "       'assists', 'putOuts', 'errors', 'chances',\n",
    "        \"target1_mean\",\"target1_median\",\"target1_std\",\"target1_min\",\"target1_max\",\"target1_skew\",\"target1_kurt\",\n",
    "         \"target2_mean\",\"target2_median\",\"target2_std\",\"target2_min\",\"target2_max\",\"target2_skew\",\"target2_kurt\",\n",
    "        \"target3_mean\",\"target3_median\",\"target3_std\",\"target3_min\",\"target3_max\",\"target3_skew\",\"target3_kurt\",\n",
    "        \"target4_mean\",\"target4_median\",\"target4_std\",\"target4_min\",\"target4_max\",\"target4_skew\",\"target4_kurt\", \n",
    "        'tgt1_2_corr', 'tgt1_3_corr', 'tgt2_3_corr', 'tgt1_4_corr', 'tgt2_4_corr', 'tgt3_4_corr', 'daysSinceLastGame'] \n",
    "\n",
    "feature_cols4 = ['week_day', 'annual_day', 'month', 'label_playerId', 'label_primaryPositionName', 'label_teamId', 'label_birthCity',\n",
    "                'DOY', 'mlbDebutYear', 'DebutAge', 'heightInches', 'weight',\n",
    "       'label_status', 'battingOrder', 'gamesPlayedBatting', 'flyOuts',\n",
    "       'groundOuts', 'runsScored', 'doubles', 'triples', 'homeRuns',\n",
    "       'strikeOuts', 'baseOnBalls', 'intentionalWalks', 'hits', 'hitByPitch',\n",
    "       'atBats', 'caughtStealing', 'stolenBases', 'groundIntoDoublePlay',\n",
    "       'groundIntoTriplePlay', 'plateAppearances', 'totalBases', 'rbi',\n",
    "       'leftOnBase', 'sacBunts', 'sacFlies', 'catchersInterference',\n",
    "       'pickoffs', 'gamesPlayedPitching', 'gamesStartedPitching',\n",
    "       'completeGamesPitching', 'shutoutsPitching', 'winsPitching',\n",
    "       'lossesPitching', 'flyOutsPitching', 'airOutsPitching',\n",
    "       'groundOutsPitching', 'runsPitching', 'doublesPitching',\n",
    "       'triplesPitching', 'homeRunsPitching', 'strikeOutsPitching',\n",
    "       'baseOnBallsPitching', 'intentionalWalksPitching', 'hitsPitching',\n",
    "       'hitByPitchPitching', 'atBatsPitching', 'caughtStealingPitching',\n",
    "       'stolenBasesPitching', 'inningsPitched', 'saveOpportunities',\n",
    "       'earnedRuns', 'battersFaced', 'outsPitching', 'pitchesThrown', 'balls',\n",
    "       'strikes', 'hitBatsmen', 'balks', 'wildPitches', 'pickoffsPitching',\n",
    "       'rbiPitching', 'gamesFinishedPitching', 'inheritedRunners',\n",
    "       'inheritedRunnersScored', 'catchersInterferencePitching',\n",
    "       'sacBuntsPitching', 'sacFliesPitching', 'saves', 'holds', 'blownSaves',\n",
    "       'assists', 'putOuts', 'errors', 'chances',\n",
    "        \"target1_mean\",\"target1_median\",\"target1_std\",\"target1_min\",\"target1_max\",\"target1_skew\",\"target1_kurt\",\n",
    "         \"target2_mean\",\"target2_median\",\"target2_std\",\"target2_min\",\"target2_max\",\"target2_skew\",\"target2_kurt\",\n",
    "        \"target3_mean\",\"target3_median\",\"target3_std\",\"target3_min\",\"target3_max\",\"target3_skew\",\"target3_kurt\",\n",
    "        \"target4_mean\",\"target4_median\",\"target4_std\",\"target4_min\",\"target4_max\",\"target4_skew\",\"target4_kurt\", \n",
    "        'tgt1_2_corr', 'tgt1_3_corr', 'tgt2_3_corr', 'tgt1_4_corr', 'tgt2_4_corr', 'tgt3_4_corr', 'daysSinceLastGame'] "
   ]
  },
  {
   "cell_type": "code",
   "execution_count": 4,
   "id": "f4879aaa",
   "metadata": {},
   "outputs": [],
   "source": [
    "# training lightgbm\n",
    "params1 = {'objective':'mae',\n",
    "           'reg_alpha': 0.14947461820098767, \n",
    "           'reg_lambda': 0.10185644384043743, \n",
    "           'n_estimators': 3633, \n",
    "           'learning_rate': 0.08046301304430488, \n",
    "           'num_leaves': 674, \n",
    "           'feature_fraction': 0.9101240539122566, \n",
    "           'bagging_fraction': 0.9884451442950513, \n",
    "           'bagging_freq': 8, \n",
    "           'min_child_samples': 51}\n",
    "\n",
    "params2 = {'objective':'mae',\n",
    "           'reg_alpha': 0.1,\n",
    "           'reg_lambda': 0.1, \n",
    "           'n_estimators': 80,\n",
    "           'learning_rate': 0.1,\n",
    "           'random_state': 42,\n",
    "           \"num_leaves\": 22}\n",
    "\n",
    "params3 = {'objective':'mae',\n",
    "           'reg_alpha': 0.1,\n",
    "           'reg_lambda': 0.1, \n",
    "           'n_estimators': 10000,\n",
    "           'learning_rate': 0.1,\n",
    "           'random_state': 42,\n",
    "           \"num_leaves\": 100}\n",
    "\n",
    "params4 = {'objective':'mae',\n",
    "           'reg_alpha': 0.016468100279441976, \n",
    "           'reg_lambda': 0.09128335764019105, \n",
    "           'n_estimators': 9868, \n",
    "           'learning_rate': 0.10528150510326864, \n",
    "           'num_leaves': 157, \n",
    "           'feature_fraction': 0.5419185713426886, \n",
    "           'bagging_fraction': 0.2637405128936662, \n",
    "           'bagging_freq': 19, \n",
    "           'min_child_samples': 71}\n"
   ]
  },
  {
   "cell_type": "code",
   "execution_count": 5,
   "id": "25466b3e",
   "metadata": {},
   "outputs": [],
   "source": [
    "EXP_NUM = 22\n",
    "NFOLDS = 5\n",
    "SEED = 777"
   ]
  },
  {
   "cell_type": "code",
   "execution_count": 6,
   "id": "1b90fbe6",
   "metadata": {},
   "outputs": [],
   "source": [
    "utils.set_seed(SEED)"
   ]
  },
  {
   "cell_type": "markdown",
   "id": "c1bd17f9",
   "metadata": {},
   "source": [
    "## Dir"
   ]
  },
  {
   "cell_type": "code",
   "execution_count": 7,
   "id": "f6d6736e",
   "metadata": {},
   "outputs": [],
   "source": [
    "DATA_DIR = Path(\"/home/knikaido/work/MLB-Player-Digital-Engagement-Forecasting/data/\")\n",
    "MAIN_DATA_DIR = DATA_DIR / 'mlb-player-digital-engagement-forecasting'\n",
    "TRAIN_DIR = MAIN_DATA_DIR / 'train'\n",
    "OUTPUT_DIR = Path('./output/')"
   ]
  },
  {
   "cell_type": "code",
   "execution_count": 8,
   "id": "84143565",
   "metadata": {},
   "outputs": [],
   "source": [
    "players = pd.read_csv(MAIN_DATA_DIR / 'players.csv')\n",
    "\n",
    "rosters = pd.read_csv(TRAIN_DIR / 'rosters_train.csv')\n",
    "targets = pd.read_csv(TRAIN_DIR / 'nextDayPlayerEngagement_train.csv')\n",
    "scores = pd.read_csv(TRAIN_DIR / 'playerBoxScores_train.csv')\n",
    "scores = scores.groupby(['playerId', 'date']).sum().reset_index()\n",
    "seasons = pd.read_csv(MAIN_DATA_DIR / 'seasons.csv')\n",
    "\n",
    "# events = pd.read_csv(TRAIN_DIR / 'events_train.csv')\n",
    "# events = events.groupby(['gameDate']).sum().reset_index()\n"
   ]
  },
  {
   "cell_type": "code",
   "execution_count": 9,
   "id": "5af963dd",
   "metadata": {},
   "outputs": [
    {
     "data": {
      "text/html": [
       "<div>\n",
       "<style scoped>\n",
       "    .dataframe tbody tr th:only-of-type {\n",
       "        vertical-align: middle;\n",
       "    }\n",
       "\n",
       "    .dataframe tbody tr th {\n",
       "        vertical-align: top;\n",
       "    }\n",
       "\n",
       "    .dataframe thead th {\n",
       "        text-align: right;\n",
       "    }\n",
       "</style>\n",
       "<table border=\"1\" class=\"dataframe\">\n",
       "  <thead>\n",
       "    <tr style=\"text-align: right;\">\n",
       "      <th></th>\n",
       "      <th>playerId</th>\n",
       "      <th>date</th>\n",
       "      <th>home</th>\n",
       "      <th>gamePk</th>\n",
       "      <th>teamId</th>\n",
       "      <th>jerseyNum</th>\n",
       "      <th>positionCode</th>\n",
       "      <th>battingOrder</th>\n",
       "      <th>gamesPlayedBatting</th>\n",
       "      <th>flyOuts</th>\n",
       "      <th>...</th>\n",
       "      <th>sacBuntsPitching</th>\n",
       "      <th>sacFliesPitching</th>\n",
       "      <th>saves</th>\n",
       "      <th>holds</th>\n",
       "      <th>blownSaves</th>\n",
       "      <th>assists</th>\n",
       "      <th>putOuts</th>\n",
       "      <th>errors</th>\n",
       "      <th>chances</th>\n",
       "      <th>index</th>\n",
       "    </tr>\n",
       "  </thead>\n",
       "  <tbody>\n",
       "    <tr>\n",
       "      <th>0</th>\n",
       "      <td>112526</td>\n",
       "      <td>20180402</td>\n",
       "      <td>0</td>\n",
       "      <td>529469</td>\n",
       "      <td>140</td>\n",
       "      <td>40.0</td>\n",
       "      <td>1</td>\n",
       "      <td>0.0</td>\n",
       "      <td>0.0</td>\n",
       "      <td>0.0</td>\n",
       "      <td>...</td>\n",
       "      <td>0.0</td>\n",
       "      <td>0.0</td>\n",
       "      <td>0.0</td>\n",
       "      <td>0.0</td>\n",
       "      <td>0.0</td>\n",
       "      <td>1.0</td>\n",
       "      <td>0.0</td>\n",
       "      <td>0.0</td>\n",
       "      <td>1.0</td>\n",
       "      <td>91</td>\n",
       "    </tr>\n",
       "    <tr>\n",
       "      <th>1</th>\n",
       "      <td>112526</td>\n",
       "      <td>20180408</td>\n",
       "      <td>1</td>\n",
       "      <td>529546</td>\n",
       "      <td>140</td>\n",
       "      <td>40.0</td>\n",
       "      <td>1</td>\n",
       "      <td>0.0</td>\n",
       "      <td>0.0</td>\n",
       "      <td>0.0</td>\n",
       "      <td>...</td>\n",
       "      <td>0.0</td>\n",
       "      <td>0.0</td>\n",
       "      <td>0.0</td>\n",
       "      <td>0.0</td>\n",
       "      <td>0.0</td>\n",
       "      <td>0.0</td>\n",
       "      <td>1.0</td>\n",
       "      <td>0.0</td>\n",
       "      <td>1.0</td>\n",
       "      <td>97</td>\n",
       "    </tr>\n",
       "    <tr>\n",
       "      <th>2</th>\n",
       "      <td>112526</td>\n",
       "      <td>20180410</td>\n",
       "      <td>1</td>\n",
       "      <td>529565</td>\n",
       "      <td>140</td>\n",
       "      <td>40.0</td>\n",
       "      <td>1</td>\n",
       "      <td>0.0</td>\n",
       "      <td>0.0</td>\n",
       "      <td>0.0</td>\n",
       "      <td>...</td>\n",
       "      <td>0.0</td>\n",
       "      <td>1.0</td>\n",
       "      <td>0.0</td>\n",
       "      <td>0.0</td>\n",
       "      <td>0.0</td>\n",
       "      <td>2.0</td>\n",
       "      <td>0.0</td>\n",
       "      <td>0.0</td>\n",
       "      <td>2.0</td>\n",
       "      <td>99</td>\n",
       "    </tr>\n",
       "    <tr>\n",
       "      <th>3</th>\n",
       "      <td>112526</td>\n",
       "      <td>20180415</td>\n",
       "      <td>0</td>\n",
       "      <td>529640</td>\n",
       "      <td>140</td>\n",
       "      <td>40.0</td>\n",
       "      <td>1</td>\n",
       "      <td>0.0</td>\n",
       "      <td>0.0</td>\n",
       "      <td>0.0</td>\n",
       "      <td>...</td>\n",
       "      <td>0.0</td>\n",
       "      <td>1.0</td>\n",
       "      <td>0.0</td>\n",
       "      <td>0.0</td>\n",
       "      <td>0.0</td>\n",
       "      <td>1.0</td>\n",
       "      <td>0.0</td>\n",
       "      <td>0.0</td>\n",
       "      <td>1.0</td>\n",
       "      <td>104</td>\n",
       "    </tr>\n",
       "    <tr>\n",
       "      <th>4</th>\n",
       "      <td>112526</td>\n",
       "      <td>20180421</td>\n",
       "      <td>1</td>\n",
       "      <td>529718</td>\n",
       "      <td>140</td>\n",
       "      <td>40.0</td>\n",
       "      <td>1</td>\n",
       "      <td>0.0</td>\n",
       "      <td>0.0</td>\n",
       "      <td>0.0</td>\n",
       "      <td>...</td>\n",
       "      <td>0.0</td>\n",
       "      <td>1.0</td>\n",
       "      <td>0.0</td>\n",
       "      <td>0.0</td>\n",
       "      <td>0.0</td>\n",
       "      <td>0.0</td>\n",
       "      <td>2.0</td>\n",
       "      <td>0.0</td>\n",
       "      <td>2.0</td>\n",
       "      <td>110</td>\n",
       "    </tr>\n",
       "    <tr>\n",
       "      <th>...</th>\n",
       "      <td>...</td>\n",
       "      <td>...</td>\n",
       "      <td>...</td>\n",
       "      <td>...</td>\n",
       "      <td>...</td>\n",
       "      <td>...</td>\n",
       "      <td>...</td>\n",
       "      <td>...</td>\n",
       "      <td>...</td>\n",
       "      <td>...</td>\n",
       "      <td>...</td>\n",
       "      <td>...</td>\n",
       "      <td>...</td>\n",
       "      <td>...</td>\n",
       "      <td>...</td>\n",
       "      <td>...</td>\n",
       "      <td>...</td>\n",
       "      <td>...</td>\n",
       "      <td>...</td>\n",
       "      <td>...</td>\n",
       "      <td>...</td>\n",
       "    </tr>\n",
       "    <tr>\n",
       "      <th>182945</th>\n",
       "      <td>685503</td>\n",
       "      <td>20210409</td>\n",
       "      <td>1</td>\n",
       "      <td>634478</td>\n",
       "      <td>140</td>\n",
       "      <td>35.0</td>\n",
       "      <td>1</td>\n",
       "      <td>0.0</td>\n",
       "      <td>0.0</td>\n",
       "      <td>0.0</td>\n",
       "      <td>...</td>\n",
       "      <td>0.0</td>\n",
       "      <td>0.0</td>\n",
       "      <td>0.0</td>\n",
       "      <td>0.0</td>\n",
       "      <td>0.0</td>\n",
       "      <td>0.0</td>\n",
       "      <td>1.0</td>\n",
       "      <td>0.0</td>\n",
       "      <td>1.0</td>\n",
       "      <td>1194</td>\n",
       "    </tr>\n",
       "    <tr>\n",
       "      <th>182946</th>\n",
       "      <td>685503</td>\n",
       "      <td>20210414</td>\n",
       "      <td>0</td>\n",
       "      <td>634496</td>\n",
       "      <td>140</td>\n",
       "      <td>35.0</td>\n",
       "      <td>1</td>\n",
       "      <td>0.0</td>\n",
       "      <td>0.0</td>\n",
       "      <td>0.0</td>\n",
       "      <td>...</td>\n",
       "      <td>0.0</td>\n",
       "      <td>0.0</td>\n",
       "      <td>0.0</td>\n",
       "      <td>0.0</td>\n",
       "      <td>0.0</td>\n",
       "      <td>1.0</td>\n",
       "      <td>0.0</td>\n",
       "      <td>0.0</td>\n",
       "      <td>1.0</td>\n",
       "      <td>1199</td>\n",
       "    </tr>\n",
       "    <tr>\n",
       "      <th>182947</th>\n",
       "      <td>685503</td>\n",
       "      <td>20210419</td>\n",
       "      <td>0</td>\n",
       "      <td>634536</td>\n",
       "      <td>140</td>\n",
       "      <td>35.0</td>\n",
       "      <td>1</td>\n",
       "      <td>0.0</td>\n",
       "      <td>0.0</td>\n",
       "      <td>0.0</td>\n",
       "      <td>...</td>\n",
       "      <td>0.0</td>\n",
       "      <td>0.0</td>\n",
       "      <td>0.0</td>\n",
       "      <td>0.0</td>\n",
       "      <td>0.0</td>\n",
       "      <td>0.0</td>\n",
       "      <td>0.0</td>\n",
       "      <td>0.0</td>\n",
       "      <td>0.0</td>\n",
       "      <td>1204</td>\n",
       "    </tr>\n",
       "    <tr>\n",
       "      <th>182948</th>\n",
       "      <td>685503</td>\n",
       "      <td>20210425</td>\n",
       "      <td>0</td>\n",
       "      <td>634393</td>\n",
       "      <td>140</td>\n",
       "      <td>35.0</td>\n",
       "      <td>1</td>\n",
       "      <td>0.0</td>\n",
       "      <td>0.0</td>\n",
       "      <td>0.0</td>\n",
       "      <td>...</td>\n",
       "      <td>0.0</td>\n",
       "      <td>1.0</td>\n",
       "      <td>0.0</td>\n",
       "      <td>0.0</td>\n",
       "      <td>0.0</td>\n",
       "      <td>0.0</td>\n",
       "      <td>0.0</td>\n",
       "      <td>0.0</td>\n",
       "      <td>0.0</td>\n",
       "      <td>1210</td>\n",
       "    </tr>\n",
       "    <tr>\n",
       "      <th>182949</th>\n",
       "      <td>685503</td>\n",
       "      <td>20210430</td>\n",
       "      <td>1</td>\n",
       "      <td>634337</td>\n",
       "      <td>140</td>\n",
       "      <td>35.0</td>\n",
       "      <td>1</td>\n",
       "      <td>0.0</td>\n",
       "      <td>0.0</td>\n",
       "      <td>0.0</td>\n",
       "      <td>...</td>\n",
       "      <td>0.0</td>\n",
       "      <td>0.0</td>\n",
       "      <td>0.0</td>\n",
       "      <td>0.0</td>\n",
       "      <td>0.0</td>\n",
       "      <td>0.0</td>\n",
       "      <td>0.0</td>\n",
       "      <td>0.0</td>\n",
       "      <td>0.0</td>\n",
       "      <td>1215</td>\n",
       "    </tr>\n",
       "  </tbody>\n",
       "</table>\n",
       "<p>182950 rows × 81 columns</p>\n",
       "</div>"
      ],
      "text/plain": [
       "        playerId      date  home  gamePk  teamId  jerseyNum  positionCode  \\\n",
       "0         112526  20180402     0  529469     140       40.0             1   \n",
       "1         112526  20180408     1  529546     140       40.0             1   \n",
       "2         112526  20180410     1  529565     140       40.0             1   \n",
       "3         112526  20180415     0  529640     140       40.0             1   \n",
       "4         112526  20180421     1  529718     140       40.0             1   \n",
       "...          ...       ...   ...     ...     ...        ...           ...   \n",
       "182945    685503  20210409     1  634478     140       35.0             1   \n",
       "182946    685503  20210414     0  634496     140       35.0             1   \n",
       "182947    685503  20210419     0  634536     140       35.0             1   \n",
       "182948    685503  20210425     0  634393     140       35.0             1   \n",
       "182949    685503  20210430     1  634337     140       35.0             1   \n",
       "\n",
       "        battingOrder  gamesPlayedBatting  flyOuts  ...  sacBuntsPitching  \\\n",
       "0                0.0                 0.0      0.0  ...               0.0   \n",
       "1                0.0                 0.0      0.0  ...               0.0   \n",
       "2                0.0                 0.0      0.0  ...               0.0   \n",
       "3                0.0                 0.0      0.0  ...               0.0   \n",
       "4                0.0                 0.0      0.0  ...               0.0   \n",
       "...              ...                 ...      ...  ...               ...   \n",
       "182945           0.0                 0.0      0.0  ...               0.0   \n",
       "182946           0.0                 0.0      0.0  ...               0.0   \n",
       "182947           0.0                 0.0      0.0  ...               0.0   \n",
       "182948           0.0                 0.0      0.0  ...               0.0   \n",
       "182949           0.0                 0.0      0.0  ...               0.0   \n",
       "\n",
       "        sacFliesPitching  saves  holds  blownSaves  assists  putOuts  errors  \\\n",
       "0                    0.0    0.0    0.0         0.0      1.0      0.0     0.0   \n",
       "1                    0.0    0.0    0.0         0.0      0.0      1.0     0.0   \n",
       "2                    1.0    0.0    0.0         0.0      2.0      0.0     0.0   \n",
       "3                    1.0    0.0    0.0         0.0      1.0      0.0     0.0   \n",
       "4                    1.0    0.0    0.0         0.0      0.0      2.0     0.0   \n",
       "...                  ...    ...    ...         ...      ...      ...     ...   \n",
       "182945               0.0    0.0    0.0         0.0      0.0      1.0     0.0   \n",
       "182946               0.0    0.0    0.0         0.0      1.0      0.0     0.0   \n",
       "182947               0.0    0.0    0.0         0.0      0.0      0.0     0.0   \n",
       "182948               1.0    0.0    0.0         0.0      0.0      0.0     0.0   \n",
       "182949               0.0    0.0    0.0         0.0      0.0      0.0     0.0   \n",
       "\n",
       "        chances  index  \n",
       "0           1.0     91  \n",
       "1           1.0     97  \n",
       "2           2.0     99  \n",
       "3           1.0    104  \n",
       "4           2.0    110  \n",
       "...         ...    ...  \n",
       "182945      1.0   1194  \n",
       "182946      1.0   1199  \n",
       "182947      0.0   1204  \n",
       "182948      0.0   1210  \n",
       "182949      0.0   1215  \n",
       "\n",
       "[182950 rows x 81 columns]"
      ]
     },
     "execution_count": 9,
     "metadata": {},
     "output_type": "execute_result"
    }
   ],
   "source": [
    "scores"
   ]
  },
  {
   "cell_type": "code",
   "execution_count": 10,
   "id": "3d353e24",
   "metadata": {},
   "outputs": [
    {
     "data": {
      "text/html": [
       "<div>\n",
       "<style scoped>\n",
       "    .dataframe tbody tr th:only-of-type {\n",
       "        vertical-align: middle;\n",
       "    }\n",
       "\n",
       "    .dataframe tbody tr th {\n",
       "        vertical-align: top;\n",
       "    }\n",
       "\n",
       "    .dataframe thead th {\n",
       "        text-align: right;\n",
       "    }\n",
       "</style>\n",
       "<table border=\"1\" class=\"dataframe\">\n",
       "  <thead>\n",
       "    <tr style=\"text-align: right;\">\n",
       "      <th></th>\n",
       "      <th>seasonId</th>\n",
       "      <th>seasonStartDate</th>\n",
       "      <th>seasonEndDate</th>\n",
       "      <th>preSeasonStartDate</th>\n",
       "      <th>preSeasonEndDate</th>\n",
       "      <th>regularSeasonStartDate</th>\n",
       "      <th>regularSeasonEndDate</th>\n",
       "      <th>lastDate1stHalf</th>\n",
       "      <th>allStarDate</th>\n",
       "      <th>firstDate2ndHalf</th>\n",
       "      <th>postSeasonStartDate</th>\n",
       "      <th>postSeasonEndDate</th>\n",
       "    </tr>\n",
       "  </thead>\n",
       "  <tbody>\n",
       "    <tr>\n",
       "      <th>0</th>\n",
       "      <td>2017</td>\n",
       "      <td>2017-04-02</td>\n",
       "      <td>2017-11-01</td>\n",
       "      <td>2017-02-22</td>\n",
       "      <td>2017-04-01</td>\n",
       "      <td>2017-04-02</td>\n",
       "      <td>2017-10-01</td>\n",
       "      <td>2017-07-09</td>\n",
       "      <td>2017-07-11</td>\n",
       "      <td>2017-07-14</td>\n",
       "      <td>2017-10-03</td>\n",
       "      <td>2017-11-01</td>\n",
       "    </tr>\n",
       "    <tr>\n",
       "      <th>1</th>\n",
       "      <td>2018</td>\n",
       "      <td>2018-03-29</td>\n",
       "      <td>2018-10-28</td>\n",
       "      <td>2018-02-21</td>\n",
       "      <td>2018-03-27</td>\n",
       "      <td>2018-03-29</td>\n",
       "      <td>2018-10-01</td>\n",
       "      <td>2018-07-15</td>\n",
       "      <td>2018-07-17</td>\n",
       "      <td>2018-07-19</td>\n",
       "      <td>2018-10-02</td>\n",
       "      <td>2018-10-28</td>\n",
       "    </tr>\n",
       "    <tr>\n",
       "      <th>2</th>\n",
       "      <td>2019</td>\n",
       "      <td>2019-03-20</td>\n",
       "      <td>2019-10-30</td>\n",
       "      <td>2019-02-21</td>\n",
       "      <td>2019-03-26</td>\n",
       "      <td>2019-03-20</td>\n",
       "      <td>2019-09-29</td>\n",
       "      <td>2019-07-07</td>\n",
       "      <td>2019-07-09</td>\n",
       "      <td>2019-07-11</td>\n",
       "      <td>2019-10-01</td>\n",
       "      <td>2019-10-30</td>\n",
       "    </tr>\n",
       "    <tr>\n",
       "      <th>3</th>\n",
       "      <td>2020</td>\n",
       "      <td>2020-07-23</td>\n",
       "      <td>2020-10-28</td>\n",
       "      <td>2020-02-21</td>\n",
       "      <td>2020-07-22</td>\n",
       "      <td>2020-07-23</td>\n",
       "      <td>2020-09-27</td>\n",
       "      <td>2020-08-25</td>\n",
       "      <td>NaN</td>\n",
       "      <td>2020-08-26</td>\n",
       "      <td>2020-09-29</td>\n",
       "      <td>2020-10-28</td>\n",
       "    </tr>\n",
       "    <tr>\n",
       "      <th>4</th>\n",
       "      <td>2021</td>\n",
       "      <td>2021-02-28</td>\n",
       "      <td>2021-10-31</td>\n",
       "      <td>2021-02-28</td>\n",
       "      <td>2021-03-30</td>\n",
       "      <td>2021-04-01</td>\n",
       "      <td>2021-10-03</td>\n",
       "      <td>2021-07-11</td>\n",
       "      <td>2021-07-13</td>\n",
       "      <td>2021-07-15</td>\n",
       "      <td>2021-10-04</td>\n",
       "      <td>2021-10-31</td>\n",
       "    </tr>\n",
       "  </tbody>\n",
       "</table>\n",
       "</div>"
      ],
      "text/plain": [
       "   seasonId seasonStartDate seasonEndDate preSeasonStartDate preSeasonEndDate  \\\n",
       "0      2017      2017-04-02    2017-11-01         2017-02-22       2017-04-01   \n",
       "1      2018      2018-03-29    2018-10-28         2018-02-21       2018-03-27   \n",
       "2      2019      2019-03-20    2019-10-30         2019-02-21       2019-03-26   \n",
       "3      2020      2020-07-23    2020-10-28         2020-02-21       2020-07-22   \n",
       "4      2021      2021-02-28    2021-10-31         2021-02-28       2021-03-30   \n",
       "\n",
       "  regularSeasonStartDate regularSeasonEndDate lastDate1stHalf allStarDate  \\\n",
       "0             2017-04-02           2017-10-01      2017-07-09  2017-07-11   \n",
       "1             2018-03-29           2018-10-01      2018-07-15  2018-07-17   \n",
       "2             2019-03-20           2019-09-29      2019-07-07  2019-07-09   \n",
       "3             2020-07-23           2020-09-27      2020-08-25         NaN   \n",
       "4             2021-04-01           2021-10-03      2021-07-11  2021-07-13   \n",
       "\n",
       "  firstDate2ndHalf postSeasonStartDate postSeasonEndDate  \n",
       "0       2017-07-14          2017-10-03        2017-11-01  \n",
       "1       2018-07-19          2018-10-02        2018-10-28  \n",
       "2       2019-07-11          2019-10-01        2019-10-30  \n",
       "3       2020-08-26          2020-09-29        2020-10-28  \n",
       "4       2021-07-15          2021-10-04        2021-10-31  "
      ]
     },
     "execution_count": 10,
     "metadata": {},
     "output_type": "execute_result"
    }
   ],
   "source": [
    "seasons"
   ]
  },
  {
   "cell_type": "code",
   "execution_count": 11,
   "id": "a8fd2411",
   "metadata": {},
   "outputs": [],
   "source": [
    "seasons_startend = seasons\n",
    "seasons_startend['seasonStartDate'] = seasons_startend['seasonStartDate'].str.replace('-', '').astype(int)\n",
    "seasons_startend['seasonEndDate'] = seasons_startend['seasonEndDate'].str.replace('-', '').astype(int)\n",
    "seasons_startend = seasons_startend[['seasonStartDate', 'seasonEndDate']]"
   ]
  },
  {
   "cell_type": "code",
   "execution_count": 12,
   "id": "15ca5e97",
   "metadata": {},
   "outputs": [],
   "source": [
    "targets_train = targets[(targets['date'] >= 20210331)]"
   ]
  },
  {
   "cell_type": "code",
   "execution_count": 13,
   "id": "675ce6b2",
   "metadata": {},
   "outputs": [
    {
     "data": {
      "text/html": [
       "<div>\n",
       "<style scoped>\n",
       "    .dataframe tbody tr th:only-of-type {\n",
       "        vertical-align: middle;\n",
       "    }\n",
       "\n",
       "    .dataframe tbody tr th {\n",
       "        vertical-align: top;\n",
       "    }\n",
       "\n",
       "    .dataframe thead th {\n",
       "        text-align: right;\n",
       "    }\n",
       "</style>\n",
       "<table border=\"1\" class=\"dataframe\">\n",
       "  <thead>\n",
       "    <tr style=\"text-align: right;\">\n",
       "      <th></th>\n",
       "      <th>engagementMetricsDate</th>\n",
       "      <th>playerId</th>\n",
       "      <th>target1</th>\n",
       "      <th>target2</th>\n",
       "      <th>target3</th>\n",
       "      <th>target4</th>\n",
       "      <th>index</th>\n",
       "      <th>date</th>\n",
       "    </tr>\n",
       "  </thead>\n",
       "  <tbody>\n",
       "    <tr>\n",
       "      <th>2442285</th>\n",
       "      <td>2021-04-01</td>\n",
       "      <td>502210</td>\n",
       "      <td>0.017134</td>\n",
       "      <td>3.877565</td>\n",
       "      <td>0.003982</td>\n",
       "      <td>14.986099</td>\n",
       "      <td>1185</td>\n",
       "      <td>20210331</td>\n",
       "    </tr>\n",
       "    <tr>\n",
       "      <th>2442286</th>\n",
       "      <td>2021-04-01</td>\n",
       "      <td>630105</td>\n",
       "      <td>0.090707</td>\n",
       "      <td>15.558301</td>\n",
       "      <td>0.014335</td>\n",
       "      <td>1.734738</td>\n",
       "      <td>1185</td>\n",
       "      <td>20210331</td>\n",
       "    </tr>\n",
       "    <tr>\n",
       "      <th>2442287</th>\n",
       "      <td>2021-04-01</td>\n",
       "      <td>621532</td>\n",
       "      <td>0.000353</td>\n",
       "      <td>0.288244</td>\n",
       "      <td>0.000398</td>\n",
       "      <td>0.129224</td>\n",
       "      <td>1185</td>\n",
       "      <td>20210331</td>\n",
       "    </tr>\n",
       "    <tr>\n",
       "      <th>2442288</th>\n",
       "      <td>2021-04-01</td>\n",
       "      <td>468504</td>\n",
       "      <td>0.008391</td>\n",
       "      <td>5.922723</td>\n",
       "      <td>0.986705</td>\n",
       "      <td>2.365196</td>\n",
       "      <td>1185</td>\n",
       "      <td>20210331</td>\n",
       "    </tr>\n",
       "    <tr>\n",
       "      <th>2442289</th>\n",
       "      <td>2021-04-01</td>\n",
       "      <td>657108</td>\n",
       "      <td>1.105526</td>\n",
       "      <td>10.486583</td>\n",
       "      <td>0.070877</td>\n",
       "      <td>1.585934</td>\n",
       "      <td>1185</td>\n",
       "      <td>20210331</td>\n",
       "    </tr>\n",
       "    <tr>\n",
       "      <th>...</th>\n",
       "      <td>...</td>\n",
       "      <td>...</td>\n",
       "      <td>...</td>\n",
       "      <td>...</td>\n",
       "      <td>...</td>\n",
       "      <td>...</td>\n",
       "      <td>...</td>\n",
       "      <td>...</td>\n",
       "    </tr>\n",
       "    <tr>\n",
       "      <th>2506171</th>\n",
       "      <td>2021-05-01</td>\n",
       "      <td>451661</td>\n",
       "      <td>0.000000</td>\n",
       "      <td>0.013314</td>\n",
       "      <td>0.000000</td>\n",
       "      <td>0.625925</td>\n",
       "      <td>1215</td>\n",
       "      <td>20210430</td>\n",
       "    </tr>\n",
       "    <tr>\n",
       "      <th>2506172</th>\n",
       "      <td>2021-05-01</td>\n",
       "      <td>519301</td>\n",
       "      <td>0.000131</td>\n",
       "      <td>0.003329</td>\n",
       "      <td>0.000000</td>\n",
       "      <td>0.216229</td>\n",
       "      <td>1215</td>\n",
       "      <td>20210430</td>\n",
       "    </tr>\n",
       "    <tr>\n",
       "      <th>2506173</th>\n",
       "      <td>2021-05-01</td>\n",
       "      <td>527055</td>\n",
       "      <td>0.000000</td>\n",
       "      <td>0.019971</td>\n",
       "      <td>0.000000</td>\n",
       "      <td>0.273131</td>\n",
       "      <td>1215</td>\n",
       "      <td>20210430</td>\n",
       "    </tr>\n",
       "    <tr>\n",
       "      <th>2506174</th>\n",
       "      <td>2021-05-01</td>\n",
       "      <td>543484</td>\n",
       "      <td>0.000131</td>\n",
       "      <td>0.056586</td>\n",
       "      <td>0.000000</td>\n",
       "      <td>1.024240</td>\n",
       "      <td>1215</td>\n",
       "      <td>20210430</td>\n",
       "    </tr>\n",
       "    <tr>\n",
       "      <th>2506175</th>\n",
       "      <td>2021-05-01</td>\n",
       "      <td>605525</td>\n",
       "      <td>0.000131</td>\n",
       "      <td>0.499284</td>\n",
       "      <td>0.000000</td>\n",
       "      <td>0.386935</td>\n",
       "      <td>1215</td>\n",
       "      <td>20210430</td>\n",
       "    </tr>\n",
       "  </tbody>\n",
       "</table>\n",
       "<p>63891 rows × 8 columns</p>\n",
       "</div>"
      ],
      "text/plain": [
       "        engagementMetricsDate  playerId   target1    target2   target3  \\\n",
       "2442285            2021-04-01    502210  0.017134   3.877565  0.003982   \n",
       "2442286            2021-04-01    630105  0.090707  15.558301  0.014335   \n",
       "2442287            2021-04-01    621532  0.000353   0.288244  0.000398   \n",
       "2442288            2021-04-01    468504  0.008391   5.922723  0.986705   \n",
       "2442289            2021-04-01    657108  1.105526  10.486583  0.070877   \n",
       "...                       ...       ...       ...        ...       ...   \n",
       "2506171            2021-05-01    451661  0.000000   0.013314  0.000000   \n",
       "2506172            2021-05-01    519301  0.000131   0.003329  0.000000   \n",
       "2506173            2021-05-01    527055  0.000000   0.019971  0.000000   \n",
       "2506174            2021-05-01    543484  0.000131   0.056586  0.000000   \n",
       "2506175            2021-05-01    605525  0.000131   0.499284  0.000000   \n",
       "\n",
       "           target4  index      date  \n",
       "2442285  14.986099   1185  20210331  \n",
       "2442286   1.734738   1185  20210331  \n",
       "2442287   0.129224   1185  20210331  \n",
       "2442288   2.365196   1185  20210331  \n",
       "2442289   1.585934   1185  20210331  \n",
       "...            ...    ...       ...  \n",
       "2506171   0.625925   1215  20210430  \n",
       "2506172   0.216229   1215  20210430  \n",
       "2506173   0.273131   1215  20210430  \n",
       "2506174   1.024240   1215  20210430  \n",
       "2506175   0.386935   1215  20210430  \n",
       "\n",
       "[63891 rows x 8 columns]"
      ]
     },
     "execution_count": 13,
     "metadata": {},
     "output_type": "execute_result"
    }
   ],
   "source": [
    "targets_train"
   ]
  },
  {
   "cell_type": "code",
   "execution_count": 14,
   "id": "b348761e",
   "metadata": {},
   "outputs": [],
   "source": [
    "playerId_list = targets_train['playerId'].unique()"
   ]
  },
  {
   "cell_type": "code",
   "execution_count": 15,
   "id": "3bf58f6f",
   "metadata": {},
   "outputs": [],
   "source": [
    "def calc_corr(df):\n",
    "    # 相関係数行列を作成\n",
    "    corr_mat = df.corr(method='pearson')\n",
    "\n",
    "    # 行（列）サイズを取得\n",
    "    n = corr_mat.shape[0]\n",
    "    corr_ary = []\n",
    "\n",
    "    for i in range(n):\n",
    "        for j in range(i):\n",
    "            if i == j:\n",
    "                continue\n",
    "            corr_ary.append(corr_mat.iloc[i,j])\n",
    "\n",
    "    return corr_ary"
   ]
  },
  {
   "cell_type": "code",
   "execution_count": 16,
   "id": "64c7503a",
   "metadata": {},
   "outputs": [
    {
     "name": "stderr",
     "output_type": "stream",
     "text": [
      "100%|██████████| 2061/2061 [00:45<00:00, 45.10it/s]\n"
     ]
    }
   ],
   "source": [
    "def calc_probs(pid,df,temp):\n",
    "    to_append=[pid,'','','','','','','','','','','','','','','','','','','','','','','','','','','','','','','','','','','','','','']\n",
    "    targets=['target1','target2','target3','target4']\n",
    "    z=1\n",
    "    for target in targets:\n",
    "        target_prob = temp[target].tolist()\n",
    "        mean = np.mean(target_prob)\n",
    "        std = np.std(target_prob)\n",
    "        median = st.median(target_prob)\n",
    "        distribution = norm(mean, std)\n",
    "        min_weight = min(target_prob)\n",
    "        max_weight = max(target_prob)\n",
    "        values = list(np.linspace(min_weight, max_weight))\n",
    "        probabilities = [distribution.pdf(v) for v in values]\n",
    "        max_value = max(probabilities)\n",
    "        max_index = probabilities.index(max_value)\n",
    "        to_append[z]=mean\n",
    "        to_append[z+1]=median\n",
    "        to_append[z+2]=std\n",
    "        to_append[z+3]=min_weight\n",
    "        to_append[z+4]=max_weight\n",
    "        to_append[z+5]=target_prob[max_index]\n",
    "        to_append[z+6]=temp[target].skew()\n",
    "        to_append[z+7]=temp[target].kurt()\n",
    "\n",
    "        z=z+8\n",
    "    corr_ = calc_corr(temp[['target1', 'target2', 'target3', 'target4']])\n",
    "    to_append[z:] = corr_  \n",
    "    df_length = len(df)\n",
    "    df.loc[df_length] = to_append\n",
    "    return df\n",
    "    \n",
    "\n",
    "### CREATE DATAFRAME to store probabilities\n",
    "column_names = [\"playerId\", \"target1_mean\",\"target1_median\",\"target1_std\",\"target1_min\",\"target1_max\",\"target1_prob\",\"target1_skew\",\"target1_kurt\",\n",
    "                \"target2_mean\",\"target2_median\",\"target2_std\",\"target2_min\",\"target2_max\",\"target2_prob\",\"target2_skew\",\"target2_kurt\",\n",
    "                \"target3_mean\",\"target3_median\",\"target3_std\",\"target3_min\",\"target3_max\",\"target3_prob\",\"target3_skew\",\"target3_kurt\",\n",
    "                \"target4_mean\",\"target4_median\",\"target4_std\",\"target4_min\",\"target4_max\",\"target4_prob\",\"target4_skew\",\"target4_kurt\",\n",
    "                'tgt1_2_corr', 'tgt1_3_corr', 'tgt2_3_corr', 'tgt1_4_corr', 'tgt2_4_corr', 'tgt3_4_corr']\n",
    "player_target_probs = pd.DataFrame(columns = column_names)\n",
    "    \n",
    "for pid in tqdm(playerId_list):\n",
    "    temp = targets_train[targets_train['playerId'] == pid]\n",
    "    player_target_stats=calc_probs(pid,player_target_probs,temp)"
   ]
  },
  {
   "cell_type": "code",
   "execution_count": 17,
   "id": "460de793",
   "metadata": {},
   "outputs": [
    {
     "data": {
      "text/html": [
       "<div>\n",
       "<style scoped>\n",
       "    .dataframe tbody tr th:only-of-type {\n",
       "        vertical-align: middle;\n",
       "    }\n",
       "\n",
       "    .dataframe tbody tr th {\n",
       "        vertical-align: top;\n",
       "    }\n",
       "\n",
       "    .dataframe thead th {\n",
       "        text-align: right;\n",
       "    }\n",
       "</style>\n",
       "<table border=\"1\" class=\"dataframe\">\n",
       "  <thead>\n",
       "    <tr style=\"text-align: right;\">\n",
       "      <th></th>\n",
       "      <th>playerId</th>\n",
       "      <th>target1_mean</th>\n",
       "      <th>target1_median</th>\n",
       "      <th>target1_std</th>\n",
       "      <th>target1_min</th>\n",
       "      <th>target1_max</th>\n",
       "      <th>target1_prob</th>\n",
       "      <th>target1_skew</th>\n",
       "      <th>target1_kurt</th>\n",
       "      <th>target2_mean</th>\n",
       "      <th>...</th>\n",
       "      <th>target4_max</th>\n",
       "      <th>target4_prob</th>\n",
       "      <th>target4_skew</th>\n",
       "      <th>target4_kurt</th>\n",
       "      <th>tgt1_2_corr</th>\n",
       "      <th>tgt1_3_corr</th>\n",
       "      <th>tgt2_3_corr</th>\n",
       "      <th>tgt1_4_corr</th>\n",
       "      <th>tgt2_4_corr</th>\n",
       "      <th>tgt3_4_corr</th>\n",
       "    </tr>\n",
       "  </thead>\n",
       "  <tbody>\n",
       "    <tr>\n",
       "      <th>0</th>\n",
       "      <td>502210.0</td>\n",
       "      <td>0.035258</td>\n",
       "      <td>0.010162</td>\n",
       "      <td>0.098358</td>\n",
       "      <td>0.003972</td>\n",
       "      <td>0.526284</td>\n",
       "      <td>0.004923</td>\n",
       "      <td>4.499717</td>\n",
       "      <td>21.054009</td>\n",
       "      <td>0.919837</td>\n",
       "      <td>...</td>\n",
       "      <td>26.192647</td>\n",
       "      <td>1.347459</td>\n",
       "      <td>1.787924</td>\n",
       "      <td>2.122248</td>\n",
       "      <td>0.365838</td>\n",
       "      <td>0.966925</td>\n",
       "      <td>0.303303</td>\n",
       "      <td>0.591120</td>\n",
       "      <td>0.798025</td>\n",
       "      <td>0.557092</td>\n",
       "    </tr>\n",
       "    <tr>\n",
       "      <th>1</th>\n",
       "      <td>630105.0</td>\n",
       "      <td>1.851187</td>\n",
       "      <td>0.321727</td>\n",
       "      <td>4.662844</td>\n",
       "      <td>0.003946</td>\n",
       "      <td>25.603476</td>\n",
       "      <td>2.889937</td>\n",
       "      <td>4.520046</td>\n",
       "      <td>22.436395</td>\n",
       "      <td>8.003389</td>\n",
       "      <td>...</td>\n",
       "      <td>19.266433</td>\n",
       "      <td>0.541118</td>\n",
       "      <td>2.754461</td>\n",
       "      <td>8.490212</td>\n",
       "      <td>-0.104008</td>\n",
       "      <td>-0.050415</td>\n",
       "      <td>0.758184</td>\n",
       "      <td>0.009365</td>\n",
       "      <td>0.480758</td>\n",
       "      <td>0.460726</td>\n",
       "    </tr>\n",
       "    <tr>\n",
       "      <th>2</th>\n",
       "      <td>621532.0</td>\n",
       "      <td>0.147777</td>\n",
       "      <td>0.001076</td>\n",
       "      <td>0.477206</td>\n",
       "      <td>0.000128</td>\n",
       "      <td>2.460910</td>\n",
       "      <td>0.003597</td>\n",
       "      <td>4.184232</td>\n",
       "      <td>18.542939</td>\n",
       "      <td>1.090120</td>\n",
       "      <td>...</td>\n",
       "      <td>1.665259</td>\n",
       "      <td>0.062903</td>\n",
       "      <td>2.064791</td>\n",
       "      <td>5.671338</td>\n",
       "      <td>0.140293</td>\n",
       "      <td>0.202812</td>\n",
       "      <td>0.365802</td>\n",
       "      <td>0.223219</td>\n",
       "      <td>0.895560</td>\n",
       "      <td>0.207544</td>\n",
       "    </tr>\n",
       "    <tr>\n",
       "      <th>3</th>\n",
       "      <td>468504.0</td>\n",
       "      <td>0.046117</td>\n",
       "      <td>0.001027</td>\n",
       "      <td>0.235568</td>\n",
       "      <td>0.000115</td>\n",
       "      <td>1.335765</td>\n",
       "      <td>0.003718</td>\n",
       "      <td>5.559476</td>\n",
       "      <td>30.935286</td>\n",
       "      <td>1.579193</td>\n",
       "      <td>...</td>\n",
       "      <td>7.059931</td>\n",
       "      <td>0.936390</td>\n",
       "      <td>3.184795</td>\n",
       "      <td>9.878932</td>\n",
       "      <td>-0.016434</td>\n",
       "      <td>-0.034419</td>\n",
       "      <td>0.495791</td>\n",
       "      <td>-0.071227</td>\n",
       "      <td>0.779922</td>\n",
       "      <td>0.278867</td>\n",
       "    </tr>\n",
       "    <tr>\n",
       "      <th>4</th>\n",
       "      <td>657108.0</td>\n",
       "      <td>0.888194</td>\n",
       "      <td>0.043234</td>\n",
       "      <td>1.883895</td>\n",
       "      <td>0.004996</td>\n",
       "      <td>7.304291</td>\n",
       "      <td>6.176932</td>\n",
       "      <td>2.601388</td>\n",
       "      <td>5.841344</td>\n",
       "      <td>3.955265</td>\n",
       "      <td>...</td>\n",
       "      <td>4.739336</td>\n",
       "      <td>0.386319</td>\n",
       "      <td>1.349708</td>\n",
       "      <td>1.617276</td>\n",
       "      <td>0.492365</td>\n",
       "      <td>-0.135687</td>\n",
       "      <td>-0.284340</td>\n",
       "      <td>0.192405</td>\n",
       "      <td>0.608338</td>\n",
       "      <td>-0.293661</td>\n",
       "    </tr>\n",
       "    <tr>\n",
       "      <th>...</th>\n",
       "      <td>...</td>\n",
       "      <td>...</td>\n",
       "      <td>...</td>\n",
       "      <td>...</td>\n",
       "      <td>...</td>\n",
       "      <td>...</td>\n",
       "      <td>...</td>\n",
       "      <td>...</td>\n",
       "      <td>...</td>\n",
       "      <td>...</td>\n",
       "      <td>...</td>\n",
       "      <td>...</td>\n",
       "      <td>...</td>\n",
       "      <td>...</td>\n",
       "      <td>...</td>\n",
       "      <td>...</td>\n",
       "      <td>...</td>\n",
       "      <td>...</td>\n",
       "      <td>...</td>\n",
       "      <td>...</td>\n",
       "      <td>...</td>\n",
       "    </tr>\n",
       "    <tr>\n",
       "      <th>2056</th>\n",
       "      <td>606944.0</td>\n",
       "      <td>0.000016</td>\n",
       "      <td>0.000000</td>\n",
       "      <td>0.000058</td>\n",
       "      <td>0.000000</td>\n",
       "      <td>0.000303</td>\n",
       "      <td>0.000000</td>\n",
       "      <td>4.289845</td>\n",
       "      <td>19.732662</td>\n",
       "      <td>0.032395</td>\n",
       "      <td>...</td>\n",
       "      <td>1.081545</td>\n",
       "      <td>1.081545</td>\n",
       "      <td>3.559596</td>\n",
       "      <td>15.202383</td>\n",
       "      <td>0.107582</td>\n",
       "      <td>0.206886</td>\n",
       "      <td>0.432962</td>\n",
       "      <td>-0.066227</td>\n",
       "      <td>0.261404</td>\n",
       "      <td>-0.039798</td>\n",
       "    </tr>\n",
       "    <tr>\n",
       "      <th>2057</th>\n",
       "      <td>620982.0</td>\n",
       "      <td>0.000053</td>\n",
       "      <td>0.000000</td>\n",
       "      <td>0.000214</td>\n",
       "      <td>0.000000</td>\n",
       "      <td>0.001201</td>\n",
       "      <td>0.000000</td>\n",
       "      <td>5.205614</td>\n",
       "      <td>28.050238</td>\n",
       "      <td>0.012382</td>\n",
       "      <td>...</td>\n",
       "      <td>0.121965</td>\n",
       "      <td>0.018845</td>\n",
       "      <td>1.333308</td>\n",
       "      <td>1.375743</td>\n",
       "      <td>0.044047</td>\n",
       "      <td>NaN</td>\n",
       "      <td>NaN</td>\n",
       "      <td>0.109889</td>\n",
       "      <td>0.322029</td>\n",
       "      <td>NaN</td>\n",
       "    </tr>\n",
       "    <tr>\n",
       "      <th>2058</th>\n",
       "      <td>462480.0</td>\n",
       "      <td>0.000008</td>\n",
       "      <td>0.000000</td>\n",
       "      <td>0.000030</td>\n",
       "      <td>0.000000</td>\n",
       "      <td>0.000131</td>\n",
       "      <td>0.000000</td>\n",
       "      <td>3.757828</td>\n",
       "      <td>13.043766</td>\n",
       "      <td>0.003493</td>\n",
       "      <td>...</td>\n",
       "      <td>0.203910</td>\n",
       "      <td>0.123635</td>\n",
       "      <td>1.207814</td>\n",
       "      <td>1.094314</td>\n",
       "      <td>-0.023063</td>\n",
       "      <td>-0.047835</td>\n",
       "      <td>0.407347</td>\n",
       "      <td>0.059401</td>\n",
       "      <td>0.126776</td>\n",
       "      <td>0.021881</td>\n",
       "    </tr>\n",
       "    <tr>\n",
       "      <th>2059</th>\n",
       "      <td>667465.0</td>\n",
       "      <td>0.000000</td>\n",
       "      <td>0.000000</td>\n",
       "      <td>0.000000</td>\n",
       "      <td>0.000000</td>\n",
       "      <td>0.000000</td>\n",
       "      <td>0.000000</td>\n",
       "      <td>0.000000</td>\n",
       "      <td>0.000000</td>\n",
       "      <td>0.085977</td>\n",
       "      <td>...</td>\n",
       "      <td>0.350299</td>\n",
       "      <td>0.009643</td>\n",
       "      <td>2.585313</td>\n",
       "      <td>9.256597</td>\n",
       "      <td>NaN</td>\n",
       "      <td>NaN</td>\n",
       "      <td>-0.089247</td>\n",
       "      <td>NaN</td>\n",
       "      <td>0.192105</td>\n",
       "      <td>-0.012529</td>\n",
       "    </tr>\n",
       "    <tr>\n",
       "      <th>2060</th>\n",
       "      <td>664852.0</td>\n",
       "      <td>0.028583</td>\n",
       "      <td>0.000000</td>\n",
       "      <td>0.131623</td>\n",
       "      <td>0.000000</td>\n",
       "      <td>0.745238</td>\n",
       "      <td>0.000000</td>\n",
       "      <td>5.467650</td>\n",
       "      <td>30.194602</td>\n",
       "      <td>0.462522</td>\n",
       "      <td>...</td>\n",
       "      <td>3.107319</td>\n",
       "      <td>0.000000</td>\n",
       "      <td>3.320555</td>\n",
       "      <td>11.034992</td>\n",
       "      <td>0.375953</td>\n",
       "      <td>0.993728</td>\n",
       "      <td>0.427557</td>\n",
       "      <td>0.802218</td>\n",
       "      <td>0.838667</td>\n",
       "      <td>0.819693</td>\n",
       "    </tr>\n",
       "  </tbody>\n",
       "</table>\n",
       "<p>2061 rows × 39 columns</p>\n",
       "</div>"
      ],
      "text/plain": [
       "      playerId  target1_mean  target1_median  target1_std  target1_min  \\\n",
       "0     502210.0      0.035258        0.010162     0.098358     0.003972   \n",
       "1     630105.0      1.851187        0.321727     4.662844     0.003946   \n",
       "2     621532.0      0.147777        0.001076     0.477206     0.000128   \n",
       "3     468504.0      0.046117        0.001027     0.235568     0.000115   \n",
       "4     657108.0      0.888194        0.043234     1.883895     0.004996   \n",
       "...        ...           ...             ...          ...          ...   \n",
       "2056  606944.0      0.000016        0.000000     0.000058     0.000000   \n",
       "2057  620982.0      0.000053        0.000000     0.000214     0.000000   \n",
       "2058  462480.0      0.000008        0.000000     0.000030     0.000000   \n",
       "2059  667465.0      0.000000        0.000000     0.000000     0.000000   \n",
       "2060  664852.0      0.028583        0.000000     0.131623     0.000000   \n",
       "\n",
       "      target1_max  target1_prob  target1_skew  target1_kurt  target2_mean  \\\n",
       "0        0.526284      0.004923      4.499717     21.054009      0.919837   \n",
       "1       25.603476      2.889937      4.520046     22.436395      8.003389   \n",
       "2        2.460910      0.003597      4.184232     18.542939      1.090120   \n",
       "3        1.335765      0.003718      5.559476     30.935286      1.579193   \n",
       "4        7.304291      6.176932      2.601388      5.841344      3.955265   \n",
       "...           ...           ...           ...           ...           ...   \n",
       "2056     0.000303      0.000000      4.289845     19.732662      0.032395   \n",
       "2057     0.001201      0.000000      5.205614     28.050238      0.012382   \n",
       "2058     0.000131      0.000000      3.757828     13.043766      0.003493   \n",
       "2059     0.000000      0.000000      0.000000      0.000000      0.085977   \n",
       "2060     0.745238      0.000000      5.467650     30.194602      0.462522   \n",
       "\n",
       "      ...  target4_max  target4_prob  target4_skew  target4_kurt  tgt1_2_corr  \\\n",
       "0     ...    26.192647      1.347459      1.787924      2.122248     0.365838   \n",
       "1     ...    19.266433      0.541118      2.754461      8.490212    -0.104008   \n",
       "2     ...     1.665259      0.062903      2.064791      5.671338     0.140293   \n",
       "3     ...     7.059931      0.936390      3.184795      9.878932    -0.016434   \n",
       "4     ...     4.739336      0.386319      1.349708      1.617276     0.492365   \n",
       "...   ...          ...           ...           ...           ...          ...   \n",
       "2056  ...     1.081545      1.081545      3.559596     15.202383     0.107582   \n",
       "2057  ...     0.121965      0.018845      1.333308      1.375743     0.044047   \n",
       "2058  ...     0.203910      0.123635      1.207814      1.094314    -0.023063   \n",
       "2059  ...     0.350299      0.009643      2.585313      9.256597          NaN   \n",
       "2060  ...     3.107319      0.000000      3.320555     11.034992     0.375953   \n",
       "\n",
       "      tgt1_3_corr  tgt2_3_corr  tgt1_4_corr  tgt2_4_corr  tgt3_4_corr  \n",
       "0        0.966925     0.303303     0.591120     0.798025     0.557092  \n",
       "1       -0.050415     0.758184     0.009365     0.480758     0.460726  \n",
       "2        0.202812     0.365802     0.223219     0.895560     0.207544  \n",
       "3       -0.034419     0.495791    -0.071227     0.779922     0.278867  \n",
       "4       -0.135687    -0.284340     0.192405     0.608338    -0.293661  \n",
       "...           ...          ...          ...          ...          ...  \n",
       "2056     0.206886     0.432962    -0.066227     0.261404    -0.039798  \n",
       "2057          NaN          NaN     0.109889     0.322029          NaN  \n",
       "2058    -0.047835     0.407347     0.059401     0.126776     0.021881  \n",
       "2059          NaN    -0.089247          NaN     0.192105    -0.012529  \n",
       "2060     0.993728     0.427557     0.802218     0.838667     0.819693  \n",
       "\n",
       "[2061 rows x 39 columns]"
      ]
     },
     "execution_count": 17,
     "metadata": {},
     "output_type": "execute_result"
    }
   ],
   "source": [
    "player_target_stats"
   ]
  },
  {
   "cell_type": "code",
   "execution_count": 18,
   "id": "1e5570d5",
   "metadata": {},
   "outputs": [],
   "source": [
    "data_names=player_target_stats.columns.values.tolist()"
   ]
  },
  {
   "cell_type": "code",
   "execution_count": 19,
   "id": "b3dab72b",
   "metadata": {},
   "outputs": [],
   "source": [
    "players['DOY'] = pd.to_datetime(players['DOB'], format=\"%Y-%m-%d\").dt.year\n",
    "players['mlbDebutYear'] = pd.to_datetime(players['mlbDebutDate'], format=\"%Y-%m-%d\").dt.year\n",
    "players['DebutAge'] = players['mlbDebutYear'] - players['DOY']"
   ]
  },
  {
   "cell_type": "code",
   "execution_count": 20,
   "id": "2b32f3e8",
   "metadata": {},
   "outputs": [],
   "source": [
    "# creat dataset\n",
    "train = targets[targets_cols].merge(players[players_cols], on=['playerId'], how='left')\n",
    "train = train.merge(rosters[rosters_cols], on=['playerId', 'date'], how='left')\n",
    "train = train.merge(scores[scores_cols], on=['playerId', 'date'], how='left')\n",
    "train = train.merge(player_target_stats, how='inner', left_on=[\"playerId\"],right_on=[\"playerId\"])\n"
   ]
  },
  {
   "cell_type": "code",
   "execution_count": 21,
   "id": "2b169336",
   "metadata": {},
   "outputs": [],
   "source": [
    "# label encoding\n",
    "player2num = {c: i for i, c in enumerate(train['playerId'].unique())}\n",
    "position2num = {c: i for i, c in enumerate(train['primaryPositionName'].unique())}\n",
    "birthCityn2num = {c: i for i, c in enumerate(train['birthCity'].unique())}\n",
    "teamid2num = {c: i for i, c in enumerate(train['teamId'].unique())}\n",
    "status2num = {c: i for i, c in enumerate(train['status'].unique())}\n",
    "train['label_playerId'] = train['playerId'].map(player2num)\n",
    "train['label_primaryPositionName'] = train['primaryPositionName'].map(position2num)\n",
    "train['label_birthCity'] = train['birthCity'].map(birthCityn2num)\n",
    "train['label_teamId'] = train['teamId'].map(teamid2num)\n",
    "train['label_status'] = train['status'].map(status2num)"
   ]
  },
  {
   "cell_type": "code",
   "execution_count": 22,
   "id": "9b73fe8a",
   "metadata": {},
   "outputs": [],
   "source": [
    "date_ = pd.to_datetime(train['date'], format=\"%Y%m%d\")\n",
    "train['annual_day'] = (date_ - pd.to_datetime(date_.dt.year, format=\"%Y\")) /  timedelta(days=1)\n",
    "train['week_day'] = date_.dt.weekday\n",
    "train['month'] = date_.dt.month"
   ]
  },
  {
   "cell_type": "code",
   "execution_count": 23,
   "id": "6200ef98",
   "metadata": {},
   "outputs": [],
   "source": [
    "train['gameday'] = ~train['battingOrder'].isna()*1"
   ]
  },
  {
   "cell_type": "code",
   "execution_count": 24,
   "id": "de38e268",
   "metadata": {},
   "outputs": [],
   "source": [
    "train.sort_values(by=['playerId','date'],inplace=True,ascending=True)"
   ]
  },
  {
   "cell_type": "code",
   "execution_count": 25,
   "id": "fac08f59",
   "metadata": {},
   "outputs": [],
   "source": [
    "def count_consecutive_items_n_cols(df, col_name_list, output_col):\n",
    "    cum_sum_list = [\n",
    "        (df[col_name] != df[col_name].shift(1)).cumsum().tolist() for col_name in col_name_list\n",
    "    ]\n",
    "    df[output_col] = df.groupby(\n",
    "        [\"_\".join(map(str, x)) for x in zip(*cum_sum_list)]\n",
    "    ).cumcount() + 1\n",
    "    return df"
   ]
  },
  {
   "cell_type": "code",
   "execution_count": 26,
   "id": "210413b8",
   "metadata": {},
   "outputs": [],
   "source": [
    "train=count_consecutive_items_n_cols(train,['playerId','gameday'],'daysSinceLastGame')\n",
    "train.loc[train['gameday']==1,'daysSinceLastGame']=0"
   ]
  },
  {
   "cell_type": "code",
   "execution_count": 27,
   "id": "d54b720d",
   "metadata": {},
   "outputs": [],
   "source": [
    "train_game = train[train['gameday']==1]\n",
    "train_last_game = train_game[~train_game.duplicated(subset='playerId', keep='last')][['playerId', 'date']]\n",
    "train_last_game.columns = ['playerId', 'lastdate']\n",
    "train_player_unique = pd.DataFrame(train['playerId'].unique(), columns=['playerId'])\n",
    "train_last_game = pd.merge(train_player_unique, train_last_game, on=['playerId'], how='left' )\n",
    "train_last_game = train_last_game.fillna(20171231)"
   ]
  },
  {
   "cell_type": "code",
   "execution_count": 28,
   "id": "47dabb1d",
   "metadata": {},
   "outputs": [
    {
     "data": {
      "text/html": [
       "<div>\n",
       "<style scoped>\n",
       "    .dataframe tbody tr th:only-of-type {\n",
       "        vertical-align: middle;\n",
       "    }\n",
       "\n",
       "    .dataframe tbody tr th {\n",
       "        vertical-align: top;\n",
       "    }\n",
       "\n",
       "    .dataframe thead th {\n",
       "        text-align: right;\n",
       "    }\n",
       "</style>\n",
       "<table border=\"1\" class=\"dataframe\">\n",
       "  <thead>\n",
       "    <tr style=\"text-align: right;\">\n",
       "      <th></th>\n",
       "      <th>playerId</th>\n",
       "      <th>lastdate</th>\n",
       "    </tr>\n",
       "  </thead>\n",
       "  <tbody>\n",
       "    <tr>\n",
       "      <th>856</th>\n",
       "      <td>593590</td>\n",
       "      <td>20171231.0</td>\n",
       "    </tr>\n",
       "    <tr>\n",
       "      <th>1995</th>\n",
       "      <td>670462</td>\n",
       "      <td>20171231.0</td>\n",
       "    </tr>\n",
       "    <tr>\n",
       "      <th>2000</th>\n",
       "      <td>670764</td>\n",
       "      <td>20171231.0</td>\n",
       "    </tr>\n",
       "    <tr>\n",
       "      <th>1765</th>\n",
       "      <td>661269</td>\n",
       "      <td>20171231.0</td>\n",
       "    </tr>\n",
       "    <tr>\n",
       "      <th>1932</th>\n",
       "      <td>667674</td>\n",
       "      <td>20171231.0</td>\n",
       "    </tr>\n",
       "    <tr>\n",
       "      <th>...</th>\n",
       "      <td>...</td>\n",
       "      <td>...</td>\n",
       "    </tr>\n",
       "    <tr>\n",
       "      <th>473</th>\n",
       "      <td>542932</td>\n",
       "      <td>20210430.0</td>\n",
       "    </tr>\n",
       "    <tr>\n",
       "      <th>1480</th>\n",
       "      <td>641856</td>\n",
       "      <td>20210430.0</td>\n",
       "    </tr>\n",
       "    <tr>\n",
       "      <th>1481</th>\n",
       "      <td>641857</td>\n",
       "      <td>20210430.0</td>\n",
       "    </tr>\n",
       "    <tr>\n",
       "      <th>483</th>\n",
       "      <td>543037</td>\n",
       "      <td>20210430.0</td>\n",
       "    </tr>\n",
       "    <tr>\n",
       "      <th>2060</th>\n",
       "      <td>685503</td>\n",
       "      <td>20210430.0</td>\n",
       "    </tr>\n",
       "  </tbody>\n",
       "</table>\n",
       "<p>2061 rows × 2 columns</p>\n",
       "</div>"
      ],
      "text/plain": [
       "      playerId    lastdate\n",
       "856     593590  20171231.0\n",
       "1995    670462  20171231.0\n",
       "2000    670764  20171231.0\n",
       "1765    661269  20171231.0\n",
       "1932    667674  20171231.0\n",
       "...        ...         ...\n",
       "473     542932  20210430.0\n",
       "1480    641856  20210430.0\n",
       "1481    641857  20210430.0\n",
       "483     543037  20210430.0\n",
       "2060    685503  20210430.0\n",
       "\n",
       "[2061 rows x 2 columns]"
      ]
     },
     "execution_count": 28,
     "metadata": {},
     "output_type": "execute_result"
    }
   ],
   "source": [
    "train_last_game.sort_values('lastdate')"
   ]
  },
  {
   "cell_type": "code",
   "execution_count": 29,
   "id": "3e81ff21",
   "metadata": {},
   "outputs": [
    {
     "data": {
      "text/html": [
       "<div>\n",
       "<style scoped>\n",
       "    .dataframe tbody tr th:only-of-type {\n",
       "        vertical-align: middle;\n",
       "    }\n",
       "\n",
       "    .dataframe tbody tr th {\n",
       "        vertical-align: top;\n",
       "    }\n",
       "\n",
       "    .dataframe thead th {\n",
       "        text-align: right;\n",
       "    }\n",
       "</style>\n",
       "<table border=\"1\" class=\"dataframe\">\n",
       "  <thead>\n",
       "    <tr style=\"text-align: right;\">\n",
       "      <th></th>\n",
       "      <th>seasonStartDate</th>\n",
       "      <th>seasonEndDate</th>\n",
       "    </tr>\n",
       "  </thead>\n",
       "  <tbody>\n",
       "    <tr>\n",
       "      <th>0</th>\n",
       "      <td>20170402</td>\n",
       "      <td>20171101</td>\n",
       "    </tr>\n",
       "    <tr>\n",
       "      <th>1</th>\n",
       "      <td>20180329</td>\n",
       "      <td>20181028</td>\n",
       "    </tr>\n",
       "    <tr>\n",
       "      <th>2</th>\n",
       "      <td>20190320</td>\n",
       "      <td>20191030</td>\n",
       "    </tr>\n",
       "    <tr>\n",
       "      <th>3</th>\n",
       "      <td>20200723</td>\n",
       "      <td>20201028</td>\n",
       "    </tr>\n",
       "    <tr>\n",
       "      <th>4</th>\n",
       "      <td>20210228</td>\n",
       "      <td>20211031</td>\n",
       "    </tr>\n",
       "  </tbody>\n",
       "</table>\n",
       "</div>"
      ],
      "text/plain": [
       "   seasonStartDate  seasonEndDate\n",
       "0         20170402       20171101\n",
       "1         20180329       20181028\n",
       "2         20190320       20191030\n",
       "3         20200723       20201028\n",
       "4         20210228       20211031"
      ]
     },
     "execution_count": 29,
     "metadata": {},
     "output_type": "execute_result"
    }
   ],
   "source": [
    "seasons_startend"
   ]
  },
  {
   "cell_type": "code",
   "execution_count": 30,
   "id": "78e748fa",
   "metadata": {},
   "outputs": [],
   "source": [
    "on_season_idxes = 0\n",
    "for raw in seasons_startend.iloc():\n",
    "    idx_ = ((train['date'].astype(int) >= raw['seasonStartDate']) & (train['date'].astype(int) <= raw['seasonEndDate'])) * 1\n",
    "    on_season_idxes += idx_\n",
    "#     break"
   ]
  },
  {
   "cell_type": "code",
   "execution_count": 31,
   "id": "bed6fde3",
   "metadata": {},
   "outputs": [],
   "source": [
    "train = train[on_season_idxes == 1].reset_index(drop=True)"
   ]
  },
  {
   "cell_type": "code",
   "execution_count": 32,
   "id": "1af9f72d",
   "metadata": {},
   "outputs": [
    {
     "data": {
      "text/html": [
       "<div>\n",
       "<style scoped>\n",
       "    .dataframe tbody tr th:only-of-type {\n",
       "        vertical-align: middle;\n",
       "    }\n",
       "\n",
       "    .dataframe tbody tr th {\n",
       "        vertical-align: top;\n",
       "    }\n",
       "\n",
       "    .dataframe thead th {\n",
       "        text-align: right;\n",
       "    }\n",
       "</style>\n",
       "<table border=\"1\" class=\"dataframe\">\n",
       "  <thead>\n",
       "    <tr style=\"text-align: right;\">\n",
       "      <th></th>\n",
       "      <th>playerId</th>\n",
       "      <th>target1</th>\n",
       "      <th>target2</th>\n",
       "      <th>target3</th>\n",
       "      <th>target4</th>\n",
       "      <th>date</th>\n",
       "      <th>primaryPositionName</th>\n",
       "      <th>birthCity</th>\n",
       "      <th>DOY</th>\n",
       "      <th>mlbDebutYear</th>\n",
       "      <th>...</th>\n",
       "      <th>label_playerId</th>\n",
       "      <th>label_primaryPositionName</th>\n",
       "      <th>label_birthCity</th>\n",
       "      <th>label_teamId</th>\n",
       "      <th>label_status</th>\n",
       "      <th>annual_day</th>\n",
       "      <th>week_day</th>\n",
       "      <th>month</th>\n",
       "      <th>gameday</th>\n",
       "      <th>daysSinceLastGame</th>\n",
       "    </tr>\n",
       "  </thead>\n",
       "  <tbody>\n",
       "    <tr>\n",
       "      <th>0</th>\n",
       "      <td>112526</td>\n",
       "      <td>0.031761</td>\n",
       "      <td>2.731418</td>\n",
       "      <td>0.388556</td>\n",
       "      <td>6.349412</td>\n",
       "      <td>20180329</td>\n",
       "      <td>Pitcher</td>\n",
       "      <td>Altamira</td>\n",
       "      <td>1973</td>\n",
       "      <td>1997.0</td>\n",
       "      <td>...</td>\n",
       "      <td>969</td>\n",
       "      <td>0</td>\n",
       "      <td>588</td>\n",
       "      <td>1</td>\n",
       "      <td>3</td>\n",
       "      <td>87.0</td>\n",
       "      <td>3</td>\n",
       "      <td>3</td>\n",
       "      <td>0</td>\n",
       "      <td>88</td>\n",
       "    </tr>\n",
       "    <tr>\n",
       "      <th>1</th>\n",
       "      <td>112526</td>\n",
       "      <td>0.025906</td>\n",
       "      <td>4.622162</td>\n",
       "      <td>0.408017</td>\n",
       "      <td>11.508375</td>\n",
       "      <td>20180330</td>\n",
       "      <td>Pitcher</td>\n",
       "      <td>Altamira</td>\n",
       "      <td>1973</td>\n",
       "      <td>1997.0</td>\n",
       "      <td>...</td>\n",
       "      <td>969</td>\n",
       "      <td>0</td>\n",
       "      <td>588</td>\n",
       "      <td>1</td>\n",
       "      <td>3</td>\n",
       "      <td>88.0</td>\n",
       "      <td>4</td>\n",
       "      <td>3</td>\n",
       "      <td>0</td>\n",
       "      <td>89</td>\n",
       "    </tr>\n",
       "    <tr>\n",
       "      <th>2</th>\n",
       "      <td>112526</td>\n",
       "      <td>0.053185</td>\n",
       "      <td>4.767842</td>\n",
       "      <td>0.275408</td>\n",
       "      <td>14.600851</td>\n",
       "      <td>20180331</td>\n",
       "      <td>Pitcher</td>\n",
       "      <td>Altamira</td>\n",
       "      <td>1973</td>\n",
       "      <td>1997.0</td>\n",
       "      <td>...</td>\n",
       "      <td>969</td>\n",
       "      <td>0</td>\n",
       "      <td>588</td>\n",
       "      <td>1</td>\n",
       "      <td>3</td>\n",
       "      <td>89.0</td>\n",
       "      <td>5</td>\n",
       "      <td>3</td>\n",
       "      <td>0</td>\n",
       "      <td>90</td>\n",
       "    </tr>\n",
       "    <tr>\n",
       "      <th>3</th>\n",
       "      <td>112526</td>\n",
       "      <td>0.771100</td>\n",
       "      <td>63.601677</td>\n",
       "      <td>7.566316</td>\n",
       "      <td>100.000000</td>\n",
       "      <td>20180401</td>\n",
       "      <td>Pitcher</td>\n",
       "      <td>Altamira</td>\n",
       "      <td>1973</td>\n",
       "      <td>1997.0</td>\n",
       "      <td>...</td>\n",
       "      <td>969</td>\n",
       "      <td>0</td>\n",
       "      <td>588</td>\n",
       "      <td>1</td>\n",
       "      <td>3</td>\n",
       "      <td>90.0</td>\n",
       "      <td>6</td>\n",
       "      <td>4</td>\n",
       "      <td>0</td>\n",
       "      <td>91</td>\n",
       "    </tr>\n",
       "    <tr>\n",
       "      <th>4</th>\n",
       "      <td>112526</td>\n",
       "      <td>5.957846</td>\n",
       "      <td>22.427930</td>\n",
       "      <td>33.900803</td>\n",
       "      <td>38.857939</td>\n",
       "      <td>20180402</td>\n",
       "      <td>Pitcher</td>\n",
       "      <td>Altamira</td>\n",
       "      <td>1973</td>\n",
       "      <td>1997.0</td>\n",
       "      <td>...</td>\n",
       "      <td>969</td>\n",
       "      <td>0</td>\n",
       "      <td>588</td>\n",
       "      <td>7</td>\n",
       "      <td>0</td>\n",
       "      <td>91.0</td>\n",
       "      <td>0</td>\n",
       "      <td>4</td>\n",
       "      <td>1</td>\n",
       "      <td>0</td>\n",
       "    </tr>\n",
       "    <tr>\n",
       "      <th>...</th>\n",
       "      <td>...</td>\n",
       "      <td>...</td>\n",
       "      <td>...</td>\n",
       "      <td>...</td>\n",
       "      <td>...</td>\n",
       "      <td>...</td>\n",
       "      <td>...</td>\n",
       "      <td>...</td>\n",
       "      <td>...</td>\n",
       "      <td>...</td>\n",
       "      <td>...</td>\n",
       "      <td>...</td>\n",
       "      <td>...</td>\n",
       "      <td>...</td>\n",
       "      <td>...</td>\n",
       "      <td>...</td>\n",
       "      <td>...</td>\n",
       "      <td>...</td>\n",
       "      <td>...</td>\n",
       "      <td>...</td>\n",
       "      <td>...</td>\n",
       "    </tr>\n",
       "    <tr>\n",
       "      <th>1234534</th>\n",
       "      <td>685503</td>\n",
       "      <td>0.044617</td>\n",
       "      <td>1.224728</td>\n",
       "      <td>0.009437</td>\n",
       "      <td>0.737463</td>\n",
       "      <td>20210426</td>\n",
       "      <td>Pitcher</td>\n",
       "      <td>Hiroshima</td>\n",
       "      <td>1992</td>\n",
       "      <td>2021.0</td>\n",
       "      <td>...</td>\n",
       "      <td>1713</td>\n",
       "      <td>0</td>\n",
       "      <td>902</td>\n",
       "      <td>7</td>\n",
       "      <td>0</td>\n",
       "      <td>115.0</td>\n",
       "      <td>0</td>\n",
       "      <td>4</td>\n",
       "      <td>0</td>\n",
       "      <td>1</td>\n",
       "    </tr>\n",
       "    <tr>\n",
       "      <th>1234535</th>\n",
       "      <td>685503</td>\n",
       "      <td>0.019123</td>\n",
       "      <td>1.178880</td>\n",
       "      <td>0.013161</td>\n",
       "      <td>0.790301</td>\n",
       "      <td>20210427</td>\n",
       "      <td>Pitcher</td>\n",
       "      <td>Hiroshima</td>\n",
       "      <td>1992</td>\n",
       "      <td>2021.0</td>\n",
       "      <td>...</td>\n",
       "      <td>1713</td>\n",
       "      <td>0</td>\n",
       "      <td>902</td>\n",
       "      <td>7</td>\n",
       "      <td>0</td>\n",
       "      <td>116.0</td>\n",
       "      <td>1</td>\n",
       "      <td>4</td>\n",
       "      <td>0</td>\n",
       "      <td>2</td>\n",
       "    </tr>\n",
       "    <tr>\n",
       "      <th>1234536</th>\n",
       "      <td>685503</td>\n",
       "      <td>0.015799</td>\n",
       "      <td>4.323489</td>\n",
       "      <td>0.002350</td>\n",
       "      <td>0.970273</td>\n",
       "      <td>20210428</td>\n",
       "      <td>Pitcher</td>\n",
       "      <td>Hiroshima</td>\n",
       "      <td>1992</td>\n",
       "      <td>2021.0</td>\n",
       "      <td>...</td>\n",
       "      <td>1713</td>\n",
       "      <td>0</td>\n",
       "      <td>902</td>\n",
       "      <td>7</td>\n",
       "      <td>0</td>\n",
       "      <td>117.0</td>\n",
       "      <td>2</td>\n",
       "      <td>4</td>\n",
       "      <td>0</td>\n",
       "      <td>3</td>\n",
       "    </tr>\n",
       "    <tr>\n",
       "      <th>1234537</th>\n",
       "      <td>685503</td>\n",
       "      <td>0.018770</td>\n",
       "      <td>31.946021</td>\n",
       "      <td>0.305491</td>\n",
       "      <td>5.938273</td>\n",
       "      <td>20210429</td>\n",
       "      <td>Pitcher</td>\n",
       "      <td>Hiroshima</td>\n",
       "      <td>1992</td>\n",
       "      <td>2021.0</td>\n",
       "      <td>...</td>\n",
       "      <td>1713</td>\n",
       "      <td>0</td>\n",
       "      <td>902</td>\n",
       "      <td>7</td>\n",
       "      <td>0</td>\n",
       "      <td>118.0</td>\n",
       "      <td>3</td>\n",
       "      <td>4</td>\n",
       "      <td>0</td>\n",
       "      <td>4</td>\n",
       "    </tr>\n",
       "    <tr>\n",
       "      <th>1234538</th>\n",
       "      <td>685503</td>\n",
       "      <td>0.014727</td>\n",
       "      <td>6.607196</td>\n",
       "      <td>1.851336</td>\n",
       "      <td>2.014339</td>\n",
       "      <td>20210430</td>\n",
       "      <td>Pitcher</td>\n",
       "      <td>Hiroshima</td>\n",
       "      <td>1992</td>\n",
       "      <td>2021.0</td>\n",
       "      <td>...</td>\n",
       "      <td>1713</td>\n",
       "      <td>0</td>\n",
       "      <td>902</td>\n",
       "      <td>7</td>\n",
       "      <td>0</td>\n",
       "      <td>119.0</td>\n",
       "      <td>4</td>\n",
       "      <td>4</td>\n",
       "      <td>1</td>\n",
       "      <td>0</td>\n",
       "    </tr>\n",
       "  </tbody>\n",
       "</table>\n",
       "<p>1234539 rows × 136 columns</p>\n",
       "</div>"
      ],
      "text/plain": [
       "         playerId   target1    target2    target3     target4      date  \\\n",
       "0          112526  0.031761   2.731418   0.388556    6.349412  20180329   \n",
       "1          112526  0.025906   4.622162   0.408017   11.508375  20180330   \n",
       "2          112526  0.053185   4.767842   0.275408   14.600851  20180331   \n",
       "3          112526  0.771100  63.601677   7.566316  100.000000  20180401   \n",
       "4          112526  5.957846  22.427930  33.900803   38.857939  20180402   \n",
       "...           ...       ...        ...        ...         ...       ...   \n",
       "1234534    685503  0.044617   1.224728   0.009437    0.737463  20210426   \n",
       "1234535    685503  0.019123   1.178880   0.013161    0.790301  20210427   \n",
       "1234536    685503  0.015799   4.323489   0.002350    0.970273  20210428   \n",
       "1234537    685503  0.018770  31.946021   0.305491    5.938273  20210429   \n",
       "1234538    685503  0.014727   6.607196   1.851336    2.014339  20210430   \n",
       "\n",
       "        primaryPositionName  birthCity   DOY  mlbDebutYear  ...  \\\n",
       "0                   Pitcher   Altamira  1973        1997.0  ...   \n",
       "1                   Pitcher   Altamira  1973        1997.0  ...   \n",
       "2                   Pitcher   Altamira  1973        1997.0  ...   \n",
       "3                   Pitcher   Altamira  1973        1997.0  ...   \n",
       "4                   Pitcher   Altamira  1973        1997.0  ...   \n",
       "...                     ...        ...   ...           ...  ...   \n",
       "1234534             Pitcher  Hiroshima  1992        2021.0  ...   \n",
       "1234535             Pitcher  Hiroshima  1992        2021.0  ...   \n",
       "1234536             Pitcher  Hiroshima  1992        2021.0  ...   \n",
       "1234537             Pitcher  Hiroshima  1992        2021.0  ...   \n",
       "1234538             Pitcher  Hiroshima  1992        2021.0  ...   \n",
       "\n",
       "         label_playerId  label_primaryPositionName  label_birthCity  \\\n",
       "0                   969                          0              588   \n",
       "1                   969                          0              588   \n",
       "2                   969                          0              588   \n",
       "3                   969                          0              588   \n",
       "4                   969                          0              588   \n",
       "...                 ...                        ...              ...   \n",
       "1234534            1713                          0              902   \n",
       "1234535            1713                          0              902   \n",
       "1234536            1713                          0              902   \n",
       "1234537            1713                          0              902   \n",
       "1234538            1713                          0              902   \n",
       "\n",
       "         label_teamId label_status  annual_day  week_day  month  gameday  \\\n",
       "0                   1            3        87.0         3      3        0   \n",
       "1                   1            3        88.0         4      3        0   \n",
       "2                   1            3        89.0         5      3        0   \n",
       "3                   1            3        90.0         6      4        0   \n",
       "4                   7            0        91.0         0      4        1   \n",
       "...               ...          ...         ...       ...    ...      ...   \n",
       "1234534             7            0       115.0         0      4        0   \n",
       "1234535             7            0       116.0         1      4        0   \n",
       "1234536             7            0       117.0         2      4        0   \n",
       "1234537             7            0       118.0         3      4        0   \n",
       "1234538             7            0       119.0         4      4        1   \n",
       "\n",
       "         daysSinceLastGame  \n",
       "0                       88  \n",
       "1                       89  \n",
       "2                       90  \n",
       "3                       91  \n",
       "4                        0  \n",
       "...                    ...  \n",
       "1234534                  1  \n",
       "1234535                  2  \n",
       "1234536                  3  \n",
       "1234537                  4  \n",
       "1234538                  0  \n",
       "\n",
       "[1234539 rows x 136 columns]"
      ]
     },
     "execution_count": 32,
     "metadata": {},
     "output_type": "execute_result"
    }
   ],
   "source": [
    "train"
   ]
  },
  {
   "cell_type": "code",
   "execution_count": 33,
   "id": "639aeebb",
   "metadata": {},
   "outputs": [],
   "source": [
    "# def fit_lgbm(x_train, y_train, x_valid, y_valid, params: dict=None, verbose=100):\n",
    "#     oof_pred = np.zeros(len(y_valid), dtype=np.float32)\n",
    "#     model = lgbm.LGBMRegressor(**params)\n",
    "#     model.fit(x_train, y_train, \n",
    "#         eval_set=[(x_valid, y_valid)],  \n",
    "#         early_stopping_rounds=verbose, \n",
    "#         verbose=verbose)\n",
    "#     oof_pred = model.predict(x_valid)\n",
    "#     oof_pred = np.clip(oof_pred, 0, 100)\n",
    "#     score = mean_absolute_error(oof_pred, y_valid)\n",
    "#     print('mae:', score)\n",
    "#     return oof_pred, model, score\n"
   ]
  },
  {
   "cell_type": "code",
   "execution_count": 34,
   "id": "271ce5a8",
   "metadata": {},
   "outputs": [],
   "source": [
    "train_X = train\n",
    "train_y = train[['target1', 'target2', 'target3', 'target4']]\n",
    "tr_idxs = []\n",
    "val_idxs = []"
   ]
  },
  {
   "cell_type": "code",
   "execution_count": 35,
   "id": "21bcaeed",
   "metadata": {},
   "outputs": [],
   "source": [
    "# tr_idx = (train['date'].astype(int) < 20200801)\n",
    "# val_idx = (train['date'].astype(int) >= 20200801) & (train['date'].astype(int) < 20200901)\n",
    "# tr_idxs.append(tr_idx)\n",
    "# val_idxs.append(val_idx)\n",
    "\n",
    "# tr_idx = (train['date'].astype(int) < 20200901)\n",
    "# val_idx = (train['date'].astype(int) >= 20200901) & (train['date'].astype(int) < 20201001)\n",
    "# tr_idxs.append(tr_idx)\n",
    "# val_idxs.append(val_idx)\n",
    "\n",
    "# tr_idx = (train['date'].astype(int) < 20201001)\n",
    "# val_idx = (train['date'].astype(int) >= 20201001) & (train['date'].astype(int) < 20201028)\n",
    "# tr_idxs.append(tr_idx)\n",
    "# val_idxs.append(val_idx)\n",
    "\n",
    "# tr_idx = (train['date'].astype(int) < 20210228)\n",
    "# val_idx = (train['date'].astype(int) >= 20210228) & (train['date'].astype(int) < 20210401)\n",
    "# tr_idxs.append(tr_idx)\n",
    "# val_idxs.append(val_idx)\n",
    "\n",
    "tr_idx = (train['date'].astype(int) < 20210401)\n",
    "val_idx = ~tr_idx\n",
    "tr_idxs.append(tr_idx)\n",
    "val_idxs.append(val_idx)"
   ]
  },
  {
   "cell_type": "code",
   "execution_count": 36,
   "id": "8983457e",
   "metadata": {},
   "outputs": [],
   "source": [
    "params = {'objective': 'regression',\n",
    "          'metric': 'mae',\n",
    "          'learning_rate': 0.01,\n",
    "          'early_stopping_rounds':10,\n",
    "          'random_seed':SEED} "
   ]
  },
  {
   "cell_type": "code",
   "execution_count": 37,
   "id": "cce58ef9",
   "metadata": {},
   "outputs": [
    {
     "name": "stderr",
     "output_type": "stream",
     "text": [
      "\u001b[32m[I 2021-07-01 11:51:31,896]\u001b[0m A new study created in memory with name: no-name-c560191a-32ba-47fa-b9e1-8e01ad4eb525\u001b[0m\n",
      "feature_fraction, val_score: inf:   0%|          | 0/7 [00:00<?, ?it/s]"
     ]
    },
    {
     "name": "stdout",
     "output_type": "stream",
     "text": [
      "[LightGBM] [Warning] Auto-choosing row-wise multi-threading, the overhead of testing was 0.100072 seconds.\n",
      "You can set `force_row_wise=true` to remove the overhead.\n",
      "And if memory is not enough, you can set `force_col_wise=true`.\n",
      "[LightGBM] [Info] Total Bins 10191\n",
      "[LightGBM] [Info] Number of data points in the train set: 1172709, number of used features: 113\n",
      "[LightGBM] [Info] Start training from score 0.699385\n"
     ]
    },
    {
     "name": "stderr",
     "output_type": "stream",
     "text": [
      "feature_fraction, val_score: 0.841588:  14%|#4        | 1/7 [00:27<02:44, 27.38s/it]\u001b[32m[I 2021-07-01 11:51:59,278]\u001b[0m Trial 0 finished with value: 0.8415884954480316 and parameters: {'feature_fraction': 0.5}. Best is trial 0 with value: 0.8415884954480316.\u001b[0m\n",
      "feature_fraction, val_score: 0.841588:  14%|#4        | 1/7 [00:27<02:44, 27.38s/it]"
     ]
    },
    {
     "name": "stdout",
     "output_type": "stream",
     "text": [
      "[LightGBM] [Warning] Auto-choosing row-wise multi-threading, the overhead of testing was 0.100352 seconds.\n",
      "You can set `force_row_wise=true` to remove the overhead.\n",
      "And if memory is not enough, you can set `force_col_wise=true`.\n",
      "[LightGBM] [Info] Total Bins 10191\n",
      "[LightGBM] [Info] Number of data points in the train set: 1172709, number of used features: 113\n",
      "[LightGBM] [Info] Start training from score 0.699385\n"
     ]
    },
    {
     "name": "stderr",
     "output_type": "stream",
     "text": [
      "feature_fraction, val_score: 0.841588:  29%|##8       | 2/7 [00:46<01:52, 22.54s/it]\u001b[32m[I 2021-07-01 11:52:18,428]\u001b[0m Trial 1 finished with value: 0.8455762878947325 and parameters: {'feature_fraction': 0.8}. Best is trial 0 with value: 0.8415884954480316.\u001b[0m\n",
      "feature_fraction, val_score: 0.841588:  29%|##8       | 2/7 [00:46<01:52, 22.54s/it]"
     ]
    },
    {
     "name": "stdout",
     "output_type": "stream",
     "text": [
      "[LightGBM] [Warning] Auto-choosing row-wise multi-threading, the overhead of testing was 0.096213 seconds.\n",
      "You can set `force_row_wise=true` to remove the overhead.\n",
      "And if memory is not enough, you can set `force_col_wise=true`.\n",
      "[LightGBM] [Info] Total Bins 10191\n",
      "[LightGBM] [Info] Number of data points in the train set: 1172709, number of used features: 113\n",
      "[LightGBM] [Info] Start training from score 0.699385\n"
     ]
    },
    {
     "name": "stderr",
     "output_type": "stream",
     "text": [
      "feature_fraction, val_score: 0.841588:  43%|####2     | 3/7 [01:09<01:31, 22.93s/it]\u001b[32m[I 2021-07-01 11:52:41,831]\u001b[0m Trial 2 finished with value: 0.8452034621972825 and parameters: {'feature_fraction': 0.8999999999999999}. Best is trial 0 with value: 0.8415884954480316.\u001b[0m\n",
      "feature_fraction, val_score: 0.841588:  43%|####2     | 3/7 [01:09<01:31, 22.93s/it]"
     ]
    },
    {
     "name": "stdout",
     "output_type": "stream",
     "text": [
      "[LightGBM] [Warning] Auto-choosing col-wise multi-threading, the overhead of testing was 0.339672 seconds.\n",
      "You can set `force_col_wise=true` to remove the overhead.\n",
      "[LightGBM] [Info] Total Bins 10191\n",
      "[LightGBM] [Info] Number of data points in the train set: 1172709, number of used features: 113\n",
      "[LightGBM] [Info] Start training from score 0.699385\n"
     ]
    },
    {
     "name": "stderr",
     "output_type": "stream",
     "text": [
      "feature_fraction, val_score: 0.841588:  57%|#####7    | 4/7 [01:29<01:04, 21.42s/it]\u001b[32m[I 2021-07-01 11:53:00,941]\u001b[0m Trial 3 finished with value: 0.8458906896210545 and parameters: {'feature_fraction': 0.7}. Best is trial 0 with value: 0.8415884954480316.\u001b[0m\n",
      "feature_fraction, val_score: 0.841588:  57%|#####7    | 4/7 [01:29<01:04, 21.42s/it]"
     ]
    },
    {
     "name": "stdout",
     "output_type": "stream",
     "text": [
      "[LightGBM] [Warning] Auto-choosing row-wise multi-threading, the overhead of testing was 0.102722 seconds.\n",
      "You can set `force_row_wise=true` to remove the overhead.\n",
      "And if memory is not enough, you can set `force_col_wise=true`.\n",
      "[LightGBM] [Info] Total Bins 10191\n",
      "[LightGBM] [Info] Number of data points in the train set: 1172709, number of used features: 113\n",
      "[LightGBM] [Info] Start training from score 0.699385\n"
     ]
    },
    {
     "name": "stderr",
     "output_type": "stream",
     "text": [
      "feature_fraction, val_score: 0.841588:  71%|#######1  | 5/7 [01:50<00:43, 21.56s/it]\u001b[32m[I 2021-07-01 11:53:22,730]\u001b[0m Trial 4 finished with value: 0.8447120403365161 and parameters: {'feature_fraction': 1.0}. Best is trial 0 with value: 0.8415884954480316.\u001b[0m\n",
      "feature_fraction, val_score: 0.841588:  71%|#######1  | 5/7 [01:50<00:43, 21.56s/it]"
     ]
    },
    {
     "name": "stdout",
     "output_type": "stream",
     "text": [
      "[LightGBM] [Warning] Auto-choosing col-wise multi-threading, the overhead of testing was 0.340798 seconds.\n",
      "You can set `force_col_wise=true` to remove the overhead.\n",
      "[LightGBM] [Info] Total Bins 10191\n",
      "[LightGBM] [Info] Number of data points in the train set: 1172709, number of used features: 113\n",
      "[LightGBM] [Info] Start training from score 0.699385\n"
     ]
    },
    {
     "name": "stderr",
     "output_type": "stream",
     "text": [
      "feature_fraction, val_score: 0.841588:  86%|########5 | 6/7 [02:10<00:20, 20.86s/it]\u001b[32m[I 2021-07-01 11:53:42,241]\u001b[0m Trial 5 finished with value: 0.8432405999107843 and parameters: {'feature_fraction': 0.6}. Best is trial 0 with value: 0.8415884954480316.\u001b[0m\n",
      "feature_fraction, val_score: 0.841588:  86%|########5 | 6/7 [02:10<00:20, 20.86s/it]"
     ]
    },
    {
     "name": "stdout",
     "output_type": "stream",
     "text": [
      "[LightGBM] [Warning] Auto-choosing row-wise multi-threading, the overhead of testing was 0.093739 seconds.\n",
      "You can set `force_row_wise=true` to remove the overhead.\n",
      "And if memory is not enough, you can set `force_col_wise=true`.\n",
      "[LightGBM] [Info] Total Bins 10191\n",
      "[LightGBM] [Info] Number of data points in the train set: 1172709, number of used features: 113\n",
      "[LightGBM] [Info] Start training from score 0.699385\n"
     ]
    },
    {
     "name": "stderr",
     "output_type": "stream",
     "text": [
      "feature_fraction, val_score: 0.841588: 100%|##########| 7/7 [02:35<00:00, 22.20s/it]\u001b[32m[I 2021-07-01 11:54:07,191]\u001b[0m Trial 6 finished with value: 0.8423686838369902 and parameters: {'feature_fraction': 0.4}. Best is trial 0 with value: 0.8415884954480316.\u001b[0m\n",
      "feature_fraction, val_score: 0.841588: 100%|##########| 7/7 [02:35<00:00, 22.18s/it]\n",
      "num_leaves, val_score: 0.841588:   0%|          | 0/20 [00:00<?, ?it/s]"
     ]
    },
    {
     "name": "stdout",
     "output_type": "stream",
     "text": [
      "[LightGBM] [Warning] Auto-choosing row-wise multi-threading, the overhead of testing was 0.087090 seconds.\n",
      "You can set `force_row_wise=true` to remove the overhead.\n",
      "And if memory is not enough, you can set `force_col_wise=true`.\n",
      "[LightGBM] [Info] Total Bins 10191\n",
      "[LightGBM] [Info] Number of data points in the train set: 1172709, number of used features: 113\n",
      "[LightGBM] [Info] Start training from score 0.699385\n"
     ]
    },
    {
     "name": "stderr",
     "output_type": "stream",
     "text": [
      "num_leaves, val_score: 0.841588:   5%|5         | 1/20 [00:32<10:09, 32.09s/it]\u001b[32m[I 2021-07-01 11:54:39,281]\u001b[0m Trial 7 finished with value: 0.8425216724940608 and parameters: {'num_leaves': 172}. Best is trial 7 with value: 0.8425216724940608.\u001b[0m\n",
      "num_leaves, val_score: 0.841588:   5%|5         | 1/20 [00:32<10:09, 32.09s/it]"
     ]
    },
    {
     "name": "stdout",
     "output_type": "stream",
     "text": [
      "[LightGBM] [Warning] Auto-choosing row-wise multi-threading, the overhead of testing was 0.103939 seconds.\n",
      "You can set `force_row_wise=true` to remove the overhead.\n",
      "And if memory is not enough, you can set `force_col_wise=true`.\n",
      "[LightGBM] [Info] Total Bins 10191\n",
      "[LightGBM] [Info] Number of data points in the train set: 1172709, number of used features: 113\n",
      "[LightGBM] [Info] Start training from score 0.699385\n"
     ]
    },
    {
     "name": "stderr",
     "output_type": "stream",
     "text": [
      "num_leaves, val_score: 0.840278:  10%|#         | 2/20 [01:06<09:59, 33.30s/it]\u001b[32m[I 2021-07-01 11:55:13,422]\u001b[0m Trial 8 finished with value: 0.8402777917234591 and parameters: {'num_leaves': 134}. Best is trial 8 with value: 0.8402777917234591.\u001b[0m\n",
      "num_leaves, val_score: 0.840278:  10%|#         | 2/20 [01:06<09:59, 33.30s/it]"
     ]
    },
    {
     "name": "stdout",
     "output_type": "stream",
     "text": [
      "[LightGBM] [Warning] Auto-choosing row-wise multi-threading, the overhead of testing was 0.087333 seconds.\n",
      "You can set `force_row_wise=true` to remove the overhead.\n",
      "And if memory is not enough, you can set `force_col_wise=true`.\n",
      "[LightGBM] [Info] Total Bins 10191\n",
      "[LightGBM] [Info] Number of data points in the train set: 1172709, number of used features: 113\n",
      "[LightGBM] [Info] Start training from score 0.699385\n"
     ]
    },
    {
     "name": "stderr",
     "output_type": "stream",
     "text": [
      "num_leaves, val_score: 0.840278:  15%|#5        | 3/20 [01:42<09:50, 34.75s/it]\u001b[32m[I 2021-07-01 11:55:49,903]\u001b[0m Trial 9 finished with value: 0.8425742049109173 and parameters: {'num_leaves': 201}. Best is trial 8 with value: 0.8402777917234591.\u001b[0m\n",
      "num_leaves, val_score: 0.840278:  15%|#5        | 3/20 [01:42<09:50, 34.75s/it]"
     ]
    },
    {
     "name": "stdout",
     "output_type": "stream",
     "text": [
      "[LightGBM] [Warning] Auto-choosing row-wise multi-threading, the overhead of testing was 0.074116 seconds.\n",
      "You can set `force_row_wise=true` to remove the overhead.\n",
      "And if memory is not enough, you can set `force_col_wise=true`.\n",
      "[LightGBM] [Info] Total Bins 10191\n",
      "[LightGBM] [Info] Number of data points in the train set: 1172709, number of used features: 113\n",
      "[LightGBM] [Info] Start training from score 0.699385\n"
     ]
    },
    {
     "name": "stderr",
     "output_type": "stream",
     "text": [
      "num_leaves, val_score: 0.840278:  20%|##        | 4/20 [02:18<09:22, 35.16s/it]\u001b[32m[I 2021-07-01 11:56:25,702]\u001b[0m Trial 10 finished with value: 0.8421831232341904 and parameters: {'num_leaves': 185}. Best is trial 8 with value: 0.8402777917234591.\u001b[0m\n",
      "num_leaves, val_score: 0.840278:  20%|##        | 4/20 [02:18<09:22, 35.16s/it]"
     ]
    },
    {
     "name": "stdout",
     "output_type": "stream",
     "text": [
      "[LightGBM] [Warning] Auto-choosing row-wise multi-threading, the overhead of testing was 0.070685 seconds.\n",
      "You can set `force_row_wise=true` to remove the overhead.\n",
      "And if memory is not enough, you can set `force_col_wise=true`.\n",
      "[LightGBM] [Info] Total Bins 10191\n",
      "[LightGBM] [Info] Number of data points in the train set: 1172709, number of used features: 113\n",
      "[LightGBM] [Info] Start training from score 0.699385\n"
     ]
    },
    {
     "name": "stderr",
     "output_type": "stream",
     "text": [
      "num_leaves, val_score: 0.840278:  25%|##5       | 5/20 [02:50<08:31, 34.08s/it]\u001b[32m[I 2021-07-01 11:56:57,847]\u001b[0m Trial 11 finished with value: 0.8409830074207353 and parameters: {'num_leaves': 126}. Best is trial 8 with value: 0.8402777917234591.\u001b[0m\n",
      "num_leaves, val_score: 0.840278:  25%|##5       | 5/20 [02:50<08:31, 34.08s/it]"
     ]
    },
    {
     "name": "stdout",
     "output_type": "stream",
     "text": [
      "[LightGBM] [Warning] Auto-choosing row-wise multi-threading, the overhead of testing was 0.075871 seconds.\n",
      "You can set `force_row_wise=true` to remove the overhead.\n",
      "And if memory is not enough, you can set `force_col_wise=true`.\n",
      "[LightGBM] [Info] Total Bins 10191\n",
      "[LightGBM] [Info] Number of data points in the train set: 1172709, number of used features: 113\n",
      "[LightGBM] [Info] Start training from score 0.699385\n"
     ]
    },
    {
     "name": "stderr",
     "output_type": "stream",
     "text": [
      "num_leaves, val_score: 0.840278:  30%|###       | 6/20 [03:25<08:01, 34.37s/it]\u001b[32m[I 2021-07-01 11:57:32,779]\u001b[0m Trial 12 finished with value: 0.8442289547111103 and parameters: {'num_leaves': 215}. Best is trial 8 with value: 0.8402777917234591.\u001b[0m\n",
      "num_leaves, val_score: 0.840278:  30%|###       | 6/20 [03:25<08:01, 34.37s/it]"
     ]
    },
    {
     "name": "stdout",
     "output_type": "stream",
     "text": [
      "[LightGBM] [Warning] Auto-choosing row-wise multi-threading, the overhead of testing was 0.077037 seconds.\n",
      "You can set `force_row_wise=true` to remove the overhead.\n",
      "And if memory is not enough, you can set `force_col_wise=true`.\n",
      "[LightGBM] [Info] Total Bins 10191\n",
      "[LightGBM] [Info] Number of data points in the train set: 1172709, number of used features: 113\n",
      "[LightGBM] [Info] Start training from score 0.699385\n"
     ]
    },
    {
     "name": "stderr",
     "output_type": "stream",
     "text": [
      "num_leaves, val_score: 0.840278:  35%|###5      | 7/20 [03:59<07:22, 34.07s/it]\u001b[32m[I 2021-07-01 11:58:06,228]\u001b[0m Trial 13 finished with value: 0.8405222339444632 and parameters: {'num_leaves': 111}. Best is trial 8 with value: 0.8402777917234591.\u001b[0m\n",
      "num_leaves, val_score: 0.840278:  35%|###5      | 7/20 [03:59<07:22, 34.07s/it]"
     ]
    },
    {
     "name": "stdout",
     "output_type": "stream",
     "text": [
      "[LightGBM] [Warning] Auto-choosing row-wise multi-threading, the overhead of testing was 0.071124 seconds.\n",
      "You can set `force_row_wise=true` to remove the overhead.\n",
      "And if memory is not enough, you can set `force_col_wise=true`.\n",
      "[LightGBM] [Info] Total Bins 10191\n",
      "[LightGBM] [Info] Number of data points in the train set: 1172709, number of used features: 113\n",
      "[LightGBM] [Info] Start training from score 0.699385\n"
     ]
    },
    {
     "name": "stderr",
     "output_type": "stream",
     "text": [
      "num_leaves, val_score: 0.840278:  40%|####      | 8/20 [04:32<06:46, 33.86s/it]\u001b[32m[I 2021-07-01 11:58:39,638]\u001b[0m Trial 14 finished with value: 0.8405222339444632 and parameters: {'num_leaves': 111}. Best is trial 8 with value: 0.8402777917234591.\u001b[0m\n",
      "num_leaves, val_score: 0.840278:  40%|####      | 8/20 [04:32<06:46, 33.86s/it]"
     ]
    },
    {
     "name": "stdout",
     "output_type": "stream",
     "text": [
      "[LightGBM] [Warning] Auto-choosing row-wise multi-threading, the overhead of testing was 0.090240 seconds.\n",
      "You can set `force_row_wise=true` to remove the overhead.\n",
      "And if memory is not enough, you can set `force_col_wise=true`.\n",
      "[LightGBM] [Info] Total Bins 10191\n",
      "[LightGBM] [Info] Number of data points in the train set: 1172709, number of used features: 113\n",
      "[LightGBM] [Info] Start training from score 0.699385\n"
     ]
    },
    {
     "name": "stderr",
     "output_type": "stream",
     "text": [
      "num_leaves, val_score: 0.840278:  45%|####5     | 9/20 [05:00<05:51, 31.97s/it]\u001b[32m[I 2021-07-01 11:59:07,471]\u001b[0m Trial 15 finished with value: 0.8487589662135843 and parameters: {'num_leaves': 6}. Best is trial 8 with value: 0.8402777917234591.\u001b[0m\n",
      "num_leaves, val_score: 0.840278:  45%|####5     | 9/20 [05:00<05:51, 31.97s/it]"
     ]
    },
    {
     "name": "stdout",
     "output_type": "stream",
     "text": [
      "[LightGBM] [Warning] Auto-choosing row-wise multi-threading, the overhead of testing was 0.071773 seconds.\n",
      "You can set `force_row_wise=true` to remove the overhead.\n",
      "And if memory is not enough, you can set `force_col_wise=true`.\n",
      "[LightGBM] [Info] Total Bins 10191\n",
      "[LightGBM] [Info] Number of data points in the train set: 1172709, number of used features: 113\n",
      "[LightGBM] [Info] Start training from score 0.699385\n"
     ]
    },
    {
     "name": "stderr",
     "output_type": "stream",
     "text": [
      "num_leaves, val_score: 0.840278:  50%|#####     | 10/20 [05:32<05:20, 32.09s/it]\u001b[32m[I 2021-07-01 11:59:39,824]\u001b[0m Trial 16 finished with value: 0.8405652797472938 and parameters: {'num_leaves': 140}. Best is trial 8 with value: 0.8402777917234591.\u001b[0m\n",
      "num_leaves, val_score: 0.840278:  50%|#####     | 10/20 [05:32<05:20, 32.09s/it]"
     ]
    },
    {
     "name": "stdout",
     "output_type": "stream",
     "text": [
      "[LightGBM] [Warning] Auto-choosing row-wise multi-threading, the overhead of testing was 0.077371 seconds.\n",
      "You can set `force_row_wise=true` to remove the overhead.\n",
      "And if memory is not enough, you can set `force_col_wise=true`.\n",
      "[LightGBM] [Info] Total Bins 10191\n",
      "[LightGBM] [Info] Number of data points in the train set: 1172709, number of used features: 113\n",
      "[LightGBM] [Info] Start training from score 0.699385\n"
     ]
    },
    {
     "name": "stderr",
     "output_type": "stream",
     "text": [
      "num_leaves, val_score: 0.840278:  55%|#####5    | 11/20 [06:01<04:40, 31.14s/it]\u001b[32m[I 2021-07-01 12:00:08,814]\u001b[0m Trial 17 finished with value: 0.840683869346194 and parameters: {'num_leaves': 49}. Best is trial 8 with value: 0.8402777917234591.\u001b[0m\n",
      "num_leaves, val_score: 0.840278:  55%|#####5    | 11/20 [06:01<04:40, 31.14s/it]"
     ]
    },
    {
     "name": "stdout",
     "output_type": "stream",
     "text": [
      "[LightGBM] [Warning] Auto-choosing row-wise multi-threading, the overhead of testing was 0.070195 seconds.\n",
      "You can set `force_row_wise=true` to remove the overhead.\n",
      "And if memory is not enough, you can set `force_col_wise=true`.\n",
      "[LightGBM] [Info] Total Bins 10191\n",
      "[LightGBM] [Info] Number of data points in the train set: 1172709, number of used features: 113\n",
      "[LightGBM] [Info] Start training from score 0.699385\n"
     ]
    },
    {
     "name": "stderr",
     "output_type": "stream",
     "text": [
      "num_leaves, val_score: 0.840278:  60%|######    | 12/20 [06:32<04:08, 31.11s/it]\u001b[32m[I 2021-07-01 12:00:39,866]\u001b[0m Trial 18 finished with value: 0.8404044791488264 and parameters: {'num_leaves': 77}. Best is trial 8 with value: 0.8402777917234591.\u001b[0m\n",
      "num_leaves, val_score: 0.840278:  60%|######    | 12/20 [06:32<04:08, 31.11s/it]"
     ]
    },
    {
     "name": "stdout",
     "output_type": "stream",
     "text": [
      "[LightGBM] [Warning] Auto-choosing row-wise multi-threading, the overhead of testing was 0.093677 seconds.\n",
      "You can set `force_row_wise=true` to remove the overhead.\n",
      "And if memory is not enough, you can set `force_col_wise=true`.\n",
      "[LightGBM] [Info] Total Bins 10191\n",
      "[LightGBM] [Info] Number of data points in the train set: 1172709, number of used features: 113\n",
      "[LightGBM] [Info] Start training from score 0.699385\n"
     ]
    },
    {
     "name": "stderr",
     "output_type": "stream",
     "text": [
      "num_leaves, val_score: 0.839683:  65%|######5   | 13/20 [07:03<03:37, 31.01s/it]\u001b[32m[I 2021-07-01 12:01:10,630]\u001b[0m Trial 19 finished with value: 0.8396831336051603 and parameters: {'num_leaves': 64}. Best is trial 19 with value: 0.8396831336051603.\u001b[0m\n",
      "num_leaves, val_score: 0.839683:  65%|######5   | 13/20 [07:03<03:37, 31.01s/it]"
     ]
    },
    {
     "name": "stdout",
     "output_type": "stream",
     "text": [
      "[LightGBM] [Warning] Auto-choosing row-wise multi-threading, the overhead of testing was 0.078248 seconds.\n",
      "You can set `force_row_wise=true` to remove the overhead.\n",
      "And if memory is not enough, you can set `force_col_wise=true`.\n",
      "[LightGBM] [Info] Total Bins 10191\n",
      "[LightGBM] [Info] Number of data points in the train set: 1172709, number of used features: 113\n",
      "[LightGBM] [Info] Start training from score 0.699385\n"
     ]
    },
    {
     "name": "stderr",
     "output_type": "stream",
     "text": [
      "num_leaves, val_score: 0.839683:  70%|#######   | 14/20 [07:29<02:56, 29.42s/it]\u001b[32m[I 2021-07-01 12:01:36,368]\u001b[0m Trial 20 finished with value: 0.8425323934708157 and parameters: {'num_leaves': 33}. Best is trial 19 with value: 0.8396831336051603.\u001b[0m\n",
      "num_leaves, val_score: 0.839683:  70%|#######   | 14/20 [07:29<02:56, 29.42s/it]"
     ]
    },
    {
     "name": "stdout",
     "output_type": "stream",
     "text": [
      "[LightGBM] [Warning] Auto-choosing row-wise multi-threading, the overhead of testing was 0.089230 seconds.\n",
      "You can set `force_row_wise=true` to remove the overhead.\n",
      "And if memory is not enough, you can set `force_col_wise=true`.\n",
      "[LightGBM] [Info] Total Bins 10191\n",
      "[LightGBM] [Info] Number of data points in the train set: 1172709, number of used features: 113\n",
      "[LightGBM] [Info] Start training from score 0.699385\n"
     ]
    },
    {
     "name": "stderr",
     "output_type": "stream",
     "text": [
      "num_leaves, val_score: 0.839683:  75%|#######5  | 15/20 [07:56<02:23, 28.65s/it]\u001b[32m[I 2021-07-01 12:02:03,256]\u001b[0m Trial 21 finished with value: 0.8408103511666205 and parameters: {'num_leaves': 70}. Best is trial 19 with value: 0.8396831336051603.\u001b[0m\n",
      "num_leaves, val_score: 0.839683:  75%|#######5  | 15/20 [07:56<02:23, 28.65s/it]"
     ]
    },
    {
     "name": "stdout",
     "output_type": "stream",
     "text": [
      "[LightGBM] [Warning] Auto-choosing row-wise multi-threading, the overhead of testing was 0.080926 seconds.\n",
      "You can set `force_row_wise=true` to remove the overhead.\n",
      "And if memory is not enough, you can set `force_col_wise=true`.\n",
      "[LightGBM] [Info] Total Bins 10191\n",
      "[LightGBM] [Info] Number of data points in the train set: 1172709, number of used features: 113\n",
      "[LightGBM] [Info] Start training from score 0.699385\n"
     ]
    },
    {
     "name": "stderr",
     "output_type": "stream",
     "text": [
      "num_leaves, val_score: 0.839683:  80%|########  | 16/20 [08:35<02:07, 31.83s/it]\u001b[32m[I 2021-07-01 12:02:42,447]\u001b[0m Trial 22 finished with value: 0.8440941746040824 and parameters: {'num_leaves': 243}. Best is trial 19 with value: 0.8396831336051603.\u001b[0m\n",
      "num_leaves, val_score: 0.839683:  80%|########  | 16/20 [08:35<02:07, 31.83s/it]"
     ]
    },
    {
     "name": "stdout",
     "output_type": "stream",
     "text": [
      "[LightGBM] [Warning] Auto-choosing row-wise multi-threading, the overhead of testing was 0.088747 seconds.\n",
      "You can set `force_row_wise=true` to remove the overhead.\n",
      "And if memory is not enough, you can set `force_col_wise=true`.\n",
      "[LightGBM] [Info] Total Bins 10191\n",
      "[LightGBM] [Info] Number of data points in the train set: 1172709, number of used features: 113\n",
      "[LightGBM] [Info] Start training from score 0.699385\n"
     ]
    },
    {
     "name": "stderr",
     "output_type": "stream",
     "text": [
      "num_leaves, val_score: 0.839683:  85%|########5 | 17/20 [09:03<01:32, 30.80s/it]\u001b[32m[I 2021-07-01 12:03:10,872]\u001b[0m Trial 23 finished with value: 0.8914242365285361 and parameters: {'num_leaves': 2}. Best is trial 19 with value: 0.8396831336051603.\u001b[0m\n",
      "num_leaves, val_score: 0.839683:  85%|########5 | 17/20 [09:03<01:32, 30.80s/it]"
     ]
    },
    {
     "name": "stdout",
     "output_type": "stream",
     "text": [
      "[LightGBM] [Warning] Auto-choosing row-wise multi-threading, the overhead of testing was 0.086543 seconds.\n",
      "You can set `force_row_wise=true` to remove the overhead.\n",
      "And if memory is not enough, you can set `force_col_wise=true`.\n",
      "[LightGBM] [Info] Total Bins 10191\n",
      "[LightGBM] [Info] Number of data points in the train set: 1172709, number of used features: 113\n",
      "[LightGBM] [Info] Start training from score 0.699385\n"
     ]
    },
    {
     "name": "stderr",
     "output_type": "stream",
     "text": [
      "num_leaves, val_score: 0.839683:  90%|######### | 18/20 [09:33<01:00, 30.41s/it]\u001b[32m[I 2021-07-01 12:03:40,362]\u001b[0m Trial 24 finished with value: 0.8411478241536862 and parameters: {'num_leaves': 90}. Best is trial 19 with value: 0.8396831336051603.\u001b[0m\n",
      "num_leaves, val_score: 0.839683:  90%|######### | 18/20 [09:33<01:00, 30.41s/it]"
     ]
    },
    {
     "name": "stdout",
     "output_type": "stream",
     "text": [
      "[LightGBM] [Warning] Auto-choosing row-wise multi-threading, the overhead of testing was 0.089141 seconds.\n",
      "You can set `force_row_wise=true` to remove the overhead.\n",
      "And if memory is not enough, you can set `force_col_wise=true`.\n",
      "[LightGBM] [Info] Total Bins 10191\n",
      "[LightGBM] [Info] Number of data points in the train set: 1172709, number of used features: 113\n",
      "[LightGBM] [Info] Start training from score 0.699385\n"
     ]
    },
    {
     "name": "stderr",
     "output_type": "stream",
     "text": [
      "num_leaves, val_score: 0.839683:  95%|#########5| 19/20 [10:06<00:31, 31.40s/it]\u001b[32m[I 2021-07-01 12:04:14,065]\u001b[0m Trial 25 finished with value: 0.8410815922386427 and parameters: {'num_leaves': 159}. Best is trial 19 with value: 0.8396831336051603.\u001b[0m\n",
      "num_leaves, val_score: 0.839683:  95%|#########5| 19/20 [10:06<00:31, 31.40s/it]"
     ]
    },
    {
     "name": "stdout",
     "output_type": "stream",
     "text": [
      "[LightGBM] [Warning] Auto-choosing row-wise multi-threading, the overhead of testing was 0.080774 seconds.\n",
      "You can set `force_row_wise=true` to remove the overhead.\n",
      "And if memory is not enough, you can set `force_col_wise=true`.\n",
      "[LightGBM] [Info] Total Bins 10191\n",
      "[LightGBM] [Info] Number of data points in the train set: 1172709, number of used features: 113\n",
      "[LightGBM] [Info] Start training from score 0.699385\n"
     ]
    },
    {
     "name": "stderr",
     "output_type": "stream",
     "text": [
      "num_leaves, val_score: 0.839683: 100%|##########| 20/20 [10:34<00:00, 30.24s/it]\u001b[32m[I 2021-07-01 12:04:41,615]\u001b[0m Trial 26 finished with value: 0.8412249278032793 and parameters: {'num_leaves': 45}. Best is trial 19 with value: 0.8396831336051603.\u001b[0m\n",
      "num_leaves, val_score: 0.839683: 100%|##########| 20/20 [10:34<00:00, 31.72s/it]\n",
      "bagging, val_score: 0.839683:   0%|          | 0/10 [00:00<?, ?it/s]"
     ]
    },
    {
     "name": "stdout",
     "output_type": "stream",
     "text": [
      "[LightGBM] [Warning] Auto-choosing row-wise multi-threading, the overhead of testing was 0.076137 seconds.\n",
      "You can set `force_row_wise=true` to remove the overhead.\n",
      "And if memory is not enough, you can set `force_col_wise=true`.\n",
      "[LightGBM] [Info] Total Bins 10191\n",
      "[LightGBM] [Info] Number of data points in the train set: 1172709, number of used features: 113\n",
      "[LightGBM] [Info] Start training from score 0.699385\n"
     ]
    },
    {
     "name": "stderr",
     "output_type": "stream",
     "text": [
      "bagging, val_score: 0.839683:  10%|#         | 1/10 [00:27<04:07, 27.54s/it]\u001b[32m[I 2021-07-01 12:05:09,155]\u001b[0m Trial 27 finished with value: 0.8430297176708098 and parameters: {'bagging_fraction': 0.6069251349152245, 'bagging_freq': 1}. Best is trial 27 with value: 0.8430297176708098.\u001b[0m\n",
      "bagging, val_score: 0.839683:  10%|#         | 1/10 [00:27<04:07, 27.54s/it]"
     ]
    },
    {
     "name": "stdout",
     "output_type": "stream",
     "text": [
      "[LightGBM] [Warning] Auto-choosing row-wise multi-threading, the overhead of testing was 0.109204 seconds.\n",
      "You can set `force_row_wise=true` to remove the overhead.\n",
      "And if memory is not enough, you can set `force_col_wise=true`.\n",
      "[LightGBM] [Info] Total Bins 10191\n",
      "[LightGBM] [Info] Number of data points in the train set: 1172709, number of used features: 113\n",
      "[LightGBM] [Info] Start training from score 0.699385\n"
     ]
    },
    {
     "name": "stderr",
     "output_type": "stream",
     "text": [
      "bagging, val_score: 0.839683:  20%|##        | 2/10 [00:57<03:53, 29.13s/it]\u001b[32m[I 2021-07-01 12:05:39,401]\u001b[0m Trial 28 finished with value: 0.8436026809187944 and parameters: {'bagging_fraction': 0.7140625451730391, 'bagging_freq': 2}. Best is trial 27 with value: 0.8430297176708098.\u001b[0m\n",
      "bagging, val_score: 0.839683:  20%|##        | 2/10 [00:57<03:53, 29.13s/it]"
     ]
    },
    {
     "name": "stdout",
     "output_type": "stream",
     "text": [
      "[LightGBM] [Warning] Auto-choosing row-wise multi-threading, the overhead of testing was 0.071439 seconds.\n",
      "You can set `force_row_wise=true` to remove the overhead.\n",
      "And if memory is not enough, you can set `force_col_wise=true`.\n",
      "[LightGBM] [Info] Total Bins 10191\n",
      "[LightGBM] [Info] Number of data points in the train set: 1172709, number of used features: 113\n",
      "[LightGBM] [Info] Start training from score 0.699385\n"
     ]
    },
    {
     "name": "stderr",
     "output_type": "stream",
     "text": [
      "bagging, val_score: 0.839683:  30%|###       | 3/10 [01:25<03:20, 28.69s/it]\u001b[32m[I 2021-07-01 12:06:07,567]\u001b[0m Trial 29 finished with value: 0.8420602363870496 and parameters: {'bagging_fraction': 0.7579156262260451, 'bagging_freq': 1}. Best is trial 29 with value: 0.8420602363870496.\u001b[0m\n",
      "bagging, val_score: 0.839683:  30%|###       | 3/10 [01:25<03:20, 28.69s/it]"
     ]
    },
    {
     "name": "stdout",
     "output_type": "stream",
     "text": [
      "[LightGBM] [Warning] Auto-choosing row-wise multi-threading, the overhead of testing was 0.087892 seconds.\n",
      "You can set `force_row_wise=true` to remove the overhead.\n",
      "And if memory is not enough, you can set `force_col_wise=true`.\n",
      "[LightGBM] [Info] Total Bins 10191\n",
      "[LightGBM] [Info] Number of data points in the train set: 1172709, number of used features: 113\n",
      "[LightGBM] [Info] Start training from score 0.699385\n"
     ]
    },
    {
     "name": "stderr",
     "output_type": "stream",
     "text": [
      "bagging, val_score: 0.839683:  40%|####      | 4/10 [01:53<02:50, 28.35s/it]\u001b[32m[I 2021-07-01 12:06:35,396]\u001b[0m Trial 30 finished with value: 0.8424751652973774 and parameters: {'bagging_fraction': 0.6897335526453404, 'bagging_freq': 3}. Best is trial 29 with value: 0.8420602363870496.\u001b[0m\n",
      "bagging, val_score: 0.839683:  40%|####      | 4/10 [01:53<02:50, 28.35s/it]"
     ]
    },
    {
     "name": "stdout",
     "output_type": "stream",
     "text": [
      "[LightGBM] [Warning] Auto-choosing row-wise multi-threading, the overhead of testing was 0.107019 seconds.\n",
      "You can set `force_row_wise=true` to remove the overhead.\n",
      "And if memory is not enough, you can set `force_col_wise=true`.\n",
      "[LightGBM] [Info] Total Bins 10191\n",
      "[LightGBM] [Info] Number of data points in the train set: 1172709, number of used features: 113\n",
      "[LightGBM] [Info] Start training from score 0.699385\n"
     ]
    },
    {
     "name": "stderr",
     "output_type": "stream",
     "text": [
      "bagging, val_score: 0.839683:  50%|#####     | 5/10 [02:22<02:22, 28.42s/it]\u001b[32m[I 2021-07-01 12:07:03,940]\u001b[0m Trial 31 finished with value: 0.8442235922595999 and parameters: {'bagging_fraction': 0.4564157544854211, 'bagging_freq': 1}. Best is trial 29 with value: 0.8420602363870496.\u001b[0m\n",
      "bagging, val_score: 0.839683:  50%|#####     | 5/10 [02:22<02:22, 28.42s/it]"
     ]
    },
    {
     "name": "stdout",
     "output_type": "stream",
     "text": [
      "[LightGBM] [Warning] Auto-choosing row-wise multi-threading, the overhead of testing was 0.077499 seconds.\n",
      "You can set `force_row_wise=true` to remove the overhead.\n",
      "And if memory is not enough, you can set `force_col_wise=true`.\n",
      "[LightGBM] [Info] Total Bins 10191\n",
      "[LightGBM] [Info] Number of data points in the train set: 1172709, number of used features: 113\n",
      "[LightGBM] [Info] Start training from score 0.699385\n"
     ]
    },
    {
     "name": "stderr",
     "output_type": "stream",
     "text": [
      "bagging, val_score: 0.839683:  60%|######    | 6/10 [02:53<01:57, 29.30s/it]\u001b[32m[I 2021-07-01 12:07:34,953]\u001b[0m Trial 32 finished with value: 0.8429365795373517 and parameters: {'bagging_fraction': 0.7970985047585878, 'bagging_freq': 3}. Best is trial 29 with value: 0.8420602363870496.\u001b[0m\n",
      "bagging, val_score: 0.839683:  60%|######    | 6/10 [02:53<01:57, 29.30s/it]"
     ]
    },
    {
     "name": "stdout",
     "output_type": "stream",
     "text": [
      "[LightGBM] [Warning] Auto-choosing row-wise multi-threading, the overhead of testing was 0.075465 seconds.\n",
      "You can set `force_row_wise=true` to remove the overhead.\n",
      "And if memory is not enough, you can set `force_col_wise=true`.\n",
      "[LightGBM] [Info] Total Bins 10191\n",
      "[LightGBM] [Info] Number of data points in the train set: 1172709, number of used features: 113\n",
      "[LightGBM] [Info] Start training from score 0.699385\n"
     ]
    },
    {
     "name": "stderr",
     "output_type": "stream",
     "text": [
      "bagging, val_score: 0.839683:  70%|#######   | 7/10 [03:21<01:26, 28.82s/it]\u001b[32m[I 2021-07-01 12:08:02,795]\u001b[0m Trial 33 finished with value: 0.8429510771218144 and parameters: {'bagging_fraction': 0.6708771256927155, 'bagging_freq': 3}. Best is trial 29 with value: 0.8420602363870496.\u001b[0m\n",
      "bagging, val_score: 0.839683:  70%|#######   | 7/10 [03:21<01:26, 28.82s/it]"
     ]
    },
    {
     "name": "stdout",
     "output_type": "stream",
     "text": [
      "[LightGBM] [Warning] Auto-choosing row-wise multi-threading, the overhead of testing was 0.077246 seconds.\n",
      "You can set `force_row_wise=true` to remove the overhead.\n",
      "And if memory is not enough, you can set `force_col_wise=true`.\n",
      "[LightGBM] [Info] Total Bins 10191\n",
      "[LightGBM] [Info] Number of data points in the train set: 1172709, number of used features: 113\n",
      "[LightGBM] [Info] Start training from score 0.699385\n"
     ]
    },
    {
     "name": "stderr",
     "output_type": "stream",
     "text": [
      "bagging, val_score: 0.839683:  80%|########  | 8/10 [03:46<00:55, 27.68s/it]\u001b[32m[I 2021-07-01 12:08:28,010]\u001b[0m Trial 34 finished with value: 0.8435265767859961 and parameters: {'bagging_fraction': 0.6524472006541215, 'bagging_freq': 1}. Best is trial 29 with value: 0.8420602363870496.\u001b[0m\n",
      "bagging, val_score: 0.839683:  80%|########  | 8/10 [03:46<00:55, 27.68s/it]"
     ]
    },
    {
     "name": "stdout",
     "output_type": "stream",
     "text": [
      "[LightGBM] [Warning] Auto-choosing row-wise multi-threading, the overhead of testing was 0.072373 seconds.\n",
      "You can set `force_row_wise=true` to remove the overhead.\n",
      "And if memory is not enough, you can set `force_col_wise=true`.\n",
      "[LightGBM] [Info] Total Bins 10191\n",
      "[LightGBM] [Info] Number of data points in the train set: 1172709, number of used features: 113\n",
      "[LightGBM] [Info] Start training from score 0.699385\n"
     ]
    },
    {
     "name": "stderr",
     "output_type": "stream",
     "text": [
      "bagging, val_score: 0.839683:  90%|######### | 9/10 [04:08<00:25, 25.90s/it]\u001b[32m[I 2021-07-01 12:08:50,020]\u001b[0m Trial 35 finished with value: 0.8443470044254225 and parameters: {'bagging_fraction': 0.527697425312406, 'bagging_freq': 3}. Best is trial 29 with value: 0.8420602363870496.\u001b[0m\n",
      "bagging, val_score: 0.839683:  90%|######### | 9/10 [04:08<00:25, 25.90s/it]"
     ]
    },
    {
     "name": "stdout",
     "output_type": "stream",
     "text": [
      "[LightGBM] [Warning] Auto-choosing row-wise multi-threading, the overhead of testing was 0.069062 seconds.\n",
      "You can set `force_row_wise=true` to remove the overhead.\n",
      "And if memory is not enough, you can set `force_col_wise=true`.\n",
      "[LightGBM] [Info] Total Bins 10191\n",
      "[LightGBM] [Info] Number of data points in the train set: 1172709, number of used features: 113\n",
      "[LightGBM] [Info] Start training from score 0.699385\n"
     ]
    },
    {
     "name": "stderr",
     "output_type": "stream",
     "text": [
      "bagging, val_score: 0.839683: 100%|##########| 10/10 [04:35<00:00, 26.16s/it]\u001b[32m[I 2021-07-01 12:09:16,744]\u001b[0m Trial 36 finished with value: 0.8447197412258994 and parameters: {'bagging_fraction': 0.9865984832045058, 'bagging_freq': 6}. Best is trial 29 with value: 0.8420602363870496.\u001b[0m\n",
      "bagging, val_score: 0.839683: 100%|##########| 10/10 [04:35<00:00, 27.51s/it]\n",
      "feature_fraction_stage2, val_score: 0.839683:   0%|          | 0/6 [00:00<?, ?it/s]"
     ]
    },
    {
     "name": "stdout",
     "output_type": "stream",
     "text": [
      "[LightGBM] [Warning] Auto-choosing col-wise multi-threading, the overhead of testing was 0.224475 seconds.\n",
      "You can set `force_col_wise=true` to remove the overhead.\n",
      "[LightGBM] [Info] Total Bins 10191\n",
      "[LightGBM] [Info] Number of data points in the train set: 1172709, number of used features: 113\n",
      "[LightGBM] [Info] Start training from score 0.699385\n"
     ]
    },
    {
     "name": "stderr",
     "output_type": "stream",
     "text": [
      "feature_fraction_stage2, val_score: 0.839683:  17%|#6        | 1/6 [00:22<01:53, 22.71s/it]\u001b[32m[I 2021-07-01 12:09:39,459]\u001b[0m Trial 37 finished with value: 0.8401147877640363 and parameters: {'feature_fraction': 0.5479999999999999}. Best is trial 37 with value: 0.8401147877640363.\u001b[0m\n",
      "feature_fraction_stage2, val_score: 0.839683:  17%|#6        | 1/6 [00:22<01:53, 22.71s/it]"
     ]
    },
    {
     "name": "stdout",
     "output_type": "stream",
     "text": [
      "[LightGBM] [Warning] Auto-choosing row-wise multi-threading, the overhead of testing was 0.108102 seconds.\n",
      "You can set `force_row_wise=true` to remove the overhead.\n",
      "And if memory is not enough, you can set `force_col_wise=true`.\n",
      "[LightGBM] [Info] Total Bins 10191\n",
      "[LightGBM] [Info] Number of data points in the train set: 1172709, number of used features: 113\n",
      "[LightGBM] [Info] Start training from score 0.699385\n"
     ]
    },
    {
     "name": "stderr",
     "output_type": "stream",
     "text": [
      "feature_fraction_stage2, val_score: 0.839683:  33%|###3      | 2/6 [00:51<01:44, 26.03s/it]\u001b[32m[I 2021-07-01 12:10:07,819]\u001b[0m Trial 38 finished with value: 0.8406607847823522 and parameters: {'feature_fraction': 0.42}. Best is trial 37 with value: 0.8401147877640363.\u001b[0m\n",
      "feature_fraction_stage2, val_score: 0.839683:  33%|###3      | 2/6 [00:51<01:44, 26.03s/it]"
     ]
    },
    {
     "name": "stdout",
     "output_type": "stream",
     "text": [
      "[LightGBM] [Warning] Auto-choosing col-wise multi-threading, the overhead of testing was 0.356989 seconds.\n",
      "You can set `force_col_wise=true` to remove the overhead.\n",
      "[LightGBM] [Info] Total Bins 10191\n",
      "[LightGBM] [Info] Number of data points in the train set: 1172709, number of used features: 113\n",
      "[LightGBM] [Info] Start training from score 0.699385\n"
     ]
    },
    {
     "name": "stderr",
     "output_type": "stream",
     "text": [
      "feature_fraction_stage2, val_score: 0.839683:  50%|#####     | 3/6 [01:15<01:15, 25.20s/it]\u001b[32m[I 2021-07-01 12:10:32,028]\u001b[0m Trial 39 finished with value: 0.8401074076372135 and parameters: {'feature_fraction': 0.58}. Best is trial 39 with value: 0.8401074076372135.\u001b[0m\n",
      "feature_fraction_stage2, val_score: 0.839683:  50%|#####     | 3/6 [01:15<01:15, 25.20s/it]"
     ]
    },
    {
     "name": "stdout",
     "output_type": "stream",
     "text": [
      "[LightGBM] [Warning] Auto-choosing col-wise multi-threading, the overhead of testing was 0.210514 seconds.\n",
      "You can set `force_col_wise=true` to remove the overhead.\n",
      "[LightGBM] [Info] Total Bins 10191\n",
      "[LightGBM] [Info] Number of data points in the train set: 1172709, number of used features: 113\n",
      "[LightGBM] [Info] Start training from score 0.699385\n"
     ]
    },
    {
     "name": "stderr",
     "output_type": "stream",
     "text": [
      "feature_fraction_stage2, val_score: 0.839545:  67%|######6   | 4/6 [01:40<00:50, 25.07s/it]\u001b[32m[I 2021-07-01 12:10:56,891]\u001b[0m Trial 40 finished with value: 0.8395453257604739 and parameters: {'feature_fraction': 0.516}. Best is trial 40 with value: 0.8395453257604739.\u001b[0m\n",
      "feature_fraction_stage2, val_score: 0.839545:  67%|######6   | 4/6 [01:40<00:50, 25.07s/it]"
     ]
    },
    {
     "name": "stdout",
     "output_type": "stream",
     "text": [
      "[LightGBM] [Warning] Auto-choosing row-wise multi-threading, the overhead of testing was 0.075081 seconds.\n",
      "You can set `force_row_wise=true` to remove the overhead.\n",
      "And if memory is not enough, you can set `force_col_wise=true`.\n",
      "[LightGBM] [Info] Total Bins 10191\n",
      "[LightGBM] [Info] Number of data points in the train set: 1172709, number of used features: 113\n",
      "[LightGBM] [Info] Start training from score 0.699385\n"
     ]
    },
    {
     "name": "stderr",
     "output_type": "stream",
     "text": [
      "feature_fraction_stage2, val_score: 0.839545:  83%|########3 | 5/6 [02:10<00:26, 26.91s/it]\u001b[32m[I 2021-07-01 12:11:27,056]\u001b[0m Trial 41 finished with value: 0.8395484706148058 and parameters: {'feature_fraction': 0.484}. Best is trial 40 with value: 0.8395453257604739.\u001b[0m\n",
      "feature_fraction_stage2, val_score: 0.839545:  83%|########3 | 5/6 [02:10<00:26, 26.91s/it]"
     ]
    },
    {
     "name": "stdout",
     "output_type": "stream",
     "text": [
      "[LightGBM] [Warning] Auto-choosing row-wise multi-threading, the overhead of testing was 0.071120 seconds.\n",
      "You can set `force_row_wise=true` to remove the overhead.\n",
      "And if memory is not enough, you can set `force_col_wise=true`.\n",
      "[LightGBM] [Info] Total Bins 10191\n",
      "[LightGBM] [Info] Number of data points in the train set: 1172709, number of used features: 113\n",
      "[LightGBM] [Info] Start training from score 0.699385\n"
     ]
    },
    {
     "name": "stderr",
     "output_type": "stream",
     "text": [
      "feature_fraction_stage2, val_score: 0.839545: 100%|##########| 6/6 [02:38<00:00, 27.48s/it]\u001b[32m[I 2021-07-01 12:11:55,647]\u001b[0m Trial 42 finished with value: 0.8396282957629482 and parameters: {'feature_fraction': 0.45199999999999996}. Best is trial 40 with value: 0.8395453257604739.\u001b[0m\n",
      "feature_fraction_stage2, val_score: 0.839545: 100%|##########| 6/6 [02:38<00:00, 26.48s/it]\n",
      "regularization_factors, val_score: 0.839545:   0%|          | 0/20 [00:00<?, ?it/s]"
     ]
    },
    {
     "name": "stdout",
     "output_type": "stream",
     "text": [
      "[LightGBM] [Warning] Auto-choosing col-wise multi-threading, the overhead of testing was 0.221397 seconds.\n",
      "You can set `force_col_wise=true` to remove the overhead.\n",
      "[LightGBM] [Info] Total Bins 10191\n",
      "[LightGBM] [Info] Number of data points in the train set: 1172709, number of used features: 113\n",
      "[LightGBM] [Info] Start training from score 0.699385\n"
     ]
    },
    {
     "name": "stderr",
     "output_type": "stream",
     "text": [
      "regularization_factors, val_score: 0.839545:   5%|5         | 1/20 [00:24<07:43, 24.41s/it]\u001b[32m[I 2021-07-01 12:12:20,058]\u001b[0m Trial 43 finished with value: 0.8400079412877199 and parameters: {'lambda_l1': 0.0006549681158359463, 'lambda_l2': 0.7494258614217761}. Best is trial 43 with value: 0.8400079412877199.\u001b[0m\n",
      "regularization_factors, val_score: 0.839545:   5%|5         | 1/20 [00:24<07:43, 24.41s/it]"
     ]
    },
    {
     "name": "stdout",
     "output_type": "stream",
     "text": [
      "[LightGBM] [Warning] Auto-choosing col-wise multi-threading, the overhead of testing was 0.317139 seconds.\n",
      "You can set `force_col_wise=true` to remove the overhead.\n",
      "[LightGBM] [Info] Total Bins 10191\n",
      "[LightGBM] [Info] Number of data points in the train set: 1172709, number of used features: 113\n",
      "[LightGBM] [Info] Start training from score 0.699385\n"
     ]
    },
    {
     "name": "stderr",
     "output_type": "stream",
     "text": [
      "regularization_factors, val_score: 0.839545:  10%|#         | 2/20 [00:46<06:50, 22.78s/it]\u001b[32m[I 2021-07-01 12:12:41,700]\u001b[0m Trial 44 finished with value: 0.8416684910151307 and parameters: {'lambda_l1': 1.3530456604367954e-05, 'lambda_l2': 0.000899302856118919}. Best is trial 43 with value: 0.8400079412877199.\u001b[0m\n",
      "regularization_factors, val_score: 0.839545:  10%|#         | 2/20 [00:46<06:50, 22.78s/it]"
     ]
    },
    {
     "name": "stdout",
     "output_type": "stream",
     "text": [
      "[LightGBM] [Warning] Auto-choosing col-wise multi-threading, the overhead of testing was 0.221102 seconds.\n",
      "You can set `force_col_wise=true` to remove the overhead.\n",
      "[LightGBM] [Info] Total Bins 10191\n",
      "[LightGBM] [Info] Number of data points in the train set: 1172709, number of used features: 113\n",
      "[LightGBM] [Info] Start training from score 0.699385\n"
     ]
    },
    {
     "name": "stderr",
     "output_type": "stream",
     "text": [
      "regularization_factors, val_score: 0.839545:  15%|#5        | 3/20 [01:11<06:45, 23.88s/it]\u001b[32m[I 2021-07-01 12:13:06,884]\u001b[0m Trial 45 finished with value: 0.8401246574955821 and parameters: {'lambda_l1': 0.001467454405460565, 'lambda_l2': 1.8392732202238025}. Best is trial 43 with value: 0.8400079412877199.\u001b[0m\n",
      "regularization_factors, val_score: 0.839545:  15%|#5        | 3/20 [01:11<06:45, 23.88s/it]"
     ]
    },
    {
     "name": "stdout",
     "output_type": "stream",
     "text": [
      "[LightGBM] [Warning] Auto-choosing col-wise multi-threading, the overhead of testing was 0.220660 seconds.\n",
      "You can set `force_col_wise=true` to remove the overhead.\n",
      "[LightGBM] [Info] Total Bins 10191\n",
      "[LightGBM] [Info] Number of data points in the train set: 1172709, number of used features: 113\n",
      "[LightGBM] [Info] Start training from score 0.699385\n"
     ]
    },
    {
     "name": "stderr",
     "output_type": "stream",
     "text": [
      "regularization_factors, val_score: 0.839545:  20%|##        | 4/20 [01:35<06:27, 24.21s/it]\u001b[32m[I 2021-07-01 12:13:31,602]\u001b[0m Trial 46 finished with value: 0.8400649669497544 and parameters: {'lambda_l1': 5.8995627187957654e-08, 'lambda_l2': 0.5935994844995075}. Best is trial 43 with value: 0.8400079412877199.\u001b[0m\n",
      "regularization_factors, val_score: 0.839545:  20%|##        | 4/20 [01:35<06:27, 24.21s/it]"
     ]
    },
    {
     "name": "stdout",
     "output_type": "stream",
     "text": [
      "[LightGBM] [Warning] Auto-choosing col-wise multi-threading, the overhead of testing was 0.223706 seconds.\n",
      "You can set `force_col_wise=true` to remove the overhead.\n",
      "[LightGBM] [Info] Total Bins 10191\n",
      "[LightGBM] [Info] Number of data points in the train set: 1172709, number of used features: 113\n",
      "[LightGBM] [Info] Start training from score 0.699385\n"
     ]
    },
    {
     "name": "stderr",
     "output_type": "stream",
     "text": [
      "regularization_factors, val_score: 0.839545:  25%|##5       | 5/20 [02:00<06:04, 24.29s/it]\u001b[32m[I 2021-07-01 12:13:56,034]\u001b[0m Trial 47 finished with value: 0.8404050640416312 and parameters: {'lambda_l1': 0.0001655158206135022, 'lambda_l2': 0.002019350163668505}. Best is trial 43 with value: 0.8400079412877199.\u001b[0m\n",
      "regularization_factors, val_score: 0.839545:  25%|##5       | 5/20 [02:00<06:04, 24.29s/it]"
     ]
    },
    {
     "name": "stdout",
     "output_type": "stream",
     "text": [
      "[LightGBM] [Warning] Auto-choosing col-wise multi-threading, the overhead of testing was 0.315731 seconds.\n",
      "You can set `force_col_wise=true` to remove the overhead.\n",
      "[LightGBM] [Info] Total Bins 10191\n",
      "[LightGBM] [Info] Number of data points in the train set: 1172709, number of used features: 113\n",
      "[LightGBM] [Info] Start training from score 0.699385\n"
     ]
    },
    {
     "name": "stderr",
     "output_type": "stream",
     "text": [
      "regularization_factors, val_score: 0.839545:  30%|###       | 6/20 [02:24<05:40, 24.35s/it]\u001b[32m[I 2021-07-01 12:14:20,514]\u001b[0m Trial 48 finished with value: 0.8399591323786216 and parameters: {'lambda_l1': 0.0033460537504857693, 'lambda_l2': 3.0606591294118702e-06}. Best is trial 48 with value: 0.8399591323786216.\u001b[0m\n",
      "regularization_factors, val_score: 0.839545:  30%|###       | 6/20 [02:24<05:40, 24.35s/it]"
     ]
    },
    {
     "name": "stdout",
     "output_type": "stream",
     "text": [
      "[LightGBM] [Warning] Auto-choosing col-wise multi-threading, the overhead of testing was 0.316888 seconds.\n",
      "You can set `force_col_wise=true` to remove the overhead.\n",
      "[LightGBM] [Info] Total Bins 10191\n",
      "[LightGBM] [Info] Number of data points in the train set: 1172709, number of used features: 113\n",
      "[LightGBM] [Info] Start training from score 0.699385\n"
     ]
    },
    {
     "name": "stderr",
     "output_type": "stream",
     "text": [
      "regularization_factors, val_score: 0.839545:  35%|###5      | 7/20 [02:50<05:21, 24.72s/it]\u001b[32m[I 2021-07-01 12:14:45,988]\u001b[0m Trial 49 finished with value: 0.8395462921413341 and parameters: {'lambda_l1': 7.218692065636632e-08, 'lambda_l2': 1.8552975326846705e-06}. Best is trial 49 with value: 0.8395462921413341.\u001b[0m\n",
      "regularization_factors, val_score: 0.839545:  35%|###5      | 7/20 [02:50<05:21, 24.72s/it]"
     ]
    },
    {
     "name": "stdout",
     "output_type": "stream",
     "text": [
      "[LightGBM] [Warning] Auto-choosing col-wise multi-threading, the overhead of testing was 0.229979 seconds.\n",
      "You can set `force_col_wise=true` to remove the overhead.\n",
      "[LightGBM] [Info] Total Bins 10191\n",
      "[LightGBM] [Info] Number of data points in the train set: 1172709, number of used features: 113\n",
      "[LightGBM] [Info] Start training from score 0.699385\n"
     ]
    },
    {
     "name": "stderr",
     "output_type": "stream",
     "text": [
      "regularization_factors, val_score: 0.839545:  40%|####      | 8/20 [03:12<04:46, 23.89s/it]\u001b[32m[I 2021-07-01 12:15:08,097]\u001b[0m Trial 50 finished with value: 0.841024388849199 and parameters: {'lambda_l1': 0.5205354492312455, 'lambda_l2': 0.02959821295919829}. Best is trial 49 with value: 0.8395462921413341.\u001b[0m\n",
      "regularization_factors, val_score: 0.839545:  40%|####      | 8/20 [03:12<04:46, 23.89s/it]"
     ]
    },
    {
     "name": "stdout",
     "output_type": "stream",
     "text": [
      "[LightGBM] [Warning] Auto-choosing col-wise multi-threading, the overhead of testing was 0.315304 seconds.\n",
      "You can set `force_col_wise=true` to remove the overhead.\n",
      "[LightGBM] [Info] Total Bins 10191\n",
      "[LightGBM] [Info] Number of data points in the train set: 1172709, number of used features: 113\n",
      "[LightGBM] [Info] Start training from score 0.699385\n"
     ]
    },
    {
     "name": "stderr",
     "output_type": "stream",
     "text": [
      "regularization_factors, val_score: 0.839545:  45%|####5     | 9/20 [03:37<04:25, 24.18s/it]\u001b[32m[I 2021-07-01 12:15:32,903]\u001b[0m Trial 51 finished with value: 0.8400740377520014 and parameters: {'lambda_l1': 4.8356018246111477e-08, 'lambda_l2': 0.0005964238177001331}. Best is trial 49 with value: 0.8395462921413341.\u001b[0m\n",
      "regularization_factors, val_score: 0.839545:  45%|####5     | 9/20 [03:37<04:25, 24.18s/it]"
     ]
    },
    {
     "name": "stdout",
     "output_type": "stream",
     "text": [
      "[LightGBM] [Warning] Auto-choosing col-wise multi-threading, the overhead of testing was 0.235446 seconds.\n",
      "You can set `force_col_wise=true` to remove the overhead.\n",
      "[LightGBM] [Info] Total Bins 10191\n",
      "[LightGBM] [Info] Number of data points in the train set: 1172709, number of used features: 113\n",
      "[LightGBM] [Info] Start training from score 0.699385\n"
     ]
    },
    {
     "name": "stderr",
     "output_type": "stream",
     "text": [
      "regularization_factors, val_score: 0.839545:  50%|#####     | 10/20 [04:00<03:57, 23.77s/it]\u001b[32m[I 2021-07-01 12:15:55,761]\u001b[0m Trial 52 finished with value: 0.8409173619140651 and parameters: {'lambda_l1': 0.23054396113742065, 'lambda_l2': 2.3393694525524516e-05}. Best is trial 49 with value: 0.8395462921413341.\u001b[0m\n",
      "regularization_factors, val_score: 0.839545:  50%|#####     | 10/20 [04:00<03:57, 23.77s/it]"
     ]
    },
    {
     "name": "stdout",
     "output_type": "stream",
     "text": [
      "[LightGBM] [Warning] Auto-choosing col-wise multi-threading, the overhead of testing was 0.334172 seconds.\n",
      "You can set `force_col_wise=true` to remove the overhead.\n",
      "[LightGBM] [Info] Total Bins 10191\n",
      "[LightGBM] [Info] Number of data points in the train set: 1172709, number of used features: 113\n",
      "[LightGBM] [Info] Start training from score 0.699385\n"
     ]
    },
    {
     "name": "stderr",
     "output_type": "stream",
     "text": [
      "regularization_factors, val_score: 0.839545:  55%|#####5    | 11/20 [04:25<03:38, 24.24s/it]\u001b[32m[I 2021-07-01 12:16:21,074]\u001b[0m Trial 53 finished with value: 0.8395472941393685 and parameters: {'lambda_l1': 1.268595318180578e-06, 'lambda_l2': 3.764510753722336e-08}. Best is trial 49 with value: 0.8395462921413341.\u001b[0m\n",
      "regularization_factors, val_score: 0.839545:  55%|#####5    | 11/20 [04:25<03:38, 24.24s/it]"
     ]
    },
    {
     "name": "stdout",
     "output_type": "stream",
     "text": [
      "[LightGBM] [Warning] Auto-choosing col-wise multi-threading, the overhead of testing was 0.222575 seconds.\n",
      "You can set `force_col_wise=true` to remove the overhead.\n",
      "[LightGBM] [Info] Total Bins 10191\n",
      "[LightGBM] [Info] Number of data points in the train set: 1172709, number of used features: 113\n",
      "[LightGBM] [Info] Start training from score 0.699385\n"
     ]
    },
    {
     "name": "stderr",
     "output_type": "stream",
     "text": [
      "regularization_factors, val_score: 0.839545:  60%|######    | 12/20 [04:50<03:16, 24.52s/it]\u001b[32m[I 2021-07-01 12:16:46,246]\u001b[0m Trial 54 finished with value: 0.8395483392432356 and parameters: {'lambda_l1': 2.7397880313361974e-06, 'lambda_l2': 4.3290531134372665e-08}. Best is trial 49 with value: 0.8395462921413341.\u001b[0m\n",
      "regularization_factors, val_score: 0.839545:  60%|######    | 12/20 [04:50<03:16, 24.52s/it]"
     ]
    },
    {
     "name": "stdout",
     "output_type": "stream",
     "text": [
      "[LightGBM] [Warning] Auto-choosing col-wise multi-threading, the overhead of testing was 0.224620 seconds.\n",
      "You can set `force_col_wise=true` to remove the overhead.\n",
      "[LightGBM] [Info] Total Bins 10191\n",
      "[LightGBM] [Info] Number of data points in the train set: 1172709, number of used features: 113\n",
      "[LightGBM] [Info] Start training from score 0.699385\n"
     ]
    },
    {
     "name": "stderr",
     "output_type": "stream",
     "text": [
      "regularization_factors, val_score: 0.839545:  65%|######5   | 13/20 [05:15<02:52, 24.66s/it]\u001b[32m[I 2021-07-01 12:17:11,202]\u001b[0m Trial 55 finished with value: 0.8395462922292446 and parameters: {'lambda_l1': 6.120752996485344e-07, 'lambda_l2': 1.3609776739676554e-08}. Best is trial 49 with value: 0.8395462921413341.\u001b[0m\n",
      "regularization_factors, val_score: 0.839545:  65%|######5   | 13/20 [05:15<02:52, 24.66s/it]"
     ]
    },
    {
     "name": "stdout",
     "output_type": "stream",
     "text": [
      "[LightGBM] [Warning] Auto-choosing col-wise multi-threading, the overhead of testing was 0.202305 seconds.\n",
      "You can set `force_col_wise=true` to remove the overhead.\n",
      "[LightGBM] [Info] Total Bins 10191\n",
      "[LightGBM] [Info] Number of data points in the train set: 1172709, number of used features: 113\n",
      "[LightGBM] [Info] Start training from score 0.699385\n"
     ]
    },
    {
     "name": "stderr",
     "output_type": "stream",
     "text": [
      "regularization_factors, val_score: 0.839545:  70%|#######   | 14/20 [05:40<02:28, 24.74s/it]\u001b[32m[I 2021-07-01 12:17:36,145]\u001b[0m Trial 56 finished with value: 0.8395497098030652 and parameters: {'lambda_l1': 1.3685895388030993e-08, 'lambda_l2': 8.472615779938854e-07}. Best is trial 49 with value: 0.8395462921413341.\u001b[0m\n",
      "regularization_factors, val_score: 0.839545:  70%|#######   | 14/20 [05:40<02:28, 24.74s/it]"
     ]
    },
    {
     "name": "stdout",
     "output_type": "stream",
     "text": [
      "[LightGBM] [Warning] Auto-choosing col-wise multi-threading, the overhead of testing was 0.185223 seconds.\n",
      "You can set `force_col_wise=true` to remove the overhead.\n",
      "[LightGBM] [Info] Total Bins 10191\n",
      "[LightGBM] [Info] Number of data points in the train set: 1172709, number of used features: 113\n",
      "[LightGBM] [Info] Start training from score 0.699385\n"
     ]
    },
    {
     "name": "stderr",
     "output_type": "stream",
     "text": [
      "regularization_factors, val_score: 0.839543:  75%|#######5  | 15/20 [06:05<02:03, 24.80s/it]\u001b[32m[I 2021-07-01 12:18:01,071]\u001b[0m Trial 57 finished with value: 0.8395431743071844 and parameters: {'lambda_l1': 7.635951631226586e-07, 'lambda_l2': 1.3545756002061381e-08}. Best is trial 57 with value: 0.8395431743071844.\u001b[0m\n",
      "regularization_factors, val_score: 0.839543:  75%|#######5  | 15/20 [06:05<02:03, 24.80s/it]"
     ]
    },
    {
     "name": "stdout",
     "output_type": "stream",
     "text": [
      "[LightGBM] [Warning] Auto-choosing col-wise multi-threading, the overhead of testing was 0.214213 seconds.\n",
      "You can set `force_col_wise=true` to remove the overhead.\n",
      "[LightGBM] [Info] Total Bins 10191\n",
      "[LightGBM] [Info] Number of data points in the train set: 1172709, number of used features: 113\n",
      "[LightGBM] [Info] Start training from score 0.699385\n"
     ]
    },
    {
     "name": "stderr",
     "output_type": "stream",
     "text": [
      "regularization_factors, val_score: 0.839543:  80%|########  | 16/20 [06:26<01:34, 23.73s/it]\u001b[32m[I 2021-07-01 12:18:22,331]\u001b[0m Trial 58 finished with value: 0.8411180921972645 and parameters: {'lambda_l1': 2.683017646084961e-05, 'lambda_l2': 1.055870523214746e-06}. Best is trial 57 with value: 0.8395431743071844.\u001b[0m\n",
      "regularization_factors, val_score: 0.839543:  80%|########  | 16/20 [06:26<01:34, 23.73s/it]"
     ]
    },
    {
     "name": "stdout",
     "output_type": "stream",
     "text": [
      "[LightGBM] [Warning] Auto-choosing col-wise multi-threading, the overhead of testing was 0.224639 seconds.\n",
      "You can set `force_col_wise=true` to remove the overhead.\n",
      "[LightGBM] [Info] Total Bins 10191\n",
      "[LightGBM] [Info] Number of data points in the train set: 1172709, number of used features: 113\n",
      "[LightGBM] [Info] Start training from score 0.699385\n"
     ]
    },
    {
     "name": "stderr",
     "output_type": "stream",
     "text": [
      "regularization_factors, val_score: 0.839543:  85%|########5 | 17/20 [06:48<01:09, 23.09s/it]\u001b[32m[I 2021-07-01 12:18:43,936]\u001b[0m Trial 59 finished with value: 0.8411183022700179 and parameters: {'lambda_l1': 2.2176205858881008e-07, 'lambda_l2': 3.196593320482968e-05}. Best is trial 57 with value: 0.8395431743071844.\u001b[0m\n",
      "regularization_factors, val_score: 0.839543:  85%|########5 | 17/20 [06:48<01:09, 23.09s/it]"
     ]
    },
    {
     "name": "stdout",
     "output_type": "stream",
     "text": [
      "[LightGBM] [Warning] Auto-choosing col-wise multi-threading, the overhead of testing was 0.247128 seconds.\n",
      "You can set `force_col_wise=true` to remove the overhead.\n",
      "[LightGBM] [Info] Total Bins 10191\n",
      "[LightGBM] [Info] Number of data points in the train set: 1172709, number of used features: 113\n",
      "[LightGBM] [Info] Start training from score 0.699385\n"
     ]
    },
    {
     "name": "stderr",
     "output_type": "stream",
     "text": [
      "regularization_factors, val_score: 0.839543:  90%|######### | 18/20 [07:13<00:47, 23.76s/it]\u001b[32m[I 2021-07-01 12:19:09,264]\u001b[0m Trial 60 finished with value: 0.8395462922188183 and parameters: {'lambda_l1': 1.9635873365010807e-08, 'lambda_l2': 2.0130906847301412e-07}. Best is trial 57 with value: 0.8395431743071844.\u001b[0m\n",
      "regularization_factors, val_score: 0.839543:  90%|######### | 18/20 [07:13<00:47, 23.76s/it]"
     ]
    },
    {
     "name": "stdout",
     "output_type": "stream",
     "text": [
      "[LightGBM] [Warning] Auto-choosing col-wise multi-threading, the overhead of testing was 0.223812 seconds.\n",
      "You can set `force_col_wise=true` to remove the overhead.\n",
      "[LightGBM] [Info] Total Bins 10191\n",
      "[LightGBM] [Info] Number of data points in the train set: 1172709, number of used features: 113\n",
      "[LightGBM] [Info] Start training from score 0.699385\n"
     ]
    },
    {
     "name": "stderr",
     "output_type": "stream",
     "text": [
      "regularization_factors, val_score: 0.839543:  95%|#########5| 19/20 [07:35<00:23, 23.11s/it]\u001b[32m[I 2021-07-01 12:19:30,858]\u001b[0m Trial 61 finished with value: 0.841118302349509 and parameters: {'lambda_l1': 1.1180121118239414e-05, 'lambda_l2': 3.1040636586987836e-05}. Best is trial 57 with value: 0.8395431743071844.\u001b[0m\n",
      "regularization_factors, val_score: 0.839543:  95%|#########5| 19/20 [07:35<00:23, 23.11s/it]"
     ]
    },
    {
     "name": "stdout",
     "output_type": "stream",
     "text": [
      "[LightGBM] [Warning] Auto-choosing col-wise multi-threading, the overhead of testing was 0.222580 seconds.\n",
      "You can set `force_col_wise=true` to remove the overhead.\n",
      "[LightGBM] [Info] Total Bins 10191\n",
      "[LightGBM] [Info] Number of data points in the train set: 1172709, number of used features: 113\n",
      "[LightGBM] [Info] Start training from score 0.699385\n"
     ]
    },
    {
     "name": "stderr",
     "output_type": "stream",
     "text": [
      "regularization_factors, val_score: 0.839543: 100%|##########| 20/20 [08:00<00:00, 23.77s/it]\u001b[32m[I 2021-07-01 12:19:56,154]\u001b[0m Trial 62 finished with value: 0.8395462922282192 and parameters: {'lambda_l1': 2.3646114675370645e-07, 'lambda_l2': 1.4169040926147706e-08}. Best is trial 57 with value: 0.8395431743071844.\u001b[0m\n",
      "regularization_factors, val_score: 0.839543: 100%|##########| 20/20 [08:00<00:00, 24.03s/it]\n",
      "min_data_in_leaf, val_score: 0.839543:   0%|          | 0/5 [00:00<?, ?it/s]"
     ]
    },
    {
     "name": "stdout",
     "output_type": "stream",
     "text": [
      "[LightGBM] [Warning] Auto-choosing col-wise multi-threading, the overhead of testing was 0.239340 seconds.\n",
      "You can set `force_col_wise=true` to remove the overhead.\n",
      "[LightGBM] [Info] Total Bins 10191\n",
      "[LightGBM] [Info] Number of data points in the train set: 1172709, number of used features: 113\n",
      "[LightGBM] [Info] Start training from score 0.699385\n"
     ]
    },
    {
     "name": "stderr",
     "output_type": "stream",
     "text": [
      "min_data_in_leaf, val_score: 0.839543:  20%|##        | 1/5 [00:21<01:26, 21.50s/it]\u001b[32m[I 2021-07-01 12:20:17,661]\u001b[0m Trial 63 finished with value: 0.8440272455085996 and parameters: {'min_child_samples': 5}. Best is trial 63 with value: 0.8440272455085996.\u001b[0m\n",
      "min_data_in_leaf, val_score: 0.839543:  20%|##        | 1/5 [00:21<01:26, 21.50s/it]"
     ]
    },
    {
     "name": "stdout",
     "output_type": "stream",
     "text": [
      "[LightGBM] [Warning] Auto-choosing col-wise multi-threading, the overhead of testing was 0.248573 seconds.\n",
      "You can set `force_col_wise=true` to remove the overhead.\n",
      "[LightGBM] [Info] Total Bins 10191\n",
      "[LightGBM] [Info] Number of data points in the train set: 1172709, number of used features: 113\n",
      "[LightGBM] [Info] Start training from score 0.699385\n"
     ]
    },
    {
     "name": "stderr",
     "output_type": "stream",
     "text": [
      "min_data_in_leaf, val_score: 0.839543:  40%|####      | 2/5 [00:47<01:12, 24.16s/it]\u001b[32m[I 2021-07-01 12:20:43,684]\u001b[0m Trial 64 finished with value: 0.8411128581893728 and parameters: {'min_child_samples': 10}. Best is trial 64 with value: 0.8411128581893728.\u001b[0m\n",
      "min_data_in_leaf, val_score: 0.839543:  40%|####      | 2/5 [00:47<01:12, 24.16s/it]"
     ]
    },
    {
     "name": "stdout",
     "output_type": "stream",
     "text": [
      "[LightGBM] [Warning] Auto-choosing col-wise multi-threading, the overhead of testing was 0.294148 seconds.\n",
      "You can set `force_col_wise=true` to remove the overhead.\n",
      "[LightGBM] [Info] Total Bins 10191\n",
      "[LightGBM] [Info] Number of data points in the train set: 1172709, number of used features: 113\n",
      "[LightGBM] [Info] Start training from score 0.699385\n"
     ]
    },
    {
     "name": "stderr",
     "output_type": "stream",
     "text": [
      "min_data_in_leaf, val_score: 0.837773:  60%|######    | 3/5 [01:11<00:48, 24.29s/it]\u001b[32m[I 2021-07-01 12:21:08,135]\u001b[0m Trial 65 finished with value: 0.8377729798663713 and parameters: {'min_child_samples': 100}. Best is trial 65 with value: 0.8377729798663713.\u001b[0m\n",
      "min_data_in_leaf, val_score: 0.837773:  60%|######    | 3/5 [01:11<00:48, 24.29s/it]"
     ]
    },
    {
     "name": "stdout",
     "output_type": "stream",
     "text": [
      "[LightGBM] [Warning] Auto-choosing col-wise multi-threading, the overhead of testing was 0.185653 seconds.\n",
      "You can set `force_col_wise=true` to remove the overhead.\n",
      "[LightGBM] [Info] Total Bins 10191\n",
      "[LightGBM] [Info] Number of data points in the train set: 1172709, number of used features: 113\n",
      "[LightGBM] [Info] Start training from score 0.699385\n"
     ]
    },
    {
     "name": "stderr",
     "output_type": "stream",
     "text": [
      "min_data_in_leaf, val_score: 0.837773:  80%|########  | 4/5 [01:36<00:24, 24.43s/it]\u001b[32m[I 2021-07-01 12:21:32,783]\u001b[0m Trial 66 finished with value: 0.8386489328383949 and parameters: {'min_child_samples': 25}. Best is trial 65 with value: 0.8377729798663713.\u001b[0m\n",
      "min_data_in_leaf, val_score: 0.837773:  80%|########  | 4/5 [01:36<00:24, 24.43s/it]"
     ]
    },
    {
     "name": "stdout",
     "output_type": "stream",
     "text": [
      "[LightGBM] [Warning] Auto-choosing col-wise multi-threading, the overhead of testing was 0.302689 seconds.\n",
      "You can set `force_col_wise=true` to remove the overhead.\n",
      "[LightGBM] [Info] Total Bins 10191\n",
      "[LightGBM] [Info] Number of data points in the train set: 1172709, number of used features: 113\n",
      "[LightGBM] [Info] Start training from score 0.699385\n"
     ]
    },
    {
     "name": "stderr",
     "output_type": "stream",
     "text": [
      "min_data_in_leaf, val_score: 0.837773: 100%|##########| 5/5 [02:01<00:00, 24.69s/it]\u001b[32m[I 2021-07-01 12:21:57,917]\u001b[0m Trial 67 finished with value: 0.837921389177031 and parameters: {'min_child_samples': 50}. Best is trial 65 with value: 0.8377729798663713.\u001b[0m\n",
      "min_data_in_leaf, val_score: 0.837773: 100%|##########| 5/5 [02:01<00:00, 24.35s/it]\n"
     ]
    }
   ],
   "source": [
    "\n",
    "NFOLDS = 1\n",
    "idx = 0\n",
    "    \n",
    "tr_idx = tr_idxs[idx]\n",
    "val_idx = val_idxs[idx]\n",
    "\n",
    "x_train = train_X.loc[tr_idx].reset_index(drop=True)\n",
    "y_train = train_y.loc[tr_idx].reset_index(drop=True)\n",
    "x_valid = train_X.loc[val_idx].reset_index(drop=True)\n",
    "y_valid = train_y.loc[val_idx].reset_index(drop=True)\n",
    "\n",
    "\n",
    "trains = lgbm.Dataset(x_train[feature_cols1], y_train['target1'])\n",
    "valids = lgbm.Dataset(x_valid[feature_cols1], y_valid['target1'])\n",
    "\n",
    "\n",
    "model1 = lgbm.train(params, trains, valid_sets=[trains, valids],\n",
    "                    verbose_eval=False)\n",
    "\n",
    "\n",
    "# score = (score1+score2+score3+score4) / 4\n",
    "# print(f'score: {score}')\n",
    "\n",
    "\n",
    "\n"
   ]
  },
  {
   "cell_type": "code",
   "execution_count": 38,
   "id": "43612bb9",
   "metadata": {},
   "outputs": [
    {
     "name": "stderr",
     "output_type": "stream",
     "text": [
      "\u001b[32m[I 2021-07-01 12:21:58,587]\u001b[0m A new study created in memory with name: no-name-5b8a256c-0c51-41ec-ae6c-50e68282c34f\u001b[0m\n",
      "feature_fraction, val_score: inf:   0%|          | 0/7 [00:00<?, ?it/s]"
     ]
    },
    {
     "name": "stdout",
     "output_type": "stream",
     "text": [
      "[LightGBM] [Warning] Auto-choosing row-wise multi-threading, the overhead of testing was 0.067594 seconds.\n",
      "You can set `force_row_wise=true` to remove the overhead.\n",
      "And if memory is not enough, you can set `force_col_wise=true`.\n",
      "[LightGBM] [Info] Total Bins 10184\n",
      "[LightGBM] [Info] Number of data points in the train set: 1172709, number of used features: 112\n",
      "[LightGBM] [Info] Start training from score 0.699385\n"
     ]
    },
    {
     "name": "stderr",
     "output_type": "stream",
     "text": [
      "feature_fraction, val_score: 0.843538:  14%|#4        | 1/7 [00:25<02:33, 25.62s/it]\u001b[32m[I 2021-07-01 12:22:24,210]\u001b[0m Trial 0 finished with value: 0.843538222017043 and parameters: {'feature_fraction': 0.4}. Best is trial 0 with value: 0.843538222017043.\u001b[0m\n",
      "feature_fraction, val_score: 0.843538:  14%|#4        | 1/7 [00:25<02:33, 25.62s/it]"
     ]
    },
    {
     "name": "stdout",
     "output_type": "stream",
     "text": [
      "[LightGBM] [Warning] Auto-choosing row-wise multi-threading, the overhead of testing was 0.092748 seconds.\n",
      "You can set `force_row_wise=true` to remove the overhead.\n",
      "And if memory is not enough, you can set `force_col_wise=true`.\n",
      "[LightGBM] [Info] Total Bins 10184\n",
      "[LightGBM] [Info] Number of data points in the train set: 1172709, number of used features: 112\n",
      "[LightGBM] [Info] Start training from score 0.699385\n"
     ]
    },
    {
     "name": "stderr",
     "output_type": "stream",
     "text": [
      "feature_fraction, val_score: 0.843538:  29%|##8       | 2/7 [00:45<01:50, 22.14s/it]\u001b[32m[I 2021-07-01 12:22:43,916]\u001b[0m Trial 1 finished with value: 0.8479566071546832 and parameters: {'feature_fraction': 1.0}. Best is trial 0 with value: 0.843538222017043.\u001b[0m\n",
      "feature_fraction, val_score: 0.843538:  29%|##8       | 2/7 [00:45<01:50, 22.14s/it]"
     ]
    },
    {
     "name": "stdout",
     "output_type": "stream",
     "text": [
      "[LightGBM] [Warning] Auto-choosing row-wise multi-threading, the overhead of testing was 0.071669 seconds.\n",
      "You can set `force_row_wise=true` to remove the overhead.\n",
      "And if memory is not enough, you can set `force_col_wise=true`.\n",
      "[LightGBM] [Info] Total Bins 10184\n",
      "[LightGBM] [Info] Number of data points in the train set: 1172709, number of used features: 112\n",
      "[LightGBM] [Info] Start training from score 0.699385\n"
     ]
    },
    {
     "name": "stderr",
     "output_type": "stream",
     "text": [
      "feature_fraction, val_score: 0.843176:  43%|####2     | 3/7 [01:11<01:35, 23.82s/it]\u001b[32m[I 2021-07-01 12:23:09,726]\u001b[0m Trial 2 finished with value: 0.8431755872467733 and parameters: {'feature_fraction': 0.5}. Best is trial 2 with value: 0.8431755872467733.\u001b[0m\n",
      "feature_fraction, val_score: 0.843176:  43%|####2     | 3/7 [01:11<01:35, 23.82s/it]"
     ]
    },
    {
     "name": "stdout",
     "output_type": "stream",
     "text": [
      "[LightGBM] [Warning] Auto-choosing row-wise multi-threading, the overhead of testing was 0.076284 seconds.\n",
      "You can set `force_row_wise=true` to remove the overhead.\n",
      "And if memory is not enough, you can set `force_col_wise=true`.\n",
      "[LightGBM] [Info] Total Bins 10184\n",
      "[LightGBM] [Info] Number of data points in the train set: 1172709, number of used features: 112\n",
      "[LightGBM] [Info] Start training from score 0.699385\n"
     ]
    },
    {
     "name": "stderr",
     "output_type": "stream",
     "text": [
      "feature_fraction, val_score: 0.843176:  57%|#####7    | 4/7 [01:31<01:07, 22.64s/it]\u001b[32m[I 2021-07-01 12:23:30,560]\u001b[0m Trial 3 finished with value: 0.8463917579794593 and parameters: {'feature_fraction': 0.8}. Best is trial 2 with value: 0.8431755872467733.\u001b[0m\n",
      "feature_fraction, val_score: 0.843176:  57%|#####7    | 4/7 [01:31<01:07, 22.64s/it]"
     ]
    },
    {
     "name": "stdout",
     "output_type": "stream",
     "text": [
      "[LightGBM] [Warning] Auto-choosing col-wise multi-threading, the overhead of testing was 0.227619 seconds.\n",
      "You can set `force_col_wise=true` to remove the overhead.\n",
      "[LightGBM] [Info] Total Bins 10184\n",
      "[LightGBM] [Info] Number of data points in the train set: 1172709, number of used features: 112\n",
      "[LightGBM] [Info] Start training from score 0.699385\n"
     ]
    },
    {
     "name": "stderr",
     "output_type": "stream",
     "text": [
      "feature_fraction, val_score: 0.843176:  71%|#######1  | 5/7 [01:52<00:43, 21.73s/it]\u001b[32m[I 2021-07-01 12:23:50,686]\u001b[0m Trial 4 finished with value: 0.8457103213295811 and parameters: {'feature_fraction': 0.7}. Best is trial 2 with value: 0.8431755872467733.\u001b[0m\n",
      "feature_fraction, val_score: 0.843176:  71%|#######1  | 5/7 [01:52<00:43, 21.73s/it]"
     ]
    },
    {
     "name": "stdout",
     "output_type": "stream",
     "text": [
      "[LightGBM] [Warning] Auto-choosing row-wise multi-threading, the overhead of testing was 0.075597 seconds.\n",
      "You can set `force_row_wise=true` to remove the overhead.\n",
      "And if memory is not enough, you can set `force_col_wise=true`.\n",
      "[LightGBM] [Info] Total Bins 10184\n",
      "[LightGBM] [Info] Number of data points in the train set: 1172709, number of used features: 112\n",
      "[LightGBM] [Info] Start training from score 0.699385\n"
     ]
    },
    {
     "name": "stderr",
     "output_type": "stream",
     "text": [
      "feature_fraction, val_score: 0.843176:  86%|########5 | 6/7 [02:12<00:21, 21.18s/it]\u001b[32m[I 2021-07-01 12:24:10,784]\u001b[0m Trial 5 finished with value: 0.8480806681604952 and parameters: {'feature_fraction': 0.8999999999999999}. Best is trial 2 with value: 0.8431755872467733.\u001b[0m\n",
      "feature_fraction, val_score: 0.843176:  86%|########5 | 6/7 [02:12<00:21, 21.18s/it]"
     ]
    },
    {
     "name": "stdout",
     "output_type": "stream",
     "text": [
      "[LightGBM] [Warning] Auto-choosing col-wise multi-threading, the overhead of testing was 0.393081 seconds.\n",
      "You can set `force_col_wise=true` to remove the overhead.\n",
      "[LightGBM] [Info] Total Bins 10184\n",
      "[LightGBM] [Info] Number of data points in the train set: 1172709, number of used features: 112\n",
      "[LightGBM] [Info] Start training from score 0.699385\n"
     ]
    },
    {
     "name": "stderr",
     "output_type": "stream",
     "text": [
      "feature_fraction, val_score: 0.843176: 100%|##########| 7/7 [02:32<00:00, 20.92s/it]\u001b[32m[I 2021-07-01 12:24:31,170]\u001b[0m Trial 6 finished with value: 0.8451769686348224 and parameters: {'feature_fraction': 0.6}. Best is trial 2 with value: 0.8431755872467733.\u001b[0m\n",
      "feature_fraction, val_score: 0.843176: 100%|##########| 7/7 [02:32<00:00, 21.80s/it]\n",
      "num_leaves, val_score: 0.843176:   0%|          | 0/20 [00:00<?, ?it/s]"
     ]
    },
    {
     "name": "stdout",
     "output_type": "stream",
     "text": [
      "[LightGBM] [Warning] Auto-choosing row-wise multi-threading, the overhead of testing was 0.072874 seconds.\n",
      "You can set `force_row_wise=true` to remove the overhead.\n",
      "And if memory is not enough, you can set `force_col_wise=true`.\n",
      "[LightGBM] [Info] Total Bins 10184\n",
      "[LightGBM] [Info] Number of data points in the train set: 1172709, number of used features: 112\n",
      "[LightGBM] [Info] Start training from score 0.699385\n"
     ]
    },
    {
     "name": "stderr",
     "output_type": "stream",
     "text": [
      "num_leaves, val_score: 0.842643:   5%|5         | 1/20 [00:25<08:13, 25.99s/it]\u001b[32m[I 2021-07-01 12:24:57,162]\u001b[0m Trial 7 finished with value: 0.84264255333966 and parameters: {'num_leaves': 55}. Best is trial 7 with value: 0.84264255333966.\u001b[0m\n",
      "num_leaves, val_score: 0.842643:   5%|5         | 1/20 [00:25<08:13, 25.99s/it]"
     ]
    },
    {
     "name": "stdout",
     "output_type": "stream",
     "text": [
      "[LightGBM] [Warning] Auto-choosing row-wise multi-threading, the overhead of testing was 0.072462 seconds.\n",
      "You can set `force_row_wise=true` to remove the overhead.\n",
      "And if memory is not enough, you can set `force_col_wise=true`.\n",
      "[LightGBM] [Info] Total Bins 10184\n",
      "[LightGBM] [Info] Number of data points in the train set: 1172709, number of used features: 112\n",
      "[LightGBM] [Info] Start training from score 0.699385\n"
     ]
    },
    {
     "name": "stderr",
     "output_type": "stream",
     "text": [
      "num_leaves, val_score: 0.841220:  10%|#         | 2/20 [00:58<08:54, 29.69s/it]\u001b[32m[I 2021-07-01 12:25:29,448]\u001b[0m Trial 8 finished with value: 0.8412202615781307 and parameters: {'num_leaves': 102}. Best is trial 8 with value: 0.8412202615781307.\u001b[0m\n",
      "num_leaves, val_score: 0.841220:  10%|#         | 2/20 [00:58<08:54, 29.69s/it]"
     ]
    },
    {
     "name": "stdout",
     "output_type": "stream",
     "text": [
      "[LightGBM] [Warning] Auto-choosing row-wise multi-threading, the overhead of testing was 0.076165 seconds.\n",
      "You can set `force_row_wise=true` to remove the overhead.\n",
      "And if memory is not enough, you can set `force_col_wise=true`.\n",
      "[LightGBM] [Info] Total Bins 10184\n",
      "[LightGBM] [Info] Number of data points in the train set: 1172709, number of used features: 112\n",
      "[LightGBM] [Info] Start training from score 0.699385\n"
     ]
    },
    {
     "name": "stderr",
     "output_type": "stream",
     "text": [
      "num_leaves, val_score: 0.841220:  15%|#5        | 3/20 [01:32<09:00, 31.77s/it]\u001b[32m[I 2021-07-01 12:26:03,690]\u001b[0m Trial 9 finished with value: 0.8463691533384394 and parameters: {'num_leaves': 231}. Best is trial 8 with value: 0.8412202615781307.\u001b[0m\n",
      "num_leaves, val_score: 0.841220:  15%|#5        | 3/20 [01:32<09:00, 31.77s/it]"
     ]
    },
    {
     "name": "stdout",
     "output_type": "stream",
     "text": [
      "[LightGBM] [Warning] Auto-choosing row-wise multi-threading, the overhead of testing was 0.074097 seconds.\n",
      "You can set `force_row_wise=true` to remove the overhead.\n",
      "And if memory is not enough, you can set `force_col_wise=true`.\n",
      "[LightGBM] [Info] Total Bins 10184\n",
      "[LightGBM] [Info] Number of data points in the train set: 1172709, number of used features: 112\n",
      "[LightGBM] [Info] Start training from score 0.699385\n"
     ]
    },
    {
     "name": "stderr",
     "output_type": "stream",
     "text": [
      "num_leaves, val_score: 0.841220:  20%|##        | 4/20 [02:04<08:30, 31.91s/it]\u001b[32m[I 2021-07-01 12:26:35,822]\u001b[0m Trial 10 finished with value: 0.8438285854204748 and parameters: {'num_leaves': 146}. Best is trial 8 with value: 0.8412202615781307.\u001b[0m\n",
      "num_leaves, val_score: 0.841220:  20%|##        | 4/20 [02:04<08:30, 31.91s/it]"
     ]
    },
    {
     "name": "stdout",
     "output_type": "stream",
     "text": [
      "[LightGBM] [Warning] Auto-choosing row-wise multi-threading, the overhead of testing was 0.076051 seconds.\n",
      "You can set `force_row_wise=true` to remove the overhead.\n",
      "And if memory is not enough, you can set `force_col_wise=true`.\n",
      "[LightGBM] [Info] Total Bins 10184\n",
      "[LightGBM] [Info] Number of data points in the train set: 1172709, number of used features: 112\n",
      "[LightGBM] [Info] Start training from score 0.699385\n"
     ]
    },
    {
     "name": "stderr",
     "output_type": "stream",
     "text": [
      "num_leaves, val_score: 0.841220:  25%|##5       | 5/20 [02:31<07:29, 29.96s/it]\u001b[32m[I 2021-07-01 12:27:02,318]\u001b[0m Trial 11 finished with value: 0.8423084773137478 and parameters: {'num_leaves': 72}. Best is trial 8 with value: 0.8412202615781307.\u001b[0m\n",
      "num_leaves, val_score: 0.841220:  25%|##5       | 5/20 [02:31<07:29, 29.96s/it]"
     ]
    },
    {
     "name": "stdout",
     "output_type": "stream",
     "text": [
      "[LightGBM] [Warning] Auto-choosing row-wise multi-threading, the overhead of testing was 0.075996 seconds.\n",
      "You can set `force_row_wise=true` to remove the overhead.\n",
      "And if memory is not enough, you can set `force_col_wise=true`.\n",
      "[LightGBM] [Info] Total Bins 10184\n",
      "[LightGBM] [Info] Number of data points in the train set: 1172709, number of used features: 112\n",
      "[LightGBM] [Info] Start training from score 0.699385\n"
     ]
    },
    {
     "name": "stderr",
     "output_type": "stream",
     "text": [
      "num_leaves, val_score: 0.841167:  30%|###       | 6/20 [03:02<07:05, 30.41s/it]\u001b[32m[I 2021-07-01 12:27:33,597]\u001b[0m Trial 12 finished with value: 0.8411670032605851 and parameters: {'num_leaves': 89}. Best is trial 12 with value: 0.8411670032605851.\u001b[0m\n",
      "num_leaves, val_score: 0.841167:  30%|###       | 6/20 [03:02<07:05, 30.41s/it]"
     ]
    },
    {
     "name": "stdout",
     "output_type": "stream",
     "text": [
      "[LightGBM] [Warning] Auto-choosing row-wise multi-threading, the overhead of testing was 0.072397 seconds.\n",
      "You can set `force_row_wise=true` to remove the overhead.\n",
      "And if memory is not enough, you can set `force_col_wise=true`.\n",
      "[LightGBM] [Info] Total Bins 10184\n",
      "[LightGBM] [Info] Number of data points in the train set: 1172709, number of used features: 112\n",
      "[LightGBM] [Info] Start training from score 0.699385\n"
     ]
    },
    {
     "name": "stderr",
     "output_type": "stream",
     "text": [
      "num_leaves, val_score: 0.841167:  35%|###5      | 7/20 [03:33<06:38, 30.63s/it]\u001b[32m[I 2021-07-01 12:28:04,680]\u001b[0m Trial 13 finished with value: 0.8433951076371446 and parameters: {'num_leaves': 130}. Best is trial 12 with value: 0.8411670032605851.\u001b[0m\n",
      "num_leaves, val_score: 0.841167:  35%|###5      | 7/20 [03:33<06:38, 30.63s/it]"
     ]
    },
    {
     "name": "stdout",
     "output_type": "stream",
     "text": [
      "[LightGBM] [Warning] Auto-choosing row-wise multi-threading, the overhead of testing was 0.069918 seconds.\n",
      "You can set `force_row_wise=true` to remove the overhead.\n",
      "And if memory is not enough, you can set `force_col_wise=true`.\n",
      "[LightGBM] [Info] Total Bins 10184\n",
      "[LightGBM] [Info] Number of data points in the train set: 1172709, number of used features: 112\n",
      "[LightGBM] [Info] Start training from score 0.699385\n"
     ]
    },
    {
     "name": "stderr",
     "output_type": "stream",
     "text": [
      "num_leaves, val_score: 0.841167:  40%|####      | 8/20 [04:00<05:52, 29.37s/it]\u001b[32m[I 2021-07-01 12:28:31,343]\u001b[0m Trial 14 finished with value: 0.8430476909169943 and parameters: {'num_leaves': 29}. Best is trial 12 with value: 0.8411670032605851.\u001b[0m\n",
      "num_leaves, val_score: 0.841167:  40%|####      | 8/20 [04:00<05:52, 29.37s/it]"
     ]
    },
    {
     "name": "stdout",
     "output_type": "stream",
     "text": [
      "[LightGBM] [Warning] Auto-choosing row-wise multi-threading, the overhead of testing was 0.069993 seconds.\n",
      "You can set `force_row_wise=true` to remove the overhead.\n",
      "And if memory is not enough, you can set `force_col_wise=true`.\n",
      "[LightGBM] [Info] Total Bins 10184\n",
      "[LightGBM] [Info] Number of data points in the train set: 1172709, number of used features: 112\n",
      "[LightGBM] [Info] Start training from score 0.699385\n"
     ]
    },
    {
     "name": "stderr",
     "output_type": "stream",
     "text": [
      "num_leaves, val_score: 0.841167:  45%|####5     | 9/20 [04:27<05:14, 28.63s/it]\u001b[32m[I 2021-07-01 12:28:58,364]\u001b[0m Trial 15 finished with value: 0.8422298674598687 and parameters: {'num_leaves': 54}. Best is trial 12 with value: 0.8411670032605851.\u001b[0m\n",
      "num_leaves, val_score: 0.841167:  45%|####5     | 9/20 [04:27<05:14, 28.63s/it]"
     ]
    },
    {
     "name": "stdout",
     "output_type": "stream",
     "text": [
      "[LightGBM] [Warning] Auto-choosing row-wise multi-threading, the overhead of testing was 0.068639 seconds.\n",
      "You can set `force_row_wise=true` to remove the overhead.\n",
      "And if memory is not enough, you can set `force_col_wise=true`.\n",
      "[LightGBM] [Info] Total Bins 10184\n",
      "[LightGBM] [Info] Number of data points in the train set: 1172709, number of used features: 112\n",
      "[LightGBM] [Info] Start training from score 0.699385\n"
     ]
    },
    {
     "name": "stderr",
     "output_type": "stream",
     "text": [
      "num_leaves, val_score: 0.841167:  50%|#####     | 10/20 [04:53<04:37, 27.79s/it]\u001b[32m[I 2021-07-01 12:29:24,264]\u001b[0m Trial 16 finished with value: 0.8431110029741593 and parameters: {'num_leaves': 62}. Best is trial 12 with value: 0.8411670032605851.\u001b[0m\n",
      "num_leaves, val_score: 0.841167:  50%|#####     | 10/20 [04:53<04:37, 27.79s/it]"
     ]
    },
    {
     "name": "stdout",
     "output_type": "stream",
     "text": [
      "[LightGBM] [Warning] Auto-choosing row-wise multi-threading, the overhead of testing was 0.072761 seconds.\n",
      "You can set `force_row_wise=true` to remove the overhead.\n",
      "And if memory is not enough, you can set `force_col_wise=true`.\n",
      "[LightGBM] [Info] Total Bins 10184\n",
      "[LightGBM] [Info] Number of data points in the train set: 1172709, number of used features: 112\n",
      "[LightGBM] [Info] Start training from score 0.699385\n"
     ]
    },
    {
     "name": "stderr",
     "output_type": "stream",
     "text": [
      "num_leaves, val_score: 0.841167:  55%|#####5    | 11/20 [05:24<04:19, 28.81s/it]\u001b[32m[I 2021-07-01 12:29:55,404]\u001b[0m Trial 17 finished with value: 0.8445781540126148 and parameters: {'num_leaves': 182}. Best is trial 12 with value: 0.8411670032605851.\u001b[0m\n",
      "num_leaves, val_score: 0.841167:  55%|#####5    | 11/20 [05:24<04:19, 28.81s/it]"
     ]
    },
    {
     "name": "stdout",
     "output_type": "stream",
     "text": [
      "[LightGBM] [Warning] Auto-choosing row-wise multi-threading, the overhead of testing was 0.072114 seconds.\n",
      "You can set `force_row_wise=true` to remove the overhead.\n",
      "And if memory is not enough, you can set `force_col_wise=true`.\n",
      "[LightGBM] [Info] Total Bins 10184\n",
      "[LightGBM] [Info] Number of data points in the train set: 1172709, number of used features: 112\n",
      "[LightGBM] [Info] Start training from score 0.699385\n"
     ]
    },
    {
     "name": "stderr",
     "output_type": "stream",
     "text": [
      "num_leaves, val_score: 0.841167:  60%|######    | 12/20 [05:54<03:53, 29.22s/it]\u001b[32m[I 2021-07-01 12:30:25,552]\u001b[0m Trial 18 finished with value: 0.8420738313569656 and parameters: {'num_leaves': 99}. Best is trial 12 with value: 0.8411670032605851.\u001b[0m\n",
      "num_leaves, val_score: 0.841167:  60%|######    | 12/20 [05:54<03:53, 29.22s/it]"
     ]
    },
    {
     "name": "stdout",
     "output_type": "stream",
     "text": [
      "[LightGBM] [Warning] Auto-choosing row-wise multi-threading, the overhead of testing was 0.075487 seconds.\n",
      "You can set `force_row_wise=true` to remove the overhead.\n",
      "And if memory is not enough, you can set `force_col_wise=true`.\n",
      "[LightGBM] [Info] Total Bins 10184\n",
      "[LightGBM] [Info] Number of data points in the train set: 1172709, number of used features: 112\n",
      "[LightGBM] [Info] Start training from score 0.699385\n"
     ]
    },
    {
     "name": "stderr",
     "output_type": "stream",
     "text": [
      "num_leaves, val_score: 0.841167:  65%|######5   | 13/20 [06:23<03:25, 29.31s/it]\u001b[32m[I 2021-07-01 12:30:55,076]\u001b[0m Trial 19 finished with value: 0.8419636925645139 and parameters: {'num_leaves': 106}. Best is trial 12 with value: 0.8411670032605851.\u001b[0m\n",
      "num_leaves, val_score: 0.841167:  65%|######5   | 13/20 [06:23<03:25, 29.31s/it]"
     ]
    },
    {
     "name": "stdout",
     "output_type": "stream",
     "text": [
      "[LightGBM] [Warning] Auto-choosing row-wise multi-threading, the overhead of testing was 0.068827 seconds.\n",
      "You can set `force_row_wise=true` to remove the overhead.\n",
      "And if memory is not enough, you can set `force_col_wise=true`.\n",
      "[LightGBM] [Info] Total Bins 10184\n",
      "[LightGBM] [Info] Number of data points in the train set: 1172709, number of used features: 112\n",
      "[LightGBM] [Info] Start training from score 0.699385\n"
     ]
    },
    {
     "name": "stderr",
     "output_type": "stream",
     "text": [
      "num_leaves, val_score: 0.841167:  70%|#######   | 14/20 [06:53<02:55, 29.30s/it]\u001b[32m[I 2021-07-01 12:31:24,337]\u001b[0m Trial 20 finished with value: 0.8531718486675232 and parameters: {'num_leaves': 4}. Best is trial 12 with value: 0.8411670032605851.\u001b[0m\n",
      "num_leaves, val_score: 0.841167:  70%|#######   | 14/20 [06:53<02:55, 29.30s/it]"
     ]
    },
    {
     "name": "stdout",
     "output_type": "stream",
     "text": [
      "[LightGBM] [Warning] Auto-choosing row-wise multi-threading, the overhead of testing was 0.074671 seconds.\n",
      "You can set `force_row_wise=true` to remove the overhead.\n",
      "And if memory is not enough, you can set `force_col_wise=true`.\n",
      "[LightGBM] [Info] Total Bins 10184\n",
      "[LightGBM] [Info] Number of data points in the train set: 1172709, number of used features: 112\n",
      "[LightGBM] [Info] Start training from score 0.699385\n"
     ]
    },
    {
     "name": "stderr",
     "output_type": "stream",
     "text": [
      "num_leaves, val_score: 0.841167:  75%|#######5  | 15/20 [07:23<02:27, 29.57s/it]\u001b[32m[I 2021-07-01 12:31:54,544]\u001b[0m Trial 21 finished with value: 0.8439685712247581 and parameters: {'num_leaves': 168}. Best is trial 12 with value: 0.8411670032605851.\u001b[0m\n",
      "num_leaves, val_score: 0.841167:  75%|#######5  | 15/20 [07:23<02:27, 29.57s/it]"
     ]
    },
    {
     "name": "stdout",
     "output_type": "stream",
     "text": [
      "[LightGBM] [Warning] Auto-choosing row-wise multi-threading, the overhead of testing was 0.068516 seconds.\n",
      "You can set `force_row_wise=true` to remove the overhead.\n",
      "And if memory is not enough, you can set `force_col_wise=true`.\n",
      "[LightGBM] [Info] Total Bins 10184\n",
      "[LightGBM] [Info] Number of data points in the train set: 1172709, number of used features: 112\n",
      "[LightGBM] [Info] Start training from score 0.699385\n"
     ]
    },
    {
     "name": "stderr",
     "output_type": "stream",
     "text": [
      "num_leaves, val_score: 0.841167:  80%|########  | 16/20 [07:53<01:59, 29.78s/it]\u001b[32m[I 2021-07-01 12:32:24,799]\u001b[0m Trial 22 finished with value: 0.8417153488936117 and parameters: {'num_leaves': 101}. Best is trial 12 with value: 0.8411670032605851.\u001b[0m\n",
      "num_leaves, val_score: 0.841167:  80%|########  | 16/20 [07:53<01:59, 29.78s/it]"
     ]
    },
    {
     "name": "stdout",
     "output_type": "stream",
     "text": [
      "[LightGBM] [Warning] Auto-choosing row-wise multi-threading, the overhead of testing was 0.074884 seconds.\n",
      "You can set `force_row_wise=true` to remove the overhead.\n",
      "And if memory is not enough, you can set `force_col_wise=true`.\n",
      "[LightGBM] [Info] Total Bins 10184\n",
      "[LightGBM] [Info] Number of data points in the train set: 1172709, number of used features: 112\n",
      "[LightGBM] [Info] Start training from score 0.699385\n"
     ]
    },
    {
     "name": "stderr",
     "output_type": "stream",
     "text": [
      "num_leaves, val_score: 0.841167:  85%|########5 | 17/20 [08:23<01:28, 29.66s/it]\u001b[32m[I 2021-07-01 12:32:54,186]\u001b[0m Trial 23 finished with value: 0.8531718486675233 and parameters: {'num_leaves': 4}. Best is trial 12 with value: 0.8411670032605851.\u001b[0m\n",
      "num_leaves, val_score: 0.841167:  85%|########5 | 17/20 [08:23<01:28, 29.66s/it]"
     ]
    },
    {
     "name": "stdout",
     "output_type": "stream",
     "text": [
      "[LightGBM] [Warning] Auto-choosing row-wise multi-threading, the overhead of testing was 0.074096 seconds.\n",
      "You can set `force_row_wise=true` to remove the overhead.\n",
      "And if memory is not enough, you can set `force_col_wise=true`.\n",
      "[LightGBM] [Info] Total Bins 10184\n",
      "[LightGBM] [Info] Number of data points in the train set: 1172709, number of used features: 112\n",
      "[LightGBM] [Info] Start training from score 0.699385\n"
     ]
    },
    {
     "name": "stderr",
     "output_type": "stream",
     "text": [
      "num_leaves, val_score: 0.841167:  90%|######### | 18/20 [08:55<01:01, 30.56s/it]\u001b[32m[I 2021-07-01 12:33:26,849]\u001b[0m Trial 24 finished with value: 0.8445851189165539 and parameters: {'num_leaves': 205}. Best is trial 12 with value: 0.8411670032605851.\u001b[0m\n",
      "num_leaves, val_score: 0.841167:  90%|######### | 18/20 [08:55<01:01, 30.56s/it]"
     ]
    },
    {
     "name": "stdout",
     "output_type": "stream",
     "text": [
      "[LightGBM] [Warning] Auto-choosing row-wise multi-threading, the overhead of testing was 0.073968 seconds.\n",
      "You can set `force_row_wise=true` to remove the overhead.\n",
      "And if memory is not enough, you can set `force_col_wise=true`.\n",
      "[LightGBM] [Info] Total Bins 10184\n",
      "[LightGBM] [Info] Number of data points in the train set: 1172709, number of used features: 112\n",
      "[LightGBM] [Info] Start training from score 0.699385\n"
     ]
    },
    {
     "name": "stderr",
     "output_type": "stream",
     "text": [
      "num_leaves, val_score: 0.841167:  95%|#########5| 19/20 [09:24<00:30, 30.08s/it]\u001b[32m[I 2021-07-01 12:33:55,823]\u001b[0m Trial 25 finished with value: 0.8421885535596957 and parameters: {'num_leaves': 87}. Best is trial 12 with value: 0.8411670032605851.\u001b[0m\n",
      "num_leaves, val_score: 0.841167:  95%|#########5| 19/20 [09:24<00:30, 30.08s/it]"
     ]
    },
    {
     "name": "stdout",
     "output_type": "stream",
     "text": [
      "[LightGBM] [Warning] Auto-choosing row-wise multi-threading, the overhead of testing was 0.073319 seconds.\n",
      "You can set `force_row_wise=true` to remove the overhead.\n",
      "And if memory is not enough, you can set `force_col_wise=true`.\n",
      "[LightGBM] [Info] Total Bins 10184\n",
      "[LightGBM] [Info] Number of data points in the train set: 1172709, number of used features: 112\n",
      "[LightGBM] [Info] Start training from score 0.699385\n"
     ]
    },
    {
     "name": "stderr",
     "output_type": "stream",
     "text": [
      "num_leaves, val_score: 0.841167: 100%|##########| 20/20 [09:56<00:00, 30.74s/it]\u001b[32m[I 2021-07-01 12:34:28,074]\u001b[0m Trial 26 finished with value: 0.8426264012299838 and parameters: {'num_leaves': 123}. Best is trial 12 with value: 0.8411670032605851.\u001b[0m\n",
      "num_leaves, val_score: 0.841167: 100%|##########| 20/20 [09:56<00:00, 29.85s/it]\n",
      "bagging, val_score: 0.841167:   0%|          | 0/10 [00:00<?, ?it/s]"
     ]
    },
    {
     "name": "stdout",
     "output_type": "stream",
     "text": [
      "[LightGBM] [Warning] Auto-choosing row-wise multi-threading, the overhead of testing was 0.069081 seconds.\n",
      "You can set `force_row_wise=true` to remove the overhead.\n",
      "And if memory is not enough, you can set `force_col_wise=true`.\n",
      "[LightGBM] [Info] Total Bins 10184\n",
      "[LightGBM] [Info] Number of data points in the train set: 1172709, number of used features: 112\n",
      "[LightGBM] [Info] Start training from score 0.699385\n"
     ]
    },
    {
     "name": "stderr",
     "output_type": "stream",
     "text": [
      "bagging, val_score: 0.841167:  10%|#         | 1/10 [00:22<03:19, 22.20s/it]\u001b[32m[I 2021-07-01 12:34:50,278]\u001b[0m Trial 27 finished with value: 0.844431472570985 and parameters: {'bagging_fraction': 0.5068373193071081, 'bagging_freq': 5}. Best is trial 27 with value: 0.844431472570985.\u001b[0m\n",
      "bagging, val_score: 0.841167:  10%|#         | 1/10 [00:22<03:19, 22.20s/it]"
     ]
    },
    {
     "name": "stdout",
     "output_type": "stream",
     "text": [
      "[LightGBM] [Warning] Auto-choosing row-wise multi-threading, the overhead of testing was 0.072875 seconds.\n",
      "You can set `force_row_wise=true` to remove the overhead.\n",
      "And if memory is not enough, you can set `force_col_wise=true`.\n",
      "[LightGBM] [Info] Total Bins 10184\n",
      "[LightGBM] [Info] Number of data points in the train set: 1172709, number of used features: 112\n",
      "[LightGBM] [Info] Start training from score 0.699385\n"
     ]
    },
    {
     "name": "stderr",
     "output_type": "stream",
     "text": [
      "bagging, val_score: 0.841167:  20%|##        | 2/10 [00:47<03:10, 23.76s/it]\u001b[32m[I 2021-07-01 12:35:15,128]\u001b[0m Trial 28 finished with value: 0.8457356189643034 and parameters: {'bagging_fraction': 0.5844948150823437, 'bagging_freq': 1}. Best is trial 27 with value: 0.844431472570985.\u001b[0m\n",
      "bagging, val_score: 0.841167:  20%|##        | 2/10 [00:47<03:10, 23.76s/it]"
     ]
    },
    {
     "name": "stdout",
     "output_type": "stream",
     "text": [
      "[LightGBM] [Warning] Auto-choosing row-wise multi-threading, the overhead of testing was 0.072406 seconds.\n",
      "You can set `force_row_wise=true` to remove the overhead.\n",
      "And if memory is not enough, you can set `force_col_wise=true`.\n",
      "[LightGBM] [Info] Total Bins 10184\n",
      "[LightGBM] [Info] Number of data points in the train set: 1172709, number of used features: 112\n",
      "[LightGBM] [Info] Start training from score 0.699385\n"
     ]
    },
    {
     "name": "stderr",
     "output_type": "stream",
     "text": [
      "bagging, val_score: 0.841167:  30%|###       | 3/10 [01:14<02:59, 25.58s/it]\u001b[32m[I 2021-07-01 12:35:42,870]\u001b[0m Trial 29 finished with value: 0.8432428743219487 and parameters: {'bagging_fraction': 0.7116152030343603, 'bagging_freq': 6}. Best is trial 29 with value: 0.8432428743219487.\u001b[0m\n",
      "bagging, val_score: 0.841167:  30%|###       | 3/10 [01:14<02:59, 25.58s/it]"
     ]
    },
    {
     "name": "stdout",
     "output_type": "stream",
     "text": [
      "[LightGBM] [Warning] Auto-choosing row-wise multi-threading, the overhead of testing was 0.071659 seconds.\n",
      "You can set `force_row_wise=true` to remove the overhead.\n",
      "And if memory is not enough, you can set `force_col_wise=true`.\n",
      "[LightGBM] [Info] Total Bins 10184\n",
      "[LightGBM] [Info] Number of data points in the train set: 1172709, number of used features: 112\n",
      "[LightGBM] [Info] Start training from score 0.699385\n"
     ]
    },
    {
     "name": "stderr",
     "output_type": "stream",
     "text": [
      "bagging, val_score: 0.841167:  40%|####      | 4/10 [01:32<02:14, 22.40s/it]\u001b[32m[I 2021-07-01 12:36:00,401]\u001b[0m Trial 30 finished with value: 0.8457231329908186 and parameters: {'bagging_fraction': 0.43697899018576675, 'bagging_freq': 5}. Best is trial 29 with value: 0.8432428743219487.\u001b[0m\n",
      "bagging, val_score: 0.841167:  40%|####      | 4/10 [01:32<02:14, 22.40s/it]"
     ]
    },
    {
     "name": "stdout",
     "output_type": "stream",
     "text": [
      "[LightGBM] [Warning] Auto-choosing row-wise multi-threading, the overhead of testing was 0.069070 seconds.\n",
      "You can set `force_row_wise=true` to remove the overhead.\n",
      "And if memory is not enough, you can set `force_col_wise=true`.\n",
      "[LightGBM] [Info] Total Bins 10184\n",
      "[LightGBM] [Info] Number of data points in the train set: 1172709, number of used features: 112\n",
      "[LightGBM] [Info] Start training from score 0.699385\n"
     ]
    },
    {
     "name": "stderr",
     "output_type": "stream",
     "text": [
      "bagging, val_score: 0.841167:  50%|#####     | 5/10 [02:09<02:18, 27.61s/it]\u001b[32m[I 2021-07-01 12:36:37,256]\u001b[0m Trial 31 finished with value: 0.8420533382683743 and parameters: {'bagging_fraction': 0.9322481091574355, 'bagging_freq': 2}. Best is trial 31 with value: 0.8420533382683743.\u001b[0m\n",
      "bagging, val_score: 0.841167:  50%|#####     | 5/10 [02:09<02:18, 27.61s/it]"
     ]
    },
    {
     "name": "stdout",
     "output_type": "stream",
     "text": [
      "[LightGBM] [Warning] Auto-choosing row-wise multi-threading, the overhead of testing was 0.070626 seconds.\n",
      "You can set `force_row_wise=true` to remove the overhead.\n",
      "And if memory is not enough, you can set `force_col_wise=true`.\n",
      "[LightGBM] [Info] Total Bins 10184\n",
      "[LightGBM] [Info] Number of data points in the train set: 1172709, number of used features: 112\n",
      "[LightGBM] [Info] Start training from score 0.699385\n"
     ]
    },
    {
     "name": "stderr",
     "output_type": "stream",
     "text": [
      "bagging, val_score: 0.841167:  60%|######    | 6/10 [02:45<02:01, 30.41s/it]\u001b[32m[I 2021-07-01 12:37:13,084]\u001b[0m Trial 32 finished with value: 0.8420028212637581 and parameters: {'bagging_fraction': 0.9556007251462276, 'bagging_freq': 5}. Best is trial 32 with value: 0.8420028212637581.\u001b[0m\n",
      "bagging, val_score: 0.841167:  60%|######    | 6/10 [02:45<02:01, 30.41s/it]"
     ]
    },
    {
     "name": "stdout",
     "output_type": "stream",
     "text": [
      "[LightGBM] [Warning] Auto-choosing row-wise multi-threading, the overhead of testing was 0.068638 seconds.\n",
      "You can set `force_row_wise=true` to remove the overhead.\n",
      "And if memory is not enough, you can set `force_col_wise=true`.\n",
      "[LightGBM] [Info] Total Bins 10184\n",
      "[LightGBM] [Info] Number of data points in the train set: 1172709, number of used features: 112\n",
      "[LightGBM] [Info] Start training from score 0.699385\n"
     ]
    },
    {
     "name": "stderr",
     "output_type": "stream",
     "text": [
      "bagging, val_score: 0.841167:  70%|#######   | 7/10 [03:09<01:25, 28.47s/it]\u001b[32m[I 2021-07-01 12:37:37,573]\u001b[0m Trial 33 finished with value: 0.8459491139821979 and parameters: {'bagging_fraction': 0.579335813138124, 'bagging_freq': 1}. Best is trial 32 with value: 0.8420028212637581.\u001b[0m\n",
      "bagging, val_score: 0.841167:  70%|#######   | 7/10 [03:09<01:25, 28.47s/it]"
     ]
    },
    {
     "name": "stdout",
     "output_type": "stream",
     "text": [
      "[LightGBM] [Warning] Auto-choosing row-wise multi-threading, the overhead of testing was 0.073829 seconds.\n",
      "You can set `force_row_wise=true` to remove the overhead.\n",
      "And if memory is not enough, you can set `force_col_wise=true`.\n",
      "[LightGBM] [Info] Total Bins 10184\n",
      "[LightGBM] [Info] Number of data points in the train set: 1172709, number of used features: 112\n",
      "[LightGBM] [Info] Start training from score 0.699385\n"
     ]
    },
    {
     "name": "stderr",
     "output_type": "stream",
     "text": [
      "bagging, val_score: 0.841167:  80%|########  | 8/10 [03:45<01:01, 30.78s/it]\u001b[32m[I 2021-07-01 12:38:13,302]\u001b[0m Trial 34 finished with value: 0.8429091176645739 and parameters: {'bagging_fraction': 0.9266504390435455, 'bagging_freq': 4}. Best is trial 32 with value: 0.8420028212637581.\u001b[0m\n",
      "bagging, val_score: 0.841167:  80%|########  | 8/10 [03:45<01:01, 30.78s/it]"
     ]
    },
    {
     "name": "stdout",
     "output_type": "stream",
     "text": [
      "[LightGBM] [Warning] Auto-choosing row-wise multi-threading, the overhead of testing was 0.073516 seconds.\n",
      "You can set `force_row_wise=true` to remove the overhead.\n",
      "And if memory is not enough, you can set `force_col_wise=true`.\n",
      "[LightGBM] [Info] Total Bins 10184\n",
      "[LightGBM] [Info] Number of data points in the train set: 1172709, number of used features: 112\n",
      "[LightGBM] [Info] Start training from score 0.699385\n"
     ]
    },
    {
     "name": "stderr",
     "output_type": "stream",
     "text": [
      "bagging, val_score: 0.841167:  90%|######### | 9/10 [04:12<00:29, 29.78s/it]\u001b[32m[I 2021-07-01 12:38:40,863]\u001b[0m Trial 35 finished with value: 0.8432369291591039 and parameters: {'bagging_fraction': 0.719951836055245, 'bagging_freq': 7}. Best is trial 32 with value: 0.8420028212637581.\u001b[0m\n",
      "bagging, val_score: 0.841167:  90%|######### | 9/10 [04:12<00:29, 29.78s/it]"
     ]
    },
    {
     "name": "stdout",
     "output_type": "stream",
     "text": [
      "[LightGBM] [Warning] Auto-choosing row-wise multi-threading, the overhead of testing was 0.074487 seconds.\n",
      "You can set `force_row_wise=true` to remove the overhead.\n",
      "And if memory is not enough, you can set `force_col_wise=true`.\n",
      "[LightGBM] [Info] Total Bins 10184\n",
      "[LightGBM] [Info] Number of data points in the train set: 1172709, number of used features: 112\n",
      "[LightGBM] [Info] Start training from score 0.699385\n"
     ]
    },
    {
     "name": "stderr",
     "output_type": "stream",
     "text": [
      "bagging, val_score: 0.841167: 100%|##########| 10/10 [04:35<00:00, 27.73s/it]\u001b[32m[I 2021-07-01 12:39:04,016]\u001b[0m Trial 36 finished with value: 0.8480504158686432 and parameters: {'bagging_fraction': 0.652763296669931, 'bagging_freq': 3}. Best is trial 32 with value: 0.8420028212637581.\u001b[0m\n",
      "bagging, val_score: 0.841167: 100%|##########| 10/10 [04:35<00:00, 27.59s/it]\n",
      "feature_fraction_stage2, val_score: 0.841167:   0%|          | 0/6 [00:00<?, ?it/s]"
     ]
    },
    {
     "name": "stdout",
     "output_type": "stream",
     "text": [
      "[LightGBM] [Warning] Auto-choosing col-wise multi-threading, the overhead of testing was 0.293902 seconds.\n",
      "You can set `force_col_wise=true` to remove the overhead.\n",
      "[LightGBM] [Info] Total Bins 10184\n",
      "[LightGBM] [Info] Number of data points in the train set: 1172709, number of used features: 112\n",
      "[LightGBM] [Info] Start training from score 0.699385\n"
     ]
    },
    {
     "name": "stderr",
     "output_type": "stream",
     "text": [
      "feature_fraction_stage2, val_score: 0.841167:  17%|#6        | 1/6 [00:25<02:09, 25.98s/it]\u001b[32m[I 2021-07-01 12:39:30,000]\u001b[0m Trial 37 finished with value: 0.8414056190421098 and parameters: {'feature_fraction': 0.58}. Best is trial 37 with value: 0.8414056190421098.\u001b[0m\n",
      "feature_fraction_stage2, val_score: 0.841167:  17%|#6        | 1/6 [00:25<02:09, 25.98s/it]"
     ]
    },
    {
     "name": "stdout",
     "output_type": "stream",
     "text": [
      "[LightGBM] [Warning] Auto-choosing row-wise multi-threading, the overhead of testing was 0.073108 seconds.\n",
      "You can set `force_row_wise=true` to remove the overhead.\n",
      "And if memory is not enough, you can set `force_col_wise=true`.\n",
      "[LightGBM] [Info] Total Bins 10184\n",
      "[LightGBM] [Info] Number of data points in the train set: 1172709, number of used features: 112\n",
      "[LightGBM] [Info] Start training from score 0.699385\n"
     ]
    },
    {
     "name": "stderr",
     "output_type": "stream",
     "text": [
      "feature_fraction_stage2, val_score: 0.841167:  33%|###3      | 2/6 [00:56<01:53, 28.50s/it]\u001b[32m[I 2021-07-01 12:40:00,259]\u001b[0m Trial 38 finished with value: 0.8414183282637371 and parameters: {'feature_fraction': 0.45199999999999996}. Best is trial 37 with value: 0.8414056190421098.\u001b[0m\n",
      "feature_fraction_stage2, val_score: 0.841167:  33%|###3      | 2/6 [00:56<01:53, 28.50s/it]"
     ]
    },
    {
     "name": "stdout",
     "output_type": "stream",
     "text": [
      "[LightGBM] [Warning] Auto-choosing row-wise multi-threading, the overhead of testing was 0.075083 seconds.\n",
      "You can set `force_row_wise=true` to remove the overhead.\n",
      "And if memory is not enough, you can set `force_col_wise=true`.\n",
      "[LightGBM] [Info] Total Bins 10184\n",
      "[LightGBM] [Info] Number of data points in the train set: 1172709, number of used features: 112\n",
      "[LightGBM] [Info] Start training from score 0.699385\n"
     ]
    },
    {
     "name": "stderr",
     "output_type": "stream",
     "text": [
      "feature_fraction_stage2, val_score: 0.840908:  50%|#####     | 3/6 [01:27<01:28, 29.63s/it]\u001b[32m[I 2021-07-01 12:40:31,229]\u001b[0m Trial 39 finished with value: 0.840908307601635 and parameters: {'feature_fraction': 0.516}. Best is trial 39 with value: 0.840908307601635.\u001b[0m\n",
      "feature_fraction_stage2, val_score: 0.840908:  50%|#####     | 3/6 [01:27<01:28, 29.63s/it]"
     ]
    },
    {
     "name": "stdout",
     "output_type": "stream",
     "text": [
      "[LightGBM] [Warning] Auto-choosing col-wise multi-threading, the overhead of testing was 0.220121 seconds.\n",
      "You can set `force_col_wise=true` to remove the overhead.\n",
      "[LightGBM] [Info] Total Bins 10184\n",
      "[LightGBM] [Info] Number of data points in the train set: 1172709, number of used features: 112\n",
      "[LightGBM] [Info] Start training from score 0.699385\n"
     ]
    },
    {
     "name": "stderr",
     "output_type": "stream",
     "text": [
      "feature_fraction_stage2, val_score: 0.840908:  67%|######6   | 4/6 [01:51<00:55, 27.66s/it]\u001b[32m[I 2021-07-01 12:40:55,879]\u001b[0m Trial 40 finished with value: 0.8417393522433607 and parameters: {'feature_fraction': 0.5479999999999999}. Best is trial 39 with value: 0.840908307601635.\u001b[0m\n",
      "feature_fraction_stage2, val_score: 0.840908:  67%|######6   | 4/6 [01:51<00:55, 27.66s/it]"
     ]
    },
    {
     "name": "stdout",
     "output_type": "stream",
     "text": [
      "[LightGBM] [Warning] Auto-choosing row-wise multi-threading, the overhead of testing was 0.072337 seconds.\n",
      "You can set `force_row_wise=true` to remove the overhead.\n",
      "And if memory is not enough, you can set `force_col_wise=true`.\n",
      "[LightGBM] [Info] Total Bins 10184\n",
      "[LightGBM] [Info] Number of data points in the train set: 1172709, number of used features: 112\n",
      "[LightGBM] [Info] Start training from score 0.699385\n"
     ]
    },
    {
     "name": "stderr",
     "output_type": "stream",
     "text": [
      "feature_fraction_stage2, val_score: 0.840908:  83%|########3 | 5/6 [02:16<00:26, 26.53s/it]\u001b[32m[I 2021-07-01 12:41:20,407]\u001b[0m Trial 41 finished with value: 0.845919097448745 and parameters: {'feature_fraction': 0.42}. Best is trial 39 with value: 0.840908307601635.\u001b[0m\n",
      "feature_fraction_stage2, val_score: 0.840908:  83%|########3 | 5/6 [02:16<00:26, 26.53s/it]"
     ]
    },
    {
     "name": "stdout",
     "output_type": "stream",
     "text": [
      "[LightGBM] [Warning] Auto-choosing row-wise multi-threading, the overhead of testing was 0.069196 seconds.\n",
      "You can set `force_row_wise=true` to remove the overhead.\n",
      "And if memory is not enough, you can set `force_col_wise=true`.\n",
      "[LightGBM] [Info] Total Bins 10184\n",
      "[LightGBM] [Info] Number of data points in the train set: 1172709, number of used features: 112\n",
      "[LightGBM] [Info] Start training from score 0.699385\n"
     ]
    },
    {
     "name": "stderr",
     "output_type": "stream",
     "text": [
      "feature_fraction_stage2, val_score: 0.840908: 100%|##########| 6/6 [02:47<00:00, 27.94s/it]\u001b[32m[I 2021-07-01 12:41:51,092]\u001b[0m Trial 42 finished with value: 0.8420260231656468 and parameters: {'feature_fraction': 0.484}. Best is trial 39 with value: 0.840908307601635.\u001b[0m\n",
      "feature_fraction_stage2, val_score: 0.840908: 100%|##########| 6/6 [02:47<00:00, 27.85s/it]\n",
      "regularization_factors, val_score: 0.840908:   0%|          | 0/20 [00:00<?, ?it/s]"
     ]
    },
    {
     "name": "stdout",
     "output_type": "stream",
     "text": [
      "[LightGBM] [Warning] Auto-choosing row-wise multi-threading, the overhead of testing was 0.076113 seconds.\n",
      "You can set `force_row_wise=true` to remove the overhead.\n",
      "And if memory is not enough, you can set `force_col_wise=true`.\n",
      "[LightGBM] [Info] Total Bins 10184\n",
      "[LightGBM] [Info] Number of data points in the train set: 1172709, number of used features: 112\n",
      "[LightGBM] [Info] Start training from score 0.699385\n"
     ]
    },
    {
     "name": "stderr",
     "output_type": "stream",
     "text": [
      "regularization_factors, val_score: 0.840908:   5%|5         | 1/20 [00:30<09:31, 30.08s/it]\u001b[32m[I 2021-07-01 12:42:21,180]\u001b[0m Trial 43 finished with value: 0.842006624367795 and parameters: {'lambda_l1': 3.67468407750813e-08, 'lambda_l2': 0.018985812370998504}. Best is trial 43 with value: 0.842006624367795.\u001b[0m\n",
      "regularization_factors, val_score: 0.840908:   5%|5         | 1/20 [00:30<09:31, 30.08s/it]"
     ]
    },
    {
     "name": "stdout",
     "output_type": "stream",
     "text": [
      "[LightGBM] [Warning] Auto-choosing row-wise multi-threading, the overhead of testing was 0.072788 seconds.\n",
      "You can set `force_row_wise=true` to remove the overhead.\n",
      "And if memory is not enough, you can set `force_col_wise=true`.\n",
      "[LightGBM] [Info] Total Bins 10184\n",
      "[LightGBM] [Info] Number of data points in the train set: 1172709, number of used features: 112\n",
      "[LightGBM] [Info] Start training from score 0.699385\n"
     ]
    },
    {
     "name": "stderr",
     "output_type": "stream",
     "text": [
      "regularization_factors, val_score: 0.840908:  10%|#         | 2/20 [00:58<08:43, 29.09s/it]\u001b[32m[I 2021-07-01 12:42:49,584]\u001b[0m Trial 44 finished with value: 0.8422190657845253 and parameters: {'lambda_l1': 0.0035480715442131345, 'lambda_l2': 1.6318091032750463e-08}. Best is trial 43 with value: 0.842006624367795.\u001b[0m\n",
      "regularization_factors, val_score: 0.840908:  10%|#         | 2/20 [00:58<08:43, 29.09s/it]"
     ]
    },
    {
     "name": "stdout",
     "output_type": "stream",
     "text": [
      "[LightGBM] [Warning] Auto-choosing row-wise multi-threading, the overhead of testing was 0.072343 seconds.\n",
      "You can set `force_row_wise=true` to remove the overhead.\n",
      "And if memory is not enough, you can set `force_col_wise=true`.\n",
      "[LightGBM] [Info] Total Bins 10184\n",
      "[LightGBM] [Info] Number of data points in the train set: 1172709, number of used features: 112\n",
      "[LightGBM] [Info] Start training from score 0.699385\n"
     ]
    },
    {
     "name": "stderr",
     "output_type": "stream",
     "text": [
      "regularization_factors, val_score: 0.840908:  15%|#5        | 3/20 [01:30<08:34, 30.24s/it]\u001b[32m[I 2021-07-01 12:43:21,194]\u001b[0m Trial 45 finished with value: 0.841125385251633 and parameters: {'lambda_l1': 0.018391505258294957, 'lambda_l2': 0.13028800037290442}. Best is trial 45 with value: 0.841125385251633.\u001b[0m\n",
      "regularization_factors, val_score: 0.840908:  15%|#5        | 3/20 [01:30<08:34, 30.24s/it]"
     ]
    },
    {
     "name": "stdout",
     "output_type": "stream",
     "text": [
      "[LightGBM] [Warning] Auto-choosing row-wise multi-threading, the overhead of testing was 0.073720 seconds.\n",
      "You can set `force_row_wise=true` to remove the overhead.\n",
      "And if memory is not enough, you can set `force_col_wise=true`.\n",
      "[LightGBM] [Info] Total Bins 10184\n",
      "[LightGBM] [Info] Number of data points in the train set: 1172709, number of used features: 112\n",
      "[LightGBM] [Info] Start training from score 0.699385\n"
     ]
    },
    {
     "name": "stderr",
     "output_type": "stream",
     "text": [
      "regularization_factors, val_score: 0.840908:  20%|##        | 4/20 [01:58<07:51, 29.48s/it]\u001b[32m[I 2021-07-01 12:43:49,513]\u001b[0m Trial 46 finished with value: 0.8422300559844658 and parameters: {'lambda_l1': 2.6872696947229008e-08, 'lambda_l2': 0.226517183807592}. Best is trial 45 with value: 0.841125385251633.\u001b[0m\n",
      "regularization_factors, val_score: 0.840908:  20%|##        | 4/20 [01:58<07:51, 29.48s/it]"
     ]
    },
    {
     "name": "stdout",
     "output_type": "stream",
     "text": [
      "[LightGBM] [Warning] Auto-choosing row-wise multi-threading, the overhead of testing was 0.079224 seconds.\n",
      "You can set `force_row_wise=true` to remove the overhead.\n",
      "And if memory is not enough, you can set `force_col_wise=true`.\n",
      "[LightGBM] [Info] Total Bins 10184\n",
      "[LightGBM] [Info] Number of data points in the train set: 1172709, number of used features: 112\n",
      "[LightGBM] [Info] Start training from score 0.699385\n"
     ]
    },
    {
     "name": "stderr",
     "output_type": "stream",
     "text": [
      "regularization_factors, val_score: 0.840908:  25%|##5       | 5/20 [02:28<07:27, 29.85s/it]\u001b[32m[I 2021-07-01 12:44:20,009]\u001b[0m Trial 47 finished with value: 0.8413853875122286 and parameters: {'lambda_l1': 0.00014945384540268072, 'lambda_l2': 0.00024047012876639642}. Best is trial 45 with value: 0.841125385251633.\u001b[0m\n",
      "regularization_factors, val_score: 0.840908:  25%|##5       | 5/20 [02:28<07:27, 29.85s/it]"
     ]
    },
    {
     "name": "stdout",
     "output_type": "stream",
     "text": [
      "[LightGBM] [Warning] Auto-choosing row-wise multi-threading, the overhead of testing was 0.073479 seconds.\n",
      "You can set `force_row_wise=true` to remove the overhead.\n",
      "And if memory is not enough, you can set `force_col_wise=true`.\n",
      "[LightGBM] [Info] Total Bins 10184\n",
      "[LightGBM] [Info] Number of data points in the train set: 1172709, number of used features: 112\n",
      "[LightGBM] [Info] Start training from score 0.699385\n"
     ]
    },
    {
     "name": "stderr",
     "output_type": "stream",
     "text": [
      "regularization_factors, val_score: 0.840908:  30%|###       | 6/20 [03:01<07:09, 30.65s/it]\u001b[32m[I 2021-07-01 12:44:52,205]\u001b[0m Trial 48 finished with value: 0.8409962362191514 and parameters: {'lambda_l1': 6.992003813142629e-08, 'lambda_l2': 0.031616216929345554}. Best is trial 48 with value: 0.8409962362191514.\u001b[0m\n",
      "regularization_factors, val_score: 0.840908:  30%|###       | 6/20 [03:01<07:09, 30.65s/it]"
     ]
    },
    {
     "name": "stdout",
     "output_type": "stream",
     "text": [
      "[LightGBM] [Warning] Auto-choosing row-wise multi-threading, the overhead of testing was 0.070704 seconds.\n",
      "You can set `force_row_wise=true` to remove the overhead.\n",
      "And if memory is not enough, you can set `force_col_wise=true`.\n",
      "[LightGBM] [Info] Total Bins 10184\n",
      "[LightGBM] [Info] Number of data points in the train set: 1172709, number of used features: 112\n",
      "[LightGBM] [Info] Start training from score 0.699385\n"
     ]
    },
    {
     "name": "stderr",
     "output_type": "stream",
     "text": [
      "regularization_factors, val_score: 0.840908:  35%|###5      | 7/20 [03:29<06:28, 29.88s/it]\u001b[32m[I 2021-07-01 12:45:20,507]\u001b[0m Trial 49 finished with value: 0.8419976647096663 and parameters: {'lambda_l1': 3.8567101465079583, 'lambda_l2': 8.180037518103602e-06}. Best is trial 48 with value: 0.8409962362191514.\u001b[0m\n",
      "regularization_factors, val_score: 0.840908:  35%|###5      | 7/20 [03:29<06:28, 29.88s/it]"
     ]
    },
    {
     "name": "stdout",
     "output_type": "stream",
     "text": [
      "[LightGBM] [Warning] Auto-choosing row-wise multi-threading, the overhead of testing was 0.070458 seconds.\n",
      "You can set `force_row_wise=true` to remove the overhead.\n",
      "And if memory is not enough, you can set `force_col_wise=true`.\n",
      "[LightGBM] [Info] Total Bins 10184\n",
      "[LightGBM] [Info] Number of data points in the train set: 1172709, number of used features: 112\n",
      "[LightGBM] [Info] Start training from score 0.699385\n"
     ]
    },
    {
     "name": "stderr",
     "output_type": "stream",
     "text": [
      "regularization_factors, val_score: 0.840908:  40%|####      | 8/20 [03:59<05:58, 29.91s/it]\u001b[32m[I 2021-07-01 12:45:50,485]\u001b[0m Trial 50 finished with value: 0.8420081200427056 and parameters: {'lambda_l1': 5.455329996054334e-07, 'lambda_l2': 0.019492842001103128}. Best is trial 48 with value: 0.8409962362191514.\u001b[0m\n",
      "regularization_factors, val_score: 0.840908:  40%|####      | 8/20 [03:59<05:58, 29.91s/it]"
     ]
    },
    {
     "name": "stdout",
     "output_type": "stream",
     "text": [
      "[LightGBM] [Warning] Auto-choosing row-wise multi-threading, the overhead of testing was 0.070343 seconds.\n",
      "You can set `force_row_wise=true` to remove the overhead.\n",
      "And if memory is not enough, you can set `force_col_wise=true`.\n",
      "[LightGBM] [Info] Total Bins 10184\n",
      "[LightGBM] [Info] Number of data points in the train set: 1172709, number of used features: 112\n",
      "[LightGBM] [Info] Start training from score 0.699385\n"
     ]
    },
    {
     "name": "stderr",
     "output_type": "stream",
     "text": [
      "regularization_factors, val_score: 0.840908:  45%|####5     | 9/20 [04:26<05:19, 29.07s/it]\u001b[32m[I 2021-07-01 12:46:17,702]\u001b[0m Trial 51 finished with value: 0.8422740106076583 and parameters: {'lambda_l1': 0.09653345064234002, 'lambda_l2': 2.645860462360501e-07}. Best is trial 48 with value: 0.8409962362191514.\u001b[0m\n",
      "regularization_factors, val_score: 0.840908:  45%|####5     | 9/20 [04:26<05:19, 29.07s/it]"
     ]
    },
    {
     "name": "stdout",
     "output_type": "stream",
     "text": [
      "[LightGBM] [Warning] Auto-choosing row-wise multi-threading, the overhead of testing was 0.074800 seconds.\n",
      "You can set `force_row_wise=true` to remove the overhead.\n",
      "And if memory is not enough, you can set `force_col_wise=true`.\n",
      "[LightGBM] [Info] Total Bins 10184\n",
      "[LightGBM] [Info] Number of data points in the train set: 1172709, number of used features: 112\n",
      "[LightGBM] [Info] Start training from score 0.699385\n"
     ]
    },
    {
     "name": "stderr",
     "output_type": "stream",
     "text": [
      "regularization_factors, val_score: 0.840908:  50%|#####     | 10/20 [04:55<04:49, 28.92s/it]\u001b[32m[I 2021-07-01 12:46:46,286]\u001b[0m Trial 52 finished with value: 0.8414244674893786 and parameters: {'lambda_l1': 0.6132331358295141, 'lambda_l2': 1.187165043590008e-05}. Best is trial 48 with value: 0.8409962362191514.\u001b[0m\n",
      "regularization_factors, val_score: 0.840908:  50%|#####     | 10/20 [04:55<04:49, 28.92s/it]"
     ]
    },
    {
     "name": "stdout",
     "output_type": "stream",
     "text": [
      "[LightGBM] [Warning] Auto-choosing row-wise multi-threading, the overhead of testing was 0.070598 seconds.\n",
      "You can set `force_row_wise=true` to remove the overhead.\n",
      "And if memory is not enough, you can set `force_col_wise=true`.\n",
      "[LightGBM] [Info] Total Bins 10184\n",
      "[LightGBM] [Info] Number of data points in the train set: 1172709, number of used features: 112\n",
      "[LightGBM] [Info] Start training from score 0.699385\n"
     ]
    },
    {
     "name": "stderr",
     "output_type": "stream",
     "text": [
      "regularization_factors, val_score: 0.840885:  55%|#####5    | 11/20 [05:24<04:22, 29.19s/it]\u001b[32m[I 2021-07-01 12:47:16,081]\u001b[0m Trial 53 finished with value: 0.8408851468434623 and parameters: {'lambda_l1': 5.98074224615756e-06, 'lambda_l2': 4.259448834054004}. Best is trial 53 with value: 0.8408851468434623.\u001b[0m\n",
      "regularization_factors, val_score: 0.840885:  55%|#####5    | 11/20 [05:24<04:22, 29.19s/it]"
     ]
    },
    {
     "name": "stdout",
     "output_type": "stream",
     "text": [
      "[LightGBM] [Warning] Auto-choosing row-wise multi-threading, the overhead of testing was 0.075333 seconds.\n",
      "You can set `force_row_wise=true` to remove the overhead.\n",
      "And if memory is not enough, you can set `force_col_wise=true`.\n",
      "[LightGBM] [Info] Total Bins 10184\n",
      "[LightGBM] [Info] Number of data points in the train set: 1172709, number of used features: 112\n",
      "[LightGBM] [Info] Start training from score 0.699385\n"
     ]
    },
    {
     "name": "stderr",
     "output_type": "stream",
     "text": [
      "regularization_factors, val_score: 0.840885:  60%|######    | 12/20 [05:52<03:48, 28.62s/it]\u001b[32m[I 2021-07-01 12:47:43,399]\u001b[0m Trial 54 finished with value: 0.8424625014205201 and parameters: {'lambda_l1': 7.365961371764639e-06, 'lambda_l2': 7.97429149905711}. Best is trial 53 with value: 0.8408851468434623.\u001b[0m\n",
      "regularization_factors, val_score: 0.840885:  60%|######    | 12/20 [05:52<03:48, 28.62s/it]"
     ]
    },
    {
     "name": "stdout",
     "output_type": "stream",
     "text": [
      "[LightGBM] [Warning] Auto-choosing row-wise multi-threading, the overhead of testing was 0.070302 seconds.\n",
      "You can set `force_row_wise=true` to remove the overhead.\n",
      "And if memory is not enough, you can set `force_col_wise=true`.\n",
      "[LightGBM] [Info] Total Bins 10184\n",
      "[LightGBM] [Info] Number of data points in the train set: 1172709, number of used features: 112\n",
      "[LightGBM] [Info] Start training from score 0.699385\n"
     ]
    },
    {
     "name": "stderr",
     "output_type": "stream",
     "text": [
      "regularization_factors, val_score: 0.840885:  65%|######5   | 13/20 [06:22<03:23, 29.00s/it]\u001b[32m[I 2021-07-01 12:48:13,279]\u001b[0m Trial 55 finished with value: 0.8414670932737066 and parameters: {'lambda_l1': 7.025945600578102e-06, 'lambda_l2': 0.63749698825338}. Best is trial 53 with value: 0.8408851468434623.\u001b[0m\n",
      "regularization_factors, val_score: 0.840885:  65%|######5   | 13/20 [06:22<03:23, 29.00s/it]"
     ]
    },
    {
     "name": "stdout",
     "output_type": "stream",
     "text": [
      "[LightGBM] [Warning] Auto-choosing row-wise multi-threading, the overhead of testing was 0.070021 seconds.\n",
      "You can set `force_row_wise=true` to remove the overhead.\n",
      "And if memory is not enough, you can set `force_col_wise=true`.\n",
      "[LightGBM] [Info] Total Bins 10184\n",
      "[LightGBM] [Info] Number of data points in the train set: 1172709, number of used features: 112\n",
      "[LightGBM] [Info] Start training from score 0.699385\n"
     ]
    },
    {
     "name": "stderr",
     "output_type": "stream",
     "text": [
      "regularization_factors, val_score: 0.840885:  70%|#######   | 14/20 [06:54<02:59, 29.86s/it]\u001b[32m[I 2021-07-01 12:48:45,133]\u001b[0m Trial 56 finished with value: 0.8415629755674315 and parameters: {'lambda_l1': 7.52963312354377e-07, 'lambda_l2': 3.914215792503631}. Best is trial 53 with value: 0.8408851468434623.\u001b[0m\n",
      "regularization_factors, val_score: 0.840885:  70%|#######   | 14/20 [06:54<02:59, 29.86s/it]"
     ]
    },
    {
     "name": "stdout",
     "output_type": "stream",
     "text": [
      "[LightGBM] [Warning] Auto-choosing row-wise multi-threading, the overhead of testing was 0.071840 seconds.\n",
      "You can set `force_row_wise=true` to remove the overhead.\n",
      "And if memory is not enough, you can set `force_col_wise=true`.\n",
      "[LightGBM] [Info] Total Bins 10184\n",
      "[LightGBM] [Info] Number of data points in the train set: 1172709, number of used features: 112\n",
      "[LightGBM] [Info] Start training from score 0.699385\n"
     ]
    },
    {
     "name": "stderr",
     "output_type": "stream",
     "text": [
      "regularization_factors, val_score: 0.840885:  75%|#######5  | 15/20 [07:24<02:30, 30.05s/it]\u001b[32m[I 2021-07-01 12:49:15,604]\u001b[0m Trial 57 finished with value: 0.8413013953464789 and parameters: {'lambda_l1': 1.00265105434484e-08, 'lambda_l2': 0.004057559164820877}. Best is trial 53 with value: 0.8408851468434623.\u001b[0m\n",
      "regularization_factors, val_score: 0.840885:  75%|#######5  | 15/20 [07:24<02:30, 30.05s/it]"
     ]
    },
    {
     "name": "stdout",
     "output_type": "stream",
     "text": [
      "[LightGBM] [Warning] Auto-choosing row-wise multi-threading, the overhead of testing was 0.076196 seconds.\n",
      "You can set `force_row_wise=true` to remove the overhead.\n",
      "And if memory is not enough, you can set `force_col_wise=true`.\n",
      "[LightGBM] [Info] Total Bins 10184\n",
      "[LightGBM] [Info] Number of data points in the train set: 1172709, number of used features: 112\n",
      "[LightGBM] [Info] Start training from score 0.699385\n"
     ]
    },
    {
     "name": "stderr",
     "output_type": "stream",
     "text": [
      "regularization_factors, val_score: 0.840885:  80%|########  | 16/20 [07:53<01:58, 29.66s/it]\u001b[32m[I 2021-07-01 12:49:44,373]\u001b[0m Trial 58 finished with value: 0.8422997380233054 and parameters: {'lambda_l1': 0.00014560205462777124, 'lambda_l2': 0.0005798643526568987}. Best is trial 53 with value: 0.8408851468434623.\u001b[0m\n",
      "regularization_factors, val_score: 0.840885:  80%|########  | 16/20 [07:53<01:58, 29.66s/it]"
     ]
    },
    {
     "name": "stdout",
     "output_type": "stream",
     "text": [
      "[LightGBM] [Warning] Auto-choosing row-wise multi-threading, the overhead of testing was 0.073296 seconds.\n",
      "You can set `force_row_wise=true` to remove the overhead.\n",
      "And if memory is not enough, you can set `force_col_wise=true`.\n",
      "[LightGBM] [Info] Total Bins 10184\n",
      "[LightGBM] [Info] Number of data points in the train set: 1172709, number of used features: 112\n",
      "[LightGBM] [Info] Start training from score 0.699385\n"
     ]
    },
    {
     "name": "stderr",
     "output_type": "stream",
     "text": [
      "regularization_factors, val_score: 0.840885:  85%|########5 | 17/20 [08:24<01:30, 30.25s/it]\u001b[32m[I 2021-07-01 12:50:15,991]\u001b[0m Trial 59 finished with value: 0.8410904818740742 and parameters: {'lambda_l1': 3.9507438579700504e-07, 'lambda_l2': 6.285485226978477}. Best is trial 53 with value: 0.8408851468434623.\u001b[0m\n",
      "regularization_factors, val_score: 0.840885:  85%|########5 | 17/20 [08:24<01:30, 30.25s/it]"
     ]
    },
    {
     "name": "stdout",
     "output_type": "stream",
     "text": [
      "[LightGBM] [Warning] Auto-choosing row-wise multi-threading, the overhead of testing was 0.078640 seconds.\n",
      "You can set `force_row_wise=true` to remove the overhead.\n",
      "And if memory is not enough, you can set `force_col_wise=true`.\n",
      "[LightGBM] [Info] Total Bins 10184\n",
      "[LightGBM] [Info] Number of data points in the train set: 1172709, number of used features: 112\n",
      "[LightGBM] [Info] Start training from score 0.699385\n"
     ]
    },
    {
     "name": "stderr",
     "output_type": "stream",
     "text": [
      "regularization_factors, val_score: 0.840212:  90%|######### | 18/20 [08:56<01:01, 30.77s/it]\u001b[32m[I 2021-07-01 12:50:47,986]\u001b[0m Trial 60 finished with value: 0.840212085204121 and parameters: {'lambda_l1': 9.507051735075546e-06, 'lambda_l2': 1.7992356814795836}. Best is trial 60 with value: 0.840212085204121.\u001b[0m\n",
      "regularization_factors, val_score: 0.840212:  90%|######### | 18/20 [08:56<01:01, 30.77s/it]"
     ]
    },
    {
     "name": "stdout",
     "output_type": "stream",
     "text": [
      "[LightGBM] [Warning] Auto-choosing row-wise multi-threading, the overhead of testing was 0.073564 seconds.\n",
      "You can set `force_row_wise=true` to remove the overhead.\n",
      "And if memory is not enough, you can set `force_col_wise=true`.\n",
      "[LightGBM] [Info] Total Bins 10184\n",
      "[LightGBM] [Info] Number of data points in the train set: 1172709, number of used features: 112\n",
      "[LightGBM] [Info] Start training from score 0.699385\n"
     ]
    },
    {
     "name": "stderr",
     "output_type": "stream",
     "text": [
      "regularization_factors, val_score: 0.840212:  95%|#########5| 19/20 [09:29<00:31, 31.43s/it]\u001b[32m[I 2021-07-01 12:51:20,933]\u001b[0m Trial 61 finished with value: 0.8408613905416163 and parameters: {'lambda_l1': 1.193531453892734e-05, 'lambda_l2': 1.4045776888578276}. Best is trial 60 with value: 0.840212085204121.\u001b[0m\n",
      "regularization_factors, val_score: 0.840212:  95%|#########5| 19/20 [09:29<00:31, 31.43s/it]"
     ]
    },
    {
     "name": "stdout",
     "output_type": "stream",
     "text": [
      "[LightGBM] [Warning] Auto-choosing row-wise multi-threading, the overhead of testing was 0.077384 seconds.\n",
      "You can set `force_row_wise=true` to remove the overhead.\n",
      "And if memory is not enough, you can set `force_col_wise=true`.\n",
      "[LightGBM] [Info] Total Bins 10184\n",
      "[LightGBM] [Info] Number of data points in the train set: 1172709, number of used features: 112\n",
      "[LightGBM] [Info] Start training from score 0.699385\n"
     ]
    },
    {
     "name": "stderr",
     "output_type": "stream",
     "text": [
      "regularization_factors, val_score: 0.840212: 100%|##########| 20/20 [10:01<00:00, 31.45s/it]\u001b[32m[I 2021-07-01 12:51:52,434]\u001b[0m Trial 62 finished with value: 0.8413333295359076 and parameters: {'lambda_l1': 0.0009764569062548537, 'lambda_l2': 0.8337716674609761}. Best is trial 60 with value: 0.840212085204121.\u001b[0m\n",
      "regularization_factors, val_score: 0.840212: 100%|##########| 20/20 [10:01<00:00, 30.07s/it]\n",
      "min_data_in_leaf, val_score: 0.840212:   0%|          | 0/5 [00:00<?, ?it/s]"
     ]
    },
    {
     "name": "stdout",
     "output_type": "stream",
     "text": [
      "[LightGBM] [Warning] Auto-choosing row-wise multi-threading, the overhead of testing was 0.070581 seconds.\n",
      "You can set `force_row_wise=true` to remove the overhead.\n",
      "And if memory is not enough, you can set `force_col_wise=true`.\n",
      "[LightGBM] [Info] Total Bins 10184\n",
      "[LightGBM] [Info] Number of data points in the train set: 1172709, number of used features: 112\n",
      "[LightGBM] [Info] Start training from score 0.699385\n"
     ]
    },
    {
     "name": "stderr",
     "output_type": "stream",
     "text": [
      "min_data_in_leaf, val_score: 0.838817:  20%|##        | 1/5 [00:30<02:02, 30.52s/it]\u001b[32m[I 2021-07-01 12:52:22,955]\u001b[0m Trial 63 finished with value: 0.8388168817054826 and parameters: {'min_child_samples': 100}. Best is trial 63 with value: 0.8388168817054826.\u001b[0m\n",
      "min_data_in_leaf, val_score: 0.838817:  20%|##        | 1/5 [00:30<02:02, 30.52s/it]"
     ]
    },
    {
     "name": "stdout",
     "output_type": "stream",
     "text": [
      "[LightGBM] [Warning] Auto-choosing row-wise multi-threading, the overhead of testing was 0.077074 seconds.\n",
      "You can set `force_row_wise=true` to remove the overhead.\n",
      "And if memory is not enough, you can set `force_col_wise=true`.\n",
      "[LightGBM] [Info] Total Bins 10184\n",
      "[LightGBM] [Info] Number of data points in the train set: 1172709, number of used features: 112\n",
      "[LightGBM] [Info] Start training from score 0.699385\n"
     ]
    },
    {
     "name": "stderr",
     "output_type": "stream",
     "text": [
      "min_data_in_leaf, val_score: 0.838817:  40%|####      | 2/5 [01:02<01:34, 31.37s/it]\u001b[32m[I 2021-07-01 12:52:54,921]\u001b[0m Trial 64 finished with value: 0.8429568723821009 and parameters: {'min_child_samples': 5}. Best is trial 63 with value: 0.8388168817054826.\u001b[0m\n",
      "min_data_in_leaf, val_score: 0.838817:  40%|####      | 2/5 [01:02<01:34, 31.37s/it]"
     ]
    },
    {
     "name": "stdout",
     "output_type": "stream",
     "text": [
      "[LightGBM] [Warning] Auto-choosing row-wise multi-threading, the overhead of testing was 0.070849 seconds.\n",
      "You can set `force_row_wise=true` to remove the overhead.\n",
      "And if memory is not enough, you can set `force_col_wise=true`.\n",
      "[LightGBM] [Info] Total Bins 10184\n",
      "[LightGBM] [Info] Number of data points in the train set: 1172709, number of used features: 112\n",
      "[LightGBM] [Info] Start training from score 0.699385\n"
     ]
    },
    {
     "name": "stderr",
     "output_type": "stream",
     "text": [
      "min_data_in_leaf, val_score: 0.838817:  60%|######    | 3/5 [01:32<01:01, 30.73s/it]\u001b[32m[I 2021-07-01 12:53:24,888]\u001b[0m Trial 65 finished with value: 0.8410246110758759 and parameters: {'min_child_samples': 25}. Best is trial 63 with value: 0.8388168817054826.\u001b[0m\n",
      "min_data_in_leaf, val_score: 0.838817:  60%|######    | 3/5 [01:32<01:01, 30.73s/it]"
     ]
    },
    {
     "name": "stdout",
     "output_type": "stream",
     "text": [
      "[LightGBM] [Warning] Auto-choosing row-wise multi-threading, the overhead of testing was 0.073354 seconds.\n",
      "You can set `force_row_wise=true` to remove the overhead.\n",
      "And if memory is not enough, you can set `force_col_wise=true`.\n",
      "[LightGBM] [Info] Total Bins 10184\n",
      "[LightGBM] [Info] Number of data points in the train set: 1172709, number of used features: 112\n",
      "[LightGBM] [Info] Start training from score 0.699385\n"
     ]
    },
    {
     "name": "stderr",
     "output_type": "stream",
     "text": [
      "min_data_in_leaf, val_score: 0.838817:  80%|########  | 4/5 [02:03<00:31, 31.01s/it]\u001b[32m[I 2021-07-01 12:53:56,338]\u001b[0m Trial 66 finished with value: 0.8420457242220096 and parameters: {'min_child_samples': 10}. Best is trial 63 with value: 0.8388168817054826.\u001b[0m\n",
      "min_data_in_leaf, val_score: 0.838817:  80%|########  | 4/5 [02:03<00:31, 31.01s/it]"
     ]
    },
    {
     "name": "stdout",
     "output_type": "stream",
     "text": [
      "[LightGBM] [Warning] Auto-choosing row-wise multi-threading, the overhead of testing was 0.074014 seconds.\n",
      "You can set `force_row_wise=true` to remove the overhead.\n",
      "And if memory is not enough, you can set `force_col_wise=true`.\n",
      "[LightGBM] [Info] Total Bins 10184\n",
      "[LightGBM] [Info] Number of data points in the train set: 1172709, number of used features: 112\n",
      "[LightGBM] [Info] Start training from score 0.699385\n"
     ]
    },
    {
     "name": "stderr",
     "output_type": "stream",
     "text": [
      "min_data_in_leaf, val_score: 0.838817: 100%|##########| 5/5 [02:34<00:00, 30.78s/it]\u001b[32m[I 2021-07-01 12:54:26,692]\u001b[0m Trial 67 finished with value: 0.8404862256299214 and parameters: {'min_child_samples': 50}. Best is trial 63 with value: 0.8388168817054826.\u001b[0m\n",
      "min_data_in_leaf, val_score: 0.838817: 100%|##########| 5/5 [02:34<00:00, 30.85s/it]\n"
     ]
    }
   ],
   "source": [
    "tr_idx = tr_idxs[idx]\n",
    "val_idx = val_idxs[idx]\n",
    "\n",
    "x_train = train_X.loc[tr_idx].reset_index(drop=True)\n",
    "y_train = train_y.loc[tr_idx].reset_index(drop=True)\n",
    "x_valid = train_X.loc[val_idx].reset_index(drop=True)\n",
    "y_valid = train_y.loc[val_idx].reset_index(drop=True)\n",
    "\n",
    "trains = lgbm.Dataset(x_train[feature_cols2], y_train['target1'])\n",
    "valids = lgbm.Dataset(x_valid[feature_cols2], y_valid['target1'])\n",
    "\n",
    "\n",
    "model2 = lgbm.train(params, trains, valid_sets=[trains, valids],\n",
    "                    verbose_eval=False)"
   ]
  },
  {
   "cell_type": "code",
   "execution_count": 39,
   "id": "ea49fc8f",
   "metadata": {},
   "outputs": [
    {
     "name": "stderr",
     "output_type": "stream",
     "text": [
      "\u001b[32m[I 2021-07-01 12:54:27,407]\u001b[0m A new study created in memory with name: no-name-8e11746e-6a94-4f62-82cc-87b28750bf98\u001b[0m\n",
      "feature_fraction, val_score: inf:   0%|          | 0/7 [00:00<?, ?it/s]"
     ]
    },
    {
     "name": "stdout",
     "output_type": "stream",
     "text": [
      "[LightGBM] [Warning] Auto-choosing row-wise multi-threading, the overhead of testing was 0.078901 seconds.\n",
      "You can set `force_row_wise=true` to remove the overhead.\n",
      "And if memory is not enough, you can set `force_col_wise=true`.\n",
      "[LightGBM] [Info] Total Bins 10191\n",
      "[LightGBM] [Info] Number of data points in the train set: 1172709, number of used features: 113\n",
      "[LightGBM] [Info] Start training from score 0.699385\n"
     ]
    },
    {
     "name": "stderr",
     "output_type": "stream",
     "text": [
      "feature_fraction, val_score: 0.845576:  14%|#4        | 1/7 [00:18<01:53, 19.00s/it]\u001b[32m[I 2021-07-01 12:54:46,406]\u001b[0m Trial 0 finished with value: 0.8455762878947325 and parameters: {'feature_fraction': 0.8}. Best is trial 0 with value: 0.8455762878947325.\u001b[0m\n",
      "feature_fraction, val_score: 0.845576:  14%|#4        | 1/7 [00:18<01:53, 19.00s/it]"
     ]
    },
    {
     "name": "stdout",
     "output_type": "stream",
     "text": [
      "[LightGBM] [Warning] Auto-choosing row-wise multi-threading, the overhead of testing was 0.082593 seconds.\n",
      "You can set `force_row_wise=true` to remove the overhead.\n",
      "And if memory is not enough, you can set `force_col_wise=true`.\n",
      "[LightGBM] [Info] Total Bins 10191\n",
      "[LightGBM] [Info] Number of data points in the train set: 1172709, number of used features: 113\n",
      "[LightGBM] [Info] Start training from score 0.699385\n"
     ]
    },
    {
     "name": "stderr",
     "output_type": "stream",
     "text": [
      "feature_fraction, val_score: 0.845203:  29%|##8       | 2/7 [00:42<01:47, 21.49s/it]\u001b[32m[I 2021-07-01 12:55:09,648]\u001b[0m Trial 1 finished with value: 0.8452034621972824 and parameters: {'feature_fraction': 0.8999999999999999}. Best is trial 1 with value: 0.8452034621972824.\u001b[0m\n",
      "feature_fraction, val_score: 0.845203:  29%|##8       | 2/7 [00:42<01:47, 21.49s/it]"
     ]
    },
    {
     "name": "stdout",
     "output_type": "stream",
     "text": [
      "[LightGBM] [Warning] Auto-choosing col-wise multi-threading, the overhead of testing was 0.217979 seconds.\n",
      "You can set `force_col_wise=true` to remove the overhead.\n",
      "[LightGBM] [Info] Total Bins 10191\n",
      "[LightGBM] [Info] Number of data points in the train set: 1172709, number of used features: 113\n",
      "[LightGBM] [Info] Start training from score 0.699385\n"
     ]
    },
    {
     "name": "stderr",
     "output_type": "stream",
     "text": [
      "feature_fraction, val_score: 0.843241:  43%|####2     | 3/7 [01:01<01:22, 20.61s/it]\u001b[32m[I 2021-07-01 12:55:29,203]\u001b[0m Trial 2 finished with value: 0.8432405999107841 and parameters: {'feature_fraction': 0.6}. Best is trial 2 with value: 0.8432405999107841.\u001b[0m\n",
      "feature_fraction, val_score: 0.843241:  43%|####2     | 3/7 [01:01<01:22, 20.61s/it]"
     ]
    },
    {
     "name": "stdout",
     "output_type": "stream",
     "text": [
      "[LightGBM] [Warning] Auto-choosing row-wise multi-threading, the overhead of testing was 0.083631 seconds.\n",
      "You can set `force_row_wise=true` to remove the overhead.\n",
      "And if memory is not enough, you can set `force_col_wise=true`.\n",
      "[LightGBM] [Info] Total Bins 10191\n",
      "[LightGBM] [Info] Number of data points in the train set: 1172709, number of used features: 113\n",
      "[LightGBM] [Info] Start training from score 0.699385\n"
     ]
    },
    {
     "name": "stderr",
     "output_type": "stream",
     "text": [
      "feature_fraction, val_score: 0.843241:  57%|#####7    | 4/7 [01:23<01:03, 21.08s/it]\u001b[32m[I 2021-07-01 12:55:51,009]\u001b[0m Trial 3 finished with value: 0.8447120403365161 and parameters: {'feature_fraction': 1.0}. Best is trial 2 with value: 0.8432405999107841.\u001b[0m\n",
      "feature_fraction, val_score: 0.843241:  57%|#####7    | 4/7 [01:23<01:03, 21.08s/it]"
     ]
    },
    {
     "name": "stdout",
     "output_type": "stream",
     "text": [
      "[LightGBM] [Warning] Auto-choosing row-wise multi-threading, the overhead of testing was 0.072141 seconds.\n",
      "You can set `force_row_wise=true` to remove the overhead.\n",
      "And if memory is not enough, you can set `force_col_wise=true`.\n",
      "[LightGBM] [Info] Total Bins 10191\n",
      "[LightGBM] [Info] Number of data points in the train set: 1172709, number of used features: 113\n",
      "[LightGBM] [Info] Start training from score 0.699385\n"
     ]
    },
    {
     "name": "stderr",
     "output_type": "stream",
     "text": [
      "feature_fraction, val_score: 0.842369:  71%|#######1  | 5/7 [01:49<00:45, 22.66s/it]\u001b[32m[I 2021-07-01 12:56:16,459]\u001b[0m Trial 4 finished with value: 0.8423686838369902 and parameters: {'feature_fraction': 0.4}. Best is trial 4 with value: 0.8423686838369902.\u001b[0m\n",
      "feature_fraction, val_score: 0.842369:  71%|#######1  | 5/7 [01:49<00:45, 22.66s/it]"
     ]
    },
    {
     "name": "stdout",
     "output_type": "stream",
     "text": [
      "[LightGBM] [Warning] Auto-choosing col-wise multi-threading, the overhead of testing was 0.304357 seconds.\n",
      "You can set `force_col_wise=true` to remove the overhead.\n",
      "[LightGBM] [Info] Total Bins 10191\n",
      "[LightGBM] [Info] Number of data points in the train set: 1172709, number of used features: 113\n",
      "[LightGBM] [Info] Start training from score 0.699385\n"
     ]
    },
    {
     "name": "stderr",
     "output_type": "stream",
     "text": [
      "feature_fraction, val_score: 0.842369:  86%|########5 | 6/7 [02:08<00:21, 21.50s/it]\u001b[32m[I 2021-07-01 12:56:35,717]\u001b[0m Trial 5 finished with value: 0.8458906896210545 and parameters: {'feature_fraction': 0.7}. Best is trial 4 with value: 0.8423686838369902.\u001b[0m\n",
      "feature_fraction, val_score: 0.842369:  86%|########5 | 6/7 [02:08<00:21, 21.50s/it]"
     ]
    },
    {
     "name": "stdout",
     "output_type": "stream",
     "text": [
      "[LightGBM] [Warning] Auto-choosing row-wise multi-threading, the overhead of testing was 0.072704 seconds.\n",
      "You can set `force_row_wise=true` to remove the overhead.\n",
      "And if memory is not enough, you can set `force_col_wise=true`.\n",
      "[LightGBM] [Info] Total Bins 10191\n",
      "[LightGBM] [Info] Number of data points in the train set: 1172709, number of used features: 113\n",
      "[LightGBM] [Info] Start training from score 0.699385\n"
     ]
    },
    {
     "name": "stderr",
     "output_type": "stream",
     "text": [
      "feature_fraction, val_score: 0.841588: 100%|##########| 7/7 [02:35<00:00, 23.46s/it]\u001b[32m[I 2021-07-01 12:57:03,206]\u001b[0m Trial 6 finished with value: 0.8415884954480315 and parameters: {'feature_fraction': 0.5}. Best is trial 6 with value: 0.8415884954480315.\u001b[0m\n",
      "feature_fraction, val_score: 0.841588: 100%|##########| 7/7 [02:35<00:00, 22.26s/it]\n",
      "num_leaves, val_score: 0.841588:   0%|          | 0/20 [00:00<?, ?it/s]"
     ]
    },
    {
     "name": "stdout",
     "output_type": "stream",
     "text": [
      "[LightGBM] [Warning] Auto-choosing row-wise multi-threading, the overhead of testing was 0.071257 seconds.\n",
      "You can set `force_row_wise=true` to remove the overhead.\n",
      "And if memory is not enough, you can set `force_col_wise=true`.\n",
      "[LightGBM] [Info] Total Bins 10191\n",
      "[LightGBM] [Info] Number of data points in the train set: 1172709, number of used features: 113\n",
      "[LightGBM] [Info] Start training from score 0.699385\n"
     ]
    },
    {
     "name": "stderr",
     "output_type": "stream",
     "text": [
      "num_leaves, val_score: 0.840181:   5%|5         | 1/20 [00:31<09:56, 31.40s/it]\u001b[32m[I 2021-07-01 12:57:34,611]\u001b[0m Trial 7 finished with value: 0.8401811298167521 and parameters: {'num_leaves': 95}. Best is trial 7 with value: 0.8401811298167521.\u001b[0m\n",
      "num_leaves, val_score: 0.840181:   5%|5         | 1/20 [00:31<09:56, 31.40s/it]"
     ]
    },
    {
     "name": "stdout",
     "output_type": "stream",
     "text": [
      "[LightGBM] [Warning] Auto-choosing row-wise multi-threading, the overhead of testing was 0.069185 seconds.\n",
      "You can set `force_row_wise=true` to remove the overhead.\n",
      "And if memory is not enough, you can set `force_col_wise=true`.\n",
      "[LightGBM] [Info] Total Bins 10191\n",
      "[LightGBM] [Info] Number of data points in the train set: 1172709, number of used features: 113\n",
      "[LightGBM] [Info] Start training from score 0.699385\n"
     ]
    },
    {
     "name": "stderr",
     "output_type": "stream",
     "text": [
      "num_leaves, val_score: 0.840181:  10%|#         | 2/20 [01:07<10:19, 34.41s/it]\u001b[32m[I 2021-07-01 12:58:11,126]\u001b[0m Trial 8 finished with value: 0.8425742049109173 and parameters: {'num_leaves': 201}. Best is trial 7 with value: 0.8401811298167521.\u001b[0m\n",
      "num_leaves, val_score: 0.840181:  10%|#         | 2/20 [01:07<10:19, 34.41s/it]"
     ]
    },
    {
     "name": "stdout",
     "output_type": "stream",
     "text": [
      "[LightGBM] [Warning] Auto-choosing row-wise multi-threading, the overhead of testing was 0.075758 seconds.\n",
      "You can set `force_row_wise=true` to remove the overhead.\n",
      "And if memory is not enough, you can set `force_col_wise=true`.\n",
      "[LightGBM] [Info] Total Bins 10191\n",
      "[LightGBM] [Info] Number of data points in the train set: 1172709, number of used features: 113\n",
      "[LightGBM] [Info] Start training from score 0.699385\n"
     ]
    },
    {
     "name": "stderr",
     "output_type": "stream",
     "text": [
      "num_leaves, val_score: 0.840181:  15%|#5        | 3/20 [01:38<09:15, 32.69s/it]\u001b[32m[I 2021-07-01 12:58:41,767]\u001b[0m Trial 9 finished with value: 0.840184090592921 and parameters: {'num_leaves': 80}. Best is trial 7 with value: 0.8401811298167521.\u001b[0m\n",
      "num_leaves, val_score: 0.840181:  15%|#5        | 3/20 [01:38<09:15, 32.69s/it]"
     ]
    },
    {
     "name": "stdout",
     "output_type": "stream",
     "text": [
      "[LightGBM] [Warning] Auto-choosing row-wise multi-threading, the overhead of testing was 0.070277 seconds.\n",
      "You can set `force_row_wise=true` to remove the overhead.\n",
      "And if memory is not enough, you can set `force_col_wise=true`.\n",
      "[LightGBM] [Info] Total Bins 10191\n",
      "[LightGBM] [Info] Number of data points in the train set: 1172709, number of used features: 113\n",
      "[LightGBM] [Info] Start training from score 0.699385\n"
     ]
    },
    {
     "name": "stderr",
     "output_type": "stream",
     "text": [
      "num_leaves, val_score: 0.840181:  20%|##        | 4/20 [02:17<09:21, 35.10s/it]\u001b[32m[I 2021-07-01 12:59:20,557]\u001b[0m Trial 10 finished with value: 0.8437415356742526 and parameters: {'num_leaves': 230}. Best is trial 7 with value: 0.8401811298167521.\u001b[0m\n",
      "num_leaves, val_score: 0.840181:  20%|##        | 4/20 [02:17<09:21, 35.10s/it]"
     ]
    },
    {
     "name": "stdout",
     "output_type": "stream",
     "text": [
      "[LightGBM] [Warning] Auto-choosing row-wise multi-threading, the overhead of testing was 0.081653 seconds.\n",
      "You can set `force_row_wise=true` to remove the overhead.\n",
      "And if memory is not enough, you can set `force_col_wise=true`.\n",
      "[LightGBM] [Info] Total Bins 10191\n",
      "[LightGBM] [Info] Number of data points in the train set: 1172709, number of used features: 113\n",
      "[LightGBM] [Info] Start training from score 0.699385\n"
     ]
    },
    {
     "name": "stderr",
     "output_type": "stream",
     "text": [
      "num_leaves, val_score: 0.840181:  25%|##5       | 5/20 [02:47<08:22, 33.49s/it]\u001b[32m[I 2021-07-01 12:59:51,198]\u001b[0m Trial 11 finished with value: 0.840184090592921 and parameters: {'num_leaves': 80}. Best is trial 7 with value: 0.8401811298167521.\u001b[0m\n",
      "num_leaves, val_score: 0.840181:  25%|##5       | 5/20 [02:47<08:22, 33.49s/it]"
     ]
    },
    {
     "name": "stdout",
     "output_type": "stream",
     "text": [
      "[LightGBM] [Warning] Auto-choosing row-wise multi-threading, the overhead of testing was 0.068875 seconds.\n",
      "You can set `force_row_wise=true` to remove the overhead.\n",
      "And if memory is not enough, you can set `force_col_wise=true`.\n",
      "[LightGBM] [Info] Total Bins 10191\n",
      "[LightGBM] [Info] Number of data points in the train set: 1172709, number of used features: 113\n",
      "[LightGBM] [Info] Start training from score 0.699385\n"
     ]
    },
    {
     "name": "stderr",
     "output_type": "stream",
     "text": [
      "num_leaves, val_score: 0.840181:  30%|###       | 6/20 [03:14<07:15, 31.10s/it]\u001b[32m[I 2021-07-01 13:00:17,663]\u001b[0m Trial 12 finished with value: 0.8417475077881461 and parameters: {'num_leaves': 34}. Best is trial 7 with value: 0.8401811298167521.\u001b[0m\n",
      "num_leaves, val_score: 0.840181:  30%|###       | 6/20 [03:14<07:15, 31.10s/it]"
     ]
    },
    {
     "name": "stdout",
     "output_type": "stream",
     "text": [
      "[LightGBM] [Warning] Auto-choosing row-wise multi-threading, the overhead of testing was 0.073083 seconds.\n",
      "You can set `force_row_wise=true` to remove the overhead.\n",
      "And if memory is not enough, you can set `force_col_wise=true`.\n",
      "[LightGBM] [Info] Total Bins 10191\n",
      "[LightGBM] [Info] Number of data points in the train set: 1172709, number of used features: 113\n",
      "[LightGBM] [Info] Start training from score 0.699385\n"
     ]
    },
    {
     "name": "stderr",
     "output_type": "stream",
     "text": [
      "num_leaves, val_score: 0.840181:  35%|###5      | 7/20 [03:49<07:01, 32.43s/it]\u001b[32m[I 2021-07-01 13:00:52,830]\u001b[0m Trial 13 finished with value: 0.8438291185085893 and parameters: {'num_leaves': 216}. Best is trial 7 with value: 0.8401811298167521.\u001b[0m\n",
      "num_leaves, val_score: 0.840181:  35%|###5      | 7/20 [03:49<07:01, 32.43s/it]"
     ]
    },
    {
     "name": "stdout",
     "output_type": "stream",
     "text": [
      "[LightGBM] [Warning] Auto-choosing row-wise multi-threading, the overhead of testing was 0.076788 seconds.\n",
      "You can set `force_row_wise=true` to remove the overhead.\n",
      "And if memory is not enough, you can set `force_col_wise=true`.\n",
      "[LightGBM] [Info] Total Bins 10191\n",
      "[LightGBM] [Info] Number of data points in the train set: 1172709, number of used features: 113\n",
      "[LightGBM] [Info] Start training from score 0.699385\n"
     ]
    },
    {
     "name": "stderr",
     "output_type": "stream",
     "text": [
      "num_leaves, val_score: 0.840181:  40%|####      | 8/20 [04:17<06:10, 30.88s/it]\u001b[32m[I 2021-07-01 13:01:20,380]\u001b[0m Trial 14 finished with value: 0.8412249278032792 and parameters: {'num_leaves': 45}. Best is trial 7 with value: 0.8401811298167521.\u001b[0m\n",
      "num_leaves, val_score: 0.840181:  40%|####      | 8/20 [04:17<06:10, 30.88s/it]"
     ]
    },
    {
     "name": "stdout",
     "output_type": "stream",
     "text": [
      "[LightGBM] [Warning] Auto-choosing row-wise multi-threading, the overhead of testing was 0.070297 seconds.\n",
      "You can set `force_row_wise=true` to remove the overhead.\n",
      "And if memory is not enough, you can set `force_col_wise=true`.\n",
      "[LightGBM] [Info] Total Bins 10191\n",
      "[LightGBM] [Info] Number of data points in the train set: 1172709, number of used features: 113\n",
      "[LightGBM] [Info] Start training from score 0.699385\n"
     ]
    },
    {
     "name": "stderr",
     "output_type": "stream",
     "text": [
      "num_leaves, val_score: 0.840181:  45%|####5     | 9/20 [04:52<05:54, 32.25s/it]\u001b[32m[I 2021-07-01 13:01:55,633]\u001b[0m Trial 15 finished with value: 0.8425684778925207 and parameters: {'num_leaves': 182}. Best is trial 7 with value: 0.8401811298167521.\u001b[0m\n",
      "num_leaves, val_score: 0.840181:  45%|####5     | 9/20 [04:52<05:54, 32.25s/it]"
     ]
    },
    {
     "name": "stdout",
     "output_type": "stream",
     "text": [
      "[LightGBM] [Warning] Auto-choosing row-wise multi-threading, the overhead of testing was 0.073499 seconds.\n",
      "You can set `force_row_wise=true` to remove the overhead.\n",
      "And if memory is not enough, you can set `force_col_wise=true`.\n",
      "[LightGBM] [Info] Total Bins 10191\n",
      "[LightGBM] [Info] Number of data points in the train set: 1172709, number of used features: 113\n",
      "[LightGBM] [Info] Start training from score 0.699385\n"
     ]
    },
    {
     "name": "stderr",
     "output_type": "stream",
     "text": [
      "num_leaves, val_score: 0.840181:  50%|#####     | 10/20 [05:20<05:10, 31.03s/it]\u001b[32m[I 2021-07-01 13:02:23,958]\u001b[0m Trial 16 finished with value: 0.8407893906350804 and parameters: {'num_leaves': 46}. Best is trial 7 with value: 0.8401811298167521.\u001b[0m\n",
      "num_leaves, val_score: 0.840181:  50%|#####     | 10/20 [05:20<05:10, 31.03s/it]"
     ]
    },
    {
     "name": "stdout",
     "output_type": "stream",
     "text": [
      "[LightGBM] [Warning] Auto-choosing row-wise multi-threading, the overhead of testing was 0.072481 seconds.\n",
      "You can set `force_row_wise=true` to remove the overhead.\n",
      "And if memory is not enough, you can set `force_col_wise=true`.\n",
      "[LightGBM] [Info] Total Bins 10191\n",
      "[LightGBM] [Info] Number of data points in the train set: 1172709, number of used features: 113\n",
      "[LightGBM] [Info] Start training from score 0.699385\n"
     ]
    },
    {
     "name": "stderr",
     "output_type": "stream",
     "text": [
      "num_leaves, val_score: 0.839588:  55%|#####5    | 11/20 [05:55<04:50, 32.31s/it]\u001b[32m[I 2021-07-01 13:02:59,144]\u001b[0m Trial 17 finished with value: 0.8395880916407972 and parameters: {'num_leaves': 147}. Best is trial 17 with value: 0.8395880916407972.\u001b[0m\n",
      "num_leaves, val_score: 0.839588:  55%|#####5    | 11/20 [05:55<04:50, 32.31s/it]"
     ]
    },
    {
     "name": "stdout",
     "output_type": "stream",
     "text": [
      "[LightGBM] [Warning] Auto-choosing row-wise multi-threading, the overhead of testing was 0.078984 seconds.\n",
      "You can set `force_row_wise=true` to remove the overhead.\n",
      "And if memory is not enough, you can set `force_col_wise=true`.\n",
      "[LightGBM] [Info] Total Bins 10191\n",
      "[LightGBM] [Info] Number of data points in the train set: 1172709, number of used features: 113\n",
      "[LightGBM] [Info] Start training from score 0.699385\n"
     ]
    },
    {
     "name": "stderr",
     "output_type": "stream",
     "text": [
      "num_leaves, val_score: 0.839239:  60%|######    | 12/20 [06:32<04:28, 33.56s/it]\u001b[32m[I 2021-07-01 13:03:35,583]\u001b[0m Trial 18 finished with value: 0.8392390513079521 and parameters: {'num_leaves': 152}. Best is trial 18 with value: 0.8392390513079521.\u001b[0m\n",
      "num_leaves, val_score: 0.839239:  60%|######    | 12/20 [06:32<04:28, 33.56s/it]"
     ]
    },
    {
     "name": "stdout",
     "output_type": "stream",
     "text": [
      "[LightGBM] [Warning] Auto-choosing row-wise multi-threading, the overhead of testing was 0.075819 seconds.\n",
      "You can set `force_row_wise=true` to remove the overhead.\n",
      "And if memory is not enough, you can set `force_col_wise=true`.\n",
      "[LightGBM] [Info] Total Bins 10191\n",
      "[LightGBM] [Info] Number of data points in the train set: 1172709, number of used features: 113\n",
      "[LightGBM] [Info] Start training from score 0.699385\n"
     ]
    },
    {
     "name": "stderr",
     "output_type": "stream",
     "text": [
      "num_leaves, val_score: 0.839239:  65%|######5   | 13/20 [07:08<04:01, 34.47s/it]\u001b[32m[I 2021-07-01 13:04:12,157]\u001b[0m Trial 19 finished with value: 0.8392390513079521 and parameters: {'num_leaves': 152}. Best is trial 18 with value: 0.8392390513079521.\u001b[0m\n",
      "num_leaves, val_score: 0.839239:  65%|######5   | 13/20 [07:08<04:01, 34.47s/it]"
     ]
    },
    {
     "name": "stdout",
     "output_type": "stream",
     "text": [
      "[LightGBM] [Warning] Auto-choosing row-wise multi-threading, the overhead of testing was 0.070193 seconds.\n",
      "You can set `force_row_wise=true` to remove the overhead.\n",
      "And if memory is not enough, you can set `force_col_wise=true`.\n",
      "[LightGBM] [Info] Total Bins 10191\n",
      "[LightGBM] [Info] Number of data points in the train set: 1172709, number of used features: 113\n",
      "[LightGBM] [Info] Start training from score 0.699385\n"
     ]
    },
    {
     "name": "stderr",
     "output_type": "stream",
     "text": [
      "num_leaves, val_score: 0.839239:  70%|#######   | 14/20 [07:44<03:28, 34.69s/it]\u001b[32m[I 2021-07-01 13:04:47,348]\u001b[0m Trial 20 finished with value: 0.8402934894323719 and parameters: {'num_leaves': 144}. Best is trial 18 with value: 0.8392390513079521.\u001b[0m\n",
      "num_leaves, val_score: 0.839239:  70%|#######   | 14/20 [07:44<03:28, 34.69s/it]"
     ]
    },
    {
     "name": "stdout",
     "output_type": "stream",
     "text": [
      "[LightGBM] [Warning] Auto-choosing row-wise multi-threading, the overhead of testing was 0.071426 seconds.\n",
      "You can set `force_row_wise=true` to remove the overhead.\n",
      "And if memory is not enough, you can set `force_col_wise=true`.\n",
      "[LightGBM] [Info] Total Bins 10191\n",
      "[LightGBM] [Info] Number of data points in the train set: 1172709, number of used features: 113\n",
      "[LightGBM] [Info] Start training from score 0.699385\n"
     ]
    },
    {
     "name": "stderr",
     "output_type": "stream",
     "text": [
      "num_leaves, val_score: 0.839239:  75%|#######5  | 15/20 [08:16<02:49, 33.90s/it]\u001b[32m[I 2021-07-01 13:05:19,423]\u001b[0m Trial 21 finished with value: 0.8425216724940608 and parameters: {'num_leaves': 172}. Best is trial 18 with value: 0.8392390513079521.\u001b[0m\n",
      "num_leaves, val_score: 0.839239:  75%|#######5  | 15/20 [08:16<02:49, 33.90s/it]"
     ]
    },
    {
     "name": "stdout",
     "output_type": "stream",
     "text": [
      "[LightGBM] [Warning] Auto-choosing row-wise multi-threading, the overhead of testing was 0.075695 seconds.\n",
      "You can set `force_row_wise=true` to remove the overhead.\n",
      "And if memory is not enough, you can set `force_col_wise=true`.\n",
      "[LightGBM] [Info] Total Bins 10191\n",
      "[LightGBM] [Info] Number of data points in the train set: 1172709, number of used features: 113\n",
      "[LightGBM] [Info] Start training from score 0.699385\n"
     ]
    },
    {
     "name": "stderr",
     "output_type": "stream",
     "text": [
      "num_leaves, val_score: 0.839239:  80%|########  | 16/20 [08:48<02:13, 33.48s/it]\u001b[32m[I 2021-07-01 13:05:51,910]\u001b[0m Trial 22 finished with value: 0.8403332861880592 and parameters: {'num_leaves': 114}. Best is trial 18 with value: 0.8392390513079521.\u001b[0m\n",
      "num_leaves, val_score: 0.839239:  80%|########  | 16/20 [08:48<02:13, 33.48s/it]"
     ]
    },
    {
     "name": "stdout",
     "output_type": "stream",
     "text": [
      "[LightGBM] [Warning] Auto-choosing row-wise multi-threading, the overhead of testing was 0.073794 seconds.\n",
      "You can set `force_row_wise=true` to remove the overhead.\n",
      "And if memory is not enough, you can set `force_col_wise=true`.\n",
      "[LightGBM] [Info] Total Bins 10191\n",
      "[LightGBM] [Info] Number of data points in the train set: 1172709, number of used features: 113\n",
      "[LightGBM] [Info] Start training from score 0.699385\n"
     ]
    },
    {
     "name": "stderr",
     "output_type": "stream",
     "text": [
      "num_leaves, val_score: 0.839239:  85%|########5 | 17/20 [09:25<01:43, 34.58s/it]\u001b[32m[I 2021-07-01 13:06:29,067]\u001b[0m Trial 23 finished with value: 0.8405515381832573 and parameters: {'num_leaves': 164}. Best is trial 18 with value: 0.8392390513079521.\u001b[0m\n",
      "num_leaves, val_score: 0.839239:  85%|########5 | 17/20 [09:25<01:43, 34.58s/it]"
     ]
    },
    {
     "name": "stdout",
     "output_type": "stream",
     "text": [
      "[LightGBM] [Warning] Auto-choosing row-wise multi-threading, the overhead of testing was 0.078654 seconds.\n",
      "You can set `force_row_wise=true` to remove the overhead.\n",
      "And if memory is not enough, you can set `force_col_wise=true`.\n",
      "[LightGBM] [Info] Total Bins 10191\n",
      "[LightGBM] [Info] Number of data points in the train set: 1172709, number of used features: 113\n",
      "[LightGBM] [Info] Start training from score 0.699385\n"
     ]
    },
    {
     "name": "stderr",
     "output_type": "stream",
     "text": [
      "num_leaves, val_score: 0.839239:  90%|######### | 18/20 [10:01<01:10, 35.05s/it]\u001b[32m[I 2021-07-01 13:07:05,202]\u001b[0m Trial 24 finished with value: 0.8447816975238909 and parameters: {'num_leaves': 244}. Best is trial 18 with value: 0.8392390513079521.\u001b[0m\n",
      "num_leaves, val_score: 0.839239:  90%|######### | 18/20 [10:01<01:10, 35.05s/it]"
     ]
    },
    {
     "name": "stdout",
     "output_type": "stream",
     "text": [
      "[LightGBM] [Warning] Auto-choosing row-wise multi-threading, the overhead of testing was 0.075747 seconds.\n",
      "You can set `force_row_wise=true` to remove the overhead.\n",
      "And if memory is not enough, you can set `force_col_wise=true`.\n",
      "[LightGBM] [Info] Total Bins 10191\n",
      "[LightGBM] [Info] Number of data points in the train set: 1172709, number of used features: 113\n",
      "[LightGBM] [Info] Start training from score 0.699385\n"
     ]
    },
    {
     "name": "stderr",
     "output_type": "stream",
     "text": [
      "num_leaves, val_score: 0.839239:  95%|#########5| 19/20 [10:35<00:34, 34.69s/it]\u001b[32m[I 2021-07-01 13:07:39,071]\u001b[0m Trial 25 finished with value: 0.8403780587871206 and parameters: {'num_leaves': 130}. Best is trial 18 with value: 0.8392390513079521.\u001b[0m\n",
      "num_leaves, val_score: 0.839239:  95%|#########5| 19/20 [10:35<00:34, 34.69s/it]"
     ]
    },
    {
     "name": "stdout",
     "output_type": "stream",
     "text": [
      "[LightGBM] [Warning] Auto-choosing row-wise multi-threading, the overhead of testing was 0.071254 seconds.\n",
      "You can set `force_row_wise=true` to remove the overhead.\n",
      "And if memory is not enough, you can set `force_col_wise=true`.\n",
      "[LightGBM] [Info] Total Bins 10191\n",
      "[LightGBM] [Info] Number of data points in the train set: 1172709, number of used features: 113\n",
      "[LightGBM] [Info] Start training from score 0.699385\n"
     ]
    },
    {
     "name": "stderr",
     "output_type": "stream",
     "text": [
      "num_leaves, val_score: 0.839239: 100%|##########| 20/20 [11:12<00:00, 35.16s/it]\u001b[32m[I 2021-07-01 13:08:15,320]\u001b[0m Trial 26 finished with value: 0.8429820974246299 and parameters: {'num_leaves': 195}. Best is trial 18 with value: 0.8392390513079521.\u001b[0m\n",
      "num_leaves, val_score: 0.839239: 100%|##########| 20/20 [11:12<00:00, 33.61s/it]\n",
      "bagging, val_score: 0.839239:   0%|          | 0/10 [00:00<?, ?it/s]"
     ]
    },
    {
     "name": "stdout",
     "output_type": "stream",
     "text": [
      "[LightGBM] [Warning] Auto-choosing row-wise multi-threading, the overhead of testing was 0.071958 seconds.\n",
      "You can set `force_row_wise=true` to remove the overhead.\n",
      "And if memory is not enough, you can set `force_col_wise=true`.\n",
      "[LightGBM] [Info] Total Bins 10191\n",
      "[LightGBM] [Info] Number of data points in the train set: 1172709, number of used features: 113\n",
      "[LightGBM] [Info] Start training from score 0.699385\n"
     ]
    },
    {
     "name": "stderr",
     "output_type": "stream",
     "text": [
      "bagging, val_score: 0.839239:  10%|#         | 1/10 [00:34<05:06, 34.05s/it]\u001b[32m[I 2021-07-01 13:08:49,377]\u001b[0m Trial 27 finished with value: 0.8420649993507893 and parameters: {'bagging_fraction': 0.9401227049287499, 'bagging_freq': 1}. Best is trial 27 with value: 0.8420649993507893.\u001b[0m\n",
      "bagging, val_score: 0.839239:  10%|#         | 1/10 [00:34<05:06, 34.05s/it]"
     ]
    },
    {
     "name": "stdout",
     "output_type": "stream",
     "text": [
      "[LightGBM] [Warning] Auto-choosing row-wise multi-threading, the overhead of testing was 0.069149 seconds.\n",
      "You can set `force_row_wise=true` to remove the overhead.\n",
      "And if memory is not enough, you can set `force_col_wise=true`.\n",
      "[LightGBM] [Info] Total Bins 10191\n",
      "[LightGBM] [Info] Number of data points in the train set: 1172709, number of used features: 113\n",
      "[LightGBM] [Info] Start training from score 0.699385\n"
     ]
    },
    {
     "name": "stderr",
     "output_type": "stream",
     "text": [
      "bagging, val_score: 0.839239:  20%|##        | 2/10 [00:54<03:30, 26.33s/it]\u001b[32m[I 2021-07-01 13:09:10,308]\u001b[0m Trial 28 finished with value: 0.8459424580480376 and parameters: {'bagging_fraction': 0.41681945824111505, 'bagging_freq': 7}. Best is trial 27 with value: 0.8420649993507893.\u001b[0m\n",
      "bagging, val_score: 0.839239:  20%|##        | 2/10 [00:54<03:30, 26.33s/it]"
     ]
    },
    {
     "name": "stdout",
     "output_type": "stream",
     "text": [
      "[LightGBM] [Warning] Auto-choosing row-wise multi-threading, the overhead of testing was 0.069597 seconds.\n",
      "You can set `force_row_wise=true` to remove the overhead.\n",
      "And if memory is not enough, you can set `force_col_wise=true`.\n",
      "[LightGBM] [Info] Total Bins 10191\n",
      "[LightGBM] [Info] Number of data points in the train set: 1172709, number of used features: 113\n",
      "[LightGBM] [Info] Start training from score 0.699385\n"
     ]
    },
    {
     "name": "stderr",
     "output_type": "stream",
     "text": [
      "bagging, val_score: 0.839239:  30%|###       | 3/10 [01:25<03:16, 28.03s/it]\u001b[32m[I 2021-07-01 13:09:40,353]\u001b[0m Trial 29 finished with value: 0.8441866650289152 and parameters: {'bagging_fraction': 0.7222220640757772, 'bagging_freq': 1}. Best is trial 27 with value: 0.8420649993507893.\u001b[0m\n",
      "bagging, val_score: 0.839239:  30%|###       | 3/10 [01:25<03:16, 28.03s/it]"
     ]
    },
    {
     "name": "stdout",
     "output_type": "stream",
     "text": [
      "[LightGBM] [Warning] Auto-choosing row-wise multi-threading, the overhead of testing was 0.079780 seconds.\n",
      "You can set `force_row_wise=true` to remove the overhead.\n",
      "And if memory is not enough, you can set `force_col_wise=true`.\n",
      "[LightGBM] [Info] Total Bins 10191\n",
      "[LightGBM] [Info] Number of data points in the train set: 1172709, number of used features: 113\n",
      "[LightGBM] [Info] Start training from score 0.699385\n"
     ]
    },
    {
     "name": "stderr",
     "output_type": "stream",
     "text": [
      "bagging, val_score: 0.839239:  40%|####      | 4/10 [01:48<02:38, 26.40s/it]\u001b[32m[I 2021-07-01 13:10:04,265]\u001b[0m Trial 30 finished with value: 0.8439856813080325 and parameters: {'bagging_fraction': 0.4945579052238475, 'bagging_freq': 6}. Best is trial 27 with value: 0.8420649993507893.\u001b[0m\n",
      "bagging, val_score: 0.839239:  40%|####      | 4/10 [01:48<02:38, 26.40s/it]"
     ]
    },
    {
     "name": "stdout",
     "output_type": "stream",
     "text": [
      "[LightGBM] [Warning] Auto-choosing row-wise multi-threading, the overhead of testing was 0.071809 seconds.\n",
      "You can set `force_row_wise=true` to remove the overhead.\n",
      "And if memory is not enough, you can set `force_col_wise=true`.\n",
      "[LightGBM] [Info] Total Bins 10191\n",
      "[LightGBM] [Info] Number of data points in the train set: 1172709, number of used features: 113\n",
      "[LightGBM] [Info] Start training from score 0.699385\n"
     ]
    },
    {
     "name": "stderr",
     "output_type": "stream",
     "text": [
      "bagging, val_score: 0.839239:  50%|#####     | 5/10 [02:16<02:14, 26.96s/it]\u001b[32m[I 2021-07-01 13:10:32,224]\u001b[0m Trial 31 finished with value: 0.843445244807587 and parameters: {'bagging_fraction': 0.6232490261164851, 'bagging_freq': 6}. Best is trial 27 with value: 0.8420649993507893.\u001b[0m\n",
      "bagging, val_score: 0.839239:  50%|#####     | 5/10 [02:16<02:14, 26.96s/it]"
     ]
    },
    {
     "name": "stdout",
     "output_type": "stream",
     "text": [
      "[LightGBM] [Warning] Auto-choosing row-wise multi-threading, the overhead of testing was 0.072753 seconds.\n",
      "You can set `force_row_wise=true` to remove the overhead.\n",
      "And if memory is not enough, you can set `force_col_wise=true`.\n",
      "[LightGBM] [Info] Total Bins 10191\n",
      "[LightGBM] [Info] Number of data points in the train set: 1172709, number of used features: 113\n",
      "[LightGBM] [Info] Start training from score 0.699385\n"
     ]
    },
    {
     "name": "stderr",
     "output_type": "stream",
     "text": [
      "bagging, val_score: 0.839239:  60%|######    | 6/10 [02:38<01:40, 25.14s/it]\u001b[32m[I 2021-07-01 13:10:53,833]\u001b[0m Trial 32 finished with value: 0.8485345306014868 and parameters: {'bagging_fraction': 0.4837440329376601, 'bagging_freq': 5}. Best is trial 27 with value: 0.8420649993507893.\u001b[0m\n",
      "bagging, val_score: 0.839239:  60%|######    | 6/10 [02:38<01:40, 25.14s/it]"
     ]
    },
    {
     "name": "stdout",
     "output_type": "stream",
     "text": [
      "[LightGBM] [Warning] Auto-choosing row-wise multi-threading, the overhead of testing was 0.071836 seconds.\n",
      "You can set `force_row_wise=true` to remove the overhead.\n",
      "And if memory is not enough, you can set `force_col_wise=true`.\n",
      "[LightGBM] [Info] Total Bins 10191\n",
      "[LightGBM] [Info] Number of data points in the train set: 1172709, number of used features: 113\n",
      "[LightGBM] [Info] Start training from score 0.699385\n"
     ]
    },
    {
     "name": "stderr",
     "output_type": "stream",
     "text": [
      "bagging, val_score: 0.839239:  70%|#######   | 7/10 [03:08<01:20, 26.88s/it]\u001b[32m[I 2021-07-01 13:11:24,276]\u001b[0m Trial 33 finished with value: 0.844230678921952 and parameters: {'bagging_fraction': 0.7824285927923332, 'bagging_freq': 6}. Best is trial 27 with value: 0.8420649993507893.\u001b[0m\n",
      "bagging, val_score: 0.839239:  70%|#######   | 7/10 [03:08<01:20, 26.88s/it]"
     ]
    },
    {
     "name": "stdout",
     "output_type": "stream",
     "text": [
      "[LightGBM] [Warning] Auto-choosing row-wise multi-threading, the overhead of testing was 0.070975 seconds.\n",
      "You can set `force_row_wise=true` to remove the overhead.\n",
      "And if memory is not enough, you can set `force_col_wise=true`.\n",
      "[LightGBM] [Info] Total Bins 10191\n",
      "[LightGBM] [Info] Number of data points in the train set: 1172709, number of used features: 113\n",
      "[LightGBM] [Info] Start training from score 0.699385\n"
     ]
    },
    {
     "name": "stderr",
     "output_type": "stream",
     "text": [
      "bagging, val_score: 0.839239:  80%|########  | 8/10 [03:44<00:59, 29.62s/it]\u001b[32m[I 2021-07-01 13:11:59,769]\u001b[0m Trial 34 finished with value: 0.8435970089996496 and parameters: {'bagging_fraction': 0.7444521558227084, 'bagging_freq': 2}. Best is trial 27 with value: 0.8420649993507893.\u001b[0m\n",
      "bagging, val_score: 0.839239:  80%|########  | 8/10 [03:44<00:59, 29.62s/it]"
     ]
    },
    {
     "name": "stdout",
     "output_type": "stream",
     "text": [
      "[LightGBM] [Warning] Auto-choosing row-wise multi-threading, the overhead of testing was 0.072454 seconds.\n",
      "You can set `force_row_wise=true` to remove the overhead.\n",
      "And if memory is not enough, you can set `force_col_wise=true`.\n",
      "[LightGBM] [Info] Total Bins 10191\n",
      "[LightGBM] [Info] Number of data points in the train set: 1172709, number of used features: 113\n",
      "[LightGBM] [Info] Start training from score 0.699385\n"
     ]
    },
    {
     "name": "stderr",
     "output_type": "stream",
     "text": [
      "bagging, val_score: 0.839239:  90%|######### | 9/10 [04:24<00:32, 32.77s/it]\u001b[32m[I 2021-07-01 13:12:39,480]\u001b[0m Trial 35 finished with value: 0.8425640067571518 and parameters: {'bagging_fraction': 0.900806117481939, 'bagging_freq': 3}. Best is trial 27 with value: 0.8420649993507893.\u001b[0m\n",
      "bagging, val_score: 0.839239:  90%|######### | 9/10 [04:24<00:32, 32.77s/it]"
     ]
    },
    {
     "name": "stdout",
     "output_type": "stream",
     "text": [
      "[LightGBM] [Warning] Auto-choosing row-wise multi-threading, the overhead of testing was 0.073162 seconds.\n",
      "You can set `force_row_wise=true` to remove the overhead.\n",
      "And if memory is not enough, you can set `force_col_wise=true`.\n",
      "[LightGBM] [Info] Total Bins 10191\n",
      "[LightGBM] [Info] Number of data points in the train set: 1172709, number of used features: 113\n",
      "[LightGBM] [Info] Start training from score 0.699385\n"
     ]
    },
    {
     "name": "stderr",
     "output_type": "stream",
     "text": [
      "bagging, val_score: 0.839239: 100%|##########| 10/10 [04:59<00:00, 33.46s/it]\u001b[32m[I 2021-07-01 13:13:14,473]\u001b[0m Trial 36 finished with value: 0.842806040464949 and parameters: {'bagging_fraction': 0.9323887500329092, 'bagging_freq': 6}. Best is trial 27 with value: 0.8420649993507893.\u001b[0m\n",
      "bagging, val_score: 0.839239: 100%|##########| 10/10 [04:59<00:00, 29.92s/it]\n",
      "feature_fraction_stage2, val_score: 0.839239:   0%|          | 0/6 [00:00<?, ?it/s]"
     ]
    },
    {
     "name": "stdout",
     "output_type": "stream",
     "text": [
      "[LightGBM] [Warning] Auto-choosing row-wise multi-threading, the overhead of testing was 0.071372 seconds.\n",
      "You can set `force_row_wise=true` to remove the overhead.\n",
      "And if memory is not enough, you can set `force_col_wise=true`.\n",
      "[LightGBM] [Info] Total Bins 10191\n",
      "[LightGBM] [Info] Number of data points in the train set: 1172709, number of used features: 113\n",
      "[LightGBM] [Info] Start training from score 0.699385\n"
     ]
    },
    {
     "name": "stderr",
     "output_type": "stream",
     "text": [
      "feature_fraction_stage2, val_score: 0.839239:  17%|#6        | 1/6 [00:30<02:33, 30.68s/it]\u001b[32m[I 2021-07-01 13:13:45,159]\u001b[0m Trial 37 finished with value: 0.8432094080577117 and parameters: {'feature_fraction': 0.42}. Best is trial 37 with value: 0.8432094080577117.\u001b[0m\n",
      "feature_fraction_stage2, val_score: 0.839239:  17%|#6        | 1/6 [00:30<02:33, 30.68s/it]"
     ]
    },
    {
     "name": "stdout",
     "output_type": "stream",
     "text": [
      "[LightGBM] [Warning] Auto-choosing col-wise multi-threading, the overhead of testing was 0.342397 seconds.\n",
      "You can set `force_col_wise=true` to remove the overhead.\n",
      "[LightGBM] [Info] Total Bins 10191\n",
      "[LightGBM] [Info] Number of data points in the train set: 1172709, number of used features: 113\n",
      "[LightGBM] [Info] Start training from score 0.699385\n"
     ]
    },
    {
     "name": "stderr",
     "output_type": "stream",
     "text": [
      "feature_fraction_stage2, val_score: 0.839239:  33%|###3      | 2/6 [01:01<02:02, 30.74s/it]\u001b[32m[I 2021-07-01 13:14:15,945]\u001b[0m Trial 38 finished with value: 0.8406898331012688 and parameters: {'feature_fraction': 0.5479999999999999}. Best is trial 38 with value: 0.8406898331012688.\u001b[0m\n",
      "feature_fraction_stage2, val_score: 0.839239:  33%|###3      | 2/6 [01:01<02:02, 30.74s/it]"
     ]
    },
    {
     "name": "stdout",
     "output_type": "stream",
     "text": [
      "[LightGBM] [Warning] Auto-choosing col-wise multi-threading, the overhead of testing was 0.342293 seconds.\n",
      "You can set `force_col_wise=true` to remove the overhead.\n",
      "[LightGBM] [Info] Total Bins 10191\n",
      "[LightGBM] [Info] Number of data points in the train set: 1172709, number of used features: 113\n",
      "[LightGBM] [Info] Start training from score 0.699385\n"
     ]
    },
    {
     "name": "stderr",
     "output_type": "stream",
     "text": [
      "feature_fraction_stage2, val_score: 0.839239:  50%|#####     | 3/6 [01:32<01:32, 30.70s/it]\u001b[32m[I 2021-07-01 13:14:46,587]\u001b[0m Trial 39 finished with value: 0.8400629234208128 and parameters: {'feature_fraction': 0.516}. Best is trial 39 with value: 0.8400629234208128.\u001b[0m\n",
      "feature_fraction_stage2, val_score: 0.839239:  50%|#####     | 3/6 [01:32<01:32, 30.70s/it]"
     ]
    },
    {
     "name": "stdout",
     "output_type": "stream",
     "text": [
      "[LightGBM] [Warning] Auto-choosing row-wise multi-threading, the overhead of testing was 0.076157 seconds.\n",
      "You can set `force_row_wise=true` to remove the overhead.\n",
      "And if memory is not enough, you can set `force_col_wise=true`.\n",
      "[LightGBM] [Info] Total Bins 10191\n",
      "[LightGBM] [Info] Number of data points in the train set: 1172709, number of used features: 113\n",
      "[LightGBM] [Info] Start training from score 0.699385\n"
     ]
    },
    {
     "name": "stderr",
     "output_type": "stream",
     "text": [
      "feature_fraction_stage2, val_score: 0.839239:  67%|######6   | 4/6 [02:01<01:00, 30.35s/it]\u001b[32m[I 2021-07-01 13:15:16,407]\u001b[0m Trial 40 finished with value: 0.8426325444703027 and parameters: {'feature_fraction': 0.45199999999999996}. Best is trial 39 with value: 0.8400629234208128.\u001b[0m\n",
      "feature_fraction_stage2, val_score: 0.839239:  67%|######6   | 4/6 [02:01<01:00, 30.35s/it]"
     ]
    },
    {
     "name": "stdout",
     "output_type": "stream",
     "text": [
      "[LightGBM] [Warning] Auto-choosing col-wise multi-threading, the overhead of testing was 0.282806 seconds.\n",
      "You can set `force_col_wise=true` to remove the overhead.\n",
      "[LightGBM] [Info] Total Bins 10191\n",
      "[LightGBM] [Info] Number of data points in the train set: 1172709, number of used features: 113\n",
      "[LightGBM] [Info] Start training from score 0.699385\n"
     ]
    },
    {
     "name": "stderr",
     "output_type": "stream",
     "text": [
      "feature_fraction_stage2, val_score: 0.839239:  83%|########3 | 5/6 [02:32<00:30, 30.52s/it]\u001b[32m[I 2021-07-01 13:15:47,232]\u001b[0m Trial 41 finished with value: 0.8417430536390799 and parameters: {'feature_fraction': 0.58}. Best is trial 39 with value: 0.8400629234208128.\u001b[0m\n",
      "feature_fraction_stage2, val_score: 0.839239:  83%|########3 | 5/6 [02:32<00:30, 30.52s/it]"
     ]
    },
    {
     "name": "stdout",
     "output_type": "stream",
     "text": [
      "[LightGBM] [Warning] Auto-choosing row-wise multi-threading, the overhead of testing was 0.072581 seconds.\n",
      "You can set `force_row_wise=true` to remove the overhead.\n",
      "And if memory is not enough, you can set `force_col_wise=true`.\n",
      "[LightGBM] [Info] Total Bins 10191\n",
      "[LightGBM] [Info] Number of data points in the train set: 1172709, number of used features: 113\n",
      "[LightGBM] [Info] Start training from score 0.699385\n"
     ]
    },
    {
     "name": "stderr",
     "output_type": "stream",
     "text": [
      "feature_fraction_stage2, val_score: 0.839239: 100%|##########| 6/6 [03:07<00:00, 32.04s/it]\u001b[32m[I 2021-07-01 13:16:22,228]\u001b[0m Trial 42 finished with value: 0.8405526091475896 and parameters: {'feature_fraction': 0.484}. Best is trial 39 with value: 0.8400629234208128.\u001b[0m\n",
      "feature_fraction_stage2, val_score: 0.839239: 100%|##########| 6/6 [03:07<00:00, 31.29s/it]\n",
      "regularization_factors, val_score: 0.839239:   0%|          | 0/20 [00:00<?, ?it/s]"
     ]
    },
    {
     "name": "stdout",
     "output_type": "stream",
     "text": [
      "[LightGBM] [Warning] Auto-choosing row-wise multi-threading, the overhead of testing was 0.069848 seconds.\n",
      "You can set `force_row_wise=true` to remove the overhead.\n",
      "And if memory is not enough, you can set `force_col_wise=true`.\n",
      "[LightGBM] [Info] Total Bins 10191\n",
      "[LightGBM] [Info] Number of data points in the train set: 1172709, number of used features: 113\n",
      "[LightGBM] [Info] Start training from score 0.699385\n"
     ]
    },
    {
     "name": "stderr",
     "output_type": "stream",
     "text": [
      "regularization_factors, val_score: 0.839239:   5%|5         | 1/20 [00:33<10:37, 33.57s/it]\u001b[32m[I 2021-07-01 13:16:55,803]\u001b[0m Trial 43 finished with value: 0.8408435828446237 and parameters: {'lambda_l1': 0.07937639476711635, 'lambda_l2': 0.007670806460835616}. Best is trial 43 with value: 0.8408435828446237.\u001b[0m\n",
      "regularization_factors, val_score: 0.839239:   5%|5         | 1/20 [00:33<10:37, 33.57s/it]"
     ]
    },
    {
     "name": "stdout",
     "output_type": "stream",
     "text": [
      "[LightGBM] [Warning] Auto-choosing row-wise multi-threading, the overhead of testing was 0.069500 seconds.\n",
      "You can set `force_row_wise=true` to remove the overhead.\n",
      "And if memory is not enough, you can set `force_col_wise=true`.\n",
      "[LightGBM] [Info] Total Bins 10191\n",
      "[LightGBM] [Info] Number of data points in the train set: 1172709, number of used features: 113\n",
      "[LightGBM] [Info] Start training from score 0.699385\n"
     ]
    },
    {
     "name": "stderr",
     "output_type": "stream",
     "text": [
      "regularization_factors, val_score: 0.839239:  10%|#         | 2/20 [01:09<10:34, 35.24s/it]\u001b[32m[I 2021-07-01 13:17:32,202]\u001b[0m Trial 44 finished with value: 0.8396022354219087 and parameters: {'lambda_l1': 1.3879940015016036e-06, 'lambda_l2': 2.488109428047979e-06}. Best is trial 44 with value: 0.8396022354219087.\u001b[0m\n",
      "regularization_factors, val_score: 0.839239:  10%|#         | 2/20 [01:09<10:34, 35.24s/it]"
     ]
    },
    {
     "name": "stdout",
     "output_type": "stream",
     "text": [
      "[LightGBM] [Warning] Auto-choosing row-wise multi-threading, the overhead of testing was 0.069562 seconds.\n",
      "You can set `force_row_wise=true` to remove the overhead.\n",
      "And if memory is not enough, you can set `force_col_wise=true`.\n",
      "[LightGBM] [Info] Total Bins 10191\n",
      "[LightGBM] [Info] Number of data points in the train set: 1172709, number of used features: 113\n",
      "[LightGBM] [Info] Start training from score 0.699385\n"
     ]
    },
    {
     "name": "stderr",
     "output_type": "stream",
     "text": [
      "regularization_factors, val_score: 0.839239:  15%|#5        | 3/20 [01:43<09:42, 34.29s/it]\u001b[32m[I 2021-07-01 13:18:05,369]\u001b[0m Trial 45 finished with value: 0.8405701349158785 and parameters: {'lambda_l1': 0.0008150034179633222, 'lambda_l2': 9.845291500709718e-07}. Best is trial 44 with value: 0.8396022354219087.\u001b[0m\n",
      "regularization_factors, val_score: 0.839239:  15%|#5        | 3/20 [01:43<09:42, 34.29s/it]"
     ]
    },
    {
     "name": "stdout",
     "output_type": "stream",
     "text": [
      "[LightGBM] [Warning] Auto-choosing row-wise multi-threading, the overhead of testing was 0.069519 seconds.\n",
      "You can set `force_row_wise=true` to remove the overhead.\n",
      "And if memory is not enough, you can set `force_col_wise=true`.\n",
      "[LightGBM] [Info] Total Bins 10191\n",
      "[LightGBM] [Info] Number of data points in the train set: 1172709, number of used features: 113\n",
      "[LightGBM] [Info] Start training from score 0.699385\n"
     ]
    },
    {
     "name": "stderr",
     "output_type": "stream",
     "text": [
      "regularization_factors, val_score: 0.839239:  20%|##        | 4/20 [02:19<09:23, 35.23s/it]\u001b[32m[I 2021-07-01 13:18:42,051]\u001b[0m Trial 46 finished with value: 0.8392395896623202 and parameters: {'lambda_l1': 5.7841067227711136e-08, 'lambda_l2': 1.03768991332696e-08}. Best is trial 46 with value: 0.8392395896623202.\u001b[0m\n",
      "regularization_factors, val_score: 0.839239:  20%|##        | 4/20 [02:19<09:23, 35.23s/it]"
     ]
    },
    {
     "name": "stdout",
     "output_type": "stream",
     "text": [
      "[LightGBM] [Warning] Auto-choosing row-wise multi-threading, the overhead of testing was 0.075475 seconds.\n",
      "You can set `force_row_wise=true` to remove the overhead.\n",
      "And if memory is not enough, you can set `force_col_wise=true`.\n",
      "[LightGBM] [Info] Total Bins 10191\n",
      "[LightGBM] [Info] Number of data points in the train set: 1172709, number of used features: 113\n",
      "[LightGBM] [Info] Start training from score 0.699385\n"
     ]
    },
    {
     "name": "stderr",
     "output_type": "stream",
     "text": [
      "regularization_factors, val_score: 0.839186:  25%|##5       | 5/20 [02:56<08:57, 35.86s/it]\u001b[32m[I 2021-07-01 13:19:19,031]\u001b[0m Trial 47 finished with value: 0.8391857867430473 and parameters: {'lambda_l1': 3.7613071959208517e-07, 'lambda_l2': 3.9794556502989556e-08}. Best is trial 47 with value: 0.8391857867430473.\u001b[0m\n",
      "regularization_factors, val_score: 0.839186:  25%|##5       | 5/20 [02:56<08:57, 35.86s/it]"
     ]
    },
    {
     "name": "stdout",
     "output_type": "stream",
     "text": [
      "[LightGBM] [Warning] Auto-choosing row-wise multi-threading, the overhead of testing was 0.080205 seconds.\n",
      "You can set `force_row_wise=true` to remove the overhead.\n",
      "And if memory is not enough, you can set `force_col_wise=true`.\n",
      "[LightGBM] [Info] Total Bins 10191\n",
      "[LightGBM] [Info] Number of data points in the train set: 1172709, number of used features: 113\n",
      "[LightGBM] [Info] Start training from score 0.699385\n"
     ]
    },
    {
     "name": "stderr",
     "output_type": "stream",
     "text": [
      "regularization_factors, val_score: 0.839186:  30%|###       | 6/20 [03:33<08:23, 36.00s/it]\u001b[32m[I 2021-07-01 13:19:55,285]\u001b[0m Trial 48 finished with value: 0.8396043376413213 and parameters: {'lambda_l1': 1.1613678824096253e-06, 'lambda_l2': 1.1635775910976045e-05}. Best is trial 47 with value: 0.8391857867430473.\u001b[0m\n",
      "regularization_factors, val_score: 0.839186:  30%|###       | 6/20 [03:33<08:23, 36.00s/it]"
     ]
    },
    {
     "name": "stdout",
     "output_type": "stream",
     "text": [
      "[LightGBM] [Warning] Auto-choosing row-wise multi-threading, the overhead of testing was 0.069513 seconds.\n",
      "You can set `force_row_wise=true` to remove the overhead.\n",
      "And if memory is not enough, you can set `force_col_wise=true`.\n",
      "[LightGBM] [Info] Total Bins 10191\n",
      "[LightGBM] [Info] Number of data points in the train set: 1172709, number of used features: 113\n",
      "[LightGBM] [Info] Start training from score 0.699385\n"
     ]
    },
    {
     "name": "stderr",
     "output_type": "stream",
     "text": [
      "regularization_factors, val_score: 0.839186:  35%|###5      | 7/20 [04:04<07:29, 34.58s/it]\u001b[32m[I 2021-07-01 13:20:26,958]\u001b[0m Trial 49 finished with value: 0.8415021505638374 and parameters: {'lambda_l1': 2.019543754136995e-05, 'lambda_l2': 0.01606292964551952}. Best is trial 47 with value: 0.8391857867430473.\u001b[0m\n",
      "regularization_factors, val_score: 0.839186:  35%|###5      | 7/20 [04:04<07:29, 34.58s/it]"
     ]
    },
    {
     "name": "stdout",
     "output_type": "stream",
     "text": [
      "[LightGBM] [Warning] Auto-choosing row-wise multi-threading, the overhead of testing was 0.073141 seconds.\n",
      "You can set `force_row_wise=true` to remove the overhead.\n",
      "And if memory is not enough, you can set `force_col_wise=true`.\n",
      "[LightGBM] [Info] Total Bins 10191\n",
      "[LightGBM] [Info] Number of data points in the train set: 1172709, number of used features: 113\n",
      "[LightGBM] [Info] Start training from score 0.699385\n"
     ]
    },
    {
     "name": "stderr",
     "output_type": "stream",
     "text": [
      "regularization_factors, val_score: 0.839186:  40%|####      | 8/20 [04:40<07:00, 35.06s/it]\u001b[32m[I 2021-07-01 13:21:03,046]\u001b[0m Trial 50 finished with value: 0.8401815090282847 and parameters: {'lambda_l1': 0.01466851507423689, 'lambda_l2': 0.00037761637899273536}. Best is trial 47 with value: 0.8391857867430473.\u001b[0m\n",
      "regularization_factors, val_score: 0.839186:  40%|####      | 8/20 [04:40<07:00, 35.06s/it]"
     ]
    },
    {
     "name": "stdout",
     "output_type": "stream",
     "text": [
      "[LightGBM] [Warning] Auto-choosing row-wise multi-threading, the overhead of testing was 0.073623 seconds.\n",
      "You can set `force_row_wise=true` to remove the overhead.\n",
      "And if memory is not enough, you can set `force_col_wise=true`.\n",
      "[LightGBM] [Info] Total Bins 10191\n",
      "[LightGBM] [Info] Number of data points in the train set: 1172709, number of used features: 113\n",
      "[LightGBM] [Info] Start training from score 0.699385\n"
     ]
    },
    {
     "name": "stderr",
     "output_type": "stream",
     "text": [
      "regularization_factors, val_score: 0.839186:  45%|####5     | 9/20 [05:13<06:19, 34.46s/it]\u001b[32m[I 2021-07-01 13:21:36,196]\u001b[0m Trial 51 finished with value: 0.8404695701729538 and parameters: {'lambda_l1': 0.00010019847296633243, 'lambda_l2': 1.7568874170500095e-05}. Best is trial 47 with value: 0.8391857867430473.\u001b[0m\n",
      "regularization_factors, val_score: 0.839186:  45%|####5     | 9/20 [05:13<06:19, 34.46s/it]"
     ]
    },
    {
     "name": "stdout",
     "output_type": "stream",
     "text": [
      "[LightGBM] [Warning] Auto-choosing row-wise multi-threading, the overhead of testing was 0.070561 seconds.\n",
      "You can set `force_row_wise=true` to remove the overhead.\n",
      "And if memory is not enough, you can set `force_col_wise=true`.\n",
      "[LightGBM] [Info] Total Bins 10191\n",
      "[LightGBM] [Info] Number of data points in the train set: 1172709, number of used features: 113\n",
      "[LightGBM] [Info] Start training from score 0.699385\n"
     ]
    },
    {
     "name": "stderr",
     "output_type": "stream",
     "text": [
      "regularization_factors, val_score: 0.839186:  50%|#####     | 10/20 [05:47<05:41, 34.12s/it]\u001b[32m[I 2021-07-01 13:22:09,532]\u001b[0m Trial 52 finished with value: 0.8404351772879344 and parameters: {'lambda_l1': 3.577095119159607e-07, 'lambda_l2': 0.0049029008433299605}. Best is trial 47 with value: 0.8391857867430473.\u001b[0m\n",
      "regularization_factors, val_score: 0.839186:  50%|#####     | 10/20 [05:47<05:41, 34.12s/it]"
     ]
    },
    {
     "name": "stdout",
     "output_type": "stream",
     "text": [
      "[LightGBM] [Warning] Auto-choosing row-wise multi-threading, the overhead of testing was 0.070766 seconds.\n",
      "You can set `force_row_wise=true` to remove the overhead.\n",
      "And if memory is not enough, you can set `force_col_wise=true`.\n",
      "[LightGBM] [Info] Total Bins 10191\n",
      "[LightGBM] [Info] Number of data points in the train set: 1172709, number of used features: 113\n",
      "[LightGBM] [Info] Start training from score 0.699385\n"
     ]
    },
    {
     "name": "stderr",
     "output_type": "stream",
     "text": [
      "regularization_factors, val_score: 0.839186:  55%|#####5    | 11/20 [06:24<05:14, 34.97s/it]\u001b[32m[I 2021-07-01 13:22:46,453]\u001b[0m Trial 53 finished with value: 0.8407822774645716 and parameters: {'lambda_l1': 9.31092205981237, 'lambda_l2': 1.1540260953794454e-08}. Best is trial 47 with value: 0.8391857867430473.\u001b[0m\n",
      "regularization_factors, val_score: 0.839186:  55%|#####5    | 11/20 [06:24<05:14, 34.97s/it]"
     ]
    },
    {
     "name": "stdout",
     "output_type": "stream",
     "text": [
      "[LightGBM] [Warning] Auto-choosing row-wise multi-threading, the overhead of testing was 0.071022 seconds.\n",
      "You can set `force_row_wise=true` to remove the overhead.\n",
      "And if memory is not enough, you can set `force_col_wise=true`.\n",
      "[LightGBM] [Info] Total Bins 10191\n",
      "[LightGBM] [Info] Number of data points in the train set: 1172709, number of used features: 113\n",
      "[LightGBM] [Info] Start training from score 0.699385\n"
     ]
    },
    {
     "name": "stderr",
     "output_type": "stream",
     "text": [
      "regularization_factors, val_score: 0.839186:  60%|######    | 12/20 [07:02<04:48, 36.11s/it]\u001b[32m[I 2021-07-01 13:23:25,154]\u001b[0m Trial 54 finished with value: 0.8406272679296094 and parameters: {'lambda_l1': 1.2083947949949666e-08, 'lambda_l2': 5.827426608171863}. Best is trial 47 with value: 0.8391857867430473.\u001b[0m\n",
      "regularization_factors, val_score: 0.839186:  60%|######    | 12/20 [07:02<04:48, 36.11s/it]"
     ]
    },
    {
     "name": "stdout",
     "output_type": "stream",
     "text": [
      "[LightGBM] [Warning] Auto-choosing row-wise multi-threading, the overhead of testing was 0.071878 seconds.\n",
      "You can set `force_row_wise=true` to remove the overhead.\n",
      "And if memory is not enough, you can set `force_col_wise=true`.\n",
      "[LightGBM] [Info] Total Bins 10191\n",
      "[LightGBM] [Info] Number of data points in the train set: 1172709, number of used features: 113\n",
      "[LightGBM] [Info] Start training from score 0.699385\n"
     ]
    },
    {
     "name": "stderr",
     "output_type": "stream",
     "text": [
      "regularization_factors, val_score: 0.839186:  65%|######5   | 13/20 [07:39<04:14, 36.29s/it]\u001b[32m[I 2021-07-01 13:24:01,852]\u001b[0m Trial 55 finished with value: 0.8392439364212065 and parameters: {'lambda_l1': 1.944929638284906e-08, 'lambda_l2': 1.3768240662154603e-08}. Best is trial 47 with value: 0.8391857867430473.\u001b[0m\n",
      "regularization_factors, val_score: 0.839186:  65%|######5   | 13/20 [07:39<04:14, 36.29s/it]"
     ]
    },
    {
     "name": "stdout",
     "output_type": "stream",
     "text": [
      "[LightGBM] [Warning] Auto-choosing row-wise multi-threading, the overhead of testing was 0.071043 seconds.\n",
      "You can set `force_row_wise=true` to remove the overhead.\n",
      "And if memory is not enough, you can set `force_col_wise=true`.\n",
      "[LightGBM] [Info] Total Bins 10191\n",
      "[LightGBM] [Info] Number of data points in the train set: 1172709, number of used features: 113\n",
      "[LightGBM] [Info] Start training from score 0.699385\n"
     ]
    },
    {
     "name": "stderr",
     "output_type": "stream",
     "text": [
      "regularization_factors, val_score: 0.839186:  70%|#######   | 14/20 [08:16<03:38, 36.43s/it]\u001b[32m[I 2021-07-01 13:24:38,602]\u001b[0m Trial 56 finished with value: 0.8392435817221289 and parameters: {'lambda_l1': 1.1139575762811157e-08, 'lambda_l2': 5.771448354574591e-08}. Best is trial 47 with value: 0.8391857867430473.\u001b[0m\n",
      "regularization_factors, val_score: 0.839186:  70%|#######   | 14/20 [08:16<03:38, 36.43s/it]"
     ]
    },
    {
     "name": "stdout",
     "output_type": "stream",
     "text": [
      "[LightGBM] [Warning] Auto-choosing row-wise multi-threading, the overhead of testing was 0.070747 seconds.\n",
      "You can set `force_row_wise=true` to remove the overhead.\n",
      "And if memory is not enough, you can set `force_col_wise=true`.\n",
      "[LightGBM] [Info] Total Bins 10191\n",
      "[LightGBM] [Info] Number of data points in the train set: 1172709, number of used features: 113\n",
      "[LightGBM] [Info] Start training from score 0.699385\n"
     ]
    },
    {
     "name": "stderr",
     "output_type": "stream",
     "text": [
      "regularization_factors, val_score: 0.839186:  75%|#######5  | 15/20 [08:53<03:02, 36.56s/it]\u001b[32m[I 2021-07-01 13:25:15,465]\u001b[0m Trial 57 finished with value: 0.8395772941911691 and parameters: {'lambda_l1': 2.033411495157404e-07, 'lambda_l2': 2.2744428102507649e-07}. Best is trial 47 with value: 0.8391857867430473.\u001b[0m\n",
      "regularization_factors, val_score: 0.839186:  75%|#######5  | 15/20 [08:53<03:02, 36.56s/it]"
     ]
    },
    {
     "name": "stdout",
     "output_type": "stream",
     "text": [
      "[LightGBM] [Warning] Auto-choosing row-wise multi-threading, the overhead of testing was 0.075126 seconds.\n",
      "You can set `force_row_wise=true` to remove the overhead.\n",
      "And if memory is not enough, you can set `force_col_wise=true`.\n",
      "[LightGBM] [Info] Total Bins 10191\n",
      "[LightGBM] [Info] Number of data points in the train set: 1172709, number of used features: 113\n",
      "[LightGBM] [Info] Start training from score 0.699385\n"
     ]
    },
    {
     "name": "stderr",
     "output_type": "stream",
     "text": [
      "regularization_factors, val_score: 0.839184:  80%|########  | 16/20 [09:30<02:26, 36.63s/it]\u001b[32m[I 2021-07-01 13:25:52,264]\u001b[0m Trial 58 finished with value: 0.839183517833361 and parameters: {'lambda_l1': 8.481151951951655e-08, 'lambda_l2': 1.1181371584967872e-08}. Best is trial 58 with value: 0.839183517833361.\u001b[0m\n",
      "regularization_factors, val_score: 0.839184:  80%|########  | 16/20 [09:30<02:26, 36.63s/it]"
     ]
    },
    {
     "name": "stdout",
     "output_type": "stream",
     "text": [
      "[LightGBM] [Warning] Auto-choosing row-wise multi-threading, the overhead of testing was 0.069751 seconds.\n",
      "You can set `force_row_wise=true` to remove the overhead.\n",
      "And if memory is not enough, you can set `force_col_wise=true`.\n",
      "[LightGBM] [Info] Total Bins 10191\n",
      "[LightGBM] [Info] Number of data points in the train set: 1172709, number of used features: 113\n",
      "[LightGBM] [Info] Start training from score 0.699385\n"
     ]
    },
    {
     "name": "stderr",
     "output_type": "stream",
     "text": [
      "regularization_factors, val_score: 0.839184:  85%|########5 | 17/20 [10:06<01:49, 36.62s/it]\u001b[32m[I 2021-07-01 13:26:28,865]\u001b[0m Trial 59 finished with value: 0.8396012721065109 and parameters: {'lambda_l1': 8.456992013823041e-06, 'lambda_l2': 1.1599158903018748e-07}. Best is trial 58 with value: 0.839183517833361.\u001b[0m\n",
      "regularization_factors, val_score: 0.839184:  85%|########5 | 17/20 [10:06<01:49, 36.62s/it]"
     ]
    },
    {
     "name": "stdout",
     "output_type": "stream",
     "text": [
      "[LightGBM] [Warning] Auto-choosing row-wise multi-threading, the overhead of testing was 0.074552 seconds.\n",
      "You can set `force_row_wise=true` to remove the overhead.\n",
      "And if memory is not enough, you can set `force_col_wise=true`.\n",
      "[LightGBM] [Info] Total Bins 10191\n",
      "[LightGBM] [Info] Number of data points in the train set: 1172709, number of used features: 113\n",
      "[LightGBM] [Info] Start training from score 0.699385\n"
     ]
    },
    {
     "name": "stderr",
     "output_type": "stream",
     "text": [
      "regularization_factors, val_score: 0.839184:  90%|######### | 18/20 [10:43<01:13, 36.68s/it]\u001b[32m[I 2021-07-01 13:27:05,676]\u001b[0m Trial 60 finished with value: 0.8398706504800485 and parameters: {'lambda_l1': 0.0009377887498097112, 'lambda_l2': 0.34568249553537017}. Best is trial 58 with value: 0.839183517833361.\u001b[0m\n",
      "regularization_factors, val_score: 0.839184:  90%|######### | 18/20 [10:43<01:13, 36.68s/it]"
     ]
    },
    {
     "name": "stdout",
     "output_type": "stream",
     "text": [
      "[LightGBM] [Warning] Auto-choosing row-wise multi-threading, the overhead of testing was 0.069884 seconds.\n",
      "You can set `force_row_wise=true` to remove the overhead.\n",
      "And if memory is not enough, you can set `force_col_wise=true`.\n",
      "[LightGBM] [Info] Total Bins 10191\n",
      "[LightGBM] [Info] Number of data points in the train set: 1172709, number of used features: 113\n",
      "[LightGBM] [Info] Start training from score 0.699385\n"
     ]
    },
    {
     "name": "stderr",
     "output_type": "stream",
     "text": [
      "regularization_factors, val_score: 0.839184:  95%|#########5| 19/20 [11:20<00:36, 36.76s/it]\u001b[32m[I 2021-07-01 13:27:42,629]\u001b[0m Trial 61 finished with value: 0.839923405779517 and parameters: {'lambda_l1': 5.840422289813484e-06, 'lambda_l2': 0.00012390913259202797}. Best is trial 58 with value: 0.839183517833361.\u001b[0m\n",
      "regularization_factors, val_score: 0.839184:  95%|#########5| 19/20 [11:20<00:36, 36.76s/it]"
     ]
    },
    {
     "name": "stdout",
     "output_type": "stream",
     "text": [
      "[LightGBM] [Warning] Auto-choosing row-wise multi-threading, the overhead of testing was 0.069991 seconds.\n",
      "You can set `force_row_wise=true` to remove the overhead.\n",
      "And if memory is not enough, you can set `force_col_wise=true`.\n",
      "[LightGBM] [Info] Total Bins 10191\n",
      "[LightGBM] [Info] Number of data points in the train set: 1172709, number of used features: 113\n",
      "[LightGBM] [Info] Start training from score 0.699385\n"
     ]
    },
    {
     "name": "stderr",
     "output_type": "stream",
     "text": [
      "regularization_factors, val_score: 0.839184: 100%|##########| 20/20 [11:57<00:00, 36.77s/it]\u001b[32m[I 2021-07-01 13:28:19,429]\u001b[0m Trial 62 finished with value: 0.8396041692103585 and parameters: {'lambda_l1': 1.165786723829069e-07, 'lambda_l2': 8.76717077081482e-07}. Best is trial 58 with value: 0.839183517833361.\u001b[0m\n",
      "regularization_factors, val_score: 0.839184: 100%|##########| 20/20 [11:57<00:00, 35.86s/it]\n",
      "min_data_in_leaf, val_score: 0.839184:   0%|          | 0/5 [00:00<?, ?it/s]"
     ]
    },
    {
     "name": "stdout",
     "output_type": "stream",
     "text": [
      "[LightGBM] [Warning] Auto-choosing row-wise multi-threading, the overhead of testing was 0.069468 seconds.\n",
      "You can set `force_row_wise=true` to remove the overhead.\n",
      "And if memory is not enough, you can set `force_col_wise=true`.\n",
      "[LightGBM] [Info] Total Bins 10191\n",
      "[LightGBM] [Info] Number of data points in the train set: 1172709, number of used features: 113\n",
      "[LightGBM] [Info] Start training from score 0.699385\n"
     ]
    },
    {
     "name": "stderr",
     "output_type": "stream",
     "text": [
      "min_data_in_leaf, val_score: 0.839184:  20%|##        | 1/5 [00:31<02:07, 31.98s/it]\u001b[32m[I 2021-07-01 13:28:51,414]\u001b[0m Trial 63 finished with value: 0.8408736342427766 and parameters: {'min_child_samples': 50}. Best is trial 63 with value: 0.8408736342427766.\u001b[0m\n",
      "min_data_in_leaf, val_score: 0.839184:  20%|##        | 1/5 [00:31<02:07, 31.98s/it]"
     ]
    },
    {
     "name": "stdout",
     "output_type": "stream",
     "text": [
      "[LightGBM] [Warning] Auto-choosing row-wise multi-threading, the overhead of testing was 0.070708 seconds.\n",
      "You can set `force_row_wise=true` to remove the overhead.\n",
      "And if memory is not enough, you can set `force_col_wise=true`.\n",
      "[LightGBM] [Info] Total Bins 10191\n",
      "[LightGBM] [Info] Number of data points in the train set: 1172709, number of used features: 113\n",
      "[LightGBM] [Info] Start training from score 0.699385\n"
     ]
    },
    {
     "name": "stderr",
     "output_type": "stream",
     "text": [
      "min_data_in_leaf, val_score: 0.839184:  40%|####      | 2/5 [01:06<01:40, 33.57s/it]\u001b[32m[I 2021-07-01 13:29:26,095]\u001b[0m Trial 64 finished with value: 0.8411053334319188 and parameters: {'min_child_samples': 10}. Best is trial 63 with value: 0.8408736342427766.\u001b[0m\n",
      "min_data_in_leaf, val_score: 0.839184:  40%|####      | 2/5 [01:06<01:40, 33.57s/it]"
     ]
    },
    {
     "name": "stdout",
     "output_type": "stream",
     "text": [
      "[LightGBM] [Warning] Auto-choosing row-wise multi-threading, the overhead of testing was 0.069303 seconds.\n",
      "You can set `force_row_wise=true` to remove the overhead.\n",
      "And if memory is not enough, you can set `force_col_wise=true`.\n",
      "[LightGBM] [Info] Total Bins 10191\n",
      "[LightGBM] [Info] Number of data points in the train set: 1172709, number of used features: 113\n",
      "[LightGBM] [Info] Start training from score 0.699385\n"
     ]
    },
    {
     "name": "stderr",
     "output_type": "stream",
     "text": [
      "min_data_in_leaf, val_score: 0.839184:  60%|######    | 3/5 [01:41<01:08, 34.37s/it]\u001b[32m[I 2021-07-01 13:30:01,428]\u001b[0m Trial 65 finished with value: 0.8408224801964944 and parameters: {'min_child_samples': 25}. Best is trial 65 with value: 0.8408224801964944.\u001b[0m\n",
      "min_data_in_leaf, val_score: 0.839184:  60%|######    | 3/5 [01:41<01:08, 34.37s/it]"
     ]
    },
    {
     "name": "stdout",
     "output_type": "stream",
     "text": [
      "[LightGBM] [Warning] Auto-choosing row-wise multi-threading, the overhead of testing was 0.071176 seconds.\n",
      "You can set `force_row_wise=true` to remove the overhead.\n",
      "And if memory is not enough, you can set `force_col_wise=true`.\n",
      "[LightGBM] [Info] Total Bins 10191\n",
      "[LightGBM] [Info] Number of data points in the train set: 1172709, number of used features: 113\n",
      "[LightGBM] [Info] Start training from score 0.699385\n"
     ]
    },
    {
     "name": "stderr",
     "output_type": "stream",
     "text": [
      "min_data_in_leaf, val_score: 0.839184:  80%|########  | 4/5 [02:11<00:32, 32.40s/it]\u001b[32m[I 2021-07-01 13:30:30,796]\u001b[0m Trial 66 finished with value: 0.8462326206563607 and parameters: {'min_child_samples': 5}. Best is trial 65 with value: 0.8408224801964944.\u001b[0m\n",
      "min_data_in_leaf, val_score: 0.839184:  80%|########  | 4/5 [02:11<00:32, 32.40s/it]"
     ]
    },
    {
     "name": "stdout",
     "output_type": "stream",
     "text": [
      "[LightGBM] [Warning] Auto-choosing row-wise multi-threading, the overhead of testing was 0.076104 seconds.\n",
      "You can set `force_row_wise=true` to remove the overhead.\n",
      "And if memory is not enough, you can set `force_col_wise=true`.\n",
      "[LightGBM] [Info] Total Bins 10191\n",
      "[LightGBM] [Info] Number of data points in the train set: 1172709, number of used features: 113\n",
      "[LightGBM] [Info] Start training from score 0.699385\n"
     ]
    },
    {
     "name": "stderr",
     "output_type": "stream",
     "text": [
      "min_data_in_leaf, val_score: 0.839184: 100%|##########| 5/5 [02:43<00:00, 32.24s/it]\u001b[32m[I 2021-07-01 13:31:02,763]\u001b[0m Trial 67 finished with value: 0.8400495532100003 and parameters: {'min_child_samples': 100}. Best is trial 67 with value: 0.8400495532100003.\u001b[0m\n",
      "min_data_in_leaf, val_score: 0.839184: 100%|##########| 5/5 [02:43<00:00, 32.67s/it]\n"
     ]
    }
   ],
   "source": [
    "tr_idx = tr_idxs[idx]\n",
    "val_idx = val_idxs[idx]\n",
    "\n",
    "x_train = train_X.loc[tr_idx].reset_index(drop=True)\n",
    "y_train = train_y.loc[tr_idx].reset_index(drop=True)\n",
    "x_valid = train_X.loc[val_idx].reset_index(drop=True)\n",
    "y_valid = train_y.loc[val_idx].reset_index(drop=True)\n",
    "\n",
    "\n",
    "trains = lgbm.Dataset(x_train[feature_cols3], y_train['target1'])\n",
    "valids = lgbm.Dataset(x_valid[feature_cols3], y_valid['target1'])\n",
    "\n",
    "\n",
    "model3 = lgbm.train(params, trains, valid_sets=[trains, valids],\n",
    "                    verbose_eval=False)"
   ]
  },
  {
   "cell_type": "code",
   "execution_count": 40,
   "id": "095a8530",
   "metadata": {},
   "outputs": [
    {
     "name": "stderr",
     "output_type": "stream",
     "text": [
      "\u001b[32m[I 2021-07-01 13:31:03,446]\u001b[0m A new study created in memory with name: no-name-e635b12b-b3ed-47e0-8e23-d53538536a8a\u001b[0m\n",
      "feature_fraction, val_score: inf:   0%|          | 0/7 [00:00<?, ?it/s]"
     ]
    },
    {
     "name": "stdout",
     "output_type": "stream",
     "text": [
      "[LightGBM] [Warning] Auto-choosing row-wise multi-threading, the overhead of testing was 0.079236 seconds.\n",
      "You can set `force_row_wise=true` to remove the overhead.\n",
      "And if memory is not enough, you can set `force_col_wise=true`.\n",
      "[LightGBM] [Info] Total Bins 10899\n",
      "[LightGBM] [Info] Number of data points in the train set: 1172709, number of used features: 121\n",
      "[LightGBM] [Info] Start training from score 0.699385\n"
     ]
    },
    {
     "name": "stderr",
     "output_type": "stream",
     "text": [
      "feature_fraction, val_score: 0.832514:  14%|#4        | 1/7 [00:17<01:43, 17.21s/it]\u001b[32m[I 2021-07-01 13:31:20,662]\u001b[0m Trial 0 finished with value: 0.832513804231159 and parameters: {'feature_fraction': 0.8}. Best is trial 0 with value: 0.832513804231159.\u001b[0m\n",
      "feature_fraction, val_score: 0.832514:  14%|#4        | 1/7 [00:17<01:43, 17.21s/it]"
     ]
    },
    {
     "name": "stdout",
     "output_type": "stream",
     "text": [
      "[LightGBM] [Warning] Auto-choosing col-wise multi-threading, the overhead of testing was 0.304620 seconds.\n",
      "You can set `force_col_wise=true` to remove the overhead.\n",
      "[LightGBM] [Info] Total Bins 10899\n",
      "[LightGBM] [Info] Number of data points in the train set: 1172709, number of used features: 121\n",
      "[LightGBM] [Info] Start training from score 0.699385\n"
     ]
    },
    {
     "name": "stderr",
     "output_type": "stream",
     "text": [
      "feature_fraction, val_score: 0.831528:  29%|##8       | 2/7 [00:33<01:22, 16.41s/it]\u001b[32m[I 2021-07-01 13:31:36,505]\u001b[0m Trial 1 finished with value: 0.8315282283303522 and parameters: {'feature_fraction': 0.6}. Best is trial 1 with value: 0.8315282283303522.\u001b[0m\n",
      "feature_fraction, val_score: 0.831528:  29%|##8       | 2/7 [00:33<01:22, 16.41s/it]"
     ]
    },
    {
     "name": "stdout",
     "output_type": "stream",
     "text": [
      "[LightGBM] [Warning] Auto-choosing col-wise multi-threading, the overhead of testing was 0.234608 seconds.\n",
      "You can set `force_col_wise=true` to remove the overhead.\n",
      "[LightGBM] [Info] Total Bins 10899\n",
      "[LightGBM] [Info] Number of data points in the train set: 1172709, number of used features: 121\n",
      "[LightGBM] [Info] Start training from score 0.699385\n"
     ]
    },
    {
     "name": "stderr",
     "output_type": "stream",
     "text": [
      "feature_fraction, val_score: 0.831528:  43%|####2     | 3/7 [00:49<01:04, 16.23s/it]\u001b[32m[I 2021-07-01 13:31:52,522]\u001b[0m Trial 2 finished with value: 0.8336576248814375 and parameters: {'feature_fraction': 0.7}. Best is trial 1 with value: 0.8315282283303522.\u001b[0m\n",
      "feature_fraction, val_score: 0.831528:  43%|####2     | 3/7 [00:49<01:04, 16.23s/it]"
     ]
    },
    {
     "name": "stdout",
     "output_type": "stream",
     "text": [
      "[LightGBM] [Warning] Auto-choosing row-wise multi-threading, the overhead of testing was 0.073627 seconds.\n",
      "You can set `force_row_wise=true` to remove the overhead.\n",
      "And if memory is not enough, you can set `force_col_wise=true`.\n",
      "[LightGBM] [Info] Total Bins 10899\n",
      "[LightGBM] [Info] Number of data points in the train set: 1172709, number of used features: 121\n",
      "[LightGBM] [Info] Start training from score 0.699385\n"
     ]
    },
    {
     "name": "stderr",
     "output_type": "stream",
     "text": [
      "feature_fraction, val_score: 0.828988:  57%|#####7    | 4/7 [01:10<00:54, 18.24s/it]\u001b[32m[I 2021-07-01 13:32:13,856]\u001b[0m Trial 3 finished with value: 0.828987505583712 and parameters: {'feature_fraction': 0.5}. Best is trial 3 with value: 0.828987505583712.\u001b[0m\n",
      "feature_fraction, val_score: 0.828988:  57%|#####7    | 4/7 [01:10<00:54, 18.24s/it]"
     ]
    },
    {
     "name": "stdout",
     "output_type": "stream",
     "text": [
      "[LightGBM] [Warning] Auto-choosing row-wise multi-threading, the overhead of testing was 0.075730 seconds.\n",
      "You can set `force_row_wise=true` to remove the overhead.\n",
      "And if memory is not enough, you can set `force_col_wise=true`.\n",
      "[LightGBM] [Info] Total Bins 10899\n",
      "[LightGBM] [Info] Number of data points in the train set: 1172709, number of used features: 121\n",
      "[LightGBM] [Info] Start training from score 0.699385\n"
     ]
    },
    {
     "name": "stderr",
     "output_type": "stream",
     "text": [
      "feature_fraction, val_score: 0.826222:  71%|#######1  | 5/7 [01:30<00:37, 18.91s/it]\u001b[32m[I 2021-07-01 13:32:33,948]\u001b[0m Trial 4 finished with value: 0.826222391187974 and parameters: {'feature_fraction': 0.4}. Best is trial 4 with value: 0.826222391187974.\u001b[0m\n",
      "feature_fraction, val_score: 0.826222:  71%|#######1  | 5/7 [01:30<00:37, 18.91s/it]"
     ]
    },
    {
     "name": "stdout",
     "output_type": "stream",
     "text": [
      "[LightGBM] [Warning] Auto-choosing row-wise multi-threading, the overhead of testing was 0.082461 seconds.\n",
      "You can set `force_row_wise=true` to remove the overhead.\n",
      "And if memory is not enough, you can set `force_col_wise=true`.\n",
      "[LightGBM] [Info] Total Bins 10899\n",
      "[LightGBM] [Info] Number of data points in the train set: 1172709, number of used features: 121\n",
      "[LightGBM] [Info] Start training from score 0.699385\n"
     ]
    },
    {
     "name": "stderr",
     "output_type": "stream",
     "text": [
      "feature_fraction, val_score: 0.826222:  86%|########5 | 6/7 [01:47<00:18, 18.18s/it]\u001b[32m[I 2021-07-01 13:32:50,720]\u001b[0m Trial 5 finished with value: 0.8333954300605318 and parameters: {'feature_fraction': 0.8999999999999999}. Best is trial 4 with value: 0.826222391187974.\u001b[0m\n",
      "feature_fraction, val_score: 0.826222:  86%|########5 | 6/7 [01:47<00:18, 18.18s/it]"
     ]
    },
    {
     "name": "stdout",
     "output_type": "stream",
     "text": [
      "[LightGBM] [Warning] Auto-choosing row-wise multi-threading, the overhead of testing was 0.079910 seconds.\n",
      "You can set `force_row_wise=true` to remove the overhead.\n",
      "And if memory is not enough, you can set `force_col_wise=true`.\n",
      "[LightGBM] [Info] Total Bins 10899\n",
      "[LightGBM] [Info] Number of data points in the train set: 1172709, number of used features: 121\n",
      "[LightGBM] [Info] Start training from score 0.699385\n"
     ]
    },
    {
     "name": "stderr",
     "output_type": "stream",
     "text": [
      "feature_fraction, val_score: 0.826222: 100%|##########| 7/7 [02:04<00:00, 17.81s/it]\u001b[32m[I 2021-07-01 13:33:07,774]\u001b[0m Trial 6 finished with value: 0.8322831434172417 and parameters: {'feature_fraction': 1.0}. Best is trial 4 with value: 0.826222391187974.\u001b[0m\n",
      "feature_fraction, val_score: 0.826222: 100%|##########| 7/7 [02:04<00:00, 17.76s/it]\n",
      "num_leaves, val_score: 0.826222:   0%|          | 0/20 [00:00<?, ?it/s]"
     ]
    },
    {
     "name": "stdout",
     "output_type": "stream",
     "text": [
      "[LightGBM] [Warning] Auto-choosing row-wise multi-threading, the overhead of testing was 0.069179 seconds.\n",
      "You can set `force_row_wise=true` to remove the overhead.\n",
      "And if memory is not enough, you can set `force_col_wise=true`.\n",
      "[LightGBM] [Info] Total Bins 10899\n",
      "[LightGBM] [Info] Number of data points in the train set: 1172709, number of used features: 121\n",
      "[LightGBM] [Info] Start training from score 0.699385\n"
     ]
    },
    {
     "name": "stderr",
     "output_type": "stream",
     "text": [
      "num_leaves, val_score: 0.822830:   5%|5         | 1/20 [00:21<06:50, 21.62s/it]\u001b[32m[I 2021-07-01 13:33:29,400]\u001b[0m Trial 7 finished with value: 0.8228299724145174 and parameters: {'num_leaves': 85}. Best is trial 7 with value: 0.8228299724145174.\u001b[0m\n",
      "num_leaves, val_score: 0.822830:   5%|5         | 1/20 [00:21<06:50, 21.62s/it]"
     ]
    },
    {
     "name": "stdout",
     "output_type": "stream",
     "text": [
      "[LightGBM] [Warning] Auto-choosing row-wise multi-threading, the overhead of testing was 0.070615 seconds.\n",
      "You can set `force_row_wise=true` to remove the overhead.\n",
      "And if memory is not enough, you can set `force_col_wise=true`.\n",
      "[LightGBM] [Info] Total Bins 10899\n",
      "[LightGBM] [Info] Number of data points in the train set: 1172709, number of used features: 121\n",
      "[LightGBM] [Info] Start training from score 0.699385\n"
     ]
    },
    {
     "name": "stderr",
     "output_type": "stream",
     "text": [
      "num_leaves, val_score: 0.820819:  10%|#         | 2/20 [00:52<08:12, 27.35s/it]\u001b[32m[I 2021-07-01 13:34:00,757]\u001b[0m Trial 8 finished with value: 0.8208193325756277 and parameters: {'num_leaves': 246}. Best is trial 8 with value: 0.8208193325756277.\u001b[0m\n",
      "num_leaves, val_score: 0.820819:  10%|#         | 2/20 [00:52<08:12, 27.35s/it]"
     ]
    },
    {
     "name": "stdout",
     "output_type": "stream",
     "text": [
      "[LightGBM] [Warning] Auto-choosing row-wise multi-threading, the overhead of testing was 0.070178 seconds.\n",
      "You can set `force_row_wise=true` to remove the overhead.\n",
      "And if memory is not enough, you can set `force_col_wise=true`.\n",
      "[LightGBM] [Info] Total Bins 10899\n",
      "[LightGBM] [Info] Number of data points in the train set: 1172709, number of used features: 121\n",
      "[LightGBM] [Info] Start training from score 0.699385\n"
     ]
    },
    {
     "name": "stderr",
     "output_type": "stream",
     "text": [
      "num_leaves, val_score: 0.820819:  15%|#5        | 3/20 [01:20<07:46, 27.42s/it]\u001b[32m[I 2021-07-01 13:34:28,260]\u001b[0m Trial 9 finished with value: 0.8212774050799011 and parameters: {'num_leaves': 217}. Best is trial 8 with value: 0.8208193325756277.\u001b[0m\n",
      "num_leaves, val_score: 0.820819:  15%|#5        | 3/20 [01:20<07:46, 27.42s/it]"
     ]
    },
    {
     "name": "stdout",
     "output_type": "stream",
     "text": [
      "[LightGBM] [Warning] Auto-choosing row-wise multi-threading, the overhead of testing was 0.072569 seconds.\n",
      "You can set `force_row_wise=true` to remove the overhead.\n",
      "And if memory is not enough, you can set `force_col_wise=true`.\n",
      "[LightGBM] [Info] Total Bins 10899\n",
      "[LightGBM] [Info] Number of data points in the train set: 1172709, number of used features: 121\n",
      "[LightGBM] [Info] Start training from score 0.699385\n"
     ]
    },
    {
     "name": "stderr",
     "output_type": "stream",
     "text": [
      "num_leaves, val_score: 0.820819:  20%|##        | 4/20 [01:42<06:43, 25.22s/it]\u001b[32m[I 2021-07-01 13:34:50,121]\u001b[0m Trial 10 finished with value: 0.8232186363806696 and parameters: {'num_leaves': 86}. Best is trial 8 with value: 0.8208193325756277.\u001b[0m\n",
      "num_leaves, val_score: 0.820819:  20%|##        | 4/20 [01:42<06:43, 25.22s/it]"
     ]
    },
    {
     "name": "stdout",
     "output_type": "stream",
     "text": [
      "[LightGBM] [Warning] Auto-choosing row-wise multi-threading, the overhead of testing was 0.068925 seconds.\n",
      "You can set `force_row_wise=true` to remove the overhead.\n",
      "And if memory is not enough, you can set `force_col_wise=true`.\n",
      "[LightGBM] [Info] Total Bins 10899\n",
      "[LightGBM] [Info] Number of data points in the train set: 1172709, number of used features: 121\n",
      "[LightGBM] [Info] Start training from score 0.699385\n"
     ]
    },
    {
     "name": "stderr",
     "output_type": "stream",
     "text": [
      "num_leaves, val_score: 0.820010:  25%|##5       | 5/20 [02:11<06:39, 26.62s/it]\u001b[32m[I 2021-07-01 13:35:19,226]\u001b[0m Trial 11 finished with value: 0.8200100002434364 and parameters: {'num_leaves': 196}. Best is trial 11 with value: 0.8200100002434364.\u001b[0m\n",
      "num_leaves, val_score: 0.820010:  25%|##5       | 5/20 [02:11<06:39, 26.62s/it]"
     ]
    },
    {
     "name": "stdout",
     "output_type": "stream",
     "text": [
      "[LightGBM] [Warning] Auto-choosing row-wise multi-threading, the overhead of testing was 0.068529 seconds.\n",
      "You can set `force_row_wise=true` to remove the overhead.\n",
      "And if memory is not enough, you can set `force_col_wise=true`.\n",
      "[LightGBM] [Info] Total Bins 10899\n",
      "[LightGBM] [Info] Number of data points in the train set: 1172709, number of used features: 121\n",
      "[LightGBM] [Info] Start training from score 0.699385\n"
     ]
    },
    {
     "name": "stderr",
     "output_type": "stream",
     "text": [
      "num_leaves, val_score: 0.820010:  30%|###       | 6/20 [02:31<05:43, 24.56s/it]\u001b[32m[I 2021-07-01 13:35:39,774]\u001b[0m Trial 12 finished with value: 0.8297735225320949 and parameters: {'num_leaves': 18}. Best is trial 11 with value: 0.8200100002434364.\u001b[0m\n",
      "num_leaves, val_score: 0.820010:  30%|###       | 6/20 [02:31<05:43, 24.56s/it]"
     ]
    },
    {
     "name": "stdout",
     "output_type": "stream",
     "text": [
      "[LightGBM] [Warning] Auto-choosing row-wise multi-threading, the overhead of testing was 0.072141 seconds.\n",
      "You can set `force_row_wise=true` to remove the overhead.\n",
      "And if memory is not enough, you can set `force_col_wise=true`.\n",
      "[LightGBM] [Info] Total Bins 10899\n",
      "[LightGBM] [Info] Number of data points in the train set: 1172709, number of used features: 121\n",
      "[LightGBM] [Info] Start training from score 0.699385\n"
     ]
    },
    {
     "name": "stderr",
     "output_type": "stream",
     "text": [
      "num_leaves, val_score: 0.820010:  35%|###5      | 7/20 [02:53<05:07, 23.68s/it]\u001b[32m[I 2021-07-01 13:36:01,632]\u001b[0m Trial 13 finished with value: 0.8232186363806696 and parameters: {'num_leaves': 86}. Best is trial 11 with value: 0.8200100002434364.\u001b[0m\n",
      "num_leaves, val_score: 0.820010:  35%|###5      | 7/20 [02:53<05:07, 23.68s/it]"
     ]
    },
    {
     "name": "stdout",
     "output_type": "stream",
     "text": [
      "[LightGBM] [Warning] Auto-choosing row-wise multi-threading, the overhead of testing was 0.072492 seconds.\n",
      "You can set `force_row_wise=true` to remove the overhead.\n",
      "And if memory is not enough, you can set `force_col_wise=true`.\n",
      "[LightGBM] [Info] Total Bins 10899\n",
      "[LightGBM] [Info] Number of data points in the train set: 1172709, number of used features: 121\n",
      "[LightGBM] [Info] Start training from score 0.699385\n"
     ]
    },
    {
     "name": "stderr",
     "output_type": "stream",
     "text": [
      "num_leaves, val_score: 0.820010:  40%|####      | 8/20 [03:20<04:56, 24.70s/it]\u001b[32m[I 2021-07-01 13:36:28,512]\u001b[0m Trial 14 finished with value: 0.8209858926431445 and parameters: {'num_leaves': 200}. Best is trial 11 with value: 0.8200100002434364.\u001b[0m\n",
      "num_leaves, val_score: 0.820010:  40%|####      | 8/20 [03:20<04:56, 24.70s/it]"
     ]
    },
    {
     "name": "stdout",
     "output_type": "stream",
     "text": [
      "[LightGBM] [Warning] Auto-choosing row-wise multi-threading, the overhead of testing was 0.073013 seconds.\n",
      "You can set `force_row_wise=true` to remove the overhead.\n",
      "And if memory is not enough, you can set `force_col_wise=true`.\n",
      "[LightGBM] [Info] Total Bins 10899\n",
      "[LightGBM] [Info] Number of data points in the train set: 1172709, number of used features: 121\n",
      "[LightGBM] [Info] Start training from score 0.699385\n"
     ]
    },
    {
     "name": "stderr",
     "output_type": "stream",
     "text": [
      "num_leaves, val_score: 0.820010:  45%|####5     | 9/20 [03:43<04:25, 24.17s/it]\u001b[32m[I 2021-07-01 13:36:51,521]\u001b[0m Trial 15 finished with value: 0.8221557116884256 and parameters: {'num_leaves': 109}. Best is trial 11 with value: 0.8200100002434364.\u001b[0m\n",
      "num_leaves, val_score: 0.820010:  45%|####5     | 9/20 [03:43<04:25, 24.17s/it]"
     ]
    },
    {
     "name": "stdout",
     "output_type": "stream",
     "text": [
      "[LightGBM] [Warning] Auto-choosing row-wise multi-threading, the overhead of testing was 0.072145 seconds.\n",
      "You can set `force_row_wise=true` to remove the overhead.\n",
      "And if memory is not enough, you can set `force_col_wise=true`.\n",
      "[LightGBM] [Info] Total Bins 10899\n",
      "[LightGBM] [Info] Number of data points in the train set: 1172709, number of used features: 121\n",
      "[LightGBM] [Info] Start training from score 0.699385\n"
     ]
    },
    {
     "name": "stderr",
     "output_type": "stream",
     "text": [
      "num_leaves, val_score: 0.820010:  50%|#####     | 10/20 [04:12<04:17, 25.71s/it]\u001b[32m[I 2021-07-01 13:37:20,692]\u001b[0m Trial 16 finished with value: 0.822554467170886 and parameters: {'num_leaves': 253}. Best is trial 11 with value: 0.8200100002434364.\u001b[0m\n",
      "num_leaves, val_score: 0.820010:  50%|#####     | 10/20 [04:12<04:17, 25.71s/it]"
     ]
    },
    {
     "name": "stdout",
     "output_type": "stream",
     "text": [
      "[LightGBM] [Warning] Auto-choosing row-wise multi-threading, the overhead of testing was 0.067601 seconds.\n",
      "You can set `force_row_wise=true` to remove the overhead.\n",
      "And if memory is not enough, you can set `force_col_wise=true`.\n",
      "[LightGBM] [Info] Total Bins 10899\n",
      "[LightGBM] [Info] Number of data points in the train set: 1172709, number of used features: 121\n",
      "[LightGBM] [Info] Start training from score 0.699385\n"
     ]
    },
    {
     "name": "stderr",
     "output_type": "stream",
     "text": [
      "num_leaves, val_score: 0.819976:  55%|#####5    | 11/20 [04:38<03:51, 25.74s/it]\u001b[32m[I 2021-07-01 13:37:46,487]\u001b[0m Trial 17 finished with value: 0.8199760895820278 and parameters: {'num_leaves': 166}. Best is trial 17 with value: 0.8199760895820278.\u001b[0m\n",
      "num_leaves, val_score: 0.819976:  55%|#####5    | 11/20 [04:38<03:51, 25.74s/it]"
     ]
    },
    {
     "name": "stdout",
     "output_type": "stream",
     "text": [
      "[LightGBM] [Warning] Auto-choosing row-wise multi-threading, the overhead of testing was 0.071727 seconds.\n",
      "You can set `force_row_wise=true` to remove the overhead.\n",
      "And if memory is not enough, you can set `force_col_wise=true`.\n",
      "[LightGBM] [Info] Total Bins 10899\n",
      "[LightGBM] [Info] Number of data points in the train set: 1172709, number of used features: 121\n",
      "[LightGBM] [Info] Start training from score 0.699385\n"
     ]
    },
    {
     "name": "stderr",
     "output_type": "stream",
     "text": [
      "num_leaves, val_score: 0.819976:  60%|######    | 12/20 [05:04<03:25, 25.72s/it]\u001b[32m[I 2021-07-01 13:38:12,164]\u001b[0m Trial 18 finished with value: 0.820890636093535 and parameters: {'num_leaves': 175}. Best is trial 17 with value: 0.8199760895820278.\u001b[0m\n",
      "num_leaves, val_score: 0.819976:  60%|######    | 12/20 [05:04<03:25, 25.72s/it]"
     ]
    },
    {
     "name": "stdout",
     "output_type": "stream",
     "text": [
      "[LightGBM] [Warning] Auto-choosing row-wise multi-threading, the overhead of testing was 0.070214 seconds.\n",
      "You can set `force_row_wise=true` to remove the overhead.\n",
      "And if memory is not enough, you can set `force_col_wise=true`.\n",
      "[LightGBM] [Info] Total Bins 10899\n",
      "[LightGBM] [Info] Number of data points in the train set: 1172709, number of used features: 121\n",
      "[LightGBM] [Info] Start training from score 0.699385\n"
     ]
    },
    {
     "name": "stderr",
     "output_type": "stream",
     "text": [
      "num_leaves, val_score: 0.819976:  65%|######5   | 13/20 [05:29<02:58, 25.50s/it]\u001b[32m[I 2021-07-01 13:38:37,157]\u001b[0m Trial 19 finished with value: 0.8206912891827693 and parameters: {'num_leaves': 153}. Best is trial 17 with value: 0.8199760895820278.\u001b[0m\n",
      "num_leaves, val_score: 0.819976:  65%|######5   | 13/20 [05:29<02:58, 25.50s/it]"
     ]
    },
    {
     "name": "stdout",
     "output_type": "stream",
     "text": [
      "[LightGBM] [Warning] Auto-choosing row-wise multi-threading, the overhead of testing was 0.070786 seconds.\n",
      "You can set `force_row_wise=true` to remove the overhead.\n",
      "And if memory is not enough, you can set `force_col_wise=true`.\n",
      "[LightGBM] [Info] Total Bins 10899\n",
      "[LightGBM] [Info] Number of data points in the train set: 1172709, number of used features: 121\n",
      "[LightGBM] [Info] Start training from score 0.699385\n"
     ]
    },
    {
     "name": "stderr",
     "output_type": "stream",
     "text": [
      "num_leaves, val_score: 0.819976:  70%|#######   | 14/20 [05:53<02:31, 25.19s/it]\u001b[32m[I 2021-07-01 13:39:01,623]\u001b[0m Trial 20 finished with value: 0.8201594633267121 and parameters: {'num_leaves': 147}. Best is trial 17 with value: 0.8199760895820278.\u001b[0m\n",
      "num_leaves, val_score: 0.819976:  70%|#######   | 14/20 [05:53<02:31, 25.19s/it]"
     ]
    },
    {
     "name": "stdout",
     "output_type": "stream",
     "text": [
      "[LightGBM] [Warning] Auto-choosing row-wise multi-threading, the overhead of testing was 0.077774 seconds.\n",
      "You can set `force_row_wise=true` to remove the overhead.\n",
      "And if memory is not enough, you can set `force_col_wise=true`.\n",
      "[LightGBM] [Info] Total Bins 10899\n",
      "[LightGBM] [Info] Number of data points in the train set: 1172709, number of used features: 121\n",
      "[LightGBM] [Info] Start training from score 0.699385\n"
     ]
    },
    {
     "name": "stderr",
     "output_type": "stream",
     "text": [
      "num_leaves, val_score: 0.819976:  75%|#######5  | 15/20 [06:21<02:10, 26.02s/it]\u001b[32m[I 2021-07-01 13:39:29,584]\u001b[0m Trial 21 finished with value: 0.8213976108157465 and parameters: {'num_leaves': 192}. Best is trial 17 with value: 0.8199760895820278.\u001b[0m\n",
      "num_leaves, val_score: 0.819976:  75%|#######5  | 15/20 [06:21<02:10, 26.02s/it]"
     ]
    },
    {
     "name": "stdout",
     "output_type": "stream",
     "text": [
      "[LightGBM] [Warning] Auto-choosing row-wise multi-threading, the overhead of testing was 0.079896 seconds.\n",
      "You can set `force_row_wise=true` to remove the overhead.\n",
      "And if memory is not enough, you can set `force_col_wise=true`.\n",
      "[LightGBM] [Info] Total Bins 10899\n",
      "[LightGBM] [Info] Number of data points in the train set: 1172709, number of used features: 121\n",
      "[LightGBM] [Info] Start training from score 0.699385\n"
     ]
    },
    {
     "name": "stderr",
     "output_type": "stream",
     "text": [
      "num_leaves, val_score: 0.819064:  80%|########  | 16/20 [06:53<01:51, 27.75s/it]\u001b[32m[I 2021-07-01 13:40:01,346]\u001b[0m Trial 22 finished with value: 0.819063565044368 and parameters: {'num_leaves': 227}. Best is trial 22 with value: 0.819063565044368.\u001b[0m\n",
      "num_leaves, val_score: 0.819064:  80%|########  | 16/20 [06:53<01:51, 27.75s/it]"
     ]
    },
    {
     "name": "stdout",
     "output_type": "stream",
     "text": [
      "[LightGBM] [Warning] Auto-choosing row-wise multi-threading, the overhead of testing was 0.074372 seconds.\n",
      "You can set `force_row_wise=true` to remove the overhead.\n",
      "And if memory is not enough, you can set `force_col_wise=true`.\n",
      "[LightGBM] [Info] Total Bins 10899\n",
      "[LightGBM] [Info] Number of data points in the train set: 1172709, number of used features: 121\n",
      "[LightGBM] [Info] Start training from score 0.699385\n"
     ]
    },
    {
     "name": "stderr",
     "output_type": "stream",
     "text": [
      "num_leaves, val_score: 0.819064:  85%|########5 | 17/20 [07:24<01:25, 28.62s/it]\u001b[32m[I 2021-07-01 13:40:31,988]\u001b[0m Trial 23 finished with value: 0.8209121798105943 and parameters: {'num_leaves': 232}. Best is trial 22 with value: 0.819063565044368.\u001b[0m\n",
      "num_leaves, val_score: 0.819064:  85%|########5 | 17/20 [07:24<01:25, 28.62s/it]"
     ]
    },
    {
     "name": "stdout",
     "output_type": "stream",
     "text": [
      "[LightGBM] [Warning] Auto-choosing row-wise multi-threading, the overhead of testing was 0.071628 seconds.\n",
      "You can set `force_row_wise=true` to remove the overhead.\n",
      "And if memory is not enough, you can set `force_col_wise=true`.\n",
      "[LightGBM] [Info] Total Bins 10899\n",
      "[LightGBM] [Info] Number of data points in the train set: 1172709, number of used features: 121\n",
      "[LightGBM] [Info] Start training from score 0.699385\n"
     ]
    },
    {
     "name": "stderr",
     "output_type": "stream",
     "text": [
      "num_leaves, val_score: 0.819064:  90%|######### | 18/20 [07:49<00:55, 27.57s/it]\u001b[32m[I 2021-07-01 13:40:57,115]\u001b[0m Trial 24 finished with value: 0.8209880472605453 and parameters: {'num_leaves': 160}. Best is trial 22 with value: 0.819063565044368.\u001b[0m\n",
      "num_leaves, val_score: 0.819064:  90%|######### | 18/20 [07:49<00:55, 27.57s/it]"
     ]
    },
    {
     "name": "stdout",
     "output_type": "stream",
     "text": [
      "[LightGBM] [Warning] Auto-choosing row-wise multi-threading, the overhead of testing was 0.071599 seconds.\n",
      "You can set `force_row_wise=true` to remove the overhead.\n",
      "And if memory is not enough, you can set `force_col_wise=true`.\n",
      "[LightGBM] [Info] Total Bins 10899\n",
      "[LightGBM] [Info] Number of data points in the train set: 1172709, number of used features: 121\n",
      "[LightGBM] [Info] Start training from score 0.699385\n"
     ]
    },
    {
     "name": "stderr",
     "output_type": "stream",
     "text": [
      "num_leaves, val_score: 0.819064:  95%|#########5| 19/20 [08:13<00:26, 26.45s/it]\u001b[32m[I 2021-07-01 13:41:20,943]\u001b[0m Trial 25 finished with value: 0.820874225139093 and parameters: {'num_leaves': 122}. Best is trial 22 with value: 0.819063565044368.\u001b[0m\n",
      "num_leaves, val_score: 0.819064:  95%|#########5| 19/20 [08:13<00:26, 26.45s/it]"
     ]
    },
    {
     "name": "stdout",
     "output_type": "stream",
     "text": [
      "[LightGBM] [Warning] Auto-choosing row-wise multi-threading, the overhead of testing was 0.078261 seconds.\n",
      "You can set `force_row_wise=true` to remove the overhead.\n",
      "And if memory is not enough, you can set `force_col_wise=true`.\n",
      "[LightGBM] [Info] Total Bins 10899\n",
      "[LightGBM] [Info] Number of data points in the train set: 1172709, number of used features: 121\n",
      "[LightGBM] [Info] Start training from score 0.699385\n"
     ]
    },
    {
     "name": "stderr",
     "output_type": "stream",
     "text": [
      "num_leaves, val_score: 0.819064: 100%|##########| 20/20 [08:32<00:00, 24.44s/it]\u001b[32m[I 2021-07-01 13:41:40,701]\u001b[0m Trial 26 finished with value: 0.8326906993254494 and parameters: {'num_leaves': 14}. Best is trial 22 with value: 0.819063565044368.\u001b[0m\n",
      "num_leaves, val_score: 0.819064: 100%|##########| 20/20 [08:32<00:00, 25.65s/it]\n",
      "bagging, val_score: 0.819064:   0%|          | 0/10 [00:00<?, ?it/s]"
     ]
    },
    {
     "name": "stdout",
     "output_type": "stream",
     "text": [
      "[LightGBM] [Warning] Auto-choosing row-wise multi-threading, the overhead of testing was 0.071698 seconds.\n",
      "You can set `force_row_wise=true` to remove the overhead.\n",
      "And if memory is not enough, you can set `force_col_wise=true`.\n",
      "[LightGBM] [Info] Total Bins 10899\n",
      "[LightGBM] [Info] Number of data points in the train set: 1172709, number of used features: 121\n",
      "[LightGBM] [Info] Start training from score 0.699385\n"
     ]
    },
    {
     "name": "stderr",
     "output_type": "stream",
     "text": [
      "bagging, val_score: 0.819064:  10%|#         | 1/10 [00:28<04:16, 28.49s/it]\u001b[32m[I 2021-07-01 13:42:09,201]\u001b[0m Trial 27 finished with value: 0.8212361839930951 and parameters: {'bagging_fraction': 0.6780724731766345, 'bagging_freq': 7}. Best is trial 27 with value: 0.8212361839930951.\u001b[0m\n",
      "bagging, val_score: 0.819064:  10%|#         | 1/10 [00:28<04:16, 28.49s/it]"
     ]
    },
    {
     "name": "stdout",
     "output_type": "stream",
     "text": [
      "[LightGBM] [Warning] Auto-choosing row-wise multi-threading, the overhead of testing was 0.069539 seconds.\n",
      "You can set `force_row_wise=true` to remove the overhead.\n",
      "And if memory is not enough, you can set `force_col_wise=true`.\n",
      "[LightGBM] [Info] Total Bins 10899\n",
      "[LightGBM] [Info] Number of data points in the train set: 1172709, number of used features: 121\n",
      "[LightGBM] [Info] Start training from score 0.699385\n"
     ]
    },
    {
     "name": "stderr",
     "output_type": "stream",
     "text": [
      "bagging, val_score: 0.819064:  20%|##        | 2/10 [00:52<03:26, 25.79s/it]\u001b[32m[I 2021-07-01 13:42:33,099]\u001b[0m Trial 28 finished with value: 0.8240409035624507 and parameters: {'bagging_fraction': 0.5162343252344551, 'bagging_freq': 4}. Best is trial 27 with value: 0.8212361839930951.\u001b[0m\n",
      "bagging, val_score: 0.819064:  20%|##        | 2/10 [00:52<03:26, 25.79s/it]"
     ]
    },
    {
     "name": "stdout",
     "output_type": "stream",
     "text": [
      "[LightGBM] [Warning] Auto-choosing row-wise multi-threading, the overhead of testing was 0.073154 seconds.\n",
      "You can set `force_row_wise=true` to remove the overhead.\n",
      "And if memory is not enough, you can set `force_col_wise=true`.\n",
      "[LightGBM] [Info] Total Bins 10899\n",
      "[LightGBM] [Info] Number of data points in the train set: 1172709, number of used features: 121\n",
      "[LightGBM] [Info] Start training from score 0.699385\n"
     ]
    },
    {
     "name": "stderr",
     "output_type": "stream",
     "text": [
      "bagging, val_score: 0.819064:  30%|###       | 3/10 [01:31<03:42, 31.80s/it]\u001b[32m[I 2021-07-01 13:43:12,052]\u001b[0m Trial 29 finished with value: 0.8211681820023855 and parameters: {'bagging_fraction': 0.808169501779253, 'bagging_freq': 2}. Best is trial 29 with value: 0.8211681820023855.\u001b[0m\n",
      "bagging, val_score: 0.819064:  30%|###       | 3/10 [01:31<03:42, 31.80s/it]"
     ]
    },
    {
     "name": "stdout",
     "output_type": "stream",
     "text": [
      "[LightGBM] [Warning] Auto-choosing row-wise multi-threading, the overhead of testing was 0.074450 seconds.\n",
      "You can set `force_row_wise=true` to remove the overhead.\n",
      "And if memory is not enough, you can set `force_col_wise=true`.\n",
      "[LightGBM] [Info] Total Bins 10899\n",
      "[LightGBM] [Info] Number of data points in the train set: 1172709, number of used features: 121\n",
      "[LightGBM] [Info] Start training from score 0.699385\n"
     ]
    },
    {
     "name": "stderr",
     "output_type": "stream",
     "text": [
      "bagging, val_score: 0.819064:  40%|####      | 4/10 [01:56<02:54, 29.13s/it]\u001b[32m[I 2021-07-01 13:43:37,096]\u001b[0m Trial 30 finished with value: 0.8225687731423604 and parameters: {'bagging_fraction': 0.5981694670925423, 'bagging_freq': 7}. Best is trial 29 with value: 0.8211681820023855.\u001b[0m\n",
      "bagging, val_score: 0.819064:  40%|####      | 4/10 [01:56<02:54, 29.13s/it]"
     ]
    },
    {
     "name": "stdout",
     "output_type": "stream",
     "text": [
      "[LightGBM] [Warning] Auto-choosing row-wise multi-threading, the overhead of testing was 0.070030 seconds.\n",
      "You can set `force_row_wise=true` to remove the overhead.\n",
      "And if memory is not enough, you can set `force_col_wise=true`.\n",
      "[LightGBM] [Info] Total Bins 10899\n",
      "[LightGBM] [Info] Number of data points in the train set: 1172709, number of used features: 121\n",
      "[LightGBM] [Info] Start training from score 0.699385\n"
     ]
    },
    {
     "name": "stderr",
     "output_type": "stream",
     "text": [
      "bagging, val_score: 0.819064:  50%|#####     | 5/10 [02:25<02:25, 29.20s/it]\u001b[32m[I 2021-07-01 13:44:06,399]\u001b[0m Trial 31 finished with value: 0.8213982304023653 and parameters: {'bagging_fraction': 0.7023324666385827, 'bagging_freq': 7}. Best is trial 29 with value: 0.8211681820023855.\u001b[0m\n",
      "bagging, val_score: 0.819064:  50%|#####     | 5/10 [02:25<02:25, 29.20s/it]"
     ]
    },
    {
     "name": "stdout",
     "output_type": "stream",
     "text": [
      "[LightGBM] [Warning] Auto-choosing row-wise multi-threading, the overhead of testing was 0.070529 seconds.\n",
      "You can set `force_row_wise=true` to remove the overhead.\n",
      "And if memory is not enough, you can set `force_col_wise=true`.\n",
      "[LightGBM] [Info] Total Bins 10899\n",
      "[LightGBM] [Info] Number of data points in the train set: 1172709, number of used features: 121\n",
      "[LightGBM] [Info] Start training from score 0.699385\n"
     ]
    },
    {
     "name": "stderr",
     "output_type": "stream",
     "text": [
      "bagging, val_score: 0.819064:  60%|######    | 6/10 [03:01<02:06, 31.52s/it]\u001b[32m[I 2021-07-01 13:44:42,430]\u001b[0m Trial 32 finished with value: 0.8210602953672592 and parameters: {'bagging_fraction': 0.9825165684400282, 'bagging_freq': 7}. Best is trial 32 with value: 0.8210602953672592.\u001b[0m\n",
      "bagging, val_score: 0.819064:  60%|######    | 6/10 [03:01<02:06, 31.52s/it]"
     ]
    },
    {
     "name": "stdout",
     "output_type": "stream",
     "text": [
      "[LightGBM] [Warning] Auto-choosing row-wise multi-threading, the overhead of testing was 0.071105 seconds.\n",
      "You can set `force_row_wise=true` to remove the overhead.\n",
      "And if memory is not enough, you can set `force_col_wise=true`.\n",
      "[LightGBM] [Info] Total Bins 10899\n",
      "[LightGBM] [Info] Number of data points in the train set: 1172709, number of used features: 121\n",
      "[LightGBM] [Info] Start training from score 0.699385\n"
     ]
    },
    {
     "name": "stderr",
     "output_type": "stream",
     "text": [
      "bagging, val_score: 0.819064:  70%|#######   | 7/10 [03:26<01:28, 29.43s/it]\u001b[32m[I 2021-07-01 13:45:07,559]\u001b[0m Trial 33 finished with value: 0.8222099257424154 and parameters: {'bagging_fraction': 0.5367372536896495, 'bagging_freq': 5}. Best is trial 32 with value: 0.8210602953672592.\u001b[0m\n",
      "bagging, val_score: 0.819064:  70%|#######   | 7/10 [03:26<01:28, 29.43s/it]"
     ]
    },
    {
     "name": "stdout",
     "output_type": "stream",
     "text": [
      "[LightGBM] [Warning] Auto-choosing row-wise multi-threading, the overhead of testing was 0.071328 seconds.\n",
      "You can set `force_row_wise=true` to remove the overhead.\n",
      "And if memory is not enough, you can set `force_col_wise=true`.\n",
      "[LightGBM] [Info] Total Bins 10899\n",
      "[LightGBM] [Info] Number of data points in the train set: 1172709, number of used features: 121\n",
      "[LightGBM] [Info] Start training from score 0.699385\n"
     ]
    },
    {
     "name": "stderr",
     "output_type": "stream",
     "text": [
      "bagging, val_score: 0.819064:  80%|########  | 8/10 [03:48<00:53, 26.87s/it]\u001b[32m[I 2021-07-01 13:45:28,960]\u001b[0m Trial 34 finished with value: 0.8230488777292368 and parameters: {'bagging_fraction': 0.48055160451668205, 'bagging_freq': 5}. Best is trial 32 with value: 0.8210602953672592.\u001b[0m\n",
      "bagging, val_score: 0.819064:  80%|########  | 8/10 [03:48<00:53, 26.87s/it]"
     ]
    },
    {
     "name": "stdout",
     "output_type": "stream",
     "text": [
      "[LightGBM] [Warning] Auto-choosing row-wise multi-threading, the overhead of testing was 0.071983 seconds.\n",
      "You can set `force_row_wise=true` to remove the overhead.\n",
      "And if memory is not enough, you can set `force_col_wise=true`.\n",
      "[LightGBM] [Info] Total Bins 10899\n",
      "[LightGBM] [Info] Number of data points in the train set: 1172709, number of used features: 121\n",
      "[LightGBM] [Info] Start training from score 0.699385\n"
     ]
    },
    {
     "name": "stderr",
     "output_type": "stream",
     "text": [
      "bagging, val_score: 0.819064:  90%|######### | 9/10 [04:21<00:28, 28.85s/it]\u001b[32m[I 2021-07-01 13:46:02,166]\u001b[0m Trial 35 finished with value: 0.8218324788363985 and parameters: {'bagging_fraction': 0.9056249891810431, 'bagging_freq': 6}. Best is trial 32 with value: 0.8210602953672592.\u001b[0m\n",
      "bagging, val_score: 0.819064:  90%|######### | 9/10 [04:21<00:28, 28.85s/it]"
     ]
    },
    {
     "name": "stdout",
     "output_type": "stream",
     "text": [
      "[LightGBM] [Warning] Auto-choosing row-wise multi-threading, the overhead of testing was 0.076968 seconds.\n",
      "You can set `force_row_wise=true` to remove the overhead.\n",
      "And if memory is not enough, you can set `force_col_wise=true`.\n",
      "[LightGBM] [Info] Total Bins 10899\n",
      "[LightGBM] [Info] Number of data points in the train set: 1172709, number of used features: 121\n",
      "[LightGBM] [Info] Start training from score 0.699385\n"
     ]
    },
    {
     "name": "stderr",
     "output_type": "stream",
     "text": [
      "bagging, val_score: 0.819064: 100%|##########| 10/10 [04:48<00:00, 28.38s/it]\u001b[32m[I 2021-07-01 13:46:29,500]\u001b[0m Trial 36 finished with value: 0.8221524571870338 and parameters: {'bagging_fraction': 0.7072414109295165, 'bagging_freq': 5}. Best is trial 32 with value: 0.8210602953672592.\u001b[0m\n",
      "bagging, val_score: 0.819064: 100%|##########| 10/10 [04:48<00:00, 28.88s/it]\n",
      "feature_fraction_stage2, val_score: 0.819064:   0%|          | 0/3 [00:00<?, ?it/s]"
     ]
    },
    {
     "name": "stdout",
     "output_type": "stream",
     "text": [
      "[LightGBM] [Warning] Auto-choosing row-wise multi-threading, the overhead of testing was 0.072700 seconds.\n",
      "You can set `force_row_wise=true` to remove the overhead.\n",
      "And if memory is not enough, you can set `force_col_wise=true`.\n",
      "[LightGBM] [Info] Total Bins 10899\n",
      "[LightGBM] [Info] Number of data points in the train set: 1172709, number of used features: 121\n",
      "[LightGBM] [Info] Start training from score 0.699385\n"
     ]
    },
    {
     "name": "stderr",
     "output_type": "stream",
     "text": [
      "feature_fraction_stage2, val_score: 0.819056:  33%|###3      | 1/3 [00:34<01:08, 34.12s/it]\u001b[32m[I 2021-07-01 13:47:03,625]\u001b[0m Trial 37 finished with value: 0.8190556125152745 and parameters: {'feature_fraction': 0.48000000000000004}. Best is trial 37 with value: 0.8190556125152745.\u001b[0m\n",
      "feature_fraction_stage2, val_score: 0.819056:  33%|###3      | 1/3 [00:34<01:08, 34.12s/it]"
     ]
    },
    {
     "name": "stdout",
     "output_type": "stream",
     "text": [
      "[LightGBM] [Warning] Auto-choosing row-wise multi-threading, the overhead of testing was 0.070999 seconds.\n",
      "You can set `force_row_wise=true` to remove the overhead.\n",
      "And if memory is not enough, you can set `force_col_wise=true`.\n",
      "[LightGBM] [Info] Total Bins 10899\n",
      "[LightGBM] [Info] Number of data points in the train set: 1172709, number of used features: 121\n",
      "[LightGBM] [Info] Start training from score 0.699385\n"
     ]
    },
    {
     "name": "stderr",
     "output_type": "stream",
     "text": [
      "feature_fraction_stage2, val_score: 0.819056:  67%|######6   | 2/3 [01:05<00:32, 32.40s/it]\u001b[32m[I 2021-07-01 13:47:34,815]\u001b[0m Trial 38 finished with value: 0.8216490272751789 and parameters: {'feature_fraction': 0.41600000000000004}. Best is trial 37 with value: 0.8190556125152745.\u001b[0m\n",
      "feature_fraction_stage2, val_score: 0.819056:  67%|######6   | 2/3 [01:05<00:32, 32.40s/it]"
     ]
    },
    {
     "name": "stdout",
     "output_type": "stream",
     "text": [
      "[LightGBM] [Warning] Auto-choosing row-wise multi-threading, the overhead of testing was 0.072254 seconds.\n",
      "You can set `force_row_wise=true` to remove the overhead.\n",
      "And if memory is not enough, you can set `force_col_wise=true`.\n",
      "[LightGBM] [Info] Total Bins 10899\n",
      "[LightGBM] [Info] Number of data points in the train set: 1172709, number of used features: 121\n",
      "[LightGBM] [Info] Start training from score 0.699385\n"
     ]
    },
    {
     "name": "stderr",
     "output_type": "stream",
     "text": [
      "feature_fraction_stage2, val_score: 0.819056: 100%|##########| 3/3 [01:34<00:00, 30.91s/it]\u001b[32m[I 2021-07-01 13:48:03,953]\u001b[0m Trial 39 finished with value: 0.8234859085733076 and parameters: {'feature_fraction': 0.44800000000000006}. Best is trial 37 with value: 0.8190556125152745.\u001b[0m\n",
      "feature_fraction_stage2, val_score: 0.819056: 100%|##########| 3/3 [01:34<00:00, 31.48s/it]\n",
      "regularization_factors, val_score: 0.819056:   0%|          | 0/20 [00:00<?, ?it/s]"
     ]
    },
    {
     "name": "stdout",
     "output_type": "stream",
     "text": [
      "[LightGBM] [Warning] Auto-choosing row-wise multi-threading, the overhead of testing was 0.071006 seconds.\n",
      "You can set `force_row_wise=true` to remove the overhead.\n",
      "And if memory is not enough, you can set `force_col_wise=true`.\n",
      "[LightGBM] [Info] Total Bins 10899\n",
      "[LightGBM] [Info] Number of data points in the train set: 1172709, number of used features: 121\n",
      "[LightGBM] [Info] Start training from score 0.699385\n"
     ]
    },
    {
     "name": "stderr",
     "output_type": "stream",
     "text": [
      "regularization_factors, val_score: 0.819056:   5%|5         | 1/20 [00:34<10:55, 34.50s/it]\u001b[32m[I 2021-07-01 13:48:38,459]\u001b[0m Trial 40 finished with value: 0.8194717959974063 and parameters: {'lambda_l1': 8.629473924881948e-05, 'lambda_l2': 1.489265972097687e-07}. Best is trial 40 with value: 0.8194717959974063.\u001b[0m\n",
      "regularization_factors, val_score: 0.819056:   5%|5         | 1/20 [00:34<10:55, 34.50s/it]"
     ]
    },
    {
     "name": "stdout",
     "output_type": "stream",
     "text": [
      "[LightGBM] [Warning] Auto-choosing row-wise multi-threading, the overhead of testing was 0.070481 seconds.\n",
      "You can set `force_row_wise=true` to remove the overhead.\n",
      "And if memory is not enough, you can set `force_col_wise=true`.\n",
      "[LightGBM] [Info] Total Bins 10899\n",
      "[LightGBM] [Info] Number of data points in the train set: 1172709, number of used features: 121\n",
      "[LightGBM] [Info] Start training from score 0.699385\n"
     ]
    },
    {
     "name": "stderr",
     "output_type": "stream",
     "text": [
      "regularization_factors, val_score: 0.819031:  10%|#         | 2/20 [01:09<10:21, 34.55s/it]\u001b[32m[I 2021-07-01 13:49:13,045]\u001b[0m Trial 41 finished with value: 0.8190310667487753 and parameters: {'lambda_l1': 3.7100699008253825e-07, 'lambda_l2': 2.374061535888586e-07}. Best is trial 41 with value: 0.8190310667487753.\u001b[0m\n",
      "regularization_factors, val_score: 0.819031:  10%|#         | 2/20 [01:09<10:21, 34.55s/it]"
     ]
    },
    {
     "name": "stdout",
     "output_type": "stream",
     "text": [
      "[LightGBM] [Warning] Auto-choosing row-wise multi-threading, the overhead of testing was 0.076901 seconds.\n",
      "You can set `force_row_wise=true` to remove the overhead.\n",
      "And if memory is not enough, you can set `force_col_wise=true`.\n",
      "[LightGBM] [Info] Total Bins 10899\n",
      "[LightGBM] [Info] Number of data points in the train set: 1172709, number of used features: 121\n",
      "[LightGBM] [Info] Start training from score 0.699385\n"
     ]
    },
    {
     "name": "stderr",
     "output_type": "stream",
     "text": [
      "regularization_factors, val_score: 0.819031:  15%|#5        | 3/20 [01:43<09:46, 34.48s/it]\u001b[32m[I 2021-07-01 13:49:47,433]\u001b[0m Trial 42 finished with value: 0.819445712418473 and parameters: {'lambda_l1': 4.961361659522586e-06, 'lambda_l2': 0.0017208522717947765}. Best is trial 41 with value: 0.8190310667487753.\u001b[0m\n",
      "regularization_factors, val_score: 0.819031:  15%|#5        | 3/20 [01:43<09:46, 34.48s/it]"
     ]
    },
    {
     "name": "stdout",
     "output_type": "stream",
     "text": [
      "[LightGBM] [Warning] Auto-choosing row-wise multi-threading, the overhead of testing was 0.072956 seconds.\n",
      "You can set `force_row_wise=true` to remove the overhead.\n",
      "And if memory is not enough, you can set `force_col_wise=true`.\n",
      "[LightGBM] [Info] Total Bins 10899\n",
      "[LightGBM] [Info] Number of data points in the train set: 1172709, number of used features: 121\n",
      "[LightGBM] [Info] Start training from score 0.699385\n"
     ]
    },
    {
     "name": "stderr",
     "output_type": "stream",
     "text": [
      "regularization_factors, val_score: 0.819031:  20%|##        | 4/20 [02:18<09:15, 34.70s/it]\u001b[32m[I 2021-07-01 13:50:22,463]\u001b[0m Trial 43 finished with value: 0.8190324390090823 and parameters: {'lambda_l1': 5.060738845616527e-06, 'lambda_l2': 9.11165022696235e-07}. Best is trial 41 with value: 0.8190310667487753.\u001b[0m\n",
      "regularization_factors, val_score: 0.819031:  20%|##        | 4/20 [02:18<09:15, 34.70s/it]"
     ]
    },
    {
     "name": "stdout",
     "output_type": "stream",
     "text": [
      "[LightGBM] [Warning] Auto-choosing row-wise multi-threading, the overhead of testing was 0.074416 seconds.\n",
      "You can set `force_row_wise=true` to remove the overhead.\n",
      "And if memory is not enough, you can set `force_col_wise=true`.\n",
      "[LightGBM] [Info] Total Bins 10899\n",
      "[LightGBM] [Info] Number of data points in the train set: 1172709, number of used features: 121\n",
      "[LightGBM] [Info] Start training from score 0.699385\n"
     ]
    },
    {
     "name": "stderr",
     "output_type": "stream",
     "text": [
      "regularization_factors, val_score: 0.819031:  25%|##5       | 5/20 [02:53<08:41, 34.75s/it]\u001b[32m[I 2021-07-01 13:50:57,296]\u001b[0m Trial 44 finished with value: 0.8190308692581827 and parameters: {'lambda_l1': 1.6075624265646878e-06, 'lambda_l2': 3.753863207154084e-08}. Best is trial 44 with value: 0.8190308692581827.\u001b[0m\n",
      "regularization_factors, val_score: 0.819031:  25%|##5       | 5/20 [02:53<08:41, 34.75s/it]"
     ]
    },
    {
     "name": "stdout",
     "output_type": "stream",
     "text": [
      "[LightGBM] [Warning] Auto-choosing row-wise multi-threading, the overhead of testing was 0.071613 seconds.\n",
      "You can set `force_row_wise=true` to remove the overhead.\n",
      "And if memory is not enough, you can set `force_col_wise=true`.\n",
      "[LightGBM] [Info] Total Bins 10899\n",
      "[LightGBM] [Info] Number of data points in the train set: 1172709, number of used features: 121\n",
      "[LightGBM] [Info] Start training from score 0.699385\n"
     ]
    },
    {
     "name": "stderr",
     "output_type": "stream",
     "text": [
      "regularization_factors, val_score: 0.819031:  30%|###       | 6/20 [03:28<08:06, 34.76s/it]\u001b[32m[I 2021-07-01 13:51:32,084]\u001b[0m Trial 45 finished with value: 0.8190374763124968 and parameters: {'lambda_l1': 4.8555953756719245e-06, 'lambda_l2': 1.4609378201772397e-07}. Best is trial 44 with value: 0.8190308692581827.\u001b[0m\n",
      "regularization_factors, val_score: 0.819031:  30%|###       | 6/20 [03:28<08:06, 34.76s/it]"
     ]
    },
    {
     "name": "stdout",
     "output_type": "stream",
     "text": [
      "[LightGBM] [Warning] Auto-choosing row-wise multi-threading, the overhead of testing was 0.072041 seconds.\n",
      "You can set `force_row_wise=true` to remove the overhead.\n",
      "And if memory is not enough, you can set `force_col_wise=true`.\n",
      "[LightGBM] [Info] Total Bins 10899\n",
      "[LightGBM] [Info] Number of data points in the train set: 1172709, number of used features: 121\n",
      "[LightGBM] [Info] Start training from score 0.699385\n"
     ]
    },
    {
     "name": "stderr",
     "output_type": "stream",
     "text": [
      "regularization_factors, val_score: 0.819031:  35%|###5      | 7/20 [04:01<07:26, 34.32s/it]\u001b[32m[I 2021-07-01 13:52:05,505]\u001b[0m Trial 46 finished with value: 0.8213807796128707 and parameters: {'lambda_l1': 1.0216302954893506e-06, 'lambda_l2': 0.002618666403678978}. Best is trial 44 with value: 0.8190308692581827.\u001b[0m\n",
      "regularization_factors, val_score: 0.819031:  35%|###5      | 7/20 [04:01<07:26, 34.32s/it]"
     ]
    },
    {
     "name": "stdout",
     "output_type": "stream",
     "text": [
      "[LightGBM] [Warning] Auto-choosing row-wise multi-threading, the overhead of testing was 0.080842 seconds.\n",
      "You can set `force_row_wise=true` to remove the overhead.\n",
      "And if memory is not enough, you can set `force_col_wise=true`.\n",
      "[LightGBM] [Info] Total Bins 10899\n",
      "[LightGBM] [Info] Number of data points in the train set: 1172709, number of used features: 121\n",
      "[LightGBM] [Info] Start training from score 0.699385\n"
     ]
    },
    {
     "name": "stderr",
     "output_type": "stream",
     "text": [
      "regularization_factors, val_score: 0.819031:  40%|####      | 8/20 [04:34<06:48, 34.00s/it]\u001b[32m[I 2021-07-01 13:52:38,830]\u001b[0m Trial 47 finished with value: 0.8198853008559291 and parameters: {'lambda_l1': 0.3038736287759215, 'lambda_l2': 7.648999679374733e-06}. Best is trial 44 with value: 0.8190308692581827.\u001b[0m\n",
      "regularization_factors, val_score: 0.819031:  40%|####      | 8/20 [04:34<06:48, 34.00s/it]"
     ]
    },
    {
     "name": "stdout",
     "output_type": "stream",
     "text": [
      "[LightGBM] [Warning] Auto-choosing row-wise multi-threading, the overhead of testing was 0.070846 seconds.\n",
      "You can set `force_row_wise=true` to remove the overhead.\n",
      "And if memory is not enough, you can set `force_col_wise=true`.\n",
      "[LightGBM] [Info] Total Bins 10899\n",
      "[LightGBM] [Info] Number of data points in the train set: 1172709, number of used features: 121\n",
      "[LightGBM] [Info] Start training from score 0.699385\n"
     ]
    },
    {
     "name": "stderr",
     "output_type": "stream",
     "text": [
      "regularization_factors, val_score: 0.819031:  45%|####5     | 9/20 [05:09<06:16, 34.19s/it]\u001b[32m[I 2021-07-01 13:53:13,428]\u001b[0m Trial 48 finished with value: 0.8190571384448602 and parameters: {'lambda_l1': 7.300899897388483e-06, 'lambda_l2': 1.4707028586142285e-07}. Best is trial 44 with value: 0.8190308692581827.\u001b[0m\n",
      "regularization_factors, val_score: 0.819031:  45%|####5     | 9/20 [05:09<06:16, 34.19s/it]"
     ]
    },
    {
     "name": "stdout",
     "output_type": "stream",
     "text": [
      "[LightGBM] [Warning] Auto-choosing row-wise multi-threading, the overhead of testing was 0.079681 seconds.\n",
      "You can set `force_row_wise=true` to remove the overhead.\n",
      "And if memory is not enough, you can set `force_col_wise=true`.\n",
      "[LightGBM] [Info] Total Bins 10899\n",
      "[LightGBM] [Info] Number of data points in the train set: 1172709, number of used features: 121\n",
      "[LightGBM] [Info] Start training from score 0.699385\n"
     ]
    },
    {
     "name": "stderr",
     "output_type": "stream",
     "text": [
      "regularization_factors, val_score: 0.819031:  50%|#####     | 10/20 [05:43<05:40, 34.05s/it]\u001b[32m[I 2021-07-01 13:53:47,154]\u001b[0m Trial 49 finished with value: 0.8203385874703946 and parameters: {'lambda_l1': 5.562667974618576e-05, 'lambda_l2': 7.003781289653303}. Best is trial 44 with value: 0.8190308692581827.\u001b[0m\n",
      "regularization_factors, val_score: 0.819031:  50%|#####     | 10/20 [05:43<05:40, 34.05s/it]"
     ]
    },
    {
     "name": "stdout",
     "output_type": "stream",
     "text": [
      "[LightGBM] [Warning] Auto-choosing row-wise multi-threading, the overhead of testing was 0.072410 seconds.\n",
      "You can set `force_row_wise=true` to remove the overhead.\n",
      "And if memory is not enough, you can set `force_col_wise=true`.\n",
      "[LightGBM] [Info] Total Bins 10899\n",
      "[LightGBM] [Info] Number of data points in the train set: 1172709, number of used features: 121\n",
      "[LightGBM] [Info] Start training from score 0.699385\n"
     ]
    },
    {
     "name": "stderr",
     "output_type": "stream",
     "text": [
      "regularization_factors, val_score: 0.819031:  55%|#####5    | 11/20 [06:13<04:57, 33.00s/it]\u001b[32m[I 2021-07-01 13:54:17,797]\u001b[0m Trial 50 finished with value: 0.8213891591214004 and parameters: {'lambda_l1': 1.257276238426162e-08, 'lambda_l2': 1.9215973289985162}. Best is trial 44 with value: 0.8190308692581827.\u001b[0m\n",
      "regularization_factors, val_score: 0.819031:  55%|#####5    | 11/20 [06:13<04:57, 33.00s/it]"
     ]
    },
    {
     "name": "stdout",
     "output_type": "stream",
     "text": [
      "[LightGBM] [Warning] Auto-choosing row-wise multi-threading, the overhead of testing was 0.068790 seconds.\n",
      "You can set `force_row_wise=true` to remove the overhead.\n",
      "And if memory is not enough, you can set `force_col_wise=true`.\n",
      "[LightGBM] [Info] Total Bins 10899\n",
      "[LightGBM] [Info] Number of data points in the train set: 1172709, number of used features: 121\n",
      "[LightGBM] [Info] Start training from score 0.699385\n"
     ]
    },
    {
     "name": "stderr",
     "output_type": "stream",
     "text": [
      "regularization_factors, val_score: 0.819031:  60%|######    | 12/20 [06:48<04:28, 33.59s/it]\u001b[32m[I 2021-07-01 13:54:52,711]\u001b[0m Trial 51 finished with value: 0.8190318525907664 and parameters: {'lambda_l1': 1.5094993883906808e-08, 'lambda_l2': 1.3079200343650199e-08}. Best is trial 44 with value: 0.8190308692581827.\u001b[0m\n",
      "regularization_factors, val_score: 0.819031:  60%|######    | 12/20 [06:48<04:28, 33.59s/it]"
     ]
    },
    {
     "name": "stdout",
     "output_type": "stream",
     "text": [
      "[LightGBM] [Warning] Auto-choosing row-wise multi-threading, the overhead of testing was 0.070233 seconds.\n",
      "You can set `force_row_wise=true` to remove the overhead.\n",
      "And if memory is not enough, you can set `force_col_wise=true`.\n",
      "[LightGBM] [Info] Total Bins 10899\n",
      "[LightGBM] [Info] Number of data points in the train set: 1172709, number of used features: 121\n",
      "[LightGBM] [Info] Start training from score 0.699385\n"
     ]
    },
    {
     "name": "stderr",
     "output_type": "stream",
     "text": [
      "regularization_factors, val_score: 0.819031:  65%|######5   | 13/20 [07:17<03:45, 32.22s/it]\u001b[32m[I 2021-07-01 13:55:21,788]\u001b[0m Trial 52 finished with value: 0.8215895571345487 and parameters: {'lambda_l1': 7.840542570667646e-08, 'lambda_l2': 6.257996285528987e-05}. Best is trial 44 with value: 0.8190308692581827.\u001b[0m\n",
      "regularization_factors, val_score: 0.819031:  65%|######5   | 13/20 [07:17<03:45, 32.22s/it]"
     ]
    },
    {
     "name": "stdout",
     "output_type": "stream",
     "text": [
      "[LightGBM] [Warning] Auto-choosing row-wise multi-threading, the overhead of testing was 0.070761 seconds.\n",
      "You can set `force_row_wise=true` to remove the overhead.\n",
      "And if memory is not enough, you can set `force_col_wise=true`.\n",
      "[LightGBM] [Info] Total Bins 10899\n",
      "[LightGBM] [Info] Number of data points in the train set: 1172709, number of used features: 121\n",
      "[LightGBM] [Info] Start training from score 0.699385\n"
     ]
    },
    {
     "name": "stderr",
     "output_type": "stream",
     "text": [
      "regularization_factors, val_score: 0.819031:  70%|#######   | 14/20 [07:50<03:14, 32.48s/it]\u001b[32m[I 2021-07-01 13:55:54,868]\u001b[0m Trial 53 finished with value: 0.8204046083374092 and parameters: {'lambda_l1': 0.004316450188190123, 'lambda_l2': 1.1203232887586629e-08}. Best is trial 44 with value: 0.8190308692581827.\u001b[0m\n",
      "regularization_factors, val_score: 0.819031:  70%|#######   | 14/20 [07:50<03:14, 32.48s/it]"
     ]
    },
    {
     "name": "stdout",
     "output_type": "stream",
     "text": [
      "[LightGBM] [Warning] Auto-choosing row-wise multi-threading, the overhead of testing was 0.072428 seconds.\n",
      "You can set `force_row_wise=true` to remove the overhead.\n",
      "And if memory is not enough, you can set `force_col_wise=true`.\n",
      "[LightGBM] [Info] Total Bins 10899\n",
      "[LightGBM] [Info] Number of data points in the train set: 1172709, number of used features: 121\n",
      "[LightGBM] [Info] Start training from score 0.699385\n"
     ]
    },
    {
     "name": "stderr",
     "output_type": "stream",
     "text": [
      "regularization_factors, val_score: 0.819031:  75%|#######5  | 15/20 [08:21<02:39, 31.98s/it]\u001b[32m[I 2021-07-01 13:56:25,684]\u001b[0m Trial 54 finished with value: 0.8216907444251543 and parameters: {'lambda_l1': 0.003594087384035224, 'lambda_l2': 0.08032003567807668}. Best is trial 44 with value: 0.8190308692581827.\u001b[0m\n",
      "regularization_factors, val_score: 0.819031:  75%|#######5  | 15/20 [08:21<02:39, 31.98s/it]"
     ]
    },
    {
     "name": "stdout",
     "output_type": "stream",
     "text": [
      "[LightGBM] [Warning] Auto-choosing row-wise multi-threading, the overhead of testing was 0.071456 seconds.\n",
      "You can set `force_row_wise=true` to remove the overhead.\n",
      "And if memory is not enough, you can set `force_col_wise=true`.\n",
      "[LightGBM] [Info] Total Bins 10899\n",
      "[LightGBM] [Info] Number of data points in the train set: 1172709, number of used features: 121\n",
      "[LightGBM] [Info] Start training from score 0.699385\n"
     ]
    },
    {
     "name": "stderr",
     "output_type": "stream",
     "text": [
      "regularization_factors, val_score: 0.819023:  80%|########  | 16/20 [08:56<02:11, 32.86s/it]\u001b[32m[I 2021-07-01 13:57:00,606]\u001b[0m Trial 55 finished with value: 0.8190227321727632 and parameters: {'lambda_l1': 1.3522116780407148e-07, 'lambda_l2': 6.7666887821856935e-06}. Best is trial 55 with value: 0.8190227321727632.\u001b[0m\n",
      "regularization_factors, val_score: 0.819023:  80%|########  | 16/20 [08:56<02:11, 32.86s/it]"
     ]
    },
    {
     "name": "stdout",
     "output_type": "stream",
     "text": [
      "[LightGBM] [Warning] Auto-choosing row-wise multi-threading, the overhead of testing was 0.078733 seconds.\n",
      "You can set `force_row_wise=true` to remove the overhead.\n",
      "And if memory is not enough, you can set `force_col_wise=true`.\n",
      "[LightGBM] [Info] Total Bins 10899\n",
      "[LightGBM] [Info] Number of data points in the train set: 1172709, number of used features: 121\n",
      "[LightGBM] [Info] Start training from score 0.699385\n"
     ]
    },
    {
     "name": "stderr",
     "output_type": "stream",
     "text": [
      "regularization_factors, val_score: 0.819023:  85%|########5 | 17/20 [09:31<01:40, 33.39s/it]\u001b[32m[I 2021-07-01 13:57:35,224]\u001b[0m Trial 56 finished with value: 0.8190280084556057 and parameters: {'lambda_l1': 1.1457334070680105e-07, 'lambda_l2': 1.2586417250115777e-05}. Best is trial 55 with value: 0.8190227321727632.\u001b[0m\n",
      "regularization_factors, val_score: 0.819023:  85%|########5 | 17/20 [09:31<01:40, 33.39s/it]"
     ]
    },
    {
     "name": "stdout",
     "output_type": "stream",
     "text": [
      "[LightGBM] [Warning] Auto-choosing row-wise multi-threading, the overhead of testing was 0.069462 seconds.\n",
      "You can set `force_row_wise=true` to remove the overhead.\n",
      "And if memory is not enough, you can set `force_col_wise=true`.\n",
      "[LightGBM] [Info] Total Bins 10899\n",
      "[LightGBM] [Info] Number of data points in the train set: 1172709, number of used features: 121\n",
      "[LightGBM] [Info] Start training from score 0.699385\n"
     ]
    },
    {
     "name": "stderr",
     "output_type": "stream",
     "text": [
      "regularization_factors, val_score: 0.819023:  90%|######### | 18/20 [10:03<01:06, 33.06s/it]\u001b[32m[I 2021-07-01 13:58:07,514]\u001b[0m Trial 57 finished with value: 0.8218231797789527 and parameters: {'lambda_l1': 7.677347942944716, 'lambda_l2': 1.84373091713061e-05}. Best is trial 55 with value: 0.8190227321727632.\u001b[0m\n",
      "regularization_factors, val_score: 0.819023:  90%|######### | 18/20 [10:03<01:06, 33.06s/it]"
     ]
    },
    {
     "name": "stdout",
     "output_type": "stream",
     "text": [
      "[LightGBM] [Warning] Auto-choosing row-wise multi-threading, the overhead of testing was 0.072832 seconds.\n",
      "You can set `force_row_wise=true` to remove the overhead.\n",
      "And if memory is not enough, you can set `force_col_wise=true`.\n",
      "[LightGBM] [Info] Total Bins 10899\n",
      "[LightGBM] [Info] Number of data points in the train set: 1172709, number of used features: 121\n",
      "[LightGBM] [Info] Start training from score 0.699385\n"
     ]
    },
    {
     "name": "stderr",
     "output_type": "stream",
     "text": [
      "regularization_factors, val_score: 0.819023:  95%|#########5| 19/20 [10:36<00:33, 33.14s/it]\u001b[32m[I 2021-07-01 13:58:40,832]\u001b[0m Trial 58 finished with value: 0.8206913202605028 and parameters: {'lambda_l1': 8.108226005382036e-08, 'lambda_l2': 0.00020569481712420863}. Best is trial 55 with value: 0.8190227321727632.\u001b[0m\n",
      "regularization_factors, val_score: 0.819023:  95%|#########5| 19/20 [10:36<00:33, 33.14s/it]"
     ]
    },
    {
     "name": "stdout",
     "output_type": "stream",
     "text": [
      "[LightGBM] [Warning] Auto-choosing row-wise multi-threading, the overhead of testing was 0.075336 seconds.\n",
      "You can set `force_row_wise=true` to remove the overhead.\n",
      "And if memory is not enough, you can set `force_col_wise=true`.\n",
      "[LightGBM] [Info] Total Bins 10899\n",
      "[LightGBM] [Info] Number of data points in the train set: 1172709, number of used features: 121\n",
      "[LightGBM] [Info] Start training from score 0.699385\n"
     ]
    },
    {
     "name": "stderr",
     "output_type": "stream",
     "text": [
      "regularization_factors, val_score: 0.819023: 100%|##########| 20/20 [11:11<00:00, 33.69s/it]\u001b[32m[I 2021-07-01 13:59:15,817]\u001b[0m Trial 59 finished with value: 0.8190328332542695 and parameters: {'lambda_l1': 1.1735525342541399e-07, 'lambda_l2': 3.1884735334445535e-06}. Best is trial 55 with value: 0.8190227321727632.\u001b[0m\n",
      "regularization_factors, val_score: 0.819023: 100%|##########| 20/20 [11:11<00:00, 33.59s/it]\n",
      "min_data_in_leaf, val_score: 0.819023:   0%|          | 0/5 [00:00<?, ?it/s]"
     ]
    },
    {
     "name": "stdout",
     "output_type": "stream",
     "text": [
      "[LightGBM] [Warning] Auto-choosing row-wise multi-threading, the overhead of testing was 0.073034 seconds.\n",
      "You can set `force_row_wise=true` to remove the overhead.\n",
      "And if memory is not enough, you can set `force_col_wise=true`.\n",
      "[LightGBM] [Info] Total Bins 10899\n",
      "[LightGBM] [Info] Number of data points in the train set: 1172709, number of used features: 121\n",
      "[LightGBM] [Info] Start training from score 0.699385\n"
     ]
    },
    {
     "name": "stderr",
     "output_type": "stream",
     "text": [
      "min_data_in_leaf, val_score: 0.819023:  20%|##        | 1/5 [00:31<02:06, 31.59s/it]\u001b[32m[I 2021-07-01 13:59:47,408]\u001b[0m Trial 60 finished with value: 0.8220181044350098 and parameters: {'min_child_samples': 50}. Best is trial 60 with value: 0.8220181044350098.\u001b[0m\n",
      "min_data_in_leaf, val_score: 0.819023:  20%|##        | 1/5 [00:31<02:06, 31.59s/it]"
     ]
    },
    {
     "name": "stdout",
     "output_type": "stream",
     "text": [
      "[LightGBM] [Warning] Auto-choosing row-wise multi-threading, the overhead of testing was 0.073590 seconds.\n",
      "You can set `force_row_wise=true` to remove the overhead.\n",
      "And if memory is not enough, you can set `force_col_wise=true`.\n",
      "[LightGBM] [Info] Total Bins 10899\n",
      "[LightGBM] [Info] Number of data points in the train set: 1172709, number of used features: 121\n",
      "[LightGBM] [Info] Start training from score 0.699385\n"
     ]
    },
    {
     "name": "stderr",
     "output_type": "stream",
     "text": [
      "min_data_in_leaf, val_score: 0.819023:  40%|####      | 2/5 [01:01<01:31, 30.56s/it]\u001b[32m[I 2021-07-01 14:00:17,255]\u001b[0m Trial 61 finished with value: 0.8241211872098564 and parameters: {'min_child_samples': 25}. Best is trial 60 with value: 0.8220181044350098.\u001b[0m\n",
      "min_data_in_leaf, val_score: 0.819023:  40%|####      | 2/5 [01:01<01:31, 30.56s/it]"
     ]
    },
    {
     "name": "stdout",
     "output_type": "stream",
     "text": [
      "[LightGBM] [Warning] Auto-choosing row-wise multi-threading, the overhead of testing was 0.071044 seconds.\n",
      "You can set `force_row_wise=true` to remove the overhead.\n",
      "And if memory is not enough, you can set `force_col_wise=true`.\n",
      "[LightGBM] [Info] Total Bins 10899\n",
      "[LightGBM] [Info] Number of data points in the train set: 1172709, number of used features: 121\n",
      "[LightGBM] [Info] Start training from score 0.699385\n"
     ]
    },
    {
     "name": "stderr",
     "output_type": "stream",
     "text": [
      "min_data_in_leaf, val_score: 0.817006:  60%|######    | 3/5 [01:37<01:06, 33.12s/it]\u001b[32m[I 2021-07-01 14:00:53,415]\u001b[0m Trial 62 finished with value: 0.8170056455037346 and parameters: {'min_child_samples': 100}. Best is trial 62 with value: 0.8170056455037346.\u001b[0m\n",
      "min_data_in_leaf, val_score: 0.817006:  60%|######    | 3/5 [01:37<01:06, 33.12s/it]"
     ]
    },
    {
     "name": "stdout",
     "output_type": "stream",
     "text": [
      "[LightGBM] [Warning] Auto-choosing row-wise multi-threading, the overhead of testing was 0.070405 seconds.\n",
      "You can set `force_row_wise=true` to remove the overhead.\n",
      "And if memory is not enough, you can set `force_col_wise=true`.\n",
      "[LightGBM] [Info] Total Bins 10899\n",
      "[LightGBM] [Info] Number of data points in the train set: 1172709, number of used features: 121\n",
      "[LightGBM] [Info] Start training from score 0.699385\n"
     ]
    },
    {
     "name": "stderr",
     "output_type": "stream",
     "text": [
      "min_data_in_leaf, val_score: 0.817006:  80%|########  | 4/5 [02:06<00:31, 31.51s/it]\u001b[32m[I 2021-07-01 14:01:22,451]\u001b[0m Trial 63 finished with value: 0.8241189964083229 and parameters: {'min_child_samples': 10}. Best is trial 62 with value: 0.8170056455037346.\u001b[0m\n",
      "min_data_in_leaf, val_score: 0.817006:  80%|########  | 4/5 [02:06<00:31, 31.51s/it]"
     ]
    },
    {
     "name": "stdout",
     "output_type": "stream",
     "text": [
      "[LightGBM] [Warning] Auto-choosing row-wise multi-threading, the overhead of testing was 0.069455 seconds.\n",
      "You can set `force_row_wise=true` to remove the overhead.\n",
      "And if memory is not enough, you can set `force_col_wise=true`.\n",
      "[LightGBM] [Info] Total Bins 10899\n",
      "[LightGBM] [Info] Number of data points in the train set: 1172709, number of used features: 121\n",
      "[LightGBM] [Info] Start training from score 0.699385\n"
     ]
    },
    {
     "name": "stderr",
     "output_type": "stream",
     "text": [
      "min_data_in_leaf, val_score: 0.817006: 100%|##########| 5/5 [02:35<00:00, 30.71s/it]\u001b[32m[I 2021-07-01 14:01:51,744]\u001b[0m Trial 64 finished with value: 0.8296990566732315 and parameters: {'min_child_samples': 5}. Best is trial 62 with value: 0.8170056455037346.\u001b[0m\n",
      "min_data_in_leaf, val_score: 0.817006: 100%|##########| 5/5 [02:35<00:00, 31.19s/it]\n"
     ]
    }
   ],
   "source": [
    "tr_idx = tr_idxs[idx]\n",
    "val_idx = val_idxs[idx]\n",
    "\n",
    "x_train = train_X.loc[tr_idx].reset_index(drop=True)\n",
    "y_train = train_y.loc[tr_idx].reset_index(drop=True)\n",
    "x_valid = train_X.loc[val_idx].reset_index(drop=True)\n",
    "y_valid = train_y.loc[val_idx].reset_index(drop=True)\n",
    "\n",
    "\n",
    "trains = lgbm.Dataset(x_train[feature_cols4], y_train['target1'])\n",
    "valids = lgbm.Dataset(x_valid[feature_cols4], y_valid['target1'])\n",
    "\n",
    "\n",
    "model4 = lgbm.train(params, trains, valid_sets=[trains, valids],\n",
    "                    verbose_eval=False)"
   ]
  },
  {
   "cell_type": "code",
   "execution_count": null,
   "id": "0909e986",
   "metadata": {},
   "outputs": [],
   "source": []
  },
  {
   "cell_type": "code",
   "execution_count": null,
   "id": "b22e7a57",
   "metadata": {},
   "outputs": [],
   "source": []
  },
  {
   "cell_type": "code",
   "execution_count": 41,
   "id": "339cafe6",
   "metadata": {},
   "outputs": [
    {
     "data": {
      "text/plain": [
       "{'objective': 'regression',\n",
       " 'metric': 'l1',\n",
       " 'learning_rate': 0.01,\n",
       " 'random_seed': 777,\n",
       " 'feature_pre_filter': False,\n",
       " 'lambda_l1': 7.635951631226586e-07,\n",
       " 'lambda_l2': 1.3545756002061381e-08,\n",
       " 'num_leaves': 64,\n",
       " 'feature_fraction': 0.516,\n",
       " 'bagging_fraction': 1.0,\n",
       " 'bagging_freq': 0,\n",
       " 'min_child_samples': 100,\n",
       " 'num_iterations': 1000,\n",
       " 'early_stopping_round': 10}"
      ]
     },
     "execution_count": 41,
     "metadata": {},
     "output_type": "execute_result"
    }
   ],
   "source": [
    "model1.params"
   ]
  },
  {
   "cell_type": "code",
   "execution_count": 42,
   "id": "3547ebc1",
   "metadata": {},
   "outputs": [
    {
     "data": {
      "text/plain": [
       "{'objective': 'regression',\n",
       " 'metric': 'l1',\n",
       " 'learning_rate': 0.01,\n",
       " 'random_seed': 777,\n",
       " 'feature_pre_filter': False,\n",
       " 'lambda_l1': 9.507051735075546e-06,\n",
       " 'lambda_l2': 1.7992356814795836,\n",
       " 'num_leaves': 89,\n",
       " 'feature_fraction': 0.516,\n",
       " 'bagging_fraction': 1.0,\n",
       " 'bagging_freq': 0,\n",
       " 'min_child_samples': 100,\n",
       " 'num_iterations': 1000,\n",
       " 'early_stopping_round': 10}"
      ]
     },
     "execution_count": 42,
     "metadata": {},
     "output_type": "execute_result"
    }
   ],
   "source": [
    "model2.params"
   ]
  },
  {
   "cell_type": "code",
   "execution_count": 43,
   "id": "99bde9ca",
   "metadata": {},
   "outputs": [
    {
     "data": {
      "text/plain": [
       "{'objective': 'regression',\n",
       " 'metric': 'l1',\n",
       " 'learning_rate': 0.01,\n",
       " 'random_seed': 777,\n",
       " 'feature_pre_filter': False,\n",
       " 'lambda_l1': 8.481151951951655e-08,\n",
       " 'lambda_l2': 1.1181371584967872e-08,\n",
       " 'num_leaves': 152,\n",
       " 'feature_fraction': 0.5,\n",
       " 'bagging_fraction': 1.0,\n",
       " 'bagging_freq': 0,\n",
       " 'min_child_samples': 20,\n",
       " 'num_iterations': 1000,\n",
       " 'early_stopping_round': 10}"
      ]
     },
     "execution_count": 43,
     "metadata": {},
     "output_type": "execute_result"
    }
   ],
   "source": [
    "model3.params"
   ]
  },
  {
   "cell_type": "code",
   "execution_count": 44,
   "id": "75748c69",
   "metadata": {},
   "outputs": [
    {
     "data": {
      "text/plain": [
       "{'objective': 'regression',\n",
       " 'metric': 'l1',\n",
       " 'learning_rate': 0.01,\n",
       " 'random_seed': 777,\n",
       " 'feature_pre_filter': False,\n",
       " 'lambda_l1': 1.3522116780407148e-07,\n",
       " 'lambda_l2': 6.7666887821856935e-06,\n",
       " 'num_leaves': 227,\n",
       " 'feature_fraction': 0.48000000000000004,\n",
       " 'bagging_fraction': 1.0,\n",
       " 'bagging_freq': 0,\n",
       " 'min_child_samples': 100,\n",
       " 'num_iterations': 1000,\n",
       " 'early_stopping_round': 10}"
      ]
     },
     "execution_count": 44,
     "metadata": {},
     "output_type": "execute_result"
    }
   ],
   "source": [
    "model4.params"
   ]
  },
  {
   "cell_type": "code",
   "execution_count": 92,
   "id": "7a411ef0",
   "metadata": {},
   "outputs": [
    {
     "data": {
      "text/plain": [
       "array([0.6254922 , 0.6254922 , 0.6254922 , ..., 0.136638  , 0.35353022,\n",
       "       0.1115049 ])"
      ]
     },
     "execution_count": 92,
     "metadata": {},
     "output_type": "execute_result"
    }
   ],
   "source": [
    "model1.predict(x_valid[feature_cols1])"
   ]
  },
  {
   "cell_type": "code",
   "execution_count": null,
   "id": "9febc178",
   "metadata": {},
   "outputs": [],
   "source": []
  },
  {
   "cell_type": "code",
   "execution_count": null,
   "id": "ccfd0540",
   "metadata": {},
   "outputs": [],
   "source": []
  },
  {
   "cell_type": "code",
   "execution_count": null,
   "id": "7905fa2f",
   "metadata": {},
   "outputs": [],
   "source": []
  },
  {
   "cell_type": "code",
   "execution_count": 36,
   "id": "f1a65a8b",
   "metadata": {},
   "outputs": [],
   "source": [
    "oof_indexes = []\n",
    "for i in range(NFOLDS):\n",
    "    oof_indexes.extend(val_idxs[i][val_idxs[i]==True].index.to_list())"
   ]
  },
  {
   "cell_type": "code",
   "execution_count": 37,
   "id": "4ae4bec2",
   "metadata": {},
   "outputs": [
    {
     "name": "stdout",
     "output_type": "stream",
     "text": [
      "mae: 1.0068916599762827\n"
     ]
    }
   ],
   "source": [
    "y_valids[val_idx, :]\n",
    "mae = mean_absolute_error(y_valids[oof_indexes, :], oof[oof_indexes, :])\n",
    "print(\"mae:\", mae)"
   ]
  },
  {
   "cell_type": "code",
   "execution_count": 38,
   "id": "641d743e",
   "metadata": {},
   "outputs": [],
   "source": [
    "oof_df = train[targets_cols]\n",
    "oof_df.iloc[oof_indexes, 1:5] = oof[oof_indexes, :]"
   ]
  },
  {
   "cell_type": "code",
   "execution_count": 39,
   "id": "12c8b943",
   "metadata": {},
   "outputs": [],
   "source": [
    "oof_df.iloc[oof_indexes].to_csv(OUTPUT_DIR / f'oof{EXP_NUM}.csv')"
   ]
  },
  {
   "cell_type": "code",
   "execution_count": 40,
   "id": "a5df036f",
   "metadata": {},
   "outputs": [],
   "source": [
    "oof_df.to_csv(OUTPUT_DIR / f'oof{EXP_NUM}.csv', index=False)"
   ]
  },
  {
   "cell_type": "code",
   "execution_count": 41,
   "id": "e8e92152",
   "metadata": {},
   "outputs": [],
   "source": [
    "models = np.array([model1s, model2s, model3s, model4s])\n",
    "with open(OUTPUT_DIR / f\"models{EXP_NUM}.pickle\", mode=\"wb\") as f:\n",
    "    pickle.dump(models, f)"
   ]
  },
  {
   "cell_type": "code",
   "execution_count": 42,
   "id": "3897bcd8",
   "metadata": {},
   "outputs": [],
   "source": [
    "weights = [0.05, 0.1, 0.15, 0.2, 0.5]"
   ]
  },
  {
   "cell_type": "code",
   "execution_count": 43,
   "id": "89729a8f",
   "metadata": {},
   "outputs": [
    {
     "name": "stdout",
     "output_type": "stream",
     "text": [
      "mae: 0.9243639988545487\n",
      "mae: 0.9280874388198368\n",
      "mae: 0.9461138707647198\n",
      "mae: 0.9205080119615825\n",
      "mae: 0.9206798501283971\n"
     ]
    }
   ],
   "source": [
    "pred1s = 0\n",
    "pred2s = 0\n",
    "pred3s = 0\n",
    "pred4s = 0\n",
    "for i in range(NFOLDS):\n",
    "    pred1 = models[0][i].predict(x_valid[feature_cols1])\n",
    "    pred2 = models[1][i].predict(x_valid[feature_cols2])\n",
    "    pred3 = models[2][i].predict(x_valid[feature_cols3])\n",
    "    pred4 = models[3][i].predict(x_valid[feature_cols4])\n",
    "    oof_valid_april = np.clip(np.array([pred1, pred2, pred3, pred4]).T, 0, 100)\n",
    "    mae = mean_absolute_error(y_valid, oof_valid_april)\n",
    "    print(\"mae:\", mae)\n",
    "    pred1s += pred1 * weights[i]\n",
    "    pred2s += pred2 * weights[i]\n",
    "    pred3s += pred3 * weights[i]\n",
    "    pred4s += pred4 * weights[i]"
   ]
  },
  {
   "cell_type": "code",
   "execution_count": 59,
   "id": "4c1bab7d",
   "metadata": {},
   "outputs": [],
   "source": [
    "oof_valid_april = np.clip(np.array([pred1s, pred2s, pred3s, pred4s]).T, 0, 100)"
   ]
  },
  {
   "cell_type": "code",
   "execution_count": 61,
   "id": "d26192bf",
   "metadata": {},
   "outputs": [],
   "source": [
    "# oof_valid_april = np.where(oof_valid_april < 0.1, 0, oof_valid_april)"
   ]
  },
  {
   "cell_type": "code",
   "execution_count": 62,
   "id": "46007fb9",
   "metadata": {},
   "outputs": [
    {
     "name": "stdout",
     "output_type": "stream",
     "text": [
      "mae: 0.9177646897044414\n"
     ]
    }
   ],
   "source": [
    "mae = mean_absolute_error(y_valid, oof_valid_april)\n",
    "print(\"mae:\", mae)"
   ]
  },
  {
   "cell_type": "code",
   "execution_count": 44,
   "id": "8ee6c850",
   "metadata": {},
   "outputs": [
    {
     "data": {
      "text/plain": [
       "0.9163249956481581"
      ]
     },
     "execution_count": 44,
     "metadata": {},
     "output_type": "execute_result"
    }
   ],
   "source": [
    "0.9165205542502022\n",
    "0.9163249956481581"
   ]
  },
  {
   "cell_type": "markdown",
   "id": "9561a135",
   "metadata": {},
   "source": [
    "## EDA pred"
   ]
  },
  {
   "cell_type": "code",
   "execution_count": 63,
   "id": "04ad3c48",
   "metadata": {},
   "outputs": [
    {
     "data": {
      "text/plain": [
       "Index([], dtype='object')"
      ]
     },
     "execution_count": 63,
     "metadata": {},
     "output_type": "execute_result"
    }
   ],
   "source": [
    "importance = pd.DataFrame(model1.feature_importances_, index=feature_cols1, columns=['importance'])\n",
    "importance = importance.sort_values('importance', ascending=False)\n",
    "importance.iloc[30:30].index"
   ]
  },
  {
   "cell_type": "code",
   "execution_count": 47,
   "id": "61fea6b1",
   "metadata": {},
   "outputs": [
    {
     "data": {
      "text/plain": [
       "<AxesSubplot:title={'center':'Feature importance'}, xlabel='Feature importance', ylabel='Features'>"
      ]
     },
     "execution_count": 47,
     "metadata": {},
     "output_type": "execute_result"
    },
    {
     "data": {
      "image/png": "[encoded data removed]",
      "text/plain": [
       "<Figure size 864x432 with 1 Axes>"
      ]
     },
     "metadata": {
      "needs_background": "light"
     },
     "output_type": "display_data"
    }
   ],
   "source": [
    "lgbm.plot_importance(model1, figsize=(12, 6), max_num_features=10)"
   ]
  },
  {
   "cell_type": "code",
   "execution_count": 48,
   "id": "6900ffc7",
   "metadata": {},
   "outputs": [
    {
     "data": {
      "text/plain": [
       "Index(['daysSinceLastGame', 'target4_min', 'label_status', 'label_teamId',\n",
       "       'target4_median', 'target2_mean', 'target2_median', 'label_playerId',\n",
       "       'target2_min', 'target2_max', 'label_primaryPositionName',\n",
       "       'target2_std', 'target2_skew', 'tgt1_3_corr', 'tgt1_2_corr',\n",
       "       'tgt2_4_corr', 'target3_min', 'tgt1_4_corr', 'target4_std',\n",
       "       'target4_skew', 'target4_mean', 'totalBases', 'target1_min',\n",
       "       'target3_median', 'target4_max', 'plateAppearances', 'target1_mean',\n",
       "       'battingOrder', 'target1_std', 'tgt2_3_corr'],\n",
       "      dtype='object')"
      ]
     },
     "execution_count": 48,
     "metadata": {},
     "output_type": "execute_result"
    }
   ],
   "source": [
    "importance = pd.DataFrame(model2.feature_importances_, index=feature_cols2, columns=['importance'])\n",
    "importance = importance.sort_values('importance', ascending=False)\n",
    "importance.iloc[:30].index"
   ]
  },
  {
   "cell_type": "code",
   "execution_count": 49,
   "id": "36c8ba8e",
   "metadata": {},
   "outputs": [
    {
     "data": {
      "text/plain": [
       "<AxesSubplot:title={'center':'Feature importance'}, xlabel='Feature importance', ylabel='Features'>"
      ]
     },
     "execution_count": 49,
     "metadata": {},
     "output_type": "execute_result"
    },
    {
     "data": {
      "image/png": "[encoded data removed]",
      "text/plain": [
       "<Figure size 864x432 with 1 Axes>"
      ]
     },
     "metadata": {
      "needs_background": "light"
     },
     "output_type": "display_data"
    }
   ],
   "source": [
    "lgbm.plot_importance(model2, figsize=(12, 6), max_num_features=10)"
   ]
  },
  {
   "cell_type": "code",
   "execution_count": 50,
   "id": "a260195f",
   "metadata": {},
   "outputs": [
    {
     "data": {
      "text/plain": [
       "Index(['daysSinceLastGame', 'label_playerId', 'label_teamId', 'tgt1_3_corr',\n",
       "       'target4_min', 'tgt3_4_corr', 'tgt1_2_corr', 'tgt2_4_corr',\n",
       "       'target4_mean', 'target2_min', 'target4_median', 'target1_skew',\n",
       "       'target1_mean', 'target2_mean', 'tgt2_3_corr', 'target2_skew',\n",
       "       'tgt1_4_corr', 'target2_median', 'target4_skew', 'target2_std',\n",
       "       'label_primaryPositionName', 'target3_skew', 'target3_mean',\n",
       "       'target2_max', 'target3_median', 'target4_std', 'target3_std',\n",
       "       'label_status', 'target4_kurt', 'target1_median'],\n",
       "      dtype='object')"
      ]
     },
     "execution_count": 50,
     "metadata": {},
     "output_type": "execute_result"
    }
   ],
   "source": [
    "importance = pd.DataFrame(model3.feature_importances_, index=feature_cols3, columns=['importance'])\n",
    "importance = importance.sort_values('importance', ascending=False)\n",
    "importance.iloc[:30].index"
   ]
  },
  {
   "cell_type": "code",
   "execution_count": 51,
   "id": "5008d08e",
   "metadata": {},
   "outputs": [
    {
     "data": {
      "text/plain": [
       "<AxesSubplot:title={'center':'Feature importance'}, xlabel='Feature importance', ylabel='Features'>"
      ]
     },
     "execution_count": 51,
     "metadata": {},
     "output_type": "execute_result"
    },
    {
     "data": {
      "image/png": "[encoded data removed]",
      "text/plain": [
       "<Figure size 864x432 with 1 Axes>"
      ]
     },
     "metadata": {
      "needs_background": "light"
     },
     "output_type": "display_data"
    }
   ],
   "source": [
    "lgbm.plot_importance(model3, figsize=(12, 6), max_num_features=10)"
   ]
  },
  {
   "cell_type": "code",
   "execution_count": 52,
   "id": "6d83e56c",
   "metadata": {},
   "outputs": [
    {
     "data": {
      "text/plain": [
       "Index(['annual_day', 'daysSinceLastGame', 'week_day', 'target4_min',\n",
       "       'label_teamId', 'month', 'target4_mean', 'target4_median',\n",
       "       'label_playerId', 'tgt1_2_corr', 'mlbDebutYear', 'tgt1_3_corr',\n",
       "       'tgt2_3_corr', 'target2_median', 'label_birthCity', 'tgt3_4_corr',\n",
       "       'weight', 'tgt1_4_corr', 'tgt2_4_corr', 'DOY', 'target4_skew',\n",
       "       'target2_skew', 'target2_min', 'target3_skew', 'target2_mean',\n",
       "       'target4_std', 'target4_kurt', 'target2_std', 'target1_skew',\n",
       "       'target2_kurt'],\n",
       "      dtype='object')"
      ]
     },
     "execution_count": 52,
     "metadata": {},
     "output_type": "execute_result"
    }
   ],
   "source": [
    "importance = pd.DataFrame(model4.feature_importances_, index=feature_cols4, columns=['importance'])\n",
    "importance = importance.sort_values('importance', ascending=False)\n",
    "importance.iloc[:30].index"
   ]
  },
  {
   "cell_type": "code",
   "execution_count": 53,
   "id": "1496fd72",
   "metadata": {},
   "outputs": [
    {
     "data": {
      "text/plain": [
       "<AxesSubplot:title={'center':'Feature importance'}, xlabel='Feature importance', ylabel='Features'>"
      ]
     },
     "execution_count": 53,
     "metadata": {},
     "output_type": "execute_result"
    },
    {
     "data": {
      "image/png": "[encoded data removed]",
      "text/plain": [
       "<Figure size 864x432 with 1 Axes>"
      ]
     },
     "metadata": {
      "needs_background": "light"
     },
     "output_type": "display_data"
    }
   ],
   "source": [
    "lgbm.plot_importance(model4, figsize=(12, 6), max_num_features=10)"
   ]
  },
  {
   "cell_type": "code",
   "execution_count": null,
   "id": "e7ce8820",
   "metadata": {},
   "outputs": [],
   "source": []
  },
  {
   "cell_type": "markdown",
   "id": "506c2dec",
   "metadata": {},
   "source": [
    "## テストで取ってこれる一行はこんな感じ"
   ]
  },
  {
   "cell_type": "code",
   "execution_count": 33,
   "id": "d105cea7",
   "metadata": {},
   "outputs": [],
   "source": [
    "example_sample_submission = pd.read_csv(MAIN_DATA_DIR / \"example_sample_submission.csv\")\n",
    "example_test = pd.read_csv(MAIN_DATA_DIR / \"example_test.csv\")\n",
    "test_df = example_test.set_index('date').iloc[:1]\n",
    "sample_prediction_df = example_sample_submission[example_sample_submission['date']==test_df.index[0]].set_index('date')"
   ]
  },
  {
   "cell_type": "code",
   "execution_count": 34,
   "id": "349bbbf9",
   "metadata": {},
   "outputs": [],
   "source": [
    "players_cols = ['playerId', 'primaryPositionName', 'birthCity', 'DOY', 'mlbDebutYear', 'DebutAge', 'heightInches', 'weight']\n",
    "rosters_cols = ['playerId', 'teamId', 'status']\n",
    "scores_cols = ['playerId', 'battingOrder', 'gamesPlayedBatting', 'flyOuts',\n",
    "       'groundOuts', 'runsScored', 'doubles', 'triples', 'homeRuns',\n",
    "       'strikeOuts', 'baseOnBalls', 'intentionalWalks', 'hits', 'hitByPitch',\n",
    "       'atBats', 'caughtStealing', 'stolenBases', 'groundIntoDoublePlay',\n",
    "       'groundIntoTriplePlay', 'plateAppearances', 'totalBases', 'rbi',\n",
    "       'leftOnBase', 'sacBunts', 'sacFlies', 'catchersInterference',\n",
    "       'pickoffs', 'gamesPlayedPitching', 'gamesStartedPitching',\n",
    "       'completeGamesPitching', 'shutoutsPitching', 'winsPitching',\n",
    "       'lossesPitching', 'flyOutsPitching', 'airOutsPitching',\n",
    "       'groundOutsPitching', 'runsPitching', 'doublesPitching',\n",
    "       'triplesPitching', 'homeRunsPitching', 'strikeOutsPitching',\n",
    "       'baseOnBallsPitching', 'intentionalWalksPitching', 'hitsPitching',\n",
    "       'hitByPitchPitching', 'atBatsPitching', 'caughtStealingPitching',\n",
    "       'stolenBasesPitching', 'inningsPitched', 'saveOpportunities',\n",
    "       'earnedRuns', 'battersFaced', 'outsPitching', 'pitchesThrown', 'balls',\n",
    "       'strikes', 'hitBatsmen', 'balks', 'wildPitches', 'pickoffsPitching',\n",
    "       'rbiPitching', 'gamesFinishedPitching', 'inheritedRunners',\n",
    "       'inheritedRunnersScored', 'catchersInterferencePitching',\n",
    "       'sacBuntsPitching', 'sacFliesPitching', 'saves', 'holds', 'blownSaves',\n",
    "       'assists', 'putOuts', 'errors', 'chances']\n",
    "\n",
    "null = np.nan\n",
    "true = True\n",
    "false = False\n",
    "\n",
    "# env = mlb.make_env() # initialize the environment\n",
    "# iter_test = env.iter_test() # iterator which loops over each date in test set\n",
    "\n",
    "# for (test_df, sample_prediction_df) in iter_test: # make predictions here\n",
    "    \n",
    "sample_prediction_df = sample_prediction_df.reset_index(drop=True)\n",
    "\n",
    "# creat dataset\n",
    "sample_prediction_df['playerId'] = sample_prediction_df['date_playerId']\\\n",
    "                                    .map(lambda x: int(x.split('_')[1]))\n",
    "# Dealing with missing values\n",
    "if test_df['rosters'].iloc[0] == test_df['rosters'].iloc[0]:\n",
    "    test_rosters = pd.DataFrame(eval(test_df['rosters'].iloc[0]))\n",
    "else:\n",
    "    test_rosters = pd.DataFrame({'playerId': sample_prediction_df['playerId']})\n",
    "    for col in rosters.columns:\n",
    "        if col == 'playerId': continue\n",
    "        test_rosters[col] = np.nan\n",
    "\n",
    "if test_df['playerBoxScores'].iloc[0] == test_df['playerBoxScores'].iloc[0]:\n",
    "    test_scores = pd.DataFrame(eval(test_df['playerBoxScores'].iloc[0]))\n",
    "else:\n",
    "    test_scores = pd.DataFrame({'playerId': sample_prediction_df['playerId']})\n",
    "    for col in scores.columns:\n",
    "        if col == 'playerId': continue\n",
    "        test_scores[col] = np.nan\n",
    "test_scores = test_scores.groupby('playerId').sum().reset_index()\n",
    "test = sample_prediction_df[['playerId']].copy()\n",
    "test = test.merge(players[players_cols], on='playerId', how='left')\n",
    "test = test.merge(test_rosters[rosters_cols], on='playerId', how='left')\n",
    "test = test.merge(test_scores[scores_cols], on='playerId', how='left')\n",
    "test = test.merge(player_target_stats, how='inner', left_on=[\"playerId\"],right_on=[\"playerId\"])\n",
    "\n",
    "\n",
    "test['label_playerId'] = test['playerId'].map(player2num)\n",
    "test['label_primaryPositionName'] = test['primaryPositionName'].map(position2num)\n",
    "test['label_teamId'] = test['teamId'].map(teamid2num)\n",
    "test['label_status'] = test['status'].map(status2num)\n",
    "test['label_birthCity'] = test['birthCity'].map(birthCityn2num)\n",
    "\n",
    "date_ = pd.to_datetime(test_df.index[0], format=\"%Y%m%d\")\n",
    "test['annual_day'] = (date_ - pd.to_datetime(date_.year, format=\"%Y\")) /  timedelta(days=1)\n",
    "test['week_day'] = date_.weekday()\n",
    "test['month'] = date_.month\n",
    "\n",
    "\n",
    "test_X = test"
   ]
  },
  {
   "cell_type": "code",
   "execution_count": 35,
   "id": "75ed75c9",
   "metadata": {},
   "outputs": [],
   "source": [
    "test_X['gameday'] = ~test_X['battingOrder'].isna()*1\n",
    "test_X['date'] = test_df.index[0]\n",
    "test_X = pd.merge(test_X, train_last_game, on=['playerId'], how='left')\n",
    "test_X['daysSinceLastGame'] = (pd.to_datetime(test_X['date'], format=\"%Y%m%d\") - pd.to_datetime(test_X['lastdate'], format=\"%Y%m%d\")).dt.days\n",
    "test_X.loc[test_X['gameday']==1,'daysSinceLastGame']=0"
   ]
  },
  {
   "cell_type": "code",
   "execution_count": 59,
   "id": "7cdd5ef5",
   "metadata": {},
   "outputs": [
    {
     "data": {
      "text/html": [
       "<div>\n",
       "<style scoped>\n",
       "    .dataframe tbody tr th:only-of-type {\n",
       "        vertical-align: middle;\n",
       "    }\n",
       "\n",
       "    .dataframe tbody tr th {\n",
       "        vertical-align: top;\n",
       "    }\n",
       "\n",
       "    .dataframe thead th {\n",
       "        text-align: right;\n",
       "    }\n",
       "</style>\n",
       "<table border=\"1\" class=\"dataframe\">\n",
       "  <thead>\n",
       "    <tr style=\"text-align: right;\">\n",
       "      <th></th>\n",
       "      <th>playerId</th>\n",
       "      <th>lastdate</th>\n",
       "    </tr>\n",
       "  </thead>\n",
       "  <tbody>\n",
       "    <tr>\n",
       "      <th>0</th>\n",
       "      <td>112526</td>\n",
       "      <td>20180922.0</td>\n",
       "    </tr>\n",
       "    <tr>\n",
       "      <th>1</th>\n",
       "      <td>134181</td>\n",
       "      <td>20180930.0</td>\n",
       "    </tr>\n",
       "    <tr>\n",
       "      <th>2</th>\n",
       "      <td>279571</td>\n",
       "      <td>20180930.0</td>\n",
       "    </tr>\n",
       "    <tr>\n",
       "      <th>3</th>\n",
       "      <td>282332</td>\n",
       "      <td>20191017.0</td>\n",
       "    </tr>\n",
       "    <tr>\n",
       "      <th>4</th>\n",
       "      <td>400085</td>\n",
       "      <td>20190321.0</td>\n",
       "    </tr>\n",
       "    <tr>\n",
       "      <th>...</th>\n",
       "      <td>...</td>\n",
       "      <td>...</td>\n",
       "    </tr>\n",
       "    <tr>\n",
       "      <th>2056</th>\n",
       "      <td>681911</td>\n",
       "      <td>20210426.0</td>\n",
       "    </tr>\n",
       "    <tr>\n",
       "      <th>2057</th>\n",
       "      <td>683232</td>\n",
       "      <td>20210426.0</td>\n",
       "    </tr>\n",
       "    <tr>\n",
       "      <th>2058</th>\n",
       "      <td>683734</td>\n",
       "      <td>20210426.0</td>\n",
       "    </tr>\n",
       "    <tr>\n",
       "      <th>2059</th>\n",
       "      <td>685493</td>\n",
       "      <td>20200927.0</td>\n",
       "    </tr>\n",
       "    <tr>\n",
       "      <th>2060</th>\n",
       "      <td>685503</td>\n",
       "      <td>20210426.0</td>\n",
       "    </tr>\n",
       "  </tbody>\n",
       "</table>\n",
       "<p>2061 rows × 2 columns</p>\n",
       "</div>"
      ],
      "text/plain": [
       "      playerId    lastdate\n",
       "0       112526  20180922.0\n",
       "1       134181  20180930.0\n",
       "2       279571  20180930.0\n",
       "3       282332  20191017.0\n",
       "4       400085  20190321.0\n",
       "...        ...         ...\n",
       "2056    681911  20210426.0\n",
       "2057    683232  20210426.0\n",
       "2058    683734  20210426.0\n",
       "2059    685493  20200927.0\n",
       "2060    685503  20210426.0\n",
       "\n",
       "[2061 rows x 2 columns]"
      ]
     },
     "execution_count": 59,
     "metadata": {},
     "output_type": "execute_result"
    }
   ],
   "source": [
    "train_last_game = pd.merge(train_last_game, test_X[test_X['gameday']==1][['playerId','date']], on=['playerId'], how='left')\n",
    "train_last_game['lastdate'].update(train_last_game['date'])\n",
    "train_last_game = train_last_game[['playerId', 'lastdate']]\n",
    "train_last_game"
   ]
  },
  {
   "cell_type": "code",
   "execution_count": null,
   "id": "34cdc065",
   "metadata": {},
   "outputs": [],
   "source": []
  },
  {
   "cell_type": "code",
   "execution_count": 54,
   "id": "79b6360d",
   "metadata": {},
   "outputs": [],
   "source": [
    "# predict\n",
    "pred1 = model1.predict(test_X[feature_cols1])\n",
    "pred2 = model2.predict(test_X[feature_cols2])\n",
    "pred3 = model3.predict(test_X[feature_cols3])\n",
    "pred4 = model4.predict(test_X[feature_cols4])\n",
    "\n",
    "# merge submission\n",
    "sample_prediction_df['target1'] = np.clip(pred1, 0, 100)\n",
    "sample_prediction_df['target2'] = np.clip(pred2, 0, 100)\n",
    "sample_prediction_df['target3'] = np.clip(pred3, 0, 100)\n",
    "sample_prediction_df['target4'] = np.clip(pred4, 0, 100)\n",
    "sample_prediction_df = sample_prediction_df.fillna(0.)\n",
    "\n",
    "del sample_prediction_df['playerId']"
   ]
  },
  {
   "cell_type": "code",
   "execution_count": 55,
   "id": "1a55d382",
   "metadata": {},
   "outputs": [
    {
     "data": {
      "text/html": [
       "<div>\n",
       "<style scoped>\n",
       "    .dataframe tbody tr th:only-of-type {\n",
       "        vertical-align: middle;\n",
       "    }\n",
       "\n",
       "    .dataframe tbody tr th {\n",
       "        vertical-align: top;\n",
       "    }\n",
       "\n",
       "    .dataframe thead th {\n",
       "        text-align: right;\n",
       "    }\n",
       "</style>\n",
       "<table border=\"1\" class=\"dataframe\">\n",
       "  <thead>\n",
       "    <tr style=\"text-align: right;\">\n",
       "      <th></th>\n",
       "      <th>date_playerId</th>\n",
       "      <th>target1</th>\n",
       "      <th>target2</th>\n",
       "      <th>target3</th>\n",
       "      <th>target4</th>\n",
       "    </tr>\n",
       "  </thead>\n",
       "  <tbody>\n",
       "    <tr>\n",
       "      <th>0</th>\n",
       "      <td>20210427_656669</td>\n",
       "      <td>4.523566</td>\n",
       "      <td>7.302453</td>\n",
       "      <td>2.559227e-01</td>\n",
       "      <td>2.723813</td>\n",
       "    </tr>\n",
       "    <tr>\n",
       "      <th>1</th>\n",
       "      <td>20210427_543475</td>\n",
       "      <td>0.147992</td>\n",
       "      <td>3.124557</td>\n",
       "      <td>2.008687e-01</td>\n",
       "      <td>1.193542</td>\n",
       "    </tr>\n",
       "    <tr>\n",
       "      <th>2</th>\n",
       "      <td>20210427_592866</td>\n",
       "      <td>0.006262</td>\n",
       "      <td>1.240768</td>\n",
       "      <td>1.289277e-02</td>\n",
       "      <td>1.045266</td>\n",
       "    </tr>\n",
       "    <tr>\n",
       "      <th>3</th>\n",
       "      <td>20210427_452678</td>\n",
       "      <td>0.028216</td>\n",
       "      <td>3.628774</td>\n",
       "      <td>4.949686e-02</td>\n",
       "      <td>1.776316</td>\n",
       "    </tr>\n",
       "    <tr>\n",
       "      <th>4</th>\n",
       "      <td>20210427_570257</td>\n",
       "      <td>0.008472</td>\n",
       "      <td>1.085709</td>\n",
       "      <td>1.132856e-02</td>\n",
       "      <td>0.437531</td>\n",
       "    </tr>\n",
       "    <tr>\n",
       "      <th>...</th>\n",
       "      <td>...</td>\n",
       "      <td>...</td>\n",
       "      <td>...</td>\n",
       "      <td>...</td>\n",
       "      <td>...</td>\n",
       "    </tr>\n",
       "    <tr>\n",
       "      <th>1182</th>\n",
       "      <td>20210427_593590</td>\n",
       "      <td>0.000010</td>\n",
       "      <td>0.013661</td>\n",
       "      <td>1.073450e-18</td>\n",
       "      <td>0.000000</td>\n",
       "    </tr>\n",
       "    <tr>\n",
       "      <th>1183</th>\n",
       "      <td>20210427_642180</td>\n",
       "      <td>0.002000</td>\n",
       "      <td>1.000161</td>\n",
       "      <td>3.896596e-03</td>\n",
       "      <td>0.397934</td>\n",
       "    </tr>\n",
       "    <tr>\n",
       "      <th>1184</th>\n",
       "      <td>20210427_663399</td>\n",
       "      <td>0.000242</td>\n",
       "      <td>0.336076</td>\n",
       "      <td>1.736459e-03</td>\n",
       "      <td>0.087545</td>\n",
       "    </tr>\n",
       "    <tr>\n",
       "      <th>1185</th>\n",
       "      <td>20210427_664199</td>\n",
       "      <td>0.000847</td>\n",
       "      <td>0.919104</td>\n",
       "      <td>5.898664e-03</td>\n",
       "      <td>0.507688</td>\n",
       "    </tr>\n",
       "    <tr>\n",
       "      <th>1186</th>\n",
       "      <td>20210427_595453</td>\n",
       "      <td>0.007222</td>\n",
       "      <td>1.106129</td>\n",
       "      <td>6.004617e-03</td>\n",
       "      <td>0.473643</td>\n",
       "    </tr>\n",
       "  </tbody>\n",
       "</table>\n",
       "<p>1187 rows × 5 columns</p>\n",
       "</div>"
      ],
      "text/plain": [
       "        date_playerId   target1   target2       target3   target4\n",
       "0     20210427_656669  4.523566  7.302453  2.559227e-01  2.723813\n",
       "1     20210427_543475  0.147992  3.124557  2.008687e-01  1.193542\n",
       "2     20210427_592866  0.006262  1.240768  1.289277e-02  1.045266\n",
       "3     20210427_452678  0.028216  3.628774  4.949686e-02  1.776316\n",
       "4     20210427_570257  0.008472  1.085709  1.132856e-02  0.437531\n",
       "...               ...       ...       ...           ...       ...\n",
       "1182  20210427_593590  0.000010  0.013661  1.073450e-18  0.000000\n",
       "1183  20210427_642180  0.002000  1.000161  3.896596e-03  0.397934\n",
       "1184  20210427_663399  0.000242  0.336076  1.736459e-03  0.087545\n",
       "1185  20210427_664199  0.000847  0.919104  5.898664e-03  0.507688\n",
       "1186  20210427_595453  0.007222  1.106129  6.004617e-03  0.473643\n",
       "\n",
       "[1187 rows x 5 columns]"
      ]
     },
     "execution_count": 55,
     "metadata": {},
     "output_type": "execute_result"
    }
   ],
   "source": [
    "sample_prediction_df"
   ]
  },
  {
   "cell_type": "code",
   "execution_count": null,
   "id": "34922f9e",
   "metadata": {},
   "outputs": [],
   "source": []
  }
 ],
 "metadata": {
  "kernelspec": {
   "display_name": "Python 3",
   "language": "python",
   "name": "python3"
  },
  "language_info": {
   "codemirror_mode": {
    "name": "ipython",
    "version": 3
   },
   "file_extension": ".py",
   "mimetype": "text/x-python",
   "name": "python",
   "nbconvert_exporter": "python",
   "pygments_lexer": "ipython3",
   "version": "3.6.13"
  }
 },
 "nbformat": 4,
 "nbformat_minor": 5
}
