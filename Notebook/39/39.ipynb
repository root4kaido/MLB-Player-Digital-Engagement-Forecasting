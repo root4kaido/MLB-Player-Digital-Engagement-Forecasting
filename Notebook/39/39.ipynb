{
 "cells": [
  {
   "cell_type": "code",
   "execution_count": 1,
   "id": "345bac12",
   "metadata": {},
   "outputs": [],
   "source": [
    "import gc\n",
    "import os\n",
    "import sys\n",
    "import math\n",
    "import random\n",
    "import warnings\n",
    "import pickle\n",
    "from pathlib import Path\n",
    "from joblib import Parallel, delayed\n",
    "from statsmodels.tsa.deterministic import (CalendarFourier,\n",
    "                                           CalendarSeasonality,\n",
    "                                           CalendarTimeTrend,\n",
    "                                           DeterministicProcess)\n",
    "import optuna\n",
    "from tqdm import tqdm\n",
    "import os\n",
    "import ipywidgets as widgets\n",
    "import matplotlib.pyplot as plt\n",
    "import numpy as np\n",
    "import pandas as pd\n",
    "import seaborn as sns\n",
    "# from pandarallel import pandarallel\n",
    "# pandarallel.initialize()\n",
    "warnings.simplefilter(\"ignore\")\n",
    "import ctypes as ct\n",
    "from datetime import timedelta\n",
    "\n",
    "from sklearn.metrics import mean_absolute_error\n",
    "\n",
    "import statistics as st\n",
    "import lightgbm as lgbm\n",
    "from scipy.stats import norm"
   ]
  },
  {
   "cell_type": "code",
   "execution_count": 2,
   "id": "be9d14bf",
   "metadata": {},
   "outputs": [],
   "source": [
    "sys.path.append('../../')\n",
    "import src.utils as utils"
   ]
  },
  {
   "cell_type": "markdown",
   "id": "f3bb12c5",
   "metadata": {},
   "source": [
    "## Param"
   ]
  },
  {
   "cell_type": "code",
   "execution_count": 3,
   "id": "9780d7dd",
   "metadata": {},
   "outputs": [],
   "source": [
    "targets_cols = ['playerId', 'target1', 'target2', 'target3', 'target4', 'date']\n",
    "players_cols = ['playerId', 'primaryPositionName', 'birthCity', 'DOY', 'mlbDebutYear', 'DebutAge', 'heightInches', 'weight', 'playerForTestSetAndFuturePreds']\n",
    "rosters_cols = ['playerId', 'teamId', 'status', 'date']\n",
    "transactions_cols = ['playerId', 'transaction_flag', 'date']\n",
    "scores_cols = ['playerId', 'battingOrder', 'gamesPlayedBatting', 'flyOuts',\n",
    "       'groundOuts', 'runsScored', 'doubles', 'triples', 'homeRuns',\n",
    "       'strikeOuts', 'baseOnBalls', 'intentionalWalks', 'hits', 'hitByPitch',\n",
    "       'atBats', 'caughtStealing', 'stolenBases', 'groundIntoDoublePlay',\n",
    "       'groundIntoTriplePlay', 'plateAppearances', 'totalBases', 'rbi',\n",
    "       'leftOnBase', 'sacBunts', 'sacFlies', 'catchersInterference',\n",
    "       'pickoffs', 'gamesPlayedPitching', 'gamesStartedPitching',\n",
    "       'completeGamesPitching', 'shutoutsPitching', 'winsPitching',\n",
    "       'lossesPitching', 'flyOutsPitching', 'airOutsPitching',\n",
    "       'groundOutsPitching', 'runsPitching', 'doublesPitching',\n",
    "       'triplesPitching', 'homeRunsPitching', 'strikeOutsPitching',\n",
    "       'baseOnBallsPitching', 'intentionalWalksPitching', 'hitsPitching',\n",
    "       'hitByPitchPitching', 'atBatsPitching', 'caughtStealingPitching',\n",
    "       'stolenBasesPitching', 'inningsPitched', 'saveOpportunities',\n",
    "       'earnedRuns', 'battersFaced', 'outsPitching', 'pitchesThrown', 'balls',\n",
    "       'strikes', 'hitBatsmen', 'balks', 'wildPitches', 'pickoffsPitching',\n",
    "       'rbiPitching', 'gamesFinishedPitching', 'inheritedRunners',\n",
    "       'inheritedRunnersScored', 'catchersInterferencePitching',\n",
    "       'sacBuntsPitching', 'sacFliesPitching', 'saves', 'holds', 'blownSaves',\n",
    "       'assists', 'putOuts', 'errors', 'chances', 'date']\n",
    "\n",
    "feature_cols1 = ['week_day','label_playerId', 'label_primaryPositionName', 'label_teamId',\n",
    "       'label_status', 'battingOrder', 'gamesPlayedBatting', 'flyOuts',\n",
    "       'groundOuts', 'runsScored', 'doubles', 'triples', 'homeRuns',\n",
    "       'strikeOuts', 'baseOnBalls', 'intentionalWalks', 'hits', 'hitByPitch',\n",
    "       'atBats', 'caughtStealing', 'stolenBases', 'groundIntoDoublePlay',\n",
    "       'groundIntoTriplePlay', 'plateAppearances', 'totalBases', 'rbi',\n",
    "       'leftOnBase', 'sacBunts', 'sacFlies', 'catchersInterference',\n",
    "       'pickoffs', 'gamesPlayedPitching', 'gamesStartedPitching',\n",
    "       'completeGamesPitching', 'shutoutsPitching', 'winsPitching',\n",
    "       'lossesPitching', 'flyOutsPitching', 'airOutsPitching',\n",
    "       'groundOutsPitching', 'runsPitching', 'doublesPitching',\n",
    "       'triplesPitching', 'homeRunsPitching', 'strikeOutsPitching',\n",
    "       'baseOnBallsPitching', 'intentionalWalksPitching', 'hitsPitching',\n",
    "       'hitByPitchPitching', 'atBatsPitching', 'caughtStealingPitching',\n",
    "       'stolenBasesPitching', 'inningsPitched', 'saveOpportunities',\n",
    "       'earnedRuns', 'battersFaced', 'outsPitching', 'pitchesThrown', 'balls',\n",
    "       'strikes', 'hitBatsmen', 'balks', 'wildPitches', 'pickoffsPitching',\n",
    "       'rbiPitching', 'gamesFinishedPitching', 'inheritedRunners',\n",
    "       'inheritedRunnersScored', 'catchersInterferencePitching',\n",
    "       'sacBuntsPitching', 'sacFliesPitching', 'saves', 'holds', 'blownSaves',\n",
    "       'assists', 'putOuts', 'errors', 'chances',\n",
    "        \"target1_mean\",\"target1_median\",\"target1_std\",\"target1_min\",\"target1_max\",\"target1_skew\",\"target1_kurt\",\n",
    "         \"target2_mean\",\"target2_median\",\"target2_std\",\"target2_min\",\"target2_max\",\"target2_skew\",\"target2_kurt\",\n",
    "        \"target3_mean\",\"target3_median\",\"target3_std\",\"target3_min\",\"target3_max\",\"target3_skew\",\"target3_kurt\",\n",
    "        \"target4_mean\",\"target4_median\",\"target4_std\",\"target4_min\",\"target4_max\",\"target4_skew\",\"target4_kurt\", \n",
    "        'daysSinceLastGame', 'season_info'] \n",
    "\n",
    "feature_cols2 = ['label_playerId', 'label_primaryPositionName', 'label_teamId',\n",
    "       'label_status', 'battingOrder', 'gamesPlayedBatting', 'flyOuts',\n",
    "       'groundOuts', 'runsScored', 'doubles', 'triples', 'homeRuns',\n",
    "       'strikeOuts', 'baseOnBalls', 'intentionalWalks', 'hits', 'hitByPitch',\n",
    "       'atBats', 'caughtStealing', 'stolenBases', 'groundIntoDoublePlay',\n",
    "       'groundIntoTriplePlay', 'plateAppearances', 'totalBases', 'rbi',\n",
    "       'leftOnBase', 'sacBunts', 'sacFlies', 'catchersInterference',\n",
    "       'pickoffs', 'gamesPlayedPitching', 'gamesStartedPitching',\n",
    "       'completeGamesPitching', 'shutoutsPitching', 'winsPitching',\n",
    "       'lossesPitching', 'flyOutsPitching', 'airOutsPitching',\n",
    "       'groundOutsPitching', 'runsPitching', 'doublesPitching',\n",
    "       'triplesPitching', 'homeRunsPitching', 'strikeOutsPitching',\n",
    "       'baseOnBallsPitching', 'intentionalWalksPitching', 'hitsPitching',\n",
    "       'hitByPitchPitching', 'atBatsPitching', 'caughtStealingPitching',\n",
    "       'stolenBasesPitching', 'inningsPitched', 'saveOpportunities',\n",
    "       'earnedRuns', 'battersFaced', 'outsPitching', 'pitchesThrown', 'balls',\n",
    "       'strikes', 'hitBatsmen', 'balks', 'wildPitches', 'pickoffsPitching',\n",
    "       'rbiPitching', 'gamesFinishedPitching', 'inheritedRunners',\n",
    "       'inheritedRunnersScored', 'catchersInterferencePitching',\n",
    "       'sacBuntsPitching', 'sacFliesPitching', 'saves', 'holds', 'blownSaves',\n",
    "       'assists', 'putOuts', 'errors', 'chances',\n",
    "        \"target1_mean\",\"target1_median\",\"target1_std\",\"target1_min\",\"target1_max\",\"target1_skew\",\"target1_kurt\",\n",
    "         \"target2_mean\",\"target2_median\",\"target2_std\",\"target2_min\",\"target2_max\",\"target2_skew\",\"target2_kurt\",\n",
    "        \"target3_mean\",\"target3_median\",\"target3_std\",\"target3_min\",\"target3_max\",\"target3_skew\",\"target3_kurt\",\n",
    "        \"target4_mean\",\"target4_median\",\"target4_std\",\"target4_min\",\"target4_max\",\"target4_skew\",\"target4_kurt\", \n",
    "        'daysSinceLastGame', 'season_info'] \n",
    "\n",
    "feature_cols3 = ['week_day','label_playerId', 'label_primaryPositionName', 'label_teamId',\n",
    "       'label_status', 'battingOrder', 'gamesPlayedBatting', 'flyOuts',\n",
    "       'groundOuts', 'runsScored', 'doubles', 'triples', 'homeRuns',\n",
    "       'strikeOuts', 'baseOnBalls', 'intentionalWalks', 'hits', 'hitByPitch',\n",
    "       'atBats', 'caughtStealing', 'stolenBases', 'groundIntoDoublePlay',\n",
    "       'groundIntoTriplePlay', 'plateAppearances', 'totalBases', 'rbi',\n",
    "       'leftOnBase', 'sacBunts', 'sacFlies', 'catchersInterference',\n",
    "       'pickoffs', 'gamesPlayedPitching', 'gamesStartedPitching',\n",
    "       'completeGamesPitching', 'shutoutsPitching', 'winsPitching',\n",
    "       'lossesPitching', 'flyOutsPitching', 'airOutsPitching',\n",
    "       'groundOutsPitching', 'runsPitching', 'doublesPitching',\n",
    "       'triplesPitching', 'homeRunsPitching', 'strikeOutsPitching',\n",
    "       'baseOnBallsPitching', 'intentionalWalksPitching', 'hitsPitching',\n",
    "       'hitByPitchPitching', 'atBatsPitching', 'caughtStealingPitching',\n",
    "       'stolenBasesPitching', 'inningsPitched', 'saveOpportunities',\n",
    "       'earnedRuns', 'battersFaced', 'outsPitching', 'pitchesThrown', 'balls',\n",
    "       'strikes', 'hitBatsmen', 'balks', 'wildPitches', 'pickoffsPitching',\n",
    "       'rbiPitching', 'gamesFinishedPitching', 'inheritedRunners',\n",
    "       'inheritedRunnersScored', 'catchersInterferencePitching',\n",
    "       'sacBuntsPitching', 'sacFliesPitching', 'saves', 'holds', 'blownSaves',\n",
    "       'assists', 'putOuts', 'errors', 'chances',\n",
    "        \"target1_mean\",\"target1_median\",\"target1_std\",\"target1_min\",\"target1_max\",\"target1_skew\",\"target1_kurt\",\n",
    "         \"target2_mean\",\"target2_median\",\"target2_std\",\"target2_min\",\"target2_max\",\"target2_skew\",\"target2_kurt\",\n",
    "        \"target3_mean\",\"target3_median\",\"target3_std\",\"target3_min\",\"target3_max\",\"target3_skew\",\"target3_kurt\",\n",
    "        \"target4_mean\",\"target4_median\",\"target4_std\",\"target4_min\",\"target4_max\",\"target4_skew\",\"target4_kurt\", \n",
    "        'daysSinceLastGame', 'season_info'] \n",
    "\n",
    "feature_cols4 = ['week_day', 'annual_day', 'month', 'label_playerId', 'label_primaryPositionName', 'label_teamId', 'label_birthCity',\n",
    "                'DOY', 'mlbDebutYear', 'DebutAge', 'heightInches', 'weight',\n",
    "       'label_status', 'battingOrder', 'gamesPlayedBatting', 'flyOuts',\n",
    "       'groundOuts', 'runsScored', 'doubles', 'triples', 'homeRuns',\n",
    "       'strikeOuts', 'baseOnBalls', 'intentionalWalks', 'hits', 'hitByPitch',\n",
    "       'atBats', 'caughtStealing', 'stolenBases', 'groundIntoDoublePlay',\n",
    "       'groundIntoTriplePlay', 'plateAppearances', 'totalBases', 'rbi',\n",
    "       'leftOnBase', 'sacBunts', 'sacFlies', 'catchersInterference',\n",
    "       'pickoffs', 'gamesPlayedPitching', 'gamesStartedPitching',\n",
    "       'completeGamesPitching', 'shutoutsPitching', 'winsPitching',\n",
    "       'lossesPitching', 'flyOutsPitching', 'airOutsPitching',\n",
    "       'groundOutsPitching', 'runsPitching', 'doublesPitching',\n",
    "       'triplesPitching', 'homeRunsPitching', 'strikeOutsPitching',\n",
    "       'baseOnBallsPitching', 'intentionalWalksPitching', 'hitsPitching',\n",
    "       'hitByPitchPitching', 'atBatsPitching', 'caughtStealingPitching',\n",
    "       'stolenBasesPitching', 'inningsPitched', 'saveOpportunities',\n",
    "       'earnedRuns', 'battersFaced', 'outsPitching', 'pitchesThrown', 'balls',\n",
    "       'strikes', 'hitBatsmen', 'balks', 'wildPitches', 'pickoffsPitching',\n",
    "       'rbiPitching', 'gamesFinishedPitching', 'inheritedRunners',\n",
    "       'inheritedRunnersScored', 'catchersInterferencePitching',\n",
    "       'sacBuntsPitching', 'sacFliesPitching', 'saves', 'holds', 'blownSaves',\n",
    "       'assists', 'putOuts', 'errors', 'chances',\n",
    "        \"target1_mean\",\"target1_median\",\"target1_std\",\"target1_min\",\"target1_max\",\"target1_skew\",\"target1_kurt\",\n",
    "         \"target2_mean\",\"target2_median\",\"target2_std\",\"target2_min\",\"target2_max\",\"target2_skew\",\"target2_kurt\",\n",
    "        \"target3_mean\",\"target3_median\",\"target3_std\",\"target3_min\",\"target3_max\",\"target3_skew\",\"target3_kurt\",\n",
    "        \"target4_mean\",\"target4_median\",\"target4_std\",\"target4_min\",\"target4_max\",\"target4_skew\",\"target4_kurt\", \n",
    "        'daysSinceLastGame', 'season_info'] "
   ]
  },
  {
   "cell_type": "code",
   "execution_count": 4,
   "id": "03962e17",
   "metadata": {},
   "outputs": [],
   "source": [
    "# training lightgbm\n",
    "params1 = {'objective':'mae',\n",
    "           'reg_alpha': 0.14947461820098767, \n",
    "           'reg_lambda': 0.10185644384043743, \n",
    "           'n_estimators': 3633, \n",
    "           'learning_rate': 0.08046301304430488, \n",
    "           'num_leaves': 674, \n",
    "           'feature_fraction': 0.9101240539122566, \n",
    "           'bagging_fraction': 0.9884451442950513, \n",
    "           'bagging_freq': 8, \n",
    "           'min_child_samples': 51}\n",
    "\n",
    "params2 = {'objective':'mae',\n",
    "           'reg_alpha': 0.1,\n",
    "           'reg_lambda': 0.1, \n",
    "           'n_estimators': 80,\n",
    "           'learning_rate': 0.1,\n",
    "           'random_state': 42,\n",
    "           \"num_leaves\": 22}\n",
    "\n",
    "params3 = {'objective':'mae',\n",
    "           'reg_alpha': 0.1,\n",
    "           'reg_lambda': 0.1, \n",
    "           'n_estimators': 10000,\n",
    "           'learning_rate': 0.1,\n",
    "           'random_state': 42,\n",
    "           \"num_leaves\": 100}\n",
    "\n",
    "params4 = {'objective':'mae',\n",
    "           'reg_alpha': 0.016468100279441976, \n",
    "           'reg_lambda': 0.09128335764019105, \n",
    "           'n_estimators': 9868, \n",
    "           'learning_rate': 0.10528150510326864, \n",
    "           'num_leaves': 157, \n",
    "           'feature_fraction': 0.5419185713426886, \n",
    "           'bagging_fraction': 0.2637405128936662, \n",
    "           'bagging_freq': 19, \n",
    "           'min_child_samples': 71}"
   ]
  },
  {
   "cell_type": "code",
   "execution_count": 5,
   "id": "0fd7e8cc",
   "metadata": {},
   "outputs": [],
   "source": [
    "EXP_NUM = 24\n",
    "NFOLDS = 5\n",
    "SEED = 42"
   ]
  },
  {
   "cell_type": "code",
   "execution_count": 6,
   "id": "e914c199",
   "metadata": {},
   "outputs": [],
   "source": [
    "utils.set_seed(SEED)"
   ]
  },
  {
   "cell_type": "markdown",
   "id": "bbc5837c",
   "metadata": {},
   "source": [
    "## Dir"
   ]
  },
  {
   "cell_type": "code",
   "execution_count": 7,
   "id": "d232c355",
   "metadata": {},
   "outputs": [],
   "source": [
    "DATA_DIR = Path(\"/home/knikaido/work/MLB-Player-Digital-Engagement-Forecasting/data/\")\n",
    "MAIN_DATA_DIR = DATA_DIR / 'mlb-player-digital-engagement-forecasting'\n",
    "TRAIN_DIR = MAIN_DATA_DIR / 'train'\n",
    "OUTPUT_DIR = Path('./output/')"
   ]
  },
  {
   "cell_type": "code",
   "execution_count": 8,
   "id": "a3b7ab74",
   "metadata": {},
   "outputs": [],
   "source": [
    "players = pd.read_csv(MAIN_DATA_DIR / 'players.csv')\n",
    "\n",
    "rosters = pd.read_csv(TRAIN_DIR / 'rosters_train.csv')\n",
    "targets = pd.read_csv(TRAIN_DIR / 'nextDayPlayerEngagement_train.csv')\n",
    "scores = pd.read_csv(TRAIN_DIR / 'playerBoxScores_train.csv')\n",
    "scores = scores.groupby(['playerId', 'date']).sum().reset_index()\n",
    "seasons = pd.read_csv(MAIN_DATA_DIR / 'seasons.csv')\n",
    "\n",
    "# events = pd.read_csv(TRAIN_DIR / 'events_train.csv')\n",
    "# events = events.groupby(['gameDate']).sum().reset_index()\n"
   ]
  },
  {
   "cell_type": "code",
   "execution_count": 9,
   "id": "a77c0380",
   "metadata": {},
   "outputs": [
    {
     "data": {
      "text/html": [
       "<div>\n",
       "<style scoped>\n",
       "    .dataframe tbody tr th:only-of-type {\n",
       "        vertical-align: middle;\n",
       "    }\n",
       "\n",
       "    .dataframe tbody tr th {\n",
       "        vertical-align: top;\n",
       "    }\n",
       "\n",
       "    .dataframe thead th {\n",
       "        text-align: right;\n",
       "    }\n",
       "</style>\n",
       "<table border=\"1\" class=\"dataframe\">\n",
       "  <thead>\n",
       "    <tr style=\"text-align: right;\">\n",
       "      <th></th>\n",
       "      <th>playerId</th>\n",
       "      <th>date</th>\n",
       "      <th>home</th>\n",
       "      <th>gamePk</th>\n",
       "      <th>teamId</th>\n",
       "      <th>jerseyNum</th>\n",
       "      <th>positionCode</th>\n",
       "      <th>battingOrder</th>\n",
       "      <th>gamesPlayedBatting</th>\n",
       "      <th>flyOuts</th>\n",
       "      <th>...</th>\n",
       "      <th>sacBuntsPitching</th>\n",
       "      <th>sacFliesPitching</th>\n",
       "      <th>saves</th>\n",
       "      <th>holds</th>\n",
       "      <th>blownSaves</th>\n",
       "      <th>assists</th>\n",
       "      <th>putOuts</th>\n",
       "      <th>errors</th>\n",
       "      <th>chances</th>\n",
       "      <th>index</th>\n",
       "    </tr>\n",
       "  </thead>\n",
       "  <tbody>\n",
       "    <tr>\n",
       "      <th>0</th>\n",
       "      <td>112526</td>\n",
       "      <td>20180402</td>\n",
       "      <td>0</td>\n",
       "      <td>529469</td>\n",
       "      <td>140</td>\n",
       "      <td>40.0</td>\n",
       "      <td>1</td>\n",
       "      <td>0.0</td>\n",
       "      <td>0.0</td>\n",
       "      <td>0.0</td>\n",
       "      <td>...</td>\n",
       "      <td>0.0</td>\n",
       "      <td>0.0</td>\n",
       "      <td>0.0</td>\n",
       "      <td>0.0</td>\n",
       "      <td>0.0</td>\n",
       "      <td>1.0</td>\n",
       "      <td>0.0</td>\n",
       "      <td>0.0</td>\n",
       "      <td>1.0</td>\n",
       "      <td>91</td>\n",
       "    </tr>\n",
       "    <tr>\n",
       "      <th>1</th>\n",
       "      <td>112526</td>\n",
       "      <td>20180408</td>\n",
       "      <td>1</td>\n",
       "      <td>529546</td>\n",
       "      <td>140</td>\n",
       "      <td>40.0</td>\n",
       "      <td>1</td>\n",
       "      <td>0.0</td>\n",
       "      <td>0.0</td>\n",
       "      <td>0.0</td>\n",
       "      <td>...</td>\n",
       "      <td>0.0</td>\n",
       "      <td>0.0</td>\n",
       "      <td>0.0</td>\n",
       "      <td>0.0</td>\n",
       "      <td>0.0</td>\n",
       "      <td>0.0</td>\n",
       "      <td>1.0</td>\n",
       "      <td>0.0</td>\n",
       "      <td>1.0</td>\n",
       "      <td>97</td>\n",
       "    </tr>\n",
       "    <tr>\n",
       "      <th>2</th>\n",
       "      <td>112526</td>\n",
       "      <td>20180410</td>\n",
       "      <td>1</td>\n",
       "      <td>529565</td>\n",
       "      <td>140</td>\n",
       "      <td>40.0</td>\n",
       "      <td>1</td>\n",
       "      <td>0.0</td>\n",
       "      <td>0.0</td>\n",
       "      <td>0.0</td>\n",
       "      <td>...</td>\n",
       "      <td>0.0</td>\n",
       "      <td>1.0</td>\n",
       "      <td>0.0</td>\n",
       "      <td>0.0</td>\n",
       "      <td>0.0</td>\n",
       "      <td>2.0</td>\n",
       "      <td>0.0</td>\n",
       "      <td>0.0</td>\n",
       "      <td>2.0</td>\n",
       "      <td>99</td>\n",
       "    </tr>\n",
       "    <tr>\n",
       "      <th>3</th>\n",
       "      <td>112526</td>\n",
       "      <td>20180415</td>\n",
       "      <td>0</td>\n",
       "      <td>529640</td>\n",
       "      <td>140</td>\n",
       "      <td>40.0</td>\n",
       "      <td>1</td>\n",
       "      <td>0.0</td>\n",
       "      <td>0.0</td>\n",
       "      <td>0.0</td>\n",
       "      <td>...</td>\n",
       "      <td>0.0</td>\n",
       "      <td>1.0</td>\n",
       "      <td>0.0</td>\n",
       "      <td>0.0</td>\n",
       "      <td>0.0</td>\n",
       "      <td>1.0</td>\n",
       "      <td>0.0</td>\n",
       "      <td>0.0</td>\n",
       "      <td>1.0</td>\n",
       "      <td>104</td>\n",
       "    </tr>\n",
       "    <tr>\n",
       "      <th>4</th>\n",
       "      <td>112526</td>\n",
       "      <td>20180421</td>\n",
       "      <td>1</td>\n",
       "      <td>529718</td>\n",
       "      <td>140</td>\n",
       "      <td>40.0</td>\n",
       "      <td>1</td>\n",
       "      <td>0.0</td>\n",
       "      <td>0.0</td>\n",
       "      <td>0.0</td>\n",
       "      <td>...</td>\n",
       "      <td>0.0</td>\n",
       "      <td>1.0</td>\n",
       "      <td>0.0</td>\n",
       "      <td>0.0</td>\n",
       "      <td>0.0</td>\n",
       "      <td>0.0</td>\n",
       "      <td>2.0</td>\n",
       "      <td>0.0</td>\n",
       "      <td>2.0</td>\n",
       "      <td>110</td>\n",
       "    </tr>\n",
       "    <tr>\n",
       "      <th>...</th>\n",
       "      <td>...</td>\n",
       "      <td>...</td>\n",
       "      <td>...</td>\n",
       "      <td>...</td>\n",
       "      <td>...</td>\n",
       "      <td>...</td>\n",
       "      <td>...</td>\n",
       "      <td>...</td>\n",
       "      <td>...</td>\n",
       "      <td>...</td>\n",
       "      <td>...</td>\n",
       "      <td>...</td>\n",
       "      <td>...</td>\n",
       "      <td>...</td>\n",
       "      <td>...</td>\n",
       "      <td>...</td>\n",
       "      <td>...</td>\n",
       "      <td>...</td>\n",
       "      <td>...</td>\n",
       "      <td>...</td>\n",
       "      <td>...</td>\n",
       "    </tr>\n",
       "    <tr>\n",
       "      <th>182945</th>\n",
       "      <td>685503</td>\n",
       "      <td>20210409</td>\n",
       "      <td>1</td>\n",
       "      <td>634478</td>\n",
       "      <td>140</td>\n",
       "      <td>35.0</td>\n",
       "      <td>1</td>\n",
       "      <td>0.0</td>\n",
       "      <td>0.0</td>\n",
       "      <td>0.0</td>\n",
       "      <td>...</td>\n",
       "      <td>0.0</td>\n",
       "      <td>0.0</td>\n",
       "      <td>0.0</td>\n",
       "      <td>0.0</td>\n",
       "      <td>0.0</td>\n",
       "      <td>0.0</td>\n",
       "      <td>1.0</td>\n",
       "      <td>0.0</td>\n",
       "      <td>1.0</td>\n",
       "      <td>1194</td>\n",
       "    </tr>\n",
       "    <tr>\n",
       "      <th>182946</th>\n",
       "      <td>685503</td>\n",
       "      <td>20210414</td>\n",
       "      <td>0</td>\n",
       "      <td>634496</td>\n",
       "      <td>140</td>\n",
       "      <td>35.0</td>\n",
       "      <td>1</td>\n",
       "      <td>0.0</td>\n",
       "      <td>0.0</td>\n",
       "      <td>0.0</td>\n",
       "      <td>...</td>\n",
       "      <td>0.0</td>\n",
       "      <td>0.0</td>\n",
       "      <td>0.0</td>\n",
       "      <td>0.0</td>\n",
       "      <td>0.0</td>\n",
       "      <td>1.0</td>\n",
       "      <td>0.0</td>\n",
       "      <td>0.0</td>\n",
       "      <td>1.0</td>\n",
       "      <td>1199</td>\n",
       "    </tr>\n",
       "    <tr>\n",
       "      <th>182947</th>\n",
       "      <td>685503</td>\n",
       "      <td>20210419</td>\n",
       "      <td>0</td>\n",
       "      <td>634536</td>\n",
       "      <td>140</td>\n",
       "      <td>35.0</td>\n",
       "      <td>1</td>\n",
       "      <td>0.0</td>\n",
       "      <td>0.0</td>\n",
       "      <td>0.0</td>\n",
       "      <td>...</td>\n",
       "      <td>0.0</td>\n",
       "      <td>0.0</td>\n",
       "      <td>0.0</td>\n",
       "      <td>0.0</td>\n",
       "      <td>0.0</td>\n",
       "      <td>0.0</td>\n",
       "      <td>0.0</td>\n",
       "      <td>0.0</td>\n",
       "      <td>0.0</td>\n",
       "      <td>1204</td>\n",
       "    </tr>\n",
       "    <tr>\n",
       "      <th>182948</th>\n",
       "      <td>685503</td>\n",
       "      <td>20210425</td>\n",
       "      <td>0</td>\n",
       "      <td>634393</td>\n",
       "      <td>140</td>\n",
       "      <td>35.0</td>\n",
       "      <td>1</td>\n",
       "      <td>0.0</td>\n",
       "      <td>0.0</td>\n",
       "      <td>0.0</td>\n",
       "      <td>...</td>\n",
       "      <td>0.0</td>\n",
       "      <td>1.0</td>\n",
       "      <td>0.0</td>\n",
       "      <td>0.0</td>\n",
       "      <td>0.0</td>\n",
       "      <td>0.0</td>\n",
       "      <td>0.0</td>\n",
       "      <td>0.0</td>\n",
       "      <td>0.0</td>\n",
       "      <td>1210</td>\n",
       "    </tr>\n",
       "    <tr>\n",
       "      <th>182949</th>\n",
       "      <td>685503</td>\n",
       "      <td>20210430</td>\n",
       "      <td>1</td>\n",
       "      <td>634337</td>\n",
       "      <td>140</td>\n",
       "      <td>35.0</td>\n",
       "      <td>1</td>\n",
       "      <td>0.0</td>\n",
       "      <td>0.0</td>\n",
       "      <td>0.0</td>\n",
       "      <td>...</td>\n",
       "      <td>0.0</td>\n",
       "      <td>0.0</td>\n",
       "      <td>0.0</td>\n",
       "      <td>0.0</td>\n",
       "      <td>0.0</td>\n",
       "      <td>0.0</td>\n",
       "      <td>0.0</td>\n",
       "      <td>0.0</td>\n",
       "      <td>0.0</td>\n",
       "      <td>1215</td>\n",
       "    </tr>\n",
       "  </tbody>\n",
       "</table>\n",
       "<p>182950 rows × 81 columns</p>\n",
       "</div>"
      ],
      "text/plain": [
       "        playerId      date  home  gamePk  teamId  jerseyNum  positionCode  \\\n",
       "0         112526  20180402     0  529469     140       40.0             1   \n",
       "1         112526  20180408     1  529546     140       40.0             1   \n",
       "2         112526  20180410     1  529565     140       40.0             1   \n",
       "3         112526  20180415     0  529640     140       40.0             1   \n",
       "4         112526  20180421     1  529718     140       40.0             1   \n",
       "...          ...       ...   ...     ...     ...        ...           ...   \n",
       "182945    685503  20210409     1  634478     140       35.0             1   \n",
       "182946    685503  20210414     0  634496     140       35.0             1   \n",
       "182947    685503  20210419     0  634536     140       35.0             1   \n",
       "182948    685503  20210425     0  634393     140       35.0             1   \n",
       "182949    685503  20210430     1  634337     140       35.0             1   \n",
       "\n",
       "        battingOrder  gamesPlayedBatting  flyOuts  ...  sacBuntsPitching  \\\n",
       "0                0.0                 0.0      0.0  ...               0.0   \n",
       "1                0.0                 0.0      0.0  ...               0.0   \n",
       "2                0.0                 0.0      0.0  ...               0.0   \n",
       "3                0.0                 0.0      0.0  ...               0.0   \n",
       "4                0.0                 0.0      0.0  ...               0.0   \n",
       "...              ...                 ...      ...  ...               ...   \n",
       "182945           0.0                 0.0      0.0  ...               0.0   \n",
       "182946           0.0                 0.0      0.0  ...               0.0   \n",
       "182947           0.0                 0.0      0.0  ...               0.0   \n",
       "182948           0.0                 0.0      0.0  ...               0.0   \n",
       "182949           0.0                 0.0      0.0  ...               0.0   \n",
       "\n",
       "        sacFliesPitching  saves  holds  blownSaves  assists  putOuts  errors  \\\n",
       "0                    0.0    0.0    0.0         0.0      1.0      0.0     0.0   \n",
       "1                    0.0    0.0    0.0         0.0      0.0      1.0     0.0   \n",
       "2                    1.0    0.0    0.0         0.0      2.0      0.0     0.0   \n",
       "3                    1.0    0.0    0.0         0.0      1.0      0.0     0.0   \n",
       "4                    1.0    0.0    0.0         0.0      0.0      2.0     0.0   \n",
       "...                  ...    ...    ...         ...      ...      ...     ...   \n",
       "182945               0.0    0.0    0.0         0.0      0.0      1.0     0.0   \n",
       "182946               0.0    0.0    0.0         0.0      1.0      0.0     0.0   \n",
       "182947               0.0    0.0    0.0         0.0      0.0      0.0     0.0   \n",
       "182948               1.0    0.0    0.0         0.0      0.0      0.0     0.0   \n",
       "182949               0.0    0.0    0.0         0.0      0.0      0.0     0.0   \n",
       "\n",
       "        chances  index  \n",
       "0           1.0     91  \n",
       "1           1.0     97  \n",
       "2           2.0     99  \n",
       "3           1.0    104  \n",
       "4           2.0    110  \n",
       "...         ...    ...  \n",
       "182945      1.0   1194  \n",
       "182946      1.0   1199  \n",
       "182947      0.0   1204  \n",
       "182948      0.0   1210  \n",
       "182949      0.0   1215  \n",
       "\n",
       "[182950 rows x 81 columns]"
      ]
     },
     "execution_count": 9,
     "metadata": {},
     "output_type": "execute_result"
    }
   ],
   "source": [
    "scores"
   ]
  },
  {
   "cell_type": "code",
   "execution_count": 10,
   "id": "ed25cfcb",
   "metadata": {},
   "outputs": [],
   "source": [
    "seasons = seasons.fillna('0000-00-00')\n",
    "for c_ in seasons.columns[1:]:\n",
    "    seasons[c_] = seasons[c_].str.replace('-', '').astype(int)"
   ]
  },
  {
   "cell_type": "code",
   "execution_count": 11,
   "id": "57f653c3",
   "metadata": {},
   "outputs": [
    {
     "data": {
      "text/html": [
       "<div>\n",
       "<style scoped>\n",
       "    .dataframe tbody tr th:only-of-type {\n",
       "        vertical-align: middle;\n",
       "    }\n",
       "\n",
       "    .dataframe tbody tr th {\n",
       "        vertical-align: top;\n",
       "    }\n",
       "\n",
       "    .dataframe thead th {\n",
       "        text-align: right;\n",
       "    }\n",
       "</style>\n",
       "<table border=\"1\" class=\"dataframe\">\n",
       "  <thead>\n",
       "    <tr style=\"text-align: right;\">\n",
       "      <th></th>\n",
       "      <th>seasonId</th>\n",
       "      <th>seasonStartDate</th>\n",
       "      <th>seasonEndDate</th>\n",
       "      <th>preSeasonStartDate</th>\n",
       "      <th>preSeasonEndDate</th>\n",
       "      <th>regularSeasonStartDate</th>\n",
       "      <th>regularSeasonEndDate</th>\n",
       "      <th>lastDate1stHalf</th>\n",
       "      <th>allStarDate</th>\n",
       "      <th>firstDate2ndHalf</th>\n",
       "      <th>postSeasonStartDate</th>\n",
       "      <th>postSeasonEndDate</th>\n",
       "    </tr>\n",
       "  </thead>\n",
       "  <tbody>\n",
       "    <tr>\n",
       "      <th>0</th>\n",
       "      <td>2017</td>\n",
       "      <td>20170402</td>\n",
       "      <td>20171101</td>\n",
       "      <td>20170222</td>\n",
       "      <td>20170401</td>\n",
       "      <td>20170402</td>\n",
       "      <td>20171001</td>\n",
       "      <td>20170709</td>\n",
       "      <td>20170711</td>\n",
       "      <td>20170714</td>\n",
       "      <td>20171003</td>\n",
       "      <td>20171101</td>\n",
       "    </tr>\n",
       "    <tr>\n",
       "      <th>1</th>\n",
       "      <td>2018</td>\n",
       "      <td>20180329</td>\n",
       "      <td>20181028</td>\n",
       "      <td>20180221</td>\n",
       "      <td>20180327</td>\n",
       "      <td>20180329</td>\n",
       "      <td>20181001</td>\n",
       "      <td>20180715</td>\n",
       "      <td>20180717</td>\n",
       "      <td>20180719</td>\n",
       "      <td>20181002</td>\n",
       "      <td>20181028</td>\n",
       "    </tr>\n",
       "    <tr>\n",
       "      <th>2</th>\n",
       "      <td>2019</td>\n",
       "      <td>20190320</td>\n",
       "      <td>20191030</td>\n",
       "      <td>20190221</td>\n",
       "      <td>20190326</td>\n",
       "      <td>20190320</td>\n",
       "      <td>20190929</td>\n",
       "      <td>20190707</td>\n",
       "      <td>20190709</td>\n",
       "      <td>20190711</td>\n",
       "      <td>20191001</td>\n",
       "      <td>20191030</td>\n",
       "    </tr>\n",
       "    <tr>\n",
       "      <th>3</th>\n",
       "      <td>2020</td>\n",
       "      <td>20200723</td>\n",
       "      <td>20201028</td>\n",
       "      <td>20200221</td>\n",
       "      <td>20200722</td>\n",
       "      <td>20200723</td>\n",
       "      <td>20200927</td>\n",
       "      <td>20200825</td>\n",
       "      <td>0</td>\n",
       "      <td>20200826</td>\n",
       "      <td>20200929</td>\n",
       "      <td>20201028</td>\n",
       "    </tr>\n",
       "    <tr>\n",
       "      <th>4</th>\n",
       "      <td>2021</td>\n",
       "      <td>20210228</td>\n",
       "      <td>20211031</td>\n",
       "      <td>20210228</td>\n",
       "      <td>20210330</td>\n",
       "      <td>20210401</td>\n",
       "      <td>20211003</td>\n",
       "      <td>20210711</td>\n",
       "      <td>20210713</td>\n",
       "      <td>20210715</td>\n",
       "      <td>20211004</td>\n",
       "      <td>20211031</td>\n",
       "    </tr>\n",
       "  </tbody>\n",
       "</table>\n",
       "</div>"
      ],
      "text/plain": [
       "   seasonId  seasonStartDate  seasonEndDate  preSeasonStartDate  \\\n",
       "0      2017         20170402       20171101            20170222   \n",
       "1      2018         20180329       20181028            20180221   \n",
       "2      2019         20190320       20191030            20190221   \n",
       "3      2020         20200723       20201028            20200221   \n",
       "4      2021         20210228       20211031            20210228   \n",
       "\n",
       "   preSeasonEndDate  regularSeasonStartDate  regularSeasonEndDate  \\\n",
       "0          20170401                20170402              20171001   \n",
       "1          20180327                20180329              20181001   \n",
       "2          20190326                20190320              20190929   \n",
       "3          20200722                20200723              20200927   \n",
       "4          20210330                20210401              20211003   \n",
       "\n",
       "   lastDate1stHalf  allStarDate  firstDate2ndHalf  postSeasonStartDate  \\\n",
       "0         20170709     20170711          20170714             20171003   \n",
       "1         20180715     20180717          20180719             20181002   \n",
       "2         20190707     20190709          20190711             20191001   \n",
       "3         20200825            0          20200826             20200929   \n",
       "4         20210711     20210713          20210715             20211004   \n",
       "\n",
       "   postSeasonEndDate  \n",
       "0           20171101  \n",
       "1           20181028  \n",
       "2           20191030  \n",
       "3           20201028  \n",
       "4           20211031  "
      ]
     },
     "execution_count": 11,
     "metadata": {},
     "output_type": "execute_result"
    }
   ],
   "source": [
    "seasons"
   ]
  },
  {
   "cell_type": "code",
   "execution_count": 12,
   "id": "fe20f3d5",
   "metadata": {},
   "outputs": [],
   "source": [
    "targets_train = targets[(targets['date'] >= 20210401)]"
   ]
  },
  {
   "cell_type": "code",
   "execution_count": 13,
   "id": "91c1a09b",
   "metadata": {},
   "outputs": [
    {
     "data": {
      "text/html": [
       "<div>\n",
       "<style scoped>\n",
       "    .dataframe tbody tr th:only-of-type {\n",
       "        vertical-align: middle;\n",
       "    }\n",
       "\n",
       "    .dataframe tbody tr th {\n",
       "        vertical-align: top;\n",
       "    }\n",
       "\n",
       "    .dataframe thead th {\n",
       "        text-align: right;\n",
       "    }\n",
       "</style>\n",
       "<table border=\"1\" class=\"dataframe\">\n",
       "  <thead>\n",
       "    <tr style=\"text-align: right;\">\n",
       "      <th></th>\n",
       "      <th>engagementMetricsDate</th>\n",
       "      <th>playerId</th>\n",
       "      <th>target1</th>\n",
       "      <th>target2</th>\n",
       "      <th>target3</th>\n",
       "      <th>target4</th>\n",
       "      <th>index</th>\n",
       "      <th>date</th>\n",
       "    </tr>\n",
       "  </thead>\n",
       "  <tbody>\n",
       "    <tr>\n",
       "      <th>2444346</th>\n",
       "      <td>2021-04-02</td>\n",
       "      <td>624415</td>\n",
       "      <td>2.810640</td>\n",
       "      <td>3.998462</td>\n",
       "      <td>0.136137</td>\n",
       "      <td>10.012438</td>\n",
       "      <td>1186</td>\n",
       "      <td>20210401</td>\n",
       "    </tr>\n",
       "    <tr>\n",
       "      <th>2444347</th>\n",
       "      <td>2021-04-02</td>\n",
       "      <td>656548</td>\n",
       "      <td>0.000000</td>\n",
       "      <td>0.153787</td>\n",
       "      <td>0.068889</td>\n",
       "      <td>0.062189</td>\n",
       "      <td>1186</td>\n",
       "      <td>20210401</td>\n",
       "    </tr>\n",
       "    <tr>\n",
       "      <th>2444348</th>\n",
       "      <td>2021-04-02</td>\n",
       "      <td>400284</td>\n",
       "      <td>0.000971</td>\n",
       "      <td>0.010985</td>\n",
       "      <td>0.021323</td>\n",
       "      <td>3.182007</td>\n",
       "      <td>1186</td>\n",
       "      <td>20210401</td>\n",
       "    </tr>\n",
       "    <tr>\n",
       "      <th>2444349</th>\n",
       "      <td>2021-04-02</td>\n",
       "      <td>606157</td>\n",
       "      <td>0.002736</td>\n",
       "      <td>1.642226</td>\n",
       "      <td>0.021323</td>\n",
       "      <td>0.549337</td>\n",
       "      <td>1186</td>\n",
       "      <td>20210401</td>\n",
       "    </tr>\n",
       "    <tr>\n",
       "      <th>2444350</th>\n",
       "      <td>2021-04-02</td>\n",
       "      <td>665620</td>\n",
       "      <td>0.020473</td>\n",
       "      <td>0.411929</td>\n",
       "      <td>0.549469</td>\n",
       "      <td>0.435323</td>\n",
       "      <td>1186</td>\n",
       "      <td>20210401</td>\n",
       "    </tr>\n",
       "    <tr>\n",
       "      <th>...</th>\n",
       "      <td>...</td>\n",
       "      <td>...</td>\n",
       "      <td>...</td>\n",
       "      <td>...</td>\n",
       "      <td>...</td>\n",
       "      <td>...</td>\n",
       "      <td>...</td>\n",
       "      <td>...</td>\n",
       "    </tr>\n",
       "    <tr>\n",
       "      <th>2506171</th>\n",
       "      <td>2021-05-01</td>\n",
       "      <td>451661</td>\n",
       "      <td>0.000000</td>\n",
       "      <td>0.013314</td>\n",
       "      <td>0.000000</td>\n",
       "      <td>0.625925</td>\n",
       "      <td>1215</td>\n",
       "      <td>20210430</td>\n",
       "    </tr>\n",
       "    <tr>\n",
       "      <th>2506172</th>\n",
       "      <td>2021-05-01</td>\n",
       "      <td>519301</td>\n",
       "      <td>0.000131</td>\n",
       "      <td>0.003329</td>\n",
       "      <td>0.000000</td>\n",
       "      <td>0.216229</td>\n",
       "      <td>1215</td>\n",
       "      <td>20210430</td>\n",
       "    </tr>\n",
       "    <tr>\n",
       "      <th>2506173</th>\n",
       "      <td>2021-05-01</td>\n",
       "      <td>527055</td>\n",
       "      <td>0.000000</td>\n",
       "      <td>0.019971</td>\n",
       "      <td>0.000000</td>\n",
       "      <td>0.273131</td>\n",
       "      <td>1215</td>\n",
       "      <td>20210430</td>\n",
       "    </tr>\n",
       "    <tr>\n",
       "      <th>2506174</th>\n",
       "      <td>2021-05-01</td>\n",
       "      <td>543484</td>\n",
       "      <td>0.000131</td>\n",
       "      <td>0.056586</td>\n",
       "      <td>0.000000</td>\n",
       "      <td>1.024240</td>\n",
       "      <td>1215</td>\n",
       "      <td>20210430</td>\n",
       "    </tr>\n",
       "    <tr>\n",
       "      <th>2506175</th>\n",
       "      <td>2021-05-01</td>\n",
       "      <td>605525</td>\n",
       "      <td>0.000131</td>\n",
       "      <td>0.499284</td>\n",
       "      <td>0.000000</td>\n",
       "      <td>0.386935</td>\n",
       "      <td>1215</td>\n",
       "      <td>20210430</td>\n",
       "    </tr>\n",
       "  </tbody>\n",
       "</table>\n",
       "<p>61830 rows × 8 columns</p>\n",
       "</div>"
      ],
      "text/plain": [
       "        engagementMetricsDate  playerId   target1   target2   target3  \\\n",
       "2444346            2021-04-02    624415  2.810640  3.998462  0.136137   \n",
       "2444347            2021-04-02    656548  0.000000  0.153787  0.068889   \n",
       "2444348            2021-04-02    400284  0.000971  0.010985  0.021323   \n",
       "2444349            2021-04-02    606157  0.002736  1.642226  0.021323   \n",
       "2444350            2021-04-02    665620  0.020473  0.411929  0.549469   \n",
       "...                       ...       ...       ...       ...       ...   \n",
       "2506171            2021-05-01    451661  0.000000  0.013314  0.000000   \n",
       "2506172            2021-05-01    519301  0.000131  0.003329  0.000000   \n",
       "2506173            2021-05-01    527055  0.000000  0.019971  0.000000   \n",
       "2506174            2021-05-01    543484  0.000131  0.056586  0.000000   \n",
       "2506175            2021-05-01    605525  0.000131  0.499284  0.000000   \n",
       "\n",
       "           target4  index      date  \n",
       "2444346  10.012438   1186  20210401  \n",
       "2444347   0.062189   1186  20210401  \n",
       "2444348   3.182007   1186  20210401  \n",
       "2444349   0.549337   1186  20210401  \n",
       "2444350   0.435323   1186  20210401  \n",
       "...            ...    ...       ...  \n",
       "2506171   0.625925   1215  20210430  \n",
       "2506172   0.216229   1215  20210430  \n",
       "2506173   0.273131   1215  20210430  \n",
       "2506174   1.024240   1215  20210430  \n",
       "2506175   0.386935   1215  20210430  \n",
       "\n",
       "[61830 rows x 8 columns]"
      ]
     },
     "execution_count": 13,
     "metadata": {},
     "output_type": "execute_result"
    }
   ],
   "source": [
    "targets_train"
   ]
  },
  {
   "cell_type": "code",
   "execution_count": 14,
   "id": "a4c2bbc5",
   "metadata": {},
   "outputs": [],
   "source": [
    "playerId_list = targets_train['playerId'].unique()"
   ]
  },
  {
   "cell_type": "code",
   "execution_count": 15,
   "id": "40ba6ec6",
   "metadata": {},
   "outputs": [],
   "source": [
    "def calc_corr(df):\n",
    "    # 相関係数行列を作成\n",
    "    corr_mat = df.corr(method='pearson')\n",
    "\n",
    "    # 行（列）サイズを取得\n",
    "    n = corr_mat.shape[0]\n",
    "    corr_ary = []\n",
    "\n",
    "    for i in range(n):\n",
    "        for j in range(i):\n",
    "            if i == j:\n",
    "                continue\n",
    "            corr_ary.append(corr_mat.iloc[i,j])\n",
    "\n",
    "    return corr_ary"
   ]
  },
  {
   "cell_type": "code",
   "execution_count": 16,
   "id": "3342c8a6",
   "metadata": {},
   "outputs": [
    {
     "name": "stderr",
     "output_type": "stream",
     "text": [
      "100%|██████████| 2061/2061 [00:45<00:00, 44.81it/s]\n"
     ]
    }
   ],
   "source": [
    "def calc_probs(pid,df,temp):\n",
    "    to_append=[pid,'','','','','','','','','','','','','','','','','','','','','','','','','','','','','','','','','','','','','','']\n",
    "    targets=['target1','target2','target3','target4']\n",
    "    z=1\n",
    "    for target in targets:\n",
    "        target_prob = temp[target].tolist()\n",
    "        mean = np.mean(target_prob)\n",
    "        std = np.std(target_prob)\n",
    "        median = st.median(target_prob)\n",
    "        distribution = norm(mean, std)\n",
    "        min_weight = min(target_prob)\n",
    "        max_weight = max(target_prob)\n",
    "        values = list(np.linspace(min_weight, max_weight))\n",
    "        probabilities = [distribution.pdf(v) for v in values]\n",
    "        max_value = max(probabilities)\n",
    "        max_index = probabilities.index(max_value)\n",
    "        to_append[z]=mean\n",
    "        to_append[z+1]=median\n",
    "        to_append[z+2]=std\n",
    "        to_append[z+3]=min_weight\n",
    "        to_append[z+4]=max_weight\n",
    "        to_append[z+5]=target_prob[max_index]\n",
    "        to_append[z+6]=temp[target].skew()\n",
    "        to_append[z+7]=temp[target].kurt()\n",
    "\n",
    "        z=z+8\n",
    "    corr_ = calc_corr(temp[['target1', 'target2', 'target3', 'target4']])\n",
    "    to_append[z:] = corr_  \n",
    "    df_length = len(df)\n",
    "    df.loc[df_length] = to_append\n",
    "    return df\n",
    "    \n",
    "\n",
    "### CREATE DATAFRAME to store probabilities\n",
    "column_names = [\"playerId\", \"target1_mean\",\"target1_median\",\"target1_std\",\"target1_min\",\"target1_max\",\"target1_prob\",\"target1_skew\",\"target1_kurt\",\n",
    "                \"target2_mean\",\"target2_median\",\"target2_std\",\"target2_min\",\"target2_max\",\"target2_prob\",\"target2_skew\",\"target2_kurt\",\n",
    "                \"target3_mean\",\"target3_median\",\"target3_std\",\"target3_min\",\"target3_max\",\"target3_prob\",\"target3_skew\",\"target3_kurt\",\n",
    "                \"target4_mean\",\"target4_median\",\"target4_std\",\"target4_min\",\"target4_max\",\"target4_prob\",\"target4_skew\",\"target4_kurt\",\n",
    "                'tgt1_2_corr', 'tgt1_3_corr', 'tgt2_3_corr', 'tgt1_4_corr', 'tgt2_4_corr', 'tgt3_4_corr']\n",
    "player_target_probs = pd.DataFrame(columns = column_names)\n",
    "    \n",
    "for pid in tqdm(playerId_list):\n",
    "    temp = targets_train[targets_train['playerId'] == pid]\n",
    "    player_target_stats=calc_probs(pid,player_target_probs,temp)"
   ]
  },
  {
   "cell_type": "code",
   "execution_count": 17,
   "id": "03657e41",
   "metadata": {},
   "outputs": [
    {
     "data": {
      "text/html": [
       "<div>\n",
       "<style scoped>\n",
       "    .dataframe tbody tr th:only-of-type {\n",
       "        vertical-align: middle;\n",
       "    }\n",
       "\n",
       "    .dataframe tbody tr th {\n",
       "        vertical-align: top;\n",
       "    }\n",
       "\n",
       "    .dataframe thead th {\n",
       "        text-align: right;\n",
       "    }\n",
       "</style>\n",
       "<table border=\"1\" class=\"dataframe\">\n",
       "  <thead>\n",
       "    <tr style=\"text-align: right;\">\n",
       "      <th></th>\n",
       "      <th>playerId</th>\n",
       "      <th>target1_mean</th>\n",
       "      <th>target1_median</th>\n",
       "      <th>target1_std</th>\n",
       "      <th>target1_min</th>\n",
       "      <th>target1_max</th>\n",
       "      <th>target1_prob</th>\n",
       "      <th>target1_skew</th>\n",
       "      <th>target1_kurt</th>\n",
       "      <th>target2_mean</th>\n",
       "      <th>...</th>\n",
       "      <th>target4_max</th>\n",
       "      <th>target4_prob</th>\n",
       "      <th>target4_skew</th>\n",
       "      <th>target4_kurt</th>\n",
       "      <th>tgt1_2_corr</th>\n",
       "      <th>tgt1_3_corr</th>\n",
       "      <th>tgt2_3_corr</th>\n",
       "      <th>tgt1_4_corr</th>\n",
       "      <th>tgt2_4_corr</th>\n",
       "      <th>tgt3_4_corr</th>\n",
       "    </tr>\n",
       "  </thead>\n",
       "  <tbody>\n",
       "    <tr>\n",
       "      <th>0</th>\n",
       "      <td>624415.0</td>\n",
       "      <td>1.193031</td>\n",
       "      <td>0.489252</td>\n",
       "      <td>1.578499</td>\n",
       "      <td>0.008327</td>\n",
       "      <td>7.267988</td>\n",
       "      <td>0.785380</td>\n",
       "      <td>2.208850</td>\n",
       "      <td>6.071897</td>\n",
       "      <td>5.398585</td>\n",
       "      <td>...</td>\n",
       "      <td>26.025186</td>\n",
       "      <td>10.464387</td>\n",
       "      <td>1.695464</td>\n",
       "      <td>3.831404</td>\n",
       "      <td>0.408492</td>\n",
       "      <td>-0.009458</td>\n",
       "      <td>-0.101143</td>\n",
       "      <td>0.227373</td>\n",
       "      <td>0.694767</td>\n",
       "      <td>-0.039737</td>\n",
       "    </tr>\n",
       "    <tr>\n",
       "      <th>1</th>\n",
       "      <td>656548.0</td>\n",
       "      <td>0.110672</td>\n",
       "      <td>0.001015</td>\n",
       "      <td>0.428984</td>\n",
       "      <td>0.000000</td>\n",
       "      <td>2.392265</td>\n",
       "      <td>0.000000</td>\n",
       "      <td>5.272732</td>\n",
       "      <td>28.385845</td>\n",
       "      <td>0.445853</td>\n",
       "      <td>...</td>\n",
       "      <td>0.423573</td>\n",
       "      <td>0.032978</td>\n",
       "      <td>1.294196</td>\n",
       "      <td>1.140084</td>\n",
       "      <td>0.566411</td>\n",
       "      <td>0.588373</td>\n",
       "      <td>0.527886</td>\n",
       "      <td>0.231260</td>\n",
       "      <td>0.525065</td>\n",
       "      <td>0.132559</td>\n",
       "    </tr>\n",
       "    <tr>\n",
       "      <th>2</th>\n",
       "      <td>400284.0</td>\n",
       "      <td>0.001807</td>\n",
       "      <td>0.001301</td>\n",
       "      <td>0.001164</td>\n",
       "      <td>0.000437</td>\n",
       "      <td>0.004770</td>\n",
       "      <td>0.001127</td>\n",
       "      <td>1.155729</td>\n",
       "      <td>0.582752</td>\n",
       "      <td>0.073071</td>\n",
       "      <td>...</td>\n",
       "      <td>8.909871</td>\n",
       "      <td>7.882136</td>\n",
       "      <td>0.388255</td>\n",
       "      <td>-0.703079</td>\n",
       "      <td>0.102451</td>\n",
       "      <td>0.429495</td>\n",
       "      <td>0.046450</td>\n",
       "      <td>0.006606</td>\n",
       "      <td>0.277479</td>\n",
       "      <td>-0.016683</td>\n",
       "    </tr>\n",
       "    <tr>\n",
       "      <th>3</th>\n",
       "      <td>606157.0</td>\n",
       "      <td>0.748247</td>\n",
       "      <td>0.024461</td>\n",
       "      <td>1.318711</td>\n",
       "      <td>0.002736</td>\n",
       "      <td>4.840508</td>\n",
       "      <td>0.548613</td>\n",
       "      <td>2.003263</td>\n",
       "      <td>3.235374</td>\n",
       "      <td>2.027612</td>\n",
       "      <td>...</td>\n",
       "      <td>3.931330</td>\n",
       "      <td>0.231750</td>\n",
       "      <td>2.053818</td>\n",
       "      <td>4.653597</td>\n",
       "      <td>0.641382</td>\n",
       "      <td>0.093253</td>\n",
       "      <td>-0.002014</td>\n",
       "      <td>0.404372</td>\n",
       "      <td>0.626199</td>\n",
       "      <td>0.249109</td>\n",
       "    </tr>\n",
       "    <tr>\n",
       "      <th>4</th>\n",
       "      <td>665620.0</td>\n",
       "      <td>0.483331</td>\n",
       "      <td>0.020388</td>\n",
       "      <td>1.415708</td>\n",
       "      <td>0.004932</td>\n",
       "      <td>6.322554</td>\n",
       "      <td>0.128698</td>\n",
       "      <td>3.507992</td>\n",
       "      <td>11.893073</td>\n",
       "      <td>1.913634</td>\n",
       "      <td>...</td>\n",
       "      <td>8.474798</td>\n",
       "      <td>0.314951</td>\n",
       "      <td>4.910653</td>\n",
       "      <td>25.637658</td>\n",
       "      <td>0.807310</td>\n",
       "      <td>0.810125</td>\n",
       "      <td>0.965737</td>\n",
       "      <td>0.778467</td>\n",
       "      <td>0.954381</td>\n",
       "      <td>0.959152</td>\n",
       "    </tr>\n",
       "    <tr>\n",
       "      <th>...</th>\n",
       "      <td>...</td>\n",
       "      <td>...</td>\n",
       "      <td>...</td>\n",
       "      <td>...</td>\n",
       "      <td>...</td>\n",
       "      <td>...</td>\n",
       "      <td>...</td>\n",
       "      <td>...</td>\n",
       "      <td>...</td>\n",
       "      <td>...</td>\n",
       "      <td>...</td>\n",
       "      <td>...</td>\n",
       "      <td>...</td>\n",
       "      <td>...</td>\n",
       "      <td>...</td>\n",
       "      <td>...</td>\n",
       "      <td>...</td>\n",
       "      <td>...</td>\n",
       "      <td>...</td>\n",
       "      <td>...</td>\n",
       "      <td>...</td>\n",
       "    </tr>\n",
       "    <tr>\n",
       "      <th>2056</th>\n",
       "      <td>621350.0</td>\n",
       "      <td>0.000020</td>\n",
       "      <td>0.000000</td>\n",
       "      <td>0.000051</td>\n",
       "      <td>0.000000</td>\n",
       "      <td>0.000175</td>\n",
       "      <td>0.000175</td>\n",
       "      <td>2.331868</td>\n",
       "      <td>3.822563</td>\n",
       "      <td>0.007298</td>\n",
       "      <td>...</td>\n",
       "      <td>0.206009</td>\n",
       "      <td>0.017662</td>\n",
       "      <td>0.992179</td>\n",
       "      <td>0.627281</td>\n",
       "      <td>0.278321</td>\n",
       "      <td>NaN</td>\n",
       "      <td>NaN</td>\n",
       "      <td>-0.041837</td>\n",
       "      <td>0.060094</td>\n",
       "      <td>NaN</td>\n",
       "    </tr>\n",
       "    <tr>\n",
       "      <th>2057</th>\n",
       "      <td>665759.0</td>\n",
       "      <td>0.000095</td>\n",
       "      <td>0.000000</td>\n",
       "      <td>0.000174</td>\n",
       "      <td>0.000000</td>\n",
       "      <td>0.000701</td>\n",
       "      <td>0.000000</td>\n",
       "      <td>2.033176</td>\n",
       "      <td>3.899046</td>\n",
       "      <td>0.238824</td>\n",
       "      <td>...</td>\n",
       "      <td>0.332631</td>\n",
       "      <td>0.019864</td>\n",
       "      <td>2.366135</td>\n",
       "      <td>7.230272</td>\n",
       "      <td>0.676003</td>\n",
       "      <td>NaN</td>\n",
       "      <td>NaN</td>\n",
       "      <td>0.678376</td>\n",
       "      <td>0.848313</td>\n",
       "      <td>NaN</td>\n",
       "    </tr>\n",
       "    <tr>\n",
       "      <th>2058</th>\n",
       "      <td>448178.0</td>\n",
       "      <td>0.000020</td>\n",
       "      <td>0.000000</td>\n",
       "      <td>0.000052</td>\n",
       "      <td>0.000000</td>\n",
       "      <td>0.000174</td>\n",
       "      <td>0.000000</td>\n",
       "      <td>2.345681</td>\n",
       "      <td>3.902834</td>\n",
       "      <td>0.005605</td>\n",
       "      <td>...</td>\n",
       "      <td>0.350299</td>\n",
       "      <td>0.188265</td>\n",
       "      <td>2.416382</td>\n",
       "      <td>8.149779</td>\n",
       "      <td>-0.053275</td>\n",
       "      <td>-0.134373</td>\n",
       "      <td>-0.260662</td>\n",
       "      <td>-0.106479</td>\n",
       "      <td>-0.172380</td>\n",
       "      <td>-0.078929</td>\n",
       "    </tr>\n",
       "    <tr>\n",
       "      <th>2059</th>\n",
       "      <td>488681.0</td>\n",
       "      <td>0.000074</td>\n",
       "      <td>0.000000</td>\n",
       "      <td>0.000142</td>\n",
       "      <td>0.000000</td>\n",
       "      <td>0.000506</td>\n",
       "      <td>0.000000</td>\n",
       "      <td>2.153297</td>\n",
       "      <td>3.865929</td>\n",
       "      <td>0.012644</td>\n",
       "      <td>...</td>\n",
       "      <td>0.453328</td>\n",
       "      <td>0.075379</td>\n",
       "      <td>1.055577</td>\n",
       "      <td>1.166366</td>\n",
       "      <td>-0.114731</td>\n",
       "      <td>0.364257</td>\n",
       "      <td>0.095866</td>\n",
       "      <td>0.216720</td>\n",
       "      <td>0.301329</td>\n",
       "      <td>0.054098</td>\n",
       "    </tr>\n",
       "    <tr>\n",
       "      <th>2060</th>\n",
       "      <td>573668.0</td>\n",
       "      <td>0.000040</td>\n",
       "      <td>0.000000</td>\n",
       "      <td>0.000124</td>\n",
       "      <td>0.000000</td>\n",
       "      <td>0.000487</td>\n",
       "      <td>0.000000</td>\n",
       "      <td>2.994696</td>\n",
       "      <td>7.845999</td>\n",
       "      <td>0.019460</td>\n",
       "      <td>...</td>\n",
       "      <td>0.147330</td>\n",
       "      <td>0.037690</td>\n",
       "      <td>1.431351</td>\n",
       "      <td>2.157415</td>\n",
       "      <td>0.245327</td>\n",
       "      <td>0.148543</td>\n",
       "      <td>-0.047421</td>\n",
       "      <td>0.184882</td>\n",
       "      <td>0.245377</td>\n",
       "      <td>-0.155625</td>\n",
       "    </tr>\n",
       "  </tbody>\n",
       "</table>\n",
       "<p>2061 rows × 39 columns</p>\n",
       "</div>"
      ],
      "text/plain": [
       "      playerId  target1_mean  target1_median  target1_std  target1_min  \\\n",
       "0     624415.0      1.193031        0.489252     1.578499     0.008327   \n",
       "1     656548.0      0.110672        0.001015     0.428984     0.000000   \n",
       "2     400284.0      0.001807        0.001301     0.001164     0.000437   \n",
       "3     606157.0      0.748247        0.024461     1.318711     0.002736   \n",
       "4     665620.0      0.483331        0.020388     1.415708     0.004932   \n",
       "...        ...           ...             ...          ...          ...   \n",
       "2056  621350.0      0.000020        0.000000     0.000051     0.000000   \n",
       "2057  665759.0      0.000095        0.000000     0.000174     0.000000   \n",
       "2058  448178.0      0.000020        0.000000     0.000052     0.000000   \n",
       "2059  488681.0      0.000074        0.000000     0.000142     0.000000   \n",
       "2060  573668.0      0.000040        0.000000     0.000124     0.000000   \n",
       "\n",
       "      target1_max  target1_prob  target1_skew  target1_kurt  target2_mean  \\\n",
       "0        7.267988      0.785380      2.208850      6.071897      5.398585   \n",
       "1        2.392265      0.000000      5.272732     28.385845      0.445853   \n",
       "2        0.004770      0.001127      1.155729      0.582752      0.073071   \n",
       "3        4.840508      0.548613      2.003263      3.235374      2.027612   \n",
       "4        6.322554      0.128698      3.507992     11.893073      1.913634   \n",
       "...           ...           ...           ...           ...           ...   \n",
       "2056     0.000175      0.000175      2.331868      3.822563      0.007298   \n",
       "2057     0.000701      0.000000      2.033176      3.899046      0.238824   \n",
       "2058     0.000174      0.000000      2.345681      3.902834      0.005605   \n",
       "2059     0.000506      0.000000      2.153297      3.865929      0.012644   \n",
       "2060     0.000487      0.000000      2.994696      7.845999      0.019460   \n",
       "\n",
       "      ...  target4_max  target4_prob  target4_skew  target4_kurt  tgt1_2_corr  \\\n",
       "0     ...    26.025186     10.464387      1.695464      3.831404     0.408492   \n",
       "1     ...     0.423573      0.032978      1.294196      1.140084     0.566411   \n",
       "2     ...     8.909871      7.882136      0.388255     -0.703079     0.102451   \n",
       "3     ...     3.931330      0.231750      2.053818      4.653597     0.641382   \n",
       "4     ...     8.474798      0.314951      4.910653     25.637658     0.807310   \n",
       "...   ...          ...           ...           ...           ...          ...   \n",
       "2056  ...     0.206009      0.017662      0.992179      0.627281     0.278321   \n",
       "2057  ...     0.332631      0.019864      2.366135      7.230272     0.676003   \n",
       "2058  ...     0.350299      0.188265      2.416382      8.149779    -0.053275   \n",
       "2059  ...     0.453328      0.075379      1.055577      1.166366    -0.114731   \n",
       "2060  ...     0.147330      0.037690      1.431351      2.157415     0.245327   \n",
       "\n",
       "      tgt1_3_corr  tgt2_3_corr  tgt1_4_corr  tgt2_4_corr  tgt3_4_corr  \n",
       "0       -0.009458    -0.101143     0.227373     0.694767    -0.039737  \n",
       "1        0.588373     0.527886     0.231260     0.525065     0.132559  \n",
       "2        0.429495     0.046450     0.006606     0.277479    -0.016683  \n",
       "3        0.093253    -0.002014     0.404372     0.626199     0.249109  \n",
       "4        0.810125     0.965737     0.778467     0.954381     0.959152  \n",
       "...           ...          ...          ...          ...          ...  \n",
       "2056          NaN          NaN    -0.041837     0.060094          NaN  \n",
       "2057          NaN          NaN     0.678376     0.848313          NaN  \n",
       "2058    -0.134373    -0.260662    -0.106479    -0.172380    -0.078929  \n",
       "2059     0.364257     0.095866     0.216720     0.301329     0.054098  \n",
       "2060     0.148543    -0.047421     0.184882     0.245377    -0.155625  \n",
       "\n",
       "[2061 rows x 39 columns]"
      ]
     },
     "execution_count": 17,
     "metadata": {},
     "output_type": "execute_result"
    }
   ],
   "source": [
    "player_target_stats"
   ]
  },
  {
   "cell_type": "code",
   "execution_count": 18,
   "id": "55b00605",
   "metadata": {},
   "outputs": [],
   "source": [
    "data_names=player_target_stats.columns.values.tolist()"
   ]
  },
  {
   "cell_type": "code",
   "execution_count": 19,
   "id": "41c9156a",
   "metadata": {},
   "outputs": [],
   "source": [
    "players['DOY'] = pd.to_datetime(players['DOB'], format=\"%Y-%m-%d\").dt.year\n",
    "players['mlbDebutYear'] = pd.to_datetime(players['mlbDebutDate'], format=\"%Y-%m-%d\").dt.year\n",
    "players['DebutAge'] = players['mlbDebutYear'] - players['DOY']"
   ]
  },
  {
   "cell_type": "code",
   "execution_count": 20,
   "id": "bef50f77",
   "metadata": {},
   "outputs": [],
   "source": [
    "# creat dataset\n",
    "train = targets[targets_cols].merge(players[players_cols], on=['playerId'], how='left')\n",
    "train = train.merge(rosters[rosters_cols], on=['playerId', 'date'], how='left')\n",
    "train = train.merge(scores[scores_cols], on=['playerId', 'date'], how='left')\n",
    "train = train.merge(player_target_stats, how='inner', left_on=[\"playerId\"],right_on=[\"playerId\"])\n"
   ]
  },
  {
   "cell_type": "code",
   "execution_count": 21,
   "id": "0b4be265",
   "metadata": {},
   "outputs": [],
   "source": [
    "# label encoding\n",
    "player2num = {c: i for i, c in enumerate(train['playerId'].unique())}\n",
    "position2num = {c: i for i, c in enumerate(train['primaryPositionName'].unique())}\n",
    "birthCityn2num = {c: i for i, c in enumerate(train['birthCity'].unique())}\n",
    "teamid2num = {c: i for i, c in enumerate(train['teamId'].unique())}\n",
    "status2num = {c: i for i, c in enumerate(train['status'].unique())}\n",
    "train['label_playerId'] = train['playerId'].map(player2num)\n",
    "train['label_primaryPositionName'] = train['primaryPositionName'].map(position2num)\n",
    "train['label_birthCity'] = train['birthCity'].map(birthCityn2num)\n",
    "train['label_teamId'] = train['teamId'].map(teamid2num)\n",
    "train['label_status'] = train['status'].map(status2num)"
   ]
  },
  {
   "cell_type": "code",
   "execution_count": 22,
   "id": "c831b19b",
   "metadata": {},
   "outputs": [],
   "source": [
    "date_ = pd.to_datetime(train['date'], format=\"%Y%m%d\")\n",
    "train['annual_day'] = (date_ - pd.to_datetime(date_.dt.year, format=\"%Y\")) /  timedelta(days=1)\n",
    "train['week_day'] = date_.dt.weekday\n",
    "train['month'] = date_.dt.month"
   ]
  },
  {
   "cell_type": "code",
   "execution_count": 23,
   "id": "3b60529c",
   "metadata": {},
   "outputs": [],
   "source": [
    "train['gameday'] = ~train['battingOrder'].isna()*1"
   ]
  },
  {
   "cell_type": "code",
   "execution_count": 24,
   "id": "389b0e3b",
   "metadata": {},
   "outputs": [],
   "source": [
    "train.sort_values(by=['playerId','date'],inplace=True,ascending=True)"
   ]
  },
  {
   "cell_type": "code",
   "execution_count": 25,
   "id": "06c9a3f0",
   "metadata": {},
   "outputs": [],
   "source": [
    "def count_consecutive_items_n_cols(df, col_name_list, output_col):\n",
    "    cum_sum_list = [\n",
    "        (df[col_name] != df[col_name].shift(1)).cumsum().tolist() for col_name in col_name_list\n",
    "    ]\n",
    "    df[output_col] = df.groupby(\n",
    "        [\"_\".join(map(str, x)) for x in zip(*cum_sum_list)]\n",
    "    ).cumcount() + 1\n",
    "    return df"
   ]
  },
  {
   "cell_type": "code",
   "execution_count": 26,
   "id": "5d2762a1",
   "metadata": {},
   "outputs": [],
   "source": [
    "train=count_consecutive_items_n_cols(train,['playerId','gameday'],'daysSinceLastGame')\n",
    "train.loc[train['gameday']==1,'daysSinceLastGame']=0"
   ]
  },
  {
   "cell_type": "code",
   "execution_count": 27,
   "id": "708b7ccb",
   "metadata": {},
   "outputs": [],
   "source": [
    "train_game = train[train['gameday']==1]\n",
    "train_last_game = train_game[~train_game.duplicated(subset='playerId', keep='last')][['playerId', 'date']]\n",
    "train_last_game.columns = ['playerId', 'lastdate']\n",
    "train_player_unique = pd.DataFrame(train['playerId'].unique(), columns=['playerId'])\n",
    "train_last_game = pd.merge(train_player_unique, train_last_game, on=['playerId'], how='left' )\n",
    "train_last_game = train_last_game.fillna(20171231)"
   ]
  },
  {
   "cell_type": "code",
   "execution_count": 28,
   "id": "6a66889f",
   "metadata": {},
   "outputs": [
    {
     "data": {
      "text/html": [
       "<div>\n",
       "<style scoped>\n",
       "    .dataframe tbody tr th:only-of-type {\n",
       "        vertical-align: middle;\n",
       "    }\n",
       "\n",
       "    .dataframe tbody tr th {\n",
       "        vertical-align: top;\n",
       "    }\n",
       "\n",
       "    .dataframe thead th {\n",
       "        text-align: right;\n",
       "    }\n",
       "</style>\n",
       "<table border=\"1\" class=\"dataframe\">\n",
       "  <thead>\n",
       "    <tr style=\"text-align: right;\">\n",
       "      <th></th>\n",
       "      <th>playerId</th>\n",
       "      <th>lastdate</th>\n",
       "    </tr>\n",
       "  </thead>\n",
       "  <tbody>\n",
       "    <tr>\n",
       "      <th>856</th>\n",
       "      <td>593590</td>\n",
       "      <td>20171231.0</td>\n",
       "    </tr>\n",
       "    <tr>\n",
       "      <th>1995</th>\n",
       "      <td>670462</td>\n",
       "      <td>20171231.0</td>\n",
       "    </tr>\n",
       "    <tr>\n",
       "      <th>2000</th>\n",
       "      <td>670764</td>\n",
       "      <td>20171231.0</td>\n",
       "    </tr>\n",
       "    <tr>\n",
       "      <th>1765</th>\n",
       "      <td>661269</td>\n",
       "      <td>20171231.0</td>\n",
       "    </tr>\n",
       "    <tr>\n",
       "      <th>1932</th>\n",
       "      <td>667674</td>\n",
       "      <td>20171231.0</td>\n",
       "    </tr>\n",
       "    <tr>\n",
       "      <th>...</th>\n",
       "      <td>...</td>\n",
       "      <td>...</td>\n",
       "    </tr>\n",
       "    <tr>\n",
       "      <th>473</th>\n",
       "      <td>542932</td>\n",
       "      <td>20210430.0</td>\n",
       "    </tr>\n",
       "    <tr>\n",
       "      <th>1480</th>\n",
       "      <td>641856</td>\n",
       "      <td>20210430.0</td>\n",
       "    </tr>\n",
       "    <tr>\n",
       "      <th>1481</th>\n",
       "      <td>641857</td>\n",
       "      <td>20210430.0</td>\n",
       "    </tr>\n",
       "    <tr>\n",
       "      <th>483</th>\n",
       "      <td>543037</td>\n",
       "      <td>20210430.0</td>\n",
       "    </tr>\n",
       "    <tr>\n",
       "      <th>2060</th>\n",
       "      <td>685503</td>\n",
       "      <td>20210430.0</td>\n",
       "    </tr>\n",
       "  </tbody>\n",
       "</table>\n",
       "<p>2061 rows × 2 columns</p>\n",
       "</div>"
      ],
      "text/plain": [
       "      playerId    lastdate\n",
       "856     593590  20171231.0\n",
       "1995    670462  20171231.0\n",
       "2000    670764  20171231.0\n",
       "1765    661269  20171231.0\n",
       "1932    667674  20171231.0\n",
       "...        ...         ...\n",
       "473     542932  20210430.0\n",
       "1480    641856  20210430.0\n",
       "1481    641857  20210430.0\n",
       "483     543037  20210430.0\n",
       "2060    685503  20210430.0\n",
       "\n",
       "[2061 rows x 2 columns]"
      ]
     },
     "execution_count": 28,
     "metadata": {},
     "output_type": "execute_result"
    }
   ],
   "source": [
    "train_last_game.sort_values('lastdate')"
   ]
  },
  {
   "cell_type": "code",
   "execution_count": 29,
   "id": "e0e816fe",
   "metadata": {},
   "outputs": [],
   "source": [
    "def extract_season(date_raw, season_start_end):\n",
    "    idxes = 0\n",
    "    for raw in season_start_end.iloc():\n",
    "        idx_ = ((date_raw >= raw.iloc[0]) & (date_raw <= raw.iloc[1])) * 1\n",
    "        idxes += idx_\n",
    "    return idxes"
   ]
  },
  {
   "cell_type": "code",
   "execution_count": 30,
   "id": "be8f050c",
   "metadata": {},
   "outputs": [],
   "source": [
    "on_preseason_idxes = extract_season(train['date'], seasons[['preSeasonStartDate', 'preSeasonEndDate']])\n",
    "on_season_idxes = extract_season(train['date'], seasons[['regularSeasonStartDate', 'regularSeasonEndDate']]) * 2\n",
    "on_postseason_idxes = extract_season(train['date'], seasons[['postSeasonStartDate', 'postSeasonEndDate']]) * 3\n",
    "\n",
    "special_days = seasons['lastDate1stHalf'].to_list() + seasons['allStarDate'].to_list() + seasons['firstDate2ndHalf'].to_list()\n",
    "special_idxes = 0\n",
    "for day in special_days:\n",
    "    special_idxes += (train['date'] == day) * 4\n",
    "\n",
    "on_total_season_idxes = on_preseason_idxes\n",
    "on_total_season_idxes[on_season_idxes==2] = 2\n",
    "on_total_season_idxes[on_postseason_idxes==3] = 3\n",
    "on_total_season_idxes[special_idxes==4] = 4\n",
    "\n",
    "train['season_info'] = on_total_season_idxes"
   ]
  },
  {
   "cell_type": "code",
   "execution_count": 31,
   "id": "34b58725",
   "metadata": {},
   "outputs": [],
   "source": [
    "## only on season\n",
    "on_whole_idxes = extract_season(train['date'], seasons[['seasonStartDate', 'seasonEndDate']])\n",
    "train = train[on_whole_idxes == 1].reset_index(drop=True)"
   ]
  },
  {
   "cell_type": "code",
   "execution_count": 32,
   "id": "7cec537c",
   "metadata": {},
   "outputs": [],
   "source": [
    "train = train[train['playerForTestSetAndFuturePreds']==True].reset_index(drop=True)"
   ]
  },
  {
   "cell_type": "code",
   "execution_count": 33,
   "id": "d8fb8cfb",
   "metadata": {},
   "outputs": [
    {
     "data": {
      "text/html": [
       "<div>\n",
       "<style scoped>\n",
       "    .dataframe tbody tr th:only-of-type {\n",
       "        vertical-align: middle;\n",
       "    }\n",
       "\n",
       "    .dataframe tbody tr th {\n",
       "        vertical-align: top;\n",
       "    }\n",
       "\n",
       "    .dataframe thead th {\n",
       "        text-align: right;\n",
       "    }\n",
       "</style>\n",
       "<table border=\"1\" class=\"dataframe\">\n",
       "  <thead>\n",
       "    <tr style=\"text-align: right;\">\n",
       "      <th></th>\n",
       "      <th>playerId</th>\n",
       "      <th>target1</th>\n",
       "      <th>target2</th>\n",
       "      <th>target3</th>\n",
       "      <th>target4</th>\n",
       "      <th>date</th>\n",
       "      <th>primaryPositionName</th>\n",
       "      <th>birthCity</th>\n",
       "      <th>DOY</th>\n",
       "      <th>mlbDebutYear</th>\n",
       "      <th>...</th>\n",
       "      <th>label_primaryPositionName</th>\n",
       "      <th>label_birthCity</th>\n",
       "      <th>label_teamId</th>\n",
       "      <th>label_status</th>\n",
       "      <th>annual_day</th>\n",
       "      <th>week_day</th>\n",
       "      <th>month</th>\n",
       "      <th>gameday</th>\n",
       "      <th>daysSinceLastGame</th>\n",
       "      <th>season_info</th>\n",
       "    </tr>\n",
       "  </thead>\n",
       "  <tbody>\n",
       "    <tr>\n",
       "      <th>0</th>\n",
       "      <td>405395</td>\n",
       "      <td>1.916353</td>\n",
       "      <td>21.512858</td>\n",
       "      <td>0.078997</td>\n",
       "      <td>7.389917</td>\n",
       "      <td>20180329</td>\n",
       "      <td>First Base</td>\n",
       "      <td>Santo Domingo</td>\n",
       "      <td>1980</td>\n",
       "      <td>2001.0</td>\n",
       "      <td>...</td>\n",
       "      <td>1</td>\n",
       "      <td>52</td>\n",
       "      <td>8</td>\n",
       "      <td>0</td>\n",
       "      <td>87.0</td>\n",
       "      <td>3</td>\n",
       "      <td>3</td>\n",
       "      <td>1</td>\n",
       "      <td>0</td>\n",
       "      <td>2</td>\n",
       "    </tr>\n",
       "    <tr>\n",
       "      <th>1</th>\n",
       "      <td>405395</td>\n",
       "      <td>2.431219</td>\n",
       "      <td>38.280184</td>\n",
       "      <td>0.080521</td>\n",
       "      <td>10.307364</td>\n",
       "      <td>20180330</td>\n",
       "      <td>First Base</td>\n",
       "      <td>Santo Domingo</td>\n",
       "      <td>1980</td>\n",
       "      <td>2001.0</td>\n",
       "      <td>...</td>\n",
       "      <td>1</td>\n",
       "      <td>52</td>\n",
       "      <td>8</td>\n",
       "      <td>0</td>\n",
       "      <td>88.0</td>\n",
       "      <td>4</td>\n",
       "      <td>3</td>\n",
       "      <td>1</td>\n",
       "      <td>0</td>\n",
       "      <td>2</td>\n",
       "    </tr>\n",
       "    <tr>\n",
       "      <th>2</th>\n",
       "      <td>405395</td>\n",
       "      <td>4.890499</td>\n",
       "      <td>18.149785</td>\n",
       "      <td>0.196634</td>\n",
       "      <td>19.190820</td>\n",
       "      <td>20180331</td>\n",
       "      <td>First Base</td>\n",
       "      <td>Santo Domingo</td>\n",
       "      <td>1980</td>\n",
       "      <td>2001.0</td>\n",
       "      <td>...</td>\n",
       "      <td>1</td>\n",
       "      <td>52</td>\n",
       "      <td>8</td>\n",
       "      <td>0</td>\n",
       "      <td>89.0</td>\n",
       "      <td>5</td>\n",
       "      <td>3</td>\n",
       "      <td>1</td>\n",
       "      <td>0</td>\n",
       "      <td>2</td>\n",
       "    </tr>\n",
       "    <tr>\n",
       "      <th>3</th>\n",
       "      <td>405395</td>\n",
       "      <td>0.061685</td>\n",
       "      <td>21.539123</td>\n",
       "      <td>0.215855</td>\n",
       "      <td>28.610586</td>\n",
       "      <td>20180401</td>\n",
       "      <td>First Base</td>\n",
       "      <td>Santo Domingo</td>\n",
       "      <td>1980</td>\n",
       "      <td>2001.0</td>\n",
       "      <td>...</td>\n",
       "      <td>1</td>\n",
       "      <td>52</td>\n",
       "      <td>8</td>\n",
       "      <td>0</td>\n",
       "      <td>90.0</td>\n",
       "      <td>6</td>\n",
       "      <td>4</td>\n",
       "      <td>1</td>\n",
       "      <td>0</td>\n",
       "      <td>2</td>\n",
       "    </tr>\n",
       "    <tr>\n",
       "      <th>4</th>\n",
       "      <td>405395</td>\n",
       "      <td>0.021304</td>\n",
       "      <td>19.234421</td>\n",
       "      <td>0.217329</td>\n",
       "      <td>20.419970</td>\n",
       "      <td>20180402</td>\n",
       "      <td>First Base</td>\n",
       "      <td>Santo Domingo</td>\n",
       "      <td>1980</td>\n",
       "      <td>2001.0</td>\n",
       "      <td>...</td>\n",
       "      <td>1</td>\n",
       "      <td>52</td>\n",
       "      <td>8</td>\n",
       "      <td>0</td>\n",
       "      <td>91.0</td>\n",
       "      <td>0</td>\n",
       "      <td>4</td>\n",
       "      <td>1</td>\n",
       "      <td>0</td>\n",
       "      <td>2</td>\n",
       "    </tr>\n",
       "    <tr>\n",
       "      <th>...</th>\n",
       "      <td>...</td>\n",
       "      <td>...</td>\n",
       "      <td>...</td>\n",
       "      <td>...</td>\n",
       "      <td>...</td>\n",
       "      <td>...</td>\n",
       "      <td>...</td>\n",
       "      <td>...</td>\n",
       "      <td>...</td>\n",
       "      <td>...</td>\n",
       "      <td>...</td>\n",
       "      <td>...</td>\n",
       "      <td>...</td>\n",
       "      <td>...</td>\n",
       "      <td>...</td>\n",
       "      <td>...</td>\n",
       "      <td>...</td>\n",
       "      <td>...</td>\n",
       "      <td>...</td>\n",
       "      <td>...</td>\n",
       "      <td>...</td>\n",
       "    </tr>\n",
       "    <tr>\n",
       "      <th>711008</th>\n",
       "      <td>685503</td>\n",
       "      <td>0.044617</td>\n",
       "      <td>1.224728</td>\n",
       "      <td>0.009437</td>\n",
       "      <td>0.737463</td>\n",
       "      <td>20210426</td>\n",
       "      <td>Pitcher</td>\n",
       "      <td>Hiroshima</td>\n",
       "      <td>1992</td>\n",
       "      <td>2021.0</td>\n",
       "      <td>...</td>\n",
       "      <td>0</td>\n",
       "      <td>902</td>\n",
       "      <td>7</td>\n",
       "      <td>0</td>\n",
       "      <td>115.0</td>\n",
       "      <td>0</td>\n",
       "      <td>4</td>\n",
       "      <td>0</td>\n",
       "      <td>1</td>\n",
       "      <td>2</td>\n",
       "    </tr>\n",
       "    <tr>\n",
       "      <th>711009</th>\n",
       "      <td>685503</td>\n",
       "      <td>0.019123</td>\n",
       "      <td>1.178880</td>\n",
       "      <td>0.013161</td>\n",
       "      <td>0.790301</td>\n",
       "      <td>20210427</td>\n",
       "      <td>Pitcher</td>\n",
       "      <td>Hiroshima</td>\n",
       "      <td>1992</td>\n",
       "      <td>2021.0</td>\n",
       "      <td>...</td>\n",
       "      <td>0</td>\n",
       "      <td>902</td>\n",
       "      <td>7</td>\n",
       "      <td>0</td>\n",
       "      <td>116.0</td>\n",
       "      <td>1</td>\n",
       "      <td>4</td>\n",
       "      <td>0</td>\n",
       "      <td>2</td>\n",
       "      <td>2</td>\n",
       "    </tr>\n",
       "    <tr>\n",
       "      <th>711010</th>\n",
       "      <td>685503</td>\n",
       "      <td>0.015799</td>\n",
       "      <td>4.323489</td>\n",
       "      <td>0.002350</td>\n",
       "      <td>0.970273</td>\n",
       "      <td>20210428</td>\n",
       "      <td>Pitcher</td>\n",
       "      <td>Hiroshima</td>\n",
       "      <td>1992</td>\n",
       "      <td>2021.0</td>\n",
       "      <td>...</td>\n",
       "      <td>0</td>\n",
       "      <td>902</td>\n",
       "      <td>7</td>\n",
       "      <td>0</td>\n",
       "      <td>117.0</td>\n",
       "      <td>2</td>\n",
       "      <td>4</td>\n",
       "      <td>0</td>\n",
       "      <td>3</td>\n",
       "      <td>2</td>\n",
       "    </tr>\n",
       "    <tr>\n",
       "      <th>711011</th>\n",
       "      <td>685503</td>\n",
       "      <td>0.018770</td>\n",
       "      <td>31.946021</td>\n",
       "      <td>0.305491</td>\n",
       "      <td>5.938273</td>\n",
       "      <td>20210429</td>\n",
       "      <td>Pitcher</td>\n",
       "      <td>Hiroshima</td>\n",
       "      <td>1992</td>\n",
       "      <td>2021.0</td>\n",
       "      <td>...</td>\n",
       "      <td>0</td>\n",
       "      <td>902</td>\n",
       "      <td>7</td>\n",
       "      <td>0</td>\n",
       "      <td>118.0</td>\n",
       "      <td>3</td>\n",
       "      <td>4</td>\n",
       "      <td>0</td>\n",
       "      <td>4</td>\n",
       "      <td>2</td>\n",
       "    </tr>\n",
       "    <tr>\n",
       "      <th>711012</th>\n",
       "      <td>685503</td>\n",
       "      <td>0.014727</td>\n",
       "      <td>6.607196</td>\n",
       "      <td>1.851336</td>\n",
       "      <td>2.014339</td>\n",
       "      <td>20210430</td>\n",
       "      <td>Pitcher</td>\n",
       "      <td>Hiroshima</td>\n",
       "      <td>1992</td>\n",
       "      <td>2021.0</td>\n",
       "      <td>...</td>\n",
       "      <td>0</td>\n",
       "      <td>902</td>\n",
       "      <td>7</td>\n",
       "      <td>0</td>\n",
       "      <td>119.0</td>\n",
       "      <td>4</td>\n",
       "      <td>4</td>\n",
       "      <td>1</td>\n",
       "      <td>0</td>\n",
       "      <td>2</td>\n",
       "    </tr>\n",
       "  </tbody>\n",
       "</table>\n",
       "<p>711013 rows × 138 columns</p>\n",
       "</div>"
      ],
      "text/plain": [
       "        playerId   target1    target2   target3    target4      date  \\\n",
       "0         405395  1.916353  21.512858  0.078997   7.389917  20180329   \n",
       "1         405395  2.431219  38.280184  0.080521  10.307364  20180330   \n",
       "2         405395  4.890499  18.149785  0.196634  19.190820  20180331   \n",
       "3         405395  0.061685  21.539123  0.215855  28.610586  20180401   \n",
       "4         405395  0.021304  19.234421  0.217329  20.419970  20180402   \n",
       "...          ...       ...        ...       ...        ...       ...   \n",
       "711008    685503  0.044617   1.224728  0.009437   0.737463  20210426   \n",
       "711009    685503  0.019123   1.178880  0.013161   0.790301  20210427   \n",
       "711010    685503  0.015799   4.323489  0.002350   0.970273  20210428   \n",
       "711011    685503  0.018770  31.946021  0.305491   5.938273  20210429   \n",
       "711012    685503  0.014727   6.607196  1.851336   2.014339  20210430   \n",
       "\n",
       "       primaryPositionName      birthCity   DOY  mlbDebutYear  ...  \\\n",
       "0               First Base  Santo Domingo  1980        2001.0  ...   \n",
       "1               First Base  Santo Domingo  1980        2001.0  ...   \n",
       "2               First Base  Santo Domingo  1980        2001.0  ...   \n",
       "3               First Base  Santo Domingo  1980        2001.0  ...   \n",
       "4               First Base  Santo Domingo  1980        2001.0  ...   \n",
       "...                    ...            ...   ...           ...  ...   \n",
       "711008             Pitcher      Hiroshima  1992        2021.0  ...   \n",
       "711009             Pitcher      Hiroshima  1992        2021.0  ...   \n",
       "711010             Pitcher      Hiroshima  1992        2021.0  ...   \n",
       "711011             Pitcher      Hiroshima  1992        2021.0  ...   \n",
       "711012             Pitcher      Hiroshima  1992        2021.0  ...   \n",
       "\n",
       "        label_primaryPositionName  label_birthCity  label_teamId label_status  \\\n",
       "0                               1               52             8            0   \n",
       "1                               1               52             8            0   \n",
       "2                               1               52             8            0   \n",
       "3                               1               52             8            0   \n",
       "4                               1               52             8            0   \n",
       "...                           ...              ...           ...          ...   \n",
       "711008                          0              902             7            0   \n",
       "711009                          0              902             7            0   \n",
       "711010                          0              902             7            0   \n",
       "711011                          0              902             7            0   \n",
       "711012                          0              902             7            0   \n",
       "\n",
       "        annual_day week_day  month  gameday  daysSinceLastGame  season_info  \n",
       "0             87.0        3      3        1                  0            2  \n",
       "1             88.0        4      3        1                  0            2  \n",
       "2             89.0        5      3        1                  0            2  \n",
       "3             90.0        6      4        1                  0            2  \n",
       "4             91.0        0      4        1                  0            2  \n",
       "...            ...      ...    ...      ...                ...          ...  \n",
       "711008       115.0        0      4        0                  1            2  \n",
       "711009       116.0        1      4        0                  2            2  \n",
       "711010       117.0        2      4        0                  3            2  \n",
       "711011       118.0        3      4        0                  4            2  \n",
       "711012       119.0        4      4        1                  0            2  \n",
       "\n",
       "[711013 rows x 138 columns]"
      ]
     },
     "execution_count": 33,
     "metadata": {},
     "output_type": "execute_result"
    }
   ],
   "source": [
    "train"
   ]
  },
  {
   "cell_type": "code",
   "execution_count": 34,
   "id": "35a57ee8",
   "metadata": {},
   "outputs": [],
   "source": [
    "# def fit_lgbm(x_train, y_train, x_valid, y_valid, params: dict=None, verbose=100):\n",
    "#     oof_pred = np.zeros(len(y_valid), dtype=np.float32)\n",
    "#     model = lgbm.LGBMRegressor(**params)\n",
    "#     model.fit(x_train, y_train, \n",
    "#         eval_set=[(X_train, y_train), (x_valid, y_valid)],  \n",
    "#         early_stopping_rounds=verbose, \n",
    "#         verbose=verbose)\n",
    "#     oof_pred = model.predict(x_valid)\n",
    "#     oof_pred = np.clip(oof_pred, 0, 100)\n",
    "#     score = mean_absolute_error(oof_pred, y_valid)\n",
    "#     print('mae:', score)\n",
    "#     return oof_pred, model, score\n"
   ]
  },
  {
   "cell_type": "code",
   "execution_count": 35,
   "id": "006694a8",
   "metadata": {},
   "outputs": [],
   "source": [
    "def fit_lgbm(x_train, y_train, x_valid, y_valid, verbose=100):\n",
    "    def opt(trial):\n",
    "        params = {\n",
    "                'random_state': SEED,\n",
    "                'objective':'mae',\n",
    "                'n_estimators': 10000,\n",
    "                'learning_rate': 0.1,\n",
    "                'max_depth': trial.suggest_int('max_depth', 1, 20),\n",
    "                'min_child_weight': trial.suggest_int('min_child_weight', 1, 20),\n",
    "                'subsample': trial.suggest_discrete_uniform('subsample', 0.5, 0.9, 0.1),\n",
    "                'colsample_bytree': trial.suggest_discrete_uniform('colsample_bytree', 0.5, 0.9, 0.1),\n",
    "                'reg_lambda': trial.suggest_loguniform('reg_lambda', 1e-3, 1e3),\n",
    "                'reg_alpha': trial.suggest_loguniform('reg_alpha', 1e-3, 1e3),\n",
    "                'feature_fraction': trial.suggest_uniform('feature_fraction', 0.4, 1.0),\n",
    "                'bagging_fraction': trial.suggest_uniform('bagging_fraction', 0.4, 1.0),\n",
    "                'bagging_freq': trial.suggest_int('bagging_freq', 1, 10)\n",
    "        }\n",
    "\n",
    "        model_opt = lgbm.LGBMRegressor(**params)\n",
    "\n",
    "        model_opt.fit(x_train, y_train, \n",
    "            eval_set=[(x_train, y_train), (x_valid, y_valid)],  \n",
    "            early_stopping_rounds=verbose, \n",
    "            verbose=verbose)\n",
    "        oof_pred = model_opt.predict(x_valid)\n",
    "        oof_pred = np.clip(oof_pred, 0, 100)\n",
    "        score = mean_absolute_error(oof_pred, y_valid)\n",
    "        return -score\n",
    "    return opt"
   ]
  },
  {
   "cell_type": "code",
   "execution_count": 36,
   "id": "4d7bf715",
   "metadata": {},
   "outputs": [],
   "source": [
    "train_X = train\n",
    "train_y = train[['target1', 'target2', 'target3', 'target4']]\n",
    "tr_idxs = []\n",
    "val_idxs = []"
   ]
  },
  {
   "cell_type": "code",
   "execution_count": 37,
   "id": "f3203b00",
   "metadata": {},
   "outputs": [],
   "source": [
    "# tr_idx = (train['date'].astype(int) < 20200801)\n",
    "# val_idx = (train['date'].astype(int) >= 20200801) & (train['date'].astype(int) < 20200901)\n",
    "# tr_idxs.append(tr_idx)\n",
    "# val_idxs.append(val_idx)\n",
    "\n",
    "# tr_idx = (train['date'].astype(int) < 20200901)\n",
    "# val_idx = (train['date'].astype(int) >= 20200901) & (train['date'].astype(int) < 20201001)\n",
    "# tr_idxs.append(tr_idx)\n",
    "# val_idxs.append(val_idx)\n",
    "\n",
    "# tr_idx = (train['date'].astype(int) < 20201001)\n",
    "# val_idx = (train['date'].astype(int) >= 20201001) & (train['date'].astype(int) < 20201028)\n",
    "# tr_idxs.append(tr_idx)\n",
    "# val_idxs.append(val_idx)\n",
    "\n",
    "# tr_idx = (train['date'].astype(int) < 20210228)\n",
    "# val_idx = (train['date'].astype(int) >= 20210228) & (train['date'].astype(int) < 20210401)\n",
    "# tr_idxs.append(tr_idx)\n",
    "# val_idxs.append(val_idx)\n",
    "\n",
    "tr_idx = (train['date'].astype(int) < 20210401)\n",
    "val_idx = ~tr_idx\n",
    "tr_idxs.append(tr_idx)\n",
    "val_idxs.append(val_idx)"
   ]
  },
  {
   "cell_type": "code",
   "execution_count": 38,
   "id": "05452c6f",
   "metadata": {},
   "outputs": [],
   "source": [
    "idx = 0\n",
    "\n",
    "tr_idx = tr_idxs[idx]\n",
    "val_idx = val_idxs[idx]\n",
    "\n",
    "x_train = train_X.loc[tr_idx].reset_index(drop=True)\n",
    "y_train = train_y.loc[tr_idx].reset_index(drop=True)\n",
    "x_valid = train_X.loc[val_idx].reset_index(drop=True)\n",
    "y_valid = train_y.loc[val_idx].reset_index(drop=True)"
   ]
  },
  {
   "cell_type": "code",
   "execution_count": 39,
   "id": "5729664f",
   "metadata": {},
   "outputs": [
    {
     "name": "stderr",
     "output_type": "stream",
     "text": [
      "\u001b[32m[I 2021-07-04 19:55:49,458]\u001b[0m A new study created in memory with name: no-name-a345591d-20d7-462e-bd53-8d6f73d9057f\u001b[0m\n"
     ]
    },
    {
     "name": "stdout",
     "output_type": "stream",
     "text": [
      "[LightGBM] [Warning] feature_fraction is set=0.6583349724243479, colsample_bytree=0.8 will be ignored. Current value: feature_fraction=0.6583349724243479\n",
      "[LightGBM] [Warning] bagging_fraction is set=0.8990356395623903, subsample=0.8 will be ignored. Current value: bagging_fraction=0.8990356395623903\n",
      "[LightGBM] [Warning] bagging_freq is set=1, subsample_freq=0 will be ignored. Current value: bagging_freq=1\n",
      "Training until validation scores don't improve for 100 rounds\n",
      "[100]\ttraining's l1: 0.896239\tvalid_1's l1: 1.22428\n",
      "[200]\ttraining's l1: 0.896225\tvalid_1's l1: 1.22428\n"
     ]
    },
    {
     "name": "stderr",
     "output_type": "stream",
     "text": [
      "\u001b[32m[I 2021-07-04 19:55:55,326]\u001b[0m Trial 0 finished with value: -1.224273392756383 and parameters: {'max_depth': 20, 'min_child_weight': 16, 'subsample': 0.8, 'colsample_bytree': 0.8, 'reg_lambda': 0.07567391901902062, 'reg_alpha': 5.928991707811111, 'feature_fraction': 0.6583349724243479, 'bagging_fraction': 0.8990356395623903, 'bagging_freq': 1}. Best is trial 0 with value: -1.224273392756383.\u001b[0m\n"
     ]
    },
    {
     "name": "stdout",
     "output_type": "stream",
     "text": [
      "Early stopping, best iteration is:\n",
      "[120]\ttraining's l1: 0.896228\tvalid_1's l1: 1.22428\n",
      "[LightGBM] [Warning] feature_fraction is set=0.7158069442729347, colsample_bytree=0.8 will be ignored. Current value: feature_fraction=0.7158069442729347\n",
      "[LightGBM] [Warning] bagging_fraction is set=0.44925832012916617, subsample=0.5 will be ignored. Current value: bagging_fraction=0.44925832012916617\n",
      "[LightGBM] [Warning] bagging_freq is set=7, subsample_freq=0 will be ignored. Current value: bagging_freq=7\n",
      "Training until validation scores don't improve for 100 rounds\n",
      "[100]\ttraining's l1: 0.894698\tvalid_1's l1: 1.22003\n",
      "[200]\ttraining's l1: 0.894594\tvalid_1's l1: 1.21991\n"
     ]
    },
    {
     "name": "stderr",
     "output_type": "stream",
     "text": [
      "\u001b[32m[I 2021-07-04 19:56:00,646]\u001b[0m Trial 1 finished with value: -1.2199086548253606 and parameters: {'max_depth': 8, 'min_child_weight': 7, 'subsample': 0.5, 'colsample_bytree': 0.8, 'reg_lambda': 0.2421783228961428, 'reg_alpha': 1.4859982398300804, 'feature_fraction': 0.7158069442729347, 'bagging_fraction': 0.44925832012916617, 'bagging_freq': 7}. Best is trial 1 with value: -1.2199086548253606.\u001b[0m\n"
     ]
    },
    {
     "name": "stdout",
     "output_type": "stream",
     "text": [
      "Early stopping, best iteration is:\n",
      "[181]\ttraining's l1: 0.894594\tvalid_1's l1: 1.21991\n",
      "[LightGBM] [Warning] feature_fraction is set=0.9719505117369004, colsample_bytree=0.7 will be ignored. Current value: feature_fraction=0.9719505117369004\n",
      "[LightGBM] [Warning] bagging_fraction is set=0.4590296619052321, subsample=0.9 will be ignored. Current value: bagging_fraction=0.4590296619052321\n",
      "[LightGBM] [Warning] bagging_freq is set=7, subsample_freq=0 will be ignored. Current value: bagging_freq=7\n",
      "Training until validation scores don't improve for 100 rounds\n",
      "[100]\ttraining's l1: 0.901603\tvalid_1's l1: 1.22502\n",
      "[200]\ttraining's l1: 0.897875\tvalid_1's l1: 1.21641\n",
      "[300]\ttraining's l1: 0.895421\tvalid_1's l1: 1.21161\n",
      "[400]\ttraining's l1: 0.894656\tvalid_1's l1: 1.21049\n",
      "[500]\ttraining's l1: 0.894381\tvalid_1's l1: 1.21032\n"
     ]
    },
    {
     "name": "stderr",
     "output_type": "stream",
     "text": [
      "\u001b[32m[I 2021-07-04 19:56:10,918]\u001b[0m Trial 2 finished with value: -1.2100964117008661 and parameters: {'max_depth': 9, 'min_child_weight': 20, 'subsample': 0.9, 'colsample_bytree': 0.7, 'reg_lambda': 0.0013235807960333009, 'reg_alpha': 798.1365788000375, 'feature_fraction': 0.9719505117369004, 'bagging_fraction': 0.4590296619052321, 'bagging_freq': 7}. Best is trial 2 with value: -1.2100964117008661.\u001b[0m\n"
     ]
    },
    {
     "name": "stdout",
     "output_type": "stream",
     "text": [
      "Early stopping, best iteration is:\n",
      "[495]\ttraining's l1: 0.894389\tvalid_1's l1: 1.21031\n",
      "[LightGBM] [Warning] feature_fraction is set=0.9496025767292681, colsample_bytree=0.7 will be ignored. Current value: feature_fraction=0.9496025767292681\n",
      "[LightGBM] [Warning] bagging_fraction is set=0.5146819573160961, subsample=0.7 will be ignored. Current value: bagging_fraction=0.5146819573160961\n",
      "[LightGBM] [Warning] bagging_freq is set=4, subsample_freq=0 will be ignored. Current value: bagging_freq=4\n",
      "Training until validation scores don't improve for 100 rounds\n",
      "[100]\ttraining's l1: 0.900461\tvalid_1's l1: 1.23231\n",
      "[200]\ttraining's l1: 0.90041\tvalid_1's l1: 1.2323\n",
      "[300]\ttraining's l1: 0.900183\tvalid_1's l1: 1.23174\n",
      "[400]\ttraining's l1: 0.900182\tvalid_1's l1: 1.23174\n"
     ]
    },
    {
     "name": "stderr",
     "output_type": "stream",
     "text": [
      "\u001b[32m[I 2021-07-04 19:56:20,892]\u001b[0m Trial 3 finished with value: -1.2317382737128815 and parameters: {'max_depth': 18, 'min_child_weight': 5, 'subsample': 0.7, 'colsample_bytree': 0.7, 'reg_lambda': 15.604460584211388, 'reg_alpha': 0.004967031253647344, 'feature_fraction': 0.9496025767292681, 'bagging_fraction': 0.5146819573160961, 'bagging_freq': 4}. Best is trial 2 with value: -1.2100964117008661.\u001b[0m\n"
     ]
    },
    {
     "name": "stdout",
     "output_type": "stream",
     "text": [
      "Early stopping, best iteration is:\n",
      "[380]\ttraining's l1: 0.900183\tvalid_1's l1: 1.23174\n",
      "[LightGBM] [Warning] feature_fraction is set=0.962729610959582, colsample_bytree=0.8 will be ignored. Current value: feature_fraction=0.962729610959582\n",
      "[LightGBM] [Warning] bagging_fraction is set=0.7921001159965392, subsample=0.8 will be ignored. Current value: bagging_fraction=0.7921001159965392\n",
      "[LightGBM] [Warning] bagging_freq is set=5, subsample_freq=0 will be ignored. Current value: bagging_freq=5\n",
      "Training until validation scores don't improve for 100 rounds\n",
      "[100]\ttraining's l1: 0.888052\tvalid_1's l1: 1.20941\n",
      "[200]\ttraining's l1: 0.881882\tvalid_1's l1: 1.19788\n",
      "[300]\ttraining's l1: 0.87893\tvalid_1's l1: 1.19085\n",
      "[400]\ttraining's l1: 0.876733\tvalid_1's l1: 1.18588\n",
      "[500]\ttraining's l1: 0.873913\tvalid_1's l1: 1.1829\n",
      "[600]\ttraining's l1: 0.870707\tvalid_1's l1: 1.17694\n",
      "[700]\ttraining's l1: 0.869333\tvalid_1's l1: 1.17574\n",
      "[800]\ttraining's l1: 0.867975\tvalid_1's l1: 1.1729\n",
      "[900]\ttraining's l1: 0.866853\tvalid_1's l1: 1.17173\n"
     ]
    },
    {
     "name": "stderr",
     "output_type": "stream",
     "text": [
      "\u001b[32m[I 2021-07-04 19:56:40,152]\u001b[0m Trial 4 finished with value: -1.1711667826375167 and parameters: {'max_depth': 4, 'min_child_weight': 1, 'subsample': 0.8, 'colsample_bytree': 0.8, 'reg_lambda': 14.11747175326462, 'reg_alpha': 0.003307468243341776, 'feature_fraction': 0.962729610959582, 'bagging_fraction': 0.7921001159965392, 'bagging_freq': 5}. Best is trial 4 with value: -1.1711667826375167.\u001b[0m\n"
     ]
    },
    {
     "name": "stdout",
     "output_type": "stream",
     "text": [
      "Early stopping, best iteration is:\n",
      "[826]\ttraining's l1: 0.867434\tvalid_1's l1: 1.17128\n",
      "[LightGBM] [Warning] feature_fraction is set=0.8888366994854829, colsample_bytree=0.5 will be ignored. Current value: feature_fraction=0.8888366994854829\n",
      "[LightGBM] [Warning] bagging_fraction is set=0.9405345026288925, subsample=0.6 will be ignored. Current value: bagging_fraction=0.9405345026288925\n",
      "[LightGBM] [Warning] bagging_freq is set=6, subsample_freq=0 will be ignored. Current value: bagging_freq=6\n",
      "Training until validation scores don't improve for 100 rounds\n",
      "[100]\ttraining's l1: 0.897447\tvalid_1's l1: 1.22782\n",
      "[200]\ttraining's l1: 0.897443\tvalid_1's l1: 1.22782\n",
      "[300]\ttraining's l1: 0.896878\tvalid_1's l1: 1.22669\n",
      "[400]\ttraining's l1: 0.896256\tvalid_1's l1: 1.22538\n",
      "[500]\ttraining's l1: 0.896249\tvalid_1's l1: 1.22536\n",
      "[600]\ttraining's l1: 0.896248\tvalid_1's l1: 1.22536\n",
      "[700]\ttraining's l1: 0.896213\tvalid_1's l1: 1.22528\n",
      "[800]\ttraining's l1: 0.895856\tvalid_1's l1: 1.22468\n",
      "[900]\ttraining's l1: 0.893218\tvalid_1's l1: 1.21915\n",
      "[1000]\ttraining's l1: 0.893211\tvalid_1's l1: 1.21915\n",
      "[1100]\ttraining's l1: 0.893033\tvalid_1's l1: 1.21869\n",
      "[1200]\ttraining's l1: 0.892363\tvalid_1's l1: 1.21755\n",
      "[1300]\ttraining's l1: 0.891008\tvalid_1's l1: 1.21472\n",
      "[1400]\ttraining's l1: 0.889606\tvalid_1's l1: 1.21097\n",
      "[1500]\ttraining's l1: 0.885591\tvalid_1's l1: 1.20166\n",
      "[1600]\ttraining's l1: 0.884027\tvalid_1's l1: 1.19821\n",
      "[1700]\ttraining's l1: 0.881497\tvalid_1's l1: 1.19112\n",
      "[1800]\ttraining's l1: 0.879987\tvalid_1's l1: 1.18722\n",
      "[1900]\ttraining's l1: 0.87884\tvalid_1's l1: 1.1854\n",
      "Early stopping, best iteration is:\n",
      "[1891]\ttraining's l1: 0.879056\tvalid_1's l1: 1.18524\n"
     ]
    },
    {
     "name": "stderr",
     "output_type": "stream",
     "text": [
      "\u001b[32m[I 2021-07-04 19:57:29,749]\u001b[0m Trial 5 finished with value: -1.1852010569077711 and parameters: {'max_depth': 16, 'min_child_weight': 6, 'subsample': 0.6, 'colsample_bytree': 0.5, 'reg_lambda': 0.7387817214360154, 'reg_alpha': 0.002465774147094392, 'feature_fraction': 0.8888366994854829, 'bagging_fraction': 0.9405345026288925, 'bagging_freq': 6}. Best is trial 4 with value: -1.1711667826375167.\u001b[0m\n"
     ]
    },
    {
     "name": "stdout",
     "output_type": "stream",
     "text": [
      "[LightGBM] [Warning] feature_fraction is set=0.7856533365342344, colsample_bytree=0.6 will be ignored. Current value: feature_fraction=0.7856533365342344\n",
      "[LightGBM] [Warning] bagging_fraction is set=0.5347779050182196, subsample=0.6 will be ignored. Current value: bagging_fraction=0.5347779050182196\n",
      "[LightGBM] [Warning] bagging_freq is set=2, subsample_freq=0 will be ignored. Current value: bagging_freq=2\n",
      "Training until validation scores don't improve for 100 rounds\n",
      "[100]\ttraining's l1: 0.898431\tvalid_1's l1: 1.22843\n",
      "[200]\ttraining's l1: 0.898097\tvalid_1's l1: 1.22719\n"
     ]
    },
    {
     "name": "stderr",
     "output_type": "stream",
     "text": [
      "\u001b[32m[I 2021-07-04 19:57:37,866]\u001b[0m Trial 6 finished with value: -1.2271840159439327 and parameters: {'max_depth': 17, 'min_child_weight': 1, 'subsample': 0.6, 'colsample_bytree': 0.6, 'reg_lambda': 0.06107833677714734, 'reg_alpha': 122.76536233056109, 'feature_fraction': 0.7856533365342344, 'bagging_fraction': 0.5347779050182196, 'bagging_freq': 2}. Best is trial 4 with value: -1.1711667826375167.\u001b[0m\n"
     ]
    },
    {
     "name": "stdout",
     "output_type": "stream",
     "text": [
      "Early stopping, best iteration is:\n",
      "[198]\ttraining's l1: 0.898097\tvalid_1's l1: 1.22719\n",
      "[LightGBM] [Warning] feature_fraction is set=0.7312794789010366, colsample_bytree=0.9 will be ignored. Current value: feature_fraction=0.7312794789010366\n",
      "[LightGBM] [Warning] bagging_fraction is set=0.995153968779289, subsample=0.8 will be ignored. Current value: bagging_fraction=0.995153968779289\n",
      "[LightGBM] [Warning] bagging_freq is set=9, subsample_freq=0 will be ignored. Current value: bagging_freq=9\n",
      "Training until validation scores don't improve for 100 rounds\n",
      "[100]\ttraining's l1: 0.897744\tvalid_1's l1: 1.22653\n",
      "[200]\ttraining's l1: 0.897302\tvalid_1's l1: 1.22576\n",
      "[300]\ttraining's l1: 0.897301\tvalid_1's l1: 1.22576\n"
     ]
    },
    {
     "name": "stderr",
     "output_type": "stream",
     "text": [
      "\u001b[32m[I 2021-07-04 19:57:47,721]\u001b[0m Trial 7 finished with value: -1.2257580647506667 and parameters: {'max_depth': 18, 'min_child_weight': 5, 'subsample': 0.8, 'colsample_bytree': 0.9, 'reg_lambda': 560.9987464155179, 'reg_alpha': 286.5628564117974, 'feature_fraction': 0.7312794789010366, 'bagging_fraction': 0.995153968779289, 'bagging_freq': 9}. Best is trial 4 with value: -1.1711667826375167.\u001b[0m\n"
     ]
    },
    {
     "name": "stdout",
     "output_type": "stream",
     "text": [
      "Early stopping, best iteration is:\n",
      "[257]\ttraining's l1: 0.897302\tvalid_1's l1: 1.22576\n",
      "[LightGBM] [Warning] feature_fraction is set=0.9024708174420095, colsample_bytree=0.9 will be ignored. Current value: feature_fraction=0.9024708174420095\n",
      "[LightGBM] [Warning] bagging_fraction is set=0.9271100250579744, subsample=0.7 will be ignored. Current value: bagging_fraction=0.9271100250579744\n",
      "[LightGBM] [Warning] bagging_freq is set=5, subsample_freq=0 will be ignored. Current value: bagging_freq=5\n",
      "Training until validation scores don't improve for 100 rounds\n",
      "[100]\ttraining's l1: 0.972934\tvalid_1's l1: 1.35671\n",
      "[200]\ttraining's l1: 0.972863\tvalid_1's l1: 1.35655\n",
      "[300]\ttraining's l1: 0.972846\tvalid_1's l1: 1.35652\n",
      "[400]\ttraining's l1: 0.972825\tvalid_1's l1: 1.35647\n",
      "[500]\ttraining's l1: 0.972822\tvalid_1's l1: 1.35647\n"
     ]
    },
    {
     "name": "stderr",
     "output_type": "stream",
     "text": [
      "\u001b[32m[I 2021-07-04 19:57:58,331]\u001b[0m Trial 8 finished with value: -1.3563738379647752 and parameters: {'max_depth': 1, 'min_child_weight': 4, 'subsample': 0.7, 'colsample_bytree': 0.9, 'reg_lambda': 245.62155461743527, 'reg_alpha': 0.0013191587113426718, 'feature_fraction': 0.9024708174420095, 'bagging_fraction': 0.9271100250579744, 'bagging_freq': 5}. Best is trial 4 with value: -1.1711667826375167.\u001b[0m\n"
     ]
    },
    {
     "name": "stdout",
     "output_type": "stream",
     "text": [
      "Early stopping, best iteration is:\n",
      "[445]\ttraining's l1: 0.972822\tvalid_1's l1: 1.35647\n",
      "[LightGBM] [Warning] feature_fraction is set=0.8369656929329741, colsample_bytree=0.6 will be ignored. Current value: feature_fraction=0.8369656929329741\n",
      "[LightGBM] [Warning] bagging_fraction is set=0.5138092079507965, subsample=0.5 will be ignored. Current value: bagging_fraction=0.5138092079507965\n",
      "[LightGBM] [Warning] bagging_freq is set=10, subsample_freq=0 will be ignored. Current value: bagging_freq=10\n",
      "Training until validation scores don't improve for 100 rounds\n",
      "[100]\ttraining's l1: 0.89697\tvalid_1's l1: 1.22403\n",
      "[200]\ttraining's l1: 0.896265\tvalid_1's l1: 1.22264\n",
      "[300]\ttraining's l1: 0.896262\tvalid_1's l1: 1.22263\n",
      "[400]\ttraining's l1: 0.896261\tvalid_1's l1: 1.22263\n",
      "[500]\ttraining's l1: 0.896258\tvalid_1's l1: 1.22263\n"
     ]
    },
    {
     "name": "stderr",
     "output_type": "stream",
     "text": [
      "\u001b[32m[I 2021-07-04 19:58:07,375]\u001b[0m Trial 9 finished with value: -1.2226274683474452 and parameters: {'max_depth': 9, 'min_child_weight': 2, 'subsample': 0.5, 'colsample_bytree': 0.6, 'reg_lambda': 0.0026245965511118973, 'reg_alpha': 155.37383566123484, 'feature_fraction': 0.8369656929329741, 'bagging_fraction': 0.5138092079507965, 'bagging_freq': 10}. Best is trial 4 with value: -1.1711667826375167.\u001b[0m\n"
     ]
    },
    {
     "name": "stdout",
     "output_type": "stream",
     "text": [
      "Early stopping, best iteration is:\n",
      "[415]\ttraining's l1: 0.89626\tvalid_1's l1: 1.22263\n",
      "[LightGBM] [Warning] feature_fraction is set=0.5609740185464915, colsample_bytree=0.8 will be ignored. Current value: feature_fraction=0.5609740185464915\n",
      "[LightGBM] [Warning] bagging_fraction is set=0.7563768590013423, subsample=0.9 will be ignored. Current value: bagging_fraction=0.7563768590013423\n",
      "[LightGBM] [Warning] bagging_freq is set=3, subsample_freq=0 will be ignored. Current value: bagging_freq=3\n",
      "Training until validation scores don't improve for 100 rounds\n",
      "[100]\ttraining's l1: 0.924215\tvalid_1's l1: 1.27094\n",
      "[200]\ttraining's l1: 0.918101\tvalid_1's l1: 1.2574\n",
      "[300]\ttraining's l1: 0.914192\tvalid_1's l1: 1.24869\n",
      "[400]\ttraining's l1: 0.911947\tvalid_1's l1: 1.24407\n",
      "[500]\ttraining's l1: 0.91039\tvalid_1's l1: 1.24098\n",
      "[600]\ttraining's l1: 0.909954\tvalid_1's l1: 1.24027\n",
      "[700]\ttraining's l1: 0.909128\tvalid_1's l1: 1.23814\n",
      "[800]\ttraining's l1: 0.90855\tvalid_1's l1: 1.2366\n",
      "[900]\ttraining's l1: 0.908271\tvalid_1's l1: 1.23591\n",
      "[1000]\ttraining's l1: 0.908118\tvalid_1's l1: 1.23572\n",
      "[1100]\ttraining's l1: 0.907756\tvalid_1's l1: 1.23498\n",
      "[1200]\ttraining's l1: 0.907618\tvalid_1's l1: 1.23462\n"
     ]
    },
    {
     "name": "stderr",
     "output_type": "stream",
     "text": [
      "\u001b[32m[I 2021-07-04 19:58:37,466]\u001b[0m Trial 10 finished with value: -1.2344245999724621 and parameters: {'max_depth': 2, 'min_child_weight': 12, 'subsample': 0.9, 'colsample_bytree': 0.8, 'reg_lambda': 23.50448095659358, 'reg_alpha': 0.07287546305502694, 'feature_fraction': 0.5609740185464915, 'bagging_fraction': 0.7563768590013423, 'bagging_freq': 3}. Best is trial 4 with value: -1.1711667826375167.\u001b[0m\n"
     ]
    },
    {
     "name": "stdout",
     "output_type": "stream",
     "text": [
      "Early stopping, best iteration is:\n",
      "[1157]\ttraining's l1: 0.907626\tvalid_1's l1: 1.23461\n",
      "[LightGBM] [Warning] feature_fraction is set=0.9964021798042512, colsample_bytree=0.5 will be ignored. Current value: feature_fraction=0.9964021798042512\n",
      "[LightGBM] [Warning] bagging_fraction is set=0.7543723387888686, subsample=0.6 will be ignored. Current value: bagging_fraction=0.7543723387888686\n",
      "[LightGBM] [Warning] bagging_freq is set=7, subsample_freq=0 will be ignored. Current value: bagging_freq=7\n",
      "Training until validation scores don't improve for 100 rounds\n",
      "[100]\ttraining's l1: 0.900482\tvalid_1's l1: 1.23223\n",
      "[200]\ttraining's l1: 0.899845\tvalid_1's l1: 1.23099\n",
      "[300]\ttraining's l1: 0.899844\tvalid_1's l1: 1.23099\n",
      "[400]\ttraining's l1: 0.897871\tvalid_1's l1: 1.22665\n",
      "[500]\ttraining's l1: 0.891522\tvalid_1's l1: 1.21299\n",
      "[600]\ttraining's l1: 0.889672\tvalid_1's l1: 1.20774\n",
      "[700]\ttraining's l1: 0.888092\tvalid_1's l1: 1.20339\n",
      "[800]\ttraining's l1: 0.885648\tvalid_1's l1: 1.19656\n",
      "[900]\ttraining's l1: 0.884651\tvalid_1's l1: 1.19445\n",
      "[1000]\ttraining's l1: 0.8844\tvalid_1's l1: 1.19386\n",
      "Early stopping, best iteration is:\n",
      "[988]\ttraining's l1: 0.884401\tvalid_1's l1: 1.19386\n"
     ]
    },
    {
     "name": "stderr",
     "output_type": "stream",
     "text": [
      "\u001b[32m[I 2021-07-04 19:59:01,457]\u001b[0m Trial 11 finished with value: -1.1938429309604308 and parameters: {'max_depth': 13, 'min_child_weight': 10, 'subsample': 0.6, 'colsample_bytree': 0.5, 'reg_lambda': 2.8120253366565646, 'reg_alpha': 0.023566241271501698, 'feature_fraction': 0.9964021798042512, 'bagging_fraction': 0.7543723387888686, 'bagging_freq': 7}. Best is trial 4 with value: -1.1711667826375167.\u001b[0m\n"
     ]
    },
    {
     "name": "stdout",
     "output_type": "stream",
     "text": [
      "[LightGBM] [Warning] feature_fraction is set=0.43016222509458363, colsample_bytree=0.5 will be ignored. Current value: feature_fraction=0.43016222509458363\n",
      "[LightGBM] [Warning] bagging_fraction is set=0.8521920184135082, subsample=0.8 will be ignored. Current value: bagging_fraction=0.8521920184135082\n",
      "[LightGBM] [Warning] bagging_freq is set=5, subsample_freq=0 will be ignored. Current value: bagging_freq=5\n",
      "Training until validation scores don't improve for 100 rounds\n",
      "[100]\ttraining's l1: 0.872951\tvalid_1's l1: 1.18346\n",
      "[200]\ttraining's l1: 0.872579\tvalid_1's l1: 1.18268\n"
     ]
    },
    {
     "name": "stderr",
     "output_type": "stream",
     "text": [
      "\u001b[32m[I 2021-07-04 19:59:08,959]\u001b[0m Trial 12 finished with value: -1.1826458282848014 and parameters: {'max_depth': 5, 'min_child_weight': 9, 'subsample': 0.8, 'colsample_bytree': 0.5, 'reg_lambda': 1.595137468821782, 'reg_alpha': 0.0010056829001348798, 'feature_fraction': 0.43016222509458363, 'bagging_fraction': 0.8521920184135082, 'bagging_freq': 5}. Best is trial 4 with value: -1.1711667826375167.\u001b[0m\n"
     ]
    },
    {
     "name": "stdout",
     "output_type": "stream",
     "text": [
      "Early stopping, best iteration is:\n",
      "[170]\ttraining's l1: 0.872585\tvalid_1's l1: 1.18267\n",
      "[LightGBM] [Warning] feature_fraction is set=0.42982683667927635, colsample_bytree=0.6 will be ignored. Current value: feature_fraction=0.42982683667927635\n",
      "[LightGBM] [Warning] bagging_fraction is set=0.8420579749482284, subsample=0.8 will be ignored. Current value: bagging_fraction=0.8420579749482284\n",
      "[LightGBM] [Warning] bagging_freq is set=4, subsample_freq=0 will be ignored. Current value: bagging_freq=4\n",
      "Training until validation scores don't improve for 100 rounds\n",
      "[100]\ttraining's l1: 0.876684\tvalid_1's l1: 1.18687\n",
      "[200]\ttraining's l1: 0.876278\tvalid_1's l1: 1.18629\n"
     ]
    },
    {
     "name": "stderr",
     "output_type": "stream",
     "text": [
      "\u001b[32m[I 2021-07-04 19:59:16,547]\u001b[0m Trial 13 finished with value: -1.1862468083421527 and parameters: {'max_depth': 5, 'min_child_weight': 11, 'subsample': 0.8, 'colsample_bytree': 0.6, 'reg_lambda': 45.746188472943246, 'reg_alpha': 0.050372853160274046, 'feature_fraction': 0.42982683667927635, 'bagging_fraction': 0.8420579749482284, 'bagging_freq': 4}. Best is trial 4 with value: -1.1711667826375167.\u001b[0m\n"
     ]
    },
    {
     "name": "stdout",
     "output_type": "stream",
     "text": [
      "Early stopping, best iteration is:\n",
      "[167]\ttraining's l1: 0.87628\tvalid_1's l1: 1.18628\n",
      "[LightGBM] [Warning] feature_fraction is set=0.406760278998202, colsample_bytree=0.8 will be ignored. Current value: feature_fraction=0.406760278998202\n",
      "[LightGBM] [Warning] bagging_fraction is set=0.6854051596340717, subsample=0.8 will be ignored. Current value: bagging_fraction=0.6854051596340717\n",
      "[LightGBM] [Warning] bagging_freq is set=5, subsample_freq=0 will be ignored. Current value: bagging_freq=5\n",
      "Training until validation scores don't improve for 100 rounds\n",
      "[100]\ttraining's l1: 0.882492\tvalid_1's l1: 1.19524\n"
     ]
    },
    {
     "name": "stderr",
     "output_type": "stream",
     "text": [
      "\u001b[32m[I 2021-07-04 19:59:21,330]\u001b[0m Trial 14 finished with value: -1.1952309554678746 and parameters: {'max_depth': 6, 'min_child_weight': 15, 'subsample': 0.8, 'colsample_bytree': 0.8, 'reg_lambda': 3.8991612416276125, 'reg_alpha': 0.009841447292651536, 'feature_fraction': 0.406760278998202, 'bagging_fraction': 0.6854051596340717, 'bagging_freq': 5}. Best is trial 4 with value: -1.1711667826375167.\u001b[0m\n"
     ]
    },
    {
     "name": "stdout",
     "output_type": "stream",
     "text": [
      "Early stopping, best iteration is:\n",
      "[79]\ttraining's l1: 0.882503\tvalid_1's l1: 1.19524\n",
      "[LightGBM] [Warning] feature_fraction is set=0.4969956797839346, colsample_bytree=0.9 will be ignored. Current value: feature_fraction=0.4969956797839346\n",
      "[LightGBM] [Warning] bagging_fraction is set=0.6846932692120951, subsample=0.9 will be ignored. Current value: bagging_fraction=0.6846932692120951\n",
      "[LightGBM] [Warning] bagging_freq is set=3, subsample_freq=0 will be ignored. Current value: bagging_freq=3\n",
      "Training until validation scores don't improve for 100 rounds\n",
      "[100]\ttraining's l1: 0.886176\tvalid_1's l1: 1.20288\n",
      "[200]\ttraining's l1: 0.882292\tvalid_1's l1: 1.19386\n"
     ]
    },
    {
     "name": "stderr",
     "output_type": "stream",
     "text": [
      "\u001b[32m[I 2021-07-04 19:59:28,686]\u001b[0m Trial 15 finished with value: -1.193748103085448 and parameters: {'max_depth': 4, 'min_child_weight': 9, 'subsample': 0.9, 'colsample_bytree': 0.9, 'reg_lambda': 138.94311495709277, 'reg_alpha': 0.2406486622224008, 'feature_fraction': 0.4969956797839346, 'bagging_fraction': 0.6846932692120951, 'bagging_freq': 3}. Best is trial 4 with value: -1.1711667826375167.\u001b[0m\n"
     ]
    },
    {
     "name": "stdout",
     "output_type": "stream",
     "text": [
      "Early stopping, best iteration is:\n",
      "[185]\ttraining's l1: 0.882301\tvalid_1's l1: 1.19385\n",
      "[LightGBM] [Warning] feature_fraction is set=0.6015448627264113, colsample_bytree=0.7 will be ignored. Current value: feature_fraction=0.6015448627264113\n",
      "[LightGBM] [Warning] bagging_fraction is set=0.8280396439436833, subsample=0.7 will be ignored. Current value: bagging_fraction=0.8280396439436833\n",
      "[LightGBM] [Warning] bagging_freq is set=6, subsample_freq=0 will be ignored. Current value: bagging_freq=6\n",
      "Training until validation scores don't improve for 100 rounds\n",
      "[100]\ttraining's l1: 0.901318\tvalid_1's l1: 1.23245\n",
      "[200]\ttraining's l1: 0.895228\tvalid_1's l1: 1.21935\n",
      "[300]\ttraining's l1: 0.889815\tvalid_1's l1: 1.20806\n",
      "[400]\ttraining's l1: 0.887113\tvalid_1's l1: 1.20239\n",
      "[500]\ttraining's l1: 0.885331\tvalid_1's l1: 1.19842\n",
      "[600]\ttraining's l1: 0.884644\tvalid_1's l1: 1.1969\n",
      "[700]\ttraining's l1: 0.883066\tvalid_1's l1: 1.193\n",
      "[800]\ttraining's l1: 0.882086\tvalid_1's l1: 1.19037\n",
      "[900]\ttraining's l1: 0.880889\tvalid_1's l1: 1.18876\n",
      "[1000]\ttraining's l1: 0.88067\tvalid_1's l1: 1.1882\n",
      "[1100]\ttraining's l1: 0.879565\tvalid_1's l1: 1.18575\n",
      "[1200]\ttraining's l1: 0.879012\tvalid_1's l1: 1.18538\n",
      "[1300]\ttraining's l1: 0.877634\tvalid_1's l1: 1.18279\n",
      "[1400]\ttraining's l1: 0.877317\tvalid_1's l1: 1.18228\n",
      "[1500]\ttraining's l1: 0.876824\tvalid_1's l1: 1.18186\n",
      "[1600]\ttraining's l1: 0.876465\tvalid_1's l1: 1.18123\n",
      "[1700]\ttraining's l1: 0.876107\tvalid_1's l1: 1.17972\n",
      "[1800]\ttraining's l1: 0.875969\tvalid_1's l1: 1.1797\n",
      "[1900]\ttraining's l1: 0.87539\tvalid_1's l1: 1.17829\n",
      "[2000]\ttraining's l1: 0.874336\tvalid_1's l1: 1.17671\n",
      "[2100]\ttraining's l1: 0.874066\tvalid_1's l1: 1.17597\n",
      "[2200]\ttraining's l1: 0.873611\tvalid_1's l1: 1.17543\n",
      "[2300]\ttraining's l1: 0.873175\tvalid_1's l1: 1.1741\n",
      "[2400]\ttraining's l1: 0.873089\tvalid_1's l1: 1.1737\n",
      "[2500]\ttraining's l1: 0.87302\tvalid_1's l1: 1.17369\n",
      "Early stopping, best iteration is:\n",
      "[2446]\ttraining's l1: 0.87306\tvalid_1's l1: 1.17362\n"
     ]
    },
    {
     "name": "stderr",
     "output_type": "stream",
     "text": [
      "\u001b[32m[I 2021-07-04 20:00:27,269]\u001b[0m Trial 16 finished with value: -1.173432239361366 and parameters: {'max_depth': 3, 'min_child_weight': 14, 'subsample': 0.7, 'colsample_bytree': 0.7, 'reg_lambda': 0.00985447844455648, 'reg_alpha': 0.001350749278118046, 'feature_fraction': 0.6015448627264113, 'bagging_fraction': 0.8280396439436833, 'bagging_freq': 6}. Best is trial 4 with value: -1.1711667826375167.\u001b[0m\n"
     ]
    },
    {
     "name": "stdout",
     "output_type": "stream",
     "text": [
      "[LightGBM] [Warning] feature_fraction is set=0.619543102852266, colsample_bytree=0.7 will be ignored. Current value: feature_fraction=0.619543102852266\n",
      "[LightGBM] [Warning] bagging_fraction is set=0.7702164528386926, subsample=0.7 will be ignored. Current value: bagging_fraction=0.7702164528386926\n",
      "[LightGBM] [Warning] bagging_freq is set=8, subsample_freq=0 will be ignored. Current value: bagging_freq=8\n",
      "Training until validation scores don't improve for 100 rounds\n",
      "[100]\ttraining's l1: 0.923379\tvalid_1's l1: 1.27009\n",
      "[200]\ttraining's l1: 0.920119\tvalid_1's l1: 1.26332\n",
      "[300]\ttraining's l1: 0.916061\tvalid_1's l1: 1.25446\n",
      "[400]\ttraining's l1: 0.913335\tvalid_1's l1: 1.24895\n",
      "[500]\ttraining's l1: 0.911382\tvalid_1's l1: 1.24416\n",
      "[600]\ttraining's l1: 0.910329\tvalid_1's l1: 1.24179\n",
      "[700]\ttraining's l1: 0.909682\tvalid_1's l1: 1.24059\n",
      "[800]\ttraining's l1: 0.909034\tvalid_1's l1: 1.23925\n",
      "[900]\ttraining's l1: 0.908761\tvalid_1's l1: 1.23847\n",
      "[1000]\ttraining's l1: 0.908697\tvalid_1's l1: 1.23839\n",
      "[1100]\ttraining's l1: 0.908402\tvalid_1's l1: 1.23718\n",
      "[1200]\ttraining's l1: 0.908082\tvalid_1's l1: 1.23658\n",
      "[1300]\ttraining's l1: 0.907617\tvalid_1's l1: 1.23553\n",
      "[1400]\ttraining's l1: 0.907535\tvalid_1's l1: 1.23525\n",
      "[1500]\ttraining's l1: 0.907097\tvalid_1's l1: 1.23427\n",
      "[1600]\ttraining's l1: 0.907037\tvalid_1's l1: 1.23421\n",
      "[1700]\ttraining's l1: 0.90688\tvalid_1's l1: 1.23398\n",
      "[1800]\ttraining's l1: 0.906535\tvalid_1's l1: 1.23341\n",
      "[1900]\ttraining's l1: 0.906443\tvalid_1's l1: 1.23313\n",
      "[2000]\ttraining's l1: 0.906392\tvalid_1's l1: 1.2331\n",
      "Early stopping, best iteration is:\n",
      "[1944]\ttraining's l1: 0.906412\tvalid_1's l1: 1.23295\n"
     ]
    },
    {
     "name": "stderr",
     "output_type": "stream",
     "text": [
      "\u001b[32m[I 2021-07-04 20:01:06,189]\u001b[0m Trial 17 finished with value: -1.232778114984446 and parameters: {'max_depth': 2, 'min_child_weight': 15, 'subsample': 0.7, 'colsample_bytree': 0.7, 'reg_lambda': 0.014946808988165526, 'reg_alpha': 6.544858467274876, 'feature_fraction': 0.619543102852266, 'bagging_fraction': 0.7702164528386926, 'bagging_freq': 8}. Best is trial 4 with value: -1.1711667826375167.\u001b[0m\n"
     ]
    },
    {
     "name": "stdout",
     "output_type": "stream",
     "text": [
      "[LightGBM] [Warning] feature_fraction is set=0.5844873645180573, colsample_bytree=0.8 will be ignored. Current value: feature_fraction=0.5844873645180573\n",
      "[LightGBM] [Warning] bagging_fraction is set=0.6274046435054169, subsample=0.7 will be ignored. Current value: bagging_fraction=0.6274046435054169\n",
      "[LightGBM] [Warning] bagging_freq is set=6, subsample_freq=0 will be ignored. Current value: bagging_freq=6\n",
      "Training until validation scores don't improve for 100 rounds\n",
      "[100]\ttraining's l1: 0.896483\tvalid_1's l1: 1.22491\n",
      "[200]\ttraining's l1: 0.895277\tvalid_1's l1: 1.22236\n",
      "[300]\ttraining's l1: 0.894358\tvalid_1's l1: 1.22026\n",
      "[400]\ttraining's l1: 0.89421\tvalid_1's l1: 1.21995\n",
      "[500]\ttraining's l1: 0.892771\tvalid_1's l1: 1.21647\n",
      "[600]\ttraining's l1: 0.89216\tvalid_1's l1: 1.21485\n",
      "[700]\ttraining's l1: 0.891942\tvalid_1's l1: 1.21429\n",
      "[800]\ttraining's l1: 0.891371\tvalid_1's l1: 1.2132\n",
      "[900]\ttraining's l1: 0.887001\tvalid_1's l1: 1.20352\n",
      "[1000]\ttraining's l1: 0.885803\tvalid_1's l1: 1.20098\n",
      "[1100]\ttraining's l1: 0.884514\tvalid_1's l1: 1.19744\n",
      "[1200]\ttraining's l1: 0.882879\tvalid_1's l1: 1.19321\n",
      "[1300]\ttraining's l1: 0.881334\tvalid_1's l1: 1.19075\n",
      "[1400]\ttraining's l1: 0.881013\tvalid_1's l1: 1.19047\n",
      "[1500]\ttraining's l1: 0.880436\tvalid_1's l1: 1.18914\n",
      "[1600]\ttraining's l1: 0.878151\tvalid_1's l1: 1.18432\n",
      "[1700]\ttraining's l1: 0.874535\tvalid_1's l1: 1.17807\n",
      "[1800]\ttraining's l1: 0.872091\tvalid_1's l1: 1.17427\n",
      "[1900]\ttraining's l1: 0.87131\tvalid_1's l1: 1.17317\n",
      "[2000]\ttraining's l1: 0.869912\tvalid_1's l1: 1.17076\n",
      "[2100]\ttraining's l1: 0.865923\tvalid_1's l1: 1.1667\n",
      "[2200]\ttraining's l1: 0.864466\tvalid_1's l1: 1.16493\n",
      "[2300]\ttraining's l1: 0.863272\tvalid_1's l1: 1.16355\n",
      "[2400]\ttraining's l1: 0.860948\tvalid_1's l1: 1.16138\n",
      "[2500]\ttraining's l1: 0.858468\tvalid_1's l1: 1.15913\n",
      "[2600]\ttraining's l1: 0.85767\tvalid_1's l1: 1.15864\n",
      "[2700]\ttraining's l1: 0.854749\tvalid_1's l1: 1.15579\n",
      "[2800]\ttraining's l1: 0.852648\tvalid_1's l1: 1.15457\n",
      "[2900]\ttraining's l1: 0.849947\tvalid_1's l1: 1.15334\n",
      "[3000]\ttraining's l1: 0.849696\tvalid_1's l1: 1.15319\n",
      "[3100]\ttraining's l1: 0.847702\tvalid_1's l1: 1.1526\n",
      "Early stopping, best iteration is:\n",
      "[3036]\ttraining's l1: 0.849011\tvalid_1's l1: 1.15252\n"
     ]
    },
    {
     "name": "stderr",
     "output_type": "stream",
     "text": [
      "\u001b[32m[I 2021-07-04 20:02:17,099]\u001b[0m Trial 18 finished with value: -1.1523618493451506 and parameters: {'max_depth': 13, 'min_child_weight': 19, 'subsample': 0.7, 'colsample_bytree': 0.8, 'reg_lambda': 0.004459065519718895, 'reg_alpha': 0.0010370518399968089, 'feature_fraction': 0.5844873645180573, 'bagging_fraction': 0.6274046435054169, 'bagging_freq': 6}. Best is trial 18 with value: -1.1523618493451506.\u001b[0m\n"
     ]
    },
    {
     "name": "stdout",
     "output_type": "stream",
     "text": [
      "[LightGBM] [Warning] feature_fraction is set=0.5155329809798395, colsample_bytree=0.8 will be ignored. Current value: feature_fraction=0.5155329809798395\n",
      "[LightGBM] [Warning] bagging_fraction is set=0.6045464070795306, subsample=0.6 will be ignored. Current value: bagging_fraction=0.6045464070795306\n",
      "[LightGBM] [Warning] bagging_freq is set=9, subsample_freq=0 will be ignored. Current value: bagging_freq=9\n",
      "Training until validation scores don't improve for 100 rounds\n",
      "[100]\ttraining's l1: 0.896684\tvalid_1's l1: 1.22501\n",
      "[200]\ttraining's l1: 0.896398\tvalid_1's l1: 1.22417\n",
      "[300]\ttraining's l1: 0.896179\tvalid_1's l1: 1.22383\n",
      "[400]\ttraining's l1: 0.896142\tvalid_1's l1: 1.22368\n",
      "[500]\ttraining's l1: 0.894736\tvalid_1's l1: 1.22139\n",
      "[600]\ttraining's l1: 0.894462\tvalid_1's l1: 1.2207\n",
      "[700]\ttraining's l1: 0.893432\tvalid_1's l1: 1.21729\n",
      "[800]\ttraining's l1: 0.889743\tvalid_1's l1: 1.20903\n",
      "[900]\ttraining's l1: 0.88944\tvalid_1's l1: 1.20865\n",
      "[1000]\ttraining's l1: 0.888211\tvalid_1's l1: 1.20577\n",
      "[1100]\ttraining's l1: 0.886397\tvalid_1's l1: 1.20205\n",
      "[1200]\ttraining's l1: 0.884514\tvalid_1's l1: 1.19777\n",
      "[1300]\ttraining's l1: 0.883187\tvalid_1's l1: 1.19484\n",
      "[1400]\ttraining's l1: 0.881037\tvalid_1's l1: 1.19107\n",
      "[1500]\ttraining's l1: 0.879148\tvalid_1's l1: 1.18794\n",
      "[1600]\ttraining's l1: 0.875666\tvalid_1's l1: 1.18099\n",
      "[1700]\ttraining's l1: 0.875037\tvalid_1's l1: 1.17998\n",
      "[1800]\ttraining's l1: 0.872859\tvalid_1's l1: 1.17669\n",
      "[1900]\ttraining's l1: 0.871249\tvalid_1's l1: 1.17318\n",
      "[2000]\ttraining's l1: 0.86871\tvalid_1's l1: 1.17033\n",
      "[2100]\ttraining's l1: 0.866686\tvalid_1's l1: 1.16691\n",
      "[2200]\ttraining's l1: 0.864636\tvalid_1's l1: 1.16402\n",
      "[2300]\ttraining's l1: 0.862617\tvalid_1's l1: 1.16219\n",
      "[2400]\ttraining's l1: 0.860628\tvalid_1's l1: 1.15976\n",
      "[2500]\ttraining's l1: 0.85872\tvalid_1's l1: 1.1583\n",
      "Early stopping, best iteration is:\n",
      "[2497]\ttraining's l1: 0.858722\tvalid_1's l1: 1.1583\n"
     ]
    },
    {
     "name": "stderr",
     "output_type": "stream",
     "text": [
      "\u001b[32m[I 2021-07-04 20:03:09,150]\u001b[0m Trial 19 finished with value: -1.158112483089795 and parameters: {'max_depth': 13, 'min_child_weight': 20, 'subsample': 0.6, 'colsample_bytree': 0.8, 'reg_lambda': 10.151323603857668, 'reg_alpha': 0.26376345795660033, 'feature_fraction': 0.5155329809798395, 'bagging_fraction': 0.6045464070795306, 'bagging_freq': 9}. Best is trial 18 with value: -1.1523618493451506.\u001b[0m\n"
     ]
    },
    {
     "name": "stdout",
     "output_type": "stream",
     "text": [
      "[LightGBM] [Warning] feature_fraction is set=0.5159861502968764, colsample_bytree=0.9 will be ignored. Current value: feature_fraction=0.5159861502968764\n",
      "[LightGBM] [Warning] bagging_fraction is set=0.6196738580765982, subsample=0.6 will be ignored. Current value: bagging_fraction=0.6196738580765982\n",
      "[LightGBM] [Warning] bagging_freq is set=10, subsample_freq=0 will be ignored. Current value: bagging_freq=10\n",
      "Training until validation scores don't improve for 100 rounds\n",
      "[100]\ttraining's l1: 0.897093\tvalid_1's l1: 1.22379\n",
      "[200]\ttraining's l1: 0.896574\tvalid_1's l1: 1.22272\n",
      "[300]\ttraining's l1: 0.896556\tvalid_1's l1: 1.22264\n",
      "[400]\ttraining's l1: 0.896552\tvalid_1's l1: 1.22264\n",
      "[500]\ttraining's l1: 0.896493\tvalid_1's l1: 1.22257\n",
      "[600]\ttraining's l1: 0.894171\tvalid_1's l1: 1.21897\n",
      "[700]\ttraining's l1: 0.892821\tvalid_1's l1: 1.21609\n",
      "[800]\ttraining's l1: 0.890801\tvalid_1's l1: 1.211\n",
      "[900]\ttraining's l1: 0.890051\tvalid_1's l1: 1.20945\n",
      "[1000]\ttraining's l1: 0.885904\tvalid_1's l1: 1.20126\n",
      "[1100]\ttraining's l1: 0.88562\tvalid_1's l1: 1.20084\n",
      "[1200]\ttraining's l1: 0.882881\tvalid_1's l1: 1.19449\n",
      "[1300]\ttraining's l1: 0.88253\tvalid_1's l1: 1.19369\n",
      "[1400]\ttraining's l1: 0.880414\tvalid_1's l1: 1.18843\n",
      "[1500]\ttraining's l1: 0.879402\tvalid_1's l1: 1.18696\n",
      "[1600]\ttraining's l1: 0.878159\tvalid_1's l1: 1.18336\n",
      "[1700]\ttraining's l1: 0.875902\tvalid_1's l1: 1.17831\n",
      "[1800]\ttraining's l1: 0.874567\tvalid_1's l1: 1.17588\n",
      "[1900]\ttraining's l1: 0.87099\tvalid_1's l1: 1.17\n",
      "[2000]\ttraining's l1: 0.869263\tvalid_1's l1: 1.16847\n",
      "[2100]\ttraining's l1: 0.867697\tvalid_1's l1: 1.1673\n",
      "[2200]\ttraining's l1: 0.864335\tvalid_1's l1: 1.16207\n",
      "[2300]\ttraining's l1: 0.86166\tvalid_1's l1: 1.15728\n",
      "[2400]\ttraining's l1: 0.859357\tvalid_1's l1: 1.15618\n",
      "Early stopping, best iteration is:\n",
      "[2338]\ttraining's l1: 0.859784\tvalid_1's l1: 1.15575\n"
     ]
    },
    {
     "name": "stderr",
     "output_type": "stream",
     "text": [
      "\u001b[32m[I 2021-07-04 20:03:58,441]\u001b[0m Trial 20 finished with value: -1.1555842399014093 and parameters: {'max_depth': 13, 'min_child_weight': 20, 'subsample': 0.6, 'colsample_bytree': 0.9, 'reg_lambda': 0.375095503112673, 'reg_alpha': 0.8133635347971628, 'feature_fraction': 0.5159861502968764, 'bagging_fraction': 0.6196738580765982, 'bagging_freq': 10}. Best is trial 18 with value: -1.1523618493451506.\u001b[0m\n"
     ]
    },
    {
     "name": "stdout",
     "output_type": "stream",
     "text": [
      "[LightGBM] [Warning] feature_fraction is set=0.5108748164983529, colsample_bytree=0.9 will be ignored. Current value: feature_fraction=0.5108748164983529\n",
      "[LightGBM] [Warning] bagging_fraction is set=0.6070265901685707, subsample=0.6 will be ignored. Current value: bagging_fraction=0.6070265901685707\n",
      "[LightGBM] [Warning] bagging_freq is set=10, subsample_freq=0 will be ignored. Current value: bagging_freq=10\n",
      "Training until validation scores don't improve for 100 rounds\n",
      "[100]\ttraining's l1: 0.897215\tvalid_1's l1: 1.22493\n",
      "[200]\ttraining's l1: 0.895933\tvalid_1's l1: 1.22284\n",
      "[300]\ttraining's l1: 0.895902\tvalid_1's l1: 1.22278\n",
      "[400]\ttraining's l1: 0.894316\tvalid_1's l1: 1.21869\n",
      "[500]\ttraining's l1: 0.894153\tvalid_1's l1: 1.21845\n",
      "[600]\ttraining's l1: 0.893773\tvalid_1's l1: 1.21712\n",
      "[700]\ttraining's l1: 0.893157\tvalid_1's l1: 1.21575\n",
      "[800]\ttraining's l1: 0.890082\tvalid_1's l1: 1.20785\n",
      "[900]\ttraining's l1: 0.889044\tvalid_1's l1: 1.2054\n"
     ]
    },
    {
     "name": "stderr",
     "output_type": "stream",
     "text": [
      "\u001b[32m[I 2021-07-04 20:04:17,537]\u001b[0m Trial 21 finished with value: -1.205332547093109 and parameters: {'max_depth': 13, 'min_child_weight': 20, 'subsample': 0.6, 'colsample_bytree': 0.9, 'reg_lambda': 0.3002740877179034, 'reg_alpha': 0.5229893963710869, 'feature_fraction': 0.5108748164983529, 'bagging_fraction': 0.6070265901685707, 'bagging_freq': 10}. Best is trial 18 with value: -1.1523618493451506.\u001b[0m\n"
     ]
    },
    {
     "name": "stdout",
     "output_type": "stream",
     "text": [
      "Early stopping, best iteration is:\n",
      "[814]\ttraining's l1: 0.88907\tvalid_1's l1: 1.20538\n",
      "[LightGBM] [Warning] feature_fraction is set=0.5350595921546563, colsample_bytree=0.8 will be ignored. Current value: feature_fraction=0.5350595921546563\n",
      "[LightGBM] [Warning] bagging_fraction is set=0.6121427643760001, subsample=0.6 will be ignored. Current value: bagging_fraction=0.6121427643760001\n",
      "[LightGBM] [Warning] bagging_freq is set=9, subsample_freq=0 will be ignored. Current value: bagging_freq=9\n",
      "Training until validation scores don't improve for 100 rounds\n",
      "[100]\ttraining's l1: 0.895559\tvalid_1's l1: 1.22128\n",
      "[200]\ttraining's l1: 0.894208\tvalid_1's l1: 1.21814\n",
      "[300]\ttraining's l1: 0.894074\tvalid_1's l1: 1.21789\n",
      "[400]\ttraining's l1: 0.894069\tvalid_1's l1: 1.21789\n",
      "[500]\ttraining's l1: 0.89292\tvalid_1's l1: 1.21579\n",
      "[600]\ttraining's l1: 0.891874\tvalid_1's l1: 1.21187\n",
      "[700]\ttraining's l1: 0.891299\tvalid_1's l1: 1.21014\n",
      "[800]\ttraining's l1: 0.890856\tvalid_1's l1: 1.20868\n",
      "[900]\ttraining's l1: 0.890243\tvalid_1's l1: 1.20739\n",
      "[1000]\ttraining's l1: 0.888356\tvalid_1's l1: 1.20212\n",
      "[1100]\ttraining's l1: 0.8874\tvalid_1's l1: 1.19951\n",
      "[1200]\ttraining's l1: 0.886266\tvalid_1's l1: 1.19752\n",
      "[1300]\ttraining's l1: 0.884314\tvalid_1's l1: 1.19298\n",
      "[1400]\ttraining's l1: 0.881987\tvalid_1's l1: 1.18731\n",
      "[1500]\ttraining's l1: 0.880969\tvalid_1's l1: 1.1864\n",
      "[1600]\ttraining's l1: 0.878007\tvalid_1's l1: 1.18069\n",
      "[1700]\ttraining's l1: 0.876342\tvalid_1's l1: 1.17918\n",
      "[1800]\ttraining's l1: 0.873115\tvalid_1's l1: 1.17487\n",
      "[1900]\ttraining's l1: 0.872561\tvalid_1's l1: 1.17405\n",
      "[2000]\ttraining's l1: 0.869553\tvalid_1's l1: 1.17091\n",
      "[2100]\ttraining's l1: 0.867621\tvalid_1's l1: 1.16835\n",
      "[2200]\ttraining's l1: 0.866116\tvalid_1's l1: 1.16574\n",
      "[2300]\ttraining's l1: 0.864259\tvalid_1's l1: 1.1641\n",
      "[2400]\ttraining's l1: 0.863319\tvalid_1's l1: 1.163\n",
      "[2500]\ttraining's l1: 0.862255\tvalid_1's l1: 1.16214\n",
      "[2600]\ttraining's l1: 0.860151\tvalid_1's l1: 1.16058\n",
      "[2700]\ttraining's l1: 0.857842\tvalid_1's l1: 1.15861\n",
      "[2800]\ttraining's l1: 0.856919\tvalid_1's l1: 1.15867\n",
      "Early stopping, best iteration is:\n",
      "[2725]\ttraining's l1: 0.857615\tvalid_1's l1: 1.15825\n"
     ]
    },
    {
     "name": "stderr",
     "output_type": "stream",
     "text": [
      "\u001b[32m[I 2021-07-04 20:05:15,460]\u001b[0m Trial 22 finished with value: -1.1580191338745198 and parameters: {'max_depth': 13, 'min_child_weight': 18, 'subsample': 0.6, 'colsample_bytree': 0.8, 'reg_lambda': 6.443472722709509, 'reg_alpha': 15.815147253001161, 'feature_fraction': 0.5350595921546563, 'bagging_fraction': 0.6121427643760001, 'bagging_freq': 9}. Best is trial 18 with value: -1.1523618493451506.\u001b[0m\n"
     ]
    },
    {
     "name": "stdout",
     "output_type": "stream",
     "text": [
      "[LightGBM] [Warning] feature_fraction is set=0.5672323129505373, colsample_bytree=0.9 will be ignored. Current value: feature_fraction=0.5672323129505373\n",
      "[LightGBM] [Warning] bagging_fraction is set=0.6065593245801494, subsample=0.5 will be ignored. Current value: bagging_fraction=0.6065593245801494\n",
      "[LightGBM] [Warning] bagging_freq is set=9, subsample_freq=0 will be ignored. Current value: bagging_freq=9\n",
      "Training until validation scores don't improve for 100 rounds\n",
      "[100]\ttraining's l1: 0.89659\tvalid_1's l1: 1.22285\n",
      "[200]\ttraining's l1: 0.896542\tvalid_1's l1: 1.22277\n",
      "[300]\ttraining's l1: 0.895507\tvalid_1's l1: 1.22136\n",
      "[400]\ttraining's l1: 0.895096\tvalid_1's l1: 1.22041\n",
      "[500]\ttraining's l1: 0.894361\tvalid_1's l1: 1.21833\n",
      "[600]\ttraining's l1: 0.893083\tvalid_1's l1: 1.2145\n",
      "[700]\ttraining's l1: 0.892325\tvalid_1's l1: 1.21284\n",
      "[800]\ttraining's l1: 0.891045\tvalid_1's l1: 1.20934\n",
      "[900]\ttraining's l1: 0.88925\tvalid_1's l1: 1.20434\n",
      "[1000]\ttraining's l1: 0.888222\tvalid_1's l1: 1.20109\n",
      "[1100]\ttraining's l1: 0.887756\tvalid_1's l1: 1.19998\n",
      "[1200]\ttraining's l1: 0.886519\tvalid_1's l1: 1.19896\n",
      "[1300]\ttraining's l1: 0.885331\tvalid_1's l1: 1.19615\n",
      "[1400]\ttraining's l1: 0.884023\tvalid_1's l1: 1.19333\n",
      "[1500]\ttraining's l1: 0.879749\tvalid_1's l1: 1.18424\n",
      "Early stopping, best iteration is:\n",
      "[1483]\ttraining's l1: 0.879759\tvalid_1's l1: 1.18421\n"
     ]
    },
    {
     "name": "stderr",
     "output_type": "stream",
     "text": [
      "\u001b[32m[I 2021-07-04 20:05:49,708]\u001b[0m Trial 23 finished with value: -1.184157711775945 and parameters: {'max_depth': 15, 'min_child_weight': 18, 'subsample': 0.5, 'colsample_bytree': 0.9, 'reg_lambda': 0.00799468624111023, 'reg_alpha': 28.880822238934332, 'feature_fraction': 0.5672323129505373, 'bagging_fraction': 0.6065593245801494, 'bagging_freq': 9}. Best is trial 18 with value: -1.1523618493451506.\u001b[0m\n"
     ]
    },
    {
     "name": "stdout",
     "output_type": "stream",
     "text": [
      "[LightGBM] [Warning] feature_fraction is set=0.47179777134544226, colsample_bytree=0.8 will be ignored. Current value: feature_fraction=0.47179777134544226\n",
      "[LightGBM] [Warning] bagging_fraction is set=0.6638919962905367, subsample=0.6 will be ignored. Current value: bagging_fraction=0.6638919962905367\n",
      "[LightGBM] [Warning] bagging_freq is set=10, subsample_freq=0 will be ignored. Current value: bagging_freq=10\n",
      "Training until validation scores don't improve for 100 rounds\n",
      "[100]\ttraining's l1: 0.898094\tvalid_1's l1: 1.22651\n",
      "[200]\ttraining's l1: 0.896682\tvalid_1's l1: 1.22371\n",
      "[300]\ttraining's l1: 0.894364\tvalid_1's l1: 1.21856\n",
      "[400]\ttraining's l1: 0.893637\tvalid_1's l1: 1.21697\n",
      "[500]\ttraining's l1: 0.893316\tvalid_1's l1: 1.21635\n",
      "[600]\ttraining's l1: 0.893093\tvalid_1's l1: 1.21562\n",
      "[700]\ttraining's l1: 0.892306\tvalid_1's l1: 1.214\n",
      "[800]\ttraining's l1: 0.890526\tvalid_1's l1: 1.20988\n",
      "[900]\ttraining's l1: 0.889135\tvalid_1's l1: 1.2062\n",
      "[1000]\ttraining's l1: 0.887002\tvalid_1's l1: 1.20073\n",
      "[1100]\ttraining's l1: 0.88684\tvalid_1's l1: 1.20033\n",
      "[1200]\ttraining's l1: 0.885427\tvalid_1's l1: 1.1968\n",
      "[1300]\ttraining's l1: 0.884567\tvalid_1's l1: 1.19469\n",
      "[1400]\ttraining's l1: 0.88223\tvalid_1's l1: 1.18915\n",
      "[1500]\ttraining's l1: 0.881815\tvalid_1's l1: 1.18876\n",
      "Early stopping, best iteration is:\n",
      "[1454]\ttraining's l1: 0.881853\tvalid_1's l1: 1.18876\n"
     ]
    },
    {
     "name": "stderr",
     "output_type": "stream",
     "text": [
      "\u001b[32m[I 2021-07-04 20:06:22,111]\u001b[0m Trial 24 finished with value: -1.1886709112257836 and parameters: {'max_depth': 11, 'min_child_weight': 18, 'subsample': 0.6, 'colsample_bytree': 0.8, 'reg_lambda': 0.06017593235628366, 'reg_alpha': 29.7653701410234, 'feature_fraction': 0.47179777134544226, 'bagging_fraction': 0.6638919962905367, 'bagging_freq': 10}. Best is trial 18 with value: -1.1523618493451506.\u001b[0m\n"
     ]
    },
    {
     "name": "stdout",
     "output_type": "stream",
     "text": [
      "[LightGBM] [Warning] feature_fraction is set=0.6628542945597283, colsample_bytree=0.9 will be ignored. Current value: feature_fraction=0.6628542945597283\n",
      "[LightGBM] [Warning] bagging_fraction is set=0.6403525316268442, subsample=0.7 will be ignored. Current value: bagging_fraction=0.6403525316268442\n",
      "[LightGBM] [Warning] bagging_freq is set=8, subsample_freq=0 will be ignored. Current value: bagging_freq=8\n",
      "Training until validation scores don't improve for 100 rounds\n",
      "[100]\ttraining's l1: 0.897329\tvalid_1's l1: 1.22586\n",
      "[200]\ttraining's l1: 0.894423\tvalid_1's l1: 1.2203\n",
      "[300]\ttraining's l1: 0.894313\tvalid_1's l1: 1.22032\n",
      "[400]\ttraining's l1: 0.89418\tvalid_1's l1: 1.22007\n",
      "Early stopping, best iteration is:\n",
      "[307]\ttraining's l1: 0.894184\tvalid_1's l1: 1.22005\n"
     ]
    },
    {
     "name": "stderr",
     "output_type": "stream",
     "text": [
      "\u001b[32m[I 2021-07-04 20:06:30,956]\u001b[0m Trial 25 finished with value: -1.220039220890666 and parameters: {'max_depth': 11, 'min_child_weight': 18, 'subsample': 0.7, 'colsample_bytree': 0.9, 'reg_lambda': 0.5806316643027628, 'reg_alpha': 6.855578326039119, 'feature_fraction': 0.6628542945597283, 'bagging_fraction': 0.6403525316268442, 'bagging_freq': 8}. Best is trial 18 with value: -1.1523618493451506.\u001b[0m\n"
     ]
    },
    {
     "name": "stdout",
     "output_type": "stream",
     "text": [
      "[LightGBM] [Warning] feature_fraction is set=0.5454731703784241, colsample_bytree=0.8 will be ignored. Current value: feature_fraction=0.5454731703784241\n",
      "[LightGBM] [Warning] bagging_fraction is set=0.562156249550958, subsample=0.5 will be ignored. Current value: bagging_fraction=0.562156249550958\n",
      "[LightGBM] [Warning] bagging_freq is set=8, subsample_freq=0 will be ignored. Current value: bagging_freq=8\n",
      "Training until validation scores don't improve for 100 rounds\n",
      "[100]\ttraining's l1: 0.897622\tvalid_1's l1: 1.22593\n",
      "[200]\ttraining's l1: 0.897421\tvalid_1's l1: 1.22555\n",
      "[300]\ttraining's l1: 0.897392\tvalid_1's l1: 1.22548\n"
     ]
    },
    {
     "name": "stderr",
     "output_type": "stream",
     "text": [
      "\u001b[32m[I 2021-07-04 20:06:39,749]\u001b[0m Trial 26 finished with value: -1.2254680765647634 and parameters: {'max_depth': 14, 'min_child_weight': 17, 'subsample': 0.5, 'colsample_bytree': 0.8, 'reg_lambda': 82.91975117260378, 'reg_alpha': 2.5059094537632487, 'feature_fraction': 0.5454731703784241, 'bagging_fraction': 0.562156249550958, 'bagging_freq': 8}. Best is trial 18 with value: -1.1523618493451506.\u001b[0m\n"
     ]
    },
    {
     "name": "stdout",
     "output_type": "stream",
     "text": [
      "Early stopping, best iteration is:\n",
      "[282]\ttraining's l1: 0.897401\tvalid_1's l1: 1.22547\n",
      "[LightGBM] [Warning] feature_fraction is set=0.47081187119199747, colsample_bytree=0.9 will be ignored. Current value: feature_fraction=0.47081187119199747\n",
      "[LightGBM] [Warning] bagging_fraction is set=0.7159237212132494, subsample=0.6 will be ignored. Current value: bagging_fraction=0.7159237212132494\n",
      "[LightGBM] [Warning] bagging_freq is set=9, subsample_freq=0 will be ignored. Current value: bagging_freq=9\n",
      "Training until validation scores don't improve for 100 rounds\n",
      "[100]\ttraining's l1: 0.896804\tvalid_1's l1: 1.22303\n",
      "[200]\ttraining's l1: 0.896181\tvalid_1's l1: 1.22214\n",
      "[300]\ttraining's l1: 0.895561\tvalid_1's l1: 1.22098\n",
      "[400]\ttraining's l1: 0.895451\tvalid_1's l1: 1.22055\n",
      "[500]\ttraining's l1: 0.894863\tvalid_1's l1: 1.21916\n",
      "[600]\ttraining's l1: 0.894404\tvalid_1's l1: 1.21838\n",
      "[700]\ttraining's l1: 0.893636\tvalid_1's l1: 1.21617\n",
      "[800]\ttraining's l1: 0.892093\tvalid_1's l1: 1.21091\n",
      "[900]\ttraining's l1: 0.891885\tvalid_1's l1: 1.21073\n",
      "[1000]\ttraining's l1: 0.890841\tvalid_1's l1: 1.20773\n",
      "[1100]\ttraining's l1: 0.887479\tvalid_1's l1: 1.20093\n",
      "[1200]\ttraining's l1: 0.88449\tvalid_1's l1: 1.19212\n",
      "[1300]\ttraining's l1: 0.882806\tvalid_1's l1: 1.1898\n",
      "[1400]\ttraining's l1: 0.88023\tvalid_1's l1: 1.18416\n",
      "[1500]\ttraining's l1: 0.880009\tvalid_1's l1: 1.18387\n",
      "[1600]\ttraining's l1: 0.87979\tvalid_1's l1: 1.18355\n",
      "[1700]\ttraining's l1: 0.878669\tvalid_1's l1: 1.18233\n",
      "[1800]\ttraining's l1: 0.876167\tvalid_1's l1: 1.17716\n",
      "[1900]\ttraining's l1: 0.874916\tvalid_1's l1: 1.17533\n",
      "[2000]\ttraining's l1: 0.873654\tvalid_1's l1: 1.17318\n",
      "[2100]\ttraining's l1: 0.872084\tvalid_1's l1: 1.17124\n",
      "[2200]\ttraining's l1: 0.871504\tvalid_1's l1: 1.17095\n",
      "[2300]\ttraining's l1: 0.870731\tvalid_1's l1: 1.16934\n",
      "[2400]\ttraining's l1: 0.869856\tvalid_1's l1: 1.16835\n",
      "[2500]\ttraining's l1: 0.869244\tvalid_1's l1: 1.16769\n",
      "Early stopping, best iteration is:\n",
      "[2485]\ttraining's l1: 0.869265\tvalid_1's l1: 1.16767\n"
     ]
    },
    {
     "name": "stderr",
     "output_type": "stream",
     "text": [
      "\u001b[32m[I 2021-07-04 20:07:35,817]\u001b[0m Trial 27 finished with value: -1.167527969210499 and parameters: {'max_depth': 12, 'min_child_weight': 19, 'subsample': 0.6, 'colsample_bytree': 0.9, 'reg_lambda': 3.8814338759219433, 'reg_alpha': 35.72424702069879, 'feature_fraction': 0.47081187119199747, 'bagging_fraction': 0.7159237212132494, 'bagging_freq': 9}. Best is trial 18 with value: -1.1523618493451506.\u001b[0m\n"
     ]
    },
    {
     "name": "stdout",
     "output_type": "stream",
     "text": [
      "[LightGBM] [Warning] feature_fraction is set=0.6135324719905372, colsample_bytree=0.8 will be ignored. Current value: feature_fraction=0.6135324719905372\n",
      "[LightGBM] [Warning] bagging_fraction is set=0.5892584089311368, subsample=0.7 will be ignored. Current value: bagging_fraction=0.5892584089311368\n",
      "[LightGBM] [Warning] bagging_freq is set=10, subsample_freq=0 will be ignored. Current value: bagging_freq=10\n",
      "Training until validation scores don't improve for 100 rounds\n",
      "[100]\ttraining's l1: 0.901957\tvalid_1's l1: 1.23372\n",
      "[200]\ttraining's l1: 0.901531\tvalid_1's l1: 1.23287\n",
      "[300]\ttraining's l1: 0.901529\tvalid_1's l1: 1.23287\n",
      "[400]\ttraining's l1: 0.901492\tvalid_1's l1: 1.23277\n",
      "[500]\ttraining's l1: 0.900789\tvalid_1's l1: 1.23078\n",
      "[600]\ttraining's l1: 0.900638\tvalid_1's l1: 1.23037\n",
      "[700]\ttraining's l1: 0.900597\tvalid_1's l1: 1.23025\n",
      "[800]\ttraining's l1: 0.899656\tvalid_1's l1: 1.2271\n",
      "[900]\ttraining's l1: 0.899031\tvalid_1's l1: 1.22484\n",
      "[1000]\ttraining's l1: 0.898843\tvalid_1's l1: 1.22469\n",
      "[1100]\ttraining's l1: 0.898154\tvalid_1's l1: 1.2223\n",
      "[1200]\ttraining's l1: 0.897045\tvalid_1's l1: 1.21964\n",
      "[1300]\ttraining's l1: 0.896872\tvalid_1's l1: 1.21899\n",
      "[1400]\ttraining's l1: 0.896697\tvalid_1's l1: 1.21802\n",
      "[1500]\ttraining's l1: 0.896568\tvalid_1's l1: 1.21773\n",
      "[1600]\ttraining's l1: 0.896425\tvalid_1's l1: 1.21727\n",
      "[1700]\ttraining's l1: 0.895691\tvalid_1's l1: 1.21569\n",
      "[1800]\ttraining's l1: 0.894982\tvalid_1's l1: 1.21415\n",
      "[1900]\ttraining's l1: 0.894449\tvalid_1's l1: 1.21259\n",
      "[2000]\ttraining's l1: 0.893537\tvalid_1's l1: 1.2099\n",
      "[2100]\ttraining's l1: 0.893246\tvalid_1's l1: 1.20942\n",
      "[2200]\ttraining's l1: 0.892566\tvalid_1's l1: 1.20772\n",
      "[2300]\ttraining's l1: 0.89219\tvalid_1's l1: 1.2075\n",
      "Early stopping, best iteration is:\n",
      "[2213]\ttraining's l1: 0.892253\tvalid_1's l1: 1.20743\n"
     ]
    },
    {
     "name": "stderr",
     "output_type": "stream",
     "text": [
      "\u001b[32m[I 2021-07-04 20:08:23,242]\u001b[0m Trial 28 finished with value: -1.2072939108098395 and parameters: {'max_depth': 15, 'min_child_weight': 13, 'subsample': 0.7, 'colsample_bytree': 0.8, 'reg_lambda': 0.1536189328182422, 'reg_alpha': 628.2743341530539, 'feature_fraction': 0.6135324719905372, 'bagging_fraction': 0.5892584089311368, 'bagging_freq': 10}. Best is trial 18 with value: -1.1523618493451506.\u001b[0m\n"
     ]
    },
    {
     "name": "stdout",
     "output_type": "stream",
     "text": [
      "[LightGBM] [Warning] feature_fraction is set=0.6628706848381317, colsample_bytree=0.8 will be ignored. Current value: feature_fraction=0.6628706848381317\n",
      "[LightGBM] [Warning] bagging_fraction is set=0.6387089251451624, subsample=0.6 will be ignored. Current value: bagging_fraction=0.6387089251451624\n",
      "[LightGBM] [Warning] bagging_freq is set=8, subsample_freq=0 will be ignored. Current value: bagging_freq=8\n",
      "Training until validation scores don't improve for 100 rounds\n",
      "[100]\ttraining's l1: 0.896796\tvalid_1's l1: 1.22661\n",
      "[200]\ttraining's l1: 0.895222\tvalid_1's l1: 1.22287\n",
      "[300]\ttraining's l1: 0.89456\tvalid_1's l1: 1.22157\n",
      "[400]\ttraining's l1: 0.894179\tvalid_1's l1: 1.22092\n",
      "[500]\ttraining's l1: 0.893359\tvalid_1's l1: 1.21971\n",
      "[600]\ttraining's l1: 0.89135\tvalid_1's l1: 1.21517\n",
      "[700]\ttraining's l1: 0.888926\tvalid_1's l1: 1.20994\n",
      "[800]\ttraining's l1: 0.888695\tvalid_1's l1: 1.20925\n",
      "[900]\ttraining's l1: 0.887832\tvalid_1's l1: 1.20682\n",
      "[1000]\ttraining's l1: 0.88709\tvalid_1's l1: 1.20504\n",
      "[1100]\ttraining's l1: 0.886596\tvalid_1's l1: 1.20404\n",
      "[1200]\ttraining's l1: 0.881065\tvalid_1's l1: 1.19197\n",
      "[1300]\ttraining's l1: 0.879001\tvalid_1's l1: 1.18905\n",
      "[1400]\ttraining's l1: 0.877969\tvalid_1's l1: 1.18651\n",
      "[1500]\ttraining's l1: 0.876397\tvalid_1's l1: 1.18261\n",
      "[1600]\ttraining's l1: 0.874769\tvalid_1's l1: 1.17956\n",
      "[1700]\ttraining's l1: 0.873299\tvalid_1's l1: 1.1771\n",
      "[1800]\ttraining's l1: 0.870708\tvalid_1's l1: 1.17351\n",
      "[1900]\ttraining's l1: 0.869249\tvalid_1's l1: 1.17153\n",
      "[2000]\ttraining's l1: 0.867978\tvalid_1's l1: 1.16954\n",
      "[2100]\ttraining's l1: 0.866742\tvalid_1's l1: 1.16863\n",
      "[2200]\ttraining's l1: 0.865688\tvalid_1's l1: 1.16647\n",
      "[2300]\ttraining's l1: 0.86329\tvalid_1's l1: 1.16408\n",
      "[2400]\ttraining's l1: 0.862408\tvalid_1's l1: 1.16398\n",
      "Early stopping, best iteration is:\n",
      "[2359]\ttraining's l1: 0.862676\tvalid_1's l1: 1.1637\n"
     ]
    },
    {
     "name": "stderr",
     "output_type": "stream",
     "text": [
      "\u001b[32m[I 2021-07-04 20:09:09,512]\u001b[0m Trial 29 finished with value: -1.1635099519247163 and parameters: {'max_depth': 20, 'min_child_weight': 16, 'subsample': 0.6, 'colsample_bytree': 0.8, 'reg_lambda': 0.030667281449618326, 'reg_alpha': 11.897793917356546, 'feature_fraction': 0.6628706848381317, 'bagging_fraction': 0.6387089251451624, 'bagging_freq': 8}. Best is trial 18 with value: -1.1523618493451506.\u001b[0m\n"
     ]
    },
    {
     "name": "stdout",
     "output_type": "stream",
     "text": [
      "[LightGBM] [Warning] feature_fraction is set=0.5968903033910109, colsample_bytree=0.7 will be ignored. Current value: feature_fraction=0.5968903033910109\n",
      "[LightGBM] [Warning] bagging_fraction is set=0.5567245337139969, subsample=0.5 will be ignored. Current value: bagging_fraction=0.5567245337139969\n",
      "[LightGBM] [Warning] bagging_freq is set=1, subsample_freq=0 will be ignored. Current value: bagging_freq=1\n",
      "Training until validation scores don't improve for 100 rounds\n",
      "[100]\ttraining's l1: 0.896356\tvalid_1's l1: 1.22392\n",
      "[200]\ttraining's l1: 0.895454\tvalid_1's l1: 1.22261\n"
     ]
    },
    {
     "name": "stderr",
     "output_type": "stream",
     "text": [
      "\u001b[32m[I 2021-07-04 20:09:15,078]\u001b[0m Trial 30 finished with value: -1.2226036280262618 and parameters: {'max_depth': 10, 'min_child_weight': 16, 'subsample': 0.5, 'colsample_bytree': 0.7, 'reg_lambda': 0.0036383910622197206, 'reg_alpha': 2.1566808736395715, 'feature_fraction': 0.5968903033910109, 'bagging_fraction': 0.5567245337139969, 'bagging_freq': 1}. Best is trial 18 with value: -1.1523618493451506.\u001b[0m\n"
     ]
    },
    {
     "name": "stdout",
     "output_type": "stream",
     "text": [
      "Early stopping, best iteration is:\n",
      "[152]\ttraining's l1: 0.895454\tvalid_1's l1: 1.22261\n",
      "[LightGBM] [Warning] feature_fraction is set=0.517781860368889, colsample_bytree=0.8 will be ignored. Current value: feature_fraction=0.517781860368889\n",
      "[LightGBM] [Warning] bagging_fraction is set=0.6346517278773282, subsample=0.6 will be ignored. Current value: bagging_fraction=0.6346517278773282\n",
      "[LightGBM] [Warning] bagging_freq is set=9, subsample_freq=0 will be ignored. Current value: bagging_freq=9\n",
      "Training until validation scores don't improve for 100 rounds\n",
      "[100]\ttraining's l1: 0.896986\tvalid_1's l1: 1.22355\n",
      "[200]\ttraining's l1: 0.896182\tvalid_1's l1: 1.22244\n"
     ]
    },
    {
     "name": "stderr",
     "output_type": "stream",
     "text": [
      "\u001b[32m[I 2021-07-04 20:09:20,998]\u001b[0m Trial 31 finished with value: -1.222410654989214 and parameters: {'max_depth': 13, 'min_child_weight': 20, 'subsample': 0.6, 'colsample_bytree': 0.8, 'reg_lambda': 12.961399903814698, 'reg_alpha': 0.20797749904397972, 'feature_fraction': 0.517781860368889, 'bagging_fraction': 0.6346517278773282, 'bagging_freq': 9}. Best is trial 18 with value: -1.1523618493451506.\u001b[0m\n"
     ]
    },
    {
     "name": "stdout",
     "output_type": "stream",
     "text": [
      "Early stopping, best iteration is:\n",
      "[130]\ttraining's l1: 0.896202\tvalid_1's l1: 1.22242\n",
      "[LightGBM] [Warning] feature_fraction is set=0.5389877952621497, colsample_bytree=0.8 will be ignored. Current value: feature_fraction=0.5389877952621497\n",
      "[LightGBM] [Warning] bagging_fraction is set=0.48926901957923086, subsample=0.6 will be ignored. Current value: bagging_fraction=0.48926901957923086\n",
      "[LightGBM] [Warning] bagging_freq is set=9, subsample_freq=0 will be ignored. Current value: bagging_freq=9\n",
      "Training until validation scores don't improve for 100 rounds\n",
      "[100]\ttraining's l1: 0.896991\tvalid_1's l1: 1.22524\n"
     ]
    },
    {
     "name": "stderr",
     "output_type": "stream",
     "text": [
      "\u001b[32m[I 2021-07-04 20:09:25,774]\u001b[0m Trial 32 finished with value: -1.2250387931982574 and parameters: {'max_depth': 12, 'min_child_weight': 19, 'subsample': 0.6, 'colsample_bytree': 0.8, 'reg_lambda': 6.457368387287598, 'reg_alpha': 0.8243243064555564, 'feature_fraction': 0.5389877952621497, 'bagging_fraction': 0.48926901957923086, 'bagging_freq': 9}. Best is trial 18 with value: -1.1523618493451506.\u001b[0m\n"
     ]
    },
    {
     "name": "stdout",
     "output_type": "stream",
     "text": [
      "[200]\ttraining's l1: 0.896875\tvalid_1's l1: 1.22504\n",
      "Early stopping, best iteration is:\n",
      "[107]\ttraining's l1: 0.89688\tvalid_1's l1: 1.22504\n",
      "[LightGBM] [Warning] feature_fraction is set=0.4633982266579198, colsample_bytree=0.9 will be ignored. Current value: feature_fraction=0.4633982266579198\n",
      "[LightGBM] [Warning] bagging_fraction is set=0.5761716161911102, subsample=0.5 will be ignored. Current value: bagging_fraction=0.5761716161911102\n",
      "[LightGBM] [Warning] bagging_freq is set=7, subsample_freq=0 will be ignored. Current value: bagging_freq=7\n",
      "Training until validation scores don't improve for 100 rounds\n",
      "[100]\ttraining's l1: 0.897355\tvalid_1's l1: 1.22513\n",
      "[200]\ttraining's l1: 0.896372\tvalid_1's l1: 1.22306\n",
      "[300]\ttraining's l1: 0.895558\tvalid_1's l1: 1.22203\n",
      "[400]\ttraining's l1: 0.894534\tvalid_1's l1: 1.21951\n",
      "[500]\ttraining's l1: 0.892618\tvalid_1's l1: 1.21393\n",
      "[600]\ttraining's l1: 0.892331\tvalid_1's l1: 1.21346\n",
      "[700]\ttraining's l1: 0.890492\tvalid_1's l1: 1.2083\n",
      "[800]\ttraining's l1: 0.888484\tvalid_1's l1: 1.20284\n",
      "[900]\ttraining's l1: 0.884956\tvalid_1's l1: 1.19498\n",
      "[1000]\ttraining's l1: 0.884089\tvalid_1's l1: 1.19399\n",
      "[1100]\ttraining's l1: 0.883069\tvalid_1's l1: 1.19144\n",
      "[1200]\ttraining's l1: 0.882444\tvalid_1's l1: 1.19049\n",
      "[1300]\ttraining's l1: 0.879484\tvalid_1's l1: 1.18356\n",
      "[1400]\ttraining's l1: 0.876251\tvalid_1's l1: 1.17779\n",
      "[1500]\ttraining's l1: 0.874602\tvalid_1's l1: 1.17511\n",
      "[1600]\ttraining's l1: 0.871562\tvalid_1's l1: 1.17092\n",
      "[1700]\ttraining's l1: 0.870239\tvalid_1's l1: 1.16814\n",
      "[1800]\ttraining's l1: 0.867226\tvalid_1's l1: 1.16645\n",
      "[1900]\ttraining's l1: 0.866023\tvalid_1's l1: 1.16495\n",
      "[2000]\ttraining's l1: 0.863368\tvalid_1's l1: 1.16172\n",
      "[2100]\ttraining's l1: 0.860732\tvalid_1's l1: 1.16017\n",
      "[2200]\ttraining's l1: 0.858451\tvalid_1's l1: 1.15923\n",
      "[2300]\ttraining's l1: 0.857203\tvalid_1's l1: 1.15859\n",
      "[2400]\ttraining's l1: 0.855963\tvalid_1's l1: 1.15838\n",
      "[2500]\ttraining's l1: 0.853484\tvalid_1's l1: 1.15743\n",
      "Early stopping, best iteration is:\n",
      "[2422]\ttraining's l1: 0.854034\tvalid_1's l1: 1.15714\n"
     ]
    },
    {
     "name": "stderr",
     "output_type": "stream",
     "text": [
      "\u001b[32m[I 2021-07-04 20:10:13,939]\u001b[0m Trial 33 finished with value: -1.1569659029521844 and parameters: {'max_depth': 15, 'min_child_weight': 20, 'subsample': 0.5, 'colsample_bytree': 0.9, 'reg_lambda': 1.771989634038114, 'reg_alpha': 0.321720513563258, 'feature_fraction': 0.4633982266579198, 'bagging_fraction': 0.5761716161911102, 'bagging_freq': 7}. Best is trial 18 with value: -1.1523618493451506.\u001b[0m\n"
     ]
    },
    {
     "name": "stdout",
     "output_type": "stream",
     "text": [
      "[LightGBM] [Warning] feature_fraction is set=0.4677122734772689, colsample_bytree=0.9 will be ignored. Current value: feature_fraction=0.4677122734772689\n",
      "[LightGBM] [Warning] bagging_fraction is set=0.45954486072373746, subsample=0.5 will be ignored. Current value: bagging_fraction=0.45954486072373746\n",
      "[LightGBM] [Warning] bagging_freq is set=7, subsample_freq=0 will be ignored. Current value: bagging_freq=7\n",
      "Training until validation scores don't improve for 100 rounds\n",
      "[100]\ttraining's l1: 0.895804\tvalid_1's l1: 1.22154\n"
     ]
    },
    {
     "name": "stderr",
     "output_type": "stream",
     "text": [
      "\u001b[32m[I 2021-07-04 20:10:18,068]\u001b[0m Trial 34 finished with value: -1.2215232145517563 and parameters: {'max_depth': 15, 'min_child_weight': 17, 'subsample': 0.5, 'colsample_bytree': 0.9, 'reg_lambda': 1.3009978564584732, 'reg_alpha': 2.8222906361149778, 'feature_fraction': 0.4677122734772689, 'bagging_fraction': 0.45954486072373746, 'bagging_freq': 7}. Best is trial 18 with value: -1.1523618493451506.\u001b[0m\n"
     ]
    },
    {
     "name": "stdout",
     "output_type": "stream",
     "text": [
      "Early stopping, best iteration is:\n",
      "[81]\ttraining's l1: 0.89581\tvalid_1's l1: 1.22153\n",
      "[LightGBM] [Warning] feature_fraction is set=0.402932605366342, colsample_bytree=0.9 will be ignored. Current value: feature_fraction=0.402932605366342\n",
      "[LightGBM] [Warning] bagging_fraction is set=0.4034100404251284, subsample=0.5 will be ignored. Current value: bagging_fraction=0.4034100404251284\n",
      "[LightGBM] [Warning] bagging_freq is set=6, subsample_freq=0 will be ignored. Current value: bagging_freq=6\n",
      "Training until validation scores don't improve for 100 rounds\n",
      "[100]\ttraining's l1: 0.897279\tvalid_1's l1: 1.22483\n",
      "[200]\ttraining's l1: 0.896468\tvalid_1's l1: 1.22338\n",
      "[300]\ttraining's l1: 0.894374\tvalid_1's l1: 1.21914\n",
      "[400]\ttraining's l1: 0.894197\tvalid_1's l1: 1.21863\n",
      "[500]\ttraining's l1: 0.892812\tvalid_1's l1: 1.21532\n",
      "[600]\ttraining's l1: 0.891457\tvalid_1's l1: 1.21163\n",
      "[700]\ttraining's l1: 0.888482\tvalid_1's l1: 1.20325\n",
      "[800]\ttraining's l1: 0.885865\tvalid_1's l1: 1.19751\n",
      "[900]\ttraining's l1: 0.884913\tvalid_1's l1: 1.19677\n",
      "[1000]\ttraining's l1: 0.883389\tvalid_1's l1: 1.1937\n",
      "[1100]\ttraining's l1: 0.88144\tvalid_1's l1: 1.18905\n",
      "[1200]\ttraining's l1: 0.878989\tvalid_1's l1: 1.18421\n",
      "[1300]\ttraining's l1: 0.877986\tvalid_1's l1: 1.18187\n",
      "[1400]\ttraining's l1: 0.87725\tvalid_1's l1: 1.17977\n",
      "[1500]\ttraining's l1: 0.874689\tvalid_1's l1: 1.17488\n",
      "[1600]\ttraining's l1: 0.872469\tvalid_1's l1: 1.1725\n",
      "[1700]\ttraining's l1: 0.870578\tvalid_1's l1: 1.1703\n",
      "[1800]\ttraining's l1: 0.867772\tvalid_1's l1: 1.16724\n",
      "[1900]\ttraining's l1: 0.86465\tvalid_1's l1: 1.16431\n",
      "[2000]\ttraining's l1: 0.863033\tvalid_1's l1: 1.16239\n",
      "[2100]\ttraining's l1: 0.861915\tvalid_1's l1: 1.16134\n",
      "[2200]\ttraining's l1: 0.861093\tvalid_1's l1: 1.16095\n",
      "[2300]\ttraining's l1: 0.859415\tvalid_1's l1: 1.16077\n",
      "[2400]\ttraining's l1: 0.858035\tvalid_1's l1: 1.16031\n",
      "[2500]\ttraining's l1: 0.856261\tvalid_1's l1: 1.15935\n",
      "[2600]\ttraining's l1: 0.855115\tvalid_1's l1: 1.15859\n",
      "[2700]\ttraining's l1: 0.854017\tvalid_1's l1: 1.15797\n",
      "[2800]\ttraining's l1: 0.853401\tvalid_1's l1: 1.15785\n",
      "Early stopping, best iteration is:\n",
      "[2713]\ttraining's l1: 0.853926\tvalid_1's l1: 1.15778\n"
     ]
    },
    {
     "name": "stderr",
     "output_type": "stream",
     "text": [
      "\u001b[32m[I 2021-07-04 20:11:00,266]\u001b[0m Trial 35 finished with value: -1.1575586399951985 and parameters: {'max_depth': 17, 'min_child_weight': 19, 'subsample': 0.5, 'colsample_bytree': 0.9, 'reg_lambda': 0.18375399848613072, 'reg_alpha': 0.778418787861624, 'feature_fraction': 0.402932605366342, 'bagging_fraction': 0.4034100404251284, 'bagging_freq': 6}. Best is trial 18 with value: -1.1523618493451506.\u001b[0m\n"
     ]
    },
    {
     "name": "stdout",
     "output_type": "stream",
     "text": [
      "[LightGBM] [Warning] feature_fraction is set=0.40557993070760306, colsample_bytree=0.9 will be ignored. Current value: feature_fraction=0.40557993070760306\n",
      "[LightGBM] [Warning] bagging_fraction is set=0.7259805295744096, subsample=0.5 will be ignored. Current value: bagging_fraction=0.7259805295744096\n",
      "[LightGBM] [Warning] bagging_freq is set=6, subsample_freq=0 will be ignored. Current value: bagging_freq=6\n",
      "Training until validation scores don't improve for 100 rounds\n",
      "[100]\ttraining's l1: 0.895214\tvalid_1's l1: 1.22164\n",
      "[200]\ttraining's l1: 0.894773\tvalid_1's l1: 1.22077\n",
      "[300]\ttraining's l1: 0.893916\tvalid_1's l1: 1.21914\n",
      "[400]\ttraining's l1: 0.893889\tvalid_1's l1: 1.21905\n",
      "[500]\ttraining's l1: 0.893818\tvalid_1's l1: 1.21885\n",
      "[600]\ttraining's l1: 0.893504\tvalid_1's l1: 1.21831\n",
      "[700]\ttraining's l1: 0.891536\tvalid_1's l1: 1.21427\n",
      "[800]\ttraining's l1: 0.890935\tvalid_1's l1: 1.2126\n",
      "[900]\ttraining's l1: 0.890568\tvalid_1's l1: 1.21178\n",
      "[1000]\ttraining's l1: 0.889752\tvalid_1's l1: 1.20976\n",
      "[1100]\ttraining's l1: 0.888054\tvalid_1's l1: 1.20477\n",
      "[1200]\ttraining's l1: 0.887267\tvalid_1's l1: 1.20284\n",
      "[1300]\ttraining's l1: 0.883627\tvalid_1's l1: 1.19612\n",
      "[1400]\ttraining's l1: 0.878388\tvalid_1's l1: 1.18319\n",
      "[1500]\ttraining's l1: 0.876583\tvalid_1's l1: 1.18104\n",
      "[1600]\ttraining's l1: 0.875417\tvalid_1's l1: 1.17863\n",
      "[1700]\ttraining's l1: 0.874785\tvalid_1's l1: 1.17742\n",
      "[1800]\ttraining's l1: 0.872031\tvalid_1's l1: 1.17354\n",
      "[1900]\ttraining's l1: 0.86966\tvalid_1's l1: 1.17006\n",
      "[2000]\ttraining's l1: 0.867864\tvalid_1's l1: 1.16745\n",
      "[2100]\ttraining's l1: 0.865765\tvalid_1's l1: 1.16587\n",
      "[2200]\ttraining's l1: 0.863699\tvalid_1's l1: 1.16289\n",
      "[2300]\ttraining's l1: 0.861764\tvalid_1's l1: 1.16109\n",
      "[2400]\ttraining's l1: 0.860966\tvalid_1's l1: 1.1607\n",
      "[2500]\ttraining's l1: 0.859561\tvalid_1's l1: 1.15985\n",
      "[2600]\ttraining's l1: 0.85793\tvalid_1's l1: 1.15957\n",
      "[2700]\ttraining's l1: 0.856324\tvalid_1's l1: 1.15836\n",
      "[2800]\ttraining's l1: 0.852971\tvalid_1's l1: 1.1566\n",
      "[2900]\ttraining's l1: 0.85175\tvalid_1's l1: 1.15549\n",
      "Early stopping, best iteration is:\n",
      "[2881]\ttraining's l1: 0.851979\tvalid_1's l1: 1.15545\n"
     ]
    },
    {
     "name": "stderr",
     "output_type": "stream",
     "text": [
      "\u001b[32m[I 2021-07-04 20:12:04,364]\u001b[0m Trial 36 finished with value: -1.1552484129394522 and parameters: {'max_depth': 19, 'min_child_weight': 20, 'subsample': 0.5, 'colsample_bytree': 0.9, 'reg_lambda': 0.24105877298412792, 'reg_alpha': 0.10280779831794638, 'feature_fraction': 0.40557993070760306, 'bagging_fraction': 0.7259805295744096, 'bagging_freq': 6}. Best is trial 18 with value: -1.1523618493451506.\u001b[0m\n"
     ]
    },
    {
     "name": "stdout",
     "output_type": "stream",
     "text": [
      "[LightGBM] [Warning] feature_fraction is set=0.4483767300827447, colsample_bytree=0.9 will be ignored. Current value: feature_fraction=0.4483767300827447\n",
      "[LightGBM] [Warning] bagging_fraction is set=0.7329447051367837, subsample=0.5 will be ignored. Current value: bagging_fraction=0.7329447051367837\n",
      "[LightGBM] [Warning] bagging_freq is set=6, subsample_freq=0 will be ignored. Current value: bagging_freq=6\n",
      "Training until validation scores don't improve for 100 rounds\n",
      "[100]\ttraining's l1: 0.89581\tvalid_1's l1: 1.22141\n",
      "[200]\ttraining's l1: 0.895258\tvalid_1's l1: 1.22006\n"
     ]
    },
    {
     "name": "stderr",
     "output_type": "stream",
     "text": [
      "\u001b[32m[I 2021-07-04 20:12:10,949]\u001b[0m Trial 37 finished with value: -1.220051279652678 and parameters: {'max_depth': 20, 'min_child_weight': 20, 'subsample': 0.5, 'colsample_bytree': 0.9, 'reg_lambda': 0.5337339347693375, 'reg_alpha': 0.08770024999747435, 'feature_fraction': 0.4483767300827447, 'bagging_fraction': 0.7329447051367837, 'bagging_freq': 6}. Best is trial 18 with value: -1.1523618493451506.\u001b[0m\n"
     ]
    },
    {
     "name": "stdout",
     "output_type": "stream",
     "text": [
      "Early stopping, best iteration is:\n",
      "[145]\ttraining's l1: 0.895263\tvalid_1's l1: 1.22006\n",
      "[LightGBM] [Warning] feature_fraction is set=0.4039233623537279, colsample_bytree=0.9 will be ignored. Current value: feature_fraction=0.4039233623537279\n",
      "[LightGBM] [Warning] bagging_fraction is set=0.6716002588465668, subsample=0.5 will be ignored. Current value: bagging_fraction=0.6716002588465668\n",
      "[LightGBM] [Warning] bagging_freq is set=7, subsample_freq=0 will be ignored. Current value: bagging_freq=7\n",
      "Training until validation scores don't improve for 100 rounds\n",
      "[100]\ttraining's l1: 0.895459\tvalid_1's l1: 1.22235\n",
      "[200]\ttraining's l1: 0.894532\tvalid_1's l1: 1.22092\n",
      "[300]\ttraining's l1: 0.893641\tvalid_1's l1: 1.21852\n",
      "[400]\ttraining's l1: 0.892983\tvalid_1's l1: 1.2168\n",
      "[500]\ttraining's l1: 0.890717\tvalid_1's l1: 1.21061\n",
      "[600]\ttraining's l1: 0.890284\tvalid_1's l1: 1.2094\n",
      "[700]\ttraining's l1: 0.889349\tvalid_1's l1: 1.20724\n",
      "[800]\ttraining's l1: 0.886637\tvalid_1's l1: 1.20118\n",
      "[900]\ttraining's l1: 0.885876\tvalid_1's l1: 1.19962\n",
      "[1000]\ttraining's l1: 0.883011\tvalid_1's l1: 1.19239\n",
      "[1100]\ttraining's l1: 0.881519\tvalid_1's l1: 1.1888\n",
      "[1200]\ttraining's l1: 0.879378\tvalid_1's l1: 1.18479\n",
      "[1300]\ttraining's l1: 0.877731\tvalid_1's l1: 1.18128\n",
      "[1400]\ttraining's l1: 0.877232\tvalid_1's l1: 1.18076\n",
      "Early stopping, best iteration is:\n",
      "[1393]\ttraining's l1: 0.877249\tvalid_1's l1: 1.18075\n"
     ]
    },
    {
     "name": "stderr",
     "output_type": "stream",
     "text": [
      "\u001b[32m[I 2021-07-04 20:12:41,818]\u001b[0m Trial 38 finished with value: -1.1806748859110061 and parameters: {'max_depth': 17, 'min_child_weight': 17, 'subsample': 0.5, 'colsample_bytree': 0.9, 'reg_lambda': 0.0010234569204485918, 'reg_alpha': 0.012280098634842319, 'feature_fraction': 0.4039233623537279, 'bagging_fraction': 0.6716002588465668, 'bagging_freq': 7}. Best is trial 18 with value: -1.1523618493451506.\u001b[0m\n"
     ]
    },
    {
     "name": "stdout",
     "output_type": "stream",
     "text": [
      "[LightGBM] [Warning] feature_fraction is set=0.7041695681299609, colsample_bytree=0.9 will be ignored. Current value: feature_fraction=0.7041695681299609\n",
      "[LightGBM] [Warning] bagging_fraction is set=0.572994273755452, subsample=0.7 will be ignored. Current value: bagging_fraction=0.572994273755452\n",
      "[LightGBM] [Warning] bagging_freq is set=4, subsample_freq=0 will be ignored. Current value: bagging_freq=4\n",
      "Training until validation scores don't improve for 100 rounds\n",
      "[100]\ttraining's l1: 0.897044\tvalid_1's l1: 1.22552\n",
      "[200]\ttraining's l1: 0.896435\tvalid_1's l1: 1.22406\n",
      "[300]\ttraining's l1: 0.89579\tvalid_1's l1: 1.22281\n",
      "[400]\ttraining's l1: 0.895789\tvalid_1's l1: 1.22281\n",
      "[500]\ttraining's l1: 0.895776\tvalid_1's l1: 1.22275\n",
      "[600]\ttraining's l1: 0.892993\tvalid_1's l1: 1.21606\n",
      "[700]\ttraining's l1: 0.892967\tvalid_1's l1: 1.21603\n",
      "[800]\ttraining's l1: 0.892315\tvalid_1's l1: 1.21465\n",
      "[900]\ttraining's l1: 0.892283\tvalid_1's l1: 1.21455\n",
      "[1000]\ttraining's l1: 0.888636\tvalid_1's l1: 1.20455\n",
      "[1100]\ttraining's l1: 0.887682\tvalid_1's l1: 1.20232\n",
      "[1200]\ttraining's l1: 0.887205\tvalid_1's l1: 1.20129\n",
      "[1300]\ttraining's l1: 0.885575\tvalid_1's l1: 1.19722\n",
      "[1400]\ttraining's l1: 0.88268\tvalid_1's l1: 1.19067\n",
      "[1500]\ttraining's l1: 0.881699\tvalid_1's l1: 1.1892\n",
      "[1600]\ttraining's l1: 0.879803\tvalid_1's l1: 1.18586\n",
      "[1700]\ttraining's l1: 0.878208\tvalid_1's l1: 1.18238\n",
      "[1800]\ttraining's l1: 0.877088\tvalid_1's l1: 1.18052\n",
      "[1900]\ttraining's l1: 0.875418\tvalid_1's l1: 1.17882\n",
      "[2000]\ttraining's l1: 0.87167\tvalid_1's l1: 1.17387\n",
      "[2100]\ttraining's l1: 0.867218\tvalid_1's l1: 1.16699\n",
      "[2200]\ttraining's l1: 0.866401\tvalid_1's l1: 1.16581\n",
      "[2300]\ttraining's l1: 0.863934\tvalid_1's l1: 1.16374\n",
      "[2400]\ttraining's l1: 0.862666\tvalid_1's l1: 1.16241\n",
      "[2500]\ttraining's l1: 0.860791\tvalid_1's l1: 1.16097\n",
      "[2600]\ttraining's l1: 0.85901\tvalid_1's l1: 1.16018\n",
      "[2700]\ttraining's l1: 0.856741\tvalid_1's l1: 1.15906\n",
      "[2800]\ttraining's l1: 0.852538\tvalid_1's l1: 1.15583\n",
      "[2900]\ttraining's l1: 0.850019\tvalid_1's l1: 1.15487\n",
      "[3000]\ttraining's l1: 0.849305\tvalid_1's l1: 1.15448\n",
      "Early stopping, best iteration is:\n",
      "[2944]\ttraining's l1: 0.849455\tvalid_1's l1: 1.15432\n"
     ]
    },
    {
     "name": "stderr",
     "output_type": "stream",
     "text": [
      "\u001b[32m[I 2021-07-04 20:13:40,772]\u001b[0m Trial 39 finished with value: -1.1540369089531144 and parameters: {'max_depth': 19, 'min_child_weight': 20, 'subsample': 0.7, 'colsample_bytree': 0.9, 'reg_lambda': 0.0308623741158179, 'reg_alpha': 0.42689376209859775, 'feature_fraction': 0.7041695681299609, 'bagging_fraction': 0.572994273755452, 'bagging_freq': 4}. Best is trial 18 with value: -1.1523618493451506.\u001b[0m\n"
     ]
    },
    {
     "name": "stdout",
     "output_type": "stream",
     "text": [
      "[LightGBM] [Warning] feature_fraction is set=0.7215492464011855, colsample_bytree=0.9 will be ignored. Current value: feature_fraction=0.7215492464011855\n",
      "[LightGBM] [Warning] bagging_fraction is set=0.7114782966258861, subsample=0.7 will be ignored. Current value: bagging_fraction=0.7114782966258861\n",
      "[LightGBM] [Warning] bagging_freq is set=4, subsample_freq=0 will be ignored. Current value: bagging_freq=4\n",
      "Training until validation scores don't improve for 100 rounds\n",
      "[100]\ttraining's l1: 0.896627\tvalid_1's l1: 1.22635\n",
      "[200]\ttraining's l1: 0.896063\tvalid_1's l1: 1.2248\n",
      "[300]\ttraining's l1: 0.896027\tvalid_1's l1: 1.22466\n"
     ]
    },
    {
     "name": "stderr",
     "output_type": "stream",
     "text": [
      "\u001b[32m[I 2021-07-04 20:13:49,604]\u001b[0m Trial 40 finished with value: -1.2246573516268597 and parameters: {'max_depth': 19, 'min_child_weight': 19, 'subsample': 0.7, 'colsample_bytree': 0.9, 'reg_lambda': 0.02764288812237815, 'reg_alpha': 0.03254967906591268, 'feature_fraction': 0.7215492464011855, 'bagging_fraction': 0.7114782966258861, 'bagging_freq': 4}. Best is trial 18 with value: -1.1523618493451506.\u001b[0m\n"
     ]
    },
    {
     "name": "stdout",
     "output_type": "stream",
     "text": [
      "Early stopping, best iteration is:\n",
      "[243]\ttraining's l1: 0.896027\tvalid_1's l1: 1.22466\n",
      "[LightGBM] [Warning] feature_fraction is set=0.7651930398583118, colsample_bytree=0.9 will be ignored. Current value: feature_fraction=0.7651930398583118\n",
      "[LightGBM] [Warning] bagging_fraction is set=0.5708225693038657, subsample=0.7 will be ignored. Current value: bagging_fraction=0.5708225693038657\n",
      "[LightGBM] [Warning] bagging_freq is set=3, subsample_freq=0 will be ignored. Current value: bagging_freq=3\n",
      "Training until validation scores don't improve for 100 rounds\n",
      "[100]\ttraining's l1: 0.897155\tvalid_1's l1: 1.22605\n",
      "[200]\ttraining's l1: 0.896965\tvalid_1's l1: 1.22563\n",
      "[300]\ttraining's l1: 0.896964\tvalid_1's l1: 1.22563\n",
      "[400]\ttraining's l1: 0.896657\tvalid_1's l1: 1.22494\n",
      "[500]\ttraining's l1: 0.896069\tvalid_1's l1: 1.22352\n"
     ]
    },
    {
     "name": "stderr",
     "output_type": "stream",
     "text": [
      "\u001b[32m[I 2021-07-04 20:14:03,691]\u001b[0m Trial 41 finished with value: -1.223514387577795 and parameters: {'max_depth': 19, 'min_child_weight': 20, 'subsample': 0.7, 'colsample_bytree': 0.9, 'reg_lambda': 0.10948269085838436, 'reg_alpha': 0.12594065971589818, 'feature_fraction': 0.7651930398583118, 'bagging_fraction': 0.5708225693038657, 'bagging_freq': 3}. Best is trial 18 with value: -1.1523618493451506.\u001b[0m\n"
     ]
    },
    {
     "name": "stdout",
     "output_type": "stream",
     "text": [
      "[600]\ttraining's l1: 0.896066\tvalid_1's l1: 1.22352\n",
      "Early stopping, best iteration is:\n",
      "[503]\ttraining's l1: 0.896069\tvalid_1's l1: 1.22351\n",
      "[LightGBM] [Warning] feature_fraction is set=0.6834203704622793, colsample_bytree=0.9 will be ignored. Current value: feature_fraction=0.6834203704622793\n",
      "[LightGBM] [Warning] bagging_fraction is set=0.5354467345774847, subsample=0.7 will be ignored. Current value: bagging_fraction=0.5354467345774847\n",
      "[LightGBM] [Warning] bagging_freq is set=6, subsample_freq=0 will be ignored. Current value: bagging_freq=6\n",
      "Training until validation scores don't improve for 100 rounds\n",
      "[100]\ttraining's l1: 0.897032\tvalid_1's l1: 1.2244\n",
      "[200]\ttraining's l1: 0.896296\tvalid_1's l1: 1.22324\n"
     ]
    },
    {
     "name": "stderr",
     "output_type": "stream",
     "text": [
      "\u001b[32m[I 2021-07-04 20:14:10,137]\u001b[0m Trial 42 finished with value: -1.2232277646325123 and parameters: {'max_depth': 16, 'min_child_weight': 20, 'subsample': 0.7, 'colsample_bytree': 0.9, 'reg_lambda': 0.003513258649472402, 'reg_alpha': 0.39532042879343987, 'feature_fraction': 0.6834203704622793, 'bagging_fraction': 0.5354467345774847, 'bagging_freq': 6}. Best is trial 18 with value: -1.1523618493451506.\u001b[0m\n"
     ]
    },
    {
     "name": "stdout",
     "output_type": "stream",
     "text": [
      "[300]\ttraining's l1: 0.896296\tvalid_1's l1: 1.22324\n",
      "Early stopping, best iteration is:\n",
      "[203]\ttraining's l1: 0.896296\tvalid_1's l1: 1.22324\n",
      "[LightGBM] [Warning] feature_fraction is set=0.7546716977507587, colsample_bytree=0.9 will be ignored. Current value: feature_fraction=0.7546716977507587\n",
      "[LightGBM] [Warning] bagging_fraction is set=0.49834490348809923, subsample=0.5 will be ignored. Current value: bagging_fraction=0.49834490348809923\n",
      "[LightGBM] [Warning] bagging_freq is set=4, subsample_freq=0 will be ignored. Current value: bagging_freq=4\n",
      "Training until validation scores don't improve for 100 rounds\n",
      "[100]\ttraining's l1: 0.89672\tvalid_1's l1: 1.22566\n",
      "[200]\ttraining's l1: 0.895259\tvalid_1's l1: 1.2228\n",
      "[300]\ttraining's l1: 0.894951\tvalid_1's l1: 1.2221\n",
      "[400]\ttraining's l1: 0.894703\tvalid_1's l1: 1.22138\n",
      "[500]\ttraining's l1: 0.892497\tvalid_1's l1: 1.21655\n",
      "[600]\ttraining's l1: 0.892126\tvalid_1's l1: 1.21515\n",
      "[700]\ttraining's l1: 0.891956\tvalid_1's l1: 1.21472\n",
      "[800]\ttraining's l1: 0.890698\tvalid_1's l1: 1.21197\n",
      "[900]\ttraining's l1: 0.887373\tvalid_1's l1: 1.2032\n",
      "[1000]\ttraining's l1: 0.886257\tvalid_1's l1: 1.20079\n",
      "[1100]\ttraining's l1: 0.884255\tvalid_1's l1: 1.19533\n",
      "[1200]\ttraining's l1: 0.881214\tvalid_1's l1: 1.18823\n",
      "[1300]\ttraining's l1: 0.880805\tvalid_1's l1: 1.18771\n",
      "[1400]\ttraining's l1: 0.879352\tvalid_1's l1: 1.18464\n",
      "[1500]\ttraining's l1: 0.877667\tvalid_1's l1: 1.18229\n",
      "[1600]\ttraining's l1: 0.874231\tvalid_1's l1: 1.17492\n",
      "[1700]\ttraining's l1: 0.872412\tvalid_1's l1: 1.17276\n",
      "[1800]\ttraining's l1: 0.870218\tvalid_1's l1: 1.1693\n",
      "[1900]\ttraining's l1: 0.86891\tvalid_1's l1: 1.16825\n",
      "[2000]\ttraining's l1: 0.868309\tvalid_1's l1: 1.16716\n",
      "[2100]\ttraining's l1: 0.866492\tvalid_1's l1: 1.16545\n",
      "[2200]\ttraining's l1: 0.862623\tvalid_1's l1: 1.16157\n",
      "[2300]\ttraining's l1: 0.860832\tvalid_1's l1: 1.15975\n",
      "[2400]\ttraining's l1: 0.860012\tvalid_1's l1: 1.15902\n",
      "[2500]\ttraining's l1: 0.858508\tvalid_1's l1: 1.15815\n",
      "[2600]\ttraining's l1: 0.853006\tvalid_1's l1: 1.15527\n",
      "[2700]\ttraining's l1: 0.852298\tvalid_1's l1: 1.15515\n",
      "[2800]\ttraining's l1: 0.851359\tvalid_1's l1: 1.15458\n",
      "[2900]\ttraining's l1: 0.849575\tvalid_1's l1: 1.15421\n",
      "Early stopping, best iteration is:\n",
      "[2853]\ttraining's l1: 0.851082\tvalid_1's l1: 1.15391\n"
     ]
    },
    {
     "name": "stderr",
     "output_type": "stream",
     "text": [
      "\u001b[32m[I 2021-07-04 20:15:02,892]\u001b[0m Trial 43 finished with value: -1.1537484848967552 and parameters: {'max_depth': 18, 'min_child_weight': 19, 'subsample': 0.5, 'colsample_bytree': 0.9, 'reg_lambda': 0.31265422243922997, 'reg_alpha': 1.7438282097589932, 'feature_fraction': 0.7546716977507587, 'bagging_fraction': 0.49834490348809923, 'bagging_freq': 4}. Best is trial 18 with value: -1.1523618493451506.\u001b[0m\n"
     ]
    },
    {
     "name": "stdout",
     "output_type": "stream",
     "text": [
      "[LightGBM] [Warning] feature_fraction is set=0.7975754412151028, colsample_bytree=0.9 will be ignored. Current value: feature_fraction=0.7975754412151028\n",
      "[LightGBM] [Warning] bagging_fraction is set=0.5035196872918333, subsample=0.7 will be ignored. Current value: bagging_fraction=0.5035196872918333\n",
      "[LightGBM] [Warning] bagging_freq is set=4, subsample_freq=0 will be ignored. Current value: bagging_freq=4\n",
      "Training until validation scores don't improve for 100 rounds\n",
      "[100]\ttraining's l1: 0.897615\tvalid_1's l1: 1.22754\n",
      "[200]\ttraining's l1: 0.897536\tvalid_1's l1: 1.22736\n"
     ]
    },
    {
     "name": "stderr",
     "output_type": "stream",
     "text": [
      "\u001b[32m[I 2021-07-04 20:15:09,587]\u001b[0m Trial 44 finished with value: -1.2273592601186472 and parameters: {'max_depth': 18, 'min_child_weight': 17, 'subsample': 0.7, 'colsample_bytree': 0.9, 'reg_lambda': 0.04922782581704739, 'reg_alpha': 1.7862524873260166, 'feature_fraction': 0.7975754412151028, 'bagging_fraction': 0.5035196872918333, 'bagging_freq': 4}. Best is trial 18 with value: -1.1523618493451506.\u001b[0m\n"
     ]
    },
    {
     "name": "stdout",
     "output_type": "stream",
     "text": [
      "[300]\ttraining's l1: 0.897534\tvalid_1's l1: 1.22736\n",
      "Early stopping, best iteration is:\n",
      "[201]\ttraining's l1: 0.897536\tvalid_1's l1: 1.22736\n",
      "[LightGBM] [Warning] feature_fraction is set=0.7536182508527018, colsample_bytree=0.9 will be ignored. Current value: feature_fraction=0.7536182508527018\n",
      "[LightGBM] [Warning] bagging_fraction is set=0.4046751799502604, subsample=0.8 will be ignored. Current value: bagging_fraction=0.4046751799502604\n",
      "[LightGBM] [Warning] bagging_freq is set=2, subsample_freq=0 will be ignored. Current value: bagging_freq=2\n",
      "Training until validation scores don't improve for 100 rounds\n",
      "[100]\ttraining's l1: 0.89655\tvalid_1's l1: 1.22347\n"
     ]
    },
    {
     "name": "stderr",
     "output_type": "stream",
     "text": [
      "\u001b[32m[I 2021-07-04 20:15:14,298]\u001b[0m Trial 45 finished with value: -1.223453344480603 and parameters: {'max_depth': 19, 'min_child_weight': 19, 'subsample': 0.8, 'colsample_bytree': 0.9, 'reg_lambda': 0.2937006171229383, 'reg_alpha': 1.3232761828933528, 'feature_fraction': 0.7536182508527018, 'bagging_fraction': 0.4046751799502604, 'bagging_freq': 2}. Best is trial 18 with value: -1.1523618493451506.\u001b[0m\n"
     ]
    },
    {
     "name": "stdout",
     "output_type": "stream",
     "text": [
      "Early stopping, best iteration is:\n",
      "[75]\ttraining's l1: 0.89657\tvalid_1's l1: 1.22345\n",
      "[LightGBM] [Warning] feature_fraction is set=0.8296661732285662, colsample_bytree=0.9 will be ignored. Current value: feature_fraction=0.8296661732285662\n",
      "[LightGBM] [Warning] bagging_fraction is set=0.4751775983806785, subsample=0.6 will be ignored. Current value: bagging_fraction=0.4751775983806785\n",
      "[LightGBM] [Warning] bagging_freq is set=5, subsample_freq=0 will be ignored. Current value: bagging_freq=5\n",
      "Training until validation scores don't improve for 100 rounds\n",
      "[100]\ttraining's l1: 0.898465\tvalid_1's l1: 1.22972\n",
      "[200]\ttraining's l1: 0.898288\tvalid_1's l1: 1.22936\n"
     ]
    },
    {
     "name": "stderr",
     "output_type": "stream",
     "text": [
      "\u001b[32m[I 2021-07-04 20:15:20,142]\u001b[0m Trial 46 finished with value: -1.229362336694882 and parameters: {'max_depth': 20, 'min_child_weight': 18, 'subsample': 0.6, 'colsample_bytree': 0.9, 'reg_lambda': 0.0812158753806801, 'reg_alpha': 3.4485211848578396, 'feature_fraction': 0.8296661732285662, 'bagging_fraction': 0.4751775983806785, 'bagging_freq': 5}. Best is trial 18 with value: -1.1523618493451506.\u001b[0m\n"
     ]
    },
    {
     "name": "stdout",
     "output_type": "stream",
     "text": [
      "Early stopping, best iteration is:\n",
      "[178]\ttraining's l1: 0.898289\tvalid_1's l1: 1.22936\n",
      "[LightGBM] [Warning] feature_fraction is set=0.6854515105826877, colsample_bytree=0.8 will be ignored. Current value: feature_fraction=0.6854515105826877\n",
      "[LightGBM] [Warning] bagging_fraction is set=0.43801292215469817, subsample=0.5 will be ignored. Current value: bagging_fraction=0.43801292215469817\n",
      "[LightGBM] [Warning] bagging_freq is set=4, subsample_freq=0 will be ignored. Current value: bagging_freq=4\n",
      "Training until validation scores don't improve for 100 rounds\n",
      "[100]\ttraining's l1: 0.895386\tvalid_1's l1: 1.22383\n",
      "[200]\ttraining's l1: 0.894654\tvalid_1's l1: 1.22219\n",
      "[300]\ttraining's l1: 0.893993\tvalid_1's l1: 1.22119\n",
      "[400]\ttraining's l1: 0.893827\tvalid_1's l1: 1.22087\n",
      "[500]\ttraining's l1: 0.893667\tvalid_1's l1: 1.2206\n",
      "[600]\ttraining's l1: 0.89266\tvalid_1's l1: 1.21737\n",
      "[700]\ttraining's l1: 0.89202\tvalid_1's l1: 1.216\n",
      "[800]\ttraining's l1: 0.891353\tvalid_1's l1: 1.21411\n",
      "[900]\ttraining's l1: 0.890776\tvalid_1's l1: 1.21275\n",
      "[1000]\ttraining's l1: 0.890187\tvalid_1's l1: 1.21031\n",
      "[1100]\ttraining's l1: 0.886838\tvalid_1's l1: 1.20226\n",
      "[1200]\ttraining's l1: 0.885249\tvalid_1's l1: 1.19842\n",
      "[1300]\ttraining's l1: 0.882388\tvalid_1's l1: 1.19134\n",
      "[1400]\ttraining's l1: 0.881669\tvalid_1's l1: 1.18981\n",
      "[1500]\ttraining's l1: 0.88122\tvalid_1's l1: 1.18891\n",
      "Early stopping, best iteration is:\n",
      "[1437]\ttraining's l1: 0.881269\tvalid_1's l1: 1.18884\n"
     ]
    },
    {
     "name": "stderr",
     "output_type": "stream",
     "text": [
      "\u001b[32m[I 2021-07-04 20:15:46,765]\u001b[0m Trial 47 finished with value: -1.1887984993682874 and parameters: {'max_depth': 9, 'min_child_weight': 15, 'subsample': 0.5, 'colsample_bytree': 0.8, 'reg_lambda': 0.3812187167275957, 'reg_alpha': 0.7112676157874069, 'feature_fraction': 0.6854515105826877, 'bagging_fraction': 0.43801292215469817, 'bagging_freq': 4}. Best is trial 18 with value: -1.1523618493451506.\u001b[0m\n"
     ]
    },
    {
     "name": "stdout",
     "output_type": "stream",
     "text": [
      "[LightGBM] [Warning] feature_fraction is set=0.6375528137094634, colsample_bytree=0.9 will be ignored. Current value: feature_fraction=0.6375528137094634\n",
      "[LightGBM] [Warning] bagging_fraction is set=0.8014545286073552, subsample=0.8 will be ignored. Current value: bagging_fraction=0.8014545286073552\n",
      "[LightGBM] [Warning] bagging_freq is set=2, subsample_freq=0 will be ignored. Current value: bagging_freq=2\n",
      "Training until validation scores don't improve for 100 rounds\n",
      "[100]\ttraining's l1: 0.894886\tvalid_1's l1: 1.22226\n",
      "[200]\ttraining's l1: 0.894845\tvalid_1's l1: 1.22225\n",
      "[300]\ttraining's l1: 0.89484\tvalid_1's l1: 1.22222\n",
      "[400]\ttraining's l1: 0.894837\tvalid_1's l1: 1.22221\n"
     ]
    },
    {
     "name": "stderr",
     "output_type": "stream",
     "text": [
      "\u001b[32m[I 2021-07-04 20:16:01,218]\u001b[0m Trial 48 finished with value: -1.222194850597609 and parameters: {'max_depth': 18, 'min_child_weight': 19, 'subsample': 0.8, 'colsample_bytree': 0.9, 'reg_lambda': 0.0017161449173121559, 'reg_alpha': 0.1209800295986662, 'feature_fraction': 0.6375528137094634, 'bagging_fraction': 0.8014545286073552, 'bagging_freq': 2}. Best is trial 18 with value: -1.1523618493451506.\u001b[0m\n"
     ]
    },
    {
     "name": "stdout",
     "output_type": "stream",
     "text": [
      "Early stopping, best iteration is:\n",
      "[331]\ttraining's l1: 0.894838\tvalid_1's l1: 1.22221\n",
      "[LightGBM] [Warning] feature_fraction is set=0.7089783918277459, colsample_bytree=0.7 will be ignored. Current value: feature_fraction=0.7089783918277459\n",
      "[LightGBM] [Warning] bagging_fraction is set=0.5318518520251182, subsample=0.7 will be ignored. Current value: bagging_fraction=0.5318518520251182\n",
      "[LightGBM] [Warning] bagging_freq is set=5, subsample_freq=0 will be ignored. Current value: bagging_freq=5\n",
      "Training until validation scores don't improve for 100 rounds\n",
      "[100]\ttraining's l1: 0.897785\tvalid_1's l1: 1.2275\n",
      "[200]\ttraining's l1: 0.896971\tvalid_1's l1: 1.22531\n"
     ]
    },
    {
     "name": "stderr",
     "output_type": "stream",
     "text": [
      "\u001b[32m[I 2021-07-04 20:16:07,265]\u001b[0m Trial 49 finished with value: -1.2253139047957013 and parameters: {'max_depth': 16, 'min_child_weight': 16, 'subsample': 0.7, 'colsample_bytree': 0.7, 'reg_lambda': 0.024982717297502125, 'reg_alpha': 0.00568002037809531, 'feature_fraction': 0.7089783918277459, 'bagging_fraction': 0.5318518520251182, 'bagging_freq': 5}. Best is trial 18 with value: -1.1523618493451506.\u001b[0m\n"
     ]
    },
    {
     "name": "stdout",
     "output_type": "stream",
     "text": [
      "Early stopping, best iteration is:\n",
      "[175]\ttraining's l1: 0.896971\tvalid_1's l1: 1.22531\n",
      "[LightGBM] [Warning] feature_fraction is set=0.7423315418917744, colsample_bytree=0.8 will be ignored. Current value: feature_fraction=0.7423315418917744\n",
      "[LightGBM] [Warning] bagging_fraction is set=0.5355731121418528, subsample=0.6 will be ignored. Current value: bagging_fraction=0.5355731121418528\n",
      "[LightGBM] [Warning] bagging_freq is set=3, subsample_freq=0 will be ignored. Current value: bagging_freq=3\n",
      "Training until validation scores don't improve for 100 rounds\n",
      "[100]\ttraining's l1: 0.897858\tvalid_1's l1: 1.2279\n",
      "[200]\ttraining's l1: 0.896098\tvalid_1's l1: 1.22361\n",
      "[300]\ttraining's l1: 0.896097\tvalid_1's l1: 1.22361\n",
      "[400]\ttraining's l1: 0.896089\tvalid_1's l1: 1.22359\n",
      "[500]\ttraining's l1: 0.894554\tvalid_1's l1: 1.22077\n",
      "[600]\ttraining's l1: 0.892198\tvalid_1's l1: 1.21463\n",
      "[700]\ttraining's l1: 0.892128\tvalid_1's l1: 1.21453\n",
      "[800]\ttraining's l1: 0.89015\tvalid_1's l1: 1.20914\n",
      "[900]\ttraining's l1: 0.887794\tvalid_1's l1: 1.20409\n",
      "[1000]\ttraining's l1: 0.887345\tvalid_1's l1: 1.20299\n",
      "[1100]\ttraining's l1: 0.884227\tvalid_1's l1: 1.19581\n",
      "[1200]\ttraining's l1: 0.883495\tvalid_1's l1: 1.19497\n",
      "[1300]\ttraining's l1: 0.880822\tvalid_1's l1: 1.19154\n",
      "[1400]\ttraining's l1: 0.879171\tvalid_1's l1: 1.18654\n",
      "[1500]\ttraining's l1: 0.877729\tvalid_1's l1: 1.18343\n",
      "[1600]\ttraining's l1: 0.875795\tvalid_1's l1: 1.17991\n",
      "[1700]\ttraining's l1: 0.875331\tvalid_1's l1: 1.1792\n",
      "[1800]\ttraining's l1: 0.874122\tvalid_1's l1: 1.17791\n",
      "[1900]\ttraining's l1: 0.872072\tvalid_1's l1: 1.17498\n",
      "[2000]\ttraining's l1: 0.869216\tvalid_1's l1: 1.17148\n",
      "[2100]\ttraining's l1: 0.866941\tvalid_1's l1: 1.16762\n",
      "[2200]\ttraining's l1: 0.864648\tvalid_1's l1: 1.16578\n",
      "[2300]\ttraining's l1: 0.863652\tvalid_1's l1: 1.16482\n",
      "[2400]\ttraining's l1: 0.862665\tvalid_1's l1: 1.16465\n",
      "[2500]\ttraining's l1: 0.860341\tvalid_1's l1: 1.1615\n",
      "[2600]\ttraining's l1: 0.858486\tvalid_1's l1: 1.16009\n",
      "[2700]\ttraining's l1: 0.857053\tvalid_1's l1: 1.1582\n",
      "[2800]\ttraining's l1: 0.854895\tvalid_1's l1: 1.15735\n",
      "[2900]\ttraining's l1: 0.852026\tvalid_1's l1: 1.15577\n",
      "[3000]\ttraining's l1: 0.850984\tvalid_1's l1: 1.15547\n",
      "[3100]\ttraining's l1: 0.848328\tvalid_1's l1: 1.15327\n",
      "[3200]\ttraining's l1: 0.847743\tvalid_1's l1: 1.15287\n",
      "[3300]\ttraining's l1: 0.847308\tvalid_1's l1: 1.15309\n",
      "Early stopping, best iteration is:\n",
      "[3218]\ttraining's l1: 0.847434\tvalid_1's l1: 1.15275\n"
     ]
    },
    {
     "name": "stderr",
     "output_type": "stream",
     "text": [
      "\u001b[32m[I 2021-07-04 20:17:13,827]\u001b[0m Trial 50 finished with value: -1.1525180442576828 and parameters: {'max_depth': 17, 'min_child_weight': 3, 'subsample': 0.6, 'colsample_bytree': 0.8, 'reg_lambda': 0.006805564421847222, 'reg_alpha': 3.912453901021154, 'feature_fraction': 0.7423315418917744, 'bagging_fraction': 0.5355731121418528, 'bagging_freq': 3}. Best is trial 18 with value: -1.1523618493451506.\u001b[0m\n"
     ]
    },
    {
     "name": "stdout",
     "output_type": "stream",
     "text": [
      "[LightGBM] [Warning] feature_fraction is set=0.7540951537253449, colsample_bytree=0.8 will be ignored. Current value: feature_fraction=0.7540951537253449\n",
      "[LightGBM] [Warning] bagging_fraction is set=0.5398592065977524, subsample=0.6 will be ignored. Current value: bagging_fraction=0.5398592065977524\n",
      "[LightGBM] [Warning] bagging_freq is set=3, subsample_freq=0 will be ignored. Current value: bagging_freq=3\n",
      "Training until validation scores don't improve for 100 rounds\n",
      "[100]\ttraining's l1: 0.897125\tvalid_1's l1: 1.2265\n",
      "[200]\ttraining's l1: 0.89679\tvalid_1's l1: 1.22546\n"
     ]
    },
    {
     "name": "stderr",
     "output_type": "stream",
     "text": [
      "\u001b[32m[I 2021-07-04 20:17:20,491]\u001b[0m Trial 51 finished with value: -1.2254601289050968 and parameters: {'max_depth': 17, 'min_child_weight': 3, 'subsample': 0.6, 'colsample_bytree': 0.8, 'reg_lambda': 0.0065606627760018445, 'reg_alpha': 3.730559952197893, 'feature_fraction': 0.7540951537253449, 'bagging_fraction': 0.5398592065977524, 'bagging_freq': 3}. Best is trial 18 with value: -1.1523618493451506.\u001b[0m\n"
     ]
    },
    {
     "name": "stdout",
     "output_type": "stream",
     "text": [
      "Early stopping, best iteration is:\n",
      "[168]\ttraining's l1: 0.896792\tvalid_1's l1: 1.22546\n",
      "[LightGBM] [Warning] feature_fraction is set=0.7852886379237293, colsample_bytree=0.6 will be ignored. Current value: feature_fraction=0.7852886379237293\n",
      "[LightGBM] [Warning] bagging_fraction is set=0.4310534702253792, subsample=0.5 will be ignored. Current value: bagging_fraction=0.4310534702253792\n",
      "[LightGBM] [Warning] bagging_freq is set=3, subsample_freq=0 will be ignored. Current value: bagging_freq=3\n",
      "Training until validation scores don't improve for 100 rounds\n",
      "[100]\ttraining's l1: 0.897516\tvalid_1's l1: 1.22768\n",
      "[200]\ttraining's l1: 0.895611\tvalid_1's l1: 1.22402\n",
      "[300]\ttraining's l1: 0.89561\tvalid_1's l1: 1.22401\n"
     ]
    },
    {
     "name": "stderr",
     "output_type": "stream",
     "text": [
      "\u001b[32m[I 2021-07-04 20:17:28,871]\u001b[0m Trial 52 finished with value: -1.2240134665057116 and parameters: {'max_depth': 19, 'min_child_weight': 6, 'subsample': 0.5, 'colsample_bytree': 0.6, 'reg_lambda': 0.014303754124015662, 'reg_alpha': 1.136307330860625, 'feature_fraction': 0.7852886379237293, 'bagging_fraction': 0.4310534702253792, 'bagging_freq': 3}. Best is trial 18 with value: -1.1523618493451506.\u001b[0m\n"
     ]
    },
    {
     "name": "stdout",
     "output_type": "stream",
     "text": [
      "Early stopping, best iteration is:\n",
      "[298]\ttraining's l1: 0.89561\tvalid_1's l1: 1.22401\n",
      "[LightGBM] [Warning] feature_fraction is set=0.8159403747228053, colsample_bytree=0.8 will be ignored. Current value: feature_fraction=0.8159403747228053\n",
      "[LightGBM] [Warning] bagging_fraction is set=0.6493691413572085, subsample=0.7 will be ignored. Current value: bagging_fraction=0.6493691413572085\n",
      "[LightGBM] [Warning] bagging_freq is set=4, subsample_freq=0 will be ignored. Current value: bagging_freq=4\n",
      "Training until validation scores don't improve for 100 rounds\n",
      "[100]\ttraining's l1: 0.897882\tvalid_1's l1: 1.22825\n",
      "[200]\ttraining's l1: 0.897197\tvalid_1's l1: 1.22671\n",
      "[300]\ttraining's l1: 0.89638\tvalid_1's l1: 1.22515\n"
     ]
    },
    {
     "name": "stderr",
     "output_type": "stream",
     "text": [
      "\u001b[32m[I 2021-07-04 20:17:38,049]\u001b[0m Trial 53 finished with value: -1.2251455955977888 and parameters: {'max_depth': 16, 'min_child_weight': 7, 'subsample': 0.7, 'colsample_bytree': 0.8, 'reg_lambda': 0.005045965241075103, 'reg_alpha': 5.51622663747477, 'feature_fraction': 0.8159403747228053, 'bagging_fraction': 0.6493691413572085, 'bagging_freq': 4}. Best is trial 18 with value: -1.1523618493451506.\u001b[0m\n"
     ]
    },
    {
     "name": "stdout",
     "output_type": "stream",
     "text": [
      "Early stopping, best iteration is:\n",
      "[274]\ttraining's l1: 0.896381\tvalid_1's l1: 1.22515\n",
      "[LightGBM] [Warning] feature_fraction is set=0.7414826617948841, colsample_bytree=0.9 will be ignored. Current value: feature_fraction=0.7414826617948841\n",
      "[LightGBM] [Warning] bagging_fraction is set=0.6926740792720261, subsample=0.6 will be ignored. Current value: bagging_fraction=0.6926740792720261\n",
      "[LightGBM] [Warning] bagging_freq is set=2, subsample_freq=0 will be ignored. Current value: bagging_freq=2\n",
      "Training until validation scores don't improve for 100 rounds\n",
      "[100]\ttraining's l1: 0.888005\tvalid_1's l1: 1.20828\n",
      "[200]\ttraining's l1: 0.886646\tvalid_1's l1: 1.20463\n"
     ]
    },
    {
     "name": "stderr",
     "output_type": "stream",
     "text": [
      "\u001b[32m[I 2021-07-04 20:17:46,549]\u001b[0m Trial 54 finished with value: -1.204618540537569 and parameters: {'max_depth': 7, 'min_child_weight': 1, 'subsample': 0.6, 'colsample_bytree': 0.9, 'reg_lambda': 0.0021815438419858666, 'reg_alpha': 0.545166602330074, 'feature_fraction': 0.7414826617948841, 'bagging_fraction': 0.6926740792720261, 'bagging_freq': 2}. Best is trial 18 with value: -1.1523618493451506.\u001b[0m\n"
     ]
    },
    {
     "name": "stdout",
     "output_type": "stream",
     "text": [
      "Early stopping, best iteration is:\n",
      "[174]\ttraining's l1: 0.886648\tvalid_1's l1: 1.20463\n",
      "[LightGBM] [Warning] feature_fraction is set=0.8636255553108068, colsample_bytree=0.9 will be ignored. Current value: feature_fraction=0.8636255553108068\n",
      "[LightGBM] [Warning] bagging_fraction is set=0.5196071528188677, subsample=0.7 will be ignored. Current value: bagging_fraction=0.5196071528188677\n",
      "[LightGBM] [Warning] bagging_freq is set=4, subsample_freq=0 will be ignored. Current value: bagging_freq=4\n",
      "Training until validation scores don't improve for 100 rounds\n",
      "[100]\ttraining's l1: 0.898082\tvalid_1's l1: 1.22787\n",
      "[200]\ttraining's l1: 0.897146\tvalid_1's l1: 1.2249\n"
     ]
    },
    {
     "name": "stderr",
     "output_type": "stream",
     "text": [
      "\u001b[32m[I 2021-07-04 20:17:52,982]\u001b[0m Trial 55 finished with value: -1.224891912264399 and parameters: {'max_depth': 14, 'min_child_weight': 9, 'subsample': 0.7, 'colsample_bytree': 0.9, 'reg_lambda': 0.12127414128280105, 'reg_alpha': 1.2313738580559142, 'feature_fraction': 0.8636255553108068, 'bagging_fraction': 0.5196071528188677, 'bagging_freq': 4}. Best is trial 18 with value: -1.1523618493451506.\u001b[0m\n"
     ]
    },
    {
     "name": "stdout",
     "output_type": "stream",
     "text": [
      "Early stopping, best iteration is:\n",
      "[183]\ttraining's l1: 0.897165\tvalid_1's l1: 1.22489\n",
      "[LightGBM] [Warning] feature_fraction is set=0.5788590378477023, colsample_bytree=0.7 will be ignored. Current value: feature_fraction=0.5788590378477023\n",
      "[LightGBM] [Warning] bagging_fraction is set=0.585277235033923, subsample=0.8 will be ignored. Current value: bagging_fraction=0.585277235033923\n",
      "[LightGBM] [Warning] bagging_freq is set=5, subsample_freq=0 will be ignored. Current value: bagging_freq=5\n",
      "Training until validation scores don't improve for 100 rounds\n",
      "[100]\ttraining's l1: 0.897101\tvalid_1's l1: 1.22492\n",
      "[200]\ttraining's l1: 0.897057\tvalid_1's l1: 1.22484\n"
     ]
    },
    {
     "name": "stderr",
     "output_type": "stream",
     "text": [
      "\u001b[32m[I 2021-07-04 20:18:00,807]\u001b[0m Trial 56 finished with value: -1.2244776160106179 and parameters: {'max_depth': 18, 'min_child_weight': 18, 'subsample': 0.8, 'colsample_bytree': 0.7, 'reg_lambda': 0.9953063170230108, 'reg_alpha': 0.15959964450249323, 'feature_fraction': 0.5788590378477023, 'bagging_fraction': 0.585277235033923, 'bagging_freq': 5}. Best is trial 18 with value: -1.1523618493451506.\u001b[0m\n"
     ]
    },
    {
     "name": "stdout",
     "output_type": "stream",
     "text": [
      "[300]\ttraining's l1: 0.896975\tvalid_1's l1: 1.22449\n",
      "Early stopping, best iteration is:\n",
      "[203]\ttraining's l1: 0.896978\tvalid_1's l1: 1.22449\n",
      "[LightGBM] [Warning] feature_fraction is set=0.691712759638425, colsample_bytree=0.8 will be ignored. Current value: feature_fraction=0.691712759638425\n",
      "[LightGBM] [Warning] bagging_fraction is set=0.4928046664214302, subsample=0.6 will be ignored. Current value: bagging_fraction=0.4928046664214302\n",
      "[LightGBM] [Warning] bagging_freq is set=1, subsample_freq=0 will be ignored. Current value: bagging_freq=1\n",
      "Training until validation scores don't improve for 100 rounds\n",
      "[100]\ttraining's l1: 0.894182\tvalid_1's l1: 1.21684\n",
      "[200]\ttraining's l1: 0.894161\tvalid_1's l1: 1.21681\n",
      "[300]\ttraining's l1: 0.894145\tvalid_1's l1: 1.21677\n"
     ]
    },
    {
     "name": "stderr",
     "output_type": "stream",
     "text": [
      "\u001b[32m[I 2021-07-04 20:18:12,646]\u001b[0m Trial 57 finished with value: -1.2167570577775009 and parameters: {'max_depth': 18, 'min_child_weight': 4, 'subsample': 0.6, 'colsample_bytree': 0.8, 'reg_lambda': 0.010523734367789007, 'reg_alpha': 74.26504830751884, 'feature_fraction': 0.691712759638425, 'bagging_fraction': 0.4928046664214302, 'bagging_freq': 1}. Best is trial 18 with value: -1.1523618493451506.\u001b[0m\n"
     ]
    },
    {
     "name": "stdout",
     "output_type": "stream",
     "text": [
      "Early stopping, best iteration is:\n",
      "[239]\ttraining's l1: 0.894147\tvalid_1's l1: 1.21677\n",
      "[LightGBM] [Warning] feature_fraction is set=0.7302365186644394, colsample_bytree=0.9 will be ignored. Current value: feature_fraction=0.7302365186644394\n",
      "[LightGBM] [Warning] bagging_fraction is set=0.6175629328393193, subsample=0.5 will be ignored. Current value: bagging_fraction=0.6175629328393193\n",
      "[LightGBM] [Warning] bagging_freq is set=3, subsample_freq=0 will be ignored. Current value: bagging_freq=3\n",
      "Training until validation scores don't improve for 100 rounds\n",
      "[100]\ttraining's l1: 0.89697\tvalid_1's l1: 1.22541\n",
      "[200]\ttraining's l1: 0.895645\tvalid_1's l1: 1.22288\n",
      "[300]\ttraining's l1: 0.895083\tvalid_1's l1: 1.22187\n",
      "[400]\ttraining's l1: 0.894613\tvalid_1's l1: 1.22097\n",
      "[500]\ttraining's l1: 0.894439\tvalid_1's l1: 1.22051\n",
      "[600]\ttraining's l1: 0.894273\tvalid_1's l1: 1.22015\n",
      "[700]\ttraining's l1: 0.893546\tvalid_1's l1: 1.21854\n",
      "[800]\ttraining's l1: 0.889522\tvalid_1's l1: 1.20778\n",
      "[900]\ttraining's l1: 0.889422\tvalid_1's l1: 1.20768\n",
      "[1000]\ttraining's l1: 0.886023\tvalid_1's l1: 1.19844\n",
      "[1100]\ttraining's l1: 0.88414\tvalid_1's l1: 1.19558\n",
      "[1200]\ttraining's l1: 0.882969\tvalid_1's l1: 1.19232\n",
      "[1300]\ttraining's l1: 0.881734\tvalid_1's l1: 1.18962\n",
      "[1400]\ttraining's l1: 0.880526\tvalid_1's l1: 1.1867\n",
      "[1500]\ttraining's l1: 0.878518\tvalid_1's l1: 1.18275\n",
      "[1600]\ttraining's l1: 0.875825\tvalid_1's l1: 1.17836\n",
      "[1700]\ttraining's l1: 0.874577\tvalid_1's l1: 1.17556\n",
      "[1800]\ttraining's l1: 0.872138\tvalid_1's l1: 1.17162\n",
      "[1900]\ttraining's l1: 0.869741\tvalid_1's l1: 1.16937\n",
      "[2000]\ttraining's l1: 0.868355\tvalid_1's l1: 1.16764\n",
      "[2100]\ttraining's l1: 0.866178\tvalid_1's l1: 1.16532\n",
      "[2200]\ttraining's l1: 0.865486\tvalid_1's l1: 1.16419\n",
      "[2300]\ttraining's l1: 0.863769\tvalid_1's l1: 1.16195\n",
      "[2400]\ttraining's l1: 0.861994\tvalid_1's l1: 1.16083\n",
      "[2500]\ttraining's l1: 0.860257\tvalid_1's l1: 1.15914\n",
      "[2600]\ttraining's l1: 0.858651\tvalid_1's l1: 1.15666\n",
      "[2700]\ttraining's l1: 0.857691\tvalid_1's l1: 1.15626\n",
      "[2800]\ttraining's l1: 0.857398\tvalid_1's l1: 1.15601\n",
      "[2900]\ttraining's l1: 0.856213\tvalid_1's l1: 1.15612\n",
      "Early stopping, best iteration is:\n",
      "[2803]\ttraining's l1: 0.85737\tvalid_1's l1: 1.15597\n"
     ]
    },
    {
     "name": "stderr",
     "output_type": "stream",
     "text": [
      "\u001b[32m[I 2021-07-04 20:19:16,757]\u001b[0m Trial 58 finished with value: -1.15580192344793 and parameters: {'max_depth': 20, 'min_child_weight': 19, 'subsample': 0.5, 'colsample_bytree': 0.9, 'reg_lambda': 0.044193356656069306, 'reg_alpha': 10.508249786446711, 'feature_fraction': 0.7302365186644394, 'bagging_fraction': 0.6175629328393193, 'bagging_freq': 3}. Best is trial 18 with value: -1.1523618493451506.\u001b[0m\n"
     ]
    },
    {
     "name": "stdout",
     "output_type": "stream",
     "text": [
      "[LightGBM] [Warning] feature_fraction is set=0.6479395290237071, colsample_bytree=0.8 will be ignored. Current value: feature_fraction=0.6479395290237071\n",
      "[LightGBM] [Warning] bagging_fraction is set=0.5488916310520731, subsample=0.6 will be ignored. Current value: bagging_fraction=0.5488916310520731\n",
      "[LightGBM] [Warning] bagging_freq is set=5, subsample_freq=0 will be ignored. Current value: bagging_freq=5\n",
      "Training until validation scores don't improve for 100 rounds\n",
      "[100]\ttraining's l1: 0.896695\tvalid_1's l1: 1.22465\n",
      "[200]\ttraining's l1: 0.894751\tvalid_1's l1: 1.22062\n"
     ]
    },
    {
     "name": "stderr",
     "output_type": "stream",
     "text": [
      "\u001b[32m[I 2021-07-04 20:19:22,971]\u001b[0m Trial 59 finished with value: -1.2206086263045766 and parameters: {'max_depth': 14, 'min_child_weight': 8, 'subsample': 0.6, 'colsample_bytree': 0.8, 'reg_lambda': 0.01857846581433971, 'reg_alpha': 0.055666382671599686, 'feature_fraction': 0.6479395290237071, 'bagging_fraction': 0.5488916310520731, 'bagging_freq': 5}. Best is trial 18 with value: -1.1523618493451506.\u001b[0m\n"
     ]
    },
    {
     "name": "stdout",
     "output_type": "stream",
     "text": [
      "Early stopping, best iteration is:\n",
      "[190]\ttraining's l1: 0.894754\tvalid_1's l1: 1.22062\n",
      "[LightGBM] [Warning] feature_fraction is set=0.713827015164931, colsample_bytree=0.7 will be ignored. Current value: feature_fraction=0.713827015164931\n",
      "[LightGBM] [Warning] bagging_fraction is set=0.7326650986546526, subsample=0.7 will be ignored. Current value: bagging_fraction=0.7326650986546526\n",
      "[LightGBM] [Warning] bagging_freq is set=4, subsample_freq=0 will be ignored. Current value: bagging_freq=4\n",
      "Training until validation scores don't improve for 100 rounds\n",
      "[100]\ttraining's l1: 0.894961\tvalid_1's l1: 1.2241\n",
      "[200]\ttraining's l1: 0.894958\tvalid_1's l1: 1.2241\n",
      "[300]\ttraining's l1: 0.894941\tvalid_1's l1: 1.22399\n",
      "[400]\ttraining's l1: 0.894393\tvalid_1's l1: 1.22293\n",
      "[500]\ttraining's l1: 0.893308\tvalid_1's l1: 1.22075\n",
      "[600]\ttraining's l1: 0.891414\tvalid_1's l1: 1.21668\n",
      "[700]\ttraining's l1: 0.887732\tvalid_1's l1: 1.20818\n",
      "[800]\ttraining's l1: 0.886995\tvalid_1's l1: 1.20618\n",
      "[900]\ttraining's l1: 0.886809\tvalid_1's l1: 1.20576\n",
      "[1000]\ttraining's l1: 0.885616\tvalid_1's l1: 1.20228\n",
      "[1100]\ttraining's l1: 0.884006\tvalid_1's l1: 1.19789\n",
      "[1200]\ttraining's l1: 0.883148\tvalid_1's l1: 1.19551\n",
      "[1300]\ttraining's l1: 0.880297\tvalid_1's l1: 1.18865\n",
      "[1400]\ttraining's l1: 0.878508\tvalid_1's l1: 1.18468\n",
      "[1500]\ttraining's l1: 0.877392\tvalid_1's l1: 1.18244\n",
      "[1600]\ttraining's l1: 0.87374\tvalid_1's l1: 1.17629\n",
      "[1700]\ttraining's l1: 0.87327\tvalid_1's l1: 1.17564\n",
      "[1800]\ttraining's l1: 0.87138\tvalid_1's l1: 1.17348\n",
      "[1900]\ttraining's l1: 0.870667\tvalid_1's l1: 1.17267\n",
      "[2000]\ttraining's l1: 0.86823\tvalid_1's l1: 1.16877\n",
      "[2100]\ttraining's l1: 0.866585\tvalid_1's l1: 1.16746\n",
      "[2200]\ttraining's l1: 0.864658\tvalid_1's l1: 1.1651\n",
      "[2300]\ttraining's l1: 0.863497\tvalid_1's l1: 1.16403\n",
      "[2400]\ttraining's l1: 0.862283\tvalid_1's l1: 1.16338\n",
      "[2500]\ttraining's l1: 0.860657\tvalid_1's l1: 1.16165\n",
      "[2600]\ttraining's l1: 0.85993\tvalid_1's l1: 1.16097\n",
      "[2700]\ttraining's l1: 0.858543\tvalid_1's l1: 1.15955\n",
      "[2800]\ttraining's l1: 0.856902\tvalid_1's l1: 1.15877\n",
      "[2900]\ttraining's l1: 0.855495\tvalid_1's l1: 1.15781\n",
      "[3000]\ttraining's l1: 0.854867\tvalid_1's l1: 1.158\n",
      "Early stopping, best iteration is:\n",
      "[2901]\ttraining's l1: 0.855484\tvalid_1's l1: 1.15781\n"
     ]
    },
    {
     "name": "stderr",
     "output_type": "stream",
     "text": [
      "\u001b[32m[I 2021-07-04 20:20:30,590]\u001b[0m Trial 60 finished with value: -1.1576956732971488 and parameters: {'max_depth': 10, 'min_child_weight': 12, 'subsample': 0.7, 'colsample_bytree': 0.7, 'reg_lambda': 0.26426063153034585, 'reg_alpha': 0.0029502978956646424, 'feature_fraction': 0.713827015164931, 'bagging_fraction': 0.7326650986546526, 'bagging_freq': 4}. Best is trial 18 with value: -1.1523618493451506.\u001b[0m\n"
     ]
    },
    {
     "name": "stdout",
     "output_type": "stream",
     "text": [
      "[LightGBM] [Warning] feature_fraction is set=0.7798084009319061, colsample_bytree=0.9 will be ignored. Current value: feature_fraction=0.7798084009319061\n",
      "[LightGBM] [Warning] bagging_fraction is set=0.6206613558023144, subsample=0.5 will be ignored. Current value: bagging_fraction=0.6206613558023144\n",
      "[LightGBM] [Warning] bagging_freq is set=3, subsample_freq=0 will be ignored. Current value: bagging_freq=3\n",
      "Training until validation scores don't improve for 100 rounds\n",
      "[100]\ttraining's l1: 0.898667\tvalid_1's l1: 1.22917\n",
      "[200]\ttraining's l1: 0.898419\tvalid_1's l1: 1.22848\n",
      "[300]\ttraining's l1: 0.896968\tvalid_1's l1: 1.22423\n",
      "[400]\ttraining's l1: 0.894673\tvalid_1's l1: 1.21929\n",
      "[500]\ttraining's l1: 0.893769\tvalid_1's l1: 1.21713\n",
      "[600]\ttraining's l1: 0.892069\tvalid_1's l1: 1.21109\n",
      "[700]\ttraining's l1: 0.891804\tvalid_1's l1: 1.21076\n",
      "[800]\ttraining's l1: 0.890294\tvalid_1's l1: 1.20673\n",
      "[900]\ttraining's l1: 0.88911\tvalid_1's l1: 1.20393\n",
      "[1000]\ttraining's l1: 0.886201\tvalid_1's l1: 1.19853\n",
      "[1100]\ttraining's l1: 0.884509\tvalid_1's l1: 1.19384\n",
      "[1200]\ttraining's l1: 0.883643\tvalid_1's l1: 1.19222\n",
      "[1300]\ttraining's l1: 0.882404\tvalid_1's l1: 1.18997\n",
      "[1400]\ttraining's l1: 0.880428\tvalid_1's l1: 1.18536\n",
      "[1500]\ttraining's l1: 0.876875\tvalid_1's l1: 1.17852\n",
      "[1600]\ttraining's l1: 0.875481\tvalid_1's l1: 1.17622\n",
      "[1700]\ttraining's l1: 0.874889\tvalid_1's l1: 1.17568\n",
      "Early stopping, best iteration is:\n",
      "[1633]\ttraining's l1: 0.875066\tvalid_1's l1: 1.17562\n"
     ]
    },
    {
     "name": "stderr",
     "output_type": "stream",
     "text": [
      "\u001b[32m[I 2021-07-04 20:21:09,910]\u001b[0m Trial 61 finished with value: -1.1755532561939033 and parameters: {'max_depth': 20, 'min_child_weight': 19, 'subsample': 0.5, 'colsample_bytree': 0.9, 'reg_lambda': 0.04191152533675948, 'reg_alpha': 14.625167775233137, 'feature_fraction': 0.7798084009319061, 'bagging_fraction': 0.6206613558023144, 'bagging_freq': 3}. Best is trial 18 with value: -1.1523618493451506.\u001b[0m\n"
     ]
    },
    {
     "name": "stdout",
     "output_type": "stream",
     "text": [
      "[LightGBM] [Warning] feature_fraction is set=0.7408187585665702, colsample_bytree=0.9 will be ignored. Current value: feature_fraction=0.7408187585665702\n",
      "[LightGBM] [Warning] bagging_fraction is set=0.6598250088812855, subsample=0.5 will be ignored. Current value: bagging_fraction=0.6598250088812855\n",
      "[LightGBM] [Warning] bagging_freq is set=3, subsample_freq=0 will be ignored. Current value: bagging_freq=3\n",
      "Training until validation scores don't improve for 100 rounds\n",
      "[100]\ttraining's l1: 0.899313\tvalid_1's l1: 1.22991\n",
      "[200]\ttraining's l1: 0.898409\tvalid_1's l1: 1.22802\n"
     ]
    },
    {
     "name": "stderr",
     "output_type": "stream",
     "text": [
      "\u001b[32m[I 2021-07-04 20:21:16,988]\u001b[0m Trial 62 finished with value: -1.2280199097873314 and parameters: {'max_depth': 19, 'min_child_weight': 20, 'subsample': 0.5, 'colsample_bytree': 0.9, 'reg_lambda': 0.07534883611957159, 'reg_alpha': 8.01555992830009, 'feature_fraction': 0.7408187585665702, 'bagging_fraction': 0.6598250088812855, 'bagging_freq': 3}. Best is trial 18 with value: -1.1523618493451506.\u001b[0m\n"
     ]
    },
    {
     "name": "stdout",
     "output_type": "stream",
     "text": [
      "Early stopping, best iteration is:\n",
      "[153]\ttraining's l1: 0.898411\tvalid_1's l1: 1.22802\n",
      "[LightGBM] [Warning] feature_fraction is set=0.6973221777378253, colsample_bytree=0.9 will be ignored. Current value: feature_fraction=0.6973221777378253\n",
      "[LightGBM] [Warning] bagging_fraction is set=0.614567315214174, subsample=0.5 will be ignored. Current value: bagging_fraction=0.614567315214174\n",
      "[LightGBM] [Warning] bagging_freq is set=2, subsample_freq=0 will be ignored. Current value: bagging_freq=2\n",
      "Training until validation scores don't improve for 100 rounds\n",
      "[100]\ttraining's l1: 0.895565\tvalid_1's l1: 1.22233\n",
      "[200]\ttraining's l1: 0.895103\tvalid_1's l1: 1.22098\n"
     ]
    },
    {
     "name": "stderr",
     "output_type": "stream",
     "text": [
      "\u001b[32m[I 2021-07-04 20:21:25,096]\u001b[0m Trial 63 finished with value: -1.2209710278890369 and parameters: {'max_depth': 17, 'min_child_weight': 18, 'subsample': 0.5, 'colsample_bytree': 0.9, 'reg_lambda': 0.47624281524136725, 'reg_alpha': 3.7817741435767607, 'feature_fraction': 0.6973221777378253, 'bagging_fraction': 0.614567315214174, 'bagging_freq': 2}. Best is trial 18 with value: -1.1523618493451506.\u001b[0m\n"
     ]
    },
    {
     "name": "stdout",
     "output_type": "stream",
     "text": [
      "Early stopping, best iteration is:\n",
      "[167]\ttraining's l1: 0.895104\tvalid_1's l1: 1.22098\n",
      "[LightGBM] [Warning] feature_fraction is set=0.6720179078863455, colsample_bytree=0.9 will be ignored. Current value: feature_fraction=0.6720179078863455\n",
      "[LightGBM] [Warning] bagging_fraction is set=0.5920503256953805, subsample=0.5 will be ignored. Current value: bagging_fraction=0.5920503256953805\n",
      "[LightGBM] [Warning] bagging_freq is set=3, subsample_freq=0 will be ignored. Current value: bagging_freq=3\n",
      "Training until validation scores don't improve for 100 rounds\n",
      "[100]\ttraining's l1: 0.894858\tvalid_1's l1: 1.22041\n",
      "[200]\ttraining's l1: 0.894707\tvalid_1's l1: 1.22003\n",
      "[300]\ttraining's l1: 0.893872\tvalid_1's l1: 1.2173\n",
      "[400]\ttraining's l1: 0.892939\tvalid_1's l1: 1.21571\n",
      "[500]\ttraining's l1: 0.892862\tvalid_1's l1: 1.21562\n",
      "[600]\ttraining's l1: 0.892538\tvalid_1's l1: 1.21517\n"
     ]
    },
    {
     "name": "stderr",
     "output_type": "stream",
     "text": [
      "\u001b[32m[I 2021-07-04 20:21:40,544]\u001b[0m Trial 64 finished with value: -1.2150934190154834 and parameters: {'max_depth': 20, 'min_child_weight': 19, 'subsample': 0.5, 'colsample_bytree': 0.9, 'reg_lambda': 0.1836540956411585, 'reg_alpha': 57.89336555570098, 'feature_fraction': 0.6720179078863455, 'bagging_fraction': 0.5920503256953805, 'bagging_freq': 3}. Best is trial 18 with value: -1.1523618493451506.\u001b[0m\n"
     ]
    },
    {
     "name": "stdout",
     "output_type": "stream",
     "text": [
      "Early stopping, best iteration is:\n",
      "[555]\ttraining's l1: 0.892573\tvalid_1's l1: 1.21511\n",
      "[LightGBM] [Warning] feature_fraction is set=0.7244427087168386, colsample_bytree=0.9 will be ignored. Current value: feature_fraction=0.7244427087168386\n",
      "[LightGBM] [Warning] bagging_fraction is set=0.6255677433384323, subsample=0.5 will be ignored. Current value: bagging_fraction=0.6255677433384323\n",
      "[LightGBM] [Warning] bagging_freq is set=2, subsample_freq=0 will be ignored. Current value: bagging_freq=2\n",
      "Training until validation scores don't improve for 100 rounds\n",
      "[100]\ttraining's l1: 0.896287\tvalid_1's l1: 1.22483\n",
      "[200]\ttraining's l1: 0.896041\tvalid_1's l1: 1.22412\n",
      "[300]\ttraining's l1: 0.895416\tvalid_1's l1: 1.22294\n"
     ]
    },
    {
     "name": "stderr",
     "output_type": "stream",
     "text": [
      "\u001b[32m[I 2021-07-04 20:21:50,873]\u001b[0m Trial 65 finished with value: -1.2229387815055464 and parameters: {'max_depth': 12, 'min_child_weight': 17, 'subsample': 0.5, 'colsample_bytree': 0.9, 'reg_lambda': 0.8967722079970591, 'reg_alpha': 9.493672376966039, 'feature_fraction': 0.7244427087168386, 'bagging_fraction': 0.6255677433384323, 'bagging_freq': 2}. Best is trial 18 with value: -1.1523618493451506.\u001b[0m\n"
     ]
    },
    {
     "name": "stdout",
     "output_type": "stream",
     "text": [
      "Early stopping, best iteration is:\n",
      "[257]\ttraining's l1: 0.895417\tvalid_1's l1: 1.22294\n",
      "[LightGBM] [Warning] feature_fraction is set=0.7990788883721194, colsample_bytree=0.9 will be ignored. Current value: feature_fraction=0.7990788883721194\n",
      "[LightGBM] [Warning] bagging_fraction is set=0.6783179542892597, subsample=0.6 will be ignored. Current value: bagging_fraction=0.6783179542892597\n",
      "[LightGBM] [Warning] bagging_freq is set=3, subsample_freq=0 will be ignored. Current value: bagging_freq=3\n",
      "Training until validation scores don't improve for 100 rounds\n",
      "[100]\ttraining's l1: 0.897868\tvalid_1's l1: 1.22698\n",
      "[200]\ttraining's l1: 0.895572\tvalid_1's l1: 1.22163\n",
      "[300]\ttraining's l1: 0.895276\tvalid_1's l1: 1.22097\n"
     ]
    },
    {
     "name": "stderr",
     "output_type": "stream",
     "text": [
      "\u001b[32m[I 2021-07-04 20:22:01,048]\u001b[0m Trial 66 finished with value: -1.2209694263830009 and parameters: {'max_depth': 19, 'min_child_weight': 20, 'subsample': 0.6, 'colsample_bytree': 0.9, 'reg_lambda': 0.040519472984430795, 'reg_alpha': 20.81823013267026, 'feature_fraction': 0.7990788883721194, 'bagging_fraction': 0.6783179542892597, 'bagging_freq': 3}. Best is trial 18 with value: -1.1523618493451506.\u001b[0m\n"
     ]
    },
    {
     "name": "stdout",
     "output_type": "stream",
     "text": [
      "Early stopping, best iteration is:\n",
      "[279]\ttraining's l1: 0.895276\tvalid_1's l1: 1.22097\n",
      "[LightGBM] [Warning] feature_fraction is set=0.7589053478592847, colsample_bytree=0.8 will be ignored. Current value: feature_fraction=0.7589053478592847\n",
      "[LightGBM] [Warning] bagging_fraction is set=0.5705336083332694, subsample=0.9 will be ignored. Current value: bagging_fraction=0.5705336083332694\n",
      "[LightGBM] [Warning] bagging_freq is set=6, subsample_freq=0 will be ignored. Current value: bagging_freq=6\n",
      "Training until validation scores don't improve for 100 rounds\n",
      "[100]\ttraining's l1: 0.898391\tvalid_1's l1: 1.22933\n",
      "[200]\ttraining's l1: 0.898294\tvalid_1's l1: 1.2291\n"
     ]
    },
    {
     "name": "stderr",
     "output_type": "stream",
     "text": [
      "\u001b[32m[I 2021-07-04 20:22:06,188]\u001b[0m Trial 67 finished with value: -1.2290906562413484 and parameters: {'max_depth': 17, 'min_child_weight': 18, 'subsample': 0.9, 'colsample_bytree': 0.8, 'reg_lambda': 0.0930791085971171, 'reg_alpha': 5.639597023219054, 'feature_fraction': 0.7589053478592847, 'bagging_fraction': 0.5705336083332694, 'bagging_freq': 6}. Best is trial 18 with value: -1.1523618493451506.\u001b[0m\n"
     ]
    },
    {
     "name": "stdout",
     "output_type": "stream",
     "text": [
      "Early stopping, best iteration is:\n",
      "[118]\ttraining's l1: 0.898304\tvalid_1's l1: 1.22909\n",
      "[LightGBM] [Warning] feature_fraction is set=0.43046860974775103, colsample_bytree=0.9 will be ignored. Current value: feature_fraction=0.43046860974775103\n",
      "[LightGBM] [Warning] bagging_fraction is set=0.5900530727488403, subsample=0.8 will be ignored. Current value: bagging_fraction=0.5900530727488403\n",
      "[LightGBM] [Warning] bagging_freq is set=4, subsample_freq=0 will be ignored. Current value: bagging_freq=4\n",
      "Training until validation scores don't improve for 100 rounds\n",
      "[100]\ttraining's l1: 0.896685\tvalid_1's l1: 1.22372\n",
      "[200]\ttraining's l1: 0.896531\tvalid_1's l1: 1.22343\n",
      "[300]\ttraining's l1: 0.895449\tvalid_1's l1: 1.22138\n",
      "[400]\ttraining's l1: 0.894122\tvalid_1's l1: 1.21854\n",
      "[500]\ttraining's l1: 0.893332\tvalid_1's l1: 1.21731\n",
      "[600]\ttraining's l1: 0.892364\tvalid_1's l1: 1.21481\n",
      "[700]\ttraining's l1: 0.891047\tvalid_1's l1: 1.21156\n",
      "[800]\ttraining's l1: 0.888821\tvalid_1's l1: 1.20561\n",
      "[900]\ttraining's l1: 0.887991\tvalid_1's l1: 1.20359\n",
      "[1000]\ttraining's l1: 0.886971\tvalid_1's l1: 1.20031\n",
      "[1100]\ttraining's l1: 0.884134\tvalid_1's l1: 1.19367\n",
      "[1200]\ttraining's l1: 0.883013\tvalid_1's l1: 1.19107\n",
      "[1300]\ttraining's l1: 0.880213\tvalid_1's l1: 1.18739\n",
      "[1400]\ttraining's l1: 0.878169\tvalid_1's l1: 1.18336\n",
      "[1500]\ttraining's l1: 0.87678\tvalid_1's l1: 1.18047\n",
      "[1600]\ttraining's l1: 0.875617\tvalid_1's l1: 1.17842\n",
      "[1700]\ttraining's l1: 0.874118\tvalid_1's l1: 1.17631\n",
      "[1800]\ttraining's l1: 0.87173\tvalid_1's l1: 1.17451\n",
      "[1900]\ttraining's l1: 0.869495\tvalid_1's l1: 1.17234\n",
      "[2000]\ttraining's l1: 0.86919\tvalid_1's l1: 1.17202\n",
      "[2100]\ttraining's l1: 0.868176\tvalid_1's l1: 1.17058\n",
      "[2200]\ttraining's l1: 0.864961\tvalid_1's l1: 1.16682\n",
      "[2300]\ttraining's l1: 0.863136\tvalid_1's l1: 1.16444\n",
      "[2400]\ttraining's l1: 0.861517\tvalid_1's l1: 1.16306\n",
      "[2500]\ttraining's l1: 0.861047\tvalid_1's l1: 1.16309\n",
      "Early stopping, best iteration is:\n",
      "[2418]\ttraining's l1: 0.861475\tvalid_1's l1: 1.16296\n"
     ]
    },
    {
     "name": "stderr",
     "output_type": "stream",
     "text": [
      "\u001b[32m[I 2021-07-04 20:22:57,424]\u001b[0m Trial 68 finished with value: -1.1627956968417943 and parameters: {'max_depth': 18, 'min_child_weight': 19, 'subsample': 0.8, 'colsample_bytree': 0.9, 'reg_lambda': 0.016887414353300843, 'reg_alpha': 1.6552436619004067, 'feature_fraction': 0.43046860974775103, 'bagging_fraction': 0.5900530727488403, 'bagging_freq': 4}. Best is trial 18 with value: -1.1523618493451506.\u001b[0m\n"
     ]
    },
    {
     "name": "stdout",
     "output_type": "stream",
     "text": [
      "[LightGBM] [Warning] feature_fraction is set=0.6414974367654462, colsample_bytree=0.8 will be ignored. Current value: feature_fraction=0.6414974367654462\n",
      "[LightGBM] [Warning] bagging_fraction is set=0.6577774356306633, subsample=0.6 will be ignored. Current value: bagging_fraction=0.6577774356306633\n",
      "[LightGBM] [Warning] bagging_freq is set=5, subsample_freq=0 will be ignored. Current value: bagging_freq=5\n",
      "Training until validation scores don't improve for 100 rounds\n",
      "[100]\ttraining's l1: 0.896761\tvalid_1's l1: 1.2258\n",
      "[200]\ttraining's l1: 0.89646\tvalid_1's l1: 1.22508\n",
      "[300]\ttraining's l1: 0.896458\tvalid_1's l1: 1.22508\n",
      "[400]\ttraining's l1: 0.895367\tvalid_1's l1: 1.22243\n",
      "[500]\ttraining's l1: 0.894923\tvalid_1's l1: 1.22109\n",
      "[600]\ttraining's l1: 0.894823\tvalid_1's l1: 1.22092\n",
      "Early stopping, best iteration is:\n",
      "[504]\ttraining's l1: 0.894862\tvalid_1's l1: 1.22091\n"
     ]
    },
    {
     "name": "stderr",
     "output_type": "stream",
     "text": [
      "\u001b[32m[I 2021-07-04 20:23:11,608]\u001b[0m Trial 69 finished with value: -1.2209052697434861 and parameters: {'max_depth': 16, 'min_child_weight': 14, 'subsample': 0.6, 'colsample_bytree': 0.8, 'reg_lambda': 0.005156796617842984, 'reg_alpha': 0.3298570468477738, 'feature_fraction': 0.6414974367654462, 'bagging_fraction': 0.6577774356306633, 'bagging_freq': 5}. Best is trial 18 with value: -1.1523618493451506.\u001b[0m\n"
     ]
    },
    {
     "name": "stdout",
     "output_type": "stream",
     "text": [
      "[LightGBM] [Warning] feature_fraction is set=0.6222033311801733, colsample_bytree=0.9 will be ignored. Current value: feature_fraction=0.6222033311801733\n",
      "[LightGBM] [Warning] bagging_fraction is set=0.5151719258671925, subsample=0.5 will be ignored. Current value: bagging_fraction=0.5151719258671925\n",
      "[LightGBM] [Warning] bagging_freq is set=7, subsample_freq=0 will be ignored. Current value: bagging_freq=7\n",
      "Training until validation scores don't improve for 100 rounds\n",
      "[100]\ttraining's l1: 0.895949\tvalid_1's l1: 1.22255\n"
     ]
    },
    {
     "name": "stderr",
     "output_type": "stream",
     "text": [
      "\u001b[32m[I 2021-07-04 20:23:15,835]\u001b[0m Trial 70 finished with value: -1.2225389038904932 and parameters: {'max_depth': 20, 'min_child_weight': 2, 'subsample': 0.5, 'colsample_bytree': 0.9, 'reg_lambda': 0.011059487667262002, 'reg_alpha': 0.5342201512905246, 'feature_fraction': 0.6222033311801733, 'bagging_fraction': 0.5151719258671925, 'bagging_freq': 7}. Best is trial 18 with value: -1.1523618493451506.\u001b[0m\n"
     ]
    },
    {
     "name": "stdout",
     "output_type": "stream",
     "text": [
      "Early stopping, best iteration is:\n",
      "[68]\ttraining's l1: 0.895952\tvalid_1's l1: 1.22254\n",
      "[LightGBM] [Warning] feature_fraction is set=0.5004030505575866, colsample_bytree=0.9 will be ignored. Current value: feature_fraction=0.5004030505575866\n",
      "[LightGBM] [Warning] bagging_fraction is set=0.5672344857949674, subsample=0.5 will be ignored. Current value: bagging_fraction=0.5672344857949674\n",
      "[LightGBM] [Warning] bagging_freq is set=7, subsample_freq=0 will be ignored. Current value: bagging_freq=7\n",
      "Training until validation scores don't improve for 100 rounds\n",
      "[100]\ttraining's l1: 0.897071\tvalid_1's l1: 1.22554\n",
      "[200]\ttraining's l1: 0.896918\tvalid_1's l1: 1.22506\n",
      "[300]\ttraining's l1: 0.895824\tvalid_1's l1: 1.22255\n",
      "[400]\ttraining's l1: 0.895723\tvalid_1's l1: 1.22239\n"
     ]
    },
    {
     "name": "stderr",
     "output_type": "stream",
     "text": [
      "\u001b[32m[I 2021-07-04 20:23:25,125]\u001b[0m Trial 71 finished with value: -1.2223592963554835 and parameters: {'max_depth': 14, 'min_child_weight': 20, 'subsample': 0.5, 'colsample_bytree': 0.9, 'reg_lambda': 1.9434483729569116, 'reg_alpha': 0.23495118334234777, 'feature_fraction': 0.5004030505575866, 'bagging_fraction': 0.5672344857949674, 'bagging_freq': 7}. Best is trial 18 with value: -1.1523618493451506.\u001b[0m\n"
     ]
    },
    {
     "name": "stdout",
     "output_type": "stream",
     "text": [
      "Early stopping, best iteration is:\n",
      "[323]\ttraining's l1: 0.895748\tvalid_1's l1: 1.22236\n",
      "[LightGBM] [Warning] feature_fraction is set=0.4876063086137375, colsample_bytree=0.9 will be ignored. Current value: feature_fraction=0.4876063086137375\n",
      "[LightGBM] [Warning] bagging_fraction is set=0.5783606404466435, subsample=0.5 will be ignored. Current value: bagging_fraction=0.5783606404466435\n",
      "[LightGBM] [Warning] bagging_freq is set=6, subsample_freq=0 will be ignored. Current value: bagging_freq=6\n",
      "Training until validation scores don't improve for 100 rounds\n",
      "[100]\ttraining's l1: 0.897401\tvalid_1's l1: 1.22477\n",
      "[200]\ttraining's l1: 0.896826\tvalid_1's l1: 1.22349\n",
      "[300]\ttraining's l1: 0.896671\tvalid_1's l1: 1.22316\n"
     ]
    },
    {
     "name": "stderr",
     "output_type": "stream",
     "text": [
      "\u001b[32m[I 2021-07-04 20:23:33,552]\u001b[0m Trial 72 finished with value: -1.223154970028894 and parameters: {'max_depth': 15, 'min_child_weight': 20, 'subsample': 0.5, 'colsample_bytree': 0.9, 'reg_lambda': 2.5881817135561103, 'reg_alpha': 0.36706926176912397, 'feature_fraction': 0.4876063086137375, 'bagging_fraction': 0.5783606404466435, 'bagging_freq': 6}. Best is trial 18 with value: -1.1523618493451506.\u001b[0m\n"
     ]
    },
    {
     "name": "stdout",
     "output_type": "stream",
     "text": [
      "Early stopping, best iteration is:\n",
      "[275]\ttraining's l1: 0.896673\tvalid_1's l1: 1.22316\n",
      "[LightGBM] [Warning] feature_fraction is set=0.43819611699003275, colsample_bytree=0.9 will be ignored. Current value: feature_fraction=0.43819611699003275\n",
      "[LightGBM] [Warning] bagging_fraction is set=0.6020992228060377, subsample=0.5 will be ignored. Current value: bagging_fraction=0.6020992228060377\n",
      "[LightGBM] [Warning] bagging_freq is set=6, subsample_freq=0 will be ignored. Current value: bagging_freq=6\n",
      "Training until validation scores don't improve for 100 rounds\n",
      "[100]\ttraining's l1: 0.895317\tvalid_1's l1: 1.22135\n",
      "[200]\ttraining's l1: 0.895314\tvalid_1's l1: 1.22135\n",
      "[300]\ttraining's l1: 0.894884\tvalid_1's l1: 1.22043\n",
      "[400]\ttraining's l1: 0.89334\tvalid_1's l1: 1.21657\n",
      "[500]\ttraining's l1: 0.892939\tvalid_1's l1: 1.21587\n",
      "[600]\ttraining's l1: 0.892693\tvalid_1's l1: 1.21525\n",
      "[700]\ttraining's l1: 0.889878\tvalid_1's l1: 1.20763\n",
      "[800]\ttraining's l1: 0.887489\tvalid_1's l1: 1.20183\n",
      "[900]\ttraining's l1: 0.886352\tvalid_1's l1: 1.19932\n",
      "[1000]\ttraining's l1: 0.88515\tvalid_1's l1: 1.19608\n",
      "[1100]\ttraining's l1: 0.884251\tvalid_1's l1: 1.19319\n",
      "[1200]\ttraining's l1: 0.883019\tvalid_1's l1: 1.19052\n",
      "[1300]\ttraining's l1: 0.881912\tvalid_1's l1: 1.1882\n",
      "[1400]\ttraining's l1: 0.879615\tvalid_1's l1: 1.18334\n",
      "[1500]\ttraining's l1: 0.877866\tvalid_1's l1: 1.17997\n",
      "[1600]\ttraining's l1: 0.874753\tvalid_1's l1: 1.17546\n",
      "[1700]\ttraining's l1: 0.872807\tvalid_1's l1: 1.17321\n",
      "[1800]\ttraining's l1: 0.870954\tvalid_1's l1: 1.17052\n",
      "[1900]\ttraining's l1: 0.867856\tvalid_1's l1: 1.16729\n",
      "[2000]\ttraining's l1: 0.865912\tvalid_1's l1: 1.16451\n",
      "[2100]\ttraining's l1: 0.864145\tvalid_1's l1: 1.16286\n",
      "[2200]\ttraining's l1: 0.862618\tvalid_1's l1: 1.1614\n",
      "[2300]\ttraining's l1: 0.86075\tvalid_1's l1: 1.15978\n",
      "[2400]\ttraining's l1: 0.860308\tvalid_1's l1: 1.1596\n",
      "[2500]\ttraining's l1: 0.857795\tvalid_1's l1: 1.15797\n",
      "[2600]\ttraining's l1: 0.856588\tvalid_1's l1: 1.15716\n",
      "[2700]\ttraining's l1: 0.854975\tvalid_1's l1: 1.15625\n",
      "Early stopping, best iteration is:\n",
      "[2637]\ttraining's l1: 0.855444\tvalid_1's l1: 1.15604\n"
     ]
    },
    {
     "name": "stderr",
     "output_type": "stream",
     "text": [
      "\u001b[32m[I 2021-07-04 20:24:26,676]\u001b[0m Trial 73 finished with value: -1.1558616158036084 and parameters: {'max_depth': 15, 'min_child_weight': 19, 'subsample': 0.5, 'colsample_bytree': 0.9, 'reg_lambda': 0.6168437143810503, 'reg_alpha': 0.9745504487990241, 'feature_fraction': 0.43819611699003275, 'bagging_fraction': 0.6020992228060377, 'bagging_freq': 6}. Best is trial 18 with value: -1.1523618493451506.\u001b[0m\n"
     ]
    },
    {
     "name": "stdout",
     "output_type": "stream",
     "text": [
      "[LightGBM] [Warning] feature_fraction is set=0.4350216664251858, colsample_bytree=0.9 will be ignored. Current value: feature_fraction=0.4350216664251858\n",
      "[LightGBM] [Warning] bagging_fraction is set=0.6034340720970496, subsample=0.5 will be ignored. Current value: bagging_fraction=0.6034340720970496\n",
      "[LightGBM] [Warning] bagging_freq is set=6, subsample_freq=0 will be ignored. Current value: bagging_freq=6\n",
      "Training until validation scores don't improve for 100 rounds\n",
      "[100]\ttraining's l1: 0.896104\tvalid_1's l1: 1.22271\n",
      "[200]\ttraining's l1: 0.893956\tvalid_1's l1: 1.21735\n",
      "[300]\ttraining's l1: 0.892688\tvalid_1's l1: 1.21508\n",
      "[400]\ttraining's l1: 0.891677\tvalid_1's l1: 1.21283\n",
      "[500]\ttraining's l1: 0.8914\tvalid_1's l1: 1.2124\n",
      "[600]\ttraining's l1: 0.889702\tvalid_1's l1: 1.20866\n",
      "[700]\ttraining's l1: 0.888493\tvalid_1's l1: 1.20562\n",
      "[800]\ttraining's l1: 0.888069\tvalid_1's l1: 1.20467\n",
      "[900]\ttraining's l1: 0.887689\tvalid_1's l1: 1.20408\n",
      "[1000]\ttraining's l1: 0.886627\tvalid_1's l1: 1.20174\n",
      "[1100]\ttraining's l1: 0.885659\tvalid_1's l1: 1.19923\n",
      "[1200]\ttraining's l1: 0.883569\tvalid_1's l1: 1.19666\n",
      "[1300]\ttraining's l1: 0.880803\tvalid_1's l1: 1.18954\n",
      "[1400]\ttraining's l1: 0.879728\tvalid_1's l1: 1.18692\n",
      "[1500]\ttraining's l1: 0.87933\tvalid_1's l1: 1.18628\n",
      "[1600]\ttraining's l1: 0.876668\tvalid_1's l1: 1.18107\n",
      "[1700]\ttraining's l1: 0.875458\tvalid_1's l1: 1.1794\n",
      "[1800]\ttraining's l1: 0.873212\tvalid_1's l1: 1.17538\n",
      "[1900]\ttraining's l1: 0.869426\tvalid_1's l1: 1.17124\n",
      "[2000]\ttraining's l1: 0.867656\tvalid_1's l1: 1.16913\n",
      "[2100]\ttraining's l1: 0.865751\tvalid_1's l1: 1.16818\n",
      "[2200]\ttraining's l1: 0.86481\tvalid_1's l1: 1.16692\n",
      "[2300]\ttraining's l1: 0.862841\tvalid_1's l1: 1.16549\n",
      "[2400]\ttraining's l1: 0.860273\tvalid_1's l1: 1.16317\n",
      "[2500]\ttraining's l1: 0.859546\tvalid_1's l1: 1.16237\n",
      "[2600]\ttraining's l1: 0.856053\tvalid_1's l1: 1.15887\n",
      "[2700]\ttraining's l1: 0.854968\tvalid_1's l1: 1.15874\n",
      "[2800]\ttraining's l1: 0.852455\tvalid_1's l1: 1.15676\n",
      "[2900]\ttraining's l1: 0.851328\tvalid_1's l1: 1.15626\n",
      "Early stopping, best iteration is:\n",
      "[2821]\ttraining's l1: 0.8522\tvalid_1's l1: 1.15616\n"
     ]
    },
    {
     "name": "stderr",
     "output_type": "stream",
     "text": [
      "\u001b[32m[I 2021-07-04 20:25:23,108]\u001b[0m Trial 74 finished with value: -1.1559914704928373 and parameters: {'max_depth': 12, 'min_child_weight': 16, 'subsample': 0.5, 'colsample_bytree': 0.9, 'reg_lambda': 0.7381026879862982, 'reg_alpha': 0.9998500723928322, 'feature_fraction': 0.4350216664251858, 'bagging_fraction': 0.6034340720970496, 'bagging_freq': 6}. Best is trial 18 with value: -1.1523618493451506.\u001b[0m\n"
     ]
    },
    {
     "name": "stdout",
     "output_type": "stream",
     "text": [
      "[LightGBM] [Warning] feature_fraction is set=0.7346375198032338, colsample_bytree=0.9 will be ignored. Current value: feature_fraction=0.7346375198032338\n",
      "[LightGBM] [Warning] bagging_fraction is set=0.632454015983899, subsample=0.5 will be ignored. Current value: bagging_fraction=0.632454015983899\n",
      "[LightGBM] [Warning] bagging_freq is set=4, subsample_freq=0 will be ignored. Current value: bagging_freq=4\n",
      "Training until validation scores don't improve for 100 rounds\n",
      "[100]\ttraining's l1: 0.896915\tvalid_1's l1: 1.22578\n",
      "[200]\ttraining's l1: 0.896235\tvalid_1's l1: 1.22455\n",
      "[300]\ttraining's l1: 0.895979\tvalid_1's l1: 1.22379\n"
     ]
    },
    {
     "name": "stderr",
     "output_type": "stream",
     "text": [
      "\u001b[32m[I 2021-07-04 20:25:31,424]\u001b[0m Trial 75 finished with value: -1.2237859790464087 and parameters: {'max_depth': 16, 'min_child_weight': 19, 'subsample': 0.5, 'colsample_bytree': 0.9, 'reg_lambda': 0.17339327788748565, 'reg_alpha': 2.260350728958539, 'feature_fraction': 0.7346375198032338, 'bagging_fraction': 0.632454015983899, 'bagging_freq': 4}. Best is trial 18 with value: -1.1523618493451506.\u001b[0m\n"
     ]
    },
    {
     "name": "stdout",
     "output_type": "stream",
     "text": [
      "Early stopping, best iteration is:\n",
      "[246]\ttraining's l1: 0.895981\tvalid_1's l1: 1.22379\n",
      "[LightGBM] [Warning] feature_fraction is set=0.4193388450842285, colsample_bytree=0.9 will be ignored. Current value: feature_fraction=0.4193388450842285\n",
      "[LightGBM] [Warning] bagging_fraction is set=0.5517003623005805, subsample=0.7 will be ignored. Current value: bagging_fraction=0.5517003623005805\n",
      "[LightGBM] [Warning] bagging_freq is set=5, subsample_freq=0 will be ignored. Current value: bagging_freq=5\n",
      "Training until validation scores don't improve for 100 rounds\n",
      "[100]\ttraining's l1: 0.896618\tvalid_1's l1: 1.22543\n",
      "[200]\ttraining's l1: 0.895015\tvalid_1's l1: 1.22198\n",
      "[300]\ttraining's l1: 0.8938\tvalid_1's l1: 1.21954\n",
      "[400]\ttraining's l1: 0.893604\tvalid_1's l1: 1.21916\n",
      "[500]\ttraining's l1: 0.893157\tvalid_1's l1: 1.21844\n",
      "[600]\ttraining's l1: 0.892627\tvalid_1's l1: 1.21684\n",
      "[700]\ttraining's l1: 0.891068\tvalid_1's l1: 1.21247\n",
      "[800]\ttraining's l1: 0.887776\tvalid_1's l1: 1.20333\n",
      "[900]\ttraining's l1: 0.88627\tvalid_1's l1: 1.20022\n",
      "[1000]\ttraining's l1: 0.883962\tvalid_1's l1: 1.1959\n",
      "[1100]\ttraining's l1: 0.882169\tvalid_1's l1: 1.19154\n",
      "[1200]\ttraining's l1: 0.881588\tvalid_1's l1: 1.19101\n",
      "[1300]\ttraining's l1: 0.880058\tvalid_1's l1: 1.1883\n",
      "[1400]\ttraining's l1: 0.877147\tvalid_1's l1: 1.18293\n",
      "[1500]\ttraining's l1: 0.874442\tvalid_1's l1: 1.17753\n",
      "[1600]\ttraining's l1: 0.873282\tvalid_1's l1: 1.17679\n",
      "[1700]\ttraining's l1: 0.870259\tvalid_1's l1: 1.17207\n",
      "[1800]\ttraining's l1: 0.865937\tvalid_1's l1: 1.16696\n",
      "[1900]\ttraining's l1: 0.86452\tvalid_1's l1: 1.16492\n",
      "[2000]\ttraining's l1: 0.861953\tvalid_1's l1: 1.16231\n",
      "[2100]\ttraining's l1: 0.861032\tvalid_1's l1: 1.16173\n",
      "[2200]\ttraining's l1: 0.858596\tvalid_1's l1: 1.15929\n",
      "[2300]\ttraining's l1: 0.857956\tvalid_1's l1: 1.15853\n",
      "[2400]\ttraining's l1: 0.856641\tvalid_1's l1: 1.15756\n",
      "[2500]\ttraining's l1: 0.854924\tvalid_1's l1: 1.15621\n",
      "[2600]\ttraining's l1: 0.85292\tvalid_1's l1: 1.15456\n",
      "[2700]\ttraining's l1: 0.850945\tvalid_1's l1: 1.15382\n",
      "Early stopping, best iteration is:\n",
      "[2617]\ttraining's l1: 0.852041\tvalid_1's l1: 1.15353\n"
     ]
    },
    {
     "name": "stderr",
     "output_type": "stream",
     "text": [
      "\u001b[32m[I 2021-07-04 20:26:21,756]\u001b[0m Trial 76 finished with value: -1.1533249725787476 and parameters: {'max_depth': 11, 'min_child_weight': 18, 'subsample': 0.7, 'colsample_bytree': 0.9, 'reg_lambda': 0.32686793658230406, 'reg_alpha': 0.0017547296745824411, 'feature_fraction': 0.4193388450842285, 'bagging_fraction': 0.5517003623005805, 'bagging_freq': 5}. Best is trial 18 with value: -1.1523618493451506.\u001b[0m\n"
     ]
    },
    {
     "name": "stdout",
     "output_type": "stream",
     "text": [
      "[LightGBM] [Warning] feature_fraction is set=0.583858145109411, colsample_bytree=0.9 will be ignored. Current value: feature_fraction=0.583858145109411\n",
      "[LightGBM] [Warning] bagging_fraction is set=0.46390448796681905, subsample=0.7 will be ignored. Current value: bagging_fraction=0.46390448796681905\n",
      "[LightGBM] [Warning] bagging_freq is set=5, subsample_freq=0 will be ignored. Current value: bagging_freq=5\n",
      "Training until validation scores don't improve for 100 rounds\n",
      "[100]\ttraining's l1: 0.89515\tvalid_1's l1: 1.2212\n",
      "[200]\ttraining's l1: 0.893844\tvalid_1's l1: 1.21871\n",
      "[300]\ttraining's l1: 0.893032\tvalid_1's l1: 1.21666\n",
      "[400]\ttraining's l1: 0.892927\tvalid_1's l1: 1.21665\n"
     ]
    },
    {
     "name": "stderr",
     "output_type": "stream",
     "text": [
      "\u001b[32m[I 2021-07-04 20:26:30,863]\u001b[0m Trial 77 finished with value: -1.2166340393844999 and parameters: {'max_depth': 11, 'min_child_weight': 18, 'subsample': 0.7, 'colsample_bytree': 0.9, 'reg_lambda': 0.22476470356409212, 'reg_alpha': 0.0012737012687524516, 'feature_fraction': 0.583858145109411, 'bagging_fraction': 0.46390448796681905, 'bagging_freq': 5}. Best is trial 18 with value: -1.1523618493451506.\u001b[0m\n"
     ]
    },
    {
     "name": "stdout",
     "output_type": "stream",
     "text": [
      "Early stopping, best iteration is:\n",
      "[316]\ttraining's l1: 0.892972\tvalid_1's l1: 1.21664\n",
      "[LightGBM] [Warning] feature_fraction is set=0.773393004055917, colsample_bytree=0.8 will be ignored. Current value: feature_fraction=0.773393004055917\n",
      "[LightGBM] [Warning] bagging_fraction is set=0.5528723813627214, subsample=0.7 will be ignored. Current value: bagging_fraction=0.5528723813627214\n",
      "[LightGBM] [Warning] bagging_freq is set=4, subsample_freq=0 will be ignored. Current value: bagging_freq=4\n",
      "Training until validation scores don't improve for 100 rounds\n",
      "[100]\ttraining's l1: 0.897346\tvalid_1's l1: 1.22628\n",
      "[200]\ttraining's l1: 0.896243\tvalid_1's l1: 1.22405\n",
      "[300]\ttraining's l1: 0.895939\tvalid_1's l1: 1.22319\n",
      "[400]\ttraining's l1: 0.895373\tvalid_1's l1: 1.22245\n",
      "[500]\ttraining's l1: 0.894406\tvalid_1's l1: 1.21931\n",
      "[600]\ttraining's l1: 0.893005\tvalid_1's l1: 1.21624\n",
      "[700]\ttraining's l1: 0.891611\tvalid_1's l1: 1.21362\n",
      "[800]\ttraining's l1: 0.889766\tvalid_1's l1: 1.21003\n",
      "[900]\ttraining's l1: 0.889527\tvalid_1's l1: 1.20979\n",
      "[1000]\ttraining's l1: 0.886838\tvalid_1's l1: 1.20363\n",
      "[1100]\ttraining's l1: 0.883016\tvalid_1's l1: 1.19428\n",
      "[1200]\ttraining's l1: 0.881191\tvalid_1's l1: 1.18992\n",
      "[1300]\ttraining's l1: 0.879977\tvalid_1's l1: 1.18809\n",
      "[1400]\ttraining's l1: 0.878402\tvalid_1's l1: 1.18523\n",
      "[1500]\ttraining's l1: 0.876627\tvalid_1's l1: 1.18351\n",
      "[1600]\ttraining's l1: 0.875091\tvalid_1's l1: 1.18117\n",
      "[1700]\ttraining's l1: 0.873431\tvalid_1's l1: 1.18004\n",
      "[1800]\ttraining's l1: 0.869494\tvalid_1's l1: 1.17304\n",
      "[1900]\ttraining's l1: 0.86824\tvalid_1's l1: 1.17095\n",
      "[2000]\ttraining's l1: 0.86419\tvalid_1's l1: 1.16791\n",
      "[2100]\ttraining's l1: 0.861763\tvalid_1's l1: 1.16461\n",
      "[2200]\ttraining's l1: 0.859759\tvalid_1's l1: 1.1617\n",
      "[2300]\ttraining's l1: 0.859296\tvalid_1's l1: 1.16148\n",
      "[2400]\ttraining's l1: 0.858721\tvalid_1's l1: 1.16121\n",
      "Early stopping, best iteration is:\n",
      "[2367]\ttraining's l1: 0.858963\tvalid_1's l1: 1.16106\n"
     ]
    },
    {
     "name": "stderr",
     "output_type": "stream",
     "text": [
      "\u001b[32m[I 2021-07-04 20:27:17,744]\u001b[0m Trial 78 finished with value: -1.16086905254869 and parameters: {'max_depth': 9, 'min_child_weight': 10, 'subsample': 0.7, 'colsample_bytree': 0.8, 'reg_lambda': 0.3921791854699361, 'reg_alpha': 0.01438994496205195, 'feature_fraction': 0.773393004055917, 'bagging_fraction': 0.5528723813627214, 'bagging_freq': 4}. Best is trial 18 with value: -1.1523618493451506.\u001b[0m\n"
     ]
    },
    {
     "name": "stdout",
     "output_type": "stream",
     "text": [
      "[LightGBM] [Warning] feature_fraction is set=0.4163878025068712, colsample_bytree=0.6 will be ignored. Current value: feature_fraction=0.4163878025068712\n",
      "[LightGBM] [Warning] bagging_fraction is set=0.5237962151965605, subsample=0.7 will be ignored. Current value: bagging_fraction=0.5237962151965605\n",
      "[LightGBM] [Warning] bagging_freq is set=3, subsample_freq=0 will be ignored. Current value: bagging_freq=3\n",
      "Training until validation scores don't improve for 100 rounds\n",
      "[100]\ttraining's l1: 0.895594\tvalid_1's l1: 1.22052\n",
      "[200]\ttraining's l1: 0.895513\tvalid_1's l1: 1.22049\n",
      "[300]\ttraining's l1: 0.894619\tvalid_1's l1: 1.21924\n",
      "[400]\ttraining's l1: 0.893798\tvalid_1's l1: 1.21729\n",
      "[500]\ttraining's l1: 0.892265\tvalid_1's l1: 1.21267\n",
      "[600]\ttraining's l1: 0.890327\tvalid_1's l1: 1.20766\n",
      "[700]\ttraining's l1: 0.890038\tvalid_1's l1: 1.20698\n",
      "[800]\ttraining's l1: 0.888275\tvalid_1's l1: 1.20156\n",
      "[900]\ttraining's l1: 0.88679\tvalid_1's l1: 1.19937\n",
      "[1000]\ttraining's l1: 0.885999\tvalid_1's l1: 1.19784\n",
      "[1100]\ttraining's l1: 0.88413\tvalid_1's l1: 1.19374\n",
      "[1200]\ttraining's l1: 0.87902\tvalid_1's l1: 1.18298\n",
      "[1300]\ttraining's l1: 0.878347\tvalid_1's l1: 1.18167\n",
      "[1400]\ttraining's l1: 0.877595\tvalid_1's l1: 1.18066\n",
      "[1500]\ttraining's l1: 0.875991\tvalid_1's l1: 1.17799\n",
      "[1600]\ttraining's l1: 0.875135\tvalid_1's l1: 1.17643\n",
      "[1700]\ttraining's l1: 0.872293\tvalid_1's l1: 1.1722\n",
      "[1800]\ttraining's l1: 0.868292\tvalid_1's l1: 1.16889\n",
      "[1900]\ttraining's l1: 0.86508\tvalid_1's l1: 1.16539\n",
      "[2000]\ttraining's l1: 0.86367\tvalid_1's l1: 1.16339\n",
      "[2100]\ttraining's l1: 0.861696\tvalid_1's l1: 1.15989\n",
      "[2200]\ttraining's l1: 0.858899\tvalid_1's l1: 1.15671\n",
      "[2300]\ttraining's l1: 0.857587\tvalid_1's l1: 1.15615\n",
      "[2400]\ttraining's l1: 0.8547\tvalid_1's l1: 1.15468\n",
      "[2500]\ttraining's l1: 0.853571\tvalid_1's l1: 1.15382\n",
      "[2600]\ttraining's l1: 0.851896\tvalid_1's l1: 1.15284\n",
      "[2700]\ttraining's l1: 0.850456\tvalid_1's l1: 1.15205\n",
      "[2800]\ttraining's l1: 0.849835\tvalid_1's l1: 1.15141\n",
      "[2900]\ttraining's l1: 0.847992\tvalid_1's l1: 1.15077\n",
      "[3000]\ttraining's l1: 0.847103\tvalid_1's l1: 1.15105\n",
      "Early stopping, best iteration is:\n",
      "[2954]\ttraining's l1: 0.847518\tvalid_1's l1: 1.15065\n"
     ]
    },
    {
     "name": "stderr",
     "output_type": "stream",
     "text": [
      "\u001b[32m[I 2021-07-04 20:28:17,420]\u001b[0m Trial 79 finished with value: -1.1504363233815476 and parameters: {'max_depth': 13, 'min_child_weight': 17, 'subsample': 0.7, 'colsample_bytree': 0.6, 'reg_lambda': 0.13374339431784696, 'reg_alpha': 0.0019464699962148941, 'feature_fraction': 0.4163878025068712, 'bagging_fraction': 0.5237962151965605, 'bagging_freq': 3}. Best is trial 79 with value: -1.1504363233815476.\u001b[0m\n"
     ]
    },
    {
     "name": "stdout",
     "output_type": "stream",
     "text": [
      "[LightGBM] [Warning] feature_fraction is set=0.4013998652411984, colsample_bytree=0.6 will be ignored. Current value: feature_fraction=0.4013998652411984\n",
      "[LightGBM] [Warning] bagging_fraction is set=0.49083592584637165, subsample=0.7 will be ignored. Current value: bagging_fraction=0.49083592584637165\n",
      "[LightGBM] [Warning] bagging_freq is set=5, subsample_freq=0 will be ignored. Current value: bagging_freq=5\n",
      "Training until validation scores don't improve for 100 rounds\n",
      "[100]\ttraining's l1: 0.898071\tvalid_1's l1: 1.22634\n",
      "[200]\ttraining's l1: 0.897573\tvalid_1's l1: 1.22528\n",
      "[300]\ttraining's l1: 0.895485\tvalid_1's l1: 1.21998\n",
      "[400]\ttraining's l1: 0.894826\tvalid_1's l1: 1.21882\n",
      "[500]\ttraining's l1: 0.891882\tvalid_1's l1: 1.21218\n",
      "[600]\ttraining's l1: 0.891093\tvalid_1's l1: 1.21026\n",
      "[700]\ttraining's l1: 0.890073\tvalid_1's l1: 1.20757\n",
      "[800]\ttraining's l1: 0.88883\tvalid_1's l1: 1.20395\n",
      "[900]\ttraining's l1: 0.886906\tvalid_1's l1: 1.20002\n",
      "[1000]\ttraining's l1: 0.885442\tvalid_1's l1: 1.19657\n",
      "[1100]\ttraining's l1: 0.882894\tvalid_1's l1: 1.19078\n",
      "[1200]\ttraining's l1: 0.881178\tvalid_1's l1: 1.18696\n",
      "[1300]\ttraining's l1: 0.879766\tvalid_1's l1: 1.18381\n",
      "[1400]\ttraining's l1: 0.877144\tvalid_1's l1: 1.17931\n",
      "[1500]\ttraining's l1: 0.873884\tvalid_1's l1: 1.17426\n",
      "[1600]\ttraining's l1: 0.873259\tvalid_1's l1: 1.1735\n",
      "[1700]\ttraining's l1: 0.87082\tvalid_1's l1: 1.16931\n",
      "[1800]\ttraining's l1: 0.869435\tvalid_1's l1: 1.16806\n",
      "[1900]\ttraining's l1: 0.866762\tvalid_1's l1: 1.16417\n",
      "[2000]\ttraining's l1: 0.86472\tvalid_1's l1: 1.16072\n",
      "[2100]\ttraining's l1: 0.863566\tvalid_1's l1: 1.16043\n",
      "[2200]\ttraining's l1: 0.861863\tvalid_1's l1: 1.15851\n",
      "[2300]\ttraining's l1: 0.859555\tvalid_1's l1: 1.15766\n",
      "[2400]\ttraining's l1: 0.858404\tvalid_1's l1: 1.15739\n",
      "[2500]\ttraining's l1: 0.857435\tvalid_1's l1: 1.15752\n",
      "Early stopping, best iteration is:\n",
      "[2406]\ttraining's l1: 0.85839\tvalid_1's l1: 1.15737\n"
     ]
    },
    {
     "name": "stderr",
     "output_type": "stream",
     "text": [
      "\u001b[32m[I 2021-07-04 20:29:00,182]\u001b[0m Trial 80 finished with value: -1.1571843496316248 and parameters: {'max_depth': 13, 'min_child_weight': 17, 'subsample': 0.7, 'colsample_bytree': 0.6, 'reg_lambda': 0.10887375161793936, 'reg_alpha': 0.0019598951424207125, 'feature_fraction': 0.4013998652411984, 'bagging_fraction': 0.49083592584637165, 'bagging_freq': 5}. Best is trial 79 with value: -1.1504363233815476.\u001b[0m\n"
     ]
    },
    {
     "name": "stdout",
     "output_type": "stream",
     "text": [
      "[LightGBM] [Warning] feature_fraction is set=0.4201720084448899, colsample_bytree=0.5 will be ignored. Current value: feature_fraction=0.4201720084448899\n",
      "[LightGBM] [Warning] bagging_fraction is set=0.5297284303354066, subsample=0.7 will be ignored. Current value: bagging_fraction=0.5297284303354066\n",
      "[LightGBM] [Warning] bagging_freq is set=3, subsample_freq=0 will be ignored. Current value: bagging_freq=3\n",
      "Training until validation scores don't improve for 100 rounds\n",
      "[100]\ttraining's l1: 0.89548\tvalid_1's l1: 1.22196\n",
      "[200]\ttraining's l1: 0.895417\tvalid_1's l1: 1.22196\n",
      "[300]\ttraining's l1: 0.894946\tvalid_1's l1: 1.22071\n",
      "[400]\ttraining's l1: 0.894085\tvalid_1's l1: 1.2189\n",
      "[500]\ttraining's l1: 0.892134\tvalid_1's l1: 1.21467\n"
     ]
    },
    {
     "name": "stderr",
     "output_type": "stream",
     "text": [
      "\u001b[32m[I 2021-07-04 20:29:12,887]\u001b[0m Trial 81 finished with value: -1.2146113381675225 and parameters: {'max_depth': 11, 'min_child_weight': 17, 'subsample': 0.7, 'colsample_bytree': 0.5, 'reg_lambda': 0.055330011299041984, 'reg_alpha': 0.007602049258573268, 'feature_fraction': 0.4201720084448899, 'bagging_fraction': 0.5297284303354066, 'bagging_freq': 3}. Best is trial 79 with value: -1.1504363233815476.\u001b[0m\n"
     ]
    },
    {
     "name": "stdout",
     "output_type": "stream",
     "text": [
      "Early stopping, best iteration is:\n",
      "[487]\ttraining's l1: 0.892154\tvalid_1's l1: 1.21463\n",
      "[LightGBM] [Warning] feature_fraction is set=0.41533055132016217, colsample_bytree=0.7 will be ignored. Current value: feature_fraction=0.41533055132016217\n",
      "[LightGBM] [Warning] bagging_fraction is set=0.5095552090868879, subsample=0.7 will be ignored. Current value: bagging_fraction=0.5095552090868879\n",
      "[LightGBM] [Warning] bagging_freq is set=3, subsample_freq=0 will be ignored. Current value: bagging_freq=3\n",
      "Training until validation scores don't improve for 100 rounds\n",
      "[100]\ttraining's l1: 0.896099\tvalid_1's l1: 1.22241\n"
     ]
    },
    {
     "name": "stderr",
     "output_type": "stream",
     "text": [
      "\u001b[32m[I 2021-07-04 20:29:17,861]\u001b[0m Trial 82 finished with value: -1.222401653102501 and parameters: {'max_depth': 12, 'min_child_weight': 18, 'subsample': 0.7, 'colsample_bytree': 0.7, 'reg_lambda': 0.1323158303492776, 'reg_alpha': 0.001999638522199821, 'feature_fraction': 0.41533055132016217, 'bagging_fraction': 0.5095552090868879, 'bagging_freq': 3}. Best is trial 79 with value: -1.1504363233815476.\u001b[0m\n"
     ]
    },
    {
     "name": "stdout",
     "output_type": "stream",
     "text": [
      "Early stopping, best iteration is:\n",
      "[99]\ttraining's l1: 0.896099\tvalid_1's l1: 1.22241\n",
      "[LightGBM] [Warning] feature_fraction is set=0.44875873426477586, colsample_bytree=0.5 will be ignored. Current value: feature_fraction=0.44875873426477586\n",
      "[LightGBM] [Warning] bagging_fraction is set=0.7055609563996331, subsample=0.7 will be ignored. Current value: bagging_fraction=0.7055609563996331\n",
      "[LightGBM] [Warning] bagging_freq is set=4, subsample_freq=0 will be ignored. Current value: bagging_freq=4\n",
      "Training until validation scores don't improve for 100 rounds\n",
      "[100]\ttraining's l1: 0.896331\tvalid_1's l1: 1.22303\n",
      "[200]\ttraining's l1: 0.895932\tvalid_1's l1: 1.22224\n",
      "[300]\ttraining's l1: 0.89385\tvalid_1's l1: 1.21801\n",
      "[400]\ttraining's l1: 0.89285\tvalid_1's l1: 1.21514\n",
      "[500]\ttraining's l1: 0.892218\tvalid_1's l1: 1.21344\n",
      "[600]\ttraining's l1: 0.890326\tvalid_1's l1: 1.20968\n",
      "[700]\ttraining's l1: 0.889876\tvalid_1's l1: 1.2086\n",
      "[800]\ttraining's l1: 0.886782\tvalid_1's l1: 1.20048\n",
      "[900]\ttraining's l1: 0.884934\tvalid_1's l1: 1.19656\n",
      "[1000]\ttraining's l1: 0.882595\tvalid_1's l1: 1.19293\n",
      "[1100]\ttraining's l1: 0.881592\tvalid_1's l1: 1.19076\n",
      "[1200]\ttraining's l1: 0.879421\tvalid_1's l1: 1.18661\n",
      "[1300]\ttraining's l1: 0.878867\tvalid_1's l1: 1.1862\n",
      "[1400]\ttraining's l1: 0.877847\tvalid_1's l1: 1.18383\n",
      "[1500]\ttraining's l1: 0.876074\tvalid_1's l1: 1.1802\n",
      "[1600]\ttraining's l1: 0.874095\tvalid_1's l1: 1.17647\n",
      "[1700]\ttraining's l1: 0.872601\tvalid_1's l1: 1.17507\n",
      "[1800]\ttraining's l1: 0.869594\tvalid_1's l1: 1.17158\n",
      "[1900]\ttraining's l1: 0.867539\tvalid_1's l1: 1.16759\n",
      "[2000]\ttraining's l1: 0.86575\tvalid_1's l1: 1.16504\n",
      "[2100]\ttraining's l1: 0.863932\tvalid_1's l1: 1.16371\n",
      "[2200]\ttraining's l1: 0.862926\tvalid_1's l1: 1.16313\n",
      "Early stopping, best iteration is:\n",
      "[2113]\ttraining's l1: 0.863275\tvalid_1's l1: 1.16296\n"
     ]
    },
    {
     "name": "stderr",
     "output_type": "stream",
     "text": [
      "\u001b[32m[I 2021-07-04 20:30:08,471]\u001b[0m Trial 83 finished with value: -1.1628142426899228 and parameters: {'max_depth': 10, 'min_child_weight': 20, 'subsample': 0.7, 'colsample_bytree': 0.5, 'reg_lambda': 0.03482844454684647, 'reg_alpha': 0.0043675892912495235, 'feature_fraction': 0.44875873426477586, 'bagging_fraction': 0.7055609563996331, 'bagging_freq': 4}. Best is trial 79 with value: -1.1504363233815476.\u001b[0m\n"
     ]
    },
    {
     "name": "stdout",
     "output_type": "stream",
     "text": [
      "[LightGBM] [Warning] feature_fraction is set=0.4836419141346124, colsample_bytree=0.6 will be ignored. Current value: feature_fraction=0.4836419141346124\n",
      "[LightGBM] [Warning] bagging_fraction is set=0.7598982420554126, subsample=0.7 will be ignored. Current value: bagging_fraction=0.7598982420554126\n",
      "[LightGBM] [Warning] bagging_freq is set=2, subsample_freq=0 will be ignored. Current value: bagging_freq=2\n",
      "Training until validation scores don't improve for 100 rounds\n",
      "[100]\ttraining's l1: 0.894873\tvalid_1's l1: 1.22134\n",
      "[200]\ttraining's l1: 0.89429\tvalid_1's l1: 1.22016\n",
      "[300]\ttraining's l1: 0.892088\tvalid_1's l1: 1.21494\n",
      "[400]\ttraining's l1: 0.891793\tvalid_1's l1: 1.21387\n",
      "[500]\ttraining's l1: 0.89084\tvalid_1's l1: 1.21098\n",
      "[600]\ttraining's l1: 0.889489\tvalid_1's l1: 1.20683\n",
      "[700]\ttraining's l1: 0.88777\tvalid_1's l1: 1.20204\n",
      "[800]\ttraining's l1: 0.885767\tvalid_1's l1: 1.19752\n",
      "[900]\ttraining's l1: 0.885614\tvalid_1's l1: 1.19721\n",
      "[1000]\ttraining's l1: 0.885087\tvalid_1's l1: 1.19579\n",
      "[1100]\ttraining's l1: 0.882848\tvalid_1's l1: 1.1901\n",
      "[1200]\ttraining's l1: 0.880714\tvalid_1's l1: 1.1879\n",
      "[1300]\ttraining's l1: 0.878631\tvalid_1's l1: 1.18323\n",
      "[1400]\ttraining's l1: 0.876596\tvalid_1's l1: 1.17892\n",
      "[1500]\ttraining's l1: 0.873676\tvalid_1's l1: 1.17481\n",
      "[1600]\ttraining's l1: 0.873038\tvalid_1's l1: 1.17455\n",
      "[1700]\ttraining's l1: 0.87147\tvalid_1's l1: 1.17278\n",
      "[1800]\ttraining's l1: 0.869142\tvalid_1's l1: 1.17004\n",
      "[1900]\ttraining's l1: 0.867112\tvalid_1's l1: 1.16805\n",
      "[2000]\ttraining's l1: 0.866654\tvalid_1's l1: 1.16779\n",
      "[2100]\ttraining's l1: 0.865819\tvalid_1's l1: 1.16655\n",
      "[2200]\ttraining's l1: 0.86328\tvalid_1's l1: 1.1638\n",
      "[2300]\ttraining's l1: 0.860115\tvalid_1's l1: 1.16034\n",
      "[2400]\ttraining's l1: 0.858741\tvalid_1's l1: 1.16012\n",
      "[2500]\ttraining's l1: 0.857608\tvalid_1's l1: 1.15933\n",
      "[2600]\ttraining's l1: 0.85358\tvalid_1's l1: 1.15594\n",
      "[2700]\ttraining's l1: 0.852118\tvalid_1's l1: 1.15532\n",
      "[2800]\ttraining's l1: 0.851266\tvalid_1's l1: 1.15499\n",
      "[2900]\ttraining's l1: 0.850068\tvalid_1's l1: 1.15425\n",
      "[3000]\ttraining's l1: 0.84871\tvalid_1's l1: 1.15373\n",
      "[3100]\ttraining's l1: 0.847834\tvalid_1's l1: 1.15323\n",
      "[3200]\ttraining's l1: 0.846212\tvalid_1's l1: 1.15235\n",
      "[3300]\ttraining's l1: 0.845631\tvalid_1's l1: 1.15218\n",
      "Early stopping, best iteration is:\n",
      "[3203]\ttraining's l1: 0.845843\tvalid_1's l1: 1.15212\n"
     ]
    },
    {
     "name": "stderr",
     "output_type": "stream",
     "text": [
      "\u001b[32m[I 2021-07-04 20:31:41,098]\u001b[0m Trial 84 finished with value: -1.1518951206243546 and parameters: {'max_depth': 13, 'min_child_weight': 18, 'subsample': 0.7, 'colsample_bytree': 0.6, 'reg_lambda': 0.35870664638189437, 'reg_alpha': 0.0011971128276091168, 'feature_fraction': 0.4836419141346124, 'bagging_fraction': 0.7598982420554126, 'bagging_freq': 2}. Best is trial 79 with value: -1.1504363233815476.\u001b[0m\n"
     ]
    },
    {
     "name": "stdout",
     "output_type": "stream",
     "text": [
      "[LightGBM] [Warning] feature_fraction is set=0.4870271648829436, colsample_bytree=0.6 will be ignored. Current value: feature_fraction=0.4870271648829436\n",
      "[LightGBM] [Warning] bagging_fraction is set=0.7894414731611112, subsample=0.7 will be ignored. Current value: bagging_fraction=0.7894414731611112\n",
      "[LightGBM] [Warning] bagging_freq is set=2, subsample_freq=0 will be ignored. Current value: bagging_freq=2\n",
      "Training until validation scores don't improve for 100 rounds\n",
      "[100]\ttraining's l1: 0.896508\tvalid_1's l1: 1.22403\n",
      "[200]\ttraining's l1: 0.895234\tvalid_1's l1: 1.22052\n",
      "[300]\ttraining's l1: 0.89326\tvalid_1's l1: 1.21619\n",
      "[400]\ttraining's l1: 0.891606\tvalid_1's l1: 1.21248\n",
      "[500]\ttraining's l1: 0.891125\tvalid_1's l1: 1.21079\n",
      "[600]\ttraining's l1: 0.888893\tvalid_1's l1: 1.20579\n",
      "[700]\ttraining's l1: 0.888766\tvalid_1's l1: 1.20556\n",
      "[800]\ttraining's l1: 0.887769\tvalid_1's l1: 1.2032\n",
      "[900]\ttraining's l1: 0.885713\tvalid_1's l1: 1.19813\n",
      "[1000]\ttraining's l1: 0.88364\tvalid_1's l1: 1.19393\n",
      "[1100]\ttraining's l1: 0.88302\tvalid_1's l1: 1.19219\n",
      "[1200]\ttraining's l1: 0.881705\tvalid_1's l1: 1.19077\n",
      "[1300]\ttraining's l1: 0.879369\tvalid_1's l1: 1.18611\n",
      "[1400]\ttraining's l1: 0.877326\tvalid_1's l1: 1.18249\n",
      "[1500]\ttraining's l1: 0.875946\tvalid_1's l1: 1.17864\n",
      "[1600]\ttraining's l1: 0.873757\tvalid_1's l1: 1.17602\n",
      "[1700]\ttraining's l1: 0.872782\tvalid_1's l1: 1.1745\n",
      "[1800]\ttraining's l1: 0.869242\tvalid_1's l1: 1.16959\n",
      "[1900]\ttraining's l1: 0.866602\tvalid_1's l1: 1.16695\n",
      "[2000]\ttraining's l1: 0.864517\tvalid_1's l1: 1.16447\n",
      "[2100]\ttraining's l1: 0.862924\tvalid_1's l1: 1.16347\n",
      "[2200]\ttraining's l1: 0.860178\tvalid_1's l1: 1.16059\n",
      "[2300]\ttraining's l1: 0.859128\tvalid_1's l1: 1.15944\n",
      "[2400]\ttraining's l1: 0.857578\tvalid_1's l1: 1.15791\n",
      "[2500]\ttraining's l1: 0.853768\tvalid_1's l1: 1.15458\n",
      "[2600]\ttraining's l1: 0.852041\tvalid_1's l1: 1.15274\n",
      "[2700]\ttraining's l1: 0.849368\tvalid_1's l1: 1.15175\n",
      "[2800]\ttraining's l1: 0.848477\tvalid_1's l1: 1.15199\n",
      "Early stopping, best iteration is:\n",
      "[2707]\ttraining's l1: 0.84933\tvalid_1's l1: 1.15168\n"
     ]
    },
    {
     "name": "stderr",
     "output_type": "stream",
     "text": [
      "\u001b[32m[I 2021-07-04 20:33:03,058]\u001b[0m Trial 85 finished with value: -1.1514994322365826 and parameters: {'max_depth': 13, 'min_child_weight': 16, 'subsample': 0.7, 'colsample_bytree': 0.6, 'reg_lambda': 0.35950383753847404, 'reg_alpha': 0.0011736753059751045, 'feature_fraction': 0.4870271648829436, 'bagging_fraction': 0.7894414731611112, 'bagging_freq': 2}. Best is trial 79 with value: -1.1504363233815476.\u001b[0m\n"
     ]
    },
    {
     "name": "stdout",
     "output_type": "stream",
     "text": [
      "[LightGBM] [Warning] feature_fraction is set=0.45402613102836165, colsample_bytree=0.6 will be ignored. Current value: feature_fraction=0.45402613102836165\n",
      "[LightGBM] [Warning] bagging_fraction is set=0.806944713581871, subsample=0.7 will be ignored. Current value: bagging_fraction=0.806944713581871\n",
      "[LightGBM] [Warning] bagging_freq is set=1, subsample_freq=0 will be ignored. Current value: bagging_freq=1\n",
      "Training until validation scores don't improve for 100 rounds\n",
      "[100]\ttraining's l1: 0.895635\tvalid_1's l1: 1.22198\n",
      "[200]\ttraining's l1: 0.895633\tvalid_1's l1: 1.22198\n",
      "[300]\ttraining's l1: 0.895435\tvalid_1's l1: 1.22155\n",
      "[400]\ttraining's l1: 0.895431\tvalid_1's l1: 1.22155\n",
      "[500]\ttraining's l1: 0.893981\tvalid_1's l1: 1.21903\n",
      "[600]\ttraining's l1: 0.892809\tvalid_1's l1: 1.21575\n",
      "[700]\ttraining's l1: 0.890982\tvalid_1's l1: 1.21107\n",
      "[800]\ttraining's l1: 0.888906\tvalid_1's l1: 1.20608\n",
      "[900]\ttraining's l1: 0.886726\tvalid_1's l1: 1.20069\n",
      "[1000]\ttraining's l1: 0.885692\tvalid_1's l1: 1.19803\n",
      "[1100]\ttraining's l1: 0.88407\tvalid_1's l1: 1.19386\n",
      "[1200]\ttraining's l1: 0.881957\tvalid_1's l1: 1.18863\n",
      "[1300]\ttraining's l1: 0.880936\tvalid_1's l1: 1.18664\n",
      "[1400]\ttraining's l1: 0.879924\tvalid_1's l1: 1.18434\n",
      "[1500]\ttraining's l1: 0.879184\tvalid_1's l1: 1.18281\n",
      "[1600]\ttraining's l1: 0.876909\tvalid_1's l1: 1.18038\n",
      "[1700]\ttraining's l1: 0.873462\tvalid_1's l1: 1.17547\n",
      "[1800]\ttraining's l1: 0.871453\tvalid_1's l1: 1.17244\n",
      "[1900]\ttraining's l1: 0.867863\tvalid_1's l1: 1.16683\n",
      "[2000]\ttraining's l1: 0.866561\tvalid_1's l1: 1.16532\n",
      "[2100]\ttraining's l1: 0.865348\tvalid_1's l1: 1.16438\n",
      "[2200]\ttraining's l1: 0.863939\tvalid_1's l1: 1.16358\n",
      "[2300]\ttraining's l1: 0.862418\tvalid_1's l1: 1.16239\n",
      "[2400]\ttraining's l1: 0.86065\tvalid_1's l1: 1.1607\n",
      "[2500]\ttraining's l1: 0.856861\tvalid_1's l1: 1.15753\n",
      "[2600]\ttraining's l1: 0.855349\tvalid_1's l1: 1.15709\n",
      "[2700]\ttraining's l1: 0.854234\tvalid_1's l1: 1.15644\n",
      "[2800]\ttraining's l1: 0.851393\tvalid_1's l1: 1.15498\n",
      "[2900]\ttraining's l1: 0.849717\tvalid_1's l1: 1.15383\n",
      "[3000]\ttraining's l1: 0.84891\tvalid_1's l1: 1.15347\n",
      "Early stopping, best iteration is:\n",
      "[2948]\ttraining's l1: 0.849205\tvalid_1's l1: 1.15336\n"
     ]
    },
    {
     "name": "stderr",
     "output_type": "stream",
     "text": [
      "\u001b[32m[I 2021-07-04 20:34:08,173]\u001b[0m Trial 86 finished with value: -1.1531745161695184 and parameters: {'max_depth': 13, 'min_child_weight': 15, 'subsample': 0.7, 'colsample_bytree': 0.6, 'reg_lambda': 1.2737071827777713, 'reg_alpha': 0.0015415268409039978, 'feature_fraction': 0.45402613102836165, 'bagging_fraction': 0.806944713581871, 'bagging_freq': 1}. Best is trial 79 with value: -1.1504363233815476.\u001b[0m\n"
     ]
    },
    {
     "name": "stdout",
     "output_type": "stream",
     "text": [
      "[LightGBM] [Warning] feature_fraction is set=0.48233925063391897, colsample_bytree=0.6 will be ignored. Current value: feature_fraction=0.48233925063391897\n",
      "[LightGBM] [Warning] bagging_fraction is set=0.7956463489569116, subsample=0.7 will be ignored. Current value: bagging_fraction=0.7956463489569116\n",
      "[LightGBM] [Warning] bagging_freq is set=1, subsample_freq=0 will be ignored. Current value: bagging_freq=1\n",
      "Training until validation scores don't improve for 100 rounds\n",
      "[100]\ttraining's l1: 0.896913\tvalid_1's l1: 1.22518\n",
      "[200]\ttraining's l1: 0.896183\tvalid_1's l1: 1.223\n",
      "[300]\ttraining's l1: 0.893243\tvalid_1's l1: 1.21679\n",
      "[400]\ttraining's l1: 0.893203\tvalid_1's l1: 1.21673\n"
     ]
    },
    {
     "name": "stderr",
     "output_type": "stream",
     "text": [
      "\u001b[32m[I 2021-07-04 20:34:18,340]\u001b[0m Trial 87 finished with value: -1.2167188364949837 and parameters: {'max_depth': 14, 'min_child_weight': 15, 'subsample': 0.7, 'colsample_bytree': 0.6, 'reg_lambda': 1.3494017247572851, 'reg_alpha': 0.001015516065984883, 'feature_fraction': 0.48233925063391897, 'bagging_fraction': 0.7956463489569116, 'bagging_freq': 1}. Best is trial 79 with value: -1.1504363233815476.\u001b[0m\n"
     ]
    },
    {
     "name": "stdout",
     "output_type": "stream",
     "text": [
      "Early stopping, best iteration is:\n",
      "[317]\ttraining's l1: 0.893227\tvalid_1's l1: 1.21673\n",
      "[LightGBM] [Warning] feature_fraction is set=0.45650375188689896, colsample_bytree=0.6 will be ignored. Current value: feature_fraction=0.45650375188689896\n",
      "[LightGBM] [Warning] bagging_fraction is set=0.8924628486799593, subsample=0.7 will be ignored. Current value: bagging_fraction=0.8924628486799593\n",
      "[LightGBM] [Warning] bagging_freq is set=1, subsample_freq=0 will be ignored. Current value: bagging_freq=1\n",
      "Training until validation scores don't improve for 100 rounds\n",
      "[100]\ttraining's l1: 0.896477\tvalid_1's l1: 1.22378\n"
     ]
    },
    {
     "name": "stderr",
     "output_type": "stream",
     "text": [
      "\u001b[32m[I 2021-07-04 20:34:22,795]\u001b[0m Trial 88 finished with value: -1.223776277753344 and parameters: {'max_depth': 13, 'min_child_weight': 16, 'subsample': 0.7, 'colsample_bytree': 0.6, 'reg_lambda': 0.3719883055763039, 'reg_alpha': 0.00176351433765573, 'feature_fraction': 0.45650375188689896, 'bagging_fraction': 0.8924628486799593, 'bagging_freq': 1}. Best is trial 79 with value: -1.1504363233815476.\u001b[0m\n"
     ]
    },
    {
     "name": "stdout",
     "output_type": "stream",
     "text": [
      "Early stopping, best iteration is:\n",
      "[53]\ttraining's l1: 0.896486\tvalid_1's l1: 1.22378\n",
      "[LightGBM] [Warning] feature_fraction is set=0.5205231163894065, colsample_bytree=0.6 will be ignored. Current value: feature_fraction=0.5205231163894065\n",
      "[LightGBM] [Warning] bagging_fraction is set=0.7705045713263123, subsample=0.7 will be ignored. Current value: bagging_fraction=0.7705045713263123\n",
      "[LightGBM] [Warning] bagging_freq is set=2, subsample_freq=0 will be ignored. Current value: bagging_freq=2\n",
      "Training until validation scores don't improve for 100 rounds\n",
      "[100]\ttraining's l1: 0.894923\tvalid_1's l1: 1.22075\n"
     ]
    },
    {
     "name": "stderr",
     "output_type": "stream",
     "text": [
      "\u001b[32m[I 2021-07-04 20:34:29,036]\u001b[0m Trial 89 finished with value: -1.220749785089836 and parameters: {'max_depth': 11, 'min_child_weight': 15, 'subsample': 0.7, 'colsample_bytree': 0.6, 'reg_lambda': 0.0011019591937083816, 'reg_alpha': 0.0010226532220022834, 'feature_fraction': 0.5205231163894065, 'bagging_fraction': 0.7705045713263123, 'bagging_freq': 2}. Best is trial 79 with value: -1.1504363233815476.\u001b[0m\n"
     ]
    },
    {
     "name": "stdout",
     "output_type": "stream",
     "text": [
      "Early stopping, best iteration is:\n",
      "[74]\ttraining's l1: 0.894924\tvalid_1's l1: 1.22075\n",
      "[LightGBM] [Warning] feature_fraction is set=0.4755411814152798, colsample_bytree=0.6 will be ignored. Current value: feature_fraction=0.4755411814152798\n",
      "[LightGBM] [Warning] bagging_fraction is set=0.8609779890356986, subsample=0.7 will be ignored. Current value: bagging_fraction=0.8609779890356986\n",
      "[LightGBM] [Warning] bagging_freq is set=1, subsample_freq=0 will be ignored. Current value: bagging_freq=1\n",
      "Training until validation scores don't improve for 100 rounds\n",
      "[100]\ttraining's l1: 0.896987\tvalid_1's l1: 1.22534\n",
      "[200]\ttraining's l1: 0.896337\tvalid_1's l1: 1.22363\n"
     ]
    },
    {
     "name": "stderr",
     "output_type": "stream",
     "text": [
      "\u001b[32m[I 2021-07-04 20:34:35,375]\u001b[0m Trial 90 finished with value: -1.2236285819159656 and parameters: {'max_depth': 13, 'min_child_weight': 14, 'subsample': 0.7, 'colsample_bytree': 0.6, 'reg_lambda': 0.7407607918670704, 'reg_alpha': 0.0026184675675391188, 'feature_fraction': 0.4755411814152798, 'bagging_fraction': 0.8609779890356986, 'bagging_freq': 1}. Best is trial 79 with value: -1.1504363233815476.\u001b[0m\n"
     ]
    },
    {
     "name": "stdout",
     "output_type": "stream",
     "text": [
      "Early stopping, best iteration is:\n",
      "[137]\ttraining's l1: 0.89634\tvalid_1's l1: 1.22363\n",
      "[LightGBM] [Warning] feature_fraction is set=0.41759989086703875, colsample_bytree=0.6 will be ignored. Current value: feature_fraction=0.41759989086703875\n",
      "[LightGBM] [Warning] bagging_fraction is set=0.750312181583136, subsample=0.7 will be ignored. Current value: bagging_fraction=0.750312181583136\n",
      "[LightGBM] [Warning] bagging_freq is set=2, subsample_freq=0 will be ignored. Current value: bagging_freq=2\n",
      "Training until validation scores don't improve for 100 rounds\n",
      "[100]\ttraining's l1: 0.896291\tvalid_1's l1: 1.22146\n",
      "[200]\ttraining's l1: 0.895709\tvalid_1's l1: 1.22034\n",
      "[300]\ttraining's l1: 0.895473\tvalid_1's l1: 1.22005\n",
      "[400]\ttraining's l1: 0.894865\tvalid_1's l1: 1.2192\n",
      "[500]\ttraining's l1: 0.892891\tvalid_1's l1: 1.21447\n"
     ]
    },
    {
     "name": "stderr",
     "output_type": "stream",
     "text": [
      "\u001b[32m[I 2021-07-04 20:34:51,831]\u001b[0m Trial 91 finished with value: -1.2144423998596332 and parameters: {'max_depth': 12, 'min_child_weight': 16, 'subsample': 0.7, 'colsample_bytree': 0.6, 'reg_lambda': 0.24547643195169247, 'reg_alpha': 0.0033133683654313997, 'feature_fraction': 0.41759989086703875, 'bagging_fraction': 0.750312181583136, 'bagging_freq': 2}. Best is trial 79 with value: -1.1504363233815476.\u001b[0m\n"
     ]
    },
    {
     "name": "stdout",
     "output_type": "stream",
     "text": [
      "Early stopping, best iteration is:\n",
      "[464]\ttraining's l1: 0.892893\tvalid_1's l1: 1.21446\n",
      "[LightGBM] [Warning] feature_fraction is set=0.49482193161535537, colsample_bytree=0.6 will be ignored. Current value: feature_fraction=0.49482193161535537\n",
      "[LightGBM] [Warning] bagging_fraction is set=0.7660117118548124, subsample=0.7 will be ignored. Current value: bagging_fraction=0.7660117118548124\n",
      "[LightGBM] [Warning] bagging_freq is set=2, subsample_freq=0 will be ignored. Current value: bagging_freq=2\n",
      "Training until validation scores don't improve for 100 rounds\n",
      "[100]\ttraining's l1: 0.894866\tvalid_1's l1: 1.22268\n",
      "[200]\ttraining's l1: 0.894865\tvalid_1's l1: 1.22268\n",
      "[300]\ttraining's l1: 0.894694\tvalid_1's l1: 1.22238\n",
      "[400]\ttraining's l1: 0.894691\tvalid_1's l1: 1.22238\n",
      "[500]\ttraining's l1: 0.89297\tvalid_1's l1: 1.21816\n",
      "[600]\ttraining's l1: 0.89246\tvalid_1's l1: 1.21742\n",
      "[700]\ttraining's l1: 0.891274\tvalid_1's l1: 1.2142\n",
      "[800]\ttraining's l1: 0.890438\tvalid_1's l1: 1.21282\n",
      "[900]\ttraining's l1: 0.888945\tvalid_1's l1: 1.20852\n",
      "[1000]\ttraining's l1: 0.888789\tvalid_1's l1: 1.20828\n",
      "Early stopping, best iteration is:\n",
      "[923]\ttraining's l1: 0.888842\tvalid_1's l1: 1.20824\n"
     ]
    },
    {
     "name": "stderr",
     "output_type": "stream",
     "text": [
      "\u001b[32m[I 2021-07-04 20:35:22,237]\u001b[0m Trial 92 finished with value: -1.2082204064855182 and parameters: {'max_depth': 14, 'min_child_weight': 17, 'subsample': 0.7, 'colsample_bytree': 0.6, 'reg_lambda': 0.5603987558021171, 'reg_alpha': 0.0036999426783256664, 'feature_fraction': 0.49482193161535537, 'bagging_fraction': 0.7660117118548124, 'bagging_freq': 2}. Best is trial 79 with value: -1.1504363233815476.\u001b[0m\n"
     ]
    },
    {
     "name": "stdout",
     "output_type": "stream",
     "text": [
      "[LightGBM] [Warning] feature_fraction is set=0.4412601691561524, colsample_bytree=0.6 will be ignored. Current value: feature_fraction=0.4412601691561524\n",
      "[LightGBM] [Warning] bagging_fraction is set=0.8150542990731282, subsample=0.7 will be ignored. Current value: bagging_fraction=0.8150542990731282\n",
      "[LightGBM] [Warning] bagging_freq is set=1, subsample_freq=0 will be ignored. Current value: bagging_freq=1\n",
      "Training until validation scores don't improve for 100 rounds\n",
      "[100]\ttraining's l1: 0.894846\tvalid_1's l1: 1.21911\n",
      "[200]\ttraining's l1: 0.894574\tvalid_1's l1: 1.21866\n",
      "[300]\ttraining's l1: 0.89367\tvalid_1's l1: 1.21704\n",
      "[400]\ttraining's l1: 0.893578\tvalid_1's l1: 1.21682\n",
      "[500]\ttraining's l1: 0.892633\tvalid_1's l1: 1.21397\n",
      "[600]\ttraining's l1: 0.891885\tvalid_1's l1: 1.21231\n",
      "[700]\ttraining's l1: 0.890131\tvalid_1's l1: 1.20748\n",
      "[800]\ttraining's l1: 0.885894\tvalid_1's l1: 1.1968\n",
      "[900]\ttraining's l1: 0.883767\tvalid_1's l1: 1.19355\n",
      "[1000]\ttraining's l1: 0.880659\tvalid_1's l1: 1.18778\n",
      "[1100]\ttraining's l1: 0.878997\tvalid_1's l1: 1.18446\n",
      "[1200]\ttraining's l1: 0.876576\tvalid_1's l1: 1.17949\n",
      "[1300]\ttraining's l1: 0.875312\tvalid_1's l1: 1.17758\n",
      "[1400]\ttraining's l1: 0.872615\tvalid_1's l1: 1.17452\n",
      "[1500]\ttraining's l1: 0.869125\tvalid_1's l1: 1.16918\n",
      "[1600]\ttraining's l1: 0.86611\tvalid_1's l1: 1.16714\n",
      "[1700]\ttraining's l1: 0.864708\tvalid_1's l1: 1.16601\n",
      "[1800]\ttraining's l1: 0.862447\tvalid_1's l1: 1.1641\n",
      "[1900]\ttraining's l1: 0.86089\tvalid_1's l1: 1.1621\n",
      "[2000]\ttraining's l1: 0.859924\tvalid_1's l1: 1.16149\n",
      "[2100]\ttraining's l1: 0.858183\tvalid_1's l1: 1.16006\n",
      "[2200]\ttraining's l1: 0.856034\tvalid_1's l1: 1.15839\n",
      "[2300]\ttraining's l1: 0.854917\tvalid_1's l1: 1.15783\n",
      "[2400]\ttraining's l1: 0.85195\tvalid_1's l1: 1.15583\n",
      "[2500]\ttraining's l1: 0.850571\tvalid_1's l1: 1.15528\n",
      "[2600]\ttraining's l1: 0.849065\tvalid_1's l1: 1.15518\n",
      "[2700]\ttraining's l1: 0.846863\tvalid_1's l1: 1.15392\n",
      "[2800]\ttraining's l1: 0.845738\tvalid_1's l1: 1.15423\n",
      "[2900]\ttraining's l1: 0.84532\tvalid_1's l1: 1.1538\n",
      "Early stopping, best iteration is:\n",
      "[2821]\ttraining's l1: 0.845472\tvalid_1's l1: 1.15374\n"
     ]
    },
    {
     "name": "stderr",
     "output_type": "stream",
     "text": [
      "\u001b[32m[I 2021-07-04 20:36:23,642]\u001b[0m Trial 93 finished with value: -1.1535517310359824 and parameters: {'max_depth': 8, 'min_child_weight': 18, 'subsample': 0.7, 'colsample_bytree': 0.6, 'reg_lambda': 1.2034962278499721, 'reg_alpha': 0.0013809017096526224, 'feature_fraction': 0.4412601691561524, 'bagging_fraction': 0.8150542990731282, 'bagging_freq': 1}. Best is trial 79 with value: -1.1504363233815476.\u001b[0m\n"
     ]
    },
    {
     "name": "stdout",
     "output_type": "stream",
     "text": [
      "[LightGBM] [Warning] feature_fraction is set=0.553206870298772, colsample_bytree=0.6 will be ignored. Current value: feature_fraction=0.553206870298772\n",
      "[LightGBM] [Warning] bagging_fraction is set=0.8253761769551381, subsample=0.7 will be ignored. Current value: bagging_fraction=0.8253761769551381\n",
      "[LightGBM] [Warning] bagging_freq is set=1, subsample_freq=0 will be ignored. Current value: bagging_freq=1\n",
      "Training until validation scores don't improve for 100 rounds\n",
      "[100]\ttraining's l1: 0.889269\tvalid_1's l1: 1.2107\n",
      "[200]\ttraining's l1: 0.887778\tvalid_1's l1: 1.20844\n",
      "[300]\ttraining's l1: 0.887772\tvalid_1's l1: 1.20844\n",
      "[400]\ttraining's l1: 0.887696\tvalid_1's l1: 1.20834\n",
      "[500]\ttraining's l1: 0.886665\tvalid_1's l1: 1.20647\n",
      "[600]\ttraining's l1: 0.886363\tvalid_1's l1: 1.20574\n",
      "[700]\ttraining's l1: 0.886304\tvalid_1's l1: 1.20565\n",
      "[800]\ttraining's l1: 0.885157\tvalid_1's l1: 1.20274\n",
      "[900]\ttraining's l1: 0.883459\tvalid_1's l1: 1.20063\n",
      "[1000]\ttraining's l1: 0.883107\tvalid_1's l1: 1.20021\n",
      "[1100]\ttraining's l1: 0.882659\tvalid_1's l1: 1.19917\n",
      "[1200]\ttraining's l1: 0.880709\tvalid_1's l1: 1.19436\n",
      "[1300]\ttraining's l1: 0.876926\tvalid_1's l1: 1.18755\n",
      "[1400]\ttraining's l1: 0.87532\tvalid_1's l1: 1.18453\n",
      "[1500]\ttraining's l1: 0.873317\tvalid_1's l1: 1.17944\n",
      "[1600]\ttraining's l1: 0.87275\tvalid_1's l1: 1.1781\n",
      "[1700]\ttraining's l1: 0.872315\tvalid_1's l1: 1.17789\n",
      "[1800]\ttraining's l1: 0.868927\tvalid_1's l1: 1.17364\n",
      "[1900]\ttraining's l1: 0.866083\tvalid_1's l1: 1.16806\n",
      "[2000]\ttraining's l1: 0.865272\tvalid_1's l1: 1.16669\n",
      "[2100]\ttraining's l1: 0.864726\tvalid_1's l1: 1.16601\n",
      "[2200]\ttraining's l1: 0.863981\tvalid_1's l1: 1.16561\n",
      "Early stopping, best iteration is:\n",
      "[2156]\ttraining's l1: 0.864142\tvalid_1's l1: 1.1655\n"
     ]
    },
    {
     "name": "stderr",
     "output_type": "stream",
     "text": [
      "\u001b[32m[I 2021-07-04 20:37:12,302]\u001b[0m Trial 94 finished with value: -1.1653933273684787 and parameters: {'max_depth': 7, 'min_child_weight': 18, 'subsample': 0.7, 'colsample_bytree': 0.6, 'reg_lambda': 2.4574838838572495, 'reg_alpha': 0.001253402515644133, 'feature_fraction': 0.553206870298772, 'bagging_fraction': 0.8253761769551381, 'bagging_freq': 1}. Best is trial 79 with value: -1.1504363233815476.\u001b[0m\n"
     ]
    },
    {
     "name": "stdout",
     "output_type": "stream",
     "text": [
      "[LightGBM] [Warning] feature_fraction is set=0.4471074335537532, colsample_bytree=0.6 will be ignored. Current value: feature_fraction=0.4471074335537532\n",
      "[LightGBM] [Warning] bagging_fraction is set=0.8203476110430563, subsample=0.7 will be ignored. Current value: bagging_fraction=0.8203476110430563\n",
      "[LightGBM] [Warning] bagging_freq is set=1, subsample_freq=0 will be ignored. Current value: bagging_freq=1\n",
      "Training until validation scores don't improve for 100 rounds\n",
      "[100]\ttraining's l1: 0.895193\tvalid_1's l1: 1.22073\n",
      "[200]\ttraining's l1: 0.893887\tvalid_1's l1: 1.21801\n",
      "[300]\ttraining's l1: 0.893248\tvalid_1's l1: 1.21656\n",
      "[400]\ttraining's l1: 0.892838\tvalid_1's l1: 1.21493\n"
     ]
    },
    {
     "name": "stderr",
     "output_type": "stream",
     "text": [
      "\u001b[32m[I 2021-07-04 20:37:23,500]\u001b[0m Trial 95 finished with value: -1.2149034465143025 and parameters: {'max_depth': 9, 'min_child_weight': 17, 'subsample': 0.7, 'colsample_bytree': 0.6, 'reg_lambda': 3.5142068468584675, 'reg_alpha': 0.005720223249634451, 'feature_fraction': 0.4471074335537532, 'bagging_fraction': 0.8203476110430563, 'bagging_freq': 1}. Best is trial 79 with value: -1.1504363233815476.\u001b[0m\n"
     ]
    },
    {
     "name": "stdout",
     "output_type": "stream",
     "text": [
      "Early stopping, best iteration is:\n",
      "[385]\ttraining's l1: 0.89285\tvalid_1's l1: 1.21491\n",
      "[LightGBM] [Warning] feature_fraction is set=0.5255496264228623, colsample_bytree=0.6 will be ignored. Current value: feature_fraction=0.5255496264228623\n",
      "[LightGBM] [Warning] bagging_fraction is set=0.7832368534348633, subsample=0.7 will be ignored. Current value: bagging_fraction=0.7832368534348633\n",
      "[LightGBM] [Warning] bagging_freq is set=2, subsample_freq=0 will be ignored. Current value: bagging_freq=2\n",
      "Training until validation scores don't improve for 100 rounds\n",
      "[100]\ttraining's l1: 0.894219\tvalid_1's l1: 1.21823\n",
      "[200]\ttraining's l1: 0.893748\tvalid_1's l1: 1.2171\n",
      "[300]\ttraining's l1: 0.89266\tvalid_1's l1: 1.2148\n",
      "[400]\ttraining's l1: 0.89015\tvalid_1's l1: 1.20951\n",
      "[500]\ttraining's l1: 0.888742\tvalid_1's l1: 1.20579\n",
      "[600]\ttraining's l1: 0.887223\tvalid_1's l1: 1.20181\n",
      "[700]\ttraining's l1: 0.887204\tvalid_1's l1: 1.20181\n",
      "[800]\ttraining's l1: 0.884582\tvalid_1's l1: 1.19572\n",
      "[900]\ttraining's l1: 0.883124\tvalid_1's l1: 1.19371\n",
      "[1000]\ttraining's l1: 0.882091\tvalid_1's l1: 1.19194\n",
      "[1100]\ttraining's l1: 0.880625\tvalid_1's l1: 1.18896\n",
      "Early stopping, best iteration is:\n",
      "[1087]\ttraining's l1: 0.880725\tvalid_1's l1: 1.18878\n"
     ]
    },
    {
     "name": "stderr",
     "output_type": "stream",
     "text": [
      "\u001b[32m[I 2021-07-04 20:37:59,545]\u001b[0m Trial 96 finished with value: -1.1887209758253188 and parameters: {'max_depth': 8, 'min_child_weight': 13, 'subsample': 0.7, 'colsample_bytree': 0.6, 'reg_lambda': 1.0058685697019862, 'reg_alpha': 0.0016099900301558207, 'feature_fraction': 0.5255496264228623, 'bagging_fraction': 0.7832368534348633, 'bagging_freq': 2}. Best is trial 79 with value: -1.1504363233815476.\u001b[0m\n"
     ]
    },
    {
     "name": "stdout",
     "output_type": "stream",
     "text": [
      "[LightGBM] [Warning] feature_fraction is set=0.45658816219947684, colsample_bytree=0.6 will be ignored. Current value: feature_fraction=0.45658816219947684\n",
      "[LightGBM] [Warning] bagging_fraction is set=0.8399065854187115, subsample=0.7 will be ignored. Current value: bagging_fraction=0.8399065854187115\n",
      "[LightGBM] [Warning] bagging_freq is set=1, subsample_freq=0 will be ignored. Current value: bagging_freq=1\n",
      "Training until validation scores don't improve for 100 rounds\n",
      "[100]\ttraining's l1: 0.895784\tvalid_1's l1: 1.22272\n",
      "[200]\ttraining's l1: 0.8946\tvalid_1's l1: 1.21965\n"
     ]
    },
    {
     "name": "stderr",
     "output_type": "stream",
     "text": [
      "\u001b[32m[I 2021-07-04 20:38:06,030]\u001b[0m Trial 97 finished with value: -1.2196444200252656 and parameters: {'max_depth': 10, 'min_child_weight': 18, 'subsample': 0.7, 'colsample_bytree': 0.6, 'reg_lambda': 6.130022583463869, 'reg_alpha': 0.002189666196609613, 'feature_fraction': 0.45658816219947684, 'bagging_fraction': 0.8399065854187115, 'bagging_freq': 1}. Best is trial 79 with value: -1.1504363233815476.\u001b[0m\n"
     ]
    },
    {
     "name": "stdout",
     "output_type": "stream",
     "text": [
      "Early stopping, best iteration is:\n",
      "[151]\ttraining's l1: 0.894601\tvalid_1's l1: 1.21965\n",
      "[LightGBM] [Warning] feature_fraction is set=0.5057028787354821, colsample_bytree=0.6 will be ignored. Current value: feature_fraction=0.5057028787354821\n",
      "[LightGBM] [Warning] bagging_fraction is set=0.8095040263153389, subsample=0.8 will be ignored. Current value: bagging_fraction=0.8095040263153389\n",
      "[LightGBM] [Warning] bagging_freq is set=2, subsample_freq=0 will be ignored. Current value: bagging_freq=2\n",
      "Training until validation scores don't improve for 100 rounds\n",
      "[100]\ttraining's l1: 0.895864\tvalid_1's l1: 1.22389\n",
      "[200]\ttraining's l1: 0.895261\tvalid_1's l1: 1.22224\n",
      "[300]\ttraining's l1: 0.895251\tvalid_1's l1: 1.22224\n",
      "[400]\ttraining's l1: 0.894151\tvalid_1's l1: 1.22063\n",
      "[500]\ttraining's l1: 0.891729\tvalid_1's l1: 1.21465\n",
      "[600]\ttraining's l1: 0.890274\tvalid_1's l1: 1.21129\n",
      "[700]\ttraining's l1: 0.889347\tvalid_1's l1: 1.20918\n",
      "[800]\ttraining's l1: 0.884306\tvalid_1's l1: 1.1967\n",
      "[900]\ttraining's l1: 0.883277\tvalid_1's l1: 1.19444\n",
      "[1000]\ttraining's l1: 0.881861\tvalid_1's l1: 1.1923\n",
      "[1100]\ttraining's l1: 0.87999\tvalid_1's l1: 1.18863\n",
      "[1200]\ttraining's l1: 0.878278\tvalid_1's l1: 1.18647\n",
      "[1300]\ttraining's l1: 0.876374\tvalid_1's l1: 1.18188\n",
      "[1400]\ttraining's l1: 0.875067\tvalid_1's l1: 1.17892\n",
      "[1500]\ttraining's l1: 0.873866\tvalid_1's l1: 1.1775\n",
      "[1600]\ttraining's l1: 0.869892\tvalid_1's l1: 1.17144\n",
      "[1700]\ttraining's l1: 0.868094\tvalid_1's l1: 1.16944\n",
      "[1800]\ttraining's l1: 0.867292\tvalid_1's l1: 1.1688\n",
      "[1900]\ttraining's l1: 0.863808\tvalid_1's l1: 1.16546\n",
      "[2000]\ttraining's l1: 0.861097\tvalid_1's l1: 1.16271\n",
      "[2100]\ttraining's l1: 0.86043\tvalid_1's l1: 1.16196\n",
      "[2200]\ttraining's l1: 0.858826\tvalid_1's l1: 1.16028\n",
      "[2300]\ttraining's l1: 0.858207\tvalid_1's l1: 1.15979\n",
      "[2400]\ttraining's l1: 0.856876\tvalid_1's l1: 1.15903\n",
      "[2500]\ttraining's l1: 0.855835\tvalid_1's l1: 1.1589\n",
      "[2600]\ttraining's l1: 0.854607\tvalid_1's l1: 1.15807\n",
      "[2700]\ttraining's l1: 0.853553\tvalid_1's l1: 1.15817\n",
      "[2800]\ttraining's l1: 0.851547\tvalid_1's l1: 1.1572\n",
      "[2900]\ttraining's l1: 0.849677\tvalid_1's l1: 1.15643\n",
      "[3000]\ttraining's l1: 0.848129\tvalid_1's l1: 1.156\n",
      "[3100]\ttraining's l1: 0.847689\tvalid_1's l1: 1.15575\n",
      "[3200]\ttraining's l1: 0.84668\tvalid_1's l1: 1.15479\n",
      "[3300]\ttraining's l1: 0.845995\tvalid_1's l1: 1.15419\n",
      "[3400]\ttraining's l1: 0.845024\tvalid_1's l1: 1.15343\n",
      "[3500]\ttraining's l1: 0.843518\tvalid_1's l1: 1.15329\n",
      "Early stopping, best iteration is:\n",
      "[3418]\ttraining's l1: 0.84482\tvalid_1's l1: 1.15316\n"
     ]
    },
    {
     "name": "stderr",
     "output_type": "stream",
     "text": [
      "\u001b[32m[I 2021-07-04 20:39:51,224]\u001b[0m Trial 98 finished with value: -1.152897772440413 and parameters: {'max_depth': 12, 'min_child_weight': 16, 'subsample': 0.8, 'colsample_bytree': 0.6, 'reg_lambda': 1.2954869746196223, 'reg_alpha': 0.001309920857887724, 'feature_fraction': 0.5057028787354821, 'bagging_fraction': 0.8095040263153389, 'bagging_freq': 2}. Best is trial 79 with value: -1.1504363233815476.\u001b[0m\n"
     ]
    },
    {
     "name": "stdout",
     "output_type": "stream",
     "text": [
      "[LightGBM] [Warning] feature_fraction is set=0.5023697374803857, colsample_bytree=0.6 will be ignored. Current value: feature_fraction=0.5023697374803857\n",
      "[LightGBM] [Warning] bagging_fraction is set=0.8549489371700889, subsample=0.8 will be ignored. Current value: bagging_fraction=0.8549489371700889\n",
      "[LightGBM] [Warning] bagging_freq is set=2, subsample_freq=0 will be ignored. Current value: bagging_freq=2\n",
      "Training until validation scores don't improve for 100 rounds\n",
      "[100]\ttraining's l1: 0.895465\tvalid_1's l1: 1.22279\n",
      "[200]\ttraining's l1: 0.895446\tvalid_1's l1: 1.22279\n"
     ]
    },
    {
     "name": "stderr",
     "output_type": "stream",
     "text": [
      "\u001b[32m[I 2021-07-04 20:39:59,630]\u001b[0m Trial 99 finished with value: -1.22277454858338 and parameters: {'max_depth': 12, 'min_child_weight': 16, 'subsample': 0.8, 'colsample_bytree': 0.6, 'reg_lambda': 1.141696990944413, 'reg_alpha': 0.001104305744343454, 'feature_fraction': 0.5023697374803857, 'bagging_fraction': 0.8549489371700889, 'bagging_freq': 2}. Best is trial 79 with value: -1.1504363233815476.\u001b[0m\n"
     ]
    },
    {
     "name": "stdout",
     "output_type": "stream",
     "text": [
      "Early stopping, best iteration is:\n",
      "[134]\ttraining's l1: 0.895457\tvalid_1's l1: 1.22278\n",
      "Number of finished trials: 100\n",
      "Best trial: {'max_depth': 13, 'min_child_weight': 17, 'subsample': 0.7, 'colsample_bytree': 0.6, 'reg_lambda': 0.13374339431784696, 'reg_alpha': 0.0019464699962148941, 'feature_fraction': 0.4163878025068712, 'bagging_fraction': 0.5237962151965605, 'bagging_freq': 3}\n"
     ]
    }
   ],
   "source": [
    "study1 = optuna.create_study(direction='maximize')\n",
    "study1.optimize(fit_lgbm(x_train[feature_cols1], y_train['target1'], x_valid[feature_cols1], y_valid['target1']), n_trials=100)\n",
    "\n",
    "print('Number of finished trials:', len(study1.trials))\n",
    "print('Best trial:', study1.best_trial.params)"
   ]
  },
  {
   "cell_type": "code",
   "execution_count": 40,
   "id": "9aa983d0",
   "metadata": {},
   "outputs": [
    {
     "name": "stderr",
     "output_type": "stream",
     "text": [
      "\u001b[32m[I 2021-07-04 20:39:59,649]\u001b[0m A new study created in memory with name: no-name-adeb2516-81e8-487e-8f5d-63c5b2b64a45\u001b[0m\n"
     ]
    },
    {
     "name": "stdout",
     "output_type": "stream",
     "text": [
      "[LightGBM] [Warning] feature_fraction is set=0.9979692350207983, colsample_bytree=0.5 will be ignored. Current value: feature_fraction=0.9979692350207983\n",
      "[LightGBM] [Warning] bagging_fraction is set=0.9420613988885039, subsample=0.7 will be ignored. Current value: bagging_fraction=0.9420613988885039\n",
      "[LightGBM] [Warning] bagging_freq is set=1, subsample_freq=0 will be ignored. Current value: bagging_freq=1\n",
      "Training until validation scores don't improve for 100 rounds\n",
      "[100]\ttraining's l1: 1.88165\tvalid_1's l1: 2.28799\n",
      "[200]\ttraining's l1: 1.83601\tvalid_1's l1: 2.26427\n"
     ]
    },
    {
     "name": "stderr",
     "output_type": "stream",
     "text": [
      "\u001b[32m[I 2021-07-04 20:40:06,467]\u001b[0m Trial 0 finished with value: -2.2607318460275145 and parameters: {'max_depth': 9, 'min_child_weight': 18, 'subsample': 0.7, 'colsample_bytree': 0.5, 'reg_lambda': 610.8872841698089, 'reg_alpha': 8.953371873071369, 'feature_fraction': 0.9979692350207983, 'bagging_fraction': 0.9420613988885039, 'bagging_freq': 1}. Best is trial 0 with value: -2.2607318460275145.\u001b[0m\n"
     ]
    },
    {
     "name": "stdout",
     "output_type": "stream",
     "text": [
      "Early stopping, best iteration is:\n",
      "[177]\ttraining's l1: 1.84069\tvalid_1's l1: 2.26129\n",
      "[LightGBM] [Warning] feature_fraction is set=0.904717829594346, colsample_bytree=0.5 will be ignored. Current value: feature_fraction=0.904717829594346\n",
      "[LightGBM] [Warning] bagging_fraction is set=0.9815478331299801, subsample=0.8 will be ignored. Current value: bagging_fraction=0.9815478331299801\n",
      "[LightGBM] [Warning] bagging_freq is set=2, subsample_freq=0 will be ignored. Current value: bagging_freq=2\n",
      "Training until validation scores don't improve for 100 rounds\n",
      "[100]\ttraining's l1: 1.87229\tvalid_1's l1: 2.28224\n",
      "[200]\ttraining's l1: 1.83216\tvalid_1's l1: 2.26483\n"
     ]
    },
    {
     "name": "stderr",
     "output_type": "stream",
     "text": [
      "\u001b[32m[I 2021-07-04 20:40:16,007]\u001b[0m Trial 1 finished with value: -2.256512814644166 and parameters: {'max_depth': 10, 'min_child_weight': 19, 'subsample': 0.8, 'colsample_bytree': 0.5, 'reg_lambda': 5.759717457455985, 'reg_alpha': 0.0019512571340485519, 'feature_fraction': 0.904717829594346, 'bagging_fraction': 0.9815478331299801, 'bagging_freq': 2}. Best is trial 1 with value: -2.256512814644166.\u001b[0m\n"
     ]
    },
    {
     "name": "stdout",
     "output_type": "stream",
     "text": [
      "Early stopping, best iteration is:\n",
      "[140]\ttraining's l1: 1.84646\tvalid_1's l1: 2.25722\n",
      "[LightGBM] [Warning] feature_fraction is set=0.8211240601989622, colsample_bytree=0.9 will be ignored. Current value: feature_fraction=0.8211240601989622\n",
      "[LightGBM] [Warning] bagging_fraction is set=0.788527458431934, subsample=0.5 will be ignored. Current value: bagging_fraction=0.788527458431934\n",
      "[LightGBM] [Warning] bagging_freq is set=8, subsample_freq=0 will be ignored. Current value: bagging_freq=8\n",
      "Training until validation scores don't improve for 100 rounds\n",
      "[100]\ttraining's l1: 1.87183\tvalid_1's l1: 2.27115\n",
      "[200]\ttraining's l1: 1.82281\tvalid_1's l1: 2.25764\n"
     ]
    },
    {
     "name": "stderr",
     "output_type": "stream",
     "text": [
      "\u001b[32m[I 2021-07-04 20:40:22,847]\u001b[0m Trial 2 finished with value: -2.2522347793058355 and parameters: {'max_depth': 15, 'min_child_weight': 12, 'subsample': 0.5, 'colsample_bytree': 0.9, 'reg_lambda': 0.3778058464089981, 'reg_alpha': 1.6592775972872087, 'feature_fraction': 0.8211240601989622, 'bagging_fraction': 0.788527458431934, 'bagging_freq': 8}. Best is trial 2 with value: -2.2522347793058355.\u001b[0m\n"
     ]
    },
    {
     "name": "stdout",
     "output_type": "stream",
     "text": [
      "Early stopping, best iteration is:\n",
      "[164]\ttraining's l1: 1.83093\tvalid_1's l1: 2.25289\n",
      "[LightGBM] [Warning] feature_fraction is set=0.6494205982209067, colsample_bytree=0.5 will be ignored. Current value: feature_fraction=0.6494205982209067\n",
      "[LightGBM] [Warning] bagging_fraction is set=0.5810606624433179, subsample=0.6 will be ignored. Current value: bagging_fraction=0.5810606624433179\n",
      "[LightGBM] [Warning] bagging_freq is set=8, subsample_freq=0 will be ignored. Current value: bagging_freq=8\n",
      "Training until validation scores don't improve for 100 rounds\n",
      "[100]\ttraining's l1: 1.86796\tvalid_1's l1: 2.25116\n",
      "[200]\ttraining's l1: 1.82751\tvalid_1's l1: 2.25325\n",
      "[300]\ttraining's l1: 1.80012\tvalid_1's l1: 2.25279\n"
     ]
    },
    {
     "name": "stderr",
     "output_type": "stream",
     "text": [
      "\u001b[32m[I 2021-07-04 20:40:30,386]\u001b[0m Trial 3 finished with value: -2.2462423995082004 and parameters: {'max_depth': 9, 'min_child_weight': 3, 'subsample': 0.6, 'colsample_bytree': 0.5, 'reg_lambda': 0.0016447125601475581, 'reg_alpha': 6.482679158351452, 'feature_fraction': 0.6494205982209067, 'bagging_fraction': 0.5810606624433179, 'bagging_freq': 8}. Best is trial 3 with value: -2.2462423995082004.\u001b[0m\n"
     ]
    },
    {
     "name": "stdout",
     "output_type": "stream",
     "text": [
      "Early stopping, best iteration is:\n",
      "[248]\ttraining's l1: 1.81163\tvalid_1's l1: 2.24645\n",
      "[LightGBM] [Warning] feature_fraction is set=0.8287717961814668, colsample_bytree=0.7 will be ignored. Current value: feature_fraction=0.8287717961814668\n",
      "[LightGBM] [Warning] bagging_fraction is set=0.5079343340719947, subsample=0.7 will be ignored. Current value: bagging_fraction=0.5079343340719947\n",
      "[LightGBM] [Warning] bagging_freq is set=4, subsample_freq=0 will be ignored. Current value: bagging_freq=4\n",
      "Training until validation scores don't improve for 100 rounds\n",
      "[100]\ttraining's l1: 1.89175\tvalid_1's l1: 2.28402\n",
      "[200]\ttraining's l1: 1.85628\tvalid_1's l1: 2.2816\n"
     ]
    },
    {
     "name": "stderr",
     "output_type": "stream",
     "text": [
      "\u001b[32m[I 2021-07-04 20:40:35,699]\u001b[0m Trial 4 finished with value: -2.274388725660477 and parameters: {'max_depth': 11, 'min_child_weight': 1, 'subsample': 0.7, 'colsample_bytree': 0.7, 'reg_lambda': 0.04871722473874853, 'reg_alpha': 263.69086440984, 'feature_fraction': 0.8287717961814668, 'bagging_fraction': 0.5079343340719947, 'bagging_freq': 4}. Best is trial 3 with value: -2.2462423995082004.\u001b[0m\n"
     ]
    },
    {
     "name": "stdout",
     "output_type": "stream",
     "text": [
      "Early stopping, best iteration is:\n",
      "[119]\ttraining's l1: 1.87741\tvalid_1's l1: 2.2744\n",
      "[LightGBM] [Warning] feature_fraction is set=0.44178759239252396, colsample_bytree=0.9 will be ignored. Current value: feature_fraction=0.44178759239252396\n",
      "[LightGBM] [Warning] bagging_fraction is set=0.7786962884570103, subsample=0.7 will be ignored. Current value: bagging_fraction=0.7786962884570103\n",
      "[LightGBM] [Warning] bagging_freq is set=8, subsample_freq=0 will be ignored. Current value: bagging_freq=8\n",
      "Training until validation scores don't improve for 100 rounds\n",
      "[100]\ttraining's l1: 1.8981\tvalid_1's l1: 2.28272\n",
      "[200]\ttraining's l1: 1.84716\tvalid_1's l1: 2.26814\n",
      "[300]\ttraining's l1: 1.81782\tvalid_1's l1: 2.26041\n",
      "[400]\ttraining's l1: 1.80306\tvalid_1's l1: 2.26049\n"
     ]
    },
    {
     "name": "stderr",
     "output_type": "stream",
     "text": [
      "\u001b[32m[I 2021-07-04 20:40:46,607]\u001b[0m Trial 5 finished with value: -2.2578202027605023 and parameters: {'max_depth': 14, 'min_child_weight': 4, 'subsample': 0.7, 'colsample_bytree': 0.9, 'reg_lambda': 0.5010087148191502, 'reg_alpha': 35.399200145997796, 'feature_fraction': 0.44178759239252396, 'bagging_fraction': 0.7786962884570103, 'bagging_freq': 8}. Best is trial 3 with value: -2.2462423995082004.\u001b[0m\n"
     ]
    },
    {
     "name": "stdout",
     "output_type": "stream",
     "text": [
      "Early stopping, best iteration is:\n",
      "[335]\ttraining's l1: 1.81055\tvalid_1's l1: 2.25787\n",
      "[LightGBM] [Warning] feature_fraction is set=0.9236863435299135, colsample_bytree=0.5 will be ignored. Current value: feature_fraction=0.9236863435299135\n",
      "[LightGBM] [Warning] bagging_fraction is set=0.7514358555485163, subsample=0.6 will be ignored. Current value: bagging_fraction=0.7514358555485163\n",
      "[LightGBM] [Warning] bagging_freq is set=3, subsample_freq=0 will be ignored. Current value: bagging_freq=3\n",
      "Training until validation scores don't improve for 100 rounds\n",
      "[100]\ttraining's l1: 1.87802\tvalid_1's l1: 2.28932\n",
      "[200]\ttraining's l1: 1.84409\tvalid_1's l1: 2.28202\n"
     ]
    },
    {
     "name": "stderr",
     "output_type": "stream",
     "text": [
      "\u001b[32m[I 2021-07-04 20:40:53,744]\u001b[0m Trial 6 finished with value: -2.2730996060476163 and parameters: {'max_depth': 19, 'min_child_weight': 12, 'subsample': 0.6, 'colsample_bytree': 0.5, 'reg_lambda': 0.36520913480526074, 'reg_alpha': 129.2848253233603, 'feature_fraction': 0.9236863435299135, 'bagging_fraction': 0.7514358555485163, 'bagging_freq': 3}. Best is trial 3 with value: -2.2462423995082004.\u001b[0m\n"
     ]
    },
    {
     "name": "stdout",
     "output_type": "stream",
     "text": [
      "Early stopping, best iteration is:\n",
      "[127]\ttraining's l1: 1.8654\tvalid_1's l1: 2.2731\n",
      "[LightGBM] [Warning] feature_fraction is set=0.6439678207682193, colsample_bytree=0.5 will be ignored. Current value: feature_fraction=0.6439678207682193\n",
      "[LightGBM] [Warning] bagging_fraction is set=0.7307942529052665, subsample=0.5 will be ignored. Current value: bagging_fraction=0.7307942529052665\n",
      "[LightGBM] [Warning] bagging_freq is set=1, subsample_freq=0 will be ignored. Current value: bagging_freq=1\n",
      "Training until validation scores don't improve for 100 rounds\n",
      "[100]\ttraining's l1: 1.87068\tvalid_1's l1: 2.27536\n"
     ]
    },
    {
     "name": "stderr",
     "output_type": "stream",
     "text": [
      "\u001b[32m[I 2021-07-04 20:40:57,082]\u001b[0m Trial 7 finished with value: -2.263939857504254 and parameters: {'max_depth': 6, 'min_child_weight': 6, 'subsample': 0.5, 'colsample_bytree': 0.5, 'reg_lambda': 0.0010793266726286848, 'reg_alpha': 2.7529451555474744, 'feature_fraction': 0.6439678207682193, 'bagging_fraction': 0.7307942529052665, 'bagging_freq': 1}. Best is trial 3 with value: -2.2462423995082004.\u001b[0m\n"
     ]
    },
    {
     "name": "stdout",
     "output_type": "stream",
     "text": [
      "Early stopping, best iteration is:\n",
      "[34]\ttraining's l1: 1.94165\tvalid_1's l1: 2.26394\n",
      "[LightGBM] [Warning] feature_fraction is set=0.6315713459414964, colsample_bytree=0.7 will be ignored. Current value: feature_fraction=0.6315713459414964\n",
      "[LightGBM] [Warning] bagging_fraction is set=0.7387587971909912, subsample=0.8 will be ignored. Current value: bagging_fraction=0.7387587971909912\n",
      "[LightGBM] [Warning] bagging_freq is set=7, subsample_freq=0 will be ignored. Current value: bagging_freq=7\n",
      "Training until validation scores don't improve for 100 rounds\n",
      "[100]\ttraining's l1: 2.05714\tvalid_1's l1: 2.34472\n",
      "[200]\ttraining's l1: 2.01756\tvalid_1's l1: 2.31855\n",
      "[300]\ttraining's l1: 1.99873\tvalid_1's l1: 2.30823\n",
      "[400]\ttraining's l1: 1.98396\tvalid_1's l1: 2.30315\n",
      "[500]\ttraining's l1: 1.97243\tvalid_1's l1: 2.29757\n",
      "[600]\ttraining's l1: 1.96627\tvalid_1's l1: 2.2955\n",
      "[700]\ttraining's l1: 1.96223\tvalid_1's l1: 2.29282\n",
      "[800]\ttraining's l1: 1.95872\tvalid_1's l1: 2.29339\n"
     ]
    },
    {
     "name": "stderr",
     "output_type": "stream",
     "text": [
      "\u001b[32m[I 2021-07-04 20:41:12,851]\u001b[0m Trial 8 finished with value: -2.292248525910431 and parameters: {'max_depth': 2, 'min_child_weight': 12, 'subsample': 0.8, 'colsample_bytree': 0.7, 'reg_lambda': 349.81948689715284, 'reg_alpha': 1.2251194576358477, 'feature_fraction': 0.6315713459414964, 'bagging_fraction': 0.7387587971909912, 'bagging_freq': 7}. Best is trial 3 with value: -2.2462423995082004.\u001b[0m\n"
     ]
    },
    {
     "name": "stdout",
     "output_type": "stream",
     "text": [
      "Early stopping, best iteration is:\n",
      "[737]\ttraining's l1: 1.96039\tvalid_1's l1: 2.2924\n",
      "[LightGBM] [Warning] feature_fraction is set=0.6683535618022685, colsample_bytree=0.8 will be ignored. Current value: feature_fraction=0.6683535618022685\n",
      "[LightGBM] [Warning] bagging_fraction is set=0.71468996970491, subsample=0.7 will be ignored. Current value: bagging_fraction=0.71468996970491\n",
      "[LightGBM] [Warning] bagging_freq is set=7, subsample_freq=0 will be ignored. Current value: bagging_freq=7\n",
      "Training until validation scores don't improve for 100 rounds\n",
      "[100]\ttraining's l1: 1.87726\tvalid_1's l1: 2.26645\n",
      "[200]\ttraining's l1: 1.81686\tvalid_1's l1: 2.22866\n"
     ]
    },
    {
     "name": "stderr",
     "output_type": "stream",
     "text": [
      "\u001b[32m[I 2021-07-04 20:41:19,853]\u001b[0m Trial 9 finished with value: -2.226837478762323 and parameters: {'max_depth': 19, 'min_child_weight': 13, 'subsample': 0.7, 'colsample_bytree': 0.8, 'reg_lambda': 13.323902784777932, 'reg_alpha': 0.0024557913049674716, 'feature_fraction': 0.6683535618022685, 'bagging_fraction': 0.71468996970491, 'bagging_freq': 7}. Best is trial 9 with value: -2.226837478762323.\u001b[0m\n"
     ]
    },
    {
     "name": "stdout",
     "output_type": "stream",
     "text": [
      "Early stopping, best iteration is:\n",
      "[181]\ttraining's l1: 1.82401\tvalid_1's l1: 2.2271\n",
      "[LightGBM] [Warning] feature_fraction is set=0.4916195836091586, colsample_bytree=0.8 will be ignored. Current value: feature_fraction=0.4916195836091586\n",
      "[LightGBM] [Warning] bagging_fraction is set=0.5931854251436677, subsample=0.9 will be ignored. Current value: bagging_fraction=0.5931854251436677\n",
      "[LightGBM] [Warning] bagging_freq is set=10, subsample_freq=0 will be ignored. Current value: bagging_freq=10\n",
      "Training until validation scores don't improve for 100 rounds\n",
      "[100]\ttraining's l1: 1.88464\tvalid_1's l1: 2.27487\n",
      "[200]\ttraining's l1: 1.8435\tvalid_1's l1: 2.25858\n",
      "[300]\ttraining's l1: 1.81244\tvalid_1's l1: 2.24993\n"
     ]
    },
    {
     "name": "stderr",
     "output_type": "stream",
     "text": [
      "\u001b[32m[I 2021-07-04 20:41:27,667]\u001b[0m Trial 10 finished with value: -2.2434380575186728 and parameters: {'max_depth': 20, 'min_child_weight': 16, 'subsample': 0.9, 'colsample_bytree': 0.8, 'reg_lambda': 28.926545911199845, 'reg_alpha': 0.005411843231403792, 'feature_fraction': 0.4916195836091586, 'bagging_fraction': 0.5931854251436677, 'bagging_freq': 10}. Best is trial 9 with value: -2.226837478762323.\u001b[0m\n"
     ]
    },
    {
     "name": "stdout",
     "output_type": "stream",
     "text": [
      "Early stopping, best iteration is:\n",
      "[252]\ttraining's l1: 1.82077\tvalid_1's l1: 2.24443\n",
      "[LightGBM] [Warning] feature_fraction is set=0.46380918480016137, colsample_bytree=0.8 will be ignored. Current value: feature_fraction=0.46380918480016137\n",
      "[LightGBM] [Warning] bagging_fraction is set=0.6017948163205177, subsample=0.9 will be ignored. Current value: bagging_fraction=0.6017948163205177\n",
      "[LightGBM] [Warning] bagging_freq is set=10, subsample_freq=0 will be ignored. Current value: bagging_freq=10\n",
      "Training until validation scores don't improve for 100 rounds\n",
      "[100]\ttraining's l1: 1.89362\tvalid_1's l1: 2.27739\n",
      "[200]\ttraining's l1: 1.82735\tvalid_1's l1: 2.22284\n"
     ]
    },
    {
     "name": "stderr",
     "output_type": "stream",
     "text": [
      "\u001b[32m[I 2021-07-04 20:41:33,880]\u001b[0m Trial 11 finished with value: -2.2191721762069565 and parameters: {'max_depth': 20, 'min_child_weight': 16, 'subsample': 0.9, 'colsample_bytree': 0.8, 'reg_lambda': 27.90317514888907, 'reg_alpha': 0.0036840934180959275, 'feature_fraction': 0.46380918480016137, 'bagging_fraction': 0.6017948163205177, 'bagging_freq': 10}. Best is trial 11 with value: -2.2191721762069565.\u001b[0m\n"
     ]
    },
    {
     "name": "stdout",
     "output_type": "stream",
     "text": [
      "Early stopping, best iteration is:\n",
      "[166]\ttraining's l1: 1.84081\tvalid_1's l1: 2.21924\n",
      "[LightGBM] [Warning] feature_fraction is set=0.5397198482715219, colsample_bytree=0.8 will be ignored. Current value: feature_fraction=0.5397198482715219\n",
      "[LightGBM] [Warning] bagging_fraction is set=0.6186844931037311, subsample=0.9 will be ignored. Current value: bagging_fraction=0.6186844931037311\n",
      "[LightGBM] [Warning] bagging_freq is set=10, subsample_freq=0 will be ignored. Current value: bagging_freq=10\n",
      "Training until validation scores don't improve for 100 rounds\n",
      "[100]\ttraining's l1: 1.88089\tvalid_1's l1: 2.27985\n",
      "[200]\ttraining's l1: 1.8245\tvalid_1's l1: 2.24429\n",
      "[300]\ttraining's l1: 1.80076\tvalid_1's l1: 2.24401\n"
     ]
    },
    {
     "name": "stderr",
     "output_type": "stream",
     "text": [
      "\u001b[32m[I 2021-07-04 20:41:42,540]\u001b[0m Trial 12 finished with value: -2.2391577753798084 and parameters: {'max_depth': 17, 'min_child_weight': 15, 'subsample': 0.9, 'colsample_bytree': 0.8, 'reg_lambda': 36.9163620160608, 'reg_alpha': 0.02557125434659151, 'feature_fraction': 0.5397198482715219, 'bagging_fraction': 0.6186844931037311, 'bagging_freq': 10}. Best is trial 11 with value: -2.2191721762069565.\u001b[0m\n"
     ]
    },
    {
     "name": "stdout",
     "output_type": "stream",
     "text": [
      "Early stopping, best iteration is:\n",
      "[263]\ttraining's l1: 1.80864\tvalid_1's l1: 2.24047\n",
      "[LightGBM] [Warning] feature_fraction is set=0.7474974730887304, colsample_bytree=0.8 will be ignored. Current value: feature_fraction=0.7474974730887304\n",
      "[LightGBM] [Warning] bagging_fraction is set=0.40507758500477486, subsample=0.8 will be ignored. Current value: bagging_fraction=0.40507758500477486\n",
      "[LightGBM] [Warning] bagging_freq is set=6, subsample_freq=0 will be ignored. Current value: bagging_freq=6\n",
      "Training until validation scores don't improve for 100 rounds\n",
      "[100]\ttraining's l1: 1.87483\tvalid_1's l1: 2.27395\n"
     ]
    },
    {
     "name": "stderr",
     "output_type": "stream",
     "text": [
      "\u001b[32m[I 2021-07-04 20:41:45,723]\u001b[0m Trial 13 finished with value: -2.270050156280953 and parameters: {'max_depth': 20, 'min_child_weight': 8, 'subsample': 0.8, 'colsample_bytree': 0.8, 'reg_lambda': 71.64747012223023, 'reg_alpha': 0.07026885670501788, 'feature_fraction': 0.7474974730887304, 'bagging_fraction': 0.40507758500477486, 'bagging_freq': 6}. Best is trial 11 with value: -2.2191721762069565.\u001b[0m\n"
     ]
    },
    {
     "name": "stdout",
     "output_type": "stream",
     "text": [
      "Early stopping, best iteration is:\n",
      "[32]\ttraining's l1: 1.94582\tvalid_1's l1: 2.27005\n",
      "[LightGBM] [Warning] feature_fraction is set=0.40074321535589996, colsample_bytree=0.8 will be ignored. Current value: feature_fraction=0.40074321535589996\n",
      "[LightGBM] [Warning] bagging_fraction is set=0.8914089198591131, subsample=0.6 will be ignored. Current value: bagging_fraction=0.8914089198591131\n",
      "[LightGBM] [Warning] bagging_freq is set=10, subsample_freq=0 will be ignored. Current value: bagging_freq=10\n",
      "Training until validation scores don't improve for 100 rounds\n",
      "[100]\ttraining's l1: 1.88633\tvalid_1's l1: 2.26\n",
      "[200]\ttraining's l1: 1.8367\tvalid_1's l1: 2.25176\n"
     ]
    },
    {
     "name": "stderr",
     "output_type": "stream",
     "text": [
      "\u001b[32m[I 2021-07-04 20:41:52,253]\u001b[0m Trial 14 finished with value: -2.243921499908808 and parameters: {'max_depth': 17, 'min_child_weight': 15, 'subsample': 0.6, 'colsample_bytree': 0.8, 'reg_lambda': 3.5214064533024083, 'reg_alpha': 0.05471297691060607, 'feature_fraction': 0.40074321535589996, 'bagging_fraction': 0.8914089198591131, 'bagging_freq': 10}. Best is trial 11 with value: -2.2191721762069565.\u001b[0m\n"
     ]
    },
    {
     "name": "stdout",
     "output_type": "stream",
     "text": [
      "Early stopping, best iteration is:\n",
      "[125]\ttraining's l1: 1.86869\tvalid_1's l1: 2.24398\n",
      "[LightGBM] [Warning] feature_fraction is set=0.5508108001479566, colsample_bytree=0.6 will be ignored. Current value: feature_fraction=0.5508108001479566\n",
      "[LightGBM] [Warning] bagging_fraction is set=0.4866930063111389, subsample=0.8 will be ignored. Current value: bagging_fraction=0.4866930063111389\n",
      "[LightGBM] [Warning] bagging_freq is set=5, subsample_freq=0 will be ignored. Current value: bagging_freq=5\n",
      "Training until validation scores don't improve for 100 rounds\n",
      "[100]\ttraining's l1: 1.87746\tvalid_1's l1: 2.25505\n",
      "[200]\ttraining's l1: 1.82525\tvalid_1's l1: 2.23138\n"
     ]
    },
    {
     "name": "stderr",
     "output_type": "stream",
     "text": [
      "\u001b[32m[I 2021-07-04 20:41:58,454]\u001b[0m Trial 15 finished with value: -2.2250982316202936 and parameters: {'max_depth': 14, 'min_child_weight': 9, 'subsample': 0.8, 'colsample_bytree': 0.6, 'reg_lambda': 4.9556366070778886, 'reg_alpha': 0.0014649635185145643, 'feature_fraction': 0.5508108001479566, 'bagging_fraction': 0.4866930063111389, 'bagging_freq': 5}. Best is trial 11 with value: -2.2191721762069565.\u001b[0m\n"
     ]
    },
    {
     "name": "stdout",
     "output_type": "stream",
     "text": [
      "Early stopping, best iteration is:\n",
      "[163]\ttraining's l1: 1.83516\tvalid_1's l1: 2.22511\n",
      "[LightGBM] [Warning] feature_fraction is set=0.5431101430740856, colsample_bytree=0.6 will be ignored. Current value: feature_fraction=0.5431101430740856\n",
      "[LightGBM] [Warning] bagging_fraction is set=0.40830693025322085, subsample=0.9 will be ignored. Current value: bagging_fraction=0.40830693025322085\n",
      "[LightGBM] [Warning] bagging_freq is set=5, subsample_freq=0 will be ignored. Current value: bagging_freq=5\n",
      "Training until validation scores don't improve for 100 rounds\n",
      "[100]\ttraining's l1: 1.88175\tvalid_1's l1: 2.27542\n",
      "[200]\ttraining's l1: 1.82402\tvalid_1's l1: 2.25469\n"
     ]
    },
    {
     "name": "stderr",
     "output_type": "stream",
     "text": [
      "\u001b[32m[I 2021-07-04 20:42:03,948]\u001b[0m Trial 16 finished with value: -2.248988976690751 and parameters: {'max_depth': 13, 'min_child_weight': 9, 'subsample': 0.9, 'colsample_bytree': 0.6, 'reg_lambda': 0.05377818259756471, 'reg_alpha': 0.012117667398047587, 'feature_fraction': 0.5431101430740856, 'bagging_fraction': 0.40830693025322085, 'bagging_freq': 5}. Best is trial 11 with value: -2.2191721762069565.\u001b[0m\n"
     ]
    },
    {
     "name": "stdout",
     "output_type": "stream",
     "text": [
      "Early stopping, best iteration is:\n",
      "[157]\ttraining's l1: 1.8377\tvalid_1's l1: 2.24907\n",
      "[LightGBM] [Warning] feature_fraction is set=0.5610537835914398, colsample_bytree=0.6 will be ignored. Current value: feature_fraction=0.5610537835914398\n",
      "[LightGBM] [Warning] bagging_fraction is set=0.49470585362801744, subsample=0.8 will be ignored. Current value: bagging_fraction=0.49470585362801744\n",
      "[LightGBM] [Warning] bagging_freq is set=5, subsample_freq=0 will be ignored. Current value: bagging_freq=5\n",
      "Training until validation scores don't improve for 100 rounds\n",
      "[100]\ttraining's l1: 1.88059\tvalid_1's l1: 2.27663\n",
      "[200]\ttraining's l1: 1.84552\tvalid_1's l1: 2.26618\n"
     ]
    },
    {
     "name": "stderr",
     "output_type": "stream",
     "text": [
      "\u001b[32m[I 2021-07-04 20:42:10,768]\u001b[0m Trial 17 finished with value: -2.264129996247974 and parameters: {'max_depth': 6, 'min_child_weight': 9, 'subsample': 0.8, 'colsample_bytree': 0.6, 'reg_lambda': 208.14173096047557, 'reg_alpha': 0.0010541200285792815, 'feature_fraction': 0.5610537835914398, 'bagging_fraction': 0.49470585362801744, 'bagging_freq': 5}. Best is trial 11 with value: -2.2191721762069565.\u001b[0m\n"
     ]
    },
    {
     "name": "stdout",
     "output_type": "stream",
     "text": [
      "Early stopping, best iteration is:\n",
      "[198]\ttraining's l1: 1.84666\tvalid_1's l1: 2.26413\n",
      "[LightGBM] [Warning] feature_fraction is set=0.4101492271655018, colsample_bytree=0.6 will be ignored. Current value: feature_fraction=0.4101492271655018\n",
      "[LightGBM] [Warning] bagging_fraction is set=0.48509554562797785, subsample=0.9 will be ignored. Current value: bagging_fraction=0.48509554562797785\n",
      "[LightGBM] [Warning] bagging_freq is set=4, subsample_freq=0 will be ignored. Current value: bagging_freq=4\n",
      "Training until validation scores don't improve for 100 rounds\n",
      "[100]\ttraining's l1: 1.88582\tvalid_1's l1: 2.27361\n",
      "[200]\ttraining's l1: 1.83936\tvalid_1's l1: 2.24324\n"
     ]
    },
    {
     "name": "stderr",
     "output_type": "stream",
     "text": [
      "\u001b[32m[I 2021-07-04 20:42:17,068]\u001b[0m Trial 18 finished with value: -2.2432399688078895 and parameters: {'max_depth': 17, 'min_child_weight': 20, 'subsample': 0.9, 'colsample_bytree': 0.6, 'reg_lambda': 1.5333831281947057, 'reg_alpha': 0.18637970146822713, 'feature_fraction': 0.4101492271655018, 'bagging_fraction': 0.48509554562797785, 'bagging_freq': 4}. Best is trial 11 with value: -2.2191721762069565.\u001b[0m\n"
     ]
    },
    {
     "name": "stdout",
     "output_type": "stream",
     "text": [
      "Early stopping, best iteration is:\n",
      "[198]\ttraining's l1: 1.83938\tvalid_1's l1: 2.24324\n",
      "[LightGBM] [Warning] feature_fraction is set=0.4869125265775379, colsample_bytree=0.7 will be ignored. Current value: feature_fraction=0.4869125265775379\n",
      "[LightGBM] [Warning] bagging_fraction is set=0.6503111418744902, subsample=0.8 will be ignored. Current value: bagging_fraction=0.6503111418744902\n",
      "[LightGBM] [Warning] bagging_freq is set=6, subsample_freq=0 will be ignored. Current value: bagging_freq=6\n",
      "Training until validation scores don't improve for 100 rounds\n",
      "[100]\ttraining's l1: 1.88367\tvalid_1's l1: 2.26711\n",
      "[200]\ttraining's l1: 1.83872\tvalid_1's l1: 2.25348\n"
     ]
    },
    {
     "name": "stderr",
     "output_type": "stream",
     "text": [
      "\u001b[32m[I 2021-07-04 20:42:24,655]\u001b[0m Trial 19 finished with value: -2.243870478852675 and parameters: {'max_depth': 12, 'min_child_weight': 17, 'subsample': 0.8, 'colsample_bytree': 0.7, 'reg_lambda': 127.10992792350427, 'reg_alpha': 0.17333454353843178, 'feature_fraction': 0.4869125265775379, 'bagging_fraction': 0.6503111418744902, 'bagging_freq': 6}. Best is trial 11 with value: -2.2191721762069565.\u001b[0m\n"
     ]
    },
    {
     "name": "stdout",
     "output_type": "stream",
     "text": [
      "[300]\ttraining's l1: 1.81364\tvalid_1's l1: 2.25627\n",
      "Early stopping, best iteration is:\n",
      "[203]\ttraining's l1: 1.83398\tvalid_1's l1: 2.24388\n",
      "[LightGBM] [Warning] feature_fraction is set=0.5740791329858543, colsample_bytree=0.6 will be ignored. Current value: feature_fraction=0.5740791329858543\n",
      "[LightGBM] [Warning] bagging_fraction is set=0.545666432931794, subsample=0.9 will be ignored. Current value: bagging_fraction=0.545666432931794\n",
      "[LightGBM] [Warning] bagging_freq is set=3, subsample_freq=0 will be ignored. Current value: bagging_freq=3\n",
      "Training until validation scores don't improve for 100 rounds\n",
      "[100]\ttraining's l1: 1.88448\tvalid_1's l1: 2.27326\n",
      "[200]\ttraining's l1: 1.84047\tvalid_1's l1: 2.26779\n"
     ]
    },
    {
     "name": "stderr",
     "output_type": "stream",
     "text": [
      "\u001b[32m[I 2021-07-04 20:42:31,257]\u001b[0m Trial 20 finished with value: -2.259580621258962 and parameters: {'max_depth': 15, 'min_child_weight': 7, 'subsample': 0.9, 'colsample_bytree': 0.6, 'reg_lambda': 10.719038486393178, 'reg_alpha': 0.0010830831832873999, 'feature_fraction': 0.5740791329858543, 'bagging_fraction': 0.545666432931794, 'bagging_freq': 3}. Best is trial 11 with value: -2.2191721762069565.\u001b[0m\n"
     ]
    },
    {
     "name": "stdout",
     "output_type": "stream",
     "text": [
      "Early stopping, best iteration is:\n",
      "[133]\ttraining's l1: 1.85938\tvalid_1's l1: 2.25959\n",
      "[LightGBM] [Warning] feature_fraction is set=0.7336417905211619, colsample_bytree=0.9 will be ignored. Current value: feature_fraction=0.7336417905211619\n",
      "[LightGBM] [Warning] bagging_fraction is set=0.8579961962164322, subsample=0.7 will be ignored. Current value: bagging_fraction=0.8579961962164322\n",
      "[LightGBM] [Warning] bagging_freq is set=9, subsample_freq=0 will be ignored. Current value: bagging_freq=9\n",
      "Training until validation scores don't improve for 100 rounds\n",
      "[100]\ttraining's l1: 1.87741\tvalid_1's l1: 2.27426\n"
     ]
    },
    {
     "name": "stderr",
     "output_type": "stream",
     "text": [
      "\u001b[32m[I 2021-07-04 20:42:35,946]\u001b[0m Trial 21 finished with value: -2.2666950091323046 and parameters: {'max_depth': 18, 'min_child_weight': 14, 'subsample': 0.7, 'colsample_bytree': 0.9, 'reg_lambda': 14.094362461599006, 'reg_alpha': 0.002973430586691019, 'feature_fraction': 0.7336417905211619, 'bagging_fraction': 0.8579961962164322, 'bagging_freq': 9}. Best is trial 11 with value: -2.2191721762069565.\u001b[0m\n"
     ]
    },
    {
     "name": "stdout",
     "output_type": "stream",
     "text": [
      "Early stopping, best iteration is:\n",
      "[51]\ttraining's l1: 1.91829\tvalid_1's l1: 2.2667\n",
      "[LightGBM] [Warning] feature_fraction is set=0.6075949359869321, colsample_bytree=0.8 will be ignored. Current value: feature_fraction=0.6075949359869321\n",
      "[LightGBM] [Warning] bagging_fraction is set=0.6563975369293901, subsample=0.8 will be ignored. Current value: bagging_fraction=0.6563975369293901\n",
      "[LightGBM] [Warning] bagging_freq is set=7, subsample_freq=0 will be ignored. Current value: bagging_freq=7\n",
      "Training until validation scores don't improve for 100 rounds\n",
      "[100]\ttraining's l1: 1.87672\tvalid_1's l1: 2.27549\n",
      "[200]\ttraining's l1: 1.82745\tvalid_1's l1: 2.25358\n"
     ]
    },
    {
     "name": "stderr",
     "output_type": "stream",
     "text": [
      "\u001b[32m[I 2021-07-04 20:42:43,519]\u001b[0m Trial 22 finished with value: -2.2482149169902446 and parameters: {'max_depth': 20, 'min_child_weight': 11, 'subsample': 0.8, 'colsample_bytree': 0.8, 'reg_lambda': 2.216197881107194, 'reg_alpha': 0.004892246563624108, 'feature_fraction': 0.6075949359869321, 'bagging_fraction': 0.6563975369293901, 'bagging_freq': 7}. Best is trial 11 with value: -2.2191721762069565.\u001b[0m\n"
     ]
    },
    {
     "name": "stdout",
     "output_type": "stream",
     "text": [
      "Early stopping, best iteration is:\n",
      "[188]\ttraining's l1: 1.83345\tvalid_1's l1: 2.24822\n",
      "[LightGBM] [Warning] feature_fraction is set=0.70298727930328, colsample_bytree=0.7 will be ignored. Current value: feature_fraction=0.70298727930328\n",
      "[LightGBM] [Warning] bagging_fraction is set=0.6825580777751659, subsample=0.8 will be ignored. Current value: bagging_fraction=0.6825580777751659\n",
      "[LightGBM] [Warning] bagging_freq is set=7, subsample_freq=0 will be ignored. Current value: bagging_freq=7\n",
      "Training until validation scores don't improve for 100 rounds\n",
      "[100]\ttraining's l1: 1.88027\tvalid_1's l1: 2.27223\n",
      "[200]\ttraining's l1: 1.84312\tvalid_1's l1: 2.27654\n"
     ]
    },
    {
     "name": "stderr",
     "output_type": "stream",
     "text": [
      "\u001b[32m[I 2021-07-04 20:42:49,541]\u001b[0m Trial 23 finished with value: -2.267345655070147 and parameters: {'max_depth': 16, 'min_child_weight': 14, 'subsample': 0.8, 'colsample_bytree': 0.7, 'reg_lambda': 982.1669278863596, 'reg_alpha': 0.009215114657159493, 'feature_fraction': 0.70298727930328, 'bagging_fraction': 0.6825580777751659, 'bagging_freq': 7}. Best is trial 11 with value: -2.2191721762069565.\u001b[0m\n"
     ]
    },
    {
     "name": "stdout",
     "output_type": "stream",
     "text": [
      "Early stopping, best iteration is:\n",
      "[129]\ttraining's l1: 1.86526\tvalid_1's l1: 2.26736\n",
      "[LightGBM] [Warning] feature_fraction is set=0.4810624601845572, colsample_bytree=0.8 will be ignored. Current value: feature_fraction=0.4810624601845572\n",
      "[LightGBM] [Warning] bagging_fraction is set=0.44078612261448435, subsample=0.7 will be ignored. Current value: bagging_fraction=0.44078612261448435\n",
      "[LightGBM] [Warning] bagging_freq is set=9, subsample_freq=0 will be ignored. Current value: bagging_freq=9\n",
      "Training until validation scores don't improve for 100 rounds\n",
      "[100]\ttraining's l1: 1.88895\tvalid_1's l1: 2.27942\n"
     ]
    },
    {
     "name": "stderr",
     "output_type": "stream",
     "text": [
      "\u001b[32m[I 2021-07-04 20:42:52,859]\u001b[0m Trial 24 finished with value: -2.2695139127537187 and parameters: {'max_depth': 18, 'min_child_weight': 10, 'subsample': 0.7, 'colsample_bytree': 0.8, 'reg_lambda': 15.328167040581318, 'reg_alpha': 0.001294293846832871, 'feature_fraction': 0.4810624601845572, 'bagging_fraction': 0.44078612261448435, 'bagging_freq': 9}. Best is trial 11 with value: -2.2191721762069565.\u001b[0m\n"
     ]
    },
    {
     "name": "stdout",
     "output_type": "stream",
     "text": [
      "Early stopping, best iteration is:\n",
      "[37]\ttraining's l1: 1.9487\tvalid_1's l1: 2.26951\n",
      "[LightGBM] [Warning] feature_fraction is set=0.45344396205477, colsample_bytree=0.9 will be ignored. Current value: feature_fraction=0.45344396205477\n",
      "[LightGBM] [Warning] bagging_fraction is set=0.5559764681657102, subsample=0.6 will be ignored. Current value: bagging_fraction=0.5559764681657102\n",
      "[LightGBM] [Warning] bagging_freq is set=4, subsample_freq=0 will be ignored. Current value: bagging_freq=4\n",
      "Training until validation scores don't improve for 100 rounds\n",
      "[100]\ttraining's l1: 1.88657\tvalid_1's l1: 2.27991\n"
     ]
    },
    {
     "name": "stderr",
     "output_type": "stream",
     "text": [
      "\u001b[32m[I 2021-07-04 20:42:56,956]\u001b[0m Trial 25 finished with value: -2.2743892155813463 and parameters: {'max_depth': 20, 'min_child_weight': 13, 'subsample': 0.6, 'colsample_bytree': 0.9, 'reg_lambda': 44.91514340231729, 'reg_alpha': 0.01825984345268948, 'feature_fraction': 0.45344396205477, 'bagging_fraction': 0.5559764681657102, 'bagging_freq': 4}. Best is trial 11 with value: -2.2191721762069565.\u001b[0m\n"
     ]
    },
    {
     "name": "stdout",
     "output_type": "stream",
     "text": [
      "Early stopping, best iteration is:\n",
      "[51]\ttraining's l1: 1.92735\tvalid_1's l1: 2.27439\n",
      "[LightGBM] [Warning] feature_fraction is set=0.5143572002594455, colsample_bytree=0.7 will be ignored. Current value: feature_fraction=0.5143572002594455\n",
      "[LightGBM] [Warning] bagging_fraction is set=0.6225975567969968, subsample=0.9 will be ignored. Current value: bagging_fraction=0.6225975567969968\n",
      "[LightGBM] [Warning] bagging_freq is set=6, subsample_freq=0 will be ignored. Current value: bagging_freq=6\n",
      "Training until validation scores don't improve for 100 rounds\n",
      "[100]\ttraining's l1: 1.87757\tvalid_1's l1: 2.27042\n",
      "[200]\ttraining's l1: 1.82851\tvalid_1's l1: 2.25249\n"
     ]
    },
    {
     "name": "stderr",
     "output_type": "stream",
     "text": [
      "\u001b[32m[I 2021-07-04 20:43:03,328]\u001b[0m Trial 26 finished with value: -2.2407941380390533 and parameters: {'max_depth': 14, 'min_child_weight': 17, 'subsample': 0.9, 'colsample_bytree': 0.7, 'reg_lambda': 5.288145341416943, 'reg_alpha': 0.36070898921151673, 'feature_fraction': 0.5143572002594455, 'bagging_fraction': 0.6225975567969968, 'bagging_freq': 6}. Best is trial 11 with value: -2.2191721762069565.\u001b[0m\n"
     ]
    },
    {
     "name": "stdout",
     "output_type": "stream",
     "text": [
      "Early stopping, best iteration is:\n",
      "[144]\ttraining's l1: 1.8481\tvalid_1's l1: 2.24079\n",
      "[LightGBM] [Warning] feature_fraction is set=0.6878904564131068, colsample_bytree=0.6 will be ignored. Current value: feature_fraction=0.6878904564131068\n",
      "[LightGBM] [Warning] bagging_fraction is set=0.6854841009493501, subsample=0.8 will be ignored. Current value: bagging_fraction=0.6854841009493501\n",
      "[LightGBM] [Warning] bagging_freq is set=5, subsample_freq=0 will be ignored. Current value: bagging_freq=5\n",
      "Training until validation scores don't improve for 100 rounds\n",
      "[100]\ttraining's l1: 1.87153\tvalid_1's l1: 2.25745\n",
      "[200]\ttraining's l1: 1.82549\tvalid_1's l1: 2.24597\n"
     ]
    },
    {
     "name": "stderr",
     "output_type": "stream",
     "text": [
      "\u001b[32m[I 2021-07-04 20:43:09,713]\u001b[0m Trial 27 finished with value: -2.241463556161244 and parameters: {'max_depth': 18, 'min_child_weight': 6, 'subsample': 0.8, 'colsample_bytree': 0.6, 'reg_lambda': 0.8351643306676495, 'reg_alpha': 0.0030382626765162383, 'feature_fraction': 0.6878904564131068, 'bagging_fraction': 0.6854841009493501, 'bagging_freq': 5}. Best is trial 11 with value: -2.2191721762069565.\u001b[0m\n"
     ]
    },
    {
     "name": "stdout",
     "output_type": "stream",
     "text": [
      "Early stopping, best iteration is:\n",
      "[144]\ttraining's l1: 1.83954\tvalid_1's l1: 2.24154\n",
      "[LightGBM] [Warning] feature_fraction is set=0.7773714324409541, colsample_bytree=0.8 will be ignored. Current value: feature_fraction=0.7773714324409541\n",
      "[LightGBM] [Warning] bagging_fraction is set=0.45791967231556463, subsample=0.7 will be ignored. Current value: bagging_fraction=0.45791967231556463\n",
      "[LightGBM] [Warning] bagging_freq is set=9, subsample_freq=0 will be ignored. Current value: bagging_freq=9\n",
      "Training until validation scores don't improve for 100 rounds\n",
      "[100]\ttraining's l1: 1.87523\tvalid_1's l1: 2.28592\n"
     ]
    },
    {
     "name": "stderr",
     "output_type": "stream",
     "text": [
      "\u001b[32m[I 2021-07-04 20:43:12,809]\u001b[0m Trial 28 finished with value: -2.269931968330278 and parameters: {'max_depth': 7, 'min_child_weight': 10, 'subsample': 0.7, 'colsample_bytree': 0.8, 'reg_lambda': 107.0889549657124, 'reg_alpha': 0.02791831571514916, 'feature_fraction': 0.7773714324409541, 'bagging_fraction': 0.45791967231556463, 'bagging_freq': 9}. Best is trial 11 with value: -2.2191721762069565.\u001b[0m\n"
     ]
    },
    {
     "name": "stdout",
     "output_type": "stream",
     "text": [
      "Early stopping, best iteration is:\n",
      "[30]\ttraining's l1: 1.94312\tvalid_1's l1: 2.26993\n",
      "[LightGBM] [Warning] feature_fraction is set=0.5910276383453905, colsample_bytree=0.7 will be ignored. Current value: feature_fraction=0.5910276383453905\n",
      "[LightGBM] [Warning] bagging_fraction is set=0.8256645721410862, subsample=0.7 will be ignored. Current value: bagging_fraction=0.8256645721410862\n",
      "[LightGBM] [Warning] bagging_freq is set=7, subsample_freq=0 will be ignored. Current value: bagging_freq=7\n",
      "Training until validation scores don't improve for 100 rounds\n",
      "[100]\ttraining's l1: 2.04983\tvalid_1's l1: 2.34004\n",
      "[200]\ttraining's l1: 2.01883\tvalid_1's l1: 2.3156\n",
      "[300]\ttraining's l1: 1.99951\tvalid_1's l1: 2.31148\n"
     ]
    },
    {
     "name": "stderr",
     "output_type": "stream",
     "text": [
      "\u001b[32m[I 2021-07-04 20:43:22,011]\u001b[0m Trial 29 finished with value: -2.3062561010032576 and parameters: {'max_depth': 2, 'min_child_weight': 18, 'subsample': 0.7, 'colsample_bytree': 0.7, 'reg_lambda': 0.12452741936225964, 'reg_alpha': 0.0011472162991983095, 'feature_fraction': 0.5910276383453905, 'bagging_fraction': 0.8256645721410862, 'bagging_freq': 7}. Best is trial 11 with value: -2.2191721762069565.\u001b[0m\n"
     ]
    },
    {
     "name": "stdout",
     "output_type": "stream",
     "text": [
      "Early stopping, best iteration is:\n",
      "[263]\ttraining's l1: 2.00458\tvalid_1's l1: 2.30627\n",
      "[LightGBM] [Warning] feature_fraction is set=0.43687885600256465, colsample_bytree=0.9 will be ignored. Current value: feature_fraction=0.43687885600256465\n",
      "[LightGBM] [Warning] bagging_fraction is set=0.5372228081051462, subsample=0.8 will be ignored. Current value: bagging_fraction=0.5372228081051462\n",
      "[LightGBM] [Warning] bagging_freq is set=3, subsample_freq=0 will be ignored. Current value: bagging_freq=3\n",
      "Training until validation scores don't improve for 100 rounds\n",
      "[100]\ttraining's l1: 1.88841\tvalid_1's l1: 2.27913\n",
      "[200]\ttraining's l1: 1.8482\tvalid_1's l1: 2.26917\n"
     ]
    },
    {
     "name": "stderr",
     "output_type": "stream",
     "text": [
      "\u001b[32m[I 2021-07-04 20:43:28,725]\u001b[0m Trial 30 finished with value: -2.263583628543437 and parameters: {'max_depth': 12, 'min_child_weight': 14, 'subsample': 0.8, 'colsample_bytree': 0.9, 'reg_lambda': 566.0349826971342, 'reg_alpha': 0.06092499706175331, 'feature_fraction': 0.43687885600256465, 'bagging_fraction': 0.5372228081051462, 'bagging_freq': 3}. Best is trial 11 with value: -2.2191721762069565.\u001b[0m\n"
     ]
    },
    {
     "name": "stdout",
     "output_type": "stream",
     "text": [
      "Early stopping, best iteration is:\n",
      "[177]\ttraining's l1: 1.85365\tvalid_1's l1: 2.26361\n",
      "[LightGBM] [Warning] feature_fraction is set=0.5150805241054884, colsample_bytree=0.8 will be ignored. Current value: feature_fraction=0.5150805241054884\n",
      "[LightGBM] [Warning] bagging_fraction is set=0.6138828738090799, subsample=0.9 will be ignored. Current value: bagging_fraction=0.6138828738090799\n",
      "[LightGBM] [Warning] bagging_freq is set=10, subsample_freq=0 will be ignored. Current value: bagging_freq=10\n",
      "Training until validation scores don't improve for 100 rounds\n",
      "[100]\ttraining's l1: 1.87913\tvalid_1's l1: 2.25959\n",
      "[200]\ttraining's l1: 1.82975\tvalid_1's l1: 2.24134\n"
     ]
    },
    {
     "name": "stderr",
     "output_type": "stream",
     "text": [
      "\u001b[32m[I 2021-07-04 20:43:35,114]\u001b[0m Trial 31 finished with value: -2.233093482236605 and parameters: {'max_depth': 16, 'min_child_weight': 15, 'subsample': 0.9, 'colsample_bytree': 0.8, 'reg_lambda': 29.814247820477004, 'reg_alpha': 0.0075396364580916165, 'feature_fraction': 0.5150805241054884, 'bagging_fraction': 0.6138828738090799, 'bagging_freq': 10}. Best is trial 11 with value: -2.2191721762069565.\u001b[0m\n"
     ]
    },
    {
     "name": "stdout",
     "output_type": "stream",
     "text": [
      "Early stopping, best iteration is:\n",
      "[159]\ttraining's l1: 1.84242\tvalid_1's l1: 2.23309\n",
      "[LightGBM] [Warning] feature_fraction is set=0.5218387157922642, colsample_bytree=0.8 will be ignored. Current value: feature_fraction=0.5218387157922642\n",
      "[LightGBM] [Warning] bagging_fraction is set=0.7068480738735824, subsample=0.9 will be ignored. Current value: bagging_fraction=0.7068480738735824\n",
      "[LightGBM] [Warning] bagging_freq is set=9, subsample_freq=0 will be ignored. Current value: bagging_freq=9\n",
      "Training until validation scores don't improve for 100 rounds\n",
      "[100]\ttraining's l1: 1.8809\tvalid_1's l1: 2.263\n",
      "[200]\ttraining's l1: 1.83527\tvalid_1's l1: 2.24309\n"
     ]
    },
    {
     "name": "stderr",
     "output_type": "stream",
     "text": [
      "\u001b[32m[I 2021-07-04 20:43:42,131]\u001b[0m Trial 32 finished with value: -2.2360796726900607 and parameters: {'max_depth': 16, 'min_child_weight': 16, 'subsample': 0.9, 'colsample_bytree': 0.8, 'reg_lambda': 10.593436898405853, 'reg_alpha': 0.007625252977855778, 'feature_fraction': 0.5218387157922642, 'bagging_fraction': 0.7068480738735824, 'bagging_freq': 9}. Best is trial 11 with value: -2.2191721762069565.\u001b[0m\n"
     ]
    },
    {
     "name": "stdout",
     "output_type": "stream",
     "text": [
      "Early stopping, best iteration is:\n",
      "[159]\ttraining's l1: 1.84507\tvalid_1's l1: 2.23654\n",
      "[LightGBM] [Warning] feature_fraction is set=0.6783424735754746, colsample_bytree=0.8 will be ignored. Current value: feature_fraction=0.6783424735754746\n",
      "[LightGBM] [Warning] bagging_fraction is set=0.6386317829802372, subsample=0.9 will be ignored. Current value: bagging_fraction=0.6386317829802372\n",
      "[LightGBM] [Warning] bagging_freq is set=10, subsample_freq=0 will be ignored. Current value: bagging_freq=10\n",
      "Training until validation scores don't improve for 100 rounds\n",
      "[100]\ttraining's l1: 1.87642\tvalid_1's l1: 2.25866\n",
      "[200]\ttraining's l1: 1.80949\tvalid_1's l1: 2.21637\n"
     ]
    },
    {
     "name": "stderr",
     "output_type": "stream",
     "text": [
      "\u001b[32m[I 2021-07-04 20:43:48,107]\u001b[0m Trial 33 finished with value: -2.2082951580422074 and parameters: {'max_depth': 15, 'min_child_weight': 19, 'subsample': 0.9, 'colsample_bytree': 0.8, 'reg_lambda': 4.729224134672289, 'reg_alpha': 0.002311080653496518, 'feature_fraction': 0.6783424735754746, 'bagging_fraction': 0.6386317829802372, 'bagging_freq': 10}. Best is trial 33 with value: -2.2082951580422074.\u001b[0m\n"
     ]
    },
    {
     "name": "stdout",
     "output_type": "stream",
     "text": [
      "Early stopping, best iteration is:\n",
      "[166]\ttraining's l1: 1.81964\tvalid_1's l1: 2.2083\n",
      "[LightGBM] [Warning] feature_fraction is set=0.665063603394239, colsample_bytree=0.9 will be ignored. Current value: feature_fraction=0.665063603394239\n",
      "[LightGBM] [Warning] bagging_fraction is set=0.6534207406537468, subsample=0.9 will be ignored. Current value: bagging_fraction=0.6534207406537468\n",
      "[LightGBM] [Warning] bagging_freq is set=8, subsample_freq=0 will be ignored. Current value: bagging_freq=8\n",
      "Training until validation scores don't improve for 100 rounds\n",
      "[100]\ttraining's l1: 1.87004\tvalid_1's l1: 2.25559\n",
      "[200]\ttraining's l1: 1.82435\tvalid_1's l1: 2.24054\n"
     ]
    },
    {
     "name": "stderr",
     "output_type": "stream",
     "text": [
      "\u001b[32m[I 2021-07-04 20:43:55,125]\u001b[0m Trial 34 finished with value: -2.2331301393840297 and parameters: {'max_depth': 14, 'min_child_weight': 19, 'subsample': 0.9, 'colsample_bytree': 0.9, 'reg_lambda': 3.367014655856156, 'reg_alpha': 0.002314178767897522, 'feature_fraction': 0.665063603394239, 'bagging_fraction': 0.6534207406537468, 'bagging_freq': 8}. Best is trial 33 with value: -2.2082951580422074.\u001b[0m\n"
     ]
    },
    {
     "name": "stdout",
     "output_type": "stream",
     "text": [
      "[300]\ttraining's l1: 1.80106\tvalid_1's l1: 2.24496\n",
      "Early stopping, best iteration is:\n",
      "[202]\ttraining's l1: 1.82206\tvalid_1's l1: 2.23347\n",
      "[LightGBM] [Warning] feature_fraction is set=0.611762491479364, colsample_bytree=0.8 will be ignored. Current value: feature_fraction=0.611762491479364\n",
      "[LightGBM] [Warning] bagging_fraction is set=0.5721725115681481, subsample=0.8 will be ignored. Current value: bagging_fraction=0.5721725115681481\n",
      "[LightGBM] [Warning] bagging_freq is set=8, subsample_freq=0 will be ignored. Current value: bagging_freq=8\n",
      "Training until validation scores don't improve for 100 rounds\n",
      "[100]\ttraining's l1: 1.87745\tvalid_1's l1: 2.26929\n",
      "[200]\ttraining's l1: 1.8284\tvalid_1's l1: 2.25316\n"
     ]
    },
    {
     "name": "stderr",
     "output_type": "stream",
     "text": [
      "\u001b[32m[I 2021-07-04 20:44:02,238]\u001b[0m Trial 35 finished with value: -2.250631578261863 and parameters: {'max_depth': 10, 'min_child_weight': 20, 'subsample': 0.8, 'colsample_bytree': 0.8, 'reg_lambda': 6.953139793568721, 'reg_alpha': 0.00208170744851921, 'feature_fraction': 0.611762491479364, 'bagging_fraction': 0.5721725115681481, 'bagging_freq': 8}. Best is trial 33 with value: -2.2082951580422074.\u001b[0m\n"
     ]
    },
    {
     "name": "stdout",
     "output_type": "stream",
     "text": [
      "Early stopping, best iteration is:\n",
      "[195]\ttraining's l1: 1.83041\tvalid_1's l1: 2.25171\n",
      "[LightGBM] [Warning] feature_fraction is set=0.829729688712601, colsample_bytree=0.7 will be ignored. Current value: feature_fraction=0.829729688712601\n",
      "[LightGBM] [Warning] bagging_fraction is set=0.5188630268083233, subsample=0.7 will be ignored. Current value: bagging_fraction=0.5188630268083233\n",
      "[LightGBM] [Warning] bagging_freq is set=6, subsample_freq=0 will be ignored. Current value: bagging_freq=6\n",
      "Training until validation scores don't improve for 100 rounds\n",
      "[100]\ttraining's l1: 1.87193\tvalid_1's l1: 2.28284\n"
     ]
    },
    {
     "name": "stderr",
     "output_type": "stream",
     "text": [
      "\u001b[32m[I 2021-07-04 20:44:06,322]\u001b[0m Trial 36 finished with value: -2.268386728002524 and parameters: {'max_depth': 19, 'min_child_weight': 18, 'subsample': 0.7, 'colsample_bytree': 0.7, 'reg_lambda': 1.0893825430159347, 'reg_alpha': 0.0010527507138858622, 'feature_fraction': 0.829729688712601, 'bagging_fraction': 0.5188630268083233, 'bagging_freq': 6}. Best is trial 33 with value: -2.2082951580422074.\u001b[0m\n"
     ]
    },
    {
     "name": "stdout",
     "output_type": "stream",
     "text": [
      "Early stopping, best iteration is:\n",
      "[67]\ttraining's l1: 1.90111\tvalid_1's l1: 2.26839\n",
      "[LightGBM] [Warning] feature_fraction is set=0.6873770833475267, colsample_bytree=0.9 will be ignored. Current value: feature_fraction=0.6873770833475267\n",
      "[LightGBM] [Warning] bagging_fraction is set=0.9860660230272016, subsample=0.8 will be ignored. Current value: bagging_fraction=0.9860660230272016\n",
      "[LightGBM] [Warning] bagging_freq is set=9, subsample_freq=0 will be ignored. Current value: bagging_freq=9\n",
      "Training until validation scores don't improve for 100 rounds\n",
      "[100]\ttraining's l1: 1.89489\tvalid_1's l1: 2.27396\n",
      "[200]\ttraining's l1: 1.8697\tvalid_1's l1: 2.27766\n"
     ]
    },
    {
     "name": "stderr",
     "output_type": "stream",
     "text": [
      "\u001b[32m[I 2021-07-04 20:44:13,067]\u001b[0m Trial 37 finished with value: -2.2731481995816107 and parameters: {'max_depth': 15, 'min_child_weight': 11, 'subsample': 0.8, 'colsample_bytree': 0.9, 'reg_lambda': 19.941699583356794, 'reg_alpha': 815.7190711905557, 'feature_fraction': 0.6873770833475267, 'bagging_fraction': 0.9860660230272016, 'bagging_freq': 9}. Best is trial 33 with value: -2.2082951580422074.\u001b[0m\n"
     ]
    },
    {
     "name": "stdout",
     "output_type": "stream",
     "text": [
      "Early stopping, best iteration is:\n",
      "[112]\ttraining's l1: 1.89054\tvalid_1's l1: 2.27317\n",
      "[LightGBM] [Warning] feature_fraction is set=0.7927985205853929, colsample_bytree=0.8 will be ignored. Current value: feature_fraction=0.7927985205853929\n",
      "[LightGBM] [Warning] bagging_fraction is set=0.7206383996182368, subsample=0.6 will be ignored. Current value: bagging_fraction=0.7206383996182368\n",
      "[LightGBM] [Warning] bagging_freq is set=2, subsample_freq=0 will be ignored. Current value: bagging_freq=2\n",
      "Training until validation scores don't improve for 100 rounds\n",
      "[100]\ttraining's l1: 1.87544\tvalid_1's l1: 2.27293\n",
      "[200]\ttraining's l1: 1.82016\tvalid_1's l1: 2.25216\n"
     ]
    },
    {
     "name": "stderr",
     "output_type": "stream",
     "text": [
      "\u001b[32m[I 2021-07-04 20:44:21,945]\u001b[0m Trial 38 finished with value: -2.2473729393810826 and parameters: {'max_depth': 12, 'min_child_weight': 13, 'subsample': 0.6, 'colsample_bytree': 0.8, 'reg_lambda': 5.860294906881395, 'reg_alpha': 0.002807103082358786, 'feature_fraction': 0.7927985205853929, 'bagging_fraction': 0.7206383996182368, 'bagging_freq': 2}. Best is trial 33 with value: -2.2082951580422074.\u001b[0m\n"
     ]
    },
    {
     "name": "stdout",
     "output_type": "stream",
     "text": [
      "Early stopping, best iteration is:\n",
      "[172]\ttraining's l1: 1.82766\tvalid_1's l1: 2.24738\n",
      "[LightGBM] [Warning] feature_fraction is set=0.6548019934768948, colsample_bytree=0.5 will be ignored. Current value: feature_fraction=0.6548019934768948\n",
      "[LightGBM] [Warning] bagging_fraction is set=0.8154436535762029, subsample=0.7 will be ignored. Current value: bagging_fraction=0.8154436535762029\n",
      "[LightGBM] [Warning] bagging_freq is set=5, subsample_freq=0 will be ignored. Current value: bagging_freq=5\n",
      "Training until validation scores don't improve for 100 rounds\n",
      "[100]\ttraining's l1: 1.87848\tvalid_1's l1: 2.27712\n",
      "[200]\ttraining's l1: 1.82642\tvalid_1's l1: 2.24853\n"
     ]
    },
    {
     "name": "stderr",
     "output_type": "stream",
     "text": [
      "\u001b[32m[I 2021-07-04 20:44:29,121]\u001b[0m Trial 39 finished with value: -2.2419000056756047 and parameters: {'max_depth': 9, 'min_child_weight': 19, 'subsample': 0.7, 'colsample_bytree': 0.5, 'reg_lambda': 0.005012032032706634, 'reg_alpha': 10.871675646157756, 'feature_fraction': 0.6548019934768948, 'bagging_fraction': 0.8154436535762029, 'bagging_freq': 5}. Best is trial 33 with value: -2.2082951580422074.\u001b[0m\n"
     ]
    },
    {
     "name": "stdout",
     "output_type": "stream",
     "text": [
      "Early stopping, best iteration is:\n",
      "[140]\ttraining's l1: 1.84209\tvalid_1's l1: 2.24192\n",
      "[LightGBM] [Warning] feature_fraction is set=0.9087048422921251, colsample_bytree=0.7 will be ignored. Current value: feature_fraction=0.9087048422921251\n",
      "[LightGBM] [Warning] bagging_fraction is set=0.7671949439080106, subsample=0.9 will be ignored. Current value: bagging_fraction=0.7671949439080106\n",
      "[LightGBM] [Warning] bagging_freq is set=8, subsample_freq=0 will be ignored. Current value: bagging_freq=8\n",
      "Training until validation scores don't improve for 100 rounds\n",
      "[100]\ttraining's l1: 1.87151\tvalid_1's l1: 2.27732\n"
     ]
    },
    {
     "name": "stderr",
     "output_type": "stream",
     "text": [
      "\u001b[32m[I 2021-07-04 20:44:33,933]\u001b[0m Trial 40 finished with value: -2.271740024933588 and parameters: {'max_depth': 19, 'min_child_weight': 12, 'subsample': 0.9, 'colsample_bytree': 0.7, 'reg_lambda': 0.42581250779223945, 'reg_alpha': 0.014683630630456593, 'feature_fraction': 0.9087048422921251, 'bagging_fraction': 0.7671949439080106, 'bagging_freq': 8}. Best is trial 33 with value: -2.2082951580422074.\u001b[0m\n"
     ]
    },
    {
     "name": "stdout",
     "output_type": "stream",
     "text": [
      "Early stopping, best iteration is:\n",
      "[70]\ttraining's l1: 1.8905\tvalid_1's l1: 2.27174\n",
      "[LightGBM] [Warning] feature_fraction is set=0.46053333523042106, colsample_bytree=0.8 will be ignored. Current value: feature_fraction=0.46053333523042106\n",
      "[LightGBM] [Warning] bagging_fraction is set=0.5924540959124067, subsample=0.9 will be ignored. Current value: bagging_fraction=0.5924540959124067\n",
      "[LightGBM] [Warning] bagging_freq is set=10, subsample_freq=0 will be ignored. Current value: bagging_freq=10\n",
      "Training until validation scores don't improve for 100 rounds\n",
      "[100]\ttraining's l1: 1.88953\tvalid_1's l1: 2.27177\n",
      "[200]\ttraining's l1: 1.83671\tvalid_1's l1: 2.24205\n"
     ]
    },
    {
     "name": "stderr",
     "output_type": "stream",
     "text": [
      "\u001b[32m[I 2021-07-04 20:44:39,936]\u001b[0m Trial 41 finished with value: -2.234641139265921 and parameters: {'max_depth': 16, 'min_child_weight': 16, 'subsample': 0.9, 'colsample_bytree': 0.8, 'reg_lambda': 56.960695558764805, 'reg_alpha': 0.00449266615811738, 'feature_fraction': 0.46053333523042106, 'bagging_fraction': 0.5924540959124067, 'bagging_freq': 10}. Best is trial 33 with value: -2.2082951580422074.\u001b[0m\n"
     ]
    },
    {
     "name": "stdout",
     "output_type": "stream",
     "text": [
      "Early stopping, best iteration is:\n",
      "[159]\ttraining's l1: 1.84968\tvalid_1's l1: 2.23468\n",
      "[LightGBM] [Warning] feature_fraction is set=0.72272435239593, colsample_bytree=0.8 will be ignored. Current value: feature_fraction=0.72272435239593\n",
      "[LightGBM] [Warning] bagging_fraction is set=0.6364040971308798, subsample=0.9 will be ignored. Current value: bagging_fraction=0.6364040971308798\n",
      "[LightGBM] [Warning] bagging_freq is set=10, subsample_freq=0 will be ignored. Current value: bagging_freq=10\n",
      "Training until validation scores don't improve for 100 rounds\n",
      "[100]\ttraining's l1: 1.86923\tvalid_1's l1: 2.24983\n",
      "[200]\ttraining's l1: 1.81853\tvalid_1's l1: 2.24322\n"
     ]
    },
    {
     "name": "stderr",
     "output_type": "stream",
     "text": [
      "\u001b[32m[I 2021-07-04 20:44:45,319]\u001b[0m Trial 42 finished with value: -2.229777343249601 and parameters: {'max_depth': 15, 'min_child_weight': 15, 'subsample': 0.9, 'colsample_bytree': 0.8, 'reg_lambda': 28.06195706383449, 'reg_alpha': 0.006732020854929163, 'feature_fraction': 0.72272435239593, 'bagging_fraction': 0.6364040971308798, 'bagging_freq': 10}. Best is trial 33 with value: -2.2082951580422074.\u001b[0m\n"
     ]
    },
    {
     "name": "stdout",
     "output_type": "stream",
     "text": [
      "Early stopping, best iteration is:\n",
      "[130]\ttraining's l1: 1.84042\tvalid_1's l1: 2.22978\n",
      "[LightGBM] [Warning] feature_fraction is set=0.8585021368534813, colsample_bytree=0.8 will be ignored. Current value: feature_fraction=0.8585021368534813\n",
      "[LightGBM] [Warning] bagging_fraction is set=0.6833287723517218, subsample=0.9 will be ignored. Current value: bagging_fraction=0.6833287723517218\n",
      "[LightGBM] [Warning] bagging_freq is set=10, subsample_freq=0 will be ignored. Current value: bagging_freq=10\n",
      "Training until validation scores don't improve for 100 rounds\n",
      "[100]\ttraining's l1: 1.8771\tvalid_1's l1: 2.28322\n",
      "[200]\ttraining's l1: 1.82465\tvalid_1's l1: 2.25804\n"
     ]
    },
    {
     "name": "stderr",
     "output_type": "stream",
     "text": [
      "\u001b[32m[I 2021-07-04 20:44:52,138]\u001b[0m Trial 43 finished with value: -2.256476396063636 and parameters: {'max_depth': 13, 'min_child_weight': 17, 'subsample': 0.9, 'colsample_bytree': 0.8, 'reg_lambda': 2.6962112630465622, 'reg_alpha': 0.001724683582675562, 'feature_fraction': 0.8585021368534813, 'bagging_fraction': 0.6833287723517218, 'bagging_freq': 10}. Best is trial 33 with value: -2.2082951580422074.\u001b[0m\n"
     ]
    },
    {
     "name": "stdout",
     "output_type": "stream",
     "text": [
      "Early stopping, best iteration is:\n",
      "[198]\ttraining's l1: 1.82606\tvalid_1's l1: 2.25675\n",
      "[LightGBM] [Warning] feature_fraction is set=0.7323550592445465, colsample_bytree=0.9 will be ignored. Current value: feature_fraction=0.7323550592445465\n",
      "[LightGBM] [Warning] bagging_fraction is set=0.6387926461303969, subsample=0.8 will be ignored. Current value: bagging_fraction=0.6387926461303969\n",
      "[LightGBM] [Warning] bagging_freq is set=9, subsample_freq=0 will be ignored. Current value: bagging_freq=9\n",
      "Training until validation scores don't improve for 100 rounds\n",
      "[100]\ttraining's l1: 1.87126\tvalid_1's l1: 2.26619\n",
      "[200]\ttraining's l1: 1.83024\tvalid_1's l1: 2.26696\n"
     ]
    },
    {
     "name": "stderr",
     "output_type": "stream",
     "text": [
      "\u001b[32m[I 2021-07-04 20:44:57,713]\u001b[0m Trial 44 finished with value: -2.259642121780949 and parameters: {'max_depth': 11, 'min_child_weight': 13, 'subsample': 0.8, 'colsample_bytree': 0.9, 'reg_lambda': 23.505023229638784, 'reg_alpha': 0.03054349135583088, 'feature_fraction': 0.7323550592445465, 'bagging_fraction': 0.6387926461303969, 'bagging_freq': 9}. Best is trial 33 with value: -2.2082951580422074.\u001b[0m\n"
     ]
    },
    {
     "name": "stdout",
     "output_type": "stream",
     "text": [
      "Early stopping, best iteration is:\n",
      "[139]\ttraining's l1: 1.84622\tvalid_1's l1: 2.25964\n",
      "[LightGBM] [Warning] feature_fraction is set=0.7585338988256498, colsample_bytree=0.8 will be ignored. Current value: feature_fraction=0.7585338988256498\n",
      "[LightGBM] [Warning] bagging_fraction is set=0.5930283853821537, subsample=0.9 will be ignored. Current value: bagging_fraction=0.5930283853821537\n",
      "[LightGBM] [Warning] bagging_freq is set=10, subsample_freq=0 will be ignored. Current value: bagging_freq=10\n",
      "Training until validation scores don't improve for 100 rounds\n",
      "[100]\ttraining's l1: 1.8867\tvalid_1's l1: 2.28503\n",
      "[200]\ttraining's l1: 1.82829\tvalid_1's l1: 2.25637\n"
     ]
    },
    {
     "name": "stderr",
     "output_type": "stream",
     "text": [
      "\u001b[32m[I 2021-07-04 20:45:03,223]\u001b[0m Trial 45 finished with value: -2.2489798711990328 and parameters: {'max_depth': 15, 'min_child_weight': 16, 'subsample': 0.9, 'colsample_bytree': 0.8, 'reg_lambda': 221.93017561309335, 'reg_alpha': 0.00475952422052082, 'feature_fraction': 0.7585338988256498, 'bagging_fraction': 0.5930283853821537, 'bagging_freq': 10}. Best is trial 33 with value: -2.2082951580422074.\u001b[0m\n"
     ]
    },
    {
     "name": "stdout",
     "output_type": "stream",
     "text": [
      "Early stopping, best iteration is:\n",
      "[144]\ttraining's l1: 1.84115\tvalid_1's l1: 2.24898\n",
      "[LightGBM] [Warning] feature_fraction is set=0.6362929249725287, colsample_bytree=0.7 will be ignored. Current value: feature_fraction=0.6362929249725287\n",
      "[LightGBM] [Warning] bagging_fraction is set=0.7488431169166548, subsample=0.9 will be ignored. Current value: bagging_fraction=0.7488431169166548\n",
      "[LightGBM] [Warning] bagging_freq is set=4, subsample_freq=0 will be ignored. Current value: bagging_freq=4\n",
      "Training until validation scores don't improve for 100 rounds\n",
      "[100]\ttraining's l1: 1.88095\tvalid_1's l1: 2.27524\n",
      "[200]\ttraining's l1: 1.82231\tvalid_1's l1: 2.23969\n"
     ]
    },
    {
     "name": "stderr",
     "output_type": "stream",
     "text": [
      "\u001b[32m[I 2021-07-04 20:45:11,508]\u001b[0m Trial 46 finished with value: -2.2392767991626 and parameters: {'max_depth': 14, 'min_child_weight': 4, 'subsample': 0.9, 'colsample_bytree': 0.7, 'reg_lambda': 8.898814349933883, 'reg_alpha': 0.009562666654188458, 'feature_fraction': 0.6362929249725287, 'bagging_fraction': 0.7488431169166548, 'bagging_freq': 4}. Best is trial 33 with value: -2.2082951580422074.\u001b[0m\n"
     ]
    },
    {
     "name": "stdout",
     "output_type": "stream",
     "text": [
      "Early stopping, best iteration is:\n",
      "[185]\ttraining's l1: 1.82665\tvalid_1's l1: 2.23939\n",
      "[LightGBM] [Warning] feature_fraction is set=0.7156111816737951, colsample_bytree=0.8 will be ignored. Current value: feature_fraction=0.7156111816737951\n",
      "[LightGBM] [Warning] bagging_fraction is set=0.6768018429313407, subsample=0.8 will be ignored. Current value: bagging_fraction=0.6768018429313407\n",
      "[LightGBM] [Warning] bagging_freq is set=10, subsample_freq=0 will be ignored. Current value: bagging_freq=10\n",
      "Training until validation scores don't improve for 100 rounds\n",
      "[100]\ttraining's l1: 1.86481\tvalid_1's l1: 2.25589\n",
      "[200]\ttraining's l1: 1.81846\tvalid_1's l1: 2.25069\n"
     ]
    },
    {
     "name": "stderr",
     "output_type": "stream",
     "text": [
      "\u001b[32m[I 2021-07-04 20:45:17,811]\u001b[0m Trial 47 finished with value: -2.244999237317919 and parameters: {'max_depth': 13, 'min_child_weight': 15, 'subsample': 0.8, 'colsample_bytree': 0.8, 'reg_lambda': 0.19912579534459898, 'reg_alpha': 0.0031154319090065585, 'feature_fraction': 0.7156111816737951, 'bagging_fraction': 0.6768018429313407, 'bagging_freq': 10}. Best is trial 33 with value: -2.2082951580422074.\u001b[0m\n"
     ]
    },
    {
     "name": "stdout",
     "output_type": "stream",
     "text": [
      "Early stopping, best iteration is:\n",
      "[171]\ttraining's l1: 1.82525\tvalid_1's l1: 2.24506\n",
      "[LightGBM] [Warning] feature_fraction is set=0.6726053690681493, colsample_bytree=0.8 will be ignored. Current value: feature_fraction=0.6726053690681493\n",
      "[LightGBM] [Warning] bagging_fraction is set=0.713328149324134, subsample=0.9 will be ignored. Current value: bagging_fraction=0.713328149324134\n",
      "[LightGBM] [Warning] bagging_freq is set=7, subsample_freq=0 will be ignored. Current value: bagging_freq=7\n",
      "Training until validation scores don't improve for 100 rounds\n",
      "[100]\ttraining's l1: 1.8698\tvalid_1's l1: 2.26071\n",
      "[200]\ttraining's l1: 1.81839\tvalid_1's l1: 2.23088\n"
     ]
    },
    {
     "name": "stderr",
     "output_type": "stream",
     "text": [
      "\u001b[32m[I 2021-07-04 20:45:23,430]\u001b[0m Trial 48 finished with value: -2.2190328106550816 and parameters: {'max_depth': 19, 'min_child_weight': 19, 'subsample': 0.9, 'colsample_bytree': 0.8, 'reg_lambda': 84.48701419433633, 'reg_alpha': 0.03985031075836342, 'feature_fraction': 0.6726053690681493, 'bagging_fraction': 0.713328149324134, 'bagging_freq': 7}. Best is trial 33 with value: -2.2082951580422074.\u001b[0m\n"
     ]
    },
    {
     "name": "stdout",
     "output_type": "stream",
     "text": [
      "Early stopping, best iteration is:\n",
      "[111]\ttraining's l1: 1.84593\tvalid_1's l1: 2.21903\n",
      "[LightGBM] [Warning] feature_fraction is set=0.6754889392863467, colsample_bytree=0.5 will be ignored. Current value: feature_fraction=0.6754889392863467\n",
      "[LightGBM] [Warning] bagging_fraction is set=0.7867486660409886, subsample=0.5 will be ignored. Current value: bagging_fraction=0.7867486660409886\n",
      "[LightGBM] [Warning] bagging_freq is set=7, subsample_freq=0 will be ignored. Current value: bagging_freq=7\n",
      "Training until validation scores don't improve for 100 rounds\n",
      "[100]\ttraining's l1: 1.86493\tvalid_1's l1: 2.26054\n",
      "[200]\ttraining's l1: 1.82006\tvalid_1's l1: 2.24492\n"
     ]
    },
    {
     "name": "stderr",
     "output_type": "stream",
     "text": [
      "\u001b[32m[I 2021-07-04 20:45:29,723]\u001b[0m Trial 49 finished with value: -2.2324996520627143 and parameters: {'max_depth': 19, 'min_child_weight': 20, 'subsample': 0.5, 'colsample_bytree': 0.5, 'reg_lambda': 74.70399760599716, 'reg_alpha': 0.3615914969307955, 'feature_fraction': 0.6754889392863467, 'bagging_fraction': 0.7867486660409886, 'bagging_freq': 7}. Best is trial 33 with value: -2.2082951580422074.\u001b[0m\n"
     ]
    },
    {
     "name": "stdout",
     "output_type": "stream",
     "text": [
      "Early stopping, best iteration is:\n",
      "[127]\ttraining's l1: 1.83803\tvalid_1's l1: 2.2325\n",
      "[LightGBM] [Warning] feature_fraction is set=0.9861739881754767, colsample_bytree=0.6 will be ignored. Current value: feature_fraction=0.9861739881754767\n",
      "[LightGBM] [Warning] bagging_fraction is set=0.7079517085656053, subsample=0.8 will be ignored. Current value: bagging_fraction=0.7079517085656053\n",
      "[LightGBM] [Warning] bagging_freq is set=6, subsample_freq=0 will be ignored. Current value: bagging_freq=6\n",
      "Training until validation scores don't improve for 100 rounds\n",
      "[100]\ttraining's l1: 1.8772\tvalid_1's l1: 2.29096\n",
      "[200]\ttraining's l1: 1.83349\tvalid_1's l1: 2.27527\n",
      "[300]\ttraining's l1: 1.81907\tvalid_1's l1: 2.2831\n"
     ]
    },
    {
     "name": "stderr",
     "output_type": "stream",
     "text": [
      "\u001b[32m[I 2021-07-04 20:45:37,534]\u001b[0m Trial 50 finished with value: -2.2745836649282336 and parameters: {'max_depth': 17, 'min_child_weight': 19, 'subsample': 0.8, 'colsample_bytree': 0.6, 'reg_lambda': 191.4740443368163, 'reg_alpha': 0.09236003192259137, 'feature_fraction': 0.9861739881754767, 'bagging_fraction': 0.7079517085656053, 'bagging_freq': 6}. Best is trial 33 with value: -2.2082951580422074.\u001b[0m\n"
     ]
    },
    {
     "name": "stdout",
     "output_type": "stream",
     "text": [
      "Early stopping, best iteration is:\n",
      "[212]\ttraining's l1: 1.83136\tvalid_1's l1: 2.27464\n",
      "[LightGBM] [Warning] feature_fraction is set=0.6280396759468482, colsample_bytree=0.8 will be ignored. Current value: feature_fraction=0.6280396759468482\n",
      "[LightGBM] [Warning] bagging_fraction is set=0.6187448589573675, subsample=0.9 will be ignored. Current value: bagging_fraction=0.6187448589573675\n",
      "[LightGBM] [Warning] bagging_freq is set=8, subsample_freq=0 will be ignored. Current value: bagging_freq=8\n",
      "Training until validation scores don't improve for 100 rounds\n",
      "[100]\ttraining's l1: 1.87246\tvalid_1's l1: 2.26656\n",
      "[200]\ttraining's l1: 1.82363\tvalid_1's l1: 2.25506\n",
      "[300]\ttraining's l1: 1.79584\tvalid_1's l1: 2.25192\n"
     ]
    },
    {
     "name": "stderr",
     "output_type": "stream",
     "text": [
      "\u001b[32m[I 2021-07-04 20:45:45,017]\u001b[0m Trial 51 finished with value: -2.2435745062427763 and parameters: {'max_depth': 18, 'min_child_weight': 8, 'subsample': 0.9, 'colsample_bytree': 0.8, 'reg_lambda': 28.208090780472855, 'reg_alpha': 0.01945198993002587, 'feature_fraction': 0.6280396759468482, 'bagging_fraction': 0.6187448589573675, 'bagging_freq': 8}. Best is trial 33 with value: -2.2082951580422074.\u001b[0m\n"
     ]
    },
    {
     "name": "stdout",
     "output_type": "stream",
     "text": [
      "Early stopping, best iteration is:\n",
      "[213]\ttraining's l1: 1.8158\tvalid_1's l1: 2.24367\n",
      "[LightGBM] [Warning] feature_fraction is set=0.7140856397135187, colsample_bytree=0.8 will be ignored. Current value: feature_fraction=0.7140856397135187\n",
      "[LightGBM] [Warning] bagging_fraction is set=0.7360200781362181, subsample=0.9 will be ignored. Current value: bagging_fraction=0.7360200781362181\n",
      "[LightGBM] [Warning] bagging_freq is set=5, subsample_freq=0 will be ignored. Current value: bagging_freq=5\n",
      "Training until validation scores don't improve for 100 rounds\n",
      "[100]\ttraining's l1: 1.8792\tvalid_1's l1: 2.28136\n",
      "[200]\ttraining's l1: 1.82075\tvalid_1's l1: 2.23831\n"
     ]
    },
    {
     "name": "stderr",
     "output_type": "stream",
     "text": [
      "\u001b[32m[I 2021-07-04 20:45:51,653]\u001b[0m Trial 52 finished with value: -2.2312292458381737 and parameters: {'max_depth': 20, 'min_child_weight': 18, 'subsample': 0.9, 'colsample_bytree': 0.8, 'reg_lambda': 90.6950620966464, 'reg_alpha': 0.04257501733662673, 'feature_fraction': 0.7140856397135187, 'bagging_fraction': 0.7360200781362181, 'bagging_freq': 5}. Best is trial 33 with value: -2.2082951580422074.\u001b[0m\n"
     ]
    },
    {
     "name": "stdout",
     "output_type": "stream",
     "text": [
      "Early stopping, best iteration is:\n",
      "[141]\ttraining's l1: 1.83475\tvalid_1's l1: 2.23126\n",
      "[LightGBM] [Warning] feature_fraction is set=0.5705298868983909, colsample_bytree=0.8 will be ignored. Current value: feature_fraction=0.5705298868983909\n",
      "[LightGBM] [Warning] bagging_fraction is set=0.668544893203858, subsample=0.9 will be ignored. Current value: bagging_fraction=0.668544893203858\n",
      "[LightGBM] [Warning] bagging_freq is set=9, subsample_freq=0 will be ignored. Current value: bagging_freq=9\n",
      "Training until validation scores don't improve for 100 rounds\n",
      "[100]\ttraining's l1: 1.88564\tvalid_1's l1: 2.27881\n",
      "[200]\ttraining's l1: 1.82771\tvalid_1's l1: 2.24844\n",
      "[300]\ttraining's l1: 1.8035\tvalid_1's l1: 2.24124\n"
     ]
    },
    {
     "name": "stderr",
     "output_type": "stream",
     "text": [
      "\u001b[32m[I 2021-07-04 20:46:00,541]\u001b[0m Trial 53 finished with value: -2.2372941102634627 and parameters: {'max_depth': 19, 'min_child_weight': 17, 'subsample': 0.9, 'colsample_bytree': 0.8, 'reg_lambda': 4.771273958882661, 'reg_alpha': 0.005495201176442423, 'feature_fraction': 0.5705298868983909, 'bagging_fraction': 0.668544893203858, 'bagging_freq': 9}. Best is trial 33 with value: -2.2082951580422074.\u001b[0m\n"
     ]
    },
    {
     "name": "stdout",
     "output_type": "stream",
     "text": [
      "Early stopping, best iteration is:\n",
      "[234]\ttraining's l1: 1.8153\tvalid_1's l1: 2.23751\n",
      "[LightGBM] [Warning] feature_fraction is set=0.7731593987692537, colsample_bytree=0.8 will be ignored. Current value: feature_fraction=0.7731593987692537\n",
      "[LightGBM] [Warning] bagging_fraction is set=0.5649654447348859, subsample=0.9 will be ignored. Current value: bagging_fraction=0.5649654447348859\n",
      "[LightGBM] [Warning] bagging_freq is set=4, subsample_freq=0 will be ignored. Current value: bagging_freq=4\n",
      "Training until validation scores don't improve for 100 rounds\n",
      "[100]\ttraining's l1: 1.87645\tvalid_1's l1: 2.26826\n",
      "[200]\ttraining's l1: 1.81777\tvalid_1's l1: 2.23568\n"
     ]
    },
    {
     "name": "stderr",
     "output_type": "stream",
     "text": [
      "\u001b[32m[I 2021-07-04 20:46:06,736]\u001b[0m Trial 54 finished with value: -2.2247669119363795 and parameters: {'max_depth': 17, 'min_child_weight': 12, 'subsample': 0.9, 'colsample_bytree': 0.8, 'reg_lambda': 1.7875926180373785, 'reg_alpha': 0.0015941892702314722, 'feature_fraction': 0.7731593987692537, 'bagging_fraction': 0.5649654447348859, 'bagging_freq': 4}. Best is trial 33 with value: -2.2082951580422074.\u001b[0m\n"
     ]
    },
    {
     "name": "stdout",
     "output_type": "stream",
     "text": [
      "Early stopping, best iteration is:\n",
      "[154]\ttraining's l1: 1.82609\tvalid_1's l1: 2.22514\n",
      "[LightGBM] [Warning] feature_fraction is set=0.7581229613530726, colsample_bytree=0.9 will be ignored. Current value: feature_fraction=0.7581229613530726\n",
      "[LightGBM] [Warning] bagging_fraction is set=0.47365331352964485, subsample=0.9 will be ignored. Current value: bagging_fraction=0.47365331352964485\n",
      "[LightGBM] [Warning] bagging_freq is set=4, subsample_freq=0 will be ignored. Current value: bagging_freq=4\n",
      "Training until validation scores don't improve for 100 rounds\n",
      "[100]\ttraining's l1: 1.86546\tvalid_1's l1: 2.25533\n",
      "[200]\ttraining's l1: 1.82107\tvalid_1's l1: 2.25227\n"
     ]
    },
    {
     "name": "stderr",
     "output_type": "stream",
     "text": [
      "\u001b[32m[I 2021-07-04 20:46:12,035]\u001b[0m Trial 55 finished with value: -2.2376203251252793 and parameters: {'max_depth': 17, 'min_child_weight': 11, 'subsample': 0.9, 'colsample_bytree': 0.9, 'reg_lambda': 0.8042320535835282, 'reg_alpha': 0.0015567189812287208, 'feature_fraction': 0.7581229613530726, 'bagging_fraction': 0.47365331352964485, 'bagging_freq': 4}. Best is trial 33 with value: -2.2082951580422074.\u001b[0m\n"
     ]
    },
    {
     "name": "stdout",
     "output_type": "stream",
     "text": [
      "Early stopping, best iteration is:\n",
      "[129]\ttraining's l1: 1.83941\tvalid_1's l1: 2.23763\n",
      "[LightGBM] [Warning] feature_fraction is set=0.8037438648712725, colsample_bytree=0.7 will be ignored. Current value: feature_fraction=0.8037438648712725\n",
      "[LightGBM] [Warning] bagging_fraction is set=0.5174275186635375, subsample=0.7 will be ignored. Current value: bagging_fraction=0.5174275186635375\n",
      "[LightGBM] [Warning] bagging_freq is set=3, subsample_freq=0 will be ignored. Current value: bagging_freq=3\n",
      "Training until validation scores don't improve for 100 rounds\n",
      "[100]\ttraining's l1: 1.87166\tvalid_1's l1: 2.27081\n"
     ]
    },
    {
     "name": "stderr",
     "output_type": "stream",
     "text": [
      "\u001b[32m[I 2021-07-04 20:46:17,395]\u001b[0m Trial 56 finished with value: -2.2612862841870447 and parameters: {'max_depth': 18, 'min_child_weight': 12, 'subsample': 0.7, 'colsample_bytree': 0.7, 'reg_lambda': 2.540921250761141, 'reg_alpha': 3.0932774609820215, 'feature_fraction': 0.8037438648712725, 'bagging_fraction': 0.5174275186635375, 'bagging_freq': 3}. Best is trial 33 with value: -2.2082951580422074.\u001b[0m\n"
     ]
    },
    {
     "name": "stdout",
     "output_type": "stream",
     "text": [
      "[200]\ttraining's l1: 1.83162\tvalid_1's l1: 2.27247\n",
      "Early stopping, best iteration is:\n",
      "[107]\ttraining's l1: 1.86029\tvalid_1's l1: 2.26129\n",
      "[LightGBM] [Warning] feature_fraction is set=0.5943409037054513, colsample_bytree=0.8 will be ignored. Current value: feature_fraction=0.5943409037054513\n",
      "[LightGBM] [Warning] bagging_fraction is set=0.4242540650480402, subsample=0.8 will be ignored. Current value: bagging_fraction=0.4242540650480402\n",
      "[LightGBM] [Warning] bagging_freq is set=5, subsample_freq=0 will be ignored. Current value: bagging_freq=5\n",
      "Training until validation scores don't improve for 100 rounds\n",
      "[100]\ttraining's l1: 1.88196\tvalid_1's l1: 2.2777\n",
      "[200]\ttraining's l1: 1.81886\tvalid_1's l1: 2.24372\n"
     ]
    },
    {
     "name": "stderr",
     "output_type": "stream",
     "text": [
      "\u001b[32m[I 2021-07-04 20:46:23,181]\u001b[0m Trial 57 finished with value: -2.2421296980015124 and parameters: {'max_depth': 17, 'min_child_weight': 9, 'subsample': 0.8, 'colsample_bytree': 0.8, 'reg_lambda': 1.5006723338923311, 'reg_alpha': 0.0010646603745677352, 'feature_fraction': 0.5943409037054513, 'bagging_fraction': 0.4242540650480402, 'bagging_freq': 5}. Best is trial 33 with value: -2.2082951580422074.\u001b[0m\n"
     ]
    },
    {
     "name": "stdout",
     "output_type": "stream",
     "text": [
      "Early stopping, best iteration is:\n",
      "[157]\ttraining's l1: 1.84072\tvalid_1's l1: 2.24213\n",
      "[LightGBM] [Warning] feature_fraction is set=0.5514762149967873, colsample_bytree=0.9 will be ignored. Current value: feature_fraction=0.5514762149967873\n",
      "[LightGBM] [Warning] bagging_fraction is set=0.5636833341584737, subsample=0.9 will be ignored. Current value: bagging_fraction=0.5636833341584737\n",
      "[LightGBM] [Warning] bagging_freq is set=4, subsample_freq=0 will be ignored. Current value: bagging_freq=4\n",
      "Training until validation scores don't improve for 100 rounds\n",
      "[100]\ttraining's l1: 1.87923\tvalid_1's l1: 2.27383\n",
      "[200]\ttraining's l1: 1.82987\tvalid_1's l1: 2.26006\n",
      "[300]\ttraining's l1: 1.80447\tvalid_1's l1: 2.25971\n"
     ]
    },
    {
     "name": "stderr",
     "output_type": "stream",
     "text": [
      "\u001b[32m[I 2021-07-04 20:46:31,535]\u001b[0m Trial 58 finished with value: -2.2510048936135942 and parameters: {'max_depth': 18, 'min_child_weight': 10, 'subsample': 0.9, 'colsample_bytree': 0.9, 'reg_lambda': 13.854383955897637, 'reg_alpha': 0.0016262418344321272, 'feature_fraction': 0.5514762149967873, 'bagging_fraction': 0.5636833341584737, 'bagging_freq': 4}. Best is trial 33 with value: -2.2082951580422074.\u001b[0m\n"
     ]
    },
    {
     "name": "stdout",
     "output_type": "stream",
     "text": [
      "Early stopping, best iteration is:\n",
      "[222]\ttraining's l1: 1.8224\tvalid_1's l1: 2.25106\n",
      "[LightGBM] [Warning] feature_fraction is set=0.42537594787215977, colsample_bytree=0.7 will be ignored. Current value: feature_fraction=0.42537594787215977\n",
      "[LightGBM] [Warning] bagging_fraction is set=0.5327483986007171, subsample=0.8 will be ignored. Current value: bagging_fraction=0.5327483986007171\n",
      "[LightGBM] [Warning] bagging_freq is set=7, subsample_freq=0 will be ignored. Current value: bagging_freq=7\n",
      "Training until validation scores don't improve for 100 rounds\n",
      "[100]\ttraining's l1: 1.89074\tvalid_1's l1: 2.27631\n",
      "[200]\ttraining's l1: 1.84484\tvalid_1's l1: 2.27208\n"
     ]
    },
    {
     "name": "stderr",
     "output_type": "stream",
     "text": [
      "\u001b[32m[I 2021-07-04 20:46:37,124]\u001b[0m Trial 59 finished with value: -2.2654814648875576 and parameters: {'max_depth': 20, 'min_child_weight': 8, 'subsample': 0.8, 'colsample_bytree': 0.7, 'reg_lambda': 2.0272810039096, 'reg_alpha': 0.012660513310694139, 'feature_fraction': 0.42537594787215977, 'bagging_fraction': 0.5327483986007171, 'bagging_freq': 7}. Best is trial 33 with value: -2.2082951580422074.\u001b[0m\n"
     ]
    },
    {
     "name": "stdout",
     "output_type": "stream",
     "text": [
      "Early stopping, best iteration is:\n",
      "[154]\ttraining's l1: 1.85928\tvalid_1's l1: 2.26552\n",
      "[LightGBM] [Warning] feature_fraction is set=0.6886052577717718, colsample_bytree=0.8 will be ignored. Current value: feature_fraction=0.6886052577717718\n",
      "[LightGBM] [Warning] bagging_fraction is set=0.4973007768629787, subsample=0.9 will be ignored. Current value: bagging_fraction=0.4973007768629787\n",
      "[LightGBM] [Warning] bagging_freq is set=2, subsample_freq=0 will be ignored. Current value: bagging_freq=2\n",
      "Training until validation scores don't improve for 100 rounds\n",
      "[100]\ttraining's l1: 1.87886\tvalid_1's l1: 2.28656\n",
      "[200]\ttraining's l1: 1.82744\tvalid_1's l1: 2.26334\n"
     ]
    },
    {
     "name": "stderr",
     "output_type": "stream",
     "text": [
      "\u001b[32m[I 2021-07-04 20:46:43,382]\u001b[0m Trial 60 finished with value: -2.2530777944261344 and parameters: {'max_depth': 19, 'min_child_weight': 13, 'subsample': 0.9, 'colsample_bytree': 0.8, 'reg_lambda': 47.489347452001006, 'reg_alpha': 0.0037200624421755307, 'feature_fraction': 0.6886052577717718, 'bagging_fraction': 0.4973007768629787, 'bagging_freq': 2}. Best is trial 33 with value: -2.2082951580422074.\u001b[0m\n"
     ]
    },
    {
     "name": "stdout",
     "output_type": "stream",
     "text": [
      "Early stopping, best iteration is:\n",
      "[122]\ttraining's l1: 1.85111\tvalid_1's l1: 2.2531\n",
      "[LightGBM] [Warning] feature_fraction is set=0.7336744361124787, colsample_bytree=0.8 will be ignored. Current value: feature_fraction=0.7336744361124787\n",
      "[LightGBM] [Warning] bagging_fraction is set=0.5827932339902514, subsample=0.9 will be ignored. Current value: bagging_fraction=0.5827932339902514\n",
      "[LightGBM] [Warning] bagging_freq is set=6, subsample_freq=0 will be ignored. Current value: bagging_freq=6\n",
      "Training until validation scores don't improve for 100 rounds\n",
      "[100]\ttraining's l1: 1.87173\tvalid_1's l1: 2.26083\n",
      "[200]\ttraining's l1: 1.82166\tvalid_1's l1: 2.2364\n",
      "Early stopping, best iteration is:\n",
      "[111]\ttraining's l1: 1.84755\tvalid_1's l1: 2.22557\n"
     ]
    },
    {
     "name": "stderr",
     "output_type": "stream",
     "text": [
      "\u001b[32m[I 2021-07-04 20:46:48,464]\u001b[0m Trial 61 finished with value: -2.2255685670090086 and parameters: {'max_depth': 15, 'min_child_weight': 14, 'subsample': 0.9, 'colsample_bytree': 0.8, 'reg_lambda': 4.135132835985703, 'reg_alpha': 0.006496373607332567, 'feature_fraction': 0.7336744361124787, 'bagging_fraction': 0.5827932339902514, 'bagging_freq': 6}. Best is trial 33 with value: -2.2082951580422074.\u001b[0m\n"
     ]
    },
    {
     "name": "stdout",
     "output_type": "stream",
     "text": [
      "[LightGBM] [Warning] feature_fraction is set=0.8574578120731011, colsample_bytree=0.8 will be ignored. Current value: feature_fraction=0.8574578120731011\n",
      "[LightGBM] [Warning] bagging_fraction is set=0.607467566716969, subsample=0.9 will be ignored. Current value: bagging_fraction=0.607467566716969\n",
      "[LightGBM] [Warning] bagging_freq is set=6, subsample_freq=0 will be ignored. Current value: bagging_freq=6\n",
      "Training until validation scores don't improve for 100 rounds\n",
      "[100]\ttraining's l1: 1.86574\tvalid_1's l1: 2.25758\n",
      "[200]\ttraining's l1: 1.82258\tvalid_1's l1: 2.25143\n"
     ]
    },
    {
     "name": "stderr",
     "output_type": "stream",
     "text": [
      "\u001b[32m[I 2021-07-04 20:46:54,154]\u001b[0m Trial 62 finished with value: -2.2484976150306153 and parameters: {'max_depth': 16, 'min_child_weight': 14, 'subsample': 0.9, 'colsample_bytree': 0.8, 'reg_lambda': 4.188116144185255, 'reg_alpha': 0.0027042718034620624, 'feature_fraction': 0.8574578120731011, 'bagging_fraction': 0.607467566716969, 'bagging_freq': 6}. Best is trial 33 with value: -2.2082951580422074.\u001b[0m\n"
     ]
    },
    {
     "name": "stdout",
     "output_type": "stream",
     "text": [
      "Early stopping, best iteration is:\n",
      "[136]\ttraining's l1: 1.84461\tvalid_1's l1: 2.24944\n",
      "[LightGBM] [Warning] feature_fraction is set=0.7725850977051812, colsample_bytree=0.8 will be ignored. Current value: feature_fraction=0.7725850977051812\n",
      "[LightGBM] [Warning] bagging_fraction is set=0.5708244454188401, subsample=0.9 will be ignored. Current value: bagging_fraction=0.5708244454188401\n",
      "[LightGBM] [Warning] bagging_freq is set=6, subsample_freq=0 will be ignored. Current value: bagging_freq=6\n",
      "Training until validation scores don't improve for 100 rounds\n",
      "[100]\ttraining's l1: 1.8792\tvalid_1's l1: 2.2806\n",
      "[200]\ttraining's l1: 1.82988\tvalid_1's l1: 2.25948\n"
     ]
    },
    {
     "name": "stderr",
     "output_type": "stream",
     "text": [
      "\u001b[32m[I 2021-07-04 20:46:59,973]\u001b[0m Trial 63 finished with value: -2.2504315720142345 and parameters: {'max_depth': 15, 'min_child_weight': 12, 'subsample': 0.9, 'colsample_bytree': 0.8, 'reg_lambda': 10.21630699355531, 'reg_alpha': 0.0010262942761150027, 'feature_fraction': 0.7725850977051812, 'bagging_fraction': 0.5708244454188401, 'bagging_freq': 6}. Best is trial 33 with value: -2.2082951580422074.\u001b[0m\n"
     ]
    },
    {
     "name": "stdout",
     "output_type": "stream",
     "text": [
      "Early stopping, best iteration is:\n",
      "[156]\ttraining's l1: 1.843\tvalid_1's l1: 2.25091\n",
      "[LightGBM] [Warning] feature_fraction is set=0.743466181603032, colsample_bytree=0.8 will be ignored. Current value: feature_fraction=0.743466181603032\n",
      "[LightGBM] [Warning] bagging_fraction is set=0.5492169961914205, subsample=0.9 will be ignored. Current value: bagging_fraction=0.5492169961914205\n",
      "[LightGBM] [Warning] bagging_freq is set=5, subsample_freq=0 will be ignored. Current value: bagging_freq=5\n",
      "Training until validation scores don't improve for 100 rounds\n",
      "[100]\ttraining's l1: 1.87381\tvalid_1's l1: 2.28171\n",
      "[200]\ttraining's l1: 1.81458\tvalid_1's l1: 2.23902\n"
     ]
    },
    {
     "name": "stderr",
     "output_type": "stream",
     "text": [
      "\u001b[32m[I 2021-07-04 20:47:06,006]\u001b[0m Trial 64 finished with value: -2.2291169687249264 and parameters: {'max_depth': 17, 'min_child_weight': 13, 'subsample': 0.9, 'colsample_bytree': 0.8, 'reg_lambda': 15.890866749386038, 'reg_alpha': 0.011175191917503132, 'feature_fraction': 0.743466181603032, 'bagging_fraction': 0.5492169961914205, 'bagging_freq': 5}. Best is trial 33 with value: -2.2082951580422074.\u001b[0m\n"
     ]
    },
    {
     "name": "stdout",
     "output_type": "stream",
     "text": [
      "Early stopping, best iteration is:\n",
      "[158]\ttraining's l1: 1.82584\tvalid_1's l1: 2.23037\n",
      "[LightGBM] [Warning] feature_fraction is set=0.6546513565196183, colsample_bytree=0.8 will be ignored. Current value: feature_fraction=0.6546513565196183\n",
      "[LightGBM] [Warning] bagging_fraction is set=0.5824428153589886, subsample=0.9 will be ignored. Current value: bagging_fraction=0.5824428153589886\n",
      "[LightGBM] [Warning] bagging_freq is set=7, subsample_freq=0 will be ignored. Current value: bagging_freq=7\n",
      "Training until validation scores don't improve for 100 rounds\n",
      "[100]\ttraining's l1: 1.87578\tvalid_1's l1: 2.27548\n",
      "[200]\ttraining's l1: 1.82641\tvalid_1's l1: 2.25611\n"
     ]
    },
    {
     "name": "stderr",
     "output_type": "stream",
     "text": [
      "\u001b[32m[I 2021-07-04 20:47:12,183]\u001b[0m Trial 65 finished with value: -2.251207317984672 and parameters: {'max_depth': 13, 'min_child_weight': 14, 'subsample': 0.9, 'colsample_bytree': 0.8, 'reg_lambda': 1.5113377202530454, 'reg_alpha': 0.0018323001415898477, 'feature_fraction': 0.6546513565196183, 'bagging_fraction': 0.5824428153589886, 'bagging_freq': 7}. Best is trial 33 with value: -2.2082951580422074.\u001b[0m\n"
     ]
    },
    {
     "name": "stdout",
     "output_type": "stream",
     "text": [
      "Early stopping, best iteration is:\n",
      "[177]\ttraining's l1: 1.83139\tvalid_1's l1: 2.25122\n",
      "[LightGBM] [Warning] feature_fraction is set=0.7025010260959736, colsample_bytree=0.8 will be ignored. Current value: feature_fraction=0.7025010260959736\n",
      "[LightGBM] [Warning] bagging_fraction is set=0.632295230956473, subsample=0.7 will be ignored. Current value: bagging_fraction=0.632295230956473\n",
      "[LightGBM] [Warning] bagging_freq is set=6, subsample_freq=0 will be ignored. Current value: bagging_freq=6\n",
      "Training until validation scores don't improve for 100 rounds\n",
      "[100]\ttraining's l1: 1.87734\tvalid_1's l1: 2.28045\n",
      "[200]\ttraining's l1: 1.8292\tvalid_1's l1: 2.25626\n"
     ]
    },
    {
     "name": "stderr",
     "output_type": "stream",
     "text": [
      "\u001b[32m[I 2021-07-04 20:47:18,891]\u001b[0m Trial 66 finished with value: -2.253884742886924 and parameters: {'max_depth': 14, 'min_child_weight': 11, 'subsample': 0.7, 'colsample_bytree': 0.8, 'reg_lambda': 7.494350539392448, 'reg_alpha': 0.12206881390632923, 'feature_fraction': 0.7025010260959736, 'bagging_fraction': 0.632295230956473, 'bagging_freq': 6}. Best is trial 33 with value: -2.2082951580422074.\u001b[0m\n"
     ]
    },
    {
     "name": "stdout",
     "output_type": "stream",
     "text": [
      "Early stopping, best iteration is:\n",
      "[188]\ttraining's l1: 1.83195\tvalid_1's l1: 2.25544\n",
      "[LightGBM] [Warning] feature_fraction is set=0.6227774418994904, colsample_bytree=0.7 will be ignored. Current value: feature_fraction=0.6227774418994904\n",
      "[LightGBM] [Warning] bagging_fraction is set=0.6951864239278466, subsample=0.6 will be ignored. Current value: bagging_fraction=0.6951864239278466\n",
      "[LightGBM] [Warning] bagging_freq is set=5, subsample_freq=0 will be ignored. Current value: bagging_freq=5\n",
      "Training until validation scores don't improve for 100 rounds\n",
      "[100]\ttraining's l1: 1.86542\tvalid_1's l1: 2.26285\n",
      "[200]\ttraining's l1: 1.8224\tvalid_1's l1: 2.25516\n"
     ]
    },
    {
     "name": "stderr",
     "output_type": "stream",
     "text": [
      "\u001b[32m[I 2021-07-04 20:47:25,627]\u001b[0m Trial 67 finished with value: -2.2446363927450825 and parameters: {'max_depth': 16, 'min_child_weight': 12, 'subsample': 0.6, 'colsample_bytree': 0.7, 'reg_lambda': 0.7738055874312416, 'reg_alpha': 0.0046033977418470295, 'feature_fraction': 0.6227774418994904, 'bagging_fraction': 0.6951864239278466, 'bagging_freq': 5}. Best is trial 33 with value: -2.2082951580422074.\u001b[0m\n"
     ]
    },
    {
     "name": "stdout",
     "output_type": "stream",
     "text": [
      "Early stopping, best iteration is:\n",
      "[139]\ttraining's l1: 1.84075\tvalid_1's l1: 2.24469\n",
      "[LightGBM] [Warning] feature_fraction is set=0.7955390121652121, colsample_bytree=0.8 will be ignored. Current value: feature_fraction=0.7955390121652121\n",
      "[LightGBM] [Warning] bagging_fraction is set=0.6621627435608212, subsample=0.9 will be ignored. Current value: bagging_fraction=0.6621627435608212\n",
      "[LightGBM] [Warning] bagging_freq is set=4, subsample_freq=0 will be ignored. Current value: bagging_freq=4\n",
      "Training until validation scores don't improve for 100 rounds\n",
      "[100]\ttraining's l1: 1.87222\tvalid_1's l1: 2.26543\n",
      "[200]\ttraining's l1: 1.82249\tvalid_1's l1: 2.25548\n",
      "[300]\ttraining's l1: 1.79719\tvalid_1's l1: 2.24655\n",
      "[400]\ttraining's l1: 1.78253\tvalid_1's l1: 2.24623\n"
     ]
    },
    {
     "name": "stderr",
     "output_type": "stream",
     "text": [
      "\u001b[32m[I 2021-07-04 20:47:37,222]\u001b[0m Trial 68 finished with value: -2.2420061382851473 and parameters: {'max_depth': 20, 'min_child_weight': 15, 'subsample': 0.9, 'colsample_bytree': 0.8, 'reg_lambda': 3.9319375928748346, 'reg_alpha': 0.022797253056052107, 'feature_fraction': 0.7955390121652121, 'bagging_fraction': 0.6621627435608212, 'bagging_freq': 4}. Best is trial 33 with value: -2.2082951580422074.\u001b[0m\n"
     ]
    },
    {
     "name": "stdout",
     "output_type": "stream",
     "text": [
      "Early stopping, best iteration is:\n",
      "[390]\ttraining's l1: 1.78314\tvalid_1's l1: 2.24515\n",
      "[LightGBM] [Warning] feature_fraction is set=0.6691070729886274, colsample_bytree=0.6 will be ignored. Current value: feature_fraction=0.6691070729886274\n",
      "[LightGBM] [Warning] bagging_fraction is set=0.47361165494056245, subsample=0.8 will be ignored. Current value: bagging_fraction=0.47361165494056245\n",
      "[LightGBM] [Warning] bagging_freq is set=6, subsample_freq=0 will be ignored. Current value: bagging_freq=6\n",
      "Training until validation scores don't improve for 100 rounds\n",
      "[100]\ttraining's l1: 1.87532\tvalid_1's l1: 2.27223\n",
      "[200]\ttraining's l1: 1.82789\tvalid_1's l1: 2.2568\n"
     ]
    },
    {
     "name": "stderr",
     "output_type": "stream",
     "text": [
      "\u001b[32m[I 2021-07-04 20:47:43,262]\u001b[0m Trial 69 finished with value: -2.2557586670684007 and parameters: {'max_depth': 18, 'min_child_weight': 1, 'subsample': 0.8, 'colsample_bytree': 0.6, 'reg_lambda': 44.28442423847192, 'reg_alpha': 0.0077827059626171995, 'feature_fraction': 0.6691070729886274, 'bagging_fraction': 0.47361165494056245, 'bagging_freq': 6}. Best is trial 33 with value: -2.2082951580422074.\u001b[0m\n"
     ]
    },
    {
     "name": "stdout",
     "output_type": "stream",
     "text": [
      "Early stopping, best iteration is:\n",
      "[193]\ttraining's l1: 1.82971\tvalid_1's l1: 2.25576\n",
      "[LightGBM] [Warning] feature_fraction is set=0.5914295805577764, colsample_bytree=0.9 will be ignored. Current value: feature_fraction=0.5914295805577764\n",
      "[LightGBM] [Warning] bagging_fraction is set=0.6027419432161537, subsample=0.9 will be ignored. Current value: bagging_fraction=0.6027419432161537\n",
      "[LightGBM] [Warning] bagging_freq is set=7, subsample_freq=0 will be ignored. Current value: bagging_freq=7\n",
      "Training until validation scores don't improve for 100 rounds\n",
      "[100]\ttraining's l1: 2.20985\tvalid_1's l1: 2.44852\n",
      "[200]\ttraining's l1: 2.17282\tvalid_1's l1: 2.41626\n",
      "[300]\ttraining's l1: 2.16046\tvalid_1's l1: 2.40505\n",
      "[400]\ttraining's l1: 2.15628\tvalid_1's l1: 2.40181\n",
      "[500]\ttraining's l1: 2.15049\tvalid_1's l1: 2.39649\n",
      "[600]\ttraining's l1: 2.14787\tvalid_1's l1: 2.3939\n",
      "[700]\ttraining's l1: 2.14424\tvalid_1's l1: 2.39117\n",
      "[800]\ttraining's l1: 2.13967\tvalid_1's l1: 2.38846\n"
     ]
    },
    {
     "name": "stderr",
     "output_type": "stream",
     "text": [
      "\u001b[32m[I 2021-07-04 20:47:59,227]\u001b[0m Trial 70 finished with value: -2.3852630775811026 and parameters: {'max_depth': 1, 'min_child_weight': 20, 'subsample': 0.9, 'colsample_bytree': 0.9, 'reg_lambda': 0.2129660112670785, 'reg_alpha': 0.03811466257906541, 'feature_fraction': 0.5914295805577764, 'bagging_fraction': 0.6027419432161537, 'bagging_freq': 7}. Best is trial 33 with value: -2.2082951580422074.\u001b[0m\n"
     ]
    },
    {
     "name": "stdout",
     "output_type": "stream",
     "text": [
      "Early stopping, best iteration is:\n",
      "[780]\ttraining's l1: 2.14041\tvalid_1's l1: 2.38757\n",
      "[LightGBM] [Warning] feature_fraction is set=0.7348519412818342, colsample_bytree=0.8 will be ignored. Current value: feature_fraction=0.7348519412818342\n",
      "[LightGBM] [Warning] bagging_fraction is set=0.5533560029274347, subsample=0.9 will be ignored. Current value: bagging_fraction=0.5533560029274347\n",
      "[LightGBM] [Warning] bagging_freq is set=5, subsample_freq=0 will be ignored. Current value: bagging_freq=5\n",
      "Training until validation scores don't improve for 100 rounds\n",
      "[100]\ttraining's l1: 1.87669\tvalid_1's l1: 2.27305\n"
     ]
    },
    {
     "name": "stderr",
     "output_type": "stream",
     "text": [
      "\u001b[32m[I 2021-07-04 20:48:03,180]\u001b[0m Trial 71 finished with value: -2.262158981680906 and parameters: {'max_depth': 15, 'min_child_weight': 13, 'subsample': 0.9, 'colsample_bytree': 0.8, 'reg_lambda': 5.882628296201263, 'reg_alpha': 0.00351835090050738, 'feature_fraction': 0.7348519412818342, 'bagging_fraction': 0.5533560029274347, 'bagging_freq': 5}. Best is trial 33 with value: -2.2082951580422074.\u001b[0m\n"
     ]
    },
    {
     "name": "stdout",
     "output_type": "stream",
     "text": [
      "Early stopping, best iteration is:\n",
      "[50]\ttraining's l1: 1.91148\tvalid_1's l1: 2.26216\n",
      "[LightGBM] [Warning] feature_fraction is set=0.7444365394936409, colsample_bytree=0.8 will be ignored. Current value: feature_fraction=0.7444365394936409\n",
      "[LightGBM] [Warning] bagging_fraction is set=0.5395877223661187, subsample=0.9 will be ignored. Current value: bagging_fraction=0.5395877223661187\n",
      "[LightGBM] [Warning] bagging_freq is set=5, subsample_freq=0 will be ignored. Current value: bagging_freq=5\n",
      "Training until validation scores don't improve for 100 rounds\n",
      "[100]\ttraining's l1: 1.87697\tvalid_1's l1: 2.28467\n",
      "[200]\ttraining's l1: 1.8184\tvalid_1's l1: 2.25211\n"
     ]
    },
    {
     "name": "stderr",
     "output_type": "stream",
     "text": [
      "\u001b[32m[I 2021-07-04 20:48:08,554]\u001b[0m Trial 72 finished with value: -2.2366620099611363 and parameters: {'max_depth': 19, 'min_child_weight': 14, 'subsample': 0.9, 'colsample_bytree': 0.8, 'reg_lambda': 16.96820299285593, 'reg_alpha': 0.011509423092665231, 'feature_fraction': 0.7444365394936409, 'bagging_fraction': 0.5395877223661187, 'bagging_freq': 5}. Best is trial 33 with value: -2.2082951580422074.\u001b[0m\n"
     ]
    },
    {
     "name": "stdout",
     "output_type": "stream",
     "text": [
      "Early stopping, best iteration is:\n",
      "[129]\ttraining's l1: 1.83973\tvalid_1's l1: 2.23674\n",
      "[LightGBM] [Warning] feature_fraction is set=0.7584941426975171, colsample_bytree=0.8 will be ignored. Current value: feature_fraction=0.7584941426975171\n",
      "[LightGBM] [Warning] bagging_fraction is set=0.5216128908308668, subsample=0.9 will be ignored. Current value: bagging_fraction=0.5216128908308668\n",
      "[LightGBM] [Warning] bagging_freq is set=4, subsample_freq=0 will be ignored. Current value: bagging_freq=4\n",
      "Training until validation scores don't improve for 100 rounds\n",
      "[100]\ttraining's l1: 1.87203\tvalid_1's l1: 2.25939\n",
      "[200]\ttraining's l1: 1.82175\tvalid_1's l1: 2.23856\n"
     ]
    },
    {
     "name": "stderr",
     "output_type": "stream",
     "text": [
      "\u001b[32m[I 2021-07-04 20:48:15,255]\u001b[0m Trial 73 finished with value: -2.237501460048598 and parameters: {'max_depth': 17, 'min_child_weight': 10, 'subsample': 0.9, 'colsample_bytree': 0.8, 'reg_lambda': 13.304321521196263, 'reg_alpha': 0.002197353500248387, 'feature_fraction': 0.7584941426975171, 'bagging_fraction': 0.5216128908308668, 'bagging_freq': 4}. Best is trial 33 with value: -2.2082951580422074.\u001b[0m\n"
     ]
    },
    {
     "name": "stdout",
     "output_type": "stream",
     "text": [
      "Early stopping, best iteration is:\n",
      "[194]\ttraining's l1: 1.82219\tvalid_1's l1: 2.23805\n",
      "[LightGBM] [Warning] feature_fraction is set=0.7770590736632628, colsample_bytree=0.8 will be ignored. Current value: feature_fraction=0.7770590736632628\n",
      "[LightGBM] [Warning] bagging_fraction is set=0.7679659135112977, subsample=0.9 will be ignored. Current value: bagging_fraction=0.7679659135112977\n",
      "[LightGBM] [Warning] bagging_freq is set=3, subsample_freq=0 will be ignored. Current value: bagging_freq=3\n",
      "Training until validation scores don't improve for 100 rounds\n",
      "[100]\ttraining's l1: 1.86958\tvalid_1's l1: 2.2687\n",
      "[200]\ttraining's l1: 1.82829\tvalid_1's l1: 2.27586\n"
     ]
    },
    {
     "name": "stderr",
     "output_type": "stream",
     "text": [
      "\u001b[32m[I 2021-07-04 20:48:22,079]\u001b[0m Trial 74 finished with value: -2.262303076281456 and parameters: {'max_depth': 16, 'min_child_weight': 13, 'subsample': 0.9, 'colsample_bytree': 0.8, 'reg_lambda': 159.10561050580432, 'reg_alpha': 0.01246604932986035, 'feature_fraction': 0.7770590736632628, 'bagging_fraction': 0.7679659135112977, 'bagging_freq': 3}. Best is trial 33 with value: -2.2082951580422074.\u001b[0m\n"
     ]
    },
    {
     "name": "stdout",
     "output_type": "stream",
     "text": [
      "Early stopping, best iteration is:\n",
      "[115]\ttraining's l1: 1.85211\tvalid_1's l1: 2.2623\n",
      "[LightGBM] [Warning] feature_fraction is set=0.8111974070677168, colsample_bytree=0.8 will be ignored. Current value: feature_fraction=0.8111974070677168\n",
      "[LightGBM] [Warning] bagging_fraction is set=0.5034703993906406, subsample=0.9 will be ignored. Current value: bagging_fraction=0.5034703993906406\n",
      "[LightGBM] [Warning] bagging_freq is set=6, subsample_freq=0 will be ignored. Current value: bagging_freq=6\n",
      "Training until validation scores don't improve for 100 rounds\n",
      "[100]\ttraining's l1: 1.87391\tvalid_1's l1: 2.25873\n"
     ]
    },
    {
     "name": "stderr",
     "output_type": "stream",
     "text": [
      "\u001b[32m[I 2021-07-04 20:48:26,830]\u001b[0m Trial 75 finished with value: -2.2584744485727866 and parameters: {'max_depth': 17, 'min_child_weight': 19, 'subsample': 0.9, 'colsample_bytree': 0.8, 'reg_lambda': 356.996474284706, 'reg_alpha': 0.005501934313567268, 'feature_fraction': 0.8111974070677168, 'bagging_fraction': 0.5034703993906406, 'bagging_freq': 6}. Best is trial 33 with value: -2.2082951580422074.\u001b[0m\n"
     ]
    },
    {
     "name": "stdout",
     "output_type": "stream",
     "text": [
      "[200]\ttraining's l1: 1.84186\tvalid_1's l1: 2.26534\n",
      "Early stopping, best iteration is:\n",
      "[101]\ttraining's l1: 1.8737\tvalid_1's l1: 2.25847\n",
      "[LightGBM] [Warning] feature_fraction is set=0.8328800652043692, colsample_bytree=0.8 will be ignored. Current value: feature_fraction=0.8328800652043692\n",
      "[LightGBM] [Warning] bagging_fraction is set=0.44717455292524316, subsample=0.9 will be ignored. Current value: bagging_fraction=0.44717455292524316\n",
      "[LightGBM] [Warning] bagging_freq is set=5, subsample_freq=0 will be ignored. Current value: bagging_freq=5\n",
      "Training until validation scores don't improve for 100 rounds\n",
      "[100]\ttraining's l1: 1.87712\tvalid_1's l1: 2.28221\n"
     ]
    },
    {
     "name": "stderr",
     "output_type": "stream",
     "text": [
      "\u001b[32m[I 2021-07-04 20:48:30,272]\u001b[0m Trial 76 finished with value: -2.2739367644338238 and parameters: {'max_depth': 14, 'min_child_weight': 16, 'subsample': 0.9, 'colsample_bytree': 0.8, 'reg_lambda': 8.14587549778087, 'reg_alpha': 0.01712381109458244, 'feature_fraction': 0.8328800652043692, 'bagging_fraction': 0.44717455292524316, 'bagging_freq': 5}. Best is trial 33 with value: -2.2082951580422074.\u001b[0m\n"
     ]
    },
    {
     "name": "stdout",
     "output_type": "stream",
     "text": [
      "Early stopping, best iteration is:\n",
      "[28]\ttraining's l1: 1.95491\tvalid_1's l1: 2.27394\n",
      "[LightGBM] [Warning] feature_fraction is set=0.6978691324921349, colsample_bytree=0.8 will be ignored. Current value: feature_fraction=0.6978691324921349\n",
      "[LightGBM] [Warning] bagging_fraction is set=0.5773976346822053, subsample=0.7 will be ignored. Current value: bagging_fraction=0.5773976346822053\n",
      "[LightGBM] [Warning] bagging_freq is set=4, subsample_freq=0 will be ignored. Current value: bagging_freq=4\n",
      "Training until validation scores don't improve for 100 rounds\n",
      "[100]\ttraining's l1: 1.87501\tvalid_1's l1: 2.28552\n"
     ]
    },
    {
     "name": "stderr",
     "output_type": "stream",
     "text": [
      "\u001b[32m[I 2021-07-04 20:48:34,214]\u001b[0m Trial 77 finished with value: -2.260617133297776 and parameters: {'max_depth': 17, 'min_child_weight': 14, 'subsample': 0.7, 'colsample_bytree': 0.8, 'reg_lambda': 20.891033896131944, 'reg_alpha': 0.007512733284852745, 'feature_fraction': 0.6978691324921349, 'bagging_fraction': 0.5773976346822053, 'bagging_freq': 4}. Best is trial 33 with value: -2.2082951580422074.\u001b[0m\n"
     ]
    },
    {
     "name": "stdout",
     "output_type": "stream",
     "text": [
      "Early stopping, best iteration is:\n",
      "[33]\ttraining's l1: 1.9382\tvalid_1's l1: 2.26062\n",
      "[LightGBM] [Warning] feature_fraction is set=0.4730386331303348, colsample_bytree=0.7 will be ignored. Current value: feature_fraction=0.4730386331303348\n",
      "[LightGBM] [Warning] bagging_fraction is set=0.720801275834383, subsample=0.8 will be ignored. Current value: bagging_fraction=0.720801275834383\n",
      "[LightGBM] [Warning] bagging_freq is set=5, subsample_freq=0 will be ignored. Current value: bagging_freq=5\n",
      "Training until validation scores don't improve for 100 rounds\n",
      "[100]\ttraining's l1: 1.87868\tvalid_1's l1: 2.25515\n",
      "[200]\ttraining's l1: 1.83059\tvalid_1's l1: 2.24491\n",
      "[300]\ttraining's l1: 1.80365\tvalid_1's l1: 2.24711\n"
     ]
    },
    {
     "name": "stderr",
     "output_type": "stream",
     "text": [
      "\u001b[32m[I 2021-07-04 20:48:42,762]\u001b[0m Trial 78 finished with value: -2.2374549621441124 and parameters: {'max_depth': 18, 'min_child_weight': 9, 'subsample': 0.8, 'colsample_bytree': 0.7, 'reg_lambda': 1.9698029399909618, 'reg_alpha': 0.001577310755719318, 'feature_fraction': 0.4730386331303348, 'bagging_fraction': 0.720801275834383, 'bagging_freq': 5}. Best is trial 33 with value: -2.2082951580422074.\u001b[0m\n"
     ]
    },
    {
     "name": "stdout",
     "output_type": "stream",
     "text": [
      "Early stopping, best iteration is:\n",
      "[222]\ttraining's l1: 1.81901\tvalid_1's l1: 2.23872\n",
      "[LightGBM] [Warning] feature_fraction is set=0.5301524707826323, colsample_bytree=0.8 will be ignored. Current value: feature_fraction=0.5301524707826323\n",
      "[LightGBM] [Warning] bagging_fraction is set=0.6409318145954028, subsample=0.9 will be ignored. Current value: bagging_fraction=0.6409318145954028\n",
      "[LightGBM] [Warning] bagging_freq is set=7, subsample_freq=0 will be ignored. Current value: bagging_freq=7\n",
      "Training until validation scores don't improve for 100 rounds\n",
      "[100]\ttraining's l1: 1.88259\tvalid_1's l1: 2.26722\n",
      "[200]\ttraining's l1: 1.84494\tvalid_1's l1: 2.27573\n"
     ]
    },
    {
     "name": "stderr",
     "output_type": "stream",
     "text": [
      "\u001b[32m[I 2021-07-04 20:48:48,530]\u001b[0m Trial 79 finished with value: -2.2631876320074507 and parameters: {'max_depth': 8, 'min_child_weight': 12, 'subsample': 0.9, 'colsample_bytree': 0.8, 'reg_lambda': 3.605544688517386, 'reg_alpha': 0.0025830550139409256, 'feature_fraction': 0.5301524707826323, 'bagging_fraction': 0.6409318145954028, 'bagging_freq': 7}. Best is trial 33 with value: -2.2082951580422074.\u001b[0m\n"
     ]
    },
    {
     "name": "stdout",
     "output_type": "stream",
     "text": [
      "Early stopping, best iteration is:\n",
      "[119]\ttraining's l1: 1.87654\tvalid_1's l1: 2.26322\n",
      "[LightGBM] [Warning] feature_fraction is set=0.6805181793047556, colsample_bytree=0.9 will be ignored. Current value: feature_fraction=0.6805181793047556\n",
      "[LightGBM] [Warning] bagging_fraction is set=0.5571837261002255, subsample=0.9 will be ignored. Current value: bagging_fraction=0.5571837261002255\n",
      "[LightGBM] [Warning] bagging_freq is set=6, subsample_freq=0 will be ignored. Current value: bagging_freq=6\n",
      "Training until validation scores don't improve for 100 rounds\n",
      "[100]\ttraining's l1: 1.86915\tvalid_1's l1: 2.261\n",
      "[200]\ttraining's l1: 1.82393\tvalid_1's l1: 2.241\n"
     ]
    },
    {
     "name": "stderr",
     "output_type": "stream",
     "text": [
      "\u001b[32m[I 2021-07-04 20:48:54,328]\u001b[0m Trial 80 finished with value: -2.239006791789636 and parameters: {'max_depth': 16, 'min_child_weight': 11, 'subsample': 0.9, 'colsample_bytree': 0.9, 'reg_lambda': 36.6020231703373, 'reg_alpha': 0.0038004832955687807, 'feature_fraction': 0.6805181793047556, 'bagging_fraction': 0.5571837261002255, 'bagging_freq': 6}. Best is trial 33 with value: -2.2082951580422074.\u001b[0m\n"
     ]
    },
    {
     "name": "stdout",
     "output_type": "stream",
     "text": [
      "Early stopping, best iteration is:\n",
      "[155]\ttraining's l1: 1.83534\tvalid_1's l1: 2.23903\n",
      "[LightGBM] [Warning] feature_fraction is set=0.7219721692070513, colsample_bytree=0.8 will be ignored. Current value: feature_fraction=0.7219721692070513\n",
      "[LightGBM] [Warning] bagging_fraction is set=0.6219824907488197, subsample=0.9 will be ignored. Current value: bagging_fraction=0.6219824907488197\n",
      "[LightGBM] [Warning] bagging_freq is set=10, subsample_freq=0 will be ignored. Current value: bagging_freq=10\n",
      "Training until validation scores don't improve for 100 rounds\n",
      "[100]\ttraining's l1: 1.87845\tvalid_1's l1: 2.2795\n",
      "[200]\ttraining's l1: 1.82904\tvalid_1's l1: 2.2544\n"
     ]
    },
    {
     "name": "stderr",
     "output_type": "stream",
     "text": [
      "\u001b[32m[I 2021-07-04 20:48:59,969]\u001b[0m Trial 81 finished with value: -2.244796924537209 and parameters: {'max_depth': 15, 'min_child_weight': 15, 'subsample': 0.9, 'colsample_bytree': 0.8, 'reg_lambda': 72.9376706344905, 'reg_alpha': 0.006656070321798996, 'feature_fraction': 0.7219721692070513, 'bagging_fraction': 0.6219824907488197, 'bagging_freq': 10}. Best is trial 33 with value: -2.2082951580422074.\u001b[0m\n"
     ]
    },
    {
     "name": "stdout",
     "output_type": "stream",
     "text": [
      "Early stopping, best iteration is:\n",
      "[143]\ttraining's l1: 1.84615\tvalid_1's l1: 2.24482\n",
      "[LightGBM] [Warning] feature_fraction is set=0.7204364794462783, colsample_bytree=0.8 will be ignored. Current value: feature_fraction=0.7204364794462783\n",
      "[LightGBM] [Warning] bagging_fraction is set=0.5944601494733014, subsample=0.9 will be ignored. Current value: bagging_fraction=0.5944601494733014\n",
      "[LightGBM] [Warning] bagging_freq is set=8, subsample_freq=0 will be ignored. Current value: bagging_freq=8\n",
      "Training until validation scores don't improve for 100 rounds\n",
      "[100]\ttraining's l1: 1.86337\tvalid_1's l1: 2.26103\n",
      "[200]\ttraining's l1: 1.81865\tvalid_1's l1: 2.2428\n"
     ]
    },
    {
     "name": "stderr",
     "output_type": "stream",
     "text": [
      "\u001b[32m[I 2021-07-04 20:49:06,630]\u001b[0m Trial 82 finished with value: -2.237411547355577 and parameters: {'max_depth': 13, 'min_child_weight': 17, 'subsample': 0.9, 'colsample_bytree': 0.8, 'reg_lambda': 32.75395642407502, 'reg_alpha': 0.010321616334187527, 'feature_fraction': 0.7204364794462783, 'bagging_fraction': 0.5944601494733014, 'bagging_freq': 8}. Best is trial 33 with value: -2.2082951580422074.\u001b[0m\n"
     ]
    },
    {
     "name": "stdout",
     "output_type": "stream",
     "text": [
      "[300]\ttraining's l1: 1.79856\tvalid_1's l1: 2.24427\n",
      "Early stopping, best iteration is:\n",
      "[208]\ttraining's l1: 1.81445\tvalid_1's l1: 2.23741\n",
      "[LightGBM] [Warning] feature_fraction is set=0.652911672212933, colsample_bytree=0.8 will be ignored. Current value: feature_fraction=0.652911672212933\n",
      "[LightGBM] [Warning] bagging_fraction is set=0.6348027356074619, subsample=0.9 will be ignored. Current value: bagging_fraction=0.6348027356074619\n",
      "[LightGBM] [Warning] bagging_freq is set=10, subsample_freq=0 will be ignored. Current value: bagging_freq=10\n",
      "Training until validation scores don't improve for 100 rounds\n",
      "[100]\ttraining's l1: 1.8795\tvalid_1's l1: 2.27692\n"
     ]
    },
    {
     "name": "stderr",
     "output_type": "stream",
     "text": [
      "\u001b[32m[I 2021-07-04 20:49:10,285]\u001b[0m Trial 83 finished with value: -2.2640713341103536 and parameters: {'max_depth': 15, 'min_child_weight': 15, 'subsample': 0.9, 'colsample_bytree': 0.8, 'reg_lambda': 11.804483822877815, 'reg_alpha': 0.005367203432063097, 'feature_fraction': 0.652911672212933, 'bagging_fraction': 0.6348027356074619, 'bagging_freq': 10}. Best is trial 33 with value: -2.2082951580422074.\u001b[0m\n"
     ]
    },
    {
     "name": "stdout",
     "output_type": "stream",
     "text": [
      "Early stopping, best iteration is:\n",
      "[32]\ttraining's l1: 1.95067\tvalid_1's l1: 2.26407\n",
      "[LightGBM] [Warning] feature_fraction is set=0.741546513549332, colsample_bytree=0.8 will be ignored. Current value: feature_fraction=0.741546513549332\n",
      "[LightGBM] [Warning] bagging_fraction is set=0.699956037448359, subsample=0.9 will be ignored. Current value: bagging_fraction=0.699956037448359\n",
      "[LightGBM] [Warning] bagging_freq is set=9, subsample_freq=0 will be ignored. Current value: bagging_freq=9\n",
      "Training until validation scores don't improve for 100 rounds\n",
      "[100]\ttraining's l1: 1.87293\tvalid_1's l1: 2.28109\n",
      "[200]\ttraining's l1: 1.82269\tvalid_1's l1: 2.24483\n"
     ]
    },
    {
     "name": "stderr",
     "output_type": "stream",
     "text": [
      "\u001b[32m[I 2021-07-04 20:49:16,726]\u001b[0m Trial 84 finished with value: -2.2405708829848887 and parameters: {'max_depth': 14, 'min_child_weight': 18, 'subsample': 0.9, 'colsample_bytree': 0.8, 'reg_lambda': 22.64518155343945, 'reg_alpha': 0.6058155206565459, 'feature_fraction': 0.741546513549332, 'bagging_fraction': 0.699956037448359, 'bagging_freq': 9}. Best is trial 33 with value: -2.2082951580422074.\u001b[0m\n"
     ]
    },
    {
     "name": "stdout",
     "output_type": "stream",
     "text": [
      "Early stopping, best iteration is:\n",
      "[167]\ttraining's l1: 1.8283\tvalid_1's l1: 2.24058\n",
      "[LightGBM] [Warning] feature_fraction is set=0.4965800050991921, colsample_bytree=0.8 will be ignored. Current value: feature_fraction=0.4965800050991921\n",
      "[LightGBM] [Warning] bagging_fraction is set=0.6463727488016522, subsample=0.9 will be ignored. Current value: bagging_fraction=0.6463727488016522\n",
      "[LightGBM] [Warning] bagging_freq is set=7, subsample_freq=0 will be ignored. Current value: bagging_freq=7\n",
      "Training until validation scores don't improve for 100 rounds\n",
      "[100]\ttraining's l1: 1.8833\tvalid_1's l1: 2.26591\n",
      "[200]\ttraining's l1: 1.82405\tvalid_1's l1: 2.23241\n"
     ]
    },
    {
     "name": "stderr",
     "output_type": "stream",
     "text": [
      "\u001b[32m[I 2021-07-04 20:49:23,755]\u001b[0m Trial 85 finished with value: -2.230820758808722 and parameters: {'max_depth': 19, 'min_child_weight': 13, 'subsample': 0.9, 'colsample_bytree': 0.8, 'reg_lambda': 115.25159045080096, 'reg_alpha': 0.0013967737853768252, 'feature_fraction': 0.4965800050991921, 'bagging_fraction': 0.6463727488016522, 'bagging_freq': 7}. Best is trial 33 with value: -2.2082951580422074.\u001b[0m\n"
     ]
    },
    {
     "name": "stdout",
     "output_type": "stream",
     "text": [
      "Early stopping, best iteration is:\n",
      "[182]\ttraining's l1: 1.8301\tvalid_1's l1: 2.23105\n",
      "[LightGBM] [Warning] feature_fraction is set=0.7044926980815418, colsample_bytree=0.8 will be ignored. Current value: feature_fraction=0.7044926980815418\n",
      "[LightGBM] [Warning] bagging_fraction is set=0.580040069671217, subsample=0.7 will be ignored. Current value: bagging_fraction=0.580040069671217\n",
      "[LightGBM] [Warning] bagging_freq is set=8, subsample_freq=0 will be ignored. Current value: bagging_freq=8\n",
      "Training until validation scores don't improve for 100 rounds\n",
      "[100]\ttraining's l1: 1.86151\tvalid_1's l1: 2.24989\n",
      "[200]\ttraining's l1: 1.82417\tvalid_1's l1: 2.24665\n"
     ]
    },
    {
     "name": "stderr",
     "output_type": "stream",
     "text": [
      "\u001b[32m[I 2021-07-04 20:49:29,019]\u001b[0m Trial 86 finished with value: -2.2363284307574975 and parameters: {'max_depth': 12, 'min_child_weight': 7, 'subsample': 0.7, 'colsample_bytree': 0.8, 'reg_lambda': 6.207003231692169, 'reg_alpha': 0.0021591951386025405, 'feature_fraction': 0.7044926980815418, 'bagging_fraction': 0.580040069671217, 'bagging_freq': 8}. Best is trial 33 with value: -2.2082951580422074.\u001b[0m\n"
     ]
    },
    {
     "name": "stdout",
     "output_type": "stream",
     "text": [
      "Early stopping, best iteration is:\n",
      "[125]\ttraining's l1: 1.84379\tvalid_1's l1: 2.23633\n",
      "[LightGBM] [Warning] feature_fraction is set=0.7689562186869938, colsample_bytree=0.8 will be ignored. Current value: feature_fraction=0.7689562186869938\n",
      "[LightGBM] [Warning] bagging_fraction is set=0.6689711308122329, subsample=0.9 will be ignored. Current value: bagging_fraction=0.6689711308122329\n",
      "[LightGBM] [Warning] bagging_freq is set=4, subsample_freq=0 will be ignored. Current value: bagging_freq=4\n",
      "Training until validation scores don't improve for 100 rounds\n",
      "[100]\ttraining's l1: 1.88078\tvalid_1's l1: 2.27651\n",
      "[200]\ttraining's l1: 1.82113\tvalid_1's l1: 2.24118\n",
      "[300]\ttraining's l1: 1.79768\tvalid_1's l1: 2.23706\n"
     ]
    },
    {
     "name": "stderr",
     "output_type": "stream",
     "text": [
      "\u001b[32m[I 2021-07-04 20:49:37,121]\u001b[0m Trial 87 finished with value: -2.2278719311438304 and parameters: {'max_depth': 20, 'min_child_weight': 16, 'subsample': 0.9, 'colsample_bytree': 0.8, 'reg_lambda': 1.195628996664263, 'reg_alpha': 0.02904485610900391, 'feature_fraction': 0.7689562186869938, 'bagging_fraction': 0.6689711308122329, 'bagging_freq': 4}. Best is trial 33 with value: -2.2082951580422074.\u001b[0m\n"
     ]
    },
    {
     "name": "stdout",
     "output_type": "stream",
     "text": [
      "Early stopping, best iteration is:\n",
      "[219]\ttraining's l1: 1.81188\tvalid_1's l1: 2.22862\n",
      "[LightGBM] [Warning] feature_fraction is set=0.7853866522815897, colsample_bytree=0.8 will be ignored. Current value: feature_fraction=0.7853866522815897\n",
      "[LightGBM] [Warning] bagging_fraction is set=0.6708606020301786, subsample=0.8 will be ignored. Current value: bagging_fraction=0.6708606020301786\n",
      "[LightGBM] [Warning] bagging_freq is set=4, subsample_freq=0 will be ignored. Current value: bagging_freq=4\n",
      "Training until validation scores don't improve for 100 rounds\n",
      "[100]\ttraining's l1: 1.87726\tvalid_1's l1: 2.27607\n",
      "[200]\ttraining's l1: 1.82385\tvalid_1's l1: 2.25229\n"
     ]
    },
    {
     "name": "stderr",
     "output_type": "stream",
     "text": [
      "\u001b[32m[I 2021-07-04 20:49:44,686]\u001b[0m Trial 88 finished with value: -2.2499317085431008 and parameters: {'max_depth': 20, 'min_child_weight': 17, 'subsample': 0.8, 'colsample_bytree': 0.8, 'reg_lambda': 1.340022671172712, 'reg_alpha': 0.07820612679272934, 'feature_fraction': 0.7853866522815897, 'bagging_fraction': 0.6708606020301786, 'bagging_freq': 4}. Best is trial 33 with value: -2.2082951580422074.\u001b[0m\n"
     ]
    },
    {
     "name": "stdout",
     "output_type": "stream",
     "text": [
      "Early stopping, best iteration is:\n",
      "[192]\ttraining's l1: 1.82597\tvalid_1's l1: 2.25027\n",
      "[LightGBM] [Warning] feature_fraction is set=0.7573122284159479, colsample_bytree=0.7 will be ignored. Current value: feature_fraction=0.7573122284159479\n",
      "[LightGBM] [Warning] bagging_fraction is set=0.7102970520560011, subsample=0.9 will be ignored. Current value: bagging_fraction=0.7102970520560011\n",
      "[LightGBM] [Warning] bagging_freq is set=5, subsample_freq=0 will be ignored. Current value: bagging_freq=5\n",
      "Training until validation scores don't improve for 100 rounds\n",
      "[100]\ttraining's l1: 1.87291\tvalid_1's l1: 2.25294\n"
     ]
    },
    {
     "name": "stderr",
     "output_type": "stream",
     "text": [
      "\u001b[32m[I 2021-07-04 20:49:50,378]\u001b[0m Trial 89 finished with value: -2.2479510357539603 and parameters: {'max_depth': 19, 'min_child_weight': 16, 'subsample': 0.9, 'colsample_bytree': 0.7, 'reg_lambda': 1.0078357414328092, 'reg_alpha': 0.04883099593409841, 'feature_fraction': 0.7573122284159479, 'bagging_fraction': 0.7102970520560011, 'bagging_freq': 5}. Best is trial 33 with value: -2.2082951580422074.\u001b[0m\n"
     ]
    },
    {
     "name": "stdout",
     "output_type": "stream",
     "text": [
      "[200]\ttraining's l1: 1.82995\tvalid_1's l1: 2.26657\n",
      "Early stopping, best iteration is:\n",
      "[104]\ttraining's l1: 1.86863\tvalid_1's l1: 2.24795\n",
      "[LightGBM] [Warning] feature_fraction is set=0.6437466250113973, colsample_bytree=0.9 will be ignored. Current value: feature_fraction=0.6437466250113973\n",
      "[LightGBM] [Warning] bagging_fraction is set=0.7466722680628887, subsample=0.9 will be ignored. Current value: bagging_fraction=0.7466722680628887\n",
      "[LightGBM] [Warning] bagging_freq is set=3, subsample_freq=0 will be ignored. Current value: bagging_freq=3\n",
      "Training until validation scores don't improve for 100 rounds\n",
      "[100]\ttraining's l1: 1.87701\tvalid_1's l1: 2.26987\n",
      "[200]\ttraining's l1: 1.83936\tvalid_1's l1: 2.2796\n"
     ]
    },
    {
     "name": "stderr",
     "output_type": "stream",
     "text": [
      "\u001b[32m[I 2021-07-04 20:49:57,031]\u001b[0m Trial 90 finished with value: -2.2680538239187915 and parameters: {'max_depth': 20, 'min_child_weight': 14, 'subsample': 0.9, 'colsample_bytree': 0.9, 'reg_lambda': 0.5635659644211831, 'reg_alpha': 0.026549093683780063, 'feature_fraction': 0.6437466250113973, 'bagging_fraction': 0.7466722680628887, 'bagging_freq': 3}. Best is trial 33 with value: -2.2082951580422074.\u001b[0m\n"
     ]
    },
    {
     "name": "stdout",
     "output_type": "stream",
     "text": [
      "Early stopping, best iteration is:\n",
      "[108]\ttraining's l1: 1.87225\tvalid_1's l1: 2.26807\n",
      "[LightGBM] [Warning] feature_fraction is set=0.7253918186717461, colsample_bytree=0.8 will be ignored. Current value: feature_fraction=0.7253918186717461\n",
      "[LightGBM] [Warning] bagging_fraction is set=0.6568922955936612, subsample=0.9 will be ignored. Current value: bagging_fraction=0.6568922955936612\n",
      "[LightGBM] [Warning] bagging_freq is set=4, subsample_freq=0 will be ignored. Current value: bagging_freq=4\n",
      "Training until validation scores don't improve for 100 rounds\n",
      "[100]\ttraining's l1: 1.87965\tvalid_1's l1: 2.27181\n"
     ]
    },
    {
     "name": "stderr",
     "output_type": "stream",
     "text": [
      "\u001b[32m[I 2021-07-04 20:50:02,644]\u001b[0m Trial 91 finished with value: -2.2647254938753765 and parameters: {'max_depth': 18, 'min_child_weight': 16, 'subsample': 0.9, 'colsample_bytree': 0.8, 'reg_lambda': 3.074027568998517, 'reg_alpha': 0.017975998419346134, 'feature_fraction': 0.7253918186717461, 'bagging_fraction': 0.6568922955936612, 'bagging_freq': 4}. Best is trial 33 with value: -2.2082951580422074.\u001b[0m\n"
     ]
    },
    {
     "name": "stdout",
     "output_type": "stream",
     "text": [
      "[200]\ttraining's l1: 1.83399\tvalid_1's l1: 2.27758\n",
      "Early stopping, best iteration is:\n",
      "[101]\ttraining's l1: 1.87577\tvalid_1's l1: 2.26473\n",
      "[LightGBM] [Warning] feature_fraction is set=0.6664258950721528, colsample_bytree=0.8 will be ignored. Current value: feature_fraction=0.6664258950721528\n",
      "[LightGBM] [Warning] bagging_fraction is set=0.6857134421400218, subsample=0.9 will be ignored. Current value: bagging_fraction=0.6857134421400218\n",
      "[LightGBM] [Warning] bagging_freq is set=3, subsample_freq=0 will be ignored. Current value: bagging_freq=3\n",
      "Training until validation scores don't improve for 100 rounds\n",
      "[100]\ttraining's l1: 1.86274\tvalid_1's l1: 2.26243\n",
      "[200]\ttraining's l1: 1.82146\tvalid_1's l1: 2.24614\n"
     ]
    },
    {
     "name": "stderr",
     "output_type": "stream",
     "text": [
      "\u001b[32m[I 2021-07-04 20:50:10,738]\u001b[0m Trial 92 finished with value: -2.2437566750701188 and parameters: {'max_depth': 16, 'min_child_weight': 15, 'subsample': 0.9, 'colsample_bytree': 0.8, 'reg_lambda': 60.92077803568076, 'reg_alpha': 0.009213512159044313, 'feature_fraction': 0.6664258950721528, 'bagging_fraction': 0.6857134421400218, 'bagging_freq': 3}. Best is trial 33 with value: -2.2082951580422074.\u001b[0m\n"
     ]
    },
    {
     "name": "stdout",
     "output_type": "stream",
     "text": [
      "Early stopping, best iteration is:\n",
      "[181]\ttraining's l1: 1.82554\tvalid_1's l1: 2.24382\n",
      "[LightGBM] [Warning] feature_fraction is set=0.7687624995220215, colsample_bytree=0.8 will be ignored. Current value: feature_fraction=0.7687624995220215\n",
      "[LightGBM] [Warning] bagging_fraction is set=0.9452127007338925, subsample=0.9 will be ignored. Current value: bagging_fraction=0.9452127007338925\n",
      "[LightGBM] [Warning] bagging_freq is set=4, subsample_freq=0 will be ignored. Current value: bagging_freq=4\n",
      "Training until validation scores don't improve for 100 rounds\n",
      "[100]\ttraining's l1: 1.87821\tvalid_1's l1: 2.27813\n",
      "[200]\ttraining's l1: 1.81761\tvalid_1's l1: 2.24714\n"
     ]
    },
    {
     "name": "stderr",
     "output_type": "stream",
     "text": [
      "\u001b[32m[I 2021-07-04 20:50:18,742]\u001b[0m Trial 93 finished with value: -2.239969883492547 and parameters: {'max_depth': 17, 'min_child_weight': 13, 'subsample': 0.9, 'colsample_bytree': 0.8, 'reg_lambda': 18.308291271062792, 'reg_alpha': 0.03591003314388559, 'feature_fraction': 0.7687624995220215, 'bagging_fraction': 0.9452127007338925, 'bagging_freq': 4}. Best is trial 33 with value: -2.2082951580422074.\u001b[0m\n"
     ]
    },
    {
     "name": "stdout",
     "output_type": "stream",
     "text": [
      "Early stopping, best iteration is:\n",
      "[144]\ttraining's l1: 1.83255\tvalid_1's l1: 2.2403\n",
      "[LightGBM] [Warning] feature_fraction is set=0.8191482515977335, colsample_bytree=0.5 will be ignored. Current value: feature_fraction=0.8191482515977335\n",
      "[LightGBM] [Warning] bagging_fraction is set=0.6051028452793531, subsample=0.9 will be ignored. Current value: bagging_fraction=0.6051028452793531\n",
      "[LightGBM] [Warning] bagging_freq is set=10, subsample_freq=0 will be ignored. Current value: bagging_freq=10\n",
      "Training until validation scores don't improve for 100 rounds\n",
      "[100]\ttraining's l1: 1.93491\tvalid_1's l1: 2.29896\n",
      "[200]\ttraining's l1: 1.89713\tvalid_1's l1: 2.28278\n"
     ]
    },
    {
     "name": "stderr",
     "output_type": "stream",
     "text": [
      "\u001b[32m[I 2021-07-04 20:50:24,094]\u001b[0m Trial 94 finished with value: -2.282384011499891 and parameters: {'max_depth': 4, 'min_child_weight': 18, 'subsample': 0.9, 'colsample_bytree': 0.5, 'reg_lambda': 2.1782230734602055, 'reg_alpha': 0.0035676849408295447, 'feature_fraction': 0.8191482515977335, 'bagging_fraction': 0.6051028452793531, 'bagging_freq': 10}. Best is trial 33 with value: -2.2082951580422074.\u001b[0m\n"
     ]
    },
    {
     "name": "stdout",
     "output_type": "stream",
     "text": [
      "Early stopping, best iteration is:\n",
      "[196]\ttraining's l1: 1.89775\tvalid_1's l1: 2.28253\n",
      "[LightGBM] [Warning] feature_fraction is set=0.7434325014932669, colsample_bytree=0.8 will be ignored. Current value: feature_fraction=0.7434325014932669\n",
      "[LightGBM] [Warning] bagging_fraction is set=0.7229677828550578, subsample=0.9 will be ignored. Current value: bagging_fraction=0.7229677828550578\n",
      "[LightGBM] [Warning] bagging_freq is set=5, subsample_freq=0 will be ignored. Current value: bagging_freq=5\n",
      "Training until validation scores don't improve for 100 rounds\n",
      "[100]\ttraining's l1: 1.87607\tvalid_1's l1: 2.27799\n",
      "[200]\ttraining's l1: 1.81872\tvalid_1's l1: 2.23696\n",
      "[300]\ttraining's l1: 1.79985\tvalid_1's l1: 2.2468\n"
     ]
    },
    {
     "name": "stderr",
     "output_type": "stream",
     "text": [
      "\u001b[32m[I 2021-07-04 20:50:32,039]\u001b[0m Trial 95 finished with value: -2.2347644952111305 and parameters: {'max_depth': 15, 'min_child_weight': 15, 'subsample': 0.9, 'colsample_bytree': 0.8, 'reg_lambda': 4.835706187311317, 'reg_alpha': 0.005893421829652624, 'feature_fraction': 0.7434325014932669, 'bagging_fraction': 0.7229677828550578, 'bagging_freq': 5}. Best is trial 33 with value: -2.2082951580422074.\u001b[0m\n"
     ]
    },
    {
     "name": "stdout",
     "output_type": "stream",
     "text": [
      "Early stopping, best iteration is:\n",
      "[211]\ttraining's l1: 1.81417\tvalid_1's l1: 2.2354\n",
      "[LightGBM] [Warning] feature_fraction is set=0.6918684297854041, colsample_bytree=0.8 will be ignored. Current value: feature_fraction=0.6918684297854041\n",
      "[LightGBM] [Warning] bagging_fraction is set=0.6240229524997323, subsample=0.9 will be ignored. Current value: bagging_fraction=0.6240229524997323\n",
      "[LightGBM] [Warning] bagging_freq is set=9, subsample_freq=0 will be ignored. Current value: bagging_freq=9\n",
      "Training until validation scores don't improve for 100 rounds\n",
      "[100]\ttraining's l1: 1.87581\tvalid_1's l1: 2.27842\n"
     ]
    },
    {
     "name": "stderr",
     "output_type": "stream",
     "text": [
      "\u001b[32m[I 2021-07-04 20:50:36,212]\u001b[0m Trial 96 finished with value: -2.2718614333059906 and parameters: {'max_depth': 20, 'min_child_weight': 14, 'subsample': 0.9, 'colsample_bytree': 0.8, 'reg_lambda': 0.6151174831136303, 'reg_alpha': 57.83036405586398, 'feature_fraction': 0.6918684297854041, 'bagging_fraction': 0.6240229524997323, 'bagging_freq': 9}. Best is trial 33 with value: -2.2082951580422074.\u001b[0m\n"
     ]
    },
    {
     "name": "stdout",
     "output_type": "stream",
     "text": [
      "Early stopping, best iteration is:\n",
      "[48]\ttraining's l1: 1.92244\tvalid_1's l1: 2.27186\n",
      "[LightGBM] [Warning] feature_fraction is set=0.7085649425502709, colsample_bytree=0.6 will be ignored. Current value: feature_fraction=0.7085649425502709\n",
      "[LightGBM] [Warning] bagging_fraction is set=0.5886829252937666, subsample=0.7 will be ignored. Current value: bagging_fraction=0.5886829252937666\n",
      "[LightGBM] [Warning] bagging_freq is set=4, subsample_freq=0 will be ignored. Current value: bagging_freq=4\n",
      "Training until validation scores don't improve for 100 rounds\n",
      "[100]\ttraining's l1: 1.88233\tvalid_1's l1: 2.28818\n"
     ]
    },
    {
     "name": "stderr",
     "output_type": "stream",
     "text": [
      "\u001b[32m[I 2021-07-04 20:50:40,043]\u001b[0m Trial 97 finished with value: -2.2752675310473065 and parameters: {'max_depth': 19, 'min_child_weight': 12, 'subsample': 0.7, 'colsample_bytree': 0.6, 'reg_lambda': 9.281423825172485, 'reg_alpha': 0.0010614540339564731, 'feature_fraction': 0.7085649425502709, 'bagging_fraction': 0.5886829252937666, 'bagging_freq': 4}. Best is trial 33 with value: -2.2082951580422074.\u001b[0m\n"
     ]
    },
    {
     "name": "stdout",
     "output_type": "stream",
     "text": [
      "Early stopping, best iteration is:\n",
      "[29]\ttraining's l1: 1.95607\tvalid_1's l1: 2.27527\n",
      "[LightGBM] [Warning] feature_fraction is set=0.8535915628209167, colsample_bytree=0.8 will be ignored. Current value: feature_fraction=0.8535915628209167\n",
      "[LightGBM] [Warning] bagging_fraction is set=0.48150357416643935, subsample=0.8 will be ignored. Current value: bagging_fraction=0.48150357416643935\n",
      "[LightGBM] [Warning] bagging_freq is set=6, subsample_freq=0 will be ignored. Current value: bagging_freq=6\n",
      "Training until validation scores don't improve for 100 rounds\n",
      "[100]\ttraining's l1: 1.87002\tvalid_1's l1: 2.27371\n"
     ]
    },
    {
     "name": "stderr",
     "output_type": "stream",
     "text": [
      "\u001b[32m[I 2021-07-04 20:50:44,163]\u001b[0m Trial 98 finished with value: -2.267598534430482 and parameters: {'max_depth': 14, 'min_child_weight': 19, 'subsample': 0.8, 'colsample_bytree': 0.8, 'reg_lambda': 6.912791065894006, 'reg_alpha': 0.015957123015080288, 'feature_fraction': 0.8535915628209167, 'bagging_fraction': 0.48150357416643935, 'bagging_freq': 6}. Best is trial 33 with value: -2.2082951580422074.\u001b[0m\n"
     ]
    },
    {
     "name": "stdout",
     "output_type": "stream",
     "text": [
      "Early stopping, best iteration is:\n",
      "[74]\ttraining's l1: 1.88833\tvalid_1's l1: 2.2676\n",
      "[LightGBM] [Warning] feature_fraction is set=0.4100406535770555, colsample_bytree=0.8 will be ignored. Current value: feature_fraction=0.4100406535770555\n",
      "[LightGBM] [Warning] bagging_fraction is set=0.5486340597291377, subsample=0.9 will be ignored. Current value: bagging_fraction=0.5486340597291377\n",
      "[LightGBM] [Warning] bagging_freq is set=5, subsample_freq=0 will be ignored. Current value: bagging_freq=5\n",
      "Training until validation scores don't improve for 100 rounds\n",
      "[100]\ttraining's l1: 1.89331\tvalid_1's l1: 2.27161\n",
      "[200]\ttraining's l1: 1.83736\tvalid_1's l1: 2.26885\n"
     ]
    },
    {
     "name": "stderr",
     "output_type": "stream",
     "text": [
      "\u001b[32m[I 2021-07-04 20:50:50,032]\u001b[0m Trial 99 finished with value: -2.263734630909121 and parameters: {'max_depth': 18, 'min_child_weight': 13, 'subsample': 0.9, 'colsample_bytree': 0.8, 'reg_lambda': 25.4582378256741, 'reg_alpha': 0.0026449365908337097, 'feature_fraction': 0.4100406535770555, 'bagging_fraction': 0.5486340597291377, 'bagging_freq': 5}. Best is trial 33 with value: -2.2082951580422074.\u001b[0m\n"
     ]
    },
    {
     "name": "stdout",
     "output_type": "stream",
     "text": [
      "Early stopping, best iteration is:\n",
      "[158]\ttraining's l1: 1.85929\tvalid_1's l1: 2.26378\n",
      "Number of finished trials: 100\n",
      "Best trial: {'max_depth': 15, 'min_child_weight': 19, 'subsample': 0.9, 'colsample_bytree': 0.8, 'reg_lambda': 4.729224134672289, 'reg_alpha': 0.002311080653496518, 'feature_fraction': 0.6783424735754746, 'bagging_fraction': 0.6386317829802372, 'bagging_freq': 10}\n"
     ]
    }
   ],
   "source": [
    "study2 = optuna.create_study(direction='maximize')\n",
    "study2.optimize(fit_lgbm(x_train[feature_cols2], y_train['target2'], x_valid[feature_cols2], y_valid['target2']), n_trials=100)\n",
    "\n",
    "print('Number of finished trials:', len(study2.trials))\n",
    "print('Best trial:', study2.best_trial.params)"
   ]
  },
  {
   "cell_type": "code",
   "execution_count": 41,
   "id": "3495e4fa",
   "metadata": {},
   "outputs": [
    {
     "name": "stderr",
     "output_type": "stream",
     "text": [
      "\u001b[32m[I 2021-07-04 20:50:50,059]\u001b[0m A new study created in memory with name: no-name-7469c081-99b1-4434-8173-030943691d8f\u001b[0m\n"
     ]
    },
    {
     "name": "stdout",
     "output_type": "stream",
     "text": [
      "[LightGBM] [Warning] feature_fraction is set=0.5751387471495786, colsample_bytree=0.7 will be ignored. Current value: feature_fraction=0.5751387471495786\n",
      "[LightGBM] [Warning] bagging_fraction is set=0.7294326105551103, subsample=0.5 will be ignored. Current value: bagging_fraction=0.7294326105551103\n",
      "[LightGBM] [Warning] bagging_freq is set=4, subsample_freq=0 will be ignored. Current value: bagging_freq=4\n",
      "Training until validation scores don't improve for 100 rounds\n",
      "[100]\ttraining's l1: 1.03698\tvalid_1's l1: 0.945818\n",
      "[200]\ttraining's l1: 1.03607\tvalid_1's l1: 0.945108\n",
      "[300]\ttraining's l1: 1.03601\tvalid_1's l1: 0.945084\n",
      "[400]\ttraining's l1: 1.03515\tvalid_1's l1: 0.944408\n",
      "[500]\ttraining's l1: 1.03376\tvalid_1's l1: 0.942817\n"
     ]
    },
    {
     "name": "stderr",
     "output_type": "stream",
     "text": [
      "\u001b[32m[I 2021-07-04 20:51:06,644]\u001b[0m Trial 0 finished with value: -0.942788102015199 and parameters: {'max_depth': 18, 'min_child_weight': 2, 'subsample': 0.5, 'colsample_bytree': 0.7, 'reg_lambda': 1.1735697061552266, 'reg_alpha': 1.9467970026924564, 'feature_fraction': 0.5751387471495786, 'bagging_fraction': 0.7294326105551103, 'bagging_freq': 4}. Best is trial 0 with value: -0.942788102015199.\u001b[0m\n"
     ]
    },
    {
     "name": "stdout",
     "output_type": "stream",
     "text": [
      "Early stopping, best iteration is:\n",
      "[480]\ttraining's l1: 1.03382\tvalid_1's l1: 0.942792\n",
      "[LightGBM] [Warning] feature_fraction is set=0.6681471806816708, colsample_bytree=0.6 will be ignored. Current value: feature_fraction=0.6681471806816708\n",
      "[LightGBM] [Warning] bagging_fraction is set=0.9661453955238708, subsample=0.5 will be ignored. Current value: bagging_fraction=0.9661453955238708\n",
      "[LightGBM] [Warning] bagging_freq is set=5, subsample_freq=0 will be ignored. Current value: bagging_freq=5\n",
      "Training until validation scores don't improve for 100 rounds\n",
      "[100]\ttraining's l1: 1.05883\tvalid_1's l1: 0.970625\n",
      "[200]\ttraining's l1: 1.05846\tvalid_1's l1: 0.970116\n"
     ]
    },
    {
     "name": "stderr",
     "output_type": "stream",
     "text": [
      "\u001b[32m[I 2021-07-04 20:51:11,764]\u001b[0m Trial 1 finished with value: -0.9701079321759055 and parameters: {'max_depth': 1, 'min_child_weight': 15, 'subsample': 0.5, 'colsample_bytree': 0.6, 'reg_lambda': 0.44329986875573874, 'reg_alpha': 0.42810044342748416, 'feature_fraction': 0.6681471806816708, 'bagging_fraction': 0.9661453955238708, 'bagging_freq': 5}. Best is trial 0 with value: -0.942788102015199.\u001b[0m\n"
     ]
    },
    {
     "name": "stdout",
     "output_type": "stream",
     "text": [
      "Early stopping, best iteration is:\n",
      "[136]\ttraining's l1: 1.05846\tvalid_1's l1: 0.970108\n",
      "[LightGBM] [Warning] feature_fraction is set=0.7837556263242385, colsample_bytree=0.7 will be ignored. Current value: feature_fraction=0.7837556263242385\n",
      "[LightGBM] [Warning] bagging_fraction is set=0.7606942119982292, subsample=0.6 will be ignored. Current value: bagging_fraction=0.7606942119982292\n",
      "[LightGBM] [Warning] bagging_freq is set=4, subsample_freq=0 will be ignored. Current value: bagging_freq=4\n",
      "Training until validation scores don't improve for 100 rounds\n",
      "[100]\ttraining's l1: 1.02768\tvalid_1's l1: 0.937052\n",
      "[200]\ttraining's l1: 1.02539\tvalid_1's l1: 0.935196\n"
     ]
    },
    {
     "name": "stderr",
     "output_type": "stream",
     "text": [
      "\u001b[32m[I 2021-07-04 20:51:18,168]\u001b[0m Trial 2 finished with value: -0.9349042739235619 and parameters: {'max_depth': 6, 'min_child_weight': 3, 'subsample': 0.6, 'colsample_bytree': 0.7, 'reg_lambda': 0.001953825082704285, 'reg_alpha': 0.38217201526064737, 'feature_fraction': 0.7837556263242385, 'bagging_fraction': 0.7606942119982292, 'bagging_freq': 4}. Best is trial 2 with value: -0.9349042739235619.\u001b[0m\n"
     ]
    },
    {
     "name": "stdout",
     "output_type": "stream",
     "text": [
      "Early stopping, best iteration is:\n",
      "[131]\ttraining's l1: 1.02565\tvalid_1's l1: 0.934907\n",
      "[LightGBM] [Warning] feature_fraction is set=0.7323664876698095, colsample_bytree=0.8 will be ignored. Current value: feature_fraction=0.7323664876698095\n",
      "[LightGBM] [Warning] bagging_fraction is set=0.8575974628615739, subsample=0.6 will be ignored. Current value: bagging_fraction=0.8575974628615739\n",
      "[LightGBM] [Warning] bagging_freq is set=1, subsample_freq=0 will be ignored. Current value: bagging_freq=1\n",
      "Training until validation scores don't improve for 100 rounds\n",
      "[100]\ttraining's l1: 1.03518\tvalid_1's l1: 0.94532\n",
      "[200]\ttraining's l1: 1.03508\tvalid_1's l1: 0.945159\n",
      "[300]\ttraining's l1: 1.03507\tvalid_1's l1: 0.945156\n",
      "[400]\ttraining's l1: 1.03507\tvalid_1's l1: 0.945156\n"
     ]
    },
    {
     "name": "stderr",
     "output_type": "stream",
     "text": [
      "\u001b[32m[I 2021-07-04 20:51:26,936]\u001b[0m Trial 3 finished with value: -0.9451519131030878 and parameters: {'max_depth': 13, 'min_child_weight': 16, 'subsample': 0.6, 'colsample_bytree': 0.8, 'reg_lambda': 686.2658002473722, 'reg_alpha': 0.19551290495975138, 'feature_fraction': 0.7323664876698095, 'bagging_fraction': 0.8575974628615739, 'bagging_freq': 1}. Best is trial 2 with value: -0.9349042739235619.\u001b[0m\n"
     ]
    },
    {
     "name": "stdout",
     "output_type": "stream",
     "text": [
      "Early stopping, best iteration is:\n",
      "[319]\ttraining's l1: 1.03507\tvalid_1's l1: 0.945154\n",
      "[LightGBM] [Warning] feature_fraction is set=0.936733865308863, colsample_bytree=0.9 will be ignored. Current value: feature_fraction=0.936733865308863\n",
      "[LightGBM] [Warning] bagging_fraction is set=0.6638320295913476, subsample=0.8 will be ignored. Current value: bagging_fraction=0.6638320295913476\n",
      "[LightGBM] [Warning] bagging_freq is set=4, subsample_freq=0 will be ignored. Current value: bagging_freq=4\n",
      "Training until validation scores don't improve for 100 rounds\n",
      "[100]\ttraining's l1: 1.03145\tvalid_1's l1: 0.946114\n",
      "[200]\ttraining's l1: 1.02986\tvalid_1's l1: 0.944618\n",
      "[300]\ttraining's l1: 1.02865\tvalid_1's l1: 0.944129\n",
      "[400]\ttraining's l1: 1.02761\tvalid_1's l1: 0.943569\n",
      "[500]\ttraining's l1: 1.0266\tvalid_1's l1: 0.942829\n",
      "[600]\ttraining's l1: 1.02575\tvalid_1's l1: 0.942313\n",
      "[700]\ttraining's l1: 1.02513\tvalid_1's l1: 0.941764\n",
      "[800]\ttraining's l1: 1.02485\tvalid_1's l1: 0.941645\n",
      "[900]\ttraining's l1: 1.02437\tvalid_1's l1: 0.941201\n",
      "[1000]\ttraining's l1: 1.02402\tvalid_1's l1: 0.940983\n",
      "[1100]\ttraining's l1: 1.02385\tvalid_1's l1: 0.940999\n",
      "Early stopping, best iteration is:\n",
      "[1063]\ttraining's l1: 1.02393\tvalid_1's l1: 0.940938\n"
     ]
    },
    {
     "name": "stderr",
     "output_type": "stream",
     "text": [
      "\u001b[32m[I 2021-07-04 20:51:53,013]\u001b[0m Trial 4 finished with value: -0.9408321106750562 and parameters: {'max_depth': 6, 'min_child_weight': 16, 'subsample': 0.8, 'colsample_bytree': 0.9, 'reg_lambda': 0.0025470385947635485, 'reg_alpha': 481.4856115513214, 'feature_fraction': 0.936733865308863, 'bagging_fraction': 0.6638320295913476, 'bagging_freq': 4}. Best is trial 2 with value: -0.9349042739235619.\u001b[0m\n"
     ]
    },
    {
     "name": "stdout",
     "output_type": "stream",
     "text": [
      "[LightGBM] [Warning] feature_fraction is set=0.9226569780967065, colsample_bytree=0.9 will be ignored. Current value: feature_fraction=0.9226569780967065\n",
      "[LightGBM] [Warning] bagging_fraction is set=0.5061657591229995, subsample=0.8 will be ignored. Current value: bagging_fraction=0.5061657591229995\n",
      "[LightGBM] [Warning] bagging_freq is set=8, subsample_freq=0 will be ignored. Current value: bagging_freq=8\n",
      "Training until validation scores don't improve for 100 rounds\n",
      "[100]\ttraining's l1: 1.03781\tvalid_1's l1: 0.948028\n",
      "[200]\ttraining's l1: 1.03587\tvalid_1's l1: 0.94592\n",
      "[300]\ttraining's l1: 1.03513\tvalid_1's l1: 0.945067\n"
     ]
    },
    {
     "name": "stderr",
     "output_type": "stream",
     "text": [
      "\u001b[32m[I 2021-07-04 20:52:00,288]\u001b[0m Trial 5 finished with value: -0.9450079554487519 and parameters: {'max_depth': 11, 'min_child_weight': 1, 'subsample': 0.8, 'colsample_bytree': 0.9, 'reg_lambda': 0.29548396952589917, 'reg_alpha': 0.010074191736551925, 'feature_fraction': 0.9226569780967065, 'bagging_fraction': 0.5061657591229995, 'bagging_freq': 8}. Best is trial 2 with value: -0.9349042739235619.\u001b[0m\n"
     ]
    },
    {
     "name": "stdout",
     "output_type": "stream",
     "text": [
      "Early stopping, best iteration is:\n",
      "[278]\ttraining's l1: 1.03516\tvalid_1's l1: 0.945011\n",
      "[LightGBM] [Warning] feature_fraction is set=0.8985982712174763, colsample_bytree=0.7 will be ignored. Current value: feature_fraction=0.8985982712174763\n",
      "[LightGBM] [Warning] bagging_fraction is set=0.43339739068565997, subsample=0.6 will be ignored. Current value: bagging_fraction=0.43339739068565997\n",
      "[LightGBM] [Warning] bagging_freq is set=9, subsample_freq=0 will be ignored. Current value: bagging_freq=9\n",
      "Training until validation scores don't improve for 100 rounds\n",
      "[100]\ttraining's l1: 1.03429\tvalid_1's l1: 0.946281\n",
      "[200]\ttraining's l1: 1.03399\tvalid_1's l1: 0.945503\n",
      "[300]\ttraining's l1: 1.0338\tvalid_1's l1: 0.945131\n",
      "[400]\ttraining's l1: 1.03372\tvalid_1's l1: 0.944903\n",
      "[500]\ttraining's l1: 1.03365\tvalid_1's l1: 0.944664\n",
      "[600]\ttraining's l1: 1.03339\tvalid_1's l1: 0.944552\n",
      "[700]\ttraining's l1: 1.03143\tvalid_1's l1: 0.942405\n",
      "[800]\ttraining's l1: 1.03014\tvalid_1's l1: 0.941963\n",
      "[900]\ttraining's l1: 1.02873\tvalid_1's l1: 0.940557\n",
      "[1000]\ttraining's l1: 1.02792\tvalid_1's l1: 0.939961\n",
      "[1100]\ttraining's l1: 1.02773\tvalid_1's l1: 0.939948\n",
      "[1200]\ttraining's l1: 1.02658\tvalid_1's l1: 0.938915\n",
      "[1300]\ttraining's l1: 1.0257\tvalid_1's l1: 0.938441\n",
      "[1400]\ttraining's l1: 1.0242\tvalid_1's l1: 0.936339\n",
      "[1500]\ttraining's l1: 1.02256\tvalid_1's l1: 0.934095\n",
      "[1600]\ttraining's l1: 1.02179\tvalid_1's l1: 0.93327\n",
      "[1700]\ttraining's l1: 1.02115\tvalid_1's l1: 0.932948\n",
      "Early stopping, best iteration is:\n",
      "[1698]\ttraining's l1: 1.02116\tvalid_1's l1: 0.932945\n"
     ]
    },
    {
     "name": "stderr",
     "output_type": "stream",
     "text": [
      "\u001b[32m[I 2021-07-04 20:52:27,053]\u001b[0m Trial 6 finished with value: -0.9328889109987113 and parameters: {'max_depth': 8, 'min_child_weight': 13, 'subsample': 0.6, 'colsample_bytree': 0.7, 'reg_lambda': 0.03479691226189835, 'reg_alpha': 37.32154538998431, 'feature_fraction': 0.8985982712174763, 'bagging_fraction': 0.43339739068565997, 'bagging_freq': 9}. Best is trial 6 with value: -0.9328889109987113.\u001b[0m\n"
     ]
    },
    {
     "name": "stdout",
     "output_type": "stream",
     "text": [
      "[LightGBM] [Warning] feature_fraction is set=0.8139250494616959, colsample_bytree=0.8 will be ignored. Current value: feature_fraction=0.8139250494616959\n",
      "[LightGBM] [Warning] bagging_fraction is set=0.8247839783402269, subsample=0.9 will be ignored. Current value: bagging_fraction=0.8247839783402269\n",
      "[LightGBM] [Warning] bagging_freq is set=6, subsample_freq=0 will be ignored. Current value: bagging_freq=6\n",
      "Training until validation scores don't improve for 100 rounds\n",
      "[100]\ttraining's l1: 1.03806\tvalid_1's l1: 0.948353\n",
      "[200]\ttraining's l1: 1.03795\tvalid_1's l1: 0.948259\n",
      "[300]\ttraining's l1: 1.03729\tvalid_1's l1: 0.947316\n",
      "[400]\ttraining's l1: 1.03721\tvalid_1's l1: 0.947148\n",
      "[500]\ttraining's l1: 1.03691\tvalid_1's l1: 0.946746\n",
      "[600]\ttraining's l1: 1.03614\tvalid_1's l1: 0.94578\n",
      "[700]\ttraining's l1: 1.03433\tvalid_1's l1: 0.944086\n",
      "[800]\ttraining's l1: 1.03402\tvalid_1's l1: 0.943534\n",
      "[900]\ttraining's l1: 1.03277\tvalid_1's l1: 0.942685\n",
      "Early stopping, best iteration is:\n",
      "[832]\ttraining's l1: 1.03324\tvalid_1's l1: 0.942531\n"
     ]
    },
    {
     "name": "stderr",
     "output_type": "stream",
     "text": [
      "\u001b[32m[I 2021-07-04 20:52:49,694]\u001b[0m Trial 7 finished with value: -0.9425246108992605 and parameters: {'max_depth': 12, 'min_child_weight': 15, 'subsample': 0.9, 'colsample_bytree': 0.8, 'reg_lambda': 1.9266997615198582, 'reg_alpha': 0.018206269897680424, 'feature_fraction': 0.8139250494616959, 'bagging_fraction': 0.8247839783402269, 'bagging_freq': 6}. Best is trial 6 with value: -0.9328889109987113.\u001b[0m\n"
     ]
    },
    {
     "name": "stdout",
     "output_type": "stream",
     "text": [
      "[LightGBM] [Warning] feature_fraction is set=0.4387570579144276, colsample_bytree=0.8 will be ignored. Current value: feature_fraction=0.4387570579144276\n",
      "[LightGBM] [Warning] bagging_fraction is set=0.8993388928864208, subsample=0.8 will be ignored. Current value: bagging_fraction=0.8993388928864208\n",
      "[LightGBM] [Warning] bagging_freq is set=7, subsample_freq=0 will be ignored. Current value: bagging_freq=7\n",
      "Training until validation scores don't improve for 100 rounds\n",
      "[100]\ttraining's l1: 1.03695\tvalid_1's l1: 0.947329\n",
      "[200]\ttraining's l1: 1.03694\tvalid_1's l1: 0.947325\n",
      "[300]\ttraining's l1: 1.03632\tvalid_1's l1: 0.94694\n"
     ]
    },
    {
     "name": "stderr",
     "output_type": "stream",
     "text": [
      "\u001b[32m[I 2021-07-04 20:52:59,747]\u001b[0m Trial 8 finished with value: -0.9468555020420747 and parameters: {'max_depth': 9, 'min_child_weight': 4, 'subsample': 0.8, 'colsample_bytree': 0.8, 'reg_lambda': 0.6072134852585166, 'reg_alpha': 254.75762375291313, 'feature_fraction': 0.4387570579144276, 'bagging_fraction': 0.8993388928864208, 'bagging_freq': 7}. Best is trial 6 with value: -0.9328889109987113.\u001b[0m\n"
     ]
    },
    {
     "name": "stdout",
     "output_type": "stream",
     "text": [
      "Early stopping, best iteration is:\n",
      "[260]\ttraining's l1: 1.0366\tvalid_1's l1: 0.946857\n",
      "[LightGBM] [Warning] feature_fraction is set=0.8605643380084276, colsample_bytree=0.6 will be ignored. Current value: feature_fraction=0.8605643380084276\n",
      "[LightGBM] [Warning] bagging_fraction is set=0.7498796737099458, subsample=0.7 will be ignored. Current value: bagging_fraction=0.7498796737099458\n",
      "[LightGBM] [Warning] bagging_freq is set=5, subsample_freq=0 will be ignored. Current value: bagging_freq=5\n",
      "Training until validation scores don't improve for 100 rounds\n",
      "[100]\ttraining's l1: 1.0372\tvalid_1's l1: 0.946866\n",
      "[200]\ttraining's l1: 1.03695\tvalid_1's l1: 0.946519\n",
      "[300]\ttraining's l1: 1.03606\tvalid_1's l1: 0.94558\n",
      "[400]\ttraining's l1: 1.03591\tvalid_1's l1: 0.945397\n",
      "[500]\ttraining's l1: 1.03561\tvalid_1's l1: 0.945341\n",
      "[600]\ttraining's l1: 1.03414\tvalid_1's l1: 0.944305\n",
      "[700]\ttraining's l1: 1.03389\tvalid_1's l1: 0.943991\n",
      "[800]\ttraining's l1: 1.03305\tvalid_1's l1: 0.943783\n",
      "[900]\ttraining's l1: 1.03119\tvalid_1's l1: 0.941407\n",
      "[1000]\ttraining's l1: 1.02991\tvalid_1's l1: 0.939554\n",
      "[1100]\ttraining's l1: 1.02883\tvalid_1's l1: 0.938047\n",
      "[1200]\ttraining's l1: 1.02594\tvalid_1's l1: 0.936147\n",
      "[1300]\ttraining's l1: 1.02496\tvalid_1's l1: 0.935451\n",
      "[1400]\ttraining's l1: 1.0241\tvalid_1's l1: 0.935038\n",
      "Early stopping, best iteration is:\n",
      "[1311]\ttraining's l1: 1.02451\tvalid_1's l1: 0.934803\n"
     ]
    },
    {
     "name": "stderr",
     "output_type": "stream",
     "text": [
      "\u001b[32m[I 2021-07-04 20:53:32,406]\u001b[0m Trial 9 finished with value: -0.934777851901632 and parameters: {'max_depth': 15, 'min_child_weight': 11, 'subsample': 0.7, 'colsample_bytree': 0.6, 'reg_lambda': 236.37330022156056, 'reg_alpha': 0.044315263116683226, 'feature_fraction': 0.8605643380084276, 'bagging_fraction': 0.7498796737099458, 'bagging_freq': 5}. Best is trial 6 with value: -0.9328889109987113.\u001b[0m\n"
     ]
    },
    {
     "name": "stdout",
     "output_type": "stream",
     "text": [
      "[LightGBM] [Warning] feature_fraction is set=0.9952538303340559, colsample_bytree=0.5 will be ignored. Current value: feature_fraction=0.9952538303340559\n",
      "[LightGBM] [Warning] bagging_fraction is set=0.4047310197957525, subsample=0.6 will be ignored. Current value: bagging_fraction=0.4047310197957525\n",
      "[LightGBM] [Warning] bagging_freq is set=10, subsample_freq=0 will be ignored. Current value: bagging_freq=10\n",
      "Training until validation scores don't improve for 100 rounds\n",
      "[100]\ttraining's l1: 1.04411\tvalid_1's l1: 0.951552\n",
      "[200]\ttraining's l1: 1.04091\tvalid_1's l1: 0.948633\n",
      "[300]\ttraining's l1: 1.03982\tvalid_1's l1: 0.947456\n",
      "[400]\ttraining's l1: 1.03925\tvalid_1's l1: 0.946962\n"
     ]
    },
    {
     "name": "stderr",
     "output_type": "stream",
     "text": [
      "\u001b[32m[I 2021-07-04 20:53:37,569]\u001b[0m Trial 10 finished with value: -0.9468431022355919 and parameters: {'max_depth': 2, 'min_child_weight': 20, 'subsample': 0.6, 'colsample_bytree': 0.5, 'reg_lambda': 0.01783311638873554, 'reg_alpha': 11.043507418677388, 'feature_fraction': 0.9952538303340559, 'bagging_fraction': 0.4047310197957525, 'bagging_freq': 10}. Best is trial 6 with value: -0.9328889109987113.\u001b[0m\n"
     ]
    },
    {
     "name": "stdout",
     "output_type": "stream",
     "text": [
      "Early stopping, best iteration is:\n",
      "[347]\ttraining's l1: 1.03928\tvalid_1's l1: 0.946853\n",
      "[LightGBM] [Warning] feature_fraction is set=0.8545892469804695, colsample_bytree=0.5 will be ignored. Current value: feature_fraction=0.8545892469804695\n",
      "[LightGBM] [Warning] bagging_fraction is set=0.6021930075149144, subsample=0.7 will be ignored. Current value: bagging_fraction=0.6021930075149144\n",
      "[LightGBM] [Warning] bagging_freq is set=10, subsample_freq=0 will be ignored. Current value: bagging_freq=10\n",
      "Training until validation scores don't improve for 100 rounds\n",
      "[100]\ttraining's l1: 1.03589\tvalid_1's l1: 0.946939\n",
      "[200]\ttraining's l1: 1.03555\tvalid_1's l1: 0.946295\n",
      "[300]\ttraining's l1: 1.0352\tvalid_1's l1: 0.945166\n",
      "[400]\ttraining's l1: 1.03519\tvalid_1's l1: 0.945157\n",
      "[500]\ttraining's l1: 1.03516\tvalid_1's l1: 0.945027\n",
      "Early stopping, best iteration is:\n",
      "[409]\ttraining's l1: 1.03516\tvalid_1's l1: 0.945023\n"
     ]
    },
    {
     "name": "stderr",
     "output_type": "stream",
     "text": [
      "\u001b[32m[I 2021-07-04 20:53:47,552]\u001b[0m Trial 11 finished with value: -0.9450194185339233 and parameters: {'max_depth': 17, 'min_child_weight': 9, 'subsample': 0.7, 'colsample_bytree': 0.5, 'reg_lambda': 526.2078549413765, 'reg_alpha': 0.0010587618493964315, 'feature_fraction': 0.8545892469804695, 'bagging_fraction': 0.6021930075149144, 'bagging_freq': 10}. Best is trial 6 with value: -0.9328889109987113.\u001b[0m\n"
     ]
    },
    {
     "name": "stdout",
     "output_type": "stream",
     "text": [
      "[LightGBM] [Warning] feature_fraction is set=0.8917775375455236, colsample_bytree=0.6 will be ignored. Current value: feature_fraction=0.8917775375455236\n",
      "[LightGBM] [Warning] bagging_fraction is set=0.42587439740587285, subsample=0.7 will be ignored. Current value: bagging_fraction=0.42587439740587285\n",
      "[LightGBM] [Warning] bagging_freq is set=2, subsample_freq=0 will be ignored. Current value: bagging_freq=2\n",
      "Training until validation scores don't improve for 100 rounds\n",
      "[100]\ttraining's l1: 1.03724\tvalid_1's l1: 0.947365\n",
      "[200]\ttraining's l1: 1.03606\tvalid_1's l1: 0.946056\n"
     ]
    },
    {
     "name": "stderr",
     "output_type": "stream",
     "text": [
      "\u001b[32m[I 2021-07-04 20:53:54,769]\u001b[0m Trial 12 finished with value: -0.9460501935876916 and parameters: {'max_depth': 15, 'min_child_weight': 10, 'subsample': 0.7, 'colsample_bytree': 0.6, 'reg_lambda': 59.1321429914222, 'reg_alpha': 22.13217759614115, 'feature_fraction': 0.8917775375455236, 'bagging_fraction': 0.42587439740587285, 'bagging_freq': 2}. Best is trial 6 with value: -0.9328889109987113.\u001b[0m\n"
     ]
    },
    {
     "name": "stdout",
     "output_type": "stream",
     "text": [
      "Early stopping, best iteration is:\n",
      "[192]\ttraining's l1: 1.03606\tvalid_1's l1: 0.946054\n",
      "[LightGBM] [Warning] feature_fraction is set=0.9969646771055727, colsample_bytree=0.6 will be ignored. Current value: feature_fraction=0.9969646771055727\n",
      "[LightGBM] [Warning] bagging_fraction is set=0.5772674301804963, subsample=0.6 will be ignored. Current value: bagging_fraction=0.5772674301804963\n",
      "[LightGBM] [Warning] bagging_freq is set=8, subsample_freq=0 will be ignored. Current value: bagging_freq=8\n",
      "Training until validation scores don't improve for 100 rounds\n",
      "[100]\ttraining's l1: 1.03843\tvalid_1's l1: 0.948294\n",
      "[200]\ttraining's l1: 1.03807\tvalid_1's l1: 0.947838\n"
     ]
    },
    {
     "name": "stderr",
     "output_type": "stream",
     "text": [
      "\u001b[32m[I 2021-07-04 20:54:01,059]\u001b[0m Trial 13 finished with value: -0.9478197438348123 and parameters: {'max_depth': 20, 'min_child_weight': 7, 'subsample': 0.6, 'colsample_bytree': 0.6, 'reg_lambda': 0.028540801596649155, 'reg_alpha': 50.91296533064444, 'feature_fraction': 0.9969646771055727, 'bagging_fraction': 0.5772674301804963, 'bagging_freq': 8}. Best is trial 6 with value: -0.9328889109987113.\u001b[0m\n"
     ]
    },
    {
     "name": "stdout",
     "output_type": "stream",
     "text": [
      "Early stopping, best iteration is:\n",
      "[194]\ttraining's l1: 1.03807\tvalid_1's l1: 0.947821\n",
      "[LightGBM] [Warning] feature_fraction is set=0.6309643735045739, colsample_bytree=0.6 will be ignored. Current value: feature_fraction=0.6309643735045739\n",
      "[LightGBM] [Warning] bagging_fraction is set=0.6594407192530594, subsample=0.7 will be ignored. Current value: bagging_fraction=0.6594407192530594\n",
      "[LightGBM] [Warning] bagging_freq is set=9, subsample_freq=0 will be ignored. Current value: bagging_freq=9\n",
      "Training until validation scores don't improve for 100 rounds\n",
      "[100]\ttraining's l1: 1.03445\tvalid_1's l1: 0.943358\n",
      "[200]\ttraining's l1: 1.0338\tvalid_1's l1: 0.942909\n",
      "[300]\ttraining's l1: 1.03362\tvalid_1's l1: 0.943012\n"
     ]
    },
    {
     "name": "stderr",
     "output_type": "stream",
     "text": [
      "\u001b[32m[I 2021-07-04 20:54:09,239]\u001b[0m Trial 14 finished with value: -0.9428422582107482 and parameters: {'max_depth': 8, 'min_child_weight': 12, 'subsample': 0.7, 'colsample_bytree': 0.6, 'reg_lambda': 21.071342587897064, 'reg_alpha': 0.022658135973366855, 'feature_fraction': 0.6309643735045739, 'bagging_fraction': 0.6594407192530594, 'bagging_freq': 9}. Best is trial 6 with value: -0.9328889109987113.\u001b[0m\n"
     ]
    },
    {
     "name": "stdout",
     "output_type": "stream",
     "text": [
      "Early stopping, best iteration is:\n",
      "[249]\ttraining's l1: 1.03375\tvalid_1's l1: 0.942845\n",
      "[LightGBM] [Warning] feature_fraction is set=0.7673067078939323, colsample_bytree=0.7 will be ignored. Current value: feature_fraction=0.7673067078939323\n",
      "[LightGBM] [Warning] bagging_fraction is set=0.7868351162560041, subsample=0.5 will be ignored. Current value: bagging_fraction=0.7868351162560041\n",
      "[LightGBM] [Warning] bagging_freq is set=6, subsample_freq=0 will be ignored. Current value: bagging_freq=6\n",
      "Training until validation scores don't improve for 100 rounds\n",
      "[100]\ttraining's l1: 1.02971\tvalid_1's l1: 0.938303\n",
      "[200]\ttraining's l1: 1.02512\tvalid_1's l1: 0.933811\n",
      "[300]\ttraining's l1: 1.02266\tvalid_1's l1: 0.932965\n",
      "[400]\ttraining's l1: 1.02127\tvalid_1's l1: 0.932587\n",
      "[500]\ttraining's l1: 1.01984\tvalid_1's l1: 0.931822\n",
      "[600]\ttraining's l1: 1.01899\tvalid_1's l1: 0.931732\n"
     ]
    },
    {
     "name": "stderr",
     "output_type": "stream",
     "text": [
      "\u001b[32m[I 2021-07-04 20:54:23,087]\u001b[0m Trial 15 finished with value: -0.931336690786256 and parameters: {'max_depth': 4, 'min_child_weight': 12, 'subsample': 0.5, 'colsample_bytree': 0.7, 'reg_lambda': 0.06133490805507898, 'reg_alpha': 2.657530100059375, 'feature_fraction': 0.7673067078939323, 'bagging_fraction': 0.7868351162560041, 'bagging_freq': 6}. Best is trial 15 with value: -0.931336690786256.\u001b[0m\n"
     ]
    },
    {
     "name": "stdout",
     "output_type": "stream",
     "text": [
      "Early stopping, best iteration is:\n",
      "[573]\ttraining's l1: 1.01908\tvalid_1's l1: 0.931365\n",
      "[LightGBM] [Warning] feature_fraction is set=0.744782485857824, colsample_bytree=0.7 will be ignored. Current value: feature_fraction=0.744782485857824\n",
      "[LightGBM] [Warning] bagging_fraction is set=0.9754658755753557, subsample=0.5 will be ignored. Current value: bagging_fraction=0.9754658755753557\n",
      "[LightGBM] [Warning] bagging_freq is set=7, subsample_freq=0 will be ignored. Current value: bagging_freq=7\n",
      "Training until validation scores don't improve for 100 rounds\n",
      "[100]\ttraining's l1: 1.02992\tvalid_1's l1: 0.937734\n",
      "[200]\ttraining's l1: 1.02534\tvalid_1's l1: 0.933999\n",
      "[300]\ttraining's l1: 1.02259\tvalid_1's l1: 0.931671\n",
      "[400]\ttraining's l1: 1.01998\tvalid_1's l1: 0.930126\n"
     ]
    },
    {
     "name": "stderr",
     "output_type": "stream",
     "text": [
      "\u001b[32m[I 2021-07-04 20:54:35,042]\u001b[0m Trial 16 finished with value: -0.9301176503064087 and parameters: {'max_depth': 4, 'min_child_weight': 13, 'subsample': 0.5, 'colsample_bytree': 0.7, 'reg_lambda': 0.040778358373805605, 'reg_alpha': 3.9298280935487653, 'feature_fraction': 0.744782485857824, 'bagging_fraction': 0.9754658755753557, 'bagging_freq': 7}. Best is trial 16 with value: -0.9301176503064087.\u001b[0m\n"
     ]
    },
    {
     "name": "stdout",
     "output_type": "stream",
     "text": [
      "[500]\ttraining's l1: 1.0189\tvalid_1's l1: 0.930684\n",
      "Early stopping, best iteration is:\n",
      "[400]\ttraining's l1: 1.01998\tvalid_1's l1: 0.930126\n",
      "[LightGBM] [Warning] feature_fraction is set=0.5466117835967409, colsample_bytree=0.8 will be ignored. Current value: feature_fraction=0.5466117835967409\n",
      "[LightGBM] [Warning] bagging_fraction is set=0.9976209932602644, subsample=0.5 will be ignored. Current value: bagging_fraction=0.9976209932602644\n",
      "[LightGBM] [Warning] bagging_freq is set=7, subsample_freq=0 will be ignored. Current value: bagging_freq=7\n",
      "Training until validation scores don't improve for 100 rounds\n",
      "[100]\ttraining's l1: 1.03929\tvalid_1's l1: 0.947053\n",
      "[200]\ttraining's l1: 1.03927\tvalid_1's l1: 0.947035\n"
     ]
    },
    {
     "name": "stderr",
     "output_type": "stream",
     "text": [
      "\u001b[32m[I 2021-07-04 20:54:43,620]\u001b[0m Trial 17 finished with value: -0.9470327083089081 and parameters: {'max_depth': 3, 'min_child_weight': 20, 'subsample': 0.5, 'colsample_bytree': 0.8, 'reg_lambda': 0.08111414525445305, 'reg_alpha': 3.003807813184306, 'feature_fraction': 0.5466117835967409, 'bagging_fraction': 0.9976209932602644, 'bagging_freq': 7}. Best is trial 16 with value: -0.9301176503064087.\u001b[0m\n"
     ]
    },
    {
     "name": "stdout",
     "output_type": "stream",
     "text": [
      "Early stopping, best iteration is:\n",
      "[173]\ttraining's l1: 1.03927\tvalid_1's l1: 0.947035\n",
      "[LightGBM] [Warning] feature_fraction is set=0.7427229710469418, colsample_bytree=0.7 will be ignored. Current value: feature_fraction=0.7427229710469418\n",
      "[LightGBM] [Warning] bagging_fraction is set=0.9337921959875561, subsample=0.5 will be ignored. Current value: bagging_fraction=0.9337921959875561\n",
      "[LightGBM] [Warning] bagging_freq is set=6, subsample_freq=0 will be ignored. Current value: bagging_freq=6\n",
      "Training until validation scores don't improve for 100 rounds\n",
      "[100]\ttraining's l1: 1.02994\tvalid_1's l1: 0.937775\n",
      "[200]\ttraining's l1: 1.02513\tvalid_1's l1: 0.932795\n",
      "[300]\ttraining's l1: 1.02331\tvalid_1's l1: 0.931817\n",
      "[400]\ttraining's l1: 1.02089\tvalid_1's l1: 0.929721\n",
      "[500]\ttraining's l1: 1.01917\tvalid_1's l1: 0.928976\n",
      "[600]\ttraining's l1: 1.01818\tvalid_1's l1: 0.928661\n",
      "[700]\ttraining's l1: 1.01725\tvalid_1's l1: 0.92826\n"
     ]
    },
    {
     "name": "stderr",
     "output_type": "stream",
     "text": [
      "\u001b[32m[I 2021-07-04 20:55:00,252]\u001b[0m Trial 18 finished with value: -0.9279244368243837 and parameters: {'max_depth': 4, 'min_child_weight': 6, 'subsample': 0.5, 'colsample_bytree': 0.7, 'reg_lambda': 0.007185321467461904, 'reg_alpha': 5.5813047070862725, 'feature_fraction': 0.7427229710469418, 'bagging_fraction': 0.9337921959875561, 'bagging_freq': 6}. Best is trial 18 with value: -0.9279244368243837.\u001b[0m\n"
     ]
    },
    {
     "name": "stdout",
     "output_type": "stream",
     "text": [
      "Early stopping, best iteration is:\n",
      "[626]\ttraining's l1: 1.01782\tvalid_1's l1: 0.927945\n",
      "[LightGBM] [Warning] feature_fraction is set=0.6966233027108939, colsample_bytree=0.8 will be ignored. Current value: feature_fraction=0.6966233027108939\n",
      "[LightGBM] [Warning] bagging_fraction is set=0.9336097461798838, subsample=0.5 will be ignored. Current value: bagging_fraction=0.9336097461798838\n",
      "[LightGBM] [Warning] bagging_freq is set=7, subsample_freq=0 will be ignored. Current value: bagging_freq=7\n",
      "Training until validation scores don't improve for 100 rounds\n",
      "[100]\ttraining's l1: 1.02311\tvalid_1's l1: 0.933761\n",
      "[200]\ttraining's l1: 1.01834\tvalid_1's l1: 0.930221\n",
      "[300]\ttraining's l1: 1.01822\tvalid_1's l1: 0.930332\n"
     ]
    },
    {
     "name": "stderr",
     "output_type": "stream",
     "text": [
      "\u001b[32m[I 2021-07-04 20:55:08,318]\u001b[0m Trial 19 finished with value: -0.930168359243477 and parameters: {'max_depth': 5, 'min_child_weight': 5, 'subsample': 0.5, 'colsample_bytree': 0.8, 'reg_lambda': 0.0061310396679645565, 'reg_alpha': 8.281751458551348, 'feature_fraction': 0.6966233027108939, 'bagging_fraction': 0.9336097461798838, 'bagging_freq': 7}. Best is trial 18 with value: -0.9279244368243837.\u001b[0m\n"
     ]
    },
    {
     "name": "stdout",
     "output_type": "stream",
     "text": [
      "Early stopping, best iteration is:\n",
      "[211]\ttraining's l1: 1.0183\tvalid_1's l1: 0.930175\n",
      "[LightGBM] [Warning] feature_fraction is set=0.6199656236693349, colsample_bytree=0.7 will be ignored. Current value: feature_fraction=0.6199656236693349\n",
      "[LightGBM] [Warning] bagging_fraction is set=0.9910687130659978, subsample=0.5 will be ignored. Current value: bagging_fraction=0.9910687130659978\n",
      "[LightGBM] [Warning] bagging_freq is set=3, subsample_freq=0 will be ignored. Current value: bagging_freq=3\n",
      "Training until validation scores don't improve for 100 rounds\n",
      "[100]\ttraining's l1: 1.05884\tvalid_1's l1: 0.970614\n",
      "[200]\ttraining's l1: 1.05876\tvalid_1's l1: 0.9704\n",
      "[300]\ttraining's l1: 1.05867\tvalid_1's l1: 0.970084\n"
     ]
    },
    {
     "name": "stderr",
     "output_type": "stream",
     "text": [
      "\u001b[32m[I 2021-07-04 20:55:18,699]\u001b[0m Trial 20 finished with value: -0.9700621368293662 and parameters: {'max_depth': 1, 'min_child_weight': 7, 'subsample': 0.5, 'colsample_bytree': 0.7, 'reg_lambda': 0.006821887380455462, 'reg_alpha': 0.11868050286435325, 'feature_fraction': 0.6199656236693349, 'bagging_fraction': 0.9910687130659978, 'bagging_freq': 3}. Best is trial 18 with value: -0.9279244368243837.\u001b[0m\n"
     ]
    },
    {
     "name": "stdout",
     "output_type": "stream",
     "text": [
      "Early stopping, best iteration is:\n",
      "[258]\ttraining's l1: 1.05867\tvalid_1's l1: 0.970066\n",
      "[LightGBM] [Warning] feature_fraction is set=0.7010106221739073, colsample_bytree=0.8 will be ignored. Current value: feature_fraction=0.7010106221739073\n",
      "[LightGBM] [Warning] bagging_fraction is set=0.9207019569125221, subsample=0.5 will be ignored. Current value: bagging_fraction=0.9207019569125221\n",
      "[LightGBM] [Warning] bagging_freq is set=7, subsample_freq=0 will be ignored. Current value: bagging_freq=7\n",
      "Training until validation scores don't improve for 100 rounds\n",
      "[100]\ttraining's l1: 1.02337\tvalid_1's l1: 0.932051\n",
      "[200]\ttraining's l1: 1.01942\tvalid_1's l1: 0.929599\n",
      "[300]\ttraining's l1: 1.01828\tvalid_1's l1: 0.927883\n"
     ]
    },
    {
     "name": "stderr",
     "output_type": "stream",
     "text": [
      "\u001b[32m[I 2021-07-04 20:55:27,520]\u001b[0m Trial 21 finished with value: -0.9278115818903641 and parameters: {'max_depth': 5, 'min_child_weight': 5, 'subsample': 0.5, 'colsample_bytree': 0.8, 'reg_lambda': 0.0010800473630126386, 'reg_alpha': 9.12279235308936, 'feature_fraction': 0.7010106221739073, 'bagging_fraction': 0.9207019569125221, 'bagging_freq': 7}. Best is trial 21 with value: -0.9278115818903641.\u001b[0m\n"
     ]
    },
    {
     "name": "stdout",
     "output_type": "stream",
     "text": [
      "Early stopping, best iteration is:\n",
      "[242]\ttraining's l1: 1.01835\tvalid_1's l1: 0.927821\n",
      "[LightGBM] [Warning] feature_fraction is set=0.7127236255211157, colsample_bytree=0.9 will be ignored. Current value: feature_fraction=0.7127236255211157\n",
      "[LightGBM] [Warning] bagging_fraction is set=0.9107302576167728, subsample=0.5 will be ignored. Current value: bagging_fraction=0.9107302576167728\n",
      "[LightGBM] [Warning] bagging_freq is set=8, subsample_freq=0 will be ignored. Current value: bagging_freq=8\n",
      "Training until validation scores don't improve for 100 rounds\n",
      "[100]\ttraining's l1: 1.03764\tvalid_1's l1: 0.94482\n",
      "[200]\ttraining's l1: 1.03388\tvalid_1's l1: 0.941448\n",
      "[300]\ttraining's l1: 1.03115\tvalid_1's l1: 0.93858\n",
      "[400]\ttraining's l1: 1.0306\tvalid_1's l1: 0.938094\n",
      "[500]\ttraining's l1: 1.02983\tvalid_1's l1: 0.937586\n",
      "[600]\ttraining's l1: 1.02934\tvalid_1's l1: 0.937449\n"
     ]
    },
    {
     "name": "stderr",
     "output_type": "stream",
     "text": [
      "\u001b[32m[I 2021-07-04 20:55:40,979]\u001b[0m Trial 22 finished with value: -0.9374047949666536 and parameters: {'max_depth': 3, 'min_child_weight': 7, 'subsample': 0.5, 'colsample_bytree': 0.9, 'reg_lambda': 0.001229333648217403, 'reg_alpha': 100.69212172893772, 'feature_fraction': 0.7127236255211157, 'bagging_fraction': 0.9107302576167728, 'bagging_freq': 8}. Best is trial 21 with value: -0.9278115818903641.\u001b[0m\n"
     ]
    },
    {
     "name": "stdout",
     "output_type": "stream",
     "text": [
      "Early stopping, best iteration is:\n",
      "[571]\ttraining's l1: 1.02937\tvalid_1's l1: 0.937414\n",
      "[LightGBM] [Warning] feature_fraction is set=0.792165878403631, colsample_bytree=0.8 will be ignored. Current value: feature_fraction=0.792165878403631\n",
      "[LightGBM] [Warning] bagging_fraction is set=0.8692706323869372, subsample=0.6 will be ignored. Current value: bagging_fraction=0.8692706323869372\n",
      "[LightGBM] [Warning] bagging_freq is set=6, subsample_freq=0 will be ignored. Current value: bagging_freq=6\n",
      "Training until validation scores don't improve for 100 rounds\n",
      "[100]\ttraining's l1: 1.02812\tvalid_1's l1: 0.939401\n",
      "[200]\ttraining's l1: 1.02498\tvalid_1's l1: 0.936379\n"
     ]
    },
    {
     "name": "stderr",
     "output_type": "stream",
     "text": [
      "\u001b[32m[I 2021-07-04 20:55:48,418]\u001b[0m Trial 23 finished with value: -0.9361868228130229 and parameters: {'max_depth': 6, 'min_child_weight': 6, 'subsample': 0.6, 'colsample_bytree': 0.8, 'reg_lambda': 0.0010065732571275382, 'reg_alpha': 7.17572559067937, 'feature_fraction': 0.792165878403631, 'bagging_fraction': 0.8692706323869372, 'bagging_freq': 6}. Best is trial 21 with value: -0.9278115818903641.\u001b[0m\n"
     ]
    },
    {
     "name": "stdout",
     "output_type": "stream",
     "text": [
      "Early stopping, best iteration is:\n",
      "[176]\ttraining's l1: 1.02505\tvalid_1's l1: 0.936188\n",
      "[LightGBM] [Warning] feature_fraction is set=0.5061377550060032, colsample_bytree=0.7 will be ignored. Current value: feature_fraction=0.5061377550060032\n",
      "[LightGBM] [Warning] bagging_fraction is set=0.9516699612045931, subsample=0.5 will be ignored. Current value: bagging_fraction=0.9516699612045931\n",
      "[LightGBM] [Warning] bagging_freq is set=7, subsample_freq=0 will be ignored. Current value: bagging_freq=7\n",
      "Training until validation scores don't improve for 100 rounds\n",
      "[100]\ttraining's l1: 1.0348\tvalid_1's l1: 0.942773\n",
      "[200]\ttraining's l1: 1.03475\tvalid_1's l1: 0.942702\n",
      "[300]\ttraining's l1: 1.03455\tvalid_1's l1: 0.942387\n",
      "[400]\ttraining's l1: 1.0343\tvalid_1's l1: 0.942102\n"
     ]
    },
    {
     "name": "stderr",
     "output_type": "stream",
     "text": [
      "\u001b[32m[I 2021-07-04 20:56:01,568]\u001b[0m Trial 24 finished with value: -0.9420598317113438 and parameters: {'max_depth': 4, 'min_child_weight': 9, 'subsample': 0.5, 'colsample_bytree': 0.7, 'reg_lambda': 0.007676690150178078, 'reg_alpha': 1.0859481176818546, 'feature_fraction': 0.5061377550060032, 'bagging_fraction': 0.9516699612045931, 'bagging_freq': 7}. Best is trial 21 with value: -0.9278115818903641.\u001b[0m\n"
     ]
    },
    {
     "name": "stdout",
     "output_type": "stream",
     "text": [
      "Early stopping, best iteration is:\n",
      "[370]\ttraining's l1: 1.03431\tvalid_1's l1: 0.942094\n",
      "[LightGBM] [Warning] feature_fraction is set=0.6523179769226211, colsample_bytree=0.8 will be ignored. Current value: feature_fraction=0.6523179769226211\n",
      "[LightGBM] [Warning] bagging_fraction is set=0.998184384118211, subsample=0.6 will be ignored. Current value: bagging_fraction=0.998184384118211\n",
      "[LightGBM] [Warning] bagging_freq is set=5, subsample_freq=0 will be ignored. Current value: bagging_freq=5\n",
      "Training until validation scores don't improve for 100 rounds\n",
      "[100]\ttraining's l1: 1.03429\tvalid_1's l1: 0.943643\n"
     ]
    },
    {
     "name": "stderr",
     "output_type": "stream",
     "text": [
      "\u001b[32m[I 2021-07-04 20:56:08,263]\u001b[0m Trial 25 finished with value: -0.9436324917914349 and parameters: {'max_depth': 8, 'min_child_weight': 4, 'subsample': 0.6, 'colsample_bytree': 0.8, 'reg_lambda': 0.13179271397110282, 'reg_alpha': 140.2706513056845, 'feature_fraction': 0.6523179769226211, 'bagging_fraction': 0.998184384118211, 'bagging_freq': 5}. Best is trial 21 with value: -0.9278115818903641.\u001b[0m\n"
     ]
    },
    {
     "name": "stdout",
     "output_type": "stream",
     "text": [
      "Early stopping, best iteration is:\n",
      "[96]\ttraining's l1: 1.03429\tvalid_1's l1: 0.943633\n",
      "[LightGBM] [Warning] feature_fraction is set=0.7396006497550007, colsample_bytree=0.7 will be ignored. Current value: feature_fraction=0.7396006497550007\n",
      "[LightGBM] [Warning] bagging_fraction is set=0.8070165380654648, subsample=0.5 will be ignored. Current value: bagging_fraction=0.8070165380654648\n",
      "[LightGBM] [Warning] bagging_freq is set=9, subsample_freq=0 will be ignored. Current value: bagging_freq=9\n",
      "Training until validation scores don't improve for 100 rounds\n",
      "[100]\ttraining's l1: 1.05886\tvalid_1's l1: 0.970598\n"
     ]
    },
    {
     "name": "stderr",
     "output_type": "stream",
     "text": [
      "\u001b[32m[I 2021-07-04 20:56:11,399]\u001b[0m Trial 26 finished with value: -0.9705944953055977 and parameters: {'max_depth': 1, 'min_child_weight': 9, 'subsample': 0.5, 'colsample_bytree': 0.7, 'reg_lambda': 0.011084414835302567, 'reg_alpha': 5.285746652807123, 'feature_fraction': 0.7396006497550007, 'bagging_fraction': 0.8070165380654648, 'bagging_freq': 9}. Best is trial 21 with value: -0.9278115818903641.\u001b[0m\n"
     ]
    },
    {
     "name": "stdout",
     "output_type": "stream",
     "text": [
      "Early stopping, best iteration is:\n",
      "[45]\ttraining's l1: 1.0589\tvalid_1's l1: 0.970594\n",
      "[LightGBM] [Warning] feature_fraction is set=0.8347814184359944, colsample_bytree=0.8 will be ignored. Current value: feature_fraction=0.8347814184359944\n",
      "[LightGBM] [Warning] bagging_fraction is set=0.8810716787983324, subsample=0.5 will be ignored. Current value: bagging_fraction=0.8810716787983324\n",
      "[LightGBM] [Warning] bagging_freq is set=6, subsample_freq=0 will be ignored. Current value: bagging_freq=6\n",
      "Training until validation scores don't improve for 100 rounds\n",
      "[100]\ttraining's l1: 1.02281\tvalid_1's l1: 0.932702\n",
      "[200]\ttraining's l1: 1.01646\tvalid_1's l1: 0.928234\n",
      "[300]\ttraining's l1: 1.01422\tvalid_1's l1: 0.927494\n",
      "[400]\ttraining's l1: 1.01237\tvalid_1's l1: 0.926971\n"
     ]
    },
    {
     "name": "stderr",
     "output_type": "stream",
     "text": [
      "\u001b[32m[I 2021-07-04 20:56:22,948]\u001b[0m Trial 27 finished with value: -0.9267436539167699 and parameters: {'max_depth': 5, 'min_child_weight': 14, 'subsample': 0.5, 'colsample_bytree': 0.8, 'reg_lambda': 0.0039424293637013936, 'reg_alpha': 0.7589476621819645, 'feature_fraction': 0.8347814184359944, 'bagging_fraction': 0.8810716787983324, 'bagging_freq': 6}. Best is trial 27 with value: -0.9267436539167699.\u001b[0m\n"
     ]
    },
    {
     "name": "stdout",
     "output_type": "stream",
     "text": [
      "Early stopping, best iteration is:\n",
      "[368]\ttraining's l1: 1.01293\tvalid_1's l1: 0.926759\n",
      "[LightGBM] [Warning] feature_fraction is set=0.8096845978781644, colsample_bytree=0.9 will be ignored. Current value: feature_fraction=0.8096845978781644\n",
      "[LightGBM] [Warning] bagging_fraction is set=0.8586871169059229, subsample=0.6 will be ignored. Current value: bagging_fraction=0.8586871169059229\n",
      "[LightGBM] [Warning] bagging_freq is set=6, subsample_freq=0 will be ignored. Current value: bagging_freq=6\n",
      "Training until validation scores don't improve for 100 rounds\n",
      "[100]\ttraining's l1: 1.03766\tvalid_1's l1: 0.947347\n",
      "[200]\ttraining's l1: 1.03654\tvalid_1's l1: 0.946166\n"
     ]
    },
    {
     "name": "stderr",
     "output_type": "stream",
     "text": [
      "\u001b[32m[I 2021-07-04 20:56:30,030]\u001b[0m Trial 28 finished with value: -0.9461490509620816 and parameters: {'max_depth': 10, 'min_child_weight': 1, 'subsample': 0.6, 'colsample_bytree': 0.9, 'reg_lambda': 0.0030817271505331105, 'reg_alpha': 0.9704043507652219, 'feature_fraction': 0.8096845978781644, 'bagging_fraction': 0.8586871169059229, 'bagging_freq': 6}. Best is trial 27 with value: -0.9267436539167699.\u001b[0m\n"
     ]
    },
    {
     "name": "stdout",
     "output_type": "stream",
     "text": [
      "Early stopping, best iteration is:\n",
      "[155]\ttraining's l1: 1.03656\tvalid_1's l1: 0.94615\n",
      "[LightGBM] [Warning] feature_fraction is set=0.5635070770970345, colsample_bytree=0.8 will be ignored. Current value: feature_fraction=0.5635070770970345\n",
      "[LightGBM] [Warning] bagging_fraction is set=0.9048380727673397, subsample=0.5 will be ignored. Current value: bagging_fraction=0.9048380727673397\n",
      "[LightGBM] [Warning] bagging_freq is set=4, subsample_freq=0 will be ignored. Current value: bagging_freq=4\n",
      "Training until validation scores don't improve for 100 rounds\n",
      "[100]\ttraining's l1: 1.03352\tvalid_1's l1: 0.943408\n"
     ]
    },
    {
     "name": "stderr",
     "output_type": "stream",
     "text": [
      "\u001b[32m[I 2021-07-04 20:56:36,660]\u001b[0m Trial 29 finished with value: -0.943389071051168 and parameters: {'max_depth': 7, 'min_child_weight': 18, 'subsample': 0.5, 'colsample_bytree': 0.8, 'reg_lambda': 0.0012321720218842537, 'reg_alpha': 1.1649659543510444, 'feature_fraction': 0.5635070770970345, 'bagging_fraction': 0.9048380727673397, 'bagging_freq': 4}. Best is trial 27 with value: -0.9267436539167699.\u001b[0m\n"
     ]
    },
    {
     "name": "stdout",
     "output_type": "stream",
     "text": [
      "Early stopping, best iteration is:\n",
      "[82]\ttraining's l1: 1.03353\tvalid_1's l1: 0.943389\n",
      "[LightGBM] [Warning] feature_fraction is set=0.6827284789060885, colsample_bytree=0.9 will be ignored. Current value: feature_fraction=0.6827284789060885\n",
      "[LightGBM] [Warning] bagging_fraction is set=0.6973426649882896, subsample=0.5 will be ignored. Current value: bagging_fraction=0.6973426649882896\n",
      "[LightGBM] [Warning] bagging_freq is set=3, subsample_freq=0 will be ignored. Current value: bagging_freq=3\n",
      "Training until validation scores don't improve for 100 rounds\n",
      "[100]\ttraining's l1: 1.02357\tvalid_1's l1: 0.933899\n",
      "[200]\ttraining's l1: 1.01948\tvalid_1's l1: 0.93081\n"
     ]
    },
    {
     "name": "stderr",
     "output_type": "stream",
     "text": [
      "\u001b[32m[I 2021-07-04 20:56:43,704]\u001b[0m Trial 30 finished with value: -0.930760231810275 and parameters: {'max_depth': 5, 'min_child_weight': 2, 'subsample': 0.5, 'colsample_bytree': 0.9, 'reg_lambda': 0.003956030018166121, 'reg_alpha': 18.727266436468813, 'feature_fraction': 0.6827284789060885, 'bagging_fraction': 0.6973426649882896, 'bagging_freq': 3}. Best is trial 27 with value: -0.9267436539167699.\u001b[0m\n"
     ]
    },
    {
     "name": "stdout",
     "output_type": "stream",
     "text": [
      "Early stopping, best iteration is:\n",
      "[171]\ttraining's l1: 1.01952\tvalid_1's l1: 0.930765\n",
      "[LightGBM] [Warning] feature_fraction is set=0.7454022017570383, colsample_bytree=0.7 will be ignored. Current value: feature_fraction=0.7454022017570383\n",
      "[LightGBM] [Warning] bagging_fraction is set=0.9592324205369508, subsample=0.5 will be ignored. Current value: bagging_fraction=0.9592324205369508\n",
      "[LightGBM] [Warning] bagging_freq is set=7, subsample_freq=0 will be ignored. Current value: bagging_freq=7\n",
      "Training until validation scores don't improve for 100 rounds\n",
      "[100]\ttraining's l1: 1.03619\tvalid_1's l1: 0.943324\n",
      "[200]\ttraining's l1: 1.03158\tvalid_1's l1: 0.938048\n",
      "[300]\ttraining's l1: 1.02999\tvalid_1's l1: 0.936861\n",
      "[400]\ttraining's l1: 1.02917\tvalid_1's l1: 0.936032\n",
      "[500]\ttraining's l1: 1.02861\tvalid_1's l1: 0.935883\n"
     ]
    },
    {
     "name": "stderr",
     "output_type": "stream",
     "text": [
      "\u001b[32m[I 2021-07-04 20:56:56,093]\u001b[0m Trial 31 finished with value: -0.9358504312974061 and parameters: {'max_depth': 3, 'min_child_weight': 14, 'subsample': 0.5, 'colsample_bytree': 0.7, 'reg_lambda': 4.484486172557423, 'reg_alpha': 4.1538211703178884, 'feature_fraction': 0.7454022017570383, 'bagging_fraction': 0.9592324205369508, 'bagging_freq': 7}. Best is trial 27 with value: -0.9267436539167699.\u001b[0m\n"
     ]
    },
    {
     "name": "stdout",
     "output_type": "stream",
     "text": [
      "Early stopping, best iteration is:\n",
      "[473]\ttraining's l1: 1.02871\tvalid_1's l1: 0.935861\n",
      "[LightGBM] [Warning] feature_fraction is set=0.8455669499885495, colsample_bytree=0.7 will be ignored. Current value: feature_fraction=0.8455669499885495\n",
      "[LightGBM] [Warning] bagging_fraction is set=0.9345480302301735, subsample=0.5 will be ignored. Current value: bagging_fraction=0.9345480302301735\n",
      "[LightGBM] [Warning] bagging_freq is set=5, subsample_freq=0 will be ignored. Current value: bagging_freq=5\n",
      "Training until validation scores don't improve for 100 rounds\n",
      "[100]\ttraining's l1: 1.02334\tvalid_1's l1: 0.934077\n",
      "[200]\ttraining's l1: 1.01808\tvalid_1's l1: 0.930556\n",
      "[300]\ttraining's l1: 1.01516\tvalid_1's l1: 0.929682\n",
      "[400]\ttraining's l1: 1.01346\tvalid_1's l1: 0.929687\n"
     ]
    },
    {
     "name": "stderr",
     "output_type": "stream",
     "text": [
      "\u001b[32m[I 2021-07-04 20:57:08,067]\u001b[0m Trial 32 finished with value: -0.9292357192590239 and parameters: {'max_depth': 5, 'min_child_weight': 18, 'subsample': 0.5, 'colsample_bytree': 0.7, 'reg_lambda': 0.01892479802297662, 'reg_alpha': 0.41545202250092134, 'feature_fraction': 0.8455669499885495, 'bagging_fraction': 0.9345480302301735, 'bagging_freq': 5}. Best is trial 27 with value: -0.9267436539167699.\u001b[0m\n"
     ]
    },
    {
     "name": "stdout",
     "output_type": "stream",
     "text": [
      "Early stopping, best iteration is:\n",
      "[350]\ttraining's l1: 1.01426\tvalid_1's l1: 0.929256\n",
      "[LightGBM] [Warning] feature_fraction is set=0.8386714885362484, colsample_bytree=0.8 will be ignored. Current value: feature_fraction=0.8386714885362484\n",
      "[LightGBM] [Warning] bagging_fraction is set=0.927193261918887, subsample=0.6 will be ignored. Current value: bagging_fraction=0.927193261918887\n",
      "[LightGBM] [Warning] bagging_freq is set=5, subsample_freq=0 will be ignored. Current value: bagging_freq=5\n",
      "Training until validation scores don't improve for 100 rounds\n",
      "[100]\ttraining's l1: 1.04421\tvalid_1's l1: 0.951369\n",
      "[200]\ttraining's l1: 1.04079\tvalid_1's l1: 0.947141\n",
      "[300]\ttraining's l1: 1.03947\tvalid_1's l1: 0.945129\n",
      "[400]\ttraining's l1: 1.03853\tvalid_1's l1: 0.944109\n",
      "[500]\ttraining's l1: 1.03798\tvalid_1's l1: 0.943714\n",
      "[600]\ttraining's l1: 1.03765\tvalid_1's l1: 0.943292\n",
      "[700]\ttraining's l1: 1.03717\tvalid_1's l1: 0.942898\n",
      "[800]\ttraining's l1: 1.03699\tvalid_1's l1: 0.942739\n",
      "[900]\ttraining's l1: 1.03678\tvalid_1's l1: 0.942674\n",
      "[1000]\ttraining's l1: 1.0365\tvalid_1's l1: 0.942007\n"
     ]
    },
    {
     "name": "stderr",
     "output_type": "stream",
     "text": [
      "\u001b[32m[I 2021-07-04 20:57:29,730]\u001b[0m Trial 33 finished with value: -0.9419658325131717 and parameters: {'max_depth': 2, 'min_child_weight': 18, 'subsample': 0.6, 'colsample_bytree': 0.8, 'reg_lambda': 0.017898165110222002, 'reg_alpha': 0.3908532816166727, 'feature_fraction': 0.8386714885362484, 'bagging_fraction': 0.927193261918887, 'bagging_freq': 5}. Best is trial 27 with value: -0.9267436539167699.\u001b[0m\n"
     ]
    },
    {
     "name": "stdout",
     "output_type": "stream",
     "text": [
      "Early stopping, best iteration is:\n",
      "[957]\ttraining's l1: 1.0365\tvalid_1's l1: 0.941986\n",
      "[LightGBM] [Warning] feature_fraction is set=0.824781151751562, colsample_bytree=0.7 will be ignored. Current value: feature_fraction=0.824781151751562\n",
      "[LightGBM] [Warning] bagging_fraction is set=0.8351693668126561, subsample=0.5 will be ignored. Current value: bagging_fraction=0.8351693668126561\n",
      "[LightGBM] [Warning] bagging_freq is set=5, subsample_freq=0 will be ignored. Current value: bagging_freq=5\n",
      "Training until validation scores don't improve for 100 rounds\n",
      "[100]\ttraining's l1: 1.03196\tvalid_1's l1: 0.942364\n",
      "[200]\ttraining's l1: 1.03146\tvalid_1's l1: 0.9419\n"
     ]
    },
    {
     "name": "stderr",
     "output_type": "stream",
     "text": [
      "\u001b[32m[I 2021-07-04 20:57:36,931]\u001b[0m Trial 34 finished with value: -0.9418789473175364 and parameters: {'max_depth': 7, 'min_child_weight': 18, 'subsample': 0.5, 'colsample_bytree': 0.7, 'reg_lambda': 0.002082840902695126, 'reg_alpha': 0.1630600813165145, 'feature_fraction': 0.824781151751562, 'bagging_fraction': 0.8351693668126561, 'bagging_freq': 5}. Best is trial 27 with value: -0.9267436539167699.\u001b[0m\n"
     ]
    },
    {
     "name": "stdout",
     "output_type": "stream",
     "text": [
      "Early stopping, best iteration is:\n",
      "[163]\ttraining's l1: 1.03148\tvalid_1's l1: 0.94188\n",
      "[LightGBM] [Warning] feature_fraction is set=0.9628096895415015, colsample_bytree=0.8 will be ignored. Current value: feature_fraction=0.9628096895415015\n",
      "[LightGBM] [Warning] bagging_fraction is set=0.8836804304067956, subsample=0.5 will be ignored. Current value: bagging_fraction=0.8836804304067956\n",
      "[LightGBM] [Warning] bagging_freq is set=6, subsample_freq=0 will be ignored. Current value: bagging_freq=6\n",
      "Training until validation scores don't improve for 100 rounds\n",
      "[100]\ttraining's l1: 1.02464\tvalid_1's l1: 0.93628\n",
      "[200]\ttraining's l1: 1.01832\tvalid_1's l1: 0.931525\n",
      "[300]\ttraining's l1: 1.01588\tvalid_1's l1: 0.93165\n"
     ]
    },
    {
     "name": "stderr",
     "output_type": "stream",
     "text": [
      "\u001b[32m[I 2021-07-04 20:57:45,050]\u001b[0m Trial 35 finished with value: -0.931334997973347 and parameters: {'max_depth': 5, 'min_child_weight': 17, 'subsample': 0.5, 'colsample_bytree': 0.8, 'reg_lambda': 0.014340547443351006, 'reg_alpha': 0.529342511918039, 'feature_fraction': 0.9628096895415015, 'bagging_fraction': 0.8836804304067956, 'bagging_freq': 6}. Best is trial 27 with value: -0.9267436539167699.\u001b[0m\n"
     ]
    },
    {
     "name": "stdout",
     "output_type": "stream",
     "text": [
      "Early stopping, best iteration is:\n",
      "[213]\ttraining's l1: 1.01821\tvalid_1's l1: 0.931344\n",
      "[LightGBM] [Warning] feature_fraction is set=0.7755692932534568, colsample_bytree=0.6 will be ignored. Current value: feature_fraction=0.7755692932534568\n",
      "[LightGBM] [Warning] bagging_fraction is set=0.9453710718546424, subsample=0.6 will be ignored. Current value: bagging_fraction=0.9453710718546424\n",
      "[LightGBM] [Warning] bagging_freq is set=4, subsample_freq=0 will be ignored. Current value: bagging_freq=4\n",
      "Training until validation scores don't improve for 100 rounds\n",
      "[100]\ttraining's l1: 1.02866\tvalid_1's l1: 0.938709\n",
      "[200]\ttraining's l1: 1.02676\tvalid_1's l1: 0.93772\n"
     ]
    },
    {
     "name": "stderr",
     "output_type": "stream",
     "text": [
      "\u001b[32m[I 2021-07-04 20:57:53,670]\u001b[0m Trial 36 finished with value: -0.937710296301413 and parameters: {'max_depth': 6, 'min_child_weight': 3, 'subsample': 0.6, 'colsample_bytree': 0.6, 'reg_lambda': 0.20396456373412847, 'reg_alpha': 0.07271501812320873, 'feature_fraction': 0.7755692932534568, 'bagging_fraction': 0.9453710718546424, 'bagging_freq': 4}. Best is trial 27 with value: -0.9267436539167699.\u001b[0m\n"
     ]
    },
    {
     "name": "stdout",
     "output_type": "stream",
     "text": [
      "Early stopping, best iteration is:\n",
      "[188]\ttraining's l1: 1.02677\tvalid_1's l1: 0.937712\n",
      "[LightGBM] [Warning] feature_fraction is set=0.8796191953856367, colsample_bytree=0.7 will be ignored. Current value: feature_fraction=0.8796191953856367\n",
      "[LightGBM] [Warning] bagging_fraction is set=0.7820008302243399, subsample=0.6 will be ignored. Current value: bagging_fraction=0.7820008302243399\n",
      "[LightGBM] [Warning] bagging_freq is set=3, subsample_freq=0 will be ignored. Current value: bagging_freq=3\n",
      "Training until validation scores don't improve for 100 rounds\n",
      "[100]\ttraining's l1: 1.04379\tvalid_1's l1: 0.951305\n",
      "[200]\ttraining's l1: 1.04066\tvalid_1's l1: 0.947254\n",
      "[300]\ttraining's l1: 1.0391\tvalid_1's l1: 0.945166\n",
      "[400]\ttraining's l1: 1.03835\tvalid_1's l1: 0.944191\n",
      "[500]\ttraining's l1: 1.03804\tvalid_1's l1: 0.943802\n",
      "[600]\ttraining's l1: 1.03745\tvalid_1's l1: 0.943186\n",
      "[700]\ttraining's l1: 1.03708\tvalid_1's l1: 0.943236\n"
     ]
    },
    {
     "name": "stderr",
     "output_type": "stream",
     "text": [
      "\u001b[32m[I 2021-07-04 20:58:09,340]\u001b[0m Trial 37 finished with value: -0.943108018483945 and parameters: {'max_depth': 2, 'min_child_weight': 15, 'subsample': 0.6, 'colsample_bytree': 0.7, 'reg_lambda': 0.0039972916163594505, 'reg_alpha': 1.311806049851928, 'feature_fraction': 0.8796191953856367, 'bagging_fraction': 0.7820008302243399, 'bagging_freq': 3}. Best is trial 27 with value: -0.9267436539167699.\u001b[0m\n"
     ]
    },
    {
     "name": "stdout",
     "output_type": "stream",
     "text": [
      "Early stopping, best iteration is:\n",
      "[625]\ttraining's l1: 1.03728\tvalid_1's l1: 0.943124\n",
      "[LightGBM] [Warning] feature_fraction is set=0.9289116490029314, colsample_bytree=0.8 will be ignored. Current value: feature_fraction=0.9289116490029314\n",
      "[LightGBM] [Warning] bagging_fraction is set=0.8504540504557438, subsample=0.5 will be ignored. Current value: bagging_fraction=0.8504540504557438\n",
      "[LightGBM] [Warning] bagging_freq is set=8, subsample_freq=0 will be ignored. Current value: bagging_freq=8\n",
      "Training until validation scores don't improve for 100 rounds\n",
      "[100]\ttraining's l1: 1.03212\tvalid_1's l1: 0.942326\n",
      "[200]\ttraining's l1: 1.03105\tvalid_1's l1: 0.941584\n"
     ]
    },
    {
     "name": "stderr",
     "output_type": "stream",
     "text": [
      "\u001b[32m[I 2021-07-04 20:58:15,545]\u001b[0m Trial 38 finished with value: -0.9415026468719119 and parameters: {'max_depth': 7, 'min_child_weight': 6, 'subsample': 0.5, 'colsample_bytree': 0.8, 'reg_lambda': 0.0015907182787165885, 'reg_alpha': 0.40021883093825583, 'feature_fraction': 0.9289116490029314, 'bagging_fraction': 0.8504540504557438, 'bagging_freq': 8}. Best is trial 27 with value: -0.9267436539167699.\u001b[0m\n"
     ]
    },
    {
     "name": "stdout",
     "output_type": "stream",
     "text": [
      "Early stopping, best iteration is:\n",
      "[131]\ttraining's l1: 1.03115\tvalid_1's l1: 0.941503\n",
      "[LightGBM] [Warning] feature_fraction is set=0.6041423181999345, colsample_bytree=0.7 will be ignored. Current value: feature_fraction=0.6041423181999345\n",
      "[LightGBM] [Warning] bagging_fraction is set=0.899636887602859, subsample=0.6 will be ignored. Current value: bagging_fraction=0.899636887602859\n",
      "[LightGBM] [Warning] bagging_freq is set=6, subsample_freq=0 will be ignored. Current value: bagging_freq=6\n",
      "Training until validation scores don't improve for 100 rounds\n",
      "[100]\ttraining's l1: 1.03587\tvalid_1's l1: 0.947887\n",
      "[200]\ttraining's l1: 1.03584\tvalid_1's l1: 0.947857\n"
     ]
    },
    {
     "name": "stderr",
     "output_type": "stream",
     "text": [
      "\u001b[32m[I 2021-07-04 20:58:24,999]\u001b[0m Trial 39 finished with value: -0.9478552264062562 and parameters: {'max_depth': 9, 'min_child_weight': 16, 'subsample': 0.6, 'colsample_bytree': 0.7, 'reg_lambda': 0.0010836170078708605, 'reg_alpha': 766.1992715040192, 'feature_fraction': 0.6041423181999345, 'bagging_fraction': 0.899636887602859, 'bagging_freq': 6}. Best is trial 27 with value: -0.9267436539167699.\u001b[0m\n"
     ]
    },
    {
     "name": "stdout",
     "output_type": "stream",
     "text": [
      "Early stopping, best iteration is:\n",
      "[194]\ttraining's l1: 1.03585\tvalid_1's l1: 0.947857\n",
      "[LightGBM] [Warning] feature_fraction is set=0.6554608308260986, colsample_bytree=0.9 will be ignored. Current value: feature_fraction=0.6554608308260986\n",
      "[LightGBM] [Warning] bagging_fraction is set=0.9708860342124104, subsample=0.9 will be ignored. Current value: bagging_fraction=0.9708860342124104\n",
      "[LightGBM] [Warning] bagging_freq is set=4, subsample_freq=0 will be ignored. Current value: bagging_freq=4\n",
      "Training until validation scores don't improve for 100 rounds\n",
      "[100]\ttraining's l1: 1.02944\tvalid_1's l1: 0.940099\n"
     ]
    },
    {
     "name": "stderr",
     "output_type": "stream",
     "text": [
      "\u001b[32m[I 2021-07-04 20:58:31,758]\u001b[0m Trial 40 finished with value: -0.9400712430695206 and parameters: {'max_depth': 6, 'min_child_weight': 8, 'subsample': 0.9, 'colsample_bytree': 0.9, 'reg_lambda': 0.0038034242396314125, 'reg_alpha': 16.999643255236297, 'feature_fraction': 0.6554608308260986, 'bagging_fraction': 0.9708860342124104, 'bagging_freq': 4}. Best is trial 27 with value: -0.9267436539167699.\u001b[0m\n"
     ]
    },
    {
     "name": "stdout",
     "output_type": "stream",
     "text": [
      "[200]\ttraining's l1: 1.02938\tvalid_1's l1: 0.940097\n",
      "Early stopping, best iteration is:\n",
      "[104]\ttraining's l1: 1.02942\tvalid_1's l1: 0.940073\n",
      "[LightGBM] [Warning] feature_fraction is set=0.7182430354752362, colsample_bytree=0.7 will be ignored. Current value: feature_fraction=0.7182430354752362\n",
      "[LightGBM] [Warning] bagging_fraction is set=0.979794827229539, subsample=0.5 will be ignored. Current value: bagging_fraction=0.979794827229539\n",
      "[LightGBM] [Warning] bagging_freq is set=7, subsample_freq=0 will be ignored. Current value: bagging_freq=7\n",
      "Training until validation scores don't improve for 100 rounds\n",
      "[100]\ttraining's l1: 1.0289\tvalid_1's l1: 0.938041\n",
      "[200]\ttraining's l1: 1.02474\tvalid_1's l1: 0.934385\n",
      "[300]\ttraining's l1: 1.02247\tvalid_1's l1: 0.932519\n",
      "[400]\ttraining's l1: 1.02087\tvalid_1's l1: 0.931761\n",
      "[500]\ttraining's l1: 1.01904\tvalid_1's l1: 0.931112\n"
     ]
    },
    {
     "name": "stderr",
     "output_type": "stream",
     "text": [
      "\u001b[32m[I 2021-07-04 20:58:45,295]\u001b[0m Trial 41 finished with value: -0.9308197587058836 and parameters: {'max_depth': 4, 'min_child_weight': 13, 'subsample': 0.5, 'colsample_bytree': 0.7, 'reg_lambda': 0.05825445161308668, 'reg_alpha': 2.241435195657907, 'feature_fraction': 0.7182430354752362, 'bagging_fraction': 0.979794827229539, 'bagging_freq': 7}. Best is trial 27 with value: -0.9267436539167699.\u001b[0m\n"
     ]
    },
    {
     "name": "stdout",
     "output_type": "stream",
     "text": [
      "Early stopping, best iteration is:\n",
      "[466]\ttraining's l1: 1.01932\tvalid_1's l1: 0.930832\n",
      "[LightGBM] [Warning] feature_fraction is set=0.754708284887599, colsample_bytree=0.7 will be ignored. Current value: feature_fraction=0.754708284887599\n",
      "[LightGBM] [Warning] bagging_fraction is set=0.92787028411278, subsample=0.5 will be ignored. Current value: bagging_fraction=0.92787028411278\n",
      "[LightGBM] [Warning] bagging_freq is set=5, subsample_freq=0 will be ignored. Current value: bagging_freq=5\n",
      "Training until validation scores don't improve for 100 rounds\n",
      "[100]\ttraining's l1: 1.0301\tvalid_1's l1: 0.938794\n",
      "[200]\ttraining's l1: 1.02445\tvalid_1's l1: 0.933568\n",
      "[300]\ttraining's l1: 1.02257\tvalid_1's l1: 0.931605\n",
      "[400]\ttraining's l1: 1.02189\tvalid_1's l1: 0.93124\n",
      "[500]\ttraining's l1: 1.02103\tvalid_1's l1: 0.930805\n",
      "[600]\ttraining's l1: 1.01994\tvalid_1's l1: 0.93072\n"
     ]
    },
    {
     "name": "stderr",
     "output_type": "stream",
     "text": [
      "\u001b[32m[I 2021-07-04 20:59:00,363]\u001b[0m Trial 42 finished with value: -0.930647829543787 and parameters: {'max_depth': 4, 'min_child_weight': 14, 'subsample': 0.5, 'colsample_bytree': 0.7, 'reg_lambda': 0.030607391189246526, 'reg_alpha': 47.619206490887784, 'feature_fraction': 0.754708284887599, 'bagging_fraction': 0.92787028411278, 'bagging_freq': 5}. Best is trial 27 with value: -0.9267436539167699.\u001b[0m\n"
     ]
    },
    {
     "name": "stdout",
     "output_type": "stream",
     "text": [
      "Early stopping, best iteration is:\n",
      "[529]\ttraining's l1: 1.02053\tvalid_1's l1: 0.930659\n",
      "[LightGBM] [Warning] feature_fraction is set=0.6985457851844918, colsample_bytree=0.8 will be ignored. Current value: feature_fraction=0.6985457851844918\n",
      "[LightGBM] [Warning] bagging_fraction is set=0.999908618472712, subsample=0.5 will be ignored. Current value: bagging_fraction=0.999908618472712\n",
      "[LightGBM] [Warning] bagging_freq is set=6, subsample_freq=0 will be ignored. Current value: bagging_freq=6\n",
      "Training until validation scores don't improve for 100 rounds\n",
      "[100]\ttraining's l1: 1.02403\tvalid_1's l1: 0.933575\n",
      "[200]\ttraining's l1: 1.02007\tvalid_1's l1: 0.931531\n"
     ]
    },
    {
     "name": "stderr",
     "output_type": "stream",
     "text": [
      "\u001b[32m[I 2021-07-04 20:59:08,196]\u001b[0m Trial 43 finished with value: -0.9314530073784327 and parameters: {'max_depth': 5, 'min_child_weight': 11, 'subsample': 0.5, 'colsample_bytree': 0.8, 'reg_lambda': 0.012028891569815112, 'reg_alpha': 4.7681762493063395, 'feature_fraction': 0.6985457851844918, 'bagging_fraction': 0.999908618472712, 'bagging_freq': 6}. Best is trial 27 with value: -0.9267436539167699.\u001b[0m\n"
     ]
    },
    {
     "name": "stdout",
     "output_type": "stream",
     "text": [
      "Early stopping, best iteration is:\n",
      "[179]\ttraining's l1: 1.02013\tvalid_1's l1: 0.931464\n",
      "[LightGBM] [Warning] feature_fraction is set=0.7932668213966376, colsample_bytree=0.6 will be ignored. Current value: feature_fraction=0.7932668213966376\n",
      "[LightGBM] [Warning] bagging_fraction is set=0.8805375561327032, subsample=0.5 will be ignored. Current value: bagging_fraction=0.8805375561327032\n",
      "[LightGBM] [Warning] bagging_freq is set=8, subsample_freq=0 will be ignored. Current value: bagging_freq=8\n",
      "Training until validation scores don't improve for 100 rounds\n",
      "[100]\ttraining's l1: 1.03588\tvalid_1's l1: 0.943782\n",
      "[200]\ttraining's l1: 1.0318\tvalid_1's l1: 0.939004\n",
      "[300]\ttraining's l1: 1.03022\tvalid_1's l1: 0.938305\n",
      "[400]\ttraining's l1: 1.02943\tvalid_1's l1: 0.937554\n",
      "[500]\ttraining's l1: 1.0287\tvalid_1's l1: 0.936639\n",
      "[600]\ttraining's l1: 1.02829\tvalid_1's l1: 0.936352\n",
      "[700]\ttraining's l1: 1.0272\tvalid_1's l1: 0.934883\n",
      "[800]\ttraining's l1: 1.02629\tvalid_1's l1: 0.934464\n",
      "[900]\ttraining's l1: 1.02593\tvalid_1's l1: 0.934007\n",
      "[1000]\ttraining's l1: 1.02559\tvalid_1's l1: 0.933716\n",
      "[1100]\ttraining's l1: 1.02535\tvalid_1's l1: 0.933548\n",
      "[1200]\ttraining's l1: 1.02409\tvalid_1's l1: 0.930746\n",
      "[1300]\ttraining's l1: 1.0239\tvalid_1's l1: 0.930748\n"
     ]
    },
    {
     "name": "stderr",
     "output_type": "stream",
     "text": [
      "\u001b[32m[I 2021-07-04 20:59:33,179]\u001b[0m Trial 44 finished with value: -0.9306541993562857 and parameters: {'max_depth': 3, 'min_child_weight': 13, 'subsample': 0.5, 'colsample_bytree': 0.6, 'reg_lambda': 0.5229728443696998, 'reg_alpha': 0.6563871355509515, 'feature_fraction': 0.7932668213966376, 'bagging_fraction': 0.8805375561327032, 'bagging_freq': 8}. Best is trial 27 with value: -0.9267436539167699.\u001b[0m\n"
     ]
    },
    {
     "name": "stdout",
     "output_type": "stream",
     "text": [
      "Early stopping, best iteration is:\n",
      "[1220]\ttraining's l1: 1.02397\tvalid_1's l1: 0.93067\n",
      "[LightGBM] [Warning] feature_fraction is set=0.8492443775902891, colsample_bytree=0.7 will be ignored. Current value: feature_fraction=0.8492443775902891\n",
      "[LightGBM] [Warning] bagging_fraction is set=0.9680639735469454, subsample=0.5 will be ignored. Current value: bagging_fraction=0.9680639735469454\n",
      "[LightGBM] [Warning] bagging_freq is set=7, subsample_freq=0 will be ignored. Current value: bagging_freq=7\n",
      "Training until validation scores don't improve for 100 rounds\n",
      "[100]\ttraining's l1: 1.05865\tvalid_1's l1: 0.97039\n",
      "[200]\ttraining's l1: 1.0583\tvalid_1's l1: 0.969906\n"
     ]
    },
    {
     "name": "stderr",
     "output_type": "stream",
     "text": [
      "\u001b[32m[I 2021-07-04 20:59:38,305]\u001b[0m Trial 45 finished with value: -0.9699053223922529 and parameters: {'max_depth': 1, 'min_child_weight': 14, 'subsample': 0.5, 'colsample_bytree': 0.7, 'reg_lambda': 1.2626436143518798, 'reg_alpha': 0.2409035005684708, 'feature_fraction': 0.8492443775902891, 'bagging_fraction': 0.9680639735469454, 'bagging_freq': 7}. Best is trial 27 with value: -0.9267436539167699.\u001b[0m\n"
     ]
    },
    {
     "name": "stdout",
     "output_type": "stream",
     "text": [
      "Early stopping, best iteration is:\n",
      "[136]\ttraining's l1: 1.05831\tvalid_1's l1: 0.969905\n",
      "[LightGBM] [Warning] feature_fraction is set=0.8073782887979116, colsample_bytree=0.7 will be ignored. Current value: feature_fraction=0.8073782887979116\n",
      "[LightGBM] [Warning] bagging_fraction is set=0.825994410362136, subsample=0.5 will be ignored. Current value: bagging_fraction=0.825994410362136\n",
      "[LightGBM] [Warning] bagging_freq is set=5, subsample_freq=0 will be ignored. Current value: bagging_freq=5\n",
      "Training until validation scores don't improve for 100 rounds\n",
      "[100]\ttraining's l1: 1.03243\tvalid_1's l1: 0.943194\n",
      "[200]\ttraining's l1: 1.03189\tvalid_1's l1: 0.942832\n"
     ]
    },
    {
     "name": "stderr",
     "output_type": "stream",
     "text": [
      "\u001b[32m[I 2021-07-04 20:59:46,480]\u001b[0m Trial 46 finished with value: -0.9428149495916532 and parameters: {'max_depth': 7, 'min_child_weight': 19, 'subsample': 0.5, 'colsample_bytree': 0.7, 'reg_lambda': 0.031959786518879596, 'reg_alpha': 2.252289333461801, 'feature_fraction': 0.8073782887979116, 'bagging_fraction': 0.825994410362136, 'bagging_freq': 5}. Best is trial 27 with value: -0.9267436539167699.\u001b[0m\n"
     ]
    },
    {
     "name": "stdout",
     "output_type": "stream",
     "text": [
      "[300]\ttraining's l1: 1.03181\tvalid_1's l1: 0.942923\n",
      "Early stopping, best iteration is:\n",
      "[204]\ttraining's l1: 1.03189\tvalid_1's l1: 0.942818\n",
      "[LightGBM] [Warning] feature_fraction is set=0.7717567691039577, colsample_bytree=0.8 will be ignored. Current value: feature_fraction=0.7717567691039577\n",
      "[LightGBM] [Warning] bagging_fraction is set=0.9169311404752869, subsample=0.8 will be ignored. Current value: bagging_fraction=0.9169311404752869\n",
      "[LightGBM] [Warning] bagging_freq is set=6, subsample_freq=0 will be ignored. Current value: bagging_freq=6\n",
      "Training until validation scores don't improve for 100 rounds\n",
      "[100]\ttraining's l1: 1.04413\tvalid_1's l1: 0.951054\n",
      "[200]\ttraining's l1: 1.04113\tvalid_1's l1: 0.947062\n",
      "[300]\ttraining's l1: 1.03994\tvalid_1's l1: 0.945014\n",
      "[400]\ttraining's l1: 1.03839\tvalid_1's l1: 0.943494\n",
      "[500]\ttraining's l1: 1.03802\tvalid_1's l1: 0.943333\n",
      "[600]\ttraining's l1: 1.03755\tvalid_1's l1: 0.942973\n",
      "[700]\ttraining's l1: 1.03701\tvalid_1's l1: 0.942107\n",
      "[800]\ttraining's l1: 1.03677\tvalid_1's l1: 0.941901\n",
      "[900]\ttraining's l1: 1.03654\tvalid_1's l1: 0.941866\n"
     ]
    },
    {
     "name": "stderr",
     "output_type": "stream",
     "text": [
      "\u001b[32m[I 2021-07-04 21:00:05,351]\u001b[0m Trial 47 finished with value: -0.9416696768391046 and parameters: {'max_depth': 2, 'min_child_weight': 10, 'subsample': 0.8, 'colsample_bytree': 0.8, 'reg_lambda': 0.17091823124638972, 'reg_alpha': 11.76979372592106, 'feature_fraction': 0.7717567691039577, 'bagging_fraction': 0.9169311404752869, 'bagging_freq': 6}. Best is trial 27 with value: -0.9267436539167699.\u001b[0m\n"
     ]
    },
    {
     "name": "stdout",
     "output_type": "stream",
     "text": [
      "Early stopping, best iteration is:\n",
      "[878]\ttraining's l1: 1.03661\tvalid_1's l1: 0.941675\n",
      "[LightGBM] [Warning] feature_fraction is set=0.8886576574831002, colsample_bytree=0.6 will be ignored. Current value: feature_fraction=0.8886576574831002\n",
      "[LightGBM] [Warning] bagging_fraction is set=0.9489145829625568, subsample=0.6 will be ignored. Current value: bagging_fraction=0.9489145829625568\n",
      "[LightGBM] [Warning] bagging_freq is set=7, subsample_freq=0 will be ignored. Current value: bagging_freq=7\n",
      "Training until validation scores don't improve for 100 rounds\n",
      "[100]\ttraining's l1: 1.0239\tvalid_1's l1: 0.934498\n",
      "[200]\ttraining's l1: 1.01838\tvalid_1's l1: 0.931396\n",
      "[300]\ttraining's l1: 1.01623\tvalid_1's l1: 0.930562\n",
      "[400]\ttraining's l1: 1.01297\tvalid_1's l1: 0.92844\n"
     ]
    },
    {
     "name": "stderr",
     "output_type": "stream",
     "text": [
      "\u001b[32m[I 2021-07-04 21:00:18,063]\u001b[0m Trial 48 finished with value: -0.9284007705727402 and parameters: {'max_depth': 5, 'min_child_weight': 16, 'subsample': 0.6, 'colsample_bytree': 0.6, 'reg_lambda': 0.0023040692858631545, 'reg_alpha': 0.24685074118710898, 'feature_fraction': 0.8886576574831002, 'bagging_fraction': 0.9489145829625568, 'bagging_freq': 7}. Best is trial 27 with value: -0.9267436539167699.\u001b[0m\n"
     ]
    },
    {
     "name": "stdout",
     "output_type": "stream",
     "text": [
      "[500]\ttraining's l1: 1.01136\tvalid_1's l1: 0.92956\n",
      "Early stopping, best iteration is:\n",
      "[404]\ttraining's l1: 1.01297\tvalid_1's l1: 0.928431\n",
      "[LightGBM] [Warning] feature_fraction is set=0.9119915191884347, colsample_bytree=0.5 will be ignored. Current value: feature_fraction=0.9119915191884347\n",
      "[LightGBM] [Warning] bagging_fraction is set=0.8905031764351488, subsample=0.6 will be ignored. Current value: bagging_fraction=0.8905031764351488\n",
      "[LightGBM] [Warning] bagging_freq is set=8, subsample_freq=0 will be ignored. Current value: bagging_freq=8\n",
      "Training until validation scores don't improve for 100 rounds\n",
      "[100]\ttraining's l1: 1.03788\tvalid_1's l1: 0.947286\n",
      "[200]\ttraining's l1: 1.03753\tvalid_1's l1: 0.946731\n",
      "[300]\ttraining's l1: 1.03672\tvalid_1's l1: 0.945835\n",
      "[400]\ttraining's l1: 1.03629\tvalid_1's l1: 0.945473\n",
      "[500]\ttraining's l1: 1.03541\tvalid_1's l1: 0.944224\n",
      "[600]\ttraining's l1: 1.03506\tvalid_1's l1: 0.943854\n",
      "[700]\ttraining's l1: 1.03505\tvalid_1's l1: 0.943849\n",
      "[800]\ttraining's l1: 1.03278\tvalid_1's l1: 0.941028\n",
      "[900]\ttraining's l1: 1.03103\tvalid_1's l1: 0.938777\n",
      "Early stopping, best iteration is:\n",
      "[852]\ttraining's l1: 1.03106\tvalid_1's l1: 0.938755\n"
     ]
    },
    {
     "name": "stderr",
     "output_type": "stream",
     "text": [
      "\u001b[32m[I 2021-07-04 21:00:40,993]\u001b[0m Trial 49 finished with value: -0.9387518980110917 and parameters: {'max_depth': 10, 'min_child_weight': 16, 'subsample': 0.6, 'colsample_bytree': 0.5, 'reg_lambda': 0.0024976337144591333, 'reg_alpha': 0.0048141021862863394, 'feature_fraction': 0.9119915191884347, 'bagging_fraction': 0.8905031764351488, 'bagging_freq': 8}. Best is trial 27 with value: -0.9267436539167699.\u001b[0m\n"
     ]
    },
    {
     "name": "stdout",
     "output_type": "stream",
     "text": [
      "[LightGBM] [Warning] feature_fraction is set=0.9577081148164568, colsample_bytree=0.6 will be ignored. Current value: feature_fraction=0.9577081148164568\n",
      "[LightGBM] [Warning] bagging_fraction is set=0.7235440532757318, subsample=0.7 will be ignored. Current value: bagging_fraction=0.7235440532757318\n",
      "[LightGBM] [Warning] bagging_freq is set=4, subsample_freq=0 will be ignored. Current value: bagging_freq=4\n",
      "Training until validation scores don't improve for 100 rounds\n",
      "[100]\ttraining's l1: 1.03826\tvalid_1's l1: 0.948507\n",
      "[200]\ttraining's l1: 1.03568\tvalid_1's l1: 0.945706\n",
      "[300]\ttraining's l1: 1.03535\tvalid_1's l1: 0.945359\n"
     ]
    },
    {
     "name": "stderr",
     "output_type": "stream",
     "text": [
      "\u001b[32m[I 2021-07-04 21:00:50,403]\u001b[0m Trial 50 finished with value: -0.9453518280088115 and parameters: {'max_depth': 12, 'min_child_weight': 17, 'subsample': 0.7, 'colsample_bytree': 0.6, 'reg_lambda': 0.005999867868893176, 'reg_alpha': 0.04874914783221586, 'feature_fraction': 0.9577081148164568, 'bagging_fraction': 0.7235440532757318, 'bagging_freq': 4}. Best is trial 27 with value: -0.9267436539167699.\u001b[0m\n"
     ]
    },
    {
     "name": "stdout",
     "output_type": "stream",
     "text": [
      "Early stopping, best iteration is:\n",
      "[255]\ttraining's l1: 1.03536\tvalid_1's l1: 0.945353\n",
      "[LightGBM] [Warning] feature_fraction is set=0.8738834281337372, colsample_bytree=0.6 will be ignored. Current value: feature_fraction=0.8738834281337372\n",
      "[LightGBM] [Warning] bagging_fraction is set=0.955849606897337, subsample=0.6 will be ignored. Current value: bagging_fraction=0.955849606897337\n",
      "[LightGBM] [Warning] bagging_freq is set=7, subsample_freq=0 will be ignored. Current value: bagging_freq=7\n",
      "Training until validation scores don't improve for 100 rounds\n",
      "[100]\ttraining's l1: 1.02304\tvalid_1's l1: 0.934442\n",
      "[200]\ttraining's l1: 1.01806\tvalid_1's l1: 0.931592\n",
      "[300]\ttraining's l1: 1.01546\tvalid_1's l1: 0.932079\n"
     ]
    },
    {
     "name": "stderr",
     "output_type": "stream",
     "text": [
      "\u001b[32m[I 2021-07-04 21:00:58,990]\u001b[0m Trial 51 finished with value: -0.9313360000703089 and parameters: {'max_depth': 5, 'min_child_weight': 16, 'subsample': 0.6, 'colsample_bytree': 0.6, 'reg_lambda': 0.016017858940093523, 'reg_alpha': 0.25466815377253754, 'feature_fraction': 0.8738834281337372, 'bagging_fraction': 0.955849606897337, 'bagging_freq': 7}. Best is trial 27 with value: -0.9267436539167699.\u001b[0m\n"
     ]
    },
    {
     "name": "stdout",
     "output_type": "stream",
     "text": [
      "Early stopping, best iteration is:\n",
      "[222]\ttraining's l1: 1.01736\tvalid_1's l1: 0.931344\n",
      "[LightGBM] [Warning] feature_fraction is set=0.8321639904391457, colsample_bytree=0.6 will be ignored. Current value: feature_fraction=0.8321639904391457\n",
      "[LightGBM] [Warning] bagging_fraction is set=0.9360599773036087, subsample=0.5 will be ignored. Current value: bagging_fraction=0.9360599773036087\n",
      "[LightGBM] [Warning] bagging_freq is set=7, subsample_freq=0 will be ignored. Current value: bagging_freq=7\n",
      "Training until validation scores don't improve for 100 rounds\n",
      "[100]\ttraining's l1: 1.02807\tvalid_1's l1: 0.936367\n",
      "[200]\ttraining's l1: 1.02465\tvalid_1's l1: 0.933141\n",
      "[300]\ttraining's l1: 1.02242\tvalid_1's l1: 0.931276\n",
      "[400]\ttraining's l1: 1.02018\tvalid_1's l1: 0.930015\n",
      "[500]\ttraining's l1: 1.01976\tvalid_1's l1: 0.929902\n",
      "[600]\ttraining's l1: 1.01838\tvalid_1's l1: 0.928254\n",
      "[700]\ttraining's l1: 1.01717\tvalid_1's l1: 0.92868\n"
     ]
    },
    {
     "name": "stderr",
     "output_type": "stream",
     "text": [
      "\u001b[32m[I 2021-07-04 21:01:15,085]\u001b[0m Trial 52 finished with value: -0.928018274467689 and parameters: {'max_depth': 4, 'min_child_weight': 12, 'subsample': 0.5, 'colsample_bytree': 0.6, 'reg_lambda': 0.002269746353294176, 'reg_alpha': 0.11278876257251554, 'feature_fraction': 0.8321639904391457, 'bagging_fraction': 0.9360599773036087, 'bagging_freq': 7}. Best is trial 27 with value: -0.9267436539167699.\u001b[0m\n"
     ]
    },
    {
     "name": "stdout",
     "output_type": "stream",
     "text": [
      "Early stopping, best iteration is:\n",
      "[616]\ttraining's l1: 1.01784\tvalid_1's l1: 0.928032\n",
      "[LightGBM] [Warning] feature_fraction is set=0.9076439523538058, colsample_bytree=0.5 will be ignored. Current value: feature_fraction=0.9076439523538058\n",
      "[LightGBM] [Warning] bagging_fraction is set=0.9346739726549621, subsample=0.5 will be ignored. Current value: bagging_fraction=0.9346739726549621\n",
      "[LightGBM] [Warning] bagging_freq is set=8, subsample_freq=0 will be ignored. Current value: bagging_freq=8\n",
      "Training until validation scores don't improve for 100 rounds\n",
      "[100]\ttraining's l1: 1.02763\tvalid_1's l1: 0.936658\n",
      "[200]\ttraining's l1: 1.02236\tvalid_1's l1: 0.933001\n",
      "[300]\ttraining's l1: 1.01974\tvalid_1's l1: 0.931403\n",
      "[400]\ttraining's l1: 1.01839\tvalid_1's l1: 0.930774\n",
      "[500]\ttraining's l1: 1.01577\tvalid_1's l1: 0.930375\n",
      "[600]\ttraining's l1: 1.01532\tvalid_1's l1: 0.930074\n"
     ]
    },
    {
     "name": "stderr",
     "output_type": "stream",
     "text": [
      "\u001b[32m[I 2021-07-04 21:01:31,283]\u001b[0m Trial 53 finished with value: -0.9300251294488996 and parameters: {'max_depth': 6, 'min_child_weight': 12, 'subsample': 0.5, 'colsample_bytree': 0.5, 'reg_lambda': 0.002034922640704024, 'reg_alpha': 0.11320752670795754, 'feature_fraction': 0.9076439523538058, 'bagging_fraction': 0.9346739726549621, 'bagging_freq': 8}. Best is trial 27 with value: -0.9267436539167699.\u001b[0m\n"
     ]
    },
    {
     "name": "stdout",
     "output_type": "stream",
     "text": [
      "Early stopping, best iteration is:\n",
      "[560]\ttraining's l1: 1.01535\tvalid_1's l1: 0.930045\n",
      "[LightGBM] [Warning] feature_fraction is set=0.8411930396113955, colsample_bytree=0.6 will be ignored. Current value: feature_fraction=0.8411930396113955\n",
      "[LightGBM] [Warning] bagging_fraction is set=0.9134907333285599, subsample=0.6 will be ignored. Current value: bagging_fraction=0.9134907333285599\n",
      "[LightGBM] [Warning] bagging_freq is set=6, subsample_freq=0 will be ignored. Current value: bagging_freq=6\n",
      "Training until validation scores don't improve for 100 rounds\n",
      "[100]\ttraining's l1: 1.03708\tvalid_1's l1: 0.944831\n",
      "[200]\ttraining's l1: 1.0328\tvalid_1's l1: 0.941117\n",
      "[300]\ttraining's l1: 1.03052\tvalid_1's l1: 0.938215\n",
      "[400]\ttraining's l1: 1.0292\tvalid_1's l1: 0.93596\n",
      "[500]\ttraining's l1: 1.02834\tvalid_1's l1: 0.935804\n",
      "[600]\ttraining's l1: 1.0279\tvalid_1's l1: 0.935506\n",
      "[700]\ttraining's l1: 1.02741\tvalid_1's l1: 0.93509\n",
      "[800]\ttraining's l1: 1.02678\tvalid_1's l1: 0.933711\n",
      "[900]\ttraining's l1: 1.02659\tvalid_1's l1: 0.933506\n",
      "[1000]\ttraining's l1: 1.02635\tvalid_1's l1: 0.93354\n"
     ]
    },
    {
     "name": "stderr",
     "output_type": "stream",
     "text": [
      "\u001b[32m[I 2021-07-04 21:01:52,423]\u001b[0m Trial 54 finished with value: -0.9334571660289587 and parameters: {'max_depth': 3, 'min_child_weight': 17, 'subsample': 0.6, 'colsample_bytree': 0.6, 'reg_lambda': 0.008048446153185663, 'reg_alpha': 0.012698547338835962, 'feature_fraction': 0.8411930396113955, 'bagging_fraction': 0.9134907333285599, 'bagging_freq': 6}. Best is trial 27 with value: -0.9267436539167699.\u001b[0m\n"
     ]
    },
    {
     "name": "stdout",
     "output_type": "stream",
     "text": [
      "Early stopping, best iteration is:\n",
      "[917]\ttraining's l1: 1.02658\tvalid_1's l1: 0.933494\n",
      "[LightGBM] [Warning] feature_fraction is set=0.868859046068909, colsample_bytree=0.6 will be ignored. Current value: feature_fraction=0.868859046068909\n",
      "[LightGBM] [Warning] bagging_fraction is set=0.8475567973921575, subsample=0.5 will be ignored. Current value: bagging_fraction=0.8475567973921575\n",
      "[LightGBM] [Warning] bagging_freq is set=7, subsample_freq=0 will be ignored. Current value: bagging_freq=7\n",
      "Training until validation scores don't improve for 100 rounds\n",
      "[100]\ttraining's l1: 1.02879\tvalid_1's l1: 0.937877\n",
      "[200]\ttraining's l1: 1.02428\tvalid_1's l1: 0.932708\n",
      "[300]\ttraining's l1: 1.02273\tvalid_1's l1: 0.932261\n",
      "[400]\ttraining's l1: 1.02106\tvalid_1's l1: 0.931127\n",
      "[500]\ttraining's l1: 1.01969\tvalid_1's l1: 0.929746\n",
      "[600]\ttraining's l1: 1.01838\tvalid_1's l1: 0.929095\n"
     ]
    },
    {
     "name": "stderr",
     "output_type": "stream",
     "text": [
      "\u001b[32m[I 2021-07-04 21:02:06,860]\u001b[0m Trial 55 finished with value: -0.9288811454819174 and parameters: {'max_depth': 4, 'min_child_weight': 15, 'subsample': 0.5, 'colsample_bytree': 0.6, 'reg_lambda': 0.0036294756093032446, 'reg_alpha': 0.06269430310145108, 'feature_fraction': 0.868859046068909, 'bagging_fraction': 0.8475567973921575, 'bagging_freq': 7}. Best is trial 27 with value: -0.9267436539167699.\u001b[0m\n"
     ]
    },
    {
     "name": "stdout",
     "output_type": "stream",
     "text": [
      "Early stopping, best iteration is:\n",
      "[587]\ttraining's l1: 1.01845\tvalid_1's l1: 0.928913\n",
      "[LightGBM] [Warning] feature_fraction is set=0.8732650087163678, colsample_bytree=0.6 will be ignored. Current value: feature_fraction=0.8732650087163678\n",
      "[LightGBM] [Warning] bagging_fraction is set=0.8466721721550399, subsample=0.5 will be ignored. Current value: bagging_fraction=0.8466721721550399\n",
      "[LightGBM] [Warning] bagging_freq is set=7, subsample_freq=0 will be ignored. Current value: bagging_freq=7\n",
      "Training until validation scores don't improve for 100 rounds\n",
      "[100]\ttraining's l1: 1.02922\tvalid_1's l1: 0.937671\n",
      "[200]\ttraining's l1: 1.02449\tvalid_1's l1: 0.93389\n",
      "[300]\ttraining's l1: 1.02301\tvalid_1's l1: 0.933195\n",
      "[400]\ttraining's l1: 1.02111\tvalid_1's l1: 0.932324\n"
     ]
    },
    {
     "name": "stderr",
     "output_type": "stream",
     "text": [
      "\u001b[32m[I 2021-07-04 21:02:16,920]\u001b[0m Trial 56 finished with value: -0.9318053613348259 and parameters: {'max_depth': 4, 'min_child_weight': 14, 'subsample': 0.5, 'colsample_bytree': 0.6, 'reg_lambda': 0.004559657065614215, 'reg_alpha': 0.02984418718716829, 'feature_fraction': 0.8732650087163678, 'bagging_fraction': 0.8466721721550399, 'bagging_freq': 7}. Best is trial 27 with value: -0.9267436539167699.\u001b[0m\n"
     ]
    },
    {
     "name": "stdout",
     "output_type": "stream",
     "text": [
      "Early stopping, best iteration is:\n",
      "[358]\ttraining's l1: 1.02155\tvalid_1's l1: 0.931815\n",
      "[LightGBM] [Warning] feature_fraction is set=0.94384155811488, colsample_bytree=0.6 will be ignored. Current value: feature_fraction=0.94384155811488\n",
      "[LightGBM] [Warning] bagging_fraction is set=0.8700024119641157, subsample=0.6 will be ignored. Current value: bagging_fraction=0.8700024119641157\n",
      "[LightGBM] [Warning] bagging_freq is set=8, subsample_freq=0 will be ignored. Current value: bagging_freq=8\n",
      "Training until validation scores don't improve for 100 rounds\n",
      "[100]\ttraining's l1: 1.03658\tvalid_1's l1: 0.945882\n",
      "[200]\ttraining's l1: 1.03366\tvalid_1's l1: 0.942728\n",
      "[300]\ttraining's l1: 1.03164\tvalid_1's l1: 0.941531\n",
      "[400]\ttraining's l1: 1.03089\tvalid_1's l1: 0.940595\n"
     ]
    },
    {
     "name": "stderr",
     "output_type": "stream",
     "text": [
      "\u001b[32m[I 2021-07-04 21:02:28,364]\u001b[0m Trial 57 finished with value: -0.9405817352932276 and parameters: {'max_depth': 8, 'min_child_weight': 15, 'subsample': 0.6, 'colsample_bytree': 0.6, 'reg_lambda': 0.001818563891920601, 'reg_alpha': 0.006311458026925996, 'feature_fraction': 0.94384155811488, 'bagging_fraction': 0.8700024119641157, 'bagging_freq': 8}. Best is trial 27 with value: -0.9267436539167699.\u001b[0m\n"
     ]
    },
    {
     "name": "stdout",
     "output_type": "stream",
     "text": [
      "Early stopping, best iteration is:\n",
      "[364]\ttraining's l1: 1.0309\tvalid_1's l1: 0.940586\n",
      "[LightGBM] [Warning] feature_fraction is set=0.8260834543166758, colsample_bytree=0.5 will be ignored. Current value: feature_fraction=0.8260834543166758\n",
      "[LightGBM] [Warning] bagging_fraction is set=0.807657020648241, subsample=0.5 will be ignored. Current value: bagging_fraction=0.807657020648241\n",
      "[LightGBM] [Warning] bagging_freq is set=9, subsample_freq=0 will be ignored. Current value: bagging_freq=9\n",
      "Training until validation scores don't improve for 100 rounds\n",
      "[100]\ttraining's l1: 1.03537\tvalid_1's l1: 0.943033\n",
      "[200]\ttraining's l1: 1.0317\tvalid_1's l1: 0.939192\n",
      "[300]\ttraining's l1: 1.0301\tvalid_1's l1: 0.93798\n",
      "[400]\ttraining's l1: 1.02886\tvalid_1's l1: 0.935587\n",
      "[500]\ttraining's l1: 1.02827\tvalid_1's l1: 0.934987\n",
      "[600]\ttraining's l1: 1.02737\tvalid_1's l1: 0.933476\n",
      "[700]\ttraining's l1: 1.02684\tvalid_1's l1: 0.932613\n",
      "[800]\ttraining's l1: 1.02626\tvalid_1's l1: 0.931987\n",
      "[900]\ttraining's l1: 1.02544\tvalid_1's l1: 0.931551\n"
     ]
    },
    {
     "name": "stderr",
     "output_type": "stream",
     "text": [
      "\u001b[32m[I 2021-07-04 21:02:45,849]\u001b[0m Trial 58 finished with value: -0.9314431060459653 and parameters: {'max_depth': 3, 'min_child_weight': 12, 'subsample': 0.5, 'colsample_bytree': 0.5, 'reg_lambda': 0.0027453574170034634, 'reg_alpha': 0.04169202137084196, 'feature_fraction': 0.8260834543166758, 'bagging_fraction': 0.807657020648241, 'bagging_freq': 9}. Best is trial 27 with value: -0.9267436539167699.\u001b[0m\n"
     ]
    },
    {
     "name": "stdout",
     "output_type": "stream",
     "text": [
      "Early stopping, best iteration is:\n",
      "[869]\ttraining's l1: 1.02567\tvalid_1's l1: 0.931455\n",
      "[LightGBM] [Warning] feature_fraction is set=0.728982942897659, colsample_bytree=0.6 will be ignored. Current value: feature_fraction=0.728982942897659\n",
      "[LightGBM] [Warning] bagging_fraction is set=0.7574915901131376, subsample=0.5 will be ignored. Current value: bagging_fraction=0.7574915901131376\n",
      "[LightGBM] [Warning] bagging_freq is set=7, subsample_freq=0 will be ignored. Current value: bagging_freq=7\n",
      "Training until validation scores don't improve for 100 rounds\n",
      "[100]\ttraining's l1: 1.04402\tvalid_1's l1: 0.950079\n",
      "[200]\ttraining's l1: 1.0405\tvalid_1's l1: 0.946827\n",
      "[300]\ttraining's l1: 1.03907\tvalid_1's l1: 0.945156\n",
      "[400]\ttraining's l1: 1.03804\tvalid_1's l1: 0.943678\n"
     ]
    },
    {
     "name": "stderr",
     "output_type": "stream",
     "text": [
      "\u001b[32m[I 2021-07-04 21:02:54,253]\u001b[0m Trial 59 finished with value: -0.9435701334219541 and parameters: {'max_depth': 2, 'min_child_weight': 5, 'subsample': 0.5, 'colsample_bytree': 0.6, 'reg_lambda': 0.001031264285964518, 'reg_alpha': 0.09253877919212544, 'feature_fraction': 0.728982942897659, 'bagging_fraction': 0.7574915901131376, 'bagging_freq': 7}. Best is trial 27 with value: -0.9267436539167699.\u001b[0m\n"
     ]
    },
    {
     "name": "stdout",
     "output_type": "stream",
     "text": [
      "Early stopping, best iteration is:\n",
      "[381]\ttraining's l1: 1.03807\tvalid_1's l1: 0.943582\n",
      "[LightGBM] [Warning] feature_fraction is set=0.8927210242747619, colsample_bytree=0.5 will be ignored. Current value: feature_fraction=0.8927210242747619\n",
      "[LightGBM] [Warning] bagging_fraction is set=0.8910135428699834, subsample=0.6 will be ignored. Current value: bagging_fraction=0.8910135428699834\n",
      "[LightGBM] [Warning] bagging_freq is set=6, subsample_freq=0 will be ignored. Current value: bagging_freq=6\n",
      "Training until validation scores don't improve for 100 rounds\n",
      "[100]\ttraining's l1: 1.0298\tvalid_1's l1: 0.939129\n",
      "[200]\ttraining's l1: 1.02534\tvalid_1's l1: 0.935325\n",
      "[300]\ttraining's l1: 1.02261\tvalid_1's l1: 0.933177\n",
      "[400]\ttraining's l1: 1.02132\tvalid_1's l1: 0.932116\n",
      "[500]\ttraining's l1: 1.02023\tvalid_1's l1: 0.931869\n",
      "[600]\ttraining's l1: 1.01918\tvalid_1's l1: 0.931712\n",
      "[700]\ttraining's l1: 1.01833\tvalid_1's l1: 0.931327\n",
      "[800]\ttraining's l1: 1.01699\tvalid_1's l1: 0.930241\n"
     ]
    },
    {
     "name": "stderr",
     "output_type": "stream",
     "text": [
      "\u001b[32m[I 2021-07-04 21:03:12,917]\u001b[0m Trial 60 finished with value: -0.9299835805853849 and parameters: {'max_depth': 4, 'min_child_weight': 11, 'subsample': 0.6, 'colsample_bytree': 0.5, 'reg_lambda': 0.001599996446617385, 'reg_alpha': 0.17690243728218077, 'feature_fraction': 0.8927210242747619, 'bagging_fraction': 0.8910135428699834, 'bagging_freq': 6}. Best is trial 27 with value: -0.9267436539167699.\u001b[0m\n"
     ]
    },
    {
     "name": "stdout",
     "output_type": "stream",
     "text": [
      "Early stopping, best iteration is:\n",
      "[744]\ttraining's l1: 1.0173\tvalid_1's l1: 0.930011\n",
      "[LightGBM] [Warning] feature_fraction is set=0.8624315366095107, colsample_bytree=0.6 will be ignored. Current value: feature_fraction=0.8624315366095107\n",
      "[LightGBM] [Warning] bagging_fraction is set=0.9335453509269271, subsample=0.5 will be ignored. Current value: bagging_fraction=0.9335453509269271\n",
      "[LightGBM] [Warning] bagging_freq is set=7, subsample_freq=0 will be ignored. Current value: bagging_freq=7\n",
      "Training until validation scores don't improve for 100 rounds\n",
      "[100]\ttraining's l1: 1.02666\tvalid_1's l1: 0.936202\n",
      "[200]\ttraining's l1: 1.02359\tvalid_1's l1: 0.932902\n",
      "[300]\ttraining's l1: 1.02096\tvalid_1's l1: 0.931129\n"
     ]
    },
    {
     "name": "stderr",
     "output_type": "stream",
     "text": [
      "\u001b[32m[I 2021-07-04 21:03:23,335]\u001b[0m Trial 61 finished with value: -0.9311180970192803 and parameters: {'max_depth': 6, 'min_child_weight': 15, 'subsample': 0.5, 'colsample_bytree': 0.6, 'reg_lambda': 0.009085633347204206, 'reg_alpha': 0.06609468391048248, 'feature_fraction': 0.8624315366095107, 'bagging_fraction': 0.9335453509269271, 'bagging_freq': 7}. Best is trial 27 with value: -0.9267436539167699.\u001b[0m\n"
     ]
    },
    {
     "name": "stdout",
     "output_type": "stream",
     "text": [
      "Early stopping, best iteration is:\n",
      "[298]\ttraining's l1: 1.02096\tvalid_1's l1: 0.931127\n",
      "[LightGBM] [Warning] feature_fraction is set=0.7967574303943841, colsample_bytree=0.6 will be ignored. Current value: feature_fraction=0.7967574303943841\n",
      "[LightGBM] [Warning] bagging_fraction is set=0.949410462276686, subsample=0.5 will be ignored. Current value: bagging_fraction=0.949410462276686\n",
      "[LightGBM] [Warning] bagging_freq is set=5, subsample_freq=0 will be ignored. Current value: bagging_freq=5\n",
      "Training until validation scores don't improve for 100 rounds\n",
      "[100]\ttraining's l1: 1.02272\tvalid_1's l1: 0.933225\n",
      "[200]\ttraining's l1: 1.01798\tvalid_1's l1: 0.9299\n",
      "[300]\ttraining's l1: 1.01445\tvalid_1's l1: 0.929403\n",
      "[400]\ttraining's l1: 1.01285\tvalid_1's l1: 0.929226\n"
     ]
    },
    {
     "name": "stderr",
     "output_type": "stream",
     "text": [
      "\u001b[32m[I 2021-07-04 21:03:34,657]\u001b[0m Trial 62 finished with value: -0.9290119350641597 and parameters: {'max_depth': 5, 'min_child_weight': 19, 'subsample': 0.5, 'colsample_bytree': 0.6, 'reg_lambda': 0.005900589413451134, 'reg_alpha': 0.5994957003817172, 'feature_fraction': 0.7967574303943841, 'bagging_fraction': 0.949410462276686, 'bagging_freq': 5}. Best is trial 27 with value: -0.9267436539167699.\u001b[0m\n"
     ]
    },
    {
     "name": "stdout",
     "output_type": "stream",
     "text": [
      "Early stopping, best iteration is:\n",
      "[321]\ttraining's l1: 1.01355\tvalid_1's l1: 0.929025\n",
      "[LightGBM] [Warning] feature_fraction is set=0.8116255852967985, colsample_bytree=0.6 will be ignored. Current value: feature_fraction=0.8116255852967985\n",
      "[LightGBM] [Warning] bagging_fraction is set=0.9871697522264802, subsample=0.5 will be ignored. Current value: bagging_fraction=0.9871697522264802\n",
      "[LightGBM] [Warning] bagging_freq is set=6, subsample_freq=0 will be ignored. Current value: bagging_freq=6\n",
      "Training until validation scores don't improve for 100 rounds\n",
      "[100]\ttraining's l1: 1.02756\tvalid_1's l1: 0.938372\n",
      "[200]\ttraining's l1: 1.02407\tvalid_1's l1: 0.9361\n",
      "[300]\ttraining's l1: 1.02337\tvalid_1's l1: 0.935106\n"
     ]
    },
    {
     "name": "stderr",
     "output_type": "stream",
     "text": [
      "\u001b[32m[I 2021-07-04 21:03:44,430]\u001b[0m Trial 63 finished with value: -0.9350032903078043 and parameters: {'max_depth': 6, 'min_child_weight': 20, 'subsample': 0.5, 'colsample_bytree': 0.6, 'reg_lambda': 0.006218453765360153, 'reg_alpha': 0.6266964552103748, 'feature_fraction': 0.8116255852967985, 'bagging_fraction': 0.9871697522264802, 'bagging_freq': 6}. Best is trial 27 with value: -0.9267436539167699.\u001b[0m\n"
     ]
    },
    {
     "name": "stdout",
     "output_type": "stream",
     "text": [
      "Early stopping, best iteration is:\n",
      "[249]\ttraining's l1: 1.02344\tvalid_1's l1: 0.935005\n",
      "[LightGBM] [Warning] feature_fraction is set=0.799668534134924, colsample_bytree=0.6 will be ignored. Current value: feature_fraction=0.799668534134924\n",
      "[LightGBM] [Warning] bagging_fraction is set=0.8618417289763024, subsample=0.5 will be ignored. Current value: bagging_fraction=0.8618417289763024\n",
      "[LightGBM] [Warning] bagging_freq is set=7, subsample_freq=0 will be ignored. Current value: bagging_freq=7\n",
      "Training until validation scores don't improve for 100 rounds\n",
      "[100]\ttraining's l1: 1.02415\tvalid_1's l1: 0.932655\n",
      "[200]\ttraining's l1: 1.02055\tvalid_1's l1: 0.93006\n"
     ]
    },
    {
     "name": "stderr",
     "output_type": "stream",
     "text": [
      "\u001b[32m[I 2021-07-04 21:03:51,155]\u001b[0m Trial 64 finished with value: -0.9299785051878989 and parameters: {'max_depth': 5, 'min_child_weight': 19, 'subsample': 0.5, 'colsample_bytree': 0.6, 'reg_lambda': 0.0010022659523015284, 'reg_alpha': 0.2680707151403393, 'feature_fraction': 0.799668534134924, 'bagging_fraction': 0.8618417289763024, 'bagging_freq': 7}. Best is trial 27 with value: -0.9267436539167699.\u001b[0m\n"
     ]
    },
    {
     "name": "stdout",
     "output_type": "stream",
     "text": [
      "Early stopping, best iteration is:\n",
      "[163]\ttraining's l1: 1.02097\tvalid_1's l1: 0.929983\n",
      "[LightGBM] [Warning] feature_fraction is set=0.7572816714966802, colsample_bytree=0.6 will be ignored. Current value: feature_fraction=0.7572816714966802\n",
      "[LightGBM] [Warning] bagging_fraction is set=0.9514726340190944, subsample=0.5 will be ignored. Current value: bagging_fraction=0.9514726340190944\n",
      "[LightGBM] [Warning] bagging_freq is set=6, subsample_freq=0 will be ignored. Current value: bagging_freq=6\n",
      "Training until validation scores don't improve for 100 rounds\n",
      "[100]\ttraining's l1: 1.03301\tvalid_1's l1: 0.942152\n",
      "[200]\ttraining's l1: 1.03196\tvalid_1's l1: 0.940746\n"
     ]
    },
    {
     "name": "stderr",
     "output_type": "stream",
     "text": [
      "\u001b[32m[I 2021-07-04 21:03:58,095]\u001b[0m Trial 65 finished with value: -0.9407378346560274 and parameters: {'max_depth': 7, 'min_child_weight': 5, 'subsample': 0.5, 'colsample_bytree': 0.6, 'reg_lambda': 0.0029632893957620495, 'reg_alpha': 1.4079238335645017, 'feature_fraction': 0.7572816714966802, 'bagging_fraction': 0.9514726340190944, 'bagging_freq': 6}. Best is trial 27 with value: -0.9267436539167699.\u001b[0m\n"
     ]
    },
    {
     "name": "stdout",
     "output_type": "stream",
     "text": [
      "Early stopping, best iteration is:\n",
      "[136]\ttraining's l1: 1.03197\tvalid_1's l1: 0.940738\n",
      "[LightGBM] [Warning] feature_fraction is set=0.6725097779092892, colsample_bytree=0.6 will be ignored. Current value: feature_fraction=0.6725097779092892\n",
      "[LightGBM] [Warning] bagging_fraction is set=0.914355759559465, subsample=0.7 will be ignored. Current value: bagging_fraction=0.914355759559465\n",
      "[LightGBM] [Warning] bagging_freq is set=5, subsample_freq=0 will be ignored. Current value: bagging_freq=5\n",
      "Training until validation scores don't improve for 100 rounds\n",
      "[100]\ttraining's l1: 1.03062\tvalid_1's l1: 0.939055\n",
      "[200]\ttraining's l1: 1.03058\tvalid_1's l1: 0.939023\n",
      "[300]\ttraining's l1: 1.03057\tvalid_1's l1: 0.939002\n"
     ]
    },
    {
     "name": "stderr",
     "output_type": "stream",
     "text": [
      "\u001b[32m[I 2021-07-04 21:04:07,137]\u001b[0m Trial 66 finished with value: -0.9389979057637609 and parameters: {'max_depth': 4, 'min_child_weight': 13, 'subsample': 0.7, 'colsample_bytree': 0.6, 'reg_lambda': 0.005171377111970111, 'reg_alpha': 29.27490812297101, 'feature_fraction': 0.6725097779092892, 'bagging_fraction': 0.914355759559465, 'bagging_freq': 5}. Best is trial 27 with value: -0.9267436539167699.\u001b[0m\n"
     ]
    },
    {
     "name": "stdout",
     "output_type": "stream",
     "text": [
      "Early stopping, best iteration is:\n",
      "[278]\ttraining's l1: 1.03057\tvalid_1's l1: 0.939\n",
      "[LightGBM] [Warning] feature_fraction is set=0.7854352090238046, colsample_bytree=0.6 will be ignored. Current value: feature_fraction=0.7854352090238046\n",
      "[LightGBM] [Warning] bagging_fraction is set=0.5093729998711858, subsample=0.5 will be ignored. Current value: bagging_fraction=0.5093729998711858\n",
      "[LightGBM] [Warning] bagging_freq is set=7, subsample_freq=0 will be ignored. Current value: bagging_freq=7\n",
      "Training until validation scores don't improve for 100 rounds\n",
      "[100]\ttraining's l1: 1.03681\tvalid_1's l1: 0.944924\n",
      "[200]\ttraining's l1: 1.03195\tvalid_1's l1: 0.940086\n",
      "[300]\ttraining's l1: 1.03106\tvalid_1's l1: 0.939567\n",
      "[400]\ttraining's l1: 1.02962\tvalid_1's l1: 0.937189\n",
      "[500]\ttraining's l1: 1.02893\tvalid_1's l1: 0.936943\n"
     ]
    },
    {
     "name": "stderr",
     "output_type": "stream",
     "text": [
      "\u001b[32m[I 2021-07-04 21:04:14,991]\u001b[0m Trial 67 finished with value: -0.9368669833478994 and parameters: {'max_depth': 3, 'min_child_weight': 3, 'subsample': 0.5, 'colsample_bytree': 0.6, 'reg_lambda': 0.0015428356195521433, 'reg_alpha': 0.8046682541542958, 'feature_fraction': 0.7854352090238046, 'bagging_fraction': 0.5093729998711858, 'bagging_freq': 7}. Best is trial 27 with value: -0.9267436539167699.\u001b[0m\n"
     ]
    },
    {
     "name": "stdout",
     "output_type": "stream",
     "text": [
      "Early stopping, best iteration is:\n",
      "[441]\ttraining's l1: 1.02928\tvalid_1's l1: 0.936871\n",
      "[LightGBM] [Warning] feature_fraction is set=0.829601947336136, colsample_bytree=0.5 will be ignored. Current value: feature_fraction=0.829601947336136\n",
      "[LightGBM] [Warning] bagging_fraction is set=0.8086438891974616, subsample=0.5 will be ignored. Current value: bagging_fraction=0.8086438891974616\n",
      "[LightGBM] [Warning] bagging_freq is set=6, subsample_freq=0 will be ignored. Current value: bagging_freq=6\n",
      "Training until validation scores don't improve for 100 rounds\n",
      "[100]\ttraining's l1: 1.02455\tvalid_1's l1: 0.935059\n",
      "[200]\ttraining's l1: 1.01763\tvalid_1's l1: 0.931548\n"
     ]
    },
    {
     "name": "stderr",
     "output_type": "stream",
     "text": [
      "\u001b[32m[I 2021-07-04 21:04:22,530]\u001b[0m Trial 68 finished with value: -0.9314778425558404 and parameters: {'max_depth': 5, 'min_child_weight': 4, 'subsample': 0.5, 'colsample_bytree': 0.5, 'reg_lambda': 0.00942801111123963, 'reg_alpha': 8.246330397928284, 'feature_fraction': 0.829601947336136, 'bagging_fraction': 0.8086438891974616, 'bagging_freq': 6}. Best is trial 27 with value: -0.9267436539167699.\u001b[0m\n"
     ]
    },
    {
     "name": "stdout",
     "output_type": "stream",
     "text": [
      "[300]\ttraining's l1: 1.0159\tvalid_1's l1: 0.932148\n",
      "Early stopping, best iteration is:\n",
      "[204]\ttraining's l1: 1.01753\tvalid_1's l1: 0.93149\n",
      "[LightGBM] [Warning] feature_fraction is set=0.8912623418459045, colsample_bytree=0.6 will be ignored. Current value: feature_fraction=0.8912623418459045\n",
      "[LightGBM] [Warning] bagging_fraction is set=0.872806015883849, subsample=0.6 will be ignored. Current value: bagging_fraction=0.872806015883849\n",
      "[LightGBM] [Warning] bagging_freq is set=7, subsample_freq=0 will be ignored. Current value: bagging_freq=7\n",
      "Training until validation scores don't improve for 100 rounds\n",
      "[100]\ttraining's l1: 1.05863\tvalid_1's l1: 0.970344\n"
     ]
    },
    {
     "name": "stderr",
     "output_type": "stream",
     "text": [
      "\u001b[32m[I 2021-07-04 21:04:26,469]\u001b[0m Trial 69 finished with value: -0.9703354302294331 and parameters: {'max_depth': 1, 'min_child_weight': 10, 'subsample': 0.6, 'colsample_bytree': 0.6, 'reg_lambda': 7.873610186511295, 'reg_alpha': 0.021467519640477887, 'feature_fraction': 0.8912623418459045, 'bagging_fraction': 0.872806015883849, 'bagging_freq': 7}. Best is trial 27 with value: -0.9267436539167699.\u001b[0m\n"
     ]
    },
    {
     "name": "stdout",
     "output_type": "stream",
     "text": [
      "Early stopping, best iteration is:\n",
      "[76]\ttraining's l1: 1.05864\tvalid_1's l1: 0.970335\n",
      "[LightGBM] [Warning] feature_fraction is set=0.9823675404654282, colsample_bytree=0.9 will be ignored. Current value: feature_fraction=0.9823675404654282\n",
      "[LightGBM] [Warning] bagging_fraction is set=0.9749338179556836, subsample=0.5 will be ignored. Current value: bagging_fraction=0.9749338179556836\n",
      "[LightGBM] [Warning] bagging_freq is set=8, subsample_freq=0 will be ignored. Current value: bagging_freq=8\n",
      "Training until validation scores don't improve for 100 rounds\n",
      "[100]\ttraining's l1: 1.03701\tvalid_1's l1: 0.946243\n"
     ]
    },
    {
     "name": "stderr",
     "output_type": "stream",
     "text": [
      "\u001b[32m[I 2021-07-04 21:04:31,882]\u001b[0m Trial 70 finished with value: -0.9460581377758389 and parameters: {'max_depth': 9, 'min_child_weight': 14, 'subsample': 0.5, 'colsample_bytree': 0.9, 'reg_lambda': 0.021808373660537755, 'reg_alpha': 0.13865326239531792, 'feature_fraction': 0.9823675404654282, 'bagging_fraction': 0.9749338179556836, 'bagging_freq': 8}. Best is trial 27 with value: -0.9267436539167699.\u001b[0m\n"
     ]
    },
    {
     "name": "stdout",
     "output_type": "stream",
     "text": [
      "Early stopping, best iteration is:\n",
      "[72]\ttraining's l1: 1.0372\tvalid_1's l1: 0.946059\n",
      "[LightGBM] [Warning] feature_fraction is set=0.8485841497023222, colsample_bytree=0.7 will be ignored. Current value: feature_fraction=0.8485841497023222\n",
      "[LightGBM] [Warning] bagging_fraction is set=0.9439771263329383, subsample=0.5 will be ignored. Current value: bagging_fraction=0.9439771263329383\n",
      "[LightGBM] [Warning] bagging_freq is set=5, subsample_freq=0 will be ignored. Current value: bagging_freq=5\n",
      "Training until validation scores don't improve for 100 rounds\n",
      "[100]\ttraining's l1: 1.02333\tvalid_1's l1: 0.933787\n",
      "[200]\ttraining's l1: 1.01713\tvalid_1's l1: 0.931332\n",
      "[300]\ttraining's l1: 1.01498\tvalid_1's l1: 0.930924\n"
     ]
    },
    {
     "name": "stderr",
     "output_type": "stream",
     "text": [
      "\u001b[32m[I 2021-07-04 21:04:41,632]\u001b[0m Trial 71 finished with value: -0.9300282560687584 and parameters: {'max_depth': 5, 'min_child_weight': 19, 'subsample': 0.5, 'colsample_bytree': 0.7, 'reg_lambda': 0.003355837877400696, 'reg_alpha': 0.3464897355974882, 'feature_fraction': 0.8485841497023222, 'bagging_fraction': 0.9439771263329383, 'bagging_freq': 5}. Best is trial 27 with value: -0.9267436539167699.\u001b[0m\n"
     ]
    },
    {
     "name": "stdout",
     "output_type": "stream",
     "text": [
      "Early stopping, best iteration is:\n",
      "[255]\ttraining's l1: 1.01606\tvalid_1's l1: 0.930049\n",
      "[LightGBM] [Warning] feature_fraction is set=0.8241581957174232, colsample_bytree=0.8 will be ignored. Current value: feature_fraction=0.8241581957174232\n",
      "[LightGBM] [Warning] bagging_fraction is set=0.9026817646717998, subsample=0.5 will be ignored. Current value: bagging_fraction=0.9026817646717998\n",
      "[LightGBM] [Warning] bagging_freq is set=5, subsample_freq=0 will be ignored. Current value: bagging_freq=5\n",
      "Training until validation scores don't improve for 100 rounds\n",
      "[100]\ttraining's l1: 1.02973\tvalid_1's l1: 0.938036\n",
      "[200]\ttraining's l1: 1.02548\tvalid_1's l1: 0.933968\n",
      "[300]\ttraining's l1: 1.02292\tvalid_1's l1: 0.932873\n",
      "[400]\ttraining's l1: 1.02206\tvalid_1's l1: 0.932308\n",
      "[500]\ttraining's l1: 1.01982\tvalid_1's l1: 0.931156\n",
      "[600]\ttraining's l1: 1.01859\tvalid_1's l1: 0.930806\n",
      "[700]\ttraining's l1: 1.01765\tvalid_1's l1: 0.930537\n"
     ]
    },
    {
     "name": "stderr",
     "output_type": "stream",
     "text": [
      "\u001b[32m[I 2021-07-04 21:04:59,497]\u001b[0m Trial 72 finished with value: -0.9302741594816271 and parameters: {'max_depth': 4, 'min_child_weight': 17, 'subsample': 0.5, 'colsample_bytree': 0.8, 'reg_lambda': 0.020464912343397472, 'reg_alpha': 1.7122637678143142, 'feature_fraction': 0.8241581957174232, 'bagging_fraction': 0.9026817646717998, 'bagging_freq': 5}. Best is trial 27 with value: -0.9267436539167699.\u001b[0m\n"
     ]
    },
    {
     "name": "stdout",
     "output_type": "stream",
     "text": [
      "Early stopping, best iteration is:\n",
      "[658]\ttraining's l1: 1.01783\tvalid_1's l1: 0.930315\n",
      "[LightGBM] [Warning] feature_fraction is set=0.8618100049910177, colsample_bytree=0.7 will be ignored. Current value: feature_fraction=0.8618100049910177\n",
      "[LightGBM] [Warning] bagging_fraction is set=0.9204699116978601, subsample=0.5 will be ignored. Current value: bagging_fraction=0.9204699116978601\n",
      "[LightGBM] [Warning] bagging_freq is set=5, subsample_freq=0 will be ignored. Current value: bagging_freq=5\n",
      "Training until validation scores don't improve for 100 rounds\n",
      "[100]\ttraining's l1: 1.02404\tvalid_1's l1: 0.935272\n",
      "[200]\ttraining's l1: 1.01831\tvalid_1's l1: 0.930691\n",
      "[300]\ttraining's l1: 1.01607\tvalid_1's l1: 0.929692\n",
      "[400]\ttraining's l1: 1.01406\tvalid_1's l1: 0.930011\n"
     ]
    },
    {
     "name": "stderr",
     "output_type": "stream",
     "text": [
      "\u001b[32m[I 2021-07-04 21:05:10,955]\u001b[0m Trial 73 finished with value: -0.9294676180163842 and parameters: {'max_depth': 5, 'min_child_weight': 18, 'subsample': 0.5, 'colsample_bytree': 0.7, 'reg_lambda': 0.00497906318313947, 'reg_alpha': 0.38238548818774976, 'feature_fraction': 0.8618100049910177, 'bagging_fraction': 0.9204699116978601, 'bagging_freq': 5}. Best is trial 27 with value: -0.9267436539167699.\u001b[0m\n"
     ]
    },
    {
     "name": "stdout",
     "output_type": "stream",
     "text": [
      "Early stopping, best iteration is:\n",
      "[334]\ttraining's l1: 1.01526\tvalid_1's l1: 0.92948\n",
      "[LightGBM] [Warning] feature_fraction is set=0.9204583135607693, colsample_bytree=0.7 will be ignored. Current value: feature_fraction=0.9204583135607693\n",
      "[LightGBM] [Warning] bagging_fraction is set=0.9608991671989859, subsample=0.5 will be ignored. Current value: bagging_fraction=0.9608991671989859\n",
      "[LightGBM] [Warning] bagging_freq is set=6, subsample_freq=0 will be ignored. Current value: bagging_freq=6\n",
      "Training until validation scores don't improve for 100 rounds\n",
      "[100]\ttraining's l1: 1.02852\tvalid_1's l1: 0.939324\n",
      "[200]\ttraining's l1: 1.02297\tvalid_1's l1: 0.933886\n",
      "[300]\ttraining's l1: 1.02092\tvalid_1's l1: 0.932231\n",
      "[400]\ttraining's l1: 1.01932\tvalid_1's l1: 0.931071\n"
     ]
    },
    {
     "name": "stderr",
     "output_type": "stream",
     "text": [
      "\u001b[32m[I 2021-07-04 21:05:24,197]\u001b[0m Trial 74 finished with value: -0.9310430248925013 and parameters: {'max_depth': 6, 'min_child_weight': 16, 'subsample': 0.5, 'colsample_bytree': 0.7, 'reg_lambda': 0.04545521017018042, 'reg_alpha': 0.8156031773305756, 'feature_fraction': 0.9204583135607693, 'bagging_fraction': 0.9608991671989859, 'bagging_freq': 6}. Best is trial 27 with value: -0.9267436539167699.\u001b[0m\n"
     ]
    },
    {
     "name": "stdout",
     "output_type": "stream",
     "text": [
      "Early stopping, best iteration is:\n",
      "[396]\ttraining's l1: 1.01933\tvalid_1's l1: 0.931054\n",
      "[LightGBM] [Warning] feature_fraction is set=0.7145661704936036, colsample_bytree=0.8 will be ignored. Current value: feature_fraction=0.7145661704936036\n",
      "[LightGBM] [Warning] bagging_fraction is set=0.9379631699527656, subsample=0.5 will be ignored. Current value: bagging_fraction=0.9379631699527656\n",
      "[LightGBM] [Warning] bagging_freq is set=9, subsample_freq=0 will be ignored. Current value: bagging_freq=9\n",
      "Training until validation scores don't improve for 100 rounds\n",
      "[100]\ttraining's l1: 1.04408\tvalid_1's l1: 0.950127\n",
      "[200]\ttraining's l1: 1.04055\tvalid_1's l1: 0.946655\n",
      "[300]\ttraining's l1: 1.03919\tvalid_1's l1: 0.944649\n",
      "[400]\ttraining's l1: 1.03812\tvalid_1's l1: 0.943403\n",
      "[500]\ttraining's l1: 1.03744\tvalid_1's l1: 0.943149\n",
      "[600]\ttraining's l1: 1.03698\tvalid_1's l1: 0.942585\n",
      "[700]\ttraining's l1: 1.03688\tvalid_1's l1: 0.942633\n",
      "[800]\ttraining's l1: 1.03655\tvalid_1's l1: 0.942138\n",
      "[900]\ttraining's l1: 1.03615\tvalid_1's l1: 0.941688\n"
     ]
    },
    {
     "name": "stderr",
     "output_type": "stream",
     "text": [
      "\u001b[32m[I 2021-07-04 21:05:41,397]\u001b[0m Trial 75 finished with value: -0.9416061113965019 and parameters: {'max_depth': 2, 'min_child_weight': 15, 'subsample': 0.5, 'colsample_bytree': 0.8, 'reg_lambda': 0.0022336218588287523, 'reg_alpha': 0.5033657873002256, 'feature_fraction': 0.7145661704936036, 'bagging_fraction': 0.9379631699527656, 'bagging_freq': 9}. Best is trial 27 with value: -0.9267436539167699.\u001b[0m\n"
     ]
    },
    {
     "name": "stdout",
     "output_type": "stream",
     "text": [
      "Early stopping, best iteration is:\n",
      "[847]\ttraining's l1: 1.03617\tvalid_1's l1: 0.941623\n",
      "[LightGBM] [Warning] feature_fraction is set=0.7628014513752579, colsample_bytree=0.6 will be ignored. Current value: feature_fraction=0.7628014513752579\n",
      "[LightGBM] [Warning] bagging_fraction is set=0.9921329974837818, subsample=0.5 will be ignored. Current value: bagging_fraction=0.9921329974837818\n",
      "[LightGBM] [Warning] bagging_freq is set=6, subsample_freq=0 will be ignored. Current value: bagging_freq=6\n",
      "Training until validation scores don't improve for 100 rounds\n",
      "[100]\ttraining's l1: 1.03651\tvalid_1's l1: 0.943792\n",
      "[200]\ttraining's l1: 1.03222\tvalid_1's l1: 0.939333\n",
      "[300]\ttraining's l1: 1.03081\tvalid_1's l1: 0.937979\n",
      "[400]\ttraining's l1: 1.02954\tvalid_1's l1: 0.936736\n",
      "[500]\ttraining's l1: 1.0293\tvalid_1's l1: 0.9366\n",
      "[600]\ttraining's l1: 1.02867\tvalid_1's l1: 0.935518\n",
      "[700]\ttraining's l1: 1.02831\tvalid_1's l1: 0.93519\n"
     ]
    },
    {
     "name": "stderr",
     "output_type": "stream",
     "text": [
      "\u001b[32m[I 2021-07-04 21:05:58,495]\u001b[0m Trial 76 finished with value: -0.9351095182421929 and parameters: {'max_depth': 3, 'min_child_weight': 6, 'subsample': 0.5, 'colsample_bytree': 0.6, 'reg_lambda': 0.01072711013699896, 'reg_alpha': 0.08156267204010188, 'feature_fraction': 0.7628014513752579, 'bagging_fraction': 0.9921329974837818, 'bagging_freq': 6}. Best is trial 27 with value: -0.9267436539167699.\u001b[0m\n"
     ]
    },
    {
     "name": "stdout",
     "output_type": "stream",
     "text": [
      "Early stopping, best iteration is:\n",
      "[666]\ttraining's l1: 1.02841\tvalid_1's l1: 0.935125\n",
      "[LightGBM] [Warning] feature_fraction is set=0.8809458858248299, colsample_bytree=0.8 will be ignored. Current value: feature_fraction=0.8809458858248299\n",
      "[LightGBM] [Warning] bagging_fraction is set=0.8989320359843076, subsample=0.5 will be ignored. Current value: bagging_fraction=0.8989320359843076\n",
      "[LightGBM] [Warning] bagging_freq is set=5, subsample_freq=0 will be ignored. Current value: bagging_freq=5\n",
      "Training until validation scores don't improve for 100 rounds\n",
      "[100]\ttraining's l1: 1.02919\tvalid_1's l1: 0.937747\n",
      "[200]\ttraining's l1: 1.0254\tvalid_1's l1: 0.934486\n",
      "[300]\ttraining's l1: 1.02413\tvalid_1's l1: 0.934216\n",
      "[400]\ttraining's l1: 1.02292\tvalid_1's l1: 0.93313\n",
      "[500]\ttraining's l1: 1.02161\tvalid_1's l1: 0.931393\n",
      "[600]\ttraining's l1: 1.02078\tvalid_1's l1: 0.931141\n",
      "[700]\ttraining's l1: 1.02035\tvalid_1's l1: 0.930873\n",
      "[800]\ttraining's l1: 1.0195\tvalid_1's l1: 0.930267\n",
      "[900]\ttraining's l1: 1.01868\tvalid_1's l1: 0.929883\n"
     ]
    },
    {
     "name": "stderr",
     "output_type": "stream",
     "text": [
      "\u001b[32m[I 2021-07-04 21:06:19,532]\u001b[0m Trial 77 finished with value: -0.9295941128225844 and parameters: {'max_depth': 4, 'min_child_weight': 20, 'subsample': 0.5, 'colsample_bytree': 0.8, 'reg_lambda': 0.0014181585759479329, 'reg_alpha': 2.9731739199121225, 'feature_fraction': 0.8809458858248299, 'bagging_fraction': 0.8989320359843076, 'bagging_freq': 5}. Best is trial 27 with value: -0.9267436539167699.\u001b[0m\n"
     ]
    },
    {
     "name": "stdout",
     "output_type": "stream",
     "text": [
      "Early stopping, best iteration is:\n",
      "[824]\ttraining's l1: 1.01921\tvalid_1's l1: 0.92963\n",
      "[LightGBM] [Warning] feature_fraction is set=0.7829810771141551, colsample_bytree=0.6 will be ignored. Current value: feature_fraction=0.7829810771141551\n",
      "[LightGBM] [Warning] bagging_fraction is set=0.8452464528109687, subsample=0.5 will be ignored. Current value: bagging_fraction=0.8452464528109687\n",
      "[LightGBM] [Warning] bagging_freq is set=7, subsample_freq=0 will be ignored. Current value: bagging_freq=7\n",
      "Training until validation scores don't improve for 100 rounds\n",
      "[100]\ttraining's l1: 1.03514\tvalid_1's l1: 0.944774\n",
      "[200]\ttraining's l1: 1.03488\tvalid_1's l1: 0.94427\n"
     ]
    },
    {
     "name": "stderr",
     "output_type": "stream",
     "text": [
      "\u001b[32m[I 2021-07-04 21:06:26,181]\u001b[0m Trial 78 finished with value: -0.9441883626035363 and parameters: {'max_depth': 8, 'min_child_weight': 17, 'subsample': 0.5, 'colsample_bytree': 0.6, 'reg_lambda': 0.0033199257205825407, 'reg_alpha': 0.19243350465804243, 'feature_fraction': 0.7829810771141551, 'bagging_fraction': 0.8452464528109687, 'bagging_freq': 7}. Best is trial 27 with value: -0.9267436539167699.\u001b[0m\n"
     ]
    },
    {
     "name": "stdout",
     "output_type": "stream",
     "text": [
      "Early stopping, best iteration is:\n",
      "[148]\ttraining's l1: 1.03493\tvalid_1's l1: 0.944189\n",
      "[LightGBM] [Warning] feature_fraction is set=0.4071590484003501, colsample_bytree=0.7 will be ignored. Current value: feature_fraction=0.4071590484003501\n",
      "[LightGBM] [Warning] bagging_fraction is set=0.8794501445827316, subsample=0.5 will be ignored. Current value: bagging_fraction=0.8794501445827316\n",
      "[LightGBM] [Warning] bagging_freq is set=6, subsample_freq=0 will be ignored. Current value: bagging_freq=6\n",
      "Training until validation scores don't improve for 100 rounds\n",
      "[100]\ttraining's l1: 1.0308\tvalid_1's l1: 0.939439\n"
     ]
    },
    {
     "name": "stderr",
     "output_type": "stream",
     "text": [
      "\u001b[32m[I 2021-07-04 21:06:31,836]\u001b[0m Trial 79 finished with value: -0.9394272425076177 and parameters: {'max_depth': 6, 'min_child_weight': 2, 'subsample': 0.5, 'colsample_bytree': 0.7, 'reg_lambda': 0.10890831534534828, 'reg_alpha': 0.05031497531934032, 'feature_fraction': 0.4071590484003501, 'bagging_fraction': 0.8794501445827316, 'bagging_freq': 6}. Best is trial 27 with value: -0.9267436539167699.\u001b[0m\n"
     ]
    },
    {
     "name": "stdout",
     "output_type": "stream",
     "text": [
      "Early stopping, best iteration is:\n",
      "[89]\ttraining's l1: 1.03082\tvalid_1's l1: 0.93943\n",
      "[LightGBM] [Warning] feature_fraction is set=0.8367271082458321, colsample_bytree=0.6 will be ignored. Current value: feature_fraction=0.8367271082458321\n",
      "[LightGBM] [Warning] bagging_fraction is set=0.9688752622359169, subsample=0.6 will be ignored. Current value: bagging_fraction=0.9688752622359169\n",
      "[LightGBM] [Warning] bagging_freq is set=8, subsample_freq=0 will be ignored. Current value: bagging_freq=8\n",
      "Training until validation scores don't improve for 100 rounds\n",
      "[100]\ttraining's l1: 1.03255\tvalid_1's l1: 0.942316\n",
      "[200]\ttraining's l1: 1.03141\tvalid_1's l1: 0.940701\n"
     ]
    },
    {
     "name": "stderr",
     "output_type": "stream",
     "text": [
      "\u001b[32m[I 2021-07-04 21:06:39,707]\u001b[0m Trial 80 finished with value: -0.940696127413385 and parameters: {'max_depth': 7, 'min_child_weight': 8, 'subsample': 0.6, 'colsample_bytree': 0.6, 'reg_lambda': 0.011908750165962927, 'reg_alpha': 6.5453859761623985, 'feature_fraction': 0.8367271082458321, 'bagging_fraction': 0.9688752622359169, 'bagging_freq': 8}. Best is trial 27 with value: -0.9267436539167699.\u001b[0m\n"
     ]
    },
    {
     "name": "stdout",
     "output_type": "stream",
     "text": [
      "Early stopping, best iteration is:\n",
      "[183]\ttraining's l1: 1.03142\tvalid_1's l1: 0.940697\n",
      "[LightGBM] [Warning] feature_fraction is set=0.8538595713288322, colsample_bytree=0.7 will be ignored. Current value: feature_fraction=0.8538595713288322\n",
      "[LightGBM] [Warning] bagging_fraction is set=0.9217703197371995, subsample=0.5 will be ignored. Current value: bagging_fraction=0.9217703197371995\n",
      "[LightGBM] [Warning] bagging_freq is set=5, subsample_freq=0 will be ignored. Current value: bagging_freq=5\n",
      "Training until validation scores don't improve for 100 rounds\n",
      "[100]\ttraining's l1: 1.02274\tvalid_1's l1: 0.933194\n",
      "[200]\ttraining's l1: 1.01745\tvalid_1's l1: 0.93065\n",
      "[300]\ttraining's l1: 1.01382\tvalid_1's l1: 0.93076\n"
     ]
    },
    {
     "name": "stderr",
     "output_type": "stream",
     "text": [
      "\u001b[32m[I 2021-07-04 21:06:49,051]\u001b[0m Trial 81 finished with value: -0.9300934220428553 and parameters: {'max_depth': 5, 'min_child_weight': 18, 'subsample': 0.5, 'colsample_bytree': 0.7, 'reg_lambda': 0.00590783825698716, 'reg_alpha': 0.3431766074091007, 'feature_fraction': 0.8538595713288322, 'bagging_fraction': 0.9217703197371995, 'bagging_freq': 5}. Best is trial 27 with value: -0.9267436539167699.\u001b[0m\n"
     ]
    },
    {
     "name": "stdout",
     "output_type": "stream",
     "text": [
      "Early stopping, best iteration is:\n",
      "[245]\ttraining's l1: 1.01526\tvalid_1's l1: 0.93011\n",
      "[LightGBM] [Warning] feature_fraction is set=0.8566441599412552, colsample_bytree=0.7 will be ignored. Current value: feature_fraction=0.8566441599412552\n",
      "[LightGBM] [Warning] bagging_fraction is set=0.9481912141149441, subsample=0.5 will be ignored. Current value: bagging_fraction=0.9481912141149441\n",
      "[LightGBM] [Warning] bagging_freq is set=5, subsample_freq=0 will be ignored. Current value: bagging_freq=5\n",
      "Training until validation scores don't improve for 100 rounds\n",
      "[100]\ttraining's l1: 1.02451\tvalid_1's l1: 0.935982\n",
      "[200]\ttraining's l1: 1.01848\tvalid_1's l1: 0.931373\n",
      "[300]\ttraining's l1: 1.01495\tvalid_1's l1: 0.930268\n",
      "[400]\ttraining's l1: 1.01259\tvalid_1's l1: 0.929878\n"
     ]
    },
    {
     "name": "stderr",
     "output_type": "stream",
     "text": [
      "\u001b[32m[I 2021-07-04 21:07:01,621]\u001b[0m Trial 82 finished with value: -0.9296957345386934 and parameters: {'max_depth': 5, 'min_child_weight': 18, 'subsample': 0.5, 'colsample_bytree': 0.7, 'reg_lambda': 0.004262459634590028, 'reg_alpha': 0.9915478889993007, 'feature_fraction': 0.8566441599412552, 'bagging_fraction': 0.9481912141149441, 'bagging_freq': 5}. Best is trial 27 with value: -0.9267436539167699.\u001b[0m\n"
     ]
    },
    {
     "name": "stdout",
     "output_type": "stream",
     "text": [
      "Early stopping, best iteration is:\n",
      "[358]\ttraining's l1: 1.01313\tvalid_1's l1: 0.929707\n",
      "[LightGBM] [Warning] feature_fraction is set=0.8998491038405826, colsample_bytree=0.7 will be ignored. Current value: feature_fraction=0.8998491038405826\n",
      "[LightGBM] [Warning] bagging_fraction is set=0.9234743088327697, subsample=0.5 will be ignored. Current value: bagging_fraction=0.9234743088327697\n",
      "[LightGBM] [Warning] bagging_freq is set=4, subsample_freq=0 will be ignored. Current value: bagging_freq=4\n",
      "Training until validation scores don't improve for 100 rounds\n",
      "[100]\ttraining's l1: 1.02274\tvalid_1's l1: 0.932819\n",
      "[200]\ttraining's l1: 1.01695\tvalid_1's l1: 0.929356\n",
      "[300]\ttraining's l1: 1.01482\tvalid_1's l1: 0.928185\n"
     ]
    },
    {
     "name": "stderr",
     "output_type": "stream",
     "text": [
      "\u001b[32m[I 2021-07-04 21:07:12,213]\u001b[0m Trial 83 finished with value: -0.92788822802581 and parameters: {'max_depth': 5, 'min_child_weight': 19, 'subsample': 0.5, 'colsample_bytree': 0.7, 'reg_lambda': 0.007236929827888623, 'reg_alpha': 0.567051216917073, 'feature_fraction': 0.8998491038405826, 'bagging_fraction': 0.9234743088327697, 'bagging_freq': 4}. Best is trial 27 with value: -0.9267436539167699.\u001b[0m\n"
     ]
    },
    {
     "name": "stdout",
     "output_type": "stream",
     "text": [
      "Early stopping, best iteration is:\n",
      "[271]\ttraining's l1: 1.01493\tvalid_1's l1: 0.927898\n",
      "[LightGBM] [Warning] feature_fraction is set=0.9020865928367052, colsample_bytree=0.7 will be ignored. Current value: feature_fraction=0.9020865928367052\n",
      "[LightGBM] [Warning] bagging_fraction is set=0.9049778010608203, subsample=0.5 will be ignored. Current value: bagging_fraction=0.9049778010608203\n",
      "[LightGBM] [Warning] bagging_freq is set=3, subsample_freq=0 will be ignored. Current value: bagging_freq=3\n",
      "Training until validation scores don't improve for 100 rounds\n",
      "[100]\ttraining's l1: 1.02947\tvalid_1's l1: 0.938785\n",
      "[200]\ttraining's l1: 1.02468\tvalid_1's l1: 0.933207\n",
      "[300]\ttraining's l1: 1.02262\tvalid_1's l1: 0.932439\n",
      "[400]\ttraining's l1: 1.02048\tvalid_1's l1: 0.931295\n",
      "[500]\ttraining's l1: 1.01911\tvalid_1's l1: 0.93016\n",
      "[600]\ttraining's l1: 1.01823\tvalid_1's l1: 0.929713\n",
      "[700]\ttraining's l1: 1.0178\tvalid_1's l1: 0.929614\n"
     ]
    },
    {
     "name": "stderr",
     "output_type": "stream",
     "text": [
      "\u001b[32m[I 2021-07-04 21:07:31,202]\u001b[0m Trial 84 finished with value: -0.9294751776425662 and parameters: {'max_depth': 4, 'min_child_weight': 19, 'subsample': 0.5, 'colsample_bytree': 0.7, 'reg_lambda': 0.007614973941062653, 'reg_alpha': 1.562511066969334, 'feature_fraction': 0.9020865928367052, 'bagging_fraction': 0.9049778010608203, 'bagging_freq': 3}. Best is trial 27 with value: -0.9267436539167699.\u001b[0m\n"
     ]
    },
    {
     "name": "stdout",
     "output_type": "stream",
     "text": [
      "Early stopping, best iteration is:\n",
      "[613]\ttraining's l1: 1.01814\tvalid_1's l1: 0.929489\n",
      "[LightGBM] [Warning] feature_fraction is set=0.9442752127458185, colsample_bytree=0.8 will be ignored. Current value: feature_fraction=0.9442752127458185\n",
      "[LightGBM] [Warning] bagging_fraction is set=0.9321721594710849, subsample=0.5 will be ignored. Current value: bagging_fraction=0.9321721594710849\n",
      "[LightGBM] [Warning] bagging_freq is set=4, subsample_freq=0 will be ignored. Current value: bagging_freq=4\n",
      "Training until validation scores don't improve for 100 rounds\n",
      "[100]\ttraining's l1: 1.03653\tvalid_1's l1: 0.945044\n",
      "[200]\ttraining's l1: 1.03315\tvalid_1's l1: 0.9421\n",
      "[300]\ttraining's l1: 1.03169\tvalid_1's l1: 0.940472\n",
      "[400]\ttraining's l1: 1.03031\tvalid_1's l1: 0.937999\n",
      "[500]\ttraining's l1: 1.02951\tvalid_1's l1: 0.937517\n",
      "[600]\ttraining's l1: 1.02902\tvalid_1's l1: 0.936902\n",
      "[700]\ttraining's l1: 1.02842\tvalid_1's l1: 0.936673\n",
      "[800]\ttraining's l1: 1.02785\tvalid_1's l1: 0.936346\n",
      "[900]\ttraining's l1: 1.0276\tvalid_1's l1: 0.935965\n",
      "[1000]\ttraining's l1: 1.0272\tvalid_1's l1: 0.935887\n",
      "[1100]\ttraining's l1: 1.02685\tvalid_1's l1: 0.935779\n",
      "[1200]\ttraining's l1: 1.02634\tvalid_1's l1: 0.935417\n"
     ]
    },
    {
     "name": "stderr",
     "output_type": "stream",
     "text": [
      "\u001b[32m[I 2021-07-04 21:08:00,108]\u001b[0m Trial 85 finished with value: -0.9353746527344842 and parameters: {'max_depth': 3, 'min_child_weight': 16, 'subsample': 0.5, 'colsample_bytree': 0.8, 'reg_lambda': 0.02475278755045166, 'reg_alpha': 13.877481906207015, 'feature_fraction': 0.9442752127458185, 'bagging_fraction': 0.9321721594710849, 'bagging_freq': 4}. Best is trial 27 with value: -0.9267436539167699.\u001b[0m\n"
     ]
    },
    {
     "name": "stdout",
     "output_type": "stream",
     "text": [
      "Early stopping, best iteration is:\n",
      "[1149]\ttraining's l1: 1.02638\tvalid_1's l1: 0.935388\n",
      "[LightGBM] [Warning] feature_fraction is set=0.729398998474924, colsample_bytree=0.7 will be ignored. Current value: feature_fraction=0.729398998474924\n",
      "[LightGBM] [Warning] bagging_fraction is set=0.6383432880734374, subsample=0.5 will be ignored. Current value: bagging_fraction=0.6383432880734374\n",
      "[LightGBM] [Warning] bagging_freq is set=4, subsample_freq=0 will be ignored. Current value: bagging_freq=4\n",
      "Training until validation scores don't improve for 100 rounds\n",
      "[100]\ttraining's l1: 1.0373\tvalid_1's l1: 0.946624\n",
      "[200]\ttraining's l1: 1.03691\tvalid_1's l1: 0.946126\n"
     ]
    },
    {
     "name": "stderr",
     "output_type": "stream",
     "text": [
      "\u001b[32m[I 2021-07-04 21:08:06,644]\u001b[0m Trial 86 finished with value: -0.9461160055982384 and parameters: {'max_depth': 14, 'min_child_weight': 20, 'subsample': 0.5, 'colsample_bytree': 0.7, 'reg_lambda': 0.0024572964616713967, 'reg_alpha': 0.5993089132270749, 'feature_fraction': 0.729398998474924, 'bagging_fraction': 0.6383432880734374, 'bagging_freq': 4}. Best is trial 27 with value: -0.9267436539167699.\u001b[0m\n"
     ]
    },
    {
     "name": "stdout",
     "output_type": "stream",
     "text": [
      "Early stopping, best iteration is:\n",
      "[152]\ttraining's l1: 1.03693\tvalid_1's l1: 0.946117\n",
      "[LightGBM] [Warning] feature_fraction is set=0.8051618910897552, colsample_bytree=0.7 will be ignored. Current value: feature_fraction=0.8051618910897552\n",
      "[LightGBM] [Warning] bagging_fraction is set=0.9996924003651133, subsample=0.8 will be ignored. Current value: bagging_fraction=0.9996924003651133\n",
      "[LightGBM] [Warning] bagging_freq is set=1, subsample_freq=0 will be ignored. Current value: bagging_freq=1\n",
      "Training until validation scores don't improve for 100 rounds\n",
      "[100]\ttraining's l1: 1.03737\tvalid_1's l1: 0.947005\n",
      "[200]\ttraining's l1: 1.03649\tvalid_1's l1: 0.946031\n"
     ]
    },
    {
     "name": "stderr",
     "output_type": "stream",
     "text": [
      "\u001b[32m[I 2021-07-04 21:08:12,405]\u001b[0m Trial 87 finished with value: -0.9460252434742216 and parameters: {'max_depth': 20, 'min_child_weight': 19, 'subsample': 0.8, 'colsample_bytree': 0.7, 'reg_lambda': 152.58430892267424, 'reg_alpha': 0.13889702274544188, 'feature_fraction': 0.8051618910897552, 'bagging_fraction': 0.9996924003651133, 'bagging_freq': 1}. Best is trial 27 with value: -0.9267436539167699.\u001b[0m\n"
     ]
    },
    {
     "name": "stdout",
     "output_type": "stream",
     "text": [
      "Early stopping, best iteration is:\n",
      "[126]\ttraining's l1: 1.03652\tvalid_1's l1: 0.946026\n",
      "[LightGBM] [Warning] feature_fraction is set=0.8171550377755865, colsample_bytree=0.8 will be ignored. Current value: feature_fraction=0.8171550377755865\n",
      "[LightGBM] [Warning] bagging_fraction is set=0.9816962889421488, subsample=0.5 will be ignored. Current value: bagging_fraction=0.9816962889421488\n",
      "[LightGBM] [Warning] bagging_freq is set=4, subsample_freq=0 will be ignored. Current value: bagging_freq=4\n",
      "Training until validation scores don't improve for 100 rounds\n",
      "[100]\ttraining's l1: 1.02861\tvalid_1's l1: 0.940681\n",
      "[200]\ttraining's l1: 1.02502\tvalid_1's l1: 0.937178\n",
      "[300]\ttraining's l1: 1.02408\tvalid_1's l1: 0.936763\n",
      "[400]\ttraining's l1: 1.02404\tvalid_1's l1: 0.936924\n",
      "Early stopping, best iteration is:\n",
      "[307]\ttraining's l1: 1.02408\tvalid_1's l1: 0.936743\n"
     ]
    },
    {
     "name": "stderr",
     "output_type": "stream",
     "text": [
      "\u001b[32m[I 2021-07-04 21:08:24,515]\u001b[0m Trial 88 finished with value: -0.9367366250524765 and parameters: {'max_depth': 6, 'min_child_weight': 15, 'subsample': 0.5, 'colsample_bytree': 0.8, 'reg_lambda': 0.015244559760809696, 'reg_alpha': 3.814404470240337, 'feature_fraction': 0.8171550377755865, 'bagging_fraction': 0.9816962889421488, 'bagging_freq': 4}. Best is trial 27 with value: -0.9267436539167699.\u001b[0m\n"
     ]
    },
    {
     "name": "stdout",
     "output_type": "stream",
     "text": [
      "[LightGBM] [Warning] feature_fraction is set=0.6828941882686604, colsample_bytree=0.6 will be ignored. Current value: feature_fraction=0.6828941882686604\n",
      "[LightGBM] [Warning] bagging_fraction is set=0.8861769137022181, subsample=0.5 will be ignored. Current value: bagging_fraction=0.8861769137022181\n",
      "[LightGBM] [Warning] bagging_freq is set=6, subsample_freq=0 will be ignored. Current value: bagging_freq=6\n",
      "Training until validation scores don't improve for 100 rounds\n",
      "[100]\ttraining's l1: 1.03737\tvalid_1's l1: 0.947454\n"
     ]
    },
    {
     "name": "stderr",
     "output_type": "stream",
     "text": [
      "\u001b[32m[I 2021-07-04 21:08:29,411]\u001b[0m Trial 89 finished with value: -0.947423257648605 and parameters: {'max_depth': 17, 'min_child_weight': 13, 'subsample': 0.5, 'colsample_bytree': 0.6, 'reg_lambda': 0.0010071833622895285, 'reg_alpha': 0.22997283566540055, 'feature_fraction': 0.6828941882686604, 'bagging_fraction': 0.8861769137022181, 'bagging_freq': 6}. Best is trial 27 with value: -0.9267436539167699.\u001b[0m\n"
     ]
    },
    {
     "name": "stdout",
     "output_type": "stream",
     "text": [
      "Early stopping, best iteration is:\n",
      "[55]\ttraining's l1: 1.0374\tvalid_1's l1: 0.947424\n",
      "[LightGBM] [Warning] feature_fraction is set=0.8741990133024659, colsample_bytree=0.8 will be ignored. Current value: feature_fraction=0.8741990133024659\n",
      "[LightGBM] [Warning] bagging_fraction is set=0.9591646332815912, subsample=0.6 will be ignored. Current value: bagging_fraction=0.9591646332815912\n",
      "[LightGBM] [Warning] bagging_freq is set=7, subsample_freq=0 will be ignored. Current value: bagging_freq=7\n",
      "Training until validation scores don't improve for 100 rounds\n",
      "[100]\ttraining's l1: 1.02862\tvalid_1's l1: 0.934498\n",
      "[200]\ttraining's l1: 1.02378\tvalid_1's l1: 0.931758\n",
      "[300]\ttraining's l1: 1.02271\tvalid_1's l1: 0.931341\n",
      "[400]\ttraining's l1: 1.02064\tvalid_1's l1: 0.929767\n"
     ]
    },
    {
     "name": "stderr",
     "output_type": "stream",
     "text": [
      "\u001b[32m[I 2021-07-04 21:08:40,982]\u001b[0m Trial 90 finished with value: -0.9296716059561806 and parameters: {'max_depth': 4, 'min_child_weight': 17, 'subsample': 0.6, 'colsample_bytree': 0.8, 'reg_lambda': 0.003988285930935629, 'reg_alpha': 0.0324509572954521, 'feature_fraction': 0.8741990133024659, 'bagging_fraction': 0.9591646332815912, 'bagging_freq': 7}. Best is trial 27 with value: -0.9267436539167699.\u001b[0m\n"
     ]
    },
    {
     "name": "stdout",
     "output_type": "stream",
     "text": [
      "Early stopping, best iteration is:\n",
      "[386]\ttraining's l1: 1.02069\tvalid_1's l1: 0.929676\n",
      "[LightGBM] [Warning] feature_fraction is set=0.8691323671481123, colsample_bytree=0.7 will be ignored. Current value: feature_fraction=0.8691323671481123\n",
      "[LightGBM] [Warning] bagging_fraction is set=0.9163358109472689, subsample=0.5 will be ignored. Current value: bagging_fraction=0.9163358109472689\n",
      "[LightGBM] [Warning] bagging_freq is set=5, subsample_freq=0 will be ignored. Current value: bagging_freq=5\n",
      "Training until validation scores don't improve for 100 rounds\n",
      "[100]\ttraining's l1: 1.02456\tvalid_1's l1: 0.934043\n",
      "[200]\ttraining's l1: 1.01743\tvalid_1's l1: 0.929991\n",
      "[300]\ttraining's l1: 1.01425\tvalid_1's l1: 0.92955\n",
      "[400]\ttraining's l1: 1.01256\tvalid_1's l1: 0.929044\n"
     ]
    },
    {
     "name": "stderr",
     "output_type": "stream",
     "text": [
      "\u001b[32m[I 2021-07-04 21:08:52,134]\u001b[0m Trial 91 finished with value: -0.9288060649298097 and parameters: {'max_depth': 5, 'min_child_weight': 18, 'subsample': 0.5, 'colsample_bytree': 0.7, 'reg_lambda': 0.006074094376488956, 'reg_alpha': 0.4374118499144761, 'feature_fraction': 0.8691323671481123, 'bagging_fraction': 0.9163358109472689, 'bagging_freq': 5}. Best is trial 27 with value: -0.9267436539167699.\u001b[0m\n"
     ]
    },
    {
     "name": "stdout",
     "output_type": "stream",
     "text": [
      "Early stopping, best iteration is:\n",
      "[323]\ttraining's l1: 1.01355\tvalid_1's l1: 0.928816\n",
      "[LightGBM] [Warning] feature_fraction is set=0.8931340768884616, colsample_bytree=0.7 will be ignored. Current value: feature_fraction=0.8931340768884616\n",
      "[LightGBM] [Warning] bagging_fraction is set=0.9217400513652632, subsample=0.5 will be ignored. Current value: bagging_fraction=0.9217400513652632\n",
      "[LightGBM] [Warning] bagging_freq is set=5, subsample_freq=0 will be ignored. Current value: bagging_freq=5\n",
      "Training until validation scores don't improve for 100 rounds\n",
      "[100]\ttraining's l1: 1.02307\tvalid_1's l1: 0.933686\n",
      "[200]\ttraining's l1: 1.0181\tvalid_1's l1: 0.931602\n",
      "[300]\ttraining's l1: 1.01526\tvalid_1's l1: 0.930247\n"
     ]
    },
    {
     "name": "stderr",
     "output_type": "stream",
     "text": [
      "\u001b[32m[I 2021-07-04 21:09:03,272]\u001b[0m Trial 92 finished with value: -0.9298781180456106 and parameters: {'max_depth': 5, 'min_child_weight': 18, 'subsample': 0.5, 'colsample_bytree': 0.7, 'reg_lambda': 0.007476185567198867, 'reg_alpha': 0.3001312402526391, 'feature_fraction': 0.8931340768884616, 'bagging_fraction': 0.9217400513652632, 'bagging_freq': 5}. Best is trial 27 with value: -0.9267436539167699.\u001b[0m\n"
     ]
    },
    {
     "name": "stdout",
     "output_type": "stream",
     "text": [
      "[400]\ttraining's l1: 1.01334\tvalid_1's l1: 0.930277\n",
      "Early stopping, best iteration is:\n",
      "[305]\ttraining's l1: 1.01509\tvalid_1's l1: 0.929904\n",
      "[LightGBM] [Warning] feature_fraction is set=0.9157121944834364, colsample_bytree=0.7 will be ignored. Current value: feature_fraction=0.9157121944834364\n",
      "[LightGBM] [Warning] bagging_fraction is set=0.9428674045581884, subsample=0.5 will be ignored. Current value: bagging_fraction=0.9428674045581884\n",
      "[LightGBM] [Warning] bagging_freq is set=4, subsample_freq=0 will be ignored. Current value: bagging_freq=4\n",
      "Training until validation scores don't improve for 100 rounds\n",
      "[100]\ttraining's l1: 1.03195\tvalid_1's l1: 0.941441\n",
      "[200]\ttraining's l1: 1.03149\tvalid_1's l1: 0.941039\n",
      "[300]\ttraining's l1: 1.03122\tvalid_1's l1: 0.941097\n"
     ]
    },
    {
     "name": "stderr",
     "output_type": "stream",
     "text": [
      "\u001b[32m[I 2021-07-04 21:09:13,066]\u001b[0m Trial 93 finished with value: -0.9409650016388679 and parameters: {'max_depth': 7, 'min_child_weight': 19, 'subsample': 0.5, 'colsample_bytree': 0.7, 'reg_lambda': 0.0018880670129008017, 'reg_alpha': 0.7169507158163011, 'feature_fraction': 0.9157121944834364, 'bagging_fraction': 0.9428674045581884, 'bagging_freq': 4}. Best is trial 27 with value: -0.9267436539167699.\u001b[0m\n"
     ]
    },
    {
     "name": "stdout",
     "output_type": "stream",
     "text": [
      "Early stopping, best iteration is:\n",
      "[222]\ttraining's l1: 1.03137\tvalid_1's l1: 0.940966\n",
      "[LightGBM] [Warning] feature_fraction is set=0.9289707326562286, colsample_bytree=0.6 will be ignored. Current value: feature_fraction=0.9289707326562286\n",
      "[LightGBM] [Warning] bagging_fraction is set=0.8611960680859685, subsample=0.5 will be ignored. Current value: bagging_fraction=0.8611960680859685\n",
      "[LightGBM] [Warning] bagging_freq is set=2, subsample_freq=0 will be ignored. Current value: bagging_freq=2\n",
      "Training until validation scores don't improve for 100 rounds\n",
      "[100]\ttraining's l1: 1.02341\tvalid_1's l1: 0.933033\n",
      "[200]\ttraining's l1: 1.01809\tvalid_1's l1: 0.930096\n",
      "[300]\ttraining's l1: 1.01563\tvalid_1's l1: 0.929368\n",
      "[400]\ttraining's l1: 1.01397\tvalid_1's l1: 0.929575\n"
     ]
    },
    {
     "name": "stderr",
     "output_type": "stream",
     "text": [
      "\u001b[32m[I 2021-07-04 21:09:26,858]\u001b[0m Trial 94 finished with value: -0.9290811383696078 and parameters: {'max_depth': 5, 'min_child_weight': 14, 'subsample': 0.5, 'colsample_bytree': 0.6, 'reg_lambda': 0.013724385961335354, 'reg_alpha': 1.9954072942926397, 'feature_fraction': 0.9289707326562286, 'bagging_fraction': 0.8611960680859685, 'bagging_freq': 2}. Best is trial 27 with value: -0.9267436539167699.\u001b[0m\n"
     ]
    },
    {
     "name": "stdout",
     "output_type": "stream",
     "text": [
      "Early stopping, best iteration is:\n",
      "[320]\ttraining's l1: 1.01543\tvalid_1's l1: 0.929103\n",
      "[LightGBM] [Warning] feature_fraction is set=0.9258457913143952, colsample_bytree=0.6 will be ignored. Current value: feature_fraction=0.9258457913143952\n",
      "[LightGBM] [Warning] bagging_fraction is set=0.8253172990227208, subsample=0.5 will be ignored. Current value: bagging_fraction=0.8253172990227208\n",
      "[LightGBM] [Warning] bagging_freq is set=2, subsample_freq=0 will be ignored. Current value: bagging_freq=2\n",
      "Training until validation scores don't improve for 100 rounds\n",
      "[100]\ttraining's l1: 1.02884\tvalid_1's l1: 0.93771\n",
      "[200]\ttraining's l1: 1.02436\tvalid_1's l1: 0.934387\n"
     ]
    },
    {
     "name": "stderr",
     "output_type": "stream",
     "text": [
      "\u001b[32m[I 2021-07-04 21:09:35,632]\u001b[0m Trial 95 finished with value: -0.9341540573695859 and parameters: {'max_depth': 4, 'min_child_weight': 12, 'subsample': 0.5, 'colsample_bytree': 0.6, 'reg_lambda': 0.0135098649854183, 'reg_alpha': 2.0487259820186994, 'feature_fraction': 0.9258457913143952, 'bagging_fraction': 0.8253172990227208, 'bagging_freq': 2}. Best is trial 27 with value: -0.9267436539167699.\u001b[0m\n"
     ]
    },
    {
     "name": "stdout",
     "output_type": "stream",
     "text": [
      "Early stopping, best iteration is:\n",
      "[175]\ttraining's l1: 1.02519\tvalid_1's l1: 0.934161\n",
      "[LightGBM] [Warning] feature_fraction is set=0.9427995148175089, colsample_bytree=0.6 will be ignored. Current value: feature_fraction=0.9427995148175089\n",
      "[LightGBM] [Warning] bagging_fraction is set=0.8575384004481911, subsample=0.5 will be ignored. Current value: bagging_fraction=0.8575384004481911\n",
      "[LightGBM] [Warning] bagging_freq is set=2, subsample_freq=0 will be ignored. Current value: bagging_freq=2\n",
      "Training until validation scores don't improve for 100 rounds\n",
      "[100]\ttraining's l1: 1.02429\tvalid_1's l1: 0.933638\n",
      "[200]\ttraining's l1: 1.01761\tvalid_1's l1: 0.931817\n"
     ]
    },
    {
     "name": "stderr",
     "output_type": "stream",
     "text": [
      "\u001b[32m[I 2021-07-04 21:09:45,884]\u001b[0m Trial 96 finished with value: -0.9317272467982147 and parameters: {'max_depth': 5, 'min_child_weight': 14, 'subsample': 0.5, 'colsample_bytree': 0.6, 'reg_lambda': 0.005211326321544812, 'reg_alpha': 1.1978821623884164, 'feature_fraction': 0.9427995148175089, 'bagging_fraction': 0.8575384004481911, 'bagging_freq': 2}. Best is trial 27 with value: -0.9267436539167699.\u001b[0m\n"
     ]
    },
    {
     "name": "stdout",
     "output_type": "stream",
     "text": [
      "[300]\ttraining's l1: 1.01477\tvalid_1's l1: 0.932005\n",
      "Early stopping, best iteration is:\n",
      "[203]\ttraining's l1: 1.01736\tvalid_1's l1: 0.931736\n",
      "[LightGBM] [Warning] feature_fraction is set=0.9643674441137774, colsample_bytree=0.6 will be ignored. Current value: feature_fraction=0.9643674441137774\n",
      "[LightGBM] [Warning] bagging_fraction is set=0.8357943393144381, subsample=0.5 will be ignored. Current value: bagging_fraction=0.8357943393144381\n",
      "[LightGBM] [Warning] bagging_freq is set=1, subsample_freq=0 will be ignored. Current value: bagging_freq=1\n",
      "Training until validation scores don't improve for 100 rounds\n",
      "[100]\ttraining's l1: 1.02903\tvalid_1's l1: 0.937502\n",
      "[200]\ttraining's l1: 1.02572\tvalid_1's l1: 0.93456\n",
      "[300]\ttraining's l1: 1.0237\tvalid_1's l1: 0.933631\n",
      "[400]\ttraining's l1: 1.02248\tvalid_1's l1: 0.932635\n",
      "[500]\ttraining's l1: 1.02101\tvalid_1's l1: 0.930931\n",
      "[600]\ttraining's l1: 1.01981\tvalid_1's l1: 0.930688\n",
      "[700]\ttraining's l1: 1.01887\tvalid_1's l1: 0.930003\n",
      "[800]\ttraining's l1: 1.01788\tvalid_1's l1: 0.929624\n",
      "[900]\ttraining's l1: 1.0169\tvalid_1's l1: 0.930019\n",
      "Early stopping, best iteration is:\n",
      "[806]\ttraining's l1: 1.01784\tvalid_1's l1: 0.92958\n"
     ]
    },
    {
     "name": "stderr",
     "output_type": "stream",
     "text": [
      "\u001b[32m[I 2021-07-04 21:10:00,824]\u001b[0m Trial 97 finished with value: -0.9295586108682008 and parameters: {'max_depth': 4, 'min_child_weight': 15, 'subsample': 0.5, 'colsample_bytree': 0.6, 'reg_lambda': 0.0012858886191434462, 'reg_alpha': 3.5757103460098376, 'feature_fraction': 0.9643674441137774, 'bagging_fraction': 0.8357943393144381, 'bagging_freq': 1}. Best is trial 27 with value: -0.9267436539167699.\u001b[0m\n"
     ]
    },
    {
     "name": "stdout",
     "output_type": "stream",
     "text": [
      "[LightGBM] [Warning] feature_fraction is set=0.8806006115784069, colsample_bytree=0.6 will be ignored. Current value: feature_fraction=0.8806006115784069\n",
      "[LightGBM] [Warning] bagging_fraction is set=0.7860385482874201, subsample=0.5 will be ignored. Current value: bagging_fraction=0.7860385482874201\n",
      "[LightGBM] [Warning] bagging_freq is set=7, subsample_freq=0 will be ignored. Current value: bagging_freq=7\n",
      "Training until validation scores don't improve for 100 rounds\n",
      "[100]\ttraining's l1: 1.03522\tvalid_1's l1: 0.942739\n",
      "[200]\ttraining's l1: 1.03249\tvalid_1's l1: 0.940193\n",
      "[300]\ttraining's l1: 1.03073\tvalid_1's l1: 0.938246\n",
      "[400]\ttraining's l1: 1.02904\tvalid_1's l1: 0.935956\n",
      "[500]\ttraining's l1: 1.02842\tvalid_1's l1: 0.935649\n",
      "[600]\ttraining's l1: 1.02745\tvalid_1's l1: 0.93441\n",
      "[700]\ttraining's l1: 1.02707\tvalid_1's l1: 0.934118\n"
     ]
    },
    {
     "name": "stderr",
     "output_type": "stream",
     "text": [
      "\u001b[32m[I 2021-07-04 21:10:15,133]\u001b[0m Trial 98 finished with value: -0.9340811063768777 and parameters: {'max_depth': 3, 'min_child_weight': 13, 'subsample': 0.5, 'colsample_bytree': 0.6, 'reg_lambda': 0.0027118119040001145, 'reg_alpha': 5.460605719535954, 'feature_fraction': 0.8806006115784069, 'bagging_fraction': 0.7860385482874201, 'bagging_freq': 7}. Best is trial 27 with value: -0.9267436539167699.\u001b[0m\n"
     ]
    },
    {
     "name": "stdout",
     "output_type": "stream",
     "text": [
      "Early stopping, best iteration is:\n",
      "[671]\ttraining's l1: 1.02715\tvalid_1's l1: 0.934089\n",
      "[LightGBM] [Warning] feature_fraction is set=0.9780676383469312, colsample_bytree=0.6 will be ignored. Current value: feature_fraction=0.9780676383469312\n",
      "[LightGBM] [Warning] bagging_fraction is set=0.8713856278502583, subsample=0.5 will be ignored. Current value: bagging_fraction=0.8713856278502583\n",
      "[LightGBM] [Warning] bagging_freq is set=7, subsample_freq=0 will be ignored. Current value: bagging_freq=7\n",
      "Training until validation scores don't improve for 100 rounds\n",
      "[100]\ttraining's l1: 1.02846\tvalid_1's l1: 0.939704\n",
      "[200]\ttraining's l1: 1.02308\tvalid_1's l1: 0.934885\n",
      "[300]\ttraining's l1: 1.02011\tvalid_1's l1: 0.933717\n"
     ]
    },
    {
     "name": "stderr",
     "output_type": "stream",
     "text": [
      "\u001b[32m[I 2021-07-04 21:10:24,623]\u001b[0m Trial 99 finished with value: -0.9333123903581497 and parameters: {'max_depth': 6, 'min_child_weight': 16, 'subsample': 0.5, 'colsample_bytree': 0.6, 'reg_lambda': 0.007506670436211484, 'reg_alpha': 9.90248455898908, 'feature_fraction': 0.9780676383469312, 'bagging_fraction': 0.8713856278502583, 'bagging_freq': 7}. Best is trial 27 with value: -0.9267436539167699.\u001b[0m\n"
     ]
    },
    {
     "name": "stdout",
     "output_type": "stream",
     "text": [
      "Early stopping, best iteration is:\n",
      "[268]\ttraining's l1: 1.02089\tvalid_1's l1: 0.933325\n",
      "Number of finished trials: 100\n",
      "Best trial: {'max_depth': 5, 'min_child_weight': 14, 'subsample': 0.5, 'colsample_bytree': 0.8, 'reg_lambda': 0.0039424293637013936, 'reg_alpha': 0.7589476621819645, 'feature_fraction': 0.8347814184359944, 'bagging_fraction': 0.8810716787983324, 'bagging_freq': 6}\n"
     ]
    }
   ],
   "source": [
    "study3 = optuna.create_study(direction='maximize')\n",
    "study3.optimize(fit_lgbm(x_train[feature_cols3], y_train['target3'], x_valid[feature_cols3], y_valid['target3']), n_trials=100)\n",
    "\n",
    "print('Number of finished trials:', len(study3.trials))\n",
    "print('Best trial:', study3.best_trial.params)"
   ]
  },
  {
   "cell_type": "code",
   "execution_count": 42,
   "id": "99246290",
   "metadata": {},
   "outputs": [
    {
     "name": "stderr",
     "output_type": "stream",
     "text": [
      "\u001b[32m[I 2021-07-04 21:10:24,642]\u001b[0m A new study created in memory with name: no-name-50266614-016c-46b4-a62c-ebf8095621eb\u001b[0m\n"
     ]
    },
    {
     "name": "stdout",
     "output_type": "stream",
     "text": [
      "[LightGBM] [Warning] feature_fraction is set=0.8822355440098157, colsample_bytree=0.9 will be ignored. Current value: feature_fraction=0.8822355440098157\n",
      "[LightGBM] [Warning] bagging_fraction is set=0.5052111833064209, subsample=0.9 will be ignored. Current value: bagging_fraction=0.5052111833064209\n",
      "[LightGBM] [Warning] bagging_freq is set=5, subsample_freq=0 will be ignored. Current value: bagging_freq=5\n",
      "Training until validation scores don't improve for 100 rounds\n",
      "[100]\ttraining's l1: 0.997117\tvalid_1's l1: 1.60011\n"
     ]
    },
    {
     "name": "stderr",
     "output_type": "stream",
     "text": [
      "\u001b[32m[I 2021-07-04 21:10:29,535]\u001b[0m Trial 0 finished with value: -1.5996815395390394 and parameters: {'max_depth': 7, 'min_child_weight': 14, 'subsample': 0.9, 'colsample_bytree': 0.9, 'reg_lambda': 15.17030242929041, 'reg_alpha': 3.6646772886482557, 'feature_fraction': 0.8822355440098157, 'bagging_fraction': 0.5052111833064209, 'bagging_freq': 5}. Best is trial 0 with value: -1.5996815395390394.\u001b[0m\n"
     ]
    },
    {
     "name": "stdout",
     "output_type": "stream",
     "text": [
      "Early stopping, best iteration is:\n",
      "[95]\ttraining's l1: 0.997794\tvalid_1's l1: 1.59968\n",
      "[LightGBM] [Warning] feature_fraction is set=0.5526372375321895, colsample_bytree=0.5 will be ignored. Current value: feature_fraction=0.5526372375321895\n",
      "[LightGBM] [Warning] bagging_fraction is set=0.6356499375542586, subsample=0.7 will be ignored. Current value: bagging_fraction=0.6356499375542586\n",
      "[LightGBM] [Warning] bagging_freq is set=8, subsample_freq=0 will be ignored. Current value: bagging_freq=8\n",
      "Training until validation scores don't improve for 100 rounds\n",
      "[100]\ttraining's l1: 1.01277\tvalid_1's l1: 1.60529\n",
      "[200]\ttraining's l1: 1.00339\tvalid_1's l1: 1.59949\n",
      "[300]\ttraining's l1: 0.991589\tvalid_1's l1: 1.5955\n",
      "[400]\ttraining's l1: 0.976424\tvalid_1's l1: 1.5958\n"
     ]
    },
    {
     "name": "stderr",
     "output_type": "stream",
     "text": [
      "\u001b[32m[I 2021-07-04 21:10:40,047]\u001b[0m Trial 1 finished with value: -1.5945120435631541 and parameters: {'max_depth': 5, 'min_child_weight': 11, 'subsample': 0.7, 'colsample_bytree': 0.5, 'reg_lambda': 0.307866570908736, 'reg_alpha': 161.86658863363533, 'feature_fraction': 0.5526372375321895, 'bagging_fraction': 0.6356499375542586, 'bagging_freq': 8}. Best is trial 1 with value: -1.5945120435631541.\u001b[0m\n"
     ]
    },
    {
     "name": "stdout",
     "output_type": "stream",
     "text": [
      "Early stopping, best iteration is:\n",
      "[327]\ttraining's l1: 0.989786\tvalid_1's l1: 1.59459\n",
      "[LightGBM] [Warning] feature_fraction is set=0.6695593974112735, colsample_bytree=0.6 will be ignored. Current value: feature_fraction=0.6695593974112735\n",
      "[LightGBM] [Warning] bagging_fraction is set=0.659237370913433, subsample=0.5 will be ignored. Current value: bagging_fraction=0.659237370913433\n",
      "[LightGBM] [Warning] bagging_freq is set=9, subsample_freq=0 will be ignored. Current value: bagging_freq=9\n",
      "Training until validation scores don't improve for 100 rounds\n",
      "[100]\ttraining's l1: 1.03262\tvalid_1's l1: 1.6133\n",
      "[200]\ttraining's l1: 1.01742\tvalid_1's l1: 1.60101\n",
      "[300]\ttraining's l1: 0.998091\tvalid_1's l1: 1.59454\n",
      "[400]\ttraining's l1: 0.983252\tvalid_1's l1: 1.5921\n",
      "[500]\ttraining's l1: 0.972773\tvalid_1's l1: 1.59156\n"
     ]
    },
    {
     "name": "stderr",
     "output_type": "stream",
     "text": [
      "\u001b[32m[I 2021-07-04 21:10:49,753]\u001b[0m Trial 2 finished with value: -1.590778339641615 and parameters: {'max_depth': 4, 'min_child_weight': 7, 'subsample': 0.5, 'colsample_bytree': 0.6, 'reg_lambda': 31.487629364290243, 'reg_alpha': 15.224176043400892, 'feature_fraction': 0.6695593974112735, 'bagging_fraction': 0.659237370913433, 'bagging_freq': 9}. Best is trial 2 with value: -1.590778339641615.\u001b[0m\n"
     ]
    },
    {
     "name": "stdout",
     "output_type": "stream",
     "text": [
      "Early stopping, best iteration is:\n",
      "[451]\ttraining's l1: 0.978153\tvalid_1's l1: 1.59102\n",
      "[LightGBM] [Warning] feature_fraction is set=0.4460007676420872, colsample_bytree=0.8 will be ignored. Current value: feature_fraction=0.4460007676420872\n",
      "[LightGBM] [Warning] bagging_fraction is set=0.45911254452053873, subsample=0.8 will be ignored. Current value: bagging_fraction=0.45911254452053873\n",
      "[LightGBM] [Warning] bagging_freq is set=8, subsample_freq=0 will be ignored. Current value: bagging_freq=8\n",
      "Training until validation scores don't improve for 100 rounds\n",
      "[100]\ttraining's l1: 1.00673\tvalid_1's l1: 1.60877\n",
      "[200]\ttraining's l1: 0.991214\tvalid_1's l1: 1.60274\n",
      "[300]\ttraining's l1: 0.971094\tvalid_1's l1: 1.60079\n",
      "[400]\ttraining's l1: 0.952356\tvalid_1's l1: 1.59789\n",
      "[500]\ttraining's l1: 0.938214\tvalid_1's l1: 1.5956\n"
     ]
    },
    {
     "name": "stderr",
     "output_type": "stream",
     "text": [
      "\u001b[32m[I 2021-07-04 21:10:59,747]\u001b[0m Trial 3 finished with value: -1.5945550867162361 and parameters: {'max_depth': 5, 'min_child_weight': 1, 'subsample': 0.8, 'colsample_bytree': 0.8, 'reg_lambda': 0.048439972665940606, 'reg_alpha': 13.128766165290832, 'feature_fraction': 0.4460007676420872, 'bagging_fraction': 0.45911254452053873, 'bagging_freq': 8}. Best is trial 2 with value: -1.590778339641615.\u001b[0m\n"
     ]
    },
    {
     "name": "stdout",
     "output_type": "stream",
     "text": [
      "Early stopping, best iteration is:\n",
      "[436]\ttraining's l1: 0.947413\tvalid_1's l1: 1.59466\n",
      "[LightGBM] [Warning] feature_fraction is set=0.7980811884266139, colsample_bytree=0.8 will be ignored. Current value: feature_fraction=0.7980811884266139\n",
      "[LightGBM] [Warning] bagging_fraction is set=0.7587759125666899, subsample=0.5 will be ignored. Current value: bagging_fraction=0.7587759125666899\n",
      "[LightGBM] [Warning] bagging_freq is set=9, subsample_freq=0 will be ignored. Current value: bagging_freq=9\n",
      "Training until validation scores don't improve for 100 rounds\n",
      "[100]\ttraining's l1: 1.00937\tvalid_1's l1: 1.60696\n",
      "[200]\ttraining's l1: 0.999186\tvalid_1's l1: 1.6006\n",
      "[300]\ttraining's l1: 0.984906\tvalid_1's l1: 1.59424\n",
      "[400]\ttraining's l1: 0.964269\tvalid_1's l1: 1.58708\n",
      "[500]\ttraining's l1: 0.944945\tvalid_1's l1: 1.58294\n",
      "[600]\ttraining's l1: 0.929043\tvalid_1's l1: 1.57865\n",
      "[700]\ttraining's l1: 0.907832\tvalid_1's l1: 1.57717\n"
     ]
    },
    {
     "name": "stderr",
     "output_type": "stream",
     "text": [
      "\u001b[32m[I 2021-07-04 21:11:17,387]\u001b[0m Trial 4 finished with value: -1.5751049790107916 and parameters: {'max_depth': 10, 'min_child_weight': 10, 'subsample': 0.5, 'colsample_bytree': 0.8, 'reg_lambda': 0.5898311442688172, 'reg_alpha': 0.14331920696581923, 'feature_fraction': 0.7980811884266139, 'bagging_fraction': 0.7587759125666899, 'bagging_freq': 9}. Best is trial 4 with value: -1.5751049790107916.\u001b[0m\n"
     ]
    },
    {
     "name": "stdout",
     "output_type": "stream",
     "text": [
      "Early stopping, best iteration is:\n",
      "[649]\ttraining's l1: 0.918956\tvalid_1's l1: 1.57526\n",
      "[LightGBM] [Warning] feature_fraction is set=0.45970799314259986, colsample_bytree=0.6 will be ignored. Current value: feature_fraction=0.45970799314259986\n",
      "[LightGBM] [Warning] bagging_fraction is set=0.6931818040783347, subsample=0.9 will be ignored. Current value: bagging_fraction=0.6931818040783347\n",
      "[LightGBM] [Warning] bagging_freq is set=5, subsample_freq=0 will be ignored. Current value: bagging_freq=5\n",
      "Training until validation scores don't improve for 100 rounds\n",
      "[100]\ttraining's l1: 1.06494\tvalid_1's l1: 1.63937\n",
      "[200]\ttraining's l1: 1.04398\tvalid_1's l1: 1.6298\n",
      "[300]\ttraining's l1: 1.02964\tvalid_1's l1: 1.61975\n",
      "[400]\ttraining's l1: 1.01593\tvalid_1's l1: 1.611\n",
      "[500]\ttraining's l1: 1.00649\tvalid_1's l1: 1.60938\n",
      "[600]\ttraining's l1: 0.998206\tvalid_1's l1: 1.60527\n"
     ]
    },
    {
     "name": "stderr",
     "output_type": "stream",
     "text": [
      "\u001b[32m[I 2021-07-04 21:11:31,650]\u001b[0m Trial 5 finished with value: -1.6030695352745996 and parameters: {'max_depth': 3, 'min_child_weight': 19, 'subsample': 0.9, 'colsample_bytree': 0.6, 'reg_lambda': 39.98280121467718, 'reg_alpha': 0.016472043810269888, 'feature_fraction': 0.45970799314259986, 'bagging_fraction': 0.6931818040783347, 'bagging_freq': 5}. Best is trial 4 with value: -1.5751049790107916.\u001b[0m\n"
     ]
    },
    {
     "name": "stdout",
     "output_type": "stream",
     "text": [
      "Early stopping, best iteration is:\n",
      "[543]\ttraining's l1: 1.00062\tvalid_1's l1: 1.60466\n",
      "[LightGBM] [Warning] feature_fraction is set=0.6408352777452243, colsample_bytree=0.8 will be ignored. Current value: feature_fraction=0.6408352777452243\n",
      "[LightGBM] [Warning] bagging_fraction is set=0.8962622290054824, subsample=0.9 will be ignored. Current value: bagging_fraction=0.8962622290054824\n",
      "[LightGBM] [Warning] bagging_freq is set=7, subsample_freq=0 will be ignored. Current value: bagging_freq=7\n",
      "Training until validation scores don't improve for 100 rounds\n",
      "[100]\ttraining's l1: 1.03555\tvalid_1's l1: 1.61378\n",
      "[200]\ttraining's l1: 1.02497\tvalid_1's l1: 1.60824\n",
      "[300]\ttraining's l1: 1.01473\tvalid_1's l1: 1.60392\n",
      "[400]\ttraining's l1: 1.00183\tvalid_1's l1: 1.59922\n",
      "[500]\ttraining's l1: 0.990288\tvalid_1's l1: 1.59595\n",
      "[600]\ttraining's l1: 0.97911\tvalid_1's l1: 1.5954\n"
     ]
    },
    {
     "name": "stderr",
     "output_type": "stream",
     "text": [
      "\u001b[32m[I 2021-07-04 21:11:45,663]\u001b[0m Trial 6 finished with value: -1.5941891644502215 and parameters: {'max_depth': 4, 'min_child_weight': 8, 'subsample': 0.9, 'colsample_bytree': 0.8, 'reg_lambda': 0.0019337801431733564, 'reg_alpha': 0.08964819739760023, 'feature_fraction': 0.6408352777452243, 'bagging_fraction': 0.8962622290054824, 'bagging_freq': 7}. Best is trial 4 with value: -1.5751049790107916.\u001b[0m\n"
     ]
    },
    {
     "name": "stdout",
     "output_type": "stream",
     "text": [
      "Early stopping, best iteration is:\n",
      "[528]\ttraining's l1: 0.987362\tvalid_1's l1: 1.59448\n",
      "[LightGBM] [Warning] feature_fraction is set=0.9677961150863054, colsample_bytree=0.9 will be ignored. Current value: feature_fraction=0.9677961150863054\n",
      "[LightGBM] [Warning] bagging_fraction is set=0.4517835493353641, subsample=0.6 will be ignored. Current value: bagging_fraction=0.4517835493353641\n",
      "[LightGBM] [Warning] bagging_freq is set=2, subsample_freq=0 will be ignored. Current value: bagging_freq=2\n",
      "Training until validation scores don't improve for 100 rounds\n",
      "[100]\ttraining's l1: 1.03442\tvalid_1's l1: 1.61739\n",
      "[200]\ttraining's l1: 1.02566\tvalid_1's l1: 1.60876\n"
     ]
    },
    {
     "name": "stderr",
     "output_type": "stream",
     "text": [
      "\u001b[32m[I 2021-07-04 21:11:51,791]\u001b[0m Trial 7 finished with value: -1.6082298988381392 and parameters: {'max_depth': 4, 'min_child_weight': 1, 'subsample': 0.6, 'colsample_bytree': 0.9, 'reg_lambda': 1.713450170384561, 'reg_alpha': 3.5068470846410067, 'feature_fraction': 0.9677961150863054, 'bagging_fraction': 0.4517835493353641, 'bagging_freq': 2}. Best is trial 4 with value: -1.5751049790107916.\u001b[0m\n"
     ]
    },
    {
     "name": "stdout",
     "output_type": "stream",
     "text": [
      "Early stopping, best iteration is:\n",
      "[148]\ttraining's l1: 1.02623\tvalid_1's l1: 1.60824\n",
      "[LightGBM] [Warning] feature_fraction is set=0.49872863655974453, colsample_bytree=0.6 will be ignored. Current value: feature_fraction=0.49872863655974453\n",
      "[LightGBM] [Warning] bagging_fraction is set=0.9737185497513647, subsample=0.5 will be ignored. Current value: bagging_fraction=0.9737185497513647\n",
      "[LightGBM] [Warning] bagging_freq is set=4, subsample_freq=0 will be ignored. Current value: bagging_freq=4\n",
      "Training until validation scores don't improve for 100 rounds\n",
      "[100]\ttraining's l1: 1.01045\tvalid_1's l1: 1.61116\n",
      "[200]\ttraining's l1: 0.992016\tvalid_1's l1: 1.6055\n",
      "[300]\ttraining's l1: 0.971989\tvalid_1's l1: 1.59491\n"
     ]
    },
    {
     "name": "stderr",
     "output_type": "stream",
     "text": [
      "\u001b[32m[I 2021-07-04 21:12:05,995]\u001b[0m Trial 8 finished with value: -1.5946059863287425 and parameters: {'max_depth': 13, 'min_child_weight': 3, 'subsample': 0.5, 'colsample_bytree': 0.6, 'reg_lambda': 0.14537134733526694, 'reg_alpha': 2.087613056089499, 'feature_fraction': 0.49872863655974453, 'bagging_fraction': 0.9737185497513647, 'bagging_freq': 4}. Best is trial 4 with value: -1.5751049790107916.\u001b[0m\n"
     ]
    },
    {
     "name": "stdout",
     "output_type": "stream",
     "text": [
      "Early stopping, best iteration is:\n",
      "[299]\ttraining's l1: 0.972201\tvalid_1's l1: 1.59468\n",
      "[LightGBM] [Warning] feature_fraction is set=0.8050867089981084, colsample_bytree=0.9 will be ignored. Current value: feature_fraction=0.8050867089981084\n",
      "[LightGBM] [Warning] bagging_fraction is set=0.5187063005963797, subsample=0.5 will be ignored. Current value: bagging_fraction=0.5187063005963797\n",
      "[LightGBM] [Warning] bagging_freq is set=5, subsample_freq=0 will be ignored. Current value: bagging_freq=5\n",
      "Training until validation scores don't improve for 100 rounds\n",
      "[100]\ttraining's l1: 0.998226\tvalid_1's l1: 1.59539\n",
      "[200]\ttraining's l1: 0.994209\tvalid_1's l1: 1.59454\n",
      "[300]\ttraining's l1: 0.985678\tvalid_1's l1: 1.58747\n",
      "[400]\ttraining's l1: 0.9677\tvalid_1's l1: 1.58547\n"
     ]
    },
    {
     "name": "stderr",
     "output_type": "stream",
     "text": [
      "\u001b[32m[I 2021-07-04 21:12:16,034]\u001b[0m Trial 9 finished with value: -1.585014372337944 and parameters: {'max_depth': 6, 'min_child_weight': 4, 'subsample': 0.5, 'colsample_bytree': 0.9, 'reg_lambda': 0.13006171428835034, 'reg_alpha': 0.022697625283406644, 'feature_fraction': 0.8050867089981084, 'bagging_fraction': 0.5187063005963797, 'bagging_freq': 5}. Best is trial 4 with value: -1.5751049790107916.\u001b[0m\n"
     ]
    },
    {
     "name": "stdout",
     "output_type": "stream",
     "text": [
      "[500]\ttraining's l1: 0.952241\tvalid_1's l1: 1.58673\n",
      "Early stopping, best iteration is:\n",
      "[403]\ttraining's l1: 0.967192\tvalid_1's l1: 1.58506\n",
      "[LightGBM] [Warning] feature_fraction is set=0.7876032612146173, colsample_bytree=0.7 will be ignored. Current value: feature_fraction=0.7876032612146173\n",
      "[LightGBM] [Warning] bagging_fraction is set=0.815127084721359, subsample=0.6 will be ignored. Current value: bagging_fraction=0.815127084721359\n",
      "[LightGBM] [Warning] bagging_freq is set=10, subsample_freq=0 will be ignored. Current value: bagging_freq=10\n",
      "Training until validation scores don't improve for 100 rounds\n",
      "[100]\ttraining's l1: 1.00895\tvalid_1's l1: 1.60315\n",
      "[200]\ttraining's l1: 0.999839\tvalid_1's l1: 1.59909\n",
      "[300]\ttraining's l1: 0.982766\tvalid_1's l1: 1.59379\n",
      "[400]\ttraining's l1: 0.968856\tvalid_1's l1: 1.5937\n",
      "[500]\ttraining's l1: 0.949385\tvalid_1's l1: 1.59086\n",
      "[600]\ttraining's l1: 0.923423\tvalid_1's l1: 1.58495\n"
     ]
    },
    {
     "name": "stderr",
     "output_type": "stream",
     "text": [
      "\u001b[32m[I 2021-07-04 21:12:32,723]\u001b[0m Trial 10 finished with value: -1.5840872904396983 and parameters: {'max_depth': 20, 'min_child_weight': 16, 'subsample': 0.6, 'colsample_bytree': 0.7, 'reg_lambda': 937.7829782869147, 'reg_alpha': 0.002079218561754072, 'feature_fraction': 0.7876032612146173, 'bagging_fraction': 0.815127084721359, 'bagging_freq': 10}. Best is trial 4 with value: -1.5751049790107916.\u001b[0m\n"
     ]
    },
    {
     "name": "stdout",
     "output_type": "stream",
     "text": [
      "Early stopping, best iteration is:\n",
      "[555]\ttraining's l1: 0.935148\tvalid_1's l1: 1.58413\n",
      "[LightGBM] [Warning] feature_fraction is set=0.7815659719577082, colsample_bytree=0.7 will be ignored. Current value: feature_fraction=0.7815659719577082\n",
      "[LightGBM] [Warning] bagging_fraction is set=0.8307143427332996, subsample=0.6 will be ignored. Current value: bagging_fraction=0.8307143427332996\n",
      "[LightGBM] [Warning] bagging_freq is set=10, subsample_freq=0 will be ignored. Current value: bagging_freq=10\n",
      "Training until validation scores don't improve for 100 rounds\n",
      "[100]\ttraining's l1: 1.0057\tvalid_1's l1: 1.5994\n"
     ]
    },
    {
     "name": "stderr",
     "output_type": "stream",
     "text": [
      "\u001b[32m[I 2021-07-04 21:12:38,732]\u001b[0m Trial 11 finished with value: -1.5990687910729815 and parameters: {'max_depth': 20, 'min_child_weight': 17, 'subsample': 0.6, 'colsample_bytree': 0.7, 'reg_lambda': 810.1560970530304, 'reg_alpha': 0.0010531494488833662, 'feature_fraction': 0.7815659719577082, 'bagging_fraction': 0.8307143427332996, 'bagging_freq': 10}. Best is trial 4 with value: -1.5751049790107916.\u001b[0m\n"
     ]
    },
    {
     "name": "stdout",
     "output_type": "stream",
     "text": [
      "Early stopping, best iteration is:\n",
      "[97]\ttraining's l1: 1.00667\tvalid_1's l1: 1.59907\n",
      "[LightGBM] [Warning] feature_fraction is set=0.8281884428767093, colsample_bytree=0.7 will be ignored. Current value: feature_fraction=0.8281884428767093\n",
      "[LightGBM] [Warning] bagging_fraction is set=0.8001437571436298, subsample=0.6 will be ignored. Current value: bagging_fraction=0.8001437571436298\n",
      "[LightGBM] [Warning] bagging_freq is set=10, subsample_freq=0 will be ignored. Current value: bagging_freq=10\n",
      "Training until validation scores don't improve for 100 rounds\n",
      "[100]\ttraining's l1: 1.00662\tvalid_1's l1: 1.60469\n",
      "[200]\ttraining's l1: 0.998498\tvalid_1's l1: 1.60095\n",
      "[300]\ttraining's l1: 0.976094\tvalid_1's l1: 1.59645\n",
      "[400]\ttraining's l1: 0.960063\tvalid_1's l1: 1.59539\n"
     ]
    },
    {
     "name": "stderr",
     "output_type": "stream",
     "text": [
      "\u001b[32m[I 2021-07-04 21:12:50,515]\u001b[0m Trial 12 finished with value: -1.5945914638700658 and parameters: {'max_depth': 13, 'min_child_weight': 14, 'subsample': 0.6, 'colsample_bytree': 0.7, 'reg_lambda': 676.6038496337891, 'reg_alpha': 0.001001502725222791, 'feature_fraction': 0.8281884428767093, 'bagging_fraction': 0.8001437571436298, 'bagging_freq': 10}. Best is trial 4 with value: -1.5751049790107916.\u001b[0m\n"
     ]
    },
    {
     "name": "stdout",
     "output_type": "stream",
     "text": [
      "Early stopping, best iteration is:\n",
      "[350]\ttraining's l1: 0.970153\tvalid_1's l1: 1.59465\n",
      "[LightGBM] [Warning] feature_fraction is set=0.989697008034256, colsample_bytree=0.8 will be ignored. Current value: feature_fraction=0.989697008034256\n",
      "[LightGBM] [Warning] bagging_fraction is set=0.80359176143123, subsample=0.7 will be ignored. Current value: bagging_fraction=0.80359176143123\n",
      "[LightGBM] [Warning] bagging_freq is set=10, subsample_freq=0 will be ignored. Current value: bagging_freq=10\n",
      "Training until validation scores don't improve for 100 rounds\n",
      "[100]\ttraining's l1: 1.00759\tvalid_1's l1: 1.60291\n",
      "[200]\ttraining's l1: 1.00612\tvalid_1's l1: 1.60285\n",
      "[300]\ttraining's l1: 1.00017\tvalid_1's l1: 1.60239\n",
      "[400]\ttraining's l1: 0.9698\tvalid_1's l1: 1.59172\n",
      "[500]\ttraining's l1: 0.945276\tvalid_1's l1: 1.58636\n",
      "[600]\ttraining's l1: 0.935689\tvalid_1's l1: 1.58793\n"
     ]
    },
    {
     "name": "stderr",
     "output_type": "stream",
     "text": [
      "\u001b[32m[I 2021-07-04 21:13:05,835]\u001b[0m Trial 13 finished with value: -1.5858628595298117 and parameters: {'max_depth': 20, 'min_child_weight': 11, 'subsample': 0.7, 'colsample_bytree': 0.8, 'reg_lambda': 0.007968025070269627, 'reg_alpha': 0.2093479889794102, 'feature_fraction': 0.989697008034256, 'bagging_fraction': 0.80359176143123, 'bagging_freq': 10}. Best is trial 4 with value: -1.5751049790107916.\u001b[0m\n"
     ]
    },
    {
     "name": "stdout",
     "output_type": "stream",
     "text": [
      "Early stopping, best iteration is:\n",
      "[509]\ttraining's l1: 0.942735\tvalid_1's l1: 1.58592\n",
      "[LightGBM] [Warning] feature_fraction is set=0.7380507191099206, colsample_bytree=0.8 will be ignored. Current value: feature_fraction=0.7380507191099206\n",
      "[LightGBM] [Warning] bagging_fraction is set=0.9818618012566629, subsample=0.6 will be ignored. Current value: bagging_fraction=0.9818618012566629\n",
      "[LightGBM] [Warning] bagging_freq is set=7, subsample_freq=0 will be ignored. Current value: bagging_freq=7\n",
      "Training until validation scores don't improve for 100 rounds\n",
      "[100]\ttraining's l1: 1.00823\tvalid_1's l1: 1.60575\n",
      "[200]\ttraining's l1: 0.990712\tvalid_1's l1: 1.60123\n",
      "[300]\ttraining's l1: 0.974969\tvalid_1's l1: 1.5944\n",
      "[400]\ttraining's l1: 0.958611\tvalid_1's l1: 1.5864\n",
      "[500]\ttraining's l1: 0.940017\tvalid_1's l1: 1.58771\n"
     ]
    },
    {
     "name": "stderr",
     "output_type": "stream",
     "text": [
      "\u001b[32m[I 2021-07-04 21:13:21,008]\u001b[0m Trial 14 finished with value: -1.5843179040375799 and parameters: {'max_depth': 10, 'min_child_weight': 15, 'subsample': 0.6, 'colsample_bytree': 0.8, 'reg_lambda': 2.09896966495623, 'reg_alpha': 0.003220792174802079, 'feature_fraction': 0.7380507191099206, 'bagging_fraction': 0.9818618012566629, 'bagging_freq': 7}. Best is trial 4 with value: -1.5751049790107916.\u001b[0m\n"
     ]
    },
    {
     "name": "stdout",
     "output_type": "stream",
     "text": [
      "Early stopping, best iteration is:\n",
      "[436]\ttraining's l1: 0.952339\tvalid_1's l1: 1.58438\n",
      "[LightGBM] [Warning] feature_fraction is set=0.906827793679585, colsample_bytree=0.7 will be ignored. Current value: feature_fraction=0.906827793679585\n",
      "[LightGBM] [Warning] bagging_fraction is set=0.7402888372662353, subsample=0.5 will be ignored. Current value: bagging_fraction=0.7402888372662353\n",
      "[LightGBM] [Warning] bagging_freq is set=9, subsample_freq=0 will be ignored. Current value: bagging_freq=9\n",
      "Training until validation scores don't improve for 100 rounds\n",
      "[100]\ttraining's l1: 1.01359\tvalid_1's l1: 1.60548\n",
      "[200]\ttraining's l1: 1.00251\tvalid_1's l1: 1.60095\n",
      "[300]\ttraining's l1: 0.973497\tvalid_1's l1: 1.58662\n",
      "[400]\ttraining's l1: 0.949754\tvalid_1's l1: 1.58507\n"
     ]
    },
    {
     "name": "stderr",
     "output_type": "stream",
     "text": [
      "\u001b[32m[I 2021-07-04 21:13:31,485]\u001b[0m Trial 15 finished with value: -1.5823330947868963 and parameters: {'max_depth': 17, 'min_child_weight': 20, 'subsample': 0.5, 'colsample_bytree': 0.7, 'reg_lambda': 7.634709239485502, 'reg_alpha': 0.30445069623945215, 'feature_fraction': 0.906827793679585, 'bagging_fraction': 0.7402888372662353, 'bagging_freq': 9}. Best is trial 4 with value: -1.5751049790107916.\u001b[0m\n"
     ]
    },
    {
     "name": "stdout",
     "output_type": "stream",
     "text": [
      "Early stopping, best iteration is:\n",
      "[323]\ttraining's l1: 0.966789\tvalid_1's l1: 1.58239\n",
      "[LightGBM] [Warning] feature_fraction is set=0.8925340718340513, colsample_bytree=0.8 will be ignored. Current value: feature_fraction=0.8925340718340513\n",
      "[LightGBM] [Warning] bagging_fraction is set=0.5848211154410646, subsample=0.5 will be ignored. Current value: bagging_fraction=0.5848211154410646\n",
      "[LightGBM] [Warning] bagging_freq is set=8, subsample_freq=0 will be ignored. Current value: bagging_freq=8\n",
      "Training until validation scores don't improve for 100 rounds\n",
      "[100]\ttraining's l1: 1.00975\tvalid_1's l1: 1.60458\n",
      "[200]\ttraining's l1: 1.00186\tvalid_1's l1: 1.6037\n",
      "[300]\ttraining's l1: 0.99337\tvalid_1's l1: 1.59843\n",
      "[400]\ttraining's l1: 0.970167\tvalid_1's l1: 1.59278\n",
      "[500]\ttraining's l1: 0.953925\tvalid_1's l1: 1.58818\n",
      "[600]\ttraining's l1: 0.925474\tvalid_1's l1: 1.59205\n"
     ]
    },
    {
     "name": "stderr",
     "output_type": "stream",
     "text": [
      "\u001b[32m[I 2021-07-04 21:13:44,855]\u001b[0m Trial 16 finished with value: -1.5851717062279858 and parameters: {'max_depth': 17, 'min_child_weight': 8, 'subsample': 0.5, 'colsample_bytree': 0.8, 'reg_lambda': 6.118744378111182, 'reg_alpha': 0.2251481080474988, 'feature_fraction': 0.8925340718340513, 'bagging_fraction': 0.5848211154410646, 'bagging_freq': 8}. Best is trial 4 with value: -1.5751049790107916.\u001b[0m\n"
     ]
    },
    {
     "name": "stdout",
     "output_type": "stream",
     "text": [
      "Early stopping, best iteration is:\n",
      "[541]\ttraining's l1: 0.939593\tvalid_1's l1: 1.58523\n",
      "[LightGBM] [Warning] feature_fraction is set=0.9269144425909467, colsample_bytree=0.5 will be ignored. Current value: feature_fraction=0.9269144425909467\n",
      "[LightGBM] [Warning] bagging_fraction is set=0.7236624537179004, subsample=0.5 will be ignored. Current value: bagging_fraction=0.7236624537179004\n",
      "[LightGBM] [Warning] bagging_freq is set=1, subsample_freq=0 will be ignored. Current value: bagging_freq=1\n",
      "Training until validation scores don't improve for 100 rounds\n",
      "[100]\ttraining's l1: 1.0046\tvalid_1's l1: 1.60087\n",
      "[200]\ttraining's l1: 1.00234\tvalid_1's l1: 1.60056\n",
      "[300]\ttraining's l1: 0.992917\tvalid_1's l1: 1.59704\n",
      "[400]\ttraining's l1: 0.97026\tvalid_1's l1: 1.58903\n",
      "[500]\ttraining's l1: 0.947995\tvalid_1's l1: 1.59053\n",
      "[600]\ttraining's l1: 0.926412\tvalid_1's l1: 1.58847\n",
      "[700]\ttraining's l1: 0.910786\tvalid_1's l1: 1.58415\n"
     ]
    },
    {
     "name": "stderr",
     "output_type": "stream",
     "text": [
      "\u001b[32m[I 2021-07-04 21:14:00,430]\u001b[0m Trial 17 finished with value: -1.583085220199963 and parameters: {'max_depth': 16, 'min_child_weight': 20, 'subsample': 0.5, 'colsample_bytree': 0.5, 'reg_lambda': 94.4050075595017, 'reg_alpha': 0.023867406060776305, 'feature_fraction': 0.9269144425909467, 'bagging_fraction': 0.7236624537179004, 'bagging_freq': 1}. Best is trial 4 with value: -1.5751049790107916.\u001b[0m\n"
     ]
    },
    {
     "name": "stdout",
     "output_type": "stream",
     "text": [
      "Early stopping, best iteration is:\n",
      "[678]\ttraining's l1: 0.912981\tvalid_1's l1: 1.5834\n",
      "[LightGBM] [Warning] feature_fraction is set=0.8630330415929465, colsample_bytree=0.7 will be ignored. Current value: feature_fraction=0.8630330415929465\n",
      "[LightGBM] [Warning] bagging_fraction is set=0.7545010514449182, subsample=0.8 will be ignored. Current value: bagging_fraction=0.7545010514449182\n",
      "[LightGBM] [Warning] bagging_freq is set=7, subsample_freq=0 will be ignored. Current value: bagging_freq=7\n",
      "Training until validation scores don't improve for 100 rounds\n",
      "[100]\ttraining's l1: 1.00409\tvalid_1's l1: 1.60112\n",
      "[200]\ttraining's l1: 0.998105\tvalid_1's l1: 1.5994\n",
      "[300]\ttraining's l1: 0.98847\tvalid_1's l1: 1.59596\n",
      "[400]\ttraining's l1: 0.970851\tvalid_1's l1: 1.5898\n",
      "[500]\ttraining's l1: 0.948458\tvalid_1's l1: 1.59003\n"
     ]
    },
    {
     "name": "stderr",
     "output_type": "stream",
     "text": [
      "\u001b[32m[I 2021-07-04 21:14:13,409]\u001b[0m Trial 18 finished with value: -1.589147375778676 and parameters: {'max_depth': 9, 'min_child_weight': 12, 'subsample': 0.8, 'colsample_bytree': 0.7, 'reg_lambda': 0.6821052442059279, 'reg_alpha': 0.6603456976212465, 'feature_fraction': 0.8630330415929465, 'bagging_fraction': 0.7545010514449182, 'bagging_freq': 7}. Best is trial 4 with value: -1.5751049790107916.\u001b[0m\n"
     ]
    },
    {
     "name": "stdout",
     "output_type": "stream",
     "text": [
      "Early stopping, best iteration is:\n",
      "[417]\ttraining's l1: 0.969214\tvalid_1's l1: 1.58922\n",
      "[LightGBM] [Warning] feature_fraction is set=0.7204738388703974, colsample_bytree=0.6 will be ignored. Current value: feature_fraction=0.7204738388703974\n",
      "[LightGBM] [Warning] bagging_fraction is set=0.8648043131109223, subsample=0.5 will be ignored. Current value: bagging_fraction=0.8648043131109223\n",
      "[LightGBM] [Warning] bagging_freq is set=9, subsample_freq=0 will be ignored. Current value: bagging_freq=9\n",
      "Training until validation scores don't improve for 100 rounds\n",
      "[100]\ttraining's l1: 1.15667\tvalid_1's l1: 1.74899\n",
      "[200]\ttraining's l1: 1.15581\tvalid_1's l1: 1.74676\n",
      "[300]\ttraining's l1: 1.14966\tvalid_1's l1: 1.73399\n"
     ]
    },
    {
     "name": "stderr",
     "output_type": "stream",
     "text": [
      "\u001b[32m[I 2021-07-04 21:14:19,685]\u001b[0m Trial 19 finished with value: -1.7336477120849103 and parameters: {'max_depth': 1, 'min_child_weight': 6, 'subsample': 0.5, 'colsample_bytree': 0.6, 'reg_lambda': 0.021859732040390135, 'reg_alpha': 392.9495023884897, 'feature_fraction': 0.7204738388703974, 'bagging_fraction': 0.8648043131109223, 'bagging_freq': 9}. Best is trial 4 with value: -1.5751049790107916.\u001b[0m\n"
     ]
    },
    {
     "name": "stdout",
     "output_type": "stream",
     "text": [
      "Early stopping, best iteration is:\n",
      "[235]\ttraining's l1: 1.14992\tvalid_1's l1: 1.73365\n",
      "[LightGBM] [Warning] feature_fraction is set=0.6269612111671312, colsample_bytree=0.8 will be ignored. Current value: feature_fraction=0.6269612111671312\n",
      "[LightGBM] [Warning] bagging_fraction is set=0.9122833570320731, subsample=0.7 will be ignored. Current value: bagging_fraction=0.9122833570320731\n",
      "[LightGBM] [Warning] bagging_freq is set=3, subsample_freq=0 will be ignored. Current value: bagging_freq=3\n",
      "Training until validation scores don't improve for 100 rounds\n",
      "[100]\ttraining's l1: 1.00863\tvalid_1's l1: 1.60406\n",
      "[200]\ttraining's l1: 0.998132\tvalid_1's l1: 1.60041\n",
      "[300]\ttraining's l1: 0.987026\tvalid_1's l1: 1.59695\n",
      "[400]\ttraining's l1: 0.968178\tvalid_1's l1: 1.59523\n",
      "[500]\ttraining's l1: 0.946443\tvalid_1's l1: 1.59364\n"
     ]
    },
    {
     "name": "stderr",
     "output_type": "stream",
     "text": [
      "\u001b[32m[I 2021-07-04 21:14:37,514]\u001b[0m Trial 20 finished with value: -1.5914582842887794 and parameters: {'max_depth': 12, 'min_child_weight': 9, 'subsample': 0.7, 'colsample_bytree': 0.8, 'reg_lambda': 169.03274701050825, 'reg_alpha': 0.06554670412297642, 'feature_fraction': 0.6269612111671312, 'bagging_fraction': 0.9122833570320731, 'bagging_freq': 3}. Best is trial 4 with value: -1.5751049790107916.\u001b[0m\n"
     ]
    },
    {
     "name": "stdout",
     "output_type": "stream",
     "text": [
      "Early stopping, best iteration is:\n",
      "[483]\ttraining's l1: 0.952971\tvalid_1's l1: 1.59163\n",
      "[LightGBM] [Warning] feature_fraction is set=0.9503642826112056, colsample_bytree=0.5 will be ignored. Current value: feature_fraction=0.9503642826112056\n",
      "[LightGBM] [Warning] bagging_fraction is set=0.7358319195062313, subsample=0.5 will be ignored. Current value: bagging_fraction=0.7358319195062313\n",
      "[LightGBM] [Warning] bagging_freq is set=1, subsample_freq=0 will be ignored. Current value: bagging_freq=1\n",
      "Training until validation scores don't improve for 100 rounds\n",
      "[100]\ttraining's l1: 1.00565\tvalid_1's l1: 1.60068\n",
      "[200]\ttraining's l1: 1.00031\tvalid_1's l1: 1.59825\n",
      "[300]\ttraining's l1: 0.983889\tvalid_1's l1: 1.5944\n",
      "[400]\ttraining's l1: 0.967807\tvalid_1's l1: 1.58897\n",
      "[500]\ttraining's l1: 0.950453\tvalid_1's l1: 1.5869\n",
      "[600]\ttraining's l1: 0.924145\tvalid_1's l1: 1.58712\n"
     ]
    },
    {
     "name": "stderr",
     "output_type": "stream",
     "text": [
      "\u001b[32m[I 2021-07-04 21:14:50,876]\u001b[0m Trial 21 finished with value: -1.5806749694020694 and parameters: {'max_depth': 16, 'min_child_weight': 20, 'subsample': 0.5, 'colsample_bytree': 0.5, 'reg_lambda': 137.39573770154186, 'reg_alpha': 0.01960427239519014, 'feature_fraction': 0.9503642826112056, 'bagging_fraction': 0.7358319195062313, 'bagging_freq': 1}. Best is trial 4 with value: -1.5751049790107916.\u001b[0m\n"
     ]
    },
    {
     "name": "stdout",
     "output_type": "stream",
     "text": [
      "Early stopping, best iteration is:\n",
      "[551]\ttraining's l1: 0.940001\tvalid_1's l1: 1.58075\n",
      "[LightGBM] [Warning] feature_fraction is set=0.9256604315222332, colsample_bytree=0.5 will be ignored. Current value: feature_fraction=0.9256604315222332\n",
      "[LightGBM] [Warning] bagging_fraction is set=0.7522344107498221, subsample=0.5 will be ignored. Current value: bagging_fraction=0.7522344107498221\n",
      "[LightGBM] [Warning] bagging_freq is set=1, subsample_freq=0 will be ignored. Current value: bagging_freq=1\n",
      "Training until validation scores don't improve for 100 rounds\n",
      "[100]\ttraining's l1: 1.00929\tvalid_1's l1: 1.60405\n",
      "[200]\ttraining's l1: 1.0019\tvalid_1's l1: 1.60342\n",
      "[300]\ttraining's l1: 0.982536\tvalid_1's l1: 1.59447\n",
      "[400]\ttraining's l1: 0.949139\tvalid_1's l1: 1.58859\n"
     ]
    },
    {
     "name": "stderr",
     "output_type": "stream",
     "text": [
      "\u001b[32m[I 2021-07-04 21:15:00,817]\u001b[0m Trial 22 finished with value: -1.5878935392068942 and parameters: {'max_depth': 16, 'min_child_weight': 19, 'subsample': 0.5, 'colsample_bytree': 0.5, 'reg_lambda': 5.065581973540365, 'reg_alpha': 0.005064703543267043, 'feature_fraction': 0.9256604315222332, 'bagging_fraction': 0.7522344107498221, 'bagging_freq': 1}. Best is trial 4 with value: -1.5751049790107916.\u001b[0m\n"
     ]
    },
    {
     "name": "stdout",
     "output_type": "stream",
     "text": [
      "Early stopping, best iteration is:\n",
      "[363]\ttraining's l1: 0.959801\tvalid_1's l1: 1.58792\n",
      "[LightGBM] [Warning] feature_fraction is set=0.9823745349692606, colsample_bytree=0.9 will be ignored. Current value: feature_fraction=0.9823745349692606\n",
      "[LightGBM] [Warning] bagging_fraction is set=0.6003097726899768, subsample=0.6 will be ignored. Current value: bagging_fraction=0.6003097726899768\n",
      "[LightGBM] [Warning] bagging_freq is set=6, subsample_freq=0 will be ignored. Current value: bagging_freq=6\n",
      "Training until validation scores don't improve for 100 rounds\n",
      "[100]\ttraining's l1: 0.998584\tvalid_1's l1: 1.60103\n",
      "[200]\ttraining's l1: 0.975411\tvalid_1's l1: 1.59082\n",
      "[300]\ttraining's l1: 0.971573\tvalid_1's l1: 1.59104\n",
      "Early stopping, best iteration is:\n",
      "[207]\ttraining's l1: 0.973171\tvalid_1's l1: 1.58964\n"
     ]
    },
    {
     "name": "stderr",
     "output_type": "stream",
     "text": [
      "\u001b[32m[I 2021-07-04 21:15:08,483]\u001b[0m Trial 23 finished with value: -1.5896282556308605 and parameters: {'max_depth': 18, 'min_child_weight': 18, 'subsample': 0.6, 'colsample_bytree': 0.9, 'reg_lambda': 255.33861569855205, 'reg_alpha': 0.5673451095682283, 'feature_fraction': 0.9823745349692606, 'bagging_fraction': 0.6003097726899768, 'bagging_freq': 6}. Best is trial 4 with value: -1.5751049790107916.\u001b[0m\n"
     ]
    },
    {
     "name": "stdout",
     "output_type": "stream",
     "text": [
      "[LightGBM] [Warning] feature_fraction is set=0.9384234039171548, colsample_bytree=0.6 will be ignored. Current value: feature_fraction=0.9384234039171548\n",
      "[LightGBM] [Warning] bagging_fraction is set=0.6954430768564116, subsample=0.5 will be ignored. Current value: bagging_fraction=0.6954430768564116\n",
      "[LightGBM] [Warning] bagging_freq is set=9, subsample_freq=0 will be ignored. Current value: bagging_freq=9\n",
      "Training until validation scores don't improve for 100 rounds\n",
      "[100]\ttraining's l1: 1.00653\tvalid_1's l1: 1.60231\n",
      "[200]\ttraining's l1: 0.998365\tvalid_1's l1: 1.59907\n",
      "[300]\ttraining's l1: 0.984847\tvalid_1's l1: 1.59618\n",
      "[400]\ttraining's l1: 0.963973\tvalid_1's l1: 1.59103\n",
      "[500]\ttraining's l1: 0.950608\tvalid_1's l1: 1.58735\n",
      "[600]\ttraining's l1: 0.941651\tvalid_1's l1: 1.58859\n"
     ]
    },
    {
     "name": "stderr",
     "output_type": "stream",
     "text": [
      "\u001b[32m[I 2021-07-04 21:15:22,195]\u001b[0m Trial 24 finished with value: -1.5862344397894197 and parameters: {'max_depth': 14, 'min_child_weight': 20, 'subsample': 0.5, 'colsample_bytree': 0.6, 'reg_lambda': 9.729829409433762, 'reg_alpha': 0.010040773357819938, 'feature_fraction': 0.9384234039171548, 'bagging_fraction': 0.6954430768564116, 'bagging_freq': 9}. Best is trial 4 with value: -1.5751049790107916.\u001b[0m\n"
     ]
    },
    {
     "name": "stdout",
     "output_type": "stream",
     "text": [
      "Early stopping, best iteration is:\n",
      "[516]\ttraining's l1: 0.946926\tvalid_1's l1: 1.58637\n",
      "[LightGBM] [Warning] feature_fraction is set=0.8506063704974071, colsample_bytree=0.7 will be ignored. Current value: feature_fraction=0.8506063704974071\n",
      "[LightGBM] [Warning] bagging_fraction is set=0.7594377812416745, subsample=0.6 will be ignored. Current value: bagging_fraction=0.7594377812416745\n",
      "[LightGBM] [Warning] bagging_freq is set=6, subsample_freq=0 will be ignored. Current value: bagging_freq=6\n",
      "Training until validation scores don't improve for 100 rounds\n",
      "[100]\ttraining's l1: 1.0077\tvalid_1's l1: 1.59942\n",
      "[200]\ttraining's l1: 0.988658\tvalid_1's l1: 1.59522\n",
      "[300]\ttraining's l1: 0.962206\tvalid_1's l1: 1.58675\n"
     ]
    },
    {
     "name": "stderr",
     "output_type": "stream",
     "text": [
      "\u001b[32m[I 2021-07-04 21:15:32,747]\u001b[0m Trial 25 finished with value: -1.5866033515180495 and parameters: {'max_depth': 9, 'min_child_weight': 12, 'subsample': 0.6, 'colsample_bytree': 0.7, 'reg_lambda': 0.8048845408764664, 'reg_alpha': 0.06636088980730037, 'feature_fraction': 0.8506063704974071, 'bagging_fraction': 0.7594377812416745, 'bagging_freq': 6}. Best is trial 4 with value: -1.5751049790107916.\u001b[0m\n"
     ]
    },
    {
     "name": "stdout",
     "output_type": "stream",
     "text": [
      "Early stopping, best iteration is:\n",
      "[296]\ttraining's l1: 0.963094\tvalid_1's l1: 1.58669\n",
      "[LightGBM] [Warning] feature_fraction is set=0.7443876079930398, colsample_bytree=0.5 will be ignored. Current value: feature_fraction=0.7443876079930398\n",
      "[LightGBM] [Warning] bagging_fraction is set=0.6358750520948135, subsample=0.5 will be ignored. Current value: bagging_fraction=0.6358750520948135\n",
      "[LightGBM] [Warning] bagging_freq is set=2, subsample_freq=0 will be ignored. Current value: bagging_freq=2\n",
      "Training until validation scores don't improve for 100 rounds\n",
      "[100]\ttraining's l1: 1.00651\tvalid_1's l1: 1.60241\n",
      "[200]\ttraining's l1: 0.984564\tvalid_1's l1: 1.59642\n",
      "[300]\ttraining's l1: 0.973704\tvalid_1's l1: 1.59434\n",
      "[400]\ttraining's l1: 0.961016\tvalid_1's l1: 1.59057\n",
      "[500]\ttraining's l1: 0.941433\tvalid_1's l1: 1.58453\n",
      "[600]\ttraining's l1: 0.92195\tvalid_1's l1: 1.58413\n",
      "[700]\ttraining's l1: 0.905876\tvalid_1's l1: 1.586\n"
     ]
    },
    {
     "name": "stderr",
     "output_type": "stream",
     "text": [
      "\u001b[32m[I 2021-07-04 21:15:51,662]\u001b[0m Trial 26 finished with value: -1.5837928336146985 and parameters: {'max_depth': 15, 'min_child_weight': 13, 'subsample': 0.5, 'colsample_bytree': 0.5, 'reg_lambda': 59.56761969101509, 'reg_alpha': 0.25700935998100655, 'feature_fraction': 0.7443876079930398, 'bagging_fraction': 0.6358750520948135, 'bagging_freq': 2}. Best is trial 4 with value: -1.5751049790107916.\u001b[0m\n"
     ]
    },
    {
     "name": "stdout",
     "output_type": "stream",
     "text": [
      "Early stopping, best iteration is:\n",
      "[616]\ttraining's l1: 0.91975\tvalid_1's l1: 1.58401\n",
      "[LightGBM] [Warning] feature_fraction is set=0.9012249152067603, colsample_bytree=0.8 will be ignored. Current value: feature_fraction=0.9012249152067603\n",
      "[LightGBM] [Warning] bagging_fraction is set=0.7186554096434187, subsample=0.5 will be ignored. Current value: bagging_fraction=0.7186554096434187\n",
      "[LightGBM] [Warning] bagging_freq is set=9, subsample_freq=0 will be ignored. Current value: bagging_freq=9\n",
      "Training until validation scores don't improve for 100 rounds\n",
      "[100]\ttraining's l1: 1.00747\tvalid_1's l1: 1.6043\n"
     ]
    },
    {
     "name": "stderr",
     "output_type": "stream",
     "text": [
      "\u001b[32m[I 2021-07-04 21:15:57,081]\u001b[0m Trial 27 finished with value: -1.6041365238837704 and parameters: {'max_depth': 18, 'min_child_weight': 10, 'subsample': 0.5, 'colsample_bytree': 0.8, 'reg_lambda': 19.544809372883442, 'reg_alpha': 0.07153513103010749, 'feature_fraction': 0.9012249152067603, 'bagging_fraction': 0.7186554096434187, 'bagging_freq': 9}. Best is trial 4 with value: -1.5751049790107916.\u001b[0m\n"
     ]
    },
    {
     "name": "stdout",
     "output_type": "stream",
     "text": [
      "Early stopping, best iteration is:\n",
      "[89]\ttraining's l1: 1.00824\tvalid_1's l1: 1.60414\n",
      "[LightGBM] [Warning] feature_fraction is set=0.8247478910387895, colsample_bytree=0.9 will be ignored. Current value: feature_fraction=0.8247478910387895\n",
      "[LightGBM] [Warning] bagging_fraction is set=0.85363448428025, subsample=0.6 will be ignored. Current value: bagging_fraction=0.85363448428025\n",
      "[LightGBM] [Warning] bagging_freq is set=4, subsample_freq=0 will be ignored. Current value: bagging_freq=4\n",
      "Training until validation scores don't improve for 100 rounds\n",
      "[100]\ttraining's l1: 1.01465\tvalid_1's l1: 1.60493\n",
      "[200]\ttraining's l1: 1.00218\tvalid_1's l1: 1.59943\n",
      "[300]\ttraining's l1: 0.973625\tvalid_1's l1: 1.58913\n",
      "[400]\ttraining's l1: 0.942092\tvalid_1's l1: 1.58123\n"
     ]
    },
    {
     "name": "stderr",
     "output_type": "stream",
     "text": [
      "\u001b[32m[I 2021-07-04 21:16:12,222]\u001b[0m Trial 28 finished with value: -1.5810280761928004 and parameters: {'max_depth': 11, 'min_child_weight': 17, 'subsample': 0.6, 'colsample_bytree': 0.9, 'reg_lambda': 2.474823781717857, 'reg_alpha': 1.0834545122758426, 'feature_fraction': 0.8247478910387895, 'bagging_fraction': 0.85363448428025, 'bagging_freq': 4}. Best is trial 4 with value: -1.5751049790107916.\u001b[0m\n"
     ]
    },
    {
     "name": "stdout",
     "output_type": "stream",
     "text": [
      "Early stopping, best iteration is:\n",
      "[398]\ttraining's l1: 0.942535\tvalid_1's l1: 1.58108\n",
      "[LightGBM] [Warning] feature_fraction is set=0.8365079910917685, colsample_bytree=0.9 will be ignored. Current value: feature_fraction=0.8365079910917685\n",
      "[LightGBM] [Warning] bagging_fraction is set=0.9011391580336023, subsample=0.6 will be ignored. Current value: bagging_fraction=0.9011391580336023\n",
      "[LightGBM] [Warning] bagging_freq is set=4, subsample_freq=0 will be ignored. Current value: bagging_freq=4\n",
      "Training until validation scores don't improve for 100 rounds\n",
      "[100]\ttraining's l1: 1.00437\tvalid_1's l1: 1.60044\n",
      "[200]\ttraining's l1: 0.996636\tvalid_1's l1: 1.59822\n",
      "[300]\ttraining's l1: 0.991514\tvalid_1's l1: 1.59736\n",
      "[400]\ttraining's l1: 0.974496\tvalid_1's l1: 1.59267\n",
      "[500]\ttraining's l1: 0.946819\tvalid_1's l1: 1.58884\n"
     ]
    },
    {
     "name": "stderr",
     "output_type": "stream",
     "text": [
      "\u001b[32m[I 2021-07-04 21:16:29,907]\u001b[0m Trial 29 finished with value: -1.5869128353925064 and parameters: {'max_depth': 8, 'min_child_weight': 17, 'subsample': 0.6, 'colsample_bytree': 0.9, 'reg_lambda': 2.9129881818004195, 'reg_alpha': 2.412198450396949, 'feature_fraction': 0.8365079910917685, 'bagging_fraction': 0.9011391580336023, 'bagging_freq': 4}. Best is trial 4 with value: -1.5751049790107916.\u001b[0m\n"
     ]
    },
    {
     "name": "stdout",
     "output_type": "stream",
     "text": [
      "Early stopping, best iteration is:\n",
      "[484]\ttraining's l1: 0.950725\tvalid_1's l1: 1.587\n",
      "[LightGBM] [Warning] feature_fraction is set=0.7686316963901693, colsample_bytree=0.9 will be ignored. Current value: feature_fraction=0.7686316963901693\n",
      "[LightGBM] [Warning] bagging_fraction is set=0.8566713913756466, subsample=0.6 will be ignored. Current value: bagging_fraction=0.8566713913756466\n",
      "[LightGBM] [Warning] bagging_freq is set=3, subsample_freq=0 will be ignored. Current value: bagging_freq=3\n",
      "Training until validation scores don't improve for 100 rounds\n",
      "[100]\ttraining's l1: 1.00888\tvalid_1's l1: 1.60378\n",
      "[200]\ttraining's l1: 0.992575\tvalid_1's l1: 1.59828\n",
      "[300]\ttraining's l1: 0.969889\tvalid_1's l1: 1.59194\n"
     ]
    },
    {
     "name": "stderr",
     "output_type": "stream",
     "text": [
      "\u001b[32m[I 2021-07-04 21:16:42,246]\u001b[0m Trial 30 finished with value: -1.5900247915498558 and parameters: {'max_depth': 11, 'min_child_weight': 15, 'subsample': 0.6, 'colsample_bytree': 0.9, 'reg_lambda': 0.48253722997630377, 'reg_alpha': 14.53074723651514, 'feature_fraction': 0.7686316963901693, 'bagging_fraction': 0.8566713913756466, 'bagging_freq': 3}. Best is trial 4 with value: -1.5751049790107916.\u001b[0m\n"
     ]
    },
    {
     "name": "stdout",
     "output_type": "stream",
     "text": [
      "Early stopping, best iteration is:\n",
      "[296]\ttraining's l1: 0.97041\tvalid_1's l1: 1.59005\n",
      "[LightGBM] [Warning] feature_fraction is set=0.8792545249036406, colsample_bytree=0.8 will be ignored. Current value: feature_fraction=0.8792545249036406\n",
      "[LightGBM] [Warning] bagging_fraction is set=0.7790479102152394, subsample=0.5 will be ignored. Current value: bagging_fraction=0.7790479102152394\n",
      "[LightGBM] [Warning] bagging_freq is set=4, subsample_freq=0 will be ignored. Current value: bagging_freq=4\n",
      "Training until validation scores don't improve for 100 rounds\n",
      "[100]\ttraining's l1: 1.01035\tvalid_1's l1: 1.60269\n",
      "[200]\ttraining's l1: 0.999522\tvalid_1's l1: 1.59884\n",
      "[300]\ttraining's l1: 0.985026\tvalid_1's l1: 1.59574\n",
      "[400]\ttraining's l1: 0.962312\tvalid_1's l1: 1.59016\n",
      "[500]\ttraining's l1: 0.933724\tvalid_1's l1: 1.58698\n",
      "[600]\ttraining's l1: 0.916999\tvalid_1's l1: 1.58602\n"
     ]
    },
    {
     "name": "stderr",
     "output_type": "stream",
     "text": [
      "\u001b[32m[I 2021-07-04 21:16:59,746]\u001b[0m Trial 31 finished with value: -1.5849355365365585 and parameters: {'max_depth': 12, 'min_child_weight': 20, 'subsample': 0.5, 'colsample_bytree': 0.8, 'reg_lambda': 11.43490916460584, 'reg_alpha': 0.4550502405618677, 'feature_fraction': 0.8792545249036406, 'bagging_fraction': 0.7790479102152394, 'bagging_freq': 4}. Best is trial 4 with value: -1.5751049790107916.\u001b[0m\n"
     ]
    },
    {
     "name": "stdout",
     "output_type": "stream",
     "text": [
      "Early stopping, best iteration is:\n",
      "[525]\ttraining's l1: 0.929106\tvalid_1's l1: 1.585\n",
      "[LightGBM] [Warning] feature_fraction is set=0.8186033225253642, colsample_bytree=0.9 will be ignored. Current value: feature_fraction=0.8186033225253642\n",
      "[LightGBM] [Warning] bagging_fraction is set=0.681957120700042, subsample=0.7 will be ignored. Current value: bagging_fraction=0.681957120700042\n",
      "[LightGBM] [Warning] bagging_freq is set=2, subsample_freq=0 will be ignored. Current value: bagging_freq=2\n",
      "Training until validation scores don't improve for 100 rounds\n",
      "[100]\ttraining's l1: 1.00257\tvalid_1's l1: 1.59993\n",
      "[200]\ttraining's l1: 0.996942\tvalid_1's l1: 1.59751\n",
      "[300]\ttraining's l1: 0.991817\tvalid_1's l1: 1.5945\n"
     ]
    },
    {
     "name": "stderr",
     "output_type": "stream",
     "text": [
      "\u001b[32m[I 2021-07-04 21:17:12,124]\u001b[0m Trial 32 finished with value: -1.5941895853765913 and parameters: {'max_depth': 7, 'min_child_weight': 19, 'subsample': 0.7, 'colsample_bytree': 0.9, 'reg_lambda': 0.2136577920283868, 'reg_alpha': 1.2676819284922243, 'feature_fraction': 0.8186033225253642, 'bagging_fraction': 0.681957120700042, 'bagging_freq': 2}. Best is trial 4 with value: -1.5751049790107916.\u001b[0m\n"
     ]
    },
    {
     "name": "stdout",
     "output_type": "stream",
     "text": [
      "Early stopping, best iteration is:\n",
      "[280]\ttraining's l1: 0.992138\tvalid_1's l1: 1.59423\n",
      "[LightGBM] [Warning] feature_fraction is set=0.9581473499914357, colsample_bytree=0.9 will be ignored. Current value: feature_fraction=0.9581473499914357\n",
      "[LightGBM] [Warning] bagging_fraction is set=0.8459951629119307, subsample=0.5 will be ignored. Current value: bagging_fraction=0.8459951629119307\n",
      "[LightGBM] [Warning] bagging_freq is set=3, subsample_freq=0 will be ignored. Current value: bagging_freq=3\n",
      "Training until validation scores don't improve for 100 rounds\n",
      "[100]\ttraining's l1: 1.01134\tvalid_1's l1: 1.60826\n",
      "[200]\ttraining's l1: 1.00652\tvalid_1's l1: 1.60577\n",
      "[300]\ttraining's l1: 0.988843\tvalid_1's l1: 1.59947\n",
      "[400]\ttraining's l1: 0.964748\tvalid_1's l1: 1.59007\n",
      "[500]\ttraining's l1: 0.940172\tvalid_1's l1: 1.58504\n",
      "[600]\ttraining's l1: 0.917513\tvalid_1's l1: 1.5852\n"
     ]
    },
    {
     "name": "stderr",
     "output_type": "stream",
     "text": [
      "\u001b[32m[I 2021-07-04 21:17:32,824]\u001b[0m Trial 33 finished with value: -1.5812430765229484 and parameters: {'max_depth': 18, 'min_child_weight': 17, 'subsample': 0.5, 'colsample_bytree': 0.9, 'reg_lambda': 1.4031786722208441, 'reg_alpha': 0.14839049563976028, 'feature_fraction': 0.9581473499914357, 'bagging_fraction': 0.8459951629119307, 'bagging_freq': 3}. Best is trial 4 with value: -1.5751049790107916.\u001b[0m\n"
     ]
    },
    {
     "name": "stdout",
     "output_type": "stream",
     "text": [
      "Early stopping, best iteration is:\n",
      "[558]\ttraining's l1: 0.925995\tvalid_1's l1: 1.58143\n",
      "[LightGBM] [Warning] feature_fraction is set=0.9620369078865053, colsample_bytree=0.9 will be ignored. Current value: feature_fraction=0.9620369078865053\n",
      "[LightGBM] [Warning] bagging_fraction is set=0.8493968373180119, subsample=0.6 will be ignored. Current value: bagging_fraction=0.8493968373180119\n",
      "[LightGBM] [Warning] bagging_freq is set=3, subsample_freq=0 will be ignored. Current value: bagging_freq=3\n",
      "Training until validation scores don't improve for 100 rounds\n",
      "[100]\ttraining's l1: 1.00462\tvalid_1's l1: 1.60288\n"
     ]
    },
    {
     "name": "stderr",
     "output_type": "stream",
     "text": [
      "\u001b[32m[I 2021-07-04 21:17:39,943]\u001b[0m Trial 34 finished with value: -1.602741328878699 and parameters: {'max_depth': 11, 'min_child_weight': 17, 'subsample': 0.6, 'colsample_bytree': 0.9, 'reg_lambda': 0.05702272571621013, 'reg_alpha': 6.800879350384362, 'feature_fraction': 0.9620369078865053, 'bagging_fraction': 0.8493968373180119, 'bagging_freq': 3}. Best is trial 4 with value: -1.5751049790107916.\u001b[0m\n"
     ]
    },
    {
     "name": "stdout",
     "output_type": "stream",
     "text": [
      "Early stopping, best iteration is:\n",
      "[98]\ttraining's l1: 1.00467\tvalid_1's l1: 1.60275\n",
      "[LightGBM] [Warning] feature_fraction is set=0.6880815590462063, colsample_bytree=0.9 will be ignored. Current value: feature_fraction=0.6880815590462063\n",
      "[LightGBM] [Warning] bagging_fraction is set=0.8769772163907201, subsample=0.5 will be ignored. Current value: bagging_fraction=0.8769772163907201\n",
      "[LightGBM] [Warning] bagging_freq is set=4, subsample_freq=0 will be ignored. Current value: bagging_freq=4\n",
      "Training until validation scores don't improve for 100 rounds\n",
      "[100]\ttraining's l1: 1.01006\tvalid_1's l1: 1.60806\n",
      "[200]\ttraining's l1: 0.989447\tvalid_1's l1: 1.60073\n",
      "[300]\ttraining's l1: 0.977179\tvalid_1's l1: 1.59894\n",
      "[400]\ttraining's l1: 0.951804\tvalid_1's l1: 1.59496\n"
     ]
    },
    {
     "name": "stderr",
     "output_type": "stream",
     "text": [
      "\u001b[32m[I 2021-07-04 21:17:53,437]\u001b[0m Trial 35 finished with value: -1.5927766227031162 and parameters: {'max_depth': 14, 'min_child_weight': 14, 'subsample': 0.5, 'colsample_bytree': 0.9, 'reg_lambda': 0.3498379233182187, 'reg_alpha': 75.55373959932818, 'feature_fraction': 0.6880815590462063, 'bagging_fraction': 0.8769772163907201, 'bagging_freq': 4}. Best is trial 4 with value: -1.5751049790107916.\u001b[0m\n"
     ]
    },
    {
     "name": "stdout",
     "output_type": "stream",
     "text": [
      "Early stopping, best iteration is:\n",
      "[371]\ttraining's l1: 0.958316\tvalid_1's l1: 1.59281\n",
      "[LightGBM] [Warning] feature_fraction is set=0.9975981539885752, colsample_bytree=0.8 will be ignored. Current value: feature_fraction=0.9975981539885752\n",
      "[LightGBM] [Warning] bagging_fraction is set=0.9447860614963938, subsample=0.6 will be ignored. Current value: bagging_fraction=0.9447860614963938\n",
      "[LightGBM] [Warning] bagging_freq is set=1, subsample_freq=0 will be ignored. Current value: bagging_freq=1\n",
      "Training until validation scores don't improve for 100 rounds\n",
      "[100]\ttraining's l1: 1.00537\tvalid_1's l1: 1.60067\n"
     ]
    },
    {
     "name": "stderr",
     "output_type": "stream",
     "text": [
      "\u001b[32m[I 2021-07-04 21:17:58,956]\u001b[0m Trial 36 finished with value: -1.600229579986771 and parameters: {'max_depth': 19, 'min_child_weight': 18, 'subsample': 0.6, 'colsample_bytree': 0.8, 'reg_lambda': 1.457140570996889, 'reg_alpha': 0.008111357342800113, 'feature_fraction': 0.9975981539885752, 'bagging_fraction': 0.9447860614963938, 'bagging_freq': 1}. Best is trial 4 with value: -1.5751049790107916.\u001b[0m\n"
     ]
    },
    {
     "name": "stdout",
     "output_type": "stream",
     "text": [
      "[200]\ttraining's l1: 1.00435\tvalid_1's l1: 1.60024\n",
      "Early stopping, best iteration is:\n",
      "[105]\ttraining's l1: 1.00503\tvalid_1's l1: 1.60024\n",
      "[LightGBM] [Warning] feature_fraction is set=0.5852856750282912, colsample_bytree=0.9 will be ignored. Current value: feature_fraction=0.5852856750282912\n",
      "[LightGBM] [Warning] bagging_fraction is set=0.7846134548302204, subsample=0.5 will be ignored. Current value: bagging_fraction=0.7846134548302204\n",
      "[LightGBM] [Warning] bagging_freq is set=3, subsample_freq=0 will be ignored. Current value: bagging_freq=3\n",
      "Training until validation scores don't improve for 100 rounds\n",
      "[100]\ttraining's l1: 1.00719\tvalid_1's l1: 1.60797\n",
      "[200]\ttraining's l1: 0.992781\tvalid_1's l1: 1.60141\n",
      "[300]\ttraining's l1: 0.981852\tvalid_1's l1: 1.59962\n",
      "[400]\ttraining's l1: 0.95039\tvalid_1's l1: 1.59351\n"
     ]
    },
    {
     "name": "stderr",
     "output_type": "stream",
     "text": [
      "\u001b[32m[I 2021-07-04 21:18:15,230]\u001b[0m Trial 37 finished with value: -1.5904093694340404 and parameters: {'max_depth': 10, 'min_child_weight': 10, 'subsample': 0.5, 'colsample_bytree': 0.9, 'reg_lambda': 4.112302654681027, 'reg_alpha': 0.03694435185830374, 'feature_fraction': 0.5852856750282912, 'bagging_fraction': 0.7846134548302204, 'bagging_freq': 3}. Best is trial 4 with value: -1.5751049790107916.\u001b[0m\n"
     ]
    },
    {
     "name": "stdout",
     "output_type": "stream",
     "text": [
      "Early stopping, best iteration is:\n",
      "[370]\ttraining's l1: 0.964527\tvalid_1's l1: 1.59048\n",
      "[LightGBM] [Warning] feature_fraction is set=0.9583534676298228, colsample_bytree=0.8 will be ignored. Current value: feature_fraction=0.9583534676298228\n",
      "[LightGBM] [Warning] bagging_fraction is set=0.9457225644294205, subsample=0.8 will be ignored. Current value: bagging_fraction=0.9457225644294205\n",
      "[LightGBM] [Warning] bagging_freq is set=2, subsample_freq=0 will be ignored. Current value: bagging_freq=2\n",
      "Training until validation scores don't improve for 100 rounds\n",
      "[100]\ttraining's l1: 1.00885\tvalid_1's l1: 1.60799\n",
      "[200]\ttraining's l1: 0.999745\tvalid_1's l1: 1.60413\n",
      "[300]\ttraining's l1: 0.980904\tvalid_1's l1: 1.59807\n",
      "[400]\ttraining's l1: 0.953935\tvalid_1's l1: 1.59076\n",
      "[500]\ttraining's l1: 0.940865\tvalid_1's l1: 1.58966\n",
      "[600]\ttraining's l1: 0.912995\tvalid_1's l1: 1.58678\n",
      "[700]\ttraining's l1: 0.903172\tvalid_1's l1: 1.58392\n",
      "[800]\ttraining's l1: 0.889006\tvalid_1's l1: 1.58211\n",
      "[900]\ttraining's l1: 0.875935\tvalid_1's l1: 1.58138\n"
     ]
    },
    {
     "name": "stderr",
     "output_type": "stream",
     "text": [
      "\u001b[32m[I 2021-07-04 21:18:50,383]\u001b[0m Trial 38 finished with value: -1.5789897592467819 and parameters: {'max_depth': 15, 'min_child_weight': 6, 'subsample': 0.8, 'colsample_bytree': 0.8, 'reg_lambda': 0.053728593023448866, 'reg_alpha': 0.1092696972321239, 'feature_fraction': 0.9583534676298228, 'bagging_fraction': 0.9457225644294205, 'bagging_freq': 2}. Best is trial 4 with value: -1.5751049790107916.\u001b[0m\n"
     ]
    },
    {
     "name": "stdout",
     "output_type": "stream",
     "text": [
      "Early stopping, best iteration is:\n",
      "[838]\ttraining's l1: 0.882935\tvalid_1's l1: 1.57929\n",
      "[LightGBM] [Warning] feature_fraction is set=0.8582070418542664, colsample_bytree=0.8 will be ignored. Current value: feature_fraction=0.8582070418542664\n",
      "[LightGBM] [Warning] bagging_fraction is set=0.9466251194013757, subsample=0.8 will be ignored. Current value: bagging_fraction=0.9466251194013757\n",
      "[LightGBM] [Warning] bagging_freq is set=2, subsample_freq=0 will be ignored. Current value: bagging_freq=2\n",
      "Training until validation scores don't improve for 100 rounds\n",
      "[100]\ttraining's l1: 1.01035\tvalid_1's l1: 1.60443\n",
      "[200]\ttraining's l1: 0.99804\tvalid_1's l1: 1.60074\n",
      "[300]\ttraining's l1: 0.983362\tvalid_1's l1: 1.59621\n",
      "[400]\ttraining's l1: 0.968194\tvalid_1's l1: 1.59447\n",
      "[500]\ttraining's l1: 0.949267\tvalid_1's l1: 1.5964\n"
     ]
    },
    {
     "name": "stderr",
     "output_type": "stream",
     "text": [
      "\u001b[32m[I 2021-07-04 21:19:13,336]\u001b[0m Trial 39 finished with value: -1.592436944513926 and parameters: {'max_depth': 15, 'min_child_weight': 6, 'subsample': 0.8, 'colsample_bytree': 0.8, 'reg_lambda': 0.0038872626054206444, 'reg_alpha': 1.3052966601281593, 'feature_fraction': 0.8582070418542664, 'bagging_fraction': 0.9466251194013757, 'bagging_freq': 2}. Best is trial 4 with value: -1.5751049790107916.\u001b[0m\n"
     ]
    },
    {
     "name": "stdout",
     "output_type": "stream",
     "text": [
      "Early stopping, best iteration is:\n",
      "[480]\ttraining's l1: 0.953187\tvalid_1's l1: 1.59251\n",
      "[LightGBM] [Warning] feature_fraction is set=0.7636136305156019, colsample_bytree=0.8 will be ignored. Current value: feature_fraction=0.7636136305156019\n",
      "[LightGBM] [Warning] bagging_fraction is set=0.927982537289612, subsample=0.9 will be ignored. Current value: bagging_fraction=0.927982537289612\n",
      "[LightGBM] [Warning] bagging_freq is set=1, subsample_freq=0 will be ignored. Current value: bagging_freq=1\n",
      "Training until validation scores don't improve for 100 rounds\n",
      "[100]\ttraining's l1: 1.01068\tvalid_1's l1: 1.60247\n",
      "[200]\ttraining's l1: 1.00051\tvalid_1's l1: 1.59773\n",
      "[300]\ttraining's l1: 0.980716\tvalid_1's l1: 1.59394\n",
      "[400]\ttraining's l1: 0.948814\tvalid_1's l1: 1.58532\n",
      "[500]\ttraining's l1: 0.932019\tvalid_1's l1: 1.58038\n"
     ]
    },
    {
     "name": "stderr",
     "output_type": "stream",
     "text": [
      "\u001b[32m[I 2021-07-04 21:19:27,711]\u001b[0m Trial 40 finished with value: -1.5801501133242972 and parameters: {'max_depth': 13, 'min_child_weight': 4, 'subsample': 0.9, 'colsample_bytree': 0.8, 'reg_lambda': 0.048984832474961236, 'reg_alpha': 0.03524110240299664, 'feature_fraction': 0.7636136305156019, 'bagging_fraction': 0.927982537289612, 'bagging_freq': 1}. Best is trial 4 with value: -1.5751049790107916.\u001b[0m\n"
     ]
    },
    {
     "name": "stdout",
     "output_type": "stream",
     "text": [
      "Early stopping, best iteration is:\n",
      "[459]\ttraining's l1: 0.938374\tvalid_1's l1: 1.58022\n",
      "[LightGBM] [Warning] feature_fraction is set=0.7573718830823184, colsample_bytree=0.8 will be ignored. Current value: feature_fraction=0.7573718830823184\n",
      "[LightGBM] [Warning] bagging_fraction is set=0.9981013233749717, subsample=0.9 will be ignored. Current value: bagging_fraction=0.9981013233749717\n",
      "[LightGBM] [Warning] bagging_freq is set=1, subsample_freq=0 will be ignored. Current value: bagging_freq=1\n",
      "Training until validation scores don't improve for 100 rounds\n",
      "[100]\ttraining's l1: 1.00685\tvalid_1's l1: 1.60196\n",
      "[200]\ttraining's l1: 0.996851\tvalid_1's l1: 1.59933\n",
      "[300]\ttraining's l1: 0.973888\tvalid_1's l1: 1.5926\n",
      "[400]\ttraining's l1: 0.947345\tvalid_1's l1: 1.58756\n",
      "[500]\ttraining's l1: 0.933366\tvalid_1's l1: 1.58584\n"
     ]
    },
    {
     "name": "stderr",
     "output_type": "stream",
     "text": [
      "\u001b[32m[I 2021-07-04 21:19:43,169]\u001b[0m Trial 41 finished with value: -1.5848098560579529 and parameters: {'max_depth': 13, 'min_child_weight': 2, 'subsample': 0.9, 'colsample_bytree': 0.8, 'reg_lambda': 0.048520142840241025, 'reg_alpha': 0.03510200537523556, 'feature_fraction': 0.7573718830823184, 'bagging_fraction': 0.9981013233749717, 'bagging_freq': 1}. Best is trial 4 with value: -1.5751049790107916.\u001b[0m\n"
     ]
    },
    {
     "name": "stdout",
     "output_type": "stream",
     "text": [
      "Early stopping, best iteration is:\n",
      "[476]\ttraining's l1: 0.938092\tvalid_1's l1: 1.58491\n",
      "[LightGBM] [Warning] feature_fraction is set=0.7080876779458114, colsample_bytree=0.8 will be ignored. Current value: feature_fraction=0.7080876779458114\n",
      "[LightGBM] [Warning] bagging_fraction is set=0.9403036895537625, subsample=0.8 will be ignored. Current value: bagging_fraction=0.9403036895537625\n",
      "[LightGBM] [Warning] bagging_freq is set=2, subsample_freq=0 will be ignored. Current value: bagging_freq=2\n",
      "Training until validation scores don't improve for 100 rounds\n",
      "[100]\ttraining's l1: 1.0108\tvalid_1's l1: 1.60544\n",
      "[200]\ttraining's l1: 0.994453\tvalid_1's l1: 1.5981\n",
      "[300]\ttraining's l1: 0.961613\tvalid_1's l1: 1.58908\n",
      "[400]\ttraining's l1: 0.930039\tvalid_1's l1: 1.58519\n"
     ]
    },
    {
     "name": "stderr",
     "output_type": "stream",
     "text": [
      "\u001b[32m[I 2021-07-04 21:19:58,934]\u001b[0m Trial 42 finished with value: -1.58434997634055 and parameters: {'max_depth': 12, 'min_child_weight': 5, 'subsample': 0.8, 'colsample_bytree': 0.8, 'reg_lambda': 0.016957442530674688, 'reg_alpha': 0.11025905676867888, 'feature_fraction': 0.7080876779458114, 'bagging_fraction': 0.9403036895537625, 'bagging_freq': 2}. Best is trial 4 with value: -1.5751049790107916.\u001b[0m\n"
     ]
    },
    {
     "name": "stdout",
     "output_type": "stream",
     "text": [
      "Early stopping, best iteration is:\n",
      "[350]\ttraining's l1: 0.948629\tvalid_1's l1: 1.58446\n",
      "[LightGBM] [Warning] feature_fraction is set=0.7963907889527005, colsample_bytree=0.7 will be ignored. Current value: feature_fraction=0.7963907889527005\n",
      "[LightGBM] [Warning] bagging_fraction is set=0.9185369254011906, subsample=0.9 will be ignored. Current value: bagging_fraction=0.9185369254011906\n",
      "[LightGBM] [Warning] bagging_freq is set=1, subsample_freq=0 will be ignored. Current value: bagging_freq=1\n",
      "Training until validation scores don't improve for 100 rounds\n",
      "[100]\ttraining's l1: 1.00727\tvalid_1's l1: 1.60315\n",
      "[200]\ttraining's l1: 1.00279\tvalid_1's l1: 1.60141\n",
      "[300]\ttraining's l1: 0.997299\tvalid_1's l1: 1.59934\n",
      "[400]\ttraining's l1: 0.976671\tvalid_1's l1: 1.59321\n",
      "[500]\ttraining's l1: 0.955953\tvalid_1's l1: 1.59053\n",
      "[600]\ttraining's l1: 0.937771\tvalid_1's l1: 1.58472\n",
      "[700]\ttraining's l1: 0.909224\tvalid_1's l1: 1.58587\n",
      "Early stopping, best iteration is:\n",
      "[607]\ttraining's l1: 0.936451\tvalid_1's l1: 1.58374\n"
     ]
    },
    {
     "name": "stderr",
     "output_type": "stream",
     "text": [
      "\u001b[32m[I 2021-07-04 21:20:15,046]\u001b[0m Trial 43 finished with value: -1.5835895398796251 and parameters: {'max_depth': 14, 'min_child_weight': 3, 'subsample': 0.9, 'colsample_bytree': 0.7, 'reg_lambda': 0.11215446083887773, 'reg_alpha': 0.04167654742384191, 'feature_fraction': 0.7963907889527005, 'bagging_fraction': 0.9185369254011906, 'bagging_freq': 1}. Best is trial 4 with value: -1.5751049790107916.\u001b[0m\n"
     ]
    },
    {
     "name": "stdout",
     "output_type": "stream",
     "text": [
      "[LightGBM] [Warning] feature_fraction is set=0.8043503563772035, colsample_bytree=0.8 will be ignored. Current value: feature_fraction=0.8043503563772035\n",
      "[LightGBM] [Warning] bagging_fraction is set=0.8890143806662159, subsample=0.8 will be ignored. Current value: bagging_fraction=0.8890143806662159\n",
      "[LightGBM] [Warning] bagging_freq is set=2, subsample_freq=0 will be ignored. Current value: bagging_freq=2\n",
      "Training until validation scores don't improve for 100 rounds\n",
      "[100]\ttraining's l1: 1.00754\tvalid_1's l1: 1.60373\n",
      "[200]\ttraining's l1: 0.987614\tvalid_1's l1: 1.59736\n",
      "[300]\ttraining's l1: 0.974625\tvalid_1's l1: 1.59406\n",
      "[400]\ttraining's l1: 0.960458\tvalid_1's l1: 1.59029\n",
      "[500]\ttraining's l1: 0.934383\tvalid_1's l1: 1.59676\n"
     ]
    },
    {
     "name": "stderr",
     "output_type": "stream",
     "text": [
      "\u001b[32m[I 2021-07-04 21:20:35,635]\u001b[0m Trial 44 finished with value: -1.5846854343144505 and parameters: {'max_depth': 15, 'min_child_weight': 7, 'subsample': 0.8, 'colsample_bytree': 0.8, 'reg_lambda': 0.024737368284557887, 'reg_alpha': 0.013488286639845717, 'feature_fraction': 0.8043503563772035, 'bagging_fraction': 0.8890143806662159, 'bagging_freq': 2}. Best is trial 4 with value: -1.5751049790107916.\u001b[0m\n"
     ]
    },
    {
     "name": "stdout",
     "output_type": "stream",
     "text": [
      "Early stopping, best iteration is:\n",
      "[452]\ttraining's l1: 0.946757\tvalid_1's l1: 1.5848\n",
      "[LightGBM] [Warning] feature_fraction is set=0.6574309323236933, colsample_bytree=0.7 will be ignored. Current value: feature_fraction=0.6574309323236933\n",
      "[LightGBM] [Warning] bagging_fraction is set=0.8256779608799719, subsample=0.9 will be ignored. Current value: bagging_fraction=0.8256779608799719\n",
      "[LightGBM] [Warning] bagging_freq is set=5, subsample_freq=0 will be ignored. Current value: bagging_freq=5\n",
      "Training until validation scores don't improve for 100 rounds\n",
      "[100]\ttraining's l1: 1.01082\tvalid_1's l1: 1.60522\n",
      "[200]\ttraining's l1: 0.988735\tvalid_1's l1: 1.59656\n",
      "[300]\ttraining's l1: 0.975299\tvalid_1's l1: 1.59632\n",
      "[400]\ttraining's l1: 0.962321\tvalid_1's l1: 1.59244\n",
      "[500]\ttraining's l1: 0.935442\tvalid_1's l1: 1.58453\n"
     ]
    },
    {
     "name": "stderr",
     "output_type": "stream",
     "text": [
      "\u001b[32m[I 2021-07-04 21:20:50,418]\u001b[0m Trial 45 finished with value: -1.582328877852357 and parameters: {'max_depth': 13, 'min_child_weight': 3, 'subsample': 0.9, 'colsample_bytree': 0.7, 'reg_lambda': 0.07445085899989534, 'reg_alpha': 0.01814966838399548, 'feature_fraction': 0.6574309323236933, 'bagging_fraction': 0.8256779608799719, 'bagging_freq': 5}. Best is trial 4 with value: -1.5751049790107916.\u001b[0m\n"
     ]
    },
    {
     "name": "stdout",
     "output_type": "stream",
     "text": [
      "Early stopping, best iteration is:\n",
      "[480]\ttraining's l1: 0.941238\tvalid_1's l1: 1.58252\n",
      "[LightGBM] [Warning] feature_fraction is set=0.6822571165001763, colsample_bytree=0.8 will be ignored. Current value: feature_fraction=0.6822571165001763\n",
      "[LightGBM] [Warning] bagging_fraction is set=0.9706493869735078, subsample=0.8 will be ignored. Current value: bagging_fraction=0.9706493869735078\n",
      "[LightGBM] [Warning] bagging_freq is set=1, subsample_freq=0 will be ignored. Current value: bagging_freq=1\n",
      "Training until validation scores don't improve for 100 rounds\n",
      "[100]\ttraining's l1: 1.00533\tvalid_1's l1: 1.60122\n",
      "[200]\ttraining's l1: 0.998233\tvalid_1's l1: 1.59695\n",
      "[300]\ttraining's l1: 0.976989\tvalid_1's l1: 1.58813\n",
      "[400]\ttraining's l1: 0.955434\tvalid_1's l1: 1.58219\n",
      "[500]\ttraining's l1: 0.941335\tvalid_1's l1: 1.58006\n"
     ]
    },
    {
     "name": "stderr",
     "output_type": "stream",
     "text": [
      "\u001b[32m[I 2021-07-04 21:21:04,924]\u001b[0m Trial 46 finished with value: -1.5796975103492985 and parameters: {'max_depth': 9, 'min_child_weight': 6, 'subsample': 0.8, 'colsample_bytree': 0.8, 'reg_lambda': 0.0017244533121474675, 'reg_alpha': 0.13609895093228558, 'feature_fraction': 0.6822571165001763, 'bagging_fraction': 0.9706493869735078, 'bagging_freq': 1}. Best is trial 4 with value: -1.5751049790107916.\u001b[0m\n"
     ]
    },
    {
     "name": "stdout",
     "output_type": "stream",
     "text": [
      "Early stopping, best iteration is:\n",
      "[485]\ttraining's l1: 0.943548\tvalid_1's l1: 1.57989\n",
      "[LightGBM] [Warning] feature_fraction is set=0.6031610898090485, colsample_bytree=0.8 will be ignored. Current value: feature_fraction=0.6031610898090485\n",
      "[LightGBM] [Warning] bagging_fraction is set=0.9938514700866062, subsample=0.8 will be ignored. Current value: bagging_fraction=0.9938514700866062\n",
      "[LightGBM] [Warning] bagging_freq is set=1, subsample_freq=0 will be ignored. Current value: bagging_freq=1\n",
      "Training until validation scores don't improve for 100 rounds\n",
      "[100]\ttraining's l1: 1.00399\tvalid_1's l1: 1.60335\n",
      "[200]\ttraining's l1: 0.998163\tvalid_1's l1: 1.6002\n",
      "[300]\ttraining's l1: 0.993531\tvalid_1's l1: 1.59764\n",
      "[400]\ttraining's l1: 0.969628\tvalid_1's l1: 1.59509\n",
      "[500]\ttraining's l1: 0.943952\tvalid_1's l1: 1.58806\n",
      "[600]\ttraining's l1: 0.922166\tvalid_1's l1: 1.58576\n"
     ]
    },
    {
     "name": "stderr",
     "output_type": "stream",
     "text": [
      "\u001b[32m[I 2021-07-04 21:21:22,632]\u001b[0m Trial 47 finished with value: -1.5850553961237974 and parameters: {'max_depth': 7, 'min_child_weight': 5, 'subsample': 0.8, 'colsample_bytree': 0.8, 'reg_lambda': 0.00367151030453499, 'reg_alpha': 0.12838644258369572, 'feature_fraction': 0.6031610898090485, 'bagging_fraction': 0.9938514700866062, 'bagging_freq': 1}. Best is trial 4 with value: -1.5751049790107916.\u001b[0m\n"
     ]
    },
    {
     "name": "stdout",
     "output_type": "stream",
     "text": [
      "Early stopping, best iteration is:\n",
      "[588]\ttraining's l1: 0.923527\tvalid_1's l1: 1.58541\n",
      "[LightGBM] [Warning] feature_fraction is set=0.6841017268332938, colsample_bytree=0.8 will be ignored. Current value: feature_fraction=0.6841017268332938\n",
      "[LightGBM] [Warning] bagging_fraction is set=0.9688764449067924, subsample=0.9 will be ignored. Current value: bagging_fraction=0.9688764449067924\n",
      "[LightGBM] [Warning] bagging_freq is set=1, subsample_freq=0 will be ignored. Current value: bagging_freq=1\n",
      "Training until validation scores don't improve for 100 rounds\n",
      "[100]\ttraining's l1: 1.00912\tvalid_1's l1: 1.60814\n",
      "[200]\ttraining's l1: 0.997779\tvalid_1's l1: 1.60168\n",
      "[300]\ttraining's l1: 0.980755\tvalid_1's l1: 1.59327\n",
      "[400]\ttraining's l1: 0.95932\tvalid_1's l1: 1.59299\n",
      "[500]\ttraining's l1: 0.935358\tvalid_1's l1: 1.59045\n",
      "[600]\ttraining's l1: 0.919965\tvalid_1's l1: 1.59115\n",
      "[700]\ttraining's l1: 0.904166\tvalid_1's l1: 1.58953\n"
     ]
    },
    {
     "name": "stderr",
     "output_type": "stream",
     "text": [
      "\u001b[32m[I 2021-07-04 21:21:41,054]\u001b[0m Trial 48 finished with value: -1.587661258090846 and parameters: {'max_depth': 9, 'min_child_weight': 8, 'subsample': 0.9, 'colsample_bytree': 0.8, 'reg_lambda': 0.0016654926198627687, 'reg_alpha': 0.002832208499073228, 'feature_fraction': 0.6841017268332938, 'bagging_fraction': 0.9688764449067924, 'bagging_freq': 1}. Best is trial 4 with value: -1.5751049790107916.\u001b[0m\n"
     ]
    },
    {
     "name": "stdout",
     "output_type": "stream",
     "text": [
      "Early stopping, best iteration is:\n",
      "[659]\ttraining's l1: 0.908584\tvalid_1's l1: 1.588\n",
      "[LightGBM] [Warning] feature_fraction is set=0.5187024083673317, colsample_bytree=0.8 will be ignored. Current value: feature_fraction=0.5187024083673317\n",
      "[LightGBM] [Warning] bagging_fraction is set=0.5050647771974796, subsample=0.8 will be ignored. Current value: bagging_fraction=0.5050647771974796\n",
      "[LightGBM] [Warning] bagging_freq is set=2, subsample_freq=0 will be ignored. Current value: bagging_freq=2\n",
      "Training until validation scores don't improve for 100 rounds\n",
      "[100]\ttraining's l1: 1.00297\tvalid_1's l1: 1.60748\n",
      "[200]\ttraining's l1: 0.989708\tvalid_1's l1: 1.60095\n",
      "[300]\ttraining's l1: 0.970477\tvalid_1's l1: 1.59786\n",
      "[400]\ttraining's l1: 0.946307\tvalid_1's l1: 1.59376\n",
      "[500]\ttraining's l1: 0.930921\tvalid_1's l1: 1.59156\n",
      "[600]\ttraining's l1: 0.917338\tvalid_1's l1: 1.59644\n"
     ]
    },
    {
     "name": "stderr",
     "output_type": "stream",
     "text": [
      "\u001b[32m[I 2021-07-04 21:21:56,459]\u001b[0m Trial 49 finished with value: -1.590097114876123 and parameters: {'max_depth': 6, 'min_child_weight': 4, 'subsample': 0.8, 'colsample_bytree': 0.8, 'reg_lambda': 0.012524718315060503, 'reg_alpha': 0.0055456878084238735, 'feature_fraction': 0.5187024083673317, 'bagging_fraction': 0.5050647771974796, 'bagging_freq': 2}. Best is trial 4 with value: -1.5751049790107916.\u001b[0m\n"
     ]
    },
    {
     "name": "stdout",
     "output_type": "stream",
     "text": [
      "Early stopping, best iteration is:\n",
      "[519]\ttraining's l1: 0.928429\tvalid_1's l1: 1.5903\n",
      "[LightGBM] [Warning] feature_fraction is set=0.6584404514554849, colsample_bytree=0.7 will be ignored. Current value: feature_fraction=0.6584404514554849\n",
      "[LightGBM] [Warning] bagging_fraction is set=0.6640430722775402, subsample=0.7 will be ignored. Current value: bagging_fraction=0.6640430722775402\n",
      "[LightGBM] [Warning] bagging_freq is set=1, subsample_freq=0 will be ignored. Current value: bagging_freq=1\n",
      "Training until validation scores don't improve for 100 rounds\n",
      "[100]\ttraining's l1: 1.00367\tvalid_1's l1: 1.60116\n",
      "[200]\ttraining's l1: 0.990525\tvalid_1's l1: 1.59737\n",
      "[300]\ttraining's l1: 0.975241\tvalid_1's l1: 1.59203\n",
      "[400]\ttraining's l1: 0.953278\tvalid_1's l1: 1.59167\n"
     ]
    },
    {
     "name": "stderr",
     "output_type": "stream",
     "text": [
      "\u001b[32m[I 2021-07-04 21:22:05,640]\u001b[0m Trial 50 finished with value: -1.5890542808826835 and parameters: {'max_depth': 8, 'min_child_weight': 1, 'subsample': 0.7, 'colsample_bytree': 0.7, 'reg_lambda': 0.0010481335828088519, 'reg_alpha': 0.3936699632860664, 'feature_fraction': 0.6584404514554849, 'bagging_fraction': 0.6640430722775402, 'bagging_freq': 1}. Best is trial 4 with value: -1.5751049790107916.\u001b[0m\n"
     ]
    },
    {
     "name": "stdout",
     "output_type": "stream",
     "text": [
      "Early stopping, best iteration is:\n",
      "[351]\ttraining's l1: 0.9624\tvalid_1's l1: 1.5892\n",
      "[LightGBM] [Warning] feature_fraction is set=0.7263729085918808, colsample_bytree=0.6 will be ignored. Current value: feature_fraction=0.7263729085918808\n",
      "[LightGBM] [Warning] bagging_fraction is set=0.9271386588371645, subsample=0.7 will be ignored. Current value: bagging_fraction=0.9271386588371645\n",
      "[LightGBM] [Warning] bagging_freq is set=5, subsample_freq=0 will be ignored. Current value: bagging_freq=5\n",
      "Training until validation scores don't improve for 100 rounds\n",
      "[100]\ttraining's l1: 1.01019\tvalid_1's l1: 1.6039\n",
      "[200]\ttraining's l1: 0.977145\tvalid_1's l1: 1.59407\n",
      "[300]\ttraining's l1: 0.955477\tvalid_1's l1: 1.58968\n",
      "[400]\ttraining's l1: 0.933367\tvalid_1's l1: 1.58134\n",
      "[500]\ttraining's l1: 0.918862\tvalid_1's l1: 1.58109\n"
     ]
    },
    {
     "name": "stderr",
     "output_type": "stream",
     "text": [
      "\u001b[32m[I 2021-07-04 21:22:20,433]\u001b[0m Trial 51 finished with value: -1.5787086546344795 and parameters: {'max_depth': 10, 'min_child_weight': 6, 'subsample': 0.7, 'colsample_bytree': 0.6, 'reg_lambda': 20.76113762415129, 'reg_alpha': 0.04677845783762401, 'feature_fraction': 0.7263729085918808, 'bagging_fraction': 0.9271386588371645, 'bagging_freq': 5}. Best is trial 4 with value: -1.5751049790107916.\u001b[0m\n"
     ]
    },
    {
     "name": "stdout",
     "output_type": "stream",
     "text": [
      "Early stopping, best iteration is:\n",
      "[422]\ttraining's l1: 0.926475\tvalid_1's l1: 1.57889\n",
      "[LightGBM] [Warning] feature_fraction is set=0.7020827463581549, colsample_bytree=0.6 will be ignored. Current value: feature_fraction=0.7020827463581549\n",
      "[LightGBM] [Warning] bagging_fraction is set=0.9671903857713815, subsample=0.9 will be ignored. Current value: bagging_fraction=0.9671903857713815\n",
      "[LightGBM] [Warning] bagging_freq is set=6, subsample_freq=0 will be ignored. Current value: bagging_freq=6\n",
      "Training until validation scores don't improve for 100 rounds\n",
      "[100]\ttraining's l1: 1.00529\tvalid_1's l1: 1.60511\n",
      "[200]\ttraining's l1: 0.995314\tvalid_1's l1: 1.59936\n",
      "[300]\ttraining's l1: 0.977648\tvalid_1's l1: 1.59425\n",
      "[400]\ttraining's l1: 0.958287\tvalid_1's l1: 1.5921\n",
      "[500]\ttraining's l1: 0.932171\tvalid_1's l1: 1.59211\n"
     ]
    },
    {
     "name": "stderr",
     "output_type": "stream",
     "text": [
      "\u001b[32m[I 2021-07-04 21:22:35,383]\u001b[0m Trial 52 finished with value: -1.5905103344381994 and parameters: {'max_depth': 10, 'min_child_weight': 7, 'subsample': 0.9, 'colsample_bytree': 0.6, 'reg_lambda': 358.05258279558694, 'reg_alpha': 0.029860859438157684, 'feature_fraction': 0.7020827463581549, 'bagging_fraction': 0.9671903857713815, 'bagging_freq': 6}. Best is trial 4 with value: -1.5751049790107916.\u001b[0m\n"
     ]
    },
    {
     "name": "stdout",
     "output_type": "stream",
     "text": [
      "Early stopping, best iteration is:\n",
      "[419]\ttraining's l1: 0.952225\tvalid_1's l1: 1.59058\n",
      "[LightGBM] [Warning] feature_fraction is set=0.7288380733308684, colsample_bytree=0.6 will be ignored. Current value: feature_fraction=0.7288380733308684\n",
      "[LightGBM] [Warning] bagging_fraction is set=0.9196518686446795, subsample=0.8 will be ignored. Current value: bagging_fraction=0.9196518686446795\n",
      "[LightGBM] [Warning] bagging_freq is set=8, subsample_freq=0 will be ignored. Current value: bagging_freq=8\n",
      "Training until validation scores don't improve for 100 rounds\n",
      "[100]\ttraining's l1: 1.012\tvalid_1's l1: 1.60658\n",
      "[200]\ttraining's l1: 1.006\tvalid_1's l1: 1.60486\n",
      "[300]\ttraining's l1: 0.987888\tvalid_1's l1: 1.60003\n",
      "[400]\ttraining's l1: 0.955574\tvalid_1's l1: 1.58876\n",
      "[500]\ttraining's l1: 0.94387\tvalid_1's l1: 1.58751\n",
      "[600]\ttraining's l1: 0.93539\tvalid_1's l1: 1.5844\n",
      "[700]\ttraining's l1: 0.921473\tvalid_1's l1: 1.58314\n",
      "[800]\ttraining's l1: 0.907135\tvalid_1's l1: 1.58522\n"
     ]
    },
    {
     "name": "stderr",
     "output_type": "stream",
     "text": [
      "\u001b[32m[I 2021-07-04 21:22:56,753]\u001b[0m Trial 53 finished with value: -1.581096343143222 and parameters: {'max_depth': 16, 'min_child_weight': 6, 'subsample': 0.8, 'colsample_bytree': 0.6, 'reg_lambda': 27.130451905047543, 'reg_alpha': 0.06078944635313116, 'feature_fraction': 0.7288380733308684, 'bagging_fraction': 0.9196518686446795, 'bagging_freq': 8}. Best is trial 4 with value: -1.5751049790107916.\u001b[0m\n"
     ]
    },
    {
     "name": "stdout",
     "output_type": "stream",
     "text": [
      "Early stopping, best iteration is:\n",
      "[756]\ttraining's l1: 0.914789\tvalid_1's l1: 1.58133\n",
      "[LightGBM] [Warning] feature_fraction is set=0.6261393852134572, colsample_bytree=0.5 will be ignored. Current value: feature_fraction=0.6261393852134572\n",
      "[LightGBM] [Warning] bagging_fraction is set=0.9435963920106851, subsample=0.7 will be ignored. Current value: bagging_fraction=0.9435963920106851\n",
      "[LightGBM] [Warning] bagging_freq is set=7, subsample_freq=0 will be ignored. Current value: bagging_freq=7\n",
      "Training until validation scores don't improve for 100 rounds\n",
      "[100]\ttraining's l1: 1.00595\tvalid_1's l1: 1.60098\n",
      "[200]\ttraining's l1: 0.997565\tvalid_1's l1: 1.59694\n",
      "[300]\ttraining's l1: 0.97981\tvalid_1's l1: 1.59282\n",
      "[400]\ttraining's l1: 0.944392\tvalid_1's l1: 1.58971\n"
     ]
    },
    {
     "name": "stderr",
     "output_type": "stream",
     "text": [
      "\u001b[32m[I 2021-07-04 21:23:10,543]\u001b[0m Trial 54 finished with value: -1.5885856254927826 and parameters: {'max_depth': 8, 'min_child_weight': 5, 'subsample': 0.7, 'colsample_bytree': 0.5, 'reg_lambda': 63.017058057191484, 'reg_alpha': 0.11384395098230311, 'feature_fraction': 0.6261393852134572, 'bagging_fraction': 0.9435963920106851, 'bagging_freq': 7}. Best is trial 4 with value: -1.5751049790107916.\u001b[0m\n"
     ]
    },
    {
     "name": "stdout",
     "output_type": "stream",
     "text": [
      "Early stopping, best iteration is:\n",
      "[386]\ttraining's l1: 0.947715\tvalid_1's l1: 1.58866\n",
      "[LightGBM] [Warning] feature_fraction is set=0.7435485666037418, colsample_bytree=0.6 will be ignored. Current value: feature_fraction=0.7435485666037418\n",
      "[LightGBM] [Warning] bagging_fraction is set=0.9675955237019074, subsample=0.8 will be ignored. Current value: bagging_fraction=0.9675955237019074\n",
      "[LightGBM] [Warning] bagging_freq is set=2, subsample_freq=0 will be ignored. Current value: bagging_freq=2\n",
      "Training until validation scores don't improve for 100 rounds\n",
      "[100]\ttraining's l1: 1.00794\tvalid_1's l1: 1.60029\n",
      "[200]\ttraining's l1: 1.00044\tvalid_1's l1: 1.59798\n",
      "[300]\ttraining's l1: 0.99453\tvalid_1's l1: 1.59676\n",
      "[400]\ttraining's l1: 0.971729\tvalid_1's l1: 1.58797\n",
      "[500]\ttraining's l1: 0.949382\tvalid_1's l1: 1.58814\n"
     ]
    },
    {
     "name": "stderr",
     "output_type": "stream",
     "text": [
      "\u001b[32m[I 2021-07-04 21:23:30,548]\u001b[0m Trial 55 finished with value: -1.5839632701272177 and parameters: {'max_depth': 9, 'min_child_weight': 9, 'subsample': 0.8, 'colsample_bytree': 0.6, 'reg_lambda': 0.006363705390774038, 'reg_alpha': 0.20909261295918033, 'feature_fraction': 0.7435485666037418, 'bagging_fraction': 0.9675955237019074, 'bagging_freq': 2}. Best is trial 4 with value: -1.5751049790107916.\u001b[0m\n"
     ]
    },
    {
     "name": "stdout",
     "output_type": "stream",
     "text": [
      "Early stopping, best iteration is:\n",
      "[476]\ttraining's l1: 0.955403\tvalid_1's l1: 1.58403\n",
      "[LightGBM] [Warning] feature_fraction is set=0.7593724301286658, colsample_bytree=0.5 will be ignored. Current value: feature_fraction=0.7593724301286658\n",
      "[LightGBM] [Warning] bagging_fraction is set=0.8832781189158075, subsample=0.9 will be ignored. Current value: bagging_fraction=0.8832781189158075\n",
      "[LightGBM] [Warning] bagging_freq is set=1, subsample_freq=0 will be ignored. Current value: bagging_freq=1\n",
      "Training until validation scores don't improve for 100 rounds\n",
      "[100]\ttraining's l1: 1.01159\tvalid_1's l1: 1.60321\n",
      "[200]\ttraining's l1: 1.00125\tvalid_1's l1: 1.60096\n",
      "[300]\ttraining's l1: 0.979505\tvalid_1's l1: 1.59391\n",
      "[400]\ttraining's l1: 0.958128\tvalid_1's l1: 1.59202\n"
     ]
    },
    {
     "name": "stderr",
     "output_type": "stream",
     "text": [
      "\u001b[32m[I 2021-07-04 21:23:42,521]\u001b[0m Trial 56 finished with value: -1.5906569630134069 and parameters: {'max_depth': 12, 'min_child_weight': 4, 'subsample': 0.9, 'colsample_bytree': 0.5, 'reg_lambda': 0.03165215754974327, 'reg_alpha': 0.017241366355579768, 'feature_fraction': 0.7593724301286658, 'bagging_fraction': 0.8832781189158075, 'bagging_freq': 1}. Best is trial 4 with value: -1.5751049790107916.\u001b[0m\n"
     ]
    },
    {
     "name": "stdout",
     "output_type": "stream",
     "text": [
      "Early stopping, best iteration is:\n",
      "[377]\ttraining's l1: 0.963403\tvalid_1's l1: 1.59071\n",
      "[LightGBM] [Warning] feature_fraction is set=0.7818726082201009, colsample_bytree=0.7 will be ignored. Current value: feature_fraction=0.7818726082201009\n",
      "[LightGBM] [Warning] bagging_fraction is set=0.7194239200066315, subsample=0.7 will be ignored. Current value: bagging_fraction=0.7194239200066315\n",
      "[LightGBM] [Warning] bagging_freq is set=5, subsample_freq=0 will be ignored. Current value: bagging_freq=5\n",
      "Training until validation scores don't improve for 100 rounds\n",
      "[100]\ttraining's l1: 1.00945\tvalid_1's l1: 1.5982\n",
      "[200]\ttraining's l1: 0.999768\tvalid_1's l1: 1.59597\n",
      "[300]\ttraining's l1: 0.983224\tvalid_1's l1: 1.58766\n",
      "[400]\ttraining's l1: 0.972798\tvalid_1's l1: 1.58622\n",
      "[500]\ttraining's l1: 0.957143\tvalid_1's l1: 1.58449\n",
      "[600]\ttraining's l1: 0.940582\tvalid_1's l1: 1.58575\n"
     ]
    },
    {
     "name": "stderr",
     "output_type": "stream",
     "text": [
      "\u001b[32m[I 2021-07-04 21:23:57,939]\u001b[0m Trial 57 finished with value: -1.582264844921243 and parameters: {'max_depth': 11, 'min_child_weight': 9, 'subsample': 0.7, 'colsample_bytree': 0.7, 'reg_lambda': 0.15391867075588847, 'reg_alpha': 0.043877355561593064, 'feature_fraction': 0.7818726082201009, 'bagging_fraction': 0.7194239200066315, 'bagging_freq': 5}. Best is trial 4 with value: -1.5751049790107916.\u001b[0m\n"
     ]
    },
    {
     "name": "stdout",
     "output_type": "stream",
     "text": [
      "Early stopping, best iteration is:\n",
      "[551]\ttraining's l1: 0.946965\tvalid_1's l1: 1.58235\n",
      "[LightGBM] [Warning] feature_fraction is set=0.6766696652738565, colsample_bytree=0.8 will be ignored. Current value: feature_fraction=0.6766696652738565\n",
      "[LightGBM] [Warning] bagging_fraction is set=0.9985500307683712, subsample=0.8 will be ignored. Current value: bagging_fraction=0.9985500307683712\n",
      "[LightGBM] [Warning] bagging_freq is set=2, subsample_freq=0 will be ignored. Current value: bagging_freq=2\n",
      "Training until validation scores don't improve for 100 rounds\n",
      "[100]\ttraining's l1: 1.00883\tvalid_1's l1: 1.60288\n",
      "[200]\ttraining's l1: 0.994294\tvalid_1's l1: 1.59838\n",
      "[300]\ttraining's l1: 0.977718\tvalid_1's l1: 1.59469\n",
      "[400]\ttraining's l1: 0.95088\tvalid_1's l1: 1.59516\n"
     ]
    },
    {
     "name": "stderr",
     "output_type": "stream",
     "text": [
      "\u001b[32m[I 2021-07-04 21:24:14,859]\u001b[0m Trial 58 finished with value: -1.5908215822819292 and parameters: {'max_depth': 17, 'min_child_weight': 2, 'subsample': 0.8, 'colsample_bytree': 0.8, 'reg_lambda': 150.48738398966614, 'reg_alpha': 0.009418876625274441, 'feature_fraction': 0.6766696652738565, 'bagging_fraction': 0.9985500307683712, 'bagging_freq': 2}. Best is trial 4 with value: -1.5751049790107916.\u001b[0m\n"
     ]
    },
    {
     "name": "stdout",
     "output_type": "stream",
     "text": [
      "Early stopping, best iteration is:\n",
      "[375]\ttraining's l1: 0.96106\tvalid_1's l1: 1.591\n",
      "[LightGBM] [Warning] feature_fraction is set=0.719019408347099, colsample_bytree=0.6 will be ignored. Current value: feature_fraction=0.719019408347099\n",
      "[LightGBM] [Warning] bagging_fraction is set=0.9251188617572426, subsample=0.9 will be ignored. Current value: bagging_fraction=0.9251188617572426\n",
      "[LightGBM] [Warning] bagging_freq is set=1, subsample_freq=0 will be ignored. Current value: bagging_freq=1\n",
      "Training until validation scores don't improve for 100 rounds\n",
      "[100]\ttraining's l1: 1.00628\tvalid_1's l1: 1.6023\n",
      "[200]\ttraining's l1: 1.00054\tvalid_1's l1: 1.60158\n"
     ]
    },
    {
     "name": "stderr",
     "output_type": "stream",
     "text": [
      "\u001b[32m[I 2021-07-04 21:24:20,909]\u001b[0m Trial 59 finished with value: -1.601116096420608 and parameters: {'max_depth': 14, 'min_child_weight': 7, 'subsample': 0.9, 'colsample_bytree': 0.6, 'reg_lambda': 496.07218932304295, 'reg_alpha': 0.19274754885290693, 'feature_fraction': 0.719019408347099, 'bagging_fraction': 0.9251188617572426, 'bagging_freq': 1}. Best is trial 4 with value: -1.5751049790107916.\u001b[0m\n"
     ]
    },
    {
     "name": "stdout",
     "output_type": "stream",
     "text": [
      "Early stopping, best iteration is:\n",
      "[112]\ttraining's l1: 1.00442\tvalid_1's l1: 1.60112\n",
      "[LightGBM] [Warning] feature_fraction is set=0.4098443272327972, colsample_bytree=0.8 will be ignored. Current value: feature_fraction=0.4098443272327972\n",
      "[LightGBM] [Warning] bagging_fraction is set=0.5924278653895654, subsample=0.7 will be ignored. Current value: bagging_fraction=0.5924278653895654\n",
      "[LightGBM] [Warning] bagging_freq is set=7, subsample_freq=0 will be ignored. Current value: bagging_freq=7\n",
      "Training until validation scores don't improve for 100 rounds\n",
      "[100]\ttraining's l1: 1.00224\tvalid_1's l1: 1.61054\n",
      "[200]\ttraining's l1: 0.975274\tvalid_1's l1: 1.60137\n",
      "[300]\ttraining's l1: 0.955598\tvalid_1's l1: 1.59954\n",
      "[400]\ttraining's l1: 0.931371\tvalid_1's l1: 1.59817\n"
     ]
    },
    {
     "name": "stderr",
     "output_type": "stream",
     "text": [
      "\u001b[32m[I 2021-07-04 21:24:30,553]\u001b[0m Trial 60 finished with value: -1.5963729296127716 and parameters: {'max_depth': 10, 'min_child_weight': 6, 'subsample': 0.7, 'colsample_bytree': 0.8, 'reg_lambda': 44.559466168558274, 'reg_alpha': 0.7528416973175747, 'feature_fraction': 0.4098443272327972, 'bagging_fraction': 0.5924278653895654, 'bagging_freq': 7}. Best is trial 4 with value: -1.5751049790107916.\u001b[0m\n"
     ]
    },
    {
     "name": "stdout",
     "output_type": "stream",
     "text": [
      "Early stopping, best iteration is:\n",
      "[328]\ttraining's l1: 0.94849\tvalid_1's l1: 1.59655\n",
      "[LightGBM] [Warning] feature_fraction is set=0.8280728851001645, colsample_bytree=0.8 will be ignored. Current value: feature_fraction=0.8280728851001645\n",
      "[LightGBM] [Warning] bagging_fraction is set=0.8986592191041712, subsample=0.7 will be ignored. Current value: bagging_fraction=0.8986592191041712\n",
      "[LightGBM] [Warning] bagging_freq is set=5, subsample_freq=0 will be ignored. Current value: bagging_freq=5\n",
      "Training until validation scores don't improve for 100 rounds\n",
      "[100]\ttraining's l1: 1.00573\tvalid_1's l1: 1.60607\n",
      "[200]\ttraining's l1: 0.987046\tvalid_1's l1: 1.59637\n",
      "[300]\ttraining's l1: 0.967421\tvalid_1's l1: 1.59236\n"
     ]
    },
    {
     "name": "stderr",
     "output_type": "stream",
     "text": [
      "\u001b[32m[I 2021-07-04 21:24:42,124]\u001b[0m Trial 61 finished with value: -1.5907570824010853 and parameters: {'max_depth': 11, 'min_child_weight': 5, 'subsample': 0.7, 'colsample_bytree': 0.8, 'reg_lambda': 14.927801392614224, 'reg_alpha': 0.0762320338711281, 'feature_fraction': 0.8280728851001645, 'bagging_fraction': 0.8986592191041712, 'bagging_freq': 5}. Best is trial 4 with value: -1.5751049790107916.\u001b[0m\n"
     ]
    },
    {
     "name": "stdout",
     "output_type": "stream",
     "text": [
      "Early stopping, best iteration is:\n",
      "[282]\ttraining's l1: 0.971185\tvalid_1's l1: 1.59082\n",
      "[LightGBM] [Warning] feature_fraction is set=0.7769242297330696, colsample_bytree=0.7 will be ignored. Current value: feature_fraction=0.7769242297330696\n",
      "[LightGBM] [Warning] bagging_fraction is set=0.812096574865809, subsample=0.6 will be ignored. Current value: bagging_fraction=0.812096574865809\n",
      "[LightGBM] [Warning] bagging_freq is set=4, subsample_freq=0 will be ignored. Current value: bagging_freq=4\n",
      "Training until validation scores don't improve for 100 rounds\n",
      "[100]\ttraining's l1: 1.0099\tvalid_1's l1: 1.60379\n",
      "[200]\ttraining's l1: 0.994009\tvalid_1's l1: 1.60012\n",
      "[300]\ttraining's l1: 0.982299\tvalid_1's l1: 1.59479\n",
      "[400]\ttraining's l1: 0.955265\tvalid_1's l1: 1.5897\n",
      "[500]\ttraining's l1: 0.932167\tvalid_1's l1: 1.59034\n"
     ]
    },
    {
     "name": "stderr",
     "output_type": "stream",
     "text": [
      "\u001b[32m[I 2021-07-04 21:24:56,672]\u001b[0m Trial 62 finished with value: -1.5847285670426343 and parameters: {'max_depth': 13, 'min_child_weight': 8, 'subsample': 0.6, 'colsample_bytree': 0.7, 'reg_lambda': 0.5139452131645628, 'reg_alpha': 0.3819598745937266, 'feature_fraction': 0.7769242297330696, 'bagging_fraction': 0.812096574865809, 'bagging_freq': 4}. Best is trial 4 with value: -1.5751049790107916.\u001b[0m\n"
     ]
    },
    {
     "name": "stdout",
     "output_type": "stream",
     "text": [
      "Early stopping, best iteration is:\n",
      "[433]\ttraining's l1: 0.943721\tvalid_1's l1: 1.58482\n",
      "[LightGBM] [Warning] feature_fraction is set=0.94374096978576, colsample_bytree=0.5 will be ignored. Current value: feature_fraction=0.94374096978576\n",
      "[LightGBM] [Warning] bagging_fraction is set=0.8300296402512982, subsample=0.7 will be ignored. Current value: bagging_fraction=0.8300296402512982\n",
      "[LightGBM] [Warning] bagging_freq is set=6, subsample_freq=0 will be ignored. Current value: bagging_freq=6\n",
      "Training until validation scores don't improve for 100 rounds\n",
      "[100]\ttraining's l1: 1.0068\tvalid_1's l1: 1.60083\n",
      "[200]\ttraining's l1: 1.00434\tvalid_1's l1: 1.60037\n",
      "[300]\ttraining's l1: 1.00139\tvalid_1's l1: 1.59878\n",
      "[400]\ttraining's l1: 0.984904\tvalid_1's l1: 1.59728\n",
      "[500]\ttraining's l1: 0.964633\tvalid_1's l1: 1.59144\n",
      "[600]\ttraining's l1: 0.938722\tvalid_1's l1: 1.58675\n",
      "[700]\ttraining's l1: 0.920238\tvalid_1's l1: 1.5887\n"
     ]
    },
    {
     "name": "stderr",
     "output_type": "stream",
     "text": [
      "\u001b[32m[I 2021-07-04 21:25:16,241]\u001b[0m Trial 63 finished with value: -1.5816748996320378 and parameters: {'max_depth': 12, 'min_child_weight': 4, 'subsample': 0.7, 'colsample_bytree': 0.5, 'reg_lambda': 0.28590978713883475, 'reg_alpha': 0.022585447483583626, 'feature_fraction': 0.94374096978576, 'bagging_fraction': 0.8300296402512982, 'bagging_freq': 6}. Best is trial 4 with value: -1.5751049790107916.\u001b[0m\n"
     ]
    },
    {
     "name": "stdout",
     "output_type": "stream",
     "text": [
      "Early stopping, best iteration is:\n",
      "[656]\ttraining's l1: 0.930006\tvalid_1's l1: 1.58181\n",
      "[LightGBM] [Warning] feature_fraction is set=0.8039304152078449, colsample_bytree=0.9 will be ignored. Current value: feature_fraction=0.8039304152078449\n",
      "[LightGBM] [Warning] bagging_fraction is set=0.7359288710248848, subsample=0.8 will be ignored. Current value: bagging_fraction=0.7359288710248848\n",
      "[LightGBM] [Warning] bagging_freq is set=5, subsample_freq=0 will be ignored. Current value: bagging_freq=5\n",
      "Training until validation scores don't improve for 100 rounds\n",
      "[100]\ttraining's l1: 1.00303\tvalid_1's l1: 1.59968\n",
      "[200]\ttraining's l1: 0.980885\tvalid_1's l1: 1.58794\n",
      "[300]\ttraining's l1: 0.963727\tvalid_1's l1: 1.58454\n",
      "[400]\ttraining's l1: 0.936386\tvalid_1's l1: 1.57769\n",
      "[500]\ttraining's l1: 0.916731\tvalid_1's l1: 1.58173\n"
     ]
    },
    {
     "name": "stderr",
     "output_type": "stream",
     "text": [
      "\u001b[32m[I 2021-07-04 21:25:30,288]\u001b[0m Trial 64 finished with value: -1.574786594147555 and parameters: {'max_depth': 9, 'min_child_weight': 12, 'subsample': 0.8, 'colsample_bytree': 0.9, 'reg_lambda': 2.475697834488531, 'reg_alpha': 0.9175196764668906, 'feature_fraction': 0.8039304152078449, 'bagging_fraction': 0.7359288710248848, 'bagging_freq': 5}. Best is trial 64 with value: -1.574786594147555.\u001b[0m\n"
     ]
    },
    {
     "name": "stdout",
     "output_type": "stream",
     "text": [
      "Early stopping, best iteration is:\n",
      "[445]\ttraining's l1: 0.925955\tvalid_1's l1: 1.57498\n",
      "[LightGBM] [Warning] feature_fraction is set=0.9181705725598135, colsample_bytree=0.8 will be ignored. Current value: feature_fraction=0.9181705725598135\n",
      "[LightGBM] [Warning] bagging_fraction is set=0.7411926549761698, subsample=0.8 will be ignored. Current value: bagging_fraction=0.7411926549761698\n",
      "[LightGBM] [Warning] bagging_freq is set=5, subsample_freq=0 will be ignored. Current value: bagging_freq=5\n",
      "Training until validation scores don't improve for 100 rounds\n",
      "[100]\ttraining's l1: 1.004\tvalid_1's l1: 1.59821\n",
      "[200]\ttraining's l1: 0.997755\tvalid_1's l1: 1.59489\n",
      "[300]\ttraining's l1: 0.98308\tvalid_1's l1: 1.58908\n",
      "[400]\ttraining's l1: 0.973254\tvalid_1's l1: 1.58686\n",
      "[500]\ttraining's l1: 0.960023\tvalid_1's l1: 1.58345\n",
      "[600]\ttraining's l1: 0.940837\tvalid_1's l1: 1.58691\n",
      "Early stopping, best iteration is:\n",
      "[508]\ttraining's l1: 0.959005\tvalid_1's l1: 1.5832\n"
     ]
    },
    {
     "name": "stderr",
     "output_type": "stream",
     "text": [
      "\u001b[32m[I 2021-07-04 21:25:45,171]\u001b[0m Trial 65 finished with value: -1.583096766582011 and parameters: {'max_depth': 6, 'min_child_weight': 12, 'subsample': 0.8, 'colsample_bytree': 0.8, 'reg_lambda': 1.151348920645619, 'reg_alpha': 7.193199423951675, 'feature_fraction': 0.9181705725598135, 'bagging_fraction': 0.7411926549761698, 'bagging_freq': 5}. Best is trial 64 with value: -1.574786594147555.\u001b[0m\n"
     ]
    },
    {
     "name": "stdout",
     "output_type": "stream",
     "text": [
      "[LightGBM] [Warning] feature_fraction is set=0.8663944223724024, colsample_bytree=0.6 will be ignored. Current value: feature_fraction=0.8663944223724024\n",
      "[LightGBM] [Warning] bagging_fraction is set=0.7893059692996345, subsample=0.8 will be ignored. Current value: bagging_fraction=0.7893059692996345\n",
      "[LightGBM] [Warning] bagging_freq is set=6, subsample_freq=0 will be ignored. Current value: bagging_freq=6\n",
      "Training until validation scores don't improve for 100 rounds\n",
      "[100]\ttraining's l1: 1.00409\tvalid_1's l1: 1.60088\n",
      "[200]\ttraining's l1: 0.999947\tvalid_1's l1: 1.60016\n",
      "[300]\ttraining's l1: 0.995937\tvalid_1's l1: 1.59741\n",
      "[400]\ttraining's l1: 0.977381\tvalid_1's l1: 1.59412\n",
      "[500]\ttraining's l1: 0.947095\tvalid_1's l1: 1.59944\n"
     ]
    },
    {
     "name": "stderr",
     "output_type": "stream",
     "text": [
      "\u001b[32m[I 2021-07-04 21:26:00,479]\u001b[0m Trial 66 finished with value: -1.59239526046402 and parameters: {'max_depth': 9, 'min_child_weight': 2, 'subsample': 0.8, 'colsample_bytree': 0.6, 'reg_lambda': 119.99227319383644, 'reg_alpha': 0.0016330744447328124, 'feature_fraction': 0.8663944223724024, 'bagging_fraction': 0.7893059692996345, 'bagging_freq': 6}. Best is trial 64 with value: -1.574786594147555.\u001b[0m\n"
     ]
    },
    {
     "name": "stdout",
     "output_type": "stream",
     "text": [
      "Early stopping, best iteration is:\n",
      "[490]\ttraining's l1: 0.95255\tvalid_1's l1: 1.59253\n",
      "[LightGBM] [Warning] feature_fraction is set=0.8850104815568294, colsample_bytree=0.8 will be ignored. Current value: feature_fraction=0.8850104815568294\n",
      "[LightGBM] [Warning] bagging_fraction is set=0.41591812307067194, subsample=0.8 will be ignored. Current value: bagging_fraction=0.41591812307067194\n",
      "[LightGBM] [Warning] bagging_freq is set=8, subsample_freq=0 will be ignored. Current value: bagging_freq=8\n",
      "Training until validation scores don't improve for 100 rounds\n",
      "[100]\ttraining's l1: 1.00324\tvalid_1's l1: 1.60252\n",
      "[200]\ttraining's l1: 0.997137\tvalid_1's l1: 1.59974\n",
      "[300]\ttraining's l1: 0.993646\tvalid_1's l1: 1.59846\n",
      "[400]\ttraining's l1: 0.984104\tvalid_1's l1: 1.59661\n",
      "[500]\ttraining's l1: 0.960594\tvalid_1's l1: 1.59021\n",
      "[600]\ttraining's l1: 0.938867\tvalid_1's l1: 1.59412\n",
      "[700]\ttraining's l1: 0.923455\tvalid_1's l1: 1.58938\n"
     ]
    },
    {
     "name": "stderr",
     "output_type": "stream",
     "text": [
      "\u001b[32m[I 2021-07-04 21:26:12,285]\u001b[0m Trial 67 finished with value: -1.5881813256746193 and parameters: {'max_depth': 8, 'min_child_weight': 11, 'subsample': 0.8, 'colsample_bytree': 0.8, 'reg_lambda': 3.1651525282739787, 'reg_alpha': 0.1597113611766756, 'feature_fraction': 0.8850104815568294, 'bagging_fraction': 0.41591812307067194, 'bagging_freq': 8}. Best is trial 64 with value: -1.574786594147555.\u001b[0m\n"
     ]
    },
    {
     "name": "stdout",
     "output_type": "stream",
     "text": [
      "Early stopping, best iteration is:\n",
      "[614]\ttraining's l1: 0.934115\tvalid_1's l1: 1.58829\n",
      "[LightGBM] [Warning] feature_fraction is set=0.7385097484822943, colsample_bytree=0.7 will be ignored. Current value: feature_fraction=0.7385097484822943\n",
      "[LightGBM] [Warning] bagging_fraction is set=0.7041917314230163, subsample=0.8 will be ignored. Current value: bagging_fraction=0.7041917314230163\n",
      "[LightGBM] [Warning] bagging_freq is set=3, subsample_freq=0 will be ignored. Current value: bagging_freq=3\n",
      "Training until validation scores don't improve for 100 rounds\n",
      "[100]\ttraining's l1: 1.00599\tvalid_1's l1: 1.59866\n",
      "[200]\ttraining's l1: 0.990326\tvalid_1's l1: 1.59468\n",
      "[300]\ttraining's l1: 0.974841\tvalid_1's l1: 1.5906\n",
      "[400]\ttraining's l1: 0.952469\tvalid_1's l1: 1.58932\n",
      "[500]\ttraining's l1: 0.931947\tvalid_1's l1: 1.58543\n"
     ]
    },
    {
     "name": "stderr",
     "output_type": "stream",
     "text": [
      "\u001b[32m[I 2021-07-04 21:26:27,367]\u001b[0m Trial 68 finished with value: -1.5831744009929718 and parameters: {'max_depth': 16, 'min_child_weight': 7, 'subsample': 0.8, 'colsample_bytree': 0.7, 'reg_lambda': 24.78486754116094, 'reg_alpha': 0.05419565476226219, 'feature_fraction': 0.7385097484822943, 'bagging_fraction': 0.7041917314230163, 'bagging_freq': 3}. Best is trial 64 with value: -1.574786594147555.\u001b[0m\n"
     ]
    },
    {
     "name": "stdout",
     "output_type": "stream",
     "text": [
      "Early stopping, best iteration is:\n",
      "[489]\ttraining's l1: 0.934438\tvalid_1's l1: 1.58326\n",
      "[LightGBM] [Warning] feature_fraction is set=0.8442642488024082, colsample_bytree=0.9 will be ignored. Current value: feature_fraction=0.8442642488024082\n",
      "[LightGBM] [Warning] bagging_fraction is set=0.7665566461452442, subsample=0.8 will be ignored. Current value: bagging_fraction=0.7665566461452442\n",
      "[LightGBM] [Warning] bagging_freq is set=4, subsample_freq=0 will be ignored. Current value: bagging_freq=4\n",
      "Training until validation scores don't improve for 100 rounds\n",
      "[100]\ttraining's l1: 1.00801\tvalid_1's l1: 1.60479\n",
      "[200]\ttraining's l1: 1.00399\tvalid_1's l1: 1.60354\n",
      "[300]\ttraining's l1: 0.995231\tvalid_1's l1: 1.60127\n",
      "[400]\ttraining's l1: 0.967539\tvalid_1's l1: 1.5936\n",
      "[500]\ttraining's l1: 0.94244\tvalid_1's l1: 1.58953\n"
     ]
    },
    {
     "name": "stderr",
     "output_type": "stream",
     "text": [
      "\u001b[32m[I 2021-07-04 21:26:43,106]\u001b[0m Trial 69 finished with value: -1.5861161473607428 and parameters: {'max_depth': 10, 'min_child_weight': 13, 'subsample': 0.8, 'colsample_bytree': 0.9, 'reg_lambda': 0.009534017479201929, 'reg_alpha': 0.29975852111501283, 'feature_fraction': 0.8442642488024082, 'bagging_fraction': 0.7665566461452442, 'bagging_freq': 4}. Best is trial 64 with value: -1.574786594147555.\u001b[0m\n"
     ]
    },
    {
     "name": "stdout",
     "output_type": "stream",
     "text": [
      "Early stopping, best iteration is:\n",
      "[465]\ttraining's l1: 0.951528\tvalid_1's l1: 1.58617\n",
      "[LightGBM] [Warning] feature_fraction is set=0.8120942622147131, colsample_bytree=0.8 will be ignored. Current value: feature_fraction=0.8120942622147131\n",
      "[LightGBM] [Warning] bagging_fraction is set=0.6287224518512751, subsample=0.9 will be ignored. Current value: bagging_fraction=0.6287224518512751\n",
      "[LightGBM] [Warning] bagging_freq is set=6, subsample_freq=0 will be ignored. Current value: bagging_freq=6\n",
      "Training until validation scores don't improve for 100 rounds\n",
      "[100]\ttraining's l1: 1.00985\tvalid_1's l1: 1.60621\n",
      "[200]\ttraining's l1: 0.994649\tvalid_1's l1: 1.60178\n",
      "[300]\ttraining's l1: 0.978135\tvalid_1's l1: 1.59592\n",
      "[400]\ttraining's l1: 0.950099\tvalid_1's l1: 1.59333\n",
      "[500]\ttraining's l1: 0.917073\tvalid_1's l1: 1.58792\n"
     ]
    },
    {
     "name": "stderr",
     "output_type": "stream",
     "text": [
      "\u001b[32m[I 2021-07-04 21:26:56,210]\u001b[0m Trial 70 finished with value: -1.5864965430060172 and parameters: {'max_depth': 15, 'min_child_weight': 8, 'subsample': 0.9, 'colsample_bytree': 0.8, 'reg_lambda': 7.046559205008262, 'reg_alpha': 0.09207554470930016, 'feature_fraction': 0.8120942622147131, 'bagging_fraction': 0.6287224518512751, 'bagging_freq': 6}. Best is trial 64 with value: -1.574786594147555.\u001b[0m\n"
     ]
    },
    {
     "name": "stdout",
     "output_type": "stream",
     "text": [
      "Early stopping, best iteration is:\n",
      "[476]\ttraining's l1: 0.926431\tvalid_1's l1: 1.58666\n",
      "[LightGBM] [Warning] feature_fraction is set=0.792837161905971, colsample_bytree=0.9 will be ignored. Current value: feature_fraction=0.792837161905971\n",
      "[LightGBM] [Warning] bagging_fraction is set=0.7373461078663301, subsample=0.7 will be ignored. Current value: bagging_fraction=0.7373461078663301\n",
      "[LightGBM] [Warning] bagging_freq is set=5, subsample_freq=0 will be ignored. Current value: bagging_freq=5\n",
      "Training until validation scores don't improve for 100 rounds\n",
      "[100]\ttraining's l1: 1.00368\tvalid_1's l1: 1.60219\n",
      "[200]\ttraining's l1: 0.982138\tvalid_1's l1: 1.59531\n",
      "[300]\ttraining's l1: 0.957099\tvalid_1's l1: 1.58508\n",
      "[400]\ttraining's l1: 0.94208\tvalid_1's l1: 1.58556\n"
     ]
    },
    {
     "name": "stderr",
     "output_type": "stream",
     "text": [
      "\u001b[32m[I 2021-07-04 21:27:07,664]\u001b[0m Trial 71 finished with value: -1.5846891933166225 and parameters: {'max_depth': 11, 'min_child_weight': 15, 'subsample': 0.7, 'colsample_bytree': 0.9, 'reg_lambda': 2.1531170650394733, 'reg_alpha': 1.8668587305780826, 'feature_fraction': 0.792837161905971, 'bagging_fraction': 0.7373461078663301, 'bagging_freq': 5}. Best is trial 64 with value: -1.574786594147555.\u001b[0m\n"
     ]
    },
    {
     "name": "stdout",
     "output_type": "stream",
     "text": [
      "Early stopping, best iteration is:\n",
      "[329]\ttraining's l1: 0.954664\tvalid_1's l1: 1.58479\n",
      "[LightGBM] [Warning] feature_fraction is set=0.9803009665527307, colsample_bytree=0.9 will be ignored. Current value: feature_fraction=0.9803009665527307\n",
      "[LightGBM] [Warning] bagging_fraction is set=0.8684281813901709, subsample=0.6 will be ignored. Current value: bagging_fraction=0.8684281813901709\n",
      "[LightGBM] [Warning] bagging_freq is set=5, subsample_freq=0 will be ignored. Current value: bagging_freq=5\n",
      "Training until validation scores don't improve for 100 rounds\n",
      "[100]\ttraining's l1: 1.00295\tvalid_1's l1: 1.60235\n",
      "[200]\ttraining's l1: 1.00018\tvalid_1's l1: 1.60145\n",
      "[300]\ttraining's l1: 0.99965\tvalid_1's l1: 1.6011\n",
      "[400]\ttraining's l1: 0.994745\tvalid_1's l1: 1.60063\n",
      "[500]\ttraining's l1: 0.992367\tvalid_1's l1: 1.59971\n",
      "[600]\ttraining's l1: 0.985634\tvalid_1's l1: 1.59427\n",
      "[700]\ttraining's l1: 0.972154\tvalid_1's l1: 1.59398\n",
      "[800]\ttraining's l1: 0.95371\tvalid_1's l1: 1.59306\n",
      "[900]\ttraining's l1: 0.920308\tvalid_1's l1: 1.59676\n"
     ]
    },
    {
     "name": "stderr",
     "output_type": "stream",
     "text": [
      "\u001b[32m[I 2021-07-04 21:27:32,948]\u001b[0m Trial 72 finished with value: -1.5897215125935944 and parameters: {'max_depth': 9, 'min_child_weight': 16, 'subsample': 0.6, 'colsample_bytree': 0.9, 'reg_lambda': 0.6265160363805203, 'reg_alpha': 5.1715293704635386, 'feature_fraction': 0.9803009665527307, 'bagging_fraction': 0.8684281813901709, 'bagging_freq': 5}. Best is trial 64 with value: -1.574786594147555.\u001b[0m\n"
     ]
    },
    {
     "name": "stdout",
     "output_type": "stream",
     "text": [
      "Early stopping, best iteration is:\n",
      "[819]\ttraining's l1: 0.944679\tvalid_1's l1: 1.58985\n",
      "[LightGBM] [Warning] feature_fraction is set=0.7584118150720991, colsample_bytree=0.9 will be ignored. Current value: feature_fraction=0.7584118150720991\n",
      "[LightGBM] [Warning] bagging_fraction is set=0.681958563458009, subsample=0.5 will be ignored. Current value: bagging_fraction=0.681958563458009\n",
      "[LightGBM] [Warning] bagging_freq is set=4, subsample_freq=0 will be ignored. Current value: bagging_freq=4\n",
      "Training until validation scores don't improve for 100 rounds\n",
      "[100]\ttraining's l1: 1.00731\tvalid_1's l1: 1.60226\n",
      "[200]\ttraining's l1: 0.991243\tvalid_1's l1: 1.59877\n",
      "[300]\ttraining's l1: 0.97953\tvalid_1's l1: 1.59413\n",
      "[400]\ttraining's l1: 0.952766\tvalid_1's l1: 1.5905\n"
     ]
    },
    {
     "name": "stderr",
     "output_type": "stream",
     "text": [
      "\u001b[32m[I 2021-07-04 21:27:44,867]\u001b[0m Trial 73 finished with value: -1.5866006708163551 and parameters: {'max_depth': 10, 'min_child_weight': 3, 'subsample': 0.5, 'colsample_bytree': 0.9, 'reg_lambda': 0.954377037626045, 'reg_alpha': 0.6271231165689278, 'feature_fraction': 0.7584118150720991, 'bagging_fraction': 0.681958563458009, 'bagging_freq': 4}. Best is trial 64 with value: -1.574786594147555.\u001b[0m\n"
     ]
    },
    {
     "name": "stdout",
     "output_type": "stream",
     "text": [
      "Early stopping, best iteration is:\n",
      "[384]\ttraining's l1: 0.958201\tvalid_1's l1: 1.58669\n",
      "[LightGBM] [Warning] feature_fraction is set=0.7100794567895994, colsample_bytree=0.9 will be ignored. Current value: feature_fraction=0.7100794567895994\n",
      "[LightGBM] [Warning] bagging_fraction is set=0.7708544230976688, subsample=0.7 will be ignored. Current value: bagging_fraction=0.7708544230976688\n",
      "[LightGBM] [Warning] bagging_freq is set=5, subsample_freq=0 will be ignored. Current value: bagging_freq=5\n",
      "Training until validation scores don't improve for 100 rounds\n",
      "[100]\ttraining's l1: 1.00489\tvalid_1's l1: 1.59914\n",
      "[200]\ttraining's l1: 0.999948\tvalid_1's l1: 1.59717\n",
      "[300]\ttraining's l1: 0.982292\tvalid_1's l1: 1.59365\n",
      "[400]\ttraining's l1: 0.959502\tvalid_1's l1: 1.58882\n",
      "[500]\ttraining's l1: 0.940171\tvalid_1's l1: 1.58955\n"
     ]
    },
    {
     "name": "stderr",
     "output_type": "stream",
     "text": [
      "\u001b[32m[I 2021-07-04 21:27:57,372]\u001b[0m Trial 74 finished with value: -1.5884755234197412 and parameters: {'max_depth': 8, 'min_child_weight': 6, 'subsample': 0.7, 'colsample_bytree': 0.9, 'reg_lambda': 2.2075968670857375, 'reg_alpha': 2.4647797468316455, 'feature_fraction': 0.7100794567895994, 'bagging_fraction': 0.7708544230976688, 'bagging_freq': 5}. Best is trial 64 with value: -1.574786594147555.\u001b[0m\n"
     ]
    },
    {
     "name": "stdout",
     "output_type": "stream",
     "text": [
      "Early stopping, best iteration is:\n",
      "[410]\ttraining's l1: 0.958537\tvalid_1's l1: 1.58854\n",
      "[LightGBM] [Warning] feature_fraction is set=0.8236571549027398, colsample_bytree=0.9 will be ignored. Current value: feature_fraction=0.8236571549027398\n",
      "[LightGBM] [Warning] bagging_fraction is set=0.9824700131081596, subsample=0.5 will be ignored. Current value: bagging_fraction=0.9824700131081596\n",
      "[LightGBM] [Warning] bagging_freq is set=1, subsample_freq=0 will be ignored. Current value: bagging_freq=1\n",
      "Training until validation scores don't improve for 100 rounds\n",
      "[100]\ttraining's l1: 1.00803\tvalid_1's l1: 1.60403\n",
      "[200]\ttraining's l1: 0.99895\tvalid_1's l1: 1.60093\n",
      "[300]\ttraining's l1: 0.981237\tvalid_1's l1: 1.59586\n",
      "[400]\ttraining's l1: 0.96552\tvalid_1's l1: 1.59026\n",
      "[500]\ttraining's l1: 0.933341\tvalid_1's l1: 1.58964\n"
     ]
    },
    {
     "name": "stderr",
     "output_type": "stream",
     "text": [
      "\u001b[32m[I 2021-07-04 21:28:10,159]\u001b[0m Trial 75 finished with value: -1.5874648347331073 and parameters: {'max_depth': 13, 'min_child_weight': 10, 'subsample': 0.5, 'colsample_bytree': 0.9, 'reg_lambda': 0.0859043345825572, 'reg_alpha': 0.9273717475278882, 'feature_fraction': 0.8236571549027398, 'bagging_fraction': 0.9824700131081596, 'bagging_freq': 1}. Best is trial 64 with value: -1.574786594147555.\u001b[0m\n"
     ]
    },
    {
     "name": "stdout",
     "output_type": "stream",
     "text": [
      "Early stopping, best iteration is:\n",
      "[421]\ttraining's l1: 0.956869\tvalid_1's l1: 1.58754\n",
      "[LightGBM] [Warning] feature_fraction is set=0.6951455347302307, colsample_bytree=0.8 will be ignored. Current value: feature_fraction=0.6951455347302307\n",
      "[LightGBM] [Warning] bagging_fraction is set=0.9345541664023941, subsample=0.6 will be ignored. Current value: bagging_fraction=0.9345541664023941\n",
      "[LightGBM] [Warning] bagging_freq is set=3, subsample_freq=0 will be ignored. Current value: bagging_freq=3\n",
      "Training until validation scores don't improve for 100 rounds\n",
      "[100]\ttraining's l1: 1.00642\tvalid_1's l1: 1.60716\n",
      "[200]\ttraining's l1: 0.998616\tvalid_1's l1: 1.60483\n",
      "[300]\ttraining's l1: 0.984495\tvalid_1's l1: 1.59665\n",
      "[400]\ttraining's l1: 0.959164\tvalid_1's l1: 1.5933\n",
      "[500]\ttraining's l1: 0.945889\tvalid_1's l1: 1.58514\n",
      "[600]\ttraining's l1: 0.935118\tvalid_1's l1: 1.58426\n"
     ]
    },
    {
     "name": "stderr",
     "output_type": "stream",
     "text": [
      "\u001b[32m[I 2021-07-04 21:28:30,036]\u001b[0m Trial 76 finished with value: -1.582152169025482 and parameters: {'max_depth': 17, 'min_child_weight': 18, 'subsample': 0.6, 'colsample_bytree': 0.8, 'reg_lambda': 4.51238037470418, 'reg_alpha': 0.029283275931696315, 'feature_fraction': 0.6951455347302307, 'bagging_fraction': 0.9345541664023941, 'bagging_freq': 3}. Best is trial 64 with value: -1.574786594147555.\u001b[0m\n"
     ]
    },
    {
     "name": "stdout",
     "output_type": "stream",
     "text": [
      "Early stopping, best iteration is:\n",
      "[562]\ttraining's l1: 0.937257\tvalid_1's l1: 1.58227\n",
      "[LightGBM] [Warning] feature_fraction is set=0.909713383790239, colsample_bytree=0.9 will be ignored. Current value: feature_fraction=0.909713383790239\n",
      "[LightGBM] [Warning] bagging_fraction is set=0.9555646410221154, subsample=0.8 will be ignored. Current value: bagging_fraction=0.9555646410221154\n",
      "[LightGBM] [Warning] bagging_freq is set=2, subsample_freq=0 will be ignored. Current value: bagging_freq=2\n",
      "Training until validation scores don't improve for 100 rounds\n",
      "[100]\ttraining's l1: 1.01143\tvalid_1's l1: 1.60377\n",
      "[200]\ttraining's l1: 1.00175\tvalid_1's l1: 1.60088\n",
      "[300]\ttraining's l1: 0.988999\tvalid_1's l1: 1.59706\n",
      "[400]\ttraining's l1: 0.972593\tvalid_1's l1: 1.59255\n",
      "[500]\ttraining's l1: 0.947603\tvalid_1's l1: 1.58899\n"
     ]
    },
    {
     "name": "stderr",
     "output_type": "stream",
     "text": [
      "\u001b[32m[I 2021-07-04 21:28:53,066]\u001b[0m Trial 77 finished with value: -1.587461139961664 and parameters: {'max_depth': 12, 'min_child_weight': 16, 'subsample': 0.8, 'colsample_bytree': 0.9, 'reg_lambda': 9.517652316953619, 'reg_alpha': 49.710039161158285, 'feature_fraction': 0.909713383790239, 'bagging_fraction': 0.9555646410221154, 'bagging_freq': 2}. Best is trial 64 with value: -1.574786594147555.\u001b[0m\n"
     ]
    },
    {
     "name": "stdout",
     "output_type": "stream",
     "text": [
      "Early stopping, best iteration is:\n",
      "[485]\ttraining's l1: 0.950667\tvalid_1's l1: 1.58749\n",
      "[LightGBM] [Warning] feature_fraction is set=0.8041366060554023, colsample_bytree=0.8 will be ignored. Current value: feature_fraction=0.8041366060554023\n",
      "[LightGBM] [Warning] bagging_fraction is set=0.9036668858570004, subsample=0.5 will be ignored. Current value: bagging_fraction=0.9036668858570004\n",
      "[LightGBM] [Warning] bagging_freq is set=4, subsample_freq=0 will be ignored. Current value: bagging_freq=4\n",
      "Training until validation scores don't improve for 100 rounds\n",
      "[100]\ttraining's l1: 1.01422\tvalid_1's l1: 1.60306\n",
      "[200]\ttraining's l1: 1.00159\tvalid_1's l1: 1.59752\n",
      "[300]\ttraining's l1: 0.983319\tvalid_1's l1: 1.59266\n",
      "[400]\ttraining's l1: 0.959579\tvalid_1's l1: 1.58895\n",
      "[500]\ttraining's l1: 0.939525\tvalid_1's l1: 1.58832\n"
     ]
    },
    {
     "name": "stderr",
     "output_type": "stream",
     "text": [
      "\u001b[32m[I 2021-07-04 21:29:10,534]\u001b[0m Trial 78 finished with value: -1.5832399400453645 and parameters: {'max_depth': 11, 'min_child_weight': 13, 'subsample': 0.5, 'colsample_bytree': 0.8, 'reg_lambda': 0.22123019507290256, 'reg_alpha': 0.01307829305506148, 'feature_fraction': 0.8041366060554023, 'bagging_fraction': 0.9036668858570004, 'bagging_freq': 4}. Best is trial 64 with value: -1.574786594147555.\u001b[0m\n"
     ]
    },
    {
     "name": "stdout",
     "output_type": "stream",
     "text": [
      "Early stopping, best iteration is:\n",
      "[463]\ttraining's l1: 0.948825\tvalid_1's l1: 1.58332\n",
      "[LightGBM] [Warning] feature_fraction is set=0.7714280363443365, colsample_bytree=0.8 will be ignored. Current value: feature_fraction=0.7714280363443365\n",
      "[LightGBM] [Warning] bagging_fraction is set=0.8472861749834271, subsample=0.6 will be ignored. Current value: bagging_fraction=0.8472861749834271\n",
      "[LightGBM] [Warning] bagging_freq is set=1, subsample_freq=0 will be ignored. Current value: bagging_freq=1\n",
      "Training until validation scores don't improve for 100 rounds\n",
      "[100]\ttraining's l1: 1.0073\tvalid_1's l1: 1.60468\n",
      "[200]\ttraining's l1: 1.00177\tvalid_1's l1: 1.60239\n",
      "[300]\ttraining's l1: 0.991539\tvalid_1's l1: 1.59772\n",
      "[400]\ttraining's l1: 0.975534\tvalid_1's l1: 1.58992\n",
      "[500]\ttraining's l1: 0.957843\tvalid_1's l1: 1.58592\n"
     ]
    },
    {
     "name": "stderr",
     "output_type": "stream",
     "text": [
      "\u001b[32m[I 2021-07-04 21:29:24,614]\u001b[0m Trial 79 finished with value: -1.584162940899025 and parameters: {'max_depth': 10, 'min_child_weight': 5, 'subsample': 0.6, 'colsample_bytree': 0.8, 'reg_lambda': 15.275101689883968, 'reg_alpha': 0.005658346924654208, 'feature_fraction': 0.7714280363443365, 'bagging_fraction': 0.8472861749834271, 'bagging_freq': 1}. Best is trial 64 with value: -1.574786594147555.\u001b[0m\n"
     ]
    },
    {
     "name": "stdout",
     "output_type": "stream",
     "text": [
      "Early stopping, best iteration is:\n",
      "[479]\ttraining's l1: 0.961193\tvalid_1's l1: 1.58426\n",
      "[LightGBM] [Warning] feature_fraction is set=0.7314674582003925, colsample_bytree=0.7 will be ignored. Current value: feature_fraction=0.7314674582003925\n",
      "[LightGBM] [Warning] bagging_fraction is set=0.806578312877455, subsample=0.8 will be ignored. Current value: bagging_fraction=0.806578312877455\n",
      "[LightGBM] [Warning] bagging_freq is set=4, subsample_freq=0 will be ignored. Current value: bagging_freq=4\n",
      "Training until validation scores don't improve for 100 rounds\n",
      "[100]\ttraining's l1: 1.00843\tvalid_1's l1: 1.59869\n",
      "[200]\ttraining's l1: 0.990869\tvalid_1's l1: 1.5934\n",
      "[300]\ttraining's l1: 0.976827\tvalid_1's l1: 1.59111\n",
      "[400]\ttraining's l1: 0.939513\tvalid_1's l1: 1.58864\n"
     ]
    },
    {
     "name": "stderr",
     "output_type": "stream",
     "text": [
      "\u001b[32m[I 2021-07-04 21:29:36,902]\u001b[0m Trial 80 finished with value: -1.587494138672474 and parameters: {'max_depth': 15, 'min_child_weight': 7, 'subsample': 0.8, 'colsample_bytree': 0.7, 'reg_lambda': 0.4084636077007586, 'reg_alpha': 1.4017263895549597, 'feature_fraction': 0.7314674582003925, 'bagging_fraction': 0.806578312877455, 'bagging_freq': 4}. Best is trial 64 with value: -1.574786594147555.\u001b[0m\n"
     ]
    },
    {
     "name": "stdout",
     "output_type": "stream",
     "text": [
      "Early stopping, best iteration is:\n",
      "[349]\ttraining's l1: 0.956766\tvalid_1's l1: 1.58755\n",
      "[LightGBM] [Warning] feature_fraction is set=0.6599576256126458, colsample_bytree=0.6 will be ignored. Current value: feature_fraction=0.6599576256126458\n",
      "[LightGBM] [Warning] bagging_fraction is set=0.919931322285093, subsample=0.8 will be ignored. Current value: bagging_fraction=0.919931322285093\n",
      "[LightGBM] [Warning] bagging_freq is set=10, subsample_freq=0 will be ignored. Current value: bagging_freq=10\n",
      "Training until validation scores don't improve for 100 rounds\n",
      "[100]\ttraining's l1: 1.01226\tvalid_1's l1: 1.60421\n",
      "[200]\ttraining's l1: 1.00277\tvalid_1's l1: 1.60134\n",
      "[300]\ttraining's l1: 0.989982\tvalid_1's l1: 1.59451\n",
      "[400]\ttraining's l1: 0.964234\tvalid_1's l1: 1.58905\n",
      "[500]\ttraining's l1: 0.940865\tvalid_1's l1: 1.58913\n",
      "Early stopping, best iteration is:\n",
      "[407]\ttraining's l1: 0.958702\tvalid_1's l1: 1.5876\n"
     ]
    },
    {
     "name": "stderr",
     "output_type": "stream",
     "text": [
      "\u001b[32m[I 2021-07-04 21:29:49,860]\u001b[0m Trial 81 finished with value: -1.5874546286886733 and parameters: {'max_depth': 17, 'min_child_weight': 6, 'subsample': 0.8, 'colsample_bytree': 0.6, 'reg_lambda': 88.42624107444412, 'reg_alpha': 0.05997865624367259, 'feature_fraction': 0.6599576256126458, 'bagging_fraction': 0.919931322285093, 'bagging_freq': 10}. Best is trial 64 with value: -1.574786594147555.\u001b[0m\n"
     ]
    },
    {
     "name": "stdout",
     "output_type": "stream",
     "text": [
      "[LightGBM] [Warning] feature_fraction is set=0.7301644757223367, colsample_bytree=0.5 will be ignored. Current value: feature_fraction=0.7301644757223367\n",
      "[LightGBM] [Warning] bagging_fraction is set=0.9589971659710123, subsample=0.8 will be ignored. Current value: bagging_fraction=0.9589971659710123\n",
      "[LightGBM] [Warning] bagging_freq is set=8, subsample_freq=0 will be ignored. Current value: bagging_freq=8\n",
      "Training until validation scores don't improve for 100 rounds\n",
      "[100]\ttraining's l1: 1.00687\tvalid_1's l1: 1.6048\n",
      "[200]\ttraining's l1: 0.995901\tvalid_1's l1: 1.6007\n",
      "[300]\ttraining's l1: 0.979418\tvalid_1's l1: 1.59447\n",
      "[400]\ttraining's l1: 0.94974\tvalid_1's l1: 1.58996\n"
     ]
    },
    {
     "name": "stderr",
     "output_type": "stream",
     "text": [
      "\u001b[32m[I 2021-07-04 21:30:03,641]\u001b[0m Trial 82 finished with value: -1.5883611491978435 and parameters: {'max_depth': 16, 'min_child_weight': 6, 'subsample': 0.8, 'colsample_bytree': 0.5, 'reg_lambda': 25.85784002712901, 'reg_alpha': 0.09684814217930902, 'feature_fraction': 0.7301644757223367, 'bagging_fraction': 0.9589971659710123, 'bagging_freq': 8}. Best is trial 64 with value: -1.574786594147555.\u001b[0m\n"
     ]
    },
    {
     "name": "stdout",
     "output_type": "stream",
     "text": [
      "Early stopping, best iteration is:\n",
      "[394]\ttraining's l1: 0.950202\tvalid_1's l1: 1.58845\n",
      "[LightGBM] [Warning] feature_fraction is set=0.7486585726252726, colsample_bytree=0.6 will be ignored. Current value: feature_fraction=0.7486585726252726\n",
      "[LightGBM] [Warning] bagging_fraction is set=0.9842282593169455, subsample=0.8 will be ignored. Current value: bagging_fraction=0.9842282593169455\n",
      "[LightGBM] [Warning] bagging_freq is set=9, subsample_freq=0 will be ignored. Current value: bagging_freq=9\n",
      "Training until validation scores don't improve for 100 rounds\n",
      "[100]\ttraining's l1: 1.00735\tvalid_1's l1: 1.60138\n",
      "[200]\ttraining's l1: 1.0039\tvalid_1's l1: 1.60149\n",
      "[300]\ttraining's l1: 0.989411\tvalid_1's l1: 1.5983\n",
      "[400]\ttraining's l1: 0.963158\tvalid_1's l1: 1.59021\n",
      "[500]\ttraining's l1: 0.929739\tvalid_1's l1: 1.59254\n",
      "Early stopping, best iteration is:\n",
      "[405]\ttraining's l1: 0.958862\tvalid_1's l1: 1.58635\n"
     ]
    },
    {
     "name": "stderr",
     "output_type": "stream",
     "text": [
      "\u001b[32m[I 2021-07-04 21:30:17,885]\u001b[0m Trial 83 finished with value: -1.5861917927083764 and parameters: {'max_depth': 16, 'min_child_weight': 19, 'subsample': 0.8, 'colsample_bytree': 0.6, 'reg_lambda': 30.791421393554177, 'reg_alpha': 0.047452642957438125, 'feature_fraction': 0.7486585726252726, 'bagging_fraction': 0.9842282593169455, 'bagging_freq': 9}. Best is trial 64 with value: -1.574786594147555.\u001b[0m\n"
     ]
    },
    {
     "name": "stdout",
     "output_type": "stream",
     "text": [
      "[LightGBM] [Warning] feature_fraction is set=0.7171094800542317, colsample_bytree=0.6 will be ignored. Current value: feature_fraction=0.7171094800542317\n",
      "[LightGBM] [Warning] bagging_fraction is set=0.9315391319055897, subsample=0.8 will be ignored. Current value: bagging_fraction=0.9315391319055897\n",
      "[LightGBM] [Warning] bagging_freq is set=9, subsample_freq=0 will be ignored. Current value: bagging_freq=9\n",
      "Training until validation scores don't improve for 100 rounds\n",
      "[100]\ttraining's l1: 1.0086\tvalid_1's l1: 1.60503\n",
      "[200]\ttraining's l1: 0.993907\tvalid_1's l1: 1.59593\n",
      "[300]\ttraining's l1: 0.974882\tvalid_1's l1: 1.59251\n",
      "[400]\ttraining's l1: 0.952169\tvalid_1's l1: 1.59381\n",
      "[500]\ttraining's l1: 0.933475\tvalid_1's l1: 1.58575\n",
      "[600]\ttraining's l1: 0.915516\tvalid_1's l1: 1.58323\n",
      "[700]\ttraining's l1: 0.904741\tvalid_1's l1: 1.58312\n",
      "Early stopping, best iteration is:\n",
      "[605]\ttraining's l1: 0.914379\tvalid_1's l1: 1.58226\n"
     ]
    },
    {
     "name": "stderr",
     "output_type": "stream",
     "text": [
      "\u001b[32m[I 2021-07-04 21:30:35,982]\u001b[0m Trial 84 finished with value: -1.5820372912215075 and parameters: {'max_depth': 14, 'min_child_weight': 5, 'subsample': 0.8, 'colsample_bytree': 0.6, 'reg_lambda': 3.3161041372555977, 'reg_alpha': 0.023227440785832613, 'feature_fraction': 0.7171094800542317, 'bagging_fraction': 0.9315391319055897, 'bagging_freq': 9}. Best is trial 64 with value: -1.574786594147555.\u001b[0m\n"
     ]
    },
    {
     "name": "stdout",
     "output_type": "stream",
     "text": [
      "[LightGBM] [Warning] feature_fraction is set=0.6389789778278829, colsample_bytree=0.5 will be ignored. Current value: feature_fraction=0.6389789778278829\n",
      "[LightGBM] [Warning] bagging_fraction is set=0.9109281370365985, subsample=0.9 will be ignored. Current value: bagging_fraction=0.9109281370365985\n",
      "[LightGBM] [Warning] bagging_freq is set=6, subsample_freq=0 will be ignored. Current value: bagging_freq=6\n",
      "Training until validation scores don't improve for 100 rounds\n",
      "[100]\ttraining's l1: 0.999449\tvalid_1's l1: 1.60268\n",
      "[200]\ttraining's l1: 0.992135\tvalid_1's l1: 1.59883\n",
      "[300]\ttraining's l1: 0.987107\tvalid_1's l1: 1.59777\n",
      "[400]\ttraining's l1: 0.976596\tvalid_1's l1: 1.59385\n",
      "[500]\ttraining's l1: 0.958084\tvalid_1's l1: 1.59076\n"
     ]
    },
    {
     "name": "stderr",
     "output_type": "stream",
     "text": [
      "\u001b[32m[I 2021-07-04 21:30:51,003]\u001b[0m Trial 85 finished with value: -1.587578810237105 and parameters: {'max_depth': 7, 'min_child_weight': 7, 'subsample': 0.9, 'colsample_bytree': 0.5, 'reg_lambda': 219.61173647257704, 'reg_alpha': 0.1602076805456031, 'feature_fraction': 0.6389789778278829, 'bagging_fraction': 0.9109281370365985, 'bagging_freq': 6}. Best is trial 64 with value: -1.574786594147555.\u001b[0m\n"
     ]
    },
    {
     "name": "stdout",
     "output_type": "stream",
     "text": [
      "Early stopping, best iteration is:\n",
      "[475]\ttraining's l1: 0.96172\tvalid_1's l1: 1.58764\n",
      "[LightGBM] [Warning] feature_fraction is set=0.7939385844209829, colsample_bytree=0.7 will be ignored. Current value: feature_fraction=0.7939385844209829\n",
      "[LightGBM] [Warning] bagging_fraction is set=0.8706174943202393, subsample=0.8 will be ignored. Current value: bagging_fraction=0.8706174943202393\n",
      "[LightGBM] [Warning] bagging_freq is set=10, subsample_freq=0 will be ignored. Current value: bagging_freq=10\n",
      "Training until validation scores don't improve for 100 rounds\n",
      "[100]\ttraining's l1: 1.00881\tvalid_1's l1: 1.60247\n",
      "[200]\ttraining's l1: 0.990606\tvalid_1's l1: 1.59398\n",
      "[300]\ttraining's l1: 0.982448\tvalid_1's l1: 1.59059\n",
      "[400]\ttraining's l1: 0.974507\tvalid_1's l1: 1.58943\n",
      "[500]\ttraining's l1: 0.959946\tvalid_1's l1: 1.58724\n",
      "[600]\ttraining's l1: 0.933298\tvalid_1's l1: 1.57798\n",
      "[700]\ttraining's l1: 0.907485\tvalid_1's l1: 1.57831\n",
      "Early stopping, best iteration is:\n",
      "[605]\ttraining's l1: 0.93195\tvalid_1's l1: 1.57651\n"
     ]
    },
    {
     "name": "stderr",
     "output_type": "stream",
     "text": [
      "\u001b[32m[I 2021-07-04 21:31:08,502]\u001b[0m Trial 86 finished with value: -1.5763740426454118 and parameters: {'max_depth': 9, 'min_child_weight': 9, 'subsample': 0.8, 'colsample_bytree': 0.7, 'reg_lambda': 0.03655590347369159, 'reg_alpha': 0.26973636349124713, 'feature_fraction': 0.7939385844209829, 'bagging_fraction': 0.8706174943202393, 'bagging_freq': 10}. Best is trial 64 with value: -1.574786594147555.\u001b[0m\n"
     ]
    },
    {
     "name": "stdout",
     "output_type": "stream",
     "text": [
      "[LightGBM] [Warning] feature_fraction is set=0.8662217773531435, colsample_bytree=0.7 will be ignored. Current value: feature_fraction=0.8662217773531435\n",
      "[LightGBM] [Warning] bagging_fraction is set=0.8706029644425841, subsample=0.7 will be ignored. Current value: bagging_fraction=0.8706029644425841\n",
      "[LightGBM] [Warning] bagging_freq is set=10, subsample_freq=0 will be ignored. Current value: bagging_freq=10\n",
      "Training until validation scores don't improve for 100 rounds\n",
      "[100]\ttraining's l1: 1.00824\tvalid_1's l1: 1.60349\n",
      "[200]\ttraining's l1: 1.00171\tvalid_1's l1: 1.59974\n",
      "[300]\ttraining's l1: 0.990239\tvalid_1's l1: 1.596\n",
      "[400]\ttraining's l1: 0.976011\tvalid_1's l1: 1.59157\n",
      "[500]\ttraining's l1: 0.950931\tvalid_1's l1: 1.589\n"
     ]
    },
    {
     "name": "stderr",
     "output_type": "stream",
     "text": [
      "\u001b[32m[I 2021-07-04 21:31:23,768]\u001b[0m Trial 87 finished with value: -1.5851845008491035 and parameters: {'max_depth': 9, 'min_child_weight': 11, 'subsample': 0.7, 'colsample_bytree': 0.7, 'reg_lambda': 0.03791198928324433, 'reg_alpha': 0.2457485415118667, 'feature_fraction': 0.8662217773531435, 'bagging_fraction': 0.8706029644425841, 'bagging_freq': 10}. Best is trial 64 with value: -1.574786594147555.\u001b[0m\n"
     ]
    },
    {
     "name": "stdout",
     "output_type": "stream",
     "text": [
      "Early stopping, best iteration is:\n",
      "[497]\ttraining's l1: 0.952954\tvalid_1's l1: 1.58525\n",
      "[LightGBM] [Warning] feature_fraction is set=0.790799167986328, colsample_bytree=0.8 will be ignored. Current value: feature_fraction=0.790799167986328\n",
      "[LightGBM] [Warning] bagging_fraction is set=0.7930296851588822, subsample=0.5 will be ignored. Current value: bagging_fraction=0.7930296851588822\n",
      "[LightGBM] [Warning] bagging_freq is set=3, subsample_freq=0 will be ignored. Current value: bagging_freq=3\n",
      "Training until validation scores don't improve for 100 rounds\n",
      "[100]\ttraining's l1: 1.00182\tvalid_1's l1: 1.60135\n",
      "[200]\ttraining's l1: 0.986836\tvalid_1's l1: 1.59645\n",
      "[300]\ttraining's l1: 0.971103\tvalid_1's l1: 1.59175\n",
      "[400]\ttraining's l1: 0.950972\tvalid_1's l1: 1.58541\n",
      "[500]\ttraining's l1: 0.934809\tvalid_1's l1: 1.58383\n"
     ]
    },
    {
     "name": "stderr",
     "output_type": "stream",
     "text": [
      "\u001b[32m[I 2021-07-04 21:31:40,709]\u001b[0m Trial 88 finished with value: -1.5816640166036717 and parameters: {'max_depth': 8, 'min_child_weight': 9, 'subsample': 0.5, 'colsample_bytree': 0.8, 'reg_lambda': 0.019287044856578207, 'reg_alpha': 0.5334202444213245, 'feature_fraction': 0.790799167986328, 'bagging_fraction': 0.7930296851588822, 'bagging_freq': 3}. Best is trial 64 with value: -1.574786594147555.\u001b[0m\n"
     ]
    },
    {
     "name": "stdout",
     "output_type": "stream",
     "text": [
      "Early stopping, best iteration is:\n",
      "[450]\ttraining's l1: 0.941225\tvalid_1's l1: 1.58175\n",
      "[LightGBM] [Warning] feature_fraction is set=0.8355892134880976, colsample_bytree=0.9 will be ignored. Current value: feature_fraction=0.8355892134880976\n",
      "[LightGBM] [Warning] bagging_fraction is set=0.8331490990452184, subsample=0.6 will be ignored. Current value: bagging_fraction=0.8331490990452184\n",
      "[LightGBM] [Warning] bagging_freq is set=1, subsample_freq=0 will be ignored. Current value: bagging_freq=1\n",
      "Training until validation scores don't improve for 100 rounds\n",
      "[100]\ttraining's l1: 1.0091\tvalid_1's l1: 1.60135\n",
      "[200]\ttraining's l1: 1.00277\tvalid_1's l1: 1.59861\n",
      "[300]\ttraining's l1: 0.993114\tvalid_1's l1: 1.59533\n",
      "[400]\ttraining's l1: 0.971181\tvalid_1's l1: 1.58831\n",
      "[500]\ttraining's l1: 0.946283\tvalid_1's l1: 1.58683\n"
     ]
    },
    {
     "name": "stderr",
     "output_type": "stream",
     "text": [
      "\u001b[32m[I 2021-07-04 21:31:53,193]\u001b[0m Trial 89 finished with value: -1.5854139723815233 and parameters: {'max_depth': 10, 'min_child_weight': 9, 'subsample': 0.6, 'colsample_bytree': 0.9, 'reg_lambda': 0.0727208868768741, 'reg_alpha': 0.9710483823648903, 'feature_fraction': 0.8355892134880976, 'bagging_fraction': 0.8331490990452184, 'bagging_freq': 1}. Best is trial 64 with value: -1.574786594147555.\u001b[0m\n"
     ]
    },
    {
     "name": "stdout",
     "output_type": "stream",
     "text": [
      "Early stopping, best iteration is:\n",
      "[478]\ttraining's l1: 0.952539\tvalid_1's l1: 1.5855\n",
      "[LightGBM] [Warning] feature_fraction is set=0.8129656704082717, colsample_bytree=0.7 will be ignored. Current value: feature_fraction=0.8129656704082717\n",
      "[LightGBM] [Warning] bagging_fraction is set=0.7043580830650277, subsample=0.8 will be ignored. Current value: bagging_fraction=0.7043580830650277\n",
      "[LightGBM] [Warning] bagging_freq is set=10, subsample_freq=0 will be ignored. Current value: bagging_freq=10\n",
      "Training until validation scores don't improve for 100 rounds\n",
      "[100]\ttraining's l1: 1.00952\tvalid_1's l1: 1.60671\n",
      "[200]\ttraining's l1: 0.994075\tvalid_1's l1: 1.59994\n",
      "[300]\ttraining's l1: 0.976028\tvalid_1's l1: 1.59831\n",
      "[400]\ttraining's l1: 0.953375\tvalid_1's l1: 1.58758\n",
      "[500]\ttraining's l1: 0.933452\tvalid_1's l1: 1.59091\n"
     ]
    },
    {
     "name": "stderr",
     "output_type": "stream",
     "text": [
      "\u001b[32m[I 2021-07-04 21:32:04,964]\u001b[0m Trial 90 finished with value: -1.587101704755086 and parameters: {'max_depth': 9, 'min_child_weight': 10, 'subsample': 0.8, 'colsample_bytree': 0.7, 'reg_lambda': 0.14392389261387886, 'reg_alpha': 0.3611607514986808, 'feature_fraction': 0.8129656704082717, 'bagging_fraction': 0.7043580830650277, 'bagging_freq': 10}. Best is trial 64 with value: -1.574786594147555.\u001b[0m\n"
     ]
    },
    {
     "name": "stdout",
     "output_type": "stream",
     "text": [
      "Early stopping, best iteration is:\n",
      "[415]\ttraining's l1: 0.951941\tvalid_1's l1: 1.58721\n",
      "[LightGBM] [Warning] feature_fraction is set=0.7656601355879794, colsample_bytree=0.6 will be ignored. Current value: feature_fraction=0.7656601355879794\n",
      "[LightGBM] [Warning] bagging_fraction is set=0.8806593141468476, subsample=0.8 will be ignored. Current value: bagging_fraction=0.8806593141468476\n",
      "[LightGBM] [Warning] bagging_freq is set=8, subsample_freq=0 will be ignored. Current value: bagging_freq=8\n",
      "Training until validation scores don't improve for 100 rounds\n",
      "[100]\ttraining's l1: 1.00635\tvalid_1's l1: 1.60212\n",
      "[200]\ttraining's l1: 0.995565\tvalid_1's l1: 1.60106\n",
      "[300]\ttraining's l1: 0.986735\tvalid_1's l1: 1.59779\n"
     ]
    },
    {
     "name": "stderr",
     "output_type": "stream",
     "text": [
      "\u001b[32m[I 2021-07-04 21:32:14,507]\u001b[0m Trial 91 finished with value: -1.596364231510087 and parameters: {'max_depth': 15, 'min_child_weight': 8, 'subsample': 0.8, 'colsample_bytree': 0.6, 'reg_lambda': 43.85771832639554, 'reg_alpha': 0.07522384248839033, 'feature_fraction': 0.7656601355879794, 'bagging_fraction': 0.8806593141468476, 'bagging_freq': 8}. Best is trial 64 with value: -1.574786594147555.\u001b[0m\n"
     ]
    },
    {
     "name": "stdout",
     "output_type": "stream",
     "text": [
      "Early stopping, best iteration is:\n",
      "[247]\ttraining's l1: 0.990923\tvalid_1's l1: 1.59642\n",
      "[LightGBM] [Warning] feature_fraction is set=0.783290016775537, colsample_bytree=0.7 will be ignored. Current value: feature_fraction=0.783290016775537\n",
      "[LightGBM] [Warning] bagging_fraction is set=0.8939808662823816, subsample=0.8 will be ignored. Current value: bagging_fraction=0.8939808662823816\n",
      "[LightGBM] [Warning] bagging_freq is set=8, subsample_freq=0 will be ignored. Current value: bagging_freq=8\n",
      "Training until validation scores don't improve for 100 rounds\n",
      "[100]\ttraining's l1: 1.00445\tvalid_1's l1: 1.60088\n",
      "[200]\ttraining's l1: 0.991853\tvalid_1's l1: 1.59806\n",
      "[300]\ttraining's l1: 0.979348\tvalid_1's l1: 1.59376\n",
      "[400]\ttraining's l1: 0.96769\tvalid_1's l1: 1.592\n",
      "[500]\ttraining's l1: 0.951919\tvalid_1's l1: 1.5904\n",
      "Early stopping, best iteration is:\n",
      "[407]\ttraining's l1: 0.96572\tvalid_1's l1: 1.58778\n"
     ]
    },
    {
     "name": "stderr",
     "output_type": "stream",
     "text": [
      "\u001b[32m[I 2021-07-04 21:32:28,013]\u001b[0m Trial 92 finished with value: -1.5877028606632304 and parameters: {'max_depth': 11, 'min_child_weight': 4, 'subsample': 0.8, 'colsample_bytree': 0.7, 'reg_lambda': 0.005259989569813287, 'reg_alpha': 0.12488336565870359, 'feature_fraction': 0.783290016775537, 'bagging_fraction': 0.8939808662823816, 'bagging_freq': 8}. Best is trial 64 with value: -1.574786594147555.\u001b[0m\n"
     ]
    },
    {
     "name": "stdout",
     "output_type": "stream",
     "text": [
      "[LightGBM] [Warning] feature_fraction is set=0.728379322362615, colsample_bytree=0.8 will be ignored. Current value: feature_fraction=0.728379322362615\n",
      "[LightGBM] [Warning] bagging_fraction is set=0.9557732970372397, subsample=0.8 will be ignored. Current value: bagging_fraction=0.9557732970372397\n",
      "[LightGBM] [Warning] bagging_freq is set=9, subsample_freq=0 will be ignored. Current value: bagging_freq=9\n",
      "Training until validation scores don't improve for 100 rounds\n",
      "[100]\ttraining's l1: 1.01068\tvalid_1's l1: 1.60481\n"
     ]
    },
    {
     "name": "stderr",
     "output_type": "stream",
     "text": [
      "\u001b[32m[I 2021-07-04 21:32:33,940]\u001b[0m Trial 93 finished with value: -1.604463646499881 and parameters: {'max_depth': 16, 'min_child_weight': 6, 'subsample': 0.8, 'colsample_bytree': 0.8, 'reg_lambda': 0.01294896122920659, 'reg_alpha': 0.03263669610831695, 'feature_fraction': 0.728379322362615, 'bagging_fraction': 0.9557732970372397, 'bagging_freq': 9}. Best is trial 64 with value: -1.574786594147555.\u001b[0m\n"
     ]
    },
    {
     "name": "stdout",
     "output_type": "stream",
     "text": [
      "Early stopping, best iteration is:\n",
      "[86]\ttraining's l1: 1.01128\tvalid_1's l1: 1.60446\n",
      "[LightGBM] [Warning] feature_fraction is set=0.7532790669277427, colsample_bytree=0.8 will be ignored. Current value: feature_fraction=0.7532790669277427\n",
      "[LightGBM] [Warning] bagging_fraction is set=0.8610535564469162, subsample=0.8 will be ignored. Current value: bagging_fraction=0.8610535564469162\n",
      "[LightGBM] [Warning] bagging_freq is set=10, subsample_freq=0 will be ignored. Current value: bagging_freq=10\n",
      "Training until validation scores don't improve for 100 rounds\n",
      "[100]\ttraining's l1: 1.0089\tvalid_1's l1: 1.60496\n",
      "[200]\ttraining's l1: 1.00045\tvalid_1's l1: 1.60233\n",
      "[300]\ttraining's l1: 0.989933\tvalid_1's l1: 1.59836\n",
      "[400]\ttraining's l1: 0.971853\tvalid_1's l1: 1.59253\n",
      "[500]\ttraining's l1: 0.958871\tvalid_1's l1: 1.58875\n",
      "[600]\ttraining's l1: 0.931051\tvalid_1's l1: 1.583\n",
      "[700]\ttraining's l1: 0.912859\tvalid_1's l1: 1.58117\n"
     ]
    },
    {
     "name": "stderr",
     "output_type": "stream",
     "text": [
      "\u001b[32m[I 2021-07-04 21:32:52,548]\u001b[0m Trial 94 finished with value: -1.5786275032147197 and parameters: {'max_depth': 19, 'min_child_weight': 12, 'subsample': 0.8, 'colsample_bytree': 0.8, 'reg_lambda': 6.027341091303048, 'reg_alpha': 0.2141526618608435, 'feature_fraction': 0.7532790669277427, 'bagging_fraction': 0.8610535564469162, 'bagging_freq': 10}. Best is trial 64 with value: -1.574786594147555.\u001b[0m\n"
     ]
    },
    {
     "name": "stdout",
     "output_type": "stream",
     "text": [
      "Early stopping, best iteration is:\n",
      "[680]\ttraining's l1: 0.917136\tvalid_1's l1: 1.57885\n",
      "[LightGBM] [Warning] feature_fraction is set=0.7532535322826, colsample_bytree=0.8 will be ignored. Current value: feature_fraction=0.7532535322826\n",
      "[LightGBM] [Warning] bagging_fraction is set=0.8405068911890036, subsample=0.9 will be ignored. Current value: bagging_fraction=0.8405068911890036\n",
      "[LightGBM] [Warning] bagging_freq is set=10, subsample_freq=0 will be ignored. Current value: bagging_freq=10\n",
      "Training until validation scores don't improve for 100 rounds\n",
      "[100]\ttraining's l1: 1.00963\tvalid_1's l1: 1.60327\n",
      "[200]\ttraining's l1: 1.00407\tvalid_1's l1: 1.60116\n",
      "[300]\ttraining's l1: 0.996392\tvalid_1's l1: 1.59896\n",
      "[400]\ttraining's l1: 0.99021\tvalid_1's l1: 1.59499\n",
      "[500]\ttraining's l1: 0.972316\tvalid_1's l1: 1.5891\n",
      "[600]\ttraining's l1: 0.940436\tvalid_1's l1: 1.58196\n",
      "[700]\ttraining's l1: 0.913331\tvalid_1's l1: 1.57914\n"
     ]
    },
    {
     "name": "stderr",
     "output_type": "stream",
     "text": [
      "\u001b[32m[I 2021-07-04 21:33:10,326]\u001b[0m Trial 95 finished with value: -1.57579163720175 and parameters: {'max_depth': 19, 'min_child_weight': 12, 'subsample': 0.9, 'colsample_bytree': 0.8, 'reg_lambda': 1.6524529035587125, 'reg_alpha': 0.19706962625695318, 'feature_fraction': 0.7532535322826, 'bagging_fraction': 0.8405068911890036, 'bagging_freq': 10}. Best is trial 64 with value: -1.574786594147555.\u001b[0m\n"
     ]
    },
    {
     "name": "stdout",
     "output_type": "stream",
     "text": [
      "Early stopping, best iteration is:\n",
      "[647]\ttraining's l1: 0.922538\tvalid_1's l1: 1.57593\n",
      "[LightGBM] [Warning] feature_fraction is set=0.9463825071856701, colsample_bytree=0.8 will be ignored. Current value: feature_fraction=0.9463825071856701\n",
      "[LightGBM] [Warning] bagging_fraction is set=0.7330760846527106, subsample=0.9 will be ignored. Current value: bagging_fraction=0.7330760846527106\n",
      "[LightGBM] [Warning] bagging_freq is set=10, subsample_freq=0 will be ignored. Current value: bagging_freq=10\n",
      "Training until validation scores don't improve for 100 rounds\n",
      "[100]\ttraining's l1: 1.00712\tvalid_1's l1: 1.60027\n",
      "[200]\ttraining's l1: 1.00126\tvalid_1's l1: 1.59791\n",
      "[300]\ttraining's l1: 0.981106\tvalid_1's l1: 1.59379\n",
      "[400]\ttraining's l1: 0.957563\tvalid_1's l1: 1.59143\n",
      "[500]\ttraining's l1: 0.932969\tvalid_1's l1: 1.59181\n",
      "[600]\ttraining's l1: 0.910093\tvalid_1's l1: 1.59051\n",
      "[700]\ttraining's l1: 0.895962\tvalid_1's l1: 1.58731\n"
     ]
    },
    {
     "name": "stderr",
     "output_type": "stream",
     "text": [
      "\u001b[32m[I 2021-07-04 21:33:28,283]\u001b[0m Trial 96 finished with value: -1.5867247330649394 and parameters: {'max_depth': 19, 'min_child_weight': 12, 'subsample': 0.9, 'colsample_bytree': 0.8, 'reg_lambda': 1.593564940877556, 'reg_alpha': 0.2777068937386617, 'feature_fraction': 0.9463825071856701, 'bagging_fraction': 0.7330760846527106, 'bagging_freq': 10}. Best is trial 64 with value: -1.574786594147555.\u001b[0m\n"
     ]
    },
    {
     "name": "stdout",
     "output_type": "stream",
     "text": [
      "Early stopping, best iteration is:\n",
      "[690]\ttraining's l1: 0.897347\tvalid_1's l1: 1.58702\n",
      "[LightGBM] [Warning] feature_fraction is set=0.7538231946391191, colsample_bytree=0.8 will be ignored. Current value: feature_fraction=0.7538231946391191\n",
      "[LightGBM] [Warning] bagging_fraction is set=0.7548698368096798, subsample=0.9 will be ignored. Current value: bagging_fraction=0.7548698368096798\n",
      "[LightGBM] [Warning] bagging_freq is set=10, subsample_freq=0 will be ignored. Current value: bagging_freq=10\n",
      "Training until validation scores don't improve for 100 rounds\n",
      "[100]\ttraining's l1: 1.0087\tvalid_1's l1: 1.60074\n",
      "[200]\ttraining's l1: 0.990202\tvalid_1's l1: 1.59778\n",
      "[300]\ttraining's l1: 0.974824\tvalid_1's l1: 1.5912\n",
      "[400]\ttraining's l1: 0.948743\tvalid_1's l1: 1.58801\n"
     ]
    },
    {
     "name": "stderr",
     "output_type": "stream",
     "text": [
      "\u001b[32m[I 2021-07-04 21:33:39,972]\u001b[0m Trial 97 finished with value: -1.5861907032157123 and parameters: {'max_depth': 19, 'min_child_weight': 11, 'subsample': 0.9, 'colsample_bytree': 0.8, 'reg_lambda': 5.510628540617984, 'reg_alpha': 0.17793422512172813, 'feature_fraction': 0.7538231946391191, 'bagging_fraction': 0.7548698368096798, 'bagging_freq': 10}. Best is trial 64 with value: -1.574786594147555.\u001b[0m\n"
     ]
    },
    {
     "name": "stdout",
     "output_type": "stream",
     "text": [
      "Early stopping, best iteration is:\n",
      "[375]\ttraining's l1: 0.955608\tvalid_1's l1: 1.58623\n",
      "[LightGBM] [Warning] feature_fraction is set=0.6990538570468849, colsample_bytree=0.8 will be ignored. Current value: feature_fraction=0.6990538570468849\n",
      "[LightGBM] [Warning] bagging_fraction is set=0.8582779159241569, subsample=0.9 will be ignored. Current value: bagging_fraction=0.8582779159241569\n",
      "[LightGBM] [Warning] bagging_freq is set=10, subsample_freq=0 will be ignored. Current value: bagging_freq=10\n",
      "Training until validation scores don't improve for 100 rounds\n",
      "[100]\ttraining's l1: 1.00613\tvalid_1's l1: 1.60188\n",
      "[200]\ttraining's l1: 0.997159\tvalid_1's l1: 1.59865\n",
      "[300]\ttraining's l1: 0.973558\tvalid_1's l1: 1.59657\n",
      "[400]\ttraining's l1: 0.945222\tvalid_1's l1: 1.59091\n",
      "[500]\ttraining's l1: 0.922957\tvalid_1's l1: 1.5914\n"
     ]
    },
    {
     "name": "stderr",
     "output_type": "stream",
     "text": [
      "\u001b[32m[I 2021-07-04 21:33:54,430]\u001b[0m Trial 98 finished with value: -1.5881631353470234 and parameters: {'max_depth': 18, 'min_child_weight': 12, 'subsample': 0.9, 'colsample_bytree': 0.8, 'reg_lambda': 0.0022746754199129437, 'reg_alpha': 0.4830984104258855, 'feature_fraction': 0.6990538570468849, 'bagging_fraction': 0.8582779159241569, 'bagging_freq': 10}. Best is trial 64 with value: -1.574786594147555.\u001b[0m\n"
     ]
    },
    {
     "name": "stdout",
     "output_type": "stream",
     "text": [
      "Early stopping, best iteration is:\n",
      "[494]\ttraining's l1: 0.923396\tvalid_1's l1: 1.58831\n",
      "[LightGBM] [Warning] feature_fraction is set=0.6812033164791129, colsample_bytree=0.8 will be ignored. Current value: feature_fraction=0.6812033164791129\n",
      "[LightGBM] [Warning] bagging_fraction is set=0.8366952338195454, subsample=0.9 will be ignored. Current value: bagging_fraction=0.8366952338195454\n",
      "[LightGBM] [Warning] bagging_freq is set=10, subsample_freq=0 will be ignored. Current value: bagging_freq=10\n",
      "Training until validation scores don't improve for 100 rounds\n",
      "[100]\ttraining's l1: 1.01001\tvalid_1's l1: 1.60678\n",
      "[200]\ttraining's l1: 1.00245\tvalid_1's l1: 1.60404\n",
      "[300]\ttraining's l1: 0.988527\tvalid_1's l1: 1.5976\n",
      "[400]\ttraining's l1: 0.960669\tvalid_1's l1: 1.59487\n"
     ]
    },
    {
     "name": "stderr",
     "output_type": "stream",
     "text": [
      "\u001b[32m[I 2021-07-04 21:34:05,922]\u001b[0m Trial 99 finished with value: -1.5929821875582173 and parameters: {'max_depth': 20, 'min_child_weight': 13, 'subsample': 0.9, 'colsample_bytree': 0.8, 'reg_lambda': 0.9086682025262274, 'reg_alpha': 0.10981472858574363, 'feature_fraction': 0.6812033164791129, 'bagging_fraction': 0.8366952338195454, 'bagging_freq': 10}. Best is trial 64 with value: -1.574786594147555.\u001b[0m\n"
     ]
    },
    {
     "name": "stdout",
     "output_type": "stream",
     "text": [
      "Early stopping, best iteration is:\n",
      "[365]\ttraining's l1: 0.976245\tvalid_1's l1: 1.59305\n",
      "Number of finished trials: 100\n",
      "Best trial: {'max_depth': 9, 'min_child_weight': 12, 'subsample': 0.8, 'colsample_bytree': 0.9, 'reg_lambda': 2.475697834488531, 'reg_alpha': 0.9175196764668906, 'feature_fraction': 0.8039304152078449, 'bagging_fraction': 0.7359288710248848, 'bagging_freq': 5}\n"
     ]
    }
   ],
   "source": [
    "study4 = optuna.create_study(direction='maximize')\n",
    "study4.optimize(fit_lgbm(x_train[feature_cols4], y_train['target4'], x_valid[feature_cols4], y_valid['target4']), n_trials=100)\n",
    "\n",
    "print('Number of finished trials:', len(study4.trials))\n",
    "print('Best trial:', study4.best_trial.params)"
   ]
  },
  {
   "cell_type": "code",
   "execution_count": 43,
   "id": "e2c27091",
   "metadata": {},
   "outputs": [
    {
     "data": {
      "text/plain": [
       "{'max_depth': 13,\n",
       " 'min_child_weight': 17,\n",
       " 'subsample': 0.7,\n",
       " 'colsample_bytree': 0.6,\n",
       " 'reg_lambda': 0.13374339431784696,\n",
       " 'reg_alpha': 0.0019464699962148941,\n",
       " 'feature_fraction': 0.4163878025068712,\n",
       " 'bagging_fraction': 0.5237962151965605,\n",
       " 'bagging_freq': 3}"
      ]
     },
     "execution_count": 43,
     "metadata": {},
     "output_type": "execute_result"
    }
   ],
   "source": [
    "study1.best_trial.params"
   ]
  },
  {
   "cell_type": "code",
   "execution_count": 44,
   "id": "d1f5442d",
   "metadata": {},
   "outputs": [
    {
     "data": {
      "text/plain": [
       "{'max_depth': 15,\n",
       " 'min_child_weight': 19,\n",
       " 'subsample': 0.9,\n",
       " 'colsample_bytree': 0.8,\n",
       " 'reg_lambda': 4.729224134672289,\n",
       " 'reg_alpha': 0.002311080653496518,\n",
       " 'feature_fraction': 0.6783424735754746,\n",
       " 'bagging_fraction': 0.6386317829802372,\n",
       " 'bagging_freq': 10}"
      ]
     },
     "execution_count": 44,
     "metadata": {},
     "output_type": "execute_result"
    }
   ],
   "source": [
    "study2.best_trial.params"
   ]
  },
  {
   "cell_type": "code",
   "execution_count": 45,
   "id": "0d4f6a13",
   "metadata": {},
   "outputs": [
    {
     "data": {
      "text/plain": [
       "{'max_depth': 5,\n",
       " 'min_child_weight': 14,\n",
       " 'subsample': 0.5,\n",
       " 'colsample_bytree': 0.8,\n",
       " 'reg_lambda': 0.0039424293637013936,\n",
       " 'reg_alpha': 0.7589476621819645,\n",
       " 'feature_fraction': 0.8347814184359944,\n",
       " 'bagging_fraction': 0.8810716787983324,\n",
       " 'bagging_freq': 6}"
      ]
     },
     "execution_count": 45,
     "metadata": {},
     "output_type": "execute_result"
    }
   ],
   "source": [
    "study3.best_trial.params"
   ]
  },
  {
   "cell_type": "code",
   "execution_count": 46,
   "id": "a608773b",
   "metadata": {},
   "outputs": [
    {
     "data": {
      "text/plain": [
       "{'max_depth': 9,\n",
       " 'min_child_weight': 12,\n",
       " 'subsample': 0.8,\n",
       " 'colsample_bytree': 0.9,\n",
       " 'reg_lambda': 2.475697834488531,\n",
       " 'reg_alpha': 0.9175196764668906,\n",
       " 'feature_fraction': 0.8039304152078449,\n",
       " 'bagging_fraction': 0.7359288710248848,\n",
       " 'bagging_freq': 5}"
      ]
     },
     "execution_count": 46,
     "metadata": {},
     "output_type": "execute_result"
    }
   ],
   "source": [
    "study4.best_trial.params"
   ]
  },
  {
   "cell_type": "code",
   "execution_count": null,
   "id": "dcf9ac73",
   "metadata": {},
   "outputs": [],
   "source": []
  }
 ],
 "metadata": {
  "kernelspec": {
   "display_name": "Python 3",
   "language": "python",
   "name": "python3"
  },
  "language_info": {
   "codemirror_mode": {
    "name": "ipython",
    "version": 3
   },
   "file_extension": ".py",
   "mimetype": "text/x-python",
   "name": "python",
   "nbconvert_exporter": "python",
   "pygments_lexer": "ipython3",
   "version": "3.6.13"
  }
 },
 "nbformat": 4,
 "nbformat_minor": 5
}
