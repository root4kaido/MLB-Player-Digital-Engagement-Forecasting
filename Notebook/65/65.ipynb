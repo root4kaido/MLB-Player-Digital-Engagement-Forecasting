{
 "cells": [
  {
   "cell_type": "code",
   "execution_count": 1,
   "id": "8e6946bd",
   "metadata": {},
   "outputs": [],
   "source": [
    "import gc\n",
    "import os\n",
    "import sys\n",
    "import math\n",
    "import random\n",
    "import warnings\n",
    "import pickle\n",
    "from pathlib import Path\n",
    "from joblib import Parallel, delayed\n",
    "from statsmodels.tsa.deterministic import (CalendarFourier,\n",
    "                                           CalendarSeasonality,\n",
    "                                           CalendarTimeTrend,\n",
    "                                           DeterministicProcess)\n",
    "import optuna\n",
    "from tqdm import tqdm\n",
    "import os\n",
    "import ipywidgets as widgets\n",
    "import matplotlib.pyplot as plt\n",
    "import numpy as np\n",
    "import pandas as pd\n",
    "import seaborn as sns\n",
    "# from pandarallel import pandarallel\n",
    "# pandarallel.initialize()\n",
    "warnings.simplefilter(\"ignore\")\n",
    "import ctypes as ct\n",
    "from datetime import timedelta\n",
    "\n",
    "from sklearn.metrics import mean_absolute_error\n",
    "\n",
    "import statistics as st\n",
    "import lightgbm as lgbm\n",
    "from scipy.stats import norm"
   ]
  },
  {
   "cell_type": "code",
   "execution_count": 2,
   "id": "b6f75fed",
   "metadata": {},
   "outputs": [],
   "source": [
    "sys.path.append('../../')\n",
    "import src.utils as utils"
   ]
  },
  {
   "cell_type": "markdown",
   "id": "05fa2ac2",
   "metadata": {},
   "source": [
    "## Param"
   ]
  },
  {
   "cell_type": "code",
   "execution_count": 3,
   "id": "c49cb2ee",
   "metadata": {},
   "outputs": [],
   "source": [
    "EXP_NUM = 64\n",
    "NFOLDS = 5\n",
    "SEED = 42"
   ]
  },
  {
   "cell_type": "code",
   "execution_count": null,
   "id": "d7ac8706",
   "metadata": {},
   "outputs": [],
   "source": []
  },
  {
   "cell_type": "code",
   "execution_count": 4,
   "id": "3af1a249",
   "metadata": {},
   "outputs": [],
   "source": [
    "utils.set_seed(SEED)"
   ]
  },
  {
   "cell_type": "markdown",
   "id": "26d24470",
   "metadata": {},
   "source": [
    "## Dir"
   ]
  },
  {
   "cell_type": "code",
   "execution_count": 5,
   "id": "e1dad7fd",
   "metadata": {},
   "outputs": [],
   "source": [
    "DATA_DIR = Path(\"/home/knikaido/work/MLB-Player-Digital-Engagement-Forecasting/data/\")\n",
    "MAIN_DATA_DIR = DATA_DIR / 'mlb-player-digital-engagement-forecasting'\n",
    "TRAIN_DIR = MAIN_DATA_DIR / 'train'\n",
    "OUTPUT_DIR = Path('./output/')"
   ]
  },
  {
   "cell_type": "code",
   "execution_count": 6,
   "id": "549c37e9",
   "metadata": {},
   "outputs": [],
   "source": [
    "players = pd.read_csv(MAIN_DATA_DIR / 'players.csv')\n",
    "\n",
    "rosters = pd.read_csv(TRAIN_DIR / 'rosters_train.csv')\n",
    "targets = pd.read_csv(TRAIN_DIR / 'nextDayPlayerEngagement_train.csv')\n",
    "scores = pd.read_csv(TRAIN_DIR / 'playerBoxScores_train.csv')\n",
    "scores = scores.groupby(['playerId', 'date']).sum().reset_index()\n",
    "seasons = pd.read_csv(MAIN_DATA_DIR / 'seasons.csv')\n",
    "salaries = pd.read_csv(MAIN_DATA_DIR / 'mlbSalaries.csv')\n",
    "teams = pd.read_csv(MAIN_DATA_DIR / 'teams.csv')\n",
    "\n",
    "standings = pd.read_csv(TRAIN_DIR / 'standings_train.csv')\n",
    "playerTwitterFollowers = pd.read_csv(TRAIN_DIR / 'playerTwitterFollowers_train.csv')\n",
    "\n",
    "# events = pd.read_csv(TRAIN_DIR / 'events_train.csv')\n",
    "# events = events.groupby(['gameDate']).sum().reset_index()\n"
   ]
  },
  {
   "cell_type": "code",
   "execution_count": 7,
   "id": "f244ab54",
   "metadata": {},
   "outputs": [],
   "source": [
    "train_elements_dict = {\"players\":players, \n",
    "                       \"rosters\":rosters, \n",
    "                       \"targets\":targets, \n",
    "                       \"scores\":scores, \n",
    "                       \"seasons\":seasons, \n",
    "                       \"teams\":teams, \n",
    "                       \"standings\":standings}"
   ]
  },
  {
   "cell_type": "code",
   "execution_count": 8,
   "id": "8c958b2e",
   "metadata": {},
   "outputs": [],
   "source": [
    "def map_team_name(name):\n",
    "    names = name.split('-')\n",
    "    result = ''\n",
    "    for n in names:\n",
    "        if n == 'st':\n",
    "            n = 'st.'\n",
    "        result += f' {n.capitalize()}'\n",
    "\n",
    "    return result[1:]"
   ]
  },
  {
   "cell_type": "code",
   "execution_count": 9,
   "id": "579672a8",
   "metadata": {},
   "outputs": [],
   "source": [
    "def calc_corr(df):\n",
    "    # 相関係数行列を作成\n",
    "    corr_mat = df.corr(method='pearson')\n",
    "\n",
    "    # 行（列）サイズを取得\n",
    "    n = corr_mat.shape[0]\n",
    "    corr_ary = []\n",
    "\n",
    "    for i in range(n):\n",
    "        for j in range(i):\n",
    "            if i == j:\n",
    "                continue\n",
    "            corr_ary.append(corr_mat.iloc[i,j])\n",
    "\n",
    "    return corr_ary"
   ]
  },
  {
   "cell_type": "code",
   "execution_count": 10,
   "id": "dc4c7e2c",
   "metadata": {},
   "outputs": [],
   "source": [
    "def calc_probs(pid,df,temp):\n",
    "    to_append=[pid,'','','','','','','','','','','','','','','','','','','','','','','','','','','','','','','','','','']\n",
    "    targets=['target1','target2','target3','target4']\n",
    "    z=1\n",
    "    for target in targets:\n",
    "        target_prob = temp[target].tolist()\n",
    "        mean = np.mean(target_prob)\n",
    "        std = np.std(target_prob)\n",
    "        median = st.median(target_prob)\n",
    "        distribution = norm(mean, std)\n",
    "        min_weight = min(target_prob)\n",
    "        max_weight = max(target_prob)\n",
    "        values = list(np.linspace(min_weight, max_weight))\n",
    "        probabilities = [distribution.pdf(v) for v in values]\n",
    "        max_value = max(probabilities)\n",
    "        max_index = probabilities.index(max_value)\n",
    "        to_append[z]=mean\n",
    "        to_append[z+1]=median\n",
    "        to_append[z+2]=std\n",
    "        to_append[z+3]=min_weight\n",
    "        to_append[z+4]=max_weight\n",
    "        to_append[z+5]=temp[target].skew()\n",
    "        to_append[z+6]=temp[target].kurt()\n",
    "\n",
    "        z=z+7\n",
    "    corr_ = calc_corr(temp[['target1', 'target2', 'target3', 'target4']])\n",
    "    to_append[z:] = corr_  \n",
    "    df_length = len(df)\n",
    "    df.loc[df_length] = to_append\n",
    "    return df"
   ]
  },
  {
   "cell_type": "code",
   "execution_count": 11,
   "id": "5034fc87",
   "metadata": {},
   "outputs": [],
   "source": [
    "def count_consecutive_items_n_cols(df, col_name_list, output_col):\n",
    "    cum_sum_list = [\n",
    "        (df[col_name] != df[col_name].shift(1)).cumsum().tolist() for col_name in col_name_list\n",
    "    ]\n",
    "    df[output_col] = df.groupby(\n",
    "        [\"_\".join(map(str, x)) for x in zip(*cum_sum_list)]\n",
    "    ).cumcount() + 1\n",
    "    return df"
   ]
  },
  {
   "cell_type": "code",
   "execution_count": 12,
   "id": "69734311",
   "metadata": {},
   "outputs": [],
   "source": [
    "def extract_season(date_raw, season_start_end):\n",
    "    idxes = 0\n",
    "    for raw in season_start_end.iloc():\n",
    "        idx_ = ((date_raw >= raw.iloc[0]) & (date_raw <= raw.iloc[1])) * 1\n",
    "        idxes += idx_\n",
    "    return idxes"
   ]
  },
  {
   "cell_type": "code",
   "execution_count": 13,
   "id": "076bf4f0",
   "metadata": {},
   "outputs": [],
   "source": [
    "# def fit_lgbm(x_train, y_train, x_valid, y_valid, params: dict=None, verbose=100):\n",
    "#     oof_pred = np.zeros(len(y_valid), dtype=np.float32)\n",
    "#     model = lgbm.LGBMRegressor(**params)\n",
    "#     model.fit(x_train, y_train, \n",
    "#         eval_set=[(x_valid, y_valid)],  \n",
    "#         early_stopping_rounds=verbose, \n",
    "#         verbose=verbose)\n",
    "#     oof_pred = model.predict(x_valid)\n",
    "#     oof_pred = np.clip(oof_pred, 0, 100)\n",
    "#     score = mean_absolute_error(oof_pred, y_valid)\n",
    "#     print('mae:', score)\n",
    "#     return oof_pred, model, score"
   ]
  },
  {
   "cell_type": "code",
   "execution_count": 14,
   "id": "d0ae6c0a",
   "metadata": {},
   "outputs": [],
   "source": [
    "def fit_lgbm(x_train, y_train, x_valid, y_valid, verbose=100):\n",
    "    def opt(trial):\n",
    "        params = {\n",
    "                'random_state': SEED,\n",
    "                'objective':'mae',\n",
    "                'n_estimators': 10000,\n",
    "                'learning_rate': 0.1,\n",
    "                'max_depth': trial.suggest_int('max_depth', 1, 20),\n",
    "                'min_child_weight': trial.suggest_int('min_child_weight', 1, 20),\n",
    "                'subsample': trial.suggest_discrete_uniform('subsample', 0.5, 0.9, 0.1),\n",
    "                'colsample_bytree': trial.suggest_discrete_uniform('colsample_bytree', 0.5, 0.9, 0.1),\n",
    "                'reg_lambda': trial.suggest_loguniform('reg_lambda', 1e-3, 1e3),\n",
    "                'reg_alpha': trial.suggest_loguniform('reg_alpha', 1e-3, 1e3),\n",
    "                'feature_fraction': trial.suggest_uniform('feature_fraction', 0.4, 1.0),\n",
    "                'bagging_fraction': trial.suggest_uniform('bagging_fraction', 0.4, 1.0),\n",
    "                'bagging_freq': trial.suggest_int('bagging_freq', 1, 10)\n",
    "        }\n",
    "\n",
    "        model_opt = lgbm.LGBMRegressor(**params)\n",
    "\n",
    "        model_opt.fit(x_train, y_train, \n",
    "            eval_set=[(x_train, y_train), (x_valid, y_valid)],  \n",
    "            early_stopping_rounds=verbose, \n",
    "            verbose=verbose)\n",
    "        oof_pred = model_opt.predict(x_valid)\n",
    "        oof_pred = np.clip(oof_pred, 0, 100)\n",
    "        score = mean_absolute_error(oof_pred, y_valid)\n",
    "        return -score\n",
    "    return opt"
   ]
  },
  {
   "cell_type": "code",
   "execution_count": 15,
   "id": "8a76f18b",
   "metadata": {},
   "outputs": [],
   "source": [
    "class Rt4kaidoTrain:\n",
    "    def __init__(self, usetimelinefeature=False):\n",
    "        \n",
    "        self.usetimelinefeature = usetimelinefeature\n",
    "        self.targets_cols = ['playerId', 'target1', 'target2', 'target3', 'target4', 'date']\n",
    "        self.players_cols = ['playerId', 'primaryPositionName', 'birthCity', 'DOY', 'mlbDebutYear', 'DebutAge', 'heightInches', 'weight', 'playerForTestSetAndFuturePreds']\n",
    "        self.rosters_cols = ['playerId', 'teamId', 'status', 'date']\n",
    "        self.salaries_cols = ['teamId', 'salary', 'year']\n",
    "        self.standings_cols = ['teamId', 'wildCardRank', 'sportGamesBack', 'date']\n",
    "        self.transactions_cols = ['playerId', 'transaction_flag', 'date']\n",
    "        self.stat_cols = [\"playerId\", \"target1_mean\",\"target1_median\",\"target1_std\",\"target1_min\",\"target1_max\",\"target1_skew\",\"target1_kurt\",\n",
    "                        \"target2_mean\",\"target2_median\",\"target2_std\",\"target2_min\",\"target2_max\",\"target2_skew\",\"target2_kurt\",\n",
    "                        \"target3_mean\",\"target3_median\",\"target3_std\",\"target3_min\",\"target3_max\",\"target3_skew\",\"target3_kurt\",\n",
    "                        \"target4_mean\",\"target4_median\",\"target4_std\",\"target4_min\",\"target4_max\",\"target4_skew\",\"target4_kurt\",\n",
    "                        'tgt1_2_corr', 'tgt1_3_corr', 'tgt2_3_corr', 'tgt1_4_corr', 'tgt2_4_corr', 'tgt3_4_corr']\n",
    "\n",
    "        self.scores_cols = ['playerId', 'battingOrder', 'gamesPlayedBatting', 'flyOuts',\n",
    "               'groundOuts', 'runsScored', 'doubles', 'triples', 'homeRuns',\n",
    "               'strikeOuts', 'baseOnBalls', 'intentionalWalks', 'hits', 'hitByPitch',\n",
    "               'atBats', 'caughtStealing', 'stolenBases', 'groundIntoDoublePlay',\n",
    "               'groundIntoTriplePlay', 'plateAppearances', 'totalBases', 'rbi',\n",
    "               'leftOnBase', 'sacBunts', 'sacFlies', 'catchersInterference',\n",
    "               'pickoffs', 'gamesPlayedPitching', 'gamesStartedPitching',\n",
    "               'completeGamesPitching', 'shutoutsPitching', 'winsPitching',\n",
    "               'lossesPitching', 'flyOutsPitching', 'airOutsPitching',\n",
    "               'groundOutsPitching', 'runsPitching', 'doublesPitching',\n",
    "               'triplesPitching', 'homeRunsPitching', 'strikeOutsPitching',\n",
    "               'baseOnBallsPitching', 'intentionalWalksPitching', 'hitsPitching',\n",
    "               'hitByPitchPitching', 'atBatsPitching', 'caughtStealingPitching',\n",
    "               'stolenBasesPitching', 'inningsPitched', 'saveOpportunities',\n",
    "               'earnedRuns', 'battersFaced', 'outsPitching', 'pitchesThrown', 'balls',\n",
    "               'strikes', 'hitBatsmen', 'balks', 'wildPitches', 'pickoffsPitching',\n",
    "               'rbiPitching', 'gamesFinishedPitching', 'inheritedRunners',\n",
    "               'inheritedRunnersScored', 'catchersInterferencePitching',\n",
    "               'sacBuntsPitching', 'sacFliesPitching', 'saves', 'holds', 'blownSaves',\n",
    "               'assists', 'putOuts', 'errors', 'chances', 'date']\n",
    "\n",
    "        self.feature_cols1 = ['week_day','label_playerId', 'label_primaryPositionName', 'label_teamId',\n",
    "               'label_status', 'battingOrder', 'gamesPlayedBatting', 'flyOuts',\n",
    "               'groundOuts', 'runsScored', 'doubles', 'triples', 'homeRuns',\n",
    "               'strikeOuts', 'baseOnBalls', 'intentionalWalks', 'hits', 'hitByPitch',\n",
    "               'atBats', 'caughtStealing', 'stolenBases', 'groundIntoDoublePlay',\n",
    "               'groundIntoTriplePlay', 'plateAppearances', 'totalBases', 'rbi',\n",
    "               'leftOnBase', 'sacBunts', 'sacFlies', 'catchersInterference',\n",
    "               'pickoffs', 'gamesPlayedPitching', 'gamesStartedPitching',\n",
    "               'completeGamesPitching', 'shutoutsPitching', 'winsPitching',\n",
    "               'lossesPitching', 'flyOutsPitching', 'airOutsPitching',\n",
    "               'groundOutsPitching', 'runsPitching', 'doublesPitching',\n",
    "               'triplesPitching', 'homeRunsPitching', 'strikeOutsPitching',\n",
    "               'baseOnBallsPitching', 'intentionalWalksPitching', 'hitsPitching',\n",
    "               'hitByPitchPitching', 'atBatsPitching', 'caughtStealingPitching',\n",
    "               'stolenBasesPitching', 'inningsPitched', 'saveOpportunities',\n",
    "               'earnedRuns', 'battersFaced', 'outsPitching', 'pitchesThrown', 'balls',\n",
    "               'strikes', 'hitBatsmen', 'balks', 'wildPitches', 'pickoffsPitching',\n",
    "               'rbiPitching', 'gamesFinishedPitching', 'inheritedRunners',\n",
    "               'inheritedRunnersScored', 'catchersInterferencePitching',\n",
    "               'sacBuntsPitching', 'sacFliesPitching', 'saves', 'holds', 'blownSaves',\n",
    "               'assists', 'putOuts', 'errors', 'chances',\n",
    "                'season_info', 'wildCardRank'] \n",
    "\n",
    "        self.feature_cols2 = ['label_playerId', 'label_primaryPositionName', 'label_teamId',\n",
    "               'label_status', 'battingOrder', 'gamesPlayedBatting', 'flyOuts',\n",
    "               'groundOuts', 'runsScored', 'doubles', 'triples', 'homeRuns',\n",
    "               'strikeOuts', 'baseOnBalls', 'intentionalWalks', 'hits', 'hitByPitch',\n",
    "               'atBats', 'caughtStealing', 'stolenBases', 'groundIntoDoublePlay',\n",
    "               'groundIntoTriplePlay', 'plateAppearances', 'totalBases', 'rbi',\n",
    "               'leftOnBase', 'sacBunts', 'sacFlies', 'catchersInterference',\n",
    "               'pickoffs', 'gamesPlayedPitching', 'gamesStartedPitching',\n",
    "               'completeGamesPitching', 'shutoutsPitching', 'winsPitching',\n",
    "               'lossesPitching', 'flyOutsPitching', 'airOutsPitching',\n",
    "               'groundOutsPitching', 'runsPitching', 'doublesPitching',\n",
    "               'triplesPitching', 'homeRunsPitching', 'strikeOutsPitching',\n",
    "               'baseOnBallsPitching', 'intentionalWalksPitching', 'hitsPitching',\n",
    "               'hitByPitchPitching', 'atBatsPitching', 'caughtStealingPitching',\n",
    "               'stolenBasesPitching', 'inningsPitched', 'saveOpportunities',\n",
    "               'earnedRuns', 'battersFaced', 'outsPitching', 'pitchesThrown', 'balls',\n",
    "               'strikes', 'hitBatsmen', 'balks', 'wildPitches', 'pickoffsPitching',\n",
    "               'rbiPitching', 'gamesFinishedPitching', 'inheritedRunners',\n",
    "               'inheritedRunnersScored', 'catchersInterferencePitching',\n",
    "               'sacBuntsPitching', 'sacFliesPitching', 'saves', 'holds', 'blownSaves',\n",
    "               'assists', 'putOuts', 'errors', 'chances',\n",
    "                'season_info', 'wildCardRank'] \n",
    "\n",
    "        self.feature_cols3 = ['week_day','label_playerId', 'label_primaryPositionName', 'label_teamId',\n",
    "               'label_status', 'battingOrder', 'gamesPlayedBatting', 'flyOuts',\n",
    "               'groundOuts', 'runsScored', 'doubles', 'triples', 'homeRuns',\n",
    "               'strikeOuts', 'baseOnBalls', 'intentionalWalks', 'hits', 'hitByPitch',\n",
    "               'atBats', 'caughtStealing', 'stolenBases', 'groundIntoDoublePlay',\n",
    "               'groundIntoTriplePlay', 'plateAppearances', 'totalBases', 'rbi',\n",
    "               'leftOnBase', 'sacBunts', 'sacFlies', 'catchersInterference',\n",
    "               'pickoffs', 'gamesPlayedPitching', 'gamesStartedPitching',\n",
    "               'completeGamesPitching', 'shutoutsPitching', 'winsPitching',\n",
    "               'lossesPitching', 'flyOutsPitching', 'airOutsPitching',\n",
    "               'groundOutsPitching', 'runsPitching', 'doublesPitching',\n",
    "               'triplesPitching', 'homeRunsPitching', 'strikeOutsPitching',\n",
    "               'baseOnBallsPitching', 'intentionalWalksPitching', 'hitsPitching',\n",
    "               'hitByPitchPitching', 'atBatsPitching', 'caughtStealingPitching',\n",
    "               'stolenBasesPitching', 'inningsPitched', 'saveOpportunities',\n",
    "               'earnedRuns', 'battersFaced', 'outsPitching', 'pitchesThrown', 'balls',\n",
    "               'strikes', 'hitBatsmen', 'balks', 'wildPitches', 'pickoffsPitching',\n",
    "               'rbiPitching', 'gamesFinishedPitching', 'inheritedRunners',\n",
    "               'inheritedRunnersScored', 'catchersInterferencePitching',\n",
    "               'sacBuntsPitching', 'sacFliesPitching', 'saves', 'holds', 'blownSaves',\n",
    "               'assists', 'putOuts', 'errors', 'chances',\n",
    "                'season_info', 'wildCardRank'] \n",
    "\n",
    "        self.feature_cols4 = ['week_day', 'annual_day', 'month', 'label_playerId', 'label_primaryPositionName', 'label_teamId', 'label_birthCity',\n",
    "                        'DOY', 'mlbDebutYear', 'DebutAge', 'heightInches', 'weight',\n",
    "               'label_status', 'battingOrder', 'gamesPlayedBatting', 'flyOuts',\n",
    "               'groundOuts', 'runsScored', 'doubles', 'triples', 'homeRuns',\n",
    "               'strikeOuts', 'baseOnBalls', 'intentionalWalks', 'hits', 'hitByPitch',\n",
    "               'atBats', 'caughtStealing', 'stolenBases', 'groundIntoDoublePlay',\n",
    "               'groundIntoTriplePlay', 'plateAppearances', 'totalBases', 'rbi',\n",
    "               'leftOnBase', 'sacBunts', 'sacFlies', 'catchersInterference',\n",
    "               'pickoffs', 'gamesPlayedPitching', 'gamesStartedPitching',\n",
    "               'completeGamesPitching', 'shutoutsPitching', 'winsPitching',\n",
    "               'lossesPitching', 'flyOutsPitching', 'airOutsPitching',\n",
    "               'groundOutsPitching', 'runsPitching', 'doublesPitching',\n",
    "               'triplesPitching', 'homeRunsPitching', 'strikeOutsPitching',\n",
    "               'baseOnBallsPitching', 'intentionalWalksPitching', 'hitsPitching',\n",
    "               'hitByPitchPitching', 'atBatsPitching', 'caughtStealingPitching',\n",
    "               'stolenBasesPitching', 'inningsPitched', 'saveOpportunities',\n",
    "               'earnedRuns', 'battersFaced', 'outsPitching', 'pitchesThrown', 'balls',\n",
    "               'strikes', 'hitBatsmen', 'balks', 'wildPitches', 'pickoffsPitching',\n",
    "               'rbiPitching', 'gamesFinishedPitching', 'inheritedRunners',\n",
    "               'inheritedRunnersScored', 'catchersInterferencePitching',\n",
    "               'sacBuntsPitching', 'sacFliesPitching', 'saves', 'holds', 'blownSaves',\n",
    "               'assists', 'putOuts', 'errors', 'chances',\n",
    "                'season_info', 'wildCardRank'] \n",
    "        \n",
    "        \n",
    "        # lightgbm\n",
    "        self.params1 = {\n",
    "                    'random_state': SEED,\n",
    "                    'objective':'mae',\n",
    "                    'n_estimators': 10000,\n",
    "                    'learning_rate': 0.1,\n",
    "                    'max_depth': 5,\n",
    "                    'min_child_weight': 2,\n",
    "                    'subsample': 0.8,\n",
    "                    'colsample_bytree': 0.7,\n",
    "                    'reg_lambda': 0.2219989029856233,\n",
    "                    'reg_alpha': 0.003911382788589902,\n",
    "                    'feature_fraction': 0.8972775633184858,\n",
    "                    'bagging_fraction': 0.9080490178534212,\n",
    "                    'bagging_freq': 1\n",
    "        }\n",
    "\n",
    "\n",
    "        self.params2 = {\n",
    "                    'random_state': SEED,\n",
    "                    'objective':'mae',\n",
    "                    'n_estimators': 10000,\n",
    "                    'learning_rate': 0.1,\n",
    "                    'max_depth': 16,\n",
    "                    'min_child_weight': 16,\n",
    "                    'subsample': 0.8,\n",
    "                    'colsample_bytree': 0.8,\n",
    "                    'reg_lambda': 0.14788207783997104,\n",
    "                    'reg_alpha': 0.03142098321958639,\n",
    "                    'feature_fraction': 0.7277188813412163,\n",
    "                    'bagging_fraction': 0.7968075536678682,\n",
    "                    'bagging_freq': 7\n",
    "        }\n",
    "\n",
    "\n",
    "        self.params3 = {\n",
    "                    'random_state': SEED,\n",
    "                    'objective':'mae',\n",
    "                    'n_estimators': 10000,\n",
    "                    'learning_rate': 0.1,\n",
    "                    'max_depth': 4,\n",
    "                    'min_child_weight': 8,\n",
    "                    'subsample': 0.9,\n",
    "                    'colsample_bytree': 0.8,\n",
    "                    'reg_lambda': 0.06237286017377033,\n",
    "                    'reg_alpha': 0.025330255862048567,\n",
    "                    'feature_fraction': 0.95826235847118,\n",
    "                    'bagging_fraction': 0.613475530706581,\n",
    "                    'bagging_freq': 8\n",
    "        }\n",
    "\n",
    "        self.params4 = {\n",
    "                    'random_state': SEED,\n",
    "                    'objective':'mae',\n",
    "                    'n_estimators': 10000,\n",
    "                    'learning_rate': 0.1,\n",
    "                    'max_depth': 11,\n",
    "                    'min_child_weight': 4,\n",
    "                    'subsample': 0.7,\n",
    "                    'colsample_bytree': 0.6,\n",
    "                    'reg_lambda': 0.009794699765699343,\n",
    "                    'reg_alpha': 2.394314077427591,\n",
    "                    'feature_fraction': 0.5417549198679318,\n",
    "                    'bagging_fraction': 0.5603631731851066,\n",
    "                    'bagging_freq': 5\n",
    "        }\n",
    "\n",
    "    def make_feature(self, train_elements_dict):\n",
    "\n",
    "        players = train_elements_dict['players']\n",
    "        rosters = train_elements_dict['rosters']\n",
    "        targets = train_elements_dict['targets']\n",
    "        scores = train_elements_dict['scores']\n",
    "        seasons = train_elements_dict['seasons']\n",
    "        teams = train_elements_dict['teams']\n",
    "        standings = train_elements_dict['standings']\n",
    "\n",
    "        print('calc target stat ... ', end=\"\")\n",
    "\n",
    "        ## target stats\n",
    "        targets_train = targets.merge(rosters[self.rosters_cols], on=['playerId', 'date'], how='left')\n",
    "        targets_train = targets_train[(targets_train['date'] >= 20210401)]\n",
    "\n",
    "        playerId_list = targets_train['playerId'].unique()\n",
    "        player_target_probs = pd.DataFrame(columns = self.stat_cols)  \n",
    "        for pid in tqdm(playerId_list):\n",
    "            temp = targets_train[targets_train['playerId'] == pid]\n",
    "            player_target_stats=calc_probs(pid,player_target_probs,temp)\n",
    "\n",
    "        teamId_list = targets_train['teamId'].dropna().unique()\n",
    "        team_target_probs = pd.DataFrame(columns = self.stat_cols)\n",
    "        for pid in tqdm(teamId_list):\n",
    "            temp = targets_train[targets_train['teamId'] == pid]\n",
    "            team_target_stats=calc_probs(pid,team_target_probs,temp)\n",
    "\n",
    "        team_stat_cols = self.stat_cols\n",
    "        team_stat_cols = team_stat_cols[:1] + [\"team_\" + word for word in team_stat_cols[1:]]\n",
    "        team_target_stats.columns = team_stat_cols\n",
    "\n",
    "        self.feature_cols1 += self.stat_cols[1:-6]\n",
    "        self.feature_cols2 += self.stat_cols[1:-6]\n",
    "        self.feature_cols3 += self.stat_cols[1:-6]\n",
    "        self.feature_cols4 += self.stat_cols[1:-6]\n",
    "\n",
    "        self.feature_cols1 += team_stat_cols[1:]\n",
    "        self.feature_cols2 += team_stat_cols[1:]\n",
    "        self.feature_cols3 += team_stat_cols[1:]\n",
    "        self.feature_cols4 += team_stat_cols[1:]\n",
    "\n",
    "        print('done.')\n",
    "\n",
    "        print('preprocess ... ', end=\"\")\n",
    "        ## salaries\n",
    "        # salaries = salaries.groupby(['year', 'team']).sum()['salary'].reset_index()\n",
    "        # salaries['team'] = salaries['team'].apply(map_team_name)\n",
    "        # salaries = salaries.merge(teams, left_on='team', right_on='name', how='inner')\n",
    "        # salaries = salaries.rename(columns={'id': 'teamId'})\n",
    "\n",
    "        ## seasons\n",
    "        seasons = seasons.fillna('0000-00-00')\n",
    "        for c_ in seasons.columns[1:]:\n",
    "            seasons[c_] = seasons[c_].str.replace('-', '').astype(int)\n",
    "\n",
    "        ## players\n",
    "        players['DOY'] = pd.to_datetime(players['DOB'], format=\"%Y-%m-%d\").dt.year\n",
    "        players['mlbDebutYear'] = pd.to_datetime(players['mlbDebutDate'], format=\"%Y-%m-%d\").dt.year\n",
    "        players['DebutAge'] = players['mlbDebutYear'] - players['DOY']\n",
    "\n",
    "        print('done.')\n",
    "\n",
    "        print('creat feature ... ', end=\"\")\n",
    "        # creat feature\n",
    "        train = targets[self.targets_cols].merge(players[self.players_cols], on=['playerId'], how='left')\n",
    "        train = train.merge(rosters[self.rosters_cols], on=['playerId', 'date'], how='left')\n",
    "        train = train.merge(scores[self.scores_cols], on=['playerId', 'date'], how='left')\n",
    "        train = train.merge(player_target_stats, how='inner', left_on=[\"playerId\"],right_on=[\"playerId\"])\n",
    "        train = train.merge(standings[self.standings_cols], on=['teamId', 'date'], how='left')\n",
    "        train = train.merge(team_target_stats, how='left', left_on=[\"teamId\"],right_on=[\"playerId\"], suffixes=('', 'team_'))\n",
    "        date_ = pd.to_datetime(train['date'], format=\"%Y%m%d\")\n",
    "        train['annual_day'] = (date_ - pd.to_datetime(date_.dt.year, format=\"%Y\")) /  timedelta(days=1)\n",
    "        train['week_day'] = date_.dt.weekday\n",
    "        train['month'] = date_.dt.month\n",
    "        train['year'] = date_.dt.year\n",
    "\n",
    "        # label encoding\n",
    "        player2num = {c: i for i, c in enumerate(train['playerId'].unique())}\n",
    "        position2num = {c: i for i, c in enumerate(train['primaryPositionName'].unique())}\n",
    "        birthCityn2num = {c: i for i, c in enumerate(train['birthCity'].unique())}\n",
    "        teamid2num = {c: i for i, c in enumerate(train['teamId'].unique())}\n",
    "        status2num = {c: i for i, c in enumerate(train['status'].unique())}\n",
    "        train['label_playerId'] = train['playerId'].map(player2num)\n",
    "        train['label_primaryPositionName'] = train['primaryPositionName'].map(position2num)\n",
    "        train['label_birthCity'] = train['birthCity'].map(birthCityn2num)\n",
    "        train['label_teamId'] = train['teamId'].map(teamid2num)\n",
    "        train['label_status'] = train['status'].map(status2num)\n",
    "\n",
    "        ## season_info\n",
    "        on_preseason_idxes = extract_season(train['date'], seasons[['preSeasonStartDate', 'preSeasonEndDate']])\n",
    "        on_season_idxes = extract_season(train['date'], seasons[['regularSeasonStartDate', 'regularSeasonEndDate']]) * 2\n",
    "        on_postseason_idxes = extract_season(train['date'], seasons[['postSeasonStartDate', 'postSeasonEndDate']]) * 3\n",
    "\n",
    "        special_days = seasons['lastDate1stHalf'].to_list() + seasons['allStarDate'].to_list() + seasons['firstDate2ndHalf'].to_list()\n",
    "        special_idxes = 0\n",
    "        for day in special_days:\n",
    "            special_idxes += (train['date'] == day) * 4\n",
    "\n",
    "        on_total_season_idxes = on_preseason_idxes\n",
    "        on_total_season_idxes[on_season_idxes==2] = 2\n",
    "        on_total_season_idxes[on_postseason_idxes==3] = 3\n",
    "        on_total_season_idxes[special_idxes==4] = 4\n",
    "\n",
    "        train['season_info'] = on_total_season_idxes\n",
    "\n",
    "        ## only on season\n",
    "        on_whole_idxes = extract_season(train['date'], seasons[['seasonStartDate', 'seasonEndDate']])\n",
    "        train = train[on_whole_idxes == 1].reset_index(drop=True)\n",
    "\n",
    "        # train = train.merge(playerTwitterFollowers, how='left', on=[\"playerId\", 'date'])\n",
    "\n",
    "        ## game_info\n",
    "        train['gameday'] = ~train['battingOrder'].isna()*1\n",
    "        train.sort_values(by=['playerId','date'],inplace=True,ascending=True)\n",
    "\n",
    "        train=count_consecutive_items_n_cols(train,['playerId','gameday'],'daysSinceLastGame')\n",
    "        train.loc[train['gameday']==1,'daysSinceLastGame'] = 0\n",
    "\n",
    "        train_game = train[train['gameday']==1]\n",
    "        train_last_game = train_game[~train_game.duplicated(subset='playerId', keep='last')][['playerId', 'date']]\n",
    "        train_last_game.columns = ['playerId', 'lastdate']\n",
    "        train_player_unique = pd.DataFrame(train['playerId'].unique(), columns=['playerId'])\n",
    "        train_last_game = pd.merge(train_player_unique, train_last_game, on=['playerId'], how='left' )\n",
    "        train_last_game = train_last_game.fillna(20171231)\n",
    "\n",
    "        ## only test_player\n",
    "        train = train[train['playerForTestSetAndFuturePreds']==True].reset_index(drop=True)\n",
    "\n",
    "        print('done.')\n",
    "        \n",
    "        train_features_dict = {'player_target_stats': player_target_stats,\n",
    "                                'team_target_stats': team_target_stats,\n",
    "                                'train_last_game': train_last_game, \n",
    "                                'player2num': player2num, \n",
    "                                'position2num': position2num, \n",
    "                                'birthCityn2num': birthCityn2num,\n",
    "                                'teamid2num': teamid2num,\n",
    "                                'status2num': status2num,\n",
    "                                'feature_cols1': self.feature_cols1,\n",
    "                                'feature_cols2': self.feature_cols2,\n",
    "                                'feature_cols3': self.feature_cols3,\n",
    "                                'feature_cols4': self.feature_cols4\n",
    "                              }\n",
    "        \n",
    "        if self.usetimelinefeature:\n",
    "            train_features_dict['train_last_game'] = train_last_game\n",
    "            self.feature_cols1 += ['daysSinceLastGame']\n",
    "            self.feature_cols2 += ['daysSinceLastGame']\n",
    "            self.feature_cols3 += ['daysSinceLastGame']\n",
    "            self.feature_cols4 += ['daysSinceLastGame']\n",
    "\n",
    "        return train, train_features_dict\n",
    "    \n",
    "    def train_and_evaluate(self, train, isgamedayonly=False):\n",
    "        \n",
    "        if isgamedayonly:\n",
    "            train = train[train['gameday'] == 1].reset_index(drop=True)\n",
    "            \n",
    "        train_X = train\n",
    "        train_y = train[['target1', 'target2', 'target3', 'target4']]\n",
    "\n",
    "        oof = np.zeros(train_y.shape) - 1.0\n",
    "        y_valids = np.zeros(train_y.shape) - 1.0\n",
    "\n",
    "        tr_idx = (train['date'].astype(int) < 20210401)\n",
    "        val_idx = ~tr_idx\n",
    "\n",
    "        x_train = train_X.loc[tr_idx].reset_index(drop=True)\n",
    "        y_train = train_y.loc[tr_idx].reset_index(drop=True)\n",
    "        x_valid = train_X.loc[val_idx].reset_index(drop=True)\n",
    "        y_valid = train_y.loc[val_idx].reset_index(drop=True)\n",
    "\n",
    "        study1 = optuna.create_study(direction='maximize')\n",
    "        study1.optimize(fit_lgbm(x_train[self.feature_cols1], y_train['target1'], \n",
    "                                 x_valid[self.feature_cols1], y_valid['target1']), n_trials=100)\n",
    "        \n",
    "        study2 = optuna.create_study(direction='maximize')\n",
    "        study2.optimize(fit_lgbm(x_train[self.feature_cols2], y_train['target2'], \n",
    "                                 x_valid[self.feature_cols2], y_valid['target2']), n_trials=100)\n",
    "        \n",
    "        study3 = optuna.create_study(direction='maximize')\n",
    "        study3.optimize(fit_lgbm(x_train[self.feature_cols3], y_train['target3'], \n",
    "                                 x_valid[self.feature_cols3], y_valid['target3']), n_trials=100)\n",
    "        \n",
    "        study4 = optuna.create_study(direction='maximize')\n",
    "        study4.optimize(fit_lgbm(x_train[self.feature_cols4], y_train['target4'], \n",
    "                                 x_valid[self.feature_cols4], y_valid['target4']), n_trials=100)\n",
    "\n",
    "#         oof1, model1, score1 = fit_lgbm(\n",
    "#             x_train[self.feature_cols1], y_train['target1'],\n",
    "#             x_valid[self.feature_cols1], y_valid['target1'],\n",
    "# #             self.params1\n",
    "#         )\n",
    "#         oof2, model2, score2 = fit_lgbm(\n",
    "#             x_train[self.feature_cols2], y_train['target2'],\n",
    "#             x_valid[self.feature_cols2], y_valid['target2'],\n",
    "# #             self.params2\n",
    "#         )\n",
    "#         oof3, model3, score3 = fit_lgbm(\n",
    "#             x_train[self.feature_cols3], y_train['target3'],\n",
    "#             x_valid[self.feature_cols3], y_valid['target3'],\n",
    "# #             self.params3\n",
    "#         )\n",
    "#         oof4, model4, score4 = fit_lgbm(\n",
    "#             x_train[self.feature_cols4], y_train['target4'],\n",
    "#             x_valid[self.feature_cols4], y_valid['target4'],\n",
    "# #             self.params4\n",
    "#         )\n",
    "\n",
    "#         score = (score1+score2+score3+score4) / 4\n",
    "#         print(f'score: {score}')\n",
    "\n",
    "#         oof[val_idx, 0] = oof1\n",
    "#         oof[val_idx, 1] = oof2\n",
    "#         oof[val_idx, 2] = oof3\n",
    "#         oof[val_idx, 3] = oof4\n",
    "#         y_valids[val_idx, 0] = y_valid['target1'].values\n",
    "#         y_valids[val_idx, 1] = y_valid['target2'].values\n",
    "#         y_valids[val_idx, 2] = y_valid['target3'].values\n",
    "#         y_valids[val_idx, 3] = y_valid['target4'].values\n",
    "\n",
    "#         mae = mean_absolute_error(y_valids[val_idx, :], oof[val_idx, :])\n",
    "#         print(\"mae:\", mae)\n",
    "\n",
    "#         val_idx_num = val_idx[val_idx==True].index.to_list()\n",
    "\n",
    "#         oof_df = train[self.targets_cols]\n",
    "#         oof_df.iloc[val_idx_num, 1:5] = oof[val_idx_num, :]\n",
    "\n",
    "#         models = np.array([model1, model2, model3, model4])\n",
    "\n",
    "        return study1, study2, study3, study4\n",
    "            "
   ]
  },
  {
   "cell_type": "code",
   "execution_count": 16,
   "id": "b51c46a5",
   "metadata": {},
   "outputs": [],
   "source": [
    "class Rt4kaidoTest:\n",
    "    def __init__(self, train_features_dict, models_notgameday, models_gameday, usetimelinefeature=False):\n",
    "        \n",
    "        self.usetimelinefeature = usetimelinefeature\n",
    "        self.train_features_dict = train_features_dict\n",
    "        self.feature_cols1 = train_features_dict['feature_cols1']\n",
    "        self.feature_cols2 = train_features_dict['feature_cols2']\n",
    "        self.feature_cols3 = train_features_dict['feature_cols3']\n",
    "        self.feature_cols4 = train_features_dict['feature_cols4']\n",
    "        self.models_notgameday = models_notgameday\n",
    "        self.models_gameday = models_gameday\n",
    "\n",
    "\n",
    "        self.test_players_cols = ['playerId', 'primaryPositionName', 'birthCity', 'DOY', 'mlbDebutYear', 'DebutAge', 'heightInches', 'weight']\n",
    "        self.test_rosters_cols = ['playerId', 'teamId', 'status']\n",
    "        self.test_standings_cols = ['teamId', 'wildCardRank', 'sportGamesBack']\n",
    "        self.test_scores_cols = ['playerId', 'battingOrder', 'gamesPlayedBatting', 'flyOuts',\n",
    "               'groundOuts', 'runsScored', 'doubles', 'triples', 'homeRuns',\n",
    "               'strikeOuts', 'baseOnBalls', 'intentionalWalks', 'hits', 'hitByPitch',\n",
    "               'atBats', 'caughtStealing', 'stolenBases', 'groundIntoDoublePlay',\n",
    "               'groundIntoTriplePlay', 'plateAppearances', 'totalBases', 'rbi',\n",
    "               'leftOnBase', 'sacBunts', 'sacFlies', 'catchersInterference',\n",
    "               'pickoffs', 'gamesPlayedPitching', 'gamesStartedPitching',\n",
    "               'completeGamesPitching', 'shutoutsPitching', 'winsPitching',\n",
    "               'lossesPitching', 'flyOutsPitching', 'airOutsPitching',\n",
    "               'groundOutsPitching', 'runsPitching', 'doublesPitching',\n",
    "               'triplesPitching', 'homeRunsPitching', 'strikeOutsPitching',\n",
    "               'baseOnBallsPitching', 'intentionalWalksPitching', 'hitsPitching',\n",
    "               'hitByPitchPitching', 'atBatsPitching', 'caughtStealingPitching',\n",
    "               'stolenBasesPitching', 'inningsPitched', 'saveOpportunities',\n",
    "               'earnedRuns', 'battersFaced', 'outsPitching', 'pitchesThrown', 'balls',\n",
    "               'strikes', 'hitBatsmen', 'balks', 'wildPitches', 'pickoffsPitching',\n",
    "               'rbiPitching', 'gamesFinishedPitching', 'inheritedRunners',\n",
    "               'inheritedRunnersScored', 'catchersInterferencePitching',\n",
    "               'sacBuntsPitching', 'sacFliesPitching', 'saves', 'holds', 'blownSaves',\n",
    "               'assists', 'putOuts', 'errors', 'chances']\n",
    "\n",
    "    def test_oneline(self, test_df, sample_prediction_df):\n",
    "        \n",
    "        null = np.nan\n",
    "        true = True\n",
    "        false = False\n",
    "        \n",
    "        sample_prediction_df = sample_prediction_df.reset_index(drop=True)\n",
    "\n",
    "        # creat dataset\n",
    "        sample_prediction_df['playerId'] = sample_prediction_df['date_playerId']\\\n",
    "                                            .map(lambda x: int(x.split('_')[1]))\n",
    "        # Dealing with missing values\n",
    "        if test_df['rosters'].iloc[0] == test_df['rosters'].iloc[0]:\n",
    "            test_rosters = pd.DataFrame(eval(test_df['rosters'].iloc[0]))\n",
    "        else:\n",
    "            test_rosters = pd.DataFrame({'playerId': sample_prediction_df['playerId']})\n",
    "            for col in rosters.columns:\n",
    "                if col == 'playerId': continue\n",
    "                test_rosters[col] = np.nan\n",
    "\n",
    "        if test_df['playerBoxScores'].iloc[0] == test_df['playerBoxScores'].iloc[0]:\n",
    "            test_scores = pd.DataFrame(eval(test_df['playerBoxScores'].iloc[0]))\n",
    "        else:\n",
    "            test_scores = pd.DataFrame({'playerId': sample_prediction_df['playerId']})\n",
    "            for col in scores.columns:\n",
    "                if col == 'playerId': continue\n",
    "                test_scores[col] = np.nan\n",
    "\n",
    "        if test_df['standings'].iloc[0] == test_df['standings'].iloc[0]:\n",
    "            test_standings = pd.DataFrame(eval(test_df['standings'].iloc[0]))\n",
    "        else:\n",
    "            test_standings = pd.DataFrame({'playerId': sample_prediction_df['playerId']})\n",
    "            for col in standings.columns:\n",
    "                if col == 'playerId': continue\n",
    "                test_standings[col] = np.nan\n",
    "\n",
    "        test_scores = test_scores.groupby('playerId').sum().reset_index()\n",
    "        test = sample_prediction_df[['playerId']].copy()\n",
    "        test = test.merge(players[self.test_players_cols], on='playerId', how='left')\n",
    "        test = test.merge(test_rosters[self.test_rosters_cols], on='playerId', how='left')\n",
    "        test = test.merge(test_scores[self.test_scores_cols], on='playerId', how='left')\n",
    "        test = test.merge(self.train_features_dict['player_target_stats'], how='left', left_on=[\"playerId\"],right_on=[\"playerId\"])\n",
    "        test = test.merge(test_standings[self.test_standings_cols], on='teamId', how='left')\n",
    "        test = test.merge(self.train_features_dict['team_target_stats'], how='left', left_on=[\"teamId\"],right_on=[\"playerId\"], suffixes=('', 'team_'))\n",
    "        test['wildCardRank'] = test['wildCardRank'].astype(float)\n",
    "\n",
    "\n",
    "        test['label_playerId'] = test['playerId'].map(self.train_features_dict['player2num'])\n",
    "        test['label_primaryPositionName'] = test['primaryPositionName'].map(self.train_features_dict['position2num'])\n",
    "        test['label_teamId'] = test['teamId'].map(self.train_features_dict['teamid2num'])\n",
    "        test['label_status'] = test['status'].map(self.train_features_dict['status2num'])\n",
    "        test['label_birthCity'] = test['birthCity'].map(self.train_features_dict['birthCityn2num'])\n",
    "\n",
    "        date_ = pd.to_datetime(test_df.index[0], format=\"%Y%m%d\")\n",
    "        test['annual_day'] = (date_ - pd.to_datetime(date_.year, format=\"%Y\")) /  timedelta(days=1)\n",
    "        test['week_day'] = date_.weekday()\n",
    "        test['month'] = date_.month\n",
    "        test['season_info'] = 2\n",
    "        test['gameday'] = ~test['battingOrder'].isna()*1\n",
    "        \n",
    "        if self.usetimelinefeature:\n",
    "            test['date'] = test_df.index[0]\n",
    "            test = pd.merge(test, self.train_features_dict['train_last_game'], on=['playerId'], how='left')\n",
    "            test['daysSinceLastGame'] = (pd.to_datetime(test['date'], format=\"%Y%m%d\") - pd.to_datetime(test['lastdate'], format=\"%Y%m%d\")).dt.days\n",
    "            \n",
    "            self.train_features_dict['train_last_game'] = pd.merge(self.train_features_dict['train_last_game'], test[test['gameday']==1][['playerId','date']], on=['playerId'], how='left')\n",
    "            self.train_features_dict['train_last_game']['lastdate'].update(self.train_features_dict['train_last_game']['date'])\n",
    "            self.train_features_dict['train_last_game'] = self.train_features_dict['train_last_game'][['playerId', 'lastdate']]\n",
    "\n",
    "        test_gameday = test[test['gameday']==1]\n",
    "\n",
    "        if len(test_gameday) != 0:\n",
    "            gameday_index = list(test_gameday.index)\n",
    "\n",
    "            test_X = test.iloc[gameday_index]\n",
    "\n",
    "            pred1 = self.models_gameday[0].predict(test_X[self.feature_cols1])\n",
    "            pred2 = self.models_gameday[1].predict(test_X[self.feature_cols2])\n",
    "            pred3 = self.models_gameday[2].predict(test_X[self.feature_cols3])\n",
    "            pred4 = self.models_gameday[3].predict(test_X[self.feature_cols4])\n",
    "\n",
    "            # merge submission\n",
    "            sample_prediction_df['target1'].iloc[gameday_index] = np.clip(pred1, 0, 100)\n",
    "            sample_prediction_df['target2'].iloc[gameday_index] = np.clip(pred2, 0, 100)\n",
    "            sample_prediction_df['target3'].iloc[gameday_index] = np.clip(pred3, 0, 100)\n",
    "            sample_prediction_df['target4'].iloc[gameday_index] = np.clip(pred4, 0, 100)\n",
    "\n",
    "        # ------------------------------------------------------------\n",
    "\n",
    "        test_notgameday = test[test['gameday']==0]\n",
    "        if len(test_notgameday) != 0:\n",
    "            notgameday_index = list(test_notgameday.index)\n",
    "\n",
    "            test_X = test.iloc[notgameday_index]\n",
    "\n",
    "            pred1 = self.models_notgameday[0].predict(test_X[self.feature_cols1])\n",
    "            pred2 = self.models_notgameday[1].predict(test_X[self.feature_cols2])\n",
    "            pred3 = self.models_notgameday[2].predict(test_X[self.feature_cols3])\n",
    "            pred4 = self.models_notgameday[3].predict(test_X[self.feature_cols4])\n",
    "\n",
    "            # merge submission\n",
    "            sample_prediction_df['target1'].iloc[notgameday_index] = np.clip(pred1, 0, 100)\n",
    "            sample_prediction_df['target2'].iloc[notgameday_index] = np.clip(pred2, 0, 100)\n",
    "            sample_prediction_df['target3'].iloc[notgameday_index] = np.clip(pred3, 0, 100)\n",
    "            sample_prediction_df['target4'].iloc[notgameday_index] = np.clip(pred4, 0, 100)\n",
    "\n",
    "        sample_prediction_df = sample_prediction_df.fillna(0.)\n",
    "\n",
    "        del sample_prediction_df['playerId']\n",
    "        \n",
    "        return sample_prediction_df"
   ]
  },
  {
   "cell_type": "code",
   "execution_count": 17,
   "id": "76f37a32",
   "metadata": {},
   "outputs": [
    {
     "name": "stdout",
     "output_type": "stream",
     "text": [
      "calc target stat ... "
     ]
    },
    {
     "name": "stderr",
     "output_type": "stream",
     "text": [
      "100%|██████████| 2061/2061 [00:45<00:00, 45.02it/s]\n",
      "100%|██████████| 30/30 [00:00<00:00, 42.45it/s]\n"
     ]
    },
    {
     "name": "stdout",
     "output_type": "stream",
     "text": [
      "done.\n",
      "preprocess ... done.\n",
      "creat feature ... done.\n"
     ]
    }
   ],
   "source": [
    "rt4kaido_train = Rt4kaidoTrain(usetimelinefeature=True)\n",
    "train, train_features_dict = rt4kaido_train.make_feature(train_elements_dict)"
   ]
  },
  {
   "cell_type": "code",
   "execution_count": 18,
   "id": "472c50e1",
   "metadata": {
    "collapsed": true,
    "jupyter": {
     "outputs_hidden": true
    }
   },
   "outputs": [
    {
     "name": "stderr",
     "output_type": "stream",
     "text": [
      "\u001b[32m[I 2021-07-11 22:49:45,808]\u001b[0m A new study created in memory with name: no-name-82439038-ecb6-4645-a40c-86ca23b4ba5b\u001b[0m\n"
     ]
    },
    {
     "name": "stdout",
     "output_type": "stream",
     "text": [
      "[LightGBM] [Warning] feature_fraction is set=0.5185086545177852, colsample_bytree=0.7 will be ignored. Current value: feature_fraction=0.5185086545177852\n",
      "[LightGBM] [Warning] bagging_fraction is set=0.8038804886103567, subsample=0.6 will be ignored. Current value: bagging_fraction=0.8038804886103567\n",
      "[LightGBM] [Warning] bagging_freq is set=4, subsample_freq=0 will be ignored. Current value: bagging_freq=4\n",
      "Training until validation scores don't improve for 100 rounds\n",
      "[100]\ttraining's l1: 0.886493\tvalid_1's l1: 1.21532\n",
      "[200]\ttraining's l1: 0.886401\tvalid_1's l1: 1.21512\n",
      "[300]\ttraining's l1: 0.886397\tvalid_1's l1: 1.21512\n"
     ]
    },
    {
     "name": "stderr",
     "output_type": "stream",
     "text": [
      "\u001b[32m[I 2021-07-11 22:49:57,900]\u001b[0m Trial 0 finished with value: -1.2151098931859292 and parameters: {'max_depth': 15, 'min_child_weight': 18, 'subsample': 0.6, 'colsample_bytree': 0.7, 'reg_lambda': 0.0010331376287454664, 'reg_alpha': 40.07273757567476, 'feature_fraction': 0.5185086545177852, 'bagging_fraction': 0.8038804886103567, 'bagging_freq': 4}. Best is trial 0 with value: -1.2151098931859292.\u001b[0m\n"
     ]
    },
    {
     "name": "stdout",
     "output_type": "stream",
     "text": [
      "Early stopping, best iteration is:\n",
      "[216]\ttraining's l1: 0.8864\tvalid_1's l1: 1.21512\n",
      "[LightGBM] [Warning] feature_fraction is set=0.8236993457253146, colsample_bytree=0.6 will be ignored. Current value: feature_fraction=0.8236993457253146\n",
      "[LightGBM] [Warning] bagging_fraction is set=0.7552391422620561, subsample=0.9 will be ignored. Current value: bagging_fraction=0.7552391422620561\n",
      "[LightGBM] [Warning] bagging_freq is set=9, subsample_freq=0 will be ignored. Current value: bagging_freq=9\n",
      "Training until validation scores don't improve for 100 rounds\n",
      "[100]\ttraining's l1: 0.878396\tvalid_1's l1: 1.20154\n",
      "[200]\ttraining's l1: 0.875587\tvalid_1's l1: 1.19689\n",
      "[300]\ttraining's l1: 0.875455\tvalid_1's l1: 1.19678\n"
     ]
    },
    {
     "name": "stderr",
     "output_type": "stream",
     "text": [
      "\u001b[32m[I 2021-07-11 22:50:08,423]\u001b[0m Trial 1 finished with value: -1.196752757432271 and parameters: {'max_depth': 6, 'min_child_weight': 10, 'subsample': 0.9, 'colsample_bytree': 0.6, 'reg_lambda': 0.007381428981383331, 'reg_alpha': 0.08205495656828862, 'feature_fraction': 0.8236993457253146, 'bagging_fraction': 0.7552391422620561, 'bagging_freq': 9}. Best is trial 1 with value: -1.196752757432271.\u001b[0m\n"
     ]
    },
    {
     "name": "stdout",
     "output_type": "stream",
     "text": [
      "Early stopping, best iteration is:\n",
      "[292]\ttraining's l1: 0.875455\tvalid_1's l1: 1.19678\n",
      "[LightGBM] [Warning] feature_fraction is set=0.6096373613196862, colsample_bytree=0.7 will be ignored. Current value: feature_fraction=0.6096373613196862\n",
      "[LightGBM] [Warning] bagging_fraction is set=0.9922488807344252, subsample=0.9 will be ignored. Current value: bagging_fraction=0.9922488807344252\n",
      "[LightGBM] [Warning] bagging_freq is set=3, subsample_freq=0 will be ignored. Current value: bagging_freq=3\n",
      "Training until validation scores don't improve for 100 rounds\n",
      "[100]\ttraining's l1: 0.885626\tvalid_1's l1: 1.21486\n"
     ]
    },
    {
     "name": "stderr",
     "output_type": "stream",
     "text": [
      "\u001b[32m[I 2021-07-11 22:50:18,308]\u001b[0m Trial 2 finished with value: -1.2148546829599705 and parameters: {'max_depth': 13, 'min_child_weight': 17, 'subsample': 0.9, 'colsample_bytree': 0.7, 'reg_lambda': 339.4334619095113, 'reg_alpha': 0.007653592501435419, 'feature_fraction': 0.6096373613196862, 'bagging_fraction': 0.9922488807344252, 'bagging_freq': 3}. Best is trial 1 with value: -1.196752757432271.\u001b[0m\n"
     ]
    },
    {
     "name": "stdout",
     "output_type": "stream",
     "text": [
      "Early stopping, best iteration is:\n",
      "[87]\ttraining's l1: 0.885627\tvalid_1's l1: 1.21486\n",
      "[LightGBM] [Warning] feature_fraction is set=0.6137559990437551, colsample_bytree=0.5 will be ignored. Current value: feature_fraction=0.6137559990437551\n",
      "[LightGBM] [Warning] bagging_fraction is set=0.6369979871691944, subsample=0.7 will be ignored. Current value: bagging_fraction=0.6369979871691944\n",
      "[LightGBM] [Warning] bagging_freq is set=3, subsample_freq=0 will be ignored. Current value: bagging_freq=3\n",
      "Training until validation scores don't improve for 100 rounds\n",
      "[100]\ttraining's l1: 0.892166\tvalid_1's l1: 1.22456\n",
      "[200]\ttraining's l1: 0.891746\tvalid_1's l1: 1.22378\n"
     ]
    },
    {
     "name": "stderr",
     "output_type": "stream",
     "text": [
      "\u001b[32m[I 2021-07-11 22:50:29,071]\u001b[0m Trial 3 finished with value: -1.2237036729801787 and parameters: {'max_depth': 14, 'min_child_weight': 18, 'subsample': 0.7, 'colsample_bytree': 0.5, 'reg_lambda': 0.0010175794751651345, 'reg_alpha': 699.6821613426596, 'feature_fraction': 0.6137559990437551, 'bagging_fraction': 0.6369979871691944, 'bagging_freq': 3}. Best is trial 1 with value: -1.196752757432271.\u001b[0m\n"
     ]
    },
    {
     "name": "stdout",
     "output_type": "stream",
     "text": [
      "Early stopping, best iteration is:\n",
      "[194]\ttraining's l1: 0.891746\tvalid_1's l1: 1.22378\n",
      "[LightGBM] [Warning] feature_fraction is set=0.7763563112190949, colsample_bytree=0.9 will be ignored. Current value: feature_fraction=0.7763563112190949\n",
      "[LightGBM] [Warning] bagging_fraction is set=0.806884151719349, subsample=0.5 will be ignored. Current value: bagging_fraction=0.806884151719349\n",
      "[LightGBM] [Warning] bagging_freq is set=4, subsample_freq=0 will be ignored. Current value: bagging_freq=4\n",
      "Training until validation scores don't improve for 100 rounds\n",
      "[100]\ttraining's l1: 0.88371\tvalid_1's l1: 1.20908\n",
      "[200]\ttraining's l1: 0.882878\tvalid_1's l1: 1.20752\n",
      "[300]\ttraining's l1: 0.882875\tvalid_1's l1: 1.20752\n"
     ]
    },
    {
     "name": "stderr",
     "output_type": "stream",
     "text": [
      "\u001b[32m[I 2021-07-11 22:50:40,558]\u001b[0m Trial 4 finished with value: -1.207499136908619 and parameters: {'max_depth': 7, 'min_child_weight': 15, 'subsample': 0.5, 'colsample_bytree': 0.9, 'reg_lambda': 779.3359043807673, 'reg_alpha': 0.003339697194660998, 'feature_fraction': 0.7763563112190949, 'bagging_fraction': 0.806884151719349, 'bagging_freq': 4}. Best is trial 1 with value: -1.196752757432271.\u001b[0m\n"
     ]
    },
    {
     "name": "stdout",
     "output_type": "stream",
     "text": [
      "Early stopping, best iteration is:\n",
      "[266]\ttraining's l1: 0.882876\tvalid_1's l1: 1.20752\n",
      "[LightGBM] [Warning] feature_fraction is set=0.4845009434985903, colsample_bytree=0.5 will be ignored. Current value: feature_fraction=0.4845009434985903\n",
      "[LightGBM] [Warning] bagging_fraction is set=0.7876899687215453, subsample=0.6 will be ignored. Current value: bagging_fraction=0.7876899687215453\n",
      "[LightGBM] [Warning] bagging_freq is set=3, subsample_freq=0 will be ignored. Current value: bagging_freq=3\n",
      "Training until validation scores don't improve for 100 rounds\n",
      "[100]\ttraining's l1: 0.88691\tvalid_1's l1: 1.2152\n",
      "[200]\ttraining's l1: 0.886908\tvalid_1's l1: 1.21519\n",
      "[300]\ttraining's l1: 0.886904\tvalid_1's l1: 1.2152\n"
     ]
    },
    {
     "name": "stderr",
     "output_type": "stream",
     "text": [
      "\u001b[32m[I 2021-07-11 22:50:52,269]\u001b[0m Trial 5 finished with value: -1.215193451940671 and parameters: {'max_depth': 11, 'min_child_weight': 17, 'subsample': 0.6, 'colsample_bytree': 0.5, 'reg_lambda': 0.006406594375980923, 'reg_alpha': 0.004328428758148108, 'feature_fraction': 0.4845009434985903, 'bagging_fraction': 0.7876899687215453, 'bagging_freq': 3}. Best is trial 1 with value: -1.196752757432271.\u001b[0m\n"
     ]
    },
    {
     "name": "stdout",
     "output_type": "stream",
     "text": [
      "Early stopping, best iteration is:\n",
      "[209]\ttraining's l1: 0.886908\tvalid_1's l1: 1.21519\n",
      "[LightGBM] [Warning] feature_fraction is set=0.8529215596206614, colsample_bytree=0.6 will be ignored. Current value: feature_fraction=0.8529215596206614\n",
      "[LightGBM] [Warning] bagging_fraction is set=0.676619740000181, subsample=0.5 will be ignored. Current value: bagging_fraction=0.676619740000181\n",
      "[LightGBM] [Warning] bagging_freq is set=4, subsample_freq=0 will be ignored. Current value: bagging_freq=4\n",
      "Training until validation scores don't improve for 100 rounds\n",
      "[100]\ttraining's l1: 0.88451\tvalid_1's l1: 1.21365\n",
      "[200]\ttraining's l1: 0.884072\tvalid_1's l1: 1.21283\n"
     ]
    },
    {
     "name": "stderr",
     "output_type": "stream",
     "text": [
      "\u001b[32m[I 2021-07-11 22:51:00,260]\u001b[0m Trial 6 finished with value: -1.2128311528924451 and parameters: {'max_depth': 11, 'min_child_weight': 3, 'subsample': 0.5, 'colsample_bytree': 0.6, 'reg_lambda': 0.0012732761436343892, 'reg_alpha': 0.007804946783228949, 'feature_fraction': 0.8529215596206614, 'bagging_fraction': 0.676619740000181, 'bagging_freq': 4}. Best is trial 1 with value: -1.196752757432271.\u001b[0m\n"
     ]
    },
    {
     "name": "stdout",
     "output_type": "stream",
     "text": [
      "Early stopping, best iteration is:\n",
      "[159]\ttraining's l1: 0.884073\tvalid_1's l1: 1.21283\n",
      "[LightGBM] [Warning] feature_fraction is set=0.447996297737368, colsample_bytree=0.5 will be ignored. Current value: feature_fraction=0.447996297737368\n",
      "[LightGBM] [Warning] bagging_fraction is set=0.8045338438409391, subsample=0.8 will be ignored. Current value: bagging_fraction=0.8045338438409391\n",
      "[LightGBM] [Warning] bagging_freq is set=6, subsample_freq=0 will be ignored. Current value: bagging_freq=6\n",
      "Training until validation scores don't improve for 100 rounds\n",
      "[100]\ttraining's l1: 0.887914\tvalid_1's l1: 1.21909\n",
      "[200]\ttraining's l1: 0.887912\tvalid_1's l1: 1.21909\n",
      "[300]\ttraining's l1: 0.887885\tvalid_1's l1: 1.21908\n",
      "[400]\ttraining's l1: 0.887739\tvalid_1's l1: 1.21878\n",
      "[500]\ttraining's l1: 0.887735\tvalid_1's l1: 1.21878\n"
     ]
    },
    {
     "name": "stderr",
     "output_type": "stream",
     "text": [
      "\u001b[32m[I 2021-07-11 22:51:17,232]\u001b[0m Trial 7 finished with value: -1.218771468372391 and parameters: {'max_depth': 16, 'min_child_weight': 1, 'subsample': 0.8, 'colsample_bytree': 0.5, 'reg_lambda': 191.6414244234915, 'reg_alpha': 80.17151796125052, 'feature_fraction': 0.447996297737368, 'bagging_fraction': 0.8045338438409391, 'bagging_freq': 6}. Best is trial 1 with value: -1.196752757432271.\u001b[0m\n"
     ]
    },
    {
     "name": "stdout",
     "output_type": "stream",
     "text": [
      "Early stopping, best iteration is:\n",
      "[414]\ttraining's l1: 0.887736\tvalid_1's l1: 1.21878\n",
      "[LightGBM] [Warning] feature_fraction is set=0.8987013877143684, colsample_bytree=0.7 will be ignored. Current value: feature_fraction=0.8987013877143684\n",
      "[LightGBM] [Warning] bagging_fraction is set=0.41892464271778923, subsample=0.9 will be ignored. Current value: bagging_fraction=0.41892464271778923\n",
      "[LightGBM] [Warning] bagging_freq is set=4, subsample_freq=0 will be ignored. Current value: bagging_freq=4\n",
      "Training until validation scores don't improve for 100 rounds\n",
      "[100]\ttraining's l1: 0.897925\tvalid_1's l1: 1.22791\n",
      "[200]\ttraining's l1: 0.893636\tvalid_1's l1: 1.21597\n",
      "[300]\ttraining's l1: 0.893185\tvalid_1's l1: 1.21526\n",
      "[400]\ttraining's l1: 0.892925\tvalid_1's l1: 1.21543\n"
     ]
    },
    {
     "name": "stderr",
     "output_type": "stream",
     "text": [
      "\u001b[32m[I 2021-07-11 22:51:26,773]\u001b[0m Trial 8 finished with value: -1.215030042005294 and parameters: {'max_depth': 16, 'min_child_weight': 16, 'subsample': 0.9, 'colsample_bytree': 0.7, 'reg_lambda': 5.18439156911742, 'reg_alpha': 930.5111832318717, 'feature_fraction': 0.8987013877143684, 'bagging_fraction': 0.41892464271778923, 'bagging_freq': 4}. Best is trial 1 with value: -1.196752757432271.\u001b[0m\n"
     ]
    },
    {
     "name": "stdout",
     "output_type": "stream",
     "text": [
      "Early stopping, best iteration is:\n",
      "[368]\ttraining's l1: 0.893141\tvalid_1's l1: 1.21522\n",
      "[LightGBM] [Warning] feature_fraction is set=0.6162823148822565, colsample_bytree=0.5 will be ignored. Current value: feature_fraction=0.6162823148822565\n",
      "[LightGBM] [Warning] bagging_fraction is set=0.6389472724790232, subsample=0.9 will be ignored. Current value: bagging_fraction=0.6389472724790232\n",
      "[LightGBM] [Warning] bagging_freq is set=5, subsample_freq=0 will be ignored. Current value: bagging_freq=5\n",
      "Training until validation scores don't improve for 100 rounds\n",
      "[100]\ttraining's l1: 0.888088\tvalid_1's l1: 1.21822\n",
      "[200]\ttraining's l1: 0.88808\tvalid_1's l1: 1.21822\n",
      "[300]\ttraining's l1: 0.888077\tvalid_1's l1: 1.21822\n"
     ]
    },
    {
     "name": "stderr",
     "output_type": "stream",
     "text": [
      "\u001b[32m[I 2021-07-11 22:51:38,314]\u001b[0m Trial 9 finished with value: -1.2182169379822403 and parameters: {'max_depth': 11, 'min_child_weight': 18, 'subsample': 0.9, 'colsample_bytree': 0.5, 'reg_lambda': 0.15486140763152292, 'reg_alpha': 0.43043021819896216, 'feature_fraction': 0.6162823148822565, 'bagging_fraction': 0.6389472724790232, 'bagging_freq': 5}. Best is trial 1 with value: -1.196752757432271.\u001b[0m\n"
     ]
    },
    {
     "name": "stdout",
     "output_type": "stream",
     "text": [
      "Early stopping, best iteration is:\n",
      "[252]\ttraining's l1: 0.888078\tvalid_1's l1: 1.21822\n",
      "[LightGBM] [Warning] feature_fraction is set=0.7674106229120136, colsample_bytree=0.8 will be ignored. Current value: feature_fraction=0.7674106229120136\n",
      "[LightGBM] [Warning] bagging_fraction is set=0.9623203011547992, subsample=0.8 will be ignored. Current value: bagging_fraction=0.9623203011547992\n",
      "[LightGBM] [Warning] bagging_freq is set=10, subsample_freq=0 will be ignored. Current value: bagging_freq=10\n",
      "Training until validation scores don't improve for 100 rounds\n",
      "[100]\ttraining's l1: 0.999749\tvalid_1's l1: 1.39256\n"
     ]
    },
    {
     "name": "stderr",
     "output_type": "stream",
     "text": [
      "\u001b[32m[I 2021-07-11 22:51:41,979]\u001b[0m Trial 10 finished with value: -1.3925498251361959 and parameters: {'max_depth': 1, 'min_child_weight': 8, 'subsample': 0.8, 'colsample_bytree': 0.8, 'reg_lambda': 0.048193394394157166, 'reg_alpha': 0.2128644568662822, 'feature_fraction': 0.7674106229120136, 'bagging_fraction': 0.9623203011547992, 'bagging_freq': 10}. Best is trial 1 with value: -1.196752757432271.\u001b[0m\n"
     ]
    },
    {
     "name": "stdout",
     "output_type": "stream",
     "text": [
      "Early stopping, best iteration is:\n",
      "[23]\ttraining's l1: 0.999789\tvalid_1's l1: 1.39255\n",
      "[LightGBM] [Warning] feature_fraction is set=0.9973825786806689, colsample_bytree=0.9 will be ignored. Current value: feature_fraction=0.9973825786806689\n",
      "[LightGBM] [Warning] bagging_fraction is set=0.8915122424380568, subsample=0.5 will be ignored. Current value: bagging_fraction=0.8915122424380568\n",
      "[LightGBM] [Warning] bagging_freq is set=8, subsample_freq=0 will be ignored. Current value: bagging_freq=8\n",
      "Training until validation scores don't improve for 100 rounds\n",
      "[100]\ttraining's l1: 0.873299\tvalid_1's l1: 1.19801\n",
      "[200]\ttraining's l1: 0.866849\tvalid_1's l1: 1.18658\n",
      "[300]\ttraining's l1: 0.862979\tvalid_1's l1: 1.17949\n",
      "[400]\ttraining's l1: 0.859542\tvalid_1's l1: 1.17275\n",
      "[500]\ttraining's l1: 0.857129\tvalid_1's l1: 1.16909\n",
      "[600]\ttraining's l1: 0.853719\tvalid_1's l1: 1.16499\n",
      "[700]\ttraining's l1: 0.851451\tvalid_1's l1: 1.16144\n",
      "[800]\ttraining's l1: 0.848526\tvalid_1's l1: 1.15664\n",
      "[900]\ttraining's l1: 0.847104\tvalid_1's l1: 1.15552\n",
      "Early stopping, best iteration is:\n",
      "[898]\ttraining's l1: 0.847333\tvalid_1's l1: 1.1555\n"
     ]
    },
    {
     "name": "stderr",
     "output_type": "stream",
     "text": [
      "\u001b[32m[I 2021-07-11 22:52:11,412]\u001b[0m Trial 11 finished with value: -1.1552663900820406 and parameters: {'max_depth': 5, 'min_child_weight': 12, 'subsample': 0.5, 'colsample_bytree': 0.9, 'reg_lambda': 8.554216152741402, 'reg_alpha': 0.06353773202740652, 'feature_fraction': 0.9973825786806689, 'bagging_fraction': 0.8915122424380568, 'bagging_freq': 8}. Best is trial 11 with value: -1.1552663900820406.\u001b[0m\n"
     ]
    },
    {
     "name": "stdout",
     "output_type": "stream",
     "text": [
      "[LightGBM] [Warning] feature_fraction is set=0.9662595728118177, colsample_bytree=0.9 will be ignored. Current value: feature_fraction=0.9662595728118177\n",
      "[LightGBM] [Warning] bagging_fraction is set=0.9124438749324795, subsample=0.7 will be ignored. Current value: bagging_fraction=0.9124438749324795\n",
      "[LightGBM] [Warning] bagging_freq is set=9, subsample_freq=0 will be ignored. Current value: bagging_freq=9\n",
      "Training until validation scores don't improve for 100 rounds\n",
      "[100]\ttraining's l1: 0.872479\tvalid_1's l1: 1.19566\n",
      "[200]\ttraining's l1: 0.865323\tvalid_1's l1: 1.18399\n",
      "[300]\ttraining's l1: 0.863092\tvalid_1's l1: 1.18117\n",
      "[400]\ttraining's l1: 0.860144\tvalid_1's l1: 1.17748\n",
      "[500]\ttraining's l1: 0.855272\tvalid_1's l1: 1.16789\n",
      "[600]\ttraining's l1: 0.853201\tvalid_1's l1: 1.16657\n",
      "[700]\ttraining's l1: 0.851272\tvalid_1's l1: 1.16369\n",
      "[800]\ttraining's l1: 0.849625\tvalid_1's l1: 1.16087\n",
      "[900]\ttraining's l1: 0.847848\tvalid_1's l1: 1.1588\n",
      "[1000]\ttraining's l1: 0.847045\tvalid_1's l1: 1.15801\n",
      "[1100]\ttraining's l1: 0.846268\tvalid_1's l1: 1.15683\n",
      "[1200]\ttraining's l1: 0.845255\tvalid_1's l1: 1.15583\n",
      "[1300]\ttraining's l1: 0.843774\tvalid_1's l1: 1.15432\n",
      "[1400]\ttraining's l1: 0.842087\tvalid_1's l1: 1.1516\n",
      "[1500]\ttraining's l1: 0.840674\tvalid_1's l1: 1.14966\n",
      "[1600]\ttraining's l1: 0.840096\tvalid_1's l1: 1.15\n",
      "Early stopping, best iteration is:\n",
      "[1548]\ttraining's l1: 0.840342\tvalid_1's l1: 1.14953\n"
     ]
    },
    {
     "name": "stderr",
     "output_type": "stream",
     "text": [
      "\u001b[32m[I 2021-07-11 22:52:59,208]\u001b[0m Trial 12 finished with value: -1.1492967945255332 and parameters: {'max_depth': 5, 'min_child_weight': 10, 'subsample': 0.7, 'colsample_bytree': 0.9, 'reg_lambda': 11.05564438364174, 'reg_alpha': 0.07010069024916246, 'feature_fraction': 0.9662595728118177, 'bagging_fraction': 0.9124438749324795, 'bagging_freq': 9}. Best is trial 12 with value: -1.1492967945255332.\u001b[0m\n"
     ]
    },
    {
     "name": "stdout",
     "output_type": "stream",
     "text": [
      "[LightGBM] [Warning] feature_fraction is set=0.9955429275246517, colsample_bytree=0.9 will be ignored. Current value: feature_fraction=0.9955429275246517\n",
      "[LightGBM] [Warning] bagging_fraction is set=0.9189562425803378, subsample=0.6 will be ignored. Current value: bagging_fraction=0.9189562425803378\n",
      "[LightGBM] [Warning] bagging_freq is set=8, subsample_freq=0 will be ignored. Current value: bagging_freq=8\n",
      "Training until validation scores don't improve for 100 rounds\n",
      "[100]\ttraining's l1: 0.999843\tvalid_1's l1: 1.39282\n"
     ]
    },
    {
     "name": "stderr",
     "output_type": "stream",
     "text": [
      "\u001b[32m[I 2021-07-11 22:53:03,312]\u001b[0m Trial 13 finished with value: -1.3928078972439548 and parameters: {'max_depth': 1, 'min_child_weight': 12, 'subsample': 0.6, 'colsample_bytree': 0.9, 'reg_lambda': 9.874223631321804, 'reg_alpha': 3.6497761467833496, 'feature_fraction': 0.9955429275246517, 'bagging_fraction': 0.9189562425803378, 'bagging_freq': 8}. Best is trial 12 with value: -1.1492967945255332.\u001b[0m\n"
     ]
    },
    {
     "name": "stdout",
     "output_type": "stream",
     "text": [
      "Early stopping, best iteration is:\n",
      "[23]\ttraining's l1: 0.999881\tvalid_1's l1: 1.39281\n",
      "[LightGBM] [Warning] feature_fraction is set=0.9984847561921406, colsample_bytree=0.8 will be ignored. Current value: feature_fraction=0.9984847561921406\n",
      "[LightGBM] [Warning] bagging_fraction is set=0.8971288207112895, subsample=0.7 will be ignored. Current value: bagging_fraction=0.8971288207112895\n",
      "[LightGBM] [Warning] bagging_freq is set=7, subsample_freq=0 will be ignored. Current value: bagging_freq=7\n",
      "Training until validation scores don't improve for 100 rounds\n",
      "[100]\ttraining's l1: 0.873496\tvalid_1's l1: 1.19678\n",
      "[200]\ttraining's l1: 0.865706\tvalid_1's l1: 1.18371\n",
      "[300]\ttraining's l1: 0.862009\tvalid_1's l1: 1.1775\n",
      "[400]\ttraining's l1: 0.858771\tvalid_1's l1: 1.17187\n",
      "[500]\ttraining's l1: 0.855338\tvalid_1's l1: 1.16612\n",
      "[600]\ttraining's l1: 0.853146\tvalid_1's l1: 1.16306\n",
      "[700]\ttraining's l1: 0.852385\tvalid_1's l1: 1.16181\n",
      "[800]\ttraining's l1: 0.851803\tvalid_1's l1: 1.16138\n"
     ]
    },
    {
     "name": "stderr",
     "output_type": "stream",
     "text": [
      "\u001b[32m[I 2021-07-11 22:53:29,711]\u001b[0m Trial 14 finished with value: -1.161138534469561 and parameters: {'max_depth': 5, 'min_child_weight': 6, 'subsample': 0.7, 'colsample_bytree': 0.8, 'reg_lambda': 26.08802700671457, 'reg_alpha': 0.022760963774174876, 'feature_fraction': 0.9984847561921406, 'bagging_fraction': 0.8971288207112895, 'bagging_freq': 7}. Best is trial 12 with value: -1.1492967945255332.\u001b[0m\n"
     ]
    },
    {
     "name": "stdout",
     "output_type": "stream",
     "text": [
      "Early stopping, best iteration is:\n",
      "[759]\ttraining's l1: 0.852027\tvalid_1's l1: 1.16127\n",
      "[LightGBM] [Warning] feature_fraction is set=0.9404329949444199, colsample_bytree=0.9 will be ignored. Current value: feature_fraction=0.9404329949444199\n",
      "[LightGBM] [Warning] bagging_fraction is set=0.5473241009035232, subsample=0.5 will be ignored. Current value: bagging_fraction=0.5473241009035232\n",
      "[LightGBM] [Warning] bagging_freq is set=10, subsample_freq=0 will be ignored. Current value: bagging_freq=10\n",
      "Training until validation scores don't improve for 100 rounds\n",
      "[100]\ttraining's l1: 0.899152\tvalid_1's l1: 1.23401\n",
      "[200]\ttraining's l1: 0.88784\tvalid_1's l1: 1.21326\n",
      "[300]\ttraining's l1: 0.884749\tvalid_1's l1: 1.20733\n",
      "[400]\ttraining's l1: 0.882769\tvalid_1's l1: 1.20445\n",
      "[500]\ttraining's l1: 0.878323\tvalid_1's l1: 1.19414\n",
      "[600]\ttraining's l1: 0.876616\tvalid_1's l1: 1.18902\n",
      "[700]\ttraining's l1: 0.875511\tvalid_1's l1: 1.18633\n",
      "[800]\ttraining's l1: 0.874798\tvalid_1's l1: 1.18513\n",
      "[900]\ttraining's l1: 0.873228\tvalid_1's l1: 1.18217\n",
      "[1000]\ttraining's l1: 0.872174\tvalid_1's l1: 1.18006\n",
      "[1100]\ttraining's l1: 0.87125\tvalid_1's l1: 1.17888\n",
      "[1200]\ttraining's l1: 0.87041\tvalid_1's l1: 1.17758\n",
      "[1300]\ttraining's l1: 0.869934\tvalid_1's l1: 1.17633\n",
      "[1400]\ttraining's l1: 0.869351\tvalid_1's l1: 1.17509\n",
      "[1500]\ttraining's l1: 0.868858\tvalid_1's l1: 1.17425\n",
      "[1600]\ttraining's l1: 0.868384\tvalid_1's l1: 1.17414\n",
      "[1700]\ttraining's l1: 0.867596\tvalid_1's l1: 1.1715\n",
      "[1800]\ttraining's l1: 0.866815\tvalid_1's l1: 1.16974\n",
      "[1900]\ttraining's l1: 0.865186\tvalid_1's l1: 1.16695\n",
      "[2000]\ttraining's l1: 0.864843\tvalid_1's l1: 1.16609\n",
      "[2100]\ttraining's l1: 0.863951\tvalid_1's l1: 1.16525\n",
      "[2200]\ttraining's l1: 0.863776\tvalid_1's l1: 1.16503\n",
      "[2300]\ttraining's l1: 0.86358\tvalid_1's l1: 1.16493\n",
      "[2400]\ttraining's l1: 0.862904\tvalid_1's l1: 1.163\n",
      "[2500]\ttraining's l1: 0.862751\tvalid_1's l1: 1.1628\n",
      "[2600]\ttraining's l1: 0.862522\tvalid_1's l1: 1.16278\n",
      "[2700]\ttraining's l1: 0.861995\tvalid_1's l1: 1.16211\n",
      "Early stopping, best iteration is:\n",
      "[2640]\ttraining's l1: 0.862402\tvalid_1's l1: 1.16204\n"
     ]
    },
    {
     "name": "stderr",
     "output_type": "stream",
     "text": [
      "\u001b[32m[I 2021-07-11 22:54:14,724]\u001b[0m Trial 15 finished with value: -1.161703675843383 and parameters: {'max_depth': 3, 'min_child_weight': 13, 'subsample': 0.5, 'colsample_bytree': 0.9, 'reg_lambda': 0.9580016212351777, 'reg_alpha': 2.6748305950105573, 'feature_fraction': 0.9404329949444199, 'bagging_fraction': 0.5473241009035232, 'bagging_freq': 10}. Best is trial 12 with value: -1.1492967945255332.\u001b[0m\n"
     ]
    },
    {
     "name": "stdout",
     "output_type": "stream",
     "text": [
      "[LightGBM] [Warning] feature_fraction is set=0.998265385267309, colsample_bytree=0.8 will be ignored. Current value: feature_fraction=0.998265385267309\n",
      "[LightGBM] [Warning] bagging_fraction is set=0.8905551334727427, subsample=0.8 will be ignored. Current value: bagging_fraction=0.8905551334727427\n",
      "[LightGBM] [Warning] bagging_freq is set=8, subsample_freq=0 will be ignored. Current value: bagging_freq=8\n",
      "Training until validation scores don't improve for 100 rounds\n",
      "[100]\ttraining's l1: 0.886346\tvalid_1's l1: 1.21739\n",
      "[200]\ttraining's l1: 0.885629\tvalid_1's l1: 1.21592\n",
      "[300]\ttraining's l1: 0.884783\tvalid_1's l1: 1.21418\n",
      "[400]\ttraining's l1: 0.884783\tvalid_1's l1: 1.21418\n",
      "[500]\ttraining's l1: 0.884783\tvalid_1's l1: 1.21418\n",
      "[600]\ttraining's l1: 0.884331\tvalid_1's l1: 1.21313\n"
     ]
    },
    {
     "name": "stderr",
     "output_type": "stream",
     "text": [
      "\u001b[32m[I 2021-07-11 22:54:36,506]\u001b[0m Trial 16 finished with value: -1.21312609778094 and parameters: {'max_depth': 8, 'min_child_weight': 9, 'subsample': 0.8, 'colsample_bytree': 0.8, 'reg_lambda': 73.90787068561353, 'reg_alpha': 0.0535910249507608, 'feature_fraction': 0.998265385267309, 'bagging_fraction': 0.8905551334727427, 'bagging_freq': 8}. Best is trial 12 with value: -1.1492967945255332.\u001b[0m\n"
     ]
    },
    {
     "name": "stdout",
     "output_type": "stream",
     "text": [
      "Early stopping, best iteration is:\n",
      "[579]\ttraining's l1: 0.884331\tvalid_1's l1: 1.21313\n",
      "[LightGBM] [Warning] feature_fraction is set=0.9217055281008679, colsample_bytree=0.9 will be ignored. Current value: feature_fraction=0.9217055281008679\n",
      "[LightGBM] [Warning] bagging_fraction is set=0.9898899159426624, subsample=0.6 will be ignored. Current value: bagging_fraction=0.9898899159426624\n",
      "[LightGBM] [Warning] bagging_freq is set=1, subsample_freq=0 will be ignored. Current value: bagging_freq=1\n",
      "Training until validation scores don't improve for 100 rounds\n",
      "[100]\ttraining's l1: 0.883882\tvalid_1's l1: 1.21119\n",
      "[200]\ttraining's l1: 0.874803\tvalid_1's l1: 1.19549\n",
      "[300]\ttraining's l1: 0.872334\tvalid_1's l1: 1.19152\n",
      "[400]\ttraining's l1: 0.86906\tvalid_1's l1: 1.18664\n",
      "[500]\ttraining's l1: 0.867018\tvalid_1's l1: 1.18344\n",
      "[600]\ttraining's l1: 0.865971\tvalid_1's l1: 1.18123\n",
      "[700]\ttraining's l1: 0.865006\tvalid_1's l1: 1.17995\n",
      "[800]\ttraining's l1: 0.863188\tvalid_1's l1: 1.17675\n",
      "[900]\ttraining's l1: 0.861625\tvalid_1's l1: 1.17367\n",
      "[1000]\ttraining's l1: 0.857176\tvalid_1's l1: 1.16435\n",
      "[1100]\ttraining's l1: 0.856366\tvalid_1's l1: 1.16354\n",
      "[1200]\ttraining's l1: 0.855949\tvalid_1's l1: 1.16272\n",
      "Early stopping, best iteration is:\n",
      "[1192]\ttraining's l1: 0.855951\tvalid_1's l1: 1.16272\n"
     ]
    },
    {
     "name": "stderr",
     "output_type": "stream",
     "text": [
      "\u001b[32m[I 2021-07-11 22:55:07,687]\u001b[0m Trial 17 finished with value: -1.1624738937508234 and parameters: {'max_depth': 4, 'min_child_weight': 6, 'subsample': 0.6, 'colsample_bytree': 0.9, 'reg_lambda': 1.8877558272106396, 'reg_alpha': 0.0010112691825423228, 'feature_fraction': 0.9217055281008679, 'bagging_fraction': 0.9898899159426624, 'bagging_freq': 1}. Best is trial 12 with value: -1.1492967945255332.\u001b[0m\n"
     ]
    },
    {
     "name": "stdout",
     "output_type": "stream",
     "text": [
      "[LightGBM] [Warning] feature_fraction is set=0.723984402409559, colsample_bytree=0.8 will be ignored. Current value: feature_fraction=0.723984402409559\n",
      "[LightGBM] [Warning] bagging_fraction is set=0.8491204505027863, subsample=0.7 will be ignored. Current value: bagging_fraction=0.8491204505027863\n",
      "[LightGBM] [Warning] bagging_freq is set=9, subsample_freq=0 will be ignored. Current value: bagging_freq=9\n",
      "Training until validation scores don't improve for 100 rounds\n",
      "[100]\ttraining's l1: 0.888079\tvalid_1's l1: 1.21942\n",
      "[200]\ttraining's l1: 0.88801\tvalid_1's l1: 1.21925\n"
     ]
    },
    {
     "name": "stderr",
     "output_type": "stream",
     "text": [
      "\u001b[32m[I 2021-07-11 22:55:15,724]\u001b[0m Trial 18 finished with value: -1.2192447524879941 and parameters: {'max_depth': 19, 'min_child_weight': 13, 'subsample': 0.7, 'colsample_bytree': 0.8, 'reg_lambda': 0.6029035927516979, 'reg_alpha': 1.1907600246375525, 'feature_fraction': 0.723984402409559, 'bagging_fraction': 0.8491204505027863, 'bagging_freq': 9}. Best is trial 12 with value: -1.1492967945255332.\u001b[0m\n"
     ]
    },
    {
     "name": "stdout",
     "output_type": "stream",
     "text": [
      "Early stopping, best iteration is:\n",
      "[155]\ttraining's l1: 0.888011\tvalid_1's l1: 1.21925\n",
      "[LightGBM] [Warning] feature_fraction is set=0.9596370146018205, colsample_bytree=0.9 will be ignored. Current value: feature_fraction=0.9596370146018205\n",
      "[LightGBM] [Warning] bagging_fraction is set=0.7128758302966427, subsample=0.5 will be ignored. Current value: bagging_fraction=0.7128758302966427\n",
      "[LightGBM] [Warning] bagging_freq is set=8, subsample_freq=0 will be ignored. Current value: bagging_freq=8\n",
      "Training until validation scores don't improve for 100 rounds\n",
      "[100]\ttraining's l1: 0.885756\tvalid_1's l1: 1.21541\n",
      "[200]\ttraining's l1: 0.882581\tvalid_1's l1: 1.20844\n",
      "[300]\ttraining's l1: 0.878347\tvalid_1's l1: 1.19861\n",
      "[400]\ttraining's l1: 0.877574\tvalid_1's l1: 1.19716\n",
      "[500]\ttraining's l1: 0.877573\tvalid_1's l1: 1.19716\n",
      "[600]\ttraining's l1: 0.877571\tvalid_1's l1: 1.19716\n"
     ]
    },
    {
     "name": "stderr",
     "output_type": "stream",
     "text": [
      "\u001b[32m[I 2021-07-11 22:55:33,423]\u001b[0m Trial 19 finished with value: -1.197140104888874 and parameters: {'max_depth': 8, 'min_child_weight': 7, 'subsample': 0.5, 'colsample_bytree': 0.9, 'reg_lambda': 48.50105527683372, 'reg_alpha': 0.17056910230600866, 'feature_fraction': 0.9596370146018205, 'bagging_fraction': 0.7128758302966427, 'bagging_freq': 8}. Best is trial 12 with value: -1.1492967945255332.\u001b[0m\n"
     ]
    },
    {
     "name": "stdout",
     "output_type": "stream",
     "text": [
      "Early stopping, best iteration is:\n",
      "[554]\ttraining's l1: 0.877572\tvalid_1's l1: 1.19716\n",
      "[LightGBM] [Warning] feature_fraction is set=0.8643272375068787, colsample_bytree=0.8 will be ignored. Current value: feature_fraction=0.8643272375068787\n",
      "[LightGBM] [Warning] bagging_fraction is set=0.9313461432115578, subsample=0.8 will be ignored. Current value: bagging_fraction=0.9313461432115578\n",
      "[LightGBM] [Warning] bagging_freq is set=7, subsample_freq=0 will be ignored. Current value: bagging_freq=7\n",
      "Training until validation scores don't improve for 100 rounds\n",
      "[100]\ttraining's l1: 0.895587\tvalid_1's l1: 1.22832\n",
      "[200]\ttraining's l1: 0.88436\tvalid_1's l1: 1.20865\n",
      "[300]\ttraining's l1: 0.881929\tvalid_1's l1: 1.20396\n",
      "[400]\ttraining's l1: 0.880632\tvalid_1's l1: 1.20136\n",
      "[500]\ttraining's l1: 0.87866\tvalid_1's l1: 1.19677\n",
      "[600]\ttraining's l1: 0.877701\tvalid_1's l1: 1.19449\n",
      "[700]\ttraining's l1: 0.875882\tvalid_1's l1: 1.19111\n",
      "[800]\ttraining's l1: 0.874462\tvalid_1's l1: 1.18869\n",
      "[900]\ttraining's l1: 0.873328\tvalid_1's l1: 1.18627\n",
      "[1000]\ttraining's l1: 0.872586\tvalid_1's l1: 1.18536\n",
      "[1100]\ttraining's l1: 0.871863\tvalid_1's l1: 1.18447\n",
      "[1200]\ttraining's l1: 0.870964\tvalid_1's l1: 1.18226\n",
      "[1300]\ttraining's l1: 0.869407\tvalid_1's l1: 1.17984\n",
      "[1400]\ttraining's l1: 0.869049\tvalid_1's l1: 1.17954\n",
      "[1500]\ttraining's l1: 0.867756\tvalid_1's l1: 1.17611\n",
      "[1600]\ttraining's l1: 0.867639\tvalid_1's l1: 1.1759\n",
      "Early stopping, best iteration is:\n",
      "[1510]\ttraining's l1: 0.867678\tvalid_1's l1: 1.1759\n"
     ]
    },
    {
     "name": "stderr",
     "output_type": "stream",
     "text": [
      "\u001b[32m[I 2021-07-11 22:56:15,250]\u001b[0m Trial 20 finished with value: -1.1757170175546388 and parameters: {'max_depth': 3, 'min_child_weight': 11, 'subsample': 0.8, 'colsample_bytree': 0.8, 'reg_lambda': 8.263996275257965, 'reg_alpha': 12.774899582546297, 'feature_fraction': 0.8643272375068787, 'bagging_fraction': 0.9313461432115578, 'bagging_freq': 7}. Best is trial 12 with value: -1.1492967945255332.\u001b[0m\n"
     ]
    },
    {
     "name": "stdout",
     "output_type": "stream",
     "text": [
      "[LightGBM] [Warning] feature_fraction is set=0.9905737277558454, colsample_bytree=0.8 will be ignored. Current value: feature_fraction=0.9905737277558454\n",
      "[LightGBM] [Warning] bagging_fraction is set=0.8773689980193152, subsample=0.7 will be ignored. Current value: bagging_fraction=0.8773689980193152\n",
      "[LightGBM] [Warning] bagging_freq is set=7, subsample_freq=0 will be ignored. Current value: bagging_freq=7\n",
      "Training until validation scores don't improve for 100 rounds\n",
      "[100]\ttraining's l1: 0.872835\tvalid_1's l1: 1.19797\n",
      "[200]\ttraining's l1: 0.868114\tvalid_1's l1: 1.18843\n",
      "[300]\ttraining's l1: 0.865253\tvalid_1's l1: 1.18233\n",
      "[400]\ttraining's l1: 0.860744\tvalid_1's l1: 1.17421\n",
      "[500]\ttraining's l1: 0.857604\tvalid_1's l1: 1.16963\n",
      "[600]\ttraining's l1: 0.856072\tvalid_1's l1: 1.16825\n",
      "[700]\ttraining's l1: 0.855441\tvalid_1's l1: 1.16749\n",
      "[800]\ttraining's l1: 0.854297\tvalid_1's l1: 1.16567\n",
      "[900]\ttraining's l1: 0.853051\tvalid_1's l1: 1.16413\n",
      "[1000]\ttraining's l1: 0.851653\tvalid_1's l1: 1.16174\n",
      "[1100]\ttraining's l1: 0.850622\tvalid_1's l1: 1.16104\n",
      "[1200]\ttraining's l1: 0.849591\tvalid_1's l1: 1.16007\n",
      "[1300]\ttraining's l1: 0.848024\tvalid_1's l1: 1.15831\n",
      "[1400]\ttraining's l1: 0.847746\tvalid_1's l1: 1.15812\n",
      "Early stopping, best iteration is:\n",
      "[1389]\ttraining's l1: 0.847767\tvalid_1's l1: 1.15806\n"
     ]
    },
    {
     "name": "stderr",
     "output_type": "stream",
     "text": [
      "\u001b[32m[I 2021-07-11 22:56:59,348]\u001b[0m Trial 21 finished with value: -1.157724417506246 and parameters: {'max_depth': 5, 'min_child_weight': 5, 'subsample': 0.7, 'colsample_bytree': 0.8, 'reg_lambda': 27.851797568661365, 'reg_alpha': 0.023925109883906857, 'feature_fraction': 0.9905737277558454, 'bagging_fraction': 0.8773689980193152, 'bagging_freq': 7}. Best is trial 12 with value: -1.1492967945255332.\u001b[0m\n"
     ]
    },
    {
     "name": "stdout",
     "output_type": "stream",
     "text": [
      "[LightGBM] [Warning] feature_fraction is set=0.9629689644080689, colsample_bytree=0.9 will be ignored. Current value: feature_fraction=0.9629689644080689\n",
      "[LightGBM] [Warning] bagging_fraction is set=0.8608140469245147, subsample=0.7 will be ignored. Current value: bagging_fraction=0.8608140469245147\n",
      "[LightGBM] [Warning] bagging_freq is set=7, subsample_freq=0 will be ignored. Current value: bagging_freq=7\n",
      "Training until validation scores don't improve for 100 rounds\n",
      "[100]\ttraining's l1: 0.887383\tvalid_1's l1: 1.21561\n",
      "[200]\ttraining's l1: 0.887381\tvalid_1's l1: 1.2156\n",
      "[300]\ttraining's l1: 0.887371\tvalid_1's l1: 1.21561\n"
     ]
    },
    {
     "name": "stderr",
     "output_type": "stream",
     "text": [
      "\u001b[32m[I 2021-07-11 22:57:10,691]\u001b[0m Trial 22 finished with value: -1.2156014606326313 and parameters: {'max_depth': 9, 'min_child_weight': 4, 'subsample': 0.7, 'colsample_bytree': 0.9, 'reg_lambda': 22.037419858854925, 'reg_alpha': 0.02982492362131126, 'feature_fraction': 0.9629689644080689, 'bagging_fraction': 0.8608140469245147, 'bagging_freq': 7}. Best is trial 12 with value: -1.1492967945255332.\u001b[0m\n"
     ]
    },
    {
     "name": "stdout",
     "output_type": "stream",
     "text": [
      "Early stopping, best iteration is:\n",
      "[229]\ttraining's l1: 0.887379\tvalid_1's l1: 1.2156\n",
      "[LightGBM] [Warning] feature_fraction is set=0.8981009734705988, colsample_bytree=0.8 will be ignored. Current value: feature_fraction=0.8981009734705988\n",
      "[LightGBM] [Warning] bagging_fraction is set=0.9985180831573248, subsample=0.6 will be ignored. Current value: bagging_fraction=0.9985180831573248\n",
      "[LightGBM] [Warning] bagging_freq is set=9, subsample_freq=0 will be ignored. Current value: bagging_freq=9\n",
      "Training until validation scores don't improve for 100 rounds\n",
      "[100]\ttraining's l1: 0.868679\tvalid_1's l1: 1.18991\n",
      "[200]\ttraining's l1: 0.862282\tvalid_1's l1: 1.18014\n",
      "[300]\ttraining's l1: 0.858536\tvalid_1's l1: 1.17286\n",
      "[400]\ttraining's l1: 0.856903\tvalid_1's l1: 1.1696\n"
     ]
    },
    {
     "name": "stderr",
     "output_type": "stream",
     "text": [
      "\u001b[32m[I 2021-07-11 22:57:27,036]\u001b[0m Trial 23 finished with value: -1.1694804690340854 and parameters: {'max_depth': 5, 'min_child_weight': 4, 'subsample': 0.6, 'colsample_bytree': 0.8, 'reg_lambda': 3.3828277808162173, 'reg_alpha': 0.0010657213157849589, 'feature_fraction': 0.8981009734705988, 'bagging_fraction': 0.9985180831573248, 'bagging_freq': 9}. Best is trial 12 with value: -1.1492967945255332.\u001b[0m\n"
     ]
    },
    {
     "name": "stdout",
     "output_type": "stream",
     "text": [
      "Early stopping, best iteration is:\n",
      "[393]\ttraining's l1: 0.856944\tvalid_1's l1: 1.16958\n",
      "[LightGBM] [Warning] feature_fraction is set=0.9855910693602998, colsample_bytree=0.9 will be ignored. Current value: feature_fraction=0.9855910693602998\n",
      "[LightGBM] [Warning] bagging_fraction is set=0.856284754338355, subsample=0.7 will be ignored. Current value: bagging_fraction=0.856284754338355\n",
      "[LightGBM] [Warning] bagging_freq is set=6, subsample_freq=0 will be ignored. Current value: bagging_freq=6\n",
      "Training until validation scores don't improve for 100 rounds\n",
      "[100]\ttraining's l1: 0.925751\tvalid_1's l1: 1.27434\n",
      "[200]\ttraining's l1: 0.920692\tvalid_1's l1: 1.26319\n",
      "[300]\ttraining's l1: 0.91698\tvalid_1's l1: 1.25532\n",
      "[400]\ttraining's l1: 0.914527\tvalid_1's l1: 1.24925\n",
      "[500]\ttraining's l1: 0.912241\tvalid_1's l1: 1.24478\n",
      "[600]\ttraining's l1: 0.910944\tvalid_1's l1: 1.24201\n",
      "[700]\ttraining's l1: 0.910522\tvalid_1's l1: 1.24096\n",
      "[800]\ttraining's l1: 0.910337\tvalid_1's l1: 1.24032\n",
      "[900]\ttraining's l1: 0.90983\tvalid_1's l1: 1.23927\n",
      "[1000]\ttraining's l1: 0.909389\tvalid_1's l1: 1.23837\n",
      "[1100]\ttraining's l1: 0.909262\tvalid_1's l1: 1.23788\n",
      "[1200]\ttraining's l1: 0.909154\tvalid_1's l1: 1.23749\n",
      "[1300]\ttraining's l1: 0.909031\tvalid_1's l1: 1.23717\n",
      "[1400]\ttraining's l1: 0.909002\tvalid_1's l1: 1.23713\n",
      "[1500]\ttraining's l1: 0.908939\tvalid_1's l1: 1.23697\n"
     ]
    },
    {
     "name": "stderr",
     "output_type": "stream",
     "text": [
      "\u001b[32m[I 2021-07-11 22:58:04,841]\u001b[0m Trial 24 finished with value: -1.2368059192193226 and parameters: {'max_depth': 2, 'min_child_weight': 1, 'subsample': 0.7, 'colsample_bytree': 0.9, 'reg_lambda': 111.35403207070166, 'reg_alpha': 0.01839143330917471, 'feature_fraction': 0.9855910693602998, 'bagging_fraction': 0.856284754338355, 'bagging_freq': 6}. Best is trial 12 with value: -1.1492967945255332.\u001b[0m\n"
     ]
    },
    {
     "name": "stdout",
     "output_type": "stream",
     "text": [
      "Early stopping, best iteration is:\n",
      "[1489]\ttraining's l1: 0.908942\tvalid_1's l1: 1.23697\n",
      "[LightGBM] [Warning] feature_fraction is set=0.8147187412637933, colsample_bytree=0.8 will be ignored. Current value: feature_fraction=0.8147187412637933\n",
      "[LightGBM] [Warning] bagging_fraction is set=0.9480519274078328, subsample=0.8 will be ignored. Current value: bagging_fraction=0.9480519274078328\n",
      "[LightGBM] [Warning] bagging_freq is set=10, subsample_freq=0 will be ignored. Current value: bagging_freq=10\n",
      "Training until validation scores don't improve for 100 rounds\n",
      "[100]\ttraining's l1: 0.880996\tvalid_1's l1: 1.205\n",
      "[200]\ttraining's l1: 0.878925\tvalid_1's l1: 1.20043\n",
      "[300]\ttraining's l1: 0.878869\tvalid_1's l1: 1.20045\n",
      "Early stopping, best iteration is:\n",
      "[205]\ttraining's l1: 0.878912\tvalid_1's l1: 1.20042\n"
     ]
    },
    {
     "name": "stderr",
     "output_type": "stream",
     "text": [
      "\u001b[32m[I 2021-07-11 22:58:14,815]\u001b[0m Trial 25 finished with value: -1.2003952511856908 and parameters: {'max_depth': 6, 'min_child_weight': 14, 'subsample': 0.8, 'colsample_bytree': 0.8, 'reg_lambda': 0.30358888886575336, 'reg_alpha': 0.40943119673039, 'feature_fraction': 0.8147187412637933, 'bagging_fraction': 0.9480519274078328, 'bagging_freq': 10}. Best is trial 12 with value: -1.1492967945255332.\u001b[0m\n"
     ]
    },
    {
     "name": "stdout",
     "output_type": "stream",
     "text": [
      "[LightGBM] [Warning] feature_fraction is set=0.9214064448598744, colsample_bytree=0.9 will be ignored. Current value: feature_fraction=0.9214064448598744\n",
      "[LightGBM] [Warning] bagging_fraction is set=0.7533978907661829, subsample=0.6 will be ignored. Current value: bagging_fraction=0.7533978907661829\n",
      "[LightGBM] [Warning] bagging_freq is set=8, subsample_freq=0 will be ignored. Current value: bagging_freq=8\n",
      "Training until validation scores don't improve for 100 rounds\n",
      "[100]\ttraining's l1: 0.887854\tvalid_1's l1: 1.21508\n",
      "[200]\ttraining's l1: 0.887169\tvalid_1's l1: 1.21394\n",
      "[300]\ttraining's l1: 0.88711\tvalid_1's l1: 1.21389\n"
     ]
    },
    {
     "name": "stderr",
     "output_type": "stream",
     "text": [
      "\u001b[32m[I 2021-07-11 22:58:25,206]\u001b[0m Trial 26 finished with value: -1.213891478933705 and parameters: {'max_depth': 9, 'min_child_weight': 10, 'subsample': 0.6, 'colsample_bytree': 0.9, 'reg_lambda': 20.22395899524162, 'reg_alpha': 0.08729301109725021, 'feature_fraction': 0.9214064448598744, 'bagging_fraction': 0.7533978907661829, 'bagging_freq': 8}. Best is trial 12 with value: -1.1492967945255332.\u001b[0m\n"
     ]
    },
    {
     "name": "stdout",
     "output_type": "stream",
     "text": [
      "Early stopping, best iteration is:\n",
      "[238]\ttraining's l1: 0.887112\tvalid_1's l1: 1.21389\n",
      "[LightGBM] [Warning] feature_fraction is set=0.8846363584450577, colsample_bytree=0.8 will be ignored. Current value: feature_fraction=0.8846363584450577\n",
      "[LightGBM] [Warning] bagging_fraction is set=0.8744275114823434, subsample=0.7 will be ignored. Current value: bagging_fraction=0.8744275114823434\n",
      "[LightGBM] [Warning] bagging_freq is set=9, subsample_freq=0 will be ignored. Current value: bagging_freq=9\n",
      "Training until validation scores don't improve for 100 rounds\n",
      "[100]\ttraining's l1: 0.888189\tvalid_1's l1: 1.21896\n",
      "[200]\ttraining's l1: 0.878753\tvalid_1's l1: 1.20253\n",
      "[300]\ttraining's l1: 0.873689\tvalid_1's l1: 1.19115\n",
      "[400]\ttraining's l1: 0.871068\tvalid_1's l1: 1.18628\n",
      "[500]\ttraining's l1: 0.868948\tvalid_1's l1: 1.18167\n",
      "[600]\ttraining's l1: 0.866643\tvalid_1's l1: 1.17645\n",
      "[700]\ttraining's l1: 0.865952\tvalid_1's l1: 1.17594\n"
     ]
    },
    {
     "name": "stderr",
     "output_type": "stream",
     "text": [
      "\u001b[32m[I 2021-07-11 22:58:44,824]\u001b[0m Trial 27 finished with value: -1.1756411937104476 and parameters: {'max_depth': 4, 'min_child_weight': 8, 'subsample': 0.7, 'colsample_bytree': 0.8, 'reg_lambda': 716.8082622888586, 'reg_alpha': 0.013121371845452305, 'feature_fraction': 0.8846363584450577, 'bagging_fraction': 0.8744275114823434, 'bagging_freq': 9}. Best is trial 12 with value: -1.1492967945255332.\u001b[0m\n"
     ]
    },
    {
     "name": "stdout",
     "output_type": "stream",
     "text": [
      "Early stopping, best iteration is:\n",
      "[630]\ttraining's l1: 0.86612\tvalid_1's l1: 1.17583\n",
      "[LightGBM] [Warning] feature_fraction is set=0.9520591630422282, colsample_bytree=0.9 will be ignored. Current value: feature_fraction=0.9520591630422282\n",
      "[LightGBM] [Warning] bagging_fraction is set=0.9567180950019366, subsample=0.8 will be ignored. Current value: bagging_fraction=0.9567180950019366\n",
      "[LightGBM] [Warning] bagging_freq is set=7, subsample_freq=0 will be ignored. Current value: bagging_freq=7\n",
      "Training until validation scores don't improve for 100 rounds\n",
      "[100]\ttraining's l1: 0.878091\tvalid_1's l1: 1.20218\n",
      "[200]\ttraining's l1: 0.874686\tvalid_1's l1: 1.19503\n",
      "[300]\ttraining's l1: 0.873321\tvalid_1's l1: 1.19255\n",
      "[400]\ttraining's l1: 0.872107\tvalid_1's l1: 1.19\n"
     ]
    },
    {
     "name": "stderr",
     "output_type": "stream",
     "text": [
      "\u001b[32m[I 2021-07-11 22:59:01,826]\u001b[0m Trial 28 finished with value: -1.1899560691392725 and parameters: {'max_depth': 6, 'min_child_weight': 11, 'subsample': 0.8, 'colsample_bytree': 0.9, 'reg_lambda': 1.8001689564094734, 'reg_alpha': 0.002402395284186806, 'feature_fraction': 0.9520591630422282, 'bagging_fraction': 0.9567180950019366, 'bagging_freq': 7}. Best is trial 12 with value: -1.1492967945255332.\u001b[0m\n"
     ]
    },
    {
     "name": "stdout",
     "output_type": "stream",
     "text": [
      "Early stopping, best iteration is:\n",
      "[397]\ttraining's l1: 0.872132\tvalid_1's l1: 1.19\n",
      "[LightGBM] [Warning] feature_fraction is set=0.6782191401837255, colsample_bytree=0.7 will be ignored. Current value: feature_fraction=0.6782191401837255\n",
      "[LightGBM] [Warning] bagging_fraction is set=0.8307825982408874, subsample=0.6 will be ignored. Current value: bagging_fraction=0.8307825982408874\n",
      "[LightGBM] [Warning] bagging_freq is set=5, subsample_freq=0 will be ignored. Current value: bagging_freq=5\n",
      "Training until validation scores don't improve for 100 rounds\n",
      "[100]\ttraining's l1: 0.925195\tvalid_1's l1: 1.27502\n",
      "[200]\ttraining's l1: 0.918223\tvalid_1's l1: 1.2597\n",
      "[300]\ttraining's l1: 0.914136\tvalid_1's l1: 1.25079\n",
      "[400]\ttraining's l1: 0.911662\tvalid_1's l1: 1.24525\n",
      "[500]\ttraining's l1: 0.910763\tvalid_1's l1: 1.24355\n",
      "[600]\ttraining's l1: 0.909936\tvalid_1's l1: 1.24209\n",
      "[700]\ttraining's l1: 0.909669\tvalid_1's l1: 1.24104\n",
      "[800]\ttraining's l1: 0.909073\tvalid_1's l1: 1.23948\n",
      "[900]\ttraining's l1: 0.908991\tvalid_1's l1: 1.23925\n",
      "[1000]\ttraining's l1: 0.908716\tvalid_1's l1: 1.23824\n"
     ]
    },
    {
     "name": "stderr",
     "output_type": "stream",
     "text": [
      "\u001b[32m[I 2021-07-11 22:59:25,070]\u001b[0m Trial 29 finished with value: -1.2380617857367588 and parameters: {'max_depth': 2, 'min_child_weight': 3, 'subsample': 0.6, 'colsample_bytree': 0.7, 'reg_lambda': 13.096082349997737, 'reg_alpha': 0.7588126572041695, 'feature_fraction': 0.6782191401837255, 'bagging_fraction': 0.8307825982408874, 'bagging_freq': 5}. Best is trial 12 with value: -1.1492967945255332.\u001b[0m\n"
     ]
    },
    {
     "name": "stdout",
     "output_type": "stream",
     "text": [
      "Early stopping, best iteration is:\n",
      "[972]\ttraining's l1: 0.908744\tvalid_1's l1: 1.23822\n",
      "[LightGBM] [Warning] feature_fraction is set=0.8423802993049943, colsample_bytree=0.8 will be ignored. Current value: feature_fraction=0.8423802993049943\n",
      "[LightGBM] [Warning] bagging_fraction is set=0.908380134233792, subsample=0.6 will be ignored. Current value: bagging_fraction=0.908380134233792\n",
      "[LightGBM] [Warning] bagging_freq is set=6, subsample_freq=0 will be ignored. Current value: bagging_freq=6\n",
      "Training until validation scores don't improve for 100 rounds\n",
      "[100]\ttraining's l1: 0.886316\tvalid_1's l1: 1.21488\n",
      "[200]\ttraining's l1: 0.879813\tvalid_1's l1: 1.20316\n",
      "[300]\ttraining's l1: 0.87529\tvalid_1's l1: 1.19414\n",
      "[400]\ttraining's l1: 0.871219\tvalid_1's l1: 1.18688\n",
      "[500]\ttraining's l1: 0.86687\tvalid_1's l1: 1.17906\n",
      "[600]\ttraining's l1: 0.8607\tvalid_1's l1: 1.16905\n",
      "[700]\ttraining's l1: 0.859756\tvalid_1's l1: 1.16708\n",
      "[800]\ttraining's l1: 0.858306\tvalid_1's l1: 1.16398\n",
      "[900]\ttraining's l1: 0.857566\tvalid_1's l1: 1.16308\n",
      "[1000]\ttraining's l1: 0.856396\tvalid_1's l1: 1.16191\n",
      "[1100]\ttraining's l1: 0.855663\tvalid_1's l1: 1.16129\n",
      "[1200]\ttraining's l1: 0.854151\tvalid_1's l1: 1.1586\n",
      "[1300]\ttraining's l1: 0.853591\tvalid_1's l1: 1.15856\n",
      "[1400]\ttraining's l1: 0.852887\tvalid_1's l1: 1.15736\n",
      "[1500]\ttraining's l1: 0.852206\tvalid_1's l1: 1.15635\n",
      "[1600]\ttraining's l1: 0.851454\tvalid_1's l1: 1.15578\n",
      "[1700]\ttraining's l1: 0.851134\tvalid_1's l1: 1.15552\n",
      "[1800]\ttraining's l1: 0.850643\tvalid_1's l1: 1.15391\n",
      "Early stopping, best iteration is:\n",
      "[1717]\ttraining's l1: 0.85065\tvalid_1's l1: 1.15388\n"
     ]
    },
    {
     "name": "stderr",
     "output_type": "stream",
     "text": [
      "\u001b[32m[I 2021-07-11 23:00:14,292]\u001b[0m Trial 30 finished with value: -1.153650791582889 and parameters: {'max_depth': 4, 'min_child_weight': 9, 'subsample': 0.6, 'colsample_bytree': 0.8, 'reg_lambda': 3.21446843364926, 'reg_alpha': 0.03983285983841818, 'feature_fraction': 0.8423802993049943, 'bagging_fraction': 0.908380134233792, 'bagging_freq': 6}. Best is trial 12 with value: -1.1492967945255332.\u001b[0m\n"
     ]
    },
    {
     "name": "stdout",
     "output_type": "stream",
     "text": [
      "[LightGBM] [Warning] feature_fraction is set=0.8188402301703283, colsample_bytree=0.8 will be ignored. Current value: feature_fraction=0.8188402301703283\n",
      "[LightGBM] [Warning] bagging_fraction is set=0.9150053171723244, subsample=0.6 will be ignored. Current value: bagging_fraction=0.9150053171723244\n",
      "[LightGBM] [Warning] bagging_freq is set=6, subsample_freq=0 will be ignored. Current value: bagging_freq=6\n",
      "Training until validation scores don't improve for 100 rounds\n",
      "[100]\ttraining's l1: 0.886618\tvalid_1's l1: 1.21586\n",
      "[200]\ttraining's l1: 0.88053\tvalid_1's l1: 1.20493\n",
      "[300]\ttraining's l1: 0.875331\tvalid_1's l1: 1.19544\n",
      "[400]\ttraining's l1: 0.87135\tvalid_1's l1: 1.18634\n",
      "[500]\ttraining's l1: 0.869422\tvalid_1's l1: 1.18339\n",
      "[600]\ttraining's l1: 0.867682\tvalid_1's l1: 1.18111\n",
      "[700]\ttraining's l1: 0.86309\tvalid_1's l1: 1.17316\n",
      "[800]\ttraining's l1: 0.860736\tvalid_1's l1: 1.16822\n",
      "[900]\ttraining's l1: 0.858626\tvalid_1's l1: 1.16547\n",
      "[1000]\ttraining's l1: 0.857177\tvalid_1's l1: 1.16273\n",
      "[1100]\ttraining's l1: 0.856417\tvalid_1's l1: 1.16173\n",
      "[1200]\ttraining's l1: 0.855697\tvalid_1's l1: 1.1607\n",
      "Early stopping, best iteration is:\n",
      "[1199]\ttraining's l1: 0.855697\tvalid_1's l1: 1.1607\n"
     ]
    },
    {
     "name": "stderr",
     "output_type": "stream",
     "text": [
      "\u001b[32m[I 2021-07-11 23:00:50,119]\u001b[0m Trial 31 finished with value: -1.160501311160242 and parameters: {'max_depth': 4, 'min_child_weight': 12, 'subsample': 0.6, 'colsample_bytree': 0.8, 'reg_lambda': 3.454055443355503, 'reg_alpha': 0.04126242999282548, 'feature_fraction': 0.8188402301703283, 'bagging_fraction': 0.9150053171723244, 'bagging_freq': 6}. Best is trial 12 with value: -1.1492967945255332.\u001b[0m\n"
     ]
    },
    {
     "name": "stdout",
     "output_type": "stream",
     "text": [
      "[LightGBM] [Warning] feature_fraction is set=0.9999600396802899, colsample_bytree=0.6 will be ignored. Current value: feature_fraction=0.9999600396802899\n",
      "[LightGBM] [Warning] bagging_fraction is set=0.7597774341086352, subsample=0.5 will be ignored. Current value: bagging_fraction=0.7597774341086352\n",
      "[LightGBM] [Warning] bagging_freq is set=7, subsample_freq=0 will be ignored. Current value: bagging_freq=7\n",
      "Training until validation scores don't improve for 100 rounds\n",
      "[100]\ttraining's l1: 0.879558\tvalid_1's l1: 1.20579\n",
      "[200]\ttraining's l1: 0.876599\tvalid_1's l1: 1.19806\n",
      "[300]\ttraining's l1: 0.875674\tvalid_1's l1: 1.19614\n",
      "[400]\ttraining's l1: 0.873\tvalid_1's l1: 1.19131\n",
      "[500]\ttraining's l1: 0.872325\tvalid_1's l1: 1.18988\n",
      "[600]\ttraining's l1: 0.8718\tvalid_1's l1: 1.18872\n",
      "[700]\ttraining's l1: 0.871131\tvalid_1's l1: 1.18758\n",
      "[800]\ttraining's l1: 0.870873\tvalid_1's l1: 1.18672\n"
     ]
    },
    {
     "name": "stderr",
     "output_type": "stream",
     "text": [
      "\u001b[32m[I 2021-07-11 23:01:13,382]\u001b[0m Trial 32 finished with value: -1.1865973039575848 and parameters: {'max_depth': 6, 'min_child_weight': 20, 'subsample': 0.5, 'colsample_bytree': 0.6, 'reg_lambda': 36.792758194654255, 'reg_alpha': 0.1299404401290641, 'feature_fraction': 0.9999600396802899, 'bagging_fraction': 0.7597774341086352, 'bagging_freq': 7}. Best is trial 12 with value: -1.1492967945255332.\u001b[0m\n"
     ]
    },
    {
     "name": "stdout",
     "output_type": "stream",
     "text": [
      "Early stopping, best iteration is:\n",
      "[741]\ttraining's l1: 0.87094\tvalid_1's l1: 1.1867\n",
      "[LightGBM] [Warning] feature_fraction is set=0.8473595993266004, colsample_bytree=0.7 will be ignored. Current value: feature_fraction=0.8473595993266004\n",
      "[LightGBM] [Warning] bagging_fraction is set=0.9787892465500577, subsample=0.7 will be ignored. Current value: bagging_fraction=0.9787892465500577\n",
      "[LightGBM] [Warning] bagging_freq is set=9, subsample_freq=0 will be ignored. Current value: bagging_freq=9\n",
      "Training until validation scores don't improve for 100 rounds\n",
      "[100]\ttraining's l1: 0.903563\tvalid_1's l1: 1.24178\n",
      "[200]\ttraining's l1: 0.891689\tvalid_1's l1: 1.22313\n",
      "[300]\ttraining's l1: 0.887002\tvalid_1's l1: 1.21347\n",
      "[400]\ttraining's l1: 0.884628\tvalid_1's l1: 1.20791\n",
      "[500]\ttraining's l1: 0.88314\tvalid_1's l1: 1.20478\n",
      "[600]\ttraining's l1: 0.880532\tvalid_1's l1: 1.1983\n",
      "[700]\ttraining's l1: 0.879136\tvalid_1's l1: 1.19603\n",
      "[800]\ttraining's l1: 0.876363\tvalid_1's l1: 1.19243\n",
      "[900]\ttraining's l1: 0.875248\tvalid_1's l1: 1.19135\n",
      "[1000]\ttraining's l1: 0.87454\tvalid_1's l1: 1.18885\n",
      "[1100]\ttraining's l1: 0.874137\tvalid_1's l1: 1.18804\n"
     ]
    },
    {
     "name": "stderr",
     "output_type": "stream",
     "text": [
      "\u001b[32m[I 2021-07-11 23:01:43,088]\u001b[0m Trial 33 finished with value: -1.1878215321181824 and parameters: {'max_depth': 3, 'min_child_weight': 9, 'subsample': 0.7, 'colsample_bytree': 0.7, 'reg_lambda': 7.263100940804834, 'reg_alpha': 0.07541974402929369, 'feature_fraction': 0.8473595993266004, 'bagging_fraction': 0.9787892465500577, 'bagging_freq': 9}. Best is trial 12 with value: -1.1492967945255332.\u001b[0m\n"
     ]
    },
    {
     "name": "stdout",
     "output_type": "stream",
     "text": [
      "Early stopping, best iteration is:\n",
      "[1021]\ttraining's l1: 0.874354\tvalid_1's l1: 1.18798\n",
      "[LightGBM] [Warning] feature_fraction is set=0.9215763162678386, colsample_bytree=0.8 will be ignored. Current value: feature_fraction=0.9215763162678386\n",
      "[LightGBM] [Warning] bagging_fraction is set=0.8985635227357814, subsample=0.7 will be ignored. Current value: bagging_fraction=0.8985635227357814\n",
      "[LightGBM] [Warning] bagging_freq is set=8, subsample_freq=0 will be ignored. Current value: bagging_freq=8\n",
      "Training until validation scores don't improve for 100 rounds\n",
      "[100]\ttraining's l1: 0.885089\tvalid_1's l1: 1.2161\n",
      "[200]\ttraining's l1: 0.88418\tvalid_1's l1: 1.21388\n",
      "[300]\ttraining's l1: 0.882582\tvalid_1's l1: 1.21104\n",
      "[400]\ttraining's l1: 0.881704\tvalid_1's l1: 1.20914\n"
     ]
    },
    {
     "name": "stderr",
     "output_type": "stream",
     "text": [
      "\u001b[32m[I 2021-07-11 23:01:57,659]\u001b[0m Trial 34 finished with value: -1.2091227375876603 and parameters: {'max_depth': 7, 'min_child_weight': 9, 'subsample': 0.7, 'colsample_bytree': 0.8, 'reg_lambda': 159.4900226635869, 'reg_alpha': 0.009114988658328129, 'feature_fraction': 0.9215763162678386, 'bagging_fraction': 0.8985635227357814, 'bagging_freq': 8}. Best is trial 12 with value: -1.1492967945255332.\u001b[0m\n"
     ]
    },
    {
     "name": "stdout",
     "output_type": "stream",
     "text": [
      "Early stopping, best iteration is:\n",
      "[355]\ttraining's l1: 0.88171\tvalid_1's l1: 1.20913\n",
      "[LightGBM] [Warning] feature_fraction is set=0.782757914941471, colsample_bytree=0.9 will be ignored. Current value: feature_fraction=0.782757914941471\n",
      "[LightGBM] [Warning] bagging_fraction is set=0.8301163706823256, subsample=0.5 will be ignored. Current value: bagging_fraction=0.8301163706823256\n",
      "[LightGBM] [Warning] bagging_freq is set=6, subsample_freq=0 will be ignored. Current value: bagging_freq=6\n",
      "Training until validation scores don't improve for 100 rounds\n",
      "[100]\ttraining's l1: 0.869171\tvalid_1's l1: 1.19164\n",
      "[200]\ttraining's l1: 0.865144\tvalid_1's l1: 1.18377\n",
      "[300]\ttraining's l1: 0.86236\tvalid_1's l1: 1.17958\n"
     ]
    },
    {
     "name": "stderr",
     "output_type": "stream",
     "text": [
      "\u001b[32m[I 2021-07-11 23:02:08,357]\u001b[0m Trial 35 finished with value: -1.1794883764059085 and parameters: {'max_depth': 5, 'min_child_weight': 6, 'subsample': 0.5, 'colsample_bytree': 0.9, 'reg_lambda': 2.168857756729701, 'reg_alpha': 0.24496976976161228, 'feature_fraction': 0.782757914941471, 'bagging_fraction': 0.8301163706823256, 'bagging_freq': 6}. Best is trial 12 with value: -1.1492967945255332.\u001b[0m\n"
     ]
    },
    {
     "name": "stdout",
     "output_type": "stream",
     "text": [
      "Early stopping, best iteration is:\n",
      "[259]\ttraining's l1: 0.862367\tvalid_1's l1: 1.17957\n",
      "[LightGBM] [Warning] feature_fraction is set=0.9695705072381595, colsample_bytree=0.7 will be ignored. Current value: feature_fraction=0.9695705072381595\n",
      "[LightGBM] [Warning] bagging_fraction is set=0.9357281849318848, subsample=0.6 will be ignored. Current value: bagging_fraction=0.9357281849318848\n",
      "[LightGBM] [Warning] bagging_freq is set=5, subsample_freq=0 will be ignored. Current value: bagging_freq=5\n",
      "Training until validation scores don't improve for 100 rounds\n",
      "[100]\ttraining's l1: 0.927203\tvalid_1's l1: 1.27699\n",
      "[200]\ttraining's l1: 0.925653\tvalid_1's l1: 1.27413\n",
      "[300]\ttraining's l1: 0.92525\tvalid_1's l1: 1.27332\n",
      "[400]\ttraining's l1: 0.925239\tvalid_1's l1: 1.27329\n",
      "[500]\ttraining's l1: 0.925239\tvalid_1's l1: 1.27329\n"
     ]
    },
    {
     "name": "stderr",
     "output_type": "stream",
     "text": [
      "\u001b[32m[I 2021-07-11 23:02:23,888]\u001b[0m Trial 36 finished with value: -1.2732564955747556 and parameters: {'max_depth': 2, 'min_child_weight': 12, 'subsample': 0.6, 'colsample_bytree': 0.7, 'reg_lambda': 0.43407523865460085, 'reg_alpha': 0.0025007224853689555, 'feature_fraction': 0.9695705072381595, 'bagging_fraction': 0.9357281849318848, 'bagging_freq': 5}. Best is trial 12 with value: -1.1492967945255332.\u001b[0m\n"
     ]
    },
    {
     "name": "stdout",
     "output_type": "stream",
     "text": [
      "Early stopping, best iteration is:\n",
      "[442]\ttraining's l1: 0.925239\tvalid_1's l1: 1.27329\n",
      "[LightGBM] [Warning] feature_fraction is set=0.5654783709847757, colsample_bytree=0.8 will be ignored. Current value: feature_fraction=0.5654783709847757\n",
      "[LightGBM] [Warning] bagging_fraction is set=0.794218894558686, subsample=0.7 will be ignored. Current value: bagging_fraction=0.794218894558686\n",
      "[LightGBM] [Warning] bagging_freq is set=8, subsample_freq=0 will be ignored. Current value: bagging_freq=8\n",
      "Training until validation scores don't improve for 100 rounds\n",
      "[100]\ttraining's l1: 0.883379\tvalid_1's l1: 1.20965\n",
      "[200]\ttraining's l1: 0.883164\tvalid_1's l1: 1.2094\n",
      "[300]\ttraining's l1: 0.883129\tvalid_1's l1: 1.20943\n"
     ]
    },
    {
     "name": "stderr",
     "output_type": "stream",
     "text": [
      "\u001b[32m[I 2021-07-11 23:02:36,123]\u001b[0m Trial 37 finished with value: -1.2093892335511565 and parameters: {'max_depth': 7, 'min_child_weight': 10, 'subsample': 0.7, 'colsample_bytree': 0.8, 'reg_lambda': 330.054351753033, 'reg_alpha': 0.03811414684240792, 'feature_fraction': 0.5654783709847757, 'bagging_fraction': 0.794218894558686, 'bagging_freq': 8}. Best is trial 12 with value: -1.1492967945255332.\u001b[0m\n"
     ]
    },
    {
     "name": "stdout",
     "output_type": "stream",
     "text": [
      "Early stopping, best iteration is:\n",
      "[218]\ttraining's l1: 0.883162\tvalid_1's l1: 1.2094\n",
      "[LightGBM] [Warning] feature_fraction is set=0.7253348516670095, colsample_bytree=0.9 will be ignored. Current value: feature_fraction=0.7253348516670095\n",
      "[LightGBM] [Warning] bagging_fraction is set=0.9990422150805341, subsample=0.5 will be ignored. Current value: bagging_fraction=0.9990422150805341\n",
      "[LightGBM] [Warning] bagging_freq is set=9, subsample_freq=0 will be ignored. Current value: bagging_freq=9\n",
      "Training until validation scores don't improve for 100 rounds\n",
      "[100]\ttraining's l1: 0.888223\tvalid_1's l1: 1.21911\n",
      "[200]\ttraining's l1: 0.888026\tvalid_1's l1: 1.21869\n"
     ]
    },
    {
     "name": "stderr",
     "output_type": "stream",
     "text": [
      "\u001b[32m[I 2021-07-11 23:02:44,375]\u001b[0m Trial 38 finished with value: -1.2186930692882203 and parameters: {'max_depth': 9, 'min_child_weight': 15, 'subsample': 0.5, 'colsample_bytree': 0.9, 'reg_lambda': 63.87530202029627, 'reg_alpha': 0.006501437239856329, 'feature_fraction': 0.7253348516670095, 'bagging_fraction': 0.9990422150805341, 'bagging_freq': 9}. Best is trial 12 with value: -1.1492967945255332.\u001b[0m\n"
     ]
    },
    {
     "name": "stdout",
     "output_type": "stream",
     "text": [
      "Early stopping, best iteration is:\n",
      "[133]\ttraining's l1: 0.888028\tvalid_1's l1: 1.21869\n",
      "[LightGBM] [Warning] feature_fraction is set=0.8830167266259453, colsample_bytree=0.9 will be ignored. Current value: feature_fraction=0.8830167266259453\n",
      "[LightGBM] [Warning] bagging_fraction is set=0.7622157962440816, subsample=0.6 will be ignored. Current value: bagging_fraction=0.7622157962440816\n",
      "[LightGBM] [Warning] bagging_freq is set=7, subsample_freq=0 will be ignored. Current value: bagging_freq=7\n",
      "Training until validation scores don't improve for 100 rounds\n",
      "[100]\ttraining's l1: 0.885932\tvalid_1's l1: 1.21752\n",
      "[200]\ttraining's l1: 0.885732\tvalid_1's l1: 1.217\n",
      "[300]\ttraining's l1: 0.884134\tvalid_1's l1: 1.2137\n",
      "[400]\ttraining's l1: 0.881334\tvalid_1's l1: 1.20854\n",
      "[500]\ttraining's l1: 0.879314\tvalid_1's l1: 1.20418\n",
      "[600]\ttraining's l1: 0.877172\tvalid_1's l1: 1.19958\n",
      "[700]\ttraining's l1: 0.874861\tvalid_1's l1: 1.19343\n",
      "[800]\ttraining's l1: 0.874526\tvalid_1's l1: 1.19261\n",
      "[900]\ttraining's l1: 0.873729\tvalid_1's l1: 1.19153\n",
      "[1000]\ttraining's l1: 0.872094\tvalid_1's l1: 1.18773\n",
      "[1100]\ttraining's l1: 0.869916\tvalid_1's l1: 1.18217\n",
      "[1200]\ttraining's l1: 0.866446\tvalid_1's l1: 1.17552\n",
      "[1300]\ttraining's l1: 0.865932\tvalid_1's l1: 1.17429\n",
      "Early stopping, best iteration is:\n",
      "[1204]\ttraining's l1: 0.866068\tvalid_1's l1: 1.17427\n"
     ]
    },
    {
     "name": "stderr",
     "output_type": "stream",
     "text": [
      "\u001b[32m[I 2021-07-11 23:03:18,755]\u001b[0m Trial 39 finished with value: -1.1741849326507325 and parameters: {'max_depth': 13, 'min_child_weight': 7, 'subsample': 0.6, 'colsample_bytree': 0.9, 'reg_lambda': 13.829804933465688, 'reg_alpha': 0.01422190912351321, 'feature_fraction': 0.8830167266259453, 'bagging_fraction': 0.7622157962440816, 'bagging_freq': 7}. Best is trial 12 with value: -1.1492967945255332.\u001b[0m\n"
     ]
    },
    {
     "name": "stdout",
     "output_type": "stream",
     "text": [
      "[LightGBM] [Warning] feature_fraction is set=0.9270448898972623, colsample_bytree=0.7 will be ignored. Current value: feature_fraction=0.9270448898972623\n",
      "[LightGBM] [Warning] bagging_fraction is set=0.8248459384623761, subsample=0.6 will be ignored. Current value: bagging_fraction=0.8248459384623761\n",
      "[LightGBM] [Warning] bagging_freq is set=6, subsample_freq=0 will be ignored. Current value: bagging_freq=6\n",
      "Training until validation scores don't improve for 100 rounds\n",
      "[100]\ttraining's l1: 0.868608\tvalid_1's l1: 1.18948\n",
      "[200]\ttraining's l1: 0.86094\tvalid_1's l1: 1.17644\n",
      "[300]\ttraining's l1: 0.856876\tvalid_1's l1: 1.16916\n",
      "[400]\ttraining's l1: 0.853345\tvalid_1's l1: 1.16385\n",
      "[500]\ttraining's l1: 0.850634\tvalid_1's l1: 1.16072\n",
      "[600]\ttraining's l1: 0.847694\tvalid_1's l1: 1.15611\n"
     ]
    },
    {
     "name": "stderr",
     "output_type": "stream",
     "text": [
      "\u001b[32m[I 2021-07-11 23:03:39,813]\u001b[0m Trial 40 finished with value: -1.1559380642182426 and parameters: {'max_depth': 5, 'min_child_weight': 5, 'subsample': 0.6, 'colsample_bytree': 0.7, 'reg_lambda': 0.109647385619761, 'reg_alpha': 0.09062902836565605, 'feature_fraction': 0.9270448898972623, 'bagging_fraction': 0.8248459384623761, 'bagging_freq': 6}. Best is trial 12 with value: -1.1492967945255332.\u001b[0m\n"
     ]
    },
    {
     "name": "stdout",
     "output_type": "stream",
     "text": [
      "[700]\ttraining's l1: 0.847605\tvalid_1's l1: 1.15621\n",
      "Early stopping, best iteration is:\n",
      "[601]\ttraining's l1: 0.847694\tvalid_1's l1: 1.15611\n",
      "[LightGBM] [Warning] feature_fraction is set=0.9360399552861106, colsample_bytree=0.6 will be ignored. Current value: feature_fraction=0.9360399552861106\n",
      "[LightGBM] [Warning] bagging_fraction is set=0.8254988871242595, subsample=0.6 will be ignored. Current value: bagging_fraction=0.8254988871242595\n",
      "[LightGBM] [Warning] bagging_freq is set=6, subsample_freq=0 will be ignored. Current value: bagging_freq=6\n",
      "Training until validation scores don't improve for 100 rounds\n",
      "[100]\ttraining's l1: 0.870882\tvalid_1's l1: 1.19517\n",
      "[200]\ttraining's l1: 0.863574\tvalid_1's l1: 1.18361\n",
      "[300]\ttraining's l1: 0.860955\tvalid_1's l1: 1.17821\n",
      "[400]\ttraining's l1: 0.856291\tvalid_1's l1: 1.17048\n",
      "[500]\ttraining's l1: 0.855061\tvalid_1's l1: 1.16821\n",
      "[600]\ttraining's l1: 0.854095\tvalid_1's l1: 1.1665\n",
      "[700]\ttraining's l1: 0.852997\tvalid_1's l1: 1.16543\n",
      "[800]\ttraining's l1: 0.852173\tvalid_1's l1: 1.16419\n",
      "[900]\ttraining's l1: 0.85214\tvalid_1's l1: 1.1642\n"
     ]
    },
    {
     "name": "stderr",
     "output_type": "stream",
     "text": [
      "\u001b[32m[I 2021-07-11 23:04:07,031]\u001b[0m Trial 41 finished with value: -1.1639847150082843 and parameters: {'max_depth': 5, 'min_child_weight': 5, 'subsample': 0.6, 'colsample_bytree': 0.6, 'reg_lambda': 0.06471833240995777, 'reg_alpha': 0.08971078357963509, 'feature_fraction': 0.9360399552861106, 'bagging_fraction': 0.8254988871242595, 'bagging_freq': 6}. Best is trial 12 with value: -1.1492967945255332.\u001b[0m\n"
     ]
    },
    {
     "name": "stdout",
     "output_type": "stream",
     "text": [
      "Early stopping, best iteration is:\n",
      "[819]\ttraining's l1: 0.85216\tvalid_1's l1: 1.16415\n",
      "[LightGBM] [Warning] feature_fraction is set=0.9705315442542688, colsample_bytree=0.7 will be ignored. Current value: feature_fraction=0.9705315442542688\n",
      "[LightGBM] [Warning] bagging_fraction is set=0.8762929544558392, subsample=0.5 will be ignored. Current value: bagging_fraction=0.8762929544558392\n",
      "[LightGBM] [Warning] bagging_freq is set=5, subsample_freq=0 will be ignored. Current value: bagging_freq=5\n",
      "Training until validation scores don't improve for 100 rounds\n",
      "[100]\ttraining's l1: 0.887728\tvalid_1's l1: 1.21621\n",
      "[200]\ttraining's l1: 0.879087\tvalid_1's l1: 1.20168\n",
      "[300]\ttraining's l1: 0.876997\tvalid_1's l1: 1.19776\n",
      "[400]\ttraining's l1: 0.875594\tvalid_1's l1: 1.19452\n",
      "[500]\ttraining's l1: 0.873979\tvalid_1's l1: 1.19186\n",
      "[600]\ttraining's l1: 0.86923\tvalid_1's l1: 1.18177\n",
      "[700]\ttraining's l1: 0.867346\tvalid_1's l1: 1.17899\n",
      "[800]\ttraining's l1: 0.862488\tvalid_1's l1: 1.17164\n",
      "[900]\ttraining's l1: 0.861706\tvalid_1's l1: 1.17067\n",
      "[1000]\ttraining's l1: 0.860891\tvalid_1's l1: 1.16919\n",
      "[1100]\ttraining's l1: 0.860552\tvalid_1's l1: 1.16853\n",
      "[1200]\ttraining's l1: 0.857575\tvalid_1's l1: 1.16277\n",
      "[1300]\ttraining's l1: 0.856355\tvalid_1's l1: 1.16099\n",
      "[1400]\ttraining's l1: 0.855552\tvalid_1's l1: 1.16036\n",
      "[1500]\ttraining's l1: 0.85486\tvalid_1's l1: 1.15919\n",
      "[1600]\ttraining's l1: 0.853952\tvalid_1's l1: 1.15873\n",
      "Early stopping, best iteration is:\n",
      "[1518]\ttraining's l1: 0.854522\tvalid_1's l1: 1.1583\n"
     ]
    },
    {
     "name": "stderr",
     "output_type": "stream",
     "text": [
      "\u001b[32m[I 2021-07-11 23:04:54,255]\u001b[0m Trial 42 finished with value: -1.1581121358659219 and parameters: {'max_depth': 4, 'min_child_weight': 2, 'subsample': 0.5, 'colsample_bytree': 0.7, 'reg_lambda': 0.01778795496411028, 'reg_alpha': 0.3164997843604355, 'feature_fraction': 0.9705315442542688, 'bagging_fraction': 0.8762929544558392, 'bagging_freq': 5}. Best is trial 12 with value: -1.1492967945255332.\u001b[0m\n"
     ]
    },
    {
     "name": "stdout",
     "output_type": "stream",
     "text": [
      "[LightGBM] [Warning] feature_fraction is set=0.9098129499894074, colsample_bytree=0.7 will be ignored. Current value: feature_fraction=0.9098129499894074\n",
      "[LightGBM] [Warning] bagging_fraction is set=0.9135491398619128, subsample=0.6 will be ignored. Current value: bagging_fraction=0.9135491398619128\n",
      "[LightGBM] [Warning] bagging_freq is set=6, subsample_freq=0 will be ignored. Current value: bagging_freq=6\n",
      "Training until validation scores don't improve for 100 rounds\n",
      "[100]\ttraining's l1: 0.886969\tvalid_1's l1: 1.21749\n",
      "[200]\ttraining's l1: 0.884685\tvalid_1's l1: 1.21273\n",
      "[300]\ttraining's l1: 0.884656\tvalid_1's l1: 1.21268\n"
     ]
    },
    {
     "name": "stderr",
     "output_type": "stream",
     "text": [
      "\u001b[32m[I 2021-07-11 23:05:07,878]\u001b[0m Trial 43 finished with value: -1.212671207088488 and parameters: {'max_depth': 7, 'min_child_weight': 8, 'subsample': 0.6, 'colsample_bytree': 0.7, 'reg_lambda': 0.9925207172222563, 'reg_alpha': 0.6643078428085326, 'feature_fraction': 0.9098129499894074, 'bagging_fraction': 0.9135491398619128, 'bagging_freq': 6}. Best is trial 12 with value: -1.1492967945255332.\u001b[0m\n"
     ]
    },
    {
     "name": "stdout",
     "output_type": "stream",
     "text": [
      "Early stopping, best iteration is:\n",
      "[288]\ttraining's l1: 0.884667\tvalid_1's l1: 1.21268\n",
      "[LightGBM] [Warning] feature_fraction is set=0.8578149093547908, colsample_bytree=0.6 will be ignored. Current value: feature_fraction=0.8578149093547908\n",
      "[LightGBM] [Warning] bagging_fraction is set=0.7268422361248142, subsample=0.7 will be ignored. Current value: bagging_fraction=0.7268422361248142\n",
      "[LightGBM] [Warning] bagging_freq is set=7, subsample_freq=0 will be ignored. Current value: bagging_freq=7\n",
      "Training until validation scores don't improve for 100 rounds\n",
      "[100]\ttraining's l1: 0.999804\tvalid_1's l1: 1.39275\n"
     ]
    },
    {
     "name": "stderr",
     "output_type": "stream",
     "text": [
      "\u001b[32m[I 2021-07-11 23:05:11,341]\u001b[0m Trial 44 finished with value: -1.3927398519996836 and parameters: {'max_depth': 1, 'min_child_weight': 5, 'subsample': 0.7, 'colsample_bytree': 0.6, 'reg_lambda': 0.0030130234722178535, 'reg_alpha': 0.13393251221199853, 'feature_fraction': 0.8578149093547908, 'bagging_fraction': 0.7268422361248142, 'bagging_freq': 7}. Best is trial 12 with value: -1.1492967945255332.\u001b[0m\n"
     ]
    },
    {
     "name": "stdout",
     "output_type": "stream",
     "text": [
      "Early stopping, best iteration is:\n",
      "[23]\ttraining's l1: 0.999843\tvalid_1's l1: 1.39274\n",
      "[LightGBM] [Warning] feature_fraction is set=0.9984892076789217, colsample_bytree=0.7 will be ignored. Current value: feature_fraction=0.9984892076789217\n",
      "[LightGBM] [Warning] bagging_fraction is set=0.6773873569312625, subsample=0.7 will be ignored. Current value: bagging_fraction=0.6773873569312625\n",
      "[LightGBM] [Warning] bagging_freq is set=5, subsample_freq=0 will be ignored. Current value: bagging_freq=5\n",
      "Training until validation scores don't improve for 100 rounds\n",
      "[100]\ttraining's l1: 0.901706\tvalid_1's l1: 1.23745\n",
      "[200]\ttraining's l1: 0.891508\tvalid_1's l1: 1.21973\n",
      "[300]\ttraining's l1: 0.887001\tvalid_1's l1: 1.21281\n",
      "[400]\ttraining's l1: 0.883782\tvalid_1's l1: 1.20612\n",
      "[500]\ttraining's l1: 0.881791\tvalid_1's l1: 1.20114\n",
      "[600]\ttraining's l1: 0.880536\tvalid_1's l1: 1.19888\n",
      "[700]\ttraining's l1: 0.879079\tvalid_1's l1: 1.19705\n",
      "[800]\ttraining's l1: 0.876704\tvalid_1's l1: 1.19163\n",
      "[900]\ttraining's l1: 0.874794\tvalid_1's l1: 1.18773\n",
      "[1000]\ttraining's l1: 0.873705\tvalid_1's l1: 1.18555\n",
      "[1100]\ttraining's l1: 0.872818\tvalid_1's l1: 1.18411\n",
      "[1200]\ttraining's l1: 0.8716\tvalid_1's l1: 1.18206\n",
      "[1300]\ttraining's l1: 0.871234\tvalid_1's l1: 1.18153\n",
      "[1400]\ttraining's l1: 0.87003\tvalid_1's l1: 1.17896\n",
      "[1500]\ttraining's l1: 0.869378\tvalid_1's l1: 1.17828\n",
      "[1600]\ttraining's l1: 0.86849\tvalid_1's l1: 1.17665\n",
      "[1700]\ttraining's l1: 0.868088\tvalid_1's l1: 1.17584\n",
      "[1800]\ttraining's l1: 0.867702\tvalid_1's l1: 1.17554\n",
      "[1900]\ttraining's l1: 0.866352\tvalid_1's l1: 1.17256\n",
      "[2000]\ttraining's l1: 0.865383\tvalid_1's l1: 1.17042\n",
      "[2100]\ttraining's l1: 0.864906\tvalid_1's l1: 1.16957\n",
      "Early stopping, best iteration is:\n",
      "[2059]\ttraining's l1: 0.864965\tvalid_1's l1: 1.16955\n"
     ]
    },
    {
     "name": "stderr",
     "output_type": "stream",
     "text": [
      "\u001b[32m[I 2021-07-11 23:05:59,082]\u001b[0m Trial 45 finished with value: -1.1692907500470668 and parameters: {'max_depth': 3, 'min_child_weight': 7, 'subsample': 0.7, 'colsample_bytree': 0.7, 'reg_lambda': 5.3349606363819815, 'reg_alpha': 0.0051178917093522135, 'feature_fraction': 0.9984892076789217, 'bagging_fraction': 0.6773873569312625, 'bagging_freq': 5}. Best is trial 12 with value: -1.1492967945255332.\u001b[0m\n"
     ]
    },
    {
     "name": "stdout",
     "output_type": "stream",
     "text": [
      "[LightGBM] [Warning] feature_fraction is set=0.938805285967777, colsample_bytree=0.8 will be ignored. Current value: feature_fraction=0.938805285967777\n",
      "[LightGBM] [Warning] bagging_fraction is set=0.9648205593153749, subsample=0.5 will be ignored. Current value: bagging_fraction=0.9648205593153749\n",
      "[LightGBM] [Warning] bagging_freq is set=6, subsample_freq=0 will be ignored. Current value: bagging_freq=6\n",
      "Training until validation scores don't improve for 100 rounds\n",
      "[100]\ttraining's l1: 0.879172\tvalid_1's l1: 1.20494\n",
      "[200]\ttraining's l1: 0.874324\tvalid_1's l1: 1.19631\n",
      "[300]\ttraining's l1: 0.872912\tvalid_1's l1: 1.19436\n",
      "[400]\ttraining's l1: 0.872892\tvalid_1's l1: 1.19436\n",
      "[500]\ttraining's l1: 0.870445\tvalid_1's l1: 1.19113\n",
      "[600]\ttraining's l1: 0.870135\tvalid_1's l1: 1.19074\n"
     ]
    },
    {
     "name": "stderr",
     "output_type": "stream",
     "text": [
      "\u001b[32m[I 2021-07-11 23:06:20,013]\u001b[0m Trial 46 finished with value: -1.1906858862143015 and parameters: {'max_depth': 6, 'min_child_weight': 11, 'subsample': 0.5, 'colsample_bytree': 0.8, 'reg_lambda': 0.12271264681095094, 'reg_alpha': 0.02669615299744555, 'feature_fraction': 0.938805285967777, 'bagging_fraction': 0.9648205593153749, 'bagging_freq': 6}. Best is trial 12 with value: -1.1492967945255332.\u001b[0m\n"
     ]
    },
    {
     "name": "stdout",
     "output_type": "stream",
     "text": [
      "Early stopping, best iteration is:\n",
      "[513]\ttraining's l1: 0.870141\tvalid_1's l1: 1.19072\n",
      "[LightGBM] [Warning] feature_fraction is set=0.8315318641519286, colsample_bytree=0.7 will be ignored. Current value: feature_fraction=0.8315318641519286\n",
      "[LightGBM] [Warning] bagging_fraction is set=0.8059584507036034, subsample=0.6 will be ignored. Current value: bagging_fraction=0.8059584507036034\n",
      "[LightGBM] [Warning] bagging_freq is set=4, subsample_freq=0 will be ignored. Current value: bagging_freq=4\n",
      "Training until validation scores don't improve for 100 rounds\n",
      "[100]\ttraining's l1: 0.885871\tvalid_1's l1: 1.21535\n",
      "[200]\ttraining's l1: 0.884816\tvalid_1's l1: 1.21319\n",
      "[300]\ttraining's l1: 0.883766\tvalid_1's l1: 1.21042\n"
     ]
    },
    {
     "name": "stderr",
     "output_type": "stream",
     "text": [
      "\u001b[32m[I 2021-07-11 23:06:30,607]\u001b[0m Trial 47 finished with value: -1.210422045918483 and parameters: {'max_depth': 8, 'min_child_weight': 14, 'subsample': 0.6, 'colsample_bytree': 0.7, 'reg_lambda': 3.4339848040031105, 'reg_alpha': 1.5262214399631282, 'feature_fraction': 0.8315318641519286, 'bagging_fraction': 0.8059584507036034, 'bagging_freq': 4}. Best is trial 12 with value: -1.1492967945255332.\u001b[0m\n"
     ]
    },
    {
     "name": "stdout",
     "output_type": "stream",
     "text": [
      "Early stopping, best iteration is:\n",
      "[226]\ttraining's l1: 0.883767\tvalid_1's l1: 1.21042\n",
      "[LightGBM] [Warning] feature_fraction is set=0.8799710234221211, colsample_bytree=0.8 will be ignored. Current value: feature_fraction=0.8799710234221211\n",
      "[LightGBM] [Warning] bagging_fraction is set=0.566326822271149, subsample=0.8 will be ignored. Current value: bagging_fraction=0.566326822271149\n",
      "[LightGBM] [Warning] bagging_freq is set=8, subsample_freq=0 will be ignored. Current value: bagging_freq=8\n",
      "Training until validation scores don't improve for 100 rounds\n",
      "[100]\ttraining's l1: 0.886134\tvalid_1's l1: 1.21496\n",
      "[200]\ttraining's l1: 0.885766\tvalid_1's l1: 1.2141\n",
      "[300]\ttraining's l1: 0.885485\tvalid_1's l1: 1.21369\n"
     ]
    },
    {
     "name": "stderr",
     "output_type": "stream",
     "text": [
      "\u001b[32m[I 2021-07-11 23:06:38,644]\u001b[0m Trial 48 finished with value: -1.213689398391905 and parameters: {'max_depth': 10, 'min_child_weight': 9, 'subsample': 0.8, 'colsample_bytree': 0.8, 'reg_lambda': 0.015588147463416847, 'reg_alpha': 0.06345873131793987, 'feature_fraction': 0.8799710234221211, 'bagging_fraction': 0.566326822271149, 'bagging_freq': 8}. Best is trial 12 with value: -1.1492967945255332.\u001b[0m\n"
     ]
    },
    {
     "name": "stdout",
     "output_type": "stream",
     "text": [
      "Early stopping, best iteration is:\n",
      "[222]\ttraining's l1: 0.885491\tvalid_1's l1: 1.21369\n",
      "[LightGBM] [Warning] feature_fraction is set=0.9799323363902334, colsample_bytree=0.6 will be ignored. Current value: feature_fraction=0.9799323363902334\n",
      "[LightGBM] [Warning] bagging_fraction is set=0.8881471471767788, subsample=0.6 will be ignored. Current value: bagging_fraction=0.8881471471767788\n",
      "[LightGBM] [Warning] bagging_freq is set=3, subsample_freq=0 will be ignored. Current value: bagging_freq=3\n",
      "Training until validation scores don't improve for 100 rounds\n",
      "[100]\ttraining's l1: 0.871827\tvalid_1's l1: 1.19615\n",
      "[200]\ttraining's l1: 0.864951\tvalid_1's l1: 1.18286\n",
      "[300]\ttraining's l1: 0.859389\tvalid_1's l1: 1.17495\n",
      "[400]\ttraining's l1: 0.856533\tvalid_1's l1: 1.17097\n",
      "[500]\ttraining's l1: 0.852227\tvalid_1's l1: 1.16437\n",
      "[600]\ttraining's l1: 0.850387\tvalid_1's l1: 1.16177\n",
      "[700]\ttraining's l1: 0.847942\tvalid_1's l1: 1.1592\n",
      "[800]\ttraining's l1: 0.84676\tvalid_1's l1: 1.15824\n",
      "[900]\ttraining's l1: 0.846099\tvalid_1's l1: 1.15776\n",
      "[1000]\ttraining's l1: 0.845007\tvalid_1's l1: 1.15636\n",
      "[1100]\ttraining's l1: 0.843726\tvalid_1's l1: 1.15498\n",
      "[1200]\ttraining's l1: 0.842781\tvalid_1's l1: 1.15454\n",
      "[1300]\ttraining's l1: 0.84191\tvalid_1's l1: 1.15374\n",
      "[1400]\ttraining's l1: 0.840911\tvalid_1's l1: 1.15362\n",
      "[1500]\ttraining's l1: 0.839483\tvalid_1's l1: 1.15158\n",
      "[1600]\ttraining's l1: 0.8391\tvalid_1's l1: 1.15116\n",
      "Early stopping, best iteration is:\n",
      "[1549]\ttraining's l1: 0.839194\tvalid_1's l1: 1.15105\n"
     ]
    },
    {
     "name": "stderr",
     "output_type": "stream",
     "text": [
      "\u001b[32m[I 2021-07-11 23:07:38,679]\u001b[0m Trial 49 finished with value: -1.1507568056422868 and parameters: {'max_depth': 5, 'min_child_weight': 2, 'subsample': 0.6, 'colsample_bytree': 0.6, 'reg_lambda': 0.20318113591937187, 'reg_alpha': 0.044490541046887044, 'feature_fraction': 0.9799323363902334, 'bagging_fraction': 0.8881471471767788, 'bagging_freq': 3}. Best is trial 12 with value: -1.1492967945255332.\u001b[0m\n"
     ]
    },
    {
     "name": "stdout",
     "output_type": "stream",
     "text": [
      "[LightGBM] [Warning] feature_fraction is set=0.7884025171768783, colsample_bytree=0.6 will be ignored. Current value: feature_fraction=0.7884025171768783\n",
      "[LightGBM] [Warning] bagging_fraction is set=0.845678650777537, subsample=0.6 will be ignored. Current value: bagging_fraction=0.845678650777537\n",
      "[LightGBM] [Warning] bagging_freq is set=3, subsample_freq=0 will be ignored. Current value: bagging_freq=3\n",
      "Training until validation scores don't improve for 100 rounds\n",
      "[100]\ttraining's l1: 0.92437\tvalid_1's l1: 1.27154\n",
      "[200]\ttraining's l1: 0.921201\tvalid_1's l1: 1.26496\n",
      "[300]\ttraining's l1: 0.916182\tvalid_1's l1: 1.25378\n",
      "[400]\ttraining's l1: 0.914113\tvalid_1's l1: 1.2488\n",
      "[500]\ttraining's l1: 0.91147\tvalid_1's l1: 1.2439\n",
      "[600]\ttraining's l1: 0.910373\tvalid_1's l1: 1.24136\n",
      "[700]\ttraining's l1: 0.909674\tvalid_1's l1: 1.23957\n",
      "[800]\ttraining's l1: 0.909441\tvalid_1's l1: 1.23908\n",
      "[900]\ttraining's l1: 0.909315\tvalid_1's l1: 1.23855\n",
      "[1000]\ttraining's l1: 0.909277\tvalid_1's l1: 1.23853\n",
      "[1100]\ttraining's l1: 0.909256\tvalid_1's l1: 1.23852\n",
      "[1200]\ttraining's l1: 0.908699\tvalid_1's l1: 1.23693\n",
      "[1300]\ttraining's l1: 0.908682\tvalid_1's l1: 1.2369\n",
      "[1400]\ttraining's l1: 0.908345\tvalid_1's l1: 1.23619\n",
      "[1500]\ttraining's l1: 0.908299\tvalid_1's l1: 1.23603\n",
      "[1600]\ttraining's l1: 0.908265\tvalid_1's l1: 1.23599\n"
     ]
    },
    {
     "name": "stderr",
     "output_type": "stream",
     "text": [
      "\u001b[32m[I 2021-07-11 23:08:22,065]\u001b[0m Trial 50 finished with value: -1.2357989979255848 and parameters: {'max_depth': 2, 'min_child_weight': 2, 'subsample': 0.6, 'colsample_bytree': 0.6, 'reg_lambda': 0.24597814072362417, 'reg_alpha': 0.16132150509550108, 'feature_fraction': 0.7884025171768783, 'bagging_fraction': 0.845678650777537, 'bagging_freq': 3}. Best is trial 12 with value: -1.1492967945255332.\u001b[0m\n"
     ]
    },
    {
     "name": "stdout",
     "output_type": "stream",
     "text": [
      "Early stopping, best iteration is:\n",
      "[1597]\ttraining's l1: 0.908266\tvalid_1's l1: 1.23599\n",
      "[LightGBM] [Warning] feature_fraction is set=0.9856700699280765, colsample_bytree=0.5 will be ignored. Current value: feature_fraction=0.9856700699280765\n",
      "[LightGBM] [Warning] bagging_fraction is set=0.8894908375222068, subsample=0.6 will be ignored. Current value: bagging_fraction=0.8894908375222068\n",
      "[LightGBM] [Warning] bagging_freq is set=2, subsample_freq=0 will be ignored. Current value: bagging_freq=2\n",
      "Training until validation scores don't improve for 100 rounds\n",
      "[100]\ttraining's l1: 0.872144\tvalid_1's l1: 1.19678\n",
      "[200]\ttraining's l1: 0.865559\tvalid_1's l1: 1.18353\n",
      "[300]\ttraining's l1: 0.861797\tvalid_1's l1: 1.17595\n",
      "[400]\ttraining's l1: 0.859726\tvalid_1's l1: 1.17317\n",
      "[500]\ttraining's l1: 0.856472\tvalid_1's l1: 1.16712\n",
      "[600]\ttraining's l1: 0.855152\tvalid_1's l1: 1.1652\n",
      "[700]\ttraining's l1: 0.854092\tvalid_1's l1: 1.16424\n",
      "[800]\ttraining's l1: 0.852077\tvalid_1's l1: 1.16132\n",
      "[900]\ttraining's l1: 0.850779\tvalid_1's l1: 1.15956\n",
      "[1000]\ttraining's l1: 0.849191\tvalid_1's l1: 1.15717\n",
      "[1100]\ttraining's l1: 0.847324\tvalid_1's l1: 1.15431\n",
      "[1200]\ttraining's l1: 0.845547\tvalid_1's l1: 1.15228\n",
      "[1300]\ttraining's l1: 0.844292\tvalid_1's l1: 1.15157\n",
      "[1400]\ttraining's l1: 0.842982\tvalid_1's l1: 1.15023\n",
      "[1500]\ttraining's l1: 0.842034\tvalid_1's l1: 1.14965\n",
      "Early stopping, best iteration is:\n",
      "[1415]\ttraining's l1: 0.842572\tvalid_1's l1: 1.14939\n"
     ]
    },
    {
     "name": "stderr",
     "output_type": "stream",
     "text": [
      "\u001b[32m[I 2021-07-11 23:09:26,077]\u001b[0m Trial 51 finished with value: -1.1491401745531564 and parameters: {'max_depth': 5, 'min_child_weight': 2, 'subsample': 0.6, 'colsample_bytree': 0.5, 'reg_lambda': 0.09931151747433062, 'reg_alpha': 0.01082275837363561, 'feature_fraction': 0.9856700699280765, 'bagging_fraction': 0.8894908375222068, 'bagging_freq': 2}. Best is trial 51 with value: -1.1491401745531564.\u001b[0m\n"
     ]
    },
    {
     "name": "stdout",
     "output_type": "stream",
     "text": [
      "[LightGBM] [Warning] feature_fraction is set=0.9734150405739048, colsample_bytree=0.5 will be ignored. Current value: feature_fraction=0.9734150405739048\n",
      "[LightGBM] [Warning] bagging_fraction is set=0.8983953755893125, subsample=0.6 will be ignored. Current value: bagging_fraction=0.8983953755893125\n",
      "[LightGBM] [Warning] bagging_freq is set=1, subsample_freq=0 will be ignored. Current value: bagging_freq=1\n",
      "Training until validation scores don't improve for 100 rounds\n",
      "[100]\ttraining's l1: 0.881258\tvalid_1's l1: 1.20775\n",
      "[200]\ttraining's l1: 0.873524\tvalid_1's l1: 1.19661\n",
      "[300]\ttraining's l1: 0.868712\tvalid_1's l1: 1.18806\n",
      "[400]\ttraining's l1: 0.863592\tvalid_1's l1: 1.17772\n",
      "[500]\ttraining's l1: 0.862224\tvalid_1's l1: 1.17517\n",
      "[600]\ttraining's l1: 0.859267\tvalid_1's l1: 1.16904\n",
      "[700]\ttraining's l1: 0.858456\tvalid_1's l1: 1.16752\n",
      "[800]\ttraining's l1: 0.85744\tvalid_1's l1: 1.16616\n",
      "[900]\ttraining's l1: 0.856452\tvalid_1's l1: 1.16512\n",
      "[1000]\ttraining's l1: 0.855686\tvalid_1's l1: 1.16402\n",
      "[1100]\ttraining's l1: 0.854588\tvalid_1's l1: 1.16256\n",
      "[1200]\ttraining's l1: 0.8537\tvalid_1's l1: 1.16151\n",
      "[1300]\ttraining's l1: 0.85266\tvalid_1's l1: 1.16058\n",
      "[1400]\ttraining's l1: 0.852076\tvalid_1's l1: 1.15999\n",
      "[1500]\ttraining's l1: 0.851332\tvalid_1's l1: 1.15964\n",
      "[1600]\ttraining's l1: 0.850497\tvalid_1's l1: 1.15863\n",
      "[1700]\ttraining's l1: 0.849194\tvalid_1's l1: 1.15751\n",
      "[1800]\ttraining's l1: 0.848804\tvalid_1's l1: 1.15706\n",
      "[1900]\ttraining's l1: 0.847869\tvalid_1's l1: 1.15496\n",
      "[2000]\ttraining's l1: 0.846926\tvalid_1's l1: 1.15389\n",
      "[2100]\ttraining's l1: 0.846585\tvalid_1's l1: 1.15367\n",
      "[2200]\ttraining's l1: 0.845327\tvalid_1's l1: 1.15108\n",
      "[2300]\ttraining's l1: 0.844813\tvalid_1's l1: 1.1505\n",
      "[2400]\ttraining's l1: 0.844197\tvalid_1's l1: 1.14982\n",
      "[2500]\ttraining's l1: 0.844081\tvalid_1's l1: 1.14989\n",
      "Early stopping, best iteration is:\n",
      "[2418]\ttraining's l1: 0.844149\tvalid_1's l1: 1.14975\n"
     ]
    },
    {
     "name": "stderr",
     "output_type": "stream",
     "text": [
      "\u001b[32m[I 2021-07-11 23:10:22,410]\u001b[0m Trial 52 finished with value: -1.1494460385469312 and parameters: {'max_depth': 4, 'min_child_weight': 2, 'subsample': 0.6, 'colsample_bytree': 0.5, 'reg_lambda': 0.07411585127091128, 'reg_alpha': 0.010993743078119636, 'feature_fraction': 0.9734150405739048, 'bagging_fraction': 0.8983953755893125, 'bagging_freq': 1}. Best is trial 51 with value: -1.1491401745531564.\u001b[0m\n"
     ]
    },
    {
     "name": "stdout",
     "output_type": "stream",
     "text": [
      "[LightGBM] [Warning] feature_fraction is set=0.9757121718741347, colsample_bytree=0.5 will be ignored. Current value: feature_fraction=0.9757121718741347\n",
      "[LightGBM] [Warning] bagging_fraction is set=0.9035237002315413, subsample=0.5 will be ignored. Current value: bagging_fraction=0.9035237002315413\n",
      "[LightGBM] [Warning] bagging_freq is set=1, subsample_freq=0 will be ignored. Current value: bagging_freq=1\n",
      "Training until validation scores don't improve for 100 rounds\n",
      "[100]\ttraining's l1: 0.894771\tvalid_1's l1: 1.22769\n",
      "[200]\ttraining's l1: 0.887624\tvalid_1's l1: 1.21433\n",
      "[300]\ttraining's l1: 0.883546\tvalid_1's l1: 1.20831\n",
      "[400]\ttraining's l1: 0.879782\tvalid_1's l1: 1.19968\n",
      "[500]\ttraining's l1: 0.877112\tvalid_1's l1: 1.19353\n",
      "[600]\ttraining's l1: 0.874632\tvalid_1's l1: 1.18766\n",
      "[700]\ttraining's l1: 0.873221\tvalid_1's l1: 1.18445\n",
      "[800]\ttraining's l1: 0.872574\tvalid_1's l1: 1.18398\n",
      "[900]\ttraining's l1: 0.871076\tvalid_1's l1: 1.18112\n",
      "[1000]\ttraining's l1: 0.87035\tvalid_1's l1: 1.17986\n",
      "[1100]\ttraining's l1: 0.869857\tvalid_1's l1: 1.17904\n",
      "[1200]\ttraining's l1: 0.86965\tvalid_1's l1: 1.17835\n",
      "[1300]\ttraining's l1: 0.868987\tvalid_1's l1: 1.17753\n",
      "[1400]\ttraining's l1: 0.868085\tvalid_1's l1: 1.17622\n",
      "[1500]\ttraining's l1: 0.867169\tvalid_1's l1: 1.17464\n",
      "[1600]\ttraining's l1: 0.866707\tvalid_1's l1: 1.17337\n",
      "[1700]\ttraining's l1: 0.865434\tvalid_1's l1: 1.17058\n",
      "[1800]\ttraining's l1: 0.865097\tvalid_1's l1: 1.17047\n",
      "[1900]\ttraining's l1: 0.864426\tvalid_1's l1: 1.16908\n",
      "[2000]\ttraining's l1: 0.863758\tvalid_1's l1: 1.16794\n",
      "[2100]\ttraining's l1: 0.863514\tvalid_1's l1: 1.16753\n",
      "[2200]\ttraining's l1: 0.863163\tvalid_1's l1: 1.16672\n",
      "[2300]\ttraining's l1: 0.862667\tvalid_1's l1: 1.16585\n",
      "[2400]\ttraining's l1: 0.862292\tvalid_1's l1: 1.16513\n",
      "[2500]\ttraining's l1: 0.861947\tvalid_1's l1: 1.16458\n",
      "[2600]\ttraining's l1: 0.86158\tvalid_1's l1: 1.16397\n",
      "[2700]\ttraining's l1: 0.860917\tvalid_1's l1: 1.16327\n",
      "[2800]\ttraining's l1: 0.859839\tvalid_1's l1: 1.16081\n",
      "[2900]\ttraining's l1: 0.859175\tvalid_1's l1: 1.15966\n",
      "[3000]\ttraining's l1: 0.858934\tvalid_1's l1: 1.15939\n",
      "[3100]\ttraining's l1: 0.858263\tvalid_1's l1: 1.15841\n",
      "[3200]\ttraining's l1: 0.858089\tvalid_1's l1: 1.15847\n",
      "Early stopping, best iteration is:\n",
      "[3131]\ttraining's l1: 0.858176\tvalid_1's l1: 1.15839\n"
     ]
    },
    {
     "name": "stderr",
     "output_type": "stream",
     "text": [
      "\u001b[32m[I 2021-07-11 23:11:28,725]\u001b[0m Trial 53 finished with value: -1.158041060346314 and parameters: {'max_depth': 3, 'min_child_weight': 1, 'subsample': 0.5, 'colsample_bytree': 0.5, 'reg_lambda': 0.036491290512056226, 'reg_alpha': 0.009714904366283736, 'feature_fraction': 0.9757121718741347, 'bagging_fraction': 0.9035237002315413, 'bagging_freq': 1}. Best is trial 51 with value: -1.1491401745531564.\u001b[0m\n"
     ]
    },
    {
     "name": "stdout",
     "output_type": "stream",
     "text": [
      "[LightGBM] [Warning] feature_fraction is set=0.9498752052089928, colsample_bytree=0.5 will be ignored. Current value: feature_fraction=0.9498752052089928\n",
      "[LightGBM] [Warning] bagging_fraction is set=0.9300244519684154, subsample=0.6 will be ignored. Current value: bagging_fraction=0.9300244519684154\n",
      "[LightGBM] [Warning] bagging_freq is set=2, subsample_freq=0 will be ignored. Current value: bagging_freq=2\n",
      "Training until validation scores don't improve for 100 rounds\n",
      "[100]\ttraining's l1: 0.884299\tvalid_1's l1: 1.21117\n",
      "[200]\ttraining's l1: 0.873408\tvalid_1's l1: 1.19149\n",
      "[300]\ttraining's l1: 0.870157\tvalid_1's l1: 1.18697\n",
      "[400]\ttraining's l1: 0.866666\tvalid_1's l1: 1.18029\n",
      "[500]\ttraining's l1: 0.864959\tvalid_1's l1: 1.1783\n",
      "[600]\ttraining's l1: 0.863831\tvalid_1's l1: 1.17624\n",
      "[700]\ttraining's l1: 0.862443\tvalid_1's l1: 1.17449\n",
      "[800]\ttraining's l1: 0.860262\tvalid_1's l1: 1.17087\n",
      "[900]\ttraining's l1: 0.859107\tvalid_1's l1: 1.16935\n",
      "[1000]\ttraining's l1: 0.858705\tvalid_1's l1: 1.16897\n",
      "[1100]\ttraining's l1: 0.857034\tvalid_1's l1: 1.16606\n",
      "[1200]\ttraining's l1: 0.855537\tvalid_1's l1: 1.16266\n",
      "[1300]\ttraining's l1: 0.854656\tvalid_1's l1: 1.16123\n",
      "[1400]\ttraining's l1: 0.854322\tvalid_1's l1: 1.16127\n",
      "[1500]\ttraining's l1: 0.853815\tvalid_1's l1: 1.16097\n",
      "Early stopping, best iteration is:\n",
      "[1464]\ttraining's l1: 0.853829\tvalid_1's l1: 1.16096\n"
     ]
    },
    {
     "name": "stderr",
     "output_type": "stream",
     "text": [
      "\u001b[32m[I 2021-07-11 23:12:32,847]\u001b[0m Trial 54 finished with value: -1.1607133142914923 and parameters: {'max_depth': 4, 'min_child_weight': 13, 'subsample': 0.6, 'colsample_bytree': 0.5, 'reg_lambda': 0.5521459885003168, 'reg_alpha': 0.0016550043894518387, 'feature_fraction': 0.9498752052089928, 'bagging_fraction': 0.9300244519684154, 'bagging_freq': 2}. Best is trial 51 with value: -1.1491401745531564.\u001b[0m\n"
     ]
    },
    {
     "name": "stdout",
     "output_type": "stream",
     "text": [
      "[LightGBM] [Warning] feature_fraction is set=0.9791395749304459, colsample_bytree=0.5 will be ignored. Current value: feature_fraction=0.9791395749304459\n",
      "[LightGBM] [Warning] bagging_fraction is set=0.8849026809647846, subsample=0.6 will be ignored. Current value: bagging_fraction=0.8849026809647846\n",
      "[LightGBM] [Warning] bagging_freq is set=2, subsample_freq=0 will be ignored. Current value: bagging_freq=2\n",
      "Training until validation scores don't improve for 100 rounds\n",
      "[100]\ttraining's l1: 0.881308\tvalid_1's l1: 1.2081\n",
      "[200]\ttraining's l1: 0.877736\tvalid_1's l1: 1.20105\n",
      "[300]\ttraining's l1: 0.874752\tvalid_1's l1: 1.19507\n",
      "[400]\ttraining's l1: 0.87365\tvalid_1's l1: 1.19339\n",
      "[500]\ttraining's l1: 0.872785\tvalid_1's l1: 1.19177\n",
      "[600]\ttraining's l1: 0.870741\tvalid_1's l1: 1.18792\n"
     ]
    },
    {
     "name": "stderr",
     "output_type": "stream",
     "text": [
      "\u001b[32m[I 2021-07-11 23:13:01,225]\u001b[0m Trial 55 finished with value: -1.187847195057759 and parameters: {'max_depth': 6, 'min_child_weight': 2, 'subsample': 0.6, 'colsample_bytree': 0.5, 'reg_lambda': 0.06877744180676632, 'reg_alpha': 0.0032155410848190764, 'feature_fraction': 0.9791395749304459, 'bagging_fraction': 0.8849026809647846, 'bagging_freq': 2}. Best is trial 51 with value: -1.1491401745531564.\u001b[0m\n"
     ]
    },
    {
     "name": "stdout",
     "output_type": "stream",
     "text": [
      "Early stopping, best iteration is:\n",
      "[543]\ttraining's l1: 0.87087\tvalid_1's l1: 1.1879\n",
      "[LightGBM] [Warning] feature_fraction is set=0.6505890609191101, colsample_bytree=0.5 will be ignored. Current value: feature_fraction=0.6505890609191101\n",
      "[LightGBM] [Warning] bagging_fraction is set=0.9800113950506165, subsample=0.5 will be ignored. Current value: bagging_fraction=0.9800113950506165\n",
      "[LightGBM] [Warning] bagging_freq is set=2, subsample_freq=0 will be ignored. Current value: bagging_freq=2\n",
      "Training until validation scores don't improve for 100 rounds\n",
      "[100]\ttraining's l1: 0.883278\tvalid_1's l1: 1.20969\n",
      "[200]\ttraining's l1: 0.873629\tvalid_1's l1: 1.19408\n",
      "[300]\ttraining's l1: 0.869251\tvalid_1's l1: 1.18694\n",
      "[400]\ttraining's l1: 0.868688\tvalid_1's l1: 1.18589\n",
      "[500]\ttraining's l1: 0.868686\tvalid_1's l1: 1.18589\n"
     ]
    },
    {
     "name": "stderr",
     "output_type": "stream",
     "text": [
      "\u001b[32m[I 2021-07-11 23:13:19,514]\u001b[0m Trial 56 finished with value: -1.1857970739399253 and parameters: {'max_depth': 4, 'min_child_weight': 3, 'subsample': 0.5, 'colsample_bytree': 0.5, 'reg_lambda': 0.20882554606680145, 'reg_alpha': 0.01764494705047043, 'feature_fraction': 0.6505890609191101, 'bagging_fraction': 0.9800113950506165, 'bagging_freq': 2}. Best is trial 51 with value: -1.1491401745531564.\u001b[0m\n"
     ]
    },
    {
     "name": "stdout",
     "output_type": "stream",
     "text": [
      "Early stopping, best iteration is:\n",
      "[409]\ttraining's l1: 0.868687\tvalid_1's l1: 1.18589\n",
      "[LightGBM] [Warning] feature_fraction is set=0.4281058132963033, colsample_bytree=0.5 will be ignored. Current value: feature_fraction=0.4281058132963033\n",
      "[LightGBM] [Warning] bagging_fraction is set=0.9453437039017727, subsample=0.6 will be ignored. Current value: bagging_fraction=0.9453437039017727\n",
      "[LightGBM] [Warning] bagging_freq is set=3, subsample_freq=0 will be ignored. Current value: bagging_freq=3\n",
      "Training until validation scores don't improve for 100 rounds\n",
      "[100]\ttraining's l1: 0.882734\tvalid_1's l1: 1.20884\n",
      "[200]\ttraining's l1: 0.882311\tvalid_1's l1: 1.20786\n",
      "[300]\ttraining's l1: 0.88197\tvalid_1's l1: 1.20691\n",
      "[400]\ttraining's l1: 0.880409\tvalid_1's l1: 1.2037\n",
      "[500]\ttraining's l1: 0.879953\tvalid_1's l1: 1.20288\n",
      "[600]\ttraining's l1: 0.879922\tvalid_1's l1: 1.2029\n",
      "[700]\ttraining's l1: 0.878814\tvalid_1's l1: 1.20003\n",
      "[800]\ttraining's l1: 0.878107\tvalid_1's l1: 1.1985\n",
      "[900]\ttraining's l1: 0.876128\tvalid_1's l1: 1.19404\n",
      "[1000]\ttraining's l1: 0.874713\tvalid_1's l1: 1.19185\n",
      "[1100]\ttraining's l1: 0.87335\tvalid_1's l1: 1.18837\n",
      "[1200]\ttraining's l1: 0.872513\tvalid_1's l1: 1.18707\n",
      "[1300]\ttraining's l1: 0.871834\tvalid_1's l1: 1.18556\n",
      "[1400]\ttraining's l1: 0.868416\tvalid_1's l1: 1.17883\n",
      "[1500]\ttraining's l1: 0.865516\tvalid_1's l1: 1.17449\n",
      "[1600]\ttraining's l1: 0.862787\tvalid_1's l1: 1.16874\n",
      "[1700]\ttraining's l1: 0.861969\tvalid_1's l1: 1.16771\n",
      "[1800]\ttraining's l1: 0.85967\tvalid_1's l1: 1.16499\n",
      "[1900]\ttraining's l1: 0.858373\tvalid_1's l1: 1.16346\n",
      "[2000]\ttraining's l1: 0.85711\tvalid_1's l1: 1.16215\n",
      "[2100]\ttraining's l1: 0.854992\tvalid_1's l1: 1.15877\n",
      "[2200]\ttraining's l1: 0.853499\tvalid_1's l1: 1.15778\n",
      "[2300]\ttraining's l1: 0.851175\tvalid_1's l1: 1.15535\n",
      "[2400]\ttraining's l1: 0.848414\tvalid_1's l1: 1.15348\n",
      "[2500]\ttraining's l1: 0.847548\tvalid_1's l1: 1.15305\n",
      "[2600]\ttraining's l1: 0.846743\tvalid_1's l1: 1.15268\n",
      "[2700]\ttraining's l1: 0.846038\tvalid_1's l1: 1.15239\n",
      "[2800]\ttraining's l1: 0.844621\tvalid_1's l1: 1.15174\n",
      "[2900]\ttraining's l1: 0.843714\tvalid_1's l1: 1.15041\n",
      "[3000]\ttraining's l1: 0.842703\tvalid_1's l1: 1.15021\n",
      "Early stopping, best iteration is:\n",
      "[2919]\ttraining's l1: 0.843312\tvalid_1's l1: 1.14991\n"
     ]
    },
    {
     "name": "stderr",
     "output_type": "stream",
     "text": [
      "\u001b[32m[I 2021-07-11 23:15:10,431]\u001b[0m Trial 57 finished with value: -1.1496021671436119 and parameters: {'max_depth': 7, 'min_child_weight': 4, 'subsample': 0.6, 'colsample_bytree': 0.5, 'reg_lambda': 0.021828800407722483, 'reg_alpha': 0.0042889018375364685, 'feature_fraction': 0.4281058132963033, 'bagging_fraction': 0.9453437039017727, 'bagging_freq': 3}. Best is trial 51 with value: -1.1491401745531564.\u001b[0m\n"
     ]
    },
    {
     "name": "stdout",
     "output_type": "stream",
     "text": [
      "[LightGBM] [Warning] feature_fraction is set=0.41289789496940427, colsample_bytree=0.5 will be ignored. Current value: feature_fraction=0.41289789496940427\n",
      "[LightGBM] [Warning] bagging_fraction is set=0.9368646058002421, subsample=0.6 will be ignored. Current value: bagging_fraction=0.9368646058002421\n",
      "[LightGBM] [Warning] bagging_freq is set=3, subsample_freq=0 will be ignored. Current value: bagging_freq=3\n",
      "Training until validation scores don't improve for 100 rounds\n",
      "[100]\ttraining's l1: 0.885204\tvalid_1's l1: 1.21446\n",
      "[200]\ttraining's l1: 0.885092\tvalid_1's l1: 1.21427\n",
      "[300]\ttraining's l1: 0.885065\tvalid_1's l1: 1.21425\n",
      "[400]\ttraining's l1: 0.885036\tvalid_1's l1: 1.21422\n",
      "[500]\ttraining's l1: 0.884973\tvalid_1's l1: 1.21415\n",
      "[600]\ttraining's l1: 0.884563\tvalid_1's l1: 1.21274\n",
      "[700]\ttraining's l1: 0.884481\tvalid_1's l1: 1.21255\n",
      "[800]\ttraining's l1: 0.883897\tvalid_1's l1: 1.21093\n",
      "[900]\ttraining's l1: 0.882104\tvalid_1's l1: 1.20755\n",
      "[1000]\ttraining's l1: 0.881022\tvalid_1's l1: 1.2046\n",
      "[1100]\ttraining's l1: 0.880287\tvalid_1's l1: 1.20308\n",
      "[1200]\ttraining's l1: 0.879624\tvalid_1's l1: 1.20217\n",
      "[1300]\ttraining's l1: 0.876187\tvalid_1's l1: 1.19591\n",
      "[1400]\ttraining's l1: 0.874425\tvalid_1's l1: 1.19293\n",
      "[1500]\ttraining's l1: 0.873743\tvalid_1's l1: 1.1909\n",
      "[1600]\ttraining's l1: 0.87317\tvalid_1's l1: 1.18964\n",
      "[1700]\ttraining's l1: 0.872517\tvalid_1's l1: 1.18832\n",
      "[1800]\ttraining's l1: 0.869983\tvalid_1's l1: 1.18318\n",
      "[1900]\ttraining's l1: 0.867751\tvalid_1's l1: 1.1781\n",
      "[2000]\ttraining's l1: 0.866607\tvalid_1's l1: 1.17637\n",
      "[2100]\ttraining's l1: 0.864165\tvalid_1's l1: 1.17258\n",
      "[2200]\ttraining's l1: 0.862616\tvalid_1's l1: 1.16818\n",
      "[2300]\ttraining's l1: 0.861255\tvalid_1's l1: 1.16632\n",
      "[2400]\ttraining's l1: 0.858848\tvalid_1's l1: 1.16323\n",
      "[2500]\ttraining's l1: 0.85773\tvalid_1's l1: 1.16143\n",
      "[2600]\ttraining's l1: 0.856531\tvalid_1's l1: 1.15984\n",
      "[2700]\ttraining's l1: 0.855363\tvalid_1's l1: 1.15911\n",
      "[2800]\ttraining's l1: 0.853278\tvalid_1's l1: 1.15692\n",
      "[2900]\ttraining's l1: 0.851844\tvalid_1's l1: 1.15535\n",
      "[3000]\ttraining's l1: 0.850349\tvalid_1's l1: 1.15403\n",
      "[3100]\ttraining's l1: 0.84937\tvalid_1's l1: 1.1534\n",
      "[3200]\ttraining's l1: 0.848065\tvalid_1's l1: 1.15269\n",
      "[3300]\ttraining's l1: 0.844311\tvalid_1's l1: 1.1476\n",
      "[3400]\ttraining's l1: 0.842462\tvalid_1's l1: 1.14649\n",
      "[3500]\ttraining's l1: 0.841776\tvalid_1's l1: 1.14663\n",
      "Early stopping, best iteration is:\n",
      "[3400]\ttraining's l1: 0.842462\tvalid_1's l1: 1.14649\n"
     ]
    },
    {
     "name": "stderr",
     "output_type": "stream",
     "text": [
      "\u001b[32m[I 2021-07-11 23:17:16,806]\u001b[0m Trial 58 finished with value: -1.1462060916872858 and parameters: {'max_depth': 7, 'min_child_weight': 4, 'subsample': 0.6, 'colsample_bytree': 0.5, 'reg_lambda': 0.023614479579693683, 'reg_alpha': 0.004699630558831367, 'feature_fraction': 0.41289789496940427, 'bagging_fraction': 0.9368646058002421, 'bagging_freq': 3}. Best is trial 58 with value: -1.1462060916872858.\u001b[0m\n"
     ]
    },
    {
     "name": "stdout",
     "output_type": "stream",
     "text": [
      "[LightGBM] [Warning] feature_fraction is set=0.42080172190183596, colsample_bytree=0.5 will be ignored. Current value: feature_fraction=0.42080172190183596\n",
      "[LightGBM] [Warning] bagging_fraction is set=0.941801545227391, subsample=0.6 will be ignored. Current value: bagging_fraction=0.941801545227391\n",
      "[LightGBM] [Warning] bagging_freq is set=3, subsample_freq=0 will be ignored. Current value: bagging_freq=3\n",
      "Training until validation scores don't improve for 100 rounds\n",
      "[100]\ttraining's l1: 0.883876\tvalid_1's l1: 1.21187\n",
      "[200]\ttraining's l1: 0.88248\tvalid_1's l1: 1.20954\n",
      "[300]\ttraining's l1: 0.88246\tvalid_1's l1: 1.20954\n"
     ]
    },
    {
     "name": "stderr",
     "output_type": "stream",
     "text": [
      "\u001b[32m[I 2021-07-11 23:17:30,455]\u001b[0m Trial 59 finished with value: -1.2095271211384098 and parameters: {'max_depth': 7, 'min_child_weight': 3, 'subsample': 0.6, 'colsample_bytree': 0.5, 'reg_lambda': 0.019603144879694633, 'reg_alpha': 0.0015612275807477558, 'feature_fraction': 0.42080172190183596, 'bagging_fraction': 0.941801545227391, 'bagging_freq': 3}. Best is trial 58 with value: -1.1462060916872858.\u001b[0m\n"
     ]
    },
    {
     "name": "stdout",
     "output_type": "stream",
     "text": [
      "Early stopping, best iteration is:\n",
      "[233]\ttraining's l1: 0.882476\tvalid_1's l1: 1.20953\n",
      "[LightGBM] [Warning] feature_fraction is set=0.48388950008979015, colsample_bytree=0.5 will be ignored. Current value: feature_fraction=0.48388950008979015\n",
      "[LightGBM] [Warning] bagging_fraction is set=0.9627078275204484, subsample=0.6 will be ignored. Current value: bagging_fraction=0.9627078275204484\n",
      "[LightGBM] [Warning] bagging_freq is set=3, subsample_freq=0 will be ignored. Current value: bagging_freq=3\n",
      "Training until validation scores don't improve for 100 rounds\n",
      "[100]\ttraining's l1: 0.88474\tvalid_1's l1: 1.21419\n",
      "[200]\ttraining's l1: 0.884735\tvalid_1's l1: 1.21419\n"
     ]
    },
    {
     "name": "stderr",
     "output_type": "stream",
     "text": [
      "\u001b[32m[I 2021-07-11 23:17:43,278]\u001b[0m Trial 60 finished with value: -1.2141799839558267 and parameters: {'max_depth': 8, 'min_child_weight': 4, 'subsample': 0.6, 'colsample_bytree': 0.5, 'reg_lambda': 0.009712378989549705, 'reg_alpha': 0.004673688683137038, 'feature_fraction': 0.48388950008979015, 'bagging_fraction': 0.9627078275204484, 'bagging_freq': 3}. Best is trial 58 with value: -1.1462060916872858.\u001b[0m\n"
     ]
    },
    {
     "name": "stdout",
     "output_type": "stream",
     "text": [
      "Early stopping, best iteration is:\n",
      "[186]\ttraining's l1: 0.884735\tvalid_1's l1: 1.21418\n",
      "[LightGBM] [Warning] feature_fraction is set=0.42828801965840385, colsample_bytree=0.5 will be ignored. Current value: feature_fraction=0.42828801965840385\n",
      "[LightGBM] [Warning] bagging_fraction is set=0.9199611375333491, subsample=0.6 will be ignored. Current value: bagging_fraction=0.9199611375333491\n",
      "[LightGBM] [Warning] bagging_freq is set=2, subsample_freq=0 will be ignored. Current value: bagging_freq=2\n",
      "Training until validation scores don't improve for 100 rounds\n",
      "[100]\ttraining's l1: 0.882631\tvalid_1's l1: 1.20933\n",
      "[200]\ttraining's l1: 0.882243\tvalid_1's l1: 1.20869\n",
      "[300]\ttraining's l1: 0.88203\tvalid_1's l1: 1.20849\n"
     ]
    },
    {
     "name": "stderr",
     "output_type": "stream",
     "text": [
      "\u001b[32m[I 2021-07-11 23:17:58,244]\u001b[0m Trial 61 finished with value: -1.2084757198901004 and parameters: {'max_depth': 7, 'min_child_weight': 2, 'subsample': 0.6, 'colsample_bytree': 0.5, 'reg_lambda': 0.03143568455928955, 'reg_alpha': 0.008653704891822869, 'feature_fraction': 0.42828801965840385, 'bagging_fraction': 0.9199611375333491, 'bagging_freq': 2}. Best is trial 58 with value: -1.1462060916872858.\u001b[0m\n"
     ]
    },
    {
     "name": "stdout",
     "output_type": "stream",
     "text": [
      "Early stopping, best iteration is:\n",
      "[244]\ttraining's l1: 0.882055\tvalid_1's l1: 1.20848\n",
      "[LightGBM] [Warning] feature_fraction is set=0.48250021787825337, colsample_bytree=0.6 will be ignored. Current value: feature_fraction=0.48250021787825337\n",
      "[LightGBM] [Warning] bagging_fraction is set=0.8643834160966294, subsample=0.6 will be ignored. Current value: bagging_fraction=0.8643834160966294\n",
      "[LightGBM] [Warning] bagging_freq is set=1, subsample_freq=0 will be ignored. Current value: bagging_freq=1\n",
      "Training until validation scores don't improve for 100 rounds\n",
      "[100]\ttraining's l1: 0.875799\tvalid_1's l1: 1.19809\n",
      "[200]\ttraining's l1: 0.87337\tvalid_1's l1: 1.19394\n",
      "[300]\ttraining's l1: 0.873357\tvalid_1's l1: 1.19394\n"
     ]
    },
    {
     "name": "stderr",
     "output_type": "stream",
     "text": [
      "\u001b[32m[I 2021-07-11 23:18:09,545]\u001b[0m Trial 62 finished with value: -1.1939030277449378 and parameters: {'max_depth': 6, 'min_child_weight': 1, 'subsample': 0.6, 'colsample_bytree': 0.6, 'reg_lambda': 0.005469985419894272, 'reg_alpha': 0.0044718375177803405, 'feature_fraction': 0.48250021787825337, 'bagging_fraction': 0.8643834160966294, 'bagging_freq': 1}. Best is trial 58 with value: -1.1462060916872858.\u001b[0m\n"
     ]
    },
    {
     "name": "stdout",
     "output_type": "stream",
     "text": [
      "Early stopping, best iteration is:\n",
      "[243]\ttraining's l1: 0.873362\tvalid_1's l1: 1.19393\n",
      "[LightGBM] [Warning] feature_fraction is set=0.4024669051752507, colsample_bytree=0.5 will be ignored. Current value: feature_fraction=0.4024669051752507\n",
      "[LightGBM] [Warning] bagging_fraction is set=0.9451659716199585, subsample=0.6 will be ignored. Current value: bagging_fraction=0.9451659716199585\n",
      "[LightGBM] [Warning] bagging_freq is set=4, subsample_freq=0 will be ignored. Current value: bagging_freq=4\n",
      "Training until validation scores don't improve for 100 rounds\n",
      "[100]\ttraining's l1: 0.870521\tvalid_1's l1: 1.18844\n",
      "[200]\ttraining's l1: 0.865934\tvalid_1's l1: 1.17905\n",
      "[300]\ttraining's l1: 0.865914\tvalid_1's l1: 1.17905\n"
     ]
    },
    {
     "name": "stderr",
     "output_type": "stream",
     "text": [
      "\u001b[32m[I 2021-07-11 23:18:21,767]\u001b[0m Trial 63 finished with value: -1.1790171560059812 and parameters: {'max_depth': 5, 'min_child_weight': 4, 'subsample': 0.6, 'colsample_bytree': 0.5, 'reg_lambda': 0.09150277233515247, 'reg_alpha': 0.01090097376538094, 'feature_fraction': 0.4024669051752507, 'bagging_fraction': 0.9451659716199585, 'bagging_freq': 4}. Best is trial 58 with value: -1.1462060916872858.\u001b[0m\n"
     ]
    },
    {
     "name": "stdout",
     "output_type": "stream",
     "text": [
      "Early stopping, best iteration is:\n",
      "[209]\ttraining's l1: 0.86593\tvalid_1's l1: 1.17904\n",
      "[LightGBM] [Warning] feature_fraction is set=0.5272562248532433, colsample_bytree=0.5 will be ignored. Current value: feature_fraction=0.5272562248532433\n",
      "[LightGBM] [Warning] bagging_fraction is set=0.4296055953164968, subsample=0.6 will be ignored. Current value: bagging_fraction=0.4296055953164968\n",
      "[LightGBM] [Warning] bagging_freq is set=2, subsample_freq=0 will be ignored. Current value: bagging_freq=2\n",
      "Training until validation scores don't improve for 100 rounds\n",
      "[100]\ttraining's l1: 0.889166\tvalid_1's l1: 1.21727\n",
      "[200]\ttraining's l1: 0.889154\tvalid_1's l1: 1.21727\n"
     ]
    },
    {
     "name": "stderr",
     "output_type": "stream",
     "text": [
      "\u001b[32m[I 2021-07-11 23:18:28,725]\u001b[0m Trial 64 finished with value: -1.2172365095391402 and parameters: {'max_depth': 10, 'min_child_weight': 2, 'subsample': 0.6, 'colsample_bytree': 0.5, 'reg_lambda': 0.03859766558555341, 'reg_alpha': 304.0214828532112, 'feature_fraction': 0.5272562248532433, 'bagging_fraction': 0.4296055953164968, 'bagging_freq': 2}. Best is trial 58 with value: -1.1462060916872858.\u001b[0m\n"
     ]
    },
    {
     "name": "stdout",
     "output_type": "stream",
     "text": [
      "Early stopping, best iteration is:\n",
      "[117]\ttraining's l1: 0.889162\tvalid_1's l1: 1.21726\n",
      "[LightGBM] [Warning] feature_fraction is set=0.44635099337821815, colsample_bytree=0.6 will be ignored. Current value: feature_fraction=0.44635099337821815\n",
      "[LightGBM] [Warning] bagging_fraction is set=0.8999260164835288, subsample=0.6 will be ignored. Current value: bagging_fraction=0.8999260164835288\n",
      "[LightGBM] [Warning] bagging_freq is set=3, subsample_freq=0 will be ignored. Current value: bagging_freq=3\n",
      "Training until validation scores don't improve for 100 rounds\n",
      "[100]\ttraining's l1: 0.885451\tvalid_1's l1: 1.21165\n",
      "[200]\ttraining's l1: 0.885426\tvalid_1's l1: 1.21164\n"
     ]
    },
    {
     "name": "stderr",
     "output_type": "stream",
     "text": [
      "\u001b[32m[I 2021-07-11 23:18:39,895]\u001b[0m Trial 65 finished with value: -1.2116264409909756 and parameters: {'max_depth': 8, 'min_child_weight': 1, 'subsample': 0.6, 'colsample_bytree': 0.6, 'reg_lambda': 0.1718625023315794, 'reg_alpha': 0.042957244532588805, 'feature_fraction': 0.44635099337821815, 'bagging_fraction': 0.8999260164835288, 'bagging_freq': 3}. Best is trial 58 with value: -1.1462060916872858.\u001b[0m\n"
     ]
    },
    {
     "name": "stdout",
     "output_type": "stream",
     "text": [
      "Early stopping, best iteration is:\n",
      "[166]\ttraining's l1: 0.88543\tvalid_1's l1: 1.21163\n",
      "[LightGBM] [Warning] feature_fraction is set=0.740649769423534, colsample_bytree=0.5 will be ignored. Current value: feature_fraction=0.740649769423534\n",
      "[LightGBM] [Warning] bagging_fraction is set=0.9659111642229506, subsample=0.6 will be ignored. Current value: bagging_fraction=0.9659111642229506\n",
      "[LightGBM] [Warning] bagging_freq is set=1, subsample_freq=0 will be ignored. Current value: bagging_freq=1\n",
      "Training until validation scores don't improve for 100 rounds\n",
      "[100]\ttraining's l1: 0.882482\tvalid_1's l1: 1.21136\n",
      "[200]\ttraining's l1: 0.872394\tvalid_1's l1: 1.19544\n",
      "[300]\ttraining's l1: 0.869066\tvalid_1's l1: 1.18909\n",
      "[400]\ttraining's l1: 0.866577\tvalid_1's l1: 1.18312\n",
      "[500]\ttraining's l1: 0.866502\tvalid_1's l1: 1.1831\n"
     ]
    },
    {
     "name": "stderr",
     "output_type": "stream",
     "text": [
      "\u001b[32m[I 2021-07-11 23:18:55,014]\u001b[0m Trial 66 finished with value: -1.1829753128316518 and parameters: {'max_depth': 4, 'min_child_weight': 3, 'subsample': 0.6, 'colsample_bytree': 0.5, 'reg_lambda': 0.00255138890151782, 'reg_alpha': 0.027943343287600075, 'feature_fraction': 0.740649769423534, 'bagging_fraction': 0.9659111642229506, 'bagging_freq': 1}. Best is trial 58 with value: -1.1462060916872858.\u001b[0m\n"
     ]
    },
    {
     "name": "stdout",
     "output_type": "stream",
     "text": [
      "Early stopping, best iteration is:\n",
      "[446]\ttraining's l1: 0.866506\tvalid_1's l1: 1.18309\n",
      "[LightGBM] [Warning] feature_fraction is set=0.4684768554308209, colsample_bytree=0.5 will be ignored. Current value: feature_fraction=0.4684768554308209\n",
      "[LightGBM] [Warning] bagging_fraction is set=0.8462055611577699, subsample=0.6 will be ignored. Current value: bagging_fraction=0.8462055611577699\n",
      "[LightGBM] [Warning] bagging_freq is set=3, subsample_freq=0 will be ignored. Current value: bagging_freq=3\n",
      "Training until validation scores don't improve for 100 rounds\n",
      "[100]\ttraining's l1: 0.900592\tvalid_1's l1: 1.23835\n",
      "[200]\ttraining's l1: 0.888555\tvalid_1's l1: 1.21513\n",
      "[300]\ttraining's l1: 0.885905\tvalid_1's l1: 1.21057\n",
      "[400]\ttraining's l1: 0.88322\tvalid_1's l1: 1.20635\n",
      "[500]\ttraining's l1: 0.881613\tvalid_1's l1: 1.2027\n",
      "[600]\ttraining's l1: 0.879403\tvalid_1's l1: 1.19683\n",
      "[700]\ttraining's l1: 0.87658\tvalid_1's l1: 1.19126\n",
      "[800]\ttraining's l1: 0.874748\tvalid_1's l1: 1.18743\n",
      "[900]\ttraining's l1: 0.872511\tvalid_1's l1: 1.18331\n",
      "[1000]\ttraining's l1: 0.87198\tvalid_1's l1: 1.18272\n",
      "[1100]\ttraining's l1: 0.871388\tvalid_1's l1: 1.18081\n",
      "[1200]\ttraining's l1: 0.870396\tvalid_1's l1: 1.17876\n",
      "[1300]\ttraining's l1: 0.869819\tvalid_1's l1: 1.17729\n",
      "[1400]\ttraining's l1: 0.869411\tvalid_1's l1: 1.17707\n",
      "[1500]\ttraining's l1: 0.868451\tvalid_1's l1: 1.1755\n",
      "[1600]\ttraining's l1: 0.868008\tvalid_1's l1: 1.1749\n",
      "[1700]\ttraining's l1: 0.867073\tvalid_1's l1: 1.17195\n",
      "[1800]\ttraining's l1: 0.866479\tvalid_1's l1: 1.17155\n",
      "[1900]\ttraining's l1: 0.865705\tvalid_1's l1: 1.1706\n",
      "[2000]\ttraining's l1: 0.865326\tvalid_1's l1: 1.16952\n",
      "[2100]\ttraining's l1: 0.864645\tvalid_1's l1: 1.16897\n",
      "[2200]\ttraining's l1: 0.864445\tvalid_1's l1: 1.16844\n",
      "[2300]\ttraining's l1: 0.863292\tvalid_1's l1: 1.1664\n",
      "[2400]\ttraining's l1: 0.862822\tvalid_1's l1: 1.16581\n",
      "[2500]\ttraining's l1: 0.862034\tvalid_1's l1: 1.16459\n",
      "Early stopping, best iteration is:\n",
      "[2465]\ttraining's l1: 0.862093\tvalid_1's l1: 1.16452\n"
     ]
    },
    {
     "name": "stderr",
     "output_type": "stream",
     "text": [
      "\u001b[32m[I 2021-07-11 23:20:17,291]\u001b[0m Trial 67 finished with value: -1.1641591573762005 and parameters: {'max_depth': 3, 'min_child_weight': 4, 'subsample': 0.6, 'colsample_bytree': 0.5, 'reg_lambda': 0.027415508141659172, 'reg_alpha': 0.016333239618526594, 'feature_fraction': 0.4684768554308209, 'bagging_fraction': 0.8462055611577699, 'bagging_freq': 3}. Best is trial 58 with value: -1.1462060916872858.\u001b[0m\n"
     ]
    },
    {
     "name": "stdout",
     "output_type": "stream",
     "text": [
      "[LightGBM] [Warning] feature_fraction is set=0.9007877905328127, colsample_bytree=0.5 will be ignored. Current value: feature_fraction=0.9007877905328127\n",
      "[LightGBM] [Warning] bagging_fraction is set=0.9241254838958394, subsample=0.9 will be ignored. Current value: bagging_fraction=0.9241254838958394\n",
      "[LightGBM] [Warning] bagging_freq is set=4, subsample_freq=0 will be ignored. Current value: bagging_freq=4\n",
      "Training until validation scores don't improve for 100 rounds\n",
      "[100]\ttraining's l1: 0.870115\tvalid_1's l1: 1.19125\n",
      "[200]\ttraining's l1: 0.865365\tvalid_1's l1: 1.18274\n",
      "[300]\ttraining's l1: 0.862887\tvalid_1's l1: 1.17845\n",
      "[400]\ttraining's l1: 0.859604\tvalid_1's l1: 1.17395\n",
      "[500]\ttraining's l1: 0.857125\tvalid_1's l1: 1.16996\n",
      "[600]\ttraining's l1: 0.855739\tvalid_1's l1: 1.16752\n",
      "[700]\ttraining's l1: 0.853553\tvalid_1's l1: 1.16418\n",
      "[800]\ttraining's l1: 0.851016\tvalid_1's l1: 1.15977\n",
      "[900]\ttraining's l1: 0.850026\tvalid_1's l1: 1.1582\n",
      "[1000]\ttraining's l1: 0.849983\tvalid_1's l1: 1.1582\n",
      "Early stopping, best iteration is:\n",
      "[905]\ttraining's l1: 0.849989\tvalid_1's l1: 1.15817\n"
     ]
    },
    {
     "name": "stderr",
     "output_type": "stream",
     "text": [
      "\u001b[32m[I 2021-07-11 23:20:51,769]\u001b[0m Trial 68 finished with value: -1.1579604329182702 and parameters: {'max_depth': 5, 'min_child_weight': 3, 'subsample': 0.9, 'colsample_bytree': 0.5, 'reg_lambda': 0.009371692560679788, 'reg_alpha': 0.001253395975920939, 'feature_fraction': 0.9007877905328127, 'bagging_fraction': 0.9241254838958394, 'bagging_freq': 4}. Best is trial 58 with value: -1.1462060916872858.\u001b[0m\n"
     ]
    },
    {
     "name": "stdout",
     "output_type": "stream",
     "text": [
      "[LightGBM] [Warning] feature_fraction is set=0.4051803466024464, colsample_bytree=0.6 will be ignored. Current value: feature_fraction=0.4051803466024464\n",
      "[LightGBM] [Warning] bagging_fraction is set=0.9875572381697599, subsample=0.7 will be ignored. Current value: bagging_fraction=0.9875572381697599\n",
      "[LightGBM] [Warning] bagging_freq is set=2, subsample_freq=0 will be ignored. Current value: bagging_freq=2\n",
      "Training until validation scores don't improve for 100 rounds\n",
      "[100]\ttraining's l1: 0.877945\tvalid_1's l1: 1.20337\n",
      "[200]\ttraining's l1: 0.875266\tvalid_1's l1: 1.19941\n",
      "[300]\ttraining's l1: 0.874961\tvalid_1's l1: 1.19881\n",
      "[400]\ttraining's l1: 0.87302\tvalid_1's l1: 1.19483\n",
      "[500]\ttraining's l1: 0.872379\tvalid_1's l1: 1.19298\n"
     ]
    },
    {
     "name": "stderr",
     "output_type": "stream",
     "text": [
      "\u001b[32m[I 2021-07-11 23:21:14,454]\u001b[0m Trial 69 finished with value: -1.1928990429114352 and parameters: {'max_depth': 6, 'min_child_weight': 6, 'subsample': 0.7, 'colsample_bytree': 0.6, 'reg_lambda': 0.05483677841179094, 'reg_alpha': 0.0024893775111142907, 'feature_fraction': 0.4051803466024464, 'bagging_fraction': 0.9875572381697599, 'bagging_freq': 2}. Best is trial 58 with value: -1.1462060916872858.\u001b[0m\n"
     ]
    },
    {
     "name": "stdout",
     "output_type": "stream",
     "text": [
      "Early stopping, best iteration is:\n",
      "[428]\ttraining's l1: 0.872443\tvalid_1's l1: 1.19296\n",
      "[LightGBM] [Warning] feature_fraction is set=0.5625410179544307, colsample_bytree=0.5 will be ignored. Current value: feature_fraction=0.5625410179544307\n",
      "[LightGBM] [Warning] bagging_fraction is set=0.8847867797007161, subsample=0.6 will be ignored. Current value: bagging_fraction=0.8847867797007161\n",
      "[LightGBM] [Warning] bagging_freq is set=1, subsample_freq=0 will be ignored. Current value: bagging_freq=1\n",
      "Training until validation scores don't improve for 100 rounds\n",
      "[100]\ttraining's l1: 0.8883\tvalid_1's l1: 1.21846\n",
      "[200]\ttraining's l1: 0.888298\tvalid_1's l1: 1.21846\n",
      "[300]\ttraining's l1: 0.888294\tvalid_1's l1: 1.21847\n"
     ]
    },
    {
     "name": "stderr",
     "output_type": "stream",
     "text": [
      "\u001b[32m[I 2021-07-11 23:21:26,126]\u001b[0m Trial 70 finished with value: -1.2184573450514538 and parameters: {'max_depth': 20, 'min_child_weight': 1, 'subsample': 0.6, 'colsample_bytree': 0.5, 'reg_lambda': 1.4287774902211527, 'reg_alpha': 0.006382883552508822, 'feature_fraction': 0.5625410179544307, 'bagging_fraction': 0.8847867797007161, 'bagging_freq': 1}. Best is trial 58 with value: -1.1462060916872858.\u001b[0m\n"
     ]
    },
    {
     "name": "stdout",
     "output_type": "stream",
     "text": [
      "Early stopping, best iteration is:\n",
      "[230]\ttraining's l1: 0.888297\tvalid_1's l1: 1.21846\n",
      "[LightGBM] [Warning] feature_fraction is set=0.9561954035930013, colsample_bytree=0.6 will be ignored. Current value: feature_fraction=0.9561954035930013\n",
      "[LightGBM] [Warning] bagging_fraction is set=0.9054069552405828, subsample=0.5 will be ignored. Current value: bagging_fraction=0.9054069552405828\n",
      "[LightGBM] [Warning] bagging_freq is set=10, subsample_freq=0 will be ignored. Current value: bagging_freq=10\n",
      "Training until validation scores don't improve for 100 rounds\n",
      "[100]\ttraining's l1: 0.884602\tvalid_1's l1: 1.21146\n",
      "[200]\ttraining's l1: 0.874663\tvalid_1's l1: 1.19735\n",
      "[300]\ttraining's l1: 0.870931\tvalid_1's l1: 1.19033\n",
      "[400]\ttraining's l1: 0.869185\tvalid_1's l1: 1.18746\n",
      "[500]\ttraining's l1: 0.866608\tvalid_1's l1: 1.17972\n",
      "[600]\ttraining's l1: 0.863109\tvalid_1's l1: 1.17344\n",
      "[700]\ttraining's l1: 0.862175\tvalid_1's l1: 1.17245\n",
      "[800]\ttraining's l1: 0.861404\tvalid_1's l1: 1.17137\n",
      "[900]\ttraining's l1: 0.860266\tvalid_1's l1: 1.16919\n",
      "[1000]\ttraining's l1: 0.85792\tvalid_1's l1: 1.16552\n",
      "[1100]\ttraining's l1: 0.857605\tvalid_1's l1: 1.16479\n",
      "[1200]\ttraining's l1: 0.856125\tvalid_1's l1: 1.16434\n",
      "[1300]\ttraining's l1: 0.855726\tvalid_1's l1: 1.16403\n",
      "[1400]\ttraining's l1: 0.854914\tvalid_1's l1: 1.16308\n",
      "[1500]\ttraining's l1: 0.854772\tvalid_1's l1: 1.16303\n",
      "[1600]\ttraining's l1: 0.854307\tvalid_1's l1: 1.16202\n",
      "[1700]\ttraining's l1: 0.853556\tvalid_1's l1: 1.16091\n",
      "[1800]\ttraining's l1: 0.85322\tvalid_1's l1: 1.16102\n",
      "[1900]\ttraining's l1: 0.851457\tvalid_1's l1: 1.15843\n",
      "[2000]\ttraining's l1: 0.8494\tvalid_1's l1: 1.15479\n",
      "[2100]\ttraining's l1: 0.84869\tvalid_1's l1: 1.15421\n",
      "[2200]\ttraining's l1: 0.84842\tvalid_1's l1: 1.15396\n",
      "Early stopping, best iteration is:\n",
      "[2167]\ttraining's l1: 0.848456\tvalid_1's l1: 1.15388\n"
     ]
    },
    {
     "name": "stderr",
     "output_type": "stream",
     "text": [
      "\u001b[32m[I 2021-07-11 23:22:26,284]\u001b[0m Trial 71 finished with value: -1.1536664627576085 and parameters: {'max_depth': 4, 'min_child_weight': 10, 'subsample': 0.5, 'colsample_bytree': 0.6, 'reg_lambda': 12.472720238489197, 'reg_alpha': 0.03449139785447358, 'feature_fraction': 0.9561954035930013, 'bagging_fraction': 0.9054069552405828, 'bagging_freq': 10}. Best is trial 58 with value: -1.1462060916872858.\u001b[0m\n"
     ]
    },
    {
     "name": "stdout",
     "output_type": "stream",
     "text": [
      "[LightGBM] [Warning] feature_fraction is set=0.9543020653280817, colsample_bytree=0.6 will be ignored. Current value: feature_fraction=0.9543020653280817\n",
      "[LightGBM] [Warning] bagging_fraction is set=0.9149646015031041, subsample=0.5 will be ignored. Current value: bagging_fraction=0.9149646015031041\n",
      "[LightGBM] [Warning] bagging_freq is set=10, subsample_freq=0 will be ignored. Current value: bagging_freq=10\n",
      "Training until validation scores don't improve for 100 rounds\n",
      "[100]\ttraining's l1: 0.886448\tvalid_1's l1: 1.21663\n",
      "[200]\ttraining's l1: 0.873023\tvalid_1's l1: 1.19534\n",
      "[300]\ttraining's l1: 0.867619\tvalid_1's l1: 1.18638\n",
      "[400]\ttraining's l1: 0.863709\tvalid_1's l1: 1.17853\n",
      "[500]\ttraining's l1: 0.862775\tvalid_1's l1: 1.17718\n",
      "[600]\ttraining's l1: 0.86116\tvalid_1's l1: 1.17397\n",
      "[700]\ttraining's l1: 0.859401\tvalid_1's l1: 1.16976\n",
      "[800]\ttraining's l1: 0.858787\tvalid_1's l1: 1.16907\n",
      "[900]\ttraining's l1: 0.857805\tvalid_1's l1: 1.16874\n",
      "[1000]\ttraining's l1: 0.855349\tvalid_1's l1: 1.16427\n",
      "[1100]\ttraining's l1: 0.854456\tvalid_1's l1: 1.16323\n"
     ]
    },
    {
     "name": "stderr",
     "output_type": "stream",
     "text": [
      "\u001b[32m[I 2021-07-11 23:22:57,749]\u001b[0m Trial 72 finished with value: -1.1625966975188449 and parameters: {'max_depth': 4, 'min_child_weight': 10, 'subsample': 0.5, 'colsample_bytree': 0.6, 'reg_lambda': 0.3404675022887539, 'reg_alpha': 0.052486424230375174, 'feature_fraction': 0.9543020653280817, 'bagging_fraction': 0.9149646015031041, 'bagging_freq': 10}. Best is trial 58 with value: -1.1462060916872858.\u001b[0m\n"
     ]
    },
    {
     "name": "stdout",
     "output_type": "stream",
     "text": [
      "Early stopping, best iteration is:\n",
      "[1062]\ttraining's l1: 0.85479\tvalid_1's l1: 1.16276\n",
      "[LightGBM] [Warning] feature_fraction is set=0.9896165959396791, colsample_bytree=0.6 will be ignored. Current value: feature_fraction=0.9896165959396791\n",
      "[LightGBM] [Warning] bagging_fraction is set=0.870671912091549, subsample=0.7 will be ignored. Current value: bagging_fraction=0.870671912091549\n",
      "[LightGBM] [Warning] bagging_freq is set=2, subsample_freq=0 will be ignored. Current value: bagging_freq=2\n",
      "Training until validation scores don't improve for 100 rounds\n",
      "[100]\ttraining's l1: 0.895936\tvalid_1's l1: 1.22893\n",
      "[200]\ttraining's l1: 0.886911\tvalid_1's l1: 1.2116\n",
      "[300]\ttraining's l1: 0.884661\tvalid_1's l1: 1.20692\n",
      "[400]\ttraining's l1: 0.882293\tvalid_1's l1: 1.20435\n",
      "[500]\ttraining's l1: 0.879521\tvalid_1's l1: 1.19865\n",
      "[600]\ttraining's l1: 0.877527\tvalid_1's l1: 1.19323\n",
      "[700]\ttraining's l1: 0.875346\tvalid_1's l1: 1.1891\n",
      "[800]\ttraining's l1: 0.873165\tvalid_1's l1: 1.18478\n",
      "[900]\ttraining's l1: 0.871563\tvalid_1's l1: 1.18146\n",
      "[1000]\ttraining's l1: 0.870419\tvalid_1's l1: 1.18011\n",
      "[1100]\ttraining's l1: 0.869925\tvalid_1's l1: 1.17954\n",
      "[1200]\ttraining's l1: 0.868817\tvalid_1's l1: 1.17789\n",
      "[1300]\ttraining's l1: 0.868197\tvalid_1's l1: 1.17699\n",
      "[1400]\ttraining's l1: 0.867364\tvalid_1's l1: 1.17567\n",
      "[1500]\ttraining's l1: 0.866763\tvalid_1's l1: 1.17496\n",
      "[1600]\ttraining's l1: 0.865819\tvalid_1's l1: 1.17209\n",
      "[1700]\ttraining's l1: 0.864428\tvalid_1's l1: 1.1689\n",
      "[1800]\ttraining's l1: 0.863576\tvalid_1's l1: 1.16763\n",
      "[1900]\ttraining's l1: 0.863303\tvalid_1's l1: 1.16729\n",
      "[2000]\ttraining's l1: 0.862906\tvalid_1's l1: 1.16714\n",
      "[2100]\ttraining's l1: 0.862738\tvalid_1's l1: 1.1669\n",
      "Early stopping, best iteration is:\n",
      "[2015]\ttraining's l1: 0.862864\tvalid_1's l1: 1.16689\n"
     ]
    },
    {
     "name": "stderr",
     "output_type": "stream",
     "text": [
      "\u001b[32m[I 2021-07-11 23:24:15,890]\u001b[0m Trial 73 finished with value: -1.166707722619714 and parameters: {'max_depth': 3, 'min_child_weight': 8, 'subsample': 0.7, 'colsample_bytree': 0.6, 'reg_lambda': 14.870846429126308, 'reg_alpha': 0.019929425127102243, 'feature_fraction': 0.9896165959396791, 'bagging_fraction': 0.870671912091549, 'bagging_freq': 2}. Best is trial 58 with value: -1.1462060916872858.\u001b[0m\n"
     ]
    },
    {
     "name": "stdout",
     "output_type": "stream",
     "text": [
      "[LightGBM] [Warning] feature_fraction is set=0.9590493698301378, colsample_bytree=0.5 will be ignored. Current value: feature_fraction=0.9590493698301378\n",
      "[LightGBM] [Warning] bagging_fraction is set=0.9017962785461695, subsample=0.6 will be ignored. Current value: bagging_fraction=0.9017962785461695\n",
      "[LightGBM] [Warning] bagging_freq is set=3, subsample_freq=0 will be ignored. Current value: bagging_freq=3\n",
      "Training until validation scores don't improve for 100 rounds\n",
      "[100]\ttraining's l1: 0.873049\tvalid_1's l1: 1.19555\n",
      "[200]\ttraining's l1: 0.868824\tvalid_1's l1: 1.18874\n",
      "[300]\ttraining's l1: 0.865283\tvalid_1's l1: 1.18388\n",
      "[400]\ttraining's l1: 0.861038\tvalid_1's l1: 1.17844\n",
      "[500]\ttraining's l1: 0.857593\tvalid_1's l1: 1.17107\n",
      "[600]\ttraining's l1: 0.854678\tvalid_1's l1: 1.16672\n",
      "[700]\ttraining's l1: 0.852747\tvalid_1's l1: 1.16407\n",
      "[800]\ttraining's l1: 0.850301\tvalid_1's l1: 1.16249\n",
      "[900]\ttraining's l1: 0.848101\tvalid_1's l1: 1.1592\n",
      "[1000]\ttraining's l1: 0.846561\tvalid_1's l1: 1.15801\n",
      "[1100]\ttraining's l1: 0.845579\tvalid_1's l1: 1.15613\n",
      "[1200]\ttraining's l1: 0.843958\tvalid_1's l1: 1.15431\n",
      "[1300]\ttraining's l1: 0.841952\tvalid_1's l1: 1.15126\n",
      "[1400]\ttraining's l1: 0.841556\tvalid_1's l1: 1.1511\n",
      "[1500]\ttraining's l1: 0.840334\tvalid_1's l1: 1.14998\n",
      "[1600]\ttraining's l1: 0.838626\tvalid_1's l1: 1.14853\n",
      "[1700]\ttraining's l1: 0.837826\tvalid_1's l1: 1.14779\n",
      "[1800]\ttraining's l1: 0.837568\tvalid_1's l1: 1.14766\n",
      "[1900]\ttraining's l1: 0.837188\tvalid_1's l1: 1.14693\n",
      "[2000]\ttraining's l1: 0.836813\tvalid_1's l1: 1.14667\n",
      "[2100]\ttraining's l1: 0.836524\tvalid_1's l1: 1.14639\n",
      "[2200]\ttraining's l1: 0.83613\tvalid_1's l1: 1.14661\n",
      "Early stopping, best iteration is:\n",
      "[2126]\ttraining's l1: 0.836312\tvalid_1's l1: 1.14621\n"
     ]
    },
    {
     "name": "stderr",
     "output_type": "stream",
     "text": [
      "\u001b[32m[I 2021-07-11 23:25:36,346]\u001b[0m Trial 74 finished with value: -1.1458399417968985 and parameters: {'max_depth': 5, 'min_child_weight': 10, 'subsample': 0.6, 'colsample_bytree': 0.5, 'reg_lambda': 0.713345675706146, 'reg_alpha': 0.035486851631028014, 'feature_fraction': 0.9590493698301378, 'bagging_fraction': 0.9017962785461695, 'bagging_freq': 3}. Best is trial 74 with value: -1.1458399417968985.\u001b[0m\n"
     ]
    },
    {
     "name": "stdout",
     "output_type": "stream",
     "text": [
      "[LightGBM] [Warning] feature_fraction is set=0.9118625667793899, colsample_bytree=0.5 will be ignored. Current value: feature_fraction=0.9118625667793899\n",
      "[LightGBM] [Warning] bagging_fraction is set=0.9459983074708218, subsample=0.6 will be ignored. Current value: bagging_fraction=0.9459983074708218\n",
      "[LightGBM] [Warning] bagging_freq is set=3, subsample_freq=0 will be ignored. Current value: bagging_freq=3\n",
      "Training until validation scores don't improve for 100 rounds\n",
      "[100]\ttraining's l1: 0.879176\tvalid_1's l1: 1.20454\n",
      "[200]\ttraining's l1: 0.874637\tvalid_1's l1: 1.19665\n",
      "[300]\ttraining's l1: 0.871611\tvalid_1's l1: 1.19213\n",
      "[400]\ttraining's l1: 0.871437\tvalid_1's l1: 1.19175\n"
     ]
    },
    {
     "name": "stderr",
     "output_type": "stream",
     "text": [
      "\u001b[32m[I 2021-07-11 23:25:55,723]\u001b[0m Trial 75 finished with value: -1.191694477771913 and parameters: {'max_depth': 6, 'min_child_weight': 11, 'subsample': 0.6, 'colsample_bytree': 0.5, 'reg_lambda': 0.7766551260373051, 'reg_alpha': 0.006877013637732087, 'feature_fraction': 0.9118625667793899, 'bagging_fraction': 0.9459983074708218, 'bagging_freq': 3}. Best is trial 74 with value: -1.1458399417968985.\u001b[0m\n"
     ]
    },
    {
     "name": "stdout",
     "output_type": "stream",
     "text": [
      "Early stopping, best iteration is:\n",
      "[380]\ttraining's l1: 0.871452\tvalid_1's l1: 1.19174\n",
      "[LightGBM] [Warning] feature_fraction is set=0.9392899612403043, colsample_bytree=0.5 will be ignored. Current value: feature_fraction=0.9392899612403043\n",
      "[LightGBM] [Warning] bagging_fraction is set=0.8508570792881961, subsample=0.6 will be ignored. Current value: bagging_fraction=0.8508570792881961\n",
      "[LightGBM] [Warning] bagging_freq is set=4, subsample_freq=0 will be ignored. Current value: bagging_freq=4\n",
      "Training until validation scores don't improve for 100 rounds\n",
      "[100]\ttraining's l1: 0.869836\tvalid_1's l1: 1.1921\n",
      "[200]\ttraining's l1: 0.864991\tvalid_1's l1: 1.18303\n",
      "[300]\ttraining's l1: 0.859904\tvalid_1's l1: 1.17552\n",
      "[400]\ttraining's l1: 0.855226\tvalid_1's l1: 1.1667\n",
      "[500]\ttraining's l1: 0.853882\tvalid_1's l1: 1.16465\n",
      "[600]\ttraining's l1: 0.852389\tvalid_1's l1: 1.16165\n",
      "[700]\ttraining's l1: 0.852345\tvalid_1's l1: 1.16164\n"
     ]
    },
    {
     "name": "stderr",
     "output_type": "stream",
     "text": [
      "\u001b[32m[I 2021-07-11 23:26:20,860]\u001b[0m Trial 76 finished with value: -1.161480387488847 and parameters: {'max_depth': 5, 'min_child_weight': 9, 'subsample': 0.6, 'colsample_bytree': 0.5, 'reg_lambda': 0.08423551785635912, 'reg_alpha': 0.0032485612742132407, 'feature_fraction': 0.9392899612403043, 'bagging_fraction': 0.8508570792881961, 'bagging_freq': 4}. Best is trial 74 with value: -1.1458399417968985.\u001b[0m\n"
     ]
    },
    {
     "name": "stdout",
     "output_type": "stream",
     "text": [
      "Early stopping, best iteration is:\n",
      "[655]\ttraining's l1: 0.852354\tvalid_1's l1: 1.16162\n",
      "[LightGBM] [Warning] feature_fraction is set=0.9814769998395129, colsample_bytree=0.5 will be ignored. Current value: feature_fraction=0.9814769998395129\n",
      "[LightGBM] [Warning] bagging_fraction is set=0.8900854804753868, subsample=0.6 will be ignored. Current value: bagging_fraction=0.8900854804753868\n",
      "[LightGBM] [Warning] bagging_freq is set=2, subsample_freq=0 will be ignored. Current value: bagging_freq=2\n",
      "Training until validation scores don't improve for 100 rounds\n",
      "[100]\ttraining's l1: 0.887178\tvalid_1's l1: 1.21651\n",
      "[200]\ttraining's l1: 0.887175\tvalid_1's l1: 1.21651\n",
      "[300]\ttraining's l1: 0.884654\tvalid_1's l1: 1.2108\n"
     ]
    },
    {
     "name": "stderr",
     "output_type": "stream",
     "text": [
      "\u001b[32m[I 2021-07-11 23:26:38,597]\u001b[0m Trial 77 finished with value: -1.2107772423588241 and parameters: {'max_depth': 12, 'min_child_weight': 2, 'subsample': 0.6, 'colsample_bytree': 0.5, 'reg_lambda': 0.14520855305319952, 'reg_alpha': 0.01238549107568008, 'feature_fraction': 0.9814769998395129, 'bagging_fraction': 0.8900854804753868, 'bagging_freq': 2}. Best is trial 74 with value: -1.1458399417968985.\u001b[0m\n"
     ]
    },
    {
     "name": "stdout",
     "output_type": "stream",
     "text": [
      "Early stopping, best iteration is:\n",
      "[283]\ttraining's l1: 0.884663\tvalid_1's l1: 1.21078\n",
      "[LightGBM] [Warning] feature_fraction is set=0.6911309441898787, colsample_bytree=0.5 will be ignored. Current value: feature_fraction=0.6911309441898787\n",
      "[LightGBM] [Warning] bagging_fraction is set=0.9710777303483663, subsample=0.6 will be ignored. Current value: bagging_fraction=0.9710777303483663\n",
      "[LightGBM] [Warning] bagging_freq is set=3, subsample_freq=0 will be ignored. Current value: bagging_freq=3\n",
      "Training until validation scores don't improve for 100 rounds\n",
      "[100]\ttraining's l1: 0.886227\tvalid_1's l1: 1.21448\n",
      "[200]\ttraining's l1: 0.884722\tvalid_1's l1: 1.2113\n"
     ]
    },
    {
     "name": "stderr",
     "output_type": "stream",
     "text": [
      "\u001b[32m[I 2021-07-11 23:26:49,208]\u001b[0m Trial 78 finished with value: -1.2112887479798153 and parameters: {'max_depth': 7, 'min_child_weight': 4, 'subsample': 0.6, 'colsample_bytree': 0.5, 'reg_lambda': 0.39068357720331537, 'reg_alpha': 0.02478784467644333, 'feature_fraction': 0.6911309441898787, 'bagging_fraction': 0.9710777303483663, 'bagging_freq': 3}. Best is trial 74 with value: -1.1458399417968985.\u001b[0m\n"
     ]
    },
    {
     "name": "stdout",
     "output_type": "stream",
     "text": [
      "Early stopping, best iteration is:\n",
      "[185]\ttraining's l1: 0.884723\tvalid_1's l1: 1.21129\n",
      "[LightGBM] [Warning] feature_fraction is set=0.9630131963710025, colsample_bytree=0.5 will be ignored. Current value: feature_fraction=0.9630131963710025\n",
      "[LightGBM] [Warning] bagging_fraction is set=0.9358575861637828, subsample=0.6 will be ignored. Current value: bagging_fraction=0.9358575861637828\n",
      "[LightGBM] [Warning] bagging_freq is set=3, subsample_freq=0 will be ignored. Current value: bagging_freq=3\n",
      "Training until validation scores don't improve for 100 rounds\n",
      "[100]\ttraining's l1: 0.927361\tvalid_1's l1: 1.27719\n",
      "[200]\ttraining's l1: 0.921522\tvalid_1's l1: 1.26523\n",
      "[300]\ttraining's l1: 0.91693\tvalid_1's l1: 1.25506\n",
      "[400]\ttraining's l1: 0.914859\tvalid_1's l1: 1.25025\n",
      "[500]\ttraining's l1: 0.912671\tvalid_1's l1: 1.24594\n",
      "[600]\ttraining's l1: 0.911029\tvalid_1's l1: 1.24262\n",
      "[700]\ttraining's l1: 0.910444\tvalid_1's l1: 1.24103\n",
      "[800]\ttraining's l1: 0.910313\tvalid_1's l1: 1.24074\n",
      "[900]\ttraining's l1: 0.909913\tvalid_1's l1: 1.2398\n",
      "[1000]\ttraining's l1: 0.909468\tvalid_1's l1: 1.23914\n",
      "[1100]\ttraining's l1: 0.909266\tvalid_1's l1: 1.23837\n",
      "[1200]\ttraining's l1: 0.909132\tvalid_1's l1: 1.23784\n",
      "[1300]\ttraining's l1: 0.909104\tvalid_1's l1: 1.23779\n",
      "[1400]\ttraining's l1: 0.909072\tvalid_1's l1: 1.23775\n",
      "[1500]\ttraining's l1: 0.908737\tvalid_1's l1: 1.23695\n",
      "[1600]\ttraining's l1: 0.908719\tvalid_1's l1: 1.23693\n",
      "[1700]\ttraining's l1: 0.908642\tvalid_1's l1: 1.23672\n",
      "[1800]\ttraining's l1: 0.908282\tvalid_1's l1: 1.23621\n",
      "[1900]\ttraining's l1: 0.908187\tvalid_1's l1: 1.23589\n",
      "[2000]\ttraining's l1: 0.908084\tvalid_1's l1: 1.2354\n",
      "[2100]\ttraining's l1: 0.908058\tvalid_1's l1: 1.23533\n",
      "[2200]\ttraining's l1: 0.908004\tvalid_1's l1: 1.2352\n",
      "[2300]\ttraining's l1: 0.907943\tvalid_1's l1: 1.23498\n",
      "[2400]\ttraining's l1: 0.907689\tvalid_1's l1: 1.23452\n",
      "[2500]\ttraining's l1: 0.907674\tvalid_1's l1: 1.23451\n",
      "[2600]\ttraining's l1: 0.907555\tvalid_1's l1: 1.23411\n",
      "[2700]\ttraining's l1: 0.907502\tvalid_1's l1: 1.23411\n",
      "[2800]\ttraining's l1: 0.90736\tvalid_1's l1: 1.23348\n",
      "[2900]\ttraining's l1: 0.907213\tvalid_1's l1: 1.23327\n",
      "[3000]\ttraining's l1: 0.907169\tvalid_1's l1: 1.23315\n",
      "[3100]\ttraining's l1: 0.90715\tvalid_1's l1: 1.23312\n",
      "Early stopping, best iteration is:\n",
      "[3025]\ttraining's l1: 0.907162\tvalid_1's l1: 1.23309\n"
     ]
    },
    {
     "name": "stderr",
     "output_type": "stream",
     "text": [
      "\u001b[32m[I 2021-07-11 23:28:25,805]\u001b[0m Trial 79 finished with value: -1.2328875435887714 and parameters: {'max_depth': 2, 'min_child_weight': 7, 'subsample': 0.6, 'colsample_bytree': 0.5, 'reg_lambda': 2.5288535735223134, 'reg_alpha': 0.04689458510412815, 'feature_fraction': 0.9630131963710025, 'bagging_fraction': 0.9358575861637828, 'bagging_freq': 3}. Best is trial 74 with value: -1.1458399417968985.\u001b[0m\n"
     ]
    },
    {
     "name": "stdout",
     "output_type": "stream",
     "text": [
      "[LightGBM] [Warning] feature_fraction is set=0.9983904161899406, colsample_bytree=0.5 will be ignored. Current value: feature_fraction=0.9983904161899406\n",
      "[LightGBM] [Warning] bagging_fraction is set=0.9518251068613349, subsample=0.6 will be ignored. Current value: bagging_fraction=0.9518251068613349\n",
      "[LightGBM] [Warning] bagging_freq is set=4, subsample_freq=0 will be ignored. Current value: bagging_freq=4\n",
      "Training until validation scores don't improve for 100 rounds\n",
      "[100]\ttraining's l1: 0.872599\tvalid_1's l1: 1.19634\n",
      "[200]\ttraining's l1: 0.867123\tvalid_1's l1: 1.18707\n",
      "[300]\ttraining's l1: 0.864329\tvalid_1's l1: 1.18291\n",
      "[400]\ttraining's l1: 0.861563\tvalid_1's l1: 1.17708\n",
      "[500]\ttraining's l1: 0.858355\tvalid_1's l1: 1.17121\n",
      "[600]\ttraining's l1: 0.856551\tvalid_1's l1: 1.16823\n",
      "[700]\ttraining's l1: 0.856084\tvalid_1's l1: 1.16757\n",
      "[800]\ttraining's l1: 0.855236\tvalid_1's l1: 1.16711\n",
      "[900]\ttraining's l1: 0.854419\tvalid_1's l1: 1.1664\n",
      "[1000]\ttraining's l1: 0.853303\tvalid_1's l1: 1.16569\n",
      "[1100]\ttraining's l1: 0.850196\tvalid_1's l1: 1.16152\n",
      "[1200]\ttraining's l1: 0.848066\tvalid_1's l1: 1.15828\n",
      "[1300]\ttraining's l1: 0.846023\tvalid_1's l1: 1.1546\n",
      "[1400]\ttraining's l1: 0.845518\tvalid_1's l1: 1.15458\n",
      "[1500]\ttraining's l1: 0.843857\tvalid_1's l1: 1.1524\n",
      "[1600]\ttraining's l1: 0.842957\tvalid_1's l1: 1.15199\n",
      "[1700]\ttraining's l1: 0.842181\tvalid_1's l1: 1.151\n",
      "Early stopping, best iteration is:\n",
      "[1694]\ttraining's l1: 0.842193\tvalid_1's l1: 1.15097\n"
     ]
    },
    {
     "name": "stderr",
     "output_type": "stream",
     "text": [
      "\u001b[32m[I 2021-07-11 23:29:28,927]\u001b[0m Trial 80 finished with value: -1.1507456256207311 and parameters: {'max_depth': 5, 'min_child_weight': 12, 'subsample': 0.6, 'colsample_bytree': 0.5, 'reg_lambda': 1.2542955559659235, 'reg_alpha': 12.394250281638614, 'feature_fraction': 0.9983904161899406, 'bagging_fraction': 0.9518251068613349, 'bagging_freq': 4}. Best is trial 74 with value: -1.1458399417968985.\u001b[0m\n"
     ]
    },
    {
     "name": "stdout",
     "output_type": "stream",
     "text": [
      "[LightGBM] [Warning] feature_fraction is set=0.9974263082656998, colsample_bytree=0.5 will be ignored. Current value: feature_fraction=0.9974263082656998\n",
      "[LightGBM] [Warning] bagging_fraction is set=0.9572597130379635, subsample=0.6 will be ignored. Current value: bagging_fraction=0.9572597130379635\n",
      "[LightGBM] [Warning] bagging_freq is set=4, subsample_freq=0 will be ignored. Current value: bagging_freq=4\n",
      "Training until validation scores don't improve for 100 rounds\n",
      "[100]\ttraining's l1: 0.872118\tvalid_1's l1: 1.19486\n",
      "[200]\ttraining's l1: 0.867916\tvalid_1's l1: 1.18645\n",
      "[300]\ttraining's l1: 0.864991\tvalid_1's l1: 1.18124\n",
      "[400]\ttraining's l1: 0.863101\tvalid_1's l1: 1.17855\n",
      "[500]\ttraining's l1: 0.860989\tvalid_1's l1: 1.17344\n",
      "[600]\ttraining's l1: 0.858849\tvalid_1's l1: 1.16886\n",
      "[700]\ttraining's l1: 0.855048\tvalid_1's l1: 1.16352\n",
      "[800]\ttraining's l1: 0.853204\tvalid_1's l1: 1.16067\n",
      "[900]\ttraining's l1: 0.850877\tvalid_1's l1: 1.15844\n",
      "[1000]\ttraining's l1: 0.849425\tvalid_1's l1: 1.15745\n",
      "[1100]\ttraining's l1: 0.847888\tvalid_1's l1: 1.15614\n",
      "[1200]\ttraining's l1: 0.846747\tvalid_1's l1: 1.1548\n",
      "[1300]\ttraining's l1: 0.845822\tvalid_1's l1: 1.15388\n",
      "[1400]\ttraining's l1: 0.844086\tvalid_1's l1: 1.15163\n",
      "[1500]\ttraining's l1: 0.842952\tvalid_1's l1: 1.15075\n",
      "[1600]\ttraining's l1: 0.841215\tvalid_1's l1: 1.14907\n",
      "[1700]\ttraining's l1: 0.840292\tvalid_1's l1: 1.14831\n",
      "[1800]\ttraining's l1: 0.8393\tvalid_1's l1: 1.14741\n",
      "[1900]\ttraining's l1: 0.838952\tvalid_1's l1: 1.14722\n",
      "[2000]\ttraining's l1: 0.838725\tvalid_1's l1: 1.14738\n",
      "Early stopping, best iteration is:\n",
      "[1906]\ttraining's l1: 0.838928\tvalid_1's l1: 1.14721\n"
     ]
    },
    {
     "name": "stderr",
     "output_type": "stream",
     "text": [
      "\u001b[32m[I 2021-07-11 23:30:39,223]\u001b[0m Trial 81 finished with value: -1.1469170839899037 and parameters: {'max_depth': 5, 'min_child_weight': 12, 'subsample': 0.6, 'colsample_bytree': 0.5, 'reg_lambda': 1.2702116486798596, 'reg_alpha': 2.4960430243228897, 'feature_fraction': 0.9974263082656998, 'bagging_fraction': 0.9572597130379635, 'bagging_freq': 4}. Best is trial 74 with value: -1.1458399417968985.\u001b[0m\n"
     ]
    },
    {
     "name": "stdout",
     "output_type": "stream",
     "text": [
      "[LightGBM] [Warning] feature_fraction is set=0.9889347855386895, colsample_bytree=0.5 will be ignored. Current value: feature_fraction=0.9889347855386895\n",
      "[LightGBM] [Warning] bagging_fraction is set=0.9961905704506769, subsample=0.6 will be ignored. Current value: bagging_fraction=0.9961905704506769\n",
      "[LightGBM] [Warning] bagging_freq is set=4, subsample_freq=0 will be ignored. Current value: bagging_freq=4\n",
      "Training until validation scores don't improve for 100 rounds\n",
      "[100]\ttraining's l1: 0.871495\tvalid_1's l1: 1.19618\n",
      "[200]\ttraining's l1: 0.867593\tvalid_1's l1: 1.18939\n",
      "[300]\ttraining's l1: 0.863191\tvalid_1's l1: 1.18155\n",
      "[400]\ttraining's l1: 0.859501\tvalid_1's l1: 1.17635\n",
      "[500]\ttraining's l1: 0.856377\tvalid_1's l1: 1.17082\n",
      "[600]\ttraining's l1: 0.854294\tvalid_1's l1: 1.16793\n",
      "[700]\ttraining's l1: 0.852351\tvalid_1's l1: 1.16564\n",
      "[800]\ttraining's l1: 0.851426\tvalid_1's l1: 1.16558\n",
      "[900]\ttraining's l1: 0.850042\tvalid_1's l1: 1.16408\n",
      "[1000]\ttraining's l1: 0.848626\tvalid_1's l1: 1.16228\n",
      "[1100]\ttraining's l1: 0.846563\tvalid_1's l1: 1.16063\n",
      "[1200]\ttraining's l1: 0.844678\tvalid_1's l1: 1.15746\n",
      "[1300]\ttraining's l1: 0.844186\tvalid_1's l1: 1.15719\n",
      "Early stopping, best iteration is:\n",
      "[1211]\ttraining's l1: 0.8445\tvalid_1's l1: 1.15699\n"
     ]
    },
    {
     "name": "stderr",
     "output_type": "stream",
     "text": [
      "\u001b[32m[I 2021-07-11 23:31:27,661]\u001b[0m Trial 82 finished with value: -1.1567329937344648 and parameters: {'max_depth': 5, 'min_child_weight': 12, 'subsample': 0.6, 'colsample_bytree': 0.5, 'reg_lambda': 1.0428126036649519, 'reg_alpha': 12.179976704052237, 'feature_fraction': 0.9889347855386895, 'bagging_fraction': 0.9961905704506769, 'bagging_freq': 4}. Best is trial 74 with value: -1.1458399417968985.\u001b[0m\n"
     ]
    },
    {
     "name": "stdout",
     "output_type": "stream",
     "text": [
      "[LightGBM] [Warning] feature_fraction is set=0.9992951366278984, colsample_bytree=0.5 will be ignored. Current value: feature_fraction=0.9992951366278984\n",
      "[LightGBM] [Warning] bagging_fraction is set=0.9496698407958934, subsample=0.6 will be ignored. Current value: bagging_fraction=0.9496698407958934\n",
      "[LightGBM] [Warning] bagging_freq is set=4, subsample_freq=0 will be ignored. Current value: bagging_freq=4\n",
      "Training until validation scores don't improve for 100 rounds\n",
      "[100]\ttraining's l1: 0.878534\tvalid_1's l1: 1.2028\n",
      "[200]\ttraining's l1: 0.877642\tvalid_1's l1: 1.20079\n",
      "[300]\ttraining's l1: 0.877386\tvalid_1's l1: 1.20059\n",
      "[400]\ttraining's l1: 0.877201\tvalid_1's l1: 1.20013\n",
      "[500]\ttraining's l1: 0.876121\tvalid_1's l1: 1.19765\n",
      "[600]\ttraining's l1: 0.874187\tvalid_1's l1: 1.19389\n",
      "[700]\ttraining's l1: 0.874123\tvalid_1's l1: 1.19374\n",
      "[800]\ttraining's l1: 0.874081\tvalid_1's l1: 1.19375\n"
     ]
    },
    {
     "name": "stderr",
     "output_type": "stream",
     "text": [
      "\u001b[32m[I 2021-07-11 23:31:59,106]\u001b[0m Trial 83 finished with value: -1.1936802100603627 and parameters: {'max_depth': 6, 'min_child_weight': 13, 'subsample': 0.6, 'colsample_bytree': 0.5, 'reg_lambda': 1.4155130259022748, 'reg_alpha': 20.227489554970713, 'feature_fraction': 0.9992951366278984, 'bagging_fraction': 0.9496698407958934, 'bagging_freq': 4}. Best is trial 74 with value: -1.1458399417968985.\u001b[0m\n"
     ]
    },
    {
     "name": "stdout",
     "output_type": "stream",
     "text": [
      "Early stopping, best iteration is:\n",
      "[775]\ttraining's l1: 0.874105\tvalid_1's l1: 1.19371\n",
      "[LightGBM] [Warning] feature_fraction is set=0.9720946379416469, colsample_bytree=0.5 will be ignored. Current value: feature_fraction=0.9720946379416469\n",
      "[LightGBM] [Warning] bagging_fraction is set=0.9286167172281912, subsample=0.6 will be ignored. Current value: bagging_fraction=0.9286167172281912\n",
      "[LightGBM] [Warning] bagging_freq is set=3, subsample_freq=0 will be ignored. Current value: bagging_freq=3\n",
      "Training until validation scores don't improve for 100 rounds\n",
      "[100]\ttraining's l1: 0.88548\tvalid_1's l1: 1.21449\n",
      "[200]\ttraining's l1: 0.884544\tvalid_1's l1: 1.21252\n",
      "[300]\ttraining's l1: 0.883641\tvalid_1's l1: 1.21068\n",
      "[400]\ttraining's l1: 0.881628\tvalid_1's l1: 1.20628\n",
      "[500]\ttraining's l1: 0.881074\tvalid_1's l1: 1.20469\n",
      "[600]\ttraining's l1: 0.880709\tvalid_1's l1: 1.20425\n",
      "[700]\ttraining's l1: 0.880058\tvalid_1's l1: 1.20234\n",
      "[800]\ttraining's l1: 0.878936\tvalid_1's l1: 1.19956\n",
      "[900]\ttraining's l1: 0.878049\tvalid_1's l1: 1.19743\n",
      "[1000]\ttraining's l1: 0.873979\tvalid_1's l1: 1.18953\n",
      "Early stopping, best iteration is:\n",
      "[994]\ttraining's l1: 0.873982\tvalid_1's l1: 1.18952\n"
     ]
    },
    {
     "name": "stderr",
     "output_type": "stream",
     "text": [
      "\u001b[32m[I 2021-07-11 23:32:41,385]\u001b[0m Trial 84 finished with value: -1.1894668475420325 and parameters: {'max_depth': 7, 'min_child_weight': 14, 'subsample': 0.6, 'colsample_bytree': 0.5, 'reg_lambda': 0.22789540476685297, 'reg_alpha': 55.26083483036335, 'feature_fraction': 0.9720946379416469, 'bagging_fraction': 0.9286167172281912, 'bagging_freq': 3}. Best is trial 74 with value: -1.1458399417968985.\u001b[0m\n"
     ]
    },
    {
     "name": "stdout",
     "output_type": "stream",
     "text": [
      "[LightGBM] [Warning] feature_fraction is set=0.945506283321831, colsample_bytree=0.5 will be ignored. Current value: feature_fraction=0.945506283321831\n",
      "[LightGBM] [Warning] bagging_fraction is set=0.9540818139949689, subsample=0.6 will be ignored. Current value: bagging_fraction=0.9540818139949689\n",
      "[LightGBM] [Warning] bagging_freq is set=4, subsample_freq=0 will be ignored. Current value: bagging_freq=4\n",
      "Training until validation scores don't improve for 100 rounds\n",
      "[100]\ttraining's l1: 0.873069\tvalid_1's l1: 1.19814\n",
      "[200]\ttraining's l1: 0.867323\tvalid_1's l1: 1.1898\n",
      "[300]\ttraining's l1: 0.862048\tvalid_1's l1: 1.18122\n",
      "[400]\ttraining's l1: 0.857266\tvalid_1's l1: 1.17376\n",
      "[500]\ttraining's l1: 0.855827\tvalid_1's l1: 1.17098\n",
      "[600]\ttraining's l1: 0.854645\tvalid_1's l1: 1.16892\n",
      "[700]\ttraining's l1: 0.853957\tvalid_1's l1: 1.16855\n",
      "[800]\ttraining's l1: 0.852537\tvalid_1's l1: 1.16709\n",
      "[900]\ttraining's l1: 0.85182\tvalid_1's l1: 1.16643\n"
     ]
    },
    {
     "name": "stderr",
     "output_type": "stream",
     "text": [
      "\u001b[32m[I 2021-07-11 23:33:16,361]\u001b[0m Trial 85 finished with value: -1.1661959874876138 and parameters: {'max_depth': 5, 'min_child_weight': 12, 'subsample': 0.6, 'colsample_bytree': 0.5, 'reg_lambda': 0.548176335071811, 'reg_alpha': 4.5164327566313975, 'feature_fraction': 0.945506283321831, 'bagging_fraction': 0.9540818139949689, 'bagging_freq': 4}. Best is trial 74 with value: -1.1458399417968985.\u001b[0m\n"
     ]
    },
    {
     "name": "stdout",
     "output_type": "stream",
     "text": [
      "Early stopping, best iteration is:\n",
      "[876]\ttraining's l1: 0.851854\tvalid_1's l1: 1.16637\n",
      "[LightGBM] [Warning] feature_fraction is set=0.9984978822685125, colsample_bytree=0.5 will be ignored. Current value: feature_fraction=0.9984978822685125\n",
      "[LightGBM] [Warning] bagging_fraction is set=0.9785432860040416, subsample=0.6 will be ignored. Current value: bagging_fraction=0.9785432860040416\n",
      "[LightGBM] [Warning] bagging_freq is set=3, subsample_freq=0 will be ignored. Current value: bagging_freq=3\n",
      "Training until validation scores don't improve for 100 rounds\n",
      "[100]\ttraining's l1: 0.903199\tvalid_1's l1: 1.23946\n",
      "[200]\ttraining's l1: 0.888209\tvalid_1's l1: 1.21532\n",
      "[300]\ttraining's l1: 0.885409\tvalid_1's l1: 1.21009\n",
      "[400]\ttraining's l1: 0.883084\tvalid_1's l1: 1.20463\n",
      "[500]\ttraining's l1: 0.881792\tvalid_1's l1: 1.20251\n",
      "[600]\ttraining's l1: 0.880184\tvalid_1's l1: 1.19882\n",
      "[700]\ttraining's l1: 0.878361\tvalid_1's l1: 1.19541\n",
      "[800]\ttraining's l1: 0.877009\tvalid_1's l1: 1.19311\n",
      "[900]\ttraining's l1: 0.875653\tvalid_1's l1: 1.18884\n",
      "[1000]\ttraining's l1: 0.875032\tvalid_1's l1: 1.18782\n",
      "[1100]\ttraining's l1: 0.873989\tvalid_1's l1: 1.18502\n",
      "[1200]\ttraining's l1: 0.873076\tvalid_1's l1: 1.18361\n",
      "[1300]\ttraining's l1: 0.871693\tvalid_1's l1: 1.18082\n",
      "[1400]\ttraining's l1: 0.871051\tvalid_1's l1: 1.17991\n",
      "[1500]\ttraining's l1: 0.870291\tvalid_1's l1: 1.17794\n",
      "[1600]\ttraining's l1: 0.869774\tvalid_1's l1: 1.17757\n",
      "[1700]\ttraining's l1: 0.869082\tvalid_1's l1: 1.17642\n",
      "[1800]\ttraining's l1: 0.867731\tvalid_1's l1: 1.17229\n",
      "[1900]\ttraining's l1: 0.867488\tvalid_1's l1: 1.17205\n",
      "[2000]\ttraining's l1: 0.866965\tvalid_1's l1: 1.17103\n",
      "[2100]\ttraining's l1: 0.866742\tvalid_1's l1: 1.1706\n",
      "[2200]\ttraining's l1: 0.866518\tvalid_1's l1: 1.17053\n",
      "Early stopping, best iteration is:\n",
      "[2133]\ttraining's l1: 0.866558\tvalid_1's l1: 1.17048\n"
     ]
    },
    {
     "name": "stderr",
     "output_type": "stream",
     "text": [
      "\u001b[32m[I 2021-07-11 23:34:33,300]\u001b[0m Trial 86 finished with value: -1.170240025526304 and parameters: {'max_depth': 3, 'min_child_weight': 17, 'subsample': 0.6, 'colsample_bytree': 0.5, 'reg_lambda': 0.04636307392107888, 'reg_alpha': 7.800475641945678, 'feature_fraction': 0.9984978822685125, 'bagging_fraction': 0.9785432860040416, 'bagging_freq': 3}. Best is trial 74 with value: -1.1458399417968985.\u001b[0m\n"
     ]
    },
    {
     "name": "stdout",
     "output_type": "stream",
     "text": [
      "[LightGBM] [Warning] feature_fraction is set=0.930072818783191, colsample_bytree=0.5 will be ignored. Current value: feature_fraction=0.930072818783191\n",
      "[LightGBM] [Warning] bagging_fraction is set=0.8783618547860602, subsample=0.7 will be ignored. Current value: bagging_fraction=0.8783618547860602\n",
      "[LightGBM] [Warning] bagging_freq is set=3, subsample_freq=0 will be ignored. Current value: bagging_freq=3\n",
      "Training until validation scores don't improve for 100 rounds\n",
      "[100]\ttraining's l1: 0.870568\tvalid_1's l1: 1.19394\n",
      "[200]\ttraining's l1: 0.866069\tvalid_1's l1: 1.1845\n",
      "[300]\ttraining's l1: 0.86334\tvalid_1's l1: 1.17974\n",
      "[400]\ttraining's l1: 0.861314\tvalid_1's l1: 1.176\n",
      "[500]\ttraining's l1: 0.857233\tvalid_1's l1: 1.16951\n",
      "[600]\ttraining's l1: 0.855667\tvalid_1's l1: 1.1662\n"
     ]
    },
    {
     "name": "stderr",
     "output_type": "stream",
     "text": [
      "\u001b[32m[I 2021-07-11 23:34:55,589]\u001b[0m Trial 87 finished with value: -1.1660406962005996 and parameters: {'max_depth': 5, 'min_child_weight': 11, 'subsample': 0.7, 'colsample_bytree': 0.5, 'reg_lambda': 0.02547553800256589, 'reg_alpha': 1.552700395478508, 'feature_fraction': 0.930072818783191, 'bagging_fraction': 0.8783618547860602, 'bagging_freq': 3}. Best is trial 74 with value: -1.1458399417968985.\u001b[0m\n"
     ]
    },
    {
     "name": "stdout",
     "output_type": "stream",
     "text": [
      "Early stopping, best iteration is:\n",
      "[554]\ttraining's l1: 0.855677\tvalid_1's l1: 1.1662\n",
      "[LightGBM] [Warning] feature_fraction is set=0.9640888957300163, colsample_bytree=0.5 will be ignored. Current value: feature_fraction=0.9640888957300163\n",
      "[LightGBM] [Warning] bagging_fraction is set=0.8986842535074668, subsample=0.6 will be ignored. Current value: bagging_fraction=0.8986842535074668\n",
      "[LightGBM] [Warning] bagging_freq is set=5, subsample_freq=0 will be ignored. Current value: bagging_freq=5\n",
      "Training until validation scores don't improve for 100 rounds\n",
      "[100]\ttraining's l1: 0.880388\tvalid_1's l1: 1.20747\n",
      "[200]\ttraining's l1: 0.873798\tvalid_1's l1: 1.19559\n",
      "[300]\ttraining's l1: 0.870765\tvalid_1's l1: 1.18896\n",
      "[400]\ttraining's l1: 0.868643\tvalid_1's l1: 1.18504\n",
      "[500]\ttraining's l1: 0.867034\tvalid_1's l1: 1.18147\n",
      "[600]\ttraining's l1: 0.863555\tvalid_1's l1: 1.1756\n",
      "[700]\ttraining's l1: 0.86021\tvalid_1's l1: 1.1696\n",
      "[800]\ttraining's l1: 0.859627\tvalid_1's l1: 1.16881\n",
      "[900]\ttraining's l1: 0.859127\tvalid_1's l1: 1.16783\n",
      "[1000]\ttraining's l1: 0.858407\tvalid_1's l1: 1.16603\n"
     ]
    },
    {
     "name": "stderr",
     "output_type": "stream",
     "text": [
      "\u001b[32m[I 2021-07-11 23:35:30,260]\u001b[0m Trial 88 finished with value: -1.1659140434972661 and parameters: {'max_depth': 6, 'min_child_weight': 13, 'subsample': 0.6, 'colsample_bytree': 0.5, 'reg_lambda': 0.013632604690123779, 'reg_alpha': 2.443011406976184, 'feature_fraction': 0.9640888957300163, 'bagging_fraction': 0.8986842535074668, 'bagging_freq': 5}. Best is trial 74 with value: -1.1458399417968985.\u001b[0m\n"
     ]
    },
    {
     "name": "stdout",
     "output_type": "stream",
     "text": [
      "Early stopping, best iteration is:\n",
      "[960]\ttraining's l1: 0.858416\tvalid_1's l1: 1.16603\n",
      "[LightGBM] [Warning] feature_fraction is set=0.9802508540890418, colsample_bytree=0.5 will be ignored. Current value: feature_fraction=0.9802508540890418\n",
      "[LightGBM] [Warning] bagging_fraction is set=0.9241023026758671, subsample=0.6 will be ignored. Current value: bagging_fraction=0.9241023026758671\n",
      "[LightGBM] [Warning] bagging_freq is set=2, subsample_freq=0 will be ignored. Current value: bagging_freq=2\n",
      "Training until validation scores don't improve for 100 rounds\n",
      "[100]\ttraining's l1: 0.887665\tvalid_1's l1: 1.21869\n",
      "[200]\ttraining's l1: 0.886813\tvalid_1's l1: 1.21689\n",
      "[300]\ttraining's l1: 0.884506\tvalid_1's l1: 1.21128\n",
      "[400]\ttraining's l1: 0.884318\tvalid_1's l1: 1.21096\n",
      "[500]\ttraining's l1: 0.883659\tvalid_1's l1: 1.20949\n",
      "[600]\ttraining's l1: 0.881115\tvalid_1's l1: 1.20305\n",
      "[700]\ttraining's l1: 0.88084\tvalid_1's l1: 1.20267\n",
      "[800]\ttraining's l1: 0.880496\tvalid_1's l1: 1.20211\n",
      "[900]\ttraining's l1: 0.878588\tvalid_1's l1: 1.19752\n",
      "[1000]\ttraining's l1: 0.877309\tvalid_1's l1: 1.19427\n",
      "[1100]\ttraining's l1: 0.874921\tvalid_1's l1: 1.19091\n",
      "[1200]\ttraining's l1: 0.873163\tvalid_1's l1: 1.18709\n",
      "[1300]\ttraining's l1: 0.873148\tvalid_1's l1: 1.1871\n",
      "Early stopping, best iteration is:\n",
      "[1233]\ttraining's l1: 0.873157\tvalid_1's l1: 1.18708\n"
     ]
    },
    {
     "name": "stderr",
     "output_type": "stream",
     "text": [
      "\u001b[32m[I 2021-07-11 23:36:28,188]\u001b[0m Trial 89 finished with value: -1.1870198398900895 and parameters: {'max_depth': 8, 'min_child_weight': 15, 'subsample': 0.6, 'colsample_bytree': 0.5, 'reg_lambda': 0.7072037037343883, 'reg_alpha': 25.561085974079443, 'feature_fraction': 0.9802508540890418, 'bagging_fraction': 0.9241023026758671, 'bagging_freq': 2}. Best is trial 74 with value: -1.1458399417968985.\u001b[0m\n"
     ]
    },
    {
     "name": "stdout",
     "output_type": "stream",
     "text": [
      "[LightGBM] [Warning] feature_fraction is set=0.5211098787456229, colsample_bytree=0.5 will be ignored. Current value: feature_fraction=0.5211098787456229\n",
      "[LightGBM] [Warning] bagging_fraction is set=0.83926909785717, subsample=0.6 will be ignored. Current value: bagging_fraction=0.83926909785717\n",
      "[LightGBM] [Warning] bagging_freq is set=4, subsample_freq=0 will be ignored. Current value: bagging_freq=4\n",
      "Training until validation scores don't improve for 100 rounds\n",
      "[100]\ttraining's l1: 0.880681\tvalid_1's l1: 1.20682\n",
      "[200]\ttraining's l1: 0.873807\tvalid_1's l1: 1.1956\n",
      "[300]\ttraining's l1: 0.873783\tvalid_1's l1: 1.19561\n"
     ]
    },
    {
     "name": "stderr",
     "output_type": "stream",
     "text": [
      "\u001b[32m[I 2021-07-11 23:36:40,248]\u001b[0m Trial 90 finished with value: -1.1955323525495978 and parameters: {'max_depth': 4, 'min_child_weight': 20, 'subsample': 0.6, 'colsample_bytree': 0.5, 'reg_lambda': 5.344433451735877, 'reg_alpha': 0.5433826705618366, 'feature_fraction': 0.5211098787456229, 'bagging_fraction': 0.83926909785717, 'bagging_freq': 4}. Best is trial 74 with value: -1.1458399417968985.\u001b[0m\n"
     ]
    },
    {
     "name": "stdout",
     "output_type": "stream",
     "text": [
      "Early stopping, best iteration is:\n",
      "[233]\ttraining's l1: 0.87379\tvalid_1's l1: 1.19559\n",
      "[LightGBM] [Warning] feature_fraction is set=0.9996992878777196, colsample_bytree=0.5 will be ignored. Current value: feature_fraction=0.9996992878777196\n",
      "[LightGBM] [Warning] bagging_fraction is set=0.9092469401409442, subsample=0.6 will be ignored. Current value: bagging_fraction=0.9092469401409442\n",
      "[LightGBM] [Warning] bagging_freq is set=3, subsample_freq=0 will be ignored. Current value: bagging_freq=3\n",
      "Training until validation scores don't improve for 100 rounds\n",
      "[100]\ttraining's l1: 0.89306\tvalid_1's l1: 1.22371\n",
      "[200]\ttraining's l1: 0.883205\tvalid_1's l1: 1.2078\n",
      "[300]\ttraining's l1: 0.876595\tvalid_1's l1: 1.19323\n",
      "[400]\ttraining's l1: 0.875535\tvalid_1's l1: 1.19155\n",
      "[500]\ttraining's l1: 0.872606\tvalid_1's l1: 1.1859\n",
      "[600]\ttraining's l1: 0.871277\tvalid_1's l1: 1.18216\n",
      "[700]\ttraining's l1: 0.870517\tvalid_1's l1: 1.18162\n",
      "[800]\ttraining's l1: 0.869847\tvalid_1's l1: 1.18111\n",
      "[900]\ttraining's l1: 0.869102\tvalid_1's l1: 1.18011\n",
      "[1000]\ttraining's l1: 0.867789\tvalid_1's l1: 1.17841\n",
      "[1100]\ttraining's l1: 0.866674\tvalid_1's l1: 1.17742\n",
      "[1200]\ttraining's l1: 0.865974\tvalid_1's l1: 1.17573\n",
      "[1300]\ttraining's l1: 0.864739\tvalid_1's l1: 1.17344\n",
      "[1400]\ttraining's l1: 0.863867\tvalid_1's l1: 1.17239\n",
      "[1500]\ttraining's l1: 0.863028\tvalid_1's l1: 1.17149\n",
      "[1600]\ttraining's l1: 0.8623\tvalid_1's l1: 1.1704\n",
      "Early stopping, best iteration is:\n",
      "[1581]\ttraining's l1: 0.862341\tvalid_1's l1: 1.17035\n"
     ]
    },
    {
     "name": "stderr",
     "output_type": "stream",
     "text": [
      "\u001b[32m[I 2021-07-11 23:37:39,212]\u001b[0m Trial 91 finished with value: -1.1701750174045187 and parameters: {'max_depth': 4, 'min_child_weight': 11, 'subsample': 0.6, 'colsample_bytree': 0.5, 'reg_lambda': 1.3992923705385139, 'reg_alpha': 214.26772312273556, 'feature_fraction': 0.9996992878777196, 'bagging_fraction': 0.9092469401409442, 'bagging_freq': 3}. Best is trial 74 with value: -1.1458399417968985.\u001b[0m\n"
     ]
    },
    {
     "name": "stdout",
     "output_type": "stream",
     "text": [
      "[LightGBM] [Warning] feature_fraction is set=0.8726559633889487, colsample_bytree=0.5 will be ignored. Current value: feature_fraction=0.8726559633889487\n",
      "[LightGBM] [Warning] bagging_fraction is set=0.866395481349509, subsample=0.6 will be ignored. Current value: bagging_fraction=0.866395481349509\n",
      "[LightGBM] [Warning] bagging_freq is set=2, subsample_freq=0 will be ignored. Current value: bagging_freq=2\n",
      "Training until validation scores don't improve for 100 rounds\n",
      "[100]\ttraining's l1: 0.870942\tvalid_1's l1: 1.19344\n",
      "[200]\ttraining's l1: 0.866243\tvalid_1's l1: 1.18526\n",
      "[300]\ttraining's l1: 0.864994\tvalid_1's l1: 1.18304\n",
      "[400]\ttraining's l1: 0.86498\tvalid_1's l1: 1.18305\n"
     ]
    },
    {
     "name": "stderr",
     "output_type": "stream",
     "text": [
      "\u001b[32m[I 2021-07-11 23:37:54,729]\u001b[0m Trial 92 finished with value: -1.1829771119006558 and parameters: {'max_depth': 5, 'min_child_weight': 12, 'subsample': 0.6, 'colsample_bytree': 0.5, 'reg_lambda': 2.75637200306558, 'reg_alpha': 5.4524214018723995, 'feature_fraction': 0.8726559633889487, 'bagging_fraction': 0.866395481349509, 'bagging_freq': 2}. Best is trial 74 with value: -1.1458399417968985.\u001b[0m\n"
     ]
    },
    {
     "name": "stdout",
     "output_type": "stream",
     "text": [
      "Early stopping, best iteration is:\n",
      "[312]\ttraining's l1: 0.86499\tvalid_1's l1: 1.18303\n",
      "[LightGBM] [Warning] feature_fraction is set=0.9025915488115304, colsample_bytree=0.5 will be ignored. Current value: feature_fraction=0.9025915488115304\n",
      "[LightGBM] [Warning] bagging_fraction is set=0.9356390820586276, subsample=0.6 will be ignored. Current value: bagging_fraction=0.9356390820586276\n",
      "[LightGBM] [Warning] bagging_freq is set=3, subsample_freq=0 will be ignored. Current value: bagging_freq=3\n",
      "Training until validation scores don't improve for 100 rounds\n",
      "[100]\ttraining's l1: 0.925533\tvalid_1's l1: 1.27455\n",
      "[200]\ttraining's l1: 0.91893\tvalid_1's l1: 1.26\n",
      "[300]\ttraining's l1: 0.915088\tvalid_1's l1: 1.25149\n",
      "[400]\ttraining's l1: 0.912816\tvalid_1's l1: 1.24696\n",
      "[500]\ttraining's l1: 0.911424\tvalid_1's l1: 1.2439\n",
      "[600]\ttraining's l1: 0.910894\tvalid_1's l1: 1.24313\n",
      "[700]\ttraining's l1: 0.910501\tvalid_1's l1: 1.24176\n",
      "[800]\ttraining's l1: 0.909945\tvalid_1's l1: 1.24041\n",
      "[900]\ttraining's l1: 0.909749\tvalid_1's l1: 1.23979\n",
      "[1000]\ttraining's l1: 0.909631\tvalid_1's l1: 1.23958\n",
      "[1100]\ttraining's l1: 0.909252\tvalid_1's l1: 1.23861\n",
      "[1200]\ttraining's l1: 0.909117\tvalid_1's l1: 1.23832\n",
      "[1300]\ttraining's l1: 0.909015\tvalid_1's l1: 1.23796\n",
      "[1400]\ttraining's l1: 0.908984\tvalid_1's l1: 1.23794\n",
      "[1500]\ttraining's l1: 0.908734\tvalid_1's l1: 1.23733\n",
      "[1600]\ttraining's l1: 0.908644\tvalid_1's l1: 1.23713\n",
      "[1700]\ttraining's l1: 0.908628\tvalid_1's l1: 1.2371\n",
      "[1800]\ttraining's l1: 0.908271\tvalid_1's l1: 1.23659\n",
      "[1900]\ttraining's l1: 0.908235\tvalid_1's l1: 1.23654\n",
      "[2000]\ttraining's l1: 0.908206\tvalid_1's l1: 1.23643\n",
      "[2100]\ttraining's l1: 0.908137\tvalid_1's l1: 1.23621\n",
      "[2200]\ttraining's l1: 0.907954\tvalid_1's l1: 1.23542\n",
      "[2300]\ttraining's l1: 0.907921\tvalid_1's l1: 1.23541\n",
      "Early stopping, best iteration is:\n",
      "[2271]\ttraining's l1: 0.907935\tvalid_1's l1: 1.23533\n"
     ]
    },
    {
     "name": "stderr",
     "output_type": "stream",
     "text": [
      "\u001b[32m[I 2021-07-11 23:39:08,840]\u001b[0m Trial 93 finished with value: -1.2351822542148698 and parameters: {'max_depth': 2, 'min_child_weight': 10, 'subsample': 0.6, 'colsample_bytree': 0.5, 'reg_lambda': 4.974633687699141, 'reg_alpha': 0.07008047243812761, 'feature_fraction': 0.9025915488115304, 'bagging_fraction': 0.9356390820586276, 'bagging_freq': 3}. Best is trial 74 with value: -1.1458399417968985.\u001b[0m\n"
     ]
    },
    {
     "name": "stdout",
     "output_type": "stream",
     "text": [
      "[LightGBM] [Warning] feature_fraction is set=0.92755958777599, colsample_bytree=0.5 will be ignored. Current value: feature_fraction=0.92755958777599\n",
      "[LightGBM] [Warning] bagging_fraction is set=0.9543756880251917, subsample=0.6 will be ignored. Current value: bagging_fraction=0.9543756880251917\n",
      "[LightGBM] [Warning] bagging_freq is set=5, subsample_freq=0 will be ignored. Current value: bagging_freq=5\n",
      "Training until validation scores don't improve for 100 rounds\n",
      "[100]\ttraining's l1: 0.878598\tvalid_1's l1: 1.20114\n",
      "[200]\ttraining's l1: 0.874376\tvalid_1's l1: 1.19399\n",
      "[300]\ttraining's l1: 0.872797\tvalid_1's l1: 1.19186\n",
      "[400]\ttraining's l1: 0.872757\tvalid_1's l1: 1.19175\n",
      "[500]\ttraining's l1: 0.872748\tvalid_1's l1: 1.19175\n",
      "[600]\ttraining's l1: 0.872745\tvalid_1's l1: 1.19175\n"
     ]
    },
    {
     "name": "stderr",
     "output_type": "stream",
     "text": [
      "\u001b[32m[I 2021-07-11 23:39:31,884]\u001b[0m Trial 94 finished with value: -1.1917304546059477 and parameters: {'max_depth': 6, 'min_child_weight': 11, 'subsample': 0.6, 'colsample_bytree': 0.5, 'reg_lambda': 0.45083882815481624, 'reg_alpha': 0.013521175382152176, 'feature_fraction': 0.92755958777599, 'bagging_fraction': 0.9543756880251917, 'bagging_freq': 5}. Best is trial 74 with value: -1.1458399417968985.\u001b[0m\n"
     ]
    },
    {
     "name": "stdout",
     "output_type": "stream",
     "text": [
      "Early stopping, best iteration is:\n",
      "[569]\ttraining's l1: 0.872747\tvalid_1's l1: 1.19175\n",
      "[LightGBM] [Warning] feature_fraction is set=0.8392690893296166, colsample_bytree=0.5 will be ignored. Current value: feature_fraction=0.8392690893296166\n",
      "[LightGBM] [Warning] bagging_fraction is set=0.8914536998108652, subsample=0.6 will be ignored. Current value: bagging_fraction=0.8914536998108652\n",
      "[LightGBM] [Warning] bagging_freq is set=4, subsample_freq=0 will be ignored. Current value: bagging_freq=4\n",
      "Training until validation scores don't improve for 100 rounds\n",
      "[100]\ttraining's l1: 0.899455\tvalid_1's l1: 1.23323\n",
      "[200]\ttraining's l1: 0.887555\tvalid_1's l1: 1.21354\n",
      "[300]\ttraining's l1: 0.884263\tvalid_1's l1: 1.2064\n",
      "[400]\ttraining's l1: 0.88333\tvalid_1's l1: 1.20516\n",
      "[500]\ttraining's l1: 0.881904\tvalid_1's l1: 1.20238\n",
      "[600]\ttraining's l1: 0.880067\tvalid_1's l1: 1.19889\n",
      "[700]\ttraining's l1: 0.878865\tvalid_1's l1: 1.1967\n",
      "[800]\ttraining's l1: 0.877046\tvalid_1's l1: 1.19286\n",
      "[900]\ttraining's l1: 0.875741\tvalid_1's l1: 1.19142\n",
      "[1000]\ttraining's l1: 0.87461\tvalid_1's l1: 1.18892\n",
      "[1100]\ttraining's l1: 0.872543\tvalid_1's l1: 1.18567\n",
      "[1200]\ttraining's l1: 0.871889\tvalid_1's l1: 1.18435\n",
      "[1300]\ttraining's l1: 0.871631\tvalid_1's l1: 1.18383\n",
      "[1400]\ttraining's l1: 0.870777\tvalid_1's l1: 1.18215\n",
      "[1500]\ttraining's l1: 0.870228\tvalid_1's l1: 1.1811\n",
      "[1600]\ttraining's l1: 0.869747\tvalid_1's l1: 1.18012\n",
      "[1700]\ttraining's l1: 0.869293\tvalid_1's l1: 1.17923\n",
      "[1800]\ttraining's l1: 0.868123\tvalid_1's l1: 1.17714\n",
      "[1900]\ttraining's l1: 0.86791\tvalid_1's l1: 1.17674\n",
      "[2000]\ttraining's l1: 0.867193\tvalid_1's l1: 1.17596\n",
      "[2100]\ttraining's l1: 0.866228\tvalid_1's l1: 1.17368\n",
      "[2200]\ttraining's l1: 0.865831\tvalid_1's l1: 1.17335\n",
      "[2300]\ttraining's l1: 0.864912\tvalid_1's l1: 1.17085\n",
      "[2400]\ttraining's l1: 0.864761\tvalid_1's l1: 1.17079\n",
      "[2500]\ttraining's l1: 0.864434\tvalid_1's l1: 1.17078\n",
      "[2600]\ttraining's l1: 0.864081\tvalid_1's l1: 1.16964\n",
      "[2700]\ttraining's l1: 0.863891\tvalid_1's l1: 1.16953\n",
      "[2800]\ttraining's l1: 0.862895\tvalid_1's l1: 1.1666\n",
      "[2900]\ttraining's l1: 0.862611\tvalid_1's l1: 1.16612\n",
      "[3000]\ttraining's l1: 0.862279\tvalid_1's l1: 1.16558\n",
      "[3100]\ttraining's l1: 0.862161\tvalid_1's l1: 1.16536\n",
      "[3200]\ttraining's l1: 0.862114\tvalid_1's l1: 1.16532\n",
      "[3300]\ttraining's l1: 0.861862\tvalid_1's l1: 1.16405\n",
      "[3400]\ttraining's l1: 0.861256\tvalid_1's l1: 1.16287\n",
      "[3500]\ttraining's l1: 0.861182\tvalid_1's l1: 1.16261\n",
      "[3600]\ttraining's l1: 0.860752\tvalid_1's l1: 1.16162\n",
      "Early stopping, best iteration is:\n",
      "[3569]\ttraining's l1: 0.860759\tvalid_1's l1: 1.16158\n"
     ]
    },
    {
     "name": "stderr",
     "output_type": "stream",
     "text": [
      "\u001b[32m[I 2021-07-11 23:41:10,439]\u001b[0m Trial 95 finished with value: -1.1612498673606153 and parameters: {'max_depth': 3, 'min_child_weight': 9, 'subsample': 0.6, 'colsample_bytree': 0.5, 'reg_lambda': 0.27927806794731436, 'reg_alpha': 0.23356599354682836, 'feature_fraction': 0.8392690893296166, 'bagging_fraction': 0.8914536998108652, 'bagging_freq': 4}. Best is trial 74 with value: -1.1458399417968985.\u001b[0m\n"
     ]
    },
    {
     "name": "stdout",
     "output_type": "stream",
     "text": [
      "[LightGBM] [Warning] feature_fraction is set=0.7641640759384072, colsample_bytree=0.6 will be ignored. Current value: feature_fraction=0.7641640759384072\n",
      "[LightGBM] [Warning] bagging_fraction is set=0.9135096775699922, subsample=0.6 will be ignored. Current value: bagging_fraction=0.9135096775699922\n",
      "[LightGBM] [Warning] bagging_freq is set=3, subsample_freq=0 will be ignored. Current value: bagging_freq=3\n",
      "Training until validation scores don't improve for 100 rounds\n",
      "[100]\ttraining's l1: 0.883659\tvalid_1's l1: 1.21146\n",
      "[200]\ttraining's l1: 0.875815\tvalid_1's l1: 1.19973\n",
      "[300]\ttraining's l1: 0.871632\tvalid_1's l1: 1.19135\n",
      "[400]\ttraining's l1: 0.868589\tvalid_1's l1: 1.18458\n",
      "[500]\ttraining's l1: 0.866266\tvalid_1's l1: 1.17957\n",
      "[600]\ttraining's l1: 0.864327\tvalid_1's l1: 1.17568\n",
      "[700]\ttraining's l1: 0.864321\tvalid_1's l1: 1.17567\n"
     ]
    },
    {
     "name": "stderr",
     "output_type": "stream",
     "text": [
      "\u001b[32m[I 2021-07-11 23:41:32,682]\u001b[0m Trial 96 finished with value: -1.1755111714002933 and parameters: {'max_depth': 4, 'min_child_weight': 2, 'subsample': 0.6, 'colsample_bytree': 0.6, 'reg_lambda': 0.09638481675798716, 'reg_alpha': 0.1228668073049788, 'feature_fraction': 0.7641640759384072, 'bagging_fraction': 0.9135096775699922, 'bagging_freq': 3}. Best is trial 74 with value: -1.1458399417968985.\u001b[0m\n"
     ]
    },
    {
     "name": "stdout",
     "output_type": "stream",
     "text": [
      "Early stopping, best iteration is:\n",
      "[615]\ttraining's l1: 0.864323\tvalid_1's l1: 1.17567\n",
      "[LightGBM] [Warning] feature_fraction is set=0.6404850198617626, colsample_bytree=0.5 will be ignored. Current value: feature_fraction=0.6404850198617626\n",
      "[LightGBM] [Warning] bagging_fraction is set=0.9752085598683423, subsample=0.7 will be ignored. Current value: bagging_fraction=0.9752085598683423\n",
      "[LightGBM] [Warning] bagging_freq is set=1, subsample_freq=0 will be ignored. Current value: bagging_freq=1\n",
      "Training until validation scores don't improve for 100 rounds\n",
      "[100]\ttraining's l1: 0.872539\tvalid_1's l1: 1.19426\n",
      "[200]\ttraining's l1: 0.866657\tvalid_1's l1: 1.18486\n",
      "[300]\ttraining's l1: 0.864682\tvalid_1's l1: 1.18227\n"
     ]
    },
    {
     "name": "stderr",
     "output_type": "stream",
     "text": [
      "\u001b[32m[I 2021-07-11 23:41:43,798]\u001b[0m Trial 97 finished with value: -1.182195628283688 and parameters: {'max_depth': 5, 'min_child_weight': 10, 'subsample': 0.7, 'colsample_bytree': 0.5, 'reg_lambda': 1.8173264771451385, 'reg_alpha': 0.0055474058660967985, 'feature_fraction': 0.6404850198617626, 'bagging_fraction': 0.9752085598683423, 'bagging_freq': 1}. Best is trial 74 with value: -1.1458399417968985.\u001b[0m\n"
     ]
    },
    {
     "name": "stdout",
     "output_type": "stream",
     "text": [
      "Early stopping, best iteration is:\n",
      "[295]\ttraining's l1: 0.864684\tvalid_1's l1: 1.18227\n",
      "[LightGBM] [Warning] feature_fraction is set=0.948829438192449, colsample_bytree=0.5 will be ignored. Current value: feature_fraction=0.948829438192449\n",
      "[LightGBM] [Warning] bagging_fraction is set=0.8613278057419591, subsample=0.6 will be ignored. Current value: bagging_fraction=0.8613278057419591\n",
      "[LightGBM] [Warning] bagging_freq is set=2, subsample_freq=0 will be ignored. Current value: bagging_freq=2\n",
      "Training until validation scores don't improve for 100 rounds\n",
      "[100]\ttraining's l1: 0.883581\tvalid_1's l1: 1.21017\n",
      "[200]\ttraining's l1: 0.882931\tvalid_1's l1: 1.20887\n",
      "[300]\ttraining's l1: 0.882339\tvalid_1's l1: 1.20772\n",
      "[400]\ttraining's l1: 0.882041\tvalid_1's l1: 1.20701\n"
     ]
    },
    {
     "name": "stderr",
     "output_type": "stream",
     "text": [
      "\u001b[32m[I 2021-07-11 23:42:01,957]\u001b[0m Trial 98 finished with value: -1.2069681888557406 and parameters: {'max_depth': 7, 'min_child_weight': 8, 'subsample': 0.6, 'colsample_bytree': 0.5, 'reg_lambda': 1.0764443116576599, 'reg_alpha': 0.0018649230977077745, 'feature_fraction': 0.948829438192449, 'bagging_fraction': 0.8613278057419591, 'bagging_freq': 2}. Best is trial 74 with value: -1.1458399417968985.\u001b[0m\n"
     ]
    },
    {
     "name": "stdout",
     "output_type": "stream",
     "text": [
      "Early stopping, best iteration is:\n",
      "[311]\ttraining's l1: 0.882059\tvalid_1's l1: 1.20698\n",
      "[LightGBM] [Warning] feature_fraction is set=0.9136782923425425, colsample_bytree=0.5 will be ignored. Current value: feature_fraction=0.9136782923425425\n",
      "[LightGBM] [Warning] bagging_fraction is set=0.9381946220107641, subsample=0.6 will be ignored. Current value: bagging_fraction=0.9381946220107641\n",
      "[LightGBM] [Warning] bagging_freq is set=4, subsample_freq=0 will be ignored. Current value: bagging_freq=4\n",
      "Training until validation scores don't improve for 100 rounds\n",
      "[100]\ttraining's l1: 0.888937\tvalid_1's l1: 1.22007\n"
     ]
    },
    {
     "name": "stderr",
     "output_type": "stream",
     "text": [
      "\u001b[32m[I 2021-07-11 23:42:09,159]\u001b[0m Trial 99 finished with value: -1.220072228704041 and parameters: {'max_depth': 17, 'min_child_weight': 5, 'subsample': 0.6, 'colsample_bytree': 0.5, 'reg_lambda': 0.14379325767096243, 'reg_alpha': 0.007865651476705688, 'feature_fraction': 0.9136782923425425, 'bagging_fraction': 0.9381946220107641, 'bagging_freq': 4}. Best is trial 74 with value: -1.1458399417968985.\u001b[0m\n",
      "\u001b[32m[I 2021-07-11 23:42:09,161]\u001b[0m A new study created in memory with name: no-name-cd99ef0b-ca17-49fc-a9f2-f9aed35e522a\u001b[0m\n"
     ]
    },
    {
     "name": "stdout",
     "output_type": "stream",
     "text": [
      "Early stopping, best iteration is:\n",
      "[74]\ttraining's l1: 0.888939\tvalid_1's l1: 1.22007\n",
      "[LightGBM] [Warning] feature_fraction is set=0.7773927856110103, colsample_bytree=0.7 will be ignored. Current value: feature_fraction=0.7773927856110103\n",
      "[LightGBM] [Warning] bagging_fraction is set=0.7050190592208466, subsample=0.7 will be ignored. Current value: bagging_fraction=0.7050190592208466\n",
      "[LightGBM] [Warning] bagging_freq is set=4, subsample_freq=0 will be ignored. Current value: bagging_freq=4\n",
      "Training until validation scores don't improve for 100 rounds\n",
      "[100]\ttraining's l1: 1.86871\tvalid_1's l1: 2.26965\n",
      "[200]\ttraining's l1: 1.83071\tvalid_1's l1: 2.26672\n"
     ]
    },
    {
     "name": "stderr",
     "output_type": "stream",
     "text": [
      "\u001b[32m[I 2021-07-11 23:42:17,457]\u001b[0m Trial 0 finished with value: -2.2622063446649148 and parameters: {'max_depth': 6, 'min_child_weight': 4, 'subsample': 0.7, 'colsample_bytree': 0.7, 'reg_lambda': 3.113141063141102, 'reg_alpha': 0.0117444428023431, 'feature_fraction': 0.7773927856110103, 'bagging_fraction': 0.7050190592208466, 'bagging_freq': 4}. Best is trial 0 with value: -2.2622063446649148.\u001b[0m\n"
     ]
    },
    {
     "name": "stdout",
     "output_type": "stream",
     "text": [
      "Early stopping, best iteration is:\n",
      "[137]\ttraining's l1: 1.84648\tvalid_1's l1: 2.26221\n",
      "[LightGBM] [Warning] feature_fraction is set=0.9401346551562724, colsample_bytree=0.6 will be ignored. Current value: feature_fraction=0.9401346551562724\n",
      "[LightGBM] [Warning] bagging_fraction is set=0.47273676823788613, subsample=0.8 will be ignored. Current value: bagging_fraction=0.47273676823788613\n",
      "[LightGBM] [Warning] bagging_freq is set=6, subsample_freq=0 will be ignored. Current value: bagging_freq=6\n",
      "Training until validation scores don't improve for 100 rounds\n",
      "[100]\ttraining's l1: 1.86523\tvalid_1's l1: 2.26746\n",
      "[200]\ttraining's l1: 1.83235\tvalid_1's l1: 2.26608\n",
      "[300]\ttraining's l1: 1.80982\tvalid_1's l1: 2.2595\n"
     ]
    },
    {
     "name": "stderr",
     "output_type": "stream",
     "text": [
      "\u001b[32m[I 2021-07-11 23:42:26,504]\u001b[0m Trial 1 finished with value: -2.2528270063538556 and parameters: {'max_depth': 10, 'min_child_weight': 3, 'subsample': 0.8, 'colsample_bytree': 0.6, 'reg_lambda': 0.03279469055147818, 'reg_alpha': 0.38362651841114837, 'feature_fraction': 0.9401346551562724, 'bagging_fraction': 0.47273676823788613, 'bagging_freq': 6}. Best is trial 1 with value: -2.2528270063538556.\u001b[0m\n"
     ]
    },
    {
     "name": "stdout",
     "output_type": "stream",
     "text": [
      "Early stopping, best iteration is:\n",
      "[275]\ttraining's l1: 1.81313\tvalid_1's l1: 2.25501\n",
      "[LightGBM] [Warning] feature_fraction is set=0.4882683944637455, colsample_bytree=0.6 will be ignored. Current value: feature_fraction=0.4882683944637455\n",
      "[LightGBM] [Warning] bagging_fraction is set=0.7711143081849241, subsample=0.6 will be ignored. Current value: bagging_fraction=0.7711143081849241\n",
      "[LightGBM] [Warning] bagging_freq is set=5, subsample_freq=0 will be ignored. Current value: bagging_freq=5\n",
      "Training until validation scores don't improve for 100 rounds\n",
      "[100]\ttraining's l1: 2.24347\tvalid_1's l1: 2.47454\n",
      "[200]\ttraining's l1: 2.18321\tvalid_1's l1: 2.41724\n",
      "[300]\ttraining's l1: 2.16239\tvalid_1's l1: 2.39968\n",
      "[400]\ttraining's l1: 2.15194\tvalid_1's l1: 2.38824\n",
      "[500]\ttraining's l1: 2.14727\tvalid_1's l1: 2.38558\n",
      "[600]\ttraining's l1: 2.14183\tvalid_1's l1: 2.38114\n",
      "[700]\ttraining's l1: 2.1386\tvalid_1's l1: 2.37871\n",
      "[800]\ttraining's l1: 2.13446\tvalid_1's l1: 2.37392\n",
      "[900]\ttraining's l1: 2.13088\tvalid_1's l1: 2.37231\n",
      "[1000]\ttraining's l1: 2.12931\tvalid_1's l1: 2.37149\n"
     ]
    },
    {
     "name": "stderr",
     "output_type": "stream",
     "text": [
      "\u001b[32m[I 2021-07-11 23:42:54,832]\u001b[0m Trial 2 finished with value: -2.370906716430632 and parameters: {'max_depth': 1, 'min_child_weight': 4, 'subsample': 0.6, 'colsample_bytree': 0.6, 'reg_lambda': 0.0030324461903063547, 'reg_alpha': 0.11067474526946147, 'feature_fraction': 0.4882683944637455, 'bagging_fraction': 0.7711143081849241, 'bagging_freq': 5}. Best is trial 1 with value: -2.2528270063538556.\u001b[0m\n"
     ]
    },
    {
     "name": "stdout",
     "output_type": "stream",
     "text": [
      "Early stopping, best iteration is:\n",
      "[923]\ttraining's l1: 2.12992\tvalid_1's l1: 2.37091\n",
      "[LightGBM] [Warning] feature_fraction is set=0.8742633440090702, colsample_bytree=0.7 will be ignored. Current value: feature_fraction=0.8742633440090702\n",
      "[LightGBM] [Warning] bagging_fraction is set=0.9758989853917659, subsample=0.8 will be ignored. Current value: bagging_fraction=0.9758989853917659\n",
      "[LightGBM] [Warning] bagging_freq is set=1, subsample_freq=0 will be ignored. Current value: bagging_freq=1\n",
      "Training until validation scores don't improve for 100 rounds\n",
      "[100]\ttraining's l1: 1.88487\tvalid_1's l1: 2.27271\n",
      "[200]\ttraining's l1: 1.8542\tvalid_1's l1: 2.26812\n",
      "[300]\ttraining's l1: 1.83699\tvalid_1's l1: 2.26726\n"
     ]
    },
    {
     "name": "stderr",
     "output_type": "stream",
     "text": [
      "\u001b[32m[I 2021-07-11 23:43:06,780]\u001b[0m Trial 3 finished with value: -2.264879064605694 and parameters: {'max_depth': 18, 'min_child_weight': 19, 'subsample': 0.8, 'colsample_bytree': 0.7, 'reg_lambda': 4.514973895273023, 'reg_alpha': 513.1341845558093, 'feature_fraction': 0.8742633440090702, 'bagging_fraction': 0.9758989853917659, 'bagging_freq': 1}. Best is trial 1 with value: -2.2528270063538556.\u001b[0m\n"
     ]
    },
    {
     "name": "stdout",
     "output_type": "stream",
     "text": [
      "Early stopping, best iteration is:\n",
      "[259]\ttraining's l1: 1.84178\tvalid_1's l1: 2.26488\n",
      "[LightGBM] [Warning] feature_fraction is set=0.5051427356017814, colsample_bytree=0.7 will be ignored. Current value: feature_fraction=0.5051427356017814\n",
      "[LightGBM] [Warning] bagging_fraction is set=0.8786596829392417, subsample=0.5 will be ignored. Current value: bagging_fraction=0.8786596829392417\n",
      "[LightGBM] [Warning] bagging_freq is set=8, subsample_freq=0 will be ignored. Current value: bagging_freq=8\n",
      "Training until validation scores don't improve for 100 rounds\n",
      "[100]\ttraining's l1: 1.87334\tvalid_1's l1: 2.26343\n",
      "[200]\ttraining's l1: 1.8184\tvalid_1's l1: 2.24909\n",
      "[300]\ttraining's l1: 1.79678\tvalid_1's l1: 2.24664\n"
     ]
    },
    {
     "name": "stderr",
     "output_type": "stream",
     "text": [
      "\u001b[32m[I 2021-07-11 23:43:19,356]\u001b[0m Trial 4 finished with value: -2.239634559458192 and parameters: {'max_depth': 20, 'min_child_weight': 3, 'subsample': 0.5, 'colsample_bytree': 0.7, 'reg_lambda': 0.6799138110419284, 'reg_alpha': 0.03083313225467507, 'feature_fraction': 0.5051427356017814, 'bagging_fraction': 0.8786596829392417, 'bagging_freq': 8}. Best is trial 4 with value: -2.239634559458192.\u001b[0m\n"
     ]
    },
    {
     "name": "stdout",
     "output_type": "stream",
     "text": [
      "Early stopping, best iteration is:\n",
      "[228]\ttraining's l1: 1.81046\tvalid_1's l1: 2.23979\n",
      "[LightGBM] [Warning] feature_fraction is set=0.8465888110653594, colsample_bytree=0.6 will be ignored. Current value: feature_fraction=0.8465888110653594\n",
      "[LightGBM] [Warning] bagging_fraction is set=0.8620689405107879, subsample=0.7 will be ignored. Current value: bagging_fraction=0.8620689405107879\n",
      "[LightGBM] [Warning] bagging_freq is set=7, subsample_freq=0 will be ignored. Current value: bagging_freq=7\n",
      "Training until validation scores don't improve for 100 rounds\n",
      "[100]\ttraining's l1: 1.87866\tvalid_1's l1: 2.27892\n"
     ]
    },
    {
     "name": "stderr",
     "output_type": "stream",
     "text": [
      "\u001b[32m[I 2021-07-11 23:43:25,234]\u001b[0m Trial 5 finished with value: -2.271734210501288 and parameters: {'max_depth': 11, 'min_child_weight': 12, 'subsample': 0.7, 'colsample_bytree': 0.6, 'reg_lambda': 384.714071607229, 'reg_alpha': 6.826859725385035, 'feature_fraction': 0.8465888110653594, 'bagging_fraction': 0.8620689405107879, 'bagging_freq': 7}. Best is trial 4 with value: -2.239634559458192.\u001b[0m\n"
     ]
    },
    {
     "name": "stdout",
     "output_type": "stream",
     "text": [
      "Early stopping, best iteration is:\n",
      "[37]\ttraining's l1: 1.92769\tvalid_1's l1: 2.27173\n",
      "[LightGBM] [Warning] feature_fraction is set=0.8179999139718706, colsample_bytree=0.6 will be ignored. Current value: feature_fraction=0.8179999139718706\n",
      "[LightGBM] [Warning] bagging_fraction is set=0.5678837355606364, subsample=0.9 will be ignored. Current value: bagging_fraction=0.5678837355606364\n",
      "[LightGBM] [Warning] bagging_freq is set=2, subsample_freq=0 will be ignored. Current value: bagging_freq=2\n",
      "Training until validation scores don't improve for 100 rounds\n",
      "[100]\ttraining's l1: 1.86574\tvalid_1's l1: 2.2628\n"
     ]
    },
    {
     "name": "stderr",
     "output_type": "stream",
     "text": [
      "\u001b[32m[I 2021-07-11 23:43:32,586]\u001b[0m Trial 6 finished with value: -2.262473616818728 and parameters: {'max_depth': 7, 'min_child_weight': 18, 'subsample': 0.9, 'colsample_bytree': 0.6, 'reg_lambda': 0.16732739948296266, 'reg_alpha': 0.0010250595632769926, 'feature_fraction': 0.8179999139718706, 'bagging_fraction': 0.5678837355606364, 'bagging_freq': 2}. Best is trial 4 with value: -2.239634559458192.\u001b[0m\n"
     ]
    },
    {
     "name": "stdout",
     "output_type": "stream",
     "text": [
      "Early stopping, best iteration is:\n",
      "[88]\ttraining's l1: 1.87096\tvalid_1's l1: 2.26248\n",
      "[LightGBM] [Warning] feature_fraction is set=0.8666544119385506, colsample_bytree=0.6 will be ignored. Current value: feature_fraction=0.8666544119385506\n",
      "[LightGBM] [Warning] bagging_fraction is set=0.9282656220859313, subsample=0.6 will be ignored. Current value: bagging_fraction=0.9282656220859313\n",
      "[LightGBM] [Warning] bagging_freq is set=8, subsample_freq=0 will be ignored. Current value: bagging_freq=8\n",
      "Training until validation scores don't improve for 100 rounds\n",
      "[100]\ttraining's l1: 1.98858\tvalid_1's l1: 2.32094\n",
      "[200]\ttraining's l1: 1.93867\tvalid_1's l1: 2.28715\n",
      "[300]\ttraining's l1: 1.91801\tvalid_1's l1: 2.28084\n",
      "[400]\ttraining's l1: 1.90507\tvalid_1's l1: 2.27844\n",
      "[500]\ttraining's l1: 1.8934\tvalid_1's l1: 2.27843\n"
     ]
    },
    {
     "name": "stderr",
     "output_type": "stream",
     "text": [
      "\u001b[32m[I 2021-07-11 23:43:48,136]\u001b[0m Trial 7 finished with value: -2.275136678047595 and parameters: {'max_depth': 3, 'min_child_weight': 15, 'subsample': 0.6, 'colsample_bytree': 0.6, 'reg_lambda': 6.487006699707455, 'reg_alpha': 0.0020404387321859645, 'feature_fraction': 0.8666544119385506, 'bagging_fraction': 0.9282656220859313, 'bagging_freq': 8}. Best is trial 4 with value: -2.239634559458192.\u001b[0m\n"
     ]
    },
    {
     "name": "stdout",
     "output_type": "stream",
     "text": [
      "Early stopping, best iteration is:\n",
      "[470]\ttraining's l1: 1.89884\tvalid_1's l1: 2.27574\n",
      "[LightGBM] [Warning] feature_fraction is set=0.7061412939036038, colsample_bytree=0.6 will be ignored. Current value: feature_fraction=0.7061412939036038\n",
      "[LightGBM] [Warning] bagging_fraction is set=0.9017967852886563, subsample=0.7 will be ignored. Current value: bagging_fraction=0.9017967852886563\n",
      "[LightGBM] [Warning] bagging_freq is set=8, subsample_freq=0 will be ignored. Current value: bagging_freq=8\n",
      "Training until validation scores don't improve for 100 rounds\n",
      "[100]\ttraining's l1: 1.87423\tvalid_1's l1: 2.27803\n"
     ]
    },
    {
     "name": "stderr",
     "output_type": "stream",
     "text": [
      "\u001b[32m[I 2021-07-11 23:43:53,435]\u001b[0m Trial 8 finished with value: -2.2626267608400408 and parameters: {'max_depth': 11, 'min_child_weight': 18, 'subsample': 0.7, 'colsample_bytree': 0.6, 'reg_lambda': 12.18758033392364, 'reg_alpha': 33.88082932920473, 'feature_fraction': 0.7061412939036038, 'bagging_fraction': 0.9017967852886563, 'bagging_freq': 8}. Best is trial 4 with value: -2.239634559458192.\u001b[0m\n"
     ]
    },
    {
     "name": "stdout",
     "output_type": "stream",
     "text": [
      "Early stopping, best iteration is:\n",
      "[30]\ttraining's l1: 1.9417\tvalid_1's l1: 2.26263\n",
      "[LightGBM] [Warning] feature_fraction is set=0.7196903189458321, colsample_bytree=0.8 will be ignored. Current value: feature_fraction=0.7196903189458321\n",
      "[LightGBM] [Warning] bagging_fraction is set=0.7890933162410025, subsample=0.7 will be ignored. Current value: bagging_fraction=0.7890933162410025\n",
      "[LightGBM] [Warning] bagging_freq is set=1, subsample_freq=0 will be ignored. Current value: bagging_freq=1\n",
      "Training until validation scores don't improve for 100 rounds\n",
      "[100]\ttraining's l1: 1.86588\tvalid_1's l1: 2.261\n",
      "[200]\ttraining's l1: 1.82419\tvalid_1's l1: 2.26112\n",
      "[300]\ttraining's l1: 1.79907\tvalid_1's l1: 2.25282\n"
     ]
    },
    {
     "name": "stderr",
     "output_type": "stream",
     "text": [
      "\u001b[32m[I 2021-07-11 23:44:04,241]\u001b[0m Trial 9 finished with value: -2.2487425823441547 and parameters: {'max_depth': 17, 'min_child_weight': 10, 'subsample': 0.7, 'colsample_bytree': 0.8, 'reg_lambda': 0.08046535066905351, 'reg_alpha': 0.0021433107546942483, 'feature_fraction': 0.7196903189458321, 'bagging_fraction': 0.7890933162410025, 'bagging_freq': 1}. Best is trial 4 with value: -2.239634559458192.\u001b[0m\n"
     ]
    },
    {
     "name": "stdout",
     "output_type": "stream",
     "text": [
      "Early stopping, best iteration is:\n",
      "[287]\ttraining's l1: 1.80051\tvalid_1's l1: 2.25104\n",
      "[LightGBM] [Warning] feature_fraction is set=0.5090276032940493, colsample_bytree=0.9 will be ignored. Current value: feature_fraction=0.5090276032940493\n",
      "[LightGBM] [Warning] bagging_fraction is set=0.5710255370809781, subsample=0.5 will be ignored. Current value: bagging_fraction=0.5710255370809781\n",
      "[LightGBM] [Warning] bagging_freq is set=10, subsample_freq=0 will be ignored. Current value: bagging_freq=10\n",
      "Training until validation scores don't improve for 100 rounds\n",
      "[100]\ttraining's l1: 1.86974\tvalid_1's l1: 2.25259\n"
     ]
    },
    {
     "name": "stderr",
     "output_type": "stream",
     "text": [
      "\u001b[32m[I 2021-07-11 23:44:10,247]\u001b[0m Trial 10 finished with value: -2.2483013661486266 and parameters: {'max_depth': 20, 'min_child_weight': 7, 'subsample': 0.5, 'colsample_bytree': 0.9, 'reg_lambda': 212.56672041989495, 'reg_alpha': 0.029636273433465837, 'feature_fraction': 0.5090276032940493, 'bagging_fraction': 0.5710255370809781, 'bagging_freq': 10}. Best is trial 4 with value: -2.239634559458192.\u001b[0m\n"
     ]
    },
    {
     "name": "stdout",
     "output_type": "stream",
     "text": [
      "Early stopping, best iteration is:\n",
      "[84]\ttraining's l1: 1.88272\tvalid_1's l1: 2.2483\n",
      "[LightGBM] [Warning] feature_fraction is set=0.51071689089662, colsample_bytree=0.9 will be ignored. Current value: feature_fraction=0.51071689089662\n",
      "[LightGBM] [Warning] bagging_fraction is set=0.5561284507632094, subsample=0.5 will be ignored. Current value: bagging_fraction=0.5561284507632094\n",
      "[LightGBM] [Warning] bagging_freq is set=10, subsample_freq=0 will be ignored. Current value: bagging_freq=10\n",
      "Training until validation scores don't improve for 100 rounds\n",
      "[100]\ttraining's l1: 1.88234\tvalid_1's l1: 2.26469\n",
      "[200]\ttraining's l1: 1.8423\tvalid_1's l1: 2.25789\n"
     ]
    },
    {
     "name": "stderr",
     "output_type": "stream",
     "text": [
      "\u001b[32m[I 2021-07-11 23:44:19,024]\u001b[0m Trial 11 finished with value: -2.257889179633722 and parameters: {'max_depth': 20, 'min_child_weight': 8, 'subsample': 0.5, 'colsample_bytree': 0.9, 'reg_lambda': 838.030449408071, 'reg_alpha': 0.04061137587403032, 'feature_fraction': 0.51071689089662, 'bagging_fraction': 0.5561284507632094, 'bagging_freq': 10}. Best is trial 4 with value: -2.239634559458192.\u001b[0m\n"
     ]
    },
    {
     "name": "stdout",
     "output_type": "stream",
     "text": [
      "[300]\ttraining's l1: 1.81902\tvalid_1's l1: 2.26497\n",
      "Early stopping, best iteration is:\n",
      "[200]\ttraining's l1: 1.8423\tvalid_1's l1: 2.25789\n",
      "[LightGBM] [Warning] feature_fraction is set=0.5950062789068754, colsample_bytree=0.9 will be ignored. Current value: feature_fraction=0.5950062789068754\n",
      "[LightGBM] [Warning] bagging_fraction is set=0.6006817276163458, subsample=0.5 will be ignored. Current value: bagging_fraction=0.6006817276163458\n",
      "[LightGBM] [Warning] bagging_freq is set=10, subsample_freq=0 will be ignored. Current value: bagging_freq=10\n",
      "Training until validation scores don't improve for 100 rounds\n",
      "[100]\ttraining's l1: 1.87332\tvalid_1's l1: 2.26947\n",
      "[200]\ttraining's l1: 1.83171\tvalid_1's l1: 2.252\n",
      "[300]\ttraining's l1: 1.8088\tvalid_1's l1: 2.25986\n"
     ]
    },
    {
     "name": "stderr",
     "output_type": "stream",
     "text": [
      "\u001b[32m[I 2021-07-11 23:44:29,704]\u001b[0m Trial 12 finished with value: -2.2504734688388557 and parameters: {'max_depth': 15, 'min_child_weight': 1, 'subsample': 0.5, 'colsample_bytree': 0.9, 'reg_lambda': 80.94311802916756, 'reg_alpha': 0.012544551553911737, 'feature_fraction': 0.5950062789068754, 'bagging_fraction': 0.6006817276163458, 'bagging_freq': 10}. Best is trial 4 with value: -2.239634559458192.\u001b[0m\n"
     ]
    },
    {
     "name": "stdout",
     "output_type": "stream",
     "text": [
      "Early stopping, best iteration is:\n",
      "[220]\ttraining's l1: 1.82596\tvalid_1's l1: 2.25052\n",
      "[LightGBM] [Warning] feature_fraction is set=0.4224171909864284, colsample_bytree=0.8 will be ignored. Current value: feature_fraction=0.4224171909864284\n",
      "[LightGBM] [Warning] bagging_fraction is set=0.4126677759856032, subsample=0.5 will be ignored. Current value: bagging_fraction=0.4126677759856032\n",
      "[LightGBM] [Warning] bagging_freq is set=9, subsample_freq=0 will be ignored. Current value: bagging_freq=9\n",
      "Training until validation scores don't improve for 100 rounds\n",
      "[100]\ttraining's l1: 1.87196\tvalid_1's l1: 2.27076\n",
      "[200]\ttraining's l1: 1.82402\tvalid_1's l1: 2.25437\n",
      "[300]\ttraining's l1: 1.80333\tvalid_1's l1: 2.25417\n"
     ]
    },
    {
     "name": "stderr",
     "output_type": "stream",
     "text": [
      "\u001b[32m[I 2021-07-11 23:44:37,504]\u001b[0m Trial 13 finished with value: -2.247913244270558 and parameters: {'max_depth': 20, 'min_child_weight': 7, 'subsample': 0.5, 'colsample_bytree': 0.8, 'reg_lambda': 0.5537948448029926, 'reg_alpha': 1.0799817355895764, 'feature_fraction': 0.4224171909864284, 'bagging_fraction': 0.4126677759856032, 'bagging_freq': 9}. Best is trial 4 with value: -2.239634559458192.\u001b[0m\n"
     ]
    },
    {
     "name": "stdout",
     "output_type": "stream",
     "text": [
      "Early stopping, best iteration is:\n",
      "[251]\ttraining's l1: 1.8094\tvalid_1's l1: 2.24795\n",
      "[LightGBM] [Warning] feature_fraction is set=0.40264970838655234, colsample_bytree=0.8 will be ignored. Current value: feature_fraction=0.40264970838655234\n",
      "[LightGBM] [Warning] bagging_fraction is set=0.4133114264404612, subsample=0.6 will be ignored. Current value: bagging_fraction=0.4133114264404612\n",
      "[LightGBM] [Warning] bagging_freq is set=8, subsample_freq=0 will be ignored. Current value: bagging_freq=8\n",
      "Training until validation scores don't improve for 100 rounds\n",
      "[100]\ttraining's l1: 1.87253\tvalid_1's l1: 2.27005\n"
     ]
    },
    {
     "name": "stderr",
     "output_type": "stream",
     "text": [
      "\u001b[32m[I 2021-07-11 23:44:42,292]\u001b[0m Trial 14 finished with value: -2.266242751351141 and parameters: {'max_depth': 14, 'min_child_weight': 1, 'subsample': 0.6, 'colsample_bytree': 0.8, 'reg_lambda': 0.27372839332772564, 'reg_alpha': 1.6624337056402287, 'feature_fraction': 0.40264970838655234, 'bagging_fraction': 0.4133114264404612, 'bagging_freq': 8}. Best is trial 4 with value: -2.239634559458192.\u001b[0m\n"
     ]
    },
    {
     "name": "stdout",
     "output_type": "stream",
     "text": [
      "Early stopping, best iteration is:\n",
      "[82]\ttraining's l1: 1.88528\tvalid_1's l1: 2.26624\n",
      "[LightGBM] [Warning] feature_fraction is set=0.41333500836686854, colsample_bytree=0.8 will be ignored. Current value: feature_fraction=0.41333500836686854\n",
      "[LightGBM] [Warning] bagging_fraction is set=0.8258143142563987, subsample=0.5 will be ignored. Current value: bagging_fraction=0.8258143142563987\n",
      "[LightGBM] [Warning] bagging_freq is set=9, subsample_freq=0 will be ignored. Current value: bagging_freq=9\n",
      "Training until validation scores don't improve for 100 rounds\n",
      "[100]\ttraining's l1: 1.86518\tvalid_1's l1: 2.26672\n",
      "[200]\ttraining's l1: 1.82332\tvalid_1's l1: 2.25797\n"
     ]
    },
    {
     "name": "stderr",
     "output_type": "stream",
     "text": [
      "\u001b[32m[I 2021-07-11 23:44:52,898]\u001b[0m Trial 15 finished with value: -2.2563584864531974 and parameters: {'max_depth': 20, 'min_child_weight': 7, 'subsample': 0.5, 'colsample_bytree': 0.8, 'reg_lambda': 0.00401053385014208, 'reg_alpha': 0.7539864746856082, 'feature_fraction': 0.41333500836686854, 'bagging_fraction': 0.8258143142563987, 'bagging_freq': 9}. Best is trial 4 with value: -2.239634559458192.\u001b[0m\n"
     ]
    },
    {
     "name": "stdout",
     "output_type": "stream",
     "text": [
      "[300]\ttraining's l1: 1.804\tvalid_1's l1: 2.26372\n",
      "Early stopping, best iteration is:\n",
      "[205]\ttraining's l1: 1.82198\tvalid_1's l1: 2.25636\n",
      "[LightGBM] [Warning] feature_fraction is set=0.5926528402581265, colsample_bytree=0.5 will be ignored. Current value: feature_fraction=0.5926528402581265\n",
      "[LightGBM] [Warning] bagging_fraction is set=0.6894844000172682, subsample=0.6 will be ignored. Current value: bagging_fraction=0.6894844000172682\n",
      "[LightGBM] [Warning] bagging_freq is set=6, subsample_freq=0 will be ignored. Current value: bagging_freq=6\n",
      "Training until validation scores don't improve for 100 rounds\n",
      "[100]\ttraining's l1: 1.87335\tvalid_1's l1: 2.26067\n",
      "[200]\ttraining's l1: 1.82909\tvalid_1's l1: 2.25596\n"
     ]
    },
    {
     "name": "stderr",
     "output_type": "stream",
     "text": [
      "\u001b[32m[I 2021-07-11 23:45:03,218]\u001b[0m Trial 16 finished with value: -2.2535896372343274 and parameters: {'max_depth': 17, 'min_child_weight': 5, 'subsample': 0.6, 'colsample_bytree': 0.5, 'reg_lambda': 0.6277028265179455, 'reg_alpha': 19.33888755878984, 'feature_fraction': 0.5926528402581265, 'bagging_fraction': 0.6894844000172682, 'bagging_freq': 6}. Best is trial 4 with value: -2.239634559458192.\u001b[0m\n"
     ]
    },
    {
     "name": "stdout",
     "output_type": "stream",
     "text": [
      "Early stopping, best iteration is:\n",
      "[166]\ttraining's l1: 1.83661\tvalid_1's l1: 2.2536\n",
      "[LightGBM] [Warning] feature_fraction is set=0.5973551518709277, colsample_bytree=0.8 will be ignored. Current value: feature_fraction=0.5973551518709277\n",
      "[LightGBM] [Warning] bagging_fraction is set=0.9810973212488086, subsample=0.5 will be ignored. Current value: bagging_fraction=0.9810973212488086\n",
      "[LightGBM] [Warning] bagging_freq is set=9, subsample_freq=0 will be ignored. Current value: bagging_freq=9\n",
      "Training until validation scores don't improve for 100 rounds\n",
      "[100]\ttraining's l1: 1.86165\tvalid_1's l1: 2.26264\n",
      "[200]\ttraining's l1: 1.81553\tvalid_1's l1: 2.25709\n",
      "[300]\ttraining's l1: 1.79382\tvalid_1's l1: 2.25252\n"
     ]
    },
    {
     "name": "stderr",
     "output_type": "stream",
     "text": [
      "\u001b[32m[I 2021-07-11 23:45:18,420]\u001b[0m Trial 17 finished with value: -2.2459925371725946 and parameters: {'max_depth': 15, 'min_child_weight': 11, 'subsample': 0.5, 'colsample_bytree': 0.8, 'reg_lambda': 0.017221876918127203, 'reg_alpha': 0.1791372839119644, 'feature_fraction': 0.5973551518709277, 'bagging_fraction': 0.9810973212488086, 'bagging_freq': 9}. Best is trial 4 with value: -2.239634559458192.\u001b[0m\n"
     ]
    },
    {
     "name": "stdout",
     "output_type": "stream",
     "text": [
      "Early stopping, best iteration is:\n",
      "[229]\ttraining's l1: 1.8065\tvalid_1's l1: 2.24655\n",
      "[LightGBM] [Warning] feature_fraction is set=0.6452951636940628, colsample_bytree=0.7 will be ignored. Current value: feature_fraction=0.6452951636940628\n",
      "[LightGBM] [Warning] bagging_fraction is set=0.9381039971364655, subsample=0.6 will be ignored. Current value: bagging_fraction=0.9381039971364655\n",
      "[LightGBM] [Warning] bagging_freq is set=7, subsample_freq=0 will be ignored. Current value: bagging_freq=7\n",
      "Training until validation scores don't improve for 100 rounds\n",
      "[100]\ttraining's l1: 1.86456\tvalid_1's l1: 2.25895\n",
      "[200]\ttraining's l1: 1.81783\tvalid_1's l1: 2.25167\n"
     ]
    },
    {
     "name": "stderr",
     "output_type": "stream",
     "text": [
      "\u001b[32m[I 2021-07-11 23:45:26,760]\u001b[0m Trial 18 finished with value: -2.248084964117017 and parameters: {'max_depth': 14, 'min_child_weight': 14, 'subsample': 0.6, 'colsample_bytree': 0.7, 'reg_lambda': 0.011039423170036582, 'reg_alpha': 0.18138520579348988, 'feature_fraction': 0.6452951636940628, 'bagging_fraction': 0.9381039971364655, 'bagging_freq': 7}. Best is trial 4 with value: -2.239634559458192.\u001b[0m\n"
     ]
    },
    {
     "name": "stdout",
     "output_type": "stream",
     "text": [
      "Early stopping, best iteration is:\n",
      "[133]\ttraining's l1: 1.83827\tvalid_1's l1: 2.24809\n",
      "[LightGBM] [Warning] feature_fraction is set=0.5816547054021105, colsample_bytree=0.8 will be ignored. Current value: feature_fraction=0.5816547054021105\n",
      "[LightGBM] [Warning] bagging_fraction is set=0.9721254926192037, subsample=0.5 will be ignored. Current value: bagging_fraction=0.9721254926192037\n",
      "[LightGBM] [Warning] bagging_freq is set=9, subsample_freq=0 will be ignored. Current value: bagging_freq=9\n",
      "Training until validation scores don't improve for 100 rounds\n",
      "[100]\ttraining's l1: 1.87839\tvalid_1's l1: 2.27197\n"
     ]
    },
    {
     "name": "stderr",
     "output_type": "stream",
     "text": [
      "\u001b[32m[I 2021-07-11 23:45:35,718]\u001b[0m Trial 19 finished with value: -2.264915940145409 and parameters: {'max_depth': 16, 'min_child_weight': 11, 'subsample': 0.5, 'colsample_bytree': 0.8, 'reg_lambda': 0.024033829982731066, 'reg_alpha': 0.09866369863871827, 'feature_fraction': 0.5816547054021105, 'bagging_fraction': 0.9721254926192037, 'bagging_freq': 9}. Best is trial 4 with value: -2.239634559458192.\u001b[0m\n"
     ]
    },
    {
     "name": "stdout",
     "output_type": "stream",
     "text": [
      "Early stopping, best iteration is:\n",
      "[74]\ttraining's l1: 1.89419\tvalid_1's l1: 2.26492\n",
      "[LightGBM] [Warning] feature_fraction is set=0.6513963222182961, colsample_bytree=0.7 will be ignored. Current value: feature_fraction=0.6513963222182961\n",
      "[LightGBM] [Warning] bagging_fraction is set=0.8700236189185909, subsample=0.8 will be ignored. Current value: bagging_fraction=0.8700236189185909\n",
      "[LightGBM] [Warning] bagging_freq is set=4, subsample_freq=0 will be ignored. Current value: bagging_freq=4\n",
      "Training until validation scores don't improve for 100 rounds\n",
      "[100]\ttraining's l1: 1.87007\tvalid_1's l1: 2.26994\n"
     ]
    },
    {
     "name": "stderr",
     "output_type": "stream",
     "text": [
      "\u001b[32m[I 2021-07-11 23:45:41,849]\u001b[0m Trial 20 finished with value: -2.2646515865747845 and parameters: {'max_depth': 13, 'min_child_weight': 15, 'subsample': 0.8, 'colsample_bytree': 0.7, 'reg_lambda': 0.001001953498387276, 'reg_alpha': 0.004493255867936471, 'feature_fraction': 0.6513963222182961, 'bagging_fraction': 0.8700236189185909, 'bagging_freq': 4}. Best is trial 4 with value: -2.239634559458192.\u001b[0m\n"
     ]
    },
    {
     "name": "stdout",
     "output_type": "stream",
     "text": [
      "Early stopping, best iteration is:\n",
      "[52]\ttraining's l1: 1.91307\tvalid_1's l1: 2.26465\n",
      "[LightGBM] [Warning] feature_fraction is set=0.4533625646115455, colsample_bytree=0.8 will be ignored. Current value: feature_fraction=0.4533625646115455\n",
      "[LightGBM] [Warning] bagging_fraction is set=0.9994996096185897, subsample=0.5 will be ignored. Current value: bagging_fraction=0.9994996096185897\n",
      "[LightGBM] [Warning] bagging_freq is set=9, subsample_freq=0 will be ignored. Current value: bagging_freq=9\n",
      "Training until validation scores don't improve for 100 rounds\n",
      "[100]\ttraining's l1: 1.87622\tvalid_1's l1: 2.27085\n",
      "[200]\ttraining's l1: 1.82508\tvalid_1's l1: 2.25312\n"
     ]
    },
    {
     "name": "stderr",
     "output_type": "stream",
     "text": [
      "\u001b[32m[I 2021-07-11 23:45:54,117]\u001b[0m Trial 21 finished with value: -2.253004687067678 and parameters: {'max_depth': 19, 'min_child_weight': 9, 'subsample': 0.5, 'colsample_bytree': 0.8, 'reg_lambda': 1.169001810946998, 'reg_alpha': 0.8531738433275659, 'feature_fraction': 0.4533625646115455, 'bagging_fraction': 0.9994996096185897, 'bagging_freq': 9}. Best is trial 4 with value: -2.239634559458192.\u001b[0m\n"
     ]
    },
    {
     "name": "stdout",
     "output_type": "stream",
     "text": [
      "[300]\ttraining's l1: 1.80146\tvalid_1's l1: 2.25942\n",
      "Early stopping, best iteration is:\n",
      "[202]\ttraining's l1: 1.82389\tvalid_1's l1: 2.25301\n",
      "[LightGBM] [Warning] feature_fraction is set=0.5396425061002985, colsample_bytree=0.8 will be ignored. Current value: feature_fraction=0.5396425061002985\n",
      "[LightGBM] [Warning] bagging_fraction is set=0.717932223756619, subsample=0.5 will be ignored. Current value: bagging_fraction=0.717932223756619\n",
      "[LightGBM] [Warning] bagging_freq is set=9, subsample_freq=0 will be ignored. Current value: bagging_freq=9\n",
      "Training until validation scores don't improve for 100 rounds\n",
      "[100]\ttraining's l1: 1.87192\tvalid_1's l1: 2.27024\n",
      "[200]\ttraining's l1: 1.82075\tvalid_1's l1: 2.24664\n"
     ]
    },
    {
     "name": "stderr",
     "output_type": "stream",
     "text": [
      "\u001b[32m[I 2021-07-11 23:46:04,409]\u001b[0m Trial 22 finished with value: -2.244990994820931 and parameters: {'max_depth': 18, 'min_child_weight': 6, 'subsample': 0.5, 'colsample_bytree': 0.8, 'reg_lambda': 38.70910596640025, 'reg_alpha': 2.682311850343041, 'feature_fraction': 0.5396425061002985, 'bagging_fraction': 0.717932223756619, 'bagging_freq': 9}. Best is trial 4 with value: -2.239634559458192.\u001b[0m\n"
     ]
    },
    {
     "name": "stdout",
     "output_type": "stream",
     "text": [
      "Early stopping, best iteration is:\n",
      "[192]\ttraining's l1: 1.82361\tvalid_1's l1: 2.24499\n",
      "[LightGBM] [Warning] feature_fraction is set=0.5399014218880792, colsample_bytree=0.7 will be ignored. Current value: feature_fraction=0.5399014218880792\n",
      "[LightGBM] [Warning] bagging_fraction is set=0.6966445601142522, subsample=0.6 will be ignored. Current value: bagging_fraction=0.6966445601142522\n",
      "[LightGBM] [Warning] bagging_freq is set=7, subsample_freq=0 will be ignored. Current value: bagging_freq=7\n",
      "Training until validation scores don't improve for 100 rounds\n",
      "[100]\ttraining's l1: 1.86734\tvalid_1's l1: 2.25134\n"
     ]
    },
    {
     "name": "stderr",
     "output_type": "stream",
     "text": [
      "\u001b[32m[I 2021-07-11 23:46:11,271]\u001b[0m Trial 23 finished with value: -2.241585971839718 and parameters: {'max_depth': 18, 'min_child_weight': 2, 'subsample': 0.6, 'colsample_bytree': 0.7, 'reg_lambda': 20.61903582299975, 'reg_alpha': 4.0919971133471496, 'feature_fraction': 0.5399014218880792, 'bagging_fraction': 0.6966445601142522, 'bagging_freq': 7}. Best is trial 4 with value: -2.239634559458192.\u001b[0m\n"
     ]
    },
    {
     "name": "stdout",
     "output_type": "stream",
     "text": [
      "Early stopping, best iteration is:\n",
      "[76]\ttraining's l1: 1.88562\tvalid_1's l1: 2.24159\n",
      "[LightGBM] [Warning] feature_fraction is set=0.5434744262267643, colsample_bytree=0.7 will be ignored. Current value: feature_fraction=0.5434744262267643\n",
      "[LightGBM] [Warning] bagging_fraction is set=0.6875578193472548, subsample=0.6 will be ignored. Current value: bagging_fraction=0.6875578193472548\n",
      "[LightGBM] [Warning] bagging_freq is set=7, subsample_freq=0 will be ignored. Current value: bagging_freq=7\n",
      "Training until validation scores don't improve for 100 rounds\n",
      "[100]\ttraining's l1: 1.86866\tvalid_1's l1: 2.25334\n"
     ]
    },
    {
     "name": "stderr",
     "output_type": "stream",
     "text": [
      "\u001b[32m[I 2021-07-11 23:46:18,503]\u001b[0m Trial 24 finished with value: -2.2493525101735723 and parameters: {'max_depth': 18, 'min_child_weight': 2, 'subsample': 0.6, 'colsample_bytree': 0.7, 'reg_lambda': 36.42437404389351, 'reg_alpha': 5.28948574013498, 'feature_fraction': 0.5434744262267643, 'bagging_fraction': 0.6875578193472548, 'bagging_freq': 7}. Best is trial 4 with value: -2.239634559458192.\u001b[0m\n"
     ]
    },
    {
     "name": "stdout",
     "output_type": "stream",
     "text": [
      "Early stopping, best iteration is:\n",
      "[92]\ttraining's l1: 1.87578\tvalid_1's l1: 2.24936\n",
      "[LightGBM] [Warning] feature_fraction is set=0.47301026327279494, colsample_bytree=0.7 will be ignored. Current value: feature_fraction=0.47301026327279494\n",
      "[LightGBM] [Warning] bagging_fraction is set=0.6430388772696602, subsample=0.6 will be ignored. Current value: bagging_fraction=0.6430388772696602\n",
      "[LightGBM] [Warning] bagging_freq is set=7, subsample_freq=0 will be ignored. Current value: bagging_freq=7\n",
      "Training until validation scores don't improve for 100 rounds\n",
      "[100]\ttraining's l1: 1.87696\tvalid_1's l1: 2.26527\n"
     ]
    },
    {
     "name": "stderr",
     "output_type": "stream",
     "text": [
      "\u001b[32m[I 2021-07-11 23:46:24,679]\u001b[0m Trial 25 finished with value: -2.2637085419680436 and parameters: {'max_depth': 18, 'min_child_weight': 5, 'subsample': 0.6, 'colsample_bytree': 0.7, 'reg_lambda': 29.21157509351059, 'reg_alpha': 147.80827458913282, 'feature_fraction': 0.47301026327279494, 'bagging_fraction': 0.6430388772696602, 'bagging_freq': 7}. Best is trial 4 with value: -2.239634559458192.\u001b[0m\n"
     ]
    },
    {
     "name": "stdout",
     "output_type": "stream",
     "text": [
      "Early stopping, best iteration is:\n",
      "[77]\ttraining's l1: 1.89238\tvalid_1's l1: 2.26371\n",
      "[LightGBM] [Warning] feature_fraction is set=0.542611102529967, colsample_bytree=0.5 will be ignored. Current value: feature_fraction=0.542611102529967\n",
      "[LightGBM] [Warning] bagging_fraction is set=0.7556889855475876, subsample=0.6 will be ignored. Current value: bagging_fraction=0.7556889855475876\n",
      "[LightGBM] [Warning] bagging_freq is set=8, subsample_freq=0 will be ignored. Current value: bagging_freq=8\n",
      "Training until validation scores don't improve for 100 rounds\n",
      "[100]\ttraining's l1: 1.87618\tvalid_1's l1: 2.27312\n",
      "[200]\ttraining's l1: 1.82889\tvalid_1's l1: 2.2649\n"
     ]
    },
    {
     "name": "stderr",
     "output_type": "stream",
     "text": [
      "\u001b[32m[I 2021-07-11 23:46:35,608]\u001b[0m Trial 26 finished with value: -2.2647148661574454 and parameters: {'max_depth': 16, 'min_child_weight': 2, 'subsample': 0.6, 'colsample_bytree': 0.5, 'reg_lambda': 100.83179789364117, 'reg_alpha': 3.7721998683996762, 'feature_fraction': 0.542611102529967, 'bagging_fraction': 0.7556889855475876, 'bagging_freq': 8}. Best is trial 4 with value: -2.239634559458192.\u001b[0m\n"
     ]
    },
    {
     "name": "stdout",
     "output_type": "stream",
     "text": [
      "Early stopping, best iteration is:\n",
      "[198]\ttraining's l1: 1.82952\tvalid_1's l1: 2.26472\n",
      "[LightGBM] [Warning] feature_fraction is set=0.6429479059820358, colsample_bytree=0.7 will be ignored. Current value: feature_fraction=0.6429479059820358\n",
      "[LightGBM] [Warning] bagging_fraction is set=0.7218512777608964, subsample=0.5 will be ignored. Current value: bagging_fraction=0.7218512777608964\n",
      "[LightGBM] [Warning] bagging_freq is set=5, subsample_freq=0 will be ignored. Current value: bagging_freq=5\n",
      "Training until validation scores don't improve for 100 rounds\n",
      "[100]\ttraining's l1: 1.8682\tvalid_1's l1: 2.25755\n",
      "[200]\ttraining's l1: 1.82772\tvalid_1's l1: 2.25481\n"
     ]
    },
    {
     "name": "stderr",
     "output_type": "stream",
     "text": [
      "\u001b[32m[I 2021-07-11 23:46:42,796]\u001b[0m Trial 27 finished with value: -2.24746942550777 and parameters: {'max_depth': 19, 'min_child_weight': 6, 'subsample': 0.5, 'colsample_bytree': 0.7, 'reg_lambda': 2.014817788342197, 'reg_alpha': 26.695114473857547, 'feature_fraction': 0.6429479059820358, 'bagging_fraction': 0.7218512777608964, 'bagging_freq': 5}. Best is trial 4 with value: -2.239634559458192.\u001b[0m\n"
     ]
    },
    {
     "name": "stdout",
     "output_type": "stream",
     "text": [
      "Early stopping, best iteration is:\n",
      "[122]\ttraining's l1: 1.85434\tvalid_1's l1: 2.24747\n",
      "[LightGBM] [Warning] feature_fraction is set=0.5434397744732713, colsample_bytree=0.8 will be ignored. Current value: feature_fraction=0.5434397744732713\n",
      "[LightGBM] [Warning] bagging_fraction is set=0.6255970640896511, subsample=0.6 will be ignored. Current value: bagging_fraction=0.6255970640896511\n",
      "[LightGBM] [Warning] bagging_freq is set=6, subsample_freq=0 will be ignored. Current value: bagging_freq=6\n",
      "Training until validation scores don't improve for 100 rounds\n",
      "[100]\ttraining's l1: 1.87011\tvalid_1's l1: 2.26668\n",
      "[200]\ttraining's l1: 1.82966\tvalid_1's l1: 2.26129\n",
      "[300]\ttraining's l1: 1.80789\tvalid_1's l1: 2.2601\n",
      "[400]\ttraining's l1: 1.78757\tvalid_1's l1: 2.24657\n",
      "[500]\ttraining's l1: 1.77263\tvalid_1's l1: 2.24269\n",
      "[600]\ttraining's l1: 1.7592\tvalid_1's l1: 2.24292\n"
     ]
    },
    {
     "name": "stderr",
     "output_type": "stream",
     "text": [
      "\u001b[32m[I 2021-07-11 23:47:01,557]\u001b[0m Trial 28 finished with value: -2.2377362136234606 and parameters: {'max_depth': 13, 'min_child_weight': 3, 'subsample': 0.6, 'colsample_bytree': 0.8, 'reg_lambda': 16.436637437346327, 'reg_alpha': 14.066112374761795, 'feature_fraction': 0.5434397744732713, 'bagging_fraction': 0.6255970640896511, 'bagging_freq': 6}. Best is trial 28 with value: -2.2377362136234606.\u001b[0m\n"
     ]
    },
    {
     "name": "stdout",
     "output_type": "stream",
     "text": [
      "Early stopping, best iteration is:\n",
      "[518]\ttraining's l1: 1.7685\tvalid_1's l1: 2.23792\n",
      "[LightGBM] [Warning] feature_fraction is set=0.7602406949713694, colsample_bytree=0.7 will be ignored. Current value: feature_fraction=0.7602406949713694\n",
      "[LightGBM] [Warning] bagging_fraction is set=0.6428986093323277, subsample=0.7 will be ignored. Current value: bagging_fraction=0.6428986093323277\n",
      "[LightGBM] [Warning] bagging_freq is set=4, subsample_freq=0 will be ignored. Current value: bagging_freq=4\n",
      "Training until validation scores don't improve for 100 rounds\n",
      "[100]\ttraining's l1: 1.87454\tvalid_1's l1: 2.26669\n",
      "[200]\ttraining's l1: 1.83977\tvalid_1's l1: 2.26409\n",
      "[300]\ttraining's l1: 1.82174\tvalid_1's l1: 2.26558\n"
     ]
    },
    {
     "name": "stderr",
     "output_type": "stream",
     "text": [
      "\u001b[32m[I 2021-07-11 23:47:11,285]\u001b[0m Trial 29 finished with value: -2.260270758297889 and parameters: {'max_depth': 8, 'min_child_weight': 3, 'subsample': 0.7, 'colsample_bytree': 0.7, 'reg_lambda': 8.323915031468122, 'reg_alpha': 182.71629917353638, 'feature_fraction': 0.7602406949713694, 'bagging_fraction': 0.6428986093323277, 'bagging_freq': 4}. Best is trial 28 with value: -2.2377362136234606.\u001b[0m\n"
     ]
    },
    {
     "name": "stdout",
     "output_type": "stream",
     "text": [
      "Early stopping, best iteration is:\n",
      "[211]\ttraining's l1: 1.83699\tvalid_1's l1: 2.26027\n",
      "[LightGBM] [Warning] feature_fraction is set=0.4500754477962864, colsample_bytree=0.9 will be ignored. Current value: feature_fraction=0.4500754477962864\n",
      "[LightGBM] [Warning] bagging_fraction is set=0.5242870452820357, subsample=0.6 will be ignored. Current value: bagging_fraction=0.5242870452820357\n",
      "[LightGBM] [Warning] bagging_freq is set=6, subsample_freq=0 will be ignored. Current value: bagging_freq=6\n",
      "Training until validation scores don't improve for 100 rounds\n",
      "[100]\ttraining's l1: 1.87052\tvalid_1's l1: 2.25677\n"
     ]
    },
    {
     "name": "stderr",
     "output_type": "stream",
     "text": [
      "\u001b[32m[I 2021-07-11 23:47:16,858]\u001b[0m Trial 30 finished with value: -2.2524351261088875 and parameters: {'max_depth': 12, 'min_child_weight': 1, 'subsample': 0.6, 'colsample_bytree': 0.9, 'reg_lambda': 2.553251930583468, 'reg_alpha': 58.56279128454685, 'feature_fraction': 0.4500754477962864, 'bagging_fraction': 0.5242870452820357, 'bagging_freq': 6}. Best is trial 28 with value: -2.2377362136234606.\u001b[0m\n"
     ]
    },
    {
     "name": "stdout",
     "output_type": "stream",
     "text": [
      "Early stopping, best iteration is:\n",
      "[78]\ttraining's l1: 1.8888\tvalid_1's l1: 2.25244\n",
      "[LightGBM] [Warning] feature_fraction is set=0.5394203328959056, colsample_bytree=0.8 will be ignored. Current value: feature_fraction=0.5394203328959056\n",
      "[LightGBM] [Warning] bagging_fraction is set=0.642328385663319, subsample=0.6 will be ignored. Current value: bagging_fraction=0.642328385663319\n",
      "[LightGBM] [Warning] bagging_freq is set=7, subsample_freq=0 will be ignored. Current value: bagging_freq=7\n",
      "Training until validation scores don't improve for 100 rounds\n",
      "[100]\ttraining's l1: 1.8763\tvalid_1's l1: 2.2786\n"
     ]
    },
    {
     "name": "stderr",
     "output_type": "stream",
     "text": [
      "\u001b[32m[I 2021-07-11 23:47:22,395]\u001b[0m Trial 31 finished with value: -2.2710132570579415 and parameters: {'max_depth': 9, 'min_child_weight': 4, 'subsample': 0.6, 'colsample_bytree': 0.8, 'reg_lambda': 21.186446778973373, 'reg_alpha': 11.056687961568175, 'feature_fraction': 0.5394203328959056, 'bagging_fraction': 0.642328385663319, 'bagging_freq': 7}. Best is trial 28 with value: -2.2377362136234606.\u001b[0m\n"
     ]
    },
    {
     "name": "stdout",
     "output_type": "stream",
     "text": [
      "Early stopping, best iteration is:\n",
      "[41]\ttraining's l1: 1.92426\tvalid_1's l1: 2.27101\n",
      "[LightGBM] [Warning] feature_fraction is set=0.5690620889287998, colsample_bytree=0.8 will be ignored. Current value: feature_fraction=0.5690620889287998\n",
      "[LightGBM] [Warning] bagging_fraction is set=0.7438745973528423, subsample=0.5 will be ignored. Current value: bagging_fraction=0.7438745973528423\n",
      "[LightGBM] [Warning] bagging_freq is set=6, subsample_freq=0 will be ignored. Current value: bagging_freq=6\n",
      "Training until validation scores don't improve for 100 rounds\n",
      "[100]\ttraining's l1: 1.87747\tvalid_1's l1: 2.27893\n"
     ]
    },
    {
     "name": "stderr",
     "output_type": "stream",
     "text": [
      "\u001b[32m[I 2021-07-11 23:47:28,809]\u001b[0m Trial 32 finished with value: -2.2707411011734018 and parameters: {'max_depth': 16, 'min_child_weight': 3, 'subsample': 0.5, 'colsample_bytree': 0.8, 'reg_lambda': 83.5110596937746, 'reg_alpha': 0.3954211357650257, 'feature_fraction': 0.5690620889287998, 'bagging_fraction': 0.7438745973528423, 'bagging_freq': 6}. Best is trial 28 with value: -2.2377362136234606.\u001b[0m\n"
     ]
    },
    {
     "name": "stdout",
     "output_type": "stream",
     "text": [
      "Early stopping, best iteration is:\n",
      "[41]\ttraining's l1: 1.92295\tvalid_1's l1: 2.27074\n",
      "[LightGBM] [Warning] feature_fraction is set=0.5054229700302642, colsample_bytree=0.7 will be ignored. Current value: feature_fraction=0.5054229700302642\n",
      "[LightGBM] [Warning] bagging_fraction is set=0.49214774758763746, subsample=0.6 will be ignored. Current value: bagging_fraction=0.49214774758763746\n",
      "[LightGBM] [Warning] bagging_freq is set=5, subsample_freq=0 will be ignored. Current value: bagging_freq=5\n",
      "Training until validation scores don't improve for 100 rounds\n",
      "[100]\ttraining's l1: 1.87377\tvalid_1's l1: 2.26861\n"
     ]
    },
    {
     "name": "stderr",
     "output_type": "stream",
     "text": [
      "\u001b[32m[I 2021-07-11 23:47:34,082]\u001b[0m Trial 33 finished with value: -2.2627667774120876 and parameters: {'max_depth': 13, 'min_child_weight': 5, 'subsample': 0.6, 'colsample_bytree': 0.7, 'reg_lambda': 19.1976652809348, 'reg_alpha': 1.6309375439731817, 'feature_fraction': 0.5054229700302642, 'bagging_fraction': 0.49214774758763746, 'bagging_freq': 5}. Best is trial 28 with value: -2.2377362136234606.\u001b[0m\n"
     ]
    },
    {
     "name": "stdout",
     "output_type": "stream",
     "text": [
      "Early stopping, best iteration is:\n",
      "[62]\ttraining's l1: 1.90105\tvalid_1's l1: 2.26277\n",
      "[LightGBM] [Warning] feature_fraction is set=0.6264401457536416, colsample_bytree=0.8 will be ignored. Current value: feature_fraction=0.6264401457536416\n",
      "[LightGBM] [Warning] bagging_fraction is set=0.6669533476922718, subsample=0.7 will be ignored. Current value: bagging_fraction=0.6669533476922718\n",
      "[LightGBM] [Warning] bagging_freq is set=8, subsample_freq=0 will be ignored. Current value: bagging_freq=8\n",
      "Training until validation scores don't improve for 100 rounds\n",
      "[100]\ttraining's l1: 1.87049\tvalid_1's l1: 2.2654\n",
      "[200]\ttraining's l1: 1.82173\tvalid_1's l1: 2.24386\n",
      "[300]\ttraining's l1: 1.7895\tvalid_1's l1: 2.2275\n"
     ]
    },
    {
     "name": "stderr",
     "output_type": "stream",
     "text": [
      "\u001b[32m[I 2021-07-11 23:47:43,183]\u001b[0m Trial 34 finished with value: -2.22392964705185 and parameters: {'max_depth': 19, 'min_child_weight': 2, 'subsample': 0.7, 'colsample_bytree': 0.8, 'reg_lambda': 2.9763471256599896, 'reg_alpha': 11.476575282144152, 'feature_fraction': 0.6264401457536416, 'bagging_fraction': 0.6669533476922718, 'bagging_freq': 8}. Best is trial 34 with value: -2.22392964705185.\u001b[0m\n"
     ]
    },
    {
     "name": "stdout",
     "output_type": "stream",
     "text": [
      "Early stopping, best iteration is:\n",
      "[230]\ttraining's l1: 1.80186\tvalid_1's l1: 2.22394\n",
      "[LightGBM] [Warning] feature_fraction is set=0.9966507776526705, colsample_bytree=0.7 will be ignored. Current value: feature_fraction=0.9966507776526705\n",
      "[LightGBM] [Warning] bagging_fraction is set=0.6614791488180034, subsample=0.8 will be ignored. Current value: bagging_fraction=0.6614791488180034\n",
      "[LightGBM] [Warning] bagging_freq is set=6, subsample_freq=0 will be ignored. Current value: bagging_freq=6\n",
      "Training until validation scores don't improve for 100 rounds\n",
      "[100]\ttraining's l1: 1.87859\tvalid_1's l1: 2.27479\n"
     ]
    },
    {
     "name": "stderr",
     "output_type": "stream",
     "text": [
      "\u001b[32m[I 2021-07-11 23:47:48,222]\u001b[0m Trial 35 finished with value: -2.2667551616916715 and parameters: {'max_depth': 19, 'min_child_weight': 2, 'subsample': 0.8, 'colsample_bytree': 0.7, 'reg_lambda': 4.031628217422734, 'reg_alpha': 81.31110456505154, 'feature_fraction': 0.9966507776526705, 'bagging_fraction': 0.6614791488180034, 'bagging_freq': 6}. Best is trial 34 with value: -2.22392964705185.\u001b[0m\n"
     ]
    },
    {
     "name": "stdout",
     "output_type": "stream",
     "text": [
      "Early stopping, best iteration is:\n",
      "[32]\ttraining's l1: 1.9358\tvalid_1's l1: 2.26676\n",
      "[LightGBM] [Warning] feature_fraction is set=0.6272041802319894, colsample_bytree=0.7 will be ignored. Current value: feature_fraction=0.6272041802319894\n",
      "[LightGBM] [Warning] bagging_fraction is set=0.6075722038053138, subsample=0.7 will be ignored. Current value: bagging_fraction=0.6075722038053138\n",
      "[LightGBM] [Warning] bagging_freq is set=8, subsample_freq=0 will be ignored. Current value: bagging_freq=8\n",
      "Training until validation scores don't improve for 100 rounds\n",
      "[100]\ttraining's l1: 1.88109\tvalid_1's l1: 2.27354\n",
      "[200]\ttraining's l1: 1.85198\tvalid_1's l1: 2.27336\n"
     ]
    },
    {
     "name": "stderr",
     "output_type": "stream",
     "text": [
      "\u001b[32m[I 2021-07-11 23:47:53,866]\u001b[0m Trial 36 finished with value: -2.2698239738845967 and parameters: {'max_depth': 5, 'min_child_weight': 4, 'subsample': 0.7, 'colsample_bytree': 0.7, 'reg_lambda': 1.9588247977659357, 'reg_alpha': 10.052862375918677, 'feature_fraction': 0.6272041802319894, 'bagging_fraction': 0.6075722038053138, 'bagging_freq': 8}. Best is trial 34 with value: -2.22392964705185.\u001b[0m\n"
     ]
    },
    {
     "name": "stdout",
     "output_type": "stream",
     "text": [
      "Early stopping, best iteration is:\n",
      "[120]\ttraining's l1: 1.86979\tvalid_1's l1: 2.26985\n",
      "[LightGBM] [Warning] feature_fraction is set=0.6211003974683423, colsample_bytree=0.6 will be ignored. Current value: feature_fraction=0.6211003974683423\n",
      "[LightGBM] [Warning] bagging_fraction is set=0.806899450450337, subsample=0.8 will be ignored. Current value: bagging_fraction=0.806899450450337\n",
      "[LightGBM] [Warning] bagging_freq is set=3, subsample_freq=0 will be ignored. Current value: bagging_freq=3\n",
      "Training until validation scores don't improve for 100 rounds\n",
      "[100]\ttraining's l1: 1.88247\tvalid_1's l1: 2.26399\n"
     ]
    },
    {
     "name": "stderr",
     "output_type": "stream",
     "text": [
      "\u001b[32m[I 2021-07-11 23:48:02,445]\u001b[0m Trial 37 finished with value: -2.261764251924554 and parameters: {'max_depth': 10, 'min_child_weight': 3, 'subsample': 0.8, 'colsample_bytree': 0.6, 'reg_lambda': 0.24625536279779375, 'reg_alpha': 357.92697357351943, 'feature_fraction': 0.6211003974683423, 'bagging_fraction': 0.806899450450337, 'bagging_freq': 3}. Best is trial 34 with value: -2.22392964705185.\u001b[0m\n"
     ]
    },
    {
     "name": "stdout",
     "output_type": "stream",
     "text": [
      "Early stopping, best iteration is:\n",
      "[77]\ttraining's l1: 1.89532\tvalid_1's l1: 2.26176\n",
      "[LightGBM] [Warning] feature_fraction is set=0.4736979170569936, colsample_bytree=0.6 will be ignored. Current value: feature_fraction=0.4736979170569936\n",
      "[LightGBM] [Warning] bagging_fraction is set=0.6152625651907664, subsample=0.7 will be ignored. Current value: bagging_fraction=0.6152625651907664\n",
      "[LightGBM] [Warning] bagging_freq is set=5, subsample_freq=0 will be ignored. Current value: bagging_freq=5\n",
      "Training until validation scores don't improve for 100 rounds\n",
      "[100]\ttraining's l1: 1.91174\tvalid_1's l1: 2.30419\n",
      "[200]\ttraining's l1: 1.88253\tvalid_1's l1: 2.28636\n",
      "[300]\ttraining's l1: 1.87192\tvalid_1's l1: 2.28506\n",
      "[400]\ttraining's l1: 1.86652\tvalid_1's l1: 2.28492\n",
      "[500]\ttraining's l1: 1.86145\tvalid_1's l1: 2.2845\n"
     ]
    },
    {
     "name": "stderr",
     "output_type": "stream",
     "text": [
      "\u001b[32m[I 2021-07-11 23:48:17,621]\u001b[0m Trial 38 finished with value: -2.2827644254677244 and parameters: {'max_depth': 19, 'min_child_weight': 1, 'subsample': 0.7, 'colsample_bytree': 0.6, 'reg_lambda': 0.07322599655674034, 'reg_alpha': 920.4736806613464, 'feature_fraction': 0.4736979170569936, 'bagging_fraction': 0.6152625651907664, 'bagging_freq': 5}. Best is trial 34 with value: -2.22392964705185.\u001b[0m\n"
     ]
    },
    {
     "name": "stdout",
     "output_type": "stream",
     "text": [
      "Early stopping, best iteration is:\n",
      "[444]\ttraining's l1: 1.86369\tvalid_1's l1: 2.28278\n",
      "[LightGBM] [Warning] feature_fraction is set=0.6823621319929245, colsample_bytree=0.9 will be ignored. Current value: feature_fraction=0.6823621319929245\n",
      "[LightGBM] [Warning] bagging_fraction is set=0.6776325430236173, subsample=0.7 will be ignored. Current value: bagging_fraction=0.6776325430236173\n",
      "[LightGBM] [Warning] bagging_freq is set=7, subsample_freq=0 will be ignored. Current value: bagging_freq=7\n",
      "Training until validation scores don't improve for 100 rounds\n",
      "[100]\ttraining's l1: 1.86917\tvalid_1's l1: 2.26483\n"
     ]
    },
    {
     "name": "stderr",
     "output_type": "stream",
     "text": [
      "\u001b[32m[I 2021-07-11 23:48:22,356]\u001b[0m Trial 39 finished with value: -2.2628861475267175 and parameters: {'max_depth': 17, 'min_child_weight': 2, 'subsample': 0.7, 'colsample_bytree': 0.9, 'reg_lambda': 9.444779217071506, 'reg_alpha': 15.391318453935387, 'feature_fraction': 0.6823621319929245, 'bagging_fraction': 0.6776325430236173, 'bagging_freq': 7}. Best is trial 34 with value: -2.22392964705185.\u001b[0m\n"
     ]
    },
    {
     "name": "stdout",
     "output_type": "stream",
     "text": [
      "Early stopping, best iteration is:\n",
      "[37]\ttraining's l1: 1.92635\tvalid_1's l1: 2.26289\n",
      "[LightGBM] [Warning] feature_fraction is set=0.5664117041232646, colsample_bytree=0.8 will be ignored. Current value: feature_fraction=0.5664117041232646\n",
      "[LightGBM] [Warning] bagging_fraction is set=0.7338557256336827, subsample=0.9 will be ignored. Current value: bagging_fraction=0.7338557256336827\n",
      "[LightGBM] [Warning] bagging_freq is set=8, subsample_freq=0 will be ignored. Current value: bagging_freq=8\n",
      "Training until validation scores don't improve for 100 rounds\n",
      "[100]\ttraining's l1: 1.87249\tvalid_1's l1: 2.27281\n"
     ]
    },
    {
     "name": "stderr",
     "output_type": "stream",
     "text": [
      "\u001b[32m[I 2021-07-11 23:48:29,727]\u001b[0m Trial 40 finished with value: -2.260829535175048 and parameters: {'max_depth': 12, 'min_child_weight': 4, 'subsample': 0.9, 'colsample_bytree': 0.8, 'reg_lambda': 0.5972692908908217, 'reg_alpha': 48.74891114831266, 'feature_fraction': 0.5664117041232646, 'bagging_fraction': 0.7338557256336827, 'bagging_freq': 8}. Best is trial 34 with value: -2.22392964705185.\u001b[0m\n"
     ]
    },
    {
     "name": "stdout",
     "output_type": "stream",
     "text": [
      "Early stopping, best iteration is:\n",
      "[78]\ttraining's l1: 1.89332\tvalid_1's l1: 2.26083\n",
      "[LightGBM] [Warning] feature_fraction is set=0.537903119570698, colsample_bytree=0.8 will be ignored. Current value: feature_fraction=0.537903119570698\n",
      "[LightGBM] [Warning] bagging_fraction is set=0.7089218371523869, subsample=0.6 will be ignored. Current value: bagging_fraction=0.7089218371523869\n",
      "[LightGBM] [Warning] bagging_freq is set=8, subsample_freq=0 will be ignored. Current value: bagging_freq=8\n",
      "Training until validation scores don't improve for 100 rounds\n",
      "[100]\ttraining's l1: 1.87478\tvalid_1's l1: 2.27046\n",
      "[200]\ttraining's l1: 1.83521\tvalid_1's l1: 2.26599\n",
      "[300]\ttraining's l1: 1.80155\tvalid_1's l1: 2.24436\n"
     ]
    },
    {
     "name": "stderr",
     "output_type": "stream",
     "text": [
      "\u001b[32m[I 2021-07-11 23:48:42,022]\u001b[0m Trial 41 finished with value: -2.242083009157596 and parameters: {'max_depth': 18, 'min_child_weight': 6, 'subsample': 0.6, 'colsample_bytree': 0.8, 'reg_lambda': 48.700666415976805, 'reg_alpha': 3.2544129436957085, 'feature_fraction': 0.537903119570698, 'bagging_fraction': 0.7089218371523869, 'bagging_freq': 8}. Best is trial 34 with value: -2.22392964705185.\u001b[0m\n"
     ]
    },
    {
     "name": "stdout",
     "output_type": "stream",
     "text": [
      "Early stopping, best iteration is:\n",
      "[262]\ttraining's l1: 1.80754\tvalid_1's l1: 2.24208\n",
      "[LightGBM] [Warning] feature_fraction is set=0.5090100459835899, colsample_bytree=0.8 will be ignored. Current value: feature_fraction=0.5090100459835899\n",
      "[LightGBM] [Warning] bagging_fraction is set=0.7771448586439773, subsample=0.6 will be ignored. Current value: bagging_fraction=0.7771448586439773\n",
      "[LightGBM] [Warning] bagging_freq is set=7, subsample_freq=0 will be ignored. Current value: bagging_freq=7\n",
      "Training until validation scores don't improve for 100 rounds\n",
      "[100]\ttraining's l1: 1.87863\tvalid_1's l1: 2.26868\n",
      "[200]\ttraining's l1: 1.83136\tvalid_1's l1: 2.25635\n"
     ]
    },
    {
     "name": "stderr",
     "output_type": "stream",
     "text": [
      "\u001b[32m[I 2021-07-11 23:48:51,366]\u001b[0m Trial 42 finished with value: -2.2493517422362364 and parameters: {'max_depth': 17, 'min_child_weight': 3, 'subsample': 0.6, 'colsample_bytree': 0.8, 'reg_lambda': 500.0215847385885, 'reg_alpha': 7.454519136299884, 'feature_fraction': 0.5090100459835899, 'bagging_fraction': 0.7771448586439773, 'bagging_freq': 7}. Best is trial 34 with value: -2.22392964705185.\u001b[0m\n"
     ]
    },
    {
     "name": "stdout",
     "output_type": "stream",
     "text": [
      "Early stopping, best iteration is:\n",
      "[142]\ttraining's l1: 1.84924\tvalid_1's l1: 2.24935\n",
      "[LightGBM] [Warning] feature_fraction is set=0.6701306202639441, colsample_bytree=0.8 will be ignored. Current value: feature_fraction=0.6701306202639441\n",
      "[LightGBM] [Warning] bagging_fraction is set=0.8337562577567054, subsample=0.7 will be ignored. Current value: bagging_fraction=0.8337562577567054\n",
      "[LightGBM] [Warning] bagging_freq is set=8, subsample_freq=0 will be ignored. Current value: bagging_freq=8\n",
      "Training until validation scores don't improve for 100 rounds\n",
      "[100]\ttraining's l1: 1.87094\tvalid_1's l1: 2.25889\n"
     ]
    },
    {
     "name": "stderr",
     "output_type": "stream",
     "text": [
      "\u001b[32m[I 2021-07-11 23:48:57,701]\u001b[0m Trial 43 finished with value: -2.2539030369506103 and parameters: {'max_depth': 20, 'min_child_weight': 5, 'subsample': 0.7, 'colsample_bytree': 0.8, 'reg_lambda': 165.6613105361067, 'reg_alpha': 2.5331400625820355, 'feature_fraction': 0.6701306202639441, 'bagging_fraction': 0.8337562577567054, 'bagging_freq': 8}. Best is trial 34 with value: -2.22392964705185.\u001b[0m\n"
     ]
    },
    {
     "name": "stdout",
     "output_type": "stream",
     "text": [
      "Early stopping, best iteration is:\n",
      "[78]\ttraining's l1: 1.8858\tvalid_1's l1: 2.2539\n",
      "[LightGBM] [Warning] feature_fraction is set=0.6148296724194227, colsample_bytree=0.7 will be ignored. Current value: feature_fraction=0.6148296724194227\n",
      "[LightGBM] [Warning] bagging_fraction is set=0.5823940904848989, subsample=0.6 will be ignored. Current value: bagging_fraction=0.5823940904848989\n",
      "[LightGBM] [Warning] bagging_freq is set=8, subsample_freq=0 will be ignored. Current value: bagging_freq=8\n",
      "Training until validation scores don't improve for 100 rounds\n",
      "[100]\ttraining's l1: 1.87326\tvalid_1's l1: 2.27146\n"
     ]
    },
    {
     "name": "stderr",
     "output_type": "stream",
     "text": [
      "\u001b[32m[I 2021-07-11 23:49:02,972]\u001b[0m Trial 44 finished with value: -2.2606269960067666 and parameters: {'max_depth': 18, 'min_child_weight': 6, 'subsample': 0.6, 'colsample_bytree': 0.7, 'reg_lambda': 14.751277356447657, 'reg_alpha': 4.125845489658075, 'feature_fraction': 0.6148296724194227, 'bagging_fraction': 0.5823940904848989, 'bagging_freq': 8}. Best is trial 34 with value: -2.22392964705185.\u001b[0m\n"
     ]
    },
    {
     "name": "stdout",
     "output_type": "stream",
     "text": [
      "Early stopping, best iteration is:\n",
      "[40]\ttraining's l1: 1.9235\tvalid_1's l1: 2.26063\n",
      "[LightGBM] [Warning] feature_fraction is set=0.4427925094617575, colsample_bytree=0.9 will be ignored. Current value: feature_fraction=0.4427925094617575\n",
      "[LightGBM] [Warning] bagging_fraction is set=0.7017419588328592, subsample=0.7 will be ignored. Current value: bagging_fraction=0.7017419588328592\n",
      "[LightGBM] [Warning] bagging_freq is set=7, subsample_freq=0 will be ignored. Current value: bagging_freq=7\n",
      "Training until validation scores don't improve for 100 rounds\n",
      "[100]\ttraining's l1: 1.87443\tvalid_1's l1: 2.25812\n",
      "[200]\ttraining's l1: 1.83061\tvalid_1's l1: 2.2561\n"
     ]
    },
    {
     "name": "stderr",
     "output_type": "stream",
     "text": [
      "\u001b[32m[I 2021-07-11 23:49:11,249]\u001b[0m Trial 45 finished with value: -2.2540388925804926 and parameters: {'max_depth': 19, 'min_child_weight': 1, 'subsample': 0.7, 'colsample_bytree': 0.9, 'reg_lambda': 5.656598548236395, 'reg_alpha': 0.5883772293527259, 'feature_fraction': 0.4427925094617575, 'bagging_fraction': 0.7017419588328592, 'bagging_freq': 7}. Best is trial 34 with value: -2.22392964705185.\u001b[0m\n"
     ]
    },
    {
     "name": "stdout",
     "output_type": "stream",
     "text": [
      "Early stopping, best iteration is:\n",
      "[148]\ttraining's l1: 1.84427\tvalid_1's l1: 2.25404\n",
      "[LightGBM] [Warning] feature_fraction is set=0.7416402148860023, colsample_bytree=0.6 will be ignored. Current value: feature_fraction=0.7416402148860023\n",
      "[LightGBM] [Warning] bagging_fraction is set=0.5381313192106665, subsample=0.6 will be ignored. Current value: bagging_fraction=0.5381313192106665\n",
      "[LightGBM] [Warning] bagging_freq is set=8, subsample_freq=0 will be ignored. Current value: bagging_freq=8\n",
      "Training until validation scores don't improve for 100 rounds\n",
      "[100]\ttraining's l1: 1.86919\tvalid_1's l1: 2.26904\n",
      "[200]\ttraining's l1: 1.8301\tvalid_1's l1: 2.26603\n",
      "[300]\ttraining's l1: 1.80211\tvalid_1's l1: 2.25417\n"
     ]
    },
    {
     "name": "stderr",
     "output_type": "stream",
     "text": [
      "\u001b[32m[I 2021-07-11 23:49:19,826]\u001b[0m Trial 46 finished with value: -2.2479027082803222 and parameters: {'max_depth': 15, 'min_child_weight': 3, 'subsample': 0.6, 'colsample_bytree': 0.6, 'reg_lambda': 1.1302546579931378, 'reg_alpha': 28.833648598705743, 'feature_fraction': 0.7416402148860023, 'bagging_fraction': 0.5381313192106665, 'bagging_freq': 8}. Best is trial 34 with value: -2.22392964705185.\u001b[0m\n"
     ]
    },
    {
     "name": "stdout",
     "output_type": "stream",
     "text": [
      "Early stopping, best iteration is:\n",
      "[252]\ttraining's l1: 1.81181\tvalid_1's l1: 2.24792\n",
      "[LightGBM] [Warning] feature_fraction is set=0.5608881752650732, colsample_bytree=0.7 will be ignored. Current value: feature_fraction=0.5608881752650732\n",
      "[LightGBM] [Warning] bagging_fraction is set=0.6580630108713217, subsample=0.7 will be ignored. Current value: bagging_fraction=0.6580630108713217\n",
      "[LightGBM] [Warning] bagging_freq is set=10, subsample_freq=0 will be ignored. Current value: bagging_freq=10\n",
      "Training until validation scores don't improve for 100 rounds\n",
      "[100]\ttraining's l1: 1.87471\tvalid_1's l1: 2.28017\n",
      "[200]\ttraining's l1: 1.8252\tvalid_1's l1: 2.26593\n",
      "[300]\ttraining's l1: 1.79898\tvalid_1's l1: 2.26386\n"
     ]
    },
    {
     "name": "stderr",
     "output_type": "stream",
     "text": [
      "\u001b[32m[I 2021-07-11 23:49:32,630]\u001b[0m Trial 47 finished with value: -2.262631453027487 and parameters: {'max_depth': 20, 'min_child_weight': 2, 'subsample': 0.7, 'colsample_bytree': 0.7, 'reg_lambda': 61.43942645128134, 'reg_alpha': 1.806461371586443, 'feature_fraction': 0.5608881752650732, 'bagging_fraction': 0.6580630108713217, 'bagging_freq': 10}. Best is trial 34 with value: -2.22392964705185.\u001b[0m\n"
     ]
    },
    {
     "name": "stdout",
     "output_type": "stream",
     "text": [
      "Early stopping, best iteration is:\n",
      "[285]\ttraining's l1: 1.8018\tvalid_1's l1: 2.26268\n",
      "[LightGBM] [Warning] feature_fraction is set=0.49357881792949126, colsample_bytree=0.8 will be ignored. Current value: feature_fraction=0.49357881792949126\n",
      "[LightGBM] [Warning] bagging_fraction is set=0.6250276052223425, subsample=0.6 will be ignored. Current value: bagging_fraction=0.6250276052223425\n",
      "[LightGBM] [Warning] bagging_freq is set=6, subsample_freq=0 will be ignored. Current value: bagging_freq=6\n",
      "Training until validation scores don't improve for 100 rounds\n",
      "[100]\ttraining's l1: 1.87427\tvalid_1's l1: 2.27035\n",
      "[200]\ttraining's l1: 1.83116\tvalid_1's l1: 2.2676\n"
     ]
    },
    {
     "name": "stderr",
     "output_type": "stream",
     "text": [
      "\u001b[32m[I 2021-07-11 23:49:40,336]\u001b[0m Trial 48 finished with value: -2.258831872067775 and parameters: {'max_depth': 16, 'min_child_weight': 4, 'subsample': 0.6, 'colsample_bytree': 0.8, 'reg_lambda': 4.348414870418702, 'reg_alpha': 6.628412969087671, 'feature_fraction': 0.49357881792949126, 'bagging_fraction': 0.6250276052223425, 'bagging_freq': 6}. Best is trial 34 with value: -2.22392964705185.\u001b[0m\n"
     ]
    },
    {
     "name": "stdout",
     "output_type": "stream",
     "text": [
      "Early stopping, best iteration is:\n",
      "[133]\ttraining's l1: 1.85474\tvalid_1's l1: 2.25884\n",
      "[LightGBM] [Warning] feature_fraction is set=0.5290988203996718, colsample_bytree=0.9 will be ignored. Current value: feature_fraction=0.5290988203996718\n",
      "[LightGBM] [Warning] bagging_fraction is set=0.8812179324448449, subsample=0.8 will be ignored. Current value: bagging_fraction=0.8812179324448449\n",
      "[LightGBM] [Warning] bagging_freq is set=7, subsample_freq=0 will be ignored. Current value: bagging_freq=7\n",
      "Training until validation scores don't improve for 100 rounds\n",
      "[100]\ttraining's l1: 1.87323\tvalid_1's l1: 2.27453\n",
      "[200]\ttraining's l1: 1.84017\tvalid_1's l1: 2.27193\n"
     ]
    },
    {
     "name": "stderr",
     "output_type": "stream",
     "text": [
      "\u001b[32m[I 2021-07-11 23:49:49,488]\u001b[0m Trial 49 finished with value: -2.2697311612335977 and parameters: {'max_depth': 6, 'min_child_weight': 5, 'subsample': 0.8, 'colsample_bytree': 0.9, 'reg_lambda': 11.459028566616409, 'reg_alpha': 16.029791296448824, 'feature_fraction': 0.5290988203996718, 'bagging_fraction': 0.8812179324448449, 'bagging_freq': 7}. Best is trial 34 with value: -2.22392964705185.\u001b[0m\n"
     ]
    },
    {
     "name": "stdout",
     "output_type": "stream",
     "text": [
      "Early stopping, best iteration is:\n",
      "[123]\ttraining's l1: 1.86501\tvalid_1's l1: 2.26973\n",
      "[LightGBM] [Warning] feature_fraction is set=0.6057427109701178, colsample_bytree=0.8 will be ignored. Current value: feature_fraction=0.6057427109701178\n",
      "[LightGBM] [Warning] bagging_fraction is set=0.8042079065509636, subsample=0.6 will be ignored. Current value: bagging_fraction=0.8042079065509636\n",
      "[LightGBM] [Warning] bagging_freq is set=9, subsample_freq=0 will be ignored. Current value: bagging_freq=9\n",
      "Training until validation scores don't improve for 100 rounds\n",
      "[100]\ttraining's l1: 1.87407\tvalid_1's l1: 2.26628\n"
     ]
    },
    {
     "name": "stderr",
     "output_type": "stream",
     "text": [
      "\u001b[32m[I 2021-07-11 23:49:57,232]\u001b[0m Trial 50 finished with value: -2.2592963124428773 and parameters: {'max_depth': 17, 'min_child_weight': 8, 'subsample': 0.6, 'colsample_bytree': 0.8, 'reg_lambda': 242.18297238794747, 'reg_alpha': 0.06214093037036946, 'feature_fraction': 0.6057427109701178, 'bagging_fraction': 0.8042079065509636, 'bagging_freq': 9}. Best is trial 34 with value: -2.22392964705185.\u001b[0m\n"
     ]
    },
    {
     "name": "stdout",
     "output_type": "stream",
     "text": [
      "Early stopping, best iteration is:\n",
      "[75]\ttraining's l1: 1.89281\tvalid_1's l1: 2.2593\n",
      "[LightGBM] [Warning] feature_fraction is set=0.48070473313153245, colsample_bytree=0.8 will be ignored. Current value: feature_fraction=0.48070473313153245\n",
      "[LightGBM] [Warning] bagging_fraction is set=0.7231114789385961, subsample=0.5 will be ignored. Current value: bagging_fraction=0.7231114789385961\n",
      "[LightGBM] [Warning] bagging_freq is set=9, subsample_freq=0 will be ignored. Current value: bagging_freq=9\n",
      "Training until validation scores don't improve for 100 rounds\n",
      "[100]\ttraining's l1: 1.86792\tvalid_1's l1: 2.26459\n",
      "[200]\ttraining's l1: 1.82937\tvalid_1's l1: 2.2581\n"
     ]
    },
    {
     "name": "stderr",
     "output_type": "stream",
     "text": [
      "\u001b[32m[I 2021-07-11 23:50:04,732]\u001b[0m Trial 51 finished with value: -2.2525512910837473 and parameters: {'max_depth': 18, 'min_child_weight': 6, 'subsample': 0.5, 'colsample_bytree': 0.8, 'reg_lambda': 43.06532364556195, 'reg_alpha': 3.00844582989986, 'feature_fraction': 0.48070473313153245, 'bagging_fraction': 0.7231114789385961, 'bagging_freq': 9}. Best is trial 34 with value: -2.22392964705185.\u001b[0m\n"
     ]
    },
    {
     "name": "stdout",
     "output_type": "stream",
     "text": [
      "Early stopping, best iteration is:\n",
      "[110]\ttraining's l1: 1.85841\tvalid_1's l1: 2.25256\n",
      "[LightGBM] [Warning] feature_fraction is set=0.5270058209606729, colsample_bytree=0.8 will be ignored. Current value: feature_fraction=0.5270058209606729\n",
      "[LightGBM] [Warning] bagging_fraction is set=0.7607796738825863, subsample=0.5 will be ignored. Current value: bagging_fraction=0.7607796738825863\n",
      "[LightGBM] [Warning] bagging_freq is set=8, subsample_freq=0 will be ignored. Current value: bagging_freq=8\n",
      "Training until validation scores don't improve for 100 rounds\n",
      "[100]\ttraining's l1: 1.87016\tvalid_1's l1: 2.25897\n",
      "[200]\ttraining's l1: 1.82455\tvalid_1's l1: 2.25016\n",
      "[300]\ttraining's l1: 1.79173\tvalid_1's l1: 2.22246\n"
     ]
    },
    {
     "name": "stderr",
     "output_type": "stream",
     "text": [
      "\u001b[32m[I 2021-07-11 23:50:17,952]\u001b[0m Trial 52 finished with value: -2.2215053088120085 and parameters: {'max_depth': 18, 'min_child_weight': 8, 'subsample': 0.5, 'colsample_bytree': 0.8, 'reg_lambda': 54.45539908757693, 'reg_alpha': 1.4416542297175678, 'feature_fraction': 0.5270058209606729, 'bagging_fraction': 0.7607796738825863, 'bagging_freq': 8}. Best is trial 52 with value: -2.2215053088120085.\u001b[0m\n"
     ]
    },
    {
     "name": "stdout",
     "output_type": "stream",
     "text": [
      "Early stopping, best iteration is:\n",
      "[277]\ttraining's l1: 1.79616\tvalid_1's l1: 2.22155\n",
      "[LightGBM] [Warning] feature_fraction is set=0.5220097578354487, colsample_bytree=0.8 will be ignored. Current value: feature_fraction=0.5220097578354487\n",
      "[LightGBM] [Warning] bagging_fraction is set=0.6784310217832421, subsample=0.5 will be ignored. Current value: bagging_fraction=0.6784310217832421\n",
      "[LightGBM] [Warning] bagging_freq is set=8, subsample_freq=0 will be ignored. Current value: bagging_freq=8\n",
      "Training until validation scores don't improve for 100 rounds\n",
      "[100]\ttraining's l1: 1.87363\tvalid_1's l1: 2.26711\n"
     ]
    },
    {
     "name": "stderr",
     "output_type": "stream",
     "text": [
      "\u001b[32m[I 2021-07-11 23:50:24,194]\u001b[0m Trial 53 finished with value: -2.2605264926043813 and parameters: {'max_depth': 20, 'min_child_weight': 9, 'subsample': 0.5, 'colsample_bytree': 0.8, 'reg_lambda': 19.25258669827703, 'reg_alpha': 0.2756835232219258, 'feature_fraction': 0.5220097578354487, 'bagging_fraction': 0.6784310217832421, 'bagging_freq': 8}. Best is trial 52 with value: -2.2215053088120085.\u001b[0m\n"
     ]
    },
    {
     "name": "stdout",
     "output_type": "stream",
     "text": [
      "Early stopping, best iteration is:\n",
      "[66]\ttraining's l1: 1.90253\tvalid_1's l1: 2.26053\n",
      "[LightGBM] [Warning] feature_fraction is set=0.5838153585629069, colsample_bytree=0.8 will be ignored. Current value: feature_fraction=0.5838153585629069\n",
      "[LightGBM] [Warning] bagging_fraction is set=0.75656267512461, subsample=0.5 will be ignored. Current value: bagging_fraction=0.75656267512461\n",
      "[LightGBM] [Warning] bagging_freq is set=8, subsample_freq=0 will be ignored. Current value: bagging_freq=8\n",
      "Training until validation scores don't improve for 100 rounds\n",
      "[100]\ttraining's l1: 1.87464\tvalid_1's l1: 2.27021\n",
      "[200]\ttraining's l1: 1.82158\tvalid_1's l1: 2.25447\n"
     ]
    },
    {
     "name": "stderr",
     "output_type": "stream",
     "text": [
      "\u001b[32m[I 2021-07-11 23:50:33,671]\u001b[0m Trial 54 finished with value: -2.252730374168921 and parameters: {'max_depth': 14, 'min_child_weight': 8, 'subsample': 0.5, 'colsample_bytree': 0.8, 'reg_lambda': 170.49363541427365, 'reg_alpha': 1.1580302057307124, 'feature_fraction': 0.5838153585629069, 'bagging_fraction': 0.75656267512461, 'bagging_freq': 8}. Best is trial 52 with value: -2.2215053088120085.\u001b[0m\n"
     ]
    },
    {
     "name": "stdout",
     "output_type": "stream",
     "text": [
      "Early stopping, best iteration is:\n",
      "[127]\ttraining's l1: 1.847\tvalid_1's l1: 2.25273\n",
      "[LightGBM] [Warning] feature_fraction is set=0.4297303148577027, colsample_bytree=0.7 will be ignored. Current value: feature_fraction=0.4297303148577027\n",
      "[LightGBM] [Warning] bagging_fraction is set=0.8453856386532114, subsample=0.6 will be ignored. Current value: bagging_fraction=0.8453856386532114\n",
      "[LightGBM] [Warning] bagging_freq is set=6, subsample_freq=0 will be ignored. Current value: bagging_freq=6\n",
      "Training until validation scores don't improve for 100 rounds\n",
      "[100]\ttraining's l1: 1.87617\tvalid_1's l1: 2.27508\n",
      "[200]\ttraining's l1: 1.83017\tvalid_1's l1: 2.2706\n",
      "[300]\ttraining's l1: 1.80059\tvalid_1's l1: 2.2563\n"
     ]
    },
    {
     "name": "stderr",
     "output_type": "stream",
     "text": [
      "\u001b[32m[I 2021-07-11 23:50:46,071]\u001b[0m Trial 55 finished with value: -2.2510451214679486 and parameters: {'max_depth': 19, 'min_child_weight': 7, 'subsample': 0.6, 'colsample_bytree': 0.7, 'reg_lambda': 60.652169535929566, 'reg_alpha': 0.017911791088747204, 'feature_fraction': 0.4297303148577027, 'bagging_fraction': 0.8453856386532114, 'bagging_freq': 6}. Best is trial 52 with value: -2.2215053088120085.\u001b[0m\n"
     ]
    },
    {
     "name": "stdout",
     "output_type": "stream",
     "text": [
      "Early stopping, best iteration is:\n",
      "[243]\ttraining's l1: 1.81066\tvalid_1's l1: 2.25105\n",
      "[LightGBM] [Warning] feature_fraction is set=0.5619265539960105, colsample_bytree=0.8 will be ignored. Current value: feature_fraction=0.5619265539960105\n",
      "[LightGBM] [Warning] bagging_fraction is set=0.7698151848469014, subsample=0.5 will be ignored. Current value: bagging_fraction=0.7698151848469014\n",
      "[LightGBM] [Warning] bagging_freq is set=7, subsample_freq=0 will be ignored. Current value: bagging_freq=7\n",
      "Training until validation scores don't improve for 100 rounds\n",
      "[100]\ttraining's l1: 1.86443\tvalid_1's l1: 2.26198\n"
     ]
    },
    {
     "name": "stderr",
     "output_type": "stream",
     "text": [
      "\u001b[32m[I 2021-07-11 23:50:54,049]\u001b[0m Trial 56 finished with value: -2.2574577847277886 and parameters: {'max_depth': 17, 'min_child_weight': 9, 'subsample': 0.5, 'colsample_bytree': 0.8, 'reg_lambda': 6.394136036784843, 'reg_alpha': 0.4417241265912482, 'feature_fraction': 0.5619265539960105, 'bagging_fraction': 0.7698151848469014, 'bagging_freq': 7}. Best is trial 52 with value: -2.2215053088120085.\u001b[0m\n"
     ]
    },
    {
     "name": "stdout",
     "output_type": "stream",
     "text": [
      "Early stopping, best iteration is:\n",
      "[86]\ttraining's l1: 1.87465\tvalid_1's l1: 2.25746\n",
      "[LightGBM] [Warning] feature_fraction is set=0.4979459021106961, colsample_bytree=0.7 will be ignored. Current value: feature_fraction=0.4979459021106961\n",
      "[LightGBM] [Warning] bagging_fraction is set=0.9103697297256108, subsample=0.6 will be ignored. Current value: bagging_fraction=0.9103697297256108\n",
      "[LightGBM] [Warning] bagging_freq is set=8, subsample_freq=0 will be ignored. Current value: bagging_freq=8\n",
      "Training until validation scores don't improve for 100 rounds\n",
      "[100]\ttraining's l1: 1.86657\tvalid_1's l1: 2.25123\n",
      "[200]\ttraining's l1: 1.82711\tvalid_1's l1: 2.24586\n"
     ]
    },
    {
     "name": "stderr",
     "output_type": "stream",
     "text": [
      "\u001b[32m[I 2021-07-11 23:51:05,309]\u001b[0m Trial 57 finished with value: -2.2451279501491896 and parameters: {'max_depth': 15, 'min_child_weight': 12, 'subsample': 0.6, 'colsample_bytree': 0.7, 'reg_lambda': 0.34058818522452605, 'reg_alpha': 0.004919761456238507, 'feature_fraction': 0.4979459021106961, 'bagging_fraction': 0.9103697297256108, 'bagging_freq': 8}. Best is trial 52 with value: -2.2215053088120085.\u001b[0m\n"
     ]
    },
    {
     "name": "stdout",
     "output_type": "stream",
     "text": [
      "Early stopping, best iteration is:\n",
      "[180]\ttraining's l1: 1.83155\tvalid_1's l1: 2.24519\n",
      "[LightGBM] [Warning] feature_fraction is set=0.5209035065554046, colsample_bytree=0.8 will be ignored. Current value: feature_fraction=0.5209035065554046\n",
      "[LightGBM] [Warning] bagging_fraction is set=0.5887039684020966, subsample=0.5 will be ignored. Current value: bagging_fraction=0.5887039684020966\n",
      "[LightGBM] [Warning] bagging_freq is set=7, subsample_freq=0 will be ignored. Current value: bagging_freq=7\n",
      "Training until validation scores don't improve for 100 rounds\n",
      "[100]\ttraining's l1: 1.87499\tvalid_1's l1: 2.25874\n"
     ]
    },
    {
     "name": "stderr",
     "output_type": "stream",
     "text": [
      "\u001b[32m[I 2021-07-11 23:51:11,872]\u001b[0m Trial 58 finished with value: -2.257202665079787 and parameters: {'max_depth': 18, 'min_child_weight': 10, 'subsample': 0.5, 'colsample_bytree': 0.8, 'reg_lambda': 384.8446068166505, 'reg_alpha': 6.194119024747899, 'feature_fraction': 0.5209035065554046, 'bagging_fraction': 0.5887039684020966, 'bagging_freq': 7}. Best is trial 52 with value: -2.2215053088120085.\u001b[0m\n"
     ]
    },
    {
     "name": "stdout",
     "output_type": "stream",
     "text": [
      "Early stopping, best iteration is:\n",
      "[92]\ttraining's l1: 1.87976\tvalid_1's l1: 2.25721\n",
      "[LightGBM] [Warning] feature_fraction is set=0.4653848249260338, colsample_bytree=0.9 will be ignored. Current value: feature_fraction=0.4653848249260338\n",
      "[LightGBM] [Warning] bagging_fraction is set=0.7047671512635384, subsample=0.7 will be ignored. Current value: bagging_fraction=0.7047671512635384\n",
      "[LightGBM] [Warning] bagging_freq is set=10, subsample_freq=0 will be ignored. Current value: bagging_freq=10\n",
      "Training until validation scores don't improve for 100 rounds\n",
      "[100]\ttraining's l1: 1.87326\tvalid_1's l1: 2.26369\n"
     ]
    },
    {
     "name": "stderr",
     "output_type": "stream",
     "text": [
      "\u001b[32m[I 2021-07-11 23:51:17,492]\u001b[0m Trial 59 finished with value: -2.262295501187147 and parameters: {'max_depth': 20, 'min_child_weight': 8, 'subsample': 0.7, 'colsample_bytree': 0.9, 'reg_lambda': 25.900384506818604, 'reg_alpha': 9.556128289997595, 'feature_fraction': 0.4653848249260338, 'bagging_fraction': 0.7047671512635384, 'bagging_freq': 10}. Best is trial 52 with value: -2.2215053088120085.\u001b[0m\n"
     ]
    },
    {
     "name": "stdout",
     "output_type": "stream",
     "text": [
      "Early stopping, best iteration is:\n",
      "[52]\ttraining's l1: 1.90827\tvalid_1's l1: 2.2623\n",
      "[LightGBM] [Warning] feature_fraction is set=0.5540131492935969, colsample_bytree=0.6 will be ignored. Current value: feature_fraction=0.5540131492935969\n",
      "[LightGBM] [Warning] bagging_fraction is set=0.7942651684239186, subsample=0.6 will be ignored. Current value: bagging_fraction=0.7942651684239186\n",
      "[LightGBM] [Warning] bagging_freq is set=9, subsample_freq=0 will be ignored. Current value: bagging_freq=9\n",
      "Training until validation scores don't improve for 100 rounds\n",
      "[100]\ttraining's l1: 2.06516\tvalid_1's l1: 2.35643\n",
      "[200]\ttraining's l1: 2.01763\tvalid_1's l1: 2.32279\n",
      "[300]\ttraining's l1: 2.001\tvalid_1's l1: 2.31403\n",
      "[400]\ttraining's l1: 1.98579\tvalid_1's l1: 2.30549\n",
      "[500]\ttraining's l1: 1.97206\tvalid_1's l1: 2.30152\n",
      "[600]\ttraining's l1: 1.9643\tvalid_1's l1: 2.29851\n",
      "[700]\ttraining's l1: 1.95865\tvalid_1's l1: 2.29901\n"
     ]
    },
    {
     "name": "stderr",
     "output_type": "stream",
     "text": [
      "\u001b[32m[I 2021-07-11 23:51:39,823]\u001b[0m Trial 60 finished with value: -2.295944584991953 and parameters: {'max_depth': 2, 'min_child_weight': 7, 'subsample': 0.6, 'colsample_bytree': 0.6, 'reg_lambda': 1.5047162335497015, 'reg_alpha': 1.3790578768479675, 'feature_fraction': 0.5540131492935969, 'bagging_fraction': 0.7942651684239186, 'bagging_freq': 9}. Best is trial 52 with value: -2.2215053088120085.\u001b[0m\n"
     ]
    },
    {
     "name": "stdout",
     "output_type": "stream",
     "text": [
      "Early stopping, best iteration is:\n",
      "[637]\ttraining's l1: 1.96292\tvalid_1's l1: 2.29703\n",
      "[LightGBM] [Warning] feature_fraction is set=0.5348228897537985, colsample_bytree=0.8 will be ignored. Current value: feature_fraction=0.5348228897537985\n",
      "[LightGBM] [Warning] bagging_fraction is set=0.7200018538588555, subsample=0.5 will be ignored. Current value: bagging_fraction=0.7200018538588555\n",
      "[LightGBM] [Warning] bagging_freq is set=9, subsample_freq=0 will be ignored. Current value: bagging_freq=9\n",
      "Training until validation scores don't improve for 100 rounds\n",
      "[100]\ttraining's l1: 1.87486\tvalid_1's l1: 2.26682\n",
      "[200]\ttraining's l1: 1.82999\tvalid_1's l1: 2.26012\n",
      "[300]\ttraining's l1: 1.80776\tvalid_1's l1: 2.24592\n",
      "[400]\ttraining's l1: 1.77813\tvalid_1's l1: 2.2275\n",
      "[500]\ttraining's l1: 1.76768\tvalid_1's l1: 2.23138\n"
     ]
    },
    {
     "name": "stderr",
     "output_type": "stream",
     "text": [
      "\u001b[32m[I 2021-07-11 23:51:56,803]\u001b[0m Trial 61 finished with value: -2.226601069099464 and parameters: {'max_depth': 18, 'min_child_weight': 6, 'subsample': 0.5, 'colsample_bytree': 0.8, 'reg_lambda': 133.14008458587938, 'reg_alpha': 4.1824093905695365, 'feature_fraction': 0.5348228897537985, 'bagging_fraction': 0.7200018538588555, 'bagging_freq': 9}. Best is trial 52 with value: -2.2215053088120085.\u001b[0m\n"
     ]
    },
    {
     "name": "stdout",
     "output_type": "stream",
     "text": [
      "Early stopping, best iteration is:\n",
      "[418]\ttraining's l1: 1.77649\tvalid_1's l1: 2.22703\n",
      "[LightGBM] [Warning] feature_fraction is set=0.8101798450012976, colsample_bytree=0.8 will be ignored. Current value: feature_fraction=0.8101798450012976\n",
      "[LightGBM] [Warning] bagging_fraction is set=0.6652412172613869, subsample=0.5 will be ignored. Current value: bagging_fraction=0.6652412172613869\n",
      "[LightGBM] [Warning] bagging_freq is set=9, subsample_freq=0 will be ignored. Current value: bagging_freq=9\n",
      "Training until validation scores don't improve for 100 rounds\n",
      "[100]\ttraining's l1: 1.86885\tvalid_1's l1: 2.2793\n"
     ]
    },
    {
     "name": "stderr",
     "output_type": "stream",
     "text": [
      "\u001b[32m[I 2021-07-11 23:52:01,923]\u001b[0m Trial 62 finished with value: -2.2657534031131568 and parameters: {'max_depth': 19, 'min_child_weight': 6, 'subsample': 0.5, 'colsample_bytree': 0.8, 'reg_lambda': 49.776671344878615, 'reg_alpha': 2.311513018854135, 'feature_fraction': 0.8101798450012976, 'bagging_fraction': 0.6652412172613869, 'bagging_freq': 9}. Best is trial 52 with value: -2.2215053088120085.\u001b[0m\n"
     ]
    },
    {
     "name": "stdout",
     "output_type": "stream",
     "text": [
      "Early stopping, best iteration is:\n",
      "[43]\ttraining's l1: 1.91678\tvalid_1's l1: 2.26575\n",
      "[LightGBM] [Warning] feature_fraction is set=0.5780962047547039, colsample_bytree=0.8 will be ignored. Current value: feature_fraction=0.5780962047547039\n",
      "[LightGBM] [Warning] bagging_fraction is set=0.6988374070455585, subsample=0.5 will be ignored. Current value: bagging_fraction=0.6988374070455585\n",
      "[LightGBM] [Warning] bagging_freq is set=9, subsample_freq=0 will be ignored. Current value: bagging_freq=9\n",
      "Training until validation scores don't improve for 100 rounds\n",
      "[100]\ttraining's l1: 1.87605\tvalid_1's l1: 2.27416\n"
     ]
    },
    {
     "name": "stderr",
     "output_type": "stream",
     "text": [
      "\u001b[32m[I 2021-07-11 23:52:07,964]\u001b[0m Trial 63 finished with value: -2.266927131208891 and parameters: {'max_depth': 16, 'min_child_weight': 20, 'subsample': 0.5, 'colsample_bytree': 0.8, 'reg_lambda': 113.66042369237084, 'reg_alpha': 4.4256547898085214, 'feature_fraction': 0.5780962047547039, 'bagging_fraction': 0.6988374070455585, 'bagging_freq': 9}. Best is trial 52 with value: -2.2215053088120085.\u001b[0m\n"
     ]
    },
    {
     "name": "stdout",
     "output_type": "stream",
     "text": [
      "Early stopping, best iteration is:\n",
      "[39]\ttraining's l1: 1.92459\tvalid_1's l1: 2.26693\n",
      "[LightGBM] [Warning] feature_fraction is set=0.4871994975239379, colsample_bytree=0.8 will be ignored. Current value: feature_fraction=0.4871994975239379\n",
      "[LightGBM] [Warning] bagging_fraction is set=0.7409593346370671, subsample=0.5 will be ignored. Current value: bagging_fraction=0.7409593346370671\n",
      "[LightGBM] [Warning] bagging_freq is set=8, subsample_freq=0 will be ignored. Current value: bagging_freq=8\n",
      "Training until validation scores don't improve for 100 rounds\n",
      "[100]\ttraining's l1: 1.86689\tvalid_1's l1: 2.24862\n"
     ]
    },
    {
     "name": "stderr",
     "output_type": "stream",
     "text": [
      "\u001b[32m[I 2021-07-11 23:52:15,177]\u001b[0m Trial 64 finished with value: -2.2460558477262973 and parameters: {'max_depth': 18, 'min_child_weight': 2, 'subsample': 0.5, 'colsample_bytree': 0.8, 'reg_lambda': 128.79401775247896, 'reg_alpha': 20.87221866076988, 'feature_fraction': 0.4871994975239379, 'bagging_fraction': 0.7409593346370671, 'bagging_freq': 8}. Best is trial 52 with value: -2.2215053088120085.\u001b[0m\n"
     ]
    },
    {
     "name": "stdout",
     "output_type": "stream",
     "text": [
      "Early stopping, best iteration is:\n",
      "[93]\ttraining's l1: 1.87142\tvalid_1's l1: 2.24606\n",
      "[LightGBM] [Warning] feature_fraction is set=0.5300095592126575, colsample_bytree=0.7 will be ignored. Current value: feature_fraction=0.5300095592126575\n",
      "[LightGBM] [Warning] bagging_fraction is set=0.7110392562698891, subsample=0.5 will be ignored. Current value: bagging_fraction=0.7110392562698891\n",
      "[LightGBM] [Warning] bagging_freq is set=8, subsample_freq=0 will be ignored. Current value: bagging_freq=8\n",
      "Training until validation scores don't improve for 100 rounds\n",
      "[100]\ttraining's l1: 1.86968\tvalid_1's l1: 2.25437\n",
      "[200]\ttraining's l1: 1.8237\tvalid_1's l1: 2.25793\n"
     ]
    },
    {
     "name": "stderr",
     "output_type": "stream",
     "text": [
      "\u001b[32m[I 2021-07-11 23:52:23,034]\u001b[0m Trial 65 finished with value: -2.2522498140341676 and parameters: {'max_depth': 18, 'min_child_weight': 4, 'subsample': 0.5, 'colsample_bytree': 0.7, 'reg_lambda': 2.940893089278844, 'reg_alpha': 0.660679143942027, 'feature_fraction': 0.5300095592126575, 'bagging_fraction': 0.7110392562698891, 'bagging_freq': 8}. Best is trial 52 with value: -2.2215053088120085.\u001b[0m\n"
     ]
    },
    {
     "name": "stdout",
     "output_type": "stream",
     "text": [
      "Early stopping, best iteration is:\n",
      "[114]\ttraining's l1: 1.86059\tvalid_1's l1: 2.25226\n",
      "[LightGBM] [Warning] feature_fraction is set=0.5494073637283715, colsample_bytree=0.8 will be ignored. Current value: feature_fraction=0.5494073637283715\n",
      "[LightGBM] [Warning] bagging_fraction is set=0.6289644079647255, subsample=0.6 will be ignored. Current value: bagging_fraction=0.6289644079647255\n",
      "[LightGBM] [Warning] bagging_freq is set=7, subsample_freq=0 will be ignored. Current value: bagging_freq=7\n",
      "Training until validation scores don't improve for 100 rounds\n",
      "[100]\ttraining's l1: 1.87869\tvalid_1's l1: 2.27096\n",
      "[200]\ttraining's l1: 1.83567\tvalid_1's l1: 2.26808\n"
     ]
    },
    {
     "name": "stderr",
     "output_type": "stream",
     "text": [
      "\u001b[32m[I 2021-07-11 23:52:31,904]\u001b[0m Trial 66 finished with value: -2.2613403186706846 and parameters: {'max_depth': 17, 'min_child_weight': 7, 'subsample': 0.6, 'colsample_bytree': 0.8, 'reg_lambda': 650.5044967255584, 'reg_alpha': 3.277469717170992, 'feature_fraction': 0.5494073637283715, 'bagging_fraction': 0.6289644079647255, 'bagging_freq': 7}. Best is trial 52 with value: -2.2215053088120085.\u001b[0m\n"
     ]
    },
    {
     "name": "stdout",
     "output_type": "stream",
     "text": [
      "Early stopping, best iteration is:\n",
      "[159]\ttraining's l1: 1.84737\tvalid_1's l1: 2.26134\n",
      "[LightGBM] [Warning] feature_fraction is set=0.5994312021643332, colsample_bytree=0.7 will be ignored. Current value: feature_fraction=0.5994312021643332\n",
      "[LightGBM] [Warning] bagging_fraction is set=0.9523263318248963, subsample=0.5 will be ignored. Current value: bagging_fraction=0.9523263318248963\n",
      "[LightGBM] [Warning] bagging_freq is set=10, subsample_freq=0 will be ignored. Current value: bagging_freq=10\n",
      "Training until validation scores don't improve for 100 rounds\n",
      "[100]\ttraining's l1: 1.87967\tvalid_1's l1: 2.2694\n",
      "[200]\ttraining's l1: 1.82954\tvalid_1's l1: 2.26072\n"
     ]
    },
    {
     "name": "stderr",
     "output_type": "stream",
     "text": [
      "\u001b[32m[I 2021-07-11 23:52:43,786]\u001b[0m Trial 67 finished with value: -2.25722939402344 and parameters: {'max_depth': 19, 'min_child_weight': 5, 'subsample': 0.5, 'colsample_bytree': 0.7, 'reg_lambda': 969.1012923532961, 'reg_alpha': 11.587692565273418, 'feature_fraction': 0.5994312021643332, 'bagging_fraction': 0.9523263318248963, 'bagging_freq': 10}. Best is trial 52 with value: -2.2215053088120085.\u001b[0m\n"
     ]
    },
    {
     "name": "stdout",
     "output_type": "stream",
     "text": [
      "Early stopping, best iteration is:\n",
      "[149]\ttraining's l1: 1.84636\tvalid_1's l1: 2.25723\n",
      "[LightGBM] [Warning] feature_fraction is set=0.6367041305759893, colsample_bytree=0.8 will be ignored. Current value: feature_fraction=0.6367041305759893\n",
      "[LightGBM] [Warning] bagging_fraction is set=0.6754614135055941, subsample=0.6 will be ignored. Current value: bagging_fraction=0.6754614135055941\n",
      "[LightGBM] [Warning] bagging_freq is set=9, subsample_freq=0 will be ignored. Current value: bagging_freq=9\n",
      "Training until validation scores don't improve for 100 rounds\n",
      "[100]\ttraining's l1: 1.86935\tvalid_1's l1: 2.26593\n"
     ]
    },
    {
     "name": "stderr",
     "output_type": "stream",
     "text": [
      "\u001b[32m[I 2021-07-11 23:52:49,270]\u001b[0m Trial 68 finished with value: -2.2646421670791095 and parameters: {'max_depth': 15, 'min_child_weight': 1, 'subsample': 0.6, 'colsample_bytree': 0.8, 'reg_lambda': 14.261277633159894, 'reg_alpha': 0.21404264855612348, 'feature_fraction': 0.6367041305759893, 'bagging_fraction': 0.6754614135055941, 'bagging_freq': 9}. Best is trial 52 with value: -2.2215053088120085.\u001b[0m\n"
     ]
    },
    {
     "name": "stdout",
     "output_type": "stream",
     "text": [
      "Early stopping, best iteration is:\n",
      "[75]\ttraining's l1: 1.89348\tvalid_1's l1: 2.26464\n",
      "[LightGBM] [Warning] feature_fraction is set=0.6612224530233091, colsample_bytree=0.9 will be ignored. Current value: feature_fraction=0.6612224530233091\n",
      "[LightGBM] [Warning] bagging_fraction is set=0.6515236239861787, subsample=0.5 will be ignored. Current value: bagging_fraction=0.6515236239861787\n",
      "[LightGBM] [Warning] bagging_freq is set=6, subsample_freq=0 will be ignored. Current value: bagging_freq=6\n",
      "Training until validation scores don't improve for 100 rounds\n",
      "[100]\ttraining's l1: 1.86463\tvalid_1's l1: 2.24974\n"
     ]
    },
    {
     "name": "stderr",
     "output_type": "stream",
     "text": [
      "\u001b[32m[I 2021-07-11 23:52:54,848]\u001b[0m Trial 69 finished with value: -2.2488243559979906 and parameters: {'max_depth': 17, 'min_child_weight': 3, 'subsample': 0.5, 'colsample_bytree': 0.9, 'reg_lambda': 0.13456467495976907, 'reg_alpha': 0.0010680819042173692, 'feature_fraction': 0.6612224530233091, 'bagging_fraction': 0.6515236239861787, 'bagging_freq': 6}. Best is trial 52 with value: -2.2215053088120085.\u001b[0m\n"
     ]
    },
    {
     "name": "stdout",
     "output_type": "stream",
     "text": [
      "Early stopping, best iteration is:\n",
      "[76]\ttraining's l1: 1.88648\tvalid_1's l1: 2.24882\n",
      "[LightGBM] [Warning] feature_fraction is set=0.45830680342812413, colsample_bytree=0.7 will be ignored. Current value: feature_fraction=0.45830680342812413\n",
      "[LightGBM] [Warning] bagging_fraction is set=0.7566863204901189, subsample=0.5 will be ignored. Current value: bagging_fraction=0.7566863204901189\n",
      "[LightGBM] [Warning] bagging_freq is set=7, subsample_freq=0 will be ignored. Current value: bagging_freq=7\n",
      "Training until validation scores don't improve for 100 rounds\n",
      "[100]\ttraining's l1: 1.87381\tvalid_1's l1: 2.26386\n"
     ]
    },
    {
     "name": "stderr",
     "output_type": "stream",
     "text": [
      "\u001b[32m[I 2021-07-11 23:53:01,396]\u001b[0m Trial 70 finished with value: -2.259705691576472 and parameters: {'max_depth': 20, 'min_child_weight': 5, 'subsample': 0.5, 'colsample_bytree': 0.7, 'reg_lambda': 31.979683050404546, 'reg_alpha': 42.41490480655901, 'feature_fraction': 0.45830680342812413, 'bagging_fraction': 0.7566863204901189, 'bagging_freq': 7}. Best is trial 52 with value: -2.2215053088120085.\u001b[0m\n"
     ]
    },
    {
     "name": "stdout",
     "output_type": "stream",
     "text": [
      "Early stopping, best iteration is:\n",
      "[72]\ttraining's l1: 1.89419\tvalid_1's l1: 2.25971\n",
      "[LightGBM] [Warning] feature_fraction is set=0.5156096115061689, colsample_bytree=0.8 will be ignored. Current value: feature_fraction=0.5156096115061689\n",
      "[LightGBM] [Warning] bagging_fraction is set=0.7219301445387805, subsample=0.5 will be ignored. Current value: bagging_fraction=0.7219301445387805\n",
      "[LightGBM] [Warning] bagging_freq is set=9, subsample_freq=0 will be ignored. Current value: bagging_freq=9\n",
      "Training until validation scores don't improve for 100 rounds\n",
      "[100]\ttraining's l1: 1.87418\tvalid_1's l1: 2.26909\n"
     ]
    },
    {
     "name": "stderr",
     "output_type": "stream",
     "text": [
      "\u001b[32m[I 2021-07-11 23:53:07,724]\u001b[0m Trial 71 finished with value: -2.2579013962686614 and parameters: {'max_depth': 18, 'min_child_weight': 6, 'subsample': 0.5, 'colsample_bytree': 0.8, 'reg_lambda': 65.06585579043052, 'reg_alpha': 2.0249360780019674, 'feature_fraction': 0.5156096115061689, 'bagging_fraction': 0.7219301445387805, 'bagging_freq': 9}. Best is trial 52 with value: -2.2215053088120085.\u001b[0m\n"
     ]
    },
    {
     "name": "stdout",
     "output_type": "stream",
     "text": [
      "Early stopping, best iteration is:\n",
      "[63]\ttraining's l1: 1.90401\tvalid_1's l1: 2.2579\n",
      "[LightGBM] [Warning] feature_fraction is set=0.5420617203303789, colsample_bytree=0.8 will be ignored. Current value: feature_fraction=0.5420617203303789\n",
      "[LightGBM] [Warning] bagging_fraction is set=0.691341949763313, subsample=0.5 will be ignored. Current value: bagging_fraction=0.691341949763313\n",
      "[LightGBM] [Warning] bagging_freq is set=8, subsample_freq=0 will be ignored. Current value: bagging_freq=8\n",
      "Training until validation scores don't improve for 100 rounds\n",
      "[100]\ttraining's l1: 1.87437\tvalid_1's l1: 2.25462\n"
     ]
    },
    {
     "name": "stderr",
     "output_type": "stream",
     "text": [
      "\u001b[32m[I 2021-07-11 23:53:15,211]\u001b[0m Trial 72 finished with value: -2.2546185867896726 and parameters: {'max_depth': 19, 'min_child_weight': 6, 'subsample': 0.5, 'colsample_bytree': 0.8, 'reg_lambda': 238.559882332956, 'reg_alpha': 1.1397706783780133, 'feature_fraction': 0.5420617203303789, 'bagging_fraction': 0.691341949763313, 'bagging_freq': 8}. Best is trial 52 with value: -2.2215053088120085.\u001b[0m\n"
     ]
    },
    {
     "name": "stdout",
     "output_type": "stream",
     "text": [
      "[200]\ttraining's l1: 1.83013\tvalid_1's l1: 2.26149\n",
      "Early stopping, best iteration is:\n",
      "[100]\ttraining's l1: 1.87437\tvalid_1's l1: 2.25462\n",
      "[LightGBM] [Warning] feature_fraction is set=0.49801401550384905, colsample_bytree=0.8 will be ignored. Current value: feature_fraction=0.49801401550384905\n",
      "[LightGBM] [Warning] bagging_fraction is set=0.7735129231067315, subsample=0.5 will be ignored. Current value: bagging_fraction=0.7735129231067315\n",
      "[LightGBM] [Warning] bagging_freq is set=10, subsample_freq=0 will be ignored. Current value: bagging_freq=10\n",
      "Training until validation scores don't improve for 100 rounds\n",
      "[100]\ttraining's l1: 1.87021\tvalid_1's l1: 2.26816\n",
      "[200]\ttraining's l1: 1.82708\tvalid_1's l1: 2.2647\n"
     ]
    },
    {
     "name": "stderr",
     "output_type": "stream",
     "text": [
      "\u001b[32m[I 2021-07-11 23:53:24,122]\u001b[0m Trial 73 finished with value: -2.261277468898684 and parameters: {'max_depth': 16, 'min_child_weight': 4, 'subsample': 0.5, 'colsample_bytree': 0.8, 'reg_lambda': 37.68628562737278, 'reg_alpha': 5.060297714694618, 'feature_fraction': 0.49801401550384905, 'bagging_fraction': 0.7735129231067315, 'bagging_freq': 10}. Best is trial 52 with value: -2.2215053088120085.\u001b[0m\n"
     ]
    },
    {
     "name": "stdout",
     "output_type": "stream",
     "text": [
      "Early stopping, best iteration is:\n",
      "[144]\ttraining's l1: 1.84668\tvalid_1's l1: 2.26128\n",
      "[LightGBM] [Warning] feature_fraction is set=0.5845700157333524, colsample_bytree=0.8 will be ignored. Current value: feature_fraction=0.5845700157333524\n",
      "[LightGBM] [Warning] bagging_fraction is set=0.6287815070717828, subsample=0.6 will be ignored. Current value: bagging_fraction=0.6287815070717828\n",
      "[LightGBM] [Warning] bagging_freq is set=8, subsample_freq=0 will be ignored. Current value: bagging_freq=8\n",
      "Training until validation scores don't improve for 100 rounds\n",
      "[100]\ttraining's l1: 1.87374\tvalid_1's l1: 2.28029\n",
      "[200]\ttraining's l1: 1.83277\tvalid_1's l1: 2.27471\n",
      "[300]\ttraining's l1: 1.80812\tvalid_1's l1: 2.27163\n"
     ]
    },
    {
     "name": "stderr",
     "output_type": "stream",
     "text": [
      "\u001b[32m[I 2021-07-11 23:53:35,831]\u001b[0m Trial 74 finished with value: -2.2676419781973505 and parameters: {'max_depth': 18, 'min_child_weight': 8, 'subsample': 0.6, 'colsample_bytree': 0.8, 'reg_lambda': 10.347996268229462, 'reg_alpha': 8.217391431067867, 'feature_fraction': 0.5845700157333524, 'bagging_fraction': 0.6287815070717828, 'bagging_freq': 8}. Best is trial 52 with value: -2.2215053088120085.\u001b[0m\n"
     ]
    },
    {
     "name": "stdout",
     "output_type": "stream",
     "text": [
      "Early stopping, best iteration is:\n",
      "[241]\ttraining's l1: 1.81963\tvalid_1's l1: 2.26773\n",
      "[LightGBM] [Warning] feature_fraction is set=0.5344041077435248, colsample_bytree=0.8 will be ignored. Current value: feature_fraction=0.5344041077435248\n",
      "[LightGBM] [Warning] bagging_fraction is set=0.734036634110393, subsample=0.5 will be ignored. Current value: bagging_fraction=0.734036634110393\n",
      "[LightGBM] [Warning] bagging_freq is set=9, subsample_freq=0 will be ignored. Current value: bagging_freq=9\n",
      "Training until validation scores don't improve for 100 rounds\n",
      "[100]\ttraining's l1: 1.87423\tvalid_1's l1: 2.26289\n",
      "[200]\ttraining's l1: 1.82801\tvalid_1's l1: 2.24593\n",
      "[300]\ttraining's l1: 1.79986\tvalid_1's l1: 2.2316\n",
      "[400]\ttraining's l1: 1.78091\tvalid_1's l1: 2.22964\n"
     ]
    },
    {
     "name": "stderr",
     "output_type": "stream",
     "text": [
      "\u001b[32m[I 2021-07-11 23:53:50,353]\u001b[0m Trial 75 finished with value: -2.227073580655922 and parameters: {'max_depth': 20, 'min_child_weight': 3, 'subsample': 0.5, 'colsample_bytree': 0.8, 'reg_lambda': 84.8186166142951, 'reg_alpha': 0.9037295528875364, 'feature_fraction': 0.5344041077435248, 'bagging_fraction': 0.734036634110393, 'bagging_freq': 9}. Best is trial 52 with value: -2.2215053088120085.\u001b[0m\n"
     ]
    },
    {
     "name": "stdout",
     "output_type": "stream",
     "text": [
      "Early stopping, best iteration is:\n",
      "[331]\ttraining's l1: 1.78986\tvalid_1's l1: 2.22717\n",
      "[LightGBM] [Warning] feature_fraction is set=0.4358319775258676, colsample_bytree=0.7 will be ignored. Current value: feature_fraction=0.4358319775258676\n",
      "[LightGBM] [Warning] bagging_fraction is set=0.7333938472665129, subsample=0.5 will be ignored. Current value: bagging_fraction=0.7333938472665129\n",
      "[LightGBM] [Warning] bagging_freq is set=9, subsample_freq=0 will be ignored. Current value: bagging_freq=9\n",
      "Training until validation scores don't improve for 100 rounds\n",
      "[100]\ttraining's l1: 1.87761\tvalid_1's l1: 2.27421\n"
     ]
    },
    {
     "name": "stderr",
     "output_type": "stream",
     "text": [
      "\u001b[32m[I 2021-07-11 23:53:56,283]\u001b[0m Trial 76 finished with value: -2.2698776174990742 and parameters: {'max_depth': 20, 'min_child_weight': 2, 'subsample': 0.5, 'colsample_bytree': 0.7, 'reg_lambda': 131.74549118891372, 'reg_alpha': 0.1127421235432804, 'feature_fraction': 0.4358319775258676, 'bagging_fraction': 0.7333938472665129, 'bagging_freq': 9}. Best is trial 52 with value: -2.2215053088120085.\u001b[0m\n"
     ]
    },
    {
     "name": "stdout",
     "output_type": "stream",
     "text": [
      "Early stopping, best iteration is:\n",
      "[59]\ttraining's l1: 1.90581\tvalid_1's l1: 2.26988\n",
      "[LightGBM] [Warning] feature_fraction is set=0.4078585156969256, colsample_bytree=0.8 will be ignored. Current value: feature_fraction=0.4078585156969256\n",
      "[LightGBM] [Warning] bagging_fraction is set=0.8217542756451518, subsample=0.6 will be ignored. Current value: bagging_fraction=0.8217542756451518\n",
      "[LightGBM] [Warning] bagging_freq is set=8, subsample_freq=0 will be ignored. Current value: bagging_freq=8\n",
      "Training until validation scores don't improve for 100 rounds\n",
      "[100]\ttraining's l1: 1.88125\tvalid_1's l1: 2.27351\n",
      "[200]\ttraining's l1: 1.83599\tvalid_1's l1: 2.26471\n"
     ]
    },
    {
     "name": "stderr",
     "output_type": "stream",
     "text": [
      "\u001b[32m[I 2021-07-11 23:54:05,958]\u001b[0m Trial 77 finished with value: -2.2629640853142035 and parameters: {'max_depth': 11, 'min_child_weight': 3, 'subsample': 0.6, 'colsample_bytree': 0.8, 'reg_lambda': 306.6262671653998, 'reg_alpha': 16.029454279282927, 'feature_fraction': 0.4078585156969256, 'bagging_fraction': 0.8217542756451518, 'bagging_freq': 8}. Best is trial 52 with value: -2.2215053088120085.\u001b[0m\n"
     ]
    },
    {
     "name": "stdout",
     "output_type": "stream",
     "text": [
      "Early stopping, best iteration is:\n",
      "[176]\ttraining's l1: 1.84295\tvalid_1's l1: 2.26297\n",
      "[LightGBM] [Warning] feature_fraction is set=0.5722554272908924, colsample_bytree=0.7 will be ignored. Current value: feature_fraction=0.5722554272908924\n",
      "[LightGBM] [Warning] bagging_fraction is set=0.6691776499658477, subsample=0.8 will be ignored. Current value: bagging_fraction=0.6691776499658477\n",
      "[LightGBM] [Warning] bagging_freq is set=9, subsample_freq=0 will be ignored. Current value: bagging_freq=9\n",
      "Training until validation scores don't improve for 100 rounds\n",
      "[100]\ttraining's l1: 1.88287\tvalid_1's l1: 2.27437\n",
      "[200]\ttraining's l1: 1.84338\tvalid_1's l1: 2.27275\n"
     ]
    },
    {
     "name": "stderr",
     "output_type": "stream",
     "text": [
      "\u001b[32m[I 2021-07-11 23:54:15,434]\u001b[0m Trial 78 finished with value: -2.270203382468964 and parameters: {'max_depth': 19, 'min_child_weight': 1, 'subsample': 0.8, 'colsample_bytree': 0.7, 'reg_lambda': 89.58950559585175, 'reg_alpha': 106.45793599982565, 'feature_fraction': 0.5722554272908924, 'bagging_fraction': 0.6691776499658477, 'bagging_freq': 9}. Best is trial 52 with value: -2.2215053088120085.\u001b[0m\n"
     ]
    },
    {
     "name": "stdout",
     "output_type": "stream",
     "text": [
      "Early stopping, best iteration is:\n",
      "[158]\ttraining's l1: 1.85229\tvalid_1's l1: 2.27021\n",
      "[LightGBM] [Warning] feature_fraction is set=0.6954293523532299, colsample_bytree=0.8 will be ignored. Current value: feature_fraction=0.6954293523532299\n",
      "[LightGBM] [Warning] bagging_fraction is set=0.557853978531976, subsample=0.5 will be ignored. Current value: bagging_fraction=0.557853978531976\n",
      "[LightGBM] [Warning] bagging_freq is set=8, subsample_freq=0 will be ignored. Current value: bagging_freq=8\n",
      "Training until validation scores don't improve for 100 rounds\n",
      "[100]\ttraining's l1: 1.8693\tvalid_1's l1: 2.27382\n",
      "[200]\ttraining's l1: 1.83682\tvalid_1's l1: 2.27266\n"
     ]
    },
    {
     "name": "stderr",
     "output_type": "stream",
     "text": [
      "\u001b[32m[I 2021-07-11 23:54:21,386]\u001b[0m Trial 79 finished with value: -2.26440649742704 and parameters: {'max_depth': 20, 'min_child_weight': 3, 'subsample': 0.5, 'colsample_bytree': 0.8, 'reg_lambda': 20.955910314905026, 'reg_alpha': 24.39493175196644, 'feature_fraction': 0.6954293523532299, 'bagging_fraction': 0.557853978531976, 'bagging_freq': 8}. Best is trial 52 with value: -2.2215053088120085.\u001b[0m\n"
     ]
    },
    {
     "name": "stdout",
     "output_type": "stream",
     "text": [
      "Early stopping, best iteration is:\n",
      "[122]\ttraining's l1: 1.85827\tvalid_1's l1: 2.26441\n",
      "[LightGBM] [Warning] feature_fraction is set=0.5312780378249576, colsample_bytree=0.8 will be ignored. Current value: feature_fraction=0.5312780378249576\n",
      "[LightGBM] [Warning] bagging_fraction is set=0.6900223168352516, subsample=0.9 will be ignored. Current value: bagging_fraction=0.6900223168352516\n",
      "[LightGBM] [Warning] bagging_freq is set=7, subsample_freq=0 will be ignored. Current value: bagging_freq=7\n",
      "Training until validation scores don't improve for 100 rounds\n",
      "[100]\ttraining's l1: 1.87211\tvalid_1's l1: 2.26865\n",
      "[200]\ttraining's l1: 1.82716\tvalid_1's l1: 2.26024\n",
      "[300]\ttraining's l1: 1.79956\tvalid_1's l1: 2.2442\n"
     ]
    },
    {
     "name": "stderr",
     "output_type": "stream",
     "text": [
      "\u001b[32m[I 2021-07-11 23:54:33,852]\u001b[0m Trial 80 finished with value: -2.242815393548247 and parameters: {'max_depth': 13, 'min_child_weight': 2, 'subsample': 0.9, 'colsample_bytree': 0.8, 'reg_lambda': 73.38931028786207, 'reg_alpha': 0.892430721384295, 'feature_fraction': 0.5312780378249576, 'bagging_fraction': 0.6900223168352516, 'bagging_freq': 7}. Best is trial 52 with value: -2.2215053088120085.\u001b[0m\n"
     ]
    },
    {
     "name": "stdout",
     "output_type": "stream",
     "text": [
      "Early stopping, best iteration is:\n",
      "[280]\ttraining's l1: 1.80318\tvalid_1's l1: 2.24282\n",
      "[LightGBM] [Warning] feature_fraction is set=0.5292617019908741, colsample_bytree=0.8 will be ignored. Current value: feature_fraction=0.5292617019908741\n",
      "[LightGBM] [Warning] bagging_fraction is set=0.6911353542222537, subsample=0.9 will be ignored. Current value: bagging_fraction=0.6911353542222537\n",
      "[LightGBM] [Warning] bagging_freq is set=7, subsample_freq=0 will be ignored. Current value: bagging_freq=7\n",
      "Training until validation scores don't improve for 100 rounds\n",
      "[100]\ttraining's l1: 1.87854\tvalid_1's l1: 2.27081\n"
     ]
    },
    {
     "name": "stderr",
     "output_type": "stream",
     "text": [
      "\u001b[32m[I 2021-07-11 23:54:40,350]\u001b[0m Trial 81 finished with value: -2.2657084378204573 and parameters: {'max_depth': 13, 'min_child_weight': 2, 'subsample': 0.9, 'colsample_bytree': 0.8, 'reg_lambda': 0.7717444204175586, 'reg_alpha': 0.7255353036580473, 'feature_fraction': 0.5292617019908741, 'bagging_fraction': 0.6911353542222537, 'bagging_freq': 7}. Best is trial 52 with value: -2.2215053088120085.\u001b[0m\n"
     ]
    },
    {
     "name": "stdout",
     "output_type": "stream",
     "text": [
      "Early stopping, best iteration is:\n",
      "[69]\ttraining's l1: 1.90001\tvalid_1's l1: 2.26571\n",
      "[LightGBM] [Warning] feature_fraction is set=0.48832605987622907, colsample_bytree=0.8 will be ignored. Current value: feature_fraction=0.48832605987622907\n",
      "[LightGBM] [Warning] bagging_fraction is set=0.6442937840287083, subsample=0.7 will be ignored. Current value: bagging_fraction=0.6442937840287083\n",
      "[LightGBM] [Warning] bagging_freq is set=6, subsample_freq=0 will be ignored. Current value: bagging_freq=6\n",
      "Training until validation scores don't improve for 100 rounds\n",
      "[100]\ttraining's l1: 1.8777\tvalid_1's l1: 2.27092\n",
      "[200]\ttraining's l1: 1.81777\tvalid_1's l1: 2.23733\n",
      "[300]\ttraining's l1: 1.79952\tvalid_1's l1: 2.23965\n"
     ]
    },
    {
     "name": "stderr",
     "output_type": "stream",
     "text": [
      "\u001b[32m[I 2021-07-11 23:54:51,005]\u001b[0m Trial 82 finished with value: -2.236770609284584 and parameters: {'max_depth': 13, 'min_child_weight': 4, 'subsample': 0.7, 'colsample_bytree': 0.8, 'reg_lambda': 78.09592390303459, 'reg_alpha': 1.517818004722772, 'feature_fraction': 0.48832605987622907, 'bagging_fraction': 0.6442937840287083, 'bagging_freq': 6}. Best is trial 52 with value: -2.2215053088120085.\u001b[0m\n"
     ]
    },
    {
     "name": "stdout",
     "output_type": "stream",
     "text": [
      "Early stopping, best iteration is:\n",
      "[236]\ttraining's l1: 1.80917\tvalid_1's l1: 2.23678\n",
      "[LightGBM] [Warning] feature_fraction is set=0.475236231389211, colsample_bytree=0.8 will be ignored. Current value: feature_fraction=0.475236231389211\n",
      "[LightGBM] [Warning] bagging_fraction is set=0.6444721075283985, subsample=0.7 will be ignored. Current value: bagging_fraction=0.6444721075283985\n",
      "[LightGBM] [Warning] bagging_freq is set=5, subsample_freq=0 will be ignored. Current value: bagging_freq=5\n",
      "Training until validation scores don't improve for 100 rounds\n",
      "[100]\ttraining's l1: 1.86633\tvalid_1's l1: 2.2528\n",
      "[200]\ttraining's l1: 1.82635\tvalid_1's l1: 2.25582\n"
     ]
    },
    {
     "name": "stderr",
     "output_type": "stream",
     "text": [
      "\u001b[32m[I 2021-07-11 23:54:58,680]\u001b[0m Trial 83 finished with value: -2.244429066149396 and parameters: {'max_depth': 12, 'min_child_weight': 4, 'subsample': 0.7, 'colsample_bytree': 0.8, 'reg_lambda': 47.13843355967577, 'reg_alpha': 3.261828820418601, 'feature_fraction': 0.475236231389211, 'bagging_fraction': 0.6444721075283985, 'bagging_freq': 5}. Best is trial 52 with value: -2.2215053088120085.\u001b[0m\n"
     ]
    },
    {
     "name": "stdout",
     "output_type": "stream",
     "text": [
      "Early stopping, best iteration is:\n",
      "[126]\ttraining's l1: 1.8531\tvalid_1's l1: 2.24444\n",
      "[LightGBM] [Warning] feature_fraction is set=0.509578621486543, colsample_bytree=0.8 will be ignored. Current value: feature_fraction=0.509578621486543\n",
      "[LightGBM] [Warning] bagging_fraction is set=0.5986044164026528, subsample=0.7 will be ignored. Current value: bagging_fraction=0.5986044164026528\n",
      "[LightGBM] [Warning] bagging_freq is set=6, subsample_freq=0 will be ignored. Current value: bagging_freq=6\n",
      "Training until validation scores don't improve for 100 rounds\n",
      "[100]\ttraining's l1: 1.86955\tvalid_1's l1: 2.25737\n",
      "[200]\ttraining's l1: 1.83633\tvalid_1's l1: 2.26439\n"
     ]
    },
    {
     "name": "stderr",
     "output_type": "stream",
     "text": [
      "\u001b[32m[I 2021-07-11 23:55:05,778]\u001b[0m Trial 84 finished with value: -2.254836050224901 and parameters: {'max_depth': 8, 'min_child_weight': 4, 'subsample': 0.7, 'colsample_bytree': 0.8, 'reg_lambda': 177.47358556323078, 'reg_alpha': 1.713679735848269, 'feature_fraction': 0.509578621486543, 'bagging_fraction': 0.5986044164026528, 'bagging_freq': 6}. Best is trial 52 with value: -2.2215053088120085.\u001b[0m\n"
     ]
    },
    {
     "name": "stdout",
     "output_type": "stream",
     "text": [
      "Early stopping, best iteration is:\n",
      "[118]\ttraining's l1: 1.86256\tvalid_1's l1: 2.25484\n",
      "[LightGBM] [Warning] feature_fraction is set=0.4854246207938176, colsample_bytree=0.9 will be ignored. Current value: feature_fraction=0.4854246207938176\n",
      "[LightGBM] [Warning] bagging_fraction is set=0.7436791944202066, subsample=0.7 will be ignored. Current value: bagging_fraction=0.7436791944202066\n",
      "[LightGBM] [Warning] bagging_freq is set=5, subsample_freq=0 will be ignored. Current value: bagging_freq=5\n",
      "Training until validation scores don't improve for 100 rounds\n",
      "[100]\ttraining's l1: 1.87646\tvalid_1's l1: 2.26126\n",
      "[200]\ttraining's l1: 1.82462\tvalid_1's l1: 2.24998\n",
      "[300]\ttraining's l1: 1.79699\tvalid_1's l1: 2.24197\n",
      "[400]\ttraining's l1: 1.78169\tvalid_1's l1: 2.24261\n"
     ]
    },
    {
     "name": "stderr",
     "output_type": "stream",
     "text": [
      "\u001b[32m[I 2021-07-11 23:55:20,610]\u001b[0m Trial 85 finished with value: -2.23698229106427 and parameters: {'max_depth': 14, 'min_child_weight': 3, 'subsample': 0.7, 'colsample_bytree': 0.9, 'reg_lambda': 28.04573656617944, 'reg_alpha': 5.381539187281582, 'feature_fraction': 0.4854246207938176, 'bagging_fraction': 0.7436791944202066, 'bagging_freq': 5}. Best is trial 52 with value: -2.2215053088120085.\u001b[0m\n"
     ]
    },
    {
     "name": "stdout",
     "output_type": "stream",
     "text": [
      "Early stopping, best iteration is:\n",
      "[340]\ttraining's l1: 1.78784\tvalid_1's l1: 2.23756\n",
      "[LightGBM] [Warning] feature_fraction is set=0.48845574826493365, colsample_bytree=0.9 will be ignored. Current value: feature_fraction=0.48845574826493365\n",
      "[LightGBM] [Warning] bagging_fraction is set=0.784673574109273, subsample=0.7 will be ignored. Current value: bagging_fraction=0.784673574109273\n",
      "[LightGBM] [Warning] bagging_freq is set=4, subsample_freq=0 will be ignored. Current value: bagging_freq=4\n",
      "Training until validation scores don't improve for 100 rounds\n",
      "[100]\ttraining's l1: 1.86798\tvalid_1's l1: 2.26596\n"
     ]
    },
    {
     "name": "stderr",
     "output_type": "stream",
     "text": [
      "\u001b[32m[I 2021-07-11 23:55:27,694]\u001b[0m Trial 86 finished with value: -2.2617888132891912 and parameters: {'max_depth': 14, 'min_child_weight': 3, 'subsample': 0.7, 'colsample_bytree': 0.9, 'reg_lambda': 15.266311936554121, 'reg_alpha': 5.5595817326899715, 'feature_fraction': 0.48845574826493365, 'bagging_fraction': 0.784673574109273, 'bagging_freq': 4}. Best is trial 52 with value: -2.2215053088120085.\u001b[0m\n"
     ]
    },
    {
     "name": "stdout",
     "output_type": "stream",
     "text": [
      "Early stopping, best iteration is:\n",
      "[70]\ttraining's l1: 1.89779\tvalid_1's l1: 2.26179\n",
      "[LightGBM] [Warning] feature_fraction is set=0.4602869970192719, colsample_bytree=0.9 will be ignored. Current value: feature_fraction=0.4602869970192719\n",
      "[LightGBM] [Warning] bagging_fraction is set=0.7510282034714628, subsample=0.7 will be ignored. Current value: bagging_fraction=0.7510282034714628\n",
      "[LightGBM] [Warning] bagging_freq is set=5, subsample_freq=0 will be ignored. Current value: bagging_freq=5\n",
      "Training until validation scores don't improve for 100 rounds\n",
      "[100]\ttraining's l1: 1.87277\tvalid_1's l1: 2.25989\n",
      "[200]\ttraining's l1: 1.82947\tvalid_1's l1: 2.25667\n",
      "[300]\ttraining's l1: 1.80368\tvalid_1's l1: 2.24876\n",
      "[400]\ttraining's l1: 1.78568\tvalid_1's l1: 2.24884\n"
     ]
    },
    {
     "name": "stderr",
     "output_type": "stream",
     "text": [
      "\u001b[32m[I 2021-07-11 23:55:42,148]\u001b[0m Trial 87 finished with value: -2.2431706432025065 and parameters: {'max_depth': 10, 'min_child_weight': 1, 'subsample': 0.7, 'colsample_bytree': 0.9, 'reg_lambda': 6.952624863178791, 'reg_alpha': 12.71292309896126, 'feature_fraction': 0.4602869970192719, 'bagging_fraction': 0.7510282034714628, 'bagging_freq': 5}. Best is trial 52 with value: -2.2215053088120085.\u001b[0m\n"
     ]
    },
    {
     "name": "stdout",
     "output_type": "stream",
     "text": [
      "Early stopping, best iteration is:\n",
      "[337]\ttraining's l1: 1.79475\tvalid_1's l1: 2.24354\n",
      "[LightGBM] [Warning] feature_fraction is set=0.5546620708611169, colsample_bytree=0.7 will be ignored. Current value: feature_fraction=0.5546620708611169\n",
      "[LightGBM] [Warning] bagging_fraction is set=0.6152576783589755, subsample=0.7 will be ignored. Current value: bagging_fraction=0.6152576783589755\n",
      "[LightGBM] [Warning] bagging_freq is set=5, subsample_freq=0 will be ignored. Current value: bagging_freq=5\n",
      "Training until validation scores don't improve for 100 rounds\n",
      "[100]\ttraining's l1: 1.86682\tvalid_1's l1: 2.26247\n",
      "[200]\ttraining's l1: 1.82473\tvalid_1's l1: 2.25811\n",
      "[300]\ttraining's l1: 1.80097\tvalid_1's l1: 2.25696\n"
     ]
    },
    {
     "name": "stderr",
     "output_type": "stream",
     "text": [
      "\u001b[32m[I 2021-07-11 23:55:52,798]\u001b[0m Trial 88 finished with value: -2.2498140815154595 and parameters: {'max_depth': 11, 'min_child_weight': 3, 'subsample': 0.7, 'colsample_bytree': 0.7, 'reg_lambda': 25.74722646121467, 'reg_alpha': 7.5651627855956844, 'feature_fraction': 0.5546620708611169, 'bagging_fraction': 0.6152576783589755, 'bagging_freq': 5}. Best is trial 52 with value: -2.2215053088120085.\u001b[0m\n"
     ]
    },
    {
     "name": "stdout",
     "output_type": "stream",
     "text": [
      "Early stopping, best iteration is:\n",
      "[219]\ttraining's l1: 1.81751\tvalid_1's l1: 2.24983\n",
      "[LightGBM] [Warning] feature_fraction is set=0.5052680818338824, colsample_bytree=0.9 will be ignored. Current value: feature_fraction=0.5052680818338824\n",
      "[LightGBM] [Warning] bagging_fraction is set=0.7300578113452192, subsample=0.7 will be ignored. Current value: bagging_fraction=0.7300578113452192\n",
      "[LightGBM] [Warning] bagging_freq is set=6, subsample_freq=0 will be ignored. Current value: bagging_freq=6\n",
      "Training until validation scores don't improve for 100 rounds\n",
      "[100]\ttraining's l1: 1.87588\tvalid_1's l1: 2.25456\n",
      "[200]\ttraining's l1: 1.82808\tvalid_1's l1: 2.24566\n"
     ]
    },
    {
     "name": "stderr",
     "output_type": "stream",
     "text": [
      "\u001b[32m[I 2021-07-11 23:56:02,280]\u001b[0m Trial 89 finished with value: -2.2433864658774203 and parameters: {'max_depth': 12, 'min_child_weight': 4, 'subsample': 0.7, 'colsample_bytree': 0.9, 'reg_lambda': 0.3545028681265798, 'reg_alpha': 4.260614284846246, 'feature_fraction': 0.5052680818338824, 'bagging_fraction': 0.7300578113452192, 'bagging_freq': 6}. Best is trial 52 with value: -2.2215053088120085.\u001b[0m\n"
     ]
    },
    {
     "name": "stdout",
     "output_type": "stream",
     "text": [
      "Early stopping, best iteration is:\n",
      "[164]\ttraining's l1: 1.83922\tvalid_1's l1: 2.24341\n",
      "[LightGBM] [Warning] feature_fraction is set=0.4750666785977478, colsample_bytree=0.7 will be ignored. Current value: feature_fraction=0.4750666785977478\n",
      "[LightGBM] [Warning] bagging_fraction is set=0.7638657371313442, subsample=0.8 will be ignored. Current value: bagging_fraction=0.7638657371313442\n",
      "[LightGBM] [Warning] bagging_freq is set=5, subsample_freq=0 will be ignored. Current value: bagging_freq=5\n",
      "Training until validation scores don't improve for 100 rounds\n",
      "[100]\ttraining's l1: 1.8684\tvalid_1's l1: 2.26543\n",
      "[200]\ttraining's l1: 1.82534\tvalid_1's l1: 2.26193\n"
     ]
    },
    {
     "name": "stderr",
     "output_type": "stream",
     "text": [
      "\u001b[32m[I 2021-07-11 23:56:10,808]\u001b[0m Trial 90 finished with value: -2.2563902156765447 and parameters: {'max_depth': 14, 'min_child_weight': 5, 'subsample': 0.8, 'colsample_bytree': 0.7, 'reg_lambda': 3.6434341604682072, 'reg_alpha': 0.005926144341407593, 'feature_fraction': 0.4750666785977478, 'bagging_fraction': 0.7638657371313442, 'bagging_freq': 5}. Best is trial 52 with value: -2.2215053088120085.\u001b[0m\n"
     ]
    },
    {
     "name": "stdout",
     "output_type": "stream",
     "text": [
      "Early stopping, best iteration is:\n",
      "[129]\ttraining's l1: 1.8484\tvalid_1's l1: 2.25639\n",
      "[LightGBM] [Warning] feature_fraction is set=0.5463762830021864, colsample_bytree=0.8 will be ignored. Current value: feature_fraction=0.5463762830021864\n",
      "[LightGBM] [Warning] bagging_fraction is set=0.713339816693177, subsample=0.7 will be ignored. Current value: bagging_fraction=0.713339816693177\n",
      "[LightGBM] [Warning] bagging_freq is set=6, subsample_freq=0 will be ignored. Current value: bagging_freq=6\n",
      "Training until validation scores don't improve for 100 rounds\n",
      "[100]\ttraining's l1: 1.86932\tvalid_1's l1: 2.26869\n",
      "[200]\ttraining's l1: 1.82679\tvalid_1's l1: 2.26057\n",
      "[300]\ttraining's l1: 1.79819\tvalid_1's l1: 2.24831\n",
      "[400]\ttraining's l1: 1.78399\tvalid_1's l1: 2.25295\n",
      "Early stopping, best iteration is:\n",
      "[305]\ttraining's l1: 1.79792\tvalid_1's l1: 2.24776\n"
     ]
    },
    {
     "name": "stderr",
     "output_type": "stream",
     "text": [
      "\u001b[32m[I 2021-07-11 23:56:24,941]\u001b[0m Trial 91 finished with value: -2.2477580115968565 and parameters: {'max_depth': 17, 'min_child_weight': 2, 'subsample': 0.7, 'colsample_bytree': 0.8, 'reg_lambda': 94.39336420041853, 'reg_alpha': 2.3982216294139422, 'feature_fraction': 0.5463762830021864, 'bagging_fraction': 0.713339816693177, 'bagging_freq': 6}. Best is trial 52 with value: -2.2215053088120085.\u001b[0m\n"
     ]
    },
    {
     "name": "stdout",
     "output_type": "stream",
     "text": [
      "[LightGBM] [Warning] feature_fraction is set=0.5205020349159557, colsample_bytree=0.8 will be ignored. Current value: feature_fraction=0.5205020349159557\n",
      "[LightGBM] [Warning] bagging_fraction is set=0.7445427464916794, subsample=0.7 will be ignored. Current value: bagging_fraction=0.7445427464916794\n",
      "[LightGBM] [Warning] bagging_freq is set=6, subsample_freq=0 will be ignored. Current value: bagging_freq=6\n",
      "Training until validation scores don't improve for 100 rounds\n",
      "[100]\ttraining's l1: 1.87042\tvalid_1's l1: 2.2671\n",
      "[200]\ttraining's l1: 1.8341\tvalid_1's l1: 2.26496\n",
      "[300]\ttraining's l1: 1.80011\tvalid_1's l1: 2.25304\n"
     ]
    },
    {
     "name": "stderr",
     "output_type": "stream",
     "text": [
      "\u001b[32m[I 2021-07-11 23:56:36,586]\u001b[0m Trial 92 finished with value: -2.2522442400302616 and parameters: {'max_depth': 13, 'min_child_weight': 3, 'subsample': 0.7, 'colsample_bytree': 0.8, 'reg_lambda': 47.545519643907696, 'reg_alpha': 1.147428684184073, 'feature_fraction': 0.5205020349159557, 'bagging_fraction': 0.7445427464916794, 'bagging_freq': 6}. Best is trial 52 with value: -2.2215053088120085.\u001b[0m\n"
     ]
    },
    {
     "name": "stdout",
     "output_type": "stream",
     "text": [
      "Early stopping, best iteration is:\n",
      "[226]\ttraining's l1: 1.81824\tvalid_1's l1: 2.25229\n",
      "[LightGBM] [Warning] feature_fraction is set=0.4217936395360816, colsample_bytree=0.9 will be ignored. Current value: feature_fraction=0.4217936395360816\n",
      "[LightGBM] [Warning] bagging_fraction is set=0.6539173261734326, subsample=0.6 will be ignored. Current value: bagging_fraction=0.6539173261734326\n",
      "[LightGBM] [Warning] bagging_freq is set=4, subsample_freq=0 will be ignored. Current value: bagging_freq=4\n",
      "Training until validation scores don't improve for 100 rounds\n",
      "[100]\ttraining's l1: 1.87473\tvalid_1's l1: 2.27427\n",
      "[200]\ttraining's l1: 1.82077\tvalid_1's l1: 2.24894\n",
      "[300]\ttraining's l1: 1.8022\tvalid_1's l1: 2.24864\n"
     ]
    },
    {
     "name": "stderr",
     "output_type": "stream",
     "text": [
      "\u001b[32m[I 2021-07-11 23:56:48,247]\u001b[0m Trial 93 finished with value: -2.244381536255351 and parameters: {'max_depth': 19, 'min_child_weight': 5, 'subsample': 0.6, 'colsample_bytree': 0.9, 'reg_lambda': 35.14538790399068, 'reg_alpha': 0.5403216158173206, 'feature_fraction': 0.4217936395360816, 'bagging_fraction': 0.6539173261734326, 'bagging_freq': 4}. Best is trial 52 with value: -2.2215053088120085.\u001b[0m\n"
     ]
    },
    {
     "name": "stdout",
     "output_type": "stream",
     "text": [
      "Early stopping, best iteration is:\n",
      "[277]\ttraining's l1: 1.80705\tvalid_1's l1: 2.2444\n",
      "[LightGBM] [Warning] feature_fraction is set=0.4446545191165089, colsample_bytree=0.7 will be ignored. Current value: feature_fraction=0.4446545191165089\n",
      "[LightGBM] [Warning] bagging_fraction is set=0.6776559912556022, subsample=0.7 will be ignored. Current value: bagging_fraction=0.6776559912556022\n",
      "[LightGBM] [Warning] bagging_freq is set=8, subsample_freq=0 will be ignored. Current value: bagging_freq=8\n",
      "Training until validation scores don't improve for 100 rounds\n",
      "[100]\ttraining's l1: 1.87663\tvalid_1's l1: 2.26731\n",
      "[200]\ttraining's l1: 1.83025\tvalid_1's l1: 2.25991\n"
     ]
    },
    {
     "name": "stderr",
     "output_type": "stream",
     "text": [
      "\u001b[32m[I 2021-07-11 23:56:57,396]\u001b[0m Trial 94 finished with value: -2.2587062772753184 and parameters: {'max_depth': 16, 'min_child_weight': 4, 'subsample': 0.7, 'colsample_bytree': 0.7, 'reg_lambda': 25.960197241202167, 'reg_alpha': 34.87222100140301, 'feature_fraction': 0.4446545191165089, 'bagging_fraction': 0.6776559912556022, 'bagging_freq': 8}. Best is trial 52 with value: -2.2215053088120085.\u001b[0m\n"
     ]
    },
    {
     "name": "stdout",
     "output_type": "stream",
     "text": [
      "Early stopping, best iteration is:\n",
      "[184]\ttraining's l1: 1.83427\tvalid_1's l1: 2.25871\n",
      "[LightGBM] [Warning] feature_fraction is set=0.6100263016339931, colsample_bytree=0.8 will be ignored. Current value: feature_fraction=0.6100263016339931\n",
      "[LightGBM] [Warning] bagging_fraction is set=0.7069631122894251, subsample=0.7 will be ignored. Current value: bagging_fraction=0.7069631122894251\n",
      "[LightGBM] [Warning] bagging_freq is set=7, subsample_freq=0 will be ignored. Current value: bagging_freq=7\n",
      "Training until validation scores don't improve for 100 rounds\n",
      "[100]\ttraining's l1: 1.87446\tvalid_1's l1: 2.27987\n"
     ]
    },
    {
     "name": "stderr",
     "output_type": "stream",
     "text": [
      "\u001b[32m[I 2021-07-11 23:57:03,297]\u001b[0m Trial 95 finished with value: -2.2653942958759146 and parameters: {'max_depth': 15, 'min_child_weight': 2, 'subsample': 0.7, 'colsample_bytree': 0.8, 'reg_lambda': 65.82516190079686, 'reg_alpha': 3.354207604912549, 'feature_fraction': 0.6100263016339931, 'bagging_fraction': 0.7069631122894251, 'bagging_freq': 7}. Best is trial 52 with value: -2.2215053088120085.\u001b[0m\n"
     ]
    },
    {
     "name": "stdout",
     "output_type": "stream",
     "text": [
      "Early stopping, best iteration is:\n",
      "[37]\ttraining's l1: 1.92607\tvalid_1's l1: 2.26539\n",
      "[LightGBM] [Warning] feature_fraction is set=0.5911592832779773, colsample_bytree=0.8 will be ignored. Current value: feature_fraction=0.5911592832779773\n",
      "[LightGBM] [Warning] bagging_fraction is set=0.7947606930749751, subsample=0.6 will be ignored. Current value: bagging_fraction=0.7947606930749751\n",
      "[LightGBM] [Warning] bagging_freq is set=8, subsample_freq=0 will be ignored. Current value: bagging_freq=8\n",
      "Training until validation scores don't improve for 100 rounds\n",
      "[100]\ttraining's l1: 1.87283\tvalid_1's l1: 2.2611\n",
      "[200]\ttraining's l1: 1.8245\tvalid_1's l1: 2.26034\n",
      "[300]\ttraining's l1: 1.80173\tvalid_1's l1: 2.24181\n"
     ]
    },
    {
     "name": "stderr",
     "output_type": "stream",
     "text": [
      "\u001b[32m[I 2021-07-11 23:57:18,666]\u001b[0m Trial 96 finished with value: -2.240764643621684 and parameters: {'max_depth': 18, 'min_child_weight': 4, 'subsample': 0.6, 'colsample_bytree': 0.8, 'reg_lambda': 141.01877461865234, 'reg_alpha': 1.4771264471323178, 'feature_fraction': 0.5911592832779773, 'bagging_fraction': 0.7947606930749751, 'bagging_freq': 8}. Best is trial 52 with value: -2.2215053088120085.\u001b[0m\n"
     ]
    },
    {
     "name": "stdout",
     "output_type": "stream",
     "text": [
      "Early stopping, best iteration is:\n",
      "[285]\ttraining's l1: 1.80343\tvalid_1's l1: 2.24077\n",
      "[LightGBM] [Warning] feature_fraction is set=0.5886028117194395, colsample_bytree=0.8 will be ignored. Current value: feature_fraction=0.5886028117194395\n",
      "[LightGBM] [Warning] bagging_fraction is set=0.8820499427617758, subsample=0.6 will be ignored. Current value: bagging_fraction=0.8820499427617758\n",
      "[LightGBM] [Warning] bagging_freq is set=3, subsample_freq=0 will be ignored. Current value: bagging_freq=3\n",
      "Training until validation scores don't improve for 100 rounds\n",
      "[100]\ttraining's l1: 1.86957\tvalid_1's l1: 2.26228\n"
     ]
    },
    {
     "name": "stderr",
     "output_type": "stream",
     "text": [
      "\u001b[32m[I 2021-07-11 23:57:29,050]\u001b[0m Trial 97 finished with value: -2.262218492848984 and parameters: {'max_depth': 19, 'min_child_weight': 3, 'subsample': 0.6, 'colsample_bytree': 0.8, 'reg_lambda': 348.3148162481588, 'reg_alpha': 0.30230000097418036, 'feature_fraction': 0.5886028117194395, 'bagging_fraction': 0.8820499427617758, 'bagging_freq': 3}. Best is trial 52 with value: -2.2215053088120085.\u001b[0m\n"
     ]
    },
    {
     "name": "stdout",
     "output_type": "stream",
     "text": [
      "[200]\ttraining's l1: 1.82668\tvalid_1's l1: 2.2784\n",
      "Early stopping, best iteration is:\n",
      "[102]\ttraining's l1: 1.86808\tvalid_1's l1: 2.26222\n",
      "[LightGBM] [Warning] feature_fraction is set=0.5639553255755368, colsample_bytree=0.7 will be ignored. Current value: feature_fraction=0.5639553255755368\n",
      "[LightGBM] [Warning] bagging_fraction is set=0.8015409584373172, subsample=0.5 will be ignored. Current value: bagging_fraction=0.8015409584373172\n",
      "[LightGBM] [Warning] bagging_freq is set=9, subsample_freq=0 will be ignored. Current value: bagging_freq=9\n",
      "Training until validation scores don't improve for 100 rounds\n",
      "[100]\ttraining's l1: 1.87332\tvalid_1's l1: 2.26595\n",
      "[200]\ttraining's l1: 1.8273\tvalid_1's l1: 2.26174\n"
     ]
    },
    {
     "name": "stderr",
     "output_type": "stream",
     "text": [
      "\u001b[32m[I 2021-07-11 23:57:39,312]\u001b[0m Trial 98 finished with value: -2.2582517221738705 and parameters: {'max_depth': 14, 'min_child_weight': 1, 'subsample': 0.5, 'colsample_bytree': 0.7, 'reg_lambda': 1.9991944284732053, 'reg_alpha': 1.466641448088895, 'feature_fraction': 0.5639553255755368, 'bagging_fraction': 0.8015409584373172, 'bagging_freq': 9}. Best is trial 52 with value: -2.2215053088120085.\u001b[0m\n"
     ]
    },
    {
     "name": "stdout",
     "output_type": "stream",
     "text": [
      "Early stopping, best iteration is:\n",
      "[153]\ttraining's l1: 1.84117\tvalid_1's l1: 2.25825\n",
      "[LightGBM] [Warning] feature_fraction is set=0.49646449736114423, colsample_bytree=0.8 will be ignored. Current value: feature_fraction=0.49646449736114423\n",
      "[LightGBM] [Warning] bagging_fraction is set=0.8574543777057645, subsample=0.5 will be ignored. Current value: bagging_fraction=0.8574543777057645\n",
      "[LightGBM] [Warning] bagging_freq is set=5, subsample_freq=0 will be ignored. Current value: bagging_freq=5\n",
      "Training until validation scores don't improve for 100 rounds\n",
      "[100]\ttraining's l1: 1.86542\tvalid_1's l1: 2.242\n",
      "[200]\ttraining's l1: 1.82171\tvalid_1's l1: 2.23361\n",
      "[300]\ttraining's l1: 1.79622\tvalid_1's l1: 2.23462\n"
     ]
    },
    {
     "name": "stderr",
     "output_type": "stream",
     "text": [
      "\u001b[32m[I 2021-07-11 23:57:52,146]\u001b[0m Trial 99 finished with value: -2.229920682278082 and parameters: {'max_depth': 18, 'min_child_weight': 4, 'subsample': 0.5, 'colsample_bytree': 0.8, 'reg_lambda': 150.5725194682487, 'reg_alpha': 2.149728552446201, 'feature_fraction': 0.49646449736114423, 'bagging_fraction': 0.8574543777057645, 'bagging_freq': 5}. Best is trial 52 with value: -2.2215053088120085.\u001b[0m\n",
      "\u001b[32m[I 2021-07-11 23:57:52,148]\u001b[0m A new study created in memory with name: no-name-7723286a-f5d7-4694-800f-d00a1fe77738\u001b[0m\n"
     ]
    },
    {
     "name": "stdout",
     "output_type": "stream",
     "text": [
      "Early stopping, best iteration is:\n",
      "[228]\ttraining's l1: 1.80932\tvalid_1's l1: 2.22993\n",
      "[LightGBM] [Warning] feature_fraction is set=0.662344987445042, colsample_bytree=0.8 will be ignored. Current value: feature_fraction=0.662344987445042\n",
      "[LightGBM] [Warning] bagging_fraction is set=0.511018414420637, subsample=0.5 will be ignored. Current value: bagging_fraction=0.511018414420637\n",
      "[LightGBM] [Warning] bagging_freq is set=2, subsample_freq=0 will be ignored. Current value: bagging_freq=2\n",
      "Training until validation scores don't improve for 100 rounds\n",
      "[100]\ttraining's l1: 1.03668\tvalid_1's l1: 0.945087\n",
      "[200]\ttraining's l1: 1.03585\tvalid_1's l1: 0.9446\n",
      "[300]\ttraining's l1: 1.03573\tvalid_1's l1: 0.944448\n"
     ]
    },
    {
     "name": "stderr",
     "output_type": "stream",
     "text": [
      "\u001b[32m[I 2021-07-11 23:58:02,904]\u001b[0m Trial 0 finished with value: -0.9444466525129882 and parameters: {'max_depth': 10, 'min_child_weight': 3, 'subsample': 0.5, 'colsample_bytree': 0.8, 'reg_lambda': 0.0018746397782474905, 'reg_alpha': 0.0026622760280834274, 'feature_fraction': 0.662344987445042, 'bagging_fraction': 0.511018414420637, 'bagging_freq': 2}. Best is trial 0 with value: -0.9444466525129882.\u001b[0m\n"
     ]
    },
    {
     "name": "stdout",
     "output_type": "stream",
     "text": [
      "[400]\ttraining's l1: 1.03571\tvalid_1's l1: 0.944478\n",
      "Early stopping, best iteration is:\n",
      "[304]\ttraining's l1: 1.03573\tvalid_1's l1: 0.944447\n",
      "[LightGBM] [Warning] feature_fraction is set=0.7368106084981911, colsample_bytree=0.7 will be ignored. Current value: feature_fraction=0.7368106084981911\n",
      "[LightGBM] [Warning] bagging_fraction is set=0.9684507331260578, subsample=0.7 will be ignored. Current value: bagging_fraction=0.9684507331260578\n",
      "[LightGBM] [Warning] bagging_freq is set=2, subsample_freq=0 will be ignored. Current value: bagging_freq=2\n",
      "Training until validation scores don't improve for 100 rounds\n",
      "[100]\ttraining's l1: 1.03122\tvalid_1's l1: 0.938957\n",
      "[200]\ttraining's l1: 1.02633\tvalid_1's l1: 0.934131\n",
      "[300]\ttraining's l1: 1.0245\tvalid_1's l1: 0.933319\n"
     ]
    },
    {
     "name": "stderr",
     "output_type": "stream",
     "text": [
      "\u001b[32m[I 2021-07-11 23:58:15,398]\u001b[0m Trial 1 finished with value: -0.9332525059062412 and parameters: {'max_depth': 4, 'min_child_weight': 13, 'subsample': 0.7, 'colsample_bytree': 0.7, 'reg_lambda': 580.232245454557, 'reg_alpha': 0.0029405854518518614, 'feature_fraction': 0.7368106084981911, 'bagging_fraction': 0.9684507331260578, 'bagging_freq': 2}. Best is trial 1 with value: -0.9332525059062412.\u001b[0m\n"
     ]
    },
    {
     "name": "stdout",
     "output_type": "stream",
     "text": [
      "Early stopping, best iteration is:\n",
      "[226]\ttraining's l1: 1.02551\tvalid_1's l1: 0.933266\n",
      "[LightGBM] [Warning] feature_fraction is set=0.9772030435473011, colsample_bytree=0.9 will be ignored. Current value: feature_fraction=0.9772030435473011\n",
      "[LightGBM] [Warning] bagging_fraction is set=0.7492032654483916, subsample=0.5 will be ignored. Current value: bagging_fraction=0.7492032654483916\n",
      "[LightGBM] [Warning] bagging_freq is set=7, subsample_freq=0 will be ignored. Current value: bagging_freq=7\n",
      "Training until validation scores don't improve for 100 rounds\n",
      "[100]\ttraining's l1: 1.03759\tvalid_1's l1: 0.945509\n",
      "[200]\ttraining's l1: 1.03757\tvalid_1's l1: 0.945499\n",
      "[300]\ttraining's l1: 1.037\tvalid_1's l1: 0.944682\n",
      "[400]\ttraining's l1: 1.03617\tvalid_1's l1: 0.943654\n"
     ]
    },
    {
     "name": "stderr",
     "output_type": "stream",
     "text": [
      "\u001b[32m[I 2021-07-11 23:58:29,885]\u001b[0m Trial 2 finished with value: -0.9436195459110231 and parameters: {'max_depth': 14, 'min_child_weight': 3, 'subsample': 0.5, 'colsample_bytree': 0.9, 'reg_lambda': 10.100176987917841, 'reg_alpha': 0.004475660563453311, 'feature_fraction': 0.9772030435473011, 'bagging_fraction': 0.7492032654483916, 'bagging_freq': 7}. Best is trial 1 with value: -0.9332525059062412.\u001b[0m\n"
     ]
    },
    {
     "name": "stdout",
     "output_type": "stream",
     "text": [
      "Early stopping, best iteration is:\n",
      "[381]\ttraining's l1: 1.03623\tvalid_1's l1: 0.943621\n",
      "[LightGBM] [Warning] feature_fraction is set=0.7605040563083381, colsample_bytree=0.9 will be ignored. Current value: feature_fraction=0.7605040563083381\n",
      "[LightGBM] [Warning] bagging_fraction is set=0.4900041870423414, subsample=0.6 will be ignored. Current value: bagging_fraction=0.4900041870423414\n",
      "[LightGBM] [Warning] bagging_freq is set=10, subsample_freq=0 will be ignored. Current value: bagging_freq=10\n",
      "Training until validation scores don't improve for 100 rounds\n",
      "[100]\ttraining's l1: 1.03444\tvalid_1's l1: 0.950527\n",
      "[200]\ttraining's l1: 1.03305\tvalid_1's l1: 0.948854\n",
      "[300]\ttraining's l1: 1.03304\tvalid_1's l1: 0.948848\n",
      "[400]\ttraining's l1: 1.03302\tvalid_1's l1: 0.948898\n"
     ]
    },
    {
     "name": "stderr",
     "output_type": "stream",
     "text": [
      "\u001b[32m[I 2021-07-11 23:58:38,537]\u001b[0m Trial 3 finished with value: -0.9488348893796665 and parameters: {'max_depth': 12, 'min_child_weight': 20, 'subsample': 0.6, 'colsample_bytree': 0.9, 'reg_lambda': 223.1961438806237, 'reg_alpha': 897.0679477469774, 'feature_fraction': 0.7605040563083381, 'bagging_fraction': 0.4900041870423414, 'bagging_freq': 10}. Best is trial 1 with value: -0.9332525059062412.\u001b[0m\n"
     ]
    },
    {
     "name": "stdout",
     "output_type": "stream",
     "text": [
      "Early stopping, best iteration is:\n",
      "[316]\ttraining's l1: 1.03304\tvalid_1's l1: 0.948846\n",
      "[LightGBM] [Warning] feature_fraction is set=0.8312419199834729, colsample_bytree=0.6 will be ignored. Current value: feature_fraction=0.8312419199834729\n",
      "[LightGBM] [Warning] bagging_fraction is set=0.6895128085512021, subsample=0.7 will be ignored. Current value: bagging_fraction=0.6895128085512021\n",
      "[LightGBM] [Warning] bagging_freq is set=9, subsample_freq=0 will be ignored. Current value: bagging_freq=9\n",
      "Training until validation scores don't improve for 100 rounds\n",
      "[100]\ttraining's l1: 1.02522\tvalid_1's l1: 0.934634\n",
      "[200]\ttraining's l1: 1.01933\tvalid_1's l1: 0.930948\n"
     ]
    },
    {
     "name": "stderr",
     "output_type": "stream",
     "text": [
      "\u001b[32m[I 2021-07-11 23:58:46,259]\u001b[0m Trial 4 finished with value: -0.9308370417171641 and parameters: {'max_depth': 5, 'min_child_weight': 14, 'subsample': 0.7, 'colsample_bytree': 0.6, 'reg_lambda': 52.85291199032075, 'reg_alpha': 0.017112576880480762, 'feature_fraction': 0.8312419199834729, 'bagging_fraction': 0.6895128085512021, 'bagging_freq': 9}. Best is trial 4 with value: -0.9308370417171641.\u001b[0m\n"
     ]
    },
    {
     "name": "stdout",
     "output_type": "stream",
     "text": [
      "Early stopping, best iteration is:\n",
      "[184]\ttraining's l1: 1.01947\tvalid_1's l1: 0.930848\n",
      "[LightGBM] [Warning] feature_fraction is set=0.8878611019305336, colsample_bytree=0.7 will be ignored. Current value: feature_fraction=0.8878611019305336\n",
      "[LightGBM] [Warning] bagging_fraction is set=0.9738974037218526, subsample=0.8 will be ignored. Current value: bagging_fraction=0.9738974037218526\n",
      "[LightGBM] [Warning] bagging_freq is set=9, subsample_freq=0 will be ignored. Current value: bagging_freq=9\n",
      "Training until validation scores don't improve for 100 rounds\n",
      "[100]\ttraining's l1: 1.03804\tvalid_1's l1: 0.946711\n"
     ]
    },
    {
     "name": "stderr",
     "output_type": "stream",
     "text": [
      "\u001b[32m[I 2021-07-11 23:58:51,819]\u001b[0m Trial 5 finished with value: -0.9466879369557699 and parameters: {'max_depth': 19, 'min_child_weight': 18, 'subsample': 0.8, 'colsample_bytree': 0.7, 'reg_lambda': 0.009951046627076299, 'reg_alpha': 0.0043881502934062675, 'feature_fraction': 0.8878611019305336, 'bagging_fraction': 0.9738974037218526, 'bagging_freq': 9}. Best is trial 4 with value: -0.9308370417171641.\u001b[0m\n"
     ]
    },
    {
     "name": "stdout",
     "output_type": "stream",
     "text": [
      "Early stopping, best iteration is:\n",
      "[36]\ttraining's l1: 1.03813\tvalid_1's l1: 0.946688\n",
      "[LightGBM] [Warning] feature_fraction is set=0.45271488239902336, colsample_bytree=0.5 will be ignored. Current value: feature_fraction=0.45271488239902336\n",
      "[LightGBM] [Warning] bagging_fraction is set=0.7226189836005368, subsample=0.7 will be ignored. Current value: bagging_fraction=0.7226189836005368\n",
      "[LightGBM] [Warning] bagging_freq is set=2, subsample_freq=0 will be ignored. Current value: bagging_freq=2\n",
      "Training until validation scores don't improve for 100 rounds\n",
      "[100]\ttraining's l1: 1.03291\tvalid_1's l1: 0.944687\n",
      "[200]\ttraining's l1: 1.03287\tvalid_1's l1: 0.944706\n",
      "[300]\ttraining's l1: 1.03284\tvalid_1's l1: 0.944661\n",
      "[400]\ttraining's l1: 1.03275\tvalid_1's l1: 0.944681\n"
     ]
    },
    {
     "name": "stderr",
     "output_type": "stream",
     "text": [
      "\u001b[32m[I 2021-07-11 23:59:07,688]\u001b[0m Trial 6 finished with value: -0.9446547535501824 and parameters: {'max_depth': 7, 'min_child_weight': 7, 'subsample': 0.7, 'colsample_bytree': 0.5, 'reg_lambda': 1.3107306687917524, 'reg_alpha': 260.00754270050015, 'feature_fraction': 0.45271488239902336, 'bagging_fraction': 0.7226189836005368, 'bagging_freq': 2}. Best is trial 4 with value: -0.9308370417171641.\u001b[0m\n"
     ]
    },
    {
     "name": "stdout",
     "output_type": "stream",
     "text": [
      "Early stopping, best iteration is:\n",
      "[339]\ttraining's l1: 1.03276\tvalid_1's l1: 0.94466\n",
      "[LightGBM] [Warning] feature_fraction is set=0.5038377858111389, colsample_bytree=0.8 will be ignored. Current value: feature_fraction=0.5038377858111389\n",
      "[LightGBM] [Warning] bagging_fraction is set=0.44453044355946747, subsample=0.8 will be ignored. Current value: bagging_fraction=0.44453044355946747\n",
      "[LightGBM] [Warning] bagging_freq is set=5, subsample_freq=0 will be ignored. Current value: bagging_freq=5\n",
      "Training until validation scores don't improve for 100 rounds\n",
      "[100]\ttraining's l1: 1.0339\tvalid_1's l1: 0.944554\n",
      "[200]\ttraining's l1: 1.03387\tvalid_1's l1: 0.94453\n",
      "[300]\ttraining's l1: 1.03385\tvalid_1's l1: 0.944502\n"
     ]
    },
    {
     "name": "stderr",
     "output_type": "stream",
     "text": [
      "\u001b[32m[I 2021-07-11 23:59:17,392]\u001b[0m Trial 7 finished with value: -0.9444991333362827 and parameters: {'max_depth': 18, 'min_child_weight': 14, 'subsample': 0.8, 'colsample_bytree': 0.8, 'reg_lambda': 252.70867140027474, 'reg_alpha': 0.007110290950742015, 'feature_fraction': 0.5038377858111389, 'bagging_fraction': 0.44453044355946747, 'bagging_freq': 5}. Best is trial 4 with value: -0.9308370417171641.\u001b[0m\n"
     ]
    },
    {
     "name": "stdout",
     "output_type": "stream",
     "text": [
      "Early stopping, best iteration is:\n",
      "[289]\ttraining's l1: 1.03385\tvalid_1's l1: 0.944501\n",
      "[LightGBM] [Warning] feature_fraction is set=0.6786667814177321, colsample_bytree=0.6 will be ignored. Current value: feature_fraction=0.6786667814177321\n",
      "[LightGBM] [Warning] bagging_fraction is set=0.7323632717139134, subsample=0.7 will be ignored. Current value: bagging_fraction=0.7323632717139134\n",
      "[LightGBM] [Warning] bagging_freq is set=3, subsample_freq=0 will be ignored. Current value: bagging_freq=3\n",
      "Training until validation scores don't improve for 100 rounds\n",
      "[100]\ttraining's l1: 1.03689\tvalid_1's l1: 0.945677\n"
     ]
    },
    {
     "name": "stderr",
     "output_type": "stream",
     "text": [
      "\u001b[32m[I 2021-07-11 23:59:22,870]\u001b[0m Trial 8 finished with value: -0.9456679710432976 and parameters: {'max_depth': 18, 'min_child_weight': 17, 'subsample': 0.7, 'colsample_bytree': 0.6, 'reg_lambda': 49.65452830681637, 'reg_alpha': 0.012334020367352684, 'feature_fraction': 0.6786667814177321, 'bagging_fraction': 0.7323632717139134, 'bagging_freq': 3}. Best is trial 4 with value: -0.9308370417171641.\u001b[0m\n"
     ]
    },
    {
     "name": "stdout",
     "output_type": "stream",
     "text": [
      "Early stopping, best iteration is:\n",
      "[53]\ttraining's l1: 1.03691\tvalid_1's l1: 0.945668\n",
      "[LightGBM] [Warning] feature_fraction is set=0.536591938427202, colsample_bytree=0.6 will be ignored. Current value: feature_fraction=0.536591938427202\n",
      "[LightGBM] [Warning] bagging_fraction is set=0.8992823395431824, subsample=0.6 will be ignored. Current value: bagging_fraction=0.8992823395431824\n",
      "[LightGBM] [Warning] bagging_freq is set=7, subsample_freq=0 will be ignored. Current value: bagging_freq=7\n",
      "Training until validation scores don't improve for 100 rounds\n",
      "[100]\ttraining's l1: 1.0372\tvalid_1's l1: 0.945976\n",
      "[200]\ttraining's l1: 1.03642\tvalid_1's l1: 0.945092\n",
      "[300]\ttraining's l1: 1.03641\tvalid_1's l1: 0.945091\n",
      "[400]\ttraining's l1: 1.03641\tvalid_1's l1: 0.945099\n"
     ]
    },
    {
     "name": "stderr",
     "output_type": "stream",
     "text": [
      "\u001b[32m[I 2021-07-11 23:59:40,262]\u001b[0m Trial 9 finished with value: -0.945085224582047 and parameters: {'max_depth': 17, 'min_child_weight': 12, 'subsample': 0.6, 'colsample_bytree': 0.6, 'reg_lambda': 0.007278521394490452, 'reg_alpha': 0.09507018948654712, 'feature_fraction': 0.536591938427202, 'bagging_fraction': 0.8992823395431824, 'bagging_freq': 7}. Best is trial 4 with value: -0.9308370417171641.\u001b[0m\n"
     ]
    },
    {
     "name": "stdout",
     "output_type": "stream",
     "text": [
      "Early stopping, best iteration is:\n",
      "[343]\ttraining's l1: 1.03641\tvalid_1's l1: 0.94509\n",
      "[LightGBM] [Warning] feature_fraction is set=0.9180772579914307, colsample_bytree=0.5 will be ignored. Current value: feature_fraction=0.9180772579914307\n",
      "[LightGBM] [Warning] bagging_fraction is set=0.6150284741959995, subsample=0.9 will be ignored. Current value: bagging_fraction=0.6150284741959995\n",
      "[LightGBM] [Warning] bagging_freq is set=10, subsample_freq=0 will be ignored. Current value: bagging_freq=10\n",
      "Training until validation scores don't improve for 100 rounds\n",
      "[100]\ttraining's l1: 1.06023\tvalid_1's l1: 0.972522\n"
     ]
    },
    {
     "name": "stderr",
     "output_type": "stream",
     "text": [
      "\u001b[32m[I 2021-07-11 23:59:43,458]\u001b[0m Trial 10 finished with value: -0.9724937745971364 and parameters: {'max_depth': 1, 'min_child_weight': 8, 'subsample': 0.9, 'colsample_bytree': 0.5, 'reg_lambda': 0.1025389668783236, 'reg_alpha': 7.289497474365851, 'feature_fraction': 0.9180772579914307, 'bagging_fraction': 0.6150284741959995, 'bagging_freq': 10}. Best is trial 4 with value: -0.9308370417171641.\u001b[0m\n"
     ]
    },
    {
     "name": "stdout",
     "output_type": "stream",
     "text": [
      "Early stopping, best iteration is:\n",
      "[23]\ttraining's l1: 1.06031\tvalid_1's l1: 0.972494\n",
      "[LightGBM] [Warning] feature_fraction is set=0.7963657013382452, colsample_bytree=0.7 will be ignored. Current value: feature_fraction=0.7963657013382452\n",
      "[LightGBM] [Warning] bagging_fraction is set=0.848671839097305, subsample=0.8 will be ignored. Current value: bagging_fraction=0.848671839097305\n",
      "[LightGBM] [Warning] bagging_freq is set=4, subsample_freq=0 will be ignored. Current value: bagging_freq=4\n",
      "Training until validation scores don't improve for 100 rounds\n",
      "[100]\ttraining's l1: 1.03736\tvalid_1's l1: 0.944983\n",
      "[200]\ttraining's l1: 1.0334\tvalid_1's l1: 0.941746\n",
      "[300]\ttraining's l1: 1.03182\tvalid_1's l1: 0.940555\n",
      "[400]\ttraining's l1: 1.0301\tvalid_1's l1: 0.939214\n",
      "[500]\ttraining's l1: 1.02883\tvalid_1's l1: 0.938902\n",
      "[600]\ttraining's l1: 1.0284\tvalid_1's l1: 0.938727\n",
      "[700]\ttraining's l1: 1.02758\tvalid_1's l1: 0.938555\n"
     ]
    },
    {
     "name": "stderr",
     "output_type": "stream",
     "text": [
      "\u001b[32m[I 2021-07-12 00:00:02,624]\u001b[0m Trial 11 finished with value: -0.9384767991459768 and parameters: {'max_depth': 3, 'min_child_weight': 14, 'subsample': 0.8, 'colsample_bytree': 0.7, 'reg_lambda': 690.969584021827, 'reg_alpha': 0.5984875043884366, 'feature_fraction': 0.7963657013382452, 'bagging_fraction': 0.848671839097305, 'bagging_freq': 4}. Best is trial 4 with value: -0.9308370417171641.\u001b[0m\n"
     ]
    },
    {
     "name": "stdout",
     "output_type": "stream",
     "text": [
      "Early stopping, best iteration is:\n",
      "[611]\ttraining's l1: 1.02803\tvalid_1's l1: 0.938488\n",
      "[LightGBM] [Warning] feature_fraction is set=0.8173234548899512, colsample_bytree=0.6 will be ignored. Current value: feature_fraction=0.8173234548899512\n",
      "[LightGBM] [Warning] bagging_fraction is set=0.6106384802326947, subsample=0.6 will be ignored. Current value: bagging_fraction=0.6106384802326947\n",
      "[LightGBM] [Warning] bagging_freq is set=1, subsample_freq=0 will be ignored. Current value: bagging_freq=1\n",
      "Training until validation scores don't improve for 100 rounds\n",
      "[100]\ttraining's l1: 1.02392\tvalid_1's l1: 0.933661\n",
      "[200]\ttraining's l1: 1.01663\tvalid_1's l1: 0.929431\n",
      "[300]\ttraining's l1: 1.01546\tvalid_1's l1: 0.928902\n"
     ]
    },
    {
     "name": "stderr",
     "output_type": "stream",
     "text": [
      "\u001b[32m[I 2021-07-12 00:00:11,904]\u001b[0m Trial 12 finished with value: -0.9288908688682741 and parameters: {'max_depth': 5, 'min_child_weight': 10, 'subsample': 0.6, 'colsample_bytree': 0.6, 'reg_lambda': 6.591195734482084, 'reg_alpha': 0.10726489993524839, 'feature_fraction': 0.8173234548899512, 'bagging_fraction': 0.6106384802326947, 'bagging_freq': 1}. Best is trial 12 with value: -0.9288908688682741.\u001b[0m\n"
     ]
    },
    {
     "name": "stdout",
     "output_type": "stream",
     "text": [
      "Early stopping, best iteration is:\n",
      "[299]\ttraining's l1: 1.01546\tvalid_1's l1: 0.928901\n",
      "[LightGBM] [Warning] feature_fraction is set=0.8472137290523208, colsample_bytree=0.6 will be ignored. Current value: feature_fraction=0.8472137290523208\n",
      "[LightGBM] [Warning] bagging_fraction is set=0.6059181711214946, subsample=0.6 will be ignored. Current value: bagging_fraction=0.6059181711214946\n",
      "[LightGBM] [Warning] bagging_freq is set=8, subsample_freq=0 will be ignored. Current value: bagging_freq=8\n",
      "Training until validation scores don't improve for 100 rounds\n",
      "[100]\ttraining's l1: 1.03496\tvalid_1's l1: 0.943676\n",
      "[200]\ttraining's l1: 1.03441\tvalid_1's l1: 0.943235\n"
     ]
    },
    {
     "name": "stderr",
     "output_type": "stream",
     "text": [
      "\u001b[32m[I 2021-07-12 00:00:18,799]\u001b[0m Trial 13 finished with value: -0.9432173429221749 and parameters: {'max_depth': 7, 'min_child_weight': 9, 'subsample': 0.6, 'colsample_bytree': 0.6, 'reg_lambda': 5.077274229895632, 'reg_alpha': 0.107442937328894, 'feature_fraction': 0.8472137290523208, 'bagging_fraction': 0.6059181711214946, 'bagging_freq': 8}. Best is trial 12 with value: -0.9288908688682741.\u001b[0m\n"
     ]
    },
    {
     "name": "stdout",
     "output_type": "stream",
     "text": [
      "Early stopping, best iteration is:\n",
      "[167]\ttraining's l1: 1.03444\tvalid_1's l1: 0.943218\n",
      "[LightGBM] [Warning] feature_fraction is set=0.9932025777927624, colsample_bytree=0.6 will be ignored. Current value: feature_fraction=0.9932025777927624\n",
      "[LightGBM] [Warning] bagging_fraction is set=0.6160635890135994, subsample=0.6 will be ignored. Current value: bagging_fraction=0.6160635890135994\n",
      "[LightGBM] [Warning] bagging_freq is set=6, subsample_freq=0 will be ignored. Current value: bagging_freq=6\n",
      "Training until validation scores don't improve for 100 rounds\n",
      "[100]\ttraining's l1: 1.03109\tvalid_1's l1: 0.940547\n",
      "[200]\ttraining's l1: 1.02936\tvalid_1's l1: 0.939113\n",
      "[300]\ttraining's l1: 1.02885\tvalid_1's l1: 0.938647\n",
      "[400]\ttraining's l1: 1.02628\tvalid_1's l1: 0.935305\n",
      "[500]\ttraining's l1: 1.02504\tvalid_1's l1: 0.933362\n",
      "[600]\ttraining's l1: 1.02339\tvalid_1's l1: 0.931504\n",
      "[700]\ttraining's l1: 1.02213\tvalid_1's l1: 0.93155\n"
     ]
    },
    {
     "name": "stderr",
     "output_type": "stream",
     "text": [
      "\u001b[32m[I 2021-07-12 00:00:37,392]\u001b[0m Trial 14 finished with value: -0.9312714439148785 and parameters: {'max_depth': 6, 'min_child_weight': 10, 'subsample': 0.6, 'colsample_bytree': 0.6, 'reg_lambda': 17.807656266023344, 'reg_alpha': 3.859021870121363, 'feature_fraction': 0.9932025777927624, 'bagging_fraction': 0.6160635890135994, 'bagging_freq': 6}. Best is trial 12 with value: -0.9288908688682741.\u001b[0m\n"
     ]
    },
    {
     "name": "stdout",
     "output_type": "stream",
     "text": [
      "Early stopping, best iteration is:\n",
      "[659]\ttraining's l1: 1.02245\tvalid_1's l1: 0.931299\n",
      "[LightGBM] [Warning] feature_fraction is set=0.6043119991695086, colsample_bytree=0.5 will be ignored. Current value: feature_fraction=0.6043119991695086\n",
      "[LightGBM] [Warning] bagging_fraction is set=0.653691648685236, subsample=0.5 will be ignored. Current value: bagging_fraction=0.653691648685236\n",
      "[LightGBM] [Warning] bagging_freq is set=1, subsample_freq=0 will be ignored. Current value: bagging_freq=1\n",
      "Training until validation scores don't improve for 100 rounds\n",
      "[100]\ttraining's l1: 1.05994\tvalid_1's l1: 0.972073\n"
     ]
    },
    {
     "name": "stderr",
     "output_type": "stream",
     "text": [
      "\u001b[32m[I 2021-07-12 00:00:40,951]\u001b[0m Trial 15 finished with value: -0.9720310409098513 and parameters: {'max_depth': 1, 'min_child_weight': 5, 'subsample': 0.5, 'colsample_bytree': 0.5, 'reg_lambda': 0.7842154801219093, 'reg_alpha': 0.05850883467373034, 'feature_fraction': 0.6043119991695086, 'bagging_fraction': 0.653691648685236, 'bagging_freq': 1}. Best is trial 12 with value: -0.9288908688682741.\u001b[0m\n"
     ]
    },
    {
     "name": "stdout",
     "output_type": "stream",
     "text": [
      "Early stopping, best iteration is:\n",
      "[20]\ttraining's l1: 1.06006\tvalid_1's l1: 0.972031\n",
      "[LightGBM] [Warning] feature_fraction is set=0.8173907190692733, colsample_bytree=0.6 will be ignored. Current value: feature_fraction=0.8173907190692733\n",
      "[LightGBM] [Warning] bagging_fraction is set=0.8002556824964465, subsample=0.6 will be ignored. Current value: bagging_fraction=0.8002556824964465\n",
      "[LightGBM] [Warning] bagging_freq is set=5, subsample_freq=0 will be ignored. Current value: bagging_freq=5\n",
      "Training until validation scores don't improve for 100 rounds\n",
      "[100]\ttraining's l1: 1.03649\tvalid_1's l1: 0.945085\n",
      "[200]\ttraining's l1: 1.03577\tvalid_1's l1: 0.944649\n",
      "[300]\ttraining's l1: 1.03503\tvalid_1's l1: 0.943826\n",
      "[400]\ttraining's l1: 1.03327\tvalid_1's l1: 0.94243\n",
      "[500]\ttraining's l1: 1.03227\tvalid_1's l1: 0.941806\n",
      "[600]\ttraining's l1: 1.03108\tvalid_1's l1: 0.940913\n",
      "[700]\ttraining's l1: 1.03085\tvalid_1's l1: 0.94092\n",
      "[800]\ttraining's l1: 1.02931\tvalid_1's l1: 0.939485\n",
      "[900]\ttraining's l1: 1.02902\tvalid_1's l1: 0.939335\n",
      "[1000]\ttraining's l1: 1.02631\tvalid_1's l1: 0.937378\n",
      "[1100]\ttraining's l1: 1.02554\tvalid_1's l1: 0.936515\n",
      "[1200]\ttraining's l1: 1.02433\tvalid_1's l1: 0.935115\n",
      "[1300]\ttraining's l1: 1.02274\tvalid_1's l1: 0.934114\n",
      "[1400]\ttraining's l1: 1.02098\tvalid_1's l1: 0.932232\n",
      "[1500]\ttraining's l1: 1.01961\tvalid_1's l1: 0.931389\n",
      "Early stopping, best iteration is:\n",
      "[1437]\ttraining's l1: 1.02047\tvalid_1's l1: 0.931155\n"
     ]
    },
    {
     "name": "stderr",
     "output_type": "stream",
     "text": [
      "\u001b[32m[I 2021-07-12 00:01:24,050]\u001b[0m Trial 16 finished with value: -0.9311219770067068 and parameters: {'max_depth': 9, 'min_child_weight': 16, 'subsample': 0.6, 'colsample_bytree': 0.6, 'reg_lambda': 77.410993276452, 'reg_alpha': 0.38378649943106824, 'feature_fraction': 0.8173907190692733, 'bagging_fraction': 0.8002556824964465, 'bagging_freq': 5}. Best is trial 12 with value: -0.9288908688682741.\u001b[0m\n"
     ]
    },
    {
     "name": "stdout",
     "output_type": "stream",
     "text": [
      "[LightGBM] [Warning] feature_fraction is set=0.9249657982936642, colsample_bytree=0.5 will be ignored. Current value: feature_fraction=0.9249657982936642\n",
      "[LightGBM] [Warning] bagging_fraction is set=0.5517979111643823, subsample=0.9 will be ignored. Current value: bagging_fraction=0.5517979111643823\n",
      "[LightGBM] [Warning] bagging_freq is set=9, subsample_freq=0 will be ignored. Current value: bagging_freq=9\n",
      "Training until validation scores don't improve for 100 rounds\n",
      "[100]\ttraining's l1: 1.02821\tvalid_1's l1: 0.935583\n",
      "[200]\ttraining's l1: 1.02359\tvalid_1's l1: 0.932567\n",
      "[300]\ttraining's l1: 1.02115\tvalid_1's l1: 0.931236\n"
     ]
    },
    {
     "name": "stderr",
     "output_type": "stream",
     "text": [
      "\u001b[32m[I 2021-07-12 00:01:31,516]\u001b[0m Trial 17 finished with value: -0.930969520604141 and parameters: {'max_depth': 4, 'min_child_weight': 11, 'subsample': 0.9, 'colsample_bytree': 0.5, 'reg_lambda': 0.7786135961844048, 'reg_alpha': 0.022789203095762413, 'feature_fraction': 0.9249657982936642, 'bagging_fraction': 0.5517979111643823, 'bagging_freq': 9}. Best is trial 12 with value: -0.9288908688682741.\u001b[0m\n"
     ]
    },
    {
     "name": "stdout",
     "output_type": "stream",
     "text": [
      "Early stopping, best iteration is:\n",
      "[242]\ttraining's l1: 1.02183\tvalid_1's l1: 0.930983\n",
      "[LightGBM] [Warning] feature_fraction is set=0.8579812045970906, colsample_bytree=0.8 will be ignored. Current value: feature_fraction=0.8579812045970906\n",
      "[LightGBM] [Warning] bagging_fraction is set=0.4034411592740571, subsample=0.7 will be ignored. Current value: bagging_fraction=0.4034411592740571\n",
      "[LightGBM] [Warning] bagging_freq is set=4, subsample_freq=0 will be ignored. Current value: bagging_freq=4\n",
      "Training until validation scores don't improve for 100 rounds\n",
      "[100]\ttraining's l1: 1.04317\tvalid_1's l1: 0.9487\n",
      "[200]\ttraining's l1: 1.04048\tvalid_1's l1: 0.94579\n",
      "[300]\ttraining's l1: 1.03821\tvalid_1's l1: 0.943388\n",
      "[400]\ttraining's l1: 1.03774\tvalid_1's l1: 0.942745\n",
      "[500]\ttraining's l1: 1.03698\tvalid_1's l1: 0.941905\n",
      "[600]\ttraining's l1: 1.03666\tvalid_1's l1: 0.941636\n",
      "[700]\ttraining's l1: 1.03651\tvalid_1's l1: 0.941536\n"
     ]
    },
    {
     "name": "stderr",
     "output_type": "stream",
     "text": [
      "\u001b[32m[I 2021-07-12 00:01:42,445]\u001b[0m Trial 18 finished with value: -0.9414219008002933 and parameters: {'max_depth': 2, 'min_child_weight': 6, 'subsample': 0.7, 'colsample_bytree': 0.8, 'reg_lambda': 0.14564135518641722, 'reg_alpha': 15.528568134684226, 'feature_fraction': 0.8579812045970906, 'bagging_fraction': 0.4034411592740571, 'bagging_freq': 4}. Best is trial 12 with value: -0.9288908688682741.\u001b[0m\n"
     ]
    },
    {
     "name": "stdout",
     "output_type": "stream",
     "text": [
      "Early stopping, best iteration is:\n",
      "[627]\ttraining's l1: 1.03655\tvalid_1's l1: 0.941451\n",
      "[LightGBM] [Warning] feature_fraction is set=0.73309085169172, colsample_bytree=0.6 will be ignored. Current value: feature_fraction=0.73309085169172\n",
      "[LightGBM] [Warning] bagging_fraction is set=0.6711542268082695, subsample=0.8 will be ignored. Current value: bagging_fraction=0.6711542268082695\n",
      "[LightGBM] [Warning] bagging_freq is set=1, subsample_freq=0 will be ignored. Current value: bagging_freq=1\n",
      "Training until validation scores don't improve for 100 rounds\n",
      "[100]\ttraining's l1: 1.02354\tvalid_1's l1: 0.93104\n",
      "[200]\ttraining's l1: 1.01782\tvalid_1's l1: 0.929431\n"
     ]
    },
    {
     "name": "stderr",
     "output_type": "stream",
     "text": [
      "\u001b[32m[I 2021-07-12 00:01:49,689]\u001b[0m Trial 19 finished with value: -0.9294056756061653 and parameters: {'max_depth': 5, 'min_child_weight': 20, 'subsample': 0.8, 'colsample_bytree': 0.6, 'reg_lambda': 2.918876968332782, 'reg_alpha': 0.001180374676971829, 'feature_fraction': 0.73309085169172, 'bagging_fraction': 0.6711542268082695, 'bagging_freq': 1}. Best is trial 12 with value: -0.9288908688682741.\u001b[0m\n"
     ]
    },
    {
     "name": "stdout",
     "output_type": "stream",
     "text": [
      "Early stopping, best iteration is:\n",
      "[183]\ttraining's l1: 1.01786\tvalid_1's l1: 0.929413\n",
      "[LightGBM] [Warning] feature_fraction is set=0.615030973718821, colsample_bytree=0.7 will be ignored. Current value: feature_fraction=0.615030973718821\n",
      "[LightGBM] [Warning] bagging_fraction is set=0.5657539597451069, subsample=0.8 will be ignored. Current value: bagging_fraction=0.5657539597451069\n",
      "[LightGBM] [Warning] bagging_freq is set=1, subsample_freq=0 will be ignored. Current value: bagging_freq=1\n",
      "Training until validation scores don't improve for 100 rounds\n",
      "[100]\ttraining's l1: 1.03619\tvalid_1's l1: 0.944223\n"
     ]
    },
    {
     "name": "stderr",
     "output_type": "stream",
     "text": [
      "\u001b[32m[I 2021-07-12 00:01:54,270]\u001b[0m Trial 20 finished with value: -0.9442088659069081 and parameters: {'max_depth': 9, 'min_child_weight': 20, 'subsample': 0.8, 'colsample_bytree': 0.7, 'reg_lambda': 3.914552391531952, 'reg_alpha': 0.0012066099395988627, 'feature_fraction': 0.615030973718821, 'bagging_fraction': 0.5657539597451069, 'bagging_freq': 1}. Best is trial 12 with value: -0.9288908688682741.\u001b[0m\n"
     ]
    },
    {
     "name": "stdout",
     "output_type": "stream",
     "text": [
      "Early stopping, best iteration is:\n",
      "[56]\ttraining's l1: 1.03627\tvalid_1's l1: 0.944209\n",
      "[LightGBM] [Warning] feature_fraction is set=0.7763579322184515, colsample_bytree=0.6 will be ignored. Current value: feature_fraction=0.7763579322184515\n",
      "[LightGBM] [Warning] bagging_fraction is set=0.6725098542298554, subsample=0.8 will be ignored. Current value: bagging_fraction=0.6725098542298554\n",
      "[LightGBM] [Warning] bagging_freq is set=1, subsample_freq=0 will be ignored. Current value: bagging_freq=1\n",
      "Training until validation scores don't improve for 100 rounds\n",
      "[100]\ttraining's l1: 1.02533\tvalid_1's l1: 0.934954\n",
      "[200]\ttraining's l1: 1.01922\tvalid_1's l1: 0.932721\n"
     ]
    },
    {
     "name": "stderr",
     "output_type": "stream",
     "text": [
      "\u001b[32m[I 2021-07-12 00:02:01,155]\u001b[0m Trial 21 finished with value: -0.932425654520912 and parameters: {'max_depth': 5, 'min_child_weight': 15, 'subsample': 0.8, 'colsample_bytree': 0.6, 'reg_lambda': 35.50066519258885, 'reg_alpha': 0.0010192324570038951, 'feature_fraction': 0.7763579322184515, 'bagging_fraction': 0.6725098542298554, 'bagging_freq': 1}. Best is trial 12 with value: -0.9288908688682741.\u001b[0m\n"
     ]
    },
    {
     "name": "stdout",
     "output_type": "stream",
     "text": [
      "Early stopping, best iteration is:\n",
      "[162]\ttraining's l1: 1.02024\tvalid_1's l1: 0.932438\n",
      "[LightGBM] [Warning] feature_fraction is set=0.7227010146048467, colsample_bytree=0.6 will be ignored. Current value: feature_fraction=0.7227010146048467\n",
      "[LightGBM] [Warning] bagging_fraction is set=0.7924829027499419, subsample=0.7 will be ignored. Current value: bagging_fraction=0.7924829027499419\n",
      "[LightGBM] [Warning] bagging_freq is set=3, subsample_freq=0 will be ignored. Current value: bagging_freq=3\n",
      "Training until validation scores don't improve for 100 rounds\n",
      "[100]\ttraining's l1: 1.03668\tvalid_1's l1: 0.945143\n",
      "[200]\ttraining's l1: 1.03633\tvalid_1's l1: 0.944814\n",
      "[300]\ttraining's l1: 1.03625\tvalid_1's l1: 0.944624\n",
      "[400]\ttraining's l1: 1.03595\tvalid_1's l1: 0.944854\n"
     ]
    },
    {
     "name": "stderr",
     "output_type": "stream",
     "text": [
      "\u001b[32m[I 2021-07-12 00:02:14,945]\u001b[0m Trial 22 finished with value: -0.9446211210453873 and parameters: {'max_depth': 8, 'min_child_weight': 18, 'subsample': 0.7, 'colsample_bytree': 0.6, 'reg_lambda': 4.699615178034698, 'reg_alpha': 0.031182696701652097, 'feature_fraction': 0.7227010146048467, 'bagging_fraction': 0.7924829027499419, 'bagging_freq': 3}. Best is trial 12 with value: -0.9288908688682741.\u001b[0m\n"
     ]
    },
    {
     "name": "stdout",
     "output_type": "stream",
     "text": [
      "Early stopping, best iteration is:\n",
      "[345]\ttraining's l1: 1.03623\tvalid_1's l1: 0.944622\n",
      "[LightGBM] [Warning] feature_fraction is set=0.8286376810416494, colsample_bytree=0.5 will be ignored. Current value: feature_fraction=0.8286376810416494\n",
      "[LightGBM] [Warning] bagging_fraction is set=0.6704801561912481, subsample=0.9 will be ignored. Current value: bagging_fraction=0.6704801561912481\n",
      "[LightGBM] [Warning] bagging_freq is set=3, subsample_freq=0 will be ignored. Current value: bagging_freq=3\n",
      "Training until validation scores don't improve for 100 rounds\n",
      "[100]\ttraining's l1: 1.03685\tvalid_1's l1: 0.944428\n",
      "[200]\ttraining's l1: 1.03684\tvalid_1's l1: 0.9444\n",
      "[300]\ttraining's l1: 1.03681\tvalid_1's l1: 0.944383\n",
      "[400]\ttraining's l1: 1.03643\tvalid_1's l1: 0.943961\n"
     ]
    },
    {
     "name": "stderr",
     "output_type": "stream",
     "text": [
      "\u001b[32m[I 2021-07-12 00:02:27,501]\u001b[0m Trial 23 finished with value: -0.9439591322365327 and parameters: {'max_depth': 12, 'min_child_weight': 11, 'subsample': 0.9, 'colsample_bytree': 0.5, 'reg_lambda': 0.1856245959009059, 'reg_alpha': 0.2513983902339469, 'feature_fraction': 0.8286376810416494, 'bagging_fraction': 0.6704801561912481, 'bagging_freq': 3}. Best is trial 12 with value: -0.9288908688682741.\u001b[0m\n"
     ]
    },
    {
     "name": "stdout",
     "output_type": "stream",
     "text": [
      "Early stopping, best iteration is:\n",
      "[327]\ttraining's l1: 1.03643\tvalid_1's l1: 0.94396\n",
      "[LightGBM] [Warning] feature_fraction is set=0.6900037761717375, colsample_bytree=0.6 will be ignored. Current value: feature_fraction=0.6900037761717375\n",
      "[LightGBM] [Warning] bagging_fraction is set=0.5683723246867363, subsample=0.6 will be ignored. Current value: bagging_fraction=0.5683723246867363\n",
      "[LightGBM] [Warning] bagging_freq is set=1, subsample_freq=0 will be ignored. Current value: bagging_freq=1\n",
      "Training until validation scores don't improve for 100 rounds\n",
      "[100]\ttraining's l1: 1.02628\tvalid_1's l1: 0.937835\n",
      "[200]\ttraining's l1: 1.02183\tvalid_1's l1: 0.933581\n"
     ]
    },
    {
     "name": "stderr",
     "output_type": "stream",
     "text": [
      "\u001b[32m[I 2021-07-12 00:02:34,100]\u001b[0m Trial 24 finished with value: -0.9335664763664605 and parameters: {'max_depth': 5, 'min_child_weight': 20, 'subsample': 0.6, 'colsample_bytree': 0.6, 'reg_lambda': 100.01303028761735, 'reg_alpha': 1.8349606384169646, 'feature_fraction': 0.6900037761717375, 'bagging_fraction': 0.5683723246867363, 'bagging_freq': 1}. Best is trial 12 with value: -0.9288908688682741.\u001b[0m\n"
     ]
    },
    {
     "name": "stdout",
     "output_type": "stream",
     "text": [
      "[300]\ttraining's l1: 1.02176\tvalid_1's l1: 0.933635\n",
      "Early stopping, best iteration is:\n",
      "[201]\ttraining's l1: 1.0218\tvalid_1's l1: 0.933571\n",
      "[LightGBM] [Warning] feature_fraction is set=0.9269379057635594, colsample_bytree=0.7 will be ignored. Current value: feature_fraction=0.9269379057635594\n",
      "[LightGBM] [Warning] bagging_fraction is set=0.7645871688784467, subsample=0.8 will be ignored. Current value: bagging_fraction=0.7645871688784467\n",
      "[LightGBM] [Warning] bagging_freq is set=7, subsample_freq=0 will be ignored. Current value: bagging_freq=7\n",
      "Training until validation scores don't improve for 100 rounds\n",
      "[100]\ttraining's l1: 1.03583\tvalid_1's l1: 0.942043\n",
      "[200]\ttraining's l1: 1.03111\tvalid_1's l1: 0.93769\n",
      "[300]\ttraining's l1: 1.02889\tvalid_1's l1: 0.935735\n",
      "[400]\ttraining's l1: 1.02716\tvalid_1's l1: 0.935599\n"
     ]
    },
    {
     "name": "stderr",
     "output_type": "stream",
     "text": [
      "\u001b[32m[I 2021-07-12 00:02:45,562]\u001b[0m Trial 25 finished with value: -0.9353352404900552 and parameters: {'max_depth': 3, 'min_child_weight': 12, 'subsample': 0.8, 'colsample_bytree': 0.7, 'reg_lambda': 1.9938799341635114, 'reg_alpha': 0.02435324392056479, 'feature_fraction': 0.9269379057635594, 'bagging_fraction': 0.7645871688784467, 'bagging_freq': 7}. Best is trial 12 with value: -0.9288908688682741.\u001b[0m\n"
     ]
    },
    {
     "name": "stdout",
     "output_type": "stream",
     "text": [
      "Early stopping, best iteration is:\n",
      "[362]\ttraining's l1: 1.0276\tvalid_1's l1: 0.935356\n",
      "[LightGBM] [Warning] feature_fraction is set=0.6289637433967613, colsample_bytree=0.6 will be ignored. Current value: feature_fraction=0.6289637433967613\n",
      "[LightGBM] [Warning] bagging_fraction is set=0.6966711807790226, subsample=0.7 will be ignored. Current value: bagging_fraction=0.6966711807790226\n",
      "[LightGBM] [Warning] bagging_freq is set=9, subsample_freq=0 will be ignored. Current value: bagging_freq=9\n",
      "Training until validation scores don't improve for 100 rounds\n",
      "[100]\ttraining's l1: 1.03029\tvalid_1's l1: 0.938457\n",
      "[200]\ttraining's l1: 1.02942\tvalid_1's l1: 0.937516\n"
     ]
    },
    {
     "name": "stderr",
     "output_type": "stream",
     "text": [
      "\u001b[32m[I 2021-07-12 00:02:52,119]\u001b[0m Trial 26 finished with value: -0.9374573056843961 and parameters: {'max_depth': 6, 'min_child_weight': 9, 'subsample': 0.7, 'colsample_bytree': 0.6, 'reg_lambda': 15.336270040150902, 'reg_alpha': 0.01134133586960994, 'feature_fraction': 0.6289637433967613, 'bagging_fraction': 0.6966711807790226, 'bagging_freq': 9}. Best is trial 12 with value: -0.9288908688682741.\u001b[0m\n"
     ]
    },
    {
     "name": "stdout",
     "output_type": "stream",
     "text": [
      "Early stopping, best iteration is:\n",
      "[143]\ttraining's l1: 1.02947\tvalid_1's l1: 0.937458\n",
      "[LightGBM] [Warning] feature_fraction is set=0.7680236352503769, colsample_bytree=0.5 will be ignored. Current value: feature_fraction=0.7680236352503769\n",
      "[LightGBM] [Warning] bagging_fraction is set=0.6320535216715776, subsample=0.7 will be ignored. Current value: bagging_fraction=0.6320535216715776\n",
      "[LightGBM] [Warning] bagging_freq is set=2, subsample_freq=0 will be ignored. Current value: bagging_freq=2\n",
      "Training until validation scores don't improve for 100 rounds\n",
      "[100]\ttraining's l1: 1.0438\tvalid_1's l1: 0.949501\n",
      "[200]\ttraining's l1: 1.03983\tvalid_1's l1: 0.944724\n",
      "[300]\ttraining's l1: 1.03831\tvalid_1's l1: 0.942468\n",
      "[400]\ttraining's l1: 1.03769\tvalid_1's l1: 0.942022\n"
     ]
    },
    {
     "name": "stderr",
     "output_type": "stream",
     "text": [
      "\u001b[32m[I 2021-07-12 00:03:03,953]\u001b[0m Trial 27 finished with value: -0.9418520402554724 and parameters: {'max_depth': 2, 'min_child_weight': 16, 'subsample': 0.7, 'colsample_bytree': 0.5, 'reg_lambda': 0.34597177821776587, 'reg_alpha': 0.1937914313967551, 'feature_fraction': 0.7680236352503769, 'bagging_fraction': 0.6320535216715776, 'bagging_freq': 2}. Best is trial 12 with value: -0.9288908688682741.\u001b[0m\n"
     ]
    },
    {
     "name": "stdout",
     "output_type": "stream",
     "text": [
      "Early stopping, best iteration is:\n",
      "[356]\ttraining's l1: 1.03794\tvalid_1's l1: 0.941872\n",
      "[LightGBM] [Warning] feature_fraction is set=0.8669885966201676, colsample_bytree=0.6 will be ignored. Current value: feature_fraction=0.8669885966201676\n",
      "[LightGBM] [Warning] bagging_fraction is set=0.5124175876725215, subsample=0.6 will be ignored. Current value: bagging_fraction=0.5124175876725215\n",
      "[LightGBM] [Warning] bagging_freq is set=4, subsample_freq=0 will be ignored. Current value: bagging_freq=4\n",
      "Training until validation scores don't improve for 100 rounds\n",
      "[100]\ttraining's l1: 1.0349\tvalid_1's l1: 0.943904\n"
     ]
    },
    {
     "name": "stderr",
     "output_type": "stream",
     "text": [
      "\u001b[32m[I 2021-07-12 00:03:08,417]\u001b[0m Trial 28 finished with value: -0.9438107775341729 and parameters: {'max_depth': 7, 'min_child_weight': 1, 'subsample': 0.6, 'colsample_bytree': 0.6, 'reg_lambda': 23.641902285997205, 'reg_alpha': 1.1107401093637546, 'feature_fraction': 0.8669885966201676, 'bagging_fraction': 0.5124175876725215, 'bagging_freq': 4}. Best is trial 12 with value: -0.9288908688682741.\u001b[0m\n"
     ]
    },
    {
     "name": "stdout",
     "output_type": "stream",
     "text": [
      "Early stopping, best iteration is:\n",
      "[46]\ttraining's l1: 1.03503\tvalid_1's l1: 0.943811\n",
      "[LightGBM] [Warning] feature_fraction is set=0.7171266946056063, colsample_bytree=0.7 will be ignored. Current value: feature_fraction=0.7171266946056063\n",
      "[LightGBM] [Warning] bagging_fraction is set=0.7016680294676934, subsample=0.5 will be ignored. Current value: bagging_fraction=0.7016680294676934\n",
      "[LightGBM] [Warning] bagging_freq is set=6, subsample_freq=0 will be ignored. Current value: bagging_freq=6\n",
      "Training until validation scores don't improve for 100 rounds\n",
      "[100]\ttraining's l1: 1.02624\tvalid_1's l1: 0.936081\n",
      "[200]\ttraining's l1: 1.02155\tvalid_1's l1: 0.93295\n"
     ]
    },
    {
     "name": "stderr",
     "output_type": "stream",
     "text": [
      "\u001b[32m[I 2021-07-12 00:03:15,606]\u001b[0m Trial 29 finished with value: -0.9327511077973327 and parameters: {'max_depth': 5, 'min_child_weight': 4, 'subsample': 0.5, 'colsample_bytree': 0.7, 'reg_lambda': 204.79712870142097, 'reg_alpha': 0.0015143969039757193, 'feature_fraction': 0.7171266946056063, 'bagging_fraction': 0.7016680294676934, 'bagging_freq': 6}. Best is trial 12 with value: -0.9288908688682741.\u001b[0m\n"
     ]
    },
    {
     "name": "stdout",
     "output_type": "stream",
     "text": [
      "Early stopping, best iteration is:\n",
      "[162]\ttraining's l1: 1.0223\tvalid_1's l1: 0.932761\n",
      "[LightGBM] [Warning] feature_fraction is set=0.8075944337895397, colsample_bytree=0.5 will be ignored. Current value: feature_fraction=0.8075944337895397\n",
      "[LightGBM] [Warning] bagging_fraction is set=0.8510820259014634, subsample=0.8 will be ignored. Current value: bagging_fraction=0.8510820259014634\n",
      "[LightGBM] [Warning] bagging_freq is set=2, subsample_freq=0 will be ignored. Current value: bagging_freq=2\n",
      "Training until validation scores don't improve for 100 rounds\n",
      "[100]\ttraining's l1: 1.03735\tvalid_1's l1: 0.946606\n",
      "[200]\ttraining's l1: 1.03714\tvalid_1's l1: 0.946347\n",
      "[300]\ttraining's l1: 1.03701\tvalid_1's l1: 0.946058\n",
      "[400]\ttraining's l1: 1.03692\tvalid_1's l1: 0.946019\n",
      "[500]\ttraining's l1: 1.03584\tvalid_1's l1: 0.945223\n",
      "[600]\ttraining's l1: 1.03565\tvalid_1's l1: 0.944865\n",
      "[700]\ttraining's l1: 1.03491\tvalid_1's l1: 0.94399\n",
      "[800]\ttraining's l1: 1.03106\tvalid_1's l1: 0.939468\n"
     ]
    },
    {
     "name": "stderr",
     "output_type": "stream",
     "text": [
      "\u001b[32m[I 2021-07-12 00:03:48,082]\u001b[0m Trial 30 finished with value: -0.9394401088184864 and parameters: {'max_depth': 11, 'min_child_weight': 18, 'subsample': 0.8, 'colsample_bytree': 0.5, 'reg_lambda': 8.3115534347937, 'reg_alpha': 0.0022186000687095036, 'feature_fraction': 0.8075944337895397, 'bagging_fraction': 0.8510820259014634, 'bagging_freq': 2}. Best is trial 12 with value: -0.9288908688682741.\u001b[0m\n"
     ]
    },
    {
     "name": "stdout",
     "output_type": "stream",
     "text": [
      "Early stopping, best iteration is:\n",
      "[785]\ttraining's l1: 1.03107\tvalid_1's l1: 0.939448\n",
      "[LightGBM] [Warning] feature_fraction is set=0.9424542486727631, colsample_bytree=0.5 will be ignored. Current value: feature_fraction=0.9424542486727631\n",
      "[LightGBM] [Warning] bagging_fraction is set=0.5475320412852629, subsample=0.9 will be ignored. Current value: bagging_fraction=0.5475320412852629\n",
      "[LightGBM] [Warning] bagging_freq is set=9, subsample_freq=0 will be ignored. Current value: bagging_freq=9\n",
      "Training until validation scores don't improve for 100 rounds\n",
      "[100]\ttraining's l1: 1.02898\tvalid_1's l1: 0.938589\n",
      "[200]\ttraining's l1: 1.0246\tvalid_1's l1: 0.935694\n",
      "[300]\ttraining's l1: 1.02147\tvalid_1's l1: 0.933795\n",
      "[400]\ttraining's l1: 1.0202\tvalid_1's l1: 0.932749\n",
      "[500]\ttraining's l1: 1.01828\tvalid_1's l1: 0.931582\n",
      "[600]\ttraining's l1: 1.01704\tvalid_1's l1: 0.929949\n",
      "[700]\ttraining's l1: 1.0149\tvalid_1's l1: 0.928511\n"
     ]
    },
    {
     "name": "stderr",
     "output_type": "stream",
     "text": [
      "\u001b[32m[I 2021-07-12 00:04:02,710]\u001b[0m Trial 31 finished with value: -0.9280700585006146 and parameters: {'max_depth': 4, 'min_child_weight': 11, 'subsample': 0.9, 'colsample_bytree': 0.5, 'reg_lambda': 0.5874999083547201, 'reg_alpha': 0.022074740088932333, 'feature_fraction': 0.9424542486727631, 'bagging_fraction': 0.5475320412852629, 'bagging_freq': 9}. Best is trial 31 with value: -0.9280700585006146.\u001b[0m\n"
     ]
    },
    {
     "name": "stdout",
     "output_type": "stream",
     "text": [
      "Early stopping, best iteration is:\n",
      "[648]\ttraining's l1: 1.01586\tvalid_1's l1: 0.928107\n",
      "[LightGBM] [Warning] feature_fraction is set=0.9550413260753048, colsample_bytree=0.5 will be ignored. Current value: feature_fraction=0.9550413260753048\n",
      "[LightGBM] [Warning] bagging_fraction is set=0.4874935789669953, subsample=0.9 will be ignored. Current value: bagging_fraction=0.4874935789669953\n",
      "[LightGBM] [Warning] bagging_freq is set=8, subsample_freq=0 will be ignored. Current value: bagging_freq=8\n",
      "Training until validation scores don't improve for 100 rounds\n",
      "[100]\ttraining's l1: 1.0356\tvalid_1's l1: 0.94271\n",
      "[200]\ttraining's l1: 1.03076\tvalid_1's l1: 0.938258\n",
      "[300]\ttraining's l1: 1.02922\tvalid_1's l1: 0.936789\n",
      "[400]\ttraining's l1: 1.02811\tvalid_1's l1: 0.935976\n",
      "[500]\ttraining's l1: 1.02688\tvalid_1's l1: 0.935345\n",
      "[600]\ttraining's l1: 1.02586\tvalid_1's l1: 0.934535\n",
      "[700]\ttraining's l1: 1.025\tvalid_1's l1: 0.933723\n",
      "[800]\ttraining's l1: 1.02443\tvalid_1's l1: 0.933345\n"
     ]
    },
    {
     "name": "stderr",
     "output_type": "stream",
     "text": [
      "\u001b[32m[I 2021-07-12 00:04:17,122]\u001b[0m Trial 32 finished with value: -0.9332747657841758 and parameters: {'max_depth': 3, 'min_child_weight': 13, 'subsample': 0.9, 'colsample_bytree': 0.5, 'reg_lambda': 0.03110730808761795, 'reg_alpha': 0.04708319137854014, 'feature_fraction': 0.9550413260753048, 'bagging_fraction': 0.4874935789669953, 'bagging_freq': 8}. Best is trial 31 with value: -0.9280700585006146.\u001b[0m\n"
     ]
    },
    {
     "name": "stdout",
     "output_type": "stream",
     "text": [
      "Early stopping, best iteration is:\n",
      "[749]\ttraining's l1: 1.02474\tvalid_1's l1: 0.933297\n",
      "[LightGBM] [Warning] feature_fraction is set=0.9049919991413167, colsample_bytree=0.6 will be ignored. Current value: feature_fraction=0.9049919991413167\n",
      "[LightGBM] [Warning] bagging_fraction is set=0.5338796477556306, subsample=0.9 will be ignored. Current value: bagging_fraction=0.5338796477556306\n",
      "[LightGBM] [Warning] bagging_freq is set=10, subsample_freq=0 will be ignored. Current value: bagging_freq=10\n",
      "Training until validation scores don't improve for 100 rounds\n",
      "[100]\ttraining's l1: 1.0293\tvalid_1's l1: 0.935785\n",
      "[200]\ttraining's l1: 1.02403\tvalid_1's l1: 0.931484\n",
      "[300]\ttraining's l1: 1.02153\tvalid_1's l1: 0.929419\n",
      "[400]\ttraining's l1: 1.01901\tvalid_1's l1: 0.92819\n",
      "[500]\ttraining's l1: 1.01807\tvalid_1's l1: 0.928133\n"
     ]
    },
    {
     "name": "stderr",
     "output_type": "stream",
     "text": [
      "\u001b[32m[I 2021-07-12 00:04:27,737]\u001b[0m Trial 33 finished with value: -0.9280438409359819 and parameters: {'max_depth': 4, 'min_child_weight': 10, 'subsample': 0.9, 'colsample_bytree': 0.6, 'reg_lambda': 1.6793103008311847, 'reg_alpha': 0.010854173999965338, 'feature_fraction': 0.9049919991413167, 'bagging_fraction': 0.5338796477556306, 'bagging_freq': 10}. Best is trial 33 with value: -0.9280438409359819.\u001b[0m\n"
     ]
    },
    {
     "name": "stdout",
     "output_type": "stream",
     "text": [
      "Early stopping, best iteration is:\n",
      "[442]\ttraining's l1: 1.01887\tvalid_1's l1: 0.928062\n",
      "[LightGBM] [Warning] feature_fraction is set=0.8935847596619411, colsample_bytree=0.7 will be ignored. Current value: feature_fraction=0.8935847596619411\n",
      "[LightGBM] [Warning] bagging_fraction is set=0.5304226503473857, subsample=0.9 will be ignored. Current value: bagging_fraction=0.5304226503473857\n",
      "[LightGBM] [Warning] bagging_freq is set=10, subsample_freq=0 will be ignored. Current value: bagging_freq=10\n",
      "Training until validation scores don't improve for 100 rounds\n",
      "[100]\ttraining's l1: 1.02857\tvalid_1's l1: 0.93498\n",
      "[200]\ttraining's l1: 1.02369\tvalid_1's l1: 0.93251\n",
      "[300]\ttraining's l1: 1.02199\tvalid_1's l1: 0.931803\n"
     ]
    },
    {
     "name": "stderr",
     "output_type": "stream",
     "text": [
      "\u001b[32m[I 2021-07-12 00:04:35,744]\u001b[0m Trial 34 finished with value: -0.9317506296706539 and parameters: {'max_depth': 4, 'min_child_weight': 8, 'subsample': 0.9, 'colsample_bytree': 0.7, 'reg_lambda': 0.4354455877550891, 'reg_alpha': 0.004986976618042029, 'feature_fraction': 0.8935847596619411, 'bagging_fraction': 0.5304226503473857, 'bagging_freq': 10}. Best is trial 33 with value: -0.9280438409359819.\u001b[0m\n"
     ]
    },
    {
     "name": "stdout",
     "output_type": "stream",
     "text": [
      "Early stopping, best iteration is:\n",
      "[287]\ttraining's l1: 1.02205\tvalid_1's l1: 0.931759\n",
      "[LightGBM] [Warning] feature_fraction is set=0.9648816937337714, colsample_bytree=0.6 will be ignored. Current value: feature_fraction=0.9648816937337714\n",
      "[LightGBM] [Warning] bagging_fraction is set=0.46150438952869705, subsample=0.9 will be ignored. Current value: bagging_fraction=0.46150438952869705\n",
      "[LightGBM] [Warning] bagging_freq is set=8, subsample_freq=0 will be ignored. Current value: bagging_freq=8\n",
      "Training until validation scores don't improve for 100 rounds\n",
      "[100]\ttraining's l1: 1.04331\tvalid_1's l1: 0.948868\n",
      "[200]\ttraining's l1: 1.03971\tvalid_1's l1: 0.944961\n",
      "[300]\ttraining's l1: 1.03851\tvalid_1's l1: 0.943436\n",
      "[400]\ttraining's l1: 1.03779\tvalid_1's l1: 0.94229\n",
      "[500]\ttraining's l1: 1.037\tvalid_1's l1: 0.941608\n",
      "[600]\ttraining's l1: 1.03663\tvalid_1's l1: 0.941448\n",
      "[700]\ttraining's l1: 1.03632\tvalid_1's l1: 0.941275\n",
      "[800]\ttraining's l1: 1.03579\tvalid_1's l1: 0.940419\n",
      "[900]\ttraining's l1: 1.03557\tvalid_1's l1: 0.940223\n"
     ]
    },
    {
     "name": "stderr",
     "output_type": "stream",
     "text": [
      "\u001b[32m[I 2021-07-12 00:04:49,383]\u001b[0m Trial 35 finished with value: -0.9401399157329834 and parameters: {'max_depth': 2, 'min_child_weight': 10, 'subsample': 0.9, 'colsample_bytree': 0.6, 'reg_lambda': 2.3441236671885215, 'reg_alpha': 0.14381157672784073, 'feature_fraction': 0.9648816937337714, 'bagging_fraction': 0.46150438952869705, 'bagging_freq': 8}. Best is trial 33 with value: -0.9280438409359819.\u001b[0m\n"
     ]
    },
    {
     "name": "stdout",
     "output_type": "stream",
     "text": [
      "Early stopping, best iteration is:\n",
      "[826]\ttraining's l1: 1.03559\tvalid_1's l1: 0.940182\n",
      "[LightGBM] [Warning] feature_fraction is set=0.9891660921780099, colsample_bytree=0.5 will be ignored. Current value: feature_fraction=0.9891660921780099\n",
      "[LightGBM] [Warning] bagging_fraction is set=0.5790769143923498, subsample=0.9 will be ignored. Current value: bagging_fraction=0.5790769143923498\n",
      "[LightGBM] [Warning] bagging_freq is set=10, subsample_freq=0 will be ignored. Current value: bagging_freq=10\n",
      "Training until validation scores don't improve for 100 rounds\n",
      "[100]\ttraining's l1: 1.03166\tvalid_1's l1: 0.941061\n",
      "[200]\ttraining's l1: 1.02744\tvalid_1's l1: 0.937013\n",
      "[300]\ttraining's l1: 1.0256\tvalid_1's l1: 0.935055\n",
      "[400]\ttraining's l1: 1.02423\tvalid_1's l1: 0.934136\n",
      "[500]\ttraining's l1: 1.02357\tvalid_1's l1: 0.933563\n",
      "[600]\ttraining's l1: 1.02244\tvalid_1's l1: 0.933406\n"
     ]
    },
    {
     "name": "stderr",
     "output_type": "stream",
     "text": [
      "\u001b[32m[I 2021-07-12 00:05:04,208]\u001b[0m Trial 36 finished with value: -0.9329085013197542 and parameters: {'max_depth': 6, 'min_child_weight': 12, 'subsample': 0.9, 'colsample_bytree': 0.5, 'reg_lambda': 0.35799116414046034, 'reg_alpha': 0.008434082230044312, 'feature_fraction': 0.9891660921780099, 'bagging_fraction': 0.5790769143923498, 'bagging_freq': 10}. Best is trial 33 with value: -0.9280438409359819.\u001b[0m\n"
     ]
    },
    {
     "name": "stdout",
     "output_type": "stream",
     "text": [
      "Early stopping, best iteration is:\n",
      "[547]\ttraining's l1: 1.02302\tvalid_1's l1: 0.932914\n",
      "[LightGBM] [Warning] feature_fraction is set=0.7434657118076017, colsample_bytree=0.6 will be ignored. Current value: feature_fraction=0.7434657118076017\n",
      "[LightGBM] [Warning] bagging_fraction is set=0.40342659005690096, subsample=0.9 will be ignored. Current value: bagging_fraction=0.40342659005690096\n",
      "[LightGBM] [Warning] bagging_freq is set=9, subsample_freq=0 will be ignored. Current value: bagging_freq=9\n",
      "Training until validation scores don't improve for 100 rounds\n",
      "[100]\ttraining's l1: 1.02938\tvalid_1's l1: 0.937179\n",
      "[200]\ttraining's l1: 1.02402\tvalid_1's l1: 0.932747\n",
      "[300]\ttraining's l1: 1.02249\tvalid_1's l1: 0.932062\n"
     ]
    },
    {
     "name": "stderr",
     "output_type": "stream",
     "text": [
      "\u001b[32m[I 2021-07-12 00:05:10,288]\u001b[0m Trial 37 finished with value: -0.9320063558203756 and parameters: {'max_depth': 4, 'min_child_weight': 7, 'subsample': 0.9, 'colsample_bytree': 0.6, 'reg_lambda': 1.6791799207827172, 'reg_alpha': 0.002929201770572694, 'feature_fraction': 0.7434657118076017, 'bagging_fraction': 0.40342659005690096, 'bagging_freq': 9}. Best is trial 33 with value: -0.9280438409359819.\u001b[0m\n"
     ]
    },
    {
     "name": "stdout",
     "output_type": "stream",
     "text": [
      "Early stopping, best iteration is:\n",
      "[258]\ttraining's l1: 1.0225\tvalid_1's l1: 0.932038\n",
      "[LightGBM] [Warning] feature_fraction is set=0.8967424978058107, colsample_bytree=0.8 will be ignored. Current value: feature_fraction=0.8967424978058107\n",
      "[LightGBM] [Warning] bagging_fraction is set=0.5965675311964302, subsample=0.8 will be ignored. Current value: bagging_fraction=0.5965675311964302\n",
      "[LightGBM] [Warning] bagging_freq is set=10, subsample_freq=0 will be ignored. Current value: bagging_freq=10\n",
      "Training until validation scores don't improve for 100 rounds\n",
      "[100]\ttraining's l1: 1.03724\tvalid_1's l1: 0.945719\n"
     ]
    },
    {
     "name": "stderr",
     "output_type": "stream",
     "text": [
      "\u001b[32m[I 2021-07-12 00:05:15,461]\u001b[0m Trial 38 finished with value: -0.9457147144219775 and parameters: {'max_depth': 15, 'min_child_weight': 1, 'subsample': 0.8, 'colsample_bytree': 0.8, 'reg_lambda': 0.051611389477885246, 'reg_alpha': 0.06103614831483939, 'feature_fraction': 0.8967424978058107, 'bagging_fraction': 0.5965675311964302, 'bagging_freq': 10}. Best is trial 33 with value: -0.9280438409359819.\u001b[0m\n"
     ]
    },
    {
     "name": "stdout",
     "output_type": "stream",
     "text": [
      "Early stopping, best iteration is:\n",
      "[68]\ttraining's l1: 1.03726\tvalid_1's l1: 0.945716\n",
      "[LightGBM] [Warning] feature_fraction is set=0.6517619032758184, colsample_bytree=0.7 will be ignored. Current value: feature_fraction=0.6517619032758184\n",
      "[LightGBM] [Warning] bagging_fraction is set=0.5245068171631687, subsample=0.5 will be ignored. Current value: bagging_fraction=0.5245068171631687\n",
      "[LightGBM] [Warning] bagging_freq is set=8, subsample_freq=0 will be ignored. Current value: bagging_freq=8\n",
      "Training until validation scores don't improve for 100 rounds\n",
      "[100]\ttraining's l1: 1.03616\tvalid_1's l1: 0.944844\n",
      "[200]\ttraining's l1: 1.03608\tvalid_1's l1: 0.944712\n",
      "[300]\ttraining's l1: 1.03583\tvalid_1's l1: 0.944488\n",
      "[400]\ttraining's l1: 1.03552\tvalid_1's l1: 0.944173\n",
      "[500]\ttraining's l1: 1.03507\tvalid_1's l1: 0.943419\n",
      "[600]\ttraining's l1: 1.03474\tvalid_1's l1: 0.943271\n",
      "[700]\ttraining's l1: 1.0333\tvalid_1's l1: 0.941989\n",
      "[800]\ttraining's l1: 1.0323\tvalid_1's l1: 0.94177\n",
      "[900]\ttraining's l1: 1.03153\tvalid_1's l1: 0.940364\n",
      "[1000]\ttraining's l1: 1.02964\tvalid_1's l1: 0.937862\n",
      "Early stopping, best iteration is:\n",
      "[935]\ttraining's l1: 1.02995\tvalid_1's l1: 0.937622\n"
     ]
    },
    {
     "name": "stderr",
     "output_type": "stream",
     "text": [
      "\u001b[32m[I 2021-07-12 00:05:35,270]\u001b[0m Trial 39 finished with value: -0.9376178434748312 and parameters: {'max_depth': 8, 'min_child_weight': 9, 'subsample': 0.5, 'colsample_bytree': 0.7, 'reg_lambda': 8.925748273086885, 'reg_alpha': 0.003733024643072572, 'feature_fraction': 0.6517619032758184, 'bagging_fraction': 0.5245068171631687, 'bagging_freq': 8}. Best is trial 33 with value: -0.9280438409359819.\u001b[0m\n"
     ]
    },
    {
     "name": "stdout",
     "output_type": "stream",
     "text": [
      "[LightGBM] [Warning] feature_fraction is set=0.9492873235388984, colsample_bytree=0.5 will be ignored. Current value: feature_fraction=0.9492873235388984\n",
      "[LightGBM] [Warning] bagging_fraction is set=0.45415863148433333, subsample=0.8 will be ignored. Current value: bagging_fraction=0.45415863148433333\n",
      "[LightGBM] [Warning] bagging_freq is set=3, subsample_freq=0 will be ignored. Current value: bagging_freq=3\n",
      "Training until validation scores don't improve for 100 rounds\n",
      "[100]\ttraining's l1: 1.05969\tvalid_1's l1: 0.971791\n"
     ]
    },
    {
     "name": "stderr",
     "output_type": "stream",
     "text": [
      "\u001b[32m[I 2021-07-12 00:05:38,775]\u001b[0m Trial 40 finished with value: -0.9717455998223351 and parameters: {'max_depth': 1, 'min_child_weight': 13, 'subsample': 0.8, 'colsample_bytree': 0.5, 'reg_lambda': 3.2568495063157266, 'reg_alpha': 0.013251047659853906, 'feature_fraction': 0.9492873235388984, 'bagging_fraction': 0.45415863148433333, 'bagging_freq': 3}. Best is trial 33 with value: -0.9280438409359819.\u001b[0m\n"
     ]
    },
    {
     "name": "stdout",
     "output_type": "stream",
     "text": [
      "Early stopping, best iteration is:\n",
      "[24]\ttraining's l1: 1.0598\tvalid_1's l1: 0.971746\n",
      "[LightGBM] [Warning] feature_fraction is set=0.838545160236473, colsample_bytree=0.6 will be ignored. Current value: feature_fraction=0.838545160236473\n",
      "[LightGBM] [Warning] bagging_fraction is set=0.6507416336184242, subsample=0.7 will be ignored. Current value: bagging_fraction=0.6507416336184242\n",
      "[LightGBM] [Warning] bagging_freq is set=9, subsample_freq=0 will be ignored. Current value: bagging_freq=9\n",
      "Training until validation scores don't improve for 100 rounds\n",
      "[100]\ttraining's l1: 1.02383\tvalid_1's l1: 0.9332\n",
      "[200]\ttraining's l1: 1.01833\tvalid_1's l1: 0.931504\n"
     ]
    },
    {
     "name": "stderr",
     "output_type": "stream",
     "text": [
      "\u001b[32m[I 2021-07-12 00:05:44,879]\u001b[0m Trial 41 finished with value: -0.9311212936923389 and parameters: {'max_depth': 5, 'min_child_weight': 11, 'subsample': 0.7, 'colsample_bytree': 0.6, 'reg_lambda': 0.919137695966187, 'reg_alpha': 0.021172448770511637, 'feature_fraction': 0.838545160236473, 'bagging_fraction': 0.6507416336184242, 'bagging_freq': 9}. Best is trial 33 with value: -0.9280438409359819.\u001b[0m\n"
     ]
    },
    {
     "name": "stdout",
     "output_type": "stream",
     "text": [
      "Early stopping, best iteration is:\n",
      "[113]\ttraining's l1: 1.02174\tvalid_1's l1: 0.931125\n",
      "[LightGBM] [Warning] feature_fraction is set=0.8770828457640695, colsample_bytree=0.6 will be ignored. Current value: feature_fraction=0.8770828457640695\n",
      "[LightGBM] [Warning] bagging_fraction is set=0.7239533771568675, subsample=0.8 will be ignored. Current value: bagging_fraction=0.7239533771568675\n",
      "[LightGBM] [Warning] bagging_freq is set=9, subsample_freq=0 will be ignored. Current value: bagging_freq=9\n",
      "Training until validation scores don't improve for 100 rounds\n",
      "[100]\ttraining's l1: 1.03581\tvalid_1's l1: 0.9424\n",
      "[200]\ttraining's l1: 1.03089\tvalid_1's l1: 0.937983\n",
      "[300]\ttraining's l1: 1.02957\tvalid_1's l1: 0.936473\n",
      "[400]\ttraining's l1: 1.02825\tvalid_1's l1: 0.93565\n",
      "[500]\ttraining's l1: 1.02703\tvalid_1's l1: 0.934778\n",
      "[600]\ttraining's l1: 1.02652\tvalid_1's l1: 0.934488\n",
      "[700]\ttraining's l1: 1.02571\tvalid_1's l1: 0.934126\n",
      "[800]\ttraining's l1: 1.02464\tvalid_1's l1: 0.932244\n",
      "[900]\ttraining's l1: 1.02442\tvalid_1's l1: 0.932323\n",
      "[1000]\ttraining's l1: 1.02371\tvalid_1's l1: 0.932068\n",
      "[1100]\ttraining's l1: 1.02347\tvalid_1's l1: 0.931716\n",
      "[1200]\ttraining's l1: 1.02243\tvalid_1's l1: 0.931592\n",
      "[1300]\ttraining's l1: 1.02187\tvalid_1's l1: 0.931003\n",
      "[1400]\ttraining's l1: 1.0216\tvalid_1's l1: 0.930857\n",
      "[1500]\ttraining's l1: 1.02119\tvalid_1's l1: 0.930345\n",
      "[1600]\ttraining's l1: 1.02072\tvalid_1's l1: 0.93002\n",
      "Early stopping, best iteration is:\n",
      "[1564]\ttraining's l1: 1.02075\tvalid_1's l1: 0.929933\n"
     ]
    },
    {
     "name": "stderr",
     "output_type": "stream",
     "text": [
      "\u001b[32m[I 2021-07-12 00:06:19,489]\u001b[0m Trial 42 finished with value: -0.929894088068003 and parameters: {'max_depth': 3, 'min_child_weight': 8, 'subsample': 0.8, 'colsample_bytree': 0.6, 'reg_lambda': 7.960755201955525, 'reg_alpha': 0.006133865289121173, 'feature_fraction': 0.8770828457640695, 'bagging_fraction': 0.7239533771568675, 'bagging_freq': 9}. Best is trial 33 with value: -0.9280438409359819.\u001b[0m\n"
     ]
    },
    {
     "name": "stdout",
     "output_type": "stream",
     "text": [
      "[LightGBM] [Warning] feature_fraction is set=0.882655093039637, colsample_bytree=0.6 will be ignored. Current value: feature_fraction=0.882655093039637\n",
      "[LightGBM] [Warning] bagging_fraction is set=0.726321238464728, subsample=0.9 will be ignored. Current value: bagging_fraction=0.726321238464728\n",
      "[LightGBM] [Warning] bagging_freq is set=10, subsample_freq=0 will be ignored. Current value: bagging_freq=10\n",
      "Training until validation scores don't improve for 100 rounds\n",
      "[100]\ttraining's l1: 1.03656\tvalid_1's l1: 0.941976\n",
      "[200]\ttraining's l1: 1.03125\tvalid_1's l1: 0.937646\n",
      "[300]\ttraining's l1: 1.02933\tvalid_1's l1: 0.936301\n",
      "[400]\ttraining's l1: 1.02796\tvalid_1's l1: 0.935812\n",
      "[500]\ttraining's l1: 1.02721\tvalid_1's l1: 0.935418\n",
      "[600]\ttraining's l1: 1.0261\tvalid_1's l1: 0.934999\n",
      "[700]\ttraining's l1: 1.02519\tvalid_1's l1: 0.934232\n",
      "[800]\ttraining's l1: 1.02386\tvalid_1's l1: 0.931115\n",
      "[900]\ttraining's l1: 1.02354\tvalid_1's l1: 0.930797\n"
     ]
    },
    {
     "name": "stderr",
     "output_type": "stream",
     "text": [
      "\u001b[32m[I 2021-07-12 00:06:39,985]\u001b[0m Trial 43 finished with value: -0.9307476077883237 and parameters: {'max_depth': 3, 'min_child_weight': 6, 'subsample': 0.9, 'colsample_bytree': 0.6, 'reg_lambda': 8.949290769890958, 'reg_alpha': 0.006641475271376219, 'feature_fraction': 0.882655093039637, 'bagging_fraction': 0.726321238464728, 'bagging_freq': 10}. Best is trial 33 with value: -0.9280438409359819.\u001b[0m\n"
     ]
    },
    {
     "name": "stdout",
     "output_type": "stream",
     "text": [
      "Early stopping, best iteration is:\n",
      "[867]\ttraining's l1: 1.02357\tvalid_1's l1: 0.930757\n",
      "[LightGBM] [Warning] feature_fraction is set=0.785143404006954, colsample_bytree=0.7 will be ignored. Current value: feature_fraction=0.785143404006954\n",
      "[LightGBM] [Warning] bagging_fraction is set=0.4815790730157057, subsample=0.8 will be ignored. Current value: bagging_fraction=0.4815790730157057\n",
      "[LightGBM] [Warning] bagging_freq is set=9, subsample_freq=0 will be ignored. Current value: bagging_freq=9\n",
      "Training until validation scores don't improve for 100 rounds\n",
      "[100]\ttraining's l1: 1.02784\tvalid_1's l1: 0.935665\n",
      "[200]\ttraining's l1: 1.02406\tvalid_1's l1: 0.933469\n",
      "[300]\ttraining's l1: 1.0213\tvalid_1's l1: 0.932079\n",
      "[400]\ttraining's l1: 1.01983\tvalid_1's l1: 0.930963\n",
      "[500]\ttraining's l1: 1.01848\tvalid_1's l1: 0.931801\n"
     ]
    },
    {
     "name": "stderr",
     "output_type": "stream",
     "text": [
      "\u001b[32m[I 2021-07-12 00:06:49,238]\u001b[0m Trial 44 finished with value: -0.930746907264616 and parameters: {'max_depth': 4, 'min_child_weight': 8, 'subsample': 0.8, 'colsample_bytree': 0.7, 'reg_lambda': 1.3201279980898821, 'reg_alpha': 0.0016766892462850359, 'feature_fraction': 0.785143404006954, 'bagging_fraction': 0.4815790730157057, 'bagging_freq': 9}. Best is trial 33 with value: -0.9280438409359819.\u001b[0m\n"
     ]
    },
    {
     "name": "stdout",
     "output_type": "stream",
     "text": [
      "Early stopping, best iteration is:\n",
      "[414]\ttraining's l1: 1.01947\tvalid_1's l1: 0.93077\n",
      "[LightGBM] [Warning] feature_fraction is set=0.7526195766598575, colsample_bytree=0.6 will be ignored. Current value: feature_fraction=0.7526195766598575\n",
      "[LightGBM] [Warning] bagging_fraction is set=0.6294127754158684, subsample=0.8 will be ignored. Current value: bagging_fraction=0.6294127754158684\n",
      "[LightGBM] [Warning] bagging_freq is set=2, subsample_freq=0 will be ignored. Current value: bagging_freq=2\n",
      "Training until validation scores don't improve for 100 rounds\n",
      "[100]\ttraining's l1: 1.04404\tvalid_1's l1: 0.949092\n",
      "[200]\ttraining's l1: 1.03998\tvalid_1's l1: 0.944521\n",
      "[300]\ttraining's l1: 1.03836\tvalid_1's l1: 0.942382\n",
      "[400]\ttraining's l1: 1.03773\tvalid_1's l1: 0.94177\n",
      "[500]\ttraining's l1: 1.03728\tvalid_1's l1: 0.941348\n",
      "[600]\ttraining's l1: 1.03687\tvalid_1's l1: 0.940743\n",
      "[700]\ttraining's l1: 1.03657\tvalid_1's l1: 0.940846\n"
     ]
    },
    {
     "name": "stderr",
     "output_type": "stream",
     "text": [
      "\u001b[32m[I 2021-07-12 00:07:06,728]\u001b[0m Trial 45 finished with value: -0.940662484002842 and parameters: {'max_depth': 2, 'min_child_weight': 7, 'subsample': 0.8, 'colsample_bytree': 0.6, 'reg_lambda': 0.5396672364380383, 'reg_alpha': 0.006878800350136765, 'feature_fraction': 0.7526195766598575, 'bagging_fraction': 0.6294127754158684, 'bagging_freq': 2}. Best is trial 33 with value: -0.9280438409359819.\u001b[0m\n"
     ]
    },
    {
     "name": "stdout",
     "output_type": "stream",
     "text": [
      "Early stopping, best iteration is:\n",
      "[616]\ttraining's l1: 1.03669\tvalid_1's l1: 0.940697\n",
      "[LightGBM] [Warning] feature_fraction is set=0.9258846713827902, colsample_bytree=0.5 will be ignored. Current value: feature_fraction=0.9258846713827902\n",
      "[LightGBM] [Warning] bagging_fraction is set=0.5472043157519006, subsample=0.9 will be ignored. Current value: bagging_fraction=0.5472043157519006\n",
      "[LightGBM] [Warning] bagging_freq is set=8, subsample_freq=0 will be ignored. Current value: bagging_freq=8\n",
      "Training until validation scores don't improve for 100 rounds\n",
      "[100]\ttraining's l1: 1.03483\tvalid_1's l1: 0.9433\n",
      "[200]\ttraining's l1: 1.03417\tvalid_1's l1: 0.942401\n",
      "[300]\ttraining's l1: 1.03377\tvalid_1's l1: 0.942297\n"
     ]
    },
    {
     "name": "stderr",
     "output_type": "stream",
     "text": [
      "\u001b[32m[I 2021-07-12 00:07:14,906]\u001b[0m Trial 46 finished with value: -0.9420258251453876 and parameters: {'max_depth': 7, 'min_child_weight': 9, 'subsample': 0.9, 'colsample_bytree': 0.5, 'reg_lambda': 2.5514327751601593, 'reg_alpha': 0.05578428326209181, 'feature_fraction': 0.9258846713827902, 'bagging_fraction': 0.5472043157519006, 'bagging_freq': 8}. Best is trial 33 with value: -0.9280438409359819.\u001b[0m\n"
     ]
    },
    {
     "name": "stdout",
     "output_type": "stream",
     "text": [
      "Early stopping, best iteration is:\n",
      "[245]\ttraining's l1: 1.03404\tvalid_1's l1: 0.942027\n",
      "[LightGBM] [Warning] feature_fraction is set=0.870896182607559, colsample_bytree=0.6 will be ignored. Current value: feature_fraction=0.870896182607559\n",
      "[LightGBM] [Warning] bagging_fraction is set=0.7525049983436041, subsample=0.9 will be ignored. Current value: bagging_fraction=0.7525049983436041\n",
      "[LightGBM] [Warning] bagging_freq is set=7, subsample_freq=0 will be ignored. Current value: bagging_freq=7\n",
      "Training until validation scores don't improve for 100 rounds\n",
      "[100]\ttraining's l1: 1.03078\tvalid_1's l1: 0.939431\n",
      "[200]\ttraining's l1: 1.02851\tvalid_1's l1: 0.937909\n",
      "[300]\ttraining's l1: 1.0275\tvalid_1's l1: 0.937799\n",
      "[400]\ttraining's l1: 1.02694\tvalid_1's l1: 0.937279\n",
      "[500]\ttraining's l1: 1.02608\tvalid_1's l1: 0.936639\n"
     ]
    },
    {
     "name": "stderr",
     "output_type": "stream",
     "text": [
      "\u001b[32m[I 2021-07-12 00:07:30,325]\u001b[0m Trial 47 finished with value: -0.9366198234744829 and parameters: {'max_depth': 6, 'min_child_weight': 3, 'subsample': 0.9, 'colsample_bytree': 0.6, 'reg_lambda': 27.3519081018149, 'reg_alpha': 0.0025660078835419028, 'feature_fraction': 0.870896182607559, 'bagging_fraction': 0.7525049983436041, 'bagging_freq': 7}. Best is trial 33 with value: -0.9280438409359819.\u001b[0m\n"
     ]
    },
    {
     "name": "stdout",
     "output_type": "stream",
     "text": [
      "Early stopping, best iteration is:\n",
      "[478]\ttraining's l1: 1.02609\tvalid_1's l1: 0.936623\n",
      "[LightGBM] [Warning] feature_fraction is set=0.8045758653242492, colsample_bytree=0.9 will be ignored. Current value: feature_fraction=0.8045758653242492\n",
      "[LightGBM] [Warning] bagging_fraction is set=0.5981126875988358, subsample=0.8 will be ignored. Current value: bagging_fraction=0.5981126875988358\n",
      "[LightGBM] [Warning] bagging_freq is set=10, subsample_freq=0 will be ignored. Current value: bagging_freq=10\n",
      "Training until validation scores don't improve for 100 rounds\n",
      "[100]\ttraining's l1: 1.06023\tvalid_1's l1: 0.972515\n"
     ]
    },
    {
     "name": "stderr",
     "output_type": "stream",
     "text": [
      "\u001b[32m[I 2021-07-12 00:07:33,323]\u001b[0m Trial 48 finished with value: -0.9724865616767056 and parameters: {'max_depth': 1, 'min_child_weight': 10, 'subsample': 0.8, 'colsample_bytree': 0.9, 'reg_lambda': 6.501377455112601, 'reg_alpha': 0.030749200415535013, 'feature_fraction': 0.8045758653242492, 'bagging_fraction': 0.5981126875988358, 'bagging_freq': 10}. Best is trial 33 with value: -0.9280438409359819.\u001b[0m\n"
     ]
    },
    {
     "name": "stdout",
     "output_type": "stream",
     "text": [
      "Early stopping, best iteration is:\n",
      "[23]\ttraining's l1: 1.06031\tvalid_1's l1: 0.972487\n",
      "[LightGBM] [Warning] feature_fraction is set=0.8464181029663197, colsample_bytree=0.6 will be ignored. Current value: feature_fraction=0.8464181029663197\n",
      "[LightGBM] [Warning] bagging_fraction is set=0.6484616656170956, subsample=0.9 will be ignored. Current value: bagging_fraction=0.6484616656170956\n",
      "[LightGBM] [Warning] bagging_freq is set=9, subsample_freq=0 will be ignored. Current value: bagging_freq=9\n",
      "Training until validation scores don't improve for 100 rounds\n",
      "[100]\ttraining's l1: 1.02926\tvalid_1's l1: 0.937398\n",
      "[200]\ttraining's l1: 1.02476\tvalid_1's l1: 0.934501\n",
      "[300]\ttraining's l1: 1.02147\tvalid_1's l1: 0.931209\n",
      "[400]\ttraining's l1: 1.02066\tvalid_1's l1: 0.930959\n",
      "[500]\ttraining's l1: 1.01962\tvalid_1's l1: 0.929641\n"
     ]
    },
    {
     "name": "stderr",
     "output_type": "stream",
     "text": [
      "\u001b[32m[I 2021-07-12 00:07:46,079]\u001b[0m Trial 49 finished with value: -0.9295771265808395 and parameters: {'max_depth': 4, 'min_child_weight': 8, 'subsample': 0.9, 'colsample_bytree': 0.6, 'reg_lambda': 11.649545284499803, 'reg_alpha': 0.4030450016944327, 'feature_fraction': 0.8464181029663197, 'bagging_fraction': 0.6484616656170956, 'bagging_freq': 9}. Best is trial 33 with value: -0.9280438409359819.\u001b[0m\n"
     ]
    },
    {
     "name": "stdout",
     "output_type": "stream",
     "text": [
      "Early stopping, best iteration is:\n",
      "[484]\ttraining's l1: 1.01965\tvalid_1's l1: 0.929593\n",
      "[LightGBM] [Warning] feature_fraction is set=0.908607204820915, colsample_bytree=0.7 will be ignored. Current value: feature_fraction=0.908607204820915\n",
      "[LightGBM] [Warning] bagging_fraction is set=0.6559732027593315, subsample=0.9 will be ignored. Current value: bagging_fraction=0.6559732027593315\n",
      "[LightGBM] [Warning] bagging_freq is set=6, subsample_freq=0 will be ignored. Current value: bagging_freq=6\n",
      "Training until validation scores don't improve for 100 rounds\n",
      "[100]\ttraining's l1: 1.03587\tvalid_1's l1: 0.943983\n"
     ]
    },
    {
     "name": "stderr",
     "output_type": "stream",
     "text": [
      "\u001b[32m[I 2021-07-12 00:07:51,404]\u001b[0m Trial 50 finished with value: -0.9439481608795494 and parameters: {'max_depth': 8, 'min_child_weight': 5, 'subsample': 0.9, 'colsample_bytree': 0.7, 'reg_lambda': 14.818431407282619, 'reg_alpha': 0.799088826501326, 'feature_fraction': 0.908607204820915, 'bagging_fraction': 0.6559732027593315, 'bagging_freq': 6}. Best is trial 33 with value: -0.9280438409359819.\u001b[0m\n"
     ]
    },
    {
     "name": "stdout",
     "output_type": "stream",
     "text": [
      "Early stopping, best iteration is:\n",
      "[55]\ttraining's l1: 1.03589\tvalid_1's l1: 0.943948\n",
      "[LightGBM] [Warning] feature_fraction is set=0.8345438501621543, colsample_bytree=0.6 will be ignored. Current value: feature_fraction=0.8345438501621543\n",
      "[LightGBM] [Warning] bagging_fraction is set=0.7078494674741332, subsample=0.9 will be ignored. Current value: bagging_fraction=0.7078494674741332\n",
      "[LightGBM] [Warning] bagging_freq is set=9, subsample_freq=0 will be ignored. Current value: bagging_freq=9\n",
      "Training until validation scores don't improve for 100 rounds\n",
      "[100]\ttraining's l1: 1.03499\tvalid_1's l1: 0.94097\n",
      "[200]\ttraining's l1: 1.0299\tvalid_1's l1: 0.937331\n",
      "[300]\ttraining's l1: 1.02744\tvalid_1's l1: 0.935811\n",
      "[400]\ttraining's l1: 1.02664\tvalid_1's l1: 0.934808\n",
      "[500]\ttraining's l1: 1.02537\tvalid_1's l1: 0.934257\n",
      "[600]\ttraining's l1: 1.02498\tvalid_1's l1: 0.933821\n",
      "[700]\ttraining's l1: 1.02412\tvalid_1's l1: 0.932837\n",
      "[800]\ttraining's l1: 1.02324\tvalid_1's l1: 0.932342\n"
     ]
    },
    {
     "name": "stderr",
     "output_type": "stream",
     "text": [
      "\u001b[32m[I 2021-07-12 00:08:09,538]\u001b[0m Trial 51 finished with value: -0.9323206355919654 and parameters: {'max_depth': 3, 'min_child_weight': 8, 'subsample': 0.9, 'colsample_bytree': 0.6, 'reg_lambda': 4.258753847851367, 'reg_alpha': 0.09728574172898076, 'feature_fraction': 0.8345438501621543, 'bagging_fraction': 0.7078494674741332, 'bagging_freq': 9}. Best is trial 33 with value: -0.9280438409359819.\u001b[0m\n"
     ]
    },
    {
     "name": "stdout",
     "output_type": "stream",
     "text": [
      "Early stopping, best iteration is:\n",
      "[768]\ttraining's l1: 1.02328\tvalid_1's l1: 0.932334\n",
      "[LightGBM] [Warning] feature_fraction is set=0.851311928765661, colsample_bytree=0.6 will be ignored. Current value: feature_fraction=0.851311928765661\n",
      "[LightGBM] [Warning] bagging_fraction is set=0.6301388105524768, subsample=0.9 will be ignored. Current value: bagging_fraction=0.6301388105524768\n",
      "[LightGBM] [Warning] bagging_freq is set=8, subsample_freq=0 will be ignored. Current value: bagging_freq=8\n",
      "Training until validation scores don't improve for 100 rounds\n",
      "[100]\ttraining's l1: 1.0272\tvalid_1's l1: 0.934047\n",
      "[200]\ttraining's l1: 1.02324\tvalid_1's l1: 0.930309\n",
      "[300]\ttraining's l1: 1.02101\tvalid_1's l1: 0.928123\n",
      "[400]\ttraining's l1: 1.02005\tvalid_1's l1: 0.927898\n",
      "[500]\ttraining's l1: 1.01777\tvalid_1's l1: 0.928177\n"
     ]
    },
    {
     "name": "stderr",
     "output_type": "stream",
     "text": [
      "\u001b[32m[I 2021-07-12 00:08:21,349]\u001b[0m Trial 52 finished with value: -0.9274795620237848 and parameters: {'max_depth': 4, 'min_child_weight': 7, 'subsample': 0.9, 'colsample_bytree': 0.6, 'reg_lambda': 0.0012698198043557705, 'reg_alpha': 0.350926711504149, 'feature_fraction': 0.851311928765661, 'bagging_fraction': 0.6301388105524768, 'bagging_freq': 8}. Best is trial 52 with value: -0.9274795620237848.\u001b[0m\n"
     ]
    },
    {
     "name": "stdout",
     "output_type": "stream",
     "text": [
      "Early stopping, best iteration is:\n",
      "[433]\ttraining's l1: 1.01919\tvalid_1's l1: 0.927504\n",
      "[LightGBM] [Warning] feature_fraction is set=0.9493916980722421, colsample_bytree=0.6 will be ignored. Current value: feature_fraction=0.9493916980722421\n",
      "[LightGBM] [Warning] bagging_fraction is set=0.5810822101808055, subsample=0.9 will be ignored. Current value: bagging_fraction=0.5810822101808055\n",
      "[LightGBM] [Warning] bagging_freq is set=8, subsample_freq=0 will be ignored. Current value: bagging_freq=8\n",
      "Training until validation scores don't improve for 100 rounds\n",
      "[100]\ttraining's l1: 1.02622\tvalid_1's l1: 0.935248\n",
      "[200]\ttraining's l1: 1.02219\tvalid_1's l1: 0.931628\n",
      "[300]\ttraining's l1: 1.02118\tvalid_1's l1: 0.931654\n"
     ]
    },
    {
     "name": "stderr",
     "output_type": "stream",
     "text": [
      "\u001b[32m[I 2021-07-12 00:08:28,769]\u001b[0m Trial 53 finished with value: -0.9315720374100426 and parameters: {'max_depth': 4, 'min_child_weight': 6, 'subsample': 0.9, 'colsample_bytree': 0.6, 'reg_lambda': 0.0023752373627100474, 'reg_alpha': 0.389919498509322, 'feature_fraction': 0.9493916980722421, 'bagging_fraction': 0.5810822101808055, 'bagging_freq': 8}. Best is trial 52 with value: -0.9274795620237848.\u001b[0m\n"
     ]
    },
    {
     "name": "stdout",
     "output_type": "stream",
     "text": [
      "Early stopping, best iteration is:\n",
      "[216]\ttraining's l1: 1.02201\tvalid_1's l1: 0.931584\n",
      "[LightGBM] [Warning] feature_fraction is set=0.8607036369896043, colsample_bytree=0.6 will be ignored. Current value: feature_fraction=0.8607036369896043\n",
      "[LightGBM] [Warning] bagging_fraction is set=0.640470062067844, subsample=0.9 will be ignored. Current value: bagging_fraction=0.640470062067844\n",
      "[LightGBM] [Warning] bagging_freq is set=10, subsample_freq=0 will be ignored. Current value: bagging_freq=10\n",
      "Training until validation scores don't improve for 100 rounds\n",
      "[100]\ttraining's l1: 1.02364\tvalid_1's l1: 0.933612\n",
      "[200]\ttraining's l1: 1.01867\tvalid_1's l1: 0.931708\n",
      "[300]\ttraining's l1: 1.01698\tvalid_1's l1: 0.930029\n"
     ]
    },
    {
     "name": "stderr",
     "output_type": "stream",
     "text": [
      "\u001b[32m[I 2021-07-12 00:08:37,668]\u001b[0m Trial 54 finished with value: -0.9297259209458381 and parameters: {'max_depth': 5, 'min_child_weight': 7, 'subsample': 0.9, 'colsample_bytree': 0.6, 'reg_lambda': 0.0017997354941679553, 'reg_alpha': 0.3938491675806539, 'feature_fraction': 0.8607036369896043, 'bagging_fraction': 0.640470062067844, 'bagging_freq': 10}. Best is trial 52 with value: -0.9274795620237848.\u001b[0m\n"
     ]
    },
    {
     "name": "stdout",
     "output_type": "stream",
     "text": [
      "Early stopping, best iteration is:\n",
      "[253]\ttraining's l1: 1.01706\tvalid_1's l1: 0.929772\n",
      "[LightGBM] [Warning] feature_fraction is set=0.817774180020907, colsample_bytree=0.5 will be ignored. Current value: feature_fraction=0.817774180020907\n",
      "[LightGBM] [Warning] bagging_fraction is set=0.6736978422187289, subsample=0.9 will be ignored. Current value: bagging_fraction=0.6736978422187289\n",
      "[LightGBM] [Warning] bagging_freq is set=7, subsample_freq=0 will be ignored. Current value: bagging_freq=7\n",
      "Training until validation scores don't improve for 100 rounds\n",
      "[100]\ttraining's l1: 1.03151\tvalid_1's l1: 0.940129\n",
      "[200]\ttraining's l1: 1.02861\tvalid_1's l1: 0.936698\n",
      "[300]\ttraining's l1: 1.02763\tvalid_1's l1: 0.935995\n"
     ]
    },
    {
     "name": "stderr",
     "output_type": "stream",
     "text": [
      "\u001b[32m[I 2021-07-12 00:08:46,826]\u001b[0m Trial 55 finished with value: -0.9359644439248666 and parameters: {'max_depth': 6, 'min_child_weight': 10, 'subsample': 0.9, 'colsample_bytree': 0.5, 'reg_lambda': 0.008599138390544013, 'reg_alpha': 4.222963671279354, 'feature_fraction': 0.817774180020907, 'bagging_fraction': 0.6736978422187289, 'bagging_freq': 7}. Best is trial 52 with value: -0.9274795620237848.\u001b[0m\n"
     ]
    },
    {
     "name": "stdout",
     "output_type": "stream",
     "text": [
      "Early stopping, best iteration is:\n",
      "[247]\ttraining's l1: 1.02766\tvalid_1's l1: 0.93597\n",
      "[LightGBM] [Warning] feature_fraction is set=0.8476385114228456, colsample_bytree=0.6 will be ignored. Current value: feature_fraction=0.8476385114228456\n",
      "[LightGBM] [Warning] bagging_fraction is set=0.5416394147886413, subsample=0.9 will be ignored. Current value: bagging_fraction=0.5416394147886413\n",
      "[LightGBM] [Warning] bagging_freq is set=8, subsample_freq=0 will be ignored. Current value: bagging_freq=8\n",
      "Training until validation scores don't improve for 100 rounds\n",
      "[100]\ttraining's l1: 1.04326\tvalid_1's l1: 0.948601\n",
      "[200]\ttraining's l1: 1.04036\tvalid_1's l1: 0.945488\n",
      "[300]\ttraining's l1: 1.03885\tvalid_1's l1: 0.943873\n",
      "[400]\ttraining's l1: 1.03775\tvalid_1's l1: 0.942492\n",
      "[500]\ttraining's l1: 1.03753\tvalid_1's l1: 0.941704\n"
     ]
    },
    {
     "name": "stderr",
     "output_type": "stream",
     "text": [
      "\u001b[32m[I 2021-07-12 00:08:56,955]\u001b[0m Trial 56 finished with value: -0.9416688632122653 and parameters: {'max_depth': 2, 'min_child_weight': 5, 'subsample': 0.9, 'colsample_bytree': 0.6, 'reg_lambda': 38.931311181014195, 'reg_alpha': 0.20716382531824631, 'feature_fraction': 0.8476385114228456, 'bagging_fraction': 0.5416394147886413, 'bagging_freq': 8}. Best is trial 52 with value: -0.9274795620237848.\u001b[0m\n"
     ]
    },
    {
     "name": "stdout",
     "output_type": "stream",
     "text": [
      "Early stopping, best iteration is:\n",
      "[496]\ttraining's l1: 1.03753\tvalid_1's l1: 0.941694\n",
      "[LightGBM] [Warning] feature_fraction is set=0.7116330146482251, colsample_bytree=0.6 will be ignored. Current value: feature_fraction=0.7116330146482251\n",
      "[LightGBM] [Warning] bagging_fraction is set=0.6175399715848708, subsample=0.9 will be ignored. Current value: bagging_fraction=0.6175399715848708\n",
      "[LightGBM] [Warning] bagging_freq is set=9, subsample_freq=0 will be ignored. Current value: bagging_freq=9\n",
      "Training until validation scores don't improve for 100 rounds\n",
      "[100]\ttraining's l1: 1.02997\tvalid_1's l1: 0.93597\n",
      "[200]\ttraining's l1: 1.02425\tvalid_1's l1: 0.932584\n",
      "[300]\ttraining's l1: 1.02113\tvalid_1's l1: 0.930215\n",
      "[400]\ttraining's l1: 1.01987\tvalid_1's l1: 0.928675\n",
      "[500]\ttraining's l1: 1.0197\tvalid_1's l1: 0.928393\n",
      "Early stopping, best iteration is:\n",
      "[409]\ttraining's l1: 1.01971\tvalid_1's l1: 0.928353\n"
     ]
    },
    {
     "name": "stderr",
     "output_type": "stream",
     "text": [
      "\u001b[32m[I 2021-07-12 00:09:07,276]\u001b[0m Trial 57 finished with value: -0.9283429676978715 and parameters: {'max_depth': 4, 'min_child_weight': 11, 'subsample': 0.9, 'colsample_bytree': 0.6, 'reg_lambda': 0.001097837607587606, 'reg_alpha': 1.735721022645521, 'feature_fraction': 0.7116330146482251, 'bagging_fraction': 0.6175399715848708, 'bagging_freq': 9}. Best is trial 52 with value: -0.9274795620237848.\u001b[0m\n"
     ]
    },
    {
     "name": "stdout",
     "output_type": "stream",
     "text": [
      "[LightGBM] [Warning] feature_fraction is set=0.7064915735767707, colsample_bytree=0.7 will be ignored. Current value: feature_fraction=0.7064915735767707\n",
      "[LightGBM] [Warning] bagging_fraction is set=0.6096274365814104, subsample=0.9 will be ignored. Current value: bagging_fraction=0.6096274365814104\n",
      "[LightGBM] [Warning] bagging_freq is set=1, subsample_freq=0 will be ignored. Current value: bagging_freq=1\n",
      "Training until validation scores don't improve for 100 rounds\n",
      "[100]\ttraining's l1: 1.03414\tvalid_1's l1: 0.942532\n",
      "[200]\ttraining's l1: 1.03353\tvalid_1's l1: 0.94197\n",
      "[300]\ttraining's l1: 1.03293\tvalid_1's l1: 0.940651\n",
      "[400]\ttraining's l1: 1.03192\tvalid_1's l1: 0.939799\n",
      "[500]\ttraining's l1: 1.03179\tvalid_1's l1: 0.939767\n"
     ]
    },
    {
     "name": "stderr",
     "output_type": "stream",
     "text": [
      "\u001b[32m[I 2021-07-12 00:09:18,261]\u001b[0m Trial 58 finished with value: -0.9396308865866146 and parameters: {'max_depth': 7, 'min_child_weight': 12, 'subsample': 0.9, 'colsample_bytree': 0.7, 'reg_lambda': 0.00101859715510387, 'reg_alpha': 2.7749074350887706, 'feature_fraction': 0.7064915735767707, 'bagging_fraction': 0.6096274365814104, 'bagging_freq': 1}. Best is trial 52 with value: -0.9274795620237848.\u001b[0m\n"
     ]
    },
    {
     "name": "stdout",
     "output_type": "stream",
     "text": [
      "Early stopping, best iteration is:\n",
      "[414]\ttraining's l1: 1.03187\tvalid_1's l1: 0.939634\n",
      "[LightGBM] [Warning] feature_fraction is set=0.6705184181384447, colsample_bytree=0.5 will be ignored. Current value: feature_fraction=0.6705184181384447\n",
      "[LightGBM] [Warning] bagging_fraction is set=0.5563486326238661, subsample=0.6 will be ignored. Current value: bagging_fraction=0.5563486326238661\n",
      "[LightGBM] [Warning] bagging_freq is set=5, subsample_freq=0 will be ignored. Current value: bagging_freq=5\n",
      "Training until validation scores don't improve for 100 rounds\n",
      "[100]\ttraining's l1: 1.03615\tvalid_1's l1: 0.944972\n",
      "[200]\ttraining's l1: 1.03614\tvalid_1's l1: 0.944969\n",
      "[300]\ttraining's l1: 1.03577\tvalid_1's l1: 0.944431\n"
     ]
    },
    {
     "name": "stderr",
     "output_type": "stream",
     "text": [
      "\u001b[32m[I 2021-07-12 00:09:26,146]\u001b[0m Trial 59 finished with value: -0.944400695740253 and parameters: {'max_depth': 9, 'min_child_weight': 14, 'subsample': 0.6, 'colsample_bytree': 0.5, 'reg_lambda': 0.004033242208938446, 'reg_alpha': 19.422088800125522, 'feature_fraction': 0.6705184181384447, 'bagging_fraction': 0.5563486326238661, 'bagging_freq': 5}. Best is trial 52 with value: -0.9274795620237848.\u001b[0m\n"
     ]
    },
    {
     "name": "stdout",
     "output_type": "stream",
     "text": [
      "Early stopping, best iteration is:\n",
      "[231]\ttraining's l1: 1.0358\tvalid_1's l1: 0.944402\n",
      "[LightGBM] [Warning] feature_fraction is set=0.5676559900721209, colsample_bytree=0.6 will be ignored. Current value: feature_fraction=0.5676559900721209\n",
      "[LightGBM] [Warning] bagging_fraction is set=0.5056729162594535, subsample=0.8 will be ignored. Current value: bagging_fraction=0.5056729162594535\n",
      "[LightGBM] [Warning] bagging_freq is set=9, subsample_freq=0 will be ignored. Current value: bagging_freq=9\n",
      "Training until validation scores don't improve for 100 rounds\n",
      "[100]\ttraining's l1: 1.02992\tvalid_1's l1: 0.937082\n",
      "[200]\ttraining's l1: 1.02551\tvalid_1's l1: 0.935084\n",
      "[300]\ttraining's l1: 1.02521\tvalid_1's l1: 0.934774\n"
     ]
    },
    {
     "name": "stderr",
     "output_type": "stream",
     "text": [
      "\u001b[32m[I 2021-07-12 00:09:34,327]\u001b[0m Trial 60 finished with value: -0.9345938046334151 and parameters: {'max_depth': 4, 'min_child_weight': 11, 'subsample': 0.8, 'colsample_bytree': 0.6, 'reg_lambda': 0.018972741062545383, 'reg_alpha': 1.3340096398258643, 'feature_fraction': 0.5676559900721209, 'bagging_fraction': 0.5056729162594535, 'bagging_freq': 9}. Best is trial 52 with value: -0.9274795620237848.\u001b[0m\n"
     ]
    },
    {
     "name": "stdout",
     "output_type": "stream",
     "text": [
      "Early stopping, best iteration is:\n",
      "[216]\ttraining's l1: 1.02528\tvalid_1's l1: 0.934607\n",
      "[LightGBM] [Warning] feature_fraction is set=0.7887058523681671, colsample_bytree=0.6 will be ignored. Current value: feature_fraction=0.7887058523681671\n",
      "[LightGBM] [Warning] bagging_fraction is set=0.6259913688581245, subsample=0.9 will be ignored. Current value: bagging_fraction=0.6259913688581245\n",
      "[LightGBM] [Warning] bagging_freq is set=9, subsample_freq=0 will be ignored. Current value: bagging_freq=9\n",
      "Training until validation scores don't improve for 100 rounds\n",
      "[100]\ttraining's l1: 1.02458\tvalid_1's l1: 0.934895\n",
      "[200]\ttraining's l1: 1.02035\tvalid_1's l1: 0.933423\n",
      "[300]\ttraining's l1: 1.019\tvalid_1's l1: 0.932214\n"
     ]
    },
    {
     "name": "stderr",
     "output_type": "stream",
     "text": [
      "\u001b[32m[I 2021-07-12 00:09:42,375]\u001b[0m Trial 61 finished with value: -0.9321132588736246 and parameters: {'max_depth': 5, 'min_child_weight': 9, 'subsample': 0.9, 'colsample_bytree': 0.6, 'reg_lambda': 72.2931252323976, 'reg_alpha': 0.8358251471856732, 'feature_fraction': 0.7887058523681671, 'bagging_fraction': 0.6259913688581245, 'bagging_freq': 9}. Best is trial 52 with value: -0.9274795620237848.\u001b[0m\n"
     ]
    },
    {
     "name": "stdout",
     "output_type": "stream",
     "text": [
      "Early stopping, best iteration is:\n",
      "[233]\ttraining's l1: 1.01902\tvalid_1's l1: 0.932123\n",
      "[LightGBM] [Warning] feature_fraction is set=0.7304349039672204, colsample_bytree=0.6 will be ignored. Current value: feature_fraction=0.7304349039672204\n",
      "[LightGBM] [Warning] bagging_fraction is set=0.5895250979319812, subsample=0.9 will be ignored. Current value: bagging_fraction=0.5895250979319812\n",
      "[LightGBM] [Warning] bagging_freq is set=10, subsample_freq=0 will be ignored. Current value: bagging_freq=10\n",
      "Training until validation scores don't improve for 100 rounds\n",
      "[100]\ttraining's l1: 1.02891\tvalid_1's l1: 0.936025\n",
      "[200]\ttraining's l1: 1.0232\tvalid_1's l1: 0.933763\n",
      "[300]\ttraining's l1: 1.02049\tvalid_1's l1: 0.930893\n",
      "[400]\ttraining's l1: 1.01905\tvalid_1's l1: 0.92981\n"
     ]
    },
    {
     "name": "stderr",
     "output_type": "stream",
     "text": [
      "\u001b[32m[I 2021-07-12 00:09:52,289]\u001b[0m Trial 62 finished with value: -0.9297889029483882 and parameters: {'max_depth': 4, 'min_child_weight': 10, 'subsample': 0.9, 'colsample_bytree': 0.6, 'reg_lambda': 0.0010712182538498173, 'reg_alpha': 0.5109326380569669, 'feature_fraction': 0.7304349039672204, 'bagging_fraction': 0.5895250979319812, 'bagging_freq': 10}. Best is trial 52 with value: -0.9274795620237848.\u001b[0m\n"
     ]
    },
    {
     "name": "stdout",
     "output_type": "stream",
     "text": [
      "[500]\ttraining's l1: 1.019\tvalid_1's l1: 0.929879\n",
      "Early stopping, best iteration is:\n",
      "[403]\ttraining's l1: 1.01905\tvalid_1's l1: 0.929809\n",
      "[LightGBM] [Warning] feature_fraction is set=0.7621001340838373, colsample_bytree=0.6 will be ignored. Current value: feature_fraction=0.7621001340838373\n",
      "[LightGBM] [Warning] bagging_fraction is set=0.6699226775681972, subsample=0.9 will be ignored. Current value: bagging_fraction=0.6699226775681972\n",
      "[LightGBM] [Warning] bagging_freq is set=8, subsample_freq=0 will be ignored. Current value: bagging_freq=8\n",
      "Training until validation scores don't improve for 100 rounds\n",
      "[100]\ttraining's l1: 1.03499\tvalid_1's l1: 0.943043\n",
      "[200]\ttraining's l1: 1.03114\tvalid_1's l1: 0.938817\n",
      "[300]\ttraining's l1: 1.02804\tvalid_1's l1: 0.93679\n",
      "[400]\ttraining's l1: 1.02692\tvalid_1's l1: 0.935385\n",
      "[500]\ttraining's l1: 1.02587\tvalid_1's l1: 0.93519\n",
      "[600]\ttraining's l1: 1.02483\tvalid_1's l1: 0.933702\n",
      "[700]\ttraining's l1: 1.02386\tvalid_1's l1: 0.933089\n",
      "[800]\ttraining's l1: 1.02368\tvalid_1's l1: 0.933011\n",
      "[900]\ttraining's l1: 1.02284\tvalid_1's l1: 0.93261\n",
      "[1000]\ttraining's l1: 1.02214\tvalid_1's l1: 0.932012\n",
      "[1100]\ttraining's l1: 1.02167\tvalid_1's l1: 0.931743\n",
      "[1200]\ttraining's l1: 1.02128\tvalid_1's l1: 0.931366\n",
      "[1300]\ttraining's l1: 1.02102\tvalid_1's l1: 0.931396\n",
      "[1400]\ttraining's l1: 1.02063\tvalid_1's l1: 0.931264\n"
     ]
    },
    {
     "name": "stderr",
     "output_type": "stream",
     "text": [
      "\u001b[32m[I 2021-07-12 00:10:21,386]\u001b[0m Trial 63 finished with value: -0.9311838438823722 and parameters: {'max_depth': 3, 'min_child_weight': 9, 'subsample': 0.9, 'colsample_bytree': 0.6, 'reg_lambda': 1.0522853384247164, 'reg_alpha': 0.29576654929539475, 'feature_fraction': 0.7621001340838373, 'bagging_fraction': 0.6699226775681972, 'bagging_freq': 8}. Best is trial 52 with value: -0.9274795620237848.\u001b[0m\n"
     ]
    },
    {
     "name": "stdout",
     "output_type": "stream",
     "text": [
      "Early stopping, best iteration is:\n",
      "[1349]\ttraining's l1: 1.0208\tvalid_1's l1: 0.931203\n",
      "[LightGBM] [Warning] feature_fraction is set=0.9128686462930028, colsample_bytree=0.6 will be ignored. Current value: feature_fraction=0.9128686462930028\n",
      "[LightGBM] [Warning] bagging_fraction is set=0.6185975424050278, subsample=0.9 will be ignored. Current value: bagging_fraction=0.6185975424050278\n",
      "[LightGBM] [Warning] bagging_freq is set=9, subsample_freq=0 will be ignored. Current value: bagging_freq=9\n",
      "Training until validation scores don't improve for 100 rounds\n",
      "[100]\ttraining's l1: 1.02373\tvalid_1's l1: 0.933279\n",
      "[200]\ttraining's l1: 1.01855\tvalid_1's l1: 0.931326\n",
      "[300]\ttraining's l1: 1.01491\tvalid_1's l1: 0.929661\n"
     ]
    },
    {
     "name": "stderr",
     "output_type": "stream",
     "text": [
      "\u001b[32m[I 2021-07-12 00:10:30,122]\u001b[0m Trial 64 finished with value: -0.929551105308818 and parameters: {'max_depth': 5, 'min_child_weight': 11, 'subsample': 0.9, 'colsample_bytree': 0.6, 'reg_lambda': 15.275330502530617, 'reg_alpha': 8.52559158858847, 'feature_fraction': 0.9128686462930028, 'bagging_fraction': 0.6185975424050278, 'bagging_freq': 9}. Best is trial 52 with value: -0.9274795620237848.\u001b[0m\n"
     ]
    },
    {
     "name": "stdout",
     "output_type": "stream",
     "text": [
      "Early stopping, best iteration is:\n",
      "[242]\ttraining's l1: 1.01604\tvalid_1's l1: 0.929568\n",
      "[LightGBM] [Warning] feature_fraction is set=0.976631074369192, colsample_bytree=0.7 will be ignored. Current value: feature_fraction=0.976631074369192\n",
      "[LightGBM] [Warning] bagging_fraction is set=0.6122282085472911, subsample=0.9 will be ignored. Current value: bagging_fraction=0.6122282085472911\n",
      "[LightGBM] [Warning] bagging_freq is set=10, subsample_freq=0 will be ignored. Current value: bagging_freq=10\n",
      "Training until validation scores don't improve for 100 rounds\n",
      "[100]\ttraining's l1: 1.03148\tvalid_1's l1: 0.941786\n",
      "[200]\ttraining's l1: 1.02854\tvalid_1's l1: 0.939638\n",
      "[300]\ttraining's l1: 1.02705\tvalid_1's l1: 0.938268\n",
      "[400]\ttraining's l1: 1.02608\tvalid_1's l1: 0.938334\n"
     ]
    },
    {
     "name": "stderr",
     "output_type": "stream",
     "text": [
      "\u001b[32m[I 2021-07-12 00:10:40,391]\u001b[0m Trial 65 finished with value: -0.9380656821006953 and parameters: {'max_depth': 6, 'min_child_weight': 12, 'subsample': 0.9, 'colsample_bytree': 0.7, 'reg_lambda': 0.004881904508247234, 'reg_alpha': 80.88567257966304, 'feature_fraction': 0.976631074369192, 'bagging_fraction': 0.6122282085472911, 'bagging_freq': 10}. Best is trial 52 with value: -0.9274795620237848.\u001b[0m\n"
     ]
    },
    {
     "name": "stdout",
     "output_type": "stream",
     "text": [
      "Early stopping, best iteration is:\n",
      "[314]\ttraining's l1: 1.02679\tvalid_1's l1: 0.938072\n",
      "[LightGBM] [Warning] feature_fraction is set=0.9077473659484967, colsample_bytree=0.6 will be ignored. Current value: feature_fraction=0.9077473659484967\n",
      "[LightGBM] [Warning] bagging_fraction is set=0.5736128955390584, subsample=0.8 will be ignored. Current value: bagging_fraction=0.5736128955390584\n",
      "[LightGBM] [Warning] bagging_freq is set=9, subsample_freq=0 will be ignored. Current value: bagging_freq=9\n",
      "Training until validation scores don't improve for 100 rounds\n",
      "[100]\ttraining's l1: 1.02668\tvalid_1's l1: 0.937242\n",
      "[200]\ttraining's l1: 1.02132\tvalid_1's l1: 0.933817\n",
      "[300]\ttraining's l1: 1.01813\tvalid_1's l1: 0.933412\n",
      "[400]\ttraining's l1: 1.01592\tvalid_1's l1: 0.932488\n"
     ]
    },
    {
     "name": "stderr",
     "output_type": "stream",
     "text": [
      "\u001b[32m[I 2021-07-12 00:10:50,591]\u001b[0m Trial 66 finished with value: -0.9319144192343934 and parameters: {'max_depth': 5, 'min_child_weight': 15, 'subsample': 0.8, 'colsample_bytree': 0.6, 'reg_lambda': 156.72902151213827, 'reg_alpha': 24.47058903279698, 'feature_fraction': 0.9077473659484967, 'bagging_fraction': 0.5736128955390584, 'bagging_freq': 9}. Best is trial 52 with value: -0.9274795620237848.\u001b[0m\n"
     ]
    },
    {
     "name": "stdout",
     "output_type": "stream",
     "text": [
      "Early stopping, best iteration is:\n",
      "[322]\ttraining's l1: 1.01721\tvalid_1's l1: 0.931933\n",
      "[LightGBM] [Warning] feature_fraction is set=0.9371829612761434, colsample_bytree=0.5 will be ignored. Current value: feature_fraction=0.9371829612761434\n",
      "[LightGBM] [Warning] bagging_fraction is set=0.4310852415823266, subsample=0.9 will be ignored. Current value: bagging_fraction=0.4310852415823266\n",
      "[LightGBM] [Warning] bagging_freq is set=7, subsample_freq=0 will be ignored. Current value: bagging_freq=7\n",
      "Training until validation scores don't improve for 100 rounds\n",
      "[100]\ttraining's l1: 1.03396\tvalid_1's l1: 0.942054\n",
      "[200]\ttraining's l1: 1.03316\tvalid_1's l1: 0.941342\n"
     ]
    },
    {
     "name": "stderr",
     "output_type": "stream",
     "text": [
      "\u001b[32m[I 2021-07-12 00:10:57,688]\u001b[0m Trial 67 finished with value: -0.9413399801042405 and parameters: {'max_depth': 7, 'min_child_weight': 13, 'subsample': 0.9, 'colsample_bytree': 0.5, 'reg_lambda': 5.391608478213474, 'reg_alpha': 5.87114749772826, 'feature_fraction': 0.9371829612761434, 'bagging_fraction': 0.4310852415823266, 'bagging_freq': 7}. Best is trial 52 with value: -0.9274795620237848.\u001b[0m\n"
     ]
    },
    {
     "name": "stdout",
     "output_type": "stream",
     "text": [
      "[300]\ttraining's l1: 1.03293\tvalid_1's l1: 0.94146\n",
      "Early stopping, best iteration is:\n",
      "[201]\ttraining's l1: 1.03316\tvalid_1's l1: 0.941341\n",
      "[LightGBM] [Warning] feature_fraction is set=0.6852057154177088, colsample_bytree=0.6 will be ignored. Current value: feature_fraction=0.6852057154177088\n",
      "[LightGBM] [Warning] bagging_fraction is set=0.6827598791527375, subsample=0.9 will be ignored. Current value: bagging_fraction=0.6827598791527375\n",
      "[LightGBM] [Warning] bagging_freq is set=1, subsample_freq=0 will be ignored. Current value: bagging_freq=1\n",
      "Training until validation scores don't improve for 100 rounds\n",
      "[100]\ttraining's l1: 1.03056\tvalid_1's l1: 0.938758\n",
      "[200]\ttraining's l1: 1.02988\tvalid_1's l1: 0.93824\n"
     ]
    },
    {
     "name": "stderr",
     "output_type": "stream",
     "text": [
      "\u001b[32m[I 2021-07-12 00:11:03,631]\u001b[0m Trial 68 finished with value: -0.9382025865752175 and parameters: {'max_depth': 6, 'min_child_weight': 2, 'subsample': 0.9, 'colsample_bytree': 0.6, 'reg_lambda': 0.22653423248246612, 'reg_alpha': 0.13374587218967807, 'feature_fraction': 0.6852057154177088, 'bagging_fraction': 0.6827598791527375, 'bagging_freq': 1}. Best is trial 52 with value: -0.9274795620237848.\u001b[0m\n"
     ]
    },
    {
     "name": "stdout",
     "output_type": "stream",
     "text": [
      "Early stopping, best iteration is:\n",
      "[125]\ttraining's l1: 1.02999\tvalid_1's l1: 0.938204\n",
      "[LightGBM] [Warning] feature_fraction is set=0.9019155228213371, colsample_bytree=0.6 will be ignored. Current value: feature_fraction=0.9019155228213371\n",
      "[LightGBM] [Warning] bagging_fraction is set=0.5601895913251281, subsample=0.6 will be ignored. Current value: bagging_fraction=0.5601895913251281\n",
      "[LightGBM] [Warning] bagging_freq is set=8, subsample_freq=0 will be ignored. Current value: bagging_freq=8\n",
      "Training until validation scores don't improve for 100 rounds\n",
      "[100]\ttraining's l1: 1.04333\tvalid_1's l1: 0.948328\n",
      "[200]\ttraining's l1: 1.03995\tvalid_1's l1: 0.944521\n",
      "[300]\ttraining's l1: 1.0387\tvalid_1's l1: 0.943211\n",
      "[400]\ttraining's l1: 1.03786\tvalid_1's l1: 0.942274\n",
      "[500]\ttraining's l1: 1.03723\tvalid_1's l1: 0.941617\n",
      "[600]\ttraining's l1: 1.03692\tvalid_1's l1: 0.941499\n",
      "[700]\ttraining's l1: 1.03633\tvalid_1's l1: 0.940674\n",
      "[800]\ttraining's l1: 1.03619\tvalid_1's l1: 0.940457\n",
      "[900]\ttraining's l1: 1.03583\tvalid_1's l1: 0.940143\n",
      "[1000]\ttraining's l1: 1.03562\tvalid_1's l1: 0.939868\n"
     ]
    },
    {
     "name": "stderr",
     "output_type": "stream",
     "text": [
      "\u001b[32m[I 2021-07-12 00:11:21,135]\u001b[0m Trial 69 finished with value: -0.9397859522809112 and parameters: {'max_depth': 2, 'min_child_weight': 19, 'subsample': 0.6, 'colsample_bytree': 0.6, 'reg_lambda': 0.09376944680889625, 'reg_alpha': 2.0741979837402393, 'feature_fraction': 0.9019155228213371, 'bagging_fraction': 0.5601895913251281, 'bagging_freq': 8}. Best is trial 52 with value: -0.9274795620237848.\u001b[0m\n"
     ]
    },
    {
     "name": "stdout",
     "output_type": "stream",
     "text": [
      "Early stopping, best iteration is:\n",
      "[988]\ttraining's l1: 1.03562\tvalid_1's l1: 0.939837\n",
      "[LightGBM] [Warning] feature_fraction is set=0.9940496498388033, colsample_bytree=0.5 will be ignored. Current value: feature_fraction=0.9940496498388033\n",
      "[LightGBM] [Warning] bagging_fraction is set=0.5073520744236584, subsample=0.7 will be ignored. Current value: bagging_fraction=0.5073520744236584\n",
      "[LightGBM] [Warning] bagging_freq is set=10, subsample_freq=0 will be ignored. Current value: bagging_freq=10\n",
      "Training until validation scores don't improve for 100 rounds\n",
      "[100]\ttraining's l1: 1.02649\tvalid_1's l1: 0.938773\n",
      "[200]\ttraining's l1: 1.02136\tvalid_1's l1: 0.935663\n",
      "[300]\ttraining's l1: 1.0189\tvalid_1's l1: 0.934756\n",
      "[400]\ttraining's l1: 1.01483\tvalid_1's l1: 0.932374\n",
      "[500]\ttraining's l1: 1.01296\tvalid_1's l1: 0.931851\n"
     ]
    },
    {
     "name": "stderr",
     "output_type": "stream",
     "text": [
      "\u001b[32m[I 2021-07-12 00:11:33,359]\u001b[0m Trial 70 finished with value: -0.93092053699667 and parameters: {'max_depth': 5, 'min_child_weight': 11, 'subsample': 0.7, 'colsample_bytree': 0.5, 'reg_lambda': 540.0691428243334, 'reg_alpha': 10.685636924958516, 'feature_fraction': 0.9940496498388033, 'bagging_fraction': 0.5073520744236584, 'bagging_freq': 10}. Best is trial 52 with value: -0.9274795620237848.\u001b[0m\n"
     ]
    },
    {
     "name": "stdout",
     "output_type": "stream",
     "text": [
      "Early stopping, best iteration is:\n",
      "[479]\ttraining's l1: 1.01377\tvalid_1's l1: 0.930941\n",
      "[LightGBM] [Warning] feature_fraction is set=0.8281545519434091, colsample_bytree=0.6 will be ignored. Current value: feature_fraction=0.8281545519434091\n",
      "[LightGBM] [Warning] bagging_fraction is set=0.650412567281955, subsample=0.9 will be ignored. Current value: bagging_fraction=0.650412567281955\n",
      "[LightGBM] [Warning] bagging_freq is set=9, subsample_freq=0 will be ignored. Current value: bagging_freq=9\n",
      "Training until validation scores don't improve for 100 rounds\n",
      "[100]\ttraining's l1: 1.03655\tvalid_1's l1: 0.94376\n",
      "[200]\ttraining's l1: 1.03146\tvalid_1's l1: 0.938533\n",
      "[300]\ttraining's l1: 1.02977\tvalid_1's l1: 0.937724\n",
      "[400]\ttraining's l1: 1.02869\tvalid_1's l1: 0.937587\n",
      "[500]\ttraining's l1: 1.02802\tvalid_1's l1: 0.937259\n",
      "[600]\ttraining's l1: 1.02703\tvalid_1's l1: 0.936833\n",
      "[700]\ttraining's l1: 1.02592\tvalid_1's l1: 0.935439\n",
      "[800]\ttraining's l1: 1.02535\tvalid_1's l1: 0.934642\n",
      "[900]\ttraining's l1: 1.02503\tvalid_1's l1: 0.934594\n",
      "[1000]\ttraining's l1: 1.02398\tvalid_1's l1: 0.933963\n",
      "[1100]\ttraining's l1: 1.02317\tvalid_1's l1: 0.933186\n",
      "[1200]\ttraining's l1: 1.02255\tvalid_1's l1: 0.93226\n",
      "[1300]\ttraining's l1: 1.0219\tvalid_1's l1: 0.93138\n",
      "[1400]\ttraining's l1: 1.02145\tvalid_1's l1: 0.931067\n",
      "[1500]\ttraining's l1: 1.02138\tvalid_1's l1: 0.930892\n",
      "[1600]\ttraining's l1: 1.02099\tvalid_1's l1: 0.930068\n",
      "[1700]\ttraining's l1: 1.0205\tvalid_1's l1: 0.929425\n",
      "[1800]\ttraining's l1: 1.02016\tvalid_1's l1: 0.92914\n",
      "[1900]\ttraining's l1: 1.02009\tvalid_1's l1: 0.929094\n",
      "[2000]\ttraining's l1: 1.02002\tvalid_1's l1: 0.929161\n",
      "Early stopping, best iteration is:\n",
      "[1941]\ttraining's l1: 1.02006\tvalid_1's l1: 0.929066\n"
     ]
    },
    {
     "name": "stderr",
     "output_type": "stream",
     "text": [
      "\u001b[32m[I 2021-07-12 00:12:11,380]\u001b[0m Trial 71 finished with value: -0.9290316168685103 and parameters: {'max_depth': 3, 'min_child_weight': 10, 'subsample': 0.9, 'colsample_bytree': 0.6, 'reg_lambda': 18.117905745428633, 'reg_alpha': 0.6521438781225389, 'feature_fraction': 0.8281545519434091, 'bagging_fraction': 0.650412567281955, 'bagging_freq': 9}. Best is trial 52 with value: -0.9274795620237848.\u001b[0m\n"
     ]
    },
    {
     "name": "stdout",
     "output_type": "stream",
     "text": [
      "[LightGBM] [Warning] feature_fraction is set=0.6541279807996104, colsample_bytree=0.6 will be ignored. Current value: feature_fraction=0.6541279807996104\n",
      "[LightGBM] [Warning] bagging_fraction is set=0.6132539865205622, subsample=0.9 will be ignored. Current value: bagging_fraction=0.6132539865205622\n",
      "[LightGBM] [Warning] bagging_freq is set=9, subsample_freq=0 will be ignored. Current value: bagging_freq=9\n",
      "Training until validation scores don't improve for 100 rounds\n",
      "[100]\ttraining's l1: 1.04388\tvalid_1's l1: 0.948873\n",
      "[200]\ttraining's l1: 1.04078\tvalid_1's l1: 0.945671\n",
      "[300]\ttraining's l1: 1.03919\tvalid_1's l1: 0.944189\n",
      "[400]\ttraining's l1: 1.0383\tvalid_1's l1: 0.943454\n",
      "[500]\ttraining's l1: 1.03748\tvalid_1's l1: 0.942676\n",
      "[600]\ttraining's l1: 1.03723\tvalid_1's l1: 0.942243\n"
     ]
    },
    {
     "name": "stderr",
     "output_type": "stream",
     "text": [
      "\u001b[32m[I 2021-07-12 00:12:22,233]\u001b[0m Trial 72 finished with value: -0.9421492145105586 and parameters: {'max_depth': 2, 'min_child_weight': 11, 'subsample': 0.9, 'colsample_bytree': 0.6, 'reg_lambda': 15.475731137026997, 'reg_alpha': 38.37875736491611, 'feature_fraction': 0.6541279807996104, 'bagging_fraction': 0.6132539865205622, 'bagging_freq': 9}. Best is trial 52 with value: -0.9274795620237848.\u001b[0m\n"
     ]
    },
    {
     "name": "stdout",
     "output_type": "stream",
     "text": [
      "Early stopping, best iteration is:\n",
      "[555]\ttraining's l1: 1.03726\tvalid_1's l1: 0.942175\n",
      "[LightGBM] [Warning] feature_fraction is set=0.815554562348698, colsample_bytree=0.6 will be ignored. Current value: feature_fraction=0.815554562348698\n",
      "[LightGBM] [Warning] bagging_fraction is set=0.6312567623300411, subsample=0.9 will be ignored. Current value: bagging_fraction=0.6312567623300411\n",
      "[LightGBM] [Warning] bagging_freq is set=9, subsample_freq=0 will be ignored. Current value: bagging_freq=9\n",
      "Training until validation scores don't improve for 100 rounds\n",
      "[100]\ttraining's l1: 1.03689\tvalid_1's l1: 0.943517\n",
      "[200]\ttraining's l1: 1.03103\tvalid_1's l1: 0.938944\n",
      "[300]\ttraining's l1: 1.0295\tvalid_1's l1: 0.938244\n",
      "[400]\ttraining's l1: 1.0284\tvalid_1's l1: 0.937461\n",
      "[500]\ttraining's l1: 1.02705\tvalid_1's l1: 0.936944\n"
     ]
    },
    {
     "name": "stderr",
     "output_type": "stream",
     "text": [
      "\u001b[32m[I 2021-07-12 00:12:32,987]\u001b[0m Trial 73 finished with value: -0.936575041223152 and parameters: {'max_depth': 3, 'min_child_weight': 12, 'subsample': 0.9, 'colsample_bytree': 0.6, 'reg_lambda': 2.8597007267338324, 'reg_alpha': 0.07828696364770495, 'feature_fraction': 0.815554562348698, 'bagging_fraction': 0.6312567623300411, 'bagging_freq': 9}. Best is trial 52 with value: -0.9274795620237848.\u001b[0m\n"
     ]
    },
    {
     "name": "stdout",
     "output_type": "stream",
     "text": [
      "Early stopping, best iteration is:\n",
      "[433]\ttraining's l1: 1.02786\tvalid_1's l1: 0.93659\n",
      "[LightGBM] [Warning] feature_fraction is set=0.9345696704455903, colsample_bytree=0.6 will be ignored. Current value: feature_fraction=0.9345696704455903\n",
      "[LightGBM] [Warning] bagging_fraction is set=0.7062206033583075, subsample=0.5 will be ignored. Current value: bagging_fraction=0.7062206033583075\n",
      "[LightGBM] [Warning] bagging_freq is set=9, subsample_freq=0 will be ignored. Current value: bagging_freq=9\n",
      "Training until validation scores don't improve for 100 rounds\n",
      "[100]\ttraining's l1: 1.02953\tvalid_1's l1: 0.936477\n",
      "[200]\ttraining's l1: 1.0232\tvalid_1's l1: 0.933488\n",
      "[300]\ttraining's l1: 1.02082\tvalid_1's l1: 0.9323\n"
     ]
    },
    {
     "name": "stderr",
     "output_type": "stream",
     "text": [
      "\u001b[32m[I 2021-07-12 00:12:41,723]\u001b[0m Trial 74 finished with value: -0.9320561127285528 and parameters: {'max_depth': 4, 'min_child_weight': 10, 'subsample': 0.5, 'colsample_bytree': 0.6, 'reg_lambda': 22.56230130320256, 'reg_alpha': 1.1351212419149894, 'feature_fraction': 0.9345696704455903, 'bagging_fraction': 0.7062206033583075, 'bagging_freq': 9}. Best is trial 52 with value: -0.9274795620237848.\u001b[0m\n"
     ]
    },
    {
     "name": "stdout",
     "output_type": "stream",
     "text": [
      "Early stopping, best iteration is:\n",
      "[239]\ttraining's l1: 1.02189\tvalid_1's l1: 0.932071\n",
      "[LightGBM] [Warning] feature_fraction is set=0.8825040300886186, colsample_bytree=0.6 will be ignored. Current value: feature_fraction=0.8825040300886186\n",
      "[LightGBM] [Warning] bagging_fraction is set=0.6642623432311803, subsample=0.9 will be ignored. Current value: bagging_fraction=0.6642623432311803\n",
      "[LightGBM] [Warning] bagging_freq is set=8, subsample_freq=0 will be ignored. Current value: bagging_freq=8\n",
      "Training until validation scores don't improve for 100 rounds\n",
      "[100]\ttraining's l1: 1.02278\tvalid_1's l1: 0.93391\n",
      "[200]\ttraining's l1: 1.01766\tvalid_1's l1: 0.929825\n",
      "[300]\ttraining's l1: 1.01473\tvalid_1's l1: 0.929223\n",
      "[400]\ttraining's l1: 1.01292\tvalid_1's l1: 0.92816\n"
     ]
    },
    {
     "name": "stderr",
     "output_type": "stream",
     "text": [
      "\u001b[32m[I 2021-07-12 00:12:54,137]\u001b[0m Trial 75 finished with value: -0.9281295098029702 and parameters: {'max_depth': 5, 'min_child_weight': 11, 'subsample': 0.9, 'colsample_bytree': 0.6, 'reg_lambda': 1.6964504761911392, 'reg_alpha': 0.03954694548756051, 'feature_fraction': 0.8825040300886186, 'bagging_fraction': 0.6642623432311803, 'bagging_freq': 8}. Best is trial 52 with value: -0.9274795620237848.\u001b[0m\n"
     ]
    },
    {
     "name": "stdout",
     "output_type": "stream",
     "text": [
      "Early stopping, best iteration is:\n",
      "[395]\ttraining's l1: 1.01293\tvalid_1's l1: 0.928149\n",
      "[LightGBM] [Warning] feature_fraction is set=0.4215403847116017, colsample_bytree=0.7 will be ignored. Current value: feature_fraction=0.4215403847116017\n",
      "[LightGBM] [Warning] bagging_fraction is set=0.6613700264606216, subsample=0.9 will be ignored. Current value: bagging_fraction=0.6613700264606216\n",
      "[LightGBM] [Warning] bagging_freq is set=8, subsample_freq=0 will be ignored. Current value: bagging_freq=8\n",
      "Training until validation scores don't improve for 100 rounds\n",
      "[100]\ttraining's l1: 1.03671\tvalid_1's l1: 0.944333\n",
      "[200]\ttraining's l1: 1.03122\tvalid_1's l1: 0.937544\n",
      "[300]\ttraining's l1: 1.02855\tvalid_1's l1: 0.935745\n",
      "[400]\ttraining's l1: 1.02718\tvalid_1's l1: 0.934838\n",
      "[500]\ttraining's l1: 1.02617\tvalid_1's l1: 0.93344\n",
      "[600]\ttraining's l1: 1.02547\tvalid_1's l1: 0.933148\n"
     ]
    },
    {
     "name": "stderr",
     "output_type": "stream",
     "text": [
      "\u001b[32m[I 2021-07-12 00:13:10,347]\u001b[0m Trial 76 finished with value: -0.9328780894677698 and parameters: {'max_depth': 3, 'min_child_weight': 14, 'subsample': 0.9, 'colsample_bytree': 0.7, 'reg_lambda': 1.6517115255829495, 'reg_alpha': 0.04493783739653005, 'feature_fraction': 0.4215403847116017, 'bagging_fraction': 0.6613700264606216, 'bagging_freq': 8}. Best is trial 52 with value: -0.9274795620237848.\u001b[0m\n"
     ]
    },
    {
     "name": "stdout",
     "output_type": "stream",
     "text": [
      "Early stopping, best iteration is:\n",
      "[576]\ttraining's l1: 1.02582\tvalid_1's l1: 0.932892\n",
      "[LightGBM] [Warning] feature_fraction is set=0.8867772297556867, colsample_bytree=0.6 will be ignored. Current value: feature_fraction=0.8867772297556867\n",
      "[LightGBM] [Warning] bagging_fraction is set=0.6878262299363936, subsample=0.9 will be ignored. Current value: bagging_fraction=0.6878262299363936\n",
      "[LightGBM] [Warning] bagging_freq is set=2, subsample_freq=0 will be ignored. Current value: bagging_freq=2\n",
      "Training until validation scores don't improve for 100 rounds\n",
      "[100]\ttraining's l1: 1.03722\tvalid_1's l1: 0.946693\n",
      "[200]\ttraining's l1: 1.0372\tvalid_1's l1: 0.946668\n",
      "[300]\ttraining's l1: 1.03715\tvalid_1's l1: 0.946496\n",
      "[400]\ttraining's l1: 1.03712\tvalid_1's l1: 0.946484\n",
      "[500]\ttraining's l1: 1.03711\tvalid_1's l1: 0.946481\n",
      "[600]\ttraining's l1: 1.03687\tvalid_1's l1: 0.946261\n",
      "[700]\ttraining's l1: 1.03685\tvalid_1's l1: 0.946285\n"
     ]
    },
    {
     "name": "stderr",
     "output_type": "stream",
     "text": [
      "\u001b[32m[I 2021-07-12 00:13:36,472]\u001b[0m Trial 77 finished with value: -0.946257437073671 and parameters: {'max_depth': 20, 'min_child_weight': 9, 'subsample': 0.9, 'colsample_bytree': 0.6, 'reg_lambda': 0.6937394208033814, 'reg_alpha': 0.1596268667620991, 'feature_fraction': 0.8867772297556867, 'bagging_fraction': 0.6878262299363936, 'bagging_freq': 2}. Best is trial 52 with value: -0.9274795620237848.\u001b[0m\n"
     ]
    },
    {
     "name": "stdout",
     "output_type": "stream",
     "text": [
      "Early stopping, best iteration is:\n",
      "[609]\ttraining's l1: 1.03687\tvalid_1's l1: 0.946258\n",
      "[LightGBM] [Warning] feature_fraction is set=0.704710054683556, colsample_bytree=0.6 will be ignored. Current value: feature_fraction=0.704710054683556\n",
      "[LightGBM] [Warning] bagging_fraction is set=0.5319039535939928, subsample=0.8 will be ignored. Current value: bagging_fraction=0.5319039535939928\n",
      "[LightGBM] [Warning] bagging_freq is set=8, subsample_freq=0 will be ignored. Current value: bagging_freq=8\n",
      "Training until validation scores don't improve for 100 rounds\n",
      "[100]\ttraining's l1: 1.06027\tvalid_1's l1: 0.972572\n",
      "Early stopping, best iteration is:\n",
      "[18]\ttraining's l1: 1.06041\tvalid_1's l1: 0.972539\n"
     ]
    },
    {
     "name": "stderr",
     "output_type": "stream",
     "text": [
      "\u001b[32m[I 2021-07-12 00:13:39,254]\u001b[0m Trial 78 finished with value: -0.9725389869492758 and parameters: {'max_depth': 1, 'min_child_weight': 13, 'subsample': 0.8, 'colsample_bytree': 0.6, 'reg_lambda': 1.270452837198581, 'reg_alpha': 0.011777536354988506, 'feature_fraction': 0.704710054683556, 'bagging_fraction': 0.5319039535939928, 'bagging_freq': 8}. Best is trial 52 with value: -0.9274795620237848.\u001b[0m\n"
     ]
    },
    {
     "name": "stdout",
     "output_type": "stream",
     "text": [
      "[LightGBM] [Warning] feature_fraction is set=0.8683488877511232, colsample_bytree=0.5 will be ignored. Current value: feature_fraction=0.8683488877511232\n",
      "[LightGBM] [Warning] bagging_fraction is set=0.5869995587687279, subsample=0.9 will be ignored. Current value: bagging_fraction=0.5869995587687279\n",
      "[LightGBM] [Warning] bagging_freq is set=7, subsample_freq=0 will be ignored. Current value: bagging_freq=7\n",
      "Training until validation scores don't improve for 100 rounds\n",
      "[100]\ttraining's l1: 1.02301\tvalid_1's l1: 0.933055\n",
      "[200]\ttraining's l1: 1.01794\tvalid_1's l1: 0.929864\n",
      "[300]\ttraining's l1: 1.01506\tvalid_1's l1: 0.928489\n"
     ]
    },
    {
     "name": "stderr",
     "output_type": "stream",
     "text": [
      "\u001b[32m[I 2021-07-12 00:13:48,508]\u001b[0m Trial 79 finished with value: -0.9284057505440158 and parameters: {'max_depth': 5, 'min_child_weight': 10, 'subsample': 0.9, 'colsample_bytree': 0.5, 'reg_lambda': 3.900498997101517, 'reg_alpha': 0.03683442097371512, 'feature_fraction': 0.8683488877511232, 'bagging_fraction': 0.5869995587687279, 'bagging_freq': 7}. Best is trial 52 with value: -0.9274795620237848.\u001b[0m\n"
     ]
    },
    {
     "name": "stdout",
     "output_type": "stream",
     "text": [
      "Early stopping, best iteration is:\n",
      "[286]\ttraining's l1: 1.01511\tvalid_1's l1: 0.928421\n",
      "[LightGBM] [Warning] feature_fraction is set=0.8519163998337252, colsample_bytree=0.5 will be ignored. Current value: feature_fraction=0.8519163998337252\n",
      "[LightGBM] [Warning] bagging_fraction is set=0.5928829284673294, subsample=0.9 will be ignored. Current value: bagging_fraction=0.5928829284673294\n",
      "[LightGBM] [Warning] bagging_freq is set=7, subsample_freq=0 will be ignored. Current value: bagging_freq=7\n",
      "Training until validation scores don't improve for 100 rounds\n",
      "[100]\ttraining's l1: 1.03084\tvalid_1's l1: 0.939952\n",
      "[200]\ttraining's l1: 1.0288\tvalid_1's l1: 0.938169\n",
      "[300]\ttraining's l1: 1.02797\tvalid_1's l1: 0.93789\n"
     ]
    },
    {
     "name": "stderr",
     "output_type": "stream",
     "text": [
      "\u001b[32m[I 2021-07-12 00:13:57,012]\u001b[0m Trial 80 finished with value: -0.937840275172142 and parameters: {'max_depth': 6, 'min_child_weight': 12, 'subsample': 0.9, 'colsample_bytree': 0.5, 'reg_lambda': 4.423206108890349, 'reg_alpha': 0.0360257645799194, 'feature_fraction': 0.8519163998337252, 'bagging_fraction': 0.5928829284673294, 'bagging_freq': 7}. Best is trial 52 with value: -0.9274795620237848.\u001b[0m\n"
     ]
    },
    {
     "name": "stdout",
     "output_type": "stream",
     "text": [
      "Early stopping, best iteration is:\n",
      "[240]\ttraining's l1: 1.02801\tvalid_1's l1: 0.937842\n",
      "[LightGBM] [Warning] feature_fraction is set=0.8244286813732202, colsample_bytree=0.5 will be ignored. Current value: feature_fraction=0.8244286813732202\n",
      "[LightGBM] [Warning] bagging_fraction is set=0.6396014276772164, subsample=0.9 will be ignored. Current value: bagging_fraction=0.6396014276772164\n",
      "[LightGBM] [Warning] bagging_freq is set=7, subsample_freq=0 will be ignored. Current value: bagging_freq=7\n",
      "Training until validation scores don't improve for 100 rounds\n",
      "[100]\ttraining's l1: 1.02862\tvalid_1's l1: 0.935754\n",
      "[200]\ttraining's l1: 1.02298\tvalid_1's l1: 0.93151\n",
      "[300]\ttraining's l1: 1.02017\tvalid_1's l1: 0.930033\n",
      "[400]\ttraining's l1: 1.01863\tvalid_1's l1: 0.928986\n"
     ]
    },
    {
     "name": "stderr",
     "output_type": "stream",
     "text": [
      "\u001b[32m[I 2021-07-12 00:14:07,670]\u001b[0m Trial 81 finished with value: -0.9285345905764446 and parameters: {'max_depth': 4, 'min_child_weight': 10, 'subsample': 0.9, 'colsample_bytree': 0.5, 'reg_lambda': 1.8302115098164398, 'reg_alpha': 0.01740002717149131, 'feature_fraction': 0.8244286813732202, 'bagging_fraction': 0.6396014276772164, 'bagging_freq': 7}. Best is trial 52 with value: -0.9274795620237848.\u001b[0m\n"
     ]
    },
    {
     "name": "stdout",
     "output_type": "stream",
     "text": [
      "Early stopping, best iteration is:\n",
      "[369]\ttraining's l1: 1.01899\tvalid_1's l1: 0.92855\n",
      "[LightGBM] [Warning] feature_fraction is set=0.8218731249603132, colsample_bytree=0.5 will be ignored. Current value: feature_fraction=0.8218731249603132\n",
      "[LightGBM] [Warning] bagging_fraction is set=0.6412064828980117, subsample=0.9 will be ignored. Current value: bagging_fraction=0.6412064828980117\n",
      "[LightGBM] [Warning] bagging_freq is set=7, subsample_freq=0 will be ignored. Current value: bagging_freq=7\n",
      "Training until validation scores don't improve for 100 rounds\n",
      "[100]\ttraining's l1: 1.02783\tvalid_1's l1: 0.935371\n",
      "[200]\ttraining's l1: 1.0225\tvalid_1's l1: 0.93123\n",
      "[300]\ttraining's l1: 1.0211\tvalid_1's l1: 0.930646\n",
      "[400]\ttraining's l1: 1.01828\tvalid_1's l1: 0.929792\n"
     ]
    },
    {
     "name": "stderr",
     "output_type": "stream",
     "text": [
      "\u001b[32m[I 2021-07-12 00:14:18,120]\u001b[0m Trial 82 finished with value: -0.9291171748695665 and parameters: {'max_depth': 4, 'min_child_weight': 10, 'subsample': 0.9, 'colsample_bytree': 0.5, 'reg_lambda': 1.864556077097988, 'reg_alpha': 0.018811255221902988, 'feature_fraction': 0.8218731249603132, 'bagging_fraction': 0.6412064828980117, 'bagging_freq': 7}. Best is trial 52 with value: -0.9274795620237848.\u001b[0m\n"
     ]
    },
    {
     "name": "stdout",
     "output_type": "stream",
     "text": [
      "Early stopping, best iteration is:\n",
      "[356]\ttraining's l1: 1.0198\tvalid_1's l1: 0.929133\n",
      "[LightGBM] [Warning] feature_fraction is set=0.8736016525694381, colsample_bytree=0.5 will be ignored. Current value: feature_fraction=0.8736016525694381\n",
      "[LightGBM] [Warning] bagging_fraction is set=0.5868721808614304, subsample=0.9 will be ignored. Current value: bagging_fraction=0.5868721808614304\n",
      "[LightGBM] [Warning] bagging_freq is set=6, subsample_freq=0 will be ignored. Current value: bagging_freq=6\n",
      "Training until validation scores don't improve for 100 rounds\n",
      "[100]\ttraining's l1: 1.03606\tvalid_1's l1: 0.943217\n",
      "[200]\ttraining's l1: 1.03169\tvalid_1's l1: 0.939967\n",
      "[300]\ttraining's l1: 1.02943\tvalid_1's l1: 0.938384\n",
      "[400]\ttraining's l1: 1.0281\tvalid_1's l1: 0.937939\n",
      "[500]\ttraining's l1: 1.02694\tvalid_1's l1: 0.937201\n",
      "[600]\ttraining's l1: 1.02593\tvalid_1's l1: 0.936824\n",
      "[700]\ttraining's l1: 1.02541\tvalid_1's l1: 0.93675\n",
      "[800]\ttraining's l1: 1.025\tvalid_1's l1: 0.936299\n",
      "[900]\ttraining's l1: 1.02422\tvalid_1's l1: 0.935545\n",
      "[1000]\ttraining's l1: 1.02352\tvalid_1's l1: 0.934872\n"
     ]
    },
    {
     "name": "stderr",
     "output_type": "stream",
     "text": [
      "\u001b[32m[I 2021-07-12 00:14:38,937]\u001b[0m Trial 83 finished with value: -0.9348446884733946 and parameters: {'max_depth': 3, 'min_child_weight': 11, 'subsample': 0.9, 'colsample_bytree': 0.5, 'reg_lambda': 0.67211696054105, 'reg_alpha': 0.01644447905652761, 'feature_fraction': 0.8736016525694381, 'bagging_fraction': 0.5868721808614304, 'bagging_freq': 6}. Best is trial 52 with value: -0.9274795620237848.\u001b[0m\n"
     ]
    },
    {
     "name": "stdout",
     "output_type": "stream",
     "text": [
      "Early stopping, best iteration is:\n",
      "[999]\ttraining's l1: 1.02352\tvalid_1's l1: 0.934872\n",
      "[LightGBM] [Warning] feature_fraction is set=0.8041344308530658, colsample_bytree=0.5 will be ignored. Current value: feature_fraction=0.8041344308530658\n",
      "[LightGBM] [Warning] bagging_fraction is set=0.570000826603694, subsample=0.9 will be ignored. Current value: bagging_fraction=0.570000826603694\n",
      "[LightGBM] [Warning] bagging_freq is set=7, subsample_freq=0 will be ignored. Current value: bagging_freq=7\n",
      "Training until validation scores don't improve for 100 rounds\n",
      "[100]\ttraining's l1: 1.02237\tvalid_1's l1: 0.935572\n",
      "[200]\ttraining's l1: 1.01843\tvalid_1's l1: 0.931888\n"
     ]
    },
    {
     "name": "stderr",
     "output_type": "stream",
     "text": [
      "\u001b[32m[I 2021-07-12 00:14:45,882]\u001b[0m Trial 84 finished with value: -0.9317266349417024 and parameters: {'max_depth': 5, 'min_child_weight': 10, 'subsample': 0.9, 'colsample_bytree': 0.5, 'reg_lambda': 2.5251309637872406, 'reg_alpha': 0.030212890899379844, 'feature_fraction': 0.8041344308530658, 'bagging_fraction': 0.570000826603694, 'bagging_freq': 7}. Best is trial 52 with value: -0.9274795620237848.\u001b[0m\n"
     ]
    },
    {
     "name": "stdout",
     "output_type": "stream",
     "text": [
      "Early stopping, best iteration is:\n",
      "[184]\ttraining's l1: 1.01869\tvalid_1's l1: 0.931744\n",
      "[LightGBM] [Warning] feature_fraction is set=0.8372566301090744, colsample_bytree=0.5 will be ignored. Current value: feature_fraction=0.8372566301090744\n",
      "[LightGBM] [Warning] bagging_fraction is set=0.6061049573255876, subsample=0.9 will be ignored. Current value: bagging_fraction=0.6061049573255876\n",
      "[LightGBM] [Warning] bagging_freq is set=8, subsample_freq=0 will be ignored. Current value: bagging_freq=8\n",
      "Training until validation scores don't improve for 100 rounds\n",
      "[100]\ttraining's l1: 1.02779\tvalid_1's l1: 0.935351\n",
      "[200]\ttraining's l1: 1.0221\tvalid_1's l1: 0.931598\n",
      "[300]\ttraining's l1: 1.02032\tvalid_1's l1: 0.930305\n",
      "[400]\ttraining's l1: 1.01828\tvalid_1's l1: 0.930117\n",
      "[500]\ttraining's l1: 1.01674\tvalid_1's l1: 0.927334\n"
     ]
    },
    {
     "name": "stderr",
     "output_type": "stream",
     "text": [
      "\u001b[32m[I 2021-07-12 00:14:57,579]\u001b[0m Trial 85 finished with value: -0.927171840232365 and parameters: {'max_depth': 4, 'min_child_weight': 9, 'subsample': 0.9, 'colsample_bytree': 0.5, 'reg_lambda': 6.510811254961921, 'reg_alpha': 0.06473836374830975, 'feature_fraction': 0.8372566301090744, 'bagging_fraction': 0.6061049573255876, 'bagging_freq': 8}. Best is trial 85 with value: -0.927171840232365.\u001b[0m\n"
     ]
    },
    {
     "name": "stdout",
     "output_type": "stream",
     "text": [
      "Early stopping, best iteration is:\n",
      "[447]\ttraining's l1: 1.01682\tvalid_1's l1: 0.927191\n",
      "[LightGBM] [Warning] feature_fraction is set=0.8615761806234242, colsample_bytree=0.5 will be ignored. Current value: feature_fraction=0.8615761806234242\n",
      "[LightGBM] [Warning] bagging_fraction is set=0.6008278034175709, subsample=0.9 will be ignored. Current value: bagging_fraction=0.6008278034175709\n",
      "[LightGBM] [Warning] bagging_freq is set=6, subsample_freq=0 will be ignored. Current value: bagging_freq=6\n",
      "Training until validation scores don't improve for 100 rounds\n",
      "[100]\ttraining's l1: 1.02947\tvalid_1's l1: 0.938162\n",
      "[200]\ttraining's l1: 1.02333\tvalid_1's l1: 0.932702\n",
      "[300]\ttraining's l1: 1.0218\tvalid_1's l1: 0.932046\n",
      "[400]\ttraining's l1: 1.01958\tvalid_1's l1: 0.930657\n",
      "[500]\ttraining's l1: 1.01812\tvalid_1's l1: 0.929031\n",
      "[600]\ttraining's l1: 1.01699\tvalid_1's l1: 0.928438\n",
      "[700]\ttraining's l1: 1.01551\tvalid_1's l1: 0.926893\n",
      "[800]\ttraining's l1: 1.0142\tvalid_1's l1: 0.927458\n"
     ]
    },
    {
     "name": "stderr",
     "output_type": "stream",
     "text": [
      "\u001b[32m[I 2021-07-12 00:15:14,722]\u001b[0m Trial 86 finished with value: -0.9266460044641004 and parameters: {'max_depth': 4, 'min_child_weight': 9, 'subsample': 0.9, 'colsample_bytree': 0.5, 'reg_lambda': 6.674872391777479, 'reg_alpha': 0.06024628993289382, 'feature_fraction': 0.8615761806234242, 'bagging_fraction': 0.6008278034175709, 'bagging_freq': 6}. Best is trial 86 with value: -0.9266460044641004.\u001b[0m\n"
     ]
    },
    {
     "name": "stdout",
     "output_type": "stream",
     "text": [
      "Early stopping, best iteration is:\n",
      "[713]\ttraining's l1: 1.0153\tvalid_1's l1: 0.926677\n",
      "[LightGBM] [Warning] feature_fraction is set=0.8912628058422049, colsample_bytree=0.5 will be ignored. Current value: feature_fraction=0.8912628058422049\n",
      "[LightGBM] [Warning] bagging_fraction is set=0.5191312524859348, subsample=0.9 will be ignored. Current value: bagging_fraction=0.5191312524859348\n",
      "[LightGBM] [Warning] bagging_freq is set=6, subsample_freq=0 will be ignored. Current value: bagging_freq=6\n",
      "Training until validation scores don't improve for 100 rounds\n",
      "[100]\ttraining's l1: 1.02958\tvalid_1's l1: 0.936781\n",
      "[200]\ttraining's l1: 1.02371\tvalid_1's l1: 0.931637\n",
      "[300]\ttraining's l1: 1.02219\tvalid_1's l1: 0.930475\n",
      "[400]\ttraining's l1: 1.02003\tvalid_1's l1: 0.930497\n",
      "[500]\ttraining's l1: 1.01814\tvalid_1's l1: 0.929272\n",
      "[600]\ttraining's l1: 1.0168\tvalid_1's l1: 0.928695\n"
     ]
    },
    {
     "name": "stderr",
     "output_type": "stream",
     "text": [
      "\u001b[32m[I 2021-07-12 00:15:27,474]\u001b[0m Trial 87 finished with value: -0.9284641443452384 and parameters: {'max_depth': 4, 'min_child_weight': 9, 'subsample': 0.9, 'colsample_bytree': 0.5, 'reg_lambda': 3.556554188563472, 'reg_alpha': 0.010263690729651737, 'feature_fraction': 0.8912628058422049, 'bagging_fraction': 0.5191312524859348, 'bagging_freq': 6}. Best is trial 86 with value: -0.9266460044641004.\u001b[0m\n"
     ]
    },
    {
     "name": "stdout",
     "output_type": "stream",
     "text": [
      "Early stopping, best iteration is:\n",
      "[519]\ttraining's l1: 1.01769\tvalid_1's l1: 0.928486\n",
      "[LightGBM] [Warning] feature_fraction is set=0.894365264301334, colsample_bytree=0.5 will be ignored. Current value: feature_fraction=0.894365264301334\n",
      "[LightGBM] [Warning] bagging_fraction is set=0.5451621969040052, subsample=0.9 will be ignored. Current value: bagging_fraction=0.5451621969040052\n",
      "[LightGBM] [Warning] bagging_freq is set=6, subsample_freq=0 will be ignored. Current value: bagging_freq=6\n",
      "Training until validation scores don't improve for 100 rounds\n",
      "[100]\ttraining's l1: 1.04364\tvalid_1's l1: 0.94891\n",
      "[200]\ttraining's l1: 1.0402\tvalid_1's l1: 0.945014\n",
      "[300]\ttraining's l1: 1.03842\tvalid_1's l1: 0.942506\n",
      "[400]\ttraining's l1: 1.03787\tvalid_1's l1: 0.942317\n",
      "Early stopping, best iteration is:\n",
      "[312]\ttraining's l1: 1.03828\tvalid_1's l1: 0.942122\n"
     ]
    },
    {
     "name": "stderr",
     "output_type": "stream",
     "text": [
      "\u001b[32m[I 2021-07-12 00:15:35,554]\u001b[0m Trial 88 finished with value: -0.9421056630217385 and parameters: {'max_depth': 2, 'min_child_weight': 9, 'subsample': 0.9, 'colsample_bytree': 0.5, 'reg_lambda': 5.278173843299694, 'reg_alpha': 0.0737929820508061, 'feature_fraction': 0.894365264301334, 'bagging_fraction': 0.5451621969040052, 'bagging_freq': 6}. Best is trial 86 with value: -0.9266460044641004.\u001b[0m\n"
     ]
    },
    {
     "name": "stdout",
     "output_type": "stream",
     "text": [
      "[LightGBM] [Warning] feature_fraction is set=0.8647356288479278, colsample_bytree=0.5 will be ignored. Current value: feature_fraction=0.8647356288479278\n",
      "[LightGBM] [Warning] bagging_fraction is set=0.4734243222380426, subsample=0.9 will be ignored. Current value: bagging_fraction=0.4734243222380426\n",
      "[LightGBM] [Warning] bagging_freq is set=6, subsample_freq=0 will be ignored. Current value: bagging_freq=6\n",
      "Training until validation scores don't improve for 100 rounds\n",
      "[100]\ttraining's l1: 1.02886\tvalid_1's l1: 0.93537\n",
      "[200]\ttraining's l1: 1.0237\tvalid_1's l1: 0.931939\n",
      "[300]\ttraining's l1: 1.02217\tvalid_1's l1: 0.930505\n",
      "[400]\ttraining's l1: 1.01906\tvalid_1's l1: 0.929855\n",
      "[500]\ttraining's l1: 1.01816\tvalid_1's l1: 0.929825\n"
     ]
    },
    {
     "name": "stderr",
     "output_type": "stream",
     "text": [
      "\u001b[32m[I 2021-07-12 00:15:46,848]\u001b[0m Trial 89 finished with value: -0.9294853076086483 and parameters: {'max_depth': 4, 'min_child_weight': 8, 'subsample': 0.9, 'colsample_bytree': 0.5, 'reg_lambda': 3.4145911732759635, 'reg_alpha': 0.011142035762840806, 'feature_fraction': 0.8647356288479278, 'bagging_fraction': 0.4734243222380426, 'bagging_freq': 6}. Best is trial 86 with value: -0.9266460044641004.\u001b[0m\n"
     ]
    },
    {
     "name": "stdout",
     "output_type": "stream",
     "text": [
      "[600]\ttraining's l1: 1.0174\tvalid_1's l1: 0.929741\n",
      "Early stopping, best iteration is:\n",
      "[504]\ttraining's l1: 1.01798\tvalid_1's l1: 0.929541\n",
      "[LightGBM] [Warning] feature_fraction is set=0.9659334987431376, colsample_bytree=0.5 will be ignored. Current value: feature_fraction=0.9659334987431376\n",
      "[LightGBM] [Warning] bagging_fraction is set=0.9991614591449561, subsample=0.9 will be ignored. Current value: bagging_fraction=0.9991614591449561\n",
      "[LightGBM] [Warning] bagging_freq is set=5, subsample_freq=0 will be ignored. Current value: bagging_freq=5\n",
      "Training until validation scores don't improve for 100 rounds\n",
      "[100]\ttraining's l1: 1.03195\tvalid_1's l1: 0.941031\n",
      "[200]\ttraining's l1: 1.03039\tvalid_1's l1: 0.939768\n",
      "[300]\ttraining's l1: 1.02924\tvalid_1's l1: 0.939206\n",
      "[400]\ttraining's l1: 1.02855\tvalid_1's l1: 0.938453\n",
      "[500]\ttraining's l1: 1.02617\tvalid_1's l1: 0.936909\n",
      "[600]\ttraining's l1: 1.02574\tvalid_1's l1: 0.936763\n",
      "[700]\ttraining's l1: 1.02449\tvalid_1's l1: 0.936191\n",
      "[800]\ttraining's l1: 1.02228\tvalid_1's l1: 0.933771\n",
      "[900]\ttraining's l1: 1.02176\tvalid_1's l1: 0.932784\n",
      "[1000]\ttraining's l1: 1.02079\tvalid_1's l1: 0.931824\n",
      "[1100]\ttraining's l1: 1.01978\tvalid_1's l1: 0.931765\n",
      "Early stopping, best iteration is:\n",
      "[1087]\ttraining's l1: 1.0198\tvalid_1's l1: 0.931729\n"
     ]
    },
    {
     "name": "stderr",
     "output_type": "stream",
     "text": [
      "\u001b[32m[I 2021-07-12 00:16:28,968]\u001b[0m Trial 90 finished with value: -0.9317121736139659 and parameters: {'max_depth': 6, 'min_child_weight': 7, 'subsample': 0.9, 'colsample_bytree': 0.5, 'reg_lambda': 10.247789246649326, 'reg_alpha': 0.04455048272262807, 'feature_fraction': 0.9659334987431376, 'bagging_fraction': 0.9991614591449561, 'bagging_freq': 5}. Best is trial 86 with value: -0.9266460044641004.\u001b[0m\n"
     ]
    },
    {
     "name": "stdout",
     "output_type": "stream",
     "text": [
      "[LightGBM] [Warning] feature_fraction is set=0.8792745711484596, colsample_bytree=0.5 will be ignored. Current value: feature_fraction=0.8792745711484596\n",
      "[LightGBM] [Warning] bagging_fraction is set=0.5234440318336958, subsample=0.9 will be ignored. Current value: bagging_fraction=0.5234440318336958\n",
      "[LightGBM] [Warning] bagging_freq is set=6, subsample_freq=0 will be ignored. Current value: bagging_freq=6\n",
      "Training until validation scores don't improve for 100 rounds\n",
      "[100]\ttraining's l1: 1.02869\tvalid_1's l1: 0.934368\n",
      "[200]\ttraining's l1: 1.02378\tvalid_1's l1: 0.931574\n",
      "[300]\ttraining's l1: 1.0221\tvalid_1's l1: 0.930459\n",
      "[400]\ttraining's l1: 1.02046\tvalid_1's l1: 0.930348\n"
     ]
    },
    {
     "name": "stderr",
     "output_type": "stream",
     "text": [
      "\u001b[32m[I 2021-07-12 00:16:37,801]\u001b[0m Trial 91 finished with value: -0.9301063058730527 and parameters: {'max_depth': 4, 'min_child_weight': 9, 'subsample': 0.9, 'colsample_bytree': 0.5, 'reg_lambda': 1.411224007643308, 'reg_alpha': 0.00824955043065348, 'feature_fraction': 0.8792745711484596, 'bagging_fraction': 0.5234440318336958, 'bagging_freq': 6}. Best is trial 86 with value: -0.9266460044641004.\u001b[0m\n"
     ]
    },
    {
     "name": "stdout",
     "output_type": "stream",
     "text": [
      "Early stopping, best iteration is:\n",
      "[319]\ttraining's l1: 1.02157\tvalid_1's l1: 0.930114\n",
      "[LightGBM] [Warning] feature_fraction is set=0.8411209832543576, colsample_bytree=0.5 will be ignored. Current value: feature_fraction=0.8411209832543576\n",
      "[LightGBM] [Warning] bagging_fraction is set=0.5997475330640443, subsample=0.9 will be ignored. Current value: bagging_fraction=0.5997475330640443\n",
      "[LightGBM] [Warning] bagging_freq is set=7, subsample_freq=0 will be ignored. Current value: bagging_freq=7\n",
      "Training until validation scores don't improve for 100 rounds\n",
      "[100]\ttraining's l1: 1.02495\tvalid_1's l1: 0.934455\n",
      "[200]\ttraining's l1: 1.01807\tvalid_1's l1: 0.930687\n",
      "[300]\ttraining's l1: 1.01789\tvalid_1's l1: 0.930971\n",
      "Early stopping, best iteration is:\n",
      "[210]\ttraining's l1: 1.018\tvalid_1's l1: 0.930597\n"
     ]
    },
    {
     "name": "stderr",
     "output_type": "stream",
     "text": [
      "\u001b[32m[I 2021-07-12 00:16:45,459]\u001b[0m Trial 92 finished with value: -0.9305881145574953 and parameters: {'max_depth': 5, 'min_child_weight': 11, 'subsample': 0.9, 'colsample_bytree': 0.5, 'reg_lambda': 6.72321675570125, 'reg_alpha': 0.004172044073441834, 'feature_fraction': 0.8411209832543576, 'bagging_fraction': 0.5997475330640443, 'bagging_freq': 7}. Best is trial 86 with value: -0.9266460044641004.\u001b[0m\n"
     ]
    },
    {
     "name": "stdout",
     "output_type": "stream",
     "text": [
      "[LightGBM] [Warning] feature_fraction is set=0.9216258656361456, colsample_bytree=0.5 will be ignored. Current value: feature_fraction=0.9216258656361456\n",
      "[LightGBM] [Warning] bagging_fraction is set=0.4940750260492359, subsample=0.9 will be ignored. Current value: bagging_fraction=0.4940750260492359\n",
      "[LightGBM] [Warning] bagging_freq is set=6, subsample_freq=0 will be ignored. Current value: bagging_freq=6\n",
      "Training until validation scores don't improve for 100 rounds\n",
      "[100]\ttraining's l1: 1.02929\tvalid_1's l1: 0.937193\n",
      "[200]\ttraining's l1: 1.0228\tvalid_1's l1: 0.933231\n",
      "[300]\ttraining's l1: 1.02168\tvalid_1's l1: 0.932253\n",
      "[400]\ttraining's l1: 1.02061\tvalid_1's l1: 0.931166\n",
      "[500]\ttraining's l1: 1.01864\tvalid_1's l1: 0.930884\n",
      "[600]\ttraining's l1: 1.017\tvalid_1's l1: 0.929331\n",
      "[700]\ttraining's l1: 1.01653\tvalid_1's l1: 0.928713\n"
     ]
    },
    {
     "name": "stderr",
     "output_type": "stream",
     "text": [
      "\u001b[32m[I 2021-07-12 00:17:00,603]\u001b[0m Trial 93 finished with value: -0.9285823858214072 and parameters: {'max_depth': 4, 'min_child_weight': 8, 'subsample': 0.9, 'colsample_bytree': 0.5, 'reg_lambda': 0.9426768726674792, 'reg_alpha': 0.015838395233234978, 'feature_fraction': 0.9216258656361456, 'bagging_fraction': 0.4940750260492359, 'bagging_freq': 6}. Best is trial 86 with value: -0.9266460044641004.\u001b[0m\n"
     ]
    },
    {
     "name": "stdout",
     "output_type": "stream",
     "text": [
      "Early stopping, best iteration is:\n",
      "[661]\ttraining's l1: 1.01661\tvalid_1's l1: 0.928635\n",
      "[LightGBM] [Warning] feature_fraction is set=0.8878536030927856, colsample_bytree=0.5 will be ignored. Current value: feature_fraction=0.8878536030927856\n",
      "[LightGBM] [Warning] bagging_fraction is set=0.5610304593202915, subsample=0.9 will be ignored. Current value: bagging_fraction=0.5610304593202915\n",
      "[LightGBM] [Warning] bagging_freq is set=7, subsample_freq=0 will be ignored. Current value: bagging_freq=7\n",
      "Training until validation scores don't improve for 100 rounds\n",
      "[100]\ttraining's l1: 1.03634\tvalid_1's l1: 0.943008\n",
      "[200]\ttraining's l1: 1.0313\tvalid_1's l1: 0.939188\n",
      "[300]\ttraining's l1: 1.02986\tvalid_1's l1: 0.938718\n",
      "[400]\ttraining's l1: 1.0285\tvalid_1's l1: 0.93766\n",
      "[500]\ttraining's l1: 1.02729\tvalid_1's l1: 0.936675\n",
      "[600]\ttraining's l1: 1.02638\tvalid_1's l1: 0.936337\n",
      "[700]\ttraining's l1: 1.0259\tvalid_1's l1: 0.936202\n",
      "[800]\ttraining's l1: 1.02463\tvalid_1's l1: 0.935561\n",
      "[900]\ttraining's l1: 1.02398\tvalid_1's l1: 0.934456\n",
      "[1000]\ttraining's l1: 1.02367\tvalid_1's l1: 0.934144\n",
      "[1100]\ttraining's l1: 1.02292\tvalid_1's l1: 0.933187\n",
      "[1200]\ttraining's l1: 1.02242\tvalid_1's l1: 0.932569\n",
      "[1300]\ttraining's l1: 1.02135\tvalid_1's l1: 0.932346\n",
      "[1400]\ttraining's l1: 1.0209\tvalid_1's l1: 0.931821\n"
     ]
    },
    {
     "name": "stderr",
     "output_type": "stream",
     "text": [
      "\u001b[32m[I 2021-07-12 00:17:26,725]\u001b[0m Trial 94 finished with value: -0.9317178360093346 and parameters: {'max_depth': 3, 'min_child_weight': 9, 'subsample': 0.9, 'colsample_bytree': 0.5, 'reg_lambda': 3.608804033594101, 'reg_alpha': 0.026151635850102117, 'feature_fraction': 0.8878536030927856, 'bagging_fraction': 0.5610304593202915, 'bagging_freq': 7}. Best is trial 86 with value: -0.9266460044641004.\u001b[0m\n"
     ]
    },
    {
     "name": "stdout",
     "output_type": "stream",
     "text": [
      "Early stopping, best iteration is:\n",
      "[1374]\ttraining's l1: 1.02106\tvalid_1's l1: 0.931733\n",
      "[LightGBM] [Warning] feature_fraction is set=0.8569680254652976, colsample_bytree=0.5 will be ignored. Current value: feature_fraction=0.8569680254652976\n",
      "[LightGBM] [Warning] bagging_fraction is set=0.5812668234740072, subsample=0.9 will be ignored. Current value: bagging_fraction=0.5812668234740072\n",
      "[LightGBM] [Warning] bagging_freq is set=8, subsample_freq=0 will be ignored. Current value: bagging_freq=8\n",
      "Training until validation scores don't improve for 100 rounds\n",
      "[100]\ttraining's l1: 1.0238\tvalid_1's l1: 0.93258\n",
      "[200]\ttraining's l1: 1.01603\tvalid_1's l1: 0.927854\n",
      "[300]\ttraining's l1: 1.01494\tvalid_1's l1: 0.928236\n"
     ]
    },
    {
     "name": "stderr",
     "output_type": "stream",
     "text": [
      "\u001b[32m[I 2021-07-12 00:17:34,995]\u001b[0m Trial 95 finished with value: -0.9275397425130569 and parameters: {'max_depth': 5, 'min_child_weight': 10, 'subsample': 0.9, 'colsample_bytree': 0.5, 'reg_lambda': 2.0202901807014406, 'reg_alpha': 0.03582536091801247, 'feature_fraction': 0.8569680254652976, 'bagging_fraction': 0.5812668234740072, 'bagging_freq': 8}. Best is trial 86 with value: -0.9266460044641004.\u001b[0m\n"
     ]
    },
    {
     "name": "stdout",
     "output_type": "stream",
     "text": [
      "Early stopping, best iteration is:\n",
      "[247]\ttraining's l1: 1.01534\tvalid_1's l1: 0.927558\n",
      "[LightGBM] [Warning] feature_fraction is set=0.8602718313419075, colsample_bytree=0.5 will be ignored. Current value: feature_fraction=0.8602718313419075\n",
      "[LightGBM] [Warning] bagging_fraction is set=0.5373402874643961, subsample=0.9 will be ignored. Current value: bagging_fraction=0.5373402874643961\n",
      "[LightGBM] [Warning] bagging_freq is set=8, subsample_freq=0 will be ignored. Current value: bagging_freq=8\n",
      "Training until validation scores don't improve for 100 rounds\n",
      "[100]\ttraining's l1: 1.02322\tvalid_1's l1: 0.933417\n",
      "[200]\ttraining's l1: 1.01652\tvalid_1's l1: 0.928648\n"
     ]
    },
    {
     "name": "stderr",
     "output_type": "stream",
     "text": [
      "\u001b[32m[I 2021-07-12 00:17:41,986]\u001b[0m Trial 96 finished with value: -0.9280945828105432 and parameters: {'max_depth': 5, 'min_child_weight': 9, 'subsample': 0.9, 'colsample_bytree': 0.5, 'reg_lambda': 0.0017528482983544427, 'reg_alpha': 0.06879455953353046, 'feature_fraction': 0.8602718313419075, 'bagging_fraction': 0.5373402874643961, 'bagging_freq': 8}. Best is trial 86 with value: -0.9266460044641004.\u001b[0m\n"
     ]
    },
    {
     "name": "stdout",
     "output_type": "stream",
     "text": [
      "Early stopping, best iteration is:\n",
      "[193]\ttraining's l1: 1.01693\tvalid_1's l1: 0.928111\n",
      "[LightGBM] [Warning] feature_fraction is set=0.8544893263822596, colsample_bytree=0.5 will be ignored. Current value: feature_fraction=0.8544893263822596\n",
      "[LightGBM] [Warning] bagging_fraction is set=0.5394081424266675, subsample=0.9 will be ignored. Current value: bagging_fraction=0.5394081424266675\n",
      "[LightGBM] [Warning] bagging_freq is set=8, subsample_freq=0 will be ignored. Current value: bagging_freq=8\n",
      "Training until validation scores don't improve for 100 rounds\n",
      "[100]\ttraining's l1: 1.0228\tvalid_1's l1: 0.932876\n",
      "[200]\ttraining's l1: 1.01851\tvalid_1's l1: 0.92754\n"
     ]
    },
    {
     "name": "stderr",
     "output_type": "stream",
     "text": [
      "\u001b[32m[I 2021-07-12 00:17:48,715]\u001b[0m Trial 97 finished with value: -0.9274779668525129 and parameters: {'max_depth': 5, 'min_child_weight': 12, 'subsample': 0.9, 'colsample_bytree': 0.5, 'reg_lambda': 0.001995354824036522, 'reg_alpha': 0.06306987536990856, 'feature_fraction': 0.8544893263822596, 'bagging_fraction': 0.5394081424266675, 'bagging_freq': 8}. Best is trial 86 with value: -0.9266460044641004.\u001b[0m\n"
     ]
    },
    {
     "name": "stdout",
     "output_type": "stream",
     "text": [
      "Early stopping, best iteration is:\n",
      "[181]\ttraining's l1: 1.01868\tvalid_1's l1: 0.927487\n",
      "[LightGBM] [Warning] feature_fraction is set=0.854454718967636, colsample_bytree=0.5 will be ignored. Current value: feature_fraction=0.854454718967636\n",
      "[LightGBM] [Warning] bagging_fraction is set=0.5384884541277658, subsample=0.9 will be ignored. Current value: bagging_fraction=0.5384884541277658\n",
      "[LightGBM] [Warning] bagging_freq is set=8, subsample_freq=0 will be ignored. Current value: bagging_freq=8\n",
      "Training until validation scores don't improve for 100 rounds\n",
      "[100]\ttraining's l1: 1.03027\tvalid_1's l1: 0.940043\n",
      "[200]\ttraining's l1: 1.02886\tvalid_1's l1: 0.938971\n",
      "[300]\ttraining's l1: 1.02873\tvalid_1's l1: 0.938701\n"
     ]
    },
    {
     "name": "stderr",
     "output_type": "stream",
     "text": [
      "\u001b[32m[I 2021-07-12 00:17:56,685]\u001b[0m Trial 98 finished with value: -0.9386330651419815 and parameters: {'max_depth': 6, 'min_child_weight': 12, 'subsample': 0.9, 'colsample_bytree': 0.5, 'reg_lambda': 0.0016533391698654088, 'reg_alpha': 0.11779729867145769, 'feature_fraction': 0.854454718967636, 'bagging_fraction': 0.5384884541277658, 'bagging_freq': 8}. Best is trial 86 with value: -0.9266460044641004.\u001b[0m\n"
     ]
    },
    {
     "name": "stdout",
     "output_type": "stream",
     "text": [
      "Early stopping, best iteration is:\n",
      "[247]\ttraining's l1: 1.02875\tvalid_1's l1: 0.938685\n",
      "[LightGBM] [Warning] feature_fraction is set=0.7740470538108849, colsample_bytree=0.5 will be ignored. Current value: feature_fraction=0.7740470538108849\n",
      "[LightGBM] [Warning] bagging_fraction is set=0.5739262707022579, subsample=0.9 will be ignored. Current value: bagging_fraction=0.5739262707022579\n",
      "[LightGBM] [Warning] bagging_freq is set=8, subsample_freq=0 will be ignored. Current value: bagging_freq=8\n",
      "Training until validation scores don't improve for 100 rounds\n",
      "[100]\ttraining's l1: 1.02204\tvalid_1's l1: 0.933399\n",
      "[200]\ttraining's l1: 1.01721\tvalid_1's l1: 0.929339\n"
     ]
    },
    {
     "name": "stderr",
     "output_type": "stream",
     "text": [
      "\u001b[32m[I 2021-07-12 00:18:03,453]\u001b[0m Trial 99 finished with value: -0.9292016013879539 and parameters: {'max_depth': 5, 'min_child_weight': 13, 'subsample': 0.9, 'colsample_bytree': 0.5, 'reg_lambda': 0.002944586119523626, 'reg_alpha': 0.07223580951147117, 'feature_fraction': 0.7740470538108849, 'bagging_fraction': 0.5739262707022579, 'bagging_freq': 8}. Best is trial 86 with value: -0.9266460044641004.\u001b[0m\n",
      "\u001b[32m[I 2021-07-12 00:18:03,455]\u001b[0m A new study created in memory with name: no-name-a8789307-7d07-4e0c-b0a5-cfb06a5ac444\u001b[0m\n"
     ]
    },
    {
     "name": "stdout",
     "output_type": "stream",
     "text": [
      "Early stopping, best iteration is:\n",
      "[183]\ttraining's l1: 1.01738\tvalid_1's l1: 0.929218\n",
      "[LightGBM] [Warning] feature_fraction is set=0.523365407635499, colsample_bytree=0.9 will be ignored. Current value: feature_fraction=0.523365407635499\n",
      "[LightGBM] [Warning] bagging_fraction is set=0.45793920318951004, subsample=0.8 will be ignored. Current value: bagging_fraction=0.45793920318951004\n",
      "[LightGBM] [Warning] bagging_freq is set=7, subsample_freq=0 will be ignored. Current value: bagging_freq=7\n",
      "Training until validation scores don't improve for 100 rounds\n",
      "[100]\ttraining's l1: 1.06061\tvalid_1's l1: 1.632\n",
      "[200]\ttraining's l1: 1.03323\tvalid_1's l1: 1.60933\n",
      "[300]\ttraining's l1: 1.01834\tvalid_1's l1: 1.60207\n",
      "[400]\ttraining's l1: 1.00897\tvalid_1's l1: 1.59768\n",
      "[500]\ttraining's l1: 1.00047\tvalid_1's l1: 1.59373\n",
      "[600]\ttraining's l1: 0.993412\tvalid_1's l1: 1.58978\n",
      "[700]\ttraining's l1: 0.986676\tvalid_1's l1: 1.58694\n",
      "[800]\ttraining's l1: 0.981776\tvalid_1's l1: 1.58675\n"
     ]
    },
    {
     "name": "stderr",
     "output_type": "stream",
     "text": [
      "\u001b[32m[I 2021-07-12 00:18:22,193]\u001b[0m Trial 0 finished with value: -1.584711615559388 and parameters: {'max_depth': 3, 'min_child_weight': 4, 'subsample': 0.8, 'colsample_bytree': 0.9, 'reg_lambda': 0.08676621116917314, 'reg_alpha': 2.2440693235175035, 'feature_fraction': 0.523365407635499, 'bagging_fraction': 0.45793920318951004, 'bagging_freq': 7}. Best is trial 0 with value: -1.584711615559388.\u001b[0m\n"
     ]
    },
    {
     "name": "stdout",
     "output_type": "stream",
     "text": [
      "Early stopping, best iteration is:\n",
      "[785]\ttraining's l1: 0.98257\tvalid_1's l1: 1.58626\n",
      "[LightGBM] [Warning] feature_fraction is set=0.9748728503670614, colsample_bytree=0.6 will be ignored. Current value: feature_fraction=0.9748728503670614\n",
      "[LightGBM] [Warning] bagging_fraction is set=0.8271391686964673, subsample=0.6 will be ignored. Current value: bagging_fraction=0.8271391686964673\n",
      "[LightGBM] [Warning] bagging_freq is set=3, subsample_freq=0 will be ignored. Current value: bagging_freq=3\n",
      "Training until validation scores don't improve for 100 rounds\n",
      "[100]\ttraining's l1: 0.9969\tvalid_1's l1: 1.59227\n",
      "[200]\ttraining's l1: 0.972013\tvalid_1's l1: 1.58885\n"
     ]
    },
    {
     "name": "stderr",
     "output_type": "stream",
     "text": [
      "\u001b[32m[I 2021-07-12 00:18:34,330]\u001b[0m Trial 1 finished with value: -1.5876762218248572 and parameters: {'max_depth': 7, 'min_child_weight': 15, 'subsample': 0.6, 'colsample_bytree': 0.6, 'reg_lambda': 79.23524384294578, 'reg_alpha': 227.4248618108612, 'feature_fraction': 0.9748728503670614, 'bagging_fraction': 0.8271391686964673, 'bagging_freq': 3}. Best is trial 0 with value: -1.584711615559388.\u001b[0m\n"
     ]
    },
    {
     "name": "stdout",
     "output_type": "stream",
     "text": [
      "Early stopping, best iteration is:\n",
      "[180]\ttraining's l1: 0.972984\tvalid_1's l1: 1.58769\n",
      "[LightGBM] [Warning] feature_fraction is set=0.8122578899608133, colsample_bytree=0.7 will be ignored. Current value: feature_fraction=0.8122578899608133\n",
      "[LightGBM] [Warning] bagging_fraction is set=0.5188477197693401, subsample=0.5 will be ignored. Current value: bagging_fraction=0.5188477197693401\n",
      "[LightGBM] [Warning] bagging_freq is set=3, subsample_freq=0 will be ignored. Current value: bagging_freq=3\n",
      "Training until validation scores don't improve for 100 rounds\n",
      "[100]\ttraining's l1: 1.11451\tvalid_1's l1: 1.69985\n",
      "[200]\ttraining's l1: 1.10901\tvalid_1's l1: 1.69144\n",
      "[300]\ttraining's l1: 1.09645\tvalid_1's l1: 1.67258\n",
      "[400]\ttraining's l1: 1.07914\tvalid_1's l1: 1.65014\n",
      "[500]\ttraining's l1: 1.06438\tvalid_1's l1: 1.64151\n",
      "[600]\ttraining's l1: 1.05494\tvalid_1's l1: 1.63676\n",
      "[700]\ttraining's l1: 1.04938\tvalid_1's l1: 1.6348\n",
      "[800]\ttraining's l1: 1.04473\tvalid_1's l1: 1.63304\n",
      "[900]\ttraining's l1: 1.03836\tvalid_1's l1: 1.62723\n",
      "[1000]\ttraining's l1: 1.03457\tvalid_1's l1: 1.62486\n",
      "[1100]\ttraining's l1: 1.0315\tvalid_1's l1: 1.62299\n",
      "[1200]\ttraining's l1: 1.0276\tvalid_1's l1: 1.62112\n",
      "[1300]\ttraining's l1: 1.02411\tvalid_1's l1: 1.6207\n"
     ]
    },
    {
     "name": "stderr",
     "output_type": "stream",
     "text": [
      "\u001b[32m[I 2021-07-12 00:18:59,886]\u001b[0m Trial 2 finished with value: -1.6167823659661746 and parameters: {'max_depth': 2, 'min_child_weight': 19, 'subsample': 0.5, 'colsample_bytree': 0.7, 'reg_lambda': 3.0969043119980078, 'reg_alpha': 3.1041713728249243, 'feature_fraction': 0.8122578899608133, 'bagging_fraction': 0.5188477197693401, 'bagging_freq': 3}. Best is trial 0 with value: -1.584711615559388.\u001b[0m\n"
     ]
    },
    {
     "name": "stdout",
     "output_type": "stream",
     "text": [
      "Early stopping, best iteration is:\n",
      "[1291]\ttraining's l1: 1.02425\tvalid_1's l1: 1.6204\n",
      "[LightGBM] [Warning] feature_fraction is set=0.4408299229540828, colsample_bytree=0.8 will be ignored. Current value: feature_fraction=0.4408299229540828\n",
      "[LightGBM] [Warning] bagging_fraction is set=0.7862081985062177, subsample=0.8 will be ignored. Current value: bagging_fraction=0.7862081985062177\n",
      "[LightGBM] [Warning] bagging_freq is set=1, subsample_freq=0 will be ignored. Current value: bagging_freq=1\n",
      "Training until validation scores don't improve for 100 rounds\n",
      "[100]\ttraining's l1: 1.00094\tvalid_1's l1: 1.59541\n",
      "[200]\ttraining's l1: 0.982991\tvalid_1's l1: 1.59098\n",
      "[300]\ttraining's l1: 0.960579\tvalid_1's l1: 1.58662\n",
      "[400]\ttraining's l1: 0.938442\tvalid_1's l1: 1.58582\n",
      "[500]\ttraining's l1: 0.915399\tvalid_1's l1: 1.58214\n",
      "[600]\ttraining's l1: 0.902542\tvalid_1's l1: 1.5803\n",
      "[700]\ttraining's l1: 0.887633\tvalid_1's l1: 1.58287\n"
     ]
    },
    {
     "name": "stderr",
     "output_type": "stream",
     "text": [
      "\u001b[32m[I 2021-07-12 00:19:23,209]\u001b[0m Trial 3 finished with value: -1.576452752201176 and parameters: {'max_depth': 9, 'min_child_weight': 6, 'subsample': 0.8, 'colsample_bytree': 0.8, 'reg_lambda': 0.0010660074380582924, 'reg_alpha': 0.04175812762155916, 'feature_fraction': 0.4408299229540828, 'bagging_fraction': 0.7862081985062177, 'bagging_freq': 1}. Best is trial 3 with value: -1.576452752201176.\u001b[0m\n"
     ]
    },
    {
     "name": "stdout",
     "output_type": "stream",
     "text": [
      "Early stopping, best iteration is:\n",
      "[647]\ttraining's l1: 0.893408\tvalid_1's l1: 1.57677\n",
      "[LightGBM] [Warning] feature_fraction is set=0.698603830215119, colsample_bytree=0.9 will be ignored. Current value: feature_fraction=0.698603830215119\n",
      "[LightGBM] [Warning] bagging_fraction is set=0.6963513786997235, subsample=0.7 will be ignored. Current value: bagging_fraction=0.6963513786997235\n",
      "[LightGBM] [Warning] bagging_freq is set=6, subsample_freq=0 will be ignored. Current value: bagging_freq=6\n",
      "Training until validation scores don't improve for 100 rounds\n",
      "[100]\ttraining's l1: 1.00597\tvalid_1's l1: 1.59463\n",
      "[200]\ttraining's l1: 0.9906\tvalid_1's l1: 1.58703\n",
      "[300]\ttraining's l1: 0.970111\tvalid_1's l1: 1.58007\n",
      "[400]\ttraining's l1: 0.940315\tvalid_1's l1: 1.57467\n",
      "[500]\ttraining's l1: 0.920181\tvalid_1's l1: 1.57297\n"
     ]
    },
    {
     "name": "stderr",
     "output_type": "stream",
     "text": [
      "\u001b[32m[I 2021-07-12 00:19:39,111]\u001b[0m Trial 4 finished with value: -1.5692496928573438 and parameters: {'max_depth': 20, 'min_child_weight': 4, 'subsample': 0.7, 'colsample_bytree': 0.9, 'reg_lambda': 67.51370062834565, 'reg_alpha': 0.015485653078654462, 'feature_fraction': 0.698603830215119, 'bagging_fraction': 0.6963513786997235, 'bagging_freq': 6}. Best is trial 4 with value: -1.5692496928573438.\u001b[0m\n"
     ]
    },
    {
     "name": "stdout",
     "output_type": "stream",
     "text": [
      "Early stopping, best iteration is:\n",
      "[465]\ttraining's l1: 0.92761\tvalid_1's l1: 1.56935\n",
      "[LightGBM] [Warning] feature_fraction is set=0.7254042493748418, colsample_bytree=0.9 will be ignored. Current value: feature_fraction=0.7254042493748418\n",
      "[LightGBM] [Warning] bagging_fraction is set=0.5148542011469882, subsample=0.7 will be ignored. Current value: bagging_fraction=0.5148542011469882\n",
      "[LightGBM] [Warning] bagging_freq is set=8, subsample_freq=0 will be ignored. Current value: bagging_freq=8\n",
      "Training until validation scores don't improve for 100 rounds\n",
      "[100]\ttraining's l1: 1.0641\tvalid_1's l1: 1.63698\n",
      "[200]\ttraining's l1: 1.05308\tvalid_1's l1: 1.62766\n",
      "[300]\ttraining's l1: 1.04295\tvalid_1's l1: 1.61783\n",
      "[400]\ttraining's l1: 1.03771\tvalid_1's l1: 1.61758\n",
      "[500]\ttraining's l1: 1.03242\tvalid_1's l1: 1.61193\n",
      "[600]\ttraining's l1: 1.02827\tvalid_1's l1: 1.6085\n"
     ]
    },
    {
     "name": "stderr",
     "output_type": "stream",
     "text": [
      "\u001b[32m[I 2021-07-12 00:19:49,709]\u001b[0m Trial 5 finished with value: -1.607086392213175 and parameters: {'max_depth': 3, 'min_child_weight': 8, 'subsample': 0.7, 'colsample_bytree': 0.9, 'reg_lambda': 36.10616680287389, 'reg_alpha': 89.59686528002734, 'feature_fraction': 0.7254042493748418, 'bagging_fraction': 0.5148542011469882, 'bagging_freq': 8}. Best is trial 4 with value: -1.5692496928573438.\u001b[0m\n"
     ]
    },
    {
     "name": "stdout",
     "output_type": "stream",
     "text": [
      "Early stopping, best iteration is:\n",
      "[539]\ttraining's l1: 1.03045\tvalid_1's l1: 1.60766\n",
      "[LightGBM] [Warning] feature_fraction is set=0.9984899437284231, colsample_bytree=0.9 will be ignored. Current value: feature_fraction=0.9984899437284231\n",
      "[LightGBM] [Warning] bagging_fraction is set=0.8106967725858586, subsample=0.5 will be ignored. Current value: bagging_fraction=0.8106967725858586\n",
      "[LightGBM] [Warning] bagging_freq is set=2, subsample_freq=0 will be ignored. Current value: bagging_freq=2\n",
      "Training until validation scores don't improve for 100 rounds\n",
      "[100]\ttraining's l1: 0.993655\tvalid_1's l1: 1.58809\n",
      "[200]\ttraining's l1: 0.972033\tvalid_1's l1: 1.58063\n",
      "[300]\ttraining's l1: 0.957547\tvalid_1's l1: 1.57723\n",
      "[400]\ttraining's l1: 0.949288\tvalid_1's l1: 1.57413\n",
      "[500]\ttraining's l1: 0.94005\tvalid_1's l1: 1.57246\n",
      "[600]\ttraining's l1: 0.934057\tvalid_1's l1: 1.57204\n"
     ]
    },
    {
     "name": "stderr",
     "output_type": "stream",
     "text": [
      "\u001b[32m[I 2021-07-12 00:20:17,046]\u001b[0m Trial 6 finished with value: -1.5716421441580049 and parameters: {'max_depth': 8, 'min_child_weight': 18, 'subsample': 0.5, 'colsample_bytree': 0.9, 'reg_lambda': 5.742904891129502, 'reg_alpha': 9.904230642819485, 'feature_fraction': 0.9984899437284231, 'bagging_fraction': 0.8106967725858586, 'bagging_freq': 2}. Best is trial 4 with value: -1.5692496928573438.\u001b[0m\n"
     ]
    },
    {
     "name": "stdout",
     "output_type": "stream",
     "text": [
      "Early stopping, best iteration is:\n",
      "[521]\ttraining's l1: 0.937927\tvalid_1's l1: 1.57171\n",
      "[LightGBM] [Warning] feature_fraction is set=0.9061751032413977, colsample_bytree=0.8 will be ignored. Current value: feature_fraction=0.9061751032413977\n",
      "[LightGBM] [Warning] bagging_fraction is set=0.5036266723969626, subsample=0.7 will be ignored. Current value: bagging_fraction=0.5036266723969626\n",
      "[LightGBM] [Warning] bagging_freq is set=8, subsample_freq=0 will be ignored. Current value: bagging_freq=8\n",
      "Training until validation scores don't improve for 100 rounds\n",
      "[100]\ttraining's l1: 1.00151\tvalid_1's l1: 1.59688\n",
      "[200]\ttraining's l1: 0.992277\tvalid_1's l1: 1.59777\n",
      "[300]\ttraining's l1: 0.986349\tvalid_1's l1: 1.59536\n",
      "[400]\ttraining's l1: 0.979536\tvalid_1's l1: 1.59274\n",
      "[500]\ttraining's l1: 0.96908\tvalid_1's l1: 1.58917\n",
      "[600]\ttraining's l1: 0.959125\tvalid_1's l1: 1.58774\n",
      "[700]\ttraining's l1: 0.949086\tvalid_1's l1: 1.58124\n"
     ]
    },
    {
     "name": "stderr",
     "output_type": "stream",
     "text": [
      "\u001b[32m[I 2021-07-12 00:20:36,236]\u001b[0m Trial 7 finished with value: -1.5805267843604787 and parameters: {'max_depth': 15, 'min_child_weight': 20, 'subsample': 0.7, 'colsample_bytree': 0.8, 'reg_lambda': 46.540309350567696, 'reg_alpha': 421.37634807985637, 'feature_fraction': 0.9061751032413977, 'bagging_fraction': 0.5036266723969626, 'bagging_freq': 8}. Best is trial 4 with value: -1.5692496928573438.\u001b[0m\n"
     ]
    },
    {
     "name": "stdout",
     "output_type": "stream",
     "text": [
      "Early stopping, best iteration is:\n",
      "[684]\ttraining's l1: 0.950403\tvalid_1's l1: 1.58078\n",
      "[LightGBM] [Warning] feature_fraction is set=0.41982386670150185, colsample_bytree=0.7 will be ignored. Current value: feature_fraction=0.41982386670150185\n",
      "[LightGBM] [Warning] bagging_fraction is set=0.6762160367118992, subsample=0.5 will be ignored. Current value: bagging_fraction=0.6762160367118992\n",
      "[LightGBM] [Warning] bagging_freq is set=4, subsample_freq=0 will be ignored. Current value: bagging_freq=4\n",
      "Training until validation scores don't improve for 100 rounds\n",
      "[100]\ttraining's l1: 0.992776\tvalid_1's l1: 1.58942\n",
      "[200]\ttraining's l1: 0.972143\tvalid_1's l1: 1.58469\n",
      "[300]\ttraining's l1: 0.95805\tvalid_1's l1: 1.57619\n",
      "[400]\ttraining's l1: 0.938664\tvalid_1's l1: 1.57351\n",
      "[500]\ttraining's l1: 0.921083\tvalid_1's l1: 1.57257\n"
     ]
    },
    {
     "name": "stderr",
     "output_type": "stream",
     "text": [
      "\u001b[32m[I 2021-07-12 00:20:53,469]\u001b[0m Trial 8 finished with value: -1.5703909530842093 and parameters: {'max_depth': 12, 'min_child_weight': 3, 'subsample': 0.5, 'colsample_bytree': 0.7, 'reg_lambda': 0.14118520550768007, 'reg_alpha': 0.018265515374569014, 'feature_fraction': 0.41982386670150185, 'bagging_fraction': 0.6762160367118992, 'bagging_freq': 4}. Best is trial 4 with value: -1.5692496928573438.\u001b[0m\n"
     ]
    },
    {
     "name": "stdout",
     "output_type": "stream",
     "text": [
      "Early stopping, best iteration is:\n",
      "[445]\ttraining's l1: 0.930105\tvalid_1's l1: 1.57058\n",
      "[LightGBM] [Warning] feature_fraction is set=0.5825267709152437, colsample_bytree=0.5 will be ignored. Current value: feature_fraction=0.5825267709152437\n",
      "[LightGBM] [Warning] bagging_fraction is set=0.8442692301648496, subsample=0.6 will be ignored. Current value: bagging_fraction=0.8442692301648496\n",
      "[LightGBM] [Warning] bagging_freq is set=5, subsample_freq=0 will be ignored. Current value: bagging_freq=5\n",
      "Training until validation scores don't improve for 100 rounds\n",
      "[100]\ttraining's l1: 0.997037\tvalid_1's l1: 1.59269\n",
      "[200]\ttraining's l1: 0.985298\tvalid_1's l1: 1.58912\n",
      "[300]\ttraining's l1: 0.970054\tvalid_1's l1: 1.58101\n",
      "[400]\ttraining's l1: 0.95502\tvalid_1's l1: 1.57902\n",
      "[500]\ttraining's l1: 0.935065\tvalid_1's l1: 1.57623\n"
     ]
    },
    {
     "name": "stderr",
     "output_type": "stream",
     "text": [
      "\u001b[32m[I 2021-07-12 00:21:19,165]\u001b[0m Trial 9 finished with value: -1.5740643373785677 and parameters: {'max_depth': 7, 'min_child_weight': 5, 'subsample': 0.6, 'colsample_bytree': 0.5, 'reg_lambda': 41.039276986898436, 'reg_alpha': 10.815847911746367, 'feature_fraction': 0.5825267709152437, 'bagging_fraction': 0.8442692301648496, 'bagging_freq': 5}. Best is trial 4 with value: -1.5692496928573438.\u001b[0m\n"
     ]
    },
    {
     "name": "stdout",
     "output_type": "stream",
     "text": [
      "Early stopping, best iteration is:\n",
      "[491]\ttraining's l1: 0.937642\tvalid_1's l1: 1.57426\n",
      "[LightGBM] [Warning] feature_fraction is set=0.6454763714516287, colsample_bytree=0.8 will be ignored. Current value: feature_fraction=0.6454763714516287\n",
      "[LightGBM] [Warning] bagging_fraction is set=0.9797935162776864, subsample=0.9 will be ignored. Current value: bagging_fraction=0.9797935162776864\n",
      "[LightGBM] [Warning] bagging_freq is set=10, subsample_freq=0 will be ignored. Current value: bagging_freq=10\n",
      "Training until validation scores don't improve for 100 rounds\n",
      "[100]\ttraining's l1: 0.99947\tvalid_1's l1: 1.5874\n",
      "[200]\ttraining's l1: 0.986529\tvalid_1's l1: 1.58674\n",
      "[300]\ttraining's l1: 0.96493\tvalid_1's l1: 1.5801\n",
      "[400]\ttraining's l1: 0.94568\tvalid_1's l1: 1.57982\n"
     ]
    },
    {
     "name": "stderr",
     "output_type": "stream",
     "text": [
      "\u001b[32m[I 2021-07-12 00:21:35,689]\u001b[0m Trial 10 finished with value: -1.5769735405019778 and parameters: {'max_depth': 20, 'min_child_weight': 1, 'subsample': 0.9, 'colsample_bytree': 0.8, 'reg_lambda': 0.0025890480565670232, 'reg_alpha': 0.0010705569166255514, 'feature_fraction': 0.6454763714516287, 'bagging_fraction': 0.9797935162776864, 'bagging_freq': 10}. Best is trial 4 with value: -1.5692496928573438.\u001b[0m\n"
     ]
    },
    {
     "name": "stdout",
     "output_type": "stream",
     "text": [
      "Early stopping, best iteration is:\n",
      "[389]\ttraining's l1: 0.947809\tvalid_1's l1: 1.57706\n",
      "[LightGBM] [Warning] feature_fraction is set=0.4266879632301863, colsample_bytree=0.7 will be ignored. Current value: feature_fraction=0.4266879632301863\n",
      "[LightGBM] [Warning] bagging_fraction is set=0.6537647562665506, subsample=0.6 will be ignored. Current value: bagging_fraction=0.6537647562665506\n",
      "[LightGBM] [Warning] bagging_freq is set=5, subsample_freq=0 will be ignored. Current value: bagging_freq=5\n",
      "Training until validation scores don't improve for 100 rounds\n",
      "[100]\ttraining's l1: 1.00865\tvalid_1's l1: 1.59598\n",
      "[200]\ttraining's l1: 0.973892\tvalid_1's l1: 1.58542\n",
      "[300]\ttraining's l1: 0.947465\tvalid_1's l1: 1.5765\n",
      "[400]\ttraining's l1: 0.925261\tvalid_1's l1: 1.5743\n"
     ]
    },
    {
     "name": "stderr",
     "output_type": "stream",
     "text": [
      "\u001b[32m[I 2021-07-12 00:21:50,254]\u001b[0m Trial 11 finished with value: -1.5729855949677227 and parameters: {'max_depth': 20, 'min_child_weight': 2, 'subsample': 0.6, 'colsample_bytree': 0.7, 'reg_lambda': 0.23776476447428088, 'reg_alpha': 0.02645710703580141, 'feature_fraction': 0.4266879632301863, 'bagging_fraction': 0.6537647562665506, 'bagging_freq': 5}. Best is trial 4 with value: -1.5692496928573438.\u001b[0m\n"
     ]
    },
    {
     "name": "stdout",
     "output_type": "stream",
     "text": [
      "Early stopping, best iteration is:\n",
      "[366]\ttraining's l1: 0.931683\tvalid_1's l1: 1.57312\n",
      "[LightGBM] [Warning] feature_fraction is set=0.785958621422332, colsample_bytree=0.6 will be ignored. Current value: feature_fraction=0.785958621422332\n",
      "[LightGBM] [Warning] bagging_fraction is set=0.6488887439095707, subsample=0.9 will be ignored. Current value: bagging_fraction=0.6488887439095707\n",
      "[LightGBM] [Warning] bagging_freq is set=6, subsample_freq=0 will be ignored. Current value: bagging_freq=6\n",
      "Training until validation scores don't improve for 100 rounds\n",
      "[100]\ttraining's l1: 1.00178\tvalid_1's l1: 1.59265\n",
      "[200]\ttraining's l1: 0.999533\tvalid_1's l1: 1.59224\n",
      "[300]\ttraining's l1: 0.994743\tvalid_1's l1: 1.59099\n",
      "[400]\ttraining's l1: 0.992396\tvalid_1's l1: 1.58971\n"
     ]
    },
    {
     "name": "stderr",
     "output_type": "stream",
     "text": [
      "\u001b[32m[I 2021-07-12 00:22:03,295]\u001b[0m Trial 12 finished with value: -1.589508990064084 and parameters: {'max_depth': 16, 'min_child_weight': 11, 'subsample': 0.9, 'colsample_bytree': 0.6, 'reg_lambda': 621.3467186805559, 'reg_alpha': 0.05000304013625279, 'feature_fraction': 0.785958621422332, 'bagging_fraction': 0.6488887439095707, 'bagging_freq': 6}. Best is trial 4 with value: -1.5692496928573438.\u001b[0m\n"
     ]
    },
    {
     "name": "stdout",
     "output_type": "stream",
     "text": [
      "Early stopping, best iteration is:\n",
      "[392]\ttraining's l1: 0.992434\tvalid_1's l1: 1.58965\n",
      "[LightGBM] [Warning] feature_fraction is set=0.5111537051346546, colsample_bytree=0.6 will be ignored. Current value: feature_fraction=0.5111537051346546\n",
      "[LightGBM] [Warning] bagging_fraction is set=0.7023289006702048, subsample=0.5 will be ignored. Current value: bagging_fraction=0.7023289006702048\n",
      "[LightGBM] [Warning] bagging_freq is set=4, subsample_freq=0 will be ignored. Current value: bagging_freq=4\n",
      "Training until validation scores don't improve for 100 rounds\n",
      "[100]\ttraining's l1: 1.00493\tvalid_1's l1: 1.59647\n",
      "[200]\ttraining's l1: 0.982976\tvalid_1's l1: 1.58726\n",
      "[300]\ttraining's l1: 0.963009\tvalid_1's l1: 1.58125\n",
      "[400]\ttraining's l1: 0.938974\tvalid_1's l1: 1.5799\n",
      "[500]\ttraining's l1: 0.917621\tvalid_1's l1: 1.57641\n"
     ]
    },
    {
     "name": "stderr",
     "output_type": "stream",
     "text": [
      "\u001b[32m[I 2021-07-12 00:22:23,426]\u001b[0m Trial 13 finished with value: -1.5745715099585378 and parameters: {'max_depth': 13, 'min_child_weight': 10, 'subsample': 0.5, 'colsample_bytree': 0.6, 'reg_lambda': 0.022186810726773216, 'reg_alpha': 0.0022270404772000425, 'feature_fraction': 0.5111537051346546, 'bagging_fraction': 0.7023289006702048, 'bagging_freq': 4}. Best is trial 4 with value: -1.5692496928573438.\u001b[0m\n"
     ]
    },
    {
     "name": "stdout",
     "output_type": "stream",
     "text": [
      "Early stopping, best iteration is:\n",
      "[480]\ttraining's l1: 0.920384\tvalid_1's l1: 1.57487\n",
      "[LightGBM] [Warning] feature_fraction is set=0.6557011434511557, colsample_bytree=0.7 will be ignored. Current value: feature_fraction=0.6557011434511557\n",
      "[LightGBM] [Warning] bagging_fraction is set=0.6094101982786202, subsample=0.8 will be ignored. Current value: bagging_fraction=0.6094101982786202\n",
      "[LightGBM] [Warning] bagging_freq is set=6, subsample_freq=0 will be ignored. Current value: bagging_freq=6\n",
      "Training until validation scores don't improve for 100 rounds\n",
      "[100]\ttraining's l1: 0.998817\tvalid_1's l1: 1.58878\n",
      "[200]\ttraining's l1: 0.988494\tvalid_1's l1: 1.58574\n",
      "[300]\ttraining's l1: 0.973333\tvalid_1's l1: 1.5837\n",
      "[400]\ttraining's l1: 0.950521\tvalid_1's l1: 1.57712\n",
      "[500]\ttraining's l1: 0.93504\tvalid_1's l1: 1.57656\n",
      "[600]\ttraining's l1: 0.921375\tvalid_1's l1: 1.57488\n",
      "[700]\ttraining's l1: 0.912525\tvalid_1's l1: 1.57447\n",
      "[800]\ttraining's l1: 0.902132\tvalid_1's l1: 1.57706\n",
      "Early stopping, best iteration is:\n",
      "[709]\ttraining's l1: 0.912032\tvalid_1's l1: 1.57404\n"
     ]
    },
    {
     "name": "stderr",
     "output_type": "stream",
     "text": [
      "\u001b[32m[I 2021-07-12 00:22:43,625]\u001b[0m Trial 14 finished with value: -1.5738851768977915 and parameters: {'max_depth': 17, 'min_child_weight': 1, 'subsample': 0.8, 'colsample_bytree': 0.7, 'reg_lambda': 788.9529071982971, 'reg_alpha': 0.00695102598324082, 'feature_fraction': 0.6557011434511557, 'bagging_fraction': 0.6094101982786202, 'bagging_freq': 6}. Best is trial 4 with value: -1.5692496928573438.\u001b[0m\n"
     ]
    },
    {
     "name": "stdout",
     "output_type": "stream",
     "text": [
      "[LightGBM] [Warning] feature_fraction is set=0.8670880013807324, colsample_bytree=0.8 will be ignored. Current value: feature_fraction=0.8670880013807324\n",
      "[LightGBM] [Warning] bagging_fraction is set=0.7510125755512685, subsample=0.6 will be ignored. Current value: bagging_fraction=0.7510125755512685\n",
      "[LightGBM] [Warning] bagging_freq is set=10, subsample_freq=0 will be ignored. Current value: bagging_freq=10\n",
      "Training until validation scores don't improve for 100 rounds\n",
      "[100]\ttraining's l1: 1.00061\tvalid_1's l1: 1.59325\n"
     ]
    },
    {
     "name": "stderr",
     "output_type": "stream",
     "text": [
      "\u001b[32m[I 2021-07-12 00:22:50,886]\u001b[0m Trial 15 finished with value: -1.593226134654153 and parameters: {'max_depth': 11, 'min_child_weight': 3, 'subsample': 0.6, 'colsample_bytree': 0.8, 'reg_lambda': 0.6866333842055036, 'reg_alpha': 0.24922458747571824, 'feature_fraction': 0.8670880013807324, 'bagging_fraction': 0.7510125755512685, 'bagging_freq': 10}. Best is trial 4 with value: -1.5692496928573438.\u001b[0m\n"
     ]
    },
    {
     "name": "stdout",
     "output_type": "stream",
     "text": [
      "[200]\ttraining's l1: 0.997759\tvalid_1's l1: 1.59412\n",
      "Early stopping, best iteration is:\n",
      "[104]\ttraining's l1: 1.00051\tvalid_1's l1: 1.59324\n",
      "[LightGBM] [Warning] feature_fraction is set=0.5606840011372127, colsample_bytree=0.5 will be ignored. Current value: feature_fraction=0.5606840011372127\n",
      "[LightGBM] [Warning] bagging_fraction is set=0.9023375240207645, subsample=0.7 will be ignored. Current value: bagging_fraction=0.9023375240207645\n",
      "[LightGBM] [Warning] bagging_freq is set=4, subsample_freq=0 will be ignored. Current value: bagging_freq=4\n",
      "Training until validation scores don't improve for 100 rounds\n",
      "[100]\ttraining's l1: 1.00276\tvalid_1's l1: 1.59226\n",
      "[200]\ttraining's l1: 0.984392\tvalid_1's l1: 1.58408\n",
      "[300]\ttraining's l1: 0.970631\tvalid_1's l1: 1.57606\n",
      "[400]\ttraining's l1: 0.944323\tvalid_1's l1: 1.57024\n",
      "[500]\ttraining's l1: 0.920923\tvalid_1's l1: 1.57549\n"
     ]
    },
    {
     "name": "stderr",
     "output_type": "stream",
     "text": [
      "\u001b[32m[I 2021-07-12 00:23:14,185]\u001b[0m Trial 16 finished with value: -1.5677068313404956 and parameters: {'max_depth': 18, 'min_child_weight': 8, 'subsample': 0.7, 'colsample_bytree': 0.5, 'reg_lambda': 0.014912600246400697, 'reg_alpha': 0.31281201500712474, 'feature_fraction': 0.5606840011372127, 'bagging_fraction': 0.9023375240207645, 'bagging_freq': 4}. Best is trial 16 with value: -1.5677068313404956.\u001b[0m\n"
     ]
    },
    {
     "name": "stdout",
     "output_type": "stream",
     "text": [
      "Early stopping, best iteration is:\n",
      "[410]\ttraining's l1: 0.939597\tvalid_1's l1: 1.56803\n",
      "[LightGBM] [Warning] feature_fraction is set=0.5866925167425632, colsample_bytree=0.5 will be ignored. Current value: feature_fraction=0.5866925167425632\n",
      "[LightGBM] [Warning] bagging_fraction is set=0.9994120854049426, subsample=0.7 will be ignored. Current value: bagging_fraction=0.9994120854049426\n",
      "[LightGBM] [Warning] bagging_freq is set=8, subsample_freq=0 will be ignored. Current value: bagging_freq=8\n",
      "Training until validation scores don't improve for 100 rounds\n",
      "[100]\ttraining's l1: 0.999611\tvalid_1's l1: 1.59484\n",
      "[200]\ttraining's l1: 0.993067\tvalid_1's l1: 1.59272\n",
      "[300]\ttraining's l1: 0.969233\tvalid_1's l1: 1.57947\n",
      "[400]\ttraining's l1: 0.942992\tvalid_1's l1: 1.57217\n",
      "[500]\ttraining's l1: 0.925933\tvalid_1's l1: 1.57006\n",
      "[600]\ttraining's l1: 0.904216\tvalid_1's l1: 1.5719\n"
     ]
    },
    {
     "name": "stderr",
     "output_type": "stream",
     "text": [
      "\u001b[32m[I 2021-07-12 00:23:44,569]\u001b[0m Trial 17 finished with value: -1.5688747661414044 and parameters: {'max_depth': 18, 'min_child_weight': 8, 'subsample': 0.7, 'colsample_bytree': 0.5, 'reg_lambda': 0.007474516299913829, 'reg_alpha': 0.273076487821854, 'feature_fraction': 0.5866925167425632, 'bagging_fraction': 0.9994120854049426, 'bagging_freq': 8}. Best is trial 16 with value: -1.5677068313404956.\u001b[0m\n"
     ]
    },
    {
     "name": "stdout",
     "output_type": "stream",
     "text": [
      "Early stopping, best iteration is:\n",
      "[535]\ttraining's l1: 0.919848\tvalid_1's l1: 1.56907\n",
      "[LightGBM] [Warning] feature_fraction is set=0.5700077064297782, colsample_bytree=0.5 will be ignored. Current value: feature_fraction=0.5700077064297782\n",
      "[LightGBM] [Warning] bagging_fraction is set=0.9740736308772185, subsample=0.8 will be ignored. Current value: bagging_fraction=0.9740736308772185\n",
      "[LightGBM] [Warning] bagging_freq is set=9, subsample_freq=0 will be ignored. Current value: bagging_freq=9\n",
      "Training until validation scores don't improve for 100 rounds\n",
      "[100]\ttraining's l1: 1.00491\tvalid_1's l1: 1.59513\n",
      "[200]\ttraining's l1: 0.990583\tvalid_1's l1: 1.58918\n",
      "[300]\ttraining's l1: 0.980894\tvalid_1's l1: 1.58495\n",
      "[400]\ttraining's l1: 0.956319\tvalid_1's l1: 1.57287\n",
      "[500]\ttraining's l1: 0.932993\tvalid_1's l1: 1.56936\n",
      "[600]\ttraining's l1: 0.911073\tvalid_1's l1: 1.56423\n",
      "[700]\ttraining's l1: 0.888945\tvalid_1's l1: 1.56634\n"
     ]
    },
    {
     "name": "stderr",
     "output_type": "stream",
     "text": [
      "\u001b[32m[I 2021-07-12 00:24:16,618]\u001b[0m Trial 18 finished with value: -1.563188222234015 and parameters: {'max_depth': 18, 'min_child_weight': 12, 'subsample': 0.8, 'colsample_bytree': 0.5, 'reg_lambda': 0.009165955977468783, 'reg_alpha': 0.45557360116116286, 'feature_fraction': 0.5700077064297782, 'bagging_fraction': 0.9740736308772185, 'bagging_freq': 9}. Best is trial 18 with value: -1.563188222234015.\u001b[0m\n"
     ]
    },
    {
     "name": "stdout",
     "output_type": "stream",
     "text": [
      "Early stopping, best iteration is:\n",
      "[615]\ttraining's l1: 0.908596\tvalid_1's l1: 1.56346\n",
      "[LightGBM] [Warning] feature_fraction is set=0.5197094008708347, colsample_bytree=0.5 will be ignored. Current value: feature_fraction=0.5197094008708347\n",
      "[LightGBM] [Warning] bagging_fraction is set=0.9302205857829554, subsample=0.8 will be ignored. Current value: bagging_fraction=0.9302205857829554\n",
      "[LightGBM] [Warning] bagging_freq is set=9, subsample_freq=0 will be ignored. Current value: bagging_freq=9\n",
      "Training until validation scores don't improve for 100 rounds\n",
      "[100]\ttraining's l1: 0.999876\tvalid_1's l1: 1.59146\n",
      "[200]\ttraining's l1: 0.965475\tvalid_1's l1: 1.58271\n",
      "[300]\ttraining's l1: 0.946007\tvalid_1's l1: 1.57818\n",
      "[400]\ttraining's l1: 0.931825\tvalid_1's l1: 1.58345\n"
     ]
    },
    {
     "name": "stderr",
     "output_type": "stream",
     "text": [
      "\u001b[32m[I 2021-07-12 00:24:34,553]\u001b[0m Trial 19 finished with value: -1.5771112153481424 and parameters: {'max_depth': 14, 'min_child_weight': 14, 'subsample': 0.8, 'colsample_bytree': 0.5, 'reg_lambda': 0.016878025596714207, 'reg_alpha': 0.24280662513635815, 'feature_fraction': 0.5197094008708347, 'bagging_fraction': 0.9302205857829554, 'bagging_freq': 9}. Best is trial 18 with value: -1.563188222234015.\u001b[0m\n"
     ]
    },
    {
     "name": "stdout",
     "output_type": "stream",
     "text": [
      "Early stopping, best iteration is:\n",
      "[329]\ttraining's l1: 0.941147\tvalid_1's l1: 1.57724\n",
      "[LightGBM] [Warning] feature_fraction is set=0.591475248081302, colsample_bytree=0.5 will be ignored. Current value: feature_fraction=0.591475248081302\n",
      "[LightGBM] [Warning] bagging_fraction is set=0.9130974768560578, subsample=0.9 will be ignored. Current value: bagging_fraction=0.9130974768560578\n",
      "[LightGBM] [Warning] bagging_freq is set=1, subsample_freq=0 will be ignored. Current value: bagging_freq=1\n",
      "Training until validation scores don't improve for 100 rounds\n",
      "[100]\ttraining's l1: 1.00556\tvalid_1's l1: 1.59239\n",
      "[200]\ttraining's l1: 0.98137\tvalid_1's l1: 1.58399\n",
      "[300]\ttraining's l1: 0.965293\tvalid_1's l1: 1.57857\n",
      "[400]\ttraining's l1: 0.944361\tvalid_1's l1: 1.57513\n",
      "[500]\ttraining's l1: 0.924384\tvalid_1's l1: 1.57468\n",
      "[600]\ttraining's l1: 0.901643\tvalid_1's l1: 1.57378\n"
     ]
    },
    {
     "name": "stderr",
     "output_type": "stream",
     "text": [
      "\u001b[32m[I 2021-07-12 00:24:55,565]\u001b[0m Trial 20 finished with value: -1.5705704282307964 and parameters: {'max_depth': 18, 'min_child_weight': 13, 'subsample': 0.9, 'colsample_bytree': 0.5, 'reg_lambda': 0.001127619650017758, 'reg_alpha': 0.9973559710022487, 'feature_fraction': 0.591475248081302, 'bagging_fraction': 0.9130974768560578, 'bagging_freq': 1}. Best is trial 18 with value: -1.563188222234015.\u001b[0m\n"
     ]
    },
    {
     "name": "stdout",
     "output_type": "stream",
     "text": [
      "Early stopping, best iteration is:\n",
      "[521]\ttraining's l1: 0.918939\tvalid_1's l1: 1.5708\n",
      "[LightGBM] [Warning] feature_fraction is set=0.5814780602554801, colsample_bytree=0.5 will be ignored. Current value: feature_fraction=0.5814780602554801\n",
      "[LightGBM] [Warning] bagging_fraction is set=0.988607903043083, subsample=0.7 will be ignored. Current value: bagging_fraction=0.988607903043083\n",
      "[LightGBM] [Warning] bagging_freq is set=9, subsample_freq=0 will be ignored. Current value: bagging_freq=9\n",
      "Training until validation scores don't improve for 100 rounds\n",
      "[100]\ttraining's l1: 1.00111\tvalid_1's l1: 1.59243\n",
      "[200]\ttraining's l1: 0.977724\tvalid_1's l1: 1.58249\n",
      "[300]\ttraining's l1: 0.964878\tvalid_1's l1: 1.57947\n",
      "[400]\ttraining's l1: 0.948746\tvalid_1's l1: 1.57363\n",
      "[500]\ttraining's l1: 0.937922\tvalid_1's l1: 1.57395\n",
      "[600]\ttraining's l1: 0.926348\tvalid_1's l1: 1.57696\n"
     ]
    },
    {
     "name": "stderr",
     "output_type": "stream",
     "text": [
      "\u001b[32m[I 2021-07-12 00:25:24,188]\u001b[0m Trial 21 finished with value: -1.5725433065069363 and parameters: {'max_depth': 18, 'min_child_weight': 8, 'subsample': 0.7, 'colsample_bytree': 0.5, 'reg_lambda': 0.006561820927937344, 'reg_alpha': 0.20035910785730443, 'feature_fraction': 0.5814780602554801, 'bagging_fraction': 0.988607903043083, 'bagging_freq': 9}. Best is trial 18 with value: -1.563188222234015.\u001b[0m\n"
     ]
    },
    {
     "name": "stdout",
     "output_type": "stream",
     "text": [
      "Early stopping, best iteration is:\n",
      "[511]\ttraining's l1: 0.935627\tvalid_1's l1: 1.57272\n",
      "[LightGBM] [Warning] feature_fraction is set=0.6206470214637311, colsample_bytree=0.6 will be ignored. Current value: feature_fraction=0.6206470214637311\n",
      "[LightGBM] [Warning] bagging_fraction is set=0.9009010011672371, subsample=0.8 will be ignored. Current value: bagging_fraction=0.9009010011672371\n",
      "[LightGBM] [Warning] bagging_freq is set=8, subsample_freq=0 will be ignored. Current value: bagging_freq=8\n",
      "Training until validation scores don't improve for 100 rounds\n",
      "[100]\ttraining's l1: 1.00037\tvalid_1's l1: 1.59051\n",
      "[200]\ttraining's l1: 0.982364\tvalid_1's l1: 1.58588\n",
      "[300]\ttraining's l1: 0.966356\tvalid_1's l1: 1.58227\n",
      "[400]\ttraining's l1: 0.941251\tvalid_1's l1: 1.57525\n",
      "[500]\ttraining's l1: 0.912529\tvalid_1's l1: 1.56736\n",
      "[600]\ttraining's l1: 0.897507\tvalid_1's l1: 1.56437\n"
     ]
    },
    {
     "name": "stderr",
     "output_type": "stream",
     "text": [
      "\u001b[32m[I 2021-07-12 00:25:50,564]\u001b[0m Trial 22 finished with value: -1.5633130785757687 and parameters: {'max_depth': 18, 'min_child_weight': 8, 'subsample': 0.8, 'colsample_bytree': 0.6, 'reg_lambda': 0.034958643721439135, 'reg_alpha': 0.6945236116322527, 'feature_fraction': 0.6206470214637311, 'bagging_fraction': 0.9009010011672371, 'bagging_freq': 8}. Best is trial 18 with value: -1.563188222234015.\u001b[0m\n"
     ]
    },
    {
     "name": "stdout",
     "output_type": "stream",
     "text": [
      "Early stopping, best iteration is:\n",
      "[579]\ttraining's l1: 0.89997\tvalid_1's l1: 1.56364\n",
      "[LightGBM] [Warning] feature_fraction is set=0.470330434863688, colsample_bytree=0.6 will be ignored. Current value: feature_fraction=0.470330434863688\n",
      "[LightGBM] [Warning] bagging_fraction is set=0.8953567595899641, subsample=0.8 will be ignored. Current value: bagging_fraction=0.8953567595899641\n",
      "[LightGBM] [Warning] bagging_freq is set=7, subsample_freq=0 will be ignored. Current value: bagging_freq=7\n",
      "Training until validation scores don't improve for 100 rounds\n",
      "[100]\ttraining's l1: 1.00546\tvalid_1's l1: 1.5925\n",
      "[200]\ttraining's l1: 0.980677\tvalid_1's l1: 1.58696\n",
      "[300]\ttraining's l1: 0.96223\tvalid_1's l1: 1.58035\n",
      "[400]\ttraining's l1: 0.943516\tvalid_1's l1: 1.57529\n",
      "[500]\ttraining's l1: 0.927525\tvalid_1's l1: 1.57508\n",
      "[600]\ttraining's l1: 0.907933\tvalid_1's l1: 1.57604\n"
     ]
    },
    {
     "name": "stderr",
     "output_type": "stream",
     "text": [
      "\u001b[32m[I 2021-07-12 00:26:15,167]\u001b[0m Trial 23 finished with value: -1.5733795052929382 and parameters: {'max_depth': 16, 'min_child_weight': 11, 'subsample': 0.8, 'colsample_bytree': 0.6, 'reg_lambda': 0.06015180974769944, 'reg_alpha': 0.8434551048897398, 'feature_fraction': 0.470330434863688, 'bagging_fraction': 0.8953567595899641, 'bagging_freq': 7}. Best is trial 18 with value: -1.563188222234015.\u001b[0m\n"
     ]
    },
    {
     "name": "stdout",
     "output_type": "stream",
     "text": [
      "Early stopping, best iteration is:\n",
      "[555]\ttraining's l1: 0.918838\tvalid_1's l1: 1.57367\n",
      "[LightGBM] [Warning] feature_fraction is set=0.6554861948379508, colsample_bytree=0.6 will be ignored. Current value: feature_fraction=0.6554861948379508\n",
      "[LightGBM] [Warning] bagging_fraction is set=0.8801624698748193, subsample=0.8 will be ignored. Current value: bagging_fraction=0.8801624698748193\n",
      "[LightGBM] [Warning] bagging_freq is set=9, subsample_freq=0 will be ignored. Current value: bagging_freq=9\n",
      "Training until validation scores don't improve for 100 rounds\n",
      "[100]\ttraining's l1: 1.00246\tvalid_1's l1: 1.5923\n",
      "[200]\ttraining's l1: 0.987838\tvalid_1's l1: 1.58916\n",
      "[300]\ttraining's l1: 0.966908\tvalid_1's l1: 1.58305\n",
      "[400]\ttraining's l1: 0.947721\tvalid_1's l1: 1.57485\n",
      "[500]\ttraining's l1: 0.932157\tvalid_1's l1: 1.56953\n"
     ]
    },
    {
     "name": "stderr",
     "output_type": "stream",
     "text": [
      "\u001b[32m[I 2021-07-12 00:26:32,979]\u001b[0m Trial 24 finished with value: -1.5672885042351956 and parameters: {'max_depth': 19, 'min_child_weight': 10, 'subsample': 0.8, 'colsample_bytree': 0.6, 'reg_lambda': 0.030088755229364866, 'reg_alpha': 16.67180223791427, 'feature_fraction': 0.6554861948379508, 'bagging_fraction': 0.8801624698748193, 'bagging_freq': 9}. Best is trial 18 with value: -1.563188222234015.\u001b[0m\n"
     ]
    },
    {
     "name": "stdout",
     "output_type": "stream",
     "text": [
      "Early stopping, best iteration is:\n",
      "[475]\ttraining's l1: 0.935509\tvalid_1's l1: 1.56747\n",
      "[LightGBM] [Warning] feature_fraction is set=0.6598582385503665, colsample_bytree=0.6 will be ignored. Current value: feature_fraction=0.6598582385503665\n",
      "[LightGBM] [Warning] bagging_fraction is set=0.9556809893763506, subsample=0.8 will be ignored. Current value: bagging_fraction=0.9556809893763506\n",
      "[LightGBM] [Warning] bagging_freq is set=9, subsample_freq=0 will be ignored. Current value: bagging_freq=9\n",
      "Training until validation scores don't improve for 100 rounds\n",
      "[100]\ttraining's l1: 1.00155\tvalid_1's l1: 1.59691\n",
      "[200]\ttraining's l1: 0.997021\tvalid_1's l1: 1.59581\n",
      "[300]\ttraining's l1: 0.979213\tvalid_1's l1: 1.59118\n",
      "[400]\ttraining's l1: 0.955783\tvalid_1's l1: 1.58962\n",
      "[500]\ttraining's l1: 0.930659\tvalid_1's l1: 1.58253\n"
     ]
    },
    {
     "name": "stderr",
     "output_type": "stream",
     "text": [
      "\u001b[32m[I 2021-07-12 00:26:52,214]\u001b[0m Trial 25 finished with value: -1.5820430117332362 and parameters: {'max_depth': 20, 'min_child_weight': 16, 'subsample': 0.8, 'colsample_bytree': 0.6, 'reg_lambda': 0.5645444275843192, 'reg_alpha': 36.901526529091285, 'feature_fraction': 0.6598582385503665, 'bagging_fraction': 0.9556809893763506, 'bagging_freq': 9}. Best is trial 18 with value: -1.563188222234015.\u001b[0m\n"
     ]
    },
    {
     "name": "stdout",
     "output_type": "stream",
     "text": [
      "Early stopping, best iteration is:\n",
      "[481]\ttraining's l1: 0.933613\tvalid_1's l1: 1.58219\n",
      "[LightGBM] [Warning] feature_fraction is set=0.7318008448744506, colsample_bytree=0.6 will be ignored. Current value: feature_fraction=0.7318008448744506\n",
      "[LightGBM] [Warning] bagging_fraction is set=0.8783753444561677, subsample=0.9 will be ignored. Current value: bagging_fraction=0.8783753444561677\n",
      "[LightGBM] [Warning] bagging_freq is set=10, subsample_freq=0 will be ignored. Current value: bagging_freq=10\n",
      "Training until validation scores don't improve for 100 rounds\n",
      "[100]\ttraining's l1: 1.00347\tvalid_1's l1: 1.59516\n",
      "[200]\ttraining's l1: 0.998575\tvalid_1's l1: 1.59113\n",
      "[300]\ttraining's l1: 0.976585\tvalid_1's l1: 1.58191\n",
      "[400]\ttraining's l1: 0.953521\tvalid_1's l1: 1.58086\n"
     ]
    },
    {
     "name": "stderr",
     "output_type": "stream",
     "text": [
      "\u001b[32m[I 2021-07-12 00:27:07,327]\u001b[0m Trial 26 finished with value: -1.5778791298241022 and parameters: {'max_depth': 14, 'min_child_weight': 10, 'subsample': 0.9, 'colsample_bytree': 0.6, 'reg_lambda': 0.04035939407679769, 'reg_alpha': 10.990939896798054, 'feature_fraction': 0.7318008448744506, 'bagging_fraction': 0.8783753444561677, 'bagging_freq': 10}. Best is trial 18 with value: -1.563188222234015.\u001b[0m\n"
     ]
    },
    {
     "name": "stdout",
     "output_type": "stream",
     "text": [
      "Early stopping, best iteration is:\n",
      "[357]\ttraining's l1: 0.964098\tvalid_1's l1: 1.578\n",
      "[LightGBM] [Warning] feature_fraction is set=0.6367950664320539, colsample_bytree=0.6 will be ignored. Current value: feature_fraction=0.6367950664320539\n",
      "[LightGBM] [Warning] bagging_fraction is set=0.9500602823365173, subsample=0.8 will be ignored. Current value: bagging_fraction=0.9500602823365173\n",
      "[LightGBM] [Warning] bagging_freq is set=9, subsample_freq=0 will be ignored. Current value: bagging_freq=9\n",
      "Training until validation scores don't improve for 100 rounds\n",
      "[100]\ttraining's l1: 1.00187\tvalid_1's l1: 1.59558\n",
      "[200]\ttraining's l1: 0.986063\tvalid_1's l1: 1.59052\n",
      "[300]\ttraining's l1: 0.961146\tvalid_1's l1: 1.58227\n",
      "[400]\ttraining's l1: 0.942007\tvalid_1's l1: 1.58274\n",
      "[500]\ttraining's l1: 0.923559\tvalid_1's l1: 1.58533\n"
     ]
    },
    {
     "name": "stderr",
     "output_type": "stream",
     "text": [
      "\u001b[32m[I 2021-07-12 00:27:24,758]\u001b[0m Trial 27 finished with value: -1.578897645944575 and parameters: {'max_depth': 19, 'min_child_weight': 12, 'subsample': 0.8, 'colsample_bytree': 0.6, 'reg_lambda': 0.004053668000804171, 'reg_alpha': 3.2759988147168175, 'feature_fraction': 0.6367950664320539, 'bagging_fraction': 0.9500602823365173, 'bagging_freq': 9}. Best is trial 18 with value: -1.563188222234015.\u001b[0m\n"
     ]
    },
    {
     "name": "stdout",
     "output_type": "stream",
     "text": [
      "Early stopping, best iteration is:\n",
      "[424]\ttraining's l1: 0.936788\tvalid_1's l1: 1.57913\n",
      "[LightGBM] [Warning] feature_fraction is set=0.7604485361168907, colsample_bytree=0.6 will be ignored. Current value: feature_fraction=0.7604485361168907\n",
      "[LightGBM] [Warning] bagging_fraction is set=0.8674708948917936, subsample=0.9 will be ignored. Current value: bagging_fraction=0.8674708948917936\n",
      "[LightGBM] [Warning] bagging_freq is set=7, subsample_freq=0 will be ignored. Current value: bagging_freq=7\n",
      "Training until validation scores don't improve for 100 rounds\n",
      "[100]\ttraining's l1: 1.00474\tvalid_1's l1: 1.59315\n",
      "[200]\ttraining's l1: 1.00236\tvalid_1's l1: 1.59271\n",
      "[300]\ttraining's l1: 0.983975\tvalid_1's l1: 1.58644\n",
      "[400]\ttraining's l1: 0.958525\tvalid_1's l1: 1.58432\n",
      "[500]\ttraining's l1: 0.934892\tvalid_1's l1: 1.57688\n",
      "[600]\ttraining's l1: 0.914915\tvalid_1's l1: 1.57211\n",
      "[700]\ttraining's l1: 0.901046\tvalid_1's l1: 1.5706\n"
     ]
    },
    {
     "name": "stderr",
     "output_type": "stream",
     "text": [
      "\u001b[32m[I 2021-07-12 00:27:47,415]\u001b[0m Trial 28 finished with value: -1.5696251025438905 and parameters: {'max_depth': 16, 'min_child_weight': 6, 'subsample': 0.9, 'colsample_bytree': 0.6, 'reg_lambda': 0.23451088889971206, 'reg_alpha': 31.857636399038377, 'feature_fraction': 0.7604485361168907, 'bagging_fraction': 0.8674708948917936, 'bagging_freq': 7}. Best is trial 18 with value: -1.563188222234015.\u001b[0m\n"
     ]
    },
    {
     "name": "stdout",
     "output_type": "stream",
     "text": [
      "Early stopping, best iteration is:\n",
      "[617]\ttraining's l1: 0.912269\tvalid_1's l1: 1.56984\n",
      "[LightGBM] [Warning] feature_fraction is set=0.6894781220148236, colsample_bytree=0.5 will be ignored. Current value: feature_fraction=0.6894781220148236\n",
      "[LightGBM] [Warning] bagging_fraction is set=0.7614404057169252, subsample=0.8 will be ignored. Current value: bagging_fraction=0.7614404057169252\n",
      "[LightGBM] [Warning] bagging_freq is set=7, subsample_freq=0 will be ignored. Current value: bagging_freq=7\n",
      "Training until validation scores don't improve for 100 rounds\n",
      "[100]\ttraining's l1: 1.00332\tvalid_1's l1: 1.59059\n",
      "[200]\ttraining's l1: 0.986792\tvalid_1's l1: 1.58519\n",
      "[300]\ttraining's l1: 0.97055\tvalid_1's l1: 1.58192\n",
      "[400]\ttraining's l1: 0.953732\tvalid_1's l1: 1.57428\n",
      "[500]\ttraining's l1: 0.931857\tvalid_1's l1: 1.57579\n"
     ]
    },
    {
     "name": "stderr",
     "output_type": "stream",
     "text": [
      "\u001b[32m[I 2021-07-12 00:28:03,312]\u001b[0m Trial 29 finished with value: -1.572531534771519 and parameters: {'max_depth': 17, 'min_child_weight': 9, 'subsample': 0.8, 'colsample_bytree': 0.5, 'reg_lambda': 0.06437818458290372, 'reg_alpha': 1.6915922803778385, 'feature_fraction': 0.6894781220148236, 'bagging_fraction': 0.7614404057169252, 'bagging_freq': 7}. Best is trial 18 with value: -1.563188222234015.\u001b[0m\n"
     ]
    },
    {
     "name": "stdout",
     "output_type": "stream",
     "text": [
      "Early stopping, best iteration is:\n",
      "[453]\ttraining's l1: 0.941032\tvalid_1's l1: 1.57267\n",
      "[LightGBM] [Warning] feature_fraction is set=0.4864687484713779, colsample_bytree=0.6 will be ignored. Current value: feature_fraction=0.4864687484713779\n",
      "[LightGBM] [Warning] bagging_fraction is set=0.995480769193196, subsample=0.8 will be ignored. Current value: bagging_fraction=0.995480769193196\n",
      "[LightGBM] [Warning] bagging_freq is set=8, subsample_freq=0 will be ignored. Current value: bagging_freq=8\n",
      "Training until validation scores don't improve for 100 rounds\n",
      "[100]\ttraining's l1: 1.00044\tvalid_1's l1: 1.59122\n",
      "[200]\ttraining's l1: 0.982864\tvalid_1's l1: 1.58679\n",
      "[300]\ttraining's l1: 0.962783\tvalid_1's l1: 1.57959\n",
      "[400]\ttraining's l1: 0.934532\tvalid_1's l1: 1.57776\n",
      "[500]\ttraining's l1: 0.912774\tvalid_1's l1: 1.57589\n"
     ]
    },
    {
     "name": "stderr",
     "output_type": "stream",
     "text": [
      "\u001b[32m[I 2021-07-12 00:28:26,354]\u001b[0m Trial 30 finished with value: -1.572897345601282 and parameters: {'max_depth': 15, 'min_child_weight': 13, 'subsample': 0.8, 'colsample_bytree': 0.6, 'reg_lambda': 0.0016889984805245264, 'reg_alpha': 5.054719984792129, 'feature_fraction': 0.4864687484713779, 'bagging_fraction': 0.995480769193196, 'bagging_freq': 8}. Best is trial 18 with value: -1.563188222234015.\u001b[0m\n"
     ]
    },
    {
     "name": "stdout",
     "output_type": "stream",
     "text": [
      "Early stopping, best iteration is:\n",
      "[446]\ttraining's l1: 0.926054\tvalid_1's l1: 1.57302\n",
      "[LightGBM] [Warning] feature_fraction is set=0.5495465887617188, colsample_bytree=0.5 will be ignored. Current value: feature_fraction=0.5495465887617188\n",
      "[LightGBM] [Warning] bagging_fraction is set=0.9142505322292087, subsample=0.7 will be ignored. Current value: bagging_fraction=0.9142505322292087\n",
      "[LightGBM] [Warning] bagging_freq is set=10, subsample_freq=0 will be ignored. Current value: bagging_freq=10\n",
      "Training until validation scores don't improve for 100 rounds\n",
      "[100]\ttraining's l1: 1.00302\tvalid_1's l1: 1.59291\n",
      "[200]\ttraining's l1: 0.986449\tvalid_1's l1: 1.58794\n",
      "[300]\ttraining's l1: 0.964506\tvalid_1's l1: 1.57849\n",
      "[400]\ttraining's l1: 0.939575\tvalid_1's l1: 1.57319\n",
      "[500]\ttraining's l1: 0.919353\tvalid_1's l1: 1.57089\n",
      "[600]\ttraining's l1: 0.899377\tvalid_1's l1: 1.57292\n"
     ]
    },
    {
     "name": "stderr",
     "output_type": "stream",
     "text": [
      "\u001b[32m[I 2021-07-12 00:28:53,915]\u001b[0m Trial 31 finished with value: -1.5680164410096826 and parameters: {'max_depth': 19, 'min_child_weight': 7, 'subsample': 0.7, 'colsample_bytree': 0.5, 'reg_lambda': 0.014252757891237474, 'reg_alpha': 0.4538898583347882, 'feature_fraction': 0.5495465887617188, 'bagging_fraction': 0.9142505322292087, 'bagging_freq': 10}. Best is trial 18 with value: -1.563188222234015.\u001b[0m\n"
     ]
    },
    {
     "name": "stdout",
     "output_type": "stream",
     "text": [
      "Early stopping, best iteration is:\n",
      "[567]\ttraining's l1: 0.903179\tvalid_1's l1: 1.56826\n",
      "[LightGBM] [Warning] feature_fraction is set=0.5466072168606988, colsample_bytree=0.5 will be ignored. Current value: feature_fraction=0.5466072168606988\n",
      "[LightGBM] [Warning] bagging_fraction is set=0.8515253220827217, subsample=0.7 will be ignored. Current value: bagging_fraction=0.8515253220827217\n",
      "[LightGBM] [Warning] bagging_freq is set=4, subsample_freq=0 will be ignored. Current value: bagging_freq=4\n",
      "Training until validation scores don't improve for 100 rounds\n",
      "[100]\ttraining's l1: 0.999294\tvalid_1's l1: 1.58887\n",
      "[200]\ttraining's l1: 0.974601\tvalid_1's l1: 1.57992\n",
      "[300]\ttraining's l1: 0.956244\tvalid_1's l1: 1.5789\n",
      "[400]\ttraining's l1: 0.933557\tvalid_1's l1: 1.57488\n",
      "[500]\ttraining's l1: 0.915513\tvalid_1's l1: 1.57278\n",
      "[600]\ttraining's l1: 0.898424\tvalid_1's l1: 1.57234\n"
     ]
    },
    {
     "name": "stderr",
     "output_type": "stream",
     "text": [
      "\u001b[32m[I 2021-07-12 00:29:21,652]\u001b[0m Trial 32 finished with value: -1.5701909771835798 and parameters: {'max_depth': 19, 'min_child_weight': 9, 'subsample': 0.7, 'colsample_bytree': 0.5, 'reg_lambda': 0.028848239987069837, 'reg_alpha': 0.10051700890468342, 'feature_fraction': 0.5466072168606988, 'bagging_fraction': 0.8515253220827217, 'bagging_freq': 4}. Best is trial 18 with value: -1.563188222234015.\u001b[0m\n"
     ]
    },
    {
     "name": "stdout",
     "output_type": "stream",
     "text": [
      "Early stopping, best iteration is:\n",
      "[557]\ttraining's l1: 0.904127\tvalid_1's l1: 1.57045\n",
      "[LightGBM] [Warning] feature_fraction is set=0.6318273145155292, colsample_bytree=0.5 will be ignored. Current value: feature_fraction=0.6318273145155292\n",
      "[LightGBM] [Warning] bagging_fraction is set=0.9508940169723468, subsample=0.8 will be ignored. Current value: bagging_fraction=0.9508940169723468\n",
      "[LightGBM] [Warning] bagging_freq is set=3, subsample_freq=0 will be ignored. Current value: bagging_freq=3\n",
      "Training until validation scores don't improve for 100 rounds\n",
      "[100]\ttraining's l1: 1.00242\tvalid_1's l1: 1.59283\n",
      "[200]\ttraining's l1: 0.993347\tvalid_1's l1: 1.5895\n",
      "[300]\ttraining's l1: 0.973832\tvalid_1's l1: 1.57651\n",
      "[400]\ttraining's l1: 0.947303\tvalid_1's l1: 1.57101\n",
      "[500]\ttraining's l1: 0.930956\tvalid_1's l1: 1.57036\n",
      "[600]\ttraining's l1: 0.916263\tvalid_1's l1: 1.56863\n",
      "[700]\ttraining's l1: 0.903685\tvalid_1's l1: 1.56777\n"
     ]
    },
    {
     "name": "stderr",
     "output_type": "stream",
     "text": [
      "\u001b[32m[I 2021-07-12 00:29:49,916]\u001b[0m Trial 33 finished with value: -1.5647734390663974 and parameters: {'max_depth': 17, 'min_child_weight': 16, 'subsample': 0.8, 'colsample_bytree': 0.5, 'reg_lambda': 0.007843545849003155, 'reg_alpha': 0.7196165498264676, 'feature_fraction': 0.6318273145155292, 'bagging_fraction': 0.9508940169723468, 'bagging_freq': 3}. Best is trial 18 with value: -1.563188222234015.\u001b[0m\n"
     ]
    },
    {
     "name": "stdout",
     "output_type": "stream",
     "text": [
      "Early stopping, best iteration is:\n",
      "[678]\ttraining's l1: 0.905599\tvalid_1's l1: 1.56513\n",
      "[LightGBM] [Warning] feature_fraction is set=0.6216151303700272, colsample_bytree=0.6 will be ignored. Current value: feature_fraction=0.6216151303700272\n",
      "[LightGBM] [Warning] bagging_fraction is set=0.9546240714083426, subsample=0.8 will be ignored. Current value: bagging_fraction=0.9546240714083426\n",
      "[LightGBM] [Warning] bagging_freq is set=2, subsample_freq=0 will be ignored. Current value: bagging_freq=2\n",
      "Training until validation scores don't improve for 100 rounds\n",
      "[100]\ttraining's l1: 1.0006\tvalid_1's l1: 1.59522\n",
      "[200]\ttraining's l1: 0.981779\tvalid_1's l1: 1.58552\n"
     ]
    },
    {
     "name": "stderr",
     "output_type": "stream",
     "text": [
      "\u001b[32m[I 2021-07-12 00:30:06,690]\u001b[0m Trial 34 finished with value: -1.583096669071738 and parameters: {'max_depth': 17, 'min_child_weight': 16, 'subsample': 0.8, 'colsample_bytree': 0.6, 'reg_lambda': 0.006155827636302112, 'reg_alpha': 0.7617111611246081, 'feature_fraction': 0.6216151303700272, 'bagging_fraction': 0.9546240714083426, 'bagging_freq': 2}. Best is trial 18 with value: -1.563188222234015.\u001b[0m\n"
     ]
    },
    {
     "name": "stdout",
     "output_type": "stream",
     "text": [
      "Early stopping, best iteration is:\n",
      "[199]\ttraining's l1: 0.981978\tvalid_1's l1: 1.58323\n",
      "[LightGBM] [Warning] feature_fraction is set=0.6155306039215374, colsample_bytree=0.7 will be ignored. Current value: feature_fraction=0.6155306039215374\n",
      "[LightGBM] [Warning] bagging_fraction is set=0.8278548972756866, subsample=0.8 will be ignored. Current value: bagging_fraction=0.8278548972756866\n",
      "[LightGBM] [Warning] bagging_freq is set=9, subsample_freq=0 will be ignored. Current value: bagging_freq=9\n",
      "Training until validation scores don't improve for 100 rounds\n",
      "[100]\ttraining's l1: 1.02783\tvalid_1's l1: 1.60455\n",
      "[200]\ttraining's l1: 1.01293\tvalid_1's l1: 1.59324\n",
      "[300]\ttraining's l1: 1.00873\tvalid_1's l1: 1.59201\n",
      "[400]\ttraining's l1: 0.990999\tvalid_1's l1: 1.58979\n",
      "[500]\ttraining's l1: 0.984623\tvalid_1's l1: 1.58827\n",
      "[600]\ttraining's l1: 0.97288\tvalid_1's l1: 1.58153\n",
      "[700]\ttraining's l1: 0.962077\tvalid_1's l1: 1.57911\n",
      "[800]\ttraining's l1: 0.953158\tvalid_1's l1: 1.57754\n",
      "[900]\ttraining's l1: 0.946519\tvalid_1's l1: 1.57845\n"
     ]
    },
    {
     "name": "stderr",
     "output_type": "stream",
     "text": [
      "\u001b[32m[I 2021-07-12 00:30:37,910]\u001b[0m Trial 35 finished with value: -1.5755529739897178 and parameters: {'max_depth': 4, 'min_child_weight': 17, 'subsample': 0.8, 'colsample_bytree': 0.7, 'reg_lambda': 0.0026251726831349738, 'reg_alpha': 1.6648207710513199, 'feature_fraction': 0.6155306039215374, 'bagging_fraction': 0.8278548972756866, 'bagging_freq': 9}. Best is trial 18 with value: -1.563188222234015.\u001b[0m\n"
     ]
    },
    {
     "name": "stdout",
     "output_type": "stream",
     "text": [
      "Early stopping, best iteration is:\n",
      "[863]\ttraining's l1: 0.948567\tvalid_1's l1: 1.57598\n",
      "[LightGBM] [Warning] feature_fraction is set=0.681209819052374, colsample_bytree=0.5 will be ignored. Current value: feature_fraction=0.681209819052374\n",
      "[LightGBM] [Warning] bagging_fraction is set=0.7963092351100663, subsample=0.9 will be ignored. Current value: bagging_fraction=0.7963092351100663\n",
      "[LightGBM] [Warning] bagging_freq is set=8, subsample_freq=0 will be ignored. Current value: bagging_freq=8\n",
      "Training until validation scores don't improve for 100 rounds\n",
      "[100]\ttraining's l1: 1.006\tvalid_1's l1: 1.60088\n",
      "[200]\ttraining's l1: 0.997026\tvalid_1's l1: 1.59398\n",
      "[300]\ttraining's l1: 0.985029\tvalid_1's l1: 1.59066\n",
      "[400]\ttraining's l1: 0.966423\tvalid_1's l1: 1.58588\n",
      "[500]\ttraining's l1: 0.950262\tvalid_1's l1: 1.58277\n",
      "[600]\ttraining's l1: 0.932812\tvalid_1's l1: 1.58108\n"
     ]
    },
    {
     "name": "stderr",
     "output_type": "stream",
     "text": [
      "\u001b[32m[I 2021-07-12 00:30:55,368]\u001b[0m Trial 36 finished with value: -1.5794299031617187 and parameters: {'max_depth': 15, 'min_child_weight': 14, 'subsample': 0.9, 'colsample_bytree': 0.5, 'reg_lambda': 0.11988069023027825, 'reg_alpha': 5.423731695905955, 'feature_fraction': 0.681209819052374, 'bagging_fraction': 0.7963092351100663, 'bagging_freq': 8}. Best is trial 18 with value: -1.563188222234015.\u001b[0m\n"
     ]
    },
    {
     "name": "stdout",
     "output_type": "stream",
     "text": [
      "Early stopping, best iteration is:\n",
      "[512]\ttraining's l1: 0.946892\tvalid_1's l1: 1.57956\n",
      "[LightGBM] [Warning] feature_fraction is set=0.7365359691819364, colsample_bytree=0.6 will be ignored. Current value: feature_fraction=0.7365359691819364\n",
      "[LightGBM] [Warning] bagging_fraction is set=0.9610561967145895, subsample=0.8 will be ignored. Current value: bagging_fraction=0.9610561967145895\n",
      "[LightGBM] [Warning] bagging_freq is set=2, subsample_freq=0 will be ignored. Current value: bagging_freq=2\n",
      "Training until validation scores don't improve for 100 rounds\n",
      "[100]\ttraining's l1: 1.00441\tvalid_1's l1: 1.59033\n",
      "[200]\ttraining's l1: 0.987595\tvalid_1's l1: 1.58546\n",
      "[300]\ttraining's l1: 0.967879\tvalid_1's l1: 1.5775\n",
      "[400]\ttraining's l1: 0.944143\tvalid_1's l1: 1.5803\n"
     ]
    },
    {
     "name": "stderr",
     "output_type": "stream",
     "text": [
      "\u001b[32m[I 2021-07-12 00:31:14,827]\u001b[0m Trial 37 finished with value: -1.5752789250053139 and parameters: {'max_depth': 10, 'min_child_weight': 12, 'subsample': 0.8, 'colsample_bytree': 0.6, 'reg_lambda': 1.417418002491085, 'reg_alpha': 0.11170786639596951, 'feature_fraction': 0.7365359691819364, 'bagging_fraction': 0.9610561967145895, 'bagging_freq': 2}. Best is trial 18 with value: -1.563188222234015.\u001b[0m\n"
     ]
    },
    {
     "name": "stdout",
     "output_type": "stream",
     "text": [
      "Early stopping, best iteration is:\n",
      "[340]\ttraining's l1: 0.960349\tvalid_1's l1: 1.57536\n",
      "[LightGBM] [Warning] feature_fraction is set=0.6204891447667527, colsample_bytree=0.7 will be ignored. Current value: feature_fraction=0.6204891447667527\n",
      "[LightGBM] [Warning] bagging_fraction is set=0.9331192866566571, subsample=0.8 will be ignored. Current value: bagging_fraction=0.9331192866566571\n",
      "[LightGBM] [Warning] bagging_freq is set=3, subsample_freq=0 will be ignored. Current value: bagging_freq=3\n",
      "Training until validation scores don't improve for 100 rounds\n",
      "[100]\ttraining's l1: 0.999446\tvalid_1's l1: 1.59396\n",
      "[200]\ttraining's l1: 0.982796\tvalid_1's l1: 1.58603\n",
      "[300]\ttraining's l1: 0.963314\tvalid_1's l1: 1.58201\n",
      "[400]\ttraining's l1: 0.938962\tvalid_1's l1: 1.57924\n",
      "[500]\ttraining's l1: 0.922487\tvalid_1's l1: 1.5717\n",
      "[600]\ttraining's l1: 0.913898\tvalid_1's l1: 1.57119\n"
     ]
    },
    {
     "name": "stderr",
     "output_type": "stream",
     "text": [
      "\u001b[32m[I 2021-07-12 00:31:47,562]\u001b[0m Trial 38 finished with value: -1.569531822834639 and parameters: {'max_depth': 20, 'min_child_weight': 15, 'subsample': 0.8, 'colsample_bytree': 0.7, 'reg_lambda': 0.007819924095046718, 'reg_alpha': 102.43083519409042, 'feature_fraction': 0.6204891447667527, 'bagging_fraction': 0.9331192866566571, 'bagging_freq': 3}. Best is trial 18 with value: -1.563188222234015.\u001b[0m\n"
     ]
    },
    {
     "name": "stdout",
     "output_type": "stream",
     "text": [
      "Early stopping, best iteration is:\n",
      "[588]\ttraining's l1: 0.914785\tvalid_1's l1: 1.56975\n",
      "[LightGBM] [Warning] feature_fraction is set=0.7103530931704765, colsample_bytree=0.5 will be ignored. Current value: feature_fraction=0.7103530931704765\n",
      "[LightGBM] [Warning] bagging_fraction is set=0.8668636869842105, subsample=0.9 will be ignored. Current value: bagging_fraction=0.8668636869842105\n",
      "[LightGBM] [Warning] bagging_freq is set=8, subsample_freq=0 will be ignored. Current value: bagging_freq=8\n",
      "Training until validation scores don't improve for 100 rounds\n",
      "[100]\ttraining's l1: 1.01457\tvalid_1's l1: 1.59775\n",
      "[200]\ttraining's l1: 0.99151\tvalid_1's l1: 1.59135\n",
      "[300]\ttraining's l1: 0.974468\tvalid_1's l1: 1.58863\n",
      "[400]\ttraining's l1: 0.963519\tvalid_1's l1: 1.58035\n",
      "[500]\ttraining's l1: 0.956804\tvalid_1's l1: 1.57444\n",
      "[600]\ttraining's l1: 0.952008\tvalid_1's l1: 1.57365\n"
     ]
    },
    {
     "name": "stderr",
     "output_type": "stream",
     "text": [
      "\u001b[32m[I 2021-07-12 00:32:07,263]\u001b[0m Trial 39 finished with value: -1.5727042945822705 and parameters: {'max_depth': 13, 'min_child_weight': 19, 'subsample': 0.9, 'colsample_bytree': 0.5, 'reg_lambda': 6.039310828203653, 'reg_alpha': 942.3386119860398, 'feature_fraction': 0.7103530931704765, 'bagging_fraction': 0.8668636869842105, 'bagging_freq': 8}. Best is trial 18 with value: -1.563188222234015.\u001b[0m\n"
     ]
    },
    {
     "name": "stdout",
     "output_type": "stream",
     "text": [
      "Early stopping, best iteration is:\n",
      "[515]\ttraining's l1: 0.955388\tvalid_1's l1: 1.57293\n",
      "[LightGBM] [Warning] feature_fraction is set=0.8208774774342841, colsample_bytree=0.6 will be ignored. Current value: feature_fraction=0.8208774774342841\n",
      "[LightGBM] [Warning] bagging_fraction is set=0.415331895606338, subsample=0.8 will be ignored. Current value: bagging_fraction=0.415331895606338\n",
      "[LightGBM] [Warning] bagging_freq is set=7, subsample_freq=0 will be ignored. Current value: bagging_freq=7\n",
      "Training until validation scores don't improve for 100 rounds\n",
      "[100]\ttraining's l1: 0.997219\tvalid_1's l1: 1.5933\n",
      "[200]\ttraining's l1: 0.988075\tvalid_1's l1: 1.58805\n",
      "[300]\ttraining's l1: 0.97703\tvalid_1's l1: 1.58338\n",
      "[400]\ttraining's l1: 0.960229\tvalid_1's l1: 1.57521\n",
      "[500]\ttraining's l1: 0.93937\tvalid_1's l1: 1.57203\n",
      "[600]\ttraining's l1: 0.919272\tvalid_1's l1: 1.57073\n"
     ]
    },
    {
     "name": "stderr",
     "output_type": "stream",
     "text": [
      "\u001b[32m[I 2021-07-12 00:32:20,301]\u001b[0m Trial 40 finished with value: -1.5687000108137543 and parameters: {'max_depth': 19, 'min_child_weight': 12, 'subsample': 0.8, 'colsample_bytree': 0.6, 'reg_lambda': 0.001036517736188091, 'reg_alpha': 24.5860426702757, 'feature_fraction': 0.8208774774342841, 'bagging_fraction': 0.415331895606338, 'bagging_freq': 7}. Best is trial 18 with value: -1.563188222234015.\u001b[0m\n"
     ]
    },
    {
     "name": "stdout",
     "output_type": "stream",
     "text": [
      "Early stopping, best iteration is:\n",
      "[544]\ttraining's l1: 0.925231\tvalid_1's l1: 1.56879\n",
      "[LightGBM] [Warning] feature_fraction is set=0.5541489716850254, colsample_bytree=0.5 will be ignored. Current value: feature_fraction=0.5541489716850254\n",
      "[LightGBM] [Warning] bagging_fraction is set=0.8965280937767836, subsample=0.7 will be ignored. Current value: bagging_fraction=0.8965280937767836\n",
      "[LightGBM] [Warning] bagging_freq is set=3, subsample_freq=0 will be ignored. Current value: bagging_freq=3\n",
      "Training until validation scores don't improve for 100 rounds\n",
      "[100]\ttraining's l1: 1.00156\tvalid_1's l1: 1.59631\n",
      "[200]\ttraining's l1: 0.991806\tvalid_1's l1: 1.5941\n",
      "[300]\ttraining's l1: 0.977388\tvalid_1's l1: 1.58847\n",
      "[400]\ttraining's l1: 0.964408\tvalid_1's l1: 1.58412\n",
      "[500]\ttraining's l1: 0.941907\tvalid_1's l1: 1.57819\n",
      "[600]\ttraining's l1: 0.927701\tvalid_1's l1: 1.57568\n",
      "[700]\ttraining's l1: 0.91483\tvalid_1's l1: 1.57579\n"
     ]
    },
    {
     "name": "stderr",
     "output_type": "stream",
     "text": [
      "\u001b[32m[I 2021-07-12 00:32:54,618]\u001b[0m Trial 41 finished with value: -1.5741924689320999 and parameters: {'max_depth': 18, 'min_child_weight': 6, 'subsample': 0.7, 'colsample_bytree': 0.5, 'reg_lambda': 0.013037743418038752, 'reg_alpha': 0.4329552086625366, 'feature_fraction': 0.5541489716850254, 'bagging_fraction': 0.8965280937767836, 'bagging_freq': 3}. Best is trial 18 with value: -1.563188222234015.\u001b[0m\n"
     ]
    },
    {
     "name": "stdout",
     "output_type": "stream",
     "text": [
      "Early stopping, best iteration is:\n",
      "[669]\ttraining's l1: 0.922189\tvalid_1's l1: 1.57454\n",
      "[LightGBM] [Warning] feature_fraction is set=0.6700201842792087, colsample_bytree=0.5 will be ignored. Current value: feature_fraction=0.6700201842792087\n",
      "[LightGBM] [Warning] bagging_fraction is set=0.8236610319108024, subsample=0.7 will be ignored. Current value: bagging_fraction=0.8236610319108024\n",
      "[LightGBM] [Warning] bagging_freq is set=4, subsample_freq=0 will be ignored. Current value: bagging_freq=4\n",
      "Training until validation scores don't improve for 100 rounds\n",
      "[100]\ttraining's l1: 1.00341\tvalid_1's l1: 1.59198\n",
      "[200]\ttraining's l1: 0.988543\tvalid_1's l1: 1.58778\n",
      "[300]\ttraining's l1: 0.966542\tvalid_1's l1: 1.5771\n",
      "[400]\ttraining's l1: 0.939471\tvalid_1's l1: 1.57965\n"
     ]
    },
    {
     "name": "stderr",
     "output_type": "stream",
     "text": [
      "\u001b[32m[I 2021-07-12 00:33:09,128]\u001b[0m Trial 42 finished with value: -1.5751105405282164 and parameters: {'max_depth': 17, 'min_child_weight': 9, 'subsample': 0.7, 'colsample_bytree': 0.5, 'reg_lambda': 0.0375959532743148, 'reg_alpha': 0.10079301424705704, 'feature_fraction': 0.6700201842792087, 'bagging_fraction': 0.8236610319108024, 'bagging_freq': 4}. Best is trial 18 with value: -1.563188222234015.\u001b[0m\n"
     ]
    },
    {
     "name": "stdout",
     "output_type": "stream",
     "text": [
      "Early stopping, best iteration is:\n",
      "[317]\ttraining's l1: 0.961792\tvalid_1's l1: 1.57535\n",
      "[LightGBM] [Warning] feature_fraction is set=0.48362517871777466, colsample_bytree=0.5 will be ignored. Current value: feature_fraction=0.48362517871777466\n",
      "[LightGBM] [Warning] bagging_fraction is set=0.8871383670498626, subsample=0.7 will be ignored. Current value: bagging_fraction=0.8871383670498626\n",
      "[LightGBM] [Warning] bagging_freq is set=5, subsample_freq=0 will be ignored. Current value: bagging_freq=5\n",
      "Training until validation scores don't improve for 100 rounds\n",
      "[100]\ttraining's l1: 1.0028\tvalid_1's l1: 1.5968\n",
      "[200]\ttraining's l1: 0.974435\tvalid_1's l1: 1.58545\n",
      "[300]\ttraining's l1: 0.950374\tvalid_1's l1: 1.58325\n",
      "[400]\ttraining's l1: 0.929072\tvalid_1's l1: 1.57873\n",
      "[500]\ttraining's l1: 0.908692\tvalid_1's l1: 1.57855\n"
     ]
    },
    {
     "name": "stderr",
     "output_type": "stream",
     "text": [
      "\u001b[32m[I 2021-07-12 00:33:30,743]\u001b[0m Trial 43 finished with value: -1.5758663854813433 and parameters: {'max_depth': 19, 'min_child_weight': 7, 'subsample': 0.7, 'colsample_bytree': 0.5, 'reg_lambda': 0.0035409931923809073, 'reg_alpha': 2.1363092219936073, 'feature_fraction': 0.48362517871777466, 'bagging_fraction': 0.8871383670498626, 'bagging_freq': 5}. Best is trial 18 with value: -1.563188222234015.\u001b[0m\n"
     ]
    },
    {
     "name": "stdout",
     "output_type": "stream",
     "text": [
      "Early stopping, best iteration is:\n",
      "[442]\ttraining's l1: 0.921322\tvalid_1's l1: 1.57643\n",
      "[LightGBM] [Warning] feature_fraction is set=0.6046342797962971, colsample_bytree=0.5 will be ignored. Current value: feature_fraction=0.6046342797962971\n",
      "[LightGBM] [Warning] bagging_fraction is set=0.9760376489040371, subsample=0.8 will be ignored. Current value: bagging_fraction=0.9760376489040371\n",
      "[LightGBM] [Warning] bagging_freq is set=3, subsample_freq=0 will be ignored. Current value: bagging_freq=3\n",
      "Training until validation scores don't improve for 100 rounds\n",
      "[100]\ttraining's l1: 1.00293\tvalid_1's l1: 1.59583\n",
      "[200]\ttraining's l1: 0.985942\tvalid_1's l1: 1.58678\n",
      "[300]\ttraining's l1: 0.974899\tvalid_1's l1: 1.5826\n",
      "[400]\ttraining's l1: 0.965226\tvalid_1's l1: 1.57712\n",
      "[500]\ttraining's l1: 0.946753\tvalid_1's l1: 1.5735\n",
      "[600]\ttraining's l1: 0.92393\tvalid_1's l1: 1.56869\n"
     ]
    },
    {
     "name": "stderr",
     "output_type": "stream",
     "text": [
      "\u001b[32m[I 2021-07-12 00:34:04,841]\u001b[0m Trial 44 finished with value: -1.5671932315271335 and parameters: {'max_depth': 16, 'min_child_weight': 10, 'subsample': 0.8, 'colsample_bytree': 0.5, 'reg_lambda': 0.011598616408746478, 'reg_alpha': 0.06331501375378137, 'feature_fraction': 0.6046342797962971, 'bagging_fraction': 0.9760376489040371, 'bagging_freq': 3}. Best is trial 18 with value: -1.563188222234015.\u001b[0m\n"
     ]
    },
    {
     "name": "stdout",
     "output_type": "stream",
     "text": [
      "Early stopping, best iteration is:\n",
      "[579]\ttraining's l1: 0.925573\tvalid_1's l1: 1.56741\n",
      "[LightGBM] [Warning] feature_fraction is set=0.5992372918421771, colsample_bytree=0.6 will be ignored. Current value: feature_fraction=0.5992372918421771\n",
      "[LightGBM] [Warning] bagging_fraction is set=0.9778503362362239, subsample=0.8 will be ignored. Current value: bagging_fraction=0.9778503362362239\n",
      "[LightGBM] [Warning] bagging_freq is set=2, subsample_freq=0 will be ignored. Current value: bagging_freq=2\n",
      "Training until validation scores don't improve for 100 rounds\n",
      "[100]\ttraining's l1: 1.0017\tvalid_1's l1: 1.59536\n",
      "[200]\ttraining's l1: 0.988786\tvalid_1's l1: 1.58845\n",
      "[300]\ttraining's l1: 0.967722\tvalid_1's l1: 1.58535\n",
      "[400]\ttraining's l1: 0.944772\tvalid_1's l1: 1.57885\n",
      "[500]\ttraining's l1: 0.92557\tvalid_1's l1: 1.57827\n"
     ]
    },
    {
     "name": "stderr",
     "output_type": "stream",
     "text": [
      "\u001b[32m[I 2021-07-12 00:34:33,280]\u001b[0m Trial 45 finished with value: -1.5748753915446922 and parameters: {'max_depth': 16, 'min_child_weight': 10, 'subsample': 0.8, 'colsample_bytree': 0.6, 'reg_lambda': 0.17894744443813948, 'reg_alpha': 0.051225569019523465, 'feature_fraction': 0.5992372918421771, 'bagging_fraction': 0.9778503362362239, 'bagging_freq': 2}. Best is trial 18 with value: -1.563188222234015.\u001b[0m\n"
     ]
    },
    {
     "name": "stdout",
     "output_type": "stream",
     "text": [
      "Early stopping, best iteration is:\n",
      "[413]\ttraining's l1: 0.941308\tvalid_1's l1: 1.57504\n",
      "[LightGBM] [Warning] feature_fraction is set=0.6362300376148883, colsample_bytree=0.5 will be ignored. Current value: feature_fraction=0.6362300376148883\n",
      "[LightGBM] [Warning] bagging_fraction is set=0.9304420155765682, subsample=0.8 will be ignored. Current value: bagging_fraction=0.9304420155765682\n",
      "[LightGBM] [Warning] bagging_freq is set=3, subsample_freq=0 will be ignored. Current value: bagging_freq=3\n",
      "Training until validation scores don't improve for 100 rounds\n",
      "[100]\ttraining's l1: 1.00804\tvalid_1's l1: 1.59908\n",
      "[200]\ttraining's l1: 0.998385\tvalid_1's l1: 1.59181\n",
      "[300]\ttraining's l1: 0.976716\tvalid_1's l1: 1.58078\n",
      "[400]\ttraining's l1: 0.953004\tvalid_1's l1: 1.57344\n",
      "[500]\ttraining's l1: 0.922516\tvalid_1's l1: 1.57018\n"
     ]
    },
    {
     "name": "stderr",
     "output_type": "stream",
     "text": [
      "\u001b[32m[I 2021-07-12 00:34:54,569]\u001b[0m Trial 46 finished with value: -1.5680771509187186 and parameters: {'max_depth': 14, 'min_child_weight': 11, 'subsample': 0.8, 'colsample_bytree': 0.5, 'reg_lambda': 0.0984807559901641, 'reg_alpha': 0.008146073021596522, 'feature_fraction': 0.6362300376148883, 'bagging_fraction': 0.9304420155765682, 'bagging_freq': 3}. Best is trial 18 with value: -1.563188222234015.\u001b[0m\n"
     ]
    },
    {
     "name": "stdout",
     "output_type": "stream",
     "text": [
      "Early stopping, best iteration is:\n",
      "[474]\ttraining's l1: 0.930902\tvalid_1's l1: 1.5683\n",
      "[LightGBM] [Warning] feature_fraction is set=0.5154816745338084, colsample_bytree=0.7 will be ignored. Current value: feature_fraction=0.5154816745338084\n",
      "[LightGBM] [Warning] bagging_fraction is set=0.9777680282275442, subsample=0.9 will be ignored. Current value: bagging_fraction=0.9777680282275442\n",
      "[LightGBM] [Warning] bagging_freq is set=10, subsample_freq=0 will be ignored. Current value: bagging_freq=10\n",
      "Training until validation scores don't improve for 100 rounds\n",
      "[100]\ttraining's l1: 1.00056\tvalid_1's l1: 1.59398\n",
      "[200]\ttraining's l1: 0.980964\tvalid_1's l1: 1.59009\n",
      "[300]\ttraining's l1: 0.964968\tvalid_1's l1: 1.58903\n",
      "[400]\ttraining's l1: 0.943572\tvalid_1's l1: 1.58767\n",
      "[500]\ttraining's l1: 0.923071\tvalid_1's l1: 1.58526\n"
     ]
    },
    {
     "name": "stderr",
     "output_type": "stream",
     "text": [
      "\u001b[32m[I 2021-07-12 00:35:19,271]\u001b[0m Trial 47 finished with value: -1.583664339233663 and parameters: {'max_depth': 17, 'min_child_weight': 13, 'subsample': 0.9, 'colsample_bytree': 0.7, 'reg_lambda': 0.0020428250527792916, 'reg_alpha': 0.14399596574112075, 'feature_fraction': 0.5154816745338084, 'bagging_fraction': 0.9777680282275442, 'bagging_freq': 10}. Best is trial 18 with value: -1.563188222234015.\u001b[0m\n"
     ]
    },
    {
     "name": "stdout",
     "output_type": "stream",
     "text": [
      "Early stopping, best iteration is:\n",
      "[487]\ttraining's l1: 0.92786\tvalid_1's l1: 1.58388\n",
      "[LightGBM] [Warning] feature_fraction is set=0.7023557152303586, colsample_bytree=0.6 will be ignored. Current value: feature_fraction=0.7023557152303586\n",
      "[LightGBM] [Warning] bagging_fraction is set=0.9961844718918036, subsample=0.8 will be ignored. Current value: bagging_fraction=0.9961844718918036\n",
      "[LightGBM] [Warning] bagging_freq is set=1, subsample_freq=0 will be ignored. Current value: bagging_freq=1\n",
      "Training until validation scores don't improve for 100 rounds\n",
      "[100]\ttraining's l1: 1.0003\tvalid_1's l1: 1.5941\n",
      "[200]\ttraining's l1: 0.972479\tvalid_1's l1: 1.57773\n",
      "[300]\ttraining's l1: 0.953309\tvalid_1's l1: 1.5756\n",
      "[400]\ttraining's l1: 0.93031\tvalid_1's l1: 1.57361\n",
      "[500]\ttraining's l1: 0.913576\tvalid_1's l1: 1.57393\n"
     ]
    },
    {
     "name": "stderr",
     "output_type": "stream",
     "text": [
      "\u001b[32m[I 2021-07-12 00:35:36,957]\u001b[0m Trial 48 finished with value: -1.5719385080175183 and parameters: {'max_depth': 20, 'min_child_weight': 20, 'subsample': 0.8, 'colsample_bytree': 0.6, 'reg_lambda': 0.010078462773924669, 'reg_alpha': 0.5509552327326377, 'feature_fraction': 0.7023557152303586, 'bagging_fraction': 0.9961844718918036, 'bagging_freq': 1}. Best is trial 18 with value: -1.563188222234015.\u001b[0m\n"
     ]
    },
    {
     "name": "stdout",
     "output_type": "stream",
     "text": [
      "Early stopping, best iteration is:\n",
      "[420]\ttraining's l1: 0.92885\tvalid_1's l1: 1.57217\n",
      "[LightGBM] [Warning] feature_fraction is set=0.5672178551493585, colsample_bytree=0.8 will be ignored. Current value: feature_fraction=0.5672178551493585\n",
      "[LightGBM] [Warning] bagging_fraction is set=0.5535912260586224, subsample=0.8 will be ignored. Current value: bagging_fraction=0.5535912260586224\n",
      "[LightGBM] [Warning] bagging_freq is set=2, subsample_freq=0 will be ignored. Current value: bagging_freq=2\n",
      "Training until validation scores don't improve for 100 rounds\n",
      "[100]\ttraining's l1: 1.00091\tvalid_1's l1: 1.59173\n",
      "[200]\ttraining's l1: 0.994909\tvalid_1's l1: 1.58715\n",
      "[300]\ttraining's l1: 0.980567\tvalid_1's l1: 1.58308\n",
      "[400]\ttraining's l1: 0.962959\tvalid_1's l1: 1.57804\n",
      "[500]\ttraining's l1: 0.944682\tvalid_1's l1: 1.57327\n"
     ]
    },
    {
     "name": "stderr",
     "output_type": "stream",
     "text": [
      "\u001b[32m[I 2021-07-12 00:35:58,320]\u001b[0m Trial 49 finished with value: -1.5728231245093167 and parameters: {'max_depth': 12, 'min_child_weight': 7, 'subsample': 0.8, 'colsample_bytree': 0.8, 'reg_lambda': 0.026096663376032215, 'reg_alpha': 0.026811634260541724, 'feature_fraction': 0.5672178551493585, 'bagging_fraction': 0.5535912260586224, 'bagging_freq': 2}. Best is trial 18 with value: -1.563188222234015.\u001b[0m\n"
     ]
    },
    {
     "name": "stdout",
     "output_type": "stream",
     "text": [
      "[600]\ttraining's l1: 0.924375\tvalid_1's l1: 1.57366\n",
      "Early stopping, best iteration is:\n",
      "[502]\ttraining's l1: 0.944078\tvalid_1's l1: 1.57299\n",
      "[LightGBM] [Warning] feature_fraction is set=0.6048203685046922, colsample_bytree=0.5 will be ignored. Current value: feature_fraction=0.6048203685046922\n",
      "[LightGBM] [Warning] bagging_fraction is set=0.7542066794467426, subsample=0.9 will be ignored. Current value: bagging_fraction=0.7542066794467426\n",
      "[LightGBM] [Warning] bagging_freq is set=5, subsample_freq=0 will be ignored. Current value: bagging_freq=5\n",
      "Training until validation scores don't improve for 100 rounds\n",
      "[100]\ttraining's l1: 1.00282\tvalid_1's l1: 1.59265\n",
      "[200]\ttraining's l1: 0.98461\tvalid_1's l1: 1.58481\n",
      "[300]\ttraining's l1: 0.961142\tvalid_1's l1: 1.5777\n",
      "[400]\ttraining's l1: 0.932078\tvalid_1's l1: 1.56838\n",
      "[500]\ttraining's l1: 0.913157\tvalid_1's l1: 1.57329\n"
     ]
    },
    {
     "name": "stderr",
     "output_type": "stream",
     "text": [
      "\u001b[32m[I 2021-07-12 00:36:19,285]\u001b[0m Trial 50 finished with value: -1.565904055640195 and parameters: {'max_depth': 15, 'min_child_weight': 10, 'subsample': 0.9, 'colsample_bytree': 0.5, 'reg_lambda': 0.004568714124810018, 'reg_alpha': 0.05225041242449117, 'feature_fraction': 0.6048203685046922, 'bagging_fraction': 0.7542066794467426, 'bagging_freq': 5}. Best is trial 18 with value: -1.563188222234015.\u001b[0m\n"
     ]
    },
    {
     "name": "stdout",
     "output_type": "stream",
     "text": [
      "Early stopping, best iteration is:\n",
      "[429]\ttraining's l1: 0.928452\tvalid_1's l1: 1.56606\n",
      "[LightGBM] [Warning] feature_fraction is set=0.6025503826669873, colsample_bytree=0.5 will be ignored. Current value: feature_fraction=0.6025503826669873\n",
      "[LightGBM] [Warning] bagging_fraction is set=0.7336584392590917, subsample=0.9 will be ignored. Current value: bagging_fraction=0.7336584392590917\n",
      "[LightGBM] [Warning] bagging_freq is set=5, subsample_freq=0 will be ignored. Current value: bagging_freq=5\n",
      "Training until validation scores don't improve for 100 rounds\n",
      "[100]\ttraining's l1: 1.00318\tvalid_1's l1: 1.59335\n",
      "[200]\ttraining's l1: 0.975165\tvalid_1's l1: 1.585\n",
      "[300]\ttraining's l1: 0.96505\tvalid_1's l1: 1.58253\n",
      "[400]\ttraining's l1: 0.951319\tvalid_1's l1: 1.58097\n",
      "[500]\ttraining's l1: 0.934718\tvalid_1's l1: 1.57678\n",
      "[600]\ttraining's l1: 0.917803\tvalid_1's l1: 1.57831\n"
     ]
    },
    {
     "name": "stderr",
     "output_type": "stream",
     "text": [
      "\u001b[32m[I 2021-07-12 00:36:42,919]\u001b[0m Trial 51 finished with value: -1.5757286359542202 and parameters: {'max_depth': 15, 'min_child_weight': 9, 'subsample': 0.9, 'colsample_bytree': 0.5, 'reg_lambda': 0.004274058183943724, 'reg_alpha': 0.06462832088540844, 'feature_fraction': 0.6025503826669873, 'bagging_fraction': 0.7336584392590917, 'bagging_freq': 5}. Best is trial 18 with value: -1.563188222234015.\u001b[0m\n"
     ]
    },
    {
     "name": "stdout",
     "output_type": "stream",
     "text": [
      "Early stopping, best iteration is:\n",
      "[518]\ttraining's l1: 0.931237\tvalid_1's l1: 1.576\n",
      "[LightGBM] [Warning] feature_fraction is set=0.6587763882379213, colsample_bytree=0.5 will be ignored. Current value: feature_fraction=0.6587763882379213\n",
      "[LightGBM] [Warning] bagging_fraction is set=0.7750846173711121, subsample=0.9 will be ignored. Current value: bagging_fraction=0.7750846173711121\n",
      "[LightGBM] [Warning] bagging_freq is set=3, subsample_freq=0 will be ignored. Current value: bagging_freq=3\n",
      "Training until validation scores don't improve for 100 rounds\n",
      "[100]\ttraining's l1: 1.00498\tvalid_1's l1: 1.59574\n",
      "[200]\ttraining's l1: 0.988716\tvalid_1's l1: 1.58914\n",
      "[300]\ttraining's l1: 0.977906\tvalid_1's l1: 1.5863\n",
      "[400]\ttraining's l1: 0.955364\tvalid_1's l1: 1.57947\n",
      "[500]\ttraining's l1: 0.944689\tvalid_1's l1: 1.57865\n",
      "[600]\ttraining's l1: 0.931026\tvalid_1's l1: 1.57855\n"
     ]
    },
    {
     "name": "stderr",
     "output_type": "stream",
     "text": [
      "\u001b[32m[I 2021-07-12 00:37:03,316]\u001b[0m Trial 52 finished with value: -1.5759950803492733 and parameters: {'max_depth': 16, 'min_child_weight': 10, 'subsample': 0.9, 'colsample_bytree': 0.5, 'reg_lambda': 0.05422957600370504, 'reg_alpha': 1.3985351349295396, 'feature_fraction': 0.6587763882379213, 'bagging_fraction': 0.7750846173711121, 'bagging_freq': 3}. Best is trial 18 with value: -1.563188222234015.\u001b[0m\n"
     ]
    },
    {
     "name": "stdout",
     "output_type": "stream",
     "text": [
      "Early stopping, best iteration is:\n",
      "[538]\ttraining's l1: 0.939186\tvalid_1's l1: 1.57621\n",
      "[LightGBM] [Warning] feature_fraction is set=0.5403584610456832, colsample_bytree=0.5 will be ignored. Current value: feature_fraction=0.5403584610456832\n",
      "[LightGBM] [Warning] bagging_fraction is set=0.8455948187560208, subsample=0.8 will be ignored. Current value: bagging_fraction=0.8455948187560208\n",
      "[LightGBM] [Warning] bagging_freq is set=6, subsample_freq=0 will be ignored. Current value: bagging_freq=6\n",
      "Training until validation scores don't improve for 100 rounds\n",
      "[100]\ttraining's l1: 1.00488\tvalid_1's l1: 1.59426\n",
      "[200]\ttraining's l1: 0.992477\tvalid_1's l1: 1.58817\n",
      "[300]\ttraining's l1: 0.970567\tvalid_1's l1: 1.58093\n",
      "[400]\ttraining's l1: 0.933676\tvalid_1's l1: 1.57322\n"
     ]
    },
    {
     "name": "stderr",
     "output_type": "stream",
     "text": [
      "\u001b[32m[I 2021-07-12 00:37:23,523]\u001b[0m Trial 53 finished with value: -1.5702626168753742 and parameters: {'max_depth': 18, 'min_child_weight': 11, 'subsample': 0.8, 'colsample_bytree': 0.5, 'reg_lambda': 0.022849089092899646, 'reg_alpha': 3.9505520514141836, 'feature_fraction': 0.5403584610456832, 'bagging_fraction': 0.8455948187560208, 'bagging_freq': 6}. Best is trial 18 with value: -1.563188222234015.\u001b[0m\n"
     ]
    },
    {
     "name": "stdout",
     "output_type": "stream",
     "text": [
      "Early stopping, best iteration is:\n",
      "[387]\ttraining's l1: 0.936232\tvalid_1's l1: 1.57043\n",
      "[LightGBM] [Warning] feature_fraction is set=0.6318583334157889, colsample_bytree=0.5 will be ignored. Current value: feature_fraction=0.6318583334157889\n",
      "[LightGBM] [Warning] bagging_fraction is set=0.7056730190312119, subsample=0.9 will be ignored. Current value: bagging_fraction=0.7056730190312119\n",
      "[LightGBM] [Warning] bagging_freq is set=9, subsample_freq=0 will be ignored. Current value: bagging_freq=9\n",
      "Training until validation scores don't improve for 100 rounds\n",
      "[100]\ttraining's l1: 1.00484\tvalid_1's l1: 1.59937\n",
      "[200]\ttraining's l1: 0.978573\tvalid_1's l1: 1.58369\n",
      "[300]\ttraining's l1: 0.957994\tvalid_1's l1: 1.58108\n"
     ]
    },
    {
     "name": "stderr",
     "output_type": "stream",
     "text": [
      "\u001b[32m[I 2021-07-12 00:37:33,299]\u001b[0m Trial 54 finished with value: -1.5787983819213318 and parameters: {'max_depth': 15, 'min_child_weight': 12, 'subsample': 0.9, 'colsample_bytree': 0.5, 'reg_lambda': 0.004782549986846614, 'reg_alpha': 0.015442520284812836, 'feature_fraction': 0.6318583334157889, 'bagging_fraction': 0.7056730190312119, 'bagging_freq': 9}. Best is trial 18 with value: -1.563188222234015.\u001b[0m\n"
     ]
    },
    {
     "name": "stdout",
     "output_type": "stream",
     "text": [
      "Early stopping, best iteration is:\n",
      "[231]\ttraining's l1: 0.971702\tvalid_1's l1: 1.57891\n",
      "[LightGBM] [Warning] feature_fraction is set=0.5709301543600188, colsample_bytree=0.5 will be ignored. Current value: feature_fraction=0.5709301543600188\n",
      "[LightGBM] [Warning] bagging_fraction is set=0.9311916074439653, subsample=0.8 will be ignored. Current value: bagging_fraction=0.9311916074439653\n",
      "[LightGBM] [Warning] bagging_freq is set=4, subsample_freq=0 will be ignored. Current value: bagging_freq=4\n",
      "Training until validation scores don't improve for 100 rounds\n",
      "[100]\ttraining's l1: 0.997003\tvalid_1's l1: 1.59365\n",
      "[200]\ttraining's l1: 0.990696\tvalid_1's l1: 1.59144\n",
      "[300]\ttraining's l1: 0.977887\tvalid_1's l1: 1.58581\n",
      "[400]\ttraining's l1: 0.945256\tvalid_1's l1: 1.57796\n",
      "[500]\ttraining's l1: 0.920486\tvalid_1's l1: 1.57623\n"
     ]
    },
    {
     "name": "stderr",
     "output_type": "stream",
     "text": [
      "\u001b[32m[I 2021-07-12 00:37:58,598]\u001b[0m Trial 55 finished with value: -1.5740795850622045 and parameters: {'max_depth': 17, 'min_child_weight': 8, 'subsample': 0.8, 'colsample_bytree': 0.5, 'reg_lambda': 0.001600651117271666, 'reg_alpha': 0.03138146320650014, 'feature_fraction': 0.5709301543600188, 'bagging_fraction': 0.9311916074439653, 'bagging_freq': 4}. Best is trial 18 with value: -1.563188222234015.\u001b[0m\n"
     ]
    },
    {
     "name": "stdout",
     "output_type": "stream",
     "text": [
      "Early stopping, best iteration is:\n",
      "[440]\ttraining's l1: 0.935173\tvalid_1's l1: 1.57421\n",
      "[LightGBM] [Warning] feature_fraction is set=0.6031892312724689, colsample_bytree=0.6 will be ignored. Current value: feature_fraction=0.6031892312724689\n",
      "[LightGBM] [Warning] bagging_fraction is set=0.9679648035196884, subsample=0.8 will be ignored. Current value: bagging_fraction=0.9679648035196884\n",
      "[LightGBM] [Warning] bagging_freq is set=9, subsample_freq=0 will be ignored. Current value: bagging_freq=9\n",
      "Training until validation scores don't improve for 100 rounds\n",
      "[100]\ttraining's l1: 1.00555\tvalid_1's l1: 1.59498\n",
      "[200]\ttraining's l1: 0.979363\tvalid_1's l1: 1.58343\n",
      "[300]\ttraining's l1: 0.963892\tvalid_1's l1: 1.5782\n",
      "[400]\ttraining's l1: 0.95445\tvalid_1's l1: 1.57698\n",
      "[500]\ttraining's l1: 0.926828\tvalid_1's l1: 1.57772\n"
     ]
    },
    {
     "name": "stderr",
     "output_type": "stream",
     "text": [
      "\u001b[32m[I 2021-07-12 00:38:24,173]\u001b[0m Trial 56 finished with value: -1.5757703622748926 and parameters: {'max_depth': 13, 'min_child_weight': 14, 'subsample': 0.8, 'colsample_bytree': 0.6, 'reg_lambda': 0.010214932668364754, 'reg_alpha': 0.013381330577294522, 'feature_fraction': 0.6031892312724689, 'bagging_fraction': 0.9679648035196884, 'bagging_freq': 9}. Best is trial 18 with value: -1.563188222234015.\u001b[0m\n"
     ]
    },
    {
     "name": "stdout",
     "output_type": "stream",
     "text": [
      "Early stopping, best iteration is:\n",
      "[470]\ttraining's l1: 0.934242\tvalid_1's l1: 1.57592\n",
      "[LightGBM] [Warning] feature_fraction is set=0.6475181980478829, colsample_bytree=0.5 will be ignored. Current value: feature_fraction=0.6475181980478829\n",
      "[LightGBM] [Warning] bagging_fraction is set=0.8121915499499118, subsample=0.6 will be ignored. Current value: bagging_fraction=0.8121915499499118\n",
      "[LightGBM] [Warning] bagging_freq is set=5, subsample_freq=0 will be ignored. Current value: bagging_freq=5\n",
      "Training until validation scores don't improve for 100 rounds\n",
      "[100]\ttraining's l1: 1.00918\tvalid_1's l1: 1.59322\n",
      "[200]\ttraining's l1: 0.994533\tvalid_1's l1: 1.58615\n",
      "[300]\ttraining's l1: 0.975426\tvalid_1's l1: 1.57992\n",
      "[400]\ttraining's l1: 0.951118\tvalid_1's l1: 1.57216\n",
      "[500]\ttraining's l1: 0.921541\tvalid_1's l1: 1.56393\n",
      "[600]\ttraining's l1: 0.905158\tvalid_1's l1: 1.56628\n"
     ]
    },
    {
     "name": "stderr",
     "output_type": "stream",
     "text": [
      "\u001b[32m[I 2021-07-12 00:38:43,165]\u001b[0m Trial 57 finished with value: -1.5634154225133505 and parameters: {'max_depth': 18, 'min_child_weight': 9, 'subsample': 0.6, 'colsample_bytree': 0.5, 'reg_lambda': 0.42070033986505506, 'reg_alpha': 0.07093538168898751, 'feature_fraction': 0.6475181980478829, 'bagging_fraction': 0.8121915499499118, 'bagging_freq': 5}. Best is trial 18 with value: -1.563188222234015.\u001b[0m\n"
     ]
    },
    {
     "name": "stdout",
     "output_type": "stream",
     "text": [
      "Early stopping, best iteration is:\n",
      "[513]\ttraining's l1: 0.919621\tvalid_1's l1: 1.56359\n",
      "[LightGBM] [Warning] feature_fraction is set=0.5247742116390698, colsample_bytree=0.5 will be ignored. Current value: feature_fraction=0.5247742116390698\n",
      "[LightGBM] [Warning] bagging_fraction is set=0.7357653796661203, subsample=0.6 will be ignored. Current value: bagging_fraction=0.7357653796661203\n",
      "[LightGBM] [Warning] bagging_freq is set=5, subsample_freq=0 will be ignored. Current value: bagging_freq=5\n",
      "Training until validation scores don't improve for 100 rounds\n",
      "[100]\ttraining's l1: 1.00568\tvalid_1's l1: 1.59649\n",
      "[200]\ttraining's l1: 0.986633\tvalid_1's l1: 1.58436\n",
      "[300]\ttraining's l1: 0.964674\tvalid_1's l1: 1.57911\n",
      "[400]\ttraining's l1: 0.950371\tvalid_1's l1: 1.57667\n",
      "[500]\ttraining's l1: 0.927739\tvalid_1's l1: 1.57408\n"
     ]
    },
    {
     "name": "stderr",
     "output_type": "stream",
     "text": [
      "\u001b[32m[I 2021-07-12 00:39:02,966]\u001b[0m Trial 58 finished with value: -1.5720476058419883 and parameters: {'max_depth': 16, 'min_child_weight': 4, 'subsample': 0.6, 'colsample_bytree': 0.5, 'reg_lambda': 0.3791246619262389, 'reg_alpha': 0.0032602860142338114, 'feature_fraction': 0.5247742116390698, 'bagging_fraction': 0.7357653796661203, 'bagging_freq': 5}. Best is trial 18 with value: -1.563188222234015.\u001b[0m\n"
     ]
    },
    {
     "name": "stdout",
     "output_type": "stream",
     "text": [
      "Early stopping, best iteration is:\n",
      "[446]\ttraining's l1: 0.941698\tvalid_1's l1: 1.57224\n",
      "[LightGBM] [Warning] feature_fraction is set=0.6753064516027147, colsample_bytree=0.5 will be ignored. Current value: feature_fraction=0.6753064516027147\n",
      "[LightGBM] [Warning] bagging_fraction is set=0.8094330392683672, subsample=0.6 will be ignored. Current value: bagging_fraction=0.8094330392683672\n",
      "[LightGBM] [Warning] bagging_freq is set=6, subsample_freq=0 will be ignored. Current value: bagging_freq=6\n",
      "Training until validation scores don't improve for 100 rounds\n",
      "[100]\ttraining's l1: 1.00643\tvalid_1's l1: 1.59473\n",
      "[200]\ttraining's l1: 0.993924\tvalid_1's l1: 1.59107\n",
      "[300]\ttraining's l1: 0.961049\tvalid_1's l1: 1.57593\n",
      "[400]\ttraining's l1: 0.937442\tvalid_1's l1: 1.57121\n"
     ]
    },
    {
     "name": "stderr",
     "output_type": "stream",
     "text": [
      "\u001b[32m[I 2021-07-12 00:39:18,255]\u001b[0m Trial 59 finished with value: -1.568945309150168 and parameters: {'max_depth': 18, 'min_child_weight': 5, 'subsample': 0.6, 'colsample_bytree': 0.5, 'reg_lambda': 1.1779223066135154, 'reg_alpha': 0.16967348895259252, 'feature_fraction': 0.6753064516027147, 'bagging_fraction': 0.8094330392683672, 'bagging_freq': 6}. Best is trial 18 with value: -1.563188222234015.\u001b[0m\n"
     ]
    },
    {
     "name": "stdout",
     "output_type": "stream",
     "text": [
      "Early stopping, best iteration is:\n",
      "[380]\ttraining's l1: 0.941709\tvalid_1's l1: 1.56913\n",
      "[LightGBM] [Warning] feature_fraction is set=0.44698985569791194, colsample_bytree=0.5 will be ignored. Current value: feature_fraction=0.44698985569791194\n",
      "[LightGBM] [Warning] bagging_fraction is set=0.7766175934549792, subsample=0.5 will be ignored. Current value: bagging_fraction=0.7766175934549792\n",
      "[LightGBM] [Warning] bagging_freq is set=5, subsample_freq=0 will be ignored. Current value: bagging_freq=5\n",
      "Training until validation scores don't improve for 100 rounds\n",
      "[100]\ttraining's l1: 1.00535\tvalid_1's l1: 1.59346\n",
      "[200]\ttraining's l1: 0.977236\tvalid_1's l1: 1.58053\n",
      "[300]\ttraining's l1: 0.955094\tvalid_1's l1: 1.57027\n",
      "[400]\ttraining's l1: 0.927614\tvalid_1's l1: 1.5667\n",
      "[500]\ttraining's l1: 0.909057\tvalid_1's l1: 1.56581\n"
     ]
    },
    {
     "name": "stderr",
     "output_type": "stream",
     "text": [
      "\u001b[32m[I 2021-07-12 00:39:37,642]\u001b[0m Trial 60 finished with value: -1.5630499957017505 and parameters: {'max_depth': 14, 'min_child_weight': 9, 'subsample': 0.5, 'colsample_bytree': 0.5, 'reg_lambda': 17.685036018494653, 'reg_alpha': 0.08135929279299232, 'feature_fraction': 0.44698985569791194, 'bagging_fraction': 0.7766175934549792, 'bagging_freq': 5}. Best is trial 60 with value: -1.5630499957017505.\u001b[0m\n"
     ]
    },
    {
     "name": "stdout",
     "output_type": "stream",
     "text": [
      "Early stopping, best iteration is:\n",
      "[455]\ttraining's l1: 0.915244\tvalid_1's l1: 1.56322\n",
      "[LightGBM] [Warning] feature_fraction is set=0.45414575973183585, colsample_bytree=0.5 will be ignored. Current value: feature_fraction=0.45414575973183585\n",
      "[LightGBM] [Warning] bagging_fraction is set=0.7841293973475171, subsample=0.5 will be ignored. Current value: bagging_fraction=0.7841293973475171\n",
      "[LightGBM] [Warning] bagging_freq is set=5, subsample_freq=0 will be ignored. Current value: bagging_freq=5\n",
      "Training until validation scores don't improve for 100 rounds\n",
      "[100]\ttraining's l1: 1.00422\tvalid_1's l1: 1.59418\n",
      "[200]\ttraining's l1: 0.971568\tvalid_1's l1: 1.58468\n",
      "[300]\ttraining's l1: 0.949785\tvalid_1's l1: 1.5812\n",
      "[400]\ttraining's l1: 0.928787\tvalid_1's l1: 1.57724\n",
      "[500]\ttraining's l1: 0.908522\tvalid_1's l1: 1.57864\n"
     ]
    },
    {
     "name": "stderr",
     "output_type": "stream",
     "text": [
      "\u001b[32m[I 2021-07-12 00:39:57,208]\u001b[0m Trial 61 finished with value: -1.5753668551841127 and parameters: {'max_depth': 14, 'min_child_weight': 9, 'subsample': 0.5, 'colsample_bytree': 0.5, 'reg_lambda': 13.264680846559248, 'reg_alpha': 0.0738335482960475, 'feature_fraction': 0.45414575973183585, 'bagging_fraction': 0.7841293973475171, 'bagging_freq': 5}. Best is trial 60 with value: -1.5630499957017505.\u001b[0m\n"
     ]
    },
    {
     "name": "stdout",
     "output_type": "stream",
     "text": [
      "Early stopping, best iteration is:\n",
      "[447]\ttraining's l1: 0.920549\tvalid_1's l1: 1.57552\n",
      "[LightGBM] [Warning] feature_fraction is set=0.4017048440099439, colsample_bytree=0.5 will be ignored. Current value: feature_fraction=0.4017048440099439\n",
      "[LightGBM] [Warning] bagging_fraction is set=0.7169787042277488, subsample=0.5 will be ignored. Current value: bagging_fraction=0.7169787042277488\n",
      "[LightGBM] [Warning] bagging_freq is set=4, subsample_freq=0 will be ignored. Current value: bagging_freq=4\n",
      "Training until validation scores don't improve for 100 rounds\n",
      "[100]\ttraining's l1: 1.00241\tvalid_1's l1: 1.59594\n",
      "[200]\ttraining's l1: 0.978027\tvalid_1's l1: 1.58669\n",
      "[300]\ttraining's l1: 0.957683\tvalid_1's l1: 1.58419\n",
      "[400]\ttraining's l1: 0.928963\tvalid_1's l1: 1.58183\n",
      "[500]\ttraining's l1: 0.913402\tvalid_1's l1: 1.57728\n",
      "[600]\ttraining's l1: 0.900963\tvalid_1's l1: 1.57875\n"
     ]
    },
    {
     "name": "stderr",
     "output_type": "stream",
     "text": [
      "\u001b[32m[I 2021-07-12 00:40:18,244]\u001b[0m Trial 62 finished with value: -1.574246785501593 and parameters: {'max_depth': 16, 'min_child_weight': 8, 'subsample': 0.5, 'colsample_bytree': 0.5, 'reg_lambda': 334.0694010044115, 'reg_alpha': 0.0395378927181282, 'feature_fraction': 0.4017048440099439, 'bagging_fraction': 0.7169787042277488, 'bagging_freq': 4}. Best is trial 60 with value: -1.5630499957017505.\u001b[0m\n"
     ]
    },
    {
     "name": "stdout",
     "output_type": "stream",
     "text": [
      "Early stopping, best iteration is:\n",
      "[539]\ttraining's l1: 0.908822\tvalid_1's l1: 1.57442\n",
      "[LightGBM] [Warning] feature_fraction is set=0.6460828747267209, colsample_bytree=0.5 will be ignored. Current value: feature_fraction=0.6460828747267209\n",
      "[LightGBM] [Warning] bagging_fraction is set=0.7633665167941656, subsample=0.6 will be ignored. Current value: bagging_fraction=0.7633665167941656\n",
      "[LightGBM] [Warning] bagging_freq is set=6, subsample_freq=0 will be ignored. Current value: bagging_freq=6\n",
      "Training until validation scores don't improve for 100 rounds\n",
      "[100]\ttraining's l1: 1.00027\tvalid_1's l1: 1.58903\n",
      "[200]\ttraining's l1: 0.983092\tvalid_1's l1: 1.58314\n",
      "[300]\ttraining's l1: 0.963167\tvalid_1's l1: 1.57988\n",
      "[400]\ttraining's l1: 0.941054\tvalid_1's l1: 1.57645\n",
      "[500]\ttraining's l1: 0.921651\tvalid_1's l1: 1.57477\n",
      "[600]\ttraining's l1: 0.904996\tvalid_1's l1: 1.57546\n"
     ]
    },
    {
     "name": "stderr",
     "output_type": "stream",
     "text": [
      "\u001b[32m[I 2021-07-12 00:40:36,622]\u001b[0m Trial 63 finished with value: -1.5705133234961168 and parameters: {'max_depth': 17, 'min_child_weight': 10, 'subsample': 0.6, 'colsample_bytree': 0.5, 'reg_lambda': 13.365710959543282, 'reg_alpha': 0.3611866846432084, 'feature_fraction': 0.6460828747267209, 'bagging_fraction': 0.7633665167941656, 'bagging_freq': 6}. Best is trial 60 with value: -1.5630499957017505.\u001b[0m\n"
     ]
    },
    {
     "name": "stdout",
     "output_type": "stream",
     "text": [
      "Early stopping, best iteration is:\n",
      "[545]\ttraining's l1: 0.915524\tvalid_1's l1: 1.57078\n",
      "[LightGBM] [Warning] feature_fraction is set=0.5906864871422559, colsample_bytree=0.5 will be ignored. Current value: feature_fraction=0.5906864871422559\n",
      "[LightGBM] [Warning] bagging_fraction is set=0.8015039611471342, subsample=0.6 will be ignored. Current value: bagging_fraction=0.8015039611471342\n",
      "[LightGBM] [Warning] bagging_freq is set=5, subsample_freq=0 will be ignored. Current value: bagging_freq=5\n",
      "Training until validation scores don't improve for 100 rounds\n",
      "[100]\ttraining's l1: 1.00647\tvalid_1's l1: 1.59575\n",
      "[200]\ttraining's l1: 0.983086\tvalid_1's l1: 1.5889\n",
      "[300]\ttraining's l1: 0.969236\tvalid_1's l1: 1.57723\n",
      "[400]\ttraining's l1: 0.942694\tvalid_1's l1: 1.57253\n"
     ]
    },
    {
     "name": "stderr",
     "output_type": "stream",
     "text": [
      "\u001b[32m[I 2021-07-12 00:40:57,802]\u001b[0m Trial 64 finished with value: -1.5693212418258637 and parameters: {'max_depth': 12, 'min_child_weight': 7, 'subsample': 0.6, 'colsample_bytree': 0.5, 'reg_lambda': 2.663925449499474, 'reg_alpha': 0.20483078904962465, 'feature_fraction': 0.5906864871422559, 'bagging_fraction': 0.8015039611471342, 'bagging_freq': 5}. Best is trial 60 with value: -1.5630499957017505.\u001b[0m\n"
     ]
    },
    {
     "name": "stdout",
     "output_type": "stream",
     "text": [
      "Early stopping, best iteration is:\n",
      "[395]\ttraining's l1: 0.944382\tvalid_1's l1: 1.5695\n",
      "[LightGBM] [Warning] feature_fraction is set=0.5758131147119339, colsample_bytree=0.5 will be ignored. Current value: feature_fraction=0.5758131147119339\n",
      "[LightGBM] [Warning] bagging_fraction is set=0.6854660787495566, subsample=0.5 will be ignored. Current value: bagging_fraction=0.6854660787495566\n",
      "[LightGBM] [Warning] bagging_freq is set=4, subsample_freq=0 will be ignored. Current value: bagging_freq=4\n",
      "Training until validation scores don't improve for 100 rounds\n",
      "[100]\ttraining's l1: 0.995089\tvalid_1's l1: 1.5906\n",
      "[200]\ttraining's l1: 0.980023\tvalid_1's l1: 1.58608\n",
      "[300]\ttraining's l1: 0.967801\tvalid_1's l1: 1.58021\n",
      "[400]\ttraining's l1: 0.953465\tvalid_1's l1: 1.57903\n",
      "[500]\ttraining's l1: 0.929326\tvalid_1's l1: 1.57242\n",
      "[600]\ttraining's l1: 0.913274\tvalid_1's l1: 1.57578\n"
     ]
    },
    {
     "name": "stderr",
     "output_type": "stream",
     "text": [
      "\u001b[32m[I 2021-07-12 00:41:21,212]\u001b[0m Trial 65 finished with value: -1.5718063308846104 and parameters: {'max_depth': 14, 'min_child_weight': 11, 'subsample': 0.5, 'colsample_bytree': 0.5, 'reg_lambda': 159.78250811222844, 'reg_alpha': 0.010377418899525578, 'feature_fraction': 0.5758131147119339, 'bagging_fraction': 0.6854660787495566, 'bagging_freq': 4}. Best is trial 60 with value: -1.5630499957017505.\u001b[0m\n"
     ]
    },
    {
     "name": "stdout",
     "output_type": "stream",
     "text": [
      "Early stopping, best iteration is:\n",
      "[508]\ttraining's l1: 0.927363\tvalid_1's l1: 1.57196\n",
      "[LightGBM] [Warning] feature_fraction is set=0.4999657116876726, colsample_bytree=0.5 will be ignored. Current value: feature_fraction=0.4999657116876726\n",
      "[LightGBM] [Warning] bagging_fraction is set=0.6590730163883438, subsample=0.7 will be ignored. Current value: bagging_fraction=0.6590730163883438\n",
      "[LightGBM] [Warning] bagging_freq is set=6, subsample_freq=0 will be ignored. Current value: bagging_freq=6\n",
      "Training until validation scores don't improve for 100 rounds\n",
      "[100]\ttraining's l1: 1.0074\tvalid_1's l1: 1.5969\n",
      "[200]\ttraining's l1: 0.989567\tvalid_1's l1: 1.58937\n",
      "[300]\ttraining's l1: 0.967643\tvalid_1's l1: 1.58187\n",
      "[400]\ttraining's l1: 0.94517\tvalid_1's l1: 1.57479\n",
      "[500]\ttraining's l1: 0.926942\tvalid_1's l1: 1.57112\n",
      "[600]\ttraining's l1: 0.911422\tvalid_1's l1: 1.57563\n"
     ]
    },
    {
     "name": "stderr",
     "output_type": "stream",
     "text": [
      "\u001b[32m[I 2021-07-12 00:41:41,210]\u001b[0m Trial 66 finished with value: -1.5691166083872323 and parameters: {'max_depth': 15, 'min_child_weight': 9, 'subsample': 0.7, 'colsample_bytree': 0.5, 'reg_lambda': 0.017210932686873223, 'reg_alpha': 0.5965973874724941, 'feature_fraction': 0.4999657116876726, 'bagging_fraction': 0.6590730163883438, 'bagging_freq': 6}. Best is trial 60 with value: -1.5630499957017505.\u001b[0m\n"
     ]
    },
    {
     "name": "stdout",
     "output_type": "stream",
     "text": [
      "Early stopping, best iteration is:\n",
      "[535]\ttraining's l1: 0.920693\tvalid_1's l1: 1.56938\n",
      "[LightGBM] [Warning] feature_fraction is set=0.6148141035566964, colsample_bytree=0.5 will be ignored. Current value: feature_fraction=0.6148141035566964\n",
      "[LightGBM] [Warning] bagging_fraction is set=0.8317791267043503, subsample=0.6 will be ignored. Current value: bagging_fraction=0.8317791267043503\n",
      "[LightGBM] [Warning] bagging_freq is set=3, subsample_freq=0 will be ignored. Current value: bagging_freq=3\n",
      "Training until validation scores don't improve for 100 rounds\n",
      "[100]\ttraining's l1: 1.00312\tvalid_1's l1: 1.59638\n",
      "[200]\ttraining's l1: 0.997492\tvalid_1's l1: 1.59342\n",
      "[300]\ttraining's l1: 0.985776\tvalid_1's l1: 1.58739\n",
      "[400]\ttraining's l1: 0.955516\tvalid_1's l1: 1.5815\n",
      "[500]\ttraining's l1: 0.929762\tvalid_1's l1: 1.57216\n",
      "[600]\ttraining's l1: 0.911887\tvalid_1's l1: 1.56759\n"
     ]
    },
    {
     "name": "stderr",
     "output_type": "stream",
     "text": [
      "\u001b[32m[I 2021-07-12 00:42:10,195]\u001b[0m Trial 67 finished with value: -1.5662040623220326 and parameters: {'max_depth': 18, 'min_child_weight': 8, 'subsample': 0.6, 'colsample_bytree': 0.5, 'reg_lambda': 0.0029313033214710274, 'reg_alpha': 0.02163370220144158, 'feature_fraction': 0.6148141035566964, 'bagging_fraction': 0.8317791267043503, 'bagging_freq': 3}. Best is trial 60 with value: -1.5630499957017505.\u001b[0m\n"
     ]
    },
    {
     "name": "stdout",
     "output_type": "stream",
     "text": [
      "Early stopping, best iteration is:\n",
      "[567]\ttraining's l1: 0.918459\tvalid_1's l1: 1.56645\n",
      "[LightGBM] [Warning] feature_fraction is set=0.5321025519455179, colsample_bytree=0.5 will be ignored. Current value: feature_fraction=0.5321025519455179\n",
      "[LightGBM] [Warning] bagging_fraction is set=0.8302452807177191, subsample=0.5 will be ignored. Current value: bagging_fraction=0.8302452807177191\n",
      "[LightGBM] [Warning] bagging_freq is set=5, subsample_freq=0 will be ignored. Current value: bagging_freq=5\n",
      "Training until validation scores don't improve for 100 rounds\n",
      "[100]\ttraining's l1: 1.00035\tvalid_1's l1: 1.59502\n",
      "[200]\ttraining's l1: 0.990627\tvalid_1's l1: 1.58921\n",
      "[300]\ttraining's l1: 0.97614\tvalid_1's l1: 1.58318\n",
      "[400]\ttraining's l1: 0.959135\tvalid_1's l1: 1.576\n",
      "[500]\ttraining's l1: 0.938542\tvalid_1's l1: 1.57027\n",
      "[600]\ttraining's l1: 0.917307\tvalid_1's l1: 1.5617\n"
     ]
    },
    {
     "name": "stderr",
     "output_type": "stream",
     "text": [
      "\u001b[32m[I 2021-07-12 00:42:36,984]\u001b[0m Trial 68 finished with value: -1.5613323278454823 and parameters: {'max_depth': 18, 'min_child_weight': 6, 'subsample': 0.5, 'colsample_bytree': 0.5, 'reg_lambda': 0.0031425316581200785, 'reg_alpha': 0.0048645247952439135, 'feature_fraction': 0.5321025519455179, 'bagging_fraction': 0.8302452807177191, 'bagging_freq': 5}. Best is trial 68 with value: -1.5613323278454823.\u001b[0m\n"
     ]
    },
    {
     "name": "stdout",
     "output_type": "stream",
     "text": [
      "Early stopping, best iteration is:\n",
      "[598]\ttraining's l1: 0.917544\tvalid_1's l1: 1.56157\n",
      "[LightGBM] [Warning] feature_fraction is set=0.4393917122531365, colsample_bytree=0.6 will be ignored. Current value: feature_fraction=0.4393917122531365\n",
      "[LightGBM] [Warning] bagging_fraction is set=0.8645671816257643, subsample=0.5 will be ignored. Current value: bagging_fraction=0.8645671816257643\n",
      "[LightGBM] [Warning] bagging_freq is set=5, subsample_freq=0 will be ignored. Current value: bagging_freq=5\n",
      "Training until validation scores don't improve for 100 rounds\n",
      "[100]\ttraining's l1: 1.00704\tvalid_1's l1: 1.59494\n",
      "[200]\ttraining's l1: 0.973504\tvalid_1's l1: 1.58476\n",
      "[300]\ttraining's l1: 0.949156\tvalid_1's l1: 1.57573\n",
      "[400]\ttraining's l1: 0.930886\tvalid_1's l1: 1.5787\n"
     ]
    },
    {
     "name": "stderr",
     "output_type": "stream",
     "text": [
      "\u001b[32m[I 2021-07-12 00:42:53,777]\u001b[0m Trial 69 finished with value: -1.5722726343008444 and parameters: {'max_depth': 19, 'min_child_weight': 6, 'subsample': 0.5, 'colsample_bytree': 0.6, 'reg_lambda': 0.001466110710769606, 'reg_alpha': 0.001082709400321485, 'feature_fraction': 0.4393917122531365, 'bagging_fraction': 0.8645671816257643, 'bagging_freq': 5}. Best is trial 68 with value: -1.5613323278454823.\u001b[0m\n"
     ]
    },
    {
     "name": "stdout",
     "output_type": "stream",
     "text": [
      "Early stopping, best iteration is:\n",
      "[339]\ttraining's l1: 0.941235\tvalid_1's l1: 1.57241\n",
      "[LightGBM] [Warning] feature_fraction is set=0.5394787667294272, colsample_bytree=0.5 will be ignored. Current value: feature_fraction=0.5394787667294272\n",
      "[LightGBM] [Warning] bagging_fraction is set=0.9122892845265282, subsample=0.5 will be ignored. Current value: bagging_fraction=0.9122892845265282\n",
      "[LightGBM] [Warning] bagging_freq is set=6, subsample_freq=0 will be ignored. Current value: bagging_freq=6\n",
      "Training until validation scores don't improve for 100 rounds\n",
      "[100]\ttraining's l1: 0.999106\tvalid_1's l1: 1.59075\n",
      "[200]\ttraining's l1: 0.973571\tvalid_1's l1: 1.58221\n",
      "[300]\ttraining's l1: 0.958238\tvalid_1's l1: 1.57536\n",
      "[400]\ttraining's l1: 0.946695\tvalid_1's l1: 1.57436\n",
      "[500]\ttraining's l1: 0.927283\tvalid_1's l1: 1.57448\n"
     ]
    },
    {
     "name": "stderr",
     "output_type": "stream",
     "text": [
      "\u001b[32m[I 2021-07-12 00:43:16,273]\u001b[0m Trial 70 finished with value: -1.5720367506098165 and parameters: {'max_depth': 20, 'min_child_weight': 5, 'subsample': 0.5, 'colsample_bytree': 0.5, 'reg_lambda': 24.6331154511847, 'reg_alpha': 0.004431470149988646, 'feature_fraction': 0.5394787667294272, 'bagging_fraction': 0.9122892845265282, 'bagging_freq': 6}. Best is trial 68 with value: -1.5613323278454823.\u001b[0m\n"
     ]
    },
    {
     "name": "stdout",
     "output_type": "stream",
     "text": [
      "Early stopping, best iteration is:\n",
      "[424]\ttraining's l1: 0.940312\tvalid_1's l1: 1.57216\n",
      "[LightGBM] [Warning] feature_fraction is set=0.6175632044118601, colsample_bytree=0.5 will be ignored. Current value: feature_fraction=0.6175632044118601\n",
      "[LightGBM] [Warning] bagging_fraction is set=0.8269395623038593, subsample=0.6 will be ignored. Current value: bagging_fraction=0.8269395623038593\n",
      "[LightGBM] [Warning] bagging_freq is set=5, subsample_freq=0 will be ignored. Current value: bagging_freq=5\n",
      "Training until validation scores don't improve for 100 rounds\n",
      "[100]\ttraining's l1: 1.00019\tvalid_1's l1: 1.59212\n",
      "[200]\ttraining's l1: 0.990229\tvalid_1's l1: 1.5882\n",
      "[300]\ttraining's l1: 0.967876\tvalid_1's l1: 1.58467\n",
      "[400]\ttraining's l1: 0.948431\tvalid_1's l1: 1.58399\n"
     ]
    },
    {
     "name": "stderr",
     "output_type": "stream",
     "text": [
      "\u001b[32m[I 2021-07-12 00:43:33,415]\u001b[0m Trial 71 finished with value: -1.5835247793672986 and parameters: {'max_depth': 18, 'min_child_weight': 7, 'subsample': 0.6, 'colsample_bytree': 0.5, 'reg_lambda': 0.002587393856651271, 'reg_alpha': 0.02058798247074911, 'feature_fraction': 0.6175632044118601, 'bagging_fraction': 0.8269395623038593, 'bagging_freq': 5}. Best is trial 68 with value: -1.5613323278454823.\u001b[0m\n"
     ]
    },
    {
     "name": "stdout",
     "output_type": "stream",
     "text": [
      "Early stopping, best iteration is:\n",
      "[314]\ttraining's l1: 0.965202\tvalid_1's l1: 1.58366\n",
      "[LightGBM] [Warning] feature_fraction is set=0.6457100287737887, colsample_bytree=0.5 will be ignored. Current value: feature_fraction=0.6457100287737887\n",
      "[LightGBM] [Warning] bagging_fraction is set=0.7409188965257771, subsample=0.5 will be ignored. Current value: bagging_fraction=0.7409188965257771\n",
      "[LightGBM] [Warning] bagging_freq is set=4, subsample_freq=0 will be ignored. Current value: bagging_freq=4\n",
      "Training until validation scores don't improve for 100 rounds\n",
      "[100]\ttraining's l1: 0.995425\tvalid_1's l1: 1.58617\n",
      "[200]\ttraining's l1: 0.975842\tvalid_1's l1: 1.57921\n",
      "[300]\ttraining's l1: 0.964497\tvalid_1's l1: 1.57345\n",
      "[400]\ttraining's l1: 0.938481\tvalid_1's l1: 1.5706\n",
      "[500]\ttraining's l1: 0.922866\tvalid_1's l1: 1.57337\n"
     ]
    },
    {
     "name": "stderr",
     "output_type": "stream",
     "text": [
      "\u001b[32m[I 2021-07-12 00:43:49,087]\u001b[0m Trial 72 finished with value: -1.5690774853761553 and parameters: {'max_depth': 18, 'min_child_weight': 8, 'subsample': 0.5, 'colsample_bytree': 0.5, 'reg_lambda': 0.006884944524098829, 'reg_alpha': 0.0049643777754874415, 'feature_fraction': 0.6457100287737887, 'bagging_fraction': 0.7409188965257771, 'bagging_freq': 4}. Best is trial 68 with value: -1.5613323278454823.\u001b[0m\n"
     ]
    },
    {
     "name": "stdout",
     "output_type": "stream",
     "text": [
      "Early stopping, best iteration is:\n",
      "[415]\ttraining's l1: 0.936144\tvalid_1's l1: 1.56925\n",
      "[LightGBM] [Warning] feature_fraction is set=0.40929664689572165, colsample_bytree=0.5 will be ignored. Current value: feature_fraction=0.40929664689572165\n",
      "[LightGBM] [Warning] bagging_fraction is set=0.7785817450533273, subsample=0.5 will be ignored. Current value: bagging_fraction=0.7785817450533273\n",
      "[LightGBM] [Warning] bagging_freq is set=5, subsample_freq=0 will be ignored. Current value: bagging_freq=5\n",
      "Training until validation scores don't improve for 100 rounds\n",
      "[100]\ttraining's l1: 1.00718\tvalid_1's l1: 1.60117\n",
      "[200]\ttraining's l1: 0.982974\tvalid_1's l1: 1.59231\n",
      "[300]\ttraining's l1: 0.957072\tvalid_1's l1: 1.58343\n",
      "[400]\ttraining's l1: 0.930823\tvalid_1's l1: 1.58107\n"
     ]
    },
    {
     "name": "stderr",
     "output_type": "stream",
     "text": [
      "\u001b[32m[I 2021-07-12 00:44:04,380]\u001b[0m Trial 73 finished with value: -1.5798985528038638 and parameters: {'max_depth': 17, 'min_child_weight': 5, 'subsample': 0.5, 'colsample_bytree': 0.5, 'reg_lambda': 0.0030455254502747037, 'reg_alpha': 1.1532654947987182, 'feature_fraction': 0.40929664689572165, 'bagging_fraction': 0.7785817450533273, 'bagging_freq': 5}. Best is trial 68 with value: -1.5613323278454823.\u001b[0m\n"
     ]
    },
    {
     "name": "stdout",
     "output_type": "stream",
     "text": [
      "Early stopping, best iteration is:\n",
      "[335]\ttraining's l1: 0.948737\tvalid_1's l1: 1.58003\n",
      "[LightGBM] [Warning] feature_fraction is set=0.5706258883662314, colsample_bytree=0.5 will be ignored. Current value: feature_fraction=0.5706258883662314\n",
      "[LightGBM] [Warning] bagging_fraction is set=0.8333346190534819, subsample=0.6 will be ignored. Current value: bagging_fraction=0.8333346190534819\n",
      "[LightGBM] [Warning] bagging_freq is set=3, subsample_freq=0 will be ignored. Current value: bagging_freq=3\n",
      "Training until validation scores don't improve for 100 rounds\n",
      "[100]\ttraining's l1: 1.00106\tvalid_1's l1: 1.59167\n",
      "[200]\ttraining's l1: 0.983829\tvalid_1's l1: 1.5857\n",
      "[300]\ttraining's l1: 0.970177\tvalid_1's l1: 1.58354\n",
      "[400]\ttraining's l1: 0.949616\tvalid_1's l1: 1.5778\n",
      "[500]\ttraining's l1: 0.932313\tvalid_1's l1: 1.57624\n",
      "[600]\ttraining's l1: 0.906356\tvalid_1's l1: 1.57784\n"
     ]
    },
    {
     "name": "stderr",
     "output_type": "stream",
     "text": [
      "\u001b[32m[I 2021-07-12 00:44:31,666]\u001b[0m Trial 74 finished with value: -1.5747820313008196 and parameters: {'max_depth': 19, 'min_child_weight': 8, 'subsample': 0.6, 'colsample_bytree': 0.5, 'reg_lambda': 0.001053178233067863, 'reg_alpha': 0.30236090668158555, 'feature_fraction': 0.5706258883662314, 'bagging_fraction': 0.8333346190534819, 'bagging_freq': 3}. Best is trial 68 with value: -1.5613323278454823.\u001b[0m\n"
     ]
    },
    {
     "name": "stdout",
     "output_type": "stream",
     "text": [
      "Early stopping, best iteration is:\n",
      "[517]\ttraining's l1: 0.92647\tvalid_1's l1: 1.57528\n",
      "[LightGBM] [Warning] feature_fraction is set=0.6273017493766092, colsample_bytree=0.5 will be ignored. Current value: feature_fraction=0.6273017493766092\n",
      "[LightGBM] [Warning] bagging_fraction is set=0.8537157915099173, subsample=0.5 will be ignored. Current value: bagging_fraction=0.8537157915099173\n",
      "[LightGBM] [Warning] bagging_freq is set=4, subsample_freq=0 will be ignored. Current value: bagging_freq=4\n",
      "Training until validation scores don't improve for 100 rounds\n",
      "[100]\ttraining's l1: 1.00359\tvalid_1's l1: 1.59562\n",
      "[200]\ttraining's l1: 0.994708\tvalid_1's l1: 1.59144\n",
      "[300]\ttraining's l1: 0.969333\tvalid_1's l1: 1.5833\n",
      "[400]\ttraining's l1: 0.954795\tvalid_1's l1: 1.57793\n",
      "[500]\ttraining's l1: 0.938341\tvalid_1's l1: 1.57414\n",
      "[600]\ttraining's l1: 0.923519\tvalid_1's l1: 1.56728\n",
      "[700]\ttraining's l1: 0.913393\tvalid_1's l1: 1.57068\n"
     ]
    },
    {
     "name": "stderr",
     "output_type": "stream",
     "text": [
      "\u001b[32m[I 2021-07-12 00:44:55,623]\u001b[0m Trial 75 finished with value: -1.5669054793452522 and parameters: {'max_depth': 17, 'min_child_weight': 18, 'subsample': 0.5, 'colsample_bytree': 0.5, 'reg_lambda': 0.005218359957800617, 'reg_alpha': 0.13777248014111107, 'feature_fraction': 0.6273017493766092, 'bagging_fraction': 0.8537157915099173, 'bagging_freq': 4}. Best is trial 68 with value: -1.5613323278454823.\u001b[0m\n"
     ]
    },
    {
     "name": "stdout",
     "output_type": "stream",
     "text": [
      "Early stopping, best iteration is:\n",
      "[653]\ttraining's l1: 0.918402\tvalid_1's l1: 1.56718\n",
      "[LightGBM] [Warning] feature_fraction is set=0.6913168871173673, colsample_bytree=0.5 will be ignored. Current value: feature_fraction=0.6913168871173673\n",
      "[LightGBM] [Warning] bagging_fraction is set=0.7956411674872421, subsample=0.6 will be ignored. Current value: bagging_fraction=0.7956411674872421\n",
      "[LightGBM] [Warning] bagging_freq is set=5, subsample_freq=0 will be ignored. Current value: bagging_freq=5\n",
      "Training until validation scores don't improve for 100 rounds\n",
      "[100]\ttraining's l1: 1.00541\tvalid_1's l1: 1.59668\n",
      "[200]\ttraining's l1: 0.996842\tvalid_1's l1: 1.59316\n",
      "[300]\ttraining's l1: 0.98378\tvalid_1's l1: 1.58613\n",
      "[400]\ttraining's l1: 0.963624\tvalid_1's l1: 1.57817\n",
      "[500]\ttraining's l1: 0.949816\tvalid_1's l1: 1.57976\n"
     ]
    },
    {
     "name": "stderr",
     "output_type": "stream",
     "text": [
      "\u001b[32m[I 2021-07-12 00:45:11,704]\u001b[0m Trial 76 finished with value: -1.5774033794381848 and parameters: {'max_depth': 18, 'min_child_weight': 9, 'subsample': 0.6, 'colsample_bytree': 0.5, 'reg_lambda': 0.44025757779270497, 'reg_alpha': 0.023946051853148097, 'feature_fraction': 0.6913168871173673, 'bagging_fraction': 0.7956411674872421, 'bagging_freq': 5}. Best is trial 68 with value: -1.5613323278454823.\u001b[0m\n"
     ]
    },
    {
     "name": "stdout",
     "output_type": "stream",
     "text": [
      "Early stopping, best iteration is:\n",
      "[420]\ttraining's l1: 0.958423\tvalid_1's l1: 1.57749\n",
      "[LightGBM] [Warning] feature_fraction is set=0.7156884172882603, colsample_bytree=0.5 will be ignored. Current value: feature_fraction=0.7156884172882603\n",
      "[LightGBM] [Warning] bagging_fraction is set=0.8125264220435694, subsample=0.5 will be ignored. Current value: bagging_fraction=0.8125264220435694\n",
      "[LightGBM] [Warning] bagging_freq is set=7, subsample_freq=0 will be ignored. Current value: bagging_freq=7\n",
      "Training until validation scores don't improve for 100 rounds\n",
      "[100]\ttraining's l1: 1.00772\tvalid_1's l1: 1.59652\n",
      "[200]\ttraining's l1: 0.971266\tvalid_1's l1: 1.58309\n",
      "[300]\ttraining's l1: 0.951495\tvalid_1's l1: 1.58547\n"
     ]
    },
    {
     "name": "stderr",
     "output_type": "stream",
     "text": [
      "\u001b[32m[I 2021-07-12 00:45:23,949]\u001b[0m Trial 77 finished with value: -1.5776092488861417 and parameters: {'max_depth': 19, 'min_child_weight': 6, 'subsample': 0.5, 'colsample_bytree': 0.5, 'reg_lambda': 2.21894804762882, 'reg_alpha': 0.03774055592711512, 'feature_fraction': 0.7156884172882603, 'bagging_fraction': 0.8125264220435694, 'bagging_freq': 7}. Best is trial 68 with value: -1.5613323278454823.\u001b[0m\n"
     ]
    },
    {
     "name": "stdout",
     "output_type": "stream",
     "text": [
      "Early stopping, best iteration is:\n",
      "[272]\ttraining's l1: 0.959357\tvalid_1's l1: 1.57767\n",
      "[LightGBM] [Warning] feature_fraction is set=0.4618899948106706, colsample_bytree=0.6 will be ignored. Current value: feature_fraction=0.4618899948106706\n",
      "[LightGBM] [Warning] bagging_fraction is set=0.7495513664875286, subsample=0.6 will be ignored. Current value: bagging_fraction=0.7495513664875286\n",
      "[LightGBM] [Warning] bagging_freq is set=4, subsample_freq=0 will be ignored. Current value: bagging_freq=4\n",
      "Training until validation scores don't improve for 100 rounds\n",
      "[100]\ttraining's l1: 1.00342\tvalid_1's l1: 1.59635\n",
      "[200]\ttraining's l1: 0.974497\tvalid_1's l1: 1.58322\n",
      "[300]\ttraining's l1: 0.957964\tvalid_1's l1: 1.58006\n",
      "[400]\ttraining's l1: 0.928596\tvalid_1's l1: 1.58373\n"
     ]
    },
    {
     "name": "stderr",
     "output_type": "stream",
     "text": [
      "\u001b[32m[I 2021-07-12 00:45:40,575]\u001b[0m Trial 78 finished with value: -1.577730089548457 and parameters: {'max_depth': 9, 'min_child_weight': 7, 'subsample': 0.6, 'colsample_bytree': 0.6, 'reg_lambda': 95.2225913928948, 'reg_alpha': 0.08243210487124322, 'feature_fraction': 0.4618899948106706, 'bagging_fraction': 0.7495513664875286, 'bagging_freq': 4}. Best is trial 68 with value: -1.5613323278454823.\u001b[0m\n"
     ]
    },
    {
     "name": "stdout",
     "output_type": "stream",
     "text": [
      "Early stopping, best iteration is:\n",
      "[363]\ttraining's l1: 0.940096\tvalid_1's l1: 1.57786\n",
      "[LightGBM] [Warning] feature_fraction is set=0.528984560797967, colsample_bytree=0.5 will be ignored. Current value: feature_fraction=0.528984560797967\n",
      "[LightGBM] [Warning] bagging_fraction is set=0.946528459104787, subsample=0.7 will be ignored. Current value: bagging_fraction=0.946528459104787\n",
      "[LightGBM] [Warning] bagging_freq is set=8, subsample_freq=0 will be ignored. Current value: bagging_freq=8\n",
      "Training until validation scores don't improve for 100 rounds\n",
      "[100]\ttraining's l1: 0.99952\tvalid_1's l1: 1.58965\n",
      "[200]\ttraining's l1: 0.977617\tvalid_1's l1: 1.58297\n",
      "[300]\ttraining's l1: 0.965097\tvalid_1's l1: 1.58126\n",
      "[400]\ttraining's l1: 0.945726\tvalid_1's l1: 1.58107\n",
      "[500]\ttraining's l1: 0.928108\tvalid_1's l1: 1.56832\n",
      "[600]\ttraining's l1: 0.909735\tvalid_1's l1: 1.56669\n"
     ]
    },
    {
     "name": "stderr",
     "output_type": "stream",
     "text": [
      "\u001b[32m[I 2021-07-12 00:46:09,427]\u001b[0m Trial 79 finished with value: -1.5662181253841014 and parameters: {'max_depth': 16, 'min_child_weight': 8, 'subsample': 0.7, 'colsample_bytree': 0.5, 'reg_lambda': 0.00877125864812742, 'reg_alpha': 0.0015126144055815128, 'feature_fraction': 0.528984560797967, 'bagging_fraction': 0.946528459104787, 'bagging_freq': 8}. Best is trial 68 with value: -1.5613323278454823.\u001b[0m\n"
     ]
    },
    {
     "name": "stdout",
     "output_type": "stream",
     "text": [
      "[700]\ttraining's l1: 0.890396\tvalid_1's l1: 1.57014\n",
      "Early stopping, best iteration is:\n",
      "[600]\ttraining's l1: 0.909735\tvalid_1's l1: 1.56669\n",
      "[LightGBM] [Warning] feature_fraction is set=0.6665432506625267, colsample_bytree=0.5 will be ignored. Current value: feature_fraction=0.6665432506625267\n",
      "[LightGBM] [Warning] bagging_fraction is set=0.7228789095542847, subsample=0.5 will be ignored. Current value: bagging_fraction=0.7228789095542847\n",
      "[LightGBM] [Warning] bagging_freq is set=6, subsample_freq=0 will be ignored. Current value: bagging_freq=6\n",
      "Training until validation scores don't improve for 100 rounds\n",
      "[100]\ttraining's l1: 1.00929\tvalid_1's l1: 1.5962\n",
      "[200]\ttraining's l1: 0.983806\tvalid_1's l1: 1.58292\n",
      "[300]\ttraining's l1: 0.973168\tvalid_1's l1: 1.57985\n",
      "[400]\ttraining's l1: 0.956592\tvalid_1's l1: 1.57487\n",
      "[500]\ttraining's l1: 0.929506\tvalid_1's l1: 1.57422\n"
     ]
    },
    {
     "name": "stderr",
     "output_type": "stream",
     "text": [
      "\u001b[32m[I 2021-07-12 00:46:25,156]\u001b[0m Trial 80 finished with value: -1.5722460580598072 and parameters: {'max_depth': 17, 'min_child_weight': 11, 'subsample': 0.5, 'colsample_bytree': 0.5, 'reg_lambda': 0.019539726236785387, 'reg_alpha': 0.6627095070049142, 'feature_fraction': 0.6665432506625267, 'bagging_fraction': 0.7228789095542847, 'bagging_freq': 6}. Best is trial 68 with value: -1.5613323278454823.\u001b[0m\n"
     ]
    },
    {
     "name": "stdout",
     "output_type": "stream",
     "text": [
      "Early stopping, best iteration is:\n",
      "[474]\ttraining's l1: 0.936181\tvalid_1's l1: 1.57264\n",
      "[LightGBM] [Warning] feature_fraction is set=0.5331945325755774, colsample_bytree=0.5 will be ignored. Current value: feature_fraction=0.5331945325755774\n",
      "[LightGBM] [Warning] bagging_fraction is set=0.9515206992648857, subsample=0.7 will be ignored. Current value: bagging_fraction=0.9515206992648857\n",
      "[LightGBM] [Warning] bagging_freq is set=8, subsample_freq=0 will be ignored. Current value: bagging_freq=8\n",
      "Training until validation scores don't improve for 100 rounds\n",
      "[100]\ttraining's l1: 1.00071\tvalid_1's l1: 1.59068\n",
      "[200]\ttraining's l1: 0.978164\tvalid_1's l1: 1.57961\n",
      "[300]\ttraining's l1: 0.954715\tvalid_1's l1: 1.57337\n",
      "[400]\ttraining's l1: 0.930881\tvalid_1's l1: 1.57427\n"
     ]
    },
    {
     "name": "stderr",
     "output_type": "stream",
     "text": [
      "\u001b[32m[I 2021-07-12 00:46:45,596]\u001b[0m Trial 81 finished with value: -1.5691059699660697 and parameters: {'max_depth': 15, 'min_child_weight': 9, 'subsample': 0.7, 'colsample_bytree': 0.5, 'reg_lambda': 0.008813582967412845, 'reg_alpha': 0.0013121151628998791, 'feature_fraction': 0.5331945325755774, 'bagging_fraction': 0.9515206992648857, 'bagging_freq': 8}. Best is trial 68 with value: -1.5613323278454823.\u001b[0m\n"
     ]
    },
    {
     "name": "stdout",
     "output_type": "stream",
     "text": [
      "Early stopping, best iteration is:\n",
      "[372]\ttraining's l1: 0.940961\tvalid_1's l1: 1.56924\n",
      "[LightGBM] [Warning] feature_fraction is set=0.5051939268857462, colsample_bytree=0.5 will be ignored. Current value: feature_fraction=0.5051939268857462\n",
      "[LightGBM] [Warning] bagging_fraction is set=0.909527121135064, subsample=0.7 will be ignored. Current value: bagging_fraction=0.909527121135064\n",
      "[LightGBM] [Warning] bagging_freq is set=8, subsample_freq=0 will be ignored. Current value: bagging_freq=8\n",
      "Training until validation scores don't improve for 100 rounds\n",
      "[100]\ttraining's l1: 1.00601\tvalid_1's l1: 1.5952\n",
      "[200]\ttraining's l1: 0.989842\tvalid_1's l1: 1.58547\n",
      "[300]\ttraining's l1: 0.973348\tvalid_1's l1: 1.58123\n",
      "[400]\ttraining's l1: 0.943837\tvalid_1's l1: 1.57253\n",
      "[500]\ttraining's l1: 0.926284\tvalid_1's l1: 1.56874\n"
     ]
    },
    {
     "name": "stderr",
     "output_type": "stream",
     "text": [
      "\u001b[32m[I 2021-07-12 00:47:08,741]\u001b[0m Trial 82 finished with value: -1.5662675966102622 and parameters: {'max_depth': 16, 'min_child_weight': 8, 'subsample': 0.7, 'colsample_bytree': 0.5, 'reg_lambda': 0.0022866824493855452, 'reg_alpha': 0.0022645282013037667, 'feature_fraction': 0.5051939268857462, 'bagging_fraction': 0.909527121135064, 'bagging_freq': 8}. Best is trial 68 with value: -1.5613323278454823.\u001b[0m\n"
     ]
    },
    {
     "name": "stdout",
     "output_type": "stream",
     "text": [
      "Early stopping, best iteration is:\n",
      "[483]\ttraining's l1: 0.929626\tvalid_1's l1: 1.56651\n",
      "[LightGBM] [Warning] feature_fraction is set=0.5594565848524702, colsample_bytree=0.5 will be ignored. Current value: feature_fraction=0.5594565848524702\n",
      "[LightGBM] [Warning] bagging_fraction is set=0.7637311529878456, subsample=0.7 will be ignored. Current value: bagging_fraction=0.7637311529878456\n",
      "[LightGBM] [Warning] bagging_freq is set=8, subsample_freq=0 will be ignored. Current value: bagging_freq=8\n",
      "Training until validation scores don't improve for 100 rounds\n",
      "[100]\ttraining's l1: 1.00667\tvalid_1's l1: 1.59643\n",
      "[200]\ttraining's l1: 0.981854\tvalid_1's l1: 1.58944\n",
      "[300]\ttraining's l1: 0.965971\tvalid_1's l1: 1.58441\n",
      "[400]\ttraining's l1: 0.951765\tvalid_1's l1: 1.57971\n",
      "[500]\ttraining's l1: 0.929427\tvalid_1's l1: 1.57841\n"
     ]
    },
    {
     "name": "stderr",
     "output_type": "stream",
     "text": [
      "\u001b[32m[I 2021-07-12 00:47:29,351]\u001b[0m Trial 83 finished with value: -1.5767274869837613 and parameters: {'max_depth': 18, 'min_child_weight': 6, 'subsample': 0.7, 'colsample_bytree': 0.5, 'reg_lambda': 0.0034179911838211332, 'reg_alpha': 0.006486268594689521, 'feature_fraction': 0.5594565848524702, 'bagging_fraction': 0.7637311529878456, 'bagging_freq': 8}. Best is trial 68 with value: -1.5613323278454823.\u001b[0m\n"
     ]
    },
    {
     "name": "stdout",
     "output_type": "stream",
     "text": [
      "Early stopping, best iteration is:\n",
      "[448]\ttraining's l1: 0.940273\tvalid_1's l1: 1.57711\n",
      "[LightGBM] [Warning] feature_fraction is set=0.4870407910398832, colsample_bytree=0.5 will be ignored. Current value: feature_fraction=0.4870407910398832\n",
      "[LightGBM] [Warning] bagging_fraction is set=0.9411097920631073, subsample=0.6 will be ignored. Current value: bagging_fraction=0.9411097920631073\n",
      "[LightGBM] [Warning] bagging_freq is set=7, subsample_freq=0 will be ignored. Current value: bagging_freq=7\n",
      "Training until validation scores don't improve for 100 rounds\n",
      "[100]\ttraining's l1: 0.997464\tvalid_1's l1: 1.59173\n",
      "[200]\ttraining's l1: 0.981288\tvalid_1's l1: 1.58941\n",
      "[300]\ttraining's l1: 0.968043\tvalid_1's l1: 1.58466\n",
      "[400]\ttraining's l1: 0.949653\tvalid_1's l1: 1.58095\n",
      "[500]\ttraining's l1: 0.92833\tvalid_1's l1: 1.57884\n"
     ]
    },
    {
     "name": "stderr",
     "output_type": "stream",
     "text": [
      "\u001b[32m[I 2021-07-12 00:47:51,434]\u001b[0m Trial 84 finished with value: -1.5749649415549216 and parameters: {'max_depth': 16, 'min_child_weight': 10, 'subsample': 0.6, 'colsample_bytree': 0.5, 'reg_lambda': 4.870513267027836, 'reg_alpha': 0.0016389469578379542, 'feature_fraction': 0.4870407910398832, 'bagging_fraction': 0.9411097920631073, 'bagging_freq': 7}. Best is trial 68 with value: -1.5613323278454823.\u001b[0m\n"
     ]
    },
    {
     "name": "stdout",
     "output_type": "stream",
     "text": [
      "Early stopping, best iteration is:\n",
      "[446]\ttraining's l1: 0.941981\tvalid_1's l1: 1.57513\n",
      "[LightGBM] [Warning] feature_fraction is set=0.5860739078997819, colsample_bytree=0.5 will be ignored. Current value: feature_fraction=0.5860739078997819\n",
      "[LightGBM] [Warning] bagging_fraction is set=0.8809419371441345, subsample=0.7 will be ignored. Current value: bagging_fraction=0.8809419371441345\n",
      "[LightGBM] [Warning] bagging_freq is set=10, subsample_freq=0 will be ignored. Current value: bagging_freq=10\n",
      "Training until validation scores don't improve for 100 rounds\n",
      "[100]\ttraining's l1: 1.00598\tvalid_1's l1: 1.59609\n",
      "[200]\ttraining's l1: 0.979833\tvalid_1's l1: 1.5853\n",
      "[300]\ttraining's l1: 0.968293\tvalid_1's l1: 1.58534\n",
      "[400]\ttraining's l1: 0.950105\tvalid_1's l1: 1.58236\n",
      "[500]\ttraining's l1: 0.927726\tvalid_1's l1: 1.57221\n"
     ]
    },
    {
     "name": "stderr",
     "output_type": "stream",
     "text": [
      "\u001b[32m[I 2021-07-12 00:48:17,063]\u001b[0m Trial 85 finished with value: -1.5718976464975798 and parameters: {'max_depth': 13, 'min_child_weight': 8, 'subsample': 0.7, 'colsample_bytree': 0.5, 'reg_lambda': 0.006003999461549739, 'reg_alpha': 0.0030053889714557326, 'feature_fraction': 0.5860739078997819, 'bagging_fraction': 0.8809419371441345, 'bagging_freq': 10}. Best is trial 68 with value: -1.5613323278454823.\u001b[0m\n"
     ]
    },
    {
     "name": "stdout",
     "output_type": "stream",
     "text": [
      "Early stopping, best iteration is:\n",
      "[499]\ttraining's l1: 0.928067\tvalid_1's l1: 1.57202\n",
      "[LightGBM] [Warning] feature_fraction is set=0.6131855076280306, colsample_bytree=0.5 will be ignored. Current value: feature_fraction=0.6131855076280306\n",
      "[LightGBM] [Warning] bagging_fraction is set=0.8169274081648998, subsample=0.6 will be ignored. Current value: bagging_fraction=0.8169274081648998\n",
      "[LightGBM] [Warning] bagging_freq is set=2, subsample_freq=0 will be ignored. Current value: bagging_freq=2\n",
      "Training until validation scores don't improve for 100 rounds\n",
      "[100]\ttraining's l1: 1.00153\tvalid_1's l1: 1.59201\n",
      "[200]\ttraining's l1: 0.990185\tvalid_1's l1: 1.5889\n",
      "[300]\ttraining's l1: 0.961709\tvalid_1's l1: 1.57821\n",
      "[400]\ttraining's l1: 0.940345\tvalid_1's l1: 1.57205\n",
      "[500]\ttraining's l1: 0.919363\tvalid_1's l1: 1.57371\n"
     ]
    },
    {
     "name": "stderr",
     "output_type": "stream",
     "text": [
      "\u001b[32m[I 2021-07-12 00:48:44,712]\u001b[0m Trial 86 finished with value: -1.5691639947939289 and parameters: {'max_depth': 19, 'min_child_weight': 7, 'subsample': 0.6, 'colsample_bytree': 0.5, 'reg_lambda': 0.013869228778643258, 'reg_alpha': 0.04702713561626507, 'feature_fraction': 0.6131855076280306, 'bagging_fraction': 0.8169274081648998, 'bagging_freq': 2}. Best is trial 68 with value: -1.5613323278454823.\u001b[0m\n"
     ]
    },
    {
     "name": "stdout",
     "output_type": "stream",
     "text": [
      "Early stopping, best iteration is:\n",
      "[478]\ttraining's l1: 0.925754\tvalid_1's l1: 1.56931\n",
      "[LightGBM] [Warning] feature_fraction is set=0.5554661698719986, colsample_bytree=0.6 will be ignored. Current value: feature_fraction=0.5554661698719986\n",
      "[LightGBM] [Warning] bagging_fraction is set=0.8446039228982508, subsample=0.9 will be ignored. Current value: bagging_fraction=0.8446039228982508\n",
      "[LightGBM] [Warning] bagging_freq is set=7, subsample_freq=0 will be ignored. Current value: bagging_freq=7\n",
      "Training until validation scores don't improve for 100 rounds\n",
      "[100]\ttraining's l1: 1.00422\tvalid_1's l1: 1.59215\n",
      "[200]\ttraining's l1: 0.982822\tvalid_1's l1: 1.5869\n",
      "[300]\ttraining's l1: 0.962192\tvalid_1's l1: 1.57589\n",
      "[400]\ttraining's l1: 0.947429\tvalid_1's l1: 1.57161\n",
      "[500]\ttraining's l1: 0.925386\tvalid_1's l1: 1.57198\n"
     ]
    },
    {
     "name": "stderr",
     "output_type": "stream",
     "text": [
      "\u001b[32m[I 2021-07-12 00:49:05,625]\u001b[0m Trial 87 finished with value: -1.5709185482994668 and parameters: {'max_depth': 18, 'min_child_weight': 4, 'subsample': 0.9, 'colsample_bytree': 0.6, 'reg_lambda': 0.08233629918283103, 'reg_alpha': 2.496997827205521, 'feature_fraction': 0.5554661698719986, 'bagging_fraction': 0.8446039228982508, 'bagging_freq': 7}. Best is trial 68 with value: -1.5613323278454823.\u001b[0m\n"
     ]
    },
    {
     "name": "stdout",
     "output_type": "stream",
     "text": [
      "Early stopping, best iteration is:\n",
      "[410]\ttraining's l1: 0.94536\tvalid_1's l1: 1.57111\n",
      "[LightGBM] [Warning] feature_fraction is set=0.6495564173800289, colsample_bytree=0.5 will be ignored. Current value: feature_fraction=0.6495564173800289\n",
      "[LightGBM] [Warning] bagging_fraction is set=0.8925791879521631, subsample=0.7 will be ignored. Current value: bagging_fraction=0.8925791879521631\n",
      "[LightGBM] [Warning] bagging_freq is set=5, subsample_freq=0 will be ignored. Current value: bagging_freq=5\n",
      "Training until validation scores don't improve for 100 rounds\n",
      "[100]\ttraining's l1: 1.00446\tvalid_1's l1: 1.5914\n",
      "[200]\ttraining's l1: 0.971128\tvalid_1's l1: 1.57877\n",
      "[300]\ttraining's l1: 0.950533\tvalid_1's l1: 1.57656\n",
      "[400]\ttraining's l1: 0.936126\tvalid_1's l1: 1.57562\n",
      "[500]\ttraining's l1: 0.924082\tvalid_1's l1: 1.56967\n",
      "[600]\ttraining's l1: 0.910942\tvalid_1's l1: 1.57196\n"
     ]
    },
    {
     "name": "stderr",
     "output_type": "stream",
     "text": [
      "\u001b[32m[I 2021-07-12 00:49:26,097]\u001b[0m Trial 88 finished with value: -1.5691342157250865 and parameters: {'max_depth': 17, 'min_child_weight': 3, 'subsample': 0.7, 'colsample_bytree': 0.5, 'reg_lambda': 0.004194048912104183, 'reg_alpha': 0.011861512121504969, 'feature_fraction': 0.6495564173800289, 'bagging_fraction': 0.8925791879521631, 'bagging_freq': 5}. Best is trial 68 with value: -1.5613323278454823.\u001b[0m\n"
     ]
    },
    {
     "name": "stdout",
     "output_type": "stream",
     "text": [
      "Early stopping, best iteration is:\n",
      "[525]\ttraining's l1: 0.918451\tvalid_1's l1: 1.5694\n",
      "[LightGBM] [Warning] feature_fraction is set=0.5262469003122447, colsample_bytree=0.5 will be ignored. Current value: feature_fraction=0.5262469003122447\n",
      "[LightGBM] [Warning] bagging_fraction is set=0.8632399036530618, subsample=0.8 will be ignored. Current value: bagging_fraction=0.8632399036530618\n",
      "[LightGBM] [Warning] bagging_freq is set=3, subsample_freq=0 will be ignored. Current value: bagging_freq=3\n",
      "Training until validation scores don't improve for 100 rounds\n",
      "[100]\ttraining's l1: 1.17199\tvalid_1's l1: 1.76375\n",
      "[200]\ttraining's l1: 1.16446\tvalid_1's l1: 1.75227\n"
     ]
    },
    {
     "name": "stderr",
     "output_type": "stream",
     "text": [
      "\u001b[32m[I 2021-07-12 00:49:37,321]\u001b[0m Trial 89 finished with value: -1.7511942164922323 and parameters: {'max_depth': 1, 'min_child_weight': 16, 'subsample': 0.8, 'colsample_bytree': 0.5, 'reg_lambda': 0.0014978605048846549, 'reg_alpha': 0.9308089588784498, 'feature_fraction': 0.5262469003122447, 'bagging_fraction': 0.8632399036530618, 'bagging_freq': 3}. Best is trial 68 with value: -1.5613323278454823.\u001b[0m\n"
     ]
    },
    {
     "name": "stdout",
     "output_type": "stream",
     "text": [
      "Early stopping, best iteration is:\n",
      "[191]\ttraining's l1: 1.16477\tvalid_1's l1: 1.7512\n",
      "[LightGBM] [Warning] feature_fraction is set=0.5906430924550592, colsample_bytree=0.5 will be ignored. Current value: feature_fraction=0.5906430924550592\n",
      "[LightGBM] [Warning] bagging_fraction is set=0.9209020204080061, subsample=0.5 will be ignored. Current value: bagging_fraction=0.9209020204080061\n",
      "[LightGBM] [Warning] bagging_freq is set=9, subsample_freq=0 will be ignored. Current value: bagging_freq=9\n",
      "Training until validation scores don't improve for 100 rounds\n",
      "[100]\ttraining's l1: 1.0027\tvalid_1's l1: 1.59211\n",
      "[200]\ttraining's l1: 0.986306\tvalid_1's l1: 1.5874\n",
      "[300]\ttraining's l1: 0.979913\tvalid_1's l1: 1.58632\n",
      "[400]\ttraining's l1: 0.966999\tvalid_1's l1: 1.58152\n",
      "[500]\ttraining's l1: 0.946203\tvalid_1's l1: 1.57036\n",
      "[600]\ttraining's l1: 0.919902\tvalid_1's l1: 1.57345\n"
     ]
    },
    {
     "name": "stderr",
     "output_type": "stream",
     "text": [
      "\u001b[32m[I 2021-07-12 00:50:06,122]\u001b[0m Trial 90 finished with value: -1.5691887356069836 and parameters: {'max_depth': 16, 'min_child_weight': 15, 'subsample': 0.5, 'colsample_bytree': 0.5, 'reg_lambda': 0.009222861489625341, 'reg_alpha': 0.261834780847168, 'feature_fraction': 0.5906430924550592, 'bagging_fraction': 0.9209020204080061, 'bagging_freq': 9}. Best is trial 68 with value: -1.5613323278454823.\u001b[0m\n"
     ]
    },
    {
     "name": "stdout",
     "output_type": "stream",
     "text": [
      "Early stopping, best iteration is:\n",
      "[550]\ttraining's l1: 0.938127\tvalid_1's l1: 1.56944\n",
      "[LightGBM] [Warning] feature_fraction is set=0.5014249790331712, colsample_bytree=0.5 will be ignored. Current value: feature_fraction=0.5014249790331712\n",
      "[LightGBM] [Warning] bagging_fraction is set=0.9051674302488958, subsample=0.7 will be ignored. Current value: bagging_fraction=0.9051674302488958\n",
      "[LightGBM] [Warning] bagging_freq is set=8, subsample_freq=0 will be ignored. Current value: bagging_freq=8\n",
      "Training until validation scores don't improve for 100 rounds\n",
      "[100]\ttraining's l1: 1.00044\tvalid_1's l1: 1.58932\n",
      "[200]\ttraining's l1: 0.977497\tvalid_1's l1: 1.58212\n",
      "[300]\ttraining's l1: 0.955135\tvalid_1's l1: 1.57425\n",
      "[400]\ttraining's l1: 0.938566\tvalid_1's l1: 1.57011\n",
      "[500]\ttraining's l1: 0.911812\tvalid_1's l1: 1.57246\n"
     ]
    },
    {
     "name": "stderr",
     "output_type": "stream",
     "text": [
      "\u001b[32m[I 2021-07-12 00:50:28,012]\u001b[0m Trial 91 finished with value: -1.567317322457899 and parameters: {'max_depth': 15, 'min_child_weight': 8, 'subsample': 0.7, 'colsample_bytree': 0.5, 'reg_lambda': 0.002044943676600104, 'reg_alpha': 0.0020133370680872568, 'feature_fraction': 0.5014249790331712, 'bagging_fraction': 0.9051674302488958, 'bagging_freq': 8}. Best is trial 68 with value: -1.5613323278454823.\u001b[0m\n"
     ]
    },
    {
     "name": "stdout",
     "output_type": "stream",
     "text": [
      "Early stopping, best iteration is:\n",
      "[452]\ttraining's l1: 0.925687\tvalid_1's l1: 1.56752\n",
      "[LightGBM] [Warning] feature_fraction is set=0.5055272481550455, colsample_bytree=0.5 will be ignored. Current value: feature_fraction=0.5055272481550455\n",
      "[LightGBM] [Warning] bagging_fraction is set=0.9626420191936039, subsample=0.7 will be ignored. Current value: bagging_fraction=0.9626420191936039\n",
      "[LightGBM] [Warning] bagging_freq is set=8, subsample_freq=0 will be ignored. Current value: bagging_freq=8\n",
      "Training until validation scores don't improve for 100 rounds\n",
      "[100]\ttraining's l1: 1.0032\tvalid_1's l1: 1.59269\n",
      "[200]\ttraining's l1: 0.977342\tvalid_1's l1: 1.58108\n",
      "[300]\ttraining's l1: 0.950838\tvalid_1's l1: 1.57567\n",
      "[400]\ttraining's l1: 0.930324\tvalid_1's l1: 1.57127\n",
      "[500]\ttraining's l1: 0.910903\tvalid_1's l1: 1.56832\n"
     ]
    },
    {
     "name": "stderr",
     "output_type": "stream",
     "text": [
      "\u001b[32m[I 2021-07-12 00:50:51,576]\u001b[0m Trial 92 finished with value: -1.564692956924969 and parameters: {'max_depth': 14, 'min_child_weight': 9, 'subsample': 0.7, 'colsample_bytree': 0.5, 'reg_lambda': 0.042102285019798034, 'reg_alpha': 0.00466913207912935, 'feature_fraction': 0.5055272481550455, 'bagging_fraction': 0.9626420191936039, 'bagging_freq': 8}. Best is trial 68 with value: -1.5613323278454823.\u001b[0m\n"
     ]
    },
    {
     "name": "stdout",
     "output_type": "stream",
     "text": [
      "Early stopping, best iteration is:\n",
      "[467]\ttraining's l1: 0.918626\tvalid_1's l1: 1.56491\n",
      "[LightGBM] [Warning] feature_fraction is set=0.42776866515202777, colsample_bytree=0.5 will be ignored. Current value: feature_fraction=0.42776866515202777\n",
      "[LightGBM] [Warning] bagging_fraction is set=0.9886864469289373, subsample=0.7 will be ignored. Current value: bagging_fraction=0.9886864469289373\n",
      "[LightGBM] [Warning] bagging_freq is set=8, subsample_freq=0 will be ignored. Current value: bagging_freq=8\n",
      "Training until validation scores don't improve for 100 rounds\n",
      "[100]\ttraining's l1: 1.00385\tvalid_1's l1: 1.59565\n",
      "[200]\ttraining's l1: 0.973457\tvalid_1's l1: 1.58249\n",
      "[300]\ttraining's l1: 0.957573\tvalid_1's l1: 1.57884\n",
      "[400]\ttraining's l1: 0.936662\tvalid_1's l1: 1.57766\n"
     ]
    },
    {
     "name": "stderr",
     "output_type": "stream",
     "text": [
      "\u001b[32m[I 2021-07-12 00:51:10,351]\u001b[0m Trial 93 finished with value: -1.5727364492195566 and parameters: {'max_depth': 11, 'min_child_weight': 10, 'subsample': 0.7, 'colsample_bytree': 0.5, 'reg_lambda': 0.006193069406283025, 'reg_alpha': 0.00796857895244876, 'feature_fraction': 0.42776866515202777, 'bagging_fraction': 0.9886864469289373, 'bagging_freq': 8}. Best is trial 68 with value: -1.5613323278454823.\u001b[0m\n"
     ]
    },
    {
     "name": "stdout",
     "output_type": "stream",
     "text": [
      "Early stopping, best iteration is:\n",
      "[360]\ttraining's l1: 0.943263\tvalid_1's l1: 1.5729\n",
      "[LightGBM] [Warning] feature_fraction is set=0.4794362598547742, colsample_bytree=0.9 will be ignored. Current value: feature_fraction=0.4794362598547742\n",
      "[LightGBM] [Warning] bagging_fraction is set=0.9422272803283541, subsample=0.7 will be ignored. Current value: bagging_fraction=0.9422272803283541\n",
      "[LightGBM] [Warning] bagging_freq is set=9, subsample_freq=0 will be ignored. Current value: bagging_freq=9\n",
      "Training until validation scores don't improve for 100 rounds\n",
      "[100]\ttraining's l1: 0.997577\tvalid_1's l1: 1.59162\n",
      "[200]\ttraining's l1: 0.989208\tvalid_1's l1: 1.58913\n",
      "[300]\ttraining's l1: 0.980097\tvalid_1's l1: 1.58499\n",
      "[400]\ttraining's l1: 0.966265\tvalid_1's l1: 1.5813\n"
     ]
    },
    {
     "name": "stderr",
     "output_type": "stream",
     "text": [
      "\u001b[32m[I 2021-07-12 00:51:29,791]\u001b[0m Trial 94 finished with value: -1.5784534994469246 and parameters: {'max_depth': 6, 'min_child_weight': 9, 'subsample': 0.7, 'colsample_bytree': 0.9, 'reg_lambda': 0.1435921195338186, 'reg_alpha': 0.004810330517583401, 'feature_fraction': 0.4794362598547742, 'bagging_fraction': 0.9422272803283541, 'bagging_freq': 9}. Best is trial 68 with value: -1.5613323278454823.\u001b[0m\n"
     ]
    },
    {
     "name": "stdout",
     "output_type": "stream",
     "text": [
      "Early stopping, best iteration is:\n",
      "[387]\ttraining's l1: 0.96768\tvalid_1's l1: 1.57872\n",
      "[LightGBM] [Warning] feature_fraction is set=0.6098368930293134, colsample_bytree=0.5 will be ignored. Current value: feature_fraction=0.6098368930293134\n",
      "[LightGBM] [Warning] bagging_fraction is set=0.964080600933031, subsample=0.8 will be ignored. Current value: bagging_fraction=0.964080600933031\n",
      "[LightGBM] [Warning] bagging_freq is set=7, subsample_freq=0 will be ignored. Current value: bagging_freq=7\n",
      "Training until validation scores don't improve for 100 rounds\n",
      "[100]\ttraining's l1: 1.00291\tvalid_1's l1: 1.59366\n",
      "[200]\ttraining's l1: 0.987718\tvalid_1's l1: 1.58597\n",
      "[300]\ttraining's l1: 0.963902\tvalid_1's l1: 1.57761\n",
      "[400]\ttraining's l1: 0.947369\tvalid_1's l1: 1.57729\n",
      "[500]\ttraining's l1: 0.930218\tvalid_1's l1: 1.57142\n",
      "[600]\ttraining's l1: 0.910603\tvalid_1's l1: 1.5626\n",
      "[700]\ttraining's l1: 0.903455\tvalid_1's l1: 1.57097\n",
      "Early stopping, best iteration is:\n",
      "[601]\ttraining's l1: 0.910084\tvalid_1's l1: 1.56248\n"
     ]
    },
    {
     "name": "stderr",
     "output_type": "stream",
     "text": [
      "\u001b[32m[I 2021-07-12 00:52:00,589]\u001b[0m Trial 95 finished with value: -1.5622104841779343 and parameters: {'max_depth': 14, 'min_child_weight': 9, 'subsample': 0.8, 'colsample_bytree': 0.5, 'reg_lambda': 0.04034460239805119, 'reg_alpha': 0.11830712861687823, 'feature_fraction': 0.6098368930293134, 'bagging_fraction': 0.964080600933031, 'bagging_freq': 7}. Best is trial 68 with value: -1.5613323278454823.\u001b[0m\n"
     ]
    },
    {
     "name": "stdout",
     "output_type": "stream",
     "text": [
      "[LightGBM] [Warning] feature_fraction is set=0.6359716725468934, colsample_bytree=0.5 will be ignored. Current value: feature_fraction=0.6359716725468934\n",
      "[LightGBM] [Warning] bagging_fraction is set=0.9673060335293971, subsample=0.8 will be ignored. Current value: bagging_fraction=0.9673060335293971\n",
      "[LightGBM] [Warning] bagging_freq is set=7, subsample_freq=0 will be ignored. Current value: bagging_freq=7\n",
      "Training until validation scores don't improve for 100 rounds\n",
      "[100]\ttraining's l1: 1.00553\tvalid_1's l1: 1.59908\n",
      "[200]\ttraining's l1: 0.984567\tvalid_1's l1: 1.5887\n",
      "[300]\ttraining's l1: 0.972707\tvalid_1's l1: 1.58527\n",
      "[400]\ttraining's l1: 0.949435\tvalid_1's l1: 1.57748\n",
      "[500]\ttraining's l1: 0.921938\tvalid_1's l1: 1.57603\n",
      "[600]\ttraining's l1: 0.897995\tvalid_1's l1: 1.57298\n",
      "[700]\ttraining's l1: 0.889019\tvalid_1's l1: 1.57328\n",
      "[800]\ttraining's l1: 0.87581\tvalid_1's l1: 1.57141\n",
      "[900]\ttraining's l1: 0.867191\tvalid_1's l1: 1.57637\n"
     ]
    },
    {
     "name": "stderr",
     "output_type": "stream",
     "text": [
      "\u001b[32m[I 2021-07-12 00:52:31,046]\u001b[0m Trial 96 finished with value: -1.5696920926059894 and parameters: {'max_depth': 12, 'min_child_weight': 10, 'subsample': 0.8, 'colsample_bytree': 0.5, 'reg_lambda': 0.06459835814364322, 'reg_alpha': 0.1342552872962226, 'feature_fraction': 0.6359716725468934, 'bagging_fraction': 0.9673060335293971, 'bagging_freq': 7}. Best is trial 68 with value: -1.5613323278454823.\u001b[0m\n"
     ]
    },
    {
     "name": "stdout",
     "output_type": "stream",
     "text": [
      "Early stopping, best iteration is:\n",
      "[855]\ttraining's l1: 0.869848\tvalid_1's l1: 1.5702\n",
      "[LightGBM] [Warning] feature_fraction is set=0.5808066620954035, colsample_bytree=0.5 will be ignored. Current value: feature_fraction=0.5808066620954035\n",
      "[LightGBM] [Warning] bagging_fraction is set=0.7958280343909532, subsample=0.8 will be ignored. Current value: bagging_fraction=0.7958280343909532\n",
      "[LightGBM] [Warning] bagging_freq is set=6, subsample_freq=0 will be ignored. Current value: bagging_freq=6\n",
      "Training until validation scores don't improve for 100 rounds\n",
      "[100]\ttraining's l1: 1.00213\tvalid_1's l1: 1.59597\n",
      "[200]\ttraining's l1: 0.995204\tvalid_1's l1: 1.5923\n",
      "[300]\ttraining's l1: 0.9666\tvalid_1's l1: 1.58453\n",
      "[400]\ttraining's l1: 0.945591\tvalid_1's l1: 1.58173\n",
      "[500]\ttraining's l1: 0.920647\tvalid_1's l1: 1.57327\n",
      "[600]\ttraining's l1: 0.901824\tvalid_1's l1: 1.57436\n"
     ]
    },
    {
     "name": "stderr",
     "output_type": "stream",
     "text": [
      "\u001b[32m[I 2021-07-12 00:52:58,994]\u001b[0m Trial 97 finished with value: -1.5716866053710605 and parameters: {'max_depth': 14, 'min_child_weight': 9, 'subsample': 0.8, 'colsample_bytree': 0.5, 'reg_lambda': 0.03175776523029002, 'reg_alpha': 0.48346548108545573, 'feature_fraction': 0.5808066620954035, 'bagging_fraction': 0.7958280343909532, 'bagging_freq': 6}. Best is trial 68 with value: -1.5613323278454823.\u001b[0m\n"
     ]
    },
    {
     "name": "stdout",
     "output_type": "stream",
     "text": [
      "Early stopping, best iteration is:\n",
      "[593]\ttraining's l1: 0.903929\tvalid_1's l1: 1.57214\n",
      "[LightGBM] [Warning] feature_fraction is set=0.6068002604616095, colsample_bytree=0.6 will be ignored. Current value: feature_fraction=0.6068002604616095\n",
      "[LightGBM] [Warning] bagging_fraction is set=0.7726971750655394, subsample=0.8 will be ignored. Current value: bagging_fraction=0.7726971750655394\n",
      "[LightGBM] [Warning] bagging_freq is set=7, subsample_freq=0 will be ignored. Current value: bagging_freq=7\n",
      "Training until validation scores don't improve for 100 rounds\n",
      "[100]\ttraining's l1: 1.00147\tvalid_1's l1: 1.59599\n",
      "[200]\ttraining's l1: 0.99042\tvalid_1's l1: 1.58857\n",
      "[300]\ttraining's l1: 0.972708\tvalid_1's l1: 1.58427\n",
      "[400]\ttraining's l1: 0.943423\tvalid_1's l1: 1.57568\n",
      "[500]\ttraining's l1: 0.917748\tvalid_1's l1: 1.56529\n",
      "[600]\ttraining's l1: 0.903918\tvalid_1's l1: 1.56846\n",
      "Early stopping, best iteration is:\n",
      "[505]\ttraining's l1: 0.916075\tvalid_1's l1: 1.56448\n"
     ]
    },
    {
     "name": "stderr",
     "output_type": "stream",
     "text": [
      "\u001b[32m[I 2021-07-12 00:53:22,502]\u001b[0m Trial 98 finished with value: -1.5642766590545805 and parameters: {'max_depth': 20, 'min_child_weight': 12, 'subsample': 0.8, 'colsample_bytree': 0.6, 'reg_lambda': 0.04864835209130865, 'reg_alpha': 0.10189164913608396, 'feature_fraction': 0.6068002604616095, 'bagging_fraction': 0.7726971750655394, 'bagging_freq': 7}. Best is trial 68 with value: -1.5613323278454823.\u001b[0m\n"
     ]
    },
    {
     "name": "stdout",
     "output_type": "stream",
     "text": [
      "[LightGBM] [Warning] feature_fraction is set=0.6032921761672233, colsample_bytree=0.7 will be ignored. Current value: feature_fraction=0.6032921761672233\n",
      "[LightGBM] [Warning] bagging_fraction is set=0.7706659018521553, subsample=0.8 will be ignored. Current value: bagging_fraction=0.7706659018521553\n",
      "[LightGBM] [Warning] bagging_freq is set=7, subsample_freq=0 will be ignored. Current value: bagging_freq=7\n",
      "Training until validation scores don't improve for 100 rounds\n",
      "[100]\ttraining's l1: 1.00077\tvalid_1's l1: 1.5929\n",
      "[200]\ttraining's l1: 0.985569\tvalid_1's l1: 1.58516\n",
      "[300]\ttraining's l1: 0.961743\tvalid_1's l1: 1.5797\n",
      "[400]\ttraining's l1: 0.94161\tvalid_1's l1: 1.58447\n"
     ]
    },
    {
     "name": "stderr",
     "output_type": "stream",
     "text": [
      "\u001b[32m[I 2021-07-12 00:53:40,538]\u001b[0m Trial 99 finished with value: -1.577465401686825 and parameters: {'max_depth': 13, 'min_child_weight': 12, 'subsample': 0.8, 'colsample_bytree': 0.7, 'reg_lambda': 0.04762077185070463, 'reg_alpha': 0.3763926216656374, 'feature_fraction': 0.6032921761672233, 'bagging_fraction': 0.7706659018521553, 'bagging_freq': 7}. Best is trial 68 with value: -1.5613323278454823.\u001b[0m\n"
     ]
    },
    {
     "name": "stdout",
     "output_type": "stream",
     "text": [
      "Early stopping, best iteration is:\n",
      "[349]\ttraining's l1: 0.952669\tvalid_1's l1: 1.57763\n"
     ]
    }
   ],
   "source": [
    "study1, study2, study3, study4 = rt4kaido_train.train_and_evaluate(train, isgamedayonly=False)"
   ]
  },
  {
   "cell_type": "code",
   "execution_count": null,
   "id": "b2c4e7e4",
   "metadata": {},
   "outputs": [],
   "source": []
  },
  {
   "cell_type": "code",
   "execution_count": 26,
   "id": "4d23a693",
   "metadata": {},
   "outputs": [
    {
     "name": "stdout",
     "output_type": "stream",
     "text": [
      "param = {'max_depth': 5, 'min_child_weight': 10, 'subsample': 0.6, 'colsample_bytree': 0.5, 'reg_lambda': 0.713345675706146, 'reg_alpha': 0.035486851631028014, 'feature_fraction': 0.9590493698301378, 'bagging_fraction': 0.9017962785461695, 'bagging_freq': 3}\n",
      "best_score = 1.1458399417968985\n"
     ]
    }
   ],
   "source": [
    "print(f'param = {study1.best_trial.params}')\n",
    "print(f'best_score = {-study1.best_value}')"
   ]
  },
  {
   "cell_type": "code",
   "execution_count": 27,
   "id": "ef99b473",
   "metadata": {},
   "outputs": [
    {
     "name": "stdout",
     "output_type": "stream",
     "text": [
      "param = {'max_depth': 18, 'min_child_weight': 8, 'subsample': 0.5, 'colsample_bytree': 0.8, 'reg_lambda': 54.45539908757693, 'reg_alpha': 1.4416542297175678, 'feature_fraction': 0.5270058209606729, 'bagging_fraction': 0.7607796738825863, 'bagging_freq': 8}\n",
      "best_score = 2.2215053088120085\n"
     ]
    }
   ],
   "source": [
    "print(f'param = {study2.best_trial.params}')\n",
    "print(f'best_score = {-study2.best_value}')"
   ]
  },
  {
   "cell_type": "code",
   "execution_count": 28,
   "id": "37c1b150",
   "metadata": {},
   "outputs": [
    {
     "name": "stdout",
     "output_type": "stream",
     "text": [
      "param = {'max_depth': 4, 'min_child_weight': 9, 'subsample': 0.9, 'colsample_bytree': 0.5, 'reg_lambda': 6.674872391777479, 'reg_alpha': 0.06024628993289382, 'feature_fraction': 0.8615761806234242, 'bagging_fraction': 0.6008278034175709, 'bagging_freq': 6}\n",
      "best_score = 0.9266460044641004\n"
     ]
    }
   ],
   "source": [
    "print(f'param = {study3.best_trial.params}')\n",
    "print(f'best_score = {-study3.best_value}')"
   ]
  },
  {
   "cell_type": "code",
   "execution_count": 29,
   "id": "7f9cc6d2",
   "metadata": {},
   "outputs": [
    {
     "name": "stdout",
     "output_type": "stream",
     "text": [
      "param = {'max_depth': 18, 'min_child_weight': 6, 'subsample': 0.5, 'colsample_bytree': 0.5, 'reg_lambda': 0.0031425316581200785, 'reg_alpha': 0.0048645247952439135, 'feature_fraction': 0.5321025519455179, 'bagging_fraction': 0.8302452807177191, 'bagging_freq': 5}\n",
      "best_score = 1.5613323278454823\n"
     ]
    }
   ],
   "source": [
    "print(f'param = {study4.best_trial.params}')\n",
    "print(f'best_score = {-study4.best_value}')"
   ]
  },
  {
   "cell_type": "code",
   "execution_count": null,
   "id": "cfbbb5e1",
   "metadata": {},
   "outputs": [],
   "source": []
  }
 ],
 "metadata": {
  "kernelspec": {
   "display_name": "Python 3",
   "language": "python",
   "name": "python3"
  },
  "language_info": {
   "codemirror_mode": {
    "name": "ipython",
    "version": 3
   },
   "file_extension": ".py",
   "mimetype": "text/x-python",
   "name": "python",
   "nbconvert_exporter": "python",
   "pygments_lexer": "ipython3",
   "version": "3.6.13"
  }
 },
 "nbformat": 4,
 "nbformat_minor": 5
}
