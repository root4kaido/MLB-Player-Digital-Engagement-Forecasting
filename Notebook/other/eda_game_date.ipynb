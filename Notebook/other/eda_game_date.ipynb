{
 "cells": [
  {
   "cell_type": "code",
   "execution_count": 1,
   "id": "f22952be",
   "metadata": {},
   "outputs": [],
   "source": [
    "import gc\n",
    "import os\n",
    "import sys\n",
    "import math\n",
    "import random\n",
    "import warnings\n",
    "import pickle\n",
    "from pathlib import Path\n",
    "from joblib import Parallel, delayed\n",
    "from statsmodels.tsa.deterministic import (CalendarFourier,\n",
    "                                           CalendarSeasonality,\n",
    "                                           CalendarTimeTrend,\n",
    "                                           DeterministicProcess)\n",
    "\n",
    "from tqdm import tqdm\n",
    "import os\n",
    "import ipywidgets as widgets\n",
    "import matplotlib.pyplot as plt\n",
    "import numpy as np\n",
    "import pandas as pd\n",
    "import seaborn as sns\n",
    "# from pandarallel import pandarallel\n",
    "# pandarallel.initialize()\n",
    "warnings.simplefilter(\"ignore\")\n",
    "import ctypes as ct\n",
    "from datetime import timedelta\n",
    "\n",
    "from sklearn.metrics import mean_absolute_error\n",
    "from sklearn.preprocessing import PowerTransformer\n",
    "\n",
    "import lightgbm as lgbm\n"
   ]
  },
  {
   "cell_type": "code",
   "execution_count": 2,
   "id": "f71fee0b",
   "metadata": {},
   "outputs": [],
   "source": [
    "sys.path.append('../../')\n",
    "import src.utils as utils"
   ]
  },
  {
   "cell_type": "code",
   "execution_count": 3,
   "id": "e31958b2",
   "metadata": {},
   "outputs": [],
   "source": [
    "EXP_NUM = 1"
   ]
  },
  {
   "cell_type": "code",
   "execution_count": 4,
   "id": "92b2bd69",
   "metadata": {},
   "outputs": [],
   "source": [
    "DATA_DIR = Path(\"/home/knikaido/work/MLB-Player-Digital-Engagement-Forecasting/data/\")\n",
    "MAIN_DATA_DIR = DATA_DIR / 'mlb-player-digital-engagement-forecasting-update'\n",
    "TRAIN_DIR = MAIN_DATA_DIR / 'train'\n",
    "OUTPUT_DIR = Path('./output/')"
   ]
  },
  {
   "cell_type": "code",
   "execution_count": 5,
   "id": "6737d696",
   "metadata": {},
   "outputs": [],
   "source": [
    "players = pd.read_csv(MAIN_DATA_DIR / 'players.csv')\n",
    "\n",
    "rosters = pd.read_csv(TRAIN_DIR / 'rosters_train.csv')\n",
    "targets = pd.read_csv(TRAIN_DIR / 'nextDayPlayerEngagement_train.csv')\n",
    "scores = pd.read_csv(TRAIN_DIR / 'playerBoxScores_train.csv')\n",
    "scores['gameday'] = 1\n",
    "scores = scores.groupby(['playerId', 'date']).sum().reset_index()\n",
    "seasons = pd.read_csv(MAIN_DATA_DIR / 'seasons.csv')\n"
   ]
  },
  {
   "cell_type": "code",
   "execution_count": 6,
   "id": "2c573c9a",
   "metadata": {},
   "outputs": [
    {
     "data": {
      "text/html": [
       "<div>\n",
       "<style scoped>\n",
       "    .dataframe tbody tr th:only-of-type {\n",
       "        vertical-align: middle;\n",
       "    }\n",
       "\n",
       "    .dataframe tbody tr th {\n",
       "        vertical-align: top;\n",
       "    }\n",
       "\n",
       "    .dataframe thead th {\n",
       "        text-align: right;\n",
       "    }\n",
       "</style>\n",
       "<table border=\"1\" class=\"dataframe\">\n",
       "  <thead>\n",
       "    <tr style=\"text-align: right;\">\n",
       "      <th></th>\n",
       "      <th>seasonId</th>\n",
       "      <th>seasonStartDate</th>\n",
       "      <th>seasonEndDate</th>\n",
       "      <th>preSeasonStartDate</th>\n",
       "      <th>preSeasonEndDate</th>\n",
       "      <th>regularSeasonStartDate</th>\n",
       "      <th>regularSeasonEndDate</th>\n",
       "      <th>lastDate1stHalf</th>\n",
       "      <th>allStarDate</th>\n",
       "      <th>firstDate2ndHalf</th>\n",
       "      <th>postSeasonStartDate</th>\n",
       "      <th>postSeasonEndDate</th>\n",
       "    </tr>\n",
       "  </thead>\n",
       "  <tbody>\n",
       "    <tr>\n",
       "      <th>0</th>\n",
       "      <td>2017</td>\n",
       "      <td>2017-04-02</td>\n",
       "      <td>2017-11-01</td>\n",
       "      <td>2017-02-22</td>\n",
       "      <td>2017-04-01</td>\n",
       "      <td>2017-04-02</td>\n",
       "      <td>2017-10-01</td>\n",
       "      <td>2017-07-09</td>\n",
       "      <td>2017-07-11</td>\n",
       "      <td>2017-07-14</td>\n",
       "      <td>2017-10-03</td>\n",
       "      <td>2017-11-01</td>\n",
       "    </tr>\n",
       "    <tr>\n",
       "      <th>1</th>\n",
       "      <td>2018</td>\n",
       "      <td>2018-03-29</td>\n",
       "      <td>2018-10-28</td>\n",
       "      <td>2018-02-21</td>\n",
       "      <td>2018-03-27</td>\n",
       "      <td>2018-03-29</td>\n",
       "      <td>2018-10-01</td>\n",
       "      <td>2018-07-15</td>\n",
       "      <td>2018-07-17</td>\n",
       "      <td>2018-07-19</td>\n",
       "      <td>2018-10-02</td>\n",
       "      <td>2018-10-28</td>\n",
       "    </tr>\n",
       "    <tr>\n",
       "      <th>2</th>\n",
       "      <td>2019</td>\n",
       "      <td>2019-03-20</td>\n",
       "      <td>2019-10-30</td>\n",
       "      <td>2019-02-21</td>\n",
       "      <td>2019-03-26</td>\n",
       "      <td>2019-03-20</td>\n",
       "      <td>2019-09-29</td>\n",
       "      <td>2019-07-07</td>\n",
       "      <td>2019-07-09</td>\n",
       "      <td>2019-07-11</td>\n",
       "      <td>2019-10-01</td>\n",
       "      <td>2019-10-30</td>\n",
       "    </tr>\n",
       "    <tr>\n",
       "      <th>3</th>\n",
       "      <td>2020</td>\n",
       "      <td>2020-07-23</td>\n",
       "      <td>2020-10-28</td>\n",
       "      <td>2020-02-21</td>\n",
       "      <td>2020-07-22</td>\n",
       "      <td>2020-07-23</td>\n",
       "      <td>2020-09-27</td>\n",
       "      <td>2020-08-25</td>\n",
       "      <td>NaN</td>\n",
       "      <td>2020-08-26</td>\n",
       "      <td>2020-09-29</td>\n",
       "      <td>2020-10-28</td>\n",
       "    </tr>\n",
       "    <tr>\n",
       "      <th>4</th>\n",
       "      <td>2021</td>\n",
       "      <td>2021-02-28</td>\n",
       "      <td>2021-10-31</td>\n",
       "      <td>2021-02-28</td>\n",
       "      <td>2021-03-30</td>\n",
       "      <td>2021-04-01</td>\n",
       "      <td>2021-10-03</td>\n",
       "      <td>2021-07-11</td>\n",
       "      <td>2021-07-13</td>\n",
       "      <td>2021-07-15</td>\n",
       "      <td>2021-10-04</td>\n",
       "      <td>2021-10-31</td>\n",
       "    </tr>\n",
       "  </tbody>\n",
       "</table>\n",
       "</div>"
      ],
      "text/plain": [
       "   seasonId seasonStartDate seasonEndDate preSeasonStartDate preSeasonEndDate  \\\n",
       "0      2017      2017-04-02    2017-11-01         2017-02-22       2017-04-01   \n",
       "1      2018      2018-03-29    2018-10-28         2018-02-21       2018-03-27   \n",
       "2      2019      2019-03-20    2019-10-30         2019-02-21       2019-03-26   \n",
       "3      2020      2020-07-23    2020-10-28         2020-02-21       2020-07-22   \n",
       "4      2021      2021-02-28    2021-10-31         2021-02-28       2021-03-30   \n",
       "\n",
       "  regularSeasonStartDate regularSeasonEndDate lastDate1stHalf allStarDate  \\\n",
       "0             2017-04-02           2017-10-01      2017-07-09  2017-07-11   \n",
       "1             2018-03-29           2018-10-01      2018-07-15  2018-07-17   \n",
       "2             2019-03-20           2019-09-29      2019-07-07  2019-07-09   \n",
       "3             2020-07-23           2020-09-27      2020-08-25         NaN   \n",
       "4             2021-04-01           2021-10-03      2021-07-11  2021-07-13   \n",
       "\n",
       "  firstDate2ndHalf postSeasonStartDate postSeasonEndDate  \n",
       "0       2017-07-14          2017-10-03        2017-11-01  \n",
       "1       2018-07-19          2018-10-02        2018-10-28  \n",
       "2       2019-07-11          2019-10-01        2019-10-30  \n",
       "3       2020-08-26          2020-09-29        2020-10-28  \n",
       "4       2021-07-15          2021-10-04        2021-10-31  "
      ]
     },
     "execution_count": 6,
     "metadata": {},
     "output_type": "execute_result"
    }
   ],
   "source": [
    "seasons"
   ]
  },
  {
   "cell_type": "code",
   "execution_count": 7,
   "id": "982d40ff",
   "metadata": {},
   "outputs": [],
   "source": [
    "date_ = pd.to_datetime(scores['date'], format=\"%Y%m%d\")\n",
    "scores['month'] = date_.dt.month\n",
    "scores['year'] = date_.dt.year"
   ]
  },
  {
   "cell_type": "code",
   "execution_count": 8,
   "id": "91c4cc21",
   "metadata": {},
   "outputs": [
    {
     "data": {
      "text/html": [
       "<div>\n",
       "<style scoped>\n",
       "    .dataframe tbody tr th:only-of-type {\n",
       "        vertical-align: middle;\n",
       "    }\n",
       "\n",
       "    .dataframe tbody tr th {\n",
       "        vertical-align: top;\n",
       "    }\n",
       "\n",
       "    .dataframe thead th {\n",
       "        text-align: right;\n",
       "    }\n",
       "</style>\n",
       "<table border=\"1\" class=\"dataframe\">\n",
       "  <thead>\n",
       "    <tr style=\"text-align: right;\">\n",
       "      <th></th>\n",
       "      <th>year</th>\n",
       "      <th>month</th>\n",
       "      <th>gameday</th>\n",
       "    </tr>\n",
       "  </thead>\n",
       "  <tbody>\n",
       "    <tr>\n",
       "      <th>0</th>\n",
       "      <td>2018</td>\n",
       "      <td>3</td>\n",
       "      <td>1155</td>\n",
       "    </tr>\n",
       "    <tr>\n",
       "      <th>1</th>\n",
       "      <td>2018</td>\n",
       "      <td>4</td>\n",
       "      <td>11043</td>\n",
       "    </tr>\n",
       "    <tr>\n",
       "      <th>2</th>\n",
       "      <td>2018</td>\n",
       "      <td>5</td>\n",
       "      <td>11906</td>\n",
       "    </tr>\n",
       "    <tr>\n",
       "      <th>3</th>\n",
       "      <td>2018</td>\n",
       "      <td>6</td>\n",
       "      <td>11483</td>\n",
       "    </tr>\n",
       "    <tr>\n",
       "      <th>4</th>\n",
       "      <td>2018</td>\n",
       "      <td>7</td>\n",
       "      <td>10905</td>\n",
       "    </tr>\n",
       "    <tr>\n",
       "      <th>5</th>\n",
       "      <td>2018</td>\n",
       "      <td>8</td>\n",
       "      <td>11887</td>\n",
       "    </tr>\n",
       "    <tr>\n",
       "      <th>6</th>\n",
       "      <td>2018</td>\n",
       "      <td>9</td>\n",
       "      <td>13205</td>\n",
       "    </tr>\n",
       "    <tr>\n",
       "      <th>7</th>\n",
       "      <td>2018</td>\n",
       "      <td>10</td>\n",
       "      <td>1175</td>\n",
       "    </tr>\n",
       "    <tr>\n",
       "      <th>8</th>\n",
       "      <td>2019</td>\n",
       "      <td>3</td>\n",
       "      <td>1597</td>\n",
       "    </tr>\n",
       "    <tr>\n",
       "      <th>9</th>\n",
       "      <td>2019</td>\n",
       "      <td>4</td>\n",
       "      <td>11157</td>\n",
       "    </tr>\n",
       "    <tr>\n",
       "      <th>10</th>\n",
       "      <td>2019</td>\n",
       "      <td>5</td>\n",
       "      <td>11819</td>\n",
       "    </tr>\n",
       "    <tr>\n",
       "      <th>11</th>\n",
       "      <td>2019</td>\n",
       "      <td>6</td>\n",
       "      <td>11587</td>\n",
       "    </tr>\n",
       "    <tr>\n",
       "      <th>12</th>\n",
       "      <td>2019</td>\n",
       "      <td>7</td>\n",
       "      <td>10704</td>\n",
       "    </tr>\n",
       "    <tr>\n",
       "      <th>13</th>\n",
       "      <td>2019</td>\n",
       "      <td>8</td>\n",
       "      <td>12014</td>\n",
       "    </tr>\n",
       "    <tr>\n",
       "      <th>14</th>\n",
       "      <td>2019</td>\n",
       "      <td>9</td>\n",
       "      <td>12864</td>\n",
       "    </tr>\n",
       "    <tr>\n",
       "      <th>15</th>\n",
       "      <td>2019</td>\n",
       "      <td>10</td>\n",
       "      <td>1138</td>\n",
       "    </tr>\n",
       "    <tr>\n",
       "      <th>16</th>\n",
       "      <td>2020</td>\n",
       "      <td>7</td>\n",
       "      <td>3215</td>\n",
       "    </tr>\n",
       "    <tr>\n",
       "      <th>17</th>\n",
       "      <td>2020</td>\n",
       "      <td>8</td>\n",
       "      <td>12121</td>\n",
       "    </tr>\n",
       "    <tr>\n",
       "      <th>18</th>\n",
       "      <td>2020</td>\n",
       "      <td>9</td>\n",
       "      <td>11767</td>\n",
       "    </tr>\n",
       "    <tr>\n",
       "      <th>19</th>\n",
       "      <td>2020</td>\n",
       "      <td>10</td>\n",
       "      <td>1309</td>\n",
       "    </tr>\n",
       "    <tr>\n",
       "      <th>20</th>\n",
       "      <td>2021</td>\n",
       "      <td>4</td>\n",
       "      <td>11093</td>\n",
       "    </tr>\n",
       "    <tr>\n",
       "      <th>21</th>\n",
       "      <td>2021</td>\n",
       "      <td>5</td>\n",
       "      <td>12114</td>\n",
       "    </tr>\n",
       "    <tr>\n",
       "      <th>22</th>\n",
       "      <td>2021</td>\n",
       "      <td>6</td>\n",
       "      <td>11578</td>\n",
       "    </tr>\n",
       "    <tr>\n",
       "      <th>23</th>\n",
       "      <td>2021</td>\n",
       "      <td>7</td>\n",
       "      <td>4929</td>\n",
       "    </tr>\n",
       "  </tbody>\n",
       "</table>\n",
       "</div>"
      ],
      "text/plain": [
       "    year  month  gameday\n",
       "0   2018      3     1155\n",
       "1   2018      4    11043\n",
       "2   2018      5    11906\n",
       "3   2018      6    11483\n",
       "4   2018      7    10905\n",
       "5   2018      8    11887\n",
       "6   2018      9    13205\n",
       "7   2018     10     1175\n",
       "8   2019      3     1597\n",
       "9   2019      4    11157\n",
       "10  2019      5    11819\n",
       "11  2019      6    11587\n",
       "12  2019      7    10704\n",
       "13  2019      8    12014\n",
       "14  2019      9    12864\n",
       "15  2019     10     1138\n",
       "16  2020      7     3215\n",
       "17  2020      8    12121\n",
       "18  2020      9    11767\n",
       "19  2020     10     1309\n",
       "20  2021      4    11093\n",
       "21  2021      5    12114\n",
       "22  2021      6    11578\n",
       "23  2021      7     4929"
      ]
     },
     "execution_count": 8,
     "metadata": {},
     "output_type": "execute_result"
    }
   ],
   "source": [
    "scores_month = scores.groupby(['year', 'month']).sum()['gameday'].reset_index()\n",
    "scores_month"
   ]
  },
  {
   "cell_type": "code",
   "execution_count": 9,
   "id": "097cf089",
   "metadata": {},
   "outputs": [],
   "source": [
    "cm=plt.get_cmap('Blues')\n",
    "cm_interval=[ i / (5 - 1) for i in range(5) ]\n",
    "cm=cm(cm_interval)"
   ]
  },
  {
   "cell_type": "code",
   "execution_count": 11,
   "id": "408e9d1a",
   "metadata": {},
   "outputs": [
    {
     "data": {
      "image/png": "[encoded data removed]",
      "text/plain": [
       "<Figure size 1440x288 with 1 Axes>"
      ]
     },
     "metadata": {
      "needs_background": "light"
     },
     "output_type": "display_data"
    }
   ],
   "source": [
    "plt.rcParams[\"font.size\"] = 18\n",
    "height1 = scores_month[scores_month['year']==2018]['gameday'].values  # 点数1\n",
    "height2 = scores_month[scores_month['year']==2019]['gameday'].values # 点数2\n",
    "height3 = scores_month[scores_month['year']==2020]['gameday'].values \n",
    "height4 = scores_month[scores_month['year']==2021]['gameday'].values  \n",
    "\n",
    "\n",
    "left1 = scores_month[scores_month['year']==2018]['month'].values\n",
    "left2 = scores_month[scores_month['year']==2019]['month'].values\n",
    "left3 = scores_month[scores_month['year']==2020]['month'].values\n",
    "left4 = scores_month[scores_month['year']==2021]['month'].values\n",
    "left = np.arange(12) + 1\n",
    "labels = left.astype(str)\n",
    "\n",
    "width = 0.2\n",
    "plt.figure(figsize=(20, 4))\n",
    "plt.title('count_total_player_to_match ')\n",
    "plt.bar(left1, height1, color=cm[1], width=width, align='center', label='2018')\n",
    "plt.bar(left2+width, height2, color=cm[2], width=width, align='center', label='2019')\n",
    "plt.bar(left3+width*2, height3, color=cm[3], width=width, align='center', label='2020')\n",
    "plt.bar(left4+width*3, height4, color=cm[4], width=width, align='center', label='2021')\n",
    "\n",
    "\n",
    "plt.xticks(left + width*1.5, labels)\n",
    "plt.xlabel('month')\n",
    "plt.ylabel('gamenum')\n",
    "# plt.ylim(0, 0.8)\n",
    "plt.legend(bbox_to_anchor=(1, 1), loc='upper left')\n",
    "plt.show()"
   ]
  },
  {
   "cell_type": "code",
   "execution_count": 50,
   "id": "9cec2a4a",
   "metadata": {},
   "outputs": [
    {
     "data": {
      "text/plain": [
       "[<matplotlib.lines.Line2D at 0x7f2e2663ceb8>]"
      ]
     },
     "execution_count": 50,
     "metadata": {},
     "output_type": "execute_result"
    },
    {
     "data": {
      "image/png": "[encoded data removed]",
      "text/plain": [
       "<Figure size 432x288 with 1 Axes>"
      ]
     },
     "metadata": {
      "needs_background": "light"
     },
     "output_type": "display_data"
    }
   ],
   "source": [
    "df_ = scores_month[scores_month['year']==2018]\n",
    "plt.plot(df_['month'], df_['gameday'])\n",
    "df_ = scores_month[scores_month['year']==2019]\n",
    "plt.plot(df_['month'], df_['gameday'])\n",
    "df_ = scores_month[scores_month['year']==2020]\n",
    "plt.plot(df_['month'], df_['gameday'])\n",
    "df_ = scores_month[scores_month['year']==2021]\n",
    "plt.plot(df_['month'], df_['gameday'])"
   ]
  },
  {
   "cell_type": "code",
   "execution_count": null,
   "id": "6393dee9",
   "metadata": {},
   "outputs": [],
   "source": []
  },
  {
   "cell_type": "code",
   "execution_count": null,
   "id": "ce475822",
   "metadata": {},
   "outputs": [],
   "source": [
    "seasons = seasons.fillna('1970-01-01')\n",
    "for c_ in seasons.columns[1:]:\n",
    "    seasons[c_] = pd.to_datetime(seasons[c_].str.replace('-', '').astype(int), format=\"%Y%m%d\")"
   ]
  },
  {
   "cell_type": "code",
   "execution_count": 17,
   "id": "277fb11b",
   "metadata": {},
   "outputs": [
    {
     "data": {
      "text/plain": [
       "(17619.0, 18747.0)"
      ]
     },
     "execution_count": 17,
     "metadata": {},
     "output_type": "execute_result"
    },
    {
     "data": {
      "image/png": "[encoded data removed]",
      "text/plain": [
       "<Figure size 1080x288 with 1 Axes>"
      ]
     },
     "metadata": {
      "needs_background": "light"
     },
     "output_type": "display_data"
    }
   ],
   "source": [
    "plt.figure(figsize=(15, 4))\n",
    "for i in range(len(seasons)):\n",
    "    plt.axvspan(seasons['preSeasonStartDate'][i], seasons['preSeasonEndDate'][i], color=\"gray\", alpha=0.3)\n",
    "for i in range(len(seasons)):\n",
    "    plt.axvspan(seasons['regularSeasonStartDate'][i], seasons['regularSeasonEndDate'][i], color=\"orange\", alpha=0.3)\n",
    "for i in range(len(seasons)):\n",
    "    plt.axvspan(seasons['postSeasonStartDate'][i], seasons['postSeasonEndDate'][i], color=\"gray\", alpha=0.3)\n",
    "dates = pd.to_datetime(scores['date'], format=\"%Y%m%d\").values\n",
    "plt.scatter(dates, scores['gameday'].values)\n",
    "plt.ylabel('gameday')\n",
    "plt.xlim(np.min(dates), np.max(dates))\n",
    "# plt.legend()\n",
    "# plt.show()"
   ]
  },
  {
   "cell_type": "code",
   "execution_count": 26,
   "id": "de0c6f18",
   "metadata": {},
   "outputs": [
    {
     "data": {
      "text/plain": [
       "[<matplotlib.lines.Line2D at 0x7f73e1a27320>]"
      ]
     },
     "execution_count": 26,
     "metadata": {},
     "output_type": "execute_result"
    },
    {
     "data": {
      "image/png": "[encoded data removed]",
      "text/plain": [
       "<Figure size 432x288 with 1 Axes>"
      ]
     },
     "metadata": {
      "needs_background": "light"
     },
     "output_type": "display_data"
    }
   ],
   "source": [
    "plt.plot(dates)"
   ]
  },
  {
   "cell_type": "code",
   "execution_count": null,
   "id": "68105649",
   "metadata": {},
   "outputs": [],
   "source": []
  }
 ],
 "metadata": {
  "kernelspec": {
   "display_name": "Python 3",
   "language": "python",
   "name": "python3"
  },
  "language_info": {
   "codemirror_mode": {
    "name": "ipython",
    "version": 3
   },
   "file_extension": ".py",
   "mimetype": "text/x-python",
   "name": "python",
   "nbconvert_exporter": "python",
   "pygments_lexer": "ipython3",
   "version": "3.6.13"
  }
 },
 "nbformat": 4,
 "nbformat_minor": 5
}
