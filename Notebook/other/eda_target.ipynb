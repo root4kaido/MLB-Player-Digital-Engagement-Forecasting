{
 "cells": [
  {
   "cell_type": "code",
   "execution_count": 1,
   "id": "80773fd4",
   "metadata": {},
   "outputs": [],
   "source": [
    "import gc\n",
    "import os\n",
    "import sys\n",
    "import math\n",
    "import random\n",
    "import warnings\n",
    "import pickle\n",
    "from pathlib import Path\n",
    "from joblib import Parallel, delayed\n",
    "from statsmodels.tsa.deterministic import (CalendarFourier,\n",
    "                                           CalendarSeasonality,\n",
    "                                           CalendarTimeTrend,\n",
    "                                           DeterministicProcess)\n",
    "\n",
    "from tqdm import tqdm\n",
    "import os\n",
    "import ipywidgets as widgets\n",
    "import matplotlib.pyplot as plt\n",
    "import numpy as np\n",
    "import pandas as pd\n",
    "import seaborn as sns\n",
    "# from pandarallel import pandarallel\n",
    "# pandarallel.initialize()\n",
    "warnings.simplefilter(\"ignore\")\n",
    "import ctypes as ct\n",
    "from datetime import timedelta\n",
    "\n",
    "from sklearn.metrics import mean_absolute_error\n",
    "from sklearn.preprocessing import PowerTransformer\n",
    "\n",
    "import lightgbm as lgbm\n"
   ]
  },
  {
   "cell_type": "code",
   "execution_count": 2,
   "id": "f70ec0f1",
   "metadata": {},
   "outputs": [],
   "source": [
    "sys.path.append('../../')\n",
    "import src.utils as utils"
   ]
  },
  {
   "cell_type": "code",
   "execution_count": 3,
   "id": "aa30fcfa",
   "metadata": {},
   "outputs": [],
   "source": [
    "EXP_NUM = 1"
   ]
  },
  {
   "cell_type": "code",
   "execution_count": 4,
   "id": "3bd9801c",
   "metadata": {},
   "outputs": [],
   "source": [
    "DATA_DIR = Path(\"/home/knikaido/work/MLB-Player-Digital-Engagement-Forecasting/data/\")\n",
    "MAIN_DATA_DIR = DATA_DIR / 'mlb-player-digital-engagement-forecasting-update'\n",
    "TRAIN_DIR = MAIN_DATA_DIR / 'train'\n",
    "OUTPUT_DIR = Path('./output/')"
   ]
  },
  {
   "cell_type": "code",
   "execution_count": 5,
   "id": "250263e2",
   "metadata": {},
   "outputs": [],
   "source": [
    "players = pd.read_csv(MAIN_DATA_DIR / 'players.csv')\n",
    "\n",
    "rosters = pd.read_csv(TRAIN_DIR / 'rosters_train.csv')\n",
    "targets = pd.read_csv(TRAIN_DIR / 'nextDayPlayerEngagement_train.csv')\n",
    "scores = pd.read_csv(TRAIN_DIR / 'playerBoxScores_train.csv')\n",
    "scores = scores.groupby(['playerId', 'date']).sum().reset_index()\n",
    "seasons = pd.read_csv(MAIN_DATA_DIR / 'seasons.csv')\n",
    "twitters = pd.read_csv(TRAIN_DIR / 'playerTwitterFollowers_train.csv')\n",
    "transactions = pd.read_csv(TRAIN_DIR / 'transactions_train.csv')\n",
    "awards = pd.read_csv(TRAIN_DIR / 'awards_train.csv')\n"
   ]
  },
  {
   "cell_type": "code",
   "execution_count": 6,
   "id": "a158edf3",
   "metadata": {},
   "outputs": [],
   "source": [
    "seasons = seasons.fillna('1970-01-01')\n",
    "for c_ in seasons.columns[1:]:\n",
    "    seasons[c_] = pd.to_datetime(seasons[c_].str.replace('-', '').astype(int), format=\"%Y%m%d\")"
   ]
  },
  {
   "cell_type": "code",
   "execution_count": 7,
   "id": "b9ae51cd",
   "metadata": {},
   "outputs": [],
   "source": [
    "targets = targets.merge(scores, on=['playerId', 'date'], how='left')"
   ]
  },
  {
   "cell_type": "code",
   "execution_count": 81,
   "id": "e7e04b2e",
   "metadata": {},
   "outputs": [],
   "source": [
    "def extract_season(date_raw, season_start_end):\n",
    "    idxes = 0\n",
    "    for raw in season_start_end.iloc():\n",
    "        idx_ = ((date_raw >= raw.iloc[0]) & (date_raw <= raw.iloc[1])) * 1\n",
    "        idxes += idx_\n",
    "    return idxes"
   ]
  },
  {
   "cell_type": "code",
   "execution_count": 82,
   "id": "5030b127",
   "metadata": {},
   "outputs": [
    {
     "data": {
      "text/html": [
       "<div>\n",
       "<style scoped>\n",
       "    .dataframe tbody tr th:only-of-type {\n",
       "        vertical-align: middle;\n",
       "    }\n",
       "\n",
       "    .dataframe tbody tr th {\n",
       "        vertical-align: top;\n",
       "    }\n",
       "\n",
       "    .dataframe thead th {\n",
       "        text-align: right;\n",
       "    }\n",
       "</style>\n",
       "<table border=\"1\" class=\"dataframe\">\n",
       "  <thead>\n",
       "    <tr style=\"text-align: right;\">\n",
       "      <th></th>\n",
       "      <th>seasonStartDate</th>\n",
       "      <th>seasonEndDate</th>\n",
       "    </tr>\n",
       "  </thead>\n",
       "  <tbody>\n",
       "    <tr>\n",
       "      <th>0</th>\n",
       "      <td>2017-04-02</td>\n",
       "      <td>2017-11-01</td>\n",
       "    </tr>\n",
       "    <tr>\n",
       "      <th>1</th>\n",
       "      <td>2018-03-29</td>\n",
       "      <td>2018-10-28</td>\n",
       "    </tr>\n",
       "    <tr>\n",
       "      <th>2</th>\n",
       "      <td>2019-03-20</td>\n",
       "      <td>2019-10-30</td>\n",
       "    </tr>\n",
       "    <tr>\n",
       "      <th>3</th>\n",
       "      <td>2020-07-23</td>\n",
       "      <td>2020-10-28</td>\n",
       "    </tr>\n",
       "    <tr>\n",
       "      <th>4</th>\n",
       "      <td>2021-02-28</td>\n",
       "      <td>2021-10-31</td>\n",
       "    </tr>\n",
       "  </tbody>\n",
       "</table>\n",
       "</div>"
      ],
      "text/plain": [
       "  seasonStartDate seasonEndDate\n",
       "0      2017-04-02    2017-11-01\n",
       "1      2018-03-29    2018-10-28\n",
       "2      2019-03-20    2019-10-30\n",
       "3      2020-07-23    2020-10-28\n",
       "4      2021-02-28    2021-10-31"
      ]
     },
     "execution_count": 82,
     "metadata": {},
     "output_type": "execute_result"
    }
   ],
   "source": [
    "seasons[['seasonStartDate', 'seasonEndDate']]"
   ]
  },
  {
   "cell_type": "code",
   "execution_count": 83,
   "id": "fc277437",
   "metadata": {},
   "outputs": [],
   "source": [
    "## only on season\n",
    "on_whole_idxes = extract_season(pd.to_datetime(targets['date'], format=\"%Y%m%d\"), seasons[['seasonStartDate', 'seasonEndDate']])\n",
    "targets = targets[on_whole_idxes == 1].reset_index(drop=True)"
   ]
  },
  {
   "cell_type": "code",
   "execution_count": 84,
   "id": "affa2b07",
   "metadata": {},
   "outputs": [],
   "source": [
    "targets['gameday'] = ~targets['battingOrder'].isna()*1"
   ]
  },
  {
   "cell_type": "code",
   "execution_count": 85,
   "id": "8007e343",
   "metadata": {},
   "outputs": [
    {
     "data": {
      "text/plain": [
       "<AxesSubplot:xlabel='gameday', ylabel='target1'>"
      ]
     },
     "execution_count": 85,
     "metadata": {},
     "output_type": "execute_result"
    },
    {
     "data": {
      "image/png": "[encoded data removed]",
      "text/plain": [
       "<Figure size 432x288 with 1 Axes>"
      ]
     },
     "metadata": {
      "needs_background": "light"
     },
     "output_type": "display_data"
    }
   ],
   "source": [
    "sns.stripplot(x=\"gameday\", y=\"target1\", data=targets)"
   ]
  },
  {
   "cell_type": "code",
   "execution_count": 86,
   "id": "6cb47041",
   "metadata": {},
   "outputs": [
    {
     "data": {
      "text/plain": [
       "(0.0, 20.0)"
      ]
     },
     "execution_count": 86,
     "metadata": {},
     "output_type": "execute_result"
    },
    {
     "data": {
      "image/png": "[encoded data removed]",
      "text/plain": [
       "<Figure size 1440x288 with 1 Axes>"
      ]
     },
     "metadata": {
      "needs_background": "light"
     },
     "output_type": "display_data"
    }
   ],
   "source": [
    "plt.figure(figsize=(20, 4))\n",
    "sns.distplot(targets[targets['gameday']==1]['target1'])\n",
    "sns.distplot(targets[targets['gameday']==0]['target1'])\n",
    "plt.xlim((0, 20))"
   ]
  },
  {
   "cell_type": "code",
   "execution_count": 87,
   "id": "3c20dae7",
   "metadata": {},
   "outputs": [
    {
     "data": {
      "image/png": "[encoded data removed]",
      "text/plain": [
       "<Figure size 432x288 with 1 Axes>"
      ]
     },
     "metadata": {
      "needs_background": "light"
     },
     "output_type": "display_data"
    },
    {
     "data": {
      "text/html": [
       "<div>\n",
       "<style scoped>\n",
       "    .dataframe tbody tr th:only-of-type {\n",
       "        vertical-align: middle;\n",
       "    }\n",
       "\n",
       "    .dataframe tbody tr th {\n",
       "        vertical-align: top;\n",
       "    }\n",
       "\n",
       "    .dataframe thead th {\n",
       "        text-align: right;\n",
       "    }\n",
       "</style>\n",
       "<table border=\"1\" class=\"dataframe\">\n",
       "  <thead>\n",
       "    <tr style=\"text-align: right;\">\n",
       "      <th></th>\n",
       "      <th>count</th>\n",
       "      <th>mean</th>\n",
       "      <th>std</th>\n",
       "      <th>min</th>\n",
       "      <th>25%</th>\n",
       "      <th>50%</th>\n",
       "      <th>75%</th>\n",
       "      <th>max</th>\n",
       "    </tr>\n",
       "  </thead>\n",
       "  <tbody>\n",
       "    <tr>\n",
       "      <th>target1</th>\n",
       "      <td>210469.0</td>\n",
       "      <td>3.295807</td>\n",
       "      <td>9.904067</td>\n",
       "      <td>0.0</td>\n",
       "      <td>0.011606</td>\n",
       "      <td>0.299571</td>\n",
       "      <td>1.996912</td>\n",
       "      <td>100.0</td>\n",
       "    </tr>\n",
       "  </tbody>\n",
       "</table>\n",
       "</div>"
      ],
      "text/plain": [
       "            count      mean       std  min       25%       50%       75%  \\\n",
       "target1  210469.0  3.295807  9.904067  0.0  0.011606  0.299571  1.996912   \n",
       "\n",
       "           max  \n",
       "target1  100.0  "
      ]
     },
     "execution_count": 87,
     "metadata": {},
     "output_type": "execute_result"
    }
   ],
   "source": [
    "plt.hist(targets[targets['gameday'] == 1]['target1'], bins=500)\n",
    "plt.show()\n",
    "pd.DataFrame(targets[targets['gameday'] == 1]['target1']).describe().T"
   ]
  },
  {
   "cell_type": "code",
   "execution_count": 88,
   "id": "fbdb2d23",
   "metadata": {},
   "outputs": [
    {
     "data": {
      "image/png": "[encoded data removed]",
      "text/plain": [
       "<Figure size 432x288 with 1 Axes>"
      ]
     },
     "metadata": {
      "needs_background": "light"
     },
     "output_type": "display_data"
    },
    {
     "data": {
      "text/html": [
       "<div>\n",
       "<style scoped>\n",
       "    .dataframe tbody tr th:only-of-type {\n",
       "        vertical-align: middle;\n",
       "    }\n",
       "\n",
       "    .dataframe tbody tr th {\n",
       "        vertical-align: top;\n",
       "    }\n",
       "\n",
       "    .dataframe thead th {\n",
       "        text-align: right;\n",
       "    }\n",
       "</style>\n",
       "<table border=\"1\" class=\"dataframe\">\n",
       "  <thead>\n",
       "    <tr style=\"text-align: right;\">\n",
       "      <th></th>\n",
       "      <th>count</th>\n",
       "      <th>mean</th>\n",
       "      <th>std</th>\n",
       "      <th>min</th>\n",
       "      <th>25%</th>\n",
       "      <th>50%</th>\n",
       "      <th>75%</th>\n",
       "      <th>max</th>\n",
       "    </tr>\n",
       "  </thead>\n",
       "  <tbody>\n",
       "    <tr>\n",
       "      <th>target1</th>\n",
       "      <td>1184828.0</td>\n",
       "      <td>0.24547</td>\n",
       "      <td>2.46513</td>\n",
       "      <td>0.0</td>\n",
       "      <td>0.0</td>\n",
       "      <td>0.000353</td>\n",
       "      <td>0.00425</td>\n",
       "      <td>100.0</td>\n",
       "    </tr>\n",
       "  </tbody>\n",
       "</table>\n",
       "</div>"
      ],
      "text/plain": [
       "             count     mean      std  min  25%       50%      75%    max\n",
       "target1  1184828.0  0.24547  2.46513  0.0  0.0  0.000353  0.00425  100.0"
      ]
     },
     "execution_count": 88,
     "metadata": {},
     "output_type": "execute_result"
    }
   ],
   "source": [
    "plt.hist(targets[targets['gameday'] == 0]['target1'], bins=500)\n",
    "plt.show()\n",
    "pd.DataFrame(targets[targets['gameday'] == 0]['target1']).describe().T"
   ]
  },
  {
   "cell_type": "code",
   "execution_count": null,
   "id": "d8565450",
   "metadata": {},
   "outputs": [],
   "source": []
  },
  {
   "cell_type": "code",
   "execution_count": 150,
   "id": "f3b82afe",
   "metadata": {},
   "outputs": [],
   "source": [
    "targets = pd.read_csv(TRAIN_DIR / 'nextDayPlayerEngagement_train.csv')"
   ]
  },
  {
   "cell_type": "code",
   "execution_count": 151,
   "id": "87c70034",
   "metadata": {},
   "outputs": [],
   "source": [
    "# on_whole_idxes = extract_season(pd.to_datetime(targets['date'], format=\"%Y%m%d\"), seasons[['seasonStartDate', 'seasonEndDate']])\n",
    "# targets = targets[on_whole_idxes == 1].reset_index(drop=True)"
   ]
  },
  {
   "cell_type": "code",
   "execution_count": 152,
   "id": "bfe0df88",
   "metadata": {},
   "outputs": [],
   "source": [
    "targets = targets[(targets['date']<20190601) & (targets['date']>=20190501)]"
   ]
  },
  {
   "cell_type": "code",
   "execution_count": 153,
   "id": "96d12a66",
   "metadata": {},
   "outputs": [],
   "source": [
    "dates = targets['date'].unique()"
   ]
  },
  {
   "cell_type": "code",
   "execution_count": 154,
   "id": "2013c617",
   "metadata": {},
   "outputs": [
    {
     "name": "stderr",
     "output_type": "stream",
     "text": [
      "100%|██████████| 31/31 [00:00<00:00, 966.26it/s]\n"
     ]
    }
   ],
   "source": [
    "t1_means = []\n",
    "t2_means = []\n",
    "t3_means = []\n",
    "t4_means = []\n",
    "\n",
    "for d_ in tqdm(dates):\n",
    "    t_oneday = targets[targets['date'] == d_]\n",
    "    t1_means.append(np.mean(t_oneday['target1']))\n",
    "    t2_means.append(np.mean(t_oneday['target2']))\n",
    "    t3_means.append(np.mean(t_oneday['target3']))\n",
    "    t4_means.append(np.mean(t_oneday['target4']))"
   ]
  },
  {
   "cell_type": "code",
   "execution_count": 155,
   "id": "8de3f1e2",
   "metadata": {},
   "outputs": [
    {
     "data": {
      "image/png": "[encoded data removed]",
      "text/plain": [
       "<Figure size 432x288 with 1 Axes>"
      ]
     },
     "metadata": {
      "needs_background": "light"
     },
     "output_type": "display_data"
    },
    {
     "data": {
      "text/html": [
       "<div>\n",
       "<style scoped>\n",
       "    .dataframe tbody tr th:only-of-type {\n",
       "        vertical-align: middle;\n",
       "    }\n",
       "\n",
       "    .dataframe tbody tr th {\n",
       "        vertical-align: top;\n",
       "    }\n",
       "\n",
       "    .dataframe thead th {\n",
       "        text-align: right;\n",
       "    }\n",
       "</style>\n",
       "<table border=\"1\" class=\"dataframe\">\n",
       "  <thead>\n",
       "    <tr style=\"text-align: right;\">\n",
       "      <th></th>\n",
       "      <th>count</th>\n",
       "      <th>mean</th>\n",
       "      <th>std</th>\n",
       "      <th>min</th>\n",
       "      <th>25%</th>\n",
       "      <th>50%</th>\n",
       "      <th>75%</th>\n",
       "      <th>max</th>\n",
       "    </tr>\n",
       "  </thead>\n",
       "  <tbody>\n",
       "    <tr>\n",
       "      <th>0</th>\n",
       "      <td>31.0</td>\n",
       "      <td>0.801237</td>\n",
       "      <td>0.196984</td>\n",
       "      <td>0.452984</td>\n",
       "      <td>0.669433</td>\n",
       "      <td>0.775035</td>\n",
       "      <td>0.913763</td>\n",
       "      <td>1.309244</td>\n",
       "    </tr>\n",
       "  </tbody>\n",
       "</table>\n",
       "</div>"
      ],
      "text/plain": [
       "   count      mean       std       min       25%       50%       75%       max\n",
       "0   31.0  0.801237  0.196984  0.452984  0.669433  0.775035  0.913763  1.309244"
      ]
     },
     "execution_count": 155,
     "metadata": {},
     "output_type": "execute_result"
    }
   ],
   "source": [
    "plt.hist(t1_means, bins=10)\n",
    "plt.show()\n",
    "pd.DataFrame(t1_means).describe().T"
   ]
  },
  {
   "cell_type": "code",
   "execution_count": 156,
   "id": "799e1158",
   "metadata": {},
   "outputs": [
    {
     "data": {
      "image/png": "[encoded data removed]",
      "text/plain": [
       "<Figure size 432x288 with 1 Axes>"
      ]
     },
     "metadata": {
      "needs_background": "light"
     },
     "output_type": "display_data"
    },
    {
     "data": {
      "text/html": [
       "<div>\n",
       "<style scoped>\n",
       "    .dataframe tbody tr th:only-of-type {\n",
       "        vertical-align: middle;\n",
       "    }\n",
       "\n",
       "    .dataframe tbody tr th {\n",
       "        vertical-align: top;\n",
       "    }\n",
       "\n",
       "    .dataframe thead th {\n",
       "        text-align: right;\n",
       "    }\n",
       "</style>\n",
       "<table border=\"1\" class=\"dataframe\">\n",
       "  <thead>\n",
       "    <tr style=\"text-align: right;\">\n",
       "      <th></th>\n",
       "      <th>count</th>\n",
       "      <th>mean</th>\n",
       "      <th>std</th>\n",
       "      <th>min</th>\n",
       "      <th>25%</th>\n",
       "      <th>50%</th>\n",
       "      <th>75%</th>\n",
       "      <th>max</th>\n",
       "    </tr>\n",
       "  </thead>\n",
       "  <tbody>\n",
       "    <tr>\n",
       "      <th>0</th>\n",
       "      <td>31.0</td>\n",
       "      <td>2.64356</td>\n",
       "      <td>0.593734</td>\n",
       "      <td>1.184992</td>\n",
       "      <td>2.321237</td>\n",
       "      <td>2.708276</td>\n",
       "      <td>3.036913</td>\n",
       "      <td>4.026789</td>\n",
       "    </tr>\n",
       "  </tbody>\n",
       "</table>\n",
       "</div>"
      ],
      "text/plain": [
       "   count     mean       std       min       25%       50%       75%       max\n",
       "0   31.0  2.64356  0.593734  1.184992  2.321237  2.708276  3.036913  4.026789"
      ]
     },
     "execution_count": 156,
     "metadata": {},
     "output_type": "execute_result"
    }
   ],
   "source": [
    "plt.hist(t2_means, bins=10)\n",
    "plt.show()\n",
    "pd.DataFrame(t2_means).describe().T"
   ]
  },
  {
   "cell_type": "code",
   "execution_count": 157,
   "id": "ec7603a0",
   "metadata": {},
   "outputs": [
    {
     "data": {
      "image/png": "[encoded data removed]",
      "text/plain": [
       "<Figure size 432x288 with 1 Axes>"
      ]
     },
     "metadata": {
      "needs_background": "light"
     },
     "output_type": "display_data"
    },
    {
     "data": {
      "text/html": [
       "<div>\n",
       "<style scoped>\n",
       "    .dataframe tbody tr th:only-of-type {\n",
       "        vertical-align: middle;\n",
       "    }\n",
       "\n",
       "    .dataframe tbody tr th {\n",
       "        vertical-align: top;\n",
       "    }\n",
       "\n",
       "    .dataframe thead th {\n",
       "        text-align: right;\n",
       "    }\n",
       "</style>\n",
       "<table border=\"1\" class=\"dataframe\">\n",
       "  <thead>\n",
       "    <tr style=\"text-align: right;\">\n",
       "      <th></th>\n",
       "      <th>count</th>\n",
       "      <th>mean</th>\n",
       "      <th>std</th>\n",
       "      <th>min</th>\n",
       "      <th>25%</th>\n",
       "      <th>50%</th>\n",
       "      <th>75%</th>\n",
       "      <th>max</th>\n",
       "    </tr>\n",
       "  </thead>\n",
       "  <tbody>\n",
       "    <tr>\n",
       "      <th>0</th>\n",
       "      <td>31.0</td>\n",
       "      <td>0.881561</td>\n",
       "      <td>0.226045</td>\n",
       "      <td>0.434057</td>\n",
       "      <td>0.676967</td>\n",
       "      <td>0.931523</td>\n",
       "      <td>1.013447</td>\n",
       "      <td>1.4235</td>\n",
       "    </tr>\n",
       "  </tbody>\n",
       "</table>\n",
       "</div>"
      ],
      "text/plain": [
       "   count      mean       std       min       25%       50%       75%     max\n",
       "0   31.0  0.881561  0.226045  0.434057  0.676967  0.931523  1.013447  1.4235"
      ]
     },
     "execution_count": 157,
     "metadata": {},
     "output_type": "execute_result"
    }
   ],
   "source": [
    "plt.hist(t3_means, bins=10)\n",
    "plt.show()\n",
    "pd.DataFrame(t3_means).describe().T"
   ]
  },
  {
   "cell_type": "code",
   "execution_count": 158,
   "id": "072bc9ba",
   "metadata": {},
   "outputs": [
    {
     "data": {
      "image/png": "[encoded data removed]",
      "text/plain": [
       "<Figure size 432x288 with 1 Axes>"
      ]
     },
     "metadata": {
      "needs_background": "light"
     },
     "output_type": "display_data"
    },
    {
     "data": {
      "text/html": [
       "<div>\n",
       "<style scoped>\n",
       "    .dataframe tbody tr th:only-of-type {\n",
       "        vertical-align: middle;\n",
       "    }\n",
       "\n",
       "    .dataframe tbody tr th {\n",
       "        vertical-align: top;\n",
       "    }\n",
       "\n",
       "    .dataframe thead th {\n",
       "        text-align: right;\n",
       "    }\n",
       "</style>\n",
       "<table border=\"1\" class=\"dataframe\">\n",
       "  <thead>\n",
       "    <tr style=\"text-align: right;\">\n",
       "      <th></th>\n",
       "      <th>count</th>\n",
       "      <th>mean</th>\n",
       "      <th>std</th>\n",
       "      <th>min</th>\n",
       "      <th>25%</th>\n",
       "      <th>50%</th>\n",
       "      <th>75%</th>\n",
       "      <th>max</th>\n",
       "    </tr>\n",
       "  </thead>\n",
       "  <tbody>\n",
       "    <tr>\n",
       "      <th>0</th>\n",
       "      <td>31.0</td>\n",
       "      <td>1.465142</td>\n",
       "      <td>0.677644</td>\n",
       "      <td>0.347888</td>\n",
       "      <td>0.905231</td>\n",
       "      <td>1.344598</td>\n",
       "      <td>1.942522</td>\n",
       "      <td>2.981543</td>\n",
       "    </tr>\n",
       "  </tbody>\n",
       "</table>\n",
       "</div>"
      ],
      "text/plain": [
       "   count      mean       std       min       25%       50%       75%       max\n",
       "0   31.0  1.465142  0.677644  0.347888  0.905231  1.344598  1.942522  2.981543"
      ]
     },
     "execution_count": 158,
     "metadata": {},
     "output_type": "execute_result"
    }
   ],
   "source": [
    "plt.hist(t4_means, bins=10)\n",
    "plt.show()\n",
    "pd.DataFrame(t4_means).describe().T"
   ]
  },
  {
   "cell_type": "code",
   "execution_count": null,
   "id": "a4d3f854",
   "metadata": {},
   "outputs": [],
   "source": []
  },
  {
   "cell_type": "code",
   "execution_count": null,
   "id": "ba71aff4",
   "metadata": {},
   "outputs": [],
   "source": []
  },
  {
   "cell_type": "code",
   "execution_count": 229,
   "id": "f12f9265",
   "metadata": {},
   "outputs": [],
   "source": [
    "targets = pd.read_csv(TRAIN_DIR / 'nextDayPlayerEngagement_train.csv')\n",
    "targets = pd.merge(targets, players, how='left', on='playerId')"
   ]
  },
  {
   "cell_type": "code",
   "execution_count": 230,
   "id": "92070523",
   "metadata": {},
   "outputs": [],
   "source": [
    "player_ids = targets[targets['playerForTestSetAndFuturePreds']!=False]['playerId'].unique()"
   ]
  },
  {
   "cell_type": "code",
   "execution_count": 232,
   "id": "c128d47e",
   "metadata": {},
   "outputs": [
    {
     "name": "stdout",
     "output_type": "stream",
     "text": [
      "id=543507, name=Trevor May\n"
     ]
    },
    {
     "data": {
      "image/png": "[encoded data removed]",
      "text/plain": [
       "<Figure size 1440x576 with 4 Axes>"
      ]
     },
     "metadata": {
      "needs_background": "light"
     },
     "output_type": "display_data"
    }
   ],
   "source": [
    "\n",
    "id_ = player_ids[np.random.randint(len(player_ids))]\n",
    "# id_ = player_ids[10]\n",
    "# id_ = 666201\n",
    "target_oneplayer = targets[(targets['playerId'] == id_)]\n",
    "name = players[players['playerId'] == id_]['playerName']\n",
    "print(f'id={id_}, name={name.values[0]}')\n",
    "\n",
    "fig, ax = plt.subplots(2, 2, figsize=(20, 8))\n",
    "fig.suptitle(f'id={id_}, name={name.values[0]}')\n",
    "for i in range(len(seasons)):\n",
    "    ax[0][0].axvspan(seasons['preSeasonStartDate'][i], seasons['preSeasonEndDate'][i], color=\"gray\", alpha=0.3)\n",
    "for i in range(len(seasons)):\n",
    "    ax[0][0].axvspan(seasons['regularSeasonStartDate'][i], seasons['regularSeasonEndDate'][i], color=\"orange\", alpha=0.3)\n",
    "for i in range(len(seasons)):\n",
    "    ax[0][0].axvspan(seasons['postSeasonStartDate'][i], seasons['postSeasonEndDate'][i], color=\"gray\", alpha=0.3)\n",
    "dates = pd.to_datetime(target_oneplayer['date'], format=\"%Y%m%d\").values\n",
    "ax[0][0].plot(dates, target_oneplayer['target1'].values)\n",
    "ax[0][0].set_xlim(np.min(dates), np.max(dates))\n",
    "ax[0][0].set_title('target1', fontsize=13)\n",
    "ax[0][0].set_aspect(aspect='auto')\n",
    "\n",
    "for i in range(len(seasons)):\n",
    "    ax[0][1].axvspan(seasons['preSeasonStartDate'][i], seasons['preSeasonEndDate'][i], color=\"gray\", alpha=0.3)\n",
    "for i in range(len(seasons)):\n",
    "    ax[0][1].axvspan(seasons['regularSeasonStartDate'][i], seasons['regularSeasonEndDate'][i], color=\"orange\", alpha=0.3)\n",
    "for i in range(len(seasons)):\n",
    "    ax[0][1].axvspan(seasons['postSeasonStartDate'][i], seasons['postSeasonEndDate'][i], color=\"gray\", alpha=0.3)\n",
    "dates = pd.to_datetime(target_oneplayer['date'], format=\"%Y%m%d\").values\n",
    "ax[0][1].plot(dates, target_oneplayer['target2'].values)\n",
    "ax[0][1].set_xlim(np.min(dates), np.max(dates))\n",
    "ax[0][1].set_title('target2', fontsize=13)\n",
    "ax[0][1].set_aspect(aspect='auto')\n",
    "\n",
    "for i in range(len(seasons)):\n",
    "    ax[1][0].axvspan(seasons['preSeasonStartDate'][i], seasons['preSeasonEndDate'][i], color=\"gray\", alpha=0.3)\n",
    "for i in range(len(seasons)):\n",
    "    ax[1][0].axvspan(seasons['regularSeasonStartDate'][i], seasons['regularSeasonEndDate'][i], color=\"orange\", alpha=0.3)\n",
    "for i in range(len(seasons)):\n",
    "    ax[1][0].axvspan(seasons['postSeasonStartDate'][i], seasons['postSeasonEndDate'][i], color=\"gray\", alpha=0.3)\n",
    "dates = pd.to_datetime(target_oneplayer['date'], format=\"%Y%m%d\").values\n",
    "ax[1][0].plot(dates, target_oneplayer['target3'].values)\n",
    "ax[1][0].set_xlim(np.min(dates), np.max(dates))\n",
    "ax[1][0].set_title('target3', fontsize=13)\n",
    "ax[1][0].set_aspect(aspect='auto')\n",
    "\n",
    "for i in range(len(seasons)):\n",
    "    ax[1][1].axvspan(seasons['preSeasonStartDate'][i], seasons['preSeasonEndDate'][i], color=\"gray\", alpha=0.3)\n",
    "for i in range(len(seasons)):\n",
    "    ax[1][1].axvspan(seasons['regularSeasonStartDate'][i], seasons['regularSeasonEndDate'][i], color=\"orange\", alpha=0.3)\n",
    "for i in range(len(seasons)):\n",
    "    ax[1][1].axvspan(seasons['postSeasonStartDate'][i], seasons['postSeasonEndDate'][i], color=\"gray\", alpha=0.3)\n",
    "dates = pd.to_datetime(target_oneplayer['date'], format=\"%Y%m%d\").values\n",
    "ax[1][1].plot(dates, target_oneplayer['target4'].values)\n",
    "ax[1][1].set_xlim(np.min(dates), np.max(dates))\n",
    "ax[1][1].set_title('target4', fontsize=13)\n",
    "ax[1][1].set_aspect(aspect='auto')\n",
    "\n",
    "# plt.show()"
   ]
  },
  {
   "cell_type": "code",
   "execution_count": 172,
   "id": "4789ebf7",
   "metadata": {},
   "outputs": [
    {
     "data": {
      "image/png": "[encoded data removed]",
      "text/plain": [
       "<Figure size 1440x576 with 4 Axes>"
      ]
     },
     "metadata": {
      "needs_background": "light"
     },
     "output_type": "display_data"
    }
   ],
   "source": [
    "fig, ax = plt.subplots(2, 2, figsize=(20, 8))\n",
    "fig.suptitle(f'id={id_}, name={name.values[0]}')\n",
    "fft_ = np.fft.fft(target_oneplayer['target1'].values)\n",
    "fft_abs = np.abs(fft_)\n",
    "ax[0][0].plot(fft_abs[:int(len(fft_abs)/2)])\n",
    "ax[0][0].set_title('target1', fontsize=13)\n",
    "ax[0][0].set_aspect(aspect='auto')\n",
    "\n",
    "fft_ = np.fft.fft(target_oneplayer['target2'].values)\n",
    "fft_abs = np.abs(fft_)\n",
    "ax[0][1].plot(fft_abs[:int(len(fft_abs)/2)])\n",
    "ax[0][1].set_title('target2', fontsize=13)\n",
    "ax[0][1].set_aspect(aspect='auto')\n",
    "\n",
    "fft_ = np.fft.fft(target_oneplayer['target3'].values)\n",
    "fft_abs = np.abs(fft_)\n",
    "ax[1][0].plot(fft_abs[:int(len(fft_abs)/2)])\n",
    "ax[1][0].set_title('target3', fontsize=13)\n",
    "ax[1][0].set_aspect(aspect='auto')\n",
    "\n",
    "fft_ = np.fft.fft(target_oneplayer['target4'].values)\n",
    "fft_abs = np.abs(fft_)\n",
    "ax[1][1].plot(fft_abs[:int(len(fft_abs)/2)])\n",
    "ax[1][1].set_title('target4', fontsize=13)\n",
    "ax[1][1].set_aspect(aspect='auto')"
   ]
  },
  {
   "cell_type": "markdown",
   "id": "e7f3af17",
   "metadata": {},
   "source": [
    "## target1, 3は0の区間が多い気がする"
   ]
  },
  {
   "cell_type": "code",
   "execution_count": 8,
   "id": "22a98e3f",
   "metadata": {},
   "outputs": [],
   "source": [
    "targets = pd.read_csv(TRAIN_DIR / 'nextDayPlayerEngagement_train.csv')"
   ]
  },
  {
   "cell_type": "code",
   "execution_count": 9,
   "id": "8d665ea2",
   "metadata": {},
   "outputs": [],
   "source": [
    "date_ids = targets['date'].unique()"
   ]
  },
  {
   "cell_type": "code",
   "execution_count": 10,
   "id": "31f69ce3",
   "metadata": {},
   "outputs": [
    {
     "name": "stderr",
     "output_type": "stream",
     "text": [
      "100%|██████████| 1294/1294 [00:02<00:00, 450.06it/s]\n"
     ]
    }
   ],
   "source": [
    "max_score = []\n",
    "for id_ in tqdm(date_ids):\n",
    "    targets_onedate = targets[targets['date'] == id_]\n",
    "    max_score.append([np.max(targets_onedate['target1']), np.max(targets_onedate['target2']), np.max(targets_onedate['target3']), np.max(targets_onedate['target4'])])"
   ]
  },
  {
   "cell_type": "code",
   "execution_count": 11,
   "id": "7d6b47b7",
   "metadata": {},
   "outputs": [
    {
     "data": {
      "text/plain": [
       "(array([100.]),\n",
       " array([100.]),\n",
       " array([100.        ,  99.26011634,  99.16863879]),\n",
       " array([100.]))"
      ]
     },
     "execution_count": 11,
     "metadata": {},
     "output_type": "execute_result"
    }
   ],
   "source": [
    "max_df = pd.DataFrame(max_score, columns=['target1', 'target2', 'target3', 'target4'])\n",
    "max_df['target1'].unique(), max_df['target2'].unique(), max_df['target3'].unique(), max_df['target4'].unique()"
   ]
  },
  {
   "cell_type": "code",
   "execution_count": null,
   "id": "7ad42438",
   "metadata": {},
   "outputs": [],
   "source": []
  },
  {
   "cell_type": "code",
   "execution_count": 202,
   "id": "e16c9795",
   "metadata": {},
   "outputs": [],
   "source": [
    "player_ids = targets['playerId'].unique()"
   ]
  },
  {
   "cell_type": "code",
   "execution_count": 254,
   "id": "eb4345a5",
   "metadata": {},
   "outputs": [
    {
     "name": "stderr",
     "output_type": "stream",
     "text": [
      "100%|██████████| 1216/1216 [00:18<00:00, 66.06it/s]\n"
     ]
    }
   ],
   "source": [
    "scales = []\n",
    "for id_ in tqdm(date_ids):\n",
    "    t1_nonzero = targets[(targets['date'] == id_) & (targets['target1'] > 0)]['target1']\n",
    "    if len(t1_nonzero) == 0:\n",
    "        t1 = 0\n",
    "    else:\n",
    "        t1 = 1 / t1_nonzero.sort_values().values[0]\n",
    "        \n",
    "    t2_nonzero = targets[(targets['date'] == id_) & (targets['target2'] > 0)]['target2']\n",
    "    if len(t2_nonzero) == 0:\n",
    "        t2 = 0\n",
    "    else:\n",
    "        t2 = 1 / t2_nonzero.sort_values().values[0]\n",
    "        \n",
    "    t3_nonzero = targets[(targets['date'] == id_) & (targets['target3'] > 0)]['target3']\n",
    "    if len(t3_nonzero) == 0:\n",
    "        t3 = 0\n",
    "    else:\n",
    "        t3 = 1 / t3_nonzero.sort_values().values[0]\n",
    "\n",
    "    t4_nonzero = targets[(targets['date'] == id_) & (targets['target4'] > 0)]['target4']\n",
    "    if len(t4_nonzero) == 0:\n",
    "        t4 = 0\n",
    "    else:\n",
    "        t4 = 1 / t4_nonzero.sort_values().values[0]\n",
    "\n",
    "    scales.append([id_, t1, t2, t3, t4])"
   ]
  },
  {
   "cell_type": "code",
   "execution_count": 255,
   "id": "9a69953b",
   "metadata": {},
   "outputs": [],
   "source": [
    "scales_df = pd.DataFrame(scales, columns=['date', 'target1_scale', 'target2_scale', 'target3_scale', 'target4_scale'])"
   ]
  },
  {
   "cell_type": "code",
   "execution_count": 256,
   "id": "c84bf365",
   "metadata": {},
   "outputs": [],
   "source": [
    "scales_df.to_csv(MAIN_DATA_DIR / 'scales.csv', index=False)"
   ]
  },
  {
   "cell_type": "code",
   "execution_count": 220,
   "id": "79e0db6b",
   "metadata": {},
   "outputs": [],
   "source": [
    "targets = pd.read_csv(TRAIN_DIR / 'nextDayPlayerEngagement_train.csv')"
   ]
  },
  {
   "cell_type": "code",
   "execution_count": 221,
   "id": "053a82fb",
   "metadata": {},
   "outputs": [],
   "source": [
    "targets = pd.merge(targets, scales_df, how='left', on='playerId')"
   ]
  },
  {
   "cell_type": "code",
   "execution_count": 222,
   "id": "afa70219",
   "metadata": {},
   "outputs": [],
   "source": [
    "s_ = targets[['target1_scale', 'target2_scale', 'target3_scale', 'target4_scale']].values\n",
    "t_ = targets[['target1', 'target2', 'target3', 'target4']].values"
   ]
  },
  {
   "cell_type": "code",
   "execution_count": null,
   "id": "3795b266",
   "metadata": {},
   "outputs": [],
   "source": []
  },
  {
   "cell_type": "code",
   "execution_count": null,
   "id": "bf55f5fb",
   "metadata": {},
   "outputs": [],
   "source": []
  },
  {
   "cell_type": "code",
   "execution_count": null,
   "id": "2ca6617e",
   "metadata": {},
   "outputs": [],
   "source": [
    "targets = pd.merge(targets, scores, how='left', on=['playerId', 'date']) \n",
    "date_ = pd.to_datetime(targets['date'], format=\"%Y%m%d\")\n",
    "targets['month'] = date_.dt.month"
   ]
  },
  {
   "cell_type": "code",
   "execution_count": null,
   "id": "a4b835d4",
   "metadata": {},
   "outputs": [],
   "source": [
    "targets['gameday'] = targets['battingOrder'].isna()*1"
   ]
  },
  {
   "cell_type": "code",
   "execution_count": null,
   "id": "56dd4682",
   "metadata": {},
   "outputs": [],
   "source": [
    "targets[targets['gameday']==0]"
   ]
  },
  {
   "cell_type": "code",
   "execution_count": null,
   "id": "6f53526b",
   "metadata": {},
   "outputs": [],
   "source": [
    "plt.figure(figsize=(15, 8))\n",
    "sns.violinplot(x=\"month\", y=\"target1\", data=targets)"
   ]
  },
  {
   "cell_type": "code",
   "execution_count": null,
   "id": "ede25661",
   "metadata": {},
   "outputs": [],
   "source": [
    "sns.violinplot(x=\"gameday\", y=\"target2\", data=targets)"
   ]
  },
  {
   "cell_type": "code",
   "execution_count": null,
   "id": "4456d46c",
   "metadata": {},
   "outputs": [],
   "source": [
    "sns.violinplot(x=\"gameday\", y=\"target3\", data=targets)"
   ]
  },
  {
   "cell_type": "code",
   "execution_count": null,
   "id": "f58a84cf",
   "metadata": {},
   "outputs": [],
   "source": [
    "sns.violinplot(x=\"gameday\", y=\"target4\", data=targets)"
   ]
  },
  {
   "cell_type": "code",
   "execution_count": null,
   "id": "5c98949b",
   "metadata": {},
   "outputs": [],
   "source": []
  },
  {
   "cell_type": "code",
   "execution_count": null,
   "id": "6a81894c",
   "metadata": {},
   "outputs": [],
   "source": [
    "plt.hist(targets['target1'], bins=500)\n",
    "plt.show()\n",
    "pd.DataFrame(targets['target1']).describe().T"
   ]
  },
  {
   "cell_type": "code",
   "execution_count": null,
   "id": "75f54d9c",
   "metadata": {},
   "outputs": [],
   "source": [
    "plt.figure(figsize=(15, 4))\n",
    "plt.plot(pd.to_datetime(targets['date'], format=\"%Y%m%d\").values[::100], targets['target2'].values[::100])"
   ]
  },
  {
   "cell_type": "code",
   "execution_count": null,
   "id": "5f4e7b6c",
   "metadata": {},
   "outputs": [],
   "source": [
    "# targets.sort_values('target1', ascending=False)"
   ]
  },
  {
   "cell_type": "code",
   "execution_count": null,
   "id": "311cf835",
   "metadata": {},
   "outputs": [],
   "source": [
    "plt.hist(targets['target2'], bins=500)\n",
    "plt.show()\n",
    "pd.DataFrame(targets['target2']).describe().T"
   ]
  },
  {
   "cell_type": "code",
   "execution_count": null,
   "id": "4f01d670",
   "metadata": {},
   "outputs": [],
   "source": [
    "plt.figure(figsize=(15, 4))\n",
    "plt.plot(pd.to_datetime(targets['date'], format=\"%Y%m%d\").values[::100], targets['target3'].values[::100])"
   ]
  },
  {
   "cell_type": "code",
   "execution_count": null,
   "id": "f8780e91",
   "metadata": {},
   "outputs": [],
   "source": [
    "plt.hist(targets['target3'], bins=500)\n",
    "plt.show()\n",
    "pd.DataFrame(targets['target3']).describe().T"
   ]
  },
  {
   "cell_type": "code",
   "execution_count": 2,
   "id": "0f9fb883",
   "metadata": {},
   "outputs": [
    {
     "ename": "NameError",
     "evalue": "name 'plt' is not defined",
     "output_type": "error",
     "traceback": [
      "\u001b[0;31m---------------------------------------------------------------------------\u001b[0m",
      "\u001b[0;31mNameError\u001b[0m                                 Traceback (most recent call last)",
      "\u001b[0;32m<ipython-input-2-e5d4957b95a7>\u001b[0m in \u001b[0;36m<module>\u001b[0;34m\u001b[0m\n\u001b[0;32m----> 1\u001b[0;31m \u001b[0mplt\u001b[0m\u001b[0;34m.\u001b[0m\u001b[0mfigure\u001b[0m\u001b[0;34m(\u001b[0m\u001b[0mfigsize\u001b[0m\u001b[0;34m=\u001b[0m\u001b[0;34m(\u001b[0m\u001b[0;36m15\u001b[0m\u001b[0;34m,\u001b[0m \u001b[0;36m4\u001b[0m\u001b[0;34m)\u001b[0m\u001b[0;34m)\u001b[0m\u001b[0;34m\u001b[0m\u001b[0;34m\u001b[0m\u001b[0m\n\u001b[0m\u001b[1;32m      2\u001b[0m \u001b[0mplt\u001b[0m\u001b[0;34m.\u001b[0m\u001b[0mplot\u001b[0m\u001b[0;34m(\u001b[0m\u001b[0mpd\u001b[0m\u001b[0;34m.\u001b[0m\u001b[0mto_datetime\u001b[0m\u001b[0;34m(\u001b[0m\u001b[0mtargets\u001b[0m\u001b[0;34m[\u001b[0m\u001b[0;34m'date'\u001b[0m\u001b[0;34m]\u001b[0m\u001b[0;34m,\u001b[0m \u001b[0mformat\u001b[0m\u001b[0;34m=\u001b[0m\u001b[0;34m\"%Y%m%d\"\u001b[0m\u001b[0;34m)\u001b[0m\u001b[0;34m.\u001b[0m\u001b[0mvalues\u001b[0m\u001b[0;34m[\u001b[0m\u001b[0;34m:\u001b[0m\u001b[0;34m:\u001b[0m\u001b[0;36m100\u001b[0m\u001b[0;34m]\u001b[0m\u001b[0;34m,\u001b[0m \u001b[0mtargets\u001b[0m\u001b[0;34m[\u001b[0m\u001b[0;34m'target4'\u001b[0m\u001b[0;34m]\u001b[0m\u001b[0;34m.\u001b[0m\u001b[0mvalues\u001b[0m\u001b[0;34m[\u001b[0m\u001b[0;34m:\u001b[0m\u001b[0;34m:\u001b[0m\u001b[0;36m100\u001b[0m\u001b[0;34m]\u001b[0m\u001b[0;34m)\u001b[0m\u001b[0;34m\u001b[0m\u001b[0;34m\u001b[0m\u001b[0m\n",
      "\u001b[0;31mNameError\u001b[0m: name 'plt' is not defined"
     ]
    }
   ],
   "source": [
    "plt.figure(figsize=(15, 4))\n",
    "plt.plot(pd.to_datetime(targets['date'], format=\"%Y%m%d\").values[::100], targets['target4'].values[::100])"
   ]
  },
  {
   "cell_type": "code",
   "execution_count": null,
   "id": "487c25f9",
   "metadata": {},
   "outputs": [],
   "source": [
    "plt.hist(targets['target4'], bins=500)\n",
    "plt.show()\n",
    "pd.DataFrame(targets['target4']).describe().T"
   ]
  },
  {
   "cell_type": "code",
   "execution_count": null,
   "id": "1ae677c7",
   "metadata": {},
   "outputs": [],
   "source": []
  },
  {
   "cell_type": "code",
   "execution_count": null,
   "id": "b78f7c36",
   "metadata": {},
   "outputs": [],
   "source": [
    "# pt = PowerTransformer()"
   ]
  },
  {
   "cell_type": "code",
   "execution_count": null,
   "id": "767528ce",
   "metadata": {},
   "outputs": [],
   "source": [
    "# target4_norm = pt.fit_transform(targets['target4'].values.reshape(-1,1)).reshape(-1)"
   ]
  },
  {
   "cell_type": "code",
   "execution_count": null,
   "id": "aa8e23f0",
   "metadata": {},
   "outputs": [],
   "source": [
    "# plt.hist(target4_norm, bins=500)\n",
    "# plt.show()\n",
    "# pd.DataFrame(target4_norm).describe().T"
   ]
  },
  {
   "cell_type": "code",
   "execution_count": null,
   "id": "30ada615",
   "metadata": {},
   "outputs": [],
   "source": []
  }
 ],
 "metadata": {
  "kernelspec": {
   "display_name": "Python 3",
   "language": "python",
   "name": "python3"
  },
  "language_info": {
   "codemirror_mode": {
    "name": "ipython",
    "version": 3
   },
   "file_extension": ".py",
   "mimetype": "text/x-python",
   "name": "python",
   "nbconvert_exporter": "python",
   "pygments_lexer": "ipython3",
   "version": "3.6.13"
  }
 },
 "nbformat": 4,
 "nbformat_minor": 5
}
