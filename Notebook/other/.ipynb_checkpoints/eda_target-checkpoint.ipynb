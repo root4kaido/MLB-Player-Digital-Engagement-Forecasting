{
 "cells": [
  {
   "cell_type": "code",
   "execution_count": 32,
   "id": "bab21397",
   "metadata": {},
   "outputs": [],
   "source": [
    "import gc\n",
    "import os\n",
    "import sys\n",
    "import math\n",
    "import random\n",
    "import warnings\n",
    "import pickle\n",
    "from pathlib import Path\n",
    "from joblib import Parallel, delayed\n",
    "from statsmodels.tsa.deterministic import (CalendarFourier,\n",
    "                                           CalendarSeasonality,\n",
    "                                           CalendarTimeTrend,\n",
    "                                           DeterministicProcess)\n",
    "\n",
    "from tqdm import tqdm\n",
    "import os\n",
    "import ipywidgets as widgets\n",
    "import matplotlib.pyplot as plt\n",
    "import numpy as np\n",
    "import pandas as pd\n",
    "import seaborn as sns\n",
    "# from pandarallel import pandarallel\n",
    "# pandarallel.initialize()\n",
    "warnings.simplefilter(\"ignore\")\n",
    "import ctypes as ct\n",
    "from datetime import timedelta\n",
    "\n",
    "from sklearn.metrics import mean_absolute_error\n",
    "from sklearn.preprocessing import PowerTransformer\n",
    "\n",
    "import lightgbm as lgbm\n"
   ]
  },
  {
   "cell_type": "code",
   "execution_count": 33,
   "id": "09f1d977",
   "metadata": {},
   "outputs": [],
   "source": [
    "sys.path.append('../../')\n",
    "import src.utils as utils"
   ]
  },
  {
   "cell_type": "code",
   "execution_count": 34,
   "id": "fc1b04a3",
   "metadata": {},
   "outputs": [],
   "source": [
    "EXP_NUM = 1"
   ]
  },
  {
   "cell_type": "code",
   "execution_count": 35,
   "id": "1b4cd5ab",
   "metadata": {},
   "outputs": [],
   "source": [
    "DATA_DIR = Path(\"/home/knikaido/work/MLB-Player-Digital-Engagement-Forecasting/data/\")\n",
    "MAIN_DATA_DIR = DATA_DIR / 'mlb-player-digital-engagement-forecasting'\n",
    "TRAIN_DIR = MAIN_DATA_DIR / 'train'\n",
    "OUTPUT_DIR = Path('./output/')"
   ]
  },
  {
   "cell_type": "code",
   "execution_count": 36,
   "id": "ea438c6e",
   "metadata": {},
   "outputs": [],
   "source": [
    "players = pd.read_csv(MAIN_DATA_DIR / 'players.csv')\n",
    "\n",
    "rosters = pd.read_csv(TRAIN_DIR / 'rosters_train.csv')\n",
    "targets = pd.read_csv(TRAIN_DIR / 'nextDayPlayerEngagement_train.csv')\n",
    "scores = pd.read_csv(TRAIN_DIR / 'playerBoxScores_train.csv')\n",
    "scores = scores.groupby(['playerId', 'date']).sum().reset_index()\n",
    "seasons = pd.read_csv(MAIN_DATA_DIR / 'seasons.csv')\n"
   ]
  },
  {
   "cell_type": "code",
   "execution_count": 37,
   "id": "c07fa706",
   "metadata": {},
   "outputs": [],
   "source": [
    "seasons = seasons.fillna('1970-01-01')\n",
    "for c_ in seasons.columns[1:]:\n",
    "    seasons[c_] = pd.to_datetime(seasons[c_].str.replace('-', '').astype(int), format=\"%Y%m%d\")"
   ]
  },
  {
   "cell_type": "code",
   "execution_count": 38,
   "id": "30b34965",
   "metadata": {},
   "outputs": [
    {
     "data": {
      "text/html": [
       "<div>\n",
       "<style scoped>\n",
       "    .dataframe tbody tr th:only-of-type {\n",
       "        vertical-align: middle;\n",
       "    }\n",
       "\n",
       "    .dataframe tbody tr th {\n",
       "        vertical-align: top;\n",
       "    }\n",
       "\n",
       "    .dataframe thead th {\n",
       "        text-align: right;\n",
       "    }\n",
       "</style>\n",
       "<table border=\"1\" class=\"dataframe\">\n",
       "  <thead>\n",
       "    <tr style=\"text-align: right;\">\n",
       "      <th></th>\n",
       "      <th>seasonId</th>\n",
       "      <th>seasonStartDate</th>\n",
       "      <th>seasonEndDate</th>\n",
       "      <th>preSeasonStartDate</th>\n",
       "      <th>preSeasonEndDate</th>\n",
       "      <th>regularSeasonStartDate</th>\n",
       "      <th>regularSeasonEndDate</th>\n",
       "      <th>lastDate1stHalf</th>\n",
       "      <th>allStarDate</th>\n",
       "      <th>firstDate2ndHalf</th>\n",
       "      <th>postSeasonStartDate</th>\n",
       "      <th>postSeasonEndDate</th>\n",
       "    </tr>\n",
       "  </thead>\n",
       "  <tbody>\n",
       "    <tr>\n",
       "      <th>0</th>\n",
       "      <td>2017</td>\n",
       "      <td>2017-04-02</td>\n",
       "      <td>2017-11-01</td>\n",
       "      <td>2017-02-22</td>\n",
       "      <td>2017-04-01</td>\n",
       "      <td>2017-04-02</td>\n",
       "      <td>2017-10-01</td>\n",
       "      <td>2017-07-09</td>\n",
       "      <td>2017-07-11</td>\n",
       "      <td>2017-07-14</td>\n",
       "      <td>2017-10-03</td>\n",
       "      <td>2017-11-01</td>\n",
       "    </tr>\n",
       "    <tr>\n",
       "      <th>1</th>\n",
       "      <td>2018</td>\n",
       "      <td>2018-03-29</td>\n",
       "      <td>2018-10-28</td>\n",
       "      <td>2018-02-21</td>\n",
       "      <td>2018-03-27</td>\n",
       "      <td>2018-03-29</td>\n",
       "      <td>2018-10-01</td>\n",
       "      <td>2018-07-15</td>\n",
       "      <td>2018-07-17</td>\n",
       "      <td>2018-07-19</td>\n",
       "      <td>2018-10-02</td>\n",
       "      <td>2018-10-28</td>\n",
       "    </tr>\n",
       "    <tr>\n",
       "      <th>2</th>\n",
       "      <td>2019</td>\n",
       "      <td>2019-03-20</td>\n",
       "      <td>2019-10-30</td>\n",
       "      <td>2019-02-21</td>\n",
       "      <td>2019-03-26</td>\n",
       "      <td>2019-03-20</td>\n",
       "      <td>2019-09-29</td>\n",
       "      <td>2019-07-07</td>\n",
       "      <td>2019-07-09</td>\n",
       "      <td>2019-07-11</td>\n",
       "      <td>2019-10-01</td>\n",
       "      <td>2019-10-30</td>\n",
       "    </tr>\n",
       "    <tr>\n",
       "      <th>3</th>\n",
       "      <td>2020</td>\n",
       "      <td>2020-07-23</td>\n",
       "      <td>2020-10-28</td>\n",
       "      <td>2020-02-21</td>\n",
       "      <td>2020-07-22</td>\n",
       "      <td>2020-07-23</td>\n",
       "      <td>2020-09-27</td>\n",
       "      <td>2020-08-25</td>\n",
       "      <td>1970-01-01</td>\n",
       "      <td>2020-08-26</td>\n",
       "      <td>2020-09-29</td>\n",
       "      <td>2020-10-28</td>\n",
       "    </tr>\n",
       "    <tr>\n",
       "      <th>4</th>\n",
       "      <td>2021</td>\n",
       "      <td>2021-02-28</td>\n",
       "      <td>2021-10-31</td>\n",
       "      <td>2021-02-28</td>\n",
       "      <td>2021-03-30</td>\n",
       "      <td>2021-04-01</td>\n",
       "      <td>2021-10-03</td>\n",
       "      <td>2021-07-11</td>\n",
       "      <td>2021-07-13</td>\n",
       "      <td>2021-07-15</td>\n",
       "      <td>2021-10-04</td>\n",
       "      <td>2021-10-31</td>\n",
       "    </tr>\n",
       "  </tbody>\n",
       "</table>\n",
       "</div>"
      ],
      "text/plain": [
       "   seasonId seasonStartDate seasonEndDate preSeasonStartDate preSeasonEndDate  \\\n",
       "0      2017      2017-04-02    2017-11-01         2017-02-22       2017-04-01   \n",
       "1      2018      2018-03-29    2018-10-28         2018-02-21       2018-03-27   \n",
       "2      2019      2019-03-20    2019-10-30         2019-02-21       2019-03-26   \n",
       "3      2020      2020-07-23    2020-10-28         2020-02-21       2020-07-22   \n",
       "4      2021      2021-02-28    2021-10-31         2021-02-28       2021-03-30   \n",
       "\n",
       "  regularSeasonStartDate regularSeasonEndDate lastDate1stHalf allStarDate  \\\n",
       "0             2017-04-02           2017-10-01      2017-07-09  2017-07-11   \n",
       "1             2018-03-29           2018-10-01      2018-07-15  2018-07-17   \n",
       "2             2019-03-20           2019-09-29      2019-07-07  2019-07-09   \n",
       "3             2020-07-23           2020-09-27      2020-08-25  1970-01-01   \n",
       "4             2021-04-01           2021-10-03      2021-07-11  2021-07-13   \n",
       "\n",
       "  firstDate2ndHalf postSeasonStartDate postSeasonEndDate  \n",
       "0       2017-07-14          2017-10-03        2017-11-01  \n",
       "1       2018-07-19          2018-10-02        2018-10-28  \n",
       "2       2019-07-11          2019-10-01        2019-10-30  \n",
       "3       2020-08-26          2020-09-29        2020-10-28  \n",
       "4       2021-07-15          2021-10-04        2021-10-31  "
      ]
     },
     "execution_count": 38,
     "metadata": {},
     "output_type": "execute_result"
    }
   ],
   "source": [
    "seasons"
   ]
  },
  {
   "cell_type": "code",
   "execution_count": 39,
   "id": "047edcff",
   "metadata": {},
   "outputs": [],
   "source": [
    "player_target_stats = pd.read_csv(MAIN_DATA_DIR / \"player_target_stats.csv\")"
   ]
  },
  {
   "cell_type": "code",
   "execution_count": 40,
   "id": "53340168",
   "metadata": {},
   "outputs": [],
   "source": [
    "targets_cols = ['playerId', 'target1', 'target2', 'target3', 'target4', 'date']\n",
    "players_cols = ['playerId', 'primaryPositionName', 'birthCity', 'DOY', 'mlbDebutYear', 'DebutAge', 'heightInches', 'weight']\n",
    "rosters_cols = ['playerId', 'teamId', 'status', 'date']\n",
    "scores_cols = ['playerId', 'battingOrder', 'gamesPlayedBatting', 'flyOuts',\n",
    "       'groundOuts', 'runsScored', 'doubles', 'triples', 'homeRuns',\n",
    "       'strikeOuts', 'baseOnBalls', 'intentionalWalks', 'hits', 'hitByPitch',\n",
    "       'atBats', 'caughtStealing', 'stolenBases', 'groundIntoDoublePlay',\n",
    "       'groundIntoTriplePlay', 'plateAppearances', 'totalBases', 'rbi',\n",
    "       'leftOnBase', 'sacBunts', 'sacFlies', 'catchersInterference',\n",
    "       'pickoffs', 'gamesPlayedPitching', 'gamesStartedPitching',\n",
    "       'completeGamesPitching', 'shutoutsPitching', 'winsPitching',\n",
    "       'lossesPitching', 'flyOutsPitching', 'airOutsPitching',\n",
    "       'groundOutsPitching', 'runsPitching', 'doublesPitching',\n",
    "       'triplesPitching', 'homeRunsPitching', 'strikeOutsPitching',\n",
    "       'baseOnBallsPitching', 'intentionalWalksPitching', 'hitsPitching',\n",
    "       'hitByPitchPitching', 'atBatsPitching', 'caughtStealingPitching',\n",
    "       'stolenBasesPitching', 'inningsPitched', 'saveOpportunities',\n",
    "       'earnedRuns', 'battersFaced', 'outsPitching', 'pitchesThrown', 'balls',\n",
    "       'strikes', 'hitBatsmen', 'balks', 'wildPitches', 'pickoffsPitching',\n",
    "       'rbiPitching', 'gamesFinishedPitching', 'inheritedRunners',\n",
    "       'inheritedRunnersScored', 'catchersInterferencePitching',\n",
    "       'sacBuntsPitching', 'sacFliesPitching', 'saves', 'holds', 'blownSaves',\n",
    "       'assists', 'putOuts', 'errors', 'chances', 'date']\n",
    "\n",
    "feature_cols1 = ['label_playerId', 'label_primaryPositionName', 'label_teamId',\n",
    "       'label_status', 'battingOrder', 'gamesPlayedBatting', 'flyOuts',\n",
    "       'groundOuts', 'runsScored', 'doubles', 'triples', 'homeRuns',\n",
    "       'strikeOuts', 'baseOnBalls', 'intentionalWalks', 'hits', 'hitByPitch',\n",
    "       'atBats', 'caughtStealing', 'stolenBases', 'groundIntoDoublePlay',\n",
    "       'groundIntoTriplePlay', 'plateAppearances', 'totalBases', 'rbi',\n",
    "       'leftOnBase', 'sacBunts', 'sacFlies', 'catchersInterference',\n",
    "       'pickoffs', 'gamesPlayedPitching', 'gamesStartedPitching',\n",
    "       'completeGamesPitching', 'shutoutsPitching', 'winsPitching',\n",
    "       'lossesPitching', 'flyOutsPitching', 'airOutsPitching',\n",
    "       'groundOutsPitching', 'runsPitching', 'doublesPitching',\n",
    "       'triplesPitching', 'homeRunsPitching', 'strikeOutsPitching',\n",
    "       'baseOnBallsPitching', 'intentionalWalksPitching', 'hitsPitching',\n",
    "       'hitByPitchPitching', 'atBatsPitching', 'caughtStealingPitching',\n",
    "       'stolenBasesPitching', 'inningsPitched', 'saveOpportunities',\n",
    "       'earnedRuns', 'battersFaced', 'outsPitching', 'pitchesThrown', 'balls',\n",
    "       'strikes', 'hitBatsmen', 'balks', 'wildPitches', 'pickoffsPitching',\n",
    "       'rbiPitching', 'gamesFinishedPitching', 'inheritedRunners',\n",
    "       'inheritedRunnersScored', 'catchersInterferencePitching',\n",
    "       'sacBuntsPitching', 'sacFliesPitching', 'saves', 'holds', 'blownSaves',\n",
    "       'assists', 'putOuts', 'errors', 'chances']\n",
    "\n",
    "feature_cols2 = ['label_playerId', 'label_primaryPositionName', 'label_teamId', 'label_birthCity',\n",
    "                'DOY', 'mlbDebutYear', 'DebutAge', 'heightInches', 'weight',\n",
    "       'label_status', 'battingOrder', 'gamesPlayedBatting', 'flyOuts',\n",
    "       'groundOuts', 'runsScored', 'doubles', 'triples', 'homeRuns',\n",
    "       'strikeOuts', 'baseOnBalls', 'intentionalWalks', 'hits', 'hitByPitch',\n",
    "       'atBats', 'caughtStealing', 'stolenBases', 'groundIntoDoublePlay',\n",
    "       'groundIntoTriplePlay', 'plateAppearances', 'totalBases', 'rbi',\n",
    "       'leftOnBase', 'sacBunts', 'sacFlies', 'catchersInterference',\n",
    "       'pickoffs', 'gamesPlayedPitching', 'gamesStartedPitching',\n",
    "       'completeGamesPitching', 'shutoutsPitching', 'winsPitching',\n",
    "       'lossesPitching', 'flyOutsPitching', 'airOutsPitching',\n",
    "       'groundOutsPitching', 'runsPitching', 'doublesPitching',\n",
    "       'triplesPitching', 'homeRunsPitching', 'strikeOutsPitching',\n",
    "       'baseOnBallsPitching', 'intentionalWalksPitching', 'hitsPitching',\n",
    "       'hitByPitchPitching', 'atBatsPitching', 'caughtStealingPitching',\n",
    "       'stolenBasesPitching', 'inningsPitched', 'saveOpportunities',\n",
    "       'earnedRuns', 'battersFaced', 'outsPitching', 'pitchesThrown', 'balls',\n",
    "       'strikes', 'hitBatsmen', 'balks', 'wildPitches', 'pickoffsPitching',\n",
    "       'rbiPitching', 'gamesFinishedPitching', 'inheritedRunners',\n",
    "       'inheritedRunnersScored', 'catchersInterferencePitching',\n",
    "       'sacBuntsPitching', 'sacFliesPitching', 'saves', 'holds', 'blownSaves',\n",
    "       'assists', 'putOuts', 'errors', 'chances']\n",
    "\n",
    "feature_cols3 = ['week_day', 'annual_day', 'month', 'label_playerId', 'label_primaryPositionName', 'label_teamId', 'label_birthCity',\n",
    "                'DOY', 'mlbDebutYear', 'DebutAge', 'heightInches', 'weight',\n",
    "       'label_status', 'battingOrder', 'gamesPlayedBatting', 'flyOuts',\n",
    "       'groundOuts', 'runsScored', 'doubles', 'triples', 'homeRuns',\n",
    "       'strikeOuts', 'baseOnBalls', 'intentionalWalks', 'hits', 'hitByPitch',\n",
    "       'atBats', 'caughtStealing', 'stolenBases', 'groundIntoDoublePlay',\n",
    "       'groundIntoTriplePlay', 'plateAppearances', 'totalBases', 'rbi',\n",
    "       'leftOnBase', 'sacBunts', 'sacFlies', 'catchersInterference',\n",
    "       'pickoffs', 'gamesPlayedPitching', 'gamesStartedPitching',\n",
    "       'completeGamesPitching', 'shutoutsPitching', 'winsPitching',\n",
    "       'lossesPitching', 'flyOutsPitching', 'airOutsPitching',\n",
    "       'groundOutsPitching', 'runsPitching', 'doublesPitching',\n",
    "       'triplesPitching', 'homeRunsPitching', 'strikeOutsPitching',\n",
    "       'baseOnBallsPitching', 'intentionalWalksPitching', 'hitsPitching',\n",
    "       'hitByPitchPitching', 'atBatsPitching', 'caughtStealingPitching',\n",
    "       'stolenBasesPitching', 'inningsPitched', 'saveOpportunities',\n",
    "       'earnedRuns', 'battersFaced', 'outsPitching', 'pitchesThrown', 'balls',\n",
    "       'strikes', 'hitBatsmen', 'balks', 'wildPitches', 'pickoffsPitching',\n",
    "       'rbiPitching', 'gamesFinishedPitching', 'inheritedRunners',\n",
    "       'inheritedRunnersScored', 'catchersInterferencePitching',\n",
    "       'sacBuntsPitching', 'sacFliesPitching', 'saves', 'holds', 'blownSaves',\n",
    "       'assists', 'putOuts', 'errors', 'chances']\n",
    "\n",
    "feature_cols4 = ['week_day', 'annual_day', 'month', 'label_playerId', 'label_primaryPositionName', 'label_teamId', 'label_birthCity',\n",
    "                'DOY', 'mlbDebutYear', 'DebutAge', 'heightInches', 'weight',\n",
    "       'label_status', 'battingOrder', 'gamesPlayedBatting', 'flyOuts',\n",
    "       'groundOuts', 'runsScored', 'doubles', 'triples', 'homeRuns',\n",
    "       'strikeOuts', 'baseOnBalls', 'intentionalWalks', 'hits', 'hitByPitch',\n",
    "       'atBats', 'caughtStealing', 'stolenBases', 'groundIntoDoublePlay',\n",
    "       'groundIntoTriplePlay', 'plateAppearances', 'totalBases', 'rbi',\n",
    "       'leftOnBase', 'sacBunts', 'sacFlies', 'catchersInterference',\n",
    "       'pickoffs', 'gamesPlayedPitching', 'gamesStartedPitching',\n",
    "       'completeGamesPitching', 'shutoutsPitching', 'winsPitching',\n",
    "       'lossesPitching', 'flyOutsPitching', 'airOutsPitching',\n",
    "       'groundOutsPitching', 'runsPitching', 'doublesPitching',\n",
    "       'triplesPitching', 'homeRunsPitching', 'strikeOutsPitching',\n",
    "       'baseOnBallsPitching', 'intentionalWalksPitching', 'hitsPitching',\n",
    "       'hitByPitchPitching', 'atBatsPitching', 'caughtStealingPitching',\n",
    "       'stolenBasesPitching', 'inningsPitched', 'saveOpportunities',\n",
    "       'earnedRuns', 'battersFaced', 'outsPitching', 'pitchesThrown', 'balls',\n",
    "       'strikes', 'hitBatsmen', 'balks', 'wildPitches', 'pickoffsPitching',\n",
    "       'rbiPitching', 'gamesFinishedPitching', 'inheritedRunners',\n",
    "       'inheritedRunnersScored', 'catchersInterferencePitching',\n",
    "       'sacBuntsPitching', 'sacFliesPitching', 'saves', 'holds', 'blownSaves',\n",
    "       'assists', 'putOuts', 'errors', 'chances']"
   ]
  },
  {
   "cell_type": "code",
   "execution_count": 41,
   "id": "5350aa75",
   "metadata": {},
   "outputs": [],
   "source": [
    "player_ids = targets['playerId'].unique()"
   ]
  },
  {
   "cell_type": "code",
   "execution_count": 42,
   "id": "e48f00fb",
   "metadata": {},
   "outputs": [],
   "source": [
    "id_ = player_ids[1000]\n",
    "# id_ = 600921"
   ]
  },
  {
   "cell_type": "code",
   "execution_count": 43,
   "id": "2ee69136",
   "metadata": {},
   "outputs": [],
   "source": [
    "target_oneplayer = targets[targets['playerId']==id_]"
   ]
  },
  {
   "cell_type": "code",
   "execution_count": 44,
   "id": "cd51363e",
   "metadata": {},
   "outputs": [],
   "source": [
    "from scipy.stats import norm"
   ]
  },
  {
   "cell_type": "code",
   "execution_count": 45,
   "id": "1588368b",
   "metadata": {},
   "outputs": [],
   "source": [
    "target_prob = target_oneplayer['target1'].values\n",
    "mean = np.mean(target_prob)\n",
    "std = np.std(target_prob)"
   ]
  },
  {
   "cell_type": "code",
   "execution_count": 46,
   "id": "9823a3bd",
   "metadata": {},
   "outputs": [],
   "source": [
    "distribution = norm(mean, std)\n",
    "min_weight = min(target_prob)\n",
    "max_weight = max(target_prob)\n",
    "values = list(np.linspace(min_weight, max_weight))\n",
    "probabilities = [distribution.pdf(v) for v in values]\n",
    "max_value = max(probabilities)\n",
    "max_index = probabilities.index(max_value)"
   ]
  },
  {
   "cell_type": "code",
   "execution_count": 47,
   "id": "097ffe3b",
   "metadata": {},
   "outputs": [
    {
     "data": {
      "text/plain": [
       "4.326143201297713"
      ]
     },
     "execution_count": 47,
     "metadata": {},
     "output_type": "execute_result"
    }
   ],
   "source": [
    "max_weight"
   ]
  },
  {
   "cell_type": "code",
   "execution_count": 48,
   "id": "baaf4051",
   "metadata": {},
   "outputs": [
    {
     "data": {
      "text/html": [
       "<div>\n",
       "<style scoped>\n",
       "    .dataframe tbody tr th:only-of-type {\n",
       "        vertical-align: middle;\n",
       "    }\n",
       "\n",
       "    .dataframe tbody tr th {\n",
       "        vertical-align: top;\n",
       "    }\n",
       "\n",
       "    .dataframe thead th {\n",
       "        text-align: right;\n",
       "    }\n",
       "</style>\n",
       "<table border=\"1\" class=\"dataframe\">\n",
       "  <thead>\n",
       "    <tr style=\"text-align: right;\">\n",
       "      <th></th>\n",
       "      <th>playerId</th>\n",
       "      <th>target1_mean</th>\n",
       "      <th>target1_median</th>\n",
       "      <th>target1_std</th>\n",
       "      <th>target1_min</th>\n",
       "      <th>target1_max</th>\n",
       "      <th>target1_prob</th>\n",
       "      <th>target2_mean</th>\n",
       "      <th>target2_median</th>\n",
       "      <th>target2_std</th>\n",
       "      <th>...</th>\n",
       "      <th>target3_std</th>\n",
       "      <th>target3_min</th>\n",
       "      <th>target3_max</th>\n",
       "      <th>target3_prob</th>\n",
       "      <th>target4_mean</th>\n",
       "      <th>target4_median</th>\n",
       "      <th>target4_std</th>\n",
       "      <th>target4_min</th>\n",
       "      <th>target4_max</th>\n",
       "      <th>target4_prob</th>\n",
       "    </tr>\n",
       "  </thead>\n",
       "  <tbody>\n",
       "    <tr>\n",
       "      <th>590</th>\n",
       "      <td>596271.0</td>\n",
       "      <td>0.000037</td>\n",
       "      <td>0.0</td>\n",
       "      <td>0.000078</td>\n",
       "      <td>0.0</td>\n",
       "      <td>0.000282</td>\n",
       "      <td>0.0</td>\n",
       "      <td>0.010871</td>\n",
       "      <td>0.008668</td>\n",
       "      <td>0.009856</td>\n",
       "      <td>...</td>\n",
       "      <td>0.00035</td>\n",
       "      <td>0.0</td>\n",
       "      <td>0.00164</td>\n",
       "      <td>0.0</td>\n",
       "      <td>0.101097</td>\n",
       "      <td>0.073746</td>\n",
       "      <td>0.084934</td>\n",
       "      <td>0.013243</td>\n",
       "      <td>0.360515</td>\n",
       "      <td>0.203954</td>\n",
       "    </tr>\n",
       "  </tbody>\n",
       "</table>\n",
       "<p>1 rows × 25 columns</p>\n",
       "</div>"
      ],
      "text/plain": [
       "     playerId  target1_mean  target1_median  target1_std  target1_min  \\\n",
       "590  596271.0      0.000037             0.0     0.000078          0.0   \n",
       "\n",
       "     target1_max  target1_prob  target2_mean  target2_median  target2_std  \\\n",
       "590     0.000282           0.0      0.010871        0.008668     0.009856   \n",
       "\n",
       "     ...  target3_std  target3_min  target3_max  target3_prob  target4_mean  \\\n",
       "590  ...      0.00035          0.0      0.00164           0.0      0.101097   \n",
       "\n",
       "     target4_median  target4_std  target4_min  target4_max  target4_prob  \n",
       "590        0.073746     0.084934     0.013243     0.360515      0.203954  \n",
       "\n",
       "[1 rows x 25 columns]"
      ]
     },
     "execution_count": 48,
     "metadata": {},
     "output_type": "execute_result"
    }
   ],
   "source": [
    "player_target_stats[player_target_stats['playerId']==id_]"
   ]
  },
  {
   "cell_type": "code",
   "execution_count": 49,
   "id": "8dea16d4",
   "metadata": {},
   "outputs": [
    {
     "data": {
      "text/plain": [
       "(17532.0, 18747.0)"
      ]
     },
     "execution_count": 49,
     "metadata": {},
     "output_type": "execute_result"
    },
    {
     "data": {
      "image/png": "[encoded data removed]",
      "text/plain": [
       "<Figure size 1080x288 with 1 Axes>"
      ]
     },
     "metadata": {
      "needs_background": "light"
     },
     "output_type": "display_data"
    }
   ],
   "source": [
    "plt.figure(figsize=(15, 4))\n",
    "for i in range(len(seasons)):\n",
    "    plt.axvspan(seasons['preSeasonStartDate'][i], seasons['preSeasonEndDate'][i], color=\"gray\", alpha=0.3)\n",
    "for i in range(len(seasons)):\n",
    "    plt.axvspan(seasons['regularSeasonStartDate'][i], seasons['regularSeasonEndDate'][i], color=\"orange\", alpha=0.3)\n",
    "for i in range(len(seasons)):\n",
    "    plt.axvspan(seasons['postSeasonStartDate'][i], seasons['postSeasonEndDate'][i], color=\"gray\", alpha=0.3)\n",
    "dates = pd.to_datetime(target_oneplayer['date'], format=\"%Y%m%d\").values\n",
    "plt.plot(dates, target_oneplayer['target1'].values)\n",
    "plt.xlim(np.min(dates), np.max(dates))"
   ]
  },
  {
   "cell_type": "code",
   "execution_count": 50,
   "id": "22f6b8ea",
   "metadata": {},
   "outputs": [
    {
     "data": {
      "text/plain": [
       "(17532.0, 18747.0)"
      ]
     },
     "execution_count": 50,
     "metadata": {},
     "output_type": "execute_result"
    },
    {
     "data": {
      "image/png": "[encoded data removed]",
      "text/plain": [
       "<Figure size 1080x288 with 1 Axes>"
      ]
     },
     "metadata": {
      "needs_background": "light"
     },
     "output_type": "display_data"
    }
   ],
   "source": [
    "plt.figure(figsize=(15, 4))\n",
    "for i in range(len(seasons)):\n",
    "    plt.axvspan(seasons['preSeasonStartDate'][i], seasons['preSeasonEndDate'][i], color=\"gray\", alpha=0.3)\n",
    "for i in range(len(seasons)):\n",
    "    plt.axvspan(seasons['regularSeasonStartDate'][i], seasons['regularSeasonEndDate'][i], color=\"orange\", alpha=0.3)\n",
    "for i in range(len(seasons)):\n",
    "    plt.axvspan(seasons['postSeasonStartDate'][i], seasons['postSeasonEndDate'][i], color=\"gray\", alpha=0.3)\n",
    "dates = pd.to_datetime(target_oneplayer['date'], format=\"%Y%m%d\").values\n",
    "plt.plot(dates, target_oneplayer['target2'].values)\n",
    "plt.xlim(np.min(dates), np.max(dates))"
   ]
  },
  {
   "cell_type": "code",
   "execution_count": 51,
   "id": "4797f594",
   "metadata": {},
   "outputs": [
    {
     "data": {
      "text/plain": [
       "(17532.0, 18747.0)"
      ]
     },
     "execution_count": 51,
     "metadata": {},
     "output_type": "execute_result"
    },
    {
     "data": {
      "image/png": "[encoded data removed]",
      "text/plain": [
       "<Figure size 1080x288 with 1 Axes>"
      ]
     },
     "metadata": {
      "needs_background": "light"
     },
     "output_type": "display_data"
    }
   ],
   "source": [
    "plt.figure(figsize=(15, 4))\n",
    "for i in range(len(seasons)):\n",
    "    plt.axvspan(seasons['preSeasonStartDate'][i], seasons['preSeasonEndDate'][i], color=\"gray\", alpha=0.3)\n",
    "for i in range(len(seasons)):\n",
    "    plt.axvspan(seasons['regularSeasonStartDate'][i], seasons['regularSeasonEndDate'][i], color=\"orange\", alpha=0.3)\n",
    "for i in range(len(seasons)):\n",
    "    plt.axvspan(seasons['postSeasonStartDate'][i], seasons['postSeasonEndDate'][i], color=\"gray\", alpha=0.3)\n",
    "dates = pd.to_datetime(target_oneplayer['date'], format=\"%Y%m%d\").values\n",
    "plt.plot(dates, target_oneplayer['target3'].values)\n",
    "plt.xlim(np.min(dates), np.max(dates))"
   ]
  },
  {
   "cell_type": "code",
   "execution_count": 52,
   "id": "33f066e1",
   "metadata": {},
   "outputs": [
    {
     "data": {
      "text/plain": [
       "(17532.0, 18747.0)"
      ]
     },
     "execution_count": 52,
     "metadata": {},
     "output_type": "execute_result"
    },
    {
     "data": {
      "image/png": "[encoded data removed]",
      "text/plain": [
       "<Figure size 1080x288 with 1 Axes>"
      ]
     },
     "metadata": {
      "needs_background": "light"
     },
     "output_type": "display_data"
    }
   ],
   "source": [
    "plt.figure(figsize=(15, 4))\n",
    "for i in range(len(seasons)):\n",
    "    plt.axvspan(seasons['preSeasonStartDate'][i], seasons['preSeasonEndDate'][i], color=\"gray\", alpha=0.3)\n",
    "for i in range(len(seasons)):\n",
    "    plt.axvspan(seasons['regularSeasonStartDate'][i], seasons['regularSeasonEndDate'][i], color=\"orange\", alpha=0.3)\n",
    "for i in range(len(seasons)):\n",
    "    plt.axvspan(seasons['postSeasonStartDate'][i], seasons['postSeasonEndDate'][i], color=\"gray\", alpha=0.3)\n",
    "dates = pd.to_datetime(target_oneplayer['date'], format=\"%Y%m%d\").values\n",
    "plt.plot(dates, target_oneplayer['target4'].values)\n",
    "plt.xlim(np.min(dates), np.max(dates))"
   ]
  },
  {
   "cell_type": "code",
   "execution_count": null,
   "id": "80048a0d",
   "metadata": {},
   "outputs": [],
   "source": []
  },
  {
   "cell_type": "markdown",
   "id": "c255af5d",
   "metadata": {},
   "source": [
    "## target2, 4は0の区間が多い気がする"
   ]
  },
  {
   "cell_type": "code",
   "execution_count": 53,
   "id": "bf2a1e3f",
   "metadata": {},
   "outputs": [],
   "source": [
    "targets = pd.merge(targets, scores, how='left', on=['playerId', 'date']) \n",
    "date_ = pd.to_datetime(targets['date'], format=\"%Y%m%d\")\n",
    "targets['month'] = date_.dt.month"
   ]
  },
  {
   "cell_type": "code",
   "execution_count": 54,
   "id": "44f239e8",
   "metadata": {},
   "outputs": [],
   "source": [
    "targets['gameday'] = targets['battingOrder'].isna()*1"
   ]
  },
  {
   "cell_type": "code",
   "execution_count": 55,
   "id": "dfd65686",
   "metadata": {},
   "outputs": [
    {
     "data": {
      "text/html": [
       "<div>\n",
       "<style scoped>\n",
       "    .dataframe tbody tr th:only-of-type {\n",
       "        vertical-align: middle;\n",
       "    }\n",
       "\n",
       "    .dataframe tbody tr th {\n",
       "        vertical-align: top;\n",
       "    }\n",
       "\n",
       "    .dataframe thead th {\n",
       "        text-align: right;\n",
       "    }\n",
       "</style>\n",
       "<table border=\"1\" class=\"dataframe\">\n",
       "  <thead>\n",
       "    <tr style=\"text-align: right;\">\n",
       "      <th></th>\n",
       "      <th>engagementMetricsDate</th>\n",
       "      <th>playerId</th>\n",
       "      <th>target1</th>\n",
       "      <th>target2</th>\n",
       "      <th>target3</th>\n",
       "      <th>target4</th>\n",
       "      <th>index_x</th>\n",
       "      <th>date</th>\n",
       "      <th>home</th>\n",
       "      <th>gamePk</th>\n",
       "      <th>...</th>\n",
       "      <th>saves</th>\n",
       "      <th>holds</th>\n",
       "      <th>blownSaves</th>\n",
       "      <th>assists</th>\n",
       "      <th>putOuts</th>\n",
       "      <th>errors</th>\n",
       "      <th>chances</th>\n",
       "      <th>index_y</th>\n",
       "      <th>month</th>\n",
       "      <th>gameday</th>\n",
       "    </tr>\n",
       "  </thead>\n",
       "  <tbody>\n",
       "    <tr>\n",
       "      <th>179307</th>\n",
       "      <td>2018-03-30</td>\n",
       "      <td>608365</td>\n",
       "      <td>2.040838</td>\n",
       "      <td>7.893376</td>\n",
       "      <td>0.052359</td>\n",
       "      <td>2.599964</td>\n",
       "      <td>87</td>\n",
       "      <td>20180329</td>\n",
       "      <td>0.0</td>\n",
       "      <td>529407.0</td>\n",
       "      <td>...</td>\n",
       "      <td>0.0</td>\n",
       "      <td>0.0</td>\n",
       "      <td>0.0</td>\n",
       "      <td>5.0</td>\n",
       "      <td>3.0</td>\n",
       "      <td>1.0</td>\n",
       "      <td>9.0</td>\n",
       "      <td>87.0</td>\n",
       "      <td>3</td>\n",
       "      <td>0</td>\n",
       "    </tr>\n",
       "    <tr>\n",
       "      <th>179308</th>\n",
       "      <td>2018-03-30</td>\n",
       "      <td>502624</td>\n",
       "      <td>1.068945</td>\n",
       "      <td>5.105543</td>\n",
       "      <td>2.722191</td>\n",
       "      <td>0.918550</td>\n",
       "      <td>87</td>\n",
       "      <td>20180329</td>\n",
       "      <td>0.0</td>\n",
       "      <td>529413.0</td>\n",
       "      <td>...</td>\n",
       "      <td>0.0</td>\n",
       "      <td>0.0</td>\n",
       "      <td>0.0</td>\n",
       "      <td>0.0</td>\n",
       "      <td>0.0</td>\n",
       "      <td>0.0</td>\n",
       "      <td>0.0</td>\n",
       "      <td>87.0</td>\n",
       "      <td>3</td>\n",
       "      <td>0</td>\n",
       "    </tr>\n",
       "    <tr>\n",
       "      <th>179309</th>\n",
       "      <td>2018-03-30</td>\n",
       "      <td>643338</td>\n",
       "      <td>0.385945</td>\n",
       "      <td>5.368812</td>\n",
       "      <td>0.074404</td>\n",
       "      <td>0.565661</td>\n",
       "      <td>87</td>\n",
       "      <td>20180329</td>\n",
       "      <td>0.0</td>\n",
       "      <td>529415.0</td>\n",
       "      <td>...</td>\n",
       "      <td>0.0</td>\n",
       "      <td>0.0</td>\n",
       "      <td>0.0</td>\n",
       "      <td>0.0</td>\n",
       "      <td>1.0</td>\n",
       "      <td>0.0</td>\n",
       "      <td>1.0</td>\n",
       "      <td>87.0</td>\n",
       "      <td>3</td>\n",
       "      <td>0</td>\n",
       "    </tr>\n",
       "    <tr>\n",
       "      <th>179312</th>\n",
       "      <td>2018-03-30</td>\n",
       "      <td>570560</td>\n",
       "      <td>0.131860</td>\n",
       "      <td>6.200931</td>\n",
       "      <td>0.002296</td>\n",
       "      <td>0.181634</td>\n",
       "      <td>87</td>\n",
       "      <td>20180329</td>\n",
       "      <td>0.0</td>\n",
       "      <td>529408.0</td>\n",
       "      <td>...</td>\n",
       "      <td>0.0</td>\n",
       "      <td>0.0</td>\n",
       "      <td>0.0</td>\n",
       "      <td>4.0</td>\n",
       "      <td>1.0</td>\n",
       "      <td>0.0</td>\n",
       "      <td>5.0</td>\n",
       "      <td>87.0</td>\n",
       "      <td>3</td>\n",
       "      <td>0</td>\n",
       "    </tr>\n",
       "    <tr>\n",
       "      <th>179315</th>\n",
       "      <td>2018-03-30</td>\n",
       "      <td>523260</td>\n",
       "      <td>0.011800</td>\n",
       "      <td>9.933713</td>\n",
       "      <td>6.076820</td>\n",
       "      <td>0.978230</td>\n",
       "      <td>87</td>\n",
       "      <td>20180329</td>\n",
       "      <td>0.0</td>\n",
       "      <td>529406.0</td>\n",
       "      <td>...</td>\n",
       "      <td>0.0</td>\n",
       "      <td>0.0</td>\n",
       "      <td>0.0</td>\n",
       "      <td>0.0</td>\n",
       "      <td>0.0</td>\n",
       "      <td>0.0</td>\n",
       "      <td>0.0</td>\n",
       "      <td>87.0</td>\n",
       "      <td>3</td>\n",
       "      <td>0</td>\n",
       "    </tr>\n",
       "    <tr>\n",
       "      <th>...</th>\n",
       "      <td>...</td>\n",
       "      <td>...</td>\n",
       "      <td>...</td>\n",
       "      <td>...</td>\n",
       "      <td>...</td>\n",
       "      <td>...</td>\n",
       "      <td>...</td>\n",
       "      <td>...</td>\n",
       "      <td>...</td>\n",
       "      <td>...</td>\n",
       "      <td>...</td>\n",
       "      <td>...</td>\n",
       "      <td>...</td>\n",
       "      <td>...</td>\n",
       "      <td>...</td>\n",
       "      <td>...</td>\n",
       "      <td>...</td>\n",
       "      <td>...</td>\n",
       "      <td>...</td>\n",
       "      <td>...</td>\n",
       "      <td>...</td>\n",
       "    </tr>\n",
       "    <tr>\n",
       "      <th>2506034</th>\n",
       "      <td>2021-05-01</td>\n",
       "      <td>664057</td>\n",
       "      <td>0.002498</td>\n",
       "      <td>1.963852</td>\n",
       "      <td>0.000000</td>\n",
       "      <td>1.285991</td>\n",
       "      <td>1215</td>\n",
       "      <td>20210430</td>\n",
       "      <td>1.0</td>\n",
       "      <td>634274.0</td>\n",
       "      <td>...</td>\n",
       "      <td>0.0</td>\n",
       "      <td>0.0</td>\n",
       "      <td>0.0</td>\n",
       "      <td>0.0</td>\n",
       "      <td>0.0</td>\n",
       "      <td>0.0</td>\n",
       "      <td>0.0</td>\n",
       "      <td>1215.0</td>\n",
       "      <td>4</td>\n",
       "      <td>0</td>\n",
       "    </tr>\n",
       "    <tr>\n",
       "      <th>2506108</th>\n",
       "      <td>2021-05-01</td>\n",
       "      <td>664854</td>\n",
       "      <td>0.446403</td>\n",
       "      <td>0.625770</td>\n",
       "      <td>0.000000</td>\n",
       "      <td>0.273131</td>\n",
       "      <td>1215</td>\n",
       "      <td>20210430</td>\n",
       "      <td>0.0</td>\n",
       "      <td>634325.0</td>\n",
       "      <td>...</td>\n",
       "      <td>0.0</td>\n",
       "      <td>0.0</td>\n",
       "      <td>0.0</td>\n",
       "      <td>0.0</td>\n",
       "      <td>0.0</td>\n",
       "      <td>0.0</td>\n",
       "      <td>0.0</td>\n",
       "      <td>1215.0</td>\n",
       "      <td>4</td>\n",
       "      <td>0</td>\n",
       "    </tr>\n",
       "    <tr>\n",
       "      <th>2506126</th>\n",
       "      <td>2021-05-01</td>\n",
       "      <td>605612</td>\n",
       "      <td>0.016699</td>\n",
       "      <td>1.198282</td>\n",
       "      <td>0.000000</td>\n",
       "      <td>0.739729</td>\n",
       "      <td>1215</td>\n",
       "      <td>20210430</td>\n",
       "      <td>0.0</td>\n",
       "      <td>634327.0</td>\n",
       "      <td>...</td>\n",
       "      <td>0.0</td>\n",
       "      <td>0.0</td>\n",
       "      <td>0.0</td>\n",
       "      <td>0.0</td>\n",
       "      <td>2.0</td>\n",
       "      <td>0.0</td>\n",
       "      <td>2.0</td>\n",
       "      <td>1215.0</td>\n",
       "      <td>4</td>\n",
       "      <td>0</td>\n",
       "    </tr>\n",
       "    <tr>\n",
       "      <th>2506130</th>\n",
       "      <td>2021-05-01</td>\n",
       "      <td>643778</td>\n",
       "      <td>0.000000</td>\n",
       "      <td>0.595813</td>\n",
       "      <td>0.000000</td>\n",
       "      <td>0.273131</td>\n",
       "      <td>1215</td>\n",
       "      <td>20210430</td>\n",
       "      <td>0.0</td>\n",
       "      <td>634325.0</td>\n",
       "      <td>...</td>\n",
       "      <td>0.0</td>\n",
       "      <td>0.0</td>\n",
       "      <td>0.0</td>\n",
       "      <td>0.0</td>\n",
       "      <td>0.0</td>\n",
       "      <td>0.0</td>\n",
       "      <td>0.0</td>\n",
       "      <td>1215.0</td>\n",
       "      <td>4</td>\n",
       "      <td>0</td>\n",
       "    </tr>\n",
       "    <tr>\n",
       "      <th>2506137</th>\n",
       "      <td>2021-05-01</td>\n",
       "      <td>657031</td>\n",
       "      <td>0.000394</td>\n",
       "      <td>1.527810</td>\n",
       "      <td>0.000000</td>\n",
       "      <td>0.842153</td>\n",
       "      <td>1215</td>\n",
       "      <td>20210430</td>\n",
       "      <td>0.0</td>\n",
       "      <td>634337.0</td>\n",
       "      <td>...</td>\n",
       "      <td>0.0</td>\n",
       "      <td>0.0</td>\n",
       "      <td>0.0</td>\n",
       "      <td>0.0</td>\n",
       "      <td>0.0</td>\n",
       "      <td>0.0</td>\n",
       "      <td>0.0</td>\n",
       "      <td>1215.0</td>\n",
       "      <td>4</td>\n",
       "      <td>0</td>\n",
       "    </tr>\n",
       "  </tbody>\n",
       "</table>\n",
       "<p>182576 rows × 89 columns</p>\n",
       "</div>"
      ],
      "text/plain": [
       "        engagementMetricsDate  playerId   target1   target2   target3  \\\n",
       "179307             2018-03-30    608365  2.040838  7.893376  0.052359   \n",
       "179308             2018-03-30    502624  1.068945  5.105543  2.722191   \n",
       "179309             2018-03-30    643338  0.385945  5.368812  0.074404   \n",
       "179312             2018-03-30    570560  0.131860  6.200931  0.002296   \n",
       "179315             2018-03-30    523260  0.011800  9.933713  6.076820   \n",
       "...                       ...       ...       ...       ...       ...   \n",
       "2506034            2021-05-01    664057  0.002498  1.963852  0.000000   \n",
       "2506108            2021-05-01    664854  0.446403  0.625770  0.000000   \n",
       "2506126            2021-05-01    605612  0.016699  1.198282  0.000000   \n",
       "2506130            2021-05-01    643778  0.000000  0.595813  0.000000   \n",
       "2506137            2021-05-01    657031  0.000394  1.527810  0.000000   \n",
       "\n",
       "          target4  index_x      date  home    gamePk  ...  saves  holds  \\\n",
       "179307   2.599964       87  20180329   0.0  529407.0  ...    0.0    0.0   \n",
       "179308   0.918550       87  20180329   0.0  529413.0  ...    0.0    0.0   \n",
       "179309   0.565661       87  20180329   0.0  529415.0  ...    0.0    0.0   \n",
       "179312   0.181634       87  20180329   0.0  529408.0  ...    0.0    0.0   \n",
       "179315   0.978230       87  20180329   0.0  529406.0  ...    0.0    0.0   \n",
       "...           ...      ...       ...   ...       ...  ...    ...    ...   \n",
       "2506034  1.285991     1215  20210430   1.0  634274.0  ...    0.0    0.0   \n",
       "2506108  0.273131     1215  20210430   0.0  634325.0  ...    0.0    0.0   \n",
       "2506126  0.739729     1215  20210430   0.0  634327.0  ...    0.0    0.0   \n",
       "2506130  0.273131     1215  20210430   0.0  634325.0  ...    0.0    0.0   \n",
       "2506137  0.842153     1215  20210430   0.0  634337.0  ...    0.0    0.0   \n",
       "\n",
       "         blownSaves  assists  putOuts  errors  chances  index_y  month  \\\n",
       "179307          0.0      5.0      3.0     1.0      9.0     87.0      3   \n",
       "179308          0.0      0.0      0.0     0.0      0.0     87.0      3   \n",
       "179309          0.0      0.0      1.0     0.0      1.0     87.0      3   \n",
       "179312          0.0      4.0      1.0     0.0      5.0     87.0      3   \n",
       "179315          0.0      0.0      0.0     0.0      0.0     87.0      3   \n",
       "...             ...      ...      ...     ...      ...      ...    ...   \n",
       "2506034         0.0      0.0      0.0     0.0      0.0   1215.0      4   \n",
       "2506108         0.0      0.0      0.0     0.0      0.0   1215.0      4   \n",
       "2506126         0.0      0.0      2.0     0.0      2.0   1215.0      4   \n",
       "2506130         0.0      0.0      0.0     0.0      0.0   1215.0      4   \n",
       "2506137         0.0      0.0      0.0     0.0      0.0   1215.0      4   \n",
       "\n",
       "         gameday  \n",
       "179307         0  \n",
       "179308         0  \n",
       "179309         0  \n",
       "179312         0  \n",
       "179315         0  \n",
       "...          ...  \n",
       "2506034        0  \n",
       "2506108        0  \n",
       "2506126        0  \n",
       "2506130        0  \n",
       "2506137        0  \n",
       "\n",
       "[182576 rows x 89 columns]"
      ]
     },
     "execution_count": 55,
     "metadata": {},
     "output_type": "execute_result"
    }
   ],
   "source": [
    "targets[targets['gameday']==0]"
   ]
  },
  {
   "cell_type": "code",
   "execution_count": 59,
   "id": "4f0af3ba",
   "metadata": {},
   "outputs": [
    {
     "data": {
      "text/plain": [
       "<AxesSubplot:xlabel='month', ylabel='target1'>"
      ]
     },
     "execution_count": 59,
     "metadata": {},
     "output_type": "execute_result"
    },
    {
     "data": {
      "image/png": "[encoded data removed]",
      "text/plain": [
       "<Figure size 1080x576 with 1 Axes>"
      ]
     },
     "metadata": {
      "needs_background": "light"
     },
     "output_type": "display_data"
    }
   ],
   "source": [
    "plt.figure(figsize=(15, 8))\n",
    "sns.violinplot(x=\"month\", y=\"target1\", data=targets)"
   ]
  },
  {
   "cell_type": "code",
   "execution_count": 26,
   "id": "8a5b4e27",
   "metadata": {},
   "outputs": [
    {
     "data": {
      "text/plain": [
       "<AxesSubplot:xlabel='gameday', ylabel='target2'>"
      ]
     },
     "execution_count": 26,
     "metadata": {},
     "output_type": "execute_result"
    },
    {
     "data": {
      "image/png": "[encoded data removed]",
      "text/plain": [
       "<Figure size 432x288 with 1 Axes>"
      ]
     },
     "metadata": {
      "needs_background": "light"
     },
     "output_type": "display_data"
    }
   ],
   "source": [
    "sns.violinplot(x=\"gameday\", y=\"target2\", data=targets)"
   ]
  },
  {
   "cell_type": "code",
   "execution_count": 28,
   "id": "ecf32856",
   "metadata": {},
   "outputs": [
    {
     "data": {
      "text/plain": [
       "<AxesSubplot:xlabel='gameday', ylabel='target3'>"
      ]
     },
     "execution_count": 28,
     "metadata": {},
     "output_type": "execute_result"
    },
    {
     "data": {
      "image/png": "[encoded data removed]",
      "text/plain": [
       "<Figure size 432x288 with 1 Axes>"
      ]
     },
     "metadata": {
      "needs_background": "light"
     },
     "output_type": "display_data"
    }
   ],
   "source": [
    "sns.violinplot(x=\"gameday\", y=\"target3\", data=targets)"
   ]
  },
  {
   "cell_type": "code",
   "execution_count": 29,
   "id": "e8b642bc",
   "metadata": {},
   "outputs": [
    {
     "data": {
      "text/plain": [
       "<AxesSubplot:xlabel='gameday', ylabel='target4'>"
      ]
     },
     "execution_count": 29,
     "metadata": {},
     "output_type": "execute_result"
    },
    {
     "data": {
      "image/png": "[encoded data removed]",
      "text/plain": [
       "<Figure size 432x288 with 1 Axes>"
      ]
     },
     "metadata": {
      "needs_background": "light"
     },
     "output_type": "display_data"
    }
   ],
   "source": [
    "sns.violinplot(x=\"gameday\", y=\"target4\", data=targets)"
   ]
  },
  {
   "cell_type": "code",
   "execution_count": null,
   "id": "32f1b9ef",
   "metadata": {},
   "outputs": [],
   "source": []
  },
  {
   "cell_type": "code",
   "execution_count": 15,
   "id": "1f109bda",
   "metadata": {},
   "outputs": [
    {
     "data": {
      "image/png": "[encoded data removed]",
      "text/plain": [
       "<Figure size 432x288 with 1 Axes>"
      ]
     },
     "metadata": {
      "needs_background": "light"
     },
     "output_type": "display_data"
    },
    {
     "data": {
      "text/html": [
       "<div>\n",
       "<style scoped>\n",
       "    .dataframe tbody tr th:only-of-type {\n",
       "        vertical-align: middle;\n",
       "    }\n",
       "\n",
       "    .dataframe tbody tr th {\n",
       "        vertical-align: top;\n",
       "    }\n",
       "\n",
       "    .dataframe thead th {\n",
       "        text-align: right;\n",
       "    }\n",
       "</style>\n",
       "<table border=\"1\" class=\"dataframe\">\n",
       "  <thead>\n",
       "    <tr style=\"text-align: right;\">\n",
       "      <th></th>\n",
       "      <th>count</th>\n",
       "      <th>mean</th>\n",
       "      <th>std</th>\n",
       "      <th>min</th>\n",
       "      <th>25%</th>\n",
       "      <th>50%</th>\n",
       "      <th>75%</th>\n",
       "      <th>max</th>\n",
       "    </tr>\n",
       "  </thead>\n",
       "  <tbody>\n",
       "    <tr>\n",
       "      <th>target1</th>\n",
       "      <td>2506176.0</td>\n",
       "      <td>0.56852</td>\n",
       "      <td>4.171841</td>\n",
       "      <td>0.0</td>\n",
       "      <td>0.0</td>\n",
       "      <td>0.001067</td>\n",
       "      <td>0.018242</td>\n",
       "      <td>100.0</td>\n",
       "    </tr>\n",
       "  </tbody>\n",
       "</table>\n",
       "</div>"
      ],
      "text/plain": [
       "             count     mean       std  min  25%       50%       75%    max\n",
       "target1  2506176.0  0.56852  4.171841  0.0  0.0  0.001067  0.018242  100.0"
      ]
     },
     "execution_count": 15,
     "metadata": {},
     "output_type": "execute_result"
    }
   ],
   "source": [
    "plt.hist(targets['target1'], bins=500)\n",
    "plt.show()\n",
    "pd.DataFrame(targets['target1']).describe().T"
   ]
  },
  {
   "cell_type": "code",
   "execution_count": 16,
   "id": "4087449e",
   "metadata": {},
   "outputs": [
    {
     "data": {
      "text/plain": [
       "[<matplotlib.lines.Line2D at 0x7fcf368b1438>]"
      ]
     },
     "execution_count": 16,
     "metadata": {},
     "output_type": "execute_result"
    },
    {
     "data": {
      "image/png": "[encoded data removed]",
      "text/plain": [
       "<Figure size 1080x288 with 1 Axes>"
      ]
     },
     "metadata": {
      "needs_background": "light"
     },
     "output_type": "display_data"
    }
   ],
   "source": [
    "plt.figure(figsize=(15, 4))\n",
    "plt.plot(pd.to_datetime(targets['date'], format=\"%Y%m%d\").values[::100], targets['target2'].values[::100])"
   ]
  },
  {
   "cell_type": "code",
   "execution_count": 17,
   "id": "010e6592",
   "metadata": {},
   "outputs": [],
   "source": [
    "# targets.sort_values('target1', ascending=False)"
   ]
  },
  {
   "cell_type": "code",
   "execution_count": 18,
   "id": "a7fe2f4e",
   "metadata": {},
   "outputs": [
    {
     "data": {
      "image/png": "[encoded data removed]",
      "text/plain": [
       "<Figure size 432x288 with 1 Axes>"
      ]
     },
     "metadata": {
      "needs_background": "light"
     },
     "output_type": "display_data"
    },
    {
     "data": {
      "text/html": [
       "<div>\n",
       "<style scoped>\n",
       "    .dataframe tbody tr th:only-of-type {\n",
       "        vertical-align: middle;\n",
       "    }\n",
       "\n",
       "    .dataframe tbody tr th {\n",
       "        vertical-align: top;\n",
       "    }\n",
       "\n",
       "    .dataframe thead th {\n",
       "        text-align: right;\n",
       "    }\n",
       "</style>\n",
       "<table border=\"1\" class=\"dataframe\">\n",
       "  <thead>\n",
       "    <tr style=\"text-align: right;\">\n",
       "      <th></th>\n",
       "      <th>count</th>\n",
       "      <th>mean</th>\n",
       "      <th>std</th>\n",
       "      <th>min</th>\n",
       "      <th>25%</th>\n",
       "      <th>50%</th>\n",
       "      <th>75%</th>\n",
       "      <th>max</th>\n",
       "    </tr>\n",
       "  </thead>\n",
       "  <tbody>\n",
       "    <tr>\n",
       "      <th>target2</th>\n",
       "      <td>2506176.0</td>\n",
       "      <td>2.45611</td>\n",
       "      <td>6.234965</td>\n",
       "      <td>0.0</td>\n",
       "      <td>0.076988</td>\n",
       "      <td>0.556174</td>\n",
       "      <td>2.23605</td>\n",
       "      <td>100.0</td>\n",
       "    </tr>\n",
       "  </tbody>\n",
       "</table>\n",
       "</div>"
      ],
      "text/plain": [
       "             count     mean       std  min       25%       50%      75%    max\n",
       "target2  2506176.0  2.45611  6.234965  0.0  0.076988  0.556174  2.23605  100.0"
      ]
     },
     "execution_count": 18,
     "metadata": {},
     "output_type": "execute_result"
    }
   ],
   "source": [
    "plt.hist(targets['target2'], bins=500)\n",
    "plt.show()\n",
    "pd.DataFrame(targets['target2']).describe().T"
   ]
  },
  {
   "cell_type": "code",
   "execution_count": 19,
   "id": "60cba3f7",
   "metadata": {},
   "outputs": [
    {
     "data": {
      "text/plain": [
       "[<matplotlib.lines.Line2D at 0x7fcf3642ee80>]"
      ]
     },
     "execution_count": 19,
     "metadata": {},
     "output_type": "execute_result"
    },
    {
     "data": {
      "image/png": "[encoded data removed]",
      "text/plain": [
       "<Figure size 1080x288 with 1 Axes>"
      ]
     },
     "metadata": {
      "needs_background": "light"
     },
     "output_type": "display_data"
    }
   ],
   "source": [
    "plt.figure(figsize=(15, 4))\n",
    "plt.plot(pd.to_datetime(targets['date'], format=\"%Y%m%d\").values[::100], targets['target3'].values[::100])"
   ]
  },
  {
   "cell_type": "code",
   "execution_count": 20,
   "id": "01418e80",
   "metadata": {},
   "outputs": [
    {
     "data": {
      "image/png": "[encoded data removed]",
      "text/plain": [
       "<Figure size 432x288 with 1 Axes>"
      ]
     },
     "metadata": {
      "needs_background": "light"
     },
     "output_type": "display_data"
    },
    {
     "data": {
      "text/html": [
       "<div>\n",
       "<style scoped>\n",
       "    .dataframe tbody tr th:only-of-type {\n",
       "        vertical-align: middle;\n",
       "    }\n",
       "\n",
       "    .dataframe tbody tr th {\n",
       "        vertical-align: top;\n",
       "    }\n",
       "\n",
       "    .dataframe thead th {\n",
       "        text-align: right;\n",
       "    }\n",
       "</style>\n",
       "<table border=\"1\" class=\"dataframe\">\n",
       "  <thead>\n",
       "    <tr style=\"text-align: right;\">\n",
       "      <th></th>\n",
       "      <th>count</th>\n",
       "      <th>mean</th>\n",
       "      <th>std</th>\n",
       "      <th>min</th>\n",
       "      <th>25%</th>\n",
       "      <th>50%</th>\n",
       "      <th>75%</th>\n",
       "      <th>max</th>\n",
       "    </tr>\n",
       "  </thead>\n",
       "  <tbody>\n",
       "    <tr>\n",
       "      <th>target3</th>\n",
       "      <td>2506176.0</td>\n",
       "      <td>0.688049</td>\n",
       "      <td>5.065297</td>\n",
       "      <td>0.0</td>\n",
       "      <td>0.0</td>\n",
       "      <td>0.001692</td>\n",
       "      <td>0.020836</td>\n",
       "      <td>100.0</td>\n",
       "    </tr>\n",
       "  </tbody>\n",
       "</table>\n",
       "</div>"
      ],
      "text/plain": [
       "             count      mean       std  min  25%       50%       75%    max\n",
       "target3  2506176.0  0.688049  5.065297  0.0  0.0  0.001692  0.020836  100.0"
      ]
     },
     "execution_count": 20,
     "metadata": {},
     "output_type": "execute_result"
    }
   ],
   "source": [
    "plt.hist(targets['target3'], bins=500)\n",
    "plt.show()\n",
    "pd.DataFrame(targets['target3']).describe().T"
   ]
  },
  {
   "cell_type": "code",
   "execution_count": 21,
   "id": "fc083f02",
   "metadata": {},
   "outputs": [
    {
     "data": {
      "text/plain": [
       "[<matplotlib.lines.Line2D at 0x7fcf19baa7b8>]"
      ]
     },
     "execution_count": 21,
     "metadata": {},
     "output_type": "execute_result"
    },
    {
     "data": {
      "image/png": "[encoded data removed]",
      "text/plain": [
       "<Figure size 1080x288 with 1 Axes>"
      ]
     },
     "metadata": {
      "needs_background": "light"
     },
     "output_type": "display_data"
    }
   ],
   "source": [
    "plt.figure(figsize=(15, 4))\n",
    "plt.plot(pd.to_datetime(targets['date'], format=\"%Y%m%d\").values[::100], targets['target4'].values[::100])"
   ]
  },
  {
   "cell_type": "code",
   "execution_count": 23,
   "id": "40528b24",
   "metadata": {},
   "outputs": [
    {
     "data": {
      "image/png": "[encoded data removed]",
      "text/plain": [
       "<Figure size 432x288 with 1 Axes>"
      ]
     },
     "metadata": {
      "needs_background": "light"
     },
     "output_type": "display_data"
    },
    {
     "data": {
      "text/html": [
       "<div>\n",
       "<style scoped>\n",
       "    .dataframe tbody tr th:only-of-type {\n",
       "        vertical-align: middle;\n",
       "    }\n",
       "\n",
       "    .dataframe tbody tr th {\n",
       "        vertical-align: top;\n",
       "    }\n",
       "\n",
       "    .dataframe thead th {\n",
       "        text-align: right;\n",
       "    }\n",
       "</style>\n",
       "<table border=\"1\" class=\"dataframe\">\n",
       "  <thead>\n",
       "    <tr style=\"text-align: right;\">\n",
       "      <th></th>\n",
       "      <th>count</th>\n",
       "      <th>mean</th>\n",
       "      <th>std</th>\n",
       "      <th>min</th>\n",
       "      <th>25%</th>\n",
       "      <th>50%</th>\n",
       "      <th>75%</th>\n",
       "      <th>max</th>\n",
       "    </tr>\n",
       "  </thead>\n",
       "  <tbody>\n",
       "    <tr>\n",
       "      <th>target4</th>\n",
       "      <td>2506176.0</td>\n",
       "      <td>1.137044</td>\n",
       "      <td>4.22992</td>\n",
       "      <td>0.0</td>\n",
       "      <td>0.054054</td>\n",
       "      <td>0.223354</td>\n",
       "      <td>0.757661</td>\n",
       "      <td>100.0</td>\n",
       "    </tr>\n",
       "  </tbody>\n",
       "</table>\n",
       "</div>"
      ],
      "text/plain": [
       "             count      mean      std  min       25%       50%       75%  \\\n",
       "target4  2506176.0  1.137044  4.22992  0.0  0.054054  0.223354  0.757661   \n",
       "\n",
       "           max  \n",
       "target4  100.0  "
      ]
     },
     "execution_count": 23,
     "metadata": {},
     "output_type": "execute_result"
    }
   ],
   "source": [
    "plt.hist(targets['target4'], bins=500)\n",
    "plt.show()\n",
    "pd.DataFrame(targets['target4']).describe().T"
   ]
  },
  {
   "cell_type": "code",
   "execution_count": null,
   "id": "0ce6cbf1",
   "metadata": {},
   "outputs": [],
   "source": []
  },
  {
   "cell_type": "code",
   "execution_count": 25,
   "id": "24be9048",
   "metadata": {},
   "outputs": [],
   "source": [
    "# pt = PowerTransformer()"
   ]
  },
  {
   "cell_type": "code",
   "execution_count": 30,
   "id": "4bb1a8ba",
   "metadata": {},
   "outputs": [],
   "source": [
    "# target4_norm = pt.fit_transform(targets['target4'].values.reshape(-1,1)).reshape(-1)"
   ]
  },
  {
   "cell_type": "code",
   "execution_count": 31,
   "id": "89f0ecd9",
   "metadata": {},
   "outputs": [
    {
     "data": {
      "image/png": "[encoded data removed]",
      "text/plain": [
       "<Figure size 432x288 with 1 Axes>"
      ]
     },
     "metadata": {
      "needs_background": "light"
     },
     "output_type": "display_data"
    },
    {
     "data": {
      "text/html": [
       "<div>\n",
       "<style scoped>\n",
       "    .dataframe tbody tr th:only-of-type {\n",
       "        vertical-align: middle;\n",
       "    }\n",
       "\n",
       "    .dataframe tbody tr th {\n",
       "        vertical-align: top;\n",
       "    }\n",
       "\n",
       "    .dataframe thead th {\n",
       "        text-align: right;\n",
       "    }\n",
       "</style>\n",
       "<table border=\"1\" class=\"dataframe\">\n",
       "  <thead>\n",
       "    <tr style=\"text-align: right;\">\n",
       "      <th></th>\n",
       "      <th>count</th>\n",
       "      <th>mean</th>\n",
       "      <th>std</th>\n",
       "      <th>min</th>\n",
       "      <th>25%</th>\n",
       "      <th>50%</th>\n",
       "      <th>75%</th>\n",
       "      <th>max</th>\n",
       "    </tr>\n",
       "  </thead>\n",
       "  <tbody>\n",
       "    <tr>\n",
       "      <th>0</th>\n",
       "      <td>2506176.0</td>\n",
       "      <td>6.218315e-16</td>\n",
       "      <td>1.0</td>\n",
       "      <td>-0.726575</td>\n",
       "      <td>-0.638461</td>\n",
       "      <td>-0.389172</td>\n",
       "      <td>0.217345</td>\n",
       "      <td>6.997601</td>\n",
       "    </tr>\n",
       "  </tbody>\n",
       "</table>\n",
       "</div>"
      ],
      "text/plain": [
       "       count          mean  std       min       25%       50%       75%  \\\n",
       "0  2506176.0  6.218315e-16  1.0 -0.726575 -0.638461 -0.389172  0.217345   \n",
       "\n",
       "        max  \n",
       "0  6.997601  "
      ]
     },
     "execution_count": 31,
     "metadata": {},
     "output_type": "execute_result"
    }
   ],
   "source": [
    "# plt.hist(target4_norm, bins=500)\n",
    "# plt.show()\n",
    "# pd.DataFrame(target4_norm).describe().T"
   ]
  },
  {
   "cell_type": "code",
   "execution_count": null,
   "id": "18cb5728",
   "metadata": {},
   "outputs": [],
   "source": []
  }
 ],
 "metadata": {
  "kernelspec": {
   "display_name": "Python 3",
   "language": "python",
   "name": "python3"
  },
  "language_info": {
   "codemirror_mode": {
    "name": "ipython",
    "version": 3
   },
   "file_extension": ".py",
   "mimetype": "text/x-python",
   "name": "python",
   "nbconvert_exporter": "python",
   "pygments_lexer": "ipython3",
   "version": "3.6.13"
  }
 },
 "nbformat": 4,
 "nbformat_minor": 5
}
