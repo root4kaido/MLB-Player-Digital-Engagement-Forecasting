{
 "cells": [
  {
   "cell_type": "code",
   "execution_count": 1,
   "id": "129ea1f1",
   "metadata": {},
   "outputs": [],
   "source": [
    "import gc\n",
    "import os\n",
    "import sys\n",
    "import math\n",
    "import random\n",
    "import warnings\n",
    "import pickle\n",
    "from pathlib import Path\n",
    "from joblib import Parallel, delayed\n",
    "from statsmodels.tsa.deterministic import (CalendarFourier,\n",
    "                                           CalendarSeasonality,\n",
    "                                           CalendarTimeTrend,\n",
    "                                           DeterministicProcess)\n",
    "\n",
    "from tqdm import tqdm\n",
    "import os\n",
    "import ipywidgets as widgets\n",
    "import matplotlib.pyplot as plt\n",
    "import numpy as np\n",
    "import pandas as pd\n",
    "import seaborn as sns\n",
    "# from pandarallel import pandarallel\n",
    "# pandarallel.initialize()\n",
    "warnings.simplefilter(\"ignore\")\n",
    "import ctypes as ct\n",
    "from datetime import timedelta\n",
    "\n",
    "from sklearn.metrics import mean_absolute_error\n",
    "\n",
    "import statistics as st\n",
    "import lightgbm as lgbm\n",
    "from scipy.stats import norm"
   ]
  },
  {
   "cell_type": "code",
   "execution_count": 2,
   "id": "03fe7edd",
   "metadata": {},
   "outputs": [],
   "source": [
    "sys.path.append('../../')\n",
    "import src.utils as utils"
   ]
  },
  {
   "cell_type": "markdown",
   "id": "f5898f23",
   "metadata": {},
   "source": [
    "## Param"
   ]
  },
  {
   "cell_type": "code",
   "execution_count": 44,
   "id": "6292f7c8",
   "metadata": {},
   "outputs": [],
   "source": [
    "EXP_NUM = 63\n",
    "NFOLDS = 5\n",
    "ISGAMEDAY = 1\n",
    "SEED = 42"
   ]
  },
  {
   "cell_type": "code",
   "execution_count": 4,
   "id": "a1bd7e83",
   "metadata": {},
   "outputs": [],
   "source": [
    "targets_cols = ['playerId', 'target1', 'target2', 'target3', 'target4', 'date']\n",
    "players_cols = ['playerId', 'primaryPositionName', 'birthCity', 'DOY', 'mlbDebutYear', 'DebutAge', 'heightInches', 'weight', 'playerForTestSetAndFuturePreds']\n",
    "rosters_cols = ['playerId', 'teamId', 'status', 'date']\n",
    "salaries_cols = ['teamId', 'salary', 'year']\n",
    "standings_cols = ['teamId', 'wildCardRank', 'sportGamesBack', 'date']\n",
    "transactions_cols = ['playerId', 'transaction_flag', 'date']\n",
    "scores_cols = ['playerId', 'battingOrder', 'gamesPlayedBatting', 'flyOuts',\n",
    "       'groundOuts', 'runsScored', 'doubles', 'triples', 'homeRuns',\n",
    "       'strikeOuts', 'baseOnBalls', 'intentionalWalks', 'hits', 'hitByPitch',\n",
    "       'atBats', 'caughtStealing', 'stolenBases', 'groundIntoDoublePlay',\n",
    "       'groundIntoTriplePlay', 'plateAppearances', 'totalBases', 'rbi',\n",
    "       'leftOnBase', 'sacBunts', 'sacFlies', 'catchersInterference',\n",
    "       'pickoffs', 'gamesPlayedPitching', 'gamesStartedPitching',\n",
    "       'completeGamesPitching', 'shutoutsPitching', 'winsPitching',\n",
    "       'lossesPitching', 'flyOutsPitching', 'airOutsPitching',\n",
    "       'groundOutsPitching', 'runsPitching', 'doublesPitching',\n",
    "       'triplesPitching', 'homeRunsPitching', 'strikeOutsPitching',\n",
    "       'baseOnBallsPitching', 'intentionalWalksPitching', 'hitsPitching',\n",
    "       'hitByPitchPitching', 'atBatsPitching', 'caughtStealingPitching',\n",
    "       'stolenBasesPitching', 'inningsPitched', 'saveOpportunities',\n",
    "       'earnedRuns', 'battersFaced', 'outsPitching', 'pitchesThrown', 'balls',\n",
    "       'strikes', 'hitBatsmen', 'balks', 'wildPitches', 'pickoffsPitching',\n",
    "       'rbiPitching', 'gamesFinishedPitching', 'inheritedRunners',\n",
    "       'inheritedRunnersScored', 'catchersInterferencePitching',\n",
    "       'sacBuntsPitching', 'sacFliesPitching', 'saves', 'holds', 'blownSaves',\n",
    "       'assists', 'putOuts', 'errors', 'chances', 'date']\n",
    "\n",
    "feature_cols1 = ['week_day','label_playerId', 'label_primaryPositionName', 'label_teamId',\n",
    "       'label_status', 'battingOrder', 'gamesPlayedBatting', 'flyOuts',\n",
    "       'groundOuts', 'runsScored', 'doubles', 'triples', 'homeRuns',\n",
    "       'strikeOuts', 'baseOnBalls', 'intentionalWalks', 'hits', 'hitByPitch',\n",
    "       'atBats', 'caughtStealing', 'stolenBases', 'groundIntoDoublePlay',\n",
    "       'groundIntoTriplePlay', 'plateAppearances', 'totalBases', 'rbi',\n",
    "       'leftOnBase', 'sacBunts', 'sacFlies', 'catchersInterference',\n",
    "       'pickoffs', 'gamesPlayedPitching', 'gamesStartedPitching',\n",
    "       'completeGamesPitching', 'shutoutsPitching', 'winsPitching',\n",
    "       'lossesPitching', 'flyOutsPitching', 'airOutsPitching',\n",
    "       'groundOutsPitching', 'runsPitching', 'doublesPitching',\n",
    "       'triplesPitching', 'homeRunsPitching', 'strikeOutsPitching',\n",
    "       'baseOnBallsPitching', 'intentionalWalksPitching', 'hitsPitching',\n",
    "       'hitByPitchPitching', 'atBatsPitching', 'caughtStealingPitching',\n",
    "       'stolenBasesPitching', 'inningsPitched', 'saveOpportunities',\n",
    "       'earnedRuns', 'battersFaced', 'outsPitching', 'pitchesThrown', 'balls',\n",
    "       'strikes', 'hitBatsmen', 'balks', 'wildPitches', 'pickoffsPitching',\n",
    "       'rbiPitching', 'gamesFinishedPitching', 'inheritedRunners',\n",
    "       'inheritedRunnersScored', 'catchersInterferencePitching',\n",
    "       'sacBuntsPitching', 'sacFliesPitching', 'saves', 'holds', 'blownSaves',\n",
    "       'assists', 'putOuts', 'errors', 'chances',\n",
    "        \"target1_mean\",\"target1_median\",\"target1_std\",\"target1_min\",\"target1_max\",\"target1_skew\",\"target1_kurt\",\n",
    "         \"target2_mean\",\"target2_median\",\"target2_std\",\"target2_min\",\"target2_max\",\"target2_skew\",\"target2_kurt\",\n",
    "        \"target3_mean\",\"target3_median\",\"target3_std\",\"target3_min\",\"target3_max\",\"target3_skew\",\"target3_kurt\",\n",
    "        \"target4_mean\",\"target4_median\",\"target4_std\",\"target4_min\",\"target4_max\",\"target4_skew\",\"target4_kurt\", \n",
    "        'season_info', 'wildCardRank', 'label_awardName'] \n",
    "\n",
    "feature_cols2 = ['label_playerId', 'label_primaryPositionName', 'label_teamId',\n",
    "       'label_status', 'battingOrder', 'gamesPlayedBatting', 'flyOuts',\n",
    "       'groundOuts', 'runsScored', 'doubles', 'triples', 'homeRuns',\n",
    "       'strikeOuts', 'baseOnBalls', 'intentionalWalks', 'hits', 'hitByPitch',\n",
    "       'atBats', 'caughtStealing', 'stolenBases', 'groundIntoDoublePlay',\n",
    "       'groundIntoTriplePlay', 'plateAppearances', 'totalBases', 'rbi',\n",
    "       'leftOnBase', 'sacBunts', 'sacFlies', 'catchersInterference',\n",
    "       'pickoffs', 'gamesPlayedPitching', 'gamesStartedPitching',\n",
    "       'completeGamesPitching', 'shutoutsPitching', 'winsPitching',\n",
    "       'lossesPitching', 'flyOutsPitching', 'airOutsPitching',\n",
    "       'groundOutsPitching', 'runsPitching', 'doublesPitching',\n",
    "       'triplesPitching', 'homeRunsPitching', 'strikeOutsPitching',\n",
    "       'baseOnBallsPitching', 'intentionalWalksPitching', 'hitsPitching',\n",
    "       'hitByPitchPitching', 'atBatsPitching', 'caughtStealingPitching',\n",
    "       'stolenBasesPitching', 'inningsPitched', 'saveOpportunities',\n",
    "       'earnedRuns', 'battersFaced', 'outsPitching', 'pitchesThrown', 'balls',\n",
    "       'strikes', 'hitBatsmen', 'balks', 'wildPitches', 'pickoffsPitching',\n",
    "       'rbiPitching', 'gamesFinishedPitching', 'inheritedRunners',\n",
    "       'inheritedRunnersScored', 'catchersInterferencePitching',\n",
    "       'sacBuntsPitching', 'sacFliesPitching', 'saves', 'holds', 'blownSaves',\n",
    "       'assists', 'putOuts', 'errors', 'chances',\n",
    "        \"target1_mean\",\"target1_median\",\"target1_std\",\"target1_min\",\"target1_max\",\"target1_skew\",\"target1_kurt\",\n",
    "         \"target2_mean\",\"target2_median\",\"target2_std\",\"target2_min\",\"target2_max\",\"target2_skew\",\"target2_kurt\",\n",
    "        \"target3_mean\",\"target3_median\",\"target3_std\",\"target3_min\",\"target3_max\",\"target3_skew\",\"target3_kurt\",\n",
    "        \"target4_mean\",\"target4_median\",\"target4_std\",\"target4_min\",\"target4_max\",\"target4_skew\",\"target4_kurt\", \n",
    "        'season_info', 'wildCardRank', 'label_awardName'] \n",
    "\n",
    "feature_cols3 = ['week_day','label_playerId', 'label_primaryPositionName', 'label_teamId',\n",
    "       'label_status', 'battingOrder', 'gamesPlayedBatting', 'flyOuts',\n",
    "       'groundOuts', 'runsScored', 'doubles', 'triples', 'homeRuns',\n",
    "       'strikeOuts', 'baseOnBalls', 'intentionalWalks', 'hits', 'hitByPitch',\n",
    "       'atBats', 'caughtStealing', 'stolenBases', 'groundIntoDoublePlay',\n",
    "       'groundIntoTriplePlay', 'plateAppearances', 'totalBases', 'rbi',\n",
    "       'leftOnBase', 'sacBunts', 'sacFlies', 'catchersInterference',\n",
    "       'pickoffs', 'gamesPlayedPitching', 'gamesStartedPitching',\n",
    "       'completeGamesPitching', 'shutoutsPitching', 'winsPitching',\n",
    "       'lossesPitching', 'flyOutsPitching', 'airOutsPitching',\n",
    "       'groundOutsPitching', 'runsPitching', 'doublesPitching',\n",
    "       'triplesPitching', 'homeRunsPitching', 'strikeOutsPitching',\n",
    "       'baseOnBallsPitching', 'intentionalWalksPitching', 'hitsPitching',\n",
    "       'hitByPitchPitching', 'atBatsPitching', 'caughtStealingPitching',\n",
    "       'stolenBasesPitching', 'inningsPitched', 'saveOpportunities',\n",
    "       'earnedRuns', 'battersFaced', 'outsPitching', 'pitchesThrown', 'balls',\n",
    "       'strikes', 'hitBatsmen', 'balks', 'wildPitches', 'pickoffsPitching',\n",
    "       'rbiPitching', 'gamesFinishedPitching', 'inheritedRunners',\n",
    "       'inheritedRunnersScored', 'catchersInterferencePitching',\n",
    "       'sacBuntsPitching', 'sacFliesPitching', 'saves', 'holds', 'blownSaves',\n",
    "       'assists', 'putOuts', 'errors', 'chances',\n",
    "        \"target1_mean\",\"target1_median\",\"target1_std\",\"target1_min\",\"target1_max\",\"target1_skew\",\"target1_kurt\",\n",
    "         \"target2_mean\",\"target2_median\",\"target2_std\",\"target2_min\",\"target2_max\",\"target2_skew\",\"target2_kurt\",\n",
    "        \"target3_mean\",\"target3_median\",\"target3_std\",\"target3_min\",\"target3_max\",\"target3_skew\",\"target3_kurt\",\n",
    "        \"target4_mean\",\"target4_median\",\"target4_std\",\"target4_min\",\"target4_max\",\"target4_skew\",\"target4_kurt\", \n",
    "        'season_info', 'wildCardRank', 'label_awardName'] \n",
    "\n",
    "feature_cols4 = ['week_day', 'annual_day', 'month', 'label_playerId', 'label_primaryPositionName', 'label_teamId', 'label_birthCity',\n",
    "                'DOY', 'mlbDebutYear', 'DebutAge', 'heightInches', 'weight',\n",
    "       'label_status', 'battingOrder', 'gamesPlayedBatting', 'flyOuts',\n",
    "       'groundOuts', 'runsScored', 'doubles', 'triples', 'homeRuns',\n",
    "       'strikeOuts', 'baseOnBalls', 'intentionalWalks', 'hits', 'hitByPitch',\n",
    "       'atBats', 'caughtStealing', 'stolenBases', 'groundIntoDoublePlay',\n",
    "       'groundIntoTriplePlay', 'plateAppearances', 'totalBases', 'rbi',\n",
    "       'leftOnBase', 'sacBunts', 'sacFlies', 'catchersInterference',\n",
    "       'pickoffs', 'gamesPlayedPitching', 'gamesStartedPitching',\n",
    "       'completeGamesPitching', 'shutoutsPitching', 'winsPitching',\n",
    "       'lossesPitching', 'flyOutsPitching', 'airOutsPitching',\n",
    "       'groundOutsPitching', 'runsPitching', 'doublesPitching',\n",
    "       'triplesPitching', 'homeRunsPitching', 'strikeOutsPitching',\n",
    "       'baseOnBallsPitching', 'intentionalWalksPitching', 'hitsPitching',\n",
    "       'hitByPitchPitching', 'atBatsPitching', 'caughtStealingPitching',\n",
    "       'stolenBasesPitching', 'inningsPitched', 'saveOpportunities',\n",
    "       'earnedRuns', 'battersFaced', 'outsPitching', 'pitchesThrown', 'balls',\n",
    "       'strikes', 'hitBatsmen', 'balks', 'wildPitches', 'pickoffsPitching',\n",
    "       'rbiPitching', 'gamesFinishedPitching', 'inheritedRunners',\n",
    "       'inheritedRunnersScored', 'catchersInterferencePitching',\n",
    "       'sacBuntsPitching', 'sacFliesPitching', 'saves', 'holds', 'blownSaves',\n",
    "       'assists', 'putOuts', 'errors', 'chances',\n",
    "        \"target1_mean\",\"target1_median\",\"target1_std\",\"target1_min\",\"target1_max\",\"target1_skew\",\"target1_kurt\",\n",
    "         \"target2_mean\",\"target2_median\",\"target2_std\",\"target2_min\",\"target2_max\",\"target2_skew\",\"target2_kurt\",\n",
    "        \"target3_mean\",\"target3_median\",\"target3_std\",\"target3_min\",\"target3_max\",\"target3_skew\",\"target3_kurt\",\n",
    "        \"target4_mean\",\"target4_median\",\"target4_std\",\"target4_min\",\"target4_max\",\"target4_skew\",\"target4_kurt\", \n",
    "        'season_info', 'wildCardRank', 'label_awardName'] "
   ]
  },
  {
   "cell_type": "code",
   "execution_count": 5,
   "id": "ef09ef46",
   "metadata": {},
   "outputs": [],
   "source": [
    "# training lightgbm\n",
    "params1 = {\n",
    "            'random_state': SEED,\n",
    "            'objective':'mae',\n",
    "            'n_estimators': 10000,\n",
    "            'learning_rate': 0.1,\n",
    "            'max_depth': 18,\n",
    "            'min_child_weight': 8,\n",
    "            'subsample': 0.9,\n",
    "            'colsample_bytree': 0.5,\n",
    "            'reg_lambda': 0.07770060902509043,\n",
    "            'reg_alpha': 0.006917721077349456,\n",
    "            'feature_fraction': 0.5448452017199268,\n",
    "            'bagging_fraction': 0.9712581844886307,\n",
    "            'bagging_freq': 17,\n",
    "            'num_leaves': 757,\n",
    "            'min_child_samples': 38\n",
    "}\n",
    "\n",
    "\n",
    "params2 = {\n",
    "            'random_state': SEED,\n",
    "            'objective':'mae',\n",
    "            'n_estimators': 10000,\n",
    "            'learning_rate': 0.1,\n",
    "            'max_depth': 9,\n",
    "            'min_child_weight': 19,\n",
    "            'subsample': 0.7,\n",
    "            'colsample_bytree': 0.5,\n",
    "            'reg_lambda': 0.842789768469053,\n",
    "            'reg_alpha': 0.002083027512061945,\n",
    "            'feature_fraction': 0.6685585785820495,\n",
    "            'bagging_fraction': 0.24812681263609027,\n",
    "            'bagging_freq': 4,\n",
    "            'num_leaves': 300,\n",
    "            'min_child_samples': 88\n",
    "}\n",
    "\n",
    "\n",
    "params3 = {\n",
    "            'random_state': SEED,\n",
    "            'objective':'mae',\n",
    "            'n_estimators': 10000,\n",
    "            'learning_rate': 0.1,\n",
    "            'max_depth': 6,\n",
    "            'min_child_weight': 8,\n",
    "            'subsample': 0.6,\n",
    "            'colsample_bytree': 0.9,\n",
    "            'reg_lambda': 0.20136897056918007,\n",
    "            'reg_alpha': 0.12085385697554701,\n",
    "            'feature_fraction': 0.9511894033022753,\n",
    "            'bagging_fraction': 0.9078085686770417,\n",
    "            'bagging_freq': 18,\n",
    "            'num_leaves': 808,\n",
    "            'min_child_samples': 35\n",
    "}\n",
    "\n",
    "params4 = {\n",
    "            'random_state': SEED,\n",
    "            'objective':'mae',\n",
    "            'n_estimators': 10000,\n",
    "            'learning_rate': 0.1,\n",
    "            'max_depth': 16,\n",
    "            'min_child_weight': 19,\n",
    "            'subsample': 0.8,\n",
    "            'colsample_bytree': 0.6,\n",
    "            'reg_lambda': 0.9189086491671924,\n",
    "            'reg_alpha': 85.91747956919798,\n",
    "            'feature_fraction': 0.653862546945534,\n",
    "            'bagging_fraction': 0.2539878828275932,\n",
    "            'bagging_freq': 12,\n",
    "            'num_leaves': 300,\n",
    "            'min_child_samples': 92\n",
    "}"
   ]
  },
  {
   "cell_type": "code",
   "execution_count": null,
   "id": "535172a2",
   "metadata": {},
   "outputs": [],
   "source": []
  },
  {
   "cell_type": "code",
   "execution_count": 6,
   "id": "d67f1770",
   "metadata": {},
   "outputs": [],
   "source": [
    "utils.set_seed(SEED)"
   ]
  },
  {
   "cell_type": "markdown",
   "id": "7ab24f78",
   "metadata": {},
   "source": [
    "## Dir"
   ]
  },
  {
   "cell_type": "code",
   "execution_count": 7,
   "id": "504dc987",
   "metadata": {},
   "outputs": [],
   "source": [
    "DATA_DIR = Path(\"/home/knikaido/work/MLB-Player-Digital-Engagement-Forecasting/data/\")\n",
    "MAIN_DATA_DIR = DATA_DIR / 'mlb-player-digital-engagement-forecasting'\n",
    "TRAIN_DIR = MAIN_DATA_DIR / 'train'\n",
    "OUTPUT_DIR = Path('./output/')"
   ]
  },
  {
   "cell_type": "code",
   "execution_count": 8,
   "id": "5da73173",
   "metadata": {},
   "outputs": [],
   "source": [
    "players = pd.read_csv(MAIN_DATA_DIR / 'players.csv')\n",
    "\n",
    "rosters = pd.read_csv(TRAIN_DIR / 'rosters_train.csv')\n",
    "targets = pd.read_csv(TRAIN_DIR / 'nextDayPlayerEngagement_train.csv')\n",
    "scores = pd.read_csv(TRAIN_DIR / 'playerBoxScores_train.csv')\n",
    "scores = scores.groupby(['playerId', 'date']).sum().reset_index()\n",
    "seasons = pd.read_csv(MAIN_DATA_DIR / 'seasons.csv')\n",
    "salaries = pd.read_csv(MAIN_DATA_DIR / 'mlbSalaries.csv')\n",
    "teams = pd.read_csv(MAIN_DATA_DIR / 'teams.csv')\n",
    "\n",
    "standings = pd.read_csv(TRAIN_DIR / 'standings_train.csv')\n",
    "awards = pd.read_csv(TRAIN_DIR / 'awards_train.csv')\n",
    "\n",
    "playerTwitterFollowers = pd.read_csv(TRAIN_DIR / 'playerTwitterFollowers_train.csv')\n",
    "\n",
    "# events = pd.read_csv(TRAIN_DIR / 'events_train.csv')\n",
    "# events = events.groupby(['gameDate']).sum().reset_index()\n"
   ]
  },
  {
   "cell_type": "code",
   "execution_count": 9,
   "id": "13a1471e",
   "metadata": {},
   "outputs": [],
   "source": [
    "seasons = seasons.fillna('0000-00-00')\n",
    "for c_ in seasons.columns[1:]:\n",
    "    seasons[c_] = seasons[c_].str.replace('-', '').astype(int)"
   ]
  },
  {
   "cell_type": "code",
   "execution_count": 10,
   "id": "d8dc5355",
   "metadata": {},
   "outputs": [],
   "source": [
    "def calc_corr(df):\n",
    "    # 相関係数行列を作成\n",
    "    corr_mat = df.corr(method='pearson')\n",
    "\n",
    "    # 行（列）サイズを取得\n",
    "    n = corr_mat.shape[0]\n",
    "    corr_ary = []\n",
    "\n",
    "    for i in range(n):\n",
    "        for j in range(i):\n",
    "            if i == j:\n",
    "                continue\n",
    "            corr_ary.append(corr_mat.iloc[i,j])\n",
    "\n",
    "    return corr_ary"
   ]
  },
  {
   "cell_type": "code",
   "execution_count": 11,
   "id": "14512ea6",
   "metadata": {},
   "outputs": [],
   "source": [
    "def calc_probs(pid,df,temp):\n",
    "    to_append=[pid,'','','','','','','','','','','','','','','','','','','','','','','','','','','','','','','','','','']\n",
    "    targets=['target1','target2','target3','target4']\n",
    "    z=1\n",
    "    for target in targets:\n",
    "        target_prob = temp[target].tolist()\n",
    "        mean = np.mean(target_prob)\n",
    "        std = np.std(target_prob)\n",
    "        median = st.median(target_prob)\n",
    "        distribution = norm(mean, std)\n",
    "        min_weight = min(target_prob)\n",
    "        max_weight = max(target_prob)\n",
    "        values = list(np.linspace(min_weight, max_weight))\n",
    "        probabilities = [distribution.pdf(v) for v in values]\n",
    "        max_value = max(probabilities)\n",
    "        max_index = probabilities.index(max_value)\n",
    "        to_append[z]=mean\n",
    "        to_append[z+1]=median\n",
    "        to_append[z+2]=std\n",
    "        to_append[z+3]=min_weight\n",
    "        to_append[z+4]=max_weight\n",
    "        to_append[z+5]=temp[target].skew()\n",
    "        to_append[z+6]=temp[target].kurt()\n",
    "\n",
    "        z=z+7\n",
    "    corr_ = calc_corr(temp[['target1', 'target2', 'target3', 'target4']])\n",
    "    to_append[z:] = corr_  \n",
    "    df_length = len(df)\n",
    "    df.loc[df_length] = to_append\n",
    "    return df\n"
   ]
  },
  {
   "cell_type": "code",
   "execution_count": 12,
   "id": "46137567",
   "metadata": {},
   "outputs": [],
   "source": [
    "targets_train = targets.merge(rosters[rosters_cols], on=['playerId', 'date'], how='left')\n",
    "targets_train = targets_train.merge(scores[scores_cols], on=['playerId', 'date'], how='left')\n",
    "# targets_train['gameday'] = ~targets_train['battingOrder'].isna()*1\n",
    "# targets_train = targets_train[targets_train['gameday'] == ISGAMEDAY].reset_index(drop=True)\n",
    "targets_train = targets_train[(targets_train['date'] >= 20210401)]\n"
   ]
  },
  {
   "cell_type": "code",
   "execution_count": 13,
   "id": "581f7208",
   "metadata": {},
   "outputs": [],
   "source": [
    "# targets_train[targets_train['gameday']==ISGAMEDAY]"
   ]
  },
  {
   "cell_type": "code",
   "execution_count": 14,
   "id": "1be3aab1",
   "metadata": {},
   "outputs": [
    {
     "name": "stderr",
     "output_type": "stream",
     "text": [
      "100%|██████████| 2061/2061 [00:45<00:00, 44.87it/s]\n"
     ]
    }
   ],
   "source": [
    "### CREATE DATAFRAME to store probabilities\n",
    "\n",
    "playerId_list = targets_train['playerId'].unique()\n",
    "column_names = [\"playerId\", \"target1_mean\",\"target1_median\",\"target1_std\",\"target1_min\",\"target1_max\",\"target1_skew\",\"target1_kurt\",\n",
    "                \"target2_mean\",\"target2_median\",\"target2_std\",\"target2_min\",\"target2_max\",\"target2_skew\",\"target2_kurt\",\n",
    "                \"target3_mean\",\"target3_median\",\"target3_std\",\"target3_min\",\"target3_max\",\"target3_skew\",\"target3_kurt\",\n",
    "                \"target4_mean\",\"target4_median\",\"target4_std\",\"target4_min\",\"target4_max\",\"target4_skew\",\"target4_kurt\",\n",
    "                'tgt1_2_corr', 'tgt1_3_corr', 'tgt2_3_corr', 'tgt1_4_corr', 'tgt2_4_corr', 'tgt3_4_corr']\n",
    "player_target_probs = pd.DataFrame(columns = column_names)\n",
    "    \n",
    "for pid in tqdm(playerId_list):\n",
    "    temp = targets_train[targets_train['playerId'] == pid]\n",
    "    player_target_stats=calc_probs(pid,player_target_probs,temp)\n",
    "    \n",
    "data_names=player_target_stats.columns.values.tolist()"
   ]
  },
  {
   "cell_type": "code",
   "execution_count": 15,
   "id": "d26771e9",
   "metadata": {},
   "outputs": [
    {
     "name": "stderr",
     "output_type": "stream",
     "text": [
      "100%|██████████| 30/30 [00:00<00:00, 41.16it/s]\n"
     ]
    }
   ],
   "source": [
    "teamId_list = targets_train['teamId'].dropna().unique()\n",
    "team_target_probs = pd.DataFrame(columns = column_names)\n",
    "    \n",
    "for pid in tqdm(teamId_list):\n",
    "    temp = targets_train[targets_train['teamId'] == pid]\n",
    "    team_target_stats=calc_probs(pid,team_target_probs,temp)"
   ]
  },
  {
   "cell_type": "code",
   "execution_count": 16,
   "id": "010fd228",
   "metadata": {},
   "outputs": [],
   "source": [
    "c_ = list(team_target_stats.columns)\n",
    "c_ = c_[:1] + [\"team_\" + word for word in c_[1:]]\n",
    "team_target_stats.columns = c_\n",
    "\n",
    "feature_cols1 += c_[1:]\n",
    "feature_cols2 += c_[1:]\n",
    "feature_cols3 += c_[1:]\n",
    "feature_cols4 += c_[1:]"
   ]
  },
  {
   "cell_type": "code",
   "execution_count": 17,
   "id": "5dc04fc3",
   "metadata": {},
   "outputs": [],
   "source": [
    "players['DOY'] = pd.to_datetime(players['DOB'], format=\"%Y-%m-%d\").dt.year\n",
    "players['mlbDebutYear'] = pd.to_datetime(players['mlbDebutDate'], format=\"%Y-%m-%d\").dt.year\n",
    "players['DebutAge'] = players['mlbDebutYear'] - players['DOY']"
   ]
  },
  {
   "cell_type": "code",
   "execution_count": 18,
   "id": "384d5ae3",
   "metadata": {},
   "outputs": [],
   "source": [
    "# creat dataset\n",
    "train = targets[targets_cols].merge(players[players_cols], on=['playerId'], how='left')\n",
    "train = train.merge(rosters[rosters_cols], on=['playerId', 'date'], how='left')\n",
    "train = train.merge(scores[scores_cols], on=['playerId', 'date'], how='left')\n",
    "train = train.merge(player_target_stats, how='inner', left_on=[\"playerId\"],right_on=[\"playerId\"])\n",
    "train = train.merge(standings[standings_cols], on=['teamId', 'date'], how='left')\n",
    "train = train.merge(team_target_stats, how='left', left_on=[\"teamId\"],right_on=[\"playerId\"], suffixes=('', 'team_'))\n",
    "train = train.merge(awards, on=['playerId', 'date'], how='left')\n"
   ]
  },
  {
   "cell_type": "code",
   "execution_count": 19,
   "id": "a93c5e07",
   "metadata": {},
   "outputs": [],
   "source": [
    "# label encoding\n",
    "player2num = {c: i for i, c in enumerate(train['playerId'].unique())}\n",
    "position2num = {c: i for i, c in enumerate(train['primaryPositionName'].unique())}\n",
    "birthCityn2num = {c: i for i, c in enumerate(train['birthCity'].unique())}\n",
    "teamid2num = {c: i for i, c in enumerate(train['teamId'].unique())}\n",
    "status2num = {c: i for i, c in enumerate(train['status'].unique())}\n",
    "status2num = {c: i for i, c in enumerate(train['status'].unique())}\n",
    "awardName2num = {c: i for i, c in enumerate(train['awardName'].unique())}\n",
    "train['label_playerId'] = train['playerId'].map(player2num)\n",
    "train['label_primaryPositionName'] = train['primaryPositionName'].map(position2num)\n",
    "train['label_birthCity'] = train['birthCity'].map(birthCityn2num)\n",
    "train['label_teamId'] = train['teamId'].map(teamid2num)\n",
    "train['label_status'] = train['status'].map(status2num)\n",
    "train['label_awardName'] = train['awardName'].map(awardName2num)\n",
    "train['label_awardName'] = (train['label_awardName'] != 0) * 1"
   ]
  },
  {
   "cell_type": "code",
   "execution_count": 20,
   "id": "f9acf48f",
   "metadata": {},
   "outputs": [],
   "source": [
    "date_ = pd.to_datetime(train['date'], format=\"%Y%m%d\")\n",
    "train['annual_day'] = (date_ - pd.to_datetime(date_.dt.year, format=\"%Y\")) /  timedelta(days=1)\n",
    "train['week_day'] = date_.dt.weekday\n",
    "train['month'] = date_.dt.month"
   ]
  },
  {
   "cell_type": "code",
   "execution_count": 21,
   "id": "bc2bc411",
   "metadata": {},
   "outputs": [],
   "source": [
    "train['gameday'] = ~train['battingOrder'].isna()*1"
   ]
  },
  {
   "cell_type": "code",
   "execution_count": 22,
   "id": "22eef0f3",
   "metadata": {},
   "outputs": [],
   "source": [
    "train.sort_values(by=['playerId','date'],inplace=True,ascending=True)"
   ]
  },
  {
   "cell_type": "code",
   "execution_count": 23,
   "id": "7547c455",
   "metadata": {},
   "outputs": [],
   "source": [
    "def count_consecutive_items_n_cols(df, col_name_list, output_col):\n",
    "    cum_sum_list = [\n",
    "        (df[col_name] != df[col_name].shift(1)).cumsum().tolist() for col_name in col_name_list\n",
    "    ]\n",
    "    df[output_col] = df.groupby(\n",
    "        [\"_\".join(map(str, x)) for x in zip(*cum_sum_list)]\n",
    "    ).cumcount() + 1\n",
    "    return df"
   ]
  },
  {
   "cell_type": "code",
   "execution_count": 24,
   "id": "d38bb883",
   "metadata": {},
   "outputs": [],
   "source": [
    "train=count_consecutive_items_n_cols(train,['playerId','gameday'],'daysSinceLastGame')\n",
    "train.loc[train['gameday']==1,'daysSinceLastGame']=0"
   ]
  },
  {
   "cell_type": "code",
   "execution_count": 25,
   "id": "e6bfe464",
   "metadata": {},
   "outputs": [],
   "source": [
    "def extract_season(date_raw, season_start_end):\n",
    "    idxes = 0\n",
    "    for raw in season_start_end.iloc():\n",
    "        idx_ = ((date_raw >= raw.iloc[0]) & (date_raw <= raw.iloc[1])) * 1\n",
    "        idxes += idx_\n",
    "    return idxes"
   ]
  },
  {
   "cell_type": "code",
   "execution_count": 26,
   "id": "ed0d23d4",
   "metadata": {},
   "outputs": [],
   "source": [
    "on_preseason_idxes = extract_season(train['date'], seasons[['preSeasonStartDate', 'preSeasonEndDate']])\n",
    "on_season_idxes = extract_season(train['date'], seasons[['regularSeasonStartDate', 'regularSeasonEndDate']]) * 2\n",
    "on_postseason_idxes = extract_season(train['date'], seasons[['postSeasonStartDate', 'postSeasonEndDate']]) * 3\n",
    "\n",
    "special_days = seasons['lastDate1stHalf'].to_list() + seasons['allStarDate'].to_list() + seasons['firstDate2ndHalf'].to_list()\n",
    "special_idxes = 0\n",
    "for day in special_days:\n",
    "    special_idxes += (train['date'] == day) * 4\n",
    "\n",
    "on_total_season_idxes = on_preseason_idxes\n",
    "on_total_season_idxes[on_season_idxes==2] = 2\n",
    "on_total_season_idxes[on_postseason_idxes==3] = 3\n",
    "on_total_season_idxes[special_idxes==4] = 4\n",
    "\n",
    "train['season_info'] = on_total_season_idxes"
   ]
  },
  {
   "cell_type": "code",
   "execution_count": 27,
   "id": "3299c68e",
   "metadata": {},
   "outputs": [],
   "source": [
    "## only on season\n",
    "on_whole_idxes = extract_season(train['date'], seasons[['seasonStartDate', 'seasonEndDate']])\n",
    "train = train[on_whole_idxes == 1].reset_index(drop=True)"
   ]
  },
  {
   "cell_type": "code",
   "execution_count": 28,
   "id": "41b82388",
   "metadata": {},
   "outputs": [],
   "source": [
    "# train = train[train['playerForTestSetAndFuturePreds']==True].reset_index(drop=True)"
   ]
  },
  {
   "cell_type": "code",
   "execution_count": 29,
   "id": "76f60b9d",
   "metadata": {},
   "outputs": [],
   "source": [
    "train = train[train['gameday'] == ISGAMEDAY].reset_index(drop=True)"
   ]
  },
  {
   "cell_type": "code",
   "execution_count": 30,
   "id": "d8c577ad",
   "metadata": {},
   "outputs": [],
   "source": [
    "def fit_lgbm(x_train, y_train, x_valid, y_valid, params: dict=None, verbose=100):\n",
    "    oof_pred = np.zeros(len(y_valid), dtype=np.float32)\n",
    "    model = lgbm.LGBMRegressor(**params)\n",
    "    model.fit(x_train, y_train, \n",
    "        eval_set=[(x_valid, y_valid)],  \n",
    "        early_stopping_rounds=verbose, \n",
    "        verbose=verbose)\n",
    "    oof_pred = model.predict(x_valid)\n",
    "    oof_pred = np.clip(oof_pred, 0, 100)\n",
    "    score = mean_absolute_error(oof_pred, y_valid)\n",
    "    print('mae:', score)\n",
    "    return oof_pred, model, score\n"
   ]
  },
  {
   "cell_type": "code",
   "execution_count": 31,
   "id": "af779042",
   "metadata": {},
   "outputs": [],
   "source": [
    "train_X = train\n",
    "train_y = train[['target1', 'target2', 'target3', 'target4']]\n",
    "tr_idxs = []\n",
    "val_idxs = []"
   ]
  },
  {
   "cell_type": "code",
   "execution_count": 32,
   "id": "06c6dcb4",
   "metadata": {},
   "outputs": [],
   "source": [
    "tr_idx = (train['date'].astype(int) < 20191001)\n",
    "val_idx = (train['date'].astype(int) >= 20191001) & (train['date'].astype(int) < 20191030)\n",
    "tr_idxs.append(tr_idx)\n",
    "val_idxs.append(val_idx)\n",
    "\n",
    "tr_idx = (train['date'].astype(int) < 20200801)\n",
    "val_idx = (train['date'].astype(int) >= 20200801) & (train['date'].astype(int) < 20200901)\n",
    "tr_idxs.append(tr_idx)\n",
    "val_idxs.append(val_idx)\n",
    "\n",
    "tr_idx = (train['date'].astype(int) < 20200901)\n",
    "val_idx = (train['date'].astype(int) >= 20200901) & (train['date'].astype(int) < 20201001)\n",
    "tr_idxs.append(tr_idx)\n",
    "val_idxs.append(val_idx)\n",
    "\n",
    "tr_idx = (train['date'].astype(int) < 20201001)\n",
    "val_idx = (train['date'].astype(int) >= 20201001) & (train['date'].astype(int) < 20201030)\n",
    "tr_idxs.append(tr_idx)\n",
    "val_idxs.append(val_idx)\n",
    "\n",
    "\n",
    "tr_idx = (train['date'].astype(int) < 20210401)\n",
    "val_idx = ~tr_idx\n",
    "tr_idxs.append(tr_idx)\n",
    "val_idxs.append(val_idx)"
   ]
  },
  {
   "cell_type": "code",
   "execution_count": 33,
   "id": "e36a8ae4",
   "metadata": {},
   "outputs": [
    {
     "name": "stdout",
     "output_type": "stream",
     "text": [
      "[LightGBM] [Warning] feature_fraction is set=0.5448452017199268, colsample_bytree=0.5 will be ignored. Current value: feature_fraction=0.5448452017199268\n",
      "[LightGBM] [Warning] bagging_fraction is set=0.9712581844886307, subsample=0.9 will be ignored. Current value: bagging_fraction=0.9712581844886307\n",
      "[LightGBM] [Warning] bagging_freq is set=17, subsample_freq=0 will be ignored. Current value: bagging_freq=17\n",
      "Training until validation scores don't improve for 100 rounds\n",
      "[100]\tvalid_0's l1: 7.55853\n",
      "Early stopping, best iteration is:\n",
      "[97]\tvalid_0's l1: 7.55227\n",
      "mae: 7.552123485916335\n",
      "[LightGBM] [Warning] feature_fraction is set=0.6685585785820495, colsample_bytree=0.5 will be ignored. Current value: feature_fraction=0.6685585785820495\n",
      "[LightGBM] [Warning] bagging_fraction is set=0.24812681263609027, subsample=0.7 will be ignored. Current value: bagging_fraction=0.24812681263609027\n",
      "[LightGBM] [Warning] bagging_freq is set=4, subsample_freq=0 will be ignored. Current value: bagging_freq=4\n",
      "Training until validation scores don't improve for 100 rounds\n",
      "[100]\tvalid_0's l1: 6.44799\n",
      "Early stopping, best iteration is:\n",
      "[18]\tvalid_0's l1: 6.23424\n",
      "mae: 6.234243528964094\n",
      "[LightGBM] [Warning] feature_fraction is set=0.9511894033022753, colsample_bytree=0.9 will be ignored. Current value: feature_fraction=0.9511894033022753\n",
      "[LightGBM] [Warning] bagging_fraction is set=0.9078085686770417, subsample=0.6 will be ignored. Current value: bagging_fraction=0.9078085686770417\n",
      "[LightGBM] [Warning] bagging_freq is set=18, subsample_freq=0 will be ignored. Current value: bagging_freq=18\n",
      "Training until validation scores don't improve for 100 rounds\n",
      "[100]\tvalid_0's l1: 9.91457\n",
      "[200]\tvalid_0's l1: 9.74257\n",
      "[300]\tvalid_0's l1: 9.68863\n",
      "[400]\tvalid_0's l1: 9.60732\n",
      "[500]\tvalid_0's l1: 9.60133\n",
      "[600]\tvalid_0's l1: 9.5906\n",
      "[700]\tvalid_0's l1: 9.58774\n",
      "[800]\tvalid_0's l1: 9.58701\n",
      "[900]\tvalid_0's l1: 9.58827\n",
      "[1000]\tvalid_0's l1: 9.58009\n",
      "[1100]\tvalid_0's l1: 9.58652\n",
      "Early stopping, best iteration is:\n",
      "[1009]\tvalid_0's l1: 9.57964\n",
      "mae: 9.57921447816219\n",
      "[LightGBM] [Warning] feature_fraction is set=0.653862546945534, colsample_bytree=0.6 will be ignored. Current value: feature_fraction=0.653862546945534\n",
      "[LightGBM] [Warning] bagging_fraction is set=0.2539878828275932, subsample=0.8 will be ignored. Current value: bagging_fraction=0.2539878828275932\n",
      "[LightGBM] [Warning] bagging_freq is set=12, subsample_freq=0 will be ignored. Current value: bagging_freq=12\n",
      "Training until validation scores don't improve for 100 rounds\n",
      "[100]\tvalid_0's l1: 5.65843\n",
      "[200]\tvalid_0's l1: 5.65459\n",
      "Early stopping, best iteration is:\n",
      "[123]\tvalid_0's l1: 5.64595\n",
      "mae: 5.645949809330738\n",
      "score: 7.252882825593339\n",
      "[LightGBM] [Warning] feature_fraction is set=0.5448452017199268, colsample_bytree=0.5 will be ignored. Current value: feature_fraction=0.5448452017199268\n",
      "[LightGBM] [Warning] bagging_fraction is set=0.9712581844886307, subsample=0.9 will be ignored. Current value: bagging_fraction=0.9712581844886307\n",
      "[LightGBM] [Warning] bagging_freq is set=17, subsample_freq=0 will be ignored. Current value: bagging_freq=17\n",
      "Training until validation scores don't improve for 100 rounds\n",
      "[100]\tvalid_0's l1: 2.23945\n",
      "Early stopping, best iteration is:\n",
      "[28]\tvalid_0's l1: 2.17037\n",
      "mae: 2.1703688277005386\n",
      "[LightGBM] [Warning] feature_fraction is set=0.6685585785820495, colsample_bytree=0.5 will be ignored. Current value: feature_fraction=0.6685585785820495\n",
      "[LightGBM] [Warning] bagging_fraction is set=0.24812681263609027, subsample=0.7 will be ignored. Current value: bagging_fraction=0.24812681263609027\n",
      "[LightGBM] [Warning] bagging_freq is set=4, subsample_freq=0 will be ignored. Current value: bagging_freq=4\n",
      "Training until validation scores don't improve for 100 rounds\n",
      "[100]\tvalid_0's l1: 3.06309\n",
      "Early stopping, best iteration is:\n",
      "[29]\tvalid_0's l1: 3.02738\n",
      "mae: 3.0273799151740874\n",
      "[LightGBM] [Warning] feature_fraction is set=0.9511894033022753, colsample_bytree=0.9 will be ignored. Current value: feature_fraction=0.9511894033022753\n",
      "[LightGBM] [Warning] bagging_fraction is set=0.9078085686770417, subsample=0.6 will be ignored. Current value: bagging_fraction=0.9078085686770417\n",
      "[LightGBM] [Warning] bagging_freq is set=18, subsample_freq=0 will be ignored. Current value: bagging_freq=18\n",
      "Training until validation scores don't improve for 100 rounds\n",
      "[100]\tvalid_0's l1: 1.915\n",
      "Early stopping, best iteration is:\n",
      "[12]\tvalid_0's l1: 1.81586\n",
      "mae: 1.8158589699501038\n",
      "[LightGBM] [Warning] feature_fraction is set=0.653862546945534, colsample_bytree=0.6 will be ignored. Current value: feature_fraction=0.653862546945534\n",
      "[LightGBM] [Warning] bagging_fraction is set=0.2539878828275932, subsample=0.8 will be ignored. Current value: bagging_fraction=0.2539878828275932\n",
      "[LightGBM] [Warning] bagging_freq is set=12, subsample_freq=0 will be ignored. Current value: bagging_freq=12\n",
      "Training until validation scores don't improve for 100 rounds\n",
      "[100]\tvalid_0's l1: 2.16162\n",
      "Early stopping, best iteration is:\n",
      "[89]\tvalid_0's l1: 2.1553\n",
      "mae: 2.154967332753477\n",
      "score: 2.2921437613945517\n",
      "[LightGBM] [Warning] feature_fraction is set=0.5448452017199268, colsample_bytree=0.5 will be ignored. Current value: feature_fraction=0.5448452017199268\n",
      "[LightGBM] [Warning] bagging_fraction is set=0.9712581844886307, subsample=0.9 will be ignored. Current value: bagging_fraction=0.9712581844886307\n",
      "[LightGBM] [Warning] bagging_freq is set=17, subsample_freq=0 will be ignored. Current value: bagging_freq=17\n",
      "Training until validation scores don't improve for 100 rounds\n",
      "[100]\tvalid_0's l1: 2.13195\n",
      "Early stopping, best iteration is:\n",
      "[16]\tvalid_0's l1: 2.04427\n",
      "mae: 2.0442739757232693\n",
      "[LightGBM] [Warning] feature_fraction is set=0.6685585785820495, colsample_bytree=0.5 will be ignored. Current value: feature_fraction=0.6685585785820495\n",
      "[LightGBM] [Warning] bagging_fraction is set=0.24812681263609027, subsample=0.7 will be ignored. Current value: bagging_fraction=0.24812681263609027\n",
      "[LightGBM] [Warning] bagging_freq is set=4, subsample_freq=0 will be ignored. Current value: bagging_freq=4\n",
      "Training until validation scores don't improve for 100 rounds\n",
      "[100]\tvalid_0's l1: 3.01298\n",
      "Early stopping, best iteration is:\n",
      "[22]\tvalid_0's l1: 2.97181\n",
      "mae: 2.971813660867576\n",
      "[LightGBM] [Warning] feature_fraction is set=0.9511894033022753, colsample_bytree=0.9 will be ignored. Current value: feature_fraction=0.9511894033022753\n",
      "[LightGBM] [Warning] bagging_fraction is set=0.9078085686770417, subsample=0.6 will be ignored. Current value: bagging_fraction=0.9078085686770417\n",
      "[LightGBM] [Warning] bagging_freq is set=18, subsample_freq=0 will be ignored. Current value: bagging_freq=18\n",
      "Training until validation scores don't improve for 100 rounds\n",
      "[100]\tvalid_0's l1: 2.28191\n",
      "Early stopping, best iteration is:\n",
      "[56]\tvalid_0's l1: 2.27728\n",
      "mae: 2.277269282130824\n",
      "[LightGBM] [Warning] feature_fraction is set=0.653862546945534, colsample_bytree=0.6 will be ignored. Current value: feature_fraction=0.653862546945534\n",
      "[LightGBM] [Warning] bagging_fraction is set=0.2539878828275932, subsample=0.8 will be ignored. Current value: bagging_fraction=0.2539878828275932\n",
      "[LightGBM] [Warning] bagging_freq is set=12, subsample_freq=0 will be ignored. Current value: bagging_freq=12\n",
      "Training until validation scores don't improve for 100 rounds\n",
      "[100]\tvalid_0's l1: 2.02822\n",
      "[200]\tvalid_0's l1: 2.02836\n",
      "Early stopping, best iteration is:\n",
      "[163]\tvalid_0's l1: 2.02389\n",
      "mae: 2.022782602223527\n",
      "score: 2.329034880236299\n",
      "[LightGBM] [Warning] feature_fraction is set=0.5448452017199268, colsample_bytree=0.5 will be ignored. Current value: feature_fraction=0.5448452017199268\n",
      "[LightGBM] [Warning] bagging_fraction is set=0.9712581844886307, subsample=0.9 will be ignored. Current value: bagging_fraction=0.9712581844886307\n",
      "[LightGBM] [Warning] bagging_freq is set=17, subsample_freq=0 will be ignored. Current value: bagging_freq=17\n",
      "Training until validation scores don't improve for 100 rounds\n",
      "[100]\tvalid_0's l1: 7.00083\n",
      "Early stopping, best iteration is:\n",
      "[83]\tvalid_0's l1: 6.98936\n",
      "mae: 6.988631646520823\n",
      "[LightGBM] [Warning] feature_fraction is set=0.6685585785820495, colsample_bytree=0.5 will be ignored. Current value: feature_fraction=0.6685585785820495\n",
      "[LightGBM] [Warning] bagging_fraction is set=0.24812681263609027, subsample=0.7 will be ignored. Current value: bagging_fraction=0.24812681263609027\n",
      "[LightGBM] [Warning] bagging_freq is set=4, subsample_freq=0 will be ignored. Current value: bagging_freq=4\n",
      "Training until validation scores don't improve for 100 rounds\n",
      "[100]\tvalid_0's l1: 5.76684\n",
      "Early stopping, best iteration is:\n",
      "[10]\tvalid_0's l1: 5.38468\n",
      "mae: 5.384677525132747\n",
      "[LightGBM] [Warning] feature_fraction is set=0.9511894033022753, colsample_bytree=0.9 will be ignored. Current value: feature_fraction=0.9511894033022753\n",
      "[LightGBM] [Warning] bagging_fraction is set=0.9078085686770417, subsample=0.6 will be ignored. Current value: bagging_fraction=0.9078085686770417\n",
      "[LightGBM] [Warning] bagging_freq is set=18, subsample_freq=0 will be ignored. Current value: bagging_freq=18\n",
      "Training until validation scores don't improve for 100 rounds\n",
      "[100]\tvalid_0's l1: 6.2927\n",
      "[200]\tvalid_0's l1: 6.27691\n",
      "Early stopping, best iteration is:\n",
      "[175]\tvalid_0's l1: 6.22402\n",
      "mae: 6.223944106655036\n",
      "[LightGBM] [Warning] feature_fraction is set=0.653862546945534, colsample_bytree=0.6 will be ignored. Current value: feature_fraction=0.653862546945534\n",
      "[LightGBM] [Warning] bagging_fraction is set=0.2539878828275932, subsample=0.8 will be ignored. Current value: bagging_fraction=0.2539878828275932\n",
      "[LightGBM] [Warning] bagging_freq is set=12, subsample_freq=0 will be ignored. Current value: bagging_freq=12\n",
      "Training until validation scores don't improve for 100 rounds\n",
      "[100]\tvalid_0's l1: 6.86311\n",
      "[200]\tvalid_0's l1: 6.73837\n",
      "[300]\tvalid_0's l1: 6.70125\n",
      "[400]\tvalid_0's l1: 6.68451\n",
      "[500]\tvalid_0's l1: 6.66582\n",
      "[600]\tvalid_0's l1: 6.64153\n",
      "[700]\tvalid_0's l1: 6.63299\n",
      "Early stopping, best iteration is:\n",
      "[671]\tvalid_0's l1: 6.62824\n",
      "mae: 6.62819921470884\n",
      "score: 6.3063631232543615\n",
      "[LightGBM] [Warning] feature_fraction is set=0.5448452017199268, colsample_bytree=0.5 will be ignored. Current value: feature_fraction=0.5448452017199268\n",
      "[LightGBM] [Warning] bagging_fraction is set=0.9712581844886307, subsample=0.9 will be ignored. Current value: bagging_fraction=0.9712581844886307\n",
      "[LightGBM] [Warning] bagging_freq is set=17, subsample_freq=0 will be ignored. Current value: bagging_freq=17\n",
      "Training until validation scores don't improve for 100 rounds\n",
      "[100]\tvalid_0's l1: 2.68885\n",
      "[200]\tvalid_0's l1: 2.69126\n",
      "Early stopping, best iteration is:\n",
      "[129]\tvalid_0's l1: 2.68766\n",
      "mae: 2.686971292318813\n",
      "[LightGBM] [Warning] feature_fraction is set=0.6685585785820495, colsample_bytree=0.5 will be ignored. Current value: feature_fraction=0.6685585785820495\n",
      "[LightGBM] [Warning] bagging_fraction is set=0.24812681263609027, subsample=0.7 will be ignored. Current value: bagging_fraction=0.24812681263609027\n",
      "[LightGBM] [Warning] bagging_freq is set=4, subsample_freq=0 will be ignored. Current value: bagging_freq=4\n",
      "Training until validation scores don't improve for 100 rounds\n",
      "[100]\tvalid_0's l1: 2.92854\n",
      "Early stopping, best iteration is:\n",
      "[19]\tvalid_0's l1: 2.85476\n",
      "mae: 2.8547640229909144\n",
      "[LightGBM] [Warning] feature_fraction is set=0.9511894033022753, colsample_bytree=0.9 will be ignored. Current value: feature_fraction=0.9511894033022753\n",
      "[LightGBM] [Warning] bagging_fraction is set=0.9078085686770417, subsample=0.6 will be ignored. Current value: bagging_fraction=0.9078085686770417\n",
      "[LightGBM] [Warning] bagging_freq is set=18, subsample_freq=0 will be ignored. Current value: bagging_freq=18\n",
      "Training until validation scores don't improve for 100 rounds\n",
      "[100]\tvalid_0's l1: 1.89803\n",
      "Early stopping, best iteration is:\n",
      "[61]\tvalid_0's l1: 1.89403\n",
      "mae: 1.89402174330993\n",
      "[LightGBM] [Warning] feature_fraction is set=0.653862546945534, colsample_bytree=0.6 will be ignored. Current value: feature_fraction=0.653862546945534\n",
      "[LightGBM] [Warning] bagging_fraction is set=0.2539878828275932, subsample=0.8 will be ignored. Current value: bagging_fraction=0.2539878828275932\n",
      "[LightGBM] [Warning] bagging_freq is set=12, subsample_freq=0 will be ignored. Current value: bagging_freq=12\n",
      "Training until validation scores don't improve for 100 rounds\n",
      "[100]\tvalid_0's l1: 2.36723\n",
      "Early stopping, best iteration is:\n",
      "[72]\tvalid_0's l1: 2.3547\n",
      "mae: 2.3546206876962135\n",
      "score: 2.4475944365789677\n"
     ]
    }
   ],
   "source": [
    "model1s = []\n",
    "model2s = []\n",
    "model3s = []\n",
    "model4s = []\n",
    "oof = np.zeros(train_y.shape) - 1.0\n",
    "y_valids = np.zeros(train_y.shape) - 1.0\n",
    "\n",
    "for idx in range(NFOLDS):\n",
    "    \n",
    "    tr_idx = tr_idxs[idx]\n",
    "    val_idx = val_idxs[idx]\n",
    "\n",
    "    x_train = train_X.loc[tr_idx].reset_index(drop=True)\n",
    "    y_train = train_y.loc[tr_idx].reset_index(drop=True)\n",
    "    x_valid = train_X.loc[val_idx].reset_index(drop=True)\n",
    "    y_valid = train_y.loc[val_idx].reset_index(drop=True)\n",
    "\n",
    "\n",
    "    oof1, model1, score1 = fit_lgbm(\n",
    "        x_train[feature_cols1], y_train['target1'],\n",
    "        x_valid[feature_cols1], y_valid['target1'],\n",
    "        params1\n",
    "    )\n",
    "    oof2, model2, score2 = fit_lgbm(\n",
    "        x_train[feature_cols2], y_train['target2'],\n",
    "        x_valid[feature_cols2], y_valid['target2'],\n",
    "        params2\n",
    "    )\n",
    "    oof3, model3, score3 = fit_lgbm(\n",
    "        x_train[feature_cols3], y_train['target3'],\n",
    "        x_valid[feature_cols3], y_valid['target3'],\n",
    "        params3\n",
    "    )\n",
    "    oof4, model4, score4 = fit_lgbm(\n",
    "        x_train[feature_cols4], y_train['target4'],\n",
    "        x_valid[feature_cols4], y_valid['target4'],\n",
    "        params4\n",
    "    )\n",
    "\n",
    "    score = (score1+score2+score3+score4) / 4\n",
    "    print(f'score: {score}')\n",
    "    \n",
    "    model1s.append(model1)\n",
    "    model2s.append(model2)\n",
    "    model3s.append(model3)\n",
    "    model4s.append(model4)\n",
    "    oof[val_idx, 0] = oof1\n",
    "    oof[val_idx, 1] = oof2\n",
    "    oof[val_idx, 2] = oof3\n",
    "    oof[val_idx, 3] = oof4\n",
    "    y_valids[val_idx, 0] = y_valid['target1'].values\n",
    "    y_valids[val_idx, 1] = y_valid['target2'].values\n",
    "    y_valids[val_idx, 2] = y_valid['target3'].values\n",
    "    y_valids[val_idx, 3] = y_valid['target4'].values\n",
    "    \n"
   ]
  },
  {
   "cell_type": "code",
   "execution_count": 34,
   "id": "e71f5743",
   "metadata": {},
   "outputs": [],
   "source": [
    "oof_indexes = []\n",
    "for i in range(NFOLDS):\n",
    "    oof_indexes.extend(val_idxs[i][val_idxs[i]==True].index.to_list())"
   ]
  },
  {
   "cell_type": "code",
   "execution_count": 35,
   "id": "6de86e3f",
   "metadata": {},
   "outputs": [
    {
     "name": "stdout",
     "output_type": "stream",
     "text": [
      "mae: 2.6472169388100015\n"
     ]
    }
   ],
   "source": [
    "y_valids[val_idx, :]\n",
    "mae = mean_absolute_error(y_valids[oof_indexes, :], oof[oof_indexes, :])\n",
    "print(\"mae:\", mae)"
   ]
  },
  {
   "cell_type": "code",
   "execution_count": 36,
   "id": "843b9199",
   "metadata": {},
   "outputs": [],
   "source": [
    "oof_df = train[targets_cols]\n",
    "oof_df.iloc[oof_indexes, 1:5] = oof[oof_indexes, :]"
   ]
  },
  {
   "cell_type": "code",
   "execution_count": 45,
   "id": "d86cc1f2",
   "metadata": {},
   "outputs": [],
   "source": [
    "oof_df.iloc[oof_indexes].to_csv(OUTPUT_DIR / f'oof{EXP_NUM}_gameday.csv')"
   ]
  },
  {
   "cell_type": "code",
   "execution_count": 46,
   "id": "8c1b026d",
   "metadata": {},
   "outputs": [],
   "source": [
    "models = np.array([model1s, model2s, model3s, model4s])\n",
    "with open(OUTPUT_DIR / f\"models{EXP_NUM}_gameday.pickle\", mode=\"wb\") as f:\n",
    "    pickle.dump(models, f)"
   ]
  },
  {
   "cell_type": "code",
   "execution_count": 39,
   "id": "296bec9c",
   "metadata": {},
   "outputs": [],
   "source": [
    "weights = [0.05, 0.1, 0.15, 0.2, 0.5]"
   ]
  },
  {
   "cell_type": "code",
   "execution_count": 40,
   "id": "f216889f",
   "metadata": {},
   "outputs": [
    {
     "name": "stdout",
     "output_type": "stream",
     "text": [
      "mae: 2.4998528146410863\n",
      "mae: 2.493702935170646\n",
      "mae: 2.5096631577925264\n",
      "mae: 2.488716409486795\n",
      "mae: 2.4475944365789677\n"
     ]
    }
   ],
   "source": [
    "pred1s = 0\n",
    "pred2s = 0\n",
    "pred3s = 0\n",
    "pred4s = 0\n",
    "for i in range(NFOLDS):\n",
    "    pred1 = models[0][i].predict(x_valid[feature_cols1])\n",
    "    pred2 = models[1][i].predict(x_valid[feature_cols2])\n",
    "    pred3 = models[2][i].predict(x_valid[feature_cols3])\n",
    "    pred4 = models[3][i].predict(x_valid[feature_cols4])\n",
    "    oof_valid_april = np.clip(np.array([pred1, pred2, pred3, pred4]).T, 0, 100)\n",
    "    mae = mean_absolute_error(y_valid, oof_valid_april)\n",
    "    print(\"mae:\", mae)\n",
    "    pred1s += pred1 * weights[i]\n",
    "    pred2s += pred2 * weights[i]\n",
    "    pred3s += pred3 * weights[i]\n",
    "    pred4s += pred4 * weights[i]"
   ]
  },
  {
   "cell_type": "code",
   "execution_count": 41,
   "id": "62f2afe8",
   "metadata": {},
   "outputs": [],
   "source": [
    "oof_valid_april = np.clip(np.array([pred1s, pred2s, pred3s, pred4s]).T, 0, 100)"
   ]
  },
  {
   "cell_type": "code",
   "execution_count": 42,
   "id": "981ed75d",
   "metadata": {},
   "outputs": [],
   "source": [
    "# oof_valid_april = np.where(oof_valid_april < 0.1, 0, oof_valid_april)"
   ]
  },
  {
   "cell_type": "code",
   "execution_count": 43,
   "id": "0fdff9dc",
   "metadata": {},
   "outputs": [
    {
     "name": "stdout",
     "output_type": "stream",
     "text": [
      "mae: 2.452213094732114\n"
     ]
    }
   ],
   "source": [
    "mae = mean_absolute_error(y_valid, oof_valid_april)\n",
    "print(\"mae:\", mae)"
   ]
  },
  {
   "cell_type": "code",
   "execution_count": null,
   "id": "469a5cdf",
   "metadata": {},
   "outputs": [],
   "source": [
    "mae: 2.646002559853491\n",
    "    \n",
    "mae: 2.517165927562335\n",
    "mae: 2.506252544372606\n",
    "mae: 2.472827978827336\n",
    "mae: 2.4951013510477655\n",
    "mae: 2.4482708883557343\n",
    "    \n",
    "mae: 2.4520408427603932\n"
   ]
  },
  {
   "cell_type": "markdown",
   "id": "e0ab0efa",
   "metadata": {},
   "source": [
    "## EDA pred"
   ]
  },
  {
   "cell_type": "code",
   "execution_count": 41,
   "id": "de8b7fb2",
   "metadata": {},
   "outputs": [
    {
     "data": {
      "text/plain": [
       "Index(['battingOrder', 'week_day', 'label_teamId', 'label_playerId', 'chances',\n",
       "       'putOuts', 'target2_skew', 'target1_skew', 'target1_min',\n",
       "       'target4_skew', 'leftOnBase', 'target2_kurt', 'target3_skew',\n",
       "       'target1_median', 'target4_min', 'target4_kurt', 'target3_min',\n",
       "       'target2_min', 'target2_median', 'target3_median', 'pitchesThrown',\n",
       "       'target1_kurt', 'target3_kurt', 'target3_mean', 'target4_median',\n",
       "       'assists', 'target2_std', 'balls', 'strikeOuts', 'groundOuts'],\n",
       "      dtype='object')"
      ]
     },
     "execution_count": 41,
     "metadata": {},
     "output_type": "execute_result"
    }
   ],
   "source": [
    "importance = pd.DataFrame(model1.feature_importances_, index=feature_cols1, columns=['importance'])\n",
    "importance = importance.sort_values('importance', ascending=False)\n",
    "importance.iloc[:30].index"
   ]
  },
  {
   "cell_type": "code",
   "execution_count": 42,
   "id": "8553d592",
   "metadata": {},
   "outputs": [
    {
     "data": {
      "text/plain": [
       "<AxesSubplot:title={'center':'Feature importance'}, xlabel='Feature importance', ylabel='Features'>"
      ]
     },
     "execution_count": 42,
     "metadata": {},
     "output_type": "execute_result"
    },
    {
     "data": {
      "image/png": "[encoded data removed]",
      "text/plain": [
       "<Figure size 864x432 with 1 Axes>"
      ]
     },
     "metadata": {
      "needs_background": "light"
     },
     "output_type": "display_data"
    }
   ],
   "source": [
    "lgbm.plot_importance(model1, figsize=(12, 6), max_num_features=10)"
   ]
  },
  {
   "cell_type": "code",
   "execution_count": 43,
   "id": "601c5c20",
   "metadata": {},
   "outputs": [
    {
     "data": {
      "text/plain": [
       "Index(['target2_median', 'plateAppearances', 'totalBases', 'label_teamId',\n",
       "       'target4_min', 'target2_min', 'target1_min', 'winsPitching',\n",
       "       'target3_min', 'target1_skew', 'target4_median',\n",
       "       'label_primaryPositionName', 'battingOrder', 'rbi', 'target2_skew',\n",
       "       'target1_max', 'label_playerId', 'target4_kurt', 'target2_mean',\n",
       "       'target1_mean', 'target2_kurt', 'target4_mean', 'target2_std',\n",
       "       'target1_kurt', 'saveOpportunities', 'season_info', 'runsScored',\n",
       "       'target2_max', 'target3_std', 'target3_skew'],\n",
       "      dtype='object')"
      ]
     },
     "execution_count": 43,
     "metadata": {},
     "output_type": "execute_result"
    }
   ],
   "source": [
    "importance = pd.DataFrame(model2.feature_importances_, index=feature_cols2, columns=['importance'])\n",
    "importance = importance.sort_values('importance', ascending=False)\n",
    "importance.iloc[:30].index"
   ]
  },
  {
   "cell_type": "code",
   "execution_count": 44,
   "id": "83d393fe",
   "metadata": {},
   "outputs": [
    {
     "data": {
      "text/plain": [
       "<AxesSubplot:title={'center':'Feature importance'}, xlabel='Feature importance', ylabel='Features'>"
      ]
     },
     "execution_count": 44,
     "metadata": {},
     "output_type": "execute_result"
    },
    {
     "data": {
      "image/png": "[encoded data removed]",
      "text/plain": [
       "<Figure size 864x432 with 1 Axes>"
      ]
     },
     "metadata": {
      "needs_background": "light"
     },
     "output_type": "display_data"
    }
   ],
   "source": [
    "lgbm.plot_importance(model2, figsize=(12, 6), max_num_features=10)"
   ]
  },
  {
   "cell_type": "code",
   "execution_count": 45,
   "id": "c54469e2",
   "metadata": {},
   "outputs": [
    {
     "data": {
      "text/plain": [
       "Index(['label_teamId', 'target3_min', 'battingOrder', 'target1_min',\n",
       "       'label_playerId', 'target4_min', 'target2_min', 'target1_skew',\n",
       "       'target4_median', 'target2_median', 'target4_skew', 'target3_median',\n",
       "       'target3_skew', 'target2_skew', 'target2_mean', 'target2_kurt',\n",
       "       'target1_median', 'target1_mean', 'target3_mean', 'target4_kurt',\n",
       "       'plateAppearances', 'target2_std', 'totalBases', 'target1_kurt',\n",
       "       'target4_mean', 'inningsPitched', 'target4_std', 'target1_max',\n",
       "       'target3_max', 'target3_std'],\n",
       "      dtype='object')"
      ]
     },
     "execution_count": 45,
     "metadata": {},
     "output_type": "execute_result"
    }
   ],
   "source": [
    "importance = pd.DataFrame(model3.feature_importances_, index=feature_cols3, columns=['importance'])\n",
    "importance = importance.sort_values('importance', ascending=False)\n",
    "importance.iloc[:30].index"
   ]
  },
  {
   "cell_type": "code",
   "execution_count": 46,
   "id": "3fdabf95",
   "metadata": {},
   "outputs": [
    {
     "data": {
      "text/plain": [
       "<AxesSubplot:title={'center':'Feature importance'}, xlabel='Feature importance', ylabel='Features'>"
      ]
     },
     "execution_count": 46,
     "metadata": {},
     "output_type": "execute_result"
    },
    {
     "data": {
      "image/png": "[encoded data removed]",
      "text/plain": [
       "<Figure size 864x432 with 1 Axes>"
      ]
     },
     "metadata": {
      "needs_background": "light"
     },
     "output_type": "display_data"
    }
   ],
   "source": [
    "lgbm.plot_importance(model3, figsize=(12, 6), max_num_features=10)"
   ]
  },
  {
   "cell_type": "code",
   "execution_count": 47,
   "id": "7dc59a4f",
   "metadata": {},
   "outputs": [
    {
     "data": {
      "text/plain": [
       "Index(['annual_day', 'week_day', 'label_teamId', 'target4_min',\n",
       "       'target4_median', 'target1_skew', 'target4_mean', 'month',\n",
       "       'target3_kurt', 'target1_min', 'target3_skew', 'target2_kurt',\n",
       "       'battingOrder', 'label_playerId', 'target1_median', 'mlbDebutYear',\n",
       "       'target2_max', 'target4_skew', 'target1_std', 'label_birthCity',\n",
       "       'target4_max', 'target1_kurt', 'weight', 'target4_std', 'target4_kurt',\n",
       "       'DOY', 'target2_std', 'target2_median', 'target2_skew', 'target1_mean'],\n",
       "      dtype='object')"
      ]
     },
     "execution_count": 47,
     "metadata": {},
     "output_type": "execute_result"
    }
   ],
   "source": [
    "importance = pd.DataFrame(model4.feature_importances_, index=feature_cols4, columns=['importance'])\n",
    "importance = importance.sort_values('importance', ascending=False)\n",
    "importance.iloc[:30].index"
   ]
  },
  {
   "cell_type": "code",
   "execution_count": 48,
   "id": "3dc80d3c",
   "metadata": {},
   "outputs": [
    {
     "data": {
      "text/plain": [
       "<AxesSubplot:title={'center':'Feature importance'}, xlabel='Feature importance', ylabel='Features'>"
      ]
     },
     "execution_count": 48,
     "metadata": {},
     "output_type": "execute_result"
    },
    {
     "data": {
      "image/png": "[encoded data removed]",
      "text/plain": [
       "<Figure size 864x432 with 1 Axes>"
      ]
     },
     "metadata": {
      "needs_background": "light"
     },
     "output_type": "display_data"
    }
   ],
   "source": [
    "lgbm.plot_importance(model4, figsize=(12, 6), max_num_features=10)"
   ]
  },
  {
   "cell_type": "code",
   "execution_count": null,
   "id": "5246f69a",
   "metadata": {},
   "outputs": [],
   "source": []
  },
  {
   "cell_type": "markdown",
   "id": "ee65f8dc",
   "metadata": {},
   "source": [
    "## テストで取ってこれる一行はこんな感じ"
   ]
  },
  {
   "cell_type": "code",
   "execution_count": 33,
   "id": "2ff3e809",
   "metadata": {},
   "outputs": [],
   "source": [
    "example_sample_submission = pd.read_csv(MAIN_DATA_DIR / \"example_sample_submission.csv\")\n",
    "example_test = pd.read_csv(MAIN_DATA_DIR / \"example_test.csv\")\n",
    "test_df = example_test.set_index('date').iloc[:1]\n",
    "sample_prediction_df = example_sample_submission[example_sample_submission['date']==test_df.index[0]].set_index('date')"
   ]
  },
  {
   "cell_type": "code",
   "execution_count": 34,
   "id": "b2c8341b",
   "metadata": {},
   "outputs": [],
   "source": [
    "players_cols = ['playerId', 'primaryPositionName', 'birthCity', 'DOY', 'mlbDebutYear', 'DebutAge', 'heightInches', 'weight']\n",
    "rosters_cols = ['playerId', 'teamId', 'status']\n",
    "scores_cols = ['playerId', 'battingOrder', 'gamesPlayedBatting', 'flyOuts',\n",
    "       'groundOuts', 'runsScored', 'doubles', 'triples', 'homeRuns',\n",
    "       'strikeOuts', 'baseOnBalls', 'intentionalWalks', 'hits', 'hitByPitch',\n",
    "       'atBats', 'caughtStealing', 'stolenBases', 'groundIntoDoublePlay',\n",
    "       'groundIntoTriplePlay', 'plateAppearances', 'totalBases', 'rbi',\n",
    "       'leftOnBase', 'sacBunts', 'sacFlies', 'catchersInterference',\n",
    "       'pickoffs', 'gamesPlayedPitching', 'gamesStartedPitching',\n",
    "       'completeGamesPitching', 'shutoutsPitching', 'winsPitching',\n",
    "       'lossesPitching', 'flyOutsPitching', 'airOutsPitching',\n",
    "       'groundOutsPitching', 'runsPitching', 'doublesPitching',\n",
    "       'triplesPitching', 'homeRunsPitching', 'strikeOutsPitching',\n",
    "       'baseOnBallsPitching', 'intentionalWalksPitching', 'hitsPitching',\n",
    "       'hitByPitchPitching', 'atBatsPitching', 'caughtStealingPitching',\n",
    "       'stolenBasesPitching', 'inningsPitched', 'saveOpportunities',\n",
    "       'earnedRuns', 'battersFaced', 'outsPitching', 'pitchesThrown', 'balls',\n",
    "       'strikes', 'hitBatsmen', 'balks', 'wildPitches', 'pickoffsPitching',\n",
    "       'rbiPitching', 'gamesFinishedPitching', 'inheritedRunners',\n",
    "       'inheritedRunnersScored', 'catchersInterferencePitching',\n",
    "       'sacBuntsPitching', 'sacFliesPitching', 'saves', 'holds', 'blownSaves',\n",
    "       'assists', 'putOuts', 'errors', 'chances']\n",
    "\n",
    "null = np.nan\n",
    "true = True\n",
    "false = False\n",
    "\n",
    "# env = mlb.make_env() # initialize the environment\n",
    "# iter_test = env.iter_test() # iterator which loops over each date in test set\n",
    "\n",
    "# for (test_df, sample_prediction_df) in iter_test: # make predictions here\n",
    "    \n",
    "sample_prediction_df = sample_prediction_df.reset_index(drop=True)\n",
    "\n",
    "# creat dataset\n",
    "sample_prediction_df['playerId'] = sample_prediction_df['date_playerId']\\\n",
    "                                    .map(lambda x: int(x.split('_')[1]))\n",
    "# Dealing with missing values\n",
    "if test_df['rosters'].iloc[0] == test_df['rosters'].iloc[0]:\n",
    "    test_rosters = pd.DataFrame(eval(test_df['rosters'].iloc[0]))\n",
    "else:\n",
    "    test_rosters = pd.DataFrame({'playerId': sample_prediction_df['playerId']})\n",
    "    for col in rosters.columns:\n",
    "        if col == 'playerId': continue\n",
    "        test_rosters[col] = np.nan\n",
    "\n",
    "if test_df['playerBoxScores'].iloc[0] == test_df['playerBoxScores'].iloc[0]:\n",
    "    test_scores = pd.DataFrame(eval(test_df['playerBoxScores'].iloc[0]))\n",
    "else:\n",
    "    test_scores = pd.DataFrame({'playerId': sample_prediction_df['playerId']})\n",
    "    for col in scores.columns:\n",
    "        if col == 'playerId': continue\n",
    "        test_scores[col] = np.nan\n",
    "test_scores = test_scores.groupby('playerId').sum().reset_index()\n",
    "test = sample_prediction_df[['playerId']].copy()\n",
    "test = test.merge(players[players_cols], on='playerId', how='left')\n",
    "test = test.merge(test_rosters[rosters_cols], on='playerId', how='left')\n",
    "test = test.merge(test_scores[scores_cols], on='playerId', how='left')\n",
    "test = test.merge(player_target_stats, how='inner', left_on=[\"playerId\"],right_on=[\"playerId\"])\n",
    "\n",
    "\n",
    "test['label_playerId'] = test['playerId'].map(player2num)\n",
    "test['label_primaryPositionName'] = test['primaryPositionName'].map(position2num)\n",
    "test['label_teamId'] = test['teamId'].map(teamid2num)\n",
    "test['label_status'] = test['status'].map(status2num)\n",
    "test['label_birthCity'] = test['birthCity'].map(birthCityn2num)\n",
    "\n",
    "date_ = pd.to_datetime(test_df.index[0], format=\"%Y%m%d\")\n",
    "test['annual_day'] = (date_ - pd.to_datetime(date_.year, format=\"%Y\")) /  timedelta(days=1)\n",
    "test['week_day'] = date_.weekday()\n",
    "test['month'] = date_.month\n",
    "\n",
    "\n",
    "test_X = test"
   ]
  },
  {
   "cell_type": "code",
   "execution_count": 35,
   "id": "4f2d695f",
   "metadata": {},
   "outputs": [],
   "source": [
    "test_X['gameday'] = ~test_X['battingOrder'].isna()*1\n",
    "test_X['date'] = test_df.index[0]\n",
    "test_X = pd.merge(test_X, train_last_game, on=['playerId'], how='left')\n",
    "test_X['daysSinceLastGame'] = (pd.to_datetime(test_X['date'], format=\"%Y%m%d\") - pd.to_datetime(test_X['lastdate'], format=\"%Y%m%d\")).dt.days\n",
    "test_X.loc[test_X['gameday']==1,'daysSinceLastGame']=0"
   ]
  },
  {
   "cell_type": "code",
   "execution_count": 59,
   "id": "15c0fad0",
   "metadata": {},
   "outputs": [
    {
     "data": {
      "text/html": [
       "<div>\n",
       "<style scoped>\n",
       "    .dataframe tbody tr th:only-of-type {\n",
       "        vertical-align: middle;\n",
       "    }\n",
       "\n",
       "    .dataframe tbody tr th {\n",
       "        vertical-align: top;\n",
       "    }\n",
       "\n",
       "    .dataframe thead th {\n",
       "        text-align: right;\n",
       "    }\n",
       "</style>\n",
       "<table border=\"1\" class=\"dataframe\">\n",
       "  <thead>\n",
       "    <tr style=\"text-align: right;\">\n",
       "      <th></th>\n",
       "      <th>playerId</th>\n",
       "      <th>lastdate</th>\n",
       "    </tr>\n",
       "  </thead>\n",
       "  <tbody>\n",
       "    <tr>\n",
       "      <th>0</th>\n",
       "      <td>112526</td>\n",
       "      <td>20180922.0</td>\n",
       "    </tr>\n",
       "    <tr>\n",
       "      <th>1</th>\n",
       "      <td>134181</td>\n",
       "      <td>20180930.0</td>\n",
       "    </tr>\n",
       "    <tr>\n",
       "      <th>2</th>\n",
       "      <td>279571</td>\n",
       "      <td>20180930.0</td>\n",
       "    </tr>\n",
       "    <tr>\n",
       "      <th>3</th>\n",
       "      <td>282332</td>\n",
       "      <td>20191017.0</td>\n",
       "    </tr>\n",
       "    <tr>\n",
       "      <th>4</th>\n",
       "      <td>400085</td>\n",
       "      <td>20190321.0</td>\n",
       "    </tr>\n",
       "    <tr>\n",
       "      <th>...</th>\n",
       "      <td>...</td>\n",
       "      <td>...</td>\n",
       "    </tr>\n",
       "    <tr>\n",
       "      <th>2056</th>\n",
       "      <td>681911</td>\n",
       "      <td>20210426.0</td>\n",
       "    </tr>\n",
       "    <tr>\n",
       "      <th>2057</th>\n",
       "      <td>683232</td>\n",
       "      <td>20210426.0</td>\n",
       "    </tr>\n",
       "    <tr>\n",
       "      <th>2058</th>\n",
       "      <td>683734</td>\n",
       "      <td>20210426.0</td>\n",
       "    </tr>\n",
       "    <tr>\n",
       "      <th>2059</th>\n",
       "      <td>685493</td>\n",
       "      <td>20200927.0</td>\n",
       "    </tr>\n",
       "    <tr>\n",
       "      <th>2060</th>\n",
       "      <td>685503</td>\n",
       "      <td>20210426.0</td>\n",
       "    </tr>\n",
       "  </tbody>\n",
       "</table>\n",
       "<p>2061 rows × 2 columns</p>\n",
       "</div>"
      ],
      "text/plain": [
       "      playerId    lastdate\n",
       "0       112526  20180922.0\n",
       "1       134181  20180930.0\n",
       "2       279571  20180930.0\n",
       "3       282332  20191017.0\n",
       "4       400085  20190321.0\n",
       "...        ...         ...\n",
       "2056    681911  20210426.0\n",
       "2057    683232  20210426.0\n",
       "2058    683734  20210426.0\n",
       "2059    685493  20200927.0\n",
       "2060    685503  20210426.0\n",
       "\n",
       "[2061 rows x 2 columns]"
      ]
     },
     "execution_count": 59,
     "metadata": {},
     "output_type": "execute_result"
    }
   ],
   "source": [
    "train_last_game = pd.merge(train_last_game, test_X[test_X['gameday']==1][['playerId','date']], on=['playerId'], how='left')\n",
    "train_last_game['lastdate'].update(train_last_game['date'])\n",
    "train_last_game = train_last_game[['playerId', 'lastdate']]\n",
    "train_last_game"
   ]
  },
  {
   "cell_type": "code",
   "execution_count": null,
   "id": "01755466",
   "metadata": {},
   "outputs": [],
   "source": []
  },
  {
   "cell_type": "code",
   "execution_count": 54,
   "id": "0f54dd09",
   "metadata": {},
   "outputs": [],
   "source": [
    "# predict\n",
    "pred1 = model1.predict(test_X[feature_cols1])\n",
    "pred2 = model2.predict(test_X[feature_cols2])\n",
    "pred3 = model3.predict(test_X[feature_cols3])\n",
    "pred4 = model4.predict(test_X[feature_cols4])\n",
    "\n",
    "# merge submission\n",
    "sample_prediction_df['target1'] = np.clip(pred1, 0, 100)\n",
    "sample_prediction_df['target2'] = np.clip(pred2, 0, 100)\n",
    "sample_prediction_df['target3'] = np.clip(pred3, 0, 100)\n",
    "sample_prediction_df['target4'] = np.clip(pred4, 0, 100)\n",
    "sample_prediction_df = sample_prediction_df.fillna(0.)\n",
    "\n",
    "del sample_prediction_df['playerId']"
   ]
  },
  {
   "cell_type": "code",
   "execution_count": 55,
   "id": "aad2cc8b",
   "metadata": {},
   "outputs": [
    {
     "data": {
      "text/html": [
       "<div>\n",
       "<style scoped>\n",
       "    .dataframe tbody tr th:only-of-type {\n",
       "        vertical-align: middle;\n",
       "    }\n",
       "\n",
       "    .dataframe tbody tr th {\n",
       "        vertical-align: top;\n",
       "    }\n",
       "\n",
       "    .dataframe thead th {\n",
       "        text-align: right;\n",
       "    }\n",
       "</style>\n",
       "<table border=\"1\" class=\"dataframe\">\n",
       "  <thead>\n",
       "    <tr style=\"text-align: right;\">\n",
       "      <th></th>\n",
       "      <th>date_playerId</th>\n",
       "      <th>target1</th>\n",
       "      <th>target2</th>\n",
       "      <th>target3</th>\n",
       "      <th>target4</th>\n",
       "    </tr>\n",
       "  </thead>\n",
       "  <tbody>\n",
       "    <tr>\n",
       "      <th>0</th>\n",
       "      <td>20210427_656669</td>\n",
       "      <td>4.523566</td>\n",
       "      <td>7.302453</td>\n",
       "      <td>2.559227e-01</td>\n",
       "      <td>2.723813</td>\n",
       "    </tr>\n",
       "    <tr>\n",
       "      <th>1</th>\n",
       "      <td>20210427_543475</td>\n",
       "      <td>0.147992</td>\n",
       "      <td>3.124557</td>\n",
       "      <td>2.008687e-01</td>\n",
       "      <td>1.193542</td>\n",
       "    </tr>\n",
       "    <tr>\n",
       "      <th>2</th>\n",
       "      <td>20210427_592866</td>\n",
       "      <td>0.006262</td>\n",
       "      <td>1.240768</td>\n",
       "      <td>1.289277e-02</td>\n",
       "      <td>1.045266</td>\n",
       "    </tr>\n",
       "    <tr>\n",
       "      <th>3</th>\n",
       "      <td>20210427_452678</td>\n",
       "      <td>0.028216</td>\n",
       "      <td>3.628774</td>\n",
       "      <td>4.949686e-02</td>\n",
       "      <td>1.776316</td>\n",
       "    </tr>\n",
       "    <tr>\n",
       "      <th>4</th>\n",
       "      <td>20210427_570257</td>\n",
       "      <td>0.008472</td>\n",
       "      <td>1.085709</td>\n",
       "      <td>1.132856e-02</td>\n",
       "      <td>0.437531</td>\n",
       "    </tr>\n",
       "    <tr>\n",
       "      <th>...</th>\n",
       "      <td>...</td>\n",
       "      <td>...</td>\n",
       "      <td>...</td>\n",
       "      <td>...</td>\n",
       "      <td>...</td>\n",
       "    </tr>\n",
       "    <tr>\n",
       "      <th>1182</th>\n",
       "      <td>20210427_593590</td>\n",
       "      <td>0.000010</td>\n",
       "      <td>0.013661</td>\n",
       "      <td>1.073450e-18</td>\n",
       "      <td>0.000000</td>\n",
       "    </tr>\n",
       "    <tr>\n",
       "      <th>1183</th>\n",
       "      <td>20210427_642180</td>\n",
       "      <td>0.002000</td>\n",
       "      <td>1.000161</td>\n",
       "      <td>3.896596e-03</td>\n",
       "      <td>0.397934</td>\n",
       "    </tr>\n",
       "    <tr>\n",
       "      <th>1184</th>\n",
       "      <td>20210427_663399</td>\n",
       "      <td>0.000242</td>\n",
       "      <td>0.336076</td>\n",
       "      <td>1.736459e-03</td>\n",
       "      <td>0.087545</td>\n",
       "    </tr>\n",
       "    <tr>\n",
       "      <th>1185</th>\n",
       "      <td>20210427_664199</td>\n",
       "      <td>0.000847</td>\n",
       "      <td>0.919104</td>\n",
       "      <td>5.898664e-03</td>\n",
       "      <td>0.507688</td>\n",
       "    </tr>\n",
       "    <tr>\n",
       "      <th>1186</th>\n",
       "      <td>20210427_595453</td>\n",
       "      <td>0.007222</td>\n",
       "      <td>1.106129</td>\n",
       "      <td>6.004617e-03</td>\n",
       "      <td>0.473643</td>\n",
       "    </tr>\n",
       "  </tbody>\n",
       "</table>\n",
       "<p>1187 rows × 5 columns</p>\n",
       "</div>"
      ],
      "text/plain": [
       "        date_playerId   target1   target2       target3   target4\n",
       "0     20210427_656669  4.523566  7.302453  2.559227e-01  2.723813\n",
       "1     20210427_543475  0.147992  3.124557  2.008687e-01  1.193542\n",
       "2     20210427_592866  0.006262  1.240768  1.289277e-02  1.045266\n",
       "3     20210427_452678  0.028216  3.628774  4.949686e-02  1.776316\n",
       "4     20210427_570257  0.008472  1.085709  1.132856e-02  0.437531\n",
       "...               ...       ...       ...           ...       ...\n",
       "1182  20210427_593590  0.000010  0.013661  1.073450e-18  0.000000\n",
       "1183  20210427_642180  0.002000  1.000161  3.896596e-03  0.397934\n",
       "1184  20210427_663399  0.000242  0.336076  1.736459e-03  0.087545\n",
       "1185  20210427_664199  0.000847  0.919104  5.898664e-03  0.507688\n",
       "1186  20210427_595453  0.007222  1.106129  6.004617e-03  0.473643\n",
       "\n",
       "[1187 rows x 5 columns]"
      ]
     },
     "execution_count": 55,
     "metadata": {},
     "output_type": "execute_result"
    }
   ],
   "source": [
    "sample_prediction_df"
   ]
  },
  {
   "cell_type": "code",
   "execution_count": null,
   "id": "db62cab0",
   "metadata": {},
   "outputs": [],
   "source": []
  }
 ],
 "metadata": {
  "kernelspec": {
   "display_name": "Python 3",
   "language": "python",
   "name": "python3"
  },
  "language_info": {
   "codemirror_mode": {
    "name": "ipython",
    "version": 3
   },
   "file_extension": ".py",
   "mimetype": "text/x-python",
   "name": "python",
   "nbconvert_exporter": "python",
   "pygments_lexer": "ipython3",
   "version": "3.6.13"
  }
 },
 "nbformat": 4,
 "nbformat_minor": 5
}
