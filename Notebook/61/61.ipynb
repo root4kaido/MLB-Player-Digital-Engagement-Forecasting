{
 "cells": [
  {
   "cell_type": "code",
   "execution_count": 92,
   "id": "568238d4",
   "metadata": {},
   "outputs": [],
   "source": [
    "import gc\n",
    "import os\n",
    "import sys\n",
    "import math\n",
    "import random\n",
    "import warnings\n",
    "import pickle\n",
    "from pathlib import Path\n",
    "from joblib import Parallel, delayed\n",
    "from statsmodels.tsa.deterministic import (CalendarFourier,\n",
    "                                           CalendarSeasonality,\n",
    "                                           CalendarTimeTrend,\n",
    "                                           DeterministicProcess)\n",
    "import optuna\n",
    "from tqdm import tqdm\n",
    "import os\n",
    "import ipywidgets as widgets\n",
    "import matplotlib.pyplot as plt\n",
    "import numpy as np\n",
    "import pandas as pd\n",
    "import seaborn as sns\n",
    "# from pandarallel import pandarallel\n",
    "# pandarallel.initialize()\n",
    "warnings.simplefilter(\"ignore\")\n",
    "import ctypes as ct\n",
    "from datetime import timedelta\n",
    "\n",
    "from sklearn.metrics import mean_absolute_error\n",
    "\n",
    "import statistics as st\n",
    "import lightgbm as lgbm\n",
    "from scipy.stats import norm"
   ]
  },
  {
   "cell_type": "code",
   "execution_count": 93,
   "id": "87149bc1",
   "metadata": {},
   "outputs": [],
   "source": [
    "sys.path.append('../../')\n",
    "import src.utils as utils"
   ]
  },
  {
   "cell_type": "markdown",
   "id": "f5afe9df",
   "metadata": {},
   "source": [
    "## Param"
   ]
  },
  {
   "cell_type": "code",
   "execution_count": 94,
   "id": "f2439ef1",
   "metadata": {},
   "outputs": [],
   "source": [
    "targets_cols = ['playerId', 'target1', 'target2', 'target3', 'target4', 'date']\n",
    "players_cols = ['playerId', 'primaryPositionName', 'birthCity', 'DOY', 'mlbDebutYear', 'DebutAge', 'heightInches', 'weight', 'playerForTestSetAndFuturePreds']\n",
    "rosters_cols = ['playerId', 'teamId', 'status', 'date']\n",
    "salaries_cols = ['teamId', 'salary', 'year']\n",
    "standings_cols = ['teamId', 'wildCardRank', 'sportGamesBack', 'date']\n",
    "transactions_cols = ['playerId', 'transaction_flag', 'date']\n",
    "scores_cols = ['playerId', 'battingOrder', 'gamesPlayedBatting', 'flyOuts',\n",
    "       'groundOuts', 'runsScored', 'doubles', 'triples', 'homeRuns',\n",
    "       'strikeOuts', 'baseOnBalls', 'intentionalWalks', 'hits', 'hitByPitch',\n",
    "       'atBats', 'caughtStealing', 'stolenBases', 'groundIntoDoublePlay',\n",
    "       'groundIntoTriplePlay', 'plateAppearances', 'totalBases', 'rbi',\n",
    "       'leftOnBase', 'sacBunts', 'sacFlies', 'catchersInterference',\n",
    "       'pickoffs', 'gamesPlayedPitching', 'gamesStartedPitching',\n",
    "       'completeGamesPitching', 'shutoutsPitching', 'winsPitching',\n",
    "       'lossesPitching', 'flyOutsPitching', 'airOutsPitching',\n",
    "       'groundOutsPitching', 'runsPitching', 'doublesPitching',\n",
    "       'triplesPitching', 'homeRunsPitching', 'strikeOutsPitching',\n",
    "       'baseOnBallsPitching', 'intentionalWalksPitching', 'hitsPitching',\n",
    "       'hitByPitchPitching', 'atBatsPitching', 'caughtStealingPitching',\n",
    "       'stolenBasesPitching', 'inningsPitched', 'saveOpportunities',\n",
    "       'earnedRuns', 'battersFaced', 'outsPitching', 'pitchesThrown', 'balls',\n",
    "       'strikes', 'hitBatsmen', 'balks', 'wildPitches', 'pickoffsPitching',\n",
    "       'rbiPitching', 'gamesFinishedPitching', 'inheritedRunners',\n",
    "       'inheritedRunnersScored', 'catchersInterferencePitching',\n",
    "       'sacBuntsPitching', 'sacFliesPitching', 'saves', 'holds', 'blownSaves',\n",
    "       'assists', 'putOuts', 'errors', 'chances', 'date']\n",
    "\n",
    "feature_cols1 = ['week_day','label_playerId', 'label_primaryPositionName', 'label_teamId',\n",
    "       'label_status', 'battingOrder', 'gamesPlayedBatting', 'flyOuts',\n",
    "       'groundOuts', 'runsScored', 'doubles', 'triples', 'homeRuns',\n",
    "       'strikeOuts', 'baseOnBalls', 'intentionalWalks', 'hits', 'hitByPitch',\n",
    "       'atBats', 'caughtStealing', 'stolenBases', 'groundIntoDoublePlay',\n",
    "       'groundIntoTriplePlay', 'plateAppearances', 'totalBases', 'rbi',\n",
    "       'leftOnBase', 'sacBunts', 'sacFlies', 'catchersInterference',\n",
    "       'pickoffs', 'gamesPlayedPitching', 'gamesStartedPitching',\n",
    "       'completeGamesPitching', 'shutoutsPitching', 'winsPitching',\n",
    "       'lossesPitching', 'flyOutsPitching', 'airOutsPitching',\n",
    "       'groundOutsPitching', 'runsPitching', 'doublesPitching',\n",
    "       'triplesPitching', 'homeRunsPitching', 'strikeOutsPitching',\n",
    "       'baseOnBallsPitching', 'intentionalWalksPitching', 'hitsPitching',\n",
    "       'hitByPitchPitching', 'atBatsPitching', 'caughtStealingPitching',\n",
    "       'stolenBasesPitching', 'inningsPitched', 'saveOpportunities',\n",
    "       'earnedRuns', 'battersFaced', 'outsPitching', 'pitchesThrown', 'balls',\n",
    "       'strikes', 'hitBatsmen', 'balks', 'wildPitches', 'pickoffsPitching',\n",
    "       'rbiPitching', 'gamesFinishedPitching', 'inheritedRunners',\n",
    "       'inheritedRunnersScored', 'catchersInterferencePitching',\n",
    "       'sacBuntsPitching', 'sacFliesPitching', 'saves', 'holds', 'blownSaves',\n",
    "       'assists', 'putOuts', 'errors', 'chances',\n",
    "        \"target1_mean\",\"target1_median\",\"target1_std\",\"target1_min\",\"target1_max\",\"target1_skew\",\"target1_kurt\",\n",
    "         \"target2_mean\",\"target2_median\",\"target2_std\",\"target2_min\",\"target2_max\",\"target2_skew\",\"target2_kurt\",\n",
    "        \"target3_mean\",\"target3_median\",\"target3_std\",\"target3_min\",\"target3_max\",\"target3_skew\",\"target3_kurt\",\n",
    "        \"target4_mean\",\"target4_median\",\"target4_std\",\"target4_min\",\"target4_max\",\"target4_skew\",\"target4_kurt\", \n",
    "        'season_info', 'wildCardRank', 'label_awardName'] \n",
    "\n",
    "feature_cols2 = ['label_playerId', 'label_primaryPositionName', 'label_teamId',\n",
    "       'label_status', 'battingOrder', 'gamesPlayedBatting', 'flyOuts',\n",
    "       'groundOuts', 'runsScored', 'doubles', 'triples', 'homeRuns',\n",
    "       'strikeOuts', 'baseOnBalls', 'intentionalWalks', 'hits', 'hitByPitch',\n",
    "       'atBats', 'caughtStealing', 'stolenBases', 'groundIntoDoublePlay',\n",
    "       'groundIntoTriplePlay', 'plateAppearances', 'totalBases', 'rbi',\n",
    "       'leftOnBase', 'sacBunts', 'sacFlies', 'catchersInterference',\n",
    "       'pickoffs', 'gamesPlayedPitching', 'gamesStartedPitching',\n",
    "       'completeGamesPitching', 'shutoutsPitching', 'winsPitching',\n",
    "       'lossesPitching', 'flyOutsPitching', 'airOutsPitching',\n",
    "       'groundOutsPitching', 'runsPitching', 'doublesPitching',\n",
    "       'triplesPitching', 'homeRunsPitching', 'strikeOutsPitching',\n",
    "       'baseOnBallsPitching', 'intentionalWalksPitching', 'hitsPitching',\n",
    "       'hitByPitchPitching', 'atBatsPitching', 'caughtStealingPitching',\n",
    "       'stolenBasesPitching', 'inningsPitched', 'saveOpportunities',\n",
    "       'earnedRuns', 'battersFaced', 'outsPitching', 'pitchesThrown', 'balls',\n",
    "       'strikes', 'hitBatsmen', 'balks', 'wildPitches', 'pickoffsPitching',\n",
    "       'rbiPitching', 'gamesFinishedPitching', 'inheritedRunners',\n",
    "       'inheritedRunnersScored', 'catchersInterferencePitching',\n",
    "       'sacBuntsPitching', 'sacFliesPitching', 'saves', 'holds', 'blownSaves',\n",
    "       'assists', 'putOuts', 'errors', 'chances',\n",
    "        \"target1_mean\",\"target1_median\",\"target1_std\",\"target1_min\",\"target1_max\",\"target1_skew\",\"target1_kurt\",\n",
    "         \"target2_mean\",\"target2_median\",\"target2_std\",\"target2_min\",\"target2_max\",\"target2_skew\",\"target2_kurt\",\n",
    "        \"target3_mean\",\"target3_median\",\"target3_std\",\"target3_min\",\"target3_max\",\"target3_skew\",\"target3_kurt\",\n",
    "        \"target4_mean\",\"target4_median\",\"target4_std\",\"target4_min\",\"target4_max\",\"target4_skew\",\"target4_kurt\", \n",
    "        'season_info', 'wildCardRank', 'label_awardName'] \n",
    "\n",
    "feature_cols3 = ['week_day','label_playerId', 'label_primaryPositionName', 'label_teamId',\n",
    "       'label_status', 'battingOrder', 'gamesPlayedBatting', 'flyOuts',\n",
    "       'groundOuts', 'runsScored', 'doubles', 'triples', 'homeRuns',\n",
    "       'strikeOuts', 'baseOnBalls', 'intentionalWalks', 'hits', 'hitByPitch',\n",
    "       'atBats', 'caughtStealing', 'stolenBases', 'groundIntoDoublePlay',\n",
    "       'groundIntoTriplePlay', 'plateAppearances', 'totalBases', 'rbi',\n",
    "       'leftOnBase', 'sacBunts', 'sacFlies', 'catchersInterference',\n",
    "       'pickoffs', 'gamesPlayedPitching', 'gamesStartedPitching',\n",
    "       'completeGamesPitching', 'shutoutsPitching', 'winsPitching',\n",
    "       'lossesPitching', 'flyOutsPitching', 'airOutsPitching',\n",
    "       'groundOutsPitching', 'runsPitching', 'doublesPitching',\n",
    "       'triplesPitching', 'homeRunsPitching', 'strikeOutsPitching',\n",
    "       'baseOnBallsPitching', 'intentionalWalksPitching', 'hitsPitching',\n",
    "       'hitByPitchPitching', 'atBatsPitching', 'caughtStealingPitching',\n",
    "       'stolenBasesPitching', 'inningsPitched', 'saveOpportunities',\n",
    "       'earnedRuns', 'battersFaced', 'outsPitching', 'pitchesThrown', 'balls',\n",
    "       'strikes', 'hitBatsmen', 'balks', 'wildPitches', 'pickoffsPitching',\n",
    "       'rbiPitching', 'gamesFinishedPitching', 'inheritedRunners',\n",
    "       'inheritedRunnersScored', 'catchersInterferencePitching',\n",
    "       'sacBuntsPitching', 'sacFliesPitching', 'saves', 'holds', 'blownSaves',\n",
    "       'assists', 'putOuts', 'errors', 'chances',\n",
    "        \"target1_mean\",\"target1_median\",\"target1_std\",\"target1_min\",\"target1_max\",\"target1_skew\",\"target1_kurt\",\n",
    "         \"target2_mean\",\"target2_median\",\"target2_std\",\"target2_min\",\"target2_max\",\"target2_skew\",\"target2_kurt\",\n",
    "        \"target3_mean\",\"target3_median\",\"target3_std\",\"target3_min\",\"target3_max\",\"target3_skew\",\"target3_kurt\",\n",
    "        \"target4_mean\",\"target4_median\",\"target4_std\",\"target4_min\",\"target4_max\",\"target4_skew\",\"target4_kurt\", \n",
    "        'season_info', 'wildCardRank', 'label_awardName'] \n",
    "\n",
    "feature_cols4 = ['week_day', 'annual_day', 'month', 'label_playerId', 'label_primaryPositionName', 'label_teamId', 'label_birthCity',\n",
    "                'DOY', 'mlbDebutYear', 'DebutAge', 'heightInches', 'weight',\n",
    "       'label_status', 'battingOrder', 'gamesPlayedBatting', 'flyOuts',\n",
    "       'groundOuts', 'runsScored', 'doubles', 'triples', 'homeRuns',\n",
    "       'strikeOuts', 'baseOnBalls', 'intentionalWalks', 'hits', 'hitByPitch',\n",
    "       'atBats', 'caughtStealing', 'stolenBases', 'groundIntoDoublePlay',\n",
    "       'groundIntoTriplePlay', 'plateAppearances', 'totalBases', 'rbi',\n",
    "       'leftOnBase', 'sacBunts', 'sacFlies', 'catchersInterference',\n",
    "       'pickoffs', 'gamesPlayedPitching', 'gamesStartedPitching',\n",
    "       'completeGamesPitching', 'shutoutsPitching', 'winsPitching',\n",
    "       'lossesPitching', 'flyOutsPitching', 'airOutsPitching',\n",
    "       'groundOutsPitching', 'runsPitching', 'doublesPitching',\n",
    "       'triplesPitching', 'homeRunsPitching', 'strikeOutsPitching',\n",
    "       'baseOnBallsPitching', 'intentionalWalksPitching', 'hitsPitching',\n",
    "       'hitByPitchPitching', 'atBatsPitching', 'caughtStealingPitching',\n",
    "       'stolenBasesPitching', 'inningsPitched', 'saveOpportunities',\n",
    "       'earnedRuns', 'battersFaced', 'outsPitching', 'pitchesThrown', 'balls',\n",
    "       'strikes', 'hitBatsmen', 'balks', 'wildPitches', 'pickoffsPitching',\n",
    "       'rbiPitching', 'gamesFinishedPitching', 'inheritedRunners',\n",
    "       'inheritedRunnersScored', 'catchersInterferencePitching',\n",
    "       'sacBuntsPitching', 'sacFliesPitching', 'saves', 'holds', 'blownSaves',\n",
    "       'assists', 'putOuts', 'errors', 'chances',\n",
    "        \"target1_mean\",\"target1_median\",\"target1_std\",\"target1_min\",\"target1_max\",\"target1_skew\",\"target1_kurt\",\n",
    "         \"target2_mean\",\"target2_median\",\"target2_std\",\"target2_min\",\"target2_max\",\"target2_skew\",\"target2_kurt\",\n",
    "        \"target3_mean\",\"target3_median\",\"target3_std\",\"target3_min\",\"target3_max\",\"target3_skew\",\"target3_kurt\",\n",
    "        \"target4_mean\",\"target4_median\",\"target4_std\",\"target4_min\",\"target4_max\",\"target4_skew\",\"target4_kurt\", \n",
    "        'season_info', 'wildCardRank', 'label_awardName'] "
   ]
  },
  {
   "cell_type": "code",
   "execution_count": 95,
   "id": "f0a2ef5b",
   "metadata": {},
   "outputs": [],
   "source": [
    "EXP_NUM = 61\n",
    "NFOLDS = 5\n",
    "SEED = 42"
   ]
  },
  {
   "cell_type": "code",
   "execution_count": 96,
   "id": "5173d604",
   "metadata": {},
   "outputs": [],
   "source": [
    "utils.set_seed(SEED)"
   ]
  },
  {
   "cell_type": "markdown",
   "id": "ad963a2c",
   "metadata": {},
   "source": [
    "## Dir"
   ]
  },
  {
   "cell_type": "code",
   "execution_count": 97,
   "id": "8f7aeb89",
   "metadata": {},
   "outputs": [],
   "source": [
    "DATA_DIR = Path(\"/home/knikaido/work/MLB-Player-Digital-Engagement-Forecasting/data/\")\n",
    "MAIN_DATA_DIR = DATA_DIR / 'mlb-player-digital-engagement-forecasting'\n",
    "TRAIN_DIR = MAIN_DATA_DIR / 'train'\n",
    "OUTPUT_DIR = Path('./output/')"
   ]
  },
  {
   "cell_type": "code",
   "execution_count": 98,
   "id": "47debfa7",
   "metadata": {},
   "outputs": [],
   "source": [
    "players = pd.read_csv(MAIN_DATA_DIR / 'players.csv')\n",
    "\n",
    "rosters = pd.read_csv(TRAIN_DIR / 'rosters_train.csv')\n",
    "targets = pd.read_csv(TRAIN_DIR / 'nextDayPlayerEngagement_train.csv')\n",
    "scores = pd.read_csv(TRAIN_DIR / 'playerBoxScores_train.csv')\n",
    "scores = scores.groupby(['playerId', 'date']).sum().reset_index()\n",
    "seasons = pd.read_csv(MAIN_DATA_DIR / 'seasons.csv')\n",
    "salaries = pd.read_csv(MAIN_DATA_DIR / 'mlbSalaries.csv')\n",
    "teams = pd.read_csv(MAIN_DATA_DIR / 'teams.csv')\n",
    "\n",
    "standings = pd.read_csv(TRAIN_DIR / 'standings_train.csv')\n",
    "awards = pd.read_csv(TRAIN_DIR / 'awards_train.csv')\n",
    "\n",
    "playerTwitterFollowers = pd.read_csv(TRAIN_DIR / 'playerTwitterFollowers_train.csv')\n",
    "\n",
    "# events = pd.read_csv(TRAIN_DIR / 'events_train.csv')\n",
    "# events = events.groupby(['gameDate']).sum().reset_index()\n"
   ]
  },
  {
   "cell_type": "code",
   "execution_count": 99,
   "id": "9e83fc3f",
   "metadata": {},
   "outputs": [
    {
     "data": {
      "text/html": [
       "<div>\n",
       "<style scoped>\n",
       "    .dataframe tbody tr th:only-of-type {\n",
       "        vertical-align: middle;\n",
       "    }\n",
       "\n",
       "    .dataframe tbody tr th {\n",
       "        vertical-align: top;\n",
       "    }\n",
       "\n",
       "    .dataframe thead th {\n",
       "        text-align: right;\n",
       "    }\n",
       "</style>\n",
       "<table border=\"1\" class=\"dataframe\">\n",
       "  <thead>\n",
       "    <tr style=\"text-align: right;\">\n",
       "      <th></th>\n",
       "      <th>playerId</th>\n",
       "      <th>date</th>\n",
       "      <th>home</th>\n",
       "      <th>gamePk</th>\n",
       "      <th>teamId</th>\n",
       "      <th>jerseyNum</th>\n",
       "      <th>positionCode</th>\n",
       "      <th>battingOrder</th>\n",
       "      <th>gamesPlayedBatting</th>\n",
       "      <th>flyOuts</th>\n",
       "      <th>...</th>\n",
       "      <th>sacBuntsPitching</th>\n",
       "      <th>sacFliesPitching</th>\n",
       "      <th>saves</th>\n",
       "      <th>holds</th>\n",
       "      <th>blownSaves</th>\n",
       "      <th>assists</th>\n",
       "      <th>putOuts</th>\n",
       "      <th>errors</th>\n",
       "      <th>chances</th>\n",
       "      <th>index</th>\n",
       "    </tr>\n",
       "  </thead>\n",
       "  <tbody>\n",
       "    <tr>\n",
       "      <th>0</th>\n",
       "      <td>112526</td>\n",
       "      <td>20180402</td>\n",
       "      <td>0</td>\n",
       "      <td>529469</td>\n",
       "      <td>140</td>\n",
       "      <td>40.0</td>\n",
       "      <td>1</td>\n",
       "      <td>0.0</td>\n",
       "      <td>0.0</td>\n",
       "      <td>0.0</td>\n",
       "      <td>...</td>\n",
       "      <td>0.0</td>\n",
       "      <td>0.0</td>\n",
       "      <td>0.0</td>\n",
       "      <td>0.0</td>\n",
       "      <td>0.0</td>\n",
       "      <td>1.0</td>\n",
       "      <td>0.0</td>\n",
       "      <td>0.0</td>\n",
       "      <td>1.0</td>\n",
       "      <td>91</td>\n",
       "    </tr>\n",
       "    <tr>\n",
       "      <th>1</th>\n",
       "      <td>112526</td>\n",
       "      <td>20180408</td>\n",
       "      <td>1</td>\n",
       "      <td>529546</td>\n",
       "      <td>140</td>\n",
       "      <td>40.0</td>\n",
       "      <td>1</td>\n",
       "      <td>0.0</td>\n",
       "      <td>0.0</td>\n",
       "      <td>0.0</td>\n",
       "      <td>...</td>\n",
       "      <td>0.0</td>\n",
       "      <td>0.0</td>\n",
       "      <td>0.0</td>\n",
       "      <td>0.0</td>\n",
       "      <td>0.0</td>\n",
       "      <td>0.0</td>\n",
       "      <td>1.0</td>\n",
       "      <td>0.0</td>\n",
       "      <td>1.0</td>\n",
       "      <td>97</td>\n",
       "    </tr>\n",
       "    <tr>\n",
       "      <th>2</th>\n",
       "      <td>112526</td>\n",
       "      <td>20180410</td>\n",
       "      <td>1</td>\n",
       "      <td>529565</td>\n",
       "      <td>140</td>\n",
       "      <td>40.0</td>\n",
       "      <td>1</td>\n",
       "      <td>0.0</td>\n",
       "      <td>0.0</td>\n",
       "      <td>0.0</td>\n",
       "      <td>...</td>\n",
       "      <td>0.0</td>\n",
       "      <td>1.0</td>\n",
       "      <td>0.0</td>\n",
       "      <td>0.0</td>\n",
       "      <td>0.0</td>\n",
       "      <td>2.0</td>\n",
       "      <td>0.0</td>\n",
       "      <td>0.0</td>\n",
       "      <td>2.0</td>\n",
       "      <td>99</td>\n",
       "    </tr>\n",
       "    <tr>\n",
       "      <th>3</th>\n",
       "      <td>112526</td>\n",
       "      <td>20180415</td>\n",
       "      <td>0</td>\n",
       "      <td>529640</td>\n",
       "      <td>140</td>\n",
       "      <td>40.0</td>\n",
       "      <td>1</td>\n",
       "      <td>0.0</td>\n",
       "      <td>0.0</td>\n",
       "      <td>0.0</td>\n",
       "      <td>...</td>\n",
       "      <td>0.0</td>\n",
       "      <td>1.0</td>\n",
       "      <td>0.0</td>\n",
       "      <td>0.0</td>\n",
       "      <td>0.0</td>\n",
       "      <td>1.0</td>\n",
       "      <td>0.0</td>\n",
       "      <td>0.0</td>\n",
       "      <td>1.0</td>\n",
       "      <td>104</td>\n",
       "    </tr>\n",
       "    <tr>\n",
       "      <th>4</th>\n",
       "      <td>112526</td>\n",
       "      <td>20180421</td>\n",
       "      <td>1</td>\n",
       "      <td>529718</td>\n",
       "      <td>140</td>\n",
       "      <td>40.0</td>\n",
       "      <td>1</td>\n",
       "      <td>0.0</td>\n",
       "      <td>0.0</td>\n",
       "      <td>0.0</td>\n",
       "      <td>...</td>\n",
       "      <td>0.0</td>\n",
       "      <td>1.0</td>\n",
       "      <td>0.0</td>\n",
       "      <td>0.0</td>\n",
       "      <td>0.0</td>\n",
       "      <td>0.0</td>\n",
       "      <td>2.0</td>\n",
       "      <td>0.0</td>\n",
       "      <td>2.0</td>\n",
       "      <td>110</td>\n",
       "    </tr>\n",
       "    <tr>\n",
       "      <th>...</th>\n",
       "      <td>...</td>\n",
       "      <td>...</td>\n",
       "      <td>...</td>\n",
       "      <td>...</td>\n",
       "      <td>...</td>\n",
       "      <td>...</td>\n",
       "      <td>...</td>\n",
       "      <td>...</td>\n",
       "      <td>...</td>\n",
       "      <td>...</td>\n",
       "      <td>...</td>\n",
       "      <td>...</td>\n",
       "      <td>...</td>\n",
       "      <td>...</td>\n",
       "      <td>...</td>\n",
       "      <td>...</td>\n",
       "      <td>...</td>\n",
       "      <td>...</td>\n",
       "      <td>...</td>\n",
       "      <td>...</td>\n",
       "      <td>...</td>\n",
       "    </tr>\n",
       "    <tr>\n",
       "      <th>182945</th>\n",
       "      <td>685503</td>\n",
       "      <td>20210409</td>\n",
       "      <td>1</td>\n",
       "      <td>634478</td>\n",
       "      <td>140</td>\n",
       "      <td>35.0</td>\n",
       "      <td>1</td>\n",
       "      <td>0.0</td>\n",
       "      <td>0.0</td>\n",
       "      <td>0.0</td>\n",
       "      <td>...</td>\n",
       "      <td>0.0</td>\n",
       "      <td>0.0</td>\n",
       "      <td>0.0</td>\n",
       "      <td>0.0</td>\n",
       "      <td>0.0</td>\n",
       "      <td>0.0</td>\n",
       "      <td>1.0</td>\n",
       "      <td>0.0</td>\n",
       "      <td>1.0</td>\n",
       "      <td>1194</td>\n",
       "    </tr>\n",
       "    <tr>\n",
       "      <th>182946</th>\n",
       "      <td>685503</td>\n",
       "      <td>20210414</td>\n",
       "      <td>0</td>\n",
       "      <td>634496</td>\n",
       "      <td>140</td>\n",
       "      <td>35.0</td>\n",
       "      <td>1</td>\n",
       "      <td>0.0</td>\n",
       "      <td>0.0</td>\n",
       "      <td>0.0</td>\n",
       "      <td>...</td>\n",
       "      <td>0.0</td>\n",
       "      <td>0.0</td>\n",
       "      <td>0.0</td>\n",
       "      <td>0.0</td>\n",
       "      <td>0.0</td>\n",
       "      <td>1.0</td>\n",
       "      <td>0.0</td>\n",
       "      <td>0.0</td>\n",
       "      <td>1.0</td>\n",
       "      <td>1199</td>\n",
       "    </tr>\n",
       "    <tr>\n",
       "      <th>182947</th>\n",
       "      <td>685503</td>\n",
       "      <td>20210419</td>\n",
       "      <td>0</td>\n",
       "      <td>634536</td>\n",
       "      <td>140</td>\n",
       "      <td>35.0</td>\n",
       "      <td>1</td>\n",
       "      <td>0.0</td>\n",
       "      <td>0.0</td>\n",
       "      <td>0.0</td>\n",
       "      <td>...</td>\n",
       "      <td>0.0</td>\n",
       "      <td>0.0</td>\n",
       "      <td>0.0</td>\n",
       "      <td>0.0</td>\n",
       "      <td>0.0</td>\n",
       "      <td>0.0</td>\n",
       "      <td>0.0</td>\n",
       "      <td>0.0</td>\n",
       "      <td>0.0</td>\n",
       "      <td>1204</td>\n",
       "    </tr>\n",
       "    <tr>\n",
       "      <th>182948</th>\n",
       "      <td>685503</td>\n",
       "      <td>20210425</td>\n",
       "      <td>0</td>\n",
       "      <td>634393</td>\n",
       "      <td>140</td>\n",
       "      <td>35.0</td>\n",
       "      <td>1</td>\n",
       "      <td>0.0</td>\n",
       "      <td>0.0</td>\n",
       "      <td>0.0</td>\n",
       "      <td>...</td>\n",
       "      <td>0.0</td>\n",
       "      <td>1.0</td>\n",
       "      <td>0.0</td>\n",
       "      <td>0.0</td>\n",
       "      <td>0.0</td>\n",
       "      <td>0.0</td>\n",
       "      <td>0.0</td>\n",
       "      <td>0.0</td>\n",
       "      <td>0.0</td>\n",
       "      <td>1210</td>\n",
       "    </tr>\n",
       "    <tr>\n",
       "      <th>182949</th>\n",
       "      <td>685503</td>\n",
       "      <td>20210430</td>\n",
       "      <td>1</td>\n",
       "      <td>634337</td>\n",
       "      <td>140</td>\n",
       "      <td>35.0</td>\n",
       "      <td>1</td>\n",
       "      <td>0.0</td>\n",
       "      <td>0.0</td>\n",
       "      <td>0.0</td>\n",
       "      <td>...</td>\n",
       "      <td>0.0</td>\n",
       "      <td>0.0</td>\n",
       "      <td>0.0</td>\n",
       "      <td>0.0</td>\n",
       "      <td>0.0</td>\n",
       "      <td>0.0</td>\n",
       "      <td>0.0</td>\n",
       "      <td>0.0</td>\n",
       "      <td>0.0</td>\n",
       "      <td>1215</td>\n",
       "    </tr>\n",
       "  </tbody>\n",
       "</table>\n",
       "<p>182950 rows × 81 columns</p>\n",
       "</div>"
      ],
      "text/plain": [
       "        playerId      date  home  gamePk  teamId  jerseyNum  positionCode  \\\n",
       "0         112526  20180402     0  529469     140       40.0             1   \n",
       "1         112526  20180408     1  529546     140       40.0             1   \n",
       "2         112526  20180410     1  529565     140       40.0             1   \n",
       "3         112526  20180415     0  529640     140       40.0             1   \n",
       "4         112526  20180421     1  529718     140       40.0             1   \n",
       "...          ...       ...   ...     ...     ...        ...           ...   \n",
       "182945    685503  20210409     1  634478     140       35.0             1   \n",
       "182946    685503  20210414     0  634496     140       35.0             1   \n",
       "182947    685503  20210419     0  634536     140       35.0             1   \n",
       "182948    685503  20210425     0  634393     140       35.0             1   \n",
       "182949    685503  20210430     1  634337     140       35.0             1   \n",
       "\n",
       "        battingOrder  gamesPlayedBatting  flyOuts  ...  sacBuntsPitching  \\\n",
       "0                0.0                 0.0      0.0  ...               0.0   \n",
       "1                0.0                 0.0      0.0  ...               0.0   \n",
       "2                0.0                 0.0      0.0  ...               0.0   \n",
       "3                0.0                 0.0      0.0  ...               0.0   \n",
       "4                0.0                 0.0      0.0  ...               0.0   \n",
       "...              ...                 ...      ...  ...               ...   \n",
       "182945           0.0                 0.0      0.0  ...               0.0   \n",
       "182946           0.0                 0.0      0.0  ...               0.0   \n",
       "182947           0.0                 0.0      0.0  ...               0.0   \n",
       "182948           0.0                 0.0      0.0  ...               0.0   \n",
       "182949           0.0                 0.0      0.0  ...               0.0   \n",
       "\n",
       "        sacFliesPitching  saves  holds  blownSaves  assists  putOuts  errors  \\\n",
       "0                    0.0    0.0    0.0         0.0      1.0      0.0     0.0   \n",
       "1                    0.0    0.0    0.0         0.0      0.0      1.0     0.0   \n",
       "2                    1.0    0.0    0.0         0.0      2.0      0.0     0.0   \n",
       "3                    1.0    0.0    0.0         0.0      1.0      0.0     0.0   \n",
       "4                    1.0    0.0    0.0         0.0      0.0      2.0     0.0   \n",
       "...                  ...    ...    ...         ...      ...      ...     ...   \n",
       "182945               0.0    0.0    0.0         0.0      0.0      1.0     0.0   \n",
       "182946               0.0    0.0    0.0         0.0      1.0      0.0     0.0   \n",
       "182947               0.0    0.0    0.0         0.0      0.0      0.0     0.0   \n",
       "182948               1.0    0.0    0.0         0.0      0.0      0.0     0.0   \n",
       "182949               0.0    0.0    0.0         0.0      0.0      0.0     0.0   \n",
       "\n",
       "        chances  index  \n",
       "0           1.0     91  \n",
       "1           1.0     97  \n",
       "2           2.0     99  \n",
       "3           1.0    104  \n",
       "4           2.0    110  \n",
       "...         ...    ...  \n",
       "182945      1.0   1194  \n",
       "182946      1.0   1199  \n",
       "182947      0.0   1204  \n",
       "182948      0.0   1210  \n",
       "182949      0.0   1215  \n",
       "\n",
       "[182950 rows x 81 columns]"
      ]
     },
     "execution_count": 99,
     "metadata": {},
     "output_type": "execute_result"
    }
   ],
   "source": [
    "scores"
   ]
  },
  {
   "cell_type": "code",
   "execution_count": 100,
   "id": "a3f5f386",
   "metadata": {},
   "outputs": [],
   "source": [
    "seasons = seasons.fillna('0000-00-00')\n",
    "for c_ in seasons.columns[1:]:\n",
    "    seasons[c_] = seasons[c_].str.replace('-', '').astype(int)"
   ]
  },
  {
   "cell_type": "code",
   "execution_count": 101,
   "id": "d5bb03f8",
   "metadata": {},
   "outputs": [],
   "source": [
    "game_dates_range = []\n",
    "game_dates_range.append(np.array([20170101, 20171231]))\n",
    "game_dates_range.append(scores[scores['date'] <= 20181231].sort_values('date')['date'].iloc[[0, -1]].values)\n",
    "game_dates_range.append(scores[(scores['date'] >= 20190101) & (scores['date'] <= 20191231)].sort_values('date')['date'].iloc[[0, -1]].values)\n",
    "game_dates_range.append(scores[(scores['date'] >= 20200101) & (scores['date'] <= 20201231)].sort_values('date')['date'].iloc[[0, -1]].values)\n",
    "game_dates_range.append(scores[(scores['date'] >= 20210101)].sort_values('date')['date'].iloc[[0, -1]].values)\n",
    "game_dates_range = np.array(game_dates_range)"
   ]
  },
  {
   "cell_type": "code",
   "execution_count": 102,
   "id": "895e6761",
   "metadata": {},
   "outputs": [],
   "source": [
    "seasons['gameStartDate'] = game_dates_range[:, 0]\n",
    "seasons['gameEndDate'] = game_dates_range[:, 1]"
   ]
  },
  {
   "cell_type": "code",
   "execution_count": 103,
   "id": "56291715",
   "metadata": {},
   "outputs": [
    {
     "data": {
      "text/html": [
       "<div>\n",
       "<style scoped>\n",
       "    .dataframe tbody tr th:only-of-type {\n",
       "        vertical-align: middle;\n",
       "    }\n",
       "\n",
       "    .dataframe tbody tr th {\n",
       "        vertical-align: top;\n",
       "    }\n",
       "\n",
       "    .dataframe thead th {\n",
       "        text-align: right;\n",
       "    }\n",
       "</style>\n",
       "<table border=\"1\" class=\"dataframe\">\n",
       "  <thead>\n",
       "    <tr style=\"text-align: right;\">\n",
       "      <th></th>\n",
       "      <th>seasonId</th>\n",
       "      <th>seasonStartDate</th>\n",
       "      <th>seasonEndDate</th>\n",
       "      <th>preSeasonStartDate</th>\n",
       "      <th>preSeasonEndDate</th>\n",
       "      <th>regularSeasonStartDate</th>\n",
       "      <th>regularSeasonEndDate</th>\n",
       "      <th>lastDate1stHalf</th>\n",
       "      <th>allStarDate</th>\n",
       "      <th>firstDate2ndHalf</th>\n",
       "      <th>postSeasonStartDate</th>\n",
       "      <th>postSeasonEndDate</th>\n",
       "      <th>gameStartDate</th>\n",
       "      <th>gameEndDate</th>\n",
       "    </tr>\n",
       "  </thead>\n",
       "  <tbody>\n",
       "    <tr>\n",
       "      <th>0</th>\n",
       "      <td>2017</td>\n",
       "      <td>20170402</td>\n",
       "      <td>20171101</td>\n",
       "      <td>20170222</td>\n",
       "      <td>20170401</td>\n",
       "      <td>20170402</td>\n",
       "      <td>20171001</td>\n",
       "      <td>20170709</td>\n",
       "      <td>20170711</td>\n",
       "      <td>20170714</td>\n",
       "      <td>20171003</td>\n",
       "      <td>20171101</td>\n",
       "      <td>20170101</td>\n",
       "      <td>20171231</td>\n",
       "    </tr>\n",
       "    <tr>\n",
       "      <th>1</th>\n",
       "      <td>2018</td>\n",
       "      <td>20180329</td>\n",
       "      <td>20181028</td>\n",
       "      <td>20180221</td>\n",
       "      <td>20180327</td>\n",
       "      <td>20180329</td>\n",
       "      <td>20181001</td>\n",
       "      <td>20180715</td>\n",
       "      <td>20180717</td>\n",
       "      <td>20180719</td>\n",
       "      <td>20181002</td>\n",
       "      <td>20181028</td>\n",
       "      <td>20180329</td>\n",
       "      <td>20181028</td>\n",
       "    </tr>\n",
       "    <tr>\n",
       "      <th>2</th>\n",
       "      <td>2019</td>\n",
       "      <td>20190320</td>\n",
       "      <td>20191030</td>\n",
       "      <td>20190221</td>\n",
       "      <td>20190326</td>\n",
       "      <td>20190320</td>\n",
       "      <td>20190929</td>\n",
       "      <td>20190707</td>\n",
       "      <td>20190709</td>\n",
       "      <td>20190711</td>\n",
       "      <td>20191001</td>\n",
       "      <td>20191030</td>\n",
       "      <td>20190320</td>\n",
       "      <td>20191030</td>\n",
       "    </tr>\n",
       "    <tr>\n",
       "      <th>3</th>\n",
       "      <td>2020</td>\n",
       "      <td>20200723</td>\n",
       "      <td>20201028</td>\n",
       "      <td>20200221</td>\n",
       "      <td>20200722</td>\n",
       "      <td>20200723</td>\n",
       "      <td>20200927</td>\n",
       "      <td>20200825</td>\n",
       "      <td>0</td>\n",
       "      <td>20200826</td>\n",
       "      <td>20200929</td>\n",
       "      <td>20201028</td>\n",
       "      <td>20200723</td>\n",
       "      <td>20201027</td>\n",
       "    </tr>\n",
       "    <tr>\n",
       "      <th>4</th>\n",
       "      <td>2021</td>\n",
       "      <td>20210228</td>\n",
       "      <td>20211031</td>\n",
       "      <td>20210228</td>\n",
       "      <td>20210330</td>\n",
       "      <td>20210401</td>\n",
       "      <td>20211003</td>\n",
       "      <td>20210711</td>\n",
       "      <td>20210713</td>\n",
       "      <td>20210715</td>\n",
       "      <td>20211004</td>\n",
       "      <td>20211031</td>\n",
       "      <td>20210401</td>\n",
       "      <td>20210430</td>\n",
       "    </tr>\n",
       "  </tbody>\n",
       "</table>\n",
       "</div>"
      ],
      "text/plain": [
       "   seasonId  seasonStartDate  seasonEndDate  preSeasonStartDate  \\\n",
       "0      2017         20170402       20171101            20170222   \n",
       "1      2018         20180329       20181028            20180221   \n",
       "2      2019         20190320       20191030            20190221   \n",
       "3      2020         20200723       20201028            20200221   \n",
       "4      2021         20210228       20211031            20210228   \n",
       "\n",
       "   preSeasonEndDate  regularSeasonStartDate  regularSeasonEndDate  \\\n",
       "0          20170401                20170402              20171001   \n",
       "1          20180327                20180329              20181001   \n",
       "2          20190326                20190320              20190929   \n",
       "3          20200722                20200723              20200927   \n",
       "4          20210330                20210401              20211003   \n",
       "\n",
       "   lastDate1stHalf  allStarDate  firstDate2ndHalf  postSeasonStartDate  \\\n",
       "0         20170709     20170711          20170714             20171003   \n",
       "1         20180715     20180717          20180719             20181002   \n",
       "2         20190707     20190709          20190711             20191001   \n",
       "3         20200825            0          20200826             20200929   \n",
       "4         20210711     20210713          20210715             20211004   \n",
       "\n",
       "   postSeasonEndDate  gameStartDate  gameEndDate  \n",
       "0           20171101       20170101     20171231  \n",
       "1           20181028       20180329     20181028  \n",
       "2           20191030       20190320     20191030  \n",
       "3           20201028       20200723     20201027  \n",
       "4           20211031       20210401     20210430  "
      ]
     },
     "execution_count": 103,
     "metadata": {},
     "output_type": "execute_result"
    }
   ],
   "source": [
    "seasons"
   ]
  },
  {
   "cell_type": "code",
   "execution_count": 104,
   "id": "9164711b",
   "metadata": {},
   "outputs": [],
   "source": [
    "targets_train = targets.merge(rosters[rosters_cols], on=['playerId', 'date'], how='left')"
   ]
  },
  {
   "cell_type": "code",
   "execution_count": 105,
   "id": "5949cb61",
   "metadata": {},
   "outputs": [],
   "source": [
    "targets_train = targets_train[(targets_train['date'] >= 20210401)]"
   ]
  },
  {
   "cell_type": "code",
   "execution_count": 106,
   "id": "2d00d693",
   "metadata": {},
   "outputs": [
    {
     "data": {
      "text/html": [
       "<div>\n",
       "<style scoped>\n",
       "    .dataframe tbody tr th:only-of-type {\n",
       "        vertical-align: middle;\n",
       "    }\n",
       "\n",
       "    .dataframe tbody tr th {\n",
       "        vertical-align: top;\n",
       "    }\n",
       "\n",
       "    .dataframe thead th {\n",
       "        text-align: right;\n",
       "    }\n",
       "</style>\n",
       "<table border=\"1\" class=\"dataframe\">\n",
       "  <thead>\n",
       "    <tr style=\"text-align: right;\">\n",
       "      <th></th>\n",
       "      <th>engagementMetricsDate</th>\n",
       "      <th>playerId</th>\n",
       "      <th>target1</th>\n",
       "      <th>target2</th>\n",
       "      <th>target3</th>\n",
       "      <th>target4</th>\n",
       "      <th>index</th>\n",
       "      <th>date</th>\n",
       "      <th>teamId</th>\n",
       "      <th>status</th>\n",
       "    </tr>\n",
       "  </thead>\n",
       "  <tbody>\n",
       "    <tr>\n",
       "      <th>2444346</th>\n",
       "      <td>2021-04-02</td>\n",
       "      <td>624415</td>\n",
       "      <td>2.810640</td>\n",
       "      <td>3.998462</td>\n",
       "      <td>0.136137</td>\n",
       "      <td>10.012438</td>\n",
       "      <td>1186</td>\n",
       "      <td>20210401</td>\n",
       "      <td>141.0</td>\n",
       "      <td>Active</td>\n",
       "    </tr>\n",
       "    <tr>\n",
       "      <th>2444347</th>\n",
       "      <td>2021-04-02</td>\n",
       "      <td>656548</td>\n",
       "      <td>0.000000</td>\n",
       "      <td>0.153787</td>\n",
       "      <td>0.068889</td>\n",
       "      <td>0.062189</td>\n",
       "      <td>1186</td>\n",
       "      <td>20210401</td>\n",
       "      <td>146.0</td>\n",
       "      <td>Reassigned to Minors</td>\n",
       "    </tr>\n",
       "    <tr>\n",
       "      <th>2444348</th>\n",
       "      <td>2021-04-02</td>\n",
       "      <td>400284</td>\n",
       "      <td>0.000971</td>\n",
       "      <td>0.010985</td>\n",
       "      <td>0.021323</td>\n",
       "      <td>3.182007</td>\n",
       "      <td>1186</td>\n",
       "      <td>20210401</td>\n",
       "      <td>NaN</td>\n",
       "      <td>NaN</td>\n",
       "    </tr>\n",
       "    <tr>\n",
       "      <th>2444349</th>\n",
       "      <td>2021-04-02</td>\n",
       "      <td>606157</td>\n",
       "      <td>0.002736</td>\n",
       "      <td>1.642226</td>\n",
       "      <td>0.021323</td>\n",
       "      <td>0.549337</td>\n",
       "      <td>1186</td>\n",
       "      <td>20210401</td>\n",
       "      <td>113.0</td>\n",
       "      <td>Active</td>\n",
       "    </tr>\n",
       "    <tr>\n",
       "      <th>2444350</th>\n",
       "      <td>2021-04-02</td>\n",
       "      <td>665620</td>\n",
       "      <td>0.020473</td>\n",
       "      <td>0.411929</td>\n",
       "      <td>0.549469</td>\n",
       "      <td>0.435323</td>\n",
       "      <td>1186</td>\n",
       "      <td>20210401</td>\n",
       "      <td>147.0</td>\n",
       "      <td>Reassigned to Minors</td>\n",
       "    </tr>\n",
       "    <tr>\n",
       "      <th>...</th>\n",
       "      <td>...</td>\n",
       "      <td>...</td>\n",
       "      <td>...</td>\n",
       "      <td>...</td>\n",
       "      <td>...</td>\n",
       "      <td>...</td>\n",
       "      <td>...</td>\n",
       "      <td>...</td>\n",
       "      <td>...</td>\n",
       "      <td>...</td>\n",
       "    </tr>\n",
       "    <tr>\n",
       "      <th>2506171</th>\n",
       "      <td>2021-05-01</td>\n",
       "      <td>451661</td>\n",
       "      <td>0.000000</td>\n",
       "      <td>0.013314</td>\n",
       "      <td>0.000000</td>\n",
       "      <td>0.625925</td>\n",
       "      <td>1215</td>\n",
       "      <td>20210430</td>\n",
       "      <td>NaN</td>\n",
       "      <td>NaN</td>\n",
       "    </tr>\n",
       "    <tr>\n",
       "      <th>2506172</th>\n",
       "      <td>2021-05-01</td>\n",
       "      <td>519301</td>\n",
       "      <td>0.000131</td>\n",
       "      <td>0.003329</td>\n",
       "      <td>0.000000</td>\n",
       "      <td>0.216229</td>\n",
       "      <td>1215</td>\n",
       "      <td>20210430</td>\n",
       "      <td>NaN</td>\n",
       "      <td>NaN</td>\n",
       "    </tr>\n",
       "    <tr>\n",
       "      <th>2506173</th>\n",
       "      <td>2021-05-01</td>\n",
       "      <td>527055</td>\n",
       "      <td>0.000000</td>\n",
       "      <td>0.019971</td>\n",
       "      <td>0.000000</td>\n",
       "      <td>0.273131</td>\n",
       "      <td>1215</td>\n",
       "      <td>20210430</td>\n",
       "      <td>NaN</td>\n",
       "      <td>NaN</td>\n",
       "    </tr>\n",
       "    <tr>\n",
       "      <th>2506174</th>\n",
       "      <td>2021-05-01</td>\n",
       "      <td>543484</td>\n",
       "      <td>0.000131</td>\n",
       "      <td>0.056586</td>\n",
       "      <td>0.000000</td>\n",
       "      <td>1.024240</td>\n",
       "      <td>1215</td>\n",
       "      <td>20210430</td>\n",
       "      <td>NaN</td>\n",
       "      <td>NaN</td>\n",
       "    </tr>\n",
       "    <tr>\n",
       "      <th>2506175</th>\n",
       "      <td>2021-05-01</td>\n",
       "      <td>605525</td>\n",
       "      <td>0.000131</td>\n",
       "      <td>0.499284</td>\n",
       "      <td>0.000000</td>\n",
       "      <td>0.386935</td>\n",
       "      <td>1215</td>\n",
       "      <td>20210430</td>\n",
       "      <td>133.0</td>\n",
       "      <td>Active</td>\n",
       "    </tr>\n",
       "  </tbody>\n",
       "</table>\n",
       "<p>61830 rows × 10 columns</p>\n",
       "</div>"
      ],
      "text/plain": [
       "        engagementMetricsDate  playerId   target1   target2   target3  \\\n",
       "2444346            2021-04-02    624415  2.810640  3.998462  0.136137   \n",
       "2444347            2021-04-02    656548  0.000000  0.153787  0.068889   \n",
       "2444348            2021-04-02    400284  0.000971  0.010985  0.021323   \n",
       "2444349            2021-04-02    606157  0.002736  1.642226  0.021323   \n",
       "2444350            2021-04-02    665620  0.020473  0.411929  0.549469   \n",
       "...                       ...       ...       ...       ...       ...   \n",
       "2506171            2021-05-01    451661  0.000000  0.013314  0.000000   \n",
       "2506172            2021-05-01    519301  0.000131  0.003329  0.000000   \n",
       "2506173            2021-05-01    527055  0.000000  0.019971  0.000000   \n",
       "2506174            2021-05-01    543484  0.000131  0.056586  0.000000   \n",
       "2506175            2021-05-01    605525  0.000131  0.499284  0.000000   \n",
       "\n",
       "           target4  index      date  teamId                status  \n",
       "2444346  10.012438   1186  20210401   141.0                Active  \n",
       "2444347   0.062189   1186  20210401   146.0  Reassigned to Minors  \n",
       "2444348   3.182007   1186  20210401     NaN                   NaN  \n",
       "2444349   0.549337   1186  20210401   113.0                Active  \n",
       "2444350   0.435323   1186  20210401   147.0  Reassigned to Minors  \n",
       "...            ...    ...       ...     ...                   ...  \n",
       "2506171   0.625925   1215  20210430     NaN                   NaN  \n",
       "2506172   0.216229   1215  20210430     NaN                   NaN  \n",
       "2506173   0.273131   1215  20210430     NaN                   NaN  \n",
       "2506174   1.024240   1215  20210430     NaN                   NaN  \n",
       "2506175   0.386935   1215  20210430   133.0                Active  \n",
       "\n",
       "[61830 rows x 10 columns]"
      ]
     },
     "execution_count": 106,
     "metadata": {},
     "output_type": "execute_result"
    }
   ],
   "source": [
    "targets_train"
   ]
  },
  {
   "cell_type": "code",
   "execution_count": 107,
   "id": "3d049db8",
   "metadata": {},
   "outputs": [],
   "source": [
    "playerId_list = targets_train['playerId'].unique()"
   ]
  },
  {
   "cell_type": "code",
   "execution_count": 108,
   "id": "d70a1872",
   "metadata": {},
   "outputs": [],
   "source": [
    "def calc_corr(df):\n",
    "    # 相関係数行列を作成\n",
    "    corr_mat = df.corr(method='pearson')\n",
    "\n",
    "    # 行（列）サイズを取得\n",
    "    n = corr_mat.shape[0]\n",
    "    corr_ary = []\n",
    "\n",
    "    for i in range(n):\n",
    "        for j in range(i):\n",
    "            if i == j:\n",
    "                continue\n",
    "            corr_ary.append(corr_mat.iloc[i,j])\n",
    "\n",
    "    return corr_ary"
   ]
  },
  {
   "cell_type": "code",
   "execution_count": 109,
   "id": "157ea90b",
   "metadata": {},
   "outputs": [
    {
     "name": "stderr",
     "output_type": "stream",
     "text": [
      "100%|██████████| 2061/2061 [00:45<00:00, 45.72it/s]\n"
     ]
    }
   ],
   "source": [
    "def calc_probs(pid,df,temp):\n",
    "    to_append=[pid,'','','','','','','','','','','','','','','','','','','','','','','','','','','','','','','','','','']\n",
    "    targets=['target1','target2','target3','target4']\n",
    "    z=1\n",
    "    for target in targets:\n",
    "        target_prob = temp[target].tolist()\n",
    "        mean = np.mean(target_prob)\n",
    "        std = np.std(target_prob)\n",
    "        median = st.median(target_prob)\n",
    "        distribution = norm(mean, std)\n",
    "        min_weight = min(target_prob)\n",
    "        max_weight = max(target_prob)\n",
    "        values = list(np.linspace(min_weight, max_weight))\n",
    "        probabilities = [distribution.pdf(v) for v in values]\n",
    "        max_value = max(probabilities)\n",
    "        max_index = probabilities.index(max_value)\n",
    "        to_append[z]=mean\n",
    "        to_append[z+1]=median\n",
    "        to_append[z+2]=std\n",
    "        to_append[z+3]=min_weight\n",
    "        to_append[z+4]=max_weight\n",
    "        to_append[z+5]=temp[target].skew()\n",
    "        to_append[z+6]=temp[target].kurt()\n",
    "\n",
    "        z=z+7\n",
    "    corr_ = calc_corr(temp[['target1', 'target2', 'target3', 'target4']])\n",
    "    to_append[z:] = corr_  \n",
    "    df_length = len(df)\n",
    "    df.loc[df_length] = to_append\n",
    "    return df\n",
    "\n",
    "    \n",
    "\n",
    "### CREATE DATAFRAME to store probabilities\n",
    "column_names = [\"playerId\", \"target1_mean\",\"target1_median\",\"target1_std\",\"target1_min\",\"target1_max\",\"target1_skew\",\"target1_kurt\",\n",
    "                \"target2_mean\",\"target2_median\",\"target2_std\",\"target2_min\",\"target2_max\",\"target2_skew\",\"target2_kurt\",\n",
    "                \"target3_mean\",\"target3_median\",\"target3_std\",\"target3_min\",\"target3_max\",\"target3_skew\",\"target3_kurt\",\n",
    "                \"target4_mean\",\"target4_median\",\"target4_std\",\"target4_min\",\"target4_max\",\"target4_skew\",\"target4_kurt\",\n",
    "                'tgt1_2_corr', 'tgt1_3_corr', 'tgt2_3_corr', 'tgt1_4_corr', 'tgt2_4_corr', 'tgt3_4_corr']\n",
    "player_target_probs = pd.DataFrame(columns = column_names)\n",
    "    \n",
    "for pid in tqdm(playerId_list):\n",
    "    temp = targets_train[targets_train['playerId'] == pid]\n",
    "    player_target_stats=calc_probs(pid,player_target_probs,temp)"
   ]
  },
  {
   "cell_type": "code",
   "execution_count": 110,
   "id": "25c6d196",
   "metadata": {},
   "outputs": [],
   "source": [
    "teamId_list = targets_train['teamId'].dropna().unique()"
   ]
  },
  {
   "cell_type": "code",
   "execution_count": 111,
   "id": "50da0140",
   "metadata": {},
   "outputs": [
    {
     "name": "stderr",
     "output_type": "stream",
     "text": [
      "100%|██████████| 30/30 [00:00<00:00, 43.05it/s]\n"
     ]
    }
   ],
   "source": [
    "team_target_probs = pd.DataFrame(columns = column_names)\n",
    "    \n",
    "for pid in tqdm(teamId_list):\n",
    "    temp = targets_train[targets_train['teamId'] == pid]\n",
    "    team_target_stats=calc_probs(pid,team_target_probs,temp)"
   ]
  },
  {
   "cell_type": "code",
   "execution_count": 112,
   "id": "e416b4a9",
   "metadata": {},
   "outputs": [],
   "source": [
    "c_ = list(team_target_stats.columns)\n",
    "c_ = c_[:1] + [\"team_\" + word for word in c_[1:]]\n",
    "team_target_stats.columns = c_"
   ]
  },
  {
   "cell_type": "code",
   "execution_count": 113,
   "id": "cb608503",
   "metadata": {},
   "outputs": [],
   "source": [
    "feature_cols1 += c_[1:]\n",
    "feature_cols2 += c_[1:]\n",
    "feature_cols3 += c_[1:]\n",
    "feature_cols4 += c_[1:]"
   ]
  },
  {
   "cell_type": "code",
   "execution_count": 114,
   "id": "928fe83a",
   "metadata": {},
   "outputs": [],
   "source": [
    "data_names=player_target_stats.columns.values.tolist()"
   ]
  },
  {
   "cell_type": "code",
   "execution_count": 115,
   "id": "27d970b7",
   "metadata": {},
   "outputs": [],
   "source": [
    "players['DOY'] = pd.to_datetime(players['DOB'], format=\"%Y-%m-%d\").dt.year\n",
    "players['mlbDebutYear'] = pd.to_datetime(players['mlbDebutDate'], format=\"%Y-%m-%d\").dt.year\n",
    "players['DebutAge'] = players['mlbDebutYear'] - players['DOY']"
   ]
  },
  {
   "cell_type": "code",
   "execution_count": 116,
   "id": "7541ab45",
   "metadata": {},
   "outputs": [],
   "source": [
    "# creat dataset\n",
    "train = targets[targets_cols].merge(players[players_cols], on=['playerId'], how='left')\n",
    "train = train.merge(rosters[rosters_cols], on=['playerId', 'date'], how='left')\n",
    "train = train.merge(scores[scores_cols], on=['playerId', 'date'], how='left')\n",
    "train = train.merge(player_target_stats, how='inner', left_on=[\"playerId\"],right_on=[\"playerId\"])\n",
    "train = train.merge(standings[standings_cols], on=['teamId', 'date'], how='left')\n",
    "train = train.merge(team_target_stats, how='left', left_on=[\"teamId\"],right_on=[\"playerId\"], suffixes=('', 'team_'))\n",
    "train = train.merge(awards, on=['playerId', 'date'], how='left')\n"
   ]
  },
  {
   "cell_type": "code",
   "execution_count": 117,
   "id": "558d0bfd",
   "metadata": {},
   "outputs": [],
   "source": [
    "# label encoding\n",
    "player2num = {c: i for i, c in enumerate(train['playerId'].unique())}\n",
    "position2num = {c: i for i, c in enumerate(train['primaryPositionName'].unique())}\n",
    "birthCityn2num = {c: i for i, c in enumerate(train['birthCity'].unique())}\n",
    "teamid2num = {c: i for i, c in enumerate(train['teamId'].unique())}\n",
    "status2num = {c: i for i, c in enumerate(train['status'].unique())}\n",
    "status2num = {c: i for i, c in enumerate(train['status'].unique())}\n",
    "awardName2num = {c: i for i, c in enumerate(train['awardName'].unique())}\n",
    "train['label_playerId'] = train['playerId'].map(player2num)\n",
    "train['label_primaryPositionName'] = train['primaryPositionName'].map(position2num)\n",
    "train['label_birthCity'] = train['birthCity'].map(birthCityn2num)\n",
    "train['label_teamId'] = train['teamId'].map(teamid2num)\n",
    "train['label_status'] = train['status'].map(status2num)\n",
    "train['label_awardName'] = train['awardName'].map(awardName2num)\n",
    "train['label_awardName'] = (train['label_awardName'] != 0) * 1"
   ]
  },
  {
   "cell_type": "code",
   "execution_count": 118,
   "id": "7a952e67",
   "metadata": {},
   "outputs": [],
   "source": [
    "date_ = pd.to_datetime(train['date'], format=\"%Y%m%d\")\n",
    "train['annual_day'] = (date_ - pd.to_datetime(date_.dt.year, format=\"%Y\")) /  timedelta(days=1)\n",
    "train['week_day'] = date_.dt.weekday\n",
    "train['month'] = date_.dt.month"
   ]
  },
  {
   "cell_type": "code",
   "execution_count": 119,
   "id": "0240bd57",
   "metadata": {},
   "outputs": [],
   "source": [
    "train['gameday'] = ~train['battingOrder'].isna()*1"
   ]
  },
  {
   "cell_type": "code",
   "execution_count": 120,
   "id": "8fb93efb",
   "metadata": {},
   "outputs": [],
   "source": [
    "train.sort_values(by=['playerId','date'],inplace=True,ascending=True)"
   ]
  },
  {
   "cell_type": "code",
   "execution_count": 121,
   "id": "2fe71d1a",
   "metadata": {},
   "outputs": [],
   "source": [
    "def count_consecutive_items_n_cols(df, col_name_list, output_col):\n",
    "    cum_sum_list = [\n",
    "        (df[col_name] != df[col_name].shift(1)).cumsum().tolist() for col_name in col_name_list\n",
    "    ]\n",
    "    df[output_col] = df.groupby(\n",
    "        [\"_\".join(map(str, x)) for x in zip(*cum_sum_list)]\n",
    "    ).cumcount() + 1\n",
    "    return df"
   ]
  },
  {
   "cell_type": "code",
   "execution_count": 122,
   "id": "29d9cee7",
   "metadata": {},
   "outputs": [],
   "source": [
    "train=count_consecutive_items_n_cols(train,['playerId','gameday'],'daysSinceLastGame')\n",
    "train.loc[train['gameday']==1,'daysSinceLastGame']=0"
   ]
  },
  {
   "cell_type": "code",
   "execution_count": 123,
   "id": "dcbd191a",
   "metadata": {},
   "outputs": [],
   "source": [
    "train_game = train[train['gameday']==1]\n",
    "train_last_game = train_game[~train_game.duplicated(subset='playerId', keep='last')][['playerId', 'date']]\n",
    "train_last_game.columns = ['playerId', 'lastdate']\n",
    "train_player_unique = pd.DataFrame(train['playerId'].unique(), columns=['playerId'])\n",
    "train_last_game = pd.merge(train_player_unique, train_last_game, on=['playerId'], how='left' )\n",
    "train_last_game = train_last_game.fillna(20171231)"
   ]
  },
  {
   "cell_type": "code",
   "execution_count": 124,
   "id": "cee078e7",
   "metadata": {},
   "outputs": [
    {
     "data": {
      "text/html": [
       "<div>\n",
       "<style scoped>\n",
       "    .dataframe tbody tr th:only-of-type {\n",
       "        vertical-align: middle;\n",
       "    }\n",
       "\n",
       "    .dataframe tbody tr th {\n",
       "        vertical-align: top;\n",
       "    }\n",
       "\n",
       "    .dataframe thead th {\n",
       "        text-align: right;\n",
       "    }\n",
       "</style>\n",
       "<table border=\"1\" class=\"dataframe\">\n",
       "  <thead>\n",
       "    <tr style=\"text-align: right;\">\n",
       "      <th></th>\n",
       "      <th>playerId</th>\n",
       "      <th>lastdate</th>\n",
       "    </tr>\n",
       "  </thead>\n",
       "  <tbody>\n",
       "    <tr>\n",
       "      <th>856</th>\n",
       "      <td>593590</td>\n",
       "      <td>20171231.0</td>\n",
       "    </tr>\n",
       "    <tr>\n",
       "      <th>1995</th>\n",
       "      <td>670462</td>\n",
       "      <td>20171231.0</td>\n",
       "    </tr>\n",
       "    <tr>\n",
       "      <th>2000</th>\n",
       "      <td>670764</td>\n",
       "      <td>20171231.0</td>\n",
       "    </tr>\n",
       "    <tr>\n",
       "      <th>1765</th>\n",
       "      <td>661269</td>\n",
       "      <td>20171231.0</td>\n",
       "    </tr>\n",
       "    <tr>\n",
       "      <th>1932</th>\n",
       "      <td>667674</td>\n",
       "      <td>20171231.0</td>\n",
       "    </tr>\n",
       "    <tr>\n",
       "      <th>...</th>\n",
       "      <td>...</td>\n",
       "      <td>...</td>\n",
       "    </tr>\n",
       "    <tr>\n",
       "      <th>473</th>\n",
       "      <td>542932</td>\n",
       "      <td>20210430.0</td>\n",
       "    </tr>\n",
       "    <tr>\n",
       "      <th>1480</th>\n",
       "      <td>641856</td>\n",
       "      <td>20210430.0</td>\n",
       "    </tr>\n",
       "    <tr>\n",
       "      <th>1481</th>\n",
       "      <td>641857</td>\n",
       "      <td>20210430.0</td>\n",
       "    </tr>\n",
       "    <tr>\n",
       "      <th>483</th>\n",
       "      <td>543037</td>\n",
       "      <td>20210430.0</td>\n",
       "    </tr>\n",
       "    <tr>\n",
       "      <th>2060</th>\n",
       "      <td>685503</td>\n",
       "      <td>20210430.0</td>\n",
       "    </tr>\n",
       "  </tbody>\n",
       "</table>\n",
       "<p>2061 rows × 2 columns</p>\n",
       "</div>"
      ],
      "text/plain": [
       "      playerId    lastdate\n",
       "856     593590  20171231.0\n",
       "1995    670462  20171231.0\n",
       "2000    670764  20171231.0\n",
       "1765    661269  20171231.0\n",
       "1932    667674  20171231.0\n",
       "...        ...         ...\n",
       "473     542932  20210430.0\n",
       "1480    641856  20210430.0\n",
       "1481    641857  20210430.0\n",
       "483     543037  20210430.0\n",
       "2060    685503  20210430.0\n",
       "\n",
       "[2061 rows x 2 columns]"
      ]
     },
     "execution_count": 124,
     "metadata": {},
     "output_type": "execute_result"
    }
   ],
   "source": [
    "train_last_game.sort_values('lastdate')"
   ]
  },
  {
   "cell_type": "code",
   "execution_count": 125,
   "id": "69c5621b",
   "metadata": {},
   "outputs": [],
   "source": [
    "def extract_season(date_raw, season_start_end):\n",
    "    idxes = 0\n",
    "    for raw in season_start_end.iloc():\n",
    "        idx_ = ((date_raw >= raw.iloc[0]) & (date_raw <= raw.iloc[1])) * 1\n",
    "        idxes += idx_\n",
    "    return idxes"
   ]
  },
  {
   "cell_type": "code",
   "execution_count": 126,
   "id": "8bac05af",
   "metadata": {},
   "outputs": [],
   "source": [
    "on_preseason_idxes = extract_season(train['date'], seasons[['preSeasonStartDate', 'preSeasonEndDate']])\n",
    "on_season_idxes = extract_season(train['date'], seasons[['regularSeasonStartDate', 'regularSeasonEndDate']]) * 2\n",
    "on_postseason_idxes = extract_season(train['date'], seasons[['postSeasonStartDate', 'postSeasonEndDate']]) * 3\n",
    "\n",
    "special_days = seasons['lastDate1stHalf'].to_list() + seasons['allStarDate'].to_list() + seasons['firstDate2ndHalf'].to_list()\n",
    "special_idxes = 0\n",
    "for day in special_days:\n",
    "    special_idxes += (train['date'] == day) * 4\n",
    "\n",
    "on_total_season_idxes = on_preseason_idxes\n",
    "on_total_season_idxes[on_season_idxes==2] = 2\n",
    "on_total_season_idxes[on_postseason_idxes==3] = 3\n",
    "on_total_season_idxes[special_idxes==4] = 4\n",
    "\n",
    "train['season_info'] = on_total_season_idxes"
   ]
  },
  {
   "cell_type": "code",
   "execution_count": 127,
   "id": "cb462744",
   "metadata": {},
   "outputs": [],
   "source": [
    "## only on season\n",
    "on_whole_idxes = extract_season(train['date'], seasons[['seasonStartDate', 'seasonEndDate']])\n",
    "train = train[on_whole_idxes == 1].reset_index(drop=True)"
   ]
  },
  {
   "cell_type": "code",
   "execution_count": 128,
   "id": "5d16055e",
   "metadata": {},
   "outputs": [],
   "source": [
    "train = train[train['playerForTestSetAndFuturePreds']==True].reset_index(drop=True)"
   ]
  },
  {
   "cell_type": "code",
   "execution_count": 129,
   "id": "22e67797",
   "metadata": {},
   "outputs": [
    {
     "data": {
      "text/html": [
       "<div>\n",
       "<style scoped>\n",
       "    .dataframe tbody tr th:only-of-type {\n",
       "        vertical-align: middle;\n",
       "    }\n",
       "\n",
       "    .dataframe tbody tr th {\n",
       "        vertical-align: top;\n",
       "    }\n",
       "\n",
       "    .dataframe thead th {\n",
       "        text-align: right;\n",
       "    }\n",
       "</style>\n",
       "<table border=\"1\" class=\"dataframe\">\n",
       "  <thead>\n",
       "    <tr style=\"text-align: right;\">\n",
       "      <th></th>\n",
       "      <th>playerId</th>\n",
       "      <th>target1</th>\n",
       "      <th>target2</th>\n",
       "      <th>target3</th>\n",
       "      <th>target4</th>\n",
       "      <th>date</th>\n",
       "      <th>primaryPositionName</th>\n",
       "      <th>birthCity</th>\n",
       "      <th>DOY</th>\n",
       "      <th>mlbDebutYear</th>\n",
       "      <th>...</th>\n",
       "      <th>label_birthCity</th>\n",
       "      <th>label_teamId</th>\n",
       "      <th>label_status</th>\n",
       "      <th>label_awardName</th>\n",
       "      <th>annual_day</th>\n",
       "      <th>week_day</th>\n",
       "      <th>month</th>\n",
       "      <th>gameday</th>\n",
       "      <th>daysSinceLastGame</th>\n",
       "      <th>season_info</th>\n",
       "    </tr>\n",
       "  </thead>\n",
       "  <tbody>\n",
       "    <tr>\n",
       "      <th>0</th>\n",
       "      <td>405395</td>\n",
       "      <td>1.916353</td>\n",
       "      <td>21.512858</td>\n",
       "      <td>0.078997</td>\n",
       "      <td>7.389917</td>\n",
       "      <td>20180329</td>\n",
       "      <td>First Base</td>\n",
       "      <td>Santo Domingo</td>\n",
       "      <td>1980</td>\n",
       "      <td>2001.0</td>\n",
       "      <td>...</td>\n",
       "      <td>52</td>\n",
       "      <td>8</td>\n",
       "      <td>0</td>\n",
       "      <td>0</td>\n",
       "      <td>87.0</td>\n",
       "      <td>3</td>\n",
       "      <td>3</td>\n",
       "      <td>1</td>\n",
       "      <td>0</td>\n",
       "      <td>2</td>\n",
       "    </tr>\n",
       "    <tr>\n",
       "      <th>1</th>\n",
       "      <td>405395</td>\n",
       "      <td>2.431219</td>\n",
       "      <td>38.280184</td>\n",
       "      <td>0.080521</td>\n",
       "      <td>10.307364</td>\n",
       "      <td>20180330</td>\n",
       "      <td>First Base</td>\n",
       "      <td>Santo Domingo</td>\n",
       "      <td>1980</td>\n",
       "      <td>2001.0</td>\n",
       "      <td>...</td>\n",
       "      <td>52</td>\n",
       "      <td>8</td>\n",
       "      <td>0</td>\n",
       "      <td>0</td>\n",
       "      <td>88.0</td>\n",
       "      <td>4</td>\n",
       "      <td>3</td>\n",
       "      <td>1</td>\n",
       "      <td>0</td>\n",
       "      <td>2</td>\n",
       "    </tr>\n",
       "    <tr>\n",
       "      <th>2</th>\n",
       "      <td>405395</td>\n",
       "      <td>4.890499</td>\n",
       "      <td>18.149785</td>\n",
       "      <td>0.196634</td>\n",
       "      <td>19.190820</td>\n",
       "      <td>20180331</td>\n",
       "      <td>First Base</td>\n",
       "      <td>Santo Domingo</td>\n",
       "      <td>1980</td>\n",
       "      <td>2001.0</td>\n",
       "      <td>...</td>\n",
       "      <td>52</td>\n",
       "      <td>8</td>\n",
       "      <td>0</td>\n",
       "      <td>0</td>\n",
       "      <td>89.0</td>\n",
       "      <td>5</td>\n",
       "      <td>3</td>\n",
       "      <td>1</td>\n",
       "      <td>0</td>\n",
       "      <td>2</td>\n",
       "    </tr>\n",
       "    <tr>\n",
       "      <th>3</th>\n",
       "      <td>405395</td>\n",
       "      <td>0.061685</td>\n",
       "      <td>21.539123</td>\n",
       "      <td>0.215855</td>\n",
       "      <td>28.610586</td>\n",
       "      <td>20180401</td>\n",
       "      <td>First Base</td>\n",
       "      <td>Santo Domingo</td>\n",
       "      <td>1980</td>\n",
       "      <td>2001.0</td>\n",
       "      <td>...</td>\n",
       "      <td>52</td>\n",
       "      <td>8</td>\n",
       "      <td>0</td>\n",
       "      <td>0</td>\n",
       "      <td>90.0</td>\n",
       "      <td>6</td>\n",
       "      <td>4</td>\n",
       "      <td>1</td>\n",
       "      <td>0</td>\n",
       "      <td>2</td>\n",
       "    </tr>\n",
       "    <tr>\n",
       "      <th>4</th>\n",
       "      <td>405395</td>\n",
       "      <td>0.021304</td>\n",
       "      <td>19.234421</td>\n",
       "      <td>0.217329</td>\n",
       "      <td>20.419970</td>\n",
       "      <td>20180402</td>\n",
       "      <td>First Base</td>\n",
       "      <td>Santo Domingo</td>\n",
       "      <td>1980</td>\n",
       "      <td>2001.0</td>\n",
       "      <td>...</td>\n",
       "      <td>52</td>\n",
       "      <td>8</td>\n",
       "      <td>0</td>\n",
       "      <td>0</td>\n",
       "      <td>91.0</td>\n",
       "      <td>0</td>\n",
       "      <td>4</td>\n",
       "      <td>1</td>\n",
       "      <td>0</td>\n",
       "      <td>2</td>\n",
       "    </tr>\n",
       "    <tr>\n",
       "      <th>...</th>\n",
       "      <td>...</td>\n",
       "      <td>...</td>\n",
       "      <td>...</td>\n",
       "      <td>...</td>\n",
       "      <td>...</td>\n",
       "      <td>...</td>\n",
       "      <td>...</td>\n",
       "      <td>...</td>\n",
       "      <td>...</td>\n",
       "      <td>...</td>\n",
       "      <td>...</td>\n",
       "      <td>...</td>\n",
       "      <td>...</td>\n",
       "      <td>...</td>\n",
       "      <td>...</td>\n",
       "      <td>...</td>\n",
       "      <td>...</td>\n",
       "      <td>...</td>\n",
       "      <td>...</td>\n",
       "      <td>...</td>\n",
       "      <td>...</td>\n",
       "    </tr>\n",
       "    <tr>\n",
       "      <th>711059</th>\n",
       "      <td>685503</td>\n",
       "      <td>0.044617</td>\n",
       "      <td>1.224728</td>\n",
       "      <td>0.009437</td>\n",
       "      <td>0.737463</td>\n",
       "      <td>20210426</td>\n",
       "      <td>Pitcher</td>\n",
       "      <td>Hiroshima</td>\n",
       "      <td>1992</td>\n",
       "      <td>2021.0</td>\n",
       "      <td>...</td>\n",
       "      <td>902</td>\n",
       "      <td>7</td>\n",
       "      <td>0</td>\n",
       "      <td>0</td>\n",
       "      <td>115.0</td>\n",
       "      <td>0</td>\n",
       "      <td>4</td>\n",
       "      <td>0</td>\n",
       "      <td>1</td>\n",
       "      <td>2</td>\n",
       "    </tr>\n",
       "    <tr>\n",
       "      <th>711060</th>\n",
       "      <td>685503</td>\n",
       "      <td>0.019123</td>\n",
       "      <td>1.178880</td>\n",
       "      <td>0.013161</td>\n",
       "      <td>0.790301</td>\n",
       "      <td>20210427</td>\n",
       "      <td>Pitcher</td>\n",
       "      <td>Hiroshima</td>\n",
       "      <td>1992</td>\n",
       "      <td>2021.0</td>\n",
       "      <td>...</td>\n",
       "      <td>902</td>\n",
       "      <td>7</td>\n",
       "      <td>0</td>\n",
       "      <td>0</td>\n",
       "      <td>116.0</td>\n",
       "      <td>1</td>\n",
       "      <td>4</td>\n",
       "      <td>0</td>\n",
       "      <td>2</td>\n",
       "      <td>2</td>\n",
       "    </tr>\n",
       "    <tr>\n",
       "      <th>711061</th>\n",
       "      <td>685503</td>\n",
       "      <td>0.015799</td>\n",
       "      <td>4.323489</td>\n",
       "      <td>0.002350</td>\n",
       "      <td>0.970273</td>\n",
       "      <td>20210428</td>\n",
       "      <td>Pitcher</td>\n",
       "      <td>Hiroshima</td>\n",
       "      <td>1992</td>\n",
       "      <td>2021.0</td>\n",
       "      <td>...</td>\n",
       "      <td>902</td>\n",
       "      <td>7</td>\n",
       "      <td>0</td>\n",
       "      <td>0</td>\n",
       "      <td>117.0</td>\n",
       "      <td>2</td>\n",
       "      <td>4</td>\n",
       "      <td>0</td>\n",
       "      <td>3</td>\n",
       "      <td>2</td>\n",
       "    </tr>\n",
       "    <tr>\n",
       "      <th>711062</th>\n",
       "      <td>685503</td>\n",
       "      <td>0.018770</td>\n",
       "      <td>31.946021</td>\n",
       "      <td>0.305491</td>\n",
       "      <td>5.938273</td>\n",
       "      <td>20210429</td>\n",
       "      <td>Pitcher</td>\n",
       "      <td>Hiroshima</td>\n",
       "      <td>1992</td>\n",
       "      <td>2021.0</td>\n",
       "      <td>...</td>\n",
       "      <td>902</td>\n",
       "      <td>7</td>\n",
       "      <td>0</td>\n",
       "      <td>0</td>\n",
       "      <td>118.0</td>\n",
       "      <td>3</td>\n",
       "      <td>4</td>\n",
       "      <td>0</td>\n",
       "      <td>4</td>\n",
       "      <td>2</td>\n",
       "    </tr>\n",
       "    <tr>\n",
       "      <th>711063</th>\n",
       "      <td>685503</td>\n",
       "      <td>0.014727</td>\n",
       "      <td>6.607196</td>\n",
       "      <td>1.851336</td>\n",
       "      <td>2.014339</td>\n",
       "      <td>20210430</td>\n",
       "      <td>Pitcher</td>\n",
       "      <td>Hiroshima</td>\n",
       "      <td>1992</td>\n",
       "      <td>2021.0</td>\n",
       "      <td>...</td>\n",
       "      <td>902</td>\n",
       "      <td>7</td>\n",
       "      <td>0</td>\n",
       "      <td>0</td>\n",
       "      <td>119.0</td>\n",
       "      <td>4</td>\n",
       "      <td>4</td>\n",
       "      <td>1</td>\n",
       "      <td>0</td>\n",
       "      <td>2</td>\n",
       "    </tr>\n",
       "  </tbody>\n",
       "</table>\n",
       "<p>711064 rows × 179 columns</p>\n",
       "</div>"
      ],
      "text/plain": [
       "        playerId   target1    target2   target3    target4      date  \\\n",
       "0         405395  1.916353  21.512858  0.078997   7.389917  20180329   \n",
       "1         405395  2.431219  38.280184  0.080521  10.307364  20180330   \n",
       "2         405395  4.890499  18.149785  0.196634  19.190820  20180331   \n",
       "3         405395  0.061685  21.539123  0.215855  28.610586  20180401   \n",
       "4         405395  0.021304  19.234421  0.217329  20.419970  20180402   \n",
       "...          ...       ...        ...       ...        ...       ...   \n",
       "711059    685503  0.044617   1.224728  0.009437   0.737463  20210426   \n",
       "711060    685503  0.019123   1.178880  0.013161   0.790301  20210427   \n",
       "711061    685503  0.015799   4.323489  0.002350   0.970273  20210428   \n",
       "711062    685503  0.018770  31.946021  0.305491   5.938273  20210429   \n",
       "711063    685503  0.014727   6.607196  1.851336   2.014339  20210430   \n",
       "\n",
       "       primaryPositionName      birthCity   DOY  mlbDebutYear  ...  \\\n",
       "0               First Base  Santo Domingo  1980        2001.0  ...   \n",
       "1               First Base  Santo Domingo  1980        2001.0  ...   \n",
       "2               First Base  Santo Domingo  1980        2001.0  ...   \n",
       "3               First Base  Santo Domingo  1980        2001.0  ...   \n",
       "4               First Base  Santo Domingo  1980        2001.0  ...   \n",
       "...                    ...            ...   ...           ...  ...   \n",
       "711059             Pitcher      Hiroshima  1992        2021.0  ...   \n",
       "711060             Pitcher      Hiroshima  1992        2021.0  ...   \n",
       "711061             Pitcher      Hiroshima  1992        2021.0  ...   \n",
       "711062             Pitcher      Hiroshima  1992        2021.0  ...   \n",
       "711063             Pitcher      Hiroshima  1992        2021.0  ...   \n",
       "\n",
       "        label_birthCity  label_teamId  label_status label_awardName  \\\n",
       "0                    52             8             0               0   \n",
       "1                    52             8             0               0   \n",
       "2                    52             8             0               0   \n",
       "3                    52             8             0               0   \n",
       "4                    52             8             0               0   \n",
       "...                 ...           ...           ...             ...   \n",
       "711059              902             7             0               0   \n",
       "711060              902             7             0               0   \n",
       "711061              902             7             0               0   \n",
       "711062              902             7             0               0   \n",
       "711063              902             7             0               0   \n",
       "\n",
       "        annual_day week_day  month  gameday  daysSinceLastGame  season_info  \n",
       "0             87.0        3      3        1                  0            2  \n",
       "1             88.0        4      3        1                  0            2  \n",
       "2             89.0        5      3        1                  0            2  \n",
       "3             90.0        6      4        1                  0            2  \n",
       "4             91.0        0      4        1                  0            2  \n",
       "...            ...      ...    ...      ...                ...          ...  \n",
       "711059       115.0        0      4        0                  1            2  \n",
       "711060       116.0        1      4        0                  2            2  \n",
       "711061       117.0        2      4        0                  3            2  \n",
       "711062       118.0        3      4        0                  4            2  \n",
       "711063       119.0        4      4        1                  0            2  \n",
       "\n",
       "[711064 rows x 179 columns]"
      ]
     },
     "execution_count": 129,
     "metadata": {},
     "output_type": "execute_result"
    }
   ],
   "source": [
    "train"
   ]
  },
  {
   "cell_type": "code",
   "execution_count": 130,
   "id": "eee7d74e",
   "metadata": {},
   "outputs": [],
   "source": [
    "# def fit_lgbm(x_train, y_train, x_valid, y_valid, params: dict=None, verbose=100):\n",
    "#     oof_pred = np.zeros(len(y_valid), dtype=np.float32)\n",
    "#     model = lgbm.LGBMRegressor(**params)\n",
    "#     model.fit(x_train, y_train, \n",
    "#         eval_set=[(X_train, y_train), (x_valid, y_valid)],  \n",
    "#         early_stopping_rounds=verbose, \n",
    "#         verbose=verbose)\n",
    "#     oof_pred = model.predict(x_valid)\n",
    "#     oof_pred = np.clip(oof_pred, 0, 100)\n",
    "#     score = mean_absolute_error(oof_pred, y_valid)\n",
    "#     print('mae:', score)\n",
    "#     return oof_pred, model, score\n"
   ]
  },
  {
   "cell_type": "code",
   "execution_count": 131,
   "id": "f5407003",
   "metadata": {},
   "outputs": [],
   "source": [
    "def fit_lgbm(x_train, y_train, x_valid, y_valid, learning_rates, verbose=100):\n",
    "    def opt(trial):\n",
    "        params = {\n",
    "                'random_state': SEED,\n",
    "                'objective':'mae',\n",
    "                'n_estimators': 10000,\n",
    "                'learning_rate': 0.1,\n",
    "                'max_depth': trial.suggest_int('max_depth', 1, 20),\n",
    "                'min_child_weight': trial.suggest_int('min_child_weight', 1, 20),\n",
    "                'subsample': trial.suggest_discrete_uniform('subsample', 0.5, 0.9, 0.1),\n",
    "                'colsample_bytree': trial.suggest_discrete_uniform('colsample_bytree', 0.5, 0.9, 0.1),\n",
    "                'reg_lambda': trial.suggest_loguniform('reg_lambda', 1e-3, 1e3),\n",
    "                'reg_alpha': trial.suggest_loguniform('reg_alpha', 1e-3, 1e3),\n",
    "                'feature_fraction': trial.suggest_uniform('feature_fraction', 0.2, 1.0),\n",
    "                'bagging_fraction': trial.suggest_uniform('bagging_fraction', 0.2, 1.0),\n",
    "                'bagging_freq': trial.suggest_int('bagging_freq', 1, 20),\n",
    "                'num_leaves': trial.suggest_int('num_leaves', 10, 1000),\n",
    "                'min_child_samples': trial.suggest_int('min_child_samples', 5, 100)\n",
    "        }\n",
    "\n",
    "        model_opt = lgbm.LGBMRegressor(**params)\n",
    "\n",
    "        model_opt.fit(x_train, y_train, \n",
    "            eval_set=[(x_train, y_train), (x_valid, y_valid)],  \n",
    "            early_stopping_rounds=verbose, \n",
    "            verbose=verbose)\n",
    "        oof_pred = model_opt.predict(x_valid)\n",
    "        oof_pred = np.clip(oof_pred, 0, 100)\n",
    "        score = mean_absolute_error(oof_pred, y_valid)\n",
    "        return -score\n",
    "    return opt"
   ]
  },
  {
   "cell_type": "code",
   "execution_count": 132,
   "id": "605ca256",
   "metadata": {},
   "outputs": [],
   "source": [
    "train_X = train\n",
    "train_y = train[['target1', 'target2', 'target3', 'target4']]\n",
    "tr_idxs = []\n",
    "val_idxs = []"
   ]
  },
  {
   "cell_type": "code",
   "execution_count": 133,
   "id": "ebaf622e",
   "metadata": {},
   "outputs": [],
   "source": [
    "# tr_idx = (train['date'].astype(int) < 20200801)\n",
    "# val_idx = (train['date'].astype(int) >= 20200801) & (train['date'].astype(int) < 20200901)\n",
    "# tr_idxs.append(tr_idx)\n",
    "# val_idxs.append(val_idx)\n",
    "\n",
    "# tr_idx = (train['date'].astype(int) < 20200901)\n",
    "# val_idx = (train['date'].astype(int) >= 20200901) & (train['date'].astype(int) < 20201001)\n",
    "# tr_idxs.append(tr_idx)\n",
    "# val_idxs.append(val_idx)\n",
    "\n",
    "# tr_idx = (train['date'].astype(int) < 20201001)\n",
    "# val_idx = (train['date'].astype(int) >= 20201001) & (train['date'].astype(int) < 20201028)\n",
    "# tr_idxs.append(tr_idx)\n",
    "# val_idxs.append(val_idx)\n",
    "\n",
    "# tr_idx = (train['date'].astype(int) < 20210228)\n",
    "# val_idx = (train['date'].astype(int) >= 20210228) & (train['date'].astype(int) < 20210401)\n",
    "# tr_idxs.append(tr_idx)\n",
    "# val_idxs.append(val_idx)\n",
    "\n",
    "tr_idx = (train['date'].astype(int) < 20210401)\n",
    "val_idx = ~tr_idx\n",
    "tr_idxs.append(tr_idx)\n",
    "val_idxs.append(val_idx)"
   ]
  },
  {
   "cell_type": "code",
   "execution_count": 134,
   "id": "2418057a",
   "metadata": {},
   "outputs": [],
   "source": [
    "idx = 0\n",
    "\n",
    "tr_idx = tr_idxs[idx]\n",
    "val_idx = val_idxs[idx]\n",
    "\n",
    "x_train = train_X.loc[tr_idx].reset_index(drop=True)\n",
    "y_train = train_y.loc[tr_idx].reset_index(drop=True)\n",
    "x_valid = train_X.loc[val_idx].reset_index(drop=True)\n",
    "y_valid = train_y.loc[val_idx].reset_index(drop=True)"
   ]
  },
  {
   "cell_type": "code",
   "execution_count": 135,
   "id": "0c4bb118",
   "metadata": {},
   "outputs": [],
   "source": [
    "learning_rates = [0.1, 0.1, 0.1, 0.1]"
   ]
  },
  {
   "cell_type": "code",
   "execution_count": 136,
   "id": "fd9e19de",
   "metadata": {},
   "outputs": [
    {
     "name": "stderr",
     "output_type": "stream",
     "text": [
      "\u001b[32m[I 2021-07-11 00:16:24,626]\u001b[0m A new study created in memory with name: no-name-ca3af0ad-85c6-4476-874d-128c689d8625\u001b[0m\n"
     ]
    },
    {
     "name": "stdout",
     "output_type": "stream",
     "text": [
      "[LightGBM] [Warning] feature_fraction is set=0.3329647255981244, colsample_bytree=0.9 will be ignored. Current value: feature_fraction=0.3329647255981244\n",
      "[LightGBM] [Warning] bagging_fraction is set=0.6418305083939903, subsample=0.9 will be ignored. Current value: bagging_fraction=0.6418305083939903\n",
      "[LightGBM] [Warning] bagging_freq is set=17, subsample_freq=0 will be ignored. Current value: bagging_freq=17\n",
      "Training until validation scores don't improve for 100 rounds\n",
      "[100]\ttraining's l1: 0.829647\tvalid_1's l1: 1.15414\n",
      "[200]\ttraining's l1: 0.817527\tvalid_1's l1: 1.15094\n",
      "[300]\ttraining's l1: 0.809633\tvalid_1's l1: 1.15058\n",
      "Early stopping, best iteration is:\n",
      "[276]\ttraining's l1: 0.811926\tvalid_1's l1: 1.14973\n"
     ]
    },
    {
     "name": "stderr",
     "output_type": "stream",
     "text": [
      "\u001b[32m[I 2021-07-11 00:16:45,657]\u001b[0m Trial 0 finished with value: -1.1492157334286164 and parameters: {'max_depth': 15, 'min_child_weight': 11, 'subsample': 0.9, 'colsample_bytree': 0.9, 'reg_lambda': 182.3933102363186, 'reg_alpha': 0.005046747359509982, 'feature_fraction': 0.3329647255981244, 'bagging_fraction': 0.6418305083939903, 'bagging_freq': 17, 'num_leaves': 695, 'min_child_samples': 42}. Best is trial 0 with value: -1.1492157334286164.\u001b[0m\n"
     ]
    },
    {
     "name": "stdout",
     "output_type": "stream",
     "text": [
      "[LightGBM] [Warning] feature_fraction is set=0.27073685478381937, colsample_bytree=0.5 will be ignored. Current value: feature_fraction=0.27073685478381937\n",
      "[LightGBM] [Warning] bagging_fraction is set=0.2060553334311126, subsample=0.9 will be ignored. Current value: bagging_fraction=0.2060553334311126\n",
      "[LightGBM] [Warning] bagging_freq is set=12, subsample_freq=0 will be ignored. Current value: bagging_freq=12\n",
      "Training until validation scores don't improve for 100 rounds\n",
      "[100]\ttraining's l1: 0.882566\tvalid_1's l1: 1.20506\n",
      "[200]\ttraining's l1: 0.875209\tvalid_1's l1: 1.19119\n",
      "[300]\ttraining's l1: 0.874981\tvalid_1's l1: 1.19052\n",
      "[400]\ttraining's l1: 0.874878\tvalid_1's l1: 1.19006\n"
     ]
    },
    {
     "name": "stderr",
     "output_type": "stream",
     "text": [
      "\u001b[32m[I 2021-07-11 00:16:50,838]\u001b[0m Trial 1 finished with value: -1.1899710464366138 and parameters: {'max_depth': 4, 'min_child_weight': 7, 'subsample': 0.9, 'colsample_bytree': 0.5, 'reg_lambda': 0.014339246434502653, 'reg_alpha': 0.017285700102323824, 'feature_fraction': 0.27073685478381937, 'bagging_fraction': 0.2060553334311126, 'bagging_freq': 12, 'num_leaves': 888, 'min_child_samples': 88}. Best is trial 0 with value: -1.1492157334286164.\u001b[0m\n"
     ]
    },
    {
     "name": "stdout",
     "output_type": "stream",
     "text": [
      "Early stopping, best iteration is:\n",
      "[339]\ttraining's l1: 0.874882\tvalid_1's l1: 1.19006\n",
      "[LightGBM] [Warning] feature_fraction is set=0.5486725103414107, colsample_bytree=0.9 will be ignored. Current value: feature_fraction=0.5486725103414107\n",
      "[LightGBM] [Warning] bagging_fraction is set=0.919683125364888, subsample=0.7 will be ignored. Current value: bagging_fraction=0.919683125364888\n",
      "[LightGBM] [Warning] bagging_freq is set=11, subsample_freq=0 will be ignored. Current value: bagging_freq=11\n",
      "Training until validation scores don't improve for 100 rounds\n",
      "[100]\ttraining's l1: 0.850289\tvalid_1's l1: 1.16261\n",
      "[200]\ttraining's l1: 0.843882\tvalid_1's l1: 1.15567\n",
      "[300]\ttraining's l1: 0.841511\tvalid_1's l1: 1.15396\n",
      "[400]\ttraining's l1: 0.840519\tvalid_1's l1: 1.15346\n",
      "Early stopping, best iteration is:\n",
      "[375]\ttraining's l1: 0.840606\tvalid_1's l1: 1.15335\n"
     ]
    },
    {
     "name": "stderr",
     "output_type": "stream",
     "text": [
      "\u001b[32m[I 2021-07-11 00:17:15,460]\u001b[0m Trial 2 finished with value: -1.1532295474538676 and parameters: {'max_depth': 11, 'min_child_weight': 5, 'subsample': 0.7, 'colsample_bytree': 0.9, 'reg_lambda': 486.0088284316343, 'reg_alpha': 5.267850953375445, 'feature_fraction': 0.5486725103414107, 'bagging_fraction': 0.919683125364888, 'bagging_freq': 11, 'num_leaves': 197, 'min_child_samples': 45}. Best is trial 0 with value: -1.1492157334286164.\u001b[0m\n"
     ]
    },
    {
     "name": "stdout",
     "output_type": "stream",
     "text": [
      "[LightGBM] [Warning] feature_fraction is set=0.44119934363131375, colsample_bytree=0.6 will be ignored. Current value: feature_fraction=0.44119934363131375\n",
      "[LightGBM] [Warning] bagging_fraction is set=0.9962769756012804, subsample=0.7 will be ignored. Current value: bagging_fraction=0.9962769756012804\n",
      "[LightGBM] [Warning] bagging_freq is set=13, subsample_freq=0 will be ignored. Current value: bagging_freq=13\n",
      "Training until validation scores don't improve for 100 rounds\n",
      "[100]\ttraining's l1: 0.874065\tvalid_1's l1: 1.19794\n",
      "[200]\ttraining's l1: 0.872501\tvalid_1's l1: 1.19504\n"
     ]
    },
    {
     "name": "stderr",
     "output_type": "stream",
     "text": [
      "\u001b[32m[I 2021-07-11 00:17:26,294]\u001b[0m Trial 3 finished with value: -1.1950100828924386 and parameters: {'max_depth': 5, 'min_child_weight': 2, 'subsample': 0.7, 'colsample_bytree': 0.6, 'reg_lambda': 185.26758511287218, 'reg_alpha': 0.006247554570074086, 'feature_fraction': 0.44119934363131375, 'bagging_fraction': 0.9962769756012804, 'bagging_freq': 13, 'num_leaves': 725, 'min_child_samples': 26}. Best is trial 0 with value: -1.1492157334286164.\u001b[0m\n"
     ]
    },
    {
     "name": "stdout",
     "output_type": "stream",
     "text": [
      "Early stopping, best iteration is:\n",
      "[197]\ttraining's l1: 0.872501\tvalid_1's l1: 1.19504\n",
      "[LightGBM] [Warning] feature_fraction is set=0.8980150534786253, colsample_bytree=0.9 will be ignored. Current value: feature_fraction=0.8980150534786253\n",
      "[LightGBM] [Warning] bagging_fraction is set=0.253499635524894, subsample=0.6 will be ignored. Current value: bagging_fraction=0.253499635524894\n",
      "[LightGBM] [Warning] bagging_freq is set=18, subsample_freq=0 will be ignored. Current value: bagging_freq=18\n",
      "Training until validation scores don't improve for 100 rounds\n",
      "[100]\ttraining's l1: 0.850683\tvalid_1's l1: 1.16051\n",
      "[200]\ttraining's l1: 0.846181\tvalid_1's l1: 1.15592\n",
      "[300]\ttraining's l1: 0.845809\tvalid_1's l1: 1.15586\n"
     ]
    },
    {
     "name": "stderr",
     "output_type": "stream",
     "text": [
      "\u001b[32m[I 2021-07-11 00:17:33,790]\u001b[0m Trial 4 finished with value: -1.155699521921764 and parameters: {'max_depth': 9, 'min_child_weight': 7, 'subsample': 0.6, 'colsample_bytree': 0.9, 'reg_lambda': 0.04403688987844421, 'reg_alpha': 0.13406341934776783, 'feature_fraction': 0.8980150534786253, 'bagging_fraction': 0.253499635524894, 'bagging_freq': 18, 'num_leaves': 192, 'min_child_samples': 95}. Best is trial 0 with value: -1.1492157334286164.\u001b[0m\n"
     ]
    },
    {
     "name": "stdout",
     "output_type": "stream",
     "text": [
      "Early stopping, best iteration is:\n",
      "[248]\ttraining's l1: 0.845828\tvalid_1's l1: 1.1558\n",
      "[LightGBM] [Warning] feature_fraction is set=0.8682384726072161, colsample_bytree=0.5 will be ignored. Current value: feature_fraction=0.8682384726072161\n",
      "[LightGBM] [Warning] bagging_fraction is set=0.7606009410563559, subsample=0.9 will be ignored. Current value: bagging_fraction=0.7606009410563559\n",
      "[LightGBM] [Warning] bagging_freq is set=19, subsample_freq=0 will be ignored. Current value: bagging_freq=19\n",
      "Training until validation scores don't improve for 100 rounds\n",
      "[100]\ttraining's l1: 0.855887\tvalid_1's l1: 1.17385\n",
      "[200]\ttraining's l1: 0.852065\tvalid_1's l1: 1.16794\n",
      "[300]\ttraining's l1: 0.851958\tvalid_1's l1: 1.16781\n"
     ]
    },
    {
     "name": "stderr",
     "output_type": "stream",
     "text": [
      "\u001b[32m[I 2021-07-11 00:17:43,885]\u001b[0m Trial 5 finished with value: -1.1677665176351988 and parameters: {'max_depth': 7, 'min_child_weight': 14, 'subsample': 0.9, 'colsample_bytree': 0.5, 'reg_lambda': 0.0010372406683499384, 'reg_alpha': 1.2123514417708183, 'feature_fraction': 0.8682384726072161, 'bagging_fraction': 0.7606009410563559, 'bagging_freq': 19, 'num_leaves': 221, 'min_child_samples': 70}. Best is trial 0 with value: -1.1492157334286164.\u001b[0m\n"
     ]
    },
    {
     "name": "stdout",
     "output_type": "stream",
     "text": [
      "Early stopping, best iteration is:\n",
      "[216]\ttraining's l1: 0.851975\tvalid_1's l1: 1.16779\n",
      "[LightGBM] [Warning] feature_fraction is set=0.7724946363253749, colsample_bytree=0.8 will be ignored. Current value: feature_fraction=0.7724946363253749\n",
      "[LightGBM] [Warning] bagging_fraction is set=0.48694375578722204, subsample=0.8 will be ignored. Current value: bagging_fraction=0.48694375578722204\n",
      "[LightGBM] [Warning] bagging_freq is set=11, subsample_freq=0 will be ignored. Current value: bagging_freq=11\n",
      "Training until validation scores don't improve for 100 rounds\n",
      "[100]\ttraining's l1: 0.84863\tvalid_1's l1: 1.16214\n",
      "[200]\ttraining's l1: 0.843955\tvalid_1's l1: 1.15748\n",
      "[300]\ttraining's l1: 0.841865\tvalid_1's l1: 1.15625\n",
      "[400]\ttraining's l1: 0.840905\tvalid_1's l1: 1.15584\n",
      "[500]\ttraining's l1: 0.839769\tvalid_1's l1: 1.15538\n",
      "[600]\ttraining's l1: 0.838564\tvalid_1's l1: 1.15414\n",
      "[700]\ttraining's l1: 0.837937\tvalid_1's l1: 1.15369\n",
      "[800]\ttraining's l1: 0.83704\tvalid_1's l1: 1.15322\n",
      "[900]\ttraining's l1: 0.836355\tvalid_1's l1: 1.15325\n",
      "Early stopping, best iteration is:\n",
      "[876]\ttraining's l1: 0.836544\tvalid_1's l1: 1.15288\n"
     ]
    },
    {
     "name": "stderr",
     "output_type": "stream",
     "text": [
      "\u001b[32m[I 2021-07-11 00:18:16,382]\u001b[0m Trial 6 finished with value: -1.1524839758088692 and parameters: {'max_depth': 13, 'min_child_weight': 18, 'subsample': 0.8, 'colsample_bytree': 0.8, 'reg_lambda': 0.2151341898994351, 'reg_alpha': 82.44220923044227, 'feature_fraction': 0.7724946363253749, 'bagging_fraction': 0.48694375578722204, 'bagging_freq': 11, 'num_leaves': 792, 'min_child_samples': 69}. Best is trial 0 with value: -1.1492157334286164.\u001b[0m\n"
     ]
    },
    {
     "name": "stdout",
     "output_type": "stream",
     "text": [
      "[LightGBM] [Warning] feature_fraction is set=0.7542519524061895, colsample_bytree=0.9 will be ignored. Current value: feature_fraction=0.7542519524061895\n",
      "[LightGBM] [Warning] bagging_fraction is set=0.918328913538925, subsample=0.9 will be ignored. Current value: bagging_fraction=0.918328913538925\n",
      "[LightGBM] [Warning] bagging_freq is set=4, subsample_freq=0 will be ignored. Current value: bagging_freq=4\n",
      "Training until validation scores don't improve for 100 rounds\n",
      "[100]\ttraining's l1: 0.855044\tvalid_1's l1: 1.16677\n",
      "[200]\ttraining's l1: 0.850092\tvalid_1's l1: 1.16173\n",
      "[300]\ttraining's l1: 0.849144\tvalid_1's l1: 1.16026\n"
     ]
    },
    {
     "name": "stderr",
     "output_type": "stream",
     "text": [
      "\u001b[32m[I 2021-07-11 00:18:32,861]\u001b[0m Trial 7 finished with value: -1.1600255708394447 and parameters: {'max_depth': 20, 'min_child_weight': 7, 'subsample': 0.9, 'colsample_bytree': 0.9, 'reg_lambda': 831.8877109253801, 'reg_alpha': 8.633604057079616, 'feature_fraction': 0.7542519524061895, 'bagging_fraction': 0.918328913538925, 'bagging_freq': 4, 'num_leaves': 161, 'min_child_samples': 88}. Best is trial 0 with value: -1.1492157334286164.\u001b[0m\n"
     ]
    },
    {
     "name": "stdout",
     "output_type": "stream",
     "text": [
      "Early stopping, best iteration is:\n",
      "[233]\ttraining's l1: 0.84921\tvalid_1's l1: 1.16017\n",
      "[LightGBM] [Warning] feature_fraction is set=0.9898442012927795, colsample_bytree=0.6 will be ignored. Current value: feature_fraction=0.9898442012927795\n",
      "[LightGBM] [Warning] bagging_fraction is set=0.3478371364025884, subsample=0.8 will be ignored. Current value: bagging_fraction=0.3478371364025884\n",
      "[LightGBM] [Warning] bagging_freq is set=1, subsample_freq=0 will be ignored. Current value: bagging_freq=1\n",
      "Training until validation scores don't improve for 100 rounds\n",
      "[100]\ttraining's l1: 0.855944\tvalid_1's l1: 1.1711\n",
      "[200]\ttraining's l1: 0.852162\tvalid_1's l1: 1.16536\n",
      "[300]\ttraining's l1: 0.851826\tvalid_1's l1: 1.16494\n",
      "[400]\ttraining's l1: 0.851276\tvalid_1's l1: 1.16405\n"
     ]
    },
    {
     "name": "stderr",
     "output_type": "stream",
     "text": [
      "\u001b[32m[I 2021-07-11 00:18:50,176]\u001b[0m Trial 8 finished with value: -1.163977878260244 and parameters: {'max_depth': 7, 'min_child_weight': 8, 'subsample': 0.8, 'colsample_bytree': 0.6, 'reg_lambda': 0.3066471907637944, 'reg_alpha': 0.024509498453377257, 'feature_fraction': 0.9898442012927795, 'bagging_fraction': 0.3478371364025884, 'bagging_freq': 1, 'num_leaves': 482, 'min_child_samples': 56}. Best is trial 0 with value: -1.1492157334286164.\u001b[0m\n"
     ]
    },
    {
     "name": "stdout",
     "output_type": "stream",
     "text": [
      "Early stopping, best iteration is:\n",
      "[363]\ttraining's l1: 0.851307\tvalid_1's l1: 1.16404\n",
      "[LightGBM] [Warning] feature_fraction is set=0.9335020739210587, colsample_bytree=0.7 will be ignored. Current value: feature_fraction=0.9335020739210587\n",
      "[LightGBM] [Warning] bagging_fraction is set=0.5055401793451729, subsample=0.8 will be ignored. Current value: bagging_fraction=0.5055401793451729\n",
      "[LightGBM] [Warning] bagging_freq is set=12, subsample_freq=0 will be ignored. Current value: bagging_freq=12\n",
      "Training until validation scores don't improve for 100 rounds\n",
      "[100]\ttraining's l1: 0.851829\tvalid_1's l1: 1.16316\n",
      "[200]\ttraining's l1: 0.847597\tvalid_1's l1: 1.1575\n",
      "[300]\ttraining's l1: 0.847152\tvalid_1's l1: 1.15703\n"
     ]
    },
    {
     "name": "stderr",
     "output_type": "stream",
     "text": [
      "\u001b[32m[I 2021-07-11 00:19:04,212]\u001b[0m Trial 9 finished with value: -1.1568655944205128 and parameters: {'max_depth': 16, 'min_child_weight': 6, 'subsample': 0.8, 'colsample_bytree': 0.7, 'reg_lambda': 17.213603481526196, 'reg_alpha': 1.4703091589762898, 'feature_fraction': 0.9335020739210587, 'bagging_fraction': 0.5055401793451729, 'bagging_freq': 12, 'num_leaves': 185, 'min_child_samples': 55}. Best is trial 0 with value: -1.1492157334286164.\u001b[0m\n"
     ]
    },
    {
     "name": "stdout",
     "output_type": "stream",
     "text": [
      "Early stopping, best iteration is:\n",
      "[253]\ttraining's l1: 0.847224\tvalid_1's l1: 1.15698\n",
      "[LightGBM] [Warning] feature_fraction is set=0.21155311360383622, colsample_bytree=0.8 will be ignored. Current value: feature_fraction=0.21155311360383622\n",
      "[LightGBM] [Warning] bagging_fraction is set=0.7034252523262873, subsample=0.5 will be ignored. Current value: bagging_fraction=0.7034252523262873\n",
      "[LightGBM] [Warning] bagging_freq is set=16, subsample_freq=0 will be ignored. Current value: bagging_freq=16\n",
      "Training until validation scores don't improve for 100 rounds\n",
      "[100]\ttraining's l1: 0.830458\tvalid_1's l1: 1.15476\n",
      "[200]\ttraining's l1: 0.8158\tvalid_1's l1: 1.15085\n",
      "[300]\ttraining's l1: 0.804132\tvalid_1's l1: 1.15136\n",
      "[400]\ttraining's l1: 0.798606\tvalid_1's l1: 1.14999\n",
      "[500]\ttraining's l1: 0.79334\tvalid_1's l1: 1.14923\n",
      "Early stopping, best iteration is:\n",
      "[462]\ttraining's l1: 0.794857\tvalid_1's l1: 1.14909\n"
     ]
    },
    {
     "name": "stderr",
     "output_type": "stream",
     "text": [
      "\u001b[32m[I 2021-07-11 00:19:31,298]\u001b[0m Trial 10 finished with value: -1.1482915269426213 and parameters: {'max_depth': 20, 'min_child_weight': 13, 'subsample': 0.5, 'colsample_bytree': 0.8, 'reg_lambda': 10.606595871095573, 'reg_alpha': 0.0012162785074518536, 'feature_fraction': 0.21155311360383622, 'bagging_fraction': 0.7034252523262873, 'bagging_freq': 16, 'num_leaves': 539, 'min_child_samples': 7}. Best is trial 10 with value: -1.1482915269426213.\u001b[0m\n"
     ]
    },
    {
     "name": "stdout",
     "output_type": "stream",
     "text": [
      "[LightGBM] [Warning] feature_fraction is set=0.21348268913241075, colsample_bytree=0.8 will be ignored. Current value: feature_fraction=0.21348268913241075\n",
      "[LightGBM] [Warning] bagging_fraction is set=0.6583389900806773, subsample=0.5 will be ignored. Current value: bagging_fraction=0.6583389900806773\n",
      "[LightGBM] [Warning] bagging_freq is set=16, subsample_freq=0 will be ignored. Current value: bagging_freq=16\n",
      "Training until validation scores don't improve for 100 rounds\n",
      "[100]\ttraining's l1: 0.829713\tvalid_1's l1: 1.15709\n",
      "[200]\ttraining's l1: 0.814721\tvalid_1's l1: 1.15468\n",
      "Early stopping, best iteration is:\n",
      "[197]\ttraining's l1: 0.815092\tvalid_1's l1: 1.15451\n"
     ]
    },
    {
     "name": "stderr",
     "output_type": "stream",
     "text": [
      "\u001b[32m[I 2021-07-11 00:19:46,265]\u001b[0m Trial 11 finished with value: -1.1541471589729884 and parameters: {'max_depth': 20, 'min_child_weight': 13, 'subsample': 0.5, 'colsample_bytree': 0.8, 'reg_lambda': 10.964974625970962, 'reg_alpha': 0.0011481153457192463, 'feature_fraction': 0.21348268913241075, 'bagging_fraction': 0.6583389900806773, 'bagging_freq': 16, 'num_leaves': 553, 'min_child_samples': 5}. Best is trial 10 with value: -1.1482915269426213.\u001b[0m\n"
     ]
    },
    {
     "name": "stdout",
     "output_type": "stream",
     "text": [
      "[LightGBM] [Warning] feature_fraction is set=0.3017964081105801, colsample_bytree=0.8 will be ignored. Current value: feature_fraction=0.3017964081105801\n",
      "[LightGBM] [Warning] bagging_fraction is set=0.7394443239975137, subsample=0.5 will be ignored. Current value: bagging_fraction=0.7394443239975137\n",
      "[LightGBM] [Warning] bagging_freq is set=16, subsample_freq=0 will be ignored. Current value: bagging_freq=16\n",
      "Training until validation scores don't improve for 100 rounds\n",
      "[100]\ttraining's l1: 0.827295\tvalid_1's l1: 1.15135\n",
      "[200]\ttraining's l1: 0.812426\tvalid_1's l1: 1.14757\n"
     ]
    },
    {
     "name": "stderr",
     "output_type": "stream",
     "text": [
      "\u001b[32m[I 2021-07-11 00:20:01,755]\u001b[0m Trial 12 finished with value: -1.1468865648654651 and parameters: {'max_depth': 16, 'min_child_weight': 12, 'subsample': 0.5, 'colsample_bytree': 0.8, 'reg_lambda': 14.113830658843323, 'reg_alpha': 0.001143214223351631, 'feature_fraction': 0.3017964081105801, 'bagging_fraction': 0.7394443239975137, 'bagging_freq': 16, 'num_leaves': 511, 'min_child_samples': 10}. Best is trial 12 with value: -1.1468865648654651.\u001b[0m\n"
     ]
    },
    {
     "name": "stdout",
     "output_type": "stream",
     "text": [
      "Early stopping, best iteration is:\n",
      "[179]\ttraining's l1: 0.814418\tvalid_1's l1: 1.14721\n",
      "[LightGBM] [Warning] feature_fraction is set=0.37750943092589334, colsample_bytree=0.8 will be ignored. Current value: feature_fraction=0.37750943092589334\n",
      "[LightGBM] [Warning] bagging_fraction is set=0.7287653584219884, subsample=0.5 will be ignored. Current value: bagging_fraction=0.7287653584219884\n",
      "[LightGBM] [Warning] bagging_freq is set=7, subsample_freq=0 will be ignored. Current value: bagging_freq=7\n",
      "Training until validation scores don't improve for 100 rounds\n",
      "[100]\ttraining's l1: 0.831974\tvalid_1's l1: 1.15285\n",
      "[200]\ttraining's l1: 0.822291\tvalid_1's l1: 1.14756\n",
      "[300]\ttraining's l1: 0.817586\tvalid_1's l1: 1.14611\n",
      "[400]\ttraining's l1: 0.814791\tvalid_1's l1: 1.14452\n",
      "[500]\ttraining's l1: 0.81344\tvalid_1's l1: 1.14443\n",
      "[600]\ttraining's l1: 0.811956\tvalid_1's l1: 1.14475\n",
      "Early stopping, best iteration is:\n",
      "[520]\ttraining's l1: 0.813008\tvalid_1's l1: 1.1442\n"
     ]
    },
    {
     "name": "stderr",
     "output_type": "stream",
     "text": [
      "\u001b[32m[I 2021-07-11 00:20:34,185]\u001b[0m Trial 13 finished with value: -1.1437706470250095 and parameters: {'max_depth': 18, 'min_child_weight': 19, 'subsample': 0.5, 'colsample_bytree': 0.8, 'reg_lambda': 12.198833020757577, 'reg_alpha': 0.001226812200586997, 'feature_fraction': 0.37750943092589334, 'bagging_fraction': 0.7287653584219884, 'bagging_freq': 7, 'num_leaves': 416, 'min_child_samples': 7}. Best is trial 13 with value: -1.1437706470250095.\u001b[0m\n"
     ]
    },
    {
     "name": "stdout",
     "output_type": "stream",
     "text": [
      "[LightGBM] [Warning] feature_fraction is set=0.4109729148422613, colsample_bytree=0.7 will be ignored. Current value: feature_fraction=0.4109729148422613\n",
      "[LightGBM] [Warning] bagging_fraction is set=0.8102393857000313, subsample=0.6 will be ignored. Current value: bagging_fraction=0.8102393857000313\n",
      "[LightGBM] [Warning] bagging_freq is set=7, subsample_freq=0 will be ignored. Current value: bagging_freq=7\n",
      "Training until validation scores don't improve for 100 rounds\n",
      "[100]\ttraining's l1: 0.876655\tvalid_1's l1: 1.18833\n",
      "[200]\ttraining's l1: 0.870781\tvalid_1's l1: 1.17739\n",
      "[300]\ttraining's l1: 0.868633\tvalid_1's l1: 1.17447\n"
     ]
    },
    {
     "name": "stderr",
     "output_type": "stream",
     "text": [
      "\u001b[32m[I 2021-07-11 00:20:48,395]\u001b[0m Trial 14 finished with value: -1.173740306890092 and parameters: {'max_depth': 17, 'min_child_weight': 20, 'subsample': 0.6, 'colsample_bytree': 0.7, 'reg_lambda': 2.1198178975121156, 'reg_alpha': 872.4911194731312, 'feature_fraction': 0.4109729148422613, 'bagging_fraction': 0.8102393857000313, 'bagging_freq': 7, 'num_leaves': 373, 'min_child_samples': 19}. Best is trial 13 with value: -1.1437706470250095.\u001b[0m\n"
     ]
    },
    {
     "name": "stdout",
     "output_type": "stream",
     "text": [
      "Early stopping, best iteration is:\n",
      "[248]\ttraining's l1: 0.868948\tvalid_1's l1: 1.17396\n",
      "[LightGBM] [Warning] feature_fraction is set=0.5483701805951123, colsample_bytree=0.8 will be ignored. Current value: feature_fraction=0.5483701805951123\n",
      "[LightGBM] [Warning] bagging_fraction is set=0.8344239678775061, subsample=0.5 will be ignored. Current value: bagging_fraction=0.8344239678775061\n",
      "[LightGBM] [Warning] bagging_freq is set=7, subsample_freq=0 will be ignored. Current value: bagging_freq=7\n",
      "Training until validation scores don't improve for 100 rounds\n",
      "[100]\ttraining's l1: 0.905889\tvalid_1's l1: 1.24459\n",
      "[200]\ttraining's l1: 0.905838\tvalid_1's l1: 1.24438\n",
      "[300]\ttraining's l1: 0.90229\tvalid_1's l1: 1.23741\n",
      "[400]\ttraining's l1: 0.900765\tvalid_1's l1: 1.23501\n",
      "[500]\ttraining's l1: 0.900618\tvalid_1's l1: 1.23471\n"
     ]
    },
    {
     "name": "stderr",
     "output_type": "stream",
     "text": [
      "\u001b[32m[I 2021-07-11 00:21:07,406]\u001b[0m Trial 15 finished with value: -1.2346932648815698 and parameters: {'max_depth': 17, 'min_child_weight': 17, 'subsample': 0.5, 'colsample_bytree': 0.8, 'reg_lambda': 36.8392591514055, 'reg_alpha': 0.10652069078539747, 'feature_fraction': 0.5483701805951123, 'bagging_fraction': 0.8344239678775061, 'bagging_freq': 7, 'num_leaves': 12, 'min_child_samples': 21}. Best is trial 13 with value: -1.1437706470250095.\u001b[0m\n"
     ]
    },
    {
     "name": "stdout",
     "output_type": "stream",
     "text": [
      "Early stopping, best iteration is:\n",
      "[466]\ttraining's l1: 0.900618\tvalid_1's l1: 1.23471\n",
      "[LightGBM] [Warning] feature_fraction is set=0.42405519355505783, colsample_bytree=0.7 will be ignored. Current value: feature_fraction=0.42405519355505783\n",
      "[LightGBM] [Warning] bagging_fraction is set=0.5095865314219837, subsample=0.6 will be ignored. Current value: bagging_fraction=0.5095865314219837\n",
      "[LightGBM] [Warning] bagging_freq is set=8, subsample_freq=0 will be ignored. Current value: bagging_freq=8\n",
      "Training until validation scores don't improve for 100 rounds\n",
      "[100]\ttraining's l1: 1.00229\tvalid_1's l1: 1.39386\n"
     ]
    },
    {
     "name": "stderr",
     "output_type": "stream",
     "text": [
      "\u001b[32m[I 2021-07-11 00:21:10,749]\u001b[0m Trial 16 finished with value: -1.3938492798113618 and parameters: {'max_depth': 1, 'min_child_weight': 16, 'subsample': 0.6, 'colsample_bytree': 0.7, 'reg_lambda': 2.074256959064437, 'reg_alpha': 0.001217827475989266, 'feature_fraction': 0.42405519355505783, 'bagging_fraction': 0.5095865314219837, 'bagging_freq': 8, 'num_leaves': 384, 'min_child_samples': 7}. Best is trial 13 with value: -1.1437706470250095.\u001b[0m\n"
     ]
    },
    {
     "name": "stdout",
     "output_type": "stream",
     "text": [
      "Early stopping, best iteration is:\n",
      "[20]\ttraining's l1: 1.00235\tvalid_1's l1: 1.39385\n",
      "[LightGBM] [Warning] feature_fraction is set=0.32475364621496533, colsample_bytree=0.8 will be ignored. Current value: feature_fraction=0.32475364621496533\n",
      "[LightGBM] [Warning] bagging_fraction is set=0.576341004954845, subsample=0.5 will be ignored. Current value: bagging_fraction=0.576341004954845\n",
      "[LightGBM] [Warning] bagging_freq is set=4, subsample_freq=0 will be ignored. Current value: bagging_freq=4\n",
      "Training until validation scores don't improve for 100 rounds\n",
      "[100]\ttraining's l1: 0.838175\tvalid_1's l1: 1.15514\n",
      "[200]\ttraining's l1: 0.827195\tvalid_1's l1: 1.14872\n",
      "[300]\ttraining's l1: 0.824544\tvalid_1's l1: 1.14819\n",
      "[400]\ttraining's l1: 0.82217\tvalid_1's l1: 1.14761\n",
      "Early stopping, best iteration is:\n",
      "[379]\ttraining's l1: 0.822592\tvalid_1's l1: 1.14746\n"
     ]
    },
    {
     "name": "stderr",
     "output_type": "stream",
     "text": [
      "\u001b[32m[I 2021-07-11 00:21:31,210]\u001b[0m Trial 17 finished with value: -1.1470266581643223 and parameters: {'max_depth': 13, 'min_child_weight': 20, 'subsample': 0.5, 'colsample_bytree': 0.8, 'reg_lambda': 63.21690139336958, 'reg_alpha': 0.12140080613821402, 'feature_fraction': 0.32475364621496533, 'bagging_fraction': 0.576341004954845, 'bagging_freq': 4, 'num_leaves': 362, 'min_child_samples': 31}. Best is trial 13 with value: -1.1437706470250095.\u001b[0m\n"
     ]
    },
    {
     "name": "stdout",
     "output_type": "stream",
     "text": [
      "[LightGBM] [Warning] feature_fraction is set=0.49480540663119, colsample_bytree=0.6 will be ignored. Current value: feature_fraction=0.49480540663119\n",
      "[LightGBM] [Warning] bagging_fraction is set=0.7154435427142705, subsample=0.6 will be ignored. Current value: bagging_fraction=0.7154435427142705\n",
      "[LightGBM] [Warning] bagging_freq is set=14, subsample_freq=0 will be ignored. Current value: bagging_freq=14\n",
      "Training until validation scores don't improve for 100 rounds\n",
      "[100]\ttraining's l1: 0.816813\tvalid_1's l1: 1.1481\n",
      "[200]\ttraining's l1: 0.796887\tvalid_1's l1: 1.14513\n",
      "[300]\ttraining's l1: 0.783116\tvalid_1's l1: 1.14694\n",
      "Early stopping, best iteration is:\n",
      "[228]\ttraining's l1: 0.790701\tvalid_1's l1: 1.14438\n"
     ]
    },
    {
     "name": "stderr",
     "output_type": "stream",
     "text": [
      "\u001b[32m[I 2021-07-11 00:21:55,470]\u001b[0m Trial 18 finished with value: -1.1439094662758131 and parameters: {'max_depth': 18, 'min_child_weight': 10, 'subsample': 0.6, 'colsample_bytree': 0.6, 'reg_lambda': 4.236607852173101, 'reg_alpha': 0.002767225334274738, 'feature_fraction': 0.49480540663119, 'bagging_fraction': 0.7154435427142705, 'bagging_freq': 14, 'num_leaves': 638, 'min_child_samples': 14}. Best is trial 13 with value: -1.1437706470250095.\u001b[0m\n"
     ]
    },
    {
     "name": "stdout",
     "output_type": "stream",
     "text": [
      "[LightGBM] [Warning] feature_fraction is set=0.6403291014898862, colsample_bytree=0.6 will be ignored. Current value: feature_fraction=0.6403291014898862\n",
      "[LightGBM] [Warning] bagging_fraction is set=0.8633868505886353, subsample=0.6 will be ignored. Current value: bagging_fraction=0.8633868505886353\n",
      "[LightGBM] [Warning] bagging_freq is set=14, subsample_freq=0 will be ignored. Current value: bagging_freq=14\n",
      "Training until validation scores don't improve for 100 rounds\n",
      "[100]\ttraining's l1: 0.800507\tvalid_1's l1: 1.14428\n",
      "[200]\ttraining's l1: 0.768919\tvalid_1's l1: 1.14451\n",
      "Early stopping, best iteration is:\n",
      "[142]\ttraining's l1: 0.784306\tvalid_1's l1: 1.14278\n"
     ]
    },
    {
     "name": "stderr",
     "output_type": "stream",
     "text": [
      "\u001b[32m[I 2021-07-11 00:22:19,738]\u001b[0m Trial 19 finished with value: -1.1425081796742877 and parameters: {'max_depth': 19, 'min_child_weight': 9, 'subsample': 0.6, 'colsample_bytree': 0.6, 'reg_lambda': 0.5434067442170948, 'reg_alpha': 0.005117365207350986, 'feature_fraction': 0.6403291014898862, 'bagging_fraction': 0.8633868505886353, 'bagging_freq': 14, 'num_leaves': 984, 'min_child_samples': 34}. Best is trial 19 with value: -1.1425081796742877.\u001b[0m\n"
     ]
    },
    {
     "name": "stdout",
     "output_type": "stream",
     "text": [
      "[LightGBM] [Warning] feature_fraction is set=0.663551470603667, colsample_bytree=0.6 will be ignored. Current value: feature_fraction=0.663551470603667\n",
      "[LightGBM] [Warning] bagging_fraction is set=0.9312612493191911, subsample=0.6 will be ignored. Current value: bagging_fraction=0.9312612493191911\n",
      "[LightGBM] [Warning] bagging_freq is set=9, subsample_freq=0 will be ignored. Current value: bagging_freq=9\n",
      "Training until validation scores don't improve for 100 rounds\n",
      "[100]\ttraining's l1: 0.803071\tvalid_1's l1: 1.14872\n",
      "[200]\ttraining's l1: 0.776899\tvalid_1's l1: 1.14665\n",
      "[300]\ttraining's l1: 0.763158\tvalid_1's l1: 1.14703\n",
      "Early stopping, best iteration is:\n",
      "[268]\ttraining's l1: 0.766598\tvalid_1's l1: 1.14627\n"
     ]
    },
    {
     "name": "stderr",
     "output_type": "stream",
     "text": [
      "\u001b[32m[I 2021-07-11 00:22:54,190]\u001b[0m Trial 20 finished with value: -1.1458349403595651 and parameters: {'max_depth': 19, 'min_child_weight': 3, 'subsample': 0.6, 'colsample_bytree': 0.6, 'reg_lambda': 0.33303737474932826, 'reg_alpha': 0.02578130190064335, 'feature_fraction': 0.663551470603667, 'bagging_fraction': 0.9312612493191911, 'bagging_freq': 9, 'num_leaves': 914, 'min_child_samples': 35}. Best is trial 19 with value: -1.1425081796742877.\u001b[0m\n"
     ]
    },
    {
     "name": "stdout",
     "output_type": "stream",
     "text": [
      "[LightGBM] [Warning] feature_fraction is set=0.6561960830612935, colsample_bytree=0.6 will be ignored. Current value: feature_fraction=0.6561960830612935\n",
      "[LightGBM] [Warning] bagging_fraction is set=0.8440764737140747, subsample=0.6 will be ignored. Current value: bagging_fraction=0.8440764737140747\n",
      "[LightGBM] [Warning] bagging_freq is set=14, subsample_freq=0 will be ignored. Current value: bagging_freq=14\n",
      "Training until validation scores don't improve for 100 rounds\n",
      "[100]\ttraining's l1: 0.814799\tvalid_1's l1: 1.14956\n",
      "[200]\ttraining's l1: 0.791569\tvalid_1's l1: 1.14728\n",
      "Early stopping, best iteration is:\n",
      "[175]\ttraining's l1: 0.799914\tvalid_1's l1: 1.14644\n"
     ]
    },
    {
     "name": "stderr",
     "output_type": "stream",
     "text": [
      "\u001b[32m[I 2021-07-11 00:23:15,248]\u001b[0m Trial 21 finished with value: -1.1462064322563559 and parameters: {'max_depth': 18, 'min_child_weight': 10, 'subsample': 0.6, 'colsample_bytree': 0.6, 'reg_lambda': 2.130585986065604, 'reg_alpha': 0.005427976688610232, 'feature_fraction': 0.6561960830612935, 'bagging_fraction': 0.8440764737140747, 'bagging_freq': 14, 'num_leaves': 666, 'min_child_samples': 15}. Best is trial 19 with value: -1.1425081796742877.\u001b[0m\n"
     ]
    },
    {
     "name": "stdout",
     "output_type": "stream",
     "text": [
      "[LightGBM] [Warning] feature_fraction is set=0.5034580673906573, colsample_bytree=0.5 will be ignored. Current value: feature_fraction=0.5034580673906573\n",
      "[LightGBM] [Warning] bagging_fraction is set=0.7750767833833985, subsample=0.6 will be ignored. Current value: bagging_fraction=0.7750767833833985\n",
      "[LightGBM] [Warning] bagging_freq is set=14, subsample_freq=0 will be ignored. Current value: bagging_freq=14\n",
      "Training until validation scores don't improve for 100 rounds\n",
      "[100]\ttraining's l1: 0.813451\tvalid_1's l1: 1.15015\n",
      "[200]\ttraining's l1: 0.794695\tvalid_1's l1: 1.14879\n",
      "[300]\ttraining's l1: 0.784239\tvalid_1's l1: 1.14735\n",
      "Early stopping, best iteration is:\n",
      "[245]\ttraining's l1: 0.788117\tvalid_1's l1: 1.14714\n"
     ]
    },
    {
     "name": "stderr",
     "output_type": "stream",
     "text": [
      "\u001b[32m[I 2021-07-11 00:23:41,317]\u001b[0m Trial 22 finished with value: -1.1468450390223675 and parameters: {'max_depth': 14, 'min_child_weight': 9, 'subsample': 0.6, 'colsample_bytree': 0.5, 'reg_lambda': 4.330630853413699, 'reg_alpha': 0.0029843898799107563, 'feature_fraction': 0.5034580673906573, 'bagging_fraction': 0.7750767833833985, 'bagging_freq': 14, 'num_leaves': 975, 'min_child_samples': 34}. Best is trial 19 with value: -1.1425081796742877.\u001b[0m\n"
     ]
    },
    {
     "name": "stdout",
     "output_type": "stream",
     "text": [
      "[LightGBM] [Warning] feature_fraction is set=0.6295767375836387, colsample_bytree=0.6 will be ignored. Current value: feature_fraction=0.6295767375836387\n",
      "[LightGBM] [Warning] bagging_fraction is set=0.6022428185348183, subsample=0.7 will be ignored. Current value: bagging_fraction=0.6022428185348183\n",
      "[LightGBM] [Warning] bagging_freq is set=20, subsample_freq=0 will be ignored. Current value: bagging_freq=20\n",
      "Training until validation scores don't improve for 100 rounds\n",
      "[100]\ttraining's l1: 0.818904\tvalid_1's l1: 1.14662\n",
      "[200]\ttraining's l1: 0.797713\tvalid_1's l1: 1.14322\n"
     ]
    },
    {
     "name": "stderr",
     "output_type": "stream",
     "text": [
      "\u001b[32m[I 2021-07-11 00:23:58,029]\u001b[0m Trial 23 finished with value: -1.1417980556207414 and parameters: {'max_depth': 18, 'min_child_weight': 10, 'subsample': 0.7, 'colsample_bytree': 0.6, 'reg_lambda': 0.6406321721719617, 'reg_alpha': 0.012709691629810081, 'feature_fraction': 0.6295767375836387, 'bagging_fraction': 0.6022428185348183, 'bagging_freq': 20, 'num_leaves': 626, 'min_child_samples': 16}. Best is trial 23 with value: -1.1417980556207414.\u001b[0m\n"
     ]
    },
    {
     "name": "stdout",
     "output_type": "stream",
     "text": [
      "Early stopping, best iteration is:\n",
      "[159]\ttraining's l1: 0.805159\tvalid_1's l1: 1.14211\n",
      "[LightGBM] [Warning] feature_fraction is set=0.6589676869986446, colsample_bytree=0.7 will be ignored. Current value: feature_fraction=0.6589676869986446\n",
      "[LightGBM] [Warning] bagging_fraction is set=0.5742136255410817, subsample=0.7 will be ignored. Current value: bagging_fraction=0.5742136255410817\n",
      "[LightGBM] [Warning] bagging_freq is set=4, subsample_freq=0 will be ignored. Current value: bagging_freq=4\n",
      "Training until validation scores don't improve for 100 rounds\n",
      "[100]\ttraining's l1: 0.839507\tvalid_1's l1: 1.15481\n",
      "[200]\ttraining's l1: 0.834333\tvalid_1's l1: 1.15147\n",
      "[300]\ttraining's l1: 0.83299\tvalid_1's l1: 1.15004\n",
      "[400]\ttraining's l1: 0.832662\tvalid_1's l1: 1.15002\n",
      "Early stopping, best iteration is:\n",
      "[302]\ttraining's l1: 0.832858\tvalid_1's l1: 1.14988\n"
     ]
    },
    {
     "name": "stderr",
     "output_type": "stream",
     "text": [
      "\u001b[32m[I 2021-07-11 00:24:15,044]\u001b[0m Trial 24 finished with value: -1.1497122382394862 and parameters: {'max_depth': 19, 'min_child_weight': 15, 'subsample': 0.7, 'colsample_bytree': 0.7, 'reg_lambda': 0.6445360537434545, 'reg_alpha': 0.03826561633037239, 'feature_fraction': 0.6589676869986446, 'bagging_fraction': 0.5742136255410817, 'bagging_freq': 4, 'num_leaves': 303, 'min_child_samples': 24}. Best is trial 23 with value: -1.1417980556207414.\u001b[0m\n"
     ]
    },
    {
     "name": "stdout",
     "output_type": "stream",
     "text": [
      "[LightGBM] [Warning] feature_fraction is set=0.7496686592001608, colsample_bytree=0.6 will be ignored. Current value: feature_fraction=0.7496686592001608\n",
      "[LightGBM] [Warning] bagging_fraction is set=0.40540827444550526, subsample=0.7 will be ignored. Current value: bagging_fraction=0.40540827444550526\n",
      "[LightGBM] [Warning] bagging_freq is set=6, subsample_freq=0 will be ignored. Current value: bagging_freq=6\n",
      "Training until validation scores don't improve for 100 rounds\n",
      "[100]\ttraining's l1: 0.831679\tvalid_1's l1: 1.15161\n",
      "[200]\ttraining's l1: 0.826344\tvalid_1's l1: 1.14813\n",
      "[300]\ttraining's l1: 0.823567\tvalid_1's l1: 1.14798\n",
      "[400]\ttraining's l1: 0.823032\tvalid_1's l1: 1.14818\n",
      "Early stopping, best iteration is:\n",
      "[306]\ttraining's l1: 0.823449\tvalid_1's l1: 1.14788\n"
     ]
    },
    {
     "name": "stderr",
     "output_type": "stream",
     "text": [
      "\u001b[32m[I 2021-07-11 00:24:30,170]\u001b[0m Trial 25 finished with value: -1.1474498668535456 and parameters: {'max_depth': 11, 'min_child_weight': 5, 'subsample': 0.7, 'colsample_bytree': 0.6, 'reg_lambda': 0.009211139452479138, 'reg_alpha': 0.2680566951885337, 'feature_fraction': 0.7496686592001608, 'bagging_fraction': 0.40540827444550526, 'bagging_freq': 6, 'num_leaves': 782, 'min_child_samples': 45}. Best is trial 23 with value: -1.1417980556207414.\u001b[0m\n"
     ]
    },
    {
     "name": "stdout",
     "output_type": "stream",
     "text": [
      "[LightGBM] [Warning] feature_fraction is set=0.5987380100500327, colsample_bytree=0.5 will be ignored. Current value: feature_fraction=0.5987380100500327\n",
      "[LightGBM] [Warning] bagging_fraction is set=0.6425270744627185, subsample=0.7 will be ignored. Current value: bagging_fraction=0.6425270744627185\n",
      "[LightGBM] [Warning] bagging_freq is set=2, subsample_freq=0 will be ignored. Current value: bagging_freq=2\n",
      "Training until validation scores don't improve for 100 rounds\n",
      "[100]\ttraining's l1: 0.827752\tvalid_1's l1: 1.15227\n",
      "[200]\ttraining's l1: 0.819042\tvalid_1's l1: 1.14705\n",
      "[300]\ttraining's l1: 0.816547\tvalid_1's l1: 1.14548\n",
      "Early stopping, best iteration is:\n",
      "[279]\ttraining's l1: 0.816721\tvalid_1's l1: 1.14534\n"
     ]
    },
    {
     "name": "stderr",
     "output_type": "stream",
     "text": [
      "\u001b[32m[I 2021-07-11 00:24:57,062]\u001b[0m Trial 26 finished with value: -1.1450493264257158 and parameters: {'max_depth': 14, 'min_child_weight': 9, 'subsample': 0.7, 'colsample_bytree': 0.5, 'reg_lambda': 0.11526072125081457, 'reg_alpha': 0.013027529637328589, 'feature_fraction': 0.5987380100500327, 'bagging_fraction': 0.6425270744627185, 'bagging_freq': 2, 'num_leaves': 454, 'min_child_samples': 29}. Best is trial 23 with value: -1.1417980556207414.\u001b[0m\n"
     ]
    },
    {
     "name": "stdout",
     "output_type": "stream",
     "text": [
      "[LightGBM] [Warning] feature_fraction is set=0.7067712406367801, colsample_bytree=0.7 will be ignored. Current value: feature_fraction=0.7067712406367801\n",
      "[LightGBM] [Warning] bagging_fraction is set=0.9865225194760086, subsample=0.8 will be ignored. Current value: bagging_fraction=0.9865225194760086\n",
      "[LightGBM] [Warning] bagging_freq is set=9, subsample_freq=0 will be ignored. Current value: bagging_freq=9\n",
      "Training until validation scores don't improve for 100 rounds\n",
      "[100]\ttraining's l1: 0.883333\tvalid_1's l1: 1.20916\n"
     ]
    },
    {
     "name": "stderr",
     "output_type": "stream",
     "text": [
      "\u001b[32m[I 2021-07-11 00:25:03,786]\u001b[0m Trial 27 finished with value: -1.2091505522254746 and parameters: {'max_depth': 18, 'min_child_weight': 11, 'subsample': 0.8, 'colsample_bytree': 0.7, 'reg_lambda': 0.8928378812638468, 'reg_alpha': 0.371970486523079, 'feature_fraction': 0.7067712406367801, 'bagging_fraction': 0.9865225194760086, 'bagging_freq': 9, 'num_leaves': 49, 'min_child_samples': 14}. Best is trial 23 with value: -1.1417980556207414.\u001b[0m\n"
     ]
    },
    {
     "name": "stdout",
     "output_type": "stream",
     "text": [
      "Early stopping, best iteration is:\n",
      "[73]\ttraining's l1: 0.883337\tvalid_1's l1: 1.20915\n",
      "[LightGBM] [Warning] feature_fraction is set=0.8255892832754869, colsample_bytree=0.6 will be ignored. Current value: feature_fraction=0.8255892832754869\n",
      "[LightGBM] [Warning] bagging_fraction is set=0.8806321816573717, subsample=0.5 will be ignored. Current value: bagging_fraction=0.8806321816573717\n",
      "[LightGBM] [Warning] bagging_freq is set=20, subsample_freq=0 will be ignored. Current value: bagging_freq=20\n",
      "Training until validation scores don't improve for 100 rounds\n",
      "[100]\ttraining's l1: 0.820264\tvalid_1's l1: 1.14777\n",
      "[200]\ttraining's l1: 0.811835\tvalid_1's l1: 1.1455\n",
      "[300]\ttraining's l1: 0.799378\tvalid_1's l1: 1.14322\n",
      "[400]\ttraining's l1: 0.786206\tvalid_1's l1: 1.14331\n",
      "Early stopping, best iteration is:\n",
      "[317]\ttraining's l1: 0.795123\tvalid_1's l1: 1.14209\n"
     ]
    },
    {
     "name": "stderr",
     "output_type": "stream",
     "text": [
      "\u001b[32m[I 2021-07-11 00:25:38,652]\u001b[0m Trial 28 finished with value: -1.1417786271555168 and parameters: {'max_depth': 16, 'min_child_weight': 9, 'subsample': 0.5, 'colsample_bytree': 0.6, 'reg_lambda': 0.07591112645806206, 'reg_alpha': 0.007310312389475156, 'feature_fraction': 0.8255892832754869, 'bagging_fraction': 0.8806321816573717, 'bagging_freq': 20, 'num_leaves': 593, 'min_child_samples': 36}. Best is trial 28 with value: -1.1417786271555168.\u001b[0m\n"
     ]
    },
    {
     "name": "stdout",
     "output_type": "stream",
     "text": [
      "[LightGBM] [Warning] feature_fraction is set=0.827705501811966, colsample_bytree=0.6 will be ignored. Current value: feature_fraction=0.827705501811966\n",
      "[LightGBM] [Warning] bagging_fraction is set=0.8833268788397308, subsample=0.6 will be ignored. Current value: bagging_fraction=0.8833268788397308\n",
      "[LightGBM] [Warning] bagging_freq is set=20, subsample_freq=0 will be ignored. Current value: bagging_freq=20\n",
      "Training until validation scores don't improve for 100 rounds\n",
      "[100]\ttraining's l1: 0.821885\tvalid_1's l1: 1.15101\n",
      "[200]\ttraining's l1: 0.814835\tvalid_1's l1: 1.14786\n",
      "[300]\ttraining's l1: 0.802774\tvalid_1's l1: 1.14589\n",
      "[400]\ttraining's l1: 0.79677\tvalid_1's l1: 1.14522\n",
      "Early stopping, best iteration is:\n",
      "[351]\ttraining's l1: 0.798106\tvalid_1's l1: 1.14486\n"
     ]
    },
    {
     "name": "stderr",
     "output_type": "stream",
     "text": [
      "\u001b[32m[I 2021-07-11 00:26:14,686]\u001b[0m Trial 29 finished with value: -1.1445965104621403 and parameters: {'max_depth': 15, 'min_child_weight': 11, 'subsample': 0.6, 'colsample_bytree': 0.6, 'reg_lambda': 0.05771021485520908, 'reg_alpha': 0.05441247266733558, 'feature_fraction': 0.827705501811966, 'bagging_fraction': 0.8833268788397308, 'bagging_freq': 20, 'num_leaves': 599, 'min_child_samples': 40}. Best is trial 28 with value: -1.1417786271555168.\u001b[0m\n"
     ]
    },
    {
     "name": "stdout",
     "output_type": "stream",
     "text": [
      "[LightGBM] [Warning] feature_fraction is set=0.6054518449897116, colsample_bytree=0.5 will be ignored. Current value: feature_fraction=0.6054518449897116\n",
      "[LightGBM] [Warning] bagging_fraction is set=0.9704992379607345, subsample=0.7 will be ignored. Current value: bagging_fraction=0.9704992379607345\n",
      "[LightGBM] [Warning] bagging_freq is set=18, subsample_freq=0 will be ignored. Current value: bagging_freq=18\n",
      "Training until validation scores don't improve for 100 rounds\n",
      "[100]\ttraining's l1: 0.808686\tvalid_1's l1: 1.14722\n",
      "[200]\ttraining's l1: 0.788308\tvalid_1's l1: 1.1435\n",
      "Early stopping, best iteration is:\n",
      "[191]\ttraining's l1: 0.79049\tvalid_1's l1: 1.14331\n"
     ]
    },
    {
     "name": "stderr",
     "output_type": "stream",
     "text": [
      "\u001b[32m[I 2021-07-11 00:26:48,871]\u001b[0m Trial 30 finished with value: -1.143038873865884 and parameters: {'max_depth': 16, 'min_child_weight': 9, 'subsample': 0.7, 'colsample_bytree': 0.5, 'reg_lambda': 0.0039719161912727735, 'reg_alpha': 0.007792062947130344, 'feature_fraction': 0.6054518449897116, 'bagging_fraction': 0.9704992379607345, 'bagging_freq': 18, 'num_leaves': 999, 'min_child_samples': 50}. Best is trial 28 with value: -1.1417786271555168.\u001b[0m\n"
     ]
    },
    {
     "name": "stdout",
     "output_type": "stream",
     "text": [
      "[LightGBM] [Warning] feature_fraction is set=0.5995377047957607, colsample_bytree=0.5 will be ignored. Current value: feature_fraction=0.5995377047957607\n",
      "[LightGBM] [Warning] bagging_fraction is set=0.9887587561626732, subsample=0.7 will be ignored. Current value: bagging_fraction=0.9887587561626732\n",
      "[LightGBM] [Warning] bagging_freq is set=20, subsample_freq=0 will be ignored. Current value: bagging_freq=20\n",
      "Training until validation scores don't improve for 100 rounds\n",
      "[100]\ttraining's l1: 0.805737\tvalid_1's l1: 1.14696\n",
      "[200]\ttraining's l1: 0.784982\tvalid_1's l1: 1.14368\n",
      "Early stopping, best iteration is:\n",
      "[174]\ttraining's l1: 0.789\tvalid_1's l1: 1.14342\n"
     ]
    },
    {
     "name": "stderr",
     "output_type": "stream",
     "text": [
      "\u001b[32m[I 2021-07-11 00:27:21,269]\u001b[0m Trial 31 finished with value: -1.1431933427489518 and parameters: {'max_depth': 16, 'min_child_weight': 9, 'subsample': 0.7, 'colsample_bytree': 0.5, 'reg_lambda': 0.0012287058838653434, 'reg_alpha': 0.005257197341000207, 'feature_fraction': 0.5995377047957607, 'bagging_fraction': 0.9887587561626732, 'bagging_freq': 20, 'num_leaves': 993, 'min_child_samples': 52}. Best is trial 28 with value: -1.1417786271555168.\u001b[0m\n"
     ]
    },
    {
     "name": "stdout",
     "output_type": "stream",
     "text": [
      "[LightGBM] [Warning] feature_fraction is set=0.6899112644036807, colsample_bytree=0.5 will be ignored. Current value: feature_fraction=0.6899112644036807\n",
      "[LightGBM] [Warning] bagging_fraction is set=0.869406085473792, subsample=0.7 will be ignored. Current value: bagging_fraction=0.869406085473792\n",
      "[LightGBM] [Warning] bagging_freq is set=18, subsample_freq=0 will be ignored. Current value: bagging_freq=18\n",
      "Training until validation scores don't improve for 100 rounds\n",
      "[100]\ttraining's l1: 0.816317\tvalid_1's l1: 1.15224\n",
      "[200]\ttraining's l1: 0.804776\tvalid_1's l1: 1.14812\n",
      "[300]\ttraining's l1: 0.798722\tvalid_1's l1: 1.14822\n",
      "Early stopping, best iteration is:\n",
      "[231]\ttraining's l1: 0.802535\tvalid_1's l1: 1.14796\n"
     ]
    },
    {
     "name": "stderr",
     "output_type": "stream",
     "text": [
      "\u001b[32m[I 2021-07-11 00:27:46,651]\u001b[0m Trial 32 finished with value: -1.1476895410376984 and parameters: {'max_depth': 15, 'min_child_weight': 8, 'subsample': 0.7, 'colsample_bytree': 0.5, 'reg_lambda': 0.00365936071940565, 'reg_alpha': 0.01144969760781164, 'feature_fraction': 0.6899112644036807, 'bagging_fraction': 0.869406085473792, 'bagging_freq': 18, 'num_leaves': 864, 'min_child_samples': 64}. Best is trial 28 with value: -1.1417786271555168.\u001b[0m\n"
     ]
    },
    {
     "name": "stdout",
     "output_type": "stream",
     "text": [
      "[LightGBM] [Warning] feature_fraction is set=0.5546288092452405, colsample_bytree=0.6 will be ignored. Current value: feature_fraction=0.5546288092452405\n",
      "[LightGBM] [Warning] bagging_fraction is set=0.955935112914933, subsample=0.8 will be ignored. Current value: bagging_fraction=0.955935112914933\n",
      "[LightGBM] [Warning] bagging_freq is set=18, subsample_freq=0 will be ignored. Current value: bagging_freq=18\n",
      "Training until validation scores don't improve for 100 rounds\n",
      "[100]\ttraining's l1: 0.81651\tvalid_1's l1: 1.15129\n",
      "[200]\ttraining's l1: 0.80912\tvalid_1's l1: 1.14856\n",
      "[300]\ttraining's l1: 0.805181\tvalid_1's l1: 1.14723\n",
      "[400]\ttraining's l1: 0.799603\tvalid_1's l1: 1.14695\n",
      "Early stopping, best iteration is:\n",
      "[334]\ttraining's l1: 0.802571\tvalid_1's l1: 1.14689\n"
     ]
    },
    {
     "name": "stderr",
     "output_type": "stream",
     "text": [
      "\u001b[32m[I 2021-07-11 00:28:21,625]\u001b[0m Trial 33 finished with value: -1.146681563210857 and parameters: {'max_depth': 13, 'min_child_weight': 4, 'subsample': 0.8, 'colsample_bytree': 0.6, 'reg_lambda': 0.021961751461718557, 'reg_alpha': 0.013026234668937839, 'feature_fraction': 0.5546288092452405, 'bagging_fraction': 0.955935112914933, 'bagging_freq': 18, 'num_leaves': 942, 'min_child_samples': 44}. Best is trial 28 with value: -1.1417786271555168.\u001b[0m\n"
     ]
    },
    {
     "name": "stdout",
     "output_type": "stream",
     "text": [
      "[LightGBM] [Warning] feature_fraction is set=0.8102056918769553, colsample_bytree=0.5 will be ignored. Current value: feature_fraction=0.8102056918769553\n",
      "[LightGBM] [Warning] bagging_fraction is set=0.7992018964005488, subsample=0.7 will be ignored. Current value: bagging_fraction=0.7992018964005488\n",
      "[LightGBM] [Warning] bagging_freq is set=20, subsample_freq=0 will be ignored. Current value: bagging_freq=20\n",
      "Training until validation scores don't improve for 100 rounds\n",
      "[100]\ttraining's l1: 0.806303\tvalid_1's l1: 1.14904\n",
      "[200]\ttraining's l1: 0.782418\tvalid_1's l1: 1.14911\n"
     ]
    },
    {
     "name": "stderr",
     "output_type": "stream",
     "text": [
      "\u001b[32m[I 2021-07-11 00:28:43,241]\u001b[0m Trial 34 finished with value: -1.146999281100844 and parameters: {'max_depth': 19, 'min_child_weight': 12, 'subsample': 0.7, 'colsample_bytree': 0.5, 'reg_lambda': 0.0041394287410051476, 'reg_alpha': 0.002813835417344144, 'feature_fraction': 0.8102056918769553, 'bagging_fraction': 0.7992018964005488, 'bagging_freq': 20, 'num_leaves': 840, 'min_child_samples': 39}. Best is trial 28 with value: -1.1417786271555168.\u001b[0m\n"
     ]
    },
    {
     "name": "stdout",
     "output_type": "stream",
     "text": [
      "Early stopping, best iteration is:\n",
      "[126]\ttraining's l1: 0.79908\tvalid_1's l1: 1.14723\n",
      "[LightGBM] [Warning] feature_fraction is set=0.6133781508911051, colsample_bytree=0.6 will be ignored. Current value: feature_fraction=0.6133781508911051\n",
      "[LightGBM] [Warning] bagging_fraction is set=0.87446437269463, subsample=0.6 will be ignored. Current value: bagging_fraction=0.87446437269463\n",
      "[LightGBM] [Warning] bagging_freq is set=17, subsample_freq=0 will be ignored. Current value: bagging_freq=17\n",
      "Training until validation scores don't improve for 100 rounds\n",
      "[100]\ttraining's l1: 0.813472\tvalid_1's l1: 1.14879\n",
      "[200]\ttraining's l1: 0.801412\tvalid_1's l1: 1.14672\n",
      "[300]\ttraining's l1: 0.785721\tvalid_1's l1: 1.14639\n",
      "Early stopping, best iteration is:\n",
      "[268]\ttraining's l1: 0.788722\tvalid_1's l1: 1.14598\n"
     ]
    },
    {
     "name": "stderr",
     "output_type": "stream",
     "text": [
      "\u001b[32m[I 2021-07-11 00:29:18,723]\u001b[0m Trial 35 finished with value: -1.1455958512906337 and parameters: {'max_depth': 17, 'min_child_weight': 8, 'subsample': 0.6, 'colsample_bytree': 0.6, 'reg_lambda': 0.09871228434887604, 'reg_alpha': 0.06104407737030458, 'feature_fraction': 0.6133781508911051, 'bagging_fraction': 0.87446437269463, 'bagging_freq': 17, 'num_leaves': 724, 'min_child_samples': 50}. Best is trial 28 with value: -1.1417786271555168.\u001b[0m\n"
     ]
    },
    {
     "name": "stdout",
     "output_type": "stream",
     "text": [
      "[LightGBM] [Warning] feature_fraction is set=0.7178536091894316, colsample_bytree=0.5 will be ignored. Current value: feature_fraction=0.7178536091894316\n",
      "[LightGBM] [Warning] bagging_fraction is set=0.9985215642790116, subsample=0.7 will be ignored. Current value: bagging_fraction=0.9985215642790116\n",
      "[LightGBM] [Warning] bagging_freq is set=19, subsample_freq=0 will be ignored. Current value: bagging_freq=19\n",
      "Training until validation scores don't improve for 100 rounds\n",
      "[100]\ttraining's l1: 0.829215\tvalid_1's l1: 1.15285\n",
      "[200]\ttraining's l1: 0.826065\tvalid_1's l1: 1.14957\n",
      "[300]\ttraining's l1: 0.823902\tvalid_1's l1: 1.14904\n",
      "Early stopping, best iteration is:\n",
      "[266]\ttraining's l1: 0.824289\tvalid_1's l1: 1.14895\n"
     ]
    },
    {
     "name": "stderr",
     "output_type": "stream",
     "text": [
      "\u001b[32m[I 2021-07-11 00:29:38,719]\u001b[0m Trial 36 finished with value: -1.1488613274528119 and parameters: {'max_depth': 11, 'min_child_weight': 6, 'subsample': 0.7, 'colsample_bytree': 0.5, 'reg_lambda': 0.023058896035610853, 'reg_alpha': 0.008883027492349505, 'feature_fraction': 0.7178536091894316, 'bagging_fraction': 0.9985215642790116, 'bagging_freq': 19, 'num_leaves': 600, 'min_child_samples': 62}. Best is trial 28 with value: -1.1417786271555168.\u001b[0m\n"
     ]
    },
    {
     "name": "stdout",
     "output_type": "stream",
     "text": [
      "[LightGBM] [Warning] feature_fraction is set=0.4994904133502197, colsample_bytree=0.6 will be ignored. Current value: feature_fraction=0.4994904133502197\n",
      "[LightGBM] [Warning] bagging_fraction is set=0.9249169192733081, subsample=0.6 will be ignored. Current value: bagging_fraction=0.9249169192733081\n",
      "[LightGBM] [Warning] bagging_freq is set=15, subsample_freq=0 will be ignored. Current value: bagging_freq=15\n",
      "Training until validation scores don't improve for 100 rounds\n",
      "[100]\ttraining's l1: 0.814877\tvalid_1's l1: 1.14865\n",
      "[200]\ttraining's l1: 0.802459\tvalid_1's l1: 1.14528\n",
      "Early stopping, best iteration is:\n",
      "[197]\ttraining's l1: 0.802561\tvalid_1's l1: 1.14524\n"
     ]
    },
    {
     "name": "stderr",
     "output_type": "stream",
     "text": [
      "\u001b[32m[I 2021-07-11 00:30:03,249]\u001b[0m Trial 37 finished with value: -1.1450421745347708 and parameters: {'max_depth': 14, 'min_child_weight': 1, 'subsample': 0.6, 'colsample_bytree': 0.6, 'reg_lambda': 0.5938673229582753, 'reg_alpha': 0.0031642962027967694, 'feature_fraction': 0.4994904133502197, 'bagging_fraction': 0.9249169192733081, 'bagging_freq': 15, 'num_leaves': 762, 'min_child_samples': 36}. Best is trial 28 with value: -1.1417786271555168.\u001b[0m\n"
     ]
    },
    {
     "name": "stdout",
     "output_type": "stream",
     "text": [
      "[LightGBM] [Warning] feature_fraction is set=0.7922732893515241, colsample_bytree=0.6 will be ignored. Current value: feature_fraction=0.7922732893515241\n",
      "[LightGBM] [Warning] bagging_fraction is set=0.36828102266339574, subsample=0.8 will be ignored. Current value: bagging_fraction=0.36828102266339574\n",
      "[LightGBM] [Warning] bagging_freq is set=19, subsample_freq=0 will be ignored. Current value: bagging_freq=19\n",
      "Training until validation scores don't improve for 100 rounds\n",
      "[100]\ttraining's l1: 0.830981\tvalid_1's l1: 1.15401\n",
      "[200]\ttraining's l1: 0.824199\tvalid_1's l1: 1.15179\n",
      "[300]\ttraining's l1: 0.821191\tvalid_1's l1: 1.15191\n",
      "Early stopping, best iteration is:\n",
      "[245]\ttraining's l1: 0.822118\tvalid_1's l1: 1.15101\n"
     ]
    },
    {
     "name": "stderr",
     "output_type": "stream",
     "text": [
      "\u001b[32m[I 2021-07-11 00:30:16,861]\u001b[0m Trial 38 finished with value: -1.1505920020317566 and parameters: {'max_depth': 12, 'min_child_weight': 12, 'subsample': 0.8, 'colsample_bytree': 0.6, 'reg_lambda': 0.12735235274293813, 'reg_alpha': 0.34125326335527917, 'feature_fraction': 0.7922732893515241, 'bagging_fraction': 0.36828102266339574, 'bagging_freq': 19, 'num_leaves': 832, 'min_child_samples': 48}. Best is trial 28 with value: -1.1417786271555168.\u001b[0m\n"
     ]
    },
    {
     "name": "stdout",
     "output_type": "stream",
     "text": [
      "[LightGBM] [Warning] feature_fraction is set=0.8662283001981257, colsample_bytree=0.5 will be ignored. Current value: feature_fraction=0.8662283001981257\n",
      "[LightGBM] [Warning] bagging_fraction is set=0.23065620651330132, subsample=0.7 will be ignored. Current value: bagging_fraction=0.23065620651330132\n",
      "[LightGBM] [Warning] bagging_freq is set=17, subsample_freq=0 will be ignored. Current value: bagging_freq=17\n",
      "Training until validation scores don't improve for 100 rounds\n",
      "[100]\ttraining's l1: 0.846362\tvalid_1's l1: 1.16442\n",
      "[200]\ttraining's l1: 0.840278\tvalid_1's l1: 1.15785\n",
      "[300]\ttraining's l1: 0.839238\tvalid_1's l1: 1.15674\n"
     ]
    },
    {
     "name": "stderr",
     "output_type": "stream",
     "text": [
      "\u001b[32m[I 2021-07-11 00:30:25,778]\u001b[0m Trial 39 finished with value: -1.1564333578110266 and parameters: {'max_depth': 9, 'min_child_weight': 7, 'subsample': 0.7, 'colsample_bytree': 0.5, 'reg_lambda': 0.007966251293571083, 'reg_alpha': 0.022283438662563573, 'feature_fraction': 0.8662283001981257, 'bagging_fraction': 0.23065620651330132, 'bagging_freq': 17, 'num_leaves': 694, 'min_child_samples': 27}. Best is trial 28 with value: -1.1417786271555168.\u001b[0m\n"
     ]
    },
    {
     "name": "stdout",
     "output_type": "stream",
     "text": [
      "Early stopping, best iteration is:\n",
      "[244]\ttraining's l1: 0.839376\tvalid_1's l1: 1.15665\n",
      "[LightGBM] [Warning] feature_fraction is set=0.9652879643600296, colsample_bytree=0.6 will be ignored. Current value: feature_fraction=0.9652879643600296\n",
      "[LightGBM] [Warning] bagging_fraction is set=0.9601478936781244, subsample=0.7 will be ignored. Current value: bagging_fraction=0.9601478936781244\n",
      "[LightGBM] [Warning] bagging_freq is set=13, subsample_freq=0 will be ignored. Current value: bagging_freq=13\n",
      "Training until validation scores don't improve for 100 rounds\n",
      "[100]\ttraining's l1: 0.804282\tvalid_1's l1: 1.148\n",
      "[200]\ttraining's l1: 0.784966\tvalid_1's l1: 1.14675\n",
      "Early stopping, best iteration is:\n",
      "[183]\ttraining's l1: 0.788422\tvalid_1's l1: 1.14624\n"
     ]
    },
    {
     "name": "stderr",
     "output_type": "stream",
     "text": [
      "\u001b[32m[I 2021-07-11 00:31:02,496]\u001b[0m Trial 40 finished with value: -1.1459463125605278 and parameters: {'max_depth': 20, 'min_child_weight': 10, 'subsample': 0.7, 'colsample_bytree': 0.6, 'reg_lambda': 0.0488422881144424, 'reg_alpha': 4.510431816760923, 'feature_fraction': 0.9652879643600296, 'bagging_fraction': 0.9601478936781244, 'bagging_freq': 13, 'num_leaves': 944, 'min_child_samples': 59}. Best is trial 28 with value: -1.1417786271555168.\u001b[0m\n"
     ]
    },
    {
     "name": "stdout",
     "output_type": "stream",
     "text": [
      "[LightGBM] [Warning] feature_fraction is set=0.6015070444522593, colsample_bytree=0.5 will be ignored. Current value: feature_fraction=0.6015070444522593\n",
      "[LightGBM] [Warning] bagging_fraction is set=0.9735171359942433, subsample=0.7 will be ignored. Current value: bagging_fraction=0.9735171359942433\n",
      "[LightGBM] [Warning] bagging_freq is set=20, subsample_freq=0 will be ignored. Current value: bagging_freq=20\n",
      "Training until validation scores don't improve for 100 rounds\n",
      "[100]\ttraining's l1: 0.811284\tvalid_1's l1: 1.14914\n",
      "[200]\ttraining's l1: 0.804751\tvalid_1's l1: 1.14707\n",
      "[300]\ttraining's l1: 0.792511\tvalid_1's l1: 1.14558\n",
      "[400]\ttraining's l1: 0.783814\tvalid_1's l1: 1.14593\n",
      "Early stopping, best iteration is:\n",
      "[348]\ttraining's l1: 0.787602\tvalid_1's l1: 1.14539\n"
     ]
    },
    {
     "name": "stderr",
     "output_type": "stream",
     "text": [
      "\u001b[32m[I 2021-07-11 00:31:51,109]\u001b[0m Trial 41 finished with value: -1.1450019633943997 and parameters: {'max_depth': 16, 'min_child_weight': 9, 'subsample': 0.7, 'colsample_bytree': 0.5, 'reg_lambda': 0.0012512827429042297, 'reg_alpha': 0.0068712394238172846, 'feature_fraction': 0.6015070444522593, 'bagging_fraction': 0.9735171359942433, 'bagging_freq': 20, 'num_leaves': 991, 'min_child_samples': 72}. Best is trial 28 with value: -1.1417786271555168.\u001b[0m\n"
     ]
    },
    {
     "name": "stdout",
     "output_type": "stream",
     "text": [
      "[LightGBM] [Warning] feature_fraction is set=0.6220234223479895, colsample_bytree=0.5 will be ignored. Current value: feature_fraction=0.6220234223479895\n",
      "[LightGBM] [Warning] bagging_fraction is set=0.8976718708744431, subsample=0.8 will be ignored. Current value: bagging_fraction=0.8976718708744431\n",
      "[LightGBM] [Warning] bagging_freq is set=19, subsample_freq=0 will be ignored. Current value: bagging_freq=19\n",
      "Training until validation scores don't improve for 100 rounds\n",
      "[100]\ttraining's l1: 0.809046\tvalid_1's l1: 1.1485\n",
      "[200]\ttraining's l1: 0.794153\tvalid_1's l1: 1.14669\n",
      "[300]\ttraining's l1: 0.778036\tvalid_1's l1: 1.14593\n",
      "Early stopping, best iteration is:\n",
      "[266]\ttraining's l1: 0.783717\tvalid_1's l1: 1.14547\n"
     ]
    },
    {
     "name": "stderr",
     "output_type": "stream",
     "text": [
      "\u001b[32m[I 2021-07-11 00:32:31,680]\u001b[0m Trial 42 finished with value: -1.145106644733867 and parameters: {'max_depth': 16, 'min_child_weight': 9, 'subsample': 0.8, 'colsample_bytree': 0.5, 'reg_lambda': 0.0026939848425357924, 'reg_alpha': 0.004718743225614442, 'feature_fraction': 0.6220234223479895, 'bagging_fraction': 0.8976718708744431, 'bagging_freq': 19, 'num_leaves': 986, 'min_child_samples': 50}. Best is trial 28 with value: -1.1417786271555168.\u001b[0m\n"
     ]
    },
    {
     "name": "stdout",
     "output_type": "stream",
     "text": [
      "[LightGBM] [Warning] feature_fraction is set=0.5603732500911663, colsample_bytree=0.5 will be ignored. Current value: feature_fraction=0.5603732500911663\n",
      "[LightGBM] [Warning] bagging_fraction is set=0.9974698556348565, subsample=0.7 will be ignored. Current value: bagging_fraction=0.9974698556348565\n",
      "[LightGBM] [Warning] bagging_freq is set=18, subsample_freq=0 will be ignored. Current value: bagging_freq=18\n",
      "Training until validation scores don't improve for 100 rounds\n",
      "[100]\ttraining's l1: 0.80968\tvalid_1's l1: 1.14596\n",
      "[200]\ttraining's l1: 0.78789\tvalid_1's l1: 1.14412\n",
      "[300]\ttraining's l1: 0.774732\tvalid_1's l1: 1.1432\n",
      "[400]\ttraining's l1: 0.772113\tvalid_1's l1: 1.14345\n",
      "Early stopping, best iteration is:\n",
      "[304]\ttraining's l1: 0.774378\tvalid_1's l1: 1.14307\n"
     ]
    },
    {
     "name": "stderr",
     "output_type": "stream",
     "text": [
      "\u001b[32m[I 2021-07-11 00:33:13,028]\u001b[0m Trial 43 finished with value: -1.1427056582064312 and parameters: {'max_depth': 17, 'min_child_weight': 7, 'subsample': 0.7, 'colsample_bytree': 0.5, 'reg_lambda': 0.0013096048238167928, 'reg_alpha': 0.0022287039223663797, 'feature_fraction': 0.5603732500911663, 'bagging_fraction': 0.9974698556348565, 'bagging_freq': 18, 'num_leaves': 887, 'min_child_samples': 53}. Best is trial 28 with value: -1.1417786271555168.\u001b[0m\n"
     ]
    },
    {
     "name": "stdout",
     "output_type": "stream",
     "text": [
      "[LightGBM] [Warning] feature_fraction is set=0.5576296871653652, colsample_bytree=0.6 will be ignored. Current value: feature_fraction=0.5576296871653652\n",
      "[LightGBM] [Warning] bagging_fraction is set=0.2921266390787657, subsample=0.7 will be ignored. Current value: bagging_fraction=0.2921266390787657\n",
      "[LightGBM] [Warning] bagging_freq is set=18, subsample_freq=0 will be ignored. Current value: bagging_freq=18\n",
      "Training until validation scores don't improve for 100 rounds\n",
      "[100]\ttraining's l1: 0.83021\tvalid_1's l1: 1.153\n"
     ]
    },
    {
     "name": "stderr",
     "output_type": "stream",
     "text": [
      "\u001b[32m[I 2021-07-11 00:33:26,406]\u001b[0m Trial 44 finished with value: -1.151906675725285 and parameters: {'max_depth': 19, 'min_child_weight': 6, 'subsample': 0.7, 'colsample_bytree': 0.6, 'reg_lambda': 0.2779476399860967, 'reg_alpha': 0.0027215048617115945, 'feature_fraction': 0.5576296871653652, 'bagging_fraction': 0.2921266390787657, 'bagging_freq': 18, 'num_leaves': 888, 'min_child_samples': 75}. Best is trial 28 with value: -1.1417786271555168.\u001b[0m\n"
     ]
    },
    {
     "name": "stdout",
     "output_type": "stream",
     "text": [
      "Early stopping, best iteration is:\n",
      "[92]\ttraining's l1: 0.831329\tvalid_1's l1: 1.15237\n",
      "[LightGBM] [Warning] feature_fraction is set=0.5297655985071098, colsample_bytree=0.5 will be ignored. Current value: feature_fraction=0.5297655985071098\n",
      "[LightGBM] [Warning] bagging_fraction is set=0.9373389094383549, subsample=0.8 will be ignored. Current value: bagging_fraction=0.9373389094383549\n",
      "[LightGBM] [Warning] bagging_freq is set=16, subsample_freq=0 will be ignored. Current value: bagging_freq=16\n",
      "Training until validation scores don't improve for 100 rounds\n",
      "[100]\ttraining's l1: 0.811437\tvalid_1's l1: 1.14691\n",
      "[200]\ttraining's l1: 0.797096\tvalid_1's l1: 1.14567\n",
      "[300]\ttraining's l1: 0.782512\tvalid_1's l1: 1.14397\n",
      "[400]\ttraining's l1: 0.780371\tvalid_1's l1: 1.1435\n",
      "Early stopping, best iteration is:\n",
      "[346]\ttraining's l1: 0.781114\tvalid_1's l1: 1.14337\n"
     ]
    },
    {
     "name": "stderr",
     "output_type": "stream",
     "text": [
      "\u001b[32m[I 2021-07-11 00:34:05,004]\u001b[0m Trial 45 finished with value: -1.1430773058246866 and parameters: {'max_depth': 15, 'min_child_weight': 7, 'subsample': 0.8, 'colsample_bytree': 0.5, 'reg_lambda': 0.0021762664003510766, 'reg_alpha': 0.0015753552543498286, 'feature_fraction': 0.5297655985071098, 'bagging_fraction': 0.9373389094383549, 'bagging_freq': 16, 'num_leaves': 819, 'min_child_samples': 40}. Best is trial 28 with value: -1.1417786271555168.\u001b[0m\n"
     ]
    },
    {
     "name": "stdout",
     "output_type": "stream",
     "text": [
      "[LightGBM] [Warning] feature_fraction is set=0.47476426455934206, colsample_bytree=0.7 will be ignored. Current value: feature_fraction=0.47476426455934206\n",
      "[LightGBM] [Warning] bagging_fraction is set=0.8488983627948226, subsample=0.6 will be ignored. Current value: bagging_fraction=0.8488983627948226\n",
      "[LightGBM] [Warning] bagging_freq is set=17, subsample_freq=0 will be ignored. Current value: bagging_freq=17\n",
      "Training until validation scores don't improve for 100 rounds\n",
      "[100]\ttraining's l1: 0.822033\tvalid_1's l1: 1.14898\n",
      "[200]\ttraining's l1: 0.809947\tvalid_1's l1: 1.14689\n",
      "[300]\ttraining's l1: 0.803159\tvalid_1's l1: 1.14598\n",
      "Early stopping, best iteration is:\n",
      "[281]\ttraining's l1: 0.803735\tvalid_1's l1: 1.14569\n"
     ]
    },
    {
     "name": "stderr",
     "output_type": "stream",
     "text": [
      "\u001b[32m[I 2021-07-11 00:34:32,211]\u001b[0m Trial 46 finished with value: -1.1452899071815694 and parameters: {'max_depth': 17, 'min_child_weight': 5, 'subsample': 0.6, 'colsample_bytree': 0.7, 'reg_lambda': 0.007708177048036659, 'reg_alpha': 0.021028195576294484, 'feature_fraction': 0.47476426455934206, 'bagging_fraction': 0.8488983627948226, 'bagging_freq': 17, 'num_leaves': 584, 'min_child_samples': 55}. Best is trial 28 with value: -1.1417786271555168.\u001b[0m\n"
     ]
    },
    {
     "name": "stdout",
     "output_type": "stream",
     "text": [
      "[LightGBM] [Warning] feature_fraction is set=0.743068180892233, colsample_bytree=0.6 will be ignored. Current value: feature_fraction=0.743068180892233\n",
      "[LightGBM] [Warning] bagging_fraction is set=0.7928945085103495, subsample=0.5 will be ignored. Current value: bagging_fraction=0.7928945085103495\n",
      "[LightGBM] [Warning] bagging_freq is set=12, subsample_freq=0 will be ignored. Current value: bagging_freq=12\n",
      "Training until validation scores don't improve for 100 rounds\n",
      "[100]\ttraining's l1: 0.814815\tvalid_1's l1: 1.14798\n",
      "[200]\ttraining's l1: 0.797765\tvalid_1's l1: 1.14667\n"
     ]
    },
    {
     "name": "stderr",
     "output_type": "stream",
     "text": [
      "\u001b[32m[I 2021-07-11 00:34:52,792]\u001b[0m Trial 47 finished with value: -1.1456587579542599 and parameters: {'max_depth': 20, 'min_child_weight': 8, 'subsample': 0.5, 'colsample_bytree': 0.6, 'reg_lambda': 0.020725798879842505, 'reg_alpha': 0.040329202365162416, 'feature_fraction': 0.743068180892233, 'bagging_fraction': 0.7928945085103495, 'bagging_freq': 12, 'num_leaves': 744, 'min_child_samples': 47}. Best is trial 28 with value: -1.1417786271555168.\u001b[0m\n"
     ]
    },
    {
     "name": "stdout",
     "output_type": "stream",
     "text": [
      "Early stopping, best iteration is:\n",
      "[143]\ttraining's l1: 0.80599\tvalid_1's l1: 1.14594\n",
      "[LightGBM] [Warning] feature_fraction is set=0.4580318632299505, colsample_bytree=0.5 will be ignored. Current value: feature_fraction=0.4580318632299505\n",
      "[LightGBM] [Warning] bagging_fraction is set=0.43933733596018026, subsample=0.7 will be ignored. Current value: bagging_fraction=0.43933733596018026\n",
      "[LightGBM] [Warning] bagging_freq is set=15, subsample_freq=0 will be ignored. Current value: bagging_freq=15\n",
      "Training until validation scores don't improve for 100 rounds\n",
      "[100]\ttraining's l1: 0.812405\tvalid_1's l1: 1.14794\n",
      "[200]\ttraining's l1: 0.787833\tvalid_1's l1: 1.14943\n",
      "Early stopping, best iteration is:\n",
      "[169]\ttraining's l1: 0.794783\tvalid_1's l1: 1.14756\n"
     ]
    },
    {
     "name": "stderr",
     "output_type": "stream",
     "text": [
      "\u001b[32m[I 2021-07-11 00:35:12,269]\u001b[0m Trial 48 finished with value: -1.1467934004589235 and parameters: {'max_depth': 17, 'min_child_weight': 13, 'subsample': 0.7, 'colsample_bytree': 0.5, 'reg_lambda': 0.3824032728225994, 'reg_alpha': 0.0017195146563282401, 'feature_fraction': 0.4580318632299505, 'bagging_fraction': 0.43933733596018026, 'bagging_freq': 15, 'num_leaves': 900, 'min_child_samples': 22}. Best is trial 28 with value: -1.1417786271555168.\u001b[0m\n"
     ]
    },
    {
     "name": "stdout",
     "output_type": "stream",
     "text": [
      "[LightGBM] [Warning] feature_fraction is set=0.6402676920655972, colsample_bytree=0.7 will be ignored. Current value: feature_fraction=0.6402676920655972\n",
      "[LightGBM] [Warning] bagging_fraction is set=0.9056605092221311, subsample=0.6 will be ignored. Current value: bagging_fraction=0.9056605092221311\n",
      "[LightGBM] [Warning] bagging_freq is set=18, subsample_freq=0 will be ignored. Current value: bagging_freq=18\n",
      "Training until validation scores don't improve for 100 rounds\n",
      "[100]\ttraining's l1: 0.833499\tvalid_1's l1: 1.15457\n",
      "[200]\ttraining's l1: 0.829177\tvalid_1's l1: 1.15218\n"
     ]
    },
    {
     "name": "stderr",
     "output_type": "stream",
     "text": [
      "\u001b[32m[I 2021-07-11 00:35:27,758]\u001b[0m Trial 49 finished with value: -1.1517597236441715 and parameters: {'max_depth': 18, 'min_child_weight': 11, 'subsample': 0.6, 'colsample_bytree': 0.7, 'reg_lambda': 1.1667259354060133, 'reg_alpha': 64.43379365300395, 'feature_fraction': 0.6402676920655972, 'bagging_fraction': 0.9056605092221311, 'bagging_freq': 18, 'num_leaves': 679, 'min_child_samples': 81}. Best is trial 28 with value: -1.1417786271555168.\u001b[0m\n"
     ]
    },
    {
     "name": "stdout",
     "output_type": "stream",
     "text": [
      "Early stopping, best iteration is:\n",
      "[138]\ttraining's l1: 0.831386\tvalid_1's l1: 1.15186\n",
      "[LightGBM] [Warning] feature_fraction is set=0.9013882211395493, colsample_bytree=0.6 will be ignored. Current value: feature_fraction=0.9013882211395493\n",
      "[LightGBM] [Warning] bagging_fraction is set=0.6957571857186469, subsample=0.8 will be ignored. Current value: bagging_fraction=0.6957571857186469\n",
      "[LightGBM] [Warning] bagging_freq is set=15, subsample_freq=0 will be ignored. Current value: bagging_freq=15\n",
      "Training until validation scores don't improve for 100 rounds\n",
      "[100]\ttraining's l1: 0.825434\tvalid_1's l1: 1.15355\n",
      "[200]\ttraining's l1: 0.816635\tvalid_1's l1: 1.14829\n",
      "[300]\ttraining's l1: 0.810178\tvalid_1's l1: 1.14825\n",
      "Early stopping, best iteration is:\n",
      "[254]\ttraining's l1: 0.811829\tvalid_1's l1: 1.14772\n"
     ]
    },
    {
     "name": "stderr",
     "output_type": "stream",
     "text": [
      "\u001b[32m[I 2021-07-11 00:35:50,094]\u001b[0m Trial 50 finished with value: -1.1474374596648635 and parameters: {'max_depth': 15, 'min_child_weight': 7, 'subsample': 0.8, 'colsample_bytree': 0.6, 'reg_lambda': 0.14991906260188112, 'reg_alpha': 0.008322318662536634, 'feature_fraction': 0.9013882211395493, 'bagging_fraction': 0.6957571857186469, 'bagging_freq': 15, 'num_leaves': 504, 'min_child_samples': 32}. Best is trial 28 with value: -1.1417786271555168.\u001b[0m\n"
     ]
    },
    {
     "name": "stdout",
     "output_type": "stream",
     "text": [
      "[LightGBM] [Warning] feature_fraction is set=0.5642272094458843, colsample_bytree=0.5 will be ignored. Current value: feature_fraction=0.5642272094458843\n",
      "[LightGBM] [Warning] bagging_fraction is set=0.9470504579559932, subsample=0.9 will be ignored. Current value: bagging_fraction=0.9470504579559932\n",
      "[LightGBM] [Warning] bagging_freq is set=16, subsample_freq=0 will be ignored. Current value: bagging_freq=16\n",
      "Training until validation scores don't improve for 100 rounds\n",
      "[100]\ttraining's l1: 0.810467\tvalid_1's l1: 1.14647\n",
      "[200]\ttraining's l1: 0.800252\tvalid_1's l1: 1.14396\n",
      "[300]\ttraining's l1: 0.788075\tvalid_1's l1: 1.14322\n",
      "Early stopping, best iteration is:\n",
      "[241]\ttraining's l1: 0.795608\tvalid_1's l1: 1.14279\n"
     ]
    },
    {
     "name": "stderr",
     "output_type": "stream",
     "text": [
      "\u001b[32m[I 2021-07-11 00:36:22,723]\u001b[0m Trial 51 finished with value: -1.1425737380813343 and parameters: {'max_depth': 15, 'min_child_weight': 7, 'subsample': 0.9, 'colsample_bytree': 0.5, 'reg_lambda': 0.002193947893641094, 'reg_alpha': 0.0018178745903406044, 'feature_fraction': 0.5642272094458843, 'bagging_fraction': 0.9470504579559932, 'bagging_freq': 16, 'num_leaves': 829, 'min_child_samples': 41}. Best is trial 28 with value: -1.1417786271555168.\u001b[0m\n"
     ]
    },
    {
     "name": "stdout",
     "output_type": "stream",
     "text": [
      "[LightGBM] [Warning] feature_fraction is set=0.5754861980084162, colsample_bytree=0.5 will be ignored. Current value: feature_fraction=0.5754861980084162\n",
      "[LightGBM] [Warning] bagging_fraction is set=0.9508844661932201, subsample=0.5 will be ignored. Current value: bagging_fraction=0.9508844661932201\n",
      "[LightGBM] [Warning] bagging_freq is set=19, subsample_freq=0 will be ignored. Current value: bagging_freq=19\n",
      "Training until validation scores don't improve for 100 rounds\n",
      "[100]\ttraining's l1: 0.805621\tvalid_1's l1: 1.14656\n",
      "[200]\ttraining's l1: 0.78316\tvalid_1's l1: 1.14299\n",
      "Early stopping, best iteration is:\n",
      "[173]\ttraining's l1: 0.788097\tvalid_1's l1: 1.14267\n"
     ]
    },
    {
     "name": "stderr",
     "output_type": "stream",
     "text": [
      "\u001b[32m[I 2021-07-11 00:36:52,481]\u001b[0m Trial 52 finished with value: -1.1424486944830066 and parameters: {'max_depth': 16, 'min_child_weight': 8, 'subsample': 0.5, 'colsample_bytree': 0.5, 'reg_lambda': 0.0010469321238559235, 'reg_alpha': 0.0039870453282070525, 'feature_fraction': 0.5754861980084162, 'bagging_fraction': 0.9508844661932201, 'bagging_freq': 19, 'num_leaves': 933, 'min_child_samples': 44}. Best is trial 28 with value: -1.1417786271555168.\u001b[0m\n"
     ]
    },
    {
     "name": "stdout",
     "output_type": "stream",
     "text": [
      "[LightGBM] [Warning] feature_fraction is set=0.561740096049357, colsample_bytree=0.5 will be ignored. Current value: feature_fraction=0.561740096049357\n",
      "[LightGBM] [Warning] bagging_fraction is set=0.9341089343209745, subsample=0.9 will be ignored. Current value: bagging_fraction=0.9341089343209745\n",
      "[LightGBM] [Warning] bagging_freq is set=19, subsample_freq=0 will be ignored. Current value: bagging_freq=19\n",
      "Training until validation scores don't improve for 100 rounds\n",
      "[100]\ttraining's l1: 0.802883\tvalid_1's l1: 1.14502\n",
      "[200]\ttraining's l1: 0.776201\tvalid_1's l1: 1.14246\n",
      "[300]\ttraining's l1: 0.759781\tvalid_1's l1: 1.14323\n",
      "Early stopping, best iteration is:\n",
      "[261]\ttraining's l1: 0.763866\tvalid_1's l1: 1.14213\n"
     ]
    },
    {
     "name": "stderr",
     "output_type": "stream",
     "text": [
      "\u001b[32m[I 2021-07-11 00:37:31,121]\u001b[0m Trial 53 finished with value: -1.1417222494099695 and parameters: {'max_depth': 18, 'min_child_weight': 6, 'subsample': 0.9, 'colsample_bytree': 0.5, 'reg_lambda': 0.001094078469990526, 'reg_alpha': 0.001961675432768148, 'feature_fraction': 0.561740096049357, 'bagging_fraction': 0.9341089343209745, 'bagging_freq': 19, 'num_leaves': 920, 'min_child_samples': 42}. Best is trial 53 with value: -1.1417222494099695.\u001b[0m\n"
     ]
    },
    {
     "name": "stdout",
     "output_type": "stream",
     "text": [
      "[LightGBM] [Warning] feature_fraction is set=0.38759980088303836, colsample_bytree=0.5 will be ignored. Current value: feature_fraction=0.38759980088303836\n",
      "[LightGBM] [Warning] bagging_fraction is set=0.7551166472649685, subsample=0.9 will be ignored. Current value: bagging_fraction=0.7551166472649685\n",
      "[LightGBM] [Warning] bagging_freq is set=19, subsample_freq=0 will be ignored. Current value: bagging_freq=19\n",
      "Training until validation scores don't improve for 100 rounds\n",
      "[100]\ttraining's l1: 0.807228\tvalid_1's l1: 1.14853\n",
      "[200]\ttraining's l1: 0.785227\tvalid_1's l1: 1.14792\n"
     ]
    },
    {
     "name": "stderr",
     "output_type": "stream",
     "text": [
      "\u001b[32m[I 2021-07-11 00:37:51,017]\u001b[0m Trial 54 finished with value: -1.146934964214211 and parameters: {'max_depth': 19, 'min_child_weight': 4, 'subsample': 0.9, 'colsample_bytree': 0.5, 'reg_lambda': 0.002152423060030321, 'reg_alpha': 0.0010989578984033715, 'feature_fraction': 0.38759980088303836, 'bagging_fraction': 0.7551166472649685, 'bagging_freq': 19, 'num_leaves': 946, 'min_child_samples': 42}. Best is trial 53 with value: -1.1417222494099695.\u001b[0m\n"
     ]
    },
    {
     "name": "stdout",
     "output_type": "stream",
     "text": [
      "Early stopping, best iteration is:\n",
      "[129]\ttraining's l1: 0.798864\tvalid_1's l1: 1.14726\n",
      "[LightGBM] [Warning] feature_fraction is set=0.5324415680814041, colsample_bytree=0.6 will be ignored. Current value: feature_fraction=0.5324415680814041\n",
      "[LightGBM] [Warning] bagging_fraction is set=0.8245302899222291, subsample=0.9 will be ignored. Current value: bagging_fraction=0.8245302899222291\n",
      "[LightGBM] [Warning] bagging_freq is set=20, subsample_freq=0 will be ignored. Current value: bagging_freq=20\n",
      "Training until validation scores don't improve for 100 rounds\n",
      "[100]\ttraining's l1: 0.816872\tvalid_1's l1: 1.14934\n",
      "[200]\ttraining's l1: 0.79775\tvalid_1's l1: 1.1454\n",
      "Early stopping, best iteration is:\n",
      "[172]\ttraining's l1: 0.800799\tvalid_1's l1: 1.14495\n"
     ]
    },
    {
     "name": "stderr",
     "output_type": "stream",
     "text": [
      "\u001b[32m[I 2021-07-11 00:38:13,548]\u001b[0m Trial 55 finished with value: -1.144673606268605 and parameters: {'max_depth': 18, 'min_child_weight': 6, 'subsample': 0.9, 'colsample_bytree': 0.6, 'reg_lambda': 6.355500932374989, 'reg_alpha': 0.004462148727572191, 'feature_fraction': 0.5324415680814041, 'bagging_fraction': 0.8245302899222291, 'bagging_freq': 20, 'num_leaves': 632, 'min_child_samples': 36}. Best is trial 53 with value: -1.1417222494099695.\u001b[0m\n"
     ]
    },
    {
     "name": "stdout",
     "output_type": "stream",
     "text": [
      "[LightGBM] [Warning] feature_fraction is set=0.5772986534974033, colsample_bytree=0.5 will be ignored. Current value: feature_fraction=0.5772986534974033\n",
      "[LightGBM] [Warning] bagging_fraction is set=0.8609691986146768, subsample=0.5 will be ignored. Current value: bagging_fraction=0.8609691986146768\n",
      "[LightGBM] [Warning] bagging_freq is set=16, subsample_freq=0 will be ignored. Current value: bagging_freq=16\n",
      "Training until validation scores don't improve for 100 rounds\n",
      "[100]\ttraining's l1: 0.813538\tvalid_1's l1: 1.14632\n",
      "[200]\ttraining's l1: 0.796781\tvalid_1's l1: 1.14545\n",
      "Early stopping, best iteration is:\n",
      "[183]\ttraining's l1: 0.798702\tvalid_1's l1: 1.14467\n"
     ]
    },
    {
     "name": "stderr",
     "output_type": "stream",
     "text": [
      "\u001b[32m[I 2021-07-11 00:38:39,617]\u001b[0m Trial 56 finished with value: -1.1444666180973224 and parameters: {'max_depth': 14, 'min_child_weight': 10, 'subsample': 0.5, 'colsample_bytree': 0.5, 'reg_lambda': 1.974876695196366, 'reg_alpha': 0.0017342523065149878, 'feature_fraction': 0.5772986534974033, 'bagging_fraction': 0.8609691986146768, 'bagging_freq': 16, 'num_leaves': 804, 'min_child_samples': 28}. Best is trial 53 with value: -1.1417222494099695.\u001b[0m\n"
     ]
    },
    {
     "name": "stdout",
     "output_type": "stream",
     "text": [
      "[LightGBM] [Warning] feature_fraction is set=0.6863951120822226, colsample_bytree=0.6 will be ignored. Current value: feature_fraction=0.6863951120822226\n",
      "[LightGBM] [Warning] bagging_fraction is set=0.9430471764487076, subsample=0.9 will be ignored. Current value: bagging_fraction=0.9430471764487076\n",
      "[LightGBM] [Warning] bagging_freq is set=19, subsample_freq=0 will be ignored. Current value: bagging_freq=19\n",
      "Training until validation scores don't improve for 100 rounds\n",
      "[100]\ttraining's l1: 0.811985\tvalid_1's l1: 1.14572\n",
      "[200]\ttraining's l1: 0.791718\tvalid_1's l1: 1.14293\n",
      "[300]\ttraining's l1: 0.780865\tvalid_1's l1: 1.1427\n",
      "[400]\ttraining's l1: 0.773159\tvalid_1's l1: 1.14351\n",
      "Early stopping, best iteration is:\n",
      "[300]\ttraining's l1: 0.780865\tvalid_1's l1: 1.1427\n"
     ]
    },
    {
     "name": "stderr",
     "output_type": "stream",
     "text": [
      "\u001b[32m[I 2021-07-11 00:39:12,391]\u001b[0m Trial 57 finished with value: -1.1422894451429861 and parameters: {'max_depth': 20, 'min_child_weight': 5, 'subsample': 0.9, 'colsample_bytree': 0.6, 'reg_lambda': 0.195315595700411, 'reg_alpha': 0.016061028466944283, 'feature_fraction': 0.6863951120822226, 'bagging_fraction': 0.9430471764487076, 'bagging_freq': 19, 'num_leaves': 718, 'min_child_samples': 38}. Best is trial 53 with value: -1.1417222494099695.\u001b[0m\n"
     ]
    },
    {
     "name": "stdout",
     "output_type": "stream",
     "text": [
      "[LightGBM] [Warning] feature_fraction is set=0.6899451637632861, colsample_bytree=0.6 will be ignored. Current value: feature_fraction=0.6899451637632861\n",
      "[LightGBM] [Warning] bagging_fraction is set=0.8997662972563134, subsample=0.5 will be ignored. Current value: bagging_fraction=0.8997662972563134\n",
      "[LightGBM] [Warning] bagging_freq is set=19, subsample_freq=0 will be ignored. Current value: bagging_freq=19\n",
      "Training until validation scores don't improve for 100 rounds\n",
      "[100]\ttraining's l1: 0.822486\tvalid_1's l1: 1.14696\n",
      "[200]\ttraining's l1: 0.811078\tvalid_1's l1: 1.14619\n",
      "[300]\ttraining's l1: 0.798515\tvalid_1's l1: 1.14604\n",
      "Early stopping, best iteration is:\n",
      "[264]\ttraining's l1: 0.802483\tvalid_1's l1: 1.14539\n"
     ]
    },
    {
     "name": "stderr",
     "output_type": "stream",
     "text": [
      "\u001b[32m[I 2021-07-11 00:39:37,231]\u001b[0m Trial 58 finished with value: -1.1450765591919654 and parameters: {'max_depth': 19, 'min_child_weight': 5, 'subsample': 0.5, 'colsample_bytree': 0.6, 'reg_lambda': 0.18899080488521944, 'reg_alpha': 0.015438074944071989, 'feature_fraction': 0.6899451637632861, 'bagging_fraction': 0.8997662972563134, 'bagging_freq': 19, 'num_leaves': 555, 'min_child_samples': 32}. Best is trial 53 with value: -1.1417222494099695.\u001b[0m\n"
     ]
    },
    {
     "name": "stdout",
     "output_type": "stream",
     "text": [
      "[LightGBM] [Warning] feature_fraction is set=0.677202668608185, colsample_bytree=0.7 will be ignored. Current value: feature_fraction=0.677202668608185\n",
      "[LightGBM] [Warning] bagging_fraction is set=0.6078506862758318, subsample=0.5 will be ignored. Current value: bagging_fraction=0.6078506862758318\n",
      "[LightGBM] [Warning] bagging_freq is set=20, subsample_freq=0 will be ignored. Current value: bagging_freq=20\n",
      "Training until validation scores don't improve for 100 rounds\n",
      "[100]\ttraining's l1: 0.819492\tvalid_1's l1: 1.14585\n",
      "[200]\ttraining's l1: 0.799349\tvalid_1's l1: 1.14346\n",
      "Early stopping, best iteration is:\n",
      "[194]\ttraining's l1: 0.799957\tvalid_1's l1: 1.14321\n"
     ]
    },
    {
     "name": "stderr",
     "output_type": "stream",
     "text": [
      "\u001b[32m[I 2021-07-11 00:39:56,497]\u001b[0m Trial 59 finished with value: -1.1427709373609225 and parameters: {'max_depth': 20, 'min_child_weight': 2, 'subsample': 0.5, 'colsample_bytree': 0.7, 'reg_lambda': 0.07880626357993795, 'reg_alpha': 0.03977523946086829, 'feature_fraction': 0.677202668608185, 'bagging_fraction': 0.6078506862758318, 'bagging_freq': 20, 'num_leaves': 639, 'min_child_samples': 25}. Best is trial 53 with value: -1.1417222494099695.\u001b[0m\n"
     ]
    },
    {
     "name": "stdout",
     "output_type": "stream",
     "text": [
      "[LightGBM] [Warning] feature_fraction is set=0.6390636378647657, colsample_bytree=0.6 will be ignored. Current value: feature_fraction=0.6390636378647657\n",
      "[LightGBM] [Warning] bagging_fraction is set=0.5394712285270855, subsample=0.9 will be ignored. Current value: bagging_fraction=0.5394712285270855\n",
      "[LightGBM] [Warning] bagging_freq is set=10, subsample_freq=0 will be ignored. Current value: bagging_freq=10\n",
      "Training until validation scores don't improve for 100 rounds\n",
      "[100]\ttraining's l1: 0.887326\tvalid_1's l1: 1.21839\n",
      "[200]\ttraining's l1: 0.880298\tvalid_1's l1: 1.20462\n",
      "[300]\ttraining's l1: 0.874752\tvalid_1's l1: 1.19392\n"
     ]
    },
    {
     "name": "stderr",
     "output_type": "stream",
     "text": [
      "\u001b[32m[I 2021-07-11 00:40:04,017]\u001b[0m Trial 60 finished with value: -1.1938607194251698 and parameters: {'max_depth': 4, 'min_child_weight': 4, 'subsample': 0.9, 'colsample_bytree': 0.6, 'reg_lambda': 1.106690991680127, 'reg_alpha': 0.09430393663481738, 'feature_fraction': 0.6390636378647657, 'bagging_fraction': 0.5394712285270855, 'bagging_freq': 10, 'num_leaves': 451, 'min_child_samples': 38}. Best is trial 53 with value: -1.1417222494099695.\u001b[0m\n"
     ]
    },
    {
     "name": "stdout",
     "output_type": "stream",
     "text": [
      "Early stopping, best iteration is:\n",
      "[293]\ttraining's l1: 0.874753\tvalid_1's l1: 1.19392\n",
      "[LightGBM] [Warning] feature_fraction is set=0.582187519184553, colsample_bytree=0.6 will be ignored. Current value: feature_fraction=0.582187519184553\n",
      "[LightGBM] [Warning] bagging_fraction is set=0.934173043497042, subsample=0.9 will be ignored. Current value: bagging_fraction=0.934173043497042\n",
      "[LightGBM] [Warning] bagging_freq is set=17, subsample_freq=0 will be ignored. Current value: bagging_freq=17\n",
      "Training until validation scores don't improve for 100 rounds\n",
      "[100]\ttraining's l1: 0.806551\tvalid_1's l1: 1.14397\n",
      "[200]\ttraining's l1: 0.780861\tvalid_1's l1: 1.14338\n",
      "Early stopping, best iteration is:\n",
      "[146]\ttraining's l1: 0.793785\tvalid_1's l1: 1.14276\n"
     ]
    },
    {
     "name": "stderr",
     "output_type": "stream",
     "text": [
      "\u001b[32m[I 2021-07-11 00:40:31,301]\u001b[0m Trial 61 finished with value: -1.1425231456762714 and parameters: {'max_depth': 18, 'min_child_weight': 8, 'subsample': 0.9, 'colsample_bytree': 0.6, 'reg_lambda': 0.4605376543989119, 'reg_alpha': 0.003665040180740042, 'feature_fraction': 0.582187519184553, 'bagging_fraction': 0.934173043497042, 'bagging_freq': 17, 'num_leaves': 852, 'min_child_samples': 43}. Best is trial 53 with value: -1.1417222494099695.\u001b[0m\n"
     ]
    },
    {
     "name": "stdout",
     "output_type": "stream",
     "text": [
      "[LightGBM] [Warning] feature_fraction is set=0.7279375089756166, colsample_bytree=0.6 will be ignored. Current value: feature_fraction=0.7279375089756166\n",
      "[LightGBM] [Warning] bagging_fraction is set=0.9374012012986671, subsample=0.9 will be ignored. Current value: bagging_fraction=0.9374012012986671\n",
      "[LightGBM] [Warning] bagging_freq is set=17, subsample_freq=0 will be ignored. Current value: bagging_freq=17\n",
      "Training until validation scores don't improve for 100 rounds\n",
      "[100]\ttraining's l1: 0.814221\tvalid_1's l1: 1.14962\n",
      "[200]\ttraining's l1: 0.793407\tvalid_1's l1: 1.14516\n",
      "[300]\ttraining's l1: 0.777767\tvalid_1's l1: 1.14636\n",
      "Early stopping, best iteration is:\n",
      "[209]\ttraining's l1: 0.791395\tvalid_1's l1: 1.14512\n"
     ]
    },
    {
     "name": "stderr",
     "output_type": "stream",
     "text": [
      "\u001b[32m[I 2021-07-11 00:40:57,928]\u001b[0m Trial 62 finished with value: -1.144827345940486 and parameters: {'max_depth': 20, 'min_child_weight': 8, 'subsample': 0.9, 'colsample_bytree': 0.6, 'reg_lambda': 0.538701018700817, 'reg_alpha': 0.00422045845611819, 'feature_fraction': 0.7279375089756166, 'bagging_fraction': 0.9374012012986671, 'bagging_freq': 17, 'num_leaves': 730, 'min_child_samples': 46}. Best is trial 53 with value: -1.1417222494099695.\u001b[0m\n"
     ]
    },
    {
     "name": "stdout",
     "output_type": "stream",
     "text": [
      "[LightGBM] [Warning] feature_fraction is set=0.5184988084124028, colsample_bytree=0.7 will be ignored. Current value: feature_fraction=0.5184988084124028\n",
      "[LightGBM] [Warning] bagging_fraction is set=0.9146001194632446, subsample=0.9 will be ignored. Current value: bagging_fraction=0.9146001194632446\n",
      "[LightGBM] [Warning] bagging_freq is set=19, subsample_freq=0 will be ignored. Current value: bagging_freq=19\n",
      "Training until validation scores don't improve for 100 rounds\n",
      "[100]\ttraining's l1: 0.805367\tvalid_1's l1: 1.1484\n",
      "[200]\ttraining's l1: 0.78057\tvalid_1's l1: 1.14643\n",
      "[300]\ttraining's l1: 0.765173\tvalid_1's l1: 1.14671\n",
      "Early stopping, best iteration is:\n",
      "[236]\ttraining's l1: 0.773399\tvalid_1's l1: 1.14595\n"
     ]
    },
    {
     "name": "stderr",
     "output_type": "stream",
     "text": [
      "\u001b[32m[I 2021-07-11 00:41:32,355]\u001b[0m Trial 63 finished with value: -1.145482747970637 and parameters: {'max_depth': 18, 'min_child_weight': 8, 'subsample': 0.9, 'colsample_bytree': 0.7, 'reg_lambda': 0.24491851185148372, 'reg_alpha': 0.009400093493863127, 'feature_fraction': 0.5184988084124028, 'bagging_fraction': 0.9146001194632446, 'bagging_freq': 19, 'num_leaves': 946, 'min_child_samples': 44}. Best is trial 53 with value: -1.1417222494099695.\u001b[0m\n"
     ]
    },
    {
     "name": "stdout",
     "output_type": "stream",
     "text": [
      "[LightGBM] [Warning] feature_fraction is set=0.5876320542390007, colsample_bytree=0.6 will be ignored. Current value: feature_fraction=0.5876320542390007\n",
      "[LightGBM] [Warning] bagging_fraction is set=0.8303772950946223, subsample=0.9 will be ignored. Current value: bagging_fraction=0.8303772950946223\n",
      "[LightGBM] [Warning] bagging_freq is set=17, subsample_freq=0 will be ignored. Current value: bagging_freq=17\n",
      "Training until validation scores don't improve for 100 rounds\n",
      "[100]\ttraining's l1: 0.805577\tvalid_1's l1: 1.14835\n",
      "[200]\ttraining's l1: 0.779877\tvalid_1's l1: 1.1466\n",
      "Early stopping, best iteration is:\n",
      "[179]\ttraining's l1: 0.783995\tvalid_1's l1: 1.14593\n"
     ]
    },
    {
     "name": "stderr",
     "output_type": "stream",
     "text": [
      "\u001b[32m[I 2021-07-11 00:42:00,372]\u001b[0m Trial 64 finished with value: -1.145629798370154 and parameters: {'max_depth': 19, 'min_child_weight': 6, 'subsample': 0.9, 'colsample_bytree': 0.6, 'reg_lambda': 0.41475338740376216, 'reg_alpha': 0.01696910508584777, 'feature_fraction': 0.5876320542390007, 'bagging_fraction': 0.8303772950946223, 'bagging_freq': 17, 'num_leaves': 783, 'min_child_samples': 19}. Best is trial 53 with value: -1.1417222494099695.\u001b[0m\n"
     ]
    },
    {
     "name": "stdout",
     "output_type": "stream",
     "text": [
      "[LightGBM] [Warning] feature_fraction is set=0.6276730017670037, colsample_bytree=0.6 will be ignored. Current value: feature_fraction=0.6276730017670037\n",
      "[LightGBM] [Warning] bagging_fraction is set=0.8819423983073403, subsample=0.5 will be ignored. Current value: bagging_fraction=0.8819423983073403\n",
      "[LightGBM] [Warning] bagging_freq is set=20, subsample_freq=0 will be ignored. Current value: bagging_freq=20\n",
      "Training until validation scores don't improve for 100 rounds\n",
      "[100]\ttraining's l1: 0.802897\tvalid_1's l1: 1.14613\n"
     ]
    },
    {
     "name": "stderr",
     "output_type": "stream",
     "text": [
      "\u001b[32m[I 2021-07-11 00:42:19,558]\u001b[0m Trial 65 finished with value: -1.1459508449916698 and parameters: {'max_depth': 18, 'min_child_weight': 10, 'subsample': 0.5, 'colsample_bytree': 0.6, 'reg_lambda': 1.5775385095049528, 'reg_alpha': 0.0010382594057563508, 'feature_fraction': 0.6276730017670037, 'bagging_fraction': 0.8819423983073403, 'bagging_freq': 20, 'num_leaves': 916, 'min_child_samples': 30}. Best is trial 53 with value: -1.1417222494099695.\u001b[0m\n"
     ]
    },
    {
     "name": "stdout",
     "output_type": "stream",
     "text": [
      "[200]\ttraining's l1: 0.771758\tvalid_1's l1: 1.14741\n",
      "Early stopping, best iteration is:\n",
      "[100]\ttraining's l1: 0.802897\tvalid_1's l1: 1.14613\n",
      "[LightGBM] [Warning] feature_fraction is set=0.7759287183851877, colsample_bytree=0.6 will be ignored. Current value: feature_fraction=0.7759287183851877\n",
      "[LightGBM] [Warning] bagging_fraction is set=0.9989225399772356, subsample=0.9 will be ignored. Current value: bagging_fraction=0.9989225399772356\n",
      "[LightGBM] [Warning] bagging_freq is set=19, subsample_freq=0 will be ignored. Current value: bagging_freq=19\n",
      "Training until validation scores don't improve for 100 rounds\n",
      "[100]\ttraining's l1: 0.805818\tvalid_1's l1: 1.14818\n",
      "[200]\ttraining's l1: 0.785027\tvalid_1's l1: 1.14826\n"
     ]
    },
    {
     "name": "stderr",
     "output_type": "stream",
     "text": [
      "\u001b[32m[I 2021-07-11 00:42:43,172]\u001b[0m Trial 66 finished with value: -1.147119199971709 and parameters: {'max_depth': 17, 'min_child_weight': 5, 'subsample': 0.9, 'colsample_bytree': 0.6, 'reg_lambda': 3.2975309374460444, 'reg_alpha': 0.026510327529843496, 'feature_fraction': 0.7759287183851877, 'bagging_fraction': 0.9989225399772356, 'bagging_freq': 19, 'num_leaves': 864, 'min_child_samples': 37}. Best is trial 53 with value: -1.1417222494099695.\u001b[0m\n"
     ]
    },
    {
     "name": "stdout",
     "output_type": "stream",
     "text": [
      "Early stopping, best iteration is:\n",
      "[136]\ttraining's l1: 0.798583\tvalid_1's l1: 1.14735\n",
      "[LightGBM] [Warning] feature_fraction is set=0.64933582540737, colsample_bytree=0.7 will be ignored. Current value: feature_fraction=0.64933582540737\n",
      "[LightGBM] [Warning] bagging_fraction is set=0.9180118356045626, subsample=0.5 will be ignored. Current value: bagging_fraction=0.9180118356045626\n",
      "[LightGBM] [Warning] bagging_freq is set=18, subsample_freq=0 will be ignored. Current value: bagging_freq=18\n",
      "Training until validation scores don't improve for 100 rounds\n",
      "[100]\ttraining's l1: 0.81699\tvalid_1's l1: 1.14847\n",
      "[200]\ttraining's l1: 0.799928\tvalid_1's l1: 1.14556\n",
      "[300]\ttraining's l1: 0.788958\tvalid_1's l1: 1.14526\n",
      "Early stopping, best iteration is:\n",
      "[236]\ttraining's l1: 0.793589\tvalid_1's l1: 1.14448\n"
     ]
    },
    {
     "name": "stderr",
     "output_type": "stream",
     "text": [
      "\u001b[32m[I 2021-07-11 00:43:07,779]\u001b[0m Trial 67 finished with value: -1.1440699578984734 and parameters: {'max_depth': 19, 'min_child_weight': 11, 'subsample': 0.5, 'colsample_bytree': 0.7, 'reg_lambda': 0.6864780356870293, 'reg_alpha': 0.0037856708807549456, 'feature_fraction': 0.64933582540737, 'bagging_fraction': 0.9180118356045626, 'bagging_freq': 18, 'num_leaves': 643, 'min_child_samples': 33}. Best is trial 53 with value: -1.1417222494099695.\u001b[0m\n"
     ]
    },
    {
     "name": "stdout",
     "output_type": "stream",
     "text": [
      "[LightGBM] [Warning] feature_fraction is set=0.47686573796498094, colsample_bytree=0.6 will be ignored. Current value: feature_fraction=0.47686573796498094\n",
      "[LightGBM] [Warning] bagging_fraction is set=0.9526716127774022, subsample=0.9 will be ignored. Current value: bagging_fraction=0.9526716127774022\n",
      "[LightGBM] [Warning] bagging_freq is set=13, subsample_freq=0 will be ignored. Current value: bagging_freq=13\n",
      "Training until validation scores don't improve for 100 rounds\n",
      "[100]\ttraining's l1: 1.00228\tvalid_1's l1: 1.39383\n"
     ]
    },
    {
     "name": "stderr",
     "output_type": "stream",
     "text": [
      "\u001b[32m[I 2021-07-11 00:43:12,695]\u001b[0m Trial 68 finished with value: -1.3938247805751443 and parameters: {'max_depth': 1, 'min_child_weight': 3, 'subsample': 0.9, 'colsample_bytree': 0.6, 'reg_lambda': 0.03720157596101688, 'reg_alpha': 0.005785810807627974, 'feature_fraction': 0.47686573796498094, 'bagging_fraction': 0.9526716127774022, 'bagging_freq': 13, 'num_leaves': 578, 'min_child_samples': 43}. Best is trial 53 with value: -1.1417222494099695.\u001b[0m\n"
     ]
    },
    {
     "name": "stdout",
     "output_type": "stream",
     "text": [
      "Early stopping, best iteration is:\n",
      "[18]\ttraining's l1: 1.00234\tvalid_1's l1: 1.39382\n",
      "[LightGBM] [Warning] feature_fraction is set=0.8460631845560294, colsample_bytree=0.6 will be ignored. Current value: feature_fraction=0.8460631845560294\n",
      "[LightGBM] [Warning] bagging_fraction is set=0.6776099580903825, subsample=0.5 will be ignored. Current value: bagging_fraction=0.6776099580903825\n",
      "[LightGBM] [Warning] bagging_freq is set=20, subsample_freq=0 will be ignored. Current value: bagging_freq=20\n",
      "Training until validation scores don't improve for 100 rounds\n",
      "[100]\ttraining's l1: 0.821757\tvalid_1's l1: 1.14964\n",
      "[200]\ttraining's l1: 0.81133\tvalid_1's l1: 1.15003\n"
     ]
    },
    {
     "name": "stderr",
     "output_type": "stream",
     "text": [
      "\u001b[32m[I 2021-07-11 00:43:28,519]\u001b[0m Trial 69 finished with value: -1.1490984862023028 and parameters: {'max_depth': 16, 'min_child_weight': 8, 'subsample': 0.5, 'colsample_bytree': 0.6, 'reg_lambda': 0.18928530610211802, 'reg_alpha': 0.013301829220327134, 'feature_fraction': 0.8460631845560294, 'bagging_fraction': 0.6776099580903825, 'bagging_freq': 20, 'num_leaves': 530, 'min_child_samples': 11}. Best is trial 53 with value: -1.1417222494099695.\u001b[0m\n"
     ]
    },
    {
     "name": "stdout",
     "output_type": "stream",
     "text": [
      "Early stopping, best iteration is:\n",
      "[110]\ttraining's l1: 0.82096\tvalid_1's l1: 1.14931\n",
      "[LightGBM] [Warning] feature_fraction is set=0.7057484472819837, colsample_bytree=0.9 will be ignored. Current value: feature_fraction=0.7057484472819837\n",
      "[LightGBM] [Warning] bagging_fraction is set=0.8565046337553753, subsample=0.9 will be ignored. Current value: bagging_fraction=0.8565046337553753\n",
      "[LightGBM] [Warning] bagging_freq is set=19, subsample_freq=0 will be ignored. Current value: bagging_freq=19\n",
      "Training until validation scores don't improve for 100 rounds\n",
      "[100]\ttraining's l1: 0.822146\tvalid_1's l1: 1.15124\n",
      "[200]\ttraining's l1: 0.808079\tvalid_1's l1: 1.14693\n",
      "[300]\ttraining's l1: 0.800299\tvalid_1's l1: 1.14708\n",
      "Early stopping, best iteration is:\n",
      "[205]\ttraining's l1: 0.807722\tvalid_1's l1: 1.14685\n"
     ]
    },
    {
     "name": "stderr",
     "output_type": "stream",
     "text": [
      "\u001b[32m[I 2021-07-11 00:43:52,936]\u001b[0m Trial 70 finished with value: -1.146503376663395 and parameters: {'max_depth': 20, 'min_child_weight': 9, 'subsample': 0.9, 'colsample_bytree': 0.9, 'reg_lambda': 255.43613411182082, 'reg_alpha': 0.07039159278730772, 'feature_fraction': 0.7057484472819837, 'bagging_fraction': 0.8565046337553753, 'bagging_freq': 19, 'num_leaves': 698, 'min_child_samples': 57}. Best is trial 53 with value: -1.1417222494099695.\u001b[0m\n"
     ]
    },
    {
     "name": "stdout",
     "output_type": "stream",
     "text": [
      "[LightGBM] [Warning] feature_fraction is set=0.5822933896198177, colsample_bytree=0.5 will be ignored. Current value: feature_fraction=0.5822933896198177\n",
      "[LightGBM] [Warning] bagging_fraction is set=0.9448336113526584, subsample=0.9 will be ignored. Current value: bagging_fraction=0.9448336113526584\n",
      "[LightGBM] [Warning] bagging_freq is set=16, subsample_freq=0 will be ignored. Current value: bagging_freq=16\n",
      "Training until validation scores don't improve for 100 rounds\n",
      "[100]\ttraining's l1: 0.806119\tvalid_1's l1: 1.14686\n",
      "[200]\ttraining's l1: 0.781282\tvalid_1's l1: 1.14342\n",
      "Early stopping, best iteration is:\n",
      "[183]\ttraining's l1: 0.785403\tvalid_1's l1: 1.14298\n"
     ]
    },
    {
     "name": "stderr",
     "output_type": "stream",
     "text": [
      "\u001b[32m[I 2021-07-11 00:44:23,858]\u001b[0m Trial 71 finished with value: -1.1426977663223772 and parameters: {'max_depth': 17, 'min_child_weight': 7, 'subsample': 0.9, 'colsample_bytree': 0.5, 'reg_lambda': 0.3818213884292829, 'reg_alpha': 0.0021173104858062705, 'feature_fraction': 0.5822933896198177, 'bagging_fraction': 0.9448336113526584, 'bagging_freq': 16, 'num_leaves': 855, 'min_child_samples': 41}. Best is trial 53 with value: -1.1417222494099695.\u001b[0m\n"
     ]
    },
    {
     "name": "stdout",
     "output_type": "stream",
     "text": [
      "[LightGBM] [Warning] feature_fraction is set=0.5448452017199268, colsample_bytree=0.5 will be ignored. Current value: feature_fraction=0.5448452017199268\n",
      "[LightGBM] [Warning] bagging_fraction is set=0.9712581844886307, subsample=0.9 will be ignored. Current value: bagging_fraction=0.9712581844886307\n",
      "[LightGBM] [Warning] bagging_freq is set=17, subsample_freq=0 will be ignored. Current value: bagging_freq=17\n",
      "Training until validation scores don't improve for 100 rounds\n",
      "[100]\ttraining's l1: 0.812527\tvalid_1's l1: 1.1459\n",
      "[200]\ttraining's l1: 0.786779\tvalid_1's l1: 1.14106\n",
      "Early stopping, best iteration is:\n",
      "[158]\ttraining's l1: 0.794121\tvalid_1's l1: 1.1405\n"
     ]
    },
    {
     "name": "stderr",
     "output_type": "stream",
     "text": [
      "\u001b[32m[I 2021-07-11 00:44:49,503]\u001b[0m Trial 72 finished with value: -1.1403118694046963 and parameters: {'max_depth': 18, 'min_child_weight': 8, 'subsample': 0.9, 'colsample_bytree': 0.5, 'reg_lambda': 0.07770060902509043, 'reg_alpha': 0.006917721077349456, 'feature_fraction': 0.5448452017199268, 'bagging_fraction': 0.9712581844886307, 'bagging_freq': 17, 'num_leaves': 757, 'min_child_samples': 38}. Best is trial 72 with value: -1.1403118694046963.\u001b[0m\n"
     ]
    },
    {
     "name": "stdout",
     "output_type": "stream",
     "text": [
      "[LightGBM] [Warning] feature_fraction is set=0.5360575427418497, colsample_bytree=0.5 will be ignored. Current value: feature_fraction=0.5360575427418497\n",
      "[LightGBM] [Warning] bagging_fraction is set=0.980047458197346, subsample=0.9 will be ignored. Current value: bagging_fraction=0.980047458197346\n",
      "[LightGBM] [Warning] bagging_freq is set=17, subsample_freq=0 will be ignored. Current value: bagging_freq=17\n",
      "Training until validation scores don't improve for 100 rounds\n",
      "[100]\ttraining's l1: 0.80891\tvalid_1's l1: 1.14597\n",
      "[200]\ttraining's l1: 0.786895\tvalid_1's l1: 1.14234\n",
      "[300]\ttraining's l1: 0.779856\tvalid_1's l1: 1.14235\n",
      "Early stopping, best iteration is:\n",
      "[202]\ttraining's l1: 0.786269\tvalid_1's l1: 1.14212\n"
     ]
    },
    {
     "name": "stderr",
     "output_type": "stream",
     "text": [
      "\u001b[32m[I 2021-07-11 00:45:18,887]\u001b[0m Trial 73 finished with value: -1.1418502875124656 and parameters: {'max_depth': 18, 'min_child_weight': 10, 'subsample': 0.9, 'colsample_bytree': 0.5, 'reg_lambda': 0.03765804570421821, 'reg_alpha': 0.008390160037031212, 'feature_fraction': 0.5360575427418497, 'bagging_fraction': 0.980047458197346, 'bagging_freq': 17, 'num_leaves': 766, 'min_child_samples': 35}. Best is trial 72 with value: -1.1403118694046963.\u001b[0m\n"
     ]
    },
    {
     "name": "stdout",
     "output_type": "stream",
     "text": [
      "[LightGBM] [Warning] feature_fraction is set=0.43454706397782206, colsample_bytree=0.5 will be ignored. Current value: feature_fraction=0.43454706397782206\n",
      "[LightGBM] [Warning] bagging_fraction is set=0.980561343368774, subsample=0.9 will be ignored. Current value: bagging_fraction=0.980561343368774\n",
      "[LightGBM] [Warning] bagging_freq is set=18, subsample_freq=0 will be ignored. Current value: bagging_freq=18\n",
      "Training until validation scores don't improve for 100 rounds\n",
      "[100]\ttraining's l1: 0.810529\tvalid_1's l1: 1.14428\n",
      "[200]\ttraining's l1: 0.783849\tvalid_1's l1: 1.14128\n",
      "Early stopping, best iteration is:\n",
      "[199]\ttraining's l1: 0.784004\tvalid_1's l1: 1.14124\n"
     ]
    },
    {
     "name": "stderr",
     "output_type": "stream",
     "text": [
      "\u001b[32m[I 2021-07-11 00:45:45,847]\u001b[0m Trial 74 finished with value: -1.1409392811741657 and parameters: {'max_depth': 18, 'min_child_weight': 11, 'subsample': 0.9, 'colsample_bytree': 0.5, 'reg_lambda': 0.08128029673420803, 'reg_alpha': 0.006312112565847838, 'feature_fraction': 0.43454706397782206, 'bagging_fraction': 0.980561343368774, 'bagging_freq': 18, 'num_leaves': 770, 'min_child_samples': 35}. Best is trial 72 with value: -1.1403118694046963.\u001b[0m\n"
     ]
    },
    {
     "name": "stdout",
     "output_type": "stream",
     "text": [
      "[LightGBM] [Warning] feature_fraction is set=0.44224472614249677, colsample_bytree=0.5 will be ignored. Current value: feature_fraction=0.44224472614249677\n",
      "[LightGBM] [Warning] bagging_fraction is set=0.9683529146875223, subsample=0.9 will be ignored. Current value: bagging_fraction=0.9683529146875223\n",
      "[LightGBM] [Warning] bagging_freq is set=18, subsample_freq=0 will be ignored. Current value: bagging_freq=18\n",
      "Training until validation scores don't improve for 100 rounds\n",
      "[100]\ttraining's l1: 0.815442\tvalid_1's l1: 1.14798\n",
      "[200]\ttraining's l1: 0.796257\tvalid_1's l1: 1.14458\n",
      "[300]\ttraining's l1: 0.784013\tvalid_1's l1: 1.1458\n",
      "Early stopping, best iteration is:\n",
      "[203]\ttraining's l1: 0.795666\tvalid_1's l1: 1.14446\n"
     ]
    },
    {
     "name": "stderr",
     "output_type": "stream",
     "text": [
      "\u001b[32m[I 2021-07-11 00:46:11,267]\u001b[0m Trial 75 finished with value: -1.1441382906487259 and parameters: {'max_depth': 16, 'min_child_weight': 12, 'subsample': 0.9, 'colsample_bytree': 0.5, 'reg_lambda': 0.029656695823272308, 'reg_alpha': 0.1966249929218459, 'feature_fraction': 0.44224472614249677, 'bagging_fraction': 0.9683529146875223, 'bagging_freq': 18, 'num_leaves': 714, 'min_child_samples': 37}. Best is trial 72 with value: -1.1403118694046963.\u001b[0m\n"
     ]
    },
    {
     "name": "stdout",
     "output_type": "stream",
     "text": [
      "[LightGBM] [Warning] feature_fraction is set=0.2742348772387041, colsample_bytree=0.5 will be ignored. Current value: feature_fraction=0.2742348772387041\n",
      "[LightGBM] [Warning] bagging_fraction is set=0.9814863878956809, subsample=0.9 will be ignored. Current value: bagging_fraction=0.9814863878956809\n",
      "[LightGBM] [Warning] bagging_freq is set=19, subsample_freq=0 will be ignored. Current value: bagging_freq=19\n",
      "Training until validation scores don't improve for 100 rounds\n",
      "[100]\ttraining's l1: 0.815083\tvalid_1's l1: 1.1516\n",
      "[200]\ttraining's l1: 0.795458\tvalid_1's l1: 1.14775\n",
      "[300]\ttraining's l1: 0.779787\tvalid_1's l1: 1.14746\n",
      "Early stopping, best iteration is:\n",
      "[266]\ttraining's l1: 0.784508\tvalid_1's l1: 1.14709\n"
     ]
    },
    {
     "name": "stderr",
     "output_type": "stream",
     "text": [
      "\u001b[32m[I 2021-07-11 00:46:38,255]\u001b[0m Trial 76 finished with value: -1.1466991164574303 and parameters: {'max_depth': 17, 'min_child_weight': 11, 'subsample': 0.9, 'colsample_bytree': 0.5, 'reg_lambda': 0.07633168764161027, 'reg_alpha': 0.030969709650246226, 'feature_fraction': 0.2742348772387041, 'bagging_fraction': 0.9814863878956809, 'bagging_freq': 19, 'num_leaves': 765, 'min_child_samples': 34}. Best is trial 72 with value: -1.1403118694046963.\u001b[0m\n"
     ]
    },
    {
     "name": "stdout",
     "output_type": "stream",
     "text": [
      "[LightGBM] [Warning] feature_fraction is set=0.35552115027400333, colsample_bytree=0.5 will be ignored. Current value: feature_fraction=0.35552115027400333\n",
      "[LightGBM] [Warning] bagging_fraction is set=0.8930896732214411, subsample=0.9 will be ignored. Current value: bagging_fraction=0.8930896732214411\n",
      "[LightGBM] [Warning] bagging_freq is set=20, subsample_freq=0 will be ignored. Current value: bagging_freq=20\n",
      "Training until validation scores don't improve for 100 rounds\n",
      "[100]\ttraining's l1: 0.811682\tvalid_1's l1: 1.15113\n",
      "[200]\ttraining's l1: 0.787328\tvalid_1's l1: 1.15044\n"
     ]
    },
    {
     "name": "stderr",
     "output_type": "stream",
     "text": [
      "\u001b[32m[I 2021-07-11 00:46:56,878]\u001b[0m Trial 77 finished with value: -1.150002520782274 and parameters: {'max_depth': 18, 'min_child_weight': 13, 'subsample': 0.9, 'colsample_bytree': 0.5, 'reg_lambda': 0.013573819273459761, 'reg_alpha': 0.006688608746059697, 'feature_fraction': 0.35552115027400333, 'bagging_fraction': 0.8930896732214411, 'bagging_freq': 20, 'num_leaves': 748, 'min_child_samples': 19}. Best is trial 72 with value: -1.1403118694046963.\u001b[0m\n"
     ]
    },
    {
     "name": "stdout",
     "output_type": "stream",
     "text": [
      "Early stopping, best iteration is:\n",
      "[134]\ttraining's l1: 0.801799\tvalid_1's l1: 1.15021\n",
      "[LightGBM] [Warning] feature_fraction is set=0.5132645983674303, colsample_bytree=0.5 will be ignored. Current value: feature_fraction=0.5132645983674303\n",
      "[LightGBM] [Warning] bagging_fraction is set=0.977346347499876, subsample=0.8 will be ignored. Current value: bagging_fraction=0.977346347499876\n",
      "[LightGBM] [Warning] bagging_freq is set=18, subsample_freq=0 will be ignored. Current value: bagging_freq=18\n",
      "Training until validation scores don't improve for 100 rounds\n",
      "[100]\ttraining's l1: 0.815443\tvalid_1's l1: 1.14557\n",
      "[200]\ttraining's l1: 0.801544\tvalid_1's l1: 1.1431\n",
      "[300]\ttraining's l1: 0.795846\tvalid_1's l1: 1.14194\n",
      "[400]\ttraining's l1: 0.791526\tvalid_1's l1: 1.14216\n",
      "Early stopping, best iteration is:\n",
      "[303]\ttraining's l1: 0.795614\tvalid_1's l1: 1.14184\n"
     ]
    },
    {
     "name": "stderr",
     "output_type": "stream",
     "text": [
      "\u001b[32m[I 2021-07-11 00:47:30,651]\u001b[0m Trial 78 finished with value: -1.1415557965241985 and parameters: {'max_depth': 17, 'min_child_weight': 10, 'subsample': 0.8, 'colsample_bytree': 0.5, 'reg_lambda': 0.0568245430838592, 'reg_alpha': 0.008624926227585069, 'feature_fraction': 0.5132645983674303, 'bagging_fraction': 0.977346347499876, 'bagging_freq': 18, 'num_leaves': 664, 'min_child_samples': 30}. Best is trial 72 with value: -1.1403118694046963.\u001b[0m\n"
     ]
    },
    {
     "name": "stdout",
     "output_type": "stream",
     "text": [
      "[LightGBM] [Warning] feature_fraction is set=0.41930238533317, colsample_bytree=0.5 will be ignored. Current value: feature_fraction=0.41930238533317\n",
      "[LightGBM] [Warning] bagging_fraction is set=0.9815134494849455, subsample=0.8 will be ignored. Current value: bagging_fraction=0.9815134494849455\n",
      "[LightGBM] [Warning] bagging_freq is set=17, subsample_freq=0 will be ignored. Current value: bagging_freq=17\n",
      "Training until validation scores don't improve for 100 rounds\n",
      "[100]\ttraining's l1: 0.817753\tvalid_1's l1: 1.14637\n",
      "[200]\ttraining's l1: 0.798419\tvalid_1's l1: 1.14347\n",
      "[300]\ttraining's l1: 0.788711\tvalid_1's l1: 1.14345\n",
      "[400]\ttraining's l1: 0.785649\tvalid_1's l1: 1.14336\n",
      "Early stopping, best iteration is:\n",
      "[340]\ttraining's l1: 0.786777\tvalid_1's l1: 1.14304\n"
     ]
    },
    {
     "name": "stderr",
     "output_type": "stream",
     "text": [
      "\u001b[32m[I 2021-07-11 00:48:03,857]\u001b[0m Trial 79 finished with value: -1.1426473875675798 and parameters: {'max_depth': 19, 'min_child_weight': 10, 'subsample': 0.8, 'colsample_bytree': 0.5, 'reg_lambda': 0.05613553526027003, 'reg_alpha': 0.011800062290766682, 'feature_fraction': 0.41930238533317, 'bagging_fraction': 0.9815134494849455, 'bagging_freq': 17, 'num_leaves': 624, 'min_child_samples': 26}. Best is trial 72 with value: -1.1403118694046963.\u001b[0m\n"
     ]
    },
    {
     "name": "stdout",
     "output_type": "stream",
     "text": [
      "[LightGBM] [Warning] feature_fraction is set=0.5056274657574269, colsample_bytree=0.5 will be ignored. Current value: feature_fraction=0.5056274657574269\n",
      "[LightGBM] [Warning] bagging_fraction is set=0.9997491437954874, subsample=0.8 will be ignored. Current value: bagging_fraction=0.9997491437954874\n",
      "[LightGBM] [Warning] bagging_freq is set=18, subsample_freq=0 will be ignored. Current value: bagging_freq=18\n",
      "Training until validation scores don't improve for 100 rounds\n",
      "[100]\ttraining's l1: 0.815736\tvalid_1's l1: 1.15053\n",
      "[200]\ttraining's l1: 0.800793\tvalid_1's l1: 1.14669\n",
      "[300]\ttraining's l1: 0.788562\tvalid_1's l1: 1.14566\n",
      "Early stopping, best iteration is:\n",
      "[282]\ttraining's l1: 0.789713\tvalid_1's l1: 1.1449\n"
     ]
    },
    {
     "name": "stderr",
     "output_type": "stream",
     "text": [
      "\u001b[32m[I 2021-07-11 00:48:36,707]\u001b[0m Trial 80 finished with value: -1.1444469698915727 and parameters: {'max_depth': 18, 'min_child_weight': 14, 'subsample': 0.8, 'colsample_bytree': 0.5, 'reg_lambda': 0.09214032519957854, 'reg_alpha': 0.8363431189764692, 'feature_fraction': 0.5056274657574269, 'bagging_fraction': 0.9997491437954874, 'bagging_freq': 18, 'num_leaves': 669, 'min_child_samples': 29}. Best is trial 72 with value: -1.1403118694046963.\u001b[0m\n"
     ]
    },
    {
     "name": "stdout",
     "output_type": "stream",
     "text": [
      "[LightGBM] [Warning] feature_fraction is set=0.5364276506934952, colsample_bytree=0.5 will be ignored. Current value: feature_fraction=0.5364276506934952\n",
      "[LightGBM] [Warning] bagging_fraction is set=0.9611101204963798, subsample=0.9 will be ignored. Current value: bagging_fraction=0.9611101204963798\n",
      "[LightGBM] [Warning] bagging_freq is set=19, subsample_freq=0 will be ignored. Current value: bagging_freq=19\n",
      "Training until validation scores don't improve for 100 rounds\n",
      "[100]\ttraining's l1: 0.809437\tvalid_1's l1: 1.14596\n",
      "[200]\ttraining's l1: 0.783715\tvalid_1's l1: 1.14312\n",
      "[300]\ttraining's l1: 0.77199\tvalid_1's l1: 1.14365\n",
      "Early stopping, best iteration is:\n",
      "[210]\ttraining's l1: 0.781914\tvalid_1's l1: 1.14296\n"
     ]
    },
    {
     "name": "stderr",
     "output_type": "stream",
     "text": [
      "\u001b[32m[I 2021-07-11 00:49:06,736]\u001b[0m Trial 81 finished with value: -1.1426443573985914 and parameters: {'max_depth': 17, 'min_child_weight': 10, 'subsample': 0.9, 'colsample_bytree': 0.5, 'reg_lambda': 0.035734369103026985, 'reg_alpha': 0.00942454272352891, 'feature_fraction': 0.5364276506934952, 'bagging_fraction': 0.9611101204963798, 'bagging_freq': 19, 'num_leaves': 790, 'min_child_samples': 40}. Best is trial 72 with value: -1.1403118694046963.\u001b[0m\n"
     ]
    },
    {
     "name": "stdout",
     "output_type": "stream",
     "text": [
      "[LightGBM] [Warning] feature_fraction is set=0.47534928788194053, colsample_bytree=0.5 will be ignored. Current value: feature_fraction=0.47534928788194053\n",
      "[LightGBM] [Warning] bagging_fraction is set=0.999625885415728, subsample=0.9 will be ignored. Current value: bagging_fraction=0.999625885415728\n",
      "[LightGBM] [Warning] bagging_freq is set=18, subsample_freq=0 will be ignored. Current value: bagging_freq=18\n",
      "Training until validation scores don't improve for 100 rounds\n",
      "[100]\ttraining's l1: 0.811941\tvalid_1's l1: 1.14632\n",
      "[200]\ttraining's l1: 0.794168\tvalid_1's l1: 1.14387\n",
      "[300]\ttraining's l1: 0.782377\tvalid_1's l1: 1.14427\n",
      "Early stopping, best iteration is:\n",
      "[236]\ttraining's l1: 0.788458\tvalid_1's l1: 1.14367\n"
     ]
    },
    {
     "name": "stderr",
     "output_type": "stream",
     "text": [
      "\u001b[32m[I 2021-07-11 00:49:35,141]\u001b[0m Trial 82 finished with value: -1.1433423105205491 and parameters: {'max_depth': 16, 'min_child_weight': 11, 'subsample': 0.9, 'colsample_bytree': 0.5, 'reg_lambda': 0.14966365459546488, 'reg_alpha': 0.006595134847862879, 'feature_fraction': 0.47534928788194053, 'bagging_fraction': 0.999625885415728, 'bagging_freq': 18, 'num_leaves': 691, 'min_child_samples': 23}. Best is trial 72 with value: -1.1403118694046963.\u001b[0m\n"
     ]
    },
    {
     "name": "stdout",
     "output_type": "stream",
     "text": [
      "[LightGBM] [Warning] feature_fraction is set=0.5182851249483225, colsample_bytree=0.5 will be ignored. Current value: feature_fraction=0.5182851249483225\n",
      "[LightGBM] [Warning] bagging_fraction is set=0.915986364644229, subsample=0.9 will be ignored. Current value: bagging_fraction=0.915986364644229\n",
      "[LightGBM] [Warning] bagging_freq is set=20, subsample_freq=0 will be ignored. Current value: bagging_freq=20\n",
      "Training until validation scores don't improve for 100 rounds\n",
      "[100]\ttraining's l1: 0.820306\tvalid_1's l1: 1.14908\n",
      "[200]\ttraining's l1: 0.806793\tvalid_1's l1: 1.14391\n",
      "[300]\ttraining's l1: 0.796117\tvalid_1's l1: 1.14433\n",
      "Early stopping, best iteration is:\n",
      "[227]\ttraining's l1: 0.80213\tvalid_1's l1: 1.14353\n"
     ]
    },
    {
     "name": "stderr",
     "output_type": "stream",
     "text": [
      "\u001b[32m[I 2021-07-11 00:50:01,135]\u001b[0m Trial 83 finished with value: -1.1432486937486805 and parameters: {'max_depth': 17, 'min_child_weight': 9, 'subsample': 0.9, 'colsample_bytree': 0.5, 'reg_lambda': 0.014982227443472645, 'reg_alpha': 0.01743911345318477, 'feature_fraction': 0.5182851249483225, 'bagging_fraction': 0.915986364644229, 'bagging_freq': 20, 'num_leaves': 618, 'min_child_samples': 48}. Best is trial 72 with value: -1.1403118694046963.\u001b[0m\n"
     ]
    },
    {
     "name": "stdout",
     "output_type": "stream",
     "text": [
      "[LightGBM] [Warning] feature_fraction is set=0.4919803558211511, colsample_bytree=0.5 will be ignored. Current value: feature_fraction=0.4919803558211511\n",
      "[LightGBM] [Warning] bagging_fraction is set=0.969307000768179, subsample=0.8 will be ignored. Current value: bagging_fraction=0.969307000768179\n",
      "[LightGBM] [Warning] bagging_freq is set=18, subsample_freq=0 will be ignored. Current value: bagging_freq=18\n",
      "Training until validation scores don't improve for 100 rounds\n",
      "[100]\ttraining's l1: 0.816476\tvalid_1's l1: 1.14444\n",
      "[200]\ttraining's l1: 0.801194\tvalid_1's l1: 1.14268\n",
      "Early stopping, best iteration is:\n",
      "[191]\ttraining's l1: 0.802251\tvalid_1's l1: 1.14248\n"
     ]
    },
    {
     "name": "stderr",
     "output_type": "stream",
     "text": [
      "\u001b[32m[I 2021-07-11 00:50:26,091]\u001b[0m Trial 84 finished with value: -1.1422257051022988 and parameters: {'max_depth': 19, 'min_child_weight': 12, 'subsample': 0.8, 'colsample_bytree': 0.5, 'reg_lambda': 0.06632731880629264, 'reg_alpha': 0.002784810190118737, 'feature_fraction': 0.4919803558211511, 'bagging_fraction': 0.969307000768179, 'bagging_freq': 18, 'num_leaves': 653, 'min_child_samples': 35}. Best is trial 72 with value: -1.1403118694046963.\u001b[0m\n"
     ]
    },
    {
     "name": "stdout",
     "output_type": "stream",
     "text": [
      "[LightGBM] [Warning] feature_fraction is set=0.45131358388700404, colsample_bytree=0.5 will be ignored. Current value: feature_fraction=0.45131358388700404\n",
      "[LightGBM] [Warning] bagging_fraction is set=0.9753844344672088, subsample=0.8 will be ignored. Current value: bagging_fraction=0.9753844344672088\n",
      "[LightGBM] [Warning] bagging_freq is set=17, subsample_freq=0 will be ignored. Current value: bagging_freq=17\n",
      "Training until validation scores don't improve for 100 rounds\n",
      "[100]\ttraining's l1: 0.817224\tvalid_1's l1: 1.14474\n",
      "[200]\ttraining's l1: 0.800102\tvalid_1's l1: 1.14185\n",
      "[300]\ttraining's l1: 0.788411\tvalid_1's l1: 1.14276\n",
      "Early stopping, best iteration is:\n",
      "[202]\ttraining's l1: 0.799349\tvalid_1's l1: 1.14165\n"
     ]
    },
    {
     "name": "stderr",
     "output_type": "stream",
     "text": [
      "\u001b[32m[I 2021-07-11 00:50:51,315]\u001b[0m Trial 85 finished with value: -1.1413587364607898 and parameters: {'max_depth': 20, 'min_child_weight': 12, 'subsample': 0.8, 'colsample_bytree': 0.5, 'reg_lambda': 0.06019784929296339, 'reg_alpha': 0.0026028149797751835, 'feature_fraction': 0.45131358388700404, 'bagging_fraction': 0.9753844344672088, 'bagging_freq': 17, 'num_leaves': 650, 'min_child_samples': 35}. Best is trial 72 with value: -1.1403118694046963.\u001b[0m\n"
     ]
    },
    {
     "name": "stdout",
     "output_type": "stream",
     "text": [
      "[LightGBM] [Warning] feature_fraction is set=0.4430627946586656, colsample_bytree=0.5 will be ignored. Current value: feature_fraction=0.4430627946586656\n",
      "[LightGBM] [Warning] bagging_fraction is set=0.98318077704121, subsample=0.8 will be ignored. Current value: bagging_fraction=0.98318077704121\n",
      "[LightGBM] [Warning] bagging_freq is set=17, subsample_freq=0 will be ignored. Current value: bagging_freq=17\n",
      "Training until validation scores don't improve for 100 rounds\n",
      "[100]\ttraining's l1: 0.822028\tvalid_1's l1: 1.1493\n",
      "[200]\ttraining's l1: 0.807743\tvalid_1's l1: 1.14569\n",
      "[300]\ttraining's l1: 0.800894\tvalid_1's l1: 1.14499\n",
      "[400]\ttraining's l1: 0.798721\tvalid_1's l1: 1.14447\n",
      "[500]\ttraining's l1: 0.797498\tvalid_1's l1: 1.1447\n",
      "Early stopping, best iteration is:\n",
      "[434]\ttraining's l1: 0.798221\tvalid_1's l1: 1.14424\n"
     ]
    },
    {
     "name": "stderr",
     "output_type": "stream",
     "text": [
      "\u001b[32m[I 2021-07-11 00:51:29,664]\u001b[0m Trial 86 finished with value: -1.1439104687540975 and parameters: {'max_depth': 19, 'min_child_weight': 13, 'subsample': 0.8, 'colsample_bytree': 0.5, 'reg_lambda': 0.06757387059027227, 'reg_alpha': 0.002673108113112528, 'feature_fraction': 0.4430627946586656, 'bagging_fraction': 0.98318077704121, 'bagging_freq': 17, 'num_leaves': 563, 'min_child_samples': 31}. Best is trial 72 with value: -1.1403118694046963.\u001b[0m\n"
     ]
    },
    {
     "name": "stdout",
     "output_type": "stream",
     "text": [
      "[LightGBM] [Warning] feature_fraction is set=0.48627478512721084, colsample_bytree=0.5 will be ignored. Current value: feature_fraction=0.48627478512721084\n",
      "[LightGBM] [Warning] bagging_fraction is set=0.9696988748392091, subsample=0.8 will be ignored. Current value: bagging_fraction=0.9696988748392091\n",
      "[LightGBM] [Warning] bagging_freq is set=15, subsample_freq=0 will be ignored. Current value: bagging_freq=15\n",
      "Training until validation scores don't improve for 100 rounds\n",
      "[100]\ttraining's l1: 0.817417\tvalid_1's l1: 1.1498\n",
      "[200]\ttraining's l1: 0.799213\tvalid_1's l1: 1.14508\n",
      "[300]\ttraining's l1: 0.788141\tvalid_1's l1: 1.14585\n",
      "Early stopping, best iteration is:\n",
      "[226]\ttraining's l1: 0.795331\tvalid_1's l1: 1.14465\n"
     ]
    },
    {
     "name": "stderr",
     "output_type": "stream",
     "text": [
      "\u001b[32m[I 2021-07-11 00:51:57,098]\u001b[0m Trial 87 finished with value: -1.1443476024413413 and parameters: {'max_depth': 18, 'min_child_weight': 12, 'subsample': 0.8, 'colsample_bytree': 0.5, 'reg_lambda': 0.04850035070951599, 'reg_alpha': 0.0015920038413400834, 'feature_fraction': 0.48627478512721084, 'bagging_fraction': 0.9696988748392091, 'bagging_freq': 15, 'num_leaves': 662, 'min_child_samples': 35}. Best is trial 72 with value: -1.1403118694046963.\u001b[0m\n"
     ]
    },
    {
     "name": "stdout",
     "output_type": "stream",
     "text": [
      "[LightGBM] [Warning] feature_fraction is set=0.41454855413879876, colsample_bytree=0.5 will be ignored. Current value: feature_fraction=0.41454855413879876\n",
      "[LightGBM] [Warning] bagging_fraction is set=0.4614098614679668, subsample=0.8 will be ignored. Current value: bagging_fraction=0.4614098614679668\n",
      "[LightGBM] [Warning] bagging_freq is set=16, subsample_freq=0 will be ignored. Current value: bagging_freq=16\n",
      "Training until validation scores don't improve for 100 rounds\n",
      "[100]\ttraining's l1: 0.82334\tvalid_1's l1: 1.14994\n",
      "[200]\ttraining's l1: 0.809393\tvalid_1's l1: 1.14923\n"
     ]
    },
    {
     "name": "stderr",
     "output_type": "stream",
     "text": [
      "\u001b[32m[I 2021-07-11 00:52:12,854]\u001b[0m Trial 88 finished with value: -1.1481247395489564 and parameters: {'max_depth': 19, 'min_child_weight': 14, 'subsample': 0.8, 'colsample_bytree': 0.5, 'reg_lambda': 0.028300544847804355, 'reg_alpha': 0.002764358500235601, 'feature_fraction': 0.41454855413879876, 'bagging_fraction': 0.4614098614679668, 'bagging_freq': 16, 'num_leaves': 602, 'min_child_samples': 27}. Best is trial 72 with value: -1.1403118694046963.\u001b[0m\n"
     ]
    },
    {
     "name": "stdout",
     "output_type": "stream",
     "text": [
      "Early stopping, best iteration is:\n",
      "[176]\ttraining's l1: 0.812238\tvalid_1's l1: 1.14869\n",
      "[LightGBM] [Warning] feature_fraction is set=0.38687447992745805, colsample_bytree=0.5 will be ignored. Current value: feature_fraction=0.38687447992745805\n",
      "[LightGBM] [Warning] bagging_fraction is set=0.9291870775988096, subsample=0.8 will be ignored. Current value: bagging_fraction=0.9291870775988096\n",
      "[LightGBM] [Warning] bagging_freq is set=18, subsample_freq=0 will be ignored. Current value: bagging_freq=18\n",
      "Training until validation scores don't improve for 100 rounds\n",
      "[100]\ttraining's l1: 0.82237\tvalid_1's l1: 1.15178\n",
      "[200]\ttraining's l1: 0.810558\tvalid_1's l1: 1.14865\n",
      "[300]\ttraining's l1: 0.803183\tvalid_1's l1: 1.1488\n",
      "Early stopping, best iteration is:\n",
      "[247]\ttraining's l1: 0.807275\tvalid_1's l1: 1.14826\n"
     ]
    },
    {
     "name": "stderr",
     "output_type": "stream",
     "text": [
      "\u001b[32m[I 2021-07-11 00:52:39,213]\u001b[0m Trial 89 finished with value: -1.1479685337011434 and parameters: {'max_depth': 20, 'min_child_weight': 12, 'subsample': 0.8, 'colsample_bytree': 0.5, 'reg_lambda': 0.013120160566753442, 'reg_alpha': 0.00933667025870479, 'feature_fraction': 0.38687447992745805, 'bagging_fraction': 0.9291870775988096, 'bagging_freq': 18, 'num_leaves': 664, 'min_child_samples': 99}. Best is trial 72 with value: -1.1403118694046963.\u001b[0m\n"
     ]
    },
    {
     "name": "stdout",
     "output_type": "stream",
     "text": [
      "[LightGBM] [Warning] feature_fraction is set=0.4627013838914467, colsample_bytree=0.5 will be ignored. Current value: feature_fraction=0.4627013838914467\n",
      "[LightGBM] [Warning] bagging_fraction is set=0.8853698520032802, subsample=0.8 will be ignored. Current value: bagging_fraction=0.8853698520032802\n",
      "[LightGBM] [Warning] bagging_freq is set=16, subsample_freq=0 will be ignored. Current value: bagging_freq=16\n",
      "Training until validation scores don't improve for 100 rounds\n",
      "[100]\ttraining's l1: 0.84622\tvalid_1's l1: 1.16457\n",
      "[200]\ttraining's l1: 0.84167\tvalid_1's l1: 1.15695\n"
     ]
    },
    {
     "name": "stderr",
     "output_type": "stream",
     "text": [
      "\u001b[32m[I 2021-07-11 00:52:50,659]\u001b[0m Trial 90 finished with value: -1.1568490897466468 and parameters: {'max_depth': 8, 'min_child_weight': 11, 'subsample': 0.8, 'colsample_bytree': 0.5, 'reg_lambda': 0.006055142778294605, 'reg_alpha': 0.005404353494323535, 'feature_fraction': 0.4627013838914467, 'bagging_fraction': 0.8853698520032802, 'bagging_freq': 16, 'num_leaves': 531, 'min_child_samples': 30}. Best is trial 72 with value: -1.1403118694046963.\u001b[0m\n"
     ]
    },
    {
     "name": "stdout",
     "output_type": "stream",
     "text": [
      "Early stopping, best iteration is:\n",
      "[167]\ttraining's l1: 0.841712\tvalid_1's l1: 1.15689\n",
      "[LightGBM] [Warning] feature_fraction is set=0.5467728740049999, colsample_bytree=0.5 will be ignored. Current value: feature_fraction=0.5467728740049999\n",
      "[LightGBM] [Warning] bagging_fraction is set=0.969993797145209, subsample=0.9 will be ignored. Current value: bagging_fraction=0.969993797145209\n",
      "[LightGBM] [Warning] bagging_freq is set=17, subsample_freq=0 will be ignored. Current value: bagging_freq=17\n",
      "Training until validation scores don't improve for 100 rounds\n",
      "[100]\ttraining's l1: 0.813154\tvalid_1's l1: 1.14758\n",
      "[200]\ttraining's l1: 0.793985\tvalid_1's l1: 1.14545\n",
      "[300]\ttraining's l1: 0.783581\tvalid_1's l1: 1.14507\n",
      "Early stopping, best iteration is:\n",
      "[292]\ttraining's l1: 0.78431\tvalid_1's l1: 1.14502\n"
     ]
    },
    {
     "name": "stderr",
     "output_type": "stream",
     "text": [
      "\u001b[32m[I 2021-07-11 00:53:26,695]\u001b[0m Trial 91 finished with value: -1.1445815257965317 and parameters: {'max_depth': 20, 'min_child_weight': 10, 'subsample': 0.9, 'colsample_bytree': 0.5, 'reg_lambda': 0.11510646280466294, 'reg_alpha': 0.020089629761145956, 'feature_fraction': 0.5467728740049999, 'bagging_fraction': 0.969993797145209, 'bagging_freq': 17, 'num_leaves': 709, 'min_child_samples': 38}. Best is trial 72 with value: -1.1403118694046963.\u001b[0m\n"
     ]
    },
    {
     "name": "stdout",
     "output_type": "stream",
     "text": [
      "[LightGBM] [Warning] feature_fraction is set=0.5063442675099049, colsample_bytree=0.5 will be ignored. Current value: feature_fraction=0.5063442675099049\n",
      "[LightGBM] [Warning] bagging_fraction is set=0.9522962233875537, subsample=0.8 will be ignored. Current value: bagging_fraction=0.9522962233875537\n",
      "[LightGBM] [Warning] bagging_freq is set=18, subsample_freq=0 will be ignored. Current value: bagging_freq=18\n",
      "Training until validation scores don't improve for 100 rounds\n",
      "[100]\ttraining's l1: 0.810144\tvalid_1's l1: 1.14684\n",
      "[200]\ttraining's l1: 0.786238\tvalid_1's l1: 1.14274\n",
      "Early stopping, best iteration is:\n",
      "[193]\ttraining's l1: 0.788162\tvalid_1's l1: 1.14265\n"
     ]
    },
    {
     "name": "stderr",
     "output_type": "stream",
     "text": [
      "\u001b[32m[I 2021-07-11 00:53:54,278]\u001b[0m Trial 92 finished with value: -1.1423753310629348 and parameters: {'max_depth': 19, 'min_child_weight': 11, 'subsample': 0.8, 'colsample_bytree': 0.5, 'reg_lambda': 0.20171716097803813, 'reg_alpha': 0.01147719742665491, 'feature_fraction': 0.5063442675099049, 'bagging_fraction': 0.9522962233875537, 'bagging_freq': 18, 'num_leaves': 758, 'min_child_samples': 34}. Best is trial 72 with value: -1.1403118694046963.\u001b[0m\n"
     ]
    },
    {
     "name": "stdout",
     "output_type": "stream",
     "text": [
      "[LightGBM] [Warning] feature_fraction is set=0.49194984526481134, colsample_bytree=0.5 will be ignored. Current value: feature_fraction=0.49194984526481134\n",
      "[LightGBM] [Warning] bagging_fraction is set=0.9995815879885293, subsample=0.9 will be ignored. Current value: bagging_fraction=0.9995815879885293\n",
      "[LightGBM] [Warning] bagging_freq is set=18, subsample_freq=0 will be ignored. Current value: bagging_freq=18\n",
      "Training until validation scores don't improve for 100 rounds\n",
      "[100]\ttraining's l1: 0.812364\tvalid_1's l1: 1.14768\n",
      "[200]\ttraining's l1: 0.791591\tvalid_1's l1: 1.14551\n",
      "[300]\ttraining's l1: 0.783922\tvalid_1's l1: 1.14579\n",
      "Early stopping, best iteration is:\n",
      "[226]\ttraining's l1: 0.788756\tvalid_1's l1: 1.14519\n"
     ]
    },
    {
     "name": "stderr",
     "output_type": "stream",
     "text": [
      "\u001b[32m[I 2021-07-11 00:54:23,638]\u001b[0m Trial 93 finished with value: -1.1449063742694279 and parameters: {'max_depth': 18, 'min_child_weight': 13, 'subsample': 0.9, 'colsample_bytree': 0.5, 'reg_lambda': 0.10025773308120009, 'reg_alpha': 0.006877193585477387, 'feature_fraction': 0.49194984526481134, 'bagging_fraction': 0.9995815879885293, 'bagging_freq': 18, 'num_leaves': 733, 'min_child_samples': 32}. Best is trial 72 with value: -1.1403118694046963.\u001b[0m\n"
     ]
    },
    {
     "name": "stdout",
     "output_type": "stream",
     "text": [
      "[LightGBM] [Warning] feature_fraction is set=0.4339629294839423, colsample_bytree=0.5 will be ignored. Current value: feature_fraction=0.4339629294839423\n",
      "[LightGBM] [Warning] bagging_fraction is set=0.9246225377164435, subsample=0.9 will be ignored. Current value: bagging_fraction=0.9246225377164435\n",
      "[LightGBM] [Warning] bagging_freq is set=19, subsample_freq=0 will be ignored. Current value: bagging_freq=19\n",
      "Training until validation scores don't improve for 100 rounds\n",
      "[100]\ttraining's l1: 0.814901\tvalid_1's l1: 1.14771\n",
      "[200]\ttraining's l1: 0.797999\tvalid_1's l1: 1.14587\n",
      "[300]\ttraining's l1: 0.785597\tvalid_1's l1: 1.14694\n",
      "Early stopping, best iteration is:\n",
      "[206]\ttraining's l1: 0.797301\tvalid_1's l1: 1.14547\n"
     ]
    },
    {
     "name": "stderr",
     "output_type": "stream",
     "text": [
      "\u001b[32m[I 2021-07-11 00:54:48,111]\u001b[0m Trial 94 finished with value: -1.14504338726838 and parameters: {'max_depth': 20, 'min_child_weight': 9, 'subsample': 0.9, 'colsample_bytree': 0.5, 'reg_lambda': 0.040992372573728474, 'reg_alpha': 0.0014310450959265182, 'feature_fraction': 0.4339629294839423, 'bagging_fraction': 0.9246225377164435, 'bagging_freq': 19, 'num_leaves': 651, 'min_child_samples': 16}. Best is trial 72 with value: -1.1403118694046963.\u001b[0m\n"
     ]
    },
    {
     "name": "stdout",
     "output_type": "stream",
     "text": [
      "[LightGBM] [Warning] feature_fraction is set=0.46267373058935407, colsample_bytree=0.5 will be ignored. Current value: feature_fraction=0.46267373058935407\n",
      "[LightGBM] [Warning] bagging_fraction is set=0.9045870460285504, subsample=0.8 will be ignored. Current value: bagging_fraction=0.9045870460285504\n",
      "[LightGBM] [Warning] bagging_freq is set=20, subsample_freq=0 will be ignored. Current value: bagging_freq=20\n",
      "Training until validation scores don't improve for 100 rounds\n",
      "[100]\ttraining's l1: 0.816452\tvalid_1's l1: 1.14536\n",
      "[200]\ttraining's l1: 0.798346\tvalid_1's l1: 1.14126\n",
      "[300]\ttraining's l1: 0.784073\tvalid_1's l1: 1.14155\n",
      "Early stopping, best iteration is:\n",
      "[260]\ttraining's l1: 0.788162\tvalid_1's l1: 1.14121\n"
     ]
    },
    {
     "name": "stderr",
     "output_type": "stream",
     "text": [
      "\u001b[32m[I 2021-07-11 00:55:17,342]\u001b[0m Trial 95 finished with value: -1.1408331865655585 and parameters: {'max_depth': 18, 'min_child_weight': 12, 'subsample': 0.8, 'colsample_bytree': 0.5, 'reg_lambda': 0.27628590177695533, 'reg_alpha': 0.0024496923199788393, 'feature_fraction': 0.46267373058935407, 'bagging_fraction': 0.9045870460285504, 'bagging_freq': 20, 'num_leaves': 687, 'min_child_samples': 38}. Best is trial 72 with value: -1.1403118694046963.\u001b[0m\n"
     ]
    },
    {
     "name": "stdout",
     "output_type": "stream",
     "text": [
      "[LightGBM] [Warning] feature_fraction is set=0.4564581382354073, colsample_bytree=0.5 will be ignored. Current value: feature_fraction=0.4564581382354073\n",
      "[LightGBM] [Warning] bagging_fraction is set=0.9033008490335527, subsample=0.8 will be ignored. Current value: bagging_fraction=0.9033008490335527\n",
      "[LightGBM] [Warning] bagging_freq is set=20, subsample_freq=0 will be ignored. Current value: bagging_freq=20\n",
      "Training until validation scores don't improve for 100 rounds\n",
      "[100]\ttraining's l1: 0.820924\tvalid_1's l1: 1.14812\n",
      "[200]\ttraining's l1: 0.806507\tvalid_1's l1: 1.14434\n",
      "Early stopping, best iteration is:\n",
      "[186]\ttraining's l1: 0.807976\tvalid_1's l1: 1.14405\n"
     ]
    },
    {
     "name": "stderr",
     "output_type": "stream",
     "text": [
      "\u001b[32m[I 2021-07-11 00:55:39,421]\u001b[0m Trial 96 finished with value: -1.1438136003257373 and parameters: {'max_depth': 18, 'min_child_weight': 12, 'subsample': 0.8, 'colsample_bytree': 0.5, 'reg_lambda': 0.27504628513810925, 'reg_alpha': 0.0010653420294927656, 'feature_fraction': 0.4564581382354073, 'bagging_fraction': 0.9033008490335527, 'bagging_freq': 20, 'num_leaves': 611, 'min_child_samples': 40}. Best is trial 72 with value: -1.1403118694046963.\u001b[0m\n"
     ]
    },
    {
     "name": "stdout",
     "output_type": "stream",
     "text": [
      "[LightGBM] [Warning] feature_fraction is set=0.3664866390315342, colsample_bytree=0.5 will be ignored. Current value: feature_fraction=0.3664866390315342\n",
      "[LightGBM] [Warning] bagging_fraction is set=0.8720164515493629, subsample=0.8 will be ignored. Current value: bagging_fraction=0.8720164515493629\n",
      "[LightGBM] [Warning] bagging_freq is set=17, subsample_freq=0 will be ignored. Current value: bagging_freq=17\n",
      "Training until validation scores don't improve for 100 rounds\n",
      "[100]\ttraining's l1: 0.823048\tvalid_1's l1: 1.14935\n",
      "[200]\ttraining's l1: 0.806881\tvalid_1's l1: 1.14602\n",
      "[300]\ttraining's l1: 0.797664\tvalid_1's l1: 1.14652\n",
      "Early stopping, best iteration is:\n",
      "[259]\ttraining's l1: 0.799489\tvalid_1's l1: 1.14578\n"
     ]
    },
    {
     "name": "stderr",
     "output_type": "stream",
     "text": [
      "\u001b[32m[I 2021-07-11 00:56:03,231]\u001b[0m Trial 97 finished with value: -1.1454044929206209 and parameters: {'max_depth': 17, 'min_child_weight': 10, 'subsample': 0.8, 'colsample_bytree': 0.5, 'reg_lambda': 0.018996565672385703, 'reg_alpha': 0.0023678800384740613, 'feature_fraction': 0.3664866390315342, 'bagging_fraction': 0.8720164515493629, 'bagging_freq': 17, 'num_leaves': 586, 'min_child_samples': 34}. Best is trial 72 with value: -1.1403118694046963.\u001b[0m\n"
     ]
    },
    {
     "name": "stdout",
     "output_type": "stream",
     "text": [
      "[LightGBM] [Warning] feature_fraction is set=0.40064892642204675, colsample_bytree=0.5 will be ignored. Current value: feature_fraction=0.40064892642204675\n",
      "[LightGBM] [Warning] bagging_fraction is set=0.28226648084733297, subsample=0.8 will be ignored. Current value: bagging_fraction=0.28226648084733297\n",
      "[LightGBM] [Warning] bagging_freq is set=15, subsample_freq=0 will be ignored. Current value: bagging_freq=15\n",
      "Training until validation scores don't improve for 100 rounds\n",
      "[100]\ttraining's l1: 0.826348\tvalid_1's l1: 1.1515\n",
      "[200]\ttraining's l1: 0.812856\tvalid_1's l1: 1.15097\n",
      "Early stopping, best iteration is:\n",
      "[164]\ttraining's l1: 0.816501\tvalid_1's l1: 1.1496\n"
     ]
    },
    {
     "name": "stderr",
     "output_type": "stream",
     "text": [
      "\u001b[32m[I 2021-07-11 00:56:16,945]\u001b[0m Trial 98 finished with value: -1.148296210374439 and parameters: {'max_depth': 19, 'min_child_weight': 15, 'subsample': 0.8, 'colsample_bytree': 0.5, 'reg_lambda': 0.0678864909451595, 'reg_alpha': 0.003769299778264613, 'feature_fraction': 0.40064892642204675, 'bagging_fraction': 0.28226648084733297, 'bagging_freq': 15, 'num_leaves': 678, 'min_child_samples': 25}. Best is trial 72 with value: -1.1403118694046963.\u001b[0m\n"
     ]
    },
    {
     "name": "stdout",
     "output_type": "stream",
     "text": [
      "[LightGBM] [Warning] feature_fraction is set=0.3371917974307834, colsample_bytree=0.5 will be ignored. Current value: feature_fraction=0.3371917974307834\n",
      "[LightGBM] [Warning] bagging_fraction is set=0.9832689481334378, subsample=0.8 will be ignored. Current value: bagging_fraction=0.9832689481334378\n",
      "[LightGBM] [Warning] bagging_freq is set=20, subsample_freq=0 will be ignored. Current value: bagging_freq=20\n",
      "Training until validation scores don't improve for 100 rounds\n",
      "[100]\ttraining's l1: 0.813995\tvalid_1's l1: 1.14872\n",
      "[200]\ttraining's l1: 0.792617\tvalid_1's l1: 1.14628\n",
      "Early stopping, best iteration is:\n",
      "[184]\ttraining's l1: 0.795862\tvalid_1's l1: 1.14555\n"
     ]
    },
    {
     "name": "stderr",
     "output_type": "stream",
     "text": [
      "\u001b[32m[I 2021-07-11 00:56:40,463]\u001b[0m Trial 99 finished with value: -1.1452475642789732 and parameters: {'max_depth': 18, 'min_child_weight': 14, 'subsample': 0.8, 'colsample_bytree': 0.5, 'reg_lambda': 0.12175273270813615, 'reg_alpha': 0.005408777805975193, 'feature_fraction': 0.3371917974307834, 'bagging_fraction': 0.9832689481334378, 'bagging_freq': 20, 'num_leaves': 809, 'min_child_samples': 46}. Best is trial 72 with value: -1.1403118694046963.\u001b[0m\n"
     ]
    },
    {
     "name": "stdout",
     "output_type": "stream",
     "text": [
      "Number of finished trials: 100\n",
      "Best trial: {'max_depth': 18, 'min_child_weight': 8, 'subsample': 0.9, 'colsample_bytree': 0.5, 'reg_lambda': 0.07770060902509043, 'reg_alpha': 0.006917721077349456, 'feature_fraction': 0.5448452017199268, 'bagging_fraction': 0.9712581844886307, 'bagging_freq': 17, 'num_leaves': 757, 'min_child_samples': 38}\n"
     ]
    }
   ],
   "source": [
    "study1 = optuna.create_study(direction='maximize')\n",
    "study1.optimize(fit_lgbm(x_train[feature_cols1], y_train['target1'], x_valid[feature_cols1], y_valid['target1'], learning_rates[0]), n_trials=100)\n",
    "\n",
    "print('Number of finished trials:', len(study1.trials))\n",
    "print('Best trial:', study1.best_trial.params)"
   ]
  },
  {
   "cell_type": "code",
   "execution_count": 137,
   "id": "ef0eeb04",
   "metadata": {},
   "outputs": [
    {
     "name": "stderr",
     "output_type": "stream",
     "text": [
      "\u001b[32m[I 2021-07-11 00:56:40,483]\u001b[0m A new study created in memory with name: no-name-28024c76-0f18-48e7-b41e-372641e05a8e\u001b[0m\n"
     ]
    },
    {
     "name": "stdout",
     "output_type": "stream",
     "text": [
      "[LightGBM] [Warning] feature_fraction is set=0.5356563179133227, colsample_bytree=0.8 will be ignored. Current value: feature_fraction=0.5356563179133227\n",
      "[LightGBM] [Warning] bagging_fraction is set=0.9541833930969124, subsample=0.5 will be ignored. Current value: bagging_fraction=0.9541833930969124\n",
      "[LightGBM] [Warning] bagging_freq is set=14, subsample_freq=0 will be ignored. Current value: bagging_freq=14\n",
      "Training until validation scores don't improve for 100 rounds\n",
      "[100]\ttraining's l1: 1.74735\tvalid_1's l1: 2.40563\n"
     ]
    },
    {
     "name": "stderr",
     "output_type": "stream",
     "text": [
      "\u001b[32m[I 2021-07-11 00:56:50,586]\u001b[0m Trial 0 finished with value: -2.317331430817083 and parameters: {'max_depth': 14, 'min_child_weight': 13, 'subsample': 0.5, 'colsample_bytree': 0.8, 'reg_lambda': 1.110206358354379, 'reg_alpha': 0.0272902177815835, 'feature_fraction': 0.5356563179133227, 'bagging_fraction': 0.9541833930969124, 'bagging_freq': 14, 'num_leaves': 519, 'min_child_samples': 83}. Best is trial 0 with value: -2.317331430817083.\u001b[0m\n"
     ]
    },
    {
     "name": "stdout",
     "output_type": "stream",
     "text": [
      "Early stopping, best iteration is:\n",
      "[19]\ttraining's l1: 1.92627\tvalid_1's l1: 2.31733\n",
      "[LightGBM] [Warning] feature_fraction is set=0.3249015086298732, colsample_bytree=0.9 will be ignored. Current value: feature_fraction=0.3249015086298732\n",
      "[LightGBM] [Warning] bagging_fraction is set=0.4174166983351393, subsample=0.9 will be ignored. Current value: bagging_fraction=0.4174166983351393\n",
      "[LightGBM] [Warning] bagging_freq is set=6, subsample_freq=0 will be ignored. Current value: bagging_freq=6\n",
      "Training until validation scores don't improve for 100 rounds\n",
      "[100]\ttraining's l1: 2.07635\tvalid_1's l1: 2.33576\n",
      "[200]\ttraining's l1: 2.04131\tvalid_1's l1: 2.3158\n",
      "[300]\ttraining's l1: 2.0188\tvalid_1's l1: 2.31239\n"
     ]
    },
    {
     "name": "stderr",
     "output_type": "stream",
     "text": [
      "\u001b[32m[I 2021-07-11 00:56:57,156]\u001b[0m Trial 1 finished with value: -2.3101742747023546 and parameters: {'max_depth': 2, 'min_child_weight': 17, 'subsample': 0.9, 'colsample_bytree': 0.9, 'reg_lambda': 0.20887909696160611, 'reg_alpha': 35.775780293180766, 'feature_fraction': 0.3249015086298732, 'bagging_fraction': 0.4174166983351393, 'bagging_freq': 6, 'num_leaves': 414, 'min_child_samples': 15}. Best is trial 1 with value: -2.3101742747023546.\u001b[0m\n"
     ]
    },
    {
     "name": "stdout",
     "output_type": "stream",
     "text": [
      "Early stopping, best iteration is:\n",
      "[265]\ttraining's l1: 2.02773\tvalid_1's l1: 2.31019\n",
      "[LightGBM] [Warning] feature_fraction is set=0.8463557045715675, colsample_bytree=0.8 will be ignored. Current value: feature_fraction=0.8463557045715675\n",
      "[LightGBM] [Warning] bagging_fraction is set=0.2572095317385252, subsample=0.5 will be ignored. Current value: bagging_fraction=0.2572095317385252\n",
      "[LightGBM] [Warning] bagging_freq is set=17, subsample_freq=0 will be ignored. Current value: bagging_freq=17\n",
      "Training until validation scores don't improve for 100 rounds\n",
      "[100]\ttraining's l1: 2.06502\tvalid_1's l1: 2.37208\n",
      "[200]\ttraining's l1: 2.03001\tvalid_1's l1: 2.34794\n",
      "[300]\ttraining's l1: 2.01274\tvalid_1's l1: 2.33674\n",
      "[400]\ttraining's l1: 2.00235\tvalid_1's l1: 2.33387\n",
      "[500]\ttraining's l1: 1.99519\tvalid_1's l1: 2.33197\n",
      "[600]\ttraining's l1: 1.99082\tvalid_1's l1: 2.33012\n",
      "[700]\ttraining's l1: 1.98691\tvalid_1's l1: 2.32795\n",
      "[800]\ttraining's l1: 1.98453\tvalid_1's l1: 2.33058\n"
     ]
    },
    {
     "name": "stderr",
     "output_type": "stream",
     "text": [
      "\u001b[32m[I 2021-07-11 00:57:05,232]\u001b[0m Trial 2 finished with value: -2.327364180665476 and parameters: {'max_depth': 2, 'min_child_weight': 13, 'subsample': 0.5, 'colsample_bytree': 0.8, 'reg_lambda': 146.46847911841144, 'reg_alpha': 0.0740464649827203, 'feature_fraction': 0.8463557045715675, 'bagging_fraction': 0.2572095317385252, 'bagging_freq': 17, 'num_leaves': 478, 'min_child_samples': 70}. Best is trial 1 with value: -2.3101742747023546.\u001b[0m\n"
     ]
    },
    {
     "name": "stdout",
     "output_type": "stream",
     "text": [
      "Early stopping, best iteration is:\n",
      "[777]\ttraining's l1: 1.98541\tvalid_1's l1: 2.32761\n",
      "[LightGBM] [Warning] feature_fraction is set=0.7106260981251629, colsample_bytree=0.7 will be ignored. Current value: feature_fraction=0.7106260981251629\n",
      "[LightGBM] [Warning] bagging_fraction is set=0.8649646106052422, subsample=0.9 will be ignored. Current value: bagging_fraction=0.8649646106052422\n",
      "[LightGBM] [Warning] bagging_freq is set=4, subsample_freq=0 will be ignored. Current value: bagging_freq=4\n",
      "Training until validation scores don't improve for 100 rounds\n",
      "[100]\ttraining's l1: 1.83902\tvalid_1's l1: 2.33585\n"
     ]
    },
    {
     "name": "stderr",
     "output_type": "stream",
     "text": [
      "\u001b[32m[I 2021-07-11 00:57:11,300]\u001b[0m Trial 3 finished with value: -2.3068410318099 and parameters: {'max_depth': 8, 'min_child_weight': 1, 'subsample': 0.9, 'colsample_bytree': 0.7, 'reg_lambda': 310.2568122037843, 'reg_alpha': 0.0037538334875575944, 'feature_fraction': 0.7106260981251629, 'bagging_fraction': 0.8649646106052422, 'bagging_freq': 4, 'num_leaves': 884, 'min_child_samples': 45}. Best is trial 3 with value: -2.3068410318099.\u001b[0m\n"
     ]
    },
    {
     "name": "stdout",
     "output_type": "stream",
     "text": [
      "Early stopping, best iteration is:\n",
      "[30]\ttraining's l1: 1.90889\tvalid_1's l1: 2.30684\n",
      "[LightGBM] [Warning] feature_fraction is set=0.46031809433522874, colsample_bytree=0.7 will be ignored. Current value: feature_fraction=0.46031809433522874\n",
      "[LightGBM] [Warning] bagging_fraction is set=0.31147233575075417, subsample=0.6 will be ignored. Current value: bagging_fraction=0.31147233575075417\n",
      "[LightGBM] [Warning] bagging_freq is set=5, subsample_freq=0 will be ignored. Current value: bagging_freq=5\n",
      "Training until validation scores don't improve for 100 rounds\n",
      "[100]\ttraining's l1: 1.87024\tvalid_1's l1: 2.34758\n"
     ]
    },
    {
     "name": "stderr",
     "output_type": "stream",
     "text": [
      "\u001b[32m[I 2021-07-11 00:57:15,238]\u001b[0m Trial 4 finished with value: -2.3241878557982605 and parameters: {'max_depth': 8, 'min_child_weight': 5, 'subsample': 0.6, 'colsample_bytree': 0.7, 'reg_lambda': 4.22725890493436, 'reg_alpha': 71.54995758986479, 'feature_fraction': 0.46031809433522874, 'bagging_fraction': 0.31147233575075417, 'bagging_freq': 5, 'num_leaves': 612, 'min_child_samples': 64}. Best is trial 3 with value: -2.3068410318099.\u001b[0m\n"
     ]
    },
    {
     "name": "stdout",
     "output_type": "stream",
     "text": [
      "Early stopping, best iteration is:\n",
      "[29]\ttraining's l1: 1.96664\tvalid_1's l1: 2.32419\n",
      "[LightGBM] [Warning] feature_fraction is set=0.5638895400227659, colsample_bytree=0.8 will be ignored. Current value: feature_fraction=0.5638895400227659\n",
      "[LightGBM] [Warning] bagging_fraction is set=0.21692096950608752, subsample=0.6 will be ignored. Current value: bagging_fraction=0.21692096950608752\n",
      "[LightGBM] [Warning] bagging_freq is set=3, subsample_freq=0 will be ignored. Current value: bagging_freq=3\n",
      "Training until validation scores don't improve for 100 rounds\n",
      "[100]\ttraining's l1: 1.80211\tvalid_1's l1: 2.36675\n"
     ]
    },
    {
     "name": "stderr",
     "output_type": "stream",
     "text": [
      "\u001b[32m[I 2021-07-11 00:57:20,201]\u001b[0m Trial 5 finished with value: -2.296143762042014 and parameters: {'max_depth': 11, 'min_child_weight': 6, 'subsample': 0.6, 'colsample_bytree': 0.8, 'reg_lambda': 0.19491868416881608, 'reg_alpha': 0.2726403761747497, 'feature_fraction': 0.5638895400227659, 'bagging_fraction': 0.21692096950608752, 'bagging_freq': 3, 'num_leaves': 942, 'min_child_samples': 86}. Best is trial 5 with value: -2.296143762042014.\u001b[0m\n"
     ]
    },
    {
     "name": "stdout",
     "output_type": "stream",
     "text": [
      "Early stopping, best iteration is:\n",
      "[20]\ttraining's l1: 1.93006\tvalid_1's l1: 2.29614\n",
      "[LightGBM] [Warning] feature_fraction is set=0.21878160982104397, colsample_bytree=0.5 will be ignored. Current value: feature_fraction=0.21878160982104397\n",
      "[LightGBM] [Warning] bagging_fraction is set=0.355413004477073, subsample=0.6 will be ignored. Current value: bagging_fraction=0.355413004477073\n",
      "[LightGBM] [Warning] bagging_freq is set=1, subsample_freq=0 will be ignored. Current value: bagging_freq=1\n",
      "Training until validation scores don't improve for 100 rounds\n",
      "[100]\ttraining's l1: 1.85632\tvalid_1's l1: 2.41932\n"
     ]
    },
    {
     "name": "stderr",
     "output_type": "stream",
     "text": [
      "\u001b[32m[I 2021-07-11 00:57:26,632]\u001b[0m Trial 6 finished with value: -2.3595514323895816 and parameters: {'max_depth': 14, 'min_child_weight': 15, 'subsample': 0.6, 'colsample_bytree': 0.5, 'reg_lambda': 0.00726051620836616, 'reg_alpha': 19.302887597697346, 'feature_fraction': 0.21878160982104397, 'bagging_fraction': 0.355413004477073, 'bagging_freq': 1, 'num_leaves': 689, 'min_child_samples': 61}. Best is trial 5 with value: -2.296143762042014.\u001b[0m\n"
     ]
    },
    {
     "name": "stdout",
     "output_type": "stream",
     "text": [
      "Early stopping, best iteration is:\n",
      "[22]\ttraining's l1: 2.03767\tvalid_1's l1: 2.35955\n",
      "[LightGBM] [Warning] feature_fraction is set=0.26579141104356707, colsample_bytree=0.7 will be ignored. Current value: feature_fraction=0.26579141104356707\n",
      "[LightGBM] [Warning] bagging_fraction is set=0.9040219996190164, subsample=0.9 will be ignored. Current value: bagging_fraction=0.9040219996190164\n",
      "[LightGBM] [Warning] bagging_freq is set=13, subsample_freq=0 will be ignored. Current value: bagging_freq=13\n",
      "Training until validation scores don't improve for 100 rounds\n",
      "[100]\ttraining's l1: 1.88775\tvalid_1's l1: 2.33998\n"
     ]
    },
    {
     "name": "stderr",
     "output_type": "stream",
     "text": [
      "\u001b[32m[I 2021-07-11 00:57:33,593]\u001b[0m Trial 7 finished with value: -2.3366682726040384 and parameters: {'max_depth': 16, 'min_child_weight': 4, 'subsample': 0.9, 'colsample_bytree': 0.7, 'reg_lambda': 0.011659475903696054, 'reg_alpha': 0.01618354108232834, 'feature_fraction': 0.26579141104356707, 'bagging_fraction': 0.9040219996190164, 'bagging_freq': 13, 'num_leaves': 92, 'min_child_samples': 20}. Best is trial 5 with value: -2.296143762042014.\u001b[0m\n"
     ]
    },
    {
     "name": "stdout",
     "output_type": "stream",
     "text": [
      "Early stopping, best iteration is:\n",
      "[79]\ttraining's l1: 1.90663\tvalid_1's l1: 2.33667\n",
      "[LightGBM] [Warning] feature_fraction is set=0.2254039087468116, colsample_bytree=0.6 will be ignored. Current value: feature_fraction=0.2254039087468116\n",
      "[LightGBM] [Warning] bagging_fraction is set=0.9281599593569003, subsample=0.8 will be ignored. Current value: bagging_fraction=0.9281599593569003\n",
      "[LightGBM] [Warning] bagging_freq is set=19, subsample_freq=0 will be ignored. Current value: bagging_freq=19\n",
      "Training until validation scores don't improve for 100 rounds\n",
      "[100]\ttraining's l1: 1.82614\tvalid_1's l1: 2.40375\n"
     ]
    },
    {
     "name": "stderr",
     "output_type": "stream",
     "text": [
      "\u001b[32m[I 2021-07-11 00:57:39,905]\u001b[0m Trial 8 finished with value: -2.3513254830878423 and parameters: {'max_depth': 10, 'min_child_weight': 12, 'subsample': 0.8, 'colsample_bytree': 0.6, 'reg_lambda': 0.3125706971148177, 'reg_alpha': 0.04393813831570577, 'feature_fraction': 0.2254039087468116, 'bagging_fraction': 0.9281599593569003, 'bagging_freq': 19, 'num_leaves': 856, 'min_child_samples': 65}. Best is trial 5 with value: -2.296143762042014.\u001b[0m\n"
     ]
    },
    {
     "name": "stdout",
     "output_type": "stream",
     "text": [
      "Early stopping, best iteration is:\n",
      "[21]\ttraining's l1: 2.00895\tvalid_1's l1: 2.35133\n",
      "[LightGBM] [Warning] feature_fraction is set=0.6218309140573135, colsample_bytree=0.9 will be ignored. Current value: feature_fraction=0.6218309140573135\n",
      "[LightGBM] [Warning] bagging_fraction is set=0.2220075933959188, subsample=0.6 will be ignored. Current value: bagging_fraction=0.2220075933959188\n",
      "[LightGBM] [Warning] bagging_freq is set=18, subsample_freq=0 will be ignored. Current value: bagging_freq=18\n",
      "Training until validation scores don't improve for 100 rounds\n",
      "[100]\ttraining's l1: 1.99215\tvalid_1's l1: 2.32508\n",
      "[200]\ttraining's l1: 1.96349\tvalid_1's l1: 2.31401\n",
      "[300]\ttraining's l1: 1.95073\tvalid_1's l1: 2.31327\n"
     ]
    },
    {
     "name": "stderr",
     "output_type": "stream",
     "text": [
      "\u001b[32m[I 2021-07-11 00:57:45,143]\u001b[0m Trial 9 finished with value: -2.3126798425054256 and parameters: {'max_depth': 3, 'min_child_weight': 20, 'subsample': 0.6, 'colsample_bytree': 0.9, 'reg_lambda': 78.0996054518357, 'reg_alpha': 18.77796838186925, 'feature_fraction': 0.6218309140573135, 'bagging_fraction': 0.2220075933959188, 'bagging_freq': 18, 'num_leaves': 504, 'min_child_samples': 82}. Best is trial 5 with value: -2.296143762042014.\u001b[0m\n"
     ]
    },
    {
     "name": "stdout",
     "output_type": "stream",
     "text": [
      "Early stopping, best iteration is:\n",
      "[294]\ttraining's l1: 1.95237\tvalid_1's l1: 2.31301\n",
      "[LightGBM] [Warning] feature_fraction is set=0.9148619530797678, colsample_bytree=0.8 will be ignored. Current value: feature_fraction=0.9148619530797678\n",
      "[LightGBM] [Warning] bagging_fraction is set=0.6310959674613337, subsample=0.7 will be ignored. Current value: bagging_fraction=0.6310959674613337\n",
      "[LightGBM] [Warning] bagging_freq is set=9, subsample_freq=0 will be ignored. Current value: bagging_freq=9\n",
      "Training until validation scores don't improve for 100 rounds\n",
      "[100]\ttraining's l1: 1.71989\tvalid_1's l1: 2.42746\n"
     ]
    },
    {
     "name": "stderr",
     "output_type": "stream",
     "text": [
      "\u001b[32m[I 2021-07-11 00:57:58,638]\u001b[0m Trial 10 finished with value: -2.307925152180534 and parameters: {'max_depth': 20, 'min_child_weight': 8, 'subsample': 0.7, 'colsample_bytree': 0.8, 'reg_lambda': 0.0012876148133422185, 'reg_alpha': 1.0264078566101247, 'feature_fraction': 0.9148619530797678, 'bagging_fraction': 0.6310959674613337, 'bagging_freq': 9, 'num_leaves': 997, 'min_child_samples': 98}. Best is trial 5 with value: -2.296143762042014.\u001b[0m\n"
     ]
    },
    {
     "name": "stdout",
     "output_type": "stream",
     "text": [
      "Early stopping, best iteration is:\n",
      "[16]\ttraining's l1: 1.89094\tvalid_1's l1: 2.30793\n",
      "[LightGBM] [Warning] feature_fraction is set=0.7230659846330569, colsample_bytree=0.6 will be ignored. Current value: feature_fraction=0.7230659846330569\n",
      "[LightGBM] [Warning] bagging_fraction is set=0.7099686760147546, subsample=0.7 will be ignored. Current value: bagging_fraction=0.7099686760147546\n",
      "[LightGBM] [Warning] bagging_freq is set=1, subsample_freq=0 will be ignored. Current value: bagging_freq=1\n",
      "Training until validation scores don't improve for 100 rounds\n",
      "[100]\ttraining's l1: 1.84937\tvalid_1's l1: 2.31926\n"
     ]
    },
    {
     "name": "stderr",
     "output_type": "stream",
     "text": [
      "\u001b[32m[I 2021-07-11 00:58:03,344]\u001b[0m Trial 11 finished with value: -2.2979907153713053 and parameters: {'max_depth': 7, 'min_child_weight': 1, 'subsample': 0.7, 'colsample_bytree': 0.6, 'reg_lambda': 23.963106106908956, 'reg_alpha': 0.001141327775769486, 'feature_fraction': 0.7230659846330569, 'bagging_fraction': 0.7099686760147546, 'bagging_freq': 1, 'num_leaves': 917, 'min_child_samples': 39}. Best is trial 5 with value: -2.296143762042014.\u001b[0m\n"
     ]
    },
    {
     "name": "stdout",
     "output_type": "stream",
     "text": [
      "Early stopping, best iteration is:\n",
      "[26]\ttraining's l1: 1.93517\tvalid_1's l1: 2.29799\n",
      "[LightGBM] [Warning] feature_fraction is set=0.7369578651679498, colsample_bytree=0.5 will be ignored. Current value: feature_fraction=0.7369578651679498\n",
      "[LightGBM] [Warning] bagging_fraction is set=0.6900539105990156, subsample=0.7 will be ignored. Current value: bagging_fraction=0.6900539105990156\n",
      "[LightGBM] [Warning] bagging_freq is set=1, subsample_freq=0 will be ignored. Current value: bagging_freq=1\n",
      "Training until validation scores don't improve for 100 rounds\n",
      "[100]\ttraining's l1: 1.9109\tvalid_1's l1: 2.2986\n"
     ]
    },
    {
     "name": "stderr",
     "output_type": "stream",
     "text": [
      "\u001b[32m[I 2021-07-11 00:58:08,955]\u001b[0m Trial 12 finished with value: -2.298392482917802 and parameters: {'max_depth': 5, 'min_child_weight': 1, 'subsample': 0.7, 'colsample_bytree': 0.5, 'reg_lambda': 12.618230756135894, 'reg_alpha': 0.001319331093689284, 'feature_fraction': 0.7369578651679498, 'bagging_fraction': 0.6900539105990156, 'bagging_freq': 1, 'num_leaves': 979, 'min_child_samples': 35}. Best is trial 5 with value: -2.296143762042014.\u001b[0m\n"
     ]
    },
    {
     "name": "stdout",
     "output_type": "stream",
     "text": [
      "[200]\ttraining's l1: 1.894\tvalid_1's l1: 2.30376\n",
      "Early stopping, best iteration is:\n",
      "[102]\ttraining's l1: 1.91079\tvalid_1's l1: 2.2984\n",
      "[LightGBM] [Warning] feature_fraction is set=0.4399105307557109, colsample_bytree=0.6 will be ignored. Current value: feature_fraction=0.4399105307557109\n",
      "[LightGBM] [Warning] bagging_fraction is set=0.5004025143060108, subsample=0.8 will be ignored. Current value: bagging_fraction=0.5004025143060108\n",
      "[LightGBM] [Warning] bagging_freq is set=1, subsample_freq=0 will be ignored. Current value: bagging_freq=1\n",
      "Training until validation scores don't improve for 100 rounds\n",
      "[100]\ttraining's l1: 1.93057\tvalid_1's l1: 2.34192\n",
      "[200]\ttraining's l1: 1.91316\tvalid_1's l1: 2.33859\n",
      "[300]\ttraining's l1: 1.90562\tvalid_1's l1: 2.33768\n",
      "[400]\ttraining's l1: 1.90073\tvalid_1's l1: 2.33708\n"
     ]
    },
    {
     "name": "stderr",
     "output_type": "stream",
     "text": [
      "\u001b[32m[I 2021-07-11 00:58:21,255]\u001b[0m Trial 13 finished with value: -2.3362194394028606 and parameters: {'max_depth': 6, 'min_child_weight': 8, 'subsample': 0.8, 'colsample_bytree': 0.6, 'reg_lambda': 0.07265512306806779, 'reg_alpha': 684.3705569987668, 'feature_fraction': 0.4399105307557109, 'bagging_fraction': 0.5004025143060108, 'bagging_freq': 1, 'num_leaves': 743, 'min_child_samples': 36}. Best is trial 5 with value: -2.296143762042014.\u001b[0m\n"
     ]
    },
    {
     "name": "stdout",
     "output_type": "stream",
     "text": [
      "Early stopping, best iteration is:\n",
      "[371]\ttraining's l1: 1.90201\tvalid_1's l1: 2.33622\n",
      "[LightGBM] [Warning] feature_fraction is set=0.7475960009192083, colsample_bytree=0.6 will be ignored. Current value: feature_fraction=0.7475960009192083\n",
      "[LightGBM] [Warning] bagging_fraction is set=0.752264374171603, subsample=0.6 will be ignored. Current value: bagging_fraction=0.752264374171603\n",
      "[LightGBM] [Warning] bagging_freq is set=8, subsample_freq=0 will be ignored. Current value: bagging_freq=8\n",
      "Training until validation scores don't improve for 100 rounds\n",
      "[100]\ttraining's l1: 1.78277\tvalid_1's l1: 2.37124\n"
     ]
    },
    {
     "name": "stderr",
     "output_type": "stream",
     "text": [
      "\u001b[32m[I 2021-07-11 00:58:28,059]\u001b[0m Trial 14 finished with value: -2.297781143470659 and parameters: {'max_depth': 12, 'min_child_weight': 4, 'subsample': 0.6, 'colsample_bytree': 0.6, 'reg_lambda': 13.753026801238793, 'reg_alpha': 0.48187106234709315, 'feature_fraction': 0.7475960009192083, 'bagging_fraction': 0.752264374171603, 'bagging_freq': 8, 'num_leaves': 270, 'min_child_samples': 99}. Best is trial 5 with value: -2.296143762042014.\u001b[0m\n"
     ]
    },
    {
     "name": "stdout",
     "output_type": "stream",
     "text": [
      "Early stopping, best iteration is:\n",
      "[20]\ttraining's l1: 1.9168\tvalid_1's l1: 2.29778\n",
      "[LightGBM] [Warning] feature_fraction is set=0.9889713577127176, colsample_bytree=0.8 will be ignored. Current value: feature_fraction=0.9889713577127176\n",
      "[LightGBM] [Warning] bagging_fraction is set=0.7876256735804901, subsample=0.6 will be ignored. Current value: bagging_fraction=0.7876256735804901\n",
      "[LightGBM] [Warning] bagging_freq is set=8, subsample_freq=0 will be ignored. Current value: bagging_freq=8\n",
      "Training until validation scores don't improve for 100 rounds\n",
      "[100]\ttraining's l1: 1.81477\tvalid_1's l1: 2.36723\n"
     ]
    },
    {
     "name": "stderr",
     "output_type": "stream",
     "text": [
      "\u001b[32m[I 2021-07-11 00:58:34,670]\u001b[0m Trial 15 finished with value: -2.306773705278533 and parameters: {'max_depth': 12, 'min_child_weight': 5, 'subsample': 0.6, 'colsample_bytree': 0.8, 'reg_lambda': 1.424174200337141, 'reg_alpha': 0.6487045741831006, 'feature_fraction': 0.9889713577127176, 'bagging_fraction': 0.7876256735804901, 'bagging_freq': 8, 'num_leaves': 140, 'min_child_samples': 98}. Best is trial 5 with value: -2.296143762042014.\u001b[0m\n"
     ]
    },
    {
     "name": "stdout",
     "output_type": "stream",
     "text": [
      "Early stopping, best iteration is:\n",
      "[19]\ttraining's l1: 1.94442\tvalid_1's l1: 2.30677\n",
      "[LightGBM] [Warning] feature_fraction is set=0.5953868904617222, colsample_bytree=0.6 will be ignored. Current value: feature_fraction=0.5953868904617222\n",
      "[LightGBM] [Warning] bagging_fraction is set=0.5269996794242656, subsample=0.5 will be ignored. Current value: bagging_fraction=0.5269996794242656\n",
      "[LightGBM] [Warning] bagging_freq is set=11, subsample_freq=0 will be ignored. Current value: bagging_freq=11\n",
      "Training until validation scores don't improve for 100 rounds\n",
      "[100]\ttraining's l1: 1.81216\tvalid_1's l1: 2.37721\n"
     ]
    },
    {
     "name": "stderr",
     "output_type": "stream",
     "text": [
      "\u001b[32m[I 2021-07-11 00:58:42,200]\u001b[0m Trial 16 finished with value: -2.330013392384189 and parameters: {'max_depth': 17, 'min_child_weight': 8, 'subsample': 0.5, 'colsample_bytree': 0.6, 'reg_lambda': 920.4592518105187, 'reg_alpha': 0.5940801164625698, 'feature_fraction': 0.5953868904617222, 'bagging_fraction': 0.5269996794242656, 'bagging_freq': 11, 'num_leaves': 270, 'min_child_samples': 85}. Best is trial 5 with value: -2.296143762042014.\u001b[0m\n"
     ]
    },
    {
     "name": "stdout",
     "output_type": "stream",
     "text": [
      "Early stopping, best iteration is:\n",
      "[23]\ttraining's l1: 1.96374\tvalid_1's l1: 2.33001\n",
      "[LightGBM] [Warning] feature_fraction is set=0.8483493671038276, colsample_bytree=0.9 will be ignored. Current value: feature_fraction=0.8483493671038276\n",
      "[LightGBM] [Warning] bagging_fraction is set=0.7812242694511728, subsample=0.6 will be ignored. Current value: bagging_fraction=0.7812242694511728\n",
      "[LightGBM] [Warning] bagging_freq is set=4, subsample_freq=0 will be ignored. Current value: bagging_freq=4\n",
      "Training until validation scores don't improve for 100 rounds\n",
      "[100]\ttraining's l1: 1.78671\tvalid_1's l1: 2.3609\n"
     ]
    },
    {
     "name": "stderr",
     "output_type": "stream",
     "text": [
      "\u001b[32m[I 2021-07-11 00:58:50,168]\u001b[0m Trial 17 finished with value: -2.3022103352345837 and parameters: {'max_depth': 11, 'min_child_weight': 3, 'subsample': 0.6, 'colsample_bytree': 0.9, 'reg_lambda': 0.0373941323726394, 'reg_alpha': 2.987437216115416, 'feature_fraction': 0.8483493671038276, 'bagging_fraction': 0.7812242694511728, 'bagging_freq': 4, 'num_leaves': 279, 'min_child_samples': 98}. Best is trial 5 with value: -2.296143762042014.\u001b[0m\n"
     ]
    },
    {
     "name": "stdout",
     "output_type": "stream",
     "text": [
      "Early stopping, best iteration is:\n",
      "[21]\ttraining's l1: 1.89544\tvalid_1's l1: 2.30221\n",
      "[LightGBM] [Warning] feature_fraction is set=0.39226487056147225, colsample_bytree=0.5 will be ignored. Current value: feature_fraction=0.39226487056147225\n",
      "[LightGBM] [Warning] bagging_fraction is set=0.5623438733844763, subsample=0.5 will be ignored. Current value: bagging_fraction=0.5623438733844763\n",
      "[LightGBM] [Warning] bagging_freq is set=7, subsample_freq=0 will be ignored. Current value: bagging_freq=7\n",
      "Training until validation scores don't improve for 100 rounds\n",
      "[100]\ttraining's l1: 1.7993\tvalid_1's l1: 2.36973\n"
     ]
    },
    {
     "name": "stderr",
     "output_type": "stream",
     "text": [
      "\u001b[32m[I 2021-07-11 00:58:56,244]\u001b[0m Trial 18 finished with value: -2.316177864602095 and parameters: {'max_depth': 13, 'min_child_weight': 7, 'subsample': 0.5, 'colsample_bytree': 0.5, 'reg_lambda': 4.978834643582152, 'reg_alpha': 0.15636777283138276, 'feature_fraction': 0.39226487056147225, 'bagging_fraction': 0.5623438733844763, 'bagging_freq': 7, 'num_leaves': 272, 'min_child_samples': 90}. Best is trial 5 with value: -2.296143762042014.\u001b[0m\n"
     ]
    },
    {
     "name": "stdout",
     "output_type": "stream",
     "text": [
      "Early stopping, best iteration is:\n",
      "[22]\ttraining's l1: 1.95195\tvalid_1's l1: 2.31618\n",
      "[LightGBM] [Warning] feature_fraction is set=0.6517763328598959, colsample_bytree=0.7 will be ignored. Current value: feature_fraction=0.6517763328598959\n",
      "[LightGBM] [Warning] bagging_fraction is set=0.43181035463912754, subsample=0.8 will be ignored. Current value: bagging_fraction=0.43181035463912754\n",
      "[LightGBM] [Warning] bagging_freq is set=10, subsample_freq=0 will be ignored. Current value: bagging_freq=10\n",
      "Training until validation scores don't improve for 100 rounds\n",
      "[100]\ttraining's l1: 1.8119\tvalid_1's l1: 2.34598\n"
     ]
    },
    {
     "name": "stderr",
     "output_type": "stream",
     "text": [
      "\u001b[32m[I 2021-07-11 00:59:01,073]\u001b[0m Trial 19 finished with value: -2.2930420905760136 and parameters: {'max_depth': 17, 'min_child_weight': 10, 'subsample': 0.8, 'colsample_bytree': 0.7, 'reg_lambda': 0.26767645932996503, 'reg_alpha': 4.0752512536851295, 'feature_fraction': 0.6517763328598959, 'bagging_fraction': 0.43181035463912754, 'bagging_freq': 10, 'num_leaves': 176, 'min_child_samples': 75}. Best is trial 19 with value: -2.2930420905760136.\u001b[0m\n"
     ]
    },
    {
     "name": "stdout",
     "output_type": "stream",
     "text": [
      "Early stopping, best iteration is:\n",
      "[22]\ttraining's l1: 1.92535\tvalid_1's l1: 2.29304\n",
      "[LightGBM] [Warning] feature_fraction is set=0.6298339461821311, colsample_bytree=0.8 will be ignored. Current value: feature_fraction=0.6298339461821311\n",
      "[LightGBM] [Warning] bagging_fraction is set=0.43427878823721666, subsample=0.8 will be ignored. Current value: bagging_fraction=0.43427878823721666\n",
      "[LightGBM] [Warning] bagging_freq is set=15, subsample_freq=0 will be ignored. Current value: bagging_freq=15\n",
      "Training until validation scores don't improve for 100 rounds\n",
      "[100]\ttraining's l1: 1.92014\tvalid_1's l1: 2.31025\n"
     ]
    },
    {
     "name": "stderr",
     "output_type": "stream",
     "text": [
      "\u001b[32m[I 2021-07-11 00:59:04,868]\u001b[0m Trial 20 finished with value: -2.305256229023493 and parameters: {'max_depth': 20, 'min_child_weight': 10, 'subsample': 0.8, 'colsample_bytree': 0.8, 'reg_lambda': 0.0012106494713921962, 'reg_alpha': 7.3765243692809745, 'feature_fraction': 0.6298339461821311, 'bagging_fraction': 0.43427878823721666, 'bagging_freq': 15, 'num_leaves': 20, 'min_child_samples': 77}. Best is trial 19 with value: -2.2930420905760136.\u001b[0m\n"
     ]
    },
    {
     "name": "stdout",
     "output_type": "stream",
     "text": [
      "Early stopping, best iteration is:\n",
      "[28]\ttraining's l1: 1.99997\tvalid_1's l1: 2.30526\n",
      "[LightGBM] [Warning] feature_fraction is set=0.782230176681847, colsample_bytree=0.7 will be ignored. Current value: feature_fraction=0.782230176681847\n",
      "[LightGBM] [Warning] bagging_fraction is set=0.2126012646052435, subsample=0.8 will be ignored. Current value: bagging_fraction=0.2126012646052435\n",
      "[LightGBM] [Warning] bagging_freq is set=11, subsample_freq=0 will be ignored. Current value: bagging_freq=11\n",
      "Training until validation scores don't improve for 100 rounds\n",
      "[100]\ttraining's l1: 1.8154\tvalid_1's l1: 2.36854\n"
     ]
    },
    {
     "name": "stderr",
     "output_type": "stream",
     "text": [
      "\u001b[32m[I 2021-07-11 00:59:08,976]\u001b[0m Trial 21 finished with value: -2.292266006708875 and parameters: {'max_depth': 17, 'min_child_weight': 10, 'subsample': 0.8, 'colsample_bytree': 0.7, 'reg_lambda': 0.3333908389377955, 'reg_alpha': 0.2189560699444079, 'feature_fraction': 0.782230176681847, 'bagging_fraction': 0.2126012646052435, 'bagging_freq': 11, 'num_leaves': 181, 'min_child_samples': 91}. Best is trial 21 with value: -2.292266006708875.\u001b[0m\n"
     ]
    },
    {
     "name": "stdout",
     "output_type": "stream",
     "text": [
      "Early stopping, best iteration is:\n",
      "[20]\ttraining's l1: 1.93094\tvalid_1's l1: 2.29227\n",
      "[LightGBM] [Warning] feature_fraction is set=0.5569339118057808, colsample_bytree=0.7 will be ignored. Current value: feature_fraction=0.5569339118057808\n",
      "[LightGBM] [Warning] bagging_fraction is set=0.28879387653387456, subsample=0.8 will be ignored. Current value: bagging_fraction=0.28879387653387456\n",
      "[LightGBM] [Warning] bagging_freq is set=11, subsample_freq=0 will be ignored. Current value: bagging_freq=11\n",
      "Training until validation scores don't improve for 100 rounds\n",
      "[100]\ttraining's l1: 1.82449\tvalid_1's l1: 2.34828\n"
     ]
    },
    {
     "name": "stderr",
     "output_type": "stream",
     "text": [
      "\u001b[32m[I 2021-07-11 00:59:13,841]\u001b[0m Trial 22 finished with value: -2.2977818660768663 and parameters: {'max_depth': 18, 'min_child_weight': 10, 'subsample': 0.8, 'colsample_bytree': 0.7, 'reg_lambda': 0.29614541076180273, 'reg_alpha': 2.568479441713762, 'feature_fraction': 0.5569339118057808, 'bagging_fraction': 0.28879387653387456, 'bagging_freq': 11, 'num_leaves': 155, 'min_child_samples': 75}. Best is trial 21 with value: -2.292266006708875.\u001b[0m\n"
     ]
    },
    {
     "name": "stdout",
     "output_type": "stream",
     "text": [
      "Early stopping, best iteration is:\n",
      "[26]\ttraining's l1: 1.91707\tvalid_1's l1: 2.29778\n",
      "[LightGBM] [Warning] feature_fraction is set=0.6651927488605407, colsample_bytree=0.7 will be ignored. Current value: feature_fraction=0.6651927488605407\n",
      "[LightGBM] [Warning] bagging_fraction is set=0.20078092690669183, subsample=0.8 will be ignored. Current value: bagging_fraction=0.20078092690669183\n",
      "[LightGBM] [Warning] bagging_freq is set=12, subsample_freq=0 will be ignored. Current value: bagging_freq=12\n",
      "Training until validation scores don't improve for 100 rounds\n",
      "[100]\ttraining's l1: 1.91704\tvalid_1's l1: 2.30948\n"
     ]
    },
    {
     "name": "stderr",
     "output_type": "stream",
     "text": [
      "\u001b[32m[I 2021-07-11 00:59:16,844]\u001b[0m Trial 23 finished with value: -2.3001525270032617 and parameters: {'max_depth': 16, 'min_child_weight': 11, 'subsample': 0.8, 'colsample_bytree': 0.7, 'reg_lambda': 0.07641845971601192, 'reg_alpha': 0.11894744914926986, 'feature_fraction': 0.6651927488605407, 'bagging_fraction': 0.20078092690669183, 'bagging_freq': 12, 'num_leaves': 23, 'min_child_samples': 54}. Best is trial 21 with value: -2.292266006708875.\u001b[0m\n"
     ]
    },
    {
     "name": "stdout",
     "output_type": "stream",
     "text": [
      "Early stopping, best iteration is:\n",
      "[61]\ttraining's l1: 1.94404\tvalid_1's l1: 2.30015\n",
      "[LightGBM] [Warning] feature_fraction is set=0.8287031735097177, colsample_bytree=0.8 will be ignored. Current value: feature_fraction=0.8287031735097177\n",
      "[LightGBM] [Warning] bagging_fraction is set=0.3920232373256538, subsample=0.7 will be ignored. Current value: bagging_fraction=0.3920232373256538\n",
      "[LightGBM] [Warning] bagging_freq is set=16, subsample_freq=0 will be ignored. Current value: bagging_freq=16\n",
      "Training until validation scores don't improve for 100 rounds\n",
      "[100]\ttraining's l1: 1.77242\tvalid_1's l1: 2.40258\n"
     ]
    },
    {
     "name": "stderr",
     "output_type": "stream",
     "text": [
      "\u001b[32m[I 2021-07-11 00:59:24,034]\u001b[0m Trial 24 finished with value: -2.3059161982879885 and parameters: {'max_depth': 19, 'min_child_weight': 7, 'subsample': 0.7, 'colsample_bytree': 0.8, 'reg_lambda': 0.013967569943982681, 'reg_alpha': 0.007207614065351164, 'feature_fraction': 0.8287031735097177, 'bagging_fraction': 0.3920232373256538, 'bagging_freq': 16, 'num_leaves': 368, 'min_child_samples': 90}. Best is trial 21 with value: -2.292266006708875.\u001b[0m\n"
     ]
    },
    {
     "name": "stdout",
     "output_type": "stream",
     "text": [
      "Early stopping, best iteration is:\n",
      "[18]\ttraining's l1: 1.91496\tvalid_1's l1: 2.30592\n",
      "[LightGBM] [Warning] feature_fraction is set=0.5083743101361039, colsample_bytree=0.7 will be ignored. Current value: feature_fraction=0.5083743101361039\n",
      "[LightGBM] [Warning] bagging_fraction is set=0.20145866950510374, subsample=0.8 will be ignored. Current value: bagging_fraction=0.20145866950510374\n",
      "[LightGBM] [Warning] bagging_freq is set=10, subsample_freq=0 will be ignored. Current value: bagging_freq=10\n",
      "Training until validation scores don't improve for 100 rounds\n",
      "[100]\ttraining's l1: 1.89662\tvalid_1's l1: 2.34113\n"
     ]
    },
    {
     "name": "stderr",
     "output_type": "stream",
     "text": [
      "\u001b[32m[I 2021-07-11 00:59:27,945]\u001b[0m Trial 25 finished with value: -2.3250910923445014 and parameters: {'max_depth': 16, 'min_child_weight': 10, 'subsample': 0.8, 'colsample_bytree': 0.7, 'reg_lambda': 0.3813715728778508, 'reg_alpha': 195.6224863664051, 'feature_fraction': 0.5083743101361039, 'bagging_fraction': 0.20145866950510374, 'bagging_freq': 10, 'num_leaves': 184, 'min_child_samples': 91}. Best is trial 21 with value: -2.292266006708875.\u001b[0m\n"
     ]
    },
    {
     "name": "stdout",
     "output_type": "stream",
     "text": [
      "Early stopping, best iteration is:\n",
      "[35]\ttraining's l1: 1.96776\tvalid_1's l1: 2.32509\n",
      "[LightGBM] [Warning] feature_fraction is set=0.8043704459807339, colsample_bytree=0.8 will be ignored. Current value: feature_fraction=0.8043704459807339\n",
      "[LightGBM] [Warning] bagging_fraction is set=0.3336556828914613, subsample=0.9 will be ignored. Current value: bagging_fraction=0.3336556828914613\n",
      "[LightGBM] [Warning] bagging_freq is set=3, subsample_freq=0 will be ignored. Current value: bagging_freq=3\n",
      "Training until validation scores don't improve for 100 rounds\n",
      "[100]\ttraining's l1: 1.77554\tvalid_1's l1: 2.38537\n"
     ]
    },
    {
     "name": "stderr",
     "output_type": "stream",
     "text": [
      "\u001b[32m[I 2021-07-11 00:59:34,122]\u001b[0m Trial 26 finished with value: -2.2977721076028934 and parameters: {'max_depth': 15, 'min_child_weight': 15, 'subsample': 0.9, 'colsample_bytree': 0.8, 'reg_lambda': 0.9677782385132108, 'reg_alpha': 0.1626570544954286, 'feature_fraction': 0.8043704459807339, 'bagging_fraction': 0.3336556828914613, 'bagging_freq': 3, 'num_leaves': 361, 'min_child_samples': 74}. Best is trial 21 with value: -2.292266006708875.\u001b[0m\n"
     ]
    },
    {
     "name": "stdout",
     "output_type": "stream",
     "text": [
      "Early stopping, best iteration is:\n",
      "[20]\ttraining's l1: 1.89851\tvalid_1's l1: 2.29777\n",
      "[LightGBM] [Warning] feature_fraction is set=0.9293362006035961, colsample_bytree=0.7 will be ignored. Current value: feature_fraction=0.9293362006035961\n",
      "[LightGBM] [Warning] bagging_fraction is set=0.24900284623774502, subsample=0.7 will be ignored. Current value: bagging_fraction=0.24900284623774502\n",
      "[LightGBM] [Warning] bagging_freq is set=10, subsample_freq=0 will be ignored. Current value: bagging_freq=10\n",
      "Training until validation scores don't improve for 100 rounds\n",
      "[100]\ttraining's l1: 1.86773\tvalid_1's l1: 2.3381\n"
     ]
    },
    {
     "name": "stderr",
     "output_type": "stream",
     "text": [
      "\u001b[32m[I 2021-07-11 00:59:37,819]\u001b[0m Trial 27 finished with value: -2.3041626264618746 and parameters: {'max_depth': 18, 'min_child_weight': 6, 'subsample': 0.7, 'colsample_bytree': 0.7, 'reg_lambda': 0.07384466553014582, 'reg_alpha': 3.1621308983082277, 'feature_fraction': 0.9293362006035961, 'bagging_fraction': 0.24900284623774502, 'bagging_freq': 10, 'num_leaves': 68, 'min_child_samples': 81}. Best is trial 21 with value: -2.292266006708875.\u001b[0m\n"
     ]
    },
    {
     "name": "stdout",
     "output_type": "stream",
     "text": [
      "Early stopping, best iteration is:\n",
      "[24]\ttraining's l1: 1.94966\tvalid_1's l1: 2.30416\n",
      "[LightGBM] [Warning] feature_fraction is set=0.6758753458095451, colsample_bytree=0.8 will be ignored. Current value: feature_fraction=0.6758753458095451\n",
      "[LightGBM] [Warning] bagging_fraction is set=0.48816066641922845, subsample=0.8 will be ignored. Current value: bagging_fraction=0.48816066641922845\n",
      "[LightGBM] [Warning] bagging_freq is set=13, subsample_freq=0 will be ignored. Current value: bagging_freq=13\n",
      "Training until validation scores don't improve for 100 rounds\n",
      "[100]\ttraining's l1: 1.80414\tvalid_1's l1: 2.35353\n"
     ]
    },
    {
     "name": "stderr",
     "output_type": "stream",
     "text": [
      "\u001b[32m[I 2021-07-11 00:59:42,607]\u001b[0m Trial 28 finished with value: -2.3012694656213055 and parameters: {'max_depth': 10, 'min_child_weight': 9, 'subsample': 0.8, 'colsample_bytree': 0.8, 'reg_lambda': 2.832814057123868, 'reg_alpha': 0.34788656311592964, 'feature_fraction': 0.6758753458095451, 'bagging_fraction': 0.48816066641922845, 'bagging_freq': 13, 'num_leaves': 214, 'min_child_samples': 90}. Best is trial 21 with value: -2.292266006708875.\u001b[0m\n"
     ]
    },
    {
     "name": "stdout",
     "output_type": "stream",
     "text": [
      "Early stopping, best iteration is:\n",
      "[23]\ttraining's l1: 1.9094\tvalid_1's l1: 2.30127\n",
      "[LightGBM] [Warning] feature_fraction is set=0.5407076027307203, colsample_bytree=0.8 will be ignored. Current value: feature_fraction=0.5407076027307203\n",
      "[LightGBM] [Warning] bagging_fraction is set=0.4630041374587825, subsample=0.7 will be ignored. Current value: bagging_fraction=0.4630041374587825\n",
      "[LightGBM] [Warning] bagging_freq is set=15, subsample_freq=0 will be ignored. Current value: bagging_freq=15\n",
      "Training until validation scores don't improve for 100 rounds\n",
      "[100]\ttraining's l1: 1.75444\tvalid_1's l1: 2.41396\n"
     ]
    },
    {
     "name": "stderr",
     "output_type": "stream",
     "text": [
      "\u001b[32m[I 2021-07-11 00:59:50,562]\u001b[0m Trial 29 finished with value: -2.3129392535764453 and parameters: {'max_depth': 15, 'min_child_weight': 12, 'subsample': 0.7, 'colsample_bytree': 0.8, 'reg_lambda': 0.9791656688063063, 'reg_alpha': 0.014768707904849968, 'feature_fraction': 0.5407076027307203, 'bagging_fraction': 0.4630041374587825, 'bagging_freq': 15, 'num_leaves': 626, 'min_child_samples': 69}. Best is trial 21 with value: -2.292266006708875.\u001b[0m\n"
     ]
    },
    {
     "name": "stdout",
     "output_type": "stream",
     "text": [
      "Early stopping, best iteration is:\n",
      "[18]\ttraining's l1: 1.93332\tvalid_1's l1: 2.31294\n",
      "[LightGBM] [Warning] feature_fraction is set=0.5930384069151302, colsample_bytree=0.9 will be ignored. Current value: feature_fraction=0.5930384069151302\n",
      "[LightGBM] [Warning] bagging_fraction is set=0.378640602869468, subsample=0.9 will be ignored. Current value: bagging_fraction=0.378640602869468\n",
      "[LightGBM] [Warning] bagging_freq is set=20, subsample_freq=0 will be ignored. Current value: bagging_freq=20\n",
      "Training until validation scores don't improve for 100 rounds\n",
      "[100]\ttraining's l1: 1.74896\tvalid_1's l1: 2.41921\n"
     ]
    },
    {
     "name": "stderr",
     "output_type": "stream",
     "text": [
      "\u001b[32m[I 2021-07-11 00:59:59,908]\u001b[0m Trial 30 finished with value: -2.3144161628711166 and parameters: {'max_depth': 18, 'min_child_weight': 15, 'subsample': 0.9, 'colsample_bytree': 0.9, 'reg_lambda': 0.0036735751290240476, 'reg_alpha': 6.424343468535968, 'feature_fraction': 0.5930384069151302, 'bagging_fraction': 0.378640602869468, 'bagging_freq': 20, 'num_leaves': 772, 'min_child_samples': 55}. Best is trial 21 with value: -2.292266006708875.\u001b[0m\n"
     ]
    },
    {
     "name": "stdout",
     "output_type": "stream",
     "text": [
      "Early stopping, best iteration is:\n",
      "[18]\ttraining's l1: 1.92813\tvalid_1's l1: 2.31442\n",
      "[LightGBM] [Warning] feature_fraction is set=0.7788004316781255, colsample_bytree=0.8 will be ignored. Current value: feature_fraction=0.7788004316781255\n",
      "[LightGBM] [Warning] bagging_fraction is set=0.3220571974615783, subsample=0.9 will be ignored. Current value: bagging_fraction=0.3220571974615783\n",
      "[LightGBM] [Warning] bagging_freq is set=3, subsample_freq=0 will be ignored. Current value: bagging_freq=3\n",
      "Training until validation scores don't improve for 100 rounds\n",
      "[100]\ttraining's l1: 1.77546\tvalid_1's l1: 2.39377\n"
     ]
    },
    {
     "name": "stderr",
     "output_type": "stream",
     "text": [
      "\u001b[32m[I 2021-07-11 01:00:05,900]\u001b[0m Trial 31 finished with value: -2.2961969457990934 and parameters: {'max_depth': 15, 'min_child_weight': 14, 'subsample': 0.9, 'colsample_bytree': 0.8, 'reg_lambda': 0.98837464236966, 'reg_alpha': 0.16729681169049776, 'feature_fraction': 0.7788004316781255, 'bagging_fraction': 0.3220571974615783, 'bagging_freq': 3, 'num_leaves': 370, 'min_child_samples': 72}. Best is trial 21 with value: -2.292266006708875.\u001b[0m\n"
     ]
    },
    {
     "name": "stdout",
     "output_type": "stream",
     "text": [
      "Early stopping, best iteration is:\n",
      "[18]\ttraining's l1: 1.92006\tvalid_1's l1: 2.2962\n",
      "[LightGBM] [Warning] feature_fraction is set=0.7920173750526952, colsample_bytree=0.7 will be ignored. Current value: feature_fraction=0.7920173750526952\n",
      "[LightGBM] [Warning] bagging_fraction is set=0.3082694535836888, subsample=0.9 will be ignored. Current value: bagging_fraction=0.3082694535836888\n",
      "[LightGBM] [Warning] bagging_freq is set=3, subsample_freq=0 will be ignored. Current value: bagging_freq=3\n",
      "Training until validation scores don't improve for 100 rounds\n",
      "[100]\ttraining's l1: 1.77839\tvalid_1's l1: 2.3891\n"
     ]
    },
    {
     "name": "stderr",
     "output_type": "stream",
     "text": [
      "\u001b[32m[I 2021-07-11 01:00:11,796]\u001b[0m Trial 32 finished with value: -2.301898026497714 and parameters: {'max_depth': 14, 'min_child_weight': 17, 'subsample': 0.9, 'colsample_bytree': 0.7, 'reg_lambda': 0.5506290142151429, 'reg_alpha': 1.4088128483222393, 'feature_fraction': 0.7920173750526952, 'bagging_fraction': 0.3082694535836888, 'bagging_freq': 3, 'num_leaves': 402, 'min_child_samples': 84}. Best is trial 21 with value: -2.292266006708875.\u001b[0m\n"
     ]
    },
    {
     "name": "stdout",
     "output_type": "stream",
     "text": [
      "Early stopping, best iteration is:\n",
      "[20]\ttraining's l1: 1.89463\tvalid_1's l1: 2.3019\n",
      "[LightGBM] [Warning] feature_fraction is set=0.8967157587314075, colsample_bytree=0.8 will be ignored. Current value: feature_fraction=0.8967157587314075\n",
      "[LightGBM] [Warning] bagging_fraction is set=0.26174652259728454, subsample=0.8 will be ignored. Current value: bagging_fraction=0.26174652259728454\n",
      "[LightGBM] [Warning] bagging_freq is set=6, subsample_freq=0 will be ignored. Current value: bagging_freq=6\n",
      "Training until validation scores don't improve for 100 rounds\n",
      "[100]\ttraining's l1: 1.78737\tvalid_1's l1: 2.38774\n"
     ]
    },
    {
     "name": "stderr",
     "output_type": "stream",
     "text": [
      "\u001b[32m[I 2021-07-11 01:00:17,627]\u001b[0m Trial 33 finished with value: -2.2997406399138653 and parameters: {'max_depth': 13, 'min_child_weight': 13, 'subsample': 0.8, 'colsample_bytree': 0.8, 'reg_lambda': 0.14826566673853128, 'reg_alpha': 0.24064413593964845, 'feature_fraction': 0.8967157587314075, 'bagging_fraction': 0.26174652259728454, 'bagging_freq': 6, 'num_leaves': 333, 'min_child_samples': 71}. Best is trial 21 with value: -2.292266006708875.\u001b[0m\n"
     ]
    },
    {
     "name": "stdout",
     "output_type": "stream",
     "text": [
      "Early stopping, best iteration is:\n",
      "[18]\ttraining's l1: 1.92003\tvalid_1's l1: 2.29974\n",
      "[LightGBM] [Warning] feature_fraction is set=0.6774267838790159, colsample_bytree=0.9 will be ignored. Current value: feature_fraction=0.6774267838790159\n",
      "[LightGBM] [Warning] bagging_fraction is set=0.41751756494848113, subsample=0.9 will be ignored. Current value: bagging_fraction=0.41751756494848113\n",
      "[LightGBM] [Warning] bagging_freq is set=3, subsample_freq=0 will be ignored. Current value: bagging_freq=3\n",
      "Training until validation scores don't improve for 100 rounds\n",
      "[100]\ttraining's l1: 1.76216\tvalid_1's l1: 2.39123\n"
     ]
    },
    {
     "name": "stderr",
     "output_type": "stream",
     "text": [
      "\u001b[32m[I 2021-07-11 01:00:24,504]\u001b[0m Trial 34 finished with value: -2.297082399053058 and parameters: {'max_depth': 17, 'min_child_weight': 14, 'subsample': 0.9, 'colsample_bytree': 0.9, 'reg_lambda': 0.029719538023739344, 'reg_alpha': 0.08546563397805408, 'feature_fraction': 0.6774267838790159, 'bagging_fraction': 0.41751756494848113, 'bagging_freq': 3, 'num_leaves': 443, 'min_child_samples': 80}. Best is trial 21 with value: -2.292266006708875.\u001b[0m\n"
     ]
    },
    {
     "name": "stdout",
     "output_type": "stream",
     "text": [
      "Early stopping, best iteration is:\n",
      "[20]\ttraining's l1: 1.90283\tvalid_1's l1: 2.29708\n",
      "[LightGBM] [Warning] feature_fraction is set=0.7744512557221452, colsample_bytree=0.7 will be ignored. Current value: feature_fraction=0.7744512557221452\n",
      "[LightGBM] [Warning] bagging_fraction is set=0.26654973243525304, subsample=0.9 will be ignored. Current value: bagging_fraction=0.26654973243525304\n",
      "[LightGBM] [Warning] bagging_freq is set=6, subsample_freq=0 will be ignored. Current value: bagging_freq=6\n",
      "Training until validation scores don't improve for 100 rounds\n",
      "[100]\ttraining's l1: 1.75843\tvalid_1's l1: 2.41542\n"
     ]
    },
    {
     "name": "stderr",
     "output_type": "stream",
     "text": [
      "\u001b[32m[I 2021-07-11 01:00:31,132]\u001b[0m Trial 35 finished with value: -2.3031881038864785 and parameters: {'max_depth': 19, 'min_child_weight': 17, 'subsample': 0.9, 'colsample_bytree': 0.7, 'reg_lambda': 2.3962688508509067, 'reg_alpha': 0.04719883971127345, 'feature_fraction': 0.7744512557221452, 'bagging_fraction': 0.26654973243525304, 'bagging_freq': 6, 'num_leaves': 561, 'min_child_samples': 59}. Best is trial 21 with value: -2.292266006708875.\u001b[0m\n"
     ]
    },
    {
     "name": "stdout",
     "output_type": "stream",
     "text": [
      "Early stopping, best iteration is:\n",
      "[17]\ttraining's l1: 1.92147\tvalid_1's l1: 2.30319\n",
      "[LightGBM] [Warning] feature_fraction is set=0.876871549597905, colsample_bytree=0.7 will be ignored. Current value: feature_fraction=0.876871549597905\n",
      "[LightGBM] [Warning] bagging_fraction is set=0.3480597981570116, subsample=0.8 will be ignored. Current value: bagging_fraction=0.3480597981570116\n",
      "[LightGBM] [Warning] bagging_freq is set=5, subsample_freq=0 will be ignored. Current value: bagging_freq=5\n",
      "Training until validation scores don't improve for 100 rounds\n",
      "[100]\ttraining's l1: 1.79967\tvalid_1's l1: 2.37282\n"
     ]
    },
    {
     "name": "stderr",
     "output_type": "stream",
     "text": [
      "\u001b[32m[I 2021-07-11 01:00:36,852]\u001b[0m Trial 36 finished with value: -2.309116336319059 and parameters: {'max_depth': 14, 'min_child_weight': 12, 'subsample': 0.8, 'colsample_bytree': 0.7, 'reg_lambda': 0.19301801278495406, 'reg_alpha': 0.02636850581733703, 'feature_fraction': 0.876871549597905, 'bagging_fraction': 0.3480597981570116, 'bagging_freq': 5, 'num_leaves': 207, 'min_child_samples': 68}. Best is trial 21 with value: -2.292266006708875.\u001b[0m\n"
     ]
    },
    {
     "name": "stdout",
     "output_type": "stream",
     "text": [
      "Early stopping, best iteration is:\n",
      "[20]\ttraining's l1: 1.92033\tvalid_1's l1: 2.30912\n",
      "[LightGBM] [Warning] feature_fraction is set=0.5017965425942491, colsample_bytree=0.8 will be ignored. Current value: feature_fraction=0.5017965425942491\n",
      "[LightGBM] [Warning] bagging_fraction is set=0.20673352949942386, subsample=0.9 will be ignored. Current value: bagging_fraction=0.20673352949942386\n",
      "[LightGBM] [Warning] bagging_freq is set=9, subsample_freq=0 will be ignored. Current value: bagging_freq=9\n",
      "Training until validation scores don't improve for 100 rounds\n",
      "[100]\ttraining's l1: 1.85357\tvalid_1's l1: 2.33962\n"
     ]
    },
    {
     "name": "stderr",
     "output_type": "stream",
     "text": [
      "\u001b[32m[I 2021-07-11 01:00:40,596]\u001b[0m Trial 37 finished with value: -2.2925441593778664 and parameters: {'max_depth': 15, 'min_child_weight': 19, 'subsample': 0.9, 'colsample_bytree': 0.8, 'reg_lambda': 0.6277909770732912, 'reg_alpha': 1.443648314719307, 'feature_fraction': 0.5017965425942491, 'bagging_fraction': 0.20673352949942386, 'bagging_freq': 9, 'num_leaves': 99, 'min_child_samples': 87}. Best is trial 21 with value: -2.292266006708875.\u001b[0m\n"
     ]
    },
    {
     "name": "stdout",
     "output_type": "stream",
     "text": [
      "Early stopping, best iteration is:\n",
      "[26]\ttraining's l1: 1.94919\tvalid_1's l1: 2.29254\n",
      "[LightGBM] [Warning] feature_fraction is set=0.480451700489664, colsample_bytree=0.7 will be ignored. Current value: feature_fraction=0.480451700489664\n",
      "[LightGBM] [Warning] bagging_fraction is set=0.20442541869770334, subsample=0.5 will be ignored. Current value: bagging_fraction=0.20442541869770334\n",
      "[LightGBM] [Warning] bagging_freq is set=12, subsample_freq=0 will be ignored. Current value: bagging_freq=12\n",
      "Training until validation scores don't improve for 100 rounds\n",
      "[100]\ttraining's l1: 1.85679\tvalid_1's l1: 2.33246\n"
     ]
    },
    {
     "name": "stderr",
     "output_type": "stream",
     "text": [
      "\u001b[32m[I 2021-07-11 01:00:44,290]\u001b[0m Trial 38 finished with value: -2.306786088903992 and parameters: {'max_depth': 11, 'min_child_weight': 20, 'subsample': 0.5, 'colsample_bytree': 0.7, 'reg_lambda': 0.10643331802244865, 'reg_alpha': 9.988259527049749, 'feature_fraction': 0.480451700489664, 'bagging_fraction': 0.20442541869770334, 'bagging_freq': 12, 'num_leaves': 98, 'min_child_samples': 94}. Best is trial 21 with value: -2.292266006708875.\u001b[0m\n"
     ]
    },
    {
     "name": "stdout",
     "output_type": "stream",
     "text": [
      "Early stopping, best iteration is:\n",
      "[31]\ttraining's l1: 1.93541\tvalid_1's l1: 2.30679\n",
      "[LightGBM] [Warning] feature_fraction is set=0.4077847680396026, colsample_bytree=0.8 will be ignored. Current value: feature_fraction=0.4077847680396026\n",
      "[LightGBM] [Warning] bagging_fraction is set=0.23276507741017013, subsample=0.8 will be ignored. Current value: bagging_fraction=0.23276507741017013\n",
      "[LightGBM] [Warning] bagging_freq is set=9, subsample_freq=0 will be ignored. Current value: bagging_freq=9\n",
      "Training until validation scores don't improve for 100 rounds\n",
      "[100]\ttraining's l1: 1.89718\tvalid_1's l1: 2.319\n"
     ]
    },
    {
     "name": "stderr",
     "output_type": "stream",
     "text": [
      "\u001b[32m[I 2021-07-11 01:00:47,660]\u001b[0m Trial 39 finished with value: -2.3064083905526527 and parameters: {'max_depth': 9, 'min_child_weight': 9, 'subsample': 0.8, 'colsample_bytree': 0.8, 'reg_lambda': 0.02964240100068268, 'reg_alpha': 64.02801583618215, 'feature_fraction': 0.4077847680396026, 'bagging_fraction': 0.23276507741017013, 'bagging_freq': 9, 'num_leaves': 51, 'min_child_samples': 84}. Best is trial 21 with value: -2.292266006708875.\u001b[0m\n"
     ]
    },
    {
     "name": "stdout",
     "output_type": "stream",
     "text": [
      "Early stopping, best iteration is:\n",
      "[38]\ttraining's l1: 1.95412\tvalid_1's l1: 2.30641\n",
      "[LightGBM] [Warning] feature_fraction is set=0.3791298752890362, colsample_bytree=0.9 will be ignored. Current value: feature_fraction=0.3791298752890362\n",
      "[LightGBM] [Warning] bagging_fraction is set=0.613452974401222, subsample=0.7 will be ignored. Current value: bagging_fraction=0.613452974401222\n",
      "[LightGBM] [Warning] bagging_freq is set=14, subsample_freq=0 will be ignored. Current value: bagging_freq=14\n",
      "Training until validation scores don't improve for 100 rounds\n",
      "[100]\ttraining's l1: 1.85453\tvalid_1's l1: 2.33432\n"
     ]
    },
    {
     "name": "stderr",
     "output_type": "stream",
     "text": [
      "\u001b[32m[I 2021-07-11 01:00:53,151]\u001b[0m Trial 40 finished with value: -2.3167857116513275 and parameters: {'max_depth': 17, 'min_child_weight': 3, 'subsample': 0.7, 'colsample_bytree': 0.9, 'reg_lambda': 0.5505025775164243, 'reg_alpha': 1.5507672219727882, 'feature_fraction': 0.3791298752890362, 'bagging_fraction': 0.613452974401222, 'bagging_freq': 14, 'num_leaves': 109, 'min_child_samples': 94}. Best is trial 21 with value: -2.292266006708875.\u001b[0m\n"
     ]
    },
    {
     "name": "stdout",
     "output_type": "stream",
     "text": [
      "Early stopping, best iteration is:\n",
      "[44]\ttraining's l1: 1.91783\tvalid_1's l1: 2.31679\n",
      "[LightGBM] [Warning] feature_fraction is set=0.5619906826930939, colsample_bytree=0.8 will be ignored. Current value: feature_fraction=0.5619906826930939\n",
      "[LightGBM] [Warning] bagging_fraction is set=0.30251492924288526, subsample=0.9 will be ignored. Current value: bagging_fraction=0.30251492924288526\n",
      "[LightGBM] [Warning] bagging_freq is set=8, subsample_freq=0 will be ignored. Current value: bagging_freq=8\n",
      "Training until validation scores don't improve for 100 rounds\n",
      "[100]\ttraining's l1: 1.80525\tvalid_1's l1: 2.35496\n"
     ]
    },
    {
     "name": "stderr",
     "output_type": "stream",
     "text": [
      "\u001b[32m[I 2021-07-11 01:00:58,468]\u001b[0m Trial 41 finished with value: -2.2942731875147993 and parameters: {'max_depth': 15, 'min_child_weight': 19, 'subsample': 0.9, 'colsample_bytree': 0.8, 'reg_lambda': 1.4992274547627629, 'reg_alpha': 0.29401686671342897, 'feature_fraction': 0.5619906826930939, 'bagging_fraction': 0.30251492924288526, 'bagging_freq': 8, 'num_leaves': 218, 'min_child_samples': 77}. Best is trial 21 with value: -2.292266006708875.\u001b[0m\n"
     ]
    },
    {
     "name": "stdout",
     "output_type": "stream",
     "text": [
      "Early stopping, best iteration is:\n",
      "[22]\ttraining's l1: 1.92305\tvalid_1's l1: 2.29427\n",
      "[LightGBM] [Warning] feature_fraction is set=0.5644982463073804, colsample_bytree=0.8 will be ignored. Current value: feature_fraction=0.5644982463073804\n",
      "[LightGBM] [Warning] bagging_fraction is set=0.28539911932076323, subsample=0.9 will be ignored. Current value: bagging_fraction=0.28539911932076323\n",
      "[LightGBM] [Warning] bagging_freq is set=9, subsample_freq=0 will be ignored. Current value: bagging_freq=9\n",
      "Training until validation scores don't improve for 100 rounds\n",
      "[100]\ttraining's l1: 1.81963\tvalid_1's l1: 2.35057\n"
     ]
    },
    {
     "name": "stderr",
     "output_type": "stream",
     "text": [
      "\u001b[32m[I 2021-07-11 01:01:03,215]\u001b[0m Trial 42 finished with value: -2.293023840445877 and parameters: {'max_depth': 13, 'min_child_weight': 19, 'subsample': 0.9, 'colsample_bytree': 0.8, 'reg_lambda': 5.099440397748776, 'reg_alpha': 0.41147465636760266, 'feature_fraction': 0.5644982463073804, 'bagging_fraction': 0.28539911932076323, 'bagging_freq': 9, 'num_leaves': 165, 'min_child_samples': 87}. Best is trial 21 with value: -2.292266006708875.\u001b[0m\n"
     ]
    },
    {
     "name": "stdout",
     "output_type": "stream",
     "text": [
      "Early stopping, best iteration is:\n",
      "[22]\ttraining's l1: 1.93802\tvalid_1's l1: 2.29302\n",
      "[LightGBM] [Warning] feature_fraction is set=0.5127651749723156, colsample_bytree=0.8 will be ignored. Current value: feature_fraction=0.5127651749723156\n",
      "[LightGBM] [Warning] bagging_fraction is set=0.2970069914280248, subsample=0.9 will be ignored. Current value: bagging_fraction=0.2970069914280248\n",
      "[LightGBM] [Warning] bagging_freq is set=9, subsample_freq=0 will be ignored. Current value: bagging_freq=9\n",
      "Training until validation scores don't improve for 100 rounds\n",
      "[100]\ttraining's l1: 1.81091\tvalid_1's l1: 2.35742\n"
     ]
    },
    {
     "name": "stderr",
     "output_type": "stream",
     "text": [
      "\u001b[32m[I 2021-07-11 01:01:08,178]\u001b[0m Trial 43 finished with value: -2.298626463066719 and parameters: {'max_depth': 13, 'min_child_weight': 18, 'subsample': 0.9, 'colsample_bytree': 0.8, 'reg_lambda': 8.717052014759188, 'reg_alpha': 0.911920966037045, 'feature_fraction': 0.5127651749723156, 'bagging_fraction': 0.2970069914280248, 'bagging_freq': 9, 'num_leaves': 222, 'min_child_samples': 79}. Best is trial 21 with value: -2.292266006708875.\u001b[0m\n"
     ]
    },
    {
     "name": "stdout",
     "output_type": "stream",
     "text": [
      "Early stopping, best iteration is:\n",
      "[23]\ttraining's l1: 1.92853\tvalid_1's l1: 2.29863\n",
      "[LightGBM] [Warning] feature_fraction is set=0.33734835351850956, colsample_bytree=0.7 will be ignored. Current value: feature_fraction=0.33734835351850956\n",
      "[LightGBM] [Warning] bagging_fraction is set=0.39541592539798504, subsample=0.9 will be ignored. Current value: bagging_fraction=0.39541592539798504\n",
      "[LightGBM] [Warning] bagging_freq is set=8, subsample_freq=0 will be ignored. Current value: bagging_freq=8\n",
      "Training until validation scores don't improve for 100 rounds\n",
      "[100]\ttraining's l1: 1.86256\tvalid_1's l1: 2.33986\n"
     ]
    },
    {
     "name": "stderr",
     "output_type": "stream",
     "text": [
      "\u001b[32m[I 2021-07-11 01:01:12,589]\u001b[0m Trial 44 finished with value: -2.32743439981951 and parameters: {'max_depth': 15, 'min_child_weight': 19, 'subsample': 0.9, 'colsample_bytree': 0.7, 'reg_lambda': 64.87531918067847, 'reg_alpha': 1.939282450842601, 'feature_fraction': 0.33734835351850956, 'bagging_fraction': 0.39541592539798504, 'bagging_freq': 8, 'num_leaves': 132, 'min_child_samples': 48}. Best is trial 21 with value: -2.292266006708875.\u001b[0m\n"
     ]
    },
    {
     "name": "stdout",
     "output_type": "stream",
     "text": [
      "Early stopping, best iteration is:\n",
      "[26]\ttraining's l1: 2.00127\tvalid_1's l1: 2.32743\n",
      "[LightGBM] [Warning] feature_fraction is set=0.6357453829553543, colsample_bytree=0.8 will be ignored. Current value: feature_fraction=0.6357453829553543\n",
      "[LightGBM] [Warning] bagging_fraction is set=0.99896589660932, subsample=0.9 will be ignored. Current value: bagging_fraction=0.99896589660932\n",
      "[LightGBM] [Warning] bagging_freq is set=10, subsample_freq=0 will be ignored. Current value: bagging_freq=10\n",
      "Training until validation scores don't improve for 100 rounds\n",
      "[100]\ttraining's l1: 1.81174\tvalid_1's l1: 2.3487\n"
     ]
    },
    {
     "name": "stderr",
     "output_type": "stream",
     "text": [
      "\u001b[32m[I 2021-07-11 01:01:21,012]\u001b[0m Trial 45 finished with value: -2.301348330534288 and parameters: {'max_depth': 17, 'min_child_weight': 18, 'subsample': 0.9, 'colsample_bytree': 0.8, 'reg_lambda': 1.989382402888937, 'reg_alpha': 17.268892250377434, 'feature_fraction': 0.6357453829553543, 'bagging_fraction': 0.99896589660932, 'bagging_freq': 10, 'num_leaves': 171, 'min_child_samples': 87}. Best is trial 21 with value: -2.292266006708875.\u001b[0m\n"
     ]
    },
    {
     "name": "stdout",
     "output_type": "stream",
     "text": [
      "Early stopping, best iteration is:\n",
      "[25]\ttraining's l1: 1.90796\tvalid_1's l1: 2.30135\n",
      "[LightGBM] [Warning] feature_fraction is set=0.4738390225366324, colsample_bytree=0.6 will be ignored. Current value: feature_fraction=0.4738390225366324\n",
      "[LightGBM] [Warning] bagging_fraction is set=0.3576086998988756, subsample=0.9 will be ignored. Current value: bagging_fraction=0.3576086998988756\n",
      "[LightGBM] [Warning] bagging_freq is set=7, subsample_freq=0 will be ignored. Current value: bagging_freq=7\n",
      "Training until validation scores don't improve for 100 rounds\n",
      "[100]\ttraining's l1: 1.80358\tvalid_1's l1: 2.35852\n"
     ]
    },
    {
     "name": "stderr",
     "output_type": "stream",
     "text": [
      "\u001b[32m[I 2021-07-11 01:01:26,228]\u001b[0m Trial 46 finished with value: -2.306272324826712 and parameters: {'max_depth': 12, 'min_child_weight': 19, 'subsample': 0.9, 'colsample_bytree': 0.6, 'reg_lambda': 6.023880410738366, 'reg_alpha': 4.6410007462103735, 'feature_fraction': 0.4738390225366324, 'bagging_fraction': 0.3576086998988756, 'bagging_freq': 7, 'num_leaves': 232, 'min_child_samples': 6}. Best is trial 21 with value: -2.292266006708875.\u001b[0m\n"
     ]
    },
    {
     "name": "stdout",
     "output_type": "stream",
     "text": [
      "Early stopping, best iteration is:\n",
      "[23]\ttraining's l1: 1.93047\tvalid_1's l1: 2.30627\n",
      "[LightGBM] [Warning] feature_fraction is set=0.5776497686222456, colsample_bytree=0.9 will be ignored. Current value: feature_fraction=0.5776497686222456\n",
      "[LightGBM] [Warning] bagging_fraction is set=0.28373423729329894, subsample=0.9 will be ignored. Current value: bagging_fraction=0.28373423729329894\n",
      "[LightGBM] [Warning] bagging_freq is set=11, subsample_freq=0 will be ignored. Current value: bagging_freq=11\n",
      "Training until validation scores don't improve for 100 rounds\n",
      "[100]\ttraining's l1: 1.79581\tvalid_1's l1: 2.3888\n"
     ]
    },
    {
     "name": "stderr",
     "output_type": "stream",
     "text": [
      "\u001b[32m[I 2021-07-11 01:01:32,176]\u001b[0m Trial 47 finished with value: -2.300383276348235 and parameters: {'max_depth': 16, 'min_child_weight': 16, 'subsample': 0.9, 'colsample_bytree': 0.9, 'reg_lambda': 23.376415267012238, 'reg_alpha': 0.3621713839885882, 'feature_fraction': 0.5776497686222456, 'bagging_fraction': 0.28373423729329894, 'bagging_freq': 11, 'num_leaves': 303, 'min_child_samples': 94}. Best is trial 21 with value: -2.292266006708875.\u001b[0m\n"
     ]
    },
    {
     "name": "stdout",
     "output_type": "stream",
     "text": [
      "Early stopping, best iteration is:\n",
      "[19]\ttraining's l1: 1.95292\tvalid_1's l1: 2.30038\n",
      "[LightGBM] [Warning] feature_fraction is set=0.5295548497038001, colsample_bytree=0.7 will be ignored. Current value: feature_fraction=0.5295548497038001\n",
      "[LightGBM] [Warning] bagging_fraction is set=0.23933974848640965, subsample=0.8 will be ignored. Current value: bagging_fraction=0.23933974848640965\n",
      "[LightGBM] [Warning] bagging_freq is set=12, subsample_freq=0 will be ignored. Current value: bagging_freq=12\n",
      "Training until validation scores don't improve for 100 rounds\n",
      "[100]\ttraining's l1: 1.87569\tvalid_1's l1: 2.31628\n"
     ]
    },
    {
     "name": "stderr",
     "output_type": "stream",
     "text": [
      "\u001b[32m[I 2021-07-11 01:01:35,949]\u001b[0m Trial 48 finished with value: -2.2897402995190106 and parameters: {'max_depth': 14, 'min_child_weight': 19, 'subsample': 0.8, 'colsample_bytree': 0.7, 'reg_lambda': 0.6116776692518497, 'reg_alpha': 0.05755816113738037, 'feature_fraction': 0.5295548497038001, 'bagging_fraction': 0.23933974848640965, 'bagging_freq': 12, 'num_leaves': 59, 'min_child_samples': 64}. Best is trial 48 with value: -2.2897402995190106.\u001b[0m\n"
     ]
    },
    {
     "name": "stdout",
     "output_type": "stream",
     "text": [
      "Early stopping, best iteration is:\n",
      "[39]\ttraining's l1: 1.93476\tvalid_1's l1: 2.28974\n",
      "[LightGBM] [Warning] feature_fraction is set=0.5274679634519985, colsample_bytree=0.7 will be ignored. Current value: feature_fraction=0.5274679634519985\n",
      "[LightGBM] [Warning] bagging_fraction is set=0.23373802755869247, subsample=0.8 will be ignored. Current value: bagging_fraction=0.23373802755869247\n",
      "[LightGBM] [Warning] bagging_freq is set=12, subsample_freq=0 will be ignored. Current value: bagging_freq=12\n",
      "Training until validation scores don't improve for 100 rounds\n",
      "[100]\ttraining's l1: 1.96355\tvalid_1's l1: 2.30414\n",
      "[200]\ttraining's l1: 1.94367\tvalid_1's l1: 2.30206\n"
     ]
    },
    {
     "name": "stderr",
     "output_type": "stream",
     "text": [
      "\u001b[32m[I 2021-07-11 01:01:40,304]\u001b[0m Trial 49 finished with value: -2.2999163672147955 and parameters: {'max_depth': 14, 'min_child_weight': 11, 'subsample': 0.8, 'colsample_bytree': 0.7, 'reg_lambda': 0.4452344163419153, 'reg_alpha': 0.051478727183566365, 'feature_fraction': 0.5274679634519985, 'bagging_fraction': 0.23373802755869247, 'bagging_freq': 12, 'num_leaves': 10, 'min_child_samples': 61}. Best is trial 48 with value: -2.2897402995190106.\u001b[0m\n"
     ]
    },
    {
     "name": "stdout",
     "output_type": "stream",
     "text": [
      "Early stopping, best iteration is:\n",
      "[152]\ttraining's l1: 1.95028\tvalid_1's l1: 2.30003\n",
      "[LightGBM] [Warning] feature_fraction is set=0.4323709177016756, colsample_bytree=0.6 will be ignored. Current value: feature_fraction=0.4323709177016756\n",
      "[LightGBM] [Warning] bagging_fraction is set=0.20046999693260373, subsample=0.8 will be ignored. Current value: bagging_fraction=0.20046999693260373\n",
      "[LightGBM] [Warning] bagging_freq is set=14, subsample_freq=0 will be ignored. Current value: bagging_freq=14\n",
      "Training until validation scores don't improve for 100 rounds\n",
      "[100]\ttraining's l1: 1.88522\tvalid_1's l1: 2.32012\n"
     ]
    },
    {
     "name": "stderr",
     "output_type": "stream",
     "text": [
      "\u001b[32m[I 2021-07-11 01:01:43,718]\u001b[0m Trial 50 finished with value: -2.29431171699223 and parameters: {'max_depth': 13, 'min_child_weight': 20, 'subsample': 0.8, 'colsample_bytree': 0.6, 'reg_lambda': 0.7768654757687602, 'reg_alpha': 0.8292918254066411, 'feature_fraction': 0.4323709177016756, 'bagging_fraction': 0.20046999693260373, 'bagging_freq': 14, 'num_leaves': 57, 'min_child_samples': 65}. Best is trial 48 with value: -2.2897402995190106.\u001b[0m\n"
     ]
    },
    {
     "name": "stdout",
     "output_type": "stream",
     "text": [
      "Early stopping, best iteration is:\n",
      "[40]\ttraining's l1: 1.94369\tvalid_1's l1: 2.29431\n",
      "[LightGBM] [Warning] feature_fraction is set=0.5008496454341309, colsample_bytree=0.7 will be ignored. Current value: feature_fraction=0.5008496454341309\n",
      "[LightGBM] [Warning] bagging_fraction is set=0.25196035140409334, subsample=0.9 will be ignored. Current value: bagging_fraction=0.25196035140409334\n",
      "[LightGBM] [Warning] bagging_freq is set=9, subsample_freq=0 will be ignored. Current value: bagging_freq=9\n",
      "Training until validation scores don't improve for 100 rounds\n",
      "[100]\ttraining's l1: 1.84759\tvalid_1's l1: 2.33183\n"
     ]
    },
    {
     "name": "stderr",
     "output_type": "stream",
     "text": [
      "\u001b[32m[I 2021-07-11 01:01:47,750]\u001b[0m Trial 51 finished with value: -2.2990114631300838 and parameters: {'max_depth': 15, 'min_child_weight': 19, 'subsample': 0.9, 'colsample_bytree': 0.7, 'reg_lambda': 1.738501926703991, 'reg_alpha': 0.2625143101493734, 'feature_fraction': 0.5008496454341309, 'bagging_fraction': 0.25196035140409334, 'bagging_freq': 9, 'num_leaves': 105, 'min_child_samples': 78}. Best is trial 48 with value: -2.2897402995190106.\u001b[0m\n"
     ]
    },
    {
     "name": "stdout",
     "output_type": "stream",
     "text": [
      "Early stopping, best iteration is:\n",
      "[27]\ttraining's l1: 1.93999\tvalid_1's l1: 2.29901\n",
      "[LightGBM] [Warning] feature_fraction is set=0.7049278032687517, colsample_bytree=0.7 will be ignored. Current value: feature_fraction=0.7049278032687517\n",
      "[LightGBM] [Warning] bagging_fraction is set=0.320878811390221, subsample=0.8 will be ignored. Current value: bagging_fraction=0.320878811390221\n",
      "[LightGBM] [Warning] bagging_freq is set=8, subsample_freq=0 will be ignored. Current value: bagging_freq=8\n",
      "Training until validation scores don't improve for 100 rounds\n",
      "[100]\ttraining's l1: 1.82119\tvalid_1's l1: 2.34963\n"
     ]
    },
    {
     "name": "stderr",
     "output_type": "stream",
     "text": [
      "\u001b[32m[I 2021-07-11 01:01:51,993]\u001b[0m Trial 52 finished with value: -2.296124539708827 and parameters: {'max_depth': 16, 'min_child_weight': 18, 'subsample': 0.8, 'colsample_bytree': 0.7, 'reg_lambda': 4.022730812516601, 'reg_alpha': 0.07713318122166948, 'feature_fraction': 0.7049278032687517, 'bagging_fraction': 0.320878811390221, 'bagging_freq': 8, 'num_leaves': 144, 'min_child_samples': 66}. Best is trial 48 with value: -2.2897402995190106.\u001b[0m\n"
     ]
    },
    {
     "name": "stdout",
     "output_type": "stream",
     "text": [
      "Early stopping, best iteration is:\n",
      "[23]\ttraining's l1: 1.92709\tvalid_1's l1: 2.29612\n",
      "[LightGBM] [Warning] feature_fraction is set=0.5603291194023449, colsample_bytree=0.8 will be ignored. Current value: feature_fraction=0.5603291194023449\n",
      "[LightGBM] [Warning] bagging_fraction is set=0.2796588196012016, subsample=0.8 will be ignored. Current value: bagging_fraction=0.2796588196012016\n",
      "[LightGBM] [Warning] bagging_freq is set=13, subsample_freq=0 will be ignored. Current value: bagging_freq=13\n",
      "Training until validation scores don't improve for 100 rounds\n",
      "[100]\ttraining's l1: 1.81385\tvalid_1's l1: 2.35708\n"
     ]
    },
    {
     "name": "stderr",
     "output_type": "stream",
     "text": [
      "\u001b[32m[I 2021-07-11 01:01:56,936]\u001b[0m Trial 53 finished with value: -2.2997414789342945 and parameters: {'max_depth': 19, 'min_child_weight': 17, 'subsample': 0.8, 'colsample_bytree': 0.8, 'reg_lambda': 0.16595125539622602, 'reg_alpha': 0.02053909533637947, 'feature_fraction': 0.5603291194023449, 'bagging_fraction': 0.2796588196012016, 'bagging_freq': 13, 'num_leaves': 190, 'min_child_samples': 74}. Best is trial 48 with value: -2.2897402995190106.\u001b[0m\n"
     ]
    },
    {
     "name": "stdout",
     "output_type": "stream",
     "text": [
      "Early stopping, best iteration is:\n",
      "[21]\ttraining's l1: 1.94066\tvalid_1's l1: 2.29974\n",
      "[LightGBM] [Warning] feature_fraction is set=0.640320613561379, colsample_bytree=0.7 will be ignored. Current value: feature_fraction=0.640320613561379\n",
      "[LightGBM] [Warning] bagging_fraction is set=0.4491174633462337, subsample=0.9 will be ignored. Current value: bagging_fraction=0.4491174633462337\n",
      "[LightGBM] [Warning] bagging_freq is set=11, subsample_freq=0 will be ignored. Current value: bagging_freq=11\n",
      "Training until validation scores don't improve for 100 rounds\n",
      "[100]\ttraining's l1: 1.79546\tvalid_1's l1: 2.36303\n"
     ]
    },
    {
     "name": "stderr",
     "output_type": "stream",
     "text": [
      "\u001b[32m[I 2021-07-11 01:02:02,991]\u001b[0m Trial 54 finished with value: -2.298016763892496 and parameters: {'max_depth': 12, 'min_child_weight': 19, 'subsample': 0.9, 'colsample_bytree': 0.7, 'reg_lambda': 0.29505752107293365, 'reg_alpha': 0.646957169768216, 'feature_fraction': 0.640320613561379, 'bagging_fraction': 0.4491174633462337, 'bagging_freq': 11, 'num_leaves': 239, 'min_child_samples': 88}. Best is trial 48 with value: -2.2897402995190106.\u001b[0m\n"
     ]
    },
    {
     "name": "stdout",
     "output_type": "stream",
     "text": [
      "Early stopping, best iteration is:\n",
      "[20]\ttraining's l1: 1.9327\tvalid_1's l1: 2.29802\n",
      "[LightGBM] [Warning] feature_fraction is set=0.6099609720107336, colsample_bytree=0.8 will be ignored. Current value: feature_fraction=0.6099609720107336\n",
      "[LightGBM] [Warning] bagging_fraction is set=0.2337341781848836, subsample=0.8 will be ignored. Current value: bagging_fraction=0.2337341781848836\n",
      "[LightGBM] [Warning] bagging_freq is set=7, subsample_freq=0 will be ignored. Current value: bagging_freq=7\n",
      "Training until validation scores don't improve for 100 rounds\n",
      "[100]\ttraining's l1: 1.87883\tvalid_1's l1: 2.3211\n"
     ]
    },
    {
     "name": "stderr",
     "output_type": "stream",
     "text": [
      "\u001b[32m[I 2021-07-11 01:02:06,698]\u001b[0m Trial 55 finished with value: -2.2923984162055273 and parameters: {'max_depth': 14, 'min_child_weight': 20, 'subsample': 0.8, 'colsample_bytree': 0.8, 'reg_lambda': 1.4321822156592305, 'reg_alpha': 0.009649681884970673, 'feature_fraction': 0.6099609720107336, 'bagging_fraction': 0.2337341781848836, 'bagging_freq': 7, 'num_leaves': 53, 'min_child_samples': 100}. Best is trial 48 with value: -2.2897402995190106.\u001b[0m\n"
     ]
    },
    {
     "name": "stdout",
     "output_type": "stream",
     "text": [
      "Early stopping, best iteration is:\n",
      "[26]\ttraining's l1: 1.96392\tvalid_1's l1: 2.2924\n",
      "[LightGBM] [Warning] feature_fraction is set=0.5915322296421874, colsample_bytree=0.6 will be ignored. Current value: feature_fraction=0.5915322296421874\n",
      "[LightGBM] [Warning] bagging_fraction is set=0.240761056153841, subsample=0.8 will be ignored. Current value: bagging_fraction=0.240761056153841\n",
      "[LightGBM] [Warning] bagging_freq is set=7, subsample_freq=0 will be ignored. Current value: bagging_freq=7\n",
      "Training until validation scores don't improve for 100 rounds\n",
      "[100]\ttraining's l1: 1.86867\tvalid_1's l1: 2.32852\n"
     ]
    },
    {
     "name": "stderr",
     "output_type": "stream",
     "text": [
      "\u001b[32m[I 2021-07-11 01:02:10,613]\u001b[0m Trial 56 finished with value: -2.29295354448496 and parameters: {'max_depth': 14, 'min_child_weight': 20, 'subsample': 0.8, 'colsample_bytree': 0.6, 'reg_lambda': 3.336823927738818, 'reg_alpha': 0.003638060389270562, 'feature_fraction': 0.5915322296421874, 'bagging_fraction': 0.240761056153841, 'bagging_freq': 7, 'num_leaves': 62, 'min_child_samples': 97}. Best is trial 48 with value: -2.2897402995190106.\u001b[0m\n"
     ]
    },
    {
     "name": "stdout",
     "output_type": "stream",
     "text": [
      "Early stopping, best iteration is:\n",
      "[26]\ttraining's l1: 1.95605\tvalid_1's l1: 2.29295\n",
      "[LightGBM] [Warning] feature_fraction is set=0.6175500927560689, colsample_bytree=0.6 will be ignored. Current value: feature_fraction=0.6175500927560689\n",
      "[LightGBM] [Warning] bagging_fraction is set=0.23613546734359442, subsample=0.8 will be ignored. Current value: bagging_fraction=0.23613546734359442\n",
      "[LightGBM] [Warning] bagging_freq is set=7, subsample_freq=0 will be ignored. Current value: bagging_freq=7\n",
      "Training until validation scores don't improve for 100 rounds\n",
      "[100]\ttraining's l1: 1.88538\tvalid_1's l1: 2.32448\n"
     ]
    },
    {
     "name": "stderr",
     "output_type": "stream",
     "text": [
      "\u001b[32m[I 2021-07-11 01:02:14,148]\u001b[0m Trial 57 finished with value: -2.2928909067421936 and parameters: {'max_depth': 13, 'min_child_weight': 20, 'subsample': 0.8, 'colsample_bytree': 0.6, 'reg_lambda': 3.785160529296107, 'reg_alpha': 0.0019182814636212091, 'feature_fraction': 0.6175500927560689, 'bagging_fraction': 0.23613546734359442, 'bagging_freq': 7, 'num_leaves': 43, 'min_child_samples': 100}. Best is trial 48 with value: -2.2897402995190106.\u001b[0m\n"
     ]
    },
    {
     "name": "stdout",
     "output_type": "stream",
     "text": [
      "Early stopping, best iteration is:\n",
      "[26]\ttraining's l1: 1.96861\tvalid_1's l1: 2.29289\n",
      "[LightGBM] [Warning] feature_fraction is set=0.7054606636732382, colsample_bytree=0.6 will be ignored. Current value: feature_fraction=0.7054606636732382\n",
      "[LightGBM] [Warning] bagging_fraction is set=0.2223289215904012, subsample=0.7 will be ignored. Current value: bagging_fraction=0.2223289215904012\n",
      "[LightGBM] [Warning] bagging_freq is set=7, subsample_freq=0 will be ignored. Current value: bagging_freq=7\n",
      "Training until validation scores don't improve for 100 rounds\n",
      "[100]\ttraining's l1: 1.9597\tvalid_1's l1: 2.30412\n"
     ]
    },
    {
     "name": "stderr",
     "output_type": "stream",
     "text": [
      "\u001b[32m[I 2021-07-11 01:02:17,427]\u001b[0m Trial 58 finished with value: -2.301702230010136 and parameters: {'max_depth': 14, 'min_child_weight': 20, 'subsample': 0.7, 'colsample_bytree': 0.6, 'reg_lambda': 14.279345925344465, 'reg_alpha': 0.0031682221219234883, 'feature_fraction': 0.7054606636732382, 'bagging_fraction': 0.2223289215904012, 'bagging_freq': 7, 'num_leaves': 11, 'min_child_samples': 100}. Best is trial 48 with value: -2.2897402995190106.\u001b[0m\n"
     ]
    },
    {
     "name": "stdout",
     "output_type": "stream",
     "text": [
      "[200]\ttraining's l1: 1.92982\tvalid_1's l1: 2.30829\n",
      "Early stopping, best iteration is:\n",
      "[112]\ttraining's l1: 1.95266\tvalid_1's l1: 2.30174\n",
      "[LightGBM] [Warning] feature_fraction is set=0.6131865294794621, colsample_bytree=0.5 will be ignored. Current value: feature_fraction=0.6131865294794621\n",
      "[LightGBM] [Warning] bagging_fraction is set=0.20042969414531475, subsample=0.8 will be ignored. Current value: bagging_fraction=0.20042969414531475\n",
      "[LightGBM] [Warning] bagging_freq is set=5, subsample_freq=0 will be ignored. Current value: bagging_freq=5\n",
      "Training until validation scores don't improve for 100 rounds\n",
      "[100]\ttraining's l1: 1.87003\tvalid_1's l1: 2.32742\n"
     ]
    },
    {
     "name": "stderr",
     "output_type": "stream",
     "text": [
      "\u001b[32m[I 2021-07-11 01:02:21,181]\u001b[0m Trial 59 finished with value: -2.29222029572227 and parameters: {'max_depth': 12, 'min_child_weight': 20, 'subsample': 0.8, 'colsample_bytree': 0.5, 'reg_lambda': 2.9997332380347217, 'reg_alpha': 0.0020038363614215365, 'feature_fraction': 0.6131865294794621, 'bagging_fraction': 0.20042969414531475, 'bagging_freq': 5, 'num_leaves': 63, 'min_child_samples': 97}. Best is trial 48 with value: -2.2897402995190106.\u001b[0m\n"
     ]
    },
    {
     "name": "stdout",
     "output_type": "stream",
     "text": [
      "Early stopping, best iteration is:\n",
      "[26]\ttraining's l1: 1.95927\tvalid_1's l1: 2.29222\n",
      "[LightGBM] [Warning] feature_fraction is set=0.6060723136546544, colsample_bytree=0.5 will be ignored. Current value: feature_fraction=0.6060723136546544\n",
      "[LightGBM] [Warning] bagging_fraction is set=0.2060824299617184, subsample=0.8 will be ignored. Current value: bagging_fraction=0.2060824299617184\n",
      "[LightGBM] [Warning] bagging_freq is set=5, subsample_freq=0 will be ignored. Current value: bagging_freq=5\n",
      "Training until validation scores don't improve for 100 rounds\n",
      "[100]\ttraining's l1: 1.89769\tvalid_1's l1: 2.32191\n"
     ]
    },
    {
     "name": "stderr",
     "output_type": "stream",
     "text": [
      "\u001b[32m[I 2021-07-11 01:02:24,561]\u001b[0m Trial 60 finished with value: -2.2945052675187214 and parameters: {'max_depth': 11, 'min_child_weight': 16, 'subsample': 0.8, 'colsample_bytree': 0.5, 'reg_lambda': 7.9496064367662065, 'reg_alpha': 0.0017420401560033544, 'feature_fraction': 0.6060723136546544, 'bagging_fraction': 0.2060824299617184, 'bagging_freq': 5, 'num_leaves': 33, 'min_child_samples': 100}. Best is trial 48 with value: -2.2897402995190106.\u001b[0m\n"
     ]
    },
    {
     "name": "stdout",
     "output_type": "stream",
     "text": [
      "Early stopping, best iteration is:\n",
      "[26]\ttraining's l1: 1.98672\tvalid_1's l1: 2.29451\n",
      "[LightGBM] [Warning] feature_fraction is set=0.6050124238059285, colsample_bytree=0.5 will be ignored. Current value: feature_fraction=0.6050124238059285\n",
      "[LightGBM] [Warning] bagging_fraction is set=0.24832684560566962, subsample=0.8 will be ignored. Current value: bagging_fraction=0.24832684560566962\n",
      "[LightGBM] [Warning] bagging_freq is set=6, subsample_freq=0 will be ignored. Current value: bagging_freq=6\n",
      "Training until validation scores don't improve for 100 rounds\n",
      "[100]\ttraining's l1: 1.86017\tvalid_1's l1: 2.32669\n"
     ]
    },
    {
     "name": "stderr",
     "output_type": "stream",
     "text": [
      "\u001b[32m[I 2021-07-11 01:02:28,505]\u001b[0m Trial 61 finished with value: -2.290505248195544 and parameters: {'max_depth': 14, 'min_child_weight': 20, 'subsample': 0.8, 'colsample_bytree': 0.5, 'reg_lambda': 0.6655010193620045, 'reg_alpha': 0.007065830944312451, 'feature_fraction': 0.6050124238059285, 'bagging_fraction': 0.24832684560566962, 'bagging_freq': 6, 'num_leaves': 73, 'min_child_samples': 95}. Best is trial 48 with value: -2.2897402995190106.\u001b[0m\n"
     ]
    },
    {
     "name": "stdout",
     "output_type": "stream",
     "text": [
      "Early stopping, best iteration is:\n",
      "[21]\ttraining's l1: 1.9827\tvalid_1's l1: 2.29051\n",
      "[LightGBM] [Warning] feature_fraction is set=0.5377345660998131, colsample_bytree=0.5 will be ignored. Current value: feature_fraction=0.5377345660998131\n",
      "[LightGBM] [Warning] bagging_fraction is set=0.22164452434984847, subsample=0.8 will be ignored. Current value: bagging_fraction=0.22164452434984847\n",
      "[LightGBM] [Warning] bagging_freq is set=5, subsample_freq=0 will be ignored. Current value: bagging_freq=5\n",
      "Training until validation scores don't improve for 100 rounds\n",
      "[100]\ttraining's l1: 1.85679\tvalid_1's l1: 2.32039\n"
     ]
    },
    {
     "name": "stderr",
     "output_type": "stream",
     "text": [
      "\u001b[32m[I 2021-07-11 01:02:32,434]\u001b[0m Trial 62 finished with value: -2.2941829265254916 and parameters: {'max_depth': 12, 'min_child_weight': 18, 'subsample': 0.8, 'colsample_bytree': 0.5, 'reg_lambda': 0.6152709238520613, 'reg_alpha': 0.00798879486794544, 'feature_fraction': 0.5377345660998131, 'bagging_fraction': 0.22164452434984847, 'bagging_freq': 5, 'num_leaves': 82, 'min_child_samples': 27}. Best is trial 48 with value: -2.2897402995190106.\u001b[0m\n"
     ]
    },
    {
     "name": "stdout",
     "output_type": "stream",
     "text": [
      "Early stopping, best iteration is:\n",
      "[32]\ttraining's l1: 1.93236\tvalid_1's l1: 2.29418\n",
      "[LightGBM] [Warning] feature_fraction is set=0.6198753976165161, colsample_bytree=0.5 will be ignored. Current value: feature_fraction=0.6198753976165161\n",
      "[LightGBM] [Warning] bagging_fraction is set=0.2609003422724725, subsample=0.8 will be ignored. Current value: bagging_fraction=0.2609003422724725\n",
      "[LightGBM] [Warning] bagging_freq is set=6, subsample_freq=0 will be ignored. Current value: bagging_freq=6\n",
      "Training until validation scores don't improve for 100 rounds\n",
      "[100]\ttraining's l1: 1.83943\tvalid_1's l1: 2.33298\n"
     ]
    },
    {
     "name": "stderr",
     "output_type": "stream",
     "text": [
      "\u001b[32m[I 2021-07-11 01:02:36,646]\u001b[0m Trial 63 finished with value: -2.2916430350647197 and parameters: {'max_depth': 10, 'min_child_weight': 20, 'subsample': 0.8, 'colsample_bytree': 0.5, 'reg_lambda': 1.1981621500864017, 'reg_alpha': 0.008575903161448488, 'feature_fraction': 0.6198753976165161, 'bagging_fraction': 0.2609003422724725, 'bagging_freq': 6, 'num_leaves': 107, 'min_child_samples': 95}. Best is trial 48 with value: -2.2897402995190106.\u001b[0m\n"
     ]
    },
    {
     "name": "stdout",
     "output_type": "stream",
     "text": [
      "Early stopping, best iteration is:\n",
      "[22]\ttraining's l1: 1.95219\tvalid_1's l1: 2.29164\n",
      "[LightGBM] [Warning] feature_fraction is set=0.7431123702438113, colsample_bytree=0.5 will be ignored. Current value: feature_fraction=0.7431123702438113\n",
      "[LightGBM] [Warning] bagging_fraction is set=0.2002538345280069, subsample=0.7 will be ignored. Current value: bagging_fraction=0.2002538345280069\n",
      "[LightGBM] [Warning] bagging_freq is set=6, subsample_freq=0 will be ignored. Current value: bagging_freq=6\n",
      "Training until validation scores don't improve for 100 rounds\n",
      "[100]\ttraining's l1: 1.83572\tvalid_1's l1: 2.35233\n"
     ]
    },
    {
     "name": "stderr",
     "output_type": "stream",
     "text": [
      "\u001b[32m[I 2021-07-11 01:02:40,145]\u001b[0m Trial 64 finished with value: -2.2862942295736466 and parameters: {'max_depth': 10, 'min_child_weight': 20, 'subsample': 0.7, 'colsample_bytree': 0.5, 'reg_lambda': 1.435855874883747, 'reg_alpha': 0.00861093579041783, 'feature_fraction': 0.7431123702438113, 'bagging_fraction': 0.2002538345280069, 'bagging_freq': 6, 'num_leaves': 125, 'min_child_samples': 95}. Best is trial 64 with value: -2.2862942295736466.\u001b[0m\n"
     ]
    },
    {
     "name": "stdout",
     "output_type": "stream",
     "text": [
      "Early stopping, best iteration is:\n",
      "[20]\ttraining's l1: 1.95876\tvalid_1's l1: 2.28629\n",
      "[LightGBM] [Warning] feature_fraction is set=0.7567656585835966, colsample_bytree=0.5 will be ignored. Current value: feature_fraction=0.7567656585835966\n",
      "[LightGBM] [Warning] bagging_fraction is set=0.2608020897684668, subsample=0.7 will be ignored. Current value: bagging_fraction=0.2608020897684668\n",
      "[LightGBM] [Warning] bagging_freq is set=2, subsample_freq=0 will be ignored. Current value: bagging_freq=2\n",
      "Training until validation scores don't improve for 100 rounds\n",
      "[100]\ttraining's l1: 1.84697\tvalid_1's l1: 2.32831\n"
     ]
    },
    {
     "name": "stderr",
     "output_type": "stream",
     "text": [
      "\u001b[32m[I 2021-07-11 01:02:43,963]\u001b[0m Trial 65 finished with value: -2.29204956414234 and parameters: {'max_depth': 8, 'min_child_weight': 20, 'subsample': 0.7, 'colsample_bytree': 0.5, 'reg_lambda': 1.3168639089993124, 'reg_alpha': 0.009786468907267852, 'feature_fraction': 0.7567656585835966, 'bagging_fraction': 0.2608020897684668, 'bagging_freq': 2, 'num_leaves': 112, 'min_child_samples': 95}. Best is trial 64 with value: -2.2862942295736466.\u001b[0m\n"
     ]
    },
    {
     "name": "stdout",
     "output_type": "stream",
     "text": [
      "Early stopping, best iteration is:\n",
      "[23]\ttraining's l1: 1.93852\tvalid_1's l1: 2.29205\n",
      "[LightGBM] [Warning] feature_fraction is set=0.7518099848460593, colsample_bytree=0.5 will be ignored. Current value: feature_fraction=0.7518099848460593\n",
      "[LightGBM] [Warning] bagging_fraction is set=0.26374279056293604, subsample=0.7 will be ignored. Current value: bagging_fraction=0.26374279056293604\n",
      "[LightGBM] [Warning] bagging_freq is set=2, subsample_freq=0 will be ignored. Current value: bagging_freq=2\n",
      "Training until validation scores don't improve for 100 rounds\n",
      "[100]\ttraining's l1: 1.84124\tvalid_1's l1: 2.33632\n"
     ]
    },
    {
     "name": "stderr",
     "output_type": "stream",
     "text": [
      "\u001b[32m[I 2021-07-11 01:02:47,900]\u001b[0m Trial 66 finished with value: -2.29151012668931 and parameters: {'max_depth': 8, 'min_child_weight': 18, 'subsample': 0.7, 'colsample_bytree': 0.5, 'reg_lambda': 1.230825658109563, 'reg_alpha': 0.005781244956618432, 'feature_fraction': 0.7518099848460593, 'bagging_fraction': 0.26374279056293604, 'bagging_freq': 2, 'num_leaves': 146, 'min_child_samples': 96}. Best is trial 64 with value: -2.2862942295736466.\u001b[0m\n"
     ]
    },
    {
     "name": "stdout",
     "output_type": "stream",
     "text": [
      "Early stopping, best iteration is:\n",
      "[25]\ttraining's l1: 1.92284\tvalid_1's l1: 2.29151\n",
      "[LightGBM] [Warning] feature_fraction is set=0.7470032232431058, colsample_bytree=0.5 will be ignored. Current value: feature_fraction=0.7470032232431058\n",
      "[LightGBM] [Warning] bagging_fraction is set=0.26463568578655866, subsample=0.7 will be ignored. Current value: bagging_fraction=0.26463568578655866\n",
      "[LightGBM] [Warning] bagging_freq is set=2, subsample_freq=0 will be ignored. Current value: bagging_freq=2\n",
      "Training until validation scores don't improve for 100 rounds\n",
      "[100]\ttraining's l1: 1.84223\tvalid_1's l1: 2.3389\n"
     ]
    },
    {
     "name": "stderr",
     "output_type": "stream",
     "text": [
      "\u001b[32m[I 2021-07-11 01:02:51,800]\u001b[0m Trial 67 finished with value: -2.2942644030145383 and parameters: {'max_depth': 8, 'min_child_weight': 18, 'subsample': 0.7, 'colsample_bytree': 0.5, 'reg_lambda': 2.227272316839515, 'reg_alpha': 0.005569108264004333, 'feature_fraction': 0.7470032232431058, 'bagging_fraction': 0.26463568578655866, 'bagging_freq': 2, 'num_leaves': 125, 'min_child_samples': 95}. Best is trial 64 with value: -2.2862942295736466.\u001b[0m\n"
     ]
    },
    {
     "name": "stdout",
     "output_type": "stream",
     "text": [
      "Early stopping, best iteration is:\n",
      "[25]\ttraining's l1: 1.92506\tvalid_1's l1: 2.29426\n",
      "[LightGBM] [Warning] feature_fraction is set=0.826349915919046, colsample_bytree=0.5 will be ignored. Current value: feature_fraction=0.826349915919046\n",
      "[LightGBM] [Warning] bagging_fraction is set=0.36588775564522025, subsample=0.7 will be ignored. Current value: bagging_fraction=0.36588775564522025\n",
      "[LightGBM] [Warning] bagging_freq is set=2, subsample_freq=0 will be ignored. Current value: bagging_freq=2\n",
      "Training until validation scores don't improve for 100 rounds\n",
      "[100]\ttraining's l1: 1.83095\tvalid_1's l1: 2.3497\n"
     ]
    },
    {
     "name": "stderr",
     "output_type": "stream",
     "text": [
      "\u001b[32m[I 2021-07-11 01:02:57,104]\u001b[0m Trial 68 finished with value: -2.29850232383126 and parameters: {'max_depth': 9, 'min_child_weight': 20, 'subsample': 0.7, 'colsample_bytree': 0.5, 'reg_lambda': 1.1692826326737933, 'reg_alpha': 0.01252236273467769, 'feature_fraction': 0.826349915919046, 'bagging_fraction': 0.36588775564522025, 'bagging_freq': 2, 'num_leaves': 134, 'min_child_samples': 97}. Best is trial 64 with value: -2.2862942295736466.\u001b[0m\n"
     ]
    },
    {
     "name": "stdout",
     "output_type": "stream",
     "text": [
      "Early stopping, best iteration is:\n",
      "[23]\ttraining's l1: 1.91914\tvalid_1's l1: 2.2985\n",
      "[LightGBM] [Warning] feature_fraction is set=0.687778280544425, colsample_bytree=0.5 will be ignored. Current value: feature_fraction=0.687778280544425\n",
      "[LightGBM] [Warning] bagging_fraction is set=0.3290144117093483, subsample=0.7 will be ignored. Current value: bagging_fraction=0.3290144117093483\n",
      "[LightGBM] [Warning] bagging_freq is set=2, subsample_freq=0 will be ignored. Current value: bagging_freq=2\n",
      "Training until validation scores don't improve for 100 rounds\n",
      "[100]\ttraining's l1: 1.91137\tvalid_1's l1: 2.305\n"
     ]
    },
    {
     "name": "stderr",
     "output_type": "stream",
     "text": [
      "\u001b[32m[I 2021-07-11 01:03:01,458]\u001b[0m Trial 69 finished with value: -2.3032888760549612 and parameters: {'max_depth': 5, 'min_child_weight': 17, 'subsample': 0.7, 'colsample_bytree': 0.5, 'reg_lambda': 0.8147573883236402, 'reg_alpha': 0.0010133207822600754, 'feature_fraction': 0.687778280544425, 'bagging_fraction': 0.3290144117093483, 'bagging_freq': 2, 'num_leaves': 85, 'min_child_samples': 94}. Best is trial 64 with value: -2.2862942295736466.\u001b[0m\n"
     ]
    },
    {
     "name": "stdout",
     "output_type": "stream",
     "text": [
      "Early stopping, best iteration is:\n",
      "[76]\ttraining's l1: 1.91965\tvalid_1's l1: 2.30329\n",
      "[LightGBM] [Warning] feature_fraction is set=0.7318185102659414, colsample_bytree=0.5 will be ignored. Current value: feature_fraction=0.7318185102659414\n",
      "[LightGBM] [Warning] bagging_fraction is set=0.2664413197054487, subsample=0.7 will be ignored. Current value: bagging_fraction=0.2664413197054487\n",
      "[LightGBM] [Warning] bagging_freq is set=4, subsample_freq=0 will be ignored. Current value: bagging_freq=4\n",
      "Training until validation scores don't improve for 100 rounds\n",
      "[100]\ttraining's l1: 1.85979\tvalid_1's l1: 2.32603\n"
     ]
    },
    {
     "name": "stderr",
     "output_type": "stream",
     "text": [
      "\u001b[32m[I 2021-07-11 01:03:04,818]\u001b[0m Trial 70 finished with value: -2.292711442650689 and parameters: {'max_depth': 7, 'min_child_weight': 16, 'subsample': 0.7, 'colsample_bytree': 0.5, 'reg_lambda': 0.4164405634915391, 'reg_alpha': 0.002650550010720429, 'feature_fraction': 0.7318185102659414, 'bagging_fraction': 0.2664413197054487, 'bagging_freq': 4, 'num_leaves': 255, 'min_child_samples': 91}. Best is trial 64 with value: -2.2862942295736466.\u001b[0m\n"
     ]
    },
    {
     "name": "stdout",
     "output_type": "stream",
     "text": [
      "Early stopping, best iteration is:\n",
      "[25]\ttraining's l1: 1.94169\tvalid_1's l1: 2.29271\n",
      "[LightGBM] [Warning] feature_fraction is set=0.8586204706472356, colsample_bytree=0.5 will be ignored. Current value: feature_fraction=0.8586204706472356\n",
      "[LightGBM] [Warning] bagging_fraction is set=0.25383161194614967, subsample=0.7 will be ignored. Current value: bagging_fraction=0.25383161194614967\n",
      "[LightGBM] [Warning] bagging_freq is set=6, subsample_freq=0 will be ignored. Current value: bagging_freq=6\n",
      "Training until validation scores don't improve for 100 rounds\n",
      "[100]\ttraining's l1: 1.8331\tvalid_1's l1: 2.34201\n"
     ]
    },
    {
     "name": "stderr",
     "output_type": "stream",
     "text": [
      "\u001b[32m[I 2021-07-11 01:03:08,850]\u001b[0m Trial 71 finished with value: -2.2941919481467052 and parameters: {'max_depth': 9, 'min_child_weight': 20, 'subsample': 0.7, 'colsample_bytree': 0.5, 'reg_lambda': 0.23613556451736165, 'reg_alpha': 0.00533823106361618, 'feature_fraction': 0.8586204706472356, 'bagging_fraction': 0.25383161194614967, 'bagging_freq': 6, 'num_leaves': 148, 'min_child_samples': 92}. Best is trial 64 with value: -2.2862942295736466.\u001b[0m\n"
     ]
    },
    {
     "name": "stdout",
     "output_type": "stream",
     "text": [
      "Early stopping, best iteration is:\n",
      "[20]\ttraining's l1: 1.93931\tvalid_1's l1: 2.29419\n",
      "[LightGBM] [Warning] feature_fraction is set=0.7568827261875424, colsample_bytree=0.5 will be ignored. Current value: feature_fraction=0.7568827261875424\n",
      "[LightGBM] [Warning] bagging_fraction is set=0.30270991611124387, subsample=0.6 will be ignored. Current value: bagging_fraction=0.30270991611124387\n",
      "[LightGBM] [Warning] bagging_freq is set=4, subsample_freq=0 will be ignored. Current value: bagging_freq=4\n",
      "Training until validation scores don't improve for 100 rounds\n",
      "[100]\ttraining's l1: 1.83313\tvalid_1's l1: 2.33159\n"
     ]
    },
    {
     "name": "stderr",
     "output_type": "stream",
     "text": [
      "\u001b[32m[I 2021-07-11 01:03:12,942]\u001b[0m Trial 72 finished with value: -2.2941292460520173 and parameters: {'max_depth': 10, 'min_child_weight': 19, 'subsample': 0.6, 'colsample_bytree': 0.5, 'reg_lambda': 1.1593941935139072, 'reg_alpha': 0.033513655665659614, 'feature_fraction': 0.7568827261875424, 'bagging_fraction': 0.30270991611124387, 'bagging_freq': 4, 'num_leaves': 116, 'min_child_samples': 96}. Best is trial 64 with value: -2.2862942295736466.\u001b[0m\n"
     ]
    },
    {
     "name": "stdout",
     "output_type": "stream",
     "text": [
      "Early stopping, best iteration is:\n",
      "[25]\ttraining's l1: 1.91855\tvalid_1's l1: 2.29413\n",
      "[LightGBM] [Warning] feature_fraction is set=0.8070124623464758, colsample_bytree=0.5 will be ignored. Current value: feature_fraction=0.8070124623464758\n",
      "[LightGBM] [Warning] bagging_fraction is set=0.2093547293584893, subsample=0.7 will be ignored. Current value: bagging_fraction=0.2093547293584893\n",
      "[LightGBM] [Warning] bagging_freq is set=1, subsample_freq=0 will be ignored. Current value: bagging_freq=1\n",
      "Training until validation scores don't improve for 100 rounds\n",
      "[100]\ttraining's l1: 1.968\tvalid_1's l1: 2.31273\n"
     ]
    },
    {
     "name": "stderr",
     "output_type": "stream",
     "text": [
      "\u001b[32m[I 2021-07-11 01:03:17,871]\u001b[0m Trial 73 finished with value: -2.3116014094697066 and parameters: {'max_depth': 8, 'min_child_weight': 9, 'subsample': 0.7, 'colsample_bytree': 0.5, 'reg_lambda': 0.37907043278000785, 'reg_alpha': 0.004501688542251182, 'feature_fraction': 0.8070124623464758, 'bagging_fraction': 0.2093547293584893, 'bagging_freq': 1, 'num_leaves': 10, 'min_child_samples': 83}. Best is trial 64 with value: -2.2862942295736466.\u001b[0m\n"
     ]
    },
    {
     "name": "stdout",
     "output_type": "stream",
     "text": [
      "[200]\ttraining's l1: 1.94475\tvalid_1's l1: 2.31359\n",
      "Early stopping, best iteration is:\n",
      "[107]\ttraining's l1: 1.96701\tvalid_1's l1: 2.31168\n",
      "[LightGBM] [Warning] feature_fraction is set=0.6597844976564536, colsample_bytree=0.5 will be ignored. Current value: feature_fraction=0.6597844976564536\n",
      "[LightGBM] [Warning] bagging_fraction is set=0.2745364279551826, subsample=0.7 will be ignored. Current value: bagging_fraction=0.2745364279551826\n",
      "[LightGBM] [Warning] bagging_freq is set=4, subsample_freq=0 will be ignored. Current value: bagging_freq=4\n",
      "Training until validation scores don't improve for 100 rounds\n",
      "[100]\ttraining's l1: 1.85884\tvalid_1's l1: 2.32477\n"
     ]
    },
    {
     "name": "stderr",
     "output_type": "stream",
     "text": [
      "\u001b[32m[I 2021-07-11 01:03:21,210]\u001b[0m Trial 74 finished with value: -2.29128751844309 and parameters: {'max_depth': 7, 'min_child_weight': 18, 'subsample': 0.7, 'colsample_bytree': 0.5, 'reg_lambda': 2.4663813389472837, 'reg_alpha': 0.011969707005856058, 'feature_fraction': 0.6597844976564536, 'bagging_fraction': 0.2745364279551826, 'bagging_freq': 4, 'num_leaves': 188, 'min_child_samples': 89}. Best is trial 64 with value: -2.2862942295736466.\u001b[0m\n"
     ]
    },
    {
     "name": "stdout",
     "output_type": "stream",
     "text": [
      "Early stopping, best iteration is:\n",
      "[28]\ttraining's l1: 1.92943\tvalid_1's l1: 2.29129\n",
      "[LightGBM] [Warning] feature_fraction is set=0.6518427054047702, colsample_bytree=0.5 will be ignored. Current value: feature_fraction=0.6518427054047702\n",
      "[LightGBM] [Warning] bagging_fraction is set=0.8510806626618261, subsample=0.7 will be ignored. Current value: bagging_fraction=0.8510806626618261\n",
      "[LightGBM] [Warning] bagging_freq is set=4, subsample_freq=0 will be ignored. Current value: bagging_freq=4\n",
      "Training until validation scores don't improve for 100 rounds\n",
      "[100]\ttraining's l1: 1.87666\tvalid_1's l1: 2.30763\n"
     ]
    },
    {
     "name": "stderr",
     "output_type": "stream",
     "text": [
      "\u001b[32m[I 2021-07-11 01:03:26,368]\u001b[0m Trial 75 finished with value: -2.296127247466869 and parameters: {'max_depth': 6, 'min_child_weight': 18, 'subsample': 0.7, 'colsample_bytree': 0.5, 'reg_lambda': 1.8804909440094437, 'reg_alpha': 0.01122923829582637, 'feature_fraction': 0.6518427054047702, 'bagging_fraction': 0.8510806626618261, 'bagging_freq': 4, 'num_leaves': 82, 'min_child_samples': 92}. Best is trial 64 with value: -2.2862942295736466.\u001b[0m\n"
     ]
    },
    {
     "name": "stdout",
     "output_type": "stream",
     "text": [
      "Early stopping, best iteration is:\n",
      "[25]\ttraining's l1: 1.96653\tvalid_1's l1: 2.29613\n",
      "[LightGBM] [Warning] feature_fraction is set=0.7192503701567352, colsample_bytree=0.5 will be ignored. Current value: feature_fraction=0.7192503701567352\n",
      "[LightGBM] [Warning] bagging_fraction is set=0.3372671807318749, subsample=0.6 will be ignored. Current value: bagging_fraction=0.3372671807318749\n",
      "[LightGBM] [Warning] bagging_freq is set=2, subsample_freq=0 will be ignored. Current value: bagging_freq=2\n",
      "Training until validation scores don't improve for 100 rounds\n",
      "[100]\ttraining's l1: 1.85452\tvalid_1's l1: 2.32317\n"
     ]
    },
    {
     "name": "stderr",
     "output_type": "stream",
     "text": [
      "\u001b[32m[I 2021-07-11 01:03:30,554]\u001b[0m Trial 76 finished with value: -2.297572364846866 and parameters: {'max_depth': 7, 'min_child_weight': 17, 'subsample': 0.6, 'colsample_bytree': 0.5, 'reg_lambda': 2.901353537816345, 'reg_alpha': 0.018491398733223915, 'feature_fraction': 0.7192503701567352, 'bagging_fraction': 0.3372671807318749, 'bagging_freq': 2, 'num_leaves': 197, 'min_child_samples': 41}. Best is trial 64 with value: -2.2862942295736466.\u001b[0m\n"
     ]
    },
    {
     "name": "stdout",
     "output_type": "stream",
     "text": [
      "Early stopping, best iteration is:\n",
      "[27]\ttraining's l1: 1.9313\tvalid_1's l1: 2.29757\n",
      "[LightGBM] [Warning] feature_fraction is set=0.6948685521105638, colsample_bytree=0.5 will be ignored. Current value: feature_fraction=0.6948685521105638\n",
      "[LightGBM] [Warning] bagging_fraction is set=0.2769364330735585, subsample=0.7 will be ignored. Current value: bagging_fraction=0.2769364330735585\n",
      "[LightGBM] [Warning] bagging_freq is set=5, subsample_freq=0 will be ignored. Current value: bagging_freq=5\n",
      "Training until validation scores don't improve for 100 rounds\n",
      "[100]\ttraining's l1: 1.8919\tvalid_1's l1: 2.32119\n"
     ]
    },
    {
     "name": "stderr",
     "output_type": "stream",
     "text": [
      "\u001b[32m[I 2021-07-11 01:03:34,119]\u001b[0m Trial 77 finished with value: -2.301492070350525 and parameters: {'max_depth': 10, 'min_child_weight': 18, 'subsample': 0.7, 'colsample_bytree': 0.5, 'reg_lambda': 8.931766323960474, 'reg_alpha': 0.02469233336505297, 'feature_fraction': 0.6948685521105638, 'bagging_fraction': 0.2769364330735585, 'bagging_freq': 5, 'num_leaves': 38, 'min_child_samples': 98}. Best is trial 64 with value: -2.2862942295736466.\u001b[0m\n"
     ]
    },
    {
     "name": "stdout",
     "output_type": "stream",
     "text": [
      "Early stopping, best iteration is:\n",
      "[44]\ttraining's l1: 1.932\tvalid_1's l1: 2.30149\n",
      "[LightGBM] [Warning] feature_fraction is set=0.6685585785820495, colsample_bytree=0.5 will be ignored. Current value: feature_fraction=0.6685585785820495\n",
      "[LightGBM] [Warning] bagging_fraction is set=0.24812681263609027, subsample=0.7 will be ignored. Current value: bagging_fraction=0.24812681263609027\n",
      "[LightGBM] [Warning] bagging_freq is set=4, subsample_freq=0 will be ignored. Current value: bagging_freq=4\n",
      "Training until validation scores don't improve for 100 rounds\n",
      "[100]\ttraining's l1: 1.82496\tvalid_1's l1: 2.3444\n"
     ]
    },
    {
     "name": "stderr",
     "output_type": "stream",
     "text": [
      "\u001b[32m[I 2021-07-11 01:03:37,887]\u001b[0m Trial 78 finished with value: -2.285454771702014 and parameters: {'max_depth': 9, 'min_child_weight': 19, 'subsample': 0.7, 'colsample_bytree': 0.5, 'reg_lambda': 0.842789768469053, 'reg_alpha': 0.002083027512061945, 'feature_fraction': 0.6685585785820495, 'bagging_fraction': 0.24812681263609027, 'bagging_freq': 4, 'num_leaves': 300, 'min_child_samples': 88}. Best is trial 78 with value: -2.285454771702014.\u001b[0m\n"
     ]
    },
    {
     "name": "stdout",
     "output_type": "stream",
     "text": [
      "Early stopping, best iteration is:\n",
      "[21]\ttraining's l1: 1.93368\tvalid_1's l1: 2.28545\n",
      "[LightGBM] [Warning] feature_fraction is set=0.6682157326444716, colsample_bytree=0.5 will be ignored. Current value: feature_fraction=0.6682157326444716\n",
      "[LightGBM] [Warning] bagging_fraction is set=0.31405310300554395, subsample=0.7 will be ignored. Current value: bagging_fraction=0.31405310300554395\n",
      "[LightGBM] [Warning] bagging_freq is set=4, subsample_freq=0 will be ignored. Current value: bagging_freq=4\n",
      "Training until validation scores don't improve for 100 rounds\n",
      "[100]\ttraining's l1: 1.81928\tvalid_1's l1: 2.35064\n"
     ]
    },
    {
     "name": "stderr",
     "output_type": "stream",
     "text": [
      "\u001b[32m[I 2021-07-11 01:03:41,971]\u001b[0m Trial 79 finished with value: -2.2935555049887872 and parameters: {'max_depth': 9, 'min_child_weight': 19, 'subsample': 0.7, 'colsample_bytree': 0.5, 'reg_lambda': 0.8062134817753055, 'reg_alpha': 0.007929810724093699, 'feature_fraction': 0.6682157326444716, 'bagging_fraction': 0.31405310300554395, 'bagging_freq': 4, 'num_leaves': 318, 'min_child_samples': 88}. Best is trial 78 with value: -2.285454771702014.\u001b[0m\n"
     ]
    },
    {
     "name": "stdout",
     "output_type": "stream",
     "text": [
      "Early stopping, best iteration is:\n",
      "[20]\ttraining's l1: 1.93898\tvalid_1's l1: 2.29356\n",
      "[LightGBM] [Warning] feature_fraction is set=0.6528340123221559, colsample_bytree=0.5 will be ignored. Current value: feature_fraction=0.6528340123221559\n",
      "[LightGBM] [Warning] bagging_fraction is set=0.38323418426412004, subsample=0.7 will be ignored. Current value: bagging_fraction=0.38323418426412004\n",
      "[LightGBM] [Warning] bagging_freq is set=6, subsample_freq=0 will be ignored. Current value: bagging_freq=6\n",
      "Training until validation scores don't improve for 100 rounds\n",
      "[100]\ttraining's l1: 1.83228\tvalid_1's l1: 2.32425\n"
     ]
    },
    {
     "name": "stderr",
     "output_type": "stream",
     "text": [
      "\u001b[32m[I 2021-07-11 01:03:46,001]\u001b[0m Trial 80 finished with value: -2.292542992771261 and parameters: {'max_depth': 8, 'min_child_weight': 19, 'subsample': 0.7, 'colsample_bytree': 0.5, 'reg_lambda': 0.12102386686201635, 'reg_alpha': 0.0012706665959872814, 'feature_fraction': 0.6528340123221559, 'bagging_fraction': 0.38323418426412004, 'bagging_freq': 6, 'num_leaves': 289, 'min_child_samples': 81}. Best is trial 78 with value: -2.285454771702014.\u001b[0m\n"
     ]
    },
    {
     "name": "stdout",
     "output_type": "stream",
     "text": [
      "Early stopping, best iteration is:\n",
      "[27]\ttraining's l1: 1.90642\tvalid_1's l1: 2.29254\n",
      "[LightGBM] [Warning] feature_fraction is set=0.7504841177600351, colsample_bytree=0.5 will be ignored. Current value: feature_fraction=0.7504841177600351\n",
      "[LightGBM] [Warning] bagging_fraction is set=0.25218427863247883, subsample=0.7 will be ignored. Current value: bagging_fraction=0.25218427863247883\n",
      "[LightGBM] [Warning] bagging_freq is set=3, subsample_freq=0 will be ignored. Current value: bagging_freq=3\n",
      "Training until validation scores don't improve for 100 rounds\n",
      "[100]\ttraining's l1: 1.85828\tvalid_1's l1: 2.31668\n"
     ]
    },
    {
     "name": "stderr",
     "output_type": "stream",
     "text": [
      "\u001b[32m[I 2021-07-11 01:03:49,337]\u001b[0m Trial 81 finished with value: -2.2863648962537466 and parameters: {'max_depth': 7, 'min_child_weight': 20, 'subsample': 0.7, 'colsample_bytree': 0.5, 'reg_lambda': 2.621203815454402, 'reg_alpha': 0.00215937627304, 'feature_fraction': 0.7504841177600351, 'bagging_fraction': 0.25218427863247883, 'bagging_freq': 3, 'num_leaves': 159, 'min_child_samples': 89}. Best is trial 78 with value: -2.285454771702014.\u001b[0m\n"
     ]
    },
    {
     "name": "stdout",
     "output_type": "stream",
     "text": [
      "Early stopping, best iteration is:\n",
      "[20]\ttraining's l1: 1.97312\tvalid_1's l1: 2.28636\n",
      "[LightGBM] [Warning] feature_fraction is set=0.7566902635350813, colsample_bytree=0.5 will be ignored. Current value: feature_fraction=0.7566902635350813\n",
      "[LightGBM] [Warning] bagging_fraction is set=0.24923564875451162, subsample=0.7 will be ignored. Current value: bagging_fraction=0.24923564875451162\n",
      "[LightGBM] [Warning] bagging_freq is set=3, subsample_freq=0 will be ignored. Current value: bagging_freq=3\n",
      "Training until validation scores don't improve for 100 rounds\n",
      "[100]\ttraining's l1: 1.88141\tvalid_1's l1: 2.31056\n"
     ]
    },
    {
     "name": "stderr",
     "output_type": "stream",
     "text": [
      "\u001b[32m[I 2021-07-11 01:03:52,592]\u001b[0m Trial 82 finished with value: -2.29309524599697 and parameters: {'max_depth': 6, 'min_child_weight': 20, 'subsample': 0.7, 'colsample_bytree': 0.5, 'reg_lambda': 1.34874820199185, 'reg_alpha': 0.0057999433025598445, 'feature_fraction': 0.7566902635350813, 'bagging_fraction': 0.24923564875451162, 'bagging_freq': 3, 'num_leaves': 158, 'min_child_samples': 89}. Best is trial 78 with value: -2.285454771702014.\u001b[0m\n"
     ]
    },
    {
     "name": "stdout",
     "output_type": "stream",
     "text": [
      "Early stopping, best iteration is:\n",
      "[30]\ttraining's l1: 1.94619\tvalid_1's l1: 2.2931\n",
      "[LightGBM] [Warning] feature_fraction is set=0.7326990062621335, colsample_bytree=0.5 will be ignored. Current value: feature_fraction=0.7326990062621335\n",
      "[LightGBM] [Warning] bagging_fraction is set=0.29275613423735136, subsample=0.7 will be ignored. Current value: bagging_fraction=0.29275613423735136\n",
      "[LightGBM] [Warning] bagging_freq is set=2, subsample_freq=0 will be ignored. Current value: bagging_freq=2\n",
      "Training until validation scores don't improve for 100 rounds\n",
      "[100]\ttraining's l1: 1.85725\tvalid_1's l1: 2.32271\n"
     ]
    },
    {
     "name": "stderr",
     "output_type": "stream",
     "text": [
      "\u001b[32m[I 2021-07-11 01:03:56,397]\u001b[0m Trial 83 finished with value: -2.2916120134037676 and parameters: {'max_depth': 7, 'min_child_weight': 18, 'subsample': 0.7, 'colsample_bytree': 0.5, 'reg_lambda': 2.152297392094717, 'reg_alpha': 0.0029447761319299063, 'feature_fraction': 0.7326990062621335, 'bagging_fraction': 0.29275613423735136, 'bagging_freq': 2, 'num_leaves': 115, 'min_child_samples': 85}. Best is trial 78 with value: -2.285454771702014.\u001b[0m\n"
     ]
    },
    {
     "name": "stdout",
     "output_type": "stream",
     "text": [
      "Early stopping, best iteration is:\n",
      "[25]\ttraining's l1: 1.9414\tvalid_1's l1: 2.29161\n",
      "[LightGBM] [Warning] feature_fraction is set=0.7190910081588947, colsample_bytree=0.5 will be ignored. Current value: feature_fraction=0.7190910081588947\n",
      "[LightGBM] [Warning] bagging_fraction is set=0.287287742766543, subsample=0.7 will be ignored. Current value: bagging_fraction=0.287287742766543\n",
      "[LightGBM] [Warning] bagging_freq is set=1, subsample_freq=0 will be ignored. Current value: bagging_freq=1\n",
      "Training until validation scores don't improve for 100 rounds\n",
      "[100]\ttraining's l1: 1.90823\tvalid_1's l1: 2.30531\n"
     ]
    },
    {
     "name": "stderr",
     "output_type": "stream",
     "text": [
      "\u001b[32m[I 2021-07-11 01:04:01,354]\u001b[0m Trial 84 finished with value: -2.302711023801694 and parameters: {'max_depth': 5, 'min_child_weight': 18, 'subsample': 0.7, 'colsample_bytree': 0.5, 'reg_lambda': 6.022099399168309, 'reg_alpha': 0.0031310443153436886, 'feature_fraction': 0.7190910081588947, 'bagging_fraction': 0.287287742766543, 'bagging_freq': 1, 'num_leaves': 242, 'min_child_samples': 84}. Best is trial 78 with value: -2.285454771702014.\u001b[0m\n"
     ]
    },
    {
     "name": "stdout",
     "output_type": "stream",
     "text": [
      "Early stopping, best iteration is:\n",
      "[70]\ttraining's l1: 1.92136\tvalid_1's l1: 2.30271\n",
      "[LightGBM] [Warning] feature_fraction is set=0.7980831192611706, colsample_bytree=0.5 will be ignored. Current value: feature_fraction=0.7980831192611706\n",
      "[LightGBM] [Warning] bagging_fraction is set=0.3068488312780121, subsample=0.6 will be ignored. Current value: bagging_fraction=0.3068488312780121\n",
      "[LightGBM] [Warning] bagging_freq is set=3, subsample_freq=0 will be ignored. Current value: bagging_freq=3\n",
      "Training until validation scores don't improve for 100 rounds\n",
      "[100]\ttraining's l1: 1.87969\tvalid_1's l1: 2.31388\n"
     ]
    },
    {
     "name": "stderr",
     "output_type": "stream",
     "text": [
      "\u001b[32m[I 2021-07-11 01:04:04,911]\u001b[0m Trial 85 finished with value: -2.3004809082701003 and parameters: {'max_depth': 6, 'min_child_weight': 17, 'subsample': 0.6, 'colsample_bytree': 0.5, 'reg_lambda': 0.6515579118622918, 'reg_alpha': 0.0024232557981990286, 'feature_fraction': 0.7980831192611706, 'bagging_fraction': 0.3068488312780121, 'bagging_freq': 3, 'num_leaves': 184, 'min_child_samples': 86}. Best is trial 78 with value: -2.285454771702014.\u001b[0m\n"
     ]
    },
    {
     "name": "stdout",
     "output_type": "stream",
     "text": [
      "Early stopping, best iteration is:\n",
      "[30]\ttraining's l1: 1.94154\tvalid_1's l1: 2.30048\n",
      "[LightGBM] [Warning] feature_fraction is set=0.6892688599379954, colsample_bytree=0.5 will be ignored. Current value: feature_fraction=0.6892688599379954\n",
      "[LightGBM] [Warning] bagging_fraction is set=0.3484073748607094, subsample=0.7 will be ignored. Current value: bagging_fraction=0.3484073748607094\n",
      "[LightGBM] [Warning] bagging_freq is set=4, subsample_freq=0 will be ignored. Current value: bagging_freq=4\n",
      "Training until validation scores don't improve for 100 rounds\n",
      "[100]\ttraining's l1: 1.94406\tvalid_1's l1: 2.30641\n",
      "[200]\ttraining's l1: 1.92612\tvalid_1's l1: 2.30369\n"
     ]
    },
    {
     "name": "stderr",
     "output_type": "stream",
     "text": [
      "\u001b[32m[I 2021-07-11 01:04:10,047]\u001b[0m Trial 86 finished with value: -2.302398435706277 and parameters: {'max_depth': 4, 'min_child_weight': 16, 'subsample': 0.7, 'colsample_bytree': 0.5, 'reg_lambda': 2.1544780699417894, 'reg_alpha': 0.004058776984003528, 'feature_fraction': 0.6892688599379954, 'bagging_fraction': 0.3484073748607094, 'bagging_freq': 4, 'num_leaves': 160, 'min_child_samples': 93}. Best is trial 78 with value: -2.285454771702014.\u001b[0m\n"
     ]
    },
    {
     "name": "stdout",
     "output_type": "stream",
     "text": [
      "Early stopping, best iteration is:\n",
      "[194]\ttraining's l1: 1.92684\tvalid_1's l1: 2.30245\n",
      "[LightGBM] [Warning] feature_fraction is set=0.66216997525878, colsample_bytree=0.5 will be ignored. Current value: feature_fraction=0.66216997525878\n",
      "[LightGBM] [Warning] bagging_fraction is set=0.27995350328514035, subsample=0.7 will be ignored. Current value: bagging_fraction=0.27995350328514035\n",
      "[LightGBM] [Warning] bagging_freq is set=3, subsample_freq=0 will be ignored. Current value: bagging_freq=3\n",
      "Training until validation scores don't improve for 100 rounds\n",
      "[100]\ttraining's l1: 1.85629\tvalid_1's l1: 2.32097\n"
     ]
    },
    {
     "name": "stderr",
     "output_type": "stream",
     "text": [
      "\u001b[32m[I 2021-07-11 01:04:13,552]\u001b[0m Trial 87 finished with value: -2.2901486314037287 and parameters: {'max_depth': 7, 'min_child_weight': 19, 'subsample': 0.7, 'colsample_bytree': 0.5, 'reg_lambda': 0.997605324048567, 'reg_alpha': 0.007055039916395209, 'feature_fraction': 0.66216997525878, 'bagging_fraction': 0.27995350328514035, 'bagging_freq': 3, 'num_leaves': 134, 'min_child_samples': 82}. Best is trial 78 with value: -2.285454771702014.\u001b[0m\n"
     ]
    },
    {
     "name": "stdout",
     "output_type": "stream",
     "text": [
      "Early stopping, best iteration is:\n",
      "[25]\ttraining's l1: 1.94109\tvalid_1's l1: 2.29015\n",
      "[LightGBM] [Warning] feature_fraction is set=0.7361417816713052, colsample_bytree=0.5 will be ignored. Current value: feature_fraction=0.7361417816713052\n",
      "[LightGBM] [Warning] bagging_fraction is set=0.22941731380038838, subsample=0.7 will be ignored. Current value: bagging_fraction=0.22941731380038838\n",
      "[LightGBM] [Warning] bagging_freq is set=3, subsample_freq=0 will be ignored. Current value: bagging_freq=3\n",
      "Training until validation scores don't improve for 100 rounds\n",
      "[100]\ttraining's l1: 1.85887\tvalid_1's l1: 2.32046\n"
     ]
    },
    {
     "name": "stderr",
     "output_type": "stream",
     "text": [
      "\u001b[32m[I 2021-07-11 01:04:16,866]\u001b[0m Trial 88 finished with value: -2.2929247308573126 and parameters: {'max_depth': 7, 'min_child_weight': 19, 'subsample': 0.7, 'colsample_bytree': 0.5, 'reg_lambda': 0.441322768235912, 'reg_alpha': 0.001426296023827445, 'feature_fraction': 0.7361417816713052, 'bagging_fraction': 0.22941731380038838, 'bagging_freq': 3, 'num_leaves': 208, 'min_child_samples': 82}. Best is trial 78 with value: -2.285454771702014.\u001b[0m\n"
     ]
    },
    {
     "name": "stdout",
     "output_type": "stream",
     "text": [
      "Early stopping, best iteration is:\n",
      "[25]\ttraining's l1: 1.93951\tvalid_1's l1: 2.29292\n",
      "[LightGBM] [Warning] feature_fraction is set=0.7714196433149328, colsample_bytree=0.5 will be ignored. Current value: feature_fraction=0.7714196433149328\n",
      "[LightGBM] [Warning] bagging_fraction is set=0.5584000537069961, subsample=0.7 will be ignored. Current value: bagging_fraction=0.5584000537069961\n",
      "[LightGBM] [Warning] bagging_freq is set=3, subsample_freq=0 will be ignored. Current value: bagging_freq=3\n",
      "Training until validation scores don't improve for 100 rounds\n",
      "[100]\ttraining's l1: 2.25545\tvalid_1's l1: 2.46256\n",
      "[200]\ttraining's l1: 2.2007\tvalid_1's l1: 2.41599\n",
      "[300]\ttraining's l1: 2.17685\tvalid_1's l1: 2.39776\n",
      "[400]\ttraining's l1: 2.16547\tvalid_1's l1: 2.38544\n",
      "[500]\ttraining's l1: 2.15975\tvalid_1's l1: 2.38025\n",
      "[600]\ttraining's l1: 2.15309\tvalid_1's l1: 2.3745\n",
      "[700]\ttraining's l1: 2.14985\tvalid_1's l1: 2.37037\n",
      "[800]\ttraining's l1: 2.14778\tvalid_1's l1: 2.36924\n",
      "[900]\ttraining's l1: 2.14679\tvalid_1's l1: 2.36893\n",
      "[1000]\ttraining's l1: 2.14487\tvalid_1's l1: 2.36761\n"
     ]
    },
    {
     "name": "stderr",
     "output_type": "stream",
     "text": [
      "\u001b[32m[I 2021-07-11 01:04:35,830]\u001b[0m Trial 89 finished with value: -2.367231965348035 and parameters: {'max_depth': 1, 'min_child_weight': 18, 'subsample': 0.7, 'colsample_bytree': 0.5, 'reg_lambda': 4.797688818896445, 'reg_alpha': 0.013786546986250784, 'feature_fraction': 0.7714196433149328, 'bagging_fraction': 0.5584000537069961, 'bagging_freq': 3, 'num_leaves': 141, 'min_child_samples': 85}. Best is trial 78 with value: -2.285454771702014.\u001b[0m\n"
     ]
    },
    {
     "name": "stdout",
     "output_type": "stream",
     "text": [
      "Early stopping, best iteration is:\n",
      "[970]\ttraining's l1: 2.1451\tvalid_1's l1: 2.36724\n",
      "[LightGBM] [Warning] feature_fraction is set=0.6670152666182425, colsample_bytree=0.6 will be ignored. Current value: feature_fraction=0.6670152666182425\n",
      "[LightGBM] [Warning] bagging_fraction is set=0.6475651524598511, subsample=0.7 will be ignored. Current value: bagging_fraction=0.6475651524598511\n",
      "[LightGBM] [Warning] bagging_freq is set=2, subsample_freq=0 will be ignored. Current value: bagging_freq=2\n",
      "Training until validation scores don't improve for 100 rounds\n",
      "[100]\ttraining's l1: 1.80543\tvalid_1's l1: 2.34539\n"
     ]
    },
    {
     "name": "stderr",
     "output_type": "stream",
     "text": [
      "\u001b[32m[I 2021-07-11 01:04:41,887]\u001b[0m Trial 90 finished with value: -2.2922865408672024 and parameters: {'max_depth': 9, 'min_child_weight': 17, 'subsample': 0.7, 'colsample_bytree': 0.6, 'reg_lambda': 2.611104317409471, 'reg_alpha': 0.0010112730972523041, 'feature_fraction': 0.6670152666182425, 'bagging_fraction': 0.6475651524598511, 'bagging_freq': 2, 'num_leaves': 260, 'min_child_samples': 89}. Best is trial 78 with value: -2.285454771702014.\u001b[0m\n"
     ]
    },
    {
     "name": "stdout",
     "output_type": "stream",
     "text": [
      "Early stopping, best iteration is:\n",
      "[22]\ttraining's l1: 1.91484\tvalid_1's l1: 2.29229\n",
      "[LightGBM] [Warning] feature_fraction is set=0.6311662208836483, colsample_bytree=0.5 will be ignored. Current value: feature_fraction=0.6311662208836483\n",
      "[LightGBM] [Warning] bagging_fraction is set=0.27546603731786873, subsample=0.7 will be ignored. Current value: bagging_fraction=0.27546603731786873\n",
      "[LightGBM] [Warning] bagging_freq is set=4, subsample_freq=0 will be ignored. Current value: bagging_freq=4\n",
      "Training until validation scores don't improve for 100 rounds\n",
      "[100]\ttraining's l1: 1.85437\tvalid_1's l1: 2.32965\n"
     ]
    },
    {
     "name": "stderr",
     "output_type": "stream",
     "text": [
      "\u001b[32m[I 2021-07-11 01:04:45,906]\u001b[0m Trial 91 finished with value: -2.287553822687498 and parameters: {'max_depth': 8, 'min_child_weight': 19, 'subsample': 0.7, 'colsample_bytree': 0.5, 'reg_lambda': 0.976234829697689, 'reg_alpha': 0.0066127718184158975, 'feature_fraction': 0.6311662208836483, 'bagging_fraction': 0.27546603731786873, 'bagging_freq': 4, 'num_leaves': 88, 'min_child_samples': 91}. Best is trial 78 with value: -2.285454771702014.\u001b[0m\n"
     ]
    },
    {
     "name": "stdout",
     "output_type": "stream",
     "text": [
      "Early stopping, best iteration is:\n",
      "[26]\ttraining's l1: 1.93629\tvalid_1's l1: 2.28755\n",
      "[LightGBM] [Warning] feature_fraction is set=0.6435434937450082, colsample_bytree=0.5 will be ignored. Current value: feature_fraction=0.6435434937450082\n",
      "[LightGBM] [Warning] bagging_fraction is set=0.2952405109090998, subsample=0.7 will be ignored. Current value: bagging_fraction=0.2952405109090998\n",
      "[LightGBM] [Warning] bagging_freq is set=3, subsample_freq=0 will be ignored. Current value: bagging_freq=3\n",
      "Training until validation scores don't improve for 100 rounds\n",
      "[100]\ttraining's l1: 1.86096\tvalid_1's l1: 2.31337\n"
     ]
    },
    {
     "name": "stderr",
     "output_type": "stream",
     "text": [
      "\u001b[32m[I 2021-07-11 01:04:49,934]\u001b[0m Trial 92 finished with value: -2.2927780699226625 and parameters: {'max_depth': 7, 'min_child_weight': 19, 'subsample': 0.7, 'colsample_bytree': 0.5, 'reg_lambda': 0.8291094489529783, 'reg_alpha': 0.006152031968322059, 'feature_fraction': 0.6435434937450082, 'bagging_fraction': 0.2952405109090998, 'bagging_freq': 3, 'num_leaves': 83, 'min_child_samples': 90}. Best is trial 78 with value: -2.285454771702014.\u001b[0m\n"
     ]
    },
    {
     "name": "stdout",
     "output_type": "stream",
     "text": [
      "Early stopping, best iteration is:\n",
      "[26]\ttraining's l1: 1.94459\tvalid_1's l1: 2.29278\n",
      "[LightGBM] [Warning] feature_fraction is set=0.5843228881368853, colsample_bytree=0.5 will be ignored. Current value: feature_fraction=0.5843228881368853\n",
      "[LightGBM] [Warning] bagging_fraction is set=0.2761704941615429, subsample=0.7 will be ignored. Current value: bagging_fraction=0.2761704941615429\n",
      "[LightGBM] [Warning] bagging_freq is set=4, subsample_freq=0 will be ignored. Current value: bagging_freq=4\n",
      "Training until validation scores don't improve for 100 rounds\n",
      "[100]\ttraining's l1: 1.83763\tvalid_1's l1: 2.32923\n"
     ]
    },
    {
     "name": "stderr",
     "output_type": "stream",
     "text": [
      "\u001b[32m[I 2021-07-11 01:04:54,304]\u001b[0m Trial 93 finished with value: -2.286288715523731 and parameters: {'max_depth': 8, 'min_child_weight': 18, 'subsample': 0.7, 'colsample_bytree': 0.5, 'reg_lambda': 1.6614483693914135, 'reg_alpha': 0.03154159813714977, 'feature_fraction': 0.5843228881368853, 'bagging_fraction': 0.2761704941615429, 'bagging_freq': 4, 'num_leaves': 174, 'min_child_samples': 80}. Best is trial 78 with value: -2.285454771702014.\u001b[0m\n"
     ]
    },
    {
     "name": "stdout",
     "output_type": "stream",
     "text": [
      "Early stopping, best iteration is:\n",
      "[26]\ttraining's l1: 1.9199\tvalid_1's l1: 2.28629\n",
      "[LightGBM] [Warning] feature_fraction is set=0.5844316133427936, colsample_bytree=0.5 will be ignored. Current value: feature_fraction=0.5844316133427936\n",
      "[LightGBM] [Warning] bagging_fraction is set=0.27373188157278283, subsample=0.7 will be ignored. Current value: bagging_fraction=0.27373188157278283\n",
      "[LightGBM] [Warning] bagging_freq is set=5, subsample_freq=0 will be ignored. Current value: bagging_freq=5\n",
      "Training until validation scores don't improve for 100 rounds\n",
      "[100]\ttraining's l1: 1.83815\tvalid_1's l1: 2.34414\n"
     ]
    },
    {
     "name": "stderr",
     "output_type": "stream",
     "text": [
      "\u001b[32m[I 2021-07-11 01:04:58,470]\u001b[0m Trial 94 finished with value: -2.290433012357287 and parameters: {'max_depth': 8, 'min_child_weight': 19, 'subsample': 0.7, 'colsample_bytree': 0.5, 'reg_lambda': 0.535028193686018, 'reg_alpha': 0.01685867045536267, 'feature_fraction': 0.5844316133427936, 'bagging_fraction': 0.27373188157278283, 'bagging_freq': 5, 'num_leaves': 167, 'min_child_samples': 77}. Best is trial 78 with value: -2.285454771702014.\u001b[0m\n"
     ]
    },
    {
     "name": "stdout",
     "output_type": "stream",
     "text": [
      "Early stopping, best iteration is:\n",
      "[23]\ttraining's l1: 1.93546\tvalid_1's l1: 2.29043\n",
      "[LightGBM] [Warning] feature_fraction is set=0.5810977477399732, colsample_bytree=0.5 will be ignored. Current value: feature_fraction=0.5810977477399732\n",
      "[LightGBM] [Warning] bagging_fraction is set=0.322863138820458, subsample=0.7 will be ignored. Current value: bagging_fraction=0.322863138820458\n",
      "[LightGBM] [Warning] bagging_freq is set=4, subsample_freq=0 will be ignored. Current value: bagging_freq=4\n",
      "Training until validation scores don't improve for 100 rounds\n",
      "[100]\ttraining's l1: 1.88093\tvalid_1's l1: 2.31709\n"
     ]
    },
    {
     "name": "stderr",
     "output_type": "stream",
     "text": [
      "\u001b[32m[I 2021-07-11 01:05:02,434]\u001b[0m Trial 95 finished with value: -2.301943981336186 and parameters: {'max_depth': 6, 'min_child_weight': 19, 'subsample': 0.7, 'colsample_bytree': 0.5, 'reg_lambda': 0.24370467354461786, 'reg_alpha': 0.04275829361302176, 'feature_fraction': 0.5810977477399732, 'bagging_fraction': 0.322863138820458, 'bagging_freq': 4, 'num_leaves': 184, 'min_child_samples': 80}. Best is trial 78 with value: -2.285454771702014.\u001b[0m\n"
     ]
    },
    {
     "name": "stdout",
     "output_type": "stream",
     "text": [
      "Early stopping, best iteration is:\n",
      "[26]\ttraining's l1: 1.96793\tvalid_1's l1: 2.30194\n",
      "[LightGBM] [Warning] feature_fraction is set=0.5800213139063087, colsample_bytree=0.5 will be ignored. Current value: feature_fraction=0.5800213139063087\n",
      "[LightGBM] [Warning] bagging_fraction is set=0.3388893747119882, subsample=0.7 will be ignored. Current value: bagging_fraction=0.3388893747119882\n",
      "[LightGBM] [Warning] bagging_freq is set=5, subsample_freq=0 will be ignored. Current value: bagging_freq=5\n",
      "Training until validation scores don't improve for 100 rounds\n",
      "[100]\ttraining's l1: 1.81555\tvalid_1's l1: 2.33822\n"
     ]
    },
    {
     "name": "stderr",
     "output_type": "stream",
     "text": [
      "\u001b[32m[I 2021-07-11 01:05:07,527]\u001b[0m Trial 96 finished with value: -2.2863787346352247 and parameters: {'max_depth': 9, 'min_child_weight': 19, 'subsample': 0.7, 'colsample_bytree': 0.5, 'reg_lambda': 0.5480091748169722, 'reg_alpha': 0.035265853438988665, 'feature_fraction': 0.5800213139063087, 'bagging_fraction': 0.3388893747119882, 'bagging_freq': 5, 'num_leaves': 517, 'min_child_samples': 76}. Best is trial 78 with value: -2.285454771702014.\u001b[0m\n"
     ]
    },
    {
     "name": "stdout",
     "output_type": "stream",
     "text": [
      "Early stopping, best iteration is:\n",
      "[25]\ttraining's l1: 1.90255\tvalid_1's l1: 2.28638\n",
      "[LightGBM] [Warning] feature_fraction is set=0.5773383479531243, colsample_bytree=0.5 will be ignored. Current value: feature_fraction=0.5773383479531243\n",
      "[LightGBM] [Warning] bagging_fraction is set=0.21932950458883566, subsample=0.7 will be ignored. Current value: bagging_fraction=0.21932950458883566\n",
      "[LightGBM] [Warning] bagging_freq is set=5, subsample_freq=0 will be ignored. Current value: bagging_freq=5\n",
      "Training until validation scores don't improve for 100 rounds\n",
      "[100]\ttraining's l1: 1.8243\tvalid_1's l1: 2.34902\n"
     ]
    },
    {
     "name": "stderr",
     "output_type": "stream",
     "text": [
      "\u001b[32m[I 2021-07-11 01:05:11,666]\u001b[0m Trial 97 finished with value: -2.292760408213355 and parameters: {'max_depth': 9, 'min_child_weight': 19, 'subsample': 0.7, 'colsample_bytree': 0.5, 'reg_lambda': 0.4657015475746918, 'reg_alpha': 0.03478305545755283, 'feature_fraction': 0.5773383479531243, 'bagging_fraction': 0.21932950458883566, 'bagging_freq': 5, 'num_leaves': 500, 'min_child_samples': 76}. Best is trial 78 with value: -2.285454771702014.\u001b[0m\n"
     ]
    },
    {
     "name": "stdout",
     "output_type": "stream",
     "text": [
      "Early stopping, best iteration is:\n",
      "[18]\ttraining's l1: 1.96981\tvalid_1's l1: 2.29276\n",
      "[LightGBM] [Warning] feature_fraction is set=0.5457685380823484, colsample_bytree=0.6 will be ignored. Current value: feature_fraction=0.5457685380823484\n",
      "[LightGBM] [Warning] bagging_fraction is set=0.36808276239955784, subsample=0.7 will be ignored. Current value: bagging_fraction=0.36808276239955784\n",
      "[LightGBM] [Warning] bagging_freq is set=4, subsample_freq=0 will be ignored. Current value: bagging_freq=4\n",
      "Training until validation scores don't improve for 100 rounds\n",
      "[100]\ttraining's l1: 1.78398\tvalid_1's l1: 2.3765\n"
     ]
    },
    {
     "name": "stderr",
     "output_type": "stream",
     "text": [
      "\u001b[32m[I 2021-07-11 01:05:17,749]\u001b[0m Trial 98 finished with value: -2.305713896044115 and parameters: {'max_depth': 11, 'min_child_weight': 20, 'subsample': 0.7, 'colsample_bytree': 0.6, 'reg_lambda': 0.5523472554968012, 'reg_alpha': 0.017210792488903604, 'feature_fraction': 0.5457685380823484, 'bagging_fraction': 0.36808276239955784, 'bagging_freq': 4, 'num_leaves': 555, 'min_child_samples': 71}. Best is trial 78 with value: -2.285454771702014.\u001b[0m\n"
     ]
    },
    {
     "name": "stdout",
     "output_type": "stream",
     "text": [
      "Early stopping, best iteration is:\n",
      "[22]\ttraining's l1: 1.89869\tvalid_1's l1: 2.30571\n",
      "[LightGBM] [Warning] feature_fraction is set=0.6308262235730818, colsample_bytree=0.5 will be ignored. Current value: feature_fraction=0.6308262235730818\n",
      "[LightGBM] [Warning] bagging_fraction is set=0.24156917327226257, subsample=0.6 will be ignored. Current value: bagging_fraction=0.24156917327226257\n",
      "[LightGBM] [Warning] bagging_freq is set=5, subsample_freq=0 will be ignored. Current value: bagging_freq=5\n",
      "Training until validation scores don't improve for 100 rounds\n",
      "[100]\ttraining's l1: 1.84164\tvalid_1's l1: 2.33458\n"
     ]
    },
    {
     "name": "stderr",
     "output_type": "stream",
     "text": [
      "\u001b[32m[I 2021-07-11 01:05:21,609]\u001b[0m Trial 99 finished with value: -2.294644245824871 and parameters: {'max_depth': 8, 'min_child_weight': 19, 'subsample': 0.6, 'colsample_bytree': 0.5, 'reg_lambda': 0.3235622638700643, 'reg_alpha': 0.05482553143363373, 'feature_fraction': 0.6308262235730818, 'bagging_fraction': 0.24156917327226257, 'bagging_freq': 5, 'num_leaves': 469, 'min_child_samples': 78}. Best is trial 78 with value: -2.285454771702014.\u001b[0m\n"
     ]
    },
    {
     "name": "stdout",
     "output_type": "stream",
     "text": [
      "Early stopping, best iteration is:\n",
      "[21]\ttraining's l1: 1.94863\tvalid_1's l1: 2.29464\n",
      "Number of finished trials: 100\n",
      "Best trial: {'max_depth': 9, 'min_child_weight': 19, 'subsample': 0.7, 'colsample_bytree': 0.5, 'reg_lambda': 0.842789768469053, 'reg_alpha': 0.002083027512061945, 'feature_fraction': 0.6685585785820495, 'bagging_fraction': 0.24812681263609027, 'bagging_freq': 4, 'num_leaves': 300, 'min_child_samples': 88}\n"
     ]
    }
   ],
   "source": [
    "study2 = optuna.create_study(direction='maximize')\n",
    "study2.optimize(fit_lgbm(x_train[feature_cols2], y_train['target2'], x_valid[feature_cols2], y_valid['target2'], learning_rates[1]), n_trials=100)\n",
    "\n",
    "print('Number of finished trials:', len(study2.trials))\n",
    "print('Best trial:', study2.best_trial.params)"
   ]
  },
  {
   "cell_type": "code",
   "execution_count": 138,
   "id": "07b924ef",
   "metadata": {},
   "outputs": [
    {
     "name": "stderr",
     "output_type": "stream",
     "text": [
      "\u001b[32m[I 2021-07-11 01:05:21,629]\u001b[0m A new study created in memory with name: no-name-3ed46c1a-523f-4604-94d2-c2796ad1f2e5\u001b[0m\n"
     ]
    },
    {
     "name": "stdout",
     "output_type": "stream",
     "text": [
      "[LightGBM] [Warning] feature_fraction is set=0.8010058286178012, colsample_bytree=0.6 will be ignored. Current value: feature_fraction=0.8010058286178012\n",
      "[LightGBM] [Warning] bagging_fraction is set=0.2655683981657584, subsample=0.8 will be ignored. Current value: bagging_fraction=0.2655683981657584\n",
      "[LightGBM] [Warning] bagging_freq is set=4, subsample_freq=0 will be ignored. Current value: bagging_freq=4\n",
      "Training until validation scores don't improve for 100 rounds\n",
      "[100]\ttraining's l1: 1.02802\tvalid_1's l1: 0.940229\n",
      "[200]\ttraining's l1: 1.02636\tvalid_1's l1: 0.938505\n",
      "[300]\ttraining's l1: 1.02544\tvalid_1's l1: 0.938052\n",
      "[400]\ttraining's l1: 1.02518\tvalid_1's l1: 0.937863\n"
     ]
    },
    {
     "name": "stderr",
     "output_type": "stream",
     "text": [
      "\u001b[32m[I 2021-07-11 01:05:30,997]\u001b[0m Trial 0 finished with value: -0.9377932472955953 and parameters: {'max_depth': 13, 'min_child_weight': 9, 'subsample': 0.8, 'colsample_bytree': 0.6, 'reg_lambda': 2.8857285007679416, 'reg_alpha': 0.695191296239525, 'feature_fraction': 0.8010058286178012, 'bagging_fraction': 0.2655683981657584, 'bagging_freq': 4, 'num_leaves': 83, 'min_child_samples': 54}. Best is trial 0 with value: -0.9377932472955953.\u001b[0m\n"
     ]
    },
    {
     "name": "stdout",
     "output_type": "stream",
     "text": [
      "Early stopping, best iteration is:\n",
      "[326]\ttraining's l1: 1.02524\tvalid_1's l1: 0.937795\n",
      "[LightGBM] [Warning] feature_fraction is set=0.8453783826759187, colsample_bytree=0.5 will be ignored. Current value: feature_fraction=0.8453783826759187\n",
      "[LightGBM] [Warning] bagging_fraction is set=0.47401121333500584, subsample=0.5 will be ignored. Current value: bagging_fraction=0.47401121333500584\n",
      "[LightGBM] [Warning] bagging_freq is set=6, subsample_freq=0 will be ignored. Current value: bagging_freq=6\n",
      "Training until validation scores don't improve for 100 rounds\n",
      "[100]\ttraining's l1: 1.0055\tvalid_1's l1: 0.944396\n"
     ]
    },
    {
     "name": "stderr",
     "output_type": "stream",
     "text": [
      "\u001b[32m[I 2021-07-11 01:05:38,059]\u001b[0m Trial 1 finished with value: -0.9410826884517539 and parameters: {'max_depth': 17, 'min_child_weight': 11, 'subsample': 0.5, 'colsample_bytree': 0.5, 'reg_lambda': 0.03706607555499961, 'reg_alpha': 61.77686021233244, 'feature_fraction': 0.8453783826759187, 'bagging_fraction': 0.47401121333500584, 'bagging_freq': 6, 'num_leaves': 826, 'min_child_samples': 54}. Best is trial 0 with value: -0.9377932472955953.\u001b[0m\n"
     ]
    },
    {
     "name": "stdout",
     "output_type": "stream",
     "text": [
      "Early stopping, best iteration is:\n",
      "[33]\ttraining's l1: 1.01468\tvalid_1's l1: 0.941088\n",
      "[LightGBM] [Warning] feature_fraction is set=0.29488538956072735, colsample_bytree=0.8 will be ignored. Current value: feature_fraction=0.29488538956072735\n",
      "[LightGBM] [Warning] bagging_fraction is set=0.4470768235541095, subsample=0.6 will be ignored. Current value: bagging_fraction=0.4470768235541095\n",
      "[LightGBM] [Warning] bagging_freq is set=13, subsample_freq=0 will be ignored. Current value: bagging_freq=13\n",
      "Training until validation scores don't improve for 100 rounds\n",
      "[100]\ttraining's l1: 1.03207\tvalid_1's l1: 0.946631\n"
     ]
    },
    {
     "name": "stderr",
     "output_type": "stream",
     "text": [
      "\u001b[32m[I 2021-07-11 01:05:43,054]\u001b[0m Trial 2 finished with value: -0.9464380346428375 and parameters: {'max_depth': 13, 'min_child_weight': 4, 'subsample': 0.6, 'colsample_bytree': 0.8, 'reg_lambda': 0.0028315065235616746, 'reg_alpha': 811.4325898580195, 'feature_fraction': 0.29488538956072735, 'bagging_fraction': 0.4470768235541095, 'bagging_freq': 13, 'num_leaves': 945, 'min_child_samples': 24}. Best is trial 0 with value: -0.9377932472955953.\u001b[0m\n"
     ]
    },
    {
     "name": "stdout",
     "output_type": "stream",
     "text": [
      "[200]\ttraining's l1: 1.03028\tvalid_1's l1: 0.948212\n",
      "Early stopping, best iteration is:\n",
      "[104]\ttraining's l1: 1.03186\tvalid_1's l1: 0.946462\n",
      "[LightGBM] [Warning] feature_fraction is set=0.7568307741754585, colsample_bytree=0.6 will be ignored. Current value: feature_fraction=0.7568307741754585\n",
      "[LightGBM] [Warning] bagging_fraction is set=0.5749177090945099, subsample=0.5 will be ignored. Current value: bagging_fraction=0.5749177090945099\n",
      "[LightGBM] [Warning] bagging_freq is set=1, subsample_freq=0 will be ignored. Current value: bagging_freq=1\n",
      "Training until validation scores don't improve for 100 rounds\n",
      "[100]\ttraining's l1: 1.02257\tvalid_1's l1: 0.935317\n",
      "[200]\ttraining's l1: 1.01744\tvalid_1's l1: 0.93468\n"
     ]
    },
    {
     "name": "stderr",
     "output_type": "stream",
     "text": [
      "\u001b[32m[I 2021-07-11 01:05:49,262]\u001b[0m Trial 3 finished with value: -0.9341923619148049 and parameters: {'max_depth': 6, 'min_child_weight': 14, 'subsample': 0.5, 'colsample_bytree': 0.6, 'reg_lambda': 7.602416093821154, 'reg_alpha': 32.28550276643825, 'feature_fraction': 0.7568307741754585, 'bagging_fraction': 0.5749177090945099, 'bagging_freq': 1, 'num_leaves': 890, 'min_child_samples': 78}. Best is trial 3 with value: -0.9341923619148049.\u001b[0m\n"
     ]
    },
    {
     "name": "stdout",
     "output_type": "stream",
     "text": [
      "Early stopping, best iteration is:\n",
      "[125]\ttraining's l1: 1.01945\tvalid_1's l1: 0.934199\n",
      "[LightGBM] [Warning] feature_fraction is set=0.2749261394983566, colsample_bytree=0.9 will be ignored. Current value: feature_fraction=0.2749261394983566\n",
      "[LightGBM] [Warning] bagging_fraction is set=0.4601889700498767, subsample=0.5 will be ignored. Current value: bagging_fraction=0.4601889700498767\n",
      "[LightGBM] [Warning] bagging_freq is set=12, subsample_freq=0 will be ignored. Current value: bagging_freq=12\n",
      "Training until validation scores don't improve for 100 rounds\n",
      "[100]\ttraining's l1: 1.00481\tvalid_1's l1: 0.942091\n"
     ]
    },
    {
     "name": "stderr",
     "output_type": "stream",
     "text": [
      "\u001b[32m[I 2021-07-11 01:05:55,507]\u001b[0m Trial 4 finished with value: -0.9380987757199057 and parameters: {'max_depth': 16, 'min_child_weight': 5, 'subsample': 0.5, 'colsample_bytree': 0.9, 'reg_lambda': 0.013878273828509976, 'reg_alpha': 27.001409970216102, 'feature_fraction': 0.2749261394983566, 'bagging_fraction': 0.4601889700498767, 'bagging_freq': 12, 'num_leaves': 418, 'min_child_samples': 19}. Best is trial 3 with value: -0.9341923619148049.\u001b[0m\n"
     ]
    },
    {
     "name": "stdout",
     "output_type": "stream",
     "text": [
      "Early stopping, best iteration is:\n",
      "[36]\ttraining's l1: 1.01561\tvalid_1's l1: 0.938108\n",
      "[LightGBM] [Warning] feature_fraction is set=0.937566852941309, colsample_bytree=0.8 will be ignored. Current value: feature_fraction=0.937566852941309\n",
      "[LightGBM] [Warning] bagging_fraction is set=0.35795463045700143, subsample=0.7 will be ignored. Current value: bagging_fraction=0.35795463045700143\n",
      "[LightGBM] [Warning] bagging_freq is set=8, subsample_freq=0 will be ignored. Current value: bagging_freq=8\n",
      "Training until validation scores don't improve for 100 rounds\n",
      "[100]\ttraining's l1: 1.03705\tvalid_1's l1: 0.944459\n",
      "[200]\ttraining's l1: 1.03331\tvalid_1's l1: 0.940888\n",
      "[300]\ttraining's l1: 1.03023\tvalid_1's l1: 0.939276\n",
      "[400]\ttraining's l1: 1.02914\tvalid_1's l1: 0.93797\n",
      "[500]\ttraining's l1: 1.02834\tvalid_1's l1: 0.937431\n",
      "[600]\ttraining's l1: 1.0273\tvalid_1's l1: 0.936975\n",
      "Early stopping, best iteration is:\n",
      "[516]\ttraining's l1: 1.02791\tvalid_1's l1: 0.936886\n"
     ]
    },
    {
     "name": "stderr",
     "output_type": "stream",
     "text": [
      "\u001b[32m[I 2021-07-11 01:06:04,248]\u001b[0m Trial 5 finished with value: -0.9368741904211431 and parameters: {'max_depth': 3, 'min_child_weight': 19, 'subsample': 0.7, 'colsample_bytree': 0.8, 'reg_lambda': 18.16271146576208, 'reg_alpha': 0.2135312760671067, 'feature_fraction': 0.937566852941309, 'bagging_fraction': 0.35795463045700143, 'bagging_freq': 8, 'num_leaves': 291, 'min_child_samples': 5}. Best is trial 3 with value: -0.9341923619148049.\u001b[0m\n"
     ]
    },
    {
     "name": "stdout",
     "output_type": "stream",
     "text": [
      "[LightGBM] [Warning] feature_fraction is set=0.776541197881466, colsample_bytree=0.6 will be ignored. Current value: feature_fraction=0.776541197881466\n",
      "[LightGBM] [Warning] bagging_fraction is set=0.23043877947991814, subsample=0.5 will be ignored. Current value: bagging_fraction=0.23043877947991814\n",
      "[LightGBM] [Warning] bagging_freq is set=10, subsample_freq=0 will be ignored. Current value: bagging_freq=10\n",
      "Training until validation scores don't improve for 100 rounds\n",
      "[100]\ttraining's l1: 1.03377\tvalid_1's l1: 0.943767\n",
      "[200]\ttraining's l1: 1.02766\tvalid_1's l1: 0.938341\n",
      "[300]\ttraining's l1: 1.02589\tvalid_1's l1: 0.937262\n"
     ]
    },
    {
     "name": "stderr",
     "output_type": "stream",
     "text": [
      "\u001b[32m[I 2021-07-11 01:06:09,415]\u001b[0m Trial 6 finished with value: -0.9372492824584469 and parameters: {'max_depth': 4, 'min_child_weight': 20, 'subsample': 0.5, 'colsample_bytree': 0.6, 'reg_lambda': 56.859439662666134, 'reg_alpha': 0.006940982165307371, 'feature_fraction': 0.776541197881466, 'bagging_fraction': 0.23043877947991814, 'bagging_freq': 10, 'num_leaves': 851, 'min_child_samples': 13}. Best is trial 3 with value: -0.9341923619148049.\u001b[0m\n"
     ]
    },
    {
     "name": "stdout",
     "output_type": "stream",
     "text": [
      "[400]\ttraining's l1: 1.02578\tvalid_1's l1: 0.937358\n",
      "Early stopping, best iteration is:\n",
      "[304]\ttraining's l1: 1.02587\tvalid_1's l1: 0.937255\n",
      "[LightGBM] [Warning] feature_fraction is set=0.8852773340053415, colsample_bytree=0.8 will be ignored. Current value: feature_fraction=0.8852773340053415\n",
      "[LightGBM] [Warning] bagging_fraction is set=0.9191536403966645, subsample=0.6 will be ignored. Current value: bagging_fraction=0.9191536403966645\n",
      "[LightGBM] [Warning] bagging_freq is set=4, subsample_freq=0 will be ignored. Current value: bagging_freq=4\n",
      "Training until validation scores don't improve for 100 rounds\n",
      "[100]\ttraining's l1: 1.00536\tvalid_1's l1: 0.929327\n"
     ]
    },
    {
     "name": "stderr",
     "output_type": "stream",
     "text": [
      "\u001b[32m[I 2021-07-11 01:06:18,428]\u001b[0m Trial 7 finished with value: -0.9278080420668581 and parameters: {'max_depth': 9, 'min_child_weight': 10, 'subsample': 0.6, 'colsample_bytree': 0.8, 'reg_lambda': 0.0013121850577294983, 'reg_alpha': 0.2004403794010901, 'feature_fraction': 0.8852773340053415, 'bagging_fraction': 0.9191536403966645, 'bagging_freq': 4, 'num_leaves': 858, 'min_child_samples': 28}. Best is trial 7 with value: -0.9278080420668581.\u001b[0m\n"
     ]
    },
    {
     "name": "stdout",
     "output_type": "stream",
     "text": [
      "Early stopping, best iteration is:\n",
      "[58]\ttraining's l1: 1.00827\tvalid_1's l1: 0.927809\n",
      "[LightGBM] [Warning] feature_fraction is set=0.4210959256156218, colsample_bytree=0.5 will be ignored. Current value: feature_fraction=0.4210959256156218\n",
      "[LightGBM] [Warning] bagging_fraction is set=0.3727528966784725, subsample=0.9 will be ignored. Current value: bagging_fraction=0.3727528966784725\n",
      "[LightGBM] [Warning] bagging_freq is set=15, subsample_freq=0 will be ignored. Current value: bagging_freq=15\n",
      "Training until validation scores don't improve for 100 rounds\n",
      "[100]\ttraining's l1: 1.01589\tvalid_1's l1: 0.938533\n"
     ]
    },
    {
     "name": "stderr",
     "output_type": "stream",
     "text": [
      "\u001b[32m[I 2021-07-11 01:06:23,870]\u001b[0m Trial 8 finished with value: -0.9342366326670455 and parameters: {'max_depth': 17, 'min_child_weight': 16, 'subsample': 0.9, 'colsample_bytree': 0.5, 'reg_lambda': 0.06919938499120822, 'reg_alpha': 19.284504062781828, 'feature_fraction': 0.4210959256156218, 'bagging_fraction': 0.3727528966784725, 'bagging_freq': 15, 'num_leaves': 156, 'min_child_samples': 93}. Best is trial 7 with value: -0.9278080420668581.\u001b[0m\n"
     ]
    },
    {
     "name": "stdout",
     "output_type": "stream",
     "text": [
      "Early stopping, best iteration is:\n",
      "[57]\ttraining's l1: 1.02058\tvalid_1's l1: 0.934237\n",
      "[LightGBM] [Warning] feature_fraction is set=0.4716322911386584, colsample_bytree=0.8 will be ignored. Current value: feature_fraction=0.4716322911386584\n",
      "[LightGBM] [Warning] bagging_fraction is set=0.681822801409394, subsample=0.5 will be ignored. Current value: bagging_fraction=0.681822801409394\n",
      "[LightGBM] [Warning] bagging_freq is set=16, subsample_freq=0 will be ignored. Current value: bagging_freq=16\n",
      "Training until validation scores don't improve for 100 rounds\n",
      "[100]\ttraining's l1: 0.988959\tvalid_1's l1: 0.937188\n"
     ]
    },
    {
     "name": "stderr",
     "output_type": "stream",
     "text": [
      "\u001b[32m[I 2021-07-11 01:06:32,275]\u001b[0m Trial 9 finished with value: -0.9328835149244378 and parameters: {'max_depth': 12, 'min_child_weight': 11, 'subsample': 0.5, 'colsample_bytree': 0.8, 'reg_lambda': 0.004253274342893471, 'reg_alpha': 0.007517124199931844, 'feature_fraction': 0.4716322911386584, 'bagging_fraction': 0.681822801409394, 'bagging_freq': 16, 'num_leaves': 850, 'min_child_samples': 23}. Best is trial 7 with value: -0.9278080420668581.\u001b[0m\n"
     ]
    },
    {
     "name": "stdout",
     "output_type": "stream",
     "text": [
      "Early stopping, best iteration is:\n",
      "[24]\ttraining's l1: 1.00532\tvalid_1's l1: 0.932885\n",
      "[LightGBM] [Warning] feature_fraction is set=0.9974489905764197, colsample_bytree=0.9 will be ignored. Current value: feature_fraction=0.9974489905764197\n",
      "[LightGBM] [Warning] bagging_fraction is set=0.9793482338564412, subsample=0.7 will be ignored. Current value: bagging_fraction=0.9793482338564412\n",
      "[LightGBM] [Warning] bagging_freq is set=2, subsample_freq=0 will be ignored. Current value: bagging_freq=2\n",
      "Training until validation scores don't improve for 100 rounds\n",
      "[100]\ttraining's l1: 1.01977\tvalid_1's l1: 0.93691\n",
      "[200]\ttraining's l1: 1.01398\tvalid_1's l1: 0.935894\n"
     ]
    },
    {
     "name": "stderr",
     "output_type": "stream",
     "text": [
      "\u001b[32m[I 2021-07-11 01:06:46,546]\u001b[0m Trial 10 finished with value: -0.9345484318300463 and parameters: {'max_depth': 8, 'min_child_weight': 1, 'subsample': 0.7, 'colsample_bytree': 0.9, 'reg_lambda': 974.8652901650823, 'reg_alpha': 0.05256151813887771, 'feature_fraction': 0.9974489905764197, 'bagging_fraction': 0.9793482338564412, 'bagging_freq': 2, 'num_leaves': 673, 'min_child_samples': 40}. Best is trial 7 with value: -0.9278080420668581.\u001b[0m\n"
     ]
    },
    {
     "name": "stdout",
     "output_type": "stream",
     "text": [
      "Early stopping, best iteration is:\n",
      "[131]\ttraining's l1: 1.01698\tvalid_1's l1: 0.934557\n",
      "[LightGBM] [Warning] feature_fraction is set=0.5610998547506003, colsample_bytree=0.8 will be ignored. Current value: feature_fraction=0.5610998547506003\n",
      "[LightGBM] [Warning] bagging_fraction is set=0.8748615225255622, subsample=0.6 will be ignored. Current value: bagging_fraction=0.8748615225255622\n",
      "[LightGBM] [Warning] bagging_freq is set=19, subsample_freq=0 will be ignored. Current value: bagging_freq=19\n",
      "Training until validation scores don't improve for 100 rounds\n",
      "[100]\ttraining's l1: 0.998512\tvalid_1's l1: 0.931291\n"
     ]
    },
    {
     "name": "stderr",
     "output_type": "stream",
     "text": [
      "\u001b[32m[I 2021-07-11 01:06:55,979]\u001b[0m Trial 11 finished with value: -0.92855334916751 and parameters: {'max_depth': 10, 'min_child_weight': 9, 'subsample': 0.6, 'colsample_bytree': 0.8, 'reg_lambda': 0.0011383813276183027, 'reg_alpha': 0.0011891619819552309, 'feature_fraction': 0.5610998547506003, 'bagging_fraction': 0.8748615225255622, 'bagging_freq': 19, 'num_leaves': 650, 'min_child_samples': 35}. Best is trial 7 with value: -0.9278080420668581.\u001b[0m\n"
     ]
    },
    {
     "name": "stdout",
     "output_type": "stream",
     "text": [
      "Early stopping, best iteration is:\n",
      "[41]\ttraining's l1: 1.00562\tvalid_1's l1: 0.928554\n",
      "[LightGBM] [Warning] feature_fraction is set=0.5976122314400637, colsample_bytree=0.7 will be ignored. Current value: feature_fraction=0.5976122314400637\n",
      "[LightGBM] [Warning] bagging_fraction is set=0.9612414048048991, subsample=0.6 will be ignored. Current value: bagging_fraction=0.9612414048048991\n",
      "[LightGBM] [Warning] bagging_freq is set=19, subsample_freq=0 will be ignored. Current value: bagging_freq=19\n",
      "Training until validation scores don't improve for 100 rounds\n",
      "[100]\ttraining's l1: 1.00335\tvalid_1's l1: 0.929663\n",
      "[200]\ttraining's l1: 0.997208\tvalid_1's l1: 0.928066\n"
     ]
    },
    {
     "name": "stderr",
     "output_type": "stream",
     "text": [
      "\u001b[32m[I 2021-07-11 01:07:09,821]\u001b[0m Trial 12 finished with value: -0.9263018689260238 and parameters: {'max_depth': 9, 'min_child_weight': 7, 'subsample': 0.6, 'colsample_bytree': 0.7, 'reg_lambda': 0.3530418141835024, 'reg_alpha': 0.0010446683201150231, 'feature_fraction': 0.5976122314400637, 'bagging_fraction': 0.9612414048048991, 'bagging_freq': 19, 'num_leaves': 637, 'min_child_samples': 39}. Best is trial 12 with value: -0.9263018689260238.\u001b[0m\n"
     ]
    },
    {
     "name": "stdout",
     "output_type": "stream",
     "text": [
      "Early stopping, best iteration is:\n",
      "[132]\ttraining's l1: 1.00068\tvalid_1's l1: 0.926317\n",
      "[LightGBM] [Warning] feature_fraction is set=0.6281692208924146, colsample_bytree=0.7 will be ignored. Current value: feature_fraction=0.6281692208924146\n",
      "[LightGBM] [Warning] bagging_fraction is set=0.8197058842643498, subsample=0.6 will be ignored. Current value: bagging_fraction=0.8197058842643498\n",
      "[LightGBM] [Warning] bagging_freq is set=20, subsample_freq=0 will be ignored. Current value: bagging_freq=20\n",
      "Training until validation scores don't improve for 100 rounds\n",
      "[100]\ttraining's l1: 1.00573\tvalid_1's l1: 0.930972\n"
     ]
    },
    {
     "name": "stderr",
     "output_type": "stream",
     "text": [
      "\u001b[32m[I 2021-07-11 01:07:16,685]\u001b[0m Trial 13 finished with value: -0.9288777655831204 and parameters: {'max_depth': 8, 'min_child_weight': 6, 'subsample': 0.6, 'colsample_bytree': 0.7, 'reg_lambda': 0.28704511579162323, 'reg_alpha': 0.0010196590458703104, 'feature_fraction': 0.6281692208924146, 'bagging_fraction': 0.8197058842643498, 'bagging_freq': 20, 'num_leaves': 624, 'min_child_samples': 41}. Best is trial 12 with value: -0.9263018689260238.\u001b[0m\n"
     ]
    },
    {
     "name": "stdout",
     "output_type": "stream",
     "text": [
      "Early stopping, best iteration is:\n",
      "[67]\ttraining's l1: 1.01267\tvalid_1's l1: 0.928883\n",
      "[LightGBM] [Warning] feature_fraction is set=0.667954835130657, colsample_bytree=0.7 will be ignored. Current value: feature_fraction=0.667954835130657\n",
      "[LightGBM] [Warning] bagging_fraction is set=0.9914979620308569, subsample=0.6 will be ignored. Current value: bagging_fraction=0.9914979620308569\n",
      "[LightGBM] [Warning] bagging_freq is set=6, subsample_freq=0 will be ignored. Current value: bagging_freq=6\n",
      "Training until validation scores don't improve for 100 rounds\n",
      "[100]\ttraining's l1: 1.06085\tvalid_1's l1: 0.972408\n"
     ]
    },
    {
     "name": "stderr",
     "output_type": "stream",
     "text": [
      "\u001b[32m[I 2021-07-11 01:07:20,654]\u001b[0m Trial 14 finished with value: -0.9723681209908693 and parameters: {'max_depth': 1, 'min_child_weight': 7, 'subsample': 0.6, 'colsample_bytree': 0.7, 'reg_lambda': 0.3837639460838184, 'reg_alpha': 2.9721953819090143, 'feature_fraction': 0.667954835130657, 'bagging_fraction': 0.9914979620308569, 'bagging_freq': 6, 'num_leaves': 482, 'min_child_samples': 65}. Best is trial 12 with value: -0.9263018689260238.\u001b[0m\n"
     ]
    },
    {
     "name": "stdout",
     "output_type": "stream",
     "text": [
      "Early stopping, best iteration is:\n",
      "[18]\ttraining's l1: 1.06099\tvalid_1's l1: 0.972368\n",
      "[LightGBM] [Warning] feature_fraction is set=0.48749798176262105, colsample_bytree=0.7 will be ignored. Current value: feature_fraction=0.48749798176262105\n",
      "[LightGBM] [Warning] bagging_fraction is set=0.8267287802209281, subsample=0.7 will be ignored. Current value: bagging_fraction=0.8267287802209281\n",
      "[LightGBM] [Warning] bagging_freq is set=17, subsample_freq=0 will be ignored. Current value: bagging_freq=17\n",
      "Training until validation scores don't improve for 100 rounds\n",
      "[100]\ttraining's l1: 1.00841\tvalid_1's l1: 0.936128\n"
     ]
    },
    {
     "name": "stderr",
     "output_type": "stream",
     "text": [
      "\u001b[32m[I 2021-07-11 01:07:30,372]\u001b[0m Trial 15 finished with value: -0.9360065265193599 and parameters: {'max_depth': 9, 'min_child_weight': 2, 'subsample': 0.7, 'colsample_bytree': 0.7, 'reg_lambda': 477.23501529732613, 'reg_alpha': 0.032225649613886284, 'feature_fraction': 0.48749798176262105, 'bagging_fraction': 0.8267287802209281, 'bagging_freq': 17, 'num_leaves': 598, 'min_child_samples': 30}. Best is trial 12 with value: -0.9263018689260238.\u001b[0m\n"
     ]
    },
    {
     "name": "stdout",
     "output_type": "stream",
     "text": [
      "Early stopping, best iteration is:\n",
      "[98]\ttraining's l1: 1.0089\tvalid_1's l1: 0.936027\n",
      "[LightGBM] [Warning] feature_fraction is set=0.6870466113541804, colsample_bytree=0.9 will be ignored. Current value: feature_fraction=0.6870466113541804\n",
      "[LightGBM] [Warning] bagging_fraction is set=0.7183831126636991, subsample=0.8 will be ignored. Current value: bagging_fraction=0.7183831126636991\n",
      "[LightGBM] [Warning] bagging_freq is set=9, subsample_freq=0 will be ignored. Current value: bagging_freq=9\n",
      "Training until validation scores don't improve for 100 rounds\n",
      "[100]\ttraining's l1: 1.02332\tvalid_1's l1: 0.934952\n",
      "[200]\ttraining's l1: 1.02031\tvalid_1's l1: 0.932895\n"
     ]
    },
    {
     "name": "stderr",
     "output_type": "stream",
     "text": [
      "\u001b[32m[I 2021-07-11 01:07:37,906]\u001b[0m Trial 16 finished with value: -0.9327653380314392 and parameters: {'max_depth': 6, 'min_child_weight': 14, 'subsample': 0.8, 'colsample_bytree': 0.9, 'reg_lambda': 115.81173314698215, 'reg_alpha': 2.2900749354044088, 'feature_fraction': 0.6870466113541804, 'bagging_fraction': 0.7183831126636991, 'bagging_freq': 9, 'num_leaves': 743, 'min_child_samples': 7}. Best is trial 12 with value: -0.9263018689260238.\u001b[0m\n"
     ]
    },
    {
     "name": "stdout",
     "output_type": "stream",
     "text": [
      "Early stopping, best iteration is:\n",
      "[164]\ttraining's l1: 1.02035\tvalid_1's l1: 0.932772\n",
      "[LightGBM] [Warning] feature_fraction is set=0.9201517287070085, colsample_bytree=0.8 will be ignored. Current value: feature_fraction=0.9201517287070085\n",
      "[LightGBM] [Warning] bagging_fraction is set=0.9161942112925459, subsample=0.6 will be ignored. Current value: bagging_fraction=0.9161942112925459\n",
      "[LightGBM] [Warning] bagging_freq is set=3, subsample_freq=0 will be ignored. Current value: bagging_freq=3\n",
      "Training until validation scores don't improve for 100 rounds\n",
      "[100]\ttraining's l1: 0.998769\tvalid_1's l1: 0.930103\n"
     ]
    },
    {
     "name": "stderr",
     "output_type": "stream",
     "text": [
      "\u001b[32m[I 2021-07-11 01:07:47,366]\u001b[0m Trial 17 finished with value: -0.9294551750002498 and parameters: {'max_depth': 11, 'min_child_weight': 8, 'subsample': 0.6, 'colsample_bytree': 0.8, 'reg_lambda': 1.1748052975208378, 'reg_alpha': 0.005345839972896843, 'feature_fraction': 0.9201517287070085, 'bagging_fraction': 0.9161942112925459, 'bagging_freq': 3, 'num_leaves': 979, 'min_child_samples': 47}. Best is trial 12 with value: -0.9263018689260238.\u001b[0m\n"
     ]
    },
    {
     "name": "stdout",
     "output_type": "stream",
     "text": [
      "Early stopping, best iteration is:\n",
      "[28]\ttraining's l1: 1.0067\tvalid_1's l1: 0.929455\n",
      "[LightGBM] [Warning] feature_fraction is set=0.370366367067399, colsample_bytree=0.7 will be ignored. Current value: feature_fraction=0.370366367067399\n",
      "[LightGBM] [Warning] bagging_fraction is set=0.7366702479626202, subsample=0.8 will be ignored. Current value: bagging_fraction=0.7366702479626202\n",
      "[LightGBM] [Warning] bagging_freq is set=6, subsample_freq=0 will be ignored. Current value: bagging_freq=6\n",
      "Training until validation scores don't improve for 100 rounds\n",
      "[100]\ttraining's l1: 0.987466\tvalid_1's l1: 0.942269\n"
     ]
    },
    {
     "name": "stderr",
     "output_type": "stream",
     "text": [
      "\u001b[32m[I 2021-07-11 01:07:57,560]\u001b[0m Trial 18 finished with value: -0.9334002295421261 and parameters: {'max_depth': 14, 'min_child_weight': 3, 'subsample': 0.8, 'colsample_bytree': 0.7, 'reg_lambda': 0.0010062549779294807, 'reg_alpha': 0.10934682494001927, 'feature_fraction': 0.370366367067399, 'bagging_fraction': 0.7366702479626202, 'bagging_freq': 6, 'num_leaves': 751, 'min_child_samples': 66}. Best is trial 12 with value: -0.9263018689260238.\u001b[0m\n"
     ]
    },
    {
     "name": "stdout",
     "output_type": "stream",
     "text": [
      "Early stopping, best iteration is:\n",
      "[41]\ttraining's l1: 1.0006\tvalid_1's l1: 0.933406\n",
      "[LightGBM] [Warning] feature_fraction is set=0.5077903250505149, colsample_bytree=0.8 will be ignored. Current value: feature_fraction=0.5077903250505149\n",
      "[LightGBM] [Warning] bagging_fraction is set=0.9792660084442945, subsample=0.6 will be ignored. Current value: bagging_fraction=0.9792660084442945\n",
      "[LightGBM] [Warning] bagging_freq is set=13, subsample_freq=0 will be ignored. Current value: bagging_freq=13\n",
      "Training until validation scores don't improve for 100 rounds\n",
      "[100]\ttraining's l1: 1.02972\tvalid_1's l1: 0.943837\n",
      "[200]\ttraining's l1: 1.02814\tvalid_1's l1: 0.943204\n"
     ]
    },
    {
     "name": "stderr",
     "output_type": "stream",
     "text": [
      "\u001b[32m[I 2021-07-11 01:08:09,182]\u001b[0m Trial 19 finished with value: -0.9431679963894274 and parameters: {'max_depth': 6, 'min_child_weight': 13, 'subsample': 0.6, 'colsample_bytree': 0.8, 'reg_lambda': 0.0977450833998909, 'reg_alpha': 708.0830194954194, 'feature_fraction': 0.5077903250505149, 'bagging_fraction': 0.9792660084442945, 'bagging_freq': 13, 'num_leaves': 522, 'min_child_samples': 29}. Best is trial 12 with value: -0.9263018689260238.\u001b[0m\n"
     ]
    },
    {
     "name": "stdout",
     "output_type": "stream",
     "text": [
      "Early stopping, best iteration is:\n",
      "[184]\ttraining's l1: 1.0283\tvalid_1's l1: 0.943175\n",
      "[LightGBM] [Warning] feature_fraction is set=0.573339606682558, colsample_bytree=0.6 will be ignored. Current value: feature_fraction=0.573339606682558\n",
      "[LightGBM] [Warning] bagging_fraction is set=0.617996410647733, subsample=0.7 will be ignored. Current value: bagging_fraction=0.617996410647733\n",
      "[LightGBM] [Warning] bagging_freq is set=18, subsample_freq=0 will be ignored. Current value: bagging_freq=18\n",
      "Training until validation scores don't improve for 100 rounds\n",
      "[100]\ttraining's l1: 1.00072\tvalid_1's l1: 0.937658\n"
     ]
    },
    {
     "name": "stderr",
     "output_type": "stream",
     "text": [
      "\u001b[32m[I 2021-07-11 01:08:18,776]\u001b[0m Trial 20 finished with value: -0.9342681973263187 and parameters: {'max_depth': 19, 'min_child_weight': 17, 'subsample': 0.7, 'colsample_bytree': 0.6, 'reg_lambda': 0.01367237489933263, 'reg_alpha': 0.44536189622088646, 'feature_fraction': 0.573339606682558, 'bagging_fraction': 0.617996410647733, 'bagging_freq': 18, 'num_leaves': 351, 'min_child_samples': 64}. Best is trial 12 with value: -0.9263018689260238.\u001b[0m\n"
     ]
    },
    {
     "name": "stdout",
     "output_type": "stream",
     "text": [
      "Early stopping, best iteration is:\n",
      "[51]\ttraining's l1: 1.008\tvalid_1's l1: 0.934271\n",
      "[LightGBM] [Warning] feature_fraction is set=0.5844469459205116, colsample_bytree=0.8 will be ignored. Current value: feature_fraction=0.5844469459205116\n",
      "[LightGBM] [Warning] bagging_fraction is set=0.8785698052738731, subsample=0.6 will be ignored. Current value: bagging_fraction=0.8785698052738731\n",
      "[LightGBM] [Warning] bagging_freq is set=20, subsample_freq=0 will be ignored. Current value: bagging_freq=20\n",
      "Training until validation scores don't improve for 100 rounds\n",
      "[100]\ttraining's l1: 0.998311\tvalid_1's l1: 0.927865\n"
     ]
    },
    {
     "name": "stderr",
     "output_type": "stream",
     "text": [
      "\u001b[32m[I 2021-07-11 01:08:28,406]\u001b[0m Trial 21 finished with value: -0.9259053483019686 and parameters: {'max_depth': 10, 'min_child_weight': 9, 'subsample': 0.6, 'colsample_bytree': 0.8, 'reg_lambda': 0.0018931757378684165, 'reg_alpha': 0.0011498995342833296, 'feature_fraction': 0.5844469459205116, 'bagging_fraction': 0.8785698052738731, 'bagging_freq': 20, 'num_leaves': 729, 'min_child_samples': 36}. Best is trial 21 with value: -0.9259053483019686.\u001b[0m\n"
     ]
    },
    {
     "name": "stdout",
     "output_type": "stream",
     "text": [
      "Early stopping, best iteration is:\n",
      "[39]\ttraining's l1: 1.0081\tvalid_1's l1: 0.925906\n",
      "[LightGBM] [Warning] feature_fraction is set=0.6880269787827967, colsample_bytree=0.7 will be ignored. Current value: feature_fraction=0.6880269787827967\n",
      "[LightGBM] [Warning] bagging_fraction is set=0.8935652710102735, subsample=0.6 will be ignored. Current value: bagging_fraction=0.8935652710102735\n",
      "[LightGBM] [Warning] bagging_freq is set=20, subsample_freq=0 will be ignored. Current value: bagging_freq=20\n",
      "Training until validation scores don't improve for 100 rounds\n",
      "[100]\ttraining's l1: 1.00014\tvalid_1's l1: 0.929206\n"
     ]
    },
    {
     "name": "stderr",
     "output_type": "stream",
     "text": [
      "\u001b[32m[I 2021-07-11 01:08:36,424]\u001b[0m Trial 22 finished with value: -0.9284327467502712 and parameters: {'max_depth': 10, 'min_child_weight': 10, 'subsample': 0.6, 'colsample_bytree': 0.7, 'reg_lambda': 0.007167261339467349, 'reg_alpha': 0.002333088545055288, 'feature_fraction': 0.6880269787827967, 'bagging_fraction': 0.8935652710102735, 'bagging_freq': 20, 'num_leaves': 728, 'min_child_samples': 45}. Best is trial 21 with value: -0.9259053483019686.\u001b[0m\n"
     ]
    },
    {
     "name": "stdout",
     "output_type": "stream",
     "text": [
      "Early stopping, best iteration is:\n",
      "[49]\ttraining's l1: 1.00357\tvalid_1's l1: 0.928434\n",
      "[LightGBM] [Warning] feature_fraction is set=0.6032568541863654, colsample_bytree=0.9 will be ignored. Current value: feature_fraction=0.6032568541863654\n",
      "[LightGBM] [Warning] bagging_fraction is set=0.7925518184105235, subsample=0.6 will be ignored. Current value: bagging_fraction=0.7925518184105235\n",
      "[LightGBM] [Warning] bagging_freq is set=20, subsample_freq=0 will be ignored. Current value: bagging_freq=20\n",
      "Training until validation scores don't improve for 100 rounds\n",
      "[100]\ttraining's l1: 1.01305\tvalid_1's l1: 0.929213\n",
      "[200]\ttraining's l1: 1.00673\tvalid_1's l1: 0.928968\n"
     ]
    },
    {
     "name": "stderr",
     "output_type": "stream",
     "text": [
      "\u001b[32m[I 2021-07-11 01:08:47,086]\u001b[0m Trial 23 finished with value: -0.9285143557777314 and parameters: {'max_depth': 7, 'min_child_weight': 12, 'subsample': 0.6, 'colsample_bytree': 0.9, 'reg_lambda': 0.001273639953439004, 'reg_alpha': 0.022532313308351114, 'feature_fraction': 0.6032568541863654, 'bagging_fraction': 0.7925518184105235, 'bagging_freq': 20, 'num_leaves': 995, 'min_child_samples': 34}. Best is trial 21 with value: -0.9259053483019686.\u001b[0m\n"
     ]
    },
    {
     "name": "stdout",
     "output_type": "stream",
     "text": [
      "Early stopping, best iteration is:\n",
      "[155]\ttraining's l1: 1.00775\tvalid_1's l1: 0.928524\n",
      "[LightGBM] [Warning] feature_fraction is set=0.529735450616475, colsample_bytree=0.8 will be ignored. Current value: feature_fraction=0.529735450616475\n",
      "[LightGBM] [Warning] bagging_fraction is set=0.939478011059441, subsample=0.7 will be ignored. Current value: bagging_fraction=0.939478011059441\n",
      "[LightGBM] [Warning] bagging_freq is set=15, subsample_freq=0 will be ignored. Current value: bagging_freq=15\n",
      "Training until validation scores don't improve for 100 rounds\n",
      "[100]\ttraining's l1: 0.992287\tvalid_1's l1: 0.93157\n"
     ]
    },
    {
     "name": "stderr",
     "output_type": "stream",
     "text": [
      "\u001b[32m[I 2021-07-11 01:08:57,403]\u001b[0m Trial 24 finished with value: -0.9293700979603221 and parameters: {'max_depth': 11, 'min_child_weight': 7, 'subsample': 0.7, 'colsample_bytree': 0.8, 'reg_lambda': 0.02440264037516377, 'reg_alpha': 0.0010935035042558576, 'feature_fraction': 0.529735450616475, 'bagging_fraction': 0.939478011059441, 'bagging_freq': 15, 'num_leaves': 562, 'min_child_samples': 13}. Best is trial 21 with value: -0.9259053483019686.\u001b[0m\n"
     ]
    },
    {
     "name": "stdout",
     "output_type": "stream",
     "text": [
      "Early stopping, best iteration is:\n",
      "[41]\ttraining's l1: 1.00019\tvalid_1's l1: 0.929372\n",
      "[LightGBM] [Warning] feature_fraction is set=0.7015032228535383, colsample_bytree=0.7 will be ignored. Current value: feature_fraction=0.7015032228535383\n",
      "[LightGBM] [Warning] bagging_fraction is set=0.8667448724481871, subsample=0.6 will be ignored. Current value: bagging_fraction=0.8667448724481871\n",
      "[LightGBM] [Warning] bagging_freq is set=18, subsample_freq=0 will be ignored. Current value: bagging_freq=18\n",
      "Training until validation scores don't improve for 100 rounds\n",
      "[100]\ttraining's l1: 1.03061\tvalid_1's l1: 0.936453\n",
      "[200]\ttraining's l1: 1.02572\tvalid_1's l1: 0.932697\n",
      "[300]\ttraining's l1: 1.02441\tvalid_1's l1: 0.931849\n"
     ]
    },
    {
     "name": "stderr",
     "output_type": "stream",
     "text": [
      "\u001b[32m[I 2021-07-11 01:09:06,532]\u001b[0m Trial 25 finished with value: -0.9317694359321763 and parameters: {'max_depth': 4, 'min_child_weight': 9, 'subsample': 0.6, 'colsample_bytree': 0.7, 'reg_lambda': 0.00288064830885583, 'reg_alpha': 0.003474509163729629, 'feature_fraction': 0.7015032228535383, 'bagging_fraction': 0.8667448724481871, 'bagging_freq': 18, 'num_leaves': 797, 'min_child_samples': 48}. Best is trial 21 with value: -0.9259053483019686.\u001b[0m\n"
     ]
    },
    {
     "name": "stdout",
     "output_type": "stream",
     "text": [
      "Early stopping, best iteration is:\n",
      "[259]\ttraining's l1: 1.02447\tvalid_1's l1: 0.931787\n",
      "[LightGBM] [Warning] feature_fraction is set=0.396174566824922, colsample_bytree=0.8 will be ignored. Current value: feature_fraction=0.396174566824922\n",
      "[LightGBM] [Warning] bagging_fraction is set=0.9479086444458789, subsample=0.5 will be ignored. Current value: bagging_fraction=0.9479086444458789\n",
      "[LightGBM] [Warning] bagging_freq is set=11, subsample_freq=0 will be ignored. Current value: bagging_freq=11\n",
      "Training until validation scores don't improve for 100 rounds\n",
      "[100]\ttraining's l1: 0.978642\tvalid_1's l1: 0.943371\n"
     ]
    },
    {
     "name": "stderr",
     "output_type": "stream",
     "text": [
      "\u001b[32m[I 2021-07-11 01:09:18,590]\u001b[0m Trial 26 finished with value: -0.9329400385767141 and parameters: {'max_depth': 15, 'min_child_weight': 6, 'subsample': 0.5, 'colsample_bytree': 0.8, 'reg_lambda': 0.4160130620991917, 'reg_alpha': 0.018323380603887232, 'feature_fraction': 0.396174566824922, 'bagging_fraction': 0.9479086444458789, 'bagging_freq': 11, 'num_leaves': 693, 'min_child_samples': 38}. Best is trial 21 with value: -0.9259053483019686.\u001b[0m\n"
     ]
    },
    {
     "name": "stdout",
     "output_type": "stream",
     "text": [
      "Early stopping, best iteration is:\n",
      "[43]\ttraining's l1: 0.996737\tvalid_1's l1: 0.932947\n",
      "[LightGBM] [Warning] feature_fraction is set=0.8559138143377181, colsample_bytree=0.9 will be ignored. Current value: feature_fraction=0.8559138143377181\n",
      "[LightGBM] [Warning] bagging_fraction is set=0.7779267633453274, subsample=0.6 will be ignored. Current value: bagging_fraction=0.7779267633453274\n",
      "[LightGBM] [Warning] bagging_freq is set=14, subsample_freq=0 will be ignored. Current value: bagging_freq=14\n",
      "Training until validation scores don't improve for 100 rounds\n",
      "[100]\ttraining's l1: 1.00653\tvalid_1's l1: 0.929795\n"
     ]
    },
    {
     "name": "stderr",
     "output_type": "stream",
     "text": [
      "\u001b[32m[I 2021-07-11 01:09:26,552]\u001b[0m Trial 27 finished with value: -0.9274275639451423 and parameters: {'max_depth': 9, 'min_child_weight': 8, 'subsample': 0.6, 'colsample_bytree': 0.9, 'reg_lambda': 0.0010547066462112517, 'reg_alpha': 4.675499772456584, 'feature_fraction': 0.8559138143377181, 'bagging_fraction': 0.7779267633453274, 'bagging_freq': 14, 'num_leaves': 908, 'min_child_samples': 19}. Best is trial 21 with value: -0.9259053483019686.\u001b[0m\n"
     ]
    },
    {
     "name": "stdout",
     "output_type": "stream",
     "text": [
      "Early stopping, best iteration is:\n",
      "[53]\ttraining's l1: 1.01032\tvalid_1's l1: 0.927431\n",
      "[LightGBM] [Warning] feature_fraction is set=0.6300069576833227, colsample_bytree=0.9 will be ignored. Current value: feature_fraction=0.6300069576833227\n",
      "[LightGBM] [Warning] bagging_fraction is set=0.7727315966801409, subsample=0.7 will be ignored. Current value: bagging_fraction=0.7727315966801409\n",
      "[LightGBM] [Warning] bagging_freq is set=14, subsample_freq=0 will be ignored. Current value: bagging_freq=14\n",
      "Training until validation scores don't improve for 100 rounds\n",
      "[100]\ttraining's l1: 0.990222\tvalid_1's l1: 0.936588\n"
     ]
    },
    {
     "name": "stderr",
     "output_type": "stream",
     "text": [
      "\u001b[32m[I 2021-07-11 01:09:35,336]\u001b[0m Trial 28 finished with value: -0.9300103488841136 and parameters: {'max_depth': 12, 'min_child_weight': 4, 'subsample': 0.7, 'colsample_bytree': 0.9, 'reg_lambda': 0.1206385565960211, 'reg_alpha': 6.649921388032863, 'feature_fraction': 0.6300069576833227, 'bagging_fraction': 0.7727315966801409, 'bagging_freq': 14, 'num_leaves': 934, 'min_child_samples': 16}. Best is trial 21 with value: -0.9259053483019686.\u001b[0m\n"
     ]
    },
    {
     "name": "stdout",
     "output_type": "stream",
     "text": [
      "Early stopping, best iteration is:\n",
      "[41]\ttraining's l1: 1.00027\tvalid_1's l1: 0.930019\n",
      "[LightGBM] [Warning] feature_fraction is set=0.735812051530032, colsample_bytree=0.9 will be ignored. Current value: feature_fraction=0.735812051530032\n",
      "[LightGBM] [Warning] bagging_fraction is set=0.680314831044563, subsample=0.5 will be ignored. Current value: bagging_fraction=0.680314831044563\n",
      "[LightGBM] [Warning] bagging_freq is set=17, subsample_freq=0 will be ignored. Current value: bagging_freq=17\n",
      "Training until validation scores don't improve for 100 rounds\n",
      "[100]\ttraining's l1: 1.01689\tvalid_1's l1: 0.938649\n",
      "[200]\ttraining's l1: 1.01238\tvalid_1's l1: 0.937532\n"
     ]
    },
    {
     "name": "stderr",
     "output_type": "stream",
     "text": [
      "\u001b[32m[I 2021-07-11 01:09:43,916]\u001b[0m Trial 29 finished with value: -0.9369850800932944 and parameters: {'max_depth': 8, 'min_child_weight': 8, 'subsample': 0.5, 'colsample_bytree': 0.9, 'reg_lambda': 2.7183646163449815, 'reg_alpha': 109.70806048604705, 'feature_fraction': 0.735812051530032, 'bagging_fraction': 0.680314831044563, 'bagging_freq': 17, 'num_leaves': 790, 'min_child_samples': 57}. Best is trial 21 with value: -0.9259053483019686.\u001b[0m\n"
     ]
    },
    {
     "name": "stdout",
     "output_type": "stream",
     "text": [
      "Early stopping, best iteration is:\n",
      "[144]\ttraining's l1: 1.01337\tvalid_1's l1: 0.936995\n",
      "[LightGBM] [Warning] feature_fraction is set=0.8251997791846772, colsample_bytree=0.9 will be ignored. Current value: feature_fraction=0.8251997791846772\n",
      "[LightGBM] [Warning] bagging_fraction is set=0.8548736331081098, subsample=0.6 will be ignored. Current value: bagging_fraction=0.8548736331081098\n",
      "[LightGBM] [Warning] bagging_freq is set=18, subsample_freq=0 will be ignored. Current value: bagging_freq=18\n",
      "Training until validation scores don't improve for 100 rounds\n",
      "[100]\ttraining's l1: 0.99493\tvalid_1's l1: 0.93371\n"
     ]
    },
    {
     "name": "stderr",
     "output_type": "stream",
     "text": [
      "\u001b[32m[I 2021-07-11 01:09:55,443]\u001b[0m Trial 30 finished with value: -0.9299304848428323 and parameters: {'max_depth': 13, 'min_child_weight': 8, 'subsample': 0.6, 'colsample_bytree': 0.9, 'reg_lambda': 0.007624003657897446, 'reg_alpha': 1.0941567160445114, 'feature_fraction': 0.8251997791846772, 'bagging_fraction': 0.8548736331081098, 'bagging_freq': 18, 'num_leaves': 455, 'min_child_samples': 22}. Best is trial 21 with value: -0.9259053483019686.\u001b[0m\n"
     ]
    },
    {
     "name": "stdout",
     "output_type": "stream",
     "text": [
      "Early stopping, best iteration is:\n",
      "[50]\ttraining's l1: 1.00365\tvalid_1's l1: 0.929952\n",
      "[LightGBM] [Warning] feature_fraction is set=0.8852391128228223, colsample_bytree=0.8 will be ignored. Current value: feature_fraction=0.8852391128228223\n",
      "[LightGBM] [Warning] bagging_fraction is set=0.9191447175057905, subsample=0.6 will be ignored. Current value: bagging_fraction=0.9191447175057905\n",
      "[LightGBM] [Warning] bagging_freq is set=16, subsample_freq=0 will be ignored. Current value: bagging_freq=16\n",
      "Training until validation scores don't improve for 100 rounds\n",
      "[100]\ttraining's l1: 1.00776\tvalid_1's l1: 0.930601\n"
     ]
    },
    {
     "name": "stderr",
     "output_type": "stream",
     "text": [
      "\u001b[32m[I 2021-07-11 01:10:04,616]\u001b[0m Trial 31 finished with value: -0.9293298610899957 and parameters: {'max_depth': 9, 'min_child_weight': 10, 'subsample': 0.6, 'colsample_bytree': 0.8, 'reg_lambda': 0.0010267365306059508, 'reg_alpha': 7.365858601970685, 'feature_fraction': 0.8852391128228223, 'bagging_fraction': 0.9191447175057905, 'bagging_freq': 16, 'num_leaves': 898, 'min_child_samples': 29}. Best is trial 21 with value: -0.9259053483019686.\u001b[0m\n"
     ]
    },
    {
     "name": "stdout",
     "output_type": "stream",
     "text": [
      "Early stopping, best iteration is:\n",
      "[66]\ttraining's l1: 1.01\tvalid_1's l1: 0.929331\n",
      "[LightGBM] [Warning] feature_fraction is set=0.9615387823827668, colsample_bytree=0.7 will be ignored. Current value: feature_fraction=0.9615387823827668\n",
      "[LightGBM] [Warning] bagging_fraction is set=0.9971015073098044, subsample=0.6 will be ignored. Current value: bagging_fraction=0.9971015073098044\n",
      "[LightGBM] [Warning] bagging_freq is set=4, subsample_freq=0 will be ignored. Current value: bagging_freq=4\n",
      "Training until validation scores don't improve for 100 rounds\n",
      "[100]\ttraining's l1: 1.01642\tvalid_1's l1: 0.938916\n"
     ]
    },
    {
     "name": "stderr",
     "output_type": "stream",
     "text": [
      "\u001b[32m[I 2021-07-11 01:10:15,467]\u001b[0m Trial 32 finished with value: -0.9378501991632222 and parameters: {'max_depth': 9, 'min_child_weight': 12, 'subsample': 0.6, 'colsample_bytree': 0.7, 'reg_lambda': 0.00226734302522633, 'reg_alpha': 170.77181411437874, 'feature_fraction': 0.9615387823827668, 'bagging_fraction': 0.9971015073098044, 'bagging_freq': 4, 'num_leaves': 790, 'min_child_samples': 28}. Best is trial 21 with value: -0.9259053483019686.\u001b[0m\n"
     ]
    },
    {
     "name": "stdout",
     "output_type": "stream",
     "text": [
      "Early stopping, best iteration is:\n",
      "[75]\ttraining's l1: 1.01833\tvalid_1's l1: 0.937856\n",
      "[LightGBM] [Warning] feature_fraction is set=0.8478340899785812, colsample_bytree=0.8 will be ignored. Current value: feature_fraction=0.8478340899785812\n",
      "[LightGBM] [Warning] bagging_fraction is set=0.7665399181472203, subsample=0.7 will be ignored. Current value: bagging_fraction=0.7665399181472203\n",
      "[LightGBM] [Warning] bagging_freq is set=8, subsample_freq=0 will be ignored. Current value: bagging_freq=8\n",
      "Training until validation scores don't improve for 100 rounds\n",
      "[100]\ttraining's l1: 0.999192\tvalid_1's l1: 0.929828\n"
     ]
    },
    {
     "name": "stderr",
     "output_type": "stream",
     "text": [
      "\u001b[32m[I 2021-07-11 01:10:24,386]\u001b[0m Trial 33 finished with value: -0.9291246759098227 and parameters: {'max_depth': 11, 'min_child_weight': 9, 'subsample': 0.7, 'colsample_bytree': 0.8, 'reg_lambda': 0.03451034284385965, 'reg_alpha': 0.8811280492278323, 'feature_fraction': 0.8478340899785812, 'bagging_fraction': 0.7665399181472203, 'bagging_freq': 8, 'num_leaves': 574, 'min_child_samples': 54}. Best is trial 21 with value: -0.9259053483019686.\u001b[0m\n"
     ]
    },
    {
     "name": "stdout",
     "output_type": "stream",
     "text": [
      "Early stopping, best iteration is:\n",
      "[32]\ttraining's l1: 1.00813\tvalid_1's l1: 0.929126\n",
      "[LightGBM] [Warning] feature_fraction is set=0.8658633432078398, colsample_bytree=0.6 will be ignored. Current value: feature_fraction=0.8658633432078398\n",
      "[LightGBM] [Warning] bagging_fraction is set=0.8243737613856793, subsample=0.5 will be ignored. Current value: bagging_fraction=0.8243737613856793\n",
      "[LightGBM] [Warning] bagging_freq is set=19, subsample_freq=0 will be ignored. Current value: bagging_freq=19\n",
      "Training until validation scores don't improve for 100 rounds\n",
      "[100]\ttraining's l1: 0.987439\tvalid_1's l1: 0.941137\n"
     ]
    },
    {
     "name": "stderr",
     "output_type": "stream",
     "text": [
      "\u001b[32m[I 2021-07-11 01:10:36,103]\u001b[0m Trial 34 finished with value: -0.9313505241533779 and parameters: {'max_depth': 12, 'min_child_weight': 7, 'subsample': 0.5, 'colsample_bytree': 0.6, 'reg_lambda': 0.005301521037272845, 'reg_alpha': 0.24090108407859653, 'feature_fraction': 0.8658633432078398, 'bagging_fraction': 0.8243737613856793, 'bagging_freq': 19, 'num_leaves': 915, 'min_child_samples': 8}. Best is trial 21 with value: -0.9259053483019686.\u001b[0m\n"
     ]
    },
    {
     "name": "stdout",
     "output_type": "stream",
     "text": [
      "Early stopping, best iteration is:\n",
      "[31]\ttraining's l1: 0.998493\tvalid_1's l1: 0.931361\n",
      "[LightGBM] [Warning] feature_fraction is set=0.784463500005296, colsample_bytree=0.7 will be ignored. Current value: feature_fraction=0.784463500005296\n",
      "[LightGBM] [Warning] bagging_fraction is set=0.6152795120281488, subsample=0.6 will be ignored. Current value: bagging_fraction=0.6152795120281488\n",
      "[LightGBM] [Warning] bagging_freq is set=12, subsample_freq=0 will be ignored. Current value: bagging_freq=12\n",
      "Training until validation scores don't improve for 100 rounds\n",
      "[100]\ttraining's l1: 1.01499\tvalid_1's l1: 0.932343\n",
      "[200]\ttraining's l1: 1.01119\tvalid_1's l1: 0.932131\n"
     ]
    },
    {
     "name": "stderr",
     "output_type": "stream",
     "text": [
      "\u001b[32m[I 2021-07-11 01:10:43,730]\u001b[0m Trial 35 finished with value: -0.9315647030929741 and parameters: {'max_depth': 7, 'min_child_weight': 11, 'subsample': 0.6, 'colsample_bytree': 0.7, 'reg_lambda': 0.0020967702681759528, 'reg_alpha': 9.388809772655403, 'feature_fraction': 0.784463500005296, 'bagging_fraction': 0.6152795120281488, 'bagging_freq': 12, 'num_leaves': 848, 'min_child_samples': 34}. Best is trial 21 with value: -0.9259053483019686.\u001b[0m\n"
     ]
    },
    {
     "name": "stdout",
     "output_type": "stream",
     "text": [
      "Early stopping, best iteration is:\n",
      "[151]\ttraining's l1: 1.01173\tvalid_1's l1: 0.931577\n",
      "[LightGBM] [Warning] feature_fraction is set=0.7355835658247135, colsample_bytree=0.8 will be ignored. Current value: feature_fraction=0.7355835658247135\n",
      "[LightGBM] [Warning] bagging_fraction is set=0.53239753029131, subsample=0.5 will be ignored. Current value: bagging_fraction=0.53239753029131\n",
      "[LightGBM] [Warning] bagging_freq is set=13, subsample_freq=0 will be ignored. Current value: bagging_freq=13\n",
      "Training until validation scores don't improve for 100 rounds\n",
      "[100]\ttraining's l1: 1.02427\tvalid_1's l1: 0.934424\n",
      "[200]\ttraining's l1: 1.02003\tvalid_1's l1: 0.931442\n"
     ]
    },
    {
     "name": "stderr",
     "output_type": "stream",
     "text": [
      "\u001b[32m[I 2021-07-11 01:10:50,142]\u001b[0m Trial 36 finished with value: -0.9314364939049151 and parameters: {'max_depth': 5, 'min_child_weight': 5, 'subsample': 0.5, 'colsample_bytree': 0.8, 'reg_lambda': 0.011485975343123933, 'reg_alpha': 1.5450303324651742, 'feature_fraction': 0.7355835658247135, 'bagging_fraction': 0.53239753029131, 'bagging_freq': 13, 'num_leaves': 694, 'min_child_samples': 19}. Best is trial 21 with value: -0.9259053483019686.\u001b[0m\n"
     ]
    },
    {
     "name": "stdout",
     "output_type": "stream",
     "text": [
      "Early stopping, best iteration is:\n",
      "[199]\ttraining's l1: 1.02003\tvalid_1's l1: 0.931441\n",
      "[LightGBM] [Warning] feature_fraction is set=0.999272572783993, colsample_bytree=0.9 will be ignored. Current value: feature_fraction=0.999272572783993\n",
      "[LightGBM] [Warning] bagging_fraction is set=0.9492668979626642, subsample=0.6 will be ignored. Current value: bagging_fraction=0.9492668979626642\n",
      "[LightGBM] [Warning] bagging_freq is set=5, subsample_freq=0 will be ignored. Current value: bagging_freq=5\n",
      "Training until validation scores don't improve for 100 rounds\n",
      "[100]\ttraining's l1: 1.00454\tvalid_1's l1: 0.931858\n",
      "[200]\ttraining's l1: 0.999135\tvalid_1's l1: 0.932329\n"
     ]
    },
    {
     "name": "stderr",
     "output_type": "stream",
     "text": [
      "\u001b[32m[I 2021-07-11 01:11:06,995]\u001b[0m Trial 37 finished with value: -0.9309365819522589 and parameters: {'max_depth': 10, 'min_child_weight': 6, 'subsample': 0.6, 'colsample_bytree': 0.9, 'reg_lambda': 9.456363065119534, 'reg_alpha': 0.011720630727707234, 'feature_fraction': 0.999272572783993, 'bagging_fraction': 0.9492668979626642, 'bagging_freq': 5, 'num_leaves': 991, 'min_child_samples': 25}. Best is trial 21 with value: -0.9259053483019686.\u001b[0m\n"
     ]
    },
    {
     "name": "stdout",
     "output_type": "stream",
     "text": [
      "Early stopping, best iteration is:\n",
      "[161]\ttraining's l1: 1.00171\tvalid_1's l1: 0.930956\n",
      "[LightGBM] [Warning] feature_fraction is set=0.45447964955623266, colsample_bytree=0.6 will be ignored. Current value: feature_fraction=0.45447964955623266\n",
      "[LightGBM] [Warning] bagging_fraction is set=0.8910005893955064, subsample=0.5 will be ignored. Current value: bagging_fraction=0.8910005893955064\n",
      "[LightGBM] [Warning] bagging_freq is set=1, subsample_freq=0 will be ignored. Current value: bagging_freq=1\n",
      "Training until validation scores don't improve for 100 rounds\n",
      "[100]\ttraining's l1: 1.01284\tvalid_1's l1: 0.928382\n",
      "[200]\ttraining's l1: 1.00956\tvalid_1's l1: 0.927959\n"
     ]
    },
    {
     "name": "stderr",
     "output_type": "stream",
     "text": [
      "\u001b[32m[I 2021-07-11 01:11:15,789]\u001b[0m Trial 38 finished with value: -0.9278026752392022 and parameters: {'max_depth': 7, 'min_child_weight': 10, 'subsample': 0.5, 'colsample_bytree': 0.6, 'reg_lambda': 0.019589088974014398, 'reg_alpha': 0.4348709844227991, 'feature_fraction': 0.45447964955623266, 'bagging_fraction': 0.8910005893955064, 'bagging_freq': 1, 'num_leaves': 877, 'min_child_samples': 44}. Best is trial 21 with value: -0.9259053483019686.\u001b[0m\n"
     ]
    },
    {
     "name": "stdout",
     "output_type": "stream",
     "text": [
      "Early stopping, best iteration is:\n",
      "[141]\ttraining's l1: 1.0097\tvalid_1's l1: 0.92781\n",
      "[LightGBM] [Warning] feature_fraction is set=0.20946854675915896, colsample_bytree=0.6 will be ignored. Current value: feature_fraction=0.20946854675915896\n",
      "[LightGBM] [Warning] bagging_fraction is set=0.8463231425676312, subsample=0.5 will be ignored. Current value: bagging_fraction=0.8463231425676312\n",
      "[LightGBM] [Warning] bagging_freq is set=15, subsample_freq=0 will be ignored. Current value: bagging_freq=15\n",
      "Training until validation scores don't improve for 100 rounds\n",
      "[100]\ttraining's l1: 1.04776\tvalid_1's l1: 0.953631\n",
      "[200]\ttraining's l1: 1.04352\tvalid_1's l1: 0.94874\n",
      "[300]\ttraining's l1: 1.04145\tvalid_1's l1: 0.94658\n",
      "[400]\ttraining's l1: 1.04\tvalid_1's l1: 0.945072\n",
      "[500]\ttraining's l1: 1.03909\tvalid_1's l1: 0.943885\n",
      "[600]\ttraining's l1: 1.03857\tvalid_1's l1: 0.943319\n"
     ]
    },
    {
     "name": "stderr",
     "output_type": "stream",
     "text": [
      "\u001b[32m[I 2021-07-11 01:11:30,759]\u001b[0m Trial 39 finished with value: -0.9432874409209665 and parameters: {'max_depth': 2, 'min_child_weight': 12, 'subsample': 0.5, 'colsample_bytree': 0.6, 'reg_lambda': 1.0150305824690466, 'reg_alpha': 63.400255657109604, 'feature_fraction': 0.20946854675915896, 'bagging_fraction': 0.8463231425676312, 'bagging_freq': 15, 'num_leaves': 952, 'min_child_samples': 58}. Best is trial 21 with value: -0.9259053483019686.\u001b[0m\n"
     ]
    },
    {
     "name": "stdout",
     "output_type": "stream",
     "text": [
      "Early stopping, best iteration is:\n",
      "[598]\ttraining's l1: 1.03857\tvalid_1's l1: 0.943315\n",
      "[LightGBM] [Warning] feature_fraction is set=0.44499344782749983, colsample_bytree=0.5 will be ignored. Current value: feature_fraction=0.44499344782749983\n",
      "[LightGBM] [Warning] bagging_fraction is set=0.6771346299335173, subsample=0.5 will be ignored. Current value: bagging_fraction=0.6771346299335173\n",
      "[LightGBM] [Warning] bagging_freq is set=1, subsample_freq=0 will be ignored. Current value: bagging_freq=1\n",
      "Training until validation scores don't improve for 100 rounds\n",
      "[100]\ttraining's l1: 1.01404\tvalid_1's l1: 0.931955\n",
      "[200]\ttraining's l1: 1.00999\tvalid_1's l1: 0.931691\n"
     ]
    },
    {
     "name": "stderr",
     "output_type": "stream",
     "text": [
      "\u001b[32m[I 2021-07-11 01:11:38,967]\u001b[0m Trial 40 finished with value: -0.931021115633078 and parameters: {'max_depth': 7, 'min_child_weight': 5, 'subsample': 0.5, 'colsample_bytree': 0.5, 'reg_lambda': 0.06068027123674883, 'reg_alpha': 0.0018900541962753462, 'feature_fraction': 0.44499344782749983, 'bagging_fraction': 0.6771346299335173, 'bagging_freq': 1, 'num_leaves': 814, 'min_child_samples': 51}. Best is trial 21 with value: -0.9259053483019686.\u001b[0m\n"
     ]
    },
    {
     "name": "stdout",
     "output_type": "stream",
     "text": [
      "Early stopping, best iteration is:\n",
      "[142]\ttraining's l1: 1.01119\tvalid_1's l1: 0.931033\n",
      "[LightGBM] [Warning] feature_fraction is set=0.31948715032198266, colsample_bytree=0.6 will be ignored. Current value: feature_fraction=0.31948715032198266\n",
      "[LightGBM] [Warning] bagging_fraction is set=0.9005898532412783, subsample=0.5 will be ignored. Current value: bagging_fraction=0.9005898532412783\n",
      "[LightGBM] [Warning] bagging_freq is set=2, subsample_freq=0 will be ignored. Current value: bagging_freq=2\n",
      "Training until validation scores don't improve for 100 rounds\n",
      "[100]\ttraining's l1: 0.998675\tvalid_1's l1: 0.933443\n"
     ]
    },
    {
     "name": "stderr",
     "output_type": "stream",
     "text": [
      "\u001b[32m[I 2021-07-11 01:11:47,512]\u001b[0m Trial 41 finished with value: -0.9307146544561516 and parameters: {'max_depth': 9, 'min_child_weight': 10, 'subsample': 0.5, 'colsample_bytree': 0.6, 'reg_lambda': 0.21410253089204093, 'reg_alpha': 0.3148816809894465, 'feature_fraction': 0.31948715032198266, 'bagging_fraction': 0.9005898532412783, 'bagging_freq': 2, 'num_leaves': 887, 'min_child_samples': 39}. Best is trial 21 with value: -0.9259053483019686.\u001b[0m\n"
     ]
    },
    {
     "name": "stdout",
     "output_type": "stream",
     "text": [
      "Early stopping, best iteration is:\n",
      "[48]\ttraining's l1: 1.00927\tvalid_1's l1: 0.930715\n",
      "[LightGBM] [Warning] feature_fraction is set=0.5885816215235337, colsample_bytree=0.5 will be ignored. Current value: feature_fraction=0.5885816215235337\n",
      "[LightGBM] [Warning] bagging_fraction is set=0.960255717512245, subsample=0.6 will be ignored. Current value: bagging_fraction=0.960255717512245\n",
      "[LightGBM] [Warning] bagging_freq is set=2, subsample_freq=0 will be ignored. Current value: bagging_freq=2\n",
      "Training until validation scores don't improve for 100 rounds\n",
      "[100]\ttraining's l1: 1.00901\tvalid_1's l1: 0.927231\n"
     ]
    },
    {
     "name": "stderr",
     "output_type": "stream",
     "text": [
      "\u001b[32m[I 2021-07-11 01:11:59,435]\u001b[0m Trial 42 finished with value: -0.9265721761695933 and parameters: {'max_depth': 8, 'min_child_weight': 8, 'subsample': 0.6, 'colsample_bytree': 0.5, 'reg_lambda': 0.024135570124104173, 'reg_alpha': 0.11684541529592844, 'feature_fraction': 0.5885816215235337, 'bagging_fraction': 0.960255717512245, 'bagging_freq': 2, 'num_leaves': 865, 'min_child_samples': 43}. Best is trial 21 with value: -0.9259053483019686.\u001b[0m\n"
     ]
    },
    {
     "name": "stdout",
     "output_type": "stream",
     "text": [
      "Early stopping, best iteration is:\n",
      "[81]\ttraining's l1: 1.01132\tvalid_1's l1: 0.926574\n",
      "[LightGBM] [Warning] feature_fraction is set=0.5509258174523686, colsample_bytree=0.5 will be ignored. Current value: feature_fraction=0.5509258174523686\n",
      "[LightGBM] [Warning] bagging_fraction is set=0.997101094428292, subsample=0.7 will be ignored. Current value: bagging_fraction=0.997101094428292\n",
      "[LightGBM] [Warning] bagging_freq is set=2, subsample_freq=0 will be ignored. Current value: bagging_freq=2\n",
      "Training until validation scores don't improve for 100 rounds\n",
      "[100]\ttraining's l1: 1.02546\tvalid_1's l1: 0.934561\n",
      "[200]\ttraining's l1: 1.02207\tvalid_1's l1: 0.932377\n"
     ]
    },
    {
     "name": "stderr",
     "output_type": "stream",
     "text": [
      "\u001b[32m[I 2021-07-11 01:12:12,015]\u001b[0m Trial 43 finished with value: -0.9322886772813378 and parameters: {'max_depth': 5, 'min_child_weight': 8, 'subsample': 0.7, 'colsample_bytree': 0.5, 'reg_lambda': 0.042057583404219466, 'reg_alpha': 0.13244437880607224, 'feature_fraction': 0.5509258174523686, 'bagging_fraction': 0.997101094428292, 'bagging_freq': 2, 'num_leaves': 737, 'min_child_samples': 44}. Best is trial 21 with value: -0.9259053483019686.\u001b[0m\n"
     ]
    },
    {
     "name": "stdout",
     "output_type": "stream",
     "text": [
      "Early stopping, best iteration is:\n",
      "[145]\ttraining's l1: 1.02223\tvalid_1's l1: 0.932292\n",
      "[LightGBM] [Warning] feature_fraction is set=0.44448957122690347, colsample_bytree=0.5 will be ignored. Current value: feature_fraction=0.44448957122690347\n",
      "[LightGBM] [Warning] bagging_fraction is set=0.9675987147465511, subsample=0.6 will be ignored. Current value: bagging_fraction=0.9675987147465511\n",
      "[LightGBM] [Warning] bagging_freq is set=7, subsample_freq=0 will be ignored. Current value: bagging_freq=7\n",
      "Training until validation scores don't improve for 100 rounds\n",
      "[100]\ttraining's l1: 1.00726\tvalid_1's l1: 0.92923\n"
     ]
    },
    {
     "name": "stderr",
     "output_type": "stream",
     "text": [
      "\u001b[32m[I 2021-07-11 01:12:20,560]\u001b[0m Trial 44 finished with value: -0.9281856599545124 and parameters: {'max_depth': 8, 'min_child_weight': 9, 'subsample': 0.6, 'colsample_bytree': 0.5, 'reg_lambda': 2.367616365295854, 'reg_alpha': 0.0770298311497112, 'feature_fraction': 0.44448957122690347, 'bagging_fraction': 0.9675987147465511, 'bagging_freq': 7, 'num_leaves': 873, 'min_child_samples': 43}. Best is trial 21 with value: -0.9259053483019686.\u001b[0m\n"
     ]
    },
    {
     "name": "stdout",
     "output_type": "stream",
     "text": [
      "Early stopping, best iteration is:\n",
      "[75]\ttraining's l1: 1.01081\tvalid_1's l1: 0.928189\n",
      "[LightGBM] [Warning] feature_fraction is set=0.6466345968270186, colsample_bytree=0.6 will be ignored. Current value: feature_fraction=0.6466345968270186\n",
      "[LightGBM] [Warning] bagging_fraction is set=0.8801564592601828, subsample=0.5 will be ignored. Current value: bagging_fraction=0.8801564592601828\n",
      "[LightGBM] [Warning] bagging_freq is set=19, subsample_freq=0 will be ignored. Current value: bagging_freq=19\n",
      "Training until validation scores don't improve for 100 rounds\n",
      "[100]\ttraining's l1: 1.01918\tvalid_1's l1: 0.930913\n",
      "[200]\ttraining's l1: 1.01508\tvalid_1's l1: 0.931187\n"
     ]
    },
    {
     "name": "stderr",
     "output_type": "stream",
     "text": [
      "\u001b[32m[I 2021-07-11 01:12:27,730]\u001b[0m Trial 45 finished with value: -0.9304945920275425 and parameters: {'max_depth': 6, 'min_child_weight': 7, 'subsample': 0.5, 'colsample_bytree': 0.6, 'reg_lambda': 0.02167735748506422, 'reg_alpha': 3.8070211817954536, 'feature_fraction': 0.6466345968270186, 'bagging_fraction': 0.8801564592601828, 'bagging_freq': 19, 'num_leaves': 646, 'min_child_samples': 52}. Best is trial 21 with value: -0.9259053483019686.\u001b[0m\n"
     ]
    },
    {
     "name": "stdout",
     "output_type": "stream",
     "text": [
      "Early stopping, best iteration is:\n",
      "[128]\ttraining's l1: 1.01688\tvalid_1's l1: 0.930502\n",
      "[LightGBM] [Warning] feature_fraction is set=0.5728556363015452, colsample_bytree=0.5 will be ignored. Current value: feature_fraction=0.5728556363015452\n",
      "[LightGBM] [Warning] bagging_fraction is set=0.8020898022503344, subsample=0.6 will be ignored. Current value: bagging_fraction=0.8020898022503344\n",
      "[LightGBM] [Warning] bagging_freq is set=10, subsample_freq=0 will be ignored. Current value: bagging_freq=10\n",
      "Training until validation scores don't improve for 100 rounds\n",
      "[100]\ttraining's l1: 1.01357\tvalid_1's l1: 0.929463\n",
      "[200]\ttraining's l1: 1.00894\tvalid_1's l1: 0.92762\n"
     ]
    },
    {
     "name": "stderr",
     "output_type": "stream",
     "text": [
      "\u001b[32m[I 2021-07-11 01:12:38,482]\u001b[0m Trial 46 finished with value: -0.9273106320365513 and parameters: {'max_depth': 7, 'min_child_weight': 5, 'subsample': 0.6, 'colsample_bytree': 0.5, 'reg_lambda': 0.17623849953457835, 'reg_alpha': 0.5087433919362161, 'feature_fraction': 0.5728556363015452, 'bagging_fraction': 0.8020898022503344, 'bagging_freq': 10, 'num_leaves': 787, 'min_child_samples': 35}. Best is trial 21 with value: -0.9259053483019686.\u001b[0m\n"
     ]
    },
    {
     "name": "stdout",
     "output_type": "stream",
     "text": [
      "Early stopping, best iteration is:\n",
      "[150]\ttraining's l1: 1.00916\tvalid_1's l1: 0.927334\n",
      "[LightGBM] [Warning] feature_fraction is set=0.5990497407285729, colsample_bytree=0.5 will be ignored. Current value: feature_fraction=0.5990497407285729\n",
      "[LightGBM] [Warning] bagging_fraction is set=0.7899262658032106, subsample=0.6 will be ignored. Current value: bagging_fraction=0.7899262658032106\n",
      "[LightGBM] [Warning] bagging_freq is set=11, subsample_freq=0 will be ignored. Current value: bagging_freq=11\n",
      "Training until validation scores don't improve for 100 rounds\n",
      "[100]\ttraining's l1: 1.00358\tvalid_1's l1: 0.932633\n"
     ]
    },
    {
     "name": "stderr",
     "output_type": "stream",
     "text": [
      "\u001b[32m[I 2021-07-11 01:12:47,281]\u001b[0m Trial 47 finished with value: -0.930036837804326 and parameters: {'max_depth': 10, 'min_child_weight': 4, 'subsample': 0.6, 'colsample_bytree': 0.5, 'reg_lambda': 0.18147803449659586, 'reg_alpha': 12.586614882319427, 'feature_fraction': 0.5990497407285729, 'bagging_fraction': 0.7899262658032106, 'bagging_freq': 11, 'num_leaves': 766, 'min_child_samples': 36}. Best is trial 21 with value: -0.9259053483019686.\u001b[0m\n"
     ]
    },
    {
     "name": "stdout",
     "output_type": "stream",
     "text": [
      "Early stopping, best iteration is:\n",
      "[41]\ttraining's l1: 1.01147\tvalid_1's l1: 0.930037\n",
      "[LightGBM] [Warning] feature_fraction is set=0.5110224549468425, colsample_bytree=0.5 will be ignored. Current value: feature_fraction=0.5110224549468425\n",
      "[LightGBM] [Warning] bagging_fraction is set=0.7298400616217335, subsample=0.6 will be ignored. Current value: bagging_fraction=0.7298400616217335\n",
      "[LightGBM] [Warning] bagging_freq is set=10, subsample_freq=0 will be ignored. Current value: bagging_freq=10\n",
      "Training until validation scores don't improve for 100 rounds\n",
      "[100]\ttraining's l1: 1.00945\tvalid_1's l1: 0.930148\n"
     ]
    },
    {
     "name": "stderr",
     "output_type": "stream",
     "text": [
      "\u001b[32m[I 2021-07-11 01:12:54,815]\u001b[0m Trial 48 finished with value: -0.9292999090225044 and parameters: {'max_depth': 8, 'min_child_weight': 4, 'subsample': 0.6, 'colsample_bytree': 0.5, 'reg_lambda': 0.49026202173036587, 'reg_alpha': 0.6442973300979199, 'feature_fraction': 0.5110224549468425, 'bagging_fraction': 0.7298400616217335, 'bagging_freq': 10, 'num_leaves': 714, 'min_child_samples': 32}. Best is trial 21 with value: -0.9259053483019686.\u001b[0m\n"
     ]
    },
    {
     "name": "stdout",
     "output_type": "stream",
     "text": [
      "Early stopping, best iteration is:\n",
      "[76]\ttraining's l1: 1.01137\tvalid_1's l1: 0.929302\n",
      "[LightGBM] [Warning] feature_fraction is set=0.5822696140199207, colsample_bytree=0.5 will be ignored. Current value: feature_fraction=0.5822696140199207\n",
      "[LightGBM] [Warning] bagging_fraction is set=0.8162718877199052, subsample=0.7 will be ignored. Current value: bagging_fraction=0.8162718877199052\n",
      "[LightGBM] [Warning] bagging_freq is set=17, subsample_freq=0 will be ignored. Current value: bagging_freq=17\n",
      "Training until validation scores don't improve for 100 rounds\n",
      "[100]\ttraining's l1: 1.02521\tvalid_1's l1: 0.933777\n",
      "[200]\ttraining's l1: 1.02032\tvalid_1's l1: 0.931896\n"
     ]
    },
    {
     "name": "stderr",
     "output_type": "stream",
     "text": [
      "\u001b[32m[I 2021-07-11 01:13:05,517]\u001b[0m Trial 49 finished with value: -0.9318598028882424 and parameters: {'max_depth': 5, 'min_child_weight': 6, 'subsample': 0.7, 'colsample_bytree': 0.5, 'reg_lambda': 0.6322715853668625, 'reg_alpha': 31.78720745586285, 'feature_fraction': 0.5822696140199207, 'bagging_fraction': 0.8162718877199052, 'bagging_freq': 17, 'num_leaves': 622, 'min_child_samples': 25}. Best is trial 21 with value: -0.9259053483019686.\u001b[0m\n"
     ]
    },
    {
     "name": "stdout",
     "output_type": "stream",
     "text": [
      "Early stopping, best iteration is:\n",
      "[179]\ttraining's l1: 1.02034\tvalid_1's l1: 0.931867\n",
      "[LightGBM] [Warning] feature_fraction is set=0.5416744759842969, colsample_bytree=0.5 will be ignored. Current value: feature_fraction=0.5416744759842969\n",
      "[LightGBM] [Warning] bagging_fraction is set=0.7530665244596436, subsample=0.6 will be ignored. Current value: bagging_fraction=0.7530665244596436\n",
      "[LightGBM] [Warning] bagging_freq is set=9, subsample_freq=0 will be ignored. Current value: bagging_freq=9\n",
      "Training until validation scores don't improve for 100 rounds\n",
      "[100]\ttraining's l1: 0.991003\tvalid_1's l1: 0.934169\n"
     ]
    },
    {
     "name": "stderr",
     "output_type": "stream",
     "text": [
      "\u001b[32m[I 2021-07-11 01:13:14,678]\u001b[0m Trial 50 finished with value: -0.9291376619112293 and parameters: {'max_depth': 13, 'min_child_weight': 1, 'subsample': 0.6, 'colsample_bytree': 0.5, 'reg_lambda': 0.11919437438614383, 'reg_alpha': 1.7661727732164834, 'feature_fraction': 0.5416744759842969, 'bagging_fraction': 0.7530665244596436, 'bagging_freq': 9, 'num_leaves': 666, 'min_child_samples': 39}. Best is trial 21 with value: -0.9259053483019686.\u001b[0m\n"
     ]
    },
    {
     "name": "stdout",
     "output_type": "stream",
     "text": [
      "Early stopping, best iteration is:\n",
      "[23]\ttraining's l1: 1.01068\tvalid_1's l1: 0.929138\n",
      "[LightGBM] [Warning] feature_fraction is set=0.465895455342141, colsample_bytree=0.6 will be ignored. Current value: feature_fraction=0.465895455342141\n",
      "[LightGBM] [Warning] bagging_fraction is set=0.9267226240547604, subsample=0.6 will be ignored. Current value: bagging_fraction=0.9267226240547604\n",
      "[LightGBM] [Warning] bagging_freq is set=1, subsample_freq=0 will be ignored. Current value: bagging_freq=1\n",
      "Training until validation scores don't improve for 100 rounds\n",
      "[100]\ttraining's l1: 1.01302\tvalid_1's l1: 0.929355\n",
      "[200]\ttraining's l1: 1.00756\tvalid_1's l1: 0.925968\n"
     ]
    },
    {
     "name": "stderr",
     "output_type": "stream",
     "text": [
      "\u001b[32m[I 2021-07-11 01:13:24,404]\u001b[0m Trial 51 finished with value: -0.9259336420796751 and parameters: {'max_depth': 7, 'min_child_weight': 11, 'subsample': 0.6, 'colsample_bytree': 0.6, 'reg_lambda': 0.057568397047057296, 'reg_alpha': 0.045847281587160386, 'feature_fraction': 0.465895455342141, 'bagging_fraction': 0.9267226240547604, 'bagging_freq': 1, 'num_leaves': 840, 'min_child_samples': 42}. Best is trial 21 with value: -0.9259053483019686.\u001b[0m\n"
     ]
    },
    {
     "name": "stdout",
     "output_type": "stream",
     "text": [
      "Early stopping, best iteration is:\n",
      "[165]\ttraining's l1: 1.00806\tvalid_1's l1: 0.925943\n",
      "[LightGBM] [Warning] feature_fraction is set=0.6134049734287638, colsample_bytree=0.6 will be ignored. Current value: feature_fraction=0.6134049734287638\n",
      "[LightGBM] [Warning] bagging_fraction is set=0.9334113243404114, subsample=0.6 will be ignored. Current value: bagging_fraction=0.9334113243404114\n",
      "[LightGBM] [Warning] bagging_freq is set=3, subsample_freq=0 will be ignored. Current value: bagging_freq=3\n",
      "Training until validation scores don't improve for 100 rounds\n",
      "[100]\ttraining's l1: 1.01195\tvalid_1's l1: 0.929514\n",
      "[200]\ttraining's l1: 1.00701\tvalid_1's l1: 0.929187\n"
     ]
    },
    {
     "name": "stderr",
     "output_type": "stream",
     "text": [
      "\u001b[32m[I 2021-07-11 01:13:35,686]\u001b[0m Trial 52 finished with value: -0.9285720927175982 and parameters: {'max_depth': 7, 'min_child_weight': 11, 'subsample': 0.6, 'colsample_bytree': 0.6, 'reg_lambda': 0.06504866546129418, 'reg_alpha': 0.11581306486692884, 'feature_fraction': 0.6134049734287638, 'bagging_fraction': 0.9334113243404114, 'bagging_freq': 3, 'num_leaves': 825, 'min_child_samples': 48}. Best is trial 21 with value: -0.9259053483019686.\u001b[0m\n"
     ]
    },
    {
     "name": "stdout",
     "output_type": "stream",
     "text": [
      "Early stopping, best iteration is:\n",
      "[107]\ttraining's l1: 1.01099\tvalid_1's l1: 0.928606\n",
      "[LightGBM] [Warning] feature_fraction is set=0.6584109084098592, colsample_bytree=0.5 will be ignored. Current value: feature_fraction=0.6584109084098592\n",
      "[LightGBM] [Warning] bagging_fraction is set=0.8666109042674504, subsample=0.6 will be ignored. Current value: bagging_fraction=0.8666109042674504\n",
      "[LightGBM] [Warning] bagging_freq is set=14, subsample_freq=0 will be ignored. Current value: bagging_freq=14\n",
      "Training until validation scores don't improve for 100 rounds\n",
      "[100]\ttraining's l1: 1.00333\tvalid_1's l1: 0.930888\n"
     ]
    },
    {
     "name": "stderr",
     "output_type": "stream",
     "text": [
      "\u001b[32m[I 2021-07-11 01:13:43,299]\u001b[0m Trial 53 finished with value: -0.929790170327699 and parameters: {'max_depth': 9, 'min_child_weight': 8, 'subsample': 0.6, 'colsample_bytree': 0.5, 'reg_lambda': 0.16759924531712303, 'reg_alpha': 0.04472075244304877, 'feature_fraction': 0.6584109084098592, 'bagging_fraction': 0.8666109042674504, 'bagging_freq': 14, 'num_leaves': 829, 'min_child_samples': 33}. Best is trial 21 with value: -0.9259053483019686.\u001b[0m\n"
     ]
    },
    {
     "name": "stdout",
     "output_type": "stream",
     "text": [
      "Early stopping, best iteration is:\n",
      "[59]\ttraining's l1: 1.00841\tvalid_1's l1: 0.929792\n",
      "[LightGBM] [Warning] feature_fraction is set=0.49018399250405387, colsample_bytree=0.6 will be ignored. Current value: feature_fraction=0.49018399250405387\n",
      "[LightGBM] [Warning] bagging_fraction is set=0.9661051581031025, subsample=0.6 will be ignored. Current value: bagging_fraction=0.9661051581031025\n",
      "[LightGBM] [Warning] bagging_freq is set=5, subsample_freq=0 will be ignored. Current value: bagging_freq=5\n",
      "Training until validation scores don't improve for 100 rounds\n",
      "[100]\ttraining's l1: 1.01916\tvalid_1's l1: 0.931386\n",
      "[200]\ttraining's l1: 1.01562\tvalid_1's l1: 0.93008\n"
     ]
    },
    {
     "name": "stderr",
     "output_type": "stream",
     "text": [
      "\u001b[32m[I 2021-07-11 01:13:54,397]\u001b[0m Trial 54 finished with value: -0.929955497700523 and parameters: {'max_depth': 6, 'min_child_weight': 9, 'subsample': 0.6, 'colsample_bytree': 0.6, 'reg_lambda': 0.042352667535549796, 'reg_alpha': 0.008908078618894462, 'feature_fraction': 0.49018399250405387, 'bagging_fraction': 0.9661051581031025, 'bagging_freq': 5, 'num_leaves': 950, 'min_child_samples': 41}. Best is trial 21 with value: -0.9259053483019686.\u001b[0m\n"
     ]
    },
    {
     "name": "stdout",
     "output_type": "stream",
     "text": [
      "Early stopping, best iteration is:\n",
      "[149]\ttraining's l1: 1.01568\tvalid_1's l1: 0.929965\n",
      "[LightGBM] [Warning] feature_fraction is set=0.5792612104980421, colsample_bytree=0.5 will be ignored. Current value: feature_fraction=0.5792612104980421\n",
      "[LightGBM] [Warning] bagging_fraction is set=0.8410627517414454, subsample=0.7 will be ignored. Current value: bagging_fraction=0.8410627517414454\n",
      "[LightGBM] [Warning] bagging_freq is set=20, subsample_freq=0 will be ignored. Current value: bagging_freq=20\n",
      "Training until validation scores don't improve for 100 rounds\n",
      "[100]\ttraining's l1: 1.02805\tvalid_1's l1: 0.935913\n",
      "[200]\ttraining's l1: 1.02364\tvalid_1's l1: 0.933551\n",
      "[300]\ttraining's l1: 1.02319\tvalid_1's l1: 0.933466\n"
     ]
    },
    {
     "name": "stderr",
     "output_type": "stream",
     "text": [
      "\u001b[32m[I 2021-07-11 01:14:07,268]\u001b[0m Trial 55 finished with value: -0.9334479487018389 and parameters: {'max_depth': 4, 'min_child_weight': 5, 'subsample': 0.7, 'colsample_bytree': 0.5, 'reg_lambda': 1.352686232144688, 'reg_alpha': 3.7036896614234984, 'feature_fraction': 0.5792612104980421, 'bagging_fraction': 0.8410627517414454, 'bagging_freq': 20, 'num_leaves': 777, 'min_child_samples': 37}. Best is trial 21 with value: -0.9259053483019686.\u001b[0m\n"
     ]
    },
    {
     "name": "stdout",
     "output_type": "stream",
     "text": [
      "Early stopping, best iteration is:\n",
      "[260]\ttraining's l1: 1.0232\tvalid_1's l1: 0.933459\n",
      "[LightGBM] [Warning] feature_fraction is set=0.5202885346480597, colsample_bytree=0.7 will be ignored. Current value: feature_fraction=0.5202885346480597\n",
      "[LightGBM] [Warning] bagging_fraction is set=0.7962053151952394, subsample=0.6 will be ignored. Current value: bagging_fraction=0.7962053151952394\n",
      "[LightGBM] [Warning] bagging_freq is set=16, subsample_freq=0 will be ignored. Current value: bagging_freq=16\n",
      "Training until validation scores don't improve for 100 rounds\n",
      "[100]\ttraining's l1: 1.0084\tvalid_1's l1: 0.928121\n"
     ]
    },
    {
     "name": "stderr",
     "output_type": "stream",
     "text": [
      "\u001b[32m[I 2021-07-11 01:14:14,925]\u001b[0m Trial 56 finished with value: -0.9279440545954502 and parameters: {'max_depth': 8, 'min_child_weight': 3, 'subsample': 0.6, 'colsample_bytree': 0.7, 'reg_lambda': 0.2898444327544098, 'reg_alpha': 0.06301231760204447, 'feature_fraction': 0.5202885346480597, 'bagging_fraction': 0.7962053151952394, 'bagging_freq': 16, 'num_leaves': 536, 'min_child_samples': 20}. Best is trial 21 with value: -0.9259053483019686.\u001b[0m\n"
     ]
    },
    {
     "name": "stdout",
     "output_type": "stream",
     "text": [
      "Early stopping, best iteration is:\n",
      "[62]\ttraining's l1: 1.01319\tvalid_1's l1: 0.927945\n",
      "[LightGBM] [Warning] feature_fraction is set=0.3507299338761716, colsample_bytree=0.7 will be ignored. Current value: feature_fraction=0.3507299338761716\n",
      "[LightGBM] [Warning] bagging_fraction is set=0.7094976019048352, subsample=0.6 will be ignored. Current value: bagging_fraction=0.7094976019048352\n",
      "[LightGBM] [Warning] bagging_freq is set=3, subsample_freq=0 will be ignored. Current value: bagging_freq=3\n",
      "Training until validation scores don't improve for 100 rounds\n",
      "[100]\ttraining's l1: 1.03366\tvalid_1's l1: 0.943564\n",
      "[200]\ttraining's l1: 1.0331\tvalid_1's l1: 0.943309\n",
      "[300]\ttraining's l1: 1.03285\tvalid_1's l1: 0.943024\n"
     ]
    },
    {
     "name": "stderr",
     "output_type": "stream",
     "text": [
      "\u001b[32m[I 2021-07-11 01:14:26,120]\u001b[0m Trial 57 finished with value: -0.9429550532604192 and parameters: {'max_depth': 10, 'min_child_weight': 6, 'subsample': 0.6, 'colsample_bytree': 0.7, 'reg_lambda': 0.009824475543205216, 'reg_alpha': 0.003903250432246928, 'feature_fraction': 0.3507299338761716, 'bagging_fraction': 0.7094976019048352, 'bagging_freq': 3, 'num_leaves': 50, 'min_child_samples': 59}. Best is trial 21 with value: -0.9259053483019686.\u001b[0m\n"
     ]
    },
    {
     "name": "stdout",
     "output_type": "stream",
     "text": [
      "Early stopping, best iteration is:\n",
      "[236]\ttraining's l1: 1.03286\tvalid_1's l1: 0.943\n",
      "[LightGBM] [Warning] feature_fraction is set=0.5603745112305866, colsample_bytree=0.6 will be ignored. Current value: feature_fraction=0.5603745112305866\n",
      "[LightGBM] [Warning] bagging_fraction is set=0.9202260549957947, subsample=0.9 will be ignored. Current value: bagging_fraction=0.9202260549957947\n",
      "[LightGBM] [Warning] bagging_freq is set=1, subsample_freq=0 will be ignored. Current value: bagging_freq=1\n",
      "Training until validation scores don't improve for 100 rounds\n",
      "[100]\ttraining's l1: 0.995992\tvalid_1's l1: 0.930015\n"
     ]
    },
    {
     "name": "stderr",
     "output_type": "stream",
     "text": [
      "\u001b[32m[I 2021-07-11 01:14:35,703]\u001b[0m Trial 58 finished with value: -0.9283949879433383 and parameters: {'max_depth': 11, 'min_child_weight': 15, 'subsample': 0.9, 'colsample_bytree': 0.6, 'reg_lambda': 0.0039291175105702954, 'reg_alpha': 0.15471588465484673, 'feature_fraction': 0.5603745112305866, 'bagging_fraction': 0.9202260549957947, 'bagging_freq': 1, 'num_leaves': 757, 'min_child_samples': 74}. Best is trial 21 with value: -0.9259053483019686.\u001b[0m\n"
     ]
    },
    {
     "name": "stdout",
     "output_type": "stream",
     "text": [
      "Early stopping, best iteration is:\n",
      "[50]\ttraining's l1: 1.0018\tvalid_1's l1: 0.928396\n",
      "[LightGBM] [Warning] feature_fraction is set=0.7098063546948339, colsample_bytree=0.5 will be ignored. Current value: feature_fraction=0.7098063546948339\n",
      "[LightGBM] [Warning] bagging_fraction is set=0.9961862637584182, subsample=0.6 will be ignored. Current value: bagging_fraction=0.9961862637584182\n",
      "[LightGBM] [Warning] bagging_freq is set=14, subsample_freq=0 will be ignored. Current value: bagging_freq=14\n",
      "Training until validation scores don't improve for 100 rounds\n",
      "[100]\ttraining's l1: 1.00983\tvalid_1's l1: 0.93053\n",
      "[200]\ttraining's l1: 1.00345\tvalid_1's l1: 0.929852\n"
     ]
    },
    {
     "name": "stderr",
     "output_type": "stream",
     "text": [
      "\u001b[32m[I 2021-07-11 01:14:45,858]\u001b[0m Trial 59 finished with value: -0.92856739658595 and parameters: {'max_depth': 8, 'min_child_weight': 13, 'subsample': 0.6, 'colsample_bytree': 0.5, 'reg_lambda': 0.6775481163639391, 'reg_alpha': 0.03426646981020015, 'feature_fraction': 0.7098063546948339, 'bagging_fraction': 0.9961862637584182, 'bagging_freq': 14, 'num_leaves': 144, 'min_child_samples': 48}. Best is trial 21 with value: -0.9259053483019686.\u001b[0m\n"
     ]
    },
    {
     "name": "stdout",
     "output_type": "stream",
     "text": [
      "Early stopping, best iteration is:\n",
      "[144]\ttraining's l1: 1.00572\tvalid_1's l1: 0.928594\n",
      "[LightGBM] [Warning] feature_fraction is set=0.47725563178549296, colsample_bytree=0.8 will be ignored. Current value: feature_fraction=0.47725563178549296\n",
      "[LightGBM] [Warning] bagging_fraction is set=0.2946453527928428, subsample=0.8 will be ignored. Current value: bagging_fraction=0.2946453527928428\n",
      "[LightGBM] [Warning] bagging_freq is set=19, subsample_freq=0 will be ignored. Current value: bagging_freq=19\n",
      "Training until validation scores don't improve for 100 rounds\n",
      "[100]\ttraining's l1: 1.00381\tvalid_1's l1: 0.942087\n"
     ]
    },
    {
     "name": "stderr",
     "output_type": "stream",
     "text": [
      "\u001b[32m[I 2021-07-11 01:14:51,401]\u001b[0m Trial 60 finished with value: -0.934369508126936 and parameters: {'max_depth': 12, 'min_child_weight': 7, 'subsample': 0.8, 'colsample_bytree': 0.8, 'reg_lambda': 0.071407691957983, 'reg_alpha': 0.0017483218139826297, 'feature_fraction': 0.47725563178549296, 'bagging_fraction': 0.2946453527928428, 'bagging_freq': 19, 'num_leaves': 700, 'min_child_samples': 95}. Best is trial 21 with value: -0.9259053483019686.\u001b[0m\n"
     ]
    },
    {
     "name": "stdout",
     "output_type": "stream",
     "text": [
      "Early stopping, best iteration is:\n",
      "[22]\ttraining's l1: 1.01772\tvalid_1's l1: 0.93437\n",
      "[LightGBM] [Warning] feature_fraction is set=0.43750633407322426, colsample_bytree=0.6 will be ignored. Current value: feature_fraction=0.43750633407322426\n",
      "[LightGBM] [Warning] bagging_fraction is set=0.90719964160026, subsample=0.6 will be ignored. Current value: bagging_fraction=0.90719964160026\n",
      "[LightGBM] [Warning] bagging_freq is set=1, subsample_freq=0 will be ignored. Current value: bagging_freq=1\n",
      "Training until validation scores don't improve for 100 rounds\n",
      "[100]\ttraining's l1: 1.01438\tvalid_1's l1: 0.930477\n",
      "[200]\ttraining's l1: 1.01118\tvalid_1's l1: 0.929099\n"
     ]
    },
    {
     "name": "stderr",
     "output_type": "stream",
     "text": [
      "\u001b[32m[I 2021-07-11 01:15:01,596]\u001b[0m Trial 61 finished with value: -0.9290885483549975 and parameters: {'max_depth': 7, 'min_child_weight': 10, 'subsample': 0.6, 'colsample_bytree': 0.6, 'reg_lambda': 0.024221095943965217, 'reg_alpha': 0.4505242424201748, 'feature_fraction': 0.43750633407322426, 'bagging_fraction': 0.90719964160026, 'bagging_freq': 1, 'num_leaves': 865, 'min_child_samples': 42}. Best is trial 21 with value: -0.9259053483019686.\u001b[0m\n"
     ]
    },
    {
     "name": "stdout",
     "output_type": "stream",
     "text": [
      "Early stopping, best iteration is:\n",
      "[189]\ttraining's l1: 1.01118\tvalid_1's l1: 0.929094\n",
      "[LightGBM] [Warning] feature_fraction is set=0.40973471304832293, colsample_bytree=0.6 will be ignored. Current value: feature_fraction=0.40973471304832293\n",
      "[LightGBM] [Warning] bagging_fraction is set=0.8834028162919034, subsample=0.5 will be ignored. Current value: bagging_fraction=0.8834028162919034\n",
      "[LightGBM] [Warning] bagging_freq is set=2, subsample_freq=0 will be ignored. Current value: bagging_freq=2\n",
      "Training until validation scores don't improve for 100 rounds\n",
      "[100]\ttraining's l1: 1.01106\tvalid_1's l1: 0.932301\n"
     ]
    },
    {
     "name": "stderr",
     "output_type": "stream",
     "text": [
      "\u001b[32m[I 2021-07-11 01:15:09,788]\u001b[0m Trial 62 finished with value: -0.9312405481097698 and parameters: {'max_depth': 7, 'min_child_weight': 9, 'subsample': 0.5, 'colsample_bytree': 0.6, 'reg_lambda': 0.016391950666374534, 'reg_alpha': 0.6554414673803313, 'feature_fraction': 0.40973471304832293, 'bagging_fraction': 0.8834028162919034, 'bagging_freq': 2, 'num_leaves': 897, 'min_child_samples': 44}. Best is trial 21 with value: -0.9259053483019686.\u001b[0m\n"
     ]
    },
    {
     "name": "stdout",
     "output_type": "stream",
     "text": [
      "Early stopping, best iteration is:\n",
      "[65]\ttraining's l1: 1.01573\tvalid_1's l1: 0.931242\n",
      "[LightGBM] [Warning] feature_fraction is set=0.6332223352500267, colsample_bytree=0.7 will be ignored. Current value: feature_fraction=0.6332223352500267\n",
      "[LightGBM] [Warning] bagging_fraction is set=0.9610539434502243, subsample=0.6 will be ignored. Current value: bagging_fraction=0.9610539434502243\n",
      "[LightGBM] [Warning] bagging_freq is set=4, subsample_freq=0 will be ignored. Current value: bagging_freq=4\n",
      "Training until validation scores don't improve for 100 rounds\n",
      "[100]\ttraining's l1: 1.01901\tvalid_1's l1: 0.930244\n",
      "[200]\ttraining's l1: 1.01528\tvalid_1's l1: 0.928252\n"
     ]
    },
    {
     "name": "stderr",
     "output_type": "stream",
     "text": [
      "\u001b[32m[I 2021-07-11 01:15:20,026]\u001b[0m Trial 63 finished with value: -0.9282351518918781 and parameters: {'max_depth': 6, 'min_child_weight': 11, 'subsample': 0.6, 'colsample_bytree': 0.7, 'reg_lambda': 0.0017991145221332684, 'reg_alpha': 0.3137652228978284, 'feature_fraction': 0.6332223352500267, 'bagging_fraction': 0.9610539434502243, 'bagging_freq': 4, 'num_leaves': 933, 'min_child_samples': 32}. Best is trial 21 with value: -0.9259053483019686.\u001b[0m\n"
     ]
    },
    {
     "name": "stdout",
     "output_type": "stream",
     "text": [
      "Early stopping, best iteration is:\n",
      "[179]\ttraining's l1: 1.0153\tvalid_1's l1: 0.928241\n",
      "[LightGBM] [Warning] feature_fraction is set=0.46704419090657046, colsample_bytree=0.6 will be ignored. Current value: feature_fraction=0.46704419090657046\n",
      "[LightGBM] [Warning] bagging_fraction is set=0.9007367180656789, subsample=0.7 will be ignored. Current value: bagging_fraction=0.9007367180656789\n",
      "[LightGBM] [Warning] bagging_freq is set=1, subsample_freq=0 will be ignored. Current value: bagging_freq=1\n",
      "Training until validation scores don't improve for 100 rounds\n",
      "[100]\ttraining's l1: 1.0026\tvalid_1's l1: 0.929273\n"
     ]
    },
    {
     "name": "stderr",
     "output_type": "stream",
     "text": [
      "\u001b[32m[I 2021-07-11 01:15:26,971]\u001b[0m Trial 64 finished with value: -0.9282387930261664 and parameters: {'max_depth': 9, 'min_child_weight': 8, 'subsample': 0.7, 'colsample_bytree': 0.6, 'reg_lambda': 0.005967745625189257, 'reg_alpha': 1.1022034937561018, 'feature_fraction': 0.46704419090657046, 'bagging_fraction': 0.9007367180656789, 'bagging_freq': 1, 'num_leaves': 843, 'min_child_samples': 46}. Best is trial 21 with value: -0.9259053483019686.\u001b[0m\n"
     ]
    },
    {
     "name": "stdout",
     "output_type": "stream",
     "text": [
      "Early stopping, best iteration is:\n",
      "[45]\ttraining's l1: 1.01079\tvalid_1's l1: 0.92824\n",
      "[LightGBM] [Warning] feature_fraction is set=0.3822113628585756, colsample_bytree=0.5 will be ignored. Current value: feature_fraction=0.3822113628585756\n",
      "[LightGBM] [Warning] bagging_fraction is set=0.8589866425645463, subsample=0.6 will be ignored. Current value: bagging_fraction=0.8589866425645463\n",
      "[LightGBM] [Warning] bagging_freq is set=7, subsample_freq=0 will be ignored. Current value: bagging_freq=7\n",
      "Training until validation scores don't improve for 100 rounds\n",
      "[100]\ttraining's l1: 0.997775\tvalid_1's l1: 0.930394\n"
     ]
    },
    {
     "name": "stderr",
     "output_type": "stream",
     "text": [
      "\u001b[32m[I 2021-07-11 01:15:34,701]\u001b[0m Trial 65 finished with value: -0.9279765942392625 and parameters: {'max_depth': 10, 'min_child_weight': 10, 'subsample': 0.6, 'colsample_bytree': 0.5, 'reg_lambda': 0.09329867576909694, 'reg_alpha': 0.2134745369263509, 'feature_fraction': 0.3822113628585756, 'bagging_fraction': 0.8589866425645463, 'bagging_freq': 7, 'num_leaves': 809, 'min_child_samples': 50}. Best is trial 21 with value: -0.9259053483019686.\u001b[0m\n"
     ]
    },
    {
     "name": "stdout",
     "output_type": "stream",
     "text": [
      "Early stopping, best iteration is:\n",
      "[41]\ttraining's l1: 1.00861\tvalid_1's l1: 0.927977\n",
      "[LightGBM] [Warning] feature_fraction is set=0.6018977318452365, colsample_bytree=0.9 will be ignored. Current value: feature_fraction=0.6018977318452365\n",
      "[LightGBM] [Warning] bagging_fraction is set=0.9346824144241801, subsample=0.5 will be ignored. Current value: bagging_fraction=0.9346824144241801\n",
      "[LightGBM] [Warning] bagging_freq is set=3, subsample_freq=0 will be ignored. Current value: bagging_freq=3\n",
      "Training until validation scores don't improve for 100 rounds\n",
      "[100]\ttraining's l1: 1.00935\tvalid_1's l1: 0.929462\n",
      "[200]\ttraining's l1: 1.00521\tvalid_1's l1: 0.926784\n"
     ]
    },
    {
     "name": "stderr",
     "output_type": "stream",
     "text": [
      "\u001b[32m[I 2021-07-11 01:15:49,512]\u001b[0m Trial 66 finished with value: -0.9264493133968493 and parameters: {'max_depth': 8, 'min_child_weight': 7, 'subsample': 0.5, 'colsample_bytree': 0.9, 'reg_lambda': 0.30841350985462057, 'reg_alpha': 0.017787840442665653, 'feature_fraction': 0.6018977318452365, 'bagging_fraction': 0.9346824144241801, 'bagging_freq': 3, 'num_leaves': 973, 'min_child_samples': 27}. Best is trial 21 with value: -0.9259053483019686.\u001b[0m\n"
     ]
    },
    {
     "name": "stdout",
     "output_type": "stream",
     "text": [
      "Early stopping, best iteration is:\n",
      "[160]\ttraining's l1: 1.00569\tvalid_1's l1: 0.926461\n",
      "[LightGBM] [Warning] feature_fraction is set=0.60340559113409, colsample_bytree=0.9 will be ignored. Current value: feature_fraction=0.60340559113409\n",
      "[LightGBM] [Warning] bagging_fraction is set=0.9374662301286694, subsample=0.7 will be ignored. Current value: bagging_fraction=0.9374662301286694\n",
      "[LightGBM] [Warning] bagging_freq is set=3, subsample_freq=0 will be ignored. Current value: bagging_freq=3\n",
      "Training until validation scores don't improve for 100 rounds\n",
      "[100]\ttraining's l1: 1.00824\tvalid_1's l1: 0.930797\n"
     ]
    },
    {
     "name": "stderr",
     "output_type": "stream",
     "text": [
      "\u001b[32m[I 2021-07-11 01:16:01,454]\u001b[0m Trial 67 finished with value: -0.9298934242103172 and parameters: {'max_depth': 8, 'min_child_weight': 7, 'subsample': 0.7, 'colsample_bytree': 0.9, 'reg_lambda': 1.6918754388128503, 'reg_alpha': 0.018274721902474034, 'feature_fraction': 0.60340559113409, 'bagging_fraction': 0.9374662301286694, 'bagging_freq': 3, 'num_leaves': 966, 'min_child_samples': 15}. Best is trial 21 with value: -0.9259053483019686.\u001b[0m\n"
     ]
    },
    {
     "name": "stdout",
     "output_type": "stream",
     "text": [
      "Early stopping, best iteration is:\n",
      "[95]\ttraining's l1: 1.0085\tvalid_1's l1: 0.929902\n",
      "[LightGBM] [Warning] feature_fraction is set=0.5346967106152422, colsample_bytree=0.9 will be ignored. Current value: feature_fraction=0.5346967106152422\n",
      "[LightGBM] [Warning] bagging_fraction is set=0.6456611941711768, subsample=0.6 will be ignored. Current value: bagging_fraction=0.6456611941711768\n",
      "[LightGBM] [Warning] bagging_freq is set=12, subsample_freq=0 will be ignored. Current value: bagging_freq=12\n",
      "Training until validation scores don't improve for 100 rounds\n",
      "[100]\ttraining's l1: 1.00412\tvalid_1's l1: 0.930745\n"
     ]
    },
    {
     "name": "stderr",
     "output_type": "stream",
     "text": [
      "\u001b[32m[I 2021-07-11 01:16:08,973]\u001b[0m Trial 68 finished with value: -0.9279491378615334 and parameters: {'max_depth': 9, 'min_child_weight': 5, 'subsample': 0.6, 'colsample_bytree': 0.9, 'reg_lambda': 0.2573002257371548, 'reg_alpha': 0.0797652631101375, 'feature_fraction': 0.5346967106152422, 'bagging_fraction': 0.6456611941711768, 'bagging_freq': 12, 'num_leaves': 911, 'min_child_samples': 27}. Best is trial 21 with value: -0.9259053483019686.\u001b[0m\n"
     ]
    },
    {
     "name": "stdout",
     "output_type": "stream",
     "text": [
      "Early stopping, best iteration is:\n",
      "[61]\ttraining's l1: 1.00879\tvalid_1's l1: 0.927957\n",
      "[LightGBM] [Warning] feature_fraction is set=0.6779476621557018, colsample_bytree=0.9 will be ignored. Current value: feature_fraction=0.6779476621557018\n",
      "[LightGBM] [Warning] bagging_fraction is set=0.8029996566500149, subsample=0.6 will be ignored. Current value: bagging_fraction=0.8029996566500149\n",
      "[LightGBM] [Warning] bagging_freq is set=5, subsample_freq=0 will be ignored. Current value: bagging_freq=5\n",
      "Training until validation scores don't improve for 100 rounds\n",
      "[100]\ttraining's l1: 0.997652\tvalid_1's l1: 0.932941\n"
     ]
    },
    {
     "name": "stderr",
     "output_type": "stream",
     "text": [
      "\u001b[32m[I 2021-07-11 01:16:17,173]\u001b[0m Trial 69 finished with value: -0.9292869081353786 and parameters: {'max_depth': 10, 'min_child_weight': 7, 'subsample': 0.6, 'colsample_bytree': 0.9, 'reg_lambda': 0.7517704787010271, 'reg_alpha': 0.013679677251035605, 'feature_fraction': 0.6779476621557018, 'bagging_fraction': 0.8029996566500149, 'bagging_freq': 5, 'num_leaves': 998, 'min_child_samples': 9}. Best is trial 21 with value: -0.9259053483019686.\u001b[0m\n"
     ]
    },
    {
     "name": "stdout",
     "output_type": "stream",
     "text": [
      "Early stopping, best iteration is:\n",
      "[39]\ttraining's l1: 1.00607\tvalid_1's l1: 0.929289\n",
      "[LightGBM] [Warning] feature_fraction is set=0.2479849202422139, colsample_bytree=0.8 will be ignored. Current value: feature_fraction=0.2479849202422139\n",
      "[LightGBM] [Warning] bagging_fraction is set=0.5629005921704873, subsample=0.5 will be ignored. Current value: bagging_fraction=0.5629005921704873\n",
      "[LightGBM] [Warning] bagging_freq is set=2, subsample_freq=0 will be ignored. Current value: bagging_freq=2\n",
      "Training until validation scores don't improve for 100 rounds\n",
      "[100]\ttraining's l1: 0.992765\tvalid_1's l1: 0.938237\n"
     ]
    },
    {
     "name": "stderr",
     "output_type": "stream",
     "text": [
      "\u001b[32m[I 2021-07-11 01:16:24,663]\u001b[0m Trial 70 finished with value: -0.9321794928446239 and parameters: {'max_depth': 11, 'min_child_weight': 6, 'subsample': 0.5, 'colsample_bytree': 0.8, 'reg_lambda': 6.628669030361993, 'reg_alpha': 0.005918445449722813, 'feature_fraction': 0.2479849202422139, 'bagging_fraction': 0.5629005921704873, 'bagging_freq': 2, 'num_leaves': 638, 'min_child_samples': 22}. Best is trial 21 with value: -0.9259053483019686.\u001b[0m\n"
     ]
    },
    {
     "name": "stdout",
     "output_type": "stream",
     "text": [
      "Early stopping, best iteration is:\n",
      "[43]\ttraining's l1: 1.0051\tvalid_1's l1: 0.932184\n",
      "[LightGBM] [Warning] feature_fraction is set=0.5103133435906384, colsample_bytree=0.9 will be ignored. Current value: feature_fraction=0.5103133435906384\n",
      "[LightGBM] [Warning] bagging_fraction is set=0.8362257039483306, subsample=0.5 will be ignored. Current value: bagging_fraction=0.8362257039483306\n",
      "[LightGBM] [Warning] bagging_freq is set=2, subsample_freq=0 will be ignored. Current value: bagging_freq=2\n",
      "Training until validation scores don't improve for 100 rounds\n",
      "[100]\ttraining's l1: 1.01256\tvalid_1's l1: 0.93028\n",
      "[200]\ttraining's l1: 1.00883\tvalid_1's l1: 0.929505\n"
     ]
    },
    {
     "name": "stderr",
     "output_type": "stream",
     "text": [
      "\u001b[32m[I 2021-07-11 01:16:36,447]\u001b[0m Trial 71 finished with value: -0.9288315550906292 and parameters: {'max_depth': 7, 'min_child_weight': 8, 'subsample': 0.5, 'colsample_bytree': 0.9, 'reg_lambda': 0.14723956426227164, 'reg_alpha': 0.028268487813813487, 'feature_fraction': 0.5103133435906384, 'bagging_fraction': 0.8362257039483306, 'bagging_freq': 2, 'num_leaves': 869, 'min_child_samples': 37}. Best is trial 21 with value: -0.9259053483019686.\u001b[0m\n"
     ]
    },
    {
     "name": "stdout",
     "output_type": "stream",
     "text": [
      "Early stopping, best iteration is:\n",
      "[145]\ttraining's l1: 1.0096\tvalid_1's l1: 0.928842\n",
      "[LightGBM] [Warning] feature_fraction is set=0.5909163503420772, colsample_bytree=0.9 will be ignored. Current value: feature_fraction=0.5909163503420772\n",
      "[LightGBM] [Warning] bagging_fraction is set=0.885929012425526, subsample=0.5 will be ignored. Current value: bagging_fraction=0.885929012425526\n",
      "[LightGBM] [Warning] bagging_freq is set=3, subsample_freq=0 will be ignored. Current value: bagging_freq=3\n",
      "Training until validation scores don't improve for 100 rounds\n",
      "[100]\ttraining's l1: 1.00656\tvalid_1's l1: 0.930976\n"
     ]
    },
    {
     "name": "stderr",
     "output_type": "stream",
     "text": [
      "\u001b[32m[I 2021-07-11 01:16:48,575]\u001b[0m Trial 72 finished with value: -0.9304690983997749 and parameters: {'max_depth': 9, 'min_child_weight': 9, 'subsample': 0.5, 'colsample_bytree': 0.9, 'reg_lambda': 0.03558482123276214, 'reg_alpha': 0.5519445146418926, 'feature_fraction': 0.5909163503420772, 'bagging_fraction': 0.885929012425526, 'bagging_freq': 3, 'num_leaves': 921, 'min_child_samples': 31}. Best is trial 21 with value: -0.9259053483019686.\u001b[0m\n"
     ]
    },
    {
     "name": "stdout",
     "output_type": "stream",
     "text": [
      "Early stopping, best iteration is:\n",
      "[90]\ttraining's l1: 1.00709\tvalid_1's l1: 0.930471\n",
      "[LightGBM] [Warning] feature_fraction is set=0.3444169769042731, colsample_bytree=0.7 will be ignored. Current value: feature_fraction=0.3444169769042731\n",
      "[LightGBM] [Warning] bagging_fraction is set=0.9248417379217733, subsample=0.5 will be ignored. Current value: bagging_fraction=0.9248417379217733\n",
      "[LightGBM] [Warning] bagging_freq is set=1, subsample_freq=0 will be ignored. Current value: bagging_freq=1\n",
      "Training until validation scores don't improve for 100 rounds\n",
      "[100]\ttraining's l1: 1.01774\tvalid_1's l1: 0.932804\n",
      "[200]\ttraining's l1: 1.013\tvalid_1's l1: 0.931536\n"
     ]
    },
    {
     "name": "stderr",
     "output_type": "stream",
     "text": [
      "\u001b[32m[I 2021-07-11 01:16:56,667]\u001b[0m Trial 73 finished with value: -0.9311235114967753 and parameters: {'max_depth': 6, 'min_child_weight': 12, 'subsample': 0.5, 'colsample_bytree': 0.7, 'reg_lambda': 0.28318414797887514, 'reg_alpha': 0.38284554116888936, 'feature_fraction': 0.3444169769042731, 'bagging_fraction': 0.9248417379217733, 'bagging_freq': 1, 'num_leaves': 729, 'min_child_samples': 40}. Best is trial 21 with value: -0.9259053483019686.\u001b[0m\n"
     ]
    },
    {
     "name": "stdout",
     "output_type": "stream",
     "text": [
      "Early stopping, best iteration is:\n",
      "[153]\ttraining's l1: 1.01335\tvalid_1's l1: 0.931134\n",
      "[LightGBM] [Warning] feature_fraction is set=0.6211452262527568, colsample_bytree=0.8 will be ignored. Current value: feature_fraction=0.6211452262527568\n",
      "[LightGBM] [Warning] bagging_fraction is set=0.9790407579942166, subsample=0.6 will be ignored. Current value: bagging_fraction=0.9790407579942166\n",
      "[LightGBM] [Warning] bagging_freq is set=20, subsample_freq=0 will be ignored. Current value: bagging_freq=20\n",
      "Training until validation scores don't improve for 100 rounds\n",
      "[100]\ttraining's l1: 1.00926\tvalid_1's l1: 0.929592\n"
     ]
    },
    {
     "name": "stderr",
     "output_type": "stream",
     "text": [
      "\u001b[32m[I 2021-07-11 01:17:04,658]\u001b[0m Trial 74 finished with value: -0.929222734904981 and parameters: {'max_depth': 8, 'min_child_weight': 11, 'subsample': 0.6, 'colsample_bytree': 0.8, 'reg_lambda': 0.08970982997116062, 'reg_alpha': 0.1727179305567179, 'feature_fraction': 0.6211452262527568, 'bagging_fraction': 0.9790407579942166, 'bagging_freq': 20, 'num_leaves': 799, 'min_child_samples': 26}. Best is trial 21 with value: -0.9259053483019686.\u001b[0m\n"
     ]
    },
    {
     "name": "stdout",
     "output_type": "stream",
     "text": [
      "Early stopping, best iteration is:\n",
      "[44]\ttraining's l1: 1.01577\tvalid_1's l1: 0.929226\n",
      "[LightGBM] [Warning] feature_fraction is set=0.5602971742391033, colsample_bytree=0.8 will be ignored. Current value: feature_fraction=0.5602971742391033\n",
      "[LightGBM] [Warning] bagging_fraction is set=0.9372068850153518, subsample=0.5 will be ignored. Current value: bagging_fraction=0.9372068850153518\n",
      "[LightGBM] [Warning] bagging_freq is set=4, subsample_freq=0 will be ignored. Current value: bagging_freq=4\n",
      "Training until validation scores don't improve for 100 rounds\n",
      "[100]\ttraining's l1: 1.02321\tvalid_1's l1: 0.931832\n",
      "[200]\ttraining's l1: 1.01901\tvalid_1's l1: 0.929933\n"
     ]
    },
    {
     "name": "stderr",
     "output_type": "stream",
     "text": [
      "\u001b[32m[I 2021-07-11 01:17:16,590]\u001b[0m Trial 75 finished with value: -0.9298948785651904 and parameters: {'max_depth': 5, 'min_child_weight': 8, 'subsample': 0.5, 'colsample_bytree': 0.8, 'reg_lambda': 0.04971167896982711, 'reg_alpha': 0.0010796055172890028, 'feature_fraction': 0.5602971742391033, 'bagging_fraction': 0.9372068850153518, 'bagging_freq': 4, 'num_leaves': 882, 'min_child_samples': 55}. Best is trial 21 with value: -0.9259053483019686.\u001b[0m\n"
     ]
    },
    {
     "name": "stdout",
     "output_type": "stream",
     "text": [
      "Early stopping, best iteration is:\n",
      "[167]\ttraining's l1: 1.01905\tvalid_1's l1: 0.929912\n",
      "[LightGBM] [Warning] feature_fraction is set=0.49560873819884393, colsample_bytree=0.6 will be ignored. Current value: feature_fraction=0.49560873819884393\n",
      "[LightGBM] [Warning] bagging_fraction is set=0.8657962798958394, subsample=0.6 will be ignored. Current value: bagging_fraction=0.8657962798958394\n",
      "[LightGBM] [Warning] bagging_freq is set=2, subsample_freq=0 will be ignored. Current value: bagging_freq=2\n",
      "Training until validation scores don't improve for 100 rounds\n",
      "[100]\ttraining's l1: 1.01378\tvalid_1's l1: 0.929846\n",
      "[200]\ttraining's l1: 1.00828\tvalid_1's l1: 0.928556\n"
     ]
    },
    {
     "name": "stderr",
     "output_type": "stream",
     "text": [
      "\u001b[32m[I 2021-07-11 01:17:28,521]\u001b[0m Trial 76 finished with value: -0.9282428861967464 and parameters: {'max_depth': 7, 'min_child_weight': 10, 'subsample': 0.6, 'colsample_bytree': 0.6, 'reg_lambda': 0.39504144052518164, 'reg_alpha': 0.044206802268924504, 'feature_fraction': 0.49560873819884393, 'bagging_fraction': 0.8657962798958394, 'bagging_freq': 2, 'num_leaves': 833, 'min_child_samples': 36}. Best is trial 21 with value: -0.9259053483019686.\u001b[0m\n"
     ]
    },
    {
     "name": "stdout",
     "output_type": "stream",
     "text": [
      "Early stopping, best iteration is:\n",
      "[146]\ttraining's l1: 1.00877\tvalid_1's l1: 0.928255\n",
      "[LightGBM] [Warning] feature_fraction is set=0.4674873740657823, colsample_bytree=0.9 will be ignored. Current value: feature_fraction=0.4674873740657823\n",
      "[LightGBM] [Warning] bagging_fraction is set=0.9561116864918943, subsample=0.5 will be ignored. Current value: bagging_fraction=0.9561116864918943\n",
      "[LightGBM] [Warning] bagging_freq is set=18, subsample_freq=0 will be ignored. Current value: bagging_freq=18\n",
      "Training until validation scores don't improve for 100 rounds\n",
      "[100]\ttraining's l1: 1.00817\tvalid_1's l1: 0.92881\n",
      "[200]\ttraining's l1: 1.00385\tvalid_1's l1: 0.929692\n"
     ]
    },
    {
     "name": "stderr",
     "output_type": "stream",
     "text": [
      "\u001b[32m[I 2021-07-11 01:17:38,587]\u001b[0m Trial 77 finished with value: -0.9281699977183442 and parameters: {'max_depth': 8, 'min_child_weight': 13, 'subsample': 0.5, 'colsample_bytree': 0.9, 'reg_lambda': 0.01859154103066371, 'reg_alpha': 0.002601620618368746, 'feature_fraction': 0.4674873740657823, 'bagging_fraction': 0.9561116864918943, 'bagging_freq': 18, 'num_leaves': 973, 'min_child_samples': 30}. Best is trial 21 with value: -0.9259053483019686.\u001b[0m\n"
     ]
    },
    {
     "name": "stdout",
     "output_type": "stream",
     "text": [
      "Early stopping, best iteration is:\n",
      "[113]\ttraining's l1: 1.00677\tvalid_1's l1: 0.928184\n",
      "[LightGBM] [Warning] feature_fraction is set=0.6518034910424719, colsample_bytree=0.7 will be ignored. Current value: feature_fraction=0.6518034910424719\n",
      "[LightGBM] [Warning] bagging_fraction is set=0.767628049806267, subsample=0.6 will be ignored. Current value: bagging_fraction=0.767628049806267\n",
      "[LightGBM] [Warning] bagging_freq is set=9, subsample_freq=0 will be ignored. Current value: bagging_freq=9\n",
      "Training until validation scores don't improve for 100 rounds\n",
      "[100]\ttraining's l1: 1.0035\tvalid_1's l1: 0.931677\n"
     ]
    },
    {
     "name": "stderr",
     "output_type": "stream",
     "text": [
      "\u001b[32m[I 2021-07-11 01:17:45,640]\u001b[0m Trial 78 finished with value: -0.9284299023028257 and parameters: {'max_depth': 9, 'min_child_weight': 7, 'subsample': 0.6, 'colsample_bytree': 0.7, 'reg_lambda': 0.00976260337897872, 'reg_alpha': 0.08595968997017892, 'feature_fraction': 0.6518034910424719, 'bagging_fraction': 0.767628049806267, 'bagging_freq': 9, 'num_leaves': 595, 'min_child_samples': 19}. Best is trial 21 with value: -0.9259053483019686.\u001b[0m\n"
     ]
    },
    {
     "name": "stdout",
     "output_type": "stream",
     "text": [
      "Early stopping, best iteration is:\n",
      "[49]\ttraining's l1: 1.00842\tvalid_1's l1: 0.928435\n",
      "[LightGBM] [Warning] feature_fraction is set=0.7523813191379187, colsample_bytree=0.5 will be ignored. Current value: feature_fraction=0.7523813191379187\n",
      "[LightGBM] [Warning] bagging_fraction is set=0.4328297843795966, subsample=0.5 will be ignored. Current value: bagging_fraction=0.4328297843795966\n",
      "[LightGBM] [Warning] bagging_freq is set=17, subsample_freq=0 will be ignored. Current value: bagging_freq=17\n",
      "Training until validation scores don't improve for 100 rounds\n",
      "[100]\ttraining's l1: 1.01565\tvalid_1's l1: 0.933526\n",
      "[200]\ttraining's l1: 1.00873\tvalid_1's l1: 0.9324\n"
     ]
    },
    {
     "name": "stderr",
     "output_type": "stream",
     "text": [
      "\u001b[32m[I 2021-07-11 01:17:51,643]\u001b[0m Trial 79 finished with value: -0.9317768070132034 and parameters: {'max_depth': 7, 'min_child_weight': 9, 'subsample': 0.5, 'colsample_bytree': 0.5, 'reg_lambda': 0.029527438680732907, 'reg_alpha': 0.9508270675074572, 'feature_fraction': 0.7523813191379187, 'bagging_fraction': 0.4328297843795966, 'bagging_freq': 17, 'num_leaves': 769, 'min_child_samples': 45}. Best is trial 21 with value: -0.9259053483019686.\u001b[0m\n"
     ]
    },
    {
     "name": "stdout",
     "output_type": "stream",
     "text": [
      "Early stopping, best iteration is:\n",
      "[135]\ttraining's l1: 1.01102\tvalid_1's l1: 0.931786\n",
      "[LightGBM] [Warning] feature_fraction is set=0.542056476382589, colsample_bytree=0.9 will be ignored. Current value: feature_fraction=0.542056476382589\n",
      "[LightGBM] [Warning] bagging_fraction is set=0.900237897717162, subsample=0.6 will be ignored. Current value: bagging_fraction=0.900237897717162\n",
      "[LightGBM] [Warning] bagging_freq is set=1, subsample_freq=0 will be ignored. Current value: bagging_freq=1\n",
      "Training until validation scores don't improve for 100 rounds\n",
      "[100]\ttraining's l1: 1.03719\tvalid_1's l1: 0.944839\n",
      "[200]\ttraining's l1: 1.03253\tvalid_1's l1: 0.941241\n",
      "[300]\ttraining's l1: 1.03085\tvalid_1's l1: 0.94014\n",
      "[400]\ttraining's l1: 1.02938\tvalid_1's l1: 0.938679\n",
      "[500]\ttraining's l1: 1.02861\tvalid_1's l1: 0.938223\n",
      "[600]\ttraining's l1: 1.02748\tvalid_1's l1: 0.937456\n"
     ]
    },
    {
     "name": "stderr",
     "output_type": "stream",
     "text": [
      "\u001b[32m[I 2021-07-11 01:18:11,467]\u001b[0m Trial 80 finished with value: -0.9373801123491071 and parameters: {'max_depth': 3, 'min_child_weight': 6, 'subsample': 0.6, 'colsample_bytree': 0.9, 'reg_lambda': 0.0034909569572502902, 'reg_alpha': 2.9284052112861843, 'feature_fraction': 0.542056476382589, 'bagging_fraction': 0.900237897717162, 'bagging_freq': 1, 'num_leaves': 684, 'min_child_samples': 35}. Best is trial 21 with value: -0.9259053483019686.\u001b[0m\n"
     ]
    },
    {
     "name": "stdout",
     "output_type": "stream",
     "text": [
      "Early stopping, best iteration is:\n",
      "[563]\ttraining's l1: 1.02753\tvalid_1's l1: 0.93739\n",
      "[LightGBM] [Warning] feature_fraction is set=0.8963146948270528, colsample_bytree=0.8 will be ignored. Current value: feature_fraction=0.8963146948270528\n",
      "[LightGBM] [Warning] bagging_fraction is set=0.977994848954257, subsample=0.6 will be ignored. Current value: bagging_fraction=0.977994848954257\n",
      "[LightGBM] [Warning] bagging_freq is set=3, subsample_freq=0 will be ignored. Current value: bagging_freq=3\n",
      "Training until validation scores don't improve for 100 rounds\n",
      "[100]\ttraining's l1: 1.01034\tvalid_1's l1: 0.928634\n",
      "[200]\ttraining's l1: 1.00682\tvalid_1's l1: 0.927292\n",
      "[300]\ttraining's l1: 1.00379\tvalid_1's l1: 0.924545\n"
     ]
    },
    {
     "name": "stderr",
     "output_type": "stream",
     "text": [
      "\u001b[32m[I 2021-07-11 01:18:30,627]\u001b[0m Trial 81 finished with value: -0.9242940591996954 and parameters: {'max_depth': 8, 'min_child_weight': 10, 'subsample': 0.6, 'colsample_bytree': 0.8, 'reg_lambda': 0.0016587385690933184, 'reg_alpha': 0.26756352508315395, 'feature_fraction': 0.8963146948270528, 'bagging_fraction': 0.977994848954257, 'bagging_freq': 3, 'num_leaves': 866, 'min_child_samples': 41}. Best is trial 81 with value: -0.9242940591996954.\u001b[0m\n"
     ]
    },
    {
     "name": "stdout",
     "output_type": "stream",
     "text": [
      "Early stopping, best iteration is:\n",
      "[265]\ttraining's l1: 1.00422\tvalid_1's l1: 0.924328\n",
      "[LightGBM] [Warning] feature_fraction is set=0.9367754380006323, colsample_bytree=0.8 will be ignored. Current value: feature_fraction=0.9367754380006323\n",
      "[LightGBM] [Warning] bagging_fraction is set=0.9841657348772923, subsample=0.6 will be ignored. Current value: bagging_fraction=0.9841657348772923\n",
      "[LightGBM] [Warning] bagging_freq is set=3, subsample_freq=0 will be ignored. Current value: bagging_freq=3\n",
      "Training until validation scores don't improve for 100 rounds\n",
      "[100]\ttraining's l1: 1.01063\tvalid_1's l1: 0.928436\n",
      "[200]\ttraining's l1: 1.00414\tvalid_1's l1: 0.927406\n"
     ]
    },
    {
     "name": "stderr",
     "output_type": "stream",
     "text": [
      "\u001b[32m[I 2021-07-11 01:18:44,819]\u001b[0m Trial 82 finished with value: -0.9265162695308129 and parameters: {'max_depth': 8, 'min_child_weight': 9, 'subsample': 0.6, 'colsample_bytree': 0.8, 'reg_lambda': 0.0019014331177020318, 'reg_alpha': 0.2396634835302828, 'feature_fraction': 0.9367754380006323, 'bagging_fraction': 0.9841657348772923, 'bagging_freq': 3, 'num_leaves': 853, 'min_child_samples': 39}. Best is trial 81 with value: -0.9242940591996954.\u001b[0m\n"
     ]
    },
    {
     "name": "stdout",
     "output_type": "stream",
     "text": [
      "Early stopping, best iteration is:\n",
      "[154]\ttraining's l1: 1.00575\tvalid_1's l1: 0.926554\n",
      "[LightGBM] [Warning] feature_fraction is set=0.9481188141659992, colsample_bytree=0.8 will be ignored. Current value: feature_fraction=0.9481188141659992\n",
      "[LightGBM] [Warning] bagging_fraction is set=0.9999270857137272, subsample=0.6 will be ignored. Current value: bagging_fraction=0.9999270857137272\n",
      "[LightGBM] [Warning] bagging_freq is set=3, subsample_freq=0 will be ignored. Current value: bagging_freq=3\n",
      "Training until validation scores don't improve for 100 rounds\n",
      "[100]\ttraining's l1: 1.01097\tvalid_1's l1: 0.931205\n",
      "[200]\ttraining's l1: 1.00626\tvalid_1's l1: 0.930232\n"
     ]
    },
    {
     "name": "stderr",
     "output_type": "stream",
     "text": [
      "\u001b[32m[I 2021-07-11 01:18:58,604]\u001b[0m Trial 83 finished with value: -0.9301232898276413 and parameters: {'max_depth': 8, 'min_child_weight': 8, 'subsample': 0.6, 'colsample_bytree': 0.8, 'reg_lambda': 0.0016701060896240178, 'reg_alpha': 0.28701610223520424, 'feature_fraction': 0.9481188141659992, 'bagging_fraction': 0.9999270857137272, 'bagging_freq': 3, 'num_leaves': 857, 'min_child_samples': 40}. Best is trial 81 with value: -0.9242940591996954.\u001b[0m\n"
     ]
    },
    {
     "name": "stdout",
     "output_type": "stream",
     "text": [
      "Early stopping, best iteration is:\n",
      "[145]\ttraining's l1: 1.00796\tvalid_1's l1: 0.930133\n",
      "[LightGBM] [Warning] feature_fraction is set=0.9229988343692522, colsample_bytree=0.8 will be ignored. Current value: feature_fraction=0.9229988343692522\n",
      "[LightGBM] [Warning] bagging_fraction is set=0.9833351219601892, subsample=0.6 will be ignored. Current value: bagging_fraction=0.9833351219601892\n",
      "[LightGBM] [Warning] bagging_freq is set=6, subsample_freq=0 will be ignored. Current value: bagging_freq=6\n",
      "Training until validation scores don't improve for 100 rounds\n",
      "[100]\ttraining's l1: 0.99951\tvalid_1's l1: 0.931855\n"
     ]
    },
    {
     "name": "stderr",
     "output_type": "stream",
     "text": [
      "\u001b[32m[I 2021-07-11 01:19:08,337]\u001b[0m Trial 84 finished with value: -0.9293986185610214 and parameters: {'max_depth': 10, 'min_child_weight': 9, 'subsample': 0.6, 'colsample_bytree': 0.8, 'reg_lambda': 0.0010877188621038084, 'reg_alpha': 0.10253112256108175, 'feature_fraction': 0.9229988343692522, 'bagging_fraction': 0.9833351219601892, 'bagging_freq': 6, 'num_leaves': 791, 'min_child_samples': 34}. Best is trial 81 with value: -0.9242940591996954.\u001b[0m\n"
     ]
    },
    {
     "name": "stdout",
     "output_type": "stream",
     "text": [
      "Early stopping, best iteration is:\n",
      "[44]\ttraining's l1: 1.00456\tvalid_1's l1: 0.9294\n",
      "[LightGBM] [Warning] feature_fraction is set=0.8243200912720177, colsample_bytree=0.8 will be ignored. Current value: feature_fraction=0.8243200912720177\n",
      "[LightGBM] [Warning] bagging_fraction is set=0.9707557179312035, subsample=0.6 will be ignored. Current value: bagging_fraction=0.9707557179312035\n",
      "[LightGBM] [Warning] bagging_freq is set=4, subsample_freq=0 will be ignored. Current value: bagging_freq=4\n",
      "Training until validation scores don't improve for 100 rounds\n",
      "[100]\ttraining's l1: 1.00686\tvalid_1's l1: 0.928824\n"
     ]
    },
    {
     "name": "stderr",
     "output_type": "stream",
     "text": [
      "\u001b[32m[I 2021-07-11 01:19:19,256]\u001b[0m Trial 85 finished with value: -0.9279396581961403 and parameters: {'max_depth': 9, 'min_child_weight': 11, 'subsample': 0.6, 'colsample_bytree': 0.8, 'reg_lambda': 0.0023719519375705466, 'reg_alpha': 0.17450442408492756, 'feature_fraction': 0.8243200912720177, 'bagging_fraction': 0.9707557179312035, 'bagging_freq': 4, 'num_leaves': 901, 'min_child_samples': 42}. Best is trial 81 with value: -0.9242940591996954.\u001b[0m\n"
     ]
    },
    {
     "name": "stdout",
     "output_type": "stream",
     "text": [
      "Early stopping, best iteration is:\n",
      "[77]\ttraining's l1: 1.00848\tvalid_1's l1: 0.927941\n",
      "[LightGBM] [Warning] feature_fraction is set=0.8702793433976692, colsample_bytree=0.8 will be ignored. Current value: feature_fraction=0.8702793433976692\n",
      "[LightGBM] [Warning] bagging_fraction is set=0.9496574931167547, subsample=0.6 will be ignored. Current value: bagging_fraction=0.9496574931167547\n",
      "[LightGBM] [Warning] bagging_freq is set=5, subsample_freq=0 will be ignored. Current value: bagging_freq=5\n",
      "Training until validation scores don't improve for 100 rounds\n",
      "[100]\ttraining's l1: 1.02111\tvalid_1's l1: 0.932371\n",
      "[200]\ttraining's l1: 1.01448\tvalid_1's l1: 0.928749\n"
     ]
    },
    {
     "name": "stderr",
     "output_type": "stream",
     "text": [
      "\u001b[32m[I 2021-07-11 01:19:29,645]\u001b[0m Trial 86 finished with value: -0.9286130432405735 and parameters: {'max_depth': 6, 'min_child_weight': 10, 'subsample': 0.6, 'colsample_bytree': 0.8, 'reg_lambda': 0.0015236345288252347, 'reg_alpha': 0.05892270755928313, 'feature_fraction': 0.8702793433976692, 'bagging_fraction': 0.9496574931167547, 'bagging_freq': 5, 'num_leaves': 813, 'min_child_samples': 29}. Best is trial 81 with value: -0.9242940591996954.\u001b[0m\n"
     ]
    },
    {
     "name": "stdout",
     "output_type": "stream",
     "text": [
      "Early stopping, best iteration is:\n",
      "[167]\ttraining's l1: 1.01457\tvalid_1's l1: 0.928622\n",
      "[LightGBM] [Warning] feature_fraction is set=0.9016674451246232, colsample_bytree=0.9 will be ignored. Current value: feature_fraction=0.9016674451246232\n",
      "[LightGBM] [Warning] bagging_fraction is set=0.9228606362368487, subsample=0.6 will be ignored. Current value: bagging_fraction=0.9228606362368487\n",
      "[LightGBM] [Warning] bagging_freq is set=3, subsample_freq=0 will be ignored. Current value: bagging_freq=3\n",
      "Training until validation scores don't improve for 100 rounds\n",
      "[100]\ttraining's l1: 1.01121\tvalid_1's l1: 0.929896\n",
      "[200]\ttraining's l1: 1.00565\tvalid_1's l1: 0.92935\n",
      "[300]\ttraining's l1: 1.00474\tvalid_1's l1: 0.929002\n",
      "[400]\ttraining's l1: 1.00361\tvalid_1's l1: 0.928044\n"
     ]
    },
    {
     "name": "stderr",
     "output_type": "stream",
     "text": [
      "\u001b[32m[I 2021-07-11 01:19:50,984]\u001b[0m Trial 87 finished with value: -0.9278951824770426 and parameters: {'max_depth': 8, 'min_child_weight': 3, 'subsample': 0.6, 'colsample_bytree': 0.9, 'reg_lambda': 0.004969608632486689, 'reg_alpha': 0.0014966866265551894, 'feature_fraction': 0.9016674451246232, 'bagging_fraction': 0.9228606362368487, 'bagging_freq': 3, 'num_leaves': 942, 'min_child_samples': 50}. Best is trial 81 with value: -0.9242940591996954.\u001b[0m\n"
     ]
    },
    {
     "name": "stdout",
     "output_type": "stream",
     "text": [
      "Early stopping, best iteration is:\n",
      "[338]\ttraining's l1: 1.00371\tvalid_1's l1: 0.927905\n",
      "[LightGBM] [Warning] feature_fraction is set=0.7882053345642239, colsample_bytree=0.8 will be ignored. Current value: feature_fraction=0.7882053345642239\n",
      "[LightGBM] [Warning] bagging_fraction is set=0.9913429155330807, subsample=0.7 will be ignored. Current value: bagging_fraction=0.9913429155330807\n",
      "[LightGBM] [Warning] bagging_freq is set=7, subsample_freq=0 will be ignored. Current value: bagging_freq=7\n",
      "Training until validation scores don't improve for 100 rounds\n",
      "[100]\ttraining's l1: 0.995725\tvalid_1's l1: 0.93299\n"
     ]
    },
    {
     "name": "stderr",
     "output_type": "stream",
     "text": [
      "\u001b[32m[I 2021-07-11 01:19:59,861]\u001b[0m Trial 88 finished with value: -0.931459268399207 and parameters: {'max_depth': 11, 'min_child_weight': 7, 'subsample': 0.7, 'colsample_bytree': 0.8, 'reg_lambda': 0.002857726022629719, 'reg_alpha': 5.040429536275803, 'feature_fraction': 0.7882053345642239, 'bagging_fraction': 0.9913429155330807, 'bagging_freq': 7, 'num_leaves': 763, 'min_child_samples': 23}. Best is trial 81 with value: -0.9242940591996954.\u001b[0m\n"
     ]
    },
    {
     "name": "stdout",
     "output_type": "stream",
     "text": [
      "Early stopping, best iteration is:\n",
      "[26]\ttraining's l1: 1.0088\tvalid_1's l1: 0.931459\n",
      "[LightGBM] [Warning] feature_fraction is set=0.9620556425679769, colsample_bytree=0.7 will be ignored. Current value: feature_fraction=0.9620556425679769\n",
      "[LightGBM] [Warning] bagging_fraction is set=0.8141694511295211, subsample=0.6 will be ignored. Current value: bagging_fraction=0.8141694511295211\n",
      "[LightGBM] [Warning] bagging_freq is set=4, subsample_freq=0 will be ignored. Current value: bagging_freq=4\n",
      "Training until validation scores don't improve for 100 rounds\n",
      "[100]\ttraining's l1: 1.0052\tvalid_1's l1: 0.928991\n"
     ]
    },
    {
     "name": "stderr",
     "output_type": "stream",
     "text": [
      "\u001b[32m[I 2021-07-11 01:20:08,798]\u001b[0m Trial 89 finished with value: -0.9275684651313669 and parameters: {'max_depth': 9, 'min_child_weight': 8, 'subsample': 0.6, 'colsample_bytree': 0.7, 'reg_lambda': 0.5169227057210288, 'reg_alpha': 0.25877297670495686, 'feature_fraction': 0.9620556425679769, 'bagging_fraction': 0.8141694511295211, 'bagging_freq': 4, 'num_leaves': 718, 'min_child_samples': 38}. Best is trial 81 with value: -0.9242940591996954.\u001b[0m\n"
     ]
    },
    {
     "name": "stdout",
     "output_type": "stream",
     "text": [
      "Early stopping, best iteration is:\n",
      "[46]\ttraining's l1: 1.01235\tvalid_1's l1: 0.927569\n",
      "[LightGBM] [Warning] feature_fraction is set=0.9819060992006134, colsample_bytree=0.9 will be ignored. Current value: feature_fraction=0.9819060992006134\n",
      "[LightGBM] [Warning] bagging_fraction is set=0.9494780506749779, subsample=0.6 will be ignored. Current value: bagging_fraction=0.9494780506749779\n",
      "[LightGBM] [Warning] bagging_freq is set=19, subsample_freq=0 will be ignored. Current value: bagging_freq=19\n",
      "Training until validation scores don't improve for 100 rounds\n",
      "[100]\ttraining's l1: 1.01989\tvalid_1's l1: 0.932491\n",
      "[200]\ttraining's l1: 1.01386\tvalid_1's l1: 0.928856\n",
      "[300]\ttraining's l1: 1.01119\tvalid_1's l1: 0.927056\n",
      "[400]\ttraining's l1: 1.0104\tvalid_1's l1: 0.926826\n",
      "[500]\ttraining's l1: 1.01001\tvalid_1's l1: 0.926156\n",
      "[600]\ttraining's l1: 1.00856\tvalid_1's l1: 0.925238\n"
     ]
    },
    {
     "name": "stderr",
     "output_type": "stream",
     "text": [
      "\u001b[32m[I 2021-07-11 01:20:30,474]\u001b[0m Trial 90 finished with value: -0.9251739638009172 and parameters: {'max_depth': 6, 'min_child_weight': 9, 'subsample': 0.6, 'colsample_bytree': 0.9, 'reg_lambda': 0.11580838093239634, 'reg_alpha': 1.2820152675120786, 'feature_fraction': 0.9819060992006134, 'bagging_fraction': 0.9494780506749779, 'bagging_freq': 19, 'num_leaves': 842, 'min_child_samples': 100}. Best is trial 81 with value: -0.9242940591996954.\u001b[0m\n"
     ]
    },
    {
     "name": "stdout",
     "output_type": "stream",
     "text": [
      "Early stopping, best iteration is:\n",
      "[578]\ttraining's l1: 1.00864\tvalid_1's l1: 0.925189\n",
      "[LightGBM] [Warning] feature_fraction is set=0.9666648880850125, colsample_bytree=0.9 will be ignored. Current value: feature_fraction=0.9666648880850125\n",
      "[LightGBM] [Warning] bagging_fraction is set=0.9508837365890157, subsample=0.6 will be ignored. Current value: bagging_fraction=0.9508837365890157\n",
      "[LightGBM] [Warning] bagging_freq is set=19, subsample_freq=0 will be ignored. Current value: bagging_freq=19\n",
      "Training until validation scores don't improve for 100 rounds\n",
      "[100]\ttraining's l1: 1.01819\tvalid_1's l1: 0.931517\n",
      "[200]\ttraining's l1: 1.01193\tvalid_1's l1: 0.92883\n",
      "[300]\ttraining's l1: 1.00877\tvalid_1's l1: 0.927339\n"
     ]
    },
    {
     "name": "stderr",
     "output_type": "stream",
     "text": [
      "\u001b[32m[I 2021-07-11 01:20:43,756]\u001b[0m Trial 91 finished with value: -0.9271141006250575 and parameters: {'max_depth': 6, 'min_child_weight': 9, 'subsample': 0.6, 'colsample_bytree': 0.9, 'reg_lambda': 0.21595135109752045, 'reg_alpha': 1.4332252359199797, 'feature_fraction': 0.9666648880850125, 'bagging_fraction': 0.9508837365890157, 'bagging_freq': 19, 'num_leaves': 855, 'min_child_samples': 33}. Best is trial 81 with value: -0.9242940591996954.\u001b[0m\n"
     ]
    },
    {
     "name": "stdout",
     "output_type": "stream",
     "text": [
      "Early stopping, best iteration is:\n",
      "[287]\ttraining's l1: 1.00892\tvalid_1's l1: 0.92713\n",
      "[LightGBM] [Warning] feature_fraction is set=0.9834850379627094, colsample_bytree=0.9 will be ignored. Current value: feature_fraction=0.9834850379627094\n",
      "[LightGBM] [Warning] bagging_fraction is set=0.9506499433337692, subsample=0.6 will be ignored. Current value: bagging_fraction=0.9506499433337692\n",
      "[LightGBM] [Warning] bagging_freq is set=19, subsample_freq=0 will be ignored. Current value: bagging_freq=19\n",
      "Training until validation scores don't improve for 100 rounds\n",
      "[100]\ttraining's l1: 1.02558\tvalid_1's l1: 0.935623\n",
      "[200]\ttraining's l1: 1.01968\tvalid_1's l1: 0.931875\n",
      "[300]\ttraining's l1: 1.01653\tvalid_1's l1: 0.929323\n",
      "[400]\ttraining's l1: 1.01463\tvalid_1's l1: 0.929211\n"
     ]
    },
    {
     "name": "stderr",
     "output_type": "stream",
     "text": [
      "\u001b[32m[I 2021-07-11 01:20:58,129]\u001b[0m Trial 92 finished with value: -0.9289474775503593 and parameters: {'max_depth': 5, 'min_child_weight': 9, 'subsample': 0.6, 'colsample_bytree': 0.9, 'reg_lambda': 0.12917083806111543, 'reg_alpha': 1.9126157740276608, 'feature_fraction': 0.9834850379627094, 'bagging_fraction': 0.9506499433337692, 'bagging_freq': 19, 'num_leaves': 834, 'min_child_samples': 33}. Best is trial 81 with value: -0.9242940591996954.\u001b[0m\n"
     ]
    },
    {
     "name": "stdout",
     "output_type": "stream",
     "text": [
      "Early stopping, best iteration is:\n",
      "[368]\ttraining's l1: 1.01519\tvalid_1's l1: 0.928955\n",
      "[LightGBM] [Warning] feature_fraction is set=0.9934166563347878, colsample_bytree=0.9 will be ignored. Current value: feature_fraction=0.9934166563347878\n",
      "[LightGBM] [Warning] bagging_fraction is set=0.9170846584131616, subsample=0.6 will be ignored. Current value: bagging_fraction=0.9170846584131616\n",
      "[LightGBM] [Warning] bagging_freq is set=18, subsample_freq=0 will be ignored. Current value: bagging_freq=18\n",
      "Training until validation scores don't improve for 100 rounds\n",
      "[100]\ttraining's l1: 1.02833\tvalid_1's l1: 0.935635\n",
      "[200]\ttraining's l1: 1.02344\tvalid_1's l1: 0.931542\n",
      "[300]\ttraining's l1: 1.02166\tvalid_1's l1: 0.93109\n"
     ]
    },
    {
     "name": "stderr",
     "output_type": "stream",
     "text": [
      "\u001b[32m[I 2021-07-11 01:21:07,906]\u001b[0m Trial 93 finished with value: -0.9307402797342738 and parameters: {'max_depth': 4, 'min_child_weight': 12, 'subsample': 0.6, 'colsample_bytree': 0.9, 'reg_lambda': 0.31777450192014, 'reg_alpha': 1.2910016359907759, 'feature_fraction': 0.9934166563347878, 'bagging_fraction': 0.9170846584131616, 'bagging_freq': 18, 'num_leaves': 859, 'min_child_samples': 87}. Best is trial 81 with value: -0.9242940591996954.\u001b[0m\n"
     ]
    },
    {
     "name": "stdout",
     "output_type": "stream",
     "text": [
      "Early stopping, best iteration is:\n",
      "[240]\ttraining's l1: 1.02214\tvalid_1's l1: 0.930746\n",
      "[LightGBM] [Warning] feature_fraction is set=0.924779416950807, colsample_bytree=0.9 will be ignored. Current value: feature_fraction=0.924779416950807\n",
      "[LightGBM] [Warning] bagging_fraction is set=0.9736503662623777, subsample=0.6 will be ignored. Current value: bagging_fraction=0.9736503662623777\n",
      "[LightGBM] [Warning] bagging_freq is set=20, subsample_freq=0 will be ignored. Current value: bagging_freq=20\n",
      "Training until validation scores don't improve for 100 rounds\n",
      "[100]\ttraining's l1: 1.01989\tvalid_1's l1: 0.931591\n",
      "[200]\ttraining's l1: 1.01217\tvalid_1's l1: 0.928787\n"
     ]
    },
    {
     "name": "stderr",
     "output_type": "stream",
     "text": [
      "\u001b[32m[I 2021-07-11 01:21:18,552]\u001b[0m Trial 94 finished with value: -0.9287308641409866 and parameters: {'max_depth': 6, 'min_child_weight': 9, 'subsample': 0.6, 'colsample_bytree': 0.9, 'reg_lambda': 0.23788288010836472, 'reg_alpha': 0.8996155343132676, 'feature_fraction': 0.924779416950807, 'bagging_fraction': 0.9736503662623777, 'bagging_freq': 20, 'num_leaves': 780, 'min_child_samples': 38}. Best is trial 81 with value: -0.9242940591996954.\u001b[0m\n"
     ]
    },
    {
     "name": "stdout",
     "output_type": "stream",
     "text": [
      "Early stopping, best iteration is:\n",
      "[196]\ttraining's l1: 1.01229\tvalid_1's l1: 0.928741\n",
      "[LightGBM] [Warning] feature_fraction is set=0.9735552266337482, colsample_bytree=0.8 will be ignored. Current value: feature_fraction=0.9735552266337482\n",
      "[LightGBM] [Warning] bagging_fraction is set=0.9433899343839187, subsample=0.6 will be ignored. Current value: bagging_fraction=0.9433899343839187\n",
      "[LightGBM] [Warning] bagging_freq is set=19, subsample_freq=0 will be ignored. Current value: bagging_freq=19\n",
      "Training until validation scores don't improve for 100 rounds\n",
      "[100]\ttraining's l1: 1.0179\tvalid_1's l1: 0.931828\n",
      "[200]\ttraining's l1: 1.01104\tvalid_1's l1: 0.931315\n",
      "[300]\ttraining's l1: 1.00861\tvalid_1's l1: 0.930946\n"
     ]
    },
    {
     "name": "stderr",
     "output_type": "stream",
     "text": [
      "\u001b[32m[I 2021-07-11 01:21:31,568]\u001b[0m Trial 95 finished with value: -0.9305339769783979 and parameters: {'max_depth': 7, 'min_child_weight': 10, 'subsample': 0.6, 'colsample_bytree': 0.8, 'reg_lambda': 0.15421502846857624, 'reg_alpha': 0.560576486553679, 'feature_fraction': 0.9735552266337482, 'bagging_fraction': 0.9433899343839187, 'bagging_freq': 19, 'num_leaves': 742, 'min_child_samples': 47}. Best is trial 81 with value: -0.9242940591996954.\u001b[0m\n"
     ]
    },
    {
     "name": "stdout",
     "output_type": "stream",
     "text": [
      "Early stopping, best iteration is:\n",
      "[241]\ttraining's l1: 1.0093\tvalid_1's l1: 0.930553\n",
      "[LightGBM] [Warning] feature_fraction is set=0.9061489049850522, colsample_bytree=0.9 will be ignored. Current value: feature_fraction=0.9061489049850522\n",
      "[LightGBM] [Warning] bagging_fraction is set=0.9830454041699032, subsample=0.6 will be ignored. Current value: bagging_fraction=0.9830454041699032\n",
      "[LightGBM] [Warning] bagging_freq is set=19, subsample_freq=0 will be ignored. Current value: bagging_freq=19\n",
      "Training until validation scores don't improve for 100 rounds\n",
      "[100]\ttraining's l1: 1.02464\tvalid_1's l1: 0.93424\n",
      "[200]\ttraining's l1: 1.01944\tvalid_1's l1: 0.931257\n",
      "[300]\ttraining's l1: 1.01656\tvalid_1's l1: 0.929829\n",
      "[400]\ttraining's l1: 1.01553\tvalid_1's l1: 0.92951\n"
     ]
    },
    {
     "name": "stderr",
     "output_type": "stream",
     "text": [
      "\u001b[32m[I 2021-07-11 01:21:44,606]\u001b[0m Trial 96 finished with value: -0.9294434092163291 and parameters: {'max_depth': 5, 'min_child_weight': 11, 'subsample': 0.6, 'colsample_bytree': 0.9, 'reg_lambda': 0.0995167154728874, 'reg_alpha': 2.6795243923310004, 'feature_fraction': 0.9061489049850522, 'bagging_fraction': 0.9830454041699032, 'bagging_freq': 19, 'num_leaves': 379, 'min_child_samples': 42}. Best is trial 81 with value: -0.9242940591996954.\u001b[0m\n"
     ]
    },
    {
     "name": "stdout",
     "output_type": "stream",
     "text": [
      "Early stopping, best iteration is:\n",
      "[316]\ttraining's l1: 1.01593\tvalid_1's l1: 0.929453\n",
      "[LightGBM] [Warning] feature_fraction is set=0.9511894033022753, colsample_bytree=0.9 will be ignored. Current value: feature_fraction=0.9511894033022753\n",
      "[LightGBM] [Warning] bagging_fraction is set=0.9078085686770417, subsample=0.6 will be ignored. Current value: bagging_fraction=0.9078085686770417\n",
      "[LightGBM] [Warning] bagging_freq is set=18, subsample_freq=0 will be ignored. Current value: bagging_freq=18\n",
      "Training until validation scores don't improve for 100 rounds\n",
      "[100]\ttraining's l1: 1.02039\tvalid_1's l1: 0.930781\n",
      "[200]\ttraining's l1: 1.01346\tvalid_1's l1: 0.926775\n",
      "[300]\ttraining's l1: 1.0116\tvalid_1's l1: 0.925618\n",
      "[400]\ttraining's l1: 1.00954\tvalid_1's l1: 0.923813\n"
     ]
    },
    {
     "name": "stderr",
     "output_type": "stream",
     "text": [
      "\u001b[32m[I 2021-07-11 01:22:00,396]\u001b[0m Trial 97 finished with value: -0.9238043197782138 and parameters: {'max_depth': 6, 'min_child_weight': 8, 'subsample': 0.6, 'colsample_bytree': 0.9, 'reg_lambda': 0.20136897056918007, 'reg_alpha': 0.12085385697554701, 'feature_fraction': 0.9511894033022753, 'bagging_fraction': 0.9078085686770417, 'bagging_freq': 18, 'num_leaves': 808, 'min_child_samples': 35}. Best is trial 97 with value: -0.9238043197782138.\u001b[0m\n"
     ]
    },
    {
     "name": "stdout",
     "output_type": "stream",
     "text": [
      "[500]\ttraining's l1: 1.00843\tvalid_1's l1: 0.924632\n",
      "Early stopping, best iteration is:\n",
      "[400]\ttraining's l1: 1.00954\tvalid_1's l1: 0.923813\n",
      "[LightGBM] [Warning] feature_fraction is set=0.9465155217700669, colsample_bytree=0.9 will be ignored. Current value: feature_fraction=0.9465155217700669\n",
      "[LightGBM] [Warning] bagging_fraction is set=0.9622139997224137, subsample=0.7 will be ignored. Current value: bagging_fraction=0.9622139997224137\n",
      "[LightGBM] [Warning] bagging_freq is set=18, subsample_freq=0 will be ignored. Current value: bagging_freq=18\n",
      "Training until validation scores don't improve for 100 rounds\n",
      "[100]\ttraining's l1: 1.02142\tvalid_1's l1: 0.932301\n",
      "[200]\ttraining's l1: 1.01659\tvalid_1's l1: 0.929125\n",
      "[300]\ttraining's l1: 1.0136\tvalid_1's l1: 0.92753\n",
      "[400]\ttraining's l1: 1.01185\tvalid_1's l1: 0.92684\n",
      "[500]\ttraining's l1: 1.01094\tvalid_1's l1: 0.926589\n"
     ]
    },
    {
     "name": "stderr",
     "output_type": "stream",
     "text": [
      "\u001b[32m[I 2021-07-11 01:22:18,788]\u001b[0m Trial 98 finished with value: -0.9264729312774322 and parameters: {'max_depth': 6, 'min_child_weight': 8, 'subsample': 0.7, 'colsample_bytree': 0.9, 'reg_lambda': 0.8120633720071807, 'reg_alpha': 0.13010119672490533, 'feature_fraction': 0.9465155217700669, 'bagging_fraction': 0.9622139997224137, 'bagging_freq': 18, 'num_leaves': 812, 'min_child_samples': 28}. Best is trial 97 with value: -0.9238043197782138.\u001b[0m\n"
     ]
    },
    {
     "name": "stdout",
     "output_type": "stream",
     "text": [
      "Early stopping, best iteration is:\n",
      "[450]\ttraining's l1: 1.01105\tvalid_1's l1: 0.926497\n",
      "[LightGBM] [Warning] feature_fraction is set=0.9464359149049805, colsample_bytree=0.9 will be ignored. Current value: feature_fraction=0.9464359149049805\n",
      "[LightGBM] [Warning] bagging_fraction is set=0.9970806949934554, subsample=0.8 will be ignored. Current value: bagging_fraction=0.9970806949934554\n",
      "[LightGBM] [Warning] bagging_freq is set=18, subsample_freq=0 will be ignored. Current value: bagging_freq=18\n",
      "Training until validation scores don't improve for 100 rounds\n",
      "[100]\ttraining's l1: 1.02958\tvalid_1's l1: 0.937428\n",
      "[200]\ttraining's l1: 1.02556\tvalid_1's l1: 0.934815\n",
      "[300]\ttraining's l1: 1.02177\tvalid_1's l1: 0.931887\n",
      "[400]\ttraining's l1: 1.0203\tvalid_1's l1: 0.930764\n",
      "[500]\ttraining's l1: 1.01897\tvalid_1's l1: 0.929197\n",
      "[600]\ttraining's l1: 1.01848\tvalid_1's l1: 0.929338\n"
     ]
    },
    {
     "name": "stderr",
     "output_type": "stream",
     "text": [
      "\u001b[32m[I 2021-07-11 01:22:36,185]\u001b[0m Trial 99 finished with value: -0.9291190543822962 and parameters: {'max_depth': 4, 'min_child_weight': 8, 'subsample': 0.8, 'colsample_bytree': 0.9, 'reg_lambda': 1.0248933889409264, 'reg_alpha': 0.12430216601743362, 'feature_fraction': 0.9464359149049805, 'bagging_fraction': 0.9970806949934554, 'bagging_freq': 18, 'num_leaves': 804, 'min_child_samples': 31}. Best is trial 97 with value: -0.9238043197782138.\u001b[0m\n"
     ]
    },
    {
     "name": "stdout",
     "output_type": "stream",
     "text": [
      "Early stopping, best iteration is:\n",
      "[520]\ttraining's l1: 1.01895\tvalid_1's l1: 0.929136\n",
      "Number of finished trials: 100\n",
      "Best trial: {'max_depth': 6, 'min_child_weight': 8, 'subsample': 0.6, 'colsample_bytree': 0.9, 'reg_lambda': 0.20136897056918007, 'reg_alpha': 0.12085385697554701, 'feature_fraction': 0.9511894033022753, 'bagging_fraction': 0.9078085686770417, 'bagging_freq': 18, 'num_leaves': 808, 'min_child_samples': 35}\n"
     ]
    }
   ],
   "source": [
    "study3 = optuna.create_study(direction='maximize')\n",
    "study3.optimize(fit_lgbm(x_train[feature_cols3], y_train['target3'], x_valid[feature_cols3], y_valid['target3'], learning_rates[2]), n_trials=100)\n",
    "\n",
    "print('Number of finished trials:', len(study3.trials))\n",
    "print('Best trial:', study3.best_trial.params)"
   ]
  },
  {
   "cell_type": "code",
   "execution_count": 139,
   "id": "d9912a53",
   "metadata": {},
   "outputs": [
    {
     "name": "stderr",
     "output_type": "stream",
     "text": [
      "\u001b[32m[I 2021-07-11 01:22:36,205]\u001b[0m A new study created in memory with name: no-name-5aedb9fb-e594-4827-8b92-7721158c553d\u001b[0m\n"
     ]
    },
    {
     "name": "stdout",
     "output_type": "stream",
     "text": [
      "[LightGBM] [Warning] feature_fraction is set=0.5972393864123822, colsample_bytree=0.7 will be ignored. Current value: feature_fraction=0.5972393864123822\n",
      "[LightGBM] [Warning] bagging_fraction is set=0.6037530103137048, subsample=0.7 will be ignored. Current value: bagging_fraction=0.6037530103137048\n",
      "[LightGBM] [Warning] bagging_freq is set=19, subsample_freq=0 will be ignored. Current value: bagging_freq=19\n",
      "Training until validation scores don't improve for 100 rounds\n",
      "[100]\ttraining's l1: 1.06313\tvalid_1's l1: 1.63855\n",
      "[200]\ttraining's l1: 1.04959\tvalid_1's l1: 1.62429\n",
      "[300]\ttraining's l1: 1.04301\tvalid_1's l1: 1.61709\n",
      "[400]\ttraining's l1: 1.03638\tvalid_1's l1: 1.61112\n",
      "[500]\ttraining's l1: 1.02335\tvalid_1's l1: 1.60002\n",
      "[600]\ttraining's l1: 1.01597\tvalid_1's l1: 1.60012\n"
     ]
    },
    {
     "name": "stderr",
     "output_type": "stream",
     "text": [
      "\u001b[32m[I 2021-07-11 01:22:53,084]\u001b[0m Trial 0 finished with value: -1.5986318225863427 and parameters: {'max_depth': 3, 'min_child_weight': 4, 'subsample': 0.7, 'colsample_bytree': 0.7, 'reg_lambda': 24.29711922213026, 'reg_alpha': 0.4913963330753671, 'feature_fraction': 0.5972393864123822, 'bagging_fraction': 0.6037530103137048, 'bagging_freq': 19, 'num_leaves': 874, 'min_child_samples': 34}. Best is trial 0 with value: -1.5986318225863427.\u001b[0m\n"
     ]
    },
    {
     "name": "stdout",
     "output_type": "stream",
     "text": [
      "Early stopping, best iteration is:\n",
      "[531]\ttraining's l1: 1.02146\tvalid_1's l1: 1.59876\n",
      "[LightGBM] [Warning] feature_fraction is set=0.2817480113795829, colsample_bytree=0.5 will be ignored. Current value: feature_fraction=0.2817480113795829\n",
      "[LightGBM] [Warning] bagging_fraction is set=0.5926863812069976, subsample=0.7 will be ignored. Current value: bagging_fraction=0.5926863812069976\n",
      "[LightGBM] [Warning] bagging_freq is set=8, subsample_freq=0 will be ignored. Current value: bagging_freq=8\n",
      "Training until validation scores don't improve for 100 rounds\n",
      "[100]\ttraining's l1: 0.877553\tvalid_1's l1: 1.58247\n",
      "[200]\ttraining's l1: 0.847506\tvalid_1's l1: 1.57804\n"
     ]
    },
    {
     "name": "stderr",
     "output_type": "stream",
     "text": [
      "\u001b[32m[I 2021-07-11 01:23:06,204]\u001b[0m Trial 1 finished with value: -1.5750764307892247 and parameters: {'max_depth': 14, 'min_child_weight': 10, 'subsample': 0.7, 'colsample_bytree': 0.5, 'reg_lambda': 0.0024873494534892885, 'reg_alpha': 3.379708367327537, 'feature_fraction': 0.2817480113795829, 'bagging_fraction': 0.5926863812069976, 'bagging_freq': 8, 'num_leaves': 406, 'min_child_samples': 44}. Best is trial 1 with value: -1.5750764307892247.\u001b[0m\n"
     ]
    },
    {
     "name": "stdout",
     "output_type": "stream",
     "text": [
      "Early stopping, best iteration is:\n",
      "[184]\ttraining's l1: 0.854069\tvalid_1's l1: 1.57545\n",
      "[LightGBM] [Warning] feature_fraction is set=0.9585979595130445, colsample_bytree=0.6 will be ignored. Current value: feature_fraction=0.9585979595130445\n",
      "[LightGBM] [Warning] bagging_fraction is set=0.35053453962473846, subsample=0.7 will be ignored. Current value: bagging_fraction=0.35053453962473846\n",
      "[LightGBM] [Warning] bagging_freq is set=15, subsample_freq=0 will be ignored. Current value: bagging_freq=15\n",
      "Training until validation scores don't improve for 100 rounds\n",
      "[100]\ttraining's l1: 0.900921\tvalid_1's l1: 1.58004\n"
     ]
    },
    {
     "name": "stderr",
     "output_type": "stream",
     "text": [
      "\u001b[32m[I 2021-07-11 01:23:13,538]\u001b[0m Trial 2 finished with value: -1.5788362328935064 and parameters: {'max_depth': 13, 'min_child_weight': 20, 'subsample': 0.7, 'colsample_bytree': 0.6, 'reg_lambda': 533.153985077321, 'reg_alpha': 0.013281117065377376, 'feature_fraction': 0.9585979595130445, 'bagging_fraction': 0.35053453962473846, 'bagging_freq': 15, 'num_leaves': 214, 'min_child_samples': 14}. Best is trial 1 with value: -1.5750764307892247.\u001b[0m\n"
     ]
    },
    {
     "name": "stdout",
     "output_type": "stream",
     "text": [
      "Early stopping, best iteration is:\n",
      "[65]\ttraining's l1: 0.917006\tvalid_1's l1: 1.57893\n",
      "[LightGBM] [Warning] feature_fraction is set=0.5772871742597722, colsample_bytree=0.7 will be ignored. Current value: feature_fraction=0.5772871742597722\n",
      "[LightGBM] [Warning] bagging_fraction is set=0.9904922553036568, subsample=0.7 will be ignored. Current value: bagging_fraction=0.9904922553036568\n",
      "[LightGBM] [Warning] bagging_freq is set=1, subsample_freq=0 will be ignored. Current value: bagging_freq=1\n",
      "Training until validation scores don't improve for 100 rounds\n",
      "[100]\ttraining's l1: 0.909369\tvalid_1's l1: 1.5773\n"
     ]
    },
    {
     "name": "stderr",
     "output_type": "stream",
     "text": [
      "\u001b[32m[I 2021-07-11 01:23:24,018]\u001b[0m Trial 3 finished with value: -1.575489063074113 and parameters: {'max_depth': 11, 'min_child_weight': 16, 'subsample': 0.7, 'colsample_bytree': 0.7, 'reg_lambda': 879.1757358896328, 'reg_alpha': 182.06475537413056, 'feature_fraction': 0.5772871742597722, 'bagging_fraction': 0.9904922553036568, 'bagging_freq': 1, 'num_leaves': 426, 'min_child_samples': 21}. Best is trial 1 with value: -1.5750764307892247.\u001b[0m\n"
     ]
    },
    {
     "name": "stdout",
     "output_type": "stream",
     "text": [
      "Early stopping, best iteration is:\n",
      "[87]\ttraining's l1: 0.913724\tvalid_1's l1: 1.57559\n",
      "[LightGBM] [Warning] feature_fraction is set=0.2730571523388603, colsample_bytree=0.9 will be ignored. Current value: feature_fraction=0.2730571523388603\n",
      "[LightGBM] [Warning] bagging_fraction is set=0.5352753013037788, subsample=0.7 will be ignored. Current value: bagging_fraction=0.5352753013037788\n",
      "[LightGBM] [Warning] bagging_freq is set=18, subsample_freq=0 will be ignored. Current value: bagging_freq=18\n",
      "Training until validation scores don't improve for 100 rounds\n",
      "[100]\ttraining's l1: 0.959844\tvalid_1's l1: 1.59665\n",
      "[200]\ttraining's l1: 0.948126\tvalid_1's l1: 1.59198\n",
      "[300]\ttraining's l1: 0.928246\tvalid_1's l1: 1.58908\n",
      "[400]\ttraining's l1: 0.910351\tvalid_1's l1: 1.58626\n"
     ]
    },
    {
     "name": "stderr",
     "output_type": "stream",
     "text": [
      "\u001b[32m[I 2021-07-11 01:23:35,236]\u001b[0m Trial 4 finished with value: -1.5851766735453174 and parameters: {'max_depth': 7, 'min_child_weight': 2, 'subsample': 0.7, 'colsample_bytree': 0.9, 'reg_lambda': 0.431989165985984, 'reg_alpha': 0.7760785625247381, 'feature_fraction': 0.2730571523388603, 'bagging_fraction': 0.5352753013037788, 'bagging_freq': 18, 'num_leaves': 829, 'min_child_samples': 41}. Best is trial 1 with value: -1.5750764307892247.\u001b[0m\n"
     ]
    },
    {
     "name": "stdout",
     "output_type": "stream",
     "text": [
      "Early stopping, best iteration is:\n",
      "[375]\ttraining's l1: 0.914411\tvalid_1's l1: 1.58575\n",
      "[LightGBM] [Warning] feature_fraction is set=0.5949223978928805, colsample_bytree=0.5 will be ignored. Current value: feature_fraction=0.5949223978928805\n",
      "[LightGBM] [Warning] bagging_fraction is set=0.5608747008495754, subsample=0.9 will be ignored. Current value: bagging_fraction=0.5608747008495754\n",
      "[LightGBM] [Warning] bagging_freq is set=18, subsample_freq=0 will be ignored. Current value: bagging_freq=18\n",
      "Training until validation scores don't improve for 100 rounds\n",
      "[100]\ttraining's l1: 1.01205\tvalid_1's l1: 1.5977\n",
      "[200]\ttraining's l1: 1.00393\tvalid_1's l1: 1.59331\n",
      "[300]\ttraining's l1: 0.993531\tvalid_1's l1: 1.58881\n",
      "[400]\ttraining's l1: 0.986805\tvalid_1's l1: 1.58617\n",
      "[500]\ttraining's l1: 0.977743\tvalid_1's l1: 1.58144\n",
      "[600]\ttraining's l1: 0.967334\tvalid_1's l1: 1.57834\n",
      "[700]\ttraining's l1: 0.961454\tvalid_1's l1: 1.57738\n",
      "[800]\ttraining's l1: 0.95083\tvalid_1's l1: 1.57831\n"
     ]
    },
    {
     "name": "stderr",
     "output_type": "stream",
     "text": [
      "\u001b[32m[I 2021-07-11 01:23:57,368]\u001b[0m Trial 5 finished with value: -1.5764412388467939 and parameters: {'max_depth': 5, 'min_child_weight': 5, 'subsample': 0.9, 'colsample_bytree': 0.5, 'reg_lambda': 383.9079573388244, 'reg_alpha': 0.7730351148939502, 'feature_fraction': 0.5949223978928805, 'bagging_fraction': 0.5608747008495754, 'bagging_freq': 18, 'num_leaves': 642, 'min_child_samples': 48}. Best is trial 1 with value: -1.5750764307892247.\u001b[0m\n"
     ]
    },
    {
     "name": "stdout",
     "output_type": "stream",
     "text": [
      "Early stopping, best iteration is:\n",
      "[714]\ttraining's l1: 0.959631\tvalid_1's l1: 1.57663\n",
      "[LightGBM] [Warning] feature_fraction is set=0.991316693337301, colsample_bytree=0.9 will be ignored. Current value: feature_fraction=0.991316693337301\n",
      "[LightGBM] [Warning] bagging_fraction is set=0.3274455148785041, subsample=0.7 will be ignored. Current value: bagging_fraction=0.3274455148785041\n",
      "[LightGBM] [Warning] bagging_freq is set=1, subsample_freq=0 will be ignored. Current value: bagging_freq=1\n",
      "Training until validation scores don't improve for 100 rounds\n",
      "[100]\ttraining's l1: 0.808441\tvalid_1's l1: 1.59437\n"
     ]
    },
    {
     "name": "stderr",
     "output_type": "stream",
     "text": [
      "\u001b[32m[I 2021-07-11 01:24:11,448]\u001b[0m Trial 6 finished with value: -1.5855970530070587 and parameters: {'max_depth': 17, 'min_child_weight': 6, 'subsample': 0.7, 'colsample_bytree': 0.9, 'reg_lambda': 2.607104015568365, 'reg_alpha': 0.4783827025931262, 'feature_fraction': 0.991316693337301, 'bagging_fraction': 0.3274455148785041, 'bagging_freq': 1, 'num_leaves': 738, 'min_child_samples': 57}. Best is trial 1 with value: -1.5750764307892247.\u001b[0m\n"
     ]
    },
    {
     "name": "stdout",
     "output_type": "stream",
     "text": [
      "Early stopping, best iteration is:\n",
      "[46]\ttraining's l1: 0.851413\tvalid_1's l1: 1.58575\n",
      "[LightGBM] [Warning] feature_fraction is set=0.7140701679752623, colsample_bytree=0.5 will be ignored. Current value: feature_fraction=0.7140701679752623\n",
      "[LightGBM] [Warning] bagging_fraction is set=0.546369124504841, subsample=0.6 will be ignored. Current value: bagging_fraction=0.546369124504841\n",
      "[LightGBM] [Warning] bagging_freq is set=14, subsample_freq=0 will be ignored. Current value: bagging_freq=14\n",
      "Training until validation scores don't improve for 100 rounds\n",
      "[100]\ttraining's l1: 0.997227\tvalid_1's l1: 1.59335\n",
      "[200]\ttraining's l1: 0.989136\tvalid_1's l1: 1.58919\n",
      "[300]\ttraining's l1: 0.986739\tvalid_1's l1: 1.58939\n",
      "[400]\ttraining's l1: 0.982397\tvalid_1's l1: 1.58546\n",
      "[500]\ttraining's l1: 0.976381\tvalid_1's l1: 1.5839\n",
      "[600]\ttraining's l1: 0.964078\tvalid_1's l1: 1.58051\n",
      "[700]\ttraining's l1: 0.950226\tvalid_1's l1: 1.58233\n"
     ]
    },
    {
     "name": "stderr",
     "output_type": "stream",
     "text": [
      "\u001b[32m[I 2021-07-11 01:24:28,286]\u001b[0m Trial 7 finished with value: -1.5800623576792436 and parameters: {'max_depth': 11, 'min_child_weight': 13, 'subsample': 0.6, 'colsample_bytree': 0.5, 'reg_lambda': 0.06470509269649703, 'reg_alpha': 0.8479606761180888, 'feature_fraction': 0.7140701679752623, 'bagging_fraction': 0.546369124504841, 'bagging_freq': 14, 'num_leaves': 37, 'min_child_samples': 50}. Best is trial 1 with value: -1.5750764307892247.\u001b[0m\n"
     ]
    },
    {
     "name": "stdout",
     "output_type": "stream",
     "text": [
      "Early stopping, best iteration is:\n",
      "[690]\ttraining's l1: 0.951397\tvalid_1's l1: 1.58022\n",
      "[LightGBM] [Warning] feature_fraction is set=0.9341757593806272, colsample_bytree=0.7 will be ignored. Current value: feature_fraction=0.9341757593806272\n",
      "[LightGBM] [Warning] bagging_fraction is set=0.936528971205675, subsample=0.7 will be ignored. Current value: bagging_fraction=0.936528971205675\n",
      "[LightGBM] [Warning] bagging_freq is set=7, subsample_freq=0 will be ignored. Current value: bagging_freq=7\n",
      "Training until validation scores don't improve for 100 rounds\n",
      "[100]\ttraining's l1: 0.820476\tvalid_1's l1: 1.58185\n"
     ]
    },
    {
     "name": "stderr",
     "output_type": "stream",
     "text": [
      "\u001b[32m[I 2021-07-11 01:24:41,456]\u001b[0m Trial 8 finished with value: -1.5759795958119618 and parameters: {'max_depth': 20, 'min_child_weight': 9, 'subsample': 0.7, 'colsample_bytree': 0.7, 'reg_lambda': 0.04431420873695621, 'reg_alpha': 0.018137208123929507, 'feature_fraction': 0.9341757593806272, 'bagging_fraction': 0.936528971205675, 'bagging_freq': 7, 'num_leaves': 386, 'min_child_samples': 72}. Best is trial 1 with value: -1.5750764307892247.\u001b[0m\n"
     ]
    },
    {
     "name": "stdout",
     "output_type": "stream",
     "text": [
      "Early stopping, best iteration is:\n",
      "[50]\ttraining's l1: 0.866998\tvalid_1's l1: 1.57618\n",
      "[LightGBM] [Warning] feature_fraction is set=0.8572950229008898, colsample_bytree=0.6 will be ignored. Current value: feature_fraction=0.8572950229008898\n",
      "[LightGBM] [Warning] bagging_fraction is set=0.8807082378419773, subsample=0.9 will be ignored. Current value: bagging_fraction=0.8807082378419773\n",
      "[LightGBM] [Warning] bagging_freq is set=6, subsample_freq=0 will be ignored. Current value: bagging_freq=6\n",
      "Training until validation scores don't improve for 100 rounds\n",
      "[100]\ttraining's l1: 0.923991\tvalid_1's l1: 1.57814\n"
     ]
    },
    {
     "name": "stderr",
     "output_type": "stream",
     "text": [
      "\u001b[32m[I 2021-07-11 01:24:52,307]\u001b[0m Trial 9 finished with value: -1.5779410192456427 and parameters: {'max_depth': 12, 'min_child_weight': 1, 'subsample': 0.9, 'colsample_bytree': 0.6, 'reg_lambda': 1.2110370829910497, 'reg_alpha': 444.7936748474319, 'feature_fraction': 0.8572950229008898, 'bagging_fraction': 0.8807082378419773, 'bagging_freq': 6, 'num_leaves': 405, 'min_child_samples': 41}. Best is trial 1 with value: -1.5750764307892247.\u001b[0m\n"
     ]
    },
    {
     "name": "stdout",
     "output_type": "stream",
     "text": [
      "[200]\ttraining's l1: 0.909144\tvalid_1's l1: 1.58052\n",
      "Early stopping, best iteration is:\n",
      "[101]\ttraining's l1: 0.923802\tvalid_1's l1: 1.57812\n",
      "[LightGBM] [Warning] feature_fraction is set=0.21222557388459035, colsample_bytree=0.5 will be ignored. Current value: feature_fraction=0.21222557388459035\n",
      "[LightGBM] [Warning] bagging_fraction is set=0.7284166564962473, subsample=0.5 will be ignored. Current value: bagging_fraction=0.7284166564962473\n",
      "[LightGBM] [Warning] bagging_freq is set=9, subsample_freq=0 will be ignored. Current value: bagging_freq=9\n",
      "Training until validation scores don't improve for 100 rounds\n",
      "[100]\ttraining's l1: 1.05049\tvalid_1's l1: 1.63487\n",
      "[200]\ttraining's l1: 1.025\tvalid_1's l1: 1.6154\n",
      "[300]\ttraining's l1: 1.00615\tvalid_1's l1: 1.59976\n",
      "[400]\ttraining's l1: 0.993212\tvalid_1's l1: 1.5966\n",
      "[500]\ttraining's l1: 0.984003\tvalid_1's l1: 1.59272\n",
      "[600]\ttraining's l1: 0.974626\tvalid_1's l1: 1.5924\n",
      "[700]\ttraining's l1: 0.966981\tvalid_1's l1: 1.5913\n"
     ]
    },
    {
     "name": "stderr",
     "output_type": "stream",
     "text": [
      "\u001b[32m[I 2021-07-11 01:25:09,405]\u001b[0m Trial 10 finished with value: -1.5897951746349934 and parameters: {'max_depth': 17, 'min_child_weight': 10, 'subsample': 0.5, 'colsample_bytree': 0.5, 'reg_lambda': 0.0010737027993291623, 'reg_alpha': 40.46010417759557, 'feature_fraction': 0.21222557388459035, 'bagging_fraction': 0.7284166564962473, 'bagging_freq': 9, 'num_leaves': 12, 'min_child_samples': 100}. Best is trial 1 with value: -1.5750764307892247.\u001b[0m\n"
     ]
    },
    {
     "name": "stdout",
     "output_type": "stream",
     "text": [
      "Early stopping, best iteration is:\n",
      "[645]\ttraining's l1: 0.970184\tvalid_1's l1: 1.59032\n",
      "[LightGBM] [Warning] feature_fraction is set=0.39461938593625223, colsample_bytree=0.8 will be ignored. Current value: feature_fraction=0.39461938593625223\n",
      "[LightGBM] [Warning] bagging_fraction is set=0.7605624124210036, subsample=0.8 will be ignored. Current value: bagging_fraction=0.7605624124210036\n",
      "[LightGBM] [Warning] bagging_freq is set=2, subsample_freq=0 will be ignored. Current value: bagging_freq=2\n",
      "Training until validation scores don't improve for 100 rounds\n",
      "[100]\ttraining's l1: 0.85987\tvalid_1's l1: 1.58881\n"
     ]
    },
    {
     "name": "stderr",
     "output_type": "stream",
     "text": [
      "\u001b[32m[I 2021-07-11 01:25:20,715]\u001b[0m Trial 11 finished with value: -1.5823198685495568 and parameters: {'max_depth': 15, 'min_child_weight': 16, 'subsample': 0.8, 'colsample_bytree': 0.8, 'reg_lambda': 0.001159690080600393, 'reg_alpha': 37.9299291271852, 'feature_fraction': 0.39461938593625223, 'bagging_fraction': 0.7605624124210036, 'bagging_freq': 2, 'num_leaves': 538, 'min_child_samples': 9}. Best is trial 1 with value: -1.5750764307892247.\u001b[0m\n"
     ]
    },
    {
     "name": "stdout",
     "output_type": "stream",
     "text": [
      "Early stopping, best iteration is:\n",
      "[51]\ttraining's l1: 0.894507\tvalid_1's l1: 1.58234\n",
      "[LightGBM] [Warning] feature_fraction is set=0.40714754452489343, colsample_bytree=0.6 will be ignored. Current value: feature_fraction=0.40714754452489343\n",
      "[LightGBM] [Warning] bagging_fraction is set=0.7135160998945612, subsample=0.6 will be ignored. Current value: bagging_fraction=0.7135160998945612\n",
      "[LightGBM] [Warning] bagging_freq is set=3, subsample_freq=0 will be ignored. Current value: bagging_freq=3\n",
      "Training until validation scores don't improve for 100 rounds\n",
      "[100]\ttraining's l1: 0.989262\tvalid_1's l1: 1.58647\n",
      "[200]\ttraining's l1: 0.976642\tvalid_1's l1: 1.582\n",
      "[300]\ttraining's l1: 0.968316\tvalid_1's l1: 1.57984\n",
      "[400]\ttraining's l1: 0.963574\tvalid_1's l1: 1.57913\n",
      "[500]\ttraining's l1: 0.960339\tvalid_1's l1: 1.57786\n",
      "[600]\ttraining's l1: 0.957608\tvalid_1's l1: 1.57714\n",
      "Early stopping, best iteration is:\n",
      "[510]\ttraining's l1: 0.959214\tvalid_1's l1: 1.57709\n"
     ]
    },
    {
     "name": "stderr",
     "output_type": "stream",
     "text": [
      "\u001b[32m[I 2021-07-11 01:25:41,195]\u001b[0m Trial 12 finished with value: -1.5770232257885863 and parameters: {'max_depth': 8, 'min_child_weight': 16, 'subsample': 0.6, 'colsample_bytree': 0.6, 'reg_lambda': 0.007237525083797214, 'reg_alpha': 978.3236789395509, 'feature_fraction': 0.40714754452489343, 'bagging_fraction': 0.7135160998945612, 'bagging_freq': 3, 'num_leaves': 246, 'min_child_samples': 23}. Best is trial 1 with value: -1.5750764307892247.\u001b[0m\n"
     ]
    },
    {
     "name": "stdout",
     "output_type": "stream",
     "text": [
      "[LightGBM] [Warning] feature_fraction is set=0.45010914153056136, colsample_bytree=0.8 will be ignored. Current value: feature_fraction=0.45010914153056136\n",
      "[LightGBM] [Warning] bagging_fraction is set=0.42825545042392577, subsample=0.8 will be ignored. Current value: bagging_fraction=0.42825545042392577\n",
      "[LightGBM] [Warning] bagging_freq is set=12, subsample_freq=0 will be ignored. Current value: bagging_freq=12\n",
      "Training until validation scores don't improve for 100 rounds\n",
      "[100]\ttraining's l1: 0.923266\tvalid_1's l1: 1.58989\n"
     ]
    },
    {
     "name": "stderr",
     "output_type": "stream",
     "text": [
      "\u001b[32m[I 2021-07-11 01:25:46,854]\u001b[0m Trial 13 finished with value: -1.5830188653866484 and parameters: {'max_depth': 9, 'min_child_weight': 20, 'subsample': 0.8, 'colsample_bytree': 0.8, 'reg_lambda': 39.21326295390409, 'reg_alpha': 20.492682279462297, 'feature_fraction': 0.45010914153056136, 'bagging_fraction': 0.42825545042392577, 'bagging_freq': 12, 'num_leaves': 257, 'min_child_samples': 69}. Best is trial 1 with value: -1.5750764307892247.\u001b[0m\n"
     ]
    },
    {
     "name": "stdout",
     "output_type": "stream",
     "text": [
      "Early stopping, best iteration is:\n",
      "[57]\ttraining's l1: 0.938059\tvalid_1's l1: 1.58306\n",
      "[LightGBM] [Warning] feature_fraction is set=0.7436088715804159, colsample_bytree=0.8 will be ignored. Current value: feature_fraction=0.7436088715804159\n",
      "[LightGBM] [Warning] bagging_fraction is set=0.8234392077190548, subsample=0.6 will be ignored. Current value: bagging_fraction=0.8234392077190548\n",
      "[LightGBM] [Warning] bagging_freq is set=5, subsample_freq=0 will be ignored. Current value: bagging_freq=5\n",
      "Training until validation scores don't improve for 100 rounds\n",
      "[100]\ttraining's l1: 0.834854\tvalid_1's l1: 1.59551\n"
     ]
    },
    {
     "name": "stderr",
     "output_type": "stream",
     "text": [
      "\u001b[32m[I 2021-07-11 01:25:58,644]\u001b[0m Trial 14 finished with value: -1.580631680572367 and parameters: {'max_depth': 14, 'min_child_weight': 14, 'subsample': 0.6, 'colsample_bytree': 0.8, 'reg_lambda': 35.01654767850651, 'reg_alpha': 8.697855257884607, 'feature_fraction': 0.7436088715804159, 'bagging_fraction': 0.8234392077190548, 'bagging_freq': 5, 'num_leaves': 514, 'min_child_samples': 25}. Best is trial 1 with value: -1.5750764307892247.\u001b[0m\n"
     ]
    },
    {
     "name": "stdout",
     "output_type": "stream",
     "text": [
      "Early stopping, best iteration is:\n",
      "[63]\ttraining's l1: 0.861641\tvalid_1's l1: 1.58067\n",
      "[LightGBM] [Warning] feature_fraction is set=0.3031915841415454, colsample_bytree=0.6 will be ignored. Current value: feature_fraction=0.3031915841415454\n",
      "[LightGBM] [Warning] bagging_fraction is set=0.9766191869040161, subsample=0.8 will be ignored. Current value: bagging_fraction=0.9766191869040161\n",
      "[LightGBM] [Warning] bagging_freq is set=9, subsample_freq=0 will be ignored. Current value: bagging_freq=9\n",
      "Training until validation scores don't improve for 100 rounds\n",
      "[100]\ttraining's l1: 0.922154\tvalid_1's l1: 1.5797\n",
      "[200]\ttraining's l1: 0.898751\tvalid_1's l1: 1.57612\n",
      "[300]\ttraining's l1: 0.887758\tvalid_1's l1: 1.57418\n",
      "[400]\ttraining's l1: 0.881883\tvalid_1's l1: 1.57371\n",
      "Early stopping, best iteration is:\n",
      "[324]\ttraining's l1: 0.88597\tvalid_1's l1: 1.57318\n"
     ]
    },
    {
     "name": "stderr",
     "output_type": "stream",
     "text": [
      "\u001b[32m[I 2021-07-11 01:26:19,340]\u001b[0m Trial 15 finished with value: -1.572957531361204 and parameters: {'max_depth': 18, 'min_child_weight': 8, 'subsample': 0.8, 'colsample_bytree': 0.6, 'reg_lambda': 0.011566384472421845, 'reg_alpha': 323.94811588068626, 'feature_fraction': 0.3031915841415454, 'bagging_fraction': 0.9766191869040161, 'bagging_freq': 9, 'num_leaves': 379, 'min_child_samples': 26}. Best is trial 15 with value: -1.572957531361204.\u001b[0m\n"
     ]
    },
    {
     "name": "stdout",
     "output_type": "stream",
     "text": [
      "[LightGBM] [Warning] feature_fraction is set=0.29432576049531006, colsample_bytree=0.6 will be ignored. Current value: feature_fraction=0.29432576049531006\n",
      "[LightGBM] [Warning] bagging_fraction is set=0.2099713754111503, subsample=0.8 will be ignored. Current value: bagging_fraction=0.2099713754111503\n",
      "[LightGBM] [Warning] bagging_freq is set=10, subsample_freq=0 will be ignored. Current value: bagging_freq=10\n",
      "Training until validation scores don't improve for 100 rounds\n",
      "[100]\ttraining's l1: 0.948416\tvalid_1's l1: 1.59307\n",
      "[200]\ttraining's l1: 0.914451\tvalid_1's l1: 1.57811\n"
     ]
    },
    {
     "name": "stderr",
     "output_type": "stream",
     "text": [
      "\u001b[32m[I 2021-07-11 01:26:25,946]\u001b[0m Trial 16 finished with value: -1.5775317047875261 and parameters: {'max_depth': 19, 'min_child_weight': 8, 'subsample': 0.8, 'colsample_bytree': 0.6, 'reg_lambda': 0.005405995347642641, 'reg_alpha': 0.001330599832701541, 'feature_fraction': 0.29432576049531006, 'bagging_fraction': 0.2099713754111503, 'bagging_freq': 10, 'num_leaves': 119, 'min_child_samples': 65}. Best is trial 15 with value: -1.572957531361204.\u001b[0m\n"
     ]
    },
    {
     "name": "stdout",
     "output_type": "stream",
     "text": [
      "Early stopping, best iteration is:\n",
      "[197]\ttraining's l1: 0.915573\tvalid_1's l1: 1.57793\n",
      "[LightGBM] [Warning] feature_fraction is set=0.21440488553927778, colsample_bytree=0.5 will be ignored. Current value: feature_fraction=0.21440488553927778\n",
      "[LightGBM] [Warning] bagging_fraction is set=0.6404884895248171, subsample=0.8 will be ignored. Current value: bagging_fraction=0.6404884895248171\n",
      "[LightGBM] [Warning] bagging_freq is set=9, subsample_freq=0 will be ignored. Current value: bagging_freq=9\n",
      "Training until validation scores don't improve for 100 rounds\n",
      "[100]\ttraining's l1: 0.836451\tvalid_1's l1: 1.59527\n"
     ]
    },
    {
     "name": "stderr",
     "output_type": "stream",
     "text": [
      "\u001b[32m[I 2021-07-11 01:26:38,055]\u001b[0m Trial 17 finished with value: -1.5871313756306908 and parameters: {'max_depth': 17, 'min_child_weight': 12, 'subsample': 0.8, 'colsample_bytree': 0.5, 'reg_lambda': 0.009849428311379789, 'reg_alpha': 5.488219542889549, 'feature_fraction': 0.21440488553927778, 'bagging_fraction': 0.6404884895248171, 'bagging_freq': 9, 'num_leaves': 992, 'min_child_samples': 5}. Best is trial 15 with value: -1.572957531361204.\u001b[0m\n"
     ]
    },
    {
     "name": "stdout",
     "output_type": "stream",
     "text": [
      "Early stopping, best iteration is:\n",
      "[64]\ttraining's l1: 0.861654\tvalid_1's l1: 1.5872\n",
      "[LightGBM] [Warning] feature_fraction is set=0.48326101893886303, colsample_bytree=0.6 will be ignored. Current value: feature_fraction=0.48326101893886303\n",
      "[LightGBM] [Warning] bagging_fraction is set=0.4384613153728155, subsample=0.9 will be ignored. Current value: bagging_fraction=0.4384613153728155\n",
      "[LightGBM] [Warning] bagging_freq is set=13, subsample_freq=0 will be ignored. Current value: bagging_freq=13\n",
      "Training until validation scores don't improve for 100 rounds\n",
      "[100]\ttraining's l1: 0.858404\tvalid_1's l1: 1.59247\n"
     ]
    },
    {
     "name": "stderr",
     "output_type": "stream",
     "text": [
      "\u001b[32m[I 2021-07-11 01:26:45,616]\u001b[0m Trial 18 finished with value: -1.5880561889256781 and parameters: {'max_depth': 15, 'min_child_weight': 7, 'subsample': 0.9, 'colsample_bytree': 0.6, 'reg_lambda': 0.11077417651075264, 'reg_alpha': 0.09682381476227493, 'feature_fraction': 0.48326101893886303, 'bagging_fraction': 0.4384613153728155, 'bagging_freq': 13, 'num_leaves': 355, 'min_child_samples': 83}. Best is trial 15 with value: -1.572957531361204.\u001b[0m\n"
     ]
    },
    {
     "name": "stdout",
     "output_type": "stream",
     "text": [
      "Early stopping, best iteration is:\n",
      "[42]\ttraining's l1: 0.906791\tvalid_1's l1: 1.58807\n",
      "[LightGBM] [Warning] feature_fraction is set=0.32421218024353443, colsample_bytree=0.5 will be ignored. Current value: feature_fraction=0.32421218024353443\n",
      "[LightGBM] [Warning] bagging_fraction is set=0.6668261563213138, subsample=0.5 will be ignored. Current value: bagging_fraction=0.6668261563213138\n",
      "[LightGBM] [Warning] bagging_freq is set=7, subsample_freq=0 will be ignored. Current value: bagging_freq=7\n",
      "Training until validation scores don't improve for 100 rounds\n",
      "[100]\ttraining's l1: 0.903976\tvalid_1's l1: 1.58281\n",
      "[200]\ttraining's l1: 0.882989\tvalid_1's l1: 1.58437\n"
     ]
    },
    {
     "name": "stderr",
     "output_type": "stream",
     "text": [
      "\u001b[32m[I 2021-07-11 01:26:58,043]\u001b[0m Trial 19 finished with value: -1.5808039588579865 and parameters: {'max_depth': 19, 'min_child_weight': 11, 'subsample': 0.5, 'colsample_bytree': 0.5, 'reg_lambda': 0.0020122479786561275, 'reg_alpha': 157.1036468881175, 'feature_fraction': 0.32421218024353443, 'bagging_fraction': 0.6668261563213138, 'bagging_freq': 7, 'num_leaves': 611, 'min_child_samples': 30}. Best is trial 15 with value: -1.572957531361204.\u001b[0m\n"
     ]
    },
    {
     "name": "stdout",
     "output_type": "stream",
     "text": [
      "Early stopping, best iteration is:\n",
      "[155]\ttraining's l1: 0.888815\tvalid_1's l1: 1.58094\n",
      "[LightGBM] [Warning] feature_fraction is set=0.3458760206323493, colsample_bytree=0.6 will be ignored. Current value: feature_fraction=0.3458760206323493\n",
      "[LightGBM] [Warning] bagging_fraction is set=0.8166832252861647, subsample=0.8 will be ignored. Current value: bagging_fraction=0.8166832252861647\n",
      "[LightGBM] [Warning] bagging_freq is set=4, subsample_freq=0 will be ignored. Current value: bagging_freq=4\n",
      "Training until validation scores don't improve for 100 rounds\n",
      "[100]\ttraining's l1: 0.935109\tvalid_1's l1: 1.58582\n",
      "[200]\ttraining's l1: 0.917257\tvalid_1's l1: 1.58074\n",
      "[300]\ttraining's l1: 0.886307\tvalid_1's l1: 1.57894\n"
     ]
    },
    {
     "name": "stderr",
     "output_type": "stream",
     "text": [
      "\u001b[32m[I 2021-07-11 01:27:13,705]\u001b[0m Trial 20 finished with value: -1.5749996352416638 and parameters: {'max_depth': 16, 'min_child_weight': 3, 'subsample': 0.8, 'colsample_bytree': 0.6, 'reg_lambda': 0.02358404411979469, 'reg_alpha': 3.4187127586953574, 'feature_fraction': 0.3458760206323493, 'bagging_fraction': 0.8166832252861647, 'bagging_freq': 4, 'num_leaves': 141, 'min_child_samples': 39}. Best is trial 15 with value: -1.572957531361204.\u001b[0m\n"
     ]
    },
    {
     "name": "stdout",
     "output_type": "stream",
     "text": [
      "Early stopping, best iteration is:\n",
      "[258]\ttraining's l1: 0.901889\tvalid_1's l1: 1.57538\n",
      "[LightGBM] [Warning] feature_fraction is set=0.36454506728671254, colsample_bytree=0.6 will be ignored. Current value: feature_fraction=0.36454506728671254\n",
      "[LightGBM] [Warning] bagging_fraction is set=0.9954330527128998, subsample=0.8 will be ignored. Current value: bagging_fraction=0.9954330527128998\n",
      "[LightGBM] [Warning] bagging_freq is set=4, subsample_freq=0 will be ignored. Current value: bagging_freq=4\n",
      "Training until validation scores don't improve for 100 rounds\n",
      "[100]\ttraining's l1: 0.935686\tvalid_1's l1: 1.58891\n",
      "[200]\ttraining's l1: 0.923967\tvalid_1's l1: 1.58403\n",
      "[300]\ttraining's l1: 0.902588\tvalid_1's l1: 1.58239\n"
     ]
    },
    {
     "name": "stderr",
     "output_type": "stream",
     "text": [
      "\u001b[32m[I 2021-07-11 01:27:33,121]\u001b[0m Trial 21 finished with value: -1.5794141261064623 and parameters: {'max_depth': 16, 'min_child_weight': 3, 'subsample': 0.8, 'colsample_bytree': 0.6, 'reg_lambda': 0.022461273332307376, 'reg_alpha': 3.9062612159067043, 'feature_fraction': 0.36454506728671254, 'bagging_fraction': 0.9954330527128998, 'bagging_freq': 4, 'num_leaves': 139, 'min_child_samples': 38}. Best is trial 15 with value: -1.572957531361204.\u001b[0m\n"
     ]
    },
    {
     "name": "stdout",
     "output_type": "stream",
     "text": [
      "Early stopping, best iteration is:\n",
      "[290]\ttraining's l1: 0.90763\tvalid_1's l1: 1.57974\n",
      "[LightGBM] [Warning] feature_fraction is set=0.2062620728814859, colsample_bytree=0.6 will be ignored. Current value: feature_fraction=0.2062620728814859\n",
      "[LightGBM] [Warning] bagging_fraction is set=0.8315103147347056, subsample=0.8 will be ignored. Current value: bagging_fraction=0.8315103147347056\n",
      "[LightGBM] [Warning] bagging_freq is set=8, subsample_freq=0 will be ignored. Current value: bagging_freq=8\n",
      "Training until validation scores don't improve for 100 rounds\n",
      "[100]\ttraining's l1: 0.902678\tvalid_1's l1: 1.59059\n",
      "[200]\ttraining's l1: 0.849941\tvalid_1's l1: 1.5878\n"
     ]
    },
    {
     "name": "stderr",
     "output_type": "stream",
     "text": [
      "\u001b[32m[I 2021-07-11 01:27:46,151]\u001b[0m Trial 22 finished with value: -1.5844753611670082 and parameters: {'max_depth': 20, 'min_child_weight': 8, 'subsample': 0.8, 'colsample_bytree': 0.6, 'reg_lambda': 0.17435479254884023, 'reg_alpha': 0.07977274777465196, 'feature_fraction': 0.2062620728814859, 'bagging_fraction': 0.8315103147347056, 'bagging_freq': 8, 'num_leaves': 312, 'min_child_samples': 57}. Best is trial 15 with value: -1.572957531361204.\u001b[0m\n"
     ]
    },
    {
     "name": "stdout",
     "output_type": "stream",
     "text": [
      "Early stopping, best iteration is:\n",
      "[179]\ttraining's l1: 0.857106\tvalid_1's l1: 1.58491\n",
      "[LightGBM] [Warning] feature_fraction is set=0.5068899107823641, colsample_bytree=0.5 will be ignored. Current value: feature_fraction=0.5068899107823641\n",
      "[LightGBM] [Warning] bagging_fraction is set=0.9138425431774391, subsample=0.9 will be ignored. Current value: bagging_fraction=0.9138425431774391\n",
      "[LightGBM] [Warning] bagging_freq is set=5, subsample_freq=0 will be ignored. Current value: bagging_freq=5\n",
      "Training until validation scores don't improve for 100 rounds\n",
      "[100]\ttraining's l1: 0.929225\tvalid_1's l1: 1.58607\n",
      "[200]\ttraining's l1: 0.918752\tvalid_1's l1: 1.58292\n",
      "[300]\ttraining's l1: 0.896243\tvalid_1's l1: 1.58219\n"
     ]
    },
    {
     "name": "stderr",
     "output_type": "stream",
     "text": [
      "\u001b[32m[I 2021-07-11 01:28:03,934]\u001b[0m Trial 23 finished with value: -1.5792612748930153 and parameters: {'max_depth': 18, 'min_child_weight': 6, 'subsample': 0.9, 'colsample_bytree': 0.5, 'reg_lambda': 0.002976780871063861, 'reg_alpha': 3.2886832378656443, 'feature_fraction': 0.5068899107823641, 'bagging_fraction': 0.9138425431774391, 'bagging_freq': 5, 'num_leaves': 143, 'min_child_samples': 16}. Best is trial 15 with value: -1.572957531361204.\u001b[0m\n"
     ]
    },
    {
     "name": "stdout",
     "output_type": "stream",
     "text": [
      "Early stopping, best iteration is:\n",
      "[232]\ttraining's l1: 0.909744\tvalid_1's l1: 1.57983\n",
      "[LightGBM] [Warning] feature_fraction is set=0.2554034937532459, colsample_bytree=0.7 will be ignored. Current value: feature_fraction=0.2554034937532459\n",
      "[LightGBM] [Warning] bagging_fraction is set=0.8031915315840308, subsample=0.8 will be ignored. Current value: bagging_fraction=0.8031915315840308\n",
      "[LightGBM] [Warning] bagging_freq is set=11, subsample_freq=0 will be ignored. Current value: bagging_freq=11\n",
      "Training until validation scores don't improve for 100 rounds\n",
      "[100]\ttraining's l1: 0.901703\tvalid_1's l1: 1.58147\n",
      "[200]\ttraining's l1: 0.885009\tvalid_1's l1: 1.58389\n"
     ]
    },
    {
     "name": "stderr",
     "output_type": "stream",
     "text": [
      "\u001b[32m[I 2021-07-11 01:28:13,779]\u001b[0m Trial 24 finished with value: -1.5804922322583743 and parameters: {'max_depth': 13, 'min_child_weight': 10, 'subsample': 0.8, 'colsample_bytree': 0.7, 'reg_lambda': 0.01605042776136135, 'reg_alpha': 103.06978808243068, 'feature_fraction': 0.2554034937532459, 'bagging_fraction': 0.8031915315840308, 'bagging_freq': 11, 'num_leaves': 458, 'min_child_samples': 31}. Best is trial 15 with value: -1.572957531361204.\u001b[0m\n"
     ]
    },
    {
     "name": "stdout",
     "output_type": "stream",
     "text": [
      "Early stopping, best iteration is:\n",
      "[108]\ttraining's l1: 0.899639\tvalid_1's l1: 1.58067\n",
      "[LightGBM] [Warning] feature_fraction is set=0.3335585478116278, colsample_bytree=0.6 will be ignored. Current value: feature_fraction=0.3335585478116278\n",
      "[LightGBM] [Warning] bagging_fraction is set=0.9912075223234866, subsample=0.6 will be ignored. Current value: bagging_fraction=0.9912075223234866\n",
      "[LightGBM] [Warning] bagging_freq is set=7, subsample_freq=0 will be ignored. Current value: bagging_freq=7\n",
      "Training until validation scores don't improve for 100 rounds\n",
      "[100]\ttraining's l1: 0.880107\tvalid_1's l1: 1.57851\n"
     ]
    },
    {
     "name": "stderr",
     "output_type": "stream",
     "text": [
      "\u001b[32m[I 2021-07-11 01:28:24,664]\u001b[0m Trial 25 finished with value: -1.5741874643408569 and parameters: {'max_depth': 15, 'min_child_weight': 1, 'subsample': 0.6, 'colsample_bytree': 0.6, 'reg_lambda': 0.028021263167607204, 'reg_alpha': 0.12946781444173674, 'feature_fraction': 0.3335585478116278, 'bagging_fraction': 0.9912075223234866, 'bagging_freq': 7, 'num_leaves': 318, 'min_child_samples': 44}. Best is trial 15 with value: -1.572957531361204.\u001b[0m\n"
     ]
    },
    {
     "name": "stdout",
     "output_type": "stream",
     "text": [
      "Early stopping, best iteration is:\n",
      "[71]\ttraining's l1: 0.890468\tvalid_1's l1: 1.57423\n",
      "[LightGBM] [Warning] feature_fraction is set=0.34005888850703075, colsample_bytree=0.6 will be ignored. Current value: feature_fraction=0.34005888850703075\n",
      "[LightGBM] [Warning] bagging_fraction is set=0.9919482568865928, subsample=0.6 will be ignored. Current value: bagging_fraction=0.9919482568865928\n",
      "[LightGBM] [Warning] bagging_freq is set=4, subsample_freq=0 will be ignored. Current value: bagging_freq=4\n",
      "Training until validation scores don't improve for 100 rounds\n",
      "[100]\ttraining's l1: 0.885987\tvalid_1's l1: 1.59044\n"
     ]
    },
    {
     "name": "stderr",
     "output_type": "stream",
     "text": [
      "\u001b[32m[I 2021-07-11 01:28:34,509]\u001b[0m Trial 26 finished with value: -1.5841730869646213 and parameters: {'max_depth': 16, 'min_child_weight': 1, 'subsample': 0.6, 'colsample_bytree': 0.6, 'reg_lambda': 0.2661481456295788, 'reg_alpha': 0.12141738625048862, 'feature_fraction': 0.34005888850703075, 'bagging_fraction': 0.9919482568865928, 'bagging_freq': 4, 'num_leaves': 302, 'min_child_samples': 57}. Best is trial 15 with value: -1.572957531361204.\u001b[0m\n"
     ]
    },
    {
     "name": "stdout",
     "output_type": "stream",
     "text": [
      "Early stopping, best iteration is:\n",
      "[51]\ttraining's l1: 0.914167\tvalid_1's l1: 1.58423\n",
      "[LightGBM] [Warning] feature_fraction is set=0.43239220321402566, colsample_bytree=0.7 will be ignored. Current value: feature_fraction=0.43239220321402566\n",
      "[LightGBM] [Warning] bagging_fraction is set=0.931848944996909, subsample=0.6 will be ignored. Current value: bagging_fraction=0.931848944996909\n",
      "[LightGBM] [Warning] bagging_freq is set=6, subsample_freq=0 will be ignored. Current value: bagging_freq=6\n",
      "Training until validation scores don't improve for 100 rounds\n",
      "[100]\ttraining's l1: 0.916335\tvalid_1's l1: 1.58557\n",
      "[200]\ttraining's l1: 0.890902\tvalid_1's l1: 1.58144\n"
     ]
    },
    {
     "name": "stderr",
     "output_type": "stream",
     "text": [
      "\u001b[32m[I 2021-07-11 01:28:48,737]\u001b[0m Trial 27 finished with value: -1.5788359560647938 and parameters: {'max_depth': 18, 'min_child_weight': 3, 'subsample': 0.6, 'colsample_bytree': 0.7, 'reg_lambda': 0.0496531732833237, 'reg_alpha': 0.0054134049956469504, 'feature_fraction': 0.43239220321402566, 'bagging_fraction': 0.931848944996909, 'bagging_freq': 6, 'num_leaves': 183, 'min_child_samples': 33}. Best is trial 15 with value: -1.572957531361204.\u001b[0m\n"
     ]
    },
    {
     "name": "stdout",
     "output_type": "stream",
     "text": [
      "Early stopping, best iteration is:\n",
      "[160]\ttraining's l1: 0.899518\tvalid_1's l1: 1.57894\n",
      "[LightGBM] [Warning] feature_fraction is set=0.51820626037777, colsample_bytree=0.6 will be ignored. Current value: feature_fraction=0.51820626037777\n",
      "[LightGBM] [Warning] bagging_fraction is set=0.865344937352287, subsample=0.5 will be ignored. Current value: bagging_fraction=0.865344937352287\n",
      "[LightGBM] [Warning] bagging_freq is set=11, subsample_freq=0 will be ignored. Current value: bagging_freq=11\n",
      "Training until validation scores don't improve for 100 rounds\n",
      "[100]\ttraining's l1: 0.966468\tvalid_1's l1: 1.59359\n",
      "[200]\ttraining's l1: 0.959866\tvalid_1's l1: 1.59163\n",
      "[300]\ttraining's l1: 0.94259\tvalid_1's l1: 1.58558\n",
      "[400]\ttraining's l1: 0.921758\tvalid_1's l1: 1.57919\n",
      "[500]\ttraining's l1: 0.883666\tvalid_1's l1: 1.58148\n"
     ]
    },
    {
     "name": "stderr",
     "output_type": "stream",
     "text": [
      "\u001b[32m[I 2021-07-11 01:29:11,855]\u001b[0m Trial 28 finished with value: -1.5768314965205992 and parameters: {'max_depth': 15, 'min_child_weight': 4, 'subsample': 0.5, 'colsample_bytree': 0.6, 'reg_lambda': 0.025449875649942375, 'reg_alpha': 0.21044914116285995, 'feature_fraction': 0.51820626037777, 'bagging_fraction': 0.865344937352287, 'bagging_freq': 11, 'num_leaves': 79, 'min_child_samples': 47}. Best is trial 15 with value: -1.572957531361204.\u001b[0m\n"
     ]
    },
    {
     "name": "stdout",
     "output_type": "stream",
     "text": [
      "Early stopping, best iteration is:\n",
      "[441]\ttraining's l1: 0.903476\tvalid_1's l1: 1.57704\n",
      "[LightGBM] [Warning] feature_fraction is set=0.37264250332461685, colsample_bytree=0.7 will be ignored. Current value: feature_fraction=0.37264250332461685\n",
      "[LightGBM] [Warning] bagging_fraction is set=0.961217232866187, subsample=0.9 will be ignored. Current value: bagging_fraction=0.961217232866187\n",
      "[LightGBM] [Warning] bagging_freq is set=3, subsample_freq=0 will be ignored. Current value: bagging_freq=3\n",
      "Training until validation scores don't improve for 100 rounds\n",
      "[100]\ttraining's l1: 1.169\tvalid_1's l1: 1.75387\n"
     ]
    },
    {
     "name": "stderr",
     "output_type": "stream",
     "text": [
      "\u001b[32m[I 2021-07-11 01:29:19,465]\u001b[0m Trial 29 finished with value: -1.7507841166299742 and parameters: {'max_depth': 1, 'min_child_weight': 4, 'subsample': 0.9, 'colsample_bytree': 0.7, 'reg_lambda': 1.8524564549467037, 'reg_alpha': 0.03373085271384602, 'feature_fraction': 0.37264250332461685, 'bagging_fraction': 0.961217232866187, 'bagging_freq': 3, 'num_leaves': 317, 'min_child_samples': 36}. Best is trial 15 with value: -1.572957531361204.\u001b[0m\n"
     ]
    },
    {
     "name": "stdout",
     "output_type": "stream",
     "text": [
      "Early stopping, best iteration is:\n",
      "[84]\ttraining's l1: 1.1722\tvalid_1's l1: 1.75078\n",
      "[LightGBM] [Warning] feature_fraction is set=0.5504155559187816, colsample_bytree=0.6 will be ignored. Current value: feature_fraction=0.5504155559187816\n",
      "[LightGBM] [Warning] bagging_fraction is set=0.9953386966370712, subsample=0.8 will be ignored. Current value: bagging_fraction=0.9953386966370712\n",
      "[LightGBM] [Warning] bagging_freq is set=9, subsample_freq=0 will be ignored. Current value: bagging_freq=9\n",
      "Training until validation scores don't improve for 100 rounds\n",
      "[100]\ttraining's l1: 0.799027\tvalid_1's l1: 1.59682\n"
     ]
    },
    {
     "name": "stderr",
     "output_type": "stream",
     "text": [
      "\u001b[32m[I 2021-07-11 01:29:33,886]\u001b[0m Trial 30 finished with value: -1.583041718595195 and parameters: {'max_depth': 20, 'min_child_weight': 1, 'subsample': 0.8, 'colsample_bytree': 0.6, 'reg_lambda': 4.751542503954674, 'reg_alpha': 0.005326321664588785, 'feature_fraction': 0.5504155559187816, 'bagging_fraction': 0.9953386966370712, 'bagging_freq': 9, 'num_leaves': 594, 'min_child_samples': 29}. Best is trial 15 with value: -1.572957531361204.\u001b[0m\n"
     ]
    },
    {
     "name": "stdout",
     "output_type": "stream",
     "text": [
      "Early stopping, best iteration is:\n",
      "[46]\ttraining's l1: 0.854112\tvalid_1's l1: 1.5831\n",
      "[LightGBM] [Warning] feature_fraction is set=0.2716859902656966, colsample_bytree=0.5 will be ignored. Current value: feature_fraction=0.2716859902656966\n",
      "[LightGBM] [Warning] bagging_fraction is set=0.6242000134061677, subsample=0.7 will be ignored. Current value: bagging_fraction=0.6242000134061677\n",
      "[LightGBM] [Warning] bagging_freq is set=7, subsample_freq=0 will be ignored. Current value: bagging_freq=7\n",
      "Training until validation scores don't improve for 100 rounds\n",
      "[100]\ttraining's l1: 0.873827\tvalid_1's l1: 1.58182\n"
     ]
    },
    {
     "name": "stderr",
     "output_type": "stream",
     "text": [
      "\u001b[32m[I 2021-07-11 01:29:43,362]\u001b[0m Trial 31 finished with value: -1.577817014057394 and parameters: {'max_depth': 13, 'min_child_weight': 8, 'subsample': 0.7, 'colsample_bytree': 0.5, 'reg_lambda': 0.0048707623459320155, 'reg_alpha': 0.2457983307219083, 'feature_fraction': 0.2716859902656966, 'bagging_fraction': 0.6242000134061677, 'bagging_freq': 7, 'num_leaves': 451, 'min_child_samples': 44}. Best is trial 15 with value: -1.572957531361204.\u001b[0m\n"
     ]
    },
    {
     "name": "stdout",
     "output_type": "stream",
     "text": [
      "Early stopping, best iteration is:\n",
      "[91]\ttraining's l1: 0.876547\tvalid_1's l1: 1.57792\n",
      "[LightGBM] [Warning] feature_fraction is set=0.3161168181540968, colsample_bytree=0.6 will be ignored. Current value: feature_fraction=0.3161168181540968\n",
      "[LightGBM] [Warning] bagging_fraction is set=0.4782958748699208, subsample=0.6 will be ignored. Current value: bagging_fraction=0.4782958748699208\n",
      "[LightGBM] [Warning] bagging_freq is set=8, subsample_freq=0 will be ignored. Current value: bagging_freq=8\n",
      "Training until validation scores don't improve for 100 rounds\n",
      "[100]\ttraining's l1: 0.904996\tvalid_1's l1: 1.58085\n",
      "[200]\ttraining's l1: 0.870156\tvalid_1's l1: 1.58389\n"
     ]
    },
    {
     "name": "stderr",
     "output_type": "stream",
     "text": [
      "\u001b[32m[I 2021-07-11 01:29:52,144]\u001b[0m Trial 32 finished with value: -1.5773283517519947 and parameters: {'max_depth': 14, 'min_child_weight': 6, 'subsample': 0.6, 'colsample_bytree': 0.6, 'reg_lambda': 0.0021983433833884375, 'reg_alpha': 1.651566736285731, 'feature_fraction': 0.3161168181540968, 'bagging_fraction': 0.4782958748699208, 'bagging_freq': 8, 'num_leaves': 232, 'min_child_samples': 39}. Best is trial 15 with value: -1.572957531361204.\u001b[0m\n"
     ]
    },
    {
     "name": "stdout",
     "output_type": "stream",
     "text": [
      "Early stopping, best iteration is:\n",
      "[131]\ttraining's l1: 0.89568\tvalid_1's l1: 1.57773\n",
      "[LightGBM] [Warning] feature_fraction is set=0.24339146321220317, colsample_bytree=0.5 will be ignored. Current value: feature_fraction=0.24339146321220317\n",
      "[LightGBM] [Warning] bagging_fraction is set=0.7721362738710641, subsample=0.7 will be ignored. Current value: bagging_fraction=0.7721362738710641\n",
      "[LightGBM] [Warning] bagging_freq is set=10, subsample_freq=0 will be ignored. Current value: bagging_freq=10\n",
      "Training until validation scores don't improve for 100 rounds\n",
      "[100]\ttraining's l1: 0.89385\tvalid_1's l1: 1.58152\n",
      "[200]\ttraining's l1: 0.867932\tvalid_1's l1: 1.58381\n",
      "Early stopping, best iteration is:\n",
      "[103]\ttraining's l1: 0.893214\tvalid_1's l1: 1.5814\n"
     ]
    },
    {
     "name": "stderr",
     "output_type": "stream",
     "text": [
      "\u001b[32m[I 2021-07-11 01:30:01,660]\u001b[0m Trial 33 finished with value: -1.5812884237744351 and parameters: {'max_depth': 12, 'min_child_weight': 11, 'subsample': 0.7, 'colsample_bytree': 0.5, 'reg_lambda': 0.011417554207194772, 'reg_alpha': 14.992135191101115, 'feature_fraction': 0.24339146321220317, 'bagging_fraction': 0.7721362738710641, 'bagging_freq': 10, 'num_leaves': 361, 'min_child_samples': 15}. Best is trial 15 with value: -1.572957531361204.\u001b[0m\n"
     ]
    },
    {
     "name": "stdout",
     "output_type": "stream",
     "text": [
      "[LightGBM] [Warning] feature_fraction is set=0.6482782976515593, colsample_bytree=0.7 will be ignored. Current value: feature_fraction=0.6482782976515593\n",
      "[LightGBM] [Warning] bagging_fraction is set=0.696444210883152, subsample=0.7 will be ignored. Current value: bagging_fraction=0.696444210883152\n",
      "[LightGBM] [Warning] bagging_freq is set=6, subsample_freq=0 will be ignored. Current value: bagging_freq=6\n",
      "Training until validation scores don't improve for 100 rounds\n",
      "[100]\ttraining's l1: 0.828982\tvalid_1's l1: 1.57696\n"
     ]
    },
    {
     "name": "stderr",
     "output_type": "stream",
     "text": [
      "\u001b[32m[I 2021-07-11 01:30:12,104]\u001b[0m Trial 34 finished with value: -1.5697978523607239 and parameters: {'max_depth': 16, 'min_child_weight': 2, 'subsample': 0.7, 'colsample_bytree': 0.7, 'reg_lambda': 0.5005455990960064, 'reg_alpha': 1.97017005296444, 'feature_fraction': 0.6482782976515593, 'bagging_fraction': 0.696444210883152, 'bagging_freq': 6, 'num_leaves': 473, 'min_child_samples': 53}. Best is trial 34 with value: -1.5697978523607239.\u001b[0m\n"
     ]
    },
    {
     "name": "stdout",
     "output_type": "stream",
     "text": [
      "Early stopping, best iteration is:\n",
      "[64]\ttraining's l1: 0.850824\tvalid_1's l1: 1.57011\n",
      "[LightGBM] [Warning] feature_fraction is set=0.665615589662673, colsample_bytree=0.7 will be ignored. Current value: feature_fraction=0.665615589662673\n",
      "[LightGBM] [Warning] bagging_fraction is set=0.68813930165662, subsample=0.8 will be ignored. Current value: bagging_fraction=0.68813930165662\n",
      "[LightGBM] [Warning] bagging_freq is set=5, subsample_freq=0 will be ignored. Current value: bagging_freq=5\n",
      "Training until validation scores don't improve for 100 rounds\n",
      "[100]\ttraining's l1: 0.822898\tvalid_1's l1: 1.59752\n"
     ]
    },
    {
     "name": "stderr",
     "output_type": "stream",
     "text": [
      "\u001b[32m[I 2021-07-11 01:30:22,245]\u001b[0m Trial 35 finished with value: -1.5862601027626242 and parameters: {'max_depth': 18, 'min_child_weight': 2, 'subsample': 0.8, 'colsample_bytree': 0.7, 'reg_lambda': 8.267394825306567, 'reg_alpha': 1.9261111928150256, 'feature_fraction': 0.665615589662673, 'bagging_fraction': 0.68813930165662, 'bagging_freq': 5, 'num_leaves': 482, 'min_child_samples': 53}. Best is trial 34 with value: -1.5697978523607239.\u001b[0m\n"
     ]
    },
    {
     "name": "stdout",
     "output_type": "stream",
     "text": [
      "Early stopping, best iteration is:\n",
      "[48]\ttraining's l1: 0.868798\tvalid_1's l1: 1.5863\n",
      "[LightGBM] [Warning] feature_fraction is set=0.7719939037717674, colsample_bytree=0.7 will be ignored. Current value: feature_fraction=0.7719939037717674\n",
      "[LightGBM] [Warning] bagging_fraction is set=0.8576216948100535, subsample=0.7 will be ignored. Current value: bagging_fraction=0.8576216948100535\n",
      "[LightGBM] [Warning] bagging_freq is set=6, subsample_freq=0 will be ignored. Current value: bagging_freq=6\n",
      "Training until validation scores don't improve for 100 rounds\n",
      "[100]\ttraining's l1: 0.81282\tvalid_1's l1: 1.59048\n"
     ]
    },
    {
     "name": "stderr",
     "output_type": "stream",
     "text": [
      "\u001b[32m[I 2021-07-11 01:30:35,247]\u001b[0m Trial 36 finished with value: -1.5783398337661423 and parameters: {'max_depth': 15, 'min_child_weight': 2, 'subsample': 0.7, 'colsample_bytree': 0.7, 'reg_lambda': 0.5283797660919127, 'reg_alpha': 0.05755644770275309, 'feature_fraction': 0.7719939037717674, 'bagging_fraction': 0.8576216948100535, 'bagging_freq': 6, 'num_leaves': 522, 'min_child_samples': 63}. Best is trial 34 with value: -1.5697978523607239.\u001b[0m\n"
     ]
    },
    {
     "name": "stdout",
     "output_type": "stream",
     "text": [
      "Early stopping, best iteration is:\n",
      "[70]\ttraining's l1: 0.839533\tvalid_1's l1: 1.5785\n",
      "[LightGBM] [Warning] feature_fraction is set=0.4448090356088699, colsample_bytree=0.8 will be ignored. Current value: feature_fraction=0.4448090356088699\n",
      "[LightGBM] [Warning] bagging_fraction is set=0.7778333131609371, subsample=0.7 will be ignored. Current value: bagging_fraction=0.7778333131609371\n",
      "[LightGBM] [Warning] bagging_freq is set=2, subsample_freq=0 will be ignored. Current value: bagging_freq=2\n",
      "Training until validation scores don't improve for 100 rounds\n",
      "[100]\ttraining's l1: 0.908402\tvalid_1's l1: 1.58056\n"
     ]
    },
    {
     "name": "stderr",
     "output_type": "stream",
     "text": [
      "\u001b[32m[I 2021-07-11 01:30:44,902]\u001b[0m Trial 37 finished with value: -1.577945850652067 and parameters: {'max_depth': 16, 'min_child_weight': 5, 'subsample': 0.7, 'colsample_bytree': 0.8, 'reg_lambda': 0.5901868084214336, 'reg_alpha': 0.3733313674046313, 'feature_fraction': 0.4448090356088699, 'bagging_fraction': 0.7778333131609371, 'bagging_freq': 2, 'num_leaves': 187, 'min_child_samples': 44}. Best is trial 34 with value: -1.5697978523607239.\u001b[0m\n"
     ]
    },
    {
     "name": "stdout",
     "output_type": "stream",
     "text": [
      "Early stopping, best iteration is:\n",
      "[57]\ttraining's l1: 0.923267\tvalid_1's l1: 1.57808\n",
      "[LightGBM] [Warning] feature_fraction is set=0.6481065667661616, colsample_bytree=0.7 will be ignored. Current value: feature_fraction=0.6481065667661616\n",
      "[LightGBM] [Warning] bagging_fraction is set=0.8948014009959239, subsample=0.6 will be ignored. Current value: bagging_fraction=0.8948014009959239\n",
      "[LightGBM] [Warning] bagging_freq is set=8, subsample_freq=0 will be ignored. Current value: bagging_freq=8\n",
      "Training until validation scores don't improve for 100 rounds\n",
      "[100]\ttraining's l1: 0.866\tvalid_1's l1: 1.57942\n"
     ]
    },
    {
     "name": "stderr",
     "output_type": "stream",
     "text": [
      "\u001b[32m[I 2021-07-11 01:30:55,247]\u001b[0m Trial 38 finished with value: -1.5731352498519493 and parameters: {'max_depth': 19, 'min_child_weight': 3, 'subsample': 0.6, 'colsample_bytree': 0.7, 'reg_lambda': 0.09418015447645377, 'reg_alpha': 1.3546354279768678, 'feature_fraction': 0.6481065667661616, 'bagging_fraction': 0.8948014009959239, 'bagging_freq': 8, 'num_leaves': 281, 'min_child_samples': 53}. Best is trial 34 with value: -1.5697978523607239.\u001b[0m\n"
     ]
    },
    {
     "name": "stdout",
     "output_type": "stream",
     "text": [
      "Early stopping, best iteration is:\n",
      "[71]\ttraining's l1: 0.878182\tvalid_1's l1: 1.5733\n",
      "[LightGBM] [Warning] feature_fraction is set=0.6609382162967785, colsample_bytree=0.7 will be ignored. Current value: feature_fraction=0.6609382162967785\n",
      "[LightGBM] [Warning] bagging_fraction is set=0.8920880438719003, subsample=0.6 will be ignored. Current value: bagging_fraction=0.8920880438719003\n",
      "[LightGBM] [Warning] bagging_freq is set=16, subsample_freq=0 will be ignored. Current value: bagging_freq=16\n",
      "Training until validation scores don't improve for 100 rounds\n",
      "[100]\ttraining's l1: 0.793366\tvalid_1's l1: 1.5959\n"
     ]
    },
    {
     "name": "stderr",
     "output_type": "stream",
     "text": [
      "\u001b[32m[I 2021-07-11 01:31:08,584]\u001b[0m Trial 39 finished with value: -1.5813479645797637 and parameters: {'max_depth': 19, 'min_child_weight': 5, 'subsample': 0.6, 'colsample_bytree': 0.7, 'reg_lambda': 0.0978249455040715, 'reg_alpha': 0.028634559350934247, 'feature_fraction': 0.6609382162967785, 'bagging_fraction': 0.8920880438719003, 'bagging_freq': 16, 'num_leaves': 679, 'min_child_samples': 78}. Best is trial 34 with value: -1.5697978523607239.\u001b[0m\n"
     ]
    },
    {
     "name": "stdout",
     "output_type": "stream",
     "text": [
      "Early stopping, best iteration is:\n",
      "[60]\ttraining's l1: 0.826326\tvalid_1's l1: 1.58158\n",
      "[LightGBM] [Warning] feature_fraction is set=0.6210053742795035, colsample_bytree=0.8 will be ignored. Current value: feature_fraction=0.6210053742795035\n",
      "[LightGBM] [Warning] bagging_fraction is set=0.94058917067666, subsample=0.5 will be ignored. Current value: bagging_fraction=0.94058917067666\n",
      "[LightGBM] [Warning] bagging_freq is set=8, subsample_freq=0 will be ignored. Current value: bagging_freq=8\n",
      "Training until validation scores don't improve for 100 rounds\n",
      "[100]\ttraining's l1: 0.829704\tvalid_1's l1: 1.58544\n"
     ]
    },
    {
     "name": "stderr",
     "output_type": "stream",
     "text": [
      "\u001b[32m[I 2021-07-11 01:31:20,238]\u001b[0m Trial 40 finished with value: -1.5794774047957465 and parameters: {'max_depth': 18, 'min_child_weight': 1, 'subsample': 0.5, 'colsample_bytree': 0.8, 'reg_lambda': 0.24697365557758316, 'reg_alpha': 1.142780769048623, 'feature_fraction': 0.6210053742795035, 'bagging_fraction': 0.94058917067666, 'bagging_freq': 8, 'num_leaves': 401, 'min_child_samples': 52}. Best is trial 34 with value: -1.5697978523607239.\u001b[0m\n"
     ]
    },
    {
     "name": "stdout",
     "output_type": "stream",
     "text": [
      "Early stopping, best iteration is:\n",
      "[70]\ttraining's l1: 0.848606\tvalid_1's l1: 1.57969\n",
      "[LightGBM] [Warning] feature_fraction is set=0.6316995590941501, colsample_bytree=0.7 will be ignored. Current value: feature_fraction=0.6316995590941501\n",
      "[LightGBM] [Warning] bagging_fraction is set=0.969118406842488, subsample=0.6 will be ignored. Current value: bagging_fraction=0.969118406842488\n",
      "[LightGBM] [Warning] bagging_freq is set=7, subsample_freq=0 will be ignored. Current value: bagging_freq=7\n",
      "Training until validation scores don't improve for 100 rounds\n",
      "[100]\ttraining's l1: 0.865821\tvalid_1's l1: 1.58013\n"
     ]
    },
    {
     "name": "stderr",
     "output_type": "stream",
     "text": [
      "\u001b[32m[I 2021-07-11 01:31:31,209]\u001b[0m Trial 41 finished with value: -1.578180009718658 and parameters: {'max_depth': 17, 'min_child_weight': 3, 'subsample': 0.6, 'colsample_bytree': 0.7, 'reg_lambda': 0.033813157476605196, 'reg_alpha': 0.5914110281112339, 'feature_fraction': 0.6316995590941501, 'bagging_fraction': 0.969118406842488, 'bagging_freq': 7, 'num_leaves': 276, 'min_child_samples': 61}. Best is trial 34 with value: -1.5697978523607239.\u001b[0m\n"
     ]
    },
    {
     "name": "stdout",
     "output_type": "stream",
     "text": [
      "Early stopping, best iteration is:\n",
      "[79]\ttraining's l1: 0.872281\tvalid_1's l1: 1.57851\n",
      "[LightGBM] [Warning] feature_fraction is set=0.5654365292227514, colsample_bytree=0.6 will be ignored. Current value: feature_fraction=0.5654365292227514\n",
      "[LightGBM] [Warning] bagging_fraction is set=0.9026935056937914, subsample=0.7 will be ignored. Current value: bagging_fraction=0.9026935056937914\n",
      "[LightGBM] [Warning] bagging_freq is set=6, subsample_freq=0 will be ignored. Current value: bagging_freq=6\n",
      "Training until validation scores don't improve for 100 rounds\n",
      "[100]\ttraining's l1: 0.844115\tvalid_1's l1: 1.59042\n"
     ]
    },
    {
     "name": "stderr",
     "output_type": "stream",
     "text": [
      "\u001b[32m[I 2021-07-11 01:31:42,818]\u001b[0m Trial 42 finished with value: -1.5810716012847754 and parameters: {'max_depth': 16, 'min_child_weight': 3, 'subsample': 0.7, 'colsample_bytree': 0.6, 'reg_lambda': 0.08734986834270299, 'reg_alpha': 2.789875779365299, 'feature_fraction': 0.5654365292227514, 'bagging_fraction': 0.9026935056937914, 'bagging_freq': 6, 'num_leaves': 354, 'min_child_samples': 46}. Best is trial 34 with value: -1.5697978523607239.\u001b[0m\n"
     ]
    },
    {
     "name": "stdout",
     "output_type": "stream",
     "text": [
      "Early stopping, best iteration is:\n",
      "[46]\ttraining's l1: 0.895948\tvalid_1's l1: 1.5811\n",
      "[LightGBM] [Warning] feature_fraction is set=0.8377134236230139, colsample_bytree=0.7 will be ignored. Current value: feature_fraction=0.8377134236230139\n",
      "[LightGBM] [Warning] bagging_fraction is set=0.7340411492743346, subsample=0.6 will be ignored. Current value: bagging_fraction=0.7340411492743346\n",
      "[LightGBM] [Warning] bagging_freq is set=4, subsample_freq=0 will be ignored. Current value: bagging_freq=4\n",
      "Training until validation scores don't improve for 100 rounds\n",
      "[100]\ttraining's l1: 0.880467\tvalid_1's l1: 1.58613\n"
     ]
    },
    {
     "name": "stderr",
     "output_type": "stream",
     "text": [
      "\u001b[32m[I 2021-07-11 01:31:52,111]\u001b[0m Trial 43 finished with value: -1.5781277733581307 and parameters: {'max_depth': 20, 'min_child_weight': 2, 'subsample': 0.6, 'colsample_bytree': 0.7, 'reg_lambda': 0.17806811340219605, 'reg_alpha': 6.1423080487782435, 'feature_fraction': 0.8377134236230139, 'bagging_fraction': 0.7340411492743346, 'bagging_freq': 4, 'num_leaves': 212, 'min_child_samples': 53}. Best is trial 34 with value: -1.5697978523607239.\u001b[0m\n"
     ]
    },
    {
     "name": "stdout",
     "output_type": "stream",
     "text": [
      "Early stopping, best iteration is:\n",
      "[61]\ttraining's l1: 0.901678\tvalid_1's l1: 1.57824\n",
      "[LightGBM] [Warning] feature_fraction is set=0.6789133452173923, colsample_bytree=0.6 will be ignored. Current value: feature_fraction=0.6789133452173923\n",
      "[LightGBM] [Warning] bagging_fraction is set=0.5839606984118758, subsample=0.7 will be ignored. Current value: bagging_fraction=0.5839606984118758\n",
      "[LightGBM] [Warning] bagging_freq is set=9, subsample_freq=0 will be ignored. Current value: bagging_freq=9\n",
      "Training until validation scores don't improve for 100 rounds\n",
      "[100]\ttraining's l1: 0.839155\tvalid_1's l1: 1.5912\n"
     ]
    },
    {
     "name": "stderr",
     "output_type": "stream",
     "text": [
      "\u001b[32m[I 2021-07-11 01:32:00,976]\u001b[0m Trial 44 finished with value: -1.5822694423629038 and parameters: {'max_depth': 17, 'min_child_weight': 5, 'subsample': 0.7, 'colsample_bytree': 0.6, 'reg_lambda': 0.047770526604958195, 'reg_alpha': 0.3062124602670757, 'feature_fraction': 0.6789133452173923, 'bagging_fraction': 0.5839606984118758, 'bagging_freq': 9, 'num_leaves': 441, 'min_child_samples': 27}. Best is trial 34 with value: -1.5697978523607239.\u001b[0m\n"
     ]
    },
    {
     "name": "stdout",
     "output_type": "stream",
     "text": [
      "Early stopping, best iteration is:\n",
      "[48]\ttraining's l1: 0.878667\tvalid_1's l1: 1.58239\n",
      "[LightGBM] [Warning] feature_fraction is set=0.7981746265371888, colsample_bytree=0.6 will be ignored. Current value: feature_fraction=0.7981746265371888\n",
      "[LightGBM] [Warning] bagging_fraction is set=0.8450687520513926, subsample=0.6 will be ignored. Current value: bagging_fraction=0.8450687520513926\n",
      "[LightGBM] [Warning] bagging_freq is set=7, subsample_freq=0 will be ignored. Current value: bagging_freq=7\n",
      "Training until validation scores don't improve for 100 rounds\n",
      "[100]\ttraining's l1: 0.940627\tvalid_1's l1: 1.58403\n",
      "[200]\ttraining's l1: 0.927952\tvalid_1's l1: 1.58344\n",
      "[300]\ttraining's l1: 0.922968\tvalid_1's l1: 1.58054\n",
      "[400]\ttraining's l1: 0.92069\tvalid_1's l1: 1.57862\n",
      "[500]\ttraining's l1: 0.918697\tvalid_1's l1: 1.57816\n",
      "[600]\ttraining's l1: 0.917874\tvalid_1's l1: 1.57777\n",
      "[700]\ttraining's l1: 0.917093\tvalid_1's l1: 1.57727\n",
      "Early stopping, best iteration is:\n",
      "[678]\ttraining's l1: 0.91727\tvalid_1's l1: 1.57723\n"
     ]
    },
    {
     "name": "stderr",
     "output_type": "stream",
     "text": [
      "\u001b[32m[I 2021-07-11 01:32:28,198]\u001b[0m Trial 45 finished with value: -1.5770587163455358 and parameters: {'max_depth': 19, 'min_child_weight': 4, 'subsample': 0.6, 'colsample_bytree': 0.6, 'reg_lambda': 0.019215613239229348, 'reg_alpha': 760.0567605647219, 'feature_fraction': 0.7981746265371888, 'bagging_fraction': 0.8450687520513926, 'bagging_freq': 7, 'num_leaves': 570, 'min_child_samples': 19}. Best is trial 34 with value: -1.5697978523607239.\u001b[0m\n"
     ]
    },
    {
     "name": "stdout",
     "output_type": "stream",
     "text": [
      "[LightGBM] [Warning] feature_fraction is set=0.7139936122118817, colsample_bytree=0.7 will be ignored. Current value: feature_fraction=0.7139936122118817\n",
      "[LightGBM] [Warning] bagging_fraction is set=0.8052453631718887, subsample=0.7 will be ignored. Current value: bagging_fraction=0.8052453631718887\n",
      "[LightGBM] [Warning] bagging_freq is set=5, subsample_freq=0 will be ignored. Current value: bagging_freq=5\n",
      "Training until validation scores don't improve for 100 rounds\n",
      "[100]\ttraining's l1: 0.990498\tvalid_1's l1: 1.5841\n",
      "[200]\ttraining's l1: 0.988224\tvalid_1's l1: 1.58363\n"
     ]
    },
    {
     "name": "stderr",
     "output_type": "stream",
     "text": [
      "\u001b[32m[I 2021-07-11 01:32:38,225]\u001b[0m Trial 46 finished with value: -1.583480299664251 and parameters: {'max_depth': 14, 'min_child_weight': 2, 'subsample': 0.7, 'colsample_bytree': 0.7, 'reg_lambda': 0.8493534788971925, 'reg_alpha': 1.1451082542559783, 'feature_fraction': 0.7139936122118817, 'bagging_fraction': 0.8052453631718887, 'bagging_freq': 5, 'num_leaves': 41, 'min_child_samples': 42}. Best is trial 34 with value: -1.5697978523607239.\u001b[0m\n"
     ]
    },
    {
     "name": "stdout",
     "output_type": "stream",
     "text": [
      "Early stopping, best iteration is:\n",
      "[189]\ttraining's l1: 0.988315\tvalid_1's l1: 1.58351\n",
      "[LightGBM] [Warning] feature_fraction is set=0.7130443626220343, colsample_bytree=0.8 will be ignored. Current value: feature_fraction=0.7130443626220343\n",
      "[LightGBM] [Warning] bagging_fraction is set=0.880738868975262, subsample=0.5 will be ignored. Current value: bagging_fraction=0.880738868975262\n",
      "[LightGBM] [Warning] bagging_freq is set=12, subsample_freq=0 will be ignored. Current value: bagging_freq=12\n",
      "Training until validation scores don't improve for 100 rounds\n",
      "[100]\ttraining's l1: 0.880651\tvalid_1's l1: 1.58395\n"
     ]
    },
    {
     "name": "stderr",
     "output_type": "stream",
     "text": [
      "\u001b[32m[I 2021-07-11 01:32:47,041]\u001b[0m Trial 47 finished with value: -1.581526749265534 and parameters: {'max_depth': 11, 'min_child_weight': 1, 'subsample': 0.5, 'colsample_bytree': 0.8, 'reg_lambda': 0.06664393493585491, 'reg_alpha': 13.381464577644248, 'feature_fraction': 0.7130443626220343, 'bagging_fraction': 0.880738868975262, 'bagging_freq': 12, 'num_leaves': 279, 'min_child_samples': 35}. Best is trial 34 with value: -1.5697978523607239.\u001b[0m\n"
     ]
    },
    {
     "name": "stdout",
     "output_type": "stream",
     "text": [
      "Early stopping, best iteration is:\n",
      "[62]\ttraining's l1: 0.898563\tvalid_1's l1: 1.58159\n",
      "[LightGBM] [Warning] feature_fraction is set=0.6024730275350926, colsample_bytree=0.6 will be ignored. Current value: feature_fraction=0.6024730275350926\n",
      "[LightGBM] [Warning] bagging_fraction is set=0.694800405036584, subsample=0.8 will be ignored. Current value: bagging_fraction=0.694800405036584\n",
      "[LightGBM] [Warning] bagging_freq is set=1, subsample_freq=0 will be ignored. Current value: bagging_freq=1\n",
      "Training until validation scores don't improve for 100 rounds\n",
      "[100]\ttraining's l1: 0.911931\tvalid_1's l1: 1.57782\n",
      "[200]\ttraining's l1: 0.907264\tvalid_1's l1: 1.57693\n",
      "[300]\ttraining's l1: 0.902067\tvalid_1's l1: 1.57624\n"
     ]
    },
    {
     "name": "stderr",
     "output_type": "stream",
     "text": [
      "\u001b[32m[I 2021-07-11 01:33:02,086]\u001b[0m Trial 48 finished with value: -1.5754984376954848 and parameters: {'max_depth': 9, 'min_child_weight': 6, 'subsample': 0.8, 'colsample_bytree': 0.6, 'reg_lambda': 0.012515295607544713, 'reg_alpha': 32.427430219402325, 'feature_fraction': 0.6024730275350926, 'bagging_fraction': 0.694800405036584, 'bagging_freq': 1, 'num_leaves': 391, 'min_child_samples': 50}. Best is trial 34 with value: -1.5697978523607239.\u001b[0m\n"
     ]
    },
    {
     "name": "stdout",
     "output_type": "stream",
     "text": [
      "Early stopping, best iteration is:\n",
      "[283]\ttraining's l1: 0.903056\tvalid_1's l1: 1.57578\n",
      "[LightGBM] [Warning] feature_fraction is set=0.5471313344655445, colsample_bytree=0.9 will be ignored. Current value: feature_fraction=0.5471313344655445\n",
      "[LightGBM] [Warning] bagging_fraction is set=0.9680011767504687, subsample=0.9 will be ignored. Current value: bagging_fraction=0.9680011767504687\n",
      "[LightGBM] [Warning] bagging_freq is set=9, subsample_freq=0 will be ignored. Current value: bagging_freq=9\n",
      "Training until validation scores don't improve for 100 rounds\n",
      "[100]\ttraining's l1: 0.86619\tvalid_1's l1: 1.59374\n"
     ]
    },
    {
     "name": "stderr",
     "output_type": "stream",
     "text": [
      "\u001b[32m[I 2021-07-11 01:33:14,929]\u001b[0m Trial 49 finished with value: -1.585372211064004 and parameters: {'max_depth': 16, 'min_child_weight': 4, 'subsample': 0.9, 'colsample_bytree': 0.9, 'reg_lambda': 0.36327898904753686, 'reg_alpha': 74.4057089387685, 'feature_fraction': 0.5471313344655445, 'bagging_fraction': 0.9680011767504687, 'bagging_freq': 9, 'num_leaves': 341, 'min_child_samples': 59}. Best is trial 34 with value: -1.5697978523607239.\u001b[0m\n"
     ]
    },
    {
     "name": "stdout",
     "output_type": "stream",
     "text": [
      "Early stopping, best iteration is:\n",
      "[63]\ttraining's l1: 0.885137\tvalid_1's l1: 1.5855\n",
      "[LightGBM] [Warning] feature_fraction is set=0.35651095229560836, colsample_bytree=0.7 will be ignored. Current value: feature_fraction=0.35651095229560836\n",
      "[LightGBM] [Warning] bagging_fraction is set=0.7933632094223968, subsample=0.7 will be ignored. Current value: bagging_fraction=0.7933632094223968\n",
      "[LightGBM] [Warning] bagging_freq is set=3, subsample_freq=0 will be ignored. Current value: bagging_freq=3\n",
      "Training until validation scores don't improve for 100 rounds\n",
      "[100]\ttraining's l1: 0.96196\tvalid_1's l1: 1.59228\n",
      "[200]\ttraining's l1: 0.946159\tvalid_1's l1: 1.58875\n",
      "[300]\ttraining's l1: 0.933278\tvalid_1's l1: 1.58443\n",
      "[400]\ttraining's l1: 0.922331\tvalid_1's l1: 1.58184\n",
      "[500]\ttraining's l1: 0.914489\tvalid_1's l1: 1.5788\n",
      "[600]\ttraining's l1: 0.908687\tvalid_1's l1: 1.57825\n",
      "[700]\ttraining's l1: 0.902811\tvalid_1's l1: 1.57435\n",
      "Early stopping, best iteration is:\n",
      "[638]\ttraining's l1: 0.905532\tvalid_1's l1: 1.57376\n"
     ]
    },
    {
     "name": "stderr",
     "output_type": "stream",
     "text": [
      "\u001b[32m[I 2021-07-11 01:33:43,747]\u001b[0m Trial 50 finished with value: -1.573441528717664 and parameters: {'max_depth': 12, 'min_child_weight': 7, 'subsample': 0.7, 'colsample_bytree': 0.7, 'reg_lambda': 0.1438567104633207, 'reg_alpha': 372.44208214761636, 'feature_fraction': 0.35651095229560836, 'bagging_fraction': 0.7933632094223968, 'bagging_freq': 3, 'num_leaves': 87, 'min_child_samples': 67}. Best is trial 34 with value: -1.5697978523607239.\u001b[0m\n"
     ]
    },
    {
     "name": "stdout",
     "output_type": "stream",
     "text": [
      "[LightGBM] [Warning] feature_fraction is set=0.29845342208465947, colsample_bytree=0.7 will be ignored. Current value: feature_fraction=0.29845342208465947\n",
      "[LightGBM] [Warning] bagging_fraction is set=0.7957439365331258, subsample=0.7 will be ignored. Current value: bagging_fraction=0.7957439365331258\n",
      "[LightGBM] [Warning] bagging_freq is set=3, subsample_freq=0 will be ignored. Current value: bagging_freq=3\n",
      "Training until validation scores don't improve for 100 rounds\n",
      "[100]\ttraining's l1: 0.956192\tvalid_1's l1: 1.58892\n",
      "[200]\ttraining's l1: 0.931221\tvalid_1's l1: 1.5812\n",
      "[300]\ttraining's l1: 0.920097\tvalid_1's l1: 1.58093\n",
      "[400]\ttraining's l1: 0.911403\tvalid_1's l1: 1.57984\n",
      "[500]\ttraining's l1: 0.907187\tvalid_1's l1: 1.57879\n"
     ]
    },
    {
     "name": "stderr",
     "output_type": "stream",
     "text": [
      "\u001b[32m[I 2021-07-11 01:34:03,726]\u001b[0m Trial 51 finished with value: -1.5782654686166901 and parameters: {'max_depth': 12, 'min_child_weight': 9, 'subsample': 0.7, 'colsample_bytree': 0.7, 'reg_lambda': 0.13427023497057403, 'reg_alpha': 419.4967209951187, 'feature_fraction': 0.29845342208465947, 'bagging_fraction': 0.7957439365331258, 'bagging_freq': 3, 'num_leaves': 117, 'min_child_samples': 73}. Best is trial 34 with value: -1.5697978523607239.\u001b[0m\n"
     ]
    },
    {
     "name": "stdout",
     "output_type": "stream",
     "text": [
      "Early stopping, best iteration is:\n",
      "[428]\ttraining's l1: 0.909407\tvalid_1's l1: 1.57851\n",
      "[LightGBM] [Warning] feature_fraction is set=0.36225289956351275, colsample_bytree=0.7 will be ignored. Current value: feature_fraction=0.36225289956351275\n",
      "[LightGBM] [Warning] bagging_fraction is set=0.833970613821081, subsample=0.7 will be ignored. Current value: bagging_fraction=0.833970613821081\n",
      "[LightGBM] [Warning] bagging_freq is set=2, subsample_freq=0 will be ignored. Current value: bagging_freq=2\n",
      "Training until validation scores don't improve for 100 rounds\n",
      "[100]\ttraining's l1: 0.965451\tvalid_1's l1: 1.58849\n",
      "[200]\ttraining's l1: 0.951681\tvalid_1's l1: 1.58862\n"
     ]
    },
    {
     "name": "stderr",
     "output_type": "stream",
     "text": [
      "\u001b[32m[I 2021-07-11 01:34:13,849]\u001b[0m Trial 52 finished with value: -1.587523223222284 and parameters: {'max_depth': 10, 'min_child_weight': 7, 'subsample': 0.7, 'colsample_bytree': 0.7, 'reg_lambda': 0.032015476866500726, 'reg_alpha': 338.0727477040393, 'feature_fraction': 0.36225289956351275, 'bagging_fraction': 0.833970613821081, 'bagging_freq': 2, 'num_leaves': 78, 'min_child_samples': 67}. Best is trial 34 with value: -1.5697978523607239.\u001b[0m\n"
     ]
    },
    {
     "name": "stdout",
     "output_type": "stream",
     "text": [
      "Early stopping, best iteration is:\n",
      "[111]\ttraining's l1: 0.96327\tvalid_1's l1: 1.58759\n",
      "[LightGBM] [Warning] feature_fraction is set=0.42003553401607835, colsample_bytree=0.8 will be ignored. Current value: feature_fraction=0.42003553401607835\n",
      "[LightGBM] [Warning] bagging_fraction is set=0.7456468412318723, subsample=0.6 will be ignored. Current value: bagging_fraction=0.7456468412318723\n",
      "[LightGBM] [Warning] bagging_freq is set=4, subsample_freq=0 will be ignored. Current value: bagging_freq=4\n",
      "Training until validation scores don't improve for 100 rounds\n",
      "[100]\ttraining's l1: 0.923269\tvalid_1's l1: 1.5867\n",
      "[200]\ttraining's l1: 0.904207\tvalid_1's l1: 1.58371\n",
      "[300]\ttraining's l1: 0.881834\tvalid_1's l1: 1.58627\n"
     ]
    },
    {
     "name": "stderr",
     "output_type": "stream",
     "text": [
      "\u001b[32m[I 2021-07-11 01:34:28,483]\u001b[0m Trial 53 finished with value: -1.582909008170946 and parameters: {'max_depth': 13, 'min_child_weight': 7, 'subsample': 0.6, 'colsample_bytree': 0.8, 'reg_lambda': 0.007277893604188573, 'reg_alpha': 0.5143290624152986, 'feature_fraction': 0.42003553401607835, 'bagging_fraction': 0.7456468412318723, 'bagging_freq': 4, 'num_leaves': 161, 'min_child_samples': 76}. Best is trial 34 with value: -1.5697978523607239.\u001b[0m\n"
     ]
    },
    {
     "name": "stdout",
     "output_type": "stream",
     "text": [
      "Early stopping, best iteration is:\n",
      "[223]\ttraining's l1: 0.900858\tvalid_1's l1: 1.58326\n",
      "[LightGBM] [Warning] feature_fraction is set=0.4658838212912604, colsample_bytree=0.6 will be ignored. Current value: feature_fraction=0.4658838212912604\n",
      "[LightGBM] [Warning] bagging_fraction is set=0.9249637651220265, subsample=0.8 will be ignored. Current value: bagging_fraction=0.9249637651220265\n",
      "[LightGBM] [Warning] bagging_freq is set=6, subsample_freq=0 will be ignored. Current value: bagging_freq=6\n",
      "Training until validation scores don't improve for 100 rounds\n",
      "[100]\ttraining's l1: 1.03591\tvalid_1's l1: 1.60665\n",
      "[200]\ttraining's l1: 1.01514\tvalid_1's l1: 1.59684\n",
      "[300]\ttraining's l1: 1.0071\tvalid_1's l1: 1.59405\n",
      "[400]\ttraining's l1: 1.00374\tvalid_1's l1: 1.59267\n",
      "[500]\ttraining's l1: 1.00067\tvalid_1's l1: 1.59105\n",
      "[600]\ttraining's l1: 0.997112\tvalid_1's l1: 1.58907\n",
      "[700]\ttraining's l1: 0.991168\tvalid_1's l1: 1.58561\n",
      "[800]\ttraining's l1: 0.984812\tvalid_1's l1: 1.58445\n",
      "[900]\ttraining's l1: 0.974574\tvalid_1's l1: 1.58279\n",
      "[1000]\ttraining's l1: 0.965078\tvalid_1's l1: 1.58148\n",
      "[1100]\ttraining's l1: 0.955221\tvalid_1's l1: 1.57897\n",
      "[1200]\ttraining's l1: 0.945188\tvalid_1's l1: 1.57755\n",
      "[1300]\ttraining's l1: 0.936731\tvalid_1's l1: 1.5768\n",
      "[1400]\ttraining's l1: 0.928508\tvalid_1's l1: 1.5773\n",
      "Early stopping, best iteration is:\n",
      "[1371]\ttraining's l1: 0.930102\tvalid_1's l1: 1.5761\n"
     ]
    },
    {
     "name": "stderr",
     "output_type": "stream",
     "text": [
      "\u001b[32m[I 2021-07-11 01:35:20,287]\u001b[0m Trial 54 finished with value: -1.5758311213724114 and parameters: {'max_depth': 15, 'min_child_weight': 9, 'subsample': 0.8, 'colsample_bytree': 0.6, 'reg_lambda': 1.108147844279805, 'reg_alpha': 0.16432034028513534, 'feature_fraction': 0.4658838212912604, 'bagging_fraction': 0.9249637651220265, 'bagging_freq': 6, 'num_leaves': 13, 'min_child_samples': 84}. Best is trial 34 with value: -1.5697978523607239.\u001b[0m\n"
     ]
    },
    {
     "name": "stdout",
     "output_type": "stream",
     "text": [
      "[LightGBM] [Warning] feature_fraction is set=0.24029650622501458, colsample_bytree=0.7 will be ignored. Current value: feature_fraction=0.24029650622501458\n",
      "[LightGBM] [Warning] bagging_fraction is set=0.6583811555922725, subsample=0.8 will be ignored. Current value: bagging_fraction=0.6583811555922725\n",
      "[LightGBM] [Warning] bagging_freq is set=10, subsample_freq=0 will be ignored. Current value: bagging_freq=10\n",
      "Training until validation scores don't improve for 100 rounds\n",
      "[100]\ttraining's l1: 0.941263\tvalid_1's l1: 1.5932\n",
      "[200]\ttraining's l1: 0.917171\tvalid_1's l1: 1.58875\n",
      "[300]\ttraining's l1: 0.904401\tvalid_1's l1: 1.58795\n"
     ]
    },
    {
     "name": "stderr",
     "output_type": "stream",
     "text": [
      "\u001b[32m[I 2021-07-11 01:35:31,385]\u001b[0m Trial 55 finished with value: -1.5872578151793406 and parameters: {'max_depth': 17, 'min_child_weight': 3, 'subsample': 0.8, 'colsample_bytree': 0.7, 'reg_lambda': 0.004006498480962575, 'reg_alpha': 257.0882881504859, 'feature_fraction': 0.24029650622501458, 'bagging_fraction': 0.6583811555922725, 'bagging_freq': 10, 'num_leaves': 217, 'min_child_samples': 55}. Best is trial 34 with value: -1.5697978523607239.\u001b[0m\n"
     ]
    },
    {
     "name": "stdout",
     "output_type": "stream",
     "text": [
      "Early stopping, best iteration is:\n",
      "[217]\ttraining's l1: 0.915669\tvalid_1's l1: 1.58746\n",
      "[LightGBM] [Warning] feature_fraction is set=0.4035787957236217, colsample_bytree=0.6 will be ignored. Current value: feature_fraction=0.4035787957236217\n",
      "[LightGBM] [Warning] bagging_fraction is set=0.7109700150684461, subsample=0.7 will be ignored. Current value: bagging_fraction=0.7109700150684461\n",
      "[LightGBM] [Warning] bagging_freq is set=8, subsample_freq=0 will be ignored. Current value: bagging_freq=8\n",
      "Training until validation scores don't improve for 100 rounds\n",
      "[100]\ttraining's l1: 0.963338\tvalid_1's l1: 1.58926\n",
      "[200]\ttraining's l1: 0.94897\tvalid_1's l1: 1.5866\n",
      "[300]\ttraining's l1: 0.931836\tvalid_1's l1: 1.57742\n",
      "[400]\ttraining's l1: 0.902526\tvalid_1's l1: 1.57957\n"
     ]
    },
    {
     "name": "stderr",
     "output_type": "stream",
     "text": [
      "\u001b[32m[I 2021-07-11 01:35:47,646]\u001b[0m Trial 56 finished with value: -1.576107602554193 and parameters: {'max_depth': 14, 'min_child_weight': 14, 'subsample': 0.7, 'colsample_bytree': 0.6, 'reg_lambda': 0.06101771652527266, 'reg_alpha': 63.3096670085326, 'feature_fraction': 0.4035787957236217, 'bagging_fraction': 0.7109700150684461, 'bagging_freq': 8, 'num_leaves': 83, 'min_child_samples': 40}. Best is trial 34 with value: -1.5697978523607239.\u001b[0m\n"
     ]
    },
    {
     "name": "stdout",
     "output_type": "stream",
     "text": [
      "Early stopping, best iteration is:\n",
      "[348]\ttraining's l1: 0.91792\tvalid_1's l1: 1.5764\n",
      "[LightGBM] [Warning] feature_fraction is set=0.3500439562788915, colsample_bytree=0.7 will be ignored. Current value: feature_fraction=0.3500439562788915\n",
      "[LightGBM] [Warning] bagging_fraction is set=0.7587100572334771, subsample=0.6 will be ignored. Current value: bagging_fraction=0.7587100572334771\n",
      "[LightGBM] [Warning] bagging_freq is set=1, subsample_freq=0 will be ignored. Current value: bagging_freq=1\n",
      "Training until validation scores don't improve for 100 rounds\n",
      "[100]\ttraining's l1: 0.995474\tvalid_1's l1: 1.58962\n",
      "[200]\ttraining's l1: 0.980383\tvalid_1's l1: 1.59039\n"
     ]
    },
    {
     "name": "stderr",
     "output_type": "stream",
     "text": [
      "\u001b[32m[I 2021-07-11 01:35:55,779]\u001b[0m Trial 57 finished with value: -1.5878657788680348 and parameters: {'max_depth': 7, 'min_child_weight': 8, 'subsample': 0.6, 'colsample_bytree': 0.7, 'reg_lambda': 0.2576876405656458, 'reg_alpha': 835.5039098120849, 'feature_fraction': 0.3500439562788915, 'bagging_fraction': 0.7587100572334771, 'bagging_freq': 1, 'num_leaves': 485, 'min_child_samples': 49}. Best is trial 34 with value: -1.5697978523607239.\u001b[0m\n"
     ]
    },
    {
     "name": "stdout",
     "output_type": "stream",
     "text": [
      "Early stopping, best iteration is:\n",
      "[151]\ttraining's l1: 0.98861\tvalid_1's l1: 1.5879\n",
      "[LightGBM] [Warning] feature_fraction is set=0.39057215858607786, colsample_bytree=0.6 will be ignored. Current value: feature_fraction=0.39057215858607786\n",
      "[LightGBM] [Warning] bagging_fraction is set=0.8130947824623773, subsample=0.8 will be ignored. Current value: bagging_fraction=0.8130947824623773\n",
      "[LightGBM] [Warning] bagging_freq is set=20, subsample_freq=0 will be ignored. Current value: bagging_freq=20\n",
      "Training until validation scores don't improve for 100 rounds\n",
      "[100]\ttraining's l1: 0.892209\tvalid_1's l1: 1.57151\n",
      "[200]\ttraining's l1: 0.87299\tvalid_1's l1: 1.57683\n"
     ]
    },
    {
     "name": "stderr",
     "output_type": "stream",
     "text": [
      "\u001b[32m[I 2021-07-11 01:36:07,910]\u001b[0m Trial 58 finished with value: -1.570848003017969 and parameters: {'max_depth': 18, 'min_child_weight': 18, 'subsample': 0.8, 'colsample_bytree': 0.6, 'reg_lambda': 0.14126485472948272, 'reg_alpha': 149.79027433470148, 'feature_fraction': 0.39057215858607786, 'bagging_fraction': 0.8130947824623773, 'bagging_freq': 20, 'num_leaves': 415, 'min_child_samples': 94}. Best is trial 34 with value: -1.5697978523607239.\u001b[0m\n"
     ]
    },
    {
     "name": "stdout",
     "output_type": "stream",
     "text": [
      "Early stopping, best iteration is:\n",
      "[105]\ttraining's l1: 0.89138\tvalid_1's l1: 1.57096\n",
      "[LightGBM] [Warning] feature_fraction is set=0.3096313092790992, colsample_bytree=0.7 will be ignored. Current value: feature_fraction=0.3096313092790992\n",
      "[LightGBM] [Warning] bagging_fraction is set=0.869128774501845, subsample=0.7 will be ignored. Current value: bagging_fraction=0.869128774501845\n",
      "[LightGBM] [Warning] bagging_freq is set=20, subsample_freq=0 will be ignored. Current value: bagging_freq=20\n",
      "Training until validation scores don't improve for 100 rounds\n",
      "[100]\ttraining's l1: 0.906962\tvalid_1's l1: 1.57965\n",
      "[200]\ttraining's l1: 0.889169\tvalid_1's l1: 1.58063\n"
     ]
    },
    {
     "name": "stderr",
     "output_type": "stream",
     "text": [
      "\u001b[32m[I 2021-07-11 01:36:18,909]\u001b[0m Trial 59 finished with value: -1.57884598299617 and parameters: {'max_depth': 18, 'min_child_weight': 19, 'subsample': 0.7, 'colsample_bytree': 0.7, 'reg_lambda': 2.0793323191480857, 'reg_alpha': 215.92076201881662, 'feature_fraction': 0.3096313092790992, 'bagging_fraction': 0.869128774501845, 'bagging_freq': 20, 'num_leaves': 553, 'min_child_samples': 84}. Best is trial 34 with value: -1.5697978523607239.\u001b[0m\n"
     ]
    },
    {
     "name": "stdout",
     "output_type": "stream",
     "text": [
      "Early stopping, best iteration is:\n",
      "[107]\ttraining's l1: 0.905021\tvalid_1's l1: 1.57902\n",
      "[LightGBM] [Warning] feature_fraction is set=0.4919316661117832, colsample_bytree=0.6 will be ignored. Current value: feature_fraction=0.4919316661117832\n",
      "[LightGBM] [Warning] bagging_fraction is set=0.9563850999135658, subsample=0.6 will be ignored. Current value: bagging_fraction=0.9563850999135658\n",
      "[LightGBM] [Warning] bagging_freq is set=13, subsample_freq=0 will be ignored. Current value: bagging_freq=13\n",
      "Training until validation scores don't improve for 100 rounds\n",
      "[100]\ttraining's l1: 0.875356\tvalid_1's l1: 1.57342\n"
     ]
    },
    {
     "name": "stderr",
     "output_type": "stream",
     "text": [
      "\u001b[32m[I 2021-07-11 01:36:33,181]\u001b[0m Trial 60 finished with value: -1.572510360994553 and parameters: {'max_depth': 19, 'min_child_weight': 12, 'subsample': 0.6, 'colsample_bytree': 0.6, 'reg_lambda': 0.1564840947551859, 'reg_alpha': 139.72841375545937, 'feature_fraction': 0.4919316661117832, 'bagging_fraction': 0.9563850999135658, 'bagging_freq': 13, 'num_leaves': 383, 'min_child_samples': 100}. Best is trial 34 with value: -1.5697978523607239.\u001b[0m\n"
     ]
    },
    {
     "name": "stdout",
     "output_type": "stream",
     "text": [
      "Early stopping, best iteration is:\n",
      "[93]\ttraining's l1: 0.877113\tvalid_1's l1: 1.57298\n",
      "[LightGBM] [Warning] feature_fraction is set=0.4970079182316336, colsample_bytree=0.6 will be ignored. Current value: feature_fraction=0.4970079182316336\n",
      "[LightGBM] [Warning] bagging_fraction is set=0.9523097107808345, subsample=0.6 will be ignored. Current value: bagging_fraction=0.9523097107808345\n",
      "[LightGBM] [Warning] bagging_freq is set=15, subsample_freq=0 will be ignored. Current value: bagging_freq=15\n",
      "Training until validation scores don't improve for 100 rounds\n",
      "[100]\ttraining's l1: 0.932104\tvalid_1's l1: 1.5767\n",
      "[200]\ttraining's l1: 0.9203\tvalid_1's l1: 1.57909\n"
     ]
    },
    {
     "name": "stderr",
     "output_type": "stream",
     "text": [
      "\u001b[32m[I 2021-07-11 01:36:45,337]\u001b[0m Trial 61 finished with value: -1.5759661283656274 and parameters: {'max_depth': 19, 'min_child_weight': 19, 'subsample': 0.6, 'colsample_bytree': 0.6, 'reg_lambda': 0.15569188536959108, 'reg_alpha': 609.8295963069172, 'feature_fraction': 0.4970079182316336, 'bagging_fraction': 0.9523097107808345, 'bagging_freq': 15, 'num_leaves': 418, 'min_child_samples': 93}. Best is trial 34 with value: -1.5697978523607239.\u001b[0m\n"
     ]
    },
    {
     "name": "stdout",
     "output_type": "stream",
     "text": [
      "Early stopping, best iteration is:\n",
      "[106]\ttraining's l1: 0.931375\tvalid_1's l1: 1.57606\n",
      "[LightGBM] [Warning] feature_fraction is set=0.3868813205527078, colsample_bytree=0.6 will be ignored. Current value: feature_fraction=0.3868813205527078\n",
      "[LightGBM] [Warning] bagging_fraction is set=0.9116780210660012, subsample=0.6 will be ignored. Current value: bagging_fraction=0.9116780210660012\n",
      "[LightGBM] [Warning] bagging_freq is set=18, subsample_freq=0 will be ignored. Current value: bagging_freq=18\n",
      "Training until validation scores don't improve for 100 rounds\n",
      "[100]\ttraining's l1: 0.873318\tvalid_1's l1: 1.59656\n"
     ]
    },
    {
     "name": "stderr",
     "output_type": "stream",
     "text": [
      "\u001b[32m[I 2021-07-11 01:36:55,538]\u001b[0m Trial 62 finished with value: -1.5912756830206627 and parameters: {'max_depth': 20, 'min_child_weight': 17, 'subsample': 0.6, 'colsample_bytree': 0.6, 'reg_lambda': 0.31889266378436487, 'reg_alpha': 81.55816588014689, 'feature_fraction': 0.3868813205527078, 'bagging_fraction': 0.9116780210660012, 'bagging_freq': 18, 'num_leaves': 387, 'min_child_samples': 99}. Best is trial 34 with value: -1.5697978523607239.\u001b[0m\n"
     ]
    },
    {
     "name": "stdout",
     "output_type": "stream",
     "text": [
      "Early stopping, best iteration is:\n",
      "[48]\ttraining's l1: 0.916112\tvalid_1's l1: 1.59135\n",
      "[LightGBM] [Warning] feature_fraction is set=0.28169594781341356, colsample_bytree=0.6 will be ignored. Current value: feature_fraction=0.28169594781341356\n",
      "[LightGBM] [Warning] bagging_fraction is set=0.9785865998867158, subsample=0.6 will be ignored. Current value: bagging_fraction=0.9785865998867158\n",
      "[LightGBM] [Warning] bagging_freq is set=12, subsample_freq=0 will be ignored. Current value: bagging_freq=12\n",
      "Training until validation scores don't improve for 100 rounds\n",
      "[100]\ttraining's l1: 0.897807\tvalid_1's l1: 1.58987\n"
     ]
    },
    {
     "name": "stderr",
     "output_type": "stream",
     "text": [
      "\u001b[32m[I 2021-07-11 01:37:06,631]\u001b[0m Trial 63 finished with value: -1.5867352392821983 and parameters: {'max_depth': 19, 'min_child_weight': 12, 'subsample': 0.6, 'colsample_bytree': 0.6, 'reg_lambda': 0.6283245715715416, 'reg_alpha': 120.70009326869689, 'feature_fraction': 0.28169594781341356, 'bagging_fraction': 0.9785865998867158, 'bagging_freq': 12, 'num_leaves': 324, 'min_child_samples': 95}. Best is trial 34 with value: -1.5697978523607239.\u001b[0m\n"
     ]
    },
    {
     "name": "stdout",
     "output_type": "stream",
     "text": [
      "Early stopping, best iteration is:\n",
      "[90]\ttraining's l1: 0.903457\tvalid_1's l1: 1.58685\n",
      "[LightGBM] [Warning] feature_fraction is set=0.5936581870013792, colsample_bytree=0.6 will be ignored. Current value: feature_fraction=0.5936581870013792\n",
      "[LightGBM] [Warning] bagging_fraction is set=0.7872338846700657, subsample=0.6 will be ignored. Current value: bagging_fraction=0.7872338846700657\n",
      "[LightGBM] [Warning] bagging_freq is set=8, subsample_freq=0 will be ignored. Current value: bagging_freq=8\n",
      "Training until validation scores don't improve for 100 rounds\n",
      "[100]\ttraining's l1: 0.875054\tvalid_1's l1: 1.57482\n",
      "[200]\ttraining's l1: 0.85756\tvalid_1's l1: 1.57573\n"
     ]
    },
    {
     "name": "stderr",
     "output_type": "stream",
     "text": [
      "\u001b[32m[I 2021-07-11 01:37:24,148]\u001b[0m Trial 64 finished with value: -1.5691880180140023 and parameters: {'max_depth': 17, 'min_child_weight': 14, 'subsample': 0.6, 'colsample_bytree': 0.6, 'reg_lambda': 0.09520088130861833, 'reg_alpha': 136.71766940833797, 'feature_fraction': 0.5936581870013792, 'bagging_fraction': 0.7872338846700657, 'bagging_freq': 8, 'num_leaves': 440, 'min_child_samples': 95}. Best is trial 64 with value: -1.5691880180140023.\u001b[0m\n"
     ]
    },
    {
     "name": "stdout",
     "output_type": "stream",
     "text": [
      "Early stopping, best iteration is:\n",
      "[119]\ttraining's l1: 0.866193\tvalid_1's l1: 1.5695\n",
      "[LightGBM] [Warning] feature_fraction is set=0.5359468622258656, colsample_bytree=0.5 will be ignored. Current value: feature_fraction=0.5359468622258656\n",
      "[LightGBM] [Warning] bagging_fraction is set=0.7837096554025246, subsample=0.5 will be ignored. Current value: bagging_fraction=0.7837096554025246\n",
      "[LightGBM] [Warning] bagging_freq is set=17, subsample_freq=0 will be ignored. Current value: bagging_freq=17\n",
      "Training until validation scores don't improve for 100 rounds\n",
      "[100]\ttraining's l1: 0.846374\tvalid_1's l1: 1.59692\n"
     ]
    },
    {
     "name": "stderr",
     "output_type": "stream",
     "text": [
      "\u001b[32m[I 2021-07-11 01:37:35,933]\u001b[0m Trial 65 finished with value: -1.5888518032115375 and parameters: {'max_depth': 18, 'min_child_weight': 15, 'subsample': 0.5, 'colsample_bytree': 0.5, 'reg_lambda': 0.08516853307770686, 'reg_alpha': 51.21774613140533, 'feature_fraction': 0.5359468622258656, 'bagging_fraction': 0.7837096554025246, 'bagging_freq': 17, 'num_leaves': 483, 'min_child_samples': 93}. Best is trial 64 with value: -1.5691880180140023.\u001b[0m\n"
     ]
    },
    {
     "name": "stdout",
     "output_type": "stream",
     "text": [
      "Early stopping, best iteration is:\n",
      "[48]\ttraining's l1: 0.88965\tvalid_1's l1: 1.58893\n",
      "[LightGBM] [Warning] feature_fraction is set=0.5889569953592134, colsample_bytree=0.6 will be ignored. Current value: feature_fraction=0.5889569953592134\n",
      "[LightGBM] [Warning] bagging_fraction is set=0.8441034222850411, subsample=0.8 will be ignored. Current value: bagging_fraction=0.8441034222850411\n",
      "[LightGBM] [Warning] bagging_freq is set=19, subsample_freq=0 will be ignored. Current value: bagging_freq=19\n",
      "Training until validation scores don't improve for 100 rounds\n",
      "[100]\ttraining's l1: 1.03453\tvalid_1's l1: 1.61409\n",
      "[200]\ttraining's l1: 1.02025\tvalid_1's l1: 1.59862\n",
      "[300]\ttraining's l1: 1.01252\tvalid_1's l1: 1.59677\n",
      "[400]\ttraining's l1: 1.00803\tvalid_1's l1: 1.59465\n"
     ]
    },
    {
     "name": "stderr",
     "output_type": "stream",
     "text": [
      "\u001b[32m[I 2021-07-11 01:37:53,067]\u001b[0m Trial 66 finished with value: -1.594132714556102 and parameters: {'max_depth': 4, 'min_child_weight': 13, 'subsample': 0.8, 'colsample_bytree': 0.6, 'reg_lambda': 0.17262955271164718, 'reg_alpha': 173.79207948717593, 'feature_fraction': 0.5889569953592134, 'bagging_fraction': 0.8441034222850411, 'bagging_freq': 19, 'num_leaves': 416, 'min_child_samples': 97}. Best is trial 64 with value: -1.5691880180140023.\u001b[0m\n"
     ]
    },
    {
     "name": "stdout",
     "output_type": "stream",
     "text": [
      "Early stopping, best iteration is:\n",
      "[367]\ttraining's l1: 1.00901\tvalid_1's l1: 1.5942\n",
      "[LightGBM] [Warning] feature_fraction is set=0.47483800834404777, colsample_bytree=0.5 will be ignored. Current value: feature_fraction=0.47483800834404777\n",
      "[LightGBM] [Warning] bagging_fraction is set=0.7366097671232756, subsample=0.7 will be ignored. Current value: bagging_fraction=0.7366097671232756\n",
      "[LightGBM] [Warning] bagging_freq is set=10, subsample_freq=0 will be ignored. Current value: bagging_freq=10\n",
      "Training until validation scores don't improve for 100 rounds\n",
      "[100]\ttraining's l1: 0.857305\tvalid_1's l1: 1.57872\n"
     ]
    },
    {
     "name": "stderr",
     "output_type": "stream",
     "text": [
      "\u001b[32m[I 2021-07-11 01:38:04,540]\u001b[0m Trial 67 finished with value: -1.5754707959399246 and parameters: {'max_depth': 17, 'min_child_weight': 17, 'subsample': 0.7, 'colsample_bytree': 0.5, 'reg_lambda': 145.19280567074748, 'reg_alpha': 25.10663363177159, 'feature_fraction': 0.47483800834404777, 'bagging_fraction': 0.7366097671232756, 'bagging_freq': 10, 'num_leaves': 447, 'min_child_samples': 90}. Best is trial 64 with value: -1.5691880180140023.\u001b[0m\n"
     ]
    },
    {
     "name": "stdout",
     "output_type": "stream",
     "text": [
      "Early stopping, best iteration is:\n",
      "[67]\ttraining's l1: 0.874064\tvalid_1's l1: 1.57565\n",
      "[LightGBM] [Warning] feature_fraction is set=0.6367264825271883, colsample_bytree=0.7 will be ignored. Current value: feature_fraction=0.6367264825271883\n",
      "[LightGBM] [Warning] bagging_fraction is set=0.883876219861724, subsample=0.6 will be ignored. Current value: bagging_fraction=0.883876219861724\n",
      "[LightGBM] [Warning] bagging_freq is set=8, subsample_freq=0 will be ignored. Current value: bagging_freq=8\n",
      "Training until validation scores don't improve for 100 rounds\n",
      "[100]\ttraining's l1: 0.928884\tvalid_1's l1: 1.5836\n",
      "[200]\ttraining's l1: 0.914661\tvalid_1's l1: 1.57646\n",
      "[300]\ttraining's l1: 0.910117\tvalid_1's l1: 1.57617\n",
      "[400]\ttraining's l1: 0.904352\tvalid_1's l1: 1.57515\n",
      "[500]\ttraining's l1: 0.901164\tvalid_1's l1: 1.57474\n",
      "[600]\ttraining's l1: 0.899041\tvalid_1's l1: 1.57455\n",
      "Early stopping, best iteration is:\n",
      "[557]\ttraining's l1: 0.899553\tvalid_1's l1: 1.57428\n"
     ]
    },
    {
     "name": "stderr",
     "output_type": "stream",
     "text": [
      "\u001b[32m[I 2021-07-11 01:38:29,167]\u001b[0m Trial 68 finished with value: -1.5740506817562514 and parameters: {'max_depth': 19, 'min_child_weight': 12, 'subsample': 0.6, 'colsample_bytree': 0.7, 'reg_lambda': 0.9703244342104728, 'reg_alpha': 539.2288960317684, 'feature_fraction': 0.6367264825271883, 'bagging_fraction': 0.883876219861724, 'bagging_freq': 8, 'num_leaves': 509, 'min_child_samples': 99}. Best is trial 64 with value: -1.5691880180140023.\u001b[0m\n"
     ]
    },
    {
     "name": "stdout",
     "output_type": "stream",
     "text": [
      "[LightGBM] [Warning] feature_fraction is set=0.6854321927511733, colsample_bytree=0.6 will be ignored. Current value: feature_fraction=0.6854321927511733\n",
      "[LightGBM] [Warning] bagging_fraction is set=0.819499240036203, subsample=0.8 will be ignored. Current value: bagging_fraction=0.819499240036203\n",
      "[LightGBM] [Warning] bagging_freq is set=11, subsample_freq=0 will be ignored. Current value: bagging_freq=11\n",
      "Training until validation scores don't improve for 100 rounds\n",
      "[100]\ttraining's l1: 0.875246\tvalid_1's l1: 1.58147\n"
     ]
    },
    {
     "name": "stderr",
     "output_type": "stream",
     "text": [
      "\u001b[32m[I 2021-07-11 01:38:39,238]\u001b[0m Trial 69 finished with value: -1.5723917901992794 and parameters: {'max_depth': 20, 'min_child_weight': 10, 'subsample': 0.8, 'colsample_bytree': 0.6, 'reg_lambda': 0.4036390732405689, 'reg_alpha': 126.8068898978618, 'feature_fraction': 0.6854321927511733, 'bagging_fraction': 0.819499240036203, 'bagging_freq': 11, 'num_leaves': 379, 'min_child_samples': 88}. Best is trial 64 with value: -1.5691880180140023.\u001b[0m\n"
     ]
    },
    {
     "name": "stdout",
     "output_type": "stream",
     "text": [
      "Early stopping, best iteration is:\n",
      "[61]\ttraining's l1: 0.898005\tvalid_1's l1: 1.57261\n",
      "[LightGBM] [Warning] feature_fraction is set=0.7520070528423527, colsample_bytree=0.6 will be ignored. Current value: feature_fraction=0.7520070528423527\n",
      "[LightGBM] [Warning] bagging_fraction is set=0.8248079372694993, subsample=0.9 will be ignored. Current value: bagging_fraction=0.8248079372694993\n",
      "[LightGBM] [Warning] bagging_freq is set=14, subsample_freq=0 will be ignored. Current value: bagging_freq=14\n",
      "Training until validation scores don't improve for 100 rounds\n",
      "[100]\ttraining's l1: 0.868915\tvalid_1's l1: 1.57513\n"
     ]
    },
    {
     "name": "stderr",
     "output_type": "stream",
     "text": [
      "\u001b[32m[I 2021-07-11 01:38:49,743]\u001b[0m Trial 70 finished with value: -1.5692513006524498 and parameters: {'max_depth': 20, 'min_child_weight': 13, 'subsample': 0.9, 'colsample_bytree': 0.6, 'reg_lambda': 3.887310747441823, 'reg_alpha': 134.78313699384879, 'feature_fraction': 0.7520070528423527, 'bagging_fraction': 0.8248079372694993, 'bagging_freq': 14, 'num_leaves': 366, 'min_child_samples': 89}. Best is trial 64 with value: -1.5691880180140023.\u001b[0m\n"
     ]
    },
    {
     "name": "stdout",
     "output_type": "stream",
     "text": [
      "Early stopping, best iteration is:\n",
      "[67]\ttraining's l1: 0.887369\tvalid_1's l1: 1.5695\n",
      "[LightGBM] [Warning] feature_fraction is set=0.7418613442636868, colsample_bytree=0.6 will be ignored. Current value: feature_fraction=0.7418613442636868\n",
      "[LightGBM] [Warning] bagging_fraction is set=0.8227257209145411, subsample=0.9 will be ignored. Current value: bagging_fraction=0.8227257209145411\n",
      "[LightGBM] [Warning] bagging_freq is set=13, subsample_freq=0 will be ignored. Current value: bagging_freq=13\n",
      "Training until validation scores don't improve for 100 rounds\n",
      "[100]\ttraining's l1: 0.871667\tvalid_1's l1: 1.58418\n"
     ]
    },
    {
     "name": "stderr",
     "output_type": "stream",
     "text": [
      "\u001b[32m[I 2021-07-11 01:38:59,908]\u001b[0m Trial 71 finished with value: -1.580096423126756 and parameters: {'max_depth': 20, 'min_child_weight': 13, 'subsample': 0.9, 'colsample_bytree': 0.6, 'reg_lambda': 4.80691177761162, 'reg_alpha': 141.71494894831582, 'feature_fraction': 0.7418613442636868, 'bagging_fraction': 0.8227257209145411, 'bagging_freq': 13, 'num_leaves': 374, 'min_child_samples': 90}. Best is trial 64 with value: -1.5691880180140023.\u001b[0m\n"
     ]
    },
    {
     "name": "stdout",
     "output_type": "stream",
     "text": [
      "Early stopping, best iteration is:\n",
      "[58]\ttraining's l1: 0.898961\tvalid_1's l1: 1.5803\n",
      "[LightGBM] [Warning] feature_fraction is set=0.6795751703333026, colsample_bytree=0.6 will be ignored. Current value: feature_fraction=0.6795751703333026\n",
      "[LightGBM] [Warning] bagging_fraction is set=0.8622564092284962, subsample=0.9 will be ignored. Current value: bagging_fraction=0.8622564092284962\n",
      "[LightGBM] [Warning] bagging_freq is set=14, subsample_freq=0 will be ignored. Current value: bagging_freq=14\n",
      "Training until validation scores don't improve for 100 rounds\n",
      "[100]\ttraining's l1: 0.850498\tvalid_1's l1: 1.57567\n"
     ]
    },
    {
     "name": "stderr",
     "output_type": "stream",
     "text": [
      "\u001b[32m[I 2021-07-11 01:39:09,970]\u001b[0m Trial 72 finished with value: -1.5703406375969444 and parameters: {'max_depth': 20, 'min_child_weight': 11, 'subsample': 0.9, 'colsample_bytree': 0.6, 'reg_lambda': 2.924121641932704, 'reg_alpha': 93.37170214847761, 'feature_fraction': 0.6795751703333026, 'bagging_fraction': 0.8622564092284962, 'bagging_freq': 14, 'num_leaves': 465, 'min_child_samples': 86}. Best is trial 64 with value: -1.5691880180140023.\u001b[0m\n"
     ]
    },
    {
     "name": "stdout",
     "output_type": "stream",
     "text": [
      "Early stopping, best iteration is:\n",
      "[48]\ttraining's l1: 0.889261\tvalid_1's l1: 1.57047\n",
      "[LightGBM] [Warning] feature_fraction is set=0.689641503733314, colsample_bytree=0.6 will be ignored. Current value: feature_fraction=0.689641503733314\n",
      "[LightGBM] [Warning] bagging_fraction is set=0.7589083066996181, subsample=0.9 will be ignored. Current value: bagging_fraction=0.7589083066996181\n",
      "[LightGBM] [Warning] bagging_freq is set=14, subsample_freq=0 will be ignored. Current value: bagging_freq=14\n",
      "Training until validation scores don't improve for 100 rounds\n",
      "[100]\ttraining's l1: 0.900135\tvalid_1's l1: 1.57682\n"
     ]
    },
    {
     "name": "stderr",
     "output_type": "stream",
     "text": [
      "\u001b[32m[I 2021-07-11 01:39:20,462]\u001b[0m Trial 73 finished with value: -1.574938540149627 and parameters: {'max_depth': 20, 'min_child_weight': 10, 'subsample': 0.9, 'colsample_bytree': 0.6, 'reg_lambda': 11.743309643502753, 'reg_alpha': 255.46826352837138, 'feature_fraction': 0.689641503733314, 'bagging_fraction': 0.7589083066996181, 'bagging_freq': 14, 'num_leaves': 429, 'min_child_samples': 88}. Best is trial 64 with value: -1.5691880180140023.\u001b[0m\n"
     ]
    },
    {
     "name": "stdout",
     "output_type": "stream",
     "text": [
      "[200]\ttraining's l1: 0.882686\tvalid_1's l1: 1.57899\n",
      "Early stopping, best iteration is:\n",
      "[102]\ttraining's l1: 0.897919\tvalid_1's l1: 1.57526\n",
      "[LightGBM] [Warning] feature_fraction is set=0.747384251075419, colsample_bytree=0.6 will be ignored. Current value: feature_fraction=0.747384251075419\n",
      "[LightGBM] [Warning] bagging_fraction is set=0.8592248674948788, subsample=0.9 will be ignored. Current value: bagging_fraction=0.8592248674948788\n",
      "[LightGBM] [Warning] bagging_freq is set=14, subsample_freq=0 will be ignored. Current value: bagging_freq=14\n",
      "Training until validation scores don't improve for 100 rounds\n",
      "[100]\ttraining's l1: 0.855678\tvalid_1's l1: 1.58373\n"
     ]
    },
    {
     "name": "stderr",
     "output_type": "stream",
     "text": [
      "\u001b[32m[I 2021-07-11 01:39:31,489]\u001b[0m Trial 74 finished with value: -1.579648666200716 and parameters: {'max_depth': 18, 'min_child_weight': 11, 'subsample': 0.9, 'colsample_bytree': 0.6, 'reg_lambda': 4.536649454185068, 'reg_alpha': 100.42751100087422, 'feature_fraction': 0.747384251075419, 'bagging_fraction': 0.8592248674948788, 'bagging_freq': 14, 'num_leaves': 474, 'min_child_samples': 87}. Best is trial 64 with value: -1.5691880180140023.\u001b[0m\n"
     ]
    },
    {
     "name": "stdout",
     "output_type": "stream",
     "text": [
      "Early stopping, best iteration is:\n",
      "[57]\ttraining's l1: 0.884574\tvalid_1's l1: 1.57981\n",
      "[LightGBM] [Warning] feature_fraction is set=0.6122774843637507, colsample_bytree=0.6 will be ignored. Current value: feature_fraction=0.6122774843637507\n",
      "[LightGBM] [Warning] bagging_fraction is set=0.7059953005410707, subsample=0.9 will be ignored. Current value: bagging_fraction=0.7059953005410707\n",
      "[LightGBM] [Warning] bagging_freq is set=13, subsample_freq=0 will be ignored. Current value: bagging_freq=13\n",
      "Training until validation scores don't improve for 100 rounds\n",
      "[100]\ttraining's l1: 0.85821\tvalid_1's l1: 1.57946\n"
     ]
    },
    {
     "name": "stderr",
     "output_type": "stream",
     "text": [
      "\u001b[32m[I 2021-07-11 01:39:43,997]\u001b[0m Trial 75 finished with value: -1.5778606318292336 and parameters: {'max_depth': 17, 'min_child_weight': 14, 'subsample': 0.9, 'colsample_bytree': 0.6, 'reg_lambda': 3.1885320906389047, 'reg_alpha': 53.440617170728146, 'feature_fraction': 0.6122774843637507, 'bagging_fraction': 0.7059953005410707, 'bagging_freq': 13, 'num_leaves': 378, 'min_child_samples': 80}. Best is trial 64 with value: -1.5691880180140023.\u001b[0m\n"
     ]
    },
    {
     "name": "stdout",
     "output_type": "stream",
     "text": [
      "Early stopping, best iteration is:\n",
      "[64]\ttraining's l1: 0.881902\tvalid_1's l1: 1.5781\n",
      "[LightGBM] [Warning] feature_fraction is set=0.5730846034723859, colsample_bytree=0.6 will be ignored. Current value: feature_fraction=0.5730846034723859\n",
      "[LightGBM] [Warning] bagging_fraction is set=0.8237631002696602, subsample=0.9 will be ignored. Current value: bagging_fraction=0.8237631002696602\n",
      "[LightGBM] [Warning] bagging_freq is set=11, subsample_freq=0 will be ignored. Current value: bagging_freq=11\n",
      "Training until validation scores don't improve for 100 rounds\n",
      "[100]\ttraining's l1: 0.831279\tvalid_1's l1: 1.5904\n"
     ]
    },
    {
     "name": "stderr",
     "output_type": "stream",
     "text": [
      "\u001b[32m[I 2021-07-11 01:39:58,707]\u001b[0m Trial 76 finished with value: -1.5821185296128615 and parameters: {'max_depth': 20, 'min_child_weight': 13, 'subsample': 0.9, 'colsample_bytree': 0.6, 'reg_lambda': 9.261972350430206, 'reg_alpha': 38.25488166432123, 'feature_fraction': 0.5730846034723859, 'bagging_fraction': 0.8237631002696602, 'bagging_freq': 11, 'num_leaves': 528, 'min_child_samples': 94}. Best is trial 64 with value: -1.5691880180140023.\u001b[0m\n"
     ]
    },
    {
     "name": "stdout",
     "output_type": "stream",
     "text": [
      "Early stopping, best iteration is:\n",
      "[62]\ttraining's l1: 0.856475\tvalid_1's l1: 1.58242\n",
      "[LightGBM] [Warning] feature_fraction is set=0.69696534396488, colsample_bytree=0.6 will be ignored. Current value: feature_fraction=0.69696534396488\n",
      "[LightGBM] [Warning] bagging_fraction is set=0.6594464996319612, subsample=0.8 will be ignored. Current value: bagging_fraction=0.6594464996319612\n",
      "[LightGBM] [Warning] bagging_freq is set=15, subsample_freq=0 will be ignored. Current value: bagging_freq=15\n",
      "Training until validation scores don't improve for 100 rounds\n",
      "[100]\ttraining's l1: 0.890742\tvalid_1's l1: 1.58217\n"
     ]
    },
    {
     "name": "stderr",
     "output_type": "stream",
     "text": [
      "\u001b[32m[I 2021-07-11 01:40:07,173]\u001b[0m Trial 77 finished with value: -1.5776162130474187 and parameters: {'max_depth': 19, 'min_child_weight': 12, 'subsample': 0.8, 'colsample_bytree': 0.6, 'reg_lambda': 1.454061620650132, 'reg_alpha': 171.50795312912314, 'feature_fraction': 0.69696534396488, 'bagging_fraction': 0.6594464996319612, 'bagging_freq': 15, 'num_leaves': 339, 'min_child_samples': 6}. Best is trial 64 with value: -1.5691880180140023.\u001b[0m\n"
     ]
    },
    {
     "name": "stdout",
     "output_type": "stream",
     "text": [
      "Early stopping, best iteration is:\n",
      "[57]\ttraining's l1: 0.912711\tvalid_1's l1: 1.57773\n",
      "[LightGBM] [Warning] feature_fraction is set=0.8099181606603896, colsample_bytree=0.5 will be ignored. Current value: feature_fraction=0.8099181606603896\n",
      "[LightGBM] [Warning] bagging_fraction is set=0.2387931266235176, subsample=0.9 will be ignored. Current value: bagging_fraction=0.2387931266235176\n",
      "[LightGBM] [Warning] bagging_freq is set=16, subsample_freq=0 will be ignored. Current value: bagging_freq=16\n",
      "Training until validation scores don't improve for 100 rounds\n",
      "[100]\ttraining's l1: 0.869691\tvalid_1's l1: 1.57584\n"
     ]
    },
    {
     "name": "stderr",
     "output_type": "stream",
     "text": [
      "\u001b[32m[I 2021-07-11 01:40:14,315]\u001b[0m Trial 78 finished with value: -1.5729150774293335 and parameters: {'max_depth': 18, 'min_child_weight': 15, 'subsample': 0.9, 'colsample_bytree': 0.5, 'reg_lambda': 15.552254309291657, 'reg_alpha': 20.332014229588452, 'feature_fraction': 0.8099181606603896, 'bagging_fraction': 0.2387931266235176, 'bagging_freq': 16, 'num_leaves': 469, 'min_child_samples': 100}. Best is trial 64 with value: -1.5691880180140023.\u001b[0m\n"
     ]
    },
    {
     "name": "stdout",
     "output_type": "stream",
     "text": [
      "Early stopping, best iteration is:\n",
      "[79]\ttraining's l1: 0.875505\tvalid_1's l1: 1.57335\n",
      "[LightGBM] [Warning] feature_fraction is set=0.8525925097804172, colsample_bytree=0.5 will be ignored. Current value: feature_fraction=0.8525925097804172\n",
      "[LightGBM] [Warning] bagging_fraction is set=0.317079457916122, subsample=0.9 will be ignored. Current value: bagging_fraction=0.317079457916122\n",
      "[LightGBM] [Warning] bagging_freq is set=13, subsample_freq=0 will be ignored. Current value: bagging_freq=13\n",
      "Training until validation scores don't improve for 100 rounds\n",
      "[100]\ttraining's l1: 0.84412\tvalid_1's l1: 1.58757\n"
     ]
    },
    {
     "name": "stderr",
     "output_type": "stream",
     "text": [
      "\u001b[32m[I 2021-07-11 01:40:21,820]\u001b[0m Trial 79 finished with value: -1.58217911597811 and parameters: {'max_depth': 18, 'min_child_weight': 16, 'subsample': 0.9, 'colsample_bytree': 0.5, 'reg_lambda': 16.75718244794384, 'reg_alpha': 16.112719208626295, 'feature_fraction': 0.8525925097804172, 'bagging_fraction': 0.317079457916122, 'bagging_freq': 13, 'num_leaves': 637, 'min_child_samples': 100}. Best is trial 64 with value: -1.5691880180140023.\u001b[0m\n"
     ]
    },
    {
     "name": "stdout",
     "output_type": "stream",
     "text": [
      "Early stopping, best iteration is:\n",
      "[50]\ttraining's l1: 0.874629\tvalid_1's l1: 1.5823\n",
      "[LightGBM] [Warning] feature_fraction is set=0.9082191125288219, colsample_bytree=0.5 will be ignored. Current value: feature_fraction=0.9082191125288219\n",
      "[LightGBM] [Warning] bagging_fraction is set=0.809087215156123, subsample=0.9 will be ignored. Current value: bagging_fraction=0.809087215156123\n",
      "[LightGBM] [Warning] bagging_freq is set=12, subsample_freq=0 will be ignored. Current value: bagging_freq=12\n",
      "Training until validation scores don't improve for 100 rounds\n",
      "[100]\ttraining's l1: 0.824603\tvalid_1's l1: 1.59267\n"
     ]
    },
    {
     "name": "stderr",
     "output_type": "stream",
     "text": [
      "\u001b[32m[I 2021-07-11 01:40:36,253]\u001b[0m Trial 80 finished with value: -1.5773800361552883 and parameters: {'max_depth': 19, 'min_child_weight': 15, 'subsample': 0.9, 'colsample_bytree': 0.5, 'reg_lambda': 128.57451593806226, 'reg_alpha': 26.334486510027396, 'feature_fraction': 0.9082191125288219, 'bagging_fraction': 0.809087215156123, 'bagging_freq': 12, 'num_leaves': 578, 'min_child_samples': 96}. Best is trial 64 with value: -1.5691880180140023.\u001b[0m\n"
     ]
    },
    {
     "name": "stdout",
     "output_type": "stream",
     "text": [
      "Early stopping, best iteration is:\n",
      "[48]\ttraining's l1: 0.861816\tvalid_1's l1: 1.57751\n",
      "[LightGBM] [Warning] feature_fraction is set=0.8006127413089611, colsample_bytree=0.6 will be ignored. Current value: feature_fraction=0.8006127413089611\n",
      "[LightGBM] [Warning] bagging_fraction is set=0.8483453697813876, subsample=0.9 will be ignored. Current value: bagging_fraction=0.8483453697813876\n",
      "[LightGBM] [Warning] bagging_freq is set=16, subsample_freq=0 will be ignored. Current value: bagging_freq=16\n",
      "Training until validation scores don't improve for 100 rounds\n",
      "[100]\ttraining's l1: 0.857418\tvalid_1's l1: 1.59095\n"
     ]
    },
    {
     "name": "stderr",
     "output_type": "stream",
     "text": [
      "\u001b[32m[I 2021-07-11 01:40:46,357]\u001b[0m Trial 81 finished with value: -1.5793745012198164 and parameters: {'max_depth': 18, 'min_child_weight': 11, 'subsample': 0.9, 'colsample_bytree': 0.6, 'reg_lambda': 27.112892354615532, 'reg_alpha': 110.7714422061983, 'feature_fraction': 0.8006127413089611, 'bagging_fraction': 0.8483453697813876, 'bagging_freq': 16, 'num_leaves': 464, 'min_child_samples': 91}. Best is trial 64 with value: -1.5691880180140023.\u001b[0m\n"
     ]
    },
    {
     "name": "stdout",
     "output_type": "stream",
     "text": [
      "Early stopping, best iteration is:\n",
      "[46]\ttraining's l1: 0.898146\tvalid_1's l1: 1.57947\n",
      "[LightGBM] [Warning] feature_fraction is set=0.7767817532246725, colsample_bytree=0.5 will be ignored. Current value: feature_fraction=0.7767817532246725\n",
      "[LightGBM] [Warning] bagging_fraction is set=0.5084139865344743, subsample=0.8 will be ignored. Current value: bagging_fraction=0.5084139865344743\n",
      "[LightGBM] [Warning] bagging_freq is set=15, subsample_freq=0 will be ignored. Current value: bagging_freq=15\n",
      "Training until validation scores don't improve for 100 rounds\n",
      "[100]\ttraining's l1: 0.927621\tvalid_1's l1: 1.58051\n",
      "[200]\ttraining's l1: 0.913668\tvalid_1's l1: 1.57989\n"
     ]
    },
    {
     "name": "stderr",
     "output_type": "stream",
     "text": [
      "\u001b[32m[I 2021-07-11 01:40:56,286]\u001b[0m Trial 82 finished with value: -1.578964050371315 and parameters: {'max_depth': 20, 'min_child_weight': 12, 'subsample': 0.8, 'colsample_bytree': 0.5, 'reg_lambda': 2.8512401287458404, 'reg_alpha': 312.18532823177895, 'feature_fraction': 0.7767817532246725, 'bagging_fraction': 0.5084139865344743, 'bagging_freq': 15, 'num_leaves': 433, 'min_child_samples': 86}. Best is trial 64 with value: -1.5691880180140023.\u001b[0m\n"
     ]
    },
    {
     "name": "stdout",
     "output_type": "stream",
     "text": [
      "Early stopping, best iteration is:\n",
      "[173]\ttraining's l1: 0.917831\tvalid_1's l1: 1.57919\n",
      "[LightGBM] [Warning] feature_fraction is set=0.7299005184080588, colsample_bytree=0.6 will be ignored. Current value: feature_fraction=0.7299005184080588\n",
      "[LightGBM] [Warning] bagging_fraction is set=0.2090009473432607, subsample=0.8 will be ignored. Current value: bagging_fraction=0.2090009473432607\n",
      "[LightGBM] [Warning] bagging_freq is set=16, subsample_freq=0 will be ignored. Current value: bagging_freq=16\n",
      "Training until validation scores don't improve for 100 rounds\n",
      "[100]\ttraining's l1: 0.864453\tvalid_1's l1: 1.58811\n"
     ]
    },
    {
     "name": "stderr",
     "output_type": "stream",
     "text": [
      "\u001b[32m[I 2021-07-11 01:41:02,693]\u001b[0m Trial 83 finished with value: -1.5817635858331296 and parameters: {'max_depth': 17, 'min_child_weight': 15, 'subsample': 0.8, 'colsample_bytree': 0.6, 'reg_lambda': 0.46354552407712585, 'reg_alpha': 8.608540005186592, 'feature_fraction': 0.7299005184080588, 'bagging_fraction': 0.2090009473432607, 'bagging_freq': 16, 'num_leaves': 403, 'min_child_samples': 80}. Best is trial 64 with value: -1.5691880180140023.\u001b[0m\n"
     ]
    },
    {
     "name": "stdout",
     "output_type": "stream",
     "text": [
      "Early stopping, best iteration is:\n",
      "[66]\ttraining's l1: 0.876962\tvalid_1's l1: 1.58205\n",
      "[LightGBM] [Warning] feature_fraction is set=0.7715877537425417, colsample_bytree=0.6 will be ignored. Current value: feature_fraction=0.7715877537425417\n",
      "[LightGBM] [Warning] bagging_fraction is set=0.3603779071109615, subsample=0.9 will be ignored. Current value: bagging_fraction=0.3603779071109615\n",
      "[LightGBM] [Warning] bagging_freq is set=14, subsample_freq=0 will be ignored. Current value: bagging_freq=14\n",
      "Training until validation scores don't improve for 100 rounds\n",
      "[100]\ttraining's l1: 0.928533\tvalid_1's l1: 1.57904\n"
     ]
    },
    {
     "name": "stderr",
     "output_type": "stream",
     "text": [
      "\u001b[32m[I 2021-07-11 01:41:09,322]\u001b[0m Trial 84 finished with value: -1.5769474881343621 and parameters: {'max_depth': 19, 'min_child_weight': 9, 'subsample': 0.9, 'colsample_bytree': 0.6, 'reg_lambda': 1.5697123066187226, 'reg_alpha': 217.85083142598404, 'feature_fraction': 0.7715877537425417, 'bagging_fraction': 0.3603779071109615, 'bagging_freq': 14, 'num_leaves': 499, 'min_child_samples': 98}. Best is trial 64 with value: -1.5691880180140023.\u001b[0m\n"
     ]
    },
    {
     "name": "stdout",
     "output_type": "stream",
     "text": [
      "Early stopping, best iteration is:\n",
      "[97]\ttraining's l1: 0.931356\tvalid_1's l1: 1.57704\n",
      "[LightGBM] [Warning] feature_fraction is set=0.6683763641965863, colsample_bytree=0.6 will be ignored. Current value: feature_fraction=0.6683763641965863\n",
      "[LightGBM] [Warning] bagging_fraction is set=0.2390894620231791, subsample=0.8 will be ignored. Current value: bagging_fraction=0.2390894620231791\n",
      "[LightGBM] [Warning] bagging_freq is set=11, subsample_freq=0 will be ignored. Current value: bagging_freq=11\n",
      "Training until validation scores don't improve for 100 rounds\n",
      "[100]\ttraining's l1: 0.909155\tvalid_1's l1: 1.57061\n",
      "[200]\ttraining's l1: 0.892804\tvalid_1's l1: 1.56775\n"
     ]
    },
    {
     "name": "stderr",
     "output_type": "stream",
     "text": [
      "\u001b[32m[I 2021-07-11 01:41:17,036]\u001b[0m Trial 85 finished with value: -1.5672593300605724 and parameters: {'max_depth': 18, 'min_child_weight': 14, 'subsample': 0.8, 'colsample_bytree': 0.6, 'reg_lambda': 0.7559877955896531, 'reg_alpha': 88.52406746653293, 'feature_fraction': 0.6683763641965863, 'bagging_fraction': 0.2390894620231791, 'bagging_freq': 11, 'num_leaves': 299, 'min_child_samples': 12}. Best is trial 85 with value: -1.5672593300605724.\u001b[0m\n"
     ]
    },
    {
     "name": "stdout",
     "output_type": "stream",
     "text": [
      "Early stopping, best iteration is:\n",
      "[137]\ttraining's l1: 0.901421\tvalid_1's l1: 1.56751\n",
      "[LightGBM] [Warning] feature_fraction is set=0.6556795051168318, colsample_bytree=0.6 will be ignored. Current value: feature_fraction=0.6556795051168318\n",
      "[LightGBM] [Warning] bagging_fraction is set=0.23191426173901056, subsample=0.9 will be ignored. Current value: bagging_fraction=0.23191426173901056\n",
      "[LightGBM] [Warning] bagging_freq is set=12, subsample_freq=0 will be ignored. Current value: bagging_freq=12\n",
      "Training until validation scores don't improve for 100 rounds\n",
      "[100]\ttraining's l1: 0.917541\tvalid_1's l1: 1.57311\n",
      "[200]\ttraining's l1: 0.901833\tvalid_1's l1: 1.57274\n",
      "Early stopping, best iteration is:\n",
      "[107]\ttraining's l1: 0.912901\tvalid_1's l1: 1.57112\n"
     ]
    },
    {
     "name": "stderr",
     "output_type": "stream",
     "text": [
      "\u001b[32m[I 2021-07-11 01:41:23,198]\u001b[0m Trial 86 finished with value: -1.5709792518738266 and parameters: {'max_depth': 16, 'min_child_weight': 17, 'subsample': 0.9, 'colsample_bytree': 0.6, 'reg_lambda': 0.7032264969638834, 'reg_alpha': 84.80668697794911, 'feature_fraction': 0.6556795051168318, 'bagging_fraction': 0.23191426173901056, 'bagging_freq': 12, 'num_leaves': 544, 'min_child_samples': 92}. Best is trial 85 with value: -1.5672593300605724.\u001b[0m\n"
     ]
    },
    {
     "name": "stdout",
     "output_type": "stream",
     "text": [
      "[LightGBM] [Warning] feature_fraction is set=0.653862546945534, colsample_bytree=0.6 will be ignored. Current value: feature_fraction=0.653862546945534\n",
      "[LightGBM] [Warning] bagging_fraction is set=0.2539878828275932, subsample=0.8 will be ignored. Current value: bagging_fraction=0.2539878828275932\n",
      "[LightGBM] [Warning] bagging_freq is set=12, subsample_freq=0 will be ignored. Current value: bagging_freq=12\n",
      "Training until validation scores don't improve for 100 rounds\n",
      "[100]\ttraining's l1: 0.912693\tvalid_1's l1: 1.5681\n"
     ]
    },
    {
     "name": "stderr",
     "output_type": "stream",
     "text": [
      "\u001b[32m[I 2021-07-11 01:41:29,132]\u001b[0m Trial 87 finished with value: -1.5669597137505078 and parameters: {'max_depth': 16, 'min_child_weight': 19, 'subsample': 0.8, 'colsample_bytree': 0.6, 'reg_lambda': 0.9189086491671924, 'reg_alpha': 85.91747956919798, 'feature_fraction': 0.653862546945534, 'bagging_fraction': 0.2539878828275932, 'bagging_freq': 12, 'num_leaves': 300, 'min_child_samples': 92}. Best is trial 87 with value: -1.5669597137505078.\u001b[0m\n"
     ]
    },
    {
     "name": "stdout",
     "output_type": "stream",
     "text": [
      "Early stopping, best iteration is:\n",
      "[84]\ttraining's l1: 0.918962\tvalid_1's l1: 1.56727\n",
      "[LightGBM] [Warning] feature_fraction is set=0.659354741658496, colsample_bytree=0.6 will be ignored. Current value: feature_fraction=0.659354741658496\n",
      "[LightGBM] [Warning] bagging_fraction is set=0.2860167311058741, subsample=0.8 will be ignored. Current value: bagging_fraction=0.2860167311058741\n",
      "[LightGBM] [Warning] bagging_freq is set=11, subsample_freq=0 will be ignored. Current value: bagging_freq=11\n",
      "Training until validation scores don't improve for 100 rounds\n",
      "[100]\ttraining's l1: 0.910163\tvalid_1's l1: 1.57871\n",
      "[200]\ttraining's l1: 0.891876\tvalid_1's l1: 1.57557\n"
     ]
    },
    {
     "name": "stderr",
     "output_type": "stream",
     "text": [
      "\u001b[32m[I 2021-07-11 01:41:38,359]\u001b[0m Trial 88 finished with value: -1.5744132915848723 and parameters: {'max_depth': 16, 'min_child_weight': 18, 'subsample': 0.8, 'colsample_bytree': 0.6, 'reg_lambda': 0.6329155261194214, 'reg_alpha': 85.32065810730504, 'feature_fraction': 0.659354741658496, 'bagging_fraction': 0.2860167311058741, 'bagging_freq': 11, 'num_leaves': 288, 'min_child_samples': 82}. Best is trial 87 with value: -1.5669597137505078.\u001b[0m\n"
     ]
    },
    {
     "name": "stdout",
     "output_type": "stream",
     "text": [
      "Early stopping, best iteration is:\n",
      "[188]\ttraining's l1: 0.893108\tvalid_1's l1: 1.57475\n",
      "[LightGBM] [Warning] feature_fraction is set=0.6739052038851441, colsample_bytree=0.6 will be ignored. Current value: feature_fraction=0.6739052038851441\n",
      "[LightGBM] [Warning] bagging_fraction is set=0.24882197368904668, subsample=0.8 will be ignored. Current value: bagging_fraction=0.24882197368904668\n",
      "[LightGBM] [Warning] bagging_freq is set=12, subsample_freq=0 will be ignored. Current value: bagging_freq=12\n",
      "Training until validation scores don't improve for 100 rounds\n",
      "[100]\ttraining's l1: 0.902654\tvalid_1's l1: 1.58208\n"
     ]
    },
    {
     "name": "stderr",
     "output_type": "stream",
     "text": [
      "\u001b[32m[I 2021-07-11 01:41:44,381]\u001b[0m Trial 89 finished with value: -1.578582473799774 and parameters: {'max_depth': 15, 'min_child_weight': 20, 'subsample': 0.8, 'colsample_bytree': 0.6, 'reg_lambda': 0.7933904740658148, 'reg_alpha': 47.276963553276495, 'feature_fraction': 0.6739052038851441, 'bagging_fraction': 0.24882197368904668, 'bagging_freq': 12, 'num_leaves': 253, 'min_child_samples': 91}. Best is trial 87 with value: -1.5669597137505078.\u001b[0m\n"
     ]
    },
    {
     "name": "stdout",
     "output_type": "stream",
     "text": [
      "Early stopping, best iteration is:\n",
      "[87]\ttraining's l1: 0.906203\tvalid_1's l1: 1.57881\n",
      "[LightGBM] [Warning] feature_fraction is set=0.6424382825091248, colsample_bytree=0.6 will be ignored. Current value: feature_fraction=0.6424382825091248\n",
      "[LightGBM] [Warning] bagging_fraction is set=0.24518084807280763, subsample=0.8 will be ignored. Current value: bagging_fraction=0.24518084807280763\n",
      "[LightGBM] [Warning] bagging_freq is set=10, subsample_freq=0 will be ignored. Current value: bagging_freq=10\n",
      "Training until validation scores don't improve for 100 rounds\n",
      "[100]\ttraining's l1: 0.90818\tvalid_1's l1: 1.57055\n"
     ]
    },
    {
     "name": "stderr",
     "output_type": "stream",
     "text": [
      "\u001b[32m[I 2021-07-11 01:41:50,163]\u001b[0m Trial 90 finished with value: -1.5675722307437139 and parameters: {'max_depth': 16, 'min_child_weight': 17, 'subsample': 0.8, 'colsample_bytree': 0.6, 'reg_lambda': 0.41073254445751695, 'reg_alpha': 67.90965365504752, 'feature_fraction': 0.6424382825091248, 'bagging_fraction': 0.24518084807280763, 'bagging_freq': 10, 'num_leaves': 540, 'min_child_samples': 88}. Best is trial 87 with value: -1.5669597137505078.\u001b[0m\n"
     ]
    },
    {
     "name": "stdout",
     "output_type": "stream",
     "text": [
      "Early stopping, best iteration is:\n",
      "[70]\ttraining's l1: 0.918503\tvalid_1's l1: 1.56765\n",
      "[LightGBM] [Warning] feature_fraction is set=0.6971420078657942, colsample_bytree=0.6 will be ignored. Current value: feature_fraction=0.6971420078657942\n",
      "[LightGBM] [Warning] bagging_fraction is set=0.25621339349456845, subsample=0.8 will be ignored. Current value: bagging_fraction=0.25621339349456845\n",
      "[LightGBM] [Warning] bagging_freq is set=10, subsample_freq=0 will be ignored. Current value: bagging_freq=10\n",
      "Training until validation scores don't improve for 100 rounds\n",
      "[100]\ttraining's l1: 0.902593\tvalid_1's l1: 1.57827\n"
     ]
    },
    {
     "name": "stderr",
     "output_type": "stream",
     "text": [
      "\u001b[32m[I 2021-07-11 01:41:56,146]\u001b[0m Trial 91 finished with value: -1.5739957263223527 and parameters: {'max_depth': 16, 'min_child_weight': 17, 'subsample': 0.8, 'colsample_bytree': 0.6, 'reg_lambda': 0.38427201690964846, 'reg_alpha': 63.84297758118532, 'feature_fraction': 0.6971420078657942, 'bagging_fraction': 0.25621339349456845, 'bagging_freq': 10, 'num_leaves': 532, 'min_child_samples': 86}. Best is trial 87 with value: -1.5669597137505078.\u001b[0m\n"
     ]
    },
    {
     "name": "stdout",
     "output_type": "stream",
     "text": [
      "Early stopping, best iteration is:\n",
      "[68]\ttraining's l1: 0.913491\tvalid_1's l1: 1.57419\n",
      "[LightGBM] [Warning] feature_fraction is set=0.6441977855767033, colsample_bytree=0.6 will be ignored. Current value: feature_fraction=0.6441977855767033\n",
      "[LightGBM] [Warning] bagging_fraction is set=0.228457570562882, subsample=0.8 will be ignored. Current value: bagging_fraction=0.228457570562882\n",
      "[LightGBM] [Warning] bagging_freq is set=11, subsample_freq=0 will be ignored. Current value: bagging_freq=11\n",
      "Training until validation scores don't improve for 100 rounds\n",
      "[100]\ttraining's l1: 0.883583\tvalid_1's l1: 1.57864\n"
     ]
    },
    {
     "name": "stderr",
     "output_type": "stream",
     "text": [
      "\u001b[32m[I 2021-07-11 01:42:02,651]\u001b[0m Trial 92 finished with value: -1.5728950731992772 and parameters: {'max_depth': 17, 'min_child_weight': 19, 'subsample': 0.8, 'colsample_bytree': 0.6, 'reg_lambda': 1.2844157546746329, 'reg_alpha': 33.35130616689273, 'feature_fraction': 0.6441977855767033, 'bagging_fraction': 0.228457570562882, 'bagging_freq': 11, 'num_leaves': 638, 'min_child_samples': 88}. Best is trial 87 with value: -1.5669597137505078.\u001b[0m\n"
     ]
    },
    {
     "name": "stdout",
     "output_type": "stream",
     "text": [
      "Early stopping, best iteration is:\n",
      "[78]\ttraining's l1: 0.894151\tvalid_1's l1: 1.57303\n",
      "[LightGBM] [Warning] feature_fraction is set=0.6229010343008018, colsample_bytree=0.6 will be ignored. Current value: feature_fraction=0.6229010343008018\n",
      "[LightGBM] [Warning] bagging_fraction is set=0.3513442831505784, subsample=0.8 will be ignored. Current value: bagging_fraction=0.3513442831505784\n",
      "[LightGBM] [Warning] bagging_freq is set=11, subsample_freq=0 will be ignored. Current value: bagging_freq=11\n",
      "Training until validation scores don't improve for 100 rounds\n",
      "[100]\ttraining's l1: 0.902557\tvalid_1's l1: 1.58316\n",
      "[200]\ttraining's l1: 0.886662\tvalid_1's l1: 1.58197\n"
     ]
    },
    {
     "name": "stderr",
     "output_type": "stream",
     "text": [
      "\u001b[32m[I 2021-07-11 01:42:11,038]\u001b[0m Trial 93 finished with value: -1.5795441211323666 and parameters: {'max_depth': 16, 'min_child_weight': 18, 'subsample': 0.8, 'colsample_bytree': 0.6, 'reg_lambda': 0.23268044083597236, 'reg_alpha': 94.28383868077849, 'feature_fraction': 0.6229010343008018, 'bagging_fraction': 0.3513442831505784, 'bagging_freq': 11, 'num_leaves': 602, 'min_child_samples': 92}. Best is trial 87 with value: -1.5669597137505078.\u001b[0m\n"
     ]
    },
    {
     "name": "stdout",
     "output_type": "stream",
     "text": [
      "Early stopping, best iteration is:\n",
      "[141]\ttraining's l1: 0.892825\tvalid_1's l1: 1.57976\n",
      "[LightGBM] [Warning] feature_fraction is set=0.5969525045747555, colsample_bytree=0.6 will be ignored. Current value: feature_fraction=0.5969525045747555\n",
      "[LightGBM] [Warning] bagging_fraction is set=0.271816063226475, subsample=0.8 will be ignored. Current value: bagging_fraction=0.271816063226475\n",
      "[LightGBM] [Warning] bagging_freq is set=12, subsample_freq=0 will be ignored. Current value: bagging_freq=12\n",
      "Training until validation scores don't improve for 100 rounds\n",
      "[100]\ttraining's l1: 0.904598\tvalid_1's l1: 1.57599\n"
     ]
    },
    {
     "name": "stderr",
     "output_type": "stream",
     "text": [
      "\u001b[32m[I 2021-07-11 01:42:19,432]\u001b[0m Trial 94 finished with value: -1.574306880597662 and parameters: {'max_depth': 15, 'min_child_weight': 18, 'subsample': 0.8, 'colsample_bytree': 0.6, 'reg_lambda': 0.751165438909739, 'reg_alpha': 68.46778387993713, 'feature_fraction': 0.5969525045747555, 'bagging_fraction': 0.271816063226475, 'bagging_freq': 12, 'num_leaves': 543, 'min_child_samples': 95}. Best is trial 87 with value: -1.5669597137505078.\u001b[0m\n"
     ]
    },
    {
     "name": "stdout",
     "output_type": "stream",
     "text": [
      "Early stopping, best iteration is:\n",
      "[85]\ttraining's l1: 0.908837\tvalid_1's l1: 1.57457\n",
      "[LightGBM] [Warning] feature_fraction is set=0.6499352464013571, colsample_bytree=0.6 will be ignored. Current value: feature_fraction=0.6499352464013571\n",
      "[LightGBM] [Warning] bagging_fraction is set=0.30342511349071943, subsample=0.9 will be ignored. Current value: bagging_fraction=0.30342511349071943\n",
      "[LightGBM] [Warning] bagging_freq is set=10, subsample_freq=0 will be ignored. Current value: bagging_freq=10\n",
      "Training until validation scores don't improve for 100 rounds\n",
      "[100]\ttraining's l1: 0.927418\tvalid_1's l1: 1.56978\n",
      "[200]\ttraining's l1: 0.910646\tvalid_1's l1: 1.56853\n",
      "[300]\ttraining's l1: 0.901266\tvalid_1's l1: 1.56926\n"
     ]
    },
    {
     "name": "stderr",
     "output_type": "stream",
     "text": [
      "\u001b[32m[I 2021-07-11 01:42:28,449]\u001b[0m Trial 95 finished with value: -1.567509066776419 and parameters: {'max_depth': 17, 'min_child_weight': 14, 'subsample': 0.9, 'colsample_bytree': 0.6, 'reg_lambda': 2.000420141833816, 'reg_alpha': 143.97013490482732, 'feature_fraction': 0.6499352464013571, 'bagging_fraction': 0.30342511349071943, 'bagging_freq': 10, 'num_leaves': 357, 'min_child_samples': 88}. Best is trial 87 with value: -1.5669597137505078.\u001b[0m\n"
     ]
    },
    {
     "name": "stdout",
     "output_type": "stream",
     "text": [
      "Early stopping, best iteration is:\n",
      "[221]\ttraining's l1: 0.906685\tvalid_1's l1: 1.5677\n",
      "[LightGBM] [Warning] feature_fraction is set=0.6540988846594596, colsample_bytree=0.6 will be ignored. Current value: feature_fraction=0.6540988846594596\n",
      "[LightGBM] [Warning] bagging_fraction is set=0.3146957769063691, subsample=0.9 will be ignored. Current value: bagging_fraction=0.3146957769063691\n",
      "[LightGBM] [Warning] bagging_freq is set=10, subsample_freq=0 will be ignored. Current value: bagging_freq=10\n",
      "Training until validation scores don't improve for 100 rounds\n",
      "[100]\ttraining's l1: 0.937067\tvalid_1's l1: 1.57386\n",
      "[200]\ttraining's l1: 0.922884\tvalid_1's l1: 1.57238\n"
     ]
    },
    {
     "name": "stderr",
     "output_type": "stream",
     "text": [
      "\u001b[32m[I 2021-07-11 01:42:35,958]\u001b[0m Trial 96 finished with value: -1.571742035707675 and parameters: {'max_depth': 14, 'min_child_weight': 14, 'subsample': 0.9, 'colsample_bytree': 0.6, 'reg_lambda': 2.211645811552334, 'reg_alpha': 203.7150856688332, 'feature_fraction': 0.6540988846594596, 'bagging_fraction': 0.3146957769063691, 'bagging_freq': 10, 'num_leaves': 339, 'min_child_samples': 77}. Best is trial 87 with value: -1.5669597137505078.\u001b[0m\n"
     ]
    },
    {
     "name": "stdout",
     "output_type": "stream",
     "text": [
      "Early stopping, best iteration is:\n",
      "[185]\ttraining's l1: 0.925291\tvalid_1's l1: 1.57188\n",
      "[LightGBM] [Warning] feature_fraction is set=0.7240136273399108, colsample_bytree=0.6 will be ignored. Current value: feature_fraction=0.7240136273399108\n",
      "[LightGBM] [Warning] bagging_fraction is set=0.29493584797757766, subsample=0.9 will be ignored. Current value: bagging_fraction=0.29493584797757766\n",
      "[LightGBM] [Warning] bagging_freq is set=9, subsample_freq=0 will be ignored. Current value: bagging_freq=9\n",
      "Training until validation scores don't improve for 100 rounds\n",
      "[100]\ttraining's l1: 0.973519\tvalid_1's l1: 1.58704\n",
      "[200]\ttraining's l1: 0.961648\tvalid_1's l1: 1.58441\n"
     ]
    },
    {
     "name": "stderr",
     "output_type": "stream",
     "text": [
      "\u001b[32m[I 2021-07-11 01:42:41,520]\u001b[0m Trial 97 finished with value: -1.5833499231263837 and parameters: {'max_depth': 16, 'min_child_weight': 16, 'subsample': 0.9, 'colsample_bytree': 0.6, 'reg_lambda': 3.6543610311570114, 'reg_alpha': 445.74709351591986, 'feature_fraction': 0.7240136273399108, 'bagging_fraction': 0.29493584797757766, 'bagging_freq': 9, 'num_leaves': 301, 'min_child_samples': 82}. Best is trial 87 with value: -1.5669597137505078.\u001b[0m\n"
     ]
    },
    {
     "name": "stdout",
     "output_type": "stream",
     "text": [
      "Early stopping, best iteration is:\n",
      "[134]\ttraining's l1: 0.968975\tvalid_1's l1: 1.58338\n",
      "[LightGBM] [Warning] feature_fraction is set=0.6115281605839483, colsample_bytree=0.6 will be ignored. Current value: feature_fraction=0.6115281605839483\n",
      "[LightGBM] [Warning] bagging_fraction is set=0.22420959735637974, subsample=0.9 will be ignored. Current value: bagging_fraction=0.22420959735637974\n",
      "[LightGBM] [Warning] bagging_freq is set=9, subsample_freq=0 will be ignored. Current value: bagging_freq=9\n",
      "Training until validation scores don't improve for 100 rounds\n",
      "[100]\ttraining's l1: 0.890657\tvalid_1's l1: 1.57908\n"
     ]
    },
    {
     "name": "stderr",
     "output_type": "stream",
     "text": [
      "\u001b[32m[I 2021-07-11 01:42:49,648]\u001b[0m Trial 98 finished with value: -1.5728961355178217 and parameters: {'max_depth': 17, 'min_child_weight': 14, 'subsample': 0.9, 'colsample_bytree': 0.6, 'reg_lambda': 2.2922542997585174, 'reg_alpha': 44.00071164284988, 'feature_fraction': 0.6115281605839483, 'bagging_fraction': 0.22420959735637974, 'bagging_freq': 9, 'num_leaves': 503, 'min_child_samples': 73}. Best is trial 87 with value: -1.5669597137505078.\u001b[0m\n"
     ]
    },
    {
     "name": "stdout",
     "output_type": "stream",
     "text": [
      "Early stopping, best iteration is:\n",
      "[63]\ttraining's l1: 0.909107\tvalid_1's l1: 1.57305\n",
      "[LightGBM] [Warning] feature_fraction is set=0.7068917107933401, colsample_bytree=0.6 will be ignored. Current value: feature_fraction=0.7068917107933401\n",
      "[LightGBM] [Warning] bagging_fraction is set=0.386499754914871, subsample=0.9 will be ignored. Current value: bagging_fraction=0.386499754914871\n",
      "[LightGBM] [Warning] bagging_freq is set=13, subsample_freq=0 will be ignored. Current value: bagging_freq=13\n",
      "Training until validation scores don't improve for 100 rounds\n",
      "[100]\ttraining's l1: 0.844114\tvalid_1's l1: 1.58551\n"
     ]
    },
    {
     "name": "stderr",
     "output_type": "stream",
     "text": [
      "\u001b[32m[I 2021-07-11 01:42:57,865]\u001b[0m Trial 99 finished with value: -1.577905800914352 and parameters: {'max_depth': 15, 'min_child_weight': 16, 'subsample': 0.9, 'colsample_bytree': 0.6, 'reg_lambda': 1.0553747302687568, 'reg_alpha': 11.92615170422777, 'feature_fraction': 0.7068917107933401, 'bagging_fraction': 0.386499754914871, 'bagging_freq': 13, 'num_leaves': 684, 'min_child_samples': 85}. Best is trial 87 with value: -1.5669597137505078.\u001b[0m\n"
     ]
    },
    {
     "name": "stdout",
     "output_type": "stream",
     "text": [
      "Early stopping, best iteration is:\n",
      "[63]\ttraining's l1: 0.863332\tvalid_1's l1: 1.57801\n",
      "Number of finished trials: 100\n",
      "Best trial: {'max_depth': 16, 'min_child_weight': 19, 'subsample': 0.8, 'colsample_bytree': 0.6, 'reg_lambda': 0.9189086491671924, 'reg_alpha': 85.91747956919798, 'feature_fraction': 0.653862546945534, 'bagging_fraction': 0.2539878828275932, 'bagging_freq': 12, 'num_leaves': 300, 'min_child_samples': 92}\n"
     ]
    }
   ],
   "source": [
    "study4 = optuna.create_study(direction='maximize')\n",
    "study4.optimize(fit_lgbm(x_train[feature_cols4], y_train['target4'], x_valid[feature_cols4], y_valid['target4'], learning_rates[3]), n_trials=100)\n",
    "\n",
    "print('Number of finished trials:', len(study4.trials))\n",
    "print('Best trial:', study4.best_trial.params)"
   ]
  },
  {
   "cell_type": "code",
   "execution_count": 140,
   "id": "e40f5b95",
   "metadata": {},
   "outputs": [
    {
     "data": {
      "text/plain": [
       "{'max_depth': 18,\n",
       " 'min_child_weight': 8,\n",
       " 'subsample': 0.9,\n",
       " 'colsample_bytree': 0.5,\n",
       " 'reg_lambda': 0.07770060902509043,\n",
       " 'reg_alpha': 0.006917721077349456,\n",
       " 'feature_fraction': 0.5448452017199268,\n",
       " 'bagging_fraction': 0.9712581844886307,\n",
       " 'bagging_freq': 17,\n",
       " 'num_leaves': 757,\n",
       " 'min_child_samples': 38}"
      ]
     },
     "execution_count": 140,
     "metadata": {},
     "output_type": "execute_result"
    }
   ],
   "source": [
    "study1.best_trial.params"
   ]
  },
  {
   "cell_type": "code",
   "execution_count": 141,
   "id": "5b788756",
   "metadata": {},
   "outputs": [
    {
     "data": {
      "text/plain": [
       "{'max_depth': 9,\n",
       " 'min_child_weight': 19,\n",
       " 'subsample': 0.7,\n",
       " 'colsample_bytree': 0.5,\n",
       " 'reg_lambda': 0.842789768469053,\n",
       " 'reg_alpha': 0.002083027512061945,\n",
       " 'feature_fraction': 0.6685585785820495,\n",
       " 'bagging_fraction': 0.24812681263609027,\n",
       " 'bagging_freq': 4,\n",
       " 'num_leaves': 300,\n",
       " 'min_child_samples': 88}"
      ]
     },
     "execution_count": 141,
     "metadata": {},
     "output_type": "execute_result"
    }
   ],
   "source": [
    "study2.best_trial.params"
   ]
  },
  {
   "cell_type": "code",
   "execution_count": 142,
   "id": "e457fcda",
   "metadata": {},
   "outputs": [
    {
     "data": {
      "text/plain": [
       "{'max_depth': 6,\n",
       " 'min_child_weight': 8,\n",
       " 'subsample': 0.6,\n",
       " 'colsample_bytree': 0.9,\n",
       " 'reg_lambda': 0.20136897056918007,\n",
       " 'reg_alpha': 0.12085385697554701,\n",
       " 'feature_fraction': 0.9511894033022753,\n",
       " 'bagging_fraction': 0.9078085686770417,\n",
       " 'bagging_freq': 18,\n",
       " 'num_leaves': 808,\n",
       " 'min_child_samples': 35}"
      ]
     },
     "execution_count": 142,
     "metadata": {},
     "output_type": "execute_result"
    }
   ],
   "source": [
    "study3.best_trial.params"
   ]
  },
  {
   "cell_type": "code",
   "execution_count": 143,
   "id": "c64ef95b",
   "metadata": {},
   "outputs": [
    {
     "data": {
      "text/plain": [
       "{'max_depth': 16,\n",
       " 'min_child_weight': 19,\n",
       " 'subsample': 0.8,\n",
       " 'colsample_bytree': 0.6,\n",
       " 'reg_lambda': 0.9189086491671924,\n",
       " 'reg_alpha': 85.91747956919798,\n",
       " 'feature_fraction': 0.653862546945534,\n",
       " 'bagging_fraction': 0.2539878828275932,\n",
       " 'bagging_freq': 12,\n",
       " 'num_leaves': 300,\n",
       " 'min_child_samples': 92}"
      ]
     },
     "execution_count": 143,
     "metadata": {},
     "output_type": "execute_result"
    }
   ],
   "source": [
    "study4.best_trial.params"
   ]
  },
  {
   "cell_type": "code",
   "execution_count": null,
   "id": "816fb6c7",
   "metadata": {},
   "outputs": [],
   "source": []
  },
  {
   "cell_type": "code",
   "execution_count": null,
   "id": "e7d7acb8",
   "metadata": {},
   "outputs": [],
   "source": []
  }
 ],
 "metadata": {
  "kernelspec": {
   "display_name": "Python 3",
   "language": "python",
   "name": "python3"
  },
  "language_info": {
   "codemirror_mode": {
    "name": "ipython",
    "version": 3
   },
   "file_extension": ".py",
   "mimetype": "text/x-python",
   "name": "python",
   "nbconvert_exporter": "python",
   "pygments_lexer": "ipython3",
   "version": "3.6.13"
  }
 },
 "nbformat": 4,
 "nbformat_minor": 5
}
