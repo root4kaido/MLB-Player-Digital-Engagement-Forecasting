{
 "cells": [
  {
   "cell_type": "code",
   "execution_count": 1,
   "id": "a4db61f6",
   "metadata": {},
   "outputs": [],
   "source": [
    "import gc\n",
    "import os\n",
    "import sys\n",
    "import math\n",
    "import random\n",
    "import warnings\n",
    "import pickle\n",
    "from pathlib import Path\n",
    "from joblib import Parallel, delayed\n",
    "from statsmodels.tsa.deterministic import (CalendarFourier,\n",
    "                                           CalendarSeasonality,\n",
    "                                           CalendarTimeTrend,\n",
    "                                           DeterministicProcess)\n",
    "import optuna\n",
    "from tqdm import tqdm\n",
    "import os\n",
    "import ipywidgets as widgets\n",
    "import matplotlib.pyplot as plt\n",
    "import numpy as np\n",
    "import pandas as pd\n",
    "import seaborn as sns\n",
    "# from pandarallel import pandarallel\n",
    "# pandarallel.initialize()\n",
    "warnings.simplefilter(\"ignore\")\n",
    "import ctypes as ct\n",
    "from datetime import timedelta\n",
    "\n",
    "from sklearn.metrics import mean_absolute_error\n",
    "\n",
    "import statistics as st\n",
    "import lightgbm as lgbm\n",
    "from scipy.stats import norm"
   ]
  },
  {
   "cell_type": "code",
   "execution_count": 2,
   "id": "300fb9db",
   "metadata": {},
   "outputs": [],
   "source": [
    "sys.path.append('../../')\n",
    "import src.utils as utils"
   ]
  },
  {
   "cell_type": "markdown",
   "id": "616d6d33",
   "metadata": {},
   "source": [
    "## Param"
   ]
  },
  {
   "cell_type": "code",
   "execution_count": 3,
   "id": "797e2a81",
   "metadata": {},
   "outputs": [],
   "source": [
    "targets_cols = ['playerId', 'target1', 'target2', 'target3', 'target4', 'date']\n",
    "players_cols = ['playerId', 'primaryPositionName', 'birthCity', 'DOY', 'mlbDebutYear', 'DebutAge', 'heightInches', 'weight']\n",
    "rosters_cols = ['playerId', 'teamId', 'status', 'date']\n",
    "transactions_cols = ['playerId', 'transaction_flag', 'date']\n",
    "scores_cols = ['playerId', 'battingOrder', 'gamesPlayedBatting', 'flyOuts',\n",
    "       'groundOuts', 'runsScored', 'doubles', 'triples', 'homeRuns',\n",
    "       'strikeOuts', 'baseOnBalls', 'intentionalWalks', 'hits', 'hitByPitch',\n",
    "       'atBats', 'caughtStealing', 'stolenBases', 'groundIntoDoublePlay',\n",
    "       'groundIntoTriplePlay', 'plateAppearances', 'totalBases', 'rbi',\n",
    "       'leftOnBase', 'sacBunts', 'sacFlies', 'catchersInterference',\n",
    "       'pickoffs', 'gamesPlayedPitching', 'gamesStartedPitching',\n",
    "       'completeGamesPitching', 'shutoutsPitching', 'winsPitching',\n",
    "       'lossesPitching', 'flyOutsPitching', 'airOutsPitching',\n",
    "       'groundOutsPitching', 'runsPitching', 'doublesPitching',\n",
    "       'triplesPitching', 'homeRunsPitching', 'strikeOutsPitching',\n",
    "       'baseOnBallsPitching', 'intentionalWalksPitching', 'hitsPitching',\n",
    "       'hitByPitchPitching', 'atBatsPitching', 'caughtStealingPitching',\n",
    "       'stolenBasesPitching', 'inningsPitched', 'saveOpportunities',\n",
    "       'earnedRuns', 'battersFaced', 'outsPitching', 'pitchesThrown', 'balls',\n",
    "       'strikes', 'hitBatsmen', 'balks', 'wildPitches', 'pickoffsPitching',\n",
    "       'rbiPitching', 'gamesFinishedPitching', 'inheritedRunners',\n",
    "       'inheritedRunnersScored', 'catchersInterferencePitching',\n",
    "       'sacBuntsPitching', 'sacFliesPitching', 'saves', 'holds', 'blownSaves',\n",
    "       'assists', 'putOuts', 'errors', 'chances', 'date']\n",
    "\n",
    "feature_cols1 = ['week_day','label_playerId', 'label_primaryPositionName', 'label_teamId',\n",
    "       'label_status', 'battingOrder', 'gamesPlayedBatting', 'flyOuts',\n",
    "       'groundOuts', 'runsScored', 'doubles', 'triples', 'homeRuns',\n",
    "       'strikeOuts', 'baseOnBalls', 'intentionalWalks', 'hits', 'hitByPitch',\n",
    "       'atBats', 'caughtStealing', 'stolenBases', 'groundIntoDoublePlay',\n",
    "       'groundIntoTriplePlay', 'plateAppearances', 'totalBases', 'rbi',\n",
    "       'leftOnBase', 'sacBunts', 'sacFlies', 'catchersInterference',\n",
    "       'pickoffs', 'gamesPlayedPitching', 'gamesStartedPitching',\n",
    "       'completeGamesPitching', 'shutoutsPitching', 'winsPitching',\n",
    "       'lossesPitching', 'flyOutsPitching', 'airOutsPitching',\n",
    "       'groundOutsPitching', 'runsPitching', 'doublesPitching',\n",
    "       'triplesPitching', 'homeRunsPitching', 'strikeOutsPitching',\n",
    "       'baseOnBallsPitching', 'intentionalWalksPitching', 'hitsPitching',\n",
    "       'hitByPitchPitching', 'atBatsPitching', 'caughtStealingPitching',\n",
    "       'stolenBasesPitching', 'inningsPitched', 'saveOpportunities',\n",
    "       'earnedRuns', 'battersFaced', 'outsPitching', 'pitchesThrown', 'balls',\n",
    "       'strikes', 'hitBatsmen', 'balks', 'wildPitches', 'pickoffsPitching',\n",
    "       'rbiPitching', 'gamesFinishedPitching', 'inheritedRunners',\n",
    "       'inheritedRunnersScored', 'catchersInterferencePitching',\n",
    "       'sacBuntsPitching', 'sacFliesPitching', 'saves', 'holds', 'blownSaves',\n",
    "       'assists', 'putOuts', 'errors', 'chances',\n",
    "        \"target1_mean\",\"target1_median\",\"target1_std\",\"target1_min\",\"target1_max\",\"target1_skew\",\"target1_kurt\",\n",
    "         \"target2_mean\",\"target2_median\",\"target2_std\",\"target2_min\",\"target2_max\",\"target2_skew\",\"target2_kurt\",\n",
    "        \"target3_mean\",\"target3_median\",\"target3_std\",\"target3_min\",\"target3_max\",\"target3_skew\",\"target3_kurt\",\n",
    "        \"target4_mean\",\"target4_median\",\"target4_std\",\"target4_min\",\"target4_max\",\"target4_skew\",\"target4_kurt\", \n",
    "        'season_info'] \n",
    "\n",
    "feature_cols2 = ['label_playerId', 'label_primaryPositionName', 'label_teamId',\n",
    "       'label_status', 'battingOrder', 'gamesPlayedBatting', 'flyOuts',\n",
    "       'groundOuts', 'runsScored', 'doubles', 'triples', 'homeRuns',\n",
    "       'strikeOuts', 'baseOnBalls', 'intentionalWalks', 'hits', 'hitByPitch',\n",
    "       'atBats', 'caughtStealing', 'stolenBases', 'groundIntoDoublePlay',\n",
    "       'groundIntoTriplePlay', 'plateAppearances', 'totalBases', 'rbi',\n",
    "       'leftOnBase', 'sacBunts', 'sacFlies', 'catchersInterference',\n",
    "       'pickoffs', 'gamesPlayedPitching', 'gamesStartedPitching',\n",
    "       'completeGamesPitching', 'shutoutsPitching', 'winsPitching',\n",
    "       'lossesPitching', 'flyOutsPitching', 'airOutsPitching',\n",
    "       'groundOutsPitching', 'runsPitching', 'doublesPitching',\n",
    "       'triplesPitching', 'homeRunsPitching', 'strikeOutsPitching',\n",
    "       'baseOnBallsPitching', 'intentionalWalksPitching', 'hitsPitching',\n",
    "       'hitByPitchPitching', 'atBatsPitching', 'caughtStealingPitching',\n",
    "       'stolenBasesPitching', 'inningsPitched', 'saveOpportunities',\n",
    "       'earnedRuns', 'battersFaced', 'outsPitching', 'pitchesThrown', 'balls',\n",
    "       'strikes', 'hitBatsmen', 'balks', 'wildPitches', 'pickoffsPitching',\n",
    "       'rbiPitching', 'gamesFinishedPitching', 'inheritedRunners',\n",
    "       'inheritedRunnersScored', 'catchersInterferencePitching',\n",
    "       'sacBuntsPitching', 'sacFliesPitching', 'saves', 'holds', 'blownSaves',\n",
    "       'assists', 'putOuts', 'errors', 'chances',\n",
    "        \"target1_mean\",\"target1_median\",\"target1_std\",\"target1_min\",\"target1_max\",\"target1_skew\",\"target1_kurt\",\n",
    "         \"target2_mean\",\"target2_median\",\"target2_std\",\"target2_min\",\"target2_max\",\"target2_skew\",\"target2_kurt\",\n",
    "        \"target3_mean\",\"target3_median\",\"target3_std\",\"target3_min\",\"target3_max\",\"target3_skew\",\"target3_kurt\",\n",
    "        \"target4_mean\",\"target4_median\",\"target4_std\",\"target4_min\",\"target4_max\",\"target4_skew\",\"target4_kurt\", \n",
    "        'season_info'] \n",
    "\n",
    "feature_cols3 = ['week_day','label_playerId', 'label_primaryPositionName', 'label_teamId',\n",
    "       'label_status', 'battingOrder', 'gamesPlayedBatting', 'flyOuts',\n",
    "       'groundOuts', 'runsScored', 'doubles', 'triples', 'homeRuns',\n",
    "       'strikeOuts', 'baseOnBalls', 'intentionalWalks', 'hits', 'hitByPitch',\n",
    "       'atBats', 'caughtStealing', 'stolenBases', 'groundIntoDoublePlay',\n",
    "       'groundIntoTriplePlay', 'plateAppearances', 'totalBases', 'rbi',\n",
    "       'leftOnBase', 'sacBunts', 'sacFlies', 'catchersInterference',\n",
    "       'pickoffs', 'gamesPlayedPitching', 'gamesStartedPitching',\n",
    "       'completeGamesPitching', 'shutoutsPitching', 'winsPitching',\n",
    "       'lossesPitching', 'flyOutsPitching', 'airOutsPitching',\n",
    "       'groundOutsPitching', 'runsPitching', 'doublesPitching',\n",
    "       'triplesPitching', 'homeRunsPitching', 'strikeOutsPitching',\n",
    "       'baseOnBallsPitching', 'intentionalWalksPitching', 'hitsPitching',\n",
    "       'hitByPitchPitching', 'atBatsPitching', 'caughtStealingPitching',\n",
    "       'stolenBasesPitching', 'inningsPitched', 'saveOpportunities',\n",
    "       'earnedRuns', 'battersFaced', 'outsPitching', 'pitchesThrown', 'balls',\n",
    "       'strikes', 'hitBatsmen', 'balks', 'wildPitches', 'pickoffsPitching',\n",
    "       'rbiPitching', 'gamesFinishedPitching', 'inheritedRunners',\n",
    "       'inheritedRunnersScored', 'catchersInterferencePitching',\n",
    "       'sacBuntsPitching', 'sacFliesPitching', 'saves', 'holds', 'blownSaves',\n",
    "       'assists', 'putOuts', 'errors', 'chances',\n",
    "        \"target1_mean\",\"target1_median\",\"target1_std\",\"target1_min\",\"target1_max\",\"target1_skew\",\"target1_kurt\",\n",
    "         \"target2_mean\",\"target2_median\",\"target2_std\",\"target2_min\",\"target2_max\",\"target2_skew\",\"target2_kurt\",\n",
    "        \"target3_mean\",\"target3_median\",\"target3_std\",\"target3_min\",\"target3_max\",\"target3_skew\",\"target3_kurt\",\n",
    "        \"target4_mean\",\"target4_median\",\"target4_std\",\"target4_min\",\"target4_max\",\"target4_skew\",\"target4_kurt\", \n",
    "        'season_info'] \n",
    "\n",
    "feature_cols4 = ['week_day', 'annual_day', 'month', 'label_playerId', 'label_primaryPositionName', 'label_teamId', 'label_birthCity',\n",
    "                'DOY', 'mlbDebutYear', 'DebutAge', 'heightInches', 'weight',\n",
    "       'label_status', 'battingOrder', 'gamesPlayedBatting', 'flyOuts',\n",
    "       'groundOuts', 'runsScored', 'doubles', 'triples', 'homeRuns',\n",
    "       'strikeOuts', 'baseOnBalls', 'intentionalWalks', 'hits', 'hitByPitch',\n",
    "       'atBats', 'caughtStealing', 'stolenBases', 'groundIntoDoublePlay',\n",
    "       'groundIntoTriplePlay', 'plateAppearances', 'totalBases', 'rbi',\n",
    "       'leftOnBase', 'sacBunts', 'sacFlies', 'catchersInterference',\n",
    "       'pickoffs', 'gamesPlayedPitching', 'gamesStartedPitching',\n",
    "       'completeGamesPitching', 'shutoutsPitching', 'winsPitching',\n",
    "       'lossesPitching', 'flyOutsPitching', 'airOutsPitching',\n",
    "       'groundOutsPitching', 'runsPitching', 'doublesPitching',\n",
    "       'triplesPitching', 'homeRunsPitching', 'strikeOutsPitching',\n",
    "       'baseOnBallsPitching', 'intentionalWalksPitching', 'hitsPitching',\n",
    "       'hitByPitchPitching', 'atBatsPitching', 'caughtStealingPitching',\n",
    "       'stolenBasesPitching', 'inningsPitched', 'saveOpportunities',\n",
    "       'earnedRuns', 'battersFaced', 'outsPitching', 'pitchesThrown', 'balls',\n",
    "       'strikes', 'hitBatsmen', 'balks', 'wildPitches', 'pickoffsPitching',\n",
    "       'rbiPitching', 'gamesFinishedPitching', 'inheritedRunners',\n",
    "       'inheritedRunnersScored', 'catchersInterferencePitching',\n",
    "       'sacBuntsPitching', 'sacFliesPitching', 'saves', 'holds', 'blownSaves',\n",
    "       'assists', 'putOuts', 'errors', 'chances',\n",
    "        \"target1_mean\",\"target1_median\",\"target1_std\",\"target1_min\",\"target1_max\",\"target1_skew\",\"target1_kurt\",\n",
    "         \"target2_mean\",\"target2_median\",\"target2_std\",\"target2_min\",\"target2_max\",\"target2_skew\",\"target2_kurt\",\n",
    "        \"target3_mean\",\"target3_median\",\"target3_std\",\"target3_min\",\"target3_max\",\"target3_skew\",\"target3_kurt\",\n",
    "        \"target4_mean\",\"target4_median\",\"target4_std\",\"target4_min\",\"target4_max\",\"target4_skew\",\"target4_kurt\", \n",
    "        'season_info'] "
   ]
  },
  {
   "cell_type": "code",
   "execution_count": 4,
   "id": "02428d87",
   "metadata": {},
   "outputs": [],
   "source": [
    "# training lightgbm\n",
    "params1 = {'objective':'mae',\n",
    "           'reg_alpha': 0.14947461820098767, \n",
    "           'reg_lambda': 0.10185644384043743, \n",
    "           'n_estimators': 3633, \n",
    "           'learning_rate': 0.08046301304430488, \n",
    "           'num_leaves': 674, \n",
    "           'feature_fraction': 0.9101240539122566, \n",
    "           'bagging_fraction': 0.9884451442950513, \n",
    "           'bagging_freq': 8, \n",
    "           'min_child_samples': 51}\n",
    "\n",
    "params2 = {'objective':'mae',\n",
    "           'reg_alpha': 0.1,\n",
    "           'reg_lambda': 0.1, \n",
    "           'n_estimators': 80,\n",
    "           'learning_rate': 0.1,\n",
    "           'random_state': 42,\n",
    "           \"num_leaves\": 22}\n",
    "\n",
    "params3 = {'objective':'mae',\n",
    "           'reg_alpha': 0.1,\n",
    "           'reg_lambda': 0.1, \n",
    "           'n_estimators': 10000,\n",
    "           'learning_rate': 0.1,\n",
    "           'random_state': 42,\n",
    "           \"num_leaves\": 100}\n",
    "\n",
    "params4 = {'objective':'mae',\n",
    "           'reg_alpha': 0.016468100279441976, \n",
    "           'reg_lambda': 0.09128335764019105, \n",
    "           'n_estimators': 9868, \n",
    "           'learning_rate': 0.10528150510326864, \n",
    "           'num_leaves': 157, \n",
    "           'feature_fraction': 0.5419185713426886, \n",
    "           'bagging_fraction': 0.2637405128936662, \n",
    "           'bagging_freq': 19, \n",
    "           'min_child_samples': 71}"
   ]
  },
  {
   "cell_type": "code",
   "execution_count": 5,
   "id": "64375ab9",
   "metadata": {},
   "outputs": [],
   "source": [
    "EXP_NUM = 45\n",
    "NFOLDS = 5\n",
    "SEED = 42"
   ]
  },
  {
   "cell_type": "code",
   "execution_count": 6,
   "id": "f02a0abd",
   "metadata": {},
   "outputs": [],
   "source": [
    "utils.set_seed(SEED)"
   ]
  },
  {
   "cell_type": "markdown",
   "id": "7fe90b79",
   "metadata": {},
   "source": [
    "## Dir"
   ]
  },
  {
   "cell_type": "code",
   "execution_count": 7,
   "id": "88e92cad",
   "metadata": {},
   "outputs": [],
   "source": [
    "DATA_DIR = Path(\"/home/knikaido/work/MLB-Player-Digital-Engagement-Forecasting/data/\")\n",
    "MAIN_DATA_DIR = DATA_DIR / 'mlb-player-digital-engagement-forecasting'\n",
    "TRAIN_DIR = MAIN_DATA_DIR / 'train'\n",
    "OUTPUT_DIR = Path('./output/')"
   ]
  },
  {
   "cell_type": "code",
   "execution_count": 8,
   "id": "6af7118a",
   "metadata": {},
   "outputs": [],
   "source": [
    "players = pd.read_csv(MAIN_DATA_DIR / 'players.csv')\n",
    "\n",
    "rosters = pd.read_csv(TRAIN_DIR / 'rosters_train.csv')\n",
    "targets = pd.read_csv(TRAIN_DIR / 'nextDayPlayerEngagement_train.csv')\n",
    "scores = pd.read_csv(TRAIN_DIR / 'playerBoxScores_train.csv')\n",
    "scores = scores.groupby(['playerId', 'date']).sum().reset_index()\n",
    "seasons = pd.read_csv(MAIN_DATA_DIR / 'seasons.csv')\n",
    "\n",
    "# events = pd.read_csv(TRAIN_DIR / 'events_train.csv')\n",
    "# events = events.groupby(['gameDate']).sum().reset_index()\n"
   ]
  },
  {
   "cell_type": "code",
   "execution_count": 9,
   "id": "27da3d9a",
   "metadata": {},
   "outputs": [
    {
     "data": {
      "text/html": [
       "<div>\n",
       "<style scoped>\n",
       "    .dataframe tbody tr th:only-of-type {\n",
       "        vertical-align: middle;\n",
       "    }\n",
       "\n",
       "    .dataframe tbody tr th {\n",
       "        vertical-align: top;\n",
       "    }\n",
       "\n",
       "    .dataframe thead th {\n",
       "        text-align: right;\n",
       "    }\n",
       "</style>\n",
       "<table border=\"1\" class=\"dataframe\">\n",
       "  <thead>\n",
       "    <tr style=\"text-align: right;\">\n",
       "      <th></th>\n",
       "      <th>playerId</th>\n",
       "      <th>date</th>\n",
       "      <th>home</th>\n",
       "      <th>gamePk</th>\n",
       "      <th>teamId</th>\n",
       "      <th>jerseyNum</th>\n",
       "      <th>positionCode</th>\n",
       "      <th>battingOrder</th>\n",
       "      <th>gamesPlayedBatting</th>\n",
       "      <th>flyOuts</th>\n",
       "      <th>...</th>\n",
       "      <th>sacBuntsPitching</th>\n",
       "      <th>sacFliesPitching</th>\n",
       "      <th>saves</th>\n",
       "      <th>holds</th>\n",
       "      <th>blownSaves</th>\n",
       "      <th>assists</th>\n",
       "      <th>putOuts</th>\n",
       "      <th>errors</th>\n",
       "      <th>chances</th>\n",
       "      <th>index</th>\n",
       "    </tr>\n",
       "  </thead>\n",
       "  <tbody>\n",
       "    <tr>\n",
       "      <th>0</th>\n",
       "      <td>112526</td>\n",
       "      <td>20180402</td>\n",
       "      <td>0</td>\n",
       "      <td>529469</td>\n",
       "      <td>140</td>\n",
       "      <td>40.0</td>\n",
       "      <td>1</td>\n",
       "      <td>0.0</td>\n",
       "      <td>0.0</td>\n",
       "      <td>0.0</td>\n",
       "      <td>...</td>\n",
       "      <td>0.0</td>\n",
       "      <td>0.0</td>\n",
       "      <td>0.0</td>\n",
       "      <td>0.0</td>\n",
       "      <td>0.0</td>\n",
       "      <td>1.0</td>\n",
       "      <td>0.0</td>\n",
       "      <td>0.0</td>\n",
       "      <td>1.0</td>\n",
       "      <td>91</td>\n",
       "    </tr>\n",
       "    <tr>\n",
       "      <th>1</th>\n",
       "      <td>112526</td>\n",
       "      <td>20180408</td>\n",
       "      <td>1</td>\n",
       "      <td>529546</td>\n",
       "      <td>140</td>\n",
       "      <td>40.0</td>\n",
       "      <td>1</td>\n",
       "      <td>0.0</td>\n",
       "      <td>0.0</td>\n",
       "      <td>0.0</td>\n",
       "      <td>...</td>\n",
       "      <td>0.0</td>\n",
       "      <td>0.0</td>\n",
       "      <td>0.0</td>\n",
       "      <td>0.0</td>\n",
       "      <td>0.0</td>\n",
       "      <td>0.0</td>\n",
       "      <td>1.0</td>\n",
       "      <td>0.0</td>\n",
       "      <td>1.0</td>\n",
       "      <td>97</td>\n",
       "    </tr>\n",
       "    <tr>\n",
       "      <th>2</th>\n",
       "      <td>112526</td>\n",
       "      <td>20180410</td>\n",
       "      <td>1</td>\n",
       "      <td>529565</td>\n",
       "      <td>140</td>\n",
       "      <td>40.0</td>\n",
       "      <td>1</td>\n",
       "      <td>0.0</td>\n",
       "      <td>0.0</td>\n",
       "      <td>0.0</td>\n",
       "      <td>...</td>\n",
       "      <td>0.0</td>\n",
       "      <td>1.0</td>\n",
       "      <td>0.0</td>\n",
       "      <td>0.0</td>\n",
       "      <td>0.0</td>\n",
       "      <td>2.0</td>\n",
       "      <td>0.0</td>\n",
       "      <td>0.0</td>\n",
       "      <td>2.0</td>\n",
       "      <td>99</td>\n",
       "    </tr>\n",
       "    <tr>\n",
       "      <th>3</th>\n",
       "      <td>112526</td>\n",
       "      <td>20180415</td>\n",
       "      <td>0</td>\n",
       "      <td>529640</td>\n",
       "      <td>140</td>\n",
       "      <td>40.0</td>\n",
       "      <td>1</td>\n",
       "      <td>0.0</td>\n",
       "      <td>0.0</td>\n",
       "      <td>0.0</td>\n",
       "      <td>...</td>\n",
       "      <td>0.0</td>\n",
       "      <td>1.0</td>\n",
       "      <td>0.0</td>\n",
       "      <td>0.0</td>\n",
       "      <td>0.0</td>\n",
       "      <td>1.0</td>\n",
       "      <td>0.0</td>\n",
       "      <td>0.0</td>\n",
       "      <td>1.0</td>\n",
       "      <td>104</td>\n",
       "    </tr>\n",
       "    <tr>\n",
       "      <th>4</th>\n",
       "      <td>112526</td>\n",
       "      <td>20180421</td>\n",
       "      <td>1</td>\n",
       "      <td>529718</td>\n",
       "      <td>140</td>\n",
       "      <td>40.0</td>\n",
       "      <td>1</td>\n",
       "      <td>0.0</td>\n",
       "      <td>0.0</td>\n",
       "      <td>0.0</td>\n",
       "      <td>...</td>\n",
       "      <td>0.0</td>\n",
       "      <td>1.0</td>\n",
       "      <td>0.0</td>\n",
       "      <td>0.0</td>\n",
       "      <td>0.0</td>\n",
       "      <td>0.0</td>\n",
       "      <td>2.0</td>\n",
       "      <td>0.0</td>\n",
       "      <td>2.0</td>\n",
       "      <td>110</td>\n",
       "    </tr>\n",
       "    <tr>\n",
       "      <th>...</th>\n",
       "      <td>...</td>\n",
       "      <td>...</td>\n",
       "      <td>...</td>\n",
       "      <td>...</td>\n",
       "      <td>...</td>\n",
       "      <td>...</td>\n",
       "      <td>...</td>\n",
       "      <td>...</td>\n",
       "      <td>...</td>\n",
       "      <td>...</td>\n",
       "      <td>...</td>\n",
       "      <td>...</td>\n",
       "      <td>...</td>\n",
       "      <td>...</td>\n",
       "      <td>...</td>\n",
       "      <td>...</td>\n",
       "      <td>...</td>\n",
       "      <td>...</td>\n",
       "      <td>...</td>\n",
       "      <td>...</td>\n",
       "      <td>...</td>\n",
       "    </tr>\n",
       "    <tr>\n",
       "      <th>182945</th>\n",
       "      <td>685503</td>\n",
       "      <td>20210409</td>\n",
       "      <td>1</td>\n",
       "      <td>634478</td>\n",
       "      <td>140</td>\n",
       "      <td>35.0</td>\n",
       "      <td>1</td>\n",
       "      <td>0.0</td>\n",
       "      <td>0.0</td>\n",
       "      <td>0.0</td>\n",
       "      <td>...</td>\n",
       "      <td>0.0</td>\n",
       "      <td>0.0</td>\n",
       "      <td>0.0</td>\n",
       "      <td>0.0</td>\n",
       "      <td>0.0</td>\n",
       "      <td>0.0</td>\n",
       "      <td>1.0</td>\n",
       "      <td>0.0</td>\n",
       "      <td>1.0</td>\n",
       "      <td>1194</td>\n",
       "    </tr>\n",
       "    <tr>\n",
       "      <th>182946</th>\n",
       "      <td>685503</td>\n",
       "      <td>20210414</td>\n",
       "      <td>0</td>\n",
       "      <td>634496</td>\n",
       "      <td>140</td>\n",
       "      <td>35.0</td>\n",
       "      <td>1</td>\n",
       "      <td>0.0</td>\n",
       "      <td>0.0</td>\n",
       "      <td>0.0</td>\n",
       "      <td>...</td>\n",
       "      <td>0.0</td>\n",
       "      <td>0.0</td>\n",
       "      <td>0.0</td>\n",
       "      <td>0.0</td>\n",
       "      <td>0.0</td>\n",
       "      <td>1.0</td>\n",
       "      <td>0.0</td>\n",
       "      <td>0.0</td>\n",
       "      <td>1.0</td>\n",
       "      <td>1199</td>\n",
       "    </tr>\n",
       "    <tr>\n",
       "      <th>182947</th>\n",
       "      <td>685503</td>\n",
       "      <td>20210419</td>\n",
       "      <td>0</td>\n",
       "      <td>634536</td>\n",
       "      <td>140</td>\n",
       "      <td>35.0</td>\n",
       "      <td>1</td>\n",
       "      <td>0.0</td>\n",
       "      <td>0.0</td>\n",
       "      <td>0.0</td>\n",
       "      <td>...</td>\n",
       "      <td>0.0</td>\n",
       "      <td>0.0</td>\n",
       "      <td>0.0</td>\n",
       "      <td>0.0</td>\n",
       "      <td>0.0</td>\n",
       "      <td>0.0</td>\n",
       "      <td>0.0</td>\n",
       "      <td>0.0</td>\n",
       "      <td>0.0</td>\n",
       "      <td>1204</td>\n",
       "    </tr>\n",
       "    <tr>\n",
       "      <th>182948</th>\n",
       "      <td>685503</td>\n",
       "      <td>20210425</td>\n",
       "      <td>0</td>\n",
       "      <td>634393</td>\n",
       "      <td>140</td>\n",
       "      <td>35.0</td>\n",
       "      <td>1</td>\n",
       "      <td>0.0</td>\n",
       "      <td>0.0</td>\n",
       "      <td>0.0</td>\n",
       "      <td>...</td>\n",
       "      <td>0.0</td>\n",
       "      <td>1.0</td>\n",
       "      <td>0.0</td>\n",
       "      <td>0.0</td>\n",
       "      <td>0.0</td>\n",
       "      <td>0.0</td>\n",
       "      <td>0.0</td>\n",
       "      <td>0.0</td>\n",
       "      <td>0.0</td>\n",
       "      <td>1210</td>\n",
       "    </tr>\n",
       "    <tr>\n",
       "      <th>182949</th>\n",
       "      <td>685503</td>\n",
       "      <td>20210430</td>\n",
       "      <td>1</td>\n",
       "      <td>634337</td>\n",
       "      <td>140</td>\n",
       "      <td>35.0</td>\n",
       "      <td>1</td>\n",
       "      <td>0.0</td>\n",
       "      <td>0.0</td>\n",
       "      <td>0.0</td>\n",
       "      <td>...</td>\n",
       "      <td>0.0</td>\n",
       "      <td>0.0</td>\n",
       "      <td>0.0</td>\n",
       "      <td>0.0</td>\n",
       "      <td>0.0</td>\n",
       "      <td>0.0</td>\n",
       "      <td>0.0</td>\n",
       "      <td>0.0</td>\n",
       "      <td>0.0</td>\n",
       "      <td>1215</td>\n",
       "    </tr>\n",
       "  </tbody>\n",
       "</table>\n",
       "<p>182950 rows × 81 columns</p>\n",
       "</div>"
      ],
      "text/plain": [
       "        playerId      date  home  gamePk  teamId  jerseyNum  positionCode  \\\n",
       "0         112526  20180402     0  529469     140       40.0             1   \n",
       "1         112526  20180408     1  529546     140       40.0             1   \n",
       "2         112526  20180410     1  529565     140       40.0             1   \n",
       "3         112526  20180415     0  529640     140       40.0             1   \n",
       "4         112526  20180421     1  529718     140       40.0             1   \n",
       "...          ...       ...   ...     ...     ...        ...           ...   \n",
       "182945    685503  20210409     1  634478     140       35.0             1   \n",
       "182946    685503  20210414     0  634496     140       35.0             1   \n",
       "182947    685503  20210419     0  634536     140       35.0             1   \n",
       "182948    685503  20210425     0  634393     140       35.0             1   \n",
       "182949    685503  20210430     1  634337     140       35.0             1   \n",
       "\n",
       "        battingOrder  gamesPlayedBatting  flyOuts  ...  sacBuntsPitching  \\\n",
       "0                0.0                 0.0      0.0  ...               0.0   \n",
       "1                0.0                 0.0      0.0  ...               0.0   \n",
       "2                0.0                 0.0      0.0  ...               0.0   \n",
       "3                0.0                 0.0      0.0  ...               0.0   \n",
       "4                0.0                 0.0      0.0  ...               0.0   \n",
       "...              ...                 ...      ...  ...               ...   \n",
       "182945           0.0                 0.0      0.0  ...               0.0   \n",
       "182946           0.0                 0.0      0.0  ...               0.0   \n",
       "182947           0.0                 0.0      0.0  ...               0.0   \n",
       "182948           0.0                 0.0      0.0  ...               0.0   \n",
       "182949           0.0                 0.0      0.0  ...               0.0   \n",
       "\n",
       "        sacFliesPitching  saves  holds  blownSaves  assists  putOuts  errors  \\\n",
       "0                    0.0    0.0    0.0         0.0      1.0      0.0     0.0   \n",
       "1                    0.0    0.0    0.0         0.0      0.0      1.0     0.0   \n",
       "2                    1.0    0.0    0.0         0.0      2.0      0.0     0.0   \n",
       "3                    1.0    0.0    0.0         0.0      1.0      0.0     0.0   \n",
       "4                    1.0    0.0    0.0         0.0      0.0      2.0     0.0   \n",
       "...                  ...    ...    ...         ...      ...      ...     ...   \n",
       "182945               0.0    0.0    0.0         0.0      0.0      1.0     0.0   \n",
       "182946               0.0    0.0    0.0         0.0      1.0      0.0     0.0   \n",
       "182947               0.0    0.0    0.0         0.0      0.0      0.0     0.0   \n",
       "182948               1.0    0.0    0.0         0.0      0.0      0.0     0.0   \n",
       "182949               0.0    0.0    0.0         0.0      0.0      0.0     0.0   \n",
       "\n",
       "        chances  index  \n",
       "0           1.0     91  \n",
       "1           1.0     97  \n",
       "2           2.0     99  \n",
       "3           1.0    104  \n",
       "4           2.0    110  \n",
       "...         ...    ...  \n",
       "182945      1.0   1194  \n",
       "182946      1.0   1199  \n",
       "182947      0.0   1204  \n",
       "182948      0.0   1210  \n",
       "182949      0.0   1215  \n",
       "\n",
       "[182950 rows x 81 columns]"
      ]
     },
     "execution_count": 9,
     "metadata": {},
     "output_type": "execute_result"
    }
   ],
   "source": [
    "scores"
   ]
  },
  {
   "cell_type": "code",
   "execution_count": 10,
   "id": "9218222e",
   "metadata": {},
   "outputs": [],
   "source": [
    "seasons = seasons.fillna('0000-00-00')\n",
    "for c_ in seasons.columns[1:]:\n",
    "    seasons[c_] = seasons[c_].str.replace('-', '').astype(int)"
   ]
  },
  {
   "cell_type": "code",
   "execution_count": 11,
   "id": "538f3f70",
   "metadata": {},
   "outputs": [],
   "source": [
    "game_dates_range = []\n",
    "game_dates_range.append(np.array([20170101, 20171231]))\n",
    "game_dates_range.append(scores[scores['date'] <= 20181231].sort_values('date')['date'].iloc[[0, -1]].values)\n",
    "game_dates_range.append(scores[(scores['date'] >= 20190101) & (scores['date'] <= 20191231)].sort_values('date')['date'].iloc[[0, -1]].values)\n",
    "game_dates_range.append(scores[(scores['date'] >= 20200101) & (scores['date'] <= 20201231)].sort_values('date')['date'].iloc[[0, -1]].values)\n",
    "game_dates_range.append(scores[(scores['date'] >= 20210101)].sort_values('date')['date'].iloc[[0, -1]].values)\n",
    "game_dates_range = np.array(game_dates_range)"
   ]
  },
  {
   "cell_type": "code",
   "execution_count": 12,
   "id": "f238206c",
   "metadata": {},
   "outputs": [],
   "source": [
    "seasons['gameStartDate'] = game_dates_range[:, 0]\n",
    "seasons['gameEndDate'] = game_dates_range[:, 1]"
   ]
  },
  {
   "cell_type": "code",
   "execution_count": 13,
   "id": "2cb7563d",
   "metadata": {},
   "outputs": [
    {
     "data": {
      "text/html": [
       "<div>\n",
       "<style scoped>\n",
       "    .dataframe tbody tr th:only-of-type {\n",
       "        vertical-align: middle;\n",
       "    }\n",
       "\n",
       "    .dataframe tbody tr th {\n",
       "        vertical-align: top;\n",
       "    }\n",
       "\n",
       "    .dataframe thead th {\n",
       "        text-align: right;\n",
       "    }\n",
       "</style>\n",
       "<table border=\"1\" class=\"dataframe\">\n",
       "  <thead>\n",
       "    <tr style=\"text-align: right;\">\n",
       "      <th></th>\n",
       "      <th>seasonId</th>\n",
       "      <th>seasonStartDate</th>\n",
       "      <th>seasonEndDate</th>\n",
       "      <th>preSeasonStartDate</th>\n",
       "      <th>preSeasonEndDate</th>\n",
       "      <th>regularSeasonStartDate</th>\n",
       "      <th>regularSeasonEndDate</th>\n",
       "      <th>lastDate1stHalf</th>\n",
       "      <th>allStarDate</th>\n",
       "      <th>firstDate2ndHalf</th>\n",
       "      <th>postSeasonStartDate</th>\n",
       "      <th>postSeasonEndDate</th>\n",
       "      <th>gameStartDate</th>\n",
       "      <th>gameEndDate</th>\n",
       "    </tr>\n",
       "  </thead>\n",
       "  <tbody>\n",
       "    <tr>\n",
       "      <th>0</th>\n",
       "      <td>2017</td>\n",
       "      <td>20170402</td>\n",
       "      <td>20171101</td>\n",
       "      <td>20170222</td>\n",
       "      <td>20170401</td>\n",
       "      <td>20170402</td>\n",
       "      <td>20171001</td>\n",
       "      <td>20170709</td>\n",
       "      <td>20170711</td>\n",
       "      <td>20170714</td>\n",
       "      <td>20171003</td>\n",
       "      <td>20171101</td>\n",
       "      <td>20170101</td>\n",
       "      <td>20171231</td>\n",
       "    </tr>\n",
       "    <tr>\n",
       "      <th>1</th>\n",
       "      <td>2018</td>\n",
       "      <td>20180329</td>\n",
       "      <td>20181028</td>\n",
       "      <td>20180221</td>\n",
       "      <td>20180327</td>\n",
       "      <td>20180329</td>\n",
       "      <td>20181001</td>\n",
       "      <td>20180715</td>\n",
       "      <td>20180717</td>\n",
       "      <td>20180719</td>\n",
       "      <td>20181002</td>\n",
       "      <td>20181028</td>\n",
       "      <td>20180329</td>\n",
       "      <td>20181028</td>\n",
       "    </tr>\n",
       "    <tr>\n",
       "      <th>2</th>\n",
       "      <td>2019</td>\n",
       "      <td>20190320</td>\n",
       "      <td>20191030</td>\n",
       "      <td>20190221</td>\n",
       "      <td>20190326</td>\n",
       "      <td>20190320</td>\n",
       "      <td>20190929</td>\n",
       "      <td>20190707</td>\n",
       "      <td>20190709</td>\n",
       "      <td>20190711</td>\n",
       "      <td>20191001</td>\n",
       "      <td>20191030</td>\n",
       "      <td>20190320</td>\n",
       "      <td>20191030</td>\n",
       "    </tr>\n",
       "    <tr>\n",
       "      <th>3</th>\n",
       "      <td>2020</td>\n",
       "      <td>20200723</td>\n",
       "      <td>20201028</td>\n",
       "      <td>20200221</td>\n",
       "      <td>20200722</td>\n",
       "      <td>20200723</td>\n",
       "      <td>20200927</td>\n",
       "      <td>20200825</td>\n",
       "      <td>0</td>\n",
       "      <td>20200826</td>\n",
       "      <td>20200929</td>\n",
       "      <td>20201028</td>\n",
       "      <td>20200723</td>\n",
       "      <td>20201027</td>\n",
       "    </tr>\n",
       "    <tr>\n",
       "      <th>4</th>\n",
       "      <td>2021</td>\n",
       "      <td>20210228</td>\n",
       "      <td>20211031</td>\n",
       "      <td>20210228</td>\n",
       "      <td>20210330</td>\n",
       "      <td>20210401</td>\n",
       "      <td>20211003</td>\n",
       "      <td>20210711</td>\n",
       "      <td>20210713</td>\n",
       "      <td>20210715</td>\n",
       "      <td>20211004</td>\n",
       "      <td>20211031</td>\n",
       "      <td>20210401</td>\n",
       "      <td>20210430</td>\n",
       "    </tr>\n",
       "  </tbody>\n",
       "</table>\n",
       "</div>"
      ],
      "text/plain": [
       "   seasonId  seasonStartDate  seasonEndDate  preSeasonStartDate  \\\n",
       "0      2017         20170402       20171101            20170222   \n",
       "1      2018         20180329       20181028            20180221   \n",
       "2      2019         20190320       20191030            20190221   \n",
       "3      2020         20200723       20201028            20200221   \n",
       "4      2021         20210228       20211031            20210228   \n",
       "\n",
       "   preSeasonEndDate  regularSeasonStartDate  regularSeasonEndDate  \\\n",
       "0          20170401                20170402              20171001   \n",
       "1          20180327                20180329              20181001   \n",
       "2          20190326                20190320              20190929   \n",
       "3          20200722                20200723              20200927   \n",
       "4          20210330                20210401              20211003   \n",
       "\n",
       "   lastDate1stHalf  allStarDate  firstDate2ndHalf  postSeasonStartDate  \\\n",
       "0         20170709     20170711          20170714             20171003   \n",
       "1         20180715     20180717          20180719             20181002   \n",
       "2         20190707     20190709          20190711             20191001   \n",
       "3         20200825            0          20200826             20200929   \n",
       "4         20210711     20210713          20210715             20211004   \n",
       "\n",
       "   postSeasonEndDate  gameStartDate  gameEndDate  \n",
       "0           20171101       20170101     20171231  \n",
       "1           20181028       20180329     20181028  \n",
       "2           20191030       20190320     20191030  \n",
       "3           20201028       20200723     20201027  \n",
       "4           20211031       20210401     20210430  "
      ]
     },
     "execution_count": 13,
     "metadata": {},
     "output_type": "execute_result"
    }
   ],
   "source": [
    "seasons"
   ]
  },
  {
   "cell_type": "code",
   "execution_count": 14,
   "id": "7db9eb4b",
   "metadata": {},
   "outputs": [],
   "source": [
    "targets_train = targets[(targets['date'] >= 20210401)]"
   ]
  },
  {
   "cell_type": "code",
   "execution_count": 15,
   "id": "52173f8c",
   "metadata": {},
   "outputs": [
    {
     "data": {
      "text/html": [
       "<div>\n",
       "<style scoped>\n",
       "    .dataframe tbody tr th:only-of-type {\n",
       "        vertical-align: middle;\n",
       "    }\n",
       "\n",
       "    .dataframe tbody tr th {\n",
       "        vertical-align: top;\n",
       "    }\n",
       "\n",
       "    .dataframe thead th {\n",
       "        text-align: right;\n",
       "    }\n",
       "</style>\n",
       "<table border=\"1\" class=\"dataframe\">\n",
       "  <thead>\n",
       "    <tr style=\"text-align: right;\">\n",
       "      <th></th>\n",
       "      <th>engagementMetricsDate</th>\n",
       "      <th>playerId</th>\n",
       "      <th>target1</th>\n",
       "      <th>target2</th>\n",
       "      <th>target3</th>\n",
       "      <th>target4</th>\n",
       "      <th>index</th>\n",
       "      <th>date</th>\n",
       "    </tr>\n",
       "  </thead>\n",
       "  <tbody>\n",
       "    <tr>\n",
       "      <th>2444346</th>\n",
       "      <td>2021-04-02</td>\n",
       "      <td>624415</td>\n",
       "      <td>2.810640</td>\n",
       "      <td>3.998462</td>\n",
       "      <td>0.136137</td>\n",
       "      <td>10.012438</td>\n",
       "      <td>1186</td>\n",
       "      <td>20210401</td>\n",
       "    </tr>\n",
       "    <tr>\n",
       "      <th>2444347</th>\n",
       "      <td>2021-04-02</td>\n",
       "      <td>656548</td>\n",
       "      <td>0.000000</td>\n",
       "      <td>0.153787</td>\n",
       "      <td>0.068889</td>\n",
       "      <td>0.062189</td>\n",
       "      <td>1186</td>\n",
       "      <td>20210401</td>\n",
       "    </tr>\n",
       "    <tr>\n",
       "      <th>2444348</th>\n",
       "      <td>2021-04-02</td>\n",
       "      <td>400284</td>\n",
       "      <td>0.000971</td>\n",
       "      <td>0.010985</td>\n",
       "      <td>0.021323</td>\n",
       "      <td>3.182007</td>\n",
       "      <td>1186</td>\n",
       "      <td>20210401</td>\n",
       "    </tr>\n",
       "    <tr>\n",
       "      <th>2444349</th>\n",
       "      <td>2021-04-02</td>\n",
       "      <td>606157</td>\n",
       "      <td>0.002736</td>\n",
       "      <td>1.642226</td>\n",
       "      <td>0.021323</td>\n",
       "      <td>0.549337</td>\n",
       "      <td>1186</td>\n",
       "      <td>20210401</td>\n",
       "    </tr>\n",
       "    <tr>\n",
       "      <th>2444350</th>\n",
       "      <td>2021-04-02</td>\n",
       "      <td>665620</td>\n",
       "      <td>0.020473</td>\n",
       "      <td>0.411929</td>\n",
       "      <td>0.549469</td>\n",
       "      <td>0.435323</td>\n",
       "      <td>1186</td>\n",
       "      <td>20210401</td>\n",
       "    </tr>\n",
       "    <tr>\n",
       "      <th>...</th>\n",
       "      <td>...</td>\n",
       "      <td>...</td>\n",
       "      <td>...</td>\n",
       "      <td>...</td>\n",
       "      <td>...</td>\n",
       "      <td>...</td>\n",
       "      <td>...</td>\n",
       "      <td>...</td>\n",
       "    </tr>\n",
       "    <tr>\n",
       "      <th>2506171</th>\n",
       "      <td>2021-05-01</td>\n",
       "      <td>451661</td>\n",
       "      <td>0.000000</td>\n",
       "      <td>0.013314</td>\n",
       "      <td>0.000000</td>\n",
       "      <td>0.625925</td>\n",
       "      <td>1215</td>\n",
       "      <td>20210430</td>\n",
       "    </tr>\n",
       "    <tr>\n",
       "      <th>2506172</th>\n",
       "      <td>2021-05-01</td>\n",
       "      <td>519301</td>\n",
       "      <td>0.000131</td>\n",
       "      <td>0.003329</td>\n",
       "      <td>0.000000</td>\n",
       "      <td>0.216229</td>\n",
       "      <td>1215</td>\n",
       "      <td>20210430</td>\n",
       "    </tr>\n",
       "    <tr>\n",
       "      <th>2506173</th>\n",
       "      <td>2021-05-01</td>\n",
       "      <td>527055</td>\n",
       "      <td>0.000000</td>\n",
       "      <td>0.019971</td>\n",
       "      <td>0.000000</td>\n",
       "      <td>0.273131</td>\n",
       "      <td>1215</td>\n",
       "      <td>20210430</td>\n",
       "    </tr>\n",
       "    <tr>\n",
       "      <th>2506174</th>\n",
       "      <td>2021-05-01</td>\n",
       "      <td>543484</td>\n",
       "      <td>0.000131</td>\n",
       "      <td>0.056586</td>\n",
       "      <td>0.000000</td>\n",
       "      <td>1.024240</td>\n",
       "      <td>1215</td>\n",
       "      <td>20210430</td>\n",
       "    </tr>\n",
       "    <tr>\n",
       "      <th>2506175</th>\n",
       "      <td>2021-05-01</td>\n",
       "      <td>605525</td>\n",
       "      <td>0.000131</td>\n",
       "      <td>0.499284</td>\n",
       "      <td>0.000000</td>\n",
       "      <td>0.386935</td>\n",
       "      <td>1215</td>\n",
       "      <td>20210430</td>\n",
       "    </tr>\n",
       "  </tbody>\n",
       "</table>\n",
       "<p>61830 rows × 8 columns</p>\n",
       "</div>"
      ],
      "text/plain": [
       "        engagementMetricsDate  playerId   target1   target2   target3  \\\n",
       "2444346            2021-04-02    624415  2.810640  3.998462  0.136137   \n",
       "2444347            2021-04-02    656548  0.000000  0.153787  0.068889   \n",
       "2444348            2021-04-02    400284  0.000971  0.010985  0.021323   \n",
       "2444349            2021-04-02    606157  0.002736  1.642226  0.021323   \n",
       "2444350            2021-04-02    665620  0.020473  0.411929  0.549469   \n",
       "...                       ...       ...       ...       ...       ...   \n",
       "2506171            2021-05-01    451661  0.000000  0.013314  0.000000   \n",
       "2506172            2021-05-01    519301  0.000131  0.003329  0.000000   \n",
       "2506173            2021-05-01    527055  0.000000  0.019971  0.000000   \n",
       "2506174            2021-05-01    543484  0.000131  0.056586  0.000000   \n",
       "2506175            2021-05-01    605525  0.000131  0.499284  0.000000   \n",
       "\n",
       "           target4  index      date  \n",
       "2444346  10.012438   1186  20210401  \n",
       "2444347   0.062189   1186  20210401  \n",
       "2444348   3.182007   1186  20210401  \n",
       "2444349   0.549337   1186  20210401  \n",
       "2444350   0.435323   1186  20210401  \n",
       "...            ...    ...       ...  \n",
       "2506171   0.625925   1215  20210430  \n",
       "2506172   0.216229   1215  20210430  \n",
       "2506173   0.273131   1215  20210430  \n",
       "2506174   1.024240   1215  20210430  \n",
       "2506175   0.386935   1215  20210430  \n",
       "\n",
       "[61830 rows x 8 columns]"
      ]
     },
     "execution_count": 15,
     "metadata": {},
     "output_type": "execute_result"
    }
   ],
   "source": [
    "targets_train"
   ]
  },
  {
   "cell_type": "code",
   "execution_count": 16,
   "id": "383f6f26",
   "metadata": {},
   "outputs": [],
   "source": [
    "playerId_list = targets_train['playerId'].unique()"
   ]
  },
  {
   "cell_type": "code",
   "execution_count": 17,
   "id": "0c9ae6ee",
   "metadata": {},
   "outputs": [],
   "source": [
    "def calc_corr(df):\n",
    "    # 相関係数行列を作成\n",
    "    corr_mat = df.corr(method='pearson')\n",
    "\n",
    "    # 行（列）サイズを取得\n",
    "    n = corr_mat.shape[0]\n",
    "    corr_ary = []\n",
    "\n",
    "    for i in range(n):\n",
    "        for j in range(i):\n",
    "            if i == j:\n",
    "                continue\n",
    "            corr_ary.append(corr_mat.iloc[i,j])\n",
    "\n",
    "    return corr_ary"
   ]
  },
  {
   "cell_type": "code",
   "execution_count": 18,
   "id": "d9fc9dc2",
   "metadata": {},
   "outputs": [
    {
     "name": "stderr",
     "output_type": "stream",
     "text": [
      "100%|██████████| 2061/2061 [00:46<00:00, 44.73it/s]\n"
     ]
    }
   ],
   "source": [
    "def calc_probs(pid,df,temp):\n",
    "    to_append=[pid,'','','','','','','','','','','','','','','','','','','','','','','','','','','','','','','','','','','','','','']\n",
    "    targets=['target1','target2','target3','target4']\n",
    "    z=1\n",
    "    for target in targets:\n",
    "        target_prob = temp[target].tolist()\n",
    "        mean = np.mean(target_prob)\n",
    "        std = np.std(target_prob)\n",
    "        median = st.median(target_prob)\n",
    "        distribution = norm(mean, std)\n",
    "        min_weight = min(target_prob)\n",
    "        max_weight = max(target_prob)\n",
    "        values = list(np.linspace(min_weight, max_weight))\n",
    "        probabilities = [distribution.pdf(v) for v in values]\n",
    "        max_value = max(probabilities)\n",
    "        max_index = probabilities.index(max_value)\n",
    "        to_append[z]=mean\n",
    "        to_append[z+1]=median\n",
    "        to_append[z+2]=std\n",
    "        to_append[z+3]=min_weight\n",
    "        to_append[z+4]=max_weight\n",
    "        to_append[z+5]=target_prob[max_index]\n",
    "        to_append[z+6]=temp[target].skew()\n",
    "        to_append[z+7]=temp[target].kurt()\n",
    "\n",
    "        z=z+8\n",
    "    corr_ = calc_corr(temp[['target1', 'target2', 'target3', 'target4']])\n",
    "    to_append[z:] = corr_  \n",
    "    df_length = len(df)\n",
    "    df.loc[df_length] = to_append\n",
    "    return df\n",
    "    \n",
    "\n",
    "### CREATE DATAFRAME to store probabilities\n",
    "column_names = [\"playerId\", \"target1_mean\",\"target1_median\",\"target1_std\",\"target1_min\",\"target1_max\",\"target1_prob\",\"target1_skew\",\"target1_kurt\",\n",
    "                \"target2_mean\",\"target2_median\",\"target2_std\",\"target2_min\",\"target2_max\",\"target2_prob\",\"target2_skew\",\"target2_kurt\",\n",
    "                \"target3_mean\",\"target3_median\",\"target3_std\",\"target3_min\",\"target3_max\",\"target3_prob\",\"target3_skew\",\"target3_kurt\",\n",
    "                \"target4_mean\",\"target4_median\",\"target4_std\",\"target4_min\",\"target4_max\",\"target4_prob\",\"target4_skew\",\"target4_kurt\",\n",
    "                'tgt1_2_corr', 'tgt1_3_corr', 'tgt2_3_corr', 'tgt1_4_corr', 'tgt2_4_corr', 'tgt3_4_corr']\n",
    "player_target_probs = pd.DataFrame(columns = column_names)\n",
    "    \n",
    "for pid in tqdm(playerId_list):\n",
    "    temp = targets_train[targets_train['playerId'] == pid]\n",
    "    player_target_stats=calc_probs(pid,player_target_probs,temp)"
   ]
  },
  {
   "cell_type": "code",
   "execution_count": 19,
   "id": "49b04de6",
   "metadata": {},
   "outputs": [
    {
     "data": {
      "text/html": [
       "<div>\n",
       "<style scoped>\n",
       "    .dataframe tbody tr th:only-of-type {\n",
       "        vertical-align: middle;\n",
       "    }\n",
       "\n",
       "    .dataframe tbody tr th {\n",
       "        vertical-align: top;\n",
       "    }\n",
       "\n",
       "    .dataframe thead th {\n",
       "        text-align: right;\n",
       "    }\n",
       "</style>\n",
       "<table border=\"1\" class=\"dataframe\">\n",
       "  <thead>\n",
       "    <tr style=\"text-align: right;\">\n",
       "      <th></th>\n",
       "      <th>playerId</th>\n",
       "      <th>target1_mean</th>\n",
       "      <th>target1_median</th>\n",
       "      <th>target1_std</th>\n",
       "      <th>target1_min</th>\n",
       "      <th>target1_max</th>\n",
       "      <th>target1_prob</th>\n",
       "      <th>target1_skew</th>\n",
       "      <th>target1_kurt</th>\n",
       "      <th>target2_mean</th>\n",
       "      <th>...</th>\n",
       "      <th>target4_max</th>\n",
       "      <th>target4_prob</th>\n",
       "      <th>target4_skew</th>\n",
       "      <th>target4_kurt</th>\n",
       "      <th>tgt1_2_corr</th>\n",
       "      <th>tgt1_3_corr</th>\n",
       "      <th>tgt2_3_corr</th>\n",
       "      <th>tgt1_4_corr</th>\n",
       "      <th>tgt2_4_corr</th>\n",
       "      <th>tgt3_4_corr</th>\n",
       "    </tr>\n",
       "  </thead>\n",
       "  <tbody>\n",
       "    <tr>\n",
       "      <th>0</th>\n",
       "      <td>624415.0</td>\n",
       "      <td>1.193031</td>\n",
       "      <td>0.489252</td>\n",
       "      <td>1.578499</td>\n",
       "      <td>0.008327</td>\n",
       "      <td>7.267988</td>\n",
       "      <td>0.785380</td>\n",
       "      <td>2.208850</td>\n",
       "      <td>6.071897</td>\n",
       "      <td>5.398585</td>\n",
       "      <td>...</td>\n",
       "      <td>26.025186</td>\n",
       "      <td>10.464387</td>\n",
       "      <td>1.695464</td>\n",
       "      <td>3.831404</td>\n",
       "      <td>0.408492</td>\n",
       "      <td>-0.009458</td>\n",
       "      <td>-0.101143</td>\n",
       "      <td>0.227373</td>\n",
       "      <td>0.694767</td>\n",
       "      <td>-0.039737</td>\n",
       "    </tr>\n",
       "    <tr>\n",
       "      <th>1</th>\n",
       "      <td>656548.0</td>\n",
       "      <td>0.110672</td>\n",
       "      <td>0.001015</td>\n",
       "      <td>0.428984</td>\n",
       "      <td>0.000000</td>\n",
       "      <td>2.392265</td>\n",
       "      <td>0.000000</td>\n",
       "      <td>5.272732</td>\n",
       "      <td>28.385845</td>\n",
       "      <td>0.445853</td>\n",
       "      <td>...</td>\n",
       "      <td>0.423573</td>\n",
       "      <td>0.032978</td>\n",
       "      <td>1.294196</td>\n",
       "      <td>1.140084</td>\n",
       "      <td>0.566411</td>\n",
       "      <td>0.588373</td>\n",
       "      <td>0.527886</td>\n",
       "      <td>0.231260</td>\n",
       "      <td>0.525065</td>\n",
       "      <td>0.132559</td>\n",
       "    </tr>\n",
       "    <tr>\n",
       "      <th>2</th>\n",
       "      <td>400284.0</td>\n",
       "      <td>0.001807</td>\n",
       "      <td>0.001301</td>\n",
       "      <td>0.001164</td>\n",
       "      <td>0.000437</td>\n",
       "      <td>0.004770</td>\n",
       "      <td>0.001127</td>\n",
       "      <td>1.155729</td>\n",
       "      <td>0.582752</td>\n",
       "      <td>0.073071</td>\n",
       "      <td>...</td>\n",
       "      <td>8.909871</td>\n",
       "      <td>7.882136</td>\n",
       "      <td>0.388255</td>\n",
       "      <td>-0.703079</td>\n",
       "      <td>0.102451</td>\n",
       "      <td>0.429495</td>\n",
       "      <td>0.046450</td>\n",
       "      <td>0.006606</td>\n",
       "      <td>0.277479</td>\n",
       "      <td>-0.016683</td>\n",
       "    </tr>\n",
       "    <tr>\n",
       "      <th>3</th>\n",
       "      <td>606157.0</td>\n",
       "      <td>0.748247</td>\n",
       "      <td>0.024461</td>\n",
       "      <td>1.318711</td>\n",
       "      <td>0.002736</td>\n",
       "      <td>4.840508</td>\n",
       "      <td>0.548613</td>\n",
       "      <td>2.003263</td>\n",
       "      <td>3.235374</td>\n",
       "      <td>2.027612</td>\n",
       "      <td>...</td>\n",
       "      <td>3.931330</td>\n",
       "      <td>0.231750</td>\n",
       "      <td>2.053818</td>\n",
       "      <td>4.653597</td>\n",
       "      <td>0.641382</td>\n",
       "      <td>0.093253</td>\n",
       "      <td>-0.002014</td>\n",
       "      <td>0.404372</td>\n",
       "      <td>0.626199</td>\n",
       "      <td>0.249109</td>\n",
       "    </tr>\n",
       "    <tr>\n",
       "      <th>4</th>\n",
       "      <td>665620.0</td>\n",
       "      <td>0.483331</td>\n",
       "      <td>0.020388</td>\n",
       "      <td>1.415708</td>\n",
       "      <td>0.004932</td>\n",
       "      <td>6.322554</td>\n",
       "      <td>0.128698</td>\n",
       "      <td>3.507992</td>\n",
       "      <td>11.893073</td>\n",
       "      <td>1.913634</td>\n",
       "      <td>...</td>\n",
       "      <td>8.474798</td>\n",
       "      <td>0.314951</td>\n",
       "      <td>4.910653</td>\n",
       "      <td>25.637658</td>\n",
       "      <td>0.807310</td>\n",
       "      <td>0.810125</td>\n",
       "      <td>0.965737</td>\n",
       "      <td>0.778467</td>\n",
       "      <td>0.954381</td>\n",
       "      <td>0.959152</td>\n",
       "    </tr>\n",
       "    <tr>\n",
       "      <th>...</th>\n",
       "      <td>...</td>\n",
       "      <td>...</td>\n",
       "      <td>...</td>\n",
       "      <td>...</td>\n",
       "      <td>...</td>\n",
       "      <td>...</td>\n",
       "      <td>...</td>\n",
       "      <td>...</td>\n",
       "      <td>...</td>\n",
       "      <td>...</td>\n",
       "      <td>...</td>\n",
       "      <td>...</td>\n",
       "      <td>...</td>\n",
       "      <td>...</td>\n",
       "      <td>...</td>\n",
       "      <td>...</td>\n",
       "      <td>...</td>\n",
       "      <td>...</td>\n",
       "      <td>...</td>\n",
       "      <td>...</td>\n",
       "      <td>...</td>\n",
       "    </tr>\n",
       "    <tr>\n",
       "      <th>2056</th>\n",
       "      <td>621350.0</td>\n",
       "      <td>0.000020</td>\n",
       "      <td>0.000000</td>\n",
       "      <td>0.000051</td>\n",
       "      <td>0.000000</td>\n",
       "      <td>0.000175</td>\n",
       "      <td>0.000175</td>\n",
       "      <td>2.331868</td>\n",
       "      <td>3.822563</td>\n",
       "      <td>0.007298</td>\n",
       "      <td>...</td>\n",
       "      <td>0.206009</td>\n",
       "      <td>0.017662</td>\n",
       "      <td>0.992179</td>\n",
       "      <td>0.627281</td>\n",
       "      <td>0.278321</td>\n",
       "      <td>NaN</td>\n",
       "      <td>NaN</td>\n",
       "      <td>-0.041837</td>\n",
       "      <td>0.060094</td>\n",
       "      <td>NaN</td>\n",
       "    </tr>\n",
       "    <tr>\n",
       "      <th>2057</th>\n",
       "      <td>665759.0</td>\n",
       "      <td>0.000095</td>\n",
       "      <td>0.000000</td>\n",
       "      <td>0.000174</td>\n",
       "      <td>0.000000</td>\n",
       "      <td>0.000701</td>\n",
       "      <td>0.000000</td>\n",
       "      <td>2.033176</td>\n",
       "      <td>3.899046</td>\n",
       "      <td>0.238824</td>\n",
       "      <td>...</td>\n",
       "      <td>0.332631</td>\n",
       "      <td>0.019864</td>\n",
       "      <td>2.366135</td>\n",
       "      <td>7.230272</td>\n",
       "      <td>0.676003</td>\n",
       "      <td>NaN</td>\n",
       "      <td>NaN</td>\n",
       "      <td>0.678376</td>\n",
       "      <td>0.848313</td>\n",
       "      <td>NaN</td>\n",
       "    </tr>\n",
       "    <tr>\n",
       "      <th>2058</th>\n",
       "      <td>448178.0</td>\n",
       "      <td>0.000020</td>\n",
       "      <td>0.000000</td>\n",
       "      <td>0.000052</td>\n",
       "      <td>0.000000</td>\n",
       "      <td>0.000174</td>\n",
       "      <td>0.000000</td>\n",
       "      <td>2.345681</td>\n",
       "      <td>3.902834</td>\n",
       "      <td>0.005605</td>\n",
       "      <td>...</td>\n",
       "      <td>0.350299</td>\n",
       "      <td>0.188265</td>\n",
       "      <td>2.416382</td>\n",
       "      <td>8.149779</td>\n",
       "      <td>-0.053275</td>\n",
       "      <td>-0.134373</td>\n",
       "      <td>-0.260662</td>\n",
       "      <td>-0.106479</td>\n",
       "      <td>-0.172380</td>\n",
       "      <td>-0.078929</td>\n",
       "    </tr>\n",
       "    <tr>\n",
       "      <th>2059</th>\n",
       "      <td>488681.0</td>\n",
       "      <td>0.000074</td>\n",
       "      <td>0.000000</td>\n",
       "      <td>0.000142</td>\n",
       "      <td>0.000000</td>\n",
       "      <td>0.000506</td>\n",
       "      <td>0.000000</td>\n",
       "      <td>2.153297</td>\n",
       "      <td>3.865929</td>\n",
       "      <td>0.012644</td>\n",
       "      <td>...</td>\n",
       "      <td>0.453328</td>\n",
       "      <td>0.075379</td>\n",
       "      <td>1.055577</td>\n",
       "      <td>1.166366</td>\n",
       "      <td>-0.114731</td>\n",
       "      <td>0.364257</td>\n",
       "      <td>0.095866</td>\n",
       "      <td>0.216720</td>\n",
       "      <td>0.301329</td>\n",
       "      <td>0.054098</td>\n",
       "    </tr>\n",
       "    <tr>\n",
       "      <th>2060</th>\n",
       "      <td>573668.0</td>\n",
       "      <td>0.000040</td>\n",
       "      <td>0.000000</td>\n",
       "      <td>0.000124</td>\n",
       "      <td>0.000000</td>\n",
       "      <td>0.000487</td>\n",
       "      <td>0.000000</td>\n",
       "      <td>2.994696</td>\n",
       "      <td>7.845999</td>\n",
       "      <td>0.019460</td>\n",
       "      <td>...</td>\n",
       "      <td>0.147330</td>\n",
       "      <td>0.037690</td>\n",
       "      <td>1.431351</td>\n",
       "      <td>2.157415</td>\n",
       "      <td>0.245327</td>\n",
       "      <td>0.148543</td>\n",
       "      <td>-0.047421</td>\n",
       "      <td>0.184882</td>\n",
       "      <td>0.245377</td>\n",
       "      <td>-0.155625</td>\n",
       "    </tr>\n",
       "  </tbody>\n",
       "</table>\n",
       "<p>2061 rows × 39 columns</p>\n",
       "</div>"
      ],
      "text/plain": [
       "      playerId  target1_mean  target1_median  target1_std  target1_min  \\\n",
       "0     624415.0      1.193031        0.489252     1.578499     0.008327   \n",
       "1     656548.0      0.110672        0.001015     0.428984     0.000000   \n",
       "2     400284.0      0.001807        0.001301     0.001164     0.000437   \n",
       "3     606157.0      0.748247        0.024461     1.318711     0.002736   \n",
       "4     665620.0      0.483331        0.020388     1.415708     0.004932   \n",
       "...        ...           ...             ...          ...          ...   \n",
       "2056  621350.0      0.000020        0.000000     0.000051     0.000000   \n",
       "2057  665759.0      0.000095        0.000000     0.000174     0.000000   \n",
       "2058  448178.0      0.000020        0.000000     0.000052     0.000000   \n",
       "2059  488681.0      0.000074        0.000000     0.000142     0.000000   \n",
       "2060  573668.0      0.000040        0.000000     0.000124     0.000000   \n",
       "\n",
       "      target1_max  target1_prob  target1_skew  target1_kurt  target2_mean  \\\n",
       "0        7.267988      0.785380      2.208850      6.071897      5.398585   \n",
       "1        2.392265      0.000000      5.272732     28.385845      0.445853   \n",
       "2        0.004770      0.001127      1.155729      0.582752      0.073071   \n",
       "3        4.840508      0.548613      2.003263      3.235374      2.027612   \n",
       "4        6.322554      0.128698      3.507992     11.893073      1.913634   \n",
       "...           ...           ...           ...           ...           ...   \n",
       "2056     0.000175      0.000175      2.331868      3.822563      0.007298   \n",
       "2057     0.000701      0.000000      2.033176      3.899046      0.238824   \n",
       "2058     0.000174      0.000000      2.345681      3.902834      0.005605   \n",
       "2059     0.000506      0.000000      2.153297      3.865929      0.012644   \n",
       "2060     0.000487      0.000000      2.994696      7.845999      0.019460   \n",
       "\n",
       "      ...  target4_max  target4_prob  target4_skew  target4_kurt  tgt1_2_corr  \\\n",
       "0     ...    26.025186     10.464387      1.695464      3.831404     0.408492   \n",
       "1     ...     0.423573      0.032978      1.294196      1.140084     0.566411   \n",
       "2     ...     8.909871      7.882136      0.388255     -0.703079     0.102451   \n",
       "3     ...     3.931330      0.231750      2.053818      4.653597     0.641382   \n",
       "4     ...     8.474798      0.314951      4.910653     25.637658     0.807310   \n",
       "...   ...          ...           ...           ...           ...          ...   \n",
       "2056  ...     0.206009      0.017662      0.992179      0.627281     0.278321   \n",
       "2057  ...     0.332631      0.019864      2.366135      7.230272     0.676003   \n",
       "2058  ...     0.350299      0.188265      2.416382      8.149779    -0.053275   \n",
       "2059  ...     0.453328      0.075379      1.055577      1.166366    -0.114731   \n",
       "2060  ...     0.147330      0.037690      1.431351      2.157415     0.245327   \n",
       "\n",
       "      tgt1_3_corr  tgt2_3_corr  tgt1_4_corr  tgt2_4_corr  tgt3_4_corr  \n",
       "0       -0.009458    -0.101143     0.227373     0.694767    -0.039737  \n",
       "1        0.588373     0.527886     0.231260     0.525065     0.132559  \n",
       "2        0.429495     0.046450     0.006606     0.277479    -0.016683  \n",
       "3        0.093253    -0.002014     0.404372     0.626199     0.249109  \n",
       "4        0.810125     0.965737     0.778467     0.954381     0.959152  \n",
       "...           ...          ...          ...          ...          ...  \n",
       "2056          NaN          NaN    -0.041837     0.060094          NaN  \n",
       "2057          NaN          NaN     0.678376     0.848313          NaN  \n",
       "2058    -0.134373    -0.260662    -0.106479    -0.172380    -0.078929  \n",
       "2059     0.364257     0.095866     0.216720     0.301329     0.054098  \n",
       "2060     0.148543    -0.047421     0.184882     0.245377    -0.155625  \n",
       "\n",
       "[2061 rows x 39 columns]"
      ]
     },
     "execution_count": 19,
     "metadata": {},
     "output_type": "execute_result"
    }
   ],
   "source": [
    "player_target_stats"
   ]
  },
  {
   "cell_type": "code",
   "execution_count": 20,
   "id": "da81221a",
   "metadata": {},
   "outputs": [],
   "source": [
    "data_names=player_target_stats.columns.values.tolist()"
   ]
  },
  {
   "cell_type": "code",
   "execution_count": 21,
   "id": "841c455a",
   "metadata": {},
   "outputs": [],
   "source": [
    "players['DOY'] = pd.to_datetime(players['DOB'], format=\"%Y-%m-%d\").dt.year\n",
    "players['mlbDebutYear'] = pd.to_datetime(players['mlbDebutDate'], format=\"%Y-%m-%d\").dt.year\n",
    "players['DebutAge'] = players['mlbDebutYear'] - players['DOY']"
   ]
  },
  {
   "cell_type": "code",
   "execution_count": 22,
   "id": "a0d116bc",
   "metadata": {},
   "outputs": [],
   "source": [
    "# creat dataset\n",
    "train = targets[targets_cols].merge(players[players_cols], on=['playerId'], how='left')\n",
    "train = train.merge(rosters[rosters_cols], on=['playerId', 'date'], how='left')\n",
    "train = train.merge(scores[scores_cols], on=['playerId', 'date'], how='left')\n",
    "train = train.merge(player_target_stats, how='inner', left_on=[\"playerId\"],right_on=[\"playerId\"])\n"
   ]
  },
  {
   "cell_type": "code",
   "execution_count": 23,
   "id": "c198595c",
   "metadata": {},
   "outputs": [],
   "source": [
    "# label encoding\n",
    "player2num = {c: i for i, c in enumerate(train['playerId'].unique())}\n",
    "position2num = {c: i for i, c in enumerate(train['primaryPositionName'].unique())}\n",
    "birthCityn2num = {c: i for i, c in enumerate(train['birthCity'].unique())}\n",
    "teamid2num = {c: i for i, c in enumerate(train['teamId'].unique())}\n",
    "status2num = {c: i for i, c in enumerate(train['status'].unique())}\n",
    "train['label_playerId'] = train['playerId'].map(player2num)\n",
    "train['label_primaryPositionName'] = train['primaryPositionName'].map(position2num)\n",
    "train['label_birthCity'] = train['birthCity'].map(birthCityn2num)\n",
    "train['label_teamId'] = train['teamId'].map(teamid2num)\n",
    "train['label_status'] = train['status'].map(status2num)"
   ]
  },
  {
   "cell_type": "code",
   "execution_count": 24,
   "id": "2e900d92",
   "metadata": {},
   "outputs": [],
   "source": [
    "date_ = pd.to_datetime(train['date'], format=\"%Y%m%d\")\n",
    "train['annual_day'] = (date_ - pd.to_datetime(date_.dt.year, format=\"%Y\")) /  timedelta(days=1)\n",
    "train['week_day'] = date_.dt.weekday\n",
    "train['month'] = date_.dt.month"
   ]
  },
  {
   "cell_type": "code",
   "execution_count": 25,
   "id": "c7cc1f6f",
   "metadata": {},
   "outputs": [],
   "source": [
    "train['gameday'] = ~train['battingOrder'].isna()*1"
   ]
  },
  {
   "cell_type": "code",
   "execution_count": 26,
   "id": "397997d6",
   "metadata": {},
   "outputs": [],
   "source": [
    "train.sort_values(by=['playerId','date'],inplace=True,ascending=True)"
   ]
  },
  {
   "cell_type": "code",
   "execution_count": 27,
   "id": "73598e0e",
   "metadata": {},
   "outputs": [],
   "source": [
    "def count_consecutive_items_n_cols(df, col_name_list, output_col):\n",
    "    cum_sum_list = [\n",
    "        (df[col_name] != df[col_name].shift(1)).cumsum().tolist() for col_name in col_name_list\n",
    "    ]\n",
    "    df[output_col] = df.groupby(\n",
    "        [\"_\".join(map(str, x)) for x in zip(*cum_sum_list)]\n",
    "    ).cumcount() + 1\n",
    "    return df"
   ]
  },
  {
   "cell_type": "code",
   "execution_count": 28,
   "id": "57f3eff1",
   "metadata": {},
   "outputs": [],
   "source": [
    "train=count_consecutive_items_n_cols(train,['playerId','gameday'],'daysSinceLastGame')\n",
    "train.loc[train['gameday']==1,'daysSinceLastGame']=0"
   ]
  },
  {
   "cell_type": "code",
   "execution_count": 29,
   "id": "773944a4",
   "metadata": {},
   "outputs": [],
   "source": [
    "train_game = train[train['gameday']==1]\n",
    "train_last_game = train_game[~train_game.duplicated(subset='playerId', keep='last')][['playerId', 'date']]\n",
    "train_last_game.columns = ['playerId', 'lastdate']\n",
    "train_player_unique = pd.DataFrame(train['playerId'].unique(), columns=['playerId'])\n",
    "train_last_game = pd.merge(train_player_unique, train_last_game, on=['playerId'], how='left' )\n",
    "train_last_game = train_last_game.fillna(20171231)"
   ]
  },
  {
   "cell_type": "code",
   "execution_count": 30,
   "id": "2fcf7385",
   "metadata": {},
   "outputs": [
    {
     "data": {
      "text/html": [
       "<div>\n",
       "<style scoped>\n",
       "    .dataframe tbody tr th:only-of-type {\n",
       "        vertical-align: middle;\n",
       "    }\n",
       "\n",
       "    .dataframe tbody tr th {\n",
       "        vertical-align: top;\n",
       "    }\n",
       "\n",
       "    .dataframe thead th {\n",
       "        text-align: right;\n",
       "    }\n",
       "</style>\n",
       "<table border=\"1\" class=\"dataframe\">\n",
       "  <thead>\n",
       "    <tr style=\"text-align: right;\">\n",
       "      <th></th>\n",
       "      <th>playerId</th>\n",
       "      <th>lastdate</th>\n",
       "    </tr>\n",
       "  </thead>\n",
       "  <tbody>\n",
       "    <tr>\n",
       "      <th>856</th>\n",
       "      <td>593590</td>\n",
       "      <td>20171231.0</td>\n",
       "    </tr>\n",
       "    <tr>\n",
       "      <th>1995</th>\n",
       "      <td>670462</td>\n",
       "      <td>20171231.0</td>\n",
       "    </tr>\n",
       "    <tr>\n",
       "      <th>2000</th>\n",
       "      <td>670764</td>\n",
       "      <td>20171231.0</td>\n",
       "    </tr>\n",
       "    <tr>\n",
       "      <th>1765</th>\n",
       "      <td>661269</td>\n",
       "      <td>20171231.0</td>\n",
       "    </tr>\n",
       "    <tr>\n",
       "      <th>1932</th>\n",
       "      <td>667674</td>\n",
       "      <td>20171231.0</td>\n",
       "    </tr>\n",
       "    <tr>\n",
       "      <th>...</th>\n",
       "      <td>...</td>\n",
       "      <td>...</td>\n",
       "    </tr>\n",
       "    <tr>\n",
       "      <th>473</th>\n",
       "      <td>542932</td>\n",
       "      <td>20210430.0</td>\n",
       "    </tr>\n",
       "    <tr>\n",
       "      <th>1480</th>\n",
       "      <td>641856</td>\n",
       "      <td>20210430.0</td>\n",
       "    </tr>\n",
       "    <tr>\n",
       "      <th>1481</th>\n",
       "      <td>641857</td>\n",
       "      <td>20210430.0</td>\n",
       "    </tr>\n",
       "    <tr>\n",
       "      <th>483</th>\n",
       "      <td>543037</td>\n",
       "      <td>20210430.0</td>\n",
       "    </tr>\n",
       "    <tr>\n",
       "      <th>2060</th>\n",
       "      <td>685503</td>\n",
       "      <td>20210430.0</td>\n",
       "    </tr>\n",
       "  </tbody>\n",
       "</table>\n",
       "<p>2061 rows × 2 columns</p>\n",
       "</div>"
      ],
      "text/plain": [
       "      playerId    lastdate\n",
       "856     593590  20171231.0\n",
       "1995    670462  20171231.0\n",
       "2000    670764  20171231.0\n",
       "1765    661269  20171231.0\n",
       "1932    667674  20171231.0\n",
       "...        ...         ...\n",
       "473     542932  20210430.0\n",
       "1480    641856  20210430.0\n",
       "1481    641857  20210430.0\n",
       "483     543037  20210430.0\n",
       "2060    685503  20210430.0\n",
       "\n",
       "[2061 rows x 2 columns]"
      ]
     },
     "execution_count": 30,
     "metadata": {},
     "output_type": "execute_result"
    }
   ],
   "source": [
    "train_last_game.sort_values('lastdate')"
   ]
  },
  {
   "cell_type": "code",
   "execution_count": 31,
   "id": "e8fa9d00",
   "metadata": {},
   "outputs": [],
   "source": [
    "def extract_season(date_raw, season_start_end):\n",
    "    idxes = 0\n",
    "    for raw in season_start_end.iloc():\n",
    "        idx_ = ((date_raw >= raw.iloc[0]) & (date_raw <= raw.iloc[1])) * 1\n",
    "        idxes += idx_\n",
    "    return idxes"
   ]
  },
  {
   "cell_type": "code",
   "execution_count": 32,
   "id": "e96ab4b2",
   "metadata": {},
   "outputs": [],
   "source": [
    "on_preseason_idxes = extract_season(train['date'], seasons[['preSeasonStartDate', 'preSeasonEndDate']])\n",
    "on_season_idxes = extract_season(train['date'], seasons[['regularSeasonStartDate', 'regularSeasonEndDate']]) * 2\n",
    "on_postseason_idxes = extract_season(train['date'], seasons[['postSeasonStartDate', 'postSeasonEndDate']]) * 3\n",
    "\n",
    "special_days = seasons['lastDate1stHalf'].to_list() + seasons['allStarDate'].to_list() + seasons['firstDate2ndHalf'].to_list()\n",
    "special_idxes = 0\n",
    "for day in special_days:\n",
    "    special_idxes += (train['date'] == day) * 4\n",
    "\n",
    "on_total_season_idxes = on_preseason_idxes\n",
    "on_total_season_idxes[on_season_idxes==2] = 2\n",
    "on_total_season_idxes[on_postseason_idxes==3] = 3\n",
    "on_total_season_idxes[special_idxes==4] = 4\n",
    "\n",
    "train['season_info'] = on_total_season_idxes"
   ]
  },
  {
   "cell_type": "code",
   "execution_count": 33,
   "id": "39e4df30",
   "metadata": {},
   "outputs": [],
   "source": [
    "## only on season\n",
    "on_whole_idxes = extract_season(train['date'], seasons[['seasonStartDate', 'seasonEndDate']])\n",
    "train = train[on_whole_idxes == 1].reset_index(drop=True)"
   ]
  },
  {
   "cell_type": "code",
   "execution_count": 34,
   "id": "8479d235",
   "metadata": {},
   "outputs": [],
   "source": [
    "# train = train[train['playerForTestSetAndFuturePreds']==True].reset_index(drop=True)"
   ]
  },
  {
   "cell_type": "code",
   "execution_count": 35,
   "id": "21557bdd",
   "metadata": {},
   "outputs": [
    {
     "data": {
      "text/html": [
       "<div>\n",
       "<style scoped>\n",
       "    .dataframe tbody tr th:only-of-type {\n",
       "        vertical-align: middle;\n",
       "    }\n",
       "\n",
       "    .dataframe tbody tr th {\n",
       "        vertical-align: top;\n",
       "    }\n",
       "\n",
       "    .dataframe thead th {\n",
       "        text-align: right;\n",
       "    }\n",
       "</style>\n",
       "<table border=\"1\" class=\"dataframe\">\n",
       "  <thead>\n",
       "    <tr style=\"text-align: right;\">\n",
       "      <th></th>\n",
       "      <th>playerId</th>\n",
       "      <th>target1</th>\n",
       "      <th>target2</th>\n",
       "      <th>target3</th>\n",
       "      <th>target4</th>\n",
       "      <th>date</th>\n",
       "      <th>primaryPositionName</th>\n",
       "      <th>birthCity</th>\n",
       "      <th>DOY</th>\n",
       "      <th>mlbDebutYear</th>\n",
       "      <th>...</th>\n",
       "      <th>label_primaryPositionName</th>\n",
       "      <th>label_birthCity</th>\n",
       "      <th>label_teamId</th>\n",
       "      <th>label_status</th>\n",
       "      <th>annual_day</th>\n",
       "      <th>week_day</th>\n",
       "      <th>month</th>\n",
       "      <th>gameday</th>\n",
       "      <th>daysSinceLastGame</th>\n",
       "      <th>season_info</th>\n",
       "    </tr>\n",
       "  </thead>\n",
       "  <tbody>\n",
       "    <tr>\n",
       "      <th>0</th>\n",
       "      <td>112526</td>\n",
       "      <td>0.031761</td>\n",
       "      <td>2.731418</td>\n",
       "      <td>0.388556</td>\n",
       "      <td>6.349412</td>\n",
       "      <td>20180329</td>\n",
       "      <td>Pitcher</td>\n",
       "      <td>Altamira</td>\n",
       "      <td>1973</td>\n",
       "      <td>1997.0</td>\n",
       "      <td>...</td>\n",
       "      <td>0</td>\n",
       "      <td>588</td>\n",
       "      <td>1</td>\n",
       "      <td>3</td>\n",
       "      <td>87.0</td>\n",
       "      <td>3</td>\n",
       "      <td>3</td>\n",
       "      <td>0</td>\n",
       "      <td>88</td>\n",
       "      <td>2</td>\n",
       "    </tr>\n",
       "    <tr>\n",
       "      <th>1</th>\n",
       "      <td>112526</td>\n",
       "      <td>0.025906</td>\n",
       "      <td>4.622162</td>\n",
       "      <td>0.408017</td>\n",
       "      <td>11.508375</td>\n",
       "      <td>20180330</td>\n",
       "      <td>Pitcher</td>\n",
       "      <td>Altamira</td>\n",
       "      <td>1973</td>\n",
       "      <td>1997.0</td>\n",
       "      <td>...</td>\n",
       "      <td>0</td>\n",
       "      <td>588</td>\n",
       "      <td>1</td>\n",
       "      <td>3</td>\n",
       "      <td>88.0</td>\n",
       "      <td>4</td>\n",
       "      <td>3</td>\n",
       "      <td>0</td>\n",
       "      <td>89</td>\n",
       "      <td>2</td>\n",
       "    </tr>\n",
       "    <tr>\n",
       "      <th>2</th>\n",
       "      <td>112526</td>\n",
       "      <td>0.053185</td>\n",
       "      <td>4.767842</td>\n",
       "      <td>0.275408</td>\n",
       "      <td>14.600851</td>\n",
       "      <td>20180331</td>\n",
       "      <td>Pitcher</td>\n",
       "      <td>Altamira</td>\n",
       "      <td>1973</td>\n",
       "      <td>1997.0</td>\n",
       "      <td>...</td>\n",
       "      <td>0</td>\n",
       "      <td>588</td>\n",
       "      <td>1</td>\n",
       "      <td>3</td>\n",
       "      <td>89.0</td>\n",
       "      <td>5</td>\n",
       "      <td>3</td>\n",
       "      <td>0</td>\n",
       "      <td>90</td>\n",
       "      <td>2</td>\n",
       "    </tr>\n",
       "    <tr>\n",
       "      <th>3</th>\n",
       "      <td>112526</td>\n",
       "      <td>0.771100</td>\n",
       "      <td>63.601677</td>\n",
       "      <td>7.566316</td>\n",
       "      <td>100.000000</td>\n",
       "      <td>20180401</td>\n",
       "      <td>Pitcher</td>\n",
       "      <td>Altamira</td>\n",
       "      <td>1973</td>\n",
       "      <td>1997.0</td>\n",
       "      <td>...</td>\n",
       "      <td>0</td>\n",
       "      <td>588</td>\n",
       "      <td>1</td>\n",
       "      <td>3</td>\n",
       "      <td>90.0</td>\n",
       "      <td>6</td>\n",
       "      <td>4</td>\n",
       "      <td>0</td>\n",
       "      <td>91</td>\n",
       "      <td>2</td>\n",
       "    </tr>\n",
       "    <tr>\n",
       "      <th>4</th>\n",
       "      <td>112526</td>\n",
       "      <td>5.957846</td>\n",
       "      <td>22.427930</td>\n",
       "      <td>33.900803</td>\n",
       "      <td>38.857939</td>\n",
       "      <td>20180402</td>\n",
       "      <td>Pitcher</td>\n",
       "      <td>Altamira</td>\n",
       "      <td>1973</td>\n",
       "      <td>1997.0</td>\n",
       "      <td>...</td>\n",
       "      <td>0</td>\n",
       "      <td>588</td>\n",
       "      <td>7</td>\n",
       "      <td>0</td>\n",
       "      <td>91.0</td>\n",
       "      <td>0</td>\n",
       "      <td>4</td>\n",
       "      <td>1</td>\n",
       "      <td>0</td>\n",
       "      <td>2</td>\n",
       "    </tr>\n",
       "    <tr>\n",
       "      <th>...</th>\n",
       "      <td>...</td>\n",
       "      <td>...</td>\n",
       "      <td>...</td>\n",
       "      <td>...</td>\n",
       "      <td>...</td>\n",
       "      <td>...</td>\n",
       "      <td>...</td>\n",
       "      <td>...</td>\n",
       "      <td>...</td>\n",
       "      <td>...</td>\n",
       "      <td>...</td>\n",
       "      <td>...</td>\n",
       "      <td>...</td>\n",
       "      <td>...</td>\n",
       "      <td>...</td>\n",
       "      <td>...</td>\n",
       "      <td>...</td>\n",
       "      <td>...</td>\n",
       "      <td>...</td>\n",
       "      <td>...</td>\n",
       "      <td>...</td>\n",
       "    </tr>\n",
       "    <tr>\n",
       "      <th>1234534</th>\n",
       "      <td>685503</td>\n",
       "      <td>0.044617</td>\n",
       "      <td>1.224728</td>\n",
       "      <td>0.009437</td>\n",
       "      <td>0.737463</td>\n",
       "      <td>20210426</td>\n",
       "      <td>Pitcher</td>\n",
       "      <td>Hiroshima</td>\n",
       "      <td>1992</td>\n",
       "      <td>2021.0</td>\n",
       "      <td>...</td>\n",
       "      <td>0</td>\n",
       "      <td>902</td>\n",
       "      <td>7</td>\n",
       "      <td>0</td>\n",
       "      <td>115.0</td>\n",
       "      <td>0</td>\n",
       "      <td>4</td>\n",
       "      <td>0</td>\n",
       "      <td>1</td>\n",
       "      <td>2</td>\n",
       "    </tr>\n",
       "    <tr>\n",
       "      <th>1234535</th>\n",
       "      <td>685503</td>\n",
       "      <td>0.019123</td>\n",
       "      <td>1.178880</td>\n",
       "      <td>0.013161</td>\n",
       "      <td>0.790301</td>\n",
       "      <td>20210427</td>\n",
       "      <td>Pitcher</td>\n",
       "      <td>Hiroshima</td>\n",
       "      <td>1992</td>\n",
       "      <td>2021.0</td>\n",
       "      <td>...</td>\n",
       "      <td>0</td>\n",
       "      <td>902</td>\n",
       "      <td>7</td>\n",
       "      <td>0</td>\n",
       "      <td>116.0</td>\n",
       "      <td>1</td>\n",
       "      <td>4</td>\n",
       "      <td>0</td>\n",
       "      <td>2</td>\n",
       "      <td>2</td>\n",
       "    </tr>\n",
       "    <tr>\n",
       "      <th>1234536</th>\n",
       "      <td>685503</td>\n",
       "      <td>0.015799</td>\n",
       "      <td>4.323489</td>\n",
       "      <td>0.002350</td>\n",
       "      <td>0.970273</td>\n",
       "      <td>20210428</td>\n",
       "      <td>Pitcher</td>\n",
       "      <td>Hiroshima</td>\n",
       "      <td>1992</td>\n",
       "      <td>2021.0</td>\n",
       "      <td>...</td>\n",
       "      <td>0</td>\n",
       "      <td>902</td>\n",
       "      <td>7</td>\n",
       "      <td>0</td>\n",
       "      <td>117.0</td>\n",
       "      <td>2</td>\n",
       "      <td>4</td>\n",
       "      <td>0</td>\n",
       "      <td>3</td>\n",
       "      <td>2</td>\n",
       "    </tr>\n",
       "    <tr>\n",
       "      <th>1234537</th>\n",
       "      <td>685503</td>\n",
       "      <td>0.018770</td>\n",
       "      <td>31.946021</td>\n",
       "      <td>0.305491</td>\n",
       "      <td>5.938273</td>\n",
       "      <td>20210429</td>\n",
       "      <td>Pitcher</td>\n",
       "      <td>Hiroshima</td>\n",
       "      <td>1992</td>\n",
       "      <td>2021.0</td>\n",
       "      <td>...</td>\n",
       "      <td>0</td>\n",
       "      <td>902</td>\n",
       "      <td>7</td>\n",
       "      <td>0</td>\n",
       "      <td>118.0</td>\n",
       "      <td>3</td>\n",
       "      <td>4</td>\n",
       "      <td>0</td>\n",
       "      <td>4</td>\n",
       "      <td>2</td>\n",
       "    </tr>\n",
       "    <tr>\n",
       "      <th>1234538</th>\n",
       "      <td>685503</td>\n",
       "      <td>0.014727</td>\n",
       "      <td>6.607196</td>\n",
       "      <td>1.851336</td>\n",
       "      <td>2.014339</td>\n",
       "      <td>20210430</td>\n",
       "      <td>Pitcher</td>\n",
       "      <td>Hiroshima</td>\n",
       "      <td>1992</td>\n",
       "      <td>2021.0</td>\n",
       "      <td>...</td>\n",
       "      <td>0</td>\n",
       "      <td>902</td>\n",
       "      <td>7</td>\n",
       "      <td>0</td>\n",
       "      <td>119.0</td>\n",
       "      <td>4</td>\n",
       "      <td>4</td>\n",
       "      <td>1</td>\n",
       "      <td>0</td>\n",
       "      <td>2</td>\n",
       "    </tr>\n",
       "  </tbody>\n",
       "</table>\n",
       "<p>1234539 rows × 137 columns</p>\n",
       "</div>"
      ],
      "text/plain": [
       "         playerId   target1    target2    target3     target4      date  \\\n",
       "0          112526  0.031761   2.731418   0.388556    6.349412  20180329   \n",
       "1          112526  0.025906   4.622162   0.408017   11.508375  20180330   \n",
       "2          112526  0.053185   4.767842   0.275408   14.600851  20180331   \n",
       "3          112526  0.771100  63.601677   7.566316  100.000000  20180401   \n",
       "4          112526  5.957846  22.427930  33.900803   38.857939  20180402   \n",
       "...           ...       ...        ...        ...         ...       ...   \n",
       "1234534    685503  0.044617   1.224728   0.009437    0.737463  20210426   \n",
       "1234535    685503  0.019123   1.178880   0.013161    0.790301  20210427   \n",
       "1234536    685503  0.015799   4.323489   0.002350    0.970273  20210428   \n",
       "1234537    685503  0.018770  31.946021   0.305491    5.938273  20210429   \n",
       "1234538    685503  0.014727   6.607196   1.851336    2.014339  20210430   \n",
       "\n",
       "        primaryPositionName  birthCity   DOY  mlbDebutYear  ...  \\\n",
       "0                   Pitcher   Altamira  1973        1997.0  ...   \n",
       "1                   Pitcher   Altamira  1973        1997.0  ...   \n",
       "2                   Pitcher   Altamira  1973        1997.0  ...   \n",
       "3                   Pitcher   Altamira  1973        1997.0  ...   \n",
       "4                   Pitcher   Altamira  1973        1997.0  ...   \n",
       "...                     ...        ...   ...           ...  ...   \n",
       "1234534             Pitcher  Hiroshima  1992        2021.0  ...   \n",
       "1234535             Pitcher  Hiroshima  1992        2021.0  ...   \n",
       "1234536             Pitcher  Hiroshima  1992        2021.0  ...   \n",
       "1234537             Pitcher  Hiroshima  1992        2021.0  ...   \n",
       "1234538             Pitcher  Hiroshima  1992        2021.0  ...   \n",
       "\n",
       "         label_primaryPositionName  label_birthCity  label_teamId  \\\n",
       "0                                0              588             1   \n",
       "1                                0              588             1   \n",
       "2                                0              588             1   \n",
       "3                                0              588             1   \n",
       "4                                0              588             7   \n",
       "...                            ...              ...           ...   \n",
       "1234534                          0              902             7   \n",
       "1234535                          0              902             7   \n",
       "1234536                          0              902             7   \n",
       "1234537                          0              902             7   \n",
       "1234538                          0              902             7   \n",
       "\n",
       "         label_status annual_day  week_day  month  gameday  daysSinceLastGame  \\\n",
       "0                   3       87.0         3      3        0                 88   \n",
       "1                   3       88.0         4      3        0                 89   \n",
       "2                   3       89.0         5      3        0                 90   \n",
       "3                   3       90.0         6      4        0                 91   \n",
       "4                   0       91.0         0      4        1                  0   \n",
       "...               ...        ...       ...    ...      ...                ...   \n",
       "1234534             0      115.0         0      4        0                  1   \n",
       "1234535             0      116.0         1      4        0                  2   \n",
       "1234536             0      117.0         2      4        0                  3   \n",
       "1234537             0      118.0         3      4        0                  4   \n",
       "1234538             0      119.0         4      4        1                  0   \n",
       "\n",
       "         season_info  \n",
       "0                  2  \n",
       "1                  2  \n",
       "2                  2  \n",
       "3                  2  \n",
       "4                  2  \n",
       "...              ...  \n",
       "1234534            2  \n",
       "1234535            2  \n",
       "1234536            2  \n",
       "1234537            2  \n",
       "1234538            2  \n",
       "\n",
       "[1234539 rows x 137 columns]"
      ]
     },
     "execution_count": 35,
     "metadata": {},
     "output_type": "execute_result"
    }
   ],
   "source": [
    "train"
   ]
  },
  {
   "cell_type": "code",
   "execution_count": 36,
   "id": "875bbc13",
   "metadata": {},
   "outputs": [],
   "source": [
    "# def fit_lgbm(x_train, y_train, x_valid, y_valid, params: dict=None, verbose=100):\n",
    "#     oof_pred = np.zeros(len(y_valid), dtype=np.float32)\n",
    "#     model = lgbm.LGBMRegressor(**params)\n",
    "#     model.fit(x_train, y_train, \n",
    "#         eval_set=[(X_train, y_train), (x_valid, y_valid)],  \n",
    "#         early_stopping_rounds=verbose, \n",
    "#         verbose=verbose)\n",
    "#     oof_pred = model.predict(x_valid)\n",
    "#     oof_pred = np.clip(oof_pred, 0, 100)\n",
    "#     score = mean_absolute_error(oof_pred, y_valid)\n",
    "#     print('mae:', score)\n",
    "#     return oof_pred, model, score\n"
   ]
  },
  {
   "cell_type": "code",
   "execution_count": 37,
   "id": "241bd6a6",
   "metadata": {},
   "outputs": [],
   "source": [
    "def fit_lgbm(x_train, y_train, x_valid, y_valid, learning_rates, verbose=100):\n",
    "    def opt(trial):\n",
    "        params = {\n",
    "                'random_state': SEED,\n",
    "                'objective':'mae',\n",
    "                'n_estimators': 10000,\n",
    "                'learning_rate': 0.1,\n",
    "                'max_depth': trial.suggest_int('max_depth', 1, 20),\n",
    "                'min_child_weight': trial.suggest_int('min_child_weight', 1, 20),\n",
    "                'subsample': trial.suggest_discrete_uniform('subsample', 0.5, 0.9, 0.1),\n",
    "                'colsample_bytree': trial.suggest_discrete_uniform('colsample_bytree', 0.5, 0.9, 0.1),\n",
    "                'reg_lambda': trial.suggest_loguniform('reg_lambda', 1e-3, 1e3),\n",
    "                'reg_alpha': trial.suggest_loguniform('reg_alpha', 1e-3, 1e3),\n",
    "                'feature_fraction': trial.suggest_uniform('feature_fraction', 0.4, 1.0),\n",
    "                'bagging_fraction': trial.suggest_uniform('bagging_fraction', 0.4, 1.0),\n",
    "                'bagging_freq': trial.suggest_int('bagging_freq', 1, 10)\n",
    "        }\n",
    "\n",
    "        model_opt = lgbm.LGBMRegressor(**params)\n",
    "\n",
    "        model_opt.fit(x_train, y_train, \n",
    "            eval_set=[(x_train, y_train), (x_valid, y_valid)],  \n",
    "            early_stopping_rounds=verbose, \n",
    "            verbose=verbose)\n",
    "        oof_pred = model_opt.predict(x_valid)\n",
    "        oof_pred = np.clip(oof_pred, 0, 100)\n",
    "        score = mean_absolute_error(oof_pred, y_valid)\n",
    "        return -score\n",
    "    return opt"
   ]
  },
  {
   "cell_type": "code",
   "execution_count": 38,
   "id": "f5ec29cc",
   "metadata": {},
   "outputs": [],
   "source": [
    "train_X = train\n",
    "train_y = train[['target1', 'target2', 'target3', 'target4']]\n",
    "tr_idxs = []\n",
    "val_idxs = []"
   ]
  },
  {
   "cell_type": "code",
   "execution_count": 39,
   "id": "78efa2d9",
   "metadata": {},
   "outputs": [],
   "source": [
    "# tr_idx = (train['date'].astype(int) < 20200801)\n",
    "# val_idx = (train['date'].astype(int) >= 20200801) & (train['date'].astype(int) < 20200901)\n",
    "# tr_idxs.append(tr_idx)\n",
    "# val_idxs.append(val_idx)\n",
    "\n",
    "# tr_idx = (train['date'].astype(int) < 20200901)\n",
    "# val_idx = (train['date'].astype(int) >= 20200901) & (train['date'].astype(int) < 20201001)\n",
    "# tr_idxs.append(tr_idx)\n",
    "# val_idxs.append(val_idx)\n",
    "\n",
    "# tr_idx = (train['date'].astype(int) < 20201001)\n",
    "# val_idx = (train['date'].astype(int) >= 20201001) & (train['date'].astype(int) < 20201028)\n",
    "# tr_idxs.append(tr_idx)\n",
    "# val_idxs.append(val_idx)\n",
    "\n",
    "# tr_idx = (train['date'].astype(int) < 20210228)\n",
    "# val_idx = (train['date'].astype(int) >= 20210228) & (train['date'].astype(int) < 20210401)\n",
    "# tr_idxs.append(tr_idx)\n",
    "# val_idxs.append(val_idx)\n",
    "\n",
    "tr_idx = (train['date'].astype(int) < 20210401)\n",
    "val_idx = ~tr_idx\n",
    "tr_idxs.append(tr_idx)\n",
    "val_idxs.append(val_idx)"
   ]
  },
  {
   "cell_type": "code",
   "execution_count": 40,
   "id": "cc86e46b",
   "metadata": {},
   "outputs": [],
   "source": [
    "idx = 0\n",
    "\n",
    "tr_idx = tr_idxs[idx]\n",
    "val_idx = val_idxs[idx]\n",
    "\n",
    "x_train = train_X.loc[tr_idx].reset_index(drop=True)\n",
    "y_train = train_y.loc[tr_idx].reset_index(drop=True)\n",
    "x_valid = train_X.loc[val_idx].reset_index(drop=True)\n",
    "y_valid = train_y.loc[val_idx].reset_index(drop=True)"
   ]
  },
  {
   "cell_type": "code",
   "execution_count": 41,
   "id": "49240884",
   "metadata": {},
   "outputs": [],
   "source": [
    "learning_rates = [0.1, 0.1, 0.1, 0.1]"
   ]
  },
  {
   "cell_type": "code",
   "execution_count": 42,
   "id": "b3d91713",
   "metadata": {},
   "outputs": [
    {
     "name": "stderr",
     "output_type": "stream",
     "text": [
      "\u001b[32m[I 2021-07-06 13:27:06,920]\u001b[0m A new study created in memory with name: no-name-33ad756c-4dc8-4bd4-9124-af915d5df8db\u001b[0m\n"
     ]
    },
    {
     "name": "stdout",
     "output_type": "stream",
     "text": [
      "[LightGBM] [Warning] feature_fraction is set=0.597160489124598, colsample_bytree=0.7 will be ignored. Current value: feature_fraction=0.597160489124598\n",
      "[LightGBM] [Warning] bagging_fraction is set=0.7172530950966584, subsample=0.6 will be ignored. Current value: bagging_fraction=0.7172530950966584\n",
      "[LightGBM] [Warning] bagging_freq is set=3, subsample_freq=0 will be ignored. Current value: bagging_freq=3\n",
      "Training until validation scores don't improve for 100 rounds\n",
      "[100]\ttraining's l1: 0.627695\tvalid_1's l1: 0.7147\n",
      "[200]\ttraining's l1: 0.627689\tvalid_1's l1: 0.714689\n"
     ]
    },
    {
     "name": "stderr",
     "output_type": "stream",
     "text": [
      "\u001b[32m[I 2021-07-06 13:27:18,426]\u001b[0m Trial 0 finished with value: -0.7146888932629226 and parameters: {'max_depth': 15, 'min_child_weight': 11, 'subsample': 0.6, 'colsample_bytree': 0.7, 'reg_lambda': 1.6172414935067496, 'reg_alpha': 46.41237033844323, 'feature_fraction': 0.597160489124598, 'bagging_fraction': 0.7172530950966584, 'bagging_freq': 3}. Best is trial 0 with value: -0.7146888932629226.\u001b[0m\n"
     ]
    },
    {
     "name": "stdout",
     "output_type": "stream",
     "text": [
      "Early stopping, best iteration is:\n",
      "[137]\ttraining's l1: 0.627689\tvalid_1's l1: 0.714689\n",
      "[LightGBM] [Warning] feature_fraction is set=0.6587024169385305, colsample_bytree=0.7 will be ignored. Current value: feature_fraction=0.6587024169385305\n",
      "[LightGBM] [Warning] bagging_fraction is set=0.6947336823126458, subsample=0.8 will be ignored. Current value: bagging_fraction=0.6947336823126458\n",
      "[LightGBM] [Warning] bagging_freq is set=7, subsample_freq=0 will be ignored. Current value: bagging_freq=7\n",
      "Training until validation scores don't improve for 100 rounds\n",
      "[100]\ttraining's l1: 0.630349\tvalid_1's l1: 0.716498\n",
      "[200]\ttraining's l1: 0.629479\tvalid_1's l1: 0.714389\n",
      "[300]\ttraining's l1: 0.629459\tvalid_1's l1: 0.71435\n",
      "[400]\ttraining's l1: 0.629455\tvalid_1's l1: 0.714347\n"
     ]
    },
    {
     "name": "stderr",
     "output_type": "stream",
     "text": [
      "\u001b[32m[I 2021-07-06 13:27:35,190]\u001b[0m Trial 1 finished with value: -0.714344020362798 and parameters: {'max_depth': 15, 'min_child_weight': 3, 'subsample': 0.8, 'colsample_bytree': 0.7, 'reg_lambda': 58.08419221987469, 'reg_alpha': 231.46316440893403, 'feature_fraction': 0.6587024169385305, 'bagging_fraction': 0.6947336823126458, 'bagging_freq': 7}. Best is trial 1 with value: -0.714344020362798.\u001b[0m\n"
     ]
    },
    {
     "name": "stdout",
     "output_type": "stream",
     "text": [
      "Early stopping, best iteration is:\n",
      "[381]\ttraining's l1: 0.629455\tvalid_1's l1: 0.714347\n",
      "[LightGBM] [Warning] feature_fraction is set=0.6711064507739217, colsample_bytree=0.5 will be ignored. Current value: feature_fraction=0.6711064507739217\n",
      "[LightGBM] [Warning] bagging_fraction is set=0.452313111797412, subsample=0.9 will be ignored. Current value: bagging_fraction=0.452313111797412\n",
      "[LightGBM] [Warning] bagging_freq is set=4, subsample_freq=0 will be ignored. Current value: bagging_freq=4\n",
      "Training until validation scores don't improve for 100 rounds\n",
      "[100]\ttraining's l1: 0.629173\tvalid_1's l1: 0.715754\n",
      "[200]\ttraining's l1: 0.627558\tvalid_1's l1: 0.7129\n"
     ]
    },
    {
     "name": "stderr",
     "output_type": "stream",
     "text": [
      "\u001b[32m[I 2021-07-06 13:27:44,606]\u001b[0m Trial 2 finished with value: -0.7128995208545185 and parameters: {'max_depth': 12, 'min_child_weight': 18, 'subsample': 0.9, 'colsample_bytree': 0.5, 'reg_lambda': 4.427134914380474, 'reg_alpha': 0.004891415992951156, 'feature_fraction': 0.6711064507739217, 'bagging_fraction': 0.452313111797412, 'bagging_freq': 4}. Best is trial 2 with value: -0.7128995208545185.\u001b[0m\n"
     ]
    },
    {
     "name": "stdout",
     "output_type": "stream",
     "text": [
      "[300]\ttraining's l1: 0.627556\tvalid_1's l1: 0.712901\n",
      "Early stopping, best iteration is:\n",
      "[203]\ttraining's l1: 0.627558\tvalid_1's l1: 0.7129\n",
      "[LightGBM] [Warning] feature_fraction is set=0.8132216680889428, colsample_bytree=0.6 will be ignored. Current value: feature_fraction=0.8132216680889428\n",
      "[LightGBM] [Warning] bagging_fraction is set=0.4726664039775639, subsample=0.9 will be ignored. Current value: bagging_fraction=0.4726664039775639\n",
      "[LightGBM] [Warning] bagging_freq is set=6, subsample_freq=0 will be ignored. Current value: bagging_freq=6\n",
      "Training until validation scores don't improve for 100 rounds\n",
      "[100]\ttraining's l1: 0.629406\tvalid_1's l1: 0.715746\n",
      "[200]\ttraining's l1: 0.628456\tvalid_1's l1: 0.714414\n",
      "[300]\ttraining's l1: 0.62819\tvalid_1's l1: 0.713767\n",
      "[400]\ttraining's l1: 0.627162\tvalid_1's l1: 0.711437\n",
      "[500]\ttraining's l1: 0.627154\tvalid_1's l1: 0.711441\n",
      "[600]\ttraining's l1: 0.626804\tvalid_1's l1: 0.710368\n",
      "[700]\ttraining's l1: 0.62675\tvalid_1's l1: 0.710269\n",
      "[800]\ttraining's l1: 0.626739\tvalid_1's l1: 0.710277\n",
      "Early stopping, best iteration is:\n",
      "[724]\ttraining's l1: 0.626748\tvalid_1's l1: 0.710269\n"
     ]
    },
    {
     "name": "stderr",
     "output_type": "stream",
     "text": [
      "\u001b[32m[I 2021-07-06 13:28:06,314]\u001b[0m Trial 3 finished with value: -0.7102679656756747 and parameters: {'max_depth': 18, 'min_child_weight': 15, 'subsample': 0.9, 'colsample_bytree': 0.6, 'reg_lambda': 0.017035646247889513, 'reg_alpha': 0.06125766583076461, 'feature_fraction': 0.8132216680889428, 'bagging_fraction': 0.4726664039775639, 'bagging_freq': 6}. Best is trial 3 with value: -0.7102679656756747.\u001b[0m\n"
     ]
    },
    {
     "name": "stdout",
     "output_type": "stream",
     "text": [
      "[LightGBM] [Warning] feature_fraction is set=0.7611466479158634, colsample_bytree=0.7 will be ignored. Current value: feature_fraction=0.7611466479158634\n",
      "[LightGBM] [Warning] bagging_fraction is set=0.7500168812003238, subsample=0.6 will be ignored. Current value: bagging_fraction=0.7500168812003238\n",
      "[LightGBM] [Warning] bagging_freq is set=3, subsample_freq=0 will be ignored. Current value: bagging_freq=3\n",
      "Training until validation scores don't improve for 100 rounds\n",
      "[100]\ttraining's l1: 0.630956\tvalid_1's l1: 0.718913\n",
      "[200]\ttraining's l1: 0.629887\tvalid_1's l1: 0.717577\n",
      "[300]\ttraining's l1: 0.629884\tvalid_1's l1: 0.717572\n"
     ]
    },
    {
     "name": "stderr",
     "output_type": "stream",
     "text": [
      "\u001b[32m[I 2021-07-06 13:28:23,260]\u001b[0m Trial 4 finished with value: -0.717572086310469 and parameters: {'max_depth': 19, 'min_child_weight': 8, 'subsample': 0.6, 'colsample_bytree': 0.7, 'reg_lambda': 11.373654814012092, 'reg_alpha': 0.003441341287023189, 'feature_fraction': 0.7611466479158634, 'bagging_fraction': 0.7500168812003238, 'bagging_freq': 3}. Best is trial 3 with value: -0.7102679656756747.\u001b[0m\n"
     ]
    },
    {
     "name": "stdout",
     "output_type": "stream",
     "text": [
      "[400]\ttraining's l1: 0.629884\tvalid_1's l1: 0.717572\n",
      "Early stopping, best iteration is:\n",
      "[300]\ttraining's l1: 0.629884\tvalid_1's l1: 0.717572\n",
      "[LightGBM] [Warning] feature_fraction is set=0.559609649626722, colsample_bytree=0.5 will be ignored. Current value: feature_fraction=0.559609649626722\n",
      "[LightGBM] [Warning] bagging_fraction is set=0.4551022539699482, subsample=0.5 will be ignored. Current value: bagging_fraction=0.4551022539699482\n",
      "[LightGBM] [Warning] bagging_freq is set=7, subsample_freq=0 will be ignored. Current value: bagging_freq=7\n",
      "Training until validation scores don't improve for 100 rounds\n",
      "[100]\ttraining's l1: 0.627746\tvalid_1's l1: 0.713032\n",
      "[200]\ttraining's l1: 0.627561\tvalid_1's l1: 0.712654\n",
      "[300]\ttraining's l1: 0.626687\tvalid_1's l1: 0.711132\n",
      "[400]\ttraining's l1: 0.626686\tvalid_1's l1: 0.711129\n",
      "[500]\ttraining's l1: 0.626393\tvalid_1's l1: 0.710458\n",
      "[600]\ttraining's l1: 0.626388\tvalid_1's l1: 0.710458\n",
      "[700]\ttraining's l1: 0.626379\tvalid_1's l1: 0.71045\n",
      "Early stopping, best iteration is:\n",
      "[655]\ttraining's l1: 0.626381\tvalid_1's l1: 0.710446\n"
     ]
    },
    {
     "name": "stderr",
     "output_type": "stream",
     "text": [
      "\u001b[32m[I 2021-07-06 13:28:45,389]\u001b[0m Trial 5 finished with value: -0.7104413557632218 and parameters: {'max_depth': 9, 'min_child_weight': 15, 'subsample': 0.5, 'colsample_bytree': 0.5, 'reg_lambda': 0.009135619193174904, 'reg_alpha': 0.02170329931724079, 'feature_fraction': 0.559609649626722, 'bagging_fraction': 0.4551022539699482, 'bagging_freq': 7}. Best is trial 3 with value: -0.7102679656756747.\u001b[0m\n"
     ]
    },
    {
     "name": "stdout",
     "output_type": "stream",
     "text": [
      "[LightGBM] [Warning] feature_fraction is set=0.7306036358595436, colsample_bytree=0.6 will be ignored. Current value: feature_fraction=0.7306036358595436\n",
      "[LightGBM] [Warning] bagging_fraction is set=0.8954350206297899, subsample=0.5 will be ignored. Current value: bagging_fraction=0.8954350206297899\n",
      "[LightGBM] [Warning] bagging_freq is set=7, subsample_freq=0 will be ignored. Current value: bagging_freq=7\n",
      "Training until validation scores don't improve for 100 rounds\n",
      "[100]\ttraining's l1: 0.630989\tvalid_1's l1: 0.719458\n",
      "[200]\ttraining's l1: 0.629697\tvalid_1's l1: 0.717372\n"
     ]
    },
    {
     "name": "stderr",
     "output_type": "stream",
     "text": [
      "\u001b[32m[I 2021-07-06 13:28:56,842]\u001b[0m Trial 6 finished with value: -0.7173723154765468 and parameters: {'max_depth': 13, 'min_child_weight': 1, 'subsample': 0.5, 'colsample_bytree': 0.6, 'reg_lambda': 29.14299081657416, 'reg_alpha': 0.022401728966468592, 'feature_fraction': 0.7306036358595436, 'bagging_fraction': 0.8954350206297899, 'bagging_freq': 7}. Best is trial 3 with value: -0.7102679656756747.\u001b[0m\n"
     ]
    },
    {
     "name": "stdout",
     "output_type": "stream",
     "text": [
      "Early stopping, best iteration is:\n",
      "[171]\ttraining's l1: 0.629697\tvalid_1's l1: 0.717372\n",
      "[LightGBM] [Warning] feature_fraction is set=0.4913553505328317, colsample_bytree=0.8 will be ignored. Current value: feature_fraction=0.4913553505328317\n",
      "[LightGBM] [Warning] bagging_fraction is set=0.8740537587302741, subsample=0.5 will be ignored. Current value: bagging_fraction=0.8740537587302741\n",
      "[LightGBM] [Warning] bagging_freq is set=4, subsample_freq=0 will be ignored. Current value: bagging_freq=4\n",
      "Training until validation scores don't improve for 100 rounds\n",
      "[100]\ttraining's l1: 0.672906\tvalid_1's l1: 0.781245\n"
     ]
    },
    {
     "name": "stderr",
     "output_type": "stream",
     "text": [
      "\u001b[32m[I 2021-07-06 13:29:04,522]\u001b[0m Trial 7 finished with value: -0.7812430076846348 and parameters: {'max_depth': 1, 'min_child_weight': 20, 'subsample': 0.5, 'colsample_bytree': 0.8, 'reg_lambda': 0.22092191437020184, 'reg_alpha': 38.72979041219659, 'feature_fraction': 0.4913553505328317, 'bagging_fraction': 0.8740537587302741, 'bagging_freq': 4}. Best is trial 3 with value: -0.7102679656756747.\u001b[0m\n"
     ]
    },
    {
     "name": "stdout",
     "output_type": "stream",
     "text": [
      "Early stopping, best iteration is:\n",
      "[65]\ttraining's l1: 0.672912\tvalid_1's l1: 0.781243\n",
      "[LightGBM] [Warning] feature_fraction is set=0.7506866047861238, colsample_bytree=0.8 will be ignored. Current value: feature_fraction=0.7506866047861238\n",
      "[LightGBM] [Warning] bagging_fraction is set=0.5098198907763142, subsample=0.8 will be ignored. Current value: bagging_fraction=0.5098198907763142\n",
      "[LightGBM] [Warning] bagging_freq is set=6, subsample_freq=0 will be ignored. Current value: bagging_freq=6\n",
      "Training until validation scores don't improve for 100 rounds\n",
      "[100]\ttraining's l1: 0.629845\tvalid_1's l1: 0.7171\n",
      "[200]\ttraining's l1: 0.628845\tvalid_1's l1: 0.715787\n",
      "[300]\ttraining's l1: 0.628697\tvalid_1's l1: 0.715464\n",
      "[400]\ttraining's l1: 0.62767\tvalid_1's l1: 0.713142\n",
      "[500]\ttraining's l1: 0.627172\tvalid_1's l1: 0.712565\n",
      "[600]\ttraining's l1: 0.627171\tvalid_1's l1: 0.712565\n"
     ]
    },
    {
     "name": "stderr",
     "output_type": "stream",
     "text": [
      "\u001b[32m[I 2021-07-06 13:29:21,972]\u001b[0m Trial 8 finished with value: -0.7125638009425987 and parameters: {'max_depth': 12, 'min_child_weight': 17, 'subsample': 0.8, 'colsample_bytree': 0.8, 'reg_lambda': 0.006992177688486339, 'reg_alpha': 0.03356481898904754, 'feature_fraction': 0.7506866047861238, 'bagging_fraction': 0.5098198907763142, 'bagging_freq': 6}. Best is trial 3 with value: -0.7102679656756747.\u001b[0m\n"
     ]
    },
    {
     "name": "stdout",
     "output_type": "stream",
     "text": [
      "Early stopping, best iteration is:\n",
      "[535]\ttraining's l1: 0.627171\tvalid_1's l1: 0.712564\n",
      "[LightGBM] [Warning] feature_fraction is set=0.896146010407893, colsample_bytree=0.7 will be ignored. Current value: feature_fraction=0.896146010407893\n",
      "[LightGBM] [Warning] bagging_fraction is set=0.8569714560257193, subsample=0.5 will be ignored. Current value: bagging_fraction=0.8569714560257193\n",
      "[LightGBM] [Warning] bagging_freq is set=6, subsample_freq=0 will be ignored. Current value: bagging_freq=6\n",
      "Training until validation scores don't improve for 100 rounds\n",
      "[100]\ttraining's l1: 0.630019\tvalid_1's l1: 0.717821\n",
      "[200]\ttraining's l1: 0.628857\tvalid_1's l1: 0.715824\n"
     ]
    },
    {
     "name": "stderr",
     "output_type": "stream",
     "text": [
      "\u001b[32m[I 2021-07-06 13:29:33,336]\u001b[0m Trial 9 finished with value: -0.7158198849330147 and parameters: {'max_depth': 16, 'min_child_weight': 11, 'subsample': 0.5, 'colsample_bytree': 0.7, 'reg_lambda': 272.8197248241478, 'reg_alpha': 0.011242637992896529, 'feature_fraction': 0.896146010407893, 'bagging_fraction': 0.8569714560257193, 'bagging_freq': 6}. Best is trial 3 with value: -0.7102679656756747.\u001b[0m\n"
     ]
    },
    {
     "name": "stdout",
     "output_type": "stream",
     "text": [
      "Early stopping, best iteration is:\n",
      "[167]\ttraining's l1: 0.628857\tvalid_1's l1: 0.715824\n",
      "[LightGBM] [Warning] feature_fraction is set=0.9933370022563, colsample_bytree=0.9 will be ignored. Current value: feature_fraction=0.9933370022563\n",
      "[LightGBM] [Warning] bagging_fraction is set=0.5793963165490389, subsample=0.9 will be ignored. Current value: bagging_fraction=0.5793963165490389\n",
      "[LightGBM] [Warning] bagging_freq is set=10, subsample_freq=0 will be ignored. Current value: bagging_freq=10\n",
      "Training until validation scores don't improve for 100 rounds\n",
      "[100]\ttraining's l1: 0.628179\tvalid_1's l1: 0.715032\n",
      "[200]\ttraining's l1: 0.626185\tvalid_1's l1: 0.710336\n",
      "[300]\ttraining's l1: 0.625956\tvalid_1's l1: 0.709965\n",
      "[400]\ttraining's l1: 0.625916\tvalid_1's l1: 0.709961\n",
      "[500]\ttraining's l1: 0.625364\tvalid_1's l1: 0.708429\n",
      "[600]\ttraining's l1: 0.625205\tvalid_1's l1: 0.708148\n",
      "[700]\ttraining's l1: 0.624874\tvalid_1's l1: 0.707681\n",
      "[800]\ttraining's l1: 0.624183\tvalid_1's l1: 0.706019\n",
      "Early stopping, best iteration is:\n",
      "[795]\ttraining's l1: 0.624183\tvalid_1's l1: 0.706019\n"
     ]
    },
    {
     "name": "stderr",
     "output_type": "stream",
     "text": [
      "\u001b[32m[I 2021-07-06 13:29:57,728]\u001b[0m Trial 10 finished with value: -0.7060175207229681 and parameters: {'max_depth': 7, 'min_child_weight': 14, 'subsample': 0.9, 'colsample_bytree': 0.9, 'reg_lambda': 0.12867087152360934, 'reg_alpha': 0.504445791174054, 'feature_fraction': 0.9933370022563, 'bagging_fraction': 0.5793963165490389, 'bagging_freq': 10}. Best is trial 10 with value: -0.7060175207229681.\u001b[0m\n"
     ]
    },
    {
     "name": "stdout",
     "output_type": "stream",
     "text": [
      "[LightGBM] [Warning] feature_fraction is set=0.9922909764148152, colsample_bytree=0.9 will be ignored. Current value: feature_fraction=0.9922909764148152\n",
      "[LightGBM] [Warning] bagging_fraction is set=0.5765118867211061, subsample=0.9 will be ignored. Current value: bagging_fraction=0.5765118867211061\n",
      "[LightGBM] [Warning] bagging_freq is set=10, subsample_freq=0 will be ignored. Current value: bagging_freq=10\n",
      "Training until validation scores don't improve for 100 rounds\n",
      "[100]\ttraining's l1: 0.621336\tvalid_1's l1: 0.702254\n",
      "[200]\ttraining's l1: 0.618789\tvalid_1's l1: 0.69716\n",
      "[300]\ttraining's l1: 0.618616\tvalid_1's l1: 0.696926\n",
      "[400]\ttraining's l1: 0.618415\tvalid_1's l1: 0.696594\n",
      "[500]\ttraining's l1: 0.618312\tvalid_1's l1: 0.696352\n",
      "[600]\ttraining's l1: 0.618095\tvalid_1's l1: 0.695755\n",
      "[700]\ttraining's l1: 0.618073\tvalid_1's l1: 0.695752\n",
      "Early stopping, best iteration is:\n",
      "[660]\ttraining's l1: 0.618073\tvalid_1's l1: 0.69575\n"
     ]
    },
    {
     "name": "stderr",
     "output_type": "stream",
     "text": [
      "\u001b[32m[I 2021-07-06 13:30:18,424]\u001b[0m Trial 11 finished with value: -0.6957358477823112 and parameters: {'max_depth': 6, 'min_child_weight': 14, 'subsample': 0.9, 'colsample_bytree': 0.9, 'reg_lambda': 0.07744591314744383, 'reg_alpha': 1.7037196965813688, 'feature_fraction': 0.9922909764148152, 'bagging_fraction': 0.5765118867211061, 'bagging_freq': 10}. Best is trial 11 with value: -0.6957358477823112.\u001b[0m\n"
     ]
    },
    {
     "name": "stdout",
     "output_type": "stream",
     "text": [
      "[LightGBM] [Warning] feature_fraction is set=0.9884157809692493, colsample_bytree=0.9 will be ignored. Current value: feature_fraction=0.9884157809692493\n",
      "[LightGBM] [Warning] bagging_fraction is set=0.5913469046778009, subsample=0.8 will be ignored. Current value: bagging_fraction=0.5913469046778009\n",
      "[LightGBM] [Warning] bagging_freq is set=10, subsample_freq=0 will be ignored. Current value: bagging_freq=10\n",
      "Training until validation scores don't improve for 100 rounds\n",
      "[100]\ttraining's l1: 0.622889\tvalid_1's l1: 0.70433\n",
      "[200]\ttraining's l1: 0.621117\tvalid_1's l1: 0.701753\n",
      "[300]\ttraining's l1: 0.61943\tvalid_1's l1: 0.69803\n",
      "[400]\ttraining's l1: 0.617901\tvalid_1's l1: 0.694718\n",
      "[500]\ttraining's l1: 0.617714\tvalid_1's l1: 0.694574\n",
      "[600]\ttraining's l1: 0.617587\tvalid_1's l1: 0.694273\n",
      "[700]\ttraining's l1: 0.617518\tvalid_1's l1: 0.694196\n",
      "Early stopping, best iteration is:\n",
      "[644]\ttraining's l1: 0.617528\tvalid_1's l1: 0.694187\n"
     ]
    },
    {
     "name": "stderr",
     "output_type": "stream",
     "text": [
      "\u001b[32m[I 2021-07-06 13:30:39,093]\u001b[0m Trial 12 finished with value: -0.6941704164138107 and parameters: {'max_depth': 6, 'min_child_weight': 13, 'subsample': 0.8, 'colsample_bytree': 0.9, 'reg_lambda': 0.15615408414077223, 'reg_alpha': 1.1136664600777217, 'feature_fraction': 0.9884157809692493, 'bagging_fraction': 0.5913469046778009, 'bagging_freq': 10}. Best is trial 12 with value: -0.6941704164138107.\u001b[0m\n"
     ]
    },
    {
     "name": "stdout",
     "output_type": "stream",
     "text": [
      "[LightGBM] [Warning] feature_fraction is set=0.9970520562396314, colsample_bytree=0.9 will be ignored. Current value: feature_fraction=0.9970520562396314\n",
      "[LightGBM] [Warning] bagging_fraction is set=0.597738380960915, subsample=0.8 will be ignored. Current value: bagging_fraction=0.597738380960915\n",
      "[LightGBM] [Warning] bagging_freq is set=10, subsample_freq=0 will be ignored. Current value: bagging_freq=10\n",
      "Training until validation scores don't improve for 100 rounds\n",
      "[100]\ttraining's l1: 0.626849\tvalid_1's l1: 0.710577\n",
      "[200]\ttraining's l1: 0.623404\tvalid_1's l1: 0.70342\n",
      "[300]\ttraining's l1: 0.622464\tvalid_1's l1: 0.701089\n",
      "[400]\ttraining's l1: 0.621612\tvalid_1's l1: 0.699352\n"
     ]
    },
    {
     "name": "stderr",
     "output_type": "stream",
     "text": [
      "\u001b[32m[I 2021-07-06 13:30:52,103]\u001b[0m Trial 13 finished with value: -0.6993384078853284 and parameters: {'max_depth': 4, 'min_child_weight': 7, 'subsample': 0.8, 'colsample_bytree': 0.9, 'reg_lambda': 0.13782160328161855, 'reg_alpha': 3.37972188117899, 'feature_fraction': 0.9970520562396314, 'bagging_fraction': 0.597738380960915, 'bagging_freq': 10}. Best is trial 12 with value: -0.6941704164138107.\u001b[0m\n"
     ]
    },
    {
     "name": "stdout",
     "output_type": "stream",
     "text": [
      "Early stopping, best iteration is:\n",
      "[399]\ttraining's l1: 0.621613\tvalid_1's l1: 0.699347\n",
      "[LightGBM] [Warning] feature_fraction is set=0.8929543927527662, colsample_bytree=0.9 will be ignored. Current value: feature_fraction=0.8929543927527662\n",
      "[LightGBM] [Warning] bagging_fraction is set=0.5916607595054099, subsample=0.7 will be ignored. Current value: bagging_fraction=0.5916607595054099\n",
      "[LightGBM] [Warning] bagging_freq is set=9, subsample_freq=0 will be ignored. Current value: bagging_freq=9\n",
      "Training until validation scores don't improve for 100 rounds\n",
      "[100]\ttraining's l1: 0.617891\tvalid_1's l1: 0.696362\n",
      "[200]\ttraining's l1: 0.614456\tvalid_1's l1: 0.690923\n",
      "[300]\ttraining's l1: 0.612372\tvalid_1's l1: 0.686741\n",
      "[400]\ttraining's l1: 0.611215\tvalid_1's l1: 0.68535\n",
      "[500]\ttraining's l1: 0.610047\tvalid_1's l1: 0.683159\n",
      "[600]\ttraining's l1: 0.609318\tvalid_1's l1: 0.682148\n",
      "[700]\ttraining's l1: 0.609114\tvalid_1's l1: 0.681872\n",
      "[800]\ttraining's l1: 0.608922\tvalid_1's l1: 0.681409\n",
      "[900]\ttraining's l1: 0.607858\tvalid_1's l1: 0.679612\n",
      "[1000]\ttraining's l1: 0.606869\tvalid_1's l1: 0.678062\n",
      "[1100]\ttraining's l1: 0.606686\tvalid_1's l1: 0.678036\n",
      "[1200]\ttraining's l1: 0.606316\tvalid_1's l1: 0.67762\n",
      "[1300]\ttraining's l1: 0.606043\tvalid_1's l1: 0.677033\n",
      "[1400]\ttraining's l1: 0.605906\tvalid_1's l1: 0.676922\n",
      "Early stopping, best iteration is:\n",
      "[1353]\ttraining's l1: 0.605935\tvalid_1's l1: 0.676914\n"
     ]
    },
    {
     "name": "stderr",
     "output_type": "stream",
     "text": [
      "\u001b[32m[I 2021-07-06 13:31:29,551]\u001b[0m Trial 14 finished with value: -0.6768802603498367 and parameters: {'max_depth': 5, 'min_child_weight': 12, 'subsample': 0.7, 'colsample_bytree': 0.9, 'reg_lambda': 0.0010481903652154226, 'reg_alpha': 1.0623448283422139, 'feature_fraction': 0.8929543927527662, 'bagging_fraction': 0.5916607595054099, 'bagging_freq': 9}. Best is trial 14 with value: -0.6768802603498367.\u001b[0m\n"
     ]
    },
    {
     "name": "stdout",
     "output_type": "stream",
     "text": [
      "[LightGBM] [Warning] feature_fraction is set=0.8677857100748836, colsample_bytree=0.8 will be ignored. Current value: feature_fraction=0.8677857100748836\n",
      "[LightGBM] [Warning] bagging_fraction is set=0.6422958996369047, subsample=0.7 will be ignored. Current value: bagging_fraction=0.6422958996369047\n",
      "[LightGBM] [Warning] bagging_freq is set=9, subsample_freq=0 will be ignored. Current value: bagging_freq=9\n",
      "Training until validation scores don't improve for 100 rounds\n",
      "[100]\ttraining's l1: 0.657489\tvalid_1's l1: 0.759652\n",
      "[200]\ttraining's l1: 0.657487\tvalid_1's l1: 0.759652\n",
      "[300]\ttraining's l1: 0.657487\tvalid_1's l1: 0.759653\n"
     ]
    },
    {
     "name": "stderr",
     "output_type": "stream",
     "text": [
      "\u001b[32m[I 2021-07-06 13:31:38,440]\u001b[0m Trial 15 finished with value: -0.7596520540041921 and parameters: {'max_depth': 2, 'min_child_weight': 8, 'subsample': 0.7, 'colsample_bytree': 0.8, 'reg_lambda': 0.001978811430910333, 'reg_alpha': 0.2998969199036632, 'feature_fraction': 0.8677857100748836, 'bagging_fraction': 0.6422958996369047, 'bagging_freq': 9}. Best is trial 14 with value: -0.6768802603498367.\u001b[0m\n"
     ]
    },
    {
     "name": "stdout",
     "output_type": "stream",
     "text": [
      "Early stopping, best iteration is:\n",
      "[243]\ttraining's l1: 0.657487\tvalid_1's l1: 0.759652\n",
      "[LightGBM] [Warning] feature_fraction is set=0.921830873038681, colsample_bytree=0.9 will be ignored. Current value: feature_fraction=0.921830873038681\n",
      "[LightGBM] [Warning] bagging_fraction is set=0.8084557211439373, subsample=0.7 will be ignored. Current value: bagging_fraction=0.8084557211439373\n",
      "[LightGBM] [Warning] bagging_freq is set=9, subsample_freq=0 will be ignored. Current value: bagging_freq=9\n",
      "Training until validation scores don't improve for 100 rounds\n",
      "[100]\ttraining's l1: 0.623742\tvalid_1's l1: 0.704667\n",
      "[200]\ttraining's l1: 0.621356\tvalid_1's l1: 0.700318\n",
      "[300]\ttraining's l1: 0.621279\tvalid_1's l1: 0.700165\n",
      "[400]\ttraining's l1: 0.621238\tvalid_1's l1: 0.700032\n",
      "[500]\ttraining's l1: 0.621222\tvalid_1's l1: 0.700032\n"
     ]
    },
    {
     "name": "stderr",
     "output_type": "stream",
     "text": [
      "\u001b[32m[I 2021-07-06 13:31:54,867]\u001b[0m Trial 16 finished with value: -0.7000283512820369 and parameters: {'max_depth': 4, 'min_child_weight': 11, 'subsample': 0.7, 'colsample_bytree': 0.9, 'reg_lambda': 0.0017334142198533434, 'reg_alpha': 7.796427188018893, 'feature_fraction': 0.921830873038681, 'bagging_fraction': 0.8084557211439373, 'bagging_freq': 9}. Best is trial 14 with value: -0.6768802603498367.\u001b[0m\n"
     ]
    },
    {
     "name": "stdout",
     "output_type": "stream",
     "text": [
      "Early stopping, best iteration is:\n",
      "[416]\ttraining's l1: 0.621238\tvalid_1's l1: 0.700032\n",
      "[LightGBM] [Warning] feature_fraction is set=0.9249894218377157, colsample_bytree=0.8 will be ignored. Current value: feature_fraction=0.9249894218377157\n",
      "[LightGBM] [Warning] bagging_fraction is set=0.9841163531022907, subsample=0.7 will be ignored. Current value: bagging_fraction=0.9841163531022907\n",
      "[LightGBM] [Warning] bagging_freq is set=1, subsample_freq=0 will be ignored. Current value: bagging_freq=1\n",
      "Training until validation scores don't improve for 100 rounds\n",
      "[100]\ttraining's l1: 0.630449\tvalid_1's l1: 0.718538\n",
      "[200]\ttraining's l1: 0.629156\tvalid_1's l1: 0.716395\n",
      "[300]\ttraining's l1: 0.627838\tvalid_1's l1: 0.714575\n",
      "[400]\ttraining's l1: 0.627837\tvalid_1's l1: 0.714579\n"
     ]
    },
    {
     "name": "stderr",
     "output_type": "stream",
     "text": [
      "\u001b[32m[I 2021-07-06 13:32:09,698]\u001b[0m Trial 17 finished with value: -0.7145752378130001 and parameters: {'max_depth': 9, 'min_child_weight': 5, 'subsample': 0.7, 'colsample_bytree': 0.8, 'reg_lambda': 0.6209681919734859, 'reg_alpha': 0.2039291140468591, 'feature_fraction': 0.9249894218377157, 'bagging_fraction': 0.9841163531022907, 'bagging_freq': 1}. Best is trial 14 with value: -0.6768802603498367.\u001b[0m\n"
     ]
    },
    {
     "name": "stdout",
     "output_type": "stream",
     "text": [
      "Early stopping, best iteration is:\n",
      "[330]\ttraining's l1: 0.627838\tvalid_1's l1: 0.714575\n",
      "[LightGBM] [Warning] feature_fraction is set=0.8342473008711455, colsample_bytree=0.9 will be ignored. Current value: feature_fraction=0.8342473008711455\n",
      "[LightGBM] [Warning] bagging_fraction is set=0.5217347560673639, subsample=0.6 will be ignored. Current value: bagging_fraction=0.5217347560673639\n",
      "[LightGBM] [Warning] bagging_freq is set=8, subsample_freq=0 will be ignored. Current value: bagging_freq=8\n",
      "Training until validation scores don't improve for 100 rounds\n",
      "[100]\ttraining's l1: 0.621847\tvalid_1's l1: 0.704225\n",
      "[200]\ttraining's l1: 0.621548\tvalid_1's l1: 0.703534\n",
      "[300]\ttraining's l1: 0.621537\tvalid_1's l1: 0.703512\n",
      "[400]\ttraining's l1: 0.62141\tvalid_1's l1: 0.703309\n",
      "[500]\ttraining's l1: 0.62139\tvalid_1's l1: 0.703275\n"
     ]
    },
    {
     "name": "stderr",
     "output_type": "stream",
     "text": [
      "\u001b[32m[I 2021-07-06 13:32:25,616]\u001b[0m Trial 18 finished with value: -0.7032720262891143 and parameters: {'max_depth': 6, 'min_child_weight': 13, 'subsample': 0.6, 'colsample_bytree': 0.9, 'reg_lambda': 0.001052181452237611, 'reg_alpha': 14.495602591353363, 'feature_fraction': 0.8342473008711455, 'bagging_fraction': 0.5217347560673639, 'bagging_freq': 8}. Best is trial 14 with value: -0.6768802603498367.\u001b[0m\n"
     ]
    },
    {
     "name": "stdout",
     "output_type": "stream",
     "text": [
      "Early stopping, best iteration is:\n",
      "[499]\ttraining's l1: 0.62139\tvalid_1's l1: 0.703275\n",
      "[LightGBM] [Warning] feature_fraction is set=0.9533352397442255, colsample_bytree=0.8 will be ignored. Current value: feature_fraction=0.9533352397442255\n",
      "[LightGBM] [Warning] bagging_fraction is set=0.6539989137666539, subsample=0.8 will be ignored. Current value: bagging_fraction=0.6539989137666539\n",
      "[LightGBM] [Warning] bagging_freq is set=9, subsample_freq=0 will be ignored. Current value: bagging_freq=9\n",
      "Training until validation scores don't improve for 100 rounds\n",
      "[100]\ttraining's l1: 0.643295\tvalid_1's l1: 0.738317\n",
      "[200]\ttraining's l1: 0.638676\tvalid_1's l1: 0.730562\n",
      "[300]\ttraining's l1: 0.638675\tvalid_1's l1: 0.730558\n",
      "[400]\ttraining's l1: 0.63725\tvalid_1's l1: 0.728282\n",
      "[500]\ttraining's l1: 0.636158\tvalid_1's l1: 0.726437\n",
      "[600]\ttraining's l1: 0.635828\tvalid_1's l1: 0.725935\n",
      "[700]\ttraining's l1: 0.63537\tvalid_1's l1: 0.724867\n",
      "[800]\ttraining's l1: 0.635355\tvalid_1's l1: 0.724841\n"
     ]
    },
    {
     "name": "stderr",
     "output_type": "stream",
     "text": [
      "\u001b[32m[I 2021-07-06 13:32:45,818]\u001b[0m Trial 19 finished with value: -0.7248004614645046 and parameters: {'max_depth': 3, 'min_child_weight': 17, 'subsample': 0.8, 'colsample_bytree': 0.8, 'reg_lambda': 0.03852608912337392, 'reg_alpha': 809.2815833496119, 'feature_fraction': 0.9533352397442255, 'bagging_fraction': 0.6539989137666539, 'bagging_freq': 9}. Best is trial 14 with value: -0.6768802603498367.\u001b[0m\n"
     ]
    },
    {
     "name": "stdout",
     "output_type": "stream",
     "text": [
      "Early stopping, best iteration is:\n",
      "[732]\ttraining's l1: 0.635357\tvalid_1's l1: 0.724839\n",
      "[LightGBM] [Warning] feature_fraction is set=0.8118917174949567, colsample_bytree=0.9 will be ignored. Current value: feature_fraction=0.8118917174949567\n",
      "[LightGBM] [Warning] bagging_fraction is set=0.4028039164768761, subsample=0.8 will be ignored. Current value: bagging_fraction=0.4028039164768761\n",
      "[LightGBM] [Warning] bagging_freq is set=8, subsample_freq=0 will be ignored. Current value: bagging_freq=8\n",
      "Training until validation scores don't improve for 100 rounds\n",
      "[100]\ttraining's l1: 0.629671\tvalid_1's l1: 0.716731\n",
      "[200]\ttraining's l1: 0.627132\tvalid_1's l1: 0.711778\n",
      "[300]\ttraining's l1: 0.627096\tvalid_1's l1: 0.711769\n"
     ]
    },
    {
     "name": "stderr",
     "output_type": "stream",
     "text": [
      "\u001b[32m[I 2021-07-06 13:32:54,442]\u001b[0m Trial 20 finished with value: -0.7117680700331364 and parameters: {'max_depth': 9, 'min_child_weight': 12, 'subsample': 0.8, 'colsample_bytree': 0.9, 'reg_lambda': 0.6956825654892294, 'reg_alpha': 0.12160420528245766, 'feature_fraction': 0.8118917174949567, 'bagging_fraction': 0.4028039164768761, 'bagging_freq': 8}. Best is trial 14 with value: -0.6768802603498367.\u001b[0m\n"
     ]
    },
    {
     "name": "stdout",
     "output_type": "stream",
     "text": [
      "Early stopping, best iteration is:\n",
      "[228]\ttraining's l1: 0.627096\tvalid_1's l1: 0.711769\n",
      "[LightGBM] [Warning] feature_fraction is set=0.9995192246489506, colsample_bytree=0.9 will be ignored. Current value: feature_fraction=0.9995192246489506\n",
      "[LightGBM] [Warning] bagging_fraction is set=0.5661408407884035, subsample=0.9 will be ignored. Current value: bagging_fraction=0.5661408407884035\n",
      "[LightGBM] [Warning] bagging_freq is set=10, subsample_freq=0 will be ignored. Current value: bagging_freq=10\n",
      "Training until validation scores don't improve for 100 rounds\n",
      "[100]\ttraining's l1: 0.620552\tvalid_1's l1: 0.701124\n",
      "[200]\ttraining's l1: 0.619287\tvalid_1's l1: 0.698669\n",
      "[300]\ttraining's l1: 0.618969\tvalid_1's l1: 0.697897\n",
      "[400]\ttraining's l1: 0.617856\tvalid_1's l1: 0.69542\n",
      "[500]\ttraining's l1: 0.617242\tvalid_1's l1: 0.694255\n",
      "[600]\ttraining's l1: 0.617094\tvalid_1's l1: 0.693986\n",
      "[700]\ttraining's l1: 0.616958\tvalid_1's l1: 0.693848\n",
      "[800]\ttraining's l1: 0.616838\tvalid_1's l1: 0.693524\n",
      "Early stopping, best iteration is:\n",
      "[728]\ttraining's l1: 0.616853\tvalid_1's l1: 0.693506\n"
     ]
    },
    {
     "name": "stderr",
     "output_type": "stream",
     "text": [
      "\u001b[32m[I 2021-07-06 13:33:16,590]\u001b[0m Trial 21 finished with value: -0.6934928318999101 and parameters: {'max_depth': 6, 'min_child_weight': 9, 'subsample': 0.9, 'colsample_bytree': 0.9, 'reg_lambda': 0.04471421297757595, 'reg_alpha': 1.6970918588298056, 'feature_fraction': 0.9995192246489506, 'bagging_fraction': 0.5661408407884035, 'bagging_freq': 10}. Best is trial 14 with value: -0.6768802603498367.\u001b[0m\n"
     ]
    },
    {
     "name": "stdout",
     "output_type": "stream",
     "text": [
      "[LightGBM] [Warning] feature_fraction is set=0.9589714990798086, colsample_bytree=0.9 will be ignored. Current value: feature_fraction=0.9589714990798086\n",
      "[LightGBM] [Warning] bagging_fraction is set=0.5499311225769221, subsample=0.7 will be ignored. Current value: bagging_fraction=0.5499311225769221\n",
      "[LightGBM] [Warning] bagging_freq is set=10, subsample_freq=0 will be ignored. Current value: bagging_freq=10\n",
      "Training until validation scores don't improve for 100 rounds\n",
      "[100]\ttraining's l1: 0.626967\tvalid_1's l1: 0.712887\n",
      "[200]\ttraining's l1: 0.626899\tvalid_1's l1: 0.712768\n",
      "[300]\ttraining's l1: 0.624272\tvalid_1's l1: 0.708258\n",
      "[400]\ttraining's l1: 0.623138\tvalid_1's l1: 0.706481\n",
      "[500]\ttraining's l1: 0.623136\tvalid_1's l1: 0.70648\n",
      "[600]\ttraining's l1: 0.623096\tvalid_1's l1: 0.70648\n",
      "[700]\ttraining's l1: 0.622997\tvalid_1's l1: 0.706152\n",
      "[800]\ttraining's l1: 0.622663\tvalid_1's l1: 0.705541\n",
      "Early stopping, best iteration is:\n",
      "[712]\ttraining's l1: 0.622664\tvalid_1's l1: 0.70554\n"
     ]
    },
    {
     "name": "stderr",
     "output_type": "stream",
     "text": [
      "\u001b[32m[I 2021-07-06 13:33:38,331]\u001b[0m Trial 22 finished with value: -0.7055384966052957 and parameters: {'max_depth': 7, 'min_child_weight': 9, 'subsample': 0.7, 'colsample_bytree': 0.9, 'reg_lambda': 0.004353257083371504, 'reg_alpha': 1.2768751667148857, 'feature_fraction': 0.9589714990798086, 'bagging_fraction': 0.5499311225769221, 'bagging_freq': 10}. Best is trial 14 with value: -0.6768802603498367.\u001b[0m\n"
     ]
    },
    {
     "name": "stdout",
     "output_type": "stream",
     "text": [
      "[LightGBM] [Warning] feature_fraction is set=0.4059724137384876, colsample_bytree=0.8 will be ignored. Current value: feature_fraction=0.4059724137384876\n",
      "[LightGBM] [Warning] bagging_fraction is set=0.6315772607867209, subsample=0.8 will be ignored. Current value: bagging_fraction=0.6315772607867209\n",
      "[LightGBM] [Warning] bagging_freq is set=9, subsample_freq=0 will be ignored. Current value: bagging_freq=9\n",
      "Training until validation scores don't improve for 100 rounds\n",
      "[100]\ttraining's l1: 0.621903\tvalid_1's l1: 0.703258\n",
      "[200]\ttraining's l1: 0.620609\tvalid_1's l1: 0.701396\n",
      "[300]\ttraining's l1: 0.620497\tvalid_1's l1: 0.701293\n",
      "[400]\ttraining's l1: 0.620405\tvalid_1's l1: 0.701145\n",
      "[500]\ttraining's l1: 0.619788\tvalid_1's l1: 0.700275\n",
      "[600]\ttraining's l1: 0.619237\tvalid_1's l1: 0.699299\n",
      "[700]\ttraining's l1: 0.619173\tvalid_1's l1: 0.699188\n",
      "Early stopping, best iteration is:\n",
      "[613]\ttraining's l1: 0.619178\tvalid_1's l1: 0.699184\n"
     ]
    },
    {
     "name": "stderr",
     "output_type": "stream",
     "text": [
      "\u001b[32m[I 2021-07-06 13:34:00,153]\u001b[0m Trial 23 finished with value: -0.6991747394244224 and parameters: {'max_depth': 5, 'min_child_weight': 6, 'subsample': 0.8, 'colsample_bytree': 0.8, 'reg_lambda': 0.04215468419911853, 'reg_alpha': 4.549667148952041, 'feature_fraction': 0.4059724137384876, 'bagging_fraction': 0.6315772607867209, 'bagging_freq': 9}. Best is trial 14 with value: -0.6768802603498367.\u001b[0m\n"
     ]
    },
    {
     "name": "stdout",
     "output_type": "stream",
     "text": [
      "[LightGBM] [Warning] feature_fraction is set=0.8797988322140402, colsample_bytree=0.9 will be ignored. Current value: feature_fraction=0.8797988322140402\n",
      "[LightGBM] [Warning] bagging_fraction is set=0.6869866338252192, subsample=0.9 will be ignored. Current value: bagging_fraction=0.6869866338252192\n",
      "[LightGBM] [Warning] bagging_freq is set=8, subsample_freq=0 will be ignored. Current value: bagging_freq=8\n",
      "Training until validation scores don't improve for 100 rounds\n",
      "[100]\ttraining's l1: 0.687836\tvalid_1's l1: 0.798623\n",
      "[200]\ttraining's l1: 0.680899\tvalid_1's l1: 0.790372\n",
      "[300]\ttraining's l1: 0.680808\tvalid_1's l1: 0.790334\n"
     ]
    },
    {
     "name": "stderr",
     "output_type": "stream",
     "text": [
      "\u001b[32m[I 2021-07-06 13:34:08,489]\u001b[0m Trial 24 finished with value: -0.7903283171395765 and parameters: {'max_depth': 1, 'min_child_weight': 9, 'subsample': 0.9, 'colsample_bytree': 0.9, 'reg_lambda': 0.3959563661397165, 'reg_alpha': 0.7612200297696531, 'feature_fraction': 0.8797988322140402, 'bagging_fraction': 0.6869866338252192, 'bagging_freq': 8}. Best is trial 14 with value: -0.6768802603498367.\u001b[0m\n"
     ]
    },
    {
     "name": "stdout",
     "output_type": "stream",
     "text": [
      "Early stopping, best iteration is:\n",
      "[244]\ttraining's l1: 0.68081\tvalid_1's l1: 0.790328\n",
      "[LightGBM] [Warning] feature_fraction is set=0.9981315162180916, colsample_bytree=0.8 will be ignored. Current value: feature_fraction=0.9981315162180916\n",
      "[LightGBM] [Warning] bagging_fraction is set=0.5117476052892852, subsample=0.8 will be ignored. Current value: bagging_fraction=0.5117476052892852\n",
      "[LightGBM] [Warning] bagging_freq is set=10, subsample_freq=0 will be ignored. Current value: bagging_freq=10\n",
      "Training until validation scores don't improve for 100 rounds\n",
      "[100]\ttraining's l1: 0.627242\tvalid_1's l1: 0.713969\n",
      "[200]\ttraining's l1: 0.627197\tvalid_1's l1: 0.71385\n"
     ]
    },
    {
     "name": "stderr",
     "output_type": "stream",
     "text": [
      "\u001b[32m[I 2021-07-06 13:34:15,803]\u001b[0m Trial 25 finished with value: -0.7138385218852135 and parameters: {'max_depth': 7, 'min_child_weight': 13, 'subsample': 0.8, 'colsample_bytree': 0.8, 'reg_lambda': 2.1479210764980823, 'reg_alpha': 18.779748526922745, 'feature_fraction': 0.9981315162180916, 'bagging_fraction': 0.5117476052892852, 'bagging_freq': 10}. Best is trial 14 with value: -0.6768802603498367.\u001b[0m\n"
     ]
    },
    {
     "name": "stdout",
     "output_type": "stream",
     "text": [
      "Early stopping, best iteration is:\n",
      "[136]\ttraining's l1: 0.627204\tvalid_1's l1: 0.71384\n",
      "[LightGBM] [Warning] feature_fraction is set=0.9540970199342178, colsample_bytree=0.9 will be ignored. Current value: feature_fraction=0.9540970199342178\n",
      "[LightGBM] [Warning] bagging_fraction is set=0.6314787612623545, subsample=0.7 will be ignored. Current value: bagging_fraction=0.6314787612623545\n",
      "[LightGBM] [Warning] bagging_freq is set=9, subsample_freq=0 will be ignored. Current value: bagging_freq=9\n",
      "Training until validation scores don't improve for 100 rounds\n",
      "[100]\ttraining's l1: 0.630075\tvalid_1's l1: 0.7188\n",
      "[200]\ttraining's l1: 0.628727\tvalid_1's l1: 0.716174\n",
      "[300]\ttraining's l1: 0.628724\tvalid_1's l1: 0.716173\n",
      "Early stopping, best iteration is:\n",
      "[207]\ttraining's l1: 0.628727\tvalid_1's l1: 0.716173\n"
     ]
    },
    {
     "name": "stderr",
     "output_type": "stream",
     "text": [
      "\u001b[32m[I 2021-07-06 13:34:26,070]\u001b[0m Trial 26 finished with value: -0.7161728494639388 and parameters: {'max_depth': 10, 'min_child_weight': 10, 'subsample': 0.7, 'colsample_bytree': 0.9, 'reg_lambda': 0.017955284400836265, 'reg_alpha': 2.0513379455906557, 'feature_fraction': 0.9540970199342178, 'bagging_fraction': 0.6314787612623545, 'bagging_freq': 9}. Best is trial 14 with value: -0.6768802603498367.\u001b[0m\n"
     ]
    },
    {
     "name": "stdout",
     "output_type": "stream",
     "text": [
      "[LightGBM] [Warning] feature_fraction is set=0.8599190342078948, colsample_bytree=0.9 will be ignored. Current value: feature_fraction=0.8599190342078948\n",
      "[LightGBM] [Warning] bagging_fraction is set=0.7592650109465334, subsample=0.6 will be ignored. Current value: bagging_fraction=0.7592650109465334\n",
      "[LightGBM] [Warning] bagging_freq is set=8, subsample_freq=0 will be ignored. Current value: bagging_freq=8\n",
      "Training until validation scores don't improve for 100 rounds\n",
      "[100]\ttraining's l1: 0.62376\tvalid_1's l1: 0.706484\n",
      "[200]\ttraining's l1: 0.620903\tvalid_1's l1: 0.699899\n",
      "[300]\ttraining's l1: 0.618786\tvalid_1's l1: 0.695452\n",
      "[400]\ttraining's l1: 0.618232\tvalid_1's l1: 0.694302\n"
     ]
    },
    {
     "name": "stderr",
     "output_type": "stream",
     "text": [
      "\u001b[32m[I 2021-07-06 13:34:40,939]\u001b[0m Trial 27 finished with value: -0.6942862052029645 and parameters: {'max_depth': 4, 'min_child_weight': 4, 'subsample': 0.6, 'colsample_bytree': 0.9, 'reg_lambda': 0.039552759468369975, 'reg_alpha': 0.0010539620276066007, 'feature_fraction': 0.8599190342078948, 'bagging_fraction': 0.7592650109465334, 'bagging_freq': 8}. Best is trial 14 with value: -0.6768802603498367.\u001b[0m\n"
     ]
    },
    {
     "name": "stdout",
     "output_type": "stream",
     "text": [
      "Early stopping, best iteration is:\n",
      "[376]\ttraining's l1: 0.618248\tvalid_1's l1: 0.694295\n",
      "[LightGBM] [Warning] feature_fraction is set=0.923155870434403, colsample_bytree=0.8 will be ignored. Current value: feature_fraction=0.923155870434403\n",
      "[LightGBM] [Warning] bagging_fraction is set=0.6027026221307932, subsample=0.9 will be ignored. Current value: bagging_fraction=0.6027026221307932\n",
      "[LightGBM] [Warning] bagging_freq is set=10, subsample_freq=0 will be ignored. Current value: bagging_freq=10\n",
      "Training until validation scores don't improve for 100 rounds\n",
      "[100]\ttraining's l1: 0.628406\tvalid_1's l1: 0.715539\n",
      "[200]\ttraining's l1: 0.627372\tvalid_1's l1: 0.713635\n",
      "[300]\ttraining's l1: 0.627081\tvalid_1's l1: 0.713034\n",
      "[400]\ttraining's l1: 0.626673\tvalid_1's l1: 0.712586\n"
     ]
    },
    {
     "name": "stderr",
     "output_type": "stream",
     "text": [
      "\u001b[32m[I 2021-07-06 13:34:55,395]\u001b[0m Trial 28 finished with value: -0.7125840947195541 and parameters: {'max_depth': 8, 'min_child_weight': 12, 'subsample': 0.9, 'colsample_bytree': 0.8, 'reg_lambda': 0.0036153465333032798, 'reg_alpha': 0.6027299906623121, 'feature_fraction': 0.923155870434403, 'bagging_fraction': 0.6027026221307932, 'bagging_freq': 10}. Best is trial 14 with value: -0.6768802603498367.\u001b[0m\n"
     ]
    },
    {
     "name": "stdout",
     "output_type": "stream",
     "text": [
      "Early stopping, best iteration is:\n",
      "[386]\ttraining's l1: 0.626673\tvalid_1's l1: 0.712586\n",
      "[LightGBM] [Warning] feature_fraction is set=0.7951888173357591, colsample_bytree=0.6 will be ignored. Current value: feature_fraction=0.7951888173357591\n",
      "[LightGBM] [Warning] bagging_fraction is set=0.5619842424892113, subsample=0.8 will be ignored. Current value: bagging_fraction=0.5619842424892113\n",
      "[LightGBM] [Warning] bagging_freq is set=9, subsample_freq=0 will be ignored. Current value: bagging_freq=9\n",
      "Training until validation scores don't improve for 100 rounds\n",
      "[100]\ttraining's l1: 0.656189\tvalid_1's l1: 0.757966\n",
      "[200]\ttraining's l1: 0.654042\tvalid_1's l1: 0.755097\n",
      "[300]\ttraining's l1: 0.651789\tvalid_1's l1: 0.751267\n",
      "[400]\ttraining's l1: 0.650421\tvalid_1's l1: 0.749312\n",
      "[500]\ttraining's l1: 0.648418\tvalid_1's l1: 0.745758\n",
      "[600]\ttraining's l1: 0.644212\tvalid_1's l1: 0.73866\n",
      "[700]\ttraining's l1: 0.642281\tvalid_1's l1: 0.735326\n",
      "[800]\ttraining's l1: 0.641474\tvalid_1's l1: 0.733771\n",
      "[900]\ttraining's l1: 0.641178\tvalid_1's l1: 0.732914\n",
      "[1000]\ttraining's l1: 0.640162\tvalid_1's l1: 0.731056\n",
      "[1100]\ttraining's l1: 0.639908\tvalid_1's l1: 0.730737\n",
      "[1200]\ttraining's l1: 0.639729\tvalid_1's l1: 0.730166\n",
      "[1300]\ttraining's l1: 0.639726\tvalid_1's l1: 0.73016\n",
      "[1400]\ttraining's l1: 0.639723\tvalid_1's l1: 0.730155\n",
      "[1500]\ttraining's l1: 0.639333\tvalid_1's l1: 0.7292\n",
      "[1600]\ttraining's l1: 0.63933\tvalid_1's l1: 0.729196\n",
      "[1700]\ttraining's l1: 0.6387\tvalid_1's l1: 0.728488\n",
      "Early stopping, best iteration is:\n",
      "[1662]\ttraining's l1: 0.6387\tvalid_1's l1: 0.728488\n"
     ]
    },
    {
     "name": "stderr",
     "output_type": "stream",
     "text": [
      "\u001b[32m[I 2021-07-06 13:35:30,897]\u001b[0m Trial 29 finished with value: -0.7284756680652132 and parameters: {'max_depth': 2, 'min_child_weight': 10, 'subsample': 0.8, 'colsample_bytree': 0.6, 'reg_lambda': 1.368805596395567, 'reg_alpha': 81.70769530759263, 'feature_fraction': 0.7951888173357591, 'bagging_fraction': 0.5619842424892113, 'bagging_freq': 9}. Best is trial 14 with value: -0.6768802603498367.\u001b[0m\n"
     ]
    },
    {
     "name": "stdout",
     "output_type": "stream",
     "text": [
      "[LightGBM] [Warning] feature_fraction is set=0.958922983797078, colsample_bytree=0.9 will be ignored. Current value: feature_fraction=0.958922983797078\n",
      "[LightGBM] [Warning] bagging_fraction is set=0.4221296151146062, subsample=0.7 will be ignored. Current value: bagging_fraction=0.4221296151146062\n",
      "[LightGBM] [Warning] bagging_freq is set=1, subsample_freq=0 will be ignored. Current value: bagging_freq=1\n",
      "Training until validation scores don't improve for 100 rounds\n",
      "[100]\ttraining's l1: 0.617748\tvalid_1's l1: 0.694747\n",
      "[200]\ttraining's l1: 0.615256\tvalid_1's l1: 0.690171\n",
      "[300]\ttraining's l1: 0.613762\tvalid_1's l1: 0.687945\n",
      "[400]\ttraining's l1: 0.612739\tvalid_1's l1: 0.685916\n",
      "[500]\ttraining's l1: 0.612082\tvalid_1's l1: 0.685\n",
      "[600]\ttraining's l1: 0.610802\tvalid_1's l1: 0.682009\n",
      "[700]\ttraining's l1: 0.610535\tvalid_1's l1: 0.681307\n",
      "[800]\ttraining's l1: 0.609945\tvalid_1's l1: 0.68025\n",
      "[900]\ttraining's l1: 0.6096\tvalid_1's l1: 0.679992\n",
      "[1000]\ttraining's l1: 0.608813\tvalid_1's l1: 0.678553\n",
      "[1100]\ttraining's l1: 0.60858\tvalid_1's l1: 0.678499\n",
      "[1200]\ttraining's l1: 0.608107\tvalid_1's l1: 0.677792\n",
      "[1300]\ttraining's l1: 0.607992\tvalid_1's l1: 0.677723\n",
      "[1400]\ttraining's l1: 0.607734\tvalid_1's l1: 0.677485\n",
      "[1500]\ttraining's l1: 0.607431\tvalid_1's l1: 0.677203\n",
      "[1600]\ttraining's l1: 0.607294\tvalid_1's l1: 0.676768\n",
      "[1700]\ttraining's l1: 0.607072\tvalid_1's l1: 0.676623\n",
      "[1800]\ttraining's l1: 0.606667\tvalid_1's l1: 0.676087\n",
      "Early stopping, best iteration is:\n",
      "[1752]\ttraining's l1: 0.606782\tvalid_1's l1: 0.67598\n"
     ]
    },
    {
     "name": "stderr",
     "output_type": "stream",
     "text": [
      "\u001b[32m[I 2021-07-06 13:36:50,459]\u001b[0m Trial 30 finished with value: -0.6759262170840002 and parameters: {'max_depth': 5, 'min_child_weight': 16, 'subsample': 0.7, 'colsample_bytree': 0.9, 'reg_lambda': 0.32486954583760996, 'reg_alpha': 0.1187342867290339, 'feature_fraction': 0.958922983797078, 'bagging_fraction': 0.4221296151146062, 'bagging_freq': 1}. Best is trial 30 with value: -0.6759262170840002.\u001b[0m\n"
     ]
    },
    {
     "name": "stdout",
     "output_type": "stream",
     "text": [
      "[LightGBM] [Warning] feature_fraction is set=0.9637531286558434, colsample_bytree=0.9 will be ignored. Current value: feature_fraction=0.9637531286558434\n",
      "[LightGBM] [Warning] bagging_fraction is set=0.40525296021072843, subsample=0.7 will be ignored. Current value: bagging_fraction=0.40525296021072843\n",
      "[LightGBM] [Warning] bagging_freq is set=1, subsample_freq=0 will be ignored. Current value: bagging_freq=1\n",
      "Training until validation scores don't improve for 100 rounds\n",
      "[100]\ttraining's l1: 0.617577\tvalid_1's l1: 0.69517\n",
      "[200]\ttraining's l1: 0.615251\tvalid_1's l1: 0.69082\n",
      "[300]\ttraining's l1: 0.614542\tvalid_1's l1: 0.689978\n",
      "[400]\ttraining's l1: 0.613878\tvalid_1's l1: 0.688684\n",
      "[500]\ttraining's l1: 0.613265\tvalid_1's l1: 0.687587\n",
      "[600]\ttraining's l1: 0.613103\tvalid_1's l1: 0.687615\n",
      "[700]\ttraining's l1: 0.611923\tvalid_1's l1: 0.685866\n",
      "[800]\ttraining's l1: 0.611752\tvalid_1's l1: 0.685593\n",
      "[900]\ttraining's l1: 0.610866\tvalid_1's l1: 0.68367\n",
      "[1000]\ttraining's l1: 0.610541\tvalid_1's l1: 0.683151\n",
      "[1100]\ttraining's l1: 0.610014\tvalid_1's l1: 0.682368\n",
      "[1200]\ttraining's l1: 0.609802\tvalid_1's l1: 0.681864\n",
      "Early stopping, best iteration is:\n",
      "[1182]\ttraining's l1: 0.609825\tvalid_1's l1: 0.681851\n"
     ]
    },
    {
     "name": "stderr",
     "output_type": "stream",
     "text": [
      "\u001b[32m[I 2021-07-06 13:37:45,041]\u001b[0m Trial 31 finished with value: -0.6818226615821493 and parameters: {'max_depth': 5, 'min_child_weight': 16, 'subsample': 0.7, 'colsample_bytree': 0.9, 'reg_lambda': 0.3040103294555291, 'reg_alpha': 0.24284508271230226, 'feature_fraction': 0.9637531286558434, 'bagging_fraction': 0.40525296021072843, 'bagging_freq': 1}. Best is trial 30 with value: -0.6759262170840002.\u001b[0m\n"
     ]
    },
    {
     "name": "stdout",
     "output_type": "stream",
     "text": [
      "[LightGBM] [Warning] feature_fraction is set=0.9475987628432189, colsample_bytree=0.9 will be ignored. Current value: feature_fraction=0.9475987628432189\n",
      "[LightGBM] [Warning] bagging_fraction is set=0.43089413049956865, subsample=0.7 will be ignored. Current value: bagging_fraction=0.43089413049956865\n",
      "[LightGBM] [Warning] bagging_freq is set=1, subsample_freq=0 will be ignored. Current value: bagging_freq=1\n",
      "Training until validation scores don't improve for 100 rounds\n",
      "[100]\ttraining's l1: 0.619576\tvalid_1's l1: 0.699139\n",
      "[200]\ttraining's l1: 0.616422\tvalid_1's l1: 0.693694\n",
      "[300]\ttraining's l1: 0.614057\tvalid_1's l1: 0.688928\n",
      "[400]\ttraining's l1: 0.613367\tvalid_1's l1: 0.688103\n",
      "[500]\ttraining's l1: 0.612607\tvalid_1's l1: 0.686837\n",
      "[600]\ttraining's l1: 0.61175\tvalid_1's l1: 0.684815\n",
      "[700]\ttraining's l1: 0.610967\tvalid_1's l1: 0.683623\n",
      "[800]\ttraining's l1: 0.610263\tvalid_1's l1: 0.682413\n",
      "[900]\ttraining's l1: 0.610049\tvalid_1's l1: 0.682164\n",
      "[1000]\ttraining's l1: 0.609465\tvalid_1's l1: 0.681481\n",
      "[1100]\ttraining's l1: 0.608295\tvalid_1's l1: 0.680318\n",
      "[1200]\ttraining's l1: 0.607755\tvalid_1's l1: 0.679888\n",
      "[1300]\ttraining's l1: 0.606522\tvalid_1's l1: 0.677733\n",
      "[1400]\ttraining's l1: 0.606287\tvalid_1's l1: 0.677503\n",
      "[1500]\ttraining's l1: 0.606185\tvalid_1's l1: 0.677617\n",
      "Early stopping, best iteration is:\n",
      "[1414]\ttraining's l1: 0.606278\tvalid_1's l1: 0.67749\n"
     ]
    },
    {
     "name": "stderr",
     "output_type": "stream",
     "text": [
      "\u001b[32m[I 2021-07-06 13:38:51,569]\u001b[0m Trial 32 finished with value: -0.6774478378934993 and parameters: {'max_depth': 5, 'min_child_weight': 20, 'subsample': 0.7, 'colsample_bytree': 0.9, 'reg_lambda': 5.085045179890393, 'reg_alpha': 0.09917813345780806, 'feature_fraction': 0.9475987628432189, 'bagging_fraction': 0.43089413049956865, 'bagging_freq': 1}. Best is trial 30 with value: -0.6759262170840002.\u001b[0m\n"
     ]
    },
    {
     "name": "stdout",
     "output_type": "stream",
     "text": [
      "[LightGBM] [Warning] feature_fraction is set=0.8924309310385192, colsample_bytree=0.9 will be ignored. Current value: feature_fraction=0.8924309310385192\n",
      "[LightGBM] [Warning] bagging_fraction is set=0.40522703416924993, subsample=0.7 will be ignored. Current value: bagging_fraction=0.40522703416924993\n",
      "[LightGBM] [Warning] bagging_freq is set=1, subsample_freq=0 will be ignored. Current value: bagging_freq=1\n",
      "Training until validation scores don't improve for 100 rounds\n",
      "[100]\ttraining's l1: 0.640851\tvalid_1's l1: 0.73463\n",
      "[200]\ttraining's l1: 0.636498\tvalid_1's l1: 0.727395\n",
      "[300]\ttraining's l1: 0.635658\tvalid_1's l1: 0.726266\n",
      "[400]\ttraining's l1: 0.63404\tvalid_1's l1: 0.723502\n",
      "[500]\ttraining's l1: 0.634039\tvalid_1's l1: 0.723498\n",
      "[600]\ttraining's l1: 0.632804\tvalid_1's l1: 0.721715\n",
      "[700]\ttraining's l1: 0.632804\tvalid_1's l1: 0.721715\n"
     ]
    },
    {
     "name": "stderr",
     "output_type": "stream",
     "text": [
      "\u001b[32m[I 2021-07-06 13:39:21,283]\u001b[0m Trial 33 finished with value: -0.7217126131521963 and parameters: {'max_depth': 3, 'min_child_weight': 19, 'subsample': 0.7, 'colsample_bytree': 0.9, 'reg_lambda': 3.894181116453693, 'reg_alpha': 0.10730174265461069, 'feature_fraction': 0.8924309310385192, 'bagging_fraction': 0.40522703416924993, 'bagging_freq': 1}. Best is trial 30 with value: -0.6759262170840002.\u001b[0m\n"
     ]
    },
    {
     "name": "stdout",
     "output_type": "stream",
     "text": [
      "Early stopping, best iteration is:\n",
      "[644]\ttraining's l1: 0.632804\tvalid_1's l1: 0.721715\n",
      "[LightGBM] [Warning] feature_fraction is set=0.9529920713440259, colsample_bytree=0.8 will be ignored. Current value: feature_fraction=0.9529920713440259\n",
      "[LightGBM] [Warning] bagging_fraction is set=0.41998123441068036, subsample=0.6 will be ignored. Current value: bagging_fraction=0.41998123441068036\n",
      "[LightGBM] [Warning] bagging_freq is set=2, subsample_freq=0 will be ignored. Current value: bagging_freq=2\n",
      "Training until validation scores don't improve for 100 rounds\n",
      "[100]\ttraining's l1: 0.64179\tvalid_1's l1: 0.735777\n",
      "[200]\ttraining's l1: 0.632352\tvalid_1's l1: 0.71906\n",
      "[300]\ttraining's l1: 0.630141\tvalid_1's l1: 0.715689\n",
      "[400]\ttraining's l1: 0.629822\tvalid_1's l1: 0.715006\n",
      "[500]\ttraining's l1: 0.628917\tvalid_1's l1: 0.713644\n",
      "[600]\ttraining's l1: 0.628916\tvalid_1's l1: 0.713644\n"
     ]
    },
    {
     "name": "stderr",
     "output_type": "stream",
     "text": [
      "\u001b[32m[I 2021-07-06 13:39:41,038]\u001b[0m Trial 34 finished with value: -0.7136344542994023 and parameters: {'max_depth': 3, 'min_child_weight': 17, 'subsample': 0.6, 'colsample_bytree': 0.8, 'reg_lambda': 113.07362373687332, 'reg_alpha': 0.07006352425026009, 'feature_fraction': 0.9529920713440259, 'bagging_fraction': 0.41998123441068036, 'bagging_freq': 2}. Best is trial 30 with value: -0.6759262170840002.\u001b[0m\n"
     ]
    },
    {
     "name": "stdout",
     "output_type": "stream",
     "text": [
      "Early stopping, best iteration is:\n",
      "[584]\ttraining's l1: 0.628917\tvalid_1's l1: 0.713643\n",
      "[LightGBM] [Warning] feature_fraction is set=0.6372761677001775, colsample_bytree=0.9 will be ignored. Current value: feature_fraction=0.6372761677001775\n",
      "[LightGBM] [Warning] bagging_fraction is set=0.47939674508383234, subsample=0.7 will be ignored. Current value: bagging_fraction=0.47939674508383234\n",
      "[LightGBM] [Warning] bagging_freq is set=2, subsample_freq=0 will be ignored. Current value: bagging_freq=2\n",
      "Training until validation scores don't improve for 100 rounds\n",
      "[100]\ttraining's l1: 0.62112\tvalid_1's l1: 0.701723\n",
      "[200]\ttraining's l1: 0.620624\tvalid_1's l1: 0.700528\n",
      "[300]\ttraining's l1: 0.620345\tvalid_1's l1: 0.699971\n",
      "[400]\ttraining's l1: 0.619877\tvalid_1's l1: 0.699059\n",
      "[500]\ttraining's l1: 0.619715\tvalid_1's l1: 0.698762\n",
      "[600]\ttraining's l1: 0.619636\tvalid_1's l1: 0.698542\n",
      "[700]\ttraining's l1: 0.61963\tvalid_1's l1: 0.698508\n",
      "[800]\ttraining's l1: 0.61904\tvalid_1's l1: 0.697496\n",
      "[900]\ttraining's l1: 0.619002\tvalid_1's l1: 0.697502\n",
      "[1000]\ttraining's l1: 0.618873\tvalid_1's l1: 0.697292\n",
      "Early stopping, best iteration is:\n",
      "[985]\ttraining's l1: 0.618873\tvalid_1's l1: 0.697288\n"
     ]
    },
    {
     "name": "stderr",
     "output_type": "stream",
     "text": [
      "\u001b[32m[I 2021-07-06 13:40:18,815]\u001b[0m Trial 35 finished with value: -0.6972708390977279 and parameters: {'max_depth': 5, 'min_child_weight': 20, 'subsample': 0.7, 'colsample_bytree': 0.9, 'reg_lambda': 15.13137333827093, 'reg_alpha': 0.24056353828530555, 'feature_fraction': 0.6372761677001775, 'bagging_fraction': 0.47939674508383234, 'bagging_freq': 2}. Best is trial 30 with value: -0.6759262170840002.\u001b[0m\n"
     ]
    },
    {
     "name": "stdout",
     "output_type": "stream",
     "text": [
      "[LightGBM] [Warning] feature_fraction is set=0.9183284324537495, colsample_bytree=0.8 will be ignored. Current value: feature_fraction=0.9183284324537495\n",
      "[LightGBM] [Warning] bagging_fraction is set=0.4329094162685618, subsample=0.6 will be ignored. Current value: bagging_fraction=0.4329094162685618\n",
      "[LightGBM] [Warning] bagging_freq is set=2, subsample_freq=0 will be ignored. Current value: bagging_freq=2\n",
      "Training until validation scores don't improve for 100 rounds\n",
      "[100]\ttraining's l1: 0.6175\tvalid_1's l1: 0.69691\n",
      "[200]\ttraining's l1: 0.613985\tvalid_1's l1: 0.690396\n",
      "[300]\ttraining's l1: 0.612485\tvalid_1's l1: 0.688223\n",
      "[400]\ttraining's l1: 0.612375\tvalid_1's l1: 0.688282\n"
     ]
    },
    {
     "name": "stderr",
     "output_type": "stream",
     "text": [
      "\u001b[32m[I 2021-07-06 13:40:33,032]\u001b[0m Trial 36 finished with value: -0.6882144792930354 and parameters: {'max_depth': 5, 'min_child_weight': 16, 'subsample': 0.6, 'colsample_bytree': 0.8, 'reg_lambda': 6.533246402284164, 'reg_alpha': 0.0048404318081853494, 'feature_fraction': 0.9183284324537495, 'bagging_fraction': 0.4329094162685618, 'bagging_freq': 2}. Best is trial 30 with value: -0.6759262170840002.\u001b[0m\n"
     ]
    },
    {
     "name": "stdout",
     "output_type": "stream",
     "text": [
      "Early stopping, best iteration is:\n",
      "[314]\ttraining's l1: 0.612481\tvalid_1's l1: 0.68822\n",
      "[LightGBM] [Warning] feature_fraction is set=0.8354327802588282, colsample_bytree=0.9 will be ignored. Current value: feature_fraction=0.8354327802588282\n",
      "[LightGBM] [Warning] bagging_fraction is set=0.47662215005568814, subsample=0.7 will be ignored. Current value: bagging_fraction=0.47662215005568814\n",
      "[LightGBM] [Warning] bagging_freq is set=3, subsample_freq=0 will be ignored. Current value: bagging_freq=3\n",
      "Training until validation scores don't improve for 100 rounds\n",
      "[100]\ttraining's l1: 0.62869\tvalid_1's l1: 0.715521\n",
      "[200]\ttraining's l1: 0.625846\tvalid_1's l1: 0.709801\n",
      "[300]\ttraining's l1: 0.625838\tvalid_1's l1: 0.709798\n",
      "[400]\ttraining's l1: 0.625342\tvalid_1's l1: 0.709016\n",
      "[500]\ttraining's l1: 0.625334\tvalid_1's l1: 0.709009\n",
      "[600]\ttraining's l1: 0.625324\tvalid_1's l1: 0.709004\n",
      "[700]\ttraining's l1: 0.625321\tvalid_1's l1: 0.709\n",
      "[800]\ttraining's l1: 0.62532\tvalid_1's l1: 0.708999\n",
      "[900]\ttraining's l1: 0.62532\tvalid_1's l1: 0.708999\n",
      "Early stopping, best iteration is:\n",
      "[882]\ttraining's l1: 0.62532\tvalid_1's l1: 0.708999\n"
     ]
    },
    {
     "name": "stderr",
     "output_type": "stream",
     "text": [
      "\u001b[32m[I 2021-07-06 13:41:02,762]\u001b[0m Trial 37 finished with value: -0.7089975668488541 and parameters: {'max_depth': 8, 'min_child_weight': 19, 'subsample': 0.7, 'colsample_bytree': 0.9, 'reg_lambda': 1.9707757101639867, 'reg_alpha': 0.03615407195218584, 'feature_fraction': 0.8354327802588282, 'bagging_fraction': 0.47662215005568814, 'bagging_freq': 3}. Best is trial 30 with value: -0.6759262170840002.\u001b[0m\n"
     ]
    },
    {
     "name": "stdout",
     "output_type": "stream",
     "text": [
      "[LightGBM] [Warning] feature_fraction is set=0.7820844408845766, colsample_bytree=0.7 will be ignored. Current value: feature_fraction=0.7820844408845766\n",
      "[LightGBM] [Warning] bagging_fraction is set=0.442368810805537, subsample=0.7 will be ignored. Current value: bagging_fraction=0.442368810805537\n",
      "[LightGBM] [Warning] bagging_freq is set=4, subsample_freq=0 will be ignored. Current value: bagging_freq=4\n",
      "Training until validation scores don't improve for 100 rounds\n",
      "[100]\ttraining's l1: 0.629635\tvalid_1's l1: 0.716162\n",
      "[200]\ttraining's l1: 0.628084\tvalid_1's l1: 0.713059\n",
      "[300]\ttraining's l1: 0.628078\tvalid_1's l1: 0.713051\n",
      "[400]\ttraining's l1: 0.628072\tvalid_1's l1: 0.713044\n",
      "[500]\ttraining's l1: 0.628072\tvalid_1's l1: 0.713044\n",
      "[600]\ttraining's l1: 0.627638\tvalid_1's l1: 0.712171\n",
      "[700]\ttraining's l1: 0.627637\tvalid_1's l1: 0.71217\n",
      "Early stopping, best iteration is:\n",
      "[611]\ttraining's l1: 0.627638\tvalid_1's l1: 0.71217\n"
     ]
    },
    {
     "name": "stderr",
     "output_type": "stream",
     "text": [
      "\u001b[32m[I 2021-07-06 13:41:22,381]\u001b[0m Trial 38 finished with value: -0.712167079893266 and parameters: {'max_depth': 11, 'min_child_weight': 16, 'subsample': 0.7, 'colsample_bytree': 0.7, 'reg_lambda': 47.22295058499623, 'reg_alpha': 0.011032042342806381, 'feature_fraction': 0.7820844408845766, 'bagging_fraction': 0.442368810805537, 'bagging_freq': 4}. Best is trial 30 with value: -0.6759262170840002.\u001b[0m\n"
     ]
    },
    {
     "name": "stdout",
     "output_type": "stream",
     "text": [
      "[LightGBM] [Warning] feature_fraction is set=0.7067128239341306, colsample_bytree=0.6 will be ignored. Current value: feature_fraction=0.7067128239341306\n",
      "[LightGBM] [Warning] bagging_fraction is set=0.40306439401698196, subsample=0.6 will be ignored. Current value: bagging_fraction=0.40306439401698196\n",
      "[LightGBM] [Warning] bagging_freq is set=1, subsample_freq=0 will be ignored. Current value: bagging_freq=1\n",
      "Training until validation scores don't improve for 100 rounds\n",
      "[100]\ttraining's l1: 0.656938\tvalid_1's l1: 0.759285\n",
      "[200]\ttraining's l1: 0.646868\tvalid_1's l1: 0.743876\n",
      "[300]\ttraining's l1: 0.645399\tvalid_1's l1: 0.741153\n",
      "[400]\ttraining's l1: 0.644196\tvalid_1's l1: 0.739138\n"
     ]
    },
    {
     "name": "stderr",
     "output_type": "stream",
     "text": [
      "\u001b[32m[I 2021-07-06 13:41:40,355]\u001b[0m Trial 39 finished with value: -0.7391358332139065 and parameters: {'max_depth': 2, 'min_child_weight': 18, 'subsample': 0.6, 'colsample_bytree': 0.6, 'reg_lambda': 0.35887080900608137, 'reg_alpha': 0.3561311274288058, 'feature_fraction': 0.7067128239341306, 'bagging_fraction': 0.40306439401698196, 'bagging_freq': 1}. Best is trial 30 with value: -0.6759262170840002.\u001b[0m\n"
     ]
    },
    {
     "name": "stdout",
     "output_type": "stream",
     "text": [
      "Early stopping, best iteration is:\n",
      "[343]\ttraining's l1: 0.644196\tvalid_1's l1: 0.739138\n",
      "[LightGBM] [Warning] feature_fraction is set=0.9657559754134731, colsample_bytree=0.9 will be ignored. Current value: feature_fraction=0.9657559754134731\n",
      "[LightGBM] [Warning] bagging_fraction is set=0.4618047993658564, subsample=0.7 will be ignored. Current value: bagging_fraction=0.4618047993658564\n",
      "[LightGBM] [Warning] bagging_freq is set=5, subsample_freq=0 will be ignored. Current value: bagging_freq=5\n",
      "Training until validation scores don't improve for 100 rounds\n",
      "[100]\ttraining's l1: 0.690374\tvalid_1's l1: 0.80105\n",
      "[200]\ttraining's l1: 0.690373\tvalid_1's l1: 0.801045\n",
      "[300]\ttraining's l1: 0.690373\tvalid_1's l1: 0.801043\n",
      "[400]\ttraining's l1: 0.690373\tvalid_1's l1: 0.801042\n"
     ]
    },
    {
     "name": "stderr",
     "output_type": "stream",
     "text": [
      "\u001b[32m[I 2021-07-06 13:41:50,093]\u001b[0m Trial 40 finished with value: -0.8010418535258736 and parameters: {'max_depth': 1, 'min_child_weight': 15, 'subsample': 0.7, 'colsample_bytree': 0.9, 'reg_lambda': 13.379443611062392, 'reg_alpha': 0.17138453556894176, 'feature_fraction': 0.9657559754134731, 'bagging_fraction': 0.4618047993658564, 'bagging_freq': 5}. Best is trial 30 with value: -0.6759262170840002.\u001b[0m\n"
     ]
    },
    {
     "name": "stdout",
     "output_type": "stream",
     "text": [
      "Early stopping, best iteration is:\n",
      "[384]\ttraining's l1: 0.690373\tvalid_1's l1: 0.801042\n",
      "[LightGBM] [Warning] feature_fraction is set=0.9203299003817401, colsample_bytree=0.8 will be ignored. Current value: feature_fraction=0.9203299003817401\n",
      "[LightGBM] [Warning] bagging_fraction is set=0.42825018755883015, subsample=0.6 will be ignored. Current value: bagging_fraction=0.42825018755883015\n",
      "[LightGBM] [Warning] bagging_freq is set=2, subsample_freq=0 will be ignored. Current value: bagging_freq=2\n",
      "Training until validation scores don't improve for 100 rounds\n",
      "[100]\ttraining's l1: 0.619198\tvalid_1's l1: 0.698809\n",
      "[200]\ttraining's l1: 0.615867\tvalid_1's l1: 0.691859\n",
      "[300]\ttraining's l1: 0.614778\tvalid_1's l1: 0.689874\n",
      "[400]\ttraining's l1: 0.614026\tvalid_1's l1: 0.688303\n",
      "[500]\ttraining's l1: 0.612755\tvalid_1's l1: 0.686618\n",
      "[600]\ttraining's l1: 0.610681\tvalid_1's l1: 0.682961\n",
      "[700]\ttraining's l1: 0.61055\tvalid_1's l1: 0.682893\n",
      "Early stopping, best iteration is:\n",
      "[646]\ttraining's l1: 0.610593\tvalid_1's l1: 0.682822\n"
     ]
    },
    {
     "name": "stderr",
     "output_type": "stream",
     "text": [
      "\u001b[32m[I 2021-07-06 13:42:14,138]\u001b[0m Trial 41 finished with value: -0.6828064218187163 and parameters: {'max_depth': 5, 'min_child_weight': 16, 'subsample': 0.6, 'colsample_bytree': 0.8, 'reg_lambda': 5.3180559136170436, 'reg_alpha': 0.0015280575668817874, 'feature_fraction': 0.9203299003817401, 'bagging_fraction': 0.42825018755883015, 'bagging_freq': 2}. Best is trial 30 with value: -0.6759262170840002.\u001b[0m\n"
     ]
    },
    {
     "name": "stdout",
     "output_type": "stream",
     "text": [
      "[LightGBM] [Warning] feature_fraction is set=0.9041354992052134, colsample_bytree=0.8 will be ignored. Current value: feature_fraction=0.9041354992052134\n",
      "[LightGBM] [Warning] bagging_fraction is set=0.5047787377965351, subsample=0.6 will be ignored. Current value: bagging_fraction=0.5047787377965351\n",
      "[LightGBM] [Warning] bagging_freq is set=2, subsample_freq=0 will be ignored. Current value: bagging_freq=2\n",
      "Training until validation scores don't improve for 100 rounds\n",
      "[100]\ttraining's l1: 0.619226\tvalid_1's l1: 0.698305\n",
      "[200]\ttraining's l1: 0.616404\tvalid_1's l1: 0.692901\n",
      "[300]\ttraining's l1: 0.614314\tvalid_1's l1: 0.689276\n",
      "[400]\ttraining's l1: 0.613084\tvalid_1's l1: 0.686828\n",
      "[500]\ttraining's l1: 0.612473\tvalid_1's l1: 0.685413\n",
      "[600]\ttraining's l1: 0.611684\tvalid_1's l1: 0.684004\n",
      "[700]\ttraining's l1: 0.611546\tvalid_1's l1: 0.683924\n",
      "[800]\ttraining's l1: 0.610487\tvalid_1's l1: 0.682274\n",
      "[900]\ttraining's l1: 0.609773\tvalid_1's l1: 0.680722\n",
      "[1000]\ttraining's l1: 0.608727\tvalid_1's l1: 0.679576\n",
      "[1100]\ttraining's l1: 0.608466\tvalid_1's l1: 0.679098\n",
      "[1200]\ttraining's l1: 0.608099\tvalid_1's l1: 0.678575\n",
      "[1300]\ttraining's l1: 0.607797\tvalid_1's l1: 0.677917\n",
      "[1400]\ttraining's l1: 0.607652\tvalid_1's l1: 0.677691\n",
      "[1500]\ttraining's l1: 0.607229\tvalid_1's l1: 0.677148\n",
      "[1600]\ttraining's l1: 0.606832\tvalid_1's l1: 0.676261\n",
      "[1700]\ttraining's l1: 0.606625\tvalid_1's l1: 0.676112\n",
      "Early stopping, best iteration is:\n",
      "[1673]\ttraining's l1: 0.606625\tvalid_1's l1: 0.67611\n"
     ]
    },
    {
     "name": "stderr",
     "output_type": "stream",
     "text": [
      "\u001b[32m[I 2021-07-06 13:43:14,771]\u001b[0m Trial 42 finished with value: -0.6760855940559762 and parameters: {'max_depth': 5, 'min_child_weight': 18, 'subsample': 0.6, 'colsample_bytree': 0.8, 'reg_lambda': 4.252600026675327, 'reg_alpha': 0.0013158017590182258, 'feature_fraction': 0.9041354992052134, 'bagging_fraction': 0.5047787377965351, 'bagging_freq': 2}. Best is trial 30 with value: -0.6759262170840002.\u001b[0m\n"
     ]
    },
    {
     "name": "stdout",
     "output_type": "stream",
     "text": [
      "[LightGBM] [Warning] feature_fraction is set=0.8541563082452102, colsample_bytree=0.8 will be ignored. Current value: feature_fraction=0.8541563082452102\n",
      "[LightGBM] [Warning] bagging_fraction is set=0.4980350404003215, subsample=0.7 will be ignored. Current value: bagging_fraction=0.4980350404003215\n",
      "[LightGBM] [Warning] bagging_freq is set=1, subsample_freq=0 will be ignored. Current value: bagging_freq=1\n",
      "Training until validation scores don't improve for 100 rounds\n",
      "[100]\ttraining's l1: 0.623779\tvalid_1's l1: 0.705942\n",
      "[200]\ttraining's l1: 0.620229\tvalid_1's l1: 0.699844\n",
      "[300]\ttraining's l1: 0.619556\tvalid_1's l1: 0.698641\n",
      "[400]\ttraining's l1: 0.61938\tvalid_1's l1: 0.698605\n"
     ]
    },
    {
     "name": "stderr",
     "output_type": "stream",
     "text": [
      "\u001b[32m[I 2021-07-06 13:43:35,253]\u001b[0m Trial 43 finished with value: -0.6985466722951494 and parameters: {'max_depth': 4, 'min_child_weight': 19, 'subsample': 0.7, 'colsample_bytree': 0.8, 'reg_lambda': 2.8963399713176488, 'reg_alpha': 0.01057883004613575, 'feature_fraction': 0.8541563082452102, 'bagging_fraction': 0.4980350404003215, 'bagging_freq': 1}. Best is trial 30 with value: -0.6759262170840002.\u001b[0m\n"
     ]
    },
    {
     "name": "stdout",
     "output_type": "stream",
     "text": [
      "Early stopping, best iteration is:\n",
      "[315]\ttraining's l1: 0.619483\tvalid_1's l1: 0.698549\n",
      "[LightGBM] [Warning] feature_fraction is set=0.9007931934304085, colsample_bytree=0.9 will be ignored. Current value: feature_fraction=0.9007931934304085\n",
      "[LightGBM] [Warning] bagging_fraction is set=0.5361920574632217, subsample=0.6 will be ignored. Current value: bagging_fraction=0.5361920574632217\n",
      "[LightGBM] [Warning] bagging_freq is set=1, subsample_freq=0 will be ignored. Current value: bagging_freq=1\n",
      "Training until validation scores don't improve for 100 rounds\n",
      "[100]\ttraining's l1: 0.630351\tvalid_1's l1: 0.71635\n",
      "[200]\ttraining's l1: 0.630224\tvalid_1's l1: 0.716179\n",
      "[300]\ttraining's l1: 0.629647\tvalid_1's l1: 0.714566\n",
      "[400]\ttraining's l1: 0.629607\tvalid_1's l1: 0.714389\n",
      "[500]\ttraining's l1: 0.629572\tvalid_1's l1: 0.714323\n",
      "[600]\ttraining's l1: 0.629505\tvalid_1's l1: 0.714286\n",
      "[700]\ttraining's l1: 0.628819\tvalid_1's l1: 0.712632\n",
      "[800]\ttraining's l1: 0.628451\tvalid_1's l1: 0.711704\n",
      "[900]\ttraining's l1: 0.628437\tvalid_1's l1: 0.711691\n",
      "[1000]\ttraining's l1: 0.628054\tvalid_1's l1: 0.710519\n",
      "[1100]\ttraining's l1: 0.627984\tvalid_1's l1: 0.710361\n",
      "[1200]\ttraining's l1: 0.627983\tvalid_1's l1: 0.710362\n",
      "Early stopping, best iteration is:\n",
      "[1101]\ttraining's l1: 0.627984\tvalid_1's l1: 0.710361\n"
     ]
    },
    {
     "name": "stderr",
     "output_type": "stream",
     "text": [
      "\u001b[32m[I 2021-07-06 13:44:02,387]\u001b[0m Trial 44 finished with value: -0.7103460933805062 and parameters: {'max_depth': 8, 'min_child_weight': 18, 'subsample': 0.6, 'colsample_bytree': 0.9, 'reg_lambda': 823.1773419706507, 'reg_alpha': 0.07345253934123633, 'feature_fraction': 0.9007931934304085, 'bagging_fraction': 0.5361920574632217, 'bagging_freq': 1}. Best is trial 30 with value: -0.6759262170840002.\u001b[0m\n"
     ]
    },
    {
     "name": "stdout",
     "output_type": "stream",
     "text": [
      "[LightGBM] [Warning] feature_fraction is set=0.9705342180503469, colsample_bytree=0.7 will be ignored. Current value: feature_fraction=0.9705342180503469\n",
      "[LightGBM] [Warning] bagging_fraction is set=0.48407636339849774, subsample=0.5 will be ignored. Current value: bagging_fraction=0.48407636339849774\n",
      "[LightGBM] [Warning] bagging_freq is set=3, subsample_freq=0 will be ignored. Current value: bagging_freq=3\n",
      "Training until validation scores don't improve for 100 rounds\n",
      "[100]\ttraining's l1: 0.625453\tvalid_1's l1: 0.711787\n",
      "[200]\ttraining's l1: 0.625231\tvalid_1's l1: 0.711501\n",
      "[300]\ttraining's l1: 0.625141\tvalid_1's l1: 0.71138\n",
      "[400]\ttraining's l1: 0.624721\tvalid_1's l1: 0.710274\n",
      "[500]\ttraining's l1: 0.624717\tvalid_1's l1: 0.710266\n",
      "[600]\ttraining's l1: 0.62463\tvalid_1's l1: 0.710022\n",
      "[700]\ttraining's l1: 0.624627\tvalid_1's l1: 0.710018\n",
      "[800]\ttraining's l1: 0.624625\tvalid_1's l1: 0.710019\n",
      "Early stopping, best iteration is:\n",
      "[721]\ttraining's l1: 0.624627\tvalid_1's l1: 0.710018\n"
     ]
    },
    {
     "name": "stderr",
     "output_type": "stream",
     "text": [
      "\u001b[32m[I 2021-07-06 13:44:27,790]\u001b[0m Trial 45 finished with value: -0.7100165762228693 and parameters: {'max_depth': 7, 'min_child_weight': 20, 'subsample': 0.5, 'colsample_bytree': 0.7, 'reg_lambda': 25.152778290169614, 'reg_alpha': 0.028880839456253655, 'feature_fraction': 0.9705342180503469, 'bagging_fraction': 0.48407636339849774, 'bagging_freq': 3}. Best is trial 30 with value: -0.6759262170840002.\u001b[0m\n"
     ]
    },
    {
     "name": "stdout",
     "output_type": "stream",
     "text": [
      "[LightGBM] [Warning] feature_fraction is set=0.5477244082749642, colsample_bytree=0.9 will be ignored. Current value: feature_fraction=0.5477244082749642\n",
      "[LightGBM] [Warning] bagging_fraction is set=0.4513248025304562, subsample=0.7 will be ignored. Current value: bagging_fraction=0.4513248025304562\n",
      "[LightGBM] [Warning] bagging_freq is set=2, subsample_freq=0 will be ignored. Current value: bagging_freq=2\n",
      "Training until validation scores don't improve for 100 rounds\n",
      "[100]\ttraining's l1: 0.632781\tvalid_1's l1: 0.723208\n",
      "[200]\ttraining's l1: 0.631508\tvalid_1's l1: 0.720781\n",
      "[300]\ttraining's l1: 0.629996\tvalid_1's l1: 0.717961\n",
      "[400]\ttraining's l1: 0.62883\tvalid_1's l1: 0.716009\n",
      "[500]\ttraining's l1: 0.628694\tvalid_1's l1: 0.71589\n",
      "[600]\ttraining's l1: 0.627824\tvalid_1's l1: 0.714585\n",
      "[700]\ttraining's l1: 0.626927\tvalid_1's l1: 0.712641\n",
      "[800]\ttraining's l1: 0.626909\tvalid_1's l1: 0.712637\n"
     ]
    },
    {
     "name": "stderr",
     "output_type": "stream",
     "text": [
      "\u001b[32m[I 2021-07-06 13:44:54,245]\u001b[0m Trial 46 finished with value: -0.7126101832441387 and parameters: {'max_depth': 3, 'min_child_weight': 15, 'subsample': 0.7, 'colsample_bytree': 0.9, 'reg_lambda': 1.0366731810338923, 'reg_alpha': 0.4920434594623075, 'feature_fraction': 0.5477244082749642, 'bagging_fraction': 0.4513248025304562, 'bagging_freq': 2}. Best is trial 30 with value: -0.6759262170840002.\u001b[0m\n"
     ]
    },
    {
     "name": "stdout",
     "output_type": "stream",
     "text": [
      "Early stopping, best iteration is:\n",
      "[730]\ttraining's l1: 0.626917\tvalid_1's l1: 0.712625\n",
      "[LightGBM] [Warning] feature_fraction is set=0.8381857046690508, colsample_bytree=0.9 will be ignored. Current value: feature_fraction=0.8381857046690508\n",
      "[LightGBM] [Warning] bagging_fraction is set=0.40102464952525485, subsample=0.6 will be ignored. Current value: bagging_fraction=0.40102464952525485\n",
      "[LightGBM] [Warning] bagging_freq is set=3, subsample_freq=0 will be ignored. Current value: bagging_freq=3\n",
      "Training until validation scores don't improve for 100 rounds\n",
      "[100]\ttraining's l1: 0.623265\tvalid_1's l1: 0.706123\n",
      "[200]\ttraining's l1: 0.623258\tvalid_1's l1: 0.706115\n",
      "[300]\ttraining's l1: 0.62325\tvalid_1's l1: 0.706094\n",
      "[400]\ttraining's l1: 0.622541\tvalid_1's l1: 0.704406\n",
      "[500]\ttraining's l1: 0.622368\tvalid_1's l1: 0.704179\n",
      "[600]\ttraining's l1: 0.622349\tvalid_1's l1: 0.704115\n"
     ]
    },
    {
     "name": "stderr",
     "output_type": "stream",
     "text": [
      "\u001b[32m[I 2021-07-06 13:45:12,299]\u001b[0m Trial 47 finished with value: -0.7041089280765065 and parameters: {'max_depth': 6, 'min_child_weight': 18, 'subsample': 0.6, 'colsample_bytree': 0.9, 'reg_lambda': 138.84150594835182, 'reg_alpha': 0.01477398322758387, 'feature_fraction': 0.8381857046690508, 'bagging_fraction': 0.40102464952525485, 'bagging_freq': 3}. Best is trial 30 with value: -0.6759262170840002.\u001b[0m\n"
     ]
    },
    {
     "name": "stdout",
     "output_type": "stream",
     "text": [
      "Early stopping, best iteration is:\n",
      "[553]\ttraining's l1: 0.622349\tvalid_1's l1: 0.704115\n",
      "[LightGBM] [Warning] feature_fraction is set=0.9330953386903253, colsample_bytree=0.7 will be ignored. Current value: feature_fraction=0.9330953386903253\n",
      "[LightGBM] [Warning] bagging_fraction is set=0.5358573008189961, subsample=0.7 will be ignored. Current value: bagging_fraction=0.5358573008189961\n",
      "[LightGBM] [Warning] bagging_freq is set=5, subsample_freq=0 will be ignored. Current value: bagging_freq=5\n",
      "Training until validation scores don't improve for 100 rounds\n",
      "[100]\ttraining's l1: 0.630015\tvalid_1's l1: 0.717989\n",
      "[200]\ttraining's l1: 0.628569\tvalid_1's l1: 0.715505\n",
      "[300]\ttraining's l1: 0.628374\tvalid_1's l1: 0.715044\n",
      "[400]\ttraining's l1: 0.628369\tvalid_1's l1: 0.715043\n",
      "[500]\ttraining's l1: 0.628368\tvalid_1's l1: 0.715043\n",
      "[600]\ttraining's l1: 0.628367\tvalid_1's l1: 0.715042\n",
      "Early stopping, best iteration is:\n",
      "[585]\ttraining's l1: 0.628368\tvalid_1's l1: 0.715041\n"
     ]
    },
    {
     "name": "stderr",
     "output_type": "stream",
     "text": [
      "\u001b[32m[I 2021-07-06 13:45:32,836]\u001b[0m Trial 48 finished with value: -0.7150411813594252 and parameters: {'max_depth': 15, 'min_child_weight': 14, 'subsample': 0.7, 'colsample_bytree': 0.7, 'reg_lambda': 7.889557557493345, 'reg_alpha': 0.051056325794300236, 'feature_fraction': 0.9330953386903253, 'bagging_fraction': 0.5358573008189961, 'bagging_freq': 5}. Best is trial 30 with value: -0.6759262170840002.\u001b[0m\n"
     ]
    },
    {
     "name": "stdout",
     "output_type": "stream",
     "text": [
      "[LightGBM] [Warning] feature_fraction is set=0.8891556750000397, colsample_bytree=0.8 will be ignored. Current value: feature_fraction=0.8891556750000397\n",
      "[LightGBM] [Warning] bagging_fraction is set=0.49847680035740244, subsample=0.7 will be ignored. Current value: bagging_fraction=0.49847680035740244\n",
      "[LightGBM] [Warning] bagging_freq is set=1, subsample_freq=0 will be ignored. Current value: bagging_freq=1\n",
      "Training until validation scores don't improve for 100 rounds\n",
      "[100]\ttraining's l1: 0.624911\tvalid_1's l1: 0.707634\n",
      "[200]\ttraining's l1: 0.623373\tvalid_1's l1: 0.70455\n"
     ]
    },
    {
     "name": "stderr",
     "output_type": "stream",
     "text": [
      "\u001b[32m[I 2021-07-06 13:45:48,101]\u001b[0m Trial 49 finished with value: -0.7045407146572047 and parameters: {'max_depth': 4, 'min_child_weight': 16, 'subsample': 0.7, 'colsample_bytree': 0.8, 'reg_lambda': 0.25956400565901566, 'reg_alpha': 0.002992483853096816, 'feature_fraction': 0.8891556750000397, 'bagging_fraction': 0.49847680035740244, 'bagging_freq': 1}. Best is trial 30 with value: -0.6759262170840002.\u001b[0m\n"
     ]
    },
    {
     "name": "stdout",
     "output_type": "stream",
     "text": [
      "Early stopping, best iteration is:\n",
      "[199]\ttraining's l1: 0.623373\tvalid_1's l1: 0.70455\n",
      "[LightGBM] [Warning] feature_fraction is set=0.9777150033011465, colsample_bytree=0.9 will be ignored. Current value: feature_fraction=0.9777150033011465\n",
      "[LightGBM] [Warning] bagging_fraction is set=0.4558579522885624, subsample=0.6 will be ignored. Current value: bagging_fraction=0.4558579522885624\n",
      "[LightGBM] [Warning] bagging_freq is set=2, subsample_freq=0 will be ignored. Current value: bagging_freq=2\n",
      "Training until validation scores don't improve for 100 rounds\n",
      "[100]\ttraining's l1: 0.619306\tvalid_1's l1: 0.698632\n",
      "[200]\ttraining's l1: 0.616349\tvalid_1's l1: 0.693112\n",
      "[300]\ttraining's l1: 0.615373\tvalid_1's l1: 0.691334\n",
      "[400]\ttraining's l1: 0.614835\tvalid_1's l1: 0.690648\n",
      "[500]\ttraining's l1: 0.614074\tvalid_1's l1: 0.689193\n",
      "[600]\ttraining's l1: 0.61383\tvalid_1's l1: 0.688845\n",
      "[700]\ttraining's l1: 0.613049\tvalid_1's l1: 0.687644\n",
      "[800]\ttraining's l1: 0.612616\tvalid_1's l1: 0.686802\n",
      "[900]\ttraining's l1: 0.612138\tvalid_1's l1: 0.686019\n",
      "[1000]\ttraining's l1: 0.611724\tvalid_1's l1: 0.68552\n",
      "[1100]\ttraining's l1: 0.61101\tvalid_1's l1: 0.684225\n",
      "[1200]\ttraining's l1: 0.609824\tvalid_1's l1: 0.682722\n",
      "[1300]\ttraining's l1: 0.609622\tvalid_1's l1: 0.682475\n",
      "[1400]\ttraining's l1: 0.609542\tvalid_1's l1: 0.682401\n",
      "[1500]\ttraining's l1: 0.60922\tvalid_1's l1: 0.68186\n",
      "[1600]\ttraining's l1: 0.609041\tvalid_1's l1: 0.681632\n",
      "[1700]\ttraining's l1: 0.60849\tvalid_1's l1: 0.679975\n",
      "[1800]\ttraining's l1: 0.608303\tvalid_1's l1: 0.679951\n",
      "Early stopping, best iteration is:\n",
      "[1727]\ttraining's l1: 0.608367\tvalid_1's l1: 0.679912\n"
     ]
    },
    {
     "name": "stderr",
     "output_type": "stream",
     "text": [
      "\u001b[32m[I 2021-07-06 13:46:47,064]\u001b[0m Trial 50 finished with value: -0.679883120460624 and parameters: {'max_depth': 5, 'min_child_weight': 17, 'subsample': 0.6, 'colsample_bytree': 0.9, 'reg_lambda': 0.7182314269146443, 'reg_alpha': 3.6120089249568066, 'feature_fraction': 0.9777150033011465, 'bagging_fraction': 0.4558579522885624, 'bagging_freq': 2}. Best is trial 30 with value: -0.6759262170840002.\u001b[0m\n"
     ]
    },
    {
     "name": "stdout",
     "output_type": "stream",
     "text": [
      "[LightGBM] [Warning] feature_fraction is set=0.9737342945931651, colsample_bytree=0.9 will be ignored. Current value: feature_fraction=0.9737342945931651\n",
      "[LightGBM] [Warning] bagging_fraction is set=0.4533270078553907, subsample=0.6 will be ignored. Current value: bagging_fraction=0.4533270078553907\n",
      "[LightGBM] [Warning] bagging_freq is set=2, subsample_freq=0 will be ignored. Current value: bagging_freq=2\n",
      "Training until validation scores don't improve for 100 rounds\n",
      "[100]\ttraining's l1: 0.618771\tvalid_1's l1: 0.697814\n",
      "[200]\ttraining's l1: 0.616007\tvalid_1's l1: 0.692545\n",
      "[300]\ttraining's l1: 0.61483\tvalid_1's l1: 0.690088\n",
      "[400]\ttraining's l1: 0.614238\tvalid_1's l1: 0.689092\n",
      "[500]\ttraining's l1: 0.612754\tvalid_1's l1: 0.687235\n",
      "[600]\ttraining's l1: 0.611134\tvalid_1's l1: 0.684538\n",
      "[700]\ttraining's l1: 0.610869\tvalid_1's l1: 0.684166\n",
      "[800]\ttraining's l1: 0.610133\tvalid_1's l1: 0.683292\n",
      "[900]\ttraining's l1: 0.609384\tvalid_1's l1: 0.681633\n",
      "[1000]\ttraining's l1: 0.607995\tvalid_1's l1: 0.680239\n",
      "[1100]\ttraining's l1: 0.607553\tvalid_1's l1: 0.679125\n",
      "[1200]\ttraining's l1: 0.607215\tvalid_1's l1: 0.678961\n",
      "[1300]\ttraining's l1: 0.606926\tvalid_1's l1: 0.678564\n",
      "Early stopping, best iteration is:\n",
      "[1240]\ttraining's l1: 0.606961\tvalid_1's l1: 0.678525\n"
     ]
    },
    {
     "name": "stderr",
     "output_type": "stream",
     "text": [
      "\u001b[32m[I 2021-07-06 13:47:30,542]\u001b[0m Trial 51 finished with value: -0.6784941579523435 and parameters: {'max_depth': 5, 'min_child_weight': 17, 'subsample': 0.6, 'colsample_bytree': 0.9, 'reg_lambda': 0.5725664737387612, 'reg_alpha': 3.444576551541298, 'feature_fraction': 0.9737342945931651, 'bagging_fraction': 0.4533270078553907, 'bagging_freq': 2}. Best is trial 30 with value: -0.6759262170840002.\u001b[0m\n"
     ]
    },
    {
     "name": "stdout",
     "output_type": "stream",
     "text": [
      "[LightGBM] [Warning] feature_fraction is set=0.9787433647533881, colsample_bytree=0.9 will be ignored. Current value: feature_fraction=0.9787433647533881\n",
      "[LightGBM] [Warning] bagging_fraction is set=0.4530610703144126, subsample=0.5 will be ignored. Current value: bagging_fraction=0.4530610703144126\n",
      "[LightGBM] [Warning] bagging_freq is set=2, subsample_freq=0 will be ignored. Current value: bagging_freq=2\n",
      "Training until validation scores don't improve for 100 rounds\n",
      "[100]\ttraining's l1: 0.621943\tvalid_1's l1: 0.704551\n",
      "[200]\ttraining's l1: 0.619742\tvalid_1's l1: 0.699868\n",
      "[300]\ttraining's l1: 0.619127\tvalid_1's l1: 0.698924\n",
      "[400]\ttraining's l1: 0.618383\tvalid_1's l1: 0.697217\n",
      "[500]\ttraining's l1: 0.6181\tvalid_1's l1: 0.69663\n",
      "[600]\ttraining's l1: 0.617772\tvalid_1's l1: 0.696066\n",
      "[700]\ttraining's l1: 0.617219\tvalid_1's l1: 0.694561\n",
      "[800]\ttraining's l1: 0.617136\tvalid_1's l1: 0.694238\n",
      "Early stopping, best iteration is:\n",
      "[710]\ttraining's l1: 0.617137\tvalid_1's l1: 0.694231\n"
     ]
    },
    {
     "name": "stderr",
     "output_type": "stream",
     "text": [
      "\u001b[32m[I 2021-07-06 13:47:58,085]\u001b[0m Trial 52 finished with value: -0.6942211700326347 and parameters: {'max_depth': 6, 'min_child_weight': 17, 'subsample': 0.5, 'colsample_bytree': 0.9, 'reg_lambda': 0.722970783527328, 'reg_alpha': 6.131821919829924, 'feature_fraction': 0.9787433647533881, 'bagging_fraction': 0.4530610703144126, 'bagging_freq': 2}. Best is trial 30 with value: -0.6759262170840002.\u001b[0m\n"
     ]
    },
    {
     "name": "stdout",
     "output_type": "stream",
     "text": [
      "[LightGBM] [Warning] feature_fraction is set=0.9477450900380857, colsample_bytree=0.9 will be ignored. Current value: feature_fraction=0.9477450900380857\n",
      "[LightGBM] [Warning] bagging_fraction is set=0.46760374884128764, subsample=0.6 will be ignored. Current value: bagging_fraction=0.46760374884128764\n",
      "[LightGBM] [Warning] bagging_freq is set=3, subsample_freq=0 will be ignored. Current value: bagging_freq=3\n",
      "Training until validation scores don't improve for 100 rounds\n",
      "[100]\ttraining's l1: 0.656597\tvalid_1's l1: 0.758513\n",
      "[200]\ttraining's l1: 0.650529\tvalid_1's l1: 0.748965\n"
     ]
    },
    {
     "name": "stderr",
     "output_type": "stream",
     "text": [
      "\u001b[32m[I 2021-07-06 13:48:05,496]\u001b[0m Trial 53 finished with value: -0.7489648372734947 and parameters: {'max_depth': 2, 'min_child_weight': 19, 'subsample': 0.6, 'colsample_bytree': 0.9, 'reg_lambda': 1.2870217092137068, 'reg_alpha': 2.843452995622193, 'feature_fraction': 0.9477450900380857, 'bagging_fraction': 0.46760374884128764, 'bagging_freq': 3}. Best is trial 30 with value: -0.6759262170840002.\u001b[0m\n"
     ]
    },
    {
     "name": "stdout",
     "output_type": "stream",
     "text": [
      "Early stopping, best iteration is:\n",
      "[149]\ttraining's l1: 0.650531\tvalid_1's l1: 0.748965\n",
      "[LightGBM] [Warning] feature_fraction is set=0.9039382499388202, colsample_bytree=0.9 will be ignored. Current value: feature_fraction=0.9039382499388202\n",
      "[LightGBM] [Warning] bagging_fraction is set=0.5245423426746081, subsample=0.5 will be ignored. Current value: bagging_fraction=0.5245423426746081\n",
      "[LightGBM] [Warning] bagging_freq is set=2, subsample_freq=0 will be ignored. Current value: bagging_freq=2\n",
      "Training until validation scores don't improve for 100 rounds\n",
      "[100]\ttraining's l1: 0.625276\tvalid_1's l1: 0.706424\n",
      "[200]\ttraining's l1: 0.621821\tvalid_1's l1: 0.700229\n",
      "[300]\ttraining's l1: 0.621003\tvalid_1's l1: 0.698637\n",
      "[400]\ttraining's l1: 0.620935\tvalid_1's l1: 0.698456\n",
      "[500]\ttraining's l1: 0.620915\tvalid_1's l1: 0.698449\n",
      "[600]\ttraining's l1: 0.620913\tvalid_1's l1: 0.698448\n"
     ]
    },
    {
     "name": "stderr",
     "output_type": "stream",
     "text": [
      "\u001b[32m[I 2021-07-06 13:48:27,784]\u001b[0m Trial 54 finished with value: -0.6984440059992496 and parameters: {'max_depth': 4, 'min_child_weight': 20, 'subsample': 0.5, 'colsample_bytree': 0.9, 'reg_lambda': 2.3856302413719286, 'reg_alpha': 10.854193170315291, 'feature_fraction': 0.9039382499388202, 'bagging_fraction': 0.5245423426746081, 'bagging_freq': 2}. Best is trial 30 with value: -0.6759262170840002.\u001b[0m\n"
     ]
    },
    {
     "name": "stdout",
     "output_type": "stream",
     "text": [
      "Early stopping, best iteration is:\n",
      "[538]\ttraining's l1: 0.620914\tvalid_1's l1: 0.698447\n",
      "[LightGBM] [Warning] feature_fraction is set=0.9991612414524108, colsample_bytree=0.9 will be ignored. Current value: feature_fraction=0.9991612414524108\n",
      "[LightGBM] [Warning] bagging_fraction is set=0.42947328035327964, subsample=0.6 will be ignored. Current value: bagging_fraction=0.42947328035327964\n",
      "[LightGBM] [Warning] bagging_freq is set=4, subsample_freq=0 will be ignored. Current value: bagging_freq=4\n",
      "Training until validation scores don't improve for 100 rounds\n",
      "[100]\ttraining's l1: 0.628655\tvalid_1's l1: 0.715021\n",
      "[200]\ttraining's l1: 0.628569\tvalid_1's l1: 0.714779\n",
      "[300]\ttraining's l1: 0.628567\tvalid_1's l1: 0.714776\n",
      "[400]\ttraining's l1: 0.627766\tvalid_1's l1: 0.713247\n",
      "[500]\ttraining's l1: 0.627399\tvalid_1's l1: 0.712893\n",
      "[600]\ttraining's l1: 0.626815\tvalid_1's l1: 0.712118\n",
      "[700]\ttraining's l1: 0.626477\tvalid_1's l1: 0.711566\n",
      "[800]\ttraining's l1: 0.626459\tvalid_1's l1: 0.711559\n",
      "[900]\ttraining's l1: 0.62642\tvalid_1's l1: 0.711452\n",
      "[1000]\ttraining's l1: 0.626383\tvalid_1's l1: 0.711464\n",
      "Early stopping, best iteration is:\n",
      "[904]\ttraining's l1: 0.62642\tvalid_1's l1: 0.711449\n"
     ]
    },
    {
     "name": "stderr",
     "output_type": "stream",
     "text": [
      "\u001b[32m[I 2021-07-06 13:48:54,096]\u001b[0m Trial 55 finished with value: -0.7114481890982061 and parameters: {'max_depth': 7, 'min_child_weight': 18, 'subsample': 0.6, 'colsample_bytree': 0.9, 'reg_lambda': 0.0894572232066577, 'reg_alpha': 39.94047186027394, 'feature_fraction': 0.9991612414524108, 'bagging_fraction': 0.42947328035327964, 'bagging_freq': 4}. Best is trial 30 with value: -0.6759262170840002.\u001b[0m\n"
     ]
    },
    {
     "name": "stdout",
     "output_type": "stream",
     "text": [
      "[LightGBM] [Warning] feature_fraction is set=0.9356572948159881, colsample_bytree=0.8 will be ignored. Current value: feature_fraction=0.9356572948159881\n",
      "[LightGBM] [Warning] bagging_fraction is set=0.5009466282156995, subsample=0.6 will be ignored. Current value: bagging_fraction=0.5009466282156995\n",
      "[LightGBM] [Warning] bagging_freq is set=2, subsample_freq=0 will be ignored. Current value: bagging_freq=2\n",
      "Training until validation scores don't improve for 100 rounds\n",
      "[100]\ttraining's l1: 0.618575\tvalid_1's l1: 0.697286\n",
      "[200]\ttraining's l1: 0.617077\tvalid_1's l1: 0.694793\n",
      "[300]\ttraining's l1: 0.61649\tvalid_1's l1: 0.693416\n",
      "[400]\ttraining's l1: 0.615589\tvalid_1's l1: 0.691174\n",
      "[500]\ttraining's l1: 0.613992\tvalid_1's l1: 0.688618\n",
      "[600]\ttraining's l1: 0.613476\tvalid_1's l1: 0.68748\n",
      "[700]\ttraining's l1: 0.613372\tvalid_1's l1: 0.687276\n",
      "[800]\ttraining's l1: 0.61278\tvalid_1's l1: 0.686214\n",
      "[900]\ttraining's l1: 0.612503\tvalid_1's l1: 0.685965\n",
      "Early stopping, best iteration is:\n",
      "[859]\ttraining's l1: 0.612531\tvalid_1's l1: 0.685917\n"
     ]
    },
    {
     "name": "stderr",
     "output_type": "stream",
     "text": [
      "\u001b[32m[I 2021-07-06 13:49:27,589]\u001b[0m Trial 56 finished with value: -0.6859025277591219 and parameters: {'max_depth': 5, 'min_child_weight': 17, 'subsample': 0.6, 'colsample_bytree': 0.8, 'reg_lambda': 0.6408696597141808, 'reg_alpha': 20.51717562489352, 'feature_fraction': 0.9356572948159881, 'bagging_fraction': 0.5009466282156995, 'bagging_freq': 2}. Best is trial 30 with value: -0.6759262170840002.\u001b[0m\n"
     ]
    },
    {
     "name": "stdout",
     "output_type": "stream",
     "text": [
      "[LightGBM] [Warning] feature_fraction is set=0.868556111722795, colsample_bytree=0.9 will be ignored. Current value: feature_fraction=0.868556111722795\n",
      "[LightGBM] [Warning] bagging_fraction is set=0.6097735701282576, subsample=0.6 will be ignored. Current value: bagging_fraction=0.6097735701282576\n",
      "[LightGBM] [Warning] bagging_freq is set=4, subsample_freq=0 will be ignored. Current value: bagging_freq=4\n",
      "Training until validation scores don't improve for 100 rounds\n",
      "[100]\ttraining's l1: 0.642514\tvalid_1's l1: 0.737112\n",
      "[200]\ttraining's l1: 0.641486\tvalid_1's l1: 0.735135\n",
      "[300]\ttraining's l1: 0.636045\tvalid_1's l1: 0.726379\n",
      "[400]\ttraining's l1: 0.63604\tvalid_1's l1: 0.726374\n",
      "[500]\ttraining's l1: 0.635273\tvalid_1's l1: 0.724882\n",
      "[600]\ttraining's l1: 0.633006\tvalid_1's l1: 0.721963\n",
      "[700]\ttraining's l1: 0.632779\tvalid_1's l1: 0.721685\n",
      "[800]\ttraining's l1: 0.632391\tvalid_1's l1: 0.720789\n",
      "[900]\ttraining's l1: 0.630745\tvalid_1's l1: 0.717704\n",
      "[1000]\ttraining's l1: 0.630683\tvalid_1's l1: 0.71755\n"
     ]
    },
    {
     "name": "stderr",
     "output_type": "stream",
     "text": [
      "\u001b[32m[I 2021-07-06 13:49:56,453]\u001b[0m Trial 57 finished with value: -0.7175425902277591 and parameters: {'max_depth': 3, 'min_child_weight': 15, 'subsample': 0.6, 'colsample_bytree': 0.9, 'reg_lambda': 4.343400415434207, 'reg_alpha': 1.107708401264067, 'feature_fraction': 0.868556111722795, 'bagging_fraction': 0.6097735701282576, 'bagging_freq': 4}. Best is trial 30 with value: -0.6759262170840002.\u001b[0m\n"
     ]
    },
    {
     "name": "stdout",
     "output_type": "stream",
     "text": [
      "Early stopping, best iteration is:\n",
      "[937]\ttraining's l1: 0.630683\tvalid_1's l1: 0.71755\n",
      "[LightGBM] [Warning] feature_fraction is set=0.9789836352073874, colsample_bytree=0.9 will be ignored. Current value: feature_fraction=0.9789836352073874\n",
      "[LightGBM] [Warning] bagging_fraction is set=0.6718053192466039, subsample=0.5 will be ignored. Current value: bagging_fraction=0.6718053192466039\n",
      "[LightGBM] [Warning] bagging_freq is set=1, subsample_freq=0 will be ignored. Current value: bagging_freq=1\n",
      "Training until validation scores don't improve for 100 rounds\n",
      "[100]\ttraining's l1: 0.622127\tvalid_1's l1: 0.703222\n",
      "[200]\ttraining's l1: 0.621269\tvalid_1's l1: 0.701319\n",
      "[300]\ttraining's l1: 0.621117\tvalid_1's l1: 0.701064\n",
      "[400]\ttraining's l1: 0.620823\tvalid_1's l1: 0.700675\n",
      "[500]\ttraining's l1: 0.620282\tvalid_1's l1: 0.699799\n",
      "[600]\ttraining's l1: 0.62003\tvalid_1's l1: 0.699291\n",
      "[700]\ttraining's l1: 0.619711\tvalid_1's l1: 0.698499\n",
      "[800]\ttraining's l1: 0.619226\tvalid_1's l1: 0.69771\n",
      "[900]\ttraining's l1: 0.618274\tvalid_1's l1: 0.695964\n",
      "[1000]\ttraining's l1: 0.618241\tvalid_1's l1: 0.695967\n",
      "Early stopping, best iteration is:\n",
      "[959]\ttraining's l1: 0.618265\tvalid_1's l1: 0.695963\n"
     ]
    },
    {
     "name": "stderr",
     "output_type": "stream",
     "text": [
      "\u001b[32m[I 2021-07-06 13:50:23,775]\u001b[0m Trial 58 finished with value: -0.6959507620610443 and parameters: {'max_depth': 6, 'min_child_weight': 14, 'subsample': 0.5, 'colsample_bytree': 0.9, 'reg_lambda': 9.791701309604267, 'reg_alpha': 3.5181242538054853, 'feature_fraction': 0.9789836352073874, 'bagging_fraction': 0.6718053192466039, 'bagging_freq': 1}. Best is trial 30 with value: -0.6759262170840002.\u001b[0m\n"
     ]
    },
    {
     "name": "stdout",
     "output_type": "stream",
     "text": [
      "[LightGBM] [Warning] feature_fraction is set=0.7484344065506552, colsample_bytree=0.8 will be ignored. Current value: feature_fraction=0.7484344065506552\n",
      "[LightGBM] [Warning] bagging_fraction is set=0.7309252611550464, subsample=0.6 will be ignored. Current value: bagging_fraction=0.7309252611550464\n",
      "[LightGBM] [Warning] bagging_freq is set=3, subsample_freq=0 will be ignored. Current value: bagging_freq=3\n",
      "Training until validation scores don't improve for 100 rounds\n",
      "[100]\ttraining's l1: 0.629393\tvalid_1's l1: 0.716111\n",
      "[200]\ttraining's l1: 0.628374\tvalid_1's l1: 0.713716\n",
      "[300]\ttraining's l1: 0.628164\tvalid_1's l1: 0.713426\n",
      "[400]\ttraining's l1: 0.628123\tvalid_1's l1: 0.713196\n",
      "[500]\ttraining's l1: 0.627743\tvalid_1's l1: 0.712298\n",
      "[600]\ttraining's l1: 0.627743\tvalid_1's l1: 0.712298\n",
      "[700]\ttraining's l1: 0.627733\tvalid_1's l1: 0.71229\n",
      "[800]\ttraining's l1: 0.627733\tvalid_1's l1: 0.712291\n",
      "Early stopping, best iteration is:\n",
      "[747]\ttraining's l1: 0.627733\tvalid_1's l1: 0.71229\n"
     ]
    },
    {
     "name": "stderr",
     "output_type": "stream",
     "text": [
      "\u001b[32m[I 2021-07-06 13:50:56,713]\u001b[0m Trial 59 finished with value: -0.7122891907440148 and parameters: {'max_depth': 8, 'min_child_weight': 19, 'subsample': 0.6, 'colsample_bytree': 0.8, 'reg_lambda': 0.49571176716641074, 'reg_alpha': 78.6530427594921, 'feature_fraction': 0.7484344065506552, 'bagging_fraction': 0.7309252611550464, 'bagging_freq': 3}. Best is trial 30 with value: -0.6759262170840002.\u001b[0m\n"
     ]
    },
    {
     "name": "stdout",
     "output_type": "stream",
     "text": [
      "[LightGBM] [Warning] feature_fraction is set=0.9101558009069709, colsample_bytree=0.9 will be ignored. Current value: feature_fraction=0.9101558009069709\n",
      "[LightGBM] [Warning] bagging_fraction is set=0.544938525855073, subsample=0.6 will be ignored. Current value: bagging_fraction=0.544938525855073\n",
      "[LightGBM] [Warning] bagging_freq is set=7, subsample_freq=0 will be ignored. Current value: bagging_freq=7\n",
      "Training until validation scores don't improve for 100 rounds\n",
      "[100]\ttraining's l1: 0.629472\tvalid_1's l1: 0.716571\n",
      "[200]\ttraining's l1: 0.627238\tvalid_1's l1: 0.712433\n",
      "[300]\ttraining's l1: 0.627187\tvalid_1's l1: 0.71226\n"
     ]
    },
    {
     "name": "stderr",
     "output_type": "stream",
     "text": [
      "\u001b[32m[I 2021-07-06 13:51:07,090]\u001b[0m Trial 60 finished with value: -0.7122554974084514 and parameters: {'max_depth': 10, 'min_child_weight': 17, 'subsample': 0.6, 'colsample_bytree': 0.9, 'reg_lambda': 20.854307015707633, 'reg_alpha': 2.3006503684035726, 'feature_fraction': 0.9101558009069709, 'bagging_fraction': 0.544938525855073, 'bagging_freq': 7}. Best is trial 30 with value: -0.6759262170840002.\u001b[0m\n"
     ]
    },
    {
     "name": "stdout",
     "output_type": "stream",
     "text": [
      "Early stopping, best iteration is:\n",
      "[227]\ttraining's l1: 0.62719\tvalid_1's l1: 0.712256\n",
      "[LightGBM] [Warning] feature_fraction is set=0.9770785830887528, colsample_bytree=0.9 will be ignored. Current value: feature_fraction=0.9770785830887528\n",
      "[LightGBM] [Warning] bagging_fraction is set=0.42006968797175925, subsample=0.7 will be ignored. Current value: bagging_fraction=0.42006968797175925\n",
      "[LightGBM] [Warning] bagging_freq is set=1, subsample_freq=0 will be ignored. Current value: bagging_freq=1\n",
      "Training until validation scores don't improve for 100 rounds\n",
      "[100]\ttraining's l1: 0.618745\tvalid_1's l1: 0.697446\n",
      "[200]\ttraining's l1: 0.616037\tvalid_1's l1: 0.693161\n",
      "[300]\ttraining's l1: 0.614903\tvalid_1's l1: 0.691166\n",
      "[400]\ttraining's l1: 0.613839\tvalid_1's l1: 0.688651\n",
      "[500]\ttraining's l1: 0.613434\tvalid_1's l1: 0.688104\n",
      "[600]\ttraining's l1: 0.61279\tvalid_1's l1: 0.687118\n",
      "[700]\ttraining's l1: 0.612273\tvalid_1's l1: 0.68642\n",
      "[800]\ttraining's l1: 0.611709\tvalid_1's l1: 0.685913\n",
      "[900]\ttraining's l1: 0.611181\tvalid_1's l1: 0.684586\n",
      "[1000]\ttraining's l1: 0.610326\tvalid_1's l1: 0.683626\n",
      "[1100]\ttraining's l1: 0.609397\tvalid_1's l1: 0.682187\n",
      "[1200]\ttraining's l1: 0.608705\tvalid_1's l1: 0.68111\n",
      "[1300]\ttraining's l1: 0.608424\tvalid_1's l1: 0.680599\n",
      "[1400]\ttraining's l1: 0.607969\tvalid_1's l1: 0.679538\n",
      "[1500]\ttraining's l1: 0.607842\tvalid_1's l1: 0.679508\n",
      "Early stopping, best iteration is:\n",
      "[1424]\ttraining's l1: 0.607891\tvalid_1's l1: 0.679467\n"
     ]
    },
    {
     "name": "stderr",
     "output_type": "stream",
     "text": [
      "\u001b[32m[I 2021-07-06 13:52:13,003]\u001b[0m Trial 61 finished with value: -0.6794065553048594 and parameters: {'max_depth': 5, 'min_child_weight': 16, 'subsample': 0.7, 'colsample_bytree': 0.9, 'reg_lambda': 0.19404518480010427, 'reg_alpha': 0.44503191850700985, 'feature_fraction': 0.9770785830887528, 'bagging_fraction': 0.42006968797175925, 'bagging_freq': 1}. Best is trial 30 with value: -0.6759262170840002.\u001b[0m\n"
     ]
    },
    {
     "name": "stdout",
     "output_type": "stream",
     "text": [
      "[LightGBM] [Warning] feature_fraction is set=0.9382221063257576, colsample_bytree=0.9 will be ignored. Current value: feature_fraction=0.9382221063257576\n",
      "[LightGBM] [Warning] bagging_fraction is set=0.4480885973340443, subsample=0.7 will be ignored. Current value: bagging_fraction=0.4480885973340443\n",
      "[LightGBM] [Warning] bagging_freq is set=1, subsample_freq=0 will be ignored. Current value: bagging_freq=1\n",
      "Training until validation scores don't improve for 100 rounds\n",
      "[100]\ttraining's l1: 0.618312\tvalid_1's l1: 0.696929\n",
      "[200]\ttraining's l1: 0.613249\tvalid_1's l1: 0.689583\n",
      "[300]\ttraining's l1: 0.612172\tvalid_1's l1: 0.687286\n",
      "[400]\ttraining's l1: 0.612024\tvalid_1's l1: 0.687115\n"
     ]
    },
    {
     "name": "stderr",
     "output_type": "stream",
     "text": [
      "\u001b[32m[I 2021-07-06 13:52:32,891]\u001b[0m Trial 62 finished with value: -0.687091478642642 and parameters: {'max_depth': 5, 'min_child_weight': 18, 'subsample': 0.7, 'colsample_bytree': 0.9, 'reg_lambda': 0.17877924386444946, 'reg_alpha': 0.7960809862466381, 'feature_fraction': 0.9382221063257576, 'bagging_fraction': 0.4480885973340443, 'bagging_freq': 1}. Best is trial 30 with value: -0.6759262170840002.\u001b[0m\n"
     ]
    },
    {
     "name": "stdout",
     "output_type": "stream",
     "text": [
      "Early stopping, best iteration is:\n",
      "[313]\ttraining's l1: 0.612033\tvalid_1's l1: 0.68711\n",
      "[LightGBM] [Warning] feature_fraction is set=0.9984416760893324, colsample_bytree=0.9 will be ignored. Current value: feature_fraction=0.9984416760893324\n",
      "[LightGBM] [Warning] bagging_fraction is set=0.42372136212844036, subsample=0.7 will be ignored. Current value: bagging_fraction=0.42372136212844036\n",
      "[LightGBM] [Warning] bagging_freq is set=2, subsample_freq=0 will be ignored. Current value: bagging_freq=2\n",
      "Training until validation scores don't improve for 100 rounds\n",
      "[100]\ttraining's l1: 0.628848\tvalid_1's l1: 0.713819\n",
      "[200]\ttraining's l1: 0.622384\tvalid_1's l1: 0.700202\n",
      "[300]\ttraining's l1: 0.621835\tvalid_1's l1: 0.699156\n",
      "[400]\ttraining's l1: 0.621554\tvalid_1's l1: 0.698349\n",
      "[500]\ttraining's l1: 0.620405\tvalid_1's l1: 0.697171\n",
      "[600]\ttraining's l1: 0.61996\tvalid_1's l1: 0.69612\n",
      "[700]\ttraining's l1: 0.619643\tvalid_1's l1: 0.695065\n",
      "[800]\ttraining's l1: 0.619128\tvalid_1's l1: 0.694158\n",
      "[900]\ttraining's l1: 0.618871\tvalid_1's l1: 0.693962\n",
      "[1000]\ttraining's l1: 0.61832\tvalid_1's l1: 0.692582\n",
      "[1100]\ttraining's l1: 0.617624\tvalid_1's l1: 0.690875\n",
      "[1200]\ttraining's l1: 0.617418\tvalid_1's l1: 0.690628\n",
      "[1300]\ttraining's l1: 0.616803\tvalid_1's l1: 0.689667\n",
      "Early stopping, best iteration is:\n",
      "[1237]\ttraining's l1: 0.616868\tvalid_1's l1: 0.689636\n"
     ]
    },
    {
     "name": "stderr",
     "output_type": "stream",
     "text": [
      "\u001b[32m[I 2021-07-06 13:53:12,331]\u001b[0m Trial 63 finished with value: -0.6896121093292251 and parameters: {'max_depth': 4, 'min_child_weight': 12, 'subsample': 0.7, 'colsample_bytree': 0.9, 'reg_lambda': 0.09230842565130049, 'reg_alpha': 0.38561444939825756, 'feature_fraction': 0.9984416760893324, 'bagging_fraction': 0.42372136212844036, 'bagging_freq': 2}. Best is trial 30 with value: -0.6759262170840002.\u001b[0m\n"
     ]
    },
    {
     "name": "stdout",
     "output_type": "stream",
     "text": [
      "[LightGBM] [Warning] feature_fraction is set=0.9778487211869147, colsample_bytree=0.9 will be ignored. Current value: feature_fraction=0.9778487211869147\n",
      "[LightGBM] [Warning] bagging_fraction is set=0.48547253886670894, subsample=0.8 will be ignored. Current value: bagging_fraction=0.48547253886670894\n",
      "[LightGBM] [Warning] bagging_freq is set=1, subsample_freq=0 will be ignored. Current value: bagging_freq=1\n",
      "Training until validation scores don't improve for 100 rounds\n",
      "[100]\ttraining's l1: 0.627562\tvalid_1's l1: 0.713349\n",
      "[200]\ttraining's l1: 0.627533\tvalid_1's l1: 0.71334\n",
      "[300]\ttraining's l1: 0.627371\tvalid_1's l1: 0.713089\n",
      "[400]\ttraining's l1: 0.626784\tvalid_1's l1: 0.712066\n",
      "[500]\ttraining's l1: 0.6266\tvalid_1's l1: 0.711758\n",
      "[600]\ttraining's l1: 0.625749\tvalid_1's l1: 0.710084\n",
      "[700]\ttraining's l1: 0.625748\tvalid_1's l1: 0.710084\n",
      "Early stopping, best iteration is:\n",
      "[674]\ttraining's l1: 0.625748\tvalid_1's l1: 0.710083\n"
     ]
    },
    {
     "name": "stderr",
     "output_type": "stream",
     "text": [
      "\u001b[32m[I 2021-07-06 13:53:50,506]\u001b[0m Trial 64 finished with value: -0.7100823395341984 and parameters: {'max_depth': 7, 'min_child_weight': 15, 'subsample': 0.8, 'colsample_bytree': 0.9, 'reg_lambda': 1.06397670555896, 'reg_alpha': 5.9048062556193806, 'feature_fraction': 0.9778487211869147, 'bagging_fraction': 0.48547253886670894, 'bagging_freq': 1}. Best is trial 30 with value: -0.6759262170840002.\u001b[0m\n"
     ]
    },
    {
     "name": "stdout",
     "output_type": "stream",
     "text": [
      "[LightGBM] [Warning] feature_fraction is set=0.8755430489792401, colsample_bytree=0.9 will be ignored. Current value: feature_fraction=0.8755430489792401\n",
      "[LightGBM] [Warning] bagging_fraction is set=0.46151294187215397, subsample=0.7 will be ignored. Current value: bagging_fraction=0.46151294187215397\n",
      "[LightGBM] [Warning] bagging_freq is set=2, subsample_freq=0 will be ignored. Current value: bagging_freq=2\n",
      "Training until validation scores don't improve for 100 rounds\n",
      "[100]\ttraining's l1: 0.621794\tvalid_1's l1: 0.702033\n",
      "[200]\ttraining's l1: 0.619493\tvalid_1's l1: 0.697481\n",
      "[300]\ttraining's l1: 0.618838\tvalid_1's l1: 0.696184\n",
      "[400]\ttraining's l1: 0.618614\tvalid_1's l1: 0.696015\n"
     ]
    },
    {
     "name": "stderr",
     "output_type": "stream",
     "text": [
      "\u001b[32m[I 2021-07-06 13:54:07,201]\u001b[0m Trial 65 finished with value: -0.6960013903243909 and parameters: {'max_depth': 6, 'min_child_weight': 17, 'subsample': 0.7, 'colsample_bytree': 0.9, 'reg_lambda': 3.26441864245632, 'reg_alpha': 9.46480021025712, 'feature_fraction': 0.8755430489792401, 'bagging_fraction': 0.46151294187215397, 'bagging_freq': 2}. Best is trial 30 with value: -0.6759262170840002.\u001b[0m\n"
     ]
    },
    {
     "name": "stdout",
     "output_type": "stream",
     "text": [
      "Early stopping, best iteration is:\n",
      "[368]\ttraining's l1: 0.618635\tvalid_1's l1: 0.69601\n",
      "[LightGBM] [Warning] feature_fraction is set=0.9442474351262724, colsample_bytree=0.9 will be ignored. Current value: feature_fraction=0.9442474351262724\n",
      "[LightGBM] [Warning] bagging_fraction is set=0.42265771733767826, subsample=0.6 will be ignored. Current value: bagging_fraction=0.42265771733767826\n",
      "[LightGBM] [Warning] bagging_freq is set=1, subsample_freq=0 will be ignored. Current value: bagging_freq=1\n",
      "Training until validation scores don't improve for 100 rounds\n",
      "[100]\ttraining's l1: 0.621871\tvalid_1's l1: 0.702266\n",
      "[200]\ttraining's l1: 0.618182\tvalid_1's l1: 0.695417\n",
      "[300]\ttraining's l1: 0.61723\tvalid_1's l1: 0.694027\n",
      "[400]\ttraining's l1: 0.617211\tvalid_1's l1: 0.694007\n",
      "[500]\ttraining's l1: 0.617157\tvalid_1's l1: 0.693883\n",
      "[600]\ttraining's l1: 0.617153\tvalid_1's l1: 0.69388\n",
      "[700]\ttraining's l1: 0.617153\tvalid_1's l1: 0.69388\n",
      "[800]\ttraining's l1: 0.617152\tvalid_1's l1: 0.69388\n",
      "Early stopping, best iteration is:\n",
      "[705]\ttraining's l1: 0.617153\tvalid_1's l1: 0.693879\n"
     ]
    },
    {
     "name": "stderr",
     "output_type": "stream",
     "text": [
      "\u001b[32m[I 2021-07-06 13:54:41,320]\u001b[0m Trial 66 finished with value: -0.6938703183494813 and parameters: {'max_depth': 4, 'min_child_weight': 13, 'subsample': 0.6, 'colsample_bytree': 0.9, 'reg_lambda': 0.01729981161007078, 'reg_alpha': 1.4451966109292138, 'feature_fraction': 0.9442474351262724, 'bagging_fraction': 0.42265771733767826, 'bagging_freq': 1}. Best is trial 30 with value: -0.6759262170840002.\u001b[0m\n"
     ]
    },
    {
     "name": "stdout",
     "output_type": "stream",
     "text": [
      "[LightGBM] [Warning] feature_fraction is set=0.9809462032913129, colsample_bytree=0.8 will be ignored. Current value: feature_fraction=0.9809462032913129\n",
      "[LightGBM] [Warning] bagging_fraction is set=0.5207404044035978, subsample=0.7 will be ignored. Current value: bagging_fraction=0.5207404044035978\n",
      "[LightGBM] [Warning] bagging_freq is set=2, subsample_freq=0 will be ignored. Current value: bagging_freq=2\n",
      "Training until validation scores don't improve for 100 rounds\n",
      "[100]\ttraining's l1: 0.630077\tvalid_1's l1: 0.719084\n",
      "[200]\ttraining's l1: 0.629315\tvalid_1's l1: 0.717584\n",
      "[300]\ttraining's l1: 0.629314\tvalid_1's l1: 0.717583\n",
      "[400]\ttraining's l1: 0.62744\tvalid_1's l1: 0.71419\n",
      "[500]\ttraining's l1: 0.626415\tvalid_1's l1: 0.712627\n"
     ]
    },
    {
     "name": "stderr",
     "output_type": "stream",
     "text": [
      "\u001b[32m[I 2021-07-06 13:55:02,485]\u001b[0m Trial 67 finished with value: -0.7126251389465056 and parameters: {'max_depth': 20, 'min_child_weight': 18, 'subsample': 0.7, 'colsample_bytree': 0.8, 'reg_lambda': 0.1946356237338961, 'reg_alpha': 0.1271919364079309, 'feature_fraction': 0.9809462032913129, 'bagging_fraction': 0.5207404044035978, 'bagging_freq': 2}. Best is trial 30 with value: -0.6759262170840002.\u001b[0m\n"
     ]
    },
    {
     "name": "stdout",
     "output_type": "stream",
     "text": [
      "Early stopping, best iteration is:\n",
      "[448]\ttraining's l1: 0.626418\tvalid_1's l1: 0.712627\n",
      "[LightGBM] [Warning] feature_fraction is set=0.9022633255443792, colsample_bytree=0.9 will be ignored. Current value: feature_fraction=0.9022633255443792\n",
      "[LightGBM] [Warning] bagging_fraction is set=0.44270836867655894, subsample=0.7 will be ignored. Current value: bagging_fraction=0.44270836867655894\n",
      "[LightGBM] [Warning] bagging_freq is set=1, subsample_freq=0 will be ignored. Current value: bagging_freq=1\n",
      "Training until validation scores don't improve for 100 rounds\n",
      "[100]\ttraining's l1: 0.618717\tvalid_1's l1: 0.696298\n",
      "[200]\ttraining's l1: 0.616519\tvalid_1's l1: 0.69236\n"
     ]
    },
    {
     "name": "stderr",
     "output_type": "stream",
     "text": [
      "\u001b[32m[I 2021-07-06 13:55:15,268]\u001b[0m Trial 68 finished with value: -0.6923498108050677 and parameters: {'max_depth': 5, 'min_child_weight': 20, 'subsample': 0.7, 'colsample_bytree': 0.9, 'reg_lambda': 0.768460469908264, 'reg_alpha': 0.8942751130953199, 'feature_fraction': 0.9022633255443792, 'bagging_fraction': 0.44270836867655894, 'bagging_freq': 1}. Best is trial 30 with value: -0.6759262170840002.\u001b[0m\n"
     ]
    },
    {
     "name": "stdout",
     "output_type": "stream",
     "text": [
      "Early stopping, best iteration is:\n",
      "[153]\ttraining's l1: 0.616523\tvalid_1's l1: 0.692355\n",
      "[LightGBM] [Warning] feature_fraction is set=0.9576983354038049, colsample_bytree=0.8 will be ignored. Current value: feature_fraction=0.9576983354038049\n",
      "[LightGBM] [Warning] bagging_fraction is set=0.5617669138978107, subsample=0.6 will be ignored. Current value: bagging_fraction=0.5617669138978107\n",
      "[LightGBM] [Warning] bagging_freq is set=3, subsample_freq=0 will be ignored. Current value: bagging_freq=3\n",
      "Training until validation scores don't improve for 100 rounds\n",
      "[100]\ttraining's l1: 0.629273\tvalid_1's l1: 0.7164\n",
      "[200]\ttraining's l1: 0.626855\tvalid_1's l1: 0.712669\n",
      "[300]\ttraining's l1: 0.626827\tvalid_1's l1: 0.712675\n",
      "[400]\ttraining's l1: 0.625033\tvalid_1's l1: 0.709016\n",
      "[500]\ttraining's l1: 0.625032\tvalid_1's l1: 0.709015\n",
      "[600]\ttraining's l1: 0.625027\tvalid_1's l1: 0.709018\n",
      "Early stopping, best iteration is:\n",
      "[503]\ttraining's l1: 0.625032\tvalid_1's l1: 0.709015\n"
     ]
    },
    {
     "name": "stderr",
     "output_type": "stream",
     "text": [
      "\u001b[32m[I 2021-07-06 13:55:36,449]\u001b[0m Trial 69 finished with value: -0.7090142503210154 and parameters: {'max_depth': 17, 'min_child_weight': 2, 'subsample': 0.6, 'colsample_bytree': 0.8, 'reg_lambda': 1.9643375057335337, 'reg_alpha': 0.6002310532760166, 'feature_fraction': 0.9576983354038049, 'bagging_fraction': 0.5617669138978107, 'bagging_freq': 3}. Best is trial 30 with value: -0.6759262170840002.\u001b[0m\n"
     ]
    },
    {
     "name": "stdout",
     "output_type": "stream",
     "text": [
      "[LightGBM] [Warning] feature_fraction is set=0.8094323299440903, colsample_bytree=0.9 will be ignored. Current value: feature_fraction=0.8094323299440903\n",
      "[LightGBM] [Warning] bagging_fraction is set=0.9374584777446076, subsample=0.8 will be ignored. Current value: bagging_fraction=0.9374584777446076\n",
      "[LightGBM] [Warning] bagging_freq is set=6, subsample_freq=0 will be ignored. Current value: bagging_freq=6\n",
      "Training until validation scores don't improve for 100 rounds\n",
      "[100]\ttraining's l1: 0.633773\tvalid_1's l1: 0.720973\n",
      "[200]\ttraining's l1: 0.63101\tvalid_1's l1: 0.716696\n",
      "[300]\ttraining's l1: 0.63068\tvalid_1's l1: 0.716242\n",
      "[400]\ttraining's l1: 0.63068\tvalid_1's l1: 0.716241\n",
      "[500]\ttraining's l1: 0.630339\tvalid_1's l1: 0.715769\n",
      "[600]\ttraining's l1: 0.630089\tvalid_1's l1: 0.715128\n",
      "[700]\ttraining's l1: 0.630078\tvalid_1's l1: 0.715124\n",
      "[800]\ttraining's l1: 0.630074\tvalid_1's l1: 0.715125\n",
      "Early stopping, best iteration is:\n",
      "[703]\ttraining's l1: 0.630078\tvalid_1's l1: 0.715123\n"
     ]
    },
    {
     "name": "stderr",
     "output_type": "stream",
     "text": [
      "\u001b[32m[I 2021-07-06 13:56:03,915]\u001b[0m Trial 70 finished with value: -0.7151183824662167 and parameters: {'max_depth': 3, 'min_child_weight': 16, 'subsample': 0.8, 'colsample_bytree': 0.9, 'reg_lambda': 0.0522332598813189, 'reg_alpha': 3.6530249970726145, 'feature_fraction': 0.8094323299440903, 'bagging_fraction': 0.9374584777446076, 'bagging_freq': 6}. Best is trial 30 with value: -0.6759262170840002.\u001b[0m\n"
     ]
    },
    {
     "name": "stdout",
     "output_type": "stream",
     "text": [
      "[LightGBM] [Warning] feature_fraction is set=0.9969572657373449, colsample_bytree=0.9 will be ignored. Current value: feature_fraction=0.9969572657373449\n",
      "[LightGBM] [Warning] bagging_fraction is set=0.41546727616250767, subsample=0.7 will be ignored. Current value: bagging_fraction=0.41546727616250767\n",
      "[LightGBM] [Warning] bagging_freq is set=1, subsample_freq=0 will be ignored. Current value: bagging_freq=1\n",
      "Training until validation scores don't improve for 100 rounds\n",
      "[100]\ttraining's l1: 0.621684\tvalid_1's l1: 0.70182\n",
      "[200]\ttraining's l1: 0.619766\tvalid_1's l1: 0.697807\n",
      "[300]\ttraining's l1: 0.6186\tvalid_1's l1: 0.694723\n",
      "[400]\ttraining's l1: 0.618402\tvalid_1's l1: 0.694392\n",
      "[500]\ttraining's l1: 0.618276\tvalid_1's l1: 0.694223\n",
      "[600]\ttraining's l1: 0.61747\tvalid_1's l1: 0.692716\n",
      "[700]\ttraining's l1: 0.617105\tvalid_1's l1: 0.692051\n",
      "[800]\ttraining's l1: 0.616841\tvalid_1's l1: 0.691424\n",
      "Early stopping, best iteration is:\n",
      "[786]\ttraining's l1: 0.616841\tvalid_1's l1: 0.691423\n"
     ]
    },
    {
     "name": "stderr",
     "output_type": "stream",
     "text": [
      "\u001b[32m[I 2021-07-06 13:56:43,214]\u001b[0m Trial 71 finished with value: -0.6914007610378196 and parameters: {'max_depth': 6, 'min_child_weight': 16, 'subsample': 0.7, 'colsample_bytree': 0.9, 'reg_lambda': 0.4429338876914579, 'reg_alpha': 0.2454862528115594, 'feature_fraction': 0.9969572657373449, 'bagging_fraction': 0.41546727616250767, 'bagging_freq': 1}. Best is trial 30 with value: -0.6759262170840002.\u001b[0m\n"
     ]
    },
    {
     "name": "stdout",
     "output_type": "stream",
     "text": [
      "[LightGBM] [Warning] feature_fraction is set=0.9683589583106772, colsample_bytree=0.5 will be ignored. Current value: feature_fraction=0.9683589583106772\n",
      "[LightGBM] [Warning] bagging_fraction is set=0.47069582941960064, subsample=0.7 will be ignored. Current value: bagging_fraction=0.47069582941960064\n",
      "[LightGBM] [Warning] bagging_freq is set=1, subsample_freq=0 will be ignored. Current value: bagging_freq=1\n",
      "Training until validation scores don't improve for 100 rounds\n",
      "[100]\ttraining's l1: 0.617688\tvalid_1's l1: 0.695271\n",
      "[200]\ttraining's l1: 0.615587\tvalid_1's l1: 0.692567\n",
      "[300]\ttraining's l1: 0.613742\tvalid_1's l1: 0.689385\n",
      "[400]\ttraining's l1: 0.6129\tvalid_1's l1: 0.687419\n",
      "[500]\ttraining's l1: 0.612544\tvalid_1's l1: 0.686648\n",
      "[600]\ttraining's l1: 0.611751\tvalid_1's l1: 0.685242\n",
      "[700]\ttraining's l1: 0.611165\tvalid_1's l1: 0.684517\n",
      "[800]\ttraining's l1: 0.610593\tvalid_1's l1: 0.683807\n",
      "[900]\ttraining's l1: 0.610173\tvalid_1's l1: 0.683079\n",
      "[1000]\ttraining's l1: 0.609624\tvalid_1's l1: 0.681975\n",
      "[1100]\ttraining's l1: 0.609321\tvalid_1's l1: 0.681832\n",
      "[1200]\ttraining's l1: 0.608333\tvalid_1's l1: 0.680375\n",
      "Early stopping, best iteration is:\n",
      "[1198]\ttraining's l1: 0.608333\tvalid_1's l1: 0.680375\n"
     ]
    },
    {
     "name": "stderr",
     "output_type": "stream",
     "text": [
      "\u001b[32m[I 2021-07-06 13:57:43,736]\u001b[0m Trial 72 finished with value: -0.6803423279971151 and parameters: {'max_depth': 5, 'min_child_weight': 15, 'subsample': 0.7, 'colsample_bytree': 0.5, 'reg_lambda': 0.24373903408057068, 'reg_alpha': 0.10153072559537545, 'feature_fraction': 0.9683589583106772, 'bagging_fraction': 0.47069582941960064, 'bagging_freq': 1}. Best is trial 30 with value: -0.6759262170840002.\u001b[0m\n"
     ]
    },
    {
     "name": "stdout",
     "output_type": "stream",
     "text": [
      "[LightGBM] [Warning] feature_fraction is set=0.9330052856322287, colsample_bytree=0.5 will be ignored. Current value: feature_fraction=0.9330052856322287\n",
      "[LightGBM] [Warning] bagging_fraction is set=0.47617232577821145, subsample=0.7 will be ignored. Current value: bagging_fraction=0.47617232577821145\n",
      "[LightGBM] [Warning] bagging_freq is set=2, subsample_freq=0 will be ignored. Current value: bagging_freq=2\n",
      "Training until validation scores don't improve for 100 rounds\n",
      "[100]\ttraining's l1: 0.619014\tvalid_1's l1: 0.697261\n",
      "[200]\ttraining's l1: 0.614706\tvalid_1's l1: 0.690111\n",
      "[300]\ttraining's l1: 0.613068\tvalid_1's l1: 0.687841\n",
      "[400]\ttraining's l1: 0.612661\tvalid_1's l1: 0.686894\n",
      "[500]\ttraining's l1: 0.612399\tvalid_1's l1: 0.686518\n",
      "[600]\ttraining's l1: 0.610709\tvalid_1's l1: 0.683902\n",
      "[700]\ttraining's l1: 0.610061\tvalid_1's l1: 0.683114\n",
      "[800]\ttraining's l1: 0.60904\tvalid_1's l1: 0.682062\n",
      "[900]\ttraining's l1: 0.608757\tvalid_1's l1: 0.681829\n",
      "[1000]\ttraining's l1: 0.608162\tvalid_1's l1: 0.681722\n",
      "[1100]\ttraining's l1: 0.607878\tvalid_1's l1: 0.680982\n",
      "[1200]\ttraining's l1: 0.60724\tvalid_1's l1: 0.680052\n",
      "[1300]\ttraining's l1: 0.607172\tvalid_1's l1: 0.680021\n",
      "[1400]\ttraining's l1: 0.606858\tvalid_1's l1: 0.679491\n",
      "[1500]\ttraining's l1: 0.606634\tvalid_1's l1: 0.67899\n",
      "[1600]\ttraining's l1: 0.606566\tvalid_1's l1: 0.67899\n",
      "[1700]\ttraining's l1: 0.606553\tvalid_1's l1: 0.67899\n",
      "[1800]\ttraining's l1: 0.606545\tvalid_1's l1: 0.67897\n",
      "[1900]\ttraining's l1: 0.606541\tvalid_1's l1: 0.678971\n",
      "Early stopping, best iteration is:\n",
      "[1819]\ttraining's l1: 0.606544\tvalid_1's l1: 0.678969\n"
     ]
    },
    {
     "name": "stderr",
     "output_type": "stream",
     "text": [
      "\u001b[32m[I 2021-07-06 13:58:46,984]\u001b[0m Trial 73 finished with value: -0.67892931876431 and parameters: {'max_depth': 5, 'min_child_weight': 14, 'subsample': 0.7, 'colsample_bytree': 0.5, 'reg_lambda': 0.14870815717707433, 'reg_alpha': 0.155988167670523, 'feature_fraction': 0.9330052856322287, 'bagging_fraction': 0.47617232577821145, 'bagging_freq': 2}. Best is trial 30 with value: -0.6759262170840002.\u001b[0m\n"
     ]
    },
    {
     "name": "stdout",
     "output_type": "stream",
     "text": [
      "[LightGBM] [Warning] feature_fraction is set=0.929890444582391, colsample_bytree=0.5 will be ignored. Current value: feature_fraction=0.929890444582391\n",
      "[LightGBM] [Warning] bagging_fraction is set=0.4851014792322163, subsample=0.7 will be ignored. Current value: bagging_fraction=0.4851014792322163\n",
      "[LightGBM] [Warning] bagging_freq is set=2, subsample_freq=0 will be ignored. Current value: bagging_freq=2\n",
      "Training until validation scores don't improve for 100 rounds\n",
      "[100]\ttraining's l1: 0.626558\tvalid_1's l1: 0.712766\n",
      "[200]\ttraining's l1: 0.62626\tvalid_1's l1: 0.711929\n",
      "[300]\ttraining's l1: 0.625544\tvalid_1's l1: 0.710339\n"
     ]
    },
    {
     "name": "stderr",
     "output_type": "stream",
     "text": [
      "\u001b[32m[I 2021-07-06 13:59:00,680]\u001b[0m Trial 74 finished with value: -0.7103381473142547 and parameters: {'max_depth': 7, 'min_child_weight': 14, 'subsample': 0.7, 'colsample_bytree': 0.5, 'reg_lambda': 0.11483461280014266, 'reg_alpha': 0.14245614372002446, 'feature_fraction': 0.929890444582391, 'bagging_fraction': 0.4851014792322163, 'bagging_freq': 2}. Best is trial 30 with value: -0.6759262170840002.\u001b[0m\n"
     ]
    },
    {
     "name": "stdout",
     "output_type": "stream",
     "text": [
      "Early stopping, best iteration is:\n",
      "[258]\ttraining's l1: 0.625552\tvalid_1's l1: 0.710339\n",
      "[LightGBM] [Warning] feature_fraction is set=0.9147618113670327, colsample_bytree=0.6 will be ignored. Current value: feature_fraction=0.9147618113670327\n",
      "[LightGBM] [Warning] bagging_fraction is set=0.500250828344032, subsample=0.8 will be ignored. Current value: bagging_fraction=0.500250828344032\n",
      "[LightGBM] [Warning] bagging_freq is set=2, subsample_freq=0 will be ignored. Current value: bagging_freq=2\n",
      "Training until validation scores don't improve for 100 rounds\n",
      "[100]\ttraining's l1: 0.641428\tvalid_1's l1: 0.735847\n",
      "[200]\ttraining's l1: 0.630321\tvalid_1's l1: 0.716949\n",
      "[300]\ttraining's l1: 0.629593\tvalid_1's l1: 0.715877\n",
      "[400]\ttraining's l1: 0.629593\tvalid_1's l1: 0.715877\n"
     ]
    },
    {
     "name": "stderr",
     "output_type": "stream",
     "text": [
      "\u001b[32m[I 2021-07-06 13:59:14,388]\u001b[0m Trial 75 finished with value: -0.7158712752648136 and parameters: {'max_depth': 3, 'min_child_weight': 12, 'subsample': 0.8, 'colsample_bytree': 0.6, 'reg_lambda': 0.06315659528472055, 'reg_alpha': 1.9830842085327414, 'feature_fraction': 0.9147618113670327, 'bagging_fraction': 0.500250828344032, 'bagging_freq': 2}. Best is trial 30 with value: -0.6759262170840002.\u001b[0m\n"
     ]
    },
    {
     "name": "stdout",
     "output_type": "stream",
     "text": [
      "Early stopping, best iteration is:\n",
      "[308]\ttraining's l1: 0.629593\tvalid_1's l1: 0.715877\n",
      "[LightGBM] [Warning] feature_fraction is set=0.9479094366182338, colsample_bytree=0.9 will be ignored. Current value: feature_fraction=0.9479094366182338\n",
      "[LightGBM] [Warning] bagging_fraction is set=0.4002370485540851, subsample=0.7 will be ignored. Current value: bagging_fraction=0.4002370485540851\n",
      "[LightGBM] [Warning] bagging_freq is set=2, subsample_freq=0 will be ignored. Current value: bagging_freq=2\n",
      "Training until validation scores don't improve for 100 rounds\n",
      "[100]\ttraining's l1: 0.625866\tvalid_1's l1: 0.709182\n",
      "[200]\ttraining's l1: 0.620741\tvalid_1's l1: 0.699092\n",
      "[300]\ttraining's l1: 0.618834\tvalid_1's l1: 0.696367\n",
      "[400]\ttraining's l1: 0.617998\tvalid_1's l1: 0.69408\n",
      "[500]\ttraining's l1: 0.617131\tvalid_1's l1: 0.692721\n",
      "[600]\ttraining's l1: 0.615908\tvalid_1's l1: 0.69\n",
      "[700]\ttraining's l1: 0.615688\tvalid_1's l1: 0.689655\n",
      "[800]\ttraining's l1: 0.615248\tvalid_1's l1: 0.688462\n",
      "[900]\ttraining's l1: 0.615003\tvalid_1's l1: 0.68824\n",
      "[1000]\ttraining's l1: 0.614683\tvalid_1's l1: 0.687841\n",
      "[1100]\ttraining's l1: 0.613603\tvalid_1's l1: 0.685186\n",
      "[1200]\ttraining's l1: 0.61327\tvalid_1's l1: 0.684783\n",
      "[1300]\ttraining's l1: 0.61306\tvalid_1's l1: 0.684195\n",
      "[1400]\ttraining's l1: 0.612679\tvalid_1's l1: 0.683574\n",
      "[1500]\ttraining's l1: 0.612628\tvalid_1's l1: 0.683558\n",
      "[1600]\ttraining's l1: 0.612216\tvalid_1's l1: 0.683003\n",
      "Early stopping, best iteration is:\n",
      "[1535]\ttraining's l1: 0.61234\tvalid_1's l1: 0.682977\n"
     ]
    },
    {
     "name": "stderr",
     "output_type": "stream",
     "text": [
      "\u001b[32m[I 2021-07-06 14:00:00,285]\u001b[0m Trial 76 finished with value: -0.6829447176705207 and parameters: {'max_depth': 4, 'min_child_weight': 11, 'subsample': 0.7, 'colsample_bytree': 0.9, 'reg_lambda': 0.027605539915942993, 'reg_alpha': 0.43372977674777025, 'feature_fraction': 0.9479094366182338, 'bagging_fraction': 0.4002370485540851, 'bagging_freq': 2}. Best is trial 30 with value: -0.6759262170840002.\u001b[0m\n"
     ]
    },
    {
     "name": "stdout",
     "output_type": "stream",
     "text": [
      "[LightGBM] [Warning] feature_fraction is set=0.8851858264645324, colsample_bytree=0.6 will be ignored. Current value: feature_fraction=0.8851858264645324\n",
      "[LightGBM] [Warning] bagging_fraction is set=0.5869106642558573, subsample=0.6 will be ignored. Current value: bagging_fraction=0.5869106642558573\n",
      "[LightGBM] [Warning] bagging_freq is set=3, subsample_freq=0 will be ignored. Current value: bagging_freq=3\n",
      "Training until validation scores don't improve for 100 rounds\n",
      "[100]\ttraining's l1: 0.658264\tvalid_1's l1: 0.760088\n"
     ]
    },
    {
     "name": "stderr",
     "output_type": "stream",
     "text": [
      "\u001b[32m[I 2021-07-06 14:00:05,969]\u001b[0m Trial 77 finished with value: -0.7600878700068774 and parameters: {'max_depth': 2, 'min_child_weight': 13, 'subsample': 0.6, 'colsample_bytree': 0.6, 'reg_lambda': 1.7168523502014792, 'reg_alpha': 0.04706837478771006, 'feature_fraction': 0.8851858264645324, 'bagging_fraction': 0.5869106642558573, 'bagging_freq': 3}. Best is trial 30 with value: -0.6759262170840002.\u001b[0m\n"
     ]
    },
    {
     "name": "stdout",
     "output_type": "stream",
     "text": [
      "Early stopping, best iteration is:\n",
      "[52]\ttraining's l1: 0.658265\tvalid_1's l1: 0.760088\n",
      "[LightGBM] [Warning] feature_fraction is set=0.8430022558717011, colsample_bytree=0.7 will be ignored. Current value: feature_fraction=0.8430022558717011\n",
      "[LightGBM] [Warning] bagging_fraction is set=0.43759608078372286, subsample=0.7 will be ignored. Current value: bagging_fraction=0.43759608078372286\n",
      "[LightGBM] [Warning] bagging_freq is set=2, subsample_freq=0 will be ignored. Current value: bagging_freq=2\n",
      "Training until validation scores don't improve for 100 rounds\n",
      "[100]\ttraining's l1: 0.621038\tvalid_1's l1: 0.702002\n",
      "[200]\ttraining's l1: 0.621027\tvalid_1's l1: 0.701997\n",
      "[300]\ttraining's l1: 0.620266\tvalid_1's l1: 0.700396\n",
      "[400]\ttraining's l1: 0.620263\tvalid_1's l1: 0.700397\n",
      "Early stopping, best iteration is:\n",
      "[305]\ttraining's l1: 0.620266\tvalid_1's l1: 0.700396\n"
     ]
    },
    {
     "name": "stderr",
     "output_type": "stream",
     "text": [
      "\u001b[32m[I 2021-07-06 14:00:20,190]\u001b[0m Trial 78 finished with value: -0.7003957938291678 and parameters: {'max_depth': 6, 'min_child_weight': 14, 'subsample': 0.7, 'colsample_bytree': 0.7, 'reg_lambda': 0.135812161736411, 'reg_alpha': 0.08320168222927439, 'feature_fraction': 0.8430022558717011, 'bagging_fraction': 0.43759608078372286, 'bagging_freq': 2}. Best is trial 30 with value: -0.6759262170840002.\u001b[0m\n"
     ]
    },
    {
     "name": "stdout",
     "output_type": "stream",
     "text": [
      "[LightGBM] [Warning] feature_fraction is set=0.9833504732729361, colsample_bytree=0.9 will be ignored. Current value: feature_fraction=0.9833504732729361\n",
      "[LightGBM] [Warning] bagging_fraction is set=0.5108004647330318, subsample=0.7 will be ignored. Current value: bagging_fraction=0.5108004647330318\n",
      "[LightGBM] [Warning] bagging_freq is set=1, subsample_freq=0 will be ignored. Current value: bagging_freq=1\n",
      "Training until validation scores don't improve for 100 rounds\n",
      "[100]\ttraining's l1: 0.62764\tvalid_1's l1: 0.714423\n",
      "[200]\ttraining's l1: 0.62675\tvalid_1's l1: 0.713088\n",
      "[300]\ttraining's l1: 0.626742\tvalid_1's l1: 0.713088\n",
      "[400]\ttraining's l1: 0.6262\tvalid_1's l1: 0.712028\n",
      "[500]\ttraining's l1: 0.626181\tvalid_1's l1: 0.711995\n",
      "[600]\ttraining's l1: 0.621698\tvalid_1's l1: 0.704041\n",
      "[700]\ttraining's l1: 0.620959\tvalid_1's l1: 0.702597\n",
      "[800]\ttraining's l1: 0.62015\tvalid_1's l1: 0.700521\n",
      "[900]\ttraining's l1: 0.620146\tvalid_1's l1: 0.700518\n",
      "[1000]\ttraining's l1: 0.619831\tvalid_1's l1: 0.699855\n",
      "[1100]\ttraining's l1: 0.619809\tvalid_1's l1: 0.699881\n",
      "Early stopping, best iteration is:\n",
      "[1030]\ttraining's l1: 0.61983\tvalid_1's l1: 0.699852\n"
     ]
    },
    {
     "name": "stderr",
     "output_type": "stream",
     "text": [
      "\u001b[32m[I 2021-07-06 14:00:45,349]\u001b[0m Trial 79 finished with value: -0.6998369661579493 and parameters: {'max_depth': 7, 'min_child_weight': 17, 'subsample': 0.7, 'colsample_bytree': 0.9, 'reg_lambda': 0.0010768595916916242, 'reg_alpha': 1.3168775258625836, 'feature_fraction': 0.9833504732729361, 'bagging_fraction': 0.5108004647330318, 'bagging_freq': 1}. Best is trial 30 with value: -0.6759262170840002.\u001b[0m\n"
     ]
    },
    {
     "name": "stdout",
     "output_type": "stream",
     "text": [
      "[LightGBM] [Warning] feature_fraction is set=0.930062038668566, colsample_bytree=0.8 will be ignored. Current value: feature_fraction=0.930062038668566\n",
      "[LightGBM] [Warning] bagging_fraction is set=0.46153099230093236, subsample=0.6 will be ignored. Current value: bagging_fraction=0.46153099230093236\n",
      "[LightGBM] [Warning] bagging_freq is set=3, subsample_freq=0 will be ignored. Current value: bagging_freq=3\n",
      "Training until validation scores don't improve for 100 rounds\n",
      "[100]\ttraining's l1: 0.61814\tvalid_1's l1: 0.696148\n",
      "[200]\ttraining's l1: 0.615551\tvalid_1's l1: 0.6916\n",
      "[300]\ttraining's l1: 0.613214\tvalid_1's l1: 0.687985\n",
      "[400]\ttraining's l1: 0.611292\tvalid_1's l1: 0.685162\n",
      "[500]\ttraining's l1: 0.61072\tvalid_1's l1: 0.684305\n",
      "[600]\ttraining's l1: 0.60952\tvalid_1's l1: 0.682738\n",
      "[700]\ttraining's l1: 0.608798\tvalid_1's l1: 0.682275\n",
      "[800]\ttraining's l1: 0.608287\tvalid_1's l1: 0.681476\n",
      "[900]\ttraining's l1: 0.608178\tvalid_1's l1: 0.681388\n",
      "[1000]\ttraining's l1: 0.607761\tvalid_1's l1: 0.680623\n",
      "[1100]\ttraining's l1: 0.60689\tvalid_1's l1: 0.678991\n",
      "[1200]\ttraining's l1: 0.606678\tvalid_1's l1: 0.678876\n",
      "[1300]\ttraining's l1: 0.606258\tvalid_1's l1: 0.678211\n",
      "[1400]\ttraining's l1: 0.605636\tvalid_1's l1: 0.677625\n",
      "[1500]\ttraining's l1: 0.605096\tvalid_1's l1: 0.677011\n",
      "[1600]\ttraining's l1: 0.604013\tvalid_1's l1: 0.674793\n",
      "[1700]\ttraining's l1: 0.603758\tvalid_1's l1: 0.674628\n",
      "Early stopping, best iteration is:\n",
      "[1655]\ttraining's l1: 0.603815\tvalid_1's l1: 0.674537\n"
     ]
    },
    {
     "name": "stderr",
     "output_type": "stream",
     "text": [
      "\u001b[32m[I 2021-07-06 14:01:34,594]\u001b[0m Trial 80 finished with value: -0.6744820355645097 and parameters: {'max_depth': 5, 'min_child_weight': 15, 'subsample': 0.6, 'colsample_bytree': 0.8, 'reg_lambda': 0.4069187916380186, 'reg_alpha': 0.3230034165640419, 'feature_fraction': 0.930062038668566, 'bagging_fraction': 0.46153099230093236, 'bagging_freq': 3}. Best is trial 80 with value: -0.6744820355645097.\u001b[0m\n"
     ]
    },
    {
     "name": "stdout",
     "output_type": "stream",
     "text": [
      "[LightGBM] [Warning] feature_fraction is set=0.9297983410490921, colsample_bytree=0.8 will be ignored. Current value: feature_fraction=0.9297983410490921\n",
      "[LightGBM] [Warning] bagging_fraction is set=0.45947533840007126, subsample=0.6 will be ignored. Current value: bagging_fraction=0.45947533840007126\n",
      "[LightGBM] [Warning] bagging_freq is set=3, subsample_freq=0 will be ignored. Current value: bagging_freq=3\n",
      "Training until validation scores don't improve for 100 rounds\n",
      "[100]\ttraining's l1: 0.619\tvalid_1's l1: 0.695985\n",
      "[200]\ttraining's l1: 0.616496\tvalid_1's l1: 0.69113\n",
      "[300]\ttraining's l1: 0.615353\tvalid_1's l1: 0.689428\n",
      "[400]\ttraining's l1: 0.614812\tvalid_1's l1: 0.688358\n",
      "[500]\ttraining's l1: 0.614586\tvalid_1's l1: 0.687931\n",
      "[600]\ttraining's l1: 0.612142\tvalid_1's l1: 0.6839\n",
      "[700]\ttraining's l1: 0.611119\tvalid_1's l1: 0.683244\n",
      "[800]\ttraining's l1: 0.60998\tvalid_1's l1: 0.681965\n",
      "[900]\ttraining's l1: 0.609135\tvalid_1's l1: 0.681074\n",
      "[1000]\ttraining's l1: 0.608343\tvalid_1's l1: 0.6798\n",
      "[1100]\ttraining's l1: 0.607943\tvalid_1's l1: 0.679121\n",
      "[1200]\ttraining's l1: 0.606981\tvalid_1's l1: 0.678182\n",
      "[1300]\ttraining's l1: 0.606231\tvalid_1's l1: 0.677373\n",
      "[1400]\ttraining's l1: 0.605985\tvalid_1's l1: 0.677424\n",
      "Early stopping, best iteration is:\n",
      "[1324]\ttraining's l1: 0.606159\tvalid_1's l1: 0.677289\n"
     ]
    },
    {
     "name": "stderr",
     "output_type": "stream",
     "text": [
      "\u001b[32m[I 2021-07-06 14:02:15,162]\u001b[0m Trial 81 finished with value: -0.6772629977228563 and parameters: {'max_depth': 5, 'min_child_weight': 15, 'subsample': 0.6, 'colsample_bytree': 0.8, 'reg_lambda': 0.30784051012677205, 'reg_alpha': 0.27339398421119876, 'feature_fraction': 0.9297983410490921, 'bagging_fraction': 0.45947533840007126, 'bagging_freq': 3}. Best is trial 80 with value: -0.6744820355645097.\u001b[0m\n"
     ]
    },
    {
     "name": "stdout",
     "output_type": "stream",
     "text": [
      "[LightGBM] [Warning] feature_fraction is set=0.9255550125966172, colsample_bytree=0.8 will be ignored. Current value: feature_fraction=0.9255550125966172\n",
      "[LightGBM] [Warning] bagging_fraction is set=0.4138960353205412, subsample=0.6 will be ignored. Current value: bagging_fraction=0.4138960353205412\n",
      "[LightGBM] [Warning] bagging_freq is set=3, subsample_freq=0 will be ignored. Current value: bagging_freq=3\n",
      "Training until validation scores don't improve for 100 rounds\n",
      "[100]\ttraining's l1: 0.624775\tvalid_1's l1: 0.7077\n",
      "[200]\ttraining's l1: 0.619813\tvalid_1's l1: 0.699172\n",
      "[300]\ttraining's l1: 0.619046\tvalid_1's l1: 0.697464\n",
      "[400]\ttraining's l1: 0.619044\tvalid_1's l1: 0.697463\n",
      "[500]\ttraining's l1: 0.619039\tvalid_1's l1: 0.697462\n"
     ]
    },
    {
     "name": "stderr",
     "output_type": "stream",
     "text": [
      "\u001b[32m[I 2021-07-06 14:02:29,691]\u001b[0m Trial 82 finished with value: -0.6974536218038433 and parameters: {'max_depth': 4, 'min_child_weight': 15, 'subsample': 0.6, 'colsample_bytree': 0.8, 'reg_lambda': 0.38320219250848125, 'reg_alpha': 0.19670747763311097, 'feature_fraction': 0.9255550125966172, 'bagging_fraction': 0.4138960353205412, 'bagging_freq': 3}. Best is trial 80 with value: -0.6744820355645097.\u001b[0m\n"
     ]
    },
    {
     "name": "stdout",
     "output_type": "stream",
     "text": [
      "Early stopping, best iteration is:\n",
      "[450]\ttraining's l1: 0.619041\tvalid_1's l1: 0.697461\n",
      "[LightGBM] [Warning] feature_fraction is set=0.8880976168670299, colsample_bytree=0.7 will be ignored. Current value: feature_fraction=0.8880976168670299\n",
      "[LightGBM] [Warning] bagging_fraction is set=0.47888218862865256, subsample=0.6 will be ignored. Current value: bagging_fraction=0.47888218862865256\n",
      "[LightGBM] [Warning] bagging_freq is set=5, subsample_freq=0 will be ignored. Current value: bagging_freq=5\n",
      "Training until validation scores don't improve for 100 rounds\n",
      "[100]\ttraining's l1: 0.617073\tvalid_1's l1: 0.694402\n",
      "[200]\ttraining's l1: 0.614565\tvalid_1's l1: 0.690274\n",
      "[300]\ttraining's l1: 0.612232\tvalid_1's l1: 0.685286\n",
      "[400]\ttraining's l1: 0.611345\tvalid_1's l1: 0.684176\n",
      "[500]\ttraining's l1: 0.608966\tvalid_1's l1: 0.679862\n",
      "[600]\ttraining's l1: 0.607665\tvalid_1's l1: 0.677726\n",
      "[700]\ttraining's l1: 0.606959\tvalid_1's l1: 0.677101\n",
      "[800]\ttraining's l1: 0.606426\tvalid_1's l1: 0.676293\n",
      "[900]\ttraining's l1: 0.606262\tvalid_1's l1: 0.675928\n",
      "[1000]\ttraining's l1: 0.605983\tvalid_1's l1: 0.675471\n",
      "[1100]\ttraining's l1: 0.605713\tvalid_1's l1: 0.675245\n",
      "[1200]\ttraining's l1: 0.605592\tvalid_1's l1: 0.675071\n",
      "[1300]\ttraining's l1: 0.605579\tvalid_1's l1: 0.675094\n",
      "Early stopping, best iteration is:\n",
      "[1206]\ttraining's l1: 0.605591\tvalid_1's l1: 0.675068\n"
     ]
    },
    {
     "name": "stderr",
     "output_type": "stream",
     "text": [
      "\u001b[32m[I 2021-07-06 14:03:02,560]\u001b[0m Trial 83 finished with value: -0.6750215236487876 and parameters: {'max_depth': 5, 'min_child_weight': 14, 'subsample': 0.6, 'colsample_bytree': 0.7, 'reg_lambda': 0.28125550154305273, 'reg_alpha': 0.6255902555979646, 'feature_fraction': 0.8880976168670299, 'bagging_fraction': 0.47888218862865256, 'bagging_freq': 5}. Best is trial 80 with value: -0.6744820355645097.\u001b[0m\n"
     ]
    },
    {
     "name": "stdout",
     "output_type": "stream",
     "text": [
      "[LightGBM] [Warning] feature_fraction is set=0.8865359788450119, colsample_bytree=0.7 will be ignored. Current value: feature_fraction=0.8865359788450119\n",
      "[LightGBM] [Warning] bagging_fraction is set=0.47307211633203966, subsample=0.6 will be ignored. Current value: bagging_fraction=0.47307211633203966\n",
      "[LightGBM] [Warning] bagging_freq is set=5, subsample_freq=0 will be ignored. Current value: bagging_freq=5\n",
      "Training until validation scores don't improve for 100 rounds\n",
      "[100]\ttraining's l1: 0.621256\tvalid_1's l1: 0.703359\n",
      "[200]\ttraining's l1: 0.621056\tvalid_1's l1: 0.70303\n"
     ]
    },
    {
     "name": "stderr",
     "output_type": "stream",
     "text": [
      "\u001b[32m[I 2021-07-06 14:03:10,396]\u001b[0m Trial 84 finished with value: -0.7030106567319098 and parameters: {'max_depth': 6, 'min_child_weight': 14, 'subsample': 0.6, 'colsample_bytree': 0.7, 'reg_lambda': 0.31263161211604834, 'reg_alpha': 0.2953532659840837, 'feature_fraction': 0.8865359788450119, 'bagging_fraction': 0.47307211633203966, 'bagging_freq': 5}. Best is trial 80 with value: -0.6744820355645097.\u001b[0m\n"
     ]
    },
    {
     "name": "stdout",
     "output_type": "stream",
     "text": [
      "Early stopping, best iteration is:\n",
      "[149]\ttraining's l1: 0.621064\tvalid_1's l1: 0.703019\n",
      "[LightGBM] [Warning] feature_fraction is set=0.9074837179711817, colsample_bytree=0.5 will be ignored. Current value: feature_fraction=0.9074837179711817\n",
      "[LightGBM] [Warning] bagging_fraction is set=0.4881791104004409, subsample=0.5 will be ignored. Current value: bagging_fraction=0.4881791104004409\n",
      "[LightGBM] [Warning] bagging_freq is set=4, subsample_freq=0 will be ignored. Current value: bagging_freq=4\n",
      "Training until validation scores don't improve for 100 rounds\n",
      "[100]\ttraining's l1: 0.630368\tvalid_1's l1: 0.718635\n",
      "[200]\ttraining's l1: 0.62843\tvalid_1's l1: 0.714654\n",
      "[300]\ttraining's l1: 0.627515\tvalid_1's l1: 0.712752\n",
      "[400]\ttraining's l1: 0.62715\tvalid_1's l1: 0.711972\n",
      "[500]\ttraining's l1: 0.627079\tvalid_1's l1: 0.711795\n",
      "[600]\ttraining's l1: 0.626641\tvalid_1's l1: 0.71133\n",
      "[700]\ttraining's l1: 0.626508\tvalid_1's l1: 0.711182\n",
      "Early stopping, best iteration is:\n",
      "[660]\ttraining's l1: 0.626549\tvalid_1's l1: 0.711182\n"
     ]
    },
    {
     "name": "stderr",
     "output_type": "stream",
     "text": [
      "\u001b[32m[I 2021-07-06 14:03:32,960]\u001b[0m Trial 85 finished with value: -0.7111787965459163 and parameters: {'max_depth': 13, 'min_child_weight': 13, 'subsample': 0.5, 'colsample_bytree': 0.5, 'reg_lambda': 1.3211442779807452, 'reg_alpha': 0.6432397072715795, 'feature_fraction': 0.9074837179711817, 'bagging_fraction': 0.4881791104004409, 'bagging_freq': 4}. Best is trial 80 with value: -0.6744820355645097.\u001b[0m\n"
     ]
    },
    {
     "name": "stdout",
     "output_type": "stream",
     "text": [
      "[LightGBM] [Warning] feature_fraction is set=0.8540198496855456, colsample_bytree=0.7 will be ignored. Current value: feature_fraction=0.8540198496855456\n",
      "[LightGBM] [Warning] bagging_fraction is set=0.5309252846604897, subsample=0.6 will be ignored. Current value: bagging_fraction=0.5309252846604897\n",
      "[LightGBM] [Warning] bagging_freq is set=7, subsample_freq=0 will be ignored. Current value: bagging_freq=7\n",
      "Training until validation scores don't improve for 100 rounds\n",
      "[100]\ttraining's l1: 0.624459\tvalid_1's l1: 0.706261\n",
      "[200]\ttraining's l1: 0.621116\tvalid_1's l1: 0.700957\n",
      "[300]\ttraining's l1: 0.619179\tvalid_1's l1: 0.697278\n"
     ]
    },
    {
     "name": "stderr",
     "output_type": "stream",
     "text": [
      "\u001b[32m[I 2021-07-06 14:03:42,467]\u001b[0m Trial 86 finished with value: -0.6972573576649287 and parameters: {'max_depth': 4, 'min_child_weight': 12, 'subsample': 0.6, 'colsample_bytree': 0.7, 'reg_lambda': 0.46833713399240423, 'reg_alpha': 0.15616210538991507, 'feature_fraction': 0.8540198496855456, 'bagging_fraction': 0.5309252846604897, 'bagging_freq': 7}. Best is trial 80 with value: -0.6744820355645097.\u001b[0m\n"
     ]
    },
    {
     "name": "stdout",
     "output_type": "stream",
     "text": [
      "Early stopping, best iteration is:\n",
      "[254]\ttraining's l1: 0.619211\tvalid_1's l1: 0.697263\n",
      "[LightGBM] [Warning] feature_fraction is set=0.8721231466944201, colsample_bytree=0.8 will be ignored. Current value: feature_fraction=0.8721231466944201\n",
      "[LightGBM] [Warning] bagging_fraction is set=0.51172975886611, subsample=0.6 will be ignored. Current value: bagging_fraction=0.51172975886611\n",
      "[LightGBM] [Warning] bagging_freq is set=3, subsample_freq=0 will be ignored. Current value: bagging_freq=3\n",
      "Training until validation scores don't improve for 100 rounds\n",
      "[100]\ttraining's l1: 0.620165\tvalid_1's l1: 0.699638\n",
      "[200]\ttraining's l1: 0.616905\tvalid_1's l1: 0.693109\n",
      "[300]\ttraining's l1: 0.614948\tvalid_1's l1: 0.689126\n",
      "[400]\ttraining's l1: 0.613176\tvalid_1's l1: 0.685346\n",
      "[500]\ttraining's l1: 0.612569\tvalid_1's l1: 0.684186\n",
      "[600]\ttraining's l1: 0.611678\tvalid_1's l1: 0.683471\n",
      "[700]\ttraining's l1: 0.611052\tvalid_1's l1: 0.682688\n",
      "Early stopping, best iteration is:\n",
      "[676]\ttraining's l1: 0.611074\tvalid_1's l1: 0.682684\n"
     ]
    },
    {
     "name": "stderr",
     "output_type": "stream",
     "text": [
      "\u001b[32m[I 2021-07-06 14:04:06,582]\u001b[0m Trial 87 finished with value: -0.6826619014296926 and parameters: {'max_depth': 5, 'min_child_weight': 13, 'subsample': 0.6, 'colsample_bytree': 0.8, 'reg_lambda': 1.0229597983538452, 'reg_alpha': 0.019838103810964028, 'feature_fraction': 0.8721231466944201, 'bagging_fraction': 0.51172975886611, 'bagging_freq': 3}. Best is trial 80 with value: -0.6744820355645097.\u001b[0m\n"
     ]
    },
    {
     "name": "stdout",
     "output_type": "stream",
     "text": [
      "[LightGBM] [Warning] feature_fraction is set=0.42350357325188803, colsample_bytree=0.8 will be ignored. Current value: feature_fraction=0.42350357325188803\n",
      "[LightGBM] [Warning] bagging_fraction is set=0.4379684220893493, subsample=0.6 will be ignored. Current value: bagging_fraction=0.4379684220893493\n",
      "[LightGBM] [Warning] bagging_freq is set=4, subsample_freq=0 will be ignored. Current value: bagging_freq=4\n",
      "Training until validation scores don't improve for 100 rounds\n",
      "[100]\ttraining's l1: 0.622124\tvalid_1's l1: 0.703434\n",
      "[200]\ttraining's l1: 0.621322\tvalid_1's l1: 0.702424\n"
     ]
    },
    {
     "name": "stderr",
     "output_type": "stream",
     "text": [
      "\u001b[32m[I 2021-07-06 14:04:15,644]\u001b[0m Trial 88 finished with value: -0.7024074689812898 and parameters: {'max_depth': 6, 'min_child_weight': 11, 'subsample': 0.6, 'colsample_bytree': 0.8, 'reg_lambda': 0.007018732113631671, 'reg_alpha': 0.30349565989969757, 'feature_fraction': 0.42350357325188803, 'bagging_fraction': 0.4379684220893493, 'bagging_freq': 4}. Best is trial 80 with value: -0.6744820355645097.\u001b[0m\n"
     ]
    },
    {
     "name": "stdout",
     "output_type": "stream",
     "text": [
      "Early stopping, best iteration is:\n",
      "[190]\ttraining's l1: 0.62135\tvalid_1's l1: 0.702409\n",
      "[LightGBM] [Warning] feature_fraction is set=0.9432547732627583, colsample_bytree=0.8 will be ignored. Current value: feature_fraction=0.9432547732627583\n",
      "[LightGBM] [Warning] bagging_fraction is set=0.46258100865024, subsample=0.6 will be ignored. Current value: bagging_fraction=0.46258100865024\n",
      "[LightGBM] [Warning] bagging_freq is set=6, subsample_freq=0 will be ignored. Current value: bagging_freq=6\n",
      "Training until validation scores don't improve for 100 rounds\n",
      "[100]\ttraining's l1: 0.641314\tvalid_1's l1: 0.73564\n",
      "[200]\ttraining's l1: 0.635335\tvalid_1's l1: 0.725922\n",
      "[300]\ttraining's l1: 0.633635\tvalid_1's l1: 0.722594\n",
      "[400]\ttraining's l1: 0.633635\tvalid_1's l1: 0.722594\n",
      "[500]\ttraining's l1: 0.632448\tvalid_1's l1: 0.721124\n",
      "[600]\ttraining's l1: 0.631375\tvalid_1's l1: 0.719078\n",
      "[700]\ttraining's l1: 0.631373\tvalid_1's l1: 0.719077\n",
      "[800]\ttraining's l1: 0.631373\tvalid_1's l1: 0.719077\n",
      "Early stopping, best iteration is:\n",
      "[705]\ttraining's l1: 0.631373\tvalid_1's l1: 0.719077\n"
     ]
    },
    {
     "name": "stderr",
     "output_type": "stream",
     "text": [
      "\u001b[32m[I 2021-07-06 14:04:33,142]\u001b[0m Trial 89 finished with value: -0.719068491682068 and parameters: {'max_depth': 3, 'min_child_weight': 15, 'subsample': 0.6, 'colsample_bytree': 0.8, 'reg_lambda': 4.966292500673336, 'reg_alpha': 0.9736844284079677, 'feature_fraction': 0.9432547732627583, 'bagging_fraction': 0.46258100865024, 'bagging_freq': 6}. Best is trial 80 with value: -0.6744820355645097.\u001b[0m\n"
     ]
    },
    {
     "name": "stdout",
     "output_type": "stream",
     "text": [
      "[LightGBM] [Warning] feature_fraction is set=0.8971177551428254, colsample_bytree=0.6 will be ignored. Current value: feature_fraction=0.8971177551428254\n",
      "[LightGBM] [Warning] bagging_fraction is set=0.7853126465706117, subsample=0.6 will be ignored. Current value: bagging_fraction=0.7853126465706117\n",
      "[LightGBM] [Warning] bagging_freq is set=4, subsample_freq=0 will be ignored. Current value: bagging_freq=4\n",
      "Training until validation scores don't improve for 100 rounds\n",
      "[100]\ttraining's l1: 0.626098\tvalid_1's l1: 0.710126\n",
      "[200]\ttraining's l1: 0.626038\tvalid_1's l1: 0.710039\n",
      "[300]\ttraining's l1: 0.62578\tvalid_1's l1: 0.709516\n"
     ]
    },
    {
     "name": "stderr",
     "output_type": "stream",
     "text": [
      "\u001b[32m[I 2021-07-06 14:04:49,213]\u001b[0m Trial 90 finished with value: -0.7095150687561084 and parameters: {'max_depth': 7, 'min_child_weight': 16, 'subsample': 0.6, 'colsample_bytree': 0.6, 'reg_lambda': 0.5651082259807029, 'reg_alpha': 0.057757201159882435, 'feature_fraction': 0.8971177551428254, 'bagging_fraction': 0.7853126465706117, 'bagging_freq': 4}. Best is trial 80 with value: -0.6744820355645097.\u001b[0m\n"
     ]
    },
    {
     "name": "stdout",
     "output_type": "stream",
     "text": [
      "Early stopping, best iteration is:\n",
      "[292]\ttraining's l1: 0.62578\tvalid_1's l1: 0.709516\n",
      "[LightGBM] [Warning] feature_fraction is set=0.961314117240824, colsample_bytree=0.8 will be ignored. Current value: feature_fraction=0.961314117240824\n",
      "[LightGBM] [Warning] bagging_fraction is set=0.4496160614346919, subsample=0.7 will be ignored. Current value: bagging_fraction=0.4496160614346919\n",
      "[LightGBM] [Warning] bagging_freq is set=3, subsample_freq=0 will be ignored. Current value: bagging_freq=3\n",
      "Training until validation scores don't improve for 100 rounds\n",
      "[100]\ttraining's l1: 0.619115\tvalid_1's l1: 0.697978\n",
      "[200]\ttraining's l1: 0.616545\tvalid_1's l1: 0.693053\n",
      "[300]\ttraining's l1: 0.613808\tvalid_1's l1: 0.688894\n",
      "[400]\ttraining's l1: 0.612896\tvalid_1's l1: 0.687318\n",
      "[500]\ttraining's l1: 0.612666\tvalid_1's l1: 0.686954\n",
      "[600]\ttraining's l1: 0.612453\tvalid_1's l1: 0.686618\n",
      "[700]\ttraining's l1: 0.610795\tvalid_1's l1: 0.684355\n",
      "[800]\ttraining's l1: 0.609451\tvalid_1's l1: 0.682094\n",
      "[900]\ttraining's l1: 0.609117\tvalid_1's l1: 0.681823\n",
      "[1000]\ttraining's l1: 0.608125\tvalid_1's l1: 0.679948\n",
      "[1100]\ttraining's l1: 0.60752\tvalid_1's l1: 0.67888\n",
      "[1200]\ttraining's l1: 0.607269\tvalid_1's l1: 0.678853\n",
      "Early stopping, best iteration is:\n",
      "[1107]\ttraining's l1: 0.607422\tvalid_1's l1: 0.678808\n"
     ]
    },
    {
     "name": "stderr",
     "output_type": "stream",
     "text": [
      "\u001b[32m[I 2021-07-06 14:05:23,243]\u001b[0m Trial 91 finished with value: -0.6787744654097474 and parameters: {'max_depth': 5, 'min_child_weight': 14, 'subsample': 0.7, 'colsample_bytree': 0.8, 'reg_lambda': 0.23052688757417514, 'reg_alpha': 0.4477115909679718, 'feature_fraction': 0.961314117240824, 'bagging_fraction': 0.4496160614346919, 'bagging_freq': 3}. Best is trial 80 with value: -0.6744820355645097.\u001b[0m\n"
     ]
    },
    {
     "name": "stdout",
     "output_type": "stream",
     "text": [
      "[LightGBM] [Warning] feature_fraction is set=0.959270508379907, colsample_bytree=0.8 will be ignored. Current value: feature_fraction=0.959270508379907\n",
      "[LightGBM] [Warning] bagging_fraction is set=0.47462557071452405, subsample=0.7 will be ignored. Current value: bagging_fraction=0.47462557071452405\n",
      "[LightGBM] [Warning] bagging_freq is set=3, subsample_freq=0 will be ignored. Current value: bagging_freq=3\n",
      "Training until validation scores don't improve for 100 rounds\n",
      "[100]\ttraining's l1: 0.626116\tvalid_1's l1: 0.709042\n",
      "[200]\ttraining's l1: 0.622437\tvalid_1's l1: 0.702189\n",
      "[300]\ttraining's l1: 0.619488\tvalid_1's l1: 0.696151\n",
      "[400]\ttraining's l1: 0.619245\tvalid_1's l1: 0.695611\n",
      "[500]\ttraining's l1: 0.619113\tvalid_1's l1: 0.695272\n",
      "[600]\ttraining's l1: 0.617876\tvalid_1's l1: 0.69277\n",
      "[700]\ttraining's l1: 0.617343\tvalid_1's l1: 0.692235\n",
      "[800]\ttraining's l1: 0.616672\tvalid_1's l1: 0.691278\n",
      "[900]\ttraining's l1: 0.616484\tvalid_1's l1: 0.691063\n",
      "Early stopping, best iteration is:\n",
      "[871]\ttraining's l1: 0.616503\tvalid_1's l1: 0.69106\n"
     ]
    },
    {
     "name": "stderr",
     "output_type": "stream",
     "text": [
      "\u001b[32m[I 2021-07-06 14:05:50,063]\u001b[0m Trial 92 finished with value: -0.6910371056561593 and parameters: {'max_depth': 4, 'min_child_weight': 14, 'subsample': 0.7, 'colsample_bytree': 0.8, 'reg_lambda': 0.27633907840619115, 'reg_alpha': 0.196043759389659, 'feature_fraction': 0.959270508379907, 'bagging_fraction': 0.47462557071452405, 'bagging_freq': 3}. Best is trial 80 with value: -0.6744820355645097.\u001b[0m\n"
     ]
    },
    {
     "name": "stdout",
     "output_type": "stream",
     "text": [
      "[LightGBM] [Warning] feature_fraction is set=0.9294161037347117, colsample_bytree=0.8 will be ignored. Current value: feature_fraction=0.9294161037347117\n",
      "[LightGBM] [Warning] bagging_fraction is set=0.44639212701930503, subsample=0.7 will be ignored. Current value: bagging_fraction=0.44639212701930503\n",
      "[LightGBM] [Warning] bagging_freq is set=5, subsample_freq=0 will be ignored. Current value: bagging_freq=5\n",
      "Training until validation scores don't improve for 100 rounds\n",
      "[100]\ttraining's l1: 0.617136\tvalid_1's l1: 0.69462\n",
      "[200]\ttraining's l1: 0.615345\tvalid_1's l1: 0.69134\n",
      "[300]\ttraining's l1: 0.613317\tvalid_1's l1: 0.687832\n",
      "[400]\ttraining's l1: 0.612985\tvalid_1's l1: 0.68744\n",
      "[500]\ttraining's l1: 0.612079\tvalid_1's l1: 0.685558\n",
      "[600]\ttraining's l1: 0.611481\tvalid_1's l1: 0.684854\n",
      "[700]\ttraining's l1: 0.611339\tvalid_1's l1: 0.684849\n",
      "[800]\ttraining's l1: 0.610934\tvalid_1's l1: 0.683866\n",
      "[900]\ttraining's l1: 0.610656\tvalid_1's l1: 0.683192\n",
      "[1000]\ttraining's l1: 0.610071\tvalid_1's l1: 0.682611\n",
      "[1100]\ttraining's l1: 0.609858\tvalid_1's l1: 0.682546\n",
      "[1200]\ttraining's l1: 0.609489\tvalid_1's l1: 0.681779\n",
      "[1300]\ttraining's l1: 0.607639\tvalid_1's l1: 0.678157\n",
      "[1400]\ttraining's l1: 0.607429\tvalid_1's l1: 0.67823\n",
      "Early stopping, best iteration is:\n",
      "[1320]\ttraining's l1: 0.607605\tvalid_1's l1: 0.678112\n"
     ]
    },
    {
     "name": "stderr",
     "output_type": "stream",
     "text": [
      "\u001b[32m[I 2021-07-06 14:06:24,499]\u001b[0m Trial 93 finished with value: -0.6780805504999965 and parameters: {'max_depth': 5, 'min_child_weight': 15, 'subsample': 0.7, 'colsample_bytree': 0.8, 'reg_lambda': 0.09880953938050525, 'reg_alpha': 0.6126493292371847, 'feature_fraction': 0.9294161037347117, 'bagging_fraction': 0.44639212701930503, 'bagging_freq': 5}. Best is trial 80 with value: -0.6744820355645097.\u001b[0m\n"
     ]
    },
    {
     "name": "stdout",
     "output_type": "stream",
     "text": [
      "[LightGBM] [Warning] feature_fraction is set=0.915631877100759, colsample_bytree=0.7 will be ignored. Current value: feature_fraction=0.915631877100759\n",
      "[LightGBM] [Warning] bagging_fraction is set=0.4465278797771973, subsample=0.6 will be ignored. Current value: bagging_fraction=0.4465278797771973\n",
      "[LightGBM] [Warning] bagging_freq is set=5, subsample_freq=0 will be ignored. Current value: bagging_freq=5\n",
      "Training until validation scores don't improve for 100 rounds\n",
      "[100]\ttraining's l1: 0.617001\tvalid_1's l1: 0.693252\n",
      "[200]\ttraining's l1: 0.614259\tvalid_1's l1: 0.68914\n",
      "[300]\ttraining's l1: 0.612576\tvalid_1's l1: 0.686018\n",
      "[400]\ttraining's l1: 0.611748\tvalid_1's l1: 0.683994\n",
      "[500]\ttraining's l1: 0.609537\tvalid_1's l1: 0.680826\n",
      "[600]\ttraining's l1: 0.609422\tvalid_1's l1: 0.680792\n",
      "Early stopping, best iteration is:\n",
      "[507]\ttraining's l1: 0.609505\tvalid_1's l1: 0.680693\n"
     ]
    },
    {
     "name": "stderr",
     "output_type": "stream",
     "text": [
      "\u001b[32m[I 2021-07-06 14:06:40,269]\u001b[0m Trial 94 finished with value: -0.6806762554772553 and parameters: {'max_depth': 5, 'min_child_weight': 15, 'subsample': 0.6, 'colsample_bytree': 0.7, 'reg_lambda': 0.07294450390629953, 'reg_alpha': 0.6722865299668997, 'feature_fraction': 0.915631877100759, 'bagging_fraction': 0.4465278797771973, 'bagging_freq': 5}. Best is trial 80 with value: -0.6744820355645097.\u001b[0m\n"
     ]
    },
    {
     "name": "stdout",
     "output_type": "stream",
     "text": [
      "[LightGBM] [Warning] feature_fraction is set=0.9561101080910968, colsample_bytree=0.8 will be ignored. Current value: feature_fraction=0.9561101080910968\n",
      "[LightGBM] [Warning] bagging_fraction is set=0.492868269569798, subsample=0.7 will be ignored. Current value: bagging_fraction=0.492868269569798\n",
      "[LightGBM] [Warning] bagging_freq is set=4, subsample_freq=0 will be ignored. Current value: bagging_freq=4\n",
      "Training until validation scores don't improve for 100 rounds\n",
      "[100]\ttraining's l1: 0.628451\tvalid_1's l1: 0.714083\n",
      "[200]\ttraining's l1: 0.62684\tvalid_1's l1: 0.710112\n",
      "[300]\ttraining's l1: 0.625939\tvalid_1's l1: 0.708126\n",
      "[400]\ttraining's l1: 0.625036\tvalid_1's l1: 0.70563\n",
      "[500]\ttraining's l1: 0.624438\tvalid_1's l1: 0.703505\n",
      "[600]\ttraining's l1: 0.623968\tvalid_1's l1: 0.70321\n",
      "[700]\ttraining's l1: 0.623444\tvalid_1's l1: 0.70181\n",
      "[800]\ttraining's l1: 0.62277\tvalid_1's l1: 0.699862\n",
      "[900]\ttraining's l1: 0.622117\tvalid_1's l1: 0.698783\n",
      "[1000]\ttraining's l1: 0.621944\tvalid_1's l1: 0.697859\n",
      "[1100]\ttraining's l1: 0.62194\tvalid_1's l1: 0.697875\n",
      "Early stopping, best iteration is:\n",
      "[1019]\ttraining's l1: 0.621944\tvalid_1's l1: 0.697859\n"
     ]
    },
    {
     "name": "stderr",
     "output_type": "stream",
     "text": [
      "\u001b[32m[I 2021-07-06 14:07:11,678]\u001b[0m Trial 95 finished with value: -0.6977653934417442 and parameters: {'max_depth': 6, 'min_child_weight': 16, 'subsample': 0.7, 'colsample_bytree': 0.8, 'reg_lambda': 0.7999379102748209, 'reg_alpha': 524.2591465007209, 'feature_fraction': 0.9561101080910968, 'bagging_fraction': 0.492868269569798, 'bagging_freq': 4}. Best is trial 80 with value: -0.6744820355645097.\u001b[0m\n"
     ]
    },
    {
     "name": "stdout",
     "output_type": "stream",
     "text": [
      "[LightGBM] [Warning] feature_fraction is set=0.858471524825796, colsample_bytree=0.8 will be ignored. Current value: feature_fraction=0.858471524825796\n",
      "[LightGBM] [Warning] bagging_fraction is set=0.45552320050647505, subsample=0.6 will be ignored. Current value: bagging_fraction=0.45552320050647505\n",
      "[LightGBM] [Warning] bagging_freq is set=5, subsample_freq=0 will be ignored. Current value: bagging_freq=5\n",
      "Training until validation scores don't improve for 100 rounds\n",
      "[100]\ttraining's l1: 0.628929\tvalid_1's l1: 0.71594\n",
      "[200]\ttraining's l1: 0.627544\tvalid_1's l1: 0.713825\n",
      "[300]\ttraining's l1: 0.627544\tvalid_1's l1: 0.713824\n",
      "[400]\ttraining's l1: 0.626902\tvalid_1's l1: 0.71264\n"
     ]
    },
    {
     "name": "stderr",
     "output_type": "stream",
     "text": [
      "\u001b[32m[I 2021-07-06 14:07:25,022]\u001b[0m Trial 96 finished with value: -0.7126382675454858 and parameters: {'max_depth': 8, 'min_child_weight': 15, 'subsample': 0.6, 'colsample_bytree': 0.8, 'reg_lambda': 0.323688688049857, 'reg_alpha': 2.4444538766032893, 'feature_fraction': 0.858471524825796, 'bagging_fraction': 0.45552320050647505, 'bagging_freq': 5}. Best is trial 80 with value: -0.6744820355645097.\u001b[0m\n"
     ]
    },
    {
     "name": "stdout",
     "output_type": "stream",
     "text": [
      "Early stopping, best iteration is:\n",
      "[371]\ttraining's l1: 0.626905\tvalid_1's l1: 0.712639\n",
      "[LightGBM] [Warning] feature_fraction is set=0.8217662328837723, colsample_bytree=0.7 will be ignored. Current value: feature_fraction=0.8217662328837723\n",
      "[LightGBM] [Warning] bagging_fraction is set=0.43399109674140485, subsample=0.6 will be ignored. Current value: bagging_fraction=0.43399109674140485\n",
      "[LightGBM] [Warning] bagging_freq is set=5, subsample_freq=0 will be ignored. Current value: bagging_freq=5\n",
      "Training until validation scores don't improve for 100 rounds\n",
      "[100]\ttraining's l1: 0.625663\tvalid_1's l1: 0.708853\n",
      "[200]\ttraining's l1: 0.624821\tvalid_1's l1: 0.707958\n",
      "[300]\ttraining's l1: 0.623497\tvalid_1's l1: 0.705649\n",
      "[400]\ttraining's l1: 0.623053\tvalid_1's l1: 0.705199\n",
      "[500]\ttraining's l1: 0.622419\tvalid_1's l1: 0.703904\n",
      "[600]\ttraining's l1: 0.622353\tvalid_1's l1: 0.703837\n"
     ]
    },
    {
     "name": "stderr",
     "output_type": "stream",
     "text": [
      "\u001b[32m[I 2021-07-06 14:07:40,012]\u001b[0m Trial 97 finished with value: -0.7038342893375038 and parameters: {'max_depth': 4, 'min_child_weight': 14, 'subsample': 0.6, 'colsample_bytree': 0.7, 'reg_lambda': 0.22753988199824662, 'reg_alpha': 0.356093453979921, 'feature_fraction': 0.8217662328837723, 'bagging_fraction': 0.43399109674140485, 'bagging_freq': 5}. Best is trial 80 with value: -0.6744820355645097.\u001b[0m\n"
     ]
    },
    {
     "name": "stdout",
     "output_type": "stream",
     "text": [
      "Early stopping, best iteration is:\n",
      "[542]\ttraining's l1: 0.622357\tvalid_1's l1: 0.703836\n",
      "[LightGBM] [Warning] feature_fraction is set=0.9252838420153824, colsample_bytree=0.8 will be ignored. Current value: feature_fraction=0.9252838420153824\n",
      "[LightGBM] [Warning] bagging_fraction is set=0.4077372953699203, subsample=0.7 will be ignored. Current value: bagging_fraction=0.4077372953699203\n",
      "[LightGBM] [Warning] bagging_freq is set=6, subsample_freq=0 will be ignored. Current value: bagging_freq=6\n",
      "Training until validation scores don't improve for 100 rounds\n",
      "[100]\ttraining's l1: 0.617426\tvalid_1's l1: 0.694741\n",
      "[200]\ttraining's l1: 0.61606\tvalid_1's l1: 0.692772\n",
      "[300]\ttraining's l1: 0.615866\tvalid_1's l1: 0.692574\n"
     ]
    },
    {
     "name": "stderr",
     "output_type": "stream",
     "text": [
      "\u001b[32m[I 2021-07-06 14:07:49,681]\u001b[0m Trial 98 finished with value: -0.6925698907647723 and parameters: {'max_depth': 5, 'min_child_weight': 10, 'subsample': 0.7, 'colsample_bytree': 0.8, 'reg_lambda': 0.01128812171247567, 'reg_alpha': 0.5026783718376314, 'feature_fraction': 0.9252838420153824, 'bagging_fraction': 0.4077372953699203, 'bagging_freq': 6}. Best is trial 80 with value: -0.6744820355645097.\u001b[0m\n"
     ]
    },
    {
     "name": "stdout",
     "output_type": "stream",
     "text": [
      "Early stopping, best iteration is:\n",
      "[272]\ttraining's l1: 0.615881\tvalid_1's l1: 0.692573\n",
      "[LightGBM] [Warning] feature_fraction is set=0.8931427821485273, colsample_bytree=0.7 will be ignored. Current value: feature_fraction=0.8931427821485273\n",
      "[LightGBM] [Warning] bagging_fraction is set=0.4561639285855082, subsample=0.5 will be ignored. Current value: bagging_fraction=0.4561639285855082\n",
      "[LightGBM] [Warning] bagging_freq is set=4, subsample_freq=0 will be ignored. Current value: bagging_freq=4\n",
      "Training until validation scores don't improve for 100 rounds\n",
      "[100]\ttraining's l1: 0.642587\tvalid_1's l1: 0.737402\n",
      "[200]\ttraining's l1: 0.633382\tvalid_1's l1: 0.721607\n",
      "[300]\ttraining's l1: 0.632427\tvalid_1's l1: 0.720406\n",
      "[400]\ttraining's l1: 0.632302\tvalid_1's l1: 0.720315\n",
      "[500]\ttraining's l1: 0.63178\tvalid_1's l1: 0.719267\n",
      "[600]\ttraining's l1: 0.631759\tvalid_1's l1: 0.719231\n",
      "[700]\ttraining's l1: 0.631379\tvalid_1's l1: 0.718645\n",
      "[800]\ttraining's l1: 0.630357\tvalid_1's l1: 0.716744\n",
      "[900]\ttraining's l1: 0.630356\tvalid_1's l1: 0.716745\n",
      "[1000]\ttraining's l1: 0.628647\tvalid_1's l1: 0.713588\n",
      "[1100]\ttraining's l1: 0.628531\tvalid_1's l1: 0.713419\n",
      "[1200]\ttraining's l1: 0.628292\tvalid_1's l1: 0.713123\n",
      "[1300]\ttraining's l1: 0.628287\tvalid_1's l1: 0.713127\n",
      "Early stopping, best iteration is:\n",
      "[1205]\ttraining's l1: 0.628292\tvalid_1's l1: 0.713123\n"
     ]
    },
    {
     "name": "stderr",
     "output_type": "stream",
     "text": [
      "\u001b[32m[I 2021-07-06 14:08:19,420]\u001b[0m Trial 99 finished with value: -0.7131150826446087 and parameters: {'max_depth': 3, 'min_child_weight': 13, 'subsample': 0.5, 'colsample_bytree': 0.7, 'reg_lambda': 6.6238146055988505, 'reg_alpha': 1.099113728491789, 'feature_fraction': 0.8931427821485273, 'bagging_fraction': 0.4561639285855082, 'bagging_freq': 4}. Best is trial 80 with value: -0.6744820355645097.\u001b[0m\n"
     ]
    },
    {
     "name": "stdout",
     "output_type": "stream",
     "text": [
      "Number of finished trials: 100\n",
      "Best trial: {'max_depth': 5, 'min_child_weight': 15, 'subsample': 0.6, 'colsample_bytree': 0.8, 'reg_lambda': 0.4069187916380186, 'reg_alpha': 0.3230034165640419, 'feature_fraction': 0.930062038668566, 'bagging_fraction': 0.46153099230093236, 'bagging_freq': 3}\n"
     ]
    }
   ],
   "source": [
    "study1 = optuna.create_study(direction='maximize')\n",
    "study1.optimize(fit_lgbm(x_train[feature_cols1], y_train['target1'], x_valid[feature_cols1], y_valid['target1'], learning_rates[0]), n_trials=100)\n",
    "\n",
    "print('Number of finished trials:', len(study1.trials))\n",
    "print('Best trial:', study1.best_trial.params)"
   ]
  },
  {
   "cell_type": "code",
   "execution_count": 43,
   "id": "3eed35c7",
   "metadata": {},
   "outputs": [
    {
     "name": "stderr",
     "output_type": "stream",
     "text": [
      "\u001b[32m[I 2021-07-06 14:08:19,446]\u001b[0m A new study created in memory with name: no-name-41a95a91-73c4-46a4-afcb-fb631dc5b505\u001b[0m\n"
     ]
    },
    {
     "name": "stdout",
     "output_type": "stream",
     "text": [
      "[LightGBM] [Warning] feature_fraction is set=0.6301726147901224, colsample_bytree=0.7 will be ignored. Current value: feature_fraction=0.6301726147901224\n",
      "[LightGBM] [Warning] bagging_fraction is set=0.8540497693650837, subsample=0.8 will be ignored. Current value: bagging_fraction=0.8540497693650837\n",
      "[LightGBM] [Warning] bagging_freq is set=2, subsample_freq=0 will be ignored. Current value: bagging_freq=2\n",
      "Training until validation scores don't improve for 100 rounds\n",
      "[100]\ttraining's l1: 1.46939\tvalid_1's l1: 1.36788\n"
     ]
    },
    {
     "name": "stderr",
     "output_type": "stream",
     "text": [
      "\u001b[32m[I 2021-07-06 14:08:27,866]\u001b[0m Trial 0 finished with value: -1.3635721001649752 and parameters: {'max_depth': 5, 'min_child_weight': 14, 'subsample': 0.8, 'colsample_bytree': 0.7, 'reg_lambda': 0.0412905071864811, 'reg_alpha': 0.0062128386456524005, 'feature_fraction': 0.6301726147901224, 'bagging_fraction': 0.8540497693650837, 'bagging_freq': 2}. Best is trial 0 with value: -1.3635721001649752.\u001b[0m\n"
     ]
    },
    {
     "name": "stdout",
     "output_type": "stream",
     "text": [
      "Early stopping, best iteration is:\n",
      "[32]\ttraining's l1: 1.5222\tvalid_1's l1: 1.36357\n",
      "[LightGBM] [Warning] feature_fraction is set=0.9471820685363787, colsample_bytree=0.8 will be ignored. Current value: feature_fraction=0.9471820685363787\n",
      "[LightGBM] [Warning] bagging_fraction is set=0.9727183110845958, subsample=0.8 will be ignored. Current value: bagging_fraction=0.9727183110845958\n",
      "[LightGBM] [Warning] bagging_freq is set=4, subsample_freq=0 will be ignored. Current value: bagging_freq=4\n",
      "Training until validation scores don't improve for 100 rounds\n",
      "[100]\ttraining's l1: 1.46941\tvalid_1's l1: 1.383\n"
     ]
    },
    {
     "name": "stderr",
     "output_type": "stream",
     "text": [
      "\u001b[32m[I 2021-07-06 14:08:36,169]\u001b[0m Trial 1 finished with value: -1.370911844096845 and parameters: {'max_depth': 11, 'min_child_weight': 11, 'subsample': 0.8, 'colsample_bytree': 0.8, 'reg_lambda': 0.011578209880924163, 'reg_alpha': 0.014143536252848731, 'feature_fraction': 0.9471820685363787, 'bagging_fraction': 0.9727183110845958, 'bagging_freq': 4}. Best is trial 0 with value: -1.3635721001649752.\u001b[0m\n"
     ]
    },
    {
     "name": "stdout",
     "output_type": "stream",
     "text": [
      "Early stopping, best iteration is:\n",
      "[44]\ttraining's l1: 1.49978\tvalid_1's l1: 1.37091\n",
      "[LightGBM] [Warning] feature_fraction is set=0.8718987715081405, colsample_bytree=0.9 will be ignored. Current value: feature_fraction=0.8718987715081405\n",
      "[LightGBM] [Warning] bagging_fraction is set=0.6779270692367249, subsample=0.5 will be ignored. Current value: bagging_fraction=0.6779270692367249\n",
      "[LightGBM] [Warning] bagging_freq is set=8, subsample_freq=0 will be ignored. Current value: bagging_freq=8\n",
      "Training until validation scores don't improve for 100 rounds\n",
      "[100]\ttraining's l1: 1.46705\tvalid_1's l1: 1.37228\n"
     ]
    },
    {
     "name": "stderr",
     "output_type": "stream",
     "text": [
      "\u001b[32m[I 2021-07-06 14:08:41,717]\u001b[0m Trial 2 finished with value: -1.3648820137473976 and parameters: {'max_depth': 5, 'min_child_weight': 14, 'subsample': 0.5, 'colsample_bytree': 0.9, 'reg_lambda': 0.7459601762773612, 'reg_alpha': 0.5629228159319657, 'feature_fraction': 0.8718987715081405, 'bagging_fraction': 0.6779270692367249, 'bagging_freq': 8}. Best is trial 0 with value: -1.3635721001649752.\u001b[0m\n"
     ]
    },
    {
     "name": "stdout",
     "output_type": "stream",
     "text": [
      "Early stopping, best iteration is:\n",
      "[37]\ttraining's l1: 1.49848\tvalid_1's l1: 1.36488\n",
      "[LightGBM] [Warning] feature_fraction is set=0.5139235058769631, colsample_bytree=0.7 will be ignored. Current value: feature_fraction=0.5139235058769631\n",
      "[LightGBM] [Warning] bagging_fraction is set=0.8626806277278565, subsample=0.5 will be ignored. Current value: bagging_fraction=0.8626806277278565\n",
      "[LightGBM] [Warning] bagging_freq is set=7, subsample_freq=0 will be ignored. Current value: bagging_freq=7\n",
      "Training until validation scores don't improve for 100 rounds\n",
      "[100]\ttraining's l1: 1.58808\tvalid_1's l1: 1.39332\n",
      "[200]\ttraining's l1: 1.56251\tvalid_1's l1: 1.37769\n",
      "[300]\ttraining's l1: 1.55136\tvalid_1's l1: 1.37358\n",
      "[400]\ttraining's l1: 1.544\tvalid_1's l1: 1.37107\n",
      "[500]\ttraining's l1: 1.53767\tvalid_1's l1: 1.36892\n",
      "[600]\ttraining's l1: 1.53431\tvalid_1's l1: 1.36842\n",
      "[700]\ttraining's l1: 1.53071\tvalid_1's l1: 1.36833\n",
      "[800]\ttraining's l1: 1.5285\tvalid_1's l1: 1.36719\n",
      "[900]\ttraining's l1: 1.52691\tvalid_1's l1: 1.36703\n",
      "[1000]\ttraining's l1: 1.52604\tvalid_1's l1: 1.3675\n"
     ]
    },
    {
     "name": "stderr",
     "output_type": "stream",
     "text": [
      "\u001b[32m[I 2021-07-06 14:09:19,317]\u001b[0m Trial 3 finished with value: -1.3668974070708193 and parameters: {'max_depth': 2, 'min_child_weight': 8, 'subsample': 0.5, 'colsample_bytree': 0.7, 'reg_lambda': 57.04030565832059, 'reg_alpha': 488.73733117308336, 'feature_fraction': 0.5139235058769631, 'bagging_fraction': 0.8626806277278565, 'bagging_freq': 7}. Best is trial 0 with value: -1.3635721001649752.\u001b[0m\n"
     ]
    },
    {
     "name": "stdout",
     "output_type": "stream",
     "text": [
      "Early stopping, best iteration is:\n",
      "[911]\ttraining's l1: 1.52681\tvalid_1's l1: 1.36701\n",
      "[LightGBM] [Warning] feature_fraction is set=0.964711100275621, colsample_bytree=0.5 will be ignored. Current value: feature_fraction=0.964711100275621\n",
      "[LightGBM] [Warning] bagging_fraction is set=0.9103353824271805, subsample=0.6 will be ignored. Current value: bagging_fraction=0.9103353824271805\n",
      "[LightGBM] [Warning] bagging_freq is set=7, subsample_freq=0 will be ignored. Current value: bagging_freq=7\n",
      "Training until validation scores don't improve for 100 rounds\n",
      "[100]\ttraining's l1: 1.52905\tvalid_1's l1: 1.37983\n",
      "[200]\ttraining's l1: 1.50911\tvalid_1's l1: 1.3692\n",
      "[300]\ttraining's l1: 1.50006\tvalid_1's l1: 1.3662\n",
      "[400]\ttraining's l1: 1.49587\tvalid_1's l1: 1.36246\n",
      "[500]\ttraining's l1: 1.49458\tvalid_1's l1: 1.36239\n"
     ]
    },
    {
     "name": "stderr",
     "output_type": "stream",
     "text": [
      "\u001b[32m[I 2021-07-06 14:09:37,940]\u001b[0m Trial 4 finished with value: -1.3618288657677218 and parameters: {'max_depth': 3, 'min_child_weight': 18, 'subsample': 0.6, 'colsample_bytree': 0.5, 'reg_lambda': 0.0027734137277253238, 'reg_alpha': 625.1980521754252, 'feature_fraction': 0.964711100275621, 'bagging_fraction': 0.9103353824271805, 'bagging_freq': 7}. Best is trial 4 with value: -1.3618288657677218.\u001b[0m\n"
     ]
    },
    {
     "name": "stdout",
     "output_type": "stream",
     "text": [
      "Early stopping, best iteration is:\n",
      "[448]\ttraining's l1: 1.49526\tvalid_1's l1: 1.36188\n",
      "[LightGBM] [Warning] feature_fraction is set=0.5554229442755584, colsample_bytree=0.7 will be ignored. Current value: feature_fraction=0.5554229442755584\n",
      "[LightGBM] [Warning] bagging_fraction is set=0.5006206119171184, subsample=0.7 will be ignored. Current value: bagging_fraction=0.5006206119171184\n",
      "[LightGBM] [Warning] bagging_freq is set=2, subsample_freq=0 will be ignored. Current value: bagging_freq=2\n",
      "Training until validation scores don't improve for 100 rounds\n",
      "[100]\ttraining's l1: 1.49197\tvalid_1's l1: 1.38619\n",
      "[200]\ttraining's l1: 1.47863\tvalid_1's l1: 1.3834\n"
     ]
    },
    {
     "name": "stderr",
     "output_type": "stream",
     "text": [
      "\u001b[32m[I 2021-07-06 14:09:50,391]\u001b[0m Trial 5 finished with value: -1.3826145628149866 and parameters: {'max_depth': 20, 'min_child_weight': 10, 'subsample': 0.7, 'colsample_bytree': 0.7, 'reg_lambda': 0.004140105969968018, 'reg_alpha': 868.0638368878126, 'feature_fraction': 0.5554229442755584, 'bagging_fraction': 0.5006206119171184, 'bagging_freq': 2}. Best is trial 4 with value: -1.3618288657677218.\u001b[0m\n"
     ]
    },
    {
     "name": "stdout",
     "output_type": "stream",
     "text": [
      "Early stopping, best iteration is:\n",
      "[196]\ttraining's l1: 1.47893\tvalid_1's l1: 1.38264\n",
      "[LightGBM] [Warning] feature_fraction is set=0.9935328181578276, colsample_bytree=0.8 will be ignored. Current value: feature_fraction=0.9935328181578276\n",
      "[LightGBM] [Warning] bagging_fraction is set=0.7440797700443275, subsample=0.5 will be ignored. Current value: bagging_fraction=0.7440797700443275\n",
      "[LightGBM] [Warning] bagging_freq is set=9, subsample_freq=0 will be ignored. Current value: bagging_freq=9\n",
      "Training until validation scores don't improve for 100 rounds\n",
      "[100]\ttraining's l1: 1.71608\tvalid_1's l1: 1.4603\n",
      "[200]\ttraining's l1: 1.6983\tvalid_1's l1: 1.44426\n",
      "[300]\ttraining's l1: 1.6898\tvalid_1's l1: 1.43748\n",
      "[400]\ttraining's l1: 1.68421\tvalid_1's l1: 1.43224\n",
      "[500]\ttraining's l1: 1.67981\tvalid_1's l1: 1.42972\n",
      "[600]\ttraining's l1: 1.67658\tvalid_1's l1: 1.42703\n",
      "[700]\ttraining's l1: 1.67378\tvalid_1's l1: 1.42467\n",
      "[800]\ttraining's l1: 1.67144\tvalid_1's l1: 1.42161\n",
      "[900]\ttraining's l1: 1.67002\tvalid_1's l1: 1.42095\n",
      "[1000]\ttraining's l1: 1.66828\tvalid_1's l1: 1.41957\n",
      "[1100]\ttraining's l1: 1.66695\tvalid_1's l1: 1.41962\n",
      "[1200]\ttraining's l1: 1.66577\tvalid_1's l1: 1.41843\n",
      "[1300]\ttraining's l1: 1.6647\tvalid_1's l1: 1.4182\n"
     ]
    },
    {
     "name": "stderr",
     "output_type": "stream",
     "text": [
      "\u001b[32m[I 2021-07-06 14:10:22,616]\u001b[0m Trial 6 finished with value: -1.4179531506635343 and parameters: {'max_depth': 1, 'min_child_weight': 11, 'subsample': 0.5, 'colsample_bytree': 0.8, 'reg_lambda': 0.003993773485496264, 'reg_alpha': 3.1656859085163034, 'feature_fraction': 0.9935328181578276, 'bagging_fraction': 0.7440797700443275, 'bagging_freq': 9}. Best is trial 4 with value: -1.3618288657677218.\u001b[0m\n"
     ]
    },
    {
     "name": "stdout",
     "output_type": "stream",
     "text": [
      "Early stopping, best iteration is:\n",
      "[1222]\ttraining's l1: 1.66554\tvalid_1's l1: 1.41796\n",
      "[LightGBM] [Warning] feature_fraction is set=0.8470145951627539, colsample_bytree=0.9 will be ignored. Current value: feature_fraction=0.8470145951627539\n",
      "[LightGBM] [Warning] bagging_fraction is set=0.8821211735748978, subsample=0.7 will be ignored. Current value: bagging_fraction=0.8821211735748978\n",
      "[LightGBM] [Warning] bagging_freq is set=4, subsample_freq=0 will be ignored. Current value: bagging_freq=4\n",
      "Training until validation scores don't improve for 100 rounds\n",
      "[100]\ttraining's l1: 1.47039\tvalid_1's l1: 1.38236\n"
     ]
    },
    {
     "name": "stderr",
     "output_type": "stream",
     "text": [
      "\u001b[32m[I 2021-07-06 14:10:30,545]\u001b[0m Trial 7 finished with value: -1.3708169715690117 and parameters: {'max_depth': 14, 'min_child_weight': 12, 'subsample': 0.7, 'colsample_bytree': 0.9, 'reg_lambda': 0.5412393276440832, 'reg_alpha': 6.932419714039588, 'feature_fraction': 0.8470145951627539, 'bagging_fraction': 0.8821211735748978, 'bagging_freq': 4}. Best is trial 4 with value: -1.3618288657677218.\u001b[0m\n"
     ]
    },
    {
     "name": "stdout",
     "output_type": "stream",
     "text": [
      "Early stopping, best iteration is:\n",
      "[43]\ttraining's l1: 1.49975\tvalid_1's l1: 1.37082\n",
      "[LightGBM] [Warning] feature_fraction is set=0.7279733241788225, colsample_bytree=0.6 will be ignored. Current value: feature_fraction=0.7279733241788225\n",
      "[LightGBM] [Warning] bagging_fraction is set=0.5250002893466725, subsample=0.7 will be ignored. Current value: bagging_fraction=0.5250002893466725\n",
      "[LightGBM] [Warning] bagging_freq is set=2, subsample_freq=0 will be ignored. Current value: bagging_freq=2\n",
      "Training until validation scores don't improve for 100 rounds\n",
      "[100]\ttraining's l1: 1.48591\tvalid_1's l1: 1.37246\n"
     ]
    },
    {
     "name": "stderr",
     "output_type": "stream",
     "text": [
      "\u001b[32m[I 2021-07-06 14:10:37,650]\u001b[0m Trial 8 finished with value: -1.3643767780316212 and parameters: {'max_depth': 4, 'min_child_weight': 10, 'subsample': 0.7, 'colsample_bytree': 0.6, 'reg_lambda': 0.0027192085344094944, 'reg_alpha': 0.4177186328307801, 'feature_fraction': 0.7279733241788225, 'bagging_fraction': 0.5250002893466725, 'bagging_freq': 2}. Best is trial 4 with value: -1.3618288657677218.\u001b[0m\n"
     ]
    },
    {
     "name": "stdout",
     "output_type": "stream",
     "text": [
      "Early stopping, best iteration is:\n",
      "[69]\ttraining's l1: 1.50391\tvalid_1's l1: 1.36438\n",
      "[LightGBM] [Warning] feature_fraction is set=0.6719704779900819, colsample_bytree=0.5 will be ignored. Current value: feature_fraction=0.6719704779900819\n",
      "[LightGBM] [Warning] bagging_fraction is set=0.4847619013213758, subsample=0.6 will be ignored. Current value: bagging_fraction=0.4847619013213758\n",
      "[LightGBM] [Warning] bagging_freq is set=10, subsample_freq=0 will be ignored. Current value: bagging_freq=10\n",
      "Training until validation scores don't improve for 100 rounds\n",
      "[100]\ttraining's l1: 1.46631\tvalid_1's l1: 1.3795\n"
     ]
    },
    {
     "name": "stderr",
     "output_type": "stream",
     "text": [
      "\u001b[32m[I 2021-07-06 14:10:42,735]\u001b[0m Trial 9 finished with value: -1.371982023310699 and parameters: {'max_depth': 7, 'min_child_weight': 7, 'subsample': 0.6, 'colsample_bytree': 0.5, 'reg_lambda': 156.48280061479463, 'reg_alpha': 0.0029485908529389396, 'feature_fraction': 0.6719704779900819, 'bagging_fraction': 0.4847619013213758, 'bagging_freq': 10}. Best is trial 4 with value: -1.3618288657677218.\u001b[0m\n"
     ]
    },
    {
     "name": "stdout",
     "output_type": "stream",
     "text": [
      "Early stopping, best iteration is:\n",
      "[41]\ttraining's l1: 1.49961\tvalid_1's l1: 1.37198\n",
      "[LightGBM] [Warning] feature_fraction is set=0.7850726580085063, colsample_bytree=0.5 will be ignored. Current value: feature_fraction=0.7850726580085063\n",
      "[LightGBM] [Warning] bagging_fraction is set=0.6789195113514859, subsample=0.9 will be ignored. Current value: bagging_fraction=0.6789195113514859\n",
      "[LightGBM] [Warning] bagging_freq is set=6, subsample_freq=0 will be ignored. Current value: bagging_freq=6\n",
      "Training until validation scores don't improve for 100 rounds\n",
      "[100]\ttraining's l1: 1.46769\tvalid_1's l1: 1.37649\n"
     ]
    },
    {
     "name": "stderr",
     "output_type": "stream",
     "text": [
      "\u001b[32m[I 2021-07-06 14:10:48,805]\u001b[0m Trial 10 finished with value: -1.3690157152570261 and parameters: {'max_depth': 16, 'min_child_weight': 20, 'subsample': 0.9, 'colsample_bytree': 0.5, 'reg_lambda': 0.08394021443740843, 'reg_alpha': 50.47707254397604, 'feature_fraction': 0.7850726580085063, 'bagging_fraction': 0.6789195113514859, 'bagging_freq': 6}. Best is trial 4 with value: -1.3618288657677218.\u001b[0m\n"
     ]
    },
    {
     "name": "stdout",
     "output_type": "stream",
     "text": [
      "Early stopping, best iteration is:\n",
      "[30]\ttraining's l1: 1.52042\tvalid_1's l1: 1.36902\n",
      "[LightGBM] [Warning] feature_fraction is set=0.6337388075937929, colsample_bytree=0.6 will be ignored. Current value: feature_fraction=0.6337388075937929\n",
      "[LightGBM] [Warning] bagging_fraction is set=0.966340274676317, subsample=0.9 will be ignored. Current value: bagging_fraction=0.966340274676317\n",
      "[LightGBM] [Warning] bagging_freq is set=4, subsample_freq=0 will be ignored. Current value: bagging_freq=4\n",
      "Training until validation scores don't improve for 100 rounds\n",
      "[100]\ttraining's l1: 1.46673\tvalid_1's l1: 1.37414\n"
     ]
    },
    {
     "name": "stderr",
     "output_type": "stream",
     "text": [
      "\u001b[32m[I 2021-07-06 14:10:57,167]\u001b[0m Trial 11 finished with value: -1.3687896134182058 and parameters: {'max_depth': 8, 'min_child_weight': 18, 'subsample': 0.9, 'colsample_bytree': 0.6, 'reg_lambda': 0.046460083558060535, 'reg_alpha': 0.026069121323229485, 'feature_fraction': 0.6337388075937929, 'bagging_fraction': 0.966340274676317, 'bagging_freq': 4}. Best is trial 4 with value: -1.3618288657677218.\u001b[0m\n"
     ]
    },
    {
     "name": "stdout",
     "output_type": "stream",
     "text": [
      "Early stopping, best iteration is:\n",
      "[38]\ttraining's l1: 1.50968\tvalid_1's l1: 1.36879\n",
      "[LightGBM] [Warning] feature_fraction is set=0.4036238682292854, colsample_bytree=0.6 will be ignored. Current value: feature_fraction=0.4036238682292854\n",
      "[LightGBM] [Warning] bagging_fraction is set=0.8467832680296251, subsample=0.8 will be ignored. Current value: bagging_fraction=0.8467832680296251\n",
      "[LightGBM] [Warning] bagging_freq is set=1, subsample_freq=0 will be ignored. Current value: bagging_freq=1\n",
      "Training until validation scores don't improve for 100 rounds\n",
      "[100]\ttraining's l1: 1.71846\tvalid_1's l1: 1.46436\n",
      "[200]\ttraining's l1: 1.69957\tvalid_1's l1: 1.44473\n",
      "[300]\ttraining's l1: 1.68956\tvalid_1's l1: 1.43618\n",
      "[400]\ttraining's l1: 1.68306\tvalid_1's l1: 1.43108\n",
      "[500]\ttraining's l1: 1.67936\tvalid_1's l1: 1.42705\n",
      "[600]\ttraining's l1: 1.67586\tvalid_1's l1: 1.42421\n",
      "[700]\ttraining's l1: 1.67368\tvalid_1's l1: 1.42178\n",
      "[800]\ttraining's l1: 1.671\tvalid_1's l1: 1.41953\n",
      "[900]\ttraining's l1: 1.66914\tvalid_1's l1: 1.41862\n",
      "[1000]\ttraining's l1: 1.66791\tvalid_1's l1: 1.41735\n",
      "[1100]\ttraining's l1: 1.66658\tvalid_1's l1: 1.4168\n",
      "[1200]\ttraining's l1: 1.66517\tvalid_1's l1: 1.41583\n",
      "[1300]\ttraining's l1: 1.66379\tvalid_1's l1: 1.41665\n"
     ]
    },
    {
     "name": "stderr",
     "output_type": "stream",
     "text": [
      "\u001b[32m[I 2021-07-06 14:11:38,377]\u001b[0m Trial 12 finished with value: -1.4155672266924229 and parameters: {'max_depth': 1, 'min_child_weight': 16, 'subsample': 0.8, 'colsample_bytree': 0.6, 'reg_lambda': 12.394130228178382, 'reg_alpha': 0.1223889690015493, 'feature_fraction': 0.4036238682292854, 'bagging_fraction': 0.8467832680296251, 'bagging_freq': 1}. Best is trial 4 with value: -1.3618288657677218.\u001b[0m\n"
     ]
    },
    {
     "name": "stdout",
     "output_type": "stream",
     "text": [
      "Early stopping, best iteration is:\n",
      "[1229]\ttraining's l1: 1.66481\tvalid_1's l1: 1.41558\n",
      "[LightGBM] [Warning] feature_fraction is set=0.5056493280159776, colsample_bytree=0.5 will be ignored. Current value: feature_fraction=0.5056493280159776\n",
      "[LightGBM] [Warning] bagging_fraction is set=0.7823639735817733, subsample=0.6 will be ignored. Current value: bagging_fraction=0.7823639735817733\n",
      "[LightGBM] [Warning] bagging_freq is set=6, subsample_freq=0 will be ignored. Current value: bagging_freq=6\n",
      "Training until validation scores don't improve for 100 rounds\n",
      "[100]\ttraining's l1: 1.47003\tvalid_1's l1: 1.36865\n"
     ]
    },
    {
     "name": "stderr",
     "output_type": "stream",
     "text": [
      "\u001b[32m[I 2021-07-06 14:11:45,291]\u001b[0m Trial 13 finished with value: -1.3636584480661633 and parameters: {'max_depth': 5, 'min_child_weight': 2, 'subsample': 0.6, 'colsample_bytree': 0.5, 'reg_lambda': 0.08154909440261159, 'reg_alpha': 0.0016556797916155537, 'feature_fraction': 0.5056493280159776, 'bagging_fraction': 0.7823639735817733, 'bagging_freq': 6}. Best is trial 4 with value: -1.3618288657677218.\u001b[0m\n"
     ]
    },
    {
     "name": "stdout",
     "output_type": "stream",
     "text": [
      "Early stopping, best iteration is:\n",
      "[37]\ttraining's l1: 1.5105\tvalid_1's l1: 1.36366\n",
      "[LightGBM] [Warning] feature_fraction is set=0.6164716265140909, colsample_bytree=0.8 will be ignored. Current value: feature_fraction=0.6164716265140909\n",
      "[LightGBM] [Warning] bagging_fraction is set=0.9988461082676341, subsample=0.8 will be ignored. Current value: bagging_fraction=0.9988461082676341\n",
      "[LightGBM] [Warning] bagging_freq is set=8, subsample_freq=0 will be ignored. Current value: bagging_freq=8\n",
      "Training until validation scores don't improve for 100 rounds\n",
      "[100]\ttraining's l1: 1.47226\tvalid_1's l1: 1.37354\n"
     ]
    },
    {
     "name": "stderr",
     "output_type": "stream",
     "text": [
      "\u001b[32m[I 2021-07-06 14:11:54,278]\u001b[0m Trial 14 finished with value: -1.3657548187282011 and parameters: {'max_depth': 9, 'min_child_weight': 20, 'subsample': 0.8, 'colsample_bytree': 0.8, 'reg_lambda': 0.0012270943118812957, 'reg_alpha': 134.82622633152172, 'feature_fraction': 0.6164716265140909, 'bagging_fraction': 0.9988461082676341, 'bagging_freq': 8}. Best is trial 4 with value: -1.3618288657677218.\u001b[0m\n"
     ]
    },
    {
     "name": "stdout",
     "output_type": "stream",
     "text": [
      "Early stopping, best iteration is:\n",
      "[47]\ttraining's l1: 1.50082\tvalid_1's l1: 1.36576\n",
      "[LightGBM] [Warning] feature_fraction is set=0.7409349791125531, colsample_bytree=0.6 will be ignored. Current value: feature_fraction=0.7409349791125531\n",
      "[LightGBM] [Warning] bagging_fraction is set=0.9161610954616098, subsample=0.6 will be ignored. Current value: bagging_fraction=0.9161610954616098\n",
      "[LightGBM] [Warning] bagging_freq is set=5, subsample_freq=0 will be ignored. Current value: bagging_freq=5\n",
      "Training until validation scores don't improve for 100 rounds\n",
      "[100]\ttraining's l1: 1.52004\tvalid_1's l1: 1.36613\n",
      "[200]\ttraining's l1: 1.50154\tvalid_1's l1: 1.36166\n",
      "[300]\ttraining's l1: 1.49581\tvalid_1's l1: 1.35926\n",
      "[400]\ttraining's l1: 1.49136\tvalid_1's l1: 1.35963\n"
     ]
    },
    {
     "name": "stderr",
     "output_type": "stream",
     "text": [
      "\u001b[32m[I 2021-07-06 14:12:09,985]\u001b[0m Trial 15 finished with value: -1.3583964974875598 and parameters: {'max_depth': 3, 'min_child_weight': 16, 'subsample': 0.6, 'colsample_bytree': 0.6, 'reg_lambda': 0.01987375517446159, 'reg_alpha': 8.483475643766443, 'feature_fraction': 0.7409349791125531, 'bagging_fraction': 0.9161610954616098, 'bagging_freq': 5}. Best is trial 15 with value: -1.3583964974875598.\u001b[0m\n"
     ]
    },
    {
     "name": "stdout",
     "output_type": "stream",
     "text": [
      "Early stopping, best iteration is:\n",
      "[316]\ttraining's l1: 1.49504\tvalid_1's l1: 1.35845\n",
      "[LightGBM] [Warning] feature_fraction is set=0.9186728343635537, colsample_bytree=0.6 will be ignored. Current value: feature_fraction=0.9186728343635537\n",
      "[LightGBM] [Warning] bagging_fraction is set=0.6016763251069159, subsample=0.6 will be ignored. Current value: bagging_fraction=0.6016763251069159\n",
      "[LightGBM] [Warning] bagging_freq is set=5, subsample_freq=0 will be ignored. Current value: bagging_freq=5\n",
      "Training until validation scores don't improve for 100 rounds\n",
      "[100]\ttraining's l1: 1.51616\tvalid_1's l1: 1.36664\n",
      "[200]\ttraining's l1: 1.49955\tvalid_1's l1: 1.36328\n",
      "[300]\ttraining's l1: 1.49333\tvalid_1's l1: 1.36232\n",
      "[400]\ttraining's l1: 1.49038\tvalid_1's l1: 1.36112\n"
     ]
    },
    {
     "name": "stderr",
     "output_type": "stream",
     "text": [
      "\u001b[32m[I 2021-07-06 14:12:22,597]\u001b[0m Trial 16 finished with value: -1.360782722452262 and parameters: {'max_depth': 3, 'min_child_weight': 17, 'subsample': 0.6, 'colsample_bytree': 0.6, 'reg_lambda': 8.001808617790612, 'reg_alpha': 20.940936739412315, 'feature_fraction': 0.9186728343635537, 'bagging_fraction': 0.6016763251069159, 'bagging_freq': 5}. Best is trial 15 with value: -1.3583964974875598.\u001b[0m\n"
     ]
    },
    {
     "name": "stdout",
     "output_type": "stream",
     "text": [
      "Early stopping, best iteration is:\n",
      "[338]\ttraining's l1: 1.49178\tvalid_1's l1: 1.36086\n",
      "[LightGBM] [Warning] feature_fraction is set=0.8647706440743007, colsample_bytree=0.6 will be ignored. Current value: feature_fraction=0.8647706440743007\n",
      "[LightGBM] [Warning] bagging_fraction is set=0.5959800700187177, subsample=0.6 will be ignored. Current value: bagging_fraction=0.5959800700187177\n",
      "[LightGBM] [Warning] bagging_freq is set=5, subsample_freq=0 will be ignored. Current value: bagging_freq=5\n",
      "Training until validation scores don't improve for 100 rounds\n",
      "[100]\ttraining's l1: 1.47079\tvalid_1's l1: 1.37958\n"
     ]
    },
    {
     "name": "stderr",
     "output_type": "stream",
     "text": [
      "\u001b[32m[I 2021-07-06 14:12:28,811]\u001b[0m Trial 17 finished with value: -1.3689407272719032 and parameters: {'max_depth': 12, 'min_child_weight': 17, 'subsample': 0.6, 'colsample_bytree': 0.6, 'reg_lambda': 13.917050611984733, 'reg_alpha': 22.83585833664967, 'feature_fraction': 0.8647706440743007, 'bagging_fraction': 0.5959800700187177, 'bagging_freq': 5}. Best is trial 15 with value: -1.3583964974875598.\u001b[0m\n"
     ]
    },
    {
     "name": "stdout",
     "output_type": "stream",
     "text": [
      "Early stopping, best iteration is:\n",
      "[42]\ttraining's l1: 1.50274\tvalid_1's l1: 1.36894\n",
      "[LightGBM] [Warning] feature_fraction is set=0.7649283553854364, colsample_bytree=0.6 will be ignored. Current value: feature_fraction=0.7649283553854364\n",
      "[LightGBM] [Warning] bagging_fraction is set=0.59230569645166, subsample=0.6 will be ignored. Current value: bagging_fraction=0.59230569645166\n",
      "[LightGBM] [Warning] bagging_freq is set=5, subsample_freq=0 will be ignored. Current value: bagging_freq=5\n",
      "Training until validation scores don't improve for 100 rounds\n",
      "[100]\ttraining's l1: 1.4669\tvalid_1's l1: 1.37719\n"
     ]
    },
    {
     "name": "stderr",
     "output_type": "stream",
     "text": [
      "\u001b[32m[I 2021-07-06 14:12:34,778]\u001b[0m Trial 18 finished with value: -1.3732116575867692 and parameters: {'max_depth': 7, 'min_child_weight': 15, 'subsample': 0.6, 'colsample_bytree': 0.6, 'reg_lambda': 3.442814533689597, 'reg_alpha': 3.880921958019595, 'feature_fraction': 0.7649283553854364, 'bagging_fraction': 0.59230569645166, 'bagging_freq': 5}. Best is trial 15 with value: -1.3583964974875598.\u001b[0m\n"
     ]
    },
    {
     "name": "stdout",
     "output_type": "stream",
     "text": [
      "Early stopping, best iteration is:\n",
      "[42]\ttraining's l1: 1.49748\tvalid_1's l1: 1.37321\n",
      "[LightGBM] [Warning] feature_fraction is set=0.9138117112721816, colsample_bytree=0.6 will be ignored. Current value: feature_fraction=0.9138117112721816\n",
      "[LightGBM] [Warning] bagging_fraction is set=0.42386527435172805, subsample=0.5 will be ignored. Current value: bagging_fraction=0.42386527435172805\n",
      "[LightGBM] [Warning] bagging_freq is set=3, subsample_freq=0 will be ignored. Current value: bagging_freq=3\n",
      "Training until validation scores don't improve for 100 rounds\n",
      "[100]\ttraining's l1: 1.71541\tvalid_1's l1: 1.46001\n",
      "[200]\ttraining's l1: 1.70042\tvalid_1's l1: 1.44774\n",
      "[300]\ttraining's l1: 1.69122\tvalid_1's l1: 1.44037\n",
      "[400]\ttraining's l1: 1.6849\tvalid_1's l1: 1.43502\n",
      "[500]\ttraining's l1: 1.68125\tvalid_1's l1: 1.43259\n",
      "[600]\ttraining's l1: 1.67716\tvalid_1's l1: 1.42689\n",
      "[700]\ttraining's l1: 1.67496\tvalid_1's l1: 1.42487\n",
      "[800]\ttraining's l1: 1.67304\tvalid_1's l1: 1.42392\n"
     ]
    },
    {
     "name": "stderr",
     "output_type": "stream",
     "text": [
      "\u001b[32m[I 2021-07-06 14:12:53,783]\u001b[0m Trial 19 finished with value: -1.4235062328171206 and parameters: {'max_depth': 1, 'min_child_weight': 20, 'subsample': 0.5, 'colsample_bytree': 0.6, 'reg_lambda': 766.4622067170158, 'reg_alpha': 28.323862751885528, 'feature_fraction': 0.9138117112721816, 'bagging_fraction': 0.42386527435172805, 'bagging_freq': 3}. Best is trial 15 with value: -1.3583964974875598.\u001b[0m\n"
     ]
    },
    {
     "name": "stdout",
     "output_type": "stream",
     "text": [
      "Early stopping, best iteration is:\n",
      "[744]\ttraining's l1: 1.67388\tvalid_1's l1: 1.42351\n",
      "[LightGBM] [Warning] feature_fraction is set=0.8227982976389525, colsample_bytree=0.7 will be ignored. Current value: feature_fraction=0.8227982976389525\n",
      "[LightGBM] [Warning] bagging_fraction is set=0.6052167025509747, subsample=0.6 will be ignored. Current value: bagging_fraction=0.6052167025509747\n",
      "[LightGBM] [Warning] bagging_freq is set=5, subsample_freq=0 will be ignored. Current value: bagging_freq=5\n",
      "Training until validation scores don't improve for 100 rounds\n",
      "[100]\ttraining's l1: 1.51978\tvalid_1's l1: 1.36636\n",
      "[200]\ttraining's l1: 1.50305\tvalid_1's l1: 1.36689\n"
     ]
    },
    {
     "name": "stderr",
     "output_type": "stream",
     "text": [
      "\u001b[32m[I 2021-07-06 14:13:01,721]\u001b[0m Trial 20 finished with value: -1.3637789492553938 and parameters: {'max_depth': 3, 'min_child_weight': 3, 'subsample': 0.6, 'colsample_bytree': 0.7, 'reg_lambda': 3.7912628185417243, 'reg_alpha': 132.73479720514806, 'feature_fraction': 0.8227982976389525, 'bagging_fraction': 0.6052167025509747, 'bagging_freq': 5}. Best is trial 15 with value: -1.3583964974875598.\u001b[0m\n"
     ]
    },
    {
     "name": "stdout",
     "output_type": "stream",
     "text": [
      "Early stopping, best iteration is:\n",
      "[154]\ttraining's l1: 1.50814\tvalid_1's l1: 1.36379\n",
      "[LightGBM] [Warning] feature_fraction is set=0.9736623744476771, colsample_bytree=0.5 will be ignored. Current value: feature_fraction=0.9736623744476771\n",
      "[LightGBM] [Warning] bagging_fraction is set=0.9266390871173364, subsample=0.6 will be ignored. Current value: bagging_fraction=0.9266390871173364\n",
      "[LightGBM] [Warning] bagging_freq is set=7, subsample_freq=0 will be ignored. Current value: bagging_freq=7\n",
      "Training until validation scores don't improve for 100 rounds\n",
      "[100]\ttraining's l1: 1.52207\tvalid_1's l1: 1.37214\n",
      "[200]\ttraining's l1: 1.50414\tvalid_1's l1: 1.36813\n",
      "[300]\ttraining's l1: 1.49587\tvalid_1's l1: 1.36481\n",
      "[400]\ttraining's l1: 1.49097\tvalid_1's l1: 1.36366\n",
      "[500]\ttraining's l1: 1.48953\tvalid_1's l1: 1.3629\n"
     ]
    },
    {
     "name": "stderr",
     "output_type": "stream",
     "text": [
      "\u001b[32m[I 2021-07-06 14:13:22,056]\u001b[0m Trial 21 finished with value: -1.362791020444817 and parameters: {'max_depth': 3, 'min_child_weight': 18, 'subsample': 0.6, 'colsample_bytree': 0.5, 'reg_lambda': 0.2790251400827648, 'reg_alpha': 231.47516477225486, 'feature_fraction': 0.9736623744476771, 'bagging_fraction': 0.9266390871173364, 'bagging_freq': 7}. Best is trial 15 with value: -1.3583964974875598.\u001b[0m\n"
     ]
    },
    {
     "name": "stdout",
     "output_type": "stream",
     "text": [
      "Early stopping, best iteration is:\n",
      "[492]\ttraining's l1: 1.48981\tvalid_1's l1: 1.36286\n",
      "[LightGBM] [Warning] feature_fraction is set=0.9123035089632714, colsample_bytree=0.5 will be ignored. Current value: feature_fraction=0.9123035089632714\n",
      "[LightGBM] [Warning] bagging_fraction is set=0.7713812055646239, subsample=0.6 will be ignored. Current value: bagging_fraction=0.7713812055646239\n",
      "[LightGBM] [Warning] bagging_freq is set=7, subsample_freq=0 will be ignored. Current value: bagging_freq=7\n",
      "Training until validation scores don't improve for 100 rounds\n",
      "[100]\ttraining's l1: 1.46771\tvalid_1's l1: 1.37977\n"
     ]
    },
    {
     "name": "stderr",
     "output_type": "stream",
     "text": [
      "\u001b[32m[I 2021-07-06 14:13:28,503]\u001b[0m Trial 22 finished with value: -1.3674208307800333 and parameters: {'max_depth': 6, 'min_child_weight': 19, 'subsample': 0.6, 'colsample_bytree': 0.5, 'reg_lambda': 0.0010055345562943543, 'reg_alpha': 12.41649848274884, 'feature_fraction': 0.9123035089632714, 'bagging_fraction': 0.7713812055646239, 'bagging_freq': 7}. Best is trial 15 with value: -1.3583964974875598.\u001b[0m\n"
     ]
    },
    {
     "name": "stdout",
     "output_type": "stream",
     "text": [
      "Early stopping, best iteration is:\n",
      "[41]\ttraining's l1: 1.49488\tvalid_1's l1: 1.36742\n",
      "[LightGBM] [Warning] feature_fraction is set=0.999396410072405, colsample_bytree=0.6 will be ignored. Current value: feature_fraction=0.999396410072405\n",
      "[LightGBM] [Warning] bagging_fraction is set=0.9150948283578694, subsample=0.7 will be ignored. Current value: bagging_fraction=0.9150948283578694\n",
      "[LightGBM] [Warning] bagging_freq is set=6, subsample_freq=0 will be ignored. Current value: bagging_freq=6\n",
      "Training until validation scores don't improve for 100 rounds\n",
      "[100]\ttraining's l1: 1.51954\tvalid_1's l1: 1.3667\n",
      "[200]\ttraining's l1: 1.49898\tvalid_1's l1: 1.36352\n",
      "[300]\ttraining's l1: 1.49318\tvalid_1's l1: 1.36769\n"
     ]
    },
    {
     "name": "stderr",
     "output_type": "stream",
     "text": [
      "\u001b[32m[I 2021-07-06 14:13:41,850]\u001b[0m Trial 23 finished with value: -1.3614219332844362 and parameters: {'max_depth': 3, 'min_child_weight': 16, 'subsample': 0.7, 'colsample_bytree': 0.6, 'reg_lambda': 0.014000913357377168, 'reg_alpha': 2.4346087604936124, 'feature_fraction': 0.999396410072405, 'bagging_fraction': 0.9150948283578694, 'bagging_freq': 6}. Best is trial 15 with value: -1.3583964974875598.\u001b[0m\n"
     ]
    },
    {
     "name": "stdout",
     "output_type": "stream",
     "text": [
      "Early stopping, best iteration is:\n",
      "[261]\ttraining's l1: 1.49466\tvalid_1's l1: 1.36143\n",
      "[LightGBM] [Warning] feature_fraction is set=0.997551657529989, colsample_bytree=0.6 will be ignored. Current value: feature_fraction=0.997551657529989\n",
      "[LightGBM] [Warning] bagging_fraction is set=0.8180133723667772, subsample=0.7 will be ignored. Current value: bagging_fraction=0.8180133723667772\n",
      "[LightGBM] [Warning] bagging_freq is set=6, subsample_freq=0 will be ignored. Current value: bagging_freq=6\n",
      "Training until validation scores don't improve for 100 rounds\n",
      "[100]\ttraining's l1: 1.46973\tvalid_1's l1: 1.37924\n"
     ]
    },
    {
     "name": "stderr",
     "output_type": "stream",
     "text": [
      "\u001b[32m[I 2021-07-06 14:13:49,039]\u001b[0m Trial 24 finished with value: -1.366453151124743 and parameters: {'max_depth': 9, 'min_child_weight': 14, 'subsample': 0.7, 'colsample_bytree': 0.6, 'reg_lambda': 0.015174936184428564, 'reg_alpha': 1.6976928998308327, 'feature_fraction': 0.997551657529989, 'bagging_fraction': 0.8180133723667772, 'bagging_freq': 6}. Best is trial 15 with value: -1.3583964974875598.\u001b[0m\n"
     ]
    },
    {
     "name": "stdout",
     "output_type": "stream",
     "text": [
      "Early stopping, best iteration is:\n",
      "[49]\ttraining's l1: 1.49056\tvalid_1's l1: 1.36645\n",
      "[LightGBM] [Warning] feature_fraction is set=0.7970966502393542, colsample_bytree=0.6 will be ignored. Current value: feature_fraction=0.7970966502393542\n",
      "[LightGBM] [Warning] bagging_fraction is set=0.7186565171655244, subsample=0.7 will be ignored. Current value: bagging_fraction=0.7186565171655244\n",
      "[LightGBM] [Warning] bagging_freq is set=4, subsample_freq=0 will be ignored. Current value: bagging_freq=4\n",
      "Training until validation scores don't improve for 100 rounds\n",
      "[100]\ttraining's l1: 1.71546\tvalid_1's l1: 1.46\n",
      "[200]\ttraining's l1: 1.69943\tvalid_1's l1: 1.44576\n",
      "[300]\ttraining's l1: 1.6905\tvalid_1's l1: 1.43839\n",
      "[400]\ttraining's l1: 1.68483\tvalid_1's l1: 1.43483\n",
      "[500]\ttraining's l1: 1.68025\tvalid_1's l1: 1.4301\n",
      "[600]\ttraining's l1: 1.67666\tvalid_1's l1: 1.42688\n",
      "[700]\ttraining's l1: 1.67381\tvalid_1's l1: 1.42412\n",
      "[800]\ttraining's l1: 1.67205\tvalid_1's l1: 1.42255\n",
      "[900]\ttraining's l1: 1.66984\tvalid_1's l1: 1.42018\n",
      "[1000]\ttraining's l1: 1.66808\tvalid_1's l1: 1.41926\n"
     ]
    },
    {
     "name": "stderr",
     "output_type": "stream",
     "text": [
      "\u001b[32m[I 2021-07-06 14:14:19,668]\u001b[0m Trial 25 finished with value: -1.4188082460577756 and parameters: {'max_depth': 1, 'min_child_weight': 16, 'subsample': 0.7, 'colsample_bytree': 0.6, 'reg_lambda': 0.21668891361452608, 'reg_alpha': 0.17426168093934113, 'feature_fraction': 0.7970966502393542, 'bagging_fraction': 0.7186565171655244, 'bagging_freq': 4}. Best is trial 15 with value: -1.3583964974875598.\u001b[0m\n"
     ]
    },
    {
     "name": "stdout",
     "output_type": "stream",
     "text": [
      "Early stopping, best iteration is:\n",
      "[954]\ttraining's l1: 1.66878\tvalid_1's l1: 1.41882\n",
      "[LightGBM] [Warning] feature_fraction is set=0.9084914554434264, colsample_bytree=0.7 will be ignored. Current value: feature_fraction=0.9084914554434264\n",
      "[LightGBM] [Warning] bagging_fraction is set=0.6405456451909571, subsample=0.7 will be ignored. Current value: bagging_fraction=0.6405456451909571\n",
      "[LightGBM] [Warning] bagging_freq is set=3, subsample_freq=0 will be ignored. Current value: bagging_freq=3\n",
      "Training until validation scores don't improve for 100 rounds\n",
      "[100]\ttraining's l1: 1.48761\tvalid_1's l1: 1.36754\n"
     ]
    },
    {
     "name": "stderr",
     "output_type": "stream",
     "text": [
      "\u001b[32m[I 2021-07-06 14:14:26,735]\u001b[0m Trial 26 finished with value: -1.36553559507315 and parameters: {'max_depth': 4, 'min_child_weight': 13, 'subsample': 0.7, 'colsample_bytree': 0.7, 'reg_lambda': 2.977891049652342, 'reg_alpha': 54.023730685614424, 'feature_fraction': 0.9084914554434264, 'bagging_fraction': 0.6405456451909571, 'bagging_freq': 3}. Best is trial 15 with value: -1.3583964974875598.\u001b[0m\n"
     ]
    },
    {
     "name": "stdout",
     "output_type": "stream",
     "text": [
      "Early stopping, best iteration is:\n",
      "[71]\ttraining's l1: 1.49827\tvalid_1's l1: 1.36554\n",
      "[LightGBM] [Warning] feature_fraction is set=0.7335910252575287, colsample_bytree=0.6 will be ignored. Current value: feature_fraction=0.7335910252575287\n",
      "[LightGBM] [Warning] bagging_fraction is set=0.9497911328672115, subsample=0.5 will be ignored. Current value: bagging_fraction=0.9497911328672115\n",
      "[LightGBM] [Warning] bagging_freq is set=5, subsample_freq=0 will be ignored. Current value: bagging_freq=5\n",
      "Training until validation scores don't improve for 100 rounds\n",
      "[100]\ttraining's l1: 1.58833\tvalid_1's l1: 1.39182\n",
      "[200]\ttraining's l1: 1.55705\tvalid_1's l1: 1.37707\n",
      "[300]\ttraining's l1: 1.54189\tvalid_1's l1: 1.37035\n",
      "[400]\ttraining's l1: 1.53265\tvalid_1's l1: 1.36642\n",
      "[500]\ttraining's l1: 1.52802\tvalid_1's l1: 1.3687\n"
     ]
    },
    {
     "name": "stderr",
     "output_type": "stream",
     "text": [
      "\u001b[32m[I 2021-07-06 14:14:46,884]\u001b[0m Trial 27 finished with value: -1.3661798965232417 and parameters: {'max_depth': 2, 'min_child_weight': 16, 'subsample': 0.5, 'colsample_bytree': 0.6, 'reg_lambda': 0.015879469217291685, 'reg_alpha': 1.3387967752342889, 'feature_fraction': 0.7335910252575287, 'bagging_fraction': 0.9497911328672115, 'bagging_freq': 5}. Best is trial 15 with value: -1.3583964974875598.\u001b[0m\n"
     ]
    },
    {
     "name": "stdout",
     "output_type": "stream",
     "text": [
      "Early stopping, best iteration is:\n",
      "[459]\ttraining's l1: 1.53031\tvalid_1's l1: 1.36622\n",
      "[LightGBM] [Warning] feature_fraction is set=0.7009791586879804, colsample_bytree=0.6 will be ignored. Current value: feature_fraction=0.7009791586879804\n",
      "[LightGBM] [Warning] bagging_fraction is set=0.5638497103879994, subsample=0.6 will be ignored. Current value: bagging_fraction=0.5638497103879994\n",
      "[LightGBM] [Warning] bagging_freq is set=6, subsample_freq=0 will be ignored. Current value: bagging_freq=6\n",
      "Training until validation scores don't improve for 100 rounds\n",
      "[100]\ttraining's l1: 1.46635\tvalid_1's l1: 1.3781\n"
     ]
    },
    {
     "name": "stderr",
     "output_type": "stream",
     "text": [
      "\u001b[32m[I 2021-07-06 14:14:52,455]\u001b[0m Trial 28 finished with value: -1.3691899217644528 and parameters: {'max_depth': 6, 'min_child_weight': 17, 'subsample': 0.6, 'colsample_bytree': 0.6, 'reg_lambda': 19.52155333567949, 'reg_alpha': 9.273244086472085, 'feature_fraction': 0.7009791586879804, 'bagging_fraction': 0.5638497103879994, 'bagging_freq': 6}. Best is trial 15 with value: -1.3583964974875598.\u001b[0m\n"
     ]
    },
    {
     "name": "stdout",
     "output_type": "stream",
     "text": [
      "Early stopping, best iteration is:\n",
      "[42]\ttraining's l1: 1.49547\tvalid_1's l1: 1.36919\n",
      "[LightGBM] [Warning] feature_fraction is set=0.4091716707588177, colsample_bytree=0.7 will be ignored. Current value: feature_fraction=0.4091716707588177\n",
      "[LightGBM] [Warning] bagging_fraction is set=0.40596184097373605, subsample=0.7 will be ignored. Current value: bagging_fraction=0.40596184097373605\n",
      "[LightGBM] [Warning] bagging_freq is set=3, subsample_freq=0 will be ignored. Current value: bagging_freq=3\n",
      "Training until validation scores don't improve for 100 rounds\n",
      "[100]\ttraining's l1: 1.4807\tvalid_1's l1: 1.36337\n"
     ]
    },
    {
     "name": "stderr",
     "output_type": "stream",
     "text": [
      "\u001b[32m[I 2021-07-06 14:14:58,386]\u001b[0m Trial 29 finished with value: -1.3603878464026657 and parameters: {'max_depth': 20, 'min_child_weight': 13, 'subsample': 0.7, 'colsample_bytree': 0.7, 'reg_lambda': 1.493772654697655, 'reg_alpha': 3.0680459944672096, 'feature_fraction': 0.4091716707588177, 'bagging_fraction': 0.40596184097373605, 'bagging_freq': 3}. Best is trial 15 with value: -1.3583964974875598.\u001b[0m\n"
     ]
    },
    {
     "name": "stdout",
     "output_type": "stream",
     "text": [
      "Early stopping, best iteration is:\n",
      "[65]\ttraining's l1: 1.50341\tvalid_1's l1: 1.36039\n",
      "[LightGBM] [Warning] feature_fraction is set=0.4050292679129721, colsample_bytree=0.7 will be ignored. Current value: feature_fraction=0.4050292679129721\n",
      "[LightGBM] [Warning] bagging_fraction is set=0.42170198488966215, subsample=0.8 will be ignored. Current value: bagging_fraction=0.42170198488966215\n",
      "[LightGBM] [Warning] bagging_freq is set=3, subsample_freq=0 will be ignored. Current value: bagging_freq=3\n",
      "Training until validation scores don't improve for 100 rounds\n",
      "[100]\ttraining's l1: 1.48055\tvalid_1's l1: 1.36763\n"
     ]
    },
    {
     "name": "stderr",
     "output_type": "stream",
     "text": [
      "\u001b[32m[I 2021-07-06 14:15:04,423]\u001b[0m Trial 30 finished with value: -1.3660121535264214 and parameters: {'max_depth': 16, 'min_child_weight': 13, 'subsample': 0.8, 'colsample_bytree': 0.7, 'reg_lambda': 2.399726790456043, 'reg_alpha': 0.7804038166457163, 'feature_fraction': 0.4050292679129721, 'bagging_fraction': 0.42170198488966215, 'bagging_freq': 3}. Best is trial 15 with value: -1.3583964974875598.\u001b[0m\n"
     ]
    },
    {
     "name": "stdout",
     "output_type": "stream",
     "text": [
      "Early stopping, best iteration is:\n",
      "[65]\ttraining's l1: 1.50325\tvalid_1's l1: 1.36601\n",
      "[LightGBM] [Warning] feature_fraction is set=0.45210096450039966, colsample_bytree=0.7 will be ignored. Current value: feature_fraction=0.45210096450039966\n",
      "[LightGBM] [Warning] bagging_fraction is set=0.443557891764239, subsample=0.7 will be ignored. Current value: bagging_fraction=0.443557891764239\n",
      "[LightGBM] [Warning] bagging_freq is set=1, subsample_freq=0 will be ignored. Current value: bagging_freq=1\n",
      "Training until validation scores don't improve for 100 rounds\n",
      "[100]\ttraining's l1: 1.47347\tvalid_1's l1: 1.36821\n"
     ]
    },
    {
     "name": "stderr",
     "output_type": "stream",
     "text": [
      "\u001b[32m[I 2021-07-06 14:15:12,593]\u001b[0m Trial 31 finished with value: -1.3655718529844911 and parameters: {'max_depth': 17, 'min_child_weight': 15, 'subsample': 0.7, 'colsample_bytree': 0.7, 'reg_lambda': 1.5301529111448915, 'reg_alpha': 2.3782742431258472, 'feature_fraction': 0.45210096450039966, 'bagging_fraction': 0.443557891764239, 'bagging_freq': 1}. Best is trial 15 with value: -1.3583964974875598.\u001b[0m\n"
     ]
    },
    {
     "name": "stdout",
     "output_type": "stream",
     "text": [
      "Early stopping, best iteration is:\n",
      "[63]\ttraining's l1: 1.49749\tvalid_1's l1: 1.36558\n",
      "[LightGBM] [Warning] feature_fraction is set=0.5875869435597394, colsample_bytree=0.8 will be ignored. Current value: feature_fraction=0.5875869435597394\n",
      "[LightGBM] [Warning] bagging_fraction is set=0.9117010778340314, subsample=0.7 will be ignored. Current value: bagging_fraction=0.9117010778340314\n",
      "[LightGBM] [Warning] bagging_freq is set=3, subsample_freq=0 will be ignored. Current value: bagging_freq=3\n",
      "Training until validation scores don't improve for 100 rounds\n",
      "[100]\ttraining's l1: 1.47037\tvalid_1's l1: 1.37568\n"
     ]
    },
    {
     "name": "stderr",
     "output_type": "stream",
     "text": [
      "\u001b[32m[I 2021-07-06 14:15:21,990]\u001b[0m Trial 32 finished with value: -1.3672582546796006 and parameters: {'max_depth': 20, 'min_child_weight': 14, 'subsample': 0.7, 'colsample_bytree': 0.8, 'reg_lambda': 0.18380580231192467, 'reg_alpha': 6.255220896115681, 'feature_fraction': 0.5875869435597394, 'bagging_fraction': 0.9117010778340314, 'bagging_freq': 3}. Best is trial 15 with value: -1.3583964974875598.\u001b[0m\n"
     ]
    },
    {
     "name": "stdout",
     "output_type": "stream",
     "text": [
      "Early stopping, best iteration is:\n",
      "[46]\ttraining's l1: 1.50539\tvalid_1's l1: 1.36726\n",
      "[LightGBM] [Warning] feature_fraction is set=0.9427192406094246, colsample_bytree=0.7 will be ignored. Current value: feature_fraction=0.9427192406094246\n",
      "[LightGBM] [Warning] bagging_fraction is set=0.8090085715809666, subsample=0.8 will be ignored. Current value: bagging_fraction=0.8090085715809666\n",
      "[LightGBM] [Warning] bagging_freq is set=4, subsample_freq=0 will be ignored. Current value: bagging_freq=4\n",
      "Training until validation scores don't improve for 100 rounds\n",
      "[100]\ttraining's l1: 1.48776\tvalid_1's l1: 1.3665\n"
     ]
    },
    {
     "name": "stderr",
     "output_type": "stream",
     "text": [
      "\u001b[32m[I 2021-07-06 14:15:29,978]\u001b[0m Trial 33 finished with value: -1.3637105362452675 and parameters: {'max_depth': 4, 'min_child_weight': 12, 'subsample': 0.8, 'colsample_bytree': 0.7, 'reg_lambda': 7.376275812220533, 'reg_alpha': 18.727477154876162, 'feature_fraction': 0.9427192406094246, 'bagging_fraction': 0.8090085715809666, 'bagging_freq': 4}. Best is trial 15 with value: -1.3583964974875598.\u001b[0m\n"
     ]
    },
    {
     "name": "stdout",
     "output_type": "stream",
     "text": [
      "Early stopping, best iteration is:\n",
      "[83]\ttraining's l1: 1.49234\tvalid_1's l1: 1.36371\n",
      "[LightGBM] [Warning] feature_fraction is set=0.8852660292130967, colsample_bytree=0.6 will be ignored. Current value: feature_fraction=0.8852660292130967\n",
      "[LightGBM] [Warning] bagging_fraction is set=0.8859990298250675, subsample=0.8 will be ignored. Current value: bagging_fraction=0.8859990298250675\n",
      "[LightGBM] [Warning] bagging_freq is set=5, subsample_freq=0 will be ignored. Current value: bagging_freq=5\n",
      "Training until validation scores don't improve for 100 rounds\n",
      "[100]\ttraining's l1: 1.47089\tvalid_1's l1: 1.37492\n"
     ]
    },
    {
     "name": "stderr",
     "output_type": "stream",
     "text": [
      "\u001b[32m[I 2021-07-06 14:15:37,702]\u001b[0m Trial 34 finished with value: -1.3671542564400405 and parameters: {'max_depth': 12, 'min_child_weight': 17, 'subsample': 0.8, 'colsample_bytree': 0.6, 'reg_lambda': 38.08887411651823, 'reg_alpha': 0.3910162555468541, 'feature_fraction': 0.8852660292130967, 'bagging_fraction': 0.8859990298250675, 'bagging_freq': 5}. Best is trial 15 with value: -1.3583964974875598.\u001b[0m\n"
     ]
    },
    {
     "name": "stdout",
     "output_type": "stream",
     "text": [
      "Early stopping, best iteration is:\n",
      "[48]\ttraining's l1: 1.49385\tvalid_1's l1: 1.36715\n",
      "[LightGBM] [Warning] feature_fraction is set=0.9458845713815571, colsample_bytree=0.8 will be ignored. Current value: feature_fraction=0.9458845713815571\n",
      "[LightGBM] [Warning] bagging_fraction is set=0.466029820602209, subsample=0.6 will be ignored. Current value: bagging_fraction=0.466029820602209\n",
      "[LightGBM] [Warning] bagging_freq is set=8, subsample_freq=0 will be ignored. Current value: bagging_freq=8\n",
      "Training until validation scores don't improve for 100 rounds\n",
      "[100]\ttraining's l1: 1.47439\tvalid_1's l1: 1.38184\n"
     ]
    },
    {
     "name": "stderr",
     "output_type": "stream",
     "text": [
      "\u001b[32m[I 2021-07-06 14:15:42,642]\u001b[0m Trial 35 finished with value: -1.3720314737212467 and parameters: {'max_depth': 18, 'min_child_weight': 15, 'subsample': 0.6, 'colsample_bytree': 0.8, 'reg_lambda': 0.7074249282229844, 'reg_alpha': 0.12741049738754717, 'feature_fraction': 0.9458845713815571, 'bagging_fraction': 0.466029820602209, 'bagging_freq': 8}. Best is trial 15 with value: -1.3583964974875598.\u001b[0m\n"
     ]
    },
    {
     "name": "stdout",
     "output_type": "stream",
     "text": [
      "Early stopping, best iteration is:\n",
      "[34]\ttraining's l1: 1.51119\tvalid_1's l1: 1.37203\n",
      "[LightGBM] [Warning] feature_fraction is set=0.8336060814397864, colsample_bytree=0.7 will be ignored. Current value: feature_fraction=0.8336060814397864\n",
      "[LightGBM] [Warning] bagging_fraction is set=0.9862227174982178, subsample=0.7 will be ignored. Current value: bagging_fraction=0.9862227174982178\n",
      "[LightGBM] [Warning] bagging_freq is set=6, subsample_freq=0 will be ignored. Current value: bagging_freq=6\n",
      "Training until validation scores don't improve for 100 rounds\n",
      "[100]\ttraining's l1: 1.46653\tvalid_1's l1: 1.37332\n"
     ]
    },
    {
     "name": "stderr",
     "output_type": "stream",
     "text": [
      "\u001b[32m[I 2021-07-06 14:15:49,368]\u001b[0m Trial 36 finished with value: -1.3644032759626745 and parameters: {'max_depth': 5, 'min_child_weight': 9, 'subsample': 0.7, 'colsample_bytree': 0.7, 'reg_lambda': 0.02330652686144453, 'reg_alpha': 39.27834791306286, 'feature_fraction': 0.8336060814397864, 'bagging_fraction': 0.9862227174982178, 'bagging_freq': 6}. Best is trial 15 with value: -1.3583964974875598.\u001b[0m\n"
     ]
    },
    {
     "name": "stdout",
     "output_type": "stream",
     "text": [
      "Early stopping, best iteration is:\n",
      "[27]\ttraining's l1: 1.52283\tvalid_1's l1: 1.3644\n",
      "[LightGBM] [Warning] feature_fraction is set=0.5378816851051096, colsample_bytree=0.7 will be ignored. Current value: feature_fraction=0.5378816851051096\n",
      "[LightGBM] [Warning] bagging_fraction is set=0.5247459560117528, subsample=0.5 will be ignored. Current value: bagging_fraction=0.5247459560117528\n",
      "[LightGBM] [Warning] bagging_freq is set=4, subsample_freq=0 will be ignored. Current value: bagging_freq=4\n",
      "Training until validation scores don't improve for 100 rounds\n",
      "[100]\ttraining's l1: 1.58718\tvalid_1's l1: 1.39924\n",
      "[200]\ttraining's l1: 1.55647\tvalid_1's l1: 1.37861\n",
      "[300]\ttraining's l1: 1.54387\tvalid_1's l1: 1.37081\n",
      "[400]\ttraining's l1: 1.53371\tvalid_1's l1: 1.36771\n"
     ]
    },
    {
     "name": "stderr",
     "output_type": "stream",
     "text": [
      "\u001b[32m[I 2021-07-06 14:16:04,473]\u001b[0m Trial 37 finished with value: -1.3675768440218898 and parameters: {'max_depth': 2, 'min_child_weight': 13, 'subsample': 0.5, 'colsample_bytree': 0.7, 'reg_lambda': 0.00875832689428418, 'reg_alpha': 3.6200984209100096, 'feature_fraction': 0.5378816851051096, 'bagging_fraction': 0.5247459560117528, 'bagging_freq': 4}. Best is trial 15 with value: -1.3583964974875598.\u001b[0m\n"
     ]
    },
    {
     "name": "stdout",
     "output_type": "stream",
     "text": [
      "Early stopping, best iteration is:\n",
      "[398]\ttraining's l1: 1.53398\tvalid_1's l1: 1.36762\n",
      "[LightGBM] [Warning] feature_fraction is set=0.45402919265092456, colsample_bytree=0.6 will be ignored. Current value: feature_fraction=0.45402919265092456\n",
      "[LightGBM] [Warning] bagging_fraction is set=0.6457973854610951, subsample=0.7 will be ignored. Current value: bagging_fraction=0.6457973854610951\n",
      "[LightGBM] [Warning] bagging_freq is set=2, subsample_freq=0 will be ignored. Current value: bagging_freq=2\n",
      "Training until validation scores don't improve for 100 rounds\n",
      "[100]\ttraining's l1: 1.47324\tvalid_1's l1: 1.37725\n"
     ]
    },
    {
     "name": "stderr",
     "output_type": "stream",
     "text": [
      "\u001b[32m[I 2021-07-06 14:16:12,860]\u001b[0m Trial 38 finished with value: -1.3701748993094296 and parameters: {'max_depth': 10, 'min_child_weight': 18, 'subsample': 0.7, 'colsample_bytree': 0.6, 'reg_lambda': 60.4976789125227, 'reg_alpha': 0.9618295653304918, 'feature_fraction': 0.45402919265092456, 'bagging_fraction': 0.6457973854610951, 'bagging_freq': 2}. Best is trial 15 with value: -1.3583964974875598.\u001b[0m\n"
     ]
    },
    {
     "name": "stdout",
     "output_type": "stream",
     "text": [
      "Early stopping, best iteration is:\n",
      "[70]\ttraining's l1: 1.49095\tvalid_1's l1: 1.37018\n",
      "[LightGBM] [Warning] feature_fraction is set=0.6669177255694495, colsample_bytree=0.5 will be ignored. Current value: feature_fraction=0.6669177255694495\n",
      "[LightGBM] [Warning] bagging_fraction is set=0.8393995566866085, subsample=0.6 will be ignored. Current value: bagging_fraction=0.8393995566866085\n",
      "[LightGBM] [Warning] bagging_freq is set=7, subsample_freq=0 will be ignored. Current value: bagging_freq=7\n",
      "Training until validation scores don't improve for 100 rounds\n",
      "[100]\ttraining's l1: 1.4673\tvalid_1's l1: 1.38038\n"
     ]
    },
    {
     "name": "stderr",
     "output_type": "stream",
     "text": [
      "\u001b[32m[I 2021-07-06 14:16:20,027]\u001b[0m Trial 39 finished with value: -1.367528191894391 and parameters: {'max_depth': 14, 'min_child_weight': 12, 'subsample': 0.6, 'colsample_bytree': 0.5, 'reg_lambda': 0.8500256293199401, 'reg_alpha': 10.925228779886066, 'feature_fraction': 0.6669177255694495, 'bagging_fraction': 0.8393995566866085, 'bagging_freq': 7}. Best is trial 15 with value: -1.3583964974875598.\u001b[0m\n"
     ]
    },
    {
     "name": "stdout",
     "output_type": "stream",
     "text": [
      "Early stopping, best iteration is:\n",
      "[45]\ttraining's l1: 1.49764\tvalid_1's l1: 1.36753\n",
      "[LightGBM] [Warning] feature_fraction is set=0.9812615021753914, colsample_bytree=0.8 will be ignored. Current value: feature_fraction=0.9812615021753914\n",
      "[LightGBM] [Warning] bagging_fraction is set=0.7296265483183718, subsample=0.5 will be ignored. Current value: bagging_fraction=0.7296265483183718\n",
      "[LightGBM] [Warning] bagging_freq is set=5, subsample_freq=0 will be ignored. Current value: bagging_freq=5\n",
      "Training until validation scores don't improve for 100 rounds\n",
      "[100]\ttraining's l1: 1.58833\tvalid_1's l1: 1.40322\n",
      "[200]\ttraining's l1: 1.55692\tvalid_1's l1: 1.38557\n",
      "[300]\ttraining's l1: 1.54294\tvalid_1's l1: 1.37901\n",
      "[400]\ttraining's l1: 1.53682\tvalid_1's l1: 1.37579\n",
      "[500]\ttraining's l1: 1.53103\tvalid_1's l1: 1.37353\n",
      "[600]\ttraining's l1: 1.52848\tvalid_1's l1: 1.37178\n",
      "[700]\ttraining's l1: 1.52509\tvalid_1's l1: 1.37455\n"
     ]
    },
    {
     "name": "stderr",
     "output_type": "stream",
     "text": [
      "\u001b[32m[I 2021-07-06 14:16:41,565]\u001b[0m Trial 40 finished with value: -1.3710999548886103 and parameters: {'max_depth': 2, 'min_child_weight': 7, 'subsample': 0.5, 'colsample_bytree': 0.8, 'reg_lambda': 0.0070426177760853975, 'reg_alpha': 78.9111766401168, 'feature_fraction': 0.9812615021753914, 'bagging_fraction': 0.7296265483183718, 'bagging_freq': 5}. Best is trial 15 with value: -1.3583964974875598.\u001b[0m\n"
     ]
    },
    {
     "name": "stdout",
     "output_type": "stream",
     "text": [
      "Early stopping, best iteration is:\n",
      "[641]\ttraining's l1: 1.52758\tvalid_1's l1: 1.37112\n",
      "[LightGBM] [Warning] feature_fraction is set=0.9568817315754119, colsample_bytree=0.5 will be ignored. Current value: feature_fraction=0.9568817315754119\n",
      "[LightGBM] [Warning] bagging_fraction is set=0.9187871066642807, subsample=0.6 will be ignored. Current value: bagging_fraction=0.9187871066642807\n",
      "[LightGBM] [Warning] bagging_freq is set=7, subsample_freq=0 will be ignored. Current value: bagging_freq=7\n",
      "Training until validation scores don't improve for 100 rounds\n",
      "[100]\ttraining's l1: 1.52618\tvalid_1's l1: 1.37758\n",
      "[200]\ttraining's l1: 1.50862\tvalid_1's l1: 1.36866\n",
      "[300]\ttraining's l1: 1.50498\tvalid_1's l1: 1.36792\n",
      "[400]\ttraining's l1: 1.49966\tvalid_1's l1: 1.36589\n",
      "[500]\ttraining's l1: 1.49721\tvalid_1's l1: 1.36592\n",
      "[600]\ttraining's l1: 1.4959\tvalid_1's l1: 1.36544\n",
      "[700]\ttraining's l1: 1.49473\tvalid_1's l1: 1.3653\n",
      "[800]\ttraining's l1: 1.49394\tvalid_1's l1: 1.36549\n"
     ]
    },
    {
     "name": "stderr",
     "output_type": "stream",
     "text": [
      "\u001b[32m[I 2021-07-06 14:17:09,642]\u001b[0m Trial 41 finished with value: -1.3648090633762147 and parameters: {'max_depth': 3, 'min_child_weight': 19, 'subsample': 0.6, 'colsample_bytree': 0.5, 'reg_lambda': 0.002173552992287893, 'reg_alpha': 654.1872574155794, 'feature_fraction': 0.9568817315754119, 'bagging_fraction': 0.9187871066642807, 'bagging_freq': 7}. Best is trial 15 with value: -1.3583964974875598.\u001b[0m\n"
     ]
    },
    {
     "name": "stdout",
     "output_type": "stream",
     "text": [
      "Early stopping, best iteration is:\n",
      "[750]\ttraining's l1: 1.49438\tvalid_1's l1: 1.36485\n",
      "[LightGBM] [Warning] feature_fraction is set=0.9915830699420185, colsample_bytree=0.5 will be ignored. Current value: feature_fraction=0.9915830699420185\n",
      "[LightGBM] [Warning] bagging_fraction is set=0.8729790108412886, subsample=0.6 will be ignored. Current value: bagging_fraction=0.8729790108412886\n",
      "[LightGBM] [Warning] bagging_freq is set=9, subsample_freq=0 will be ignored. Current value: bagging_freq=9\n",
      "Training until validation scores don't improve for 100 rounds\n",
      "[100]\ttraining's l1: 1.49543\tvalid_1's l1: 1.37011\n",
      "[200]\ttraining's l1: 1.48477\tvalid_1's l1: 1.36934\n"
     ]
    },
    {
     "name": "stderr",
     "output_type": "stream",
     "text": [
      "\u001b[32m[I 2021-07-06 14:17:19,017]\u001b[0m Trial 42 finished with value: -1.3685574425833866 and parameters: {'max_depth': 4, 'min_child_weight': 19, 'subsample': 0.6, 'colsample_bytree': 0.5, 'reg_lambda': 0.004953004626750974, 'reg_alpha': 367.56419090539436, 'feature_fraction': 0.9915830699420185, 'bagging_fraction': 0.8729790108412886, 'bagging_freq': 9}. Best is trial 15 with value: -1.3583964974875598.\u001b[0m\n"
     ]
    },
    {
     "name": "stdout",
     "output_type": "stream",
     "text": [
      "Early stopping, best iteration is:\n",
      "[150]\ttraining's l1: 1.48967\tvalid_1's l1: 1.36857\n",
      "[LightGBM] [Warning] feature_fraction is set=0.9298198643084039, colsample_bytree=0.6 will be ignored. Current value: feature_fraction=0.9298198643084039\n",
      "[LightGBM] [Warning] bagging_fraction is set=0.9466683114879606, subsample=0.7 will be ignored. Current value: bagging_fraction=0.9466683114879606\n",
      "[LightGBM] [Warning] bagging_freq is set=7, subsample_freq=0 will be ignored. Current value: bagging_freq=7\n",
      "Training until validation scores don't improve for 100 rounds\n",
      "[100]\ttraining's l1: 1.46958\tvalid_1's l1: 1.373\n"
     ]
    },
    {
     "name": "stderr",
     "output_type": "stream",
     "text": [
      "\u001b[32m[I 2021-07-06 14:17:25,928]\u001b[0m Trial 43 finished with value: -1.3638396375142139 and parameters: {'max_depth': 6, 'min_child_weight': 16, 'subsample': 0.7, 'colsample_bytree': 0.6, 'reg_lambda': 0.041368380711847334, 'reg_alpha': 6.078309521046228, 'feature_fraction': 0.9298198643084039, 'bagging_fraction': 0.9466683114879606, 'bagging_freq': 7}. Best is trial 15 with value: -1.3583964974875598.\u001b[0m\n"
     ]
    },
    {
     "name": "stdout",
     "output_type": "stream",
     "text": [
      "Early stopping, best iteration is:\n",
      "[33]\ttraining's l1: 1.5121\tvalid_1's l1: 1.36384\n",
      "[LightGBM] [Warning] feature_fraction is set=0.892831317050097, colsample_bytree=0.5 will be ignored. Current value: feature_fraction=0.892831317050097\n",
      "[LightGBM] [Warning] bagging_fraction is set=0.8901133695646806, subsample=0.6 will be ignored. Current value: bagging_fraction=0.8901133695646806\n",
      "[LightGBM] [Warning] bagging_freq is set=6, subsample_freq=0 will be ignored. Current value: bagging_freq=6\n",
      "Training until validation scores don't improve for 100 rounds\n",
      "[100]\ttraining's l1: 1.5145\tvalid_1's l1: 1.36633\n",
      "[200]\ttraining's l1: 1.49632\tvalid_1's l1: 1.36219\n",
      "[300]\ttraining's l1: 1.49152\tvalid_1's l1: 1.36115\n",
      "[400]\ttraining's l1: 1.48852\tvalid_1's l1: 1.36053\n"
     ]
    },
    {
     "name": "stderr",
     "output_type": "stream",
     "text": [
      "\u001b[32m[I 2021-07-06 14:17:41,621]\u001b[0m Trial 44 finished with value: -1.360095301213042 and parameters: {'max_depth': 3, 'min_child_weight': 15, 'subsample': 0.6, 'colsample_bytree': 0.5, 'reg_lambda': 0.0021034000390716674, 'reg_alpha': 3.488703202533304, 'feature_fraction': 0.892831317050097, 'bagging_fraction': 0.8901133695646806, 'bagging_freq': 6}. Best is trial 15 with value: -1.3583964974875598.\u001b[0m\n"
     ]
    },
    {
     "name": "stdout",
     "output_type": "stream",
     "text": [
      "Early stopping, best iteration is:\n",
      "[341]\ttraining's l1: 1.48968\tvalid_1's l1: 1.36015\n",
      "[LightGBM] [Warning] feature_fraction is set=0.891742664144302, colsample_bytree=0.9 will be ignored. Current value: feature_fraction=0.891742664144302\n",
      "[LightGBM] [Warning] bagging_fraction is set=0.88955470624976, subsample=0.6 will be ignored. Current value: bagging_fraction=0.88955470624976\n",
      "[LightGBM] [Warning] bagging_freq is set=6, subsample_freq=0 will be ignored. Current value: bagging_freq=6\n",
      "Training until validation scores don't improve for 100 rounds\n",
      "[100]\ttraining's l1: 1.52021\tvalid_1's l1: 1.36852\n",
      "[200]\ttraining's l1: 1.49835\tvalid_1's l1: 1.36385\n",
      "[300]\ttraining's l1: 1.49205\tvalid_1's l1: 1.36274\n",
      "[400]\ttraining's l1: 1.48902\tvalid_1's l1: 1.36242\n"
     ]
    },
    {
     "name": "stderr",
     "output_type": "stream",
     "text": [
      "\u001b[32m[I 2021-07-06 14:17:56,659]\u001b[0m Trial 45 finished with value: -1.36178552464201 and parameters: {'max_depth': 3, 'min_child_weight': 15, 'subsample': 0.6, 'colsample_bytree': 0.9, 'reg_lambda': 0.3836198749034561, 'reg_alpha': 0.3530623324486519, 'feature_fraction': 0.891742664144302, 'bagging_fraction': 0.88955470624976, 'bagging_freq': 6}. Best is trial 15 with value: -1.3583964974875598.\u001b[0m\n"
     ]
    },
    {
     "name": "stdout",
     "output_type": "stream",
     "text": [
      "Early stopping, best iteration is:\n",
      "[314]\ttraining's l1: 1.49171\tvalid_1's l1: 1.36183\n",
      "[LightGBM] [Warning] feature_fraction is set=0.7521792700036655, colsample_bytree=0.5 will be ignored. Current value: feature_fraction=0.7521792700036655\n",
      "[LightGBM] [Warning] bagging_fraction is set=0.9666457516640896, subsample=0.5 will be ignored. Current value: bagging_fraction=0.9666457516640896\n",
      "[LightGBM] [Warning] bagging_freq is set=4, subsample_freq=0 will be ignored. Current value: bagging_freq=4\n",
      "Training until validation scores don't improve for 100 rounds\n",
      "[100]\ttraining's l1: 1.46725\tvalid_1's l1: 1.36797\n"
     ]
    },
    {
     "name": "stderr",
     "output_type": "stream",
     "text": [
      "\u001b[32m[I 2021-07-06 14:18:03,779]\u001b[0m Trial 46 finished with value: -1.3659609382859343 and parameters: {'max_depth': 5, 'min_child_weight': 11, 'subsample': 0.5, 'colsample_bytree': 0.5, 'reg_lambda': 0.0917582149827451, 'reg_alpha': 1.9041653642972078, 'feature_fraction': 0.7521792700036655, 'bagging_fraction': 0.9666457516640896, 'bagging_freq': 4}. Best is trial 15 with value: -1.3583964974875598.\u001b[0m\n"
     ]
    },
    {
     "name": "stdout",
     "output_type": "stream",
     "text": [
      "Early stopping, best iteration is:\n",
      "[30]\ttraining's l1: 1.51469\tvalid_1's l1: 1.36596\n",
      "[LightGBM] [Warning] feature_fraction is set=0.8640870018945892, colsample_bytree=0.6 will be ignored. Current value: feature_fraction=0.8640870018945892\n",
      "[LightGBM] [Warning] bagging_fraction is set=0.7572319619437821, subsample=0.7 will be ignored. Current value: bagging_fraction=0.7572319619437821\n",
      "[LightGBM] [Warning] bagging_freq is set=6, subsample_freq=0 will be ignored. Current value: bagging_freq=6\n",
      "Training until validation scores don't improve for 100 rounds\n",
      "[100]\ttraining's l1: 1.4669\tvalid_1's l1: 1.37707\n"
     ]
    },
    {
     "name": "stderr",
     "output_type": "stream",
     "text": [
      "\u001b[32m[I 2021-07-06 14:18:10,541]\u001b[0m Trial 47 finished with value: -1.3651095004727105 and parameters: {'max_depth': 7, 'min_child_weight': 14, 'subsample': 0.7, 'colsample_bytree': 0.6, 'reg_lambda': 0.0016220318828303174, 'reg_alpha': 4.697089362281581, 'feature_fraction': 0.8640870018945892, 'bagging_fraction': 0.7572319619437821, 'bagging_freq': 6}. Best is trial 15 with value: -1.3583964974875598.\u001b[0m\n"
     ]
    },
    {
     "name": "stdout",
     "output_type": "stream",
     "text": [
      "Early stopping, best iteration is:\n",
      "[45]\ttraining's l1: 1.4925\tvalid_1's l1: 1.36511\n",
      "[LightGBM] [Warning] feature_fraction is set=0.8201946984306836, colsample_bytree=0.7 will be ignored. Current value: feature_fraction=0.8201946984306836\n",
      "[LightGBM] [Warning] bagging_fraction is set=0.8056767803674252, subsample=0.6 will be ignored. Current value: bagging_fraction=0.8056767803674252\n",
      "[LightGBM] [Warning] bagging_freq is set=5, subsample_freq=0 will be ignored. Current value: bagging_freq=5\n",
      "Training until validation scores don't improve for 100 rounds\n",
      "[100]\ttraining's l1: 1.59193\tvalid_1's l1: 1.40787\n",
      "[200]\ttraining's l1: 1.55709\tvalid_1's l1: 1.39006\n",
      "[300]\ttraining's l1: 1.54064\tvalid_1's l1: 1.38293\n",
      "[400]\ttraining's l1: 1.53226\tvalid_1's l1: 1.37907\n",
      "[500]\ttraining's l1: 1.52937\tvalid_1's l1: 1.3805\n"
     ]
    },
    {
     "name": "stderr",
     "output_type": "stream",
     "text": [
      "\u001b[32m[I 2021-07-06 14:18:28,477]\u001b[0m Trial 48 finished with value: -1.378342834661461 and parameters: {'max_depth': 2, 'min_child_weight': 17, 'subsample': 0.6, 'colsample_bytree': 0.7, 'reg_lambda': 220.21271550606676, 'reg_alpha': 14.554904051896898, 'feature_fraction': 0.8201946984306836, 'bagging_fraction': 0.8056767803674252, 'bagging_freq': 5}. Best is trial 15 with value: -1.3583964974875598.\u001b[0m\n"
     ]
    },
    {
     "name": "stdout",
     "output_type": "stream",
     "text": [
      "Early stopping, best iteration is:\n",
      "[458]\ttraining's l1: 1.53067\tvalid_1's l1: 1.3784\n",
      "[LightGBM] [Warning] feature_fraction is set=0.79218906805359, colsample_bytree=0.6 will be ignored. Current value: feature_fraction=0.79218906805359\n",
      "[LightGBM] [Warning] bagging_fraction is set=0.6990026957602092, subsample=0.7 will be ignored. Current value: bagging_fraction=0.6990026957602092\n",
      "[LightGBM] [Warning] bagging_freq is set=6, subsample_freq=0 will be ignored. Current value: bagging_freq=6\n",
      "Training until validation scores don't improve for 100 rounds\n",
      "[100]\ttraining's l1: 1.71648\tvalid_1's l1: 1.45981\n",
      "[200]\ttraining's l1: 1.69986\tvalid_1's l1: 1.4451\n",
      "[300]\ttraining's l1: 1.6894\tvalid_1's l1: 1.43623\n",
      "[400]\ttraining's l1: 1.68435\tvalid_1's l1: 1.43368\n",
      "[500]\ttraining's l1: 1.6805\tvalid_1's l1: 1.42937\n",
      "[600]\ttraining's l1: 1.67731\tvalid_1's l1: 1.42639\n",
      "[700]\ttraining's l1: 1.67418\tvalid_1's l1: 1.42246\n",
      "[800]\ttraining's l1: 1.67191\tvalid_1's l1: 1.4212\n",
      "[900]\ttraining's l1: 1.67037\tvalid_1's l1: 1.42006\n"
     ]
    },
    {
     "name": "stderr",
     "output_type": "stream",
     "text": [
      "\u001b[32m[I 2021-07-06 14:18:54,468]\u001b[0m Trial 49 finished with value: -1.4193720932074454 and parameters: {'max_depth': 1, 'min_child_weight': 13, 'subsample': 0.7, 'colsample_bytree': 0.6, 'reg_lambda': 1.2830757018013748, 'reg_alpha': 2.667939800472765, 'feature_fraction': 0.79218906805359, 'bagging_fraction': 0.6990026957602092, 'bagging_freq': 6}. Best is trial 15 with value: -1.3583964974875598.\u001b[0m\n"
     ]
    },
    {
     "name": "stdout",
     "output_type": "stream",
     "text": [
      "[1000]\ttraining's l1: 1.66888\tvalid_1's l1: 1.4196\n",
      "Early stopping, best iteration is:\n",
      "[901]\ttraining's l1: 1.67005\tvalid_1's l1: 1.41938\n",
      "[LightGBM] [Warning] feature_fraction is set=0.8553638107752511, colsample_bytree=0.5 will be ignored. Current value: feature_fraction=0.8553638107752511\n",
      "[LightGBM] [Warning] bagging_fraction is set=0.8488720990383708, subsample=0.6 will be ignored. Current value: bagging_fraction=0.8488720990383708\n",
      "[LightGBM] [Warning] bagging_freq is set=8, subsample_freq=0 will be ignored. Current value: bagging_freq=8\n",
      "Training until validation scores don't improve for 100 rounds\n",
      "[100]\ttraining's l1: 1.48727\tvalid_1's l1: 1.36963\n"
     ]
    },
    {
     "name": "stderr",
     "output_type": "stream",
     "text": [
      "\u001b[32m[I 2021-07-06 14:19:01,376]\u001b[0m Trial 50 finished with value: -1.3627728248285138 and parameters: {'max_depth': 4, 'min_child_weight': 15, 'subsample': 0.6, 'colsample_bytree': 0.5, 'reg_lambda': 6.60448017671818, 'reg_alpha': 0.23999255461433078, 'feature_fraction': 0.8553638107752511, 'bagging_fraction': 0.8488720990383708, 'bagging_freq': 8}. Best is trial 15 with value: -1.3583964974875598.\u001b[0m\n"
     ]
    },
    {
     "name": "stdout",
     "output_type": "stream",
     "text": [
      "Early stopping, best iteration is:\n",
      "[67]\ttraining's l1: 1.4991\tvalid_1's l1: 1.36277\n",
      "[LightGBM] [Warning] feature_fraction is set=0.8954988239415482, colsample_bytree=0.9 will be ignored. Current value: feature_fraction=0.8954988239415482\n",
      "[LightGBM] [Warning] bagging_fraction is set=0.8984420852111682, subsample=0.6 will be ignored. Current value: bagging_fraction=0.8984420852111682\n",
      "[LightGBM] [Warning] bagging_freq is set=6, subsample_freq=0 will be ignored. Current value: bagging_freq=6\n",
      "Training until validation scores don't improve for 100 rounds\n",
      "[100]\ttraining's l1: 1.51652\tvalid_1's l1: 1.37017\n",
      "[200]\ttraining's l1: 1.49945\tvalid_1's l1: 1.36308\n",
      "[300]\ttraining's l1: 1.49188\tvalid_1's l1: 1.36239\n"
     ]
    },
    {
     "name": "stderr",
     "output_type": "stream",
     "text": [
      "\u001b[32m[I 2021-07-06 14:19:15,132]\u001b[0m Trial 51 finished with value: -1.3620122864458488 and parameters: {'max_depth': 3, 'min_child_weight': 16, 'subsample': 0.6, 'colsample_bytree': 0.9, 'reg_lambda': 0.39512539843755506, 'reg_alpha': 0.05752781861472106, 'feature_fraction': 0.8954988239415482, 'bagging_fraction': 0.8984420852111682, 'bagging_freq': 6}. Best is trial 15 with value: -1.3583964974875598.\u001b[0m\n"
     ]
    },
    {
     "name": "stdout",
     "output_type": "stream",
     "text": [
      "Early stopping, best iteration is:\n",
      "[279]\ttraining's l1: 1.49381\tvalid_1's l1: 1.36202\n",
      "[LightGBM] [Warning] feature_fraction is set=0.8815487386804348, colsample_bytree=0.9 will be ignored. Current value: feature_fraction=0.8815487386804348\n",
      "[LightGBM] [Warning] bagging_fraction is set=0.8770773009887348, subsample=0.6 will be ignored. Current value: bagging_fraction=0.8770773009887348\n",
      "[LightGBM] [Warning] bagging_freq is set=5, subsample_freq=0 will be ignored. Current value: bagging_freq=5\n",
      "Training until validation scores don't improve for 100 rounds\n",
      "[100]\ttraining's l1: 1.58657\tvalid_1's l1: 1.39807\n",
      "[200]\ttraining's l1: 1.55366\tvalid_1's l1: 1.38073\n",
      "[300]\ttraining's l1: 1.53878\tvalid_1's l1: 1.3751\n",
      "[400]\ttraining's l1: 1.53276\tvalid_1's l1: 1.37391\n"
     ]
    },
    {
     "name": "stderr",
     "output_type": "stream",
     "text": [
      "\u001b[32m[I 2021-07-06 14:19:30,895]\u001b[0m Trial 52 finished with value: -1.3722005004013051 and parameters: {'max_depth': 2, 'min_child_weight': 15, 'subsample': 0.6, 'colsample_bytree': 0.9, 'reg_lambda': 0.027935978384445816, 'reg_alpha': 0.7615448235044414, 'feature_fraction': 0.8815487386804348, 'bagging_fraction': 0.8770773009887348, 'bagging_freq': 5}. Best is trial 15 with value: -1.3583964974875598.\u001b[0m\n"
     ]
    },
    {
     "name": "stdout",
     "output_type": "stream",
     "text": [
      "Early stopping, best iteration is:\n",
      "[357]\ttraining's l1: 1.53363\tvalid_1's l1: 1.37221\n",
      "[LightGBM] [Warning] feature_fraction is set=0.9198963685342062, colsample_bytree=0.6 will be ignored. Current value: feature_fraction=0.9198963685342062\n",
      "[LightGBM] [Warning] bagging_fraction is set=0.9320207185460465, subsample=0.6 will be ignored. Current value: bagging_fraction=0.9320207185460465\n",
      "[LightGBM] [Warning] bagging_freq is set=6, subsample_freq=0 will be ignored. Current value: bagging_freq=6\n",
      "Training until validation scores don't improve for 100 rounds\n",
      "[100]\ttraining's l1: 1.46604\tvalid_1's l1: 1.3746\n"
     ]
    },
    {
     "name": "stderr",
     "output_type": "stream",
     "text": [
      "\u001b[32m[I 2021-07-06 14:19:37,653]\u001b[0m Trial 53 finished with value: -1.3583242505002457 and parameters: {'max_depth': 5, 'min_child_weight': 18, 'subsample': 0.6, 'colsample_bytree': 0.6, 'reg_lambda': 0.0035713330858582436, 'reg_alpha': 0.41895585420167636, 'feature_fraction': 0.9198963685342062, 'bagging_fraction': 0.9320207185460465, 'bagging_freq': 6}. Best is trial 53 with value: -1.3583242505002457.\u001b[0m\n"
     ]
    },
    {
     "name": "stdout",
     "output_type": "stream",
     "text": [
      "Early stopping, best iteration is:\n",
      "[36]\ttraining's l1: 1.4996\tvalid_1's l1: 1.35832\n",
      "[LightGBM] [Warning] feature_fraction is set=0.9226644551511856, colsample_bytree=0.6 will be ignored. Current value: feature_fraction=0.9226644551511856\n",
      "[LightGBM] [Warning] bagging_fraction is set=0.9311665877850326, subsample=0.5 will be ignored. Current value: bagging_fraction=0.9311665877850326\n",
      "[LightGBM] [Warning] bagging_freq is set=8, subsample_freq=0 will be ignored. Current value: bagging_freq=8\n",
      "Training until validation scores don't improve for 100 rounds\n",
      "[100]\ttraining's l1: 1.46562\tvalid_1's l1: 1.37926\n"
     ]
    },
    {
     "name": "stderr",
     "output_type": "stream",
     "text": [
      "\u001b[32m[I 2021-07-06 14:19:44,218]\u001b[0m Trial 54 finished with value: -1.3578935374783205 and parameters: {'max_depth': 5, 'min_child_weight': 17, 'subsample': 0.5, 'colsample_bytree': 0.6, 'reg_lambda': 0.0042106178433536, 'reg_alpha': 1.298866269385033, 'feature_fraction': 0.9226644551511856, 'bagging_fraction': 0.9311665877850326, 'bagging_freq': 8}. Best is trial 54 with value: -1.3578935374783205.\u001b[0m\n"
     ]
    },
    {
     "name": "stdout",
     "output_type": "stream",
     "text": [
      "Early stopping, best iteration is:\n",
      "[33]\ttraining's l1: 1.50315\tvalid_1's l1: 1.35789\n",
      "[LightGBM] [Warning] feature_fraction is set=0.9298564165879744, colsample_bytree=0.6 will be ignored. Current value: feature_fraction=0.9298564165879744\n",
      "[LightGBM] [Warning] bagging_fraction is set=0.9439577588582982, subsample=0.5 will be ignored. Current value: bagging_fraction=0.9439577588582982\n",
      "[LightGBM] [Warning] bagging_freq is set=9, subsample_freq=0 will be ignored. Current value: bagging_freq=9\n",
      "Training until validation scores don't improve for 100 rounds\n",
      "[100]\ttraining's l1: 1.46591\tvalid_1's l1: 1.37885\n"
     ]
    },
    {
     "name": "stderr",
     "output_type": "stream",
     "text": [
      "\u001b[32m[I 2021-07-06 14:19:50,678]\u001b[0m Trial 55 finished with value: -1.3567368068404055 and parameters: {'max_depth': 5, 'min_child_weight': 18, 'subsample': 0.5, 'colsample_bytree': 0.6, 'reg_lambda': 0.003047336161981325, 'reg_alpha': 0.06817362969639486, 'feature_fraction': 0.9298564165879744, 'bagging_fraction': 0.9439577588582982, 'bagging_freq': 9}. Best is trial 55 with value: -1.3567368068404055.\u001b[0m\n"
     ]
    },
    {
     "name": "stdout",
     "output_type": "stream",
     "text": [
      "Early stopping, best iteration is:\n",
      "[34]\ttraining's l1: 1.50115\tvalid_1's l1: 1.35674\n",
      "[LightGBM] [Warning] feature_fraction is set=0.9621998316742981, colsample_bytree=0.6 will be ignored. Current value: feature_fraction=0.9621998316742981\n",
      "[LightGBM] [Warning] bagging_fraction is set=0.99138261628403, subsample=0.5 will be ignored. Current value: bagging_fraction=0.99138261628403\n",
      "[LightGBM] [Warning] bagging_freq is set=9, subsample_freq=0 will be ignored. Current value: bagging_freq=9\n",
      "Training until validation scores don't improve for 100 rounds\n",
      "[100]\ttraining's l1: 1.4673\tvalid_1's l1: 1.37682\n"
     ]
    },
    {
     "name": "stderr",
     "output_type": "stream",
     "text": [
      "\u001b[32m[I 2021-07-06 14:19:57,616]\u001b[0m Trial 56 finished with value: -1.3569338220428961 and parameters: {'max_depth': 5, 'min_child_weight': 18, 'subsample': 0.5, 'colsample_bytree': 0.6, 'reg_lambda': 0.003572758797702198, 'reg_alpha': 0.023379903911445975, 'feature_fraction': 0.9621998316742981, 'bagging_fraction': 0.99138261628403, 'bagging_freq': 9}. Best is trial 55 with value: -1.3567368068404055.\u001b[0m\n"
     ]
    },
    {
     "name": "stdout",
     "output_type": "stream",
     "text": [
      "Early stopping, best iteration is:\n",
      "[37]\ttraining's l1: 1.49792\tvalid_1's l1: 1.35693\n",
      "[LightGBM] [Warning] feature_fraction is set=0.9582360296106266, colsample_bytree=0.6 will be ignored. Current value: feature_fraction=0.9582360296106266\n",
      "[LightGBM] [Warning] bagging_fraction is set=0.9392850756823189, subsample=0.5 will be ignored. Current value: bagging_fraction=0.9392850756823189\n",
      "[LightGBM] [Warning] bagging_freq is set=10, subsample_freq=0 will be ignored. Current value: bagging_freq=10\n",
      "Training until validation scores don't improve for 100 rounds\n",
      "[100]\ttraining's l1: 1.46763\tvalid_1's l1: 1.38385\n"
     ]
    },
    {
     "name": "stderr",
     "output_type": "stream",
     "text": [
      "\u001b[32m[I 2021-07-06 14:20:04,260]\u001b[0m Trial 57 finished with value: -1.370931812604657 and parameters: {'max_depth': 8, 'min_child_weight': 20, 'subsample': 0.5, 'colsample_bytree': 0.6, 'reg_lambda': 0.003206581969585488, 'reg_alpha': 0.007923112681155321, 'feature_fraction': 0.9582360296106266, 'bagging_fraction': 0.9392850756823189, 'bagging_freq': 10}. Best is trial 55 with value: -1.3567368068404055.\u001b[0m\n"
     ]
    },
    {
     "name": "stdout",
     "output_type": "stream",
     "text": [
      "Early stopping, best iteration is:\n",
      "[32]\ttraining's l1: 1.51393\tvalid_1's l1: 1.37093\n",
      "[LightGBM] [Warning] feature_fraction is set=0.9353705925031334, colsample_bytree=0.6 will be ignored. Current value: feature_fraction=0.9353705925031334\n",
      "[LightGBM] [Warning] bagging_fraction is set=0.9810397934982952, subsample=0.5 will be ignored. Current value: bagging_fraction=0.9810397934982952\n",
      "[LightGBM] [Warning] bagging_freq is set=9, subsample_freq=0 will be ignored. Current value: bagging_freq=9\n",
      "Training until validation scores don't improve for 100 rounds\n",
      "[100]\ttraining's l1: 1.46681\tvalid_1's l1: 1.37575\n"
     ]
    },
    {
     "name": "stderr",
     "output_type": "stream",
     "text": [
      "\u001b[32m[I 2021-07-06 14:20:11,104]\u001b[0m Trial 58 finished with value: -1.359527534829399 and parameters: {'max_depth': 5, 'min_child_weight': 19, 'subsample': 0.5, 'colsample_bytree': 0.6, 'reg_lambda': 0.005112927579916169, 'reg_alpha': 0.030399873632971093, 'feature_fraction': 0.9353705925031334, 'bagging_fraction': 0.9810397934982952, 'bagging_freq': 9}. Best is trial 55 with value: -1.3567368068404055.\u001b[0m\n"
     ]
    },
    {
     "name": "stdout",
     "output_type": "stream",
     "text": [
      "Early stopping, best iteration is:\n",
      "[40]\ttraining's l1: 1.49351\tvalid_1's l1: 1.35953\n",
      "[LightGBM] [Warning] feature_fraction is set=0.9664571951989299, colsample_bytree=0.6 will be ignored. Current value: feature_fraction=0.9664571951989299\n",
      "[LightGBM] [Warning] bagging_fraction is set=0.9979462583206922, subsample=0.5 will be ignored. Current value: bagging_fraction=0.9979462583206922\n",
      "[LightGBM] [Warning] bagging_freq is set=9, subsample_freq=0 will be ignored. Current value: bagging_freq=9\n",
      "Training until validation scores don't improve for 100 rounds\n",
      "[100]\ttraining's l1: 1.4677\tvalid_1's l1: 1.38146\n"
     ]
    },
    {
     "name": "stderr",
     "output_type": "stream",
     "text": [
      "\u001b[32m[I 2021-07-06 14:20:18,359]\u001b[0m Trial 59 finished with value: -1.3655925355154548 and parameters: {'max_depth': 6, 'min_child_weight': 19, 'subsample': 0.5, 'colsample_bytree': 0.6, 'reg_lambda': 0.006976810443169115, 'reg_alpha': 0.03134020985788041, 'feature_fraction': 0.9664571951989299, 'bagging_fraction': 0.9979462583206922, 'bagging_freq': 9}. Best is trial 55 with value: -1.3567368068404055.\u001b[0m\n"
     ]
    },
    {
     "name": "stdout",
     "output_type": "stream",
     "text": [
      "Early stopping, best iteration is:\n",
      "[44]\ttraining's l1: 1.49536\tvalid_1's l1: 1.36559\n",
      "[LightGBM] [Warning] feature_fraction is set=0.9391830624429318, colsample_bytree=0.6 will be ignored. Current value: feature_fraction=0.9391830624429318\n",
      "[LightGBM] [Warning] bagging_fraction is set=0.9730450338966632, subsample=0.5 will be ignored. Current value: bagging_fraction=0.9730450338966632\n",
      "[LightGBM] [Warning] bagging_freq is set=9, subsample_freq=0 will be ignored. Current value: bagging_freq=9\n",
      "Training until validation scores don't improve for 100 rounds\n",
      "[100]\ttraining's l1: 1.46801\tvalid_1's l1: 1.37937\n"
     ]
    },
    {
     "name": "stderr",
     "output_type": "stream",
     "text": [
      "\u001b[32m[I 2021-07-06 14:20:25,411]\u001b[0m Trial 60 finished with value: -1.3677682273331802 and parameters: {'max_depth': 8, 'min_child_weight': 18, 'subsample': 0.5, 'colsample_bytree': 0.6, 'reg_lambda': 0.003989692110288002, 'reg_alpha': 0.05974009410304326, 'feature_fraction': 0.9391830624429318, 'bagging_fraction': 0.9730450338966632, 'bagging_freq': 9}. Best is trial 55 with value: -1.3567368068404055.\u001b[0m\n"
     ]
    },
    {
     "name": "stdout",
     "output_type": "stream",
     "text": [
      "Early stopping, best iteration is:\n",
      "[35]\ttraining's l1: 1.50978\tvalid_1's l1: 1.36777\n",
      "[LightGBM] [Warning] feature_fraction is set=0.9110341875315192, colsample_bytree=0.6 will be ignored. Current value: feature_fraction=0.9110341875315192\n",
      "[LightGBM] [Warning] bagging_fraction is set=0.9858224655076885, subsample=0.5 will be ignored. Current value: bagging_fraction=0.9858224655076885\n",
      "[LightGBM] [Warning] bagging_freq is set=9, subsample_freq=0 will be ignored. Current value: bagging_freq=9\n",
      "Training until validation scores don't improve for 100 rounds\n",
      "[100]\ttraining's l1: 1.46584\tvalid_1's l1: 1.3714\n"
     ]
    },
    {
     "name": "stderr",
     "output_type": "stream",
     "text": [
      "\u001b[32m[I 2021-07-06 14:20:32,033]\u001b[0m Trial 61 finished with value: -1.3618797899831776 and parameters: {'max_depth': 5, 'min_child_weight': 18, 'subsample': 0.5, 'colsample_bytree': 0.6, 'reg_lambda': 0.001670394080472444, 'reg_alpha': 0.00862657771235319, 'feature_fraction': 0.9110341875315192, 'bagging_fraction': 0.9858224655076885, 'bagging_freq': 9}. Best is trial 55 with value: -1.3567368068404055.\u001b[0m\n"
     ]
    },
    {
     "name": "stdout",
     "output_type": "stream",
     "text": [
      "Early stopping, best iteration is:\n",
      "[35]\ttraining's l1: 1.50134\tvalid_1's l1: 1.36188\n",
      "[LightGBM] [Warning] feature_fraction is set=0.9258589735852892, colsample_bytree=0.6 will be ignored. Current value: feature_fraction=0.9258589735852892\n",
      "[LightGBM] [Warning] bagging_fraction is set=0.9354220945688507, subsample=0.5 will be ignored. Current value: bagging_fraction=0.9354220945688507\n",
      "[LightGBM] [Warning] bagging_freq is set=10, subsample_freq=0 will be ignored. Current value: bagging_freq=10\n",
      "Training until validation scores don't improve for 100 rounds\n",
      "[100]\ttraining's l1: 1.46492\tvalid_1's l1: 1.37942\n"
     ]
    },
    {
     "name": "stderr",
     "output_type": "stream",
     "text": [
      "\u001b[32m[I 2021-07-06 14:20:38,892]\u001b[0m Trial 62 finished with value: -1.3678245751921596 and parameters: {'max_depth': 6, 'min_child_weight': 19, 'subsample': 0.5, 'colsample_bytree': 0.6, 'reg_lambda': 0.0011729795648514649, 'reg_alpha': 0.019816358621484793, 'feature_fraction': 0.9258589735852892, 'bagging_fraction': 0.9354220945688507, 'bagging_freq': 10}. Best is trial 55 with value: -1.3567368068404055.\u001b[0m\n"
     ]
    },
    {
     "name": "stdout",
     "output_type": "stream",
     "text": [
      "Early stopping, best iteration is:\n",
      "[40]\ttraining's l1: 1.4982\tvalid_1's l1: 1.36782\n",
      "[LightGBM] [Warning] feature_fraction is set=0.8346570097911906, colsample_bytree=0.5 will be ignored. Current value: feature_fraction=0.8346570097911906\n",
      "[LightGBM] [Warning] bagging_fraction is set=0.9557975495023883, subsample=0.5 will be ignored. Current value: bagging_fraction=0.9557975495023883\n",
      "[LightGBM] [Warning] bagging_freq is set=8, subsample_freq=0 will be ignored. Current value: bagging_freq=8\n",
      "Training until validation scores don't improve for 100 rounds\n",
      "[100]\ttraining's l1: 1.46318\tvalid_1's l1: 1.37703\n"
     ]
    },
    {
     "name": "stderr",
     "output_type": "stream",
     "text": [
      "\u001b[32m[I 2021-07-06 14:20:45,212]\u001b[0m Trial 63 finished with value: -1.364738831422321 and parameters: {'max_depth': 5, 'min_child_weight': 17, 'subsample': 0.5, 'colsample_bytree': 0.5, 'reg_lambda': 0.0022383636786769533, 'reg_alpha': 0.06104562874330053, 'feature_fraction': 0.8346570097911906, 'bagging_fraction': 0.9557975495023883, 'bagging_freq': 8}. Best is trial 55 with value: -1.3567368068404055.\u001b[0m\n"
     ]
    },
    {
     "name": "stdout",
     "output_type": "stream",
     "text": [
      "Early stopping, best iteration is:\n",
      "[27]\ttraining's l1: 1.52149\tvalid_1's l1: 1.36474\n",
      "[LightGBM] [Warning] feature_fraction is set=0.9776544782984475, colsample_bytree=0.6 will be ignored. Current value: feature_fraction=0.9776544782984475\n",
      "[LightGBM] [Warning] bagging_fraction is set=0.9962812688200431, subsample=0.5 will be ignored. Current value: bagging_fraction=0.9962812688200431\n",
      "[LightGBM] [Warning] bagging_freq is set=10, subsample_freq=0 will be ignored. Current value: bagging_freq=10\n",
      "Training until validation scores don't improve for 100 rounds\n",
      "[100]\ttraining's l1: 1.46639\tvalid_1's l1: 1.38183\n"
     ]
    },
    {
     "name": "stderr",
     "output_type": "stream",
     "text": [
      "\u001b[32m[I 2021-07-06 14:20:52,396]\u001b[0m Trial 64 finished with value: -1.3686635960097633 and parameters: {'max_depth': 7, 'min_child_weight': 20, 'subsample': 0.5, 'colsample_bytree': 0.6, 'reg_lambda': 0.0044651484866152745, 'reg_alpha': 0.03344955286846536, 'feature_fraction': 0.9776544782984475, 'bagging_fraction': 0.9962812688200431, 'bagging_freq': 10}. Best is trial 55 with value: -1.3567368068404055.\u001b[0m\n"
     ]
    },
    {
     "name": "stdout",
     "output_type": "stream",
     "text": [
      "Early stopping, best iteration is:\n",
      "[37]\ttraining's l1: 1.50663\tvalid_1's l1: 1.36866\n",
      "[LightGBM] [Warning] feature_fraction is set=0.9037997554836226, colsample_bytree=0.6 will be ignored. Current value: feature_fraction=0.9037997554836226\n",
      "[LightGBM] [Warning] bagging_fraction is set=0.9772982260942806, subsample=0.5 will be ignored. Current value: bagging_fraction=0.9772982260942806\n",
      "[LightGBM] [Warning] bagging_freq is set=8, subsample_freq=0 will be ignored. Current value: bagging_freq=8\n",
      "Training until validation scores don't improve for 100 rounds\n",
      "[100]\ttraining's l1: 1.48537\tvalid_1's l1: 1.36229\n",
      "[200]\ttraining's l1: 1.47267\tvalid_1's l1: 1.3705\n"
     ]
    },
    {
     "name": "stderr",
     "output_type": "stream",
     "text": [
      "\u001b[32m[I 2021-07-06 14:21:01,299]\u001b[0m Trial 65 finished with value: -1.3616332058548986 and parameters: {'max_depth': 4, 'min_child_weight': 18, 'subsample': 0.5, 'colsample_bytree': 0.6, 'reg_lambda': 0.010511279015860815, 'reg_alpha': 0.0035428330286734794, 'feature_fraction': 0.9037997554836226, 'bagging_fraction': 0.9772982260942806, 'bagging_freq': 8}. Best is trial 55 with value: -1.3567368068404055.\u001b[0m\n"
     ]
    },
    {
     "name": "stdout",
     "output_type": "stream",
     "text": [
      "Early stopping, best iteration is:\n",
      "[111]\ttraining's l1: 1.48325\tvalid_1's l1: 1.36164\n",
      "[LightGBM] [Warning] feature_fraction is set=0.9308315301077656, colsample_bytree=0.6 will be ignored. Current value: feature_fraction=0.9308315301077656\n",
      "[LightGBM] [Warning] bagging_fraction is set=0.9061619392038749, subsample=0.5 will be ignored. Current value: bagging_fraction=0.9061619392038749\n",
      "[LightGBM] [Warning] bagging_freq is set=9, subsample_freq=0 will be ignored. Current value: bagging_freq=9\n",
      "Training until validation scores don't improve for 100 rounds\n",
      "[100]\ttraining's l1: 1.46425\tvalid_1's l1: 1.377\n"
     ]
    },
    {
     "name": "stderr",
     "output_type": "stream",
     "text": [
      "\u001b[32m[I 2021-07-06 14:21:07,762]\u001b[0m Trial 66 finished with value: -1.3624539010544192 and parameters: {'max_depth': 5, 'min_child_weight': 19, 'subsample': 0.5, 'colsample_bytree': 0.6, 'reg_lambda': 0.0010083076042935117, 'reg_alpha': 0.014012474677181315, 'feature_fraction': 0.9308315301077656, 'bagging_fraction': 0.9061619392038749, 'bagging_freq': 9}. Best is trial 55 with value: -1.3567368068404055.\u001b[0m\n"
     ]
    },
    {
     "name": "stdout",
     "output_type": "stream",
     "text": [
      "Early stopping, best iteration is:\n",
      "[37]\ttraining's l1: 1.4956\tvalid_1's l1: 1.36245\n",
      "[LightGBM] [Warning] feature_fraction is set=0.8557053258980153, colsample_bytree=0.5 will be ignored. Current value: feature_fraction=0.8557053258980153\n",
      "[LightGBM] [Warning] bagging_fraction is set=0.9299548190678272, subsample=0.5 will be ignored. Current value: bagging_fraction=0.9299548190678272\n",
      "[LightGBM] [Warning] bagging_freq is set=8, subsample_freq=0 will be ignored. Current value: bagging_freq=8\n",
      "Training until validation scores don't improve for 100 rounds\n",
      "[100]\ttraining's l1: 1.48361\tvalid_1's l1: 1.36627\n"
     ]
    },
    {
     "name": "stderr",
     "output_type": "stream",
     "text": [
      "\u001b[32m[I 2021-07-06 14:21:15,152]\u001b[0m Trial 67 finished with value: -1.3637447961415634 and parameters: {'max_depth': 4, 'min_child_weight': 17, 'subsample': 0.5, 'colsample_bytree': 0.5, 'reg_lambda': 0.02223634274672881, 'reg_alpha': 0.10625978065976285, 'feature_fraction': 0.8557053258980153, 'bagging_fraction': 0.9299548190678272, 'bagging_freq': 8}. Best is trial 55 with value: -1.3567368068404055.\u001b[0m\n"
     ]
    },
    {
     "name": "stdout",
     "output_type": "stream",
     "text": [
      "Early stopping, best iteration is:\n",
      "[70]\ttraining's l1: 1.49472\tvalid_1's l1: 1.36375\n",
      "[LightGBM] [Warning] feature_fraction is set=0.8737935984464873, colsample_bytree=0.6 will be ignored. Current value: feature_fraction=0.8737935984464873\n",
      "[LightGBM] [Warning] bagging_fraction is set=0.8642894062118232, subsample=0.5 will be ignored. Current value: bagging_fraction=0.8642894062118232\n",
      "[LightGBM] [Warning] bagging_freq is set=10, subsample_freq=0 will be ignored. Current value: bagging_freq=10\n",
      "Training until validation scores don't improve for 100 rounds\n",
      "[100]\ttraining's l1: 1.46475\tvalid_1's l1: 1.37445\n"
     ]
    },
    {
     "name": "stderr",
     "output_type": "stream",
     "text": [
      "\u001b[32m[I 2021-07-06 14:21:21,300]\u001b[0m Trial 68 finished with value: -1.368267948047929 and parameters: {'max_depth': 6, 'min_child_weight': 20, 'subsample': 0.5, 'colsample_bytree': 0.6, 'reg_lambda': 0.006800056316187318, 'reg_alpha': 0.5052567047898598, 'feature_fraction': 0.8737935984464873, 'bagging_fraction': 0.8642894062118232, 'bagging_freq': 10}. Best is trial 55 with value: -1.3567368068404055.\u001b[0m\n"
     ]
    },
    {
     "name": "stdout",
     "output_type": "stream",
     "text": [
      "Early stopping, best iteration is:\n",
      "[27]\ttraining's l1: 1.52216\tvalid_1's l1: 1.36827\n",
      "[LightGBM] [Warning] feature_fraction is set=0.8113982688507033, colsample_bytree=0.6 will be ignored. Current value: feature_fraction=0.8113982688507033\n",
      "[LightGBM] [Warning] bagging_fraction is set=0.9591829160955939, subsample=0.5 will be ignored. Current value: bagging_fraction=0.9591829160955939\n",
      "[LightGBM] [Warning] bagging_freq is set=9, subsample_freq=0 will be ignored. Current value: bagging_freq=9\n",
      "Training until validation scores don't improve for 100 rounds\n",
      "[100]\ttraining's l1: 1.46647\tvalid_1's l1: 1.37575\n"
     ]
    },
    {
     "name": "stderr",
     "output_type": "stream",
     "text": [
      "\u001b[32m[I 2021-07-06 14:21:28,191]\u001b[0m Trial 69 finished with value: -1.3642325544196787 and parameters: {'max_depth': 7, 'min_child_weight': 18, 'subsample': 0.5, 'colsample_bytree': 0.6, 'reg_lambda': 0.0025447381963722027, 'reg_alpha': 0.0012905504804653545, 'feature_fraction': 0.8113982688507033, 'bagging_fraction': 0.9591829160955939, 'bagging_freq': 9}. Best is trial 55 with value: -1.3567368068404055.\u001b[0m\n"
     ]
    },
    {
     "name": "stdout",
     "output_type": "stream",
     "text": [
      "Early stopping, best iteration is:\n",
      "[35]\ttraining's l1: 1.50651\tvalid_1's l1: 1.36423\n",
      "[LightGBM] [Warning] feature_fraction is set=0.9548639825264332, colsample_bytree=0.6 will be ignored. Current value: feature_fraction=0.9548639825264332\n",
      "[LightGBM] [Warning] bagging_fraction is set=0.8321404249358267, subsample=0.5 will be ignored. Current value: bagging_fraction=0.8321404249358267\n",
      "[LightGBM] [Warning] bagging_freq is set=9, subsample_freq=0 will be ignored. Current value: bagging_freq=9\n",
      "Training until validation scores don't improve for 100 rounds\n",
      "[100]\ttraining's l1: 1.47026\tvalid_1's l1: 1.37733\n"
     ]
    },
    {
     "name": "stderr",
     "output_type": "stream",
     "text": [
      "\u001b[32m[I 2021-07-06 14:21:34,926]\u001b[0m Trial 70 finished with value: -1.3664787385960488 and parameters: {'max_depth': 9, 'min_child_weight': 16, 'subsample': 0.5, 'colsample_bytree': 0.6, 'reg_lambda': 0.005372867655705952, 'reg_alpha': 0.20767716782779802, 'feature_fraction': 0.9548639825264332, 'bagging_fraction': 0.8321404249358267, 'bagging_freq': 9}. Best is trial 55 with value: -1.3567368068404055.\u001b[0m\n"
     ]
    },
    {
     "name": "stdout",
     "output_type": "stream",
     "text": [
      "Early stopping, best iteration is:\n",
      "[43]\ttraining's l1: 1.49989\tvalid_1's l1: 1.36648\n",
      "[LightGBM] [Warning] feature_fraction is set=0.6232221829591037, colsample_bytree=0.7 will be ignored. Current value: feature_fraction=0.6232221829591037\n",
      "[LightGBM] [Warning] bagging_fraction is set=0.9287754136266737, subsample=0.9 will be ignored. Current value: bagging_fraction=0.9287754136266737\n",
      "[LightGBM] [Warning] bagging_freq is set=8, subsample_freq=0 will be ignored. Current value: bagging_freq=8\n",
      "Training until validation scores don't improve for 100 rounds\n",
      "[100]\ttraining's l1: 1.49488\tvalid_1's l1: 1.3683\n",
      "[200]\ttraining's l1: 1.48007\tvalid_1's l1: 1.37276\n"
     ]
    },
    {
     "name": "stderr",
     "output_type": "stream",
     "text": [
      "\u001b[32m[I 2021-07-06 14:21:45,873]\u001b[0m Trial 71 finished with value: -1.365523351894528 and parameters: {'max_depth': 4, 'min_child_weight': 17, 'subsample': 0.9, 'colsample_bytree': 0.7, 'reg_lambda': 0.0016015050674289552, 'reg_alpha': 0.01345135301518307, 'feature_fraction': 0.6232221829591037, 'bagging_fraction': 0.9287754136266737, 'bagging_freq': 8}. Best is trial 55 with value: -1.3567368068404055.\u001b[0m\n"
     ]
    },
    {
     "name": "stdout",
     "output_type": "stream",
     "text": [
      "Early stopping, best iteration is:\n",
      "[140]\ttraining's l1: 1.4865\tvalid_1's l1: 1.3656\n",
      "[LightGBM] [Warning] feature_fraction is set=0.6542499086077179, colsample_bytree=0.7 will be ignored. Current value: feature_fraction=0.6542499086077179\n",
      "[LightGBM] [Warning] bagging_fraction is set=0.900746019092037, subsample=0.6 will be ignored. Current value: bagging_fraction=0.900746019092037\n",
      "[LightGBM] [Warning] bagging_freq is set=9, subsample_freq=0 will be ignored. Current value: bagging_freq=9\n",
      "Training until validation scores don't improve for 100 rounds\n",
      "[100]\ttraining's l1: 1.46533\tvalid_1's l1: 1.37156\n"
     ]
    },
    {
     "name": "stderr",
     "output_type": "stream",
     "text": [
      "\u001b[32m[I 2021-07-06 14:21:52,496]\u001b[0m Trial 72 finished with value: -1.3642943912541399 and parameters: {'max_depth': 5, 'min_child_weight': 14, 'subsample': 0.6, 'colsample_bytree': 0.7, 'reg_lambda': 0.0032258872054598603, 'reg_alpha': 1.187741631045287, 'feature_fraction': 0.6542499086077179, 'bagging_fraction': 0.900746019092037, 'bagging_freq': 9}. Best is trial 55 with value: -1.3567368068404055.\u001b[0m\n"
     ]
    },
    {
     "name": "stdout",
     "output_type": "stream",
     "text": [
      "Early stopping, best iteration is:\n",
      "[32]\ttraining's l1: 1.51413\tvalid_1's l1: 1.36429\n",
      "[LightGBM] [Warning] feature_fraction is set=0.6904601387180567, colsample_bytree=0.6 will be ignored. Current value: feature_fraction=0.6904601387180567\n",
      "[LightGBM] [Warning] bagging_fraction is set=0.9533495431422546, subsample=0.5 will be ignored. Current value: bagging_fraction=0.9533495431422546\n",
      "[LightGBM] [Warning] bagging_freq is set=2, subsample_freq=0 will be ignored. Current value: bagging_freq=2\n",
      "Training until validation scores don't improve for 100 rounds\n",
      "[100]\ttraining's l1: 1.46268\tvalid_1's l1: 1.3767\n"
     ]
    },
    {
     "name": "stderr",
     "output_type": "stream",
     "text": [
      "\u001b[32m[I 2021-07-06 14:22:01,511]\u001b[0m Trial 73 finished with value: -1.3654498657453018 and parameters: {'max_depth': 6, 'min_child_weight': 18, 'subsample': 0.5, 'colsample_bytree': 0.6, 'reg_lambda': 0.0116308580690706, 'reg_alpha': 0.08529903820011074, 'feature_fraction': 0.6904601387180567, 'bagging_fraction': 0.9533495431422546, 'bagging_freq': 2}. Best is trial 55 with value: -1.3567368068404055.\u001b[0m\n"
     ]
    },
    {
     "name": "stdout",
     "output_type": "stream",
     "text": [
      "Early stopping, best iteration is:\n",
      "[34]\ttraining's l1: 1.50632\tvalid_1's l1: 1.36545\n",
      "[LightGBM] [Warning] feature_fraction is set=0.5984846444461512, colsample_bytree=0.7 will be ignored. Current value: feature_fraction=0.5984846444461512\n",
      "[LightGBM] [Warning] bagging_fraction is set=0.9161473492684553, subsample=0.6 will be ignored. Current value: bagging_fraction=0.9161473492684553\n",
      "[LightGBM] [Warning] bagging_freq is set=7, subsample_freq=0 will be ignored. Current value: bagging_freq=7\n",
      "Training until validation scores don't improve for 100 rounds\n",
      "[100]\ttraining's l1: 1.4667\tvalid_1's l1: 1.37745\n"
     ]
    },
    {
     "name": "stderr",
     "output_type": "stream",
     "text": [
      "\u001b[32m[I 2021-07-06 14:22:09,984]\u001b[0m Trial 74 finished with value: -1.3689273648301319 and parameters: {'max_depth': 19, 'min_child_weight': 16, 'subsample': 0.6, 'colsample_bytree': 0.7, 'reg_lambda': 0.01730759407339172, 'reg_alpha': 0.004442499039081199, 'feature_fraction': 0.5984846444461512, 'bagging_fraction': 0.9161473492684553, 'bagging_freq': 7}. Best is trial 55 with value: -1.3567368068404055.\u001b[0m\n"
     ]
    },
    {
     "name": "stdout",
     "output_type": "stream",
     "text": [
      "Early stopping, best iteration is:\n",
      "[45]\ttraining's l1: 1.50749\tvalid_1's l1: 1.36893\n",
      "[LightGBM] [Warning] feature_fraction is set=0.9171643213473918, colsample_bytree=0.6 will be ignored. Current value: feature_fraction=0.9171643213473918\n",
      "[LightGBM] [Warning] bagging_fraction is set=0.9939356715509623, subsample=0.6 will be ignored. Current value: bagging_fraction=0.9939356715509623\n",
      "[LightGBM] [Warning] bagging_freq is set=10, subsample_freq=0 will be ignored. Current value: bagging_freq=10\n",
      "Training until validation scores don't improve for 100 rounds\n",
      "[100]\ttraining's l1: 1.46759\tvalid_1's l1: 1.37589\n"
     ]
    },
    {
     "name": "stderr",
     "output_type": "stream",
     "text": [
      "\u001b[32m[I 2021-07-06 14:22:16,704]\u001b[0m Trial 75 finished with value: -1.3584872015777956 and parameters: {'max_depth': 5, 'min_child_weight': 17, 'subsample': 0.6, 'colsample_bytree': 0.6, 'reg_lambda': 0.0010538941205542214, 'reg_alpha': 1.5642184958198055, 'feature_fraction': 0.9171643213473918, 'bagging_fraction': 0.9939356715509623, 'bagging_freq': 10}. Best is trial 55 with value: -1.3567368068404055.\u001b[0m\n"
     ]
    },
    {
     "name": "stdout",
     "output_type": "stream",
     "text": [
      "Early stopping, best iteration is:\n",
      "[34]\ttraining's l1: 1.50204\tvalid_1's l1: 1.35849\n",
      "[LightGBM] [Warning] feature_fraction is set=0.9177695870000205, colsample_bytree=0.6 will be ignored. Current value: feature_fraction=0.9177695870000205\n",
      "[LightGBM] [Warning] bagging_fraction is set=0.9968534963746369, subsample=0.6 will be ignored. Current value: bagging_fraction=0.9968534963746369\n",
      "[LightGBM] [Warning] bagging_freq is set=10, subsample_freq=0 will be ignored. Current value: bagging_freq=10\n",
      "Training until validation scores don't improve for 100 rounds\n",
      "[100]\ttraining's l1: 1.46886\tvalid_1's l1: 1.3713\n"
     ]
    },
    {
     "name": "stderr",
     "output_type": "stream",
     "text": [
      "\u001b[32m[I 2021-07-06 14:22:23,455]\u001b[0m Trial 76 finished with value: -1.357750579436193 and parameters: {'max_depth': 5, 'min_child_weight': 19, 'subsample': 0.6, 'colsample_bytree': 0.6, 'reg_lambda': 0.0013741422974307951, 'reg_alpha': 0.04165022750046901, 'feature_fraction': 0.9177695870000205, 'bagging_fraction': 0.9968534963746369, 'bagging_freq': 10}. Best is trial 55 with value: -1.3567368068404055.\u001b[0m\n"
     ]
    },
    {
     "name": "stdout",
     "output_type": "stream",
     "text": [
      "Early stopping, best iteration is:\n",
      "[39]\ttraining's l1: 1.49209\tvalid_1's l1: 1.35775\n",
      "[LightGBM] [Warning] feature_fraction is set=0.9881500625184743, colsample_bytree=0.6 will be ignored. Current value: feature_fraction=0.9881500625184743\n",
      "[LightGBM] [Warning] bagging_fraction is set=0.9802206173263789, subsample=0.6 will be ignored. Current value: bagging_fraction=0.9802206173263789\n",
      "[LightGBM] [Warning] bagging_freq is set=10, subsample_freq=0 will be ignored. Current value: bagging_freq=10\n",
      "Training until validation scores don't improve for 100 rounds\n",
      "[100]\ttraining's l1: 1.46926\tvalid_1's l1: 1.37263\n"
     ]
    },
    {
     "name": "stderr",
     "output_type": "stream",
     "text": [
      "\u001b[32m[I 2021-07-06 14:22:30,045]\u001b[0m Trial 77 finished with value: -1.3616224973103337 and parameters: {'max_depth': 5, 'min_child_weight': 19, 'subsample': 0.6, 'colsample_bytree': 0.6, 'reg_lambda': 0.0011958961733435226, 'reg_alpha': 0.0236922196657849, 'feature_fraction': 0.9881500625184743, 'bagging_fraction': 0.9802206173263789, 'bagging_freq': 10}. Best is trial 55 with value: -1.3567368068404055.\u001b[0m\n"
     ]
    },
    {
     "name": "stdout",
     "output_type": "stream",
     "text": [
      "Early stopping, best iteration is:\n",
      "[35]\ttraining's l1: 1.50097\tvalid_1's l1: 1.36162\n",
      "[LightGBM] [Warning] feature_fraction is set=0.9217714511073295, colsample_bytree=0.6 will be ignored. Current value: feature_fraction=0.9217714511073295\n",
      "[LightGBM] [Warning] bagging_fraction is set=0.9911773572114285, subsample=0.6 will be ignored. Current value: bagging_fraction=0.9911773572114285\n",
      "[LightGBM] [Warning] bagging_freq is set=10, subsample_freq=0 will be ignored. Current value: bagging_freq=10\n",
      "Training until validation scores don't improve for 100 rounds\n",
      "[100]\ttraining's l1: 1.46819\tvalid_1's l1: 1.37871\n"
     ]
    },
    {
     "name": "stderr",
     "output_type": "stream",
     "text": [
      "\u001b[32m[I 2021-07-06 14:22:37,023]\u001b[0m Trial 78 finished with value: -1.3698778446450615 and parameters: {'max_depth': 7, 'min_child_weight': 20, 'subsample': 0.6, 'colsample_bytree': 0.6, 'reg_lambda': 0.0032457302574877187, 'reg_alpha': 0.04102383426630035, 'feature_fraction': 0.9217714511073295, 'bagging_fraction': 0.9911773572114285, 'bagging_freq': 10}. Best is trial 55 with value: -1.3567368068404055.\u001b[0m\n"
     ]
    },
    {
     "name": "stdout",
     "output_type": "stream",
     "text": [
      "Early stopping, best iteration is:\n",
      "[33]\ttraining's l1: 1.51306\tvalid_1's l1: 1.36988\n",
      "[LightGBM] [Warning] feature_fraction is set=0.9677062822740293, colsample_bytree=0.6 will be ignored. Current value: feature_fraction=0.9677062822740293\n",
      "[LightGBM] [Warning] bagging_fraction is set=0.9987844331569474, subsample=0.5 will be ignored. Current value: bagging_fraction=0.9987844331569474\n",
      "[LightGBM] [Warning] bagging_freq is set=10, subsample_freq=0 will be ignored. Current value: bagging_freq=10\n",
      "Training until validation scores don't improve for 100 rounds\n",
      "[100]\ttraining's l1: 1.46512\tvalid_1's l1: 1.37515\n"
     ]
    },
    {
     "name": "stderr",
     "output_type": "stream",
     "text": [
      "\u001b[32m[I 2021-07-06 14:22:44,138]\u001b[0m Trial 79 finished with value: -1.365040375935413 and parameters: {'max_depth': 6, 'min_child_weight': 19, 'subsample': 0.5, 'colsample_bytree': 0.6, 'reg_lambda': 0.008560565177210986, 'reg_alpha': 0.17592552042263082, 'feature_fraction': 0.9677062822740293, 'bagging_fraction': 0.9987844331569474, 'bagging_freq': 10}. Best is trial 55 with value: -1.3567368068404055.\u001b[0m\n"
     ]
    },
    {
     "name": "stdout",
     "output_type": "stream",
     "text": [
      "Early stopping, best iteration is:\n",
      "[39]\ttraining's l1: 1.50156\tvalid_1's l1: 1.36504\n",
      "[LightGBM] [Warning] feature_fraction is set=0.9409850857964882, colsample_bytree=0.6 will be ignored. Current value: feature_fraction=0.9409850857964882\n",
      "[LightGBM] [Warning] bagging_fraction is set=0.9421138807336124, subsample=0.6 will be ignored. Current value: bagging_fraction=0.9421138807336124\n",
      "[LightGBM] [Warning] bagging_freq is set=9, subsample_freq=0 will be ignored. Current value: bagging_freq=9\n",
      "Training until validation scores don't improve for 100 rounds\n",
      "[100]\ttraining's l1: 1.46955\tvalid_1's l1: 1.37675\n"
     ]
    },
    {
     "name": "stderr",
     "output_type": "stream",
     "text": [
      "\u001b[32m[I 2021-07-06 14:22:51,543]\u001b[0m Trial 80 finished with value: -1.3673510819748258 and parameters: {'max_depth': 8, 'min_child_weight': 17, 'subsample': 0.6, 'colsample_bytree': 0.6, 'reg_lambda': 0.005326447812900876, 'reg_alpha': 0.018565098184352823, 'feature_fraction': 0.9409850857964882, 'bagging_fraction': 0.9421138807336124, 'bagging_freq': 9}. Best is trial 55 with value: -1.3567368068404055.\u001b[0m\n"
     ]
    },
    {
     "name": "stdout",
     "output_type": "stream",
     "text": [
      "Early stopping, best iteration is:\n",
      "[46]\ttraining's l1: 1.49496\tvalid_1's l1: 1.36735\n",
      "[LightGBM] [Warning] feature_fraction is set=0.8884950265476164, colsample_bytree=0.6 will be ignored. Current value: feature_fraction=0.8884950265476164\n",
      "[LightGBM] [Warning] bagging_fraction is set=0.9664533731934157, subsample=0.6 will be ignored. Current value: bagging_fraction=0.9664533731934157\n",
      "[LightGBM] [Warning] bagging_freq is set=10, subsample_freq=0 will be ignored. Current value: bagging_freq=10\n",
      "Training until validation scores don't improve for 100 rounds\n",
      "[100]\ttraining's l1: 1.52049\tvalid_1's l1: 1.37027\n",
      "[200]\ttraining's l1: 1.50052\tvalid_1's l1: 1.36326\n",
      "[300]\ttraining's l1: 1.49304\tvalid_1's l1: 1.36145\n",
      "[400]\ttraining's l1: 1.48856\tvalid_1's l1: 1.35996\n",
      "[500]\ttraining's l1: 1.48636\tvalid_1's l1: 1.36005\n"
     ]
    },
    {
     "name": "stderr",
     "output_type": "stream",
     "text": [
      "\u001b[32m[I 2021-07-06 14:23:09,177]\u001b[0m Trial 81 finished with value: -1.3596469974388234 and parameters: {'max_depth': 3, 'min_child_weight': 18, 'subsample': 0.6, 'colsample_bytree': 0.6, 'reg_lambda': 0.0019379861427689315, 'reg_alpha': 8.261874415938749, 'feature_fraction': 0.8884950265476164, 'bagging_fraction': 0.9664533731934157, 'bagging_freq': 10}. Best is trial 55 with value: -1.3567368068404055.\u001b[0m\n"
     ]
    },
    {
     "name": "stdout",
     "output_type": "stream",
     "text": [
      "Early stopping, best iteration is:\n",
      "[414]\ttraining's l1: 1.48828\tvalid_1's l1: 1.35972\n",
      "[LightGBM] [Warning] feature_fraction is set=0.9106220273563741, colsample_bytree=0.6 will be ignored. Current value: feature_fraction=0.9106220273563741\n",
      "[LightGBM] [Warning] bagging_fraction is set=0.9669334972840503, subsample=0.6 will be ignored. Current value: bagging_fraction=0.9669334972840503\n",
      "[LightGBM] [Warning] bagging_freq is set=10, subsample_freq=0 will be ignored. Current value: bagging_freq=10\n",
      "Training until validation scores don't improve for 100 rounds\n",
      "[100]\ttraining's l1: 1.48843\tvalid_1's l1: 1.36176\n"
     ]
    },
    {
     "name": "stderr",
     "output_type": "stream",
     "text": [
      "\u001b[32m[I 2021-07-06 14:23:17,169]\u001b[0m Trial 82 finished with value: -1.3613956774720382 and parameters: {'max_depth': 4, 'min_child_weight': 18, 'subsample': 0.6, 'colsample_bytree': 0.6, 'reg_lambda': 0.0015433520708515859, 'reg_alpha': 1.589114141450801, 'feature_fraction': 0.9106220273563741, 'bagging_fraction': 0.9669334972840503, 'bagging_freq': 10}. Best is trial 55 with value: -1.3567368068404055.\u001b[0m\n"
     ]
    },
    {
     "name": "stdout",
     "output_type": "stream",
     "text": [
      "Early stopping, best iteration is:\n",
      "[89]\ttraining's l1: 1.49064\tvalid_1's l1: 1.3614\n",
      "[LightGBM] [Warning] feature_fraction is set=0.9466881194847186, colsample_bytree=0.6 will be ignored. Current value: feature_fraction=0.9466881194847186\n",
      "[LightGBM] [Warning] bagging_fraction is set=0.9673186091679313, subsample=0.6 will be ignored. Current value: bagging_fraction=0.9673186091679313\n",
      "[LightGBM] [Warning] bagging_freq is set=10, subsample_freq=0 will be ignored. Current value: bagging_freq=10\n",
      "Training until validation scores don't improve for 100 rounds\n",
      "[100]\ttraining's l1: 1.46798\tvalid_1's l1: 1.37602\n"
     ]
    },
    {
     "name": "stderr",
     "output_type": "stream",
     "text": [
      "\u001b[32m[I 2021-07-06 14:23:23,992]\u001b[0m Trial 83 finished with value: -1.359408570203858 and parameters: {'max_depth': 5, 'min_child_weight': 17, 'subsample': 0.6, 'colsample_bytree': 0.6, 'reg_lambda': 0.0035111777105515597, 'reg_alpha': 0.7283182738363373, 'feature_fraction': 0.9466881194847186, 'bagging_fraction': 0.9673186091679313, 'bagging_freq': 10}. Best is trial 55 with value: -1.3567368068404055.\u001b[0m\n"
     ]
    },
    {
     "name": "stdout",
     "output_type": "stream",
     "text": [
      "Early stopping, best iteration is:\n",
      "[41]\ttraining's l1: 1.49037\tvalid_1's l1: 1.35941\n",
      "[LightGBM] [Warning] feature_fraction is set=0.9460461684672213, colsample_bytree=0.6 will be ignored. Current value: feature_fraction=0.9460461684672213\n",
      "[LightGBM] [Warning] bagging_fraction is set=0.9522761932498978, subsample=0.6 will be ignored. Current value: bagging_fraction=0.9522761932498978\n",
      "[LightGBM] [Warning] bagging_freq is set=9, subsample_freq=0 will be ignored. Current value: bagging_freq=9\n",
      "Training until validation scores don't improve for 100 rounds\n",
      "[100]\ttraining's l1: 1.46696\tvalid_1's l1: 1.37004\n"
     ]
    },
    {
     "name": "stderr",
     "output_type": "stream",
     "text": [
      "\u001b[32m[I 2021-07-06 14:23:30,731]\u001b[0m Trial 84 finished with value: -1.3614435208882347 and parameters: {'max_depth': 5, 'min_child_weight': 17, 'subsample': 0.6, 'colsample_bytree': 0.6, 'reg_lambda': 0.003595112579356609, 'reg_alpha': 0.27752004643022404, 'feature_fraction': 0.9460461684672213, 'bagging_fraction': 0.9522761932498978, 'bagging_freq': 9}. Best is trial 55 with value: -1.3567368068404055.\u001b[0m\n"
     ]
    },
    {
     "name": "stdout",
     "output_type": "stream",
     "text": [
      "Early stopping, best iteration is:\n",
      "[37]\ttraining's l1: 1.49819\tvalid_1's l1: 1.36144\n",
      "[LightGBM] [Warning] feature_fraction is set=0.9991342603562102, colsample_bytree=0.6 will be ignored. Current value: feature_fraction=0.9991342603562102\n",
      "[LightGBM] [Warning] bagging_fraction is set=0.9981875981905525, subsample=0.5 will be ignored. Current value: bagging_fraction=0.9981875981905525\n",
      "[LightGBM] [Warning] bagging_freq is set=10, subsample_freq=0 will be ignored. Current value: bagging_freq=10\n",
      "Training until validation scores don't improve for 100 rounds\n",
      "[100]\ttraining's l1: 1.48937\tvalid_1's l1: 1.36555\n"
     ]
    },
    {
     "name": "stderr",
     "output_type": "stream",
     "text": [
      "\u001b[32m[I 2021-07-06 14:23:38,625]\u001b[0m Trial 85 finished with value: -1.3646630043382937 and parameters: {'max_depth': 4, 'min_child_weight': 19, 'subsample': 0.5, 'colsample_bytree': 0.6, 'reg_lambda': 0.06147587639701257, 'reg_alpha': 0.7020174662547446, 'feature_fraction': 0.9991342603562102, 'bagging_fraction': 0.9981875981905525, 'bagging_freq': 10}. Best is trial 55 with value: -1.3567368068404055.\u001b[0m\n"
     ]
    },
    {
     "name": "stdout",
     "output_type": "stream",
     "text": [
      "Early stopping, best iteration is:\n",
      "[85]\ttraining's l1: 1.496\tvalid_1's l1: 1.36466\n",
      "[LightGBM] [Warning] feature_fraction is set=0.9261045482590046, colsample_bytree=0.6 will be ignored. Current value: feature_fraction=0.9261045482590046\n",
      "[LightGBM] [Warning] bagging_fraction is set=0.9798938860324937, subsample=0.6 will be ignored. Current value: bagging_fraction=0.9798938860324937\n",
      "[LightGBM] [Warning] bagging_freq is set=9, subsample_freq=0 will be ignored. Current value: bagging_freq=9\n",
      "Training until validation scores don't improve for 100 rounds\n",
      "[100]\ttraining's l1: 1.46273\tvalid_1's l1: 1.37572\n"
     ]
    },
    {
     "name": "stderr",
     "output_type": "stream",
     "text": [
      "\u001b[32m[I 2021-07-06 14:23:45,971]\u001b[0m Trial 86 finished with value: -1.3664200596199623 and parameters: {'max_depth': 6, 'min_child_weight': 17, 'subsample': 0.6, 'colsample_bytree': 0.6, 'reg_lambda': 0.0055660292823424655, 'reg_alpha': 0.11852917839622212, 'feature_fraction': 0.9261045482590046, 'bagging_fraction': 0.9798938860324937, 'bagging_freq': 9}. Best is trial 55 with value: -1.3567368068404055.\u001b[0m\n"
     ]
    },
    {
     "name": "stdout",
     "output_type": "stream",
     "text": [
      "Early stopping, best iteration is:\n",
      "[45]\ttraining's l1: 1.49318\tvalid_1's l1: 1.36642\n",
      "[LightGBM] [Warning] feature_fraction is set=0.973733536766632, colsample_bytree=0.6 will be ignored. Current value: feature_fraction=0.973733536766632\n",
      "[LightGBM] [Warning] bagging_fraction is set=0.9271351486499622, subsample=0.5 will be ignored. Current value: bagging_fraction=0.9271351486499622\n",
      "[LightGBM] [Warning] bagging_freq is set=9, subsample_freq=0 will be ignored. Current value: bagging_freq=9\n",
      "Training until validation scores don't improve for 100 rounds\n",
      "[100]\ttraining's l1: 1.46792\tvalid_1's l1: 1.37867\n"
     ]
    },
    {
     "name": "stderr",
     "output_type": "stream",
     "text": [
      "\u001b[32m[I 2021-07-06 14:23:52,387]\u001b[0m Trial 87 finished with value: -1.358660501703846 and parameters: {'max_depth': 5, 'min_child_weight': 19, 'subsample': 0.5, 'colsample_bytree': 0.6, 'reg_lambda': 0.00105601712405162, 'reg_alpha': 0.5086948447605247, 'feature_fraction': 0.973733536766632, 'bagging_fraction': 0.9271351486499622, 'bagging_freq': 9}. Best is trial 55 with value: -1.3567368068404055.\u001b[0m\n"
     ]
    },
    {
     "name": "stdout",
     "output_type": "stream",
     "text": [
      "Early stopping, best iteration is:\n",
      "[35]\ttraining's l1: 1.49979\tvalid_1's l1: 1.35866\n",
      "[LightGBM] [Warning] feature_fraction is set=0.9750588685214789, colsample_bytree=0.6 will be ignored. Current value: feature_fraction=0.9750588685214789\n",
      "[LightGBM] [Warning] bagging_fraction is set=0.9185760588786321, subsample=0.6 will be ignored. Current value: bagging_fraction=0.9185760588786321\n",
      "[LightGBM] [Warning] bagging_freq is set=10, subsample_freq=0 will be ignored. Current value: bagging_freq=10\n",
      "Training until validation scores don't improve for 100 rounds\n",
      "[100]\ttraining's l1: 1.46825\tvalid_1's l1: 1.38145\n"
     ]
    },
    {
     "name": "stderr",
     "output_type": "stream",
     "text": [
      "\u001b[32m[I 2021-07-06 14:23:59,278]\u001b[0m Trial 88 finished with value: -1.3710562634324173 and parameters: {'max_depth': 7, 'min_child_weight': 5, 'subsample': 0.6, 'colsample_bytree': 0.6, 'reg_lambda': 0.0010745997149255347, 'reg_alpha': 0.5567201129895146, 'feature_fraction': 0.9750588685214789, 'bagging_fraction': 0.9185760588786321, 'bagging_freq': 10}. Best is trial 55 with value: -1.3567368068404055.\u001b[0m\n"
     ]
    },
    {
     "name": "stdout",
     "output_type": "stream",
     "text": [
      "Early stopping, best iteration is:\n",
      "[37]\ttraining's l1: 1.50825\tvalid_1's l1: 1.37106\n",
      "[LightGBM] [Warning] feature_fraction is set=0.8714501789937837, colsample_bytree=0.6 will be ignored. Current value: feature_fraction=0.8714501789937837\n",
      "[LightGBM] [Warning] bagging_fraction is set=0.863257648806635, subsample=0.6 will be ignored. Current value: bagging_fraction=0.863257648806635\n",
      "[LightGBM] [Warning] bagging_freq is set=8, subsample_freq=0 will be ignored. Current value: bagging_freq=8\n",
      "Training until validation scores don't improve for 100 rounds\n",
      "[100]\ttraining's l1: 1.51724\tvalid_1's l1: 1.36978\n",
      "[200]\ttraining's l1: 1.49795\tvalid_1's l1: 1.36271\n",
      "[300]\ttraining's l1: 1.49175\tvalid_1's l1: 1.36093\n",
      "[400]\ttraining's l1: 1.48683\tvalid_1's l1: 1.36163\n"
     ]
    },
    {
     "name": "stderr",
     "output_type": "stream",
     "text": [
      "\u001b[32m[I 2021-07-06 14:24:13,830]\u001b[0m Trial 89 finished with value: -1.3607835259087377 and parameters: {'max_depth': 3, 'min_child_weight': 20, 'subsample': 0.6, 'colsample_bytree': 0.6, 'reg_lambda': 0.0026268684253219297, 'reg_alpha': 1.0081620851717221, 'feature_fraction': 0.8714501789937837, 'bagging_fraction': 0.863257648806635, 'bagging_freq': 8}. Best is trial 55 with value: -1.3567368068404055.\u001b[0m\n"
     ]
    },
    {
     "name": "stdout",
     "output_type": "stream",
     "text": [
      "Early stopping, best iteration is:\n",
      "[335]\ttraining's l1: 1.49034\tvalid_1's l1: 1.3608\n",
      "[LightGBM] [Warning] feature_fraction is set=0.954169968602589, colsample_bytree=0.6 will be ignored. Current value: feature_fraction=0.954169968602589\n",
      "[LightGBM] [Warning] bagging_fraction is set=0.9381721450534344, subsample=0.5 will be ignored. Current value: bagging_fraction=0.9381721450534344\n",
      "[LightGBM] [Warning] bagging_freq is set=8, subsample_freq=0 will be ignored. Current value: bagging_freq=8\n",
      "Training until validation scores don't improve for 100 rounds\n",
      "[100]\ttraining's l1: 1.58864\tvalid_1's l1: 1.4034\n",
      "[200]\ttraining's l1: 1.5556\tvalid_1's l1: 1.38444\n",
      "[300]\ttraining's l1: 1.53953\tvalid_1's l1: 1.37676\n",
      "[400]\ttraining's l1: 1.53028\tvalid_1's l1: 1.37326\n",
      "[500]\ttraining's l1: 1.52837\tvalid_1's l1: 1.37271\n",
      "[600]\ttraining's l1: 1.52604\tvalid_1's l1: 1.37266\n"
     ]
    },
    {
     "name": "stderr",
     "output_type": "stream",
     "text": [
      "\u001b[32m[I 2021-07-06 14:24:34,906]\u001b[0m Trial 90 finished with value: -1.3720494359385367 and parameters: {'max_depth': 2, 'min_child_weight': 16, 'subsample': 0.5, 'colsample_bytree': 0.6, 'reg_lambda': 0.0010316922782842752, 'reg_alpha': 5.145950818681838, 'feature_fraction': 0.954169968602589, 'bagging_fraction': 0.9381721450534344, 'bagging_freq': 8}. Best is trial 55 with value: -1.3567368068404055.\u001b[0m\n"
     ]
    },
    {
     "name": "stdout",
     "output_type": "stream",
     "text": [
      "Early stopping, best iteration is:\n",
      "[551]\ttraining's l1: 1.52754\tvalid_1's l1: 1.37208\n",
      "[LightGBM] [Warning] feature_fraction is set=0.9025311321508384, colsample_bytree=0.6 will be ignored. Current value: feature_fraction=0.9025311321508384\n",
      "[LightGBM] [Warning] bagging_fraction is set=0.9604679893974786, subsample=0.5 will be ignored. Current value: bagging_fraction=0.9604679893974786\n",
      "[LightGBM] [Warning] bagging_freq is set=9, subsample_freq=0 will be ignored. Current value: bagging_freq=9\n",
      "Training until validation scores don't improve for 100 rounds\n",
      "[100]\ttraining's l1: 1.46569\tvalid_1's l1: 1.37728\n"
     ]
    },
    {
     "name": "stderr",
     "output_type": "stream",
     "text": [
      "\u001b[32m[I 2021-07-06 14:24:41,584]\u001b[0m Trial 91 finished with value: -1.358826216953955 and parameters: {'max_depth': 5, 'min_child_weight': 19, 'subsample': 0.5, 'colsample_bytree': 0.6, 'reg_lambda': 0.009440683697966502, 'reg_alpha': 0.2963585712280947, 'feature_fraction': 0.9025311321508384, 'bagging_fraction': 0.9604679893974786, 'bagging_freq': 9}. Best is trial 55 with value: -1.3567368068404055.\u001b[0m\n"
     ]
    },
    {
     "name": "stdout",
     "output_type": "stream",
     "text": [
      "Early stopping, best iteration is:\n",
      "[36]\ttraining's l1: 1.49843\tvalid_1's l1: 1.35883\n",
      "[LightGBM] [Warning] feature_fraction is set=0.8984365066924196, colsample_bytree=0.6 will be ignored. Current value: feature_fraction=0.8984365066924196\n",
      "[LightGBM] [Warning] bagging_fraction is set=0.9225450772774881, subsample=0.5 will be ignored. Current value: bagging_fraction=0.9225450772774881\n",
      "[LightGBM] [Warning] bagging_freq is set=9, subsample_freq=0 will be ignored. Current value: bagging_freq=9\n",
      "Training until validation scores don't improve for 100 rounds\n",
      "[100]\ttraining's l1: 1.48606\tvalid_1's l1: 1.36634\n"
     ]
    },
    {
     "name": "stderr",
     "output_type": "stream",
     "text": [
      "\u001b[32m[I 2021-07-06 14:24:48,988]\u001b[0m Trial 92 finished with value: -1.3611147977620321 and parameters: {'max_depth': 4, 'min_child_weight': 18, 'subsample': 0.5, 'colsample_bytree': 0.6, 'reg_lambda': 0.01150178269796732, 'reg_alpha': 0.3321093398199886, 'feature_fraction': 0.8984365066924196, 'bagging_fraction': 0.9225450772774881, 'bagging_freq': 9}. Best is trial 55 with value: -1.3567368068404055.\u001b[0m\n"
     ]
    },
    {
     "name": "stdout",
     "output_type": "stream",
     "text": [
      "Early stopping, best iteration is:\n",
      "[77]\ttraining's l1: 1.49453\tvalid_1's l1: 1.36112\n",
      "[LightGBM] [Warning] feature_fraction is set=0.844423872088931, colsample_bytree=0.6 will be ignored. Current value: feature_fraction=0.844423872088931\n",
      "[LightGBM] [Warning] bagging_fraction is set=0.9585682294333118, subsample=0.5 will be ignored. Current value: bagging_fraction=0.9585682294333118\n",
      "[LightGBM] [Warning] bagging_freq is set=10, subsample_freq=0 will be ignored. Current value: bagging_freq=10\n",
      "Training until validation scores don't improve for 100 rounds\n",
      "[100]\ttraining's l1: 1.46551\tvalid_1's l1: 1.3731\n"
     ]
    },
    {
     "name": "stderr",
     "output_type": "stream",
     "text": [
      "\u001b[32m[I 2021-07-06 14:24:55,610]\u001b[0m Trial 93 finished with value: -1.3575996339505265 and parameters: {'max_depth': 5, 'min_child_weight': 17, 'subsample': 0.5, 'colsample_bytree': 0.6, 'reg_lambda': 0.002638936398245966, 'reg_alpha': 1.9986283095452424, 'feature_fraction': 0.844423872088931, 'bagging_fraction': 0.9585682294333118, 'bagging_freq': 10}. Best is trial 55 with value: -1.3567368068404055.\u001b[0m\n"
     ]
    },
    {
     "name": "stdout",
     "output_type": "stream",
     "text": [
      "Early stopping, best iteration is:\n",
      "[38]\ttraining's l1: 1.49816\tvalid_1's l1: 1.3576\n",
      "[LightGBM] [Warning] feature_fraction is set=0.7548322740556883, colsample_bytree=0.6 will be ignored. Current value: feature_fraction=0.7548322740556883\n",
      "[LightGBM] [Warning] bagging_fraction is set=0.9478751375365875, subsample=0.5 will be ignored. Current value: bagging_fraction=0.9478751375365875\n",
      "[LightGBM] [Warning] bagging_freq is set=9, subsample_freq=0 will be ignored. Current value: bagging_freq=9\n",
      "Training until validation scores don't improve for 100 rounds\n",
      "[100]\ttraining's l1: 1.46723\tvalid_1's l1: 1.37677\n"
     ]
    },
    {
     "name": "stderr",
     "output_type": "stream",
     "text": [
      "\u001b[32m[I 2021-07-06 14:25:02,019]\u001b[0m Trial 94 finished with value: -1.3658917351111923 and parameters: {'max_depth': 5, 'min_child_weight': 18, 'subsample': 0.5, 'colsample_bytree': 0.6, 'reg_lambda': 0.030471010155774466, 'reg_alpha': 1.7247933755700753, 'feature_fraction': 0.7548322740556883, 'bagging_fraction': 0.9478751375365875, 'bagging_freq': 9}. Best is trial 55 with value: -1.3567368068404055.\u001b[0m\n"
     ]
    },
    {
     "name": "stdout",
     "output_type": "stream",
     "text": [
      "Early stopping, best iteration is:\n",
      "[32]\ttraining's l1: 1.51257\tvalid_1's l1: 1.36589\n",
      "[LightGBM] [Warning] feature_fraction is set=0.8509274598133181, colsample_bytree=0.6 will be ignored. Current value: feature_fraction=0.8509274598133181\n",
      "[LightGBM] [Warning] bagging_fraction is set=0.8876039695815986, subsample=0.5 will be ignored. Current value: bagging_fraction=0.8876039695815986\n",
      "[LightGBM] [Warning] bagging_freq is set=9, subsample_freq=0 will be ignored. Current value: bagging_freq=9\n",
      "Training until validation scores don't improve for 100 rounds\n",
      "[100]\ttraining's l1: 1.46244\tvalid_1's l1: 1.3752\n"
     ]
    },
    {
     "name": "stderr",
     "output_type": "stream",
     "text": [
      "\u001b[32m[I 2021-07-06 14:25:08,792]\u001b[0m Trial 95 finished with value: -1.3622354073907943 and parameters: {'max_depth': 6, 'min_child_weight': 19, 'subsample': 0.5, 'colsample_bytree': 0.6, 'reg_lambda': 0.0015351344681328902, 'reg_alpha': 0.4499188574906811, 'feature_fraction': 0.8509274598133181, 'bagging_fraction': 0.8876039695815986, 'bagging_freq': 9}. Best is trial 55 with value: -1.3567368068404055.\u001b[0m\n"
     ]
    },
    {
     "name": "stdout",
     "output_type": "stream",
     "text": [
      "Early stopping, best iteration is:\n",
      "[44]\ttraining's l1: 1.49199\tvalid_1's l1: 1.36224\n",
      "[LightGBM] [Warning] feature_fraction is set=0.7753294544555767, colsample_bytree=0.6 will be ignored. Current value: feature_fraction=0.7753294544555767\n",
      "[LightGBM] [Warning] bagging_fraction is set=0.9001512736008271, subsample=0.5 will be ignored. Current value: bagging_fraction=0.9001512736008271\n",
      "[LightGBM] [Warning] bagging_freq is set=10, subsample_freq=0 will be ignored. Current value: bagging_freq=10\n",
      "Training until validation scores don't improve for 100 rounds\n",
      "[100]\ttraining's l1: 1.4639\tvalid_1's l1: 1.37804\n"
     ]
    },
    {
     "name": "stderr",
     "output_type": "stream",
     "text": [
      "\u001b[32m[I 2021-07-06 14:25:15,435]\u001b[0m Trial 96 finished with value: -1.3688803921089496 and parameters: {'max_depth': 7, 'min_child_weight': 20, 'subsample': 0.5, 'colsample_bytree': 0.6, 'reg_lambda': 0.009041682794009367, 'reg_alpha': 0.16048961261491362, 'feature_fraction': 0.7753294544555767, 'bagging_fraction': 0.9001512736008271, 'bagging_freq': 10}. Best is trial 55 with value: -1.3567368068404055.\u001b[0m\n"
     ]
    },
    {
     "name": "stdout",
     "output_type": "stream",
     "text": [
      "Early stopping, best iteration is:\n",
      "[35]\ttraining's l1: 1.50755\tvalid_1's l1: 1.36888\n",
      "[LightGBM] [Warning] feature_fraction is set=0.9165019904641989, colsample_bytree=0.6 will be ignored. Current value: feature_fraction=0.9165019904641989\n",
      "[LightGBM] [Warning] bagging_fraction is set=0.9318517958353559, subsample=0.5 will be ignored. Current value: bagging_fraction=0.9318517958353559\n",
      "[LightGBM] [Warning] bagging_freq is set=8, subsample_freq=0 will be ignored. Current value: bagging_freq=8\n",
      "Training until validation scores don't improve for 100 rounds\n",
      "[100]\ttraining's l1: 1.48443\tvalid_1's l1: 1.36255\n"
     ]
    },
    {
     "name": "stderr",
     "output_type": "stream",
     "text": [
      "\u001b[32m[I 2021-07-06 14:25:23,264]\u001b[0m Trial 97 finished with value: -1.360277031334047 and parameters: {'max_depth': 4, 'min_child_weight': 18, 'subsample': 0.5, 'colsample_bytree': 0.6, 'reg_lambda': 0.002393221262337882, 'reg_alpha': 0.08675630734965585, 'feature_fraction': 0.9165019904641989, 'bagging_fraction': 0.9318517958353559, 'bagging_freq': 8}. Best is trial 55 with value: -1.3567368068404055.\u001b[0m\n"
     ]
    },
    {
     "name": "stdout",
     "output_type": "stream",
     "text": [
      "Early stopping, best iteration is:\n",
      "[86]\ttraining's l1: 1.48863\tvalid_1's l1: 1.36028\n",
      "[LightGBM] [Warning] feature_fraction is set=0.707162797970143, colsample_bytree=0.6 will be ignored. Current value: feature_fraction=0.707162797970143\n",
      "[LightGBM] [Warning] bagging_fraction is set=0.9600721498605378, subsample=0.5 will be ignored. Current value: bagging_fraction=0.9600721498605378\n",
      "[LightGBM] [Warning] bagging_freq is set=10, subsample_freq=0 will be ignored. Current value: bagging_freq=10\n",
      "Training until validation scores don't improve for 100 rounds\n",
      "[100]\ttraining's l1: 1.4638\tvalid_1's l1: 1.3795\n"
     ]
    },
    {
     "name": "stderr",
     "output_type": "stream",
     "text": [
      "\u001b[32m[I 2021-07-06 14:25:30,110]\u001b[0m Trial 98 finished with value: -1.3720069241854105 and parameters: {'max_depth': 6, 'min_child_weight': 17, 'subsample': 0.5, 'colsample_bytree': 0.6, 'reg_lambda': 0.017101718245946248, 'reg_alpha': 2.0615647255099003, 'feature_fraction': 0.707162797970143, 'bagging_fraction': 0.9600721498605378, 'bagging_freq': 10}. Best is trial 55 with value: -1.3567368068404055.\u001b[0m\n"
     ]
    },
    {
     "name": "stdout",
     "output_type": "stream",
     "text": [
      "Early stopping, best iteration is:\n",
      "[35]\ttraining's l1: 1.50474\tvalid_1's l1: 1.37201\n",
      "[LightGBM] [Warning] feature_fraction is set=0.8362627235356972, colsample_bytree=0.6 will be ignored. Current value: feature_fraction=0.8362627235356972\n",
      "[LightGBM] [Warning] bagging_fraction is set=0.9109512127186652, subsample=0.5 will be ignored. Current value: bagging_fraction=0.9109512127186652\n",
      "[LightGBM] [Warning] bagging_freq is set=9, subsample_freq=0 will be ignored. Current value: bagging_freq=9\n",
      "Training until validation scores don't improve for 100 rounds\n",
      "[100]\ttraining's l1: 1.46786\tvalid_1's l1: 1.36714\n"
     ]
    },
    {
     "name": "stderr",
     "output_type": "stream",
     "text": [
      "\u001b[32m[I 2021-07-06 14:25:36,697]\u001b[0m Trial 99 finished with value: -1.3595646298403141 and parameters: {'max_depth': 5, 'min_child_weight': 16, 'subsample': 0.5, 'colsample_bytree': 0.6, 'reg_lambda': 0.00428632733857397, 'reg_alpha': 1.0929869084705977, 'feature_fraction': 0.8362627235356972, 'bagging_fraction': 0.9109512127186652, 'bagging_freq': 9}. Best is trial 55 with value: -1.3567368068404055.\u001b[0m\n"
     ]
    },
    {
     "name": "stdout",
     "output_type": "stream",
     "text": [
      "Early stopping, best iteration is:\n",
      "[39]\ttraining's l1: 1.49716\tvalid_1's l1: 1.35956\n",
      "Number of finished trials: 100\n",
      "Best trial: {'max_depth': 5, 'min_child_weight': 18, 'subsample': 0.5, 'colsample_bytree': 0.6, 'reg_lambda': 0.003047336161981325, 'reg_alpha': 0.06817362969639486, 'feature_fraction': 0.9298564165879744, 'bagging_fraction': 0.9439577588582982, 'bagging_freq': 9}\n"
     ]
    }
   ],
   "source": [
    "study2 = optuna.create_study(direction='maximize')\n",
    "study2.optimize(fit_lgbm(x_train[feature_cols2], y_train['target2'], x_valid[feature_cols2], y_valid['target2'], learning_rates[1]), n_trials=100)\n",
    "\n",
    "print('Number of finished trials:', len(study2.trials))\n",
    "print('Best trial:', study2.best_trial.params)"
   ]
  },
  {
   "cell_type": "code",
   "execution_count": 44,
   "id": "063a9116",
   "metadata": {},
   "outputs": [
    {
     "name": "stderr",
     "output_type": "stream",
     "text": [
      "\u001b[32m[I 2021-07-06 14:25:36,719]\u001b[0m A new study created in memory with name: no-name-cc7b3a60-1f26-4a95-8b99-0f5eb67fa4ce\u001b[0m\n"
     ]
    },
    {
     "name": "stdout",
     "output_type": "stream",
     "text": [
      "[LightGBM] [Warning] feature_fraction is set=0.5963391368070248, colsample_bytree=0.7 will be ignored. Current value: feature_fraction=0.5963391368070248\n",
      "[LightGBM] [Warning] bagging_fraction is set=0.8703301390851299, subsample=0.6 will be ignored. Current value: bagging_fraction=0.8703301390851299\n",
      "[LightGBM] [Warning] bagging_freq is set=7, subsample_freq=0 will be ignored. Current value: bagging_freq=7\n",
      "Training until validation scores don't improve for 100 rounds\n",
      "[100]\ttraining's l1: 0.753462\tvalid_1's l1: 0.552287\n",
      "[200]\ttraining's l1: 0.753181\tvalid_1's l1: 0.552019\n",
      "[300]\ttraining's l1: 0.752613\tvalid_1's l1: 0.551487\n",
      "[400]\ttraining's l1: 0.752612\tvalid_1's l1: 0.551485\n",
      "[500]\ttraining's l1: 0.752356\tvalid_1's l1: 0.551286\n",
      "[600]\ttraining's l1: 0.752341\tvalid_1's l1: 0.551237\n",
      "Early stopping, best iteration is:\n",
      "[559]\ttraining's l1: 0.752343\tvalid_1's l1: 0.551233\n"
     ]
    },
    {
     "name": "stderr",
     "output_type": "stream",
     "text": [
      "\u001b[32m[I 2021-07-06 14:26:07,374]\u001b[0m Trial 0 finished with value: -0.5512322544000922 and parameters: {'max_depth': 18, 'min_child_weight': 1, 'subsample': 0.6, 'colsample_bytree': 0.7, 'reg_lambda': 7.8186975570770985, 'reg_alpha': 0.4618322073505791, 'feature_fraction': 0.5963391368070248, 'bagging_fraction': 0.8703301390851299, 'bagging_freq': 7}. Best is trial 0 with value: -0.5512322544000922.\u001b[0m\n"
     ]
    },
    {
     "name": "stdout",
     "output_type": "stream",
     "text": [
      "[LightGBM] [Warning] feature_fraction is set=0.696360352955839, colsample_bytree=0.9 will be ignored. Current value: feature_fraction=0.696360352955839\n",
      "[LightGBM] [Warning] bagging_fraction is set=0.6680421308074513, subsample=0.5 will be ignored. Current value: bagging_fraction=0.6680421308074513\n",
      "[LightGBM] [Warning] bagging_freq is set=4, subsample_freq=0 will be ignored. Current value: bagging_freq=4\n",
      "Training until validation scores don't improve for 100 rounds\n",
      "[100]\ttraining's l1: 0.754167\tvalid_1's l1: 0.552326\n",
      "[200]\ttraining's l1: 0.752882\tvalid_1's l1: 0.551123\n",
      "[300]\ttraining's l1: 0.752081\tvalid_1's l1: 0.550334\n",
      "[400]\ttraining's l1: 0.751711\tvalid_1's l1: 0.550236\n"
     ]
    },
    {
     "name": "stderr",
     "output_type": "stream",
     "text": [
      "\u001b[32m[I 2021-07-06 14:26:24,370]\u001b[0m Trial 1 finished with value: -0.5502244617509805 and parameters: {'max_depth': 15, 'min_child_weight': 2, 'subsample': 0.5, 'colsample_bytree': 0.9, 'reg_lambda': 0.34107126967003454, 'reg_alpha': 0.16887150026165715, 'feature_fraction': 0.696360352955839, 'bagging_fraction': 0.6680421308074513, 'bagging_freq': 4}. Best is trial 1 with value: -0.5502244617509805.\u001b[0m\n"
     ]
    },
    {
     "name": "stdout",
     "output_type": "stream",
     "text": [
      "Early stopping, best iteration is:\n",
      "[361]\ttraining's l1: 0.751909\tvalid_1's l1: 0.550225\n",
      "[LightGBM] [Warning] feature_fraction is set=0.4978761993851992, colsample_bytree=0.7 will be ignored. Current value: feature_fraction=0.4978761993851992\n",
      "[LightGBM] [Warning] bagging_fraction is set=0.7843377460866746, subsample=0.7 will be ignored. Current value: bagging_fraction=0.7843377460866746\n",
      "[LightGBM] [Warning] bagging_freq is set=6, subsample_freq=0 will be ignored. Current value: bagging_freq=6\n",
      "Training until validation scores don't improve for 100 rounds\n",
      "[100]\ttraining's l1: 0.765785\tvalid_1's l1: 0.565299\n",
      "[200]\ttraining's l1: 0.76527\tvalid_1's l1: 0.564738\n"
     ]
    },
    {
     "name": "stderr",
     "output_type": "stream",
     "text": [
      "\u001b[32m[I 2021-07-06 14:26:32,437]\u001b[0m Trial 2 finished with value: -0.5647323418814945 and parameters: {'max_depth': 1, 'min_child_weight': 11, 'subsample': 0.7, 'colsample_bytree': 0.7, 'reg_lambda': 6.773006564044701, 'reg_alpha': 4.339498799793671, 'feature_fraction': 0.4978761993851992, 'bagging_fraction': 0.7843377460866746, 'bagging_freq': 6}. Best is trial 1 with value: -0.5502244617509805.\u001b[0m\n"
     ]
    },
    {
     "name": "stdout",
     "output_type": "stream",
     "text": [
      "Early stopping, best iteration is:\n",
      "[108]\ttraining's l1: 0.765271\tvalid_1's l1: 0.564732\n",
      "[LightGBM] [Warning] feature_fraction is set=0.43832979621661716, colsample_bytree=0.5 will be ignored. Current value: feature_fraction=0.43832979621661716\n",
      "[LightGBM] [Warning] bagging_fraction is set=0.8750582734161856, subsample=0.7 will be ignored. Current value: bagging_fraction=0.8750582734161856\n",
      "[LightGBM] [Warning] bagging_freq is set=3, subsample_freq=0 will be ignored. Current value: bagging_freq=3\n",
      "Training until validation scores don't improve for 100 rounds\n",
      "[100]\ttraining's l1: 0.757525\tvalid_1's l1: 0.555726\n",
      "[200]\ttraining's l1: 0.755976\tvalid_1's l1: 0.554366\n",
      "[300]\ttraining's l1: 0.754487\tvalid_1's l1: 0.553602\n",
      "[400]\ttraining's l1: 0.753978\tvalid_1's l1: 0.552465\n",
      "[500]\ttraining's l1: 0.753561\tvalid_1's l1: 0.552\n",
      "[600]\ttraining's l1: 0.753338\tvalid_1's l1: 0.552017\n"
     ]
    },
    {
     "name": "stderr",
     "output_type": "stream",
     "text": [
      "\u001b[32m[I 2021-07-06 14:26:58,312]\u001b[0m Trial 3 finished with value: -0.5519942234146459 and parameters: {'max_depth': 3, 'min_child_weight': 9, 'subsample': 0.7, 'colsample_bytree': 0.5, 'reg_lambda': 13.069394439580275, 'reg_alpha': 385.6561174848511, 'feature_fraction': 0.43832979621661716, 'bagging_fraction': 0.8750582734161856, 'bagging_freq': 3}. Best is trial 1 with value: -0.5502244617509805.\u001b[0m\n"
     ]
    },
    {
     "name": "stdout",
     "output_type": "stream",
     "text": [
      "Early stopping, best iteration is:\n",
      "[508]\ttraining's l1: 0.753559\tvalid_1's l1: 0.551997\n",
      "[LightGBM] [Warning] feature_fraction is set=0.5812545944548645, colsample_bytree=0.7 will be ignored. Current value: feature_fraction=0.5812545944548645\n",
      "[LightGBM] [Warning] bagging_fraction is set=0.4875657986776795, subsample=0.5 will be ignored. Current value: bagging_fraction=0.4875657986776795\n",
      "[LightGBM] [Warning] bagging_freq is set=10, subsample_freq=0 will be ignored. Current value: bagging_freq=10\n",
      "Training until validation scores don't improve for 100 rounds\n",
      "[100]\ttraining's l1: 0.75344\tvalid_1's l1: 0.552468\n",
      "[200]\ttraining's l1: 0.752968\tvalid_1's l1: 0.552087\n"
     ]
    },
    {
     "name": "stderr",
     "output_type": "stream",
     "text": [
      "\u001b[32m[I 2021-07-06 14:27:05,965]\u001b[0m Trial 4 finished with value: -0.5520770517506214 and parameters: {'max_depth': 15, 'min_child_weight': 8, 'subsample': 0.5, 'colsample_bytree': 0.7, 'reg_lambda': 0.08715827300159606, 'reg_alpha': 0.07463319401009519, 'feature_fraction': 0.5812545944548645, 'bagging_fraction': 0.4875657986776795, 'bagging_freq': 10}. Best is trial 1 with value: -0.5502244617509805.\u001b[0m\n"
     ]
    },
    {
     "name": "stdout",
     "output_type": "stream",
     "text": [
      "Early stopping, best iteration is:\n",
      "[108]\ttraining's l1: 0.752978\tvalid_1's l1: 0.552078\n",
      "[LightGBM] [Warning] feature_fraction is set=0.8131185107493439, colsample_bytree=0.6 will be ignored. Current value: feature_fraction=0.8131185107493439\n",
      "[LightGBM] [Warning] bagging_fraction is set=0.9877024300572705, subsample=0.7 will be ignored. Current value: bagging_fraction=0.9877024300572705\n",
      "[LightGBM] [Warning] bagging_freq is set=10, subsample_freq=0 will be ignored. Current value: bagging_freq=10\n",
      "Training until validation scores don't improve for 100 rounds\n",
      "[100]\ttraining's l1: 0.766906\tvalid_1's l1: 0.56652\n"
     ]
    },
    {
     "name": "stderr",
     "output_type": "stream",
     "text": [
      "\u001b[32m[I 2021-07-06 14:27:11,489]\u001b[0m Trial 5 finished with value: -0.566500404215917 and parameters: {'max_depth': 1, 'min_child_weight': 9, 'subsample': 0.7, 'colsample_bytree': 0.6, 'reg_lambda': 4.308338386293752, 'reg_alpha': 0.0060164610257491605, 'feature_fraction': 0.8131185107493439, 'bagging_fraction': 0.9877024300572705, 'bagging_freq': 10}. Best is trial 1 with value: -0.5502244617509805.\u001b[0m\n"
     ]
    },
    {
     "name": "stdout",
     "output_type": "stream",
     "text": [
      "Early stopping, best iteration is:\n",
      "[50]\ttraining's l1: 0.766912\tvalid_1's l1: 0.5665\n",
      "[LightGBM] [Warning] feature_fraction is set=0.5942197662519321, colsample_bytree=0.7 will be ignored. Current value: feature_fraction=0.5942197662519321\n",
      "[LightGBM] [Warning] bagging_fraction is set=0.5358218726225883, subsample=0.7 will be ignored. Current value: bagging_fraction=0.5358218726225883\n",
      "[LightGBM] [Warning] bagging_freq is set=9, subsample_freq=0 will be ignored. Current value: bagging_freq=9\n",
      "Training until validation scores don't improve for 100 rounds\n",
      "[100]\ttraining's l1: 0.753497\tvalid_1's l1: 0.551592\n",
      "[200]\ttraining's l1: 0.753019\tvalid_1's l1: 0.551475\n"
     ]
    },
    {
     "name": "stderr",
     "output_type": "stream",
     "text": [
      "\u001b[32m[I 2021-07-06 14:27:18,760]\u001b[0m Trial 6 finished with value: -0.551459301567113 and parameters: {'max_depth': 4, 'min_child_weight': 19, 'subsample': 0.7, 'colsample_bytree': 0.7, 'reg_lambda': 0.08392100512968106, 'reg_alpha': 0.06732544112503175, 'feature_fraction': 0.5942197662519321, 'bagging_fraction': 0.5358218726225883, 'bagging_freq': 9}. Best is trial 1 with value: -0.5502244617509805.\u001b[0m\n"
     ]
    },
    {
     "name": "stdout",
     "output_type": "stream",
     "text": [
      "Early stopping, best iteration is:\n",
      "[108]\ttraining's l1: 0.753225\tvalid_1's l1: 0.55146\n",
      "[LightGBM] [Warning] feature_fraction is set=0.932580001463909, colsample_bytree=0.9 will be ignored. Current value: feature_fraction=0.932580001463909\n",
      "[LightGBM] [Warning] bagging_fraction is set=0.41280618276389824, subsample=0.9 will be ignored. Current value: bagging_fraction=0.41280618276389824\n",
      "[LightGBM] [Warning] bagging_freq is set=4, subsample_freq=0 will be ignored. Current value: bagging_freq=4\n",
      "Training until validation scores don't improve for 100 rounds\n",
      "[100]\ttraining's l1: 0.754169\tvalid_1's l1: 0.552971\n",
      "[200]\ttraining's l1: 0.753479\tvalid_1's l1: 0.552287\n",
      "[300]\ttraining's l1: 0.752439\tvalid_1's l1: 0.551536\n",
      "[400]\ttraining's l1: 0.752318\tvalid_1's l1: 0.551505\n",
      "[500]\ttraining's l1: 0.752109\tvalid_1's l1: 0.551482\n",
      "[600]\ttraining's l1: 0.752105\tvalid_1's l1: 0.551483\n",
      "[700]\ttraining's l1: 0.752071\tvalid_1's l1: 0.551387\n",
      "Early stopping, best iteration is:\n",
      "[642]\ttraining's l1: 0.752078\tvalid_1's l1: 0.551384\n"
     ]
    },
    {
     "name": "stderr",
     "output_type": "stream",
     "text": [
      "\u001b[32m[I 2021-07-06 14:27:39,139]\u001b[0m Trial 7 finished with value: -0.5513833169143778 and parameters: {'max_depth': 14, 'min_child_weight': 7, 'subsample': 0.9, 'colsample_bytree': 0.9, 'reg_lambda': 0.44834767312598794, 'reg_alpha': 0.009723359729926228, 'feature_fraction': 0.932580001463909, 'bagging_fraction': 0.41280618276389824, 'bagging_freq': 4}. Best is trial 1 with value: -0.5502244617509805.\u001b[0m\n"
     ]
    },
    {
     "name": "stdout",
     "output_type": "stream",
     "text": [
      "[LightGBM] [Warning] feature_fraction is set=0.5215781488377073, colsample_bytree=0.8 will be ignored. Current value: feature_fraction=0.5215781488377073\n",
      "[LightGBM] [Warning] bagging_fraction is set=0.47538628913237474, subsample=0.6 will be ignored. Current value: bagging_fraction=0.47538628913237474\n",
      "[LightGBM] [Warning] bagging_freq is set=6, subsample_freq=0 will be ignored. Current value: bagging_freq=6\n",
      "Training until validation scores don't improve for 100 rounds\n",
      "[100]\ttraining's l1: 0.753418\tvalid_1's l1: 0.552674\n",
      "[200]\ttraining's l1: 0.75303\tvalid_1's l1: 0.552371\n",
      "[300]\ttraining's l1: 0.752961\tvalid_1's l1: 0.552266\n"
     ]
    },
    {
     "name": "stderr",
     "output_type": "stream",
     "text": [
      "\u001b[32m[I 2021-07-06 14:27:50,673]\u001b[0m Trial 8 finished with value: -0.5522575200183932 and parameters: {'max_depth': 15, 'min_child_weight': 10, 'subsample': 0.6, 'colsample_bytree': 0.8, 'reg_lambda': 80.3581920452228, 'reg_alpha': 3.03213615501296, 'feature_fraction': 0.5215781488377073, 'bagging_fraction': 0.47538628913237474, 'bagging_freq': 6}. Best is trial 1 with value: -0.5502244617509805.\u001b[0m\n"
     ]
    },
    {
     "name": "stdout",
     "output_type": "stream",
     "text": [
      "Early stopping, best iteration is:\n",
      "[255]\ttraining's l1: 0.752972\tvalid_1's l1: 0.552259\n",
      "[LightGBM] [Warning] feature_fraction is set=0.4311495430670061, colsample_bytree=0.9 will be ignored. Current value: feature_fraction=0.4311495430670061\n",
      "[LightGBM] [Warning] bagging_fraction is set=0.5497917206022749, subsample=0.7 will be ignored. Current value: bagging_fraction=0.5497917206022749\n",
      "[LightGBM] [Warning] bagging_freq is set=4, subsample_freq=0 will be ignored. Current value: bagging_freq=4\n",
      "Training until validation scores don't improve for 100 rounds\n",
      "[100]\ttraining's l1: 0.753978\tvalid_1's l1: 0.552684\n",
      "[200]\ttraining's l1: 0.753602\tvalid_1's l1: 0.552478\n",
      "[300]\ttraining's l1: 0.752627\tvalid_1's l1: 0.551818\n",
      "[400]\ttraining's l1: 0.752159\tvalid_1's l1: 0.551388\n"
     ]
    },
    {
     "name": "stderr",
     "output_type": "stream",
     "text": [
      "\u001b[32m[I 2021-07-06 14:28:05,998]\u001b[0m Trial 9 finished with value: -0.551386232755747 and parameters: {'max_depth': 13, 'min_child_weight': 14, 'subsample': 0.7, 'colsample_bytree': 0.9, 'reg_lambda': 332.69568136751525, 'reg_alpha': 7.953792744182688, 'feature_fraction': 0.4311495430670061, 'bagging_fraction': 0.5497917206022749, 'bagging_freq': 4}. Best is trial 1 with value: -0.5502244617509805.\u001b[0m\n"
     ]
    },
    {
     "name": "stdout",
     "output_type": "stream",
     "text": [
      "Early stopping, best iteration is:\n",
      "[347]\ttraining's l1: 0.752164\tvalid_1's l1: 0.551387\n",
      "[LightGBM] [Warning] feature_fraction is set=0.742124118947458, colsample_bytree=0.9 will be ignored. Current value: feature_fraction=0.742124118947458\n",
      "[LightGBM] [Warning] bagging_fraction is set=0.6666793138903585, subsample=0.9 will be ignored. Current value: bagging_fraction=0.6666793138903585\n",
      "[LightGBM] [Warning] bagging_freq is set=1, subsample_freq=0 will be ignored. Current value: bagging_freq=1\n",
      "Training until validation scores don't improve for 100 rounds\n",
      "[100]\ttraining's l1: 0.754143\tvalid_1's l1: 0.552322\n",
      "[200]\ttraining's l1: 0.75355\tvalid_1's l1: 0.55221\n",
      "[300]\ttraining's l1: 0.753518\tvalid_1's l1: 0.552125\n"
     ]
    },
    {
     "name": "stderr",
     "output_type": "stream",
     "text": [
      "\u001b[32m[I 2021-07-06 14:28:16,705]\u001b[0m Trial 10 finished with value: -0.5521176785452898 and parameters: {'max_depth': 8, 'min_child_weight': 1, 'subsample': 0.9, 'colsample_bytree': 0.9, 'reg_lambda': 0.003002963415152784, 'reg_alpha': 131.39950756781266, 'feature_fraction': 0.742124118947458, 'bagging_fraction': 0.6666793138903585, 'bagging_freq': 1}. Best is trial 1 with value: -0.5502244617509805.\u001b[0m\n"
     ]
    },
    {
     "name": "stdout",
     "output_type": "stream",
     "text": [
      "Early stopping, best iteration is:\n",
      "[273]\ttraining's l1: 0.753524\tvalid_1's l1: 0.552118\n",
      "[LightGBM] [Warning] feature_fraction is set=0.6827413224917774, colsample_bytree=0.8 will be ignored. Current value: feature_fraction=0.6827413224917774\n",
      "[LightGBM] [Warning] bagging_fraction is set=0.6835020529685637, subsample=0.5 will be ignored. Current value: bagging_fraction=0.6835020529685637\n",
      "[LightGBM] [Warning] bagging_freq is set=8, subsample_freq=0 will be ignored. Current value: bagging_freq=8\n",
      "Training until validation scores don't improve for 100 rounds\n",
      "[100]\ttraining's l1: 0.754299\tvalid_1's l1: 0.552385\n",
      "[200]\ttraining's l1: 0.753305\tvalid_1's l1: 0.551592\n",
      "[300]\ttraining's l1: 0.75255\tvalid_1's l1: 0.550778\n",
      "[400]\ttraining's l1: 0.752267\tvalid_1's l1: 0.550571\n"
     ]
    },
    {
     "name": "stderr",
     "output_type": "stream",
     "text": [
      "\u001b[32m[I 2021-07-06 14:28:31,660]\u001b[0m Trial 11 finished with value: -0.550558348403624 and parameters: {'max_depth': 18, 'min_child_weight': 1, 'subsample': 0.5, 'colsample_bytree': 0.8, 'reg_lambda': 0.3978691417025595, 'reg_alpha': 0.27422719208352625, 'feature_fraction': 0.6827413224917774, 'bagging_fraction': 0.6835020529685637, 'bagging_freq': 8}. Best is trial 1 with value: -0.5502244617509805.\u001b[0m\n"
     ]
    },
    {
     "name": "stdout",
     "output_type": "stream",
     "text": [
      "Early stopping, best iteration is:\n",
      "[343]\ttraining's l1: 0.752331\tvalid_1's l1: 0.55056\n",
      "[LightGBM] [Warning] feature_fraction is set=0.7660171373934648, colsample_bytree=0.8 will be ignored. Current value: feature_fraction=0.7660171373934648\n",
      "[LightGBM] [Warning] bagging_fraction is set=0.645000363403361, subsample=0.5 will be ignored. Current value: bagging_fraction=0.645000363403361\n",
      "[LightGBM] [Warning] bagging_freq is set=8, subsample_freq=0 will be ignored. Current value: bagging_freq=8\n",
      "Training until validation scores don't improve for 100 rounds\n",
      "[100]\ttraining's l1: 0.754754\tvalid_1's l1: 0.552929\n",
      "[200]\ttraining's l1: 0.753052\tvalid_1's l1: 0.551501\n",
      "[300]\ttraining's l1: 0.752336\tvalid_1's l1: 0.550979\n",
      "[400]\ttraining's l1: 0.752274\tvalid_1's l1: 0.550943\n"
     ]
    },
    {
     "name": "stderr",
     "output_type": "stream",
     "text": [
      "\u001b[32m[I 2021-07-06 14:28:46,183]\u001b[0m Trial 12 finished with value: -0.5509379720061017 and parameters: {'max_depth': 20, 'min_child_weight': 4, 'subsample': 0.5, 'colsample_bytree': 0.8, 'reg_lambda': 0.008369960957895243, 'reg_alpha': 0.19046167739227324, 'feature_fraction': 0.7660171373934648, 'bagging_fraction': 0.645000363403361, 'bagging_freq': 8}. Best is trial 1 with value: -0.5502244617509805.\u001b[0m\n"
     ]
    },
    {
     "name": "stdout",
     "output_type": "stream",
     "text": [
      "Early stopping, best iteration is:\n",
      "[354]\ttraining's l1: 0.752278\tvalid_1's l1: 0.550938\n",
      "[LightGBM] [Warning] feature_fraction is set=0.8602606601293815, colsample_bytree=0.8 will be ignored. Current value: feature_fraction=0.8602606601293815\n",
      "[LightGBM] [Warning] bagging_fraction is set=0.7464553532489863, subsample=0.5 will be ignored. Current value: bagging_fraction=0.7464553532489863\n",
      "[LightGBM] [Warning] bagging_freq is set=2, subsample_freq=0 will be ignored. Current value: bagging_freq=2\n",
      "Training until validation scores don't improve for 100 rounds\n",
      "[100]\ttraining's l1: 0.754742\tvalid_1's l1: 0.55332\n",
      "[200]\ttraining's l1: 0.753252\tvalid_1's l1: 0.551984\n"
     ]
    },
    {
     "name": "stderr",
     "output_type": "stream",
     "text": [
      "\u001b[32m[I 2021-07-06 14:29:00,585]\u001b[0m Trial 13 finished with value: -0.5519545028934463 and parameters: {'max_depth': 19, 'min_child_weight': 4, 'subsample': 0.5, 'colsample_bytree': 0.8, 'reg_lambda': 0.5193183240605491, 'reg_alpha': 0.0019494843712582132, 'feature_fraction': 0.8602606601293815, 'bagging_fraction': 0.7464553532489863, 'bagging_freq': 2}. Best is trial 1 with value: -0.5502244617509805.\u001b[0m\n"
     ]
    },
    {
     "name": "stdout",
     "output_type": "stream",
     "text": [
      "Early stopping, best iteration is:\n",
      "[182]\ttraining's l1: 0.753266\tvalid_1's l1: 0.551955\n",
      "[LightGBM] [Warning] feature_fraction is set=0.6434442784871399, colsample_bytree=0.8 will be ignored. Current value: feature_fraction=0.6434442784871399\n",
      "[LightGBM] [Warning] bagging_fraction is set=0.6078560881846751, subsample=0.6 will be ignored. Current value: bagging_fraction=0.6078560881846751\n",
      "[LightGBM] [Warning] bagging_freq is set=5, subsample_freq=0 will be ignored. Current value: bagging_freq=5\n",
      "Training until validation scores don't improve for 100 rounds\n",
      "[100]\ttraining's l1: 0.753301\tvalid_1's l1: 0.552014\n",
      "[200]\ttraining's l1: 0.752893\tvalid_1's l1: 0.55173\n"
     ]
    },
    {
     "name": "stderr",
     "output_type": "stream",
     "text": [
      "\u001b[32m[I 2021-07-06 14:29:09,401]\u001b[0m Trial 14 finished with value: -0.5517185306112034 and parameters: {'max_depth': 10, 'min_child_weight': 4, 'subsample': 0.6, 'colsample_bytree': 0.8, 'reg_lambda': 0.021755224025706944, 'reg_alpha': 0.02411037674220237, 'feature_fraction': 0.6434442784871399, 'bagging_fraction': 0.6078560881846751, 'bagging_freq': 5}. Best is trial 1 with value: -0.5502244617509805.\u001b[0m\n"
     ]
    },
    {
     "name": "stdout",
     "output_type": "stream",
     "text": [
      "Early stopping, best iteration is:\n",
      "[125]\ttraining's l1: 0.752908\tvalid_1's l1: 0.551719\n",
      "[LightGBM] [Warning] feature_fraction is set=0.6886774915585109, colsample_bytree=0.9 will be ignored. Current value: feature_fraction=0.6886774915585109\n",
      "[LightGBM] [Warning] bagging_fraction is set=0.7245991446507765, subsample=0.5 will be ignored. Current value: bagging_fraction=0.7245991446507765\n",
      "[LightGBM] [Warning] bagging_freq is set=8, subsample_freq=0 will be ignored. Current value: bagging_freq=8\n",
      "Training until validation scores don't improve for 100 rounds\n",
      "[100]\ttraining's l1: 0.753358\tvalid_1's l1: 0.552072\n",
      "[200]\ttraining's l1: 0.753003\tvalid_1's l1: 0.551801\n",
      "[300]\ttraining's l1: 0.752933\tvalid_1's l1: 0.55167\n",
      "[400]\ttraining's l1: 0.752732\tvalid_1's l1: 0.551392\n",
      "[500]\ttraining's l1: 0.752691\tvalid_1's l1: 0.551322\n"
     ]
    },
    {
     "name": "stderr",
     "output_type": "stream",
     "text": [
      "\u001b[32m[I 2021-07-06 14:29:28,256]\u001b[0m Trial 15 finished with value: -0.5513194075602756 and parameters: {'max_depth': 17, 'min_child_weight': 1, 'subsample': 0.5, 'colsample_bytree': 0.9, 'reg_lambda': 0.12038324773573683, 'reg_alpha': 36.768228346509986, 'feature_fraction': 0.6886774915585109, 'bagging_fraction': 0.7245991446507765, 'bagging_freq': 8}. Best is trial 1 with value: -0.5502244617509805.\u001b[0m\n"
     ]
    },
    {
     "name": "stdout",
     "output_type": "stream",
     "text": [
      "Early stopping, best iteration is:\n",
      "[457]\ttraining's l1: 0.752692\tvalid_1's l1: 0.55132\n",
      "[LightGBM] [Warning] feature_fraction is set=0.6847041643839472, colsample_bytree=0.8 will be ignored. Current value: feature_fraction=0.6847041643839472\n",
      "[LightGBM] [Warning] bagging_fraction is set=0.8343781517192117, subsample=0.8 will be ignored. Current value: bagging_fraction=0.8343781517192117\n",
      "[LightGBM] [Warning] bagging_freq is set=5, subsample_freq=0 will be ignored. Current value: bagging_freq=5\n",
      "Training until validation scores don't improve for 100 rounds\n",
      "[100]\ttraining's l1: 0.753619\tvalid_1's l1: 0.552081\n",
      "[200]\ttraining's l1: 0.753485\tvalid_1's l1: 0.551913\n"
     ]
    },
    {
     "name": "stderr",
     "output_type": "stream",
     "text": [
      "\u001b[32m[I 2021-07-06 14:29:38,662]\u001b[0m Trial 16 finished with value: -0.5519102339264107 and parameters: {'max_depth': 17, 'min_child_weight': 5, 'subsample': 0.8, 'colsample_bytree': 0.8, 'reg_lambda': 1.5667575353002394, 'reg_alpha': 0.8386111023121101, 'feature_fraction': 0.6847041643839472, 'bagging_fraction': 0.8343781517192117, 'bagging_freq': 5}. Best is trial 1 with value: -0.5502244617509805.\u001b[0m\n"
     ]
    },
    {
     "name": "stdout",
     "output_type": "stream",
     "text": [
      "Early stopping, best iteration is:\n",
      "[134]\ttraining's l1: 0.753491\tvalid_1's l1: 0.55191\n",
      "[LightGBM] [Warning] feature_fraction is set=0.8977401873361689, colsample_bytree=0.9 will be ignored. Current value: feature_fraction=0.8977401873361689\n",
      "[LightGBM] [Warning] bagging_fraction is set=0.605832070110965, subsample=0.6 will be ignored. Current value: bagging_fraction=0.605832070110965\n",
      "[LightGBM] [Warning] bagging_freq is set=7, subsample_freq=0 will be ignored. Current value: bagging_freq=7\n",
      "Training until validation scores don't improve for 100 rounds\n",
      "[100]\ttraining's l1: 0.754951\tvalid_1's l1: 0.553402\n",
      "[200]\ttraining's l1: 0.753627\tvalid_1's l1: 0.552347\n",
      "[300]\ttraining's l1: 0.75344\tvalid_1's l1: 0.552333\n"
     ]
    },
    {
     "name": "stderr",
     "output_type": "stream",
     "text": [
      "\u001b[32m[I 2021-07-06 14:29:50,773]\u001b[0m Trial 17 finished with value: -0.5523315498022701 and parameters: {'max_depth': 12, 'min_child_weight': 15, 'subsample': 0.6, 'colsample_bytree': 0.9, 'reg_lambda': 0.00117273821163317, 'reg_alpha': 0.19519233815261644, 'feature_fraction': 0.8977401873361689, 'bagging_fraction': 0.605832070110965, 'bagging_freq': 7}. Best is trial 1 with value: -0.5502244617509805.\u001b[0m\n"
     ]
    },
    {
     "name": "stdout",
     "output_type": "stream",
     "text": [
      "Early stopping, best iteration is:\n",
      "[276]\ttraining's l1: 0.753441\tvalid_1's l1: 0.552333\n",
      "[LightGBM] [Warning] feature_fraction is set=0.7525109458809006, colsample_bytree=0.6 will be ignored. Current value: feature_fraction=0.7525109458809006\n",
      "[LightGBM] [Warning] bagging_fraction is set=0.9482840315982335, subsample=0.5 will be ignored. Current value: bagging_fraction=0.9482840315982335\n",
      "[LightGBM] [Warning] bagging_freq is set=4, subsample_freq=0 will be ignored. Current value: bagging_freq=4\n",
      "Training until validation scores don't improve for 100 rounds\n",
      "[100]\ttraining's l1: 0.754029\tvalid_1's l1: 0.553137\n",
      "[200]\ttraining's l1: 0.753401\tvalid_1's l1: 0.552599\n",
      "[300]\ttraining's l1: 0.753152\tvalid_1's l1: 0.552455\n",
      "[400]\ttraining's l1: 0.75283\tvalid_1's l1: 0.552177\n"
     ]
    },
    {
     "name": "stderr",
     "output_type": "stream",
     "text": [
      "\u001b[32m[I 2021-07-06 14:30:12,969]\u001b[0m Trial 18 finished with value: -0.5521769313529477 and parameters: {'max_depth': 11, 'min_child_weight': 2, 'subsample': 0.5, 'colsample_bytree': 0.6, 'reg_lambda': 55.520602881018455, 'reg_alpha': 0.001630408206494062, 'feature_fraction': 0.7525109458809006, 'bagging_fraction': 0.9482840315982335, 'bagging_freq': 4}. Best is trial 1 with value: -0.5502244617509805.\u001b[0m\n"
     ]
    },
    {
     "name": "stdout",
     "output_type": "stream",
     "text": [
      "Early stopping, best iteration is:\n",
      "[387]\ttraining's l1: 0.75283\tvalid_1's l1: 0.552177\n",
      "[LightGBM] [Warning] feature_fraction is set=0.8195677782573583, colsample_bytree=0.8 will be ignored. Current value: feature_fraction=0.8195677782573583\n",
      "[LightGBM] [Warning] bagging_fraction is set=0.6998808666476537, subsample=0.6 will be ignored. Current value: bagging_fraction=0.6998808666476537\n",
      "[LightGBM] [Warning] bagging_freq is set=1, subsample_freq=0 will be ignored. Current value: bagging_freq=1\n",
      "Training until validation scores don't improve for 100 rounds\n",
      "[100]\ttraining's l1: 0.753737\tvalid_1's l1: 0.552108\n",
      "[200]\ttraining's l1: 0.753005\tvalid_1's l1: 0.55159\n",
      "[300]\ttraining's l1: 0.752596\tvalid_1's l1: 0.551145\n",
      "[400]\ttraining's l1: 0.752372\tvalid_1's l1: 0.550977\n"
     ]
    },
    {
     "name": "stderr",
     "output_type": "stream",
     "text": [
      "\u001b[32m[I 2021-07-06 14:30:25,082]\u001b[0m Trial 19 finished with value: -0.5509742438150294 and parameters: {'max_depth': 20, 'min_child_weight': 6, 'subsample': 0.6, 'colsample_bytree': 0.8, 'reg_lambda': 1.2076456952914276, 'reg_alpha': 18.502200839675, 'feature_fraction': 0.8195677782573583, 'bagging_fraction': 0.6998808666476537, 'bagging_freq': 1}. Best is trial 1 with value: -0.5502244617509805.\u001b[0m\n"
     ]
    },
    {
     "name": "stdout",
     "output_type": "stream",
     "text": [
      "Early stopping, best iteration is:\n",
      "[313]\ttraining's l1: 0.752377\tvalid_1's l1: 0.550975\n",
      "[LightGBM] [Warning] feature_fraction is set=0.9744141559248893, colsample_bytree=0.6 will be ignored. Current value: feature_fraction=0.9744141559248893\n",
      "[LightGBM] [Warning] bagging_fraction is set=0.7899440066848724, subsample=0.8 will be ignored. Current value: bagging_fraction=0.7899440066848724\n",
      "[LightGBM] [Warning] bagging_freq is set=8, subsample_freq=0 will be ignored. Current value: bagging_freq=8\n",
      "Training until validation scores don't improve for 100 rounds\n",
      "[100]\ttraining's l1: 0.753932\tvalid_1's l1: 0.55205\n",
      "[200]\ttraining's l1: 0.753502\tvalid_1's l1: 0.551504\n",
      "[300]\ttraining's l1: 0.752999\tvalid_1's l1: 0.551087\n",
      "[400]\ttraining's l1: 0.752168\tvalid_1's l1: 0.550417\n",
      "[500]\ttraining's l1: 0.751692\tvalid_1's l1: 0.550265\n"
     ]
    },
    {
     "name": "stderr",
     "output_type": "stream",
     "text": [
      "\u001b[32m[I 2021-07-06 14:30:44,124]\u001b[0m Trial 20 finished with value: -0.5502335933434829 and parameters: {'max_depth': 8, 'min_child_weight': 3, 'subsample': 0.8, 'colsample_bytree': 0.6, 'reg_lambda': 0.02333593066124333, 'reg_alpha': 1.491041166013126, 'feature_fraction': 0.9744141559248893, 'bagging_fraction': 0.7899440066848724, 'bagging_freq': 8}. Best is trial 1 with value: -0.5502244617509805.\u001b[0m\n"
     ]
    },
    {
     "name": "stdout",
     "output_type": "stream",
     "text": [
      "Early stopping, best iteration is:\n",
      "[429]\ttraining's l1: 0.751841\tvalid_1's l1: 0.550234\n",
      "[LightGBM] [Warning] feature_fraction is set=0.9820974823131291, colsample_bytree=0.6 will be ignored. Current value: feature_fraction=0.9820974823131291\n",
      "[LightGBM] [Warning] bagging_fraction is set=0.7616265359394799, subsample=0.8 will be ignored. Current value: bagging_fraction=0.7616265359394799\n",
      "[LightGBM] [Warning] bagging_freq is set=9, subsample_freq=0 will be ignored. Current value: bagging_freq=9\n",
      "Training until validation scores don't improve for 100 rounds\n",
      "[100]\ttraining's l1: 0.752674\tvalid_1's l1: 0.551188\n",
      "[200]\ttraining's l1: 0.752595\tvalid_1's l1: 0.551059\n"
     ]
    },
    {
     "name": "stderr",
     "output_type": "stream",
     "text": [
      "\u001b[32m[I 2021-07-06 14:30:53,664]\u001b[0m Trial 21 finished with value: -0.5510460894192725 and parameters: {'max_depth': 7, 'min_child_weight': 3, 'subsample': 0.8, 'colsample_bytree': 0.6, 'reg_lambda': 0.02591397042804399, 'reg_alpha': 1.49057022455752, 'feature_fraction': 0.9820974823131291, 'bagging_fraction': 0.7616265359394799, 'bagging_freq': 9}. Best is trial 1 with value: -0.5502244617509805.\u001b[0m\n"
     ]
    },
    {
     "name": "stdout",
     "output_type": "stream",
     "text": [
      "Early stopping, best iteration is:\n",
      "[149]\ttraining's l1: 0.75261\tvalid_1's l1: 0.551047\n",
      "[LightGBM] [Warning] feature_fraction is set=0.6639415169796904, colsample_bytree=0.5 will be ignored. Current value: feature_fraction=0.6639415169796904\n",
      "[LightGBM] [Warning] bagging_fraction is set=0.8133050709697811, subsample=0.8 will be ignored. Current value: bagging_fraction=0.8133050709697811\n",
      "[LightGBM] [Warning] bagging_freq is set=7, subsample_freq=0 will be ignored. Current value: bagging_freq=7\n",
      "Training until validation scores don't improve for 100 rounds\n",
      "[100]\ttraining's l1: 0.753386\tvalid_1's l1: 0.552199\n",
      "[200]\ttraining's l1: 0.752467\tvalid_1's l1: 0.551485\n",
      "[300]\ttraining's l1: 0.752188\tvalid_1's l1: 0.551314\n"
     ]
    },
    {
     "name": "stderr",
     "output_type": "stream",
     "text": [
      "\u001b[32m[I 2021-07-06 14:31:08,382]\u001b[0m Trial 22 finished with value: -0.551312846749096 and parameters: {'max_depth': 8, 'min_child_weight': 1, 'subsample': 0.8, 'colsample_bytree': 0.5, 'reg_lambda': 0.22206001221631294, 'reg_alpha': 0.4099106407200748, 'feature_fraction': 0.6639415169796904, 'bagging_fraction': 0.8133050709697811, 'bagging_freq': 7}. Best is trial 1 with value: -0.5502244617509805.\u001b[0m\n"
     ]
    },
    {
     "name": "stdout",
     "output_type": "stream",
     "text": [
      "Early stopping, best iteration is:\n",
      "[270]\ttraining's l1: 0.75219\tvalid_1's l1: 0.551313\n",
      "[LightGBM] [Warning] feature_fraction is set=0.7269226444704957, colsample_bytree=0.6 will be ignored. Current value: feature_fraction=0.7269226444704957\n",
      "[LightGBM] [Warning] bagging_fraction is set=0.6814559081160543, subsample=0.8 will be ignored. Current value: bagging_fraction=0.6814559081160543\n",
      "[LightGBM] [Warning] bagging_freq is set=8, subsample_freq=0 will be ignored. Current value: bagging_freq=8\n",
      "Training until validation scores don't improve for 100 rounds\n",
      "[100]\ttraining's l1: 0.753677\tvalid_1's l1: 0.551829\n",
      "[200]\ttraining's l1: 0.753132\tvalid_1's l1: 0.551328\n",
      "[300]\ttraining's l1: 0.753017\tvalid_1's l1: 0.551308\n"
     ]
    },
    {
     "name": "stderr",
     "output_type": "stream",
     "text": [
      "\u001b[32m[I 2021-07-06 14:31:20,670]\u001b[0m Trial 23 finished with value: -0.5513057923568884 and parameters: {'max_depth': 16, 'min_child_weight': 3, 'subsample': 0.8, 'colsample_bytree': 0.6, 'reg_lambda': 0.025984510969238598, 'reg_alpha': 0.04839710320205672, 'feature_fraction': 0.7269226444704957, 'bagging_fraction': 0.6814559081160543, 'bagging_freq': 8}. Best is trial 1 with value: -0.5502244617509805.\u001b[0m\n"
     ]
    },
    {
     "name": "stdout",
     "output_type": "stream",
     "text": [
      "Early stopping, best iteration is:\n",
      "[257]\ttraining's l1: 0.753022\tvalid_1's l1: 0.551306\n",
      "[LightGBM] [Warning] feature_fraction is set=0.6306543905849618, colsample_bytree=0.5 will be ignored. Current value: feature_fraction=0.6306543905849618\n",
      "[LightGBM] [Warning] bagging_fraction is set=0.6153142993726657, subsample=0.9 will be ignored. Current value: bagging_fraction=0.6153142993726657\n",
      "[LightGBM] [Warning] bagging_freq is set=9, subsample_freq=0 will be ignored. Current value: bagging_freq=9\n",
      "Training until validation scores don't improve for 100 rounds\n",
      "[100]\ttraining's l1: 0.75088\tvalid_1's l1: 0.550025\n",
      "[200]\ttraining's l1: 0.750625\tvalid_1's l1: 0.549813\n"
     ]
    },
    {
     "name": "stderr",
     "output_type": "stream",
     "text": [
      "\u001b[32m[I 2021-07-06 14:31:31,206]\u001b[0m Trial 24 finished with value: -0.5497932227050651 and parameters: {'max_depth': 6, 'min_child_weight': 6, 'subsample': 0.9, 'colsample_bytree': 0.5, 'reg_lambda': 0.007677534623159945, 'reg_alpha': 1.3975406080907538, 'feature_fraction': 0.6306543905849618, 'bagging_fraction': 0.6153142993726657, 'bagging_freq': 9}. Best is trial 24 with value: -0.5497932227050651.\u001b[0m\n"
     ]
    },
    {
     "name": "stdout",
     "output_type": "stream",
     "text": [
      "Early stopping, best iteration is:\n",
      "[187]\ttraining's l1: 0.750631\tvalid_1's l1: 0.549795\n",
      "[LightGBM] [Warning] feature_fraction is set=0.6235389694553424, colsample_bytree=0.5 will be ignored. Current value: feature_fraction=0.6235389694553424\n",
      "[LightGBM] [Warning] bagging_fraction is set=0.6091906016201892, subsample=0.9 will be ignored. Current value: bagging_fraction=0.6091906016201892\n",
      "[LightGBM] [Warning] bagging_freq is set=9, subsample_freq=0 will be ignored. Current value: bagging_freq=9\n",
      "Training until validation scores don't improve for 100 rounds\n",
      "[100]\ttraining's l1: 0.750225\tvalid_1's l1: 0.548114\n",
      "[200]\ttraining's l1: 0.749714\tvalid_1's l1: 0.54791\n",
      "[300]\ttraining's l1: 0.748811\tvalid_1's l1: 0.546881\n",
      "[400]\ttraining's l1: 0.748531\tvalid_1's l1: 0.546815\n"
     ]
    },
    {
     "name": "stderr",
     "output_type": "stream",
     "text": [
      "\u001b[32m[I 2021-07-06 14:31:46,616]\u001b[0m Trial 25 finished with value: -0.5466579918572985 and parameters: {'max_depth': 5, 'min_child_weight': 6, 'subsample': 0.9, 'colsample_bytree': 0.5, 'reg_lambda': 0.005046479601461925, 'reg_alpha': 2.1188562191857367, 'feature_fraction': 0.6235389694553424, 'bagging_fraction': 0.6091906016201892, 'bagging_freq': 9}. Best is trial 25 with value: -0.5466579918572985.\u001b[0m\n"
     ]
    },
    {
     "name": "stdout",
     "output_type": "stream",
     "text": [
      "Early stopping, best iteration is:\n",
      "[369]\ttraining's l1: 0.748539\tvalid_1's l1: 0.546661\n",
      "[LightGBM] [Warning] feature_fraction is set=0.5533511119286647, colsample_bytree=0.5 will be ignored. Current value: feature_fraction=0.5533511119286647\n",
      "[LightGBM] [Warning] bagging_fraction is set=0.5702230378259849, subsample=0.9 will be ignored. Current value: bagging_fraction=0.5702230378259849\n",
      "[LightGBM] [Warning] bagging_freq is set=10, subsample_freq=0 will be ignored. Current value: bagging_freq=10\n",
      "Training until validation scores don't improve for 100 rounds\n",
      "[100]\ttraining's l1: 0.751218\tvalid_1's l1: 0.549588\n",
      "[200]\ttraining's l1: 0.750722\tvalid_1's l1: 0.549202\n",
      "[300]\ttraining's l1: 0.75008\tvalid_1's l1: 0.548598\n",
      "[400]\ttraining's l1: 0.749105\tvalid_1's l1: 0.547486\n",
      "[500]\ttraining's l1: 0.749085\tvalid_1's l1: 0.547479\n",
      "[600]\ttraining's l1: 0.749063\tvalid_1's l1: 0.547493\n"
     ]
    },
    {
     "name": "stderr",
     "output_type": "stream",
     "text": [
      "\u001b[32m[I 2021-07-06 14:32:06,860]\u001b[0m Trial 26 finished with value: -0.5474683050729785 and parameters: {'max_depth': 5, 'min_child_weight': 6, 'subsample': 0.9, 'colsample_bytree': 0.5, 'reg_lambda': 0.001501996411496632, 'reg_alpha': 18.41294141920266, 'feature_fraction': 0.5533511119286647, 'bagging_fraction': 0.5702230378259849, 'bagging_freq': 10}. Best is trial 25 with value: -0.5466579918572985.\u001b[0m\n"
     ]
    },
    {
     "name": "stdout",
     "output_type": "stream",
     "text": [
      "Early stopping, best iteration is:\n",
      "[526]\ttraining's l1: 0.749083\tvalid_1's l1: 0.547469\n",
      "[LightGBM] [Warning] feature_fraction is set=0.5284041349431422, colsample_bytree=0.5 will be ignored. Current value: feature_fraction=0.5284041349431422\n",
      "[LightGBM] [Warning] bagging_fraction is set=0.565888241747556, subsample=0.9 will be ignored. Current value: bagging_fraction=0.565888241747556\n",
      "[LightGBM] [Warning] bagging_freq is set=10, subsample_freq=0 will be ignored. Current value: bagging_freq=10\n",
      "Training until validation scores don't improve for 100 rounds\n",
      "[100]\ttraining's l1: 0.751637\tvalid_1's l1: 0.550937\n",
      "[200]\ttraining's l1: 0.751154\tvalid_1's l1: 0.550826\n",
      "[300]\ttraining's l1: 0.750951\tvalid_1's l1: 0.550817\n",
      "[400]\ttraining's l1: 0.75074\tvalid_1's l1: 0.550795\n",
      "[500]\ttraining's l1: 0.750637\tvalid_1's l1: 0.55077\n",
      "[600]\ttraining's l1: 0.750617\tvalid_1's l1: 0.550756\n",
      "[700]\ttraining's l1: 0.750243\tvalid_1's l1: 0.550249\n",
      "[800]\ttraining's l1: 0.750199\tvalid_1's l1: 0.55014\n",
      "[900]\ttraining's l1: 0.749871\tvalid_1's l1: 0.549926\n",
      "[1000]\ttraining's l1: 0.749831\tvalid_1's l1: 0.549928\n",
      "[1100]\ttraining's l1: 0.749776\tvalid_1's l1: 0.549852\n",
      "Early stopping, best iteration is:\n",
      "[1048]\ttraining's l1: 0.74978\tvalid_1's l1: 0.549849\n"
     ]
    },
    {
     "name": "stderr",
     "output_type": "stream",
     "text": [
      "\u001b[32m[I 2021-07-06 14:32:41,233]\u001b[0m Trial 27 finished with value: -0.5498463979511704 and parameters: {'max_depth': 5, 'min_child_weight': 6, 'subsample': 0.9, 'colsample_bytree': 0.5, 'reg_lambda': 0.0010381253576140278, 'reg_alpha': 73.37541618335104, 'feature_fraction': 0.5284041349431422, 'bagging_fraction': 0.565888241747556, 'bagging_freq': 10}. Best is trial 25 with value: -0.5466579918572985.\u001b[0m\n"
     ]
    },
    {
     "name": "stdout",
     "output_type": "stream",
     "text": [
      "[LightGBM] [Warning] feature_fraction is set=0.47155044479472774, colsample_bytree=0.5 will be ignored. Current value: feature_fraction=0.47155044479472774\n",
      "[LightGBM] [Warning] bagging_fraction is set=0.4901821521691476, subsample=0.9 will be ignored. Current value: bagging_fraction=0.4901821521691476\n",
      "[LightGBM] [Warning] bagging_freq is set=9, subsample_freq=0 will be ignored. Current value: bagging_freq=9\n",
      "Training until validation scores don't improve for 100 rounds\n",
      "[100]\ttraining's l1: 0.751487\tvalid_1's l1: 0.550609\n",
      "[200]\ttraining's l1: 0.750499\tvalid_1's l1: 0.549605\n",
      "[300]\ttraining's l1: 0.749867\tvalid_1's l1: 0.548941\n",
      "[400]\ttraining's l1: 0.749583\tvalid_1's l1: 0.548814\n"
     ]
    },
    {
     "name": "stderr",
     "output_type": "stream",
     "text": [
      "\u001b[32m[I 2021-07-06 14:32:53,526]\u001b[0m Trial 28 finished with value: -0.5487878982248564 and parameters: {'max_depth': 6, 'min_child_weight': 12, 'subsample': 0.9, 'colsample_bytree': 0.5, 'reg_lambda': 0.0038050107470350178, 'reg_alpha': 12.517839129337897, 'feature_fraction': 0.47155044479472774, 'bagging_fraction': 0.4901821521691476, 'bagging_freq': 9}. Best is trial 25 with value: -0.5466579918572985.\u001b[0m\n"
     ]
    },
    {
     "name": "stdout",
     "output_type": "stream",
     "text": [
      "Early stopping, best iteration is:\n",
      "[320]\ttraining's l1: 0.749667\tvalid_1's l1: 0.548789\n",
      "[LightGBM] [Warning] feature_fraction is set=0.4847937337301122, colsample_bytree=0.5 will be ignored. Current value: feature_fraction=0.4847937337301122\n",
      "[LightGBM] [Warning] bagging_fraction is set=0.4383564148067528, subsample=0.9 will be ignored. Current value: bagging_fraction=0.4383564148067528\n",
      "[LightGBM] [Warning] bagging_freq is set=10, subsample_freq=0 will be ignored. Current value: bagging_freq=10\n",
      "Training until validation scores don't improve for 100 rounds\n",
      "[100]\ttraining's l1: 0.758372\tvalid_1's l1: 0.556605\n"
     ]
    },
    {
     "name": "stderr",
     "output_type": "stream",
     "text": [
      "\u001b[32m[I 2021-07-06 14:32:58,981]\u001b[0m Trial 29 finished with value: -0.5565286107687598 and parameters: {'max_depth': 3, 'min_child_weight': 12, 'subsample': 0.9, 'colsample_bytree': 0.5, 'reg_lambda': 0.0026638773118565994, 'reg_alpha': 626.8652795727733, 'feature_fraction': 0.4847937337301122, 'bagging_fraction': 0.4383564148067528, 'bagging_freq': 10}. Best is trial 25 with value: -0.5466579918572985.\u001b[0m\n"
     ]
    },
    {
     "name": "stdout",
     "output_type": "stream",
     "text": [
      "Early stopping, best iteration is:\n",
      "[81]\ttraining's l1: 0.75869\tvalid_1's l1: 0.556529\n",
      "[LightGBM] [Warning] feature_fraction is set=0.5580469058989934, colsample_bytree=0.5 will be ignored. Current value: feature_fraction=0.5580469058989934\n",
      "[LightGBM] [Warning] bagging_fraction is set=0.4988236963537974, subsample=0.9 will be ignored. Current value: bagging_fraction=0.4988236963537974\n",
      "[LightGBM] [Warning] bagging_freq is set=9, subsample_freq=0 will be ignored. Current value: bagging_freq=9\n",
      "Training until validation scores don't improve for 100 rounds\n",
      "[100]\ttraining's l1: 0.760363\tvalid_1's l1: 0.558442\n",
      "[200]\ttraining's l1: 0.757309\tvalid_1's l1: 0.555687\n",
      "[300]\ttraining's l1: 0.754952\tvalid_1's l1: 0.552997\n",
      "[400]\ttraining's l1: 0.754039\tvalid_1's l1: 0.552331\n",
      "[500]\ttraining's l1: 0.753094\tvalid_1's l1: 0.55173\n"
     ]
    },
    {
     "name": "stderr",
     "output_type": "stream",
     "text": [
      "\u001b[32m[I 2021-07-06 14:33:14,845]\u001b[0m Trial 30 finished with value: -0.5515939078339009 and parameters: {'max_depth': 2, 'min_child_weight': 13, 'subsample': 0.9, 'colsample_bytree': 0.5, 'reg_lambda': 0.002614589018930141, 'reg_alpha': 16.47075779989342, 'feature_fraction': 0.5580469058989934, 'bagging_fraction': 0.4988236963537974, 'bagging_freq': 9}. Best is trial 25 with value: -0.5466579918572985.\u001b[0m\n"
     ]
    },
    {
     "name": "stdout",
     "output_type": "stream",
     "text": [
      "Early stopping, best iteration is:\n",
      "[497]\ttraining's l1: 0.753241\tvalid_1's l1: 0.551595\n",
      "[LightGBM] [Warning] feature_fraction is set=0.6250367049228548, colsample_bytree=0.5 will be ignored. Current value: feature_fraction=0.6250367049228548\n",
      "[LightGBM] [Warning] bagging_fraction is set=0.6094583721751701, subsample=0.9 will be ignored. Current value: bagging_fraction=0.6094583721751701\n",
      "[LightGBM] [Warning] bagging_freq is set=9, subsample_freq=0 will be ignored. Current value: bagging_freq=9\n",
      "Training until validation scores don't improve for 100 rounds\n",
      "[100]\ttraining's l1: 0.751509\tvalid_1's l1: 0.550461\n",
      "[200]\ttraining's l1: 0.751498\tvalid_1's l1: 0.550483\n"
     ]
    },
    {
     "name": "stderr",
     "output_type": "stream",
     "text": [
      "\u001b[32m[I 2021-07-06 14:33:24,601]\u001b[0m Trial 31 finished with value: -0.5504582107486641 and parameters: {'max_depth': 6, 'min_child_weight': 16, 'subsample': 0.9, 'colsample_bytree': 0.5, 'reg_lambda': 0.0068476909424747875, 'reg_alpha': 6.810807047008284, 'feature_fraction': 0.6250367049228548, 'bagging_fraction': 0.6094583721751701, 'bagging_freq': 9}. Best is trial 25 with value: -0.5466579918572985.\u001b[0m\n"
     ]
    },
    {
     "name": "stdout",
     "output_type": "stream",
     "text": [
      "Early stopping, best iteration is:\n",
      "[161]\ttraining's l1: 0.751506\tvalid_1's l1: 0.550459\n",
      "[LightGBM] [Warning] feature_fraction is set=0.4721331531096926, colsample_bytree=0.5 will be ignored. Current value: feature_fraction=0.4721331531096926\n",
      "[LightGBM] [Warning] bagging_fraction is set=0.527604793047949, subsample=0.9 will be ignored. Current value: bagging_fraction=0.527604793047949\n",
      "[LightGBM] [Warning] bagging_freq is set=9, subsample_freq=0 will be ignored. Current value: bagging_freq=9\n",
      "Training until validation scores don't improve for 100 rounds\n",
      "[100]\ttraining's l1: 0.750608\tvalid_1's l1: 0.549037\n",
      "[200]\ttraining's l1: 0.750056\tvalid_1's l1: 0.548903\n",
      "[300]\ttraining's l1: 0.749709\tvalid_1's l1: 0.548658\n",
      "[400]\ttraining's l1: 0.74881\tvalid_1's l1: 0.547787\n",
      "[500]\ttraining's l1: 0.748721\tvalid_1's l1: 0.547619\n"
     ]
    },
    {
     "name": "stderr",
     "output_type": "stream",
     "text": [
      "\u001b[32m[I 2021-07-06 14:33:40,569]\u001b[0m Trial 32 finished with value: -0.547609990073484 and parameters: {'max_depth': 5, 'min_child_weight': 8, 'subsample': 0.9, 'colsample_bytree': 0.5, 'reg_lambda': 0.007610494047214809, 'reg_alpha': 15.73015282770345, 'feature_fraction': 0.4721331531096926, 'bagging_fraction': 0.527604793047949, 'bagging_freq': 9}. Best is trial 25 with value: -0.5466579918572985.\u001b[0m\n"
     ]
    },
    {
     "name": "stdout",
     "output_type": "stream",
     "text": [
      "Early stopping, best iteration is:\n",
      "[447]\ttraining's l1: 0.748758\tvalid_1's l1: 0.547615\n",
      "[LightGBM] [Warning] feature_fraction is set=0.46290137256365266, colsample_bytree=0.5 will be ignored. Current value: feature_fraction=0.46290137256365266\n",
      "[LightGBM] [Warning] bagging_fraction is set=0.5209561788816383, subsample=0.9 will be ignored. Current value: bagging_fraction=0.5209561788816383\n",
      "[LightGBM] [Warning] bagging_freq is set=10, subsample_freq=0 will be ignored. Current value: bagging_freq=10\n",
      "Training until validation scores don't improve for 100 rounds\n",
      "[100]\ttraining's l1: 0.753353\tvalid_1's l1: 0.552561\n",
      "[200]\ttraining's l1: 0.752151\tvalid_1's l1: 0.551964\n",
      "[300]\ttraining's l1: 0.751919\tvalid_1's l1: 0.551728\n",
      "[400]\ttraining's l1: 0.751619\tvalid_1's l1: 0.55173\n"
     ]
    },
    {
     "name": "stderr",
     "output_type": "stream",
     "text": [
      "\u001b[32m[I 2021-07-06 14:33:52,957]\u001b[0m Trial 33 finished with value: -0.5517078083737056 and parameters: {'max_depth': 5, 'min_child_weight': 8, 'subsample': 0.9, 'colsample_bytree': 0.5, 'reg_lambda': 0.0012723289135931097, 'reg_alpha': 189.7160088807502, 'feature_fraction': 0.46290137256365266, 'bagging_fraction': 0.5209561788816383, 'bagging_freq': 10}. Best is trial 25 with value: -0.5466579918572985.\u001b[0m\n"
     ]
    },
    {
     "name": "stdout",
     "output_type": "stream",
     "text": [
      "Early stopping, best iteration is:\n",
      "[322]\ttraining's l1: 0.751905\tvalid_1's l1: 0.551713\n",
      "[LightGBM] [Warning] feature_fraction is set=0.5490710256033704, colsample_bytree=0.6 will be ignored. Current value: feature_fraction=0.5490710256033704\n",
      "[LightGBM] [Warning] bagging_fraction is set=0.43884452282445857, subsample=0.8 will be ignored. Current value: bagging_fraction=0.43884452282445857\n",
      "[LightGBM] [Warning] bagging_freq is set=9, subsample_freq=0 will be ignored. Current value: bagging_freq=9\n",
      "Training until validation scores don't improve for 100 rounds\n",
      "[100]\ttraining's l1: 0.75472\tvalid_1's l1: 0.552864\n",
      "[200]\ttraining's l1: 0.753445\tvalid_1's l1: 0.551477\n",
      "[300]\ttraining's l1: 0.752292\tvalid_1's l1: 0.550307\n",
      "[400]\ttraining's l1: 0.751663\tvalid_1's l1: 0.549882\n",
      "[500]\ttraining's l1: 0.751395\tvalid_1's l1: 0.549669\n",
      "[600]\ttraining's l1: 0.750961\tvalid_1's l1: 0.549265\n"
     ]
    },
    {
     "name": "stderr",
     "output_type": "stream",
     "text": [
      "\u001b[32m[I 2021-07-06 14:34:10,343]\u001b[0m Trial 34 finished with value: -0.5492586048865626 and parameters: {'max_depth': 4, 'min_child_weight': 11, 'subsample': 0.8, 'colsample_bytree': 0.6, 'reg_lambda': 0.00399763146088568, 'reg_alpha': 24.47966696485897, 'feature_fraction': 0.5490710256033704, 'bagging_fraction': 0.43884452282445857, 'bagging_freq': 9}. Best is trial 25 with value: -0.5466579918572985.\u001b[0m\n"
     ]
    },
    {
     "name": "stdout",
     "output_type": "stream",
     "text": [
      "Early stopping, best iteration is:\n",
      "[561]\ttraining's l1: 0.750983\tvalid_1's l1: 0.549261\n",
      "[LightGBM] [Warning] feature_fraction is set=0.4723308337505306, colsample_bytree=0.5 will be ignored. Current value: feature_fraction=0.4723308337505306\n",
      "[LightGBM] [Warning] bagging_fraction is set=0.5710186812755152, subsample=0.9 will be ignored. Current value: bagging_fraction=0.5710186812755152\n",
      "[LightGBM] [Warning] bagging_freq is set=7, subsample_freq=0 will be ignored. Current value: bagging_freq=7\n",
      "Training until validation scores don't improve for 100 rounds\n",
      "[100]\ttraining's l1: 0.752723\tvalid_1's l1: 0.551885\n",
      "[200]\ttraining's l1: 0.752612\tvalid_1's l1: 0.551689\n"
     ]
    },
    {
     "name": "stderr",
     "output_type": "stream",
     "text": [
      "\u001b[32m[I 2021-07-06 14:34:19,130]\u001b[0m Trial 35 finished with value: -0.5516825175511743 and parameters: {'max_depth': 9, 'min_child_weight': 9, 'subsample': 0.9, 'colsample_bytree': 0.5, 'reg_lambda': 0.010871951439007724, 'reg_alpha': 53.13972823591906, 'feature_fraction': 0.4723308337505306, 'bagging_fraction': 0.5710186812755152, 'bagging_freq': 7}. Best is trial 25 with value: -0.5466579918572985.\u001b[0m\n"
     ]
    },
    {
     "name": "stdout",
     "output_type": "stream",
     "text": [
      "Early stopping, best iteration is:\n",
      "[141]\ttraining's l1: 0.752623\tvalid_1's l1: 0.551683\n",
      "[LightGBM] [Warning] feature_fraction is set=0.4094620673049679, colsample_bytree=0.5 will be ignored. Current value: feature_fraction=0.4094620673049679\n",
      "[LightGBM] [Warning] bagging_fraction is set=0.4573803960760803, subsample=0.9 will be ignored. Current value: bagging_fraction=0.4573803960760803\n",
      "[LightGBM] [Warning] bagging_freq is set=10, subsample_freq=0 will be ignored. Current value: bagging_freq=10\n",
      "Training until validation scores don't improve for 100 rounds\n",
      "[100]\ttraining's l1: 0.760411\tvalid_1's l1: 0.558288\n",
      "[200]\ttraining's l1: 0.75691\tvalid_1's l1: 0.555439\n",
      "[300]\ttraining's l1: 0.753452\tvalid_1's l1: 0.551973\n",
      "[400]\ttraining's l1: 0.752994\tvalid_1's l1: 0.551442\n",
      "[500]\ttraining's l1: 0.752643\tvalid_1's l1: 0.551236\n",
      "[600]\ttraining's l1: 0.752146\tvalid_1's l1: 0.550763\n",
      "[700]\ttraining's l1: 0.751885\tvalid_1's l1: 0.550208\n",
      "[800]\ttraining's l1: 0.751682\tvalid_1's l1: 0.549955\n",
      "[900]\ttraining's l1: 0.751672\tvalid_1's l1: 0.549954\n",
      "[1000]\ttraining's l1: 0.75166\tvalid_1's l1: 0.549955\n"
     ]
    },
    {
     "name": "stderr",
     "output_type": "stream",
     "text": [
      "\u001b[32m[I 2021-07-06 14:34:40,986]\u001b[0m Trial 36 finished with value: -0.5499463999209544 and parameters: {'max_depth': 2, 'min_child_weight': 8, 'subsample': 0.9, 'colsample_bytree': 0.5, 'reg_lambda': 0.05086232918465355, 'reg_alpha': 3.962880682615901, 'feature_fraction': 0.4094620673049679, 'bagging_fraction': 0.4573803960760803, 'bagging_freq': 10}. Best is trial 25 with value: -0.5466579918572985.\u001b[0m\n"
     ]
    },
    {
     "name": "stdout",
     "output_type": "stream",
     "text": [
      "Early stopping, best iteration is:\n",
      "[920]\ttraining's l1: 0.751665\tvalid_1's l1: 0.549948\n",
      "[LightGBM] [Warning] feature_fraction is set=0.40515882448795215, colsample_bytree=0.6 will be ignored. Current value: feature_fraction=0.40515882448795215\n",
      "[LightGBM] [Warning] bagging_fraction is set=0.5147258432503138, subsample=0.8 will be ignored. Current value: bagging_fraction=0.5147258432503138\n",
      "[LightGBM] [Warning] bagging_freq is set=10, subsample_freq=0 will be ignored. Current value: bagging_freq=10\n",
      "Training until validation scores don't improve for 100 rounds\n",
      "[100]\ttraining's l1: 0.750591\tvalid_1's l1: 0.550207\n",
      "[200]\ttraining's l1: 0.749964\tvalid_1's l1: 0.549596\n",
      "[300]\ttraining's l1: 0.749273\tvalid_1's l1: 0.548708\n"
     ]
    },
    {
     "name": "stderr",
     "output_type": "stream",
     "text": [
      "\u001b[32m[I 2021-07-06 14:34:51,847]\u001b[0m Trial 37 finished with value: -0.5486973987753014 and parameters: {'max_depth': 6, 'min_child_weight': 10, 'subsample': 0.8, 'colsample_bytree': 0.6, 'reg_lambda': 0.0010821585435626885, 'reg_alpha': 6.6589064233606745, 'feature_fraction': 0.40515882448795215, 'bagging_fraction': 0.5147258432503138, 'bagging_freq': 10}. Best is trial 25 with value: -0.5466579918572985.\u001b[0m\n"
     ]
    },
    {
     "name": "stdout",
     "output_type": "stream",
     "text": [
      "Early stopping, best iteration is:\n",
      "[265]\ttraining's l1: 0.749312\tvalid_1's l1: 0.548698\n",
      "[LightGBM] [Warning] feature_fraction is set=0.41773032852027386, colsample_bytree=0.6 will be ignored. Current value: feature_fraction=0.41773032852027386\n",
      "[LightGBM] [Warning] bagging_fraction is set=0.5767133844932331, subsample=0.8 will be ignored. Current value: bagging_fraction=0.5767133844932331\n",
      "[LightGBM] [Warning] bagging_freq is set=10, subsample_freq=0 will be ignored. Current value: bagging_freq=10\n",
      "Training until validation scores don't improve for 100 rounds\n",
      "[100]\ttraining's l1: 0.752815\tvalid_1's l1: 0.551641\n",
      "[200]\ttraining's l1: 0.750831\tvalid_1's l1: 0.550239\n",
      "[300]\ttraining's l1: 0.750205\tvalid_1's l1: 0.549626\n",
      "[400]\ttraining's l1: 0.749924\tvalid_1's l1: 0.549335\n"
     ]
    },
    {
     "name": "stderr",
     "output_type": "stream",
     "text": [
      "\u001b[32m[I 2021-07-06 14:35:04,605]\u001b[0m Trial 38 finished with value: -0.5492833828123326 and parameters: {'max_depth': 4, 'min_child_weight': 10, 'subsample': 0.8, 'colsample_bytree': 0.6, 'reg_lambda': 0.001038343614677848, 'reg_alpha': 4.5075596428274, 'feature_fraction': 0.41773032852027386, 'bagging_fraction': 0.5767133844932331, 'bagging_freq': 10}. Best is trial 25 with value: -0.5466579918572985.\u001b[0m\n"
     ]
    },
    {
     "name": "stdout",
     "output_type": "stream",
     "text": [
      "Early stopping, best iteration is:\n",
      "[339]\ttraining's l1: 0.749972\tvalid_1's l1: 0.549284\n",
      "[LightGBM] [Warning] feature_fraction is set=0.5121578421708688, colsample_bytree=0.6 will be ignored. Current value: feature_fraction=0.5121578421708688\n",
      "[LightGBM] [Warning] bagging_fraction is set=0.40072054115969485, subsample=0.8 will be ignored. Current value: bagging_fraction=0.40072054115969485\n",
      "[LightGBM] [Warning] bagging_freq is set=6, subsample_freq=0 will be ignored. Current value: bagging_freq=6\n",
      "Training until validation scores don't improve for 100 rounds\n",
      "[100]\ttraining's l1: 0.766221\tvalid_1's l1: 0.565676\n"
     ]
    },
    {
     "name": "stderr",
     "output_type": "stream",
     "text": [
      "\u001b[32m[I 2021-07-06 14:35:08,924]\u001b[0m Trial 39 finished with value: -0.5656367986427651 and parameters: {'max_depth': 1, 'min_child_weight': 7, 'subsample': 0.8, 'colsample_bytree': 0.6, 'reg_lambda': 0.001619876533487269, 'reg_alpha': 0.7553524420595925, 'feature_fraction': 0.5121578421708688, 'bagging_fraction': 0.40072054115969485, 'bagging_freq': 6}. Best is trial 25 with value: -0.5466579918572985.\u001b[0m\n"
     ]
    },
    {
     "name": "stdout",
     "output_type": "stream",
     "text": [
      "Early stopping, best iteration is:\n",
      "[35]\ttraining's l1: 0.766239\tvalid_1's l1: 0.565637\n",
      "[LightGBM] [Warning] feature_fraction is set=0.5833171360708186, colsample_bytree=0.7 will be ignored. Current value: feature_fraction=0.5833171360708186\n",
      "[LightGBM] [Warning] bagging_fraction is set=0.5200511159214837, subsample=0.8 will be ignored. Current value: bagging_fraction=0.5200511159214837\n",
      "[LightGBM] [Warning] bagging_freq is set=10, subsample_freq=0 will be ignored. Current value: bagging_freq=10\n",
      "Training until validation scores don't improve for 100 rounds\n",
      "[100]\ttraining's l1: 0.757432\tvalid_1's l1: 0.554602\n",
      "[200]\ttraining's l1: 0.75648\tvalid_1's l1: 0.554349\n",
      "[300]\ttraining's l1: 0.755706\tvalid_1's l1: 0.553739\n",
      "[400]\ttraining's l1: 0.755578\tvalid_1's l1: 0.5537\n",
      "[500]\ttraining's l1: 0.754483\tvalid_1's l1: 0.553091\n",
      "[600]\ttraining's l1: 0.753992\tvalid_1's l1: 0.552815\n",
      "[700]\ttraining's l1: 0.753917\tvalid_1's l1: 0.552863\n",
      "[800]\ttraining's l1: 0.75362\tvalid_1's l1: 0.552609\n"
     ]
    },
    {
     "name": "stderr",
     "output_type": "stream",
     "text": [
      "\u001b[32m[I 2021-07-06 14:35:31,042]\u001b[0m Trial 40 finished with value: -0.5525436178875043 and parameters: {'max_depth': 3, 'min_child_weight': 7, 'subsample': 0.8, 'colsample_bytree': 0.7, 'reg_lambda': 0.010621874199897925, 'reg_alpha': 208.12218716874816, 'feature_fraction': 0.5833171360708186, 'bagging_fraction': 0.5200511159214837, 'bagging_freq': 10}. Best is trial 25 with value: -0.5466579918572985.\u001b[0m\n"
     ]
    },
    {
     "name": "stdout",
     "output_type": "stream",
     "text": [
      "Early stopping, best iteration is:\n",
      "[712]\ttraining's l1: 0.753749\tvalid_1's l1: 0.552546\n",
      "[LightGBM] [Warning] feature_fraction is set=0.4499303398083374, colsample_bytree=0.5 will be ignored. Current value: feature_fraction=0.4499303398083374\n",
      "[LightGBM] [Warning] bagging_fraction is set=0.5044650732028404, subsample=0.9 will be ignored. Current value: bagging_fraction=0.5044650732028404\n",
      "[LightGBM] [Warning] bagging_freq is set=9, subsample_freq=0 will be ignored. Current value: bagging_freq=9\n",
      "Training until validation scores don't improve for 100 rounds\n",
      "[100]\ttraining's l1: 0.750835\tvalid_1's l1: 0.550309\n"
     ]
    },
    {
     "name": "stderr",
     "output_type": "stream",
     "text": [
      "\u001b[32m[I 2021-07-06 14:35:37,362]\u001b[0m Trial 41 finished with value: -0.55025967668754 and parameters: {'max_depth': 6, 'min_child_weight': 12, 'subsample': 0.9, 'colsample_bytree': 0.5, 'reg_lambda': 0.005181287212579527, 'reg_alpha': 11.885472725138984, 'feature_fraction': 0.4499303398083374, 'bagging_fraction': 0.5044650732028404, 'bagging_freq': 9}. Best is trial 25 with value: -0.5466579918572985.\u001b[0m\n"
     ]
    },
    {
     "name": "stdout",
     "output_type": "stream",
     "text": [
      "Early stopping, best iteration is:\n",
      "[82]\ttraining's l1: 0.750901\tvalid_1's l1: 0.55026\n",
      "[LightGBM] [Warning] feature_fraction is set=0.499207368765762, colsample_bytree=0.5 will be ignored. Current value: feature_fraction=0.499207368765762\n",
      "[LightGBM] [Warning] bagging_fraction is set=0.4780521715331577, subsample=0.9 will be ignored. Current value: bagging_fraction=0.4780521715331577\n",
      "[LightGBM] [Warning] bagging_freq is set=9, subsample_freq=0 will be ignored. Current value: bagging_freq=9\n",
      "Training until validation scores don't improve for 100 rounds\n",
      "[100]\ttraining's l1: 0.750936\tvalid_1's l1: 0.55019\n",
      "[200]\ttraining's l1: 0.750293\tvalid_1's l1: 0.549699\n",
      "[300]\ttraining's l1: 0.749425\tvalid_1's l1: 0.548869\n",
      "[400]\ttraining's l1: 0.748939\tvalid_1's l1: 0.548115\n",
      "[500]\ttraining's l1: 0.748693\tvalid_1's l1: 0.548037\n",
      "[600]\ttraining's l1: 0.74824\tvalid_1's l1: 0.547718\n",
      "[700]\ttraining's l1: 0.748192\tvalid_1's l1: 0.547598\n",
      "[800]\ttraining's l1: 0.748007\tvalid_1's l1: 0.547511\n",
      "[900]\ttraining's l1: 0.747996\tvalid_1's l1: 0.547495\n",
      "Early stopping, best iteration is:\n",
      "[806]\ttraining's l1: 0.748001\tvalid_1's l1: 0.547493\n"
     ]
    },
    {
     "name": "stderr",
     "output_type": "stream",
     "text": [
      "\u001b[32m[I 2021-07-06 14:36:01,715]\u001b[0m Trial 42 finished with value: -0.5474876282062685 and parameters: {'max_depth': 5, 'min_child_weight': 10, 'subsample': 0.9, 'colsample_bytree': 0.5, 'reg_lambda': 0.002478504204359687, 'reg_alpha': 2.765281955805063, 'feature_fraction': 0.499207368765762, 'bagging_fraction': 0.4780521715331577, 'bagging_freq': 9}. Best is trial 25 with value: -0.5466579918572985.\u001b[0m\n"
     ]
    },
    {
     "name": "stdout",
     "output_type": "stream",
     "text": [
      "[LightGBM] [Warning] feature_fraction is set=0.5576653909134206, colsample_bytree=0.5 will be ignored. Current value: feature_fraction=0.5576653909134206\n",
      "[LightGBM] [Warning] bagging_fraction is set=0.5365085462669836, subsample=0.9 will be ignored. Current value: bagging_fraction=0.5365085462669836\n",
      "[LightGBM] [Warning] bagging_freq is set=8, subsample_freq=0 will be ignored. Current value: bagging_freq=8\n",
      "Training until validation scores don't improve for 100 rounds\n",
      "[100]\ttraining's l1: 0.751024\tvalid_1's l1: 0.549357\n",
      "[200]\ttraining's l1: 0.750348\tvalid_1's l1: 0.548971\n",
      "[300]\ttraining's l1: 0.750135\tvalid_1's l1: 0.548842\n",
      "[400]\ttraining's l1: 0.750114\tvalid_1's l1: 0.548828\n",
      "[500]\ttraining's l1: 0.748629\tvalid_1's l1: 0.547135\n",
      "[600]\ttraining's l1: 0.747946\tvalid_1's l1: 0.54622\n",
      "[700]\ttraining's l1: 0.74792\tvalid_1's l1: 0.546144\n",
      "[800]\ttraining's l1: 0.747904\tvalid_1's l1: 0.546143\n",
      "Early stopping, best iteration is:\n",
      "[799]\ttraining's l1: 0.747905\tvalid_1's l1: 0.546142\n"
     ]
    },
    {
     "name": "stderr",
     "output_type": "stream",
     "text": [
      "\u001b[32m[I 2021-07-06 14:36:29,399]\u001b[0m Trial 43 finished with value: -0.5461365957975668 and parameters: {'max_depth': 5, 'min_child_weight': 10, 'subsample': 0.9, 'colsample_bytree': 0.5, 'reg_lambda': 0.001995275908891619, 'reg_alpha': 2.3076902948190936, 'feature_fraction': 0.5576653909134206, 'bagging_fraction': 0.5365085462669836, 'bagging_freq': 8}. Best is trial 43 with value: -0.5461365957975668.\u001b[0m\n"
     ]
    },
    {
     "name": "stdout",
     "output_type": "stream",
     "text": [
      "[LightGBM] [Warning] feature_fraction is set=0.5528041219615244, colsample_bytree=0.5 will be ignored. Current value: feature_fraction=0.5528041219615244\n",
      "[LightGBM] [Warning] bagging_fraction is set=0.5464880600350104, subsample=0.9 will be ignored. Current value: bagging_fraction=0.5464880600350104\n",
      "[LightGBM] [Warning] bagging_freq is set=8, subsample_freq=0 will be ignored. Current value: bagging_freq=8\n",
      "Training until validation scores don't improve for 100 rounds\n",
      "[100]\ttraining's l1: 0.754047\tvalid_1's l1: 0.551943\n",
      "[200]\ttraining's l1: 0.753043\tvalid_1's l1: 0.551115\n",
      "[300]\ttraining's l1: 0.75191\tvalid_1's l1: 0.550068\n",
      "[400]\ttraining's l1: 0.751268\tvalid_1's l1: 0.549689\n"
     ]
    },
    {
     "name": "stderr",
     "output_type": "stream",
     "text": [
      "\u001b[32m[I 2021-07-06 14:36:44,353]\u001b[0m Trial 44 finished with value: -0.549680607500037 and parameters: {'max_depth': 4, 'min_child_weight': 8, 'subsample': 0.9, 'colsample_bytree': 0.5, 'reg_lambda': 0.014788509755059069, 'reg_alpha': 2.3457870747326326, 'feature_fraction': 0.5528041219615244, 'bagging_fraction': 0.5464880600350104, 'bagging_freq': 8}. Best is trial 43 with value: -0.5461365957975668.\u001b[0m\n"
     ]
    },
    {
     "name": "stdout",
     "output_type": "stream",
     "text": [
      "Early stopping, best iteration is:\n",
      "[381]\ttraining's l1: 0.751276\tvalid_1's l1: 0.549683\n",
      "[LightGBM] [Warning] feature_fraction is set=0.6027572304710147, colsample_bytree=0.5 will be ignored. Current value: feature_fraction=0.6027572304710147\n",
      "[LightGBM] [Warning] bagging_fraction is set=0.46828381396115637, subsample=0.9 will be ignored. Current value: bagging_fraction=0.46828381396115637\n",
      "[LightGBM] [Warning] bagging_freq is set=9, subsample_freq=0 will be ignored. Current value: bagging_freq=9\n",
      "Training until validation scores don't improve for 100 rounds\n",
      "[100]\ttraining's l1: 0.750173\tvalid_1's l1: 0.549146\n",
      "[200]\ttraining's l1: 0.749725\tvalid_1's l1: 0.548865\n",
      "[300]\ttraining's l1: 0.748368\tvalid_1's l1: 0.547777\n",
      "[400]\ttraining's l1: 0.748316\tvalid_1's l1: 0.547664\n",
      "[500]\ttraining's l1: 0.747887\tvalid_1's l1: 0.546957\n",
      "[600]\ttraining's l1: 0.747836\tvalid_1's l1: 0.546944\n"
     ]
    },
    {
     "name": "stderr",
     "output_type": "stream",
     "text": [
      "\u001b[32m[I 2021-07-06 14:37:02,465]\u001b[0m Trial 45 finished with value: -0.5469271895768784 and parameters: {'max_depth': 5, 'min_child_weight': 9, 'subsample': 0.9, 'colsample_bytree': 0.5, 'reg_lambda': 0.0021296580262199875, 'reg_alpha': 0.5925871576805396, 'feature_fraction': 0.6027572304710147, 'bagging_fraction': 0.46828381396115637, 'bagging_freq': 9}. Best is trial 43 with value: -0.5461365957975668.\u001b[0m\n"
     ]
    },
    {
     "name": "stdout",
     "output_type": "stream",
     "text": [
      "Early stopping, best iteration is:\n",
      "[537]\ttraining's l1: 0.747849\tvalid_1's l1: 0.54693\n",
      "[LightGBM] [Warning] feature_fraction is set=0.6059602900647851, colsample_bytree=0.5 will be ignored. Current value: feature_fraction=0.6059602900647851\n",
      "[LightGBM] [Warning] bagging_fraction is set=0.6422002587977356, subsample=0.9 will be ignored. Current value: bagging_fraction=0.6422002587977356\n",
      "[LightGBM] [Warning] bagging_freq is set=8, subsample_freq=0 will be ignored. Current value: bagging_freq=8\n",
      "Training until validation scores don't improve for 100 rounds\n",
      "[100]\ttraining's l1: 0.752268\tvalid_1's l1: 0.551711\n"
     ]
    },
    {
     "name": "stderr",
     "output_type": "stream",
     "text": [
      "\u001b[32m[I 2021-07-06 14:37:09,999]\u001b[0m Trial 46 finished with value: -0.5517079550424778 and parameters: {'max_depth': 7, 'min_child_weight': 9, 'subsample': 0.9, 'colsample_bytree': 0.5, 'reg_lambda': 0.0023037295661474232, 'reg_alpha': 0.477739938062196, 'feature_fraction': 0.6059602900647851, 'bagging_fraction': 0.6422002587977356, 'bagging_freq': 8}. Best is trial 43 with value: -0.5461365957975668.\u001b[0m\n"
     ]
    },
    {
     "name": "stdout",
     "output_type": "stream",
     "text": [
      "Early stopping, best iteration is:\n",
      "[70]\ttraining's l1: 0.752279\tvalid_1's l1: 0.551708\n",
      "[LightGBM] [Warning] feature_fraction is set=0.5973030875583287, colsample_bytree=0.5 will be ignored. Current value: feature_fraction=0.5973030875583287\n",
      "[LightGBM] [Warning] bagging_fraction is set=0.46972505260904707, subsample=0.9 will be ignored. Current value: bagging_fraction=0.46972505260904707\n",
      "[LightGBM] [Warning] bagging_freq is set=7, subsample_freq=0 will be ignored. Current value: bagging_freq=7\n",
      "Training until validation scores don't improve for 100 rounds\n",
      "[100]\ttraining's l1: 0.75989\tvalid_1's l1: 0.557195\n",
      "[200]\ttraining's l1: 0.758656\tvalid_1's l1: 0.55649\n"
     ]
    },
    {
     "name": "stderr",
     "output_type": "stream",
     "text": [
      "\u001b[32m[I 2021-07-06 14:37:18,060]\u001b[0m Trial 47 finished with value: -0.5564148455539937 and parameters: {'max_depth': 2, 'min_child_weight': 11, 'subsample': 0.9, 'colsample_bytree': 0.5, 'reg_lambda': 0.051601989545326354, 'reg_alpha': 2.182771400875306, 'feature_fraction': 0.5973030875583287, 'bagging_fraction': 0.46972505260904707, 'bagging_freq': 7}. Best is trial 43 with value: -0.5461365957975668.\u001b[0m\n"
     ]
    },
    {
     "name": "stdout",
     "output_type": "stream",
     "text": [
      "Early stopping, best iteration is:\n",
      "[180]\ttraining's l1: 0.758796\tvalid_1's l1: 0.556415\n",
      "[LightGBM] [Warning] feature_fraction is set=0.5642489647855825, colsample_bytree=0.5 will be ignored. Current value: feature_fraction=0.5642489647855825\n",
      "[LightGBM] [Warning] bagging_fraction is set=0.42683699532832464, subsample=0.9 will be ignored. Current value: bagging_fraction=0.42683699532832464\n",
      "[LightGBM] [Warning] bagging_freq is set=9, subsample_freq=0 will be ignored. Current value: bagging_freq=9\n",
      "Training until validation scores don't improve for 100 rounds\n",
      "[100]\ttraining's l1: 0.752124\tvalid_1's l1: 0.550784\n",
      "[200]\ttraining's l1: 0.751212\tvalid_1's l1: 0.550112\n",
      "[300]\ttraining's l1: 0.75019\tvalid_1's l1: 0.549273\n"
     ]
    },
    {
     "name": "stderr",
     "output_type": "stream",
     "text": [
      "\u001b[32m[I 2021-07-06 14:37:29,334]\u001b[0m Trial 48 finished with value: -0.5492679383184511 and parameters: {'max_depth': 7, 'min_child_weight': 9, 'subsample': 0.9, 'colsample_bytree': 0.5, 'reg_lambda': 0.0020204189829653627, 'reg_alpha': 0.10531292976854055, 'feature_fraction': 0.5642489647855825, 'bagging_fraction': 0.42683699532832464, 'bagging_freq': 9}. Best is trial 43 with value: -0.5461365957975668.\u001b[0m\n"
     ]
    },
    {
     "name": "stdout",
     "output_type": "stream",
     "text": [
      "Early stopping, best iteration is:\n",
      "[274]\ttraining's l1: 0.750191\tvalid_1's l1: 0.549269\n",
      "[LightGBM] [Warning] feature_fraction is set=0.6553016183373555, colsample_bytree=0.6 will be ignored. Current value: feature_fraction=0.6553016183373555\n",
      "[LightGBM] [Warning] bagging_fraction is set=0.5846739040015739, subsample=0.9 will be ignored. Current value: bagging_fraction=0.5846739040015739\n",
      "[LightGBM] [Warning] bagging_freq is set=8, subsample_freq=0 will be ignored. Current value: bagging_freq=8\n",
      "Training until validation scores don't improve for 100 rounds\n",
      "[100]\ttraining's l1: 0.75345\tvalid_1's l1: 0.551711\n",
      "[200]\ttraining's l1: 0.752753\tvalid_1's l1: 0.551081\n",
      "[300]\ttraining's l1: 0.752341\tvalid_1's l1: 0.550751\n",
      "[400]\ttraining's l1: 0.752332\tvalid_1's l1: 0.55075\n",
      "[500]\ttraining's l1: 0.752328\tvalid_1's l1: 0.550752\n"
     ]
    },
    {
     "name": "stderr",
     "output_type": "stream",
     "text": [
      "\u001b[32m[I 2021-07-06 14:37:45,876]\u001b[0m Trial 49 finished with value: -0.5507487139100296 and parameters: {'max_depth': 9, 'min_child_weight': 5, 'subsample': 0.9, 'colsample_bytree': 0.6, 'reg_lambda': 0.004319674084021828, 'reg_alpha': 0.5380617115705327, 'feature_fraction': 0.6553016183373555, 'bagging_fraction': 0.5846739040015739, 'bagging_freq': 8}. Best is trial 43 with value: -0.5461365957975668.\u001b[0m\n"
     ]
    },
    {
     "name": "stdout",
     "output_type": "stream",
     "text": [
      "Early stopping, best iteration is:\n",
      "[433]\ttraining's l1: 0.75233\tvalid_1's l1: 0.550749\n",
      "[LightGBM] [Warning] feature_fraction is set=0.5047337540030196, colsample_bytree=0.5 will be ignored. Current value: feature_fraction=0.5047337540030196\n",
      "[LightGBM] [Warning] bagging_fraction is set=0.6538872058873425, subsample=0.9 will be ignored. Current value: bagging_fraction=0.6538872058873425\n",
      "[LightGBM] [Warning] bagging_freq is set=7, subsample_freq=0 will be ignored. Current value: bagging_freq=7\n",
      "Training until validation scores don't improve for 100 rounds\n",
      "[100]\ttraining's l1: 0.757717\tvalid_1's l1: 0.555532\n",
      "[200]\ttraining's l1: 0.75606\tvalid_1's l1: 0.554638\n",
      "[300]\ttraining's l1: 0.755167\tvalid_1's l1: 0.554009\n",
      "[400]\ttraining's l1: 0.754256\tvalid_1's l1: 0.553231\n"
     ]
    },
    {
     "name": "stderr",
     "output_type": "stream",
     "text": [
      "\u001b[32m[I 2021-07-06 14:38:02,004]\u001b[0m Trial 50 finished with value: -0.5532285645859363 and parameters: {'max_depth': 3, 'min_child_weight': 10, 'subsample': 0.9, 'colsample_bytree': 0.5, 'reg_lambda': 744.3128833608938, 'reg_alpha': 3.228731354794323, 'feature_fraction': 0.5047337540030196, 'bagging_fraction': 0.6538872058873425, 'bagging_freq': 7}. Best is trial 43 with value: -0.5461365957975668.\u001b[0m\n"
     ]
    },
    {
     "name": "stdout",
     "output_type": "stream",
     "text": [
      "Early stopping, best iteration is:\n",
      "[395]\ttraining's l1: 0.754256\tvalid_1's l1: 0.553231\n",
      "[LightGBM] [Warning] feature_fraction is set=0.5306194348708113, colsample_bytree=0.5 will be ignored. Current value: feature_fraction=0.5306194348708113\n",
      "[LightGBM] [Warning] bagging_fraction is set=0.45699087574654224, subsample=0.9 will be ignored. Current value: bagging_fraction=0.45699087574654224\n",
      "[LightGBM] [Warning] bagging_freq is set=9, subsample_freq=0 will be ignored. Current value: bagging_freq=9\n",
      "Training until validation scores don't improve for 100 rounds\n",
      "[100]\ttraining's l1: 0.75134\tvalid_1's l1: 0.550616\n",
      "[200]\ttraining's l1: 0.750304\tvalid_1's l1: 0.549606\n",
      "[300]\ttraining's l1: 0.749615\tvalid_1's l1: 0.54898\n"
     ]
    },
    {
     "name": "stderr",
     "output_type": "stream",
     "text": [
      "\u001b[32m[I 2021-07-06 14:38:12,993]\u001b[0m Trial 51 finished with value: -0.5489763594343511 and parameters: {'max_depth': 5, 'min_child_weight': 8, 'subsample': 0.9, 'colsample_bytree': 0.5, 'reg_lambda': 0.005152510329477638, 'reg_alpha': 8.68335209026312, 'feature_fraction': 0.5306194348708113, 'bagging_fraction': 0.45699087574654224, 'bagging_freq': 9}. Best is trial 43 with value: -0.5461365957975668.\u001b[0m\n"
     ]
    },
    {
     "name": "stdout",
     "output_type": "stream",
     "text": [
      "Early stopping, best iteration is:\n",
      "[271]\ttraining's l1: 0.749619\tvalid_1's l1: 0.548977\n",
      "[LightGBM] [Warning] feature_fraction is set=0.6172709343171529, colsample_bytree=0.5 will be ignored. Current value: feature_fraction=0.6172709343171529\n",
      "[LightGBM] [Warning] bagging_fraction is set=0.5468590909543356, subsample=0.9 will be ignored. Current value: bagging_fraction=0.5468590909543356\n",
      "[LightGBM] [Warning] bagging_freq is set=9, subsample_freq=0 will be ignored. Current value: bagging_freq=9\n",
      "Training until validation scores don't improve for 100 rounds\n",
      "[100]\ttraining's l1: 0.751227\tvalid_1's l1: 0.550239\n",
      "[200]\ttraining's l1: 0.750994\tvalid_1's l1: 0.550089\n",
      "[300]\ttraining's l1: 0.75061\tvalid_1's l1: 0.549947\n",
      "[400]\ttraining's l1: 0.749965\tvalid_1's l1: 0.549541\n",
      "[500]\ttraining's l1: 0.749914\tvalid_1's l1: 0.549552\n"
     ]
    },
    {
     "name": "stderr",
     "output_type": "stream",
     "text": [
      "\u001b[32m[I 2021-07-06 14:38:28,982]\u001b[0m Trial 52 finished with value: -0.5495389102506396 and parameters: {'max_depth': 5, 'min_child_weight': 7, 'subsample': 0.9, 'colsample_bytree': 0.5, 'reg_lambda': 0.0018467159046204537, 'reg_alpha': 31.143962709820755, 'feature_fraction': 0.6172709343171529, 'bagging_fraction': 0.5468590909543356, 'bagging_freq': 9}. Best is trial 43 with value: -0.5461365957975668.\u001b[0m\n"
     ]
    },
    {
     "name": "stdout",
     "output_type": "stream",
     "text": [
      "Early stopping, best iteration is:\n",
      "[416]\ttraining's l1: 0.749965\tvalid_1's l1: 0.549541\n",
      "[LightGBM] [Warning] feature_fraction is set=0.5751260916781911, colsample_bytree=0.5 will be ignored. Current value: feature_fraction=0.5751260916781911\n",
      "[LightGBM] [Warning] bagging_fraction is set=0.5399880222705398, subsample=0.9 will be ignored. Current value: bagging_fraction=0.5399880222705398\n",
      "[LightGBM] [Warning] bagging_freq is set=10, subsample_freq=0 will be ignored. Current value: bagging_freq=10\n",
      "Training until validation scores don't improve for 100 rounds\n",
      "[100]\ttraining's l1: 0.753333\tvalid_1's l1: 0.550979\n",
      "[200]\ttraining's l1: 0.75326\tvalid_1's l1: 0.550931\n",
      "[300]\ttraining's l1: 0.751923\tvalid_1's l1: 0.549525\n",
      "[400]\ttraining's l1: 0.751646\tvalid_1's l1: 0.549245\n",
      "[500]\ttraining's l1: 0.751219\tvalid_1's l1: 0.54895\n",
      "[600]\ttraining's l1: 0.750851\tvalid_1's l1: 0.548594\n"
     ]
    },
    {
     "name": "stderr",
     "output_type": "stream",
     "text": [
      "\u001b[32m[I 2021-07-06 14:38:49,057]\u001b[0m Trial 53 finished with value: -0.5485919247062025 and parameters: {'max_depth': 4, 'min_child_weight': 6, 'subsample': 0.9, 'colsample_bytree': 0.5, 'reg_lambda': 0.0067555357062438525, 'reg_alpha': 1.0154450470820335, 'feature_fraction': 0.5751260916781911, 'bagging_fraction': 0.5399880222705398, 'bagging_freq': 10}. Best is trial 43 with value: -0.5461365957975668.\u001b[0m\n"
     ]
    },
    {
     "name": "stdout",
     "output_type": "stream",
     "text": [
      "Early stopping, best iteration is:\n",
      "[578]\ttraining's l1: 0.750852\tvalid_1's l1: 0.548593\n",
      "[LightGBM] [Warning] feature_fraction is set=0.496101441113374, colsample_bytree=0.5 will be ignored. Current value: feature_fraction=0.496101441113374\n",
      "[LightGBM] [Warning] bagging_fraction is set=0.47795038017082214, subsample=0.9 will be ignored. Current value: bagging_fraction=0.47795038017082214\n",
      "[LightGBM] [Warning] bagging_freq is set=8, subsample_freq=0 will be ignored. Current value: bagging_freq=8\n",
      "Training until validation scores don't improve for 100 rounds\n",
      "[100]\ttraining's l1: 0.751853\tvalid_1's l1: 0.551242\n",
      "[200]\ttraining's l1: 0.751415\tvalid_1's l1: 0.55082\n",
      "[300]\ttraining's l1: 0.750912\tvalid_1's l1: 0.550389\n",
      "[400]\ttraining's l1: 0.750502\tvalid_1's l1: 0.550173\n",
      "[500]\ttraining's l1: 0.749766\tvalid_1's l1: 0.548706\n"
     ]
    },
    {
     "name": "stderr",
     "output_type": "stream",
     "text": [
      "\u001b[32m[I 2021-07-06 14:39:06,277]\u001b[0m Trial 54 finished with value: -0.5486933398672914 and parameters: {'max_depth': 7, 'min_child_weight': 5, 'subsample': 0.9, 'colsample_bytree': 0.5, 'reg_lambda': 0.015587838530555561, 'reg_alpha': 4.7647235000827095, 'feature_fraction': 0.496101441113374, 'bagging_fraction': 0.47795038017082214, 'bagging_freq': 8}. Best is trial 43 with value: -0.5461365957975668.\u001b[0m\n"
     ]
    },
    {
     "name": "stdout",
     "output_type": "stream",
     "text": [
      "Early stopping, best iteration is:\n",
      "[490]\ttraining's l1: 0.749773\tvalid_1's l1: 0.548695\n",
      "[LightGBM] [Warning] feature_fraction is set=0.5249655746017166, colsample_bytree=0.6 will be ignored. Current value: feature_fraction=0.5249655746017166\n",
      "[LightGBM] [Warning] bagging_fraction is set=0.6275326539089733, subsample=0.9 will be ignored. Current value: bagging_fraction=0.6275326539089733\n",
      "[LightGBM] [Warning] bagging_freq is set=9, subsample_freq=0 will be ignored. Current value: bagging_freq=9\n",
      "Training until validation scores don't improve for 100 rounds\n",
      "[100]\ttraining's l1: 0.751348\tvalid_1's l1: 0.549838\n",
      "[200]\ttraining's l1: 0.750041\tvalid_1's l1: 0.548871\n",
      "[300]\ttraining's l1: 0.749689\tvalid_1's l1: 0.548463\n",
      "[400]\ttraining's l1: 0.749391\tvalid_1's l1: 0.548246\n",
      "[500]\ttraining's l1: 0.749004\tvalid_1's l1: 0.54766\n",
      "[600]\ttraining's l1: 0.748764\tvalid_1's l1: 0.547575\n"
     ]
    },
    {
     "name": "stderr",
     "output_type": "stream",
     "text": [
      "\u001b[32m[I 2021-07-06 14:39:27,930]\u001b[0m Trial 55 finished with value: -0.54747682064417 and parameters: {'max_depth': 5, 'min_child_weight': 9, 'subsample': 0.9, 'colsample_bytree': 0.6, 'reg_lambda': 0.0029404293652842777, 'reg_alpha': 0.3264751499723092, 'feature_fraction': 0.5249655746017166, 'bagging_fraction': 0.6275326539089733, 'bagging_freq': 9}. Best is trial 43 with value: -0.5461365957975668.\u001b[0m\n"
     ]
    },
    {
     "name": "stdout",
     "output_type": "stream",
     "text": [
      "Early stopping, best iteration is:\n",
      "[547]\ttraining's l1: 0.748953\tvalid_1's l1: 0.54748\n",
      "[LightGBM] [Warning] feature_fraction is set=0.5402446816814135, colsample_bytree=0.6 will be ignored. Current value: feature_fraction=0.5402446816814135\n",
      "[LightGBM] [Warning] bagging_fraction is set=0.6280353266795082, subsample=0.8 will be ignored. Current value: bagging_fraction=0.6280353266795082\n",
      "[LightGBM] [Warning] bagging_freq is set=8, subsample_freq=0 will be ignored. Current value: bagging_freq=8\n",
      "Training until validation scores don't improve for 100 rounds\n",
      "[100]\ttraining's l1: 0.756543\tvalid_1's l1: 0.554233\n",
      "[200]\ttraining's l1: 0.755359\tvalid_1's l1: 0.553157\n",
      "[300]\ttraining's l1: 0.754604\tvalid_1's l1: 0.552825\n",
      "[400]\ttraining's l1: 0.753134\tvalid_1's l1: 0.551107\n",
      "[500]\ttraining's l1: 0.752811\tvalid_1's l1: 0.55086\n",
      "[600]\ttraining's l1: 0.751687\tvalid_1's l1: 0.549722\n",
      "[700]\ttraining's l1: 0.751281\tvalid_1's l1: 0.549408\n"
     ]
    },
    {
     "name": "stderr",
     "output_type": "stream",
     "text": [
      "\u001b[32m[I 2021-07-06 14:39:50,913]\u001b[0m Trial 56 finished with value: -0.5493989327619053 and parameters: {'max_depth': 3, 'min_child_weight': 11, 'subsample': 0.8, 'colsample_bytree': 0.6, 'reg_lambda': 0.0010472846147443803, 'reg_alpha': 0.3053895308808261, 'feature_fraction': 0.5402446816814135, 'bagging_fraction': 0.6280353266795082, 'bagging_freq': 8}. Best is trial 43 with value: -0.5461365957975668.\u001b[0m\n"
     ]
    },
    {
     "name": "stdout",
     "output_type": "stream",
     "text": [
      "Early stopping, best iteration is:\n",
      "[626]\ttraining's l1: 0.751334\tvalid_1's l1: 0.5494\n",
      "[LightGBM] [Warning] feature_fraction is set=0.5811846541053949, colsample_bytree=0.7 will be ignored. Current value: feature_fraction=0.5811846541053949\n",
      "[LightGBM] [Warning] bagging_fraction is set=0.5889531343953177, subsample=0.9 will be ignored. Current value: bagging_fraction=0.5889531343953177\n",
      "[LightGBM] [Warning] bagging_freq is set=10, subsample_freq=0 will be ignored. Current value: bagging_freq=10\n",
      "Training until validation scores don't improve for 100 rounds\n",
      "[100]\ttraining's l1: 0.752516\tvalid_1's l1: 0.550855\n",
      "[200]\ttraining's l1: 0.752497\tvalid_1's l1: 0.55084\n",
      "[300]\ttraining's l1: 0.752202\tvalid_1's l1: 0.550704\n",
      "[400]\ttraining's l1: 0.752161\tvalid_1's l1: 0.550619\n",
      "[500]\ttraining's l1: 0.751931\tvalid_1's l1: 0.550413\n"
     ]
    },
    {
     "name": "stderr",
     "output_type": "stream",
     "text": [
      "\u001b[32m[I 2021-07-06 14:40:09,805]\u001b[0m Trial 57 finished with value: -0.5504072985362417 and parameters: {'max_depth': 8, 'min_child_weight': 13, 'subsample': 0.9, 'colsample_bytree': 0.7, 'reg_lambda': 3.5904070561779227, 'reg_alpha': 0.11750377784071644, 'feature_fraction': 0.5811846541053949, 'bagging_fraction': 0.5889531343953177, 'bagging_freq': 10}. Best is trial 43 with value: -0.5461365957975668.\u001b[0m\n"
     ]
    },
    {
     "name": "stdout",
     "output_type": "stream",
     "text": [
      "Early stopping, best iteration is:\n",
      "[428]\ttraining's l1: 0.751942\tvalid_1's l1: 0.550408\n",
      "[LightGBM] [Warning] feature_fraction is set=0.6485393534575018, colsample_bytree=0.6 will be ignored. Current value: feature_fraction=0.6485393534575018\n",
      "[LightGBM] [Warning] bagging_fraction is set=0.5601197289460033, subsample=0.7 will be ignored. Current value: bagging_fraction=0.5601197289460033\n",
      "[LightGBM] [Warning] bagging_freq is set=9, subsample_freq=0 will be ignored. Current value: bagging_freq=9\n",
      "Training until validation scores don't improve for 100 rounds\n",
      "[100]\ttraining's l1: 0.753621\tvalid_1's l1: 0.55062\n",
      "[200]\ttraining's l1: 0.752504\tvalid_1's l1: 0.549725\n",
      "[300]\ttraining's l1: 0.751622\tvalid_1's l1: 0.54895\n",
      "[400]\ttraining's l1: 0.751586\tvalid_1's l1: 0.548957\n",
      "Early stopping, best iteration is:\n",
      "[305]\ttraining's l1: 0.75162\tvalid_1's l1: 0.54895\n"
     ]
    },
    {
     "name": "stderr",
     "output_type": "stream",
     "text": [
      "\u001b[32m[I 2021-07-06 14:40:21,266]\u001b[0m Trial 58 finished with value: -0.5489487757431503 and parameters: {'max_depth': 4, 'min_child_weight': 9, 'subsample': 0.7, 'colsample_bytree': 0.6, 'reg_lambda': 0.0018774652312816488, 'reg_alpha': 0.043786580493573334, 'feature_fraction': 0.6485393534575018, 'bagging_fraction': 0.5601197289460033, 'bagging_freq': 9}. Best is trial 43 with value: -0.5461365957975668.\u001b[0m\n"
     ]
    },
    {
     "name": "stdout",
     "output_type": "stream",
     "text": [
      "[LightGBM] [Warning] feature_fraction is set=0.7205675774420445, colsample_bytree=0.6 will be ignored. Current value: feature_fraction=0.7205675774420445\n",
      "[LightGBM] [Warning] bagging_fraction is set=0.7091804132062418, subsample=0.8 will be ignored. Current value: bagging_fraction=0.7091804132062418\n",
      "[LightGBM] [Warning] bagging_freq is set=6, subsample_freq=0 will be ignored. Current value: bagging_freq=6\n",
      "Training until validation scores don't improve for 100 rounds\n",
      "[100]\ttraining's l1: 0.766484\tvalid_1's l1: 0.566036\n",
      "[200]\ttraining's l1: 0.766119\tvalid_1's l1: 0.565781\n",
      "[300]\ttraining's l1: 0.766106\tvalid_1's l1: 0.565693\n"
     ]
    },
    {
     "name": "stderr",
     "output_type": "stream",
     "text": [
      "\u001b[32m[I 2021-07-06 14:40:30,613]\u001b[0m Trial 59 finished with value: -0.565689267311712 and parameters: {'max_depth': 1, 'min_child_weight': 10, 'subsample': 0.8, 'colsample_bytree': 0.6, 'reg_lambda': 0.05103424097170505, 'reg_alpha': 0.7664969474017106, 'feature_fraction': 0.7205675774420445, 'bagging_fraction': 0.7091804132062418, 'bagging_freq': 6}. Best is trial 43 with value: -0.5461365957975668.\u001b[0m\n"
     ]
    },
    {
     "name": "stdout",
     "output_type": "stream",
     "text": [
      "Early stopping, best iteration is:\n",
      "[244]\ttraining's l1: 0.766107\tvalid_1's l1: 0.565689\n",
      "[LightGBM] [Warning] feature_fraction is set=0.5204305116097004, colsample_bytree=0.7 will be ignored. Current value: feature_fraction=0.5204305116097004\n",
      "[LightGBM] [Warning] bagging_fraction is set=0.5926678003997485, subsample=0.9 will be ignored. Current value: bagging_fraction=0.5926678003997485\n",
      "[LightGBM] [Warning] bagging_freq is set=10, subsample_freq=0 will be ignored. Current value: bagging_freq=10\n",
      "Training until validation scores don't improve for 100 rounds\n",
      "[100]\ttraining's l1: 0.753218\tvalid_1's l1: 0.55223\n",
      "[200]\ttraining's l1: 0.75258\tvalid_1's l1: 0.551565\n",
      "[300]\ttraining's l1: 0.752121\tvalid_1's l1: 0.551313\n",
      "[400]\ttraining's l1: 0.751889\tvalid_1's l1: 0.551081\n",
      "[500]\ttraining's l1: 0.751858\tvalid_1's l1: 0.55105\n"
     ]
    },
    {
     "name": "stderr",
     "output_type": "stream",
     "text": [
      "\u001b[32m[I 2021-07-06 14:40:48,334]\u001b[0m Trial 60 finished with value: -0.551034990419219 and parameters: {'max_depth': 9, 'min_child_weight': 7, 'subsample': 0.9, 'colsample_bytree': 0.7, 'reg_lambda': 0.00298961813155703, 'reg_alpha': 2.1889991730806186, 'feature_fraction': 0.5204305116097004, 'bagging_fraction': 0.5926678003997485, 'bagging_freq': 10}. Best is trial 43 with value: -0.5461365957975668.\u001b[0m\n"
     ]
    },
    {
     "name": "stdout",
     "output_type": "stream",
     "text": [
      "Early stopping, best iteration is:\n",
      "[423]\ttraining's l1: 0.751869\tvalid_1's l1: 0.551036\n",
      "[LightGBM] [Warning] feature_fraction is set=0.4407431897705245, colsample_bytree=0.5 will be ignored. Current value: feature_fraction=0.4407431897705245\n",
      "[LightGBM] [Warning] bagging_fraction is set=0.6352624834215019, subsample=0.9 will be ignored. Current value: bagging_fraction=0.6352624834215019\n",
      "[LightGBM] [Warning] bagging_freq is set=9, subsample_freq=0 will be ignored. Current value: bagging_freq=9\n",
      "Training until validation scores don't improve for 100 rounds\n",
      "[100]\ttraining's l1: 0.751219\tvalid_1's l1: 0.550207\n",
      "[200]\ttraining's l1: 0.749924\tvalid_1's l1: 0.549202\n",
      "[300]\ttraining's l1: 0.749445\tvalid_1's l1: 0.548727\n",
      "[400]\ttraining's l1: 0.748183\tvalid_1's l1: 0.547121\n",
      "[500]\ttraining's l1: 0.747416\tvalid_1's l1: 0.54624\n"
     ]
    },
    {
     "name": "stderr",
     "output_type": "stream",
     "text": [
      "\u001b[32m[I 2021-07-06 14:41:05,169]\u001b[0m Trial 61 finished with value: -0.5462152293585174 and parameters: {'max_depth': 5, 'min_child_weight': 6, 'subsample': 0.9, 'colsample_bytree': 0.5, 'reg_lambda': 0.013891516237252575, 'reg_alpha': 0.2792085011240226, 'feature_fraction': 0.4407431897705245, 'bagging_fraction': 0.6352624834215019, 'bagging_freq': 9}. Best is trial 43 with value: -0.5461365957975668.\u001b[0m\n"
     ]
    },
    {
     "name": "stdout",
     "output_type": "stream",
     "text": [
      "Early stopping, best iteration is:\n",
      "[422]\ttraining's l1: 0.747432\tvalid_1's l1: 0.546222\n",
      "[LightGBM] [Warning] feature_fraction is set=0.42911765636152016, colsample_bytree=0.5 will be ignored. Current value: feature_fraction=0.42911765636152016\n",
      "[LightGBM] [Warning] bagging_fraction is set=0.6473495187415156, subsample=0.9 will be ignored. Current value: bagging_fraction=0.6473495187415156\n",
      "[LightGBM] [Warning] bagging_freq is set=9, subsample_freq=0 will be ignored. Current value: bagging_freq=9\n",
      "Training until validation scores don't improve for 100 rounds\n",
      "[100]\ttraining's l1: 0.75061\tvalid_1's l1: 0.549531\n",
      "[200]\ttraining's l1: 0.750346\tvalid_1's l1: 0.549418\n",
      "[300]\ttraining's l1: 0.750265\tvalid_1's l1: 0.549321\n",
      "[400]\ttraining's l1: 0.749977\tvalid_1's l1: 0.549161\n",
      "[500]\ttraining's l1: 0.749304\tvalid_1's l1: 0.548437\n"
     ]
    },
    {
     "name": "stderr",
     "output_type": "stream",
     "text": [
      "\u001b[32m[I 2021-07-06 14:41:22,781]\u001b[0m Trial 62 finished with value: -0.5484341484244976 and parameters: {'max_depth': 6, 'min_child_weight': 5, 'subsample': 0.9, 'colsample_bytree': 0.5, 'reg_lambda': 0.003333838734700242, 'reg_alpha': 0.20094024396457338, 'feature_fraction': 0.42911765636152016, 'bagging_fraction': 0.6473495187415156, 'bagging_freq': 9}. Best is trial 43 with value: -0.5461365957975668.\u001b[0m\n"
     ]
    },
    {
     "name": "stdout",
     "output_type": "stream",
     "text": [
      "Early stopping, best iteration is:\n",
      "[433]\ttraining's l1: 0.749325\tvalid_1's l1: 0.548435\n",
      "[LightGBM] [Warning] feature_fraction is set=0.6018508311294484, colsample_bytree=0.5 will be ignored. Current value: feature_fraction=0.6018508311294484\n",
      "[LightGBM] [Warning] bagging_fraction is set=0.6302119259534319, subsample=0.9 will be ignored. Current value: bagging_fraction=0.6302119259534319\n",
      "[LightGBM] [Warning] bagging_freq is set=8, subsample_freq=0 will be ignored. Current value: bagging_freq=8\n",
      "Training until validation scores don't improve for 100 rounds\n",
      "[100]\ttraining's l1: 0.750085\tvalid_1's l1: 0.548467\n"
     ]
    },
    {
     "name": "stderr",
     "output_type": "stream",
     "text": [
      "\u001b[32m[I 2021-07-06 14:41:31,018]\u001b[0m Trial 63 finished with value: -0.54846582066446 and parameters: {'max_depth': 5, 'min_child_weight': 4, 'subsample': 0.9, 'colsample_bytree': 0.5, 'reg_lambda': 0.0014733010905359865, 'reg_alpha': 1.2045378151766117, 'feature_fraction': 0.6018508311294484, 'bagging_fraction': 0.6302119259534319, 'bagging_freq': 8}. Best is trial 43 with value: -0.5461365957975668.\u001b[0m\n"
     ]
    },
    {
     "name": "stdout",
     "output_type": "stream",
     "text": [
      "[200]\ttraining's l1: 0.750061\tvalid_1's l1: 0.548513\n",
      "Early stopping, best iteration is:\n",
      "[102]\ttraining's l1: 0.750085\tvalid_1's l1: 0.548467\n",
      "[LightGBM] [Warning] feature_fraction is set=0.49862853627980225, colsample_bytree=0.5 will be ignored. Current value: feature_fraction=0.49862853627980225\n",
      "[LightGBM] [Warning] bagging_fraction is set=0.6735086166260461, subsample=0.9 will be ignored. Current value: bagging_fraction=0.6735086166260461\n",
      "[LightGBM] [Warning] bagging_freq is set=3, subsample_freq=0 will be ignored. Current value: bagging_freq=3\n",
      "Training until validation scores don't improve for 100 rounds\n",
      "[100]\ttraining's l1: 0.751689\tvalid_1's l1: 0.550807\n",
      "[200]\ttraining's l1: 0.751177\tvalid_1's l1: 0.550459\n",
      "[300]\ttraining's l1: 0.750968\tvalid_1's l1: 0.550166\n",
      "[400]\ttraining's l1: 0.750731\tvalid_1's l1: 0.549907\n",
      "[500]\ttraining's l1: 0.749989\tvalid_1's l1: 0.549011\n",
      "[600]\ttraining's l1: 0.749744\tvalid_1's l1: 0.548848\n",
      "[700]\ttraining's l1: 0.749582\tvalid_1's l1: 0.548668\n",
      "[800]\ttraining's l1: 0.749543\tvalid_1's l1: 0.548574\n",
      "Early stopping, best iteration is:\n",
      "[777]\ttraining's l1: 0.749547\tvalid_1's l1: 0.548571\n"
     ]
    },
    {
     "name": "stderr",
     "output_type": "stream",
     "text": [
      "\u001b[32m[I 2021-07-06 14:42:05,880]\u001b[0m Trial 64 finished with value: -0.5485691360165527 and parameters: {'max_depth': 7, 'min_child_weight': 6, 'subsample': 0.9, 'colsample_bytree': 0.5, 'reg_lambda': 0.016329373991041694, 'reg_alpha': 0.31441442492973587, 'feature_fraction': 0.49862853627980225, 'bagging_fraction': 0.6735086166260461, 'bagging_freq': 3}. Best is trial 43 with value: -0.5461365957975668.\u001b[0m\n"
     ]
    },
    {
     "name": "stdout",
     "output_type": "stream",
     "text": [
      "[LightGBM] [Warning] feature_fraction is set=0.4427651607696013, colsample_bytree=0.5 will be ignored. Current value: feature_fraction=0.4427651607696013\n",
      "[LightGBM] [Warning] bagging_fraction is set=0.6202224175057024, subsample=0.9 will be ignored. Current value: bagging_fraction=0.6202224175057024\n",
      "[LightGBM] [Warning] bagging_freq is set=9, subsample_freq=0 will be ignored. Current value: bagging_freq=9\n",
      "Training until validation scores don't improve for 100 rounds\n",
      "[100]\ttraining's l1: 0.753161\tvalid_1's l1: 0.552016\n",
      "[200]\ttraining's l1: 0.750531\tvalid_1's l1: 0.549298\n",
      "[300]\ttraining's l1: 0.749181\tvalid_1's l1: 0.547231\n",
      "[400]\ttraining's l1: 0.748518\tvalid_1's l1: 0.546591\n",
      "[500]\ttraining's l1: 0.748295\tvalid_1's l1: 0.54642\n"
     ]
    },
    {
     "name": "stderr",
     "output_type": "stream",
     "text": [
      "\u001b[32m[I 2021-07-06 14:42:21,549]\u001b[0m Trial 65 finished with value: -0.5464123815233896 and parameters: {'max_depth': 4, 'min_child_weight': 7, 'subsample': 0.9, 'colsample_bytree': 0.5, 'reg_lambda': 0.005577762829121551, 'reg_alpha': 0.544927404425756, 'feature_fraction': 0.4427651607696013, 'bagging_fraction': 0.6202224175057024, 'bagging_freq': 9}. Best is trial 43 with value: -0.5461365957975668.\u001b[0m\n"
     ]
    },
    {
     "name": "stdout",
     "output_type": "stream",
     "text": [
      "Early stopping, best iteration is:\n",
      "[411]\ttraining's l1: 0.748359\tvalid_1's l1: 0.546415\n",
      "[LightGBM] [Warning] feature_fraction is set=0.4478541778699764, colsample_bytree=0.6 will be ignored. Current value: feature_fraction=0.4478541778699764\n",
      "[LightGBM] [Warning] bagging_fraction is set=0.6989229414715608, subsample=0.9 will be ignored. Current value: bagging_fraction=0.6989229414715608\n",
      "[LightGBM] [Warning] bagging_freq is set=8, subsample_freq=0 will be ignored. Current value: bagging_freq=8\n",
      "Training until validation scores don't improve for 100 rounds\n",
      "[100]\ttraining's l1: 0.757187\tvalid_1's l1: 0.55529\n",
      "[200]\ttraining's l1: 0.753783\tvalid_1's l1: 0.552206\n",
      "[300]\ttraining's l1: 0.752907\tvalid_1's l1: 0.551563\n",
      "[400]\ttraining's l1: 0.752542\tvalid_1's l1: 0.551171\n"
     ]
    },
    {
     "name": "stderr",
     "output_type": "stream",
     "text": [
      "\u001b[32m[I 2021-07-06 14:42:36,985]\u001b[0m Trial 66 finished with value: -0.5511382292725027 and parameters: {'max_depth': 3, 'min_child_weight': 4, 'subsample': 0.9, 'colsample_bytree': 0.6, 'reg_lambda': 0.004937061233021243, 'reg_alpha': 0.6052987792331339, 'feature_fraction': 0.4478541778699764, 'bagging_fraction': 0.6989229414715608, 'bagging_freq': 8}. Best is trial 43 with value: -0.5461365957975668.\u001b[0m\n"
     ]
    },
    {
     "name": "stdout",
     "output_type": "stream",
     "text": [
      "Early stopping, best iteration is:\n",
      "[365]\ttraining's l1: 0.752559\tvalid_1's l1: 0.55114\n",
      "[LightGBM] [Warning] feature_fraction is set=0.6329633963344617, colsample_bytree=0.5 will be ignored. Current value: feature_fraction=0.6329633963344617\n",
      "[LightGBM] [Warning] bagging_fraction is set=0.6151376348640165, subsample=0.9 will be ignored. Current value: bagging_fraction=0.6151376348640165\n",
      "[LightGBM] [Warning] bagging_freq is set=9, subsample_freq=0 will be ignored. Current value: bagging_freq=9\n",
      "Training until validation scores don't improve for 100 rounds\n",
      "[100]\ttraining's l1: 0.753965\tvalid_1's l1: 0.551985\n",
      "[200]\ttraining's l1: 0.752717\tvalid_1's l1: 0.551594\n"
     ]
    },
    {
     "name": "stderr",
     "output_type": "stream",
     "text": [
      "\u001b[32m[I 2021-07-06 14:42:44,966]\u001b[0m Trial 67 finished with value: -0.5515526304270003 and parameters: {'max_depth': 4, 'min_child_weight': 6, 'subsample': 0.9, 'colsample_bytree': 0.5, 'reg_lambda': 0.031611755654807214, 'reg_alpha': 0.018988783129476144, 'feature_fraction': 0.6329633963344617, 'bagging_fraction': 0.6151376348640165, 'bagging_freq': 9}. Best is trial 43 with value: -0.5461365957975668.\u001b[0m\n"
     ]
    },
    {
     "name": "stdout",
     "output_type": "stream",
     "text": [
      "Early stopping, best iteration is:\n",
      "[133]\ttraining's l1: 0.752736\tvalid_1's l1: 0.551554\n",
      "[LightGBM] [Warning] feature_fraction is set=0.6683273524343546, colsample_bytree=0.5 will be ignored. Current value: feature_fraction=0.6683273524343546\n",
      "[LightGBM] [Warning] bagging_fraction is set=0.6618684187086191, subsample=0.9 will be ignored. Current value: bagging_fraction=0.6618684187086191\n",
      "[LightGBM] [Warning] bagging_freq is set=10, subsample_freq=0 will be ignored. Current value: bagging_freq=10\n",
      "Training until validation scores don't improve for 100 rounds\n",
      "[100]\ttraining's l1: 0.759452\tvalid_1's l1: 0.55584\n",
      "[200]\ttraining's l1: 0.758824\tvalid_1's l1: 0.555485\n",
      "[300]\ttraining's l1: 0.757893\tvalid_1's l1: 0.554771\n",
      "[400]\ttraining's l1: 0.757122\tvalid_1's l1: 0.554224\n",
      "[500]\ttraining's l1: 0.756876\tvalid_1's l1: 0.553996\n",
      "[600]\ttraining's l1: 0.756393\tvalid_1's l1: 0.553594\n"
     ]
    },
    {
     "name": "stderr",
     "output_type": "stream",
     "text": [
      "\u001b[32m[I 2021-07-06 14:43:00,912]\u001b[0m Trial 68 finished with value: -0.553593444361312 and parameters: {'max_depth': 2, 'min_child_weight': 7, 'subsample': 0.9, 'colsample_bytree': 0.5, 'reg_lambda': 0.012769516899294786, 'reg_alpha': 0.1300086636520788, 'feature_fraction': 0.6683273524343546, 'bagging_fraction': 0.6618684187086191, 'bagging_freq': 10}. Best is trial 43 with value: -0.5461365957975668.\u001b[0m\n"
     ]
    },
    {
     "name": "stdout",
     "output_type": "stream",
     "text": [
      "Early stopping, best iteration is:\n",
      "[547]\ttraining's l1: 0.756393\tvalid_1's l1: 0.553594\n",
      "[LightGBM] [Warning] feature_fraction is set=0.5642655263613237, colsample_bytree=0.5 will be ignored. Current value: feature_fraction=0.5642655263613237\n",
      "[LightGBM] [Warning] bagging_fraction is set=0.7304143897398927, subsample=0.8 will be ignored. Current value: bagging_fraction=0.7304143897398927\n",
      "[LightGBM] [Warning] bagging_freq is set=9, subsample_freq=0 will be ignored. Current value: bagging_freq=9\n",
      "Training until validation scores don't improve for 100 rounds\n",
      "[100]\ttraining's l1: 0.751327\tvalid_1's l1: 0.550618\n",
      "[200]\ttraining's l1: 0.750855\tvalid_1's l1: 0.550197\n"
     ]
    },
    {
     "name": "stderr",
     "output_type": "stream",
     "text": [
      "\u001b[32m[I 2021-07-06 14:43:10,906]\u001b[0m Trial 69 finished with value: -0.5501749582644778 and parameters: {'max_depth': 6, 'min_child_weight': 8, 'subsample': 0.8, 'colsample_bytree': 0.5, 'reg_lambda': 0.008505225524364928, 'reg_alpha': 0.06655704514813397, 'feature_fraction': 0.5642655263613237, 'bagging_fraction': 0.7304143897398927, 'bagging_freq': 9}. Best is trial 43 with value: -0.5461365957975668.\u001b[0m\n"
     ]
    },
    {
     "name": "stdout",
     "output_type": "stream",
     "text": [
      "Early stopping, best iteration is:\n",
      "[123]\ttraining's l1: 0.750872\tvalid_1's l1: 0.550189\n",
      "[LightGBM] [Warning] feature_fraction is set=0.5360996996829023, colsample_bytree=0.6 will be ignored. Current value: feature_fraction=0.5360996996829023\n",
      "[LightGBM] [Warning] bagging_fraction is set=0.6252780676917458, subsample=0.9 will be ignored. Current value: bagging_fraction=0.6252780676917458\n",
      "[LightGBM] [Warning] bagging_freq is set=10, subsample_freq=0 will be ignored. Current value: bagging_freq=10\n",
      "Training until validation scores don't improve for 100 rounds\n",
      "[100]\ttraining's l1: 0.752993\tvalid_1's l1: 0.552202\n",
      "[200]\ttraining's l1: 0.752605\tvalid_1's l1: 0.55178\n",
      "[300]\ttraining's l1: 0.752015\tvalid_1's l1: 0.551269\n",
      "[400]\ttraining's l1: 0.751769\tvalid_1's l1: 0.551047\n",
      "[500]\ttraining's l1: 0.751598\tvalid_1's l1: 0.550628\n"
     ]
    },
    {
     "name": "stderr",
     "output_type": "stream",
     "text": [
      "\u001b[32m[I 2021-07-06 14:43:29,467]\u001b[0m Trial 70 finished with value: -0.5506104051983167 and parameters: {'max_depth': 8, 'min_child_weight': 20, 'subsample': 0.9, 'colsample_bytree': 0.6, 'reg_lambda': 20.5221264711145, 'reg_alpha': 0.31124129629766256, 'feature_fraction': 0.5360996996829023, 'bagging_fraction': 0.6252780676917458, 'bagging_freq': 10}. Best is trial 43 with value: -0.5461365957975668.\u001b[0m\n"
     ]
    },
    {
     "name": "stdout",
     "output_type": "stream",
     "text": [
      "Early stopping, best iteration is:\n",
      "[424]\ttraining's l1: 0.751608\tvalid_1's l1: 0.550612\n",
      "[LightGBM] [Warning] feature_fraction is set=0.4853942619251693, colsample_bytree=0.5 will be ignored. Current value: feature_fraction=0.4853942619251693\n",
      "[LightGBM] [Warning] bagging_fraction is set=0.5614791237960531, subsample=0.9 will be ignored. Current value: bagging_fraction=0.5614791237960531\n",
      "[LightGBM] [Warning] bagging_freq is set=9, subsample_freq=0 will be ignored. Current value: bagging_freq=9\n",
      "Training until validation scores don't improve for 100 rounds\n",
      "[100]\ttraining's l1: 0.750038\tvalid_1's l1: 0.547884\n",
      "[200]\ttraining's l1: 0.748984\tvalid_1's l1: 0.54678\n",
      "[300]\ttraining's l1: 0.748667\tvalid_1's l1: 0.546466\n",
      "[400]\ttraining's l1: 0.748567\tvalid_1's l1: 0.546326\n",
      "[500]\ttraining's l1: 0.748483\tvalid_1's l1: 0.546246\n",
      "[600]\ttraining's l1: 0.748157\tvalid_1's l1: 0.545961\n",
      "[700]\ttraining's l1: 0.747833\tvalid_1's l1: 0.545505\n",
      "Early stopping, best iteration is:\n",
      "[655]\ttraining's l1: 0.747841\tvalid_1's l1: 0.545486\n"
     ]
    },
    {
     "name": "stderr",
     "output_type": "stream",
     "text": [
      "\u001b[32m[I 2021-07-06 14:43:51,857]\u001b[0m Trial 71 finished with value: -0.5454800100294694 and parameters: {'max_depth': 5, 'min_child_weight': 9, 'subsample': 0.9, 'colsample_bytree': 0.5, 'reg_lambda': 0.0032131873618056832, 'reg_alpha': 1.299921697799419, 'feature_fraction': 0.4853942619251693, 'bagging_fraction': 0.5614791237960531, 'bagging_freq': 9}. Best is trial 71 with value: -0.5454800100294694.\u001b[0m\n"
     ]
    },
    {
     "name": "stdout",
     "output_type": "stream",
     "text": [
      "[LightGBM] [Warning] feature_fraction is set=0.4840374347233639, colsample_bytree=0.5 will be ignored. Current value: feature_fraction=0.4840374347233639\n",
      "[LightGBM] [Warning] bagging_fraction is set=0.5979981224342055, subsample=0.9 will be ignored. Current value: bagging_fraction=0.5979981224342055\n",
      "[LightGBM] [Warning] bagging_freq is set=9, subsample_freq=0 will be ignored. Current value: bagging_freq=9\n",
      "Training until validation scores don't improve for 100 rounds\n",
      "[100]\ttraining's l1: 0.751003\tvalid_1's l1: 0.5501\n",
      "[200]\ttraining's l1: 0.75032\tvalid_1's l1: 0.549351\n",
      "[300]\ttraining's l1: 0.74961\tvalid_1's l1: 0.548707\n"
     ]
    },
    {
     "name": "stderr",
     "output_type": "stream",
     "text": [
      "\u001b[32m[I 2021-07-06 14:44:04,524]\u001b[0m Trial 72 finished with value: -0.548695366561591 and parameters: {'max_depth': 5, 'min_child_weight': 9, 'subsample': 0.9, 'colsample_bytree': 0.5, 'reg_lambda': 0.005551534714027689, 'reg_alpha': 1.3735943534237864, 'feature_fraction': 0.4840374347233639, 'bagging_fraction': 0.5979981224342055, 'bagging_freq': 9}. Best is trial 71 with value: -0.5454800100294694.\u001b[0m\n"
     ]
    },
    {
     "name": "stdout",
     "output_type": "stream",
     "text": [
      "Early stopping, best iteration is:\n",
      "[280]\ttraining's l1: 0.749628\tvalid_1's l1: 0.548696\n",
      "[LightGBM] [Warning] feature_fraction is set=0.44007801546018116, colsample_bytree=0.5 will be ignored. Current value: feature_fraction=0.44007801546018116\n",
      "[LightGBM] [Warning] bagging_fraction is set=0.5588449373812469, subsample=0.9 will be ignored. Current value: bagging_fraction=0.5588449373812469\n",
      "[LightGBM] [Warning] bagging_freq is set=8, subsample_freq=0 will be ignored. Current value: bagging_freq=8\n",
      "Training until validation scores don't improve for 100 rounds\n",
      "[100]\ttraining's l1: 0.752905\tvalid_1's l1: 0.551069\n",
      "[200]\ttraining's l1: 0.751737\tvalid_1's l1: 0.550227\n",
      "[300]\ttraining's l1: 0.750975\tvalid_1's l1: 0.549547\n",
      "[400]\ttraining's l1: 0.750496\tvalid_1's l1: 0.549053\n",
      "[500]\ttraining's l1: 0.750263\tvalid_1's l1: 0.548751\n"
     ]
    },
    {
     "name": "stderr",
     "output_type": "stream",
     "text": [
      "\u001b[32m[I 2021-07-06 14:44:19,642]\u001b[0m Trial 73 finished with value: -0.54871581221048 and parameters: {'max_depth': 4, 'min_child_weight': 5, 'subsample': 0.9, 'colsample_bytree': 0.5, 'reg_lambda': 0.0034578519307669688, 'reg_alpha': 0.1806861917963112, 'feature_fraction': 0.44007801546018116, 'bagging_fraction': 0.5588449373812469, 'bagging_freq': 8}. Best is trial 71 with value: -0.5454800100294694.\u001b[0m\n"
     ]
    },
    {
     "name": "stdout",
     "output_type": "stream",
     "text": [
      "Early stopping, best iteration is:\n",
      "[425]\ttraining's l1: 0.750286\tvalid_1's l1: 0.548719\n",
      "[LightGBM] [Warning] feature_fraction is set=0.5161343590384262, colsample_bytree=0.5 will be ignored. Current value: feature_fraction=0.5161343590384262\n",
      "[LightGBM] [Warning] bagging_fraction is set=0.5745070718817642, subsample=0.9 will be ignored. Current value: bagging_fraction=0.5745070718817642\n",
      "[LightGBM] [Warning] bagging_freq is set=9, subsample_freq=0 will be ignored. Current value: bagging_freq=9\n",
      "Training until validation scores don't improve for 100 rounds\n",
      "[100]\ttraining's l1: 0.751187\tvalid_1's l1: 0.550889\n",
      "[200]\ttraining's l1: 0.750875\tvalid_1's l1: 0.550735\n"
     ]
    },
    {
     "name": "stderr",
     "output_type": "stream",
     "text": [
      "\u001b[32m[I 2021-07-06 14:44:28,599]\u001b[0m Trial 74 finished with value: -0.5507221806464656 and parameters: {'max_depth': 6, 'min_child_weight': 8, 'subsample': 0.9, 'colsample_bytree': 0.5, 'reg_lambda': 0.16118936717170418, 'reg_alpha': 0.4192525953936743, 'feature_fraction': 0.5161343590384262, 'bagging_fraction': 0.5745070718817642, 'bagging_freq': 9}. Best is trial 71 with value: -0.5454800100294694.\u001b[0m\n"
     ]
    },
    {
     "name": "stdout",
     "output_type": "stream",
     "text": [
      "Early stopping, best iteration is:\n",
      "[141]\ttraining's l1: 0.750908\tvalid_1's l1: 0.550723\n",
      "[LightGBM] [Warning] feature_fraction is set=0.4620718735951864, colsample_bytree=0.5 will be ignored. Current value: feature_fraction=0.4620718735951864\n",
      "[LightGBM] [Warning] bagging_fraction is set=0.5995871917742216, subsample=0.9 will be ignored. Current value: bagging_fraction=0.5995871917742216\n",
      "[LightGBM] [Warning] bagging_freq is set=10, subsample_freq=0 will be ignored. Current value: bagging_freq=10\n",
      "Training until validation scores don't improve for 100 rounds\n",
      "[100]\ttraining's l1: 0.753741\tvalid_1's l1: 0.552004\n",
      "[200]\ttraining's l1: 0.751946\tvalid_1's l1: 0.549982\n",
      "[300]\ttraining's l1: 0.750518\tvalid_1's l1: 0.548387\n",
      "[400]\ttraining's l1: 0.749442\tvalid_1's l1: 0.547657\n",
      "[500]\ttraining's l1: 0.748453\tvalid_1's l1: 0.54682\n"
     ]
    },
    {
     "name": "stderr",
     "output_type": "stream",
     "text": [
      "\u001b[32m[I 2021-07-06 14:44:46,184]\u001b[0m Trial 75 finished with value: -0.5468183762448469 and parameters: {'max_depth': 4, 'min_child_weight': 7, 'subsample': 0.9, 'colsample_bytree': 0.5, 'reg_lambda': 0.0016835545448711006, 'reg_alpha': 0.8673523161802792, 'feature_fraction': 0.4620718735951864, 'bagging_fraction': 0.5995871917742216, 'bagging_freq': 10}. Best is trial 71 with value: -0.5454800100294694.\u001b[0m\n"
     ]
    },
    {
     "name": "stdout",
     "output_type": "stream",
     "text": [
      "Early stopping, best iteration is:\n",
      "[489]\ttraining's l1: 0.748454\tvalid_1's l1: 0.54682\n",
      "[LightGBM] [Warning] feature_fraction is set=0.40112679782466193, colsample_bytree=0.5 will be ignored. Current value: feature_fraction=0.40112679782466193\n",
      "[LightGBM] [Warning] bagging_fraction is set=0.5297417457728213, subsample=0.9 will be ignored. Current value: bagging_fraction=0.5297417457728213\n",
      "[LightGBM] [Warning] bagging_freq is set=10, subsample_freq=0 will be ignored. Current value: bagging_freq=10\n",
      "Training until validation scores don't improve for 100 rounds\n",
      "[100]\ttraining's l1: 0.755822\tvalid_1's l1: 0.553693\n",
      "[200]\ttraining's l1: 0.754429\tvalid_1's l1: 0.552687\n",
      "[300]\ttraining's l1: 0.75277\tvalid_1's l1: 0.550834\n",
      "[400]\ttraining's l1: 0.751809\tvalid_1's l1: 0.549639\n",
      "[500]\ttraining's l1: 0.751402\tvalid_1's l1: 0.549503\n"
     ]
    },
    {
     "name": "stderr",
     "output_type": "stream",
     "text": [
      "\u001b[32m[I 2021-07-06 14:45:00,458]\u001b[0m Trial 76 finished with value: -0.5494884579607777 and parameters: {'max_depth': 3, 'min_child_weight': 7, 'subsample': 0.9, 'colsample_bytree': 0.5, 'reg_lambda': 0.0014584166545981532, 'reg_alpha': 1.702163407968647, 'feature_fraction': 0.40112679782466193, 'bagging_fraction': 0.5297417457728213, 'bagging_freq': 10}. Best is trial 71 with value: -0.5454800100294694.\u001b[0m\n"
     ]
    },
    {
     "name": "stdout",
     "output_type": "stream",
     "text": [
      "Early stopping, best iteration is:\n",
      "[454]\ttraining's l1: 0.751435\tvalid_1's l1: 0.549491\n",
      "[LightGBM] [Warning] feature_fraction is set=0.42230945957332705, colsample_bytree=0.5 will be ignored. Current value: feature_fraction=0.42230945957332705\n",
      "[LightGBM] [Warning] bagging_fraction is set=0.6017938313728876, subsample=0.8 will be ignored. Current value: bagging_fraction=0.6017938313728876\n",
      "[LightGBM] [Warning] bagging_freq is set=10, subsample_freq=0 will be ignored. Current value: bagging_freq=10\n",
      "Training until validation scores don't improve for 100 rounds\n",
      "[100]\ttraining's l1: 0.752505\tvalid_1's l1: 0.550756\n",
      "[200]\ttraining's l1: 0.751491\tvalid_1's l1: 0.549829\n",
      "[300]\ttraining's l1: 0.750145\tvalid_1's l1: 0.548421\n",
      "[400]\ttraining's l1: 0.749417\tvalid_1's l1: 0.54788\n",
      "[500]\ttraining's l1: 0.748945\tvalid_1's l1: 0.547669\n"
     ]
    },
    {
     "name": "stderr",
     "output_type": "stream",
     "text": [
      "\u001b[32m[I 2021-07-06 14:45:16,610]\u001b[0m Trial 77 finished with value: -0.5476547824098945 and parameters: {'max_depth': 4, 'min_child_weight': 6, 'subsample': 0.8, 'colsample_bytree': 0.5, 'reg_lambda': 0.6164086893604794, 'reg_alpha': 0.8999975924817339, 'feature_fraction': 0.42230945957332705, 'bagging_fraction': 0.6017938313728876, 'bagging_freq': 10}. Best is trial 71 with value: -0.5454800100294694.\u001b[0m\n"
     ]
    },
    {
     "name": "stdout",
     "output_type": "stream",
     "text": [
      "Early stopping, best iteration is:\n",
      "[444]\ttraining's l1: 0.748952\tvalid_1's l1: 0.547657\n",
      "[LightGBM] [Warning] feature_fraction is set=0.46907500180831835, colsample_bytree=0.5 will be ignored. Current value: feature_fraction=0.46907500180831835\n",
      "[LightGBM] [Warning] bagging_fraction is set=0.5038939661263353, subsample=0.9 will be ignored. Current value: bagging_fraction=0.5038939661263353\n",
      "[LightGBM] [Warning] bagging_freq is set=10, subsample_freq=0 will be ignored. Current value: bagging_freq=10\n",
      "Training until validation scores don't improve for 100 rounds\n",
      "[100]\ttraining's l1: 0.760474\tvalid_1's l1: 0.558602\n",
      "[200]\ttraining's l1: 0.759157\tvalid_1's l1: 0.55779\n",
      "[300]\ttraining's l1: 0.755761\tvalid_1's l1: 0.554088\n",
      "[400]\ttraining's l1: 0.754193\tvalid_1's l1: 0.552618\n",
      "[500]\ttraining's l1: 0.75314\tvalid_1's l1: 0.551332\n",
      "[600]\ttraining's l1: 0.752897\tvalid_1's l1: 0.551355\n",
      "[700]\ttraining's l1: 0.752527\tvalid_1's l1: 0.550974\n",
      "[800]\ttraining's l1: 0.752077\tvalid_1's l1: 0.550733\n"
     ]
    },
    {
     "name": "stderr",
     "output_type": "stream",
     "text": [
      "\u001b[32m[I 2021-07-06 14:45:37,415]\u001b[0m Trial 78 finished with value: -0.5506482668524093 and parameters: {'max_depth': 2, 'min_child_weight': 7, 'subsample': 0.9, 'colsample_bytree': 0.5, 'reg_lambda': 0.009248607610387132, 'reg_alpha': 0.6325791814759767, 'feature_fraction': 0.46907500180831835, 'bagging_fraction': 0.5038939661263353, 'bagging_freq': 10}. Best is trial 71 with value: -0.5454800100294694.\u001b[0m\n"
     ]
    },
    {
     "name": "stdout",
     "output_type": "stream",
     "text": [
      "Early stopping, best iteration is:\n",
      "[771]\ttraining's l1: 0.752216\tvalid_1's l1: 0.550653\n",
      "[LightGBM] [Warning] feature_fraction is set=0.45566368259375467, colsample_bytree=0.5 will be ignored. Current value: feature_fraction=0.45566368259375467\n",
      "[LightGBM] [Warning] bagging_fraction is set=0.5608444220361746, subsample=0.9 will be ignored. Current value: bagging_fraction=0.5608444220361746\n",
      "[LightGBM] [Warning] bagging_freq is set=9, subsample_freq=0 will be ignored. Current value: bagging_freq=9\n",
      "Training until validation scores don't improve for 100 rounds\n",
      "[100]\ttraining's l1: 0.751818\tvalid_1's l1: 0.551345\n",
      "[200]\ttraining's l1: 0.751551\tvalid_1's l1: 0.551048\n",
      "[300]\ttraining's l1: 0.750481\tvalid_1's l1: 0.54964\n",
      "[400]\ttraining's l1: 0.750099\tvalid_1's l1: 0.549206\n",
      "[500]\ttraining's l1: 0.750091\tvalid_1's l1: 0.549201\n"
     ]
    },
    {
     "name": "stderr",
     "output_type": "stream",
     "text": [
      "\u001b[32m[I 2021-07-06 14:45:54,776]\u001b[0m Trial 79 finished with value: -0.549193464498205 and parameters: {'max_depth': 7, 'min_child_weight': 4, 'subsample': 0.9, 'colsample_bytree': 0.5, 'reg_lambda': 0.001138813158213242, 'reg_alpha': 4.5744177299615965, 'feature_fraction': 0.45566368259375467, 'bagging_fraction': 0.5608444220361746, 'bagging_freq': 9}. Best is trial 71 with value: -0.5454800100294694.\u001b[0m\n"
     ]
    },
    {
     "name": "stdout",
     "output_type": "stream",
     "text": [
      "Early stopping, best iteration is:\n",
      "[453]\ttraining's l1: 0.750096\tvalid_1's l1: 0.549195\n",
      "[LightGBM] [Warning] feature_fraction is set=0.48363347129963696, colsample_bytree=0.5 will be ignored. Current value: feature_fraction=0.48363347129963696\n",
      "[LightGBM] [Warning] bagging_fraction is set=0.6844216501049277, subsample=0.9 will be ignored. Current value: bagging_fraction=0.6844216501049277\n",
      "[LightGBM] [Warning] bagging_freq is set=10, subsample_freq=0 will be ignored. Current value: bagging_freq=10\n",
      "Training until validation scores don't improve for 100 rounds\n",
      "[100]\ttraining's l1: 0.749691\tvalid_1's l1: 0.547487\n",
      "[200]\ttraining's l1: 0.749272\tvalid_1's l1: 0.547213\n",
      "[300]\ttraining's l1: 0.748623\tvalid_1's l1: 0.546119\n"
     ]
    },
    {
     "name": "stderr",
     "output_type": "stream",
     "text": [
      "\u001b[32m[I 2021-07-06 14:46:07,763]\u001b[0m Trial 80 finished with value: -0.5461078977500253 and parameters: {'max_depth': 5, 'min_child_weight': 8, 'subsample': 0.9, 'colsample_bytree': 0.5, 'reg_lambda': 0.0020320568538954725, 'reg_alpha': 1.6790395155625035, 'feature_fraction': 0.48363347129963696, 'bagging_fraction': 0.6844216501049277, 'bagging_freq': 10}. Best is trial 71 with value: -0.5454800100294694.\u001b[0m\n"
     ]
    },
    {
     "name": "stdout",
     "output_type": "stream",
     "text": [
      "Early stopping, best iteration is:\n",
      "[247]\ttraining's l1: 0.74863\tvalid_1's l1: 0.546114\n",
      "[LightGBM] [Warning] feature_fraction is set=0.48323009149646207, colsample_bytree=0.5 will be ignored. Current value: feature_fraction=0.48323009149646207\n",
      "[LightGBM] [Warning] bagging_fraction is set=0.6866214553306853, subsample=0.9 will be ignored. Current value: bagging_fraction=0.6866214553306853\n",
      "[LightGBM] [Warning] bagging_freq is set=10, subsample_freq=0 will be ignored. Current value: bagging_freq=10\n",
      "Training until validation scores don't improve for 100 rounds\n",
      "[100]\ttraining's l1: 0.751921\tvalid_1's l1: 0.550764\n",
      "[200]\ttraining's l1: 0.750808\tvalid_1's l1: 0.549789\n",
      "[300]\ttraining's l1: 0.749904\tvalid_1's l1: 0.548876\n",
      "[400]\ttraining's l1: 0.749007\tvalid_1's l1: 0.548087\n",
      "[500]\ttraining's l1: 0.748688\tvalid_1's l1: 0.547955\n"
     ]
    },
    {
     "name": "stderr",
     "output_type": "stream",
     "text": [
      "\u001b[32m[I 2021-07-06 14:46:26,815]\u001b[0m Trial 81 finished with value: -0.5479320293502375 and parameters: {'max_depth': 5, 'min_child_weight': 8, 'subsample': 0.9, 'colsample_bytree': 0.5, 'reg_lambda': 0.002022850669312114, 'reg_alpha': 0.9582582854434464, 'feature_fraction': 0.48323009149646207, 'bagging_fraction': 0.6866214553306853, 'bagging_freq': 10}. Best is trial 71 with value: -0.5454800100294694.\u001b[0m\n"
     ]
    },
    {
     "name": "stdout",
     "output_type": "stream",
     "text": [
      "Early stopping, best iteration is:\n",
      "[445]\ttraining's l1: 0.748694\tvalid_1's l1: 0.547933\n",
      "[LightGBM] [Warning] feature_fraction is set=0.4466538371117596, colsample_bytree=0.5 will be ignored. Current value: feature_fraction=0.4466538371117596\n",
      "[LightGBM] [Warning] bagging_fraction is set=0.6620168011311275, subsample=0.9 will be ignored. Current value: bagging_fraction=0.6620168011311275\n",
      "[LightGBM] [Warning] bagging_freq is set=10, subsample_freq=0 will be ignored. Current value: bagging_freq=10\n",
      "Training until validation scores don't improve for 100 rounds\n",
      "[100]\ttraining's l1: 0.750991\tvalid_1's l1: 0.549651\n",
      "[200]\ttraining's l1: 0.750091\tvalid_1's l1: 0.548866\n",
      "[300]\ttraining's l1: 0.749778\tvalid_1's l1: 0.548514\n"
     ]
    },
    {
     "name": "stderr",
     "output_type": "stream",
     "text": [
      "\u001b[32m[I 2021-07-06 14:46:40,409]\u001b[0m Trial 82 finished with value: -0.5485117364053087 and parameters: {'max_depth': 6, 'min_child_weight': 6, 'subsample': 0.9, 'colsample_bytree': 0.5, 'reg_lambda': 0.00404996621401075, 'reg_alpha': 1.7510016530435415, 'feature_fraction': 0.4466538371117596, 'bagging_fraction': 0.6620168011311275, 'bagging_freq': 10}. Best is trial 71 with value: -0.5454800100294694.\u001b[0m\n"
     ]
    },
    {
     "name": "stdout",
     "output_type": "stream",
     "text": [
      "Early stopping, best iteration is:\n",
      "[289]\ttraining's l1: 0.749782\tvalid_1's l1: 0.548513\n",
      "[LightGBM] [Warning] feature_fraction is set=0.5459075382535243, colsample_bytree=0.5 will be ignored. Current value: feature_fraction=0.5459075382535243\n",
      "[LightGBM] [Warning] bagging_fraction is set=0.5815595644496961, subsample=0.9 will be ignored. Current value: bagging_fraction=0.5815595644496961\n",
      "[LightGBM] [Warning] bagging_freq is set=9, subsample_freq=0 will be ignored. Current value: bagging_freq=9\n",
      "Training until validation scores don't improve for 100 rounds\n",
      "[100]\ttraining's l1: 0.753277\tvalid_1's l1: 0.55015\n",
      "[200]\ttraining's l1: 0.752825\tvalid_1's l1: 0.549939\n",
      "[300]\ttraining's l1: 0.751688\tvalid_1's l1: 0.548999\n",
      "[400]\ttraining's l1: 0.750727\tvalid_1's l1: 0.548153\n",
      "[500]\ttraining's l1: 0.750337\tvalid_1's l1: 0.547866\n"
     ]
    },
    {
     "name": "stderr",
     "output_type": "stream",
     "text": [
      "\u001b[32m[I 2021-07-06 14:46:58,060]\u001b[0m Trial 83 finished with value: -0.5478288323956602 and parameters: {'max_depth': 4, 'min_child_weight': 9, 'subsample': 0.9, 'colsample_bytree': 0.5, 'reg_lambda': 0.006170532997993901, 'reg_alpha': 0.2344236027990325, 'feature_fraction': 0.5459075382535243, 'bagging_fraction': 0.5815595644496961, 'bagging_freq': 9}. Best is trial 71 with value: -0.5454800100294694.\u001b[0m\n"
     ]
    },
    {
     "name": "stdout",
     "output_type": "stream",
     "text": [
      "Early stopping, best iteration is:\n",
      "[461]\ttraining's l1: 0.750347\tvalid_1's l1: 0.547831\n",
      "[LightGBM] [Warning] feature_fraction is set=0.43138709758102944, colsample_bytree=0.5 will be ignored. Current value: feature_fraction=0.43138709758102944\n",
      "[LightGBM] [Warning] bagging_fraction is set=0.6427399629827135, subsample=0.9 will be ignored. Current value: bagging_fraction=0.6427399629827135\n",
      "[LightGBM] [Warning] bagging_freq is set=9, subsample_freq=0 will be ignored. Current value: bagging_freq=9\n",
      "Training until validation scores don't improve for 100 rounds\n",
      "[100]\ttraining's l1: 0.750041\tvalid_1's l1: 0.548145\n",
      "[200]\ttraining's l1: 0.748867\tvalid_1's l1: 0.547151\n",
      "[300]\ttraining's l1: 0.74839\tvalid_1's l1: 0.546806\n",
      "[400]\ttraining's l1: 0.748155\tvalid_1's l1: 0.546644\n"
     ]
    },
    {
     "name": "stderr",
     "output_type": "stream",
     "text": [
      "\u001b[32m[I 2021-07-06 14:47:12,067]\u001b[0m Trial 84 finished with value: -0.5466207819522039 and parameters: {'max_depth': 5, 'min_child_weight': 6, 'subsample': 0.9, 'colsample_bytree': 0.5, 'reg_lambda': 0.0013058462603493359, 'reg_alpha': 0.47884749776320884, 'feature_fraction': 0.43138709758102944, 'bagging_fraction': 0.6427399629827135, 'bagging_freq': 9}. Best is trial 71 with value: -0.5454800100294694.\u001b[0m\n"
     ]
    },
    {
     "name": "stdout",
     "output_type": "stream",
     "text": [
      "Early stopping, best iteration is:\n",
      "[324]\ttraining's l1: 0.748224\tvalid_1's l1: 0.546629\n",
      "[LightGBM] [Warning] feature_fraction is set=0.4252770300448084, colsample_bytree=0.5 will be ignored. Current value: feature_fraction=0.4252770300448084\n",
      "[LightGBM] [Warning] bagging_fraction is set=0.63712470249859, subsample=0.9 will be ignored. Current value: bagging_fraction=0.63712470249859\n",
      "[LightGBM] [Warning] bagging_freq is set=8, subsample_freq=0 will be ignored. Current value: bagging_freq=8\n",
      "Training until validation scores don't improve for 100 rounds\n",
      "[100]\ttraining's l1: 0.756596\tvalid_1's l1: 0.554865\n",
      "[200]\ttraining's l1: 0.755268\tvalid_1's l1: 0.553822\n",
      "[300]\ttraining's l1: 0.752306\tvalid_1's l1: 0.551057\n",
      "[400]\ttraining's l1: 0.751298\tvalid_1's l1: 0.550006\n",
      "[500]\ttraining's l1: 0.751107\tvalid_1's l1: 0.549773\n",
      "[600]\ttraining's l1: 0.749876\tvalid_1's l1: 0.548456\n",
      "[700]\ttraining's l1: 0.749689\tvalid_1's l1: 0.548216\n",
      "[800]\ttraining's l1: 0.749653\tvalid_1's l1: 0.548202\n",
      "[900]\ttraining's l1: 0.749645\tvalid_1's l1: 0.548196\n",
      "[1000]\ttraining's l1: 0.749612\tvalid_1's l1: 0.548212\n",
      "[1100]\ttraining's l1: 0.749522\tvalid_1's l1: 0.54806\n",
      "Early stopping, best iteration is:\n",
      "[1072]\ttraining's l1: 0.749525\tvalid_1's l1: 0.548059\n"
     ]
    },
    {
     "name": "stderr",
     "output_type": "stream",
     "text": [
      "\u001b[32m[I 2021-07-06 14:47:45,731]\u001b[0m Trial 85 finished with value: -0.548054293509152 and parameters: {'max_depth': 3, 'min_child_weight': 7, 'subsample': 0.9, 'colsample_bytree': 0.5, 'reg_lambda': 0.0010355397724982147, 'reg_alpha': 0.4390294746648908, 'feature_fraction': 0.4252770300448084, 'bagging_fraction': 0.63712470249859, 'bagging_freq': 8}. Best is trial 71 with value: -0.5454800100294694.\u001b[0m\n"
     ]
    },
    {
     "name": "stdout",
     "output_type": "stream",
     "text": [
      "[LightGBM] [Warning] feature_fraction is set=0.40021008210612496, colsample_bytree=0.5 will be ignored. Current value: feature_fraction=0.40021008210612496\n",
      "[LightGBM] [Warning] bagging_fraction is set=0.6158125559303871, subsample=0.9 will be ignored. Current value: bagging_fraction=0.6158125559303871\n",
      "[LightGBM] [Warning] bagging_freq is set=9, subsample_freq=0 will be ignored. Current value: bagging_freq=9\n",
      "Training until validation scores don't improve for 100 rounds\n",
      "[100]\ttraining's l1: 0.750643\tvalid_1's l1: 0.548544\n",
      "[200]\ttraining's l1: 0.750248\tvalid_1's l1: 0.548469\n",
      "[300]\ttraining's l1: 0.749836\tvalid_1's l1: 0.548196\n",
      "[400]\ttraining's l1: 0.749432\tvalid_1's l1: 0.548062\n"
     ]
    },
    {
     "name": "stderr",
     "output_type": "stream",
     "text": [
      "\u001b[32m[I 2021-07-06 14:47:59,260]\u001b[0m Trial 86 finished with value: -0.5480184875493845 and parameters: {'max_depth': 6, 'min_child_weight': 5, 'subsample': 0.9, 'colsample_bytree': 0.5, 'reg_lambda': 0.0019952349718052684, 'reg_alpha': 1.0837960592807492, 'feature_fraction': 0.40021008210612496, 'bagging_fraction': 0.6158125559303871, 'bagging_freq': 9}. Best is trial 71 with value: -0.5454800100294694.\u001b[0m\n"
     ]
    },
    {
     "name": "stdout",
     "output_type": "stream",
     "text": [
      "Early stopping, best iteration is:\n",
      "[318]\ttraining's l1: 0.749631\tvalid_1's l1: 0.548019\n",
      "[LightGBM] [Warning] feature_fraction is set=0.4601637468609972, colsample_bytree=0.5 will be ignored. Current value: feature_fraction=0.4601637468609972\n",
      "[LightGBM] [Warning] bagging_fraction is set=0.6761793533012441, subsample=0.9 will be ignored. Current value: bagging_fraction=0.6761793533012441\n",
      "[LightGBM] [Warning] bagging_freq is set=9, subsample_freq=0 will be ignored. Current value: bagging_freq=9\n",
      "Training until validation scores don't improve for 100 rounds\n",
      "[100]\ttraining's l1: 0.751025\tvalid_1's l1: 0.550174\n",
      "[200]\ttraining's l1: 0.749847\tvalid_1's l1: 0.548835\n",
      "[300]\ttraining's l1: 0.749188\tvalid_1's l1: 0.54793\n",
      "[400]\ttraining's l1: 0.748097\tvalid_1's l1: 0.546712\n",
      "[500]\ttraining's l1: 0.747963\tvalid_1's l1: 0.546589\n",
      "[600]\ttraining's l1: 0.74751\tvalid_1's l1: 0.546298\n",
      "[700]\ttraining's l1: 0.74735\tvalid_1's l1: 0.546178\n",
      "[800]\ttraining's l1: 0.747063\tvalid_1's l1: 0.545895\n",
      "[900]\ttraining's l1: 0.746481\tvalid_1's l1: 0.545303\n",
      "[1000]\ttraining's l1: 0.745942\tvalid_1's l1: 0.544388\n",
      "Early stopping, best iteration is:\n",
      "[995]\ttraining's l1: 0.745942\tvalid_1's l1: 0.544388\n"
     ]
    },
    {
     "name": "stderr",
     "output_type": "stream",
     "text": [
      "\u001b[32m[I 2021-07-06 14:48:35,197]\u001b[0m Trial 87 finished with value: -0.5443812101222176 and parameters: {'max_depth': 5, 'min_child_weight': 8, 'subsample': 0.9, 'colsample_bytree': 0.5, 'reg_lambda': 0.018839288270763987, 'reg_alpha': 1.760156672313524, 'feature_fraction': 0.4601637468609972, 'bagging_fraction': 0.6761793533012441, 'bagging_freq': 9}. Best is trial 87 with value: -0.5443812101222176.\u001b[0m\n"
     ]
    },
    {
     "name": "stdout",
     "output_type": "stream",
     "text": [
      "[LightGBM] [Warning] feature_fraction is set=0.4327597661136962, colsample_bytree=0.5 will be ignored. Current value: feature_fraction=0.4327597661136962\n",
      "[LightGBM] [Warning] bagging_fraction is set=0.7653562008349425, subsample=0.9 will be ignored. Current value: bagging_fraction=0.7653562008349425\n",
      "[LightGBM] [Warning] bagging_freq is set=8, subsample_freq=0 will be ignored. Current value: bagging_freq=8\n",
      "Training until validation scores don't improve for 100 rounds\n",
      "[100]\ttraining's l1: 0.753247\tvalid_1's l1: 0.551196\n",
      "[200]\ttraining's l1: 0.751575\tvalid_1's l1: 0.55019\n",
      "[300]\ttraining's l1: 0.750452\tvalid_1's l1: 0.548884\n",
      "[400]\ttraining's l1: 0.750328\tvalid_1's l1: 0.548843\n",
      "[500]\ttraining's l1: 0.749547\tvalid_1's l1: 0.548256\n"
     ]
    },
    {
     "name": "stderr",
     "output_type": "stream",
     "text": [
      "\u001b[32m[I 2021-07-06 14:48:53,828]\u001b[0m Trial 88 finished with value: -0.5482478482746538 and parameters: {'max_depth': 4, 'min_child_weight': 8, 'subsample': 0.9, 'colsample_bytree': 0.5, 'reg_lambda': 0.036920530231142855, 'reg_alpha': 2.600299772225251, 'feature_fraction': 0.4327597661136962, 'bagging_fraction': 0.7653562008349425, 'bagging_freq': 8}. Best is trial 87 with value: -0.5443812101222176.\u001b[0m\n"
     ]
    },
    {
     "name": "stdout",
     "output_type": "stream",
     "text": [
      "Early stopping, best iteration is:\n",
      "[423]\ttraining's l1: 0.749625\tvalid_1's l1: 0.548251\n",
      "[LightGBM] [Warning] feature_fraction is set=0.46105891015278705, colsample_bytree=0.5 will be ignored. Current value: feature_fraction=0.46105891015278705\n",
      "[LightGBM] [Warning] bagging_fraction is set=0.7175980116696383, subsample=0.9 will be ignored. Current value: bagging_fraction=0.7175980116696383\n",
      "[LightGBM] [Warning] bagging_freq is set=5, subsample_freq=0 will be ignored. Current value: bagging_freq=5\n",
      "Training until validation scores don't improve for 100 rounds\n",
      "[100]\ttraining's l1: 0.75022\tvalid_1's l1: 0.548608\n",
      "[200]\ttraining's l1: 0.749464\tvalid_1's l1: 0.547898\n",
      "[300]\ttraining's l1: 0.748742\tvalid_1's l1: 0.547217\n",
      "[400]\ttraining's l1: 0.748578\tvalid_1's l1: 0.547131\n",
      "[500]\ttraining's l1: 0.748237\tvalid_1's l1: 0.546661\n",
      "[600]\ttraining's l1: 0.748017\tvalid_1's l1: 0.546353\n",
      "[700]\ttraining's l1: 0.747665\tvalid_1's l1: 0.546177\n",
      "[800]\ttraining's l1: 0.747178\tvalid_1's l1: 0.544972\n",
      "Early stopping, best iteration is:\n",
      "[764]\ttraining's l1: 0.747189\tvalid_1's l1: 0.544956\n"
     ]
    },
    {
     "name": "stderr",
     "output_type": "stream",
     "text": [
      "\u001b[32m[I 2021-07-06 14:49:25,158]\u001b[0m Trial 89 finished with value: -0.5449545538363164 and parameters: {'max_depth': 5, 'min_child_weight': 8, 'subsample': 0.9, 'colsample_bytree': 0.5, 'reg_lambda': 0.021077053619471667, 'reg_alpha': 3.1666004438878095, 'feature_fraction': 0.46105891015278705, 'bagging_fraction': 0.7175980116696383, 'bagging_freq': 5}. Best is trial 87 with value: -0.5443812101222176.\u001b[0m\n"
     ]
    },
    {
     "name": "stdout",
     "output_type": "stream",
     "text": [
      "[LightGBM] [Warning] feature_fraction is set=0.482124439717787, colsample_bytree=0.5 will be ignored. Current value: feature_fraction=0.482124439717787\n",
      "[LightGBM] [Warning] bagging_fraction is set=0.724203537765099, subsample=0.8 will be ignored. Current value: bagging_fraction=0.724203537765099\n",
      "[LightGBM] [Warning] bagging_freq is set=5, subsample_freq=0 will be ignored. Current value: bagging_freq=5\n",
      "Training until validation scores don't improve for 100 rounds\n",
      "[100]\ttraining's l1: 0.75061\tvalid_1's l1: 0.549883\n",
      "[200]\ttraining's l1: 0.749416\tvalid_1's l1: 0.548629\n",
      "[300]\ttraining's l1: 0.749329\tvalid_1's l1: 0.54855\n",
      "[400]\ttraining's l1: 0.749165\tvalid_1's l1: 0.54832\n",
      "[500]\ttraining's l1: 0.749053\tvalid_1's l1: 0.54823\n",
      "[600]\ttraining's l1: 0.748963\tvalid_1's l1: 0.548178\n",
      "[700]\ttraining's l1: 0.748618\tvalid_1's l1: 0.547761\n",
      "Early stopping, best iteration is:\n",
      "[698]\ttraining's l1: 0.748619\tvalid_1's l1: 0.547761\n"
     ]
    },
    {
     "name": "stderr",
     "output_type": "stream",
     "text": [
      "\u001b[32m[I 2021-07-06 14:49:55,565]\u001b[0m Trial 90 finished with value: -0.5477586636436734 and parameters: {'max_depth': 6, 'min_child_weight': 10, 'subsample': 0.8, 'colsample_bytree': 0.5, 'reg_lambda': 0.023445171876113283, 'reg_alpha': 7.089644396046127, 'feature_fraction': 0.482124439717787, 'bagging_fraction': 0.724203537765099, 'bagging_freq': 5}. Best is trial 87 with value: -0.5443812101222176.\u001b[0m\n"
     ]
    },
    {
     "name": "stdout",
     "output_type": "stream",
     "text": [
      "[LightGBM] [Warning] feature_fraction is set=0.46311466307442095, colsample_bytree=0.5 will be ignored. Current value: feature_fraction=0.46311466307442095\n",
      "[LightGBM] [Warning] bagging_fraction is set=0.6863621050847254, subsample=0.9 will be ignored. Current value: bagging_fraction=0.6863621050847254\n",
      "[LightGBM] [Warning] bagging_freq is set=4, subsample_freq=0 will be ignored. Current value: bagging_freq=4\n",
      "Training until validation scores don't improve for 100 rounds\n",
      "[100]\ttraining's l1: 0.751368\tvalid_1's l1: 0.550155\n",
      "[200]\ttraining's l1: 0.750679\tvalid_1's l1: 0.549735\n",
      "[300]\ttraining's l1: 0.750002\tvalid_1's l1: 0.549123\n",
      "[400]\ttraining's l1: 0.749642\tvalid_1's l1: 0.548941\n",
      "[500]\ttraining's l1: 0.748587\tvalid_1's l1: 0.548144\n",
      "[600]\ttraining's l1: 0.748478\tvalid_1's l1: 0.547986\n",
      "Early stopping, best iteration is:\n",
      "[570]\ttraining's l1: 0.748484\tvalid_1's l1: 0.547984\n"
     ]
    },
    {
     "name": "stderr",
     "output_type": "stream",
     "text": [
      "\u001b[32m[I 2021-07-06 14:50:20,628]\u001b[0m Trial 91 finished with value: -0.5479831771284381 and parameters: {'max_depth': 5, 'min_child_weight': 7, 'subsample': 0.9, 'colsample_bytree': 0.5, 'reg_lambda': 0.020533125440616477, 'reg_alpha': 3.2155153872261057, 'feature_fraction': 0.46311466307442095, 'bagging_fraction': 0.6863621050847254, 'bagging_freq': 4}. Best is trial 87 with value: -0.5443812101222176.\u001b[0m\n"
     ]
    },
    {
     "name": "stdout",
     "output_type": "stream",
     "text": [
      "[LightGBM] [Warning] feature_fraction is set=0.4566797065009008, colsample_bytree=0.5 will be ignored. Current value: feature_fraction=0.4566797065009008\n",
      "[LightGBM] [Warning] bagging_fraction is set=0.7055312513009181, subsample=0.9 will be ignored. Current value: bagging_fraction=0.7055312513009181\n",
      "[LightGBM] [Warning] bagging_freq is set=5, subsample_freq=0 will be ignored. Current value: bagging_freq=5\n",
      "Training until validation scores don't improve for 100 rounds\n",
      "[100]\ttraining's l1: 0.756695\tvalid_1's l1: 0.554766\n",
      "[200]\ttraining's l1: 0.754638\tvalid_1's l1: 0.553376\n",
      "[300]\ttraining's l1: 0.752891\tvalid_1's l1: 0.551191\n",
      "[400]\ttraining's l1: 0.751799\tvalid_1's l1: 0.549931\n",
      "[500]\ttraining's l1: 0.751358\tvalid_1's l1: 0.549566\n"
     ]
    },
    {
     "name": "stderr",
     "output_type": "stream",
     "text": [
      "\u001b[32m[I 2021-07-06 14:50:40,016]\u001b[0m Trial 92 finished with value: -0.549551828697764 and parameters: {'max_depth': 3, 'min_child_weight': 8, 'subsample': 0.9, 'colsample_bytree': 0.5, 'reg_lambda': 0.06949326558205474, 'reg_alpha': 1.8319100159869146, 'feature_fraction': 0.4566797065009008, 'bagging_fraction': 0.7055312513009181, 'bagging_freq': 5}. Best is trial 87 with value: -0.5443812101222176.\u001b[0m\n"
     ]
    },
    {
     "name": "stdout",
     "output_type": "stream",
     "text": [
      "Early stopping, best iteration is:\n",
      "[462]\ttraining's l1: 0.751368\tvalid_1's l1: 0.549555\n",
      "[LightGBM] [Warning] feature_fraction is set=0.44058557522065894, colsample_bytree=0.5 will be ignored. Current value: feature_fraction=0.44058557522065894\n",
      "[LightGBM] [Warning] bagging_fraction is set=0.6555885990298604, subsample=0.9 will be ignored. Current value: bagging_fraction=0.6555885990298604\n",
      "[LightGBM] [Warning] bagging_freq is set=5, subsample_freq=0 will be ignored. Current value: bagging_freq=5\n",
      "Training until validation scores don't improve for 100 rounds\n",
      "[100]\ttraining's l1: 0.753743\tvalid_1's l1: 0.551858\n",
      "[200]\ttraining's l1: 0.752043\tvalid_1's l1: 0.550253\n",
      "[300]\ttraining's l1: 0.750332\tvalid_1's l1: 0.549\n",
      "[400]\ttraining's l1: 0.750284\tvalid_1's l1: 0.548954\n",
      "[500]\ttraining's l1: 0.749414\tvalid_1's l1: 0.547921\n",
      "[600]\ttraining's l1: 0.749076\tvalid_1's l1: 0.547609\n"
     ]
    },
    {
     "name": "stderr",
     "output_type": "stream",
     "text": [
      "\u001b[32m[I 2021-07-06 14:51:01,511]\u001b[0m Trial 93 finished with value: -0.5475996401376276 and parameters: {'max_depth': 4, 'min_child_weight': 6, 'subsample': 0.9, 'colsample_bytree': 0.5, 'reg_lambda': 0.0108669465377067, 'reg_alpha': 1.2417433676298433, 'feature_fraction': 0.44058557522065894, 'bagging_fraction': 0.6555885990298604, 'bagging_freq': 5}. Best is trial 87 with value: -0.5443812101222176.\u001b[0m\n"
     ]
    },
    {
     "name": "stdout",
     "output_type": "stream",
     "text": [
      "Early stopping, best iteration is:\n",
      "[555]\ttraining's l1: 0.749083\tvalid_1's l1: 0.547602\n",
      "[LightGBM] [Warning] feature_fraction is set=0.49579070801223313, colsample_bytree=0.5 will be ignored. Current value: feature_fraction=0.49579070801223313\n",
      "[LightGBM] [Warning] bagging_fraction is set=0.7449582194304455, subsample=0.9 will be ignored. Current value: bagging_fraction=0.7449582194304455\n",
      "[LightGBM] [Warning] bagging_freq is set=5, subsample_freq=0 will be ignored. Current value: bagging_freq=5\n",
      "Training until validation scores don't improve for 100 rounds\n",
      "[100]\ttraining's l1: 0.752233\tvalid_1's l1: 0.551728\n",
      "[200]\ttraining's l1: 0.751902\tvalid_1's l1: 0.551073\n",
      "[300]\ttraining's l1: 0.751423\tvalid_1's l1: 0.550453\n",
      "[400]\ttraining's l1: 0.750997\tvalid_1's l1: 0.550248\n"
     ]
    },
    {
     "name": "stderr",
     "output_type": "stream",
     "text": [
      "\u001b[32m[I 2021-07-06 14:51:21,044]\u001b[0m Trial 94 finished with value: -0.5502061334381411 and parameters: {'max_depth': 7, 'min_child_weight': 7, 'subsample': 0.9, 'colsample_bytree': 0.5, 'reg_lambda': 0.0172732792841639, 'reg_alpha': 3.406061986577654, 'feature_fraction': 0.49579070801223313, 'bagging_fraction': 0.7449582194304455, 'bagging_freq': 5}. Best is trial 87 with value: -0.5443812101222176.\u001b[0m\n"
     ]
    },
    {
     "name": "stdout",
     "output_type": "stream",
     "text": [
      "Early stopping, best iteration is:\n",
      "[376]\ttraining's l1: 0.751111\tvalid_1's l1: 0.550208\n",
      "[LightGBM] [Warning] feature_fraction is set=0.41409724241177825, colsample_bytree=0.5 will be ignored. Current value: feature_fraction=0.41409724241177825\n",
      "[LightGBM] [Warning] bagging_fraction is set=0.6722668710552449, subsample=0.9 will be ignored. Current value: bagging_fraction=0.6722668710552449\n",
      "[LightGBM] [Warning] bagging_freq is set=6, subsample_freq=0 will be ignored. Current value: bagging_freq=6\n",
      "Training until validation scores don't improve for 100 rounds\n",
      "[100]\ttraining's l1: 0.749727\tvalid_1's l1: 0.548333\n",
      "[200]\ttraining's l1: 0.748988\tvalid_1's l1: 0.547099\n"
     ]
    },
    {
     "name": "stderr",
     "output_type": "stream",
     "text": [
      "\u001b[32m[I 2021-07-06 14:51:29,699]\u001b[0m Trial 95 finished with value: -0.5470682561165384 and parameters: {'max_depth': 5, 'min_child_weight': 8, 'subsample': 0.9, 'colsample_bytree': 0.5, 'reg_lambda': 0.007496844776226666, 'reg_alpha': 5.629468177458385, 'feature_fraction': 0.41409724241177825, 'bagging_fraction': 0.6722668710552449, 'bagging_freq': 6}. Best is trial 87 with value: -0.5443812101222176.\u001b[0m\n"
     ]
    },
    {
     "name": "stdout",
     "output_type": "stream",
     "text": [
      "Early stopping, best iteration is:\n",
      "[125]\ttraining's l1: 0.749006\tvalid_1's l1: 0.547069\n",
      "[LightGBM] [Warning] feature_fraction is set=0.47014392917304476, colsample_bytree=0.5 will be ignored. Current value: feature_fraction=0.47014392917304476\n",
      "[LightGBM] [Warning] bagging_fraction is set=0.6431763599578703, subsample=0.9 will be ignored. Current value: bagging_fraction=0.6431763599578703\n",
      "[LightGBM] [Warning] bagging_freq is set=9, subsample_freq=0 will be ignored. Current value: bagging_freq=9\n",
      "Training until validation scores don't improve for 100 rounds\n",
      "[100]\ttraining's l1: 0.754451\tvalid_1's l1: 0.553007\n",
      "[200]\ttraining's l1: 0.752816\tvalid_1's l1: 0.551763\n",
      "[300]\ttraining's l1: 0.75065\tvalid_1's l1: 0.549195\n",
      "[400]\ttraining's l1: 0.750534\tvalid_1's l1: 0.549056\n",
      "[500]\ttraining's l1: 0.749602\tvalid_1's l1: 0.548\n",
      "[600]\ttraining's l1: 0.74932\tvalid_1's l1: 0.547794\n",
      "[700]\ttraining's l1: 0.748989\tvalid_1's l1: 0.547224\n",
      "[800]\ttraining's l1: 0.748774\tvalid_1's l1: 0.547053\n",
      "[900]\ttraining's l1: 0.748493\tvalid_1's l1: 0.54684\n",
      "[1000]\ttraining's l1: 0.748462\tvalid_1's l1: 0.546846\n",
      "Early stopping, best iteration is:\n",
      "[924]\ttraining's l1: 0.748482\tvalid_1's l1: 0.546834\n"
     ]
    },
    {
     "name": "stderr",
     "output_type": "stream",
     "text": [
      "\u001b[32m[I 2021-07-06 14:52:00,970]\u001b[0m Trial 96 finished with value: -0.5468318523007423 and parameters: {'max_depth': 4, 'min_child_weight': 6, 'subsample': 0.9, 'colsample_bytree': 0.5, 'reg_lambda': 0.03659040061534578, 'reg_alpha': 0.731427382418379, 'feature_fraction': 0.47014392917304476, 'bagging_fraction': 0.6431763599578703, 'bagging_freq': 9}. Best is trial 87 with value: -0.5443812101222176.\u001b[0m\n"
     ]
    },
    {
     "name": "stdout",
     "output_type": "stream",
     "text": [
      "[LightGBM] [Warning] feature_fraction is set=0.48489839939660356, colsample_bytree=0.5 will be ignored. Current value: feature_fraction=0.48489839939660356\n",
      "[LightGBM] [Warning] bagging_fraction is set=0.6135142170831199, subsample=0.9 will be ignored. Current value: bagging_fraction=0.6135142170831199\n",
      "[LightGBM] [Warning] bagging_freq is set=7, subsample_freq=0 will be ignored. Current value: bagging_freq=7\n",
      "Training until validation scores don't improve for 100 rounds\n",
      "[100]\ttraining's l1: 0.7507\tvalid_1's l1: 0.549162\n",
      "[200]\ttraining's l1: 0.749808\tvalid_1's l1: 0.548185\n",
      "[300]\ttraining's l1: 0.749297\tvalid_1's l1: 0.547537\n",
      "[400]\ttraining's l1: 0.749096\tvalid_1's l1: 0.547454\n",
      "[500]\ttraining's l1: 0.749081\tvalid_1's l1: 0.54744\n",
      "[600]\ttraining's l1: 0.748909\tvalid_1's l1: 0.547329\n"
     ]
    },
    {
     "name": "stderr",
     "output_type": "stream",
     "text": [
      "\u001b[32m[I 2021-07-06 14:52:22,557]\u001b[0m Trial 97 finished with value: -0.5473262254692937 and parameters: {'max_depth': 6, 'min_child_weight': 11, 'subsample': 0.9, 'colsample_bytree': 0.5, 'reg_lambda': 0.004027044752607079, 'reg_alpha': 2.0751980765638773, 'feature_fraction': 0.48489839939660356, 'bagging_fraction': 0.6135142170831199, 'bagging_freq': 7}. Best is trial 87 with value: -0.5443812101222176.\u001b[0m\n"
     ]
    },
    {
     "name": "stdout",
     "output_type": "stream",
     "text": [
      "Early stopping, best iteration is:\n",
      "[537]\ttraining's l1: 0.748915\tvalid_1's l1: 0.547328\n",
      "[LightGBM] [Warning] feature_fraction is set=0.5125599832347246, colsample_bytree=0.5 will be ignored. Current value: feature_fraction=0.5125599832347246\n",
      "[LightGBM] [Warning] bagging_fraction is set=0.6946653167740754, subsample=0.9 will be ignored. Current value: bagging_fraction=0.6946653167740754\n",
      "[LightGBM] [Warning] bagging_freq is set=9, subsample_freq=0 will be ignored. Current value: bagging_freq=9\n",
      "Training until validation scores don't improve for 100 rounds\n",
      "[100]\ttraining's l1: 0.753125\tvalid_1's l1: 0.552274\n",
      "[200]\ttraining's l1: 0.752647\tvalid_1's l1: 0.552172\n",
      "[300]\ttraining's l1: 0.752291\tvalid_1's l1: 0.551697\n"
     ]
    },
    {
     "name": "stderr",
     "output_type": "stream",
     "text": [
      "\u001b[32m[I 2021-07-06 14:52:35,896]\u001b[0m Trial 98 finished with value: -0.5516883305036164 and parameters: {'max_depth': 14, 'min_child_weight': 9, 'subsample': 0.9, 'colsample_bytree': 0.5, 'reg_lambda': 0.0027606483244542275, 'reg_alpha': 9.686171123609908, 'feature_fraction': 0.5125599832347246, 'bagging_fraction': 0.6946653167740754, 'bagging_freq': 9}. Best is trial 87 with value: -0.5443812101222176.\u001b[0m\n"
     ]
    },
    {
     "name": "stdout",
     "output_type": "stream",
     "text": [
      "Early stopping, best iteration is:\n",
      "[241]\ttraining's l1: 0.752305\tvalid_1's l1: 0.551689\n",
      "[LightGBM] [Warning] feature_fraction is set=0.41283925439950736, colsample_bytree=0.5 will be ignored. Current value: feature_fraction=0.41283925439950736\n",
      "[LightGBM] [Warning] bagging_fraction is set=0.7132442293934276, subsample=0.9 will be ignored. Current value: bagging_fraction=0.7132442293934276\n",
      "[LightGBM] [Warning] bagging_freq is set=4, subsample_freq=0 will be ignored. Current value: bagging_freq=4\n",
      "Training until validation scores don't improve for 100 rounds\n",
      "[100]\ttraining's l1: 0.748949\tvalid_1's l1: 0.548443\n",
      "[200]\ttraining's l1: 0.747868\tvalid_1's l1: 0.547333\n",
      "[300]\ttraining's l1: 0.74748\tvalid_1's l1: 0.547006\n",
      "[400]\ttraining's l1: 0.747394\tvalid_1's l1: 0.546977\n",
      "[500]\ttraining's l1: 0.746997\tvalid_1's l1: 0.546675\n",
      "[600]\ttraining's l1: 0.746953\tvalid_1's l1: 0.54666\n"
     ]
    },
    {
     "name": "stderr",
     "output_type": "stream",
     "text": [
      "\u001b[32m[I 2021-07-06 14:52:59,385]\u001b[0m Trial 99 finished with value: -0.5466447093647719 and parameters: {'max_depth': 5, 'min_child_weight': 5, 'subsample': 0.9, 'colsample_bytree': 0.5, 'reg_lambda': 0.012810218114441926, 'reg_alpha': 1.5295133612669514, 'feature_fraction': 0.41283925439950736, 'bagging_fraction': 0.7132442293934276, 'bagging_freq': 4}. Best is trial 87 with value: -0.5443812101222176.\u001b[0m\n"
     ]
    },
    {
     "name": "stdout",
     "output_type": "stream",
     "text": [
      "Early stopping, best iteration is:\n",
      "[547]\ttraining's l1: 0.746959\tvalid_1's l1: 0.546652\n",
      "Number of finished trials: 100\n",
      "Best trial: {'max_depth': 5, 'min_child_weight': 8, 'subsample': 0.9, 'colsample_bytree': 0.5, 'reg_lambda': 0.018839288270763987, 'reg_alpha': 1.760156672313524, 'feature_fraction': 0.4601637468609972, 'bagging_fraction': 0.6761793533012441, 'bagging_freq': 9}\n"
     ]
    }
   ],
   "source": [
    "study3 = optuna.create_study(direction='maximize')\n",
    "study3.optimize(fit_lgbm(x_train[feature_cols3], y_train['target3'], x_valid[feature_cols3], y_valid['target3'], learning_rates[2]), n_trials=100)\n",
    "\n",
    "print('Number of finished trials:', len(study3.trials))\n",
    "print('Best trial:', study3.best_trial.params)"
   ]
  },
  {
   "cell_type": "code",
   "execution_count": 45,
   "id": "4824c2d2",
   "metadata": {},
   "outputs": [
    {
     "name": "stderr",
     "output_type": "stream",
     "text": [
      "\u001b[32m[I 2021-07-06 14:52:59,405]\u001b[0m A new study created in memory with name: no-name-82a1c662-4957-4a33-a818-1128b4909240\u001b[0m\n"
     ]
    },
    {
     "name": "stdout",
     "output_type": "stream",
     "text": [
      "[LightGBM] [Warning] feature_fraction is set=0.886446460563833, colsample_bytree=0.7 will be ignored. Current value: feature_fraction=0.886446460563833\n",
      "[LightGBM] [Warning] bagging_fraction is set=0.5043419220621458, subsample=0.7 will be ignored. Current value: bagging_fraction=0.5043419220621458\n",
      "[LightGBM] [Warning] bagging_freq is set=10, subsample_freq=0 will be ignored. Current value: bagging_freq=10\n",
      "Training until validation scores don't improve for 100 rounds\n",
      "[100]\ttraining's l1: 0.849032\tvalid_1's l1: 1.1059\n",
      "[200]\ttraining's l1: 0.835957\tvalid_1's l1: 1.10218\n",
      "[300]\ttraining's l1: 0.82052\tvalid_1's l1: 1.10026\n",
      "[400]\ttraining's l1: 0.80316\tvalid_1's l1: 1.09643\n",
      "[500]\ttraining's l1: 0.788533\tvalid_1's l1: 1.09661\n"
     ]
    },
    {
     "name": "stderr",
     "output_type": "stream",
     "text": [
      "\u001b[32m[I 2021-07-06 14:53:16,466]\u001b[0m Trial 0 finished with value: -1.0924228604307884 and parameters: {'max_depth': 20, 'min_child_weight': 15, 'subsample': 0.7, 'colsample_bytree': 0.7, 'reg_lambda': 0.00676594570592749, 'reg_alpha': 0.0015373279486903496, 'feature_fraction': 0.886446460563833, 'bagging_fraction': 0.5043419220621458, 'bagging_freq': 10}. Best is trial 0 with value: -1.0924228604307884.\u001b[0m\n"
     ]
    },
    {
     "name": "stdout",
     "output_type": "stream",
     "text": [
      "Early stopping, best iteration is:\n",
      "[485]\ttraining's l1: 0.790428\tvalid_1's l1: 1.09257\n",
      "[LightGBM] [Warning] feature_fraction is set=0.8536320813841498, colsample_bytree=0.5 will be ignored. Current value: feature_fraction=0.8536320813841498\n",
      "[LightGBM] [Warning] bagging_fraction is set=0.9943352583185832, subsample=0.9 will be ignored. Current value: bagging_fraction=0.9943352583185832\n",
      "[LightGBM] [Warning] bagging_freq is set=5, subsample_freq=0 will be ignored. Current value: bagging_freq=5\n",
      "Training until validation scores don't improve for 100 rounds\n",
      "[100]\ttraining's l1: 0.846412\tvalid_1's l1: 1.10131\n",
      "[200]\ttraining's l1: 0.839955\tvalid_1's l1: 1.09782\n",
      "[300]\ttraining's l1: 0.828024\tvalid_1's l1: 1.09984\n"
     ]
    },
    {
     "name": "stderr",
     "output_type": "stream",
     "text": [
      "\u001b[32m[I 2021-07-06 14:53:33,733]\u001b[0m Trial 1 finished with value: -1.0964127071403282 and parameters: {'max_depth': 9, 'min_child_weight': 9, 'subsample': 0.9, 'colsample_bytree': 0.5, 'reg_lambda': 0.021966667893089986, 'reg_alpha': 113.68004809480458, 'feature_fraction': 0.8536320813841498, 'bagging_fraction': 0.9943352583185832, 'bagging_freq': 5}. Best is trial 0 with value: -1.0924228604307884.\u001b[0m\n"
     ]
    },
    {
     "name": "stdout",
     "output_type": "stream",
     "text": [
      "Early stopping, best iteration is:\n",
      "[232]\ttraining's l1: 0.837305\tvalid_1's l1: 1.09646\n",
      "[LightGBM] [Warning] feature_fraction is set=0.7425262279672711, colsample_bytree=0.8 will be ignored. Current value: feature_fraction=0.7425262279672711\n",
      "[LightGBM] [Warning] bagging_fraction is set=0.6569015219204757, subsample=0.7 will be ignored. Current value: bagging_fraction=0.6569015219204757\n",
      "[LightGBM] [Warning] bagging_freq is set=7, subsample_freq=0 will be ignored. Current value: bagging_freq=7\n",
      "Training until validation scores don't improve for 100 rounds\n",
      "[100]\ttraining's l1: 0.844622\tvalid_1's l1: 1.10191\n",
      "[200]\ttraining's l1: 0.815553\tvalid_1's l1: 1.09782\n",
      "[300]\ttraining's l1: 0.791338\tvalid_1's l1: 1.09882\n"
     ]
    },
    {
     "name": "stderr",
     "output_type": "stream",
     "text": [
      "\u001b[32m[I 2021-07-06 14:53:46,361]\u001b[0m Trial 2 finished with value: -1.0965839813275662 and parameters: {'max_depth': 14, 'min_child_weight': 2, 'subsample': 0.7, 'colsample_bytree': 0.8, 'reg_lambda': 230.45938354006663, 'reg_alpha': 0.0327999629355111, 'feature_fraction': 0.7425262279672711, 'bagging_fraction': 0.6569015219204757, 'bagging_freq': 7}. Best is trial 0 with value: -1.0924228604307884.\u001b[0m\n"
     ]
    },
    {
     "name": "stdout",
     "output_type": "stream",
     "text": [
      "Early stopping, best iteration is:\n",
      "[227]\ttraining's l1: 0.811839\tvalid_1's l1: 1.09669\n",
      "[LightGBM] [Warning] feature_fraction is set=0.6800979826230142, colsample_bytree=0.5 will be ignored. Current value: feature_fraction=0.6800979826230142\n",
      "[LightGBM] [Warning] bagging_fraction is set=0.8794777584880732, subsample=0.5 will be ignored. Current value: bagging_fraction=0.8794777584880732\n",
      "[LightGBM] [Warning] bagging_freq is set=2, subsample_freq=0 will be ignored. Current value: bagging_freq=2\n",
      "Training until validation scores don't improve for 100 rounds\n",
      "[100]\ttraining's l1: 0.848446\tvalid_1's l1: 1.1061\n",
      "[200]\ttraining's l1: 0.8237\tvalid_1's l1: 1.09831\n",
      "[300]\ttraining's l1: 0.807264\tvalid_1's l1: 1.09524\n"
     ]
    },
    {
     "name": "stderr",
     "output_type": "stream",
     "text": [
      "\u001b[32m[I 2021-07-06 14:54:06,314]\u001b[0m Trial 3 finished with value: -1.0943146721418893 and parameters: {'max_depth': 15, 'min_child_weight': 18, 'subsample': 0.5, 'colsample_bytree': 0.5, 'reg_lambda': 766.5696921624524, 'reg_alpha': 16.76631757986693, 'feature_fraction': 0.6800979826230142, 'bagging_fraction': 0.8794777584880732, 'bagging_freq': 2}. Best is trial 0 with value: -1.0924228604307884.\u001b[0m\n"
     ]
    },
    {
     "name": "stdout",
     "output_type": "stream",
     "text": [
      "Early stopping, best iteration is:\n",
      "[257]\ttraining's l1: 0.813576\tvalid_1's l1: 1.0944\n",
      "[LightGBM] [Warning] feature_fraction is set=0.81006454757823, colsample_bytree=0.8 will be ignored. Current value: feature_fraction=0.81006454757823\n",
      "[LightGBM] [Warning] bagging_fraction is set=0.775695832708807, subsample=0.5 will be ignored. Current value: bagging_fraction=0.775695832708807\n",
      "[LightGBM] [Warning] bagging_freq is set=3, subsample_freq=0 will be ignored. Current value: bagging_freq=3\n",
      "Training until validation scores don't improve for 100 rounds\n",
      "[100]\ttraining's l1: 0.847833\tvalid_1's l1: 1.10587\n",
      "[200]\ttraining's l1: 0.82529\tvalid_1's l1: 1.09515\n",
      "[300]\ttraining's l1: 0.816458\tvalid_1's l1: 1.09333\n"
     ]
    },
    {
     "name": "stderr",
     "output_type": "stream",
     "text": [
      "\u001b[32m[I 2021-07-06 14:54:24,463]\u001b[0m Trial 4 finished with value: -1.092614987031439 and parameters: {'max_depth': 19, 'min_child_weight': 14, 'subsample': 0.5, 'colsample_bytree': 0.8, 'reg_lambda': 0.012007910329046339, 'reg_alpha': 0.060872680255957295, 'feature_fraction': 0.81006454757823, 'bagging_fraction': 0.775695832708807, 'bagging_freq': 3}. Best is trial 0 with value: -1.0924228604307884.\u001b[0m\n"
     ]
    },
    {
     "name": "stdout",
     "output_type": "stream",
     "text": [
      "Early stopping, best iteration is:\n",
      "[271]\ttraining's l1: 0.81844\tvalid_1's l1: 1.0927\n",
      "[LightGBM] [Warning] feature_fraction is set=0.98712700730426, colsample_bytree=0.5 will be ignored. Current value: feature_fraction=0.98712700730426\n",
      "[LightGBM] [Warning] bagging_fraction is set=0.8798334891171944, subsample=0.8 will be ignored. Current value: bagging_fraction=0.8798334891171944\n",
      "[LightGBM] [Warning] bagging_freq is set=7, subsample_freq=0 will be ignored. Current value: bagging_freq=7\n",
      "Training until validation scores don't improve for 100 rounds\n",
      "[100]\ttraining's l1: 0.853374\tvalid_1's l1: 1.10625\n",
      "[200]\ttraining's l1: 0.846972\tvalid_1's l1: 1.10243\n",
      "[300]\ttraining's l1: 0.840213\tvalid_1's l1: 1.09961\n",
      "[400]\ttraining's l1: 0.833722\tvalid_1's l1: 1.09921\n"
     ]
    },
    {
     "name": "stderr",
     "output_type": "stream",
     "text": [
      "\u001b[32m[I 2021-07-06 14:54:43,724]\u001b[0m Trial 5 finished with value: -1.098256052294297 and parameters: {'max_depth': 18, 'min_child_weight': 2, 'subsample': 0.8, 'colsample_bytree': 0.5, 'reg_lambda': 8.760567207488636, 'reg_alpha': 0.0030558401458020495, 'feature_fraction': 0.98712700730426, 'bagging_fraction': 0.8798334891171944, 'bagging_freq': 7}. Best is trial 0 with value: -1.0924228604307884.\u001b[0m\n"
     ]
    },
    {
     "name": "stdout",
     "output_type": "stream",
     "text": [
      "Early stopping, best iteration is:\n",
      "[346]\ttraining's l1: 0.834767\tvalid_1's l1: 1.09831\n",
      "[LightGBM] [Warning] feature_fraction is set=0.9532054471270115, colsample_bytree=0.8 will be ignored. Current value: feature_fraction=0.9532054471270115\n",
      "[LightGBM] [Warning] bagging_fraction is set=0.6198813326360753, subsample=0.7 will be ignored. Current value: bagging_fraction=0.6198813326360753\n",
      "[LightGBM] [Warning] bagging_freq is set=10, subsample_freq=0 will be ignored. Current value: bagging_freq=10\n",
      "Training until validation scores don't improve for 100 rounds\n",
      "[100]\ttraining's l1: 0.848491\tvalid_1's l1: 1.1027\n",
      "[200]\ttraining's l1: 0.837714\tvalid_1's l1: 1.09775\n",
      "[300]\ttraining's l1: 0.83129\tvalid_1's l1: 1.0955\n",
      "[400]\ttraining's l1: 0.822897\tvalid_1's l1: 1.10004\n"
     ]
    },
    {
     "name": "stderr",
     "output_type": "stream",
     "text": [
      "\u001b[32m[I 2021-07-06 14:54:58,697]\u001b[0m Trial 6 finished with value: -1.0952716964384304 and parameters: {'max_depth': 8, 'min_child_weight': 20, 'subsample': 0.7, 'colsample_bytree': 0.8, 'reg_lambda': 54.77518200949336, 'reg_alpha': 0.0026316177246160804, 'feature_fraction': 0.9532054471270115, 'bagging_fraction': 0.6198813326360753, 'bagging_freq': 10}. Best is trial 0 with value: -1.0924228604307884.\u001b[0m\n"
     ]
    },
    {
     "name": "stdout",
     "output_type": "stream",
     "text": [
      "Early stopping, best iteration is:\n",
      "[346]\ttraining's l1: 0.829063\tvalid_1's l1: 1.09534\n",
      "[LightGBM] [Warning] feature_fraction is set=0.4751436350701381, colsample_bytree=0.6 will be ignored. Current value: feature_fraction=0.4751436350701381\n",
      "[LightGBM] [Warning] bagging_fraction is set=0.7039047565100687, subsample=0.6 will be ignored. Current value: bagging_fraction=0.7039047565100687\n",
      "[LightGBM] [Warning] bagging_freq is set=4, subsample_freq=0 will be ignored. Current value: bagging_freq=4\n",
      "Training until validation scores don't improve for 100 rounds\n",
      "[100]\ttraining's l1: 0.850704\tvalid_1's l1: 1.10508\n",
      "[200]\ttraining's l1: 0.828654\tvalid_1's l1: 1.09792\n",
      "[300]\ttraining's l1: 0.815511\tvalid_1's l1: 1.09434\n"
     ]
    },
    {
     "name": "stderr",
     "output_type": "stream",
     "text": [
      "\u001b[32m[I 2021-07-06 14:55:13,701]\u001b[0m Trial 7 finished with value: -1.094147406116394 and parameters: {'max_depth': 5, 'min_child_weight': 5, 'subsample': 0.6, 'colsample_bytree': 0.6, 'reg_lambda': 814.6932798810179, 'reg_alpha': 20.551484415233606, 'feature_fraction': 0.4751436350701381, 'bagging_fraction': 0.7039047565100687, 'bagging_freq': 4}. Best is trial 0 with value: -1.0924228604307884.\u001b[0m\n"
     ]
    },
    {
     "name": "stdout",
     "output_type": "stream",
     "text": [
      "Early stopping, best iteration is:\n",
      "[243]\ttraining's l1: 0.821621\tvalid_1's l1: 1.09425\n",
      "[LightGBM] [Warning] feature_fraction is set=0.9905802180578251, colsample_bytree=0.7 will be ignored. Current value: feature_fraction=0.9905802180578251\n",
      "[LightGBM] [Warning] bagging_fraction is set=0.5026502091129813, subsample=0.9 will be ignored. Current value: bagging_fraction=0.5026502091129813\n",
      "[LightGBM] [Warning] bagging_freq is set=5, subsample_freq=0 will be ignored. Current value: bagging_freq=5\n",
      "Training until validation scores don't improve for 100 rounds\n",
      "[100]\ttraining's l1: 0.857024\tvalid_1's l1: 1.10852\n",
      "[200]\ttraining's l1: 0.84314\tvalid_1's l1: 1.10088\n",
      "[300]\ttraining's l1: 0.834626\tvalid_1's l1: 1.0981\n",
      "[400]\ttraining's l1: 0.827131\tvalid_1's l1: 1.09587\n",
      "[500]\ttraining's l1: 0.821328\tvalid_1's l1: 1.09509\n"
     ]
    },
    {
     "name": "stderr",
     "output_type": "stream",
     "text": [
      "\u001b[32m[I 2021-07-06 14:55:31,054]\u001b[0m Trial 8 finished with value: -1.0946104803974601 and parameters: {'max_depth': 9, 'min_child_weight': 2, 'subsample': 0.9, 'colsample_bytree': 0.7, 'reg_lambda': 0.2478444923183579, 'reg_alpha': 16.93707393215636, 'feature_fraction': 0.9905802180578251, 'bagging_fraction': 0.5026502091129813, 'bagging_freq': 5}. Best is trial 0 with value: -1.0924228604307884.\u001b[0m\n"
     ]
    },
    {
     "name": "stdout",
     "output_type": "stream",
     "text": [
      "Early stopping, best iteration is:\n",
      "[448]\ttraining's l1: 0.82194\tvalid_1's l1: 1.09471\n",
      "[LightGBM] [Warning] feature_fraction is set=0.5974298757815053, colsample_bytree=0.8 will be ignored. Current value: feature_fraction=0.5974298757815053\n",
      "[LightGBM] [Warning] bagging_fraction is set=0.870284801509839, subsample=0.6 will be ignored. Current value: bagging_fraction=0.870284801509839\n",
      "[LightGBM] [Warning] bagging_freq is set=2, subsample_freq=0 will be ignored. Current value: bagging_freq=2\n",
      "Training until validation scores don't improve for 100 rounds\n",
      "[100]\ttraining's l1: 0.84493\tvalid_1's l1: 1.10127\n",
      "[200]\ttraining's l1: 0.824031\tvalid_1's l1: 1.09676\n",
      "[300]\ttraining's l1: 0.809969\tvalid_1's l1: 1.09706\n"
     ]
    },
    {
     "name": "stderr",
     "output_type": "stream",
     "text": [
      "\u001b[32m[I 2021-07-06 14:55:52,391]\u001b[0m Trial 9 finished with value: -1.0956217313426775 and parameters: {'max_depth': 5, 'min_child_weight': 12, 'subsample': 0.6, 'colsample_bytree': 0.8, 'reg_lambda': 2.298840134406991, 'reg_alpha': 34.11691076817579, 'feature_fraction': 0.5974298757815053, 'bagging_fraction': 0.870284801509839, 'bagging_freq': 2}. Best is trial 0 with value: -1.0924228604307884.\u001b[0m\n"
     ]
    },
    {
     "name": "stdout",
     "output_type": "stream",
     "text": [
      "Early stopping, best iteration is:\n",
      "[240]\ttraining's l1: 0.817076\tvalid_1's l1: 1.09569\n",
      "[LightGBM] [Warning] feature_fraction is set=0.87855981367915, colsample_bytree=0.9 will be ignored. Current value: feature_fraction=0.87855981367915\n",
      "[LightGBM] [Warning] bagging_fraction is set=0.40283348770211497, subsample=0.8 will be ignored. Current value: bagging_fraction=0.40283348770211497\n",
      "[LightGBM] [Warning] bagging_freq is set=10, subsample_freq=0 will be ignored. Current value: bagging_freq=10\n",
      "Training until validation scores don't improve for 100 rounds\n",
      "[100]\ttraining's l1: 0.847605\tvalid_1's l1: 1.10146\n",
      "[200]\ttraining's l1: 0.832679\tvalid_1's l1: 1.09564\n",
      "[300]\ttraining's l1: 0.816732\tvalid_1's l1: 1.09207\n",
      "[400]\ttraining's l1: 0.800648\tvalid_1's l1: 1.08909\n",
      "[500]\ttraining's l1: 0.785605\tvalid_1's l1: 1.08929\n",
      "Early stopping, best iteration is:\n",
      "[406]\ttraining's l1: 0.798433\tvalid_1's l1: 1.08815\n"
     ]
    },
    {
     "name": "stderr",
     "output_type": "stream",
     "text": [
      "\u001b[32m[I 2021-07-06 14:56:05,788]\u001b[0m Trial 10 finished with value: -1.0880266411806947 and parameters: {'max_depth': 20, 'min_child_weight': 17, 'subsample': 0.8, 'colsample_bytree': 0.9, 'reg_lambda': 0.0024696254139093764, 'reg_alpha': 0.23638281538584918, 'feature_fraction': 0.87855981367915, 'bagging_fraction': 0.40283348770211497, 'bagging_freq': 10}. Best is trial 10 with value: -1.0880266411806947.\u001b[0m\n"
     ]
    },
    {
     "name": "stdout",
     "output_type": "stream",
     "text": [
      "[LightGBM] [Warning] feature_fraction is set=0.873631994089784, colsample_bytree=0.9 will be ignored. Current value: feature_fraction=0.873631994089784\n",
      "[LightGBM] [Warning] bagging_fraction is set=0.402394582253042, subsample=0.8 will be ignored. Current value: bagging_fraction=0.402394582253042\n",
      "[LightGBM] [Warning] bagging_freq is set=10, subsample_freq=0 will be ignored. Current value: bagging_freq=10\n",
      "Training until validation scores don't improve for 100 rounds\n",
      "[100]\ttraining's l1: 0.85014\tvalid_1's l1: 1.1068\n",
      "[200]\ttraining's l1: 0.825314\tvalid_1's l1: 1.09753\n",
      "[300]\ttraining's l1: 0.811187\tvalid_1's l1: 1.09683\n"
     ]
    },
    {
     "name": "stderr",
     "output_type": "stream",
     "text": [
      "\u001b[32m[I 2021-07-06 14:56:16,028]\u001b[0m Trial 11 finished with value: -1.0952212365177452 and parameters: {'max_depth': 20, 'min_child_weight': 17, 'subsample': 0.8, 'colsample_bytree': 0.9, 'reg_lambda': 0.0010105149357842247, 'reg_alpha': 0.6497196584330203, 'feature_fraction': 0.873631994089784, 'bagging_fraction': 0.402394582253042, 'bagging_freq': 10}. Best is trial 10 with value: -1.0880266411806947.\u001b[0m\n"
     ]
    },
    {
     "name": "stdout",
     "output_type": "stream",
     "text": [
      "Early stopping, best iteration is:\n",
      "[256]\ttraining's l1: 0.817396\tvalid_1's l1: 1.09532\n",
      "[LightGBM] [Warning] feature_fraction is set=0.903574920971258, colsample_bytree=0.7 will be ignored. Current value: feature_fraction=0.903574920971258\n",
      "[LightGBM] [Warning] bagging_fraction is set=0.4068316478966668, subsample=0.8 will be ignored. Current value: bagging_fraction=0.4068316478966668\n",
      "[LightGBM] [Warning] bagging_freq is set=8, subsample_freq=0 will be ignored. Current value: bagging_freq=8\n",
      "Training until validation scores don't improve for 100 rounds\n",
      "[100]\ttraining's l1: 0.850696\tvalid_1's l1: 1.10657\n",
      "[200]\ttraining's l1: 0.838207\tvalid_1's l1: 1.10194\n",
      "[300]\ttraining's l1: 0.828156\tvalid_1's l1: 1.09834\n",
      "[400]\ttraining's l1: 0.812004\tvalid_1's l1: 1.09744\n"
     ]
    },
    {
     "name": "stderr",
     "output_type": "stream",
     "text": [
      "\u001b[32m[I 2021-07-06 14:56:29,645]\u001b[0m Trial 12 finished with value: -1.0948539237022845 and parameters: {'max_depth': 15, 'min_child_weight': 15, 'subsample': 0.8, 'colsample_bytree': 0.7, 'reg_lambda': 0.0015918275390818643, 'reg_alpha': 0.6222061333414447, 'feature_fraction': 0.903574920971258, 'bagging_fraction': 0.4068316478966668, 'bagging_freq': 8}. Best is trial 10 with value: -1.0880266411806947.\u001b[0m\n"
     ]
    },
    {
     "name": "stdout",
     "output_type": "stream",
     "text": [
      "Early stopping, best iteration is:\n",
      "[395]\ttraining's l1: 0.812717\tvalid_1's l1: 1.095\n",
      "[LightGBM] [Warning] feature_fraction is set=0.7679293064072384, colsample_bytree=0.9 will be ignored. Current value: feature_fraction=0.7679293064072384\n",
      "[LightGBM] [Warning] bagging_fraction is set=0.4937034128550051, subsample=0.7 will be ignored. Current value: bagging_fraction=0.4937034128550051\n",
      "[LightGBM] [Warning] bagging_freq is set=9, subsample_freq=0 will be ignored. Current value: bagging_freq=9\n",
      "Training until validation scores don't improve for 100 rounds\n",
      "[100]\ttraining's l1: 0.848463\tvalid_1's l1: 1.10325\n",
      "[200]\ttraining's l1: 0.823847\tvalid_1's l1: 1.09675\n",
      "[300]\ttraining's l1: 0.803475\tvalid_1's l1: 1.09768\n"
     ]
    },
    {
     "name": "stderr",
     "output_type": "stream",
     "text": [
      "\u001b[32m[I 2021-07-06 14:56:40,863]\u001b[0m Trial 13 finished with value: -1.0952411372930149 and parameters: {'max_depth': 20, 'min_child_weight': 20, 'subsample': 0.7, 'colsample_bytree': 0.9, 'reg_lambda': 0.01590762683889492, 'reg_alpha': 0.02439105144674033, 'feature_fraction': 0.7679293064072384, 'bagging_fraction': 0.4937034128550051, 'bagging_freq': 9}. Best is trial 10 with value: -1.0880266411806947.\u001b[0m\n"
     ]
    },
    {
     "name": "stdout",
     "output_type": "stream",
     "text": [
      "Early stopping, best iteration is:\n",
      "[254]\ttraining's l1: 0.813868\tvalid_1's l1: 1.09532\n",
      "[LightGBM] [Warning] feature_fraction is set=0.6559730272140847, colsample_bytree=0.6 will be ignored. Current value: feature_fraction=0.6559730272140847\n",
      "[LightGBM] [Warning] bagging_fraction is set=0.5196022491679088, subsample=0.8 will be ignored. Current value: bagging_fraction=0.5196022491679088\n",
      "[LightGBM] [Warning] bagging_freq is set=10, subsample_freq=0 will be ignored. Current value: bagging_freq=10\n",
      "Training until validation scores don't improve for 100 rounds\n",
      "[100]\ttraining's l1: 0.975261\tvalid_1's l1: 1.22299\n",
      "[200]\ttraining's l1: 0.957779\tvalid_1's l1: 1.19105\n",
      "[300]\ttraining's l1: 0.953439\tvalid_1's l1: 1.18308\n",
      "[400]\ttraining's l1: 0.950137\tvalid_1's l1: 1.17615\n",
      "[500]\ttraining's l1: 0.947656\tvalid_1's l1: 1.17195\n",
      "[600]\ttraining's l1: 0.946116\tvalid_1's l1: 1.17035\n",
      "[700]\ttraining's l1: 0.944759\tvalid_1's l1: 1.16953\n"
     ]
    },
    {
     "name": "stderr",
     "output_type": "stream",
     "text": [
      "\u001b[32m[I 2021-07-06 14:56:57,353]\u001b[0m Trial 14 finished with value: -1.1685745570088852 and parameters: {'max_depth': 1, 'min_child_weight': 10, 'subsample': 0.8, 'colsample_bytree': 0.6, 'reg_lambda': 0.14746597822992258, 'reg_alpha': 783.5728546491581, 'feature_fraction': 0.6559730272140847, 'bagging_fraction': 0.5196022491679088, 'bagging_freq': 10}. Best is trial 10 with value: -1.0880266411806947.\u001b[0m\n"
     ]
    },
    {
     "name": "stdout",
     "output_type": "stream",
     "text": [
      "Early stopping, best iteration is:\n",
      "[643]\ttraining's l1: 0.945283\tvalid_1's l1: 1.16875\n",
      "[LightGBM] [Warning] feature_fraction is set=0.9172247040687463, colsample_bytree=0.6 will be ignored. Current value: feature_fraction=0.9172247040687463\n",
      "[LightGBM] [Warning] bagging_fraction is set=0.5711670465334726, subsample=0.6 will be ignored. Current value: bagging_fraction=0.5711670465334726\n",
      "[LightGBM] [Warning] bagging_freq is set=8, subsample_freq=0 will be ignored. Current value: bagging_freq=8\n",
      "Training until validation scores don't improve for 100 rounds\n",
      "[100]\ttraining's l1: 0.848375\tvalid_1's l1: 1.10282\n",
      "[200]\ttraining's l1: 0.830162\tvalid_1's l1: 1.09498\n",
      "[300]\ttraining's l1: 0.81395\tvalid_1's l1: 1.09399\n",
      "[400]\ttraining's l1: 0.792373\tvalid_1's l1: 1.09275\n"
     ]
    },
    {
     "name": "stderr",
     "output_type": "stream",
     "text": [
      "\u001b[32m[I 2021-07-06 14:57:12,652]\u001b[0m Trial 15 finished with value: -1.0912762133021376 and parameters: {'max_depth': 17, 'min_child_weight': 16, 'subsample': 0.6, 'colsample_bytree': 0.6, 'reg_lambda': 0.0031180087274452085, 'reg_alpha': 0.0011984682816884216, 'feature_fraction': 0.9172247040687463, 'bagging_fraction': 0.5711670465334726, 'bagging_freq': 8}. Best is trial 10 with value: -1.0880266411806947.\u001b[0m\n"
     ]
    },
    {
     "name": "stdout",
     "output_type": "stream",
     "text": [
      "Early stopping, best iteration is:\n",
      "[361]\ttraining's l1: 0.799479\tvalid_1's l1: 1.09138\n",
      "[LightGBM] [Warning] feature_fraction is set=0.9363393044883406, colsample_bytree=0.6 will be ignored. Current value: feature_fraction=0.9363393044883406\n",
      "[LightGBM] [Warning] bagging_fraction is set=0.5700190291333734, subsample=0.6 will be ignored. Current value: bagging_fraction=0.5700190291333734\n",
      "[LightGBM] [Warning] bagging_freq is set=8, subsample_freq=0 will be ignored. Current value: bagging_freq=8\n",
      "Training until validation scores don't improve for 100 rounds\n",
      "[100]\ttraining's l1: 0.851892\tvalid_1's l1: 1.10521\n",
      "[200]\ttraining's l1: 0.831564\tvalid_1's l1: 1.09976\n",
      "[300]\ttraining's l1: 0.811728\tvalid_1's l1: 1.10224\n"
     ]
    },
    {
     "name": "stderr",
     "output_type": "stream",
     "text": [
      "\u001b[32m[I 2021-07-06 14:57:23,549]\u001b[0m Trial 16 finished with value: -1.0980017286019788 and parameters: {'max_depth': 13, 'min_child_weight': 18, 'subsample': 0.6, 'colsample_bytree': 0.6, 'reg_lambda': 0.001332794816289145, 'reg_alpha': 0.11224423023023855, 'feature_fraction': 0.9363393044883406, 'bagging_fraction': 0.5700190291333734, 'bagging_freq': 8}. Best is trial 10 with value: -1.0880266411806947.\u001b[0m\n"
     ]
    },
    {
     "name": "stdout",
     "output_type": "stream",
     "text": [
      "Early stopping, best iteration is:\n",
      "[211]\ttraining's l1: 0.828541\tvalid_1's l1: 1.09814\n",
      "[LightGBM] [Warning] feature_fraction is set=0.8186265874055388, colsample_bytree=0.6 will be ignored. Current value: feature_fraction=0.8186265874055388\n",
      "[LightGBM] [Warning] bagging_fraction is set=0.42601851374443156, subsample=0.6 will be ignored. Current value: bagging_fraction=0.42601851374443156\n",
      "[LightGBM] [Warning] bagging_freq is set=7, subsample_freq=0 will be ignored. Current value: bagging_freq=7\n",
      "Training until validation scores don't improve for 100 rounds\n",
      "[100]\ttraining's l1: 0.847393\tvalid_1's l1: 1.10214\n",
      "[200]\ttraining's l1: 0.834605\tvalid_1's l1: 1.10086\n",
      "[300]\ttraining's l1: 0.816544\tvalid_1's l1: 1.09736\n",
      "[400]\ttraining's l1: 0.797933\tvalid_1's l1: 1.10358\n",
      "Early stopping, best iteration is:\n",
      "[308]\ttraining's l1: 0.815685\tvalid_1's l1: 1.09691\n"
     ]
    },
    {
     "name": "stderr",
     "output_type": "stream",
     "text": [
      "\u001b[32m[I 2021-07-06 14:57:35,440]\u001b[0m Trial 17 finished with value: -1.096823005667315 and parameters: {'max_depth': 17, 'min_child_weight': 12, 'subsample': 0.6, 'colsample_bytree': 0.6, 'reg_lambda': 0.07804037195566065, 'reg_alpha': 2.8474054091199097, 'feature_fraction': 0.8186265874055388, 'bagging_fraction': 0.42601851374443156, 'bagging_freq': 7}. Best is trial 10 with value: -1.0880266411806947.\u001b[0m\n"
     ]
    },
    {
     "name": "stdout",
     "output_type": "stream",
     "text": [
      "[LightGBM] [Warning] feature_fraction is set=0.9986303152631402, colsample_bytree=0.9 will be ignored. Current value: feature_fraction=0.9986303152631402\n",
      "[LightGBM] [Warning] bagging_fraction is set=0.596010449001202, subsample=0.5 will be ignored. Current value: bagging_fraction=0.596010449001202\n",
      "[LightGBM] [Warning] bagging_freq is set=8, subsample_freq=0 will be ignored. Current value: bagging_freq=8\n",
      "Training until validation scores don't improve for 100 rounds\n",
      "[100]\ttraining's l1: 0.854035\tvalid_1's l1: 1.10694\n",
      "[200]\ttraining's l1: 0.847966\tvalid_1's l1: 1.10347\n",
      "[300]\ttraining's l1: 0.842598\tvalid_1's l1: 1.09979\n",
      "[400]\ttraining's l1: 0.842054\tvalid_1's l1: 1.09968\n"
     ]
    },
    {
     "name": "stderr",
     "output_type": "stream",
     "text": [
      "\u001b[32m[I 2021-07-06 14:57:49,858]\u001b[0m Trial 18 finished with value: -1.099581144270843 and parameters: {'max_depth': 12, 'min_child_weight': 17, 'subsample': 0.5, 'colsample_bytree': 0.9, 'reg_lambda': 0.003245011472217934, 'reg_alpha': 0.011455947167218861, 'feature_fraction': 0.9986303152631402, 'bagging_fraction': 0.596010449001202, 'bagging_freq': 8}. Best is trial 10 with value: -1.0880266411806947.\u001b[0m\n"
     ]
    },
    {
     "name": "stdout",
     "output_type": "stream",
     "text": [
      "Early stopping, best iteration is:\n",
      "[336]\ttraining's l1: 0.842145\tvalid_1's l1: 1.09964\n",
      "[LightGBM] [Warning] feature_fraction is set=0.5575902982685554, colsample_bytree=0.6 will be ignored. Current value: feature_fraction=0.5575902982685554\n",
      "[LightGBM] [Warning] bagging_fraction is set=0.7291236694025138, subsample=0.9 will be ignored. Current value: bagging_fraction=0.7291236694025138\n",
      "[LightGBM] [Warning] bagging_freq is set=9, subsample_freq=0 will be ignored. Current value: bagging_freq=9\n",
      "Training until validation scores don't improve for 100 rounds\n",
      "[100]\ttraining's l1: 0.837518\tvalid_1's l1: 1.10439\n",
      "[200]\ttraining's l1: 0.811622\tvalid_1's l1: 1.09924\n"
     ]
    },
    {
     "name": "stderr",
     "output_type": "stream",
     "text": [
      "\u001b[32m[I 2021-07-06 14:58:02,988]\u001b[0m Trial 19 finished with value: -1.0977262273005448 and parameters: {'max_depth': 17, 'min_child_weight': 7, 'subsample': 0.9, 'colsample_bytree': 0.6, 'reg_lambda': 0.5341652396442964, 'reg_alpha': 0.24322421006532252, 'feature_fraction': 0.5575902982685554, 'bagging_fraction': 0.7291236694025138, 'bagging_freq': 9}. Best is trial 10 with value: -1.0880266411806947.\u001b[0m\n"
     ]
    },
    {
     "name": "stdout",
     "output_type": "stream",
     "text": [
      "Early stopping, best iteration is:\n",
      "[164]\ttraining's l1: 0.818724\tvalid_1's l1: 1.09794\n",
      "[LightGBM] [Warning] feature_fraction is set=0.7572502414890199, colsample_bytree=0.7 will be ignored. Current value: feature_fraction=0.7572502414890199\n",
      "[LightGBM] [Warning] bagging_fraction is set=0.4467149650849724, subsample=0.8 will be ignored. Current value: bagging_fraction=0.4467149650849724\n",
      "[LightGBM] [Warning] bagging_freq is set=6, subsample_freq=0 will be ignored. Current value: bagging_freq=6\n",
      "Training until validation scores don't improve for 100 rounds\n",
      "[100]\ttraining's l1: 0.845559\tvalid_1's l1: 1.1022\n",
      "[200]\ttraining's l1: 0.812137\tvalid_1's l1: 1.10258\n",
      "[300]\ttraining's l1: 0.79106\tvalid_1's l1: 1.10258\n"
     ]
    },
    {
     "name": "stderr",
     "output_type": "stream",
     "text": [
      "\u001b[32m[I 2021-07-06 14:58:14,841]\u001b[0m Trial 20 finished with value: -1.098849688358484 and parameters: {'max_depth': 17, 'min_child_weight': 13, 'subsample': 0.8, 'colsample_bytree': 0.7, 'reg_lambda': 0.04878469957906994, 'reg_alpha': 3.8315847953870015, 'feature_fraction': 0.7572502414890199, 'bagging_fraction': 0.4467149650849724, 'bagging_freq': 6}. Best is trial 10 with value: -1.0880266411806947.\u001b[0m\n"
     ]
    },
    {
     "name": "stdout",
     "output_type": "stream",
     "text": [
      "Early stopping, best iteration is:\n",
      "[265]\ttraining's l1: 0.799556\tvalid_1's l1: 1.09897\n",
      "[LightGBM] [Warning] feature_fraction is set=0.9078128911579391, colsample_bytree=0.7 will be ignored. Current value: feature_fraction=0.9078128911579391\n",
      "[LightGBM] [Warning] bagging_fraction is set=0.5258325064295792, subsample=0.7 will be ignored. Current value: bagging_fraction=0.5258325064295792\n",
      "[LightGBM] [Warning] bagging_freq is set=9, subsample_freq=0 will be ignored. Current value: bagging_freq=9\n",
      "Training until validation scores don't improve for 100 rounds\n",
      "[100]\ttraining's l1: 0.853432\tvalid_1's l1: 1.10742\n",
      "[200]\ttraining's l1: 0.835636\tvalid_1's l1: 1.09881\n",
      "[300]\ttraining's l1: 0.822934\tvalid_1's l1: 1.10116\n"
     ]
    },
    {
     "name": "stderr",
     "output_type": "stream",
     "text": [
      "\u001b[32m[I 2021-07-06 14:58:27,339]\u001b[0m Trial 21 finished with value: -1.0976013031153957 and parameters: {'max_depth': 20, 'min_child_weight': 15, 'subsample': 0.7, 'colsample_bytree': 0.7, 'reg_lambda': 0.006547322488660039, 'reg_alpha': 0.0012877313867942187, 'feature_fraction': 0.9078128911579391, 'bagging_fraction': 0.5258325064295792, 'bagging_freq': 9}. Best is trial 10 with value: -1.0880266411806947.\u001b[0m\n"
     ]
    },
    {
     "name": "stdout",
     "output_type": "stream",
     "text": [
      "Early stopping, best iteration is:\n",
      "[292]\ttraining's l1: 0.823623\tvalid_1's l1: 1.09766\n",
      "[LightGBM] [Warning] feature_fraction is set=0.8413374655585516, colsample_bytree=0.7 will be ignored. Current value: feature_fraction=0.8413374655585516\n",
      "[LightGBM] [Warning] bagging_fraction is set=0.46168171413760495, subsample=0.6 will be ignored. Current value: bagging_fraction=0.46168171413760495\n",
      "[LightGBM] [Warning] bagging_freq is set=10, subsample_freq=0 will be ignored. Current value: bagging_freq=10\n",
      "Training until validation scores don't improve for 100 rounds\n",
      "[100]\ttraining's l1: 0.850155\tvalid_1's l1: 1.10366\n",
      "[200]\ttraining's l1: 0.825554\tvalid_1's l1: 1.09865\n",
      "[300]\ttraining's l1: 0.809977\tvalid_1's l1: 1.09663\n",
      "[400]\ttraining's l1: 0.786266\tvalid_1's l1: 1.09594\n"
     ]
    },
    {
     "name": "stderr",
     "output_type": "stream",
     "text": [
      "\u001b[32m[I 2021-07-06 14:58:40,077]\u001b[0m Trial 22 finished with value: -1.0939975923877205 and parameters: {'max_depth': 20, 'min_child_weight': 16, 'subsample': 0.6, 'colsample_bytree': 0.7, 'reg_lambda': 0.004419866768436656, 'reg_alpha': 0.005783307576891545, 'feature_fraction': 0.8413374655585516, 'bagging_fraction': 0.46168171413760495, 'bagging_freq': 10}. Best is trial 10 with value: -1.0880266411806947.\u001b[0m\n"
     ]
    },
    {
     "name": "stdout",
     "output_type": "stream",
     "text": [
      "Early stopping, best iteration is:\n",
      "[342]\ttraining's l1: 0.802879\tvalid_1's l1: 1.09415\n",
      "[LightGBM] [Warning] feature_fraction is set=0.9199496161085476, colsample_bytree=0.6 will be ignored. Current value: feature_fraction=0.9199496161085476\n",
      "[LightGBM] [Warning] bagging_fraction is set=0.5555765981022136, subsample=0.7 will be ignored. Current value: bagging_fraction=0.5555765981022136\n",
      "[LightGBM] [Warning] bagging_freq is set=9, subsample_freq=0 will be ignored. Current value: bagging_freq=9\n",
      "Training until validation scores don't improve for 100 rounds\n",
      "[100]\ttraining's l1: 0.853247\tvalid_1's l1: 1.10621\n",
      "[200]\ttraining's l1: 0.842844\tvalid_1's l1: 1.09952\n",
      "[300]\ttraining's l1: 0.836543\tvalid_1's l1: 1.10024\n"
     ]
    },
    {
     "name": "stderr",
     "output_type": "stream",
     "text": [
      "\u001b[32m[I 2021-07-06 14:58:52,138]\u001b[0m Trial 23 finished with value: -1.0978271949142235 and parameters: {'max_depth': 18, 'min_child_weight': 19, 'subsample': 0.7, 'colsample_bytree': 0.6, 'reg_lambda': 0.001080907670131775, 'reg_alpha': 0.0019218892486763826, 'feature_fraction': 0.9199496161085476, 'bagging_fraction': 0.5555765981022136, 'bagging_freq': 9}. Best is trial 10 with value: -1.0880266411806947.\u001b[0m\n"
     ]
    },
    {
     "name": "stdout",
     "output_type": "stream",
     "text": [
      "Early stopping, best iteration is:\n",
      "[270]\ttraining's l1: 0.839341\tvalid_1's l1: 1.0979\n",
      "[LightGBM] [Warning] feature_fraction is set=0.7951559203773264, colsample_bytree=0.8 will be ignored. Current value: feature_fraction=0.7951559203773264\n",
      "[LightGBM] [Warning] bagging_fraction is set=0.6461918520100892, subsample=0.6 will be ignored. Current value: bagging_fraction=0.6461918520100892\n",
      "[LightGBM] [Warning] bagging_freq is set=10, subsample_freq=0 will be ignored. Current value: bagging_freq=10\n",
      "Training until validation scores don't improve for 100 rounds\n",
      "[100]\ttraining's l1: 0.848326\tvalid_1's l1: 1.10314\n",
      "[200]\ttraining's l1: 0.822719\tvalid_1's l1: 1.10022\n",
      "[300]\ttraining's l1: 0.80334\tvalid_1's l1: 1.0997\n",
      "[400]\ttraining's l1: 0.78022\tvalid_1's l1: 1.09969\n"
     ]
    },
    {
     "name": "stderr",
     "output_type": "stream",
     "text": [
      "\u001b[32m[I 2021-07-06 14:59:08,433]\u001b[0m Trial 24 finished with value: -1.0980257811819287 and parameters: {'max_depth': 16, 'min_child_weight': 14, 'subsample': 0.6, 'colsample_bytree': 0.8, 'reg_lambda': 0.028827841914534857, 'reg_alpha': 0.009627728088576345, 'feature_fraction': 0.7951559203773264, 'bagging_fraction': 0.6461918520100892, 'bagging_freq': 10}. Best is trial 10 with value: -1.0880266411806947.\u001b[0m\n"
     ]
    },
    {
     "name": "stdout",
     "output_type": "stream",
     "text": [
      "Early stopping, best iteration is:\n",
      "[359]\ttraining's l1: 0.784777\tvalid_1's l1: 1.09812\n",
      "[LightGBM] [Warning] feature_fraction is set=0.8702815561790936, colsample_bytree=0.7 will be ignored. Current value: feature_fraction=0.8702815561790936\n",
      "[LightGBM] [Warning] bagging_fraction is set=0.47405094526153807, subsample=0.8 will be ignored. Current value: bagging_fraction=0.47405094526153807\n",
      "[LightGBM] [Warning] bagging_freq is set=8, subsample_freq=0 will be ignored. Current value: bagging_freq=8\n",
      "Training until validation scores don't improve for 100 rounds\n",
      "[100]\ttraining's l1: 0.849306\tvalid_1's l1: 1.10559\n",
      "[200]\ttraining's l1: 0.834503\tvalid_1's l1: 1.10242\n",
      "[300]\ttraining's l1: 0.81817\tvalid_1's l1: 1.10101\n",
      "[400]\ttraining's l1: 0.79404\tvalid_1's l1: 1.09408\n"
     ]
    },
    {
     "name": "stderr",
     "output_type": "stream",
     "text": [
      "\u001b[32m[I 2021-07-06 14:59:22,529]\u001b[0m Trial 25 finished with value: -1.0938840944522723 and parameters: {'max_depth': 19, 'min_child_weight': 16, 'subsample': 0.8, 'colsample_bytree': 0.7, 'reg_lambda': 0.004176529717964641, 'reg_alpha': 0.0010094554619325573, 'feature_fraction': 0.8702815561790936, 'bagging_fraction': 0.47405094526153807, 'bagging_freq': 8}. Best is trial 10 with value: -1.0880266411806947.\u001b[0m\n"
     ]
    },
    {
     "name": "stdout",
     "output_type": "stream",
     "text": [
      "Early stopping, best iteration is:\n",
      "[376]\ttraining's l1: 0.801136\tvalid_1's l1: 1.09398\n",
      "[LightGBM] [Warning] feature_fraction is set=0.9541675965241748, colsample_bytree=0.6 will be ignored. Current value: feature_fraction=0.9541675965241748\n",
      "[LightGBM] [Warning] bagging_fraction is set=0.5626551020876246, subsample=0.7 will be ignored. Current value: bagging_fraction=0.5626551020876246\n",
      "[LightGBM] [Warning] bagging_freq is set=9, subsample_freq=0 will be ignored. Current value: bagging_freq=9\n",
      "Training until validation scores don't improve for 100 rounds\n",
      "[100]\ttraining's l1: 0.854501\tvalid_1's l1: 1.10772\n",
      "[200]\ttraining's l1: 0.83808\tvalid_1's l1: 1.09961\n",
      "[300]\ttraining's l1: 0.818593\tvalid_1's l1: 1.09692\n"
     ]
    },
    {
     "name": "stderr",
     "output_type": "stream",
     "text": [
      "\u001b[32m[I 2021-07-06 14:59:35,631]\u001b[0m Trial 26 finished with value: -1.094554348884404 and parameters: {'max_depth': 12, 'min_child_weight': 12, 'subsample': 0.7, 'colsample_bytree': 0.6, 'reg_lambda': 0.009878708801190296, 'reg_alpha': 0.1567390917056537, 'feature_fraction': 0.9541675965241748, 'bagging_fraction': 0.5626551020876246, 'bagging_freq': 9}. Best is trial 10 with value: -1.0880266411806947.\u001b[0m\n"
     ]
    },
    {
     "name": "stdout",
     "output_type": "stream",
     "text": [
      "Early stopping, best iteration is:\n",
      "[291]\ttraining's l1: 0.820534\tvalid_1's l1: 1.09458\n",
      "[LightGBM] [Warning] feature_fraction is set=0.7179606382238155, colsample_bytree=0.5 will be ignored. Current value: feature_fraction=0.7179606382238155\n",
      "[LightGBM] [Warning] bagging_fraction is set=0.40276678221441176, subsample=0.7 will be ignored. Current value: bagging_fraction=0.40276678221441176\n",
      "[LightGBM] [Warning] bagging_freq is set=6, subsample_freq=0 will be ignored. Current value: bagging_freq=6\n",
      "Training until validation scores don't improve for 100 rounds\n",
      "[100]\ttraining's l1: 0.845506\tvalid_1's l1: 1.10289\n",
      "[200]\ttraining's l1: 0.811642\tvalid_1's l1: 1.0945\n"
     ]
    },
    {
     "name": "stderr",
     "output_type": "stream",
     "text": [
      "\u001b[32m[I 2021-07-06 14:59:44,304]\u001b[0m Trial 27 finished with value: -1.0937248527690817 and parameters: {'max_depth': 18, 'min_child_weight': 19, 'subsample': 0.7, 'colsample_bytree': 0.5, 'reg_lambda': 0.002658556168197438, 'reg_alpha': 0.014858915136423758, 'feature_fraction': 0.7179606382238155, 'bagging_fraction': 0.40276678221441176, 'bagging_freq': 6}. Best is trial 10 with value: -1.0880266411806947.\u001b[0m\n"
     ]
    },
    {
     "name": "stdout",
     "output_type": "stream",
     "text": [
      "Early stopping, best iteration is:\n",
      "[185]\ttraining's l1: 0.815976\tvalid_1's l1: 1.09378\n",
      "[LightGBM] [Warning] feature_fraction is set=0.8854178998249445, colsample_bytree=0.7 will be ignored. Current value: feature_fraction=0.8854178998249445\n",
      "[LightGBM] [Warning] bagging_fraction is set=0.5307093293670415, subsample=0.6 will be ignored. Current value: bagging_fraction=0.5307093293670415\n",
      "[LightGBM] [Warning] bagging_freq is set=10, subsample_freq=0 will be ignored. Current value: bagging_freq=10\n",
      "Training until validation scores don't improve for 100 rounds\n",
      "[100]\ttraining's l1: 0.848126\tvalid_1's l1: 1.10581\n",
      "[200]\ttraining's l1: 0.830935\tvalid_1's l1: 1.10158\n",
      "[300]\ttraining's l1: 0.819001\tvalid_1's l1: 1.10377\n"
     ]
    },
    {
     "name": "stderr",
     "output_type": "stream",
     "text": [
      "\u001b[32m[I 2021-07-06 14:59:55,109]\u001b[0m Trial 28 finished with value: -1.101189670256888 and parameters: {'max_depth': 15, 'min_child_weight': 16, 'subsample': 0.6, 'colsample_bytree': 0.7, 'reg_lambda': 0.09713591794185555, 'reg_alpha': 0.005046333850038492, 'feature_fraction': 0.8854178998249445, 'bagging_fraction': 0.5307093293670415, 'bagging_freq': 10}. Best is trial 10 with value: -1.0880266411806947.\u001b[0m\n"
     ]
    },
    {
     "name": "stdout",
     "output_type": "stream",
     "text": [
      "Early stopping, best iteration is:\n",
      "[230]\ttraining's l1: 0.828126\tvalid_1's l1: 1.10126\n",
      "[LightGBM] [Warning] feature_fraction is set=0.8441312219481676, colsample_bytree=0.5 will be ignored. Current value: feature_fraction=0.8441312219481676\n",
      "[LightGBM] [Warning] bagging_fraction is set=0.4518550900265942, subsample=0.9 will be ignored. Current value: bagging_fraction=0.4518550900265942\n",
      "[LightGBM] [Warning] bagging_freq is set=8, subsample_freq=0 will be ignored. Current value: bagging_freq=8\n",
      "Training until validation scores don't improve for 100 rounds\n",
      "[100]\ttraining's l1: 0.853478\tvalid_1's l1: 1.10475\n",
      "[200]\ttraining's l1: 0.828053\tvalid_1's l1: 1.09698\n",
      "[300]\ttraining's l1: 0.805988\tvalid_1's l1: 1.09417\n",
      "[400]\ttraining's l1: 0.785891\tvalid_1's l1: 1.10007\n"
     ]
    },
    {
     "name": "stderr",
     "output_type": "stream",
     "text": [
      "\u001b[32m[I 2021-07-06 15:00:07,939]\u001b[0m Trial 29 finished with value: -1.091088846783514 and parameters: {'max_depth': 19, 'min_child_weight': 9, 'subsample': 0.9, 'colsample_bytree': 0.5, 'reg_lambda': 0.029765812802608246, 'reg_alpha': 0.0010536592947049937, 'feature_fraction': 0.8441312219481676, 'bagging_fraction': 0.4518550900265942, 'bagging_freq': 8}. Best is trial 10 with value: -1.0880266411806947.\u001b[0m\n"
     ]
    },
    {
     "name": "stdout",
     "output_type": "stream",
     "text": [
      "Early stopping, best iteration is:\n",
      "[339]\ttraining's l1: 0.798331\tvalid_1's l1: 1.09126\n",
      "[LightGBM] [Warning] feature_fraction is set=0.7898842787810205, colsample_bytree=0.5 will be ignored. Current value: feature_fraction=0.7898842787810205\n",
      "[LightGBM] [Warning] bagging_fraction is set=0.44785737045457963, subsample=0.9 will be ignored. Current value: bagging_fraction=0.44785737045457963\n",
      "[LightGBM] [Warning] bagging_freq is set=7, subsample_freq=0 will be ignored. Current value: bagging_freq=7\n",
      "Training until validation scores don't improve for 100 rounds\n",
      "[100]\ttraining's l1: 0.847352\tvalid_1's l1: 1.10347\n",
      "[200]\ttraining's l1: 0.831793\tvalid_1's l1: 1.09928\n",
      "[300]\ttraining's l1: 0.808856\tvalid_1's l1: 1.09588\n",
      "[400]\ttraining's l1: 0.790071\tvalid_1's l1: 1.09717\n"
     ]
    },
    {
     "name": "stderr",
     "output_type": "stream",
     "text": [
      "\u001b[32m[I 2021-07-06 15:00:20,848]\u001b[0m Trial 30 finished with value: -1.0948984874410623 and parameters: {'max_depth': 19, 'min_child_weight': 8, 'subsample': 0.9, 'colsample_bytree': 0.5, 'reg_lambda': 0.363758984951904, 'reg_alpha': 1.7803273984244106, 'feature_fraction': 0.7898842787810205, 'bagging_fraction': 0.44785737045457963, 'bagging_freq': 7}. Best is trial 10 with value: -1.0880266411806947.\u001b[0m\n"
     ]
    },
    {
     "name": "stdout",
     "output_type": "stream",
     "text": [
      "Early stopping, best iteration is:\n",
      "[324]\ttraining's l1: 0.803051\tvalid_1's l1: 1.09497\n",
      "[LightGBM] [Warning] feature_fraction is set=0.843407645014493, colsample_bytree=0.5 will be ignored. Current value: feature_fraction=0.843407645014493\n",
      "[LightGBM] [Warning] bagging_fraction is set=0.49507875090794823, subsample=0.9 will be ignored. Current value: bagging_fraction=0.49507875090794823\n",
      "[LightGBM] [Warning] bagging_freq is set=8, subsample_freq=0 will be ignored. Current value: bagging_freq=8\n",
      "Training until validation scores don't improve for 100 rounds\n",
      "[100]\ttraining's l1: 0.847474\tvalid_1's l1: 1.10438\n",
      "[200]\ttraining's l1: 0.831618\tvalid_1's l1: 1.09915\n",
      "[300]\ttraining's l1: 0.821495\tvalid_1's l1: 1.09736\n",
      "[400]\ttraining's l1: 0.811467\tvalid_1's l1: 1.09559\n"
     ]
    },
    {
     "name": "stderr",
     "output_type": "stream",
     "text": [
      "\u001b[32m[I 2021-07-06 15:00:34,658]\u001b[0m Trial 31 finished with value: -1.095317660928505 and parameters: {'max_depth': 20, 'min_child_weight': 9, 'subsample': 0.9, 'colsample_bytree': 0.5, 'reg_lambda': 0.02365236242344425, 'reg_alpha': 0.0014472337294278409, 'feature_fraction': 0.843407645014493, 'bagging_fraction': 0.49507875090794823, 'bagging_freq': 8}. Best is trial 10 with value: -1.0880266411806947.\u001b[0m\n"
     ]
    },
    {
     "name": "stdout",
     "output_type": "stream",
     "text": [
      "Early stopping, best iteration is:\n",
      "[363]\ttraining's l1: 0.81316\tvalid_1's l1: 1.09543\n",
      "[LightGBM] [Warning] feature_fraction is set=0.8471038342471839, colsample_bytree=0.6 will be ignored. Current value: feature_fraction=0.8471038342471839\n",
      "[LightGBM] [Warning] bagging_fraction is set=0.4378790340210052, subsample=0.8 will be ignored. Current value: bagging_fraction=0.4378790340210052\n",
      "[LightGBM] [Warning] bagging_freq is set=6, subsample_freq=0 will be ignored. Current value: bagging_freq=6\n",
      "Training until validation scores don't improve for 100 rounds\n",
      "[100]\ttraining's l1: 0.864135\tvalid_1's l1: 1.11387\n",
      "[200]\ttraining's l1: 0.849158\tvalid_1's l1: 1.11134\n",
      "[300]\ttraining's l1: 0.834028\tvalid_1's l1: 1.10803\n",
      "[400]\ttraining's l1: 0.824045\tvalid_1's l1: 1.10483\n",
      "[500]\ttraining's l1: 0.816023\tvalid_1's l1: 1.10128\n",
      "[600]\ttraining's l1: 0.810252\tvalid_1's l1: 1.10007\n",
      "[700]\ttraining's l1: 0.808357\tvalid_1's l1: 1.10037\n",
      "Early stopping, best iteration is:\n",
      "[618]\ttraining's l1: 0.809726\tvalid_1's l1: 1.09989\n"
     ]
    },
    {
     "name": "stderr",
     "output_type": "stream",
     "text": [
      "\u001b[32m[I 2021-07-06 15:00:54,333]\u001b[0m Trial 32 finished with value: -1.0997294474909405 and parameters: {'max_depth': 16, 'min_child_weight': 6, 'subsample': 0.8, 'colsample_bytree': 0.6, 'reg_lambda': 0.035518229723107, 'reg_alpha': 710.7598061471381, 'feature_fraction': 0.8471038342471839, 'bagging_fraction': 0.4378790340210052, 'bagging_freq': 6}. Best is trial 10 with value: -1.0880266411806947.\u001b[0m\n"
     ]
    },
    {
     "name": "stdout",
     "output_type": "stream",
     "text": [
      "[LightGBM] [Warning] feature_fraction is set=0.9718707133655282, colsample_bytree=0.5 will be ignored. Current value: feature_fraction=0.9718707133655282\n",
      "[LightGBM] [Warning] bagging_fraction is set=0.5901716824358717, subsample=0.9 will be ignored. Current value: bagging_fraction=0.5901716824358717\n",
      "[LightGBM] [Warning] bagging_freq is set=9, subsample_freq=0 will be ignored. Current value: bagging_freq=9\n",
      "Training until validation scores don't improve for 100 rounds\n",
      "[100]\ttraining's l1: 0.85096\tvalid_1's l1: 1.10711\n",
      "[200]\ttraining's l1: 0.832389\tvalid_1's l1: 1.09947\n",
      "[300]\ttraining's l1: 0.82071\tvalid_1's l1: 1.10152\n"
     ]
    },
    {
     "name": "stderr",
     "output_type": "stream",
     "text": [
      "\u001b[32m[I 2021-07-06 15:01:07,694]\u001b[0m Trial 33 finished with value: -1.0973554021271281 and parameters: {'max_depth': 18, 'min_child_weight': 10, 'subsample': 0.9, 'colsample_bytree': 0.5, 'reg_lambda': 0.008547858938614348, 'reg_alpha': 0.0010262167480425697, 'feature_fraction': 0.9718707133655282, 'bagging_fraction': 0.5901716824358717, 'bagging_freq': 9}. Best is trial 10 with value: -1.0880266411806947.\u001b[0m\n"
     ]
    },
    {
     "name": "stdout",
     "output_type": "stream",
     "text": [
      "Early stopping, best iteration is:\n",
      "[288]\ttraining's l1: 0.823285\tvalid_1's l1: 1.09742\n",
      "[LightGBM] [Warning] feature_fraction is set=0.9339489290331606, colsample_bytree=0.8 will be ignored. Current value: feature_fraction=0.9339489290331606\n",
      "[LightGBM] [Warning] bagging_fraction is set=0.6347506268657584, subsample=0.5 will be ignored. Current value: bagging_fraction=0.6347506268657584\n",
      "[LightGBM] [Warning] bagging_freq is set=7, subsample_freq=0 will be ignored. Current value: bagging_freq=7\n",
      "Training until validation scores don't improve for 100 rounds\n",
      "[100]\ttraining's l1: 0.853156\tvalid_1's l1: 1.10823\n",
      "[200]\ttraining's l1: 0.8409\tvalid_1's l1: 1.10083\n",
      "[300]\ttraining's l1: 0.826767\tvalid_1's l1: 1.0974\n",
      "[400]\ttraining's l1: 0.800071\tvalid_1's l1: 1.09525\n",
      "[500]\ttraining's l1: 0.789107\tvalid_1's l1: 1.0991\n"
     ]
    },
    {
     "name": "stderr",
     "output_type": "stream",
     "text": [
      "\u001b[32m[I 2021-07-06 15:01:25,974]\u001b[0m Trial 34 finished with value: -1.0943950177247836 and parameters: {'max_depth': 19, 'min_child_weight': 11, 'subsample': 0.5, 'colsample_bytree': 0.8, 'reg_lambda': 0.002438222742169155, 'reg_alpha': 0.03707058412835636, 'feature_fraction': 0.9339489290331606, 'bagging_fraction': 0.6347506268657584, 'bagging_freq': 7}. Best is trial 10 with value: -1.0880266411806947.\u001b[0m\n"
     ]
    },
    {
     "name": "stdout",
     "output_type": "stream",
     "text": [
      "Early stopping, best iteration is:\n",
      "[415]\ttraining's l1: 0.798629\tvalid_1's l1: 1.09448\n",
      "[LightGBM] [Warning] feature_fraction is set=0.7191820758922408, colsample_bytree=0.5 will be ignored. Current value: feature_fraction=0.7191820758922408\n",
      "[LightGBM] [Warning] bagging_fraction is set=0.479258687873745, subsample=0.8 will be ignored. Current value: bagging_fraction=0.479258687873745\n",
      "[LightGBM] [Warning] bagging_freq is set=8, subsample_freq=0 will be ignored. Current value: bagging_freq=8\n",
      "Training until validation scores don't improve for 100 rounds\n",
      "[100]\ttraining's l1: 0.847209\tvalid_1's l1: 1.10343\n",
      "[200]\ttraining's l1: 0.823669\tvalid_1's l1: 1.09902\n"
     ]
    },
    {
     "name": "stderr",
     "output_type": "stream",
     "text": [
      "\u001b[32m[I 2021-07-06 15:01:35,373]\u001b[0m Trial 35 finished with value: -1.0979509813500763 and parameters: {'max_depth': 14, 'min_child_weight': 14, 'subsample': 0.8, 'colsample_bytree': 0.5, 'reg_lambda': 2.045478770013748, 'reg_alpha': 0.004478248983822362, 'feature_fraction': 0.7191820758922408, 'bagging_fraction': 0.479258687873745, 'bagging_freq': 8}. Best is trial 10 with value: -1.0880266411806947.\u001b[0m\n"
     ]
    },
    {
     "name": "stdout",
     "output_type": "stream",
     "text": [
      "Early stopping, best iteration is:\n",
      "[193]\ttraining's l1: 0.82473\tvalid_1's l1: 1.098\n",
      "[LightGBM] [Warning] feature_fraction is set=0.827191884299701, colsample_bytree=0.6 will be ignored. Current value: feature_fraction=0.827191884299701\n",
      "[LightGBM] [Warning] bagging_fraction is set=0.6735968432634492, subsample=0.7 will be ignored. Current value: bagging_fraction=0.6735968432634492\n",
      "[LightGBM] [Warning] bagging_freq is set=4, subsample_freq=0 will be ignored. Current value: bagging_freq=4\n",
      "Training until validation scores don't improve for 100 rounds\n",
      "[100]\ttraining's l1: 0.847754\tvalid_1's l1: 1.10494\n",
      "[200]\ttraining's l1: 0.827714\tvalid_1's l1: 1.09909\n",
      "[300]\ttraining's l1: 0.809899\tvalid_1's l1: 1.10086\n"
     ]
    },
    {
     "name": "stderr",
     "output_type": "stream",
     "text": [
      "\u001b[32m[I 2021-07-06 15:01:49,038]\u001b[0m Trial 36 finished with value: -1.0978781893669645 and parameters: {'max_depth': 16, 'min_child_weight': 18, 'subsample': 0.7, 'colsample_bytree': 0.6, 'reg_lambda': 0.01457047356056753, 'reg_alpha': 0.03666564284877657, 'feature_fraction': 0.827191884299701, 'bagging_fraction': 0.6735968432634492, 'bagging_freq': 4}. Best is trial 10 with value: -1.0880266411806947.\u001b[0m\n"
     ]
    },
    {
     "name": "stdout",
     "output_type": "stream",
     "text": [
      "Early stopping, best iteration is:\n",
      "[212]\ttraining's l1: 0.824927\tvalid_1's l1: 1.09795\n",
      "[LightGBM] [Warning] feature_fraction is set=0.8925324736643486, colsample_bytree=0.8 will be ignored. Current value: feature_fraction=0.8925324736643486\n",
      "[LightGBM] [Warning] bagging_fraction is set=0.5418123023521891, subsample=0.9 will be ignored. Current value: bagging_fraction=0.5418123023521891\n",
      "[LightGBM] [Warning] bagging_freq is set=1, subsample_freq=0 will be ignored. Current value: bagging_freq=1\n",
      "Training until validation scores don't improve for 100 rounds\n",
      "[100]\ttraining's l1: 0.852189\tvalid_1's l1: 1.10632\n",
      "[200]\ttraining's l1: 0.830484\tvalid_1's l1: 1.09943\n",
      "[300]\ttraining's l1: 0.807278\tvalid_1's l1: 1.0981\n"
     ]
    },
    {
     "name": "stderr",
     "output_type": "stream",
     "text": [
      "\u001b[32m[I 2021-07-06 15:01:59,560]\u001b[0m Trial 37 finished with value: -1.0971976982975797 and parameters: {'max_depth': 19, 'min_child_weight': 4, 'subsample': 0.9, 'colsample_bytree': 0.8, 'reg_lambda': 0.008521004524696021, 'reg_alpha': 0.002349298117700526, 'feature_fraction': 0.8925324736643486, 'bagging_fraction': 0.5418123023521891, 'bagging_freq': 1}. Best is trial 10 with value: -1.0880266411806947.\u001b[0m\n"
     ]
    },
    {
     "name": "stdout",
     "output_type": "stream",
     "text": [
      "Early stopping, best iteration is:\n",
      "[254]\ttraining's l1: 0.814897\tvalid_1's l1: 1.09725\n",
      "[LightGBM] [Warning] feature_fraction is set=0.6678676042745539, colsample_bytree=0.5 will be ignored. Current value: feature_fraction=0.6678676042745539\n",
      "[LightGBM] [Warning] bagging_fraction is set=0.7590886019642361, subsample=0.8 will be ignored. Current value: bagging_fraction=0.7590886019642361\n",
      "[LightGBM] [Warning] bagging_freq is set=5, subsample_freq=0 will be ignored. Current value: bagging_freq=5\n",
      "Training until validation scores don't improve for 100 rounds\n",
      "[100]\ttraining's l1: 0.847549\tvalid_1's l1: 1.10522\n",
      "[200]\ttraining's l1: 0.818279\tvalid_1's l1: 1.10032\n",
      "[300]\ttraining's l1: 0.791268\tvalid_1's l1: 1.10158\n"
     ]
    },
    {
     "name": "stderr",
     "output_type": "stream",
     "text": [
      "\u001b[32m[I 2021-07-06 15:02:14,602]\u001b[0m Trial 38 finished with value: -1.0983527310630208 and parameters: {'max_depth': 18, 'min_child_weight': 13, 'subsample': 0.8, 'colsample_bytree': 0.5, 'reg_lambda': 46.97769658082612, 'reg_alpha': 77.30531938407631, 'feature_fraction': 0.6678676042745539, 'bagging_fraction': 0.7590886019642361, 'bagging_freq': 5}. Best is trial 10 with value: -1.0880266411806947.\u001b[0m\n"
     ]
    },
    {
     "name": "stdout",
     "output_type": "stream",
     "text": [
      "Early stopping, best iteration is:\n",
      "[216]\ttraining's l1: 0.813574\tvalid_1's l1: 1.09845\n",
      "[LightGBM] [Warning] feature_fraction is set=0.8671160076483748, colsample_bytree=0.8 will be ignored. Current value: feature_fraction=0.8671160076483748\n",
      "[LightGBM] [Warning] bagging_fraction is set=0.6023221367837849, subsample=0.7 will be ignored. Current value: bagging_fraction=0.6023221367837849\n",
      "[LightGBM] [Warning] bagging_freq is set=9, subsample_freq=0 will be ignored. Current value: bagging_freq=9\n",
      "Training until validation scores don't improve for 100 rounds\n",
      "[100]\ttraining's l1: 0.848892\tvalid_1's l1: 1.10137\n",
      "[200]\ttraining's l1: 0.835484\tvalid_1's l1: 1.09845\n",
      "[300]\ttraining's l1: 0.819794\tvalid_1's l1: 1.10054\n"
     ]
    },
    {
     "name": "stderr",
     "output_type": "stream",
     "text": [
      "\u001b[32m[I 2021-07-06 15:02:25,472]\u001b[0m Trial 39 finished with value: -1.0973402328642394 and parameters: {'max_depth': 6, 'min_child_weight': 17, 'subsample': 0.7, 'colsample_bytree': 0.8, 'reg_lambda': 0.001028274346854163, 'reg_alpha': 309.0256444574911, 'feature_fraction': 0.8671160076483748, 'bagging_fraction': 0.6023221367837849, 'bagging_freq': 9}. Best is trial 10 with value: -1.0880266411806947.\u001b[0m\n"
     ]
    },
    {
     "name": "stdout",
     "output_type": "stream",
     "text": [
      "Early stopping, best iteration is:\n",
      "[210]\ttraining's l1: 0.833632\tvalid_1's l1: 1.09745\n",
      "[LightGBM] [Warning] feature_fraction is set=0.9623036611111848, colsample_bytree=0.7 will be ignored. Current value: feature_fraction=0.9623036611111848\n",
      "[LightGBM] [Warning] bagging_fraction is set=0.9684318744324683, subsample=0.5 will be ignored. Current value: bagging_fraction=0.9684318744324683\n",
      "[LightGBM] [Warning] bagging_freq is set=7, subsample_freq=0 will be ignored. Current value: bagging_freq=7\n",
      "Training until validation scores don't improve for 100 rounds\n",
      "[100]\ttraining's l1: 0.972976\tvalid_1's l1: 1.21769\n",
      "[200]\ttraining's l1: 0.958581\tvalid_1's l1: 1.19221\n",
      "[300]\ttraining's l1: 0.950812\tvalid_1's l1: 1.17888\n",
      "[400]\ttraining's l1: 0.946472\tvalid_1's l1: 1.17265\n",
      "[500]\ttraining's l1: 0.943644\tvalid_1's l1: 1.16958\n",
      "[600]\ttraining's l1: 0.94088\tvalid_1's l1: 1.16495\n",
      "[700]\ttraining's l1: 0.93899\tvalid_1's l1: 1.16312\n",
      "[800]\ttraining's l1: 0.936661\tvalid_1's l1: 1.16075\n",
      "[900]\ttraining's l1: 0.93428\tvalid_1's l1: 1.15932\n"
     ]
    },
    {
     "name": "stderr",
     "output_type": "stream",
     "text": [
      "\u001b[32m[I 2021-07-06 15:02:58,392]\u001b[0m Trial 40 finished with value: -1.1585869422746056 and parameters: {'max_depth': 1, 'min_child_weight': 8, 'subsample': 0.5, 'colsample_bytree': 0.7, 'reg_lambda': 0.06011386293909316, 'reg_alpha': 0.008484227935960608, 'feature_fraction': 0.9623036611111848, 'bagging_fraction': 0.9684318744324683, 'bagging_freq': 7}. Best is trial 10 with value: -1.0880266411806947.\u001b[0m\n"
     ]
    },
    {
     "name": "stdout",
     "output_type": "stream",
     "text": [
      "Early stopping, best iteration is:\n",
      "[896]\ttraining's l1: 0.934341\tvalid_1's l1: 1.15884\n",
      "[LightGBM] [Warning] feature_fraction is set=0.8070119491677326, colsample_bytree=0.9 will be ignored. Current value: feature_fraction=0.8070119491677326\n",
      "[LightGBM] [Warning] bagging_fraction is set=0.7982163479684155, subsample=0.5 will be ignored. Current value: bagging_fraction=0.7982163479684155\n",
      "[LightGBM] [Warning] bagging_freq is set=4, subsample_freq=0 will be ignored. Current value: bagging_freq=4\n",
      "Training until validation scores don't improve for 100 rounds\n",
      "[100]\ttraining's l1: 0.84714\tvalid_1's l1: 1.104\n",
      "[200]\ttraining's l1: 0.821321\tvalid_1's l1: 1.09525\n",
      "[300]\ttraining's l1: 0.793223\tvalid_1's l1: 1.09612\n"
     ]
    },
    {
     "name": "stderr",
     "output_type": "stream",
     "text": [
      "\u001b[32m[I 2021-07-06 15:03:15,201]\u001b[0m Trial 41 finished with value: -1.094346876752124 and parameters: {'max_depth': 20, 'min_child_weight': 15, 'subsample': 0.5, 'colsample_bytree': 0.9, 'reg_lambda': 0.015506252909051223, 'reg_alpha': 0.1369429481925436, 'feature_fraction': 0.8070119491677326, 'bagging_fraction': 0.7982163479684155, 'bagging_freq': 4}. Best is trial 10 with value: -1.0880266411806947.\u001b[0m\n"
     ]
    },
    {
     "name": "stdout",
     "output_type": "stream",
     "text": [
      "Early stopping, best iteration is:\n",
      "[252]\ttraining's l1: 0.809916\tvalid_1's l1: 1.09441\n",
      "[LightGBM] [Warning] feature_fraction is set=0.7648103721399149, colsample_bytree=0.9 will be ignored. Current value: feature_fraction=0.7648103721399149\n",
      "[LightGBM] [Warning] bagging_fraction is set=0.804366267413974, subsample=0.5 will be ignored. Current value: bagging_fraction=0.804366267413974\n",
      "[LightGBM] [Warning] bagging_freq is set=3, subsample_freq=0 will be ignored. Current value: bagging_freq=3\n",
      "Training until validation scores don't improve for 100 rounds\n",
      "[100]\ttraining's l1: 0.847644\tvalid_1's l1: 1.10574\n",
      "[200]\ttraining's l1: 0.829078\tvalid_1's l1: 1.10065\n"
     ]
    },
    {
     "name": "stderr",
     "output_type": "stream",
     "text": [
      "\u001b[32m[I 2021-07-06 15:03:30,205]\u001b[0m Trial 42 finished with value: -1.0992992481511383 and parameters: {'max_depth': 19, 'min_child_weight': 14, 'subsample': 0.5, 'colsample_bytree': 0.9, 'reg_lambda': 0.004411338085377578, 'reg_alpha': 0.31389739753810386, 'feature_fraction': 0.7648103721399149, 'bagging_fraction': 0.804366267413974, 'bagging_freq': 3}. Best is trial 10 with value: -1.0880266411806947.\u001b[0m\n"
     ]
    },
    {
     "name": "stdout",
     "output_type": "stream",
     "text": [
      "Early stopping, best iteration is:\n",
      "[188]\ttraining's l1: 0.831033\tvalid_1's l1: 1.09935\n",
      "[LightGBM] [Warning] feature_fraction is set=0.9115400776093178, colsample_bytree=0.8 will be ignored. Current value: feature_fraction=0.9115400776093178\n",
      "[LightGBM] [Warning] bagging_fraction is set=0.8471880783616093, subsample=0.6 will be ignored. Current value: bagging_fraction=0.8471880783616093\n",
      "[LightGBM] [Warning] bagging_freq is set=5, subsample_freq=0 will be ignored. Current value: bagging_freq=5\n",
      "Training until validation scores don't improve for 100 rounds\n",
      "[100]\ttraining's l1: 0.849145\tvalid_1's l1: 1.10724\n",
      "[200]\ttraining's l1: 0.834842\tvalid_1's l1: 1.10189\n",
      "[300]\ttraining's l1: 0.822407\tvalid_1's l1: 1.09789\n",
      "[400]\ttraining's l1: 0.810078\tvalid_1's l1: 1.09715\n",
      "[500]\ttraining's l1: 0.797281\tvalid_1's l1: 1.09624\n",
      "[600]\ttraining's l1: 0.781122\tvalid_1's l1: 1.09366\n",
      "Early stopping, best iteration is:\n",
      "[544]\ttraining's l1: 0.789469\tvalid_1's l1: 1.09337\n"
     ]
    },
    {
     "name": "stderr",
     "output_type": "stream",
     "text": [
      "\u001b[32m[I 2021-07-06 15:03:58,223]\u001b[0m Trial 43 finished with value: -1.093212437582412 and parameters: {'max_depth': 17, 'min_child_weight': 11, 'subsample': 0.6, 'colsample_bytree': 0.8, 'reg_lambda': 0.17118813013525422, 'reg_alpha': 0.06976148962861026, 'feature_fraction': 0.9115400776093178, 'bagging_fraction': 0.8471880783616093, 'bagging_freq': 5}. Best is trial 10 with value: -1.0880266411806947.\u001b[0m\n"
     ]
    },
    {
     "name": "stdout",
     "output_type": "stream",
     "text": [
      "[LightGBM] [Warning] feature_fraction is set=0.8641186161387141, colsample_bytree=0.8 will be ignored. Current value: feature_fraction=0.8641186161387141\n",
      "[LightGBM] [Warning] bagging_fraction is set=0.6865176218211225, subsample=0.6 will be ignored. Current value: bagging_fraction=0.6865176218211225\n",
      "[LightGBM] [Warning] bagging_freq is set=1, subsample_freq=0 will be ignored. Current value: bagging_freq=1\n",
      "Training until validation scores don't improve for 100 rounds\n",
      "[100]\ttraining's l1: 0.848353\tvalid_1's l1: 1.10355\n",
      "[200]\ttraining's l1: 0.835481\tvalid_1's l1: 1.09973\n",
      "[300]\ttraining's l1: 0.822702\tvalid_1's l1: 1.09633\n",
      "[400]\ttraining's l1: 0.807675\tvalid_1's l1: 1.09388\n",
      "[500]\ttraining's l1: 0.796715\tvalid_1's l1: 1.08998\n",
      "[600]\ttraining's l1: 0.781864\tvalid_1's l1: 1.08878\n"
     ]
    },
    {
     "name": "stderr",
     "output_type": "stream",
     "text": [
      "\u001b[32m[I 2021-07-06 15:04:17,029]\u001b[0m Trial 44 finished with value: -1.0881758370032368 and parameters: {'max_depth': 9, 'min_child_weight': 17, 'subsample': 0.6, 'colsample_bytree': 0.8, 'reg_lambda': 0.007014612735101761, 'reg_alpha': 0.05333249892859201, 'feature_fraction': 0.8641186161387141, 'bagging_fraction': 0.6865176218211225, 'bagging_freq': 1}. Best is trial 10 with value: -1.0880266411806947.\u001b[0m\n"
     ]
    },
    {
     "name": "stdout",
     "output_type": "stream",
     "text": [
      "Early stopping, best iteration is:\n",
      "[515]\ttraining's l1: 0.793323\tvalid_1's l1: 1.08834\n",
      "[LightGBM] [Warning] feature_fraction is set=0.41137109597656946, colsample_bytree=0.8 will be ignored. Current value: feature_fraction=0.41137109597656946\n",
      "[LightGBM] [Warning] bagging_fraction is set=0.6819331550813118, subsample=0.6 will be ignored. Current value: bagging_fraction=0.6819331550813118\n",
      "[LightGBM] [Warning] bagging_freq is set=1, subsample_freq=0 will be ignored. Current value: bagging_freq=1\n",
      "Training until validation scores don't improve for 100 rounds\n",
      "[100]\ttraining's l1: 0.836299\tvalid_1's l1: 1.10648\n",
      "[200]\ttraining's l1: 0.812023\tvalid_1's l1: 1.10231\n",
      "[300]\ttraining's l1: 0.791336\tvalid_1's l1: 1.10176\n",
      "[400]\ttraining's l1: 0.776417\tvalid_1's l1: 1.10652\n"
     ]
    },
    {
     "name": "stderr",
     "output_type": "stream",
     "text": [
      "\u001b[32m[I 2021-07-06 15:04:32,685]\u001b[0m Trial 45 finished with value: -1.1002190204689943 and parameters: {'max_depth': 9, 'min_child_weight': 19, 'subsample': 0.6, 'colsample_bytree': 0.8, 'reg_lambda': 0.0018293752040447965, 'reg_alpha': 0.7745392490222844, 'feature_fraction': 0.41137109597656946, 'bagging_fraction': 0.6819331550813118, 'bagging_freq': 1}. Best is trial 10 with value: -1.0880266411806947.\u001b[0m\n"
     ]
    },
    {
     "name": "stdout",
     "output_type": "stream",
     "text": [
      "Early stopping, best iteration is:\n",
      "[306]\ttraining's l1: 0.790594\tvalid_1's l1: 1.10031\n",
      "[LightGBM] [Warning] feature_fraction is set=0.8688413160062683, colsample_bytree=0.9 will be ignored. Current value: feature_fraction=0.8688413160062683\n",
      "[LightGBM] [Warning] bagging_fraction is set=0.5170059992805891, subsample=0.6 will be ignored. Current value: bagging_fraction=0.5170059992805891\n",
      "[LightGBM] [Warning] bagging_freq is set=10, subsample_freq=0 will be ignored. Current value: bagging_freq=10\n",
      "Training until validation scores don't improve for 100 rounds\n",
      "[100]\ttraining's l1: 0.850606\tvalid_1's l1: 1.10714\n",
      "[200]\ttraining's l1: 0.830536\tvalid_1's l1: 1.10006\n"
     ]
    },
    {
     "name": "stderr",
     "output_type": "stream",
     "text": [
      "\u001b[32m[I 2021-07-06 15:04:42,361]\u001b[0m Trial 46 finished with value: -1.09852151786307 and parameters: {'max_depth': 10, 'min_child_weight': 20, 'subsample': 0.6, 'colsample_bytree': 0.9, 'reg_lambda': 0.005519022490646647, 'reg_alpha': 5.431606288523186, 'feature_fraction': 0.8688413160062683, 'bagging_fraction': 0.5170059992805891, 'bagging_freq': 10}. Best is trial 10 with value: -1.0880266411806947.\u001b[0m\n"
     ]
    },
    {
     "name": "stdout",
     "output_type": "stream",
     "text": [
      "Early stopping, best iteration is:\n",
      "[190]\ttraining's l1: 0.832003\tvalid_1's l1: 1.09858\n",
      "[LightGBM] [Warning] feature_fraction is set=0.9313264713917886, colsample_bytree=0.8 will be ignored. Current value: feature_fraction=0.9313264713917886\n",
      "[LightGBM] [Warning] bagging_fraction is set=0.416999902253351, subsample=0.7 will be ignored. Current value: bagging_fraction=0.416999902253351\n",
      "[LightGBM] [Warning] bagging_freq is set=10, subsample_freq=0 will be ignored. Current value: bagging_freq=10\n",
      "Training until validation scores don't improve for 100 rounds\n",
      "[100]\ttraining's l1: 0.851746\tvalid_1's l1: 1.10426\n",
      "[200]\ttraining's l1: 0.826291\tvalid_1's l1: 1.09427\n",
      "[300]\ttraining's l1: 0.81491\tvalid_1's l1: 1.09316\n",
      "[400]\ttraining's l1: 0.804468\tvalid_1's l1: 1.09193\n"
     ]
    },
    {
     "name": "stderr",
     "output_type": "stream",
     "text": [
      "\u001b[32m[I 2021-07-06 15:04:54,158]\u001b[0m Trial 47 finished with value: -1.0904886557954914 and parameters: {'max_depth': 7, 'min_child_weight': 18, 'subsample': 0.7, 'colsample_bytree': 0.8, 'reg_lambda': 0.0020907934985449363, 'reg_alpha': 0.020201775718446925, 'feature_fraction': 0.9313264713917886, 'bagging_fraction': 0.416999902253351, 'bagging_freq': 10}. Best is trial 10 with value: -1.0880266411806947.\u001b[0m\n"
     ]
    },
    {
     "name": "stdout",
     "output_type": "stream",
     "text": [
      "Early stopping, best iteration is:\n",
      "[338]\ttraining's l1: 0.809907\tvalid_1's l1: 1.09064\n",
      "[LightGBM] [Warning] feature_fraction is set=0.9876369081602847, colsample_bytree=0.8 will be ignored. Current value: feature_fraction=0.9876369081602847\n",
      "[LightGBM] [Warning] bagging_fraction is set=0.41169241392909484, subsample=0.7 will be ignored. Current value: bagging_fraction=0.41169241392909484\n",
      "[LightGBM] [Warning] bagging_freq is set=3, subsample_freq=0 will be ignored. Current value: bagging_freq=3\n",
      "Training until validation scores don't improve for 100 rounds\n",
      "[100]\ttraining's l1: 0.845978\tvalid_1's l1: 1.10353\n",
      "[200]\ttraining's l1: 0.826993\tvalid_1's l1: 1.098\n",
      "[300]\ttraining's l1: 0.824885\tvalid_1's l1: 1.09714\n",
      "[400]\ttraining's l1: 0.82413\tvalid_1's l1: 1.09695\n",
      "[500]\ttraining's l1: 0.822168\tvalid_1's l1: 1.097\n",
      "[600]\ttraining's l1: 0.817189\tvalid_1's l1: 1.0961\n"
     ]
    },
    {
     "name": "stderr",
     "output_type": "stream",
     "text": [
      "\u001b[32m[I 2021-07-06 15:05:13,440]\u001b[0m Trial 48 finished with value: -1.095879848696621 and parameters: {'max_depth': 6, 'min_child_weight': 17, 'subsample': 0.7, 'colsample_bytree': 0.8, 'reg_lambda': 0.002012369162312334, 'reg_alpha': 0.3582521944584435, 'feature_fraction': 0.9876369081602847, 'bagging_fraction': 0.41169241392909484, 'bagging_freq': 3}. Best is trial 10 with value: -1.0880266411806947.\u001b[0m\n"
     ]
    },
    {
     "name": "stdout",
     "output_type": "stream",
     "text": [
      "Early stopping, best iteration is:\n",
      "[531]\ttraining's l1: 0.82013\tvalid_1's l1: 1.09599\n",
      "[LightGBM] [Warning] feature_fraction is set=0.9400696239815723, colsample_bytree=0.9 will be ignored. Current value: feature_fraction=0.9400696239815723\n",
      "[LightGBM] [Warning] bagging_fraction is set=0.4235841179231468, subsample=0.6 will be ignored. Current value: bagging_fraction=0.4235841179231468\n",
      "[LightGBM] [Warning] bagging_freq is set=10, subsample_freq=0 will be ignored. Current value: bagging_freq=10\n",
      "Training until validation scores don't improve for 100 rounds\n",
      "[100]\ttraining's l1: 0.847069\tvalid_1's l1: 1.10327\n",
      "[200]\ttraining's l1: 0.835748\tvalid_1's l1: 1.09887\n"
     ]
    },
    {
     "name": "stderr",
     "output_type": "stream",
     "text": [
      "\u001b[32m[I 2021-07-06 15:05:20,773]\u001b[0m Trial 49 finished with value: -1.0974223705271802 and parameters: {'max_depth': 7, 'min_child_weight': 18, 'subsample': 0.6, 'colsample_bytree': 0.9, 'reg_lambda': 0.0013248031382665862, 'reg_alpha': 0.019299531771280767, 'feature_fraction': 0.9400696239815723, 'bagging_fraction': 0.4235841179231468, 'bagging_freq': 10}. Best is trial 10 with value: -1.0880266411806947.\u001b[0m\n"
     ]
    },
    {
     "name": "stdout",
     "output_type": "stream",
     "text": [
      "Early stopping, best iteration is:\n",
      "[137]\ttraining's l1: 0.839182\tvalid_1's l1: 1.09751\n",
      "[LightGBM] [Warning] feature_fraction is set=0.8943428004743184, colsample_bytree=0.9 will be ignored. Current value: feature_fraction=0.8943428004743184\n",
      "[LightGBM] [Warning] bagging_fraction is set=0.7332815980329115, subsample=0.8 will be ignored. Current value: bagging_fraction=0.7332815980329115\n",
      "[LightGBM] [Warning] bagging_freq is set=2, subsample_freq=0 will be ignored. Current value: bagging_freq=2\n",
      "Training until validation scores don't improve for 100 rounds\n",
      "[100]\ttraining's l1: 0.898667\tvalid_1's l1: 1.13987\n",
      "[200]\ttraining's l1: 0.883903\tvalid_1's l1: 1.12462\n",
      "[300]\ttraining's l1: 0.864965\tvalid_1's l1: 1.1105\n",
      "[400]\ttraining's l1: 0.855482\tvalid_1's l1: 1.10592\n",
      "[500]\ttraining's l1: 0.849449\tvalid_1's l1: 1.1045\n",
      "[600]\ttraining's l1: 0.842865\tvalid_1's l1: 1.1038\n",
      "[700]\ttraining's l1: 0.83898\tvalid_1's l1: 1.10274\n"
     ]
    },
    {
     "name": "stderr",
     "output_type": "stream",
     "text": [
      "\u001b[32m[I 2021-07-06 15:05:55,611]\u001b[0m Trial 50 finished with value: -1.1022210475516978 and parameters: {'max_depth': 3, 'min_child_weight': 19, 'subsample': 0.8, 'colsample_bytree': 0.9, 'reg_lambda': 0.022038437380605593, 'reg_alpha': 0.05131064872823328, 'feature_fraction': 0.8943428004743184, 'bagging_fraction': 0.7332815980329115, 'bagging_freq': 2}. Best is trial 10 with value: -1.0880266411806947.\u001b[0m\n"
     ]
    },
    {
     "name": "stdout",
     "output_type": "stream",
     "text": [
      "Early stopping, best iteration is:\n",
      "[690]\ttraining's l1: 0.839473\tvalid_1's l1: 1.10234\n",
      "[LightGBM] [Warning] feature_fraction is set=0.8318349765768223, colsample_bytree=0.8 will be ignored. Current value: feature_fraction=0.8318349765768223\n",
      "[LightGBM] [Warning] bagging_fraction is set=0.46550499315731597, subsample=0.7 will be ignored. Current value: bagging_fraction=0.46550499315731597\n",
      "[LightGBM] [Warning] bagging_freq is set=10, subsample_freq=0 will be ignored. Current value: bagging_freq=10\n",
      "Training until validation scores don't improve for 100 rounds\n",
      "[100]\ttraining's l1: 0.848781\tvalid_1's l1: 1.10482\n",
      "[200]\ttraining's l1: 0.821179\tvalid_1's l1: 1.09834\n"
     ]
    },
    {
     "name": "stderr",
     "output_type": "stream",
     "text": [
      "\u001b[32m[I 2021-07-06 15:06:04,887]\u001b[0m Trial 51 finished with value: -1.0945031243666736 and parameters: {'max_depth': 9, 'min_child_weight': 17, 'subsample': 0.7, 'colsample_bytree': 0.8, 'reg_lambda': 0.0028222187437683005, 'reg_alpha': 0.003504966909268258, 'feature_fraction': 0.8318349765768223, 'bagging_fraction': 0.46550499315731597, 'bagging_freq': 10}. Best is trial 10 with value: -1.0880266411806947.\u001b[0m\n"
     ]
    },
    {
     "name": "stdout",
     "output_type": "stream",
     "text": [
      "Early stopping, best iteration is:\n",
      "[197]\ttraining's l1: 0.821937\tvalid_1's l1: 1.09459\n",
      "[LightGBM] [Warning] feature_fraction is set=0.9211180465127852, colsample_bytree=0.7 will be ignored. Current value: feature_fraction=0.9211180465127852\n",
      "[LightGBM] [Warning] bagging_fraction is set=0.4966867188888674, subsample=0.7 will be ignored. Current value: bagging_fraction=0.4966867188888674\n",
      "[LightGBM] [Warning] bagging_freq is set=9, subsample_freq=0 will be ignored. Current value: bagging_freq=9\n",
      "Training until validation scores don't improve for 100 rounds\n",
      "[100]\ttraining's l1: 0.8532\tvalid_1's l1: 1.10581\n",
      "[200]\ttraining's l1: 0.837558\tvalid_1's l1: 1.09974\n",
      "[300]\ttraining's l1: 0.830998\tvalid_1's l1: 1.09793\n",
      "[400]\ttraining's l1: 0.821141\tvalid_1's l1: 1.09282\n"
     ]
    },
    {
     "name": "stderr",
     "output_type": "stream",
     "text": [
      "\u001b[32m[I 2021-07-06 15:06:19,901]\u001b[0m Trial 52 finished with value: -1.0926721769108239 and parameters: {'max_depth': 11, 'min_child_weight': 16, 'subsample': 0.7, 'colsample_bytree': 0.7, 'reg_lambda': 0.006577752666515483, 'reg_alpha': 0.08159668633991603, 'feature_fraction': 0.9211180465127852, 'bagging_fraction': 0.4966867188888674, 'bagging_freq': 9}. Best is trial 10 with value: -1.0880266411806947.\u001b[0m\n"
     ]
    },
    {
     "name": "stdout",
     "output_type": "stream",
     "text": [
      "Early stopping, best iteration is:\n",
      "[395]\ttraining's l1: 0.821318\tvalid_1's l1: 1.09273\n",
      "[LightGBM] [Warning] feature_fraction is set=0.86687217996518, colsample_bytree=0.7 will be ignored. Current value: feature_fraction=0.86687217996518\n",
      "[LightGBM] [Warning] bagging_fraction is set=0.40037336707349047, subsample=0.6 will be ignored. Current value: bagging_fraction=0.40037336707349047\n",
      "[LightGBM] [Warning] bagging_freq is set=10, subsample_freq=0 will be ignored. Current value: bagging_freq=10\n",
      "Training until validation scores don't improve for 100 rounds\n",
      "[100]\ttraining's l1: 0.848383\tvalid_1's l1: 1.10574\n",
      "[200]\ttraining's l1: 0.838062\tvalid_1's l1: 1.10064\n",
      "[300]\ttraining's l1: 0.83138\tvalid_1's l1: 1.09947\n",
      "[400]\ttraining's l1: 0.822011\tvalid_1's l1: 1.09728\n",
      "[500]\ttraining's l1: 0.808673\tvalid_1's l1: 1.09861\n"
     ]
    },
    {
     "name": "stderr",
     "output_type": "stream",
     "text": [
      "\u001b[32m[I 2021-07-06 15:06:34,743]\u001b[0m Trial 53 finished with value: -1.0955124154349185 and parameters: {'max_depth': 8, 'min_child_weight': 18, 'subsample': 0.6, 'colsample_bytree': 0.7, 'reg_lambda': 0.012981055447641143, 'reg_alpha': 0.027032591658150074, 'feature_fraction': 0.86687217996518, 'bagging_fraction': 0.40037336707349047, 'bagging_freq': 10}. Best is trial 10 with value: -1.0880266411806947.\u001b[0m\n"
     ]
    },
    {
     "name": "stdout",
     "output_type": "stream",
     "text": [
      "Early stopping, best iteration is:\n",
      "[488]\ttraining's l1: 0.81193\tvalid_1's l1: 1.09562\n",
      "[LightGBM] [Warning] feature_fraction is set=0.975837656031467, colsample_bytree=0.8 will be ignored. Current value: feature_fraction=0.975837656031467\n",
      "[LightGBM] [Warning] bagging_fraction is set=0.44570370803024656, subsample=0.7 will be ignored. Current value: bagging_fraction=0.44570370803024656\n",
      "[LightGBM] [Warning] bagging_freq is set=9, subsample_freq=0 will be ignored. Current value: bagging_freq=9\n",
      "Training until validation scores don't improve for 100 rounds\n",
      "[100]\ttraining's l1: 0.855514\tvalid_1's l1: 1.10767\n",
      "[200]\ttraining's l1: 0.840569\tvalid_1's l1: 1.09797\n",
      "[300]\ttraining's l1: 0.832426\tvalid_1's l1: 1.09659\n",
      "[400]\ttraining's l1: 0.820745\tvalid_1's l1: 1.09383\n"
     ]
    },
    {
     "name": "stderr",
     "output_type": "stream",
     "text": [
      "\u001b[32m[I 2021-07-06 15:06:48,545]\u001b[0m Trial 54 finished with value: -1.093676803289893 and parameters: {'max_depth': 8, 'min_child_weight': 15, 'subsample': 0.7, 'colsample_bytree': 0.8, 'reg_lambda': 0.036941825181040416, 'reg_alpha': 0.18437292730293117, 'feature_fraction': 0.975837656031467, 'bagging_fraction': 0.44570370803024656, 'bagging_freq': 9}. Best is trial 10 with value: -1.0880266411806947.\u001b[0m\n"
     ]
    },
    {
     "name": "stdout",
     "output_type": "stream",
     "text": [
      "Early stopping, best iteration is:\n",
      "[394]\ttraining's l1: 0.821281\tvalid_1's l1: 1.09373\n",
      "[LightGBM] [Warning] feature_fraction is set=0.9459345432204628, colsample_bytree=0.6 will be ignored. Current value: feature_fraction=0.9459345432204628\n",
      "[LightGBM] [Warning] bagging_fraction is set=0.6244404890274178, subsample=0.6 will be ignored. Current value: bagging_fraction=0.6244404890274178\n",
      "[LightGBM] [Warning] bagging_freq is set=8, subsample_freq=0 will be ignored. Current value: bagging_freq=8\n",
      "Training until validation scores don't improve for 100 rounds\n",
      "[100]\ttraining's l1: 0.899105\tvalid_1's l1: 1.14313\n",
      "[200]\ttraining's l1: 0.886873\tvalid_1's l1: 1.12956\n",
      "[300]\ttraining's l1: 0.879411\tvalid_1's l1: 1.12246\n",
      "[400]\ttraining's l1: 0.873684\tvalid_1's l1: 1.11984\n",
      "[500]\ttraining's l1: 0.869079\tvalid_1's l1: 1.11887\n",
      "[600]\ttraining's l1: 0.864859\tvalid_1's l1: 1.1167\n",
      "[700]\ttraining's l1: 0.86261\tvalid_1's l1: 1.11656\n",
      "[800]\ttraining's l1: 0.859284\tvalid_1's l1: 1.11429\n",
      "[900]\ttraining's l1: 0.857307\tvalid_1's l1: 1.11382\n",
      "[1000]\ttraining's l1: 0.854866\tvalid_1's l1: 1.11316\n",
      "[1100]\ttraining's l1: 0.853241\tvalid_1's l1: 1.11192\n",
      "Early stopping, best iteration is:\n",
      "[1082]\ttraining's l1: 0.853655\tvalid_1's l1: 1.11135\n"
     ]
    },
    {
     "name": "stderr",
     "output_type": "stream",
     "text": [
      "\u001b[32m[I 2021-07-06 15:07:19,291]\u001b[0m Trial 55 finished with value: -1.1112075973660467 and parameters: {'max_depth': 3, 'min_child_weight': 20, 'subsample': 0.6, 'colsample_bytree': 0.6, 'reg_lambda': 0.003927223191464565, 'reg_alpha': 0.4459486944340883, 'feature_fraction': 0.9459345432204628, 'bagging_fraction': 0.6244404890274178, 'bagging_freq': 8}. Best is trial 10 with value: -1.0880266411806947.\u001b[0m\n"
     ]
    },
    {
     "name": "stdout",
     "output_type": "stream",
     "text": [
      "[LightGBM] [Warning] feature_fraction is set=0.9987125351669053, colsample_bytree=0.7 will be ignored. Current value: feature_fraction=0.9987125351669053\n",
      "[LightGBM] [Warning] bagging_fraction is set=0.5785200590593409, subsample=0.8 will be ignored. Current value: bagging_fraction=0.5785200590593409\n",
      "[LightGBM] [Warning] bagging_freq is set=9, subsample_freq=0 will be ignored. Current value: bagging_freq=9\n",
      "Training until validation scores don't improve for 100 rounds\n",
      "[100]\ttraining's l1: 0.846485\tvalid_1's l1: 1.10293\n",
      "[200]\ttraining's l1: 0.836993\tvalid_1's l1: 1.09982\n",
      "[300]\ttraining's l1: 0.833075\tvalid_1's l1: 1.09819\n",
      "[400]\ttraining's l1: 0.829444\tvalid_1's l1: 1.09599\n",
      "[500]\ttraining's l1: 0.828967\tvalid_1's l1: 1.09587\n"
     ]
    },
    {
     "name": "stderr",
     "output_type": "stream",
     "text": [
      "\u001b[32m[I 2021-07-06 15:07:36,971]\u001b[0m Trial 56 finished with value: -1.095638903608082 and parameters: {'max_depth': 10, 'min_child_weight': 13, 'subsample': 0.8, 'colsample_bytree': 0.7, 'reg_lambda': 0.0010607420926935893, 'reg_alpha': 0.006747126111862505, 'feature_fraction': 0.9987125351669053, 'bagging_fraction': 0.5785200590593409, 'bagging_freq': 9}. Best is trial 10 with value: -1.0880266411806947.\u001b[0m\n"
     ]
    },
    {
     "name": "stdout",
     "output_type": "stream",
     "text": [
      "Early stopping, best iteration is:\n",
      "[465]\ttraining's l1: 0.829065\tvalid_1's l1: 1.0957\n",
      "[LightGBM] [Warning] feature_fraction is set=0.7830240459391402, colsample_bytree=0.6 will be ignored. Current value: feature_fraction=0.7830240459391402\n",
      "[LightGBM] [Warning] bagging_fraction is set=0.5092228090082369, subsample=0.8 will be ignored. Current value: bagging_fraction=0.5092228090082369\n",
      "[LightGBM] [Warning] bagging_freq is set=10, subsample_freq=0 will be ignored. Current value: bagging_freq=10\n",
      "Training until validation scores don't improve for 100 rounds\n",
      "[100]\ttraining's l1: 0.866396\tvalid_1's l1: 1.11116\n",
      "[200]\ttraining's l1: 0.845077\tvalid_1's l1: 1.10135\n",
      "[300]\ttraining's l1: 0.835821\tvalid_1's l1: 1.09981\n",
      "[400]\ttraining's l1: 0.823436\tvalid_1's l1: 1.0963\n",
      "[500]\ttraining's l1: 0.815951\tvalid_1's l1: 1.09496\n"
     ]
    },
    {
     "name": "stderr",
     "output_type": "stream",
     "text": [
      "\u001b[32m[I 2021-07-06 15:07:50,719]\u001b[0m Trial 57 finished with value: -1.0942503838560176 and parameters: {'max_depth': 4, 'min_child_weight': 18, 'subsample': 0.8, 'colsample_bytree': 0.6, 'reg_lambda': 0.0018361892520376616, 'reg_alpha': 0.002793399726792725, 'feature_fraction': 0.7830240459391402, 'bagging_fraction': 0.5092228090082369, 'bagging_freq': 10}. Best is trial 10 with value: -1.0880266411806947.\u001b[0m\n"
     ]
    },
    {
     "name": "stdout",
     "output_type": "stream",
     "text": [
      "Early stopping, best iteration is:\n",
      "[440]\ttraining's l1: 0.819841\tvalid_1's l1: 1.09437\n",
      "[LightGBM] [Warning] feature_fraction is set=0.8909534110024299, colsample_bytree=0.8 will be ignored. Current value: feature_fraction=0.8909534110024299\n",
      "[LightGBM] [Warning] bagging_fraction is set=0.5471983199591053, subsample=0.7 will be ignored. Current value: bagging_fraction=0.5471983199591053\n",
      "[LightGBM] [Warning] bagging_freq is set=8, subsample_freq=0 will be ignored. Current value: bagging_freq=8\n",
      "Training until validation scores don't improve for 100 rounds\n",
      "[100]\ttraining's l1: 0.849881\tvalid_1's l1: 1.10392\n",
      "[200]\ttraining's l1: 0.834483\tvalid_1's l1: 1.10057\n"
     ]
    },
    {
     "name": "stderr",
     "output_type": "stream",
     "text": [
      "\u001b[32m[I 2021-07-06 15:08:00,716]\u001b[0m Trial 58 finished with value: -1.0960453347142458 and parameters: {'max_depth': 7, 'min_child_weight': 16, 'subsample': 0.7, 'colsample_bytree': 0.8, 'reg_lambda': 0.007514238920160772, 'reg_alpha': 0.015791521199383974, 'feature_fraction': 0.8909534110024299, 'bagging_fraction': 0.5471983199591053, 'bagging_freq': 8}. Best is trial 10 with value: -1.0880266411806947.\u001b[0m\n"
     ]
    },
    {
     "name": "stdout",
     "output_type": "stream",
     "text": [
      "Early stopping, best iteration is:\n",
      "[194]\ttraining's l1: 0.835317\tvalid_1's l1: 1.09609\n",
      "[LightGBM] [Warning] feature_fraction is set=0.8098675885392455, colsample_bytree=0.9 will be ignored. Current value: feature_fraction=0.8098675885392455\n",
      "[LightGBM] [Warning] bagging_fraction is set=0.42897532491931517, subsample=0.6 will be ignored. Current value: bagging_fraction=0.42897532491931517\n",
      "[LightGBM] [Warning] bagging_freq is set=6, subsample_freq=0 will be ignored. Current value: bagging_freq=6\n",
      "Training until validation scores don't improve for 100 rounds\n",
      "[100]\ttraining's l1: 0.84591\tvalid_1's l1: 1.10134\n",
      "[200]\ttraining's l1: 0.82499\tvalid_1's l1: 1.09519\n",
      "[300]\ttraining's l1: 0.80943\tvalid_1's l1: 1.09229\n",
      "[400]\ttraining's l1: 0.79327\tvalid_1's l1: 1.09066\n",
      "[500]\ttraining's l1: 0.779302\tvalid_1's l1: 1.09761\n",
      "Early stopping, best iteration is:\n",
      "[406]\ttraining's l1: 0.79198\tvalid_1's l1: 1.09054\n"
     ]
    },
    {
     "name": "stderr",
     "output_type": "stream",
     "text": [
      "\u001b[32m[I 2021-07-06 15:08:15,142]\u001b[0m Trial 59 finished with value: -1.090375309243096 and parameters: {'max_depth': 7, 'min_child_weight': 15, 'subsample': 0.6, 'colsample_bytree': 0.9, 'reg_lambda': 0.011416549532779563, 'reg_alpha': 0.0015395530936538676, 'feature_fraction': 0.8098675885392455, 'bagging_fraction': 0.42897532491931517, 'bagging_freq': 6}. Best is trial 10 with value: -1.0880266411806947.\u001b[0m\n"
     ]
    },
    {
     "name": "stdout",
     "output_type": "stream",
     "text": [
      "[LightGBM] [Warning] feature_fraction is set=0.8099776384046419, colsample_bytree=0.9 will be ignored. Current value: feature_fraction=0.8099776384046419\n",
      "[LightGBM] [Warning] bagging_fraction is set=0.4265218513105421, subsample=0.6 will be ignored. Current value: bagging_fraction=0.4265218513105421\n",
      "[LightGBM] [Warning] bagging_freq is set=6, subsample_freq=0 will be ignored. Current value: bagging_freq=6\n",
      "Training until validation scores don't improve for 100 rounds\n",
      "[100]\ttraining's l1: 0.85017\tvalid_1's l1: 1.10275\n",
      "[200]\ttraining's l1: 0.836843\tvalid_1's l1: 1.09953\n",
      "[300]\ttraining's l1: 0.821043\tvalid_1's l1: 1.10055\n"
     ]
    },
    {
     "name": "stderr",
     "output_type": "stream",
     "text": [
      "\u001b[32m[I 2021-07-06 15:08:25,885]\u001b[0m Trial 60 finished with value: -1.0979148460776937 and parameters: {'max_depth': 11, 'min_child_weight': 16, 'subsample': 0.6, 'colsample_bytree': 0.9, 'reg_lambda': 0.019967743129037457, 'reg_alpha': 1.3764010353930665, 'feature_fraction': 0.8099776384046419, 'bagging_fraction': 0.4265218513105421, 'bagging_freq': 6}. Best is trial 10 with value: -1.0880266411806947.\u001b[0m\n"
     ]
    },
    {
     "name": "stdout",
     "output_type": "stream",
     "text": [
      "Early stopping, best iteration is:\n",
      "[237]\ttraining's l1: 0.831478\tvalid_1's l1: 1.09798\n",
      "[LightGBM] [Warning] feature_fraction is set=0.8575484289435404, colsample_bytree=0.9 will be ignored. Current value: feature_fraction=0.8575484289435404\n",
      "[LightGBM] [Warning] bagging_fraction is set=0.4776494020011405, subsample=0.6 will be ignored. Current value: bagging_fraction=0.4776494020011405\n",
      "[LightGBM] [Warning] bagging_freq is set=7, subsample_freq=0 will be ignored. Current value: bagging_freq=7\n",
      "Training until validation scores don't improve for 100 rounds\n",
      "[100]\ttraining's l1: 0.847401\tvalid_1's l1: 1.10192\n",
      "[200]\ttraining's l1: 0.836637\tvalid_1's l1: 1.09838\n",
      "[300]\ttraining's l1: 0.824993\tvalid_1's l1: 1.09648\n",
      "[400]\ttraining's l1: 0.810197\tvalid_1's l1: 1.09502\n",
      "[500]\ttraining's l1: 0.79848\tvalid_1's l1: 1.09403\n"
     ]
    },
    {
     "name": "stderr",
     "output_type": "stream",
     "text": [
      "\u001b[32m[I 2021-07-06 15:08:42,748]\u001b[0m Trial 61 finished with value: -1.092720500060882 and parameters: {'max_depth': 7, 'min_child_weight': 17, 'subsample': 0.6, 'colsample_bytree': 0.9, 'reg_lambda': 0.003202786590211845, 'reg_alpha': 0.0016940331771539336, 'feature_fraction': 0.8575484289435404, 'bagging_fraction': 0.4776494020011405, 'bagging_freq': 7}. Best is trial 10 with value: -1.0880266411806947.\u001b[0m\n"
     ]
    },
    {
     "name": "stdout",
     "output_type": "stream",
     "text": [
      "Early stopping, best iteration is:\n",
      "[484]\ttraining's l1: 0.800723\tvalid_1's l1: 1.09285\n",
      "[LightGBM] [Warning] feature_fraction is set=0.9080303457094819, colsample_bytree=0.9 will be ignored. Current value: feature_fraction=0.9080303457094819\n",
      "[LightGBM] [Warning] bagging_fraction is set=0.44692037828438025, subsample=0.6 will be ignored. Current value: bagging_fraction=0.44692037828438025\n",
      "[LightGBM] [Warning] bagging_freq is set=5, subsample_freq=0 will be ignored. Current value: bagging_freq=5\n",
      "Training until validation scores don't improve for 100 rounds\n",
      "[100]\ttraining's l1: 0.842362\tvalid_1's l1: 1.09946\n",
      "[200]\ttraining's l1: 0.834228\tvalid_1's l1: 1.09614\n",
      "[300]\ttraining's l1: 0.822482\tvalid_1's l1: 1.09252\n",
      "[400]\ttraining's l1: 0.809115\tvalid_1's l1: 1.08713\n",
      "[500]\ttraining's l1: 0.794848\tvalid_1's l1: 1.08641\n"
     ]
    },
    {
     "name": "stderr",
     "output_type": "stream",
     "text": [
      "\u001b[32m[I 2021-07-06 15:08:59,251]\u001b[0m Trial 62 finished with value: -1.085352972838052 and parameters: {'max_depth': 6, 'min_child_weight': 14, 'subsample': 0.6, 'colsample_bytree': 0.9, 'reg_lambda': 0.011231825728715695, 'reg_alpha': 0.001230114349908132, 'feature_fraction': 0.9080303457094819, 'bagging_fraction': 0.44692037828438025, 'bagging_freq': 5}. Best is trial 62 with value: -1.085352972838052.\u001b[0m\n"
     ]
    },
    {
     "name": "stdout",
     "output_type": "stream",
     "text": [
      "Early stopping, best iteration is:\n",
      "[467]\ttraining's l1: 0.798842\tvalid_1's l1: 1.08545\n",
      "[LightGBM] [Warning] feature_fraction is set=0.902804495979582, colsample_bytree=0.9 will be ignored. Current value: feature_fraction=0.902804495979582\n",
      "[LightGBM] [Warning] bagging_fraction is set=0.45195044824803565, subsample=0.6 will be ignored. Current value: bagging_fraction=0.45195044824803565\n",
      "[LightGBM] [Warning] bagging_freq is set=4, subsample_freq=0 will be ignored. Current value: bagging_freq=4\n",
      "Training until validation scores don't improve for 100 rounds\n",
      "[100]\ttraining's l1: 0.843325\tvalid_1's l1: 1.09848\n",
      "[200]\ttraining's l1: 0.829869\tvalid_1's l1: 1.09405\n",
      "[300]\ttraining's l1: 0.815926\tvalid_1's l1: 1.09037\n",
      "[400]\ttraining's l1: 0.801904\tvalid_1's l1: 1.09214\n"
     ]
    },
    {
     "name": "stderr",
     "output_type": "stream",
     "text": [
      "\u001b[32m[I 2021-07-06 15:09:13,676]\u001b[0m Trial 63 finished with value: -1.0893198177981236 and parameters: {'max_depth': 6, 'min_child_weight': 15, 'subsample': 0.6, 'colsample_bytree': 0.9, 'reg_lambda': 0.010208075521884732, 'reg_alpha': 0.0010507282687914948, 'feature_fraction': 0.902804495979582, 'bagging_fraction': 0.45195044824803565, 'bagging_freq': 4}. Best is trial 62 with value: -1.085352972838052.\u001b[0m\n"
     ]
    },
    {
     "name": "stdout",
     "output_type": "stream",
     "text": [
      "Early stopping, best iteration is:\n",
      "[355]\ttraining's l1: 0.808274\tvalid_1's l1: 1.08941\n",
      "[LightGBM] [Warning] feature_fraction is set=0.9219168864728571, colsample_bytree=0.9 will be ignored. Current value: feature_fraction=0.9219168864728571\n",
      "[LightGBM] [Warning] bagging_fraction is set=0.9399300712109371, subsample=0.6 will be ignored. Current value: bagging_fraction=0.9399300712109371\n",
      "[LightGBM] [Warning] bagging_freq is set=4, subsample_freq=0 will be ignored. Current value: bagging_freq=4\n",
      "Training until validation scores don't improve for 100 rounds\n",
      "[100]\ttraining's l1: 0.839681\tvalid_1's l1: 1.09681\n",
      "[200]\ttraining's l1: 0.82778\tvalid_1's l1: 1.09331\n"
     ]
    },
    {
     "name": "stderr",
     "output_type": "stream",
     "text": [
      "\u001b[32m[I 2021-07-06 15:09:26,052]\u001b[0m Trial 64 finished with value: -1.0916165870948495 and parameters: {'max_depth': 5, 'min_child_weight': 15, 'subsample': 0.6, 'colsample_bytree': 0.9, 'reg_lambda': 0.09563842551078038, 'reg_alpha': 0.0011304488081803029, 'feature_fraction': 0.9219168864728571, 'bagging_fraction': 0.9399300712109371, 'bagging_freq': 4}. Best is trial 62 with value: -1.085352972838052.\u001b[0m\n"
     ]
    },
    {
     "name": "stdout",
     "output_type": "stream",
     "text": [
      "Early stopping, best iteration is:\n",
      "[137]\ttraining's l1: 0.832586\tvalid_1's l1: 1.09169\n",
      "[LightGBM] [Warning] feature_fraction is set=0.8524038753292342, colsample_bytree=0.9 will be ignored. Current value: feature_fraction=0.8524038753292342\n",
      "[LightGBM] [Warning] bagging_fraction is set=0.4010567851527021, subsample=0.6 will be ignored. Current value: bagging_fraction=0.4010567851527021\n",
      "[LightGBM] [Warning] bagging_freq is set=5, subsample_freq=0 will be ignored. Current value: bagging_freq=5\n",
      "Training until validation scores don't improve for 100 rounds\n",
      "[100]\ttraining's l1: 0.843222\tvalid_1's l1: 1.09966\n",
      "[200]\ttraining's l1: 0.834295\tvalid_1's l1: 1.09469\n",
      "[300]\ttraining's l1: 0.825916\tvalid_1's l1: 1.09285\n",
      "[400]\ttraining's l1: 0.81821\tvalid_1's l1: 1.09366\n"
     ]
    },
    {
     "name": "stderr",
     "output_type": "stream",
     "text": [
      "\u001b[32m[I 2021-07-06 15:09:38,151]\u001b[0m Trial 65 finished with value: -1.0919926375377604 and parameters: {'max_depth': 6, 'min_child_weight': 13, 'subsample': 0.6, 'colsample_bytree': 0.9, 'reg_lambda': 0.0113909237044434, 'reg_alpha': 0.10320582515332391, 'feature_fraction': 0.8524038753292342, 'bagging_fraction': 0.4010567851527021, 'bagging_freq': 5}. Best is trial 62 with value: -1.085352972838052.\u001b[0m\n"
     ]
    },
    {
     "name": "stdout",
     "output_type": "stream",
     "text": [
      "Early stopping, best iteration is:\n",
      "[329]\ttraining's l1: 0.824659\tvalid_1's l1: 1.09208\n",
      "[LightGBM] [Warning] feature_fraction is set=0.8842483493436643, colsample_bytree=0.9 will be ignored. Current value: feature_fraction=0.8842483493436643\n",
      "[LightGBM] [Warning] bagging_fraction is set=0.42693449730292077, subsample=0.6 will be ignored. Current value: bagging_fraction=0.42693449730292077\n",
      "[LightGBM] [Warning] bagging_freq is set=4, subsample_freq=0 will be ignored. Current value: bagging_freq=4\n",
      "Training until validation scores don't improve for 100 rounds\n",
      "[100]\ttraining's l1: 0.841326\tvalid_1's l1: 1.10063\n",
      "[200]\ttraining's l1: 0.827572\tvalid_1's l1: 1.09325\n",
      "[300]\ttraining's l1: 0.816684\tvalid_1's l1: 1.0911\n",
      "[400]\ttraining's l1: 0.803179\tvalid_1's l1: 1.0914\n"
     ]
    },
    {
     "name": "stderr",
     "output_type": "stream",
     "text": [
      "\u001b[32m[I 2021-07-06 15:09:51,727]\u001b[0m Trial 66 finished with value: -1.089272705298007 and parameters: {'max_depth': 5, 'min_child_weight': 14, 'subsample': 0.6, 'colsample_bytree': 0.9, 'reg_lambda': 0.04189289254976498, 'reg_alpha': 0.0031252506693402195, 'feature_fraction': 0.8842483493436643, 'bagging_fraction': 0.42693449730292077, 'bagging_freq': 4}. Best is trial 62 with value: -1.085352972838052.\u001b[0m\n"
     ]
    },
    {
     "name": "stdout",
     "output_type": "stream",
     "text": [
      "Early stopping, best iteration is:\n",
      "[361]\ttraining's l1: 0.808222\tvalid_1's l1: 1.08943\n",
      "[LightGBM] [Warning] feature_fraction is set=0.9023848043673441, colsample_bytree=0.9 will be ignored. Current value: feature_fraction=0.9023848043673441\n",
      "[LightGBM] [Warning] bagging_fraction is set=0.42559342481414764, subsample=0.6 will be ignored. Current value: bagging_fraction=0.42559342481414764\n",
      "[LightGBM] [Warning] bagging_freq is set=4, subsample_freq=0 will be ignored. Current value: bagging_freq=4\n",
      "Training until validation scores don't improve for 100 rounds\n",
      "[100]\ttraining's l1: 0.866026\tvalid_1's l1: 1.11558\n",
      "[200]\ttraining's l1: 0.848109\tvalid_1's l1: 1.10336\n",
      "[300]\ttraining's l1: 0.833845\tvalid_1's l1: 1.09872\n",
      "[400]\ttraining's l1: 0.825558\tvalid_1's l1: 1.09807\n",
      "[500]\ttraining's l1: 0.817379\tvalid_1's l1: 1.0957\n",
      "[600]\ttraining's l1: 0.81053\tvalid_1's l1: 1.09561\n",
      "[700]\ttraining's l1: 0.802575\tvalid_1's l1: 1.09464\n"
     ]
    },
    {
     "name": "stderr",
     "output_type": "stream",
     "text": [
      "\u001b[32m[I 2021-07-06 15:10:11,551]\u001b[0m Trial 67 finished with value: -1.0934530983899216 and parameters: {'max_depth': 4, 'min_child_weight': 14, 'subsample': 0.6, 'colsample_bytree': 0.9, 'reg_lambda': 0.06084928145017693, 'reg_alpha': 0.0036954132677331788, 'feature_fraction': 0.9023848043673441, 'bagging_fraction': 0.42559342481414764, 'bagging_freq': 4}. Best is trial 62 with value: -1.085352972838052.\u001b[0m\n"
     ]
    },
    {
     "name": "stdout",
     "output_type": "stream",
     "text": [
      "Early stopping, best iteration is:\n",
      "[669]\ttraining's l1: 0.805161\tvalid_1's l1: 1.09358\n",
      "[LightGBM] [Warning] feature_fraction is set=0.8763293052455702, colsample_bytree=0.9 will be ignored. Current value: feature_fraction=0.8763293052455702\n",
      "[LightGBM] [Warning] bagging_fraction is set=0.41749385969665975, subsample=0.5 will be ignored. Current value: bagging_fraction=0.41749385969665975\n",
      "[LightGBM] [Warning] bagging_freq is set=3, subsample_freq=0 will be ignored. Current value: bagging_freq=3\n",
      "Training until validation scores don't improve for 100 rounds\n",
      "[100]\ttraining's l1: 0.843914\tvalid_1's l1: 1.10204\n",
      "[200]\ttraining's l1: 0.829962\tvalid_1's l1: 1.09448\n",
      "[300]\ttraining's l1: 0.818597\tvalid_1's l1: 1.09207\n"
     ]
    },
    {
     "name": "stderr",
     "output_type": "stream",
     "text": [
      "\u001b[32m[I 2021-07-06 15:10:24,597]\u001b[0m Trial 68 finished with value: -1.0915751356600307 and parameters: {'max_depth': 5, 'min_child_weight': 15, 'subsample': 0.5, 'colsample_bytree': 0.9, 'reg_lambda': 0.006027016119785848, 'reg_alpha': 0.002106546879144028, 'feature_fraction': 0.8763293052455702, 'bagging_fraction': 0.41749385969665975, 'bagging_freq': 3}. Best is trial 62 with value: -1.085352972838052.\u001b[0m\n"
     ]
    },
    {
     "name": "stdout",
     "output_type": "stream",
     "text": [
      "[400]\ttraining's l1: 0.807275\tvalid_1's l1: 1.09412\n",
      "Early stopping, best iteration is:\n",
      "[301]\ttraining's l1: 0.818518\tvalid_1's l1: 1.09177\n",
      "[LightGBM] [Warning] feature_fraction is set=0.6102420886670912, colsample_bytree=0.9 will be ignored. Current value: feature_fraction=0.6102420886670912\n",
      "[LightGBM] [Warning] bagging_fraction is set=0.4609789638906436, subsample=0.6 will be ignored. Current value: bagging_fraction=0.4609789638906436\n",
      "[LightGBM] [Warning] bagging_freq is set=3, subsample_freq=0 will be ignored. Current value: bagging_freq=3\n",
      "Training until validation scores don't improve for 100 rounds\n",
      "[100]\ttraining's l1: 0.839986\tvalid_1's l1: 1.10293\n",
      "[200]\ttraining's l1: 0.819613\tvalid_1's l1: 1.09936\n",
      "[300]\ttraining's l1: 0.79912\tvalid_1's l1: 1.09691\n"
     ]
    },
    {
     "name": "stderr",
     "output_type": "stream",
     "text": [
      "\u001b[32m[I 2021-07-06 15:10:40,380]\u001b[0m Trial 69 finished with value: -1.0966906457680716 and parameters: {'max_depth': 7, 'min_child_weight': 12, 'subsample': 0.6, 'colsample_bytree': 0.9, 'reg_lambda': 0.017349463180254744, 'reg_alpha': 0.010253906568463195, 'feature_fraction': 0.6102420886670912, 'bagging_fraction': 0.4609789638906436, 'bagging_freq': 3}. Best is trial 62 with value: -1.085352972838052.\u001b[0m\n"
     ]
    },
    {
     "name": "stdout",
     "output_type": "stream",
     "text": [
      "[400]\ttraining's l1: 0.783959\tvalid_1's l1: 1.09918\n",
      "Early stopping, best iteration is:\n",
      "[302]\ttraining's l1: 0.799039\tvalid_1's l1: 1.09682\n",
      "[LightGBM] [Warning] feature_fraction is set=0.9311909892396976, colsample_bytree=0.9 will be ignored. Current value: feature_fraction=0.9311909892396976\n",
      "[LightGBM] [Warning] bagging_fraction is set=0.43758256213695723, subsample=0.6 will be ignored. Current value: bagging_fraction=0.43758256213695723\n",
      "[LightGBM] [Warning] bagging_freq is set=5, subsample_freq=0 will be ignored. Current value: bagging_freq=5\n",
      "Training until validation scores don't improve for 100 rounds\n",
      "[100]\ttraining's l1: 0.8513\tvalid_1's l1: 1.10595\n",
      "[200]\ttraining's l1: 0.829799\tvalid_1's l1: 1.09728\n",
      "[300]\ttraining's l1: 0.817579\tvalid_1's l1: 1.10288\n"
     ]
    },
    {
     "name": "stderr",
     "output_type": "stream",
     "text": [
      "\u001b[32m[I 2021-07-06 15:10:50,888]\u001b[0m Trial 70 finished with value: -1.0966974582984563 and parameters: {'max_depth': 8, 'min_child_weight': 14, 'subsample': 0.6, 'colsample_bytree': 0.9, 'reg_lambda': 0.01026005822765541, 'reg_alpha': 0.05097488720938967, 'feature_fraction': 0.9311909892396976, 'bagging_fraction': 0.43758256213695723, 'bagging_freq': 5}. Best is trial 62 with value: -1.085352972838052.\u001b[0m\n"
     ]
    },
    {
     "name": "stdout",
     "output_type": "stream",
     "text": [
      "Early stopping, best iteration is:\n",
      "[228]\ttraining's l1: 0.827519\tvalid_1's l1: 1.09674\n",
      "[LightGBM] [Warning] feature_fraction is set=0.8200696791976247, colsample_bytree=0.9 will be ignored. Current value: feature_fraction=0.8200696791976247\n",
      "[LightGBM] [Warning] bagging_fraction is set=0.45630947224469054, subsample=0.6 will be ignored. Current value: bagging_fraction=0.45630947224469054\n",
      "[LightGBM] [Warning] bagging_freq is set=4, subsample_freq=0 will be ignored. Current value: bagging_freq=4\n",
      "Training until validation scores don't improve for 100 rounds\n",
      "[100]\ttraining's l1: 0.842007\tvalid_1's l1: 1.10108\n",
      "[200]\ttraining's l1: 0.829419\tvalid_1's l1: 1.09461\n"
     ]
    },
    {
     "name": "stderr",
     "output_type": "stream",
     "text": [
      "\u001b[32m[I 2021-07-06 15:11:00,517]\u001b[0m Trial 71 finished with value: -1.0942608685784514 and parameters: {'max_depth': 5, 'min_child_weight': 9, 'subsample': 0.6, 'colsample_bytree': 0.9, 'reg_lambda': 0.0386177488084671, 'reg_alpha': 0.001688321156855053, 'feature_fraction': 0.8200696791976247, 'bagging_fraction': 0.45630947224469054, 'bagging_freq': 4}. Best is trial 62 with value: -1.085352972838052.\u001b[0m\n"
     ]
    },
    {
     "name": "stdout",
     "output_type": "stream",
     "text": [
      "Early stopping, best iteration is:\n",
      "[192]\ttraining's l1: 0.830542\tvalid_1's l1: 1.09436\n",
      "[LightGBM] [Warning] feature_fraction is set=0.842570577573103, colsample_bytree=0.9 will be ignored. Current value: feature_fraction=0.842570577573103\n",
      "[LightGBM] [Warning] bagging_fraction is set=0.4831427221903266, subsample=0.6 will be ignored. Current value: bagging_fraction=0.4831427221903266\n",
      "[LightGBM] [Warning] bagging_freq is set=6, subsample_freq=0 will be ignored. Current value: bagging_freq=6\n",
      "Training until validation scores don't improve for 100 rounds\n",
      "[100]\ttraining's l1: 0.848372\tvalid_1's l1: 1.10081\n",
      "[200]\ttraining's l1: 0.829047\tvalid_1's l1: 1.09489\n",
      "[300]\ttraining's l1: 0.807366\tvalid_1's l1: 1.09293\n"
     ]
    },
    {
     "name": "stderr",
     "output_type": "stream",
     "text": [
      "\u001b[32m[I 2021-07-06 15:11:12,436]\u001b[0m Trial 72 finished with value: -1.0923440916081035 and parameters: {'max_depth': 6, 'min_child_weight': 17, 'subsample': 0.6, 'colsample_bytree': 0.9, 'reg_lambda': 0.02735281296105972, 'reg_alpha': 0.0010291570664287446, 'feature_fraction': 0.842570577573103, 'bagging_fraction': 0.4831427221903266, 'bagging_freq': 6}. Best is trial 62 with value: -1.085352972838052.\u001b[0m\n"
     ]
    },
    {
     "name": "stdout",
     "output_type": "stream",
     "text": [
      "Early stopping, best iteration is:\n",
      "[284]\ttraining's l1: 0.810172\tvalid_1's l1: 1.09244\n",
      "[LightGBM] [Warning] feature_fraction is set=0.8786495740753724, colsample_bytree=0.9 will be ignored. Current value: feature_fraction=0.8786495740753724\n",
      "[LightGBM] [Warning] bagging_fraction is set=0.4001214145447792, subsample=0.9 will be ignored. Current value: bagging_fraction=0.4001214145447792\n",
      "[LightGBM] [Warning] bagging_freq is set=2, subsample_freq=0 will be ignored. Current value: bagging_freq=2\n",
      "Training until validation scores don't improve for 100 rounds\n",
      "[100]\ttraining's l1: 0.848983\tvalid_1's l1: 1.1044\n",
      "[200]\ttraining's l1: 0.825324\tvalid_1's l1: 1.09411\n",
      "[300]\ttraining's l1: 0.812367\tvalid_1's l1: 1.09115\n",
      "[400]\ttraining's l1: 0.792215\tvalid_1's l1: 1.09494\n"
     ]
    },
    {
     "name": "stderr",
     "output_type": "stream",
     "text": [
      "\u001b[32m[I 2021-07-06 15:11:28,148]\u001b[0m Trial 73 finished with value: -1.0896866151781863 and parameters: {'max_depth': 9, 'min_child_weight': 16, 'subsample': 0.9, 'colsample_bytree': 0.9, 'reg_lambda': 0.14493944167518108, 'reg_alpha': 0.005285115746885671, 'feature_fraction': 0.8786495740753724, 'bagging_fraction': 0.4001214145447792, 'bagging_freq': 2}. Best is trial 62 with value: -1.085352972838052.\u001b[0m\n"
     ]
    },
    {
     "name": "stdout",
     "output_type": "stream",
     "text": [
      "Early stopping, best iteration is:\n",
      "[322]\ttraining's l1: 0.807367\tvalid_1's l1: 1.08981\n",
      "[LightGBM] [Warning] feature_fraction is set=0.8851411281392938, colsample_bytree=0.9 will be ignored. Current value: feature_fraction=0.8851411281392938\n",
      "[LightGBM] [Warning] bagging_fraction is set=0.4063340878837292, subsample=0.6 will be ignored. Current value: bagging_fraction=0.4063340878837292\n",
      "[LightGBM] [Warning] bagging_freq is set=2, subsample_freq=0 will be ignored. Current value: bagging_freq=2\n",
      "Training until validation scores don't improve for 100 rounds\n",
      "[100]\ttraining's l1: 0.848843\tvalid_1's l1: 1.10433\n",
      "[200]\ttraining's l1: 0.836369\tvalid_1's l1: 1.099\n",
      "[300]\ttraining's l1: 0.81926\tvalid_1's l1: 1.09715\n",
      "[400]\ttraining's l1: 0.801097\tvalid_1's l1: 1.09873\n"
     ]
    },
    {
     "name": "stderr",
     "output_type": "stream",
     "text": [
      "\u001b[32m[I 2021-07-06 15:11:44,452]\u001b[0m Trial 74 finished with value: -1.0956326725869827 and parameters: {'max_depth': 10, 'min_child_weight': 16, 'subsample': 0.6, 'colsample_bytree': 0.9, 'reg_lambda': 0.5104110988176878, 'reg_alpha': 0.005950050593923514, 'feature_fraction': 0.8851411281392938, 'bagging_fraction': 0.4063340878837292, 'bagging_freq': 2}. Best is trial 62 with value: -1.085352972838052.\u001b[0m\n"
     ]
    },
    {
     "name": "stdout",
     "output_type": "stream",
     "text": [
      "Early stopping, best iteration is:\n",
      "[335]\ttraining's l1: 0.812518\tvalid_1's l1: 1.0957\n",
      "[LightGBM] [Warning] feature_fraction is set=0.9628979260810477, colsample_bytree=0.9 will be ignored. Current value: feature_fraction=0.9628979260810477\n",
      "[LightGBM] [Warning] bagging_fraction is set=0.4336650275012042, subsample=0.6 will be ignored. Current value: bagging_fraction=0.4336650275012042\n",
      "[LightGBM] [Warning] bagging_freq is set=1, subsample_freq=0 will be ignored. Current value: bagging_freq=1\n",
      "Training until validation scores don't improve for 100 rounds\n",
      "[100]\ttraining's l1: 0.850647\tvalid_1's l1: 1.10672\n",
      "[200]\ttraining's l1: 0.833124\tvalid_1's l1: 1.0968\n",
      "[300]\ttraining's l1: 0.817217\tvalid_1's l1: 1.09536\n"
     ]
    },
    {
     "name": "stderr",
     "output_type": "stream",
     "text": [
      "\u001b[32m[I 2021-07-06 15:12:02,389]\u001b[0m Trial 75 finished with value: -1.0939980261860358 and parameters: {'max_depth': 8, 'min_child_weight': 15, 'subsample': 0.6, 'colsample_bytree': 0.9, 'reg_lambda': 0.13806226021240425, 'reg_alpha': 0.012539204493188983, 'feature_fraction': 0.9628979260810477, 'bagging_fraction': 0.4336650275012042, 'bagging_freq': 1}. Best is trial 62 with value: -1.085352972838052.\u001b[0m\n"
     ]
    },
    {
     "name": "stdout",
     "output_type": "stream",
     "text": [
      "Early stopping, best iteration is:\n",
      "[231]\ttraining's l1: 0.828314\tvalid_1's l1: 1.09406\n",
      "[LightGBM] [Warning] feature_fraction is set=0.9040173875623798, colsample_bytree=0.9 will be ignored. Current value: feature_fraction=0.9040173875623798\n",
      "[LightGBM] [Warning] bagging_fraction is set=0.40011897995006934, subsample=0.5 will be ignored. Current value: bagging_fraction=0.40011897995006934\n",
      "[LightGBM] [Warning] bagging_freq is set=1, subsample_freq=0 will be ignored. Current value: bagging_freq=1\n",
      "Training until validation scores don't improve for 100 rounds\n",
      "[100]\ttraining's l1: 0.846518\tvalid_1's l1: 1.10241\n",
      "[200]\ttraining's l1: 0.834958\tvalid_1's l1: 1.10076\n",
      "[300]\ttraining's l1: 0.819008\tvalid_1's l1: 1.09741\n",
      "[400]\ttraining's l1: 0.805374\tvalid_1's l1: 1.09353\n",
      "[500]\ttraining's l1: 0.790365\tvalid_1's l1: 1.09582\n"
     ]
    },
    {
     "name": "stderr",
     "output_type": "stream",
     "text": [
      "\u001b[32m[I 2021-07-06 15:12:28,020]\u001b[0m Trial 76 finished with value: -1.0931604224658598 and parameters: {'max_depth': 9, 'min_child_weight': 13, 'subsample': 0.5, 'colsample_bytree': 0.9, 'reg_lambda': 0.2553899797410833, 'reg_alpha': 0.007839434562354477, 'feature_fraction': 0.9040173875623798, 'bagging_fraction': 0.40011897995006934, 'bagging_freq': 1}. Best is trial 62 with value: -1.085352972838052.\u001b[0m\n"
     ]
    },
    {
     "name": "stdout",
     "output_type": "stream",
     "text": [
      "Early stopping, best iteration is:\n",
      "[412]\ttraining's l1: 0.80285\tvalid_1's l1: 1.09326\n",
      "[LightGBM] [Warning] feature_fraction is set=0.9153105802327139, colsample_bytree=0.9 will be ignored. Current value: feature_fraction=0.9153105802327139\n",
      "[LightGBM] [Warning] bagging_fraction is set=0.41858389344585656, subsample=0.6 will be ignored. Current value: bagging_fraction=0.41858389344585656\n",
      "[LightGBM] [Warning] bagging_freq is set=2, subsample_freq=0 will be ignored. Current value: bagging_freq=2\n",
      "Training until validation scores don't improve for 100 rounds\n",
      "[100]\ttraining's l1: 0.863052\tvalid_1's l1: 1.11166\n",
      "[200]\ttraining's l1: 0.850622\tvalid_1's l1: 1.10279\n",
      "[300]\ttraining's l1: 0.837513\tvalid_1's l1: 1.09726\n",
      "[400]\ttraining's l1: 0.827336\tvalid_1's l1: 1.09372\n",
      "[500]\ttraining's l1: 0.818614\tvalid_1's l1: 1.09353\n"
     ]
    },
    {
     "name": "stderr",
     "output_type": "stream",
     "text": [
      "\u001b[32m[I 2021-07-06 15:12:46,255]\u001b[0m Trial 77 finished with value: -1.092190239107579 and parameters: {'max_depth': 4, 'min_child_weight': 18, 'subsample': 0.6, 'colsample_bytree': 0.9, 'reg_lambda': 0.05570085697392127, 'reg_alpha': 0.02079369559786691, 'feature_fraction': 0.9153105802327139, 'bagging_fraction': 0.41858389344585656, 'bagging_freq': 2}. Best is trial 62 with value: -1.085352972838052.\u001b[0m\n"
     ]
    },
    {
     "name": "stdout",
     "output_type": "stream",
     "text": [
      "Early stopping, best iteration is:\n",
      "[448]\ttraining's l1: 0.822691\tvalid_1's l1: 1.09229\n",
      "[LightGBM] [Warning] feature_fraction is set=0.9451278118298145, colsample_bytree=0.9 will be ignored. Current value: feature_fraction=0.9451278118298145\n",
      "[LightGBM] [Warning] bagging_fraction is set=0.4879981384029066, subsample=0.9 will be ignored. Current value: bagging_fraction=0.4879981384029066\n",
      "[LightGBM] [Warning] bagging_freq is set=2, subsample_freq=0 will be ignored. Current value: bagging_freq=2\n",
      "Training until validation scores don't improve for 100 rounds\n",
      "[100]\ttraining's l1: 0.844718\tvalid_1's l1: 1.10374\n",
      "[200]\ttraining's l1: 0.835539\tvalid_1's l1: 1.0995\n",
      "[300]\ttraining's l1: 0.829716\tvalid_1's l1: 1.09816\n",
      "[400]\ttraining's l1: 0.821601\tvalid_1's l1: 1.09699\n"
     ]
    },
    {
     "name": "stderr",
     "output_type": "stream",
     "text": [
      "\u001b[32m[I 2021-07-06 15:13:04,520]\u001b[0m Trial 78 finished with value: -1.0960592512141536 and parameters: {'max_depth': 7, 'min_child_weight': 14, 'subsample': 0.9, 'colsample_bytree': 0.9, 'reg_lambda': 0.004991718956925316, 'reg_alpha': 0.004218525299878636, 'feature_fraction': 0.9451278118298145, 'bagging_fraction': 0.4879981384029066, 'bagging_freq': 2}. Best is trial 62 with value: -1.085352972838052.\u001b[0m\n"
     ]
    },
    {
     "name": "stdout",
     "output_type": "stream",
     "text": [
      "Early stopping, best iteration is:\n",
      "[347]\ttraining's l1: 0.825946\tvalid_1's l1: 1.09612\n",
      "[LightGBM] [Warning] feature_fraction is set=0.8763432663746517, colsample_bytree=0.9 will be ignored. Current value: feature_fraction=0.8763432663746517\n",
      "[LightGBM] [Warning] bagging_fraction is set=0.44226625795930674, subsample=0.7 will be ignored. Current value: bagging_fraction=0.44226625795930674\n",
      "[LightGBM] [Warning] bagging_freq is set=5, subsample_freq=0 will be ignored. Current value: bagging_freq=5\n",
      "Training until validation scores don't improve for 100 rounds\n",
      "[100]\ttraining's l1: 0.842401\tvalid_1's l1: 1.09833\n",
      "[200]\ttraining's l1: 0.828209\tvalid_1's l1: 1.09283\n",
      "[300]\ttraining's l1: 0.814462\tvalid_1's l1: 1.08941\n",
      "[400]\ttraining's l1: 0.802097\tvalid_1's l1: 1.08989\n",
      "[500]\ttraining's l1: 0.794148\tvalid_1's l1: 1.08971\n",
      "[600]\ttraining's l1: 0.783566\tvalid_1's l1: 1.09629\n",
      "Early stopping, best iteration is:\n",
      "[507]\ttraining's l1: 0.793801\tvalid_1's l1: 1.08819\n"
     ]
    },
    {
     "name": "stderr",
     "output_type": "stream",
     "text": [
      "\u001b[32m[I 2021-07-06 15:13:21,877]\u001b[0m Trial 79 finished with value: -1.0879679032181682 and parameters: {'max_depth': 6, 'min_child_weight': 17, 'subsample': 0.7, 'colsample_bytree': 0.9, 'reg_lambda': 0.00934605870512936, 'reg_alpha': 0.0026371268070264093, 'feature_fraction': 0.8763432663746517, 'bagging_fraction': 0.44226625795930674, 'bagging_freq': 5}. Best is trial 62 with value: -1.085352972838052.\u001b[0m\n"
     ]
    },
    {
     "name": "stdout",
     "output_type": "stream",
     "text": [
      "[LightGBM] [Warning] feature_fraction is set=0.8818359608737392, colsample_bytree=0.9 will be ignored. Current value: feature_fraction=0.8818359608737392\n",
      "[LightGBM] [Warning] bagging_fraction is set=0.46766275300282023, subsample=0.5 will be ignored. Current value: bagging_fraction=0.46766275300282023\n",
      "[LightGBM] [Warning] bagging_freq is set=5, subsample_freq=0 will be ignored. Current value: bagging_freq=5\n",
      "Training until validation scores don't improve for 100 rounds\n",
      "[100]\ttraining's l1: 0.895122\tvalid_1's l1: 1.13584\n",
      "[200]\ttraining's l1: 0.882722\tvalid_1's l1: 1.12182\n",
      "[300]\ttraining's l1: 0.875546\tvalid_1's l1: 1.11739\n",
      "[400]\ttraining's l1: 0.870459\tvalid_1's l1: 1.11433\n",
      "[500]\ttraining's l1: 0.865351\tvalid_1's l1: 1.11219\n",
      "[600]\ttraining's l1: 0.862238\tvalid_1's l1: 1.11184\n",
      "[700]\ttraining's l1: 0.86011\tvalid_1's l1: 1.11113\n",
      "[800]\ttraining's l1: 0.857334\tvalid_1's l1: 1.10949\n",
      "[900]\ttraining's l1: 0.854452\tvalid_1's l1: 1.10798\n",
      "[1000]\ttraining's l1: 0.852732\tvalid_1's l1: 1.10763\n",
      "[1100]\ttraining's l1: 0.851529\tvalid_1's l1: 1.10737\n",
      "[1200]\ttraining's l1: 0.849895\tvalid_1's l1: 1.10704\n",
      "[1300]\ttraining's l1: 0.848239\tvalid_1's l1: 1.10661\n",
      "[1400]\ttraining's l1: 0.846949\tvalid_1's l1: 1.10644\n",
      "Early stopping, best iteration is:\n",
      "[1375]\ttraining's l1: 0.847255\tvalid_1's l1: 1.10619\n"
     ]
    },
    {
     "name": "stderr",
     "output_type": "stream",
     "text": [
      "\u001b[32m[I 2021-07-06 15:13:56,263]\u001b[0m Trial 80 finished with value: -1.1060124170981633 and parameters: {'max_depth': 3, 'min_child_weight': 17, 'subsample': 0.5, 'colsample_bytree': 0.9, 'reg_lambda': 0.012192421740220052, 'reg_alpha': 0.0025776436845274336, 'feature_fraction': 0.8818359608737392, 'bagging_fraction': 0.46766275300282023, 'bagging_freq': 5}. Best is trial 62 with value: -1.085352972838052.\u001b[0m\n"
     ]
    },
    {
     "name": "stdout",
     "output_type": "stream",
     "text": [
      "[LightGBM] [Warning] feature_fraction is set=0.7467287498627148, colsample_bytree=0.9 will be ignored. Current value: feature_fraction=0.7467287498627148\n",
      "[LightGBM] [Warning] bagging_fraction is set=0.44264746351526635, subsample=0.7 will be ignored. Current value: bagging_fraction=0.44264746351526635\n",
      "[LightGBM] [Warning] bagging_freq is set=4, subsample_freq=0 will be ignored. Current value: bagging_freq=4\n",
      "Training until validation scores don't improve for 100 rounds\n",
      "[100]\ttraining's l1: 0.842132\tvalid_1's l1: 1.10039\n",
      "[200]\ttraining's l1: 0.823099\tvalid_1's l1: 1.09271\n",
      "[300]\ttraining's l1: 0.805321\tvalid_1's l1: 1.09175\n"
     ]
    },
    {
     "name": "stderr",
     "output_type": "stream",
     "text": [
      "\u001b[32m[I 2021-07-06 15:14:07,480]\u001b[0m Trial 81 finished with value: -1.0897785944894893 and parameters: {'max_depth': 6, 'min_child_weight': 16, 'subsample': 0.7, 'colsample_bytree': 0.9, 'reg_lambda': 0.01799653743281557, 'reg_alpha': 0.0032329136073979124, 'feature_fraction': 0.7467287498627148, 'bagging_fraction': 0.44264746351526635, 'bagging_freq': 4}. Best is trial 62 with value: -1.085352972838052.\u001b[0m\n"
     ]
    },
    {
     "name": "stdout",
     "output_type": "stream",
     "text": [
      "Early stopping, best iteration is:\n",
      "[243]\ttraining's l1: 0.814404\tvalid_1's l1: 1.08985\n",
      "[LightGBM] [Warning] feature_fraction is set=0.7174167265423307, colsample_bytree=0.9 will be ignored. Current value: feature_fraction=0.7174167265423307\n",
      "[LightGBM] [Warning] bagging_fraction is set=0.4473657070937195, subsample=0.7 will be ignored. Current value: bagging_fraction=0.4473657070937195\n",
      "[LightGBM] [Warning] bagging_freq is set=4, subsample_freq=0 will be ignored. Current value: bagging_freq=4\n",
      "Training until validation scores don't improve for 100 rounds\n",
      "[100]\ttraining's l1: 0.838737\tvalid_1's l1: 1.09791\n",
      "[200]\ttraining's l1: 0.813285\tvalid_1's l1: 1.09302\n",
      "[300]\ttraining's l1: 0.796077\tvalid_1's l1: 1.09291\n"
     ]
    },
    {
     "name": "stderr",
     "output_type": "stream",
     "text": [
      "\u001b[32m[I 2021-07-06 15:14:17,798]\u001b[0m Trial 82 finished with value: -1.0902858038115804 and parameters: {'max_depth': 6, 'min_child_weight': 16, 'subsample': 0.7, 'colsample_bytree': 0.9, 'reg_lambda': 1.017567012473082, 'reg_alpha': 0.0015797499958976184, 'feature_fraction': 0.7174167265423307, 'bagging_fraction': 0.4473657070937195, 'bagging_freq': 4}. Best is trial 62 with value: -1.085352972838052.\u001b[0m\n"
     ]
    },
    {
     "name": "stdout",
     "output_type": "stream",
     "text": [
      "Early stopping, best iteration is:\n",
      "[225]\ttraining's l1: 0.808697\tvalid_1's l1: 1.09036\n",
      "[LightGBM] [Warning] feature_fraction is set=0.6964192311304545, colsample_bytree=0.9 will be ignored. Current value: feature_fraction=0.6964192311304545\n",
      "[LightGBM] [Warning] bagging_fraction is set=0.44377086877104066, subsample=0.7 will be ignored. Current value: bagging_fraction=0.44377086877104066\n",
      "[LightGBM] [Warning] bagging_freq is set=4, subsample_freq=0 will be ignored. Current value: bagging_freq=4\n",
      "Training until validation scores don't improve for 100 rounds\n",
      "[100]\ttraining's l1: 0.842237\tvalid_1's l1: 1.10138\n",
      "[200]\ttraining's l1: 0.822681\tvalid_1's l1: 1.09452\n",
      "[300]\ttraining's l1: 0.807063\tvalid_1's l1: 1.0927\n",
      "[400]\ttraining's l1: 0.794923\tvalid_1's l1: 1.09284\n"
     ]
    },
    {
     "name": "stderr",
     "output_type": "stream",
     "text": [
      "\u001b[32m[I 2021-07-06 15:14:30,830]\u001b[0m Trial 83 finished with value: -1.0913402019861274 and parameters: {'max_depth': 5, 'min_child_weight': 16, 'subsample': 0.7, 'colsample_bytree': 0.9, 'reg_lambda': 1.0162310770181804, 'reg_alpha': 0.003051687014353372, 'feature_fraction': 0.6964192311304545, 'bagging_fraction': 0.44377086877104066, 'bagging_freq': 4}. Best is trial 62 with value: -1.085352972838052.\u001b[0m\n"
     ]
    },
    {
     "name": "stdout",
     "output_type": "stream",
     "text": [
      "Early stopping, best iteration is:\n",
      "[342]\ttraining's l1: 0.80175\tvalid_1's l1: 1.09145\n",
      "[LightGBM] [Warning] feature_fraction is set=0.6502005849518796, colsample_bytree=0.9 will be ignored. Current value: feature_fraction=0.6502005849518796\n",
      "[LightGBM] [Warning] bagging_fraction is set=0.5060259521554651, subsample=0.7 will be ignored. Current value: bagging_fraction=0.5060259521554651\n",
      "[LightGBM] [Warning] bagging_freq is set=4, subsample_freq=0 will be ignored. Current value: bagging_freq=4\n",
      "Training until validation scores don't improve for 100 rounds\n",
      "[100]\ttraining's l1: 0.840637\tvalid_1's l1: 1.09987\n",
      "[200]\ttraining's l1: 0.821847\tvalid_1's l1: 1.0944\n",
      "[300]\ttraining's l1: 0.804643\tvalid_1's l1: 1.0929\n"
     ]
    },
    {
     "name": "stderr",
     "output_type": "stream",
     "text": [
      "\u001b[32m[I 2021-07-06 15:14:43,826]\u001b[0m Trial 84 finished with value: -1.0910383471123055 and parameters: {'max_depth': 6, 'min_child_weight': 16, 'subsample': 0.7, 'colsample_bytree': 0.9, 'reg_lambda': 3.2523539888798347, 'reg_alpha': 0.0053733786346734855, 'feature_fraction': 0.6502005849518796, 'bagging_fraction': 0.5060259521554651, 'bagging_freq': 4}. Best is trial 62 with value: -1.085352972838052.\u001b[0m\n"
     ]
    },
    {
     "name": "stdout",
     "output_type": "stream",
     "text": [
      "Early stopping, best iteration is:\n",
      "[262]\ttraining's l1: 0.809811\tvalid_1's l1: 1.09111\n",
      "[LightGBM] [Warning] feature_fraction is set=0.7266983290582129, colsample_bytree=0.9 will be ignored. Current value: feature_fraction=0.7266983290582129\n",
      "[LightGBM] [Warning] bagging_fraction is set=0.4542350827092277, subsample=0.7 will be ignored. Current value: bagging_fraction=0.4542350827092277\n",
      "[LightGBM] [Warning] bagging_freq is set=5, subsample_freq=0 will be ignored. Current value: bagging_freq=5\n",
      "Training until validation scores don't improve for 100 rounds\n",
      "[100]\ttraining's l1: 0.867807\tvalid_1's l1: 1.11657\n",
      "[200]\ttraining's l1: 0.84534\tvalid_1's l1: 1.10319\n",
      "[300]\ttraining's l1: 0.835477\tvalid_1's l1: 1.1001\n",
      "[400]\ttraining's l1: 0.825223\tvalid_1's l1: 1.09884\n",
      "[500]\ttraining's l1: 0.817085\tvalid_1's l1: 1.09975\n"
     ]
    },
    {
     "name": "stderr",
     "output_type": "stream",
     "text": [
      "\u001b[32m[I 2021-07-06 15:14:58,153]\u001b[0m Trial 85 finished with value: -1.0972257092090267 and parameters: {'max_depth': 4, 'min_child_weight': 17, 'subsample': 0.7, 'colsample_bytree': 0.9, 'reg_lambda': 1.7804485585366088, 'reg_alpha': 0.002256897233420676, 'feature_fraction': 0.7266983290582129, 'bagging_fraction': 0.4542350827092277, 'bagging_freq': 5}. Best is trial 62 with value: -1.085352972838052.\u001b[0m\n"
     ]
    },
    {
     "name": "stdout",
     "output_type": "stream",
     "text": [
      "Early stopping, best iteration is:\n",
      "[470]\ttraining's l1: 0.820172\tvalid_1's l1: 1.09735\n",
      "[LightGBM] [Warning] feature_fraction is set=0.6966480176657662, colsample_bytree=0.9 will be ignored. Current value: feature_fraction=0.6966480176657662\n",
      "[LightGBM] [Warning] bagging_fraction is set=0.47648548017014647, subsample=0.7 will be ignored. Current value: bagging_fraction=0.47648548017014647\n",
      "[LightGBM] [Warning] bagging_freq is set=3, subsample_freq=0 will be ignored. Current value: bagging_freq=3\n",
      "Training until validation scores don't improve for 100 rounds\n",
      "[100]\ttraining's l1: 0.9314\tvalid_1's l1: 1.17425\n",
      "[200]\ttraining's l1: 0.906519\tvalid_1's l1: 1.1446\n",
      "[300]\ttraining's l1: 0.895113\tvalid_1's l1: 1.13508\n",
      "[400]\ttraining's l1: 0.888143\tvalid_1's l1: 1.12938\n",
      "[500]\ttraining's l1: 0.881811\tvalid_1's l1: 1.12412\n",
      "[600]\ttraining's l1: 0.877156\tvalid_1's l1: 1.1233\n",
      "[700]\ttraining's l1: 0.873306\tvalid_1's l1: 1.12095\n",
      "[800]\ttraining's l1: 0.869501\tvalid_1's l1: 1.11898\n",
      "[900]\ttraining's l1: 0.866731\tvalid_1's l1: 1.1174\n",
      "[1000]\ttraining's l1: 0.863434\tvalid_1's l1: 1.11538\n",
      "[1100]\ttraining's l1: 0.860383\tvalid_1's l1: 1.11484\n",
      "[1200]\ttraining's l1: 0.858598\tvalid_1's l1: 1.11432\n",
      "[1300]\ttraining's l1: 0.857123\tvalid_1's l1: 1.11399\n",
      "Early stopping, best iteration is:\n",
      "[1239]\ttraining's l1: 0.858043\tvalid_1's l1: 1.1136\n"
     ]
    },
    {
     "name": "stderr",
     "output_type": "stream",
     "text": [
      "\u001b[32m[I 2021-07-06 15:15:30,200]\u001b[0m Trial 86 finished with value: -1.1132041206151224 and parameters: {'max_depth': 2, 'min_child_weight': 19, 'subsample': 0.7, 'colsample_bytree': 0.9, 'reg_lambda': 1.1373531598201019, 'reg_alpha': 0.003915807044730496, 'feature_fraction': 0.6966480176657662, 'bagging_fraction': 0.47648548017014647, 'bagging_freq': 3}. Best is trial 62 with value: -1.085352972838052.\u001b[0m\n"
     ]
    },
    {
     "name": "stdout",
     "output_type": "stream",
     "text": [
      "[LightGBM] [Warning] feature_fraction is set=0.7425166069926769, colsample_bytree=0.9 will be ignored. Current value: feature_fraction=0.7425166069926769\n",
      "[LightGBM] [Warning] bagging_fraction is set=0.4391563078436023, subsample=0.7 will be ignored. Current value: bagging_fraction=0.4391563078436023\n",
      "[LightGBM] [Warning] bagging_freq is set=4, subsample_freq=0 will be ignored. Current value: bagging_freq=4\n",
      "Training until validation scores don't improve for 100 rounds\n",
      "[100]\ttraining's l1: 0.840028\tvalid_1's l1: 1.09886\n",
      "[200]\ttraining's l1: 0.813328\tvalid_1's l1: 1.09729\n"
     ]
    },
    {
     "name": "stderr",
     "output_type": "stream",
     "text": [
      "\u001b[32m[I 2021-07-06 15:15:38,532]\u001b[0m Trial 87 finished with value: -1.0967087998219827 and parameters: {'max_depth': 6, 'min_child_weight': 15, 'subsample': 0.7, 'colsample_bytree': 0.9, 'reg_lambda': 5.224988763352054, 'reg_alpha': 0.0013693768550570237, 'feature_fraction': 0.7425166069926769, 'bagging_fraction': 0.4391563078436023, 'bagging_freq': 4}. Best is trial 62 with value: -1.085352972838052.\u001b[0m\n"
     ]
    },
    {
     "name": "stdout",
     "output_type": "stream",
     "text": [
      "Early stopping, best iteration is:\n",
      "[148]\ttraining's l1: 0.82505\tvalid_1's l1: 1.09678\n",
      "[LightGBM] [Warning] feature_fraction is set=0.7781408352340109, colsample_bytree=0.9 will be ignored. Current value: feature_fraction=0.7781408352340109\n",
      "[LightGBM] [Warning] bagging_fraction is set=0.5318620387522589, subsample=0.8 will be ignored. Current value: bagging_fraction=0.5318620387522589\n",
      "[LightGBM] [Warning] bagging_freq is set=5, subsample_freq=0 will be ignored. Current value: bagging_freq=5\n",
      "Training until validation scores don't improve for 100 rounds\n",
      "[100]\ttraining's l1: 0.848423\tvalid_1's l1: 1.10107\n",
      "[200]\ttraining's l1: 0.827069\tvalid_1's l1: 1.09528\n",
      "[300]\ttraining's l1: 0.803349\tvalid_1's l1: 1.10118\n"
     ]
    },
    {
     "name": "stderr",
     "output_type": "stream",
     "text": [
      "\u001b[32m[I 2021-07-06 15:15:50,349]\u001b[0m Trial 88 finished with value: -1.0942342359691652 and parameters: {'max_depth': 8, 'min_child_weight': 16, 'subsample': 0.8, 'colsample_bytree': 0.9, 'reg_lambda': 0.4804093285967164, 'reg_alpha': 0.0010329685712987477, 'feature_fraction': 0.7781408352340109, 'bagging_fraction': 0.5318620387522589, 'bagging_freq': 5}. Best is trial 62 with value: -1.085352972838052.\u001b[0m\n"
     ]
    },
    {
     "name": "stdout",
     "output_type": "stream",
     "text": [
      "Early stopping, best iteration is:\n",
      "[227]\ttraining's l1: 0.81874\tvalid_1's l1: 1.09431\n",
      "[LightGBM] [Warning] feature_fraction is set=0.7456837895063738, colsample_bytree=0.9 will be ignored. Current value: feature_fraction=0.7456837895063738\n",
      "[LightGBM] [Warning] bagging_fraction is set=0.46756150050351747, subsample=0.7 will be ignored. Current value: bagging_fraction=0.46756150050351747\n",
      "[LightGBM] [Warning] bagging_freq is set=4, subsample_freq=0 will be ignored. Current value: bagging_freq=4\n",
      "Training until validation scores don't improve for 100 rounds\n",
      "[100]\ttraining's l1: 0.845623\tvalid_1's l1: 1.09817\n",
      "[200]\ttraining's l1: 0.823228\tvalid_1's l1: 1.0921\n",
      "[300]\ttraining's l1: 0.809163\tvalid_1's l1: 1.09241\n",
      "[400]\ttraining's l1: 0.796846\tvalid_1's l1: 1.09178\n"
     ]
    },
    {
     "name": "stderr",
     "output_type": "stream",
     "text": [
      "\u001b[32m[I 2021-07-06 15:16:03,964]\u001b[0m Trial 89 finished with value: -1.0892704596331308 and parameters: {'max_depth': 5, 'min_child_weight': 14, 'subsample': 0.7, 'colsample_bytree': 0.9, 'reg_lambda': 0.26858976439530063, 'reg_alpha': 0.21085365812094858, 'feature_fraction': 0.7456837895063738, 'bagging_fraction': 0.46756150050351747, 'bagging_freq': 4}. Best is trial 62 with value: -1.085352972838052.\u001b[0m\n"
     ]
    },
    {
     "name": "stdout",
     "output_type": "stream",
     "text": [
      "Early stopping, best iteration is:\n",
      "[332]\ttraining's l1: 0.804789\tvalid_1's l1: 1.08937\n",
      "[LightGBM] [Warning] feature_fraction is set=0.7511724208065709, colsample_bytree=0.9 will be ignored. Current value: feature_fraction=0.7511724208065709\n",
      "[LightGBM] [Warning] bagging_fraction is set=0.4919389792678053, subsample=0.7 will be ignored. Current value: bagging_fraction=0.4919389792678053\n",
      "[LightGBM] [Warning] bagging_freq is set=3, subsample_freq=0 will be ignored. Current value: bagging_freq=3\n",
      "Training until validation scores don't improve for 100 rounds\n",
      "[100]\ttraining's l1: 0.843959\tvalid_1's l1: 1.09862\n",
      "[200]\ttraining's l1: 0.82557\tvalid_1's l1: 1.09198\n",
      "[300]\ttraining's l1: 0.810879\tvalid_1's l1: 1.09016\n"
     ]
    },
    {
     "name": "stderr",
     "output_type": "stream",
     "text": [
      "\u001b[32m[I 2021-07-06 15:16:16,758]\u001b[0m Trial 90 finished with value: -1.0889176792968482 and parameters: {'max_depth': 5, 'min_child_weight': 12, 'subsample': 0.7, 'colsample_bytree': 0.9, 'reg_lambda': 0.20002937021537986, 'reg_alpha': 0.21306690427233088, 'feature_fraction': 0.7511724208065709, 'bagging_fraction': 0.4919389792678053, 'bagging_freq': 3}. Best is trial 62 with value: -1.085352972838052.\u001b[0m\n"
     ]
    },
    {
     "name": "stdout",
     "output_type": "stream",
     "text": [
      "Early stopping, best iteration is:\n",
      "[258]\ttraining's l1: 0.816394\tvalid_1's l1: 1.08901\n",
      "[LightGBM] [Warning] feature_fraction is set=0.7595736058684888, colsample_bytree=0.9 will be ignored. Current value: feature_fraction=0.7595736058684888\n",
      "[LightGBM] [Warning] bagging_fraction is set=0.4934174123862353, subsample=0.7 will be ignored. Current value: bagging_fraction=0.4934174123862353\n",
      "[LightGBM] [Warning] bagging_freq is set=3, subsample_freq=0 will be ignored. Current value: bagging_freq=3\n",
      "Training until validation scores don't improve for 100 rounds\n",
      "[100]\ttraining's l1: 0.839289\tvalid_1's l1: 1.09901\n",
      "[200]\ttraining's l1: 0.82344\tvalid_1's l1: 1.09497\n",
      "[300]\ttraining's l1: 0.808896\tvalid_1's l1: 1.09374\n"
     ]
    },
    {
     "name": "stderr",
     "output_type": "stream",
     "text": [
      "\u001b[32m[I 2021-07-06 15:16:30,335]\u001b[0m Trial 91 finished with value: -1.0915511551395913 and parameters: {'max_depth': 5, 'min_child_weight': 12, 'subsample': 0.7, 'colsample_bytree': 0.9, 'reg_lambda': 0.2381694759685359, 'reg_alpha': 0.48207641028910553, 'feature_fraction': 0.7595736058684888, 'bagging_fraction': 0.4934174123862353, 'bagging_freq': 3}. Best is trial 62 with value: -1.085352972838052.\u001b[0m\n"
     ]
    },
    {
     "name": "stdout",
     "output_type": "stream",
     "text": [
      "Early stopping, best iteration is:\n",
      "[271]\ttraining's l1: 0.81328\tvalid_1's l1: 1.09167\n",
      "[LightGBM] [Warning] feature_fraction is set=0.8611075129746524, colsample_bytree=0.9 will be ignored. Current value: feature_fraction=0.8611075129746524\n",
      "[LightGBM] [Warning] bagging_fraction is set=0.46039819789779046, subsample=0.7 will be ignored. Current value: bagging_fraction=0.46039819789779046\n",
      "[LightGBM] [Warning] bagging_freq is set=3, subsample_freq=0 will be ignored. Current value: bagging_freq=3\n",
      "Training until validation scores don't improve for 100 rounds\n",
      "[100]\ttraining's l1: 0.845514\tvalid_1's l1: 1.10016\n",
      "[200]\ttraining's l1: 0.825241\tvalid_1's l1: 1.09156\n",
      "[300]\ttraining's l1: 0.808808\tvalid_1's l1: 1.09172\n"
     ]
    },
    {
     "name": "stderr",
     "output_type": "stream",
     "text": [
      "\u001b[32m[I 2021-07-06 15:16:42,139]\u001b[0m Trial 92 finished with value: -1.090398358185992 and parameters: {'max_depth': 5, 'min_child_weight': 14, 'subsample': 0.7, 'colsample_bytree': 0.9, 'reg_lambda': 0.12301399400693121, 'reg_alpha': 0.11601396818784256, 'feature_fraction': 0.8611075129746524, 'bagging_fraction': 0.46039819789779046, 'bagging_freq': 3}. Best is trial 62 with value: -1.085352972838052.\u001b[0m\n"
     ]
    },
    {
     "name": "stdout",
     "output_type": "stream",
     "text": [
      "Early stopping, best iteration is:\n",
      "[240]\ttraining's l1: 0.819573\tvalid_1's l1: 1.09046\n",
      "[LightGBM] [Warning] feature_fraction is set=0.7343909466252397, colsample_bytree=0.9 will be ignored. Current value: feature_fraction=0.7343909466252397\n",
      "[LightGBM] [Warning] bagging_fraction is set=0.41262757021550445, subsample=0.7 will be ignored. Current value: bagging_fraction=0.41262757021550445\n",
      "[LightGBM] [Warning] bagging_freq is set=2, subsample_freq=0 will be ignored. Current value: bagging_freq=2\n",
      "Training until validation scores don't improve for 100 rounds\n",
      "[100]\ttraining's l1: 0.861501\tvalid_1's l1: 1.11301\n",
      "[200]\ttraining's l1: 0.842822\tvalid_1's l1: 1.10219\n",
      "[300]\ttraining's l1: 0.831491\tvalid_1's l1: 1.10008\n",
      "[400]\ttraining's l1: 0.820366\tvalid_1's l1: 1.09597\n",
      "[500]\ttraining's l1: 0.81353\tvalid_1's l1: 1.09557\n",
      "[600]\ttraining's l1: 0.8082\tvalid_1's l1: 1.0961\n",
      "[700]\ttraining's l1: 0.801233\tvalid_1's l1: 1.09449\n",
      "[800]\ttraining's l1: 0.796272\tvalid_1's l1: 1.09446\n",
      "Early stopping, best iteration is:\n",
      "[722]\ttraining's l1: 0.800061\tvalid_1's l1: 1.09384\n"
     ]
    },
    {
     "name": "stderr",
     "output_type": "stream",
     "text": [
      "\u001b[32m[I 2021-07-06 15:17:05,789]\u001b[0m Trial 93 finished with value: -1.093690115914455 and parameters: {'max_depth': 4, 'min_child_weight': 11, 'subsample': 0.7, 'colsample_bytree': 0.9, 'reg_lambda': 0.22266835529674786, 'reg_alpha': 0.2846900599288018, 'feature_fraction': 0.7343909466252397, 'bagging_fraction': 0.41262757021550445, 'bagging_freq': 2}. Best is trial 62 with value: -1.085352972838052.\u001b[0m\n"
     ]
    },
    {
     "name": "stdout",
     "output_type": "stream",
     "text": [
      "[LightGBM] [Warning] feature_fraction is set=0.7704274252329883, colsample_bytree=0.9 will be ignored. Current value: feature_fraction=0.7704274252329883\n",
      "[LightGBM] [Warning] bagging_fraction is set=0.5128884835612492, subsample=0.7 will be ignored. Current value: bagging_fraction=0.5128884835612492\n",
      "[LightGBM] [Warning] bagging_freq is set=5, subsample_freq=0 will be ignored. Current value: bagging_freq=5\n",
      "Training until validation scores don't improve for 100 rounds\n",
      "[100]\ttraining's l1: 0.925652\tvalid_1's l1: 1.1655\n",
      "[200]\ttraining's l1: 0.902224\tvalid_1's l1: 1.14082\n",
      "[300]\ttraining's l1: 0.891882\tvalid_1's l1: 1.13007\n",
      "[400]\ttraining's l1: 0.884785\tvalid_1's l1: 1.12568\n",
      "[500]\ttraining's l1: 0.879138\tvalid_1's l1: 1.12383\n",
      "[600]\ttraining's l1: 0.875183\tvalid_1's l1: 1.12181\n",
      "[700]\ttraining's l1: 0.871069\tvalid_1's l1: 1.12041\n",
      "[800]\ttraining's l1: 0.867234\tvalid_1's l1: 1.11754\n",
      "[900]\ttraining's l1: 0.863911\tvalid_1's l1: 1.11585\n",
      "[1000]\ttraining's l1: 0.861634\tvalid_1's l1: 1.11511\n",
      "[1100]\ttraining's l1: 0.859903\tvalid_1's l1: 1.11436\n",
      "[1200]\ttraining's l1: 0.857523\tvalid_1's l1: 1.11313\n",
      "[1300]\ttraining's l1: 0.855411\tvalid_1's l1: 1.1132\n",
      "Early stopping, best iteration is:\n",
      "[1240]\ttraining's l1: 0.856237\tvalid_1's l1: 1.11269\n"
     ]
    },
    {
     "name": "stderr",
     "output_type": "stream",
     "text": [
      "\u001b[32m[I 2021-07-06 15:17:37,820]\u001b[0m Trial 94 finished with value: -1.1124799623661203 and parameters: {'max_depth': 2, 'min_child_weight': 13, 'subsample': 0.7, 'colsample_bytree': 0.9, 'reg_lambda': 0.0688527633805634, 'reg_alpha': 0.8796859586563553, 'feature_fraction': 0.7704274252329883, 'bagging_fraction': 0.5128884835612492, 'bagging_freq': 5}. Best is trial 62 with value: -1.085352972838052.\u001b[0m\n"
     ]
    },
    {
     "name": "stdout",
     "output_type": "stream",
     "text": [
      "[LightGBM] [Warning] feature_fraction is set=0.7908987053588403, colsample_bytree=0.9 will be ignored. Current value: feature_fraction=0.7908987053588403\n",
      "[LightGBM] [Warning] bagging_fraction is set=0.47387272616874015, subsample=0.8 will be ignored. Current value: bagging_fraction=0.47387272616874015\n",
      "[LightGBM] [Warning] bagging_freq is set=4, subsample_freq=0 will be ignored. Current value: bagging_freq=4\n",
      "Training until validation scores don't improve for 100 rounds\n",
      "[100]\ttraining's l1: 0.844596\tvalid_1's l1: 1.10174\n",
      "[200]\ttraining's l1: 0.825704\tvalid_1's l1: 1.09404\n",
      "[300]\ttraining's l1: 0.80665\tvalid_1's l1: 1.09098\n",
      "[400]\ttraining's l1: 0.789365\tvalid_1's l1: 1.09138\n"
     ]
    },
    {
     "name": "stderr",
     "output_type": "stream",
     "text": [
      "\u001b[32m[I 2021-07-06 15:17:52,155]\u001b[0m Trial 95 finished with value: -1.0889782613558419 and parameters: {'max_depth': 6, 'min_child_weight': 12, 'subsample': 0.8, 'colsample_bytree': 0.9, 'reg_lambda': 0.044162715699558944, 'reg_alpha': 0.22688867605228255, 'feature_fraction': 0.7908987053588403, 'bagging_fraction': 0.47387272616874015, 'bagging_freq': 4}. Best is trial 62 with value: -1.085352972838052.\u001b[0m\n"
     ]
    },
    {
     "name": "stdout",
     "output_type": "stream",
     "text": [
      "Early stopping, best iteration is:\n",
      "[355]\ttraining's l1: 0.796581\tvalid_1's l1: 1.08916\n",
      "[LightGBM] [Warning] feature_fraction is set=0.8315699195629992, colsample_bytree=0.9 will be ignored. Current value: feature_fraction=0.8315699195629992\n",
      "[LightGBM] [Warning] bagging_fraction is set=0.4705048387897356, subsample=0.8 will be ignored. Current value: bagging_fraction=0.4705048387897356\n",
      "[LightGBM] [Warning] bagging_freq is set=3, subsample_freq=0 will be ignored. Current value: bagging_freq=3\n",
      "Training until validation scores don't improve for 100 rounds\n",
      "[100]\ttraining's l1: 0.852594\tvalid_1's l1: 1.10553\n",
      "[200]\ttraining's l1: 0.827226\tvalid_1's l1: 1.09836\n",
      "[300]\ttraining's l1: 0.802945\tvalid_1's l1: 1.10059\n"
     ]
    },
    {
     "name": "stderr",
     "output_type": "stream",
     "text": [
      "\u001b[32m[I 2021-07-06 15:18:05,493]\u001b[0m Trial 96 finished with value: -1.0974078288900238 and parameters: {'max_depth': 13, 'min_child_weight': 12, 'subsample': 0.8, 'colsample_bytree': 0.9, 'reg_lambda': 0.04505415204571057, 'reg_alpha': 0.22476489033269365, 'feature_fraction': 0.8315699195629992, 'bagging_fraction': 0.4705048387897356, 'bagging_freq': 3}. Best is trial 62 with value: -1.085352972838052.\u001b[0m\n"
     ]
    },
    {
     "name": "stdout",
     "output_type": "stream",
     "text": [
      "Early stopping, best iteration is:\n",
      "[259]\ttraining's l1: 0.813712\tvalid_1's l1: 1.0976\n",
      "[LightGBM] [Warning] feature_fraction is set=0.8933250261370248, colsample_bytree=0.8 will be ignored. Current value: feature_fraction=0.8933250261370248\n",
      "[LightGBM] [Warning] bagging_fraction is set=0.5273096043696627, subsample=0.8 will be ignored. Current value: bagging_fraction=0.5273096043696627\n",
      "[LightGBM] [Warning] bagging_freq is set=4, subsample_freq=0 will be ignored. Current value: bagging_freq=4\n",
      "Training until validation scores don't improve for 100 rounds\n",
      "[100]\ttraining's l1: 0.849597\tvalid_1's l1: 1.1048\n",
      "[200]\ttraining's l1: 0.838704\tvalid_1's l1: 1.09897\n",
      "[300]\ttraining's l1: 0.829591\tvalid_1's l1: 1.09689\n",
      "[400]\ttraining's l1: 0.820664\tvalid_1's l1: 1.09521\n"
     ]
    },
    {
     "name": "stderr",
     "output_type": "stream",
     "text": [
      "\u001b[32m[I 2021-07-06 15:18:21,785]\u001b[0m Trial 97 finished with value: -1.0945763008576437 and parameters: {'max_depth': 9, 'min_child_weight': 10, 'subsample': 0.8, 'colsample_bytree': 0.8, 'reg_lambda': 0.32464737026793516, 'reg_alpha': 0.19713517124330213, 'feature_fraction': 0.8933250261370248, 'bagging_fraction': 0.5273096043696627, 'bagging_freq': 4}. Best is trial 62 with value: -1.085352972838052.\u001b[0m\n"
     ]
    },
    {
     "name": "stdout",
     "output_type": "stream",
     "text": [
      "Early stopping, best iteration is:\n",
      "[368]\ttraining's l1: 0.823334\tvalid_1's l1: 1.09463\n",
      "[LightGBM] [Warning] feature_fraction is set=0.7970581361401953, colsample_bytree=0.9 will be ignored. Current value: feature_fraction=0.7970581361401953\n",
      "[LightGBM] [Warning] bagging_fraction is set=0.49901247606974486, subsample=0.9 will be ignored. Current value: bagging_fraction=0.49901247606974486\n",
      "[LightGBM] [Warning] bagging_freq is set=5, subsample_freq=0 will be ignored. Current value: bagging_freq=5\n",
      "Training until validation scores don't improve for 100 rounds\n",
      "[100]\ttraining's l1: 0.840729\tvalid_1's l1: 1.1004\n",
      "[200]\ttraining's l1: 0.816649\tvalid_1's l1: 1.08886\n",
      "[300]\ttraining's l1: 0.802327\tvalid_1's l1: 1.08963\n"
     ]
    },
    {
     "name": "stderr",
     "output_type": "stream",
     "text": [
      "\u001b[32m[I 2021-07-06 15:18:32,200]\u001b[0m Trial 98 finished with value: -1.0884631853130344 and parameters: {'max_depth': 5, 'min_child_weight': 12, 'subsample': 0.9, 'colsample_bytree': 0.9, 'reg_lambda': 0.0905140722558326, 'reg_alpha': 0.5576910488728655, 'feature_fraction': 0.7970581361401953, 'bagging_fraction': 0.49901247606974486, 'bagging_freq': 5}. Best is trial 62 with value: -1.085352972838052.\u001b[0m\n"
     ]
    },
    {
     "name": "stdout",
     "output_type": "stream",
     "text": [
      "Early stopping, best iteration is:\n",
      "[221]\ttraining's l1: 0.8133\tvalid_1's l1: 1.08854\n",
      "[LightGBM] [Warning] feature_fraction is set=0.8277999658642312, colsample_bytree=0.9 will be ignored. Current value: feature_fraction=0.8277999658642312\n",
      "[LightGBM] [Warning] bagging_fraction is set=0.5010558829145926, subsample=0.8 will be ignored. Current value: bagging_fraction=0.5010558829145926\n",
      "[LightGBM] [Warning] bagging_freq is set=5, subsample_freq=0 will be ignored. Current value: bagging_freq=5\n",
      "Training until validation scores don't improve for 100 rounds\n",
      "[100]\ttraining's l1: 0.842669\tvalid_1's l1: 1.10183\n",
      "[200]\ttraining's l1: 0.828644\tvalid_1's l1: 1.09603\n",
      "[300]\ttraining's l1: 0.813757\tvalid_1's l1: 1.09509\n"
     ]
    },
    {
     "name": "stderr",
     "output_type": "stream",
     "text": [
      "\u001b[32m[I 2021-07-06 15:18:43,999]\u001b[0m Trial 99 finished with value: -1.0917947657923386 and parameters: {'max_depth': 5, 'min_child_weight': 11, 'subsample': 0.8, 'colsample_bytree': 0.9, 'reg_lambda': 0.024473583982356134, 'reg_alpha': 1.1681122195229507, 'feature_fraction': 0.8277999658642312, 'bagging_fraction': 0.5010558829145926, 'bagging_freq': 5}. Best is trial 62 with value: -1.085352972838052.\u001b[0m\n"
     ]
    },
    {
     "name": "stdout",
     "output_type": "stream",
     "text": [
      "Early stopping, best iteration is:\n",
      "[272]\ttraining's l1: 0.817737\tvalid_1's l1: 1.09207\n",
      "Number of finished trials: 100\n",
      "Best trial: {'max_depth': 6, 'min_child_weight': 14, 'subsample': 0.6, 'colsample_bytree': 0.9, 'reg_lambda': 0.011231825728715695, 'reg_alpha': 0.001230114349908132, 'feature_fraction': 0.9080303457094819, 'bagging_fraction': 0.44692037828438025, 'bagging_freq': 5}\n"
     ]
    }
   ],
   "source": [
    "study4 = optuna.create_study(direction='maximize')\n",
    "study4.optimize(fit_lgbm(x_train[feature_cols4], y_train['target4'], x_valid[feature_cols4], y_valid['target4'], learning_rates[3]), n_trials=100)\n",
    "\n",
    "print('Number of finished trials:', len(study4.trials))\n",
    "print('Best trial:', study4.best_trial.params)"
   ]
  },
  {
   "cell_type": "code",
   "execution_count": 46,
   "id": "fee8f520",
   "metadata": {},
   "outputs": [
    {
     "data": {
      "text/plain": [
       "{'max_depth': 5,\n",
       " 'min_child_weight': 15,\n",
       " 'subsample': 0.6,\n",
       " 'colsample_bytree': 0.8,\n",
       " 'reg_lambda': 0.4069187916380186,\n",
       " 'reg_alpha': 0.3230034165640419,\n",
       " 'feature_fraction': 0.930062038668566,\n",
       " 'bagging_fraction': 0.46153099230093236,\n",
       " 'bagging_freq': 3}"
      ]
     },
     "execution_count": 46,
     "metadata": {},
     "output_type": "execute_result"
    }
   ],
   "source": [
    "study1.best_trial.params"
   ]
  },
  {
   "cell_type": "code",
   "execution_count": 47,
   "id": "8939ce70",
   "metadata": {},
   "outputs": [
    {
     "data": {
      "text/plain": [
       "{'max_depth': 5,\n",
       " 'min_child_weight': 18,\n",
       " 'subsample': 0.5,\n",
       " 'colsample_bytree': 0.6,\n",
       " 'reg_lambda': 0.003047336161981325,\n",
       " 'reg_alpha': 0.06817362969639486,\n",
       " 'feature_fraction': 0.9298564165879744,\n",
       " 'bagging_fraction': 0.9439577588582982,\n",
       " 'bagging_freq': 9}"
      ]
     },
     "execution_count": 47,
     "metadata": {},
     "output_type": "execute_result"
    }
   ],
   "source": [
    "study2.best_trial.params"
   ]
  },
  {
   "cell_type": "code",
   "execution_count": 48,
   "id": "13365654",
   "metadata": {},
   "outputs": [
    {
     "data": {
      "text/plain": [
       "{'max_depth': 5,\n",
       " 'min_child_weight': 8,\n",
       " 'subsample': 0.9,\n",
       " 'colsample_bytree': 0.5,\n",
       " 'reg_lambda': 0.018839288270763987,\n",
       " 'reg_alpha': 1.760156672313524,\n",
       " 'feature_fraction': 0.4601637468609972,\n",
       " 'bagging_fraction': 0.6761793533012441,\n",
       " 'bagging_freq': 9}"
      ]
     },
     "execution_count": 48,
     "metadata": {},
     "output_type": "execute_result"
    }
   ],
   "source": [
    "study3.best_trial.params"
   ]
  },
  {
   "cell_type": "code",
   "execution_count": 49,
   "id": "236ec3bb",
   "metadata": {},
   "outputs": [
    {
     "data": {
      "text/plain": [
       "{'max_depth': 6,\n",
       " 'min_child_weight': 14,\n",
       " 'subsample': 0.6,\n",
       " 'colsample_bytree': 0.9,\n",
       " 'reg_lambda': 0.011231825728715695,\n",
       " 'reg_alpha': 0.001230114349908132,\n",
       " 'feature_fraction': 0.9080303457094819,\n",
       " 'bagging_fraction': 0.44692037828438025,\n",
       " 'bagging_freq': 5}"
      ]
     },
     "execution_count": 49,
     "metadata": {},
     "output_type": "execute_result"
    }
   ],
   "source": [
    "study4.best_trial.params"
   ]
  },
  {
   "cell_type": "code",
   "execution_count": null,
   "id": "0c911601",
   "metadata": {},
   "outputs": [],
   "source": []
  }
 ],
 "metadata": {
  "kernelspec": {
   "display_name": "Python 3",
   "language": "python",
   "name": "python3"
  },
  "language_info": {
   "codemirror_mode": {
    "name": "ipython",
    "version": 3
   },
   "file_extension": ".py",
   "mimetype": "text/x-python",
   "name": "python",
   "nbconvert_exporter": "python",
   "pygments_lexer": "ipython3",
   "version": "3.6.13"
  }
 },
 "nbformat": 4,
 "nbformat_minor": 5
}
