{
 "cells": [
  {
   "cell_type": "code",
   "execution_count": 1,
   "id": "3e76eeec",
   "metadata": {},
   "outputs": [],
   "source": [
    "import gc\n",
    "import os\n",
    "import sys\n",
    "import math\n",
    "import random\n",
    "import warnings\n",
    "import pickle\n",
    "from pathlib import Path\n",
    "from joblib import Parallel, delayed\n",
    "from statsmodels.tsa.deterministic import (CalendarFourier,\n",
    "                                           CalendarSeasonality,\n",
    "                                           CalendarTimeTrend,\n",
    "                                           DeterministicProcess)\n",
    "import optuna\n",
    "from tqdm import tqdm\n",
    "import os\n",
    "import ipywidgets as widgets\n",
    "import matplotlib.pyplot as plt\n",
    "import numpy as np\n",
    "import pandas as pd\n",
    "import seaborn as sns\n",
    "# from pandarallel import pandarallel\n",
    "# pandarallel.initialize()\n",
    "warnings.simplefilter(\"ignore\")\n",
    "import ctypes as ct\n",
    "from datetime import timedelta\n",
    "\n",
    "from sklearn.metrics import mean_absolute_error\n",
    "\n",
    "import statistics as st\n",
    "import lightgbm as lgbm\n",
    "from scipy.stats import norm"
   ]
  },
  {
   "cell_type": "code",
   "execution_count": 2,
   "id": "4bb5ba7b",
   "metadata": {},
   "outputs": [],
   "source": [
    "sys.path.append('../../')\n",
    "import src.utils as utils"
   ]
  },
  {
   "cell_type": "markdown",
   "id": "4e80db50",
   "metadata": {},
   "source": [
    "## Param"
   ]
  },
  {
   "cell_type": "code",
   "execution_count": 3,
   "id": "fd1104df",
   "metadata": {},
   "outputs": [],
   "source": [
    "targets_cols = ['playerId', 'target1', 'target2', 'target3', 'target4', 'date']\n",
    "players_cols = ['playerId', 'primaryPositionName', 'birthCity', 'DOY', 'mlbDebutYear', 'DebutAge', 'heightInches', 'weight', 'playerForTestSetAndFuturePreds']\n",
    "rosters_cols = ['playerId', 'teamId', 'status', 'date']\n",
    "transactions_cols = ['playerId', 'transaction_flag', 'date']\n",
    "scores_cols = ['playerId', 'battingOrder', 'gamesPlayedBatting', 'flyOuts',\n",
    "       'groundOuts', 'runsScored', 'doubles', 'triples', 'homeRuns',\n",
    "       'strikeOuts', 'baseOnBalls', 'intentionalWalks', 'hits', 'hitByPitch',\n",
    "       'atBats', 'caughtStealing', 'stolenBases', 'groundIntoDoublePlay',\n",
    "       'groundIntoTriplePlay', 'plateAppearances', 'totalBases', 'rbi',\n",
    "       'leftOnBase', 'sacBunts', 'sacFlies', 'catchersInterference',\n",
    "       'pickoffs', 'gamesPlayedPitching', 'gamesStartedPitching',\n",
    "       'completeGamesPitching', 'shutoutsPitching', 'winsPitching',\n",
    "       'lossesPitching', 'flyOutsPitching', 'airOutsPitching',\n",
    "       'groundOutsPitching', 'runsPitching', 'doublesPitching',\n",
    "       'triplesPitching', 'homeRunsPitching', 'strikeOutsPitching',\n",
    "       'baseOnBallsPitching', 'intentionalWalksPitching', 'hitsPitching',\n",
    "       'hitByPitchPitching', 'atBatsPitching', 'caughtStealingPitching',\n",
    "       'stolenBasesPitching', 'inningsPitched', 'saveOpportunities',\n",
    "       'earnedRuns', 'battersFaced', 'outsPitching', 'pitchesThrown', 'balls',\n",
    "       'strikes', 'hitBatsmen', 'balks', 'wildPitches', 'pickoffsPitching',\n",
    "       'rbiPitching', 'gamesFinishedPitching', 'inheritedRunners',\n",
    "       'inheritedRunnersScored', 'catchersInterferencePitching',\n",
    "       'sacBuntsPitching', 'sacFliesPitching', 'saves', 'holds', 'blownSaves',\n",
    "       'assists', 'putOuts', 'errors', 'chances', 'date']\n",
    "\n",
    "feature_cols1 = ['week_day','label_playerId', 'label_primaryPositionName', 'label_teamId',\n",
    "       'label_status', 'battingOrder', 'gamesPlayedBatting', 'flyOuts',\n",
    "       'groundOuts', 'runsScored', 'doubles', 'triples', 'homeRuns',\n",
    "       'strikeOuts', 'baseOnBalls', 'intentionalWalks', 'hits', 'hitByPitch',\n",
    "       'atBats', 'caughtStealing', 'stolenBases', 'groundIntoDoublePlay',\n",
    "       'groundIntoTriplePlay', 'plateAppearances', 'totalBases', 'rbi',\n",
    "       'leftOnBase', 'sacBunts', 'sacFlies', 'catchersInterference',\n",
    "       'pickoffs', 'gamesPlayedPitching', 'gamesStartedPitching',\n",
    "       'completeGamesPitching', 'shutoutsPitching', 'winsPitching',\n",
    "       'lossesPitching', 'flyOutsPitching', 'airOutsPitching',\n",
    "       'groundOutsPitching', 'runsPitching', 'doublesPitching',\n",
    "       'triplesPitching', 'homeRunsPitching', 'strikeOutsPitching',\n",
    "       'baseOnBallsPitching', 'intentionalWalksPitching', 'hitsPitching',\n",
    "       'hitByPitchPitching', 'atBatsPitching', 'caughtStealingPitching',\n",
    "       'stolenBasesPitching', 'inningsPitched', 'saveOpportunities',\n",
    "       'earnedRuns', 'battersFaced', 'outsPitching', 'pitchesThrown', 'balls',\n",
    "       'strikes', 'hitBatsmen', 'balks', 'wildPitches', 'pickoffsPitching',\n",
    "       'rbiPitching', 'gamesFinishedPitching', 'inheritedRunners',\n",
    "       'inheritedRunnersScored', 'catchersInterferencePitching',\n",
    "       'sacBuntsPitching', 'sacFliesPitching', 'saves', 'holds', 'blownSaves',\n",
    "       'assists', 'putOuts', 'errors', 'chances',\n",
    "        \"target1_mean\",\"target1_median\",\"target1_std\",\"target1_min\",\"target1_max\",\"target1_skew\",\"target1_kurt\",\n",
    "         \"target2_mean\",\"target2_median\",\"target2_std\",\"target2_min\",\"target2_max\",\"target2_skew\",\"target2_kurt\",\n",
    "        \"target3_mean\",\"target3_median\",\"target3_std\",\"target3_min\",\"target3_max\",\"target3_skew\",\"target3_kurt\",\n",
    "        \"target4_mean\",\"target4_median\",\"target4_std\",\"target4_min\",\"target4_max\",\"target4_skew\",\"target4_kurt\", \n",
    "        'season_info'] \n",
    "\n",
    "feature_cols2 = ['label_playerId', 'label_primaryPositionName', 'label_teamId',\n",
    "       'label_status', 'battingOrder', 'gamesPlayedBatting', 'flyOuts',\n",
    "       'groundOuts', 'runsScored', 'doubles', 'triples', 'homeRuns',\n",
    "       'strikeOuts', 'baseOnBalls', 'intentionalWalks', 'hits', 'hitByPitch',\n",
    "       'atBats', 'caughtStealing', 'stolenBases', 'groundIntoDoublePlay',\n",
    "       'groundIntoTriplePlay', 'plateAppearances', 'totalBases', 'rbi',\n",
    "       'leftOnBase', 'sacBunts', 'sacFlies', 'catchersInterference',\n",
    "       'pickoffs', 'gamesPlayedPitching', 'gamesStartedPitching',\n",
    "       'completeGamesPitching', 'shutoutsPitching', 'winsPitching',\n",
    "       'lossesPitching', 'flyOutsPitching', 'airOutsPitching',\n",
    "       'groundOutsPitching', 'runsPitching', 'doublesPitching',\n",
    "       'triplesPitching', 'homeRunsPitching', 'strikeOutsPitching',\n",
    "       'baseOnBallsPitching', 'intentionalWalksPitching', 'hitsPitching',\n",
    "       'hitByPitchPitching', 'atBatsPitching', 'caughtStealingPitching',\n",
    "       'stolenBasesPitching', 'inningsPitched', 'saveOpportunities',\n",
    "       'earnedRuns', 'battersFaced', 'outsPitching', 'pitchesThrown', 'balls',\n",
    "       'strikes', 'hitBatsmen', 'balks', 'wildPitches', 'pickoffsPitching',\n",
    "       'rbiPitching', 'gamesFinishedPitching', 'inheritedRunners',\n",
    "       'inheritedRunnersScored', 'catchersInterferencePitching',\n",
    "       'sacBuntsPitching', 'sacFliesPitching', 'saves', 'holds', 'blownSaves',\n",
    "       'assists', 'putOuts', 'errors', 'chances',\n",
    "        \"target1_mean\",\"target1_median\",\"target1_std\",\"target1_min\",\"target1_max\",\"target1_skew\",\"target1_kurt\",\n",
    "         \"target2_mean\",\"target2_median\",\"target2_std\",\"target2_min\",\"target2_max\",\"target2_skew\",\"target2_kurt\",\n",
    "        \"target3_mean\",\"target3_median\",\"target3_std\",\"target3_min\",\"target3_max\",\"target3_skew\",\"target3_kurt\",\n",
    "        \"target4_mean\",\"target4_median\",\"target4_std\",\"target4_min\",\"target4_max\",\"target4_skew\",\"target4_kurt\", \n",
    "        'season_info'] \n",
    "\n",
    "feature_cols3 = ['week_day','label_playerId', 'label_primaryPositionName', 'label_teamId',\n",
    "       'label_status', 'battingOrder', 'gamesPlayedBatting', 'flyOuts',\n",
    "       'groundOuts', 'runsScored', 'doubles', 'triples', 'homeRuns',\n",
    "       'strikeOuts', 'baseOnBalls', 'intentionalWalks', 'hits', 'hitByPitch',\n",
    "       'atBats', 'caughtStealing', 'stolenBases', 'groundIntoDoublePlay',\n",
    "       'groundIntoTriplePlay', 'plateAppearances', 'totalBases', 'rbi',\n",
    "       'leftOnBase', 'sacBunts', 'sacFlies', 'catchersInterference',\n",
    "       'pickoffs', 'gamesPlayedPitching', 'gamesStartedPitching',\n",
    "       'completeGamesPitching', 'shutoutsPitching', 'winsPitching',\n",
    "       'lossesPitching', 'flyOutsPitching', 'airOutsPitching',\n",
    "       'groundOutsPitching', 'runsPitching', 'doublesPitching',\n",
    "       'triplesPitching', 'homeRunsPitching', 'strikeOutsPitching',\n",
    "       'baseOnBallsPitching', 'intentionalWalksPitching', 'hitsPitching',\n",
    "       'hitByPitchPitching', 'atBatsPitching', 'caughtStealingPitching',\n",
    "       'stolenBasesPitching', 'inningsPitched', 'saveOpportunities',\n",
    "       'earnedRuns', 'battersFaced', 'outsPitching', 'pitchesThrown', 'balls',\n",
    "       'strikes', 'hitBatsmen', 'balks', 'wildPitches', 'pickoffsPitching',\n",
    "       'rbiPitching', 'gamesFinishedPitching', 'inheritedRunners',\n",
    "       'inheritedRunnersScored', 'catchersInterferencePitching',\n",
    "       'sacBuntsPitching', 'sacFliesPitching', 'saves', 'holds', 'blownSaves',\n",
    "       'assists', 'putOuts', 'errors', 'chances',\n",
    "        \"target1_mean\",\"target1_median\",\"target1_std\",\"target1_min\",\"target1_max\",\"target1_skew\",\"target1_kurt\",\n",
    "         \"target2_mean\",\"target2_median\",\"target2_std\",\"target2_min\",\"target2_max\",\"target2_skew\",\"target2_kurt\",\n",
    "        \"target3_mean\",\"target3_median\",\"target3_std\",\"target3_min\",\"target3_max\",\"target3_skew\",\"target3_kurt\",\n",
    "        \"target4_mean\",\"target4_median\",\"target4_std\",\"target4_min\",\"target4_max\",\"target4_skew\",\"target4_kurt\", \n",
    "        'season_info'] \n",
    "\n",
    "feature_cols4 = ['week_day', 'annual_day', 'month', 'label_playerId', 'label_primaryPositionName', 'label_teamId', 'label_birthCity',\n",
    "                'DOY', 'mlbDebutYear', 'DebutAge', 'heightInches', 'weight',\n",
    "       'label_status', 'battingOrder', 'gamesPlayedBatting', 'flyOuts',\n",
    "       'groundOuts', 'runsScored', 'doubles', 'triples', 'homeRuns',\n",
    "       'strikeOuts', 'baseOnBalls', 'intentionalWalks', 'hits', 'hitByPitch',\n",
    "       'atBats', 'caughtStealing', 'stolenBases', 'groundIntoDoublePlay',\n",
    "       'groundIntoTriplePlay', 'plateAppearances', 'totalBases', 'rbi',\n",
    "       'leftOnBase', 'sacBunts', 'sacFlies', 'catchersInterference',\n",
    "       'pickoffs', 'gamesPlayedPitching', 'gamesStartedPitching',\n",
    "       'completeGamesPitching', 'shutoutsPitching', 'winsPitching',\n",
    "       'lossesPitching', 'flyOutsPitching', 'airOutsPitching',\n",
    "       'groundOutsPitching', 'runsPitching', 'doublesPitching',\n",
    "       'triplesPitching', 'homeRunsPitching', 'strikeOutsPitching',\n",
    "       'baseOnBallsPitching', 'intentionalWalksPitching', 'hitsPitching',\n",
    "       'hitByPitchPitching', 'atBatsPitching', 'caughtStealingPitching',\n",
    "       'stolenBasesPitching', 'inningsPitched', 'saveOpportunities',\n",
    "       'earnedRuns', 'battersFaced', 'outsPitching', 'pitchesThrown', 'balls',\n",
    "       'strikes', 'hitBatsmen', 'balks', 'wildPitches', 'pickoffsPitching',\n",
    "       'rbiPitching', 'gamesFinishedPitching', 'inheritedRunners',\n",
    "       'inheritedRunnersScored', 'catchersInterferencePitching',\n",
    "       'sacBuntsPitching', 'sacFliesPitching', 'saves', 'holds', 'blownSaves',\n",
    "       'assists', 'putOuts', 'errors', 'chances',\n",
    "        \"target1_mean\",\"target1_median\",\"target1_std\",\"target1_min\",\"target1_max\",\"target1_skew\",\"target1_kurt\",\n",
    "         \"target2_mean\",\"target2_median\",\"target2_std\",\"target2_min\",\"target2_max\",\"target2_skew\",\"target2_kurt\",\n",
    "        \"target3_mean\",\"target3_median\",\"target3_std\",\"target3_min\",\"target3_max\",\"target3_skew\",\"target3_kurt\",\n",
    "        \"target4_mean\",\"target4_median\",\"target4_std\",\"target4_min\",\"target4_max\",\"target4_skew\",\"target4_kurt\", \n",
    "        'season_info'] "
   ]
  },
  {
   "cell_type": "code",
   "execution_count": 4,
   "id": "376b26dd",
   "metadata": {},
   "outputs": [],
   "source": [
    "# training lightgbm\n",
    "params1 = {'objective':'mae',\n",
    "           'reg_alpha': 0.14947461820098767, \n",
    "           'reg_lambda': 0.10185644384043743, \n",
    "           'n_estimators': 3633, \n",
    "           'learning_rate': 0.08046301304430488, \n",
    "           'num_leaves': 674, \n",
    "           'feature_fraction': 0.9101240539122566, \n",
    "           'bagging_fraction': 0.9884451442950513, \n",
    "           'bagging_freq': 8, \n",
    "           'min_child_samples': 51}\n",
    "\n",
    "params2 = {'objective':'mae',\n",
    "           'reg_alpha': 0.1,\n",
    "           'reg_lambda': 0.1, \n",
    "           'n_estimators': 80,\n",
    "           'learning_rate': 0.1,\n",
    "           'random_state': 42,\n",
    "           \"num_leaves\": 22}\n",
    "\n",
    "params3 = {'objective':'mae',\n",
    "           'reg_alpha': 0.1,\n",
    "           'reg_lambda': 0.1, \n",
    "           'n_estimators': 10000,\n",
    "           'learning_rate': 0.1,\n",
    "           'random_state': 42,\n",
    "           \"num_leaves\": 100}\n",
    "\n",
    "params4 = {'objective':'mae',\n",
    "           'reg_alpha': 0.016468100279441976, \n",
    "           'reg_lambda': 0.09128335764019105, \n",
    "           'n_estimators': 9868, \n",
    "           'learning_rate': 0.10528150510326864, \n",
    "           'num_leaves': 157, \n",
    "           'feature_fraction': 0.5419185713426886, \n",
    "           'bagging_fraction': 0.2637405128936662, \n",
    "           'bagging_freq': 19, \n",
    "           'min_child_samples': 71}"
   ]
  },
  {
   "cell_type": "code",
   "execution_count": 5,
   "id": "64831c71",
   "metadata": {},
   "outputs": [],
   "source": [
    "EXP_NUM = 45\n",
    "NFOLDS = 5\n",
    "SEED = 42"
   ]
  },
  {
   "cell_type": "code",
   "execution_count": 6,
   "id": "e310f156",
   "metadata": {},
   "outputs": [],
   "source": [
    "utils.set_seed(SEED)"
   ]
  },
  {
   "cell_type": "markdown",
   "id": "71986a3b",
   "metadata": {},
   "source": [
    "## Dir"
   ]
  },
  {
   "cell_type": "code",
   "execution_count": 7,
   "id": "c5b0bf63",
   "metadata": {},
   "outputs": [],
   "source": [
    "DATA_DIR = Path(\"/home/knikaido/work/MLB-Player-Digital-Engagement-Forecasting/data/\")\n",
    "MAIN_DATA_DIR = DATA_DIR / 'mlb-player-digital-engagement-forecasting'\n",
    "TRAIN_DIR = MAIN_DATA_DIR / 'train'\n",
    "OUTPUT_DIR = Path('./output/')"
   ]
  },
  {
   "cell_type": "code",
   "execution_count": 8,
   "id": "a0903232",
   "metadata": {},
   "outputs": [],
   "source": [
    "players = pd.read_csv(MAIN_DATA_DIR / 'players.csv')\n",
    "\n",
    "rosters = pd.read_csv(TRAIN_DIR / 'rosters_train.csv')\n",
    "targets = pd.read_csv(TRAIN_DIR / 'nextDayPlayerEngagement_train.csv')\n",
    "scores = pd.read_csv(TRAIN_DIR / 'playerBoxScores_train.csv')\n",
    "scores = scores.groupby(['playerId', 'date']).sum().reset_index()\n",
    "seasons = pd.read_csv(MAIN_DATA_DIR / 'seasons.csv')\n",
    "\n",
    "# events = pd.read_csv(TRAIN_DIR / 'events_train.csv')\n",
    "# events = events.groupby(['gameDate']).sum().reset_index()\n"
   ]
  },
  {
   "cell_type": "code",
   "execution_count": 9,
   "id": "faae378d",
   "metadata": {},
   "outputs": [
    {
     "data": {
      "text/html": [
       "<div>\n",
       "<style scoped>\n",
       "    .dataframe tbody tr th:only-of-type {\n",
       "        vertical-align: middle;\n",
       "    }\n",
       "\n",
       "    .dataframe tbody tr th {\n",
       "        vertical-align: top;\n",
       "    }\n",
       "\n",
       "    .dataframe thead th {\n",
       "        text-align: right;\n",
       "    }\n",
       "</style>\n",
       "<table border=\"1\" class=\"dataframe\">\n",
       "  <thead>\n",
       "    <tr style=\"text-align: right;\">\n",
       "      <th></th>\n",
       "      <th>playerId</th>\n",
       "      <th>date</th>\n",
       "      <th>home</th>\n",
       "      <th>gamePk</th>\n",
       "      <th>teamId</th>\n",
       "      <th>jerseyNum</th>\n",
       "      <th>positionCode</th>\n",
       "      <th>battingOrder</th>\n",
       "      <th>gamesPlayedBatting</th>\n",
       "      <th>flyOuts</th>\n",
       "      <th>...</th>\n",
       "      <th>sacBuntsPitching</th>\n",
       "      <th>sacFliesPitching</th>\n",
       "      <th>saves</th>\n",
       "      <th>holds</th>\n",
       "      <th>blownSaves</th>\n",
       "      <th>assists</th>\n",
       "      <th>putOuts</th>\n",
       "      <th>errors</th>\n",
       "      <th>chances</th>\n",
       "      <th>index</th>\n",
       "    </tr>\n",
       "  </thead>\n",
       "  <tbody>\n",
       "    <tr>\n",
       "      <th>0</th>\n",
       "      <td>112526</td>\n",
       "      <td>20180402</td>\n",
       "      <td>0</td>\n",
       "      <td>529469</td>\n",
       "      <td>140</td>\n",
       "      <td>40.0</td>\n",
       "      <td>1</td>\n",
       "      <td>0.0</td>\n",
       "      <td>0.0</td>\n",
       "      <td>0.0</td>\n",
       "      <td>...</td>\n",
       "      <td>0.0</td>\n",
       "      <td>0.0</td>\n",
       "      <td>0.0</td>\n",
       "      <td>0.0</td>\n",
       "      <td>0.0</td>\n",
       "      <td>1.0</td>\n",
       "      <td>0.0</td>\n",
       "      <td>0.0</td>\n",
       "      <td>1.0</td>\n",
       "      <td>91</td>\n",
       "    </tr>\n",
       "    <tr>\n",
       "      <th>1</th>\n",
       "      <td>112526</td>\n",
       "      <td>20180408</td>\n",
       "      <td>1</td>\n",
       "      <td>529546</td>\n",
       "      <td>140</td>\n",
       "      <td>40.0</td>\n",
       "      <td>1</td>\n",
       "      <td>0.0</td>\n",
       "      <td>0.0</td>\n",
       "      <td>0.0</td>\n",
       "      <td>...</td>\n",
       "      <td>0.0</td>\n",
       "      <td>0.0</td>\n",
       "      <td>0.0</td>\n",
       "      <td>0.0</td>\n",
       "      <td>0.0</td>\n",
       "      <td>0.0</td>\n",
       "      <td>1.0</td>\n",
       "      <td>0.0</td>\n",
       "      <td>1.0</td>\n",
       "      <td>97</td>\n",
       "    </tr>\n",
       "    <tr>\n",
       "      <th>2</th>\n",
       "      <td>112526</td>\n",
       "      <td>20180410</td>\n",
       "      <td>1</td>\n",
       "      <td>529565</td>\n",
       "      <td>140</td>\n",
       "      <td>40.0</td>\n",
       "      <td>1</td>\n",
       "      <td>0.0</td>\n",
       "      <td>0.0</td>\n",
       "      <td>0.0</td>\n",
       "      <td>...</td>\n",
       "      <td>0.0</td>\n",
       "      <td>1.0</td>\n",
       "      <td>0.0</td>\n",
       "      <td>0.0</td>\n",
       "      <td>0.0</td>\n",
       "      <td>2.0</td>\n",
       "      <td>0.0</td>\n",
       "      <td>0.0</td>\n",
       "      <td>2.0</td>\n",
       "      <td>99</td>\n",
       "    </tr>\n",
       "    <tr>\n",
       "      <th>3</th>\n",
       "      <td>112526</td>\n",
       "      <td>20180415</td>\n",
       "      <td>0</td>\n",
       "      <td>529640</td>\n",
       "      <td>140</td>\n",
       "      <td>40.0</td>\n",
       "      <td>1</td>\n",
       "      <td>0.0</td>\n",
       "      <td>0.0</td>\n",
       "      <td>0.0</td>\n",
       "      <td>...</td>\n",
       "      <td>0.0</td>\n",
       "      <td>1.0</td>\n",
       "      <td>0.0</td>\n",
       "      <td>0.0</td>\n",
       "      <td>0.0</td>\n",
       "      <td>1.0</td>\n",
       "      <td>0.0</td>\n",
       "      <td>0.0</td>\n",
       "      <td>1.0</td>\n",
       "      <td>104</td>\n",
       "    </tr>\n",
       "    <tr>\n",
       "      <th>4</th>\n",
       "      <td>112526</td>\n",
       "      <td>20180421</td>\n",
       "      <td>1</td>\n",
       "      <td>529718</td>\n",
       "      <td>140</td>\n",
       "      <td>40.0</td>\n",
       "      <td>1</td>\n",
       "      <td>0.0</td>\n",
       "      <td>0.0</td>\n",
       "      <td>0.0</td>\n",
       "      <td>...</td>\n",
       "      <td>0.0</td>\n",
       "      <td>1.0</td>\n",
       "      <td>0.0</td>\n",
       "      <td>0.0</td>\n",
       "      <td>0.0</td>\n",
       "      <td>0.0</td>\n",
       "      <td>2.0</td>\n",
       "      <td>0.0</td>\n",
       "      <td>2.0</td>\n",
       "      <td>110</td>\n",
       "    </tr>\n",
       "    <tr>\n",
       "      <th>...</th>\n",
       "      <td>...</td>\n",
       "      <td>...</td>\n",
       "      <td>...</td>\n",
       "      <td>...</td>\n",
       "      <td>...</td>\n",
       "      <td>...</td>\n",
       "      <td>...</td>\n",
       "      <td>...</td>\n",
       "      <td>...</td>\n",
       "      <td>...</td>\n",
       "      <td>...</td>\n",
       "      <td>...</td>\n",
       "      <td>...</td>\n",
       "      <td>...</td>\n",
       "      <td>...</td>\n",
       "      <td>...</td>\n",
       "      <td>...</td>\n",
       "      <td>...</td>\n",
       "      <td>...</td>\n",
       "      <td>...</td>\n",
       "      <td>...</td>\n",
       "    </tr>\n",
       "    <tr>\n",
       "      <th>182945</th>\n",
       "      <td>685503</td>\n",
       "      <td>20210409</td>\n",
       "      <td>1</td>\n",
       "      <td>634478</td>\n",
       "      <td>140</td>\n",
       "      <td>35.0</td>\n",
       "      <td>1</td>\n",
       "      <td>0.0</td>\n",
       "      <td>0.0</td>\n",
       "      <td>0.0</td>\n",
       "      <td>...</td>\n",
       "      <td>0.0</td>\n",
       "      <td>0.0</td>\n",
       "      <td>0.0</td>\n",
       "      <td>0.0</td>\n",
       "      <td>0.0</td>\n",
       "      <td>0.0</td>\n",
       "      <td>1.0</td>\n",
       "      <td>0.0</td>\n",
       "      <td>1.0</td>\n",
       "      <td>1194</td>\n",
       "    </tr>\n",
       "    <tr>\n",
       "      <th>182946</th>\n",
       "      <td>685503</td>\n",
       "      <td>20210414</td>\n",
       "      <td>0</td>\n",
       "      <td>634496</td>\n",
       "      <td>140</td>\n",
       "      <td>35.0</td>\n",
       "      <td>1</td>\n",
       "      <td>0.0</td>\n",
       "      <td>0.0</td>\n",
       "      <td>0.0</td>\n",
       "      <td>...</td>\n",
       "      <td>0.0</td>\n",
       "      <td>0.0</td>\n",
       "      <td>0.0</td>\n",
       "      <td>0.0</td>\n",
       "      <td>0.0</td>\n",
       "      <td>1.0</td>\n",
       "      <td>0.0</td>\n",
       "      <td>0.0</td>\n",
       "      <td>1.0</td>\n",
       "      <td>1199</td>\n",
       "    </tr>\n",
       "    <tr>\n",
       "      <th>182947</th>\n",
       "      <td>685503</td>\n",
       "      <td>20210419</td>\n",
       "      <td>0</td>\n",
       "      <td>634536</td>\n",
       "      <td>140</td>\n",
       "      <td>35.0</td>\n",
       "      <td>1</td>\n",
       "      <td>0.0</td>\n",
       "      <td>0.0</td>\n",
       "      <td>0.0</td>\n",
       "      <td>...</td>\n",
       "      <td>0.0</td>\n",
       "      <td>0.0</td>\n",
       "      <td>0.0</td>\n",
       "      <td>0.0</td>\n",
       "      <td>0.0</td>\n",
       "      <td>0.0</td>\n",
       "      <td>0.0</td>\n",
       "      <td>0.0</td>\n",
       "      <td>0.0</td>\n",
       "      <td>1204</td>\n",
       "    </tr>\n",
       "    <tr>\n",
       "      <th>182948</th>\n",
       "      <td>685503</td>\n",
       "      <td>20210425</td>\n",
       "      <td>0</td>\n",
       "      <td>634393</td>\n",
       "      <td>140</td>\n",
       "      <td>35.0</td>\n",
       "      <td>1</td>\n",
       "      <td>0.0</td>\n",
       "      <td>0.0</td>\n",
       "      <td>0.0</td>\n",
       "      <td>...</td>\n",
       "      <td>0.0</td>\n",
       "      <td>1.0</td>\n",
       "      <td>0.0</td>\n",
       "      <td>0.0</td>\n",
       "      <td>0.0</td>\n",
       "      <td>0.0</td>\n",
       "      <td>0.0</td>\n",
       "      <td>0.0</td>\n",
       "      <td>0.0</td>\n",
       "      <td>1210</td>\n",
       "    </tr>\n",
       "    <tr>\n",
       "      <th>182949</th>\n",
       "      <td>685503</td>\n",
       "      <td>20210430</td>\n",
       "      <td>1</td>\n",
       "      <td>634337</td>\n",
       "      <td>140</td>\n",
       "      <td>35.0</td>\n",
       "      <td>1</td>\n",
       "      <td>0.0</td>\n",
       "      <td>0.0</td>\n",
       "      <td>0.0</td>\n",
       "      <td>...</td>\n",
       "      <td>0.0</td>\n",
       "      <td>0.0</td>\n",
       "      <td>0.0</td>\n",
       "      <td>0.0</td>\n",
       "      <td>0.0</td>\n",
       "      <td>0.0</td>\n",
       "      <td>0.0</td>\n",
       "      <td>0.0</td>\n",
       "      <td>0.0</td>\n",
       "      <td>1215</td>\n",
       "    </tr>\n",
       "  </tbody>\n",
       "</table>\n",
       "<p>182950 rows × 81 columns</p>\n",
       "</div>"
      ],
      "text/plain": [
       "        playerId      date  home  gamePk  teamId  jerseyNum  positionCode  \\\n",
       "0         112526  20180402     0  529469     140       40.0             1   \n",
       "1         112526  20180408     1  529546     140       40.0             1   \n",
       "2         112526  20180410     1  529565     140       40.0             1   \n",
       "3         112526  20180415     0  529640     140       40.0             1   \n",
       "4         112526  20180421     1  529718     140       40.0             1   \n",
       "...          ...       ...   ...     ...     ...        ...           ...   \n",
       "182945    685503  20210409     1  634478     140       35.0             1   \n",
       "182946    685503  20210414     0  634496     140       35.0             1   \n",
       "182947    685503  20210419     0  634536     140       35.0             1   \n",
       "182948    685503  20210425     0  634393     140       35.0             1   \n",
       "182949    685503  20210430     1  634337     140       35.0             1   \n",
       "\n",
       "        battingOrder  gamesPlayedBatting  flyOuts  ...  sacBuntsPitching  \\\n",
       "0                0.0                 0.0      0.0  ...               0.0   \n",
       "1                0.0                 0.0      0.0  ...               0.0   \n",
       "2                0.0                 0.0      0.0  ...               0.0   \n",
       "3                0.0                 0.0      0.0  ...               0.0   \n",
       "4                0.0                 0.0      0.0  ...               0.0   \n",
       "...              ...                 ...      ...  ...               ...   \n",
       "182945           0.0                 0.0      0.0  ...               0.0   \n",
       "182946           0.0                 0.0      0.0  ...               0.0   \n",
       "182947           0.0                 0.0      0.0  ...               0.0   \n",
       "182948           0.0                 0.0      0.0  ...               0.0   \n",
       "182949           0.0                 0.0      0.0  ...               0.0   \n",
       "\n",
       "        sacFliesPitching  saves  holds  blownSaves  assists  putOuts  errors  \\\n",
       "0                    0.0    0.0    0.0         0.0      1.0      0.0     0.0   \n",
       "1                    0.0    0.0    0.0         0.0      0.0      1.0     0.0   \n",
       "2                    1.0    0.0    0.0         0.0      2.0      0.0     0.0   \n",
       "3                    1.0    0.0    0.0         0.0      1.0      0.0     0.0   \n",
       "4                    1.0    0.0    0.0         0.0      0.0      2.0     0.0   \n",
       "...                  ...    ...    ...         ...      ...      ...     ...   \n",
       "182945               0.0    0.0    0.0         0.0      0.0      1.0     0.0   \n",
       "182946               0.0    0.0    0.0         0.0      1.0      0.0     0.0   \n",
       "182947               0.0    0.0    0.0         0.0      0.0      0.0     0.0   \n",
       "182948               1.0    0.0    0.0         0.0      0.0      0.0     0.0   \n",
       "182949               0.0    0.0    0.0         0.0      0.0      0.0     0.0   \n",
       "\n",
       "        chances  index  \n",
       "0           1.0     91  \n",
       "1           1.0     97  \n",
       "2           2.0     99  \n",
       "3           1.0    104  \n",
       "4           2.0    110  \n",
       "...         ...    ...  \n",
       "182945      1.0   1194  \n",
       "182946      1.0   1199  \n",
       "182947      0.0   1204  \n",
       "182948      0.0   1210  \n",
       "182949      0.0   1215  \n",
       "\n",
       "[182950 rows x 81 columns]"
      ]
     },
     "execution_count": 9,
     "metadata": {},
     "output_type": "execute_result"
    }
   ],
   "source": [
    "scores"
   ]
  },
  {
   "cell_type": "code",
   "execution_count": 10,
   "id": "de962b3c",
   "metadata": {},
   "outputs": [],
   "source": [
    "seasons = seasons.fillna('0000-00-00')\n",
    "for c_ in seasons.columns[1:]:\n",
    "    seasons[c_] = seasons[c_].str.replace('-', '').astype(int)"
   ]
  },
  {
   "cell_type": "code",
   "execution_count": 11,
   "id": "13957def",
   "metadata": {},
   "outputs": [],
   "source": [
    "game_dates_range = []\n",
    "game_dates_range.append(np.array([20170101, 20171231]))\n",
    "game_dates_range.append(scores[scores['date'] <= 20181231].sort_values('date')['date'].iloc[[0, -1]].values)\n",
    "game_dates_range.append(scores[(scores['date'] >= 20190101) & (scores['date'] <= 20191231)].sort_values('date')['date'].iloc[[0, -1]].values)\n",
    "game_dates_range.append(scores[(scores['date'] >= 20200101) & (scores['date'] <= 20201231)].sort_values('date')['date'].iloc[[0, -1]].values)\n",
    "game_dates_range.append(scores[(scores['date'] >= 20210101)].sort_values('date')['date'].iloc[[0, -1]].values)\n",
    "game_dates_range = np.array(game_dates_range)"
   ]
  },
  {
   "cell_type": "code",
   "execution_count": 12,
   "id": "26e2ad27",
   "metadata": {},
   "outputs": [],
   "source": [
    "seasons['gameStartDate'] = game_dates_range[:, 0]\n",
    "seasons['gameEndDate'] = game_dates_range[:, 1]"
   ]
  },
  {
   "cell_type": "code",
   "execution_count": 13,
   "id": "ada08968",
   "metadata": {},
   "outputs": [
    {
     "data": {
      "text/html": [
       "<div>\n",
       "<style scoped>\n",
       "    .dataframe tbody tr th:only-of-type {\n",
       "        vertical-align: middle;\n",
       "    }\n",
       "\n",
       "    .dataframe tbody tr th {\n",
       "        vertical-align: top;\n",
       "    }\n",
       "\n",
       "    .dataframe thead th {\n",
       "        text-align: right;\n",
       "    }\n",
       "</style>\n",
       "<table border=\"1\" class=\"dataframe\">\n",
       "  <thead>\n",
       "    <tr style=\"text-align: right;\">\n",
       "      <th></th>\n",
       "      <th>seasonId</th>\n",
       "      <th>seasonStartDate</th>\n",
       "      <th>seasonEndDate</th>\n",
       "      <th>preSeasonStartDate</th>\n",
       "      <th>preSeasonEndDate</th>\n",
       "      <th>regularSeasonStartDate</th>\n",
       "      <th>regularSeasonEndDate</th>\n",
       "      <th>lastDate1stHalf</th>\n",
       "      <th>allStarDate</th>\n",
       "      <th>firstDate2ndHalf</th>\n",
       "      <th>postSeasonStartDate</th>\n",
       "      <th>postSeasonEndDate</th>\n",
       "      <th>gameStartDate</th>\n",
       "      <th>gameEndDate</th>\n",
       "    </tr>\n",
       "  </thead>\n",
       "  <tbody>\n",
       "    <tr>\n",
       "      <th>0</th>\n",
       "      <td>2017</td>\n",
       "      <td>20170402</td>\n",
       "      <td>20171101</td>\n",
       "      <td>20170222</td>\n",
       "      <td>20170401</td>\n",
       "      <td>20170402</td>\n",
       "      <td>20171001</td>\n",
       "      <td>20170709</td>\n",
       "      <td>20170711</td>\n",
       "      <td>20170714</td>\n",
       "      <td>20171003</td>\n",
       "      <td>20171101</td>\n",
       "      <td>20170101</td>\n",
       "      <td>20171231</td>\n",
       "    </tr>\n",
       "    <tr>\n",
       "      <th>1</th>\n",
       "      <td>2018</td>\n",
       "      <td>20180329</td>\n",
       "      <td>20181028</td>\n",
       "      <td>20180221</td>\n",
       "      <td>20180327</td>\n",
       "      <td>20180329</td>\n",
       "      <td>20181001</td>\n",
       "      <td>20180715</td>\n",
       "      <td>20180717</td>\n",
       "      <td>20180719</td>\n",
       "      <td>20181002</td>\n",
       "      <td>20181028</td>\n",
       "      <td>20180329</td>\n",
       "      <td>20181028</td>\n",
       "    </tr>\n",
       "    <tr>\n",
       "      <th>2</th>\n",
       "      <td>2019</td>\n",
       "      <td>20190320</td>\n",
       "      <td>20191030</td>\n",
       "      <td>20190221</td>\n",
       "      <td>20190326</td>\n",
       "      <td>20190320</td>\n",
       "      <td>20190929</td>\n",
       "      <td>20190707</td>\n",
       "      <td>20190709</td>\n",
       "      <td>20190711</td>\n",
       "      <td>20191001</td>\n",
       "      <td>20191030</td>\n",
       "      <td>20190320</td>\n",
       "      <td>20191030</td>\n",
       "    </tr>\n",
       "    <tr>\n",
       "      <th>3</th>\n",
       "      <td>2020</td>\n",
       "      <td>20200723</td>\n",
       "      <td>20201028</td>\n",
       "      <td>20200221</td>\n",
       "      <td>20200722</td>\n",
       "      <td>20200723</td>\n",
       "      <td>20200927</td>\n",
       "      <td>20200825</td>\n",
       "      <td>0</td>\n",
       "      <td>20200826</td>\n",
       "      <td>20200929</td>\n",
       "      <td>20201028</td>\n",
       "      <td>20200723</td>\n",
       "      <td>20201027</td>\n",
       "    </tr>\n",
       "    <tr>\n",
       "      <th>4</th>\n",
       "      <td>2021</td>\n",
       "      <td>20210228</td>\n",
       "      <td>20211031</td>\n",
       "      <td>20210228</td>\n",
       "      <td>20210330</td>\n",
       "      <td>20210401</td>\n",
       "      <td>20211003</td>\n",
       "      <td>20210711</td>\n",
       "      <td>20210713</td>\n",
       "      <td>20210715</td>\n",
       "      <td>20211004</td>\n",
       "      <td>20211031</td>\n",
       "      <td>20210401</td>\n",
       "      <td>20210430</td>\n",
       "    </tr>\n",
       "  </tbody>\n",
       "</table>\n",
       "</div>"
      ],
      "text/plain": [
       "   seasonId  seasonStartDate  seasonEndDate  preSeasonStartDate  \\\n",
       "0      2017         20170402       20171101            20170222   \n",
       "1      2018         20180329       20181028            20180221   \n",
       "2      2019         20190320       20191030            20190221   \n",
       "3      2020         20200723       20201028            20200221   \n",
       "4      2021         20210228       20211031            20210228   \n",
       "\n",
       "   preSeasonEndDate  regularSeasonStartDate  regularSeasonEndDate  \\\n",
       "0          20170401                20170402              20171001   \n",
       "1          20180327                20180329              20181001   \n",
       "2          20190326                20190320              20190929   \n",
       "3          20200722                20200723              20200927   \n",
       "4          20210330                20210401              20211003   \n",
       "\n",
       "   lastDate1stHalf  allStarDate  firstDate2ndHalf  postSeasonStartDate  \\\n",
       "0         20170709     20170711          20170714             20171003   \n",
       "1         20180715     20180717          20180719             20181002   \n",
       "2         20190707     20190709          20190711             20191001   \n",
       "3         20200825            0          20200826             20200929   \n",
       "4         20210711     20210713          20210715             20211004   \n",
       "\n",
       "   postSeasonEndDate  gameStartDate  gameEndDate  \n",
       "0           20171101       20170101     20171231  \n",
       "1           20181028       20180329     20181028  \n",
       "2           20191030       20190320     20191030  \n",
       "3           20201028       20200723     20201027  \n",
       "4           20211031       20210401     20210430  "
      ]
     },
     "execution_count": 13,
     "metadata": {},
     "output_type": "execute_result"
    }
   ],
   "source": [
    "seasons"
   ]
  },
  {
   "cell_type": "code",
   "execution_count": 14,
   "id": "37d2781a",
   "metadata": {},
   "outputs": [],
   "source": [
    "targets_train = targets[(targets['date'] >= 20210401)]"
   ]
  },
  {
   "cell_type": "code",
   "execution_count": 15,
   "id": "94c00d36",
   "metadata": {},
   "outputs": [
    {
     "data": {
      "text/html": [
       "<div>\n",
       "<style scoped>\n",
       "    .dataframe tbody tr th:only-of-type {\n",
       "        vertical-align: middle;\n",
       "    }\n",
       "\n",
       "    .dataframe tbody tr th {\n",
       "        vertical-align: top;\n",
       "    }\n",
       "\n",
       "    .dataframe thead th {\n",
       "        text-align: right;\n",
       "    }\n",
       "</style>\n",
       "<table border=\"1\" class=\"dataframe\">\n",
       "  <thead>\n",
       "    <tr style=\"text-align: right;\">\n",
       "      <th></th>\n",
       "      <th>engagementMetricsDate</th>\n",
       "      <th>playerId</th>\n",
       "      <th>target1</th>\n",
       "      <th>target2</th>\n",
       "      <th>target3</th>\n",
       "      <th>target4</th>\n",
       "      <th>index</th>\n",
       "      <th>date</th>\n",
       "    </tr>\n",
       "  </thead>\n",
       "  <tbody>\n",
       "    <tr>\n",
       "      <th>2444346</th>\n",
       "      <td>2021-04-02</td>\n",
       "      <td>624415</td>\n",
       "      <td>2.810640</td>\n",
       "      <td>3.998462</td>\n",
       "      <td>0.136137</td>\n",
       "      <td>10.012438</td>\n",
       "      <td>1186</td>\n",
       "      <td>20210401</td>\n",
       "    </tr>\n",
       "    <tr>\n",
       "      <th>2444347</th>\n",
       "      <td>2021-04-02</td>\n",
       "      <td>656548</td>\n",
       "      <td>0.000000</td>\n",
       "      <td>0.153787</td>\n",
       "      <td>0.068889</td>\n",
       "      <td>0.062189</td>\n",
       "      <td>1186</td>\n",
       "      <td>20210401</td>\n",
       "    </tr>\n",
       "    <tr>\n",
       "      <th>2444348</th>\n",
       "      <td>2021-04-02</td>\n",
       "      <td>400284</td>\n",
       "      <td>0.000971</td>\n",
       "      <td>0.010985</td>\n",
       "      <td>0.021323</td>\n",
       "      <td>3.182007</td>\n",
       "      <td>1186</td>\n",
       "      <td>20210401</td>\n",
       "    </tr>\n",
       "    <tr>\n",
       "      <th>2444349</th>\n",
       "      <td>2021-04-02</td>\n",
       "      <td>606157</td>\n",
       "      <td>0.002736</td>\n",
       "      <td>1.642226</td>\n",
       "      <td>0.021323</td>\n",
       "      <td>0.549337</td>\n",
       "      <td>1186</td>\n",
       "      <td>20210401</td>\n",
       "    </tr>\n",
       "    <tr>\n",
       "      <th>2444350</th>\n",
       "      <td>2021-04-02</td>\n",
       "      <td>665620</td>\n",
       "      <td>0.020473</td>\n",
       "      <td>0.411929</td>\n",
       "      <td>0.549469</td>\n",
       "      <td>0.435323</td>\n",
       "      <td>1186</td>\n",
       "      <td>20210401</td>\n",
       "    </tr>\n",
       "    <tr>\n",
       "      <th>...</th>\n",
       "      <td>...</td>\n",
       "      <td>...</td>\n",
       "      <td>...</td>\n",
       "      <td>...</td>\n",
       "      <td>...</td>\n",
       "      <td>...</td>\n",
       "      <td>...</td>\n",
       "      <td>...</td>\n",
       "    </tr>\n",
       "    <tr>\n",
       "      <th>2506171</th>\n",
       "      <td>2021-05-01</td>\n",
       "      <td>451661</td>\n",
       "      <td>0.000000</td>\n",
       "      <td>0.013314</td>\n",
       "      <td>0.000000</td>\n",
       "      <td>0.625925</td>\n",
       "      <td>1215</td>\n",
       "      <td>20210430</td>\n",
       "    </tr>\n",
       "    <tr>\n",
       "      <th>2506172</th>\n",
       "      <td>2021-05-01</td>\n",
       "      <td>519301</td>\n",
       "      <td>0.000131</td>\n",
       "      <td>0.003329</td>\n",
       "      <td>0.000000</td>\n",
       "      <td>0.216229</td>\n",
       "      <td>1215</td>\n",
       "      <td>20210430</td>\n",
       "    </tr>\n",
       "    <tr>\n",
       "      <th>2506173</th>\n",
       "      <td>2021-05-01</td>\n",
       "      <td>527055</td>\n",
       "      <td>0.000000</td>\n",
       "      <td>0.019971</td>\n",
       "      <td>0.000000</td>\n",
       "      <td>0.273131</td>\n",
       "      <td>1215</td>\n",
       "      <td>20210430</td>\n",
       "    </tr>\n",
       "    <tr>\n",
       "      <th>2506174</th>\n",
       "      <td>2021-05-01</td>\n",
       "      <td>543484</td>\n",
       "      <td>0.000131</td>\n",
       "      <td>0.056586</td>\n",
       "      <td>0.000000</td>\n",
       "      <td>1.024240</td>\n",
       "      <td>1215</td>\n",
       "      <td>20210430</td>\n",
       "    </tr>\n",
       "    <tr>\n",
       "      <th>2506175</th>\n",
       "      <td>2021-05-01</td>\n",
       "      <td>605525</td>\n",
       "      <td>0.000131</td>\n",
       "      <td>0.499284</td>\n",
       "      <td>0.000000</td>\n",
       "      <td>0.386935</td>\n",
       "      <td>1215</td>\n",
       "      <td>20210430</td>\n",
       "    </tr>\n",
       "  </tbody>\n",
       "</table>\n",
       "<p>61830 rows × 8 columns</p>\n",
       "</div>"
      ],
      "text/plain": [
       "        engagementMetricsDate  playerId   target1   target2   target3  \\\n",
       "2444346            2021-04-02    624415  2.810640  3.998462  0.136137   \n",
       "2444347            2021-04-02    656548  0.000000  0.153787  0.068889   \n",
       "2444348            2021-04-02    400284  0.000971  0.010985  0.021323   \n",
       "2444349            2021-04-02    606157  0.002736  1.642226  0.021323   \n",
       "2444350            2021-04-02    665620  0.020473  0.411929  0.549469   \n",
       "...                       ...       ...       ...       ...       ...   \n",
       "2506171            2021-05-01    451661  0.000000  0.013314  0.000000   \n",
       "2506172            2021-05-01    519301  0.000131  0.003329  0.000000   \n",
       "2506173            2021-05-01    527055  0.000000  0.019971  0.000000   \n",
       "2506174            2021-05-01    543484  0.000131  0.056586  0.000000   \n",
       "2506175            2021-05-01    605525  0.000131  0.499284  0.000000   \n",
       "\n",
       "           target4  index      date  \n",
       "2444346  10.012438   1186  20210401  \n",
       "2444347   0.062189   1186  20210401  \n",
       "2444348   3.182007   1186  20210401  \n",
       "2444349   0.549337   1186  20210401  \n",
       "2444350   0.435323   1186  20210401  \n",
       "...            ...    ...       ...  \n",
       "2506171   0.625925   1215  20210430  \n",
       "2506172   0.216229   1215  20210430  \n",
       "2506173   0.273131   1215  20210430  \n",
       "2506174   1.024240   1215  20210430  \n",
       "2506175   0.386935   1215  20210430  \n",
       "\n",
       "[61830 rows x 8 columns]"
      ]
     },
     "execution_count": 15,
     "metadata": {},
     "output_type": "execute_result"
    }
   ],
   "source": [
    "targets_train"
   ]
  },
  {
   "cell_type": "code",
   "execution_count": 16,
   "id": "ee6adb77",
   "metadata": {},
   "outputs": [],
   "source": [
    "playerId_list = targets_train['playerId'].unique()"
   ]
  },
  {
   "cell_type": "code",
   "execution_count": 17,
   "id": "884322e3",
   "metadata": {},
   "outputs": [],
   "source": [
    "def calc_corr(df):\n",
    "    # 相関係数行列を作成\n",
    "    corr_mat = df.corr(method='pearson')\n",
    "\n",
    "    # 行（列）サイズを取得\n",
    "    n = corr_mat.shape[0]\n",
    "    corr_ary = []\n",
    "\n",
    "    for i in range(n):\n",
    "        for j in range(i):\n",
    "            if i == j:\n",
    "                continue\n",
    "            corr_ary.append(corr_mat.iloc[i,j])\n",
    "\n",
    "    return corr_ary"
   ]
  },
  {
   "cell_type": "code",
   "execution_count": 18,
   "id": "5bbf6ad5",
   "metadata": {},
   "outputs": [
    {
     "name": "stderr",
     "output_type": "stream",
     "text": [
      "100%|██████████| 2061/2061 [00:45<00:00, 45.08it/s]\n"
     ]
    }
   ],
   "source": [
    "def calc_probs(pid,df,temp):\n",
    "    to_append=[pid,'','','','','','','','','','','','','','','','','','','','','','','','','','','','','','','','','','','','','','']\n",
    "    targets=['target1','target2','target3','target4']\n",
    "    z=1\n",
    "    for target in targets:\n",
    "        target_prob = temp[target].tolist()\n",
    "        mean = np.mean(target_prob)\n",
    "        std = np.std(target_prob)\n",
    "        median = st.median(target_prob)\n",
    "        distribution = norm(mean, std)\n",
    "        min_weight = min(target_prob)\n",
    "        max_weight = max(target_prob)\n",
    "        values = list(np.linspace(min_weight, max_weight))\n",
    "        probabilities = [distribution.pdf(v) for v in values]\n",
    "        max_value = max(probabilities)\n",
    "        max_index = probabilities.index(max_value)\n",
    "        to_append[z]=mean\n",
    "        to_append[z+1]=median\n",
    "        to_append[z+2]=std\n",
    "        to_append[z+3]=min_weight\n",
    "        to_append[z+4]=max_weight\n",
    "        to_append[z+5]=target_prob[max_index]\n",
    "        to_append[z+6]=temp[target].skew()\n",
    "        to_append[z+7]=temp[target].kurt()\n",
    "\n",
    "        z=z+8\n",
    "    corr_ = calc_corr(temp[['target1', 'target2', 'target3', 'target4']])\n",
    "    to_append[z:] = corr_  \n",
    "    df_length = len(df)\n",
    "    df.loc[df_length] = to_append\n",
    "    return df\n",
    "    \n",
    "\n",
    "### CREATE DATAFRAME to store probabilities\n",
    "column_names = [\"playerId\", \"target1_mean\",\"target1_median\",\"target1_std\",\"target1_min\",\"target1_max\",\"target1_prob\",\"target1_skew\",\"target1_kurt\",\n",
    "                \"target2_mean\",\"target2_median\",\"target2_std\",\"target2_min\",\"target2_max\",\"target2_prob\",\"target2_skew\",\"target2_kurt\",\n",
    "                \"target3_mean\",\"target3_median\",\"target3_std\",\"target3_min\",\"target3_max\",\"target3_prob\",\"target3_skew\",\"target3_kurt\",\n",
    "                \"target4_mean\",\"target4_median\",\"target4_std\",\"target4_min\",\"target4_max\",\"target4_prob\",\"target4_skew\",\"target4_kurt\",\n",
    "                'tgt1_2_corr', 'tgt1_3_corr', 'tgt2_3_corr', 'tgt1_4_corr', 'tgt2_4_corr', 'tgt3_4_corr']\n",
    "player_target_probs = pd.DataFrame(columns = column_names)\n",
    "    \n",
    "for pid in tqdm(playerId_list):\n",
    "    temp = targets_train[targets_train['playerId'] == pid]\n",
    "    player_target_stats=calc_probs(pid,player_target_probs,temp)"
   ]
  },
  {
   "cell_type": "code",
   "execution_count": 19,
   "id": "92aadc04",
   "metadata": {},
   "outputs": [
    {
     "data": {
      "text/html": [
       "<div>\n",
       "<style scoped>\n",
       "    .dataframe tbody tr th:only-of-type {\n",
       "        vertical-align: middle;\n",
       "    }\n",
       "\n",
       "    .dataframe tbody tr th {\n",
       "        vertical-align: top;\n",
       "    }\n",
       "\n",
       "    .dataframe thead th {\n",
       "        text-align: right;\n",
       "    }\n",
       "</style>\n",
       "<table border=\"1\" class=\"dataframe\">\n",
       "  <thead>\n",
       "    <tr style=\"text-align: right;\">\n",
       "      <th></th>\n",
       "      <th>playerId</th>\n",
       "      <th>target1_mean</th>\n",
       "      <th>target1_median</th>\n",
       "      <th>target1_std</th>\n",
       "      <th>target1_min</th>\n",
       "      <th>target1_max</th>\n",
       "      <th>target1_prob</th>\n",
       "      <th>target1_skew</th>\n",
       "      <th>target1_kurt</th>\n",
       "      <th>target2_mean</th>\n",
       "      <th>...</th>\n",
       "      <th>target4_max</th>\n",
       "      <th>target4_prob</th>\n",
       "      <th>target4_skew</th>\n",
       "      <th>target4_kurt</th>\n",
       "      <th>tgt1_2_corr</th>\n",
       "      <th>tgt1_3_corr</th>\n",
       "      <th>tgt2_3_corr</th>\n",
       "      <th>tgt1_4_corr</th>\n",
       "      <th>tgt2_4_corr</th>\n",
       "      <th>tgt3_4_corr</th>\n",
       "    </tr>\n",
       "  </thead>\n",
       "  <tbody>\n",
       "    <tr>\n",
       "      <th>0</th>\n",
       "      <td>624415.0</td>\n",
       "      <td>1.193031</td>\n",
       "      <td>0.489252</td>\n",
       "      <td>1.578499</td>\n",
       "      <td>0.008327</td>\n",
       "      <td>7.267988</td>\n",
       "      <td>0.785380</td>\n",
       "      <td>2.208850</td>\n",
       "      <td>6.071897</td>\n",
       "      <td>5.398585</td>\n",
       "      <td>...</td>\n",
       "      <td>26.025186</td>\n",
       "      <td>10.464387</td>\n",
       "      <td>1.695464</td>\n",
       "      <td>3.831404</td>\n",
       "      <td>0.408492</td>\n",
       "      <td>-0.009458</td>\n",
       "      <td>-0.101143</td>\n",
       "      <td>0.227373</td>\n",
       "      <td>0.694767</td>\n",
       "      <td>-0.039737</td>\n",
       "    </tr>\n",
       "    <tr>\n",
       "      <th>1</th>\n",
       "      <td>656548.0</td>\n",
       "      <td>0.110672</td>\n",
       "      <td>0.001015</td>\n",
       "      <td>0.428984</td>\n",
       "      <td>0.000000</td>\n",
       "      <td>2.392265</td>\n",
       "      <td>0.000000</td>\n",
       "      <td>5.272732</td>\n",
       "      <td>28.385845</td>\n",
       "      <td>0.445853</td>\n",
       "      <td>...</td>\n",
       "      <td>0.423573</td>\n",
       "      <td>0.032978</td>\n",
       "      <td>1.294196</td>\n",
       "      <td>1.140084</td>\n",
       "      <td>0.566411</td>\n",
       "      <td>0.588373</td>\n",
       "      <td>0.527886</td>\n",
       "      <td>0.231260</td>\n",
       "      <td>0.525065</td>\n",
       "      <td>0.132559</td>\n",
       "    </tr>\n",
       "    <tr>\n",
       "      <th>2</th>\n",
       "      <td>400284.0</td>\n",
       "      <td>0.001807</td>\n",
       "      <td>0.001301</td>\n",
       "      <td>0.001164</td>\n",
       "      <td>0.000437</td>\n",
       "      <td>0.004770</td>\n",
       "      <td>0.001127</td>\n",
       "      <td>1.155729</td>\n",
       "      <td>0.582752</td>\n",
       "      <td>0.073071</td>\n",
       "      <td>...</td>\n",
       "      <td>8.909871</td>\n",
       "      <td>7.882136</td>\n",
       "      <td>0.388255</td>\n",
       "      <td>-0.703079</td>\n",
       "      <td>0.102451</td>\n",
       "      <td>0.429495</td>\n",
       "      <td>0.046450</td>\n",
       "      <td>0.006606</td>\n",
       "      <td>0.277479</td>\n",
       "      <td>-0.016683</td>\n",
       "    </tr>\n",
       "    <tr>\n",
       "      <th>3</th>\n",
       "      <td>606157.0</td>\n",
       "      <td>0.748247</td>\n",
       "      <td>0.024461</td>\n",
       "      <td>1.318711</td>\n",
       "      <td>0.002736</td>\n",
       "      <td>4.840508</td>\n",
       "      <td>0.548613</td>\n",
       "      <td>2.003263</td>\n",
       "      <td>3.235374</td>\n",
       "      <td>2.027612</td>\n",
       "      <td>...</td>\n",
       "      <td>3.931330</td>\n",
       "      <td>0.231750</td>\n",
       "      <td>2.053818</td>\n",
       "      <td>4.653597</td>\n",
       "      <td>0.641382</td>\n",
       "      <td>0.093253</td>\n",
       "      <td>-0.002014</td>\n",
       "      <td>0.404372</td>\n",
       "      <td>0.626199</td>\n",
       "      <td>0.249109</td>\n",
       "    </tr>\n",
       "    <tr>\n",
       "      <th>4</th>\n",
       "      <td>665620.0</td>\n",
       "      <td>0.483331</td>\n",
       "      <td>0.020388</td>\n",
       "      <td>1.415708</td>\n",
       "      <td>0.004932</td>\n",
       "      <td>6.322554</td>\n",
       "      <td>0.128698</td>\n",
       "      <td>3.507992</td>\n",
       "      <td>11.893073</td>\n",
       "      <td>1.913634</td>\n",
       "      <td>...</td>\n",
       "      <td>8.474798</td>\n",
       "      <td>0.314951</td>\n",
       "      <td>4.910653</td>\n",
       "      <td>25.637658</td>\n",
       "      <td>0.807310</td>\n",
       "      <td>0.810125</td>\n",
       "      <td>0.965737</td>\n",
       "      <td>0.778467</td>\n",
       "      <td>0.954381</td>\n",
       "      <td>0.959152</td>\n",
       "    </tr>\n",
       "    <tr>\n",
       "      <th>...</th>\n",
       "      <td>...</td>\n",
       "      <td>...</td>\n",
       "      <td>...</td>\n",
       "      <td>...</td>\n",
       "      <td>...</td>\n",
       "      <td>...</td>\n",
       "      <td>...</td>\n",
       "      <td>...</td>\n",
       "      <td>...</td>\n",
       "      <td>...</td>\n",
       "      <td>...</td>\n",
       "      <td>...</td>\n",
       "      <td>...</td>\n",
       "      <td>...</td>\n",
       "      <td>...</td>\n",
       "      <td>...</td>\n",
       "      <td>...</td>\n",
       "      <td>...</td>\n",
       "      <td>...</td>\n",
       "      <td>...</td>\n",
       "      <td>...</td>\n",
       "    </tr>\n",
       "    <tr>\n",
       "      <th>2056</th>\n",
       "      <td>621350.0</td>\n",
       "      <td>0.000020</td>\n",
       "      <td>0.000000</td>\n",
       "      <td>0.000051</td>\n",
       "      <td>0.000000</td>\n",
       "      <td>0.000175</td>\n",
       "      <td>0.000175</td>\n",
       "      <td>2.331868</td>\n",
       "      <td>3.822563</td>\n",
       "      <td>0.007298</td>\n",
       "      <td>...</td>\n",
       "      <td>0.206009</td>\n",
       "      <td>0.017662</td>\n",
       "      <td>0.992179</td>\n",
       "      <td>0.627281</td>\n",
       "      <td>0.278321</td>\n",
       "      <td>NaN</td>\n",
       "      <td>NaN</td>\n",
       "      <td>-0.041837</td>\n",
       "      <td>0.060094</td>\n",
       "      <td>NaN</td>\n",
       "    </tr>\n",
       "    <tr>\n",
       "      <th>2057</th>\n",
       "      <td>665759.0</td>\n",
       "      <td>0.000095</td>\n",
       "      <td>0.000000</td>\n",
       "      <td>0.000174</td>\n",
       "      <td>0.000000</td>\n",
       "      <td>0.000701</td>\n",
       "      <td>0.000000</td>\n",
       "      <td>2.033176</td>\n",
       "      <td>3.899046</td>\n",
       "      <td>0.238824</td>\n",
       "      <td>...</td>\n",
       "      <td>0.332631</td>\n",
       "      <td>0.019864</td>\n",
       "      <td>2.366135</td>\n",
       "      <td>7.230272</td>\n",
       "      <td>0.676003</td>\n",
       "      <td>NaN</td>\n",
       "      <td>NaN</td>\n",
       "      <td>0.678376</td>\n",
       "      <td>0.848313</td>\n",
       "      <td>NaN</td>\n",
       "    </tr>\n",
       "    <tr>\n",
       "      <th>2058</th>\n",
       "      <td>448178.0</td>\n",
       "      <td>0.000020</td>\n",
       "      <td>0.000000</td>\n",
       "      <td>0.000052</td>\n",
       "      <td>0.000000</td>\n",
       "      <td>0.000174</td>\n",
       "      <td>0.000000</td>\n",
       "      <td>2.345681</td>\n",
       "      <td>3.902834</td>\n",
       "      <td>0.005605</td>\n",
       "      <td>...</td>\n",
       "      <td>0.350299</td>\n",
       "      <td>0.188265</td>\n",
       "      <td>2.416382</td>\n",
       "      <td>8.149779</td>\n",
       "      <td>-0.053275</td>\n",
       "      <td>-0.134373</td>\n",
       "      <td>-0.260662</td>\n",
       "      <td>-0.106479</td>\n",
       "      <td>-0.172380</td>\n",
       "      <td>-0.078929</td>\n",
       "    </tr>\n",
       "    <tr>\n",
       "      <th>2059</th>\n",
       "      <td>488681.0</td>\n",
       "      <td>0.000074</td>\n",
       "      <td>0.000000</td>\n",
       "      <td>0.000142</td>\n",
       "      <td>0.000000</td>\n",
       "      <td>0.000506</td>\n",
       "      <td>0.000000</td>\n",
       "      <td>2.153297</td>\n",
       "      <td>3.865929</td>\n",
       "      <td>0.012644</td>\n",
       "      <td>...</td>\n",
       "      <td>0.453328</td>\n",
       "      <td>0.075379</td>\n",
       "      <td>1.055577</td>\n",
       "      <td>1.166366</td>\n",
       "      <td>-0.114731</td>\n",
       "      <td>0.364257</td>\n",
       "      <td>0.095866</td>\n",
       "      <td>0.216720</td>\n",
       "      <td>0.301329</td>\n",
       "      <td>0.054098</td>\n",
       "    </tr>\n",
       "    <tr>\n",
       "      <th>2060</th>\n",
       "      <td>573668.0</td>\n",
       "      <td>0.000040</td>\n",
       "      <td>0.000000</td>\n",
       "      <td>0.000124</td>\n",
       "      <td>0.000000</td>\n",
       "      <td>0.000487</td>\n",
       "      <td>0.000000</td>\n",
       "      <td>2.994696</td>\n",
       "      <td>7.845999</td>\n",
       "      <td>0.019460</td>\n",
       "      <td>...</td>\n",
       "      <td>0.147330</td>\n",
       "      <td>0.037690</td>\n",
       "      <td>1.431351</td>\n",
       "      <td>2.157415</td>\n",
       "      <td>0.245327</td>\n",
       "      <td>0.148543</td>\n",
       "      <td>-0.047421</td>\n",
       "      <td>0.184882</td>\n",
       "      <td>0.245377</td>\n",
       "      <td>-0.155625</td>\n",
       "    </tr>\n",
       "  </tbody>\n",
       "</table>\n",
       "<p>2061 rows × 39 columns</p>\n",
       "</div>"
      ],
      "text/plain": [
       "      playerId  target1_mean  target1_median  target1_std  target1_min  \\\n",
       "0     624415.0      1.193031        0.489252     1.578499     0.008327   \n",
       "1     656548.0      0.110672        0.001015     0.428984     0.000000   \n",
       "2     400284.0      0.001807        0.001301     0.001164     0.000437   \n",
       "3     606157.0      0.748247        0.024461     1.318711     0.002736   \n",
       "4     665620.0      0.483331        0.020388     1.415708     0.004932   \n",
       "...        ...           ...             ...          ...          ...   \n",
       "2056  621350.0      0.000020        0.000000     0.000051     0.000000   \n",
       "2057  665759.0      0.000095        0.000000     0.000174     0.000000   \n",
       "2058  448178.0      0.000020        0.000000     0.000052     0.000000   \n",
       "2059  488681.0      0.000074        0.000000     0.000142     0.000000   \n",
       "2060  573668.0      0.000040        0.000000     0.000124     0.000000   \n",
       "\n",
       "      target1_max  target1_prob  target1_skew  target1_kurt  target2_mean  \\\n",
       "0        7.267988      0.785380      2.208850      6.071897      5.398585   \n",
       "1        2.392265      0.000000      5.272732     28.385845      0.445853   \n",
       "2        0.004770      0.001127      1.155729      0.582752      0.073071   \n",
       "3        4.840508      0.548613      2.003263      3.235374      2.027612   \n",
       "4        6.322554      0.128698      3.507992     11.893073      1.913634   \n",
       "...           ...           ...           ...           ...           ...   \n",
       "2056     0.000175      0.000175      2.331868      3.822563      0.007298   \n",
       "2057     0.000701      0.000000      2.033176      3.899046      0.238824   \n",
       "2058     0.000174      0.000000      2.345681      3.902834      0.005605   \n",
       "2059     0.000506      0.000000      2.153297      3.865929      0.012644   \n",
       "2060     0.000487      0.000000      2.994696      7.845999      0.019460   \n",
       "\n",
       "      ...  target4_max  target4_prob  target4_skew  target4_kurt  tgt1_2_corr  \\\n",
       "0     ...    26.025186     10.464387      1.695464      3.831404     0.408492   \n",
       "1     ...     0.423573      0.032978      1.294196      1.140084     0.566411   \n",
       "2     ...     8.909871      7.882136      0.388255     -0.703079     0.102451   \n",
       "3     ...     3.931330      0.231750      2.053818      4.653597     0.641382   \n",
       "4     ...     8.474798      0.314951      4.910653     25.637658     0.807310   \n",
       "...   ...          ...           ...           ...           ...          ...   \n",
       "2056  ...     0.206009      0.017662      0.992179      0.627281     0.278321   \n",
       "2057  ...     0.332631      0.019864      2.366135      7.230272     0.676003   \n",
       "2058  ...     0.350299      0.188265      2.416382      8.149779    -0.053275   \n",
       "2059  ...     0.453328      0.075379      1.055577      1.166366    -0.114731   \n",
       "2060  ...     0.147330      0.037690      1.431351      2.157415     0.245327   \n",
       "\n",
       "      tgt1_3_corr  tgt2_3_corr  tgt1_4_corr  tgt2_4_corr  tgt3_4_corr  \n",
       "0       -0.009458    -0.101143     0.227373     0.694767    -0.039737  \n",
       "1        0.588373     0.527886     0.231260     0.525065     0.132559  \n",
       "2        0.429495     0.046450     0.006606     0.277479    -0.016683  \n",
       "3        0.093253    -0.002014     0.404372     0.626199     0.249109  \n",
       "4        0.810125     0.965737     0.778467     0.954381     0.959152  \n",
       "...           ...          ...          ...          ...          ...  \n",
       "2056          NaN          NaN    -0.041837     0.060094          NaN  \n",
       "2057          NaN          NaN     0.678376     0.848313          NaN  \n",
       "2058    -0.134373    -0.260662    -0.106479    -0.172380    -0.078929  \n",
       "2059     0.364257     0.095866     0.216720     0.301329     0.054098  \n",
       "2060     0.148543    -0.047421     0.184882     0.245377    -0.155625  \n",
       "\n",
       "[2061 rows x 39 columns]"
      ]
     },
     "execution_count": 19,
     "metadata": {},
     "output_type": "execute_result"
    }
   ],
   "source": [
    "player_target_stats"
   ]
  },
  {
   "cell_type": "code",
   "execution_count": 20,
   "id": "037ece91",
   "metadata": {},
   "outputs": [],
   "source": [
    "data_names=player_target_stats.columns.values.tolist()"
   ]
  },
  {
   "cell_type": "code",
   "execution_count": 21,
   "id": "95d9a09c",
   "metadata": {},
   "outputs": [],
   "source": [
    "players['DOY'] = pd.to_datetime(players['DOB'], format=\"%Y-%m-%d\").dt.year\n",
    "players['mlbDebutYear'] = pd.to_datetime(players['mlbDebutDate'], format=\"%Y-%m-%d\").dt.year\n",
    "players['DebutAge'] = players['mlbDebutYear'] - players['DOY']"
   ]
  },
  {
   "cell_type": "code",
   "execution_count": 22,
   "id": "ce2af177",
   "metadata": {},
   "outputs": [],
   "source": [
    "# creat dataset\n",
    "train = targets[targets_cols].merge(players[players_cols], on=['playerId'], how='left')\n",
    "train = train.merge(rosters[rosters_cols], on=['playerId', 'date'], how='left')\n",
    "train = train.merge(scores[scores_cols], on=['playerId', 'date'], how='left')\n",
    "train = train.merge(player_target_stats, how='inner', left_on=[\"playerId\"],right_on=[\"playerId\"])\n"
   ]
  },
  {
   "cell_type": "code",
   "execution_count": 23,
   "id": "716d5359",
   "metadata": {},
   "outputs": [],
   "source": [
    "# label encoding\n",
    "player2num = {c: i for i, c in enumerate(train['playerId'].unique())}\n",
    "position2num = {c: i for i, c in enumerate(train['primaryPositionName'].unique())}\n",
    "birthCityn2num = {c: i for i, c in enumerate(train['birthCity'].unique())}\n",
    "teamid2num = {c: i for i, c in enumerate(train['teamId'].unique())}\n",
    "status2num = {c: i for i, c in enumerate(train['status'].unique())}\n",
    "train['label_playerId'] = train['playerId'].map(player2num)\n",
    "train['label_primaryPositionName'] = train['primaryPositionName'].map(position2num)\n",
    "train['label_birthCity'] = train['birthCity'].map(birthCityn2num)\n",
    "train['label_teamId'] = train['teamId'].map(teamid2num)\n",
    "train['label_status'] = train['status'].map(status2num)"
   ]
  },
  {
   "cell_type": "code",
   "execution_count": 24,
   "id": "ef118895",
   "metadata": {},
   "outputs": [],
   "source": [
    "date_ = pd.to_datetime(train['date'], format=\"%Y%m%d\")\n",
    "train['annual_day'] = (date_ - pd.to_datetime(date_.dt.year, format=\"%Y\")) /  timedelta(days=1)\n",
    "train['week_day'] = date_.dt.weekday\n",
    "train['month'] = date_.dt.month"
   ]
  },
  {
   "cell_type": "code",
   "execution_count": 25,
   "id": "bae031aa",
   "metadata": {},
   "outputs": [],
   "source": [
    "train['gameday'] = ~train['battingOrder'].isna()*1"
   ]
  },
  {
   "cell_type": "code",
   "execution_count": 26,
   "id": "d225319c",
   "metadata": {},
   "outputs": [],
   "source": [
    "train.sort_values(by=['playerId','date'],inplace=True,ascending=True)"
   ]
  },
  {
   "cell_type": "code",
   "execution_count": 27,
   "id": "5a9a7354",
   "metadata": {},
   "outputs": [],
   "source": [
    "def count_consecutive_items_n_cols(df, col_name_list, output_col):\n",
    "    cum_sum_list = [\n",
    "        (df[col_name] != df[col_name].shift(1)).cumsum().tolist() for col_name in col_name_list\n",
    "    ]\n",
    "    df[output_col] = df.groupby(\n",
    "        [\"_\".join(map(str, x)) for x in zip(*cum_sum_list)]\n",
    "    ).cumcount() + 1\n",
    "    return df"
   ]
  },
  {
   "cell_type": "code",
   "execution_count": 28,
   "id": "27623c49",
   "metadata": {},
   "outputs": [],
   "source": [
    "train=count_consecutive_items_n_cols(train,['playerId','gameday'],'daysSinceLastGame')\n",
    "train.loc[train['gameday']==1,'daysSinceLastGame']=0"
   ]
  },
  {
   "cell_type": "code",
   "execution_count": 29,
   "id": "cc0c7a07",
   "metadata": {},
   "outputs": [],
   "source": [
    "train_game = train[train['gameday']==1]\n",
    "train_last_game = train_game[~train_game.duplicated(subset='playerId', keep='last')][['playerId', 'date']]\n",
    "train_last_game.columns = ['playerId', 'lastdate']\n",
    "train_player_unique = pd.DataFrame(train['playerId'].unique(), columns=['playerId'])\n",
    "train_last_game = pd.merge(train_player_unique, train_last_game, on=['playerId'], how='left' )\n",
    "train_last_game = train_last_game.fillna(20171231)"
   ]
  },
  {
   "cell_type": "code",
   "execution_count": 30,
   "id": "67692ca8",
   "metadata": {},
   "outputs": [
    {
     "data": {
      "text/html": [
       "<div>\n",
       "<style scoped>\n",
       "    .dataframe tbody tr th:only-of-type {\n",
       "        vertical-align: middle;\n",
       "    }\n",
       "\n",
       "    .dataframe tbody tr th {\n",
       "        vertical-align: top;\n",
       "    }\n",
       "\n",
       "    .dataframe thead th {\n",
       "        text-align: right;\n",
       "    }\n",
       "</style>\n",
       "<table border=\"1\" class=\"dataframe\">\n",
       "  <thead>\n",
       "    <tr style=\"text-align: right;\">\n",
       "      <th></th>\n",
       "      <th>playerId</th>\n",
       "      <th>lastdate</th>\n",
       "    </tr>\n",
       "  </thead>\n",
       "  <tbody>\n",
       "    <tr>\n",
       "      <th>856</th>\n",
       "      <td>593590</td>\n",
       "      <td>20171231.0</td>\n",
       "    </tr>\n",
       "    <tr>\n",
       "      <th>1995</th>\n",
       "      <td>670462</td>\n",
       "      <td>20171231.0</td>\n",
       "    </tr>\n",
       "    <tr>\n",
       "      <th>2000</th>\n",
       "      <td>670764</td>\n",
       "      <td>20171231.0</td>\n",
       "    </tr>\n",
       "    <tr>\n",
       "      <th>1765</th>\n",
       "      <td>661269</td>\n",
       "      <td>20171231.0</td>\n",
       "    </tr>\n",
       "    <tr>\n",
       "      <th>1932</th>\n",
       "      <td>667674</td>\n",
       "      <td>20171231.0</td>\n",
       "    </tr>\n",
       "    <tr>\n",
       "      <th>...</th>\n",
       "      <td>...</td>\n",
       "      <td>...</td>\n",
       "    </tr>\n",
       "    <tr>\n",
       "      <th>473</th>\n",
       "      <td>542932</td>\n",
       "      <td>20210430.0</td>\n",
       "    </tr>\n",
       "    <tr>\n",
       "      <th>1480</th>\n",
       "      <td>641856</td>\n",
       "      <td>20210430.0</td>\n",
       "    </tr>\n",
       "    <tr>\n",
       "      <th>1481</th>\n",
       "      <td>641857</td>\n",
       "      <td>20210430.0</td>\n",
       "    </tr>\n",
       "    <tr>\n",
       "      <th>483</th>\n",
       "      <td>543037</td>\n",
       "      <td>20210430.0</td>\n",
       "    </tr>\n",
       "    <tr>\n",
       "      <th>2060</th>\n",
       "      <td>685503</td>\n",
       "      <td>20210430.0</td>\n",
       "    </tr>\n",
       "  </tbody>\n",
       "</table>\n",
       "<p>2061 rows × 2 columns</p>\n",
       "</div>"
      ],
      "text/plain": [
       "      playerId    lastdate\n",
       "856     593590  20171231.0\n",
       "1995    670462  20171231.0\n",
       "2000    670764  20171231.0\n",
       "1765    661269  20171231.0\n",
       "1932    667674  20171231.0\n",
       "...        ...         ...\n",
       "473     542932  20210430.0\n",
       "1480    641856  20210430.0\n",
       "1481    641857  20210430.0\n",
       "483     543037  20210430.0\n",
       "2060    685503  20210430.0\n",
       "\n",
       "[2061 rows x 2 columns]"
      ]
     },
     "execution_count": 30,
     "metadata": {},
     "output_type": "execute_result"
    }
   ],
   "source": [
    "train_last_game.sort_values('lastdate')"
   ]
  },
  {
   "cell_type": "code",
   "execution_count": 31,
   "id": "4e751fd3",
   "metadata": {},
   "outputs": [],
   "source": [
    "def extract_season(date_raw, season_start_end):\n",
    "    idxes = 0\n",
    "    for raw in season_start_end.iloc():\n",
    "        idx_ = ((date_raw >= raw.iloc[0]) & (date_raw <= raw.iloc[1])) * 1\n",
    "        idxes += idx_\n",
    "    return idxes"
   ]
  },
  {
   "cell_type": "code",
   "execution_count": 32,
   "id": "f9086108",
   "metadata": {},
   "outputs": [],
   "source": [
    "on_preseason_idxes = extract_season(train['date'], seasons[['preSeasonStartDate', 'preSeasonEndDate']])\n",
    "on_season_idxes = extract_season(train['date'], seasons[['regularSeasonStartDate', 'regularSeasonEndDate']]) * 2\n",
    "on_postseason_idxes = extract_season(train['date'], seasons[['postSeasonStartDate', 'postSeasonEndDate']]) * 3\n",
    "\n",
    "special_days = seasons['lastDate1stHalf'].to_list() + seasons['allStarDate'].to_list() + seasons['firstDate2ndHalf'].to_list()\n",
    "special_idxes = 0\n",
    "for day in special_days:\n",
    "    special_idxes += (train['date'] == day) * 4\n",
    "\n",
    "on_total_season_idxes = on_preseason_idxes\n",
    "on_total_season_idxes[on_season_idxes==2] = 2\n",
    "on_total_season_idxes[on_postseason_idxes==3] = 3\n",
    "on_total_season_idxes[special_idxes==4] = 4\n",
    "\n",
    "train['season_info'] = on_total_season_idxes"
   ]
  },
  {
   "cell_type": "code",
   "execution_count": 33,
   "id": "5dc6e468",
   "metadata": {},
   "outputs": [],
   "source": [
    "## only on season\n",
    "on_whole_idxes = extract_season(train['date'], seasons[['gameStartDate', 'gameEndDate']])\n",
    "train = train[on_whole_idxes == 1].reset_index(drop=True)"
   ]
  },
  {
   "cell_type": "code",
   "execution_count": 34,
   "id": "428a1f3d",
   "metadata": {},
   "outputs": [],
   "source": [
    "# train = train[train['playerForTestSetAndFuturePreds']==True].reset_index(drop=True)"
   ]
  },
  {
   "cell_type": "code",
   "execution_count": 35,
   "id": "2bc1bd9d",
   "metadata": {},
   "outputs": [
    {
     "data": {
      "text/html": [
       "<div>\n",
       "<style scoped>\n",
       "    .dataframe tbody tr th:only-of-type {\n",
       "        vertical-align: middle;\n",
       "    }\n",
       "\n",
       "    .dataframe tbody tr th {\n",
       "        vertical-align: top;\n",
       "    }\n",
       "\n",
       "    .dataframe thead th {\n",
       "        text-align: right;\n",
       "    }\n",
       "</style>\n",
       "<table border=\"1\" class=\"dataframe\">\n",
       "  <thead>\n",
       "    <tr style=\"text-align: right;\">\n",
       "      <th></th>\n",
       "      <th>playerId</th>\n",
       "      <th>target1</th>\n",
       "      <th>target2</th>\n",
       "      <th>target3</th>\n",
       "      <th>target4</th>\n",
       "      <th>date</th>\n",
       "      <th>primaryPositionName</th>\n",
       "      <th>birthCity</th>\n",
       "      <th>DOY</th>\n",
       "      <th>mlbDebutYear</th>\n",
       "      <th>...</th>\n",
       "      <th>label_primaryPositionName</th>\n",
       "      <th>label_birthCity</th>\n",
       "      <th>label_teamId</th>\n",
       "      <th>label_status</th>\n",
       "      <th>annual_day</th>\n",
       "      <th>week_day</th>\n",
       "      <th>month</th>\n",
       "      <th>gameday</th>\n",
       "      <th>daysSinceLastGame</th>\n",
       "      <th>season_info</th>\n",
       "    </tr>\n",
       "  </thead>\n",
       "  <tbody>\n",
       "    <tr>\n",
       "      <th>0</th>\n",
       "      <td>112526</td>\n",
       "      <td>0.031761</td>\n",
       "      <td>2.731418</td>\n",
       "      <td>0.388556</td>\n",
       "      <td>6.349412</td>\n",
       "      <td>20180329</td>\n",
       "      <td>Pitcher</td>\n",
       "      <td>Altamira</td>\n",
       "      <td>1973</td>\n",
       "      <td>1997.0</td>\n",
       "      <td>...</td>\n",
       "      <td>0</td>\n",
       "      <td>588</td>\n",
       "      <td>1</td>\n",
       "      <td>3</td>\n",
       "      <td>87.0</td>\n",
       "      <td>3</td>\n",
       "      <td>3</td>\n",
       "      <td>0</td>\n",
       "      <td>88</td>\n",
       "      <td>2</td>\n",
       "    </tr>\n",
       "    <tr>\n",
       "      <th>1</th>\n",
       "      <td>112526</td>\n",
       "      <td>0.025906</td>\n",
       "      <td>4.622162</td>\n",
       "      <td>0.408017</td>\n",
       "      <td>11.508375</td>\n",
       "      <td>20180330</td>\n",
       "      <td>Pitcher</td>\n",
       "      <td>Altamira</td>\n",
       "      <td>1973</td>\n",
       "      <td>1997.0</td>\n",
       "      <td>...</td>\n",
       "      <td>0</td>\n",
       "      <td>588</td>\n",
       "      <td>1</td>\n",
       "      <td>3</td>\n",
       "      <td>88.0</td>\n",
       "      <td>4</td>\n",
       "      <td>3</td>\n",
       "      <td>0</td>\n",
       "      <td>89</td>\n",
       "      <td>2</td>\n",
       "    </tr>\n",
       "    <tr>\n",
       "      <th>2</th>\n",
       "      <td>112526</td>\n",
       "      <td>0.053185</td>\n",
       "      <td>4.767842</td>\n",
       "      <td>0.275408</td>\n",
       "      <td>14.600851</td>\n",
       "      <td>20180331</td>\n",
       "      <td>Pitcher</td>\n",
       "      <td>Altamira</td>\n",
       "      <td>1973</td>\n",
       "      <td>1997.0</td>\n",
       "      <td>...</td>\n",
       "      <td>0</td>\n",
       "      <td>588</td>\n",
       "      <td>1</td>\n",
       "      <td>3</td>\n",
       "      <td>89.0</td>\n",
       "      <td>5</td>\n",
       "      <td>3</td>\n",
       "      <td>0</td>\n",
       "      <td>90</td>\n",
       "      <td>2</td>\n",
       "    </tr>\n",
       "    <tr>\n",
       "      <th>3</th>\n",
       "      <td>112526</td>\n",
       "      <td>0.771100</td>\n",
       "      <td>63.601677</td>\n",
       "      <td>7.566316</td>\n",
       "      <td>100.000000</td>\n",
       "      <td>20180401</td>\n",
       "      <td>Pitcher</td>\n",
       "      <td>Altamira</td>\n",
       "      <td>1973</td>\n",
       "      <td>1997.0</td>\n",
       "      <td>...</td>\n",
       "      <td>0</td>\n",
       "      <td>588</td>\n",
       "      <td>1</td>\n",
       "      <td>3</td>\n",
       "      <td>90.0</td>\n",
       "      <td>6</td>\n",
       "      <td>4</td>\n",
       "      <td>0</td>\n",
       "      <td>91</td>\n",
       "      <td>2</td>\n",
       "    </tr>\n",
       "    <tr>\n",
       "      <th>4</th>\n",
       "      <td>112526</td>\n",
       "      <td>5.957846</td>\n",
       "      <td>22.427930</td>\n",
       "      <td>33.900803</td>\n",
       "      <td>38.857939</td>\n",
       "      <td>20180402</td>\n",
       "      <td>Pitcher</td>\n",
       "      <td>Altamira</td>\n",
       "      <td>1973</td>\n",
       "      <td>1997.0</td>\n",
       "      <td>...</td>\n",
       "      <td>0</td>\n",
       "      <td>588</td>\n",
       "      <td>7</td>\n",
       "      <td>0</td>\n",
       "      <td>91.0</td>\n",
       "      <td>0</td>\n",
       "      <td>4</td>\n",
       "      <td>1</td>\n",
       "      <td>0</td>\n",
       "      <td>2</td>\n",
       "    </tr>\n",
       "    <tr>\n",
       "      <th>...</th>\n",
       "      <td>...</td>\n",
       "      <td>...</td>\n",
       "      <td>...</td>\n",
       "      <td>...</td>\n",
       "      <td>...</td>\n",
       "      <td>...</td>\n",
       "      <td>...</td>\n",
       "      <td>...</td>\n",
       "      <td>...</td>\n",
       "      <td>...</td>\n",
       "      <td>...</td>\n",
       "      <td>...</td>\n",
       "      <td>...</td>\n",
       "      <td>...</td>\n",
       "      <td>...</td>\n",
       "      <td>...</td>\n",
       "      <td>...</td>\n",
       "      <td>...</td>\n",
       "      <td>...</td>\n",
       "      <td>...</td>\n",
       "      <td>...</td>\n",
       "    </tr>\n",
       "    <tr>\n",
       "      <th>1166521</th>\n",
       "      <td>685503</td>\n",
       "      <td>0.044617</td>\n",
       "      <td>1.224728</td>\n",
       "      <td>0.009437</td>\n",
       "      <td>0.737463</td>\n",
       "      <td>20210426</td>\n",
       "      <td>Pitcher</td>\n",
       "      <td>Hiroshima</td>\n",
       "      <td>1992</td>\n",
       "      <td>2021.0</td>\n",
       "      <td>...</td>\n",
       "      <td>0</td>\n",
       "      <td>902</td>\n",
       "      <td>7</td>\n",
       "      <td>0</td>\n",
       "      <td>115.0</td>\n",
       "      <td>0</td>\n",
       "      <td>4</td>\n",
       "      <td>0</td>\n",
       "      <td>1</td>\n",
       "      <td>2</td>\n",
       "    </tr>\n",
       "    <tr>\n",
       "      <th>1166522</th>\n",
       "      <td>685503</td>\n",
       "      <td>0.019123</td>\n",
       "      <td>1.178880</td>\n",
       "      <td>0.013161</td>\n",
       "      <td>0.790301</td>\n",
       "      <td>20210427</td>\n",
       "      <td>Pitcher</td>\n",
       "      <td>Hiroshima</td>\n",
       "      <td>1992</td>\n",
       "      <td>2021.0</td>\n",
       "      <td>...</td>\n",
       "      <td>0</td>\n",
       "      <td>902</td>\n",
       "      <td>7</td>\n",
       "      <td>0</td>\n",
       "      <td>116.0</td>\n",
       "      <td>1</td>\n",
       "      <td>4</td>\n",
       "      <td>0</td>\n",
       "      <td>2</td>\n",
       "      <td>2</td>\n",
       "    </tr>\n",
       "    <tr>\n",
       "      <th>1166523</th>\n",
       "      <td>685503</td>\n",
       "      <td>0.015799</td>\n",
       "      <td>4.323489</td>\n",
       "      <td>0.002350</td>\n",
       "      <td>0.970273</td>\n",
       "      <td>20210428</td>\n",
       "      <td>Pitcher</td>\n",
       "      <td>Hiroshima</td>\n",
       "      <td>1992</td>\n",
       "      <td>2021.0</td>\n",
       "      <td>...</td>\n",
       "      <td>0</td>\n",
       "      <td>902</td>\n",
       "      <td>7</td>\n",
       "      <td>0</td>\n",
       "      <td>117.0</td>\n",
       "      <td>2</td>\n",
       "      <td>4</td>\n",
       "      <td>0</td>\n",
       "      <td>3</td>\n",
       "      <td>2</td>\n",
       "    </tr>\n",
       "    <tr>\n",
       "      <th>1166524</th>\n",
       "      <td>685503</td>\n",
       "      <td>0.018770</td>\n",
       "      <td>31.946021</td>\n",
       "      <td>0.305491</td>\n",
       "      <td>5.938273</td>\n",
       "      <td>20210429</td>\n",
       "      <td>Pitcher</td>\n",
       "      <td>Hiroshima</td>\n",
       "      <td>1992</td>\n",
       "      <td>2021.0</td>\n",
       "      <td>...</td>\n",
       "      <td>0</td>\n",
       "      <td>902</td>\n",
       "      <td>7</td>\n",
       "      <td>0</td>\n",
       "      <td>118.0</td>\n",
       "      <td>3</td>\n",
       "      <td>4</td>\n",
       "      <td>0</td>\n",
       "      <td>4</td>\n",
       "      <td>2</td>\n",
       "    </tr>\n",
       "    <tr>\n",
       "      <th>1166525</th>\n",
       "      <td>685503</td>\n",
       "      <td>0.014727</td>\n",
       "      <td>6.607196</td>\n",
       "      <td>1.851336</td>\n",
       "      <td>2.014339</td>\n",
       "      <td>20210430</td>\n",
       "      <td>Pitcher</td>\n",
       "      <td>Hiroshima</td>\n",
       "      <td>1992</td>\n",
       "      <td>2021.0</td>\n",
       "      <td>...</td>\n",
       "      <td>0</td>\n",
       "      <td>902</td>\n",
       "      <td>7</td>\n",
       "      <td>0</td>\n",
       "      <td>119.0</td>\n",
       "      <td>4</td>\n",
       "      <td>4</td>\n",
       "      <td>1</td>\n",
       "      <td>0</td>\n",
       "      <td>2</td>\n",
       "    </tr>\n",
       "  </tbody>\n",
       "</table>\n",
       "<p>1166526 rows × 138 columns</p>\n",
       "</div>"
      ],
      "text/plain": [
       "         playerId   target1    target2    target3     target4      date  \\\n",
       "0          112526  0.031761   2.731418   0.388556    6.349412  20180329   \n",
       "1          112526  0.025906   4.622162   0.408017   11.508375  20180330   \n",
       "2          112526  0.053185   4.767842   0.275408   14.600851  20180331   \n",
       "3          112526  0.771100  63.601677   7.566316  100.000000  20180401   \n",
       "4          112526  5.957846  22.427930  33.900803   38.857939  20180402   \n",
       "...           ...       ...        ...        ...         ...       ...   \n",
       "1166521    685503  0.044617   1.224728   0.009437    0.737463  20210426   \n",
       "1166522    685503  0.019123   1.178880   0.013161    0.790301  20210427   \n",
       "1166523    685503  0.015799   4.323489   0.002350    0.970273  20210428   \n",
       "1166524    685503  0.018770  31.946021   0.305491    5.938273  20210429   \n",
       "1166525    685503  0.014727   6.607196   1.851336    2.014339  20210430   \n",
       "\n",
       "        primaryPositionName  birthCity   DOY  mlbDebutYear  ...  \\\n",
       "0                   Pitcher   Altamira  1973        1997.0  ...   \n",
       "1                   Pitcher   Altamira  1973        1997.0  ...   \n",
       "2                   Pitcher   Altamira  1973        1997.0  ...   \n",
       "3                   Pitcher   Altamira  1973        1997.0  ...   \n",
       "4                   Pitcher   Altamira  1973        1997.0  ...   \n",
       "...                     ...        ...   ...           ...  ...   \n",
       "1166521             Pitcher  Hiroshima  1992        2021.0  ...   \n",
       "1166522             Pitcher  Hiroshima  1992        2021.0  ...   \n",
       "1166523             Pitcher  Hiroshima  1992        2021.0  ...   \n",
       "1166524             Pitcher  Hiroshima  1992        2021.0  ...   \n",
       "1166525             Pitcher  Hiroshima  1992        2021.0  ...   \n",
       "\n",
       "         label_primaryPositionName  label_birthCity  label_teamId  \\\n",
       "0                                0              588             1   \n",
       "1                                0              588             1   \n",
       "2                                0              588             1   \n",
       "3                                0              588             1   \n",
       "4                                0              588             7   \n",
       "...                            ...              ...           ...   \n",
       "1166521                          0              902             7   \n",
       "1166522                          0              902             7   \n",
       "1166523                          0              902             7   \n",
       "1166524                          0              902             7   \n",
       "1166525                          0              902             7   \n",
       "\n",
       "        label_status  annual_day week_day  month  gameday  daysSinceLastGame  \\\n",
       "0                  3        87.0        3      3        0                 88   \n",
       "1                  3        88.0        4      3        0                 89   \n",
       "2                  3        89.0        5      3        0                 90   \n",
       "3                  3        90.0        6      4        0                 91   \n",
       "4                  0        91.0        0      4        1                  0   \n",
       "...              ...         ...      ...    ...      ...                ...   \n",
       "1166521            0       115.0        0      4        0                  1   \n",
       "1166522            0       116.0        1      4        0                  2   \n",
       "1166523            0       117.0        2      4        0                  3   \n",
       "1166524            0       118.0        3      4        0                  4   \n",
       "1166525            0       119.0        4      4        1                  0   \n",
       "\n",
       "         season_info  \n",
       "0                  2  \n",
       "1                  2  \n",
       "2                  2  \n",
       "3                  2  \n",
       "4                  2  \n",
       "...              ...  \n",
       "1166521            2  \n",
       "1166522            2  \n",
       "1166523            2  \n",
       "1166524            2  \n",
       "1166525            2  \n",
       "\n",
       "[1166526 rows x 138 columns]"
      ]
     },
     "execution_count": 35,
     "metadata": {},
     "output_type": "execute_result"
    }
   ],
   "source": [
    "train"
   ]
  },
  {
   "cell_type": "code",
   "execution_count": 36,
   "id": "24e8829e",
   "metadata": {},
   "outputs": [],
   "source": [
    "# def fit_lgbm(x_train, y_train, x_valid, y_valid, params: dict=None, verbose=100):\n",
    "#     oof_pred = np.zeros(len(y_valid), dtype=np.float32)\n",
    "#     model = lgbm.LGBMRegressor(**params)\n",
    "#     model.fit(x_train, y_train, \n",
    "#         eval_set=[(X_train, y_train), (x_valid, y_valid)],  \n",
    "#         early_stopping_rounds=verbose, \n",
    "#         verbose=verbose)\n",
    "#     oof_pred = model.predict(x_valid)\n",
    "#     oof_pred = np.clip(oof_pred, 0, 100)\n",
    "#     score = mean_absolute_error(oof_pred, y_valid)\n",
    "#     print('mae:', score)\n",
    "#     return oof_pred, model, score\n"
   ]
  },
  {
   "cell_type": "code",
   "execution_count": 37,
   "id": "b2bfa909",
   "metadata": {},
   "outputs": [],
   "source": [
    "def fit_lgbm(x_train, y_train, x_valid, y_valid, learning_rates, verbose=100):\n",
    "    def opt(trial):\n",
    "        params = {\n",
    "                'random_state': SEED,\n",
    "                'objective':'mae',\n",
    "                'n_estimators': 10000,\n",
    "                'learning_rate': 0.1,\n",
    "                'max_depth': trial.suggest_int('max_depth', 1, 20),\n",
    "                'min_child_weight': trial.suggest_int('min_child_weight', 1, 20),\n",
    "                'subsample': trial.suggest_discrete_uniform('subsample', 0.5, 0.9, 0.1),\n",
    "                'colsample_bytree': trial.suggest_discrete_uniform('colsample_bytree', 0.5, 0.9, 0.1),\n",
    "                'reg_lambda': trial.suggest_loguniform('reg_lambda', 1e-3, 1e3),\n",
    "                'reg_alpha': trial.suggest_loguniform('reg_alpha', 1e-3, 1e3),\n",
    "                'feature_fraction': trial.suggest_uniform('feature_fraction', 0.4, 1.0),\n",
    "                'bagging_fraction': trial.suggest_uniform('bagging_fraction', 0.4, 1.0),\n",
    "                'bagging_freq': trial.suggest_int('bagging_freq', 1, 10)\n",
    "        }\n",
    "\n",
    "        model_opt = lgbm.LGBMRegressor(**params)\n",
    "\n",
    "        model_opt.fit(x_train, y_train, \n",
    "            eval_set=[(x_train, y_train), (x_valid, y_valid)],  \n",
    "            early_stopping_rounds=verbose, \n",
    "            verbose=verbose)\n",
    "        oof_pred = model_opt.predict(x_valid)\n",
    "        oof_pred = np.clip(oof_pred, 0, 100)\n",
    "        score = mean_absolute_error(oof_pred, y_valid)\n",
    "        return -score\n",
    "    return opt"
   ]
  },
  {
   "cell_type": "code",
   "execution_count": 38,
   "id": "a847add8",
   "metadata": {},
   "outputs": [],
   "source": [
    "train_X = train\n",
    "train_y = train[['target1', 'target2', 'target3', 'target4']]\n",
    "tr_idxs = []\n",
    "val_idxs = []"
   ]
  },
  {
   "cell_type": "code",
   "execution_count": 39,
   "id": "90230cc0",
   "metadata": {},
   "outputs": [],
   "source": [
    "# tr_idx = (train['date'].astype(int) < 20200801)\n",
    "# val_idx = (train['date'].astype(int) >= 20200801) & (train['date'].astype(int) < 20200901)\n",
    "# tr_idxs.append(tr_idx)\n",
    "# val_idxs.append(val_idx)\n",
    "\n",
    "# tr_idx = (train['date'].astype(int) < 20200901)\n",
    "# val_idx = (train['date'].astype(int) >= 20200901) & (train['date'].astype(int) < 20201001)\n",
    "# tr_idxs.append(tr_idx)\n",
    "# val_idxs.append(val_idx)\n",
    "\n",
    "# tr_idx = (train['date'].astype(int) < 20201001)\n",
    "# val_idx = (train['date'].astype(int) >= 20201001) & (train['date'].astype(int) < 20201028)\n",
    "# tr_idxs.append(tr_idx)\n",
    "# val_idxs.append(val_idx)\n",
    "\n",
    "# tr_idx = (train['date'].astype(int) < 20210228)\n",
    "# val_idx = (train['date'].astype(int) >= 20210228) & (train['date'].astype(int) < 20210401)\n",
    "# tr_idxs.append(tr_idx)\n",
    "# val_idxs.append(val_idx)\n",
    "\n",
    "tr_idx = (train['date'].astype(int) < 20210401)\n",
    "val_idx = ~tr_idx\n",
    "tr_idxs.append(tr_idx)\n",
    "val_idxs.append(val_idx)"
   ]
  },
  {
   "cell_type": "code",
   "execution_count": 40,
   "id": "c05f6165",
   "metadata": {},
   "outputs": [],
   "source": [
    "idx = 0\n",
    "\n",
    "tr_idx = tr_idxs[idx]\n",
    "val_idx = val_idxs[idx]\n",
    "\n",
    "x_train = train_X.loc[tr_idx].reset_index(drop=True)\n",
    "y_train = train_y.loc[tr_idx].reset_index(drop=True)\n",
    "x_valid = train_X.loc[val_idx].reset_index(drop=True)\n",
    "y_valid = train_y.loc[val_idx].reset_index(drop=True)"
   ]
  },
  {
   "cell_type": "code",
   "execution_count": 41,
   "id": "1fa6e5f6",
   "metadata": {},
   "outputs": [],
   "source": [
    "learning_rates = [0.1, 0.1, 0.1, 0.1]"
   ]
  },
  {
   "cell_type": "code",
   "execution_count": 42,
   "id": "02759f21",
   "metadata": {},
   "outputs": [
    {
     "name": "stderr",
     "output_type": "stream",
     "text": [
      "\u001b[32m[I 2021-07-06 11:04:49,955]\u001b[0m A new study created in memory with name: no-name-1482710a-8d96-41db-a1cd-4c9033d668a9\u001b[0m\n"
     ]
    },
    {
     "name": "stdout",
     "output_type": "stream",
     "text": [
      "[LightGBM] [Warning] feature_fraction is set=0.6412030898527971, colsample_bytree=0.7 will be ignored. Current value: feature_fraction=0.6412030898527971\n",
      "[LightGBM] [Warning] bagging_fraction is set=0.6367990456362835, subsample=0.5 will be ignored. Current value: bagging_fraction=0.6367990456362835\n",
      "[LightGBM] [Warning] bagging_freq is set=2, subsample_freq=0 will be ignored. Current value: bagging_freq=2\n",
      "Training until validation scores don't improve for 100 rounds\n",
      "[100]\ttraining's l1: 0.612246\tvalid_1's l1: 0.714496\n",
      "[200]\ttraining's l1: 0.611755\tvalid_1's l1: 0.713724\n",
      "[300]\ttraining's l1: 0.611611\tvalid_1's l1: 0.713493\n",
      "[400]\ttraining's l1: 0.611602\tvalid_1's l1: 0.71349\n",
      "[500]\ttraining's l1: 0.611455\tvalid_1's l1: 0.713241\n",
      "[600]\ttraining's l1: 0.610846\tvalid_1's l1: 0.712579\n",
      "Early stopping, best iteration is:\n",
      "[548]\ttraining's l1: 0.610854\tvalid_1's l1: 0.712577\n"
     ]
    },
    {
     "name": "stderr",
     "output_type": "stream",
     "text": [
      "\u001b[32m[I 2021-07-06 11:05:16,645]\u001b[0m Trial 0 finished with value: -0.7125750371233252 and parameters: {'max_depth': 11, 'min_child_weight': 20, 'subsample': 0.5, 'colsample_bytree': 0.7, 'reg_lambda': 313.3801548713135, 'reg_alpha': 14.688167160681909, 'feature_fraction': 0.6412030898527971, 'bagging_fraction': 0.6367990456362835, 'bagging_freq': 2}. Best is trial 0 with value: -0.7125750371233252.\u001b[0m\n"
     ]
    },
    {
     "name": "stdout",
     "output_type": "stream",
     "text": [
      "[LightGBM] [Warning] feature_fraction is set=0.6872893596880687, colsample_bytree=0.6 will be ignored. Current value: feature_fraction=0.6872893596880687\n",
      "[LightGBM] [Warning] bagging_fraction is set=0.6586163273492978, subsample=0.6 will be ignored. Current value: bagging_fraction=0.6586163273492978\n",
      "[LightGBM] [Warning] bagging_freq is set=2, subsample_freq=0 will be ignored. Current value: bagging_freq=2\n",
      "Training until validation scores don't improve for 100 rounds\n",
      "[100]\ttraining's l1: 0.610604\tvalid_1's l1: 0.71271\n",
      "[200]\ttraining's l1: 0.609656\tvalid_1's l1: 0.711205\n",
      "[300]\ttraining's l1: 0.609623\tvalid_1's l1: 0.711103\n"
     ]
    },
    {
     "name": "stderr",
     "output_type": "stream",
     "text": [
      "\u001b[32m[I 2021-07-06 11:05:31,031]\u001b[0m Trial 1 finished with value: -0.7110995614772191 and parameters: {'max_depth': 7, 'min_child_weight': 19, 'subsample': 0.6, 'colsample_bytree': 0.6, 'reg_lambda': 311.0793274293993, 'reg_alpha': 21.76259805274214, 'feature_fraction': 0.6872893596880687, 'bagging_fraction': 0.6586163273492978, 'bagging_freq': 2}. Best is trial 1 with value: -0.7110995614772191.\u001b[0m\n"
     ]
    },
    {
     "name": "stdout",
     "output_type": "stream",
     "text": [
      "Early stopping, best iteration is:\n",
      "[236]\ttraining's l1: 0.609626\tvalid_1's l1: 0.7111\n",
      "[LightGBM] [Warning] feature_fraction is set=0.5389660368192511, colsample_bytree=0.7 will be ignored. Current value: feature_fraction=0.5389660368192511\n",
      "[LightGBM] [Warning] bagging_fraction is set=0.9627948349054934, subsample=0.6 will be ignored. Current value: bagging_fraction=0.9627948349054934\n",
      "[LightGBM] [Warning] bagging_freq is set=3, subsample_freq=0 will be ignored. Current value: bagging_freq=3\n",
      "Training until validation scores don't improve for 100 rounds\n",
      "[100]\ttraining's l1: 0.606298\tvalid_1's l1: 0.706945\n",
      "[200]\ttraining's l1: 0.606275\tvalid_1's l1: 0.706911\n",
      "[300]\ttraining's l1: 0.606267\tvalid_1's l1: 0.706909\n",
      "[400]\ttraining's l1: 0.606164\tvalid_1's l1: 0.706756\n"
     ]
    },
    {
     "name": "stderr",
     "output_type": "stream",
     "text": [
      "\u001b[32m[I 2021-07-06 11:05:55,020]\u001b[0m Trial 2 finished with value: -0.7067522224923393 and parameters: {'max_depth': 6, 'min_child_weight': 1, 'subsample': 0.6, 'colsample_bytree': 0.7, 'reg_lambda': 0.283972357825453, 'reg_alpha': 0.07110517935841773, 'feature_fraction': 0.5389660368192511, 'bagging_fraction': 0.9627948349054934, 'bagging_freq': 3}. Best is trial 2 with value: -0.7067522224923393.\u001b[0m\n"
     ]
    },
    {
     "name": "stdout",
     "output_type": "stream",
     "text": [
      "Early stopping, best iteration is:\n",
      "[383]\ttraining's l1: 0.606165\tvalid_1's l1: 0.706754\n",
      "[LightGBM] [Warning] feature_fraction is set=0.8463635151387681, colsample_bytree=0.5 will be ignored. Current value: feature_fraction=0.8463635151387681\n",
      "[LightGBM] [Warning] bagging_fraction is set=0.5262117205065507, subsample=0.6 will be ignored. Current value: bagging_fraction=0.5262117205065507\n",
      "[LightGBM] [Warning] bagging_freq is set=7, subsample_freq=0 will be ignored. Current value: bagging_freq=7\n",
      "Training until validation scores don't improve for 100 rounds\n",
      "[100]\ttraining's l1: 0.612502\tvalid_1's l1: 0.717863\n",
      "[200]\ttraining's l1: 0.609949\tvalid_1's l1: 0.71343\n",
      "[300]\ttraining's l1: 0.609947\tvalid_1's l1: 0.713426\n",
      "[400]\ttraining's l1: 0.609477\tvalid_1's l1: 0.712078\n"
     ]
    },
    {
     "name": "stderr",
     "output_type": "stream",
     "text": [
      "\u001b[32m[I 2021-07-06 11:06:07,997]\u001b[0m Trial 3 finished with value: -0.7120765596808137 and parameters: {'max_depth': 12, 'min_child_weight': 1, 'subsample': 0.6, 'colsample_bytree': 0.5, 'reg_lambda': 10.44169951770215, 'reg_alpha': 0.018709256505328887, 'feature_fraction': 0.8463635151387681, 'bagging_fraction': 0.5262117205065507, 'bagging_freq': 7}. Best is trial 2 with value: -0.7067522224923393.\u001b[0m\n"
     ]
    },
    {
     "name": "stdout",
     "output_type": "stream",
     "text": [
      "Early stopping, best iteration is:\n",
      "[393]\ttraining's l1: 0.609478\tvalid_1's l1: 0.712078\n",
      "[LightGBM] [Warning] feature_fraction is set=0.8352176348147708, colsample_bytree=0.6 will be ignored. Current value: feature_fraction=0.8352176348147708\n",
      "[LightGBM] [Warning] bagging_fraction is set=0.6262028663160951, subsample=0.6 will be ignored. Current value: bagging_fraction=0.6262028663160951\n",
      "[LightGBM] [Warning] bagging_freq is set=7, subsample_freq=0 will be ignored. Current value: bagging_freq=7\n",
      "Training until validation scores don't improve for 100 rounds\n",
      "[100]\ttraining's l1: 0.613467\tvalid_1's l1: 0.717861\n",
      "[200]\ttraining's l1: 0.613072\tvalid_1's l1: 0.716936\n",
      "[300]\ttraining's l1: 0.613068\tvalid_1's l1: 0.716937\n"
     ]
    },
    {
     "name": "stderr",
     "output_type": "stream",
     "text": [
      "\u001b[32m[I 2021-07-06 11:06:19,182]\u001b[0m Trial 4 finished with value: -0.716932294203585 and parameters: {'max_depth': 9, 'min_child_weight': 16, 'subsample': 0.6, 'colsample_bytree': 0.6, 'reg_lambda': 25.493896156824775, 'reg_alpha': 287.0123807785893, 'feature_fraction': 0.8352176348147708, 'bagging_fraction': 0.6262028663160951, 'bagging_freq': 7}. Best is trial 2 with value: -0.7067522224923393.\u001b[0m\n"
     ]
    },
    {
     "name": "stdout",
     "output_type": "stream",
     "text": [
      "Early stopping, best iteration is:\n",
      "[267]\ttraining's l1: 0.61307\tvalid_1's l1: 0.716935\n",
      "[LightGBM] [Warning] feature_fraction is set=0.45687279478861753, colsample_bytree=0.8 will be ignored. Current value: feature_fraction=0.45687279478861753\n",
      "[LightGBM] [Warning] bagging_fraction is set=0.7505944874669354, subsample=0.7 will be ignored. Current value: bagging_fraction=0.7505944874669354\n",
      "[LightGBM] [Warning] bagging_freq is set=7, subsample_freq=0 will be ignored. Current value: bagging_freq=7\n",
      "Training until validation scores don't improve for 100 rounds\n",
      "[100]\ttraining's l1: 0.611187\tvalid_1's l1: 0.714706\n",
      "[200]\ttraining's l1: 0.608023\tvalid_1's l1: 0.709493\n",
      "[300]\ttraining's l1: 0.607405\tvalid_1's l1: 0.708257\n",
      "[400]\ttraining's l1: 0.60726\tvalid_1's l1: 0.707902\n",
      "[500]\ttraining's l1: 0.606963\tvalid_1's l1: 0.707469\n",
      "[600]\ttraining's l1: 0.605744\tvalid_1's l1: 0.704452\n",
      "[700]\ttraining's l1: 0.605302\tvalid_1's l1: 0.703709\n",
      "[800]\ttraining's l1: 0.60529\tvalid_1's l1: 0.703703\n",
      "[900]\ttraining's l1: 0.605273\tvalid_1's l1: 0.703673\n",
      "Early stopping, best iteration is:\n",
      "[817]\ttraining's l1: 0.605275\tvalid_1's l1: 0.703669\n"
     ]
    },
    {
     "name": "stderr",
     "output_type": "stream",
     "text": [
      "\u001b[32m[I 2021-07-06 11:06:47,983]\u001b[0m Trial 5 finished with value: -0.7036501689933446 and parameters: {'max_depth': 4, 'min_child_weight': 8, 'subsample': 0.7, 'colsample_bytree': 0.8, 'reg_lambda': 83.22375919662511, 'reg_alpha': 0.02177865373156987, 'feature_fraction': 0.45687279478861753, 'bagging_fraction': 0.7505944874669354, 'bagging_freq': 7}. Best is trial 5 with value: -0.7036501689933446.\u001b[0m\n"
     ]
    },
    {
     "name": "stdout",
     "output_type": "stream",
     "text": [
      "[LightGBM] [Warning] feature_fraction is set=0.7786088973464989, colsample_bytree=0.5 will be ignored. Current value: feature_fraction=0.7786088973464989\n",
      "[LightGBM] [Warning] bagging_fraction is set=0.8243568408568116, subsample=0.8 will be ignored. Current value: bagging_fraction=0.8243568408568116\n",
      "[LightGBM] [Warning] bagging_freq is set=6, subsample_freq=0 will be ignored. Current value: bagging_freq=6\n",
      "Training until validation scores don't improve for 100 rounds\n",
      "[100]\ttraining's l1: 0.666421\tvalid_1's l1: 0.790823\n",
      "[200]\ttraining's l1: 0.665964\tvalid_1's l1: 0.79044\n"
     ]
    },
    {
     "name": "stderr",
     "output_type": "stream",
     "text": [
      "\u001b[32m[I 2021-07-06 11:06:55,466]\u001b[0m Trial 6 finished with value: -0.7904268803429516 and parameters: {'max_depth': 1, 'min_child_weight': 16, 'subsample': 0.8, 'colsample_bytree': 0.5, 'reg_lambda': 1.0459097143944711, 'reg_alpha': 0.0016110515945511718, 'feature_fraction': 0.7786088973464989, 'bagging_fraction': 0.8243568408568116, 'bagging_freq': 6}. Best is trial 5 with value: -0.7036501689933446.\u001b[0m\n"
     ]
    },
    {
     "name": "stdout",
     "output_type": "stream",
     "text": [
      "Early stopping, best iteration is:\n",
      "[159]\ttraining's l1: 0.66597\tvalid_1's l1: 0.790427\n",
      "[LightGBM] [Warning] feature_fraction is set=0.7405726389026142, colsample_bytree=0.5 will be ignored. Current value: feature_fraction=0.7405726389026142\n",
      "[LightGBM] [Warning] bagging_fraction is set=0.9848898829605776, subsample=0.7 will be ignored. Current value: bagging_fraction=0.9848898829605776\n",
      "[LightGBM] [Warning] bagging_freq is set=5, subsample_freq=0 will be ignored. Current value: bagging_freq=5\n",
      "Training until validation scores don't improve for 100 rounds\n",
      "[100]\ttraining's l1: 0.612336\tvalid_1's l1: 0.716317\n",
      "[200]\ttraining's l1: 0.612069\tvalid_1's l1: 0.715972\n"
     ]
    },
    {
     "name": "stderr",
     "output_type": "stream",
     "text": [
      "\u001b[32m[I 2021-07-06 11:07:05,265]\u001b[0m Trial 7 finished with value: -0.7159716077324703 and parameters: {'max_depth': 13, 'min_child_weight': 17, 'subsample': 0.7, 'colsample_bytree': 0.5, 'reg_lambda': 105.76480128648282, 'reg_alpha': 1.826287865595423, 'feature_fraction': 0.7405726389026142, 'bagging_fraction': 0.9848898829605776, 'bagging_freq': 5}. Best is trial 5 with value: -0.7036501689933446.\u001b[0m\n"
     ]
    },
    {
     "name": "stdout",
     "output_type": "stream",
     "text": [
      "Early stopping, best iteration is:\n",
      "[112]\ttraining's l1: 0.61207\tvalid_1's l1: 0.715972\n",
      "[LightGBM] [Warning] feature_fraction is set=0.46641251359823904, colsample_bytree=0.7 will be ignored. Current value: feature_fraction=0.46641251359823904\n",
      "[LightGBM] [Warning] bagging_fraction is set=0.9225989951775865, subsample=0.8 will be ignored. Current value: bagging_fraction=0.9225989951775865\n",
      "[LightGBM] [Warning] bagging_freq is set=5, subsample_freq=0 will be ignored. Current value: bagging_freq=5\n",
      "Training until validation scores don't improve for 100 rounds\n",
      "[100]\ttraining's l1: 0.621769\tvalid_1's l1: 0.732072\n",
      "[200]\ttraining's l1: 0.613835\tvalid_1's l1: 0.718558\n",
      "[300]\ttraining's l1: 0.611484\tvalid_1's l1: 0.7147\n",
      "[400]\ttraining's l1: 0.611473\tvalid_1's l1: 0.714711\n",
      "[500]\ttraining's l1: 0.610515\tvalid_1's l1: 0.712808\n",
      "[600]\ttraining's l1: 0.609974\tvalid_1's l1: 0.711955\n",
      "[700]\ttraining's l1: 0.609959\tvalid_1's l1: 0.711939\n",
      "[800]\ttraining's l1: 0.609159\tvalid_1's l1: 0.709844\n",
      "[900]\ttraining's l1: 0.609135\tvalid_1's l1: 0.709811\n",
      "[1000]\ttraining's l1: 0.609133\tvalid_1's l1: 0.709811\n"
     ]
    },
    {
     "name": "stderr",
     "output_type": "stream",
     "text": [
      "\u001b[32m[I 2021-07-06 11:07:43,445]\u001b[0m Trial 8 finished with value: -0.7097945017455438 and parameters: {'max_depth': 3, 'min_child_weight': 17, 'subsample': 0.8, 'colsample_bytree': 0.7, 'reg_lambda': 0.3455204850547909, 'reg_alpha': 51.09795253628276, 'feature_fraction': 0.46641251359823904, 'bagging_fraction': 0.9225989951775865, 'bagging_freq': 5}. Best is trial 5 with value: -0.7036501689933446.\u001b[0m\n"
     ]
    },
    {
     "name": "stdout",
     "output_type": "stream",
     "text": [
      "Early stopping, best iteration is:\n",
      "[922]\ttraining's l1: 0.609134\tvalid_1's l1: 0.709811\n",
      "[LightGBM] [Warning] feature_fraction is set=0.4596442157585411, colsample_bytree=0.6 will be ignored. Current value: feature_fraction=0.4596442157585411\n",
      "[LightGBM] [Warning] bagging_fraction is set=0.8869023060529841, subsample=0.5 will be ignored. Current value: bagging_fraction=0.8869023060529841\n",
      "[LightGBM] [Warning] bagging_freq is set=1, subsample_freq=0 will be ignored. Current value: bagging_freq=1\n",
      "Training until validation scores don't improve for 100 rounds\n",
      "[100]\ttraining's l1: 0.610096\tvalid_1's l1: 0.712659\n",
      "[200]\ttraining's l1: 0.60999\tvalid_1's l1: 0.712569\n",
      "[300]\ttraining's l1: 0.609978\tvalid_1's l1: 0.712569\n",
      "[400]\ttraining's l1: 0.609871\tvalid_1's l1: 0.712405\n",
      "[500]\ttraining's l1: 0.609291\tvalid_1's l1: 0.711688\n"
     ]
    },
    {
     "name": "stderr",
     "output_type": "stream",
     "text": [
      "\u001b[32m[I 2021-07-06 11:08:02,460]\u001b[0m Trial 9 finished with value: -0.7116854187708703 and parameters: {'max_depth': 9, 'min_child_weight': 9, 'subsample': 0.5, 'colsample_bytree': 0.6, 'reg_lambda': 3.1738448333888845, 'reg_alpha': 0.02867371407466433, 'feature_fraction': 0.4596442157585411, 'bagging_fraction': 0.8869023060529841, 'bagging_freq': 1}. Best is trial 5 with value: -0.7036501689933446.\u001b[0m\n"
     ]
    },
    {
     "name": "stdout",
     "output_type": "stream",
     "text": [
      "Early stopping, best iteration is:\n",
      "[422]\ttraining's l1: 0.609293\tvalid_1's l1: 0.711688\n",
      "[LightGBM] [Warning] feature_fraction is set=0.9918425373892008, colsample_bytree=0.9 will be ignored. Current value: feature_fraction=0.9918425373892008\n",
      "[LightGBM] [Warning] bagging_fraction is set=0.7763292056538085, subsample=0.9 will be ignored. Current value: bagging_fraction=0.7763292056538085\n",
      "[LightGBM] [Warning] bagging_freq is set=10, subsample_freq=0 will be ignored. Current value: bagging_freq=10\n",
      "Training until validation scores don't improve for 100 rounds\n",
      "[100]\ttraining's l1: 0.614205\tvalid_1's l1: 0.719682\n",
      "[200]\ttraining's l1: 0.610361\tvalid_1's l1: 0.71291\n",
      "[300]\ttraining's l1: 0.607594\tvalid_1's l1: 0.70746\n",
      "[400]\ttraining's l1: 0.607362\tvalid_1's l1: 0.706714\n"
     ]
    },
    {
     "name": "stderr",
     "output_type": "stream",
     "text": [
      "\u001b[32m[I 2021-07-06 11:08:17,277]\u001b[0m Trial 10 finished with value: -0.7067131357260852 and parameters: {'max_depth': 19, 'min_child_weight': 7, 'subsample': 0.9, 'colsample_bytree': 0.9, 'reg_lambda': 0.001563820448245503, 'reg_alpha': 0.0028972215065511445, 'feature_fraction': 0.9918425373892008, 'bagging_fraction': 0.7763292056538085, 'bagging_freq': 10}. Best is trial 5 with value: -0.7036501689933446.\u001b[0m\n"
     ]
    },
    {
     "name": "stdout",
     "output_type": "stream",
     "text": [
      "Early stopping, best iteration is:\n",
      "[347]\ttraining's l1: 0.607363\tvalid_1's l1: 0.706714\n",
      "[LightGBM] [Warning] feature_fraction is set=0.9669039996934844, colsample_bytree=0.9 will be ignored. Current value: feature_fraction=0.9669039996934844\n",
      "[LightGBM] [Warning] bagging_fraction is set=0.7763189514482864, subsample=0.9 will be ignored. Current value: bagging_fraction=0.7763189514482864\n",
      "[LightGBM] [Warning] bagging_freq is set=10, subsample_freq=0 will be ignored. Current value: bagging_freq=10\n",
      "Training until validation scores don't improve for 100 rounds\n",
      "[100]\ttraining's l1: 0.615103\tvalid_1's l1: 0.721469\n",
      "[200]\ttraining's l1: 0.612446\tvalid_1's l1: 0.716433\n",
      "[300]\ttraining's l1: 0.609073\tvalid_1's l1: 0.71027\n",
      "[400]\ttraining's l1: 0.608521\tvalid_1's l1: 0.708905\n",
      "[500]\ttraining's l1: 0.608141\tvalid_1's l1: 0.708232\n"
     ]
    },
    {
     "name": "stderr",
     "output_type": "stream",
     "text": [
      "\u001b[32m[I 2021-07-06 11:08:35,902]\u001b[0m Trial 11 finished with value: -0.7082285728234767 and parameters: {'max_depth': 20, 'min_child_weight': 7, 'subsample': 0.9, 'colsample_bytree': 0.9, 'reg_lambda': 0.001942256145361357, 'reg_alpha': 0.0013786210247305273, 'feature_fraction': 0.9669039996934844, 'bagging_fraction': 0.7763189514482864, 'bagging_freq': 10}. Best is trial 5 with value: -0.7036501689933446.\u001b[0m\n"
     ]
    },
    {
     "name": "stdout",
     "output_type": "stream",
     "text": [
      "Early stopping, best iteration is:\n",
      "[468]\ttraining's l1: 0.608143\tvalid_1's l1: 0.70823\n",
      "[LightGBM] [Warning] feature_fraction is set=0.9793525322034604, colsample_bytree=0.9 will be ignored. Current value: feature_fraction=0.9793525322034604\n",
      "[LightGBM] [Warning] bagging_fraction is set=0.7526258127855409, subsample=0.9 will be ignored. Current value: bagging_fraction=0.7526258127855409\n",
      "[LightGBM] [Warning] bagging_freq is set=10, subsample_freq=0 will be ignored. Current value: bagging_freq=10\n",
      "Training until validation scores don't improve for 100 rounds\n",
      "[100]\ttraining's l1: 0.615451\tvalid_1's l1: 0.721834\n",
      "[200]\ttraining's l1: 0.613054\tvalid_1's l1: 0.717055\n",
      "[300]\ttraining's l1: 0.612124\tvalid_1's l1: 0.715203\n",
      "[400]\ttraining's l1: 0.610723\tvalid_1's l1: 0.712521\n",
      "[500]\ttraining's l1: 0.610683\tvalid_1's l1: 0.712451\n"
     ]
    },
    {
     "name": "stderr",
     "output_type": "stream",
     "text": [
      "\u001b[32m[I 2021-07-06 11:08:53,737]\u001b[0m Trial 12 finished with value: -0.7124503420146618 and parameters: {'max_depth': 19, 'min_child_weight': 5, 'subsample': 0.9, 'colsample_bytree': 0.9, 'reg_lambda': 0.0011043359871985028, 'reg_alpha': 0.005042081138062566, 'feature_fraction': 0.9793525322034604, 'bagging_fraction': 0.7526258127855409, 'bagging_freq': 10}. Best is trial 5 with value: -0.7036501689933446.\u001b[0m\n"
     ]
    },
    {
     "name": "stdout",
     "output_type": "stream",
     "text": [
      "Early stopping, best iteration is:\n",
      "[467]\ttraining's l1: 0.610683\tvalid_1's l1: 0.712451\n",
      "[LightGBM] [Warning] feature_fraction is set=0.592273221873008, colsample_bytree=0.8 will be ignored. Current value: feature_fraction=0.592273221873008\n",
      "[LightGBM] [Warning] bagging_fraction is set=0.4968419278804357, subsample=0.8 will be ignored. Current value: bagging_fraction=0.4968419278804357\n",
      "[LightGBM] [Warning] bagging_freq is set=9, subsample_freq=0 will be ignored. Current value: bagging_freq=9\n",
      "Training until validation scores don't improve for 100 rounds\n",
      "[100]\ttraining's l1: 0.611729\tvalid_1's l1: 0.7151\n",
      "[200]\ttraining's l1: 0.610732\tvalid_1's l1: 0.713559\n",
      "[300]\ttraining's l1: 0.610554\tvalid_1's l1: 0.713363\n",
      "[400]\ttraining's l1: 0.610337\tvalid_1's l1: 0.712818\n",
      "[500]\ttraining's l1: 0.609604\tvalid_1's l1: 0.711161\n"
     ]
    },
    {
     "name": "stderr",
     "output_type": "stream",
     "text": [
      "\u001b[32m[I 2021-07-06 11:09:10,244]\u001b[0m Trial 13 finished with value: -0.7111568817157435 and parameters: {'max_depth': 16, 'min_child_weight': 11, 'subsample': 0.8, 'colsample_bytree': 0.8, 'reg_lambda': 0.01580920291943981, 'reg_alpha': 0.38256411833899917, 'feature_fraction': 0.592273221873008, 'bagging_fraction': 0.4968419278804357, 'bagging_freq': 9}. Best is trial 5 with value: -0.7036501689933446.\u001b[0m\n"
     ]
    },
    {
     "name": "stdout",
     "output_type": "stream",
     "text": [
      "Early stopping, best iteration is:\n",
      "[474]\ttraining's l1: 0.609606\tvalid_1's l1: 0.71116\n",
      "[LightGBM] [Warning] feature_fraction is set=0.8950581187858129, colsample_bytree=0.8 will be ignored. Current value: feature_fraction=0.8950581187858129\n",
      "[LightGBM] [Warning] bagging_fraction is set=0.8532071759688442, subsample=0.7 will be ignored. Current value: bagging_fraction=0.8532071759688442\n",
      "[LightGBM] [Warning] bagging_freq is set=8, subsample_freq=0 will be ignored. Current value: bagging_freq=8\n",
      "Training until validation scores don't improve for 100 rounds\n",
      "[100]\ttraining's l1: 0.607885\tvalid_1's l1: 0.708169\n",
      "[200]\ttraining's l1: 0.604167\tvalid_1's l1: 0.700156\n",
      "[300]\ttraining's l1: 0.601777\tvalid_1's l1: 0.695357\n",
      "[400]\ttraining's l1: 0.600645\tvalid_1's l1: 0.693165\n",
      "[500]\ttraining's l1: 0.600182\tvalid_1's l1: 0.692333\n",
      "[600]\ttraining's l1: 0.598668\tvalid_1's l1: 0.689952\n",
      "[700]\ttraining's l1: 0.598549\tvalid_1's l1: 0.689723\n",
      "[800]\ttraining's l1: 0.597942\tvalid_1's l1: 0.689007\n",
      "[900]\ttraining's l1: 0.596878\tvalid_1's l1: 0.687214\n",
      "[1000]\ttraining's l1: 0.596224\tvalid_1's l1: 0.686329\n",
      "[1100]\ttraining's l1: 0.59613\tvalid_1's l1: 0.686189\n",
      "[1200]\ttraining's l1: 0.595855\tvalid_1's l1: 0.685682\n",
      "Early stopping, best iteration is:\n",
      "[1137]\ttraining's l1: 0.595861\tvalid_1's l1: 0.685671\n"
     ]
    },
    {
     "name": "stderr",
     "output_type": "stream",
     "text": [
      "\u001b[32m[I 2021-07-06 11:09:47,856]\u001b[0m Trial 14 finished with value: -0.6856517118483135 and parameters: {'max_depth': 4, 'min_child_weight': 12, 'subsample': 0.7, 'colsample_bytree': 0.8, 'reg_lambda': 0.023892756840769108, 'reg_alpha': 0.16366622121676577, 'feature_fraction': 0.8950581187858129, 'bagging_fraction': 0.8532071759688442, 'bagging_freq': 8}. Best is trial 14 with value: -0.6856517118483135.\u001b[0m\n"
     ]
    },
    {
     "name": "stdout",
     "output_type": "stream",
     "text": [
      "[LightGBM] [Warning] feature_fraction is set=0.8888582384490286, colsample_bytree=0.8 will be ignored. Current value: feature_fraction=0.8888582384490286\n",
      "[LightGBM] [Warning] bagging_fraction is set=0.842956406077735, subsample=0.7 will be ignored. Current value: bagging_fraction=0.842956406077735\n",
      "[LightGBM] [Warning] bagging_freq is set=8, subsample_freq=0 will be ignored. Current value: bagging_freq=8\n",
      "Training until validation scores don't improve for 100 rounds\n",
      "[100]\ttraining's l1: 0.623516\tvalid_1's l1: 0.732861\n",
      "[200]\ttraining's l1: 0.615908\tvalid_1's l1: 0.720832\n",
      "[300]\ttraining's l1: 0.614163\tvalid_1's l1: 0.717804\n",
      "[400]\ttraining's l1: 0.614163\tvalid_1's l1: 0.717804\n",
      "[500]\ttraining's l1: 0.613572\tvalid_1's l1: 0.717255\n"
     ]
    },
    {
     "name": "stderr",
     "output_type": "stream",
     "text": [
      "\u001b[32m[I 2021-07-06 11:10:04,573]\u001b[0m Trial 15 finished with value: -0.7172427082502493 and parameters: {'max_depth': 3, 'min_child_weight': 12, 'subsample': 0.7, 'colsample_bytree': 0.8, 'reg_lambda': 0.026027903299541934, 'reg_alpha': 0.3507932860966082, 'feature_fraction': 0.8888582384490286, 'bagging_fraction': 0.842956406077735, 'bagging_freq': 8}. Best is trial 14 with value: -0.6856517118483135.\u001b[0m\n"
     ]
    },
    {
     "name": "stdout",
     "output_type": "stream",
     "text": [
      "Early stopping, best iteration is:\n",
      "[493]\ttraining's l1: 0.613572\tvalid_1's l1: 0.717255\n",
      "[LightGBM] [Warning] feature_fraction is set=0.5397855274392509, colsample_bytree=0.8 will be ignored. Current value: feature_fraction=0.5397855274392509\n",
      "[LightGBM] [Warning] bagging_fraction is set=0.4066124213941402, subsample=0.7 will be ignored. Current value: bagging_fraction=0.4066124213941402\n",
      "[LightGBM] [Warning] bagging_freq is set=8, subsample_freq=0 will be ignored. Current value: bagging_freq=8\n",
      "Training until validation scores don't improve for 100 rounds\n",
      "[100]\ttraining's l1: 0.657924\tvalid_1's l1: 0.781726\n"
     ]
    },
    {
     "name": "stderr",
     "output_type": "stream",
     "text": [
      "\u001b[32m[I 2021-07-06 11:10:09,287]\u001b[0m Trial 16 finished with value: -0.7817223383349275 and parameters: {'max_depth': 1, 'min_child_weight': 13, 'subsample': 0.7, 'colsample_bytree': 0.8, 'reg_lambda': 0.026741336812803867, 'reg_alpha': 2.039272528004209, 'feature_fraction': 0.5397855274392509, 'bagging_fraction': 0.4066124213941402, 'bagging_freq': 8}. Best is trial 14 with value: -0.6856517118483135.\u001b[0m\n"
     ]
    },
    {
     "name": "stdout",
     "output_type": "stream",
     "text": [
      "Early stopping, best iteration is:\n",
      "[82]\ttraining's l1: 0.657925\tvalid_1's l1: 0.781722\n",
      "[LightGBM] [Warning] feature_fraction is set=0.9029764956350891, colsample_bytree=0.8 will be ignored. Current value: feature_fraction=0.9029764956350891\n",
      "[LightGBM] [Warning] bagging_fraction is set=0.7099411896814387, subsample=0.8 will be ignored. Current value: bagging_fraction=0.7099411896814387\n",
      "[LightGBM] [Warning] bagging_freq is set=6, subsample_freq=0 will be ignored. Current value: bagging_freq=6\n",
      "Training until validation scores don't improve for 100 rounds\n",
      "[100]\ttraining's l1: 0.600552\tvalid_1's l1: 0.698029\n",
      "[200]\ttraining's l1: 0.59749\tvalid_1's l1: 0.692502\n",
      "[300]\ttraining's l1: 0.594864\tvalid_1's l1: 0.687484\n",
      "[400]\ttraining's l1: 0.594396\tvalid_1's l1: 0.687011\n",
      "[500]\ttraining's l1: 0.59406\tvalid_1's l1: 0.686658\n",
      "[600]\ttraining's l1: 0.593467\tvalid_1's l1: 0.685636\n",
      "[700]\ttraining's l1: 0.59328\tvalid_1's l1: 0.685337\n",
      "[800]\ttraining's l1: 0.593003\tvalid_1's l1: 0.684795\n",
      "[900]\ttraining's l1: 0.592857\tvalid_1's l1: 0.684891\n",
      "[1000]\ttraining's l1: 0.592531\tvalid_1's l1: 0.684306\n",
      "[1100]\ttraining's l1: 0.592104\tvalid_1's l1: 0.683854\n",
      "[1200]\ttraining's l1: 0.592099\tvalid_1's l1: 0.683843\n",
      "[1300]\ttraining's l1: 0.592094\tvalid_1's l1: 0.683834\n",
      "Early stopping, best iteration is:\n",
      "[1294]\ttraining's l1: 0.592094\tvalid_1's l1: 0.683832\n"
     ]
    },
    {
     "name": "stderr",
     "output_type": "stream",
     "text": [
      "\u001b[32m[I 2021-07-06 11:10:50,116]\u001b[0m Trial 17 finished with value: -0.683818101536389 and parameters: {'max_depth': 5, 'min_child_weight': 4, 'subsample': 0.8, 'colsample_bytree': 0.8, 'reg_lambda': 0.09412695371723136, 'reg_alpha': 0.09872995708078576, 'feature_fraction': 0.9029764956350891, 'bagging_fraction': 0.7099411896814387, 'bagging_freq': 6}. Best is trial 17 with value: -0.683818101536389.\u001b[0m\n"
     ]
    },
    {
     "name": "stdout",
     "output_type": "stream",
     "text": [
      "[LightGBM] [Warning] feature_fraction is set=0.9039508002937436, colsample_bytree=0.8 will be ignored. Current value: feature_fraction=0.9039508002937436\n",
      "[LightGBM] [Warning] bagging_fraction is set=0.6963486861374594, subsample=0.8 will be ignored. Current value: bagging_fraction=0.6963486861374594\n",
      "[LightGBM] [Warning] bagging_freq is set=4, subsample_freq=0 will be ignored. Current value: bagging_freq=4\n",
      "Training until validation scores don't improve for 100 rounds\n",
      "[100]\ttraining's l1: 0.606504\tvalid_1's l1: 0.705499\n",
      "[200]\ttraining's l1: 0.604931\tvalid_1's l1: 0.702852\n"
     ]
    },
    {
     "name": "stderr",
     "output_type": "stream",
     "text": [
      "\u001b[32m[I 2021-07-06 11:11:01,187]\u001b[0m Trial 18 finished with value: -0.7028483690255588 and parameters: {'max_depth': 6, 'min_child_weight': 4, 'subsample': 0.8, 'colsample_bytree': 0.8, 'reg_lambda': 0.06723417777249704, 'reg_alpha': 0.13143844935399038, 'feature_fraction': 0.9039508002937436, 'bagging_fraction': 0.6963486861374594, 'bagging_freq': 4}. Best is trial 17 with value: -0.683818101536389.\u001b[0m\n"
     ]
    },
    {
     "name": "stdout",
     "output_type": "stream",
     "text": [
      "Early stopping, best iteration is:\n",
      "[198]\ttraining's l1: 0.604932\tvalid_1's l1: 0.702851\n",
      "[LightGBM] [Warning] feature_fraction is set=0.9238781985752965, colsample_bytree=0.9 will be ignored. Current value: feature_fraction=0.9238781985752965\n",
      "[LightGBM] [Warning] bagging_fraction is set=0.5446616610237044, subsample=0.8 will be ignored. Current value: bagging_fraction=0.5446616610237044\n",
      "[LightGBM] [Warning] bagging_freq is set=6, subsample_freq=0 will be ignored. Current value: bagging_freq=6\n",
      "Training until validation scores don't improve for 100 rounds\n",
      "[100]\ttraining's l1: 0.60957\tvalid_1's l1: 0.710356\n",
      "[200]\ttraining's l1: 0.606604\tvalid_1's l1: 0.704193\n",
      "[300]\ttraining's l1: 0.604571\tvalid_1's l1: 0.699999\n",
      "[400]\ttraining's l1: 0.603449\tvalid_1's l1: 0.697665\n",
      "[500]\ttraining's l1: 0.602887\tvalid_1's l1: 0.696646\n",
      "[600]\ttraining's l1: 0.601424\tvalid_1's l1: 0.694505\n",
      "[700]\ttraining's l1: 0.601046\tvalid_1's l1: 0.694143\n"
     ]
    },
    {
     "name": "stderr",
     "output_type": "stream",
     "text": [
      "\u001b[32m[I 2021-07-06 11:11:19,549]\u001b[0m Trial 19 finished with value: -0.6940875003307836 and parameters: {'max_depth': 4, 'min_child_weight': 14, 'subsample': 0.8, 'colsample_bytree': 0.9, 'reg_lambda': 0.0077497309856148855, 'reg_alpha': 4.874213841395689, 'feature_fraction': 0.9238781985752965, 'bagging_fraction': 0.5446616610237044, 'bagging_freq': 6}. Best is trial 17 with value: -0.683818101536389.\u001b[0m\n"
     ]
    },
    {
     "name": "stdout",
     "output_type": "stream",
     "text": [
      "Early stopping, best iteration is:\n",
      "[656]\ttraining's l1: 0.601077\tvalid_1's l1: 0.694097\n",
      "[LightGBM] [Warning] feature_fraction is set=0.7894103982920178, colsample_bytree=0.8 will be ignored. Current value: feature_fraction=0.7894103982920178\n",
      "[LightGBM] [Warning] bagging_fraction is set=0.861429305646318, subsample=0.8 will be ignored. Current value: bagging_fraction=0.861429305646318\n",
      "[LightGBM] [Warning] bagging_freq is set=8, subsample_freq=0 will be ignored. Current value: bagging_freq=8\n",
      "Training until validation scores don't improve for 100 rounds\n",
      "[100]\ttraining's l1: 0.612232\tvalid_1's l1: 0.716162\n",
      "[200]\ttraining's l1: 0.609746\tvalid_1's l1: 0.711622\n",
      "[300]\ttraining's l1: 0.609743\tvalid_1's l1: 0.711619\n"
     ]
    },
    {
     "name": "stderr",
     "output_type": "stream",
     "text": [
      "\u001b[32m[I 2021-07-06 11:11:33,099]\u001b[0m Trial 20 finished with value: -0.711618393465322 and parameters: {'max_depth': 8, 'min_child_weight': 3, 'subsample': 0.8, 'colsample_bytree': 0.8, 'reg_lambda': 0.17474564006379326, 'reg_alpha': 0.35506961595178105, 'feature_fraction': 0.7894103982920178, 'bagging_fraction': 0.861429305646318, 'bagging_freq': 8}. Best is trial 17 with value: -0.683818101536389.\u001b[0m\n"
     ]
    },
    {
     "name": "stdout",
     "output_type": "stream",
     "text": [
      "Early stopping, best iteration is:\n",
      "[262]\ttraining's l1: 0.609743\tvalid_1's l1: 0.711619\n",
      "[LightGBM] [Warning] feature_fraction is set=0.9241744324213285, colsample_bytree=0.9 will be ignored. Current value: feature_fraction=0.9241744324213285\n",
      "[LightGBM] [Warning] bagging_fraction is set=0.578293565069343, subsample=0.8 will be ignored. Current value: bagging_fraction=0.578293565069343\n",
      "[LightGBM] [Warning] bagging_freq is set=6, subsample_freq=0 will be ignored. Current value: bagging_freq=6\n",
      "Training until validation scores don't improve for 100 rounds\n",
      "[100]\ttraining's l1: 0.607669\tvalid_1's l1: 0.707709\n",
      "[200]\ttraining's l1: 0.604393\tvalid_1's l1: 0.700696\n",
      "[300]\ttraining's l1: 0.603943\tvalid_1's l1: 0.700195\n",
      "[400]\ttraining's l1: 0.603941\tvalid_1's l1: 0.700194\n",
      "[500]\ttraining's l1: 0.603941\tvalid_1's l1: 0.700194\n"
     ]
    },
    {
     "name": "stderr",
     "output_type": "stream",
     "text": [
      "\u001b[32m[I 2021-07-06 11:11:46,898]\u001b[0m Trial 21 finished with value: -0.7001919024633815 and parameters: {'max_depth': 4, 'min_child_weight': 14, 'subsample': 0.8, 'colsample_bytree': 0.9, 'reg_lambda': 0.006740882369726829, 'reg_alpha': 4.398238406230612, 'feature_fraction': 0.9241744324213285, 'bagging_fraction': 0.578293565069343, 'bagging_freq': 6}. Best is trial 17 with value: -0.683818101536389.\u001b[0m\n"
     ]
    },
    {
     "name": "stdout",
     "output_type": "stream",
     "text": [
      "Early stopping, best iteration is:\n",
      "[444]\ttraining's l1: 0.603941\tvalid_1's l1: 0.700194\n",
      "[LightGBM] [Warning] feature_fraction is set=0.9434027542370582, colsample_bytree=0.9 will be ignored. Current value: feature_fraction=0.9434027542370582\n",
      "[LightGBM] [Warning] bagging_fraction is set=0.46348823535306016, subsample=0.7 will be ignored. Current value: bagging_fraction=0.46348823535306016\n",
      "[LightGBM] [Warning] bagging_freq is set=4, subsample_freq=0 will be ignored. Current value: bagging_freq=4\n",
      "Training until validation scores don't improve for 100 rounds\n",
      "[100]\ttraining's l1: 0.666454\tvalid_1's l1: 0.790833\n",
      "[200]\ttraining's l1: 0.666436\tvalid_1's l1: 0.790799\n"
     ]
    },
    {
     "name": "stderr",
     "output_type": "stream",
     "text": [
      "\u001b[32m[I 2021-07-06 11:11:52,940]\u001b[0m Trial 22 finished with value: -0.7907882505231593 and parameters: {'max_depth': 1, 'min_child_weight': 14, 'subsample': 0.7, 'colsample_bytree': 0.9, 'reg_lambda': 0.006794008916378475, 'reg_alpha': 6.669613205474837, 'feature_fraction': 0.9434027542370582, 'bagging_fraction': 0.46348823535306016, 'bagging_freq': 4}. Best is trial 17 with value: -0.683818101536389.\u001b[0m\n"
     ]
    },
    {
     "name": "stdout",
     "output_type": "stream",
     "text": [
      "Early stopping, best iteration is:\n",
      "[153]\ttraining's l1: 0.666441\tvalid_1's l1: 0.790788\n",
      "[LightGBM] [Warning] feature_fraction is set=0.8677201508574297, colsample_bytree=0.8 will be ignored. Current value: feature_fraction=0.8677201508574297\n",
      "[LightGBM] [Warning] bagging_fraction is set=0.703802107504901, subsample=0.9 will be ignored. Current value: bagging_fraction=0.703802107504901\n",
      "[LightGBM] [Warning] bagging_freq is set=6, subsample_freq=0 will be ignored. Current value: bagging_freq=6\n",
      "Training until validation scores don't improve for 100 rounds\n",
      "[100]\ttraining's l1: 0.599186\tvalid_1's l1: 0.693517\n",
      "[200]\ttraining's l1: 0.597547\tvalid_1's l1: 0.69019\n",
      "[300]\ttraining's l1: 0.595948\tvalid_1's l1: 0.68773\n",
      "[400]\ttraining's l1: 0.593786\tvalid_1's l1: 0.684256\n",
      "[500]\ttraining's l1: 0.593049\tvalid_1's l1: 0.683092\n",
      "[600]\ttraining's l1: 0.592505\tvalid_1's l1: 0.682749\n",
      "[700]\ttraining's l1: 0.592469\tvalid_1's l1: 0.682722\n",
      "[800]\ttraining's l1: 0.592457\tvalid_1's l1: 0.682712\n",
      "[900]\ttraining's l1: 0.592451\tvalid_1's l1: 0.6827\n",
      "Early stopping, best iteration is:\n",
      "[877]\ttraining's l1: 0.592451\tvalid_1's l1: 0.682699\n"
     ]
    },
    {
     "name": "stderr",
     "output_type": "stream",
     "text": [
      "\u001b[32m[I 2021-07-06 11:12:21,637]\u001b[0m Trial 23 finished with value: -0.6826840493578933 and parameters: {'max_depth': 5, 'min_child_weight': 9, 'subsample': 0.9, 'colsample_bytree': 0.8, 'reg_lambda': 0.08888143035232435, 'reg_alpha': 0.8456634347621214, 'feature_fraction': 0.8677201508574297, 'bagging_fraction': 0.703802107504901, 'bagging_freq': 6}. Best is trial 23 with value: -0.6826840493578933.\u001b[0m\n"
     ]
    },
    {
     "name": "stdout",
     "output_type": "stream",
     "text": [
      "[LightGBM] [Warning] feature_fraction is set=0.8499928138032521, colsample_bytree=0.7 will be ignored. Current value: feature_fraction=0.8499928138032521\n",
      "[LightGBM] [Warning] bagging_fraction is set=0.7333595114470776, subsample=0.9 will be ignored. Current value: bagging_fraction=0.7333595114470776\n",
      "[LightGBM] [Warning] bagging_freq is set=9, subsample_freq=0 will be ignored. Current value: bagging_freq=9\n",
      "Training until validation scores don't improve for 100 rounds\n",
      "[100]\ttraining's l1: 0.604081\tvalid_1's l1: 0.702027\n",
      "[200]\ttraining's l1: 0.603661\tvalid_1's l1: 0.701348\n"
     ]
    },
    {
     "name": "stderr",
     "output_type": "stream",
     "text": [
      "\u001b[32m[I 2021-07-06 11:12:30,266]\u001b[0m Trial 24 finished with value: -0.7013471449407775 and parameters: {'max_depth': 6, 'min_child_weight': 10, 'subsample': 0.9, 'colsample_bytree': 0.7, 'reg_lambda': 0.09080945903274679, 'reg_alpha': 0.08500362698934893, 'feature_fraction': 0.8499928138032521, 'bagging_fraction': 0.7333595114470776, 'bagging_freq': 9}. Best is trial 23 with value: -0.6826840493578933.\u001b[0m\n"
     ]
    },
    {
     "name": "stdout",
     "output_type": "stream",
     "text": [
      "Early stopping, best iteration is:\n",
      "[152]\ttraining's l1: 0.603663\tvalid_1's l1: 0.701348\n",
      "[LightGBM] [Warning] feature_fraction is set=0.7925836812400939, colsample_bytree=0.8 will be ignored. Current value: feature_fraction=0.7925836812400939\n",
      "[LightGBM] [Warning] bagging_fraction is set=0.6899021777033072, subsample=0.9 will be ignored. Current value: bagging_fraction=0.6899021777033072\n",
      "[LightGBM] [Warning] bagging_freq is set=5, subsample_freq=0 will be ignored. Current value: bagging_freq=5\n",
      "Training until validation scores don't improve for 100 rounds\n",
      "[100]\ttraining's l1: 0.641124\tvalid_1's l1: 0.759441\n",
      "[200]\ttraining's l1: 0.638285\tvalid_1's l1: 0.755123\n"
     ]
    },
    {
     "name": "stderr",
     "output_type": "stream",
     "text": [
      "\u001b[32m[I 2021-07-06 11:12:37,121]\u001b[0m Trial 25 finished with value: -0.7551222851722208 and parameters: {'max_depth': 2, 'min_child_weight': 6, 'subsample': 0.9, 'colsample_bytree': 0.8, 'reg_lambda': 1.2911890620738058, 'reg_alpha': 0.6899462486616518, 'feature_fraction': 0.7925836812400939, 'bagging_fraction': 0.6899021777033072, 'bagging_freq': 5}. Best is trial 23 with value: -0.6826840493578933.\u001b[0m\n"
     ]
    },
    {
     "name": "stdout",
     "output_type": "stream",
     "text": [
      "Early stopping, best iteration is:\n",
      "[132]\ttraining's l1: 0.638285\tvalid_1's l1: 0.755123\n",
      "[LightGBM] [Warning] feature_fraction is set=0.861791561772217, colsample_bytree=0.8 will be ignored. Current value: feature_fraction=0.861791561772217\n",
      "[LightGBM] [Warning] bagging_fraction is set=0.8051971501904648, subsample=0.9 will be ignored. Current value: bagging_fraction=0.8051971501904648\n",
      "[LightGBM] [Warning] bagging_freq is set=7, subsample_freq=0 will be ignored. Current value: bagging_freq=7\n",
      "Training until validation scores don't improve for 100 rounds\n",
      "[100]\ttraining's l1: 0.603671\tvalid_1's l1: 0.702035\n",
      "[200]\ttraining's l1: 0.603635\tvalid_1's l1: 0.702025\n"
     ]
    },
    {
     "name": "stderr",
     "output_type": "stream",
     "text": [
      "\u001b[32m[I 2021-07-06 11:12:47,628]\u001b[0m Trial 26 finished with value: -0.7020175598965039 and parameters: {'max_depth': 6, 'min_child_weight': 10, 'subsample': 0.9, 'colsample_bytree': 0.8, 'reg_lambda': 0.06693075538457605, 'reg_alpha': 0.007266935881898647, 'feature_fraction': 0.861791561772217, 'bagging_fraction': 0.8051971501904648, 'bagging_freq': 7}. Best is trial 23 with value: -0.6826840493578933.\u001b[0m\n"
     ]
    },
    {
     "name": "stdout",
     "output_type": "stream",
     "text": [
      "Early stopping, best iteration is:\n",
      "[186]\ttraining's l1: 0.603639\tvalid_1's l1: 0.702021\n",
      "[LightGBM] [Warning] feature_fraction is set=0.7276541013336404, colsample_bytree=0.7 will be ignored. Current value: feature_fraction=0.7276541013336404\n",
      "[LightGBM] [Warning] bagging_fraction is set=0.5938007480333777, subsample=0.8 will be ignored. Current value: bagging_fraction=0.5938007480333777\n",
      "[LightGBM] [Warning] bagging_freq is set=4, subsample_freq=0 will be ignored. Current value: bagging_freq=4\n",
      "Training until validation scores don't improve for 100 rounds\n",
      "[100]\ttraining's l1: 0.602749\tvalid_1's l1: 0.701324\n",
      "[200]\ttraining's l1: 0.602207\tvalid_1's l1: 0.700613\n",
      "[300]\ttraining's l1: 0.60187\tvalid_1's l1: 0.699855\n",
      "[400]\ttraining's l1: 0.60186\tvalid_1's l1: 0.699843\n",
      "[500]\ttraining's l1: 0.601691\tvalid_1's l1: 0.699627\n"
     ]
    },
    {
     "name": "stderr",
     "output_type": "stream",
     "text": [
      "\u001b[32m[I 2021-07-06 11:13:04,253]\u001b[0m Trial 27 finished with value: -0.6996188912903433 and parameters: {'max_depth': 5, 'min_child_weight': 3, 'subsample': 0.8, 'colsample_bytree': 0.7, 'reg_lambda': 0.30478228857266654, 'reg_alpha': 0.14483775804641633, 'feature_fraction': 0.7276541013336404, 'bagging_fraction': 0.5938007480333777, 'bagging_freq': 4}. Best is trial 23 with value: -0.6826840493578933.\u001b[0m\n"
     ]
    },
    {
     "name": "stdout",
     "output_type": "stream",
     "text": [
      "Early stopping, best iteration is:\n",
      "[470]\ttraining's l1: 0.601692\tvalid_1's l1: 0.699621\n",
      "[LightGBM] [Warning] feature_fraction is set=0.8060544141857298, colsample_bytree=0.8 will be ignored. Current value: feature_fraction=0.8060544141857298\n",
      "[LightGBM] [Warning] bagging_fraction is set=0.8980694688014714, subsample=0.7 will be ignored. Current value: bagging_fraction=0.8980694688014714\n",
      "[LightGBM] [Warning] bagging_freq is set=9, subsample_freq=0 will be ignored. Current value: bagging_freq=9\n",
      "Training until validation scores don't improve for 100 rounds\n",
      "[100]\ttraining's l1: 0.613323\tvalid_1's l1: 0.717894\n",
      "[200]\ttraining's l1: 0.61176\tvalid_1's l1: 0.714755\n",
      "[300]\ttraining's l1: 0.611176\tvalid_1's l1: 0.713662\n",
      "[400]\ttraining's l1: 0.61108\tvalid_1's l1: 0.713484\n",
      "[500]\ttraining's l1: 0.611079\tvalid_1's l1: 0.713483\n"
     ]
    },
    {
     "name": "stderr",
     "output_type": "stream",
     "text": [
      "\u001b[32m[I 2021-07-06 11:13:23,139]\u001b[0m Trial 28 finished with value: -0.7134829612405903 and parameters: {'max_depth': 9, 'min_child_weight': 8, 'subsample': 0.7, 'colsample_bytree': 0.8, 'reg_lambda': 0.02871779383245806, 'reg_alpha': 0.03023290947614381, 'feature_fraction': 0.8060544141857298, 'bagging_fraction': 0.8980694688014714, 'bagging_freq': 9}. Best is trial 23 with value: -0.6826840493578933.\u001b[0m\n"
     ]
    },
    {
     "name": "stdout",
     "output_type": "stream",
     "text": [
      "Early stopping, best iteration is:\n",
      "[441]\ttraining's l1: 0.611079\tvalid_1's l1: 0.713483\n",
      "[LightGBM] [Warning] feature_fraction is set=0.882980786198805, colsample_bytree=0.7 will be ignored. Current value: feature_fraction=0.882980786198805\n",
      "[LightGBM] [Warning] bagging_fraction is set=0.6371620245759894, subsample=0.5 will be ignored. Current value: bagging_fraction=0.6371620245759894\n",
      "[LightGBM] [Warning] bagging_freq is set=6, subsample_freq=0 will be ignored. Current value: bagging_freq=6\n",
      "Training until validation scores don't improve for 100 rounds\n",
      "[100]\ttraining's l1: 0.61315\tvalid_1's l1: 0.718529\n",
      "[200]\ttraining's l1: 0.610892\tvalid_1's l1: 0.713819\n"
     ]
    },
    {
     "name": "stderr",
     "output_type": "stream",
     "text": [
      "\u001b[32m[I 2021-07-06 11:13:33,013]\u001b[0m Trial 29 finished with value: -0.7138175374500647 and parameters: {'max_depth': 10, 'min_child_weight': 12, 'subsample': 0.5, 'colsample_bytree': 0.7, 'reg_lambda': 3.4182369879480543, 'reg_alpha': 0.7236374559960771, 'feature_fraction': 0.882980786198805, 'bagging_fraction': 0.6371620245759894, 'bagging_freq': 6}. Best is trial 23 with value: -0.6826840493578933.\u001b[0m\n"
     ]
    },
    {
     "name": "stdout",
     "output_type": "stream",
     "text": [
      "Early stopping, best iteration is:\n",
      "[196]\ttraining's l1: 0.610892\tvalid_1's l1: 0.713819\n",
      "[LightGBM] [Warning] feature_fraction is set=0.6690615289819627, colsample_bytree=0.8 will be ignored. Current value: feature_fraction=0.6690615289819627\n",
      "[LightGBM] [Warning] bagging_fraction is set=0.7244248221937543, subsample=0.8 will be ignored. Current value: bagging_fraction=0.7244248221937543\n",
      "[LightGBM] [Warning] bagging_freq is set=8, subsample_freq=0 will be ignored. Current value: bagging_freq=8\n",
      "Training until validation scores don't improve for 100 rounds\n",
      "[100]\ttraining's l1: 0.613477\tvalid_1's l1: 0.718176\n",
      "[200]\ttraining's l1: 0.61256\tvalid_1's l1: 0.717011\n",
      "[300]\ttraining's l1: 0.612075\tvalid_1's l1: 0.716196\n",
      "[400]\ttraining's l1: 0.612074\tvalid_1's l1: 0.716196\n"
     ]
    },
    {
     "name": "stderr",
     "output_type": "stream",
     "text": [
      "\u001b[32m[I 2021-07-06 11:13:47,221]\u001b[0m Trial 30 finished with value: -0.7161947700580272 and parameters: {'max_depth': 14, 'min_child_weight': 9, 'subsample': 0.8, 'colsample_bytree': 0.8, 'reg_lambda': 0.11474926269998036, 'reg_alpha': 1.3529201459790967, 'feature_fraction': 0.6690615289819627, 'bagging_fraction': 0.7244248221937543, 'bagging_freq': 8}. Best is trial 23 with value: -0.6826840493578933.\u001b[0m\n"
     ]
    },
    {
     "name": "stdout",
     "output_type": "stream",
     "text": [
      "Early stopping, best iteration is:\n",
      "[349]\ttraining's l1: 0.612075\tvalid_1's l1: 0.716196\n",
      "[LightGBM] [Warning] feature_fraction is set=0.9440638447103517, colsample_bytree=0.9 will be ignored. Current value: feature_fraction=0.9440638447103517\n",
      "[LightGBM] [Warning] bagging_fraction is set=0.5836319637817329, subsample=0.8 will be ignored. Current value: bagging_fraction=0.5836319637817329\n",
      "[LightGBM] [Warning] bagging_freq is set=6, subsample_freq=0 will be ignored. Current value: bagging_freq=6\n",
      "Training until validation scores don't improve for 100 rounds\n",
      "[100]\ttraining's l1: 0.607559\tvalid_1's l1: 0.706599\n",
      "[200]\ttraining's l1: 0.605316\tvalid_1's l1: 0.702281\n",
      "[300]\ttraining's l1: 0.604622\tvalid_1's l1: 0.700986\n",
      "[400]\ttraining's l1: 0.603477\tvalid_1's l1: 0.699309\n",
      "[500]\ttraining's l1: 0.601102\tvalid_1's l1: 0.694575\n",
      "[600]\ttraining's l1: 0.599487\tvalid_1's l1: 0.691829\n",
      "[700]\ttraining's l1: 0.59921\tvalid_1's l1: 0.691707\n",
      "[800]\ttraining's l1: 0.598715\tvalid_1's l1: 0.690284\n",
      "[900]\ttraining's l1: 0.597263\tvalid_1's l1: 0.68752\n",
      "[1000]\ttraining's l1: 0.59714\tvalid_1's l1: 0.687404\n",
      "[1100]\ttraining's l1: 0.597063\tvalid_1's l1: 0.687126\n",
      "Early stopping, best iteration is:\n",
      "[1013]\ttraining's l1: 0.597066\tvalid_1's l1: 0.68711\n"
     ]
    },
    {
     "name": "stderr",
     "output_type": "stream",
     "text": [
      "\u001b[32m[I 2021-07-06 11:14:14,653]\u001b[0m Trial 31 finished with value: -0.6870619669462772 and parameters: {'max_depth': 4, 'min_child_weight': 14, 'subsample': 0.8, 'colsample_bytree': 0.9, 'reg_lambda': 0.005066189063453403, 'reg_alpha': 4.616602479775035, 'feature_fraction': 0.9440638447103517, 'bagging_fraction': 0.5836319637817329, 'bagging_freq': 6}. Best is trial 23 with value: -0.6826840493578933.\u001b[0m\n"
     ]
    },
    {
     "name": "stdout",
     "output_type": "stream",
     "text": [
      "[LightGBM] [Warning] feature_fraction is set=0.9481713516210181, colsample_bytree=0.9 will be ignored. Current value: feature_fraction=0.9481713516210181\n",
      "[LightGBM] [Warning] bagging_fraction is set=0.6618426346052704, subsample=0.7 will be ignored. Current value: bagging_fraction=0.6618426346052704\n",
      "[LightGBM] [Warning] bagging_freq is set=5, subsample_freq=0 will be ignored. Current value: bagging_freq=5\n",
      "Training until validation scores don't improve for 100 rounds\n",
      "[100]\ttraining's l1: 0.62268\tvalid_1's l1: 0.731609\n",
      "[200]\ttraining's l1: 0.618626\tvalid_1's l1: 0.724884\n",
      "[300]\ttraining's l1: 0.618531\tvalid_1's l1: 0.724822\n",
      "[400]\ttraining's l1: 0.617703\tvalid_1's l1: 0.723271\n",
      "[500]\ttraining's l1: 0.617701\tvalid_1's l1: 0.72327\n",
      "[600]\ttraining's l1: 0.617701\tvalid_1's l1: 0.72327\n"
     ]
    },
    {
     "name": "stderr",
     "output_type": "stream",
     "text": [
      "\u001b[32m[I 2021-07-06 11:14:31,373]\u001b[0m Trial 32 finished with value: -0.7232682165096043 and parameters: {'max_depth': 3, 'min_child_weight': 20, 'subsample': 0.7, 'colsample_bytree': 0.9, 'reg_lambda': 0.003456380616327578, 'reg_alpha': 27.51008674551719, 'feature_fraction': 0.9481713516210181, 'bagging_fraction': 0.6618426346052704, 'bagging_freq': 5}. Best is trial 23 with value: -0.6826840493578933.\u001b[0m\n"
     ]
    },
    {
     "name": "stdout",
     "output_type": "stream",
     "text": [
      "Early stopping, best iteration is:\n",
      "[537]\ttraining's l1: 0.617701\tvalid_1's l1: 0.72327\n",
      "[LightGBM] [Warning] feature_fraction is set=0.9936391672888073, colsample_bytree=0.9 will be ignored. Current value: feature_fraction=0.9936391672888073\n",
      "[LightGBM] [Warning] bagging_fraction is set=0.5950661677447866, subsample=0.9 will be ignored. Current value: bagging_fraction=0.5950661677447866\n",
      "[LightGBM] [Warning] bagging_freq is set=7, subsample_freq=0 will be ignored. Current value: bagging_freq=7\n",
      "Training until validation scores don't improve for 100 rounds\n",
      "[100]\ttraining's l1: 0.610591\tvalid_1's l1: 0.715091\n",
      "[200]\ttraining's l1: 0.609261\tvalid_1's l1: 0.712711\n"
     ]
    },
    {
     "name": "stderr",
     "output_type": "stream",
     "text": [
      "\u001b[32m[I 2021-07-06 11:14:39,093]\u001b[0m Trial 33 finished with value: -0.7126970069161331 and parameters: {'max_depth': 7, 'min_child_weight': 12, 'subsample': 0.9, 'colsample_bytree': 0.9, 'reg_lambda': 0.013252199850224548, 'reg_alpha': 9.11379474426319, 'feature_fraction': 0.9936391672888073, 'bagging_fraction': 0.5950661677447866, 'bagging_freq': 7}. Best is trial 23 with value: -0.6826840493578933.\u001b[0m\n"
     ]
    },
    {
     "name": "stdout",
     "output_type": "stream",
     "text": [
      "Early stopping, best iteration is:\n",
      "[134]\ttraining's l1: 0.609262\tvalid_1's l1: 0.712698\n",
      "[LightGBM] [Warning] feature_fraction is set=0.8934021222210684, colsample_bytree=0.8 will be ignored. Current value: feature_fraction=0.8934021222210684\n",
      "[LightGBM] [Warning] bagging_fraction is set=0.6686447691511029, subsample=0.6 will be ignored. Current value: bagging_fraction=0.6686447691511029\n",
      "[LightGBM] [Warning] bagging_freq is set=3, subsample_freq=0 will be ignored. Current value: bagging_freq=3\n",
      "Training until validation scores don't improve for 100 rounds\n",
      "[100]\ttraining's l1: 0.602576\tvalid_1's l1: 0.699079\n",
      "[200]\ttraining's l1: 0.601092\tvalid_1's l1: 0.696291\n",
      "[300]\ttraining's l1: 0.599215\tvalid_1's l1: 0.692741\n",
      "[400]\ttraining's l1: 0.598021\tvalid_1's l1: 0.690449\n",
      "[500]\ttraining's l1: 0.597101\tvalid_1's l1: 0.689367\n",
      "[600]\ttraining's l1: 0.594324\tvalid_1's l1: 0.684827\n",
      "[700]\ttraining's l1: 0.593618\tvalid_1's l1: 0.683515\n",
      "[800]\ttraining's l1: 0.593528\tvalid_1's l1: 0.683396\n",
      "Early stopping, best iteration is:\n",
      "[794]\ttraining's l1: 0.593529\tvalid_1's l1: 0.683394\n"
     ]
    },
    {
     "name": "stderr",
     "output_type": "stream",
     "text": [
      "\u001b[32m[I 2021-07-06 11:15:10,106]\u001b[0m Trial 34 finished with value: -0.6833695459359207 and parameters: {'max_depth': 5, 'min_child_weight': 15, 'subsample': 0.6, 'colsample_bytree': 0.8, 'reg_lambda': 0.2955906841249726, 'reg_alpha': 99.23975245069116, 'feature_fraction': 0.8934021222210684, 'bagging_fraction': 0.6686447691511029, 'bagging_freq': 3}. Best is trial 23 with value: -0.6826840493578933.\u001b[0m\n"
     ]
    },
    {
     "name": "stdout",
     "output_type": "stream",
     "text": [
      "[LightGBM] [Warning] feature_fraction is set=0.8347564338810779, colsample_bytree=0.8 will be ignored. Current value: feature_fraction=0.8347564338810779\n",
      "[LightGBM] [Warning] bagging_fraction is set=0.6694860108901033, subsample=0.6 will be ignored. Current value: bagging_fraction=0.6694860108901033\n",
      "[LightGBM] [Warning] bagging_freq is set=2, subsample_freq=0 will be ignored. Current value: bagging_freq=2\n",
      "Training until validation scores don't improve for 100 rounds\n",
      "[100]\ttraining's l1: 0.611638\tvalid_1's l1: 0.714428\n",
      "[200]\ttraining's l1: 0.61162\tvalid_1's l1: 0.714417\n",
      "[300]\ttraining's l1: 0.611591\tvalid_1's l1: 0.714317\n",
      "[400]\ttraining's l1: 0.611589\tvalid_1's l1: 0.714317\n",
      "[500]\ttraining's l1: 0.611583\tvalid_1's l1: 0.714313\n",
      "[600]\ttraining's l1: 0.611215\tvalid_1's l1: 0.713267\n",
      "[700]\ttraining's l1: 0.611204\tvalid_1's l1: 0.71322\n",
      "[800]\ttraining's l1: 0.611186\tvalid_1's l1: 0.713184\n",
      "[900]\ttraining's l1: 0.611139\tvalid_1's l1: 0.71304\n",
      "Early stopping, best iteration is:\n",
      "[832]\ttraining's l1: 0.611139\tvalid_1's l1: 0.71304\n"
     ]
    },
    {
     "name": "stderr",
     "output_type": "stream",
     "text": [
      "\u001b[32m[I 2021-07-06 11:15:47,459]\u001b[0m Trial 35 finished with value: -0.7130324890932155 and parameters: {'max_depth': 7, 'min_child_weight': 16, 'subsample': 0.6, 'colsample_bytree': 0.8, 'reg_lambda': 0.525907286430525, 'reg_alpha': 181.92244916508912, 'feature_fraction': 0.8347564338810779, 'bagging_fraction': 0.6694860108901033, 'bagging_freq': 2}. Best is trial 23 with value: -0.6826840493578933.\u001b[0m\n"
     ]
    },
    {
     "name": "stdout",
     "output_type": "stream",
     "text": [
      "[LightGBM] [Warning] feature_fraction is set=0.8826170094927684, colsample_bytree=0.7 will be ignored. Current value: feature_fraction=0.8826170094927684\n",
      "[LightGBM] [Warning] bagging_fraction is set=0.6346911003235937, subsample=0.6 will be ignored. Current value: bagging_fraction=0.6346911003235937\n",
      "[LightGBM] [Warning] bagging_freq is set=3, subsample_freq=0 will be ignored. Current value: bagging_freq=3\n",
      "Training until validation scores don't improve for 100 rounds\n",
      "[100]\ttraining's l1: 0.599425\tvalid_1's l1: 0.695269\n",
      "[200]\ttraining's l1: 0.596371\tvalid_1's l1: 0.689929\n",
      "[300]\ttraining's l1: 0.594118\tvalid_1's l1: 0.685287\n",
      "[400]\ttraining's l1: 0.593062\tvalid_1's l1: 0.683568\n",
      "[500]\ttraining's l1: 0.592909\tvalid_1's l1: 0.68345\n",
      "[600]\ttraining's l1: 0.592842\tvalid_1's l1: 0.683404\n"
     ]
    },
    {
     "name": "stderr",
     "output_type": "stream",
     "text": [
      "\u001b[32m[I 2021-07-06 11:16:08,512]\u001b[0m Trial 36 finished with value: -0.6833775439772145 and parameters: {'max_depth': 5, 'min_child_weight': 18, 'subsample': 0.6, 'colsample_bytree': 0.7, 'reg_lambda': 0.5603496316244646, 'reg_alpha': 0.22088863999827904, 'feature_fraction': 0.8826170094927684, 'bagging_fraction': 0.6346911003235937, 'bagging_freq': 3}. Best is trial 23 with value: -0.6826840493578933.\u001b[0m\n"
     ]
    },
    {
     "name": "stdout",
     "output_type": "stream",
     "text": [
      "Early stopping, best iteration is:\n",
      "[510]\ttraining's l1: 0.592852\tvalid_1's l1: 0.683384\n",
      "[LightGBM] [Warning] feature_fraction is set=0.7525164395507004, colsample_bytree=0.6 will be ignored. Current value: feature_fraction=0.7525164395507004\n",
      "[LightGBM] [Warning] bagging_fraction is set=0.6206097290867761, subsample=0.6 will be ignored. Current value: bagging_fraction=0.6206097290867761\n",
      "[LightGBM] [Warning] bagging_freq is set=3, subsample_freq=0 will be ignored. Current value: bagging_freq=3\n",
      "Training until validation scores don't improve for 100 rounds\n",
      "[100]\ttraining's l1: 0.616724\tvalid_1's l1: 0.722332\n",
      "[200]\ttraining's l1: 0.616121\tvalid_1's l1: 0.721075\n",
      "[300]\ttraining's l1: 0.61612\tvalid_1's l1: 0.721074\n"
     ]
    },
    {
     "name": "stderr",
     "output_type": "stream",
     "text": [
      "\u001b[32m[I 2021-07-06 11:16:21,809]\u001b[0m Trial 37 finished with value: -0.7210682214889252 and parameters: {'max_depth': 11, 'min_child_weight': 20, 'subsample': 0.6, 'colsample_bytree': 0.6, 'reg_lambda': 0.691618552206778, 'reg_alpha': 591.3123850483594, 'feature_fraction': 0.7525164395507004, 'bagging_fraction': 0.6206097290867761, 'bagging_freq': 3}. Best is trial 23 with value: -0.6826840493578933.\u001b[0m\n"
     ]
    },
    {
     "name": "stdout",
     "output_type": "stream",
     "text": [
      "Early stopping, best iteration is:\n",
      "[262]\ttraining's l1: 0.61612\tvalid_1's l1: 0.721074\n",
      "[LightGBM] [Warning] feature_fraction is set=0.8207239947112589, colsample_bytree=0.7 will be ignored. Current value: feature_fraction=0.8207239947112589\n",
      "[LightGBM] [Warning] bagging_fraction is set=0.7079485648999005, subsample=0.6 will be ignored. Current value: bagging_fraction=0.7079485648999005\n",
      "[LightGBM] [Warning] bagging_freq is set=3, subsample_freq=0 will be ignored. Current value: bagging_freq=3\n",
      "Training until validation scores don't improve for 100 rounds\n",
      "[100]\ttraining's l1: 0.612684\tvalid_1's l1: 0.717026\n",
      "[200]\ttraining's l1: 0.61104\tvalid_1's l1: 0.714522\n",
      "[300]\ttraining's l1: 0.610846\tvalid_1's l1: 0.714224\n",
      "[400]\ttraining's l1: 0.610346\tvalid_1's l1: 0.71373\n",
      "[500]\ttraining's l1: 0.609818\tvalid_1's l1: 0.712833\n"
     ]
    },
    {
     "name": "stderr",
     "output_type": "stream",
     "text": [
      "\u001b[32m[I 2021-07-06 11:16:41,679]\u001b[0m Trial 38 finished with value: -0.7128297365701705 and parameters: {'max_depth': 8, 'min_child_weight': 18, 'subsample': 0.6, 'colsample_bytree': 0.7, 'reg_lambda': 1.6274826258792061, 'reg_alpha': 0.057348736450151795, 'feature_fraction': 0.8207239947112589, 'bagging_fraction': 0.7079485648999005, 'bagging_freq': 3}. Best is trial 23 with value: -0.6826840493578933.\u001b[0m\n"
     ]
    },
    {
     "name": "stdout",
     "output_type": "stream",
     "text": [
      "Early stopping, best iteration is:\n",
      "[425]\ttraining's l1: 0.609821\tvalid_1's l1: 0.712831\n",
      "[LightGBM] [Warning] feature_fraction is set=0.8499592106099485, colsample_bytree=0.7 will be ignored. Current value: feature_fraction=0.8499592106099485\n",
      "[LightGBM] [Warning] bagging_fraction is set=0.6415036151777003, subsample=0.5 will be ignored. Current value: bagging_fraction=0.6415036151777003\n",
      "[LightGBM] [Warning] bagging_freq is set=1, subsample_freq=0 will be ignored. Current value: bagging_freq=1\n",
      "Training until validation scores don't improve for 100 rounds\n",
      "[100]\ttraining's l1: 0.599515\tvalid_1's l1: 0.694957\n",
      "[200]\ttraining's l1: 0.597782\tvalid_1's l1: 0.691786\n",
      "[300]\ttraining's l1: 0.597223\tvalid_1's l1: 0.690915\n"
     ]
    },
    {
     "name": "stderr",
     "output_type": "stream",
     "text": [
      "\u001b[32m[I 2021-07-06 11:16:50,934]\u001b[0m Trial 39 finished with value: -0.6908980946594004 and parameters: {'max_depth': 5, 'min_child_weight': 19, 'subsample': 0.5, 'colsample_bytree': 0.7, 'reg_lambda': 9.390239710935777, 'reg_alpha': 0.012165827577896592, 'feature_fraction': 0.8499592106099485, 'bagging_fraction': 0.6415036151777003, 'bagging_freq': 1}. Best is trial 23 with value: -0.6826840493578933.\u001b[0m\n"
     ]
    },
    {
     "name": "stdout",
     "output_type": "stream",
     "text": [
      "Early stopping, best iteration is:\n",
      "[268]\ttraining's l1: 0.597255\tvalid_1's l1: 0.690903\n",
      "[LightGBM] [Warning] feature_fraction is set=0.6955689537820602, colsample_bytree=0.6 will be ignored. Current value: feature_fraction=0.6955689537820602\n",
      "[LightGBM] [Warning] bagging_fraction is set=0.5450480743240915, subsample=0.6 will be ignored. Current value: bagging_fraction=0.5450480743240915\n",
      "[LightGBM] [Warning] bagging_freq is set=2, subsample_freq=0 will be ignored. Current value: bagging_freq=2\n",
      "Training until validation scores don't improve for 100 rounds\n",
      "[100]\ttraining's l1: 0.639766\tvalid_1's l1: 0.757653\n",
      "[200]\ttraining's l1: 0.629655\tvalid_1's l1: 0.741724\n",
      "[300]\ttraining's l1: 0.627528\tvalid_1's l1: 0.738231\n",
      "[400]\ttraining's l1: 0.627465\tvalid_1's l1: 0.7382\n",
      "[500]\ttraining's l1: 0.627463\tvalid_1's l1: 0.7382\n",
      "[600]\ttraining's l1: 0.626257\tvalid_1's l1: 0.736299\n",
      "[700]\ttraining's l1: 0.623631\tvalid_1's l1: 0.73242\n",
      "[800]\ttraining's l1: 0.619621\tvalid_1's l1: 0.726459\n",
      "[900]\ttraining's l1: 0.618001\tvalid_1's l1: 0.72393\n",
      "[1000]\ttraining's l1: 0.617202\tvalid_1's l1: 0.722327\n",
      "[1100]\ttraining's l1: 0.617016\tvalid_1's l1: 0.722054\n",
      "[1200]\ttraining's l1: 0.616895\tvalid_1's l1: 0.721883\n",
      "[1300]\ttraining's l1: 0.616205\tvalid_1's l1: 0.720782\n",
      "[1400]\ttraining's l1: 0.616144\tvalid_1's l1: 0.720749\n",
      "Early stopping, best iteration is:\n",
      "[1357]\ttraining's l1: 0.616179\tvalid_1's l1: 0.720739\n"
     ]
    },
    {
     "name": "stderr",
     "output_type": "stream",
     "text": [
      "\u001b[32m[I 2021-07-06 11:17:34,514]\u001b[0m Trial 40 finished with value: -0.7207108819869287 and parameters: {'max_depth': 2, 'min_child_weight': 2, 'subsample': 0.6, 'colsample_bytree': 0.6, 'reg_lambda': 0.15840894435376643, 'reg_alpha': 62.98325042766787, 'feature_fraction': 0.6955689537820602, 'bagging_fraction': 0.5450480743240915, 'bagging_freq': 2}. Best is trial 23 with value: -0.6826840493578933.\u001b[0m\n"
     ]
    },
    {
     "name": "stdout",
     "output_type": "stream",
     "text": [
      "[LightGBM] [Warning] feature_fraction is set=0.8724468001923372, colsample_bytree=0.7 will be ignored. Current value: feature_fraction=0.8724468001923372\n",
      "[LightGBM] [Warning] bagging_fraction is set=0.6760567160766447, subsample=0.6 will be ignored. Current value: bagging_fraction=0.6760567160766447\n",
      "[LightGBM] [Warning] bagging_freq is set=3, subsample_freq=0 will be ignored. Current value: bagging_freq=3\n",
      "Training until validation scores don't improve for 100 rounds\n",
      "[100]\ttraining's l1: 0.598342\tvalid_1's l1: 0.69287\n",
      "[200]\ttraining's l1: 0.596442\tvalid_1's l1: 0.689846\n",
      "[300]\ttraining's l1: 0.594915\tvalid_1's l1: 0.687635\n",
      "[400]\ttraining's l1: 0.593412\tvalid_1's l1: 0.684969\n",
      "[500]\ttraining's l1: 0.59245\tvalid_1's l1: 0.683466\n",
      "[600]\ttraining's l1: 0.590947\tvalid_1's l1: 0.681163\n",
      "[700]\ttraining's l1: 0.590202\tvalid_1's l1: 0.679847\n",
      "[800]\ttraining's l1: 0.590064\tvalid_1's l1: 0.679734\n",
      "[900]\ttraining's l1: 0.589981\tvalid_1's l1: 0.679721\n",
      "[1000]\ttraining's l1: 0.589974\tvalid_1's l1: 0.679709\n",
      "Early stopping, best iteration is:\n",
      "[924]\ttraining's l1: 0.589976\tvalid_1's l1: 0.679705\n"
     ]
    },
    {
     "name": "stderr",
     "output_type": "stream",
     "text": [
      "\u001b[32m[I 2021-07-06 11:18:09,790]\u001b[0m Trial 41 finished with value: -0.6796914279501554 and parameters: {'max_depth': 5, 'min_child_weight': 15, 'subsample': 0.6, 'colsample_bytree': 0.7, 'reg_lambda': 0.043275981034629374, 'reg_alpha': 0.18933719956222408, 'feature_fraction': 0.8724468001923372, 'bagging_fraction': 0.6760567160766447, 'bagging_freq': 3}. Best is trial 41 with value: -0.6796914279501554.\u001b[0m\n"
     ]
    },
    {
     "name": "stdout",
     "output_type": "stream",
     "text": [
      "[LightGBM] [Warning] feature_fraction is set=0.8718225064338261, colsample_bytree=0.7 will be ignored. Current value: feature_fraction=0.8718225064338261\n",
      "[LightGBM] [Warning] bagging_fraction is set=0.6779611088455976, subsample=0.6 will be ignored. Current value: bagging_fraction=0.6779611088455976\n",
      "[LightGBM] [Warning] bagging_freq is set=3, subsample_freq=0 will be ignored. Current value: bagging_freq=3\n",
      "Training until validation scores don't improve for 100 rounds\n",
      "[100]\ttraining's l1: 0.59958\tvalid_1's l1: 0.69446\n",
      "[200]\ttraining's l1: 0.59666\tvalid_1's l1: 0.689178\n",
      "[300]\ttraining's l1: 0.595146\tvalid_1's l1: 0.686393\n",
      "[400]\ttraining's l1: 0.594384\tvalid_1's l1: 0.685778\n",
      "[500]\ttraining's l1: 0.592987\tvalid_1's l1: 0.683659\n",
      "[600]\ttraining's l1: 0.592489\tvalid_1's l1: 0.683207\n",
      "Early stopping, best iteration is:\n",
      "[554]\ttraining's l1: 0.592551\tvalid_1's l1: 0.683152\n"
     ]
    },
    {
     "name": "stderr",
     "output_type": "stream",
     "text": [
      "\u001b[32m[I 2021-07-06 11:18:32,933]\u001b[0m Trial 42 finished with value: -0.6831468708316983 and parameters: {'max_depth': 5, 'min_child_weight': 15, 'subsample': 0.6, 'colsample_bytree': 0.7, 'reg_lambda': 0.2531002498668584, 'reg_alpha': 0.043342302679585894, 'feature_fraction': 0.8718225064338261, 'bagging_fraction': 0.6779611088455976, 'bagging_freq': 3}. Best is trial 41 with value: -0.6796914279501554.\u001b[0m\n"
     ]
    },
    {
     "name": "stdout",
     "output_type": "stream",
     "text": [
      "[LightGBM] [Warning] feature_fraction is set=0.8751449640810495, colsample_bytree=0.7 will be ignored. Current value: feature_fraction=0.8751449640810495\n",
      "[LightGBM] [Warning] bagging_fraction is set=0.6743618399908863, subsample=0.6 will be ignored. Current value: bagging_fraction=0.6743618399908863\n",
      "[LightGBM] [Warning] bagging_freq is set=3, subsample_freq=0 will be ignored. Current value: bagging_freq=3\n",
      "Training until validation scores don't improve for 100 rounds\n",
      "[100]\ttraining's l1: 0.612479\tvalid_1's l1: 0.717196\n",
      "[200]\ttraining's l1: 0.611342\tvalid_1's l1: 0.715329\n",
      "[300]\ttraining's l1: 0.610775\tvalid_1's l1: 0.714646\n",
      "[400]\ttraining's l1: 0.610723\tvalid_1's l1: 0.714606\n",
      "[500]\ttraining's l1: 0.610032\tvalid_1's l1: 0.712944\n",
      "[600]\ttraining's l1: 0.609965\tvalid_1's l1: 0.712736\n"
     ]
    },
    {
     "name": "stderr",
     "output_type": "stream",
     "text": [
      "\u001b[32m[I 2021-07-06 11:18:55,820]\u001b[0m Trial 43 finished with value: -0.712734762558894 and parameters: {'max_depth': 8, 'min_child_weight': 15, 'subsample': 0.6, 'colsample_bytree': 0.7, 'reg_lambda': 0.2622164547631305, 'reg_alpha': 0.27088095051091315, 'feature_fraction': 0.8751449640810495, 'bagging_fraction': 0.6743618399908863, 'bagging_freq': 3}. Best is trial 41 with value: -0.6796914279501554.\u001b[0m\n"
     ]
    },
    {
     "name": "stdout",
     "output_type": "stream",
     "text": [
      "Early stopping, best iteration is:\n",
      "[530]\ttraining's l1: 0.609965\tvalid_1's l1: 0.712736\n",
      "[LightGBM] [Warning] feature_fraction is set=0.7740358250189144, colsample_bytree=0.6 will be ignored. Current value: feature_fraction=0.7740358250189144\n",
      "[LightGBM] [Warning] bagging_fraction is set=0.6249491449996302, subsample=0.6 will be ignored. Current value: bagging_fraction=0.6249491449996302\n",
      "[LightGBM] [Warning] bagging_freq is set=2, subsample_freq=0 will be ignored. Current value: bagging_freq=2\n",
      "Training until validation scores don't improve for 100 rounds\n",
      "[100]\ttraining's l1: 0.609991\tvalid_1's l1: 0.711422\n",
      "[200]\ttraining's l1: 0.609196\tvalid_1's l1: 0.710325\n",
      "[300]\ttraining's l1: 0.609192\tvalid_1's l1: 0.710335\n"
     ]
    },
    {
     "name": "stderr",
     "output_type": "stream",
     "text": [
      "\u001b[32m[I 2021-07-06 11:19:09,385]\u001b[0m Trial 44 finished with value: -0.7103217868529865 and parameters: {'max_depth': 7, 'min_child_weight': 17, 'subsample': 0.6, 'colsample_bytree': 0.6, 'reg_lambda': 0.05145263014771027, 'reg_alpha': 0.03432780440822354, 'feature_fraction': 0.7740358250189144, 'bagging_fraction': 0.6249491449996302, 'bagging_freq': 2}. Best is trial 41 with value: -0.6796914279501554.\u001b[0m\n"
     ]
    },
    {
     "name": "stdout",
     "output_type": "stream",
     "text": [
      "Early stopping, best iteration is:\n",
      "[220]\ttraining's l1: 0.609194\tvalid_1's l1: 0.710323\n",
      "[LightGBM] [Warning] feature_fraction is set=0.8118790037553463, colsample_bytree=0.7 will be ignored. Current value: feature_fraction=0.8118790037553463\n",
      "[LightGBM] [Warning] bagging_fraction is set=0.7830152916001919, subsample=0.5 will be ignored. Current value: bagging_fraction=0.7830152916001919\n",
      "[LightGBM] [Warning] bagging_freq is set=4, subsample_freq=0 will be ignored. Current value: bagging_freq=4\n",
      "Training until validation scores don't improve for 100 rounds\n",
      "[100]\ttraining's l1: 0.637831\tvalid_1's l1: 0.754203\n",
      "[200]\ttraining's l1: 0.631122\tvalid_1's l1: 0.743923\n",
      "[300]\ttraining's l1: 0.627837\tvalid_1's l1: 0.738365\n",
      "[400]\ttraining's l1: 0.624798\tvalid_1's l1: 0.733534\n",
      "[500]\ttraining's l1: 0.621918\tvalid_1's l1: 0.727534\n",
      "[600]\ttraining's l1: 0.621335\tvalid_1's l1: 0.7261\n",
      "[700]\ttraining's l1: 0.621333\tvalid_1's l1: 0.726099\n",
      "[800]\ttraining's l1: 0.621329\tvalid_1's l1: 0.726091\n",
      "[900]\ttraining's l1: 0.62132\tvalid_1's l1: 0.726079\n",
      "[1000]\ttraining's l1: 0.621317\tvalid_1's l1: 0.726077\n",
      "[1100]\ttraining's l1: 0.620763\tvalid_1's l1: 0.72523\n",
      "[1200]\ttraining's l1: 0.620642\tvalid_1's l1: 0.724967\n",
      "[1300]\ttraining's l1: 0.62049\tvalid_1's l1: 0.724689\n",
      "[1400]\ttraining's l1: 0.62048\tvalid_1's l1: 0.724677\n",
      "[1500]\ttraining's l1: 0.620434\tvalid_1's l1: 0.724676\n",
      "[1600]\ttraining's l1: 0.620271\tvalid_1's l1: 0.724056\n",
      "[1700]\ttraining's l1: 0.620235\tvalid_1's l1: 0.724007\n",
      "[1800]\ttraining's l1: 0.620216\tvalid_1's l1: 0.723915\n",
      "[1900]\ttraining's l1: 0.61987\tvalid_1's l1: 0.723313\n",
      "[2000]\ttraining's l1: 0.619867\tvalid_1's l1: 0.723311\n",
      "[2100]\ttraining's l1: 0.619839\tvalid_1's l1: 0.723275\n",
      "[2200]\ttraining's l1: 0.619772\tvalid_1's l1: 0.72313\n",
      "[2300]\ttraining's l1: 0.61971\tvalid_1's l1: 0.722898\n",
      "[2400]\ttraining's l1: 0.619708\tvalid_1's l1: 0.722896\n",
      "[2500]\ttraining's l1: 0.61959\tvalid_1's l1: 0.722525\n",
      "[2600]\ttraining's l1: 0.619176\tvalid_1's l1: 0.722107\n",
      "[2700]\ttraining's l1: 0.619172\tvalid_1's l1: 0.722104\n",
      "[2800]\ttraining's l1: 0.619051\tvalid_1's l1: 0.721935\n",
      "[2900]\ttraining's l1: 0.619048\tvalid_1's l1: 0.721929\n",
      "[3000]\ttraining's l1: 0.618768\tvalid_1's l1: 0.721032\n",
      "[3100]\ttraining's l1: 0.618768\tvalid_1's l1: 0.721032\n",
      "[3200]\ttraining's l1: 0.618764\tvalid_1's l1: 0.721027\n",
      "[3300]\ttraining's l1: 0.618752\tvalid_1's l1: 0.721008\n",
      "[3400]\ttraining's l1: 0.61875\tvalid_1's l1: 0.721002\n",
      "[3500]\ttraining's l1: 0.618731\tvalid_1's l1: 0.720981\n",
      "[3600]\ttraining's l1: 0.61861\tvalid_1's l1: 0.720842\n",
      "[3700]\ttraining's l1: 0.618419\tvalid_1's l1: 0.720469\n",
      "[3800]\ttraining's l1: 0.618402\tvalid_1's l1: 0.72045\n",
      "[3900]\ttraining's l1: 0.618344\tvalid_1's l1: 0.720166\n",
      "[4000]\ttraining's l1: 0.618331\tvalid_1's l1: 0.72015\n",
      "[4100]\ttraining's l1: 0.618331\tvalid_1's l1: 0.72015\n",
      "Early stopping, best iteration is:\n",
      "[4092]\ttraining's l1: 0.618331\tvalid_1's l1: 0.72015\n"
     ]
    },
    {
     "name": "stderr",
     "output_type": "stream",
     "text": [
      "\u001b[32m[I 2021-07-06 11:21:06,263]\u001b[0m Trial 45 finished with value: -0.7201275289151718 and parameters: {'max_depth': 2, 'min_child_weight': 18, 'subsample': 0.5, 'colsample_bytree': 0.7, 'reg_lambda': 3.3697030913902615, 'reg_alpha': 0.05757260301980124, 'feature_fraction': 0.8118790037553463, 'bagging_fraction': 0.7830152916001919, 'bagging_freq': 4}. Best is trial 41 with value: -0.6796914279501554.\u001b[0m\n"
     ]
    },
    {
     "name": "stdout",
     "output_type": "stream",
     "text": [
      "[LightGBM] [Warning] feature_fraction is set=0.92415374879827, colsample_bytree=0.7 will be ignored. Current value: feature_fraction=0.92415374879827\n",
      "[LightGBM] [Warning] bagging_fraction is set=0.7361330466571218, subsample=0.6 will be ignored. Current value: bagging_fraction=0.7361330466571218\n",
      "[LightGBM] [Warning] bagging_freq is set=3, subsample_freq=0 will be ignored. Current value: bagging_freq=3\n",
      "Training until validation scores don't improve for 100 rounds\n",
      "[100]\ttraining's l1: 0.600694\tvalid_1's l1: 0.696511\n",
      "[200]\ttraining's l1: 0.598002\tvalid_1's l1: 0.691297\n",
      "[300]\ttraining's l1: 0.59659\tvalid_1's l1: 0.689498\n",
      "[400]\ttraining's l1: 0.596284\tvalid_1's l1: 0.689147\n",
      "[500]\ttraining's l1: 0.595239\tvalid_1's l1: 0.687386\n",
      "[600]\ttraining's l1: 0.594349\tvalid_1's l1: 0.685878\n",
      "[700]\ttraining's l1: 0.593973\tvalid_1's l1: 0.685199\n",
      "[800]\ttraining's l1: 0.593557\tvalid_1's l1: 0.684718\n",
      "[900]\ttraining's l1: 0.592975\tvalid_1's l1: 0.683329\n",
      "[1000]\ttraining's l1: 0.592495\tvalid_1's l1: 0.682707\n",
      "[1100]\ttraining's l1: 0.59209\tvalid_1's l1: 0.682098\n",
      "[1200]\ttraining's l1: 0.591825\tvalid_1's l1: 0.68185\n",
      "[1300]\ttraining's l1: 0.591468\tvalid_1's l1: 0.680943\n",
      "[1400]\ttraining's l1: 0.591402\tvalid_1's l1: 0.680916\n",
      "[1500]\ttraining's l1: 0.590581\tvalid_1's l1: 0.680154\n",
      "[1600]\ttraining's l1: 0.5902\tvalid_1's l1: 0.679767\n",
      "[1700]\ttraining's l1: 0.590013\tvalid_1's l1: 0.679555\n",
      "Early stopping, best iteration is:\n",
      "[1655]\ttraining's l1: 0.590014\tvalid_1's l1: 0.679554\n"
     ]
    },
    {
     "name": "stderr",
     "output_type": "stream",
     "text": [
      "\u001b[32m[I 2021-07-06 11:22:09,298]\u001b[0m Trial 46 finished with value: -0.6795282649442641 and parameters: {'max_depth': 5, 'min_child_weight': 15, 'subsample': 0.6, 'colsample_bytree': 0.7, 'reg_lambda': 0.5211652823142567, 'reg_alpha': 0.8682099864302905, 'feature_fraction': 0.92415374879827, 'bagging_fraction': 0.7361330466571218, 'bagging_freq': 3}. Best is trial 46 with value: -0.6795282649442641.\u001b[0m\n"
     ]
    },
    {
     "name": "stdout",
     "output_type": "stream",
     "text": [
      "[LightGBM] [Warning] feature_fraction is set=0.9650314099183456, colsample_bytree=0.6 will be ignored. Current value: feature_fraction=0.9650314099183456\n",
      "[LightGBM] [Warning] bagging_fraction is set=0.735109053508557, subsample=0.6 will be ignored. Current value: bagging_fraction=0.735109053508557\n",
      "[LightGBM] [Warning] bagging_freq is set=1, subsample_freq=0 will be ignored. Current value: bagging_freq=1\n",
      "Training until validation scores don't improve for 100 rounds\n",
      "[100]\ttraining's l1: 0.623749\tvalid_1's l1: 0.732959\n",
      "[200]\ttraining's l1: 0.623558\tvalid_1's l1: 0.732825\n",
      "[300]\ttraining's l1: 0.621446\tvalid_1's l1: 0.728883\n",
      "[400]\ttraining's l1: 0.61962\tvalid_1's l1: 0.725774\n",
      "[500]\ttraining's l1: 0.619366\tvalid_1's l1: 0.725423\n",
      "[600]\ttraining's l1: 0.619365\tvalid_1's l1: 0.725422\n",
      "[700]\ttraining's l1: 0.618749\tvalid_1's l1: 0.724388\n",
      "[800]\ttraining's l1: 0.618749\tvalid_1's l1: 0.724387\n",
      "[900]\ttraining's l1: 0.618748\tvalid_1's l1: 0.724386\n",
      "[1000]\ttraining's l1: 0.618748\tvalid_1's l1: 0.724386\n",
      "[1100]\ttraining's l1: 0.618748\tvalid_1's l1: 0.724385\n",
      "Early stopping, best iteration is:\n",
      "[1012]\ttraining's l1: 0.618748\tvalid_1's l1: 0.724385\n"
     ]
    },
    {
     "name": "stderr",
     "output_type": "stream",
     "text": [
      "\u001b[32m[I 2021-07-06 11:22:31,599]\u001b[0m Trial 47 finished with value: -0.7243844452495498 and parameters: {'max_depth': 3, 'min_child_weight': 15, 'subsample': 0.6, 'colsample_bytree': 0.6, 'reg_lambda': 0.1911773970258154, 'reg_alpha': 1.0172668509338911, 'feature_fraction': 0.9650314099183456, 'bagging_fraction': 0.735109053508557, 'bagging_freq': 1}. Best is trial 46 with value: -0.6795282649442641.\u001b[0m\n"
     ]
    },
    {
     "name": "stdout",
     "output_type": "stream",
     "text": [
      "[LightGBM] [Warning] feature_fraction is set=0.9219516088579824, colsample_bytree=0.7 will be ignored. Current value: feature_fraction=0.9219516088579824\n",
      "[LightGBM] [Warning] bagging_fraction is set=0.7546828492748474, subsample=0.5 will be ignored. Current value: bagging_fraction=0.7546828492748474\n",
      "[LightGBM] [Warning] bagging_freq is set=3, subsample_freq=0 will be ignored. Current value: bagging_freq=3\n",
      "Training until validation scores don't improve for 100 rounds\n",
      "[100]\ttraining's l1: 0.610304\tvalid_1's l1: 0.713253\n",
      "[200]\ttraining's l1: 0.60975\tvalid_1's l1: 0.711643\n",
      "[300]\ttraining's l1: 0.609669\tvalid_1's l1: 0.711407\n"
     ]
    },
    {
     "name": "stderr",
     "output_type": "stream",
     "text": [
      "\u001b[32m[I 2021-07-06 11:22:46,030]\u001b[0m Trial 48 finished with value: -0.7113906173676601 and parameters: {'max_depth': 7, 'min_child_weight': 15, 'subsample': 0.5, 'colsample_bytree': 0.7, 'reg_lambda': 904.6703170258223, 'reg_alpha': 2.827786815408945, 'feature_fraction': 0.9219516088579824, 'bagging_fraction': 0.7546828492748474, 'bagging_freq': 3}. Best is trial 46 with value: -0.6795282649442641.\u001b[0m\n"
     ]
    },
    {
     "name": "stdout",
     "output_type": "stream",
     "text": [
      "Early stopping, best iteration is:\n",
      "[250]\ttraining's l1: 0.60967\tvalid_1's l1: 0.711404\n",
      "[LightGBM] [Warning] feature_fraction is set=0.8316277344888021, colsample_bytree=0.7 will be ignored. Current value: feature_fraction=0.8316277344888021\n",
      "[LightGBM] [Warning] bagging_fraction is set=0.686368265027694, subsample=0.6 will be ignored. Current value: bagging_fraction=0.686368265027694\n",
      "[LightGBM] [Warning] bagging_freq is set=4, subsample_freq=0 will be ignored. Current value: bagging_freq=4\n",
      "Training until validation scores don't improve for 100 rounds\n",
      "[100]\ttraining's l1: 0.606474\tvalid_1's l1: 0.706559\n",
      "[200]\ttraining's l1: 0.606317\tvalid_1's l1: 0.706188\n",
      "[300]\ttraining's l1: 0.60631\tvalid_1's l1: 0.706182\n"
     ]
    },
    {
     "name": "stderr",
     "output_type": "stream",
     "text": [
      "\u001b[32m[I 2021-07-06 11:22:59,913]\u001b[0m Trial 49 finished with value: -0.7061811839917269 and parameters: {'max_depth': 6, 'min_child_weight': 13, 'subsample': 0.6, 'colsample_bytree': 0.7, 'reg_lambda': 1.8344074166349036, 'reg_alpha': 0.566097098367418, 'feature_fraction': 0.8316277344888021, 'bagging_fraction': 0.686368265027694, 'bagging_freq': 4}. Best is trial 46 with value: -0.6795282649442641.\u001b[0m\n"
     ]
    },
    {
     "name": "stdout",
     "output_type": "stream",
     "text": [
      "[400]\ttraining's l1: 0.606301\tvalid_1's l1: 0.706192\n",
      "Early stopping, best iteration is:\n",
      "[302]\ttraining's l1: 0.60631\tvalid_1's l1: 0.706182\n",
      "[LightGBM] [Warning] feature_fraction is set=0.861807728203817, colsample_bytree=0.7 will be ignored. Current value: feature_fraction=0.861807728203817\n",
      "[LightGBM] [Warning] bagging_fraction is set=0.7740425275980862, subsample=0.5 will be ignored. Current value: bagging_fraction=0.7740425275980862\n",
      "[LightGBM] [Warning] bagging_freq is set=2, subsample_freq=0 will be ignored. Current value: bagging_freq=2\n",
      "Training until validation scores don't improve for 100 rounds\n",
      "[100]\ttraining's l1: 0.613398\tvalid_1's l1: 0.719177\n",
      "[200]\ttraining's l1: 0.611692\tvalid_1's l1: 0.715949\n",
      "[300]\ttraining's l1: 0.610674\tvalid_1's l1: 0.714489\n"
     ]
    },
    {
     "name": "stderr",
     "output_type": "stream",
     "text": [
      "\u001b[32m[I 2021-07-06 11:23:15,575]\u001b[0m Trial 50 finished with value: -0.7144879274962813 and parameters: {'max_depth': 10, 'min_child_weight': 16, 'subsample': 0.5, 'colsample_bytree': 0.7, 'reg_lambda': 0.04510468197199164, 'reg_alpha': 11.858964131943424, 'feature_fraction': 0.861807728203817, 'bagging_fraction': 0.7740425275980862, 'bagging_freq': 2}. Best is trial 46 with value: -0.6795282649442641.\u001b[0m\n"
     ]
    },
    {
     "name": "stdout",
     "output_type": "stream",
     "text": [
      "Early stopping, best iteration is:\n",
      "[221]\ttraining's l1: 0.610674\tvalid_1's l1: 0.714489\n",
      "[LightGBM] [Warning] feature_fraction is set=0.905217181148343, colsample_bytree=0.7 will be ignored. Current value: feature_fraction=0.905217181148343\n",
      "[LightGBM] [Warning] bagging_fraction is set=0.6526443275285632, subsample=0.6 will be ignored. Current value: bagging_fraction=0.6526443275285632\n",
      "[LightGBM] [Warning] bagging_freq is set=3, subsample_freq=0 will be ignored. Current value: bagging_freq=3\n",
      "Training until validation scores don't improve for 100 rounds\n",
      "[100]\ttraining's l1: 0.60815\tvalid_1's l1: 0.70687\n",
      "[200]\ttraining's l1: 0.604897\tvalid_1's l1: 0.700288\n",
      "[300]\ttraining's l1: 0.603202\tvalid_1's l1: 0.697144\n",
      "[400]\ttraining's l1: 0.6016\tvalid_1's l1: 0.694066\n",
      "[500]\ttraining's l1: 0.601374\tvalid_1's l1: 0.693598\n",
      "[600]\ttraining's l1: 0.598847\tvalid_1's l1: 0.68917\n",
      "[700]\ttraining's l1: 0.59854\tvalid_1's l1: 0.688952\n",
      "[800]\ttraining's l1: 0.597634\tvalid_1's l1: 0.687366\n",
      "[900]\ttraining's l1: 0.596752\tvalid_1's l1: 0.685811\n",
      "[1000]\ttraining's l1: 0.596177\tvalid_1's l1: 0.685493\n",
      "[1100]\ttraining's l1: 0.595323\tvalid_1's l1: 0.683751\n",
      "[1200]\ttraining's l1: 0.594492\tvalid_1's l1: 0.683102\n",
      "[1300]\ttraining's l1: 0.594379\tvalid_1's l1: 0.683012\n",
      "[1400]\ttraining's l1: 0.593834\tvalid_1's l1: 0.682405\n",
      "[1500]\ttraining's l1: 0.593443\tvalid_1's l1: 0.681703\n",
      "[1600]\ttraining's l1: 0.593106\tvalid_1's l1: 0.681072\n",
      "[1700]\ttraining's l1: 0.593041\tvalid_1's l1: 0.68094\n",
      "[1800]\ttraining's l1: 0.593038\tvalid_1's l1: 0.680936\n",
      "[1900]\ttraining's l1: 0.592841\tvalid_1's l1: 0.680552\n",
      "[2000]\ttraining's l1: 0.592517\tvalid_1's l1: 0.680209\n",
      "[2100]\ttraining's l1: 0.59227\tvalid_1's l1: 0.679993\n",
      "[2200]\ttraining's l1: 0.591915\tvalid_1's l1: 0.680218\n",
      "Early stopping, best iteration is:\n",
      "[2105]\ttraining's l1: 0.59227\tvalid_1's l1: 0.679993\n"
     ]
    },
    {
     "name": "stderr",
     "output_type": "stream",
     "text": [
      "\u001b[32m[I 2021-07-06 11:24:24,964]\u001b[0m Trial 51 finished with value: -0.6799646941861092 and parameters: {'max_depth': 4, 'min_child_weight': 18, 'subsample': 0.6, 'colsample_bytree': 0.7, 'reg_lambda': 0.5232799831168542, 'reg_alpha': 0.2695837057028362, 'feature_fraction': 0.905217181148343, 'bagging_fraction': 0.6526443275285632, 'bagging_freq': 3}. Best is trial 46 with value: -0.6795282649442641.\u001b[0m\n"
     ]
    },
    {
     "name": "stdout",
     "output_type": "stream",
     "text": [
      "[LightGBM] [Warning] feature_fraction is set=0.9068401045761566, colsample_bytree=0.6 will be ignored. Current value: feature_fraction=0.9068401045761566\n",
      "[LightGBM] [Warning] bagging_fraction is set=0.6502902513609736, subsample=0.6 will be ignored. Current value: bagging_fraction=0.6502902513609736\n",
      "[LightGBM] [Warning] bagging_freq is set=3, subsample_freq=0 will be ignored. Current value: bagging_freq=3\n",
      "Training until validation scores don't improve for 100 rounds\n",
      "[100]\ttraining's l1: 0.600201\tvalid_1's l1: 0.695971\n",
      "[200]\ttraining's l1: 0.59793\tvalid_1's l1: 0.691354\n",
      "[300]\ttraining's l1: 0.596003\tvalid_1's l1: 0.68818\n",
      "[400]\ttraining's l1: 0.595604\tvalid_1's l1: 0.687554\n",
      "[500]\ttraining's l1: 0.594423\tvalid_1's l1: 0.6858\n",
      "[600]\ttraining's l1: 0.592373\tvalid_1's l1: 0.682159\n",
      "[700]\ttraining's l1: 0.592076\tvalid_1's l1: 0.681769\n",
      "[800]\ttraining's l1: 0.591432\tvalid_1's l1: 0.681088\n",
      "[900]\ttraining's l1: 0.590816\tvalid_1's l1: 0.680378\n",
      "[1000]\ttraining's l1: 0.590299\tvalid_1's l1: 0.679746\n",
      "[1100]\ttraining's l1: 0.590092\tvalid_1's l1: 0.679524\n",
      "[1200]\ttraining's l1: 0.589511\tvalid_1's l1: 0.678943\n",
      "[1300]\ttraining's l1: 0.589258\tvalid_1's l1: 0.678658\n",
      "[1400]\ttraining's l1: 0.588845\tvalid_1's l1: 0.677771\n",
      "[1500]\ttraining's l1: 0.588319\tvalid_1's l1: 0.677205\n",
      "Early stopping, best iteration is:\n",
      "[1468]\ttraining's l1: 0.588326\tvalid_1's l1: 0.677191\n"
     ]
    },
    {
     "name": "stderr",
     "output_type": "stream",
     "text": [
      "\u001b[32m[I 2021-07-06 11:25:17,063]\u001b[0m Trial 52 finished with value: -0.6771705195661069 and parameters: {'max_depth': 5, 'min_child_weight': 17, 'subsample': 0.6, 'colsample_bytree': 0.6, 'reg_lambda': 0.4932520289370793, 'reg_alpha': 2.029947021612902, 'feature_fraction': 0.9068401045761566, 'bagging_fraction': 0.6502902513609736, 'bagging_freq': 3}. Best is trial 52 with value: -0.6771705195661069.\u001b[0m\n"
     ]
    },
    {
     "name": "stdout",
     "output_type": "stream",
     "text": [
      "[LightGBM] [Warning] feature_fraction is set=0.9680662951808316, colsample_bytree=0.5 will be ignored. Current value: feature_fraction=0.9680662951808316\n",
      "[LightGBM] [Warning] bagging_fraction is set=0.6087320545527845, subsample=0.6 will be ignored. Current value: bagging_fraction=0.6087320545527845\n",
      "[LightGBM] [Warning] bagging_freq is set=3, subsample_freq=0 will be ignored. Current value: bagging_freq=3\n",
      "Training until validation scores don't improve for 100 rounds\n",
      "[100]\ttraining's l1: 0.608972\tvalid_1's l1: 0.71015\n",
      "[200]\ttraining's l1: 0.606682\tvalid_1's l1: 0.705984\n",
      "[300]\ttraining's l1: 0.605631\tvalid_1's l1: 0.704158\n",
      "[400]\ttraining's l1: 0.604831\tvalid_1's l1: 0.702552\n",
      "[500]\ttraining's l1: 0.602321\tvalid_1's l1: 0.698003\n",
      "[600]\ttraining's l1: 0.602174\tvalid_1's l1: 0.697892\n",
      "[700]\ttraining's l1: 0.601354\tvalid_1's l1: 0.696797\n",
      "[800]\ttraining's l1: 0.60095\tvalid_1's l1: 0.696069\n",
      "[900]\ttraining's l1: 0.600034\tvalid_1's l1: 0.693743\n",
      "[1000]\ttraining's l1: 0.598973\tvalid_1's l1: 0.691718\n",
      "[1100]\ttraining's l1: 0.597744\tvalid_1's l1: 0.689343\n",
      "[1200]\ttraining's l1: 0.596642\tvalid_1's l1: 0.687566\n",
      "[1300]\ttraining's l1: 0.596425\tvalid_1's l1: 0.687424\n",
      "Early stopping, best iteration is:\n",
      "[1251]\ttraining's l1: 0.596435\tvalid_1's l1: 0.687386\n"
     ]
    },
    {
     "name": "stderr",
     "output_type": "stream",
     "text": [
      "\u001b[32m[I 2021-07-06 11:25:58,134]\u001b[0m Trial 53 finished with value: -0.6873693730241712 and parameters: {'max_depth': 4, 'min_child_weight': 17, 'subsample': 0.6, 'colsample_bytree': 0.5, 'reg_lambda': 0.9420841734876745, 'reg_alpha': 1.7957855899515085, 'feature_fraction': 0.9680662951808316, 'bagging_fraction': 0.6087320545527845, 'bagging_freq': 3}. Best is trial 52 with value: -0.6771705195661069.\u001b[0m\n"
     ]
    },
    {
     "name": "stdout",
     "output_type": "stream",
     "text": [
      "[LightGBM] [Warning] feature_fraction is set=0.4083278009975314, colsample_bytree=0.6 will be ignored. Current value: feature_fraction=0.4083278009975314\n",
      "[LightGBM] [Warning] bagging_fraction is set=0.6456048328921808, subsample=0.6 will be ignored. Current value: bagging_fraction=0.6456048328921808\n",
      "[LightGBM] [Warning] bagging_freq is set=4, subsample_freq=0 will be ignored. Current value: bagging_freq=4\n",
      "Training until validation scores don't improve for 100 rounds\n",
      "[100]\ttraining's l1: 0.619827\tvalid_1's l1: 0.72859\n",
      "[200]\ttraining's l1: 0.614123\tvalid_1's l1: 0.718674\n",
      "[300]\ttraining's l1: 0.609937\tvalid_1's l1: 0.712211\n",
      "[400]\ttraining's l1: 0.60924\tvalid_1's l1: 0.711056\n",
      "[500]\ttraining's l1: 0.609019\tvalid_1's l1: 0.710865\n",
      "[600]\ttraining's l1: 0.608267\tvalid_1's l1: 0.709553\n",
      "[700]\ttraining's l1: 0.608083\tvalid_1's l1: 0.70929\n"
     ]
    },
    {
     "name": "stderr",
     "output_type": "stream",
     "text": [
      "\u001b[32m[I 2021-07-06 11:26:21,469]\u001b[0m Trial 54 finished with value: -0.7092770289767566 and parameters: {'max_depth': 3, 'min_child_weight': 19, 'subsample': 0.6, 'colsample_bytree': 0.6, 'reg_lambda': 0.39213809868845484, 'reg_alpha': 0.47111554737074746, 'feature_fraction': 0.4083278009975314, 'bagging_fraction': 0.6456048328921808, 'bagging_freq': 4}. Best is trial 52 with value: -0.6771705195661069.\u001b[0m\n"
     ]
    },
    {
     "name": "stdout",
     "output_type": "stream",
     "text": [
      "Early stopping, best iteration is:\n",
      "[692]\ttraining's l1: 0.608091\tvalid_1's l1: 0.709284\n",
      "[LightGBM] [Warning] feature_fraction is set=0.9129071888742418, colsample_bytree=0.6 will be ignored. Current value: feature_fraction=0.9129071888742418\n",
      "[LightGBM] [Warning] bagging_fraction is set=0.5615281021082501, subsample=0.6 will be ignored. Current value: bagging_fraction=0.5615281021082501\n",
      "[LightGBM] [Warning] bagging_freq is set=2, subsample_freq=0 will be ignored. Current value: bagging_freq=2\n",
      "Training until validation scores don't improve for 100 rounds\n",
      "[100]\ttraining's l1: 0.599358\tvalid_1's l1: 0.693845\n",
      "[200]\ttraining's l1: 0.597288\tvalid_1's l1: 0.690255\n",
      "[300]\ttraining's l1: 0.596079\tvalid_1's l1: 0.688427\n",
      "[400]\ttraining's l1: 0.595492\tvalid_1's l1: 0.68727\n",
      "[500]\ttraining's l1: 0.595202\tvalid_1's l1: 0.686852\n",
      "[600]\ttraining's l1: 0.594334\tvalid_1's l1: 0.685282\n",
      "[700]\ttraining's l1: 0.594092\tvalid_1's l1: 0.685052\n",
      "[800]\ttraining's l1: 0.593939\tvalid_1's l1: 0.684663\n",
      "Early stopping, best iteration is:\n",
      "[719]\ttraining's l1: 0.593997\tvalid_1's l1: 0.68464\n"
     ]
    },
    {
     "name": "stderr",
     "output_type": "stream",
     "text": [
      "\u001b[32m[I 2021-07-06 11:26:51,197]\u001b[0m Trial 55 finished with value: -0.6846336144817382 and parameters: {'max_depth': 5, 'min_child_weight': 17, 'subsample': 0.6, 'colsample_bytree': 0.6, 'reg_lambda': 6.923667378851174, 'reg_alpha': 0.9267846961517855, 'feature_fraction': 0.9129071888742418, 'bagging_fraction': 0.5615281021082501, 'bagging_freq': 2}. Best is trial 52 with value: -0.6771705195661069.\u001b[0m\n"
     ]
    },
    {
     "name": "stdout",
     "output_type": "stream",
     "text": [
      "[LightGBM] [Warning] feature_fraction is set=0.9959516577174096, colsample_bytree=0.6 will be ignored. Current value: feature_fraction=0.9959516577174096\n",
      "[LightGBM] [Warning] bagging_fraction is set=0.714636470823831, subsample=0.5 will be ignored. Current value: bagging_fraction=0.714636470823831\n",
      "[LightGBM] [Warning] bagging_freq is set=5, subsample_freq=0 will be ignored. Current value: bagging_freq=5\n",
      "Training until validation scores don't improve for 100 rounds\n",
      "[100]\ttraining's l1: 0.639375\tvalid_1's l1: 0.75608\n"
     ]
    },
    {
     "name": "stderr",
     "output_type": "stream",
     "text": [
      "\u001b[32m[I 2021-07-06 11:26:57,095]\u001b[0m Trial 56 finished with value: -0.7560797701030179 and parameters: {'max_depth': 2, 'min_child_weight': 19, 'subsample': 0.5, 'colsample_bytree': 0.6, 'reg_lambda': 24.731143613797734, 'reg_alpha': 2.973919052210062, 'feature_fraction': 0.9959516577174096, 'bagging_fraction': 0.714636470823831, 'bagging_freq': 5}. Best is trial 52 with value: -0.6771705195661069.\u001b[0m\n"
     ]
    },
    {
     "name": "stdout",
     "output_type": "stream",
     "text": [
      "Early stopping, best iteration is:\n",
      "[76]\ttraining's l1: 0.639375\tvalid_1's l1: 0.75608\n",
      "[LightGBM] [Warning] feature_fraction is set=0.9480773648218292, colsample_bytree=0.7 will be ignored. Current value: feature_fraction=0.9480773648218292\n",
      "[LightGBM] [Warning] bagging_fraction is set=0.7505697844169882, subsample=0.7 will be ignored. Current value: bagging_fraction=0.7505697844169882\n",
      "[LightGBM] [Warning] bagging_freq is set=1, subsample_freq=0 will be ignored. Current value: bagging_freq=1\n",
      "Training until validation scores don't improve for 100 rounds\n",
      "[100]\ttraining's l1: 0.604353\tvalid_1's l1: 0.704642\n",
      "[200]\ttraining's l1: 0.602457\tvalid_1's l1: 0.700665\n",
      "[300]\ttraining's l1: 0.601287\tvalid_1's l1: 0.698499\n",
      "[400]\ttraining's l1: 0.600974\tvalid_1's l1: 0.697657\n",
      "[500]\ttraining's l1: 0.600362\tvalid_1's l1: 0.696302\n"
     ]
    },
    {
     "name": "stderr",
     "output_type": "stream",
     "text": [
      "\u001b[32m[I 2021-07-06 11:27:12,678]\u001b[0m Trial 57 finished with value: -0.6962962685547371 and parameters: {'max_depth': 6, 'min_child_weight': 13, 'subsample': 0.7, 'colsample_bytree': 0.7, 'reg_lambda': 0.7750171387206198, 'reg_alpha': 0.23128738853246086, 'feature_fraction': 0.9480773648218292, 'bagging_fraction': 0.7505697844169882, 'bagging_freq': 1}. Best is trial 52 with value: -0.6771705195661069.\u001b[0m\n"
     ]
    },
    {
     "name": "stdout",
     "output_type": "stream",
     "text": [
      "Early stopping, best iteration is:\n",
      "[483]\ttraining's l1: 0.60037\tvalid_1's l1: 0.696298\n",
      "[LightGBM] [Warning] feature_fraction is set=0.8661543594245021, colsample_bytree=0.7 will be ignored. Current value: feature_fraction=0.8661543594245021\n",
      "[LightGBM] [Warning] bagging_fraction is set=0.8117678029093929, subsample=0.6 will be ignored. Current value: bagging_fraction=0.8117678029093929\n",
      "[LightGBM] [Warning] bagging_freq is set=4, subsample_freq=0 will be ignored. Current value: bagging_freq=4\n",
      "Training until validation scores don't improve for 100 rounds\n",
      "[100]\ttraining's l1: 0.623545\tvalid_1's l1: 0.73383\n",
      "[200]\ttraining's l1: 0.615437\tvalid_1's l1: 0.720617\n",
      "[300]\ttraining's l1: 0.615201\tvalid_1's l1: 0.720206\n",
      "[400]\ttraining's l1: 0.615159\tvalid_1's l1: 0.720099\n",
      "[500]\ttraining's l1: 0.615159\tvalid_1's l1: 0.720099\n",
      "[600]\ttraining's l1: 0.615097\tvalid_1's l1: 0.720062\n",
      "[700]\ttraining's l1: 0.61509\tvalid_1's l1: 0.720078\n"
     ]
    },
    {
     "name": "stderr",
     "output_type": "stream",
     "text": [
      "\u001b[32m[I 2021-07-06 11:27:37,451]\u001b[0m Trial 58 finished with value: -0.7200524450329112 and parameters: {'max_depth': 3, 'min_child_weight': 16, 'subsample': 0.6, 'colsample_bytree': 0.7, 'reg_lambda': 0.13874767703653434, 'reg_alpha': 0.01858961088688213, 'feature_fraction': 0.8661543594245021, 'bagging_fraction': 0.8117678029093929, 'bagging_freq': 4}. Best is trial 52 with value: -0.6771705195661069.\u001b[0m\n"
     ]
    },
    {
     "name": "stdout",
     "output_type": "stream",
     "text": [
      "Early stopping, best iteration is:\n",
      "[687]\ttraining's l1: 0.615097\tvalid_1's l1: 0.720062\n",
      "[LightGBM] [Warning] feature_fraction is set=0.9172808312066977, colsample_bytree=0.6 will be ignored. Current value: feature_fraction=0.9172808312066977\n",
      "[LightGBM] [Warning] bagging_fraction is set=0.6563918870214596, subsample=0.7 will be ignored. Current value: bagging_fraction=0.6563918870214596\n",
      "[LightGBM] [Warning] bagging_freq is set=2, subsample_freq=0 will be ignored. Current value: bagging_freq=2\n",
      "Training until validation scores don't improve for 100 rounds\n",
      "[100]\ttraining's l1: 0.605628\tvalid_1's l1: 0.703892\n",
      "[200]\ttraining's l1: 0.603164\tvalid_1's l1: 0.699044\n",
      "[300]\ttraining's l1: 0.602001\tvalid_1's l1: 0.696876\n",
      "[400]\ttraining's l1: 0.601364\tvalid_1's l1: 0.695465\n",
      "[500]\ttraining's l1: 0.600413\tvalid_1's l1: 0.693447\n",
      "[600]\ttraining's l1: 0.599368\tvalid_1's l1: 0.69136\n",
      "[700]\ttraining's l1: 0.598808\tvalid_1's l1: 0.690153\n",
      "[800]\ttraining's l1: 0.597837\tvalid_1's l1: 0.688536\n",
      "[900]\ttraining's l1: 0.596985\tvalid_1's l1: 0.687577\n",
      "[1000]\ttraining's l1: 0.596181\tvalid_1's l1: 0.685933\n",
      "[1100]\ttraining's l1: 0.595639\tvalid_1's l1: 0.685249\n",
      "[1200]\ttraining's l1: 0.594845\tvalid_1's l1: 0.683917\n",
      "[1300]\ttraining's l1: 0.593595\tvalid_1's l1: 0.682175\n",
      "[1400]\ttraining's l1: 0.593316\tvalid_1's l1: 0.681948\n",
      "Early stopping, best iteration is:\n",
      "[1314]\ttraining's l1: 0.593459\tvalid_1's l1: 0.681911\n"
     ]
    },
    {
     "name": "stderr",
     "output_type": "stream",
     "text": [
      "\u001b[32m[I 2021-07-06 11:28:30,317]\u001b[0m Trial 59 finished with value: -0.6818865132062498 and parameters: {'max_depth': 4, 'min_child_weight': 11, 'subsample': 0.7, 'colsample_bytree': 0.6, 'reg_lambda': 0.0403211633943624, 'reg_alpha': 0.12666821478330795, 'feature_fraction': 0.9172808312066977, 'bagging_fraction': 0.6563918870214596, 'bagging_freq': 2}. Best is trial 52 with value: -0.6771705195661069.\u001b[0m\n"
     ]
    },
    {
     "name": "stdout",
     "output_type": "stream",
     "text": [
      "[LightGBM] [Warning] feature_fraction is set=0.9297176033068553, colsample_bytree=0.5 will be ignored. Current value: feature_fraction=0.9297176033068553\n",
      "[LightGBM] [Warning] bagging_fraction is set=0.6996975849951147, subsample=0.7 will be ignored. Current value: bagging_fraction=0.6996975849951147\n",
      "[LightGBM] [Warning] bagging_freq is set=2, subsample_freq=0 will be ignored. Current value: bagging_freq=2\n",
      "Training until validation scores don't improve for 100 rounds\n",
      "[100]\ttraining's l1: 0.607437\tvalid_1's l1: 0.705887\n",
      "[200]\ttraining's l1: 0.60379\tvalid_1's l1: 0.699015\n",
      "[300]\ttraining's l1: 0.603291\tvalid_1's l1: 0.698322\n",
      "[400]\ttraining's l1: 0.60259\tvalid_1's l1: 0.69693\n",
      "[500]\ttraining's l1: 0.601253\tvalid_1's l1: 0.693997\n",
      "[600]\ttraining's l1: 0.60085\tvalid_1's l1: 0.692832\n"
     ]
    },
    {
     "name": "stderr",
     "output_type": "stream",
     "text": [
      "\u001b[32m[I 2021-07-06 11:28:57,797]\u001b[0m Trial 60 finished with value: -0.6928243673015524 and parameters: {'max_depth': 4, 'min_child_weight': 8, 'subsample': 0.7, 'colsample_bytree': 0.5, 'reg_lambda': 0.015360915640348794, 'reg_alpha': 0.10102199086328172, 'feature_fraction': 0.9297176033068553, 'bagging_fraction': 0.6996975849951147, 'bagging_freq': 2}. Best is trial 52 with value: -0.6771705195661069.\u001b[0m\n"
     ]
    },
    {
     "name": "stdout",
     "output_type": "stream",
     "text": [
      "Early stopping, best iteration is:\n",
      "[588]\ttraining's l1: 0.600856\tvalid_1's l1: 0.692831\n",
      "[LightGBM] [Warning] feature_fraction is set=0.8991259315829385, colsample_bytree=0.6 will be ignored. Current value: feature_fraction=0.8991259315829385\n",
      "[LightGBM] [Warning] bagging_fraction is set=0.6542872400232516, subsample=0.6 will be ignored. Current value: bagging_fraction=0.6542872400232516\n",
      "[LightGBM] [Warning] bagging_freq is set=3, subsample_freq=0 will be ignored. Current value: bagging_freq=3\n",
      "Training until validation scores don't improve for 100 rounds\n",
      "[100]\ttraining's l1: 0.603559\tvalid_1's l1: 0.701241\n",
      "[200]\ttraining's l1: 0.602297\tvalid_1's l1: 0.698809\n",
      "[300]\ttraining's l1: 0.601901\tvalid_1's l1: 0.698429\n",
      "[400]\ttraining's l1: 0.601459\tvalid_1's l1: 0.69757\n",
      "[500]\ttraining's l1: 0.600222\tvalid_1's l1: 0.695565\n",
      "[600]\ttraining's l1: 0.600106\tvalid_1's l1: 0.695394\n",
      "Early stopping, best iteration is:\n",
      "[584]\ttraining's l1: 0.600109\tvalid_1's l1: 0.695392\n"
     ]
    },
    {
     "name": "stderr",
     "output_type": "stream",
     "text": [
      "\u001b[32m[I 2021-07-06 11:29:22,128]\u001b[0m Trial 61 finished with value: -0.6953836156635781 and parameters: {'max_depth': 6, 'min_child_weight': 11, 'subsample': 0.6, 'colsample_bytree': 0.6, 'reg_lambda': 0.03952532473811784, 'reg_alpha': 0.051538354514124, 'feature_fraction': 0.8991259315829385, 'bagging_fraction': 0.6542872400232516, 'bagging_freq': 3}. Best is trial 52 with value: -0.6771705195661069.\u001b[0m\n"
     ]
    },
    {
     "name": "stdout",
     "output_type": "stream",
     "text": [
      "[LightGBM] [Warning] feature_fraction is set=0.9109743979874668, colsample_bytree=0.6 will be ignored. Current value: feature_fraction=0.9109743979874668\n",
      "[LightGBM] [Warning] bagging_fraction is set=0.6845345876794923, subsample=0.7 will be ignored. Current value: bagging_fraction=0.6845345876794923\n",
      "[LightGBM] [Warning] bagging_freq is set=2, subsample_freq=0 will be ignored. Current value: bagging_freq=2\n",
      "Training until validation scores don't improve for 100 rounds\n",
      "[100]\ttraining's l1: 0.607992\tvalid_1's l1: 0.708243\n",
      "[200]\ttraining's l1: 0.605305\tvalid_1's l1: 0.702378\n",
      "[300]\ttraining's l1: 0.603552\tvalid_1's l1: 0.699233\n",
      "[400]\ttraining's l1: 0.603415\tvalid_1's l1: 0.698881\n",
      "[500]\ttraining's l1: 0.603415\tvalid_1's l1: 0.698881\n",
      "[600]\ttraining's l1: 0.603415\tvalid_1's l1: 0.69888\n"
     ]
    },
    {
     "name": "stderr",
     "output_type": "stream",
     "text": [
      "\u001b[32m[I 2021-07-06 11:29:48,611]\u001b[0m Trial 62 finished with value: -0.6988756454154562 and parameters: {'max_depth': 4, 'min_child_weight': 9, 'subsample': 0.7, 'colsample_bytree': 0.6, 'reg_lambda': 0.06990511313900934, 'reg_alpha': 0.1773449847346692, 'feature_fraction': 0.9109743979874668, 'bagging_fraction': 0.6845345876794923, 'bagging_freq': 2}. Best is trial 52 with value: -0.6771705195661069.\u001b[0m\n"
     ]
    },
    {
     "name": "stdout",
     "output_type": "stream",
     "text": [
      "Early stopping, best iteration is:\n",
      "[583]\ttraining's l1: 0.603415\tvalid_1's l1: 0.69888\n",
      "[LightGBM] [Warning] feature_fraction is set=0.9704178167173634, colsample_bytree=0.7 will be ignored. Current value: feature_fraction=0.9704178167173634\n",
      "[LightGBM] [Warning] bagging_fraction is set=0.7256719120334494, subsample=0.6 will be ignored. Current value: bagging_fraction=0.7256719120334494\n",
      "[LightGBM] [Warning] bagging_freq is set=4, subsample_freq=0 will be ignored. Current value: bagging_freq=4\n",
      "Training until validation scores don't improve for 100 rounds\n",
      "[100]\ttraining's l1: 0.676355\tvalid_1's l1: 0.801255\n",
      "[200]\ttraining's l1: 0.676348\tvalid_1's l1: 0.801228\n",
      "[300]\ttraining's l1: 0.676348\tvalid_1's l1: 0.801225\n"
     ]
    },
    {
     "name": "stderr",
     "output_type": "stream",
     "text": [
      "\u001b[32m[I 2021-07-06 11:29:58,259]\u001b[0m Trial 63 finished with value: -0.8012252101059616 and parameters: {'max_depth': 1, 'min_child_weight': 16, 'subsample': 0.6, 'colsample_bytree': 0.7, 'reg_lambda': 0.22882265830351234, 'reg_alpha': 0.455339281987433, 'feature_fraction': 0.9704178167173634, 'bagging_fraction': 0.7256719120334494, 'bagging_freq': 4}. Best is trial 52 with value: -0.6771705195661069.\u001b[0m\n"
     ]
    },
    {
     "name": "stdout",
     "output_type": "stream",
     "text": [
      "Early stopping, best iteration is:\n",
      "[233]\ttraining's l1: 0.676348\tvalid_1's l1: 0.801225\n",
      "[LightGBM] [Warning] feature_fraction is set=0.8484113587271224, colsample_bytree=0.5 will be ignored. Current value: feature_fraction=0.8484113587271224\n",
      "[LightGBM] [Warning] bagging_fraction is set=0.6061812305325679, subsample=0.7 will be ignored. Current value: bagging_fraction=0.6061812305325679\n",
      "[LightGBM] [Warning] bagging_freq is set=3, subsample_freq=0 will be ignored. Current value: bagging_freq=3\n",
      "Training until validation scores don't improve for 100 rounds\n",
      "[100]\ttraining's l1: 0.598606\tvalid_1's l1: 0.693913\n",
      "[200]\ttraining's l1: 0.595324\tvalid_1's l1: 0.688617\n",
      "[300]\ttraining's l1: 0.593003\tvalid_1's l1: 0.685211\n",
      "[400]\ttraining's l1: 0.592315\tvalid_1's l1: 0.684071\n",
      "[500]\ttraining's l1: 0.590346\tvalid_1's l1: 0.680472\n",
      "[600]\ttraining's l1: 0.58956\tvalid_1's l1: 0.67918\n",
      "[700]\ttraining's l1: 0.589038\tvalid_1's l1: 0.678498\n",
      "[800]\ttraining's l1: 0.58811\tvalid_1's l1: 0.677221\n",
      "[900]\ttraining's l1: 0.587784\tvalid_1's l1: 0.676738\n",
      "[1000]\ttraining's l1: 0.587728\tvalid_1's l1: 0.676622\n",
      "[1100]\ttraining's l1: 0.58753\tvalid_1's l1: 0.676162\n",
      "[1200]\ttraining's l1: 0.587418\tvalid_1's l1: 0.675987\n",
      "[1300]\ttraining's l1: 0.587353\tvalid_1's l1: 0.675964\n",
      "[1400]\ttraining's l1: 0.587216\tvalid_1's l1: 0.675739\n",
      "[1500]\ttraining's l1: 0.587084\tvalid_1's l1: 0.675714\n",
      "[1600]\ttraining's l1: 0.586932\tvalid_1's l1: 0.675404\n",
      "[1700]\ttraining's l1: 0.586786\tvalid_1's l1: 0.675175\n",
      "[1800]\ttraining's l1: 0.586469\tvalid_1's l1: 0.675125\n",
      "[1900]\ttraining's l1: 0.586422\tvalid_1's l1: 0.675006\n",
      "[2000]\ttraining's l1: 0.586264\tvalid_1's l1: 0.674976\n",
      "[2100]\ttraining's l1: 0.58611\tvalid_1's l1: 0.674982\n",
      "Early stopping, best iteration is:\n",
      "[2010]\ttraining's l1: 0.586188\tvalid_1's l1: 0.674855\n"
     ]
    },
    {
     "name": "stderr",
     "output_type": "stream",
     "text": [
      "\u001b[32m[I 2021-07-06 11:31:04,596]\u001b[0m Trial 64 finished with value: -0.6748129894552893 and parameters: {'max_depth': 5, 'min_child_weight': 18, 'subsample': 0.7, 'colsample_bytree': 0.5, 'reg_lambda': 0.10491879490053746, 'reg_alpha': 0.9971336279006776, 'feature_fraction': 0.8484113587271224, 'bagging_fraction': 0.6061812305325679, 'bagging_freq': 3}. Best is trial 64 with value: -0.6748129894552893.\u001b[0m\n"
     ]
    },
    {
     "name": "stdout",
     "output_type": "stream",
     "text": [
      "[LightGBM] [Warning] feature_fraction is set=0.933877143836594, colsample_bytree=0.5 will be ignored. Current value: feature_fraction=0.933877143836594\n",
      "[LightGBM] [Warning] bagging_fraction is set=0.5148245198257884, subsample=0.7 will be ignored. Current value: bagging_fraction=0.5148245198257884\n",
      "[LightGBM] [Warning] bagging_freq is set=5, subsample_freq=0 will be ignored. Current value: bagging_freq=5\n",
      "Training until validation scores don't improve for 100 rounds\n",
      "[100]\ttraining's l1: 0.639254\tvalid_1's l1: 0.756341\n",
      "[200]\ttraining's l1: 0.6351\tvalid_1's l1: 0.750072\n",
      "[300]\ttraining's l1: 0.634299\tvalid_1's l1: 0.749119\n",
      "[400]\ttraining's l1: 0.633283\tvalid_1's l1: 0.747308\n"
     ]
    },
    {
     "name": "stderr",
     "output_type": "stream",
     "text": [
      "\u001b[32m[I 2021-07-06 11:31:14,902]\u001b[0m Trial 65 finished with value: -0.7473070821378808 and parameters: {'max_depth': 2, 'min_child_weight': 18, 'subsample': 0.7, 'colsample_bytree': 0.5, 'reg_lambda': 0.12848482389849064, 'reg_alpha': 1.0897821102634468, 'feature_fraction': 0.933877143836594, 'bagging_fraction': 0.5148245198257884, 'bagging_freq': 5}. Best is trial 64 with value: -0.6748129894552893.\u001b[0m\n"
     ]
    },
    {
     "name": "stdout",
     "output_type": "stream",
     "text": [
      "Early stopping, best iteration is:\n",
      "[364]\ttraining's l1: 0.633284\tvalid_1's l1: 0.747307\n",
      "[LightGBM] [Warning] feature_fraction is set=0.8408941760631327, colsample_bytree=0.5 will be ignored. Current value: feature_fraction=0.8408941760631327\n",
      "[LightGBM] [Warning] bagging_fraction is set=0.6163791015267274, subsample=0.7 will be ignored. Current value: bagging_fraction=0.6163791015267274\n",
      "[LightGBM] [Warning] bagging_freq is set=2, subsample_freq=0 will be ignored. Current value: bagging_freq=2\n",
      "Training until validation scores don't improve for 100 rounds\n",
      "[100]\ttraining's l1: 0.607185\tvalid_1's l1: 0.706757\n",
      "[200]\ttraining's l1: 0.606459\tvalid_1's l1: 0.705672\n",
      "[300]\ttraining's l1: 0.606113\tvalid_1's l1: 0.705042\n",
      "[400]\ttraining's l1: 0.606109\tvalid_1's l1: 0.705033\n",
      "[500]\ttraining's l1: 0.606103\tvalid_1's l1: 0.705024\n",
      "[600]\ttraining's l1: 0.6061\tvalid_1's l1: 0.705017\n",
      "[700]\ttraining's l1: 0.606099\tvalid_1's l1: 0.705017\n",
      "Early stopping, best iteration is:\n",
      "[622]\ttraining's l1: 0.6061\tvalid_1's l1: 0.705016\n"
     ]
    },
    {
     "name": "stderr",
     "output_type": "stream",
     "text": [
      "\u001b[32m[I 2021-07-06 11:31:42,658]\u001b[0m Trial 66 finished with value: -0.7050146379623111 and parameters: {'max_depth': 6, 'min_child_weight': 20, 'subsample': 0.7, 'colsample_bytree': 0.5, 'reg_lambda': 0.4412040903527141, 'reg_alpha': 1.6056142638788593, 'feature_fraction': 0.8408941760631327, 'bagging_fraction': 0.6163791015267274, 'bagging_freq': 2}. Best is trial 64 with value: -0.6748129894552893.\u001b[0m\n"
     ]
    },
    {
     "name": "stdout",
     "output_type": "stream",
     "text": [
      "[LightGBM] [Warning] feature_fraction is set=0.9023809999951595, colsample_bytree=0.5 will be ignored. Current value: feature_fraction=0.9023809999951595\n",
      "[LightGBM] [Warning] bagging_fraction is set=0.6058089404359179, subsample=0.7 will be ignored. Current value: bagging_fraction=0.6058089404359179\n",
      "[LightGBM] [Warning] bagging_freq is set=1, subsample_freq=0 will be ignored. Current value: bagging_freq=1\n",
      "Training until validation scores don't improve for 100 rounds\n",
      "[100]\ttraining's l1: 0.612619\tvalid_1's l1: 0.716521\n",
      "[200]\ttraining's l1: 0.611129\tvalid_1's l1: 0.713976\n",
      "[300]\ttraining's l1: 0.611051\tvalid_1's l1: 0.713815\n",
      "[400]\ttraining's l1: 0.611022\tvalid_1's l1: 0.713618\n"
     ]
    },
    {
     "name": "stderr",
     "output_type": "stream",
     "text": [
      "\u001b[32m[I 2021-07-06 11:31:54,336]\u001b[0m Trial 67 finished with value: -0.7136152874162692 and parameters: {'max_depth': 8, 'min_child_weight': 18, 'subsample': 0.7, 'colsample_bytree': 0.5, 'reg_lambda': 0.08707753459675896, 'reg_alpha': 2.9736912028739386, 'feature_fraction': 0.9023809999951595, 'bagging_fraction': 0.6058089404359179, 'bagging_freq': 1}. Best is trial 64 with value: -0.6748129894552893.\u001b[0m\n"
     ]
    },
    {
     "name": "stdout",
     "output_type": "stream",
     "text": [
      "Early stopping, best iteration is:\n",
      "[377]\ttraining's l1: 0.611024\tvalid_1's l1: 0.713616\n",
      "[LightGBM] [Warning] feature_fraction is set=0.7701563066022011, colsample_bytree=0.5 will be ignored. Current value: feature_fraction=0.7701563066022011\n",
      "[LightGBM] [Warning] bagging_fraction is set=0.5771865232319241, subsample=0.7 will be ignored. Current value: bagging_fraction=0.5771865232319241\n",
      "[LightGBM] [Warning] bagging_freq is set=3, subsample_freq=0 will be ignored. Current value: bagging_freq=3\n",
      "Training until validation scores don't improve for 100 rounds\n",
      "[100]\ttraining's l1: 0.60929\tvalid_1's l1: 0.712612\n",
      "[200]\ttraining's l1: 0.607752\tvalid_1's l1: 0.710062\n",
      "[300]\ttraining's l1: 0.607747\tvalid_1's l1: 0.71006\n"
     ]
    },
    {
     "name": "stderr",
     "output_type": "stream",
     "text": [
      "\u001b[32m[I 2021-07-06 11:32:07,971]\u001b[0m Trial 68 finished with value: -0.710058601054979 and parameters: {'max_depth': 7, 'min_child_weight': 10, 'subsample': 0.7, 'colsample_bytree': 0.5, 'reg_lambda': 0.010606850126939975, 'reg_alpha': 0.3793914271091996, 'feature_fraction': 0.7701563066022011, 'bagging_fraction': 0.5771865232319241, 'bagging_freq': 3}. Best is trial 64 with value: -0.6748129894552893.\u001b[0m\n"
     ]
    },
    {
     "name": "stdout",
     "output_type": "stream",
     "text": [
      "Early stopping, best iteration is:\n",
      "[298]\ttraining's l1: 0.607747\tvalid_1's l1: 0.71006\n",
      "[LightGBM] [Warning] feature_fraction is set=0.855416967045666, colsample_bytree=0.6 will be ignored. Current value: feature_fraction=0.855416967045666\n",
      "[LightGBM] [Warning] bagging_fraction is set=0.6516710687478832, subsample=0.7 will be ignored. Current value: bagging_fraction=0.6516710687478832\n",
      "[LightGBM] [Warning] bagging_freq is set=4, subsample_freq=0 will be ignored. Current value: bagging_freq=4\n",
      "Training until validation scores don't improve for 100 rounds\n",
      "[100]\ttraining's l1: 0.60718\tvalid_1's l1: 0.705753\n",
      "[200]\ttraining's l1: 0.604509\tvalid_1's l1: 0.701258\n",
      "[300]\ttraining's l1: 0.603733\tvalid_1's l1: 0.700011\n",
      "[400]\ttraining's l1: 0.60373\tvalid_1's l1: 0.700012\n"
     ]
    },
    {
     "name": "stderr",
     "output_type": "stream",
     "text": [
      "\u001b[32m[I 2021-07-06 11:32:20,920]\u001b[0m Trial 69 finished with value: -0.7000074462758005 and parameters: {'max_depth': 4, 'min_child_weight': 7, 'subsample': 0.7, 'colsample_bytree': 0.6, 'reg_lambda': 0.029663596625152947, 'reg_alpha': 0.7285663242805971, 'feature_fraction': 0.855416967045666, 'bagging_fraction': 0.6516710687478832, 'bagging_freq': 4}. Best is trial 64 with value: -0.6748129894552893.\u001b[0m\n"
     ]
    },
    {
     "name": "stdout",
     "output_type": "stream",
     "text": [
      "Early stopping, best iteration is:\n",
      "[315]\ttraining's l1: 0.603733\tvalid_1's l1: 0.70001\n",
      "[LightGBM] [Warning] feature_fraction is set=0.9817874045701738, colsample_bytree=0.7 will be ignored. Current value: feature_fraction=0.9817874045701738\n",
      "[LightGBM] [Warning] bagging_fraction is set=0.7405290074367051, subsample=0.6 will be ignored. Current value: bagging_fraction=0.7405290074367051\n",
      "[LightGBM] [Warning] bagging_freq is set=3, subsample_freq=0 will be ignored. Current value: bagging_freq=3\n",
      "Training until validation scores don't improve for 100 rounds\n",
      "[100]\ttraining's l1: 0.602094\tvalid_1's l1: 0.698226\n",
      "[200]\ttraining's l1: 0.599562\tvalid_1's l1: 0.693409\n",
      "[300]\ttraining's l1: 0.597772\tvalid_1's l1: 0.69083\n",
      "[400]\ttraining's l1: 0.596886\tvalid_1's l1: 0.68929\n",
      "[500]\ttraining's l1: 0.596235\tvalid_1's l1: 0.688245\n",
      "[600]\ttraining's l1: 0.595852\tvalid_1's l1: 0.687343\n",
      "[700]\ttraining's l1: 0.595115\tvalid_1's l1: 0.686134\n",
      "[800]\ttraining's l1: 0.594358\tvalid_1's l1: 0.684748\n",
      "[900]\ttraining's l1: 0.594022\tvalid_1's l1: 0.684522\n",
      "[1000]\ttraining's l1: 0.593912\tvalid_1's l1: 0.684422\n",
      "[1100]\ttraining's l1: 0.593815\tvalid_1's l1: 0.684378\n",
      "[1200]\ttraining's l1: 0.593411\tvalid_1's l1: 0.683412\n",
      "[1300]\ttraining's l1: 0.593272\tvalid_1's l1: 0.683332\n",
      "[1400]\ttraining's l1: 0.593004\tvalid_1's l1: 0.683038\n",
      "[1500]\ttraining's l1: 0.592701\tvalid_1's l1: 0.682228\n",
      "[1600]\ttraining's l1: 0.592691\tvalid_1's l1: 0.682225\n",
      "Early stopping, best iteration is:\n",
      "[1575]\ttraining's l1: 0.592693\tvalid_1's l1: 0.682223\n"
     ]
    },
    {
     "name": "stderr",
     "output_type": "stream",
     "text": [
      "\u001b[32m[I 2021-07-06 11:33:21,986]\u001b[0m Trial 70 finished with value: -0.682188467816503 and parameters: {'max_depth': 5, 'min_child_weight': 17, 'subsample': 0.6, 'colsample_bytree': 0.7, 'reg_lambda': 1.906477121790523, 'reg_alpha': 0.2796332341990009, 'feature_fraction': 0.9817874045701738, 'bagging_fraction': 0.7405290074367051, 'bagging_freq': 3}. Best is trial 64 with value: -0.6748129894552893.\u001b[0m\n"
     ]
    },
    {
     "name": "stdout",
     "output_type": "stream",
     "text": [
      "[LightGBM] [Warning] feature_fraction is set=0.9583902939489708, colsample_bytree=0.7 will be ignored. Current value: feature_fraction=0.9583902939489708\n",
      "[LightGBM] [Warning] bagging_fraction is set=0.7561105502182031, subsample=0.6 will be ignored. Current value: bagging_fraction=0.7561105502182031\n",
      "[LightGBM] [Warning] bagging_freq is set=3, subsample_freq=0 will be ignored. Current value: bagging_freq=3\n",
      "Training until validation scores don't improve for 100 rounds\n",
      "[100]\ttraining's l1: 0.62184\tvalid_1's l1: 0.729903\n",
      "[200]\ttraining's l1: 0.614587\tvalid_1's l1: 0.717731\n",
      "[300]\ttraining's l1: 0.613953\tvalid_1's l1: 0.716909\n",
      "[400]\ttraining's l1: 0.613715\tvalid_1's l1: 0.716702\n",
      "[500]\ttraining's l1: 0.61247\tvalid_1's l1: 0.713811\n",
      "[600]\ttraining's l1: 0.612095\tvalid_1's l1: 0.713206\n",
      "[700]\ttraining's l1: 0.611575\tvalid_1's l1: 0.712318\n",
      "[800]\ttraining's l1: 0.610391\tvalid_1's l1: 0.710848\n",
      "[900]\ttraining's l1: 0.610327\tvalid_1's l1: 0.710734\n"
     ]
    },
    {
     "name": "stderr",
     "output_type": "stream",
     "text": [
      "\u001b[32m[I 2021-07-06 11:33:52,950]\u001b[0m Trial 71 finished with value: -0.7107172904916189 and parameters: {'max_depth': 3, 'min_child_weight': 17, 'subsample': 0.6, 'colsample_bytree': 0.7, 'reg_lambda': 2.0528280648309143, 'reg_alpha': 0.10759219409929521, 'feature_fraction': 0.9583902939489708, 'bagging_fraction': 0.7561105502182031, 'bagging_freq': 3}. Best is trial 64 with value: -0.6748129894552893.\u001b[0m\n"
     ]
    },
    {
     "name": "stdout",
     "output_type": "stream",
     "text": [
      "Early stopping, best iteration is:\n",
      "[826]\ttraining's l1: 0.610333\tvalid_1's l1: 0.710725\n",
      "[LightGBM] [Warning] feature_fraction is set=0.9791212640899183, colsample_bytree=0.7 will be ignored. Current value: feature_fraction=0.9791212640899183\n",
      "[LightGBM] [Warning] bagging_fraction is set=0.6989675934427053, subsample=0.6 will be ignored. Current value: bagging_fraction=0.6989675934427053\n",
      "[LightGBM] [Warning] bagging_freq is set=2, subsample_freq=0 will be ignored. Current value: bagging_freq=2\n",
      "Training until validation scores don't improve for 100 rounds\n",
      "[100]\ttraining's l1: 0.602677\tvalid_1's l1: 0.699099\n",
      "[200]\ttraining's l1: 0.600652\tvalid_1's l1: 0.695547\n",
      "[300]\ttraining's l1: 0.599233\tvalid_1's l1: 0.693293\n",
      "[400]\ttraining's l1: 0.598974\tvalid_1's l1: 0.692813\n",
      "[500]\ttraining's l1: 0.598275\tvalid_1's l1: 0.691654\n",
      "[600]\ttraining's l1: 0.597997\tvalid_1's l1: 0.691223\n",
      "[700]\ttraining's l1: 0.597561\tvalid_1's l1: 0.690629\n",
      "[800]\ttraining's l1: 0.595789\tvalid_1's l1: 0.688015\n",
      "[900]\ttraining's l1: 0.594854\tvalid_1's l1: 0.686481\n",
      "[1000]\ttraining's l1: 0.594648\tvalid_1's l1: 0.686269\n",
      "[1100]\ttraining's l1: 0.594269\tvalid_1's l1: 0.68541\n",
      "[1200]\ttraining's l1: 0.59385\tvalid_1's l1: 0.685039\n",
      "[1300]\ttraining's l1: 0.593363\tvalid_1's l1: 0.683986\n",
      "[1400]\ttraining's l1: 0.593175\tvalid_1's l1: 0.683815\n",
      "[1500]\ttraining's l1: 0.592774\tvalid_1's l1: 0.683159\n",
      "[1600]\ttraining's l1: 0.592629\tvalid_1's l1: 0.683156\n",
      "Early stopping, best iteration is:\n",
      "[1597]\ttraining's l1: 0.59263\tvalid_1's l1: 0.683155\n"
     ]
    },
    {
     "name": "stderr",
     "output_type": "stream",
     "text": [
      "\u001b[32m[I 2021-07-06 11:35:02,719]\u001b[0m Trial 72 finished with value: -0.6831395426109715 and parameters: {'max_depth': 5, 'min_child_weight': 19, 'subsample': 0.6, 'colsample_bytree': 0.7, 'reg_lambda': 1.1114377255635965, 'reg_alpha': 0.2762853019422278, 'feature_fraction': 0.9791212640899183, 'bagging_fraction': 0.6989675934427053, 'bagging_freq': 2}. Best is trial 64 with value: -0.6748129894552893.\u001b[0m\n"
     ]
    },
    {
     "name": "stdout",
     "output_type": "stream",
     "text": [
      "[LightGBM] [Warning] feature_fraction is set=0.6150671951616649, colsample_bytree=0.7 will be ignored. Current value: feature_fraction=0.6150671951616649\n",
      "[LightGBM] [Warning] bagging_fraction is set=0.7368252686855528, subsample=0.6 will be ignored. Current value: bagging_fraction=0.7368252686855528\n",
      "[LightGBM] [Warning] bagging_freq is set=3, subsample_freq=0 will be ignored. Current value: bagging_freq=3\n",
      "Training until validation scores don't improve for 100 rounds\n",
      "[100]\ttraining's l1: 0.602385\tvalid_1's l1: 0.700601\n",
      "[200]\ttraining's l1: 0.602307\tvalid_1's l1: 0.700449\n",
      "[300]\ttraining's l1: 0.602282\tvalid_1's l1: 0.700394\n",
      "[400]\ttraining's l1: 0.601048\tvalid_1's l1: 0.698464\n",
      "[500]\ttraining's l1: 0.60102\tvalid_1's l1: 0.698434\n",
      "[600]\ttraining's l1: 0.601016\tvalid_1's l1: 0.69843\n",
      "[700]\ttraining's l1: 0.600736\tvalid_1's l1: 0.698009\n",
      "[800]\ttraining's l1: 0.599921\tvalid_1's l1: 0.69717\n",
      "[900]\ttraining's l1: 0.599706\tvalid_1's l1: 0.696779\n",
      "[1000]\ttraining's l1: 0.599673\tvalid_1's l1: 0.696693\n",
      "[1100]\ttraining's l1: 0.599642\tvalid_1's l1: 0.696672\n",
      "Early stopping, best iteration is:\n",
      "[1018]\ttraining's l1: 0.599643\tvalid_1's l1: 0.69667\n"
     ]
    },
    {
     "name": "stderr",
     "output_type": "stream",
     "text": [
      "\u001b[32m[I 2021-07-06 11:35:46,785]\u001b[0m Trial 73 finished with value: -0.6966654777043031 and parameters: {'max_depth': 5, 'min_child_weight': 17, 'subsample': 0.6, 'colsample_bytree': 0.7, 'reg_lambda': 0.017604435816020062, 'reg_alpha': 0.1548387918821742, 'feature_fraction': 0.6150671951616649, 'bagging_fraction': 0.7368252686855528, 'bagging_freq': 3}. Best is trial 64 with value: -0.6748129894552893.\u001b[0m\n"
     ]
    },
    {
     "name": "stdout",
     "output_type": "stream",
     "text": [
      "[LightGBM] [Warning] feature_fraction is set=0.8907301878158316, colsample_bytree=0.6 will be ignored. Current value: feature_fraction=0.8907301878158316\n",
      "[LightGBM] [Warning] bagging_fraction is set=0.6520049135892718, subsample=0.6 will be ignored. Current value: bagging_fraction=0.6520049135892718\n",
      "[LightGBM] [Warning] bagging_freq is set=7, subsample_freq=0 will be ignored. Current value: bagging_freq=7\n",
      "Training until validation scores don't improve for 100 rounds\n",
      "[100]\ttraining's l1: 0.608158\tvalid_1's l1: 0.708373\n",
      "[200]\ttraining's l1: 0.605165\tvalid_1's l1: 0.703785\n",
      "[300]\ttraining's l1: 0.605162\tvalid_1's l1: 0.703781\n"
     ]
    },
    {
     "name": "stderr",
     "output_type": "stream",
     "text": [
      "\u001b[32m[I 2021-07-06 11:35:57,787]\u001b[0m Trial 74 finished with value: -0.7037778084595081 and parameters: {'max_depth': 4, 'min_child_weight': 11, 'subsample': 0.6, 'colsample_bytree': 0.6, 'reg_lambda': 5.985704220714816, 'reg_alpha': 2.1835330622432907, 'feature_fraction': 0.8907301878158316, 'bagging_fraction': 0.6520049135892718, 'bagging_freq': 7}. Best is trial 64 with value: -0.6748129894552893.\u001b[0m\n"
     ]
    },
    {
     "name": "stdout",
     "output_type": "stream",
     "text": [
      "[400]\ttraining's l1: 0.605161\tvalid_1's l1: 0.703781\n",
      "Early stopping, best iteration is:\n",
      "[300]\ttraining's l1: 0.605162\tvalid_1's l1: 0.703781\n",
      "[LightGBM] [Warning] feature_fraction is set=0.9206083584307855, colsample_bytree=0.8 will be ignored. Current value: feature_fraction=0.9206083584307855\n",
      "[LightGBM] [Warning] bagging_fraction is set=0.7868739173237473, subsample=0.7 will be ignored. Current value: bagging_fraction=0.7868739173237473\n",
      "[LightGBM] [Warning] bagging_freq is set=4, subsample_freq=0 will be ignored. Current value: bagging_freq=4\n",
      "Training until validation scores don't improve for 100 rounds\n",
      "[100]\ttraining's l1: 0.606333\tvalid_1's l1: 0.70571\n",
      "[200]\ttraining's l1: 0.605481\tvalid_1's l1: 0.704396\n",
      "[300]\ttraining's l1: 0.604676\tvalid_1's l1: 0.702757\n",
      "[400]\ttraining's l1: 0.60467\tvalid_1's l1: 0.702782\n",
      "Early stopping, best iteration is:\n",
      "[304]\ttraining's l1: 0.604674\tvalid_1's l1: 0.702754\n"
     ]
    },
    {
     "name": "stderr",
     "output_type": "stream",
     "text": [
      "\u001b[32m[I 2021-07-06 11:36:13,311]\u001b[0m Trial 75 finished with value: -0.702751059119769 and parameters: {'max_depth': 6, 'min_child_weight': 16, 'subsample': 0.7, 'colsample_bytree': 0.8, 'reg_lambda': 0.519433851175111, 'reg_alpha': 0.7097061256944421, 'feature_fraction': 0.9206083584307855, 'bagging_fraction': 0.7868739173237473, 'bagging_freq': 4}. Best is trial 64 with value: -0.6748129894552893.\u001b[0m\n"
     ]
    },
    {
     "name": "stdout",
     "output_type": "stream",
     "text": [
      "[LightGBM] [Warning] feature_fraction is set=0.9382637957692653, colsample_bytree=0.7 will be ignored. Current value: feature_fraction=0.9382637957692653\n",
      "[LightGBM] [Warning] bagging_fraction is set=0.7178532328244929, subsample=0.6 will be ignored. Current value: bagging_fraction=0.7178532328244929\n",
      "[LightGBM] [Warning] bagging_freq is set=3, subsample_freq=0 will be ignored. Current value: bagging_freq=3\n",
      "Training until validation scores don't improve for 100 rounds\n",
      "[100]\ttraining's l1: 0.6225\tvalid_1's l1: 0.730989\n",
      "[200]\ttraining's l1: 0.621628\tvalid_1's l1: 0.729443\n",
      "[300]\ttraining's l1: 0.619371\tvalid_1's l1: 0.725963\n",
      "[400]\ttraining's l1: 0.619231\tvalid_1's l1: 0.725724\n",
      "[500]\ttraining's l1: 0.619152\tvalid_1's l1: 0.725674\n",
      "[600]\ttraining's l1: 0.619151\tvalid_1's l1: 0.725674\n",
      "[700]\ttraining's l1: 0.619151\tvalid_1's l1: 0.725673\n",
      "[800]\ttraining's l1: 0.618738\tvalid_1's l1: 0.724784\n",
      "[900]\ttraining's l1: 0.618734\tvalid_1's l1: 0.724781\n",
      "[1000]\ttraining's l1: 0.618732\tvalid_1's l1: 0.724779\n",
      "[1100]\ttraining's l1: 0.618732\tvalid_1's l1: 0.724782\n",
      "Early stopping, best iteration is:\n",
      "[1017]\ttraining's l1: 0.618732\tvalid_1's l1: 0.724779\n"
     ]
    },
    {
     "name": "stderr",
     "output_type": "stream",
     "text": [
      "\u001b[32m[I 2021-07-06 11:36:48,433]\u001b[0m Trial 76 finished with value: -0.7247741799028999 and parameters: {'max_depth': 3, 'min_child_weight': 19, 'subsample': 0.6, 'colsample_bytree': 0.7, 'reg_lambda': 0.057533151876273815, 'reg_alpha': 0.3068019696850003, 'feature_fraction': 0.9382637957692653, 'bagging_fraction': 0.7178532328244929, 'bagging_freq': 3}. Best is trial 64 with value: -0.6748129894552893.\u001b[0m\n"
     ]
    },
    {
     "name": "stdout",
     "output_type": "stream",
     "text": [
      "[LightGBM] [Warning] feature_fraction is set=0.8246564362329083, colsample_bytree=0.7 will be ignored. Current value: feature_fraction=0.8246564362329083\n",
      "[LightGBM] [Warning] bagging_fraction is set=0.6297875255810443, subsample=0.5 will be ignored. Current value: bagging_fraction=0.6297875255810443\n",
      "[LightGBM] [Warning] bagging_freq is set=3, subsample_freq=0 will be ignored. Current value: bagging_freq=3\n",
      "Training until validation scores don't improve for 100 rounds\n",
      "[100]\ttraining's l1: 0.600769\tvalid_1's l1: 0.698557\n"
     ]
    },
    {
     "name": "stderr",
     "output_type": "stream",
     "text": [
      "\u001b[32m[I 2021-07-06 11:36:55,043]\u001b[0m Trial 77 finished with value: -0.6985543964632042 and parameters: {'max_depth': 5, 'min_child_weight': 18, 'subsample': 0.5, 'colsample_bytree': 0.7, 'reg_lambda': 2.46957717688288, 'reg_alpha': 0.07378324719786462, 'feature_fraction': 0.8246564362329083, 'bagging_fraction': 0.6297875255810443, 'bagging_freq': 3}. Best is trial 64 with value: -0.6748129894552893.\u001b[0m\n"
     ]
    },
    {
     "name": "stdout",
     "output_type": "stream",
     "text": [
      "Early stopping, best iteration is:\n",
      "[59]\ttraining's l1: 0.600789\tvalid_1's l1: 0.698555\n",
      "[LightGBM] [Warning] feature_fraction is set=0.9883938553721657, colsample_bytree=0.8 will be ignored. Current value: feature_fraction=0.9883938553721657\n",
      "[LightGBM] [Warning] bagging_fraction is set=0.6648879931541631, subsample=0.6 will be ignored. Current value: bagging_fraction=0.6648879931541631\n",
      "[LightGBM] [Warning] bagging_freq is set=4, subsample_freq=0 will be ignored. Current value: bagging_freq=4\n",
      "Training until validation scores don't improve for 100 rounds\n",
      "[100]\ttraining's l1: 0.614998\tvalid_1's l1: 0.719221\n",
      "[200]\ttraining's l1: 0.609684\tvalid_1's l1: 0.709517\n",
      "[300]\ttraining's l1: 0.608874\tvalid_1's l1: 0.707951\n",
      "[400]\ttraining's l1: 0.6077\tvalid_1's l1: 0.705938\n",
      "[500]\ttraining's l1: 0.606964\tvalid_1's l1: 0.704563\n",
      "[600]\ttraining's l1: 0.606259\tvalid_1's l1: 0.703402\n",
      "[700]\ttraining's l1: 0.605376\tvalid_1's l1: 0.702523\n",
      "[800]\ttraining's l1: 0.604192\tvalid_1's l1: 0.700071\n",
      "[900]\ttraining's l1: 0.603291\tvalid_1's l1: 0.69808\n",
      "[1000]\ttraining's l1: 0.602544\tvalid_1's l1: 0.696644\n",
      "[1100]\ttraining's l1: 0.601026\tvalid_1's l1: 0.694017\n",
      "[1200]\ttraining's l1: 0.59963\tvalid_1's l1: 0.692358\n",
      "[1300]\ttraining's l1: 0.598883\tvalid_1's l1: 0.691345\n",
      "[1400]\ttraining's l1: 0.598693\tvalid_1's l1: 0.691222\n",
      "[1500]\ttraining's l1: 0.598129\tvalid_1's l1: 0.690144\n",
      "[1600]\ttraining's l1: 0.59789\tvalid_1's l1: 0.689901\n",
      "[1700]\ttraining's l1: 0.59729\tvalid_1's l1: 0.689073\n",
      "[1800]\ttraining's l1: 0.597206\tvalid_1's l1: 0.688969\n",
      "Early stopping, best iteration is:\n",
      "[1707]\ttraining's l1: 0.59722\tvalid_1's l1: 0.688945\n"
     ]
    },
    {
     "name": "stderr",
     "output_type": "stream",
     "text": [
      "\u001b[32m[I 2021-07-06 11:37:48,001]\u001b[0m Trial 78 finished with value: -0.6889091436410946 and parameters: {'max_depth': 4, 'min_child_weight': 6, 'subsample': 0.6, 'colsample_bytree': 0.8, 'reg_lambda': 0.038989642172839054, 'reg_alpha': 6.616478779184153, 'feature_fraction': 0.9883938553721657, 'bagging_fraction': 0.6648879931541631, 'bagging_freq': 4}. Best is trial 64 with value: -0.6748129894552893.\u001b[0m\n"
     ]
    },
    {
     "name": "stdout",
     "output_type": "stream",
     "text": [
      "[LightGBM] [Warning] feature_fraction is set=0.8023893283052028, colsample_bytree=0.6 will be ignored. Current value: feature_fraction=0.8023893283052028\n",
      "[LightGBM] [Warning] bagging_fraction is set=0.6885867700752513, subsample=0.7 will be ignored. Current value: bagging_fraction=0.6885867700752513\n",
      "[LightGBM] [Warning] bagging_freq is set=2, subsample_freq=0 will be ignored. Current value: bagging_freq=2\n",
      "Training until validation scores don't improve for 100 rounds\n",
      "[100]\ttraining's l1: 0.610466\tvalid_1's l1: 0.712338\n",
      "[200]\ttraining's l1: 0.609079\tvalid_1's l1: 0.710497\n"
     ]
    },
    {
     "name": "stderr",
     "output_type": "stream",
     "text": [
      "\u001b[32m[I 2021-07-06 11:37:59,989]\u001b[0m Trial 79 finished with value: -0.7104736449369459 and parameters: {'max_depth': 7, 'min_child_weight': 14, 'subsample': 0.7, 'colsample_bytree': 0.6, 'reg_lambda': 0.09604360368480401, 'reg_alpha': 0.17394504094814484, 'feature_fraction': 0.8023893283052028, 'bagging_fraction': 0.6885867700752513, 'bagging_freq': 2}. Best is trial 64 with value: -0.6748129894552893.\u001b[0m\n"
     ]
    },
    {
     "name": "stdout",
     "output_type": "stream",
     "text": [
      "Early stopping, best iteration is:\n",
      "[164]\ttraining's l1: 0.60908\tvalid_1's l1: 0.710474\n",
      "[LightGBM] [Warning] feature_fraction is set=0.8769049887422627, colsample_bytree=0.7 will be ignored. Current value: feature_fraction=0.8769049887422627\n",
      "[LightGBM] [Warning] bagging_fraction is set=0.5964819892917547, subsample=0.6 will be ignored. Current value: bagging_fraction=0.5964819892917547\n",
      "[LightGBM] [Warning] bagging_freq is set=5, subsample_freq=0 will be ignored. Current value: bagging_freq=5\n",
      "Training until validation scores don't improve for 100 rounds\n",
      "[100]\ttraining's l1: 0.612587\tvalid_1's l1: 0.716642\n",
      "[200]\ttraining's l1: 0.610582\tvalid_1's l1: 0.712681\n",
      "[300]\ttraining's l1: 0.610435\tvalid_1's l1: 0.712371\n",
      "[400]\ttraining's l1: 0.609977\tvalid_1's l1: 0.711909\n",
      "[500]\ttraining's l1: 0.609975\tvalid_1's l1: 0.711909\n"
     ]
    },
    {
     "name": "stderr",
     "output_type": "stream",
     "text": [
      "\u001b[32m[I 2021-07-06 11:38:15,509]\u001b[0m Trial 80 finished with value: -0.7119077607859019 and parameters: {'max_depth': 16, 'min_child_weight': 8, 'subsample': 0.6, 'colsample_bytree': 0.7, 'reg_lambda': 1.2591799304250977, 'reg_alpha': 0.5297952277081254, 'feature_fraction': 0.8769049887422627, 'bagging_fraction': 0.5964819892917547, 'bagging_freq': 5}. Best is trial 64 with value: -0.6748129894552893.\u001b[0m\n"
     ]
    },
    {
     "name": "stdout",
     "output_type": "stream",
     "text": [
      "Early stopping, best iteration is:\n",
      "[413]\ttraining's l1: 0.609976\tvalid_1's l1: 0.711908\n",
      "[LightGBM] [Warning] feature_fraction is set=0.9773342172640207, colsample_bytree=0.7 will be ignored. Current value: feature_fraction=0.9773342172640207\n",
      "[LightGBM] [Warning] bagging_fraction is set=0.7075651053618977, subsample=0.6 will be ignored. Current value: bagging_fraction=0.7075651053618977\n",
      "[LightGBM] [Warning] bagging_freq is set=1, subsample_freq=0 will be ignored. Current value: bagging_freq=1\n",
      "Training until validation scores don't improve for 100 rounds\n",
      "[100]\ttraining's l1: 0.602299\tvalid_1's l1: 0.698431\n",
      "[200]\ttraining's l1: 0.600259\tvalid_1's l1: 0.695066\n",
      "[300]\ttraining's l1: 0.599962\tvalid_1's l1: 0.694495\n",
      "[400]\ttraining's l1: 0.59858\tvalid_1's l1: 0.691757\n",
      "[500]\ttraining's l1: 0.598159\tvalid_1's l1: 0.691199\n",
      "[600]\ttraining's l1: 0.59715\tvalid_1's l1: 0.689417\n",
      "[700]\ttraining's l1: 0.597097\tvalid_1's l1: 0.689378\n",
      "[800]\ttraining's l1: 0.596163\tvalid_1's l1: 0.687912\n",
      "[900]\ttraining's l1: 0.595514\tvalid_1's l1: 0.686941\n",
      "[1000]\ttraining's l1: 0.595229\tvalid_1's l1: 0.686588\n",
      "[1100]\ttraining's l1: 0.593716\tvalid_1's l1: 0.684622\n",
      "[1200]\ttraining's l1: 0.593351\tvalid_1's l1: 0.684086\n",
      "[1300]\ttraining's l1: 0.591897\tvalid_1's l1: 0.682458\n",
      "[1400]\ttraining's l1: 0.59164\tvalid_1's l1: 0.681954\n",
      "[1500]\ttraining's l1: 0.591252\tvalid_1's l1: 0.681208\n",
      "Early stopping, best iteration is:\n",
      "[1485]\ttraining's l1: 0.591262\tvalid_1's l1: 0.681197\n"
     ]
    },
    {
     "name": "stderr",
     "output_type": "stream",
     "text": [
      "\u001b[32m[I 2021-07-06 11:38:52,665]\u001b[0m Trial 81 finished with value: -0.6811601285542339 and parameters: {'max_depth': 5, 'min_child_weight': 20, 'subsample': 0.6, 'colsample_bytree': 0.7, 'reg_lambda': 0.37437906839842305, 'reg_alpha': 1.196970341128837, 'feature_fraction': 0.9773342172640207, 'bagging_fraction': 0.7075651053618977, 'bagging_freq': 1}. Best is trial 64 with value: -0.6748129894552893.\u001b[0m\n"
     ]
    },
    {
     "name": "stdout",
     "output_type": "stream",
     "text": [
      "[LightGBM] [Warning] feature_fraction is set=0.9520516223761551, colsample_bytree=0.7 will be ignored. Current value: feature_fraction=0.9520516223761551\n",
      "[LightGBM] [Warning] bagging_fraction is set=0.7430126307406206, subsample=0.6 will be ignored. Current value: bagging_fraction=0.7430126307406206\n",
      "[LightGBM] [Warning] bagging_freq is set=2, subsample_freq=0 will be ignored. Current value: bagging_freq=2\n",
      "Training until validation scores don't improve for 100 rounds\n",
      "[100]\ttraining's l1: 0.601486\tvalid_1's l1: 0.697447\n",
      "[200]\ttraining's l1: 0.597637\tvalid_1's l1: 0.690852\n",
      "[300]\ttraining's l1: 0.596329\tvalid_1's l1: 0.688804\n",
      "[400]\ttraining's l1: 0.595097\tvalid_1's l1: 0.686676\n",
      "[500]\ttraining's l1: 0.594042\tvalid_1's l1: 0.684695\n",
      "[600]\ttraining's l1: 0.59292\tvalid_1's l1: 0.682993\n",
      "[700]\ttraining's l1: 0.592784\tvalid_1's l1: 0.682966\n",
      "[800]\ttraining's l1: 0.591326\tvalid_1's l1: 0.680883\n",
      "[900]\ttraining's l1: 0.590602\tvalid_1's l1: 0.67967\n",
      "[1000]\ttraining's l1: 0.590238\tvalid_1's l1: 0.679044\n",
      "[1100]\ttraining's l1: 0.590106\tvalid_1's l1: 0.679022\n",
      "[1200]\ttraining's l1: 0.589847\tvalid_1's l1: 0.678741\n",
      "[1300]\ttraining's l1: 0.589222\tvalid_1's l1: 0.677379\n",
      "[1400]\ttraining's l1: 0.588563\tvalid_1's l1: 0.676744\n",
      "[1500]\ttraining's l1: 0.58781\tvalid_1's l1: 0.675423\n",
      "[1600]\ttraining's l1: 0.587567\tvalid_1's l1: 0.675252\n",
      "[1700]\ttraining's l1: 0.587084\tvalid_1's l1: 0.67493\n",
      "[1800]\ttraining's l1: 0.586774\tvalid_1's l1: 0.674855\n",
      "[1900]\ttraining's l1: 0.586312\tvalid_1's l1: 0.67391\n",
      "[2000]\ttraining's l1: 0.586153\tvalid_1's l1: 0.673682\n",
      "[2100]\ttraining's l1: 0.585888\tvalid_1's l1: 0.673721\n",
      "Early stopping, best iteration is:\n",
      "[2028]\ttraining's l1: 0.58611\tvalid_1's l1: 0.673646\n"
     ]
    },
    {
     "name": "stderr",
     "output_type": "stream",
     "text": [
      "\u001b[32m[I 2021-07-06 11:40:21,820]\u001b[0m Trial 82 finished with value: -0.6736096205401898 and parameters: {'max_depth': 5, 'min_child_weight': 20, 'subsample': 0.6, 'colsample_bytree': 0.7, 'reg_lambda': 0.32582268128965863, 'reg_alpha': 1.066490003542216, 'feature_fraction': 0.9520516223761551, 'bagging_fraction': 0.7430126307406206, 'bagging_freq': 2}. Best is trial 82 with value: -0.6736096205401898.\u001b[0m\n"
     ]
    },
    {
     "name": "stdout",
     "output_type": "stream",
     "text": [
      "[LightGBM] [Warning] feature_fraction is set=0.9580168366771666, colsample_bytree=0.7 will be ignored. Current value: feature_fraction=0.9580168366771666\n",
      "[LightGBM] [Warning] bagging_fraction is set=0.7422465580840834, subsample=0.6 will be ignored. Current value: bagging_fraction=0.7422465580840834\n",
      "[LightGBM] [Warning] bagging_freq is set=1, subsample_freq=0 will be ignored. Current value: bagging_freq=1\n",
      "Training until validation scores don't improve for 100 rounds\n",
      "[100]\ttraining's l1: 0.606191\tvalid_1's l1: 0.706701\n",
      "[200]\ttraining's l1: 0.604016\tvalid_1's l1: 0.702289\n",
      "[300]\ttraining's l1: 0.602321\tvalid_1's l1: 0.699429\n",
      "[400]\ttraining's l1: 0.600913\tvalid_1's l1: 0.695857\n",
      "[500]\ttraining's l1: 0.600174\tvalid_1's l1: 0.694522\n"
     ]
    },
    {
     "name": "stderr",
     "output_type": "stream",
     "text": [
      "\u001b[32m[I 2021-07-06 11:40:36,708]\u001b[0m Trial 83 finished with value: -0.6945165257397653 and parameters: {'max_depth': 6, 'min_child_weight': 20, 'subsample': 0.6, 'colsample_bytree': 0.7, 'reg_lambda': 0.6411530752722521, 'reg_alpha': 1.2410583776290827, 'feature_fraction': 0.9580168366771666, 'bagging_fraction': 0.7422465580840834, 'bagging_freq': 1}. Best is trial 82 with value: -0.6736096205401898.\u001b[0m\n"
     ]
    },
    {
     "name": "stdout",
     "output_type": "stream",
     "text": [
      "Early stopping, best iteration is:\n",
      "[450]\ttraining's l1: 0.600179\tvalid_1's l1: 0.694522\n",
      "[LightGBM] [Warning] feature_fraction is set=0.9855002646959383, colsample_bytree=0.7 will be ignored. Current value: feature_fraction=0.9855002646959383\n",
      "[LightGBM] [Warning] bagging_fraction is set=0.7671845404849538, subsample=0.6 will be ignored. Current value: bagging_fraction=0.7671845404849538\n",
      "[LightGBM] [Warning] bagging_freq is set=1, subsample_freq=0 will be ignored. Current value: bagging_freq=1\n",
      "Training until validation scores don't improve for 100 rounds\n",
      "[100]\ttraining's l1: 0.610546\tvalid_1's l1: 0.712044\n",
      "[200]\ttraining's l1: 0.607076\tvalid_1's l1: 0.705752\n",
      "[300]\ttraining's l1: 0.604917\tvalid_1's l1: 0.701695\n",
      "[400]\ttraining's l1: 0.604781\tvalid_1's l1: 0.701603\n",
      "[500]\ttraining's l1: 0.603272\tvalid_1's l1: 0.699473\n",
      "[600]\ttraining's l1: 0.602545\tvalid_1's l1: 0.698376\n",
      "[700]\ttraining's l1: 0.602042\tvalid_1's l1: 0.697342\n",
      "[800]\ttraining's l1: 0.601803\tvalid_1's l1: 0.696952\n",
      "[900]\ttraining's l1: 0.601105\tvalid_1's l1: 0.695535\n",
      "[1000]\ttraining's l1: 0.600964\tvalid_1's l1: 0.695353\n",
      "[1100]\ttraining's l1: 0.600338\tvalid_1's l1: 0.693469\n",
      "[1200]\ttraining's l1: 0.599013\tvalid_1's l1: 0.691006\n",
      "[1300]\ttraining's l1: 0.598371\tvalid_1's l1: 0.689783\n",
      "[1400]\ttraining's l1: 0.597855\tvalid_1's l1: 0.688508\n",
      "Early stopping, best iteration is:\n",
      "[1311]\ttraining's l1: 0.59788\tvalid_1's l1: 0.688496\n"
     ]
    },
    {
     "name": "stderr",
     "output_type": "stream",
     "text": [
      "\u001b[32m[I 2021-07-06 11:41:08,871]\u001b[0m Trial 84 finished with value: -0.6884795093897036 and parameters: {'max_depth': 4, 'min_child_weight': 18, 'subsample': 0.6, 'colsample_bytree': 0.7, 'reg_lambda': 0.2093179054316896, 'reg_alpha': 1.4164834206810617, 'feature_fraction': 0.9855002646959383, 'bagging_fraction': 0.7671845404849538, 'bagging_freq': 1}. Best is trial 82 with value: -0.6736096205401898.\u001b[0m\n"
     ]
    },
    {
     "name": "stdout",
     "output_type": "stream",
     "text": [
      "[LightGBM] [Warning] feature_fraction is set=0.9487418992699173, colsample_bytree=0.7 will be ignored. Current value: feature_fraction=0.9487418992699173\n",
      "[LightGBM] [Warning] bagging_fraction is set=0.7137939408375636, subsample=0.6 will be ignored. Current value: bagging_fraction=0.7137939408375636\n",
      "[LightGBM] [Warning] bagging_freq is set=2, subsample_freq=0 will be ignored. Current value: bagging_freq=2\n",
      "Training until validation scores don't improve for 100 rounds\n",
      "[100]\ttraining's l1: 0.599706\tvalid_1's l1: 0.695853\n",
      "[200]\ttraining's l1: 0.597564\tvalid_1's l1: 0.69162\n",
      "[300]\ttraining's l1: 0.596218\tvalid_1's l1: 0.689301\n",
      "[400]\ttraining's l1: 0.595138\tvalid_1's l1: 0.687381\n",
      "[500]\ttraining's l1: 0.594666\tvalid_1's l1: 0.687225\n",
      "[600]\ttraining's l1: 0.593459\tvalid_1's l1: 0.685309\n",
      "[700]\ttraining's l1: 0.593267\tvalid_1's l1: 0.685187\n",
      "[800]\ttraining's l1: 0.592229\tvalid_1's l1: 0.683832\n",
      "[900]\ttraining's l1: 0.591368\tvalid_1's l1: 0.682423\n",
      "[1000]\ttraining's l1: 0.590906\tvalid_1's l1: 0.681862\n",
      "[1100]\ttraining's l1: 0.589956\tvalid_1's l1: 0.680902\n",
      "[1200]\ttraining's l1: 0.589594\tvalid_1's l1: 0.680526\n",
      "[1300]\ttraining's l1: 0.589078\tvalid_1's l1: 0.679658\n",
      "[1400]\ttraining's l1: 0.589031\tvalid_1's l1: 0.679679\n",
      "[1500]\ttraining's l1: 0.58857\tvalid_1's l1: 0.679018\n",
      "[1600]\ttraining's l1: 0.588375\tvalid_1's l1: 0.678882\n",
      "[1700]\ttraining's l1: 0.588058\tvalid_1's l1: 0.678618\n",
      "[1800]\ttraining's l1: 0.587466\tvalid_1's l1: 0.677776\n",
      "[1900]\ttraining's l1: 0.587271\tvalid_1's l1: 0.677509\n",
      "[2000]\ttraining's l1: 0.586945\tvalid_1's l1: 0.677271\n",
      "[2100]\ttraining's l1: 0.586623\tvalid_1's l1: 0.677006\n",
      "[2200]\ttraining's l1: 0.586297\tvalid_1's l1: 0.676726\n",
      "[2300]\ttraining's l1: 0.585731\tvalid_1's l1: 0.676302\n",
      "[2400]\ttraining's l1: 0.585548\tvalid_1's l1: 0.676322\n",
      "Early stopping, best iteration is:\n",
      "[2310]\ttraining's l1: 0.58569\tvalid_1's l1: 0.676244\n"
     ]
    },
    {
     "name": "stderr",
     "output_type": "stream",
     "text": [
      "\u001b[32m[I 2021-07-06 11:42:47,922]\u001b[0m Trial 85 finished with value: -0.6762008232631074 and parameters: {'max_depth': 5, 'min_child_weight': 20, 'subsample': 0.6, 'colsample_bytree': 0.7, 'reg_lambda': 0.339639667606567, 'reg_alpha': 3.722611178695175, 'feature_fraction': 0.9487418992699173, 'bagging_fraction': 0.7137939408375636, 'bagging_freq': 2}. Best is trial 82 with value: -0.6736096205401898.\u001b[0m\n"
     ]
    },
    {
     "name": "stdout",
     "output_type": "stream",
     "text": [
      "[LightGBM] [Warning] feature_fraction is set=0.9509644738985311, colsample_bytree=0.7 will be ignored. Current value: feature_fraction=0.9509644738985311\n",
      "[LightGBM] [Warning] bagging_fraction is set=0.7088716030585973, subsample=0.6 will be ignored. Current value: bagging_fraction=0.7088716030585973\n",
      "[LightGBM] [Warning] bagging_freq is set=2, subsample_freq=0 will be ignored. Current value: bagging_freq=2\n",
      "Training until validation scores don't improve for 100 rounds\n",
      "[100]\ttraining's l1: 0.606868\tvalid_1's l1: 0.707603\n",
      "[200]\ttraining's l1: 0.605001\tvalid_1's l1: 0.703447\n",
      "[300]\ttraining's l1: 0.604583\tvalid_1's l1: 0.702551\n",
      "[400]\ttraining's l1: 0.603812\tvalid_1's l1: 0.700417\n",
      "[500]\ttraining's l1: 0.603386\tvalid_1's l1: 0.699867\n",
      "[600]\ttraining's l1: 0.602049\tvalid_1's l1: 0.697038\n",
      "[700]\ttraining's l1: 0.600175\tvalid_1's l1: 0.694386\n",
      "[800]\ttraining's l1: 0.599296\tvalid_1's l1: 0.692437\n",
      "[900]\ttraining's l1: 0.59904\tvalid_1's l1: 0.692095\n",
      "[1000]\ttraining's l1: 0.598835\tvalid_1's l1: 0.691798\n",
      "[1100]\ttraining's l1: 0.598563\tvalid_1's l1: 0.691101\n",
      "Early stopping, best iteration is:\n",
      "[1037]\ttraining's l1: 0.598576\tvalid_1's l1: 0.691092\n"
     ]
    },
    {
     "name": "stderr",
     "output_type": "stream",
     "text": [
      "\u001b[32m[I 2021-07-06 11:43:35,312]\u001b[0m Trial 86 finished with value: -0.6910650586879087 and parameters: {'max_depth': 6, 'min_child_weight': 20, 'subsample': 0.6, 'colsample_bytree': 0.7, 'reg_lambda': 0.16903163192370643, 'reg_alpha': 22.423004990031902, 'feature_fraction': 0.9509644738985311, 'bagging_fraction': 0.7088716030585973, 'bagging_freq': 2}. Best is trial 82 with value: -0.6736096205401898.\u001b[0m\n"
     ]
    },
    {
     "name": "stdout",
     "output_type": "stream",
     "text": [
      "[LightGBM] [Warning] feature_fraction is set=0.911280942173603, colsample_bytree=0.7 will be ignored. Current value: feature_fraction=0.911280942173603\n",
      "[LightGBM] [Warning] bagging_fraction is set=0.6798397557873352, subsample=0.6 will be ignored. Current value: bagging_fraction=0.6798397557873352\n",
      "[LightGBM] [Warning] bagging_freq is set=2, subsample_freq=0 will be ignored. Current value: bagging_freq=2\n",
      "Training until validation scores don't improve for 100 rounds\n",
      "[100]\ttraining's l1: 0.599507\tvalid_1's l1: 0.695673\n",
      "[200]\ttraining's l1: 0.597449\tvalid_1's l1: 0.691764\n",
      "[300]\ttraining's l1: 0.595595\tvalid_1's l1: 0.688587\n",
      "[400]\ttraining's l1: 0.594554\tvalid_1's l1: 0.68654\n",
      "[500]\ttraining's l1: 0.594433\tvalid_1's l1: 0.686344\n",
      "[600]\ttraining's l1: 0.592928\tvalid_1's l1: 0.683491\n",
      "[700]\ttraining's l1: 0.592292\tvalid_1's l1: 0.682468\n",
      "[800]\ttraining's l1: 0.591741\tvalid_1's l1: 0.68141\n",
      "[900]\ttraining's l1: 0.591206\tvalid_1's l1: 0.680439\n",
      "[1000]\ttraining's l1: 0.59088\tvalid_1's l1: 0.680368\n",
      "[1100]\ttraining's l1: 0.588358\tvalid_1's l1: 0.676522\n",
      "[1200]\ttraining's l1: 0.588095\tvalid_1's l1: 0.676076\n",
      "[1300]\ttraining's l1: 0.587903\tvalid_1's l1: 0.675914\n",
      "[1400]\ttraining's l1: 0.587705\tvalid_1's l1: 0.675609\n",
      "Early stopping, best iteration is:\n",
      "[1332]\ttraining's l1: 0.587742\tvalid_1's l1: 0.67559\n"
     ]
    },
    {
     "name": "stderr",
     "output_type": "stream",
     "text": [
      "\u001b[32m[I 2021-07-06 11:44:32,843]\u001b[0m Trial 87 finished with value: -0.6755553125212713 and parameters: {'max_depth': 5, 'min_child_weight': 19, 'subsample': 0.6, 'colsample_bytree': 0.7, 'reg_lambda': 0.34565638312758035, 'reg_alpha': 2.2770490300038095, 'feature_fraction': 0.911280942173603, 'bagging_fraction': 0.6798397557873352, 'bagging_freq': 2}. Best is trial 82 with value: -0.6736096205401898.\u001b[0m\n"
     ]
    },
    {
     "name": "stdout",
     "output_type": "stream",
     "text": [
      "[LightGBM] [Warning] feature_fraction is set=0.9341060020449593, colsample_bytree=0.7 will be ignored. Current value: feature_fraction=0.9341060020449593\n",
      "[LightGBM] [Warning] bagging_fraction is set=0.800620527476344, subsample=0.6 will be ignored. Current value: bagging_fraction=0.800620527476344\n",
      "[LightGBM] [Warning] bagging_freq is set=1, subsample_freq=0 will be ignored. Current value: bagging_freq=1\n",
      "Training until validation scores don't improve for 100 rounds\n",
      "[100]\ttraining's l1: 0.609201\tvalid_1's l1: 0.711817\n",
      "[200]\ttraining's l1: 0.609165\tvalid_1's l1: 0.711811\n",
      "[300]\ttraining's l1: 0.608736\tvalid_1's l1: 0.710532\n",
      "[400]\ttraining's l1: 0.60871\tvalid_1's l1: 0.710504\n",
      "[500]\ttraining's l1: 0.608705\tvalid_1's l1: 0.710506\n"
     ]
    },
    {
     "name": "stderr",
     "output_type": "stream",
     "text": [
      "\u001b[32m[I 2021-07-06 11:44:48,261]\u001b[0m Trial 88 finished with value: -0.7104980440846964 and parameters: {'max_depth': 7, 'min_child_weight': 19, 'subsample': 0.6, 'colsample_bytree': 0.7, 'reg_lambda': 0.7491244405380659, 'reg_alpha': 3.8727164384470467, 'feature_fraction': 0.9341060020449593, 'bagging_fraction': 0.800620527476344, 'bagging_freq': 1}. Best is trial 82 with value: -0.6736096205401898.\u001b[0m\n"
     ]
    },
    {
     "name": "stdout",
     "output_type": "stream",
     "text": [
      "Early stopping, best iteration is:\n",
      "[460]\ttraining's l1: 0.608707\tvalid_1's l1: 0.710501\n",
      "[LightGBM] [Warning] feature_fraction is set=0.8866034266235672, colsample_bytree=0.7 will be ignored. Current value: feature_fraction=0.8866034266235672\n",
      "[LightGBM] [Warning] bagging_fraction is set=0.7186386952284, subsample=0.6 will be ignored. Current value: bagging_fraction=0.7186386952284\n",
      "[LightGBM] [Warning] bagging_freq is set=2, subsample_freq=0 will be ignored. Current value: bagging_freq=2\n",
      "Training until validation scores don't improve for 100 rounds\n",
      "[100]\ttraining's l1: 0.611516\tvalid_1's l1: 0.715125\n",
      "[200]\ttraining's l1: 0.61035\tvalid_1's l1: 0.712578\n",
      "[300]\ttraining's l1: 0.609669\tvalid_1's l1: 0.711521\n"
     ]
    },
    {
     "name": "stderr",
     "output_type": "stream",
     "text": [
      "\u001b[32m[I 2021-07-06 11:45:05,944]\u001b[0m Trial 89 finished with value: -0.7115143601099296 and parameters: {'max_depth': 8, 'min_child_weight': 20, 'subsample': 0.6, 'colsample_bytree': 0.7, 'reg_lambda': 0.3698007358471493, 'reg_alpha': 6.110338045642303, 'feature_fraction': 0.8866034266235672, 'bagging_fraction': 0.7186386952284, 'bagging_freq': 2}. Best is trial 82 with value: -0.6736096205401898.\u001b[0m\n"
     ]
    },
    {
     "name": "stdout",
     "output_type": "stream",
     "text": [
      "Early stopping, best iteration is:\n",
      "[288]\ttraining's l1: 0.609696\tvalid_1's l1: 0.711515\n",
      "[LightGBM] [Warning] feature_fraction is set=0.9058945715852098, colsample_bytree=0.7 will be ignored. Current value: feature_fraction=0.9058945715852098\n",
      "[LightGBM] [Warning] bagging_fraction is set=0.6708091982623681, subsample=0.5 will be ignored. Current value: bagging_fraction=0.6708091982623681\n",
      "[LightGBM] [Warning] bagging_freq is set=1, subsample_freq=0 will be ignored. Current value: bagging_freq=1\n",
      "Training until validation scores don't improve for 100 rounds\n",
      "[100]\ttraining's l1: 0.606051\tvalid_1's l1: 0.705644\n",
      "[200]\ttraining's l1: 0.602031\tvalid_1's l1: 0.698264\n",
      "[300]\ttraining's l1: 0.600714\tvalid_1's l1: 0.696834\n",
      "[400]\ttraining's l1: 0.600586\tvalid_1's l1: 0.696678\n"
     ]
    },
    {
     "name": "stderr",
     "output_type": "stream",
     "text": [
      "\u001b[32m[I 2021-07-06 11:45:16,795]\u001b[0m Trial 90 finished with value: -0.6966581162517766 and parameters: {'max_depth': 6, 'min_child_weight': 20, 'subsample': 0.5, 'colsample_bytree': 0.7, 'reg_lambda': 0.3059005218280607, 'reg_alpha': 1.9781940421843758, 'feature_fraction': 0.9058945715852098, 'bagging_fraction': 0.6708091982623681, 'bagging_freq': 1}. Best is trial 82 with value: -0.6736096205401898.\u001b[0m\n"
     ]
    },
    {
     "name": "stdout",
     "output_type": "stream",
     "text": [
      "Early stopping, best iteration is:\n",
      "[316]\ttraining's l1: 0.600596\tvalid_1's l1: 0.696663\n",
      "[LightGBM] [Warning] feature_fraction is set=0.9171938723131136, colsample_bytree=0.7 will be ignored. Current value: feature_fraction=0.9171938723131136\n",
      "[LightGBM] [Warning] bagging_fraction is set=0.6888358422376236, subsample=0.6 will be ignored. Current value: bagging_fraction=0.6888358422376236\n",
      "[LightGBM] [Warning] bagging_freq is set=2, subsample_freq=0 will be ignored. Current value: bagging_freq=2\n",
      "Training until validation scores don't improve for 100 rounds\n",
      "[100]\ttraining's l1: 0.599048\tvalid_1's l1: 0.694432\n",
      "[200]\ttraining's l1: 0.597512\tvalid_1's l1: 0.691424\n",
      "[300]\ttraining's l1: 0.595354\tvalid_1's l1: 0.688325\n",
      "[400]\ttraining's l1: 0.594549\tvalid_1's l1: 0.686787\n",
      "[500]\ttraining's l1: 0.594359\tvalid_1's l1: 0.686697\n",
      "[600]\ttraining's l1: 0.593205\tvalid_1's l1: 0.684454\n",
      "[700]\ttraining's l1: 0.592662\tvalid_1's l1: 0.683688\n",
      "[800]\ttraining's l1: 0.591791\tvalid_1's l1: 0.682892\n",
      "[900]\ttraining's l1: 0.59133\tvalid_1's l1: 0.682182\n",
      "[1000]\ttraining's l1: 0.590944\tvalid_1's l1: 0.681921\n",
      "[1100]\ttraining's l1: 0.590821\tvalid_1's l1: 0.681599\n",
      "[1200]\ttraining's l1: 0.590029\tvalid_1's l1: 0.680239\n",
      "Early stopping, best iteration is:\n",
      "[1193]\ttraining's l1: 0.590031\tvalid_1's l1: 0.680224\n"
     ]
    },
    {
     "name": "stderr",
     "output_type": "stream",
     "text": [
      "\u001b[32m[I 2021-07-06 11:46:09,121]\u001b[0m Trial 91 finished with value: -0.6802069704462119 and parameters: {'max_depth': 5, 'min_child_weight': 19, 'subsample': 0.6, 'colsample_bytree': 0.7, 'reg_lambda': 0.43614044335309626, 'reg_alpha': 2.2920944696523424, 'feature_fraction': 0.9171938723131136, 'bagging_fraction': 0.6888358422376236, 'bagging_freq': 2}. Best is trial 82 with value: -0.6736096205401898.\u001b[0m\n"
     ]
    },
    {
     "name": "stdout",
     "output_type": "stream",
     "text": [
      "[LightGBM] [Warning] feature_fraction is set=0.9988165034987981, colsample_bytree=0.7 will be ignored. Current value: feature_fraction=0.9988165034987981\n",
      "[LightGBM] [Warning] bagging_fraction is set=0.6853170158521317, subsample=0.6 will be ignored. Current value: bagging_fraction=0.6853170158521317\n",
      "[LightGBM] [Warning] bagging_freq is set=2, subsample_freq=0 will be ignored. Current value: bagging_freq=2\n",
      "Training until validation scores don't improve for 100 rounds\n",
      "[100]\ttraining's l1: 0.603264\tvalid_1's l1: 0.699317\n",
      "[200]\ttraining's l1: 0.601635\tvalid_1's l1: 0.696385\n",
      "[300]\ttraining's l1: 0.601171\tvalid_1's l1: 0.695426\n",
      "[400]\ttraining's l1: 0.600531\tvalid_1's l1: 0.693945\n",
      "[500]\ttraining's l1: 0.600345\tvalid_1's l1: 0.693712\n",
      "[600]\ttraining's l1: 0.600191\tvalid_1's l1: 0.693427\n",
      "[700]\ttraining's l1: 0.599999\tvalid_1's l1: 0.693283\n",
      "[800]\ttraining's l1: 0.59933\tvalid_1's l1: 0.691618\n",
      "[900]\ttraining's l1: 0.599225\tvalid_1's l1: 0.691545\n",
      "[1000]\ttraining's l1: 0.598621\tvalid_1's l1: 0.69023\n",
      "Early stopping, best iteration is:\n",
      "[991]\ttraining's l1: 0.598624\tvalid_1's l1: 0.69023\n"
     ]
    },
    {
     "name": "stderr",
     "output_type": "stream",
     "text": [
      "\u001b[32m[I 2021-07-06 11:46:53,610]\u001b[0m Trial 92 finished with value: -0.6902190633882453 and parameters: {'max_depth': 5, 'min_child_weight': 19, 'subsample': 0.6, 'colsample_bytree': 0.7, 'reg_lambda': 0.3530063251767546, 'reg_alpha': 2.55784706913575, 'feature_fraction': 0.9988165034987981, 'bagging_fraction': 0.6853170158521317, 'bagging_freq': 2}. Best is trial 82 with value: -0.6736096205401898.\u001b[0m\n"
     ]
    },
    {
     "name": "stdout",
     "output_type": "stream",
     "text": [
      "[LightGBM] [Warning] feature_fraction is set=0.9251929477106352, colsample_bytree=0.7 will be ignored. Current value: feature_fraction=0.9251929477106352\n",
      "[LightGBM] [Warning] bagging_fraction is set=0.7654513865938385, subsample=0.6 will be ignored. Current value: bagging_fraction=0.7654513865938385\n",
      "[LightGBM] [Warning] bagging_freq is set=3, subsample_freq=0 will be ignored. Current value: bagging_freq=3\n",
      "Training until validation scores don't improve for 100 rounds\n",
      "[100]\ttraining's l1: 0.618553\tvalid_1's l1: 0.725018\n",
      "[200]\ttraining's l1: 0.615921\tvalid_1's l1: 0.720866\n",
      "[300]\ttraining's l1: 0.61592\tvalid_1's l1: 0.720864\n",
      "[400]\ttraining's l1: 0.615784\tvalid_1's l1: 0.720679\n",
      "[500]\ttraining's l1: 0.615784\tvalid_1's l1: 0.720678\n",
      "[600]\ttraining's l1: 0.615696\tvalid_1's l1: 0.720451\n",
      "[700]\ttraining's l1: 0.615696\tvalid_1's l1: 0.720451\n"
     ]
    },
    {
     "name": "stderr",
     "output_type": "stream",
     "text": [
      "\u001b[32m[I 2021-07-06 11:47:18,888]\u001b[0m Trial 93 finished with value: -0.7204482207133599 and parameters: {'max_depth': 3, 'min_child_weight': 19, 'subsample': 0.6, 'colsample_bytree': 0.7, 'reg_lambda': 0.9329022462979709, 'reg_alpha': 3.654766173833463, 'feature_fraction': 0.9251929477106352, 'bagging_fraction': 0.7654513865938385, 'bagging_freq': 3}. Best is trial 82 with value: -0.6736096205401898.\u001b[0m\n"
     ]
    },
    {
     "name": "stdout",
     "output_type": "stream",
     "text": [
      "Early stopping, best iteration is:\n",
      "[662]\ttraining's l1: 0.615696\tvalid_1's l1: 0.720451\n",
      "[LightGBM] [Warning] feature_fraction is set=0.9422774254189675, colsample_bytree=0.7 will be ignored. Current value: feature_fraction=0.9422774254189675\n",
      "[LightGBM] [Warning] bagging_fraction is set=0.6389929199820304, subsample=0.6 will be ignored. Current value: bagging_fraction=0.6389929199820304\n",
      "[LightGBM] [Warning] bagging_freq is set=2, subsample_freq=0 will be ignored. Current value: bagging_freq=2\n",
      "Training until validation scores don't improve for 100 rounds\n",
      "[100]\ttraining's l1: 0.602607\tvalid_1's l1: 0.699619\n",
      "[200]\ttraining's l1: 0.600225\tvalid_1's l1: 0.695246\n",
      "[300]\ttraining's l1: 0.598453\tvalid_1's l1: 0.691993\n",
      "[400]\ttraining's l1: 0.597285\tvalid_1's l1: 0.689577\n",
      "[500]\ttraining's l1: 0.597033\tvalid_1's l1: 0.689319\n",
      "[600]\ttraining's l1: 0.594599\tvalid_1's l1: 0.685828\n",
      "[700]\ttraining's l1: 0.594012\tvalid_1's l1: 0.685399\n",
      "[800]\ttraining's l1: 0.593575\tvalid_1's l1: 0.68473\n",
      "[900]\ttraining's l1: 0.592695\tvalid_1's l1: 0.682959\n",
      "[1000]\ttraining's l1: 0.592502\tvalid_1's l1: 0.682638\n",
      "[1100]\ttraining's l1: 0.591713\tvalid_1's l1: 0.681451\n",
      "[1200]\ttraining's l1: 0.591447\tvalid_1's l1: 0.680942\n",
      "[1300]\ttraining's l1: 0.59112\tvalid_1's l1: 0.680483\n",
      "[1400]\ttraining's l1: 0.590662\tvalid_1's l1: 0.679962\n",
      "[1500]\ttraining's l1: 0.590467\tvalid_1's l1: 0.679799\n",
      "[1600]\ttraining's l1: 0.590118\tvalid_1's l1: 0.679324\n",
      "Early stopping, best iteration is:\n",
      "[1597]\ttraining's l1: 0.59012\tvalid_1's l1: 0.679321\n"
     ]
    },
    {
     "name": "stderr",
     "output_type": "stream",
     "text": [
      "\u001b[32m[I 2021-07-06 11:48:24,123]\u001b[0m Trial 94 finished with value: -0.6792936491218775 and parameters: {'max_depth': 5, 'min_child_weight': 18, 'subsample': 0.6, 'colsample_bytree': 0.7, 'reg_lambda': 0.45211255252252974, 'reg_alpha': 10.662229774826415, 'feature_fraction': 0.9422774254189675, 'bagging_fraction': 0.6389929199820304, 'bagging_freq': 2}. Best is trial 82 with value: -0.6736096205401898.\u001b[0m\n"
     ]
    },
    {
     "name": "stdout",
     "output_type": "stream",
     "text": [
      "[LightGBM] [Warning] feature_fraction is set=0.9426851847968596, colsample_bytree=0.7 will be ignored. Current value: feature_fraction=0.9426851847968596\n",
      "[LightGBM] [Warning] bagging_fraction is set=0.6436680709083196, subsample=0.6 will be ignored. Current value: bagging_fraction=0.6436680709083196\n",
      "[LightGBM] [Warning] bagging_freq is set=2, subsample_freq=0 will be ignored. Current value: bagging_freq=2\n",
      "Training until validation scores don't improve for 100 rounds\n",
      "[100]\ttraining's l1: 0.601768\tvalid_1's l1: 0.697618\n",
      "[200]\ttraining's l1: 0.599105\tvalid_1's l1: 0.692772\n",
      "[300]\ttraining's l1: 0.597937\tvalid_1's l1: 0.690847\n",
      "[400]\ttraining's l1: 0.59734\tvalid_1's l1: 0.68995\n",
      "[500]\ttraining's l1: 0.597179\tvalid_1's l1: 0.689859\n",
      "[600]\ttraining's l1: 0.596998\tvalid_1's l1: 0.68967\n",
      "[700]\ttraining's l1: 0.596005\tvalid_1's l1: 0.687848\n",
      "[800]\ttraining's l1: 0.595749\tvalid_1's l1: 0.687487\n",
      "[900]\ttraining's l1: 0.595055\tvalid_1's l1: 0.686217\n",
      "Early stopping, best iteration is:\n",
      "[864]\ttraining's l1: 0.595096\tvalid_1's l1: 0.686189\n"
     ]
    },
    {
     "name": "stderr",
     "output_type": "stream",
     "text": [
      "\u001b[32m[I 2021-07-06 11:49:01,936]\u001b[0m Trial 95 finished with value: -0.6861723358558498 and parameters: {'max_depth': 5, 'min_child_weight': 18, 'subsample': 0.6, 'colsample_bytree': 0.7, 'reg_lambda': 0.5678180034761328, 'reg_alpha': 5.325113530135846, 'feature_fraction': 0.9426851847968596, 'bagging_fraction': 0.6436680709083196, 'bagging_freq': 2}. Best is trial 82 with value: -0.6736096205401898.\u001b[0m\n"
     ]
    },
    {
     "name": "stdout",
     "output_type": "stream",
     "text": [
      "[LightGBM] [Warning] feature_fraction is set=0.9021445703519887, colsample_bytree=0.7 will be ignored. Current value: feature_fraction=0.9021445703519887\n",
      "[LightGBM] [Warning] bagging_fraction is set=0.6288251300640977, subsample=0.6 will be ignored. Current value: bagging_fraction=0.6288251300640977\n",
      "[LightGBM] [Warning] bagging_freq is set=2, subsample_freq=0 will be ignored. Current value: bagging_freq=2\n",
      "Training until validation scores don't improve for 100 rounds\n",
      "[100]\ttraining's l1: 0.608103\tvalid_1's l1: 0.708158\n",
      "[200]\ttraining's l1: 0.605475\tvalid_1's l1: 0.702864\n",
      "[300]\ttraining's l1: 0.603333\tvalid_1's l1: 0.698571\n",
      "[400]\ttraining's l1: 0.602864\tvalid_1's l1: 0.697628\n",
      "[500]\ttraining's l1: 0.602059\tvalid_1's l1: 0.696065\n",
      "[600]\ttraining's l1: 0.600512\tvalid_1's l1: 0.69322\n",
      "[700]\ttraining's l1: 0.599896\tvalid_1's l1: 0.692168\n",
      "[800]\ttraining's l1: 0.599665\tvalid_1's l1: 0.691854\n",
      "[900]\ttraining's l1: 0.598464\tvalid_1's l1: 0.689465\n",
      "[1000]\ttraining's l1: 0.597563\tvalid_1's l1: 0.688213\n",
      "[1100]\ttraining's l1: 0.596731\tvalid_1's l1: 0.6867\n",
      "[1200]\ttraining's l1: 0.596175\tvalid_1's l1: 0.685768\n",
      "[1300]\ttraining's l1: 0.595122\tvalid_1's l1: 0.684139\n",
      "[1400]\ttraining's l1: 0.59432\tvalid_1's l1: 0.683685\n",
      "[1500]\ttraining's l1: 0.594101\tvalid_1's l1: 0.683574\n",
      "[1600]\ttraining's l1: 0.593594\tvalid_1's l1: 0.682848\n",
      "[1700]\ttraining's l1: 0.593353\tvalid_1's l1: 0.682529\n",
      "[1800]\ttraining's l1: 0.593107\tvalid_1's l1: 0.682288\n",
      "[1900]\ttraining's l1: 0.59274\tvalid_1's l1: 0.681777\n",
      "[2000]\ttraining's l1: 0.592538\tvalid_1's l1: 0.681657\n",
      "[2100]\ttraining's l1: 0.592324\tvalid_1's l1: 0.681351\n",
      "Early stopping, best iteration is:\n",
      "[2073]\ttraining's l1: 0.592327\tvalid_1's l1: 0.681349\n"
     ]
    },
    {
     "name": "stderr",
     "output_type": "stream",
     "text": [
      "\u001b[32m[I 2021-07-06 11:50:20,293]\u001b[0m Trial 96 finished with value: -0.681316944044816 and parameters: {'max_depth': 4, 'min_child_weight': 18, 'subsample': 0.6, 'colsample_bytree': 0.7, 'reg_lambda': 0.22674376753938966, 'reg_alpha': 1.6708781089036588, 'feature_fraction': 0.9021445703519887, 'bagging_fraction': 0.6288251300640977, 'bagging_freq': 2}. Best is trial 82 with value: -0.6736096205401898.\u001b[0m\n"
     ]
    },
    {
     "name": "stdout",
     "output_type": "stream",
     "text": [
      "[LightGBM] [Warning] feature_fraction is set=0.9582177614499889, colsample_bytree=0.7 will be ignored. Current value: feature_fraction=0.9582177614499889\n",
      "[LightGBM] [Warning] bagging_fraction is set=0.6691638892322932, subsample=0.6 will be ignored. Current value: bagging_fraction=0.6691638892322932\n",
      "[LightGBM] [Warning] bagging_freq is set=3, subsample_freq=0 will be ignored. Current value: bagging_freq=3\n",
      "Training until validation scores don't improve for 100 rounds\n",
      "[100]\ttraining's l1: 0.604515\tvalid_1's l1: 0.701672\n",
      "[200]\ttraining's l1: 0.602732\tvalid_1's l1: 0.698627\n",
      "[300]\ttraining's l1: 0.602295\tvalid_1's l1: 0.697985\n",
      "[400]\ttraining's l1: 0.601878\tvalid_1's l1: 0.697151\n",
      "[500]\ttraining's l1: 0.601489\tvalid_1's l1: 0.696238\n"
     ]
    },
    {
     "name": "stderr",
     "output_type": "stream",
     "text": [
      "\u001b[32m[I 2021-07-06 11:50:40,377]\u001b[0m Trial 97 finished with value: -0.6962109470040012 and parameters: {'max_depth': 6, 'min_child_weight': 19, 'subsample': 0.6, 'colsample_bytree': 0.7, 'reg_lambda': 0.11706967850778274, 'reg_alpha': 13.482704239181286, 'feature_fraction': 0.9582177614499889, 'bagging_fraction': 0.6691638892322932, 'bagging_freq': 3}. Best is trial 82 with value: -0.6736096205401898.\u001b[0m\n"
     ]
    },
    {
     "name": "stdout",
     "output_type": "stream",
     "text": [
      "Early stopping, best iteration is:\n",
      "[442]\ttraining's l1: 0.601528\tvalid_1's l1: 0.696218\n",
      "[LightGBM] [Warning] feature_fraction is set=0.8882010567865253, colsample_bytree=0.7 will be ignored. Current value: feature_fraction=0.8882010567865253\n",
      "[LightGBM] [Warning] bagging_fraction is set=0.5623868775853207, subsample=0.6 will be ignored. Current value: bagging_fraction=0.5623868775853207\n",
      "[LightGBM] [Warning] bagging_freq is set=3, subsample_freq=0 will be ignored. Current value: bagging_freq=3\n",
      "Training until validation scores don't improve for 100 rounds\n",
      "[100]\ttraining's l1: 0.601979\tvalid_1's l1: 0.699396\n",
      "[200]\ttraining's l1: 0.59738\tvalid_1's l1: 0.691085\n",
      "[300]\ttraining's l1: 0.596141\tvalid_1's l1: 0.6885\n",
      "[400]\ttraining's l1: 0.595125\tvalid_1's l1: 0.686548\n",
      "[500]\ttraining's l1: 0.593891\tvalid_1's l1: 0.68454\n",
      "[600]\ttraining's l1: 0.593021\tvalid_1's l1: 0.682786\n",
      "[700]\ttraining's l1: 0.592766\tvalid_1's l1: 0.682482\n",
      "[800]\ttraining's l1: 0.5924\tvalid_1's l1: 0.682047\n",
      "[900]\ttraining's l1: 0.591978\tvalid_1's l1: 0.681621\n",
      "[1000]\ttraining's l1: 0.591356\tvalid_1's l1: 0.680482\n",
      "[1100]\ttraining's l1: 0.590978\tvalid_1's l1: 0.680148\n",
      "Early stopping, best iteration is:\n",
      "[1055]\ttraining's l1: 0.591004\tvalid_1's l1: 0.680093\n"
     ]
    },
    {
     "name": "stderr",
     "output_type": "stream",
     "text": [
      "\u001b[32m[I 2021-07-06 11:51:15,739]\u001b[0m Trial 98 finished with value: -0.6800652908680453 and parameters: {'max_depth': 5, 'min_child_weight': 17, 'subsample': 0.6, 'colsample_bytree': 0.7, 'reg_lambda': 1.3730925983747557, 'reg_alpha': 0.8546458737089386, 'feature_fraction': 0.8882010567865253, 'bagging_fraction': 0.5623868775853207, 'bagging_freq': 3}. Best is trial 82 with value: -0.6736096205401898.\u001b[0m\n"
     ]
    },
    {
     "name": "stdout",
     "output_type": "stream",
     "text": [
      "[LightGBM] [Warning] feature_fraction is set=0.8488954719810191, colsample_bytree=0.7 will be ignored. Current value: feature_fraction=0.8488954719810191\n",
      "[LightGBM] [Warning] bagging_fraction is set=0.5653541567473566, subsample=0.6 will be ignored. Current value: bagging_fraction=0.5653541567473566\n",
      "[LightGBM] [Warning] bagging_freq is set=3, subsample_freq=0 will be ignored. Current value: bagging_freq=3\n",
      "Training until validation scores don't improve for 100 rounds\n",
      "[100]\ttraining's l1: 0.607536\tvalid_1's l1: 0.709119\n",
      "[200]\ttraining's l1: 0.607415\tvalid_1's l1: 0.708823\n"
     ]
    },
    {
     "name": "stderr",
     "output_type": "stream",
     "text": [
      "\u001b[32m[I 2021-07-06 11:51:26,331]\u001b[0m Trial 99 finished with value: -0.7088213252629124 and parameters: {'max_depth': 7, 'min_child_weight': 17, 'subsample': 0.6, 'colsample_bytree': 0.7, 'reg_lambda': 1.5676315069216522, 'reg_alpha': 11.249118462381487, 'feature_fraction': 0.8488954719810191, 'bagging_fraction': 0.5653541567473566, 'bagging_freq': 3}. Best is trial 82 with value: -0.6736096205401898.\u001b[0m\n"
     ]
    },
    {
     "name": "stdout",
     "output_type": "stream",
     "text": [
      "Early stopping, best iteration is:\n",
      "[197]\ttraining's l1: 0.607415\tvalid_1's l1: 0.708823\n",
      "Number of finished trials: 100\n",
      "Best trial: {'max_depth': 5, 'min_child_weight': 20, 'subsample': 0.6, 'colsample_bytree': 0.7, 'reg_lambda': 0.32582268128965863, 'reg_alpha': 1.066490003542216, 'feature_fraction': 0.9520516223761551, 'bagging_fraction': 0.7430126307406206, 'bagging_freq': 2}\n"
     ]
    }
   ],
   "source": [
    "study1 = optuna.create_study(direction='maximize')\n",
    "study1.optimize(fit_lgbm(x_train[feature_cols1], y_train['target1'], x_valid[feature_cols1], y_valid['target1'], learning_rates[0]), n_trials=100)\n",
    "\n",
    "print('Number of finished trials:', len(study1.trials))\n",
    "print('Best trial:', study1.best_trial.params)"
   ]
  },
  {
   "cell_type": "code",
   "execution_count": 43,
   "id": "49fbc945",
   "metadata": {},
   "outputs": [
    {
     "name": "stderr",
     "output_type": "stream",
     "text": [
      "\u001b[32m[I 2021-07-06 11:51:26,349]\u001b[0m A new study created in memory with name: no-name-9ebaca90-6a85-4cd1-b73e-c913873ca942\u001b[0m\n"
     ]
    },
    {
     "name": "stdout",
     "output_type": "stream",
     "text": [
      "[LightGBM] [Warning] feature_fraction is set=0.962440781863837, colsample_bytree=0.7 will be ignored. Current value: feature_fraction=0.962440781863837\n",
      "[LightGBM] [Warning] bagging_fraction is set=0.679354785910617, subsample=0.7 will be ignored. Current value: bagging_fraction=0.679354785910617\n",
      "[LightGBM] [Warning] bagging_freq is set=9, subsample_freq=0 will be ignored. Current value: bagging_freq=9\n",
      "Training until validation scores don't improve for 100 rounds\n",
      "[100]\ttraining's l1: 1.424\tvalid_1's l1: 1.38887\n"
     ]
    },
    {
     "name": "stderr",
     "output_type": "stream",
     "text": [
      "\u001b[32m[I 2021-07-06 11:51:31,747]\u001b[0m Trial 0 finished with value: -1.3675522757683145 and parameters: {'max_depth': 4, 'min_child_weight': 12, 'subsample': 0.7, 'colsample_bytree': 0.7, 'reg_lambda': 0.21727894268170825, 'reg_alpha': 0.05193002874840685, 'feature_fraction': 0.962440781863837, 'bagging_fraction': 0.679354785910617, 'bagging_freq': 9}. Best is trial 0 with value: -1.3675522757683145.\u001b[0m\n"
     ]
    },
    {
     "name": "stdout",
     "output_type": "stream",
     "text": [
      "Early stopping, best iteration is:\n",
      "[55]\ttraining's l1: 1.44475\tvalid_1's l1: 1.36755\n",
      "[LightGBM] [Warning] feature_fraction is set=0.7893682024366635, colsample_bytree=0.5 will be ignored. Current value: feature_fraction=0.7893682024366635\n",
      "[LightGBM] [Warning] bagging_fraction is set=0.8184455974935985, subsample=0.8 will be ignored. Current value: bagging_fraction=0.8184455974935985\n",
      "[LightGBM] [Warning] bagging_freq is set=8, subsample_freq=0 will be ignored. Current value: bagging_freq=8\n",
      "Training until validation scores don't improve for 100 rounds\n",
      "[100]\ttraining's l1: 1.40744\tvalid_1's l1: 1.38519\n"
     ]
    },
    {
     "name": "stderr",
     "output_type": "stream",
     "text": [
      "\u001b[32m[I 2021-07-06 11:51:38,296]\u001b[0m Trial 1 finished with value: -1.3649124896017673 and parameters: {'max_depth': 12, 'min_child_weight': 9, 'subsample': 0.8, 'colsample_bytree': 0.5, 'reg_lambda': 95.69918973039363, 'reg_alpha': 0.47205485836835365, 'feature_fraction': 0.7893682024366635, 'bagging_fraction': 0.8184455974935985, 'bagging_freq': 8}. Best is trial 1 with value: -1.3649124896017673.\u001b[0m\n"
     ]
    },
    {
     "name": "stdout",
     "output_type": "stream",
     "text": [
      "Early stopping, best iteration is:\n",
      "[43]\ttraining's l1: 1.43833\tvalid_1's l1: 1.36491\n",
      "[LightGBM] [Warning] feature_fraction is set=0.9876195445189918, colsample_bytree=0.7 will be ignored. Current value: feature_fraction=0.9876195445189918\n",
      "[LightGBM] [Warning] bagging_fraction is set=0.7799548623867509, subsample=0.6 will be ignored. Current value: bagging_fraction=0.7799548623867509\n",
      "[LightGBM] [Warning] bagging_freq is set=10, subsample_freq=0 will be ignored. Current value: bagging_freq=10\n",
      "Training until validation scores don't improve for 100 rounds\n",
      "[100]\ttraining's l1: 1.41038\tvalid_1's l1: 1.39587\n"
     ]
    },
    {
     "name": "stderr",
     "output_type": "stream",
     "text": [
      "\u001b[32m[I 2021-07-06 11:51:44,480]\u001b[0m Trial 2 finished with value: -1.3739560886101585 and parameters: {'max_depth': 14, 'min_child_weight': 15, 'subsample': 0.6, 'colsample_bytree': 0.7, 'reg_lambda': 6.167843835445219, 'reg_alpha': 0.012287801572615813, 'feature_fraction': 0.9876195445189918, 'bagging_fraction': 0.7799548623867509, 'bagging_freq': 10}. Best is trial 1 with value: -1.3649124896017673.\u001b[0m\n"
     ]
    },
    {
     "name": "stdout",
     "output_type": "stream",
     "text": [
      "Early stopping, best iteration is:\n",
      "[44]\ttraining's l1: 1.43818\tvalid_1's l1: 1.37396\n",
      "[LightGBM] [Warning] feature_fraction is set=0.658061911836703, colsample_bytree=0.8 will be ignored. Current value: feature_fraction=0.658061911836703\n",
      "[LightGBM] [Warning] bagging_fraction is set=0.7265389769134465, subsample=0.6 will be ignored. Current value: bagging_fraction=0.7265389769134465\n",
      "[LightGBM] [Warning] bagging_freq is set=8, subsample_freq=0 will be ignored. Current value: bagging_freq=8\n",
      "Training until validation scores don't improve for 100 rounds\n",
      "[100]\ttraining's l1: 1.44679\tvalid_1's l1: 1.3818\n"
     ]
    },
    {
     "name": "stderr",
     "output_type": "stream",
     "text": [
      "\u001b[32m[I 2021-07-06 11:51:50,333]\u001b[0m Trial 3 finished with value: -1.373108331536608 and parameters: {'max_depth': 3, 'min_child_weight': 1, 'subsample': 0.6, 'colsample_bytree': 0.8, 'reg_lambda': 0.3701871389545434, 'reg_alpha': 0.0018988999422146536, 'feature_fraction': 0.658061911836703, 'bagging_fraction': 0.7265389769134465, 'bagging_freq': 8}. Best is trial 1 with value: -1.3649124896017673.\u001b[0m\n"
     ]
    },
    {
     "name": "stdout",
     "output_type": "stream",
     "text": [
      "Early stopping, best iteration is:\n",
      "[66]\ttraining's l1: 1.46644\tvalid_1's l1: 1.37311\n",
      "[LightGBM] [Warning] feature_fraction is set=0.4051700047835918, colsample_bytree=0.7 will be ignored. Current value: feature_fraction=0.4051700047835918\n",
      "[LightGBM] [Warning] bagging_fraction is set=0.6571668904120624, subsample=0.9 will be ignored. Current value: bagging_fraction=0.6571668904120624\n",
      "[LightGBM] [Warning] bagging_freq is set=3, subsample_freq=0 will be ignored. Current value: bagging_freq=3\n",
      "Training until validation scores don't improve for 100 rounds\n",
      "[100]\ttraining's l1: 1.51579\tvalid_1's l1: 1.39291\n",
      "[200]\ttraining's l1: 1.4896\tvalid_1's l1: 1.39532\n"
     ]
    },
    {
     "name": "stderr",
     "output_type": "stream",
     "text": [
      "\u001b[32m[I 2021-07-06 11:51:58,267]\u001b[0m Trial 4 finished with value: -1.3867974931484133 and parameters: {'max_depth': 2, 'min_child_weight': 10, 'subsample': 0.9, 'colsample_bytree': 0.7, 'reg_lambda': 16.031377604130903, 'reg_alpha': 0.0011740189856852539, 'feature_fraction': 0.4051700047835918, 'bagging_fraction': 0.6571668904120624, 'bagging_freq': 3}. Best is trial 1 with value: -1.3649124896017673.\u001b[0m\n"
     ]
    },
    {
     "name": "stdout",
     "output_type": "stream",
     "text": [
      "Early stopping, best iteration is:\n",
      "[124]\ttraining's l1: 1.50487\tvalid_1's l1: 1.3868\n",
      "[LightGBM] [Warning] feature_fraction is set=0.6605513344344959, colsample_bytree=0.7 will be ignored. Current value: feature_fraction=0.6605513344344959\n",
      "[LightGBM] [Warning] bagging_fraction is set=0.7741489979646792, subsample=0.9 will be ignored. Current value: bagging_fraction=0.7741489979646792\n",
      "[LightGBM] [Warning] bagging_freq is set=9, subsample_freq=0 will be ignored. Current value: bagging_freq=9\n",
      "Training until validation scores don't improve for 100 rounds\n",
      "[100]\ttraining's l1: 1.40937\tvalid_1's l1: 1.3914\n"
     ]
    },
    {
     "name": "stderr",
     "output_type": "stream",
     "text": [
      "\u001b[32m[I 2021-07-06 11:52:04,631]\u001b[0m Trial 5 finished with value: -1.369584758298095 and parameters: {'max_depth': 12, 'min_child_weight': 10, 'subsample': 0.9, 'colsample_bytree': 0.7, 'reg_lambda': 0.09019654035186554, 'reg_alpha': 2.7223315059966757, 'feature_fraction': 0.6605513344344959, 'bagging_fraction': 0.7741489979646792, 'bagging_freq': 9}. Best is trial 1 with value: -1.3649124896017673.\u001b[0m\n"
     ]
    },
    {
     "name": "stdout",
     "output_type": "stream",
     "text": [
      "Early stopping, best iteration is:\n",
      "[43]\ttraining's l1: 1.43936\tvalid_1's l1: 1.36958\n",
      "[LightGBM] [Warning] feature_fraction is set=0.833936305372006, colsample_bytree=0.5 will be ignored. Current value: feature_fraction=0.833936305372006\n",
      "[LightGBM] [Warning] bagging_fraction is set=0.7427344155913926, subsample=0.9 will be ignored. Current value: bagging_fraction=0.7427344155913926\n",
      "[LightGBM] [Warning] bagging_freq is set=4, subsample_freq=0 will be ignored. Current value: bagging_freq=4\n",
      "Training until validation scores don't improve for 100 rounds\n",
      "[100]\ttraining's l1: 1.40769\tvalid_1's l1: 1.38596\n"
     ]
    },
    {
     "name": "stderr",
     "output_type": "stream",
     "text": [
      "\u001b[32m[I 2021-07-06 11:52:10,855]\u001b[0m Trial 6 finished with value: -1.36828612970265 and parameters: {'max_depth': 19, 'min_child_weight': 14, 'subsample': 0.9, 'colsample_bytree': 0.5, 'reg_lambda': 0.005043625078892055, 'reg_alpha': 0.03106642431709474, 'feature_fraction': 0.833936305372006, 'bagging_fraction': 0.7427344155913926, 'bagging_freq': 4}. Best is trial 1 with value: -1.3649124896017673.\u001b[0m\n"
     ]
    },
    {
     "name": "stdout",
     "output_type": "stream",
     "text": [
      "Early stopping, best iteration is:\n",
      "[32]\ttraining's l1: 1.44927\tvalid_1's l1: 1.36829\n",
      "[LightGBM] [Warning] feature_fraction is set=0.46817381493956683, colsample_bytree=0.5 will be ignored. Current value: feature_fraction=0.46817381493956683\n",
      "[LightGBM] [Warning] bagging_fraction is set=0.4216503479678102, subsample=0.7 will be ignored. Current value: bagging_fraction=0.4216503479678102\n",
      "[LightGBM] [Warning] bagging_freq is set=4, subsample_freq=0 will be ignored. Current value: bagging_freq=4\n",
      "Training until validation scores don't improve for 100 rounds\n",
      "[100]\ttraining's l1: 1.41609\tvalid_1's l1: 1.3814\n"
     ]
    },
    {
     "name": "stderr",
     "output_type": "stream",
     "text": [
      "\u001b[32m[I 2021-07-06 11:52:16,439]\u001b[0m Trial 7 finished with value: -1.3758324121390806 and parameters: {'max_depth': 17, 'min_child_weight': 9, 'subsample': 0.7, 'colsample_bytree': 0.5, 'reg_lambda': 0.04368932011230559, 'reg_alpha': 0.004650400345699552, 'feature_fraction': 0.46817381493956683, 'bagging_fraction': 0.4216503479678102, 'bagging_freq': 4}. Best is trial 1 with value: -1.3649124896017673.\u001b[0m\n"
     ]
    },
    {
     "name": "stdout",
     "output_type": "stream",
     "text": [
      "Early stopping, best iteration is:\n",
      "[56]\ttraining's l1: 1.44332\tvalid_1's l1: 1.37583\n",
      "[LightGBM] [Warning] feature_fraction is set=0.4928018384746304, colsample_bytree=0.8 will be ignored. Current value: feature_fraction=0.4928018384746304\n",
      "[LightGBM] [Warning] bagging_fraction is set=0.474011472901523, subsample=0.9 will be ignored. Current value: bagging_fraction=0.474011472901523\n",
      "[LightGBM] [Warning] bagging_freq is set=2, subsample_freq=0 will be ignored. Current value: bagging_freq=2\n",
      "Training until validation scores don't improve for 100 rounds\n",
      "[100]\ttraining's l1: 1.42443\tvalid_1's l1: 1.37031\n"
     ]
    },
    {
     "name": "stderr",
     "output_type": "stream",
     "text": [
      "\u001b[32m[I 2021-07-06 11:52:23,636]\u001b[0m Trial 8 finished with value: -1.36934671749891 and parameters: {'max_depth': 9, 'min_child_weight': 15, 'subsample': 0.9, 'colsample_bytree': 0.8, 'reg_lambda': 0.001071226350253795, 'reg_alpha': 244.91868078726324, 'feature_fraction': 0.4928018384746304, 'bagging_fraction': 0.474011472901523, 'bagging_freq': 2}. Best is trial 1 with value: -1.3649124896017673.\u001b[0m\n"
     ]
    },
    {
     "name": "stdout",
     "output_type": "stream",
     "text": [
      "Early stopping, best iteration is:\n",
      "[80]\ttraining's l1: 1.4288\tvalid_1's l1: 1.36935\n",
      "[LightGBM] [Warning] feature_fraction is set=0.9681874491827751, colsample_bytree=0.8 will be ignored. Current value: feature_fraction=0.9681874491827751\n",
      "[LightGBM] [Warning] bagging_fraction is set=0.6557148069257364, subsample=0.8 will be ignored. Current value: bagging_fraction=0.6557148069257364\n",
      "[LightGBM] [Warning] bagging_freq is set=8, subsample_freq=0 will be ignored. Current value: bagging_freq=8\n",
      "Training until validation scores don't improve for 100 rounds\n",
      "[100]\ttraining's l1: 1.41095\tvalid_1's l1: 1.39239\n"
     ]
    },
    {
     "name": "stderr",
     "output_type": "stream",
     "text": [
      "\u001b[32m[I 2021-07-06 11:52:29,296]\u001b[0m Trial 9 finished with value: -1.371474206500959 and parameters: {'max_depth': 10, 'min_child_weight': 8, 'subsample': 0.8, 'colsample_bytree': 0.8, 'reg_lambda': 0.05461515961024499, 'reg_alpha': 0.7049095060630683, 'feature_fraction': 0.9681874491827751, 'bagging_fraction': 0.6557148069257364, 'bagging_freq': 8}. Best is trial 1 with value: -1.3649124896017673.\u001b[0m\n"
     ]
    },
    {
     "name": "stdout",
     "output_type": "stream",
     "text": [
      "Early stopping, best iteration is:\n",
      "[41]\ttraining's l1: 1.44149\tvalid_1's l1: 1.37147\n",
      "[LightGBM] [Warning] feature_fraction is set=0.7916402002727642, colsample_bytree=0.6 will be ignored. Current value: feature_fraction=0.7916402002727642\n",
      "[LightGBM] [Warning] bagging_fraction is set=0.9881959673313022, subsample=0.5 will be ignored. Current value: bagging_fraction=0.9881959673313022\n",
      "[LightGBM] [Warning] bagging_freq is set=6, subsample_freq=0 will be ignored. Current value: bagging_freq=6\n",
      "Training until validation scores don't improve for 100 rounds\n",
      "[100]\ttraining's l1: 1.40731\tvalid_1's l1: 1.38452\n"
     ]
    },
    {
     "name": "stderr",
     "output_type": "stream",
     "text": [
      "\u001b[32m[I 2021-07-06 11:52:36,053]\u001b[0m Trial 10 finished with value: -1.368178261368031 and parameters: {'max_depth': 7, 'min_child_weight': 4, 'subsample': 0.5, 'colsample_bytree': 0.6, 'reg_lambda': 715.7021099558692, 'reg_alpha': 35.3189194559207, 'feature_fraction': 0.7916402002727642, 'bagging_fraction': 0.9881959673313022, 'bagging_freq': 6}. Best is trial 1 with value: -1.3649124896017673.\u001b[0m\n"
     ]
    },
    {
     "name": "stdout",
     "output_type": "stream",
     "text": [
      "Early stopping, best iteration is:\n",
      "[30]\ttraining's l1: 1.45421\tvalid_1's l1: 1.36818\n",
      "[LightGBM] [Warning] feature_fraction is set=0.8483123842079028, colsample_bytree=0.9 will be ignored. Current value: feature_fraction=0.8483123842079028\n",
      "[LightGBM] [Warning] bagging_fraction is set=0.8983961465836023, subsample=0.7 will be ignored. Current value: bagging_fraction=0.8983961465836023\n",
      "[LightGBM] [Warning] bagging_freq is set=7, subsample_freq=0 will be ignored. Current value: bagging_freq=7\n",
      "Training until validation scores don't improve for 100 rounds\n",
      "[100]\ttraining's l1: 1.40995\tvalid_1's l1: 1.38297\n"
     ]
    },
    {
     "name": "stderr",
     "output_type": "stream",
     "text": [
      "\u001b[32m[I 2021-07-06 11:52:42,606]\u001b[0m Trial 11 finished with value: -1.3671342798534307 and parameters: {'max_depth': 6, 'min_child_weight': 5, 'subsample': 0.7, 'colsample_bytree': 0.9, 'reg_lambda': 860.5681929875303, 'reg_alpha': 0.20334121062796348, 'feature_fraction': 0.8483123842079028, 'bagging_fraction': 0.8983961465836023, 'bagging_freq': 7}. Best is trial 1 with value: -1.3649124896017673.\u001b[0m\n"
     ]
    },
    {
     "name": "stdout",
     "output_type": "stream",
     "text": [
      "Early stopping, best iteration is:\n",
      "[42]\ttraining's l1: 1.43891\tvalid_1's l1: 1.36713\n",
      "[LightGBM] [Warning] feature_fraction is set=0.82895000992625, colsample_bytree=0.9 will be ignored. Current value: feature_fraction=0.82895000992625\n",
      "[LightGBM] [Warning] bagging_fraction is set=0.9588012147619556, subsample=0.8 will be ignored. Current value: bagging_fraction=0.9588012147619556\n",
      "[LightGBM] [Warning] bagging_freq is set=6, subsample_freq=0 will be ignored. Current value: bagging_freq=6\n",
      "Training until validation scores don't improve for 100 rounds\n",
      "[100]\ttraining's l1: 1.40944\tvalid_1's l1: 1.38374\n"
     ]
    },
    {
     "name": "stderr",
     "output_type": "stream",
     "text": [
      "\u001b[32m[I 2021-07-06 11:52:49,135]\u001b[0m Trial 12 finished with value: -1.3706512936280124 and parameters: {'max_depth': 6, 'min_child_weight': 5, 'subsample': 0.8, 'colsample_bytree': 0.9, 'reg_lambda': 953.97499104338, 'reg_alpha': 0.6254496565268748, 'feature_fraction': 0.82895000992625, 'bagging_fraction': 0.9588012147619556, 'bagging_freq': 6}. Best is trial 1 with value: -1.3649124896017673.\u001b[0m\n"
     ]
    },
    {
     "name": "stdout",
     "output_type": "stream",
     "text": [
      "Early stopping, best iteration is:\n",
      "[28]\ttraining's l1: 1.46039\tvalid_1's l1: 1.37065\n",
      "[LightGBM] [Warning] feature_fraction is set=0.729611117075813, colsample_bytree=0.9 will be ignored. Current value: feature_fraction=0.729611117075813\n",
      "[LightGBM] [Warning] bagging_fraction is set=0.8830112829813159, subsample=0.8 will be ignored. Current value: bagging_fraction=0.8830112829813159\n",
      "[LightGBM] [Warning] bagging_freq is set=7, subsample_freq=0 will be ignored. Current value: bagging_freq=7\n",
      "Training until validation scores don't improve for 100 rounds\n",
      "[100]\ttraining's l1: 1.41082\tvalid_1's l1: 1.38846\n"
     ]
    },
    {
     "name": "stderr",
     "output_type": "stream",
     "text": [
      "\u001b[32m[I 2021-07-06 11:52:55,868]\u001b[0m Trial 13 finished with value: -1.3701269233889484 and parameters: {'max_depth': 14, 'min_child_weight': 5, 'subsample': 0.8, 'colsample_bytree': 0.9, 'reg_lambda': 127.75889876160778, 'reg_alpha': 0.17521627678267987, 'feature_fraction': 0.729611117075813, 'bagging_fraction': 0.8830112829813159, 'bagging_freq': 7}. Best is trial 1 with value: -1.3649124896017673.\u001b[0m\n"
     ]
    },
    {
     "name": "stdout",
     "output_type": "stream",
     "text": [
      "Early stopping, best iteration is:\n",
      "[43]\ttraining's l1: 1.43744\tvalid_1's l1: 1.37013\n",
      "[LightGBM] [Warning] feature_fraction is set=0.8683936753377827, colsample_bytree=0.6 will be ignored. Current value: feature_fraction=0.8683936753377827\n",
      "[LightGBM] [Warning] bagging_fraction is set=0.880068780486583, subsample=0.6 will be ignored. Current value: bagging_fraction=0.880068780486583\n",
      "[LightGBM] [Warning] bagging_freq is set=7, subsample_freq=0 will be ignored. Current value: bagging_freq=7\n",
      "Training until validation scores don't improve for 100 rounds\n",
      "[100]\ttraining's l1: 1.40875\tvalid_1's l1: 1.38842\n"
     ]
    },
    {
     "name": "stderr",
     "output_type": "stream",
     "text": [
      "\u001b[32m[I 2021-07-06 11:53:02,513]\u001b[0m Trial 14 finished with value: -1.3715099939656878 and parameters: {'max_depth': 7, 'min_child_weight': 20, 'subsample': 0.6, 'colsample_bytree': 0.6, 'reg_lambda': 77.01278510390031, 'reg_alpha': 7.702836923905667, 'feature_fraction': 0.8683936753377827, 'bagging_fraction': 0.880068780486583, 'bagging_freq': 7}. Best is trial 1 with value: -1.3649124896017673.\u001b[0m\n"
     ]
    },
    {
     "name": "stdout",
     "output_type": "stream",
     "text": [
      "Early stopping, best iteration is:\n",
      "[43]\ttraining's l1: 1.43546\tvalid_1's l1: 1.37151\n",
      "[LightGBM] [Warning] feature_fraction is set=0.9013722245611425, colsample_bytree=0.6 will be ignored. Current value: feature_fraction=0.9013722245611425\n",
      "[LightGBM] [Warning] bagging_fraction is set=0.8839949375733082, subsample=0.7 will be ignored. Current value: bagging_fraction=0.8839949375733082\n",
      "[LightGBM] [Warning] bagging_freq is set=10, subsample_freq=0 will be ignored. Current value: bagging_freq=10\n",
      "Training until validation scores don't improve for 100 rounds\n",
      "[100]\ttraining's l1: 1.41193\tvalid_1's l1: 1.38492\n"
     ]
    },
    {
     "name": "stderr",
     "output_type": "stream",
     "text": [
      "\u001b[32m[I 2021-07-06 11:53:09,101]\u001b[0m Trial 15 finished with value: -1.3670573899300775 and parameters: {'max_depth': 12, 'min_child_weight': 1, 'subsample': 0.7, 'colsample_bytree': 0.6, 'reg_lambda': 180.4459955664738, 'reg_alpha': 0.14239367905954065, 'feature_fraction': 0.9013722245611425, 'bagging_fraction': 0.8839949375733082, 'bagging_freq': 10}. Best is trial 1 with value: -1.3649124896017673.\u001b[0m\n"
     ]
    },
    {
     "name": "stdout",
     "output_type": "stream",
     "text": [
      "Early stopping, best iteration is:\n",
      "[41]\ttraining's l1: 1.44361\tvalid_1's l1: 1.36706\n",
      "[LightGBM] [Warning] feature_fraction is set=0.9099715887855985, colsample_bytree=0.6 will be ignored. Current value: feature_fraction=0.9099715887855985\n",
      "[LightGBM] [Warning] bagging_fraction is set=0.8234829314582812, subsample=0.8 will be ignored. Current value: bagging_fraction=0.8234829314582812\n",
      "[LightGBM] [Warning] bagging_freq is set=9, subsample_freq=0 will be ignored. Current value: bagging_freq=9\n",
      "Training until validation scores don't improve for 100 rounds\n",
      "[100]\ttraining's l1: 1.4102\tvalid_1's l1: 1.38747\n"
     ]
    },
    {
     "name": "stderr",
     "output_type": "stream",
     "text": [
      "\u001b[32m[I 2021-07-06 11:53:15,625]\u001b[0m Trial 16 finished with value: -1.3695683471632676 and parameters: {'max_depth': 15, 'min_child_weight': 19, 'subsample': 0.8, 'colsample_bytree': 0.6, 'reg_lambda': 2.3031763446358817, 'reg_alpha': 20.7480265865451, 'feature_fraction': 0.9099715887855985, 'bagging_fraction': 0.8234829314582812, 'bagging_freq': 9}. Best is trial 1 with value: -1.3649124896017673.\u001b[0m\n"
     ]
    },
    {
     "name": "stdout",
     "output_type": "stream",
     "text": [
      "Early stopping, best iteration is:\n",
      "[48]\ttraining's l1: 1.43419\tvalid_1's l1: 1.36957\n",
      "[LightGBM] [Warning] feature_fraction is set=0.7286979180045794, colsample_bytree=0.5 will be ignored. Current value: feature_fraction=0.7286979180045794\n",
      "[LightGBM] [Warning] bagging_fraction is set=0.5967238648229808, subsample=0.7 will be ignored. Current value: bagging_fraction=0.5967238648229808\n",
      "[LightGBM] [Warning] bagging_freq is set=10, subsample_freq=0 will be ignored. Current value: bagging_freq=10\n",
      "Training until validation scores don't improve for 100 rounds\n",
      "[100]\ttraining's l1: 1.40961\tvalid_1's l1: 1.38542\n"
     ]
    },
    {
     "name": "stderr",
     "output_type": "stream",
     "text": [
      "\u001b[32m[I 2021-07-06 11:53:20,880]\u001b[0m Trial 17 finished with value: -1.367184467031423 and parameters: {'max_depth': 12, 'min_child_weight': 1, 'subsample': 0.7, 'colsample_bytree': 0.5, 'reg_lambda': 76.91568598832315, 'reg_alpha': 0.09044031572675346, 'feature_fraction': 0.7286979180045794, 'bagging_fraction': 0.5967238648229808, 'bagging_freq': 10}. Best is trial 1 with value: -1.3649124896017673.\u001b[0m\n"
     ]
    },
    {
     "name": "stdout",
     "output_type": "stream",
     "text": [
      "Early stopping, best iteration is:\n",
      "[39]\ttraining's l1: 1.44213\tvalid_1's l1: 1.36718\n",
      "[LightGBM] [Warning] feature_fraction is set=0.6138842568831907, colsample_bytree=0.6 will be ignored. Current value: feature_fraction=0.6138842568831907\n",
      "[LightGBM] [Warning] bagging_fraction is set=0.9317931882561565, subsample=0.5 will be ignored. Current value: bagging_fraction=0.9317931882561565\n",
      "[LightGBM] [Warning] bagging_freq is set=10, subsample_freq=0 will be ignored. Current value: bagging_freq=10\n",
      "Training until validation scores don't improve for 100 rounds\n",
      "[100]\ttraining's l1: 1.40779\tvalid_1's l1: 1.388\n"
     ]
    },
    {
     "name": "stderr",
     "output_type": "stream",
     "text": [
      "\u001b[32m[I 2021-07-06 11:53:28,722]\u001b[0m Trial 18 finished with value: -1.367152430879948 and parameters: {'max_depth': 17, 'min_child_weight': 2, 'subsample': 0.5, 'colsample_bytree': 0.6, 'reg_lambda': 19.374954601633373, 'reg_alpha': 1.5684310844343827, 'feature_fraction': 0.6138842568831907, 'bagging_fraction': 0.9317931882561565, 'bagging_freq': 10}. Best is trial 1 with value: -1.3649124896017673.\u001b[0m\n"
     ]
    },
    {
     "name": "stdout",
     "output_type": "stream",
     "text": [
      "Early stopping, best iteration is:\n",
      "[46]\ttraining's l1: 1.43784\tvalid_1's l1: 1.36715\n",
      "[LightGBM] [Warning] feature_fraction is set=0.7701914083727092, colsample_bytree=0.5 will be ignored. Current value: feature_fraction=0.7701914083727092\n",
      "[LightGBM] [Warning] bagging_fraction is set=0.8635537662988604, subsample=0.8 will be ignored. Current value: bagging_fraction=0.8635537662988604\n",
      "[LightGBM] [Warning] bagging_freq is set=5, subsample_freq=0 will be ignored. Current value: bagging_freq=5\n",
      "Training until validation scores don't improve for 100 rounds\n",
      "[100]\ttraining's l1: 1.4123\tvalid_1's l1: 1.38701\n"
     ]
    },
    {
     "name": "stderr",
     "output_type": "stream",
     "text": [
      "\u001b[32m[I 2021-07-06 11:53:35,706]\u001b[0m Trial 19 finished with value: -1.370789472378198 and parameters: {'max_depth': 12, 'min_child_weight': 7, 'subsample': 0.8, 'colsample_bytree': 0.5, 'reg_lambda': 243.11708169795338, 'reg_alpha': 0.015089174913562708, 'feature_fraction': 0.7701914083727092, 'bagging_fraction': 0.8635537662988604, 'bagging_freq': 5}. Best is trial 1 with value: -1.3649124896017673.\u001b[0m\n"
     ]
    },
    {
     "name": "stdout",
     "output_type": "stream",
     "text": [
      "Early stopping, best iteration is:\n",
      "[42]\ttraining's l1: 1.43779\tvalid_1's l1: 1.37079\n",
      "[LightGBM] [Warning] feature_fraction is set=0.9102228205199823, colsample_bytree=0.6 will be ignored. Current value: feature_fraction=0.9102228205199823\n",
      "[LightGBM] [Warning] bagging_fraction is set=0.8236628883668132, subsample=0.6 will be ignored. Current value: bagging_fraction=0.8236628883668132\n",
      "[LightGBM] [Warning] bagging_freq is set=8, subsample_freq=0 will be ignored. Current value: bagging_freq=8\n",
      "Training until validation scores don't improve for 100 rounds\n",
      "[100]\ttraining's l1: 1.42014\tvalid_1's l1: 1.37371\n"
     ]
    },
    {
     "name": "stderr",
     "output_type": "stream",
     "text": [
      "\u001b[32m[I 2021-07-06 11:53:42,545]\u001b[0m Trial 20 finished with value: -1.3705834150302993 and parameters: {'max_depth': 10, 'min_child_weight': 18, 'subsample': 0.6, 'colsample_bytree': 0.6, 'reg_lambda': 19.570779630170392, 'reg_alpha': 521.487973407247, 'feature_fraction': 0.9102228205199823, 'bagging_fraction': 0.8236628883668132, 'bagging_freq': 8}. Best is trial 1 with value: -1.3649124896017673.\u001b[0m\n"
     ]
    },
    {
     "name": "stdout",
     "output_type": "stream",
     "text": [
      "Early stopping, best iteration is:\n",
      "[52]\ttraining's l1: 1.43494\tvalid_1's l1: 1.37058\n",
      "[LightGBM] [Warning] feature_fraction is set=0.8974893919690241, colsample_bytree=0.5 will be ignored. Current value: feature_fraction=0.8974893919690241\n",
      "[LightGBM] [Warning] bagging_fraction is set=0.9269679206628321, subsample=0.7 will be ignored. Current value: bagging_fraction=0.9269679206628321\n",
      "[LightGBM] [Warning] bagging_freq is set=7, subsample_freq=0 will be ignored. Current value: bagging_freq=7\n",
      "Training until validation scores don't improve for 100 rounds\n",
      "[100]\ttraining's l1: 1.41058\tvalid_1's l1: 1.38344\n"
     ]
    },
    {
     "name": "stderr",
     "output_type": "stream",
     "text": [
      "\u001b[32m[I 2021-07-06 11:53:49,370]\u001b[0m Trial 21 finished with value: -1.3684617157131713 and parameters: {'max_depth': 8, 'min_child_weight': 3, 'subsample': 0.7, 'colsample_bytree': 0.5, 'reg_lambda': 461.4849430934195, 'reg_alpha': 0.24286833669518645, 'feature_fraction': 0.8974893919690241, 'bagging_fraction': 0.9269679206628321, 'bagging_freq': 7}. Best is trial 1 with value: -1.3649124896017673.\u001b[0m\n"
     ]
    },
    {
     "name": "stdout",
     "output_type": "stream",
     "text": [
      "Early stopping, best iteration is:\n",
      "[40]\ttraining's l1: 1.44149\tvalid_1's l1: 1.36846\n",
      "[LightGBM] [Warning] feature_fraction is set=0.8061924314343527, colsample_bytree=0.6 will be ignored. Current value: feature_fraction=0.8061924314343527\n",
      "[LightGBM] [Warning] bagging_fraction is set=0.8294810524268885, subsample=0.7 will be ignored. Current value: bagging_fraction=0.8294810524268885\n",
      "[LightGBM] [Warning] bagging_freq is set=8, subsample_freq=0 will be ignored. Current value: bagging_freq=8\n",
      "Training until validation scores don't improve for 100 rounds\n",
      "[100]\ttraining's l1: 1.41219\tvalid_1's l1: 1.37573\n"
     ]
    },
    {
     "name": "stderr",
     "output_type": "stream",
     "text": [
      "\u001b[32m[I 2021-07-06 11:53:56,107]\u001b[0m Trial 22 finished with value: -1.3661815840855418 and parameters: {'max_depth': 5, 'min_child_weight': 6, 'subsample': 0.7, 'colsample_bytree': 0.6, 'reg_lambda': 996.5575287236097, 'reg_alpha': 0.336752491475139, 'feature_fraction': 0.8061924314343527, 'bagging_fraction': 0.8294810524268885, 'bagging_freq': 8}. Best is trial 1 with value: -1.3649124896017673.\u001b[0m\n"
     ]
    },
    {
     "name": "stdout",
     "output_type": "stream",
     "text": [
      "Early stopping, best iteration is:\n",
      "[64]\ttraining's l1: 1.42312\tvalid_1's l1: 1.36618\n",
      "[LightGBM] [Warning] feature_fraction is set=0.7683869991806569, colsample_bytree=0.6 will be ignored. Current value: feature_fraction=0.7683869991806569\n",
      "[LightGBM] [Warning] bagging_fraction is set=0.8200946896642421, subsample=0.8 will be ignored. Current value: bagging_fraction=0.8200946896642421\n",
      "[LightGBM] [Warning] bagging_freq is set=9, subsample_freq=0 will be ignored. Current value: bagging_freq=9\n",
      "Training until validation scores don't improve for 100 rounds\n",
      "[100]\ttraining's l1: 1.41128\tvalid_1's l1: 1.38345\n"
     ]
    },
    {
     "name": "stderr",
     "output_type": "stream",
     "text": [
      "\u001b[32m[I 2021-07-06 11:54:02,688]\u001b[0m Trial 23 finished with value: -1.36818184572821 and parameters: {'max_depth': 12, 'min_child_weight': 7, 'subsample': 0.8, 'colsample_bytree': 0.6, 'reg_lambda': 209.7611229006631, 'reg_alpha': 3.041071550765028, 'feature_fraction': 0.7683869991806569, 'bagging_fraction': 0.8200946896642421, 'bagging_freq': 9}. Best is trial 1 with value: -1.3649124896017673.\u001b[0m\n"
     ]
    },
    {
     "name": "stdout",
     "output_type": "stream",
     "text": [
      "Early stopping, best iteration is:\n",
      "[49]\ttraining's l1: 1.43129\tvalid_1's l1: 1.36818\n",
      "[LightGBM] [Warning] feature_fraction is set=0.7874946660287586, colsample_bytree=0.6 will be ignored. Current value: feature_fraction=0.7874946660287586\n",
      "[LightGBM] [Warning] bagging_fraction is set=0.9918513592656413, subsample=0.7 will be ignored. Current value: bagging_fraction=0.9918513592656413\n",
      "[LightGBM] [Warning] bagging_freq is set=10, subsample_freq=0 will be ignored. Current value: bagging_freq=10\n",
      "Training until validation scores don't improve for 100 rounds\n",
      "[100]\ttraining's l1: 1.40921\tvalid_1's l1: 1.3838\n"
     ]
    },
    {
     "name": "stderr",
     "output_type": "stream",
     "text": [
      "\u001b[32m[I 2021-07-06 11:54:09,729]\u001b[0m Trial 24 finished with value: -1.3678765124439445 and parameters: {'max_depth': 14, 'min_child_weight': 7, 'subsample': 0.7, 'colsample_bytree': 0.6, 'reg_lambda': 45.01298637812634, 'reg_alpha': 0.43853013041670624, 'feature_fraction': 0.7874946660287586, 'bagging_fraction': 0.9918513592656413, 'bagging_freq': 10}. Best is trial 1 with value: -1.3649124896017673.\u001b[0m\n"
     ]
    },
    {
     "name": "stdout",
     "output_type": "stream",
     "text": [
      "Early stopping, best iteration is:\n",
      "[41]\ttraining's l1: 1.43942\tvalid_1's l1: 1.36788\n",
      "[LightGBM] [Warning] feature_fraction is set=0.5791740657684864, colsample_bytree=0.5 will be ignored. Current value: feature_fraction=0.5791740657684864\n",
      "[LightGBM] [Warning] bagging_fraction is set=0.8434051408724915, subsample=0.6 will be ignored. Current value: bagging_fraction=0.8434051408724915\n",
      "[LightGBM] [Warning] bagging_freq is set=8, subsample_freq=0 will be ignored. Current value: bagging_freq=8\n",
      "Training until validation scores don't improve for 100 rounds\n",
      "[100]\ttraining's l1: 1.4099\tvalid_1's l1: 1.38286\n"
     ]
    },
    {
     "name": "stderr",
     "output_type": "stream",
     "text": [
      "\u001b[32m[I 2021-07-06 11:54:17,576]\u001b[0m Trial 25 finished with value: -1.3735666066871115 and parameters: {'max_depth': 16, 'min_child_weight': 12, 'subsample': 0.6, 'colsample_bytree': 0.5, 'reg_lambda': 3.089437299452396, 'reg_alpha': 0.07218691147024209, 'feature_fraction': 0.5791740657684864, 'bagging_fraction': 0.8434051408724915, 'bagging_freq': 8}. Best is trial 1 with value: -1.3649124896017673.\u001b[0m\n"
     ]
    },
    {
     "name": "stdout",
     "output_type": "stream",
     "text": [
      "Early stopping, best iteration is:\n",
      "[49]\ttraining's l1: 1.43806\tvalid_1's l1: 1.37357\n",
      "[LightGBM] [Warning] feature_fraction is set=0.939198340880051, colsample_bytree=0.6 will be ignored. Current value: feature_fraction=0.939198340880051\n",
      "[LightGBM] [Warning] bagging_fraction is set=0.7743198181166615, subsample=0.8 will be ignored. Current value: bagging_fraction=0.7743198181166615\n",
      "[LightGBM] [Warning] bagging_freq is set=9, subsample_freq=0 will be ignored. Current value: bagging_freq=9\n",
      "Training until validation scores don't improve for 100 rounds\n",
      "[100]\ttraining's l1: 1.40984\tvalid_1's l1: 1.38646\n"
     ]
    },
    {
     "name": "stderr",
     "output_type": "stream",
     "text": [
      "\u001b[32m[I 2021-07-06 11:54:23,668]\u001b[0m Trial 26 finished with value: -1.3688654170458752 and parameters: {'max_depth': 11, 'min_child_weight': 12, 'subsample': 0.8, 'colsample_bytree': 0.6, 'reg_lambda': 339.71583569201204, 'reg_alpha': 5.48271862661426, 'feature_fraction': 0.939198340880051, 'bagging_fraction': 0.7743198181166615, 'bagging_freq': 9}. Best is trial 1 with value: -1.3649124896017673.\u001b[0m\n"
     ]
    },
    {
     "name": "stdout",
     "output_type": "stream",
     "text": [
      "Early stopping, best iteration is:\n",
      "[40]\ttraining's l1: 1.44649\tvalid_1's l1: 1.36887\n",
      "[LightGBM] [Warning] feature_fraction is set=0.7184084715627668, colsample_bytree=0.5 will be ignored. Current value: feature_fraction=0.7184084715627668\n",
      "[LightGBM] [Warning] bagging_fraction is set=0.617574622765294, subsample=0.7 will be ignored. Current value: bagging_fraction=0.617574622765294\n",
      "[LightGBM] [Warning] bagging_freq is set=6, subsample_freq=0 will be ignored. Current value: bagging_freq=6\n",
      "Training until validation scores don't improve for 100 rounds\n",
      "[100]\ttraining's l1: 1.62859\tvalid_1's l1: 1.46616\n",
      "[200]\ttraining's l1: 1.61071\tvalid_1's l1: 1.45273\n",
      "[300]\ttraining's l1: 1.6027\tvalid_1's l1: 1.4471\n",
      "[400]\ttraining's l1: 1.5984\tvalid_1's l1: 1.45036\n"
     ]
    },
    {
     "name": "stderr",
     "output_type": "stream",
     "text": [
      "\u001b[32m[I 2021-07-06 11:54:34,620]\u001b[0m Trial 27 finished with value: -1.4444732940967748 and parameters: {'max_depth': 1, 'min_child_weight': 3, 'subsample': 0.7, 'colsample_bytree': 0.5, 'reg_lambda': 36.09208512317384, 'reg_alpha': 1.079799022692997, 'feature_fraction': 0.7184084715627668, 'bagging_fraction': 0.617574622765294, 'bagging_freq': 6}. Best is trial 1 with value: -1.3649124896017673.\u001b[0m\n"
     ]
    },
    {
     "name": "stdout",
     "output_type": "stream",
     "text": [
      "Early stopping, best iteration is:\n",
      "[368]\ttraining's l1: 1.59887\tvalid_1's l1: 1.44448\n",
      "[LightGBM] [Warning] feature_fraction is set=0.828825882131654, colsample_bytree=0.6 will be ignored. Current value: feature_fraction=0.828825882131654\n",
      "[LightGBM] [Warning] bagging_fraction is set=0.9304202858668741, subsample=0.8 will be ignored. Current value: bagging_fraction=0.9304202858668741\n",
      "[LightGBM] [Warning] bagging_freq is set=8, subsample_freq=0 will be ignored. Current value: bagging_freq=8\n",
      "Training until validation scores don't improve for 100 rounds\n",
      "[100]\ttraining's l1: 1.40939\tvalid_1's l1: 1.38679\n"
     ]
    },
    {
     "name": "stderr",
     "output_type": "stream",
     "text": [
      "\u001b[32m[I 2021-07-06 11:54:41,352]\u001b[0m Trial 28 finished with value: -1.3693244147017707 and parameters: {'max_depth': 20, 'min_child_weight': 6, 'subsample': 0.8, 'colsample_bytree': 0.6, 'reg_lambda': 170.4358845504609, 'reg_alpha': 0.02170526988414995, 'feature_fraction': 0.828825882131654, 'bagging_fraction': 0.9304202858668741, 'bagging_freq': 8}. Best is trial 1 with value: -1.3649124896017673.\u001b[0m\n"
     ]
    },
    {
     "name": "stdout",
     "output_type": "stream",
     "text": [
      "Early stopping, best iteration is:\n",
      "[37]\ttraining's l1: 1.44469\tvalid_1's l1: 1.36932\n",
      "[LightGBM] [Warning] feature_fraction is set=0.8860293113404905, colsample_bytree=0.7 will be ignored. Current value: feature_fraction=0.8860293113404905\n",
      "[LightGBM] [Warning] bagging_fraction is set=0.6956251351019584, subsample=0.7 will be ignored. Current value: bagging_fraction=0.6956251351019584\n",
      "[LightGBM] [Warning] bagging_freq is set=10, subsample_freq=0 will be ignored. Current value: bagging_freq=10\n",
      "Training until validation scores don't improve for 100 rounds\n",
      "[100]\ttraining's l1: 1.42852\tvalid_1's l1: 1.37247\n"
     ]
    },
    {
     "name": "stderr",
     "output_type": "stream",
     "text": [
      "\u001b[32m[I 2021-07-06 11:54:47,106]\u001b[0m Trial 29 finished with value: -1.366646769319893 and parameters: {'max_depth': 4, 'min_child_weight': 9, 'subsample': 0.7, 'colsample_bytree': 0.7, 'reg_lambda': 961.7617398491348, 'reg_alpha': 0.06529702777377386, 'feature_fraction': 0.8860293113404905, 'bagging_fraction': 0.6956251351019584, 'bagging_freq': 10}. Best is trial 1 with value: -1.3649124896017673.\u001b[0m\n"
     ]
    },
    {
     "name": "stdout",
     "output_type": "stream",
     "text": [
      "Early stopping, best iteration is:\n",
      "[75]\ttraining's l1: 1.43759\tvalid_1's l1: 1.36665\n",
      "[LightGBM] [Warning] feature_fraction is set=0.6814430002650634, colsample_bytree=0.7 will be ignored. Current value: feature_fraction=0.6814430002650634\n",
      "[LightGBM] [Warning] bagging_fraction is set=0.7111753313025897, subsample=0.7 will be ignored. Current value: bagging_fraction=0.7111753313025897\n",
      "[LightGBM] [Warning] bagging_freq is set=9, subsample_freq=0 will be ignored. Current value: bagging_freq=9\n",
      "Training until validation scores don't improve for 100 rounds\n",
      "[100]\ttraining's l1: 1.41717\tvalid_1's l1: 1.37622\n"
     ]
    },
    {
     "name": "stderr",
     "output_type": "stream",
     "text": [
      "\u001b[32m[I 2021-07-06 11:54:52,664]\u001b[0m Trial 30 finished with value: -1.3685138497156797 and parameters: {'max_depth': 5, 'min_child_weight': 9, 'subsample': 0.7, 'colsample_bytree': 0.7, 'reg_lambda': 714.772699838126, 'reg_alpha': 0.042020669503647065, 'feature_fraction': 0.6814430002650634, 'bagging_fraction': 0.7111753313025897, 'bagging_freq': 9}. Best is trial 1 with value: -1.3649124896017673.\u001b[0m\n"
     ]
    },
    {
     "name": "stdout",
     "output_type": "stream",
     "text": [
      "Early stopping, best iteration is:\n",
      "[45]\ttraining's l1: 1.43764\tvalid_1's l1: 1.36851\n",
      "[LightGBM] [Warning] feature_fraction is set=0.8769358147591747, colsample_bytree=0.8 will be ignored. Current value: feature_fraction=0.8769358147591747\n",
      "[LightGBM] [Warning] bagging_fraction is set=0.6890387989039752, subsample=0.7 will be ignored. Current value: bagging_fraction=0.6890387989039752\n",
      "[LightGBM] [Warning] bagging_freq is set=10, subsample_freq=0 will be ignored. Current value: bagging_freq=10\n",
      "Training until validation scores don't improve for 100 rounds\n",
      "[100]\ttraining's l1: 1.43109\tvalid_1's l1: 1.37651\n"
     ]
    },
    {
     "name": "stderr",
     "output_type": "stream",
     "text": [
      "\u001b[32m[I 2021-07-06 11:54:57,987]\u001b[0m Trial 31 finished with value: -1.3689909826250835 and parameters: {'max_depth': 4, 'min_child_weight': 11, 'subsample': 0.7, 'colsample_bytree': 0.8, 'reg_lambda': 381.73562906274907, 'reg_alpha': 0.13228385887492367, 'feature_fraction': 0.8769358147591747, 'bagging_fraction': 0.6890387989039752, 'bagging_freq': 10}. Best is trial 1 with value: -1.3649124896017673.\u001b[0m\n"
     ]
    },
    {
     "name": "stdout",
     "output_type": "stream",
     "text": [
      "Early stopping, best iteration is:\n",
      "[56]\ttraining's l1: 1.44943\tvalid_1's l1: 1.36899\n",
      "[LightGBM] [Warning] feature_fraction is set=0.9408040722488249, colsample_bytree=0.7 will be ignored. Current value: feature_fraction=0.9408040722488249\n",
      "[LightGBM] [Warning] bagging_fraction is set=0.7898975227014654, subsample=0.6 will be ignored. Current value: bagging_fraction=0.7898975227014654\n",
      "[LightGBM] [Warning] bagging_freq is set=10, subsample_freq=0 will be ignored. Current value: bagging_freq=10\n",
      "Training until validation scores don't improve for 100 rounds\n",
      "[100]\ttraining's l1: 1.6283\tvalid_1's l1: 1.46954\n",
      "[200]\ttraining's l1: 1.61174\tvalid_1's l1: 1.45467\n",
      "[300]\ttraining's l1: 1.60204\tvalid_1's l1: 1.44678\n",
      "[400]\ttraining's l1: 1.59787\tvalid_1's l1: 1.44827\n"
     ]
    },
    {
     "name": "stderr",
     "output_type": "stream",
     "text": [
      "\u001b[32m[I 2021-07-06 11:55:10,211]\u001b[0m Trial 32 finished with value: -1.4448351862313031 and parameters: {'max_depth': 1, 'min_child_weight': 9, 'subsample': 0.6, 'colsample_bytree': 0.7, 'reg_lambda': 7.64682749469213, 'reg_alpha': 0.5222703120698772, 'feature_fraction': 0.9408040722488249, 'bagging_fraction': 0.7898975227014654, 'bagging_freq': 10}. Best is trial 1 with value: -1.3649124896017673.\u001b[0m\n"
     ]
    },
    {
     "name": "stdout",
     "output_type": "stream",
     "text": [
      "Early stopping, best iteration is:\n",
      "[393]\ttraining's l1: 1.59829\tvalid_1's l1: 1.44484\n",
      "[LightGBM] [Warning] feature_fraction is set=0.8119622321186112, colsample_bytree=0.7 will be ignored. Current value: feature_fraction=0.8119622321186112\n",
      "[LightGBM] [Warning] bagging_fraction is set=0.5853067633259527, subsample=0.7 will be ignored. Current value: bagging_fraction=0.5853067633259527\n",
      "[LightGBM] [Warning] bagging_freq is set=9, subsample_freq=0 will be ignored. Current value: bagging_freq=9\n",
      "Training until validation scores don't improve for 100 rounds\n",
      "[100]\ttraining's l1: 1.41153\tvalid_1's l1: 1.38145\n"
     ]
    },
    {
     "name": "stderr",
     "output_type": "stream",
     "text": [
      "\u001b[32m[I 2021-07-06 11:55:15,678]\u001b[0m Trial 33 finished with value: -1.3667370559495395 and parameters: {'max_depth': 9, 'min_child_weight': 13, 'subsample': 0.7, 'colsample_bytree': 0.7, 'reg_lambda': 988.0720863892435, 'reg_alpha': 0.006342954653274407, 'feature_fraction': 0.8119622321186112, 'bagging_fraction': 0.5853067633259527, 'bagging_freq': 9}. Best is trial 1 with value: -1.3649124896017673.\u001b[0m\n"
     ]
    },
    {
     "name": "stdout",
     "output_type": "stream",
     "text": [
      "Early stopping, best iteration is:\n",
      "[45]\ttraining's l1: 1.44005\tvalid_1's l1: 1.36674\n",
      "[LightGBM] [Warning] feature_fraction is set=0.7999204797711518, colsample_bytree=0.7 will be ignored. Current value: feature_fraction=0.7999204797711518\n",
      "[LightGBM] [Warning] bagging_fraction is set=0.555467063701579, subsample=0.6 will be ignored. Current value: bagging_fraction=0.555467063701579\n",
      "[LightGBM] [Warning] bagging_freq is set=8, subsample_freq=0 will be ignored. Current value: bagging_freq=8\n",
      "Training until validation scores don't improve for 100 rounds\n",
      "[100]\ttraining's l1: 1.41312\tvalid_1's l1: 1.37256\n"
     ]
    },
    {
     "name": "stderr",
     "output_type": "stream",
     "text": [
      "\u001b[32m[I 2021-07-06 11:55:21,061]\u001b[0m Trial 34 finished with value: -1.3676310874972368 and parameters: {'max_depth': 5, 'min_child_weight': 13, 'subsample': 0.6, 'colsample_bytree': 0.7, 'reg_lambda': 943.0091289823216, 'reg_alpha': 0.005756472517770457, 'feature_fraction': 0.7999204797711518, 'bagging_fraction': 0.555467063701579, 'bagging_freq': 8}. Best is trial 1 with value: -1.3649124896017673.\u001b[0m\n"
     ]
    },
    {
     "name": "stdout",
     "output_type": "stream",
     "text": [
      "Early stopping, best iteration is:\n",
      "[65]\ttraining's l1: 1.42764\tvalid_1's l1: 1.36763\n",
      "[LightGBM] [Warning] feature_fraction is set=0.7469763448298615, colsample_bytree=0.7 will be ignored. Current value: feature_fraction=0.7469763448298615\n",
      "[LightGBM] [Warning] bagging_fraction is set=0.5274734232061782, subsample=0.7 will be ignored. Current value: bagging_fraction=0.5274734232061782\n",
      "[LightGBM] [Warning] bagging_freq is set=9, subsample_freq=0 will be ignored. Current value: bagging_freq=9\n",
      "Training until validation scores don't improve for 100 rounds\n",
      "[100]\ttraining's l1: 1.45087\tvalid_1's l1: 1.36749\n"
     ]
    },
    {
     "name": "stderr",
     "output_type": "stream",
     "text": [
      "\u001b[32m[I 2021-07-06 11:55:26,293]\u001b[0m Trial 35 finished with value: -1.3674576239373823 and parameters: {'max_depth': 3, 'min_child_weight': 17, 'subsample': 0.7, 'colsample_bytree': 0.7, 'reg_lambda': 482.0718060239171, 'reg_alpha': 0.004659678399305677, 'feature_fraction': 0.7469763448298615, 'bagging_fraction': 0.5274734232061782, 'bagging_freq': 9}. Best is trial 1 with value: -1.3649124896017673.\u001b[0m\n"
     ]
    },
    {
     "name": "stdout",
     "output_type": "stream",
     "text": [
      "Early stopping, best iteration is:\n",
      "[99]\ttraining's l1: 1.45087\tvalid_1's l1: 1.36748\n",
      "[LightGBM] [Warning] feature_fraction is set=0.8050624150248014, colsample_bytree=0.8 will be ignored. Current value: feature_fraction=0.8050624150248014\n",
      "[LightGBM] [Warning] bagging_fraction is set=0.738007725870383, subsample=0.8 will be ignored. Current value: bagging_fraction=0.738007725870383\n",
      "[LightGBM] [Warning] bagging_freq is set=9, subsample_freq=0 will be ignored. Current value: bagging_freq=9\n",
      "Training until validation scores don't improve for 100 rounds\n",
      "[100]\ttraining's l1: 1.45237\tvalid_1's l1: 1.38199\n"
     ]
    },
    {
     "name": "stderr",
     "output_type": "stream",
     "text": [
      "\u001b[32m[I 2021-07-06 11:55:31,889]\u001b[0m Trial 36 finished with value: -1.3718125278861562 and parameters: {'max_depth': 3, 'min_child_weight': 10, 'subsample': 0.8, 'colsample_bytree': 0.8, 'reg_lambda': 73.59160891930226, 'reg_alpha': 0.010555479609018743, 'feature_fraction': 0.8050624150248014, 'bagging_fraction': 0.738007725870383, 'bagging_freq': 9}. Best is trial 1 with value: -1.3649124896017673.\u001b[0m\n"
     ]
    },
    {
     "name": "stdout",
     "output_type": "stream",
     "text": [
      "Early stopping, best iteration is:\n",
      "[70]\ttraining's l1: 1.46492\tvalid_1's l1: 1.37181\n",
      "[LightGBM] [Warning] feature_fraction is set=0.9962537327783714, colsample_bytree=0.7 will be ignored. Current value: feature_fraction=0.9962537327783714\n",
      "[LightGBM] [Warning] bagging_fraction is set=0.6373170037555075, subsample=0.6 will be ignored. Current value: bagging_fraction=0.6373170037555075\n",
      "[LightGBM] [Warning] bagging_freq is set=8, subsample_freq=0 will be ignored. Current value: bagging_freq=8\n",
      "Training until validation scores don't improve for 100 rounds\n",
      "[100]\ttraining's l1: 1.41196\tvalid_1's l1: 1.38897\n"
     ]
    },
    {
     "name": "stderr",
     "output_type": "stream",
     "text": [
      "\u001b[32m[I 2021-07-06 11:55:37,419]\u001b[0m Trial 37 finished with value: -1.374062746781466 and parameters: {'max_depth': 9, 'min_child_weight': 11, 'subsample': 0.6, 'colsample_bytree': 0.7, 'reg_lambda': 0.3454811136670663, 'reg_alpha': 0.00278009313796864, 'feature_fraction': 0.9962537327783714, 'bagging_fraction': 0.6373170037555075, 'bagging_freq': 8}. Best is trial 1 with value: -1.3649124896017673.\u001b[0m\n"
     ]
    },
    {
     "name": "stdout",
     "output_type": "stream",
     "text": [
      "Early stopping, best iteration is:\n",
      "[37]\ttraining's l1: 1.44841\tvalid_1's l1: 1.37406\n",
      "[LightGBM] [Warning] feature_fraction is set=0.8585149961990104, colsample_bytree=0.7 will be ignored. Current value: feature_fraction=0.8585149961990104\n",
      "[LightGBM] [Warning] bagging_fraction is set=0.5344424382106359, subsample=0.9 will be ignored. Current value: bagging_fraction=0.5344424382106359\n",
      "[LightGBM] [Warning] bagging_freq is set=7, subsample_freq=0 will be ignored. Current value: bagging_freq=7\n",
      "Training until validation scores don't improve for 100 rounds\n",
      "[100]\ttraining's l1: 1.41226\tvalid_1's l1: 1.38068\n"
     ]
    },
    {
     "name": "stderr",
     "output_type": "stream",
     "text": [
      "\u001b[32m[I 2021-07-06 11:55:43,037]\u001b[0m Trial 38 finished with value: -1.3687839202412666 and parameters: {'max_depth': 8, 'min_child_weight': 15, 'subsample': 0.9, 'colsample_bytree': 0.7, 'reg_lambda': 959.2387333056778, 'reg_alpha': 0.0013111424277652405, 'feature_fraction': 0.8585149961990104, 'bagging_fraction': 0.5344424382106359, 'bagging_freq': 7}. Best is trial 1 with value: -1.3649124896017673.\u001b[0m\n"
     ]
    },
    {
     "name": "stdout",
     "output_type": "stream",
     "text": [
      "Early stopping, best iteration is:\n",
      "[58]\ttraining's l1: 1.42873\tvalid_1's l1: 1.36878\n",
      "[LightGBM] [Warning] feature_fraction is set=0.8199902991985294, colsample_bytree=0.8 will be ignored. Current value: feature_fraction=0.8199902991985294\n",
      "[LightGBM] [Warning] bagging_fraction is set=0.6815153574290346, subsample=0.7 will be ignored. Current value: bagging_fraction=0.6815153574290346\n",
      "[LightGBM] [Warning] bagging_freq is set=1, subsample_freq=0 will be ignored. Current value: bagging_freq=1\n",
      "Training until validation scores don't improve for 100 rounds\n",
      "[100]\ttraining's l1: 1.50886\tvalid_1's l1: 1.40098\n",
      "[200]\ttraining's l1: 1.48169\tvalid_1's l1: 1.39971\n",
      "[300]\ttraining's l1: 1.47193\tvalid_1's l1: 1.3998\n"
     ]
    },
    {
     "name": "stderr",
     "output_type": "stream",
     "text": [
      "\u001b[32m[I 2021-07-06 11:55:50,315]\u001b[0m Trial 39 finished with value: -1.396728557445805 and parameters: {'max_depth': 2, 'min_child_weight': 8, 'subsample': 0.7, 'colsample_bytree': 0.8, 'reg_lambda': 0.013064450918844596, 'reg_alpha': 0.04140806916529866, 'feature_fraction': 0.8199902991985294, 'bagging_fraction': 0.6815153574290346, 'bagging_freq': 1}. Best is trial 1 with value: -1.3649124896017673.\u001b[0m\n"
     ]
    },
    {
     "name": "stdout",
     "output_type": "stream",
     "text": [
      "Early stopping, best iteration is:\n",
      "[215]\ttraining's l1: 1.47769\tvalid_1's l1: 1.39675\n",
      "[LightGBM] [Warning] feature_fraction is set=0.6371214684746659, colsample_bytree=0.7 will be ignored. Current value: feature_fraction=0.6371214684746659\n",
      "[LightGBM] [Warning] bagging_fraction is set=0.5722079921732852, subsample=0.7 will be ignored. Current value: bagging_fraction=0.5722079921732852\n",
      "[LightGBM] [Warning] bagging_freq is set=5, subsample_freq=0 will be ignored. Current value: bagging_freq=5\n",
      "Training until validation scores don't improve for 100 rounds\n",
      "[100]\ttraining's l1: 1.42944\tvalid_1's l1: 1.38088\n"
     ]
    },
    {
     "name": "stderr",
     "output_type": "stream",
     "text": [
      "\u001b[32m[I 2021-07-06 11:55:56,031]\u001b[0m Trial 40 finished with value: -1.3696448250978908 and parameters: {'max_depth': 4, 'min_child_weight': 14, 'subsample': 0.7, 'colsample_bytree': 0.7, 'reg_lambda': 9.909021491342228, 'reg_alpha': 0.30727614181862556, 'feature_fraction': 0.6371214684746659, 'bagging_fraction': 0.5722079921732852, 'bagging_freq': 5}. Best is trial 1 with value: -1.3649124896017673.\u001b[0m\n"
     ]
    },
    {
     "name": "stdout",
     "output_type": "stream",
     "text": [
      "Early stopping, best iteration is:\n",
      "[54]\ttraining's l1: 1.4521\tvalid_1's l1: 1.36965\n",
      "[LightGBM] [Warning] feature_fraction is set=0.9512945323271748, colsample_bytree=0.6 will be ignored. Current value: feature_fraction=0.9512945323271748\n",
      "[LightGBM] [Warning] bagging_fraction is set=0.48157447522502517, subsample=0.7 will be ignored. Current value: bagging_fraction=0.48157447522502517\n",
      "[LightGBM] [Warning] bagging_freq is set=10, subsample_freq=0 will be ignored. Current value: bagging_freq=10\n",
      "Training until validation scores don't improve for 100 rounds\n",
      "[100]\ttraining's l1: 1.41256\tvalid_1's l1: 1.38466\n"
     ]
    },
    {
     "name": "stderr",
     "output_type": "stream",
     "text": [
      "\u001b[32m[I 2021-07-06 11:56:01,098]\u001b[0m Trial 41 finished with value: -1.3683671695792525 and parameters: {'max_depth': 13, 'min_child_weight': 13, 'subsample': 0.7, 'colsample_bytree': 0.6, 'reg_lambda': 137.99065172130844, 'reg_alpha': 0.09087797751022478, 'feature_fraction': 0.9512945323271748, 'bagging_fraction': 0.48157447522502517, 'bagging_freq': 10}. Best is trial 1 with value: -1.3649124896017673.\u001b[0m\n"
     ]
    },
    {
     "name": "stdout",
     "output_type": "stream",
     "text": [
      "Early stopping, best iteration is:\n",
      "[45]\ttraining's l1: 1.43964\tvalid_1's l1: 1.36837\n",
      "[LightGBM] [Warning] feature_fraction is set=0.8844754496647309, colsample_bytree=0.7 will be ignored. Current value: feature_fraction=0.8844754496647309\n",
      "[LightGBM] [Warning] bagging_fraction is set=0.7572396332111165, subsample=0.7 will be ignored. Current value: bagging_fraction=0.7572396332111165\n",
      "[LightGBM] [Warning] bagging_freq is set=9, subsample_freq=0 will be ignored. Current value: bagging_freq=9\n",
      "Training until validation scores don't improve for 100 rounds\n",
      "[100]\ttraining's l1: 1.41044\tvalid_1's l1: 1.38724\n"
     ]
    },
    {
     "name": "stderr",
     "output_type": "stream",
     "text": [
      "\u001b[32m[I 2021-07-06 11:56:07,283]\u001b[0m Trial 42 finished with value: -1.3677865452167408 and parameters: {'max_depth': 11, 'min_child_weight': 10, 'subsample': 0.7, 'colsample_bytree': 0.7, 'reg_lambda': 311.9765948183668, 'reg_alpha': 1.3587965215627567, 'feature_fraction': 0.8844754496647309, 'bagging_fraction': 0.7572396332111165, 'bagging_freq': 9}. Best is trial 1 with value: -1.3649124896017673.\u001b[0m\n"
     ]
    },
    {
     "name": "stdout",
     "output_type": "stream",
     "text": [
      "Early stopping, best iteration is:\n",
      "[45]\ttraining's l1: 1.43711\tvalid_1's l1: 1.36779\n",
      "[LightGBM] [Warning] feature_fraction is set=0.8476908471698575, colsample_bytree=0.8 will be ignored. Current value: feature_fraction=0.8476908471698575\n",
      "[LightGBM] [Warning] bagging_fraction is set=0.8019966201936426, subsample=0.7 will be ignored. Current value: bagging_fraction=0.8019966201936426\n",
      "[LightGBM] [Warning] bagging_freq is set=10, subsample_freq=0 will be ignored. Current value: bagging_freq=10\n",
      "Training until validation scores don't improve for 100 rounds\n",
      "[100]\ttraining's l1: 1.40789\tvalid_1's l1: 1.39057\n"
     ]
    },
    {
     "name": "stderr",
     "output_type": "stream",
     "text": [
      "\u001b[32m[I 2021-07-06 11:56:13,211]\u001b[0m Trial 43 finished with value: -1.3718814694481711 and parameters: {'max_depth': 9, 'min_child_weight': 8, 'subsample': 0.7, 'colsample_bytree': 0.8, 'reg_lambda': 1.082417120944003, 'reg_alpha': 0.02331320576798783, 'feature_fraction': 0.8476908471698575, 'bagging_fraction': 0.8019966201936426, 'bagging_freq': 10}. Best is trial 1 with value: -1.3649124896017673.\u001b[0m\n"
     ]
    },
    {
     "name": "stdout",
     "output_type": "stream",
     "text": [
      "Early stopping, best iteration is:\n",
      "[37]\ttraining's l1: 1.44515\tvalid_1's l1: 1.37188\n",
      "[LightGBM] [Warning] feature_fraction is set=0.7617690700264084, colsample_bytree=0.5 will be ignored. Current value: feature_fraction=0.7617690700264084\n",
      "[LightGBM] [Warning] bagging_fraction is set=0.8609073829827202, subsample=0.6 will be ignored. Current value: bagging_fraction=0.8609073829827202\n",
      "[LightGBM] [Warning] bagging_freq is set=9, subsample_freq=0 will be ignored. Current value: bagging_freq=9\n",
      "Training until validation scores don't improve for 100 rounds\n",
      "[100]\ttraining's l1: 1.40855\tvalid_1's l1: 1.384\n"
     ]
    },
    {
     "name": "stderr",
     "output_type": "stream",
     "text": [
      "\u001b[32m[I 2021-07-06 11:56:19,681]\u001b[0m Trial 44 finished with value: -1.3691945749679832 and parameters: {'max_depth': 13, 'min_child_weight': 6, 'subsample': 0.6, 'colsample_bytree': 0.5, 'reg_lambda': 112.22337757401613, 'reg_alpha': 0.009995454694038201, 'feature_fraction': 0.7617690700264084, 'bagging_fraction': 0.8609073829827202, 'bagging_freq': 9}. Best is trial 1 with value: -1.3649124896017673.\u001b[0m\n"
     ]
    },
    {
     "name": "stdout",
     "output_type": "stream",
     "text": [
      "Early stopping, best iteration is:\n",
      "[44]\ttraining's l1: 1.43523\tvalid_1's l1: 1.36919\n",
      "[LightGBM] [Warning] feature_fraction is set=0.9732560480306599, colsample_bytree=0.6 will be ignored. Current value: feature_fraction=0.9732560480306599\n",
      "[LightGBM] [Warning] bagging_fraction is set=0.7575307502270578, subsample=0.7 will be ignored. Current value: bagging_fraction=0.7575307502270578\n",
      "[LightGBM] [Warning] bagging_freq is set=8, subsample_freq=0 will be ignored. Current value: bagging_freq=8\n",
      "Training until validation scores don't improve for 100 rounds\n",
      "[100]\ttraining's l1: 1.40873\tvalid_1's l1: 1.39178\n"
     ]
    },
    {
     "name": "stderr",
     "output_type": "stream",
     "text": [
      "\u001b[32m[I 2021-07-06 11:56:25,729]\u001b[0m Trial 45 finished with value: -1.3726626879105572 and parameters: {'max_depth': 7, 'min_child_weight': 11, 'subsample': 0.7, 'colsample_bytree': 0.6, 'reg_lambda': 40.867484894955005, 'reg_alpha': 0.14954242512551472, 'feature_fraction': 0.9732560480306599, 'bagging_fraction': 0.7575307502270578, 'bagging_freq': 8}. Best is trial 1 with value: -1.3649124896017673.\u001b[0m\n"
     ]
    },
    {
     "name": "stdout",
     "output_type": "stream",
     "text": [
      "Early stopping, best iteration is:\n",
      "[45]\ttraining's l1: 1.43399\tvalid_1's l1: 1.37266\n",
      "[LightGBM] [Warning] feature_fraction is set=0.915845252056006, colsample_bytree=0.7 will be ignored. Current value: feature_fraction=0.915845252056006\n",
      "[LightGBM] [Warning] bagging_fraction is set=0.7117216867851807, subsample=0.8 will be ignored. Current value: bagging_fraction=0.7117216867851807\n",
      "[LightGBM] [Warning] bagging_freq is set=10, subsample_freq=0 will be ignored. Current value: bagging_freq=10\n",
      "Training until validation scores don't improve for 100 rounds\n",
      "[100]\ttraining's l1: 1.41341\tvalid_1's l1: 1.3817\n"
     ]
    },
    {
     "name": "stderr",
     "output_type": "stream",
     "text": [
      "\u001b[32m[I 2021-07-06 11:56:31,663]\u001b[0m Trial 46 finished with value: -1.3665094294697118 and parameters: {'max_depth': 10, 'min_child_weight': 13, 'subsample': 0.8, 'colsample_bytree': 0.7, 'reg_lambda': 566.6973552021848, 'reg_alpha': 0.04540607488484576, 'feature_fraction': 0.915845252056006, 'bagging_fraction': 0.7117216867851807, 'bagging_freq': 10}. Best is trial 1 with value: -1.3649124896017673.\u001b[0m\n"
     ]
    },
    {
     "name": "stdout",
     "output_type": "stream",
     "text": [
      "Early stopping, best iteration is:\n",
      "[42]\ttraining's l1: 1.44198\tvalid_1's l1: 1.36651\n",
      "[LightGBM] [Warning] feature_fraction is set=0.6875209924408986, colsample_bytree=0.7 will be ignored. Current value: feature_fraction=0.6875209924408986\n",
      "[LightGBM] [Warning] bagging_fraction is set=0.7103266020542284, subsample=0.9 will be ignored. Current value: bagging_fraction=0.7103266020542284\n",
      "[LightGBM] [Warning] bagging_freq is set=9, subsample_freq=0 will be ignored. Current value: bagging_freq=9\n",
      "Training until validation scores don't improve for 100 rounds\n",
      "[100]\ttraining's l1: 1.41051\tvalid_1's l1: 1.38051\n"
     ]
    },
    {
     "name": "stderr",
     "output_type": "stream",
     "text": [
      "\u001b[32m[I 2021-07-06 11:56:37,269]\u001b[0m Trial 47 finished with value: -1.3709396228768922 and parameters: {'max_depth': 6, 'min_child_weight': 16, 'subsample': 0.9, 'colsample_bytree': 0.7, 'reg_lambda': 580.8253069848278, 'reg_alpha': 0.0603130230201789, 'feature_fraction': 0.6875209924408986, 'bagging_fraction': 0.7103266020542284, 'bagging_freq': 9}. Best is trial 1 with value: -1.3649124896017673.\u001b[0m\n"
     ]
    },
    {
     "name": "stdout",
     "output_type": "stream",
     "text": [
      "Early stopping, best iteration is:\n",
      "[40]\ttraining's l1: 1.44025\tvalid_1's l1: 1.37094\n",
      "[LightGBM] [Warning] feature_fraction is set=0.8157997731463765, colsample_bytree=0.8 will be ignored. Current value: feature_fraction=0.8157997731463765\n",
      "[LightGBM] [Warning] bagging_fraction is set=0.6706841897522928, subsample=0.8 will be ignored. Current value: bagging_fraction=0.6706841897522928\n",
      "[LightGBM] [Warning] bagging_freq is set=7, subsample_freq=0 will be ignored. Current value: bagging_freq=7\n",
      "Training until validation scores don't improve for 100 rounds\n",
      "[100]\ttraining's l1: 1.40979\tvalid_1's l1: 1.37916\n"
     ]
    },
    {
     "name": "stderr",
     "output_type": "stream",
     "text": [
      "\u001b[32m[I 2021-07-06 11:56:43,302]\u001b[0m Trial 48 finished with value: -1.3664068154852134 and parameters: {'max_depth': 10, 'min_child_weight': 13, 'subsample': 0.8, 'colsample_bytree': 0.8, 'reg_lambda': 763.9655356697182, 'reg_alpha': 0.0019290184366285898, 'feature_fraction': 0.8157997731463765, 'bagging_fraction': 0.6706841897522928, 'bagging_freq': 7}. Best is trial 1 with value: -1.3649124896017673.\u001b[0m\n"
     ]
    },
    {
     "name": "stdout",
     "output_type": "stream",
     "text": [
      "Early stopping, best iteration is:\n",
      "[45]\ttraining's l1: 1.43731\tvalid_1's l1: 1.36641\n",
      "[LightGBM] [Warning] feature_fraction is set=0.8484579356083007, colsample_bytree=0.8 will be ignored. Current value: feature_fraction=0.8484579356083007\n",
      "[LightGBM] [Warning] bagging_fraction is set=0.6560368442667857, subsample=0.8 will be ignored. Current value: bagging_fraction=0.6560368442667857\n",
      "[LightGBM] [Warning] bagging_freq is set=6, subsample_freq=0 will be ignored. Current value: bagging_freq=6\n",
      "Training until validation scores don't improve for 100 rounds\n",
      "[100]\ttraining's l1: 1.41046\tvalid_1's l1: 1.38417\n"
     ]
    },
    {
     "name": "stderr",
     "output_type": "stream",
     "text": [
      "\u001b[32m[I 2021-07-06 11:56:49,186]\u001b[0m Trial 49 finished with value: -1.3710479257194406 and parameters: {'max_depth': 10, 'min_child_weight': 14, 'subsample': 0.8, 'colsample_bytree': 0.8, 'reg_lambda': 557.5217797771791, 'reg_alpha': 0.4073151713007564, 'feature_fraction': 0.8484579356083007, 'bagging_fraction': 0.6560368442667857, 'bagging_freq': 6}. Best is trial 1 with value: -1.3649124896017673.\u001b[0m\n"
     ]
    },
    {
     "name": "stdout",
     "output_type": "stream",
     "text": [
      "Early stopping, best iteration is:\n",
      "[39]\ttraining's l1: 1.4464\tvalid_1's l1: 1.37105\n",
      "[LightGBM] [Warning] feature_fraction is set=0.9289468880767958, colsample_bytree=0.9 will be ignored. Current value: feature_fraction=0.9289468880767958\n",
      "[LightGBM] [Warning] bagging_fraction is set=0.7294903939883646, subsample=0.9 will be ignored. Current value: bagging_fraction=0.7294903939883646\n",
      "[LightGBM] [Warning] bagging_freq is set=7, subsample_freq=0 will be ignored. Current value: bagging_freq=7\n",
      "Training until validation scores don't improve for 100 rounds\n",
      "[100]\ttraining's l1: 1.4097\tvalid_1's l1: 1.38432\n"
     ]
    },
    {
     "name": "stderr",
     "output_type": "stream",
     "text": [
      "\u001b[32m[I 2021-07-06 11:56:55,487]\u001b[0m Trial 50 finished with value: -1.3687320110039516 and parameters: {'max_depth': 8, 'min_child_weight': 9, 'subsample': 0.9, 'colsample_bytree': 0.9, 'reg_lambda': 262.6028224367773, 'reg_alpha': 2.1579826315305852, 'feature_fraction': 0.9289468880767958, 'bagging_fraction': 0.7294903939883646, 'bagging_freq': 7}. Best is trial 1 with value: -1.3649124896017673.\u001b[0m\n"
     ]
    },
    {
     "name": "stdout",
     "output_type": "stream",
     "text": [
      "Early stopping, best iteration is:\n",
      "[48]\ttraining's l1: 1.43229\tvalid_1's l1: 1.36873\n",
      "[LightGBM] [Warning] feature_fraction is set=0.8074819123906534, colsample_bytree=0.8 will be ignored. Current value: feature_fraction=0.8074819123906534\n",
      "[LightGBM] [Warning] bagging_fraction is set=0.599935874997636, subsample=0.8 will be ignored. Current value: bagging_fraction=0.599935874997636\n",
      "[LightGBM] [Warning] bagging_freq is set=8, subsample_freq=0 will be ignored. Current value: bagging_freq=8\n",
      "Training until validation scores don't improve for 100 rounds\n",
      "[100]\ttraining's l1: 1.41323\tvalid_1's l1: 1.37925\n"
     ]
    },
    {
     "name": "stderr",
     "output_type": "stream",
     "text": [
      "\u001b[32m[I 2021-07-06 11:57:01,121]\u001b[0m Trial 51 finished with value: -1.3646058711520774 and parameters: {'max_depth': 9, 'min_child_weight': 13, 'subsample': 0.8, 'colsample_bytree': 0.8, 'reg_lambda': 918.1579945975872, 'reg_alpha': 0.0021628817051904414, 'feature_fraction': 0.8074819123906534, 'bagging_fraction': 0.599935874997636, 'bagging_freq': 8}. Best is trial 51 with value: -1.3646058711520774.\u001b[0m\n"
     ]
    },
    {
     "name": "stdout",
     "output_type": "stream",
     "text": [
      "Early stopping, best iteration is:\n",
      "[45]\ttraining's l1: 1.43822\tvalid_1's l1: 1.36461\n",
      "[LightGBM] [Warning] feature_fraction is set=0.7851411605868331, colsample_bytree=0.8 will be ignored. Current value: feature_fraction=0.7851411605868331\n",
      "[LightGBM] [Warning] bagging_fraction is set=0.6261367407586247, subsample=0.8 will be ignored. Current value: bagging_fraction=0.6261367407586247\n",
      "[LightGBM] [Warning] bagging_freq is set=7, subsample_freq=0 will be ignored. Current value: bagging_freq=7\n",
      "Training until validation scores don't improve for 100 rounds\n",
      "[100]\ttraining's l1: 1.41348\tvalid_1's l1: 1.37045\n"
     ]
    },
    {
     "name": "stderr",
     "output_type": "stream",
     "text": [
      "\u001b[32m[I 2021-07-06 11:57:07,018]\u001b[0m Trial 52 finished with value: -1.3639147377264538 and parameters: {'max_depth': 5, 'min_child_weight': 13, 'subsample': 0.8, 'colsample_bytree': 0.8, 'reg_lambda': 977.7519478792124, 'reg_alpha': 0.0018414542679863778, 'feature_fraction': 0.7851411605868331, 'bagging_fraction': 0.6261367407586247, 'bagging_freq': 7}. Best is trial 52 with value: -1.3639147377264538.\u001b[0m\n"
     ]
    },
    {
     "name": "stdout",
     "output_type": "stream",
     "text": [
      "Early stopping, best iteration is:\n",
      "[70]\ttraining's l1: 1.42498\tvalid_1's l1: 1.36392\n",
      "[LightGBM] [Warning] feature_fraction is set=0.7824068374475069, colsample_bytree=0.8 will be ignored. Current value: feature_fraction=0.7824068374475069\n",
      "[LightGBM] [Warning] bagging_fraction is set=0.6372834506412566, subsample=0.8 will be ignored. Current value: bagging_fraction=0.6372834506412566\n",
      "[LightGBM] [Warning] bagging_freq is set=7, subsample_freq=0 will be ignored. Current value: bagging_freq=7\n",
      "Training until validation scores don't improve for 100 rounds\n",
      "[100]\ttraining's l1: 1.41175\tvalid_1's l1: 1.38403\n"
     ]
    },
    {
     "name": "stderr",
     "output_type": "stream",
     "text": [
      "\u001b[32m[I 2021-07-06 11:57:12,792]\u001b[0m Trial 53 finished with value: -1.3681571245311412 and parameters: {'max_depth': 11, 'min_child_weight': 15, 'subsample': 0.8, 'colsample_bytree': 0.8, 'reg_lambda': 477.909668482984, 'reg_alpha': 0.0010130003911048542, 'feature_fraction': 0.7824068374475069, 'bagging_fraction': 0.6372834506412566, 'bagging_freq': 7}. Best is trial 52 with value: -1.3639147377264538.\u001b[0m\n"
     ]
    },
    {
     "name": "stdout",
     "output_type": "stream",
     "text": [
      "Early stopping, best iteration is:\n",
      "[43]\ttraining's l1: 1.43855\tvalid_1's l1: 1.36816\n",
      "[LightGBM] [Warning] feature_fraction is set=0.7111794401937084, colsample_bytree=0.8 will be ignored. Current value: feature_fraction=0.7111794401937084\n",
      "[LightGBM] [Warning] bagging_fraction is set=0.6050932819596408, subsample=0.8 will be ignored. Current value: bagging_fraction=0.6050932819596408\n",
      "[LightGBM] [Warning] bagging_freq is set=7, subsample_freq=0 will be ignored. Current value: bagging_freq=7\n",
      "Training until validation scores don't improve for 100 rounds\n",
      "[100]\ttraining's l1: 1.41148\tvalid_1's l1: 1.37376\n"
     ]
    },
    {
     "name": "stderr",
     "output_type": "stream",
     "text": [
      "\u001b[32m[I 2021-07-06 11:57:19,098]\u001b[0m Trial 54 finished with value: -1.370246869696489 and parameters: {'max_depth': 6, 'min_child_weight': 14, 'subsample': 0.8, 'colsample_bytree': 0.8, 'reg_lambda': 964.8649275758579, 'reg_alpha': 0.002142565758011931, 'feature_fraction': 0.7111794401937084, 'bagging_fraction': 0.6050932819596408, 'bagging_freq': 7}. Best is trial 52 with value: -1.3639147377264538.\u001b[0m\n"
     ]
    },
    {
     "name": "stdout",
     "output_type": "stream",
     "text": [
      "Early stopping, best iteration is:\n",
      "[75]\ttraining's l1: 1.41886\tvalid_1's l1: 1.37025\n",
      "[LightGBM] [Warning] feature_fraction is set=0.7361604658259118, colsample_bytree=0.9 will be ignored. Current value: feature_fraction=0.7361604658259118\n",
      "[LightGBM] [Warning] bagging_fraction is set=0.6660605452091275, subsample=0.8 will be ignored. Current value: bagging_fraction=0.6660605452091275\n",
      "[LightGBM] [Warning] bagging_freq is set=6, subsample_freq=0 will be ignored. Current value: bagging_freq=6\n",
      "Training until validation scores don't improve for 100 rounds\n",
      "[100]\ttraining's l1: 1.408\tvalid_1's l1: 1.3848\n"
     ]
    },
    {
     "name": "stderr",
     "output_type": "stream",
     "text": [
      "\u001b[32m[I 2021-07-06 11:57:25,142]\u001b[0m Trial 55 finished with value: -1.3664658736544113 and parameters: {'max_depth': 10, 'min_child_weight': 16, 'subsample': 0.8, 'colsample_bytree': 0.9, 'reg_lambda': 85.87052707326072, 'reg_alpha': 0.002058354143997524, 'feature_fraction': 0.7361604658259118, 'bagging_fraction': 0.6660605452091275, 'bagging_freq': 6}. Best is trial 52 with value: -1.3639147377264538.\u001b[0m\n"
     ]
    },
    {
     "name": "stdout",
     "output_type": "stream",
     "text": [
      "Early stopping, best iteration is:\n",
      "[45]\ttraining's l1: 1.43421\tvalid_1's l1: 1.36647\n",
      "[LightGBM] [Warning] feature_fraction is set=0.7477626771350554, colsample_bytree=0.9 will be ignored. Current value: feature_fraction=0.7477626771350554\n",
      "[LightGBM] [Warning] bagging_fraction is set=0.6302531726652855, subsample=0.8 will be ignored. Current value: bagging_fraction=0.6302531726652855\n",
      "[LightGBM] [Warning] bagging_freq is set=5, subsample_freq=0 will be ignored. Current value: bagging_freq=5\n",
      "Training until validation scores don't improve for 100 rounds\n",
      "[100]\ttraining's l1: 1.41039\tvalid_1's l1: 1.38478\n"
     ]
    },
    {
     "name": "stderr",
     "output_type": "stream",
     "text": [
      "\u001b[32m[I 2021-07-06 11:57:31,273]\u001b[0m Trial 56 finished with value: -1.366466327738596 and parameters: {'max_depth': 13, 'min_child_weight': 17, 'subsample': 0.8, 'colsample_bytree': 0.9, 'reg_lambda': 69.57162956869445, 'reg_alpha': 0.0028935744907606846, 'feature_fraction': 0.7477626771350554, 'bagging_fraction': 0.6302531726652855, 'bagging_freq': 5}. Best is trial 52 with value: -1.3639147377264538.\u001b[0m\n"
     ]
    },
    {
     "name": "stdout",
     "output_type": "stream",
     "text": [
      "Early stopping, best iteration is:\n",
      "[47]\ttraining's l1: 1.43288\tvalid_1's l1: 1.36647\n",
      "[LightGBM] [Warning] feature_fraction is set=0.7492139190186698, colsample_bytree=0.9 will be ignored. Current value: feature_fraction=0.7492139190186698\n",
      "[LightGBM] [Warning] bagging_fraction is set=0.6541814363268373, subsample=0.9 will be ignored. Current value: bagging_fraction=0.6541814363268373\n",
      "[LightGBM] [Warning] bagging_freq is set=6, subsample_freq=0 will be ignored. Current value: bagging_freq=6\n",
      "Training until validation scores don't improve for 100 rounds\n",
      "[100]\ttraining's l1: 1.40671\tvalid_1's l1: 1.38466\n"
     ]
    },
    {
     "name": "stderr",
     "output_type": "stream",
     "text": [
      "\u001b[32m[I 2021-07-06 11:57:36,922]\u001b[0m Trial 57 finished with value: -1.3704040316899435 and parameters: {'max_depth': 8, 'min_child_weight': 16, 'subsample': 0.9, 'colsample_bytree': 0.9, 'reg_lambda': 23.868533358004424, 'reg_alpha': 0.0013255983389001524, 'feature_fraction': 0.7492139190186698, 'bagging_fraction': 0.6541814363268373, 'bagging_freq': 6}. Best is trial 52 with value: -1.3639147377264538.\u001b[0m\n"
     ]
    },
    {
     "name": "stdout",
     "output_type": "stream",
     "text": [
      "Early stopping, best iteration is:\n",
      "[33]\ttraining's l1: 1.44973\tvalid_1's l1: 1.3704\n",
      "[LightGBM] [Warning] feature_fraction is set=0.7810745364566376, colsample_bytree=0.9 will be ignored. Current value: feature_fraction=0.7810745364566376\n",
      "[LightGBM] [Warning] bagging_fraction is set=0.6625870793251452, subsample=0.8 will be ignored. Current value: bagging_fraction=0.6625870793251452\n",
      "[LightGBM] [Warning] bagging_freq is set=6, subsample_freq=0 will be ignored. Current value: bagging_freq=6\n",
      "Training until validation scores don't improve for 100 rounds\n",
      "[100]\ttraining's l1: 1.40752\tvalid_1's l1: 1.38951\n"
     ]
    },
    {
     "name": "stderr",
     "output_type": "stream",
     "text": [
      "\u001b[32m[I 2021-07-06 11:57:42,461]\u001b[0m Trial 58 finished with value: -1.3665431550577605 and parameters: {'max_depth': 5, 'min_child_weight': 12, 'subsample': 0.8, 'colsample_bytree': 0.9, 'reg_lambda': 0.0015157646441062475, 'reg_alpha': 0.002883814047494963, 'feature_fraction': 0.7810745364566376, 'bagging_fraction': 0.6625870793251452, 'bagging_freq': 6}. Best is trial 52 with value: -1.3639147377264538.\u001b[0m\n"
     ]
    },
    {
     "name": "stdout",
     "output_type": "stream",
     "text": [
      "Early stopping, best iteration is:\n",
      "[42]\ttraining's l1: 1.43218\tvalid_1's l1: 1.36654\n",
      "[LightGBM] [Warning] feature_fraction is set=0.8348027518519905, colsample_bytree=0.8 will be ignored. Current value: feature_fraction=0.8348027518519905\n",
      "[LightGBM] [Warning] bagging_fraction is set=0.5595639781914254, subsample=0.8 will be ignored. Current value: bagging_fraction=0.5595639781914254\n",
      "[LightGBM] [Warning] bagging_freq is set=8, subsample_freq=0 will be ignored. Current value: bagging_freq=8\n",
      "Training until validation scores don't improve for 100 rounds\n",
      "[100]\ttraining's l1: 1.41046\tvalid_1's l1: 1.38273\n"
     ]
    },
    {
     "name": "stderr",
     "output_type": "stream",
     "text": [
      "\u001b[32m[I 2021-07-06 11:57:47,389]\u001b[0m Trial 59 finished with value: -1.3663608581398656 and parameters: {'max_depth': 7, 'min_child_weight': 16, 'subsample': 0.8, 'colsample_bytree': 0.8, 'reg_lambda': 112.99717649725063, 'reg_alpha': 79.87047453337857, 'feature_fraction': 0.8348027518519905, 'bagging_fraction': 0.5595639781914254, 'bagging_freq': 8}. Best is trial 52 with value: -1.3639147377264538.\u001b[0m\n"
     ]
    },
    {
     "name": "stdout",
     "output_type": "stream",
     "text": [
      "Early stopping, best iteration is:\n",
      "[31]\ttraining's l1: 1.45291\tvalid_1's l1: 1.36636\n",
      "[LightGBM] [Warning] feature_fraction is set=0.8371337154172288, colsample_bytree=0.8 will be ignored. Current value: feature_fraction=0.8371337154172288\n",
      "[LightGBM] [Warning] bagging_fraction is set=0.4925407390975213, subsample=0.9 will be ignored. Current value: bagging_fraction=0.4925407390975213\n",
      "[LightGBM] [Warning] bagging_freq is set=8, subsample_freq=0 will be ignored. Current value: bagging_freq=8\n",
      "Training until validation scores don't improve for 100 rounds\n",
      "[100]\ttraining's l1: 1.41463\tvalid_1's l1: 1.37319\n"
     ]
    },
    {
     "name": "stderr",
     "output_type": "stream",
     "text": [
      "\u001b[32m[I 2021-07-06 11:57:52,380]\u001b[0m Trial 60 finished with value: -1.37101375592877 and parameters: {'max_depth': 7, 'min_child_weight': 20, 'subsample': 0.9, 'colsample_bytree': 0.8, 'reg_lambda': 220.4779700534589, 'reg_alpha': 190.96927246723754, 'feature_fraction': 0.8371337154172288, 'bagging_fraction': 0.4925407390975213, 'bagging_freq': 8}. Best is trial 52 with value: -1.3639147377264538.\u001b[0m\n"
     ]
    },
    {
     "name": "stdout",
     "output_type": "stream",
     "text": [
      "Early stopping, best iteration is:\n",
      "[45]\ttraining's l1: 1.43849\tvalid_1's l1: 1.37101\n",
      "[LightGBM] [Warning] feature_fraction is set=0.8049869573221874, colsample_bytree=0.8 will be ignored. Current value: feature_fraction=0.8049869573221874\n",
      "[LightGBM] [Warning] bagging_fraction is set=0.40594461763872336, subsample=0.8 will be ignored. Current value: bagging_fraction=0.40594461763872336\n",
      "[LightGBM] [Warning] bagging_freq is set=7, subsample_freq=0 will be ignored. Current value: bagging_freq=7\n",
      "Training until validation scores don't improve for 100 rounds\n",
      "[100]\ttraining's l1: 1.41131\tvalid_1's l1: 1.38004\n"
     ]
    },
    {
     "name": "stderr",
     "output_type": "stream",
     "text": [
      "\u001b[32m[I 2021-07-06 11:57:56,836]\u001b[0m Trial 61 finished with value: -1.3657648755267624 and parameters: {'max_depth': 6, 'min_child_weight': 16, 'subsample': 0.8, 'colsample_bytree': 0.8, 'reg_lambda': 98.45722026378706, 'reg_alpha': 87.36385861499197, 'feature_fraction': 0.8049869573221874, 'bagging_fraction': 0.40594461763872336, 'bagging_freq': 7}. Best is trial 52 with value: -1.3639147377264538.\u001b[0m\n"
     ]
    },
    {
     "name": "stdout",
     "output_type": "stream",
     "text": [
      "Early stopping, best iteration is:\n",
      "[38]\ttraining's l1: 1.44163\tvalid_1's l1: 1.36576\n",
      "[LightGBM] [Warning] feature_fraction is set=0.8144040082278298, colsample_bytree=0.8 will be ignored. Current value: feature_fraction=0.8144040082278298\n",
      "[LightGBM] [Warning] bagging_fraction is set=0.4093274475335992, subsample=0.8 will be ignored. Current value: bagging_fraction=0.4093274475335992\n",
      "[LightGBM] [Warning] bagging_freq is set=8, subsample_freq=0 will be ignored. Current value: bagging_freq=8\n",
      "Training until validation scores don't improve for 100 rounds\n",
      "[100]\ttraining's l1: 1.4118\tvalid_1's l1: 1.3789\n"
     ]
    },
    {
     "name": "stderr",
     "output_type": "stream",
     "text": [
      "\u001b[32m[I 2021-07-06 11:58:01,261]\u001b[0m Trial 62 finished with value: -1.3649592760688403 and parameters: {'max_depth': 6, 'min_child_weight': 18, 'subsample': 0.8, 'colsample_bytree': 0.8, 'reg_lambda': 145.1936864352557, 'reg_alpha': 88.23474063919949, 'feature_fraction': 0.8144040082278298, 'bagging_fraction': 0.4093274475335992, 'bagging_freq': 8}. Best is trial 52 with value: -1.3639147377264538.\u001b[0m\n"
     ]
    },
    {
     "name": "stdout",
     "output_type": "stream",
     "text": [
      "Early stopping, best iteration is:\n",
      "[40]\ttraining's l1: 1.44109\tvalid_1's l1: 1.36496\n",
      "[LightGBM] [Warning] feature_fraction is set=0.8666060002190897, colsample_bytree=0.8 will be ignored. Current value: feature_fraction=0.8666060002190897\n",
      "[LightGBM] [Warning] bagging_fraction is set=0.44650247884941346, subsample=0.8 will be ignored. Current value: bagging_fraction=0.44650247884941346\n",
      "[LightGBM] [Warning] bagging_freq is set=8, subsample_freq=0 will be ignored. Current value: bagging_freq=8\n",
      "Training until validation scores don't improve for 100 rounds\n",
      "[100]\ttraining's l1: 1.41321\tvalid_1's l1: 1.38519\n"
     ]
    },
    {
     "name": "stderr",
     "output_type": "stream",
     "text": [
      "\u001b[32m[I 2021-07-06 11:58:05,749]\u001b[0m Trial 63 finished with value: -1.365525248606412 and parameters: {'max_depth': 5, 'min_child_weight': 19, 'subsample': 0.8, 'colsample_bytree': 0.8, 'reg_lambda': 31.245149964554955, 'reg_alpha': 76.6483783808356, 'feature_fraction': 0.8666060002190897, 'bagging_fraction': 0.44650247884941346, 'bagging_freq': 8}. Best is trial 52 with value: -1.3639147377264538.\u001b[0m\n"
     ]
    },
    {
     "name": "stdout",
     "output_type": "stream",
     "text": [
      "Early stopping, best iteration is:\n",
      "[40]\ttraining's l1: 1.43917\tvalid_1's l1: 1.36553\n",
      "[LightGBM] [Warning] feature_fraction is set=0.8663134696054373, colsample_bytree=0.8 will be ignored. Current value: feature_fraction=0.8663134696054373\n",
      "[LightGBM] [Warning] bagging_fraction is set=0.4023350610802479, subsample=0.8 will be ignored. Current value: bagging_fraction=0.4023350610802479\n",
      "[LightGBM] [Warning] bagging_freq is set=8, subsample_freq=0 will be ignored. Current value: bagging_freq=8\n",
      "Training until validation scores don't improve for 100 rounds\n",
      "[100]\ttraining's l1: 1.5049\tvalid_1's l1: 1.39844\n",
      "[200]\ttraining's l1: 1.48178\tvalid_1's l1: 1.39727\n"
     ]
    },
    {
     "name": "stderr",
     "output_type": "stream",
     "text": [
      "\u001b[32m[I 2021-07-06 11:58:10,903]\u001b[0m Trial 64 finished with value: -1.3917346456805963 and parameters: {'max_depth': 2, 'min_child_weight': 19, 'subsample': 0.8, 'colsample_bytree': 0.8, 'reg_lambda': 12.828595655960164, 'reg_alpha': 22.861756157802045, 'feature_fraction': 0.8663134696054373, 'bagging_fraction': 0.4023350610802479, 'bagging_freq': 8}. Best is trial 52 with value: -1.3639147377264538.\u001b[0m\n"
     ]
    },
    {
     "name": "stdout",
     "output_type": "stream",
     "text": [
      "Early stopping, best iteration is:\n",
      "[149]\ttraining's l1: 1.49071\tvalid_1's l1: 1.39174\n",
      "[LightGBM] [Warning] feature_fraction is set=0.7715815778748114, colsample_bytree=0.8 will be ignored. Current value: feature_fraction=0.7715815778748114\n",
      "[LightGBM] [Warning] bagging_fraction is set=0.43845907154181046, subsample=0.8 will be ignored. Current value: bagging_fraction=0.43845907154181046\n",
      "[LightGBM] [Warning] bagging_freq is set=7, subsample_freq=0 will be ignored. Current value: bagging_freq=7\n",
      "Training until validation scores don't improve for 100 rounds\n",
      "[100]\ttraining's l1: 1.41802\tvalid_1's l1: 1.37065\n"
     ]
    },
    {
     "name": "stderr",
     "output_type": "stream",
     "text": [
      "\u001b[32m[I 2021-07-06 11:58:15,208]\u001b[0m Trial 65 finished with value: -1.366699134846048 and parameters: {'max_depth': 5, 'min_child_weight': 19, 'subsample': 0.8, 'colsample_bytree': 0.8, 'reg_lambda': 26.446940046063173, 'reg_alpha': 97.89999951672061, 'feature_fraction': 0.7715815778748114, 'bagging_fraction': 0.43845907154181046, 'bagging_freq': 7}. Best is trial 52 with value: -1.3639147377264538.\u001b[0m\n"
     ]
    },
    {
     "name": "stdout",
     "output_type": "stream",
     "text": [
      "Early stopping, best iteration is:\n",
      "[40]\ttraining's l1: 1.44338\tvalid_1's l1: 1.3667\n",
      "[LightGBM] [Warning] feature_fraction is set=0.807471235714353, colsample_bytree=0.8 will be ignored. Current value: feature_fraction=0.807471235714353\n",
      "[LightGBM] [Warning] bagging_fraction is set=0.43745366720991724, subsample=0.8 will be ignored. Current value: bagging_fraction=0.43745366720991724\n",
      "[LightGBM] [Warning] bagging_freq is set=8, subsample_freq=0 will be ignored. Current value: bagging_freq=8\n",
      "Training until validation scores don't improve for 100 rounds\n",
      "[100]\ttraining's l1: 1.42817\tvalid_1's l1: 1.3754\n",
      "[200]\ttraining's l1: 1.41343\tvalid_1's l1: 1.37658\n"
     ]
    },
    {
     "name": "stderr",
     "output_type": "stream",
     "text": [
      "\u001b[32m[I 2021-07-06 11:58:21,477]\u001b[0m Trial 66 finished with value: -1.3742972792816632 and parameters: {'max_depth': 6, 'min_child_weight': 18, 'subsample': 0.8, 'colsample_bytree': 0.8, 'reg_lambda': 3.716797808729603, 'reg_alpha': 719.1528374107023, 'feature_fraction': 0.807471235714353, 'bagging_fraction': 0.43745366720991724, 'bagging_freq': 8}. Best is trial 52 with value: -1.3639147377264538.\u001b[0m\n"
     ]
    },
    {
     "name": "stdout",
     "output_type": "stream",
     "text": [
      "Early stopping, best iteration is:\n",
      "[120]\ttraining's l1: 1.42397\tvalid_1's l1: 1.3743\n",
      "[LightGBM] [Warning] feature_fraction is set=0.7840582943897018, colsample_bytree=0.8 will be ignored. Current value: feature_fraction=0.7840582943897018\n",
      "[LightGBM] [Warning] bagging_fraction is set=0.41145934417892044, subsample=0.8 will be ignored. Current value: bagging_fraction=0.41145934417892044\n",
      "[LightGBM] [Warning] bagging_freq is set=7, subsample_freq=0 will be ignored. Current value: bagging_freq=7\n",
      "Training until validation scores don't improve for 100 rounds\n",
      "[100]\ttraining's l1: 1.42443\tvalid_1's l1: 1.38013\n"
     ]
    },
    {
     "name": "stderr",
     "output_type": "stream",
     "text": [
      "\u001b[32m[I 2021-07-06 11:58:25,826]\u001b[0m Trial 67 finished with value: -1.3684891309739677 and parameters: {'max_depth': 4, 'min_child_weight': 18, 'subsample': 0.8, 'colsample_bytree': 0.8, 'reg_lambda': 56.50622342205862, 'reg_alpha': 10.55241869626999, 'feature_fraction': 0.7840582943897018, 'bagging_fraction': 0.41145934417892044, 'bagging_freq': 7}. Best is trial 52 with value: -1.3639147377264538.\u001b[0m\n"
     ]
    },
    {
     "name": "stdout",
     "output_type": "stream",
     "text": [
      "Early stopping, best iteration is:\n",
      "[54]\ttraining's l1: 1.44328\tvalid_1's l1: 1.36849\n",
      "[LightGBM] [Warning] feature_fraction is set=0.7947723757530513, colsample_bytree=0.8 will be ignored. Current value: feature_fraction=0.7947723757530513\n",
      "[LightGBM] [Warning] bagging_fraction is set=0.4553244207056047, subsample=0.9 will be ignored. Current value: bagging_fraction=0.4553244207056047\n",
      "[LightGBM] [Warning] bagging_freq is set=8, subsample_freq=0 will be ignored. Current value: bagging_freq=8\n",
      "Training until validation scores don't improve for 100 rounds\n",
      "[100]\ttraining's l1: 1.41274\tvalid_1's l1: 1.37621\n"
     ]
    },
    {
     "name": "stderr",
     "output_type": "stream",
     "text": [
      "\u001b[32m[I 2021-07-06 11:58:30,273]\u001b[0m Trial 68 finished with value: -1.3693719789057888 and parameters: {'max_depth': 6, 'min_child_weight': 17, 'subsample': 0.9, 'colsample_bytree': 0.8, 'reg_lambda': 123.4701238607863, 'reg_alpha': 70.46783220531562, 'feature_fraction': 0.7947723757530513, 'bagging_fraction': 0.4553244207056047, 'bagging_freq': 8}. Best is trial 52 with value: -1.3639147377264538.\u001b[0m\n"
     ]
    },
    {
     "name": "stdout",
     "output_type": "stream",
     "text": [
      "Early stopping, best iteration is:\n",
      "[30]\ttraining's l1: 1.45576\tvalid_1's l1: 1.36937\n",
      "[LightGBM] [Warning] feature_fraction is set=0.8546823431588649, colsample_bytree=0.8 will be ignored. Current value: feature_fraction=0.8546823431588649\n",
      "[LightGBM] [Warning] bagging_fraction is set=0.5019267730508371, subsample=0.8 will be ignored. Current value: bagging_fraction=0.5019267730508371\n",
      "[LightGBM] [Warning] bagging_freq is set=7, subsample_freq=0 will be ignored. Current value: bagging_freq=7\n",
      "Training until validation scores don't improve for 100 rounds\n",
      "[100]\ttraining's l1: 1.42518\tvalid_1's l1: 1.37253\n",
      "[200]\ttraining's l1: 1.40783\tvalid_1's l1: 1.37408\n"
     ]
    },
    {
     "name": "stderr",
     "output_type": "stream",
     "text": [
      "\u001b[32m[I 2021-07-06 11:58:37,058]\u001b[0m Trial 69 finished with value: -1.3711407964482052 and parameters: {'max_depth': 5, 'min_child_weight': 20, 'subsample': 0.8, 'colsample_bytree': 0.8, 'reg_lambda': 30.23524217134684, 'reg_alpha': 303.35222882055365, 'feature_fraction': 0.8546823431588649, 'bagging_fraction': 0.5019267730508371, 'bagging_freq': 7}. Best is trial 52 with value: -1.3639147377264538.\u001b[0m\n"
     ]
    },
    {
     "name": "stdout",
     "output_type": "stream",
     "text": [
      "Early stopping, best iteration is:\n",
      "[133]\ttraining's l1: 1.41792\tvalid_1's l1: 1.37114\n",
      "[LightGBM] [Warning] feature_fraction is set=0.75963648009165, colsample_bytree=0.8 will be ignored. Current value: feature_fraction=0.75963648009165\n",
      "[LightGBM] [Warning] bagging_fraction is set=0.45358326459517506, subsample=0.8 will be ignored. Current value: bagging_fraction=0.45358326459517506\n",
      "[LightGBM] [Warning] bagging_freq is set=8, subsample_freq=0 will be ignored. Current value: bagging_freq=8\n",
      "Training until validation scores don't improve for 100 rounds\n",
      "[100]\ttraining's l1: 1.45316\tvalid_1's l1: 1.3667\n"
     ]
    },
    {
     "name": "stderr",
     "output_type": "stream",
     "text": [
      "\u001b[32m[I 2021-07-06 11:58:42,034]\u001b[0m Trial 70 finished with value: -1.3659012337217888 and parameters: {'max_depth': 3, 'min_child_weight': 18, 'subsample': 0.8, 'colsample_bytree': 0.8, 'reg_lambda': 189.2629985785463, 'reg_alpha': 40.014188578014966, 'feature_fraction': 0.75963648009165, 'bagging_fraction': 0.45358326459517506, 'bagging_freq': 8}. Best is trial 52 with value: -1.3639147377264538.\u001b[0m\n"
     ]
    },
    {
     "name": "stdout",
     "output_type": "stream",
     "text": [
      "[200]\ttraining's l1: 1.43971\tvalid_1's l1: 1.37316\n",
      "Early stopping, best iteration is:\n",
      "[101]\ttraining's l1: 1.45279\tvalid_1's l1: 1.36592\n",
      "[LightGBM] [Warning] feature_fraction is set=0.7560445571536055, colsample_bytree=0.8 will be ignored. Current value: feature_fraction=0.7560445571536055\n",
      "[LightGBM] [Warning] bagging_fraction is set=0.45794297468061074, subsample=0.8 will be ignored. Current value: bagging_fraction=0.45794297468061074\n",
      "[LightGBM] [Warning] bagging_freq is set=8, subsample_freq=0 will be ignored. Current value: bagging_freq=8\n",
      "Training until validation scores don't improve for 100 rounds\n",
      "[100]\ttraining's l1: 1.43043\tvalid_1's l1: 1.3742\n"
     ]
    },
    {
     "name": "stderr",
     "output_type": "stream",
     "text": [
      "\u001b[32m[I 2021-07-06 11:58:46,952]\u001b[0m Trial 71 finished with value: -1.3676970569124014 and parameters: {'max_depth': 4, 'min_child_weight': 19, 'subsample': 0.8, 'colsample_bytree': 0.8, 'reg_lambda': 187.88153734591606, 'reg_alpha': 42.566858012769885, 'feature_fraction': 0.7560445571536055, 'bagging_fraction': 0.45794297468061074, 'bagging_freq': 8}. Best is trial 52 with value: -1.3639147377264538.\u001b[0m\n"
     ]
    },
    {
     "name": "stdout",
     "output_type": "stream",
     "text": [
      "Early stopping, best iteration is:\n",
      "[83]\ttraining's l1: 1.43522\tvalid_1's l1: 1.36772\n",
      "[LightGBM] [Warning] feature_fraction is set=0.70303622626175, colsample_bytree=0.8 will be ignored. Current value: feature_fraction=0.70303622626175\n",
      "[LightGBM] [Warning] bagging_fraction is set=0.4230813470997809, subsample=0.8 will be ignored. Current value: bagging_fraction=0.4230813470997809\n",
      "[LightGBM] [Warning] bagging_freq is set=8, subsample_freq=0 will be ignored. Current value: bagging_freq=8\n",
      "Training until validation scores don't improve for 100 rounds\n",
      "[100]\ttraining's l1: 1.45557\tvalid_1's l1: 1.36925\n"
     ]
    },
    {
     "name": "stderr",
     "output_type": "stream",
     "text": [
      "\u001b[32m[I 2021-07-06 11:58:51,906]\u001b[0m Trial 72 finished with value: -1.3688887647476904 and parameters: {'max_depth': 3, 'min_child_weight': 18, 'subsample': 0.8, 'colsample_bytree': 0.8, 'reg_lambda': 50.65700621370346, 'reg_alpha': 119.94933794408563, 'feature_fraction': 0.70303622626175, 'bagging_fraction': 0.4230813470997809, 'bagging_freq': 8}. Best is trial 52 with value: -1.3639147377264538.\u001b[0m\n"
     ]
    },
    {
     "name": "stdout",
     "output_type": "stream",
     "text": [
      "[200]\ttraining's l1: 1.44237\tvalid_1's l1: 1.37303\n",
      "Early stopping, best iteration is:\n",
      "[108]\ttraining's l1: 1.45407\tvalid_1's l1: 1.36892\n",
      "[LightGBM] [Warning] feature_fraction is set=0.8247353398514271, colsample_bytree=0.8 will be ignored. Current value: feature_fraction=0.8247353398514271\n",
      "[LightGBM] [Warning] bagging_fraction is set=0.5259051303712061, subsample=0.8 will be ignored. Current value: bagging_fraction=0.5259051303712061\n",
      "[LightGBM] [Warning] bagging_freq is set=8, subsample_freq=0 will be ignored. Current value: bagging_freq=8\n",
      "Training until validation scores don't improve for 100 rounds\n",
      "[100]\ttraining's l1: 1.4551\tvalid_1's l1: 1.36831\n",
      "[200]\ttraining's l1: 1.43746\tvalid_1's l1: 1.37296\n"
     ]
    },
    {
     "name": "stderr",
     "output_type": "stream",
     "text": [
      "\u001b[32m[I 2021-07-06 11:58:57,804]\u001b[0m Trial 73 finished with value: -1.3670445107914426 and parameters: {'max_depth': 3, 'min_child_weight': 17, 'subsample': 0.8, 'colsample_bytree': 0.8, 'reg_lambda': 327.4668716020652, 'reg_alpha': 40.91890371852546, 'feature_fraction': 0.8247353398514271, 'bagging_fraction': 0.5259051303712061, 'bagging_freq': 8}. Best is trial 52 with value: -1.3639147377264538.\u001b[0m\n"
     ]
    },
    {
     "name": "stdout",
     "output_type": "stream",
     "text": [
      "Early stopping, best iteration is:\n",
      "[134]\ttraining's l1: 1.4437\tvalid_1's l1: 1.3671\n",
      "[LightGBM] [Warning] feature_fraction is set=0.73037609280775, colsample_bytree=0.8 will be ignored. Current value: feature_fraction=0.73037609280775\n",
      "[LightGBM] [Warning] bagging_fraction is set=0.40097237188589646, subsample=0.8 will be ignored. Current value: bagging_fraction=0.40097237188589646\n",
      "[LightGBM] [Warning] bagging_freq is set=7, subsample_freq=0 will be ignored. Current value: bagging_freq=7\n",
      "Training until validation scores don't improve for 100 rounds\n",
      "[100]\ttraining's l1: 1.4273\tvalid_1's l1: 1.36942\n",
      "[200]\ttraining's l1: 1.4111\tvalid_1's l1: 1.36951\n"
     ]
    },
    {
     "name": "stderr",
     "output_type": "stream",
     "text": [
      "\u001b[32m[I 2021-07-06 11:59:03,466]\u001b[0m Trial 74 finished with value: -1.36759560037084 and parameters: {'max_depth': 5, 'min_child_weight': 4, 'subsample': 0.8, 'colsample_bytree': 0.8, 'reg_lambda': 148.607307657289, 'reg_alpha': 308.3809673260837, 'feature_fraction': 0.73037609280775, 'bagging_fraction': 0.40097237188589646, 'bagging_freq': 7}. Best is trial 52 with value: -1.3639147377264538.\u001b[0m\n"
     ]
    },
    {
     "name": "stdout",
     "output_type": "stream",
     "text": [
      "Early stopping, best iteration is:\n",
      "[113]\ttraining's l1: 1.42384\tvalid_1's l1: 1.3676\n",
      "[LightGBM] [Warning] feature_fraction is set=0.8040611174948703, colsample_bytree=0.8 will be ignored. Current value: feature_fraction=0.8040611174948703\n",
      "[LightGBM] [Warning] bagging_fraction is set=0.45580864638756785, subsample=0.8 will be ignored. Current value: bagging_fraction=0.45580864638756785\n",
      "[LightGBM] [Warning] bagging_freq is set=9, subsample_freq=0 will be ignored. Current value: bagging_freq=9\n",
      "Training until validation scores don't improve for 100 rounds\n",
      "[100]\ttraining's l1: 1.50921\tvalid_1's l1: 1.40288\n",
      "[200]\ttraining's l1: 1.4849\tvalid_1's l1: 1.39336\n"
     ]
    },
    {
     "name": "stderr",
     "output_type": "stream",
     "text": [
      "\u001b[32m[I 2021-07-06 11:59:09,583]\u001b[0m Trial 75 finished with value: -1.3909245184519254 and parameters: {'max_depth': 2, 'min_child_weight': 15, 'subsample': 0.8, 'colsample_bytree': 0.8, 'reg_lambda': 247.23119776279145, 'reg_alpha': 13.261223505876158, 'feature_fraction': 0.8040611174948703, 'bagging_fraction': 0.45580864638756785, 'bagging_freq': 9}. Best is trial 52 with value: -1.3639147377264538.\u001b[0m\n"
     ]
    },
    {
     "name": "stdout",
     "output_type": "stream",
     "text": [
      "Early stopping, best iteration is:\n",
      "[195]\ttraining's l1: 1.48544\tvalid_1's l1: 1.39095\n",
      "[LightGBM] [Warning] feature_fraction is set=0.8730417897904368, colsample_bytree=0.8 will be ignored. Current value: feature_fraction=0.8730417897904368\n",
      "[LightGBM] [Warning] bagging_fraction is set=0.8992458090721639, subsample=0.8 will be ignored. Current value: bagging_fraction=0.8992458090721639\n",
      "[LightGBM] [Warning] bagging_freq is set=8, subsample_freq=0 will be ignored. Current value: bagging_freq=8\n",
      "Training until validation scores don't improve for 100 rounds\n",
      "[100]\ttraining's l1: 1.40758\tvalid_1's l1: 1.38786\n"
     ]
    },
    {
     "name": "stderr",
     "output_type": "stream",
     "text": [
      "\u001b[32m[I 2021-07-06 11:59:16,080]\u001b[0m Trial 76 finished with value: -1.372171289114159 and parameters: {'max_depth': 7, 'min_child_weight': 19, 'subsample': 0.8, 'colsample_bytree': 0.8, 'reg_lambda': 14.73086278939796, 'reg_alpha': 51.078973101382424, 'feature_fraction': 0.8730417897904368, 'bagging_fraction': 0.8992458090721639, 'bagging_freq': 8}. Best is trial 52 with value: -1.3639147377264538.\u001b[0m\n"
     ]
    },
    {
     "name": "stdout",
     "output_type": "stream",
     "text": [
      "Early stopping, best iteration is:\n",
      "[42]\ttraining's l1: 1.43942\tvalid_1's l1: 1.37217\n",
      "[LightGBM] [Warning] feature_fraction is set=0.774470261363649, colsample_bytree=0.9 will be ignored. Current value: feature_fraction=0.774470261363649\n",
      "[LightGBM] [Warning] bagging_fraction is set=0.42651313721017786, subsample=0.9 will be ignored. Current value: bagging_fraction=0.42651313721017786\n",
      "[LightGBM] [Warning] bagging_freq is set=7, subsample_freq=0 will be ignored. Current value: bagging_freq=7\n",
      "Training until validation scores don't improve for 100 rounds\n",
      "[100]\ttraining's l1: 1.46281\tvalid_1's l1: 1.37315\n",
      "[200]\ttraining's l1: 1.44597\tvalid_1's l1: 1.36653\n",
      "[300]\ttraining's l1: 1.43486\tvalid_1's l1: 1.36444\n"
     ]
    },
    {
     "name": "stderr",
     "output_type": "stream",
     "text": [
      "\u001b[32m[I 2021-07-06 11:59:24,395]\u001b[0m Trial 77 finished with value: -1.3635890536386635 and parameters: {'max_depth': 3, 'min_child_weight': 20, 'subsample': 0.9, 'colsample_bytree': 0.9, 'reg_lambda': 401.46823222466355, 'reg_alpha': 176.62619815852787, 'feature_fraction': 0.774470261363649, 'bagging_fraction': 0.42651313721017786, 'bagging_freq': 7}. Best is trial 77 with value: -1.3635890536386635.\u001b[0m\n"
     ]
    },
    {
     "name": "stdout",
     "output_type": "stream",
     "text": [
      "[400]\ttraining's l1: 1.43185\tvalid_1's l1: 1.36445\n",
      "Early stopping, best iteration is:\n",
      "[304]\ttraining's l1: 1.43437\tvalid_1's l1: 1.36368\n",
      "[LightGBM] [Warning] feature_fraction is set=0.7713105997017444, colsample_bytree=0.9 will be ignored. Current value: feature_fraction=0.7713105997017444\n",
      "[LightGBM] [Warning] bagging_fraction is set=0.43546654345539637, subsample=0.9 will be ignored. Current value: bagging_fraction=0.43546654345539637\n",
      "[LightGBM] [Warning] bagging_freq is set=7, subsample_freq=0 will be ignored. Current value: bagging_freq=7\n",
      "Training until validation scores don't improve for 100 rounds\n",
      "[100]\ttraining's l1: 1.62932\tvalid_1's l1: 1.46931\n",
      "[200]\ttraining's l1: 1.61216\tvalid_1's l1: 1.45598\n",
      "[300]\ttraining's l1: 1.60392\tvalid_1's l1: 1.44864\n",
      "[400]\ttraining's l1: 1.59904\tvalid_1's l1: 1.44427\n",
      "[500]\ttraining's l1: 1.59528\tvalid_1's l1: 1.44152\n",
      "[600]\ttraining's l1: 1.59204\tvalid_1's l1: 1.43957\n",
      "[700]\ttraining's l1: 1.58979\tvalid_1's l1: 1.43803\n",
      "[800]\ttraining's l1: 1.58851\tvalid_1's l1: 1.43967\n"
     ]
    },
    {
     "name": "stderr",
     "output_type": "stream",
     "text": [
      "\u001b[32m[I 2021-07-06 11:59:39,030]\u001b[0m Trial 78 finished with value: -1.43739385366329 and parameters: {'max_depth': 1, 'min_child_weight': 20, 'subsample': 0.9, 'colsample_bytree': 0.9, 'reg_lambda': 365.3917666771798, 'reg_alpha': 25.382048372890267, 'feature_fraction': 0.7713105997017444, 'bagging_fraction': 0.43546654345539637, 'bagging_freq': 7}. Best is trial 77 with value: -1.3635890536386635.\u001b[0m\n"
     ]
    },
    {
     "name": "stdout",
     "output_type": "stream",
     "text": [
      "Early stopping, best iteration is:\n",
      "[780]\ttraining's l1: 1.58858\tvalid_1's l1: 1.43741\n",
      "[LightGBM] [Warning] feature_fraction is set=0.7204965354721855, colsample_bytree=0.9 will be ignored. Current value: feature_fraction=0.7204965354721855\n",
      "[LightGBM] [Warning] bagging_fraction is set=0.47984954005937036, subsample=0.9 will be ignored. Current value: bagging_fraction=0.47984954005937036\n",
      "[LightGBM] [Warning] bagging_freq is set=7, subsample_freq=0 will be ignored. Current value: bagging_freq=7\n",
      "Training until validation scores don't improve for 100 rounds\n",
      "[100]\ttraining's l1: 1.51034\tvalid_1's l1: 1.40113\n",
      "[200]\ttraining's l1: 1.4827\tvalid_1's l1: 1.3851\n",
      "[300]\ttraining's l1: 1.47687\tvalid_1's l1: 1.38158\n",
      "[400]\ttraining's l1: 1.4709\tvalid_1's l1: 1.37942\n",
      "[500]\ttraining's l1: 1.4658\tvalid_1's l1: 1.37958\n"
     ]
    },
    {
     "name": "stderr",
     "output_type": "stream",
     "text": [
      "\u001b[32m[I 2021-07-06 11:59:49,448]\u001b[0m Trial 79 finished with value: -1.3776467890725712 and parameters: {'max_depth': 2, 'min_child_weight': 18, 'subsample': 0.9, 'colsample_bytree': 0.9, 'reg_lambda': 84.03107719632233, 'reg_alpha': 234.35466090297592, 'feature_fraction': 0.7204965354721855, 'bagging_fraction': 0.47984954005937036, 'bagging_freq': 7}. Best is trial 77 with value: -1.3635890536386635.\u001b[0m\n"
     ]
    },
    {
     "name": "stdout",
     "output_type": "stream",
     "text": [
      "Early stopping, best iteration is:\n",
      "[416]\ttraining's l1: 1.46906\tvalid_1's l1: 1.3777\n",
      "[LightGBM] [Warning] feature_fraction is set=0.8376081169570089, colsample_bytree=0.9 will be ignored. Current value: feature_fraction=0.8376081169570089\n",
      "[LightGBM] [Warning] bagging_fraction is set=0.5059546338354161, subsample=0.9 will be ignored. Current value: bagging_fraction=0.5059546338354161\n",
      "[LightGBM] [Warning] bagging_freq is set=6, subsample_freq=0 will be ignored. Current value: bagging_freq=6\n",
      "Training until validation scores don't improve for 100 rounds\n",
      "[100]\ttraining's l1: 1.41266\tvalid_1's l1: 1.37379\n"
     ]
    },
    {
     "name": "stderr",
     "output_type": "stream",
     "text": [
      "\u001b[32m[I 2021-07-06 11:59:54,606]\u001b[0m Trial 80 finished with value: -1.3699045623616943 and parameters: {'max_depth': 6, 'min_child_weight': 20, 'subsample': 0.9, 'colsample_bytree': 0.9, 'reg_lambda': 191.73620623555883, 'reg_alpha': 160.665162072591, 'feature_fraction': 0.8376081169570089, 'bagging_fraction': 0.5059546338354161, 'bagging_freq': 6}. Best is trial 77 with value: -1.3635890536386635.\u001b[0m\n"
     ]
    },
    {
     "name": "stdout",
     "output_type": "stream",
     "text": [
      "Early stopping, best iteration is:\n",
      "[40]\ttraining's l1: 1.44186\tvalid_1's l1: 1.3699\n",
      "[LightGBM] [Warning] feature_fraction is set=0.7963374407340849, colsample_bytree=0.5 will be ignored. Current value: feature_fraction=0.7963374407340849\n",
      "[LightGBM] [Warning] bagging_fraction is set=0.8451721706508399, subsample=0.8 will be ignored. Current value: bagging_fraction=0.8451721706508399\n",
      "[LightGBM] [Warning] bagging_freq is set=8, subsample_freq=0 will be ignored. Current value: bagging_freq=8\n",
      "Training until validation scores don't improve for 100 rounds\n",
      "[100]\ttraining's l1: 1.43534\tvalid_1's l1: 1.36855\n",
      "[200]\ttraining's l1: 1.41989\tvalid_1's l1: 1.36756\n"
     ]
    },
    {
     "name": "stderr",
     "output_type": "stream",
     "text": [
      "\u001b[32m[I 2021-07-06 12:00:04,432]\u001b[0m Trial 81 finished with value: -1.3668312184924278 and parameters: {'max_depth': 4, 'min_child_weight': 19, 'subsample': 0.8, 'colsample_bytree': 0.5, 'reg_lambda': 345.1422279945273, 'reg_alpha': 533.5287803223271, 'feature_fraction': 0.7963374407340849, 'bagging_fraction': 0.8451721706508399, 'bagging_freq': 8}. Best is trial 77 with value: -1.3635890536386635.\u001b[0m\n"
     ]
    },
    {
     "name": "stdout",
     "output_type": "stream",
     "text": [
      "Early stopping, best iteration is:\n",
      "[187]\ttraining's l1: 1.42081\tvalid_1's l1: 1.3669\n",
      "[LightGBM] [Warning] feature_fraction is set=0.8160968061814027, colsample_bytree=0.8 will be ignored. Current value: feature_fraction=0.8160968061814027\n",
      "[LightGBM] [Warning] bagging_fraction is set=0.41970615283585444, subsample=0.8 will be ignored. Current value: bagging_fraction=0.41970615283585444\n",
      "[LightGBM] [Warning] bagging_freq is set=9, subsample_freq=0 will be ignored. Current value: bagging_freq=9\n",
      "Training until validation scores don't improve for 100 rounds\n",
      "[100]\ttraining's l1: 1.41292\tvalid_1's l1: 1.3702\n"
     ]
    },
    {
     "name": "stderr",
     "output_type": "stream",
     "text": [
      "\u001b[32m[I 2021-07-06 12:00:09,842]\u001b[0m Trial 82 finished with value: -1.3664590683473372 and parameters: {'max_depth': 5, 'min_child_weight': 18, 'subsample': 0.8, 'colsample_bytree': 0.8, 'reg_lambda': 660.4555772973739, 'reg_alpha': 3.723772803196985, 'feature_fraction': 0.8160968061814027, 'bagging_fraction': 0.41970615283585444, 'bagging_freq': 9}. Best is trial 77 with value: -1.3635890536386635.\u001b[0m\n"
     ]
    },
    {
     "name": "stdout",
     "output_type": "stream",
     "text": [
      "Early stopping, best iteration is:\n",
      "[98]\ttraining's l1: 1.41424\tvalid_1's l1: 1.36648\n",
      "[LightGBM] [Warning] feature_fraction is set=0.770496517192625, colsample_bytree=0.8 will be ignored. Current value: feature_fraction=0.770496517192625\n",
      "[LightGBM] [Warning] bagging_fraction is set=0.470316567522849, subsample=0.8 will be ignored. Current value: bagging_fraction=0.470316567522849\n",
      "[LightGBM] [Warning] bagging_freq is set=8, subsample_freq=0 will be ignored. Current value: bagging_freq=8\n",
      "Training until validation scores don't improve for 100 rounds\n",
      "[100]\ttraining's l1: 1.45028\tvalid_1's l1: 1.37237\n"
     ]
    },
    {
     "name": "stderr",
     "output_type": "stream",
     "text": [
      "\u001b[32m[I 2021-07-06 12:00:14,494]\u001b[0m Trial 83 finished with value: -1.3682291466910463 and parameters: {'max_depth': 3, 'min_child_weight': 6, 'subsample': 0.8, 'colsample_bytree': 0.8, 'reg_lambda': 113.42296858631038, 'reg_alpha': 0.7070978715232493, 'feature_fraction': 0.770496517192625, 'bagging_fraction': 0.470316567522849, 'bagging_freq': 8}. Best is trial 77 with value: -1.3635890536386635.\u001b[0m\n"
     ]
    },
    {
     "name": "stdout",
     "output_type": "stream",
     "text": [
      "Early stopping, best iteration is:\n",
      "[78]\ttraining's l1: 1.46063\tvalid_1's l1: 1.36823\n",
      "[LightGBM] [Warning] feature_fraction is set=0.7443338108615011, colsample_bytree=0.8 will be ignored. Current value: feature_fraction=0.7443338108615011\n",
      "[LightGBM] [Warning] bagging_fraction is set=0.4003706765210867, subsample=0.8 will be ignored. Current value: bagging_fraction=0.4003706765210867\n",
      "[LightGBM] [Warning] bagging_freq is set=7, subsample_freq=0 will be ignored. Current value: bagging_freq=7\n",
      "Training until validation scores don't improve for 100 rounds\n",
      "[100]\ttraining's l1: 1.41396\tvalid_1's l1: 1.37777\n"
     ]
    },
    {
     "name": "stderr",
     "output_type": "stream",
     "text": [
      "\u001b[32m[I 2021-07-06 12:00:18,615]\u001b[0m Trial 84 finished with value: -1.3726579319794503 and parameters: {'max_depth': 5, 'min_child_weight': 17, 'subsample': 0.8, 'colsample_bytree': 0.8, 'reg_lambda': 57.812500456796954, 'reg_alpha': 63.44221225305348, 'feature_fraction': 0.7443338108615011, 'bagging_fraction': 0.4003706765210867, 'bagging_freq': 7}. Best is trial 77 with value: -1.3635890536386635.\u001b[0m\n"
     ]
    },
    {
     "name": "stdout",
     "output_type": "stream",
     "text": [
      "Early stopping, best iteration is:\n",
      "[30]\ttraining's l1: 1.45742\tvalid_1's l1: 1.37266\n",
      "[LightGBM] [Warning] feature_fraction is set=0.794546578397074, colsample_bytree=0.8 will be ignored. Current value: feature_fraction=0.794546578397074\n",
      "[LightGBM] [Warning] bagging_fraction is set=0.8185642411066625, subsample=0.8 will be ignored. Current value: bagging_fraction=0.8185642411066625\n",
      "[LightGBM] [Warning] bagging_freq is set=8, subsample_freq=0 will be ignored. Current value: bagging_freq=8\n",
      "Training until validation scores don't improve for 100 rounds\n",
      "[100]\ttraining's l1: 1.45452\tvalid_1's l1: 1.37075\n",
      "[200]\ttraining's l1: 1.43723\tvalid_1's l1: 1.37209\n"
     ]
    },
    {
     "name": "stderr",
     "output_type": "stream",
     "text": [
      "\u001b[32m[I 2021-07-06 12:00:26,930]\u001b[0m Trial 85 finished with value: -1.3682745910804672 and parameters: {'max_depth': 3, 'min_child_weight': 12, 'subsample': 0.8, 'colsample_bytree': 0.8, 'reg_lambda': 0.11191886255495245, 'reg_alpha': 162.51110387646173, 'feature_fraction': 0.794546578397074, 'bagging_fraction': 0.8185642411066625, 'bagging_freq': 8}. Best is trial 77 with value: -1.3635890536386635.\u001b[0m\n"
     ]
    },
    {
     "name": "stdout",
     "output_type": "stream",
     "text": [
      "Early stopping, best iteration is:\n",
      "[159]\ttraining's l1: 1.44146\tvalid_1's l1: 1.36833\n",
      "[LightGBM] [Warning] feature_fraction is set=0.8926162192308171, colsample_bytree=0.5 will be ignored. Current value: feature_fraction=0.8926162192308171\n",
      "[LightGBM] [Warning] bagging_fraction is set=0.7994669908341079, subsample=0.7 will be ignored. Current value: bagging_fraction=0.7994669908341079\n",
      "[LightGBM] [Warning] bagging_freq is set=7, subsample_freq=0 will be ignored. Current value: bagging_freq=7\n",
      "Training until validation scores don't improve for 100 rounds\n",
      "[100]\ttraining's l1: 1.43076\tvalid_1's l1: 1.37695\n"
     ]
    },
    {
     "name": "stderr",
     "output_type": "stream",
     "text": [
      "\u001b[32m[I 2021-07-06 12:00:33,337]\u001b[0m Trial 86 finished with value: -1.372757807348022 and parameters: {'max_depth': 4, 'min_child_weight': 10, 'subsample': 0.7, 'colsample_bytree': 0.5, 'reg_lambda': 455.4783184639013, 'reg_alpha': 119.72680422784681, 'feature_fraction': 0.8926162192308171, 'bagging_fraction': 0.7994669908341079, 'bagging_freq': 7}. Best is trial 77 with value: -1.3635890536386635.\u001b[0m\n"
     ]
    },
    {
     "name": "stdout",
     "output_type": "stream",
     "text": [
      "Early stopping, best iteration is:\n",
      "[75]\ttraining's l1: 1.43833\tvalid_1's l1: 1.37276\n",
      "[LightGBM] [Warning] feature_fraction is set=0.8260067195587026, colsample_bytree=0.8 will be ignored. Current value: feature_fraction=0.8260067195587026\n",
      "[LightGBM] [Warning] bagging_fraction is set=0.4310155135943725, subsample=0.7 will be ignored. Current value: bagging_fraction=0.4310155135943725\n",
      "[LightGBM] [Warning] bagging_freq is set=9, subsample_freq=0 will be ignored. Current value: bagging_freq=9\n",
      "Training until validation scores don't improve for 100 rounds\n",
      "[100]\ttraining's l1: 1.40879\tvalid_1's l1: 1.3873\n"
     ]
    },
    {
     "name": "stderr",
     "output_type": "stream",
     "text": [
      "\u001b[32m[I 2021-07-06 12:00:37,989]\u001b[0m Trial 87 finished with value: -1.3648154443974407 and parameters: {'max_depth': 8, 'min_child_weight': 14, 'subsample': 0.7, 'colsample_bytree': 0.8, 'reg_lambda': 37.30355151400156, 'reg_alpha': 34.128015328360014, 'feature_fraction': 0.8260067195587026, 'bagging_fraction': 0.4310155135943725, 'bagging_freq': 9}. Best is trial 77 with value: -1.3635890536386635.\u001b[0m\n"
     ]
    },
    {
     "name": "stdout",
     "output_type": "stream",
     "text": [
      "Early stopping, best iteration is:\n",
      "[38]\ttraining's l1: 1.44144\tvalid_1's l1: 1.36482\n",
      "[LightGBM] [Warning] feature_fraction is set=0.8246751971499646, colsample_bytree=0.8 will be ignored. Current value: feature_fraction=0.8246751971499646\n",
      "[LightGBM] [Warning] bagging_fraction is set=0.4250931362675891, subsample=0.8 will be ignored. Current value: bagging_fraction=0.4250931362675891\n",
      "[LightGBM] [Warning] bagging_freq is set=9, subsample_freq=0 will be ignored. Current value: bagging_freq=9\n",
      "Training until validation scores don't improve for 100 rounds\n",
      "[100]\ttraining's l1: 1.41009\tvalid_1's l1: 1.38634\n"
     ]
    },
    {
     "name": "stderr",
     "output_type": "stream",
     "text": [
      "\u001b[32m[I 2021-07-06 12:00:42,451]\u001b[0m Trial 88 finished with value: -1.3670739518007324 and parameters: {'max_depth': 8, 'min_child_weight': 14, 'subsample': 0.8, 'colsample_bytree': 0.8, 'reg_lambda': 35.56058055469964, 'reg_alpha': 13.41374613147863, 'feature_fraction': 0.8246751971499646, 'bagging_fraction': 0.4250931362675891, 'bagging_freq': 9}. Best is trial 77 with value: -1.3635890536386635.\u001b[0m\n"
     ]
    },
    {
     "name": "stdout",
     "output_type": "stream",
     "text": [
      "Early stopping, best iteration is:\n",
      "[35]\ttraining's l1: 1.44537\tvalid_1's l1: 1.36707\n",
      "[LightGBM] [Warning] feature_fraction is set=0.8544158455609573, colsample_bytree=0.9 will be ignored. Current value: feature_fraction=0.8544158455609573\n",
      "[LightGBM] [Warning] bagging_fraction is set=0.4475842023559835, subsample=0.9 will be ignored. Current value: bagging_fraction=0.4475842023559835\n",
      "[LightGBM] [Warning] bagging_freq is set=9, subsample_freq=0 will be ignored. Current value: bagging_freq=9\n",
      "Training until validation scores don't improve for 100 rounds\n",
      "[100]\ttraining's l1: 1.40913\tvalid_1's l1: 1.38558\n"
     ]
    },
    {
     "name": "stderr",
     "output_type": "stream",
     "text": [
      "\u001b[32m[I 2021-07-06 12:00:46,985]\u001b[0m Trial 89 finished with value: -1.3693063582370888 and parameters: {'max_depth': 9, 'min_child_weight': 15, 'subsample': 0.9, 'colsample_bytree': 0.9, 'reg_lambda': 20.416559047237712, 'reg_alpha': 28.012729399248638, 'feature_fraction': 0.8544158455609573, 'bagging_fraction': 0.4475842023559835, 'bagging_freq': 9}. Best is trial 77 with value: -1.3635890536386635.\u001b[0m\n"
     ]
    },
    {
     "name": "stdout",
     "output_type": "stream",
     "text": [
      "Early stopping, best iteration is:\n",
      "[32]\ttraining's l1: 1.45135\tvalid_1's l1: 1.36931\n",
      "[LightGBM] [Warning] feature_fraction is set=0.6697832972300739, colsample_bytree=0.8 will be ignored. Current value: feature_fraction=0.6697832972300739\n",
      "[LightGBM] [Warning] bagging_fraction is set=0.4702398955119433, subsample=0.7 will be ignored. Current value: bagging_fraction=0.4702398955119433\n",
      "[LightGBM] [Warning] bagging_freq is set=3, subsample_freq=0 will be ignored. Current value: bagging_freq=3\n",
      "Training until validation scores don't improve for 100 rounds\n",
      "[100]\ttraining's l1: 1.42267\tvalid_1's l1: 1.37948\n"
     ]
    },
    {
     "name": "stderr",
     "output_type": "stream",
     "text": [
      "\u001b[32m[I 2021-07-06 12:00:53,477]\u001b[0m Trial 90 finished with value: -1.378991527043157 and parameters: {'max_depth': 6, 'min_child_weight': 16, 'subsample': 0.7, 'colsample_bytree': 0.8, 'reg_lambda': 94.61351885032191, 'reg_alpha': 487.4848416900893, 'feature_fraction': 0.6697832972300739, 'bagging_fraction': 0.4702398955119433, 'bagging_freq': 3}. Best is trial 77 with value: -1.3635890536386635.\u001b[0m\n"
     ]
    },
    {
     "name": "stdout",
     "output_type": "stream",
     "text": [
      "Early stopping, best iteration is:\n",
      "[75]\ttraining's l1: 1.42759\tvalid_1's l1: 1.37899\n",
      "[LightGBM] [Warning] feature_fraction is set=0.8397693098039619, colsample_bytree=0.8 will be ignored. Current value: feature_fraction=0.8397693098039619\n",
      "[LightGBM] [Warning] bagging_fraction is set=0.4140758782574522, subsample=0.7 will be ignored. Current value: bagging_fraction=0.4140758782574522\n",
      "[LightGBM] [Warning] bagging_freq is set=8, subsample_freq=0 will be ignored. Current value: bagging_freq=8\n",
      "Training until validation scores don't improve for 100 rounds\n",
      "[100]\ttraining's l1: 1.40839\tvalid_1's l1: 1.38449\n"
     ]
    },
    {
     "name": "stderr",
     "output_type": "stream",
     "text": [
      "\u001b[32m[I 2021-07-06 12:00:58,054]\u001b[0m Trial 91 finished with value: -1.3677070787901158 and parameters: {'max_depth': 8, 'min_child_weight': 14, 'subsample': 0.7, 'colsample_bytree': 0.8, 'reg_lambda': 258.86727223709914, 'reg_alpha': 33.13773941237492, 'feature_fraction': 0.8397693098039619, 'bagging_fraction': 0.4140758782574522, 'bagging_freq': 8}. Best is trial 77 with value: -1.3635890536386635.\u001b[0m\n"
     ]
    },
    {
     "name": "stdout",
     "output_type": "stream",
     "text": [
      "Early stopping, best iteration is:\n",
      "[39]\ttraining's l1: 1.44378\tvalid_1's l1: 1.36771\n",
      "[LightGBM] [Warning] feature_fraction is set=0.7843896299381092, colsample_bytree=0.8 will be ignored. Current value: feature_fraction=0.7843896299381092\n",
      "[LightGBM] [Warning] bagging_fraction is set=0.965590303691753, subsample=0.7 will be ignored. Current value: bagging_fraction=0.965590303691753\n",
      "[LightGBM] [Warning] bagging_freq is set=9, subsample_freq=0 will be ignored. Current value: bagging_freq=9\n",
      "Training until validation scores don't improve for 100 rounds\n",
      "[100]\ttraining's l1: 1.40984\tvalid_1's l1: 1.37855\n"
     ]
    },
    {
     "name": "stderr",
     "output_type": "stream",
     "text": [
      "\u001b[32m[I 2021-07-06 12:01:04,818]\u001b[0m Trial 92 finished with value: -1.3678728206891269 and parameters: {'max_depth': 7, 'min_child_weight': 11, 'subsample': 0.7, 'colsample_bytree': 0.8, 'reg_lambda': 166.86133628467437, 'reg_alpha': 60.2168524878523, 'feature_fraction': 0.7843896299381092, 'bagging_fraction': 0.965590303691753, 'bagging_freq': 9}. Best is trial 77 with value: -1.3635890536386635.\u001b[0m\n"
     ]
    },
    {
     "name": "stdout",
     "output_type": "stream",
     "text": [
      "Early stopping, best iteration is:\n",
      "[42]\ttraining's l1: 1.43683\tvalid_1's l1: 1.36787\n",
      "[LightGBM] [Warning] feature_fraction is set=0.7601193863366695, colsample_bytree=0.7 will be ignored. Current value: feature_fraction=0.7601193863366695\n",
      "[LightGBM] [Warning] bagging_fraction is set=0.4325377649294513, subsample=0.7 will be ignored. Current value: bagging_fraction=0.4325377649294513\n",
      "[LightGBM] [Warning] bagging_freq is set=8, subsample_freq=0 will be ignored. Current value: bagging_freq=8\n",
      "Training until validation scores don't improve for 100 rounds\n",
      "[100]\ttraining's l1: 1.41939\tvalid_1's l1: 1.37367\n"
     ]
    },
    {
     "name": "stderr",
     "output_type": "stream",
     "text": [
      "\u001b[32m[I 2021-07-06 12:01:09,517]\u001b[0m Trial 93 finished with value: -1.373493221761758 and parameters: {'max_depth': 6, 'min_child_weight': 13, 'subsample': 0.7, 'colsample_bytree': 0.7, 'reg_lambda': 46.157772455757815, 'reg_alpha': 379.2051124993466, 'feature_fraction': 0.7601193863366695, 'bagging_fraction': 0.4325377649294513, 'bagging_freq': 8}. Best is trial 77 with value: -1.3635890536386635.\u001b[0m\n"
     ]
    },
    {
     "name": "stdout",
     "output_type": "stream",
     "text": [
      "Early stopping, best iteration is:\n",
      "[45]\ttraining's l1: 1.44211\tvalid_1's l1: 1.37349\n",
      "[LightGBM] [Warning] feature_fraction is set=0.8158063566625006, colsample_bytree=0.6 will be ignored. Current value: feature_fraction=0.8158063566625006\n",
      "[LightGBM] [Warning] bagging_fraction is set=0.7589795960622618, subsample=0.8 will be ignored. Current value: bagging_fraction=0.7589795960622618\n",
      "[LightGBM] [Warning] bagging_freq is set=8, subsample_freq=0 will be ignored. Current value: bagging_freq=8\n",
      "Training until validation scores don't improve for 100 rounds\n",
      "[100]\ttraining's l1: 1.41095\tvalid_1's l1: 1.38327\n"
     ]
    },
    {
     "name": "stderr",
     "output_type": "stream",
     "text": [
      "\u001b[32m[I 2021-07-06 12:01:15,725]\u001b[0m Trial 94 finished with value: -1.368907184608439 and parameters: {'max_depth': 9, 'min_child_weight': 12, 'subsample': 0.8, 'colsample_bytree': 0.6, 'reg_lambda': 749.29753312532, 'reg_alpha': 18.113372196575867, 'feature_fraction': 0.8158063566625006, 'bagging_fraction': 0.7589795960622618, 'bagging_freq': 8}. Best is trial 77 with value: -1.3635890536386635.\u001b[0m\n"
     ]
    },
    {
     "name": "stdout",
     "output_type": "stream",
     "text": [
      "Early stopping, best iteration is:\n",
      "[40]\ttraining's l1: 1.43986\tvalid_1's l1: 1.36891\n",
      "[LightGBM] [Warning] feature_fraction is set=0.8652345172999844, colsample_bytree=0.8 will be ignored. Current value: feature_fraction=0.8652345172999844\n",
      "[LightGBM] [Warning] bagging_fraction is set=0.40891412884650874, subsample=0.7 will be ignored. Current value: bagging_fraction=0.40891412884650874\n",
      "[LightGBM] [Warning] bagging_freq is set=7, subsample_freq=0 will be ignored. Current value: bagging_freq=7\n",
      "Training until validation scores don't improve for 100 rounds\n",
      "[100]\ttraining's l1: 1.43551\tvalid_1's l1: 1.37311\n",
      "[200]\ttraining's l1: 1.41763\tvalid_1's l1: 1.3731\n"
     ]
    },
    {
     "name": "stderr",
     "output_type": "stream",
     "text": [
      "\u001b[32m[I 2021-07-06 12:01:21,554]\u001b[0m Trial 95 finished with value: -1.370201012860058 and parameters: {'max_depth': 4, 'min_child_weight': 15, 'subsample': 0.7, 'colsample_bytree': 0.8, 'reg_lambda': 417.97981223939246, 'reg_alpha': 127.38913839763526, 'feature_fraction': 0.8652345172999844, 'bagging_fraction': 0.40891412884650874, 'bagging_freq': 7}. Best is trial 77 with value: -1.3635890536386635.\u001b[0m\n"
     ]
    },
    {
     "name": "stdout",
     "output_type": "stream",
     "text": [
      "Early stopping, best iteration is:\n",
      "[144]\ttraining's l1: 1.42535\tvalid_1's l1: 1.37024\n",
      "[LightGBM] [Warning] feature_fraction is set=0.7746309482238436, colsample_bytree=0.8 will be ignored. Current value: feature_fraction=0.7746309482238436\n",
      "[LightGBM] [Warning] bagging_fraction is set=0.837667888612727, subsample=0.7 will be ignored. Current value: bagging_fraction=0.837667888612727\n",
      "[LightGBM] [Warning] bagging_freq is set=9, subsample_freq=0 will be ignored. Current value: bagging_freq=9\n",
      "Training until validation scores don't improve for 100 rounds\n",
      "[100]\ttraining's l1: 1.41479\tvalid_1's l1: 1.37617\n"
     ]
    },
    {
     "name": "stderr",
     "output_type": "stream",
     "text": [
      "\u001b[32m[I 2021-07-06 12:01:28,205]\u001b[0m Trial 96 finished with value: -1.3705657232909008 and parameters: {'max_depth': 11, 'min_child_weight': 17, 'subsample': 0.7, 'colsample_bytree': 0.8, 'reg_lambda': 987.8509087380088, 'reg_alpha': 82.39032168059995, 'feature_fraction': 0.7746309482238436, 'bagging_fraction': 0.837667888612727, 'bagging_freq': 9}. Best is trial 77 with value: -1.3635890536386635.\u001b[0m\n"
     ]
    },
    {
     "name": "stdout",
     "output_type": "stream",
     "text": [
      "Early stopping, best iteration is:\n",
      "[46]\ttraining's l1: 1.43779\tvalid_1's l1: 1.37057\n",
      "[LightGBM] [Warning] feature_fraction is set=0.8053829726049316, colsample_bytree=0.7 will be ignored. Current value: feature_fraction=0.8053829726049316\n",
      "[LightGBM] [Warning] bagging_fraction is set=0.5827495028973071, subsample=0.8 will be ignored. Current value: bagging_fraction=0.5827495028973071\n",
      "[LightGBM] [Warning] bagging_freq is set=8, subsample_freq=0 will be ignored. Current value: bagging_freq=8\n",
      "Training until validation scores don't improve for 100 rounds\n",
      "[100]\ttraining's l1: 1.40883\tvalid_1's l1: 1.38579\n"
     ]
    },
    {
     "name": "stderr",
     "output_type": "stream",
     "text": [
      "\u001b[32m[I 2021-07-06 12:01:33,692]\u001b[0m Trial 97 finished with value: -1.3686627278948278 and parameters: {'max_depth': 12, 'min_child_weight': 19, 'subsample': 0.8, 'colsample_bytree': 0.7, 'reg_lambda': 67.87979864150549, 'reg_alpha': 6.042418519021826, 'feature_fraction': 0.8053829726049316, 'bagging_fraction': 0.5827495028973071, 'bagging_freq': 8}. Best is trial 77 with value: -1.3635890536386635.\u001b[0m\n"
     ]
    },
    {
     "name": "stdout",
     "output_type": "stream",
     "text": [
      "Early stopping, best iteration is:\n",
      "[45]\ttraining's l1: 1.43668\tvalid_1's l1: 1.36866\n",
      "[LightGBM] [Warning] feature_fraction is set=0.4217799819900841, colsample_bytree=0.8 will be ignored. Current value: feature_fraction=0.4217799819900841\n",
      "[LightGBM] [Warning] bagging_fraction is set=0.4897744932953733, subsample=0.8 will be ignored. Current value: bagging_fraction=0.4897744932953733\n",
      "[LightGBM] [Warning] bagging_freq is set=7, subsample_freq=0 will be ignored. Current value: bagging_freq=7\n",
      "Training until validation scores don't improve for 100 rounds\n",
      "[100]\ttraining's l1: 1.41729\tvalid_1's l1: 1.37819\n"
     ]
    },
    {
     "name": "stderr",
     "output_type": "stream",
     "text": [
      "\u001b[32m[I 2021-07-06 12:01:38,775]\u001b[0m Trial 98 finished with value: -1.3699366583838075 and parameters: {'max_depth': 7, 'min_child_weight': 7, 'subsample': 0.8, 'colsample_bytree': 0.8, 'reg_lambda': 1.2925493321529955, 'reg_alpha': 46.66418364123014, 'feature_fraction': 0.4217799819900841, 'bagging_fraction': 0.4897744932953733, 'bagging_freq': 7}. Best is trial 77 with value: -1.3635890536386635.\u001b[0m\n"
     ]
    },
    {
     "name": "stdout",
     "output_type": "stream",
     "text": [
      "Early stopping, best iteration is:\n",
      "[42]\ttraining's l1: 1.45649\tvalid_1's l1: 1.36994\n",
      "[LightGBM] [Warning] feature_fraction is set=0.8315757275015846, colsample_bytree=0.9 will be ignored. Current value: feature_fraction=0.8315757275015846\n",
      "[LightGBM] [Warning] bagging_fraction is set=0.5191677224469656, subsample=0.8 will be ignored. Current value: bagging_fraction=0.5191677224469656\n",
      "[LightGBM] [Warning] bagging_freq is set=6, subsample_freq=0 will be ignored. Current value: bagging_freq=6\n",
      "Training until validation scores don't improve for 100 rounds\n",
      "[100]\ttraining's l1: 1.40765\tvalid_1's l1: 1.38516\n"
     ]
    },
    {
     "name": "stderr",
     "output_type": "stream",
     "text": [
      "\u001b[32m[I 2021-07-06 12:01:43,826]\u001b[0m Trial 99 finished with value: -1.367512845681495 and parameters: {'max_depth': 6, 'min_child_weight': 2, 'subsample': 0.8, 'colsample_bytree': 0.9, 'reg_lambda': 279.00496576155524, 'reg_alpha': 0.2572328686744749, 'feature_fraction': 0.8315757275015846, 'bagging_fraction': 0.5191677224469656, 'bagging_freq': 6}. Best is trial 77 with value: -1.3635890536386635.\u001b[0m\n"
     ]
    },
    {
     "name": "stdout",
     "output_type": "stream",
     "text": [
      "Early stopping, best iteration is:\n",
      "[39]\ttraining's l1: 1.43967\tvalid_1's l1: 1.36751\n",
      "Number of finished trials: 100\n",
      "Best trial: {'max_depth': 3, 'min_child_weight': 20, 'subsample': 0.9, 'colsample_bytree': 0.9, 'reg_lambda': 401.46823222466355, 'reg_alpha': 176.62619815852787, 'feature_fraction': 0.774470261363649, 'bagging_fraction': 0.42651313721017786, 'bagging_freq': 7}\n"
     ]
    }
   ],
   "source": [
    "study2 = optuna.create_study(direction='maximize')\n",
    "study2.optimize(fit_lgbm(x_train[feature_cols2], y_train['target2'], x_valid[feature_cols2], y_valid['target2'], learning_rates[1]), n_trials=100)\n",
    "\n",
    "print('Number of finished trials:', len(study2.trials))\n",
    "print('Best trial:', study2.best_trial.params)"
   ]
  },
  {
   "cell_type": "code",
   "execution_count": 44,
   "id": "4feaf1fe",
   "metadata": {},
   "outputs": [
    {
     "name": "stderr",
     "output_type": "stream",
     "text": [
      "\u001b[32m[I 2021-07-06 12:01:43,845]\u001b[0m A new study created in memory with name: no-name-c18b4d80-386c-4586-8dfe-ce0bdb6bb85c\u001b[0m\n"
     ]
    },
    {
     "name": "stdout",
     "output_type": "stream",
     "text": [
      "[LightGBM] [Warning] feature_fraction is set=0.5856682850703574, colsample_bytree=0.7 will be ignored. Current value: feature_fraction=0.5856682850703574\n",
      "[LightGBM] [Warning] bagging_fraction is set=0.5434905999833387, subsample=0.7 will be ignored. Current value: bagging_fraction=0.5434905999833387\n",
      "[LightGBM] [Warning] bagging_freq is set=5, subsample_freq=0 will be ignored. Current value: bagging_freq=5\n",
      "Training until validation scores don't improve for 100 rounds\n",
      "[100]\ttraining's l1: 0.741736\tvalid_1's l1: 0.55334\n",
      "[200]\ttraining's l1: 0.741019\tvalid_1's l1: 0.552837\n",
      "[300]\ttraining's l1: 0.741\tvalid_1's l1: 0.552812\n"
     ]
    },
    {
     "name": "stderr",
     "output_type": "stream",
     "text": [
      "\u001b[32m[I 2021-07-06 12:01:57,210]\u001b[0m Trial 0 finished with value: -0.5528070087736237 and parameters: {'max_depth': 10, 'min_child_weight': 15, 'subsample': 0.7, 'colsample_bytree': 0.7, 'reg_lambda': 0.02276371727803888, 'reg_alpha': 30.030488707514742, 'feature_fraction': 0.5856682850703574, 'bagging_fraction': 0.5434905999833387, 'bagging_freq': 5}. Best is trial 0 with value: -0.5528070087736237.\u001b[0m\n"
     ]
    },
    {
     "name": "stdout",
     "output_type": "stream",
     "text": [
      "Early stopping, best iteration is:\n",
      "[283]\ttraining's l1: 0.741003\tvalid_1's l1: 0.552808\n",
      "[LightGBM] [Warning] feature_fraction is set=0.538321455729257, colsample_bytree=0.5 will be ignored. Current value: feature_fraction=0.538321455729257\n",
      "[LightGBM] [Warning] bagging_fraction is set=0.5354098414814698, subsample=0.6 will be ignored. Current value: bagging_fraction=0.5354098414814698\n",
      "[LightGBM] [Warning] bagging_freq is set=3, subsample_freq=0 will be ignored. Current value: bagging_freq=3\n",
      "Training until validation scores don't improve for 100 rounds\n",
      "[100]\ttraining's l1: 0.741478\tvalid_1's l1: 0.552874\n",
      "[200]\ttraining's l1: 0.741459\tvalid_1's l1: 0.552839\n",
      "[300]\ttraining's l1: 0.740852\tvalid_1's l1: 0.552317\n",
      "[400]\ttraining's l1: 0.74083\tvalid_1's l1: 0.552309\n",
      "[500]\ttraining's l1: 0.740619\tvalid_1's l1: 0.552058\n",
      "[600]\ttraining's l1: 0.740552\tvalid_1's l1: 0.551989\n"
     ]
    },
    {
     "name": "stderr",
     "output_type": "stream",
     "text": [
      "\u001b[32m[I 2021-07-06 12:02:18,590]\u001b[0m Trial 1 finished with value: -0.5519819470449819 and parameters: {'max_depth': 19, 'min_child_weight': 15, 'subsample': 0.6, 'colsample_bytree': 0.5, 'reg_lambda': 90.80964289983393, 'reg_alpha': 0.0027591951728969696, 'feature_fraction': 0.538321455729257, 'bagging_fraction': 0.5354098414814698, 'bagging_freq': 3}. Best is trial 1 with value: -0.5519819470449819.\u001b[0m\n"
     ]
    },
    {
     "name": "stdout",
     "output_type": "stream",
     "text": [
      "Early stopping, best iteration is:\n",
      "[540]\ttraining's l1: 0.740562\tvalid_1's l1: 0.551984\n",
      "[LightGBM] [Warning] feature_fraction is set=0.530629240738488, colsample_bytree=0.6 will be ignored. Current value: feature_fraction=0.530629240738488\n",
      "[LightGBM] [Warning] bagging_fraction is set=0.5284242493350112, subsample=0.6 will be ignored. Current value: bagging_fraction=0.5284242493350112\n",
      "[LightGBM] [Warning] bagging_freq is set=5, subsample_freq=0 will be ignored. Current value: bagging_freq=5\n",
      "Training until validation scores don't improve for 100 rounds\n",
      "[100]\ttraining's l1: 0.741937\tvalid_1's l1: 0.553434\n",
      "[200]\ttraining's l1: 0.741245\tvalid_1's l1: 0.552716\n",
      "[300]\ttraining's l1: 0.7408\tvalid_1's l1: 0.552085\n",
      "[400]\ttraining's l1: 0.740744\tvalid_1's l1: 0.551917\n",
      "[500]\ttraining's l1: 0.740615\tvalid_1's l1: 0.551838\n",
      "[600]\ttraining's l1: 0.740464\tvalid_1's l1: 0.551635\n",
      "[700]\ttraining's l1: 0.739451\tvalid_1's l1: 0.550932\n",
      "Early stopping, best iteration is:\n",
      "[677]\ttraining's l1: 0.739616\tvalid_1's l1: 0.550912\n"
     ]
    },
    {
     "name": "stderr",
     "output_type": "stream",
     "text": [
      "\u001b[32m[I 2021-07-06 12:02:41,891]\u001b[0m Trial 2 finished with value: -0.5509109785188631 and parameters: {'max_depth': 18, 'min_child_weight': 5, 'subsample': 0.6, 'colsample_bytree': 0.6, 'reg_lambda': 2.078318099623303, 'reg_alpha': 5.229180428198325, 'feature_fraction': 0.530629240738488, 'bagging_fraction': 0.5284242493350112, 'bagging_freq': 5}. Best is trial 2 with value: -0.5509109785188631.\u001b[0m\n"
     ]
    },
    {
     "name": "stdout",
     "output_type": "stream",
     "text": [
      "[LightGBM] [Warning] feature_fraction is set=0.4792151106749011, colsample_bytree=0.5 will be ignored. Current value: feature_fraction=0.4792151106749011\n",
      "[LightGBM] [Warning] bagging_fraction is set=0.44748742376137685, subsample=0.6 will be ignored. Current value: bagging_fraction=0.44748742376137685\n",
      "[LightGBM] [Warning] bagging_freq is set=3, subsample_freq=0 will be ignored. Current value: bagging_freq=3\n",
      "Training until validation scores don't improve for 100 rounds\n",
      "[100]\ttraining's l1: 0.741154\tvalid_1's l1: 0.552693\n",
      "[200]\ttraining's l1: 0.740981\tvalid_1's l1: 0.552573\n",
      "[300]\ttraining's l1: 0.740157\tvalid_1's l1: 0.552249\n"
     ]
    },
    {
     "name": "stderr",
     "output_type": "stream",
     "text": [
      "\u001b[32m[I 2021-07-06 12:02:52,633]\u001b[0m Trial 3 finished with value: -0.552189174422889 and parameters: {'max_depth': 12, 'min_child_weight': 7, 'subsample': 0.6, 'colsample_bytree': 0.5, 'reg_lambda': 0.016156070911337608, 'reg_alpha': 0.04552985990646145, 'feature_fraction': 0.4792151106749011, 'bagging_fraction': 0.44748742376137685, 'bagging_freq': 3}. Best is trial 2 with value: -0.5509109785188631.\u001b[0m\n"
     ]
    },
    {
     "name": "stdout",
     "output_type": "stream",
     "text": [
      "Early stopping, best iteration is:\n",
      "[247]\ttraining's l1: 0.740549\tvalid_1's l1: 0.552191\n",
      "[LightGBM] [Warning] feature_fraction is set=0.5325405855376344, colsample_bytree=0.6 will be ignored. Current value: feature_fraction=0.5325405855376344\n",
      "[LightGBM] [Warning] bagging_fraction is set=0.6211808617878897, subsample=0.6 will be ignored. Current value: bagging_fraction=0.6211808617878897\n",
      "[LightGBM] [Warning] bagging_freq is set=7, subsample_freq=0 will be ignored. Current value: bagging_freq=7\n",
      "Training until validation scores don't improve for 100 rounds\n",
      "[100]\ttraining's l1: 0.739041\tvalid_1's l1: 0.55094\n",
      "[200]\ttraining's l1: 0.738345\tvalid_1's l1: 0.550277\n",
      "[300]\ttraining's l1: 0.737746\tvalid_1's l1: 0.549511\n",
      "[400]\ttraining's l1: 0.737015\tvalid_1's l1: 0.54858\n",
      "[500]\ttraining's l1: 0.736782\tvalid_1's l1: 0.548499\n",
      "[600]\ttraining's l1: 0.73636\tvalid_1's l1: 0.548077\n",
      "[700]\ttraining's l1: 0.736206\tvalid_1's l1: 0.547853\n",
      "Early stopping, best iteration is:\n",
      "[651]\ttraining's l1: 0.736216\tvalid_1's l1: 0.547848\n"
     ]
    },
    {
     "name": "stderr",
     "output_type": "stream",
     "text": [
      "\u001b[32m[I 2021-07-06 12:03:15,871]\u001b[0m Trial 4 finished with value: -0.5478379658151887 and parameters: {'max_depth': 5, 'min_child_weight': 7, 'subsample': 0.6, 'colsample_bytree': 0.6, 'reg_lambda': 0.016042683453342668, 'reg_alpha': 14.872874194126908, 'feature_fraction': 0.5325405855376344, 'bagging_fraction': 0.6211808617878897, 'bagging_freq': 7}. Best is trial 4 with value: -0.5478379658151887.\u001b[0m\n"
     ]
    },
    {
     "name": "stdout",
     "output_type": "stream",
     "text": [
      "[LightGBM] [Warning] feature_fraction is set=0.5718748387063854, colsample_bytree=0.7 will be ignored. Current value: feature_fraction=0.5718748387063854\n",
      "[LightGBM] [Warning] bagging_fraction is set=0.6011009303947925, subsample=0.6 will be ignored. Current value: bagging_fraction=0.6011009303947925\n",
      "[LightGBM] [Warning] bagging_freq is set=2, subsample_freq=0 will be ignored. Current value: bagging_freq=2\n",
      "Training until validation scores don't improve for 100 rounds\n",
      "[100]\ttraining's l1: 0.741114\tvalid_1's l1: 0.552839\n",
      "[200]\ttraining's l1: 0.740361\tvalid_1's l1: 0.552084\n",
      "[300]\ttraining's l1: 0.740192\tvalid_1's l1: 0.552125\n"
     ]
    },
    {
     "name": "stderr",
     "output_type": "stream",
     "text": [
      "\u001b[32m[I 2021-07-06 12:03:29,210]\u001b[0m Trial 5 finished with value: -0.5520614599254217 and parameters: {'max_depth': 7, 'min_child_weight': 4, 'subsample': 0.6, 'colsample_bytree': 0.7, 'reg_lambda': 0.0533563689875025, 'reg_alpha': 65.83061685084552, 'feature_fraction': 0.5718748387063854, 'bagging_fraction': 0.6011009303947925, 'bagging_freq': 2}. Best is trial 4 with value: -0.5478379658151887.\u001b[0m\n"
     ]
    },
    {
     "name": "stdout",
     "output_type": "stream",
     "text": [
      "Early stopping, best iteration is:\n",
      "[207]\ttraining's l1: 0.740309\tvalid_1's l1: 0.552062\n",
      "[LightGBM] [Warning] feature_fraction is set=0.423184043642408, colsample_bytree=0.7 will be ignored. Current value: feature_fraction=0.423184043642408\n",
      "[LightGBM] [Warning] bagging_fraction is set=0.654818826556306, subsample=0.7 will be ignored. Current value: bagging_fraction=0.654818826556306\n",
      "[LightGBM] [Warning] bagging_freq is set=6, subsample_freq=0 will be ignored. Current value: bagging_freq=6\n",
      "Training until validation scores don't improve for 100 rounds\n",
      "[100]\ttraining's l1: 0.740816\tvalid_1's l1: 0.552674\n",
      "[200]\ttraining's l1: 0.740485\tvalid_1's l1: 0.552189\n",
      "[300]\ttraining's l1: 0.74013\tvalid_1's l1: 0.551785\n",
      "[400]\ttraining's l1: 0.739924\tvalid_1's l1: 0.551561\n",
      "[500]\ttraining's l1: 0.73981\tvalid_1's l1: 0.551397\n",
      "[600]\ttraining's l1: 0.739702\tvalid_1's l1: 0.551264\n",
      "[700]\ttraining's l1: 0.739393\tvalid_1's l1: 0.551268\n",
      "Early stopping, best iteration is:\n",
      "[604]\ttraining's l1: 0.739658\tvalid_1's l1: 0.551231\n"
     ]
    },
    {
     "name": "stderr",
     "output_type": "stream",
     "text": [
      "\u001b[32m[I 2021-07-06 12:03:51,367]\u001b[0m Trial 6 finished with value: -0.5512291734294279 and parameters: {'max_depth': 10, 'min_child_weight': 11, 'subsample': 0.7, 'colsample_bytree': 0.7, 'reg_lambda': 13.159173131700106, 'reg_alpha': 0.0746251269193013, 'feature_fraction': 0.423184043642408, 'bagging_fraction': 0.654818826556306, 'bagging_freq': 6}. Best is trial 4 with value: -0.5478379658151887.\u001b[0m\n"
     ]
    },
    {
     "name": "stdout",
     "output_type": "stream",
     "text": [
      "[LightGBM] [Warning] feature_fraction is set=0.5618069889917449, colsample_bytree=0.5 will be ignored. Current value: feature_fraction=0.5618069889917449\n",
      "[LightGBM] [Warning] bagging_fraction is set=0.8468320136202745, subsample=0.9 will be ignored. Current value: bagging_fraction=0.8468320136202745\n",
      "[LightGBM] [Warning] bagging_freq is set=1, subsample_freq=0 will be ignored. Current value: bagging_freq=1\n",
      "Training until validation scores don't improve for 100 rounds\n",
      "[100]\ttraining's l1: 0.741806\tvalid_1's l1: 0.553162\n",
      "[200]\ttraining's l1: 0.741283\tvalid_1's l1: 0.552722\n",
      "[300]\ttraining's l1: 0.740736\tvalid_1's l1: 0.55182\n",
      "[400]\ttraining's l1: 0.740286\tvalid_1's l1: 0.55127\n",
      "[500]\ttraining's l1: 0.740247\tvalid_1's l1: 0.551269\n",
      "[600]\ttraining's l1: 0.740231\tvalid_1's l1: 0.551232\n",
      "[700]\ttraining's l1: 0.740203\tvalid_1's l1: 0.551188\n",
      "Early stopping, best iteration is:\n",
      "[671]\ttraining's l1: 0.740206\tvalid_1's l1: 0.551182\n"
     ]
    },
    {
     "name": "stderr",
     "output_type": "stream",
     "text": [
      "\u001b[32m[I 2021-07-06 12:04:17,082]\u001b[0m Trial 7 finished with value: -0.5511818601487 and parameters: {'max_depth': 9, 'min_child_weight': 19, 'subsample': 0.9, 'colsample_bytree': 0.5, 'reg_lambda': 0.5208955971583167, 'reg_alpha': 0.4945976583287923, 'feature_fraction': 0.5618069889917449, 'bagging_fraction': 0.8468320136202745, 'bagging_freq': 1}. Best is trial 4 with value: -0.5478379658151887.\u001b[0m\n"
     ]
    },
    {
     "name": "stdout",
     "output_type": "stream",
     "text": [
      "[LightGBM] [Warning] feature_fraction is set=0.8589086590375384, colsample_bytree=0.9 will be ignored. Current value: feature_fraction=0.8589086590375384\n",
      "[LightGBM] [Warning] bagging_fraction is set=0.9261489318424047, subsample=0.9 will be ignored. Current value: bagging_fraction=0.9261489318424047\n",
      "[LightGBM] [Warning] bagging_freq is set=7, subsample_freq=0 will be ignored. Current value: bagging_freq=7\n",
      "Training until validation scores don't improve for 100 rounds\n",
      "[100]\ttraining's l1: 0.74332\tvalid_1's l1: 0.554067\n",
      "[200]\ttraining's l1: 0.742397\tvalid_1's l1: 0.55322\n",
      "[300]\ttraining's l1: 0.742108\tvalid_1's l1: 0.552925\n"
     ]
    },
    {
     "name": "stderr",
     "output_type": "stream",
     "text": [
      "\u001b[32m[I 2021-07-06 12:04:29,935]\u001b[0m Trial 8 finished with value: -0.5529117616280045 and parameters: {'max_depth': 19, 'min_child_weight': 5, 'subsample': 0.9, 'colsample_bytree': 0.9, 'reg_lambda': 0.9120917046416422, 'reg_alpha': 23.69226353105914, 'feature_fraction': 0.8589086590375384, 'bagging_fraction': 0.9261489318424047, 'bagging_freq': 7}. Best is trial 4 with value: -0.5478379658151887.\u001b[0m\n"
     ]
    },
    {
     "name": "stdout",
     "output_type": "stream",
     "text": [
      "Early stopping, best iteration is:\n",
      "[227]\ttraining's l1: 0.742123\tvalid_1's l1: 0.552914\n",
      "[LightGBM] [Warning] feature_fraction is set=0.587463153899481, colsample_bytree=0.8 will be ignored. Current value: feature_fraction=0.587463153899481\n",
      "[LightGBM] [Warning] bagging_fraction is set=0.620500998226692, subsample=0.7 will be ignored. Current value: bagging_fraction=0.620500998226692\n",
      "[LightGBM] [Warning] bagging_freq is set=10, subsample_freq=0 will be ignored. Current value: bagging_freq=10\n",
      "Training until validation scores don't improve for 100 rounds\n",
      "[100]\ttraining's l1: 0.743889\tvalid_1's l1: 0.555304\n",
      "[200]\ttraining's l1: 0.743733\tvalid_1's l1: 0.555333\n"
     ]
    },
    {
     "name": "stderr",
     "output_type": "stream",
     "text": [
      "\u001b[32m[I 2021-07-06 12:04:38,356]\u001b[0m Trial 9 finished with value: -0.5552474758051421 and parameters: {'max_depth': 15, 'min_child_weight': 9, 'subsample': 0.7, 'colsample_bytree': 0.8, 'reg_lambda': 0.0029088636370460308, 'reg_alpha': 594.3519638217399, 'feature_fraction': 0.587463153899481, 'bagging_fraction': 0.620500998226692, 'bagging_freq': 10}. Best is trial 4 with value: -0.5478379658151887.\u001b[0m\n"
     ]
    },
    {
     "name": "stdout",
     "output_type": "stream",
     "text": [
      "Early stopping, best iteration is:\n",
      "[119]\ttraining's l1: 0.74384\tvalid_1's l1: 0.555248\n",
      "[LightGBM] [Warning] feature_fraction is set=0.7490906744632025, colsample_bytree=0.6 will be ignored. Current value: feature_fraction=0.7490906744632025\n",
      "[LightGBM] [Warning] bagging_fraction is set=0.7667083453451747, subsample=0.5 will be ignored. Current value: bagging_fraction=0.7667083453451747\n",
      "[LightGBM] [Warning] bagging_freq is set=9, subsample_freq=0 will be ignored. Current value: bagging_freq=9\n",
      "Training until validation scores don't improve for 100 rounds\n",
      "[100]\ttraining's l1: 0.748251\tvalid_1's l1: 0.557826\n",
      "[200]\ttraining's l1: 0.7481\tvalid_1's l1: 0.557611\n",
      "[300]\ttraining's l1: 0.747948\tvalid_1's l1: 0.557439\n",
      "[400]\ttraining's l1: 0.747017\tvalid_1's l1: 0.556918\n",
      "[500]\ttraining's l1: 0.746401\tvalid_1's l1: 0.556467\n",
      "[600]\ttraining's l1: 0.746109\tvalid_1's l1: 0.556232\n",
      "[700]\ttraining's l1: 0.745596\tvalid_1's l1: 0.555841\n"
     ]
    },
    {
     "name": "stderr",
     "output_type": "stream",
     "text": [
      "\u001b[32m[I 2021-07-06 12:04:57,385]\u001b[0m Trial 10 finished with value: -0.5558382562257036 and parameters: {'max_depth': 2, 'min_child_weight': 1, 'subsample': 0.5, 'colsample_bytree': 0.6, 'reg_lambda': 0.0017005161966976944, 'reg_alpha': 911.6588515537173, 'feature_fraction': 0.7490906744632025, 'bagging_fraction': 0.7667083453451747, 'bagging_freq': 9}. Best is trial 4 with value: -0.5478379658151887.\u001b[0m\n"
     ]
    },
    {
     "name": "stdout",
     "output_type": "stream",
     "text": [
      "[800]\ttraining's l1: 0.745575\tvalid_1's l1: 0.555868\n",
      "Early stopping, best iteration is:\n",
      "[700]\ttraining's l1: 0.745596\tvalid_1's l1: 0.555841\n",
      "[LightGBM] [Warning] feature_fraction is set=0.7239763335570506, colsample_bytree=0.6 will be ignored. Current value: feature_fraction=0.7239763335570506\n",
      "[LightGBM] [Warning] bagging_fraction is set=0.460184449847305, subsample=0.5 will be ignored. Current value: bagging_fraction=0.460184449847305\n",
      "[LightGBM] [Warning] bagging_freq is set=8, subsample_freq=0 will be ignored. Current value: bagging_freq=8\n",
      "Training until validation scores don't improve for 100 rounds\n",
      "[100]\ttraining's l1: 0.747867\tvalid_1's l1: 0.557291\n",
      "[200]\ttraining's l1: 0.747325\tvalid_1's l1: 0.557043\n",
      "[300]\ttraining's l1: 0.746675\tvalid_1's l1: 0.556386\n",
      "[400]\ttraining's l1: 0.746675\tvalid_1's l1: 0.556386\n",
      "[500]\ttraining's l1: 0.746121\tvalid_1's l1: 0.555834\n",
      "[600]\ttraining's l1: 0.745476\tvalid_1's l1: 0.555494\n",
      "[700]\ttraining's l1: 0.745254\tvalid_1's l1: 0.555282\n",
      "[800]\ttraining's l1: 0.745254\tvalid_1's l1: 0.555282\n",
      "[900]\ttraining's l1: 0.745254\tvalid_1's l1: 0.555282\n"
     ]
    },
    {
     "name": "stderr",
     "output_type": "stream",
     "text": [
      "\u001b[32m[I 2021-07-06 12:05:14,024]\u001b[0m Trial 11 finished with value: -0.5552815984930933 and parameters: {'max_depth': 2, 'min_child_weight': 1, 'subsample': 0.5, 'colsample_bytree': 0.6, 'reg_lambda': 10.939454967035815, 'reg_alpha': 3.185725203496217, 'feature_fraction': 0.7239763335570506, 'bagging_fraction': 0.460184449847305, 'bagging_freq': 8}. Best is trial 4 with value: -0.5478379658151887.\u001b[0m\n"
     ]
    },
    {
     "name": "stdout",
     "output_type": "stream",
     "text": [
      "Early stopping, best iteration is:\n",
      "[890]\ttraining's l1: 0.745254\tvalid_1's l1: 0.555282\n",
      "[LightGBM] [Warning] feature_fraction is set=0.4135346157531913, colsample_bytree=0.6 will be ignored. Current value: feature_fraction=0.4135346157531913\n",
      "[LightGBM] [Warning] bagging_fraction is set=0.5159851145443884, subsample=0.6 will be ignored. Current value: bagging_fraction=0.5159851145443884\n",
      "[LightGBM] [Warning] bagging_freq is set=5, subsample_freq=0 will be ignored. Current value: bagging_freq=5\n",
      "Training until validation scores don't improve for 100 rounds\n",
      "[100]\ttraining's l1: 0.739007\tvalid_1's l1: 0.550462\n",
      "[200]\ttraining's l1: 0.737736\tvalid_1's l1: 0.549291\n",
      "[300]\ttraining's l1: 0.737457\tvalid_1's l1: 0.549068\n",
      "[400]\ttraining's l1: 0.737048\tvalid_1's l1: 0.548423\n",
      "[500]\ttraining's l1: 0.736642\tvalid_1's l1: 0.548145\n",
      "[600]\ttraining's l1: 0.736575\tvalid_1's l1: 0.548031\n",
      "[700]\ttraining's l1: 0.736502\tvalid_1's l1: 0.547916\n",
      "[800]\ttraining's l1: 0.735568\tvalid_1's l1: 0.546598\n",
      "Early stopping, best iteration is:\n",
      "[789]\ttraining's l1: 0.73557\tvalid_1's l1: 0.546598\n"
     ]
    },
    {
     "name": "stderr",
     "output_type": "stream",
     "text": [
      "\u001b[32m[I 2021-07-06 12:05:38,021]\u001b[0m Trial 12 finished with value: -0.5465956735370056 and parameters: {'max_depth': 6, 'min_child_weight': 4, 'subsample': 0.6, 'colsample_bytree': 0.6, 'reg_lambda': 0.29526696607428504, 'reg_alpha': 1.9088345631037167, 'feature_fraction': 0.4135346157531913, 'bagging_fraction': 0.5159851145443884, 'bagging_freq': 5}. Best is trial 12 with value: -0.5465956735370056.\u001b[0m\n"
     ]
    },
    {
     "name": "stdout",
     "output_type": "stream",
     "text": [
      "[LightGBM] [Warning] feature_fraction is set=0.4100943839717699, colsample_bytree=0.6 will be ignored. Current value: feature_fraction=0.4100943839717699\n",
      "[LightGBM] [Warning] bagging_fraction is set=0.7409620895021027, subsample=0.5 will be ignored. Current value: bagging_fraction=0.7409620895021027\n",
      "[LightGBM] [Warning] bagging_freq is set=6, subsample_freq=0 will be ignored. Current value: bagging_freq=6\n",
      "Training until validation scores don't improve for 100 rounds\n",
      "[100]\ttraining's l1: 0.738043\tvalid_1's l1: 0.549207\n",
      "[200]\ttraining's l1: 0.737096\tvalid_1's l1: 0.548353\n",
      "[300]\ttraining's l1: 0.737034\tvalid_1's l1: 0.54835\n"
     ]
    },
    {
     "name": "stderr",
     "output_type": "stream",
     "text": [
      "\u001b[32m[I 2021-07-06 12:05:49,372]\u001b[0m Trial 13 finished with value: -0.5483039839945902 and parameters: {'max_depth': 5, 'min_child_weight': 11, 'subsample': 0.5, 'colsample_bytree': 0.6, 'reg_lambda': 0.12640385333152374, 'reg_alpha': 0.3927591326962, 'feature_fraction': 0.4100943839717699, 'bagging_fraction': 0.7409620895021027, 'bagging_freq': 6}. Best is trial 12 with value: -0.5465956735370056.\u001b[0m\n"
     ]
    },
    {
     "name": "stdout",
     "output_type": "stream",
     "text": [
      "Early stopping, best iteration is:\n",
      "[222]\ttraining's l1: 0.737066\tvalid_1's l1: 0.548325\n",
      "[LightGBM] [Warning] feature_fraction is set=0.4121160325205336, colsample_bytree=0.8 will be ignored. Current value: feature_fraction=0.4121160325205336\n",
      "[LightGBM] [Warning] bagging_fraction is set=0.40056371143332437, subsample=0.8 will be ignored. Current value: bagging_fraction=0.40056371143332437\n",
      "[LightGBM] [Warning] bagging_freq is set=4, subsample_freq=0 will be ignored. Current value: bagging_freq=4\n",
      "Training until validation scores don't improve for 100 rounds\n",
      "[100]\ttraining's l1: 0.742662\tvalid_1's l1: 0.554444\n",
      "[200]\ttraining's l1: 0.74104\tvalid_1's l1: 0.55337\n",
      "[300]\ttraining's l1: 0.740667\tvalid_1's l1: 0.552995\n",
      "[400]\ttraining's l1: 0.740373\tvalid_1's l1: 0.55261\n",
      "[500]\ttraining's l1: 0.740262\tvalid_1's l1: 0.55255\n",
      "[600]\ttraining's l1: 0.740213\tvalid_1's l1: 0.55251\n",
      "[700]\ttraining's l1: 0.739924\tvalid_1's l1: 0.552701\n"
     ]
    },
    {
     "name": "stderr",
     "output_type": "stream",
     "text": [
      "\u001b[32m[I 2021-07-06 12:06:06,548]\u001b[0m Trial 14 finished with value: -0.5524964460850625 and parameters: {'max_depth': 5, 'min_child_weight': 2, 'subsample': 0.8, 'colsample_bytree': 0.8, 'reg_lambda': 0.0072697389622955, 'reg_alpha': 269.69718797436144, 'feature_fraction': 0.4121160325205336, 'bagging_fraction': 0.40056371143332437, 'bagging_freq': 4}. Best is trial 12 with value: -0.5465956735370056.\u001b[0m\n"
     ]
    },
    {
     "name": "stdout",
     "output_type": "stream",
     "text": [
      "Early stopping, best iteration is:\n",
      "[616]\ttraining's l1: 0.740205\tvalid_1's l1: 0.552499\n",
      "[LightGBM] [Warning] feature_fraction is set=0.999344424719946, colsample_bytree=0.6 will be ignored. Current value: feature_fraction=0.999344424719946\n",
      "[LightGBM] [Warning] bagging_fraction is set=0.6866094884030374, subsample=0.8 will be ignored. Current value: bagging_fraction=0.6866094884030374\n",
      "[LightGBM] [Warning] bagging_freq is set=8, subsample_freq=0 will be ignored. Current value: bagging_freq=8\n",
      "Training until validation scores don't improve for 100 rounds\n",
      "[100]\ttraining's l1: 0.73436\tvalid_1's l1: 0.547493\n",
      "[200]\ttraining's l1: 0.732251\tvalid_1's l1: 0.545897\n",
      "[300]\ttraining's l1: 0.731703\tvalid_1's l1: 0.545748\n",
      "[400]\ttraining's l1: 0.731426\tvalid_1's l1: 0.545694\n",
      "[500]\ttraining's l1: 0.731073\tvalid_1's l1: 0.545431\n",
      "[600]\ttraining's l1: 0.730852\tvalid_1's l1: 0.545452\n",
      "[700]\ttraining's l1: 0.730599\tvalid_1's l1: 0.545289\n",
      "[800]\ttraining's l1: 0.73033\tvalid_1's l1: 0.545414\n",
      "Early stopping, best iteration is:\n",
      "[703]\ttraining's l1: 0.730599\tvalid_1's l1: 0.545289\n"
     ]
    },
    {
     "name": "stderr",
     "output_type": "stream",
     "text": [
      "\u001b[32m[I 2021-07-06 12:06:29,471]\u001b[0m Trial 15 finished with value: -0.5452843204789506 and parameters: {'max_depth': 5, 'min_child_weight': 8, 'subsample': 0.8, 'colsample_bytree': 0.6, 'reg_lambda': 0.19132404475789253, 'reg_alpha': 2.9729850250397, 'feature_fraction': 0.999344424719946, 'bagging_fraction': 0.6866094884030374, 'bagging_freq': 8}. Best is trial 15 with value: -0.5452843204789506.\u001b[0m\n"
     ]
    },
    {
     "name": "stdout",
     "output_type": "stream",
     "text": [
      "[LightGBM] [Warning] feature_fraction is set=0.9674895580665426, colsample_bytree=0.5 will be ignored. Current value: feature_fraction=0.9674895580665426\n",
      "[LightGBM] [Warning] bagging_fraction is set=0.7859973037599717, subsample=0.8 will be ignored. Current value: bagging_fraction=0.7859973037599717\n",
      "[LightGBM] [Warning] bagging_freq is set=10, subsample_freq=0 will be ignored. Current value: bagging_freq=10\n",
      "Training until validation scores don't improve for 100 rounds\n",
      "[100]\ttraining's l1: 0.755357\tvalid_1's l1: 0.567117\n",
      "[200]\ttraining's l1: 0.754958\tvalid_1's l1: 0.566767\n"
     ]
    },
    {
     "name": "stderr",
     "output_type": "stream",
     "text": [
      "\u001b[32m[I 2021-07-06 12:06:36,767]\u001b[0m Trial 16 finished with value: -0.5667524185723056 and parameters: {'max_depth': 1, 'min_child_weight': 8, 'subsample': 0.8, 'colsample_bytree': 0.5, 'reg_lambda': 0.209551096932945, 'reg_alpha': 0.08920313964750268, 'feature_fraction': 0.9674895580665426, 'bagging_fraction': 0.7859973037599717, 'bagging_freq': 10}. Best is trial 15 with value: -0.5452843204789506.\u001b[0m\n"
     ]
    },
    {
     "name": "stdout",
     "output_type": "stream",
     "text": [
      "Early stopping, best iteration is:\n",
      "[182]\ttraining's l1: 0.754958\tvalid_1's l1: 0.566752\n",
      "[LightGBM] [Warning] feature_fraction is set=0.9748909623261555, colsample_bytree=0.8 will be ignored. Current value: feature_fraction=0.9748909623261555\n",
      "[LightGBM] [Warning] bagging_fraction is set=0.6845930181244524, subsample=0.8 will be ignored. Current value: bagging_fraction=0.6845930181244524\n",
      "[LightGBM] [Warning] bagging_freq is set=8, subsample_freq=0 will be ignored. Current value: bagging_freq=8\n",
      "Training until validation scores don't improve for 100 rounds\n",
      "[100]\ttraining's l1: 0.741106\tvalid_1's l1: 0.552661\n"
     ]
    },
    {
     "name": "stderr",
     "output_type": "stream",
     "text": [
      "\u001b[32m[I 2021-07-06 12:06:43,260]\u001b[0m Trial 17 finished with value: -0.5525606965584845 and parameters: {'max_depth': 7, 'min_child_weight': 13, 'subsample': 0.8, 'colsample_bytree': 0.8, 'reg_lambda': 7.300572868606857, 'reg_alpha': 2.2471263158358834, 'feature_fraction': 0.9748909623261555, 'bagging_fraction': 0.6845930181244524, 'bagging_freq': 8}. Best is trial 15 with value: -0.5452843204789506.\u001b[0m\n"
     ]
    },
    {
     "name": "stdout",
     "output_type": "stream",
     "text": [
      "Early stopping, best iteration is:\n",
      "[78]\ttraining's l1: 0.74124\tvalid_1's l1: 0.552561\n",
      "[LightGBM] [Warning] feature_fraction is set=0.8410754043018591, colsample_bytree=0.6 will be ignored. Current value: feature_fraction=0.8410754043018591\n",
      "[LightGBM] [Warning] bagging_fraction is set=0.8912366963417129, subsample=0.8 will be ignored. Current value: bagging_fraction=0.8912366963417129\n",
      "[LightGBM] [Warning] bagging_freq is set=8, subsample_freq=0 will be ignored. Current value: bagging_freq=8\n",
      "Training until validation scores don't improve for 100 rounds\n",
      "[100]\ttraining's l1: 0.742411\tvalid_1's l1: 0.553424\n",
      "[200]\ttraining's l1: 0.741843\tvalid_1's l1: 0.553079\n"
     ]
    },
    {
     "name": "stderr",
     "output_type": "stream",
     "text": [
      "\u001b[32m[I 2021-07-06 12:06:53,646]\u001b[0m Trial 18 finished with value: -0.5530776389765126 and parameters: {'max_depth': 13, 'min_child_weight': 3, 'subsample': 0.8, 'colsample_bytree': 0.6, 'reg_lambda': 492.94882509573813, 'reg_alpha': 0.0030327455755746833, 'feature_fraction': 0.8410754043018591, 'bagging_fraction': 0.8912366963417129, 'bagging_freq': 8}. Best is trial 15 with value: -0.5452843204789506.\u001b[0m\n"
     ]
    },
    {
     "name": "stdout",
     "output_type": "stream",
     "text": [
      "Early stopping, best iteration is:\n",
      "[167]\ttraining's l1: 0.741847\tvalid_1's l1: 0.553078\n",
      "[LightGBM] [Warning] feature_fraction is set=0.6627098011630849, colsample_bytree=0.7 will be ignored. Current value: feature_fraction=0.6627098011630849\n",
      "[LightGBM] [Warning] bagging_fraction is set=0.4074189299349803, subsample=0.9 will be ignored. Current value: bagging_fraction=0.4074189299349803\n",
      "[LightGBM] [Warning] bagging_freq is set=4, subsample_freq=0 will be ignored. Current value: bagging_freq=4\n",
      "Training until validation scores don't improve for 100 rounds\n",
      "[100]\ttraining's l1: 0.744648\tvalid_1's l1: 0.555135\n",
      "[200]\ttraining's l1: 0.742822\tvalid_1's l1: 0.553833\n",
      "[300]\ttraining's l1: 0.741837\tvalid_1's l1: 0.553064\n",
      "[400]\ttraining's l1: 0.740663\tvalid_1's l1: 0.551444\n",
      "[500]\ttraining's l1: 0.739904\tvalid_1's l1: 0.550709\n"
     ]
    },
    {
     "name": "stderr",
     "output_type": "stream",
     "text": [
      "\u001b[32m[I 2021-07-06 12:07:05,970]\u001b[0m Trial 19 finished with value: -0.5506981757574427 and parameters: {'max_depth': 3, 'min_child_weight': 6, 'subsample': 0.9, 'colsample_bytree': 0.7, 'reg_lambda': 2.135370830440511, 'reg_alpha': 0.01919239492044052, 'feature_fraction': 0.6627098011630849, 'bagging_fraction': 0.4074189299349803, 'bagging_freq': 4}. Best is trial 15 with value: -0.5452843204789506.\u001b[0m\n"
     ]
    },
    {
     "name": "stdout",
     "output_type": "stream",
     "text": [
      "Early stopping, best iteration is:\n",
      "[459]\ttraining's l1: 0.73991\tvalid_1's l1: 0.5507\n",
      "[LightGBM] [Warning] feature_fraction is set=0.8781755099507043, colsample_bytree=0.5 will be ignored. Current value: feature_fraction=0.8781755099507043\n",
      "[LightGBM] [Warning] bagging_fraction is set=0.49611472784693966, subsample=0.7 will be ignored. Current value: bagging_fraction=0.49611472784693966\n",
      "[LightGBM] [Warning] bagging_freq is set=7, subsample_freq=0 will be ignored. Current value: bagging_freq=7\n",
      "Training until validation scores don't improve for 100 rounds\n",
      "[100]\ttraining's l1: 0.742556\tvalid_1's l1: 0.553605\n",
      "[200]\ttraining's l1: 0.74191\tvalid_1's l1: 0.552991\n",
      "[300]\ttraining's l1: 0.740747\tvalid_1's l1: 0.552176\n",
      "[400]\ttraining's l1: 0.740382\tvalid_1's l1: 0.551819\n",
      "[500]\ttraining's l1: 0.74011\tvalid_1's l1: 0.551567\n",
      "[600]\ttraining's l1: 0.739688\tvalid_1's l1: 0.550949\n",
      "Early stopping, best iteration is:\n",
      "[560]\ttraining's l1: 0.739692\tvalid_1's l1: 0.550946\n"
     ]
    },
    {
     "name": "stderr",
     "output_type": "stream",
     "text": [
      "\u001b[32m[I 2021-07-06 12:07:22,564]\u001b[0m Trial 20 finished with value: -0.5509455056902416 and parameters: {'max_depth': 8, 'min_child_weight': 9, 'subsample': 0.7, 'colsample_bytree': 0.5, 'reg_lambda': 0.18347873525532216, 'reg_alpha': 0.8144816966188307, 'feature_fraction': 0.8781755099507043, 'bagging_fraction': 0.49611472784693966, 'bagging_freq': 7}. Best is trial 15 with value: -0.5452843204789506.\u001b[0m\n"
     ]
    },
    {
     "name": "stdout",
     "output_type": "stream",
     "text": [
      "[LightGBM] [Warning] feature_fraction is set=0.4575514050405251, colsample_bytree=0.6 will be ignored. Current value: feature_fraction=0.4575514050405251\n",
      "[LightGBM] [Warning] bagging_fraction is set=0.6099931154801913, subsample=0.6 will be ignored. Current value: bagging_fraction=0.6099931154801913\n",
      "[LightGBM] [Warning] bagging_freq is set=7, subsample_freq=0 will be ignored. Current value: bagging_freq=7\n",
      "Training until validation scores don't improve for 100 rounds\n",
      "[100]\ttraining's l1: 0.738199\tvalid_1's l1: 0.549461\n",
      "[200]\ttraining's l1: 0.737528\tvalid_1's l1: 0.549253\n"
     ]
    },
    {
     "name": "stderr",
     "output_type": "stream",
     "text": [
      "\u001b[32m[I 2021-07-06 12:07:30,580]\u001b[0m Trial 21 finished with value: -0.549197933803214 and parameters: {'max_depth': 5, 'min_child_weight': 7, 'subsample': 0.6, 'colsample_bytree': 0.6, 'reg_lambda': 0.04424784992015431, 'reg_alpha': 7.469183941067398, 'feature_fraction': 0.4575514050405251, 'bagging_fraction': 0.6099931154801913, 'bagging_freq': 7}. Best is trial 15 with value: -0.5452843204789506.\u001b[0m\n"
     ]
    },
    {
     "name": "stdout",
     "output_type": "stream",
     "text": [
      "Early stopping, best iteration is:\n",
      "[140]\ttraining's l1: 0.737611\tvalid_1's l1: 0.549218\n",
      "[LightGBM] [Warning] feature_fraction is set=0.6488616065454437, colsample_bytree=0.6 will be ignored. Current value: feature_fraction=0.6488616065454437\n",
      "[LightGBM] [Warning] bagging_fraction is set=0.7113591054121418, subsample=0.6 will be ignored. Current value: bagging_fraction=0.7113591054121418\n",
      "[LightGBM] [Warning] bagging_freq is set=9, subsample_freq=0 will be ignored. Current value: bagging_freq=9\n",
      "Training until validation scores don't improve for 100 rounds\n",
      "[100]\ttraining's l1: 0.742903\tvalid_1's l1: 0.553629\n",
      "[200]\ttraining's l1: 0.741953\tvalid_1's l1: 0.552716\n",
      "[300]\ttraining's l1: 0.74099\tvalid_1's l1: 0.551469\n",
      "[400]\ttraining's l1: 0.740495\tvalid_1's l1: 0.550916\n",
      "[500]\ttraining's l1: 0.73977\tvalid_1's l1: 0.550493\n",
      "[600]\ttraining's l1: 0.739368\tvalid_1's l1: 0.550124\n"
     ]
    },
    {
     "name": "stderr",
     "output_type": "stream",
     "text": [
      "\u001b[32m[I 2021-07-06 12:07:49,015]\u001b[0m Trial 22 finished with value: -0.5501113162476741 and parameters: {'max_depth': 4, 'min_child_weight': 4, 'subsample': 0.6, 'colsample_bytree': 0.6, 'reg_lambda': 0.005541892901905913, 'reg_alpha': 12.119735069017638, 'feature_fraction': 0.6488616065454437, 'bagging_fraction': 0.7113591054121418, 'bagging_freq': 9}. Best is trial 15 with value: -0.5452843204789506.\u001b[0m\n"
     ]
    },
    {
     "name": "stdout",
     "output_type": "stream",
     "text": [
      "Early stopping, best iteration is:\n",
      "[542]\ttraining's l1: 0.739377\tvalid_1's l1: 0.550113\n",
      "[LightGBM] [Warning] feature_fraction is set=0.4950358132810881, colsample_bytree=0.6 will be ignored. Current value: feature_fraction=0.4950358132810881\n",
      "[LightGBM] [Warning] bagging_fraction is set=0.5796630992849735, subsample=0.5 will be ignored. Current value: bagging_fraction=0.5796630992849735\n",
      "[LightGBM] [Warning] bagging_freq is set=6, subsample_freq=0 will be ignored. Current value: bagging_freq=6\n",
      "Training until validation scores don't improve for 100 rounds\n",
      "[100]\ttraining's l1: 0.739386\tvalid_1's l1: 0.551423\n",
      "[200]\ttraining's l1: 0.738882\tvalid_1's l1: 0.550987\n",
      "[300]\ttraining's l1: 0.73866\tvalid_1's l1: 0.550712\n",
      "[400]\ttraining's l1: 0.738075\tvalid_1's l1: 0.550383\n"
     ]
    },
    {
     "name": "stderr",
     "output_type": "stream",
     "text": [
      "\u001b[32m[I 2021-07-06 12:08:04,134]\u001b[0m Trial 23 finished with value: -0.5503679709381455 and parameters: {'max_depth': 6, 'min_child_weight': 10, 'subsample': 0.5, 'colsample_bytree': 0.6, 'reg_lambda': 0.39751347275897325, 'reg_alpha': 98.96328113077911, 'feature_fraction': 0.4950358132810881, 'bagging_fraction': 0.5796630992849735, 'bagging_freq': 6}. Best is trial 15 with value: -0.5452843204789506.\u001b[0m\n"
     ]
    },
    {
     "name": "stdout",
     "output_type": "stream",
     "text": [
      "Early stopping, best iteration is:\n",
      "[378]\ttraining's l1: 0.738086\tvalid_1's l1: 0.550369\n",
      "[LightGBM] [Warning] feature_fraction is set=0.45275889005164405, colsample_bytree=0.7 will be ignored. Current value: feature_fraction=0.45275889005164405\n",
      "[LightGBM] [Warning] bagging_fraction is set=0.6610322767227008, subsample=0.7 will be ignored. Current value: bagging_fraction=0.6610322767227008\n",
      "[LightGBM] [Warning] bagging_freq is set=9, subsample_freq=0 will be ignored. Current value: bagging_freq=9\n",
      "Training until validation scores don't improve for 100 rounds\n",
      "[100]\ttraining's l1: 0.753555\tvalid_1's l1: 0.564838\n"
     ]
    },
    {
     "name": "stderr",
     "output_type": "stream",
     "text": [
      "\u001b[32m[I 2021-07-06 12:08:10,077]\u001b[0m Trial 24 finished with value: -0.5648299929060777 and parameters: {'max_depth': 1, 'min_child_weight': 6, 'subsample': 0.7, 'colsample_bytree': 0.7, 'reg_lambda': 0.07361302398773333, 'reg_alpha': 1.9697367459489872, 'feature_fraction': 0.45275889005164405, 'bagging_fraction': 0.6610322767227008, 'bagging_freq': 9}. Best is trial 15 with value: -0.5452843204789506.\u001b[0m\n"
     ]
    },
    {
     "name": "stdout",
     "output_type": "stream",
     "text": [
      "Early stopping, best iteration is:\n",
      "[90]\ttraining's l1: 0.753557\tvalid_1's l1: 0.56483\n",
      "[LightGBM] [Warning] feature_fraction is set=0.7937148112133682, colsample_bytree=0.6 will be ignored. Current value: feature_fraction=0.7937148112133682\n",
      "[LightGBM] [Warning] bagging_fraction is set=0.813311080093342, subsample=0.8 will be ignored. Current value: bagging_fraction=0.813311080093342\n",
      "[LightGBM] [Warning] bagging_freq is set=7, subsample_freq=0 will be ignored. Current value: bagging_freq=7\n",
      "Training until validation scores don't improve for 100 rounds\n",
      "[100]\ttraining's l1: 0.742487\tvalid_1's l1: 0.552991\n",
      "[200]\ttraining's l1: 0.74243\tvalid_1's l1: 0.552928\n",
      "[300]\ttraining's l1: 0.742388\tvalid_1's l1: 0.552898\n",
      "[400]\ttraining's l1: 0.742171\tvalid_1's l1: 0.552574\n"
     ]
    },
    {
     "name": "stderr",
     "output_type": "stream",
     "text": [
      "\u001b[32m[I 2021-07-06 12:08:23,130]\u001b[0m Trial 25 finished with value: -0.5525704187055943 and parameters: {'max_depth': 3, 'min_child_weight': 8, 'subsample': 0.8, 'colsample_bytree': 0.6, 'reg_lambda': 0.013170663901747048, 'reg_alpha': 0.2634213555787715, 'feature_fraction': 0.7937148112133682, 'bagging_fraction': 0.813311080093342, 'bagging_freq': 7}. Best is trial 15 with value: -0.5452843204789506.\u001b[0m\n"
     ]
    },
    {
     "name": "stdout",
     "output_type": "stream",
     "text": [
      "Early stopping, best iteration is:\n",
      "[357]\ttraining's l1: 0.742175\tvalid_1's l1: 0.552571\n",
      "[LightGBM] [Warning] feature_fraction is set=0.6368888857284737, colsample_bytree=0.5 will be ignored. Current value: feature_fraction=0.6368888857284737\n",
      "[LightGBM] [Warning] bagging_fraction is set=0.7059583054878522, subsample=0.6 will be ignored. Current value: bagging_fraction=0.7059583054878522\n",
      "[LightGBM] [Warning] bagging_freq is set=5, subsample_freq=0 will be ignored. Current value: bagging_freq=5\n",
      "Training until validation scores don't improve for 100 rounds\n",
      "[100]\ttraining's l1: 0.741794\tvalid_1's l1: 0.553028\n",
      "[200]\ttraining's l1: 0.741082\tvalid_1's l1: 0.552422\n"
     ]
    },
    {
     "name": "stderr",
     "output_type": "stream",
     "text": [
      "\u001b[32m[I 2021-07-06 12:08:33,494]\u001b[0m Trial 26 finished with value: -0.5524146439556967 and parameters: {'max_depth': 8, 'min_child_weight': 12, 'subsample': 0.6, 'colsample_bytree': 0.5, 'reg_lambda': 3.718110600926722, 'reg_alpha': 17.800464113231747, 'feature_fraction': 0.6368888857284737, 'bagging_fraction': 0.7059583054878522, 'bagging_freq': 5}. Best is trial 15 with value: -0.5452843204789506.\u001b[0m\n"
     ]
    },
    {
     "name": "stdout",
     "output_type": "stream",
     "text": [
      "Early stopping, best iteration is:\n",
      "[164]\ttraining's l1: 0.74109\tvalid_1's l1: 0.552415\n",
      "[LightGBM] [Warning] feature_fraction is set=0.9104341162328144, colsample_bytree=0.6 will be ignored. Current value: feature_fraction=0.9104341162328144\n",
      "[LightGBM] [Warning] bagging_fraction is set=0.5731660873763745, subsample=0.7 will be ignored. Current value: bagging_fraction=0.5731660873763745\n",
      "[LightGBM] [Warning] bagging_freq is set=4, subsample_freq=0 will be ignored. Current value: bagging_freq=4\n",
      "Training until validation scores don't improve for 100 rounds\n",
      "[100]\ttraining's l1: 0.738246\tvalid_1's l1: 0.550541\n",
      "[200]\ttraining's l1: 0.73643\tvalid_1's l1: 0.549179\n",
      "[300]\ttraining's l1: 0.733862\tvalid_1's l1: 0.547511\n",
      "[400]\ttraining's l1: 0.732976\tvalid_1's l1: 0.546929\n",
      "[500]\ttraining's l1: 0.732547\tvalid_1's l1: 0.546589\n"
     ]
    },
    {
     "name": "stderr",
     "output_type": "stream",
     "text": [
      "\u001b[32m[I 2021-07-06 12:08:51,506]\u001b[0m Trial 27 finished with value: -0.5465871412737892 and parameters: {'max_depth': 6, 'min_child_weight': 3, 'subsample': 0.7, 'colsample_bytree': 0.6, 'reg_lambda': 0.35725039959725924, 'reg_alpha': 1.1703266030552382, 'feature_fraction': 0.9104341162328144, 'bagging_fraction': 0.5731660873763745, 'bagging_freq': 4}. Best is trial 15 with value: -0.5452843204789506.\u001b[0m\n"
     ]
    },
    {
     "name": "stdout",
     "output_type": "stream",
     "text": [
      "Early stopping, best iteration is:\n",
      "[499]\ttraining's l1: 0.732548\tvalid_1's l1: 0.546589\n",
      "[LightGBM] [Warning] feature_fraction is set=0.9227427406802874, colsample_bytree=0.7 will be ignored. Current value: feature_fraction=0.9227427406802874\n",
      "[LightGBM] [Warning] bagging_fraction is set=0.5580437977016225, subsample=0.8 will be ignored. Current value: bagging_fraction=0.5580437977016225\n",
      "[LightGBM] [Warning] bagging_freq is set=4, subsample_freq=0 will be ignored. Current value: bagging_freq=4\n",
      "Training until validation scores don't improve for 100 rounds\n",
      "[100]\ttraining's l1: 0.742459\tvalid_1's l1: 0.553679\n",
      "[200]\ttraining's l1: 0.742325\tvalid_1's l1: 0.553532\n",
      "[300]\ttraining's l1: 0.741708\tvalid_1's l1: 0.553057\n",
      "[400]\ttraining's l1: 0.7417\tvalid_1's l1: 0.553045\n",
      "[500]\ttraining's l1: 0.741694\tvalid_1's l1: 0.553042\n",
      "[600]\ttraining's l1: 0.741176\tvalid_1's l1: 0.552592\n",
      "[700]\ttraining's l1: 0.740894\tvalid_1's l1: 0.552597\n",
      "Early stopping, best iteration is:\n",
      "[681]\ttraining's l1: 0.741147\tvalid_1's l1: 0.552484\n"
     ]
    },
    {
     "name": "stderr",
     "output_type": "stream",
     "text": [
      "\u001b[32m[I 2021-07-06 12:09:14,632]\u001b[0m Trial 28 finished with value: -0.5524822057033841 and parameters: {'max_depth': 12, 'min_child_weight': 3, 'subsample': 0.8, 'colsample_bytree': 0.7, 'reg_lambda': 36.99537429933695, 'reg_alpha': 1.2949987115877866, 'feature_fraction': 0.9227427406802874, 'bagging_fraction': 0.5580437977016225, 'bagging_freq': 4}. Best is trial 15 with value: -0.5452843204789506.\u001b[0m\n"
     ]
    },
    {
     "name": "stdout",
     "output_type": "stream",
     "text": [
      "[LightGBM] [Warning] feature_fraction is set=0.9279497000581055, colsample_bytree=0.7 will be ignored. Current value: feature_fraction=0.9279497000581055\n",
      "[LightGBM] [Warning] bagging_fraction is set=0.4929990516813484, subsample=0.7 will be ignored. Current value: bagging_fraction=0.4929990516813484\n",
      "[LightGBM] [Warning] bagging_freq is set=3, subsample_freq=0 will be ignored. Current value: bagging_freq=3\n",
      "Training until validation scores don't improve for 100 rounds\n",
      "[100]\ttraining's l1: 0.741796\tvalid_1's l1: 0.553239\n"
     ]
    },
    {
     "name": "stderr",
     "output_type": "stream",
     "text": [
      "\u001b[32m[I 2021-07-06 12:09:20,933]\u001b[0m Trial 29 finished with value: -0.5532307775653387 and parameters: {'max_depth': 9, 'min_child_weight': 2, 'subsample': 0.7, 'colsample_bytree': 0.7, 'reg_lambda': 0.39590121332138156, 'reg_alpha': 0.27977978136866055, 'feature_fraction': 0.9279497000581055, 'bagging_fraction': 0.4929990516813484, 'bagging_freq': 3}. Best is trial 15 with value: -0.5452843204789506.\u001b[0m\n"
     ]
    },
    {
     "name": "stdout",
     "output_type": "stream",
     "text": [
      "Early stopping, best iteration is:\n",
      "[65]\ttraining's l1: 0.741803\tvalid_1's l1: 0.553232\n",
      "[LightGBM] [Warning] feature_fraction is set=0.9881251538681958, colsample_bytree=0.5 will be ignored. Current value: feature_fraction=0.9881251538681958\n",
      "[LightGBM] [Warning] bagging_fraction is set=0.5597838744112527, subsample=0.7 will be ignored. Current value: bagging_fraction=0.5597838744112527\n",
      "[LightGBM] [Warning] bagging_freq is set=5, subsample_freq=0 will be ignored. Current value: bagging_freq=5\n",
      "Training until validation scores don't improve for 100 rounds\n",
      "[100]\ttraining's l1: 0.741336\tvalid_1's l1: 0.55262\n",
      "[200]\ttraining's l1: 0.741322\tvalid_1's l1: 0.552639\n"
     ]
    },
    {
     "name": "stderr",
     "output_type": "stream",
     "text": [
      "\u001b[32m[I 2021-07-06 12:09:28,111]\u001b[0m Trial 30 finished with value: -0.5526176510559999 and parameters: {'max_depth': 7, 'min_child_weight': 19, 'subsample': 0.7, 'colsample_bytree': 0.5, 'reg_lambda': 1.2245857208896909, 'reg_alpha': 47.96062689659253, 'feature_fraction': 0.9881251538681958, 'bagging_fraction': 0.5597838744112527, 'bagging_freq': 5}. Best is trial 15 with value: -0.5452843204789506.\u001b[0m\n"
     ]
    },
    {
     "name": "stdout",
     "output_type": "stream",
     "text": [
      "Early stopping, best iteration is:\n",
      "[115]\ttraining's l1: 0.741335\tvalid_1's l1: 0.552619\n",
      "[LightGBM] [Warning] feature_fraction is set=0.9325453231101307, colsample_bytree=0.6 will be ignored. Current value: feature_fraction=0.9325453231101307\n",
      "[LightGBM] [Warning] bagging_fraction is set=0.6387948479548078, subsample=0.6 will be ignored. Current value: bagging_fraction=0.6387948479548078\n",
      "[LightGBM] [Warning] bagging_freq is set=6, subsample_freq=0 will be ignored. Current value: bagging_freq=6\n",
      "Training until validation scores don't improve for 100 rounds\n",
      "[100]\ttraining's l1: 0.737002\tvalid_1's l1: 0.548594\n",
      "[200]\ttraining's l1: 0.735442\tvalid_1's l1: 0.547888\n"
     ]
    },
    {
     "name": "stderr",
     "output_type": "stream",
     "text": [
      "\u001b[32m[I 2021-07-06 12:09:36,654]\u001b[0m Trial 31 finished with value: -0.5476942538087208 and parameters: {'max_depth': 4, 'min_child_weight': 5, 'subsample': 0.6, 'colsample_bytree': 0.6, 'reg_lambda': 0.025164529949115628, 'reg_alpha': 6.271147764226839, 'feature_fraction': 0.9325453231101307, 'bagging_fraction': 0.6387948479548078, 'bagging_freq': 6}. Best is trial 15 with value: -0.5452843204789506.\u001b[0m\n"
     ]
    },
    {
     "name": "stdout",
     "output_type": "stream",
     "text": [
      "Early stopping, best iteration is:\n",
      "[183]\ttraining's l1: 0.735516\tvalid_1's l1: 0.547696\n",
      "[LightGBM] [Warning] feature_fraction is set=0.9261266399447552, colsample_bytree=0.6 will be ignored. Current value: feature_fraction=0.9261266399447552\n",
      "[LightGBM] [Warning] bagging_fraction is set=0.636760274848025, subsample=0.6 will be ignored. Current value: bagging_fraction=0.636760274848025\n",
      "[LightGBM] [Warning] bagging_freq is set=4, subsample_freq=0 will be ignored. Current value: bagging_freq=4\n",
      "Training until validation scores don't improve for 100 rounds\n",
      "[100]\ttraining's l1: 0.740178\tvalid_1's l1: 0.551784\n",
      "[200]\ttraining's l1: 0.738322\tvalid_1's l1: 0.550511\n",
      "[300]\ttraining's l1: 0.737547\tvalid_1's l1: 0.550055\n",
      "[400]\ttraining's l1: 0.736798\tvalid_1's l1: 0.549544\n",
      "[500]\ttraining's l1: 0.736658\tvalid_1's l1: 0.549303\n"
     ]
    },
    {
     "name": "stderr",
     "output_type": "stream",
     "text": [
      "\u001b[32m[I 2021-07-06 12:09:52,652]\u001b[0m Trial 32 finished with value: -0.549282677461976 and parameters: {'max_depth': 3, 'min_child_weight': 5, 'subsample': 0.6, 'colsample_bytree': 0.6, 'reg_lambda': 0.1454675709654261, 'reg_alpha': 4.57331910718354, 'feature_fraction': 0.9261266399447552, 'bagging_fraction': 0.636760274848025, 'bagging_freq': 4}. Best is trial 15 with value: -0.5452843204789506.\u001b[0m\n"
     ]
    },
    {
     "name": "stdout",
     "output_type": "stream",
     "text": [
      "Early stopping, best iteration is:\n",
      "[474]\ttraining's l1: 0.736671\tvalid_1's l1: 0.549284\n",
      "[LightGBM] [Warning] feature_fraction is set=0.8125858043087779, colsample_bytree=0.6 will be ignored. Current value: feature_fraction=0.8125858043087779\n",
      "[LightGBM] [Warning] bagging_fraction is set=0.5186575133661406, subsample=0.7 will be ignored. Current value: bagging_fraction=0.5186575133661406\n",
      "[LightGBM] [Warning] bagging_freq is set=5, subsample_freq=0 will be ignored. Current value: bagging_freq=5\n",
      "Training until validation scores don't improve for 100 rounds\n",
      "[100]\ttraining's l1: 0.739285\tvalid_1's l1: 0.551896\n",
      "[200]\ttraining's l1: 0.739164\tvalid_1's l1: 0.551618\n"
     ]
    },
    {
     "name": "stderr",
     "output_type": "stream",
     "text": [
      "\u001b[32m[I 2021-07-06 12:10:00,435]\u001b[0m Trial 33 finished with value: -0.551610770724933 and parameters: {'max_depth': 6, 'min_child_weight': 3, 'subsample': 0.7, 'colsample_bytree': 0.6, 'reg_lambda': 0.03361964248484256, 'reg_alpha': 1.2250118781201613, 'feature_fraction': 0.8125858043087779, 'bagging_fraction': 0.5186575133661406, 'bagging_freq': 5}. Best is trial 15 with value: -0.5452843204789506.\u001b[0m\n"
     ]
    },
    {
     "name": "stdout",
     "output_type": "stream",
     "text": [
      "Early stopping, best iteration is:\n",
      "[142]\ttraining's l1: 0.739169\tvalid_1's l1: 0.551613\n",
      "[LightGBM] [Warning] feature_fraction is set=0.8871171827825242, colsample_bytree=0.5 will be ignored. Current value: feature_fraction=0.8871171827825242\n",
      "[LightGBM] [Warning] bagging_fraction is set=0.5858584003335017, subsample=0.6 will be ignored. Current value: bagging_fraction=0.5858584003335017\n",
      "[LightGBM] [Warning] bagging_freq is set=6, subsample_freq=0 will be ignored. Current value: bagging_freq=6\n",
      "Training until validation scores don't improve for 100 rounds\n",
      "[100]\ttraining's l1: 0.737316\tvalid_1's l1: 0.549769\n",
      "[200]\ttraining's l1: 0.735091\tvalid_1's l1: 0.54848\n",
      "[300]\ttraining's l1: 0.733818\tvalid_1's l1: 0.547631\n",
      "[400]\ttraining's l1: 0.732438\tvalid_1's l1: 0.5457\n"
     ]
    },
    {
     "name": "stderr",
     "output_type": "stream",
     "text": [
      "\u001b[32m[I 2021-07-06 12:10:13,210]\u001b[0m Trial 34 finished with value: -0.5456771523047499 and parameters: {'max_depth': 4, 'min_child_weight': 6, 'subsample': 0.6, 'colsample_bytree': 0.5, 'reg_lambda': 0.10034872212909705, 'reg_alpha': 8.93278795853463, 'feature_fraction': 0.8871171827825242, 'bagging_fraction': 0.5858584003335017, 'bagging_freq': 6}. Best is trial 15 with value: -0.5452843204789506.\u001b[0m\n"
     ]
    },
    {
     "name": "stdout",
     "output_type": "stream",
     "text": [
      "Early stopping, best iteration is:\n",
      "[383]\ttraining's l1: 0.732468\tvalid_1's l1: 0.54568\n",
      "[LightGBM] [Warning] feature_fraction is set=0.8761579660420131, colsample_bytree=0.5 will be ignored. Current value: feature_fraction=0.8761579660420131\n",
      "[LightGBM] [Warning] bagging_fraction is set=0.4552409993045053, subsample=0.6 will be ignored. Current value: bagging_fraction=0.4552409993045053\n",
      "[LightGBM] [Warning] bagging_freq is set=3, subsample_freq=0 will be ignored. Current value: bagging_freq=3\n",
      "Training until validation scores don't improve for 100 rounds\n",
      "[100]\ttraining's l1: 0.736895\tvalid_1's l1: 0.549042\n",
      "[200]\ttraining's l1: 0.734274\tvalid_1's l1: 0.547545\n",
      "[300]\ttraining's l1: 0.733489\tvalid_1's l1: 0.5471\n",
      "[400]\ttraining's l1: 0.732681\tvalid_1's l1: 0.547012\n"
     ]
    },
    {
     "name": "stderr",
     "output_type": "stream",
     "text": [
      "\u001b[32m[I 2021-07-06 12:10:25,507]\u001b[0m Trial 35 finished with value: -0.546858674006474 and parameters: {'max_depth': 4, 'min_child_weight': 6, 'subsample': 0.6, 'colsample_bytree': 0.5, 'reg_lambda': 0.7054476543696598, 'reg_alpha': 0.8162176469012826, 'feature_fraction': 0.8761579660420131, 'bagging_fraction': 0.4552409993045053, 'bagging_freq': 3}. Best is trial 15 with value: -0.5452843204789506.\u001b[0m\n"
     ]
    },
    {
     "name": "stdout",
     "output_type": "stream",
     "text": [
      "Early stopping, best iteration is:\n",
      "[351]\ttraining's l1: 0.732968\tvalid_1's l1: 0.546861\n",
      "[LightGBM] [Warning] feature_fraction is set=0.9946694367947344, colsample_bytree=0.5 will be ignored. Current value: feature_fraction=0.9946694367947344\n",
      "[LightGBM] [Warning] bagging_fraction is set=0.5825133349954381, subsample=0.7 will be ignored. Current value: bagging_fraction=0.5825133349954381\n",
      "[LightGBM] [Warning] bagging_freq is set=2, subsample_freq=0 will be ignored. Current value: bagging_freq=2\n",
      "Training until validation scores don't improve for 100 rounds\n",
      "[100]\ttraining's l1: 0.742627\tvalid_1's l1: 0.553553\n",
      "[200]\ttraining's l1: 0.742531\tvalid_1's l1: 0.55334\n"
     ]
    },
    {
     "name": "stderr",
     "output_type": "stream",
     "text": [
      "\u001b[32m[I 2021-07-06 12:10:35,622]\u001b[0m Trial 36 finished with value: -0.5533361645465462 and parameters: {'max_depth': 8, 'min_child_weight': 4, 'subsample': 0.7, 'colsample_bytree': 0.5, 'reg_lambda': 0.24970458514608154, 'reg_alpha': 9.460147342506556, 'feature_fraction': 0.9946694367947344, 'bagging_fraction': 0.5825133349954381, 'bagging_freq': 2}. Best is trial 15 with value: -0.5452843204789506.\u001b[0m\n"
     ]
    },
    {
     "name": "stdout",
     "output_type": "stream",
     "text": [
      "Early stopping, best iteration is:\n",
      "[136]\ttraining's l1: 0.742533\tvalid_1's l1: 0.553337\n",
      "[LightGBM] [Warning] feature_fraction is set=0.7679997454716884, colsample_bytree=0.5 will be ignored. Current value: feature_fraction=0.7679997454716884\n",
      "[LightGBM] [Warning] bagging_fraction is set=0.5297381472753494, subsample=0.6 will be ignored. Current value: bagging_fraction=0.5297381472753494\n",
      "[LightGBM] [Warning] bagging_freq is set=5, subsample_freq=0 will be ignored. Current value: bagging_freq=5\n",
      "Training until validation scores don't improve for 100 rounds\n",
      "[100]\ttraining's l1: 0.740335\tvalid_1's l1: 0.552528\n",
      "[200]\ttraining's l1: 0.740108\tvalid_1's l1: 0.552407\n"
     ]
    },
    {
     "name": "stderr",
     "output_type": "stream",
     "text": [
      "\u001b[32m[I 2021-07-06 12:10:43,192]\u001b[0m Trial 37 finished with value: -0.5524004976699798 and parameters: {'max_depth': 6, 'min_child_weight': 8, 'subsample': 0.6, 'colsample_bytree': 0.5, 'reg_lambda': 0.07746199492827158, 'reg_alpha': 114.60205016791737, 'feature_fraction': 0.7679997454716884, 'bagging_fraction': 0.5297381472753494, 'bagging_freq': 5}. Best is trial 15 with value: -0.5452843204789506.\u001b[0m\n"
     ]
    },
    {
     "name": "stdout",
     "output_type": "stream",
     "text": [
      "Early stopping, best iteration is:\n",
      "[149]\ttraining's l1: 0.740113\tvalid_1's l1: 0.552401\n",
      "[LightGBM] [Warning] feature_fraction is set=0.8961456852181973, colsample_bytree=0.7 will be ignored. Current value: feature_fraction=0.8961456852181973\n",
      "[LightGBM] [Warning] bagging_fraction is set=0.6746818912388352, subsample=0.5 will be ignored. Current value: bagging_fraction=0.6746818912388352\n",
      "[LightGBM] [Warning] bagging_freq is set=4, subsample_freq=0 will be ignored. Current value: bagging_freq=4\n",
      "Training until validation scores don't improve for 100 rounds\n",
      "[100]\ttraining's l1: 0.746238\tvalid_1's l1: 0.555942\n"
     ]
    },
    {
     "name": "stderr",
     "output_type": "stream",
     "text": [
      "\u001b[32m[I 2021-07-06 12:10:49,833]\u001b[0m Trial 38 finished with value: -0.5557584998012564 and parameters: {'max_depth': 2, 'min_child_weight': 7, 'subsample': 0.5, 'colsample_bytree': 0.7, 'reg_lambda': 1.8807754028011905, 'reg_alpha': 3.287635681756426, 'feature_fraction': 0.8961456852181973, 'bagging_fraction': 0.6746818912388352, 'bagging_freq': 4}. Best is trial 15 with value: -0.5452843204789506.\u001b[0m\n"
     ]
    },
    {
     "name": "stdout",
     "output_type": "stream",
     "text": [
      "[200]\ttraining's l1: 0.746069\tvalid_1's l1: 0.555775\n",
      "Early stopping, best iteration is:\n",
      "[102]\ttraining's l1: 0.746076\tvalid_1's l1: 0.555759\n",
      "[LightGBM] [Warning] feature_fraction is set=0.9587586374353435, colsample_bytree=0.5 will be ignored. Current value: feature_fraction=0.9587586374353435\n",
      "[LightGBM] [Warning] bagging_fraction is set=0.5965435755689994, subsample=0.8 will be ignored. Current value: bagging_fraction=0.5965435755689994\n",
      "[LightGBM] [Warning] bagging_freq is set=2, subsample_freq=0 will be ignored. Current value: bagging_freq=2\n",
      "Training until validation scores don't improve for 100 rounds\n",
      "[100]\ttraining's l1: 0.742669\tvalid_1's l1: 0.553647\n",
      "[200]\ttraining's l1: 0.740723\tvalid_1's l1: 0.552148\n",
      "[300]\ttraining's l1: 0.740495\tvalid_1's l1: 0.55198\n",
      "[400]\ttraining's l1: 0.740465\tvalid_1's l1: 0.551896\n"
     ]
    },
    {
     "name": "stderr",
     "output_type": "stream",
     "text": [
      "\u001b[32m[I 2021-07-06 12:11:07,286]\u001b[0m Trial 39 finished with value: -0.5518848176846191 and parameters: {'max_depth': 10, 'min_child_weight': 2, 'subsample': 0.8, 'colsample_bytree': 0.5, 'reg_lambda': 0.09481712007753532, 'reg_alpha': 0.1537076184969026, 'feature_fraction': 0.9587586374353435, 'bagging_fraction': 0.5965435755689994, 'bagging_freq': 2}. Best is trial 15 with value: -0.5452843204789506.\u001b[0m\n"
     ]
    },
    {
     "name": "stdout",
     "output_type": "stream",
     "text": [
      "Early stopping, best iteration is:\n",
      "[334]\ttraining's l1: 0.740478\tvalid_1's l1: 0.551886\n",
      "[LightGBM] [Warning] feature_fraction is set=0.8315410611018687, colsample_bytree=0.6 will be ignored. Current value: feature_fraction=0.8315410611018687\n",
      "[LightGBM] [Warning] bagging_fraction is set=0.4894248004648796, subsample=0.7 will be ignored. Current value: bagging_fraction=0.4894248004648796\n",
      "[LightGBM] [Warning] bagging_freq is set=6, subsample_freq=0 will be ignored. Current value: bagging_freq=6\n",
      "Training until validation scores don't improve for 100 rounds\n",
      "[100]\ttraining's l1: 0.743134\tvalid_1's l1: 0.553856\n",
      "[200]\ttraining's l1: 0.742688\tvalid_1's l1: 0.553781\n",
      "[300]\ttraining's l1: 0.742347\tvalid_1's l1: 0.553447\n",
      "[400]\ttraining's l1: 0.741746\tvalid_1's l1: 0.552943\n",
      "[500]\ttraining's l1: 0.741594\tvalid_1's l1: 0.552847\n"
     ]
    },
    {
     "name": "stderr",
     "output_type": "stream",
     "text": [
      "\u001b[32m[I 2021-07-06 12:11:21,229]\u001b[0m Trial 40 finished with value: -0.5528441400070286 and parameters: {'max_depth': 11, 'min_child_weight': 14, 'subsample': 0.7, 'colsample_bytree': 0.6, 'reg_lambda': 0.44648064111403785, 'reg_alpha': 32.09823643866891, 'feature_fraction': 0.8315410611018687, 'bagging_fraction': 0.4894248004648796, 'bagging_freq': 6}. Best is trial 15 with value: -0.5452843204789506.\u001b[0m\n"
     ]
    },
    {
     "name": "stdout",
     "output_type": "stream",
     "text": [
      "Early stopping, best iteration is:\n",
      "[438]\ttraining's l1: 0.741596\tvalid_1's l1: 0.552846\n",
      "[LightGBM] [Warning] feature_fraction is set=0.8800461593200268, colsample_bytree=0.5 will be ignored. Current value: feature_fraction=0.8800461593200268\n",
      "[LightGBM] [Warning] bagging_fraction is set=0.4229918636372848, subsample=0.6 will be ignored. Current value: bagging_fraction=0.4229918636372848\n",
      "[LightGBM] [Warning] bagging_freq is set=3, subsample_freq=0 will be ignored. Current value: bagging_freq=3\n",
      "Training until validation scores don't improve for 100 rounds\n",
      "[100]\ttraining's l1: 0.736656\tvalid_1's l1: 0.5482\n",
      "[200]\ttraining's l1: 0.734632\tvalid_1's l1: 0.547003\n",
      "[300]\ttraining's l1: 0.733099\tvalid_1's l1: 0.546109\n",
      "[400]\ttraining's l1: 0.732686\tvalid_1's l1: 0.546055\n",
      "[500]\ttraining's l1: 0.731781\tvalid_1's l1: 0.545373\n",
      "[600]\ttraining's l1: 0.731455\tvalid_1's l1: 0.545344\n"
     ]
    },
    {
     "name": "stderr",
     "output_type": "stream",
     "text": [
      "\u001b[32m[I 2021-07-06 12:11:38,017]\u001b[0m Trial 41 finished with value: -0.5452595994741678 and parameters: {'max_depth': 4, 'min_child_weight': 6, 'subsample': 0.6, 'colsample_bytree': 0.5, 'reg_lambda': 0.706715533927359, 'reg_alpha': 0.689434240321266, 'feature_fraction': 0.8800461593200268, 'bagging_fraction': 0.4229918636372848, 'bagging_freq': 3}. Best is trial 41 with value: -0.5452595994741678.\u001b[0m\n"
     ]
    },
    {
     "name": "stdout",
     "output_type": "stream",
     "text": [
      "Early stopping, best iteration is:\n",
      "[570]\ttraining's l1: 0.731587\tvalid_1's l1: 0.545262\n",
      "[LightGBM] [Warning] feature_fraction is set=0.8938223726819634, colsample_bytree=0.5 will be ignored. Current value: feature_fraction=0.8938223726819634\n",
      "[LightGBM] [Warning] bagging_fraction is set=0.4231264839382669, subsample=0.6 will be ignored. Current value: bagging_fraction=0.4231264839382669\n",
      "[LightGBM] [Warning] bagging_freq is set=3, subsample_freq=0 will be ignored. Current value: bagging_freq=3\n",
      "Training until validation scores don't improve for 100 rounds\n",
      "[100]\ttraining's l1: 0.737968\tvalid_1's l1: 0.550794\n",
      "[200]\ttraining's l1: 0.735761\tvalid_1's l1: 0.548757\n",
      "[300]\ttraining's l1: 0.734714\tvalid_1's l1: 0.547874\n",
      "[400]\ttraining's l1: 0.734179\tvalid_1's l1: 0.547371\n",
      "[500]\ttraining's l1: 0.733547\tvalid_1's l1: 0.546457\n",
      "[600]\ttraining's l1: 0.733326\tvalid_1's l1: 0.545742\n",
      "[700]\ttraining's l1: 0.733317\tvalid_1's l1: 0.545734\n",
      "Early stopping, best iteration is:\n",
      "[645]\ttraining's l1: 0.733322\tvalid_1's l1: 0.545729\n"
     ]
    },
    {
     "name": "stderr",
     "output_type": "stream",
     "text": [
      "\u001b[32m[I 2021-07-06 12:11:58,134]\u001b[0m Trial 42 finished with value: -0.5457273311865022 and parameters: {'max_depth': 6, 'min_child_weight': 6, 'subsample': 0.6, 'colsample_bytree': 0.5, 'reg_lambda': 1.1905320646865531, 'reg_alpha': 0.021834709635777345, 'feature_fraction': 0.8938223726819634, 'bagging_fraction': 0.4231264839382669, 'bagging_freq': 3}. Best is trial 41 with value: -0.5452595994741678.\u001b[0m\n"
     ]
    },
    {
     "name": "stdout",
     "output_type": "stream",
     "text": [
      "[LightGBM] [Warning] feature_fraction is set=0.8907022698894508, colsample_bytree=0.5 will be ignored. Current value: feature_fraction=0.8907022698894508\n",
      "[LightGBM] [Warning] bagging_fraction is set=0.418064920774422, subsample=0.6 will be ignored. Current value: bagging_fraction=0.418064920774422\n",
      "[LightGBM] [Warning] bagging_freq is set=1, subsample_freq=0 will be ignored. Current value: bagging_freq=1\n",
      "Training until validation scores don't improve for 100 rounds\n",
      "[100]\ttraining's l1: 0.73691\tvalid_1's l1: 0.54813\n",
      "[200]\ttraining's l1: 0.735521\tvalid_1's l1: 0.547789\n",
      "[300]\ttraining's l1: 0.734364\tvalid_1's l1: 0.546825\n",
      "[400]\ttraining's l1: 0.733702\tvalid_1's l1: 0.54627\n"
     ]
    },
    {
     "name": "stderr",
     "output_type": "stream",
     "text": [
      "\u001b[32m[I 2021-07-06 12:12:16,846]\u001b[0m Trial 43 finished with value: -0.5461724271423332 and parameters: {'max_depth': 4, 'min_child_weight': 9, 'subsample': 0.6, 'colsample_bytree': 0.5, 'reg_lambda': 1.0525738759687782, 'reg_alpha': 0.013120165886596697, 'feature_fraction': 0.8907022698894508, 'bagging_fraction': 0.418064920774422, 'bagging_freq': 1}. Best is trial 41 with value: -0.5452595994741678.\u001b[0m\n"
     ]
    },
    {
     "name": "stdout",
     "output_type": "stream",
     "text": [
      "Early stopping, best iteration is:\n",
      "[334]\ttraining's l1: 0.733794\tvalid_1's l1: 0.546174\n",
      "[LightGBM] [Warning] feature_fraction is set=0.86951520953972, colsample_bytree=0.5 will be ignored. Current value: feature_fraction=0.86951520953972\n",
      "[LightGBM] [Warning] bagging_fraction is set=0.4167979173773597, subsample=0.6 will be ignored. Current value: bagging_fraction=0.4167979173773597\n",
      "[LightGBM] [Warning] bagging_freq is set=1, subsample_freq=0 will be ignored. Current value: bagging_freq=1\n",
      "Training until validation scores don't improve for 100 rounds\n",
      "[100]\ttraining's l1: 0.736278\tvalid_1's l1: 0.547716\n",
      "[200]\ttraining's l1: 0.73492\tvalid_1's l1: 0.547247\n"
     ]
    },
    {
     "name": "stderr",
     "output_type": "stream",
     "text": [
      "\u001b[32m[I 2021-07-06 12:12:27,728]\u001b[0m Trial 44 finished with value: -0.5471799173339783 and parameters: {'max_depth': 4, 'min_child_weight': 10, 'subsample': 0.6, 'colsample_bytree': 0.5, 'reg_lambda': 3.6984792381918425, 'reg_alpha': 0.011525744633812163, 'feature_fraction': 0.86951520953972, 'bagging_fraction': 0.4167979173773597, 'bagging_freq': 1}. Best is trial 41 with value: -0.5452595994741678.\u001b[0m\n"
     ]
    },
    {
     "name": "stdout",
     "output_type": "stream",
     "text": [
      "Early stopping, best iteration is:\n",
      "[138]\ttraining's l1: 0.734997\tvalid_1's l1: 0.547182\n",
      "[LightGBM] [Warning] feature_fraction is set=0.9487982032300051, colsample_bytree=0.5 will be ignored. Current value: feature_fraction=0.9487982032300051\n",
      "[LightGBM] [Warning] bagging_fraction is set=0.42258556915981876, subsample=0.6 will be ignored. Current value: bagging_fraction=0.42258556915981876\n",
      "[LightGBM] [Warning] bagging_freq is set=1, subsample_freq=0 will be ignored. Current value: bagging_freq=1\n",
      "Training until validation scores don't improve for 100 rounds\n",
      "[100]\ttraining's l1: 0.746435\tvalid_1's l1: 0.556014\n",
      "[200]\ttraining's l1: 0.743992\tvalid_1's l1: 0.554152\n",
      "[300]\ttraining's l1: 0.74219\tvalid_1's l1: 0.552845\n",
      "[400]\ttraining's l1: 0.741557\tvalid_1's l1: 0.552321\n",
      "[500]\ttraining's l1: 0.741228\tvalid_1's l1: 0.552524\n"
     ]
    },
    {
     "name": "stderr",
     "output_type": "stream",
     "text": [
      "\u001b[32m[I 2021-07-06 12:12:48,266]\u001b[0m Trial 45 finished with value: -0.5522531543672845 and parameters: {'max_depth': 2, 'min_child_weight': 9, 'subsample': 0.6, 'colsample_bytree': 0.5, 'reg_lambda': 1.0346329815951358, 'reg_alpha': 0.007877376067726255, 'feature_fraction': 0.9487982032300051, 'bagging_fraction': 0.42258556915981876, 'bagging_freq': 1}. Best is trial 41 with value: -0.5452595994741678.\u001b[0m\n"
     ]
    },
    {
     "name": "stdout",
     "output_type": "stream",
     "text": [
      "Early stopping, best iteration is:\n",
      "[425]\ttraining's l1: 0.741475\tvalid_1's l1: 0.552255\n",
      "[LightGBM] [Warning] feature_fraction is set=0.7810621827718177, colsample_bytree=0.5 will be ignored. Current value: feature_fraction=0.7810621827718177\n",
      "[LightGBM] [Warning] bagging_fraction is set=0.433714467959291, subsample=0.5 will be ignored. Current value: bagging_fraction=0.433714467959291\n",
      "[LightGBM] [Warning] bagging_freq is set=2, subsample_freq=0 will be ignored. Current value: bagging_freq=2\n",
      "Training until validation scores don't improve for 100 rounds\n",
      "[100]\ttraining's l1: 0.741788\tvalid_1's l1: 0.552953\n",
      "[200]\ttraining's l1: 0.741781\tvalid_1's l1: 0.552951\n"
     ]
    },
    {
     "name": "stderr",
     "output_type": "stream",
     "text": [
      "\u001b[32m[I 2021-07-06 12:12:55,236]\u001b[0m Trial 46 finished with value: -0.5529485797180272 and parameters: {'max_depth': 3, 'min_child_weight': 7, 'subsample': 0.5, 'colsample_bytree': 0.5, 'reg_lambda': 3.2511749469965223, 'reg_alpha': 0.0018537517226774802, 'feature_fraction': 0.7810621827718177, 'bagging_fraction': 0.433714467959291, 'bagging_freq': 2}. Best is trial 41 with value: -0.5452595994741678.\u001b[0m\n"
     ]
    },
    {
     "name": "stdout",
     "output_type": "stream",
     "text": [
      "Early stopping, best iteration is:\n",
      "[111]\ttraining's l1: 0.741785\tvalid_1's l1: 0.552949\n",
      "[LightGBM] [Warning] feature_fraction is set=0.8453036388345438, colsample_bytree=0.5 will be ignored. Current value: feature_fraction=0.8453036388345438\n",
      "[LightGBM] [Warning] bagging_fraction is set=0.4667845794536421, subsample=0.6 will be ignored. Current value: bagging_fraction=0.4667845794536421\n",
      "[LightGBM] [Warning] bagging_freq is set=3, subsample_freq=0 will be ignored. Current value: bagging_freq=3\n",
      "Training until validation scores don't improve for 100 rounds\n",
      "[100]\ttraining's l1: 0.73677\tvalid_1's l1: 0.548321\n",
      "[200]\ttraining's l1: 0.735712\tvalid_1's l1: 0.547963\n",
      "[300]\ttraining's l1: 0.733976\tvalid_1's l1: 0.546611\n",
      "[400]\ttraining's l1: 0.733932\tvalid_1's l1: 0.546533\n",
      "Early stopping, best iteration is:\n",
      "[304]\ttraining's l1: 0.733948\tvalid_1's l1: 0.546529\n"
     ]
    },
    {
     "name": "stderr",
     "output_type": "stream",
     "text": [
      "\u001b[32m[I 2021-07-06 12:13:07,141]\u001b[0m Trial 47 finished with value: -0.5465261823729903 and parameters: {'max_depth': 5, 'min_child_weight': 8, 'subsample': 0.6, 'colsample_bytree': 0.5, 'reg_lambda': 19.2885919193349, 'reg_alpha': 0.03169863815781793, 'feature_fraction': 0.8453036388345438, 'bagging_fraction': 0.4667845794536421, 'bagging_freq': 3}. Best is trial 41 with value: -0.5452595994741678.\u001b[0m\n"
     ]
    },
    {
     "name": "stdout",
     "output_type": "stream",
     "text": [
      "[LightGBM] [Warning] feature_fraction is set=0.8947233417944103, colsample_bytree=0.5 will be ignored. Current value: feature_fraction=0.8947233417944103\n",
      "[LightGBM] [Warning] bagging_fraction is set=0.47283517587358526, subsample=0.5 will be ignored. Current value: bagging_fraction=0.47283517587358526\n",
      "[LightGBM] [Warning] bagging_freq is set=1, subsample_freq=0 will be ignored. Current value: bagging_freq=1\n",
      "Training until validation scores don't improve for 100 rounds\n",
      "[100]\ttraining's l1: 0.755269\tvalid_1's l1: 0.567102\n",
      "[200]\ttraining's l1: 0.754965\tvalid_1's l1: 0.566704\n"
     ]
    },
    {
     "name": "stderr",
     "output_type": "stream",
     "text": [
      "\u001b[32m[I 2021-07-06 12:13:17,017]\u001b[0m Trial 48 finished with value: -0.5666938470351945 and parameters: {'max_depth': 1, 'min_child_weight': 6, 'subsample': 0.5, 'colsample_bytree': 0.5, 'reg_lambda': 6.942587436081606, 'reg_alpha': 0.00422612117234249, 'feature_fraction': 0.8947233417944103, 'bagging_fraction': 0.47283517587358526, 'bagging_freq': 1}. Best is trial 41 with value: -0.5452595994741678.\u001b[0m\n"
     ]
    },
    {
     "name": "stdout",
     "output_type": "stream",
     "text": [
      "Early stopping, best iteration is:\n",
      "[120]\ttraining's l1: 0.75497\tvalid_1's l1: 0.566694\n",
      "[LightGBM] [Warning] feature_fraction is set=0.8100706734408429, colsample_bytree=0.5 will be ignored. Current value: feature_fraction=0.8100706734408429\n",
      "[LightGBM] [Warning] bagging_fraction is set=0.7371680429398753, subsample=0.6 will be ignored. Current value: bagging_fraction=0.7371680429398753\n",
      "[LightGBM] [Warning] bagging_freq is set=2, subsample_freq=0 will be ignored. Current value: bagging_freq=2\n",
      "Training until validation scores don't improve for 100 rounds\n",
      "[100]\ttraining's l1: 0.738827\tvalid_1's l1: 0.549679\n"
     ]
    },
    {
     "name": "stderr",
     "output_type": "stream",
     "text": [
      "\u001b[32m[I 2021-07-06 12:13:25,970]\u001b[0m Trial 49 finished with value: -0.5496790966825826 and parameters: {'max_depth': 4, 'min_child_weight': 10, 'subsample': 0.6, 'colsample_bytree': 0.5, 'reg_lambda': 1.391466243731037, 'reg_alpha': 0.05388817779258027, 'feature_fraction': 0.8100706734408429, 'bagging_fraction': 0.7371680429398753, 'bagging_freq': 2}. Best is trial 41 with value: -0.5452595994741678.\u001b[0m\n"
     ]
    },
    {
     "name": "stdout",
     "output_type": "stream",
     "text": [
      "Early stopping, best iteration is:\n",
      "[97]\ttraining's l1: 0.738827\tvalid_1's l1: 0.549679\n",
      "[LightGBM] [Warning] feature_fraction is set=0.7153944120330524, colsample_bytree=0.5 will be ignored. Current value: feature_fraction=0.7153944120330524\n",
      "[LightGBM] [Warning] bagging_fraction is set=0.43498112654199605, subsample=0.9 will be ignored. Current value: bagging_fraction=0.43498112654199605\n",
      "[LightGBM] [Warning] bagging_freq is set=8, subsample_freq=0 will be ignored. Current value: bagging_freq=8\n",
      "Training until validation scores don't improve for 100 rounds\n",
      "[100]\ttraining's l1: 0.741128\tvalid_1's l1: 0.553141\n",
      "[200]\ttraining's l1: 0.740733\tvalid_1's l1: 0.552668\n"
     ]
    },
    {
     "name": "stderr",
     "output_type": "stream",
     "text": [
      "\u001b[32m[I 2021-07-06 12:13:33,381]\u001b[0m Trial 50 finished with value: -0.5526665927091299 and parameters: {'max_depth': 7, 'min_child_weight': 9, 'subsample': 0.9, 'colsample_bytree': 0.5, 'reg_lambda': 0.5981930484973011, 'reg_alpha': 0.10150133990690495, 'feature_fraction': 0.7153944120330524, 'bagging_fraction': 0.43498112654199605, 'bagging_freq': 8}. Best is trial 41 with value: -0.5452595994741678.\u001b[0m\n"
     ]
    },
    {
     "name": "stdout",
     "output_type": "stream",
     "text": [
      "Early stopping, best iteration is:\n",
      "[183]\ttraining's l1: 0.740734\tvalid_1's l1: 0.552667\n",
      "[LightGBM] [Warning] feature_fraction is set=0.8321075185432826, colsample_bytree=0.5 will be ignored. Current value: feature_fraction=0.8321075185432826\n",
      "[LightGBM] [Warning] bagging_fraction is set=0.40561637579157056, subsample=0.6 will be ignored. Current value: bagging_fraction=0.40561637579157056\n",
      "[LightGBM] [Warning] bagging_freq is set=3, subsample_freq=0 will be ignored. Current value: bagging_freq=3\n",
      "Training until validation scores don't improve for 100 rounds\n",
      "[100]\ttraining's l1: 0.736168\tvalid_1's l1: 0.548839\n",
      "[200]\ttraining's l1: 0.735113\tvalid_1's l1: 0.547921\n",
      "[300]\ttraining's l1: 0.734223\tvalid_1's l1: 0.547274\n"
     ]
    },
    {
     "name": "stderr",
     "output_type": "stream",
     "text": [
      "\u001b[32m[I 2021-07-06 12:13:43,589]\u001b[0m Trial 51 finished with value: -0.5472617552794392 and parameters: {'max_depth': 5, 'min_child_weight': 8, 'subsample': 0.6, 'colsample_bytree': 0.5, 'reg_lambda': 127.82686410058251, 'reg_alpha': 0.02554720871905877, 'feature_fraction': 0.8321075185432826, 'bagging_fraction': 0.40561637579157056, 'bagging_freq': 3}. Best is trial 41 with value: -0.5452595994741678.\u001b[0m\n"
     ]
    },
    {
     "name": "stdout",
     "output_type": "stream",
     "text": [
      "Early stopping, best iteration is:\n",
      "[262]\ttraining's l1: 0.734254\tvalid_1's l1: 0.547263\n",
      "[LightGBM] [Warning] feature_fraction is set=0.8943471386410382, colsample_bytree=0.5 will be ignored. Current value: feature_fraction=0.8943471386410382\n",
      "[LightGBM] [Warning] bagging_fraction is set=0.45382166172098437, subsample=0.6 will be ignored. Current value: bagging_fraction=0.45382166172098437\n",
      "[LightGBM] [Warning] bagging_freq is set=3, subsample_freq=0 will be ignored. Current value: bagging_freq=3\n",
      "Training until validation scores don't improve for 100 rounds\n",
      "[100]\ttraining's l1: 0.737056\tvalid_1's l1: 0.550584\n",
      "[200]\ttraining's l1: 0.735141\tvalid_1's l1: 0.549269\n",
      "[300]\ttraining's l1: 0.7339\tvalid_1's l1: 0.548131\n",
      "[400]\ttraining's l1: 0.733409\tvalid_1's l1: 0.547748\n",
      "[500]\ttraining's l1: 0.732614\tvalid_1's l1: 0.547522\n"
     ]
    },
    {
     "name": "stderr",
     "output_type": "stream",
     "text": [
      "\u001b[32m[I 2021-07-06 12:13:59,865]\u001b[0m Trial 52 finished with value: -0.5475000545881316 and parameters: {'max_depth': 5, 'min_child_weight': 8, 'subsample': 0.6, 'colsample_bytree': 0.5, 'reg_lambda': 751.3225995945015, 'reg_alpha': 0.007161466108596562, 'feature_fraction': 0.8943471386410382, 'bagging_fraction': 0.45382166172098437, 'bagging_freq': 3}. Best is trial 41 with value: -0.5452595994741678.\u001b[0m\n"
     ]
    },
    {
     "name": "stdout",
     "output_type": "stream",
     "text": [
      "Early stopping, best iteration is:\n",
      "[473]\ttraining's l1: 0.732697\tvalid_1's l1: 0.547503\n",
      "[LightGBM] [Warning] feature_fraction is set=0.8470670157710043, colsample_bytree=0.5 will be ignored. Current value: feature_fraction=0.8470670157710043\n",
      "[LightGBM] [Warning] bagging_fraction is set=0.4715941265835249, subsample=0.6 will be ignored. Current value: bagging_fraction=0.4715941265835249\n",
      "[LightGBM] [Warning] bagging_freq is set=3, subsample_freq=0 will be ignored. Current value: bagging_freq=3\n",
      "Training until validation scores don't improve for 100 rounds\n",
      "[100]\ttraining's l1: 0.740734\tvalid_1's l1: 0.551588\n",
      "[200]\ttraining's l1: 0.739004\tvalid_1's l1: 0.55069\n",
      "[300]\ttraining's l1: 0.738609\tvalid_1's l1: 0.550524\n",
      "[400]\ttraining's l1: 0.73849\tvalid_1's l1: 0.550434\n"
     ]
    },
    {
     "name": "stderr",
     "output_type": "stream",
     "text": [
      "\u001b[32m[I 2021-07-06 12:14:10,974]\u001b[0m Trial 53 finished with value: -0.5504319425087176 and parameters: {'max_depth': 3, 'min_child_weight': 11, 'subsample': 0.6, 'colsample_bytree': 0.5, 'reg_lambda': 44.41329312506034, 'reg_alpha': 0.0010092008377513353, 'feature_fraction': 0.8470670157710043, 'bagging_fraction': 0.4715941265835249, 'bagging_freq': 3}. Best is trial 41 with value: -0.5452595994741678.\u001b[0m\n"
     ]
    },
    {
     "name": "stdout",
     "output_type": "stream",
     "text": [
      "Early stopping, best iteration is:\n",
      "[311]\ttraining's l1: 0.738495\tvalid_1's l1: 0.550433\n",
      "[LightGBM] [Warning] feature_fraction is set=0.7539748618642356, colsample_bytree=0.5 will be ignored. Current value: feature_fraction=0.7539748618642356\n",
      "[LightGBM] [Warning] bagging_fraction is set=0.40006613446853695, subsample=0.6 will be ignored. Current value: bagging_fraction=0.40006613446853695\n",
      "[LightGBM] [Warning] bagging_freq is set=2, subsample_freq=0 will be ignored. Current value: bagging_freq=2\n",
      "Training until validation scores don't improve for 100 rounds\n",
      "[100]\ttraining's l1: 0.736773\tvalid_1's l1: 0.548992\n",
      "[200]\ttraining's l1: 0.73675\tvalid_1's l1: 0.548983\n",
      "[300]\ttraining's l1: 0.736079\tvalid_1's l1: 0.548091\n",
      "[400]\ttraining's l1: 0.735853\tvalid_1's l1: 0.547628\n",
      "[500]\ttraining's l1: 0.735552\tvalid_1's l1: 0.547168\n"
     ]
    },
    {
     "name": "stderr",
     "output_type": "stream",
     "text": [
      "\u001b[32m[I 2021-07-06 12:14:27,505]\u001b[0m Trial 54 finished with value: -0.5470610416473 and parameters: {'max_depth': 5, 'min_child_weight': 6, 'subsample': 0.6, 'colsample_bytree': 0.5, 'reg_lambda': 31.448359656708202, 'reg_alpha': 0.026233516317523603, 'feature_fraction': 0.7539748618642356, 'bagging_fraction': 0.40006613446853695, 'bagging_freq': 2}. Best is trial 41 with value: -0.5452595994741678.\u001b[0m\n"
     ]
    },
    {
     "name": "stdout",
     "output_type": "stream",
     "text": [
      "Early stopping, best iteration is:\n",
      "[462]\ttraining's l1: 0.735557\tvalid_1's l1: 0.547084\n",
      "[LightGBM] [Warning] feature_fraction is set=0.9509811895903543, colsample_bytree=0.5 will be ignored. Current value: feature_fraction=0.9509811895903543\n",
      "[LightGBM] [Warning] bagging_fraction is set=0.5069784250704708, subsample=0.5 will be ignored. Current value: bagging_fraction=0.5069784250704708\n",
      "[LightGBM] [Warning] bagging_freq is set=3, subsample_freq=0 will be ignored. Current value: bagging_freq=3\n",
      "Training until validation scores don't improve for 100 rounds\n",
      "[100]\ttraining's l1: 0.74063\tvalid_1's l1: 0.552385\n"
     ]
    },
    {
     "name": "stderr",
     "output_type": "stream",
     "text": [
      "\u001b[32m[I 2021-07-06 12:14:34,245]\u001b[0m Trial 55 finished with value: -0.5523531466419473 and parameters: {'max_depth': 7, 'min_child_weight': 7, 'subsample': 0.5, 'colsample_bytree': 0.5, 'reg_lambda': 202.20261230483945, 'reg_alpha': 0.016999540260479427, 'feature_fraction': 0.9509811895903543, 'bagging_fraction': 0.5069784250704708, 'bagging_freq': 3}. Best is trial 41 with value: -0.5452595994741678.\u001b[0m\n"
     ]
    },
    {
     "name": "stdout",
     "output_type": "stream",
     "text": [
      "Early stopping, best iteration is:\n",
      "[81]\ttraining's l1: 0.740633\tvalid_1's l1: 0.552354\n",
      "[LightGBM] [Warning] feature_fraction is set=0.8505668658279204, colsample_bytree=0.9 will be ignored. Current value: feature_fraction=0.8505668658279204\n",
      "[LightGBM] [Warning] bagging_fraction is set=0.4407703333637769, subsample=0.6 will be ignored. Current value: bagging_fraction=0.4407703333637769\n",
      "[LightGBM] [Warning] bagging_freq is set=1, subsample_freq=0 will be ignored. Current value: bagging_freq=1\n",
      "Training until validation scores don't improve for 100 rounds\n",
      "[100]\ttraining's l1: 0.746315\tvalid_1's l1: 0.556349\n",
      "[200]\ttraining's l1: 0.745581\tvalid_1's l1: 0.555849\n",
      "[300]\ttraining's l1: 0.74557\tvalid_1's l1: 0.55584\n"
     ]
    },
    {
     "name": "stderr",
     "output_type": "stream",
     "text": [
      "\u001b[32m[I 2021-07-06 12:14:48,271]\u001b[0m Trial 56 finished with value: -0.5558382374795594 and parameters: {'max_depth': 2, 'min_child_weight': 5, 'subsample': 0.6, 'colsample_bytree': 0.9, 'reg_lambda': 20.53219047810721, 'reg_alpha': 0.4813549558485327, 'feature_fraction': 0.8505668658279204, 'bagging_fraction': 0.4407703333637769, 'bagging_freq': 1}. Best is trial 41 with value: -0.5452595994741678.\u001b[0m\n"
     ]
    },
    {
     "name": "stdout",
     "output_type": "stream",
     "text": [
      "Early stopping, best iteration is:\n",
      "[234]\ttraining's l1: 0.745572\tvalid_1's l1: 0.555839\n",
      "[LightGBM] [Warning] feature_fraction is set=0.8090024876478485, colsample_bytree=0.5 will be ignored. Current value: feature_fraction=0.8090024876478485\n",
      "[LightGBM] [Warning] bagging_fraction is set=0.5480061643846843, subsample=0.6 will be ignored. Current value: bagging_fraction=0.5480061643846843\n",
      "[LightGBM] [Warning] bagging_freq is set=9, subsample_freq=0 will be ignored. Current value: bagging_freq=9\n",
      "Training until validation scores don't improve for 100 rounds\n",
      "[100]\ttraining's l1: 0.743302\tvalid_1's l1: 0.553962\n",
      "[200]\ttraining's l1: 0.741559\tvalid_1's l1: 0.55238\n",
      "[300]\ttraining's l1: 0.741267\tvalid_1's l1: 0.552128\n"
     ]
    },
    {
     "name": "stderr",
     "output_type": "stream",
     "text": [
      "\u001b[32m[I 2021-07-06 12:14:58,329]\u001b[0m Trial 57 finished with value: -0.5521262961741152 and parameters: {'max_depth': 17, 'min_child_weight': 9, 'subsample': 0.6, 'colsample_bytree': 0.5, 'reg_lambda': 7.661337213529543, 'reg_alpha': 0.03395394998559652, 'feature_fraction': 0.8090024876478485, 'bagging_fraction': 0.5480061643846843, 'bagging_freq': 9}. Best is trial 41 with value: -0.5452595994741678.\u001b[0m\n"
     ]
    },
    {
     "name": "stdout",
     "output_type": "stream",
     "text": [
      "Early stopping, best iteration is:\n",
      "[270]\ttraining's l1: 0.74127\tvalid_1's l1: 0.552127\n",
      "[LightGBM] [Warning] feature_fraction is set=0.8616557296040024, colsample_bytree=0.5 will be ignored. Current value: feature_fraction=0.8616557296040024\n",
      "[LightGBM] [Warning] bagging_fraction is set=0.47682477327449774, subsample=0.5 will be ignored. Current value: bagging_fraction=0.47682477327449774\n",
      "[LightGBM] [Warning] bagging_freq is set=2, subsample_freq=0 will be ignored. Current value: bagging_freq=2\n",
      "Training until validation scores don't improve for 100 rounds\n",
      "[100]\ttraining's l1: 0.742204\tvalid_1's l1: 0.553504\n",
      "[200]\ttraining's l1: 0.741354\tvalid_1's l1: 0.552668\n",
      "[300]\ttraining's l1: 0.741038\tvalid_1's l1: 0.552407\n",
      "[400]\ttraining's l1: 0.740623\tvalid_1's l1: 0.552114\n"
     ]
    },
    {
     "name": "stderr",
     "output_type": "stream",
     "text": [
      "\u001b[32m[I 2021-07-06 12:15:13,503]\u001b[0m Trial 58 finished with value: -0.552109360751614 and parameters: {'max_depth': 9, 'min_child_weight': 12, 'subsample': 0.5, 'colsample_bytree': 0.5, 'reg_lambda': 0.19311592750744114, 'reg_alpha': 0.14451214241149868, 'feature_fraction': 0.8616557296040024, 'bagging_fraction': 0.47682477327449774, 'bagging_freq': 2}. Best is trial 41 with value: -0.5452595994741678.\u001b[0m\n"
     ]
    },
    {
     "name": "stdout",
     "output_type": "stream",
     "text": [
      "Early stopping, best iteration is:\n",
      "[331]\ttraining's l1: 0.740626\tvalid_1's l1: 0.55211\n",
      "[LightGBM] [Warning] feature_fraction is set=0.9784249867583772, colsample_bytree=0.5 will be ignored. Current value: feature_fraction=0.9784249867583772\n",
      "[LightGBM] [Warning] bagging_fraction is set=0.7314517324204151, subsample=0.6 will be ignored. Current value: bagging_fraction=0.7314517324204151\n",
      "[LightGBM] [Warning] bagging_freq is set=7, subsample_freq=0 will be ignored. Current value: bagging_freq=7\n",
      "Training until validation scores don't improve for 100 rounds\n",
      "[100]\ttraining's l1: 0.737118\tvalid_1's l1: 0.549123\n",
      "[200]\ttraining's l1: 0.73552\tvalid_1's l1: 0.548156\n",
      "[300]\ttraining's l1: 0.733876\tvalid_1's l1: 0.547201\n",
      "[400]\ttraining's l1: 0.733048\tvalid_1's l1: 0.546313\n"
     ]
    },
    {
     "name": "stderr",
     "output_type": "stream",
     "text": [
      "\u001b[32m[I 2021-07-06 12:15:27,814]\u001b[0m Trial 59 finished with value: -0.5462742397550114 and parameters: {'max_depth': 4, 'min_child_weight': 8, 'subsample': 0.6, 'colsample_bytree': 0.5, 'reg_lambda': 0.7741155375098554, 'reg_alpha': 0.004745752846414378, 'feature_fraction': 0.9784249867583772, 'bagging_fraction': 0.7314517324204151, 'bagging_freq': 7}. Best is trial 41 with value: -0.5452595994741678.\u001b[0m\n"
     ]
    },
    {
     "name": "stdout",
     "output_type": "stream",
     "text": [
      "Early stopping, best iteration is:\n",
      "[387]\ttraining's l1: 0.733062\tvalid_1's l1: 0.546276\n",
      "[LightGBM] [Warning] feature_fraction is set=0.9792356497698879, colsample_bytree=0.6 will be ignored. Current value: feature_fraction=0.9792356497698879\n",
      "[LightGBM] [Warning] bagging_fraction is set=0.7916619993552975, subsample=0.6 will be ignored. Current value: bagging_fraction=0.7916619993552975\n",
      "[LightGBM] [Warning] bagging_freq is set=7, subsample_freq=0 will be ignored. Current value: bagging_freq=7\n",
      "Training until validation scores don't improve for 100 rounds\n",
      "[100]\ttraining's l1: 0.755413\tvalid_1's l1: 0.567171\n"
     ]
    },
    {
     "name": "stderr",
     "output_type": "stream",
     "text": [
      "\u001b[32m[I 2021-07-06 12:15:32,729]\u001b[0m Trial 60 finished with value: -0.5671641257215703 and parameters: {'max_depth': 1, 'min_child_weight': 5, 'subsample': 0.6, 'colsample_bytree': 0.6, 'reg_lambda': 0.6900826458473707, 'reg_alpha': 0.0011719829342357437, 'feature_fraction': 0.9792356497698879, 'bagging_fraction': 0.7916619993552975, 'bagging_freq': 7}. Best is trial 41 with value: -0.5452595994741678.\u001b[0m\n"
     ]
    },
    {
     "name": "stdout",
     "output_type": "stream",
     "text": [
      "Early stopping, best iteration is:\n",
      "[53]\ttraining's l1: 0.755414\tvalid_1's l1: 0.567164\n",
      "[LightGBM] [Warning] feature_fraction is set=0.9991217924747651, colsample_bytree=0.5 will be ignored. Current value: feature_fraction=0.9991217924747651\n",
      "[LightGBM] [Warning] bagging_fraction is set=0.7356385677522428, subsample=0.6 will be ignored. Current value: bagging_fraction=0.7356385677522428\n",
      "[LightGBM] [Warning] bagging_freq is set=8, subsample_freq=0 will be ignored. Current value: bagging_freq=8\n",
      "Training until validation scores don't improve for 100 rounds\n",
      "[100]\ttraining's l1: 0.737324\tvalid_1's l1: 0.548908\n",
      "[200]\ttraining's l1: 0.735769\tvalid_1's l1: 0.548056\n",
      "[300]\ttraining's l1: 0.734944\tvalid_1's l1: 0.54764\n"
     ]
    },
    {
     "name": "stderr",
     "output_type": "stream",
     "text": [
      "\u001b[32m[I 2021-07-06 12:15:42,490]\u001b[0m Trial 61 finished with value: -0.54750691684044 and parameters: {'max_depth': 4, 'min_child_weight': 7, 'subsample': 0.6, 'colsample_bytree': 0.5, 'reg_lambda': 0.05275651179965751, 'reg_alpha': 0.05196293414224202, 'feature_fraction': 0.9991217924747651, 'bagging_fraction': 0.7356385677522428, 'bagging_freq': 8}. Best is trial 41 with value: -0.5452595994741678.\u001b[0m\n"
     ]
    },
    {
     "name": "stdout",
     "output_type": "stream",
     "text": [
      "Early stopping, best iteration is:\n",
      "[217]\ttraining's l1: 0.735271\tvalid_1's l1: 0.547509\n",
      "[LightGBM] [Warning] feature_fraction is set=0.8980515733949086, colsample_bytree=0.5 will be ignored. Current value: feature_fraction=0.8980515733949086\n",
      "[LightGBM] [Warning] bagging_fraction is set=0.8229245733611922, subsample=0.6 will be ignored. Current value: bagging_fraction=0.8229245733611922\n",
      "[LightGBM] [Warning] bagging_freq is set=7, subsample_freq=0 will be ignored. Current value: bagging_freq=7\n",
      "Training until validation scores don't improve for 100 rounds\n",
      "[100]\ttraining's l1: 0.73789\tvalid_1's l1: 0.549908\n",
      "[200]\ttraining's l1: 0.737337\tvalid_1's l1: 0.54925\n",
      "[300]\ttraining's l1: 0.737306\tvalid_1's l1: 0.549236\n"
     ]
    },
    {
     "name": "stderr",
     "output_type": "stream",
     "text": [
      "\u001b[32m[I 2021-07-06 12:15:54,107]\u001b[0m Trial 62 finished with value: -0.5491986487222285 and parameters: {'max_depth': 6, 'min_child_weight': 8, 'subsample': 0.6, 'colsample_bytree': 0.5, 'reg_lambda': 2.403142487429985, 'reg_alpha': 0.0040557548731548565, 'feature_fraction': 0.8980515733949086, 'bagging_fraction': 0.8229245733611922, 'bagging_freq': 7}. Best is trial 41 with value: -0.5452595994741678.\u001b[0m\n"
     ]
    },
    {
     "name": "stdout",
     "output_type": "stream",
     "text": [
      "Early stopping, best iteration is:\n",
      "[218]\ttraining's l1: 0.737324\tvalid_1's l1: 0.549199\n",
      "[LightGBM] [Warning] feature_fraction is set=0.9426621389364632, colsample_bytree=0.5 will be ignored. Current value: feature_fraction=0.9426621389364632\n",
      "[LightGBM] [Warning] bagging_fraction is set=0.7766871651318248, subsample=0.6 will be ignored. Current value: bagging_fraction=0.7766871651318248\n",
      "[LightGBM] [Warning] bagging_freq is set=6, subsample_freq=0 will be ignored. Current value: bagging_freq=6\n",
      "Training until validation scores don't improve for 100 rounds\n",
      "[100]\ttraining's l1: 0.739884\tvalid_1's l1: 0.551007\n",
      "[200]\ttraining's l1: 0.738243\tvalid_1's l1: 0.549848\n",
      "[300]\ttraining's l1: 0.737651\tvalid_1's l1: 0.549539\n",
      "[400]\ttraining's l1: 0.737436\tvalid_1's l1: 0.549282\n",
      "[500]\ttraining's l1: 0.737354\tvalid_1's l1: 0.549327\n",
      "Early stopping, best iteration is:\n",
      "[408]\ttraining's l1: 0.737436\tvalid_1's l1: 0.549281\n"
     ]
    },
    {
     "name": "stderr",
     "output_type": "stream",
     "text": [
      "\u001b[32m[I 2021-07-06 12:16:09,015]\u001b[0m Trial 63 finished with value: -0.5492801000929404 and parameters: {'max_depth': 3, 'min_child_weight': 6, 'subsample': 0.6, 'colsample_bytree': 0.5, 'reg_lambda': 0.126026996176262, 'reg_alpha': 0.011093914517680577, 'feature_fraction': 0.9426621389364632, 'bagging_fraction': 0.7766871651318248, 'bagging_freq': 6}. Best is trial 41 with value: -0.5452595994741678.\u001b[0m\n"
     ]
    },
    {
     "name": "stdout",
     "output_type": "stream",
     "text": [
      "[LightGBM] [Warning] feature_fraction is set=0.9714717720797107, colsample_bytree=0.5 will be ignored. Current value: feature_fraction=0.9714717720797107\n",
      "[LightGBM] [Warning] bagging_fraction is set=0.694418259332255, subsample=0.6 will be ignored. Current value: bagging_fraction=0.694418259332255\n",
      "[LightGBM] [Warning] bagging_freq is set=7, subsample_freq=0 will be ignored. Current value: bagging_freq=7\n",
      "Training until validation scores don't improve for 100 rounds\n",
      "[100]\ttraining's l1: 0.734908\tvalid_1's l1: 0.547788\n",
      "[200]\ttraining's l1: 0.732926\tvalid_1's l1: 0.546452\n",
      "[300]\ttraining's l1: 0.732196\tvalid_1's l1: 0.546357\n"
     ]
    },
    {
     "name": "stderr",
     "output_type": "stream",
     "text": [
      "\u001b[32m[I 2021-07-06 12:16:21,305]\u001b[0m Trial 64 finished with value: -0.5460265319704674 and parameters: {'max_depth': 5, 'min_child_weight': 10, 'subsample': 0.6, 'colsample_bytree': 0.5, 'reg_lambda': 0.2782612644314356, 'reg_alpha': 0.001819614777136928, 'feature_fraction': 0.9714717720797107, 'bagging_fraction': 0.694418259332255, 'bagging_freq': 7}. Best is trial 41 with value: -0.5452595994741678.\u001b[0m\n"
     ]
    },
    {
     "name": "stdout",
     "output_type": "stream",
     "text": [
      "Early stopping, best iteration is:\n",
      "[290]\ttraining's l1: 0.732263\tvalid_1's l1: 0.546028\n",
      "[LightGBM] [Warning] feature_fraction is set=0.9627879375797297, colsample_bytree=0.5 will be ignored. Current value: feature_fraction=0.9627879375797297\n",
      "[LightGBM] [Warning] bagging_fraction is set=0.7550728278943661, subsample=0.7 will be ignored. Current value: bagging_fraction=0.7550728278943661\n",
      "[LightGBM] [Warning] bagging_freq is set=8, subsample_freq=0 will be ignored. Current value: bagging_freq=8\n",
      "Training until validation scores don't improve for 100 rounds\n",
      "[100]\ttraining's l1: 0.736794\tvalid_1's l1: 0.549048\n",
      "[200]\ttraining's l1: 0.734387\tvalid_1's l1: 0.547406\n",
      "[300]\ttraining's l1: 0.73356\tvalid_1's l1: 0.547048\n"
     ]
    },
    {
     "name": "stderr",
     "output_type": "stream",
     "text": [
      "\u001b[32m[I 2021-07-06 12:16:31,564]\u001b[0m Trial 65 finished with value: -0.5468621900782541 and parameters: {'max_depth': 4, 'min_child_weight': 10, 'subsample': 0.7, 'colsample_bytree': 0.5, 'reg_lambda': 0.29711762507662987, 'reg_alpha': 0.0017853815044340145, 'feature_fraction': 0.9627879375797297, 'bagging_fraction': 0.7550728278943661, 'bagging_freq': 8}. Best is trial 41 with value: -0.5452595994741678.\u001b[0m\n"
     ]
    },
    {
     "name": "stdout",
     "output_type": "stream",
     "text": [
      "Early stopping, best iteration is:\n",
      "[233]\ttraining's l1: 0.733619\tvalid_1's l1: 0.546864\n",
      "[LightGBM] [Warning] feature_fraction is set=0.9164907827677689, colsample_bytree=0.6 will be ignored. Current value: feature_fraction=0.9164907827677689\n",
      "[LightGBM] [Warning] bagging_fraction is set=0.7145300625551662, subsample=0.6 will be ignored. Current value: bagging_fraction=0.7145300625551662\n",
      "[LightGBM] [Warning] bagging_freq is set=7, subsample_freq=0 will be ignored. Current value: bagging_freq=7\n",
      "Training until validation scores don't improve for 100 rounds\n",
      "[100]\ttraining's l1: 0.741187\tvalid_1's l1: 0.55274\n",
      "[200]\ttraining's l1: 0.740585\tvalid_1's l1: 0.552199\n",
      "[300]\ttraining's l1: 0.738554\tvalid_1's l1: 0.550168\n",
      "[400]\ttraining's l1: 0.737681\tvalid_1's l1: 0.549871\n",
      "[500]\ttraining's l1: 0.73719\tvalid_1's l1: 0.549405\n",
      "[600]\ttraining's l1: 0.736557\tvalid_1's l1: 0.548993\n",
      "[700]\ttraining's l1: 0.736345\tvalid_1's l1: 0.548904\n",
      "[800]\ttraining's l1: 0.736112\tvalid_1's l1: 0.548729\n"
     ]
    },
    {
     "name": "stderr",
     "output_type": "stream",
     "text": [
      "\u001b[32m[I 2021-07-06 12:16:52,730]\u001b[0m Trial 66 finished with value: -0.5486542645622801 and parameters: {'max_depth': 3, 'min_child_weight': 12, 'subsample': 0.6, 'colsample_bytree': 0.6, 'reg_lambda': 0.8479527114990456, 'reg_alpha': 0.0051063152248923115, 'feature_fraction': 0.9164907827677689, 'bagging_fraction': 0.7145300625551662, 'bagging_freq': 7}. Best is trial 41 with value: -0.5452595994741678.\u001b[0m\n"
     ]
    },
    {
     "name": "stdout",
     "output_type": "stream",
     "text": [
      "Early stopping, best iteration is:\n",
      "[729]\ttraining's l1: 0.736144\tvalid_1's l1: 0.548655\n",
      "[LightGBM] [Warning] feature_fraction is set=0.999851346257685, colsample_bytree=0.5 will be ignored. Current value: feature_fraction=0.999851346257685\n",
      "[LightGBM] [Warning] bagging_fraction is set=0.9929331137866972, subsample=0.5 will be ignored. Current value: bagging_fraction=0.9929331137866972\n",
      "[LightGBM] [Warning] bagging_freq is set=8, subsample_freq=0 will be ignored. Current value: bagging_freq=8\n",
      "Training until validation scores don't improve for 100 rounds\n",
      "[100]\ttraining's l1: 0.738392\tvalid_1's l1: 0.550592\n",
      "[200]\ttraining's l1: 0.737407\tvalid_1's l1: 0.549627\n",
      "[300]\ttraining's l1: 0.737273\tvalid_1's l1: 0.549585\n",
      "[400]\ttraining's l1: 0.737273\tvalid_1's l1: 0.549585\n",
      "[500]\ttraining's l1: 0.737273\tvalid_1's l1: 0.549585\n"
     ]
    },
    {
     "name": "stderr",
     "output_type": "stream",
     "text": [
      "\u001b[32m[I 2021-07-06 12:17:15,031]\u001b[0m Trial 67 finished with value: -0.5495842580297151 and parameters: {'max_depth': 6, 'min_child_weight': 16, 'subsample': 0.5, 'colsample_bytree': 0.5, 'reg_lambda': 1.3587993268387222, 'reg_alpha': 0.0019954310554024923, 'feature_fraction': 0.999851346257685, 'bagging_fraction': 0.9929331137866972, 'bagging_freq': 8}. Best is trial 41 with value: -0.5452595994741678.\u001b[0m\n"
     ]
    },
    {
     "name": "stdout",
     "output_type": "stream",
     "text": [
      "Early stopping, best iteration is:\n",
      "[496]\ttraining's l1: 0.737273\tvalid_1's l1: 0.549585\n",
      "[LightGBM] [Warning] feature_fraction is set=0.9784879778029905, colsample_bytree=0.6 will be ignored. Current value: feature_fraction=0.9784879778029905\n",
      "[LightGBM] [Warning] bagging_fraction is set=0.6905054358320941, subsample=0.7 will be ignored. Current value: bagging_fraction=0.6905054358320941\n",
      "[LightGBM] [Warning] bagging_freq is set=6, subsample_freq=0 will be ignored. Current value: bagging_freq=6\n",
      "Training until validation scores don't improve for 100 rounds\n",
      "[100]\ttraining's l1: 0.73519\tvalid_1's l1: 0.547682\n",
      "[200]\ttraining's l1: 0.733263\tvalid_1's l1: 0.546442\n",
      "[300]\ttraining's l1: 0.732729\tvalid_1's l1: 0.546229\n",
      "[400]\ttraining's l1: 0.732202\tvalid_1's l1: 0.545823\n",
      "[500]\ttraining's l1: 0.732116\tvalid_1's l1: 0.545878\n"
     ]
    },
    {
     "name": "stderr",
     "output_type": "stream",
     "text": [
      "\u001b[32m[I 2021-07-06 12:17:30,794]\u001b[0m Trial 68 finished with value: -0.5457828071666714 and parameters: {'max_depth': 5, 'min_child_weight': 4, 'subsample': 0.7, 'colsample_bytree': 0.6, 'reg_lambda': 0.5293845375922793, 'reg_alpha': 3.35402713439623, 'feature_fraction': 0.9784879778029905, 'bagging_fraction': 0.6905054358320941, 'bagging_freq': 6}. Best is trial 41 with value: -0.5452595994741678.\u001b[0m\n"
     ]
    },
    {
     "name": "stdout",
     "output_type": "stream",
     "text": [
      "Early stopping, best iteration is:\n",
      "[410]\ttraining's l1: 0.732159\tvalid_1's l1: 0.545786\n",
      "[LightGBM] [Warning] feature_fraction is set=0.9355826214662013, colsample_bytree=0.6 will be ignored. Current value: feature_fraction=0.9355826214662013\n",
      "[LightGBM] [Warning] bagging_fraction is set=0.6791356851413811, subsample=0.7 will be ignored. Current value: bagging_fraction=0.6791356851413811\n",
      "[LightGBM] [Warning] bagging_freq is set=6, subsample_freq=0 will be ignored. Current value: bagging_freq=6\n",
      "Training until validation scores don't improve for 100 rounds\n",
      "[100]\ttraining's l1: 0.741926\tvalid_1's l1: 0.553159\n"
     ]
    },
    {
     "name": "stderr",
     "output_type": "stream",
     "text": [
      "\u001b[32m[I 2021-07-06 12:17:37,051]\u001b[0m Trial 69 finished with value: -0.5531348012372206 and parameters: {'max_depth': 8, 'min_child_weight': 4, 'subsample': 0.7, 'colsample_bytree': 0.6, 'reg_lambda': 0.11933111439332786, 'reg_alpha': 3.404921435131397, 'feature_fraction': 0.9355826214662013, 'bagging_fraction': 0.6791356851413811, 'bagging_freq': 6}. Best is trial 41 with value: -0.5452595994741678.\u001b[0m\n"
     ]
    },
    {
     "name": "stdout",
     "output_type": "stream",
     "text": [
      "Early stopping, best iteration is:\n",
      "[60]\ttraining's l1: 0.741941\tvalid_1's l1: 0.553135\n",
      "[LightGBM] [Warning] feature_fraction is set=0.9117588109414742, colsample_bytree=0.8 will be ignored. Current value: feature_fraction=0.9117588109414742\n",
      "[LightGBM] [Warning] bagging_fraction is set=0.6978079105513734, subsample=0.8 will be ignored. Current value: bagging_fraction=0.6978079105513734\n",
      "[LightGBM] [Warning] bagging_freq is set=6, subsample_freq=0 will be ignored. Current value: bagging_freq=6\n",
      "Training until validation scores don't improve for 100 rounds\n",
      "[100]\ttraining's l1: 0.735128\tvalid_1's l1: 0.54771\n",
      "[200]\ttraining's l1: 0.733069\tvalid_1's l1: 0.546138\n",
      "[300]\ttraining's l1: 0.731951\tvalid_1's l1: 0.545836\n",
      "[400]\ttraining's l1: 0.73125\tvalid_1's l1: 0.545508\n"
     ]
    },
    {
     "name": "stderr",
     "output_type": "stream",
     "text": [
      "\u001b[32m[I 2021-07-06 12:17:52,740]\u001b[0m Trial 70 finished with value: -0.5455044748277524 and parameters: {'max_depth': 5, 'min_child_weight': 6, 'subsample': 0.8, 'colsample_bytree': 0.8, 'reg_lambda': 0.2236124864383098, 'reg_alpha': 16.048359039573334, 'feature_fraction': 0.9117588109414742, 'bagging_fraction': 0.6978079105513734, 'bagging_freq': 6}. Best is trial 41 with value: -0.5452595994741678.\u001b[0m\n"
     ]
    },
    {
     "name": "stdout",
     "output_type": "stream",
     "text": [
      "Early stopping, best iteration is:\n",
      "[399]\ttraining's l1: 0.731251\tvalid_1's l1: 0.545507\n",
      "[LightGBM] [Warning] feature_fraction is set=0.9093906625620022, colsample_bytree=0.9 will be ignored. Current value: feature_fraction=0.9093906625620022\n",
      "[LightGBM] [Warning] bagging_fraction is set=0.6941597616655476, subsample=0.8 will be ignored. Current value: bagging_fraction=0.6941597616655476\n",
      "[LightGBM] [Warning] bagging_freq is set=6, subsample_freq=0 will be ignored. Current value: bagging_freq=6\n",
      "Training until validation scores don't improve for 100 rounds\n",
      "[100]\ttraining's l1: 0.734837\tvalid_1's l1: 0.548224\n",
      "[200]\ttraining's l1: 0.732879\tvalid_1's l1: 0.547286\n",
      "[300]\ttraining's l1: 0.732285\tvalid_1's l1: 0.546835\n",
      "[400]\ttraining's l1: 0.731582\tvalid_1's l1: 0.545856\n",
      "[500]\ttraining's l1: 0.731267\tvalid_1's l1: 0.545487\n",
      "[600]\ttraining's l1: 0.730681\tvalid_1's l1: 0.544994\n",
      "[700]\ttraining's l1: 0.729961\tvalid_1's l1: 0.544535\n",
      "Early stopping, best iteration is:\n",
      "[635]\ttraining's l1: 0.730168\tvalid_1's l1: 0.544287\n"
     ]
    },
    {
     "name": "stderr",
     "output_type": "stream",
     "text": [
      "\u001b[32m[I 2021-07-06 12:18:14,927]\u001b[0m Trial 71 finished with value: -0.5442824261180979 and parameters: {'max_depth': 5, 'min_child_weight': 4, 'subsample': 0.8, 'colsample_bytree': 0.9, 'reg_lambda': 0.27623201622725785, 'reg_alpha': 18.210428196907873, 'feature_fraction': 0.9093906625620022, 'bagging_fraction': 0.6941597616655476, 'bagging_freq': 6}. Best is trial 71 with value: -0.5442824261180979.\u001b[0m\n"
     ]
    },
    {
     "name": "stdout",
     "output_type": "stream",
     "text": [
      "[LightGBM] [Warning] feature_fraction is set=0.9111188304451455, colsample_bytree=0.8 will be ignored. Current value: feature_fraction=0.9111188304451455\n",
      "[LightGBM] [Warning] bagging_fraction is set=0.637987885546237, subsample=0.8 will be ignored. Current value: bagging_fraction=0.637987885546237\n",
      "[LightGBM] [Warning] bagging_freq is set=6, subsample_freq=0 will be ignored. Current value: bagging_freq=6\n",
      "Training until validation scores don't improve for 100 rounds\n",
      "[100]\ttraining's l1: 0.740231\tvalid_1's l1: 0.552095\n",
      "[200]\ttraining's l1: 0.740032\tvalid_1's l1: 0.5519\n",
      "[300]\ttraining's l1: 0.740001\tvalid_1's l1: 0.551801\n",
      "[400]\ttraining's l1: 0.739947\tvalid_1's l1: 0.55174\n",
      "[500]\ttraining's l1: 0.73993\tvalid_1's l1: 0.551754\n"
     ]
    },
    {
     "name": "stderr",
     "output_type": "stream",
     "text": [
      "\u001b[32m[I 2021-07-06 12:18:30,740]\u001b[0m Trial 72 finished with value: -0.5517361072273542 and parameters: {'max_depth': 7, 'min_child_weight': 4, 'subsample': 0.8, 'colsample_bytree': 0.8, 'reg_lambda': 0.17243211728732702, 'reg_alpha': 15.273761013453226, 'feature_fraction': 0.9111188304451455, 'bagging_fraction': 0.637987885546237, 'bagging_freq': 6}. Best is trial 71 with value: -0.5442824261180979.\u001b[0m\n"
     ]
    },
    {
     "name": "stdout",
     "output_type": "stream",
     "text": [
      "Early stopping, best iteration is:\n",
      "[434]\ttraining's l1: 0.739946\tvalid_1's l1: 0.551737\n",
      "[LightGBM] [Warning] feature_fraction is set=0.9535966341131461, colsample_bytree=0.9 will be ignored. Current value: feature_fraction=0.9535966341131461\n",
      "[LightGBM] [Warning] bagging_fraction is set=0.6672476874658683, subsample=0.8 will be ignored. Current value: bagging_fraction=0.6672476874658683\n",
      "[LightGBM] [Warning] bagging_freq is set=5, subsample_freq=0 will be ignored. Current value: bagging_freq=5\n",
      "Training until validation scores don't improve for 100 rounds\n",
      "[100]\ttraining's l1: 0.735415\tvalid_1's l1: 0.54811\n",
      "[200]\ttraining's l1: 0.733456\tvalid_1's l1: 0.546779\n",
      "[300]\ttraining's l1: 0.732629\tvalid_1's l1: 0.545816\n",
      "[400]\ttraining's l1: 0.731467\tvalid_1's l1: 0.545099\n",
      "[500]\ttraining's l1: 0.731159\tvalid_1's l1: 0.544983\n",
      "[600]\ttraining's l1: 0.730881\tvalid_1's l1: 0.545246\n",
      "Early stopping, best iteration is:\n",
      "[502]\ttraining's l1: 0.731159\tvalid_1's l1: 0.544983\n"
     ]
    },
    {
     "name": "stderr",
     "output_type": "stream",
     "text": [
      "\u001b[32m[I 2021-07-06 12:18:49,349]\u001b[0m Trial 73 finished with value: -0.5449785411761578 and parameters: {'max_depth': 5, 'min_child_weight': 5, 'subsample': 0.8, 'colsample_bytree': 0.9, 'reg_lambda': 0.4502383771525857, 'reg_alpha': 25.803536191105735, 'feature_fraction': 0.9535966341131461, 'bagging_fraction': 0.6672476874658683, 'bagging_freq': 5}. Best is trial 71 with value: -0.5442824261180979.\u001b[0m\n"
     ]
    },
    {
     "name": "stdout",
     "output_type": "stream",
     "text": [
      "[LightGBM] [Warning] feature_fraction is set=0.883512596064197, colsample_bytree=0.9 will be ignored. Current value: feature_fraction=0.883512596064197\n",
      "[LightGBM] [Warning] bagging_fraction is set=0.6597655480551126, subsample=0.8 will be ignored. Current value: bagging_fraction=0.6597655480551126\n",
      "[LightGBM] [Warning] bagging_freq is set=5, subsample_freq=0 will be ignored. Current value: bagging_freq=5\n",
      "Training until validation scores don't improve for 100 rounds\n",
      "[100]\ttraining's l1: 0.735109\tvalid_1's l1: 0.547969\n",
      "[200]\ttraining's l1: 0.733311\tvalid_1's l1: 0.546622\n",
      "[300]\ttraining's l1: 0.732319\tvalid_1's l1: 0.546414\n",
      "[400]\ttraining's l1: 0.731328\tvalid_1's l1: 0.545764\n",
      "[500]\ttraining's l1: 0.730402\tvalid_1's l1: 0.545862\n"
     ]
    },
    {
     "name": "stderr",
     "output_type": "stream",
     "text": [
      "\u001b[32m[I 2021-07-06 12:19:05,282]\u001b[0m Trial 74 finished with value: -0.5454490262306778 and parameters: {'max_depth': 5, 'min_child_weight': 5, 'subsample': 0.8, 'colsample_bytree': 0.9, 'reg_lambda': 0.07601855469325017, 'reg_alpha': 28.646094449167464, 'feature_fraction': 0.883512596064197, 'bagging_fraction': 0.6597655480551126, 'bagging_freq': 5}. Best is trial 71 with value: -0.5442824261180979.\u001b[0m\n"
     ]
    },
    {
     "name": "stdout",
     "output_type": "stream",
     "text": [
      "Early stopping, best iteration is:\n",
      "[413]\ttraining's l1: 0.731031\tvalid_1's l1: 0.54545\n",
      "[LightGBM] [Warning] feature_fraction is set=0.8747600875775653, colsample_bytree=0.9 will be ignored. Current value: feature_fraction=0.8747600875775653\n",
      "[LightGBM] [Warning] bagging_fraction is set=0.6609574184060901, subsample=0.8 will be ignored. Current value: bagging_fraction=0.6609574184060901\n",
      "[LightGBM] [Warning] bagging_freq is set=5, subsample_freq=0 will be ignored. Current value: bagging_freq=5\n",
      "Training until validation scores don't improve for 100 rounds\n",
      "[100]\ttraining's l1: 0.73843\tvalid_1's l1: 0.551415\n",
      "[200]\ttraining's l1: 0.738118\tvalid_1's l1: 0.551089\n",
      "[300]\ttraining's l1: 0.737995\tvalid_1's l1: 0.550963\n"
     ]
    },
    {
     "name": "stderr",
     "output_type": "stream",
     "text": [
      "\u001b[32m[I 2021-07-06 12:19:15,696]\u001b[0m Trial 75 finished with value: -0.5509527192529665 and parameters: {'max_depth': 6, 'min_child_weight': 5, 'subsample': 0.8, 'colsample_bytree': 0.9, 'reg_lambda': 0.013992035605324084, 'reg_alpha': 32.37367055348326, 'feature_fraction': 0.8747600875775653, 'bagging_fraction': 0.6609574184060901, 'bagging_freq': 5}. Best is trial 71 with value: -0.5442824261180979.\u001b[0m\n"
     ]
    },
    {
     "name": "stdout",
     "output_type": "stream",
     "text": [
      "Early stopping, best iteration is:\n",
      "[212]\ttraining's l1: 0.738014\tvalid_1's l1: 0.550953\n",
      "[LightGBM] [Warning] feature_fraction is set=0.9168292036931018, colsample_bytree=0.9 will be ignored. Current value: feature_fraction=0.9168292036931018\n",
      "[LightGBM] [Warning] bagging_fraction is set=0.6520149908838173, subsample=0.8 will be ignored. Current value: bagging_fraction=0.6520149908838173\n",
      "[LightGBM] [Warning] bagging_freq is set=5, subsample_freq=0 will be ignored. Current value: bagging_freq=5\n",
      "Training until validation scores don't improve for 100 rounds\n",
      "[100]\ttraining's l1: 0.734414\tvalid_1's l1: 0.547625\n",
      "[200]\ttraining's l1: 0.732626\tvalid_1's l1: 0.546784\n",
      "[300]\ttraining's l1: 0.731536\tvalid_1's l1: 0.545939\n",
      "[400]\ttraining's l1: 0.731252\tvalid_1's l1: 0.54597\n"
     ]
    },
    {
     "name": "stderr",
     "output_type": "stream",
     "text": [
      "\u001b[32m[I 2021-07-06 12:19:30,494]\u001b[0m Trial 76 finished with value: -0.5458348527567338 and parameters: {'max_depth': 5, 'min_child_weight': 6, 'subsample': 0.8, 'colsample_bytree': 0.9, 'reg_lambda': 0.03137996591741517, 'reg_alpha': 58.25996055253755, 'feature_fraction': 0.9168292036931018, 'bagging_fraction': 0.6520149908838173, 'bagging_freq': 5}. Best is trial 71 with value: -0.5442824261180979.\u001b[0m\n"
     ]
    },
    {
     "name": "stdout",
     "output_type": "stream",
     "text": [
      "Early stopping, best iteration is:\n",
      "[373]\ttraining's l1: 0.731325\tvalid_1's l1: 0.545837\n",
      "[LightGBM] [Warning] feature_fraction is set=0.8833328512963947, colsample_bytree=0.8 will be ignored. Current value: feature_fraction=0.8833328512963947\n",
      "[LightGBM] [Warning] bagging_fraction is set=0.613114541019607, subsample=0.9 will be ignored. Current value: bagging_fraction=0.613114541019607\n",
      "[LightGBM] [Warning] bagging_freq is set=4, subsample_freq=0 will be ignored. Current value: bagging_freq=4\n",
      "Training until validation scores don't improve for 100 rounds\n",
      "[100]\ttraining's l1: 0.748062\tvalid_1's l1: 0.557522\n",
      "[200]\ttraining's l1: 0.747446\tvalid_1's l1: 0.557172\n",
      "[300]\ttraining's l1: 0.746794\tvalid_1's l1: 0.556766\n",
      "[400]\ttraining's l1: 0.746302\tvalid_1's l1: 0.55629\n"
     ]
    },
    {
     "name": "stderr",
     "output_type": "stream",
     "text": [
      "\u001b[32m[I 2021-07-06 12:19:42,209]\u001b[0m Trial 77 finished with value: -0.5562890054444878 and parameters: {'max_depth': 2, 'min_child_weight': 3, 'subsample': 0.9, 'colsample_bytree': 0.8, 'reg_lambda': 0.0718703088458774, 'reg_alpha': 136.70729706000552, 'feature_fraction': 0.8833328512963947, 'bagging_fraction': 0.613114541019607, 'bagging_freq': 4}. Best is trial 71 with value: -0.5442824261180979.\u001b[0m\n"
     ]
    },
    {
     "name": "stdout",
     "output_type": "stream",
     "text": [
      "Early stopping, best iteration is:\n",
      "[342]\ttraining's l1: 0.746303\tvalid_1's l1: 0.556289\n",
      "[LightGBM] [Warning] feature_fraction is set=0.8622870247676686, colsample_bytree=0.9 will be ignored. Current value: feature_fraction=0.8622870247676686\n",
      "[LightGBM] [Warning] bagging_fraction is set=0.7108274553459445, subsample=0.8 will be ignored. Current value: bagging_fraction=0.7108274553459445\n",
      "[LightGBM] [Warning] bagging_freq is set=5, subsample_freq=0 will be ignored. Current value: bagging_freq=5\n",
      "Training until validation scores don't improve for 100 rounds\n",
      "[100]\ttraining's l1: 0.738211\tvalid_1's l1: 0.550926\n",
      "[200]\ttraining's l1: 0.738036\tvalid_1's l1: 0.550891\n",
      "[300]\ttraining's l1: 0.737623\tvalid_1's l1: 0.55061\n"
     ]
    },
    {
     "name": "stderr",
     "output_type": "stream",
     "text": [
      "\u001b[32m[I 2021-07-06 12:19:53,865]\u001b[0m Trial 78 finished with value: -0.5505422379451734 and parameters: {'max_depth': 6, 'min_child_weight': 5, 'subsample': 0.8, 'colsample_bytree': 0.9, 'reg_lambda': 0.04399069670374651, 'reg_alpha': 23.213183183564908, 'feature_fraction': 0.8622870247676686, 'bagging_fraction': 0.7108274553459445, 'bagging_freq': 5}. Best is trial 71 with value: -0.5442824261180979.\u001b[0m\n"
     ]
    },
    {
     "name": "stdout",
     "output_type": "stream",
     "text": [
      "Early stopping, best iteration is:\n",
      "[237]\ttraining's l1: 0.737744\tvalid_1's l1: 0.550543\n",
      "[LightGBM] [Warning] feature_fraction is set=0.9475410216378355, colsample_bytree=0.8 will be ignored. Current value: feature_fraction=0.9475410216378355\n",
      "[LightGBM] [Warning] bagging_fraction is set=0.6675663487930196, subsample=0.8 will be ignored. Current value: bagging_fraction=0.6675663487930196\n",
      "[LightGBM] [Warning] bagging_freq is set=4, subsample_freq=0 will be ignored. Current value: bagging_freq=4\n",
      "Training until validation scores don't improve for 100 rounds\n",
      "[100]\ttraining's l1: 0.740434\tvalid_1's l1: 0.552\n",
      "[200]\ttraining's l1: 0.740123\tvalid_1's l1: 0.55177\n",
      "[300]\ttraining's l1: 0.739975\tvalid_1's l1: 0.551558\n",
      "[400]\ttraining's l1: 0.739965\tvalid_1's l1: 0.551545\n",
      "[500]\ttraining's l1: 0.739768\tvalid_1's l1: 0.551495\n"
     ]
    },
    {
     "name": "stderr",
     "output_type": "stream",
     "text": [
      "\u001b[32m[I 2021-07-06 12:20:12,806]\u001b[0m Trial 79 finished with value: -0.5514906750943586 and parameters: {'max_depth': 7, 'min_child_weight': 7, 'subsample': 0.8, 'colsample_bytree': 0.8, 'reg_lambda': 0.09883116690311339, 'reg_alpha': 12.142480074768793, 'feature_fraction': 0.9475410216378355, 'bagging_fraction': 0.6675663487930196, 'bagging_freq': 4}. Best is trial 71 with value: -0.5442824261180979.\u001b[0m\n"
     ]
    },
    {
     "name": "stdout",
     "output_type": "stream",
     "text": [
      "Early stopping, best iteration is:\n",
      "[455]\ttraining's l1: 0.73977\tvalid_1's l1: 0.551491\n",
      "[LightGBM] [Warning] feature_fraction is set=0.9063289226890425, colsample_bytree=0.9 will be ignored. Current value: feature_fraction=0.9063289226890425\n",
      "[LightGBM] [Warning] bagging_fraction is set=0.6244459704566125, subsample=0.8 will be ignored. Current value: bagging_fraction=0.6244459704566125\n",
      "[LightGBM] [Warning] bagging_freq is set=5, subsample_freq=0 will be ignored. Current value: bagging_freq=5\n",
      "Training until validation scores don't improve for 100 rounds\n",
      "[100]\ttraining's l1: 0.740338\tvalid_1's l1: 0.55208\n",
      "[200]\ttraining's l1: 0.739375\tvalid_1's l1: 0.551151\n",
      "[300]\ttraining's l1: 0.739113\tvalid_1's l1: 0.550906\n",
      "[400]\ttraining's l1: 0.739109\tvalid_1's l1: 0.550906\n"
     ]
    },
    {
     "name": "stderr",
     "output_type": "stream",
     "text": [
      "\u001b[32m[I 2021-07-06 12:20:25,105]\u001b[0m Trial 80 finished with value: -0.5509037485418414 and parameters: {'max_depth': 3, 'min_child_weight': 4, 'subsample': 0.8, 'colsample_bytree': 0.9, 'reg_lambda': 0.22660022997160648, 'reg_alpha': 8.58636563610672, 'feature_fraction': 0.9063289226890425, 'bagging_fraction': 0.6244459704566125, 'bagging_freq': 5}. Best is trial 71 with value: -0.5442824261180979.\u001b[0m\n"
     ]
    },
    {
     "name": "stdout",
     "output_type": "stream",
     "text": [
      "Early stopping, best iteration is:\n",
      "[365]\ttraining's l1: 0.739109\tvalid_1's l1: 0.550905\n",
      "[LightGBM] [Warning] feature_fraction is set=0.9307124925898922, colsample_bytree=0.9 will be ignored. Current value: feature_fraction=0.9307124925898922\n",
      "[LightGBM] [Warning] bagging_fraction is set=0.6885956248704295, subsample=0.8 will be ignored. Current value: bagging_fraction=0.6885956248704295\n",
      "[LightGBM] [Warning] bagging_freq is set=6, subsample_freq=0 will be ignored. Current value: bagging_freq=6\n",
      "Training until validation scores don't improve for 100 rounds\n",
      "[100]\ttraining's l1: 0.734274\tvalid_1's l1: 0.546818\n",
      "[200]\ttraining's l1: 0.73289\tvalid_1's l1: 0.545675\n",
      "[300]\ttraining's l1: 0.732377\tvalid_1's l1: 0.5456\n",
      "[400]\ttraining's l1: 0.731364\tvalid_1's l1: 0.544401\n",
      "[500]\ttraining's l1: 0.731085\tvalid_1's l1: 0.544528\n",
      "Early stopping, best iteration is:\n",
      "[404]\ttraining's l1: 0.731222\tvalid_1's l1: 0.544257\n"
     ]
    },
    {
     "name": "stderr",
     "output_type": "stream",
     "text": [
      "\u001b[32m[I 2021-07-06 12:20:40,822]\u001b[0m Trial 81 finished with value: -0.544254664422373 and parameters: {'max_depth': 5, 'min_child_weight': 5, 'subsample': 0.8, 'colsample_bytree': 0.9, 'reg_lambda': 0.43425672055975933, 'reg_alpha': 5.862680985950459, 'feature_fraction': 0.9307124925898922, 'bagging_fraction': 0.6885956248704295, 'bagging_freq': 6}. Best is trial 81 with value: -0.544254664422373.\u001b[0m\n"
     ]
    },
    {
     "name": "stdout",
     "output_type": "stream",
     "text": [
      "[LightGBM] [Warning] feature_fraction is set=0.9208900633979624, colsample_bytree=0.9 will be ignored. Current value: feature_fraction=0.9208900633979624\n",
      "[LightGBM] [Warning] bagging_fraction is set=0.7572077814471038, subsample=0.8 will be ignored. Current value: bagging_fraction=0.7572077814471038\n",
      "[LightGBM] [Warning] bagging_freq is set=6, subsample_freq=0 will be ignored. Current value: bagging_freq=6\n",
      "Training until validation scores don't improve for 100 rounds\n",
      "[100]\ttraining's l1: 0.73421\tvalid_1's l1: 0.547033\n",
      "[200]\ttraining's l1: 0.732722\tvalid_1's l1: 0.54567\n",
      "[300]\ttraining's l1: 0.731492\tvalid_1's l1: 0.545005\n",
      "[400]\ttraining's l1: 0.731106\tvalid_1's l1: 0.54514\n"
     ]
    },
    {
     "name": "stderr",
     "output_type": "stream",
     "text": [
      "\u001b[32m[I 2021-07-06 12:20:54,657]\u001b[0m Trial 82 finished with value: -0.5449338302487442 and parameters: {'max_depth': 5, 'min_child_weight': 6, 'subsample': 0.8, 'colsample_bytree': 0.9, 'reg_lambda': 0.4605185296109186, 'reg_alpha': 5.340409465214986, 'feature_fraction': 0.9208900633979624, 'bagging_fraction': 0.7572077814471038, 'bagging_freq': 6}. Best is trial 81 with value: -0.544254664422373.\u001b[0m\n"
     ]
    },
    {
     "name": "stdout",
     "output_type": "stream",
     "text": [
      "Early stopping, best iteration is:\n",
      "[309]\ttraining's l1: 0.731443\tvalid_1's l1: 0.544935\n",
      "[LightGBM] [Warning] feature_fraction is set=0.9267712306748601, colsample_bytree=0.9 will be ignored. Current value: feature_fraction=0.9267712306748601\n",
      "[LightGBM] [Warning] bagging_fraction is set=0.7561387787944465, subsample=0.8 will be ignored. Current value: bagging_fraction=0.7561387787944465\n",
      "[LightGBM] [Warning] bagging_freq is set=6, subsample_freq=0 will be ignored. Current value: bagging_freq=6\n",
      "Training until validation scores don't improve for 100 rounds\n",
      "[100]\ttraining's l1: 0.737378\tvalid_1's l1: 0.549196\n",
      "[200]\ttraining's l1: 0.735421\tvalid_1's l1: 0.546996\n",
      "[300]\ttraining's l1: 0.734711\tvalid_1's l1: 0.546843\n",
      "[400]\ttraining's l1: 0.734152\tvalid_1's l1: 0.546099\n",
      "[500]\ttraining's l1: 0.733698\tvalid_1's l1: 0.546057\n",
      "[600]\ttraining's l1: 0.733306\tvalid_1's l1: 0.545897\n",
      "[700]\ttraining's l1: 0.732532\tvalid_1's l1: 0.545189\n",
      "[800]\ttraining's l1: 0.732296\tvalid_1's l1: 0.545063\n",
      "[900]\ttraining's l1: 0.732051\tvalid_1's l1: 0.545495\n",
      "Early stopping, best iteration is:\n",
      "[805]\ttraining's l1: 0.732145\tvalid_1's l1: 0.544959\n"
     ]
    },
    {
     "name": "stderr",
     "output_type": "stream",
     "text": [
      "\u001b[32m[I 2021-07-06 12:21:21,264]\u001b[0m Trial 83 finished with value: -0.5449556234089526 and parameters: {'max_depth': 4, 'min_child_weight': 5, 'subsample': 0.8, 'colsample_bytree': 0.9, 'reg_lambda': 0.40548308013408535, 'reg_alpha': 1.866353007240601, 'feature_fraction': 0.9267712306748601, 'bagging_fraction': 0.7561387787944465, 'bagging_freq': 6}. Best is trial 81 with value: -0.544254664422373.\u001b[0m\n"
     ]
    },
    {
     "name": "stdout",
     "output_type": "stream",
     "text": [
      "[LightGBM] [Warning] feature_fraction is set=0.9313130076053109, colsample_bytree=0.9 will be ignored. Current value: feature_fraction=0.9313130076053109\n",
      "[LightGBM] [Warning] bagging_fraction is set=0.7250460034614975, subsample=0.8 will be ignored. Current value: bagging_fraction=0.7250460034614975\n",
      "[LightGBM] [Warning] bagging_freq is set=6, subsample_freq=0 will be ignored. Current value: bagging_freq=6\n",
      "Training until validation scores don't improve for 100 rounds\n",
      "[100]\ttraining's l1: 0.734453\tvalid_1's l1: 0.546344\n",
      "[200]\ttraining's l1: 0.732451\tvalid_1's l1: 0.54491\n",
      "[300]\ttraining's l1: 0.731746\tvalid_1's l1: 0.544993\n"
     ]
    },
    {
     "name": "stderr",
     "output_type": "stream",
     "text": [
      "\u001b[32m[I 2021-07-06 12:21:32,542]\u001b[0m Trial 84 finished with value: -0.5446950478494648 and parameters: {'max_depth': 5, 'min_child_weight': 5, 'subsample': 0.8, 'colsample_bytree': 0.9, 'reg_lambda': 0.3803043840216203, 'reg_alpha': 4.797808538328266, 'feature_fraction': 0.9313130076053109, 'bagging_fraction': 0.7250460034614975, 'bagging_freq': 6}. Best is trial 81 with value: -0.544254664422373.\u001b[0m\n"
     ]
    },
    {
     "name": "stdout",
     "output_type": "stream",
     "text": [
      "Early stopping, best iteration is:\n",
      "[232]\ttraining's l1: 0.732071\tvalid_1's l1: 0.544696\n",
      "[LightGBM] [Warning] feature_fraction is set=0.934189117570441, colsample_bytree=0.9 will be ignored. Current value: feature_fraction=0.934189117570441\n",
      "[LightGBM] [Warning] bagging_fraction is set=0.7222656810294871, subsample=0.8 will be ignored. Current value: bagging_fraction=0.7222656810294871\n",
      "[LightGBM] [Warning] bagging_freq is set=6, subsample_freq=0 will be ignored. Current value: bagging_freq=6\n",
      "Training until validation scores don't improve for 100 rounds\n",
      "[100]\ttraining's l1: 0.737067\tvalid_1's l1: 0.549017\n",
      "[200]\ttraining's l1: 0.735374\tvalid_1's l1: 0.547462\n",
      "[300]\ttraining's l1: 0.733985\tvalid_1's l1: 0.546401\n",
      "[400]\ttraining's l1: 0.733575\tvalid_1's l1: 0.546311\n",
      "[500]\ttraining's l1: 0.733376\tvalid_1's l1: 0.546238\n",
      "Early stopping, best iteration is:\n",
      "[403]\ttraining's l1: 0.733515\tvalid_1's l1: 0.546181\n"
     ]
    },
    {
     "name": "stderr",
     "output_type": "stream",
     "text": [
      "\u001b[32m[I 2021-07-06 12:21:47,595]\u001b[0m Trial 85 finished with value: -0.5461751776147876 and parameters: {'max_depth': 4, 'min_child_weight': 5, 'subsample': 0.8, 'colsample_bytree': 0.9, 'reg_lambda': 0.4087861405964858, 'reg_alpha': 5.1777188789185065, 'feature_fraction': 0.934189117570441, 'bagging_fraction': 0.7222656810294871, 'bagging_freq': 6}. Best is trial 81 with value: -0.544254664422373.\u001b[0m\n"
     ]
    },
    {
     "name": "stdout",
     "output_type": "stream",
     "text": [
      "[LightGBM] [Warning] feature_fraction is set=0.9605918978043929, colsample_bytree=0.9 will be ignored. Current value: feature_fraction=0.9605918978043929\n",
      "[LightGBM] [Warning] bagging_fraction is set=0.7489848859187517, subsample=0.8 will be ignored. Current value: bagging_fraction=0.7489848859187517\n",
      "[LightGBM] [Warning] bagging_freq is set=5, subsample_freq=0 will be ignored. Current value: bagging_freq=5\n",
      "Training until validation scores don't improve for 100 rounds\n",
      "[100]\ttraining's l1: 0.737976\tvalid_1's l1: 0.550593\n",
      "[200]\ttraining's l1: 0.737107\tvalid_1's l1: 0.549796\n",
      "[300]\ttraining's l1: 0.736541\tvalid_1's l1: 0.549621\n",
      "[400]\ttraining's l1: 0.735947\tvalid_1's l1: 0.549082\n",
      "[500]\ttraining's l1: 0.735369\tvalid_1's l1: 0.548575\n"
     ]
    },
    {
     "name": "stderr",
     "output_type": "stream",
     "text": [
      "\u001b[32m[I 2021-07-06 12:22:06,025]\u001b[0m Trial 86 finished with value: -0.548547025835897 and parameters: {'max_depth': 6, 'min_child_weight': 2, 'subsample': 0.8, 'colsample_bytree': 0.9, 'reg_lambda': 0.31792555493701025, 'reg_alpha': 1.7632282361885077, 'feature_fraction': 0.9605918978043929, 'bagging_fraction': 0.7489848859187517, 'bagging_freq': 5}. Best is trial 81 with value: -0.544254664422373.\u001b[0m\n"
     ]
    },
    {
     "name": "stdout",
     "output_type": "stream",
     "text": [
      "Early stopping, best iteration is:\n",
      "[423]\ttraining's l1: 0.735421\tvalid_1's l1: 0.548548\n",
      "[LightGBM] [Warning] feature_fraction is set=0.9895903686422769, colsample_bytree=0.9 will be ignored. Current value: feature_fraction=0.9895903686422769\n",
      "[LightGBM] [Warning] bagging_fraction is set=0.7997470854528413, subsample=0.8 will be ignored. Current value: bagging_fraction=0.7997470854528413\n",
      "[LightGBM] [Warning] bagging_freq is set=6, subsample_freq=0 will be ignored. Current value: bagging_freq=6\n",
      "Training until validation scores don't improve for 100 rounds\n",
      "[100]\ttraining's l1: 0.735357\tvalid_1's l1: 0.547398\n",
      "[200]\ttraining's l1: 0.733192\tvalid_1's l1: 0.545805\n",
      "[300]\ttraining's l1: 0.73269\tvalid_1's l1: 0.545609\n",
      "[400]\ttraining's l1: 0.732207\tvalid_1's l1: 0.54546\n"
     ]
    },
    {
     "name": "stderr",
     "output_type": "stream",
     "text": [
      "\u001b[32m[I 2021-07-06 12:22:20,997]\u001b[0m Trial 87 finished with value: -0.5452982705660697 and parameters: {'max_depth': 5, 'min_child_weight': 3, 'subsample': 0.8, 'colsample_bytree': 0.9, 'reg_lambda': 0.5457110298284719, 'reg_alpha': 0.7213463516079226, 'feature_fraction': 0.9895903686422769, 'bagging_fraction': 0.7997470854528413, 'bagging_freq': 6}. Best is trial 81 with value: -0.544254664422373.\u001b[0m\n"
     ]
    },
    {
     "name": "stdout",
     "output_type": "stream",
     "text": [
      "Early stopping, best iteration is:\n",
      "[332]\ttraining's l1: 0.732319\tvalid_1's l1: 0.5453\n",
      "[LightGBM] [Warning] feature_fraction is set=0.9900941299366107, colsample_bytree=0.9 will be ignored. Current value: feature_fraction=0.9900941299366107\n",
      "[LightGBM] [Warning] bagging_fraction is set=0.795094142159595, subsample=0.8 will be ignored. Current value: bagging_fraction=0.795094142159595\n",
      "[LightGBM] [Warning] bagging_freq is set=6, subsample_freq=0 will be ignored. Current value: bagging_freq=6\n",
      "Training until validation scores don't improve for 100 rounds\n",
      "[100]\ttraining's l1: 0.737687\tvalid_1's l1: 0.549534\n",
      "[200]\ttraining's l1: 0.736324\tvalid_1's l1: 0.548694\n",
      "[300]\ttraining's l1: 0.735215\tvalid_1's l1: 0.548127\n"
     ]
    },
    {
     "name": "stderr",
     "output_type": "stream",
     "text": [
      "\u001b[32m[I 2021-07-06 12:22:32,891]\u001b[0m Trial 88 finished with value: -0.5479938481366111 and parameters: {'max_depth': 4, 'min_child_weight': 1, 'subsample': 0.8, 'colsample_bytree': 0.9, 'reg_lambda': 1.801177342222181, 'reg_alpha': 0.6994379361565963, 'feature_fraction': 0.9900941299366107, 'bagging_fraction': 0.795094142159595, 'bagging_freq': 6}. Best is trial 81 with value: -0.544254664422373.\u001b[0m\n"
     ]
    },
    {
     "name": "stdout",
     "output_type": "stream",
     "text": [
      "Early stopping, best iteration is:\n",
      "[261]\ttraining's l1: 0.735505\tvalid_1's l1: 0.547995\n",
      "[LightGBM] [Warning] feature_fraction is set=0.9380106248491547, colsample_bytree=0.9 will be ignored. Current value: feature_fraction=0.9380106248491547\n",
      "[LightGBM] [Warning] bagging_fraction is set=0.866865897403543, subsample=0.8 will be ignored. Current value: bagging_fraction=0.866865897403543\n",
      "[LightGBM] [Warning] bagging_freq is set=6, subsample_freq=0 will be ignored. Current value: bagging_freq=6\n",
      "Training until validation scores don't improve for 100 rounds\n",
      "[100]\ttraining's l1: 0.742109\tvalid_1's l1: 0.553095\n",
      "[200]\ttraining's l1: 0.742046\tvalid_1's l1: 0.552986\n",
      "[300]\ttraining's l1: 0.740937\tvalid_1's l1: 0.551934\n"
     ]
    },
    {
     "name": "stderr",
     "output_type": "stream",
     "text": [
      "\u001b[32m[I 2021-07-06 12:22:46,902]\u001b[0m Trial 89 finished with value: -0.5519289460724567 and parameters: {'max_depth': 8, 'min_child_weight': 3, 'subsample': 0.8, 'colsample_bytree': 0.9, 'reg_lambda': 0.4579935804059494, 'reg_alpha': 1.832907874999239, 'feature_fraction': 0.9380106248491547, 'bagging_fraction': 0.866865897403543, 'bagging_freq': 6}. Best is trial 81 with value: -0.544254664422373.\u001b[0m\n"
     ]
    },
    {
     "name": "stdout",
     "output_type": "stream",
     "text": [
      "Early stopping, best iteration is:\n",
      "[267]\ttraining's l1: 0.740942\tvalid_1's l1: 0.55193\n",
      "[LightGBM] [Warning] feature_fraction is set=0.9579522318208915, colsample_bytree=0.9 will be ignored. Current value: feature_fraction=0.9579522318208915\n",
      "[LightGBM] [Warning] bagging_fraction is set=0.7690382597076805, subsample=0.9 will be ignored. Current value: bagging_fraction=0.7690382597076805\n",
      "[LightGBM] [Warning] bagging_freq is set=7, subsample_freq=0 will be ignored. Current value: bagging_freq=7\n",
      "Training until validation scores don't improve for 100 rounds\n",
      "[100]\ttraining's l1: 0.740591\tvalid_1's l1: 0.551817\n",
      "[200]\ttraining's l1: 0.738761\tvalid_1's l1: 0.550191\n",
      "[300]\ttraining's l1: 0.738017\tvalid_1's l1: 0.549902\n",
      "[400]\ttraining's l1: 0.737798\tvalid_1's l1: 0.550008\n"
     ]
    },
    {
     "name": "stderr",
     "output_type": "stream",
     "text": [
      "\u001b[32m[I 2021-07-06 12:22:59,947]\u001b[0m Trial 90 finished with value: -0.5496636043106349 and parameters: {'max_depth': 3, 'min_child_weight': 3, 'subsample': 0.9, 'colsample_bytree': 0.9, 'reg_lambda': 0.16017510647444835, 'reg_alpha': 4.286150013081061, 'feature_fraction': 0.9579522318208915, 'bagging_fraction': 0.7690382597076805, 'bagging_freq': 7}. Best is trial 81 with value: -0.544254664422373.\u001b[0m\n"
     ]
    },
    {
     "name": "stdout",
     "output_type": "stream",
     "text": [
      "Early stopping, best iteration is:\n",
      "[357]\ttraining's l1: 0.737847\tvalid_1's l1: 0.549664\n",
      "[LightGBM] [Warning] feature_fraction is set=0.9280545283987904, colsample_bytree=0.9 will be ignored. Current value: feature_fraction=0.9280545283987904\n",
      "[LightGBM] [Warning] bagging_fraction is set=0.8068028242958667, subsample=0.8 will be ignored. Current value: bagging_fraction=0.8068028242958667\n",
      "[LightGBM] [Warning] bagging_freq is set=5, subsample_freq=0 will be ignored. Current value: bagging_freq=5\n",
      "Training until validation scores don't improve for 100 rounds\n",
      "[100]\ttraining's l1: 0.734833\tvalid_1's l1: 0.546654\n",
      "[200]\ttraining's l1: 0.732889\tvalid_1's l1: 0.545564\n",
      "[300]\ttraining's l1: 0.731869\tvalid_1's l1: 0.545086\n",
      "[400]\ttraining's l1: 0.731466\tvalid_1's l1: 0.544918\n",
      "[500]\ttraining's l1: 0.730727\tvalid_1's l1: 0.544352\n"
     ]
    },
    {
     "name": "stderr",
     "output_type": "stream",
     "text": [
      "\u001b[32m[I 2021-07-06 12:23:20,477]\u001b[0m Trial 91 finished with value: -0.5443388053946341 and parameters: {'max_depth': 5, 'min_child_weight': 4, 'subsample': 0.8, 'colsample_bytree': 0.9, 'reg_lambda': 0.49920274676978327, 'reg_alpha': 2.653132627648897, 'feature_fraction': 0.9280545283987904, 'bagging_fraction': 0.8068028242958667, 'bagging_freq': 5}. Best is trial 81 with value: -0.544254664422373.\u001b[0m\n"
     ]
    },
    {
     "name": "stdout",
     "output_type": "stream",
     "text": [
      "Early stopping, best iteration is:\n",
      "[492]\ttraining's l1: 0.730744\tvalid_1's l1: 0.544342\n",
      "[LightGBM] [Warning] feature_fraction is set=0.9299670458135667, colsample_bytree=0.9 will be ignored. Current value: feature_fraction=0.9299670458135667\n",
      "[LightGBM] [Warning] bagging_fraction is set=0.81655368665359, subsample=0.8 will be ignored. Current value: bagging_fraction=0.81655368665359\n",
      "[LightGBM] [Warning] bagging_freq is set=6, subsample_freq=0 will be ignored. Current value: bagging_freq=6\n",
      "Training until validation scores don't improve for 100 rounds\n",
      "[100]\ttraining's l1: 0.733547\tvalid_1's l1: 0.5464\n",
      "[200]\ttraining's l1: 0.731867\tvalid_1's l1: 0.545252\n",
      "[300]\ttraining's l1: 0.731088\tvalid_1's l1: 0.545418\n",
      "Early stopping, best iteration is:\n",
      "[205]\ttraining's l1: 0.731843\tvalid_1's l1: 0.545222\n"
     ]
    },
    {
     "name": "stderr",
     "output_type": "stream",
     "text": [
      "\u001b[32m[I 2021-07-06 12:23:31,727]\u001b[0m Trial 92 finished with value: -0.5452200377467739 and parameters: {'max_depth': 5, 'min_child_weight': 4, 'subsample': 0.8, 'colsample_bytree': 0.9, 'reg_lambda': 0.5070406673165536, 'reg_alpha': 2.382647420469753, 'feature_fraction': 0.9299670458135667, 'bagging_fraction': 0.81655368665359, 'bagging_freq': 6}. Best is trial 81 with value: -0.544254664422373.\u001b[0m\n"
     ]
    },
    {
     "name": "stdout",
     "output_type": "stream",
     "text": [
      "[LightGBM] [Warning] feature_fraction is set=0.9251466677164573, colsample_bytree=0.9 will be ignored. Current value: feature_fraction=0.9251466677164573\n",
      "[LightGBM] [Warning] bagging_fraction is set=0.8259810972815698, subsample=0.8 will be ignored. Current value: bagging_fraction=0.8259810972815698\n",
      "[LightGBM] [Warning] bagging_freq is set=6, subsample_freq=0 will be ignored. Current value: bagging_freq=6\n",
      "Training until validation scores don't improve for 100 rounds\n",
      "[100]\ttraining's l1: 0.740447\tvalid_1's l1: 0.552074\n",
      "[200]\ttraining's l1: 0.740208\tvalid_1's l1: 0.551947\n"
     ]
    },
    {
     "name": "stderr",
     "output_type": "stream",
     "text": [
      "\u001b[32m[I 2021-07-06 12:23:41,314]\u001b[0m Trial 93 finished with value: -0.5519081887897609 and parameters: {'max_depth': 7, 'min_child_weight': 4, 'subsample': 0.8, 'colsample_bytree': 0.9, 'reg_lambda': 0.355921254824893, 'reg_alpha': 2.250197199664973, 'feature_fraction': 0.9251466677164573, 'bagging_fraction': 0.8259810972815698, 'bagging_freq': 6}. Best is trial 81 with value: -0.544254664422373.\u001b[0m\n"
     ]
    },
    {
     "name": "stdout",
     "output_type": "stream",
     "text": [
      "Early stopping, best iteration is:\n",
      "[144]\ttraining's l1: 0.740233\tvalid_1's l1: 0.55191\n",
      "[LightGBM] [Warning] feature_fraction is set=0.9273710489453476, colsample_bytree=0.9 will be ignored. Current value: feature_fraction=0.9273710489453476\n",
      "[LightGBM] [Warning] bagging_fraction is set=0.7569393729815502, subsample=0.8 will be ignored. Current value: bagging_fraction=0.7569393729815502\n",
      "[LightGBM] [Warning] bagging_freq is set=5, subsample_freq=0 will be ignored. Current value: bagging_freq=5\n",
      "Training until validation scores don't improve for 100 rounds\n",
      "[100]\ttraining's l1: 0.737937\tvalid_1's l1: 0.55092\n",
      "[200]\ttraining's l1: 0.737486\tvalid_1's l1: 0.550459\n",
      "[300]\ttraining's l1: 0.73647\tvalid_1's l1: 0.549656\n",
      "[400]\ttraining's l1: 0.735567\tvalid_1's l1: 0.548918\n",
      "[500]\ttraining's l1: 0.735172\tvalid_1's l1: 0.548366\n"
     ]
    },
    {
     "name": "stderr",
     "output_type": "stream",
     "text": [
      "\u001b[32m[I 2021-07-06 12:23:59,057]\u001b[0m Trial 94 finished with value: -0.5483332971310774 and parameters: {'max_depth': 6, 'min_child_weight': 2, 'subsample': 0.8, 'colsample_bytree': 0.9, 'reg_lambda': 0.9367557775742318, 'reg_alpha': 6.751378797498724, 'feature_fraction': 0.9273710489453476, 'bagging_fraction': 0.7569393729815502, 'bagging_freq': 5}. Best is trial 81 with value: -0.544254664422373.\u001b[0m\n"
     ]
    },
    {
     "name": "stdout",
     "output_type": "stream",
     "text": [
      "Early stopping, best iteration is:\n",
      "[411]\ttraining's l1: 0.73523\tvalid_1's l1: 0.548335\n",
      "[LightGBM] [Warning] feature_fraction is set=0.9035523993110258, colsample_bytree=0.9 will be ignored. Current value: feature_fraction=0.9035523993110258\n",
      "[LightGBM] [Warning] bagging_fraction is set=0.8590141115694605, subsample=0.8 will be ignored. Current value: bagging_fraction=0.8590141115694605\n",
      "[LightGBM] [Warning] bagging_freq is set=10, subsample_freq=0 will be ignored. Current value: bagging_freq=10\n",
      "Training until validation scores don't improve for 100 rounds\n",
      "[100]\ttraining's l1: 0.736773\tvalid_1's l1: 0.548526\n",
      "[200]\ttraining's l1: 0.734094\tvalid_1's l1: 0.546671\n",
      "[300]\ttraining's l1: 0.733236\tvalid_1's l1: 0.545883\n",
      "[400]\ttraining's l1: 0.732499\tvalid_1's l1: 0.544892\n",
      "[500]\ttraining's l1: 0.732101\tvalid_1's l1: 0.544789\n"
     ]
    },
    {
     "name": "stderr",
     "output_type": "stream",
     "text": [
      "\u001b[32m[I 2021-07-06 12:24:16,428]\u001b[0m Trial 95 finished with value: -0.5445700800334933 and parameters: {'max_depth': 4, 'min_child_weight': 5, 'subsample': 0.8, 'colsample_bytree': 0.9, 'reg_lambda': 0.5138817256829998, 'reg_alpha': 1.437625941384091, 'feature_fraction': 0.9035523993110258, 'bagging_fraction': 0.8590141115694605, 'bagging_freq': 10}. Best is trial 81 with value: -0.544254664422373.\u001b[0m\n"
     ]
    },
    {
     "name": "stdout",
     "output_type": "stream",
     "text": [
      "Early stopping, best iteration is:\n",
      "[455]\ttraining's l1: 0.732224\tvalid_1's l1: 0.544574\n",
      "[LightGBM] [Warning] feature_fraction is set=0.9044158811734628, colsample_bytree=0.9 will be ignored. Current value: feature_fraction=0.9044158811734628\n",
      "[LightGBM] [Warning] bagging_fraction is set=0.8357326350445708, subsample=0.8 will be ignored. Current value: bagging_fraction=0.8357326350445708\n",
      "[LightGBM] [Warning] bagging_freq is set=10, subsample_freq=0 will be ignored. Current value: bagging_freq=10\n",
      "Training until validation scores don't improve for 100 rounds\n",
      "[100]\ttraining's l1: 0.73665\tvalid_1's l1: 0.548992\n",
      "[200]\ttraining's l1: 0.735041\tvalid_1's l1: 0.548519\n",
      "[300]\ttraining's l1: 0.734196\tvalid_1's l1: 0.54816\n",
      "[400]\ttraining's l1: 0.733369\tvalid_1's l1: 0.546982\n"
     ]
    },
    {
     "name": "stderr",
     "output_type": "stream",
     "text": [
      "\u001b[32m[I 2021-07-06 12:24:30,111]\u001b[0m Trial 96 finished with value: -0.5469035443793261 and parameters: {'max_depth': 4, 'min_child_weight': 5, 'subsample': 0.8, 'colsample_bytree': 0.9, 'reg_lambda': 0.6028842151514777, 'reg_alpha': 1.0233636348929218, 'feature_fraction': 0.9044158811734628, 'bagging_fraction': 0.8357326350445708, 'bagging_freq': 10}. Best is trial 81 with value: -0.544254664422373.\u001b[0m\n"
     ]
    },
    {
     "name": "stdout",
     "output_type": "stream",
     "text": [
      "Early stopping, best iteration is:\n",
      "[342]\ttraining's l1: 0.733606\tvalid_1's l1: 0.546905\n",
      "[LightGBM] [Warning] feature_fraction is set=0.9468859523416037, colsample_bytree=0.9 will be ignored. Current value: feature_fraction=0.9468859523416037\n",
      "[LightGBM] [Warning] bagging_fraction is set=0.8633140127783231, subsample=0.8 will be ignored. Current value: bagging_fraction=0.8633140127783231\n",
      "[LightGBM] [Warning] bagging_freq is set=6, subsample_freq=0 will be ignored. Current value: bagging_freq=6\n",
      "Training until validation scores don't improve for 100 rounds\n",
      "[100]\ttraining's l1: 0.746186\tvalid_1's l1: 0.555922\n",
      "[200]\ttraining's l1: 0.743406\tvalid_1's l1: 0.553625\n",
      "[300]\ttraining's l1: 0.742037\tvalid_1's l1: 0.552477\n",
      "[400]\ttraining's l1: 0.741786\tvalid_1's l1: 0.552417\n",
      "[500]\ttraining's l1: 0.741407\tvalid_1's l1: 0.552145\n",
      "[600]\ttraining's l1: 0.741303\tvalid_1's l1: 0.552085\n",
      "[700]\ttraining's l1: 0.741022\tvalid_1's l1: 0.551822\n",
      "[800]\ttraining's l1: 0.740889\tvalid_1's l1: 0.551691\n",
      "[900]\ttraining's l1: 0.740796\tvalid_1's l1: 0.551638\n",
      "[1000]\ttraining's l1: 0.740743\tvalid_1's l1: 0.551676\n"
     ]
    },
    {
     "name": "stderr",
     "output_type": "stream",
     "text": [
      "\u001b[32m[I 2021-07-06 12:24:58,255]\u001b[0m Trial 97 finished with value: -0.5516318216663719 and parameters: {'max_depth': 2, 'min_child_weight': 4, 'subsample': 0.8, 'colsample_bytree': 0.9, 'reg_lambda': 1.5915273668143568, 'reg_alpha': 1.3326912552364465, 'feature_fraction': 0.9468859523416037, 'bagging_fraction': 0.8633140127783231, 'bagging_freq': 6}. Best is trial 81 with value: -0.544254664422373.\u001b[0m\n"
     ]
    },
    {
     "name": "stdout",
     "output_type": "stream",
     "text": [
      "Early stopping, best iteration is:\n",
      "[912]\ttraining's l1: 0.740795\tvalid_1's l1: 0.551636\n",
      "[LightGBM] [Warning] feature_fraction is set=0.9177275355611153, colsample_bytree=0.9 will be ignored. Current value: feature_fraction=0.9177275355611153\n",
      "[LightGBM] [Warning] bagging_fraction is set=0.9011223614284953, subsample=0.9 will be ignored. Current value: bagging_fraction=0.9011223614284953\n",
      "[LightGBM] [Warning] bagging_freq is set=7, subsample_freq=0 will be ignored. Current value: bagging_freq=7\n",
      "Training until validation scores don't improve for 100 rounds\n",
      "[100]\ttraining's l1: 0.739631\tvalid_1's l1: 0.55121\n",
      "[200]\ttraining's l1: 0.737924\tvalid_1's l1: 0.5498\n",
      "[300]\ttraining's l1: 0.736921\tvalid_1's l1: 0.549169\n",
      "[400]\ttraining's l1: 0.736311\tvalid_1's l1: 0.548596\n",
      "[500]\ttraining's l1: 0.736035\tvalid_1's l1: 0.548321\n"
     ]
    },
    {
     "name": "stderr",
     "output_type": "stream",
     "text": [
      "\u001b[32m[I 2021-07-06 12:25:15,520]\u001b[0m Trial 98 finished with value: -0.5482538142282368 and parameters: {'max_depth': 3, 'min_child_weight': 5, 'subsample': 0.9, 'colsample_bytree': 0.9, 'reg_lambda': 2.5377720345792105, 'reg_alpha': 2.2548861309954935, 'feature_fraction': 0.9177275355611153, 'bagging_fraction': 0.9011223614284953, 'bagging_freq': 7}. Best is trial 81 with value: -0.544254664422373.\u001b[0m\n"
     ]
    },
    {
     "name": "stdout",
     "output_type": "stream",
     "text": [
      "Early stopping, best iteration is:\n",
      "[455]\ttraining's l1: 0.73605\tvalid_1's l1: 0.548255\n",
      "[LightGBM] [Warning] feature_fraction is set=0.9677925293846832, colsample_bytree=0.9 will be ignored. Current value: feature_fraction=0.9677925293846832\n",
      "[LightGBM] [Warning] bagging_fraction is set=0.8113754765615537, subsample=0.8 will be ignored. Current value: bagging_fraction=0.8113754765615537\n",
      "[LightGBM] [Warning] bagging_freq is set=5, subsample_freq=0 will be ignored. Current value: bagging_freq=5\n",
      "Training until validation scores don't improve for 100 rounds\n",
      "[100]\ttraining's l1: 0.735402\tvalid_1's l1: 0.547416\n",
      "[200]\ttraining's l1: 0.733908\tvalid_1's l1: 0.547008\n",
      "[300]\ttraining's l1: 0.732805\tvalid_1's l1: 0.545299\n",
      "[400]\ttraining's l1: 0.732571\tvalid_1's l1: 0.545194\n",
      "[500]\ttraining's l1: 0.732286\tvalid_1's l1: 0.545332\n",
      "[600]\ttraining's l1: 0.73204\tvalid_1's l1: 0.545067\n"
     ]
    },
    {
     "name": "stderr",
     "output_type": "stream",
     "text": [
      "\u001b[32m[I 2021-07-06 12:25:38,795]\u001b[0m Trial 99 finished with value: -0.5450414304006611 and parameters: {'max_depth': 5, 'min_child_weight': 4, 'subsample': 0.8, 'colsample_bytree': 0.9, 'reg_lambda': 0.8117600308793895, 'reg_alpha': 0.36194810007700523, 'feature_fraction': 0.9677925293846832, 'bagging_fraction': 0.8113754765615537, 'bagging_freq': 5}. Best is trial 81 with value: -0.544254664422373.\u001b[0m\n"
     ]
    },
    {
     "name": "stdout",
     "output_type": "stream",
     "text": [
      "Early stopping, best iteration is:\n",
      "[566]\ttraining's l1: 0.732083\tvalid_1's l1: 0.545044\n",
      "Number of finished trials: 100\n",
      "Best trial: {'max_depth': 5, 'min_child_weight': 5, 'subsample': 0.8, 'colsample_bytree': 0.9, 'reg_lambda': 0.43425672055975933, 'reg_alpha': 5.862680985950459, 'feature_fraction': 0.9307124925898922, 'bagging_fraction': 0.6885956248704295, 'bagging_freq': 6}\n"
     ]
    }
   ],
   "source": [
    "study3 = optuna.create_study(direction='maximize')\n",
    "study3.optimize(fit_lgbm(x_train[feature_cols3], y_train['target3'], x_valid[feature_cols3], y_valid['target3'], learning_rates[2]), n_trials=100)\n",
    "\n",
    "print('Number of finished trials:', len(study3.trials))\n",
    "print('Best trial:', study3.best_trial.params)"
   ]
  },
  {
   "cell_type": "code",
   "execution_count": 45,
   "id": "a35f3442",
   "metadata": {},
   "outputs": [
    {
     "name": "stderr",
     "output_type": "stream",
     "text": [
      "\u001b[32m[I 2021-07-06 12:25:38,821]\u001b[0m A new study created in memory with name: no-name-08acfef2-bb87-4a01-87bb-71b0307388d4\u001b[0m\n"
     ]
    },
    {
     "name": "stdout",
     "output_type": "stream",
     "text": [
      "[LightGBM] [Warning] feature_fraction is set=0.606088662836255, colsample_bytree=0.9 will be ignored. Current value: feature_fraction=0.606088662836255\n",
      "[LightGBM] [Warning] bagging_fraction is set=0.8145757439790631, subsample=0.6 will be ignored. Current value: bagging_fraction=0.8145757439790631\n",
      "[LightGBM] [Warning] bagging_freq is set=4, subsample_freq=0 will be ignored. Current value: bagging_freq=4\n",
      "Training until validation scores don't improve for 100 rounds\n",
      "[100]\ttraining's l1: 0.821737\tvalid_1's l1: 1.11215\n",
      "[200]\ttraining's l1: 0.800797\tvalid_1's l1: 1.10532\n",
      "[300]\ttraining's l1: 0.780674\tvalid_1's l1: 1.09841\n"
     ]
    },
    {
     "name": "stderr",
     "output_type": "stream",
     "text": [
      "\u001b[32m[I 2021-07-06 12:25:57,880]\u001b[0m Trial 0 finished with value: -1.0963930025165227 and parameters: {'max_depth': 12, 'min_child_weight': 19, 'subsample': 0.6, 'colsample_bytree': 0.9, 'reg_lambda': 0.004917860519593217, 'reg_alpha': 0.3689121532996565, 'feature_fraction': 0.606088662836255, 'bagging_fraction': 0.8145757439790631, 'bagging_freq': 4}. Best is trial 0 with value: -1.0963930025165227.\u001b[0m\n"
     ]
    },
    {
     "name": "stdout",
     "output_type": "stream",
     "text": [
      "Early stopping, best iteration is:\n",
      "[265]\ttraining's l1: 0.78479\tvalid_1's l1: 1.09663\n",
      "[LightGBM] [Warning] feature_fraction is set=0.8388193331268416, colsample_bytree=0.8 will be ignored. Current value: feature_fraction=0.8388193331268416\n",
      "[LightGBM] [Warning] bagging_fraction is set=0.7883207358206802, subsample=0.6 will be ignored. Current value: bagging_fraction=0.7883207358206802\n",
      "[LightGBM] [Warning] bagging_freq is set=8, subsample_freq=0 will be ignored. Current value: bagging_freq=8\n",
      "Training until validation scores don't improve for 100 rounds\n",
      "[100]\ttraining's l1: 0.838443\tvalid_1's l1: 1.12097\n",
      "[200]\ttraining's l1: 0.823132\tvalid_1's l1: 1.10946\n",
      "[300]\ttraining's l1: 0.81264\tvalid_1's l1: 1.10743\n",
      "[400]\ttraining's l1: 0.802991\tvalid_1's l1: 1.10628\n"
     ]
    },
    {
     "name": "stderr",
     "output_type": "stream",
     "text": [
      "\u001b[32m[I 2021-07-06 12:26:14,524]\u001b[0m Trial 1 finished with value: -1.105614210422724 and parameters: {'max_depth': 4, 'min_child_weight': 4, 'subsample': 0.6, 'colsample_bytree': 0.8, 'reg_lambda': 1.3486392506580422, 'reg_alpha': 0.9195463121874898, 'feature_fraction': 0.8388193331268416, 'bagging_fraction': 0.7883207358206802, 'bagging_freq': 8}. Best is trial 0 with value: -1.0963930025165227.\u001b[0m\n"
     ]
    },
    {
     "name": "stdout",
     "output_type": "stream",
     "text": [
      "Early stopping, best iteration is:\n",
      "[395]\ttraining's l1: 0.803695\tvalid_1's l1: 1.10577\n",
      "[LightGBM] [Warning] feature_fraction is set=0.51999211770318, colsample_bytree=0.9 will be ignored. Current value: feature_fraction=0.51999211770318\n",
      "[LightGBM] [Warning] bagging_fraction is set=0.5702536908052711, subsample=0.8 will be ignored. Current value: bagging_fraction=0.5702536908052711\n",
      "[LightGBM] [Warning] bagging_freq is set=8, subsample_freq=0 will be ignored. Current value: bagging_freq=8\n",
      "Training until validation scores don't improve for 100 rounds\n",
      "[100]\ttraining's l1: 0.859487\tvalid_1's l1: 1.14045\n",
      "[200]\ttraining's l1: 0.841563\tvalid_1's l1: 1.12239\n",
      "[300]\ttraining's l1: 0.833135\tvalid_1's l1: 1.11713\n",
      "[400]\ttraining's l1: 0.827909\tvalid_1's l1: 1.11501\n",
      "[500]\ttraining's l1: 0.82273\tvalid_1's l1: 1.11345\n",
      "[600]\ttraining's l1: 0.8177\tvalid_1's l1: 1.11062\n",
      "[700]\ttraining's l1: 0.81436\tvalid_1's l1: 1.1117\n"
     ]
    },
    {
     "name": "stderr",
     "output_type": "stream",
     "text": [
      "\u001b[32m[I 2021-07-06 12:26:35,923]\u001b[0m Trial 2 finished with value: -1.1104177249996259 and parameters: {'max_depth': 3, 'min_child_weight': 20, 'subsample': 0.8, 'colsample_bytree': 0.9, 'reg_lambda': 0.0025884535314976446, 'reg_alpha': 8.45544905340555, 'feature_fraction': 0.51999211770318, 'bagging_fraction': 0.5702536908052711, 'bagging_freq': 8}. Best is trial 0 with value: -1.0963930025165227.\u001b[0m\n"
     ]
    },
    {
     "name": "stdout",
     "output_type": "stream",
     "text": [
      "Early stopping, best iteration is:\n",
      "[626]\ttraining's l1: 0.816887\tvalid_1's l1: 1.11054\n",
      "[LightGBM] [Warning] feature_fraction is set=0.71706277254013, colsample_bytree=0.8 will be ignored. Current value: feature_fraction=0.71706277254013\n",
      "[LightGBM] [Warning] bagging_fraction is set=0.7141102545572999, subsample=0.7 will be ignored. Current value: bagging_fraction=0.7141102545572999\n",
      "[LightGBM] [Warning] bagging_freq is set=5, subsample_freq=0 will be ignored. Current value: bagging_freq=5\n",
      "Training until validation scores don't improve for 100 rounds\n",
      "[100]\ttraining's l1: 0.828479\tvalid_1's l1: 1.11599\n",
      "[200]\ttraining's l1: 0.8157\tvalid_1's l1: 1.11074\n",
      "[300]\ttraining's l1: 0.799864\tvalid_1's l1: 1.11371\n"
     ]
    },
    {
     "name": "stderr",
     "output_type": "stream",
     "text": [
      "\u001b[32m[I 2021-07-06 12:26:49,916]\u001b[0m Trial 3 finished with value: -1.1073218100079671 and parameters: {'max_depth': 13, 'min_child_weight': 5, 'subsample': 0.7, 'colsample_bytree': 0.8, 'reg_lambda': 903.3415164456044, 'reg_alpha': 0.0131136361352602, 'feature_fraction': 0.71706277254013, 'bagging_fraction': 0.7141102545572999, 'bagging_freq': 5}. Best is trial 0 with value: -1.0963930025165227.\u001b[0m\n"
     ]
    },
    {
     "name": "stdout",
     "output_type": "stream",
     "text": [
      "Early stopping, best iteration is:\n",
      "[264]\ttraining's l1: 0.807088\tvalid_1's l1: 1.1074\n",
      "[LightGBM] [Warning] feature_fraction is set=0.6923238653397762, colsample_bytree=0.6 will be ignored. Current value: feature_fraction=0.6923238653397762\n",
      "[LightGBM] [Warning] bagging_fraction is set=0.8077710402937277, subsample=0.6 will be ignored. Current value: bagging_fraction=0.8077710402937277\n",
      "[LightGBM] [Warning] bagging_freq is set=3, subsample_freq=0 will be ignored. Current value: bagging_freq=3\n",
      "Training until validation scores don't improve for 100 rounds\n",
      "[100]\ttraining's l1: 0.825863\tvalid_1's l1: 1.11314\n",
      "[200]\ttraining's l1: 0.802669\tvalid_1's l1: 1.10521\n",
      "[300]\ttraining's l1: 0.783329\tvalid_1's l1: 1.10051\n",
      "[400]\ttraining's l1: 0.766664\tvalid_1's l1: 1.10117\n"
     ]
    },
    {
     "name": "stderr",
     "output_type": "stream",
     "text": [
      "\u001b[32m[I 2021-07-06 12:27:10,484]\u001b[0m Trial 4 finished with value: -1.098741940172162 and parameters: {'max_depth': 20, 'min_child_weight': 10, 'subsample': 0.6, 'colsample_bytree': 0.6, 'reg_lambda': 0.16944567883905964, 'reg_alpha': 0.057557033534664716, 'feature_fraction': 0.6923238653397762, 'bagging_fraction': 0.8077710402937277, 'bagging_freq': 3}. Best is trial 0 with value: -1.0963930025165227.\u001b[0m\n"
     ]
    },
    {
     "name": "stdout",
     "output_type": "stream",
     "text": [
      "Early stopping, best iteration is:\n",
      "[384]\ttraining's l1: 0.768547\tvalid_1's l1: 1.09897\n",
      "[LightGBM] [Warning] feature_fraction is set=0.8208877466582349, colsample_bytree=0.6 will be ignored. Current value: feature_fraction=0.8208877466582349\n",
      "[LightGBM] [Warning] bagging_fraction is set=0.6397637054385742, subsample=0.8 will be ignored. Current value: bagging_fraction=0.6397637054385742\n",
      "[LightGBM] [Warning] bagging_freq is set=5, subsample_freq=0 will be ignored. Current value: bagging_freq=5\n",
      "Training until validation scores don't improve for 100 rounds\n",
      "[100]\ttraining's l1: 0.83164\tvalid_1's l1: 1.11705\n",
      "[200]\ttraining's l1: 0.817482\tvalid_1's l1: 1.10743\n",
      "[300]\ttraining's l1: 0.80389\tvalid_1's l1: 1.10583\n",
      "[400]\ttraining's l1: 0.787854\tvalid_1's l1: 1.10404\n",
      "[500]\ttraining's l1: 0.768177\tvalid_1's l1: 1.09943\n",
      "[600]\ttraining's l1: 0.75772\tvalid_1's l1: 1.103\n"
     ]
    },
    {
     "name": "stderr",
     "output_type": "stream",
     "text": [
      "\u001b[32m[I 2021-07-06 12:27:31,911]\u001b[0m Trial 5 finished with value: -1.0982783489387693 and parameters: {'max_depth': 13, 'min_child_weight': 4, 'subsample': 0.8, 'colsample_bytree': 0.6, 'reg_lambda': 0.012459151693699187, 'reg_alpha': 0.010076410127534852, 'feature_fraction': 0.8208877466582349, 'bagging_fraction': 0.6397637054385742, 'bagging_freq': 5}. Best is trial 0 with value: -1.0963930025165227.\u001b[0m\n"
     ]
    },
    {
     "name": "stdout",
     "output_type": "stream",
     "text": [
      "Early stopping, best iteration is:\n",
      "[529]\ttraining's l1: 0.765572\tvalid_1's l1: 1.09844\n",
      "[LightGBM] [Warning] feature_fraction is set=0.8006699717387973, colsample_bytree=0.5 will be ignored. Current value: feature_fraction=0.8006699717387973\n",
      "[LightGBM] [Warning] bagging_fraction is set=0.720085672485308, subsample=0.5 will be ignored. Current value: bagging_fraction=0.720085672485308\n",
      "[LightGBM] [Warning] bagging_freq is set=7, subsample_freq=0 will be ignored. Current value: bagging_freq=7\n",
      "Training until validation scores don't improve for 100 rounds\n",
      "[100]\ttraining's l1: 0.827437\tvalid_1's l1: 1.11426\n",
      "[200]\ttraining's l1: 0.809759\tvalid_1's l1: 1.10729\n",
      "[300]\ttraining's l1: 0.790671\tvalid_1's l1: 1.10536\n",
      "[400]\ttraining's l1: 0.776693\tvalid_1's l1: 1.10696\n",
      "Early stopping, best iteration is:\n",
      "[304]\ttraining's l1: 0.788768\tvalid_1's l1: 1.10394\n"
     ]
    },
    {
     "name": "stderr",
     "output_type": "stream",
     "text": [
      "\u001b[32m[I 2021-07-06 12:27:46,683]\u001b[0m Trial 6 finished with value: -1.1037983424293636 and parameters: {'max_depth': 11, 'min_child_weight': 18, 'subsample': 0.5, 'colsample_bytree': 0.5, 'reg_lambda': 5.200810530358792, 'reg_alpha': 3.8734701747562914, 'feature_fraction': 0.8006699717387973, 'bagging_fraction': 0.720085672485308, 'bagging_freq': 7}. Best is trial 0 with value: -1.0963930025165227.\u001b[0m\n"
     ]
    },
    {
     "name": "stdout",
     "output_type": "stream",
     "text": [
      "[LightGBM] [Warning] feature_fraction is set=0.4978029399235959, colsample_bytree=0.5 will be ignored. Current value: feature_fraction=0.4978029399235959\n",
      "[LightGBM] [Warning] bagging_fraction is set=0.42927001839520457, subsample=0.6 will be ignored. Current value: bagging_fraction=0.42927001839520457\n",
      "[LightGBM] [Warning] bagging_freq is set=6, subsample_freq=0 will be ignored. Current value: bagging_freq=6\n",
      "Training until validation scores don't improve for 100 rounds\n",
      "[100]\ttraining's l1: 0.930719\tvalid_1's l1: 1.22755\n",
      "[200]\ttraining's l1: 0.91758\tvalid_1's l1: 1.20559\n",
      "[300]\ttraining's l1: 0.91051\tvalid_1's l1: 1.19131\n",
      "[400]\ttraining's l1: 0.9053\tvalid_1's l1: 1.18305\n",
      "[500]\ttraining's l1: 0.90223\tvalid_1's l1: 1.1774\n",
      "[600]\ttraining's l1: 0.89982\tvalid_1's l1: 1.17614\n",
      "[700]\ttraining's l1: 0.897884\tvalid_1's l1: 1.17341\n",
      "[800]\ttraining's l1: 0.896208\tvalid_1's l1: 1.16985\n",
      "[900]\ttraining's l1: 0.895081\tvalid_1's l1: 1.16942\n",
      "[1000]\ttraining's l1: 0.894047\tvalid_1's l1: 1.16799\n",
      "[1100]\ttraining's l1: 0.892595\tvalid_1's l1: 1.16902\n",
      "[1200]\ttraining's l1: 0.891363\tvalid_1's l1: 1.16757\n"
     ]
    },
    {
     "name": "stderr",
     "output_type": "stream",
     "text": [
      "\u001b[32m[I 2021-07-06 12:28:13,657]\u001b[0m Trial 7 finished with value: -1.1660049027532318 and parameters: {'max_depth': 1, 'min_child_weight': 11, 'subsample': 0.6, 'colsample_bytree': 0.5, 'reg_lambda': 0.002038194436507769, 'reg_alpha': 6.047930514338698, 'feature_fraction': 0.4978029399235959, 'bagging_fraction': 0.42927001839520457, 'bagging_freq': 6}. Best is trial 0 with value: -1.0963930025165227.\u001b[0m\n"
     ]
    },
    {
     "name": "stdout",
     "output_type": "stream",
     "text": [
      "Early stopping, best iteration is:\n",
      "[1122]\ttraining's l1: 0.892102\tvalid_1's l1: 1.16625\n",
      "[LightGBM] [Warning] feature_fraction is set=0.848670826879825, colsample_bytree=0.5 will be ignored. Current value: feature_fraction=0.848670826879825\n",
      "[LightGBM] [Warning] bagging_fraction is set=0.8111934356807453, subsample=0.8 will be ignored. Current value: bagging_fraction=0.8111934356807453\n",
      "[LightGBM] [Warning] bagging_freq is set=2, subsample_freq=0 will be ignored. Current value: bagging_freq=2\n",
      "Training until validation scores don't improve for 100 rounds\n",
      "[100]\ttraining's l1: 0.826242\tvalid_1's l1: 1.11504\n",
      "[200]\ttraining's l1: 0.811701\tvalid_1's l1: 1.10861\n",
      "[300]\ttraining's l1: 0.793842\tvalid_1's l1: 1.10977\n"
     ]
    },
    {
     "name": "stderr",
     "output_type": "stream",
     "text": [
      "\u001b[32m[I 2021-07-06 12:28:34,378]\u001b[0m Trial 8 finished with value: -1.1047624681957349 and parameters: {'max_depth': 18, 'min_child_weight': 3, 'subsample': 0.8, 'colsample_bytree': 0.5, 'reg_lambda': 0.06660709510209314, 'reg_alpha': 203.99450250601123, 'feature_fraction': 0.848670826879825, 'bagging_fraction': 0.8111934356807453, 'bagging_freq': 2}. Best is trial 0 with value: -1.0963930025165227.\u001b[0m\n"
     ]
    },
    {
     "name": "stdout",
     "output_type": "stream",
     "text": [
      "Early stopping, best iteration is:\n",
      "[272]\ttraining's l1: 0.798407\tvalid_1's l1: 1.10481\n",
      "[LightGBM] [Warning] feature_fraction is set=0.46087397977249045, colsample_bytree=0.5 will be ignored. Current value: feature_fraction=0.46087397977249045\n",
      "[LightGBM] [Warning] bagging_fraction is set=0.5446692121966645, subsample=0.8 will be ignored. Current value: bagging_fraction=0.5446692121966645\n",
      "[LightGBM] [Warning] bagging_freq is set=5, subsample_freq=0 will be ignored. Current value: bagging_freq=5\n",
      "Training until validation scores don't improve for 100 rounds\n",
      "[100]\ttraining's l1: 0.822172\tvalid_1's l1: 1.11463\n",
      "[200]\ttraining's l1: 0.802227\tvalid_1's l1: 1.11121\n"
     ]
    },
    {
     "name": "stderr",
     "output_type": "stream",
     "text": [
      "\u001b[32m[I 2021-07-06 12:28:44,376]\u001b[0m Trial 9 finished with value: -1.1088247422391602 and parameters: {'max_depth': 16, 'min_child_weight': 17, 'subsample': 0.8, 'colsample_bytree': 0.5, 'reg_lambda': 752.33395816357, 'reg_alpha': 0.0017741648805242754, 'feature_fraction': 0.46087397977249045, 'bagging_fraction': 0.5446692121966645, 'bagging_freq': 5}. Best is trial 0 with value: -1.0963930025165227.\u001b[0m\n"
     ]
    },
    {
     "name": "stdout",
     "output_type": "stream",
     "text": [
      "Early stopping, best iteration is:\n",
      "[168]\ttraining's l1: 0.807106\tvalid_1's l1: 1.10887\n",
      "[LightGBM] [Warning] feature_fraction is set=0.9852987971674294, colsample_bytree=0.9 will be ignored. Current value: feature_fraction=0.9852987971674294\n",
      "[LightGBM] [Warning] bagging_fraction is set=0.9627571131439492, subsample=0.5 will be ignored. Current value: bagging_fraction=0.9627571131439492\n",
      "[LightGBM] [Warning] bagging_freq is set=10, subsample_freq=0 will be ignored. Current value: bagging_freq=10\n",
      "Training until validation scores don't improve for 100 rounds\n",
      "[100]\ttraining's l1: 0.831269\tvalid_1's l1: 1.11705\n",
      "[200]\ttraining's l1: 0.820218\tvalid_1's l1: 1.10629\n",
      "[300]\ttraining's l1: 0.811122\tvalid_1's l1: 1.1052\n",
      "[400]\ttraining's l1: 0.80604\tvalid_1's l1: 1.10436\n",
      "[500]\ttraining's l1: 0.801294\tvalid_1's l1: 1.10431\n",
      "[600]\ttraining's l1: 0.790709\tvalid_1's l1: 1.10247\n",
      "Early stopping, best iteration is:\n",
      "[572]\ttraining's l1: 0.792993\tvalid_1's l1: 1.10232\n"
     ]
    },
    {
     "name": "stderr",
     "output_type": "stream",
     "text": [
      "\u001b[32m[I 2021-07-06 12:29:11,424]\u001b[0m Trial 10 finished with value: -1.1021897094897433 and parameters: {'max_depth': 8, 'min_child_weight': 14, 'subsample': 0.5, 'colsample_bytree': 0.9, 'reg_lambda': 27.412675646526708, 'reg_alpha': 258.67852002724743, 'feature_fraction': 0.9852987971674294, 'bagging_fraction': 0.9627571131439492, 'bagging_freq': 10}. Best is trial 0 with value: -1.0963930025165227.\u001b[0m\n"
     ]
    },
    {
     "name": "stdout",
     "output_type": "stream",
     "text": [
      "[LightGBM] [Warning] feature_fraction is set=0.6268459480838614, colsample_bytree=0.7 will be ignored. Current value: feature_fraction=0.6268459480838614\n",
      "[LightGBM] [Warning] bagging_fraction is set=0.9449429752977403, subsample=0.9 will be ignored. Current value: bagging_fraction=0.9449429752977403\n",
      "[LightGBM] [Warning] bagging_freq is set=3, subsample_freq=0 will be ignored. Current value: bagging_freq=3\n",
      "Training until validation scores don't improve for 100 rounds\n",
      "[100]\ttraining's l1: 0.821589\tvalid_1's l1: 1.11267\n",
      "[200]\ttraining's l1: 0.802599\tvalid_1's l1: 1.10851\n",
      "[300]\ttraining's l1: 0.784644\tvalid_1's l1: 1.10612\n"
     ]
    },
    {
     "name": "stderr",
     "output_type": "stream",
     "text": [
      "\u001b[32m[I 2021-07-06 12:29:32,933]\u001b[0m Trial 11 finished with value: -1.104952345932416 and parameters: {'max_depth': 14, 'min_child_weight': 7, 'subsample': 0.9, 'colsample_bytree': 0.7, 'reg_lambda': 0.014826038691463608, 'reg_alpha': 0.10878135333894419, 'feature_fraction': 0.6268459480838614, 'bagging_fraction': 0.9449429752977403, 'bagging_freq': 3}. Best is trial 0 with value: -1.0963930025165227.\u001b[0m\n"
     ]
    },
    {
     "name": "stdout",
     "output_type": "stream",
     "text": [
      "Early stopping, best iteration is:\n",
      "[276]\ttraining's l1: 0.789163\tvalid_1's l1: 1.10506\n",
      "[LightGBM] [Warning] feature_fraction is set=0.9935887936973473, colsample_bytree=0.7 will be ignored. Current value: feature_fraction=0.9935887936973473\n",
      "[LightGBM] [Warning] bagging_fraction is set=0.6022483749674543, subsample=0.7 will be ignored. Current value: bagging_fraction=0.6022483749674543\n",
      "[LightGBM] [Warning] bagging_freq is set=4, subsample_freq=0 will be ignored. Current value: bagging_freq=4\n",
      "Training until validation scores don't improve for 100 rounds\n",
      "[100]\ttraining's l1: 0.824358\tvalid_1's l1: 1.11461\n",
      "[200]\ttraining's l1: 0.809274\tvalid_1's l1: 1.10968\n",
      "[300]\ttraining's l1: 0.807974\tvalid_1's l1: 1.10914\n",
      "[400]\ttraining's l1: 0.807537\tvalid_1's l1: 1.10881\n",
      "[500]\ttraining's l1: 0.806324\tvalid_1's l1: 1.10925\n"
     ]
    },
    {
     "name": "stderr",
     "output_type": "stream",
     "text": [
      "\u001b[32m[I 2021-07-06 12:29:51,593]\u001b[0m Trial 12 finished with value: -1.1085364744726578 and parameters: {'max_depth': 8, 'min_child_weight': 9, 'subsample': 0.7, 'colsample_bytree': 0.7, 'reg_lambda': 0.001000217745666773, 'reg_alpha': 0.0011615405851568227, 'feature_fraction': 0.9935887936973473, 'bagging_fraction': 0.6022483749674543, 'bagging_freq': 4}. Best is trial 0 with value: -1.0963930025165227.\u001b[0m\n"
     ]
    },
    {
     "name": "stdout",
     "output_type": "stream",
     "text": [
      "Early stopping, best iteration is:\n",
      "[439]\ttraining's l1: 0.806866\tvalid_1's l1: 1.10868\n",
      "[LightGBM] [Warning] feature_fraction is set=0.5851923563305164, colsample_bytree=0.6 will be ignored. Current value: feature_fraction=0.5851923563305164\n",
      "[LightGBM] [Warning] bagging_fraction is set=0.8944693617548745, subsample=0.9 will be ignored. Current value: bagging_fraction=0.8944693617548745\n",
      "[LightGBM] [Warning] bagging_freq is set=1, subsample_freq=0 will be ignored. Current value: bagging_freq=1\n",
      "Training until validation scores don't improve for 100 rounds\n",
      "[100]\ttraining's l1: 0.828562\tvalid_1's l1: 1.11411\n",
      "[200]\ttraining's l1: 0.812303\tvalid_1's l1: 1.10828\n",
      "[300]\ttraining's l1: 0.794354\tvalid_1's l1: 1.1074\n"
     ]
    },
    {
     "name": "stderr",
     "output_type": "stream",
     "text": [
      "\u001b[32m[I 2021-07-06 12:30:07,318]\u001b[0m Trial 13 finished with value: -1.104803292298033 and parameters: {'max_depth': 9, 'min_child_weight': 2, 'subsample': 0.9, 'colsample_bytree': 0.6, 'reg_lambda': 0.013988155974922822, 'reg_alpha': 0.26072449957687427, 'feature_fraction': 0.5851923563305164, 'bagging_fraction': 0.8944693617548745, 'bagging_freq': 1}. Best is trial 0 with value: -1.0963930025165227.\u001b[0m\n"
     ]
    },
    {
     "name": "stdout",
     "output_type": "stream",
     "text": [
      "Early stopping, best iteration is:\n",
      "[291]\ttraining's l1: 0.796452\tvalid_1's l1: 1.10489\n",
      "[LightGBM] [Warning] feature_fraction is set=0.926165993098538, colsample_bytree=0.6 will be ignored. Current value: feature_fraction=0.926165993098538\n",
      "[LightGBM] [Warning] bagging_fraction is set=0.6408332629520481, subsample=0.7 will be ignored. Current value: bagging_fraction=0.6408332629520481\n",
      "[LightGBM] [Warning] bagging_freq is set=4, subsample_freq=0 will be ignored. Current value: bagging_freq=4\n",
      "Training until validation scores don't improve for 100 rounds\n",
      "[100]\ttraining's l1: 0.82671\tvalid_1's l1: 1.11183\n",
      "[200]\ttraining's l1: 0.821029\tvalid_1's l1: 1.10904\n",
      "[300]\ttraining's l1: 0.813539\tvalid_1's l1: 1.10535\n",
      "[400]\ttraining's l1: 0.805507\tvalid_1's l1: 1.10348\n",
      "[500]\ttraining's l1: 0.79705\tvalid_1's l1: 1.10392\n"
     ]
    },
    {
     "name": "stderr",
     "output_type": "stream",
     "text": [
      "\u001b[32m[I 2021-07-06 12:30:27,177]\u001b[0m Trial 14 finished with value: -1.1018044465979329 and parameters: {'max_depth': 12, 'min_child_weight': 14, 'subsample': 0.7, 'colsample_bytree': 0.6, 'reg_lambda': 0.01438844621676625, 'reg_alpha': 0.011595659662381113, 'feature_fraction': 0.926165993098538, 'bagging_fraction': 0.6408332629520481, 'bagging_freq': 4}. Best is trial 0 with value: -1.0963930025165227.\u001b[0m\n"
     ]
    },
    {
     "name": "stdout",
     "output_type": "stream",
     "text": [
      "Early stopping, best iteration is:\n",
      "[440]\ttraining's l1: 0.799669\tvalid_1's l1: 1.10191\n",
      "[LightGBM] [Warning] feature_fraction is set=0.7351630175883299, colsample_bytree=0.8 will be ignored. Current value: feature_fraction=0.7351630175883299\n",
      "[LightGBM] [Warning] bagging_fraction is set=0.4906586078933896, subsample=0.8 will be ignored. Current value: bagging_fraction=0.4906586078933896\n",
      "[LightGBM] [Warning] bagging_freq is set=6, subsample_freq=0 will be ignored. Current value: bagging_freq=6\n",
      "Training until validation scores don't improve for 100 rounds\n",
      "[100]\ttraining's l1: 0.824623\tvalid_1's l1: 1.11082\n",
      "[200]\ttraining's l1: 0.811474\tvalid_1's l1: 1.10596\n",
      "[300]\ttraining's l1: 0.799206\tvalid_1's l1: 1.10514\n"
     ]
    },
    {
     "name": "stderr",
     "output_type": "stream",
     "text": [
      "\u001b[32m[I 2021-07-06 12:30:38,609]\u001b[0m Trial 15 finished with value: -1.103706278026987 and parameters: {'max_depth': 16, 'min_child_weight': 13, 'subsample': 0.8, 'colsample_bytree': 0.8, 'reg_lambda': 0.16323142557002765, 'reg_alpha': 0.010927005502377338, 'feature_fraction': 0.7351630175883299, 'bagging_fraction': 0.4906586078933896, 'bagging_freq': 6}. Best is trial 0 with value: -1.0963930025165227.\u001b[0m\n"
     ]
    },
    {
     "name": "stdout",
     "output_type": "stream",
     "text": [
      "Early stopping, best iteration is:\n",
      "[295]\ttraining's l1: 0.799576\tvalid_1's l1: 1.10379\n",
      "[LightGBM] [Warning] feature_fraction is set=0.6005263081560915, colsample_bytree=0.6 will be ignored. Current value: feature_fraction=0.6005263081560915\n",
      "[LightGBM] [Warning] bagging_fraction is set=0.6612678975850103, subsample=0.6 will be ignored. Current value: bagging_fraction=0.6612678975850103\n",
      "[LightGBM] [Warning] bagging_freq is set=2, subsample_freq=0 will be ignored. Current value: bagging_freq=2\n",
      "Training until validation scores don't improve for 100 rounds\n",
      "[100]\ttraining's l1: 0.824993\tvalid_1's l1: 1.11457\n",
      "[200]\ttraining's l1: 0.799272\tvalid_1's l1: 1.10763\n",
      "[300]\ttraining's l1: 0.773385\tvalid_1's l1: 1.10437\n"
     ]
    },
    {
     "name": "stderr",
     "output_type": "stream",
     "text": [
      "\u001b[32m[I 2021-07-06 12:30:57,785]\u001b[0m Trial 16 finished with value: -1.1026344726690838 and parameters: {'max_depth': 15, 'min_child_weight': 1, 'subsample': 0.6, 'colsample_bytree': 0.6, 'reg_lambda': 0.004757044745699644, 'reg_alpha': 0.6504648184775924, 'feature_fraction': 0.6005263081560915, 'bagging_fraction': 0.6612678975850103, 'bagging_freq': 2}. Best is trial 0 with value: -1.0963930025165227.\u001b[0m\n"
     ]
    },
    {
     "name": "stdout",
     "output_type": "stream",
     "text": [
      "Early stopping, best iteration is:\n",
      "[272]\ttraining's l1: 0.778918\tvalid_1's l1: 1.10281\n",
      "[LightGBM] [Warning] feature_fraction is set=0.9092311627519007, colsample_bytree=0.7 will be ignored. Current value: feature_fraction=0.9092311627519007\n",
      "[LightGBM] [Warning] bagging_fraction is set=0.8826235874134173, subsample=0.9 will be ignored. Current value: bagging_fraction=0.8826235874134173\n",
      "[LightGBM] [Warning] bagging_freq is set=4, subsample_freq=0 will be ignored. Current value: bagging_freq=4\n",
      "Training until validation scores don't improve for 100 rounds\n",
      "[100]\ttraining's l1: 0.820178\tvalid_1's l1: 1.10946\n",
      "[200]\ttraining's l1: 0.811183\tvalid_1's l1: 1.10629\n",
      "[300]\ttraining's l1: 0.793097\tvalid_1's l1: 1.10436\n",
      "[400]\ttraining's l1: 0.779214\tvalid_1's l1: 1.10378\n"
     ]
    },
    {
     "name": "stderr",
     "output_type": "stream",
     "text": [
      "\u001b[32m[I 2021-07-06 12:31:18,973]\u001b[0m Trial 17 finished with value: -1.1011807754999734 and parameters: {'max_depth': 6, 'min_child_weight': 7, 'subsample': 0.9, 'colsample_bytree': 0.7, 'reg_lambda': 0.051556057165760984, 'reg_alpha': 0.029306586208588278, 'feature_fraction': 0.9092311627519007, 'bagging_fraction': 0.8826235874134173, 'bagging_freq': 4}. Best is trial 0 with value: -1.0963930025165227.\u001b[0m\n"
     ]
    },
    {
     "name": "stdout",
     "output_type": "stream",
     "text": [
      "Early stopping, best iteration is:\n",
      "[376]\ttraining's l1: 0.781612\tvalid_1's l1: 1.1014\n",
      "[LightGBM] [Warning] feature_fraction is set=0.4056980318366865, colsample_bytree=0.9 will be ignored. Current value: feature_fraction=0.4056980318366865\n",
      "[LightGBM] [Warning] bagging_fraction is set=0.7559237118780523, subsample=0.5 will be ignored. Current value: bagging_fraction=0.7559237118780523\n",
      "[LightGBM] [Warning] bagging_freq is set=7, subsample_freq=0 will be ignored. Current value: bagging_freq=7\n",
      "Training until validation scores don't improve for 100 rounds\n",
      "[100]\ttraining's l1: 0.820023\tvalid_1's l1: 1.11477\n",
      "[200]\ttraining's l1: 0.80097\tvalid_1's l1: 1.11324\n"
     ]
    },
    {
     "name": "stderr",
     "output_type": "stream",
     "text": [
      "\u001b[32m[I 2021-07-06 12:31:29,786]\u001b[0m Trial 18 finished with value: -1.1101907264891764 and parameters: {'max_depth': 10, 'min_child_weight': 20, 'subsample': 0.5, 'colsample_bytree': 0.9, 'reg_lambda': 0.7006158655472062, 'reg_alpha': 26.092596246826893, 'feature_fraction': 0.4056980318366865, 'bagging_fraction': 0.7559237118780523, 'bagging_freq': 7}. Best is trial 0 with value: -1.0963930025165227.\u001b[0m\n"
     ]
    },
    {
     "name": "stdout",
     "output_type": "stream",
     "text": [
      "Early stopping, best iteration is:\n",
      "[153]\ttraining's l1: 0.809768\tvalid_1's l1: 1.11026\n",
      "[LightGBM] [Warning] feature_fraction is set=0.6665405743275707, colsample_bytree=0.8 will be ignored. Current value: feature_fraction=0.6665405743275707\n",
      "[LightGBM] [Warning] bagging_fraction is set=0.8542211463694253, subsample=0.7 will be ignored. Current value: bagging_fraction=0.8542211463694253\n",
      "[LightGBM] [Warning] bagging_freq is set=10, subsample_freq=0 will be ignored. Current value: bagging_freq=10\n",
      "Training until validation scores don't improve for 100 rounds\n",
      "[100]\ttraining's l1: 0.824496\tvalid_1's l1: 1.11138\n",
      "[200]\ttraining's l1: 0.799017\tvalid_1's l1: 1.1036\n",
      "[300]\ttraining's l1: 0.774856\tvalid_1's l1: 1.10195\n",
      "[400]\ttraining's l1: 0.760239\tvalid_1's l1: 1.10767\n"
     ]
    },
    {
     "name": "stderr",
     "output_type": "stream",
     "text": [
      "\u001b[32m[I 2021-07-06 12:31:45,524]\u001b[0m Trial 19 finished with value: -1.1008012163662981 and parameters: {'max_depth': 18, 'min_child_weight': 17, 'subsample': 0.7, 'colsample_bytree': 0.8, 'reg_lambda': 111.61835963315032, 'reg_alpha': 0.0029460365807088716, 'feature_fraction': 0.6665405743275707, 'bagging_fraction': 0.8542211463694253, 'bagging_freq': 10}. Best is trial 0 with value: -1.0963930025165227.\u001b[0m\n"
     ]
    },
    {
     "name": "stdout",
     "output_type": "stream",
     "text": [
      "Early stopping, best iteration is:\n",
      "[307]\ttraining's l1: 0.771853\tvalid_1's l1: 1.10114\n",
      "[LightGBM] [Warning] feature_fraction is set=0.7717253095659693, colsample_bytree=0.6 will be ignored. Current value: feature_fraction=0.7717253095659693\n",
      "[LightGBM] [Warning] bagging_fraction is set=0.6672206909081212, subsample=0.8 will be ignored. Current value: bagging_fraction=0.6672206909081212\n",
      "[LightGBM] [Warning] bagging_freq is set=1, subsample_freq=0 will be ignored. Current value: bagging_freq=1\n",
      "Training until validation scores don't improve for 100 rounds\n",
      "[100]\ttraining's l1: 0.827095\tvalid_1's l1: 1.11381\n",
      "[200]\ttraining's l1: 0.807048\tvalid_1's l1: 1.11136\n",
      "[300]\ttraining's l1: 0.785116\tvalid_1's l1: 1.10968\n"
     ]
    },
    {
     "name": "stderr",
     "output_type": "stream",
     "text": [
      "\u001b[32m[I 2021-07-06 12:31:57,884]\u001b[0m Trial 20 finished with value: -1.1059418231931568 and parameters: {'max_depth': 12, 'min_child_weight': 8, 'subsample': 0.8, 'colsample_bytree': 0.6, 'reg_lambda': 0.005684041533260714, 'reg_alpha': 0.2641555570645047, 'feature_fraction': 0.7717253095659693, 'bagging_fraction': 0.6672206909081212, 'bagging_freq': 1}. Best is trial 0 with value: -1.0963930025165227.\u001b[0m\n"
     ]
    },
    {
     "name": "stdout",
     "output_type": "stream",
     "text": [
      "Early stopping, best iteration is:\n",
      "[271]\ttraining's l1: 0.794615\tvalid_1's l1: 1.10604\n",
      "[LightGBM] [Warning] feature_fraction is set=0.6656335104055585, colsample_bytree=0.6 will be ignored. Current value: feature_fraction=0.6656335104055585\n",
      "[LightGBM] [Warning] bagging_fraction is set=0.8256082447008215, subsample=0.6 will be ignored. Current value: bagging_fraction=0.8256082447008215\n",
      "[LightGBM] [Warning] bagging_freq is set=3, subsample_freq=0 will be ignored. Current value: bagging_freq=3\n",
      "Training until validation scores don't improve for 100 rounds\n",
      "[100]\ttraining's l1: 0.821297\tvalid_1's l1: 1.11228\n",
      "[200]\ttraining's l1: 0.796659\tvalid_1's l1: 1.11072\n",
      "[300]\ttraining's l1: 0.779332\tvalid_1's l1: 1.10562\n"
     ]
    },
    {
     "name": "stderr",
     "output_type": "stream",
     "text": [
      "\u001b[32m[I 2021-07-06 12:32:15,977]\u001b[0m Trial 21 finished with value: -1.1054716199541097 and parameters: {'max_depth': 20, 'min_child_weight': 11, 'subsample': 0.6, 'colsample_bytree': 0.6, 'reg_lambda': 0.2758231327152224, 'reg_alpha': 0.06277969870429127, 'feature_fraction': 0.6656335104055585, 'bagging_fraction': 0.8256082447008215, 'bagging_freq': 3}. Best is trial 0 with value: -1.0963930025165227.\u001b[0m\n"
     ]
    },
    {
     "name": "stdout",
     "output_type": "stream",
     "text": [
      "[400]\ttraining's l1: 0.761947\tvalid_1's l1: 1.11101\n",
      "Early stopping, best iteration is:\n",
      "[301]\ttraining's l1: 0.779149\tvalid_1's l1: 1.1056\n",
      "[LightGBM] [Warning] feature_fraction is set=0.5659463056163032, colsample_bytree=0.6 will be ignored. Current value: feature_fraction=0.5659463056163032\n",
      "[LightGBM] [Warning] bagging_fraction is set=0.7584168124024954, subsample=0.6 will be ignored. Current value: bagging_fraction=0.7584168124024954\n",
      "[LightGBM] [Warning] bagging_freq is set=4, subsample_freq=0 will be ignored. Current value: bagging_freq=4\n",
      "Training until validation scores don't improve for 100 rounds\n",
      "[100]\ttraining's l1: 0.82394\tvalid_1's l1: 1.1157\n",
      "[200]\ttraining's l1: 0.809318\tvalid_1's l1: 1.11117\n"
     ]
    },
    {
     "name": "stderr",
     "output_type": "stream",
     "text": [
      "\u001b[32m[I 2021-07-06 12:32:30,138]\u001b[0m Trial 22 finished with value: -1.110193851766501 and parameters: {'max_depth': 20, 'min_child_weight': 5, 'subsample': 0.6, 'colsample_bytree': 0.6, 'reg_lambda': 0.055166765964014576, 'reg_alpha': 0.058290334904947394, 'feature_fraction': 0.5659463056163032, 'bagging_fraction': 0.7584168124024954, 'bagging_freq': 4}. Best is trial 0 with value: -1.0963930025165227.\u001b[0m\n"
     ]
    },
    {
     "name": "stdout",
     "output_type": "stream",
     "text": [
      "Early stopping, best iteration is:\n",
      "[179]\ttraining's l1: 0.813394\tvalid_1's l1: 1.11028\n",
      "[LightGBM] [Warning] feature_fraction is set=0.6733319507222613, colsample_bytree=0.7 will be ignored. Current value: feature_fraction=0.6733319507222613\n",
      "[LightGBM] [Warning] bagging_fraction is set=0.909569193189028, subsample=0.6 will be ignored. Current value: bagging_fraction=0.909569193189028\n",
      "[LightGBM] [Warning] bagging_freq is set=3, subsample_freq=0 will be ignored. Current value: bagging_freq=3\n",
      "Training until validation scores don't improve for 100 rounds\n",
      "[100]\ttraining's l1: 0.826505\tvalid_1's l1: 1.11451\n",
      "[200]\ttraining's l1: 0.807989\tvalid_1's l1: 1.10849\n"
     ]
    },
    {
     "name": "stderr",
     "output_type": "stream",
     "text": [
      "\u001b[32m[I 2021-07-06 12:32:44,495]\u001b[0m Trial 23 finished with value: -1.108074029286136 and parameters: {'max_depth': 18, 'min_child_weight': 10, 'subsample': 0.6, 'colsample_bytree': 0.7, 'reg_lambda': 0.20368386888259185, 'reg_alpha': 0.004700905090434202, 'feature_fraction': 0.6733319507222613, 'bagging_fraction': 0.909569193189028, 'bagging_freq': 3}. Best is trial 0 with value: -1.0963930025165227.\u001b[0m\n"
     ]
    },
    {
     "name": "stdout",
     "output_type": "stream",
     "text": [
      "Early stopping, best iteration is:\n",
      "[190]\ttraining's l1: 0.808679\tvalid_1's l1: 1.10816\n",
      "[LightGBM] [Warning] feature_fraction is set=0.7645410448581421, colsample_bytree=0.6 will be ignored. Current value: feature_fraction=0.7645410448581421\n",
      "[LightGBM] [Warning] bagging_fraction is set=0.7574409821922007, subsample=0.5 will be ignored. Current value: bagging_fraction=0.7574409821922007\n",
      "[LightGBM] [Warning] bagging_freq is set=2, subsample_freq=0 will be ignored. Current value: bagging_freq=2\n",
      "Training until validation scores don't improve for 100 rounds\n",
      "[100]\ttraining's l1: 0.829358\tvalid_1's l1: 1.112\n",
      "[200]\ttraining's l1: 0.815158\tvalid_1's l1: 1.10791\n",
      "[300]\ttraining's l1: 0.801792\tvalid_1's l1: 1.10404\n",
      "[400]\ttraining's l1: 0.778928\tvalid_1's l1: 1.10325\n"
     ]
    },
    {
     "name": "stderr",
     "output_type": "stream",
     "text": [
      "\u001b[32m[I 2021-07-06 12:33:07,178]\u001b[0m Trial 24 finished with value: -1.1028086508622077 and parameters: {'max_depth': 15, 'min_child_weight': 13, 'subsample': 0.5, 'colsample_bytree': 0.6, 'reg_lambda': 0.037522093108180644, 'reg_alpha': 0.23552077278791678, 'feature_fraction': 0.7645410448581421, 'bagging_fraction': 0.7574409821922007, 'bagging_freq': 2}. Best is trial 0 with value: -1.0963930025165227.\u001b[0m\n"
     ]
    },
    {
     "name": "stdout",
     "output_type": "stream",
     "text": [
      "Early stopping, best iteration is:\n",
      "[398]\ttraining's l1: 0.7793\tvalid_1's l1: 1.10303\n",
      "[LightGBM] [Warning] feature_fraction is set=0.8246095708812506, colsample_bytree=0.7 will be ignored. Current value: feature_fraction=0.8246095708812506\n",
      "[LightGBM] [Warning] bagging_fraction is set=0.8343494863093514, subsample=0.7 will be ignored. Current value: bagging_fraction=0.8343494863093514\n",
      "[LightGBM] [Warning] bagging_freq is set=5, subsample_freq=0 will be ignored. Current value: bagging_freq=5\n",
      "Training until validation scores don't improve for 100 rounds\n",
      "[100]\ttraining's l1: 0.82106\tvalid_1's l1: 1.1101\n",
      "[200]\ttraining's l1: 0.807029\tvalid_1's l1: 1.10486\n",
      "[300]\ttraining's l1: 0.791639\tvalid_1's l1: 1.1037\n"
     ]
    },
    {
     "name": "stderr",
     "output_type": "stream",
     "text": [
      "\u001b[32m[I 2021-07-06 12:33:22,855]\u001b[0m Trial 25 finished with value: -1.1030868803472944 and parameters: {'max_depth': 6, 'min_child_weight': 6, 'subsample': 0.7, 'colsample_bytree': 0.7, 'reg_lambda': 2.5750628327895035, 'reg_alpha': 0.03104829955539264, 'feature_fraction': 0.8246095708812506, 'bagging_fraction': 0.8343494863093514, 'bagging_freq': 5}. Best is trial 0 with value: -1.0963930025165227.\u001b[0m\n"
     ]
    },
    {
     "name": "stdout",
     "output_type": "stream",
     "text": [
      "Early stopping, best iteration is:\n",
      "[271]\ttraining's l1: 0.795047\tvalid_1's l1: 1.10323\n",
      "[LightGBM] [Warning] feature_fraction is set=0.6338000558865146, colsample_bytree=0.5 will be ignored. Current value: feature_fraction=0.6338000558865146\n",
      "[LightGBM] [Warning] bagging_fraction is set=0.7004094108014052, subsample=0.6 will be ignored. Current value: bagging_fraction=0.7004094108014052\n",
      "[LightGBM] [Warning] bagging_freq is set=3, subsample_freq=0 will be ignored. Current value: bagging_freq=3\n",
      "Training until validation scores don't improve for 100 rounds\n",
      "[100]\ttraining's l1: 0.822111\tvalid_1's l1: 1.111\n",
      "[200]\ttraining's l1: 0.803617\tvalid_1's l1: 1.10758\n",
      "[300]\ttraining's l1: 0.782997\tvalid_1's l1: 1.11122\n"
     ]
    },
    {
     "name": "stderr",
     "output_type": "stream",
     "text": [
      "\u001b[32m[I 2021-07-06 12:33:36,102]\u001b[0m Trial 26 finished with value: -1.1071881999321043 and parameters: {'max_depth': 13, 'min_child_weight': 15, 'subsample': 0.6, 'colsample_bytree': 0.5, 'reg_lambda': 0.0012801241759618097, 'reg_alpha': 2.928267832832487, 'feature_fraction': 0.6338000558865146, 'bagging_fraction': 0.7004094108014052, 'bagging_freq': 3}. Best is trial 0 with value: -1.0963930025165227.\u001b[0m\n"
     ]
    },
    {
     "name": "stdout",
     "output_type": "stream",
     "text": [
      "Early stopping, best iteration is:\n",
      "[218]\ttraining's l1: 0.800033\tvalid_1's l1: 1.1073\n",
      "[LightGBM] [Warning] feature_fraction is set=0.8903615337593663, colsample_bytree=0.6 will be ignored. Current value: feature_fraction=0.8903615337593663\n",
      "[LightGBM] [Warning] bagging_fraction is set=0.6170211198356611, subsample=0.7 will be ignored. Current value: bagging_fraction=0.6170211198356611\n",
      "[LightGBM] [Warning] bagging_freq is set=6, subsample_freq=0 will be ignored. Current value: bagging_freq=6\n",
      "Training until validation scores don't improve for 100 rounds\n",
      "[100]\ttraining's l1: 0.826192\tvalid_1's l1: 1.11445\n",
      "[200]\ttraining's l1: 0.81895\tvalid_1's l1: 1.11028\n",
      "[300]\ttraining's l1: 0.80768\tvalid_1's l1: 1.10563\n",
      "[400]\ttraining's l1: 0.7936\tvalid_1's l1: 1.10168\n",
      "[500]\ttraining's l1: 0.782135\tvalid_1's l1: 1.10038\n",
      "[600]\ttraining's l1: 0.756901\tvalid_1's l1: 1.09939\n",
      "Early stopping, best iteration is:\n",
      "[537]\ttraining's l1: 0.770629\tvalid_1's l1: 1.09868\n"
     ]
    },
    {
     "name": "stderr",
     "output_type": "stream",
     "text": [
      "\u001b[32m[I 2021-07-06 12:33:56,765]\u001b[0m Trial 27 finished with value: -1.098345997148173 and parameters: {'max_depth': 10, 'min_child_weight': 1, 'subsample': 0.7, 'colsample_bytree': 0.6, 'reg_lambda': 0.4667868590950188, 'reg_alpha': 0.16361888704292413, 'feature_fraction': 0.8903615337593663, 'bagging_fraction': 0.6170211198356611, 'bagging_freq': 6}. Best is trial 0 with value: -1.0963930025165227.\u001b[0m\n"
     ]
    },
    {
     "name": "stdout",
     "output_type": "stream",
     "text": [
      "[LightGBM] [Warning] feature_fraction is set=0.8864246825100897, colsample_bytree=0.7 will be ignored. Current value: feature_fraction=0.8864246825100897\n",
      "[LightGBM] [Warning] bagging_fraction is set=0.5175232850065253, subsample=0.8 will be ignored. Current value: bagging_fraction=0.5175232850065253\n",
      "[LightGBM] [Warning] bagging_freq is set=7, subsample_freq=0 will be ignored. Current value: bagging_freq=7\n",
      "Training until validation scores don't improve for 100 rounds\n",
      "[100]\ttraining's l1: 0.832427\tvalid_1's l1: 1.12009\n",
      "[200]\ttraining's l1: 0.807691\tvalid_1's l1: 1.10847\n"
     ]
    },
    {
     "name": "stderr",
     "output_type": "stream",
     "text": [
      "\u001b[32m[I 2021-07-06 12:34:06,517]\u001b[0m Trial 28 finished with value: -1.1082689520125268 and parameters: {'max_depth': 10, 'min_child_weight': 1, 'subsample': 0.8, 'colsample_bytree': 0.7, 'reg_lambda': 0.006907423695894685, 'reg_alpha': 1.951071805700105, 'feature_fraction': 0.8864246825100897, 'bagging_fraction': 0.5175232850065253, 'bagging_freq': 7}. Best is trial 0 with value: -1.0963930025165227.\u001b[0m\n"
     ]
    },
    {
     "name": "stdout",
     "output_type": "stream",
     "text": [
      "[300]\ttraining's l1: 0.793939\tvalid_1's l1: 1.11273\n",
      "Early stopping, best iteration is:\n",
      "[202]\ttraining's l1: 0.807312\tvalid_1's l1: 1.10839\n",
      "[LightGBM] [Warning] feature_fraction is set=0.856370691160247, colsample_bytree=0.6 will be ignored. Current value: feature_fraction=0.856370691160247\n",
      "[LightGBM] [Warning] bagging_fraction is set=0.5972456280770432, subsample=0.7 will be ignored. Current value: bagging_fraction=0.5972456280770432\n",
      "[LightGBM] [Warning] bagging_freq is set=6, subsample_freq=0 will be ignored. Current value: bagging_freq=6\n",
      "Training until validation scores don't improve for 100 rounds\n",
      "[100]\ttraining's l1: 0.828046\tvalid_1's l1: 1.11353\n",
      "[200]\ttraining's l1: 0.809485\tvalid_1's l1: 1.10695\n",
      "[300]\ttraining's l1: 0.793723\tvalid_1's l1: 1.10746\n"
     ]
    },
    {
     "name": "stderr",
     "output_type": "stream",
     "text": [
      "\u001b[32m[I 2021-07-06 12:34:19,635]\u001b[0m Trial 29 finished with value: -1.104380120401788 and parameters: {'max_depth': 7, 'min_child_weight': 4, 'subsample': 0.7, 'colsample_bytree': 0.6, 'reg_lambda': 0.895844411688701, 'reg_alpha': 1.336943480829841, 'feature_fraction': 0.856370691160247, 'bagging_fraction': 0.5972456280770432, 'bagging_freq': 6}. Best is trial 0 with value: -1.0963930025165227.\u001b[0m\n"
     ]
    },
    {
     "name": "stdout",
     "output_type": "stream",
     "text": [
      "Early stopping, best iteration is:\n",
      "[278]\ttraining's l1: 0.796574\tvalid_1's l1: 1.10469\n",
      "[LightGBM] [Warning] feature_fraction is set=0.9250946910765492, colsample_bytree=0.8 will be ignored. Current value: feature_fraction=0.9250946910765492\n",
      "[LightGBM] [Warning] bagging_fraction is set=0.47699597251924686, subsample=0.7 will be ignored. Current value: bagging_fraction=0.47699597251924686\n",
      "[LightGBM] [Warning] bagging_freq is set=9, subsample_freq=0 will be ignored. Current value: bagging_freq=9\n",
      "Training until validation scores don't improve for 100 rounds\n",
      "[100]\ttraining's l1: 0.831256\tvalid_1's l1: 1.11721\n",
      "[200]\ttraining's l1: 0.814397\tvalid_1's l1: 1.10606\n",
      "[300]\ttraining's l1: 0.803481\tvalid_1's l1: 1.10412\n",
      "[400]\ttraining's l1: 0.78753\tvalid_1's l1: 1.10331\n"
     ]
    },
    {
     "name": "stderr",
     "output_type": "stream",
     "text": [
      "\u001b[32m[I 2021-07-06 12:34:31,718]\u001b[0m Trial 30 finished with value: -1.1015272269942773 and parameters: {'max_depth': 11, 'min_child_weight': 3, 'subsample': 0.7, 'colsample_bytree': 0.8, 'reg_lambda': 6.8925445896969135, 'reg_alpha': 0.5921269334722411, 'feature_fraction': 0.9250946910765492, 'bagging_fraction': 0.47699597251924686, 'bagging_freq': 9}. Best is trial 0 with value: -1.0963930025165227.\u001b[0m\n"
     ]
    },
    {
     "name": "stdout",
     "output_type": "stream",
     "text": [
      "Early stopping, best iteration is:\n",
      "[333]\ttraining's l1: 0.800116\tvalid_1's l1: 1.10165\n",
      "[LightGBM] [Warning] feature_fraction is set=0.7754415880630885, colsample_bytree=0.6 will be ignored. Current value: feature_fraction=0.7754415880630885\n",
      "[LightGBM] [Warning] bagging_fraction is set=0.7839463520829967, subsample=0.6 will be ignored. Current value: bagging_fraction=0.7839463520829967\n",
      "[LightGBM] [Warning] bagging_freq is set=5, subsample_freq=0 will be ignored. Current value: bagging_freq=5\n",
      "Training until validation scores don't improve for 100 rounds\n",
      "[100]\ttraining's l1: 0.824171\tvalid_1's l1: 1.11315\n",
      "[200]\ttraining's l1: 0.806892\tvalid_1's l1: 1.10606\n",
      "[300]\ttraining's l1: 0.783431\tvalid_1's l1: 1.1002\n",
      "[400]\ttraining's l1: 0.767568\tvalid_1's l1: 1.10304\n"
     ]
    },
    {
     "name": "stderr",
     "output_type": "stream",
     "text": [
      "\u001b[32m[I 2021-07-06 12:34:49,089]\u001b[0m Trial 31 finished with value: -1.0995314177636204 and parameters: {'max_depth': 9, 'min_child_weight': 1, 'subsample': 0.6, 'colsample_bytree': 0.6, 'reg_lambda': 0.2857270224322176, 'reg_alpha': 0.13746934840076835, 'feature_fraction': 0.7754415880630885, 'bagging_fraction': 0.7839463520829967, 'bagging_freq': 5}. Best is trial 0 with value: -1.0963930025165227.\u001b[0m\n"
     ]
    },
    {
     "name": "stdout",
     "output_type": "stream",
     "text": [
      "Early stopping, best iteration is:\n",
      "[340]\ttraining's l1: 0.777841\tvalid_1's l1: 1.09974\n",
      "[LightGBM] [Warning] feature_fraction is set=0.5348672946393634, colsample_bytree=0.6 will be ignored. Current value: feature_fraction=0.5348672946393634\n",
      "[LightGBM] [Warning] bagging_fraction is set=0.6110746084778516, subsample=0.6 will be ignored. Current value: bagging_fraction=0.6110746084778516\n",
      "[LightGBM] [Warning] bagging_freq is set=4, subsample_freq=0 will be ignored. Current value: bagging_freq=4\n",
      "Training until validation scores don't improve for 100 rounds\n",
      "[100]\ttraining's l1: 0.838624\tvalid_1's l1: 1.12172\n",
      "[200]\ttraining's l1: 0.821865\tvalid_1's l1: 1.11172\n",
      "[300]\ttraining's l1: 0.812151\tvalid_1's l1: 1.10758\n",
      "[400]\ttraining's l1: 0.804711\tvalid_1's l1: 1.10751\n",
      "[500]\ttraining's l1: 0.796994\tvalid_1's l1: 1.10664\n"
     ]
    },
    {
     "name": "stderr",
     "output_type": "stream",
     "text": [
      "\u001b[32m[I 2021-07-06 12:35:09,731]\u001b[0m Trial 32 finished with value: -1.1052623915828967 and parameters: {'max_depth': 4, 'min_child_weight': 3, 'subsample': 0.6, 'colsample_bytree': 0.6, 'reg_lambda': 0.5813118774283746, 'reg_alpha': 0.030479335687096595, 'feature_fraction': 0.5348672946393634, 'bagging_fraction': 0.6110746084778516, 'bagging_freq': 4}. Best is trial 0 with value: -1.0963930025165227.\u001b[0m\n"
     ]
    },
    {
     "name": "stdout",
     "output_type": "stream",
     "text": [
      "Early stopping, best iteration is:\n",
      "[484]\ttraining's l1: 0.798454\tvalid_1's l1: 1.10552\n",
      "[LightGBM] [Warning] feature_fraction is set=0.7160432266684916, colsample_bytree=0.5 will be ignored. Current value: feature_fraction=0.7160432266684916\n",
      "[LightGBM] [Warning] bagging_fraction is set=0.6746800903875623, subsample=0.7 will be ignored. Current value: bagging_fraction=0.6746800903875623\n",
      "[LightGBM] [Warning] bagging_freq is set=5, subsample_freq=0 will be ignored. Current value: bagging_freq=5\n",
      "Training until validation scores don't improve for 100 rounds\n",
      "[100]\ttraining's l1: 0.828056\tvalid_1's l1: 1.11457\n",
      "[200]\ttraining's l1: 0.801313\tvalid_1's l1: 1.10866\n",
      "[300]\ttraining's l1: 0.784146\tvalid_1's l1: 1.10768\n"
     ]
    },
    {
     "name": "stderr",
     "output_type": "stream",
     "text": [
      "\u001b[32m[I 2021-07-06 12:35:22,034]\u001b[0m Trial 33 finished with value: -1.1060222548065435 and parameters: {'max_depth': 12, 'min_child_weight': 5, 'subsample': 0.7, 'colsample_bytree': 0.5, 'reg_lambda': 0.11214711247477828, 'reg_alpha': 19.059946605166534, 'feature_fraction': 0.7160432266684916, 'bagging_fraction': 0.6746800903875623, 'bagging_freq': 5}. Best is trial 0 with value: -1.0963930025165227.\u001b[0m\n"
     ]
    },
    {
     "name": "stdout",
     "output_type": "stream",
     "text": [
      "Early stopping, best iteration is:\n",
      "[227]\ttraining's l1: 0.795995\tvalid_1's l1: 1.10609\n",
      "[LightGBM] [Warning] feature_fraction is set=0.9681049377368408, colsample_bytree=0.6 will be ignored. Current value: feature_fraction=0.9681049377368408\n",
      "[LightGBM] [Warning] bagging_fraction is set=0.726677510662373, subsample=0.5 will be ignored. Current value: bagging_fraction=0.726677510662373\n",
      "[LightGBM] [Warning] bagging_freq is set=8, subsample_freq=0 will be ignored. Current value: bagging_freq=8\n",
      "Training until validation scores don't improve for 100 rounds\n",
      "[100]\ttraining's l1: 0.83195\tvalid_1's l1: 1.11908\n",
      "[200]\ttraining's l1: 0.82151\tvalid_1's l1: 1.11171\n",
      "[300]\ttraining's l1: 0.805335\tvalid_1's l1: 1.10425\n",
      "[400]\ttraining's l1: 0.790989\tvalid_1's l1: 1.10051\n",
      "[500]\ttraining's l1: 0.777717\tvalid_1's l1: 1.10212\n"
     ]
    },
    {
     "name": "stderr",
     "output_type": "stream",
     "text": [
      "\u001b[32m[I 2021-07-06 12:35:41,738]\u001b[0m Trial 34 finished with value: -1.0985619392518104 and parameters: {'max_depth': 13, 'min_child_weight': 20, 'subsample': 0.5, 'colsample_bytree': 0.6, 'reg_lambda': 0.024375766956118684, 'reg_alpha': 0.0046874485899180245, 'feature_fraction': 0.9681049377368408, 'bagging_fraction': 0.726677510662373, 'bagging_freq': 8}. Best is trial 0 with value: -1.0963930025165227.\u001b[0m\n"
     ]
    },
    {
     "name": "stdout",
     "output_type": "stream",
     "text": [
      "Early stopping, best iteration is:\n",
      "[462]\ttraining's l1: 0.78193\tvalid_1's l1: 1.09871\n",
      "[LightGBM] [Warning] feature_fraction is set=0.9628461497576278, colsample_bytree=0.7 will be ignored. Current value: feature_fraction=0.9628461497576278\n",
      "[LightGBM] [Warning] bagging_fraction is set=0.7213784173221442, subsample=0.5 will be ignored. Current value: bagging_fraction=0.7213784173221442\n",
      "[LightGBM] [Warning] bagging_freq is set=8, subsample_freq=0 will be ignored. Current value: bagging_freq=8\n",
      "Training until validation scores don't improve for 100 rounds\n",
      "[100]\ttraining's l1: 0.828445\tvalid_1's l1: 1.11894\n",
      "[200]\ttraining's l1: 0.820001\tvalid_1's l1: 1.11036\n",
      "[300]\ttraining's l1: 0.815877\tvalid_1's l1: 1.11015\n",
      "[400]\ttraining's l1: 0.810827\tvalid_1's l1: 1.1078\n",
      "[500]\ttraining's l1: 0.799627\tvalid_1's l1: 1.10411\n",
      "[600]\ttraining's l1: 0.780689\tvalid_1's l1: 1.10077\n",
      "[700]\ttraining's l1: 0.762441\tvalid_1's l1: 1.10379\n",
      "Early stopping, best iteration is:\n",
      "[613]\ttraining's l1: 0.772568\tvalid_1's l1: 1.09905\n"
     ]
    },
    {
     "name": "stderr",
     "output_type": "stream",
     "text": [
      "\u001b[32m[I 2021-07-06 12:36:05,562]\u001b[0m Trial 35 finished with value: -1.098905433668893 and parameters: {'max_depth': 13, 'min_child_weight': 19, 'subsample': 0.5, 'colsample_bytree': 0.7, 'reg_lambda': 0.027079772052824396, 'reg_alpha': 0.005520194544409595, 'feature_fraction': 0.9628461497576278, 'bagging_fraction': 0.7213784173221442, 'bagging_freq': 8}. Best is trial 0 with value: -1.0963930025165227.\u001b[0m\n"
     ]
    },
    {
     "name": "stdout",
     "output_type": "stream",
     "text": [
      "[LightGBM] [Warning] feature_fraction is set=0.9569998487401749, colsample_bytree=0.5 will be ignored. Current value: feature_fraction=0.9569998487401749\n",
      "[LightGBM] [Warning] bagging_fraction is set=0.5619354542907555, subsample=0.5 will be ignored. Current value: bagging_fraction=0.5619354542907555\n",
      "[LightGBM] [Warning] bagging_freq is set=8, subsample_freq=0 will be ignored. Current value: bagging_freq=8\n",
      "Training until validation scores don't improve for 100 rounds\n",
      "[100]\ttraining's l1: 0.827622\tvalid_1's l1: 1.11656\n",
      "[200]\ttraining's l1: 0.814376\tvalid_1's l1: 1.10914\n",
      "[300]\ttraining's l1: 0.803903\tvalid_1's l1: 1.1062\n",
      "[400]\ttraining's l1: 0.784895\tvalid_1's l1: 1.10335\n"
     ]
    },
    {
     "name": "stderr",
     "output_type": "stream",
     "text": [
      "\u001b[32m[I 2021-07-06 12:36:20,507]\u001b[0m Trial 36 finished with value: -1.1012984679599893 and parameters: {'max_depth': 14, 'min_child_weight': 20, 'subsample': 0.5, 'colsample_bytree': 0.5, 'reg_lambda': 0.0033219908213169033, 'reg_alpha': 0.0010183816069048782, 'feature_fraction': 0.9569998487401749, 'bagging_fraction': 0.5619354542907555, 'bagging_freq': 8}. Best is trial 0 with value: -1.0963930025165227.\u001b[0m\n"
     ]
    },
    {
     "name": "stdout",
     "output_type": "stream",
     "text": [
      "Early stopping, best iteration is:\n",
      "[375]\ttraining's l1: 0.789697\tvalid_1's l1: 1.10145\n",
      "[LightGBM] [Warning] feature_fraction is set=0.8856749814661874, colsample_bytree=0.6 will be ignored. Current value: feature_fraction=0.8856749814661874\n",
      "[LightGBM] [Warning] bagging_fraction is set=0.6304557260718824, subsample=0.8 will be ignored. Current value: bagging_fraction=0.6304557260718824\n",
      "[LightGBM] [Warning] bagging_freq is set=9, subsample_freq=0 will be ignored. Current value: bagging_freq=9\n",
      "Training until validation scores don't improve for 100 rounds\n",
      "[100]\ttraining's l1: 0.825631\tvalid_1's l1: 1.11601\n",
      "[200]\ttraining's l1: 0.815951\tvalid_1's l1: 1.11175\n",
      "[300]\ttraining's l1: 0.812343\tvalid_1's l1: 1.10967\n",
      "[400]\ttraining's l1: 0.805593\tvalid_1's l1: 1.10806\n",
      "[500]\ttraining's l1: 0.797182\tvalid_1's l1: 1.10953\n"
     ]
    },
    {
     "name": "stderr",
     "output_type": "stream",
     "text": [
      "\u001b[32m[I 2021-07-06 12:36:37,397]\u001b[0m Trial 37 finished with value: -1.1072104480010236 and parameters: {'max_depth': 11, 'min_child_weight': 18, 'subsample': 0.8, 'colsample_bytree': 0.6, 'reg_lambda': 0.0018449481832350826, 'reg_alpha': 0.008621360610093493, 'feature_fraction': 0.8856749814661874, 'bagging_fraction': 0.6304557260718824, 'bagging_freq': 9}. Best is trial 0 with value: -1.0963930025165227.\u001b[0m\n"
     ]
    },
    {
     "name": "stdout",
     "output_type": "stream",
     "text": [
      "Early stopping, best iteration is:\n",
      "[455]\ttraining's l1: 0.802332\tvalid_1's l1: 1.10729\n",
      "[LightGBM] [Warning] feature_fraction is set=0.8215095642505851, colsample_bytree=0.5 will be ignored. Current value: feature_fraction=0.8215095642505851\n",
      "[LightGBM] [Warning] bagging_fraction is set=0.7188848339242142, subsample=0.8 will be ignored. Current value: bagging_fraction=0.7188848339242142\n",
      "[LightGBM] [Warning] bagging_freq is set=6, subsample_freq=0 will be ignored. Current value: bagging_freq=6\n",
      "Training until validation scores don't improve for 100 rounds\n",
      "[100]\ttraining's l1: 0.82997\tvalid_1's l1: 1.11506\n",
      "[200]\ttraining's l1: 0.814913\tvalid_1's l1: 1.11157\n",
      "[300]\ttraining's l1: 0.791918\tvalid_1's l1: 1.10822\n",
      "[400]\ttraining's l1: 0.770527\tvalid_1's l1: 1.1043\n",
      "[500]\ttraining's l1: 0.76043\tvalid_1's l1: 1.10275\n",
      "[600]\ttraining's l1: 0.750167\tvalid_1's l1: 1.10811\n"
     ]
    },
    {
     "name": "stderr",
     "output_type": "stream",
     "text": [
      "\u001b[32m[I 2021-07-06 12:36:59,500]\u001b[0m Trial 38 finished with value: -1.1018808977801242 and parameters: {'max_depth': 14, 'min_child_weight': 19, 'subsample': 0.8, 'colsample_bytree': 0.5, 'reg_lambda': 0.019234211144379846, 'reg_alpha': 0.019588749083911176, 'feature_fraction': 0.8215095642505851, 'bagging_fraction': 0.7188848339242142, 'bagging_freq': 6}. Best is trial 0 with value: -1.0963930025165227.\u001b[0m\n"
     ]
    },
    {
     "name": "stdout",
     "output_type": "stream",
     "text": [
      "Early stopping, best iteration is:\n",
      "[518]\ttraining's l1: 0.759192\tvalid_1's l1: 1.10227\n",
      "[LightGBM] [Warning] feature_fraction is set=0.8691876811408725, colsample_bytree=0.9 will be ignored. Current value: feature_fraction=0.8691876811408725\n",
      "[LightGBM] [Warning] bagging_fraction is set=0.784677266316572, subsample=0.5 will be ignored. Current value: bagging_fraction=0.784677266316572\n",
      "[LightGBM] [Warning] bagging_freq is set=7, subsample_freq=0 will be ignored. Current value: bagging_freq=7\n",
      "Training until validation scores don't improve for 100 rounds\n",
      "[100]\ttraining's l1: 0.827091\tvalid_1's l1: 1.11346\n",
      "[200]\ttraining's l1: 0.811987\tvalid_1's l1: 1.10854\n",
      "[300]\ttraining's l1: 0.800068\tvalid_1's l1: 1.10431\n",
      "[400]\ttraining's l1: 0.791568\tvalid_1's l1: 1.10645\n"
     ]
    },
    {
     "name": "stderr",
     "output_type": "stream",
     "text": [
      "\u001b[32m[I 2021-07-06 12:37:15,511]\u001b[0m Trial 39 finished with value: -1.103309385882388 and parameters: {'max_depth': 16, 'min_child_weight': 16, 'subsample': 0.5, 'colsample_bytree': 0.9, 'reg_lambda': 0.007766147937549789, 'reg_alpha': 0.0025194529642269333, 'feature_fraction': 0.8691876811408725, 'bagging_fraction': 0.784677266316572, 'bagging_freq': 7}. Best is trial 0 with value: -1.0963930025165227.\u001b[0m\n"
     ]
    },
    {
     "name": "stdout",
     "output_type": "stream",
     "text": [
      "Early stopping, best iteration is:\n",
      "[321]\ttraining's l1: 0.796497\tvalid_1's l1: 1.10339\n",
      "[LightGBM] [Warning] feature_fraction is set=0.9400005011435744, colsample_bytree=0.6 will be ignored. Current value: feature_fraction=0.9400005011435744\n",
      "[LightGBM] [Warning] bagging_fraction is set=0.5661947620194903, subsample=0.6 will be ignored. Current value: bagging_fraction=0.5661947620194903\n",
      "[LightGBM] [Warning] bagging_freq is set=9, subsample_freq=0 will be ignored. Current value: bagging_freq=9\n",
      "Training until validation scores don't improve for 100 rounds\n",
      "[100]\ttraining's l1: 0.826822\tvalid_1's l1: 1.11188\n",
      "[200]\ttraining's l1: 0.815233\tvalid_1's l1: 1.10562\n",
      "[300]\ttraining's l1: 0.804823\tvalid_1's l1: 1.10223\n",
      "[400]\ttraining's l1: 0.796526\tvalid_1's l1: 1.10193\n",
      "[500]\ttraining's l1: 0.786496\tvalid_1's l1: 1.10323\n"
     ]
    },
    {
     "name": "stderr",
     "output_type": "stream",
     "text": [
      "\u001b[32m[I 2021-07-06 12:37:30,665]\u001b[0m Trial 40 finished with value: -1.1006733251368854 and parameters: {'max_depth': 9, 'min_child_weight': 2, 'subsample': 0.6, 'colsample_bytree': 0.6, 'reg_lambda': 0.0707586940879225, 'reg_alpha': 0.12625749933119865, 'feature_fraction': 0.9400005011435744, 'bagging_fraction': 0.5661947620194903, 'bagging_freq': 9}. Best is trial 0 with value: -1.0963930025165227.\u001b[0m\n"
     ]
    },
    {
     "name": "stdout",
     "output_type": "stream",
     "text": [
      "Early stopping, best iteration is:\n",
      "[418]\ttraining's l1: 0.794083\tvalid_1's l1: 1.10078\n",
      "[LightGBM] [Warning] feature_fraction is set=0.6868553305550751, colsample_bytree=0.6 will be ignored. Current value: feature_fraction=0.6868553305550751\n",
      "[LightGBM] [Warning] bagging_fraction is set=0.8059729746597508, subsample=0.5 will be ignored. Current value: bagging_fraction=0.8059729746597508\n",
      "[LightGBM] [Warning] bagging_freq is set=5, subsample_freq=0 will be ignored. Current value: bagging_freq=5\n",
      "Training until validation scores don't improve for 100 rounds\n",
      "[100]\ttraining's l1: 0.824912\tvalid_1's l1: 1.11448\n",
      "[200]\ttraining's l1: 0.811895\tvalid_1's l1: 1.10999\n",
      "[300]\ttraining's l1: 0.795929\tvalid_1's l1: 1.10647\n",
      "[400]\ttraining's l1: 0.775604\tvalid_1's l1: 1.10477\n"
     ]
    },
    {
     "name": "stderr",
     "output_type": "stream",
     "text": [
      "\u001b[32m[I 2021-07-06 12:37:48,684]\u001b[0m Trial 41 finished with value: -1.1039309599236038 and parameters: {'max_depth': 12, 'min_child_weight': 12, 'subsample': 0.5, 'colsample_bytree': 0.6, 'reg_lambda': 1.4854126803570165, 'reg_alpha': 0.05491327794448982, 'feature_fraction': 0.6868553305550751, 'bagging_fraction': 0.8059729746597508, 'bagging_freq': 5}. Best is trial 0 with value: -1.0963930025165227.\u001b[0m\n"
     ]
    },
    {
     "name": "stdout",
     "output_type": "stream",
     "text": [
      "Early stopping, best iteration is:\n",
      "[371]\ttraining's l1: 0.779962\tvalid_1's l1: 1.10404\n",
      "[LightGBM] [Warning] feature_fraction is set=0.7403116897663944, colsample_bytree=0.5 will be ignored. Current value: feature_fraction=0.7403116897663944\n",
      "[LightGBM] [Warning] bagging_fraction is set=0.7457796043146085, subsample=0.6 will be ignored. Current value: bagging_fraction=0.7457796043146085\n",
      "[LightGBM] [Warning] bagging_freq is set=6, subsample_freq=0 will be ignored. Current value: bagging_freq=6\n",
      "Training until validation scores don't improve for 100 rounds\n",
      "[100]\ttraining's l1: 0.828337\tvalid_1's l1: 1.11282\n",
      "[200]\ttraining's l1: 0.812815\tvalid_1's l1: 1.10642\n",
      "[300]\ttraining's l1: 0.802023\tvalid_1's l1: 1.10227\n",
      "[400]\ttraining's l1: 0.791557\tvalid_1's l1: 1.10052\n"
     ]
    },
    {
     "name": "stderr",
     "output_type": "stream",
     "text": [
      "\u001b[32m[I 2021-07-06 12:38:05,920]\u001b[0m Trial 42 finished with value: -1.0997409454263207 and parameters: {'max_depth': 17, 'min_child_weight': 9, 'subsample': 0.6, 'colsample_bytree': 0.5, 'reg_lambda': 0.45478663153435844, 'reg_alpha': 0.4831301350369886, 'feature_fraction': 0.7403116897663944, 'bagging_fraction': 0.7457796043146085, 'bagging_freq': 6}. Best is trial 0 with value: -1.0963930025165227.\u001b[0m\n"
     ]
    },
    {
     "name": "stdout",
     "output_type": "stream",
     "text": [
      "Early stopping, best iteration is:\n",
      "[389]\ttraining's l1: 0.792445\tvalid_1's l1: 1.09984\n",
      "[LightGBM] [Warning] feature_fraction is set=0.6384699820674817, colsample_bytree=0.7 will be ignored. Current value: feature_fraction=0.6384699820674817\n",
      "[LightGBM] [Warning] bagging_fraction is set=0.8726868142446882, subsample=0.7 will be ignored. Current value: bagging_fraction=0.8726868142446882\n",
      "[LightGBM] [Warning] bagging_freq is set=4, subsample_freq=0 will be ignored. Current value: bagging_freq=4\n",
      "Training until validation scores don't improve for 100 rounds\n",
      "[100]\ttraining's l1: 0.820687\tvalid_1's l1: 1.11081\n",
      "[200]\ttraining's l1: 0.798891\tvalid_1's l1: 1.10799\n",
      "[300]\ttraining's l1: 0.77744\tvalid_1's l1: 1.1099\n"
     ]
    },
    {
     "name": "stderr",
     "output_type": "stream",
     "text": [
      "\u001b[32m[I 2021-07-06 12:38:20,752]\u001b[0m Trial 43 finished with value: -1.1063592388970633 and parameters: {'max_depth': 13, 'min_child_weight': 18, 'subsample': 0.7, 'colsample_bytree': 0.7, 'reg_lambda': 0.10927258339432183, 'reg_alpha': 0.005526311552792237, 'feature_fraction': 0.6384699820674817, 'bagging_fraction': 0.8726868142446882, 'bagging_freq': 4}. Best is trial 0 with value: -1.0963930025165227.\u001b[0m\n"
     ]
    },
    {
     "name": "stdout",
     "output_type": "stream",
     "text": [
      "Early stopping, best iteration is:\n",
      "[218]\ttraining's l1: 0.795236\tvalid_1's l1: 1.10654\n",
      "[LightGBM] [Warning] feature_fraction is set=0.9979377409303789, colsample_bytree=0.6 will be ignored. Current value: feature_fraction=0.9979377409303789\n",
      "[LightGBM] [Warning] bagging_fraction is set=0.6889887292992127, subsample=0.9 will be ignored. Current value: bagging_fraction=0.6889887292992127\n",
      "[LightGBM] [Warning] bagging_freq is set=2, subsample_freq=0 will be ignored. Current value: bagging_freq=2\n",
      "Training until validation scores don't improve for 100 rounds\n",
      "[100]\ttraining's l1: 0.830511\tvalid_1's l1: 1.11801\n",
      "[200]\ttraining's l1: 0.820914\tvalid_1's l1: 1.11403\n",
      "[300]\ttraining's l1: 0.817063\tvalid_1's l1: 1.11225\n",
      "[400]\ttraining's l1: 0.813159\tvalid_1's l1: 1.11045\n",
      "[500]\ttraining's l1: 0.807435\tvalid_1's l1: 1.11011\n"
     ]
    },
    {
     "name": "stderr",
     "output_type": "stream",
     "text": [
      "\u001b[32m[I 2021-07-06 12:38:45,611]\u001b[0m Trial 44 finished with value: -1.108829533171728 and parameters: {'max_depth': 10, 'min_child_weight': 16, 'subsample': 0.9, 'colsample_bytree': 0.6, 'reg_lambda': 0.023593558571656785, 'reg_alpha': 0.0797408596152442, 'feature_fraction': 0.9979377409303789, 'bagging_fraction': 0.6889887292992127, 'bagging_freq': 2}. Best is trial 0 with value: -1.0963930025165227.\u001b[0m\n"
     ]
    },
    {
     "name": "stdout",
     "output_type": "stream",
     "text": [
      "Early stopping, best iteration is:\n",
      "[449]\ttraining's l1: 0.811931\tvalid_1's l1: 1.10895\n",
      "[LightGBM] [Warning] feature_fraction is set=0.8082183623980221, colsample_bytree=0.6 will be ignored. Current value: feature_fraction=0.8082183623980221\n",
      "[LightGBM] [Warning] bagging_fraction is set=0.6508979986920385, subsample=0.7 will be ignored. Current value: bagging_fraction=0.6508979986920385\n",
      "[LightGBM] [Warning] bagging_freq is set=3, subsample_freq=0 will be ignored. Current value: bagging_freq=3\n",
      "Training until validation scores don't improve for 100 rounds\n",
      "[100]\ttraining's l1: 0.8288\tvalid_1's l1: 1.11459\n",
      "[200]\ttraining's l1: 0.810789\tvalid_1's l1: 1.10367\n",
      "[300]\ttraining's l1: 0.799573\tvalid_1's l1: 1.10117\n",
      "[400]\ttraining's l1: 0.790814\tvalid_1's l1: 1.1013\n",
      "[500]\ttraining's l1: 0.782555\tvalid_1's l1: 1.1015\n"
     ]
    },
    {
     "name": "stderr",
     "output_type": "stream",
     "text": [
      "\u001b[32m[I 2021-07-06 12:39:05,819]\u001b[0m Trial 45 finished with value: -1.100015586320327 and parameters: {'max_depth': 8, 'min_child_weight': 4, 'subsample': 0.7, 'colsample_bytree': 0.6, 'reg_lambda': 0.010431461765567982, 'reg_alpha': 0.336887151162099, 'feature_fraction': 0.8082183623980221, 'bagging_fraction': 0.6508979986920385, 'bagging_freq': 3}. Best is trial 0 with value: -1.0963930025165227.\u001b[0m\n"
     ]
    },
    {
     "name": "stdout",
     "output_type": "stream",
     "text": [
      "Early stopping, best iteration is:\n",
      "[419]\ttraining's l1: 0.788796\tvalid_1's l1: 1.10016\n",
      "[LightGBM] [Warning] feature_fraction is set=0.4662047441880071, colsample_bytree=0.5 will be ignored. Current value: feature_fraction=0.4662047441880071\n",
      "[LightGBM] [Warning] bagging_fraction is set=0.6234043488376191, subsample=0.5 will be ignored. Current value: bagging_fraction=0.6234043488376191\n",
      "[LightGBM] [Warning] bagging_freq is set=5, subsample_freq=0 will be ignored. Current value: bagging_freq=5\n",
      "Training until validation scores don't improve for 100 rounds\n",
      "[100]\ttraining's l1: 0.931359\tvalid_1's l1: 1.22735\n",
      "[200]\ttraining's l1: 0.917878\tvalid_1's l1: 1.20449\n",
      "[300]\ttraining's l1: 0.911037\tvalid_1's l1: 1.19126\n",
      "[400]\ttraining's l1: 0.905544\tvalid_1's l1: 1.18209\n",
      "[500]\ttraining's l1: 0.902972\tvalid_1's l1: 1.17731\n",
      "[600]\ttraining's l1: 0.901092\tvalid_1's l1: 1.1768\n",
      "[700]\ttraining's l1: 0.899336\tvalid_1's l1: 1.17513\n",
      "[800]\ttraining's l1: 0.897598\tvalid_1's l1: 1.17142\n",
      "[900]\ttraining's l1: 0.896269\tvalid_1's l1: 1.17109\n",
      "[1000]\ttraining's l1: 0.894787\tvalid_1's l1: 1.16834\n"
     ]
    },
    {
     "name": "stderr",
     "output_type": "stream",
     "text": [
      "\u001b[32m[I 2021-07-06 12:39:36,867]\u001b[0m Trial 46 finished with value: -1.1675550773799293 and parameters: {'max_depth': 1, 'min_child_weight': 2, 'subsample': 0.5, 'colsample_bytree': 0.5, 'reg_lambda': 0.0030368202361255392, 'reg_alpha': 0.019581124815833108, 'feature_fraction': 0.4662047441880071, 'bagging_fraction': 0.6234043488376191, 'bagging_freq': 5}. Best is trial 0 with value: -1.0963930025165227.\u001b[0m\n"
     ]
    },
    {
     "name": "stdout",
     "output_type": "stream",
     "text": [
      "Early stopping, best iteration is:\n",
      "[974]\ttraining's l1: 0.895118\tvalid_1's l1: 1.16775\n",
      "[LightGBM] [Warning] feature_fraction is set=0.901033458868047, colsample_bytree=0.7 will be ignored. Current value: feature_fraction=0.901033458868047\n",
      "[LightGBM] [Warning] bagging_fraction is set=0.927574428960475, subsample=0.8 will be ignored. Current value: bagging_fraction=0.927574428960475\n",
      "[LightGBM] [Warning] bagging_freq is set=7, subsample_freq=0 will be ignored. Current value: bagging_freq=7\n",
      "Training until validation scores don't improve for 100 rounds\n",
      "[100]\ttraining's l1: 0.826641\tvalid_1's l1: 1.11607\n",
      "[200]\ttraining's l1: 0.81989\tvalid_1's l1: 1.1113\n",
      "[300]\ttraining's l1: 0.817961\tvalid_1's l1: 1.10987\n",
      "[400]\ttraining's l1: 0.812095\tvalid_1's l1: 1.109\n",
      "[500]\ttraining's l1: 0.792696\tvalid_1's l1: 1.10589\n",
      "[600]\ttraining's l1: 0.776548\tvalid_1's l1: 1.10694\n",
      "Early stopping, best iteration is:\n",
      "[521]\ttraining's l1: 0.785596\tvalid_1's l1: 1.10344\n"
     ]
    },
    {
     "name": "stderr",
     "output_type": "stream",
     "text": [
      "\u001b[32m[I 2021-07-06 12:40:02,536]\u001b[0m Trial 47 finished with value: -1.1033466727011318 and parameters: {'max_depth': 19, 'min_child_weight': 7, 'subsample': 0.8, 'colsample_bytree': 0.7, 'reg_lambda': 0.1059934175408254, 'reg_alpha': 1.127305316902597, 'feature_fraction': 0.901033458868047, 'bagging_fraction': 0.927574428960475, 'bagging_freq': 7}. Best is trial 0 with value: -1.0963930025165227.\u001b[0m\n"
     ]
    },
    {
     "name": "stdout",
     "output_type": "stream",
     "text": [
      "[LightGBM] [Warning] feature_fraction is set=0.6040561693322332, colsample_bytree=0.6 will be ignored. Current value: feature_fraction=0.6040561693322332\n",
      "[LightGBM] [Warning] bagging_fraction is set=0.7345554850027897, subsample=0.6 will be ignored. Current value: bagging_fraction=0.7345554850027897\n",
      "[LightGBM] [Warning] bagging_freq is set=4, subsample_freq=0 will be ignored. Current value: bagging_freq=4\n",
      "Training until validation scores don't improve for 100 rounds\n",
      "[100]\ttraining's l1: 0.826516\tvalid_1's l1: 1.11369\n",
      "[200]\ttraining's l1: 0.80852\tvalid_1's l1: 1.10758\n",
      "[300]\ttraining's l1: 0.786596\tvalid_1's l1: 1.10917\n"
     ]
    },
    {
     "name": "stderr",
     "output_type": "stream",
     "text": [
      "\u001b[32m[I 2021-07-06 12:40:18,468]\u001b[0m Trial 48 finished with value: -1.1057789706907346 and parameters: {'max_depth': 15, 'min_child_weight': 10, 'subsample': 0.6, 'colsample_bytree': 0.6, 'reg_lambda': 1.9459884289748601, 'reg_alpha': 0.14517524544226543, 'feature_fraction': 0.6040561693322332, 'bagging_fraction': 0.7345554850027897, 'bagging_freq': 4}. Best is trial 0 with value: -1.0963930025165227.\u001b[0m\n"
     ]
    },
    {
     "name": "stdout",
     "output_type": "stream",
     "text": [
      "Early stopping, best iteration is:\n",
      "[215]\ttraining's l1: 0.803119\tvalid_1's l1: 1.10591\n",
      "[LightGBM] [Warning] feature_fraction is set=0.5605264513902878, colsample_bytree=0.6 will be ignored. Current value: feature_fraction=0.5605264513902878\n",
      "[LightGBM] [Warning] bagging_fraction is set=0.5894568349631063, subsample=0.7 will be ignored. Current value: bagging_fraction=0.5894568349631063\n",
      "[LightGBM] [Warning] bagging_freq is set=6, subsample_freq=0 will be ignored. Current value: bagging_freq=6\n",
      "Training until validation scores don't improve for 100 rounds\n",
      "[100]\ttraining's l1: 0.827313\tvalid_1's l1: 1.11823\n",
      "[200]\ttraining's l1: 0.811627\tvalid_1's l1: 1.11578\n",
      "[300]\ttraining's l1: 0.799543\tvalid_1's l1: 1.11262\n",
      "[400]\ttraining's l1: 0.791472\tvalid_1's l1: 1.11065\n"
     ]
    },
    {
     "name": "stderr",
     "output_type": "stream",
     "text": [
      "\u001b[32m[I 2021-07-06 12:40:37,488]\u001b[0m Trial 49 finished with value: -1.1103459014137358 and parameters: {'max_depth': 13, 'min_child_weight': 19, 'subsample': 0.7, 'colsample_bytree': 0.6, 'reg_lambda': 3.8937304303474143, 'reg_alpha': 794.1561417010012, 'feature_fraction': 0.5605264513902878, 'bagging_fraction': 0.5894568349631063, 'bagging_freq': 6}. Best is trial 0 with value: -1.0963930025165227.\u001b[0m\n"
     ]
    },
    {
     "name": "stdout",
     "output_type": "stream",
     "text": [
      "Early stopping, best iteration is:\n",
      "[398]\ttraining's l1: 0.79156\tvalid_1's l1: 1.11047\n",
      "[LightGBM] [Warning] feature_fraction is set=0.8384445376206966, colsample_bytree=0.5 will be ignored. Current value: feature_fraction=0.8384445376206966\n",
      "[LightGBM] [Warning] bagging_fraction is set=0.8515351376522847, subsample=0.8 will be ignored. Current value: bagging_fraction=0.8515351376522847\n",
      "[LightGBM] [Warning] bagging_freq is set=3, subsample_freq=0 will be ignored. Current value: bagging_freq=3\n",
      "Training until validation scores don't improve for 100 rounds\n",
      "[100]\ttraining's l1: 0.827158\tvalid_1's l1: 1.11379\n",
      "[200]\ttraining's l1: 0.818913\tvalid_1's l1: 1.10941\n",
      "[300]\ttraining's l1: 0.80742\tvalid_1's l1: 1.10452\n",
      "[400]\ttraining's l1: 0.789745\tvalid_1's l1: 1.10661\n"
     ]
    },
    {
     "name": "stderr",
     "output_type": "stream",
     "text": [
      "\u001b[32m[I 2021-07-06 12:40:59,579]\u001b[0m Trial 50 finished with value: -1.1037161572699354 and parameters: {'max_depth': 11, 'min_child_weight': 6, 'subsample': 0.8, 'colsample_bytree': 0.5, 'reg_lambda': 11.637128324546579, 'reg_alpha': 0.017566653059211443, 'feature_fraction': 0.8384445376206966, 'bagging_fraction': 0.8515351376522847, 'bagging_freq': 3}. Best is trial 0 with value: -1.0963930025165227.\u001b[0m\n"
     ]
    },
    {
     "name": "stdout",
     "output_type": "stream",
     "text": [
      "Early stopping, best iteration is:\n",
      "[368]\ttraining's l1: 0.798095\tvalid_1's l1: 1.10382\n",
      "[LightGBM] [Warning] feature_fraction is set=0.9726265049213925, colsample_bytree=0.7 will be ignored. Current value: feature_fraction=0.9726265049213925\n",
      "[LightGBM] [Warning] bagging_fraction is set=0.6996297720928496, subsample=0.5 will be ignored. Current value: bagging_fraction=0.6996297720928496\n",
      "[LightGBM] [Warning] bagging_freq is set=9, subsample_freq=0 will be ignored. Current value: bagging_freq=9\n",
      "Training until validation scores don't improve for 100 rounds\n",
      "[100]\ttraining's l1: 0.829706\tvalid_1's l1: 1.11686\n",
      "[200]\ttraining's l1: 0.81933\tvalid_1's l1: 1.10866\n",
      "[300]\ttraining's l1: 0.809432\tvalid_1's l1: 1.10269\n"
     ]
    },
    {
     "name": "stderr",
     "output_type": "stream",
     "text": [
      "\u001b[32m[I 2021-07-06 12:41:13,495]\u001b[0m Trial 51 finished with value: -1.102638390433027 and parameters: {'max_depth': 13, 'min_child_weight': 19, 'subsample': 0.5, 'colsample_bytree': 0.7, 'reg_lambda': 0.02646140356174349, 'reg_alpha': 0.0066274516210476425, 'feature_fraction': 0.9726265049213925, 'bagging_fraction': 0.6996297720928496, 'bagging_freq': 9}. Best is trial 0 with value: -1.0963930025165227.\u001b[0m\n"
     ]
    },
    {
     "name": "stdout",
     "output_type": "stream",
     "text": [
      "[400]\ttraining's l1: 0.79978\tvalid_1's l1: 1.10306\n",
      "Early stopping, best iteration is:\n",
      "[300]\ttraining's l1: 0.809432\tvalid_1's l1: 1.10269\n",
      "[LightGBM] [Warning] feature_fraction is set=0.9633133152169406, colsample_bytree=0.8 will be ignored. Current value: feature_fraction=0.9633133152169406\n",
      "[LightGBM] [Warning] bagging_fraction is set=0.7822421799466764, subsample=0.5 will be ignored. Current value: bagging_fraction=0.7822421799466764\n",
      "[LightGBM] [Warning] bagging_freq is set=8, subsample_freq=0 will be ignored. Current value: bagging_freq=8\n",
      "Training until validation scores don't improve for 100 rounds\n",
      "[100]\ttraining's l1: 0.830427\tvalid_1's l1: 1.11681\n",
      "[200]\ttraining's l1: 0.823445\tvalid_1's l1: 1.11171\n",
      "[300]\ttraining's l1: 0.819777\tvalid_1's l1: 1.11002\n",
      "[400]\ttraining's l1: 0.811014\tvalid_1's l1: 1.10926\n"
     ]
    },
    {
     "name": "stderr",
     "output_type": "stream",
     "text": [
      "\u001b[32m[I 2021-07-06 12:41:28,756]\u001b[0m Trial 52 finished with value: -1.1083189667711368 and parameters: {'max_depth': 14, 'min_child_weight': 20, 'subsample': 0.5, 'colsample_bytree': 0.8, 'reg_lambda': 0.03710070352841233, 'reg_alpha': 0.0023276173457838513, 'feature_fraction': 0.9633133152169406, 'bagging_fraction': 0.7822421799466764, 'bagging_freq': 8}. Best is trial 0 with value: -1.0963930025165227.\u001b[0m\n"
     ]
    },
    {
     "name": "stdout",
     "output_type": "stream",
     "text": [
      "Early stopping, best iteration is:\n",
      "[309]\ttraining's l1: 0.817422\tvalid_1's l1: 1.1084\n",
      "[LightGBM] [Warning] feature_fraction is set=0.9427457443630809, colsample_bytree=0.7 will be ignored. Current value: feature_fraction=0.9427457443630809\n",
      "[LightGBM] [Warning] bagging_fraction is set=0.7251846581224237, subsample=0.5 will be ignored. Current value: bagging_fraction=0.7251846581224237\n",
      "[LightGBM] [Warning] bagging_freq is set=8, subsample_freq=0 will be ignored. Current value: bagging_freq=8\n",
      "Training until validation scores don't improve for 100 rounds\n",
      "[100]\ttraining's l1: 0.830614\tvalid_1's l1: 1.11819\n",
      "[200]\ttraining's l1: 0.823614\tvalid_1's l1: 1.11281\n",
      "[300]\ttraining's l1: 0.813494\tvalid_1's l1: 1.10937\n",
      "[400]\ttraining's l1: 0.803968\tvalid_1's l1: 1.10581\n",
      "[500]\ttraining's l1: 0.792704\tvalid_1's l1: 1.10802\n"
     ]
    },
    {
     "name": "stderr",
     "output_type": "stream",
     "text": [
      "\u001b[32m[I 2021-07-06 12:41:47,311]\u001b[0m Trial 53 finished with value: -1.103879800160118 and parameters: {'max_depth': 12, 'min_child_weight': 17, 'subsample': 0.5, 'colsample_bytree': 0.7, 'reg_lambda': 0.009872539937608643, 'reg_alpha': 0.004165388759835509, 'feature_fraction': 0.9427457443630809, 'bagging_fraction': 0.7251846581224237, 'bagging_freq': 8}. Best is trial 0 with value: -1.0963930025165227.\u001b[0m\n"
     ]
    },
    {
     "name": "stdout",
     "output_type": "stream",
     "text": [
      "Early stopping, best iteration is:\n",
      "[439]\ttraining's l1: 0.800081\tvalid_1's l1: 1.10399\n",
      "[LightGBM] [Warning] feature_fraction is set=0.9171459687916925, colsample_bytree=0.9 will be ignored. Current value: feature_fraction=0.9171459687916925\n",
      "[LightGBM] [Warning] bagging_fraction is set=0.8117569968484314, subsample=0.6 will be ignored. Current value: bagging_fraction=0.8117569968484314\n",
      "[LightGBM] [Warning] bagging_freq is set=10, subsample_freq=0 will be ignored. Current value: bagging_freq=10\n",
      "Training until validation scores don't improve for 100 rounds\n",
      "[100]\ttraining's l1: 0.823788\tvalid_1's l1: 1.11288\n",
      "[200]\ttraining's l1: 0.818784\tvalid_1's l1: 1.11149\n",
      "[300]\ttraining's l1: 0.811376\tvalid_1's l1: 1.11038\n",
      "[400]\ttraining's l1: 0.798713\tvalid_1's l1: 1.10539\n",
      "[500]\ttraining's l1: 0.775158\tvalid_1's l1: 1.1049\n"
     ]
    },
    {
     "name": "stderr",
     "output_type": "stream",
     "text": [
      "\u001b[32m[I 2021-07-06 12:42:06,585]\u001b[0m Trial 54 finished with value: -1.1044848380747143 and parameters: {'max_depth': 17, 'min_child_weight': 20, 'subsample': 0.6, 'colsample_bytree': 0.9, 'reg_lambda': 0.03150267747659671, 'reg_alpha': 0.001308312236390064, 'feature_fraction': 0.9171459687916925, 'bagging_fraction': 0.8117569968484314, 'bagging_freq': 10}. Best is trial 0 with value: -1.0963930025165227.\u001b[0m\n"
     ]
    },
    {
     "name": "stdout",
     "output_type": "stream",
     "text": [
      "Early stopping, best iteration is:\n",
      "[425]\ttraining's l1: 0.794908\tvalid_1's l1: 1.10464\n",
      "[LightGBM] [Warning] feature_fraction is set=0.9952958276117364, colsample_bytree=0.8 will be ignored. Current value: feature_fraction=0.9952958276117364\n",
      "[LightGBM] [Warning] bagging_fraction is set=0.6809328784484537, subsample=0.9 will be ignored. Current value: bagging_fraction=0.6809328784484537\n",
      "[LightGBM] [Warning] bagging_freq is set=7, subsample_freq=0 will be ignored. Current value: bagging_freq=7\n",
      "Training until validation scores don't improve for 100 rounds\n",
      "[100]\ttraining's l1: 0.826692\tvalid_1's l1: 1.11519\n",
      "[200]\ttraining's l1: 0.821114\tvalid_1's l1: 1.11079\n",
      "[300]\ttraining's l1: 0.819831\tvalid_1's l1: 1.11028\n",
      "[400]\ttraining's l1: 0.81729\tvalid_1's l1: 1.10904\n",
      "[500]\ttraining's l1: 0.811253\tvalid_1's l1: 1.10507\n",
      "[600]\ttraining's l1: 0.803007\tvalid_1's l1: 1.10289\n",
      "[700]\ttraining's l1: 0.792876\tvalid_1's l1: 1.10406\n",
      "Early stopping, best iteration is:\n",
      "[672]\ttraining's l1: 0.795233\tvalid_1's l1: 1.10108\n"
     ]
    },
    {
     "name": "stderr",
     "output_type": "stream",
     "text": [
      "\u001b[32m[I 2021-07-06 12:42:31,699]\u001b[0m Trial 55 finished with value: -1.1009599843855742 and parameters: {'max_depth': 15, 'min_child_weight': 18, 'subsample': 0.9, 'colsample_bytree': 0.8, 'reg_lambda': 0.0045495235394951115, 'reg_alpha': 0.04346635279050696, 'feature_fraction': 0.9952958276117364, 'bagging_fraction': 0.6809328784484537, 'bagging_freq': 7}. Best is trial 0 with value: -1.0963930025165227.\u001b[0m\n"
     ]
    },
    {
     "name": "stdout",
     "output_type": "stream",
     "text": [
      "[LightGBM] [Warning] feature_fraction is set=0.869974290039688, colsample_bytree=0.6 will be ignored. Current value: feature_fraction=0.869974290039688\n",
      "[LightGBM] [Warning] bagging_fraction is set=0.7681219074664406, subsample=0.5 will be ignored. Current value: bagging_fraction=0.7681219074664406\n",
      "[LightGBM] [Warning] bagging_freq is set=8, subsample_freq=0 will be ignored. Current value: bagging_freq=8\n",
      "Training until validation scores don't improve for 100 rounds\n",
      "[100]\ttraining's l1: 0.829356\tvalid_1's l1: 1.11236\n",
      "[200]\ttraining's l1: 0.819165\tvalid_1's l1: 1.10664\n",
      "[300]\ttraining's l1: 0.808855\tvalid_1's l1: 1.10447\n"
     ]
    },
    {
     "name": "stderr",
     "output_type": "stream",
     "text": [
      "\u001b[32m[I 2021-07-06 12:42:46,503]\u001b[0m Trial 56 finished with value: -1.102768261434186 and parameters: {'max_depth': 9, 'min_child_weight': 15, 'subsample': 0.5, 'colsample_bytree': 0.6, 'reg_lambda': 0.06905061724645858, 'reg_alpha': 0.012664347605302198, 'feature_fraction': 0.869974290039688, 'bagging_fraction': 0.7681219074664406, 'bagging_freq': 8}. Best is trial 0 with value: -1.0963930025165227.\u001b[0m\n"
     ]
    },
    {
     "name": "stdout",
     "output_type": "stream",
     "text": [
      "Early stopping, best iteration is:\n",
      "[296]\ttraining's l1: 0.809563\tvalid_1's l1: 1.10288\n",
      "[LightGBM] [Warning] feature_fraction is set=0.698102447484031, colsample_bytree=0.7 will be ignored. Current value: feature_fraction=0.698102447484031\n",
      "[LightGBM] [Warning] bagging_fraction is set=0.981287240342281, subsample=0.6 will be ignored. Current value: bagging_fraction=0.981287240342281\n",
      "[LightGBM] [Warning] bagging_freq is set=4, subsample_freq=0 will be ignored. Current value: bagging_freq=4\n",
      "Training until validation scores don't improve for 100 rounds\n",
      "[100]\ttraining's l1: 0.826302\tvalid_1's l1: 1.1163\n",
      "[200]\ttraining's l1: 0.802155\tvalid_1's l1: 1.10635\n",
      "[300]\ttraining's l1: 0.779955\tvalid_1's l1: 1.10126\n",
      "[400]\ttraining's l1: 0.76263\tvalid_1's l1: 1.10067\n"
     ]
    },
    {
     "name": "stderr",
     "output_type": "stream",
     "text": [
      "\u001b[32m[I 2021-07-06 12:43:07,149]\u001b[0m Trial 57 finished with value: -1.0977734152970375 and parameters: {'max_depth': 11, 'min_child_weight': 19, 'subsample': 0.6, 'colsample_bytree': 0.7, 'reg_lambda': 0.014838501793274018, 'reg_alpha': 0.08781713561811844, 'feature_fraction': 0.698102447484031, 'bagging_fraction': 0.981287240342281, 'bagging_freq': 4}. Best is trial 0 with value: -1.0963930025165227.\u001b[0m\n"
     ]
    },
    {
     "name": "stdout",
     "output_type": "stream",
     "text": [
      "Early stopping, best iteration is:\n",
      "[349]\ttraining's l1: 0.768684\tvalid_1's l1: 1.09799\n",
      "[LightGBM] [Warning] feature_fraction is set=0.7045478400080973, colsample_bytree=0.6 will be ignored. Current value: feature_fraction=0.7045478400080973\n",
      "[LightGBM] [Warning] bagging_fraction is set=0.5354396284607754, subsample=0.6 will be ignored. Current value: bagging_fraction=0.5354396284607754\n",
      "[LightGBM] [Warning] bagging_freq is set=4, subsample_freq=0 will be ignored. Current value: bagging_freq=4\n",
      "Training until validation scores don't improve for 100 rounds\n",
      "[100]\ttraining's l1: 0.826241\tvalid_1's l1: 1.1111\n",
      "[200]\ttraining's l1: 0.806791\tvalid_1's l1: 1.10704\n"
     ]
    },
    {
     "name": "stderr",
     "output_type": "stream",
     "text": [
      "\u001b[32m[I 2021-07-06 12:43:16,655]\u001b[0m Trial 58 finished with value: -1.1048204090501046 and parameters: {'max_depth': 10, 'min_child_weight': 8, 'subsample': 0.6, 'colsample_bytree': 0.6, 'reg_lambda': 0.3455856564322855, 'reg_alpha': 0.09883857374444588, 'feature_fraction': 0.7045478400080973, 'bagging_fraction': 0.5354396284607754, 'bagging_freq': 4}. Best is trial 0 with value: -1.0963930025165227.\u001b[0m\n"
     ]
    },
    {
     "name": "stdout",
     "output_type": "stream",
     "text": [
      "Early stopping, best iteration is:\n",
      "[178]\ttraining's l1: 0.809147\tvalid_1's l1: 1.10492\n",
      "[LightGBM] [Warning] feature_fraction is set=0.7455526610952703, colsample_bytree=0.8 will be ignored. Current value: feature_fraction=0.7455526610952703\n",
      "[LightGBM] [Warning] bagging_fraction is set=0.9766404989685338, subsample=0.6 will be ignored. Current value: bagging_fraction=0.9766404989685338\n",
      "[LightGBM] [Warning] bagging_freq is set=2, subsample_freq=0 will be ignored. Current value: bagging_freq=2\n",
      "Training until validation scores don't improve for 100 rounds\n",
      "[100]\ttraining's l1: 0.828111\tvalid_1's l1: 1.11205\n",
      "[200]\ttraining's l1: 0.819127\tvalid_1's l1: 1.10866\n",
      "[300]\ttraining's l1: 0.808026\tvalid_1's l1: 1.10872\n",
      "[400]\ttraining's l1: 0.797915\tvalid_1's l1: 1.10558\n",
      "[500]\ttraining's l1: 0.78273\tvalid_1's l1: 1.10812\n"
     ]
    },
    {
     "name": "stderr",
     "output_type": "stream",
     "text": [
      "\u001b[32m[I 2021-07-06 12:43:47,556]\u001b[0m Trial 59 finished with value: -1.1051604651472142 and parameters: {'max_depth': 12, 'min_child_weight': 17, 'subsample': 0.6, 'colsample_bytree': 0.8, 'reg_lambda': 0.01607701456839108, 'reg_alpha': 0.28105140738458734, 'feature_fraction': 0.7455526610952703, 'bagging_fraction': 0.9766404989685338, 'bagging_freq': 2}. Best is trial 0 with value: -1.0963930025165227.\u001b[0m\n"
     ]
    },
    {
     "name": "stdout",
     "output_type": "stream",
     "text": [
      "Early stopping, best iteration is:\n",
      "[435]\ttraining's l1: 0.793072\tvalid_1's l1: 1.10526\n",
      "[LightGBM] [Warning] feature_fraction is set=0.6075406895151889, colsample_bytree=0.7 will be ignored. Current value: feature_fraction=0.6075406895151889\n",
      "[LightGBM] [Warning] bagging_fraction is set=0.6447855102599687, subsample=0.6 will be ignored. Current value: bagging_fraction=0.6447855102599687\n",
      "[LightGBM] [Warning] bagging_freq is set=3, subsample_freq=0 will be ignored. Current value: bagging_freq=3\n",
      "Training until validation scores don't improve for 100 rounds\n",
      "[100]\ttraining's l1: 0.82703\tvalid_1's l1: 1.11828\n",
      "[200]\ttraining's l1: 0.8101\tvalid_1's l1: 1.10926\n",
      "[300]\ttraining's l1: 0.798492\tvalid_1's l1: 1.10351\n"
     ]
    },
    {
     "name": "stderr",
     "output_type": "stream",
     "text": [
      "\u001b[32m[I 2021-07-06 12:44:05,675]\u001b[0m Trial 60 finished with value: -1.1033988551260652 and parameters: {'max_depth': 8, 'min_child_weight': 12, 'subsample': 0.6, 'colsample_bytree': 0.7, 'reg_lambda': 0.0010858396943139346, 'reg_alpha': 0.16602212538287867, 'feature_fraction': 0.6075406895151889, 'bagging_fraction': 0.6447855102599687, 'bagging_freq': 3}. Best is trial 0 with value: -1.0963930025165227.\u001b[0m\n"
     ]
    },
    {
     "name": "stdout",
     "output_type": "stream",
     "text": [
      "[400]\ttraining's l1: 0.781503\tvalid_1's l1: 1.10393\n",
      "Early stopping, best iteration is:\n",
      "[302]\ttraining's l1: 0.798211\tvalid_1's l1: 1.1035\n",
      "[LightGBM] [Warning] feature_fraction is set=0.6578447430747776, colsample_bytree=0.7 will be ignored. Current value: feature_fraction=0.6578447430747776\n",
      "[LightGBM] [Warning] bagging_fraction is set=0.7108790440093197, subsample=0.5 will be ignored. Current value: bagging_fraction=0.7108790440093197\n",
      "[LightGBM] [Warning] bagging_freq is set=5, subsample_freq=0 will be ignored. Current value: bagging_freq=5\n",
      "Training until validation scores don't improve for 100 rounds\n",
      "[100]\ttraining's l1: 0.819459\tvalid_1's l1: 1.10937\n",
      "[200]\ttraining's l1: 0.793041\tvalid_1's l1: 1.10884\n"
     ]
    },
    {
     "name": "stderr",
     "output_type": "stream",
     "text": [
      "\u001b[32m[I 2021-07-06 12:44:14,934]\u001b[0m Trial 61 finished with value: -1.1062116873824654 and parameters: {'max_depth': 11, 'min_child_weight': 19, 'subsample': 0.5, 'colsample_bytree': 0.7, 'reg_lambda': 0.16870596541089306, 'reg_alpha': 0.04425279265557095, 'feature_fraction': 0.6578447430747776, 'bagging_fraction': 0.7108790440093197, 'bagging_freq': 5}. Best is trial 0 with value: -1.0963930025165227.\u001b[0m\n"
     ]
    },
    {
     "name": "stdout",
     "output_type": "stream",
     "text": [
      "Early stopping, best iteration is:\n",
      "[128]\ttraining's l1: 0.809802\tvalid_1's l1: 1.10629\n",
      "[LightGBM] [Warning] feature_fraction is set=0.7888103208744089, colsample_bytree=0.7 will be ignored. Current value: feature_fraction=0.7888103208744089\n",
      "[LightGBM] [Warning] bagging_fraction is set=0.9372580971968795, subsample=0.6 will be ignored. Current value: bagging_fraction=0.9372580971968795\n",
      "[LightGBM] [Warning] bagging_freq is set=4, subsample_freq=0 will be ignored. Current value: bagging_freq=4\n",
      "Training until validation scores don't improve for 100 rounds\n",
      "[100]\ttraining's l1: 0.828591\tvalid_1's l1: 1.11388\n",
      "[200]\ttraining's l1: 0.808209\tvalid_1's l1: 1.10904\n",
      "[300]\ttraining's l1: 0.798375\tvalid_1's l1: 1.10651\n",
      "[400]\ttraining's l1: 0.782273\tvalid_1's l1: 1.11009\n"
     ]
    },
    {
     "name": "stderr",
     "output_type": "stream",
     "text": [
      "\u001b[32m[I 2021-07-06 12:44:35,664]\u001b[0m Trial 62 finished with value: -1.103996657462364 and parameters: {'max_depth': 11, 'min_child_weight': 20, 'subsample': 0.6, 'colsample_bytree': 0.7, 'reg_lambda': 0.0018913327143026783, 'reg_alpha': 0.008338175134960326, 'feature_fraction': 0.7888103208744089, 'bagging_fraction': 0.9372580971968795, 'bagging_freq': 4}. Best is trial 0 with value: -1.0963930025165227.\u001b[0m\n"
     ]
    },
    {
     "name": "stdout",
     "output_type": "stream",
     "text": [
      "Early stopping, best iteration is:\n",
      "[353]\ttraining's l1: 0.786167\tvalid_1's l1: 1.10415\n",
      "[LightGBM] [Warning] feature_fraction is set=0.6901764435769352, colsample_bytree=0.6 will be ignored. Current value: feature_fraction=0.6901764435769352\n",
      "[LightGBM] [Warning] bagging_fraction is set=0.996485790707072, subsample=0.5 will be ignored. Current value: bagging_fraction=0.996485790707072\n",
      "[LightGBM] [Warning] bagging_freq is set=3, subsample_freq=0 will be ignored. Current value: bagging_freq=3\n",
      "Training until validation scores don't improve for 100 rounds\n",
      "[100]\ttraining's l1: 0.822862\tvalid_1's l1: 1.11275\n",
      "[200]\ttraining's l1: 0.806205\tvalid_1's l1: 1.1081\n",
      "[300]\ttraining's l1: 0.786147\tvalid_1's l1: 1.10502\n",
      "[400]\ttraining's l1: 0.763616\tvalid_1's l1: 1.10296\n"
     ]
    },
    {
     "name": "stderr",
     "output_type": "stream",
     "text": [
      "\u001b[32m[I 2021-07-06 12:44:58,456]\u001b[0m Trial 63 finished with value: -1.1020252765774523 and parameters: {'max_depth': 14, 'min_child_weight': 19, 'subsample': 0.5, 'colsample_bytree': 0.6, 'reg_lambda': 0.012151196710669302, 'reg_alpha': 0.003298997428903864, 'feature_fraction': 0.6901764435769352, 'bagging_fraction': 0.996485790707072, 'bagging_freq': 3}. Best is trial 0 with value: -1.0963930025165227.\u001b[0m\n"
     ]
    },
    {
     "name": "stdout",
     "output_type": "stream",
     "text": [
      "Early stopping, best iteration is:\n",
      "[366]\ttraining's l1: 0.770895\tvalid_1's l1: 1.10225\n",
      "[LightGBM] [Warning] feature_fraction is set=0.7556354860950609, colsample_bytree=0.7 will be ignored. Current value: feature_fraction=0.7556354860950609\n",
      "[LightGBM] [Warning] bagging_fraction is set=0.6607638374828996, subsample=0.6 will be ignored. Current value: bagging_fraction=0.6607638374828996\n",
      "[LightGBM] [Warning] bagging_freq is set=4, subsample_freq=0 will be ignored. Current value: bagging_freq=4\n",
      "Training until validation scores don't improve for 100 rounds\n",
      "[100]\ttraining's l1: 0.827004\tvalid_1's l1: 1.11089\n",
      "[200]\ttraining's l1: 0.808963\tvalid_1's l1: 1.10998\n",
      "[300]\ttraining's l1: 0.794468\tvalid_1's l1: 1.10607\n"
     ]
    },
    {
     "name": "stderr",
     "output_type": "stream",
     "text": [
      "\u001b[32m[I 2021-07-06 12:45:13,882]\u001b[0m Trial 64 finished with value: -1.1041317711876026 and parameters: {'max_depth': 13, 'min_child_weight': 18, 'subsample': 0.6, 'colsample_bytree': 0.7, 'reg_lambda': 0.05081099540041975, 'reg_alpha': 0.45393787464753627, 'feature_fraction': 0.7556354860950609, 'bagging_fraction': 0.6607638374828996, 'bagging_freq': 4}. Best is trial 0 with value: -1.0963930025165227.\u001b[0m\n"
     ]
    },
    {
     "name": "stdout",
     "output_type": "stream",
     "text": [
      "Early stopping, best iteration is:\n",
      "[296]\ttraining's l1: 0.795471\tvalid_1's l1: 1.10423\n",
      "[LightGBM] [Warning] feature_fraction is set=0.6442443823430037, colsample_bytree=0.6 will be ignored. Current value: feature_fraction=0.6442443823430037\n",
      "[LightGBM] [Warning] bagging_fraction is set=0.5879075291174038, subsample=0.7 will be ignored. Current value: bagging_fraction=0.5879075291174038\n",
      "[LightGBM] [Warning] bagging_freq is set=5, subsample_freq=0 will be ignored. Current value: bagging_freq=5\n",
      "Training until validation scores don't improve for 100 rounds\n",
      "[100]\ttraining's l1: 0.826804\tvalid_1's l1: 1.1146\n",
      "[200]\ttraining's l1: 0.806167\tvalid_1's l1: 1.11061\n"
     ]
    },
    {
     "name": "stderr",
     "output_type": "stream",
     "text": [
      "\u001b[32m[I 2021-07-06 12:45:23,023]\u001b[0m Trial 65 finished with value: -1.1088773860471122 and parameters: {'max_depth': 10, 'min_child_weight': 16, 'subsample': 0.7, 'colsample_bytree': 0.6, 'reg_lambda': 0.006454691676967662, 'reg_alpha': 0.0016371656854765552, 'feature_fraction': 0.6442443823430037, 'bagging_fraction': 0.5879075291174038, 'bagging_freq': 5}. Best is trial 0 with value: -1.0963930025165227.\u001b[0m\n"
     ]
    },
    {
     "name": "stdout",
     "output_type": "stream",
     "text": [
      "Early stopping, best iteration is:\n",
      "[161]\ttraining's l1: 0.813901\tvalid_1's l1: 1.10896\n",
      "[LightGBM] [Warning] feature_fraction is set=0.9740852574153576, colsample_bytree=0.8 will be ignored. Current value: feature_fraction=0.9740852574153576\n",
      "[LightGBM] [Warning] bagging_fraction is set=0.6172734503334586, subsample=0.7 will be ignored. Current value: bagging_fraction=0.6172734503334586\n",
      "[LightGBM] [Warning] bagging_freq is set=4, subsample_freq=0 will be ignored. Current value: bagging_freq=4\n",
      "Training until validation scores don't improve for 100 rounds\n",
      "[100]\ttraining's l1: 0.823305\tvalid_1's l1: 1.11579\n",
      "[200]\ttraining's l1: 0.811109\tvalid_1's l1: 1.10709\n",
      "[300]\ttraining's l1: 0.802296\tvalid_1's l1: 1.10327\n"
     ]
    },
    {
     "name": "stderr",
     "output_type": "stream",
     "text": [
      "\u001b[32m[I 2021-07-06 12:45:37,620]\u001b[0m Trial 66 finished with value: -1.1030085553745606 and parameters: {'max_depth': 12, 'min_child_weight': 14, 'subsample': 0.7, 'colsample_bytree': 0.8, 'reg_lambda': 0.020223083717786614, 'reg_alpha': 0.024662754907762725, 'feature_fraction': 0.9740852574153576, 'bagging_fraction': 0.6172734503334586, 'bagging_freq': 4}. Best is trial 0 with value: -1.0963930025165227.\u001b[0m\n"
     ]
    },
    {
     "name": "stdout",
     "output_type": "stream",
     "text": [
      "[400]\ttraining's l1: 0.801618\tvalid_1's l1: 1.10428\n",
      "Early stopping, best iteration is:\n",
      "[301]\ttraining's l1: 0.802146\tvalid_1's l1: 1.10312\n",
      "[LightGBM] [Warning] feature_fraction is set=0.940701976088266, colsample_bytree=0.6 will be ignored. Current value: feature_fraction=0.940701976088266\n",
      "[LightGBM] [Warning] bagging_fraction is set=0.8327933199375053, subsample=0.6 will be ignored. Current value: bagging_fraction=0.8327933199375053\n",
      "[LightGBM] [Warning] bagging_freq is set=7, subsample_freq=0 will be ignored. Current value: bagging_freq=7\n",
      "Training until validation scores don't improve for 100 rounds\n",
      "[100]\ttraining's l1: 0.824552\tvalid_1's l1: 1.11262\n",
      "[200]\ttraining's l1: 0.819053\tvalid_1's l1: 1.1087\n",
      "[300]\ttraining's l1: 0.804781\tvalid_1's l1: 1.10194\n",
      "[400]\ttraining's l1: 0.795721\tvalid_1's l1: 1.10302\n"
     ]
    },
    {
     "name": "stderr",
     "output_type": "stream",
     "text": [
      "\u001b[32m[I 2021-07-06 12:45:54,272]\u001b[0m Trial 67 finished with value: -1.1003381687907712 and parameters: {'max_depth': 6, 'min_child_weight': 6, 'subsample': 0.6, 'colsample_bytree': 0.6, 'reg_lambda': 0.004374441883105387, 'reg_alpha': 0.20244301799538728, 'feature_fraction': 0.940701976088266, 'bagging_fraction': 0.8327933199375053, 'bagging_freq': 7}. Best is trial 0 with value: -1.0963930025165227.\u001b[0m\n"
     ]
    },
    {
     "name": "stdout",
     "output_type": "stream",
     "text": [
      "Early stopping, best iteration is:\n",
      "[337]\ttraining's l1: 0.800616\tvalid_1's l1: 1.10044\n",
      "[LightGBM] [Warning] feature_fraction is set=0.7195262411310979, colsample_bytree=0.7 will be ignored. Current value: feature_fraction=0.7195262411310979\n",
      "[LightGBM] [Warning] bagging_fraction is set=0.7389639955386423, subsample=0.5 will be ignored. Current value: bagging_fraction=0.7389639955386423\n",
      "[LightGBM] [Warning] bagging_freq is set=8, subsample_freq=0 will be ignored. Current value: bagging_freq=8\n",
      "Training until validation scores don't improve for 100 rounds\n",
      "[100]\ttraining's l1: 0.864779\tvalid_1's l1: 1.14962\n",
      "[200]\ttraining's l1: 0.842961\tvalid_1's l1: 1.12692\n",
      "[300]\ttraining's l1: 0.833977\tvalid_1's l1: 1.12227\n",
      "[400]\ttraining's l1: 0.826461\tvalid_1's l1: 1.11756\n",
      "[500]\ttraining's l1: 0.82149\tvalid_1's l1: 1.11688\n",
      "[600]\ttraining's l1: 0.816841\tvalid_1's l1: 1.11507\n",
      "[700]\ttraining's l1: 0.812431\tvalid_1's l1: 1.11479\n",
      "[800]\ttraining's l1: 0.809186\tvalid_1's l1: 1.11254\n",
      "[900]\ttraining's l1: 0.806362\tvalid_1's l1: 1.11406\n"
     ]
    },
    {
     "name": "stderr",
     "output_type": "stream",
     "text": [
      "\u001b[32m[I 2021-07-06 12:46:19,599]\u001b[0m Trial 68 finished with value: -1.112076024795705 and parameters: {'max_depth': 3, 'min_child_weight': 18, 'subsample': 0.5, 'colsample_bytree': 0.7, 'reg_lambda': 0.1964312012574579, 'reg_alpha': 0.013875614916042204, 'feature_fraction': 0.7195262411310979, 'bagging_fraction': 0.7389639955386423, 'bagging_freq': 8}. Best is trial 0 with value: -1.0963930025165227.\u001b[0m\n"
     ]
    },
    {
     "name": "stdout",
     "output_type": "stream",
     "text": [
      "Early stopping, best iteration is:\n",
      "[822]\ttraining's l1: 0.808682\tvalid_1's l1: 1.11228\n",
      "[LightGBM] [Warning] feature_fraction is set=0.5858945227963843, colsample_bytree=0.6 will be ignored. Current value: feature_fraction=0.5858945227963843\n",
      "[LightGBM] [Warning] bagging_fraction is set=0.8714495374312364, subsample=0.7 will be ignored. Current value: bagging_fraction=0.8714495374312364\n",
      "[LightGBM] [Warning] bagging_freq is set=5, subsample_freq=0 will be ignored. Current value: bagging_freq=5\n",
      "Training until validation scores don't improve for 100 rounds\n",
      "[100]\ttraining's l1: 0.825365\tvalid_1's l1: 1.11377\n",
      "[200]\ttraining's l1: 0.802186\tvalid_1's l1: 1.11062\n"
     ]
    },
    {
     "name": "stderr",
     "output_type": "stream",
     "text": [
      "\u001b[32m[I 2021-07-06 12:46:34,031]\u001b[0m Trial 69 finished with value: -1.1101215885889848 and parameters: {'max_depth': 7, 'min_child_weight': 17, 'subsample': 0.7, 'colsample_bytree': 0.6, 'reg_lambda': 1.1361585011086466, 'reg_alpha': 0.08217826614752552, 'feature_fraction': 0.5858945227963843, 'bagging_fraction': 0.8714495374312364, 'bagging_freq': 5}. Best is trial 0 with value: -1.0963930025165227.\u001b[0m\n"
     ]
    },
    {
     "name": "stdout",
     "output_type": "stream",
     "text": [
      "Early stopping, best iteration is:\n",
      "[164]\ttraining's l1: 0.808967\tvalid_1's l1: 1.11023\n",
      "[LightGBM] [Warning] feature_fraction is set=0.8954418745641232, colsample_bytree=0.7 will be ignored. Current value: feature_fraction=0.8954418745641232\n",
      "[LightGBM] [Warning] bagging_fraction is set=0.9009079549663574, subsample=0.8 will be ignored. Current value: bagging_fraction=0.9009079549663574\n",
      "[LightGBM] [Warning] bagging_freq is set=9, subsample_freq=0 will be ignored. Current value: bagging_freq=9\n",
      "Training until validation scores don't improve for 100 rounds\n",
      "[100]\ttraining's l1: 0.826652\tvalid_1's l1: 1.11295\n",
      "[200]\ttraining's l1: 0.817907\tvalid_1's l1: 1.11014\n",
      "[300]\ttraining's l1: 0.803635\tvalid_1's l1: 1.1058\n",
      "[400]\ttraining's l1: 0.787349\tvalid_1's l1: 1.10459\n"
     ]
    },
    {
     "name": "stderr",
     "output_type": "stream",
     "text": [
      "\u001b[32m[I 2021-07-06 12:46:52,440]\u001b[0m Trial 70 finished with value: -1.1028744815868454 and parameters: {'max_depth': 9, 'min_child_weight': 4, 'subsample': 0.8, 'colsample_bytree': 0.7, 'reg_lambda': 0.039217568684482625, 'reg_alpha': 0.7871097533533362, 'feature_fraction': 0.8954418745641232, 'bagging_fraction': 0.9009079549663574, 'bagging_freq': 9}. Best is trial 0 with value: -1.0963930025165227.\u001b[0m\n"
     ]
    },
    {
     "name": "stdout",
     "output_type": "stream",
     "text": [
      "Early stopping, best iteration is:\n",
      "[359]\ttraining's l1: 0.79464\tvalid_1's l1: 1.10298\n",
      "[LightGBM] [Warning] feature_fraction is set=0.7701506560607718, colsample_bytree=0.6 will be ignored. Current value: feature_fraction=0.7701506560607718\n",
      "[LightGBM] [Warning] bagging_fraction is set=0.7762620039503645, subsample=0.6 will be ignored. Current value: bagging_fraction=0.7762620039503645\n",
      "[LightGBM] [Warning] bagging_freq is set=6, subsample_freq=0 will be ignored. Current value: bagging_freq=6\n",
      "Training until validation scores don't improve for 100 rounds\n",
      "[100]\ttraining's l1: 0.826161\tvalid_1's l1: 1.11095\n",
      "[200]\ttraining's l1: 0.818704\tvalid_1's l1: 1.10857\n",
      "[300]\ttraining's l1: 0.80034\tvalid_1's l1: 1.10346\n",
      "[400]\ttraining's l1: 0.788677\tvalid_1's l1: 1.11154\n"
     ]
    },
    {
     "name": "stderr",
     "output_type": "stream",
     "text": [
      "\u001b[32m[I 2021-07-06 12:47:08,777]\u001b[0m Trial 71 finished with value: -1.1013446446918367 and parameters: {'max_depth': 10, 'min_child_weight': 3, 'subsample': 0.6, 'colsample_bytree': 0.6, 'reg_lambda': 0.358312495631241, 'reg_alpha': 0.036170770952466416, 'feature_fraction': 0.7701506560607718, 'bagging_fraction': 0.7762620039503645, 'bagging_freq': 6}. Best is trial 0 with value: -1.0963930025165227.\u001b[0m\n"
     ]
    },
    {
     "name": "stdout",
     "output_type": "stream",
     "text": [
      "Early stopping, best iteration is:\n",
      "[336]\ttraining's l1: 0.796003\tvalid_1's l1: 1.10143\n",
      "[LightGBM] [Warning] feature_fraction is set=0.7965472057441787, colsample_bytree=0.6 will be ignored. Current value: feature_fraction=0.7965472057441787\n",
      "[LightGBM] [Warning] bagging_fraction is set=0.810579286094337, subsample=0.6 will be ignored. Current value: bagging_fraction=0.810579286094337\n",
      "[LightGBM] [Warning] bagging_freq is set=5, subsample_freq=0 will be ignored. Current value: bagging_freq=5\n",
      "Training until validation scores don't improve for 100 rounds\n",
      "[100]\ttraining's l1: 0.828131\tvalid_1's l1: 1.11436\n",
      "[200]\ttraining's l1: 0.813957\tvalid_1's l1: 1.10772\n",
      "[300]\ttraining's l1: 0.804801\tvalid_1's l1: 1.10327\n",
      "[400]\ttraining's l1: 0.794028\tvalid_1's l1: 1.1019\n",
      "[500]\ttraining's l1: 0.781181\tvalid_1's l1: 1.10446\n"
     ]
    },
    {
     "name": "stderr",
     "output_type": "stream",
     "text": [
      "\u001b[32m[I 2021-07-06 12:47:30,477]\u001b[0m Trial 72 finished with value: -1.1006346201076025 and parameters: {'max_depth': 11, 'min_child_weight': 1, 'subsample': 0.6, 'colsample_bytree': 0.6, 'reg_lambda': 0.6367706070968702, 'reg_alpha': 0.07062745428606826, 'feature_fraction': 0.7965472057441787, 'bagging_fraction': 0.810579286094337, 'bagging_freq': 5}. Best is trial 0 with value: -1.0963930025165227.\u001b[0m\n"
     ]
    },
    {
     "name": "stdout",
     "output_type": "stream",
     "text": [
      "Early stopping, best iteration is:\n",
      "[445]\ttraining's l1: 0.789431\tvalid_1's l1: 1.10085\n",
      "[LightGBM] [Warning] feature_fraction is set=0.7783746930230397, colsample_bytree=0.6 will be ignored. Current value: feature_fraction=0.7783746930230397\n",
      "[LightGBM] [Warning] bagging_fraction is set=0.7971260241112418, subsample=0.6 will be ignored. Current value: bagging_fraction=0.7971260241112418\n",
      "[LightGBM] [Warning] bagging_freq is set=4, subsample_freq=0 will be ignored. Current value: bagging_freq=4\n",
      "Training until validation scores don't improve for 100 rounds\n",
      "[100]\ttraining's l1: 0.828132\tvalid_1's l1: 1.1148\n",
      "[200]\ttraining's l1: 0.803576\tvalid_1's l1: 1.10717\n"
     ]
    },
    {
     "name": "stderr",
     "output_type": "stream",
     "text": [
      "\u001b[32m[I 2021-07-06 12:47:43,926]\u001b[0m Trial 73 finished with value: -1.1067196725747934 and parameters: {'max_depth': 9, 'min_child_weight': 2, 'subsample': 0.6, 'colsample_bytree': 0.6, 'reg_lambda': 0.09326331461726037, 'reg_alpha': 0.35191894094054105, 'feature_fraction': 0.7783746930230397, 'bagging_fraction': 0.7971260241112418, 'bagging_freq': 4}. Best is trial 0 with value: -1.0963930025165227.\u001b[0m\n"
     ]
    },
    {
     "name": "stdout",
     "output_type": "stream",
     "text": [
      "[300]\ttraining's l1: 0.787415\tvalid_1's l1: 1.10935\n",
      "Early stopping, best iteration is:\n",
      "[202]\ttraining's l1: 0.803137\tvalid_1's l1: 1.10682\n",
      "[LightGBM] [Warning] feature_fraction is set=0.822034581363694, colsample_bytree=0.6 will be ignored. Current value: feature_fraction=0.822034581363694\n",
      "[LightGBM] [Warning] bagging_fraction is set=0.7592987201477944, subsample=0.6 will be ignored. Current value: bagging_fraction=0.7592987201477944\n",
      "[LightGBM] [Warning] bagging_freq is set=6, subsample_freq=0 will be ignored. Current value: bagging_freq=6\n",
      "Training until validation scores don't improve for 100 rounds\n",
      "[100]\ttraining's l1: 0.824961\tvalid_1's l1: 1.1105\n",
      "[200]\ttraining's l1: 0.815579\tvalid_1's l1: 1.10598\n",
      "[300]\ttraining's l1: 0.806911\tvalid_1's l1: 1.10548\n",
      "[400]\ttraining's l1: 0.787586\tvalid_1's l1: 1.09979\n",
      "[500]\ttraining's l1: 0.770339\tvalid_1's l1: 1.09801\n",
      "Early stopping, best iteration is:\n",
      "[484]\ttraining's l1: 0.7736\tvalid_1's l1: 1.09685\n"
     ]
    },
    {
     "name": "stderr",
     "output_type": "stream",
     "text": [
      "\u001b[32m[I 2021-07-06 12:48:05,283]\u001b[0m Trial 74 finished with value: -1.0967075657653995 and parameters: {'max_depth': 7, 'min_child_weight': 1, 'subsample': 0.6, 'colsample_bytree': 0.6, 'reg_lambda': 0.22110831343400703, 'reg_alpha': 0.1744859123589061, 'feature_fraction': 0.822034581363694, 'bagging_fraction': 0.7592987201477944, 'bagging_freq': 6}. Best is trial 0 with value: -1.0963930025165227.\u001b[0m\n"
     ]
    },
    {
     "name": "stdout",
     "output_type": "stream",
     "text": [
      "[LightGBM] [Warning] feature_fraction is set=0.8504175856562665, colsample_bytree=0.6 will be ignored. Current value: feature_fraction=0.8504175856562665\n",
      "[LightGBM] [Warning] bagging_fraction is set=0.7549456227821404, subsample=0.6 will be ignored. Current value: bagging_fraction=0.7549456227821404\n",
      "[LightGBM] [Warning] bagging_freq is set=6, subsample_freq=0 will be ignored. Current value: bagging_freq=6\n",
      "Training until validation scores don't improve for 100 rounds\n",
      "[100]\ttraining's l1: 0.8449\tvalid_1's l1: 1.1273\n",
      "[200]\ttraining's l1: 0.830967\tvalid_1's l1: 1.11483\n",
      "[300]\ttraining's l1: 0.82461\tvalid_1's l1: 1.11238\n",
      "[400]\ttraining's l1: 0.820032\tvalid_1's l1: 1.11001\n",
      "[500]\ttraining's l1: 0.815182\tvalid_1's l1: 1.108\n",
      "[600]\ttraining's l1: 0.810792\tvalid_1's l1: 1.10735\n",
      "[700]\ttraining's l1: 0.807383\tvalid_1's l1: 1.10708\n"
     ]
    },
    {
     "name": "stderr",
     "output_type": "stream",
     "text": [
      "\u001b[32m[I 2021-07-06 12:48:29,651]\u001b[0m Trial 75 finished with value: -1.1063540836029169 and parameters: {'max_depth': 4, 'min_child_weight': 3, 'subsample': 0.6, 'colsample_bytree': 0.6, 'reg_lambda': 0.00824688913943368, 'reg_alpha': 2.026523766785517, 'feature_fraction': 0.8504175856562665, 'bagging_fraction': 0.7549456227821404, 'bagging_freq': 6}. Best is trial 0 with value: -1.0963930025165227.\u001b[0m\n"
     ]
    },
    {
     "name": "stdout",
     "output_type": "stream",
     "text": [
      "Early stopping, best iteration is:\n",
      "[655]\ttraining's l1: 0.808959\tvalid_1's l1: 1.10648\n",
      "[LightGBM] [Warning] feature_fraction is set=0.7224356511957707, colsample_bytree=0.5 will be ignored. Current value: feature_fraction=0.7224356511957707\n",
      "[LightGBM] [Warning] bagging_fraction is set=0.40119694224747987, subsample=0.6 will be ignored. Current value: bagging_fraction=0.40119694224747987\n",
      "[LightGBM] [Warning] bagging_freq is set=7, subsample_freq=0 will be ignored. Current value: bagging_freq=7\n",
      "Training until validation scores don't improve for 100 rounds\n",
      "[100]\ttraining's l1: 0.820501\tvalid_1's l1: 1.107\n",
      "[200]\ttraining's l1: 0.805729\tvalid_1's l1: 1.1067\n"
     ]
    },
    {
     "name": "stderr",
     "output_type": "stream",
     "text": [
      "\u001b[32m[I 2021-07-06 12:48:36,245]\u001b[0m Trial 76 finished with value: -1.102501861940565 and parameters: {'max_depth': 5, 'min_child_weight': 1, 'subsample': 0.6, 'colsample_bytree': 0.5, 'reg_lambda': 0.1507529036769738, 'reg_alpha': 0.2228266275854216, 'feature_fraction': 0.7224356511957707, 'bagging_fraction': 0.40119694224747987, 'bagging_freq': 7}. Best is trial 0 with value: -1.0963930025165227.\u001b[0m\n"
     ]
    },
    {
     "name": "stdout",
     "output_type": "stream",
     "text": [
      "Early stopping, best iteration is:\n",
      "[149]\ttraining's l1: 0.813717\tvalid_1's l1: 1.10259\n",
      "[LightGBM] [Warning] feature_fraction is set=0.8314196149444839, colsample_bytree=0.6 will be ignored. Current value: feature_fraction=0.8314196149444839\n",
      "[LightGBM] [Warning] bagging_fraction is set=0.7004725541589576, subsample=0.5 will be ignored. Current value: bagging_fraction=0.7004725541589576\n",
      "[LightGBM] [Warning] bagging_freq is set=6, subsample_freq=0 will be ignored. Current value: bagging_freq=6\n",
      "Training until validation scores don't improve for 100 rounds\n",
      "[100]\ttraining's l1: 0.823275\tvalid_1's l1: 1.11406\n",
      "[200]\ttraining's l1: 0.812656\tvalid_1's l1: 1.10966\n",
      "[300]\ttraining's l1: 0.802837\tvalid_1's l1: 1.10534\n",
      "[400]\ttraining's l1: 0.791275\tvalid_1's l1: 1.10464\n",
      "[500]\ttraining's l1: 0.782528\tvalid_1's l1: 1.10628\n"
     ]
    },
    {
     "name": "stderr",
     "output_type": "stream",
     "text": [
      "\u001b[32m[I 2021-07-06 12:48:54,402]\u001b[0m Trial 77 finished with value: -1.1041843180443296 and parameters: {'max_depth': 13, 'min_child_weight': 2, 'subsample': 0.5, 'colsample_bytree': 0.6, 'reg_lambda': 0.014689499709795271, 'reg_alpha': 0.11520669178756217, 'feature_fraction': 0.8314196149444839, 'bagging_fraction': 0.7004725541589576, 'bagging_freq': 6}. Best is trial 0 with value: -1.0963930025165227.\u001b[0m\n"
     ]
    },
    {
     "name": "stdout",
     "output_type": "stream",
     "text": [
      "Early stopping, best iteration is:\n",
      "[408]\ttraining's l1: 0.790718\tvalid_1's l1: 1.10428\n",
      "[LightGBM] [Warning] feature_fraction is set=0.6186253621095275, colsample_bytree=0.7 will be ignored. Current value: feature_fraction=0.6186253621095275\n",
      "[LightGBM] [Warning] bagging_fraction is set=0.7252700047788875, subsample=0.6 will be ignored. Current value: bagging_fraction=0.7252700047788875\n",
      "[LightGBM] [Warning] bagging_freq is set=2, subsample_freq=0 will be ignored. Current value: bagging_freq=2\n",
      "Training until validation scores don't improve for 100 rounds\n",
      "[100]\ttraining's l1: 0.825707\tvalid_1's l1: 1.11559\n",
      "[200]\ttraining's l1: 0.808499\tvalid_1's l1: 1.10817\n",
      "[300]\ttraining's l1: 0.794953\tvalid_1's l1: 1.1076\n",
      "[400]\ttraining's l1: 0.77917\tvalid_1's l1: 1.10419\n"
     ]
    },
    {
     "name": "stderr",
     "output_type": "stream",
     "text": [
      "\u001b[32m[I 2021-07-06 12:49:19,605]\u001b[0m Trial 78 finished with value: -1.1038126562612949 and parameters: {'max_depth': 15, 'min_child_weight': 5, 'subsample': 0.6, 'colsample_bytree': 0.7, 'reg_lambda': 0.05052080489304198, 'reg_alpha': 0.007744287776219558, 'feature_fraction': 0.6186253621095275, 'bagging_fraction': 0.7252700047788875, 'bagging_freq': 2}. Best is trial 0 with value: -1.0963930025165227.\u001b[0m\n"
     ]
    },
    {
     "name": "stdout",
     "output_type": "stream",
     "text": [
      "Early stopping, best iteration is:\n",
      "[392]\ttraining's l1: 0.78136\tvalid_1's l1: 1.10395\n",
      "[LightGBM] [Warning] feature_fraction is set=0.8187180555338229, colsample_bytree=0.6 will be ignored. Current value: feature_fraction=0.8187180555338229\n",
      "[LightGBM] [Warning] bagging_fraction is set=0.8501511774734636, subsample=0.7 will be ignored. Current value: bagging_fraction=0.8501511774734636\n",
      "[LightGBM] [Warning] bagging_freq is set=5, subsample_freq=0 will be ignored. Current value: bagging_freq=5\n",
      "Training until validation scores don't improve for 100 rounds\n",
      "[100]\ttraining's l1: 0.827899\tvalid_1's l1: 1.11314\n",
      "[200]\ttraining's l1: 0.805297\tvalid_1's l1: 1.11091\n"
     ]
    },
    {
     "name": "stderr",
     "output_type": "stream",
     "text": [
      "\u001b[32m[I 2021-07-06 12:49:32,122]\u001b[0m Trial 79 finished with value: -1.1053540878138255 and parameters: {'max_depth': 7, 'min_child_weight': 19, 'subsample': 0.7, 'colsample_bytree': 0.6, 'reg_lambda': 0.9080887789919099, 'reg_alpha': 7.123728120255456, 'feature_fraction': 0.8187180555338229, 'bagging_fraction': 0.8501511774734636, 'bagging_freq': 5}. Best is trial 0 with value: -1.0963930025165227.\u001b[0m\n"
     ]
    },
    {
     "name": "stdout",
     "output_type": "stream",
     "text": [
      "Early stopping, best iteration is:\n",
      "[178]\ttraining's l1: 0.81048\tvalid_1's l1: 1.10544\n",
      "[LightGBM] [Warning] feature_fraction is set=0.8807075828099065, colsample_bytree=0.6 will be ignored. Current value: feature_fraction=0.8807075828099065\n",
      "[LightGBM] [Warning] bagging_fraction is set=0.6674675766917868, subsample=0.5 will be ignored. Current value: bagging_fraction=0.6674675766917868\n",
      "[LightGBM] [Warning] bagging_freq is set=3, subsample_freq=0 will be ignored. Current value: bagging_freq=3\n",
      "Training until validation scores don't improve for 100 rounds\n",
      "[100]\ttraining's l1: 0.827047\tvalid_1's l1: 1.11328\n",
      "[200]\ttraining's l1: 0.821286\tvalid_1's l1: 1.11065\n",
      "[300]\ttraining's l1: 0.810118\tvalid_1's l1: 1.10874\n",
      "[400]\ttraining's l1: 0.788873\tvalid_1's l1: 1.10871\n"
     ]
    },
    {
     "name": "stderr",
     "output_type": "stream",
     "text": [
      "\u001b[32m[I 2021-07-06 12:49:51,775]\u001b[0m Trial 80 finished with value: -1.1029088611521016 and parameters: {'max_depth': 14, 'min_child_weight': 20, 'subsample': 0.5, 'colsample_bytree': 0.6, 'reg_lambda': 0.2563518143030649, 'reg_alpha': 0.004493905451728172, 'feature_fraction': 0.8807075828099065, 'bagging_fraction': 0.6674675766917868, 'bagging_freq': 3}. Best is trial 0 with value: -1.0963930025165227.\u001b[0m\n"
     ]
    },
    {
     "name": "stdout",
     "output_type": "stream",
     "text": [
      "Early stopping, best iteration is:\n",
      "[381]\ttraining's l1: 0.792768\tvalid_1's l1: 1.10303\n",
      "[LightGBM] [Warning] feature_fraction is set=0.8118412307413826, colsample_bytree=0.6 will be ignored. Current value: feature_fraction=0.8118412307413826\n",
      "[LightGBM] [Warning] bagging_fraction is set=0.7905170786878571, subsample=0.6 will be ignored. Current value: bagging_fraction=0.7905170786878571\n",
      "[LightGBM] [Warning] bagging_freq is set=5, subsample_freq=0 will be ignored. Current value: bagging_freq=5\n",
      "Training until validation scores don't improve for 100 rounds\n",
      "[100]\ttraining's l1: 0.828318\tvalid_1's l1: 1.1133\n",
      "[200]\ttraining's l1: 0.816327\tvalid_1's l1: 1.10936\n",
      "[300]\ttraining's l1: 0.804973\tvalid_1's l1: 1.10879\n"
     ]
    },
    {
     "name": "stderr",
     "output_type": "stream",
     "text": [
      "\u001b[32m[I 2021-07-06 12:50:06,180]\u001b[0m Trial 81 finished with value: -1.1056770035238592 and parameters: {'max_depth': 8, 'min_child_weight': 1, 'subsample': 0.6, 'colsample_bytree': 0.6, 'reg_lambda': 0.5414339695069899, 'reg_alpha': 0.16127900339923262, 'feature_fraction': 0.8118412307413826, 'bagging_fraction': 0.7905170786878571, 'bagging_freq': 5}. Best is trial 0 with value: -1.0963930025165227.\u001b[0m\n"
     ]
    },
    {
     "name": "stdout",
     "output_type": "stream",
     "text": [
      "Early stopping, best iteration is:\n",
      "[251]\ttraining's l1: 0.809064\tvalid_1's l1: 1.10577\n",
      "[LightGBM] [Warning] feature_fraction is set=0.6806097474378083, colsample_bytree=0.6 will be ignored. Current value: feature_fraction=0.6806097474378083\n",
      "[LightGBM] [Warning] bagging_fraction is set=0.7644146311616217, subsample=0.6 will be ignored. Current value: bagging_fraction=0.7644146311616217\n",
      "[LightGBM] [Warning] bagging_freq is set=6, subsample_freq=0 will be ignored. Current value: bagging_freq=6\n",
      "Training until validation scores don't improve for 100 rounds\n",
      "[100]\ttraining's l1: 0.821434\tvalid_1's l1: 1.11461\n",
      "[200]\ttraining's l1: 0.801616\tvalid_1's l1: 1.10704\n",
      "[300]\ttraining's l1: 0.784737\tvalid_1's l1: 1.11161\n"
     ]
    },
    {
     "name": "stderr",
     "output_type": "stream",
     "text": [
      "\u001b[32m[I 2021-07-06 12:50:18,291]\u001b[0m Trial 82 finished with value: -1.106355548591529 and parameters: {'max_depth': 9, 'min_child_weight': 2, 'subsample': 0.6, 'colsample_bytree': 0.6, 'reg_lambda': 0.33427602275177926, 'reg_alpha': 0.5000568170798954, 'feature_fraction': 0.6806097474378083, 'bagging_fraction': 0.7644146311616217, 'bagging_freq': 6}. Best is trial 0 with value: -1.0963930025165227.\u001b[0m\n"
     ]
    },
    {
     "name": "stdout",
     "output_type": "stream",
     "text": [
      "Early stopping, best iteration is:\n",
      "[208]\ttraining's l1: 0.799735\tvalid_1's l1: 1.10646\n",
      "[LightGBM] [Warning] feature_fraction is set=0.8656863717479526, colsample_bytree=0.6 will be ignored. Current value: feature_fraction=0.8656863717479526\n",
      "[LightGBM] [Warning] bagging_fraction is set=0.8214430888357197, subsample=0.6 will be ignored. Current value: bagging_fraction=0.8214430888357197\n",
      "[LightGBM] [Warning] bagging_freq is set=5, subsample_freq=0 will be ignored. Current value: bagging_freq=5\n",
      "Training until validation scores don't improve for 100 rounds\n",
      "[100]\ttraining's l1: 0.828945\tvalid_1's l1: 1.11889\n",
      "[200]\ttraining's l1: 0.816127\tvalid_1's l1: 1.11215\n",
      "[300]\ttraining's l1: 0.805848\tvalid_1's l1: 1.10765\n",
      "[400]\ttraining's l1: 0.796982\tvalid_1's l1: 1.10434\n",
      "[500]\ttraining's l1: 0.779446\tvalid_1's l1: 1.10242\n"
     ]
    },
    {
     "name": "stderr",
     "output_type": "stream",
     "text": [
      "\u001b[32m[I 2021-07-06 12:50:41,336]\u001b[0m Trial 83 finished with value: -1.1016317098679371 and parameters: {'max_depth': 12, 'min_child_weight': 1, 'subsample': 0.6, 'colsample_bytree': 0.6, 'reg_lambda': 0.08639092555597495, 'reg_alpha': 0.05807587978571123, 'feature_fraction': 0.8656863717479526, 'bagging_fraction': 0.8214430888357197, 'bagging_freq': 5}. Best is trial 0 with value: -1.0963930025165227.\u001b[0m\n"
     ]
    },
    {
     "name": "stdout",
     "output_type": "stream",
     "text": [
      "Early stopping, best iteration is:\n",
      "[475]\ttraining's l1: 0.787467\tvalid_1's l1: 1.10186\n",
      "[LightGBM] [Warning] feature_fraction is set=0.5154812140339156, colsample_bytree=0.6 will be ignored. Current value: feature_fraction=0.5154812140339156\n",
      "[LightGBM] [Warning] bagging_fraction is set=0.7455831193884345, subsample=0.9 will be ignored. Current value: bagging_fraction=0.7455831193884345\n",
      "[LightGBM] [Warning] bagging_freq is set=4, subsample_freq=0 will be ignored. Current value: bagging_freq=4\n",
      "Training until validation scores don't improve for 100 rounds\n",
      "[100]\ttraining's l1: 0.819132\tvalid_1's l1: 1.11153\n",
      "[200]\ttraining's l1: 0.79873\tvalid_1's l1: 1.10601\n",
      "[300]\ttraining's l1: 0.785022\tvalid_1's l1: 1.10921\n"
     ]
    },
    {
     "name": "stderr",
     "output_type": "stream",
     "text": [
      "\u001b[32m[I 2021-07-06 12:50:55,540]\u001b[0m Trial 84 finished with value: -1.1053785135725689 and parameters: {'max_depth': 7, 'min_child_weight': 3, 'subsample': 0.9, 'colsample_bytree': 0.6, 'reg_lambda': 0.14299887877324527, 'reg_alpha': 0.3785625772738287, 'feature_fraction': 0.5154812140339156, 'bagging_fraction': 0.7455831193884345, 'bagging_freq': 4}. Best is trial 0 with value: -1.0963930025165227.\u001b[0m\n"
     ]
    },
    {
     "name": "stdout",
     "output_type": "stream",
     "text": [
      "Early stopping, best iteration is:\n",
      "[208]\ttraining's l1: 0.797632\tvalid_1's l1: 1.10544\n",
      "[LightGBM] [Warning] feature_fraction is set=0.7903415175657932, colsample_bytree=0.9 will be ignored. Current value: feature_fraction=0.7903415175657932\n",
      "[LightGBM] [Warning] bagging_fraction is set=0.6339040015410438, subsample=0.6 will be ignored. Current value: bagging_fraction=0.6339040015410438\n",
      "[LightGBM] [Warning] bagging_freq is set=6, subsample_freq=0 will be ignored. Current value: bagging_freq=6\n",
      "Training until validation scores don't improve for 100 rounds\n",
      "[100]\ttraining's l1: 0.829681\tvalid_1's l1: 1.11641\n",
      "[200]\ttraining's l1: 0.80975\tvalid_1's l1: 1.10832\n",
      "[300]\ttraining's l1: 0.794205\tvalid_1's l1: 1.10733\n",
      "[400]\ttraining's l1: 0.784408\tvalid_1's l1: 1.10498\n",
      "[500]\ttraining's l1: 0.768143\tvalid_1's l1: 1.10406\n"
     ]
    },
    {
     "name": "stderr",
     "output_type": "stream",
     "text": [
      "\u001b[32m[I 2021-07-06 12:51:14,694]\u001b[0m Trial 85 finished with value: -1.1038646484765375 and parameters: {'max_depth': 11, 'min_child_weight': 1, 'subsample': 0.6, 'colsample_bytree': 0.9, 'reg_lambda': 0.024605614999676204, 'reg_alpha': 0.7980449177326708, 'feature_fraction': 0.7903415175657932, 'bagging_fraction': 0.6339040015410438, 'bagging_freq': 6}. Best is trial 0 with value: -1.0963930025165227.\u001b[0m\n"
     ]
    },
    {
     "name": "stdout",
     "output_type": "stream",
     "text": [
      "Early stopping, best iteration is:\n",
      "[499]\ttraining's l1: 0.768163\tvalid_1's l1: 1.10404\n",
      "[LightGBM] [Warning] feature_fraction is set=0.7540208770256757, colsample_bytree=0.5 will be ignored. Current value: feature_fraction=0.7540208770256757\n",
      "[LightGBM] [Warning] bagging_fraction is set=0.6975114513123221, subsample=0.7 will be ignored. Current value: bagging_fraction=0.6975114513123221\n",
      "[LightGBM] [Warning] bagging_freq is set=7, subsample_freq=0 will be ignored. Current value: bagging_freq=7\n",
      "Training until validation scores don't improve for 100 rounds\n",
      "[100]\ttraining's l1: 0.828224\tvalid_1's l1: 1.11339\n",
      "[200]\ttraining's l1: 0.814028\tvalid_1's l1: 1.1101\n",
      "[300]\ttraining's l1: 0.800728\tvalid_1's l1: 1.10825\n",
      "[400]\ttraining's l1: 0.786951\tvalid_1's l1: 1.10444\n",
      "[500]\ttraining's l1: 0.772399\tvalid_1's l1: 1.11238\n",
      "Early stopping, best iteration is:\n",
      "[405]\ttraining's l1: 0.786328\tvalid_1's l1: 1.10403\n"
     ]
    },
    {
     "name": "stderr",
     "output_type": "stream",
     "text": [
      "\u001b[32m[I 2021-07-06 12:51:32,207]\u001b[0m Trial 86 finished with value: -1.1038887876981422 and parameters: {'max_depth': 10, 'min_child_weight': 4, 'subsample': 0.7, 'colsample_bytree': 0.5, 'reg_lambda': 0.002583341356150621, 'reg_alpha': 0.13941845876677653, 'feature_fraction': 0.7540208770256757, 'bagging_fraction': 0.6975114513123221, 'bagging_freq': 7}. Best is trial 0 with value: -1.0963930025165227.\u001b[0m\n"
     ]
    },
    {
     "name": "stdout",
     "output_type": "stream",
     "text": [
      "[LightGBM] [Warning] feature_fraction is set=0.8467067375193535, colsample_bytree=0.6 will be ignored. Current value: feature_fraction=0.8467067375193535\n",
      "[LightGBM] [Warning] bagging_fraction is set=0.7729281226061508, subsample=0.6 will be ignored. Current value: bagging_fraction=0.7729281226061508\n",
      "[LightGBM] [Warning] bagging_freq is set=5, subsample_freq=0 will be ignored. Current value: bagging_freq=5\n",
      "Training until validation scores don't improve for 100 rounds\n",
      "[100]\ttraining's l1: 0.830343\tvalid_1's l1: 1.11518\n",
      "[200]\ttraining's l1: 0.813543\tvalid_1's l1: 1.10649\n",
      "[300]\ttraining's l1: 0.803631\tvalid_1's l1: 1.10333\n",
      "[400]\ttraining's l1: 0.784471\tvalid_1's l1: 1.10391\n"
     ]
    },
    {
     "name": "stderr",
     "output_type": "stream",
     "text": [
      "\u001b[32m[I 2021-07-06 12:51:51,117]\u001b[0m Trial 87 finished with value: -1.1021041371639084 and parameters: {'max_depth': 13, 'min_child_weight': 9, 'subsample': 0.6, 'colsample_bytree': 0.6, 'reg_lambda': 215.94476924480315, 'reg_alpha': 0.0945535776368619, 'feature_fraction': 0.8467067375193535, 'bagging_fraction': 0.7729281226061508, 'bagging_freq': 5}. Best is trial 0 with value: -1.0963930025165227.\u001b[0m\n"
     ]
    },
    {
     "name": "stdout",
     "output_type": "stream",
     "text": [
      "Early stopping, best iteration is:\n",
      "[373]\ttraining's l1: 0.791795\tvalid_1's l1: 1.10224\n",
      "[LightGBM] [Warning] feature_fraction is set=0.7318426740844604, colsample_bytree=0.7 will be ignored. Current value: feature_fraction=0.7318426740844604\n",
      "[LightGBM] [Warning] bagging_fraction is set=0.7124380927450871, subsample=0.5 will be ignored. Current value: bagging_fraction=0.7124380927450871\n",
      "[LightGBM] [Warning] bagging_freq is set=8, subsample_freq=0 will be ignored. Current value: bagging_freq=8\n",
      "Training until validation scores don't improve for 100 rounds\n",
      "[100]\ttraining's l1: 0.827254\tvalid_1's l1: 1.11595\n",
      "[200]\ttraining's l1: 0.806315\tvalid_1's l1: 1.10901\n",
      "[300]\ttraining's l1: 0.785576\tvalid_1's l1: 1.11053\n"
     ]
    },
    {
     "name": "stderr",
     "output_type": "stream",
     "text": [
      "\u001b[32m[I 2021-07-06 12:52:02,683]\u001b[0m Trial 88 finished with value: -1.1078298505471467 and parameters: {'max_depth': 16, 'min_child_weight': 19, 'subsample': 0.5, 'colsample_bytree': 0.7, 'reg_lambda': 0.2184883832888747, 'reg_alpha': 0.020783048796265118, 'feature_fraction': 0.7318426740844604, 'bagging_fraction': 0.7124380927450871, 'bagging_freq': 8}. Best is trial 0 with value: -1.0963930025165227.\u001b[0m\n"
     ]
    },
    {
     "name": "stdout",
     "output_type": "stream",
     "text": [
      "Early stopping, best iteration is:\n",
      "[218]\ttraining's l1: 0.802631\tvalid_1's l1: 1.10798\n",
      "[LightGBM] [Warning] feature_fraction is set=0.906276214654694, colsample_bytree=0.6 will be ignored. Current value: feature_fraction=0.906276214654694\n",
      "[LightGBM] [Warning] bagging_fraction is set=0.6060901018851504, subsample=0.6 will be ignored. Current value: bagging_fraction=0.6060901018851504\n",
      "[LightGBM] [Warning] bagging_freq is set=4, subsample_freq=0 will be ignored. Current value: bagging_freq=4\n",
      "Training until validation scores don't improve for 100 rounds\n",
      "[100]\ttraining's l1: 0.826038\tvalid_1's l1: 1.11418\n",
      "[200]\ttraining's l1: 0.821194\tvalid_1's l1: 1.1105\n",
      "[300]\ttraining's l1: 0.806139\tvalid_1's l1: 1.10615\n",
      "[400]\ttraining's l1: 0.786802\tvalid_1's l1: 1.10522\n"
     ]
    },
    {
     "name": "stderr",
     "output_type": "stream",
     "text": [
      "\u001b[32m[I 2021-07-06 12:52:19,263]\u001b[0m Trial 89 finished with value: -1.1042451775650757 and parameters: {'max_depth': 8, 'min_child_weight': 12, 'subsample': 0.6, 'colsample_bytree': 0.6, 'reg_lambda': 0.011256741283696171, 'reg_alpha': 0.039107305815856794, 'feature_fraction': 0.906276214654694, 'bagging_fraction': 0.6060901018851504, 'bagging_freq': 4}. Best is trial 0 with value: -1.0963930025165227.\u001b[0m\n"
     ]
    },
    {
     "name": "stdout",
     "output_type": "stream",
     "text": [
      "Early stopping, best iteration is:\n",
      "[365]\ttraining's l1: 0.793368\tvalid_1's l1: 1.10436\n",
      "[LightGBM] [Warning] feature_fraction is set=0.7085059143414448, colsample_bytree=0.6 will be ignored. Current value: feature_fraction=0.7085059143414448\n",
      "[LightGBM] [Warning] bagging_fraction is set=0.681669572588735, subsample=0.5 will be ignored. Current value: bagging_fraction=0.681669572588735\n",
      "[LightGBM] [Warning] bagging_freq is set=3, subsample_freq=0 will be ignored. Current value: bagging_freq=3\n",
      "Training until validation scores don't improve for 100 rounds\n",
      "[100]\ttraining's l1: 0.824582\tvalid_1's l1: 1.11196\n",
      "[200]\ttraining's l1: 0.807621\tvalid_1's l1: 1.10804\n",
      "[300]\ttraining's l1: 0.789257\tvalid_1's l1: 1.11414\n"
     ]
    },
    {
     "name": "stderr",
     "output_type": "stream",
     "text": [
      "\u001b[32m[I 2021-07-06 12:52:31,824]\u001b[0m Trial 90 finished with value: -1.1068156703034058 and parameters: {'max_depth': 12, 'min_child_weight': 8, 'subsample': 0.5, 'colsample_bytree': 0.6, 'reg_lambda': 0.47389998855066195, 'reg_alpha': 0.010985974239549633, 'feature_fraction': 0.7085059143414448, 'bagging_fraction': 0.681669572588735, 'bagging_freq': 3}. Best is trial 0 with value: -1.0963930025165227.\u001b[0m\n"
     ]
    },
    {
     "name": "stdout",
     "output_type": "stream",
     "text": [
      "Early stopping, best iteration is:\n",
      "[208]\ttraining's l1: 0.806135\tvalid_1's l1: 1.10688\n",
      "[LightGBM] [Warning] feature_fraction is set=0.7380155814401823, colsample_bytree=0.7 will be ignored. Current value: feature_fraction=0.7380155814401823\n",
      "[LightGBM] [Warning] bagging_fraction is set=0.7958935123173733, subsample=0.6 will be ignored. Current value: bagging_fraction=0.7958935123173733\n",
      "[LightGBM] [Warning] bagging_freq is set=6, subsample_freq=0 will be ignored. Current value: bagging_freq=6\n",
      "Training until validation scores don't improve for 100 rounds\n",
      "[100]\ttraining's l1: 0.83013\tvalid_1's l1: 1.11868\n",
      "[200]\ttraining's l1: 0.808376\tvalid_1's l1: 1.11131\n",
      "[300]\ttraining's l1: 0.794463\tvalid_1's l1: 1.10707\n",
      "[400]\ttraining's l1: 0.78285\tvalid_1's l1: 1.10594\n"
     ]
    },
    {
     "name": "stderr",
     "output_type": "stream",
     "text": [
      "\u001b[32m[I 2021-07-06 12:52:49,998]\u001b[0m Trial 91 finished with value: -1.1052565344657965 and parameters: {'max_depth': 17, 'min_child_weight': 11, 'subsample': 0.6, 'colsample_bytree': 0.7, 'reg_lambda': 0.453833042269105, 'reg_alpha': 1.3503322696268092, 'feature_fraction': 0.7380155814401823, 'bagging_fraction': 0.7958935123173733, 'bagging_freq': 6}. Best is trial 0 with value: -1.0963930025165227.\u001b[0m\n"
     ]
    },
    {
     "name": "stdout",
     "output_type": "stream",
     "text": [
      "Early stopping, best iteration is:\n",
      "[392]\ttraining's l1: 0.784506\tvalid_1's l1: 1.10544\n",
      "[LightGBM] [Warning] feature_fraction is set=0.9525897778952178, colsample_bytree=0.5 will be ignored. Current value: feature_fraction=0.9525897778952178\n",
      "[LightGBM] [Warning] bagging_fraction is set=0.7483600485388296, subsample=0.6 will be ignored. Current value: bagging_fraction=0.7483600485388296\n",
      "[LightGBM] [Warning] bagging_freq is set=6, subsample_freq=0 will be ignored. Current value: bagging_freq=6\n",
      "Training until validation scores don't improve for 100 rounds\n",
      "[100]\ttraining's l1: 0.829857\tvalid_1's l1: 1.11722\n",
      "[200]\ttraining's l1: 0.820133\tvalid_1's l1: 1.11015\n",
      "[300]\ttraining's l1: 0.808332\tvalid_1's l1: 1.10681\n",
      "[400]\ttraining's l1: 0.794145\tvalid_1's l1: 1.1081\n",
      "[500]\ttraining's l1: 0.773915\tvalid_1's l1: 1.1053\n",
      "Early stopping, best iteration is:\n",
      "[468]\ttraining's l1: 0.779823\tvalid_1's l1: 1.10338\n"
     ]
    },
    {
     "name": "stderr",
     "output_type": "stream",
     "text": [
      "\u001b[32m[I 2021-07-06 12:53:11,079]\u001b[0m Trial 92 finished with value: -1.1032589583941759 and parameters: {'max_depth': 19, 'min_child_weight': 10, 'subsample': 0.6, 'colsample_bytree': 0.5, 'reg_lambda': 1.4812687779242237, 'reg_alpha': 0.5731775485479381, 'feature_fraction': 0.9525897778952178, 'bagging_fraction': 0.7483600485388296, 'bagging_freq': 6}. Best is trial 0 with value: -1.0963930025165227.\u001b[0m\n"
     ]
    },
    {
     "name": "stdout",
     "output_type": "stream",
     "text": [
      "[LightGBM] [Warning] feature_fraction is set=0.6532961973878691, colsample_bytree=0.5 will be ignored. Current value: feature_fraction=0.6532961973878691\n",
      "[LightGBM] [Warning] bagging_fraction is set=0.7315381403180223, subsample=0.6 will be ignored. Current value: bagging_fraction=0.7315381403180223\n",
      "[LightGBM] [Warning] bagging_freq is set=5, subsample_freq=0 will be ignored. Current value: bagging_freq=5\n",
      "Training until validation scores don't improve for 100 rounds\n",
      "[100]\ttraining's l1: 0.823105\tvalid_1's l1: 1.11195\n",
      "[200]\ttraining's l1: 0.803932\tvalid_1's l1: 1.11054\n",
      "[300]\ttraining's l1: 0.794138\tvalid_1's l1: 1.10871\n"
     ]
    },
    {
     "name": "stderr",
     "output_type": "stream",
     "text": [
      "\u001b[32m[I 2021-07-06 12:53:23,057]\u001b[0m Trial 93 finished with value: -1.1082370296672688 and parameters: {'max_depth': 19, 'min_child_weight': 9, 'subsample': 0.6, 'colsample_bytree': 0.5, 'reg_lambda': 0.26359398136244777, 'reg_alpha': 0.18086847081516538, 'feature_fraction': 0.6532961973878691, 'bagging_fraction': 0.7315381403180223, 'bagging_freq': 5}. Best is trial 0 with value: -1.0963930025165227.\u001b[0m\n"
     ]
    },
    {
     "name": "stdout",
     "output_type": "stream",
     "text": [
      "Early stopping, best iteration is:\n",
      "[212]\ttraining's l1: 0.801816\tvalid_1's l1: 1.10829\n",
      "[LightGBM] [Warning] feature_fraction is set=0.7776410476074972, colsample_bytree=0.5 will be ignored. Current value: feature_fraction=0.7776410476074972\n",
      "[LightGBM] [Warning] bagging_fraction is set=0.7439269511193656, subsample=0.6 will be ignored. Current value: bagging_fraction=0.7439269511193656\n",
      "[LightGBM] [Warning] bagging_freq is set=7, subsample_freq=0 will be ignored. Current value: bagging_freq=7\n",
      "Training until validation scores don't improve for 100 rounds\n",
      "[100]\ttraining's l1: 0.831506\tvalid_1's l1: 1.11622\n",
      "[200]\ttraining's l1: 0.803711\tvalid_1's l1: 1.10334\n",
      "[300]\ttraining's l1: 0.781039\tvalid_1's l1: 1.10372\n"
     ]
    },
    {
     "name": "stderr",
     "output_type": "stream",
     "text": [
      "\u001b[32m[I 2021-07-06 12:53:35,992]\u001b[0m Trial 94 finished with value: -1.102147712177486 and parameters: {'max_depth': 11, 'min_child_weight': 11, 'subsample': 0.6, 'colsample_bytree': 0.5, 'reg_lambda': 0.7602661451999418, 'reg_alpha': 0.2792205937296123, 'feature_fraction': 0.7776410476074972, 'bagging_fraction': 0.7439269511193656, 'bagging_freq': 7}. Best is trial 0 with value: -1.0963930025165227.\u001b[0m\n"
     ]
    },
    {
     "name": "stdout",
     "output_type": "stream",
     "text": [
      "Early stopping, best iteration is:\n",
      "[237]\ttraining's l1: 0.796019\tvalid_1's l1: 1.1023\n",
      "[LightGBM] [Warning] feature_fraction is set=0.6953544964039763, colsample_bytree=0.7 will be ignored. Current value: feature_fraction=0.6953544964039763\n",
      "[LightGBM] [Warning] bagging_fraction is set=0.6490765736490229, subsample=0.8 will be ignored. Current value: bagging_fraction=0.6490765736490229\n",
      "[LightGBM] [Warning] bagging_freq is set=6, subsample_freq=0 will be ignored. Current value: bagging_freq=6\n",
      "Training until validation scores don't improve for 100 rounds\n",
      "[100]\ttraining's l1: 0.819092\tvalid_1's l1: 1.11233\n",
      "[200]\ttraining's l1: 0.795013\tvalid_1's l1: 1.10635\n",
      "[300]\ttraining's l1: 0.775077\tvalid_1's l1: 1.10409\n",
      "[400]\ttraining's l1: 0.757562\tvalid_1's l1: 1.11008\n"
     ]
    },
    {
     "name": "stderr",
     "output_type": "stream",
     "text": [
      "\u001b[32m[I 2021-07-06 12:53:50,051]\u001b[0m Trial 95 finished with value: -1.103340657909812 and parameters: {'max_depth': 20, 'min_child_weight': 9, 'subsample': 0.8, 'colsample_bytree': 0.7, 'reg_lambda': 2.3297896553174526, 'reg_alpha': 0.11824913192101719, 'feature_fraction': 0.6953544964039763, 'bagging_fraction': 0.6490765736490229, 'bagging_freq': 6}. Best is trial 0 with value: -1.0963930025165227.\u001b[0m\n"
     ]
    },
    {
     "name": "stdout",
     "output_type": "stream",
     "text": [
      "Early stopping, best iteration is:\n",
      "[314]\ttraining's l1: 0.772646\tvalid_1's l1: 1.10357\n",
      "[LightGBM] [Warning] feature_fraction is set=0.9298041474366848, colsample_bytree=0.6 will be ignored. Current value: feature_fraction=0.9298041474366848\n",
      "[LightGBM] [Warning] bagging_fraction is set=0.5799682569336954, subsample=0.6 will be ignored. Current value: bagging_fraction=0.5799682569336954\n",
      "[LightGBM] [Warning] bagging_freq is set=8, subsample_freq=0 will be ignored. Current value: bagging_freq=8\n",
      "Training until validation scores don't improve for 100 rounds\n",
      "[100]\ttraining's l1: 0.822212\tvalid_1's l1: 1.1106\n",
      "[200]\ttraining's l1: 0.815963\tvalid_1's l1: 1.10946\n",
      "[300]\ttraining's l1: 0.812115\tvalid_1's l1: 1.1074\n",
      "[400]\ttraining's l1: 0.806482\tvalid_1's l1: 1.10483\n",
      "[500]\ttraining's l1: 0.794228\tvalid_1's l1: 1.10179\n"
     ]
    },
    {
     "name": "stderr",
     "output_type": "stream",
     "text": [
      "\u001b[32m[I 2021-07-06 12:54:06,750]\u001b[0m Trial 96 finished with value: -1.1010618247688284 and parameters: {'max_depth': 17, 'min_child_weight': 7, 'subsample': 0.6, 'colsample_bytree': 0.6, 'reg_lambda': 0.13143486920656666, 'reg_alpha': 0.05443417489653837, 'feature_fraction': 0.9298041474366848, 'bagging_fraction': 0.5799682569336954, 'bagging_freq': 8}. Best is trial 0 with value: -1.0963930025165227.\u001b[0m\n"
     ]
    },
    {
     "name": "stdout",
     "output_type": "stream",
     "text": [
      "Early stopping, best iteration is:\n",
      "[453]\ttraining's l1: 0.798998\tvalid_1's l1: 1.10116\n",
      "[LightGBM] [Warning] feature_fraction is set=0.8023718777997131, colsample_bytree=0.5 will be ignored. Current value: feature_fraction=0.8023718777997131\n",
      "[LightGBM] [Warning] bagging_fraction is set=0.7688021861169946, subsample=0.7 will be ignored. Current value: bagging_fraction=0.7688021861169946\n",
      "[LightGBM] [Warning] bagging_freq is set=6, subsample_freq=0 will be ignored. Current value: bagging_freq=6\n",
      "Training until validation scores don't improve for 100 rounds\n",
      "[100]\ttraining's l1: 0.826656\tvalid_1's l1: 1.1109\n",
      "[200]\ttraining's l1: 0.816836\tvalid_1's l1: 1.10589\n",
      "[300]\ttraining's l1: 0.802591\tvalid_1's l1: 1.10405\n",
      "[400]\ttraining's l1: 0.792683\tvalid_1's l1: 1.10442\n"
     ]
    },
    {
     "name": "stderr",
     "output_type": "stream",
     "text": [
      "\u001b[32m[I 2021-07-06 12:54:24,913]\u001b[0m Trial 97 finished with value: -1.103103189373994 and parameters: {'max_depth': 14, 'min_child_weight': 13, 'subsample': 0.7, 'colsample_bytree': 0.5, 'reg_lambda': 0.003887476191041589, 'reg_alpha': 0.0019964814066875036, 'feature_fraction': 0.8023718777997131, 'bagging_fraction': 0.7688021861169946, 'bagging_freq': 6}. Best is trial 0 with value: -1.0963930025165227.\u001b[0m\n"
     ]
    },
    {
     "name": "stdout",
     "output_type": "stream",
     "text": [
      "Early stopping, best iteration is:\n",
      "[372]\ttraining's l1: 0.796267\tvalid_1's l1: 1.10323\n",
      "[LightGBM] [Warning] feature_fraction is set=0.7593306296759259, colsample_bytree=0.8 will be ignored. Current value: feature_fraction=0.7593306296759259\n",
      "[LightGBM] [Warning] bagging_fraction is set=0.7208698565517003, subsample=0.6 will be ignored. Current value: bagging_fraction=0.7208698565517003\n",
      "[LightGBM] [Warning] bagging_freq is set=5, subsample_freq=0 will be ignored. Current value: bagging_freq=5\n",
      "Training until validation scores don't improve for 100 rounds\n",
      "[100]\ttraining's l1: 0.822023\tvalid_1's l1: 1.11205\n",
      "[200]\ttraining's l1: 0.811466\tvalid_1's l1: 1.10675\n",
      "[300]\ttraining's l1: 0.797953\tvalid_1's l1: 1.10438\n",
      "[400]\ttraining's l1: 0.784797\tvalid_1's l1: 1.10573\n"
     ]
    },
    {
     "name": "stderr",
     "output_type": "stream",
     "text": [
      "\u001b[32m[I 2021-07-06 12:54:40,341]\u001b[0m Trial 98 finished with value: -1.1026539614643385 and parameters: {'max_depth': 5, 'min_child_weight': 10, 'subsample': 0.6, 'colsample_bytree': 0.8, 'reg_lambda': 0.016358988651556893, 'reg_alpha': 0.0032861945309011317, 'feature_fraction': 0.7593306296759259, 'bagging_fraction': 0.7208698565517003, 'bagging_freq': 5}. Best is trial 0 with value: -1.0963930025165227.\u001b[0m\n"
     ]
    },
    {
     "name": "stdout",
     "output_type": "stream",
     "text": [
      "Early stopping, best iteration is:\n",
      "[329]\ttraining's l1: 0.794518\tvalid_1's l1: 1.10278\n",
      "[LightGBM] [Warning] feature_fraction is set=0.6756727650770824, colsample_bytree=0.6 will be ignored. Current value: feature_fraction=0.6756727650770824\n",
      "[LightGBM] [Warning] bagging_fraction is set=0.8388402878129901, subsample=0.5 will be ignored. Current value: bagging_fraction=0.8388402878129901\n",
      "[LightGBM] [Warning] bagging_freq is set=4, subsample_freq=0 will be ignored. Current value: bagging_freq=4\n",
      "Training until validation scores don't improve for 100 rounds\n",
      "[100]\ttraining's l1: 0.821086\tvalid_1's l1: 1.11249\n",
      "[200]\ttraining's l1: 0.794486\tvalid_1's l1: 1.10764\n",
      "[300]\ttraining's l1: 0.769793\tvalid_1's l1: 1.11304\n"
     ]
    },
    {
     "name": "stderr",
     "output_type": "stream",
     "text": [
      "\u001b[32m[I 2021-07-06 12:54:54,033]\u001b[0m Trial 99 finished with value: -1.107038435089636 and parameters: {'max_depth': 13, 'min_child_weight': 8, 'subsample': 0.5, 'colsample_bytree': 0.6, 'reg_lambda': 0.005770004215823301, 'reg_alpha': 0.40111338533317087, 'feature_fraction': 0.6756727650770824, 'bagging_fraction': 0.8388402878129901, 'bagging_freq': 4}. Best is trial 0 with value: -1.0963930025165227.\u001b[0m\n"
     ]
    },
    {
     "name": "stdout",
     "output_type": "stream",
     "text": [
      "Early stopping, best iteration is:\n",
      "[210]\ttraining's l1: 0.790568\tvalid_1's l1: 1.10718\n",
      "Number of finished trials: 100\n",
      "Best trial: {'max_depth': 12, 'min_child_weight': 19, 'subsample': 0.6, 'colsample_bytree': 0.9, 'reg_lambda': 0.004917860519593217, 'reg_alpha': 0.3689121532996565, 'feature_fraction': 0.606088662836255, 'bagging_fraction': 0.8145757439790631, 'bagging_freq': 4}\n"
     ]
    }
   ],
   "source": [
    "study4 = optuna.create_study(direction='maximize')\n",
    "study4.optimize(fit_lgbm(x_train[feature_cols4], y_train['target4'], x_valid[feature_cols4], y_valid['target4'], learning_rates[3]), n_trials=100)\n",
    "\n",
    "print('Number of finished trials:', len(study4.trials))\n",
    "print('Best trial:', study4.best_trial.params)"
   ]
  },
  {
   "cell_type": "code",
   "execution_count": 46,
   "id": "a869cbd1",
   "metadata": {},
   "outputs": [
    {
     "data": {
      "text/plain": [
       "{'max_depth': 5,\n",
       " 'min_child_weight': 20,\n",
       " 'subsample': 0.6,\n",
       " 'colsample_bytree': 0.7,\n",
       " 'reg_lambda': 0.32582268128965863,\n",
       " 'reg_alpha': 1.066490003542216,\n",
       " 'feature_fraction': 0.9520516223761551,\n",
       " 'bagging_fraction': 0.7430126307406206,\n",
       " 'bagging_freq': 2}"
      ]
     },
     "execution_count": 46,
     "metadata": {},
     "output_type": "execute_result"
    }
   ],
   "source": [
    "study1.best_trial.params"
   ]
  },
  {
   "cell_type": "code",
   "execution_count": 47,
   "id": "71b31e1c",
   "metadata": {},
   "outputs": [
    {
     "data": {
      "text/plain": [
       "{'max_depth': 3,\n",
       " 'min_child_weight': 20,\n",
       " 'subsample': 0.9,\n",
       " 'colsample_bytree': 0.9,\n",
       " 'reg_lambda': 401.46823222466355,\n",
       " 'reg_alpha': 176.62619815852787,\n",
       " 'feature_fraction': 0.774470261363649,\n",
       " 'bagging_fraction': 0.42651313721017786,\n",
       " 'bagging_freq': 7}"
      ]
     },
     "execution_count": 47,
     "metadata": {},
     "output_type": "execute_result"
    }
   ],
   "source": [
    "study2.best_trial.params"
   ]
  },
  {
   "cell_type": "code",
   "execution_count": 48,
   "id": "23afb240",
   "metadata": {},
   "outputs": [
    {
     "data": {
      "text/plain": [
       "{'max_depth': 5,\n",
       " 'min_child_weight': 5,\n",
       " 'subsample': 0.8,\n",
       " 'colsample_bytree': 0.9,\n",
       " 'reg_lambda': 0.43425672055975933,\n",
       " 'reg_alpha': 5.862680985950459,\n",
       " 'feature_fraction': 0.9307124925898922,\n",
       " 'bagging_fraction': 0.6885956248704295,\n",
       " 'bagging_freq': 6}"
      ]
     },
     "execution_count": 48,
     "metadata": {},
     "output_type": "execute_result"
    }
   ],
   "source": [
    "study3.best_trial.params"
   ]
  },
  {
   "cell_type": "code",
   "execution_count": 49,
   "id": "8eb004a2",
   "metadata": {},
   "outputs": [
    {
     "data": {
      "text/plain": [
       "{'max_depth': 12,\n",
       " 'min_child_weight': 19,\n",
       " 'subsample': 0.6,\n",
       " 'colsample_bytree': 0.9,\n",
       " 'reg_lambda': 0.004917860519593217,\n",
       " 'reg_alpha': 0.3689121532996565,\n",
       " 'feature_fraction': 0.606088662836255,\n",
       " 'bagging_fraction': 0.8145757439790631,\n",
       " 'bagging_freq': 4}"
      ]
     },
     "execution_count": 49,
     "metadata": {},
     "output_type": "execute_result"
    }
   ],
   "source": [
    "study4.best_trial.params"
   ]
  },
  {
   "cell_type": "code",
   "execution_count": null,
   "id": "90eaf319",
   "metadata": {},
   "outputs": [],
   "source": []
  }
 ],
 "metadata": {
  "kernelspec": {
   "display_name": "Python 3",
   "language": "python",
   "name": "python3"
  },
  "language_info": {
   "codemirror_mode": {
    "name": "ipython",
    "version": 3
   },
   "file_extension": ".py",
   "mimetype": "text/x-python",
   "name": "python",
   "nbconvert_exporter": "python",
   "pygments_lexer": "ipython3",
   "version": "3.6.13"
  }
 },
 "nbformat": 4,
 "nbformat_minor": 5
}
